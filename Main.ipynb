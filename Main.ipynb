{
 "cells": [
  {
   "cell_type": "markdown",
   "metadata": {},
   "source": [
    "## Preambule"
   ]
  },
  {
   "cell_type": "code",
   "execution_count": 1,
   "metadata": {},
   "outputs": [],
   "source": [
    "import numpy as np\n",
    "from tqdm import tqdm\n",
    "from importlib import reload\n",
    "import matplotlib.pyplot as plt\n",
    "import xarray as xr\n",
    "import pandas as pd\n",
    "from scipy.optimize import curve_fit\n",
    "from scipy.signal import savgol_filter\n",
    "import warnings\n",
    "warnings.simplefilter(action='ignore', category=FutureWarning)"
   ]
  },
  {
   "cell_type": "markdown",
   "metadata": {},
   "source": [
    "## Run classes"
   ]
  },
  {
   "cell_type": "code",
   "execution_count": 2,
   "metadata": {},
   "outputs": [
    {
     "name": "stdout",
     "output_type": "stream",
     "text": [
      "# ==================================== #\n",
      "# Initializing datareading class     #\n",
      "# ==================================== #\n",
      "- Reading general data\n",
      "- Reading GDP and population data from SSPs\n",
      "- Reading UN population data (for past population)\n",
      "- Reading historical emissions (primap)\n",
      "- Read AR6 data\n",
      "- Get relationship between CO2 budgets and non-co2 reduction in 2050\n",
      "- Computing global nonco2 trajectories\n",
      "- Get global CO2 budgets\n",
      "- Computing global co2 trajectories\n",
      "- Reading baseline emissions\n",
      "- Reading NDC data\n",
      "- Merging xrarray object\n",
      "- Add country groups\n",
      "- Save important files\n",
      "- Some pre-calculations for the AP allocation rule\n",
      "- Some pre-calculations for the GDR allocation rule\n"
     ]
    }
   ],
   "source": [
    "import class_datareading\n",
    "reload(class_datareading)\n",
    "from class_datareading import datareading\n",
    "\n",
    "datareader = datareading()\n",
    "datareader.read_general()\n",
    "datareader.read_ssps()\n",
    "datareader.read_undata()\n",
    "datareader.read_historicalemis()\n",
    "datareader.read_ar6()\n",
    "datareader.relation_budget_nonco2()\n",
    "datareader.determine_global_nonco2_trajectories()\n",
    "datareader.determine_global_budgets()\n",
    "datareader.determine_global_co2_trajectories()\n",
    "datareader.read_baseline()\n",
    "datareader.read_ndc() \n",
    "datareader.merge_xr()\n",
    "datareader.add_country_groups()\n",
    "datareader.save()"
   ]
  },
  {
   "cell_type": "code",
   "execution_count": 56,
   "metadata": {},
   "outputs": [
    {
     "name": "stderr",
     "output_type": "stream",
     "text": [
      "100%|██████████| 1/1 [00:38<00:00, 38.40s/it]\n"
     ]
    }
   ],
   "source": [
    "import class_allocation\n",
    "\n",
    "reload(class_allocation)\n",
    "from class_allocation import allocation\n",
    "\n",
    "for cty in tqdm(['NLD']):#np.array(datareader.xr_total.Region)):\n",
    "    allocator = allocation(cty)\n",
    "    allocator.gf()  \n",
    "    allocator.pc()\n",
    "    allocator.pcc()\n",
    "    allocator.ecpc()\n",
    "    allocator.ap()\n",
    "    allocator.gdr()\n",
    "    allocator.save()"
   ]
  },
  {
   "cell_type": "code",
   "execution_count": 10,
   "metadata": {},
   "outputs": [
    {
     "name": "stdout",
     "output_type": "stream",
     "text": [
      "<xarray.DataArray 'EffectOnRCB' (NonCO2red: 1)>\n",
      "array([526.9967535])\n",
      "Coordinates:\n",
      "    Temperature  float64 1.5\n",
      "  * NonCO2red    (NonCO2red) float64 0.53\n"
     ]
    }
   ],
   "source": [
    "self = datareader\n",
    "df_raw = pd.read_excel(\"X:/user/dekkerm/Data/IPCC/CarbonBudgets_IPCC.xlsx\", sheet_name='Sheet1')\n",
    "df = df_raw.rename(columns={'Budget_17': 0.17, 'Budget_33': 0.33, 'Budget_50': 0.50, 'Budget_67': 0.67, 'Budget_83': 0.83})\n",
    "dummy = df.melt(id_vars=[\"Temperature\"], var_name=\"Probability\", value_name=\"Budget\")\n",
    "dummy = dummy.set_index([\"Temperature\", \"Probability\"])\n",
    "dummy['Budget'] = dummy['Budget'] - float(self.xr_primap.sel(Region='EARTH', Time=2020).CO2_hist)/1e3\n",
    "xr_bud_co2 = xr.Dataset.from_dataframe(dummy)\n",
    "\n",
    "# # Fit nonco2 reduction in forster to different T levels\n",
    "# tot_2050 = np.zeros(3)\n",
    "# for T_i, T in enumerate([1.5, 1.7, 2.0]):\n",
    "#         tot_2050[T_i] = ch4_2020*(1-[0.48, 0.47, 0.35][T_i]) + n2o_2020*(1-[0.25, 0.15, 0.09][T_i])\n",
    "# forster_red = tot_2050/np.array(tot_2020)\n",
    "# f_a, f_b = np.polyfit(np.array([1.5, 1.7, 2.0]), forster_red, 1)\n",
    "\n",
    "def ms_temp(T):\n",
    "    peaktemp = self.xr_ar6.sel(Variable='AR6 climate diagnostics|Surface Temperature (GSAT)|MAGICCv7.5.3|50.0th Percentile').Value.max(dim='Time')\n",
    "    return self.xr_ar6.ModelScenario[np.where((peaktemp < T+0.1) & (peaktemp > T-0.1))[0]]\n",
    "    \n",
    "# Determine bunker emissions to subtract from global budget\n",
    "bunker_subtraction = []\n",
    "for t_i, t in enumerate(self.Tlist):\n",
    "    ms = ms_temp(t)\n",
    "    bunker_subtraction += [3.3/100] # Assuming bunker emissions keep constant (3.3% of global emissions) - https://www.pbl.nl/sites/default/files/downloads/pbl-2020-analysing-international-shipping-and-aviation-emissions-projections_4076.pdf\n",
    "\n",
    "# Interpolate\n",
    "n2o_2020 = self.xr_primap.sel(Region='EARTH').sel(Time=2020).N2O_hist*self.settings['params']['gwp_n2o']/1e3\n",
    "ch4_2020 = self.xr_primap.sel(Region='EARTH').sel(Time=2020).CH4_hist*self.settings['params']['gwp_ch4']/1e3\n",
    "tot_2020 = n2o_2020+ch4_2020\n",
    "Blist = np.zeros(shape=(len(self.Tlist), len(self.Plist), len(self.NonCO2list)))+np.nan\n",
    "for p_i, p in enumerate(self.Plist):\n",
    "    a, b = np.polyfit(xr_bud_co2.Temperature, xr_bud_co2.sel(Probability = np.round(p, 2)).Budget, 1)\n",
    "    for t_i, t in enumerate(self.Tlist):\n",
    "        median_budget = (a*t+b)*(1-bunker_subtraction[t_i])\n",
    "        #implied_leftover_median = f_a*t+f_b\n",
    "        for n_i, n in enumerate(self.NonCO2list):\n",
    "                ar = np.array((((self.xr_traj_nonco2.sel(NonCO2red=n, Time=2040, Temperature=t).mean(dim='Timing')-tot_2020) / tot_2020).round(2)).NonCO2_globe)\n",
    "                ar = ar[~np.isnan(ar)]\n",
    "                ar[ar > 0] =0\n",
    "                ar[ar < -0.8] = -0.8\n",
    "                nonco2effect = self.xr_nonco2effects.sel(Temperature=1.5, NonCO2red=-ar.round(2)).EffectOnRCB\n",
    "                Blist[t_i, p_i, n_i] = median_budget+nonco2effect#*(n-implied_leftover_median)\n",
    "                if p == 0.5 and t == 1.5 and n == 0.5: print(median_budget+nonco2effect)\n",
    "data2 = xr.DataArray(Blist,\n",
    "                    coords={'Temperature': self.Tlist,\n",
    "                            'Risk': (1-self.Plist).astype(float).round(2),\n",
    "                            'NonCO2red': self.NonCO2list},\n",
    "                    dims=['Temperature', 'Risk', 'NonCO2red'])\n",
    "self.xr_co2_budgets = xr.Dataset({'Budget': data2})"
   ]
  },
  {
   "cell_type": "code",
   "execution_count": 6,
   "metadata": {},
   "outputs": [
    {
     "name": "stdout",
     "output_type": "stream",
     "text": [
      "# ==================================== #\n",
      "# Initializing tempaligning class        #\n",
      "# ==================================== #\n",
      "- Determine relation between 2030-emissions and temperature outcome\n",
      "- Determine temperature metric\n"
     ]
    },
    {
     "name": "stderr",
     "output_type": "stream",
     "text": [
      "100%|██████████| 6/6 [00:53<00:00,  8.99s/it]\n"
     ]
    },
    {
     "name": "stdout",
     "output_type": "stream",
     "text": [
      "- Save\n"
     ]
    }
   ],
   "source": [
    "import class_tempalign\n",
    "reload(class_tempalign)\n",
    "from class_tempalign import tempaligning\n",
    "\n",
    "tempaligner = tempaligning() # FIRST RUN AGGREGATOR FOR THIS!! (2030 alloc)\n",
    "tempaligner.get_relation_2030emis_temp()\n",
    "tempaligner.determine_tempoutcomes()\n",
    "tempaligner.save()"
   ]
  },
  {
   "cell_type": "code",
   "execution_count": 4,
   "metadata": {},
   "outputs": [
    {
     "name": "stdout",
     "output_type": "stream",
     "text": [
      "# ==================================== #\n",
      "# Initializing policyscenadding class  #\n",
      "# ==================================== #\n",
      "- Read ENGAGE scenarios and change region namings\n",
      "- Filter correct scenarios and convert to xarray object\n",
      "- Add to overall xrobject\n"
     ]
    }
   ],
   "source": [
    "import class_policyscens\n",
    "reload(class_policyscens)\n",
    "from class_policyscens import policyscenadding\n",
    "\n",
    "policyscenner = policyscenadding()\n",
    "policyscenner.read_engage_data()\n",
    "policyscenner.filter_and_convert()\n",
    "policyscenner.add_to_xr()"
   ]
  }
 ],
 "metadata": {
  "interpreter": {
   "hash": "36d5d389870ab01fa625d0d5123f82469a3683fa0e02c4f7e9e76e9a75345aa3"
  },
  "kernelspec": {
   "display_name": "Python 3.9.11 ('MyEnv')",
   "language": "python",
   "name": "python3"
  },
  "language_info": {
   "codemirror_mode": {
    "name": "ipython",
    "version": 3
   },
   "file_extension": ".py",
   "mimetype": "text/x-python",
   "name": "python",
   "nbconvert_exporter": "python",
   "pygments_lexer": "ipython3",
   "version": "3.12.1"
  },
  "orig_nbformat": 4
 },
 "nbformat": 4,
 "nbformat_minor": 2
}
