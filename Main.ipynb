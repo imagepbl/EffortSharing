{
 "cells": [
  {
   "cell_type": "markdown",
   "metadata": {},
   "source": [
    "## Preambule"
   ]
  },
  {
   "cell_type": "code",
   "execution_count": 150,
   "metadata": {},
   "outputs": [],
   "source": [
    "import numpy as np\n",
    "from tqdm import tqdm\n",
    "from importlib import reload\n",
    "import matplotlib.pyplot as plt\n",
    "import xarray as xr\n",
    "import pandas as pd\n",
    "import scipy\n",
    "from scipy.signal import savgol_filter"
   ]
  },
  {
   "cell_type": "markdown",
   "metadata": {},
   "source": [
    "## Run classes"
   ]
  },
  {
   "cell_type": "code",
   "execution_count": 2,
   "metadata": {},
   "outputs": [
    {
     "name": "stdout",
     "output_type": "stream",
     "text": [
      "# ==================================== #\n",
      "# Initializing datareading class     #\n",
      "# ==================================== #\n",
      "- Reading general data\n",
      "- Reading GDP and population data from SSPs\n",
      "- Reading UN population data (for past population)\n",
      "- Reading historical emissions (primap)\n",
      "- Read AR6 data\n"
     ]
    }
   ],
   "source": [
    "import class_datareading\n",
    "reload(class_datareading)\n",
    "from class_datareading import datareading\n",
    "\n",
    "datareader = datareading()\n",
    "datareader.read_general()\n",
    "datareader.read_ssps()\n",
    "datareader.read_undata()\n",
    "datareader.read_historicalemis()\n",
    "datareader.read_ar6()\n",
    "# datareader.determine_global_budgets()\n",
    "# datareader.determine_global_trajectories()\n",
    "# datareader.read_baseline()\n",
    "# datareader.read_ndc()\n",
    "# datareader.merge_xr()\n",
    "# datareader.add_country_groups()\n",
    "# datareader.save()"
   ]
  },
  {
   "cell_type": "code",
   "execution_count": 3,
   "metadata": {},
   "outputs": [],
   "source": [
    "self = datareader"
   ]
  },
  {
   "cell_type": "code",
   "execution_count": null,
   "metadata": {},
   "outputs": [],
   "source": [
    "# CO2 budgets\n",
    "df_budgets = pd.read_csv(\"X:/user/dekkerm/Data/Budgets_Forster2023/ClimateIndicator-data-ed37002/data/carbon_budget/updateMAGICCscen_temp2013_2022-budget.csv\")\n",
    "df_budgets = df_budgets[[\"dT_targets\", \"0.1\", \"0.17\", \"0.33\", \"0.5\", \"0.66\", \"0.83\", '0.9']]\n",
    "dummy = df_budgets.melt(id_vars=[\"dT_targets\"], var_name=\"Probability\", value_name=\"Budget\")\n",
    "ar = np.array(dummy['Probability'])\n",
    "ar = ar.astype(float).round(2)\n",
    "ar[ar == 0.66] = 0.67\n",
    "dummy['Probability'] = ar\n",
    "dummy['dT_targets'] = dummy['dT_targets'].astype(float).round(1)\n",
    "dummy = dummy.set_index([\"dT_targets\", \"Probability\"])\n",
    "dummy['Budget'] = dummy['Budget'] + float(self.xr_primap.sel(Region='EARTH', Time=2021).CO2_hist)/1e3 + 40.9 # from Forster 2023 for the year 2022 -> 1 Jan 2021 as starting year! So not + float(self.xr_primap.sel(Region='EARTH', Time=2020).CO2_hist)/1e3 \n",
    "xr_bud_co2 = xr.Dataset.from_dataframe(dummy)\n",
    "xr_bud_co2 = xr_bud_co2.rename({'dT_targets': \"Temperature\"}).sel(Temperature = [1.5, 1.7, 2.0])\n",
    "\n",
    "# Interpolate\n",
    "Blist = np.zeros(shape=(len(self.Tlist), len(self.Plist)))+np.nan\n",
    "for p_i, p in enumerate(self.Plist):\n",
    "    a, b = np.polyfit(xr_bud_co2.Temperature, xr_bud_co2.sel(Probability = np.round(p, 2)).Budget, 1)\n",
    "    for t_i, t in enumerate(self.Tlist): # Interpolate only on the level of temperature\n",
    "        Blist[t_i, p_i] = a*t+b\n",
    "data2 = xr.DataArray(Blist,\n",
    "                    coords={'Temperature': self.Tlist,\n",
    "                            'Risk': (1-self.Plist).astype(float).round(2)},\n",
    "                    dims=['Temperature', 'Risk'])\n",
    "self.xr_co2_budgets = xr.Dataset({'Budget': data2})"
   ]
  },
  {
   "cell_type": "code",
   "execution_count": 243,
   "metadata": {},
   "outputs": [],
   "source": [
    "# Non-CO2 trajectories\n",
    "ch4_hist_2020 = self.xr_primap.sel(Region='EARTH').sel(Time=2020).CH4_hist\n",
    "n2o_hist_2020 = self.xr_primap.sel(Region='EARTH').sel(Time=2020).N2O_hist*1e3\n",
    "\n",
    "# Rescale CH4 and N2O trajectories\n",
    "compensation_form = np.array(list(np.linspace(0, 1, len(np.arange(self.settings['params']['start_year_analysis'], 2050))))+[1]*len(np.arange(2050, 2101)))\n",
    "xr_comp =  xr.DataArray(1-compensation_form, dims=['Time'], coords={'Time': np.arange(self.settings['params']['start_year_analysis'], 2101)})\n",
    "\n",
    "xr_ch4_raw = self.xr_ar6.sel(Variable='Emissions|CH4', Time=np.arange(2021, 2101))\n",
    "offset = xr_ch4_raw.sel(Time = 2021) - float(self.xr_primap.sel(Time=2021, Region='EARTH').CH4_hist)\n",
    "xr_ch4 = (-xr_comp*offset+xr_ch4_raw)#*self.settings['params']['gwp_ch4']/1e3\n",
    "\n",
    "xr_n2o_raw = self.xr_ar6.sel(Variable='Emissions|N2O', Time=np.arange(2021, 2101))\n",
    "offset = xr_n2o_raw.sel(Time = 2021) - float(self.xr_primap.sel(Time=2021, Region='EARTH').N2O_hist)*1e3\n",
    "xr_n2o = (-xr_comp*offset+xr_n2o_raw)#*self.settings['params']['gwp_n2o']/1e3\n",
    "\n",
    "# Obtain TCRE-dependent reductions of non-CO2\n",
    "df = pd.read_excel(\"X:/user/dekkerm/Data/Budgets_Forster2023/NonCO2.xlsx\", sheet_name='CH4')\n",
    "dummy = df.melt(id_vars=[\"Temperature\"], var_name=\"Probability\", value_name=\"Value\")\n",
    "dummy = dummy.set_index([\"Temperature\", \"Probability\"])\n",
    "xr_ch4_red = xr.Dataset.from_dataframe(dummy)/1e2\n",
    "xr_ch4_red = xr_ch4_red.reindex({'Probability': [0.1, 0.17, 0.33, 0.5, 0.67, 0.75, 0.83, 0.90]})\n",
    "xr_ch4_red = xr_ch4_red.interpolate_na(dim='Probability')\n",
    "xr_ch4_red = xr_ch4_red.reindex({\"Probability\": [0.17, 0.33, 0.5, 0.67, 0.83]})\n",
    "\n",
    "df = pd.read_excel(\"X:/user/dekkerm/Data/Budgets_Forster2023/NonCO2.xlsx\", sheet_name='N2O')\n",
    "dummy = df.melt(id_vars=[\"Temperature\"], var_name=\"Probability\", value_name=\"Value\")\n",
    "dummy = dummy.set_index([\"Temperature\", \"Probability\"])\n",
    "xr_n2o_red = xr.Dataset.from_dataframe(dummy)/1e2\n",
    "xr_n2o_red = xr_n2o_red.reindex({'Probability': [0.1, 0.17, 0.33, 0.5, 0.67, 0.75, 0.83, 0.90]})\n",
    "xr_n2o_red = xr_n2o_red.interpolate_na(dim='Probability')\n",
    "xr_n2o_red = xr_n2o_red.reindex({\"Probability\": [0.17, 0.33, 0.5, 0.67, 0.83]})\n",
    "\n",
    "# Construct non-CO2 pathways\n",
    "temps = []\n",
    "probs = []\n",
    "ch4s = []\n",
    "times = []\n",
    "n2os = []\n",
    "for p_i, p in enumerate(np.array(self.xr_co2_budgets.Risk)):\n",
    "    for t_i, t in enumerate(np.array(self.xr_co2_budgets.Temperature)):\n",
    "        ch4_red = xr_ch4_red.sel(Temperature=t, Probability=np.round(1-p,2)).Value#[0.48, 0.47, 0.35][t_i]\n",
    "        n2o_red = xr_n2o_red.sel(Temperature=t, Probability=np.round(1-p,2)).Value\n",
    "        ch4_hist_2050 = ch4_hist_2020*(1+ch4_red)\n",
    "        n2o_hist_2050 = n2o_hist_2020*(1+n2o_red)\n",
    "        traj_ch4 = 1e-3*self.settings['params']['gwp_ch4']*(xr_ch4.sel(Time=np.arange(2021, 2101), ModelScenario = xr_ch4.ModelScenario[np.where(np.abs(xr_ch4.sel(Time=2050).Value - ch4_hist_2050) < ch4_hist_2050*0.1)[0]]).mean(dim='ModelScenario').Value)\n",
    "        traj_n2o = 1e-6*self.settings['params']['gwp_n2o']*(xr_n2o.sel(Time=np.arange(2021, 2101), ModelScenario = xr_n2o.ModelScenario[np.where(np.abs(xr_n2o.sel(Time=2050).Value - n2o_hist_2050) < n2o_hist_2050*0.1)[0]]).mean(dim='ModelScenario').Value)\n",
    "        for time_i, time in enumerate(np.arange(2021, 2101)):\n",
    "            probs.append(p)\n",
    "            temps.append(t)\n",
    "            ch4s.append(float(traj_ch4[time_i]))\n",
    "            n2os.append(float(traj_n2o[time_i]))\n",
    "            times.append(time)\n",
    "\n",
    "dict_ch4 = {}\n",
    "dict_ch4['Temperature'] = temps\n",
    "dict_ch4['Risk'] = 1-np.array(probs)\n",
    "dict_ch4['Time'] = times\n",
    "dict_ch4['Value'] = ch4s\n",
    "df_ch4 = pd.DataFrame(dict_ch4)\n",
    "dummy = df_ch4.set_index([\"Temperature\", \"Risk\", \"Time\"])\n",
    "xr_traj_ch4 = xr.Dataset.from_dataframe(dummy)\n",
    "\n",
    "dict_n2o = {}\n",
    "dict_n2o['Temperature'] = temps\n",
    "dict_n2o['Risk'] = 1-np.array(probs)\n",
    "dict_n2o['Time'] = times\n",
    "dict_n2o['Value'] = n2os\n",
    "df_n2o = pd.DataFrame(dict_n2o)\n",
    "dummy = df_n2o.set_index([\"Temperature\", \"Risk\", \"Time\"])\n",
    "xr_traj_n2o = xr.Dataset.from_dataframe(dummy)\n",
    "\n",
    "self.xr_traj_nonco2 = xr_traj_ch4+xr_traj_n2o"
   ]
  },
  {
   "cell_type": "code",
   "execution_count": 265,
   "metadata": {},
   "outputs": [],
   "source": [
    "# CO2 trajectories\n",
    "\n",
    "# Determine the trajectory\n",
    "startpoint = self.xr_primap.sel(Time=self.settings['params']['start_year_analysis'], Region=\"EARTH\").CO2_hist\n",
    "compensation_form = np.array(list(np.linspace(0, 1, len(np.arange(self.settings['params']['start_year_analysis'], 2050))))+[1]*len(np.arange(2050, 2101)))\n",
    "xr_comp =  xr.DataArray(compensation_form, dims=['Time'], coords={'Time': np.arange(self.settings['params']['start_year_analysis'], 2101)})\n",
    "\n",
    "# Create an empty xarray.Dataset\n",
    "xr_traj_co2 = xr.Dataset(\n",
    "    coords={\n",
    "        'NegEmis': self.Neglist,\n",
    "        'TrajUnc': ['Earliest', 'Early', 'Medium', 'Late', 'Latest'],\n",
    "        'Temperature': self.Tlist,\n",
    "        'Risk': self.Plist,\n",
    "        'Time': np.arange(self.settings['params']['start_year_analysis'], 2101),\n",
    "    }\n",
    ")\n",
    "\n",
    "# Initialize data arrays for each variable\n",
    "pathways_data = {\n",
    "    'CO2_globe': xr.DataArray(\n",
    "        data=np.nan,\n",
    "        coords=xr_traj.coords,\n",
    "        dims=('NegEmis', 'TrajUnc', 'Temperature', 'Risk', 'Time'),\n",
    "        attrs={'description': 'Pathway data'}\n",
    "    )\n",
    "}\n",
    "\n",
    "xr_scen2_use = self.xr_ar6.sel(Variable='Emissions|CO2')\n",
    "xr_scen2_use = xr_scen2_use.reindex(Time = np.arange(2000, 2101, 10))\n",
    "xr_scen2_use = xr_scen2_use.reindex(Time = np.arange(2000, 2101))\n",
    "xr_scen2_use = xr_scen2_use.interpolate_na(dim=\"Time\", method=\"linear\")\n",
    "xr_scen2_use = xr_scen2_use.reindex(Time = np.arange(self.settings['params']['start_year_analysis'], 2101))\n",
    "totalnet = xr_scen2_use.sel(Time=np.arange(self.settings['params']['start_year_analysis'], 2101)).sum(dim='Time')/1e3\n",
    "co2_start = xr_scen2_use.sel(Time=self.settings['params']['start_year_analysis'])/1e3\n",
    "offsets = (startpoint/1e3-co2_start)\n",
    "emis_all = xr_scen2_use.sel(Time=np.arange(self.settings['params']['start_year_analysis'], 2101))/1e3 + offsets\n",
    "totalnets_corr = emis_all.sel(Time=np.arange(self.settings['params']['start_year_analysis'], 2101)).sum(dim='Time')\n",
    "\n",
    "xr_scen2_neg = self.xr_ar6.sel(Variable=['Carbon Sequestration|CCS',\n",
    "                                        'Carbon Sequestration|Land Use']).sum(dim='Variable')\n",
    "xr_scen2_neg = xr_scen2_neg.reindex(Time = np.arange(2000, 2101, 10))\n",
    "xr_scen2_neg = xr_scen2_neg.reindex(Time = np.arange(2000, 2101))\n",
    "xr_scen2_neg = xr_scen2_neg.interpolate_na(dim=\"Time\", method=\"linear\")\n",
    "xr_scen2_neg = xr_scen2_neg.reindex(Time = np.arange(self.settings['params']['start_year_analysis'], 2101))\n",
    "totalneg = xr_scen2_neg.sel(Time=np.arange(2080, 2101)).mean(dim='Time')\n",
    "\n",
    "for temp_i, temp in enumerate(self.Tlist):\n",
    "    for risk_i, risk in enumerate(self.Plist):\n",
    "        budget = self.xr_co2_budgets.Budget.sel(Temperature=temp, Risk=risk)\n",
    "        ms1 = self.xr_ar6.ModelScenario[np.where(np.abs(totalnets_corr.Value - budget) < budget*0.2)[0]]\n",
    "    \n",
    "        # The 90-percentile\n",
    "        totalneg_i = totalneg.sel(ModelScenario=ms1)\n",
    "        ms_90 = self.xr_ar6.sel(ModelScenario=ms1).ModelScenario[(totalneg_i >= totalneg_i.quantile(0.9-0.1)\n",
    "                                    ).Value & (totalneg_i <= totalneg_i.quantile(0.9+0.1)).Value]\n",
    "        time_evo_neg_90 = xr_scen2_neg.sel(ModelScenario=ms_90).mean(dim='ModelScenario')\n",
    "    \n",
    "        # The 10-percentile\n",
    "        totalneg_i = totalneg.sel(ModelScenario=ms1)\n",
    "        ms_10 = self.xr_ar6.sel(ModelScenario=ms1).ModelScenario[(totalneg_i >= totalneg_i.quantile(0.1-0.1)\n",
    "                                    ).Value & (totalneg_i <= totalneg_i.quantile(0.1+0.1)).Value]\n",
    "        time_evo_neg_10 = xr_scen2_neg.sel(ModelScenario=ms_10).mean(dim='ModelScenario')\n",
    "\n",
    "        # Difference and smoothen this\n",
    "        surplus_factor = emis_all.sel(ModelScenario = np.intersect1d(ms_90, ms1)).mean(dim='ModelScenario').Value - emis_all.sel(ModelScenario = np.intersect1d(ms_10, ms1)).mean(dim='ModelScenario').Value\n",
    "        wh = np.where(surplus_factor[:30] < 0)[0]\n",
    "        surplus_factor[wh] = 0\n",
    "        surplus_factor = savgol_filter(surplus_factor, 40, 3)\n",
    "\n",
    "        for neg_i, neg in enumerate(self.Neglist):\n",
    "            xset = emis_all.sel(ModelScenario=ms1)+surplus_factor*(neg-0.5)*2\n",
    "            factor = (self.xr_co2_budgets.Budget.sel(Temperature=temp, Risk=risk) - xset.sum(dim='Time')) / np.sum(compensation_form)\n",
    "            all_pathways = (1e3*(xset+factor*xr_comp)).Value/1e3\n",
    "            if len(all_pathways)>0:\n",
    "                for unc_i, unc in enumerate(['Earliest', 'Early', 'Medium', 'Late', 'Latest']):\n",
    "                    ms_path = all_pathways.ModelScenario[np.where(all_pathways.sel(Time=2030) < np.nanpercentile(all_pathways.sel(Time=2030), [10, 25, 50, 75, 90][unc_i], axis=0))[0]]\n",
    "                    pathway = all_pathways.sel(ModelScenario = ms_path).mean(dim='ModelScenario')#np.array(all_pathways.where(all_pathways.sel(Time=2050) < np.percentile(all_pathways.sel(Time=2050), [10, 25, 50, 75, 90][unc_i], axis=0)).mean(dim='ModelScenario'))#np.percentile(all_pathways, [20, 50, 80][unc_i], axis=0)\n",
    "                    pathway = savgol_filter(pathway, 20, 3)\n",
    "                    offset = float(startpoint)/1e3 - pathway[0]\n",
    "                    pathways_data['CO2_globe'][neg_i, unc_i, temp_i, risk_i, :] = (pathway.T+offset)*1e3\n",
    "self.xr_traj_co2 = xr_traj_co2.update(pathways_data)"
   ]
  },
  {
   "cell_type": "code",
   "execution_count": null,
   "metadata": {},
   "outputs": [],
   "source": [
    "self.xr_traj_ghg = self.xr_traj_co2+self.xr_traj_nonco2"
   ]
  },
  {
   "cell_type": "code",
   "execution_count": 264,
   "metadata": {},
   "outputs": [
    {
     "ename": "AttributeError",
     "evalue": "'datareading' object has no attribute 'xr_traj_ghg'",
     "output_type": "error",
     "traceback": [
      "\u001b[1;31m---------------------------------------------------------------------------\u001b[0m",
      "\u001b[1;31mAttributeError\u001b[0m                            Traceback (most recent call last)",
      "\u001b[1;32mx:\\user\\dekkerm\\Projects\\ECEMF_T5.2\\Main.ipynb Cell 9\u001b[0m line \u001b[0;36m1\n\u001b[1;32m----> <a href='vscode-notebook-cell:/x%3A/user/dekkerm/Projects/ECEMF_T5.2/Main.ipynb#Y120sZmlsZQ%3D%3D?line=0'>1</a>\u001b[0m \u001b[39mself\u001b[39;49m\u001b[39m.\u001b[39;49mxr_traj_ghg\n",
      "\u001b[1;31mAttributeError\u001b[0m: 'datareading' object has no attribute 'xr_traj_ghg'"
     ]
    }
   ],
   "source": [
    "self.xr_traj_ghg"
   ]
  },
  {
   "cell_type": "code",
   "execution_count": 8,
   "metadata": {},
   "outputs": [],
   "source": [
    "import class_allocation\n",
    "\n",
    "reload(class_allocation)\n",
    "from class_allocation import allocation\n",
    "\n",
    "for cty in tqdm(np.array(datareader.xr_total.Region)):\n",
    "    allocator = allocation(cty)\n",
    "    allocator.gf()  \n",
    "    allocator.pc()\n",
    "    allocator.pcc()\n",
    "    allocator.ecpc()\n",
    "    allocator.ap()\n",
    "    allocator.gdr()\n",
    "    allocator.save()"
   ]
  },
  {
   "cell_type": "code",
   "execution_count": 209,
   "metadata": {},
   "outputs": [
    {
     "name": "stdout",
     "output_type": "stream",
     "text": [
      "# ==================================== #\n",
      "# Initializing tempaligning class        #\n",
      "# ==================================== #\n",
      "- Determine relation between 2030-emissions and temperature outcome\n",
      "- Determine temperature metric\n"
     ]
    },
    {
     "name": "stderr",
     "output_type": "stream",
     "text": [
      "100%|██████████| 6/6 [00:09<00:00,  1.58s/it]\n"
     ]
    },
    {
     "name": "stdout",
     "output_type": "stream",
     "text": [
      "- Save\n"
     ]
    }
   ],
   "source": [
    "import class_tempalign\n",
    "reload(class_tempalign)\n",
    "from class_tempalign import tempaligning\n",
    "\n",
    "tempaligner = tempaligning() # FIRST RUN AGGREGATOR FOR THIS!! (2030 alloc)\n",
    "tempaligner.get_relation_2030emis_temp()\n",
    "tempaligner.determine_tempoutcomes()\n",
    "tempaligner.save()"
   ]
  },
  {
   "cell_type": "code",
   "execution_count": null,
   "metadata": {},
   "outputs": [],
   "source": [
    "import class_policyscens\n",
    "reload(class_policyscens)\n",
    "from class_policyscens import policyscenadding\n",
    "\n",
    "policyscenner = policyscenadding() # FIRST RUN AGGREGATOR FOR THIS!! (2030 alloc)\n",
    "policyscenner.read_engage_data()\n",
    "policyscenner.filter_and_convert()\n",
    "policyscenner.add_to_xr()"
   ]
  }
 ],
 "metadata": {
  "interpreter": {
   "hash": "36d5d389870ab01fa625d0d5123f82469a3683fa0e02c4f7e9e76e9a75345aa3"
  },
  "kernelspec": {
   "display_name": "Python 3.9.11 ('MyEnv')",
   "language": "python",
   "name": "python3"
  },
  "language_info": {
   "codemirror_mode": {
    "name": "ipython",
    "version": 3
   },
   "file_extension": ".py",
   "mimetype": "text/x-python",
   "name": "python",
   "nbconvert_exporter": "python",
   "pygments_lexer": "ipython3",
   "version": "3.9.18"
  },
  "orig_nbformat": 4
 },
 "nbformat": 4,
 "nbformat_minor": 2
}
