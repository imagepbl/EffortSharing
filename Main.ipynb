{
 "cells": [
  {
   "cell_type": "markdown",
   "metadata": {},
   "source": [
    "## Preambule"
   ]
  },
  {
   "cell_type": "code",
   "execution_count": 433,
   "metadata": {},
   "outputs": [],
   "source": [
    "import numpy as np\n",
    "from tqdm import tqdm\n",
    "from importlib import reload\n",
    "import matplotlib.pyplot as plt\n",
    "import xarray as xr\n",
    "import pandas as pd\n",
    "import scipy\n",
    "from scipy.optimize import curve_fit\n",
    "from scipy.signal import savgol_filter\n",
    "import warnings\n",
    "warnings.simplefilter(action='ignore', category=FutureWarning)"
   ]
  },
  {
   "cell_type": "markdown",
   "metadata": {},
   "source": [
    "## Run classes"
   ]
  },
  {
   "cell_type": "code",
   "execution_count": 434,
   "metadata": {},
   "outputs": [
    {
     "name": "stdout",
     "output_type": "stream",
     "text": [
      "# ==================================== #\n",
      "# Initializing datareading class     #\n",
      "# ==================================== #\n",
      "- Reading general data\n",
      "- Reading GDP and population data from SSPs\n",
      "- Reading UN population data (for past population)\n",
      "- Reading historical emissions (jones)\n",
      "- Read AR6 data\n",
      "- Get relationship between CO2 budgets and non-co2 reduction in 2050\n",
      "- Computing global nonco2 trajectories\n",
      "- Get global CO2 budgets\n",
      "- Computing global co2 trajectories\n",
      "- Reading baseline emissions\n",
      "- Reading NDC data\n",
      "- Merging xrarray object\n",
      "- Add country groups\n",
      "- Save important files\n"
     ]
    },
    {
     "name": "stderr",
     "output_type": "stream",
     "text": [
      "C:\\Users\\dekkerm\\AppData\\Local\\Temp\\2\\ipykernel_5336\\11750362.py:19: SerializationWarning: saving variable Time with floating point data as an integer dtype without any _FillValue to use for NaNs\n",
      "  datareader.save()\n",
      "C:\\Users\\dekkerm\\AppData\\Local\\Temp\\2\\ipykernel_5336\\11750362.py:19: SerializationWarning: saving variable Time with floating point data as an integer dtype without any _FillValue to use for NaNs\n",
      "  datareader.save()\n"
     ]
    }
   ],
   "source": [
    "import class_datareading\n",
    "reload(class_datareading)\n",
    "from class_datareading import datareading\n",
    "\n",
    "datareader = datareading()\n",
    "datareader.read_general()\n",
    "datareader.read_ssps()\n",
    "datareader.read_undata()\n",
    "datareader.read_historicalemis_jones()\n",
    "datareader.read_ar6()\n",
    "datareader.relation_budget_nonco2()\n",
    "datareader.determine_global_nonco2_trajectories()\n",
    "datareader.determine_global_budgets() \n",
    "datareader.determine_global_co2_trajectories()\n",
    "datareader.read_baseline()\n",
    "datareader.read_ndc()\n",
    "datareader.merge_xr()\n",
    "datareader.add_country_groups()\n",
    "datareader.save()"
   ]
  },
  {
   "cell_type": "code",
   "execution_count": 449,
   "metadata": {},
   "outputs": [
    {
     "name": "stderr",
     "output_type": "stream",
     "text": [
      "  6%|▌         | 12/207 [08:33<2:23:47, 44.25s/it]"
     ]
    }
   ],
   "source": [
    "import class_allocation\n",
    "reload(class_allocation)\n",
    "from class_allocation import allocation\n",
    "\n",
    "for cty in tqdm(np.array(datareader.xr_total.Region)):\n",
    "    allocator = allocation(cty)\n",
    "    allocator.gf()  \n",
    "    allocator.pc()\n",
    "    allocator.pcc()\n",
    "    allocator.pcb()\n",
    "    allocator.ecpc()\n",
    "    allocator.ap()\n",
    "    allocator.gdr()\n",
    "    allocator.save()"
   ]
  },
  {
   "cell_type": "code",
   "execution_count": 6,
   "metadata": {},
   "outputs": [
    {
     "name": "stdout",
     "output_type": "stream",
     "text": [
      "# ==================================== #\n",
      "# Initializing tempaligning class        #\n",
      "# ==================================== #\n",
      "- Determine relation between 2030-emissions and temperature outcome\n",
      "- Determine temperature metric\n"
     ]
    },
    {
     "name": "stderr",
     "output_type": "stream",
     "text": [
      "100%|██████████| 6/6 [00:53<00:00,  8.99s/it]\n"
     ]
    },
    {
     "name": "stdout",
     "output_type": "stream",
     "text": [
      "- Save\n"
     ]
    }
   ],
   "source": [
    "import class_tempalign\n",
    "reload(class_tempalign)\n",
    "from class_tempalign import tempaligning\n",
    "\n",
    "tempaligner = tempaligning() # FIRST RUN AGGREGATOR FOR THIS!! (2030 alloc)\n",
    "tempaligner.get_relation_2030emis_temp()\n",
    "tempaligner.determine_tempoutcomes()\n",
    "tempaligner.save()"
   ]
  },
  {
   "cell_type": "code",
   "execution_count": 2,
   "metadata": {},
   "outputs": [
    {
     "name": "stdout",
     "output_type": "stream",
     "text": [
      "# ==================================== #\n",
      "# Initializing policyscenadding class  #\n",
      "# ==================================== #\n",
      "- Read ENGAGE scenarios and change region namings\n",
      "- Filter correct scenarios and convert to xarray object\n",
      "- Add to overall xrobject\n"
     ]
    }
   ],
   "source": [
    "import class_policyscens\n",
    "reload(class_policyscens)\n",
    "from class_policyscens import policyscenadding\n",
    "\n",
    "policyscenner = policyscenadding()\n",
    "policyscenner.read_engage_data()\n",
    "policyscenner.filter_and_convert()\n",
    "policyscenner.add_to_xr()"
   ]
  }
 ],
 "metadata": {
  "interpreter": {
   "hash": "36d5d389870ab01fa625d0d5123f82469a3683fa0e02c4f7e9e76e9a75345aa3"
  },
  "kernelspec": {
   "display_name": "Python 3.9.11 ('MyEnv')",
   "language": "python",
   "name": "python3"
  },
  "language_info": {
   "codemirror_mode": {
    "name": "ipython",
    "version": 3
   },
   "file_extension": ".py",
   "mimetype": "text/x-python",
   "name": "python",
   "nbconvert_exporter": "python",
   "pygments_lexer": "ipython3",
   "version": "3.12.1"
  },
  "orig_nbformat": 4
 },
 "nbformat": 4,
 "nbformat_minor": 2
}
