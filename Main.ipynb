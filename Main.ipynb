{
 "cells": [
  {
   "cell_type": "markdown",
   "metadata": {},
   "source": [
    "## Preambule"
   ]
  },
  {
   "cell_type": "code",
   "execution_count": 1,
   "metadata": {},
   "outputs": [],
   "source": [
    "import numpy as np\n",
    "from tqdm import tqdm\n",
    "from importlib import reload\n",
    "import matplotlib.pyplot as plt\n",
    "import xarray as xr\n",
    "import pandas as pd\n",
    "from scipy.optimize import curve_fit\n",
    "from scipy.signal import savgol_filter\n",
    "import warnings\n",
    "warnings.simplefilter(action='ignore', category=FutureWarning)"
   ]
  },
  {
   "cell_type": "markdown",
   "metadata": {},
   "source": [
    "## Run classes"
   ]
  },
  {
   "cell_type": "code",
   "execution_count": 2,
   "metadata": {},
   "outputs": [
    {
     "name": "stdout",
     "output_type": "stream",
     "text": [
      "# ==================================== #\n",
      "# Initializing datareading class     #\n",
      "# ==================================== #\n",
      "- Reading general data\n",
      "- Reading GDP and population data from SSPs\n",
      "- Reading UN population data (for past population)\n",
      "- Reading historical emissions (primap)\n",
      "- Read AR6 data\n",
      "- Get relationship between CO2 budgets and non-co2 reduction in 2050\n",
      "- Computing global nonco2 trajectories\n",
      "- Get global CO2 budgets\n",
      "- Computing global co2 trajectories\n",
      "- Reading baseline emissions\n",
      "- Reading NDC data\n",
      "- Merging xrarray object\n",
      "- Add country groups\n",
      "- Save important files\n",
      "- Some pre-calculations for the AP allocation rule\n",
      "- Some pre-calculations for the GDR allocation rule\n"
     ]
    }
   ],
   "source": [
    "import class_datareading\n",
    "reload(class_datareading)\n",
    "from class_datareading import datareading\n",
    "\n",
    "datareader = datareading()\n",
    "datareader.read_general()\n",
    "datareader.read_ssps()\n",
    "datareader.read_undata()\n",
    "datareader.read_historicalemis()\n",
    "datareader.read_ar6()\n",
    "datareader.relation_budget_nonco2()\n",
    "datareader.determine_global_nonco2_trajectories()\n",
    "datareader.determine_global_budgets()\n",
    "datareader.determine_global_co2_trajectories()\n",
    "datareader.read_baseline()\n",
    "datareader.read_ndc() \n",
    "datareader.merge_xr()\n",
    "datareader.add_country_groups()\n",
    "datareader.save()"
   ]
  },
  {
   "cell_type": "code",
   "execution_count": 3,
   "metadata": {},
   "outputs": [
    {
     "name": "stderr",
     "output_type": "stream",
     "text": [
      "  1%|          | 2/207 [00:52<1:29:18, 26.14s/it]\n"
     ]
    },
    {
     "ename": "KeyboardInterrupt",
     "evalue": "",
     "output_type": "error",
     "traceback": [
      "\u001b[1;31m---------------------------------------------------------------------------\u001b[0m",
      "\u001b[1;31mKeyboardInterrupt\u001b[0m                         Traceback (most recent call last)",
      "Cell \u001b[1;32mIn[3], line 11\u001b[0m\n\u001b[0;32m      9\u001b[0m allocator\u001b[38;5;241m.\u001b[39mpc()\n\u001b[0;32m     10\u001b[0m allocator\u001b[38;5;241m.\u001b[39mpcc()\n\u001b[1;32m---> 11\u001b[0m allocator\u001b[38;5;241m.\u001b[39mecpc()\n\u001b[0;32m     12\u001b[0m allocator\u001b[38;5;241m.\u001b[39map()\n\u001b[0;32m     13\u001b[0m allocator\u001b[38;5;241m.\u001b[39mgdr()\n",
      "File \u001b[1;32mk:\\Projects\\Effort_sharing\\EffortSharing\\class_allocation.py:205\u001b[0m, in \u001b[0;36mallocation.ecpc\u001b[1;34m(self)\u001b[0m\n\u001b[0;32m    203\u001b[0m         ecpc \u001b[38;5;241m=\u001b[39m ecpc_factor(budget_surplus)\u001b[38;5;241m.\u001b[39mexpand_dims(Discount_factor\u001b[38;5;241m=\u001b[39m[discount], Historical_startyear\u001b[38;5;241m=\u001b[39m[startyear])\u001b[38;5;241m.\u001b[39mto_dataset(name\u001b[38;5;241m=\u001b[39m\u001b[38;5;124m'\u001b[39m\u001b[38;5;124mECPC\u001b[39m\u001b[38;5;124m'\u001b[39m)\n\u001b[0;32m    204\u001b[0m         xrs\u001b[38;5;241m.\u001b[39mappend(ecpc)\n\u001b[1;32m--> 205\u001b[0m xr_ecpc \u001b[38;5;241m=\u001b[39m xr\u001b[38;5;241m.\u001b[39mmerge(xrs)\n\u001b[0;32m    206\u001b[0m \u001b[38;5;28mself\u001b[39m\u001b[38;5;241m.\u001b[39mxr_total \u001b[38;5;241m=\u001b[39m \u001b[38;5;28mself\u001b[39m\u001b[38;5;241m.\u001b[39mxr_total\u001b[38;5;241m.\u001b[39massign(ECPC \u001b[38;5;241m=\u001b[39m xr_ecpc\u001b[38;5;241m.\u001b[39mECPC)\n",
      "File \u001b[1;32mk:\\environments\\effortsharing_env_K\\Lib\\site-packages\\xarray\\core\\merge.py:1025\u001b[0m, in \u001b[0;36mmerge\u001b[1;34m(objects, compat, join, fill_value, combine_attrs)\u001b[0m\n\u001b[0;32m   1022\u001b[0m     obj \u001b[38;5;241m=\u001b[39m obj\u001b[38;5;241m.\u001b[39mto_dataset(promote_attrs\u001b[38;5;241m=\u001b[39m\u001b[38;5;28;01mTrue\u001b[39;00m) \u001b[38;5;28;01mif\u001b[39;00m \u001b[38;5;28misinstance\u001b[39m(obj, DataArray) \u001b[38;5;28;01melse\u001b[39;00m obj\n\u001b[0;32m   1023\u001b[0m     dict_like_objects\u001b[38;5;241m.\u001b[39mappend(obj)\n\u001b[1;32m-> 1025\u001b[0m merge_result \u001b[38;5;241m=\u001b[39m merge_core(\n\u001b[0;32m   1026\u001b[0m     dict_like_objects,\n\u001b[0;32m   1027\u001b[0m     compat,\n\u001b[0;32m   1028\u001b[0m     join,\n\u001b[0;32m   1029\u001b[0m     combine_attrs\u001b[38;5;241m=\u001b[39mcombine_attrs,\n\u001b[0;32m   1030\u001b[0m     fill_value\u001b[38;5;241m=\u001b[39mfill_value,\n\u001b[0;32m   1031\u001b[0m )\n\u001b[0;32m   1032\u001b[0m \u001b[38;5;28;01mreturn\u001b[39;00m Dataset\u001b[38;5;241m.\u001b[39m_construct_direct(\u001b[38;5;241m*\u001b[39m\u001b[38;5;241m*\u001b[39mmerge_result\u001b[38;5;241m.\u001b[39m_asdict())\n",
      "File \u001b[1;32mk:\\environments\\effortsharing_env_K\\Lib\\site-packages\\xarray\\core\\merge.py:752\u001b[0m, in \u001b[0;36mmerge_core\u001b[1;34m(objects, compat, join, combine_attrs, priority_arg, explicit_coords, indexes, fill_value)\u001b[0m\n\u001b[0;32m    749\u001b[0m _assert_compat_valid(compat)\n\u001b[0;32m    751\u001b[0m coerced \u001b[38;5;241m=\u001b[39m coerce_pandas_values(objects)\n\u001b[1;32m--> 752\u001b[0m aligned \u001b[38;5;241m=\u001b[39m deep_align(\n\u001b[0;32m    753\u001b[0m     coerced, join\u001b[38;5;241m=\u001b[39mjoin, copy\u001b[38;5;241m=\u001b[39m\u001b[38;5;28;01mFalse\u001b[39;00m, indexes\u001b[38;5;241m=\u001b[39mindexes, fill_value\u001b[38;5;241m=\u001b[39mfill_value\n\u001b[0;32m    754\u001b[0m )\n\u001b[0;32m    755\u001b[0m collected \u001b[38;5;241m=\u001b[39m collect_variables_and_indexes(aligned, indexes\u001b[38;5;241m=\u001b[39mindexes)\n\u001b[0;32m    756\u001b[0m prioritized \u001b[38;5;241m=\u001b[39m _get_priority_vars_and_indexes(aligned, priority_arg, compat\u001b[38;5;241m=\u001b[39mcompat)\n",
      "File \u001b[1;32mk:\\environments\\effortsharing_env_K\\Lib\\site-packages\\xarray\\core\\alignment.py:850\u001b[0m, in \u001b[0;36mdeep_align\u001b[1;34m(objects, join, copy, indexes, exclude, raise_on_invalid, fill_value)\u001b[0m\n\u001b[0;32m    847\u001b[0m     \u001b[38;5;28;01melse\u001b[39;00m:\n\u001b[0;32m    848\u001b[0m         out\u001b[38;5;241m.\u001b[39mappend(variables)\n\u001b[1;32m--> 850\u001b[0m aligned \u001b[38;5;241m=\u001b[39m align(\n\u001b[0;32m    851\u001b[0m     \u001b[38;5;241m*\u001b[39mtargets,\n\u001b[0;32m    852\u001b[0m     join\u001b[38;5;241m=\u001b[39mjoin,\n\u001b[0;32m    853\u001b[0m     copy\u001b[38;5;241m=\u001b[39mcopy,\n\u001b[0;32m    854\u001b[0m     indexes\u001b[38;5;241m=\u001b[39mindexes,\n\u001b[0;32m    855\u001b[0m     exclude\u001b[38;5;241m=\u001b[39mexclude,\n\u001b[0;32m    856\u001b[0m     fill_value\u001b[38;5;241m=\u001b[39mfill_value,\n\u001b[0;32m    857\u001b[0m )\n\u001b[0;32m    859\u001b[0m \u001b[38;5;28;01mfor\u001b[39;00m position, key, aligned_obj \u001b[38;5;129;01min\u001b[39;00m \u001b[38;5;28mzip\u001b[39m(positions, keys, aligned):\n\u001b[0;32m    860\u001b[0m     \u001b[38;5;28;01mif\u001b[39;00m key \u001b[38;5;129;01mis\u001b[39;00m no_key:\n",
      "File \u001b[1;32mk:\\environments\\effortsharing_env_K\\Lib\\site-packages\\xarray\\core\\alignment.py:787\u001b[0m, in \u001b[0;36malign\u001b[1;34m(join, copy, indexes, exclude, fill_value, *objects)\u001b[0m\n\u001b[0;32m    591\u001b[0m \u001b[38;5;250m\u001b[39m\u001b[38;5;124;03m\"\"\"\u001b[39;00m\n\u001b[0;32m    592\u001b[0m \u001b[38;5;124;03mGiven any number of Dataset and/or DataArray objects, returns new\u001b[39;00m\n\u001b[0;32m    593\u001b[0m \u001b[38;5;124;03mobjects with aligned indexes and dimension sizes.\u001b[39;00m\n\u001b[1;32m   (...)\u001b[0m\n\u001b[0;32m    777\u001b[0m \n\u001b[0;32m    778\u001b[0m \u001b[38;5;124;03m\"\"\"\u001b[39;00m\n\u001b[0;32m    779\u001b[0m aligner \u001b[38;5;241m=\u001b[39m Aligner(\n\u001b[0;32m    780\u001b[0m     objects,\n\u001b[0;32m    781\u001b[0m     join\u001b[38;5;241m=\u001b[39mjoin,\n\u001b[1;32m   (...)\u001b[0m\n\u001b[0;32m    785\u001b[0m     fill_value\u001b[38;5;241m=\u001b[39mfill_value,\n\u001b[0;32m    786\u001b[0m )\n\u001b[1;32m--> 787\u001b[0m aligner\u001b[38;5;241m.\u001b[39malign()\n\u001b[0;32m    788\u001b[0m \u001b[38;5;28;01mreturn\u001b[39;00m aligner\u001b[38;5;241m.\u001b[39mresults\n",
      "File \u001b[1;32mk:\\environments\\effortsharing_env_K\\Lib\\site-packages\\xarray\\core\\alignment.py:580\u001b[0m, in \u001b[0;36mAligner.align\u001b[1;34m(self)\u001b[0m\n\u001b[0;32m    578\u001b[0m     \u001b[38;5;28mself\u001b[39m\u001b[38;5;241m.\u001b[39mresults \u001b[38;5;241m=\u001b[39m \u001b[38;5;28mself\u001b[39m\u001b[38;5;241m.\u001b[39mobjects\n\u001b[0;32m    579\u001b[0m \u001b[38;5;28;01melse\u001b[39;00m:\n\u001b[1;32m--> 580\u001b[0m     \u001b[38;5;28mself\u001b[39m\u001b[38;5;241m.\u001b[39mreindex_all()\n",
      "File \u001b[1;32mk:\\environments\\effortsharing_env_K\\Lib\\site-packages\\xarray\\core\\alignment.py:555\u001b[0m, in \u001b[0;36mAligner.reindex_all\u001b[1;34m(self)\u001b[0m\n\u001b[0;32m    554\u001b[0m \u001b[38;5;28;01mdef\u001b[39;00m \u001b[38;5;21mreindex_all\u001b[39m(\u001b[38;5;28mself\u001b[39m) \u001b[38;5;241m-\u001b[39m\u001b[38;5;241m>\u001b[39m \u001b[38;5;28;01mNone\u001b[39;00m:\n\u001b[1;32m--> 555\u001b[0m     \u001b[38;5;28mself\u001b[39m\u001b[38;5;241m.\u001b[39mresults \u001b[38;5;241m=\u001b[39m \u001b[38;5;28mtuple\u001b[39m(\n\u001b[0;32m    556\u001b[0m         \u001b[38;5;28mself\u001b[39m\u001b[38;5;241m.\u001b[39m_reindex_one(obj, matching_indexes)\n\u001b[0;32m    557\u001b[0m         \u001b[38;5;28;01mfor\u001b[39;00m obj, matching_indexes \u001b[38;5;129;01min\u001b[39;00m \u001b[38;5;28mzip\u001b[39m(\n\u001b[0;32m    558\u001b[0m             \u001b[38;5;28mself\u001b[39m\u001b[38;5;241m.\u001b[39mobjects, \u001b[38;5;28mself\u001b[39m\u001b[38;5;241m.\u001b[39mobjects_matching_indexes\n\u001b[0;32m    559\u001b[0m         )\n\u001b[0;32m    560\u001b[0m     )\n",
      "File \u001b[1;32mk:\\environments\\effortsharing_env_K\\Lib\\site-packages\\xarray\\core\\alignment.py:556\u001b[0m, in \u001b[0;36m<genexpr>\u001b[1;34m(.0)\u001b[0m\n\u001b[0;32m    554\u001b[0m \u001b[38;5;28;01mdef\u001b[39;00m \u001b[38;5;21mreindex_all\u001b[39m(\u001b[38;5;28mself\u001b[39m) \u001b[38;5;241m-\u001b[39m\u001b[38;5;241m>\u001b[39m \u001b[38;5;28;01mNone\u001b[39;00m:\n\u001b[0;32m    555\u001b[0m     \u001b[38;5;28mself\u001b[39m\u001b[38;5;241m.\u001b[39mresults \u001b[38;5;241m=\u001b[39m \u001b[38;5;28mtuple\u001b[39m(\n\u001b[1;32m--> 556\u001b[0m         \u001b[38;5;28mself\u001b[39m\u001b[38;5;241m.\u001b[39m_reindex_one(obj, matching_indexes)\n\u001b[0;32m    557\u001b[0m         \u001b[38;5;28;01mfor\u001b[39;00m obj, matching_indexes \u001b[38;5;129;01min\u001b[39;00m \u001b[38;5;28mzip\u001b[39m(\n\u001b[0;32m    558\u001b[0m             \u001b[38;5;28mself\u001b[39m\u001b[38;5;241m.\u001b[39mobjects, \u001b[38;5;28mself\u001b[39m\u001b[38;5;241m.\u001b[39mobjects_matching_indexes\n\u001b[0;32m    559\u001b[0m         )\n\u001b[0;32m    560\u001b[0m     )\n",
      "File \u001b[1;32mk:\\environments\\effortsharing_env_K\\Lib\\site-packages\\xarray\\core\\alignment.py:542\u001b[0m, in \u001b[0;36mAligner._reindex_one\u001b[1;34m(self, obj, matching_indexes)\u001b[0m\n\u001b[0;32m    539\u001b[0m new_indexes, new_variables \u001b[38;5;241m=\u001b[39m \u001b[38;5;28mself\u001b[39m\u001b[38;5;241m.\u001b[39m_get_indexes_and_vars(obj, matching_indexes)\n\u001b[0;32m    540\u001b[0m dim_pos_indexers \u001b[38;5;241m=\u001b[39m \u001b[38;5;28mself\u001b[39m\u001b[38;5;241m.\u001b[39m_get_dim_pos_indexers(matching_indexes)\n\u001b[1;32m--> 542\u001b[0m new_obj \u001b[38;5;241m=\u001b[39m obj\u001b[38;5;241m.\u001b[39m_reindex_callback(\n\u001b[0;32m    543\u001b[0m     \u001b[38;5;28mself\u001b[39m,\n\u001b[0;32m    544\u001b[0m     dim_pos_indexers,\n\u001b[0;32m    545\u001b[0m     new_variables,\n\u001b[0;32m    546\u001b[0m     new_indexes,\n\u001b[0;32m    547\u001b[0m     \u001b[38;5;28mself\u001b[39m\u001b[38;5;241m.\u001b[39mfill_value,\n\u001b[0;32m    548\u001b[0m     \u001b[38;5;28mself\u001b[39m\u001b[38;5;241m.\u001b[39mexclude_dims,\n\u001b[0;32m    549\u001b[0m     \u001b[38;5;28mself\u001b[39m\u001b[38;5;241m.\u001b[39mexclude_vars,\n\u001b[0;32m    550\u001b[0m )\n\u001b[0;32m    551\u001b[0m new_obj\u001b[38;5;241m.\u001b[39mencoding \u001b[38;5;241m=\u001b[39m obj\u001b[38;5;241m.\u001b[39mencoding\n\u001b[0;32m    552\u001b[0m \u001b[38;5;28;01mreturn\u001b[39;00m new_obj\n",
      "File \u001b[1;32mk:\\environments\\effortsharing_env_K\\Lib\\site-packages\\xarray\\core\\dataset.py:2922\u001b[0m, in \u001b[0;36mDataset._reindex_callback\u001b[1;34m(self, aligner, dim_pos_indexers, variables, indexes, fill_value, exclude_dims, exclude_vars)\u001b[0m\n\u001b[0;32m   2916\u001b[0m \u001b[38;5;28;01melse\u001b[39;00m:\n\u001b[0;32m   2917\u001b[0m     to_reindex \u001b[38;5;241m=\u001b[39m {\n\u001b[0;32m   2918\u001b[0m         k: v\n\u001b[0;32m   2919\u001b[0m         \u001b[38;5;28;01mfor\u001b[39;00m k, v \u001b[38;5;129;01min\u001b[39;00m \u001b[38;5;28mself\u001b[39m\u001b[38;5;241m.\u001b[39mvariables\u001b[38;5;241m.\u001b[39mitems()\n\u001b[0;32m   2920\u001b[0m         \u001b[38;5;28;01mif\u001b[39;00m k \u001b[38;5;129;01mnot\u001b[39;00m \u001b[38;5;129;01min\u001b[39;00m variables \u001b[38;5;129;01mand\u001b[39;00m k \u001b[38;5;129;01mnot\u001b[39;00m \u001b[38;5;129;01min\u001b[39;00m exclude_vars\n\u001b[0;32m   2921\u001b[0m     }\n\u001b[1;32m-> 2922\u001b[0m     reindexed_vars \u001b[38;5;241m=\u001b[39m alignment\u001b[38;5;241m.\u001b[39mreindex_variables(\n\u001b[0;32m   2923\u001b[0m         to_reindex,\n\u001b[0;32m   2924\u001b[0m         dim_pos_indexers,\n\u001b[0;32m   2925\u001b[0m         copy\u001b[38;5;241m=\u001b[39maligner\u001b[38;5;241m.\u001b[39mcopy,\n\u001b[0;32m   2926\u001b[0m         fill_value\u001b[38;5;241m=\u001b[39mfill_value,\n\u001b[0;32m   2927\u001b[0m         sparse\u001b[38;5;241m=\u001b[39maligner\u001b[38;5;241m.\u001b[39msparse,\n\u001b[0;32m   2928\u001b[0m     )\n\u001b[0;32m   2929\u001b[0m     new_variables\u001b[38;5;241m.\u001b[39mupdate(reindexed_vars)\n\u001b[0;32m   2930\u001b[0m     new_coord_names \u001b[38;5;241m=\u001b[39m \u001b[38;5;28mself\u001b[39m\u001b[38;5;241m.\u001b[39m_coord_names \u001b[38;5;241m|\u001b[39m \u001b[38;5;28mset\u001b[39m(new_indexes)\n",
      "File \u001b[1;32mk:\\environments\\effortsharing_env_K\\Lib\\site-packages\\xarray\\core\\alignment.py:75\u001b[0m, in \u001b[0;36mreindex_variables\u001b[1;34m(variables, dim_pos_indexers, copy, fill_value, sparse)\u001b[0m\n\u001b[0;32m     72\u001b[0m needs_masking \u001b[38;5;241m=\u001b[39m \u001b[38;5;28many\u001b[39m(d \u001b[38;5;129;01min\u001b[39;00m masked_dims \u001b[38;5;28;01mfor\u001b[39;00m d \u001b[38;5;129;01min\u001b[39;00m var\u001b[38;5;241m.\u001b[39mdims)\n\u001b[0;32m     74\u001b[0m \u001b[38;5;28;01mif\u001b[39;00m needs_masking:\n\u001b[1;32m---> 75\u001b[0m     new_var \u001b[38;5;241m=\u001b[39m var\u001b[38;5;241m.\u001b[39m_getitem_with_mask(indxr, fill_value\u001b[38;5;241m=\u001b[39mfill_value_)\n\u001b[0;32m     76\u001b[0m \u001b[38;5;28;01melif\u001b[39;00m \u001b[38;5;28mall\u001b[39m(is_full_slice(k) \u001b[38;5;28;01mfor\u001b[39;00m k \u001b[38;5;129;01min\u001b[39;00m indxr):\n\u001b[0;32m     77\u001b[0m     \u001b[38;5;66;03m# no reindexing necessary\u001b[39;00m\n\u001b[0;32m     78\u001b[0m     \u001b[38;5;66;03m# here we need to manually deal with copying data, since\u001b[39;00m\n\u001b[0;32m     79\u001b[0m     \u001b[38;5;66;03m# we neither created a new ndarray nor used fancy indexing\u001b[39;00m\n\u001b[0;32m     80\u001b[0m     new_var \u001b[38;5;241m=\u001b[39m var\u001b[38;5;241m.\u001b[39mcopy(deep\u001b[38;5;241m=\u001b[39mcopy)\n",
      "File \u001b[1;32mk:\\environments\\effortsharing_env_K\\Lib\\site-packages\\xarray\\core\\variable.py:934\u001b[0m, in \u001b[0;36mVariable._getitem_with_mask\u001b[1;34m(self, key, fill_value)\u001b[0m\n\u001b[0;32m    931\u001b[0m     actual_indexer \u001b[38;5;241m=\u001b[39m indexer\n\u001b[0;32m    933\u001b[0m data \u001b[38;5;241m=\u001b[39m as_indexable(\u001b[38;5;28mself\u001b[39m\u001b[38;5;241m.\u001b[39m_data)[actual_indexer]\n\u001b[1;32m--> 934\u001b[0m mask \u001b[38;5;241m=\u001b[39m indexing\u001b[38;5;241m.\u001b[39mcreate_mask(indexer, \u001b[38;5;28mself\u001b[39m\u001b[38;5;241m.\u001b[39mshape, data)\n\u001b[0;32m    935\u001b[0m \u001b[38;5;66;03m# we need to invert the mask in order to pass data first. This helps\u001b[39;00m\n\u001b[0;32m    936\u001b[0m \u001b[38;5;66;03m# pint to choose the correct unit\u001b[39;00m\n\u001b[0;32m    937\u001b[0m \u001b[38;5;66;03m# TODO: revert after https://github.com/hgrecco/pint/issues/1019 is fixed\u001b[39;00m\n\u001b[0;32m    938\u001b[0m data \u001b[38;5;241m=\u001b[39m duck_array_ops\u001b[38;5;241m.\u001b[39mwhere(np\u001b[38;5;241m.\u001b[39mlogical_not(mask), data, fill_value)\n",
      "File \u001b[1;32mk:\\environments\\effortsharing_env_K\\Lib\\site-packages\\xarray\\core\\variable.py:387\u001b[0m, in \u001b[0;36mVariable.shape\u001b[1;34m(self)\u001b[0m\n\u001b[0;32m    377\u001b[0m \u001b[38;5;250m    \u001b[39m\u001b[38;5;124;03m\"\"\"\u001b[39;00m\n\u001b[0;32m    378\u001b[0m \u001b[38;5;124;03m    Data-type of the array’s elements.\u001b[39;00m\n\u001b[0;32m    379\u001b[0m \n\u001b[1;32m   (...)\u001b[0m\n\u001b[0;32m    383\u001b[0m \u001b[38;5;124;03m    numpy.dtype\u001b[39;00m\n\u001b[0;32m    384\u001b[0m \u001b[38;5;124;03m    \"\"\"\u001b[39;00m\n\u001b[0;32m    385\u001b[0m     \u001b[38;5;28;01mreturn\u001b[39;00m \u001b[38;5;28mself\u001b[39m\u001b[38;5;241m.\u001b[39m_data\u001b[38;5;241m.\u001b[39mdtype\n\u001b[1;32m--> 387\u001b[0m \u001b[38;5;129m@property\u001b[39m\n\u001b[0;32m    388\u001b[0m \u001b[38;5;28;01mdef\u001b[39;00m \u001b[38;5;21mshape\u001b[39m(\u001b[38;5;28mself\u001b[39m) \u001b[38;5;241m-\u001b[39m\u001b[38;5;241m>\u001b[39m \u001b[38;5;28mtuple\u001b[39m[\u001b[38;5;28mint\u001b[39m, \u001b[38;5;241m.\u001b[39m\u001b[38;5;241m.\u001b[39m\u001b[38;5;241m.\u001b[39m]:\n\u001b[0;32m    389\u001b[0m \u001b[38;5;250m    \u001b[39m\u001b[38;5;124;03m\"\"\"\u001b[39;00m\n\u001b[0;32m    390\u001b[0m \u001b[38;5;124;03m    Tuple of array dimensions.\u001b[39;00m\n\u001b[0;32m    391\u001b[0m \n\u001b[1;32m   (...)\u001b[0m\n\u001b[0;32m    394\u001b[0m \u001b[38;5;124;03m    numpy.ndarray.shape\u001b[39;00m\n\u001b[0;32m    395\u001b[0m \u001b[38;5;124;03m    \"\"\"\u001b[39;00m\n\u001b[0;32m    396\u001b[0m     \u001b[38;5;28;01mreturn\u001b[39;00m \u001b[38;5;28mself\u001b[39m\u001b[38;5;241m.\u001b[39m_data\u001b[38;5;241m.\u001b[39mshape\n",
      "\u001b[1;31mKeyboardInterrupt\u001b[0m: "
     ]
    }
   ],
   "source": [
    "import class_allocation\n",
    "\n",
    "reload(class_allocation)\n",
    "from class_allocation import allocation\n",
    "\n",
    "for cty in tqdm(np.array(datareader.xr_total.Region)):\n",
    "    allocator = allocation(cty)\n",
    "    allocator.gf()  \n",
    "    allocator.pc()\n",
    "    allocator.pcc()\n",
    "    allocator.ecpc()\n",
    "    allocator.ap()\n",
    "    allocator.gdr()\n",
    "    allocator.save()"
   ]
  },
  {
   "cell_type": "code",
   "execution_count": 6,
   "metadata": {},
   "outputs": [
    {
     "name": "stdout",
     "output_type": "stream",
     "text": [
      "# ==================================== #\n",
      "# Initializing tempaligning class        #\n",
      "# ==================================== #\n",
      "- Determine relation between 2030-emissions and temperature outcome\n",
      "- Determine temperature metric\n"
     ]
    },
    {
     "name": "stderr",
     "output_type": "stream",
     "text": [
      "100%|██████████| 6/6 [00:53<00:00,  8.99s/it]\n"
     ]
    },
    {
     "name": "stdout",
     "output_type": "stream",
     "text": [
      "- Save\n"
     ]
    }
   ],
   "source": [
    "import class_tempalign\n",
    "reload(class_tempalign)\n",
    "from class_tempalign import tempaligning\n",
    "\n",
    "tempaligner = tempaligning() # FIRST RUN AGGREGATOR FOR THIS!! (2030 alloc)\n",
    "tempaligner.get_relation_2030emis_temp()\n",
    "tempaligner.determine_tempoutcomes()\n",
    "tempaligner.save()"
   ]
  },
  {
   "cell_type": "code",
   "execution_count": 4,
   "metadata": {},
   "outputs": [
    {
     "name": "stdout",
     "output_type": "stream",
     "text": [
      "# ==================================== #\n",
      "# Initializing policyscenadding class  #\n",
      "# ==================================== #\n",
      "- Read ENGAGE scenarios and change region namings\n",
      "- Filter correct scenarios and convert to xarray object\n",
      "- Add to overall xrobject\n"
     ]
    }
   ],
   "source": [
    "import class_policyscens\n",
    "reload(class_policyscens)\n",
    "from class_policyscens import policyscenadding\n",
    "\n",
    "policyscenner = policyscenadding()\n",
    "policyscenner.read_engage_data()\n",
    "policyscenner.filter_and_convert()\n",
    "policyscenner.add_to_xr()"
   ]
  }
 ],
 "metadata": {
  "interpreter": {
   "hash": "36d5d389870ab01fa625d0d5123f82469a3683fa0e02c4f7e9e76e9a75345aa3"
  },
  "kernelspec": {
   "display_name": "Python 3.9.11 ('MyEnv')",
   "language": "python",
   "name": "python3"
  },
  "language_info": {
   "codemirror_mode": {
    "name": "ipython",
    "version": 3
   },
   "file_extension": ".py",
   "mimetype": "text/x-python",
   "name": "python",
   "nbconvert_exporter": "python",
   "pygments_lexer": "ipython3",
   "version": "3.11.7"
  },
  "orig_nbformat": 4
 },
 "nbformat": 4,
 "nbformat_minor": 2
}
