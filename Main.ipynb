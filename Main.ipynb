{
 "cells": [
  {
   "cell_type": "markdown",
   "metadata": {},
   "source": [
    "## Preambule"
   ]
  },
  {
   "cell_type": "code",
   "execution_count": 1,
   "metadata": {},
   "outputs": [],
   "source": [
    "import numpy as np\n",
    "from tqdm import tqdm\n",
    "from importlib import reload\n",
    "import matplotlib.pyplot as plt\n",
    "import xarray as xr\n",
    "import pandas as pd\n",
    "import scipy\n",
    "from scipy.optimize import curve_fit\n",
    "from scipy.signal import savgol_filter\n",
    "import warnings\n",
    "warnings.simplefilter(action='ignore', category=FutureWarning)"
   ]
  },
  {
   "cell_type": "markdown",
   "metadata": {},
   "source": [
    "## Run classes"
   ]
  },
  {
   "cell_type": "code",
   "execution_count": 2,
   "metadata": {},
   "outputs": [
    {
     "name": "stdout",
     "output_type": "stream",
     "text": [
      "# ==================================== #\n",
      "# Initializing datareading class     #\n",
      "# ==================================== #\n",
      "- Reading general data\n",
      "- Reading GDP and population data from SSPs\n",
      "- Reading UN population data (for past population)\n",
      "- Reading historical emissions (primap)\n",
      "- Read AR6 data\n",
      "- Get relationship between CO2 budgets and non-co2 reduction in 2050\n",
      "- Computing global nonco2 trajectories\n",
      "- Get global CO2 budgets\n",
      "- Computing global co2 trajectories\n",
      "- Reading baseline emissions\n",
      "- Reading NDC data\n",
      "- Merging xrarray object\n",
      "- Add country groups\n",
      "- Save important files\n",
      "- Some pre-calculations for the AP allocation rule\n"
     ]
    }
   ],
   "source": [
    "import class_datareading\n",
    "reload(class_datareading)\n",
    "from class_datareading import datareading\n",
    "\n",
    "datareader = datareading()\n",
    "datareader.read_general()\n",
    "datareader.read_ssps()\n",
    "datareader.read_undata()\n",
    "datareader.read_historicalemis()\n",
    "datareader.read_ar6()\n",
    "datareader.relation_budget_nonco2()\n",
    "datareader.determine_global_nonco2_trajectories()\n",
    "datareader.determine_global_budgets()\n",
    "datareader.determine_global_co2_trajectories()\n",
    "datareader.read_baseline()\n",
    "datareader.read_ndc() \n",
    "datareader.merge_xr()\n",
    "datareader.add_country_groups()\n",
    "datareader.save() "
   ]
  },
  {
   "cell_type": "code",
   "execution_count": 3,
   "metadata": {},
   "outputs": [],
   "source": [
    "import class_allocation\n",
    "\n",
    "reload(class_allocation)\n",
    "from class_allocation import allocation\n",
    "\n",
    "for cty in tqdm(np.array(datareader.xr_total.Region)):\n",
    "    allocator = allocation(cty)\n",
    "    allocator.gf()  \n",
    "    allocator.pc()\n",
    "    allocator.pcc()\n",
    "    allocator.ecpc()\n",
    "    allocator.ap()\n",
    "    allocator.gdr()\n",
    "    allocator.save()"
   ]
  },
  {
   "cell_type": "code",
   "execution_count": 2,
   "metadata": {},
   "outputs": [
    {
     "name": "stdout",
     "output_type": "stream",
     "text": [
      "# ==================================== #\n",
      "# Initializing tempaligning class        #\n",
      "# ==================================== #\n",
      "- Determine relation between 2030-emissions and temperature outcome\n",
      "- Determine temperature metric\n"
     ]
    },
    {
     "name": "stderr",
     "output_type": "stream",
     "text": [
      "100%|██████████| 6/6 [00:23<00:00,  3.90s/it]\n"
     ]
    },
    {
     "name": "stdout",
     "output_type": "stream",
     "text": [
      "- Save\n"
     ]
    }
   ],
   "source": [
    "import class_tempalign\n",
    "reload(class_tempalign)\n",
    "from class_tempalign import tempaligning\n",
    "\n",
    "tempaligner = tempaligning() # FIRST RUN AGGREGATOR FOR THIS!! (2030 alloc)\n",
    "tempaligner.get_relation_2030emis_temp()\n",
    "tempaligner.determine_tempoutcomes()\n",
    "tempaligner.save()"
   ]
  },
  {
   "cell_type": "code",
   "execution_count": null,
   "metadata": {},
   "outputs": [
    {
     "ename": "NameError",
     "evalue": "name 'datareader' is not defined",
     "output_type": "error",
     "traceback": [
      "\u001b[1;31m---------------------------------------------------------------------------\u001b[0m",
      "\u001b[1;31mNameError\u001b[0m                                 Traceback (most recent call last)",
      "\u001b[1;32m<ipython-input-3-78ca829556bd>\u001b[0m in \u001b[0;36m<module>\u001b[1;34m\u001b[0m\n\u001b[0;32m      3\u001b[0m \u001b[1;32mfrom\u001b[0m \u001b[0mclass_policyscens\u001b[0m \u001b[1;32mimport\u001b[0m \u001b[0mpolicyscenadding\u001b[0m\u001b[1;33m\u001b[0m\u001b[1;33m\u001b[0m\u001b[0m\n\u001b[0;32m      4\u001b[0m \u001b[1;33m\u001b[0m\u001b[0m\n\u001b[1;32m----> 5\u001b[1;33m \u001b[0mpolicyscenner\u001b[0m \u001b[1;33m=\u001b[0m \u001b[0mpolicyscenadding\u001b[0m\u001b[1;33m(\u001b[0m\u001b[0mdatareader\u001b[0m\u001b[1;33m.\u001b[0m\u001b[0mxr_total\u001b[0m\u001b[1;33m)\u001b[0m\u001b[1;33m\u001b[0m\u001b[1;33m\u001b[0m\u001b[0m\n\u001b[0m\u001b[0;32m      6\u001b[0m \u001b[0mpolicyscenner\u001b[0m\u001b[1;33m.\u001b[0m\u001b[0mread_engage_data\u001b[0m\u001b[1;33m(\u001b[0m\u001b[1;33m)\u001b[0m\u001b[1;33m\u001b[0m\u001b[1;33m\u001b[0m\u001b[0m\n\u001b[0;32m      7\u001b[0m \u001b[0mpolicyscenner\u001b[0m\u001b[1;33m.\u001b[0m\u001b[0mfilter_and_convert\u001b[0m\u001b[1;33m(\u001b[0m\u001b[1;33m)\u001b[0m\u001b[1;33m\u001b[0m\u001b[1;33m\u001b[0m\u001b[0m\n",
      "\u001b[1;31mNameError\u001b[0m: name 'datareader' is not defined"
     ]
    }
   ],
   "source": [
    "import class_policyscens\n",
    "reload(class_policyscens)\n",
    "from class_policyscens import policyscenadding\n",
    "\n",
    "policyscenner = policyscenadding(datareader.xr_total)\n",
    "policyscenner.read_engage_data()\n",
    "policyscenner.filter_and_convert()\n",
    "policyscenner.add_to_xr()"
   ]
  }
 ],
 "metadata": {
  "interpreter": {
   "hash": "36d5d389870ab01fa625d0d5123f82469a3683fa0e02c4f7e9e76e9a75345aa3"
  },
  "kernelspec": {
   "display_name": "Python 3.9.11 ('MyEnv')",
   "language": "python",
   "name": "python3"
  },
  "language_info": {
   "codemirror_mode": {
    "name": "ipython",
    "version": 3
   },
   "file_extension": ".py",
   "mimetype": "text/x-python",
   "name": "python",
   "nbconvert_exporter": "python",
   "pygments_lexer": "ipython3",
   "version": "3.8.6"
  },
  "orig_nbformat": 4
 },
 "nbformat": 4,
 "nbformat_minor": 2
}
