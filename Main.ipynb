{
 "cells": [
  {
   "attachments": {},
   "cell_type": "markdown",
   "metadata": {},
   "source": [
    "## Preambule"
   ]
  },
  {
   "cell_type": "code",
   "execution_count": 1,
   "metadata": {},
   "outputs": [],
   "source": [
    "import numpy as np\n",
    "import xarray as xr\n",
    "from importlib import reload\n",
    "import pandas as pd\n",
    "from tqdm import tqdm\n",
    "import json\n",
    "from pathlib import Path\n",
    "import os\n",
    "import matplotlib.pyplot as plt\n",
    "import warnings\n",
    "warnings.filterwarnings(\"ignore\")"
   ]
  },
  {
   "cell_type": "code",
   "execution_count": 2,
   "metadata": {},
   "outputs": [],
   "source": [
    "import Functions\n",
    "reload(Functions)\n",
    "from Functions import (pop_func, emis_func, determine_coefficient,\n",
    "                       popshare_func, emisshare_func, emis_total_func, rho, cumpopshare_func,\n",
    "                       cumfuturepop_func, emis_f_func, gdp_future, create_groups, gdp_future_reread, grouping, grouping_xarray)"
   ]
  },
  {
   "attachments": {},
   "cell_type": "markdown",
   "metadata": {},
   "source": [
    "## Run class or read xarray file"
   ]
  },
  {
   "cell_type": "code",
   "execution_count": 19,
   "metadata": {},
   "outputs": [
    {
     "name": "stdout",
     "output_type": "stream",
     "text": [
      "# ==================================== #\n",
      "# Initializing shareefforts class    #\n",
      "# ==================================== #\n",
      "- Defining paths\n",
      "- Reading country groups\n",
      "- Load XR databases\n",
      "- General calculations for effort sharing\n",
      "- Save budgets\n"
     ]
    }
   ],
   "source": [
    "import ClassEffortSharing\n",
    "reload(ClassEffortSharing)\n",
    "from ClassEffortSharing import shareefforts\n",
    "\n",
    "efshare = shareefforts()\n",
    "efshare.define_paths()\n",
    "efshare.read_countrygroups()\n",
    "if efshare.reread == True:\n",
    "    efshare.read_unpop()\n",
    "    efshare.read_hdi()\n",
    "    efshare.read_gdp()\n",
    "    efshare.read_edgar()\n",
    "    efshare.read_primap()\n",
    "    efshare.read_ar6()\n",
    "    efshare.read_rci()\n",
    "    efshare.read_ndc_cr()\n",
    "    efshare.read_ndc()\n",
    "    efshare.read_baseline()\n",
    "    efshare.concat_xrobject()\n",
    "    efshare.save_xrs_databases()\n",
    "else:\n",
    "    efshare.load_xrs_databases()\n",
    "efshare.general_calculations()\n",
    "efshare.save_budgets()\n",
    "self = efshare"
   ]
  }
 ],
 "metadata": {
  "interpreter": {
   "hash": "36d5d389870ab01fa625d0d5123f82469a3683fa0e02c4f7e9e76e9a75345aa3"
  },
  "kernelspec": {
   "display_name": "Python 3.9.11 ('MyEnv')",
   "language": "python",
   "name": "python3"
  },
  "language_info": {
   "codemirror_mode": {
    "name": "ipython",
    "version": 3
   },
   "file_extension": ".py",
   "mimetype": "text/x-python",
   "name": "python",
   "nbconvert_exporter": "python",
   "pygments_lexer": "ipython3",
   "version": "3.9.16"
  },
  "orig_nbformat": 4
 },
 "nbformat": 4,
 "nbformat_minor": 2
}
