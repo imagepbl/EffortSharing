{
 "cells": [
  {
   "attachments": {},
   "cell_type": "markdown",
   "metadata": {},
   "source": [
    "## Preambule"
   ]
  },
  {
   "cell_type": "code",
   "execution_count": 24,
   "metadata": {},
   "outputs": [],
   "source": [
    "import numpy as np\n",
    "import pandas as pd\n",
    "import matplotlib.pyplot as plt\n",
    "from pathlib import Path\n",
    "import xarray as xr\n",
    "import plotly.graph_objects as go"
   ]
  },
  {
   "attachments": {},
   "cell_type": "markdown",
   "metadata": {},
   "source": [
    "## Read data"
   ]
  },
  {
   "cell_type": "code",
   "execution_count": 12,
   "metadata": {},
   "outputs": [],
   "source": [
    "xr_total = xr.open_dataset(Path(\"X:/user/dekkerm/Projects/ECEMF/WP5/\") / \"Data\" / \"EffortSharing\" / \"1990\" / \"xr_total.nc\")\n",
    "xr_budgets_scenario = xr.open_dataset(Path(\"X:/user/dekkerm/Projects/ECEMF/WP5/\") / \"Data\" / \"EffortSharing\" / \"1990\" / \"xr_budgets_scenario.nc\")\n",
    "xr_budgets_static = xr.open_dataset(Path(\"X:/user/dekkerm/Projects/ECEMF/WP5/\") / \"Data\" / \"EffortSharing\" / \"1990\" / \"xr_budgets_static.nc\")"
   ]
  },
  {
   "attachments": {},
   "cell_type": "markdown",
   "metadata": {},
   "source": [
    "## Check: missing data"
   ]
  },
  {
   "cell_type": "code",
   "execution_count": 4,
   "metadata": {},
   "outputs": [],
   "source": [
    "df_missing = {}\n",
    "df_missing['ISO3'] = xr_total.ISO\n",
    "df_missing[\"Population_past\"] = np.isnan(np.array(xr_total.Population.sel(Time=2000)))\n",
    "df_missing[\"Population_future\"] = np.isnan(np.array(xr_total.Population.sel(Time=2050)))\n",
    "df_missing[\"GDP_past\"] = np.isnan(np.array(xr_total.GDP.sel(Time=2000)))\n",
    "df_missing[\"GDP_future\"] = np.isnan(np.array(xr_total.GDP.sel(Time=2050)))\n",
    "df_missing[\"Emissions_past\"] = np.isnan(np.array(xr_total.GHG_p.sel(Time=2000)))\n",
    "df_missing[\"HDI\"] = np.isnan(np.array(xr_total.HDI))\n",
    "df_missing[\"NDC\"] = np.isnan(np.array(xr_total.NDC_h.sel(Time=2030)))"
   ]
  },
  {
   "cell_type": "code",
   "execution_count": 5,
   "metadata": {},
   "outputs": [],
   "source": [
    "pd.DataFrame(df_missing).to_csv(Path(\"X:/user/dekkerm/Projects/ECEMF/WP5/\") / \"Data\" / \"EffortSharing\" / \"MissingData.csv\")"
   ]
  },
  {
   "cell_type": "code",
   "execution_count": 6,
   "metadata": {},
   "outputs": [
    {
     "name": "stdout",
     "output_type": "stream",
     "text": [
      "Population_past: 5.34 percent is missing\n",
      "Population_future: 5.34 percent is missing\n",
      "GDP_past: 16.79 percent is missing\n",
      "GDP_future: 16.79 percent is missing\n",
      "Emissions_past: 16.79 percent is missing\n",
      "HDI: 22.14 percent is missing\n",
      "NDC: 20.99 percent is missing\n",
      "\n",
      "Population_past: 0.0 percent is missing\n",
      "Population_future: 0.0 percent is missing\n",
      "GDP_past: 0.35062 percent is missing\n",
      "GDP_future: 0.35062 percent is missing\n",
      "Emissions_past: 0.16539 percent is missing\n",
      "HDI: 0.35499 percent is missing\n",
      "NDC: 0.59889 percent is missing\n"
     ]
    }
   ],
   "source": [
    "for k in list(df_missing.keys())[1:]:\n",
    "    print(k+':', np.round(np.sum(df_missing[k])/len(df_missing[k])*100,2), 'percent is missing')\n",
    "print()\n",
    "pop = np.array(xr_total.Population.sel(Time=2020))\n",
    "for k in list(df_missing.keys())[1:]:\n",
    "    popw = np.array(xr_total.Population.sel(Time=2020, ISO='WORLD'))\n",
    "    print(k+':', np.round(np.nansum(df_missing[k]*1*pop)/popw*100,5), 'percent is missing')"
   ]
  },
  {
   "attachments": {},
   "cell_type": "markdown",
   "metadata": {},
   "source": [
    "## Check: Fyson 2 behavior per country"
   ]
  },
  {
   "attachments": {},
   "cell_type": "markdown",
   "metadata": {},
   "source": [
    "## Check monotomy"
   ]
  },
  {
   "cell_type": "code",
   "execution_count": 11,
   "metadata": {},
   "outputs": [
    {
     "data": {
      "text/html": [
       "<div><svg style=\"position: absolute; width: 0; height: 0; overflow: hidden\">\n",
       "<defs>\n",
       "<symbol id=\"icon-database\" viewBox=\"0 0 32 32\">\n",
       "<path d=\"M16 0c-8.837 0-16 2.239-16 5v4c0 2.761 7.163 5 16 5s16-2.239 16-5v-4c0-2.761-7.163-5-16-5z\"></path>\n",
       "<path d=\"M16 17c-8.837 0-16-2.239-16-5v6c0 2.761 7.163 5 16 5s16-2.239 16-5v-6c0 2.761-7.163 5-16 5z\"></path>\n",
       "<path d=\"M16 26c-8.837 0-16-2.239-16-5v6c0 2.761 7.163 5 16 5s16-2.239 16-5v-6c0 2.761-7.163 5-16 5z\"></path>\n",
       "</symbol>\n",
       "<symbol id=\"icon-file-text2\" viewBox=\"0 0 32 32\">\n",
       "<path d=\"M28.681 7.159c-0.694-0.947-1.662-2.053-2.724-3.116s-2.169-2.030-3.116-2.724c-1.612-1.182-2.393-1.319-2.841-1.319h-15.5c-1.378 0-2.5 1.121-2.5 2.5v27c0 1.378 1.122 2.5 2.5 2.5h23c1.378 0 2.5-1.122 2.5-2.5v-19.5c0-0.448-0.137-1.23-1.319-2.841zM24.543 5.457c0.959 0.959 1.712 1.825 2.268 2.543h-4.811v-4.811c0.718 0.556 1.584 1.309 2.543 2.268zM28 29.5c0 0.271-0.229 0.5-0.5 0.5h-23c-0.271 0-0.5-0.229-0.5-0.5v-27c0-0.271 0.229-0.5 0.5-0.5 0 0 15.499-0 15.5 0v7c0 0.552 0.448 1 1 1h7v19.5z\"></path>\n",
       "<path d=\"M23 26h-14c-0.552 0-1-0.448-1-1s0.448-1 1-1h14c0.552 0 1 0.448 1 1s-0.448 1-1 1z\"></path>\n",
       "<path d=\"M23 22h-14c-0.552 0-1-0.448-1-1s0.448-1 1-1h14c0.552 0 1 0.448 1 1s-0.448 1-1 1z\"></path>\n",
       "<path d=\"M23 18h-14c-0.552 0-1-0.448-1-1s0.448-1 1-1h14c0.552 0 1 0.448 1 1s-0.448 1-1 1z\"></path>\n",
       "</symbol>\n",
       "</defs>\n",
       "</svg>\n",
       "<style>/* CSS stylesheet for displaying xarray objects in jupyterlab.\n",
       " *\n",
       " */\n",
       "\n",
       ":root {\n",
       "  --xr-font-color0: var(--jp-content-font-color0, rgba(0, 0, 0, 1));\n",
       "  --xr-font-color2: var(--jp-content-font-color2, rgba(0, 0, 0, 0.54));\n",
       "  --xr-font-color3: var(--jp-content-font-color3, rgba(0, 0, 0, 0.38));\n",
       "  --xr-border-color: var(--jp-border-color2, #e0e0e0);\n",
       "  --xr-disabled-color: var(--jp-layout-color3, #bdbdbd);\n",
       "  --xr-background-color: var(--jp-layout-color0, white);\n",
       "  --xr-background-color-row-even: var(--jp-layout-color1, white);\n",
       "  --xr-background-color-row-odd: var(--jp-layout-color2, #eeeeee);\n",
       "}\n",
       "\n",
       "html[theme=dark],\n",
       "body.vscode-dark {\n",
       "  --xr-font-color0: rgba(255, 255, 255, 1);\n",
       "  --xr-font-color2: rgba(255, 255, 255, 0.54);\n",
       "  --xr-font-color3: rgba(255, 255, 255, 0.38);\n",
       "  --xr-border-color: #1F1F1F;\n",
       "  --xr-disabled-color: #515151;\n",
       "  --xr-background-color: #111111;\n",
       "  --xr-background-color-row-even: #111111;\n",
       "  --xr-background-color-row-odd: #313131;\n",
       "}\n",
       "\n",
       ".xr-wrap {\n",
       "  display: block;\n",
       "  min-width: 300px;\n",
       "  max-width: 700px;\n",
       "}\n",
       "\n",
       ".xr-text-repr-fallback {\n",
       "  /* fallback to plain text repr when CSS is not injected (untrusted notebook) */\n",
       "  display: none;\n",
       "}\n",
       "\n",
       ".xr-header {\n",
       "  padding-top: 6px;\n",
       "  padding-bottom: 6px;\n",
       "  margin-bottom: 4px;\n",
       "  border-bottom: solid 1px var(--xr-border-color);\n",
       "}\n",
       "\n",
       ".xr-header > div,\n",
       ".xr-header > ul {\n",
       "  display: inline;\n",
       "  margin-top: 0;\n",
       "  margin-bottom: 0;\n",
       "}\n",
       "\n",
       ".xr-obj-type,\n",
       ".xr-array-name {\n",
       "  margin-left: 2px;\n",
       "  margin-right: 10px;\n",
       "}\n",
       "\n",
       ".xr-obj-type {\n",
       "  color: var(--xr-font-color2);\n",
       "}\n",
       "\n",
       ".xr-sections {\n",
       "  padding-left: 0 !important;\n",
       "  display: grid;\n",
       "  grid-template-columns: 150px auto auto 1fr 20px 20px;\n",
       "}\n",
       "\n",
       ".xr-section-item {\n",
       "  display: contents;\n",
       "}\n",
       "\n",
       ".xr-section-item input {\n",
       "  display: none;\n",
       "}\n",
       "\n",
       ".xr-section-item input + label {\n",
       "  color: var(--xr-disabled-color);\n",
       "}\n",
       "\n",
       ".xr-section-item input:enabled + label {\n",
       "  cursor: pointer;\n",
       "  color: var(--xr-font-color2);\n",
       "}\n",
       "\n",
       ".xr-section-item input:enabled + label:hover {\n",
       "  color: var(--xr-font-color0);\n",
       "}\n",
       "\n",
       ".xr-section-summary {\n",
       "  grid-column: 1;\n",
       "  color: var(--xr-font-color2);\n",
       "  font-weight: 500;\n",
       "}\n",
       "\n",
       ".xr-section-summary > span {\n",
       "  display: inline-block;\n",
       "  padding-left: 0.5em;\n",
       "}\n",
       "\n",
       ".xr-section-summary-in:disabled + label {\n",
       "  color: var(--xr-font-color2);\n",
       "}\n",
       "\n",
       ".xr-section-summary-in + label:before {\n",
       "  display: inline-block;\n",
       "  content: '►';\n",
       "  font-size: 11px;\n",
       "  width: 15px;\n",
       "  text-align: center;\n",
       "}\n",
       "\n",
       ".xr-section-summary-in:disabled + label:before {\n",
       "  color: var(--xr-disabled-color);\n",
       "}\n",
       "\n",
       ".xr-section-summary-in:checked + label:before {\n",
       "  content: '▼';\n",
       "}\n",
       "\n",
       ".xr-section-summary-in:checked + label > span {\n",
       "  display: none;\n",
       "}\n",
       "\n",
       ".xr-section-summary,\n",
       ".xr-section-inline-details {\n",
       "  padding-top: 4px;\n",
       "  padding-bottom: 4px;\n",
       "}\n",
       "\n",
       ".xr-section-inline-details {\n",
       "  grid-column: 2 / -1;\n",
       "}\n",
       "\n",
       ".xr-section-details {\n",
       "  display: none;\n",
       "  grid-column: 1 / -1;\n",
       "  margin-bottom: 5px;\n",
       "}\n",
       "\n",
       ".xr-section-summary-in:checked ~ .xr-section-details {\n",
       "  display: contents;\n",
       "}\n",
       "\n",
       ".xr-array-wrap {\n",
       "  grid-column: 1 / -1;\n",
       "  display: grid;\n",
       "  grid-template-columns: 20px auto;\n",
       "}\n",
       "\n",
       ".xr-array-wrap > label {\n",
       "  grid-column: 1;\n",
       "  vertical-align: top;\n",
       "}\n",
       "\n",
       ".xr-preview {\n",
       "  color: var(--xr-font-color3);\n",
       "}\n",
       "\n",
       ".xr-array-preview,\n",
       ".xr-array-data {\n",
       "  padding: 0 5px !important;\n",
       "  grid-column: 2;\n",
       "}\n",
       "\n",
       ".xr-array-data,\n",
       ".xr-array-in:checked ~ .xr-array-preview {\n",
       "  display: none;\n",
       "}\n",
       "\n",
       ".xr-array-in:checked ~ .xr-array-data,\n",
       ".xr-array-preview {\n",
       "  display: inline-block;\n",
       "}\n",
       "\n",
       ".xr-dim-list {\n",
       "  display: inline-block !important;\n",
       "  list-style: none;\n",
       "  padding: 0 !important;\n",
       "  margin: 0;\n",
       "}\n",
       "\n",
       ".xr-dim-list li {\n",
       "  display: inline-block;\n",
       "  padding: 0;\n",
       "  margin: 0;\n",
       "}\n",
       "\n",
       ".xr-dim-list:before {\n",
       "  content: '(';\n",
       "}\n",
       "\n",
       ".xr-dim-list:after {\n",
       "  content: ')';\n",
       "}\n",
       "\n",
       ".xr-dim-list li:not(:last-child):after {\n",
       "  content: ',';\n",
       "  padding-right: 5px;\n",
       "}\n",
       "\n",
       ".xr-has-index {\n",
       "  font-weight: bold;\n",
       "}\n",
       "\n",
       ".xr-var-list,\n",
       ".xr-var-item {\n",
       "  display: contents;\n",
       "}\n",
       "\n",
       ".xr-var-item > div,\n",
       ".xr-var-item label,\n",
       ".xr-var-item > .xr-var-name span {\n",
       "  background-color: var(--xr-background-color-row-even);\n",
       "  margin-bottom: 0;\n",
       "}\n",
       "\n",
       ".xr-var-item > .xr-var-name:hover span {\n",
       "  padding-right: 5px;\n",
       "}\n",
       "\n",
       ".xr-var-list > li:nth-child(odd) > div,\n",
       ".xr-var-list > li:nth-child(odd) > label,\n",
       ".xr-var-list > li:nth-child(odd) > .xr-var-name span {\n",
       "  background-color: var(--xr-background-color-row-odd);\n",
       "}\n",
       "\n",
       ".xr-var-name {\n",
       "  grid-column: 1;\n",
       "}\n",
       "\n",
       ".xr-var-dims {\n",
       "  grid-column: 2;\n",
       "}\n",
       "\n",
       ".xr-var-dtype {\n",
       "  grid-column: 3;\n",
       "  text-align: right;\n",
       "  color: var(--xr-font-color2);\n",
       "}\n",
       "\n",
       ".xr-var-preview {\n",
       "  grid-column: 4;\n",
       "}\n",
       "\n",
       ".xr-var-name,\n",
       ".xr-var-dims,\n",
       ".xr-var-dtype,\n",
       ".xr-preview,\n",
       ".xr-attrs dt {\n",
       "  white-space: nowrap;\n",
       "  overflow: hidden;\n",
       "  text-overflow: ellipsis;\n",
       "  padding-right: 10px;\n",
       "}\n",
       "\n",
       ".xr-var-name:hover,\n",
       ".xr-var-dims:hover,\n",
       ".xr-var-dtype:hover,\n",
       ".xr-attrs dt:hover {\n",
       "  overflow: visible;\n",
       "  width: auto;\n",
       "  z-index: 1;\n",
       "}\n",
       "\n",
       ".xr-var-attrs,\n",
       ".xr-var-data {\n",
       "  display: none;\n",
       "  background-color: var(--xr-background-color) !important;\n",
       "  padding-bottom: 5px !important;\n",
       "}\n",
       "\n",
       ".xr-var-attrs-in:checked ~ .xr-var-attrs,\n",
       ".xr-var-data-in:checked ~ .xr-var-data {\n",
       "  display: block;\n",
       "}\n",
       "\n",
       ".xr-var-data > table {\n",
       "  float: right;\n",
       "}\n",
       "\n",
       ".xr-var-name span,\n",
       ".xr-var-data,\n",
       ".xr-attrs {\n",
       "  padding-left: 25px !important;\n",
       "}\n",
       "\n",
       ".xr-attrs,\n",
       ".xr-var-attrs,\n",
       ".xr-var-data {\n",
       "  grid-column: 1 / -1;\n",
       "}\n",
       "\n",
       "dl.xr-attrs {\n",
       "  padding: 0;\n",
       "  margin: 0;\n",
       "  display: grid;\n",
       "  grid-template-columns: 125px auto;\n",
       "}\n",
       "\n",
       ".xr-attrs dt,\n",
       ".xr-attrs dd {\n",
       "  padding: 0;\n",
       "  margin: 0;\n",
       "  float: left;\n",
       "  padding-right: 10px;\n",
       "  width: auto;\n",
       "}\n",
       "\n",
       ".xr-attrs dt {\n",
       "  font-weight: normal;\n",
       "  grid-column: 1;\n",
       "}\n",
       "\n",
       ".xr-attrs dt:hover span {\n",
       "  display: inline-block;\n",
       "  background: var(--xr-background-color);\n",
       "  padding-right: 10px;\n",
       "}\n",
       "\n",
       ".xr-attrs dd {\n",
       "  grid-column: 2;\n",
       "  white-space: pre-wrap;\n",
       "  word-break: break-all;\n",
       "}\n",
       "\n",
       ".xr-icon-database,\n",
       ".xr-icon-file-text2 {\n",
       "  display: inline-block;\n",
       "  vertical-align: middle;\n",
       "  width: 1em;\n",
       "  height: 1.5em !important;\n",
       "  stroke-width: 0;\n",
       "  stroke: currentColor;\n",
       "  fill: currentColor;\n",
       "}\n",
       "</style><pre class='xr-text-repr-fallback'>&lt;xarray.Dataset&gt;\n",
       "Dimensions:     (Time: 111)\n",
       "Coordinates:\n",
       "    ISO         &lt;U3 &#x27;USA&#x27;\n",
       "  * Time        (Time) int32 1990 1991 1992 1993 1994 ... 2097 2098 2099 2100\n",
       "    Category    &lt;U2 &#x27;C1&#x27;\n",
       "Data variables: (12/14)\n",
       "    Population  (Time) float64 2.464e+08 2.498e+08 ... 3.939e+08 3.94e+08\n",
       "    GDP         (Time) float64 nan nan nan nan ... 4.273e+13 4.312e+13 4.351e+13\n",
       "    GHG_e       (Time) float64 6.234 6.193 6.292 6.418 6.537 ... nan nan nan nan\n",
       "    GHG_p       (Time) float64 6.109 6.1 6.203 6.318 6.42 ... nan nan nan nan\n",
       "    GHG_p_incl  (Time) float64 5.693 5.683 5.787 5.901 6.004 ... nan nan nan nan\n",
       "    GHG_base    (Time) float64 nan nan nan nan nan ... 5.184 5.165 5.146 5.127\n",
       "    ...          ...\n",
       "    HDI         float64 0.921\n",
       "    HDIsh       float64 nan\n",
       "    NegGHG      (Time) float64 nan nan nan nan nan ... 19.74 18.9 18.07 17.24\n",
       "    GHG_f       (Time) float64 nan nan nan nan nan ... 4.311 4.06 3.81 3.56\n",
       "    GHG_f_incl  (Time) float64 nan nan nan nan ... 0.707 0.4375 0.1681 -0.1014\n",
       "    GHG_f_co2   (Time) float64 nan nan nan nan ... -6.092 -6.268 -6.444 -6.62</pre><div class='xr-wrap' hidden><div class='xr-header'><div class='xr-obj-type'>xarray.Dataset</div></div><ul class='xr-sections'><li class='xr-section-item'><input id='section-8e25bf60-eaa1-49d3-918d-c99c066dc704' class='xr-section-summary-in' type='checkbox' disabled ><label for='section-8e25bf60-eaa1-49d3-918d-c99c066dc704' class='xr-section-summary'  title='Expand/collapse section'>Dimensions:</label><div class='xr-section-inline-details'><ul class='xr-dim-list'><li><span class='xr-has-index'>Time</span>: 111</li></ul></div><div class='xr-section-details'></div></li><li class='xr-section-item'><input id='section-cb86b588-ddb3-412b-808e-b53932d0b1a0' class='xr-section-summary-in' type='checkbox'  checked><label for='section-cb86b588-ddb3-412b-808e-b53932d0b1a0' class='xr-section-summary' >Coordinates: <span>(3)</span></label><div class='xr-section-inline-details'></div><div class='xr-section-details'><ul class='xr-var-list'><li class='xr-var-item'><div class='xr-var-name'><span>ISO</span></div><div class='xr-var-dims'>()</div><div class='xr-var-dtype'>&lt;U3</div><div class='xr-var-preview xr-preview'>&#x27;USA&#x27;</div><input id='attrs-c3d5d1cb-d91d-4e55-9e2d-38c64cf9a96b' class='xr-var-attrs-in' type='checkbox' disabled><label for='attrs-c3d5d1cb-d91d-4e55-9e2d-38c64cf9a96b' title='Show/Hide attributes'><svg class='icon xr-icon-file-text2'><use xlink:href='#icon-file-text2'></use></svg></label><input id='data-9764d267-e8d8-420d-a891-3f06f7072c1f' class='xr-var-data-in' type='checkbox'><label for='data-9764d267-e8d8-420d-a891-3f06f7072c1f' title='Show/Hide data repr'><svg class='icon xr-icon-database'><use xlink:href='#icon-database'></use></svg></label><div class='xr-var-attrs'><dl class='xr-attrs'></dl></div><div class='xr-var-data'><pre>array(&#x27;USA&#x27;, dtype=&#x27;&lt;U3&#x27;)</pre></div></li><li class='xr-var-item'><div class='xr-var-name'><span class='xr-has-index'>Time</span></div><div class='xr-var-dims'>(Time)</div><div class='xr-var-dtype'>int32</div><div class='xr-var-preview xr-preview'>1990 1991 1992 ... 2098 2099 2100</div><input id='attrs-22e3025d-6443-4480-9aed-55bb1622cdaf' class='xr-var-attrs-in' type='checkbox' disabled><label for='attrs-22e3025d-6443-4480-9aed-55bb1622cdaf' title='Show/Hide attributes'><svg class='icon xr-icon-file-text2'><use xlink:href='#icon-file-text2'></use></svg></label><input id='data-4d1fa91b-e4ec-4c98-8a1c-a26ad129ac56' class='xr-var-data-in' type='checkbox'><label for='data-4d1fa91b-e4ec-4c98-8a1c-a26ad129ac56' title='Show/Hide data repr'><svg class='icon xr-icon-database'><use xlink:href='#icon-database'></use></svg></label><div class='xr-var-attrs'><dl class='xr-attrs'></dl></div><div class='xr-var-data'><pre>array([1990, 1991, 1992, 1993, 1994, 1995, 1996, 1997, 1998, 1999, 2000, 2001,\n",
       "       2002, 2003, 2004, 2005, 2006, 2007, 2008, 2009, 2010, 2011, 2012, 2013,\n",
       "       2014, 2015, 2016, 2017, 2018, 2019, 2020, 2021, 2022, 2023, 2024, 2025,\n",
       "       2026, 2027, 2028, 2029, 2030, 2031, 2032, 2033, 2034, 2035, 2036, 2037,\n",
       "       2038, 2039, 2040, 2041, 2042, 2043, 2044, 2045, 2046, 2047, 2048, 2049,\n",
       "       2050, 2051, 2052, 2053, 2054, 2055, 2056, 2057, 2058, 2059, 2060, 2061,\n",
       "       2062, 2063, 2064, 2065, 2066, 2067, 2068, 2069, 2070, 2071, 2072, 2073,\n",
       "       2074, 2075, 2076, 2077, 2078, 2079, 2080, 2081, 2082, 2083, 2084, 2085,\n",
       "       2086, 2087, 2088, 2089, 2090, 2091, 2092, 2093, 2094, 2095, 2096, 2097,\n",
       "       2098, 2099, 2100])</pre></div></li><li class='xr-var-item'><div class='xr-var-name'><span>Category</span></div><div class='xr-var-dims'>()</div><div class='xr-var-dtype'>&lt;U2</div><div class='xr-var-preview xr-preview'>&#x27;C1&#x27;</div><input id='attrs-2fde26f2-b333-4d1f-8153-1051627f6119' class='xr-var-attrs-in' type='checkbox' disabled><label for='attrs-2fde26f2-b333-4d1f-8153-1051627f6119' title='Show/Hide attributes'><svg class='icon xr-icon-file-text2'><use xlink:href='#icon-file-text2'></use></svg></label><input id='data-0402e6f7-147d-4810-96e6-38682cf7df58' class='xr-var-data-in' type='checkbox'><label for='data-0402e6f7-147d-4810-96e6-38682cf7df58' title='Show/Hide data repr'><svg class='icon xr-icon-database'><use xlink:href='#icon-database'></use></svg></label><div class='xr-var-attrs'><dl class='xr-attrs'></dl></div><div class='xr-var-data'><pre>array(&#x27;C1&#x27;, dtype=&#x27;&lt;U2&#x27;)</pre></div></li></ul></div></li><li class='xr-section-item'><input id='section-0b216679-9b4c-4d42-890b-df4d2fb15478' class='xr-section-summary-in' type='checkbox'  checked><label for='section-0b216679-9b4c-4d42-890b-df4d2fb15478' class='xr-section-summary' >Data variables: <span>(14)</span></label><div class='xr-section-inline-details'></div><div class='xr-section-details'><ul class='xr-var-list'><li class='xr-var-item'><div class='xr-var-name'><span>Population</span></div><div class='xr-var-dims'>(Time)</div><div class='xr-var-dtype'>float64</div><div class='xr-var-preview xr-preview'>2.464e+08 2.498e+08 ... 3.94e+08</div><input id='attrs-f9de9d8f-22ec-4ddb-9cb6-f95437de8247' class='xr-var-attrs-in' type='checkbox' disabled><label for='attrs-f9de9d8f-22ec-4ddb-9cb6-f95437de8247' title='Show/Hide attributes'><svg class='icon xr-icon-file-text2'><use xlink:href='#icon-file-text2'></use></svg></label><input id='data-a6ecbfad-e6d2-4d75-a888-fdf82f917da1' class='xr-var-data-in' type='checkbox'><label for='data-a6ecbfad-e6d2-4d75-a888-fdf82f917da1' title='Show/Hide data repr'><svg class='icon xr-icon-database'><use xlink:href='#icon-database'></use></svg></label><div class='xr-var-attrs'><dl class='xr-attrs'></dl></div><div class='xr-var-data'><pre>array([2.463656e+08, 2.498018e+08, 2.533186e+08, 2.570321e+08, 2.605274e+08,\n",
       "       2.640198e+08, 2.673013e+08, 2.706674e+08, 2.741235e+08, 2.775465e+08,\n",
       "       2.808166e+08, 2.839805e+08, 2.869605e+08, 2.897400e+08, 2.924796e+08,\n",
       "       2.954161e+08, 2.982692e+08, 3.012370e+08, 3.042498e+08, 3.071400e+08,\n",
       "       3.098841e+08, 3.124816e+08, 3.152716e+08, 3.180311e+08, 3.207193e+08,\n",
       "       3.233486e+08, 3.258669e+08, 3.285535e+08, 3.310290e+08, 3.332511e+08,\n",
       "       3.353882e+08, 3.364958e+08, 3.374995e+08, 3.390802e+08, 3.409129e+08,\n",
       "       3.427159e+08, 3.444909e+08, 3.462390e+08, 3.479575e+08, 3.496522e+08,\n",
       "       3.513345e+08, 3.529901e+08, 3.546158e+08, 3.562086e+08, 3.577735e+08,\n",
       "       3.592840e+08, 3.607488e+08, 3.621643e+08, 3.635194e+08, 3.648030e+08,\n",
       "       3.660387e+08, 3.671938e+08, 3.683050e+08, 3.693594e+08, 3.703467e+08,\n",
       "       3.712839e+08, 3.721464e+08, 3.729575e+08, 3.737137e+08, 3.744145e+08,\n",
       "       3.750847e+08, 3.756992e+08, 3.762766e+08, 3.768335e+08, 3.773704e+08,\n",
       "       3.779057e+08, 3.784309e+08, 3.789631e+08, 3.794975e+08, 3.800369e+08,\n",
       "       3.805843e+08, 3.811400e+08, 3.817045e+08, 3.822864e+08, 3.828874e+08,\n",
       "       3.834951e+08, 3.841060e+08, 3.847182e+08, 3.853289e+08, 3.859401e+08,\n",
       "       3.865234e+08, 3.870873e+08, 3.876565e+08, 3.881943e+08, 3.887029e+08,\n",
       "       3.891710e+08, 3.896102e+08, 3.900118e+08, 3.903874e+08, 3.907312e+08,\n",
       "       3.910342e+08, 3.913027e+08, 3.915460e+08, 3.917596e+08, 3.919543e+08,\n",
       "       3.921307e+08, 3.922880e+08, 3.924392e+08, 3.925709e+08, 3.927002e+08,\n",
       "       3.928268e+08, 3.929384e+08, 3.930599e+08, 3.931784e+08, 3.932948e+08,\n",
       "       3.934126e+08, 3.935346e+08, 3.936709e+08, 3.937867e+08, 3.938994e+08,\n",
       "       3.939933e+08])</pre></div></li><li class='xr-var-item'><div class='xr-var-name'><span>GDP</span></div><div class='xr-var-dims'>(Time)</div><div class='xr-var-dtype'>float64</div><div class='xr-var-preview xr-preview'>nan nan nan ... 4.312e+13 4.351e+13</div><input id='attrs-f7c0eaf5-5a88-427b-8e4a-452531ebdc86' class='xr-var-attrs-in' type='checkbox' disabled><label for='attrs-f7c0eaf5-5a88-427b-8e4a-452531ebdc86' title='Show/Hide attributes'><svg class='icon xr-icon-file-text2'><use xlink:href='#icon-file-text2'></use></svg></label><input id='data-f8239524-a0ea-4ae2-a260-701ec6549d78' class='xr-var-data-in' type='checkbox'><label for='data-f8239524-a0ea-4ae2-a260-701ec6549d78' title='Show/Hide data repr'><svg class='icon xr-icon-database'><use xlink:href='#icon-database'></use></svg></label><div class='xr-var-attrs'><dl class='xr-attrs'></dl></div><div class='xr-var-data'><pre>array([         nan,          nan,          nan,          nan,          nan,\n",
       "                nan,          nan,          nan, 1.052397e+13, 1.102420e+13,\n",
       "       1.147922e+13, 1.159382e+13, 1.179575e+13, 1.213325e+13, 1.259418e+13,\n",
       "       1.303664e+13, 1.340883e+13, 1.366040e+13, 1.364175e+13, 1.329569e+13,\n",
       "       1.363632e+13, 1.384686e+13, 1.415745e+13, 1.441737e+13, 1.478068e+13,\n",
       "       1.523442e+13, 1.549390e+13, 1.585506e+13, 1.632949e+13, 1.668549e+13,\n",
       "       1.614027e+13, 1.715557e+13, 1.808439e+13, 1.851182e+13, 1.885996e+13,\n",
       "       1.921369e+13, 1.957302e+13, 1.993178e+13, 2.029355e+13, 2.065834e+13,\n",
       "       2.102614e+13, 2.134906e+13, 2.167198e+13, 2.199490e+13, 2.231781e+13,\n",
       "       2.264073e+13, 2.294131e+13, 2.324189e+13, 2.354247e+13, 2.384304e+13,\n",
       "       2.414362e+13, 2.442766e+13, 2.471170e+13, 2.499574e+13, 2.527979e+13,\n",
       "       2.556383e+13, 2.582752e+13, 2.609121e+13, 2.635490e+13, 2.661860e+13,\n",
       "       2.688229e+13, 2.715058e+13, 2.741888e+13, 2.768718e+13, 2.795547e+13,\n",
       "       2.822377e+13, 2.851115e+13, 2.879853e+13, 2.908591e+13, 2.937330e+13,\n",
       "       2.966068e+13, 2.997656e+13, 3.029245e+13, 3.060833e+13, 3.092422e+13,\n",
       "       3.124010e+13, 3.156139e+13, 3.188267e+13, 3.220395e+13, 3.252523e+13,\n",
       "       3.284651e+13, 3.317129e+13, 3.349607e+13, 3.382085e+13, 3.414563e+13,\n",
       "       3.447041e+13, 3.481427e+13, 3.515812e+13, 3.550198e+13, 3.584584e+13,\n",
       "       3.618970e+13, 3.653782e+13, 3.688594e+13, 3.723407e+13, 3.758219e+13,\n",
       "       3.793032e+13, 3.828507e+13, 3.863982e+13, 3.899457e+13, 3.934932e+13,\n",
       "       3.970407e+13, 4.007375e+13, 4.044343e+13, 4.081312e+13, 4.118280e+13,\n",
       "       4.155248e+13, 4.194339e+13, 4.233430e+13, 4.272521e+13, 4.311611e+13,\n",
       "       4.350702e+13])</pre></div></li><li class='xr-var-item'><div class='xr-var-name'><span>GHG_e</span></div><div class='xr-var-dims'>(Time)</div><div class='xr-var-dtype'>float64</div><div class='xr-var-preview xr-preview'>6.234 6.193 6.292 ... nan nan nan</div><input id='attrs-5c7381f4-476c-4abd-864e-a2146e3f42b2' class='xr-var-attrs-in' type='checkbox' disabled><label for='attrs-5c7381f4-476c-4abd-864e-a2146e3f42b2' title='Show/Hide attributes'><svg class='icon xr-icon-file-text2'><use xlink:href='#icon-file-text2'></use></svg></label><input id='data-b1bfc8df-fe72-4fa1-bee6-f1a2a9284328' class='xr-var-data-in' type='checkbox'><label for='data-b1bfc8df-fe72-4fa1-bee6-f1a2a9284328' title='Show/Hide data repr'><svg class='icon xr-icon-database'><use xlink:href='#icon-database'></use></svg></label><div class='xr-var-attrs'><dl class='xr-attrs'></dl></div><div class='xr-var-data'><pre>array([6.234075, 6.192821, 6.291672, 6.417697, 6.536723, 6.602839, 6.770337,\n",
       "       7.058594, 7.104648, 7.110404, 7.274056, 7.208112, 7.024549, 7.094932,\n",
       "       7.177063, 7.184486, 7.063292, 7.15609 , 6.977013, 6.517072, 6.762239,\n",
       "       6.554663, 6.321283, 6.464981, 6.499999, 6.38081 , 6.268399, 6.209421,\n",
       "       6.372265, 6.266804, 4.535301,      nan,      nan,      nan,      nan,\n",
       "            nan,      nan,      nan,      nan,      nan,      nan,      nan,\n",
       "            nan,      nan,      nan,      nan,      nan,      nan,      nan,\n",
       "            nan,      nan,      nan,      nan,      nan,      nan,      nan,\n",
       "            nan,      nan,      nan,      nan,      nan,      nan,      nan,\n",
       "            nan,      nan,      nan,      nan,      nan,      nan,      nan,\n",
       "            nan,      nan,      nan,      nan,      nan,      nan,      nan,\n",
       "            nan,      nan,      nan,      nan,      nan,      nan,      nan,\n",
       "            nan,      nan,      nan,      nan,      nan,      nan,      nan,\n",
       "            nan,      nan,      nan,      nan,      nan,      nan,      nan,\n",
       "            nan,      nan,      nan,      nan,      nan,      nan,      nan,\n",
       "            nan,      nan,      nan,      nan,      nan,      nan])</pre></div></li><li class='xr-var-item'><div class='xr-var-name'><span>GHG_p</span></div><div class='xr-var-dims'>(Time)</div><div class='xr-var-dtype'>float64</div><div class='xr-var-preview xr-preview'>6.109 6.1 6.203 ... nan nan nan</div><input id='attrs-8bfd8ce7-2218-4d06-ab1c-5af5c3c8f4ea' class='xr-var-attrs-in' type='checkbox' disabled><label for='attrs-8bfd8ce7-2218-4d06-ab1c-5af5c3c8f4ea' title='Show/Hide attributes'><svg class='icon xr-icon-file-text2'><use xlink:href='#icon-file-text2'></use></svg></label><input id='data-e75fa4be-7e33-48c6-8022-515bd1ebb386' class='xr-var-data-in' type='checkbox'><label for='data-e75fa4be-7e33-48c6-8022-515bd1ebb386' title='Show/Hide data repr'><svg class='icon xr-icon-database'><use xlink:href='#icon-database'></use></svg></label><div class='xr-var-attrs'><dl class='xr-attrs'></dl></div><div class='xr-var-data'><pre>array([6.109257, 6.099637, 6.203234, 6.317622, 6.42032 , 6.458335, 6.580099,\n",
       "       6.70839 , 6.752536, 6.842964, 7.038957, 6.904079, 6.949425, 7.004268,\n",
       "       7.103427, 7.148005, 7.087679, 7.205337, 7.039933, 6.661196, 6.832075,\n",
       "       6.716355, 6.502487, 6.596324, 6.669134, 6.568251, 6.415768, 6.394369,\n",
       "       6.58122 , 6.482988,      nan,      nan,      nan,      nan,      nan,\n",
       "            nan,      nan,      nan,      nan,      nan,      nan,      nan,\n",
       "            nan,      nan,      nan,      nan,      nan,      nan,      nan,\n",
       "            nan,      nan,      nan,      nan,      nan,      nan,      nan,\n",
       "            nan,      nan,      nan,      nan,      nan,      nan,      nan,\n",
       "            nan,      nan,      nan,      nan,      nan,      nan,      nan,\n",
       "            nan,      nan,      nan,      nan,      nan,      nan,      nan,\n",
       "            nan,      nan,      nan,      nan,      nan,      nan,      nan,\n",
       "            nan,      nan,      nan,      nan,      nan,      nan,      nan,\n",
       "            nan,      nan,      nan,      nan,      nan,      nan,      nan,\n",
       "            nan,      nan,      nan,      nan,      nan,      nan,      nan,\n",
       "            nan,      nan,      nan,      nan,      nan,      nan])</pre></div></li><li class='xr-var-item'><div class='xr-var-name'><span>GHG_p_incl</span></div><div class='xr-var-dims'>(Time)</div><div class='xr-var-dtype'>float64</div><div class='xr-var-preview xr-preview'>5.693 5.683 5.787 ... nan nan nan</div><input id='attrs-878ff476-5a14-4140-b911-30c727307867' class='xr-var-attrs-in' type='checkbox' disabled><label for='attrs-878ff476-5a14-4140-b911-30c727307867' title='Show/Hide attributes'><svg class='icon xr-icon-file-text2'><use xlink:href='#icon-file-text2'></use></svg></label><input id='data-26ebf486-7002-4ba7-9194-02851e34dd52' class='xr-var-data-in' type='checkbox'><label for='data-26ebf486-7002-4ba7-9194-02851e34dd52' title='Show/Hide data repr'><svg class='icon xr-icon-database'><use xlink:href='#icon-database'></use></svg></label><div class='xr-var-attrs'><dl class='xr-attrs'></dl></div><div class='xr-var-data'><pre>array([5.693107, 5.683486, 5.787083, 5.901284, 6.003788, 6.041865, 6.163839,\n",
       "       6.291416, 6.336227, 6.426938, 6.623084, 6.503038, 6.548858, 6.603555,\n",
       "       6.702644, 6.747011, 6.686703, 6.804513, 6.639267, 6.259977, 6.430743,\n",
       "       6.299896, 6.085884, 6.179657, 6.252443, 6.151989, 6.184942, 6.164133,\n",
       "       6.350976, 6.252295,      nan,      nan,      nan,      nan,      nan,\n",
       "            nan,      nan,      nan,      nan,      nan,      nan,      nan,\n",
       "            nan,      nan,      nan,      nan,      nan,      nan,      nan,\n",
       "            nan,      nan,      nan,      nan,      nan,      nan,      nan,\n",
       "            nan,      nan,      nan,      nan,      nan,      nan,      nan,\n",
       "            nan,      nan,      nan,      nan,      nan,      nan,      nan,\n",
       "            nan,      nan,      nan,      nan,      nan,      nan,      nan,\n",
       "            nan,      nan,      nan,      nan,      nan,      nan,      nan,\n",
       "            nan,      nan,      nan,      nan,      nan,      nan,      nan,\n",
       "            nan,      nan,      nan,      nan,      nan,      nan,      nan,\n",
       "            nan,      nan,      nan,      nan,      nan,      nan,      nan,\n",
       "            nan,      nan,      nan,      nan,      nan,      nan])</pre></div></li><li class='xr-var-item'><div class='xr-var-name'><span>GHG_base</span></div><div class='xr-var-dims'>(Time)</div><div class='xr-var-dtype'>float64</div><div class='xr-var-preview xr-preview'>nan nan nan ... 5.165 5.146 5.127</div><input id='attrs-619876fd-181a-428f-9e60-3e52e47de97a' class='xr-var-attrs-in' type='checkbox' disabled><label for='attrs-619876fd-181a-428f-9e60-3e52e47de97a' title='Show/Hide attributes'><svg class='icon xr-icon-file-text2'><use xlink:href='#icon-file-text2'></use></svg></label><input id='data-0d4e28d1-fc14-4fd9-a082-e4b8827a3a3c' class='xr-var-data-in' type='checkbox'><label for='data-0d4e28d1-fc14-4fd9-a082-e4b8827a3a3c' title='Show/Hide data repr'><svg class='icon xr-icon-database'><use xlink:href='#icon-database'></use></svg></label><div class='xr-var-attrs'><dl class='xr-attrs'></dl></div><div class='xr-var-data'><pre>array([     nan,      nan,      nan,      nan,      nan,      nan,      nan,\n",
       "            nan,      nan,      nan,      nan,      nan,      nan,      nan,\n",
       "            nan,      nan,      nan,      nan,      nan,      nan,      nan,\n",
       "            nan,      nan,      nan,      nan,      nan,      nan,      nan,\n",
       "            nan,      nan, 6.05824 , 6.100205, 6.14217 , 6.184135, 6.2261  ,\n",
       "       6.268065, 6.242036, 6.216006, 6.189977, 6.163948, 6.137918, 6.133691,\n",
       "       6.129463, 6.125236, 6.121008, 6.116781, 6.117372, 6.117964, 6.118555,\n",
       "       6.119147, 6.119738, 6.099825, 6.079912, 6.059998, 6.040085, 6.020171,\n",
       "       6.02812 , 6.036068, 6.044017, 6.051966, 6.059914, 6.032037, 6.00416 ,\n",
       "       5.976283, 5.948406, 5.920529, 5.892652, 5.864775, 5.836898, 5.809021,\n",
       "       5.781143, 5.767126, 5.753109, 5.739092, 5.725075, 5.711058, 5.697041,\n",
       "       5.683024, 5.669007, 5.65499 , 5.640973, 5.632588, 5.624202, 5.615817,\n",
       "       5.607432, 5.599046, 5.590661, 5.582276, 5.57389 , 5.565505, 5.55712 ,\n",
       "       5.532977, 5.508834, 5.48469 , 5.460547, 5.436404, 5.412261, 5.388118,\n",
       "       5.363975, 5.339832, 5.315689, 5.296831, 5.277974, 5.259116, 5.240258,\n",
       "       5.2214  , 5.202543, 5.183685, 5.164827, 5.14597 , 5.127112])</pre></div></li><li class='xr-var-item'><div class='xr-var-name'><span>NDC_l</span></div><div class='xr-var-dims'>(Time)</div><div class='xr-var-dtype'>float64</div><div class='xr-var-preview xr-preview'>nan nan nan nan ... nan nan nan nan</div><input id='attrs-31aec007-5f72-4d0c-bde0-e9c77631f20a' class='xr-var-attrs-in' type='checkbox' disabled><label for='attrs-31aec007-5f72-4d0c-bde0-e9c77631f20a' title='Show/Hide attributes'><svg class='icon xr-icon-file-text2'><use xlink:href='#icon-file-text2'></use></svg></label><input id='data-679fafd7-9f96-4262-90ab-fef0a49ce714' class='xr-var-data-in' type='checkbox'><label for='data-679fafd7-9f96-4262-90ab-fef0a49ce714' title='Show/Hide data repr'><svg class='icon xr-icon-database'><use xlink:href='#icon-database'></use></svg></label><div class='xr-var-attrs'><dl class='xr-attrs'></dl></div><div class='xr-var-data'><pre>array([     nan,      nan,      nan,      nan,      nan,      nan,      nan,\n",
       "            nan,      nan,      nan,      nan,      nan,      nan,      nan,\n",
       "            nan,      nan,      nan,      nan,      nan,      nan, 6.961523,\n",
       "       6.85089 , 6.635595, 6.730051, 6.808522, 6.708118, 6.556124, 6.538232,\n",
       "       6.711631, 6.521007, 5.925442, 6.257258, 6.116809, 5.97636 , 5.835911,\n",
       "       5.695462, 5.422743, 5.150024, 4.877305, 4.604587, 4.331868,      nan,\n",
       "            nan,      nan,      nan,      nan,      nan,      nan,      nan,\n",
       "            nan,      nan,      nan,      nan,      nan,      nan,      nan,\n",
       "            nan,      nan,      nan,      nan,      nan,      nan,      nan,\n",
       "            nan,      nan,      nan,      nan,      nan,      nan,      nan,\n",
       "            nan,      nan,      nan,      nan,      nan,      nan,      nan,\n",
       "            nan,      nan,      nan,      nan,      nan,      nan,      nan,\n",
       "            nan,      nan,      nan,      nan,      nan,      nan,      nan,\n",
       "            nan,      nan,      nan,      nan,      nan,      nan,      nan,\n",
       "            nan,      nan,      nan,      nan,      nan,      nan,      nan,\n",
       "            nan,      nan,      nan,      nan,      nan,      nan])</pre></div></li><li class='xr-var-item'><div class='xr-var-name'><span>NDC_h</span></div><div class='xr-var-dims'>(Time)</div><div class='xr-var-dtype'>float64</div><div class='xr-var-preview xr-preview'>nan nan nan nan ... nan nan nan nan</div><input id='attrs-7a4a0b8c-a946-42c5-8394-5f5cf328ecef' class='xr-var-attrs-in' type='checkbox' disabled><label for='attrs-7a4a0b8c-a946-42c5-8394-5f5cf328ecef' title='Show/Hide attributes'><svg class='icon xr-icon-file-text2'><use xlink:href='#icon-file-text2'></use></svg></label><input id='data-cd706c98-9d18-481d-99ab-8ddf6672d186' class='xr-var-data-in' type='checkbox'><label for='data-cd706c98-9d18-481d-99ab-8ddf6672d186' title='Show/Hide data repr'><svg class='icon xr-icon-database'><use xlink:href='#icon-database'></use></svg></label><div class='xr-var-attrs'><dl class='xr-attrs'></dl></div><div class='xr-var-data'><pre>array([     nan,      nan,      nan,      nan,      nan,      nan,      nan,\n",
       "            nan,      nan,      nan,      nan,      nan,      nan,      nan,\n",
       "            nan,      nan,      nan,      nan,      nan,      nan, 6.961523,\n",
       "       6.85089 , 6.635595, 6.730051, 6.808522, 6.708118, 6.556124, 6.538232,\n",
       "       6.711631, 6.521007, 5.925442, 6.257258, 6.082058, 5.906858, 5.731659,\n",
       "       5.556459, 5.28374 , 5.011022, 4.738303, 4.465584, 4.192865,      nan,\n",
       "            nan,      nan,      nan,      nan,      nan,      nan,      nan,\n",
       "            nan,      nan,      nan,      nan,      nan,      nan,      nan,\n",
       "            nan,      nan,      nan,      nan,      nan,      nan,      nan,\n",
       "            nan,      nan,      nan,      nan,      nan,      nan,      nan,\n",
       "            nan,      nan,      nan,      nan,      nan,      nan,      nan,\n",
       "            nan,      nan,      nan,      nan,      nan,      nan,      nan,\n",
       "            nan,      nan,      nan,      nan,      nan,      nan,      nan,\n",
       "            nan,      nan,      nan,      nan,      nan,      nan,      nan,\n",
       "            nan,      nan,      nan,      nan,      nan,      nan,      nan,\n",
       "            nan,      nan,      nan,      nan,      nan,      nan])</pre></div></li><li class='xr-var-item'><div class='xr-var-name'><span>HDI</span></div><div class='xr-var-dims'>()</div><div class='xr-var-dtype'>float64</div><div class='xr-var-preview xr-preview'>0.921</div><input id='attrs-98600bd8-d544-4b60-83b0-fdba16bc7ca0' class='xr-var-attrs-in' type='checkbox' disabled><label for='attrs-98600bd8-d544-4b60-83b0-fdba16bc7ca0' title='Show/Hide attributes'><svg class='icon xr-icon-file-text2'><use xlink:href='#icon-file-text2'></use></svg></label><input id='data-75e1b9fc-85c4-43cf-bc75-8b48ba165134' class='xr-var-data-in' type='checkbox'><label for='data-75e1b9fc-85c4-43cf-bc75-8b48ba165134' title='Show/Hide data repr'><svg class='icon xr-icon-database'><use xlink:href='#icon-database'></use></svg></label><div class='xr-var-attrs'><dl class='xr-attrs'></dl></div><div class='xr-var-data'><pre>array(0.921)</pre></div></li><li class='xr-var-item'><div class='xr-var-name'><span>HDIsh</span></div><div class='xr-var-dims'>()</div><div class='xr-var-dtype'>float64</div><div class='xr-var-preview xr-preview'>nan</div><input id='attrs-08112d87-2b91-4d57-a8ab-1ba5ed789a4f' class='xr-var-attrs-in' type='checkbox' disabled><label for='attrs-08112d87-2b91-4d57-a8ab-1ba5ed789a4f' title='Show/Hide attributes'><svg class='icon xr-icon-file-text2'><use xlink:href='#icon-file-text2'></use></svg></label><input id='data-95bf0190-bb57-4c97-96bb-b5c86893b882' class='xr-var-data-in' type='checkbox'><label for='data-95bf0190-bb57-4c97-96bb-b5c86893b882' title='Show/Hide data repr'><svg class='icon xr-icon-database'><use xlink:href='#icon-database'></use></svg></label><div class='xr-var-attrs'><dl class='xr-attrs'></dl></div><div class='xr-var-data'><pre>array(nan)</pre></div></li><li class='xr-var-item'><div class='xr-var-name'><span>NegGHG</span></div><div class='xr-var-dims'>(Time)</div><div class='xr-var-dtype'>float64</div><div class='xr-var-preview xr-preview'>nan nan nan ... 18.9 18.07 17.24</div><input id='attrs-471d2ebe-3b14-4510-bfc8-ac00c5b27db9' class='xr-var-attrs-in' type='checkbox' disabled><label for='attrs-471d2ebe-3b14-4510-bfc8-ac00c5b27db9' title='Show/Hide attributes'><svg class='icon xr-icon-file-text2'><use xlink:href='#icon-file-text2'></use></svg></label><input id='data-4a6cc671-198e-4e5e-9a58-8a0526e8572b' class='xr-var-data-in' type='checkbox'><label for='data-4a6cc671-198e-4e5e-9a58-8a0526e8572b' title='Show/Hide data repr'><svg class='icon xr-icon-database'><use xlink:href='#icon-database'></use></svg></label><div class='xr-var-attrs'><dl class='xr-attrs'></dl></div><div class='xr-var-data'><pre>array([         nan,          nan,          nan,          nan,          nan,\n",
       "                nan,          nan,          nan,          nan,          nan,\n",
       "                nan,          nan,          nan,          nan,          nan,\n",
       "       1.289253e-03, 1.297603e-03, 1.305953e-03, 1.314303e-03, 1.322654e-03,\n",
       "       1.331004e-03, 1.369546e-03, 1.408088e-03, 1.446631e-03, 1.485173e-03,\n",
       "       1.523715e-03, 2.844809e-03, 4.165902e-03, 5.486996e-03, 6.808090e-03,\n",
       "       8.129183e-03, 9.687389e-02, 1.856186e-01, 2.743633e-01, 3.631080e-01,\n",
       "       4.518527e-01, 8.013248e-01, 1.150797e+00, 1.500269e+00, 1.849741e+00,\n",
       "       2.199213e+00, 2.624814e+00, 3.050415e+00, 3.476016e+00, 3.901617e+00,\n",
       "       4.327218e+00, 4.720150e+00, 5.113081e+00, 5.506013e+00, 5.898944e+00,\n",
       "       6.291875e+00, 6.682269e+00, 7.072662e+00, 7.463055e+00, 7.853449e+00,\n",
       "       8.243842e+00, 8.545294e+00, 8.846746e+00, 9.148198e+00, 9.449650e+00,\n",
       "       9.751102e+00, 1.003363e+01, 1.031616e+01, 1.059869e+01, 1.088122e+01,\n",
       "       1.116375e+01, 1.140731e+01, 1.165087e+01, 1.189444e+01, 1.213800e+01,\n",
       "       1.238156e+01, 1.380438e+01, 1.522720e+01, 1.665002e+01, 1.807284e+01,\n",
       "       1.949566e+01, 1.843789e+01, 1.738013e+01, 1.632236e+01, 1.526459e+01,\n",
       "       1.420683e+01, 1.552035e+01, 1.683388e+01, 1.814741e+01, 1.946094e+01,\n",
       "       2.077446e+01, 1.972544e+01, 1.867641e+01, 1.762738e+01, 1.657836e+01,\n",
       "       1.552933e+01, 1.667390e+01, 1.781847e+01, 1.896304e+01, 2.010760e+01,\n",
       "       2.125217e+01, 2.030272e+01, 1.935326e+01, 1.840381e+01, 1.745435e+01,\n",
       "       1.650490e+01, 1.748362e+01, 1.846235e+01, 1.944107e+01, 2.041979e+01,\n",
       "       2.139852e+01, 2.056699e+01, 1.973546e+01, 1.890393e+01, 1.807240e+01,\n",
       "       1.724087e+01])</pre></div></li><li class='xr-var-item'><div class='xr-var-name'><span>GHG_f</span></div><div class='xr-var-dims'>(Time)</div><div class='xr-var-dtype'>float64</div><div class='xr-var-preview xr-preview'>nan nan nan nan ... 4.06 3.81 3.56</div><input id='attrs-cc6ded7d-5578-4d9f-8924-08778ea86ea3' class='xr-var-attrs-in' type='checkbox' disabled><label for='attrs-cc6ded7d-5578-4d9f-8924-08778ea86ea3' title='Show/Hide attributes'><svg class='icon xr-icon-file-text2'><use xlink:href='#icon-file-text2'></use></svg></label><input id='data-d3af98f6-2316-48e5-ba74-964aaba74118' class='xr-var-data-in' type='checkbox'><label for='data-d3af98f6-2316-48e5-ba74-964aaba74118' title='Show/Hide data repr'><svg class='icon xr-icon-database'><use xlink:href='#icon-database'></use></svg></label><div class='xr-var-attrs'><dl class='xr-attrs'></dl></div><div class='xr-var-data'><pre>array([      nan,       nan,       nan,       nan,       nan,       nan,\n",
       "             nan,       nan,       nan,       nan,       nan,       nan,\n",
       "             nan,       nan,       nan, 40.245062, 40.939486, 41.63391 ,\n",
       "       42.328334, 43.022758, 43.717182, 44.787594, 45.858007, 46.928419,\n",
       "       47.998831, 49.069244, 49.296536, 49.523829, 49.751122, 49.978415,\n",
       "       50.205708, 47.668006, 45.130304, 42.592602, 40.0549  , 37.517198,\n",
       "       35.727066, 33.936933, 32.146801, 30.356669, 28.566536, 27.232005,\n",
       "       25.897475, 24.562944, 23.228413, 21.893882, 21.069772, 20.245663,\n",
       "       19.421553, 18.597443, 17.773334, 16.968155, 16.162976, 15.357797,\n",
       "       14.552618, 13.747439, 13.377696, 13.007953, 12.638211, 12.268468,\n",
       "       11.898725, 11.633171, 11.367617, 11.102063, 10.836509, 10.570955,\n",
       "       10.225219,  9.879482,  9.533746,  9.188009,  8.842273,  8.33526 ,\n",
       "        7.828248,  7.321236,  6.814223,  6.307211,  6.443015,  6.578818,\n",
       "        6.714622,  6.850425,  6.986229,  6.716695,  6.44716 ,  6.177626,\n",
       "        5.908092,  5.638557,  5.630422,  5.622286,  5.614151,  5.606015,\n",
       "        5.59788 ,  5.490979,  5.384077,  5.277176,  5.170274,  5.063373,\n",
       "        4.952109,  4.840845,  4.729581,  4.618317,  4.507053,  4.567894,\n",
       "        4.628736,  4.689577,  4.750419,  4.81126 ,  4.560909,  4.310558,\n",
       "        4.060207,  3.809856,  3.559504])</pre></div></li><li class='xr-var-item'><div class='xr-var-name'><span>GHG_f_incl</span></div><div class='xr-var-dims'>(Time)</div><div class='xr-var-dtype'>float64</div><div class='xr-var-preview xr-preview'>nan nan nan ... 0.1681 -0.1014</div><input id='attrs-51bf8586-410f-4439-88e4-659c760529be' class='xr-var-attrs-in' type='checkbox' disabled><label for='attrs-51bf8586-410f-4439-88e4-659c760529be' title='Show/Hide attributes'><svg class='icon xr-icon-file-text2'><use xlink:href='#icon-file-text2'></use></svg></label><input id='data-13b69758-a348-4122-abcf-7efd02c4d6e2' class='xr-var-data-in' type='checkbox'><label for='data-13b69758-a348-4122-abcf-7efd02c4d6e2' title='Show/Hide data repr'><svg class='icon xr-icon-database'><use xlink:href='#icon-database'></use></svg></label><div class='xr-var-attrs'><dl class='xr-attrs'></dl></div><div class='xr-var-data'><pre>array([      nan,       nan,       nan,       nan,       nan,       nan,\n",
       "             nan,       nan,       nan,       nan, 41.536171, 42.416462,\n",
       "       43.296752, 44.177043, 45.057333, 45.937624, 46.760148, 47.582671,\n",
       "       48.405195, 49.227719, 50.050243, 50.843033, 51.635823, 52.428613,\n",
       "       53.221403, 54.014194, 54.110754, 54.207314, 54.303874, 54.400434,\n",
       "       54.496994, 50.604681, 46.777878, 43.88276 , 41.340855, 41.303069,\n",
       "       39.071686, 36.840303, 34.60892 , 32.377537, 30.146154, 28.576925,\n",
       "       27.007696, 25.438468, 23.869239, 22.300011, 21.198186, 20.096362,\n",
       "       18.994538, 17.892713, 16.790889, 15.828312, 14.865735, 13.903158,\n",
       "       12.940582, 11.978005, 11.344587, 10.711169, 10.077752,  9.444334,\n",
       "        8.810916,  8.350983,  7.891049,  7.431116,  6.971182,  6.511249,\n",
       "        6.229847,  5.948446,  5.667044,  5.385643,  5.104241,  4.65311 ,\n",
       "        4.201978,  3.750847,  3.299716,  2.848584,  2.934624,  3.020664,\n",
       "        3.106703,  3.192743,  3.278783,  3.083541,  2.888299,  2.693057,\n",
       "        2.497816,  2.302574,  2.223292,  2.14401 ,  2.064728,  1.985447,\n",
       "        1.906165,  1.848737,  1.79131 ,  1.733882,  1.676454,  1.619027,\n",
       "        1.456775,  1.294523,  1.132271,  0.970019,  0.807766,  0.895404,\n",
       "        0.983042,  1.070679,  1.158317,  1.245955,  0.976484,  0.707013,\n",
       "        0.437542,  0.168071, -0.1014  ])</pre></div></li><li class='xr-var-item'><div class='xr-var-name'><span>GHG_f_co2</span></div><div class='xr-var-dims'>(Time)</div><div class='xr-var-dtype'>float64</div><div class='xr-var-preview xr-preview'>nan nan nan ... -6.268 -6.444 -6.62</div><input id='attrs-9a3624de-77c3-4ee2-844e-71f5359596e8' class='xr-var-attrs-in' type='checkbox' disabled><label for='attrs-9a3624de-77c3-4ee2-844e-71f5359596e8' title='Show/Hide attributes'><svg class='icon xr-icon-file-text2'><use xlink:href='#icon-file-text2'></use></svg></label><input id='data-a8fd2ab8-d387-4f7c-91c4-05946276874a' class='xr-var-data-in' type='checkbox'><label for='data-a8fd2ab8-d387-4f7c-91c4-05946276874a' title='Show/Hide data repr'><svg class='icon xr-icon-database'><use xlink:href='#icon-database'></use></svg></label><div class='xr-var-attrs'><dl class='xr-attrs'></dl></div><div class='xr-var-data'><pre>array([      nan,       nan,       nan,       nan,       nan,       nan,\n",
       "             nan,       nan,       nan,       nan, 31.313432, 31.881314,\n",
       "       32.449196, 33.017078, 33.58496 , 34.152842, 34.79797 , 35.443097,\n",
       "       36.088225, 36.733352, 37.37848 , 37.931901, 38.485323, 39.038744,\n",
       "       39.592166, 40.145587, 40.230603, 40.31562 , 40.400636, 40.485652,\n",
       "       40.570668, 38.651112, 35.260128, 32.677727, 30.39581 , 30.414141,\n",
       "       28.44624 , 26.478339, 24.510438, 22.542537, 20.574637, 19.151724,\n",
       "       17.728811, 16.305899, 14.882986, 13.460073, 12.452894, 11.445714,\n",
       "       10.438535,  9.431356,  8.424176,  7.534345,  6.644514,  5.754683,\n",
       "        4.864851,  3.97502 ,  3.41223 ,  2.849439,  2.286648,  1.723858,\n",
       "        1.161067,  0.692975,  0.224882, -0.243211, -0.711304, -1.179396,\n",
       "       -1.41435 , -1.649303, -1.884256, -2.119209, -2.354162, -2.725033,\n",
       "       -3.095903, -3.466774, -3.837644, -4.208515, -4.171972, -4.135429,\n",
       "       -4.098886, -4.062343, -4.0258  , -4.177721, -4.329642, -4.481564,\n",
       "       -4.633485, -4.785406, -4.863161, -4.940916, -5.018671, -5.096426,\n",
       "       -5.174181, -5.233899, -5.293617, -5.353335, -5.413053, -5.472771,\n",
       "       -5.578035, -5.683298, -5.788561, -5.893824, -5.999088, -5.947089,\n",
       "       -5.895091, -5.843093, -5.791095, -5.739096, -5.915374, -6.091652,\n",
       "       -6.26793 , -6.444208, -6.620486])</pre></div></li></ul></div></li><li class='xr-section-item'><input id='section-5456a332-cd9f-45ae-89af-613bc722b24d' class='xr-section-summary-in' type='checkbox' disabled ><label for='section-5456a332-cd9f-45ae-89af-613bc722b24d' class='xr-section-summary'  title='Expand/collapse section'>Attributes: <span>(0)</span></label><div class='xr-section-inline-details'></div><div class='xr-section-details'><dl class='xr-attrs'></dl></div></li></ul></div></div>"
      ],
      "text/plain": [
       "<xarray.Dataset>\n",
       "Dimensions:     (Time: 111)\n",
       "Coordinates:\n",
       "    ISO         <U3 'USA'\n",
       "  * Time        (Time) int32 1990 1991 1992 1993 1994 ... 2097 2098 2099 2100\n",
       "    Category    <U2 'C1'\n",
       "Data variables: (12/14)\n",
       "    Population  (Time) float64 2.464e+08 2.498e+08 ... 3.939e+08 3.94e+08\n",
       "    GDP         (Time) float64 nan nan nan nan ... 4.273e+13 4.312e+13 4.351e+13\n",
       "    GHG_e       (Time) float64 6.234 6.193 6.292 6.418 6.537 ... nan nan nan nan\n",
       "    GHG_p       (Time) float64 6.109 6.1 6.203 6.318 6.42 ... nan nan nan nan\n",
       "    GHG_p_incl  (Time) float64 5.693 5.683 5.787 5.901 6.004 ... nan nan nan nan\n",
       "    GHG_base    (Time) float64 nan nan nan nan nan ... 5.184 5.165 5.146 5.127\n",
       "    ...          ...\n",
       "    HDI         float64 0.921\n",
       "    HDIsh       float64 nan\n",
       "    NegGHG      (Time) float64 nan nan nan nan nan ... 19.74 18.9 18.07 17.24\n",
       "    GHG_f       (Time) float64 nan nan nan nan nan ... 4.311 4.06 3.81 3.56\n",
       "    GHG_f_incl  (Time) float64 nan nan nan nan ... 0.707 0.4375 0.1681 -0.1014\n",
       "    GHG_f_co2   (Time) float64 nan nan nan nan ... -6.092 -6.268 -6.444 -6.62"
      ]
     },
     "execution_count": 11,
     "metadata": {},
     "output_type": "execute_result"
    }
   ],
   "source": [
    "xr_total.sel(Category='C1', ISO='USA')"
   ]
  },
  {
   "cell_type": "code",
   "execution_count": 22,
   "metadata": {},
   "outputs": [
    {
     "data": {
      "text/plain": [
       "-102.50740455974064"
      ]
     },
     "execution_count": 22,
     "metadata": {},
     "output_type": "execute_result"
    }
   ],
   "source": [
    "float(xr_budgets_static.sel(Region=\"USA\", Ccat=\"C1\", Variable=\"A1_gdp_net\").Value)"
   ]
  },
  {
   "cell_type": "code",
   "execution_count": 44,
   "metadata": {},
   "outputs": [],
   "source": [
    "def check_monotomy(reg, var):\n",
    "    y0 = -1e8\n",
    "    buds = []\n",
    "    for c_i, c in enumerate(['C1', 'C2', 'C3', 'C4', 'C5', 'C6', 'C7', 'C8']):\n",
    "        y1 = float(xr_budgets_static.sel(Region=reg, Ccat=c, Variable=var).Value)\n",
    "        buds.append(y1)\n",
    "        if y1 > y0:\n",
    "            y0 = float(np.copy(y1))\n",
    "            continue\n",
    "        else:\n",
    "            return 0\n",
    "    return 1"
   ]
  },
  {
   "cell_type": "code",
   "execution_count": null,
   "metadata": {},
   "outputs": [],
   "source": [
    "def check_monotomy_dynamic(reg, var):\n",
    "    y0 = -1e8\n",
    "    buds = []\n",
    "    for c_i, c in enumerate(['C1', 'C2', 'C3', 'C4', 'C5', 'C6', 'C7', 'C8']):\n",
    "        y1 = float(xr_budgets_static.sel(Region=reg, Ccat=c, Variable=var).Value)\n",
    "        buds.append(y1)\n",
    "        if y1 > y0:\n",
    "            y0 = float(np.copy(y1))\n",
    "            continue\n",
    "        else:\n",
    "            return 0\n",
    "    return 1"
   ]
  },
  {
   "cell_type": "code",
   "execution_count": 52,
   "metadata": {},
   "outputs": [
    {
     "data": {
      "text/html": [
       "<div><svg style=\"position: absolute; width: 0; height: 0; overflow: hidden\">\n",
       "<defs>\n",
       "<symbol id=\"icon-database\" viewBox=\"0 0 32 32\">\n",
       "<path d=\"M16 0c-8.837 0-16 2.239-16 5v4c0 2.761 7.163 5 16 5s16-2.239 16-5v-4c0-2.761-7.163-5-16-5z\"></path>\n",
       "<path d=\"M16 17c-8.837 0-16-2.239-16-5v6c0 2.761 7.163 5 16 5s16-2.239 16-5v-6c0 2.761-7.163 5-16 5z\"></path>\n",
       "<path d=\"M16 26c-8.837 0-16-2.239-16-5v6c0 2.761 7.163 5 16 5s16-2.239 16-5v-6c0 2.761-7.163 5-16 5z\"></path>\n",
       "</symbol>\n",
       "<symbol id=\"icon-file-text2\" viewBox=\"0 0 32 32\">\n",
       "<path d=\"M28.681 7.159c-0.694-0.947-1.662-2.053-2.724-3.116s-2.169-2.030-3.116-2.724c-1.612-1.182-2.393-1.319-2.841-1.319h-15.5c-1.378 0-2.5 1.121-2.5 2.5v27c0 1.378 1.122 2.5 2.5 2.5h23c1.378 0 2.5-1.122 2.5-2.5v-19.5c0-0.448-0.137-1.23-1.319-2.841zM24.543 5.457c0.959 0.959 1.712 1.825 2.268 2.543h-4.811v-4.811c0.718 0.556 1.584 1.309 2.543 2.268zM28 29.5c0 0.271-0.229 0.5-0.5 0.5h-23c-0.271 0-0.5-0.229-0.5-0.5v-27c0-0.271 0.229-0.5 0.5-0.5 0 0 15.499-0 15.5 0v7c0 0.552 0.448 1 1 1h7v19.5z\"></path>\n",
       "<path d=\"M23 26h-14c-0.552 0-1-0.448-1-1s0.448-1 1-1h14c0.552 0 1 0.448 1 1s-0.448 1-1 1z\"></path>\n",
       "<path d=\"M23 22h-14c-0.552 0-1-0.448-1-1s0.448-1 1-1h14c0.552 0 1 0.448 1 1s-0.448 1-1 1z\"></path>\n",
       "<path d=\"M23 18h-14c-0.552 0-1-0.448-1-1s0.448-1 1-1h14c0.552 0 1 0.448 1 1s-0.448 1-1 1z\"></path>\n",
       "</symbol>\n",
       "</defs>\n",
       "</svg>\n",
       "<style>/* CSS stylesheet for displaying xarray objects in jupyterlab.\n",
       " *\n",
       " */\n",
       "\n",
       ":root {\n",
       "  --xr-font-color0: var(--jp-content-font-color0, rgba(0, 0, 0, 1));\n",
       "  --xr-font-color2: var(--jp-content-font-color2, rgba(0, 0, 0, 0.54));\n",
       "  --xr-font-color3: var(--jp-content-font-color3, rgba(0, 0, 0, 0.38));\n",
       "  --xr-border-color: var(--jp-border-color2, #e0e0e0);\n",
       "  --xr-disabled-color: var(--jp-layout-color3, #bdbdbd);\n",
       "  --xr-background-color: var(--jp-layout-color0, white);\n",
       "  --xr-background-color-row-even: var(--jp-layout-color1, white);\n",
       "  --xr-background-color-row-odd: var(--jp-layout-color2, #eeeeee);\n",
       "}\n",
       "\n",
       "html[theme=dark],\n",
       "body.vscode-dark {\n",
       "  --xr-font-color0: rgba(255, 255, 255, 1);\n",
       "  --xr-font-color2: rgba(255, 255, 255, 0.54);\n",
       "  --xr-font-color3: rgba(255, 255, 255, 0.38);\n",
       "  --xr-border-color: #1F1F1F;\n",
       "  --xr-disabled-color: #515151;\n",
       "  --xr-background-color: #111111;\n",
       "  --xr-background-color-row-even: #111111;\n",
       "  --xr-background-color-row-odd: #313131;\n",
       "}\n",
       "\n",
       ".xr-wrap {\n",
       "  display: block;\n",
       "  min-width: 300px;\n",
       "  max-width: 700px;\n",
       "}\n",
       "\n",
       ".xr-text-repr-fallback {\n",
       "  /* fallback to plain text repr when CSS is not injected (untrusted notebook) */\n",
       "  display: none;\n",
       "}\n",
       "\n",
       ".xr-header {\n",
       "  padding-top: 6px;\n",
       "  padding-bottom: 6px;\n",
       "  margin-bottom: 4px;\n",
       "  border-bottom: solid 1px var(--xr-border-color);\n",
       "}\n",
       "\n",
       ".xr-header > div,\n",
       ".xr-header > ul {\n",
       "  display: inline;\n",
       "  margin-top: 0;\n",
       "  margin-bottom: 0;\n",
       "}\n",
       "\n",
       ".xr-obj-type,\n",
       ".xr-array-name {\n",
       "  margin-left: 2px;\n",
       "  margin-right: 10px;\n",
       "}\n",
       "\n",
       ".xr-obj-type {\n",
       "  color: var(--xr-font-color2);\n",
       "}\n",
       "\n",
       ".xr-sections {\n",
       "  padding-left: 0 !important;\n",
       "  display: grid;\n",
       "  grid-template-columns: 150px auto auto 1fr 20px 20px;\n",
       "}\n",
       "\n",
       ".xr-section-item {\n",
       "  display: contents;\n",
       "}\n",
       "\n",
       ".xr-section-item input {\n",
       "  display: none;\n",
       "}\n",
       "\n",
       ".xr-section-item input + label {\n",
       "  color: var(--xr-disabled-color);\n",
       "}\n",
       "\n",
       ".xr-section-item input:enabled + label {\n",
       "  cursor: pointer;\n",
       "  color: var(--xr-font-color2);\n",
       "}\n",
       "\n",
       ".xr-section-item input:enabled + label:hover {\n",
       "  color: var(--xr-font-color0);\n",
       "}\n",
       "\n",
       ".xr-section-summary {\n",
       "  grid-column: 1;\n",
       "  color: var(--xr-font-color2);\n",
       "  font-weight: 500;\n",
       "}\n",
       "\n",
       ".xr-section-summary > span {\n",
       "  display: inline-block;\n",
       "  padding-left: 0.5em;\n",
       "}\n",
       "\n",
       ".xr-section-summary-in:disabled + label {\n",
       "  color: var(--xr-font-color2);\n",
       "}\n",
       "\n",
       ".xr-section-summary-in + label:before {\n",
       "  display: inline-block;\n",
       "  content: '►';\n",
       "  font-size: 11px;\n",
       "  width: 15px;\n",
       "  text-align: center;\n",
       "}\n",
       "\n",
       ".xr-section-summary-in:disabled + label:before {\n",
       "  color: var(--xr-disabled-color);\n",
       "}\n",
       "\n",
       ".xr-section-summary-in:checked + label:before {\n",
       "  content: '▼';\n",
       "}\n",
       "\n",
       ".xr-section-summary-in:checked + label > span {\n",
       "  display: none;\n",
       "}\n",
       "\n",
       ".xr-section-summary,\n",
       ".xr-section-inline-details {\n",
       "  padding-top: 4px;\n",
       "  padding-bottom: 4px;\n",
       "}\n",
       "\n",
       ".xr-section-inline-details {\n",
       "  grid-column: 2 / -1;\n",
       "}\n",
       "\n",
       ".xr-section-details {\n",
       "  display: none;\n",
       "  grid-column: 1 / -1;\n",
       "  margin-bottom: 5px;\n",
       "}\n",
       "\n",
       ".xr-section-summary-in:checked ~ .xr-section-details {\n",
       "  display: contents;\n",
       "}\n",
       "\n",
       ".xr-array-wrap {\n",
       "  grid-column: 1 / -1;\n",
       "  display: grid;\n",
       "  grid-template-columns: 20px auto;\n",
       "}\n",
       "\n",
       ".xr-array-wrap > label {\n",
       "  grid-column: 1;\n",
       "  vertical-align: top;\n",
       "}\n",
       "\n",
       ".xr-preview {\n",
       "  color: var(--xr-font-color3);\n",
       "}\n",
       "\n",
       ".xr-array-preview,\n",
       ".xr-array-data {\n",
       "  padding: 0 5px !important;\n",
       "  grid-column: 2;\n",
       "}\n",
       "\n",
       ".xr-array-data,\n",
       ".xr-array-in:checked ~ .xr-array-preview {\n",
       "  display: none;\n",
       "}\n",
       "\n",
       ".xr-array-in:checked ~ .xr-array-data,\n",
       ".xr-array-preview {\n",
       "  display: inline-block;\n",
       "}\n",
       "\n",
       ".xr-dim-list {\n",
       "  display: inline-block !important;\n",
       "  list-style: none;\n",
       "  padding: 0 !important;\n",
       "  margin: 0;\n",
       "}\n",
       "\n",
       ".xr-dim-list li {\n",
       "  display: inline-block;\n",
       "  padding: 0;\n",
       "  margin: 0;\n",
       "}\n",
       "\n",
       ".xr-dim-list:before {\n",
       "  content: '(';\n",
       "}\n",
       "\n",
       ".xr-dim-list:after {\n",
       "  content: ')';\n",
       "}\n",
       "\n",
       ".xr-dim-list li:not(:last-child):after {\n",
       "  content: ',';\n",
       "  padding-right: 5px;\n",
       "}\n",
       "\n",
       ".xr-has-index {\n",
       "  font-weight: bold;\n",
       "}\n",
       "\n",
       ".xr-var-list,\n",
       ".xr-var-item {\n",
       "  display: contents;\n",
       "}\n",
       "\n",
       ".xr-var-item > div,\n",
       ".xr-var-item label,\n",
       ".xr-var-item > .xr-var-name span {\n",
       "  background-color: var(--xr-background-color-row-even);\n",
       "  margin-bottom: 0;\n",
       "}\n",
       "\n",
       ".xr-var-item > .xr-var-name:hover span {\n",
       "  padding-right: 5px;\n",
       "}\n",
       "\n",
       ".xr-var-list > li:nth-child(odd) > div,\n",
       ".xr-var-list > li:nth-child(odd) > label,\n",
       ".xr-var-list > li:nth-child(odd) > .xr-var-name span {\n",
       "  background-color: var(--xr-background-color-row-odd);\n",
       "}\n",
       "\n",
       ".xr-var-name {\n",
       "  grid-column: 1;\n",
       "}\n",
       "\n",
       ".xr-var-dims {\n",
       "  grid-column: 2;\n",
       "}\n",
       "\n",
       ".xr-var-dtype {\n",
       "  grid-column: 3;\n",
       "  text-align: right;\n",
       "  color: var(--xr-font-color2);\n",
       "}\n",
       "\n",
       ".xr-var-preview {\n",
       "  grid-column: 4;\n",
       "}\n",
       "\n",
       ".xr-var-name,\n",
       ".xr-var-dims,\n",
       ".xr-var-dtype,\n",
       ".xr-preview,\n",
       ".xr-attrs dt {\n",
       "  white-space: nowrap;\n",
       "  overflow: hidden;\n",
       "  text-overflow: ellipsis;\n",
       "  padding-right: 10px;\n",
       "}\n",
       "\n",
       ".xr-var-name:hover,\n",
       ".xr-var-dims:hover,\n",
       ".xr-var-dtype:hover,\n",
       ".xr-attrs dt:hover {\n",
       "  overflow: visible;\n",
       "  width: auto;\n",
       "  z-index: 1;\n",
       "}\n",
       "\n",
       ".xr-var-attrs,\n",
       ".xr-var-data {\n",
       "  display: none;\n",
       "  background-color: var(--xr-background-color) !important;\n",
       "  padding-bottom: 5px !important;\n",
       "}\n",
       "\n",
       ".xr-var-attrs-in:checked ~ .xr-var-attrs,\n",
       ".xr-var-data-in:checked ~ .xr-var-data {\n",
       "  display: block;\n",
       "}\n",
       "\n",
       ".xr-var-data > table {\n",
       "  float: right;\n",
       "}\n",
       "\n",
       ".xr-var-name span,\n",
       ".xr-var-data,\n",
       ".xr-attrs {\n",
       "  padding-left: 25px !important;\n",
       "}\n",
       "\n",
       ".xr-attrs,\n",
       ".xr-var-attrs,\n",
       ".xr-var-data {\n",
       "  grid-column: 1 / -1;\n",
       "}\n",
       "\n",
       "dl.xr-attrs {\n",
       "  padding: 0;\n",
       "  margin: 0;\n",
       "  display: grid;\n",
       "  grid-template-columns: 125px auto;\n",
       "}\n",
       "\n",
       ".xr-attrs dt,\n",
       ".xr-attrs dd {\n",
       "  padding: 0;\n",
       "  margin: 0;\n",
       "  float: left;\n",
       "  padding-right: 10px;\n",
       "  width: auto;\n",
       "}\n",
       "\n",
       ".xr-attrs dt {\n",
       "  font-weight: normal;\n",
       "  grid-column: 1;\n",
       "}\n",
       "\n",
       ".xr-attrs dt:hover span {\n",
       "  display: inline-block;\n",
       "  background: var(--xr-background-color);\n",
       "  padding-right: 10px;\n",
       "}\n",
       "\n",
       ".xr-attrs dd {\n",
       "  grid-column: 2;\n",
       "  white-space: pre-wrap;\n",
       "  word-break: break-all;\n",
       "}\n",
       "\n",
       ".xr-icon-database,\n",
       ".xr-icon-file-text2 {\n",
       "  display: inline-block;\n",
       "  vertical-align: middle;\n",
       "  width: 1em;\n",
       "  height: 1.5em !important;\n",
       "  stroke-width: 0;\n",
       "  stroke: currentColor;\n",
       "  fill: currentColor;\n",
       "}\n",
       "</style><pre class='xr-text-repr-fallback'>&lt;xarray.Dataset&gt;\n",
       "Dimensions:   (Time: 81, Ccat: 12)\n",
       "Coordinates:\n",
       "    Region    &lt;U3 &#x27;USA&#x27;\n",
       "  * Time      (Time) int32 2020 2021 2022 2023 2024 ... 2096 2097 2098 2099 2100\n",
       "    Variable  &lt;U10 &#x27;A1_gdp_net&#x27;\n",
       "  * Ccat      (Ccat) object &#x27;C1&#x27; &#x27;C1+C2&#x27; &#x27;C2&#x27; &#x27;C3&#x27; ... &#x27;C6&#x27; &#x27;C7&#x27; &#x27;C7+C8&#x27; &#x27;C8&#x27;\n",
       "Data variables:\n",
       "    Value     (Ccat, Time) float64 0.6372 0.5922 0.5471 ... 1.236 1.223 1.21</pre><div class='xr-wrap' hidden><div class='xr-header'><div class='xr-obj-type'>xarray.Dataset</div></div><ul class='xr-sections'><li class='xr-section-item'><input id='section-b0ef889a-a065-42d9-a8ba-01dc148980cf' class='xr-section-summary-in' type='checkbox' disabled ><label for='section-b0ef889a-a065-42d9-a8ba-01dc148980cf' class='xr-section-summary'  title='Expand/collapse section'>Dimensions:</label><div class='xr-section-inline-details'><ul class='xr-dim-list'><li><span class='xr-has-index'>Time</span>: 81</li><li><span class='xr-has-index'>Ccat</span>: 12</li></ul></div><div class='xr-section-details'></div></li><li class='xr-section-item'><input id='section-360a0fa3-4274-4085-885a-7c176ca72c44' class='xr-section-summary-in' type='checkbox'  checked><label for='section-360a0fa3-4274-4085-885a-7c176ca72c44' class='xr-section-summary' >Coordinates: <span>(4)</span></label><div class='xr-section-inline-details'></div><div class='xr-section-details'><ul class='xr-var-list'><li class='xr-var-item'><div class='xr-var-name'><span>Region</span></div><div class='xr-var-dims'>()</div><div class='xr-var-dtype'>&lt;U3</div><div class='xr-var-preview xr-preview'>&#x27;USA&#x27;</div><input id='attrs-7d0e65f5-ad40-40d2-8052-d2667469248b' class='xr-var-attrs-in' type='checkbox' disabled><label for='attrs-7d0e65f5-ad40-40d2-8052-d2667469248b' title='Show/Hide attributes'><svg class='icon xr-icon-file-text2'><use xlink:href='#icon-file-text2'></use></svg></label><input id='data-b27e1a1f-97db-4fa0-889a-b24d4299eda6' class='xr-var-data-in' type='checkbox'><label for='data-b27e1a1f-97db-4fa0-889a-b24d4299eda6' title='Show/Hide data repr'><svg class='icon xr-icon-database'><use xlink:href='#icon-database'></use></svg></label><div class='xr-var-attrs'><dl class='xr-attrs'></dl></div><div class='xr-var-data'><pre>array(&#x27;USA&#x27;, dtype=&#x27;&lt;U3&#x27;)</pre></div></li><li class='xr-var-item'><div class='xr-var-name'><span class='xr-has-index'>Time</span></div><div class='xr-var-dims'>(Time)</div><div class='xr-var-dtype'>int32</div><div class='xr-var-preview xr-preview'>2020 2021 2022 ... 2098 2099 2100</div><input id='attrs-9600df59-5b3a-41ba-ba59-ab9b19280338' class='xr-var-attrs-in' type='checkbox' disabled><label for='attrs-9600df59-5b3a-41ba-ba59-ab9b19280338' title='Show/Hide attributes'><svg class='icon xr-icon-file-text2'><use xlink:href='#icon-file-text2'></use></svg></label><input id='data-c2389b19-e0a7-4e15-a0fa-9324c6cb5a56' class='xr-var-data-in' type='checkbox'><label for='data-c2389b19-e0a7-4e15-a0fa-9324c6cb5a56' title='Show/Hide data repr'><svg class='icon xr-icon-database'><use xlink:href='#icon-database'></use></svg></label><div class='xr-var-attrs'><dl class='xr-attrs'></dl></div><div class='xr-var-data'><pre>array([2020, 2021, 2022, 2023, 2024, 2025, 2026, 2027, 2028, 2029, 2030, 2031,\n",
       "       2032, 2033, 2034, 2035, 2036, 2037, 2038, 2039, 2040, 2041, 2042, 2043,\n",
       "       2044, 2045, 2046, 2047, 2048, 2049, 2050, 2051, 2052, 2053, 2054, 2055,\n",
       "       2056, 2057, 2058, 2059, 2060, 2061, 2062, 2063, 2064, 2065, 2066, 2067,\n",
       "       2068, 2069, 2070, 2071, 2072, 2073, 2074, 2075, 2076, 2077, 2078, 2079,\n",
       "       2080, 2081, 2082, 2083, 2084, 2085, 2086, 2087, 2088, 2089, 2090, 2091,\n",
       "       2092, 2093, 2094, 2095, 2096, 2097, 2098, 2099, 2100])</pre></div></li><li class='xr-var-item'><div class='xr-var-name'><span>Variable</span></div><div class='xr-var-dims'>()</div><div class='xr-var-dtype'>&lt;U10</div><div class='xr-var-preview xr-preview'>&#x27;A1_gdp_net&#x27;</div><input id='attrs-a519cbb9-48a1-4c42-9b86-811099abd137' class='xr-var-attrs-in' type='checkbox' disabled><label for='attrs-a519cbb9-48a1-4c42-9b86-811099abd137' title='Show/Hide attributes'><svg class='icon xr-icon-file-text2'><use xlink:href='#icon-file-text2'></use></svg></label><input id='data-cc9b2d71-4f19-4708-ac95-2bef97cb3241' class='xr-var-data-in' type='checkbox'><label for='data-cc9b2d71-4f19-4708-ac95-2bef97cb3241' title='Show/Hide data repr'><svg class='icon xr-icon-database'><use xlink:href='#icon-database'></use></svg></label><div class='xr-var-attrs'><dl class='xr-attrs'></dl></div><div class='xr-var-data'><pre>array(&#x27;A1_gdp_net&#x27;, dtype=&#x27;&lt;U10&#x27;)</pre></div></li><li class='xr-var-item'><div class='xr-var-name'><span class='xr-has-index'>Ccat</span></div><div class='xr-var-dims'>(Ccat)</div><div class='xr-var-dtype'>object</div><div class='xr-var-preview xr-preview'>&#x27;C1&#x27; &#x27;C1+C2&#x27; &#x27;C2&#x27; ... &#x27;C7+C8&#x27; &#x27;C8&#x27;</div><input id='attrs-d3458853-080a-4189-935f-629ebadadf7a' class='xr-var-attrs-in' type='checkbox' disabled><label for='attrs-d3458853-080a-4189-935f-629ebadadf7a' title='Show/Hide attributes'><svg class='icon xr-icon-file-text2'><use xlink:href='#icon-file-text2'></use></svg></label><input id='data-b1ed3190-e4c6-40c7-a225-46489338b3b1' class='xr-var-data-in' type='checkbox'><label for='data-b1ed3190-e4c6-40c7-a225-46489338b3b1' title='Show/Hide data repr'><svg class='icon xr-icon-database'><use xlink:href='#icon-database'></use></svg></label><div class='xr-var-attrs'><dl class='xr-attrs'></dl></div><div class='xr-var-data'><pre>array([&#x27;C1&#x27;, &#x27;C1+C2&#x27;, &#x27;C2&#x27;, &#x27;C3&#x27;, &#x27;C3+C4&#x27;, &#x27;C4&#x27;, &#x27;C5&#x27;, &#x27;C5+C6&#x27;, &#x27;C6&#x27;, &#x27;C7&#x27;,\n",
       "       &#x27;C7+C8&#x27;, &#x27;C8&#x27;], dtype=object)</pre></div></li></ul></div></li><li class='xr-section-item'><input id='section-726a9a74-b076-4b89-a733-e6a27ef689c9' class='xr-section-summary-in' type='checkbox'  checked><label for='section-726a9a74-b076-4b89-a733-e6a27ef689c9' class='xr-section-summary' >Data variables: <span>(1)</span></label><div class='xr-section-inline-details'></div><div class='xr-section-details'><ul class='xr-var-list'><li class='xr-var-item'><div class='xr-var-name'><span>Value</span></div><div class='xr-var-dims'>(Ccat, Time)</div><div class='xr-var-dtype'>float64</div><div class='xr-var-preview xr-preview'>...</div><input id='attrs-e9e43664-d82a-45b3-b2ee-1e87bb9d770c' class='xr-var-attrs-in' type='checkbox' disabled><label for='attrs-e9e43664-d82a-45b3-b2ee-1e87bb9d770c' title='Show/Hide attributes'><svg class='icon xr-icon-file-text2'><use xlink:href='#icon-file-text2'></use></svg></label><input id='data-4c2f91b3-c97d-4e8c-a124-58ec5a130354' class='xr-var-data-in' type='checkbox'><label for='data-4c2f91b3-c97d-4e8c-a124-58ec5a130354' title='Show/Hide data repr'><svg class='icon xr-icon-database'><use xlink:href='#icon-database'></use></svg></label><div class='xr-var-attrs'><dl class='xr-attrs'></dl></div><div class='xr-var-data'><pre>array([[ 0.637176,  0.59219 ,  0.547067, ..., -1.209971, -1.149608, -1.090208],\n",
       "       [ 0.642781,  0.613266,  0.583666, ..., -1.414225, -1.373937, -1.334409],\n",
       "       [ 0.647547,  0.629973,  0.612353, ..., -1.58936 , -1.570945, -1.553041],\n",
       "       ...,\n",
       "       [ 0.659153,  0.665573,  0.671989, ...,  0.821129,  0.819377,  0.817739],\n",
       "       [ 0.664619,  0.671841,  0.679059, ...,  0.897591,  0.888053,  0.878624],\n",
       "       [ 0.69424 ,  0.70578 ,  0.71732 , ...,  1.236132,  1.223253,  1.210395]])</pre></div></li></ul></div></li><li class='xr-section-item'><input id='section-854ac30c-4361-49cc-96e0-358d4163f3cb' class='xr-section-summary-in' type='checkbox' disabled ><label for='section-854ac30c-4361-49cc-96e0-358d4163f3cb' class='xr-section-summary'  title='Expand/collapse section'>Attributes: <span>(0)</span></label><div class='xr-section-inline-details'></div><div class='xr-section-details'><dl class='xr-attrs'></dl></div></li></ul></div></div>"
      ],
      "text/plain": [
       "<xarray.Dataset>\n",
       "Dimensions:   (Time: 81, Ccat: 12)\n",
       "Coordinates:\n",
       "    Region    <U3 'USA'\n",
       "  * Time      (Time) int32 2020 2021 2022 2023 2024 ... 2096 2097 2098 2099 2100\n",
       "    Variable  <U10 'A1_gdp_net'\n",
       "  * Ccat      (Ccat) object 'C1' 'C1+C2' 'C2' 'C3' ... 'C6' 'C7' 'C7+C8' 'C8'\n",
       "Data variables:\n",
       "    Value     (Ccat, Time) float64 ..."
      ]
     },
     "execution_count": 52,
     "metadata": {},
     "output_type": "execute_result"
    }
   ],
   "source": [
    "xr_budgets_scenario.sel(Variable='A1_gdp_net', Region='USA')"
   ]
  },
  {
   "cell_type": "code",
   "execution_count": 48,
   "metadata": {},
   "outputs": [
    {
     "data": {
      "text/plain": [
       "(1,\n",
       " [130.69146637397736,\n",
       "  152.55517471552787,\n",
       "  190.24950714527085,\n",
       "  256.99529184740226,\n",
       "  323.7410765495336,\n",
       "  453.79702708329506,\n",
       "  621.8152381779416,\n",
       "  828.1553411384826])"
      ]
     },
     "execution_count": 48,
     "metadata": {},
     "output_type": "execute_result"
    }
   ],
   "source": [
    "check_monotomy('CHN', 'A1_gdp_net')"
   ]
  },
  {
   "cell_type": "code",
   "execution_count": 33,
   "metadata": {},
   "outputs": [
    {
     "data": {
      "application/vnd.plotly.v1+json": {
       "config": {
        "plotlyServerURL": "https://plotly.com"
       },
       "data": [
        {
         "name": "C1",
         "type": "bar",
         "x": [
          "USA",
          "EU",
          "CHN"
         ],
         "y": [
          -102.50740455974064,
          -6.024484322306897,
          130.69146637397736
         ]
        },
        {
         "name": "C2",
         "type": "bar",
         "x": [
          "USA",
          "EU",
          "CHN"
         ],
         "y": [
          -95.48336258000268,
          1.524300180209643,
          152.55517471552787
         ]
        },
        {
         "name": "C3",
         "type": "bar",
         "x": [
          "USA",
          "EU",
          "CHN"
         ],
         "y": [
          -83.37349680386887,
          14.5388532483911,
          190.24950714527085
         ]
        }
       ],
       "layout": {
        "barmode": "group",
        "template": {
         "data": {
          "bar": [
           {
            "error_x": {
             "color": "#2a3f5f"
            },
            "error_y": {
             "color": "#2a3f5f"
            },
            "marker": {
             "line": {
              "color": "#E5ECF6",
              "width": 0.5
             },
             "pattern": {
              "fillmode": "overlay",
              "size": 10,
              "solidity": 0.2
             }
            },
            "type": "bar"
           }
          ],
          "barpolar": [
           {
            "marker": {
             "line": {
              "color": "#E5ECF6",
              "width": 0.5
             },
             "pattern": {
              "fillmode": "overlay",
              "size": 10,
              "solidity": 0.2
             }
            },
            "type": "barpolar"
           }
          ],
          "carpet": [
           {
            "aaxis": {
             "endlinecolor": "#2a3f5f",
             "gridcolor": "white",
             "linecolor": "white",
             "minorgridcolor": "white",
             "startlinecolor": "#2a3f5f"
            },
            "baxis": {
             "endlinecolor": "#2a3f5f",
             "gridcolor": "white",
             "linecolor": "white",
             "minorgridcolor": "white",
             "startlinecolor": "#2a3f5f"
            },
            "type": "carpet"
           }
          ],
          "choropleth": [
           {
            "colorbar": {
             "outlinewidth": 0,
             "ticks": ""
            },
            "type": "choropleth"
           }
          ],
          "contour": [
           {
            "colorbar": {
             "outlinewidth": 0,
             "ticks": ""
            },
            "colorscale": [
             [
              0,
              "#0d0887"
             ],
             [
              0.1111111111111111,
              "#46039f"
             ],
             [
              0.2222222222222222,
              "#7201a8"
             ],
             [
              0.3333333333333333,
              "#9c179e"
             ],
             [
              0.4444444444444444,
              "#bd3786"
             ],
             [
              0.5555555555555556,
              "#d8576b"
             ],
             [
              0.6666666666666666,
              "#ed7953"
             ],
             [
              0.7777777777777778,
              "#fb9f3a"
             ],
             [
              0.8888888888888888,
              "#fdca26"
             ],
             [
              1,
              "#f0f921"
             ]
            ],
            "type": "contour"
           }
          ],
          "contourcarpet": [
           {
            "colorbar": {
             "outlinewidth": 0,
             "ticks": ""
            },
            "type": "contourcarpet"
           }
          ],
          "heatmap": [
           {
            "colorbar": {
             "outlinewidth": 0,
             "ticks": ""
            },
            "colorscale": [
             [
              0,
              "#0d0887"
             ],
             [
              0.1111111111111111,
              "#46039f"
             ],
             [
              0.2222222222222222,
              "#7201a8"
             ],
             [
              0.3333333333333333,
              "#9c179e"
             ],
             [
              0.4444444444444444,
              "#bd3786"
             ],
             [
              0.5555555555555556,
              "#d8576b"
             ],
             [
              0.6666666666666666,
              "#ed7953"
             ],
             [
              0.7777777777777778,
              "#fb9f3a"
             ],
             [
              0.8888888888888888,
              "#fdca26"
             ],
             [
              1,
              "#f0f921"
             ]
            ],
            "type": "heatmap"
           }
          ],
          "heatmapgl": [
           {
            "colorbar": {
             "outlinewidth": 0,
             "ticks": ""
            },
            "colorscale": [
             [
              0,
              "#0d0887"
             ],
             [
              0.1111111111111111,
              "#46039f"
             ],
             [
              0.2222222222222222,
              "#7201a8"
             ],
             [
              0.3333333333333333,
              "#9c179e"
             ],
             [
              0.4444444444444444,
              "#bd3786"
             ],
             [
              0.5555555555555556,
              "#d8576b"
             ],
             [
              0.6666666666666666,
              "#ed7953"
             ],
             [
              0.7777777777777778,
              "#fb9f3a"
             ],
             [
              0.8888888888888888,
              "#fdca26"
             ],
             [
              1,
              "#f0f921"
             ]
            ],
            "type": "heatmapgl"
           }
          ],
          "histogram": [
           {
            "marker": {
             "pattern": {
              "fillmode": "overlay",
              "size": 10,
              "solidity": 0.2
             }
            },
            "type": "histogram"
           }
          ],
          "histogram2d": [
           {
            "colorbar": {
             "outlinewidth": 0,
             "ticks": ""
            },
            "colorscale": [
             [
              0,
              "#0d0887"
             ],
             [
              0.1111111111111111,
              "#46039f"
             ],
             [
              0.2222222222222222,
              "#7201a8"
             ],
             [
              0.3333333333333333,
              "#9c179e"
             ],
             [
              0.4444444444444444,
              "#bd3786"
             ],
             [
              0.5555555555555556,
              "#d8576b"
             ],
             [
              0.6666666666666666,
              "#ed7953"
             ],
             [
              0.7777777777777778,
              "#fb9f3a"
             ],
             [
              0.8888888888888888,
              "#fdca26"
             ],
             [
              1,
              "#f0f921"
             ]
            ],
            "type": "histogram2d"
           }
          ],
          "histogram2dcontour": [
           {
            "colorbar": {
             "outlinewidth": 0,
             "ticks": ""
            },
            "colorscale": [
             [
              0,
              "#0d0887"
             ],
             [
              0.1111111111111111,
              "#46039f"
             ],
             [
              0.2222222222222222,
              "#7201a8"
             ],
             [
              0.3333333333333333,
              "#9c179e"
             ],
             [
              0.4444444444444444,
              "#bd3786"
             ],
             [
              0.5555555555555556,
              "#d8576b"
             ],
             [
              0.6666666666666666,
              "#ed7953"
             ],
             [
              0.7777777777777778,
              "#fb9f3a"
             ],
             [
              0.8888888888888888,
              "#fdca26"
             ],
             [
              1,
              "#f0f921"
             ]
            ],
            "type": "histogram2dcontour"
           }
          ],
          "mesh3d": [
           {
            "colorbar": {
             "outlinewidth": 0,
             "ticks": ""
            },
            "type": "mesh3d"
           }
          ],
          "parcoords": [
           {
            "line": {
             "colorbar": {
              "outlinewidth": 0,
              "ticks": ""
             }
            },
            "type": "parcoords"
           }
          ],
          "pie": [
           {
            "automargin": true,
            "type": "pie"
           }
          ],
          "scatter": [
           {
            "fillpattern": {
             "fillmode": "overlay",
             "size": 10,
             "solidity": 0.2
            },
            "type": "scatter"
           }
          ],
          "scatter3d": [
           {
            "line": {
             "colorbar": {
              "outlinewidth": 0,
              "ticks": ""
             }
            },
            "marker": {
             "colorbar": {
              "outlinewidth": 0,
              "ticks": ""
             }
            },
            "type": "scatter3d"
           }
          ],
          "scattercarpet": [
           {
            "marker": {
             "colorbar": {
              "outlinewidth": 0,
              "ticks": ""
             }
            },
            "type": "scattercarpet"
           }
          ],
          "scattergeo": [
           {
            "marker": {
             "colorbar": {
              "outlinewidth": 0,
              "ticks": ""
             }
            },
            "type": "scattergeo"
           }
          ],
          "scattergl": [
           {
            "marker": {
             "colorbar": {
              "outlinewidth": 0,
              "ticks": ""
             }
            },
            "type": "scattergl"
           }
          ],
          "scattermapbox": [
           {
            "marker": {
             "colorbar": {
              "outlinewidth": 0,
              "ticks": ""
             }
            },
            "type": "scattermapbox"
           }
          ],
          "scatterpolar": [
           {
            "marker": {
             "colorbar": {
              "outlinewidth": 0,
              "ticks": ""
             }
            },
            "type": "scatterpolar"
           }
          ],
          "scatterpolargl": [
           {
            "marker": {
             "colorbar": {
              "outlinewidth": 0,
              "ticks": ""
             }
            },
            "type": "scatterpolargl"
           }
          ],
          "scatterternary": [
           {
            "marker": {
             "colorbar": {
              "outlinewidth": 0,
              "ticks": ""
             }
            },
            "type": "scatterternary"
           }
          ],
          "surface": [
           {
            "colorbar": {
             "outlinewidth": 0,
             "ticks": ""
            },
            "colorscale": [
             [
              0,
              "#0d0887"
             ],
             [
              0.1111111111111111,
              "#46039f"
             ],
             [
              0.2222222222222222,
              "#7201a8"
             ],
             [
              0.3333333333333333,
              "#9c179e"
             ],
             [
              0.4444444444444444,
              "#bd3786"
             ],
             [
              0.5555555555555556,
              "#d8576b"
             ],
             [
              0.6666666666666666,
              "#ed7953"
             ],
             [
              0.7777777777777778,
              "#fb9f3a"
             ],
             [
              0.8888888888888888,
              "#fdca26"
             ],
             [
              1,
              "#f0f921"
             ]
            ],
            "type": "surface"
           }
          ],
          "table": [
           {
            "cells": {
             "fill": {
              "color": "#EBF0F8"
             },
             "line": {
              "color": "white"
             }
            },
            "header": {
             "fill": {
              "color": "#C8D4E3"
             },
             "line": {
              "color": "white"
             }
            },
            "type": "table"
           }
          ]
         },
         "layout": {
          "annotationdefaults": {
           "arrowcolor": "#2a3f5f",
           "arrowhead": 0,
           "arrowwidth": 1
          },
          "autotypenumbers": "strict",
          "coloraxis": {
           "colorbar": {
            "outlinewidth": 0,
            "ticks": ""
           }
          },
          "colorscale": {
           "diverging": [
            [
             0,
             "#8e0152"
            ],
            [
             0.1,
             "#c51b7d"
            ],
            [
             0.2,
             "#de77ae"
            ],
            [
             0.3,
             "#f1b6da"
            ],
            [
             0.4,
             "#fde0ef"
            ],
            [
             0.5,
             "#f7f7f7"
            ],
            [
             0.6,
             "#e6f5d0"
            ],
            [
             0.7,
             "#b8e186"
            ],
            [
             0.8,
             "#7fbc41"
            ],
            [
             0.9,
             "#4d9221"
            ],
            [
             1,
             "#276419"
            ]
           ],
           "sequential": [
            [
             0,
             "#0d0887"
            ],
            [
             0.1111111111111111,
             "#46039f"
            ],
            [
             0.2222222222222222,
             "#7201a8"
            ],
            [
             0.3333333333333333,
             "#9c179e"
            ],
            [
             0.4444444444444444,
             "#bd3786"
            ],
            [
             0.5555555555555556,
             "#d8576b"
            ],
            [
             0.6666666666666666,
             "#ed7953"
            ],
            [
             0.7777777777777778,
             "#fb9f3a"
            ],
            [
             0.8888888888888888,
             "#fdca26"
            ],
            [
             1,
             "#f0f921"
            ]
           ],
           "sequentialminus": [
            [
             0,
             "#0d0887"
            ],
            [
             0.1111111111111111,
             "#46039f"
            ],
            [
             0.2222222222222222,
             "#7201a8"
            ],
            [
             0.3333333333333333,
             "#9c179e"
            ],
            [
             0.4444444444444444,
             "#bd3786"
            ],
            [
             0.5555555555555556,
             "#d8576b"
            ],
            [
             0.6666666666666666,
             "#ed7953"
            ],
            [
             0.7777777777777778,
             "#fb9f3a"
            ],
            [
             0.8888888888888888,
             "#fdca26"
            ],
            [
             1,
             "#f0f921"
            ]
           ]
          },
          "colorway": [
           "#636efa",
           "#EF553B",
           "#00cc96",
           "#ab63fa",
           "#FFA15A",
           "#19d3f3",
           "#FF6692",
           "#B6E880",
           "#FF97FF",
           "#FECB52"
          ],
          "font": {
           "color": "#2a3f5f"
          },
          "geo": {
           "bgcolor": "white",
           "lakecolor": "white",
           "landcolor": "#E5ECF6",
           "showlakes": true,
           "showland": true,
           "subunitcolor": "white"
          },
          "hoverlabel": {
           "align": "left"
          },
          "hovermode": "closest",
          "mapbox": {
           "style": "light"
          },
          "paper_bgcolor": "white",
          "plot_bgcolor": "#E5ECF6",
          "polar": {
           "angularaxis": {
            "gridcolor": "white",
            "linecolor": "white",
            "ticks": ""
           },
           "bgcolor": "#E5ECF6",
           "radialaxis": {
            "gridcolor": "white",
            "linecolor": "white",
            "ticks": ""
           }
          },
          "scene": {
           "xaxis": {
            "backgroundcolor": "#E5ECF6",
            "gridcolor": "white",
            "gridwidth": 2,
            "linecolor": "white",
            "showbackground": true,
            "ticks": "",
            "zerolinecolor": "white"
           },
           "yaxis": {
            "backgroundcolor": "#E5ECF6",
            "gridcolor": "white",
            "gridwidth": 2,
            "linecolor": "white",
            "showbackground": true,
            "ticks": "",
            "zerolinecolor": "white"
           },
           "zaxis": {
            "backgroundcolor": "#E5ECF6",
            "gridcolor": "white",
            "gridwidth": 2,
            "linecolor": "white",
            "showbackground": true,
            "ticks": "",
            "zerolinecolor": "white"
           }
          },
          "shapedefaults": {
           "line": {
            "color": "#2a3f5f"
           }
          },
          "ternary": {
           "aaxis": {
            "gridcolor": "white",
            "linecolor": "white",
            "ticks": ""
           },
           "baxis": {
            "gridcolor": "white",
            "linecolor": "white",
            "ticks": ""
           },
           "bgcolor": "#E5ECF6",
           "caxis": {
            "gridcolor": "white",
            "linecolor": "white",
            "ticks": ""
           }
          },
          "title": {
           "x": 0.05
          },
          "xaxis": {
           "automargin": true,
           "gridcolor": "white",
           "linecolor": "white",
           "ticks": "",
           "title": {
            "standoff": 15
           },
           "zerolinecolor": "white",
           "zerolinewidth": 2
          },
          "yaxis": {
           "automargin": true,
           "gridcolor": "white",
           "linecolor": "white",
           "ticks": "",
           "title": {
            "standoff": 15
           },
           "zerolinecolor": "white",
           "zerolinewidth": 2
          }
         }
        }
       }
      }
     },
     "metadata": {},
     "output_type": "display_data"
    }
   ],
   "source": [
    "fig = go.Figure()\n",
    "for c_i, c in enumerate(['C1', 'C2', 'C3']):\n",
    "    bars = go.Bar(name=c,\n",
    "                  x=['USA', 'EU', \"CHN\"],\n",
    "                  y=xr_budgets_static.sel(Region=['USA', 'EU', \"CHN\"], Ccat=c, Variable='A1_gdp_net').Value)\n",
    "    fig.add_trace(bars)\n",
    "fig.update_layout(barmode='group')\n",
    "fig.show()"
   ]
  }
 ],
 "metadata": {
  "kernelspec": {
   "display_name": "MyEnv",
   "language": "python",
   "name": "python3"
  },
  "language_info": {
   "codemirror_mode": {
    "name": "ipython",
    "version": 3
   },
   "file_extension": ".py",
   "mimetype": "text/x-python",
   "name": "python",
   "nbconvert_exporter": "python",
   "pygments_lexer": "ipython3",
   "version": "3.9.16"
  },
  "orig_nbformat": 4
 },
 "nbformat": 4,
 "nbformat_minor": 2
}
