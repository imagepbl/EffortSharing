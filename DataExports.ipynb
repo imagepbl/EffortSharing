{
 "cells": [
  {
   "cell_type": "markdown",
   "metadata": {},
   "source": [
    "## Preambule"
   ]
  },
  {
   "cell_type": "code",
   "execution_count": 2,
   "metadata": {},
   "outputs": [],
   "source": [
    "import xarray as xr\n",
    "import numpy as np\n",
    "import matplotlib.pyplot as plt\n",
    "import pandas as pd"
   ]
  },
  {
   "cell_type": "code",
   "execution_count": 3,
   "metadata": {},
   "outputs": [],
   "source": [
    "path_to_save = \"K:/ECEMF/T5.2/Exports_for_figures/\""
   ]
  },
  {
   "cell_type": "markdown",
   "metadata": {},
   "source": [
    "## Read in general data"
   ]
  },
  {
   "cell_type": "code",
   "execution_count": 26,
   "metadata": {},
   "outputs": [],
   "source": [
    "xr_2030 = xr.open_dataset(\"K:/ECEMF/T5.2/xr_alloc_2030.nc\").load()\n",
    "xr_2040 = xr.open_dataset(\"K:/ECEMF/T5.2/xr_alloc_2040.nc\").load()\n",
    "xr_dataread = xr.open_dataset(\"K:/ECEMF/T5.2/xr_dataread.nc\").load()\n",
    "xr_nld = xr.open_dataset(\"K:/ECEMF/T5.2/Allocations/xr_alloc_NLD.nc\").load()\n",
    "xr_usa = xr.open_dataset(\"K:/ECEMF/T5.2/Allocations/xr_alloc_USA.nc\").load()"
   ]
  },
  {
   "cell_type": "code",
   "execution_count": 5,
   "metadata": {},
   "outputs": [],
   "source": [
    "rules = ['GF', 'PC', 'PCC', 'AP', 'ECPC', 'GDR']"
   ]
  },
  {
   "cell_type": "markdown",
   "metadata": {},
   "source": [
    "## Exports"
   ]
  },
  {
   "cell_type": "code",
   "execution_count": 6,
   "metadata": {},
   "outputs": [],
   "source": [
    "standard_settings = {\"Timing\": 'Immediate'}\n",
    "median_settings = {\"NegEmis\": 0.5, \"NonCO2red\": 0.5, \"Convergence_year\": 2100, \"Discount_factor\": 2.0, \"Historical_startyear\": 1950, \"Capability_threshold\": 'No', \"RCI_weight\": \"Half\", \"Scenario\": \"SSP2\"}"
   ]
  },
  {
   "cell_type": "markdown",
   "metadata": {},
   "source": [
    "#### Schema 1 (general infographic)"
   ]
  },
  {
   "cell_type": "code",
   "execution_count": 47,
   "metadata": {},
   "outputs": [],
   "source": [
    "emis_1990 = float(xr_dataread.GHG_hist.sel(Region='NLD', Time=1990))\n",
    "dict_schema_1_h = {}\n",
    "list_var = list(np.array(xr_dataread.GHG_hist.sel(Region='NLD', Time=np.arange(1990, 2021.5))))\n",
    "list_time = list(np.arange(1990, 2021.5))\n",
    "dict_schema_1_h['Time'] = list_time\n",
    "dict_schema_1_h['GHG_historical'] = list_var\n",
    "dict_schema_1_h['Red_wrt_1990'] = (emis_1990-np.array(list_var))/emis_1990\n",
    "\n",
    "df_schema_1_h = pd.DataFrame(dict_schema_1_h)\n",
    "df_schema_1_h.to_excel(\"K:/ECEMF/T5.2/Exports_for_figures/data_sch1_hist.xlsx\", index=False)"
   ]
  },
  {
   "cell_type": "code",
   "execution_count": 16,
   "metadata": {},
   "outputs": [],
   "source": [
    "emis_2021 = float(xr_dataread.GHG_hist.sel(Region='NLD', Time=2021))\n",
    "emis_2030_high = 123\n",
    "emis_2030_low = 97\n",
    "time = np.arange(2021, 2031)\n",
    "interp_high = np.interp(time, [2021, 2030], [emis_2021, emis_2030_high])\n",
    "interp_low = np.interp(time, [2021, 2030], [emis_2021, emis_2030_low])"
   ]
  },
  {
   "cell_type": "code",
   "execution_count": 46,
   "metadata": {},
   "outputs": [],
   "source": [
    "dict_schema_1_kev = {}\n",
    "list_time = list(np.arange(2021, 2031))\n",
    "dict_schema_1_kev['Time'] = list_time\n",
    "dict_schema_1_kev['GHG_kev_high'] = interp_high\n",
    "dict_schema_1_kev['GHG_kev_low'] = interp_low\n",
    "\n",
    "dict_schema_1_kev['GHG_kev_high_red_wrt_1990'] = (emis_1990-interp_high)/emis_1990\n",
    "dict_schema_1_kev['GHG_kev_low_red_wrt_1990'] = (emis_1990-interp_low)/emis_1990\n",
    "\n",
    "df_schema_1_kev = pd.DataFrame(dict_schema_1_kev)\n",
    "df_schema_1_kev.to_excel(\"K:/ECEMF/T5.2/Exports_for_figures/data_sch1_kev.xlsx\", index=False)"
   ]
  },
  {
   "cell_type": "code",
   "execution_count": 48,
   "metadata": {},
   "outputs": [],
   "source": [
    "dict_schema_1_effortsharing = {}\n",
    "dict_schema_1_effortsharing['Fairness_15_GHG'] = np.array(xr_2040.sel(Region='NLD', NegEmis=0.5, NonCO2red=0.5, Temperature=1.5, Risk=0.5, Timing='Immediate', Convergence_year=2050, RCI_weight='Half', Capability_threshold='No', Historical_startyear=1950).mean(dim=['Scenario', 'Discount_factor'])[rules].to_array())\n",
    "dict_schema_1_effortsharing['Fairness_20_GHG'] = np.array(xr_2040.sel(Region='NLD', NegEmis=0.5, NonCO2red=0.5, Temperature=2.0, Risk=0.5, Timing='Immediate', Convergence_year=2050, RCI_weight='Half', Capability_threshold='No', Historical_startyear=1950).mean(dim=['Scenario', 'Discount_factor'])[rules].to_array())\n",
    "dict_schema_1_effortsharing['Fairness_15_red_1990'] = (emis_1990-np.array(xr_2040.sel(Region='NLD', NegEmis=0.5, NonCO2red=0.5, Temperature=1.5, Risk=0.5, Timing='Immediate', Convergence_year=2050, RCI_weight='Half', Capability_threshold='No', Historical_startyear=1950).mean(dim=['Scenario', 'Discount_factor'])[rules].to_array()))/emis_1990\n",
    "dict_schema_1_effortsharing['Fairness_20_red_1990'] = (emis_1990-np.array(xr_2040.sel(Region='NLD', NegEmis=0.5, NonCO2red=0.5, Temperature=2.0, Risk=0.5, Timing='Immediate', Convergence_year=2050, RCI_weight='Half', Capability_threshold='No', Historical_startyear=1950).mean(dim=['Scenario', 'Discount_factor'])[rules].to_array()))/emis_1990\n",
    "dict_schema_1_effortsharing['Allocation'] = rules\n",
    "\n",
    "df_schema_1_effortsharing = pd.DataFrame(dict_schema_1_effortsharing)\n",
    "df_schema_1_effortsharing.to_excel(\"K:/ECEMF/T5.2/Exports_for_figures/data_sch1_es.xlsx\", index=False)"
   ]
  },
  {
   "cell_type": "markdown",
   "metadata": {},
   "source": [
    "#### Schema 2 (outline of report)"
   ]
  },
  {
   "cell_type": "code",
   "execution_count": 50,
   "metadata": {},
   "outputs": [],
   "source": [
    "emis_1990 = float(xr_dataread.GHG_hist.sel(Region='EARTH', Time=1990))\n",
    "dict_schema_2_h = {}\n",
    "list_var = list(np.array(xr_dataread.GHG_hist.sel(Region='EARTH', Time=np.arange(1990, 2021.5))))\n",
    "list_time = list(np.arange(1990, 2021.5))\n",
    "\n",
    "dict_schema_2_h['Time'] = list_time\n",
    "dict_schema_2_h['GHG_historical_globe'] = list_var\n",
    "\n",
    "df_schema_2_h = pd.DataFrame(dict_schema_2_h)\n",
    "df_schema_2_h.to_excel(\"K:/ECEMF/T5.2/Exports_for_figures/data_sch2_hist.xlsx\", index=False)"
   ]
  },
  {
   "cell_type": "code",
   "execution_count": 54,
   "metadata": {},
   "outputs": [],
   "source": [
    "emis_1990 = float(xr_dataread.GHG_hist.sel(Region='EARTH', Time=1990))\n",
    "dict_schema_2_h = {}\n",
    "list_time = list(np.arange(2021, 2101))\n",
    "list_var_15 = list(np.array(xr_dataread.GHG_globe.sel(NegEmis=0.5, NonCO2red=0.5, Temperature=1.5, Risk=0.5, Timing='Immediate', Time=np.arange(2021, 2101))))\n",
    "list_var_20 = list(np.array(xr_dataread.GHG_globe.sel(NegEmis=0.5, NonCO2red=0.5, Temperature=2.0, Risk=0.5, Timing='Immediate', Time=np.arange(2021, 2101))))\n",
    "list_var_23 = list(np.array(xr_dataread.GHG_globe.sel(NegEmis=0.5, NonCO2red=0.5, Temperature=2.3, Risk=0.5, Timing='Immediate', Time=np.arange(2021, 2101))))\n",
    "\n",
    "dict_schema_2_h['Time'] = list_time\n",
    "dict_schema_2_h['GHG_projection_15'] = list_var_15\n",
    "dict_schema_2_h['GHG_projection_20'] = list_var_20\n",
    "dict_schema_2_h['GHG_projection_23'] = list_var_23\n",
    "\n",
    "df_schema_2_h = pd.DataFrame(dict_schema_2_h)\n",
    "df_schema_2_h.to_excel(\"K:/ECEMF/T5.2/Exports_for_figures/data_sch2_proj.xlsx\", index=False)"
   ]
  },
  {
   "cell_type": "markdown",
   "metadata": {},
   "source": [
    "#### Figure 4.1 (Netherlands zoom)"
   ]
  },
  {
   "cell_type": "code",
   "execution_count": 65,
   "metadata": {},
   "outputs": [],
   "source": [
    "dict_fig_4_1 = {}\n",
    "list_rule = []\n",
    "list_med = []\n",
    "list_min = []\n",
    "list_max = []\n",
    "list_time = []\n",
    "for rule_i, rule in enumerate(rules):\n",
    "    val_med = np.array(xr_nld.sel(Temperature=1.5, Risk=0.5, **median_settings, **standard_settings)[rule])\n",
    "    val_min = np.array(xr_nld.sel(Temperature=1.5, Risk=0.5, **standard_settings).min(dim=median_settings.keys())[rule])\n",
    "    val_max = np.array(xr_nld.sel(Temperature=1.5, Risk=0.5, **standard_settings).max(dim=median_settings.keys())[rule])\n",
    "    list_rule += [rule]*len(val_med)\n",
    "    list_med += list(val_med)\n",
    "    list_max += list(val_max)\n",
    "    list_min += list(val_min)\n",
    "    list_time += list(np.array(xr_nld.Time))\n",
    "dict_fig_4_1['Rule'] = list_rule\n",
    "dict_fig_4_1['Median'] = list_med\n",
    "dict_fig_4_1['Minimum'] = list_min\n",
    "dict_fig_4_1['Maximum'] = list_max\n",
    "dict_fig_4_1['Time'] = list_time\n",
    "\n",
    "df_fig_4_1 = pd.DataFrame(dict_fig_4_1)\n",
    "df_fig_4_1.to_excel(\"K:/ECEMF/T5.2/Exports_for_figures/data_fig_4_1.xlsx\", index=False)"
   ]
  },
  {
   "cell_type": "markdown",
   "metadata": {},
   "source": [
    "#### Figure 4.2 (temperature levels on horizontal)"
   ]
  },
  {
   "cell_type": "code",
   "execution_count": 66,
   "metadata": {},
   "outputs": [],
   "source": [
    "emis_1990 = float(xr_dataread.GHG_hist.sel(Region='NLD', Time=1990))\n",
    "\n",
    "dict_fig_4_2 = {}\n",
    "list_rule = []\n",
    "list_med = []\n",
    "list_min = []\n",
    "list_max = []\n",
    "list_temp = []\n",
    "for rule_i, rule in enumerate(rules):\n",
    "    val_med = -(np.array(xr_nld.sel(Time=2040, Risk=0.5, **median_settings, **standard_settings)[rule])-emis_1990)/emis_1990\n",
    "    val_min = -(np.array(xr_nld.sel(Time=2040, Risk=0.5, **standard_settings).min(dim=median_settings.keys())[rule])-emis_1990)/emis_1990\n",
    "    val_max = -(np.array(xr_nld.sel(Time=2040, Risk=0.5, **standard_settings).max(dim=median_settings.keys())[rule])-emis_1990)/emis_1990\n",
    "    list_rule += [rule]*len(val_med)\n",
    "    list_med += list(val_med)\n",
    "    list_max += list(val_max)\n",
    "    list_min += list(val_min)\n",
    "    list_temp += list(np.array(xr_nld.Temperature))\n",
    "dict_fig_4_2['Rule'] = list_rule\n",
    "dict_fig_4_2['Median'] = list_med\n",
    "dict_fig_4_2['Minimum'] = list_min\n",
    "dict_fig_4_2['Maximum'] = list_max\n",
    "dict_fig_4_2['Temperature'] = list_temp\n",
    "\n",
    "df_fig_4_2 = pd.DataFrame(dict_fig_4_2)\n",
    "df_fig_4_2.to_excel(\"K:/ECEMF/T5.2/Exports_for_figures/data_fig_4_2.xlsx\", index=False)"
   ]
  },
  {
   "cell_type": "markdown",
   "metadata": {},
   "source": [
    "#### Figure 4.3 (global scale)"
   ]
  },
  {
   "cell_type": "code",
   "execution_count": 77,
   "metadata": {},
   "outputs": [],
   "source": [
    "emis_1990_all = xr_dataread.GHG_hist.sel(Time=1990)\n",
    "reds_2040_all = (-(xr_2040-emis_1990_all)/emis_1990_all).sel(Temperature=1.5, Risk=0.5, **standard_settings)"
   ]
  },
  {
   "cell_type": "code",
   "execution_count": 85,
   "metadata": {},
   "outputs": [],
   "source": [
    "dict_fig_4_3 = {}\n",
    "list_rule = []\n",
    "list_med = []\n",
    "list_min = []\n",
    "list_max = []\n",
    "list_region = []\n",
    "for rule_i, rule in enumerate(rules):\n",
    "    val_med = np.array(reds_2040_all.sel(**median_settings)[rule])\n",
    "    val_min = np.array(reds_2040_all.min(dim=median_settings.keys())[rule])\n",
    "    val_max = np.array(reds_2040_all.max(dim=median_settings.keys())[rule])\n",
    "    list_rule += [rule]*len(val_med)\n",
    "    list_med += list(val_med)\n",
    "    list_max += list(val_max)\n",
    "    list_min += list(val_min)\n",
    "    list_region += list(np.array(reds_2040_all.Region))\n",
    "dict_fig_4_3['Rule'] = list_rule\n",
    "dict_fig_4_3['Median'] = list_med\n",
    "dict_fig_4_3['Minimum'] = list_min\n",
    "dict_fig_4_3['Maximum'] = list_max\n",
    "dict_fig_4_3['Region'] = list_region\n",
    "\n",
    "df_fig_4_3 = pd.DataFrame(dict_fig_4_3)\n",
    "df_fig_4_3.to_excel(\"K:/ECEMF/T5.2/Exports_for_figures/data_fig_4_3.xlsx\", index=False)"
   ]
  }
 ],
 "metadata": {
  "kernelspec": {
   "display_name": "Python 3",
   "language": "python",
   "name": "python3"
  },
  "language_info": {
   "codemirror_mode": {
    "name": "ipython",
    "version": 3
   },
   "file_extension": ".py",
   "mimetype": "text/x-python",
   "name": "python",
   "nbconvert_exporter": "python",
   "pygments_lexer": "ipython3",
   "version": "3.12.1"
  }
 },
 "nbformat": 4,
 "nbformat_minor": 2
}
