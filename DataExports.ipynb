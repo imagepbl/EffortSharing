{
 "cells": [
  {
   "cell_type": "markdown",
   "metadata": {},
   "source": [
    "## Preambule"
   ]
  },
  {
   "cell_type": "code",
   "execution_count": 5,
   "metadata": {},
   "outputs": [],
   "source": [
    "import xarray as xr\n",
    "import numpy as np\n",
    "import matplotlib.pyplot as plt\n",
    "import pandas as pd"
   ]
  },
  {
   "cell_type": "code",
   "execution_count": 6,
   "metadata": {},
   "outputs": [],
   "source": [
    "path_to_save = \"K:/ECEMF/T5.2/Exports_for_figures/\""
   ]
  },
  {
   "cell_type": "markdown",
   "metadata": {},
   "source": [
    "## Read in general data"
   ]
  },
  {
   "cell_type": "code",
   "execution_count": 7,
   "metadata": {},
   "outputs": [
    {
     "ename": "FileNotFoundError",
     "evalue": "[Errno 2] No such file or directory: 'K:\\\\ECEMF\\\\T5.2\\\\PBL\\\\xr_alloc_2030.nc'",
     "output_type": "error",
     "traceback": [
      "\u001b[1;31m---------------------------------------------------------------------------\u001b[0m",
      "\u001b[1;31mKeyError\u001b[0m                                  Traceback (most recent call last)",
      "File \u001b[1;32mk:\\Environments\\MyEnv16\\Lib\\site-packages\\xarray\\backends\\file_manager.py:211\u001b[0m, in \u001b[0;36mCachingFileManager._acquire_with_cache_info\u001b[1;34m(self, needs_lock)\u001b[0m\n\u001b[0;32m    210\u001b[0m \u001b[38;5;28;01mtry\u001b[39;00m:\n\u001b[1;32m--> 211\u001b[0m     file \u001b[38;5;241m=\u001b[39m \u001b[38;5;28;43mself\u001b[39;49m\u001b[38;5;241;43m.\u001b[39;49m\u001b[43m_cache\u001b[49m\u001b[43m[\u001b[49m\u001b[38;5;28;43mself\u001b[39;49m\u001b[38;5;241;43m.\u001b[39;49m\u001b[43m_key\u001b[49m\u001b[43m]\u001b[49m\n\u001b[0;32m    212\u001b[0m \u001b[38;5;28;01mexcept\u001b[39;00m \u001b[38;5;167;01mKeyError\u001b[39;00m:\n",
      "File \u001b[1;32mk:\\Environments\\MyEnv16\\Lib\\site-packages\\xarray\\backends\\lru_cache.py:56\u001b[0m, in \u001b[0;36mLRUCache.__getitem__\u001b[1;34m(self, key)\u001b[0m\n\u001b[0;32m     55\u001b[0m \u001b[38;5;28;01mwith\u001b[39;00m \u001b[38;5;28mself\u001b[39m\u001b[38;5;241m.\u001b[39m_lock:\n\u001b[1;32m---> 56\u001b[0m     value \u001b[38;5;241m=\u001b[39m \u001b[38;5;28;43mself\u001b[39;49m\u001b[38;5;241;43m.\u001b[39;49m\u001b[43m_cache\u001b[49m\u001b[43m[\u001b[49m\u001b[43mkey\u001b[49m\u001b[43m]\u001b[49m\n\u001b[0;32m     57\u001b[0m     \u001b[38;5;28mself\u001b[39m\u001b[38;5;241m.\u001b[39m_cache\u001b[38;5;241m.\u001b[39mmove_to_end(key)\n",
      "\u001b[1;31mKeyError\u001b[0m: [<class 'netCDF4._netCDF4.Dataset'>, ('K:\\\\ECEMF\\\\T5.2\\\\PBL\\\\xr_alloc_2030.nc',), 'r', (('clobber', True), ('diskless', False), ('format', 'NETCDF4'), ('persist', False)), '30acf973-86ad-430d-88af-60c7bbfafe98']",
      "\nDuring handling of the above exception, another exception occurred:\n",
      "\u001b[1;31mFileNotFoundError\u001b[0m                         Traceback (most recent call last)",
      "Cell \u001b[1;32mIn[7], line 1\u001b[0m\n\u001b[1;32m----> 1\u001b[0m xr_2030 \u001b[38;5;241m=\u001b[39m \u001b[43mxr\u001b[49m\u001b[38;5;241;43m.\u001b[39;49m\u001b[43mopen_dataset\u001b[49m\u001b[43m(\u001b[49m\u001b[38;5;124;43m\"\u001b[39;49m\u001b[38;5;124;43mK:/ECEMF/T5.2/PBL/xr_alloc_2030.nc\u001b[39;49m\u001b[38;5;124;43m\"\u001b[39;49m\u001b[43m)\u001b[49m\u001b[38;5;241m.\u001b[39mload()\n\u001b[0;32m      2\u001b[0m xr_2040 \u001b[38;5;241m=\u001b[39m xr\u001b[38;5;241m.\u001b[39mopen_dataset(\u001b[38;5;124m\"\u001b[39m\u001b[38;5;124mK:/ECEMF/T5.2/PBL/xr_alloc_2040.nc\u001b[39m\u001b[38;5;124m\"\u001b[39m)\u001b[38;5;241m.\u001b[39mload()\n\u001b[0;32m      3\u001b[0m xr_dataread \u001b[38;5;241m=\u001b[39m xr\u001b[38;5;241m.\u001b[39mopen_dataset(\u001b[38;5;124m\"\u001b[39m\u001b[38;5;124mK:/ECEMF/T5.2/PBL/xr_dataread.nc\u001b[39m\u001b[38;5;124m\"\u001b[39m)\u001b[38;5;241m.\u001b[39mload()\n",
      "File \u001b[1;32mk:\\Environments\\MyEnv16\\Lib\\site-packages\\xarray\\backends\\api.py:572\u001b[0m, in \u001b[0;36mopen_dataset\u001b[1;34m(filename_or_obj, engine, chunks, cache, decode_cf, mask_and_scale, decode_times, decode_timedelta, use_cftime, concat_characters, decode_coords, drop_variables, inline_array, chunked_array_type, from_array_kwargs, backend_kwargs, **kwargs)\u001b[0m\n\u001b[0;32m    560\u001b[0m decoders \u001b[38;5;241m=\u001b[39m _resolve_decoders_kwargs(\n\u001b[0;32m    561\u001b[0m     decode_cf,\n\u001b[0;32m    562\u001b[0m     open_backend_dataset_parameters\u001b[38;5;241m=\u001b[39mbackend\u001b[38;5;241m.\u001b[39mopen_dataset_parameters,\n\u001b[1;32m   (...)\u001b[0m\n\u001b[0;32m    568\u001b[0m     decode_coords\u001b[38;5;241m=\u001b[39mdecode_coords,\n\u001b[0;32m    569\u001b[0m )\n\u001b[0;32m    571\u001b[0m overwrite_encoded_chunks \u001b[38;5;241m=\u001b[39m kwargs\u001b[38;5;241m.\u001b[39mpop(\u001b[38;5;124m\"\u001b[39m\u001b[38;5;124moverwrite_encoded_chunks\u001b[39m\u001b[38;5;124m\"\u001b[39m, \u001b[38;5;28;01mNone\u001b[39;00m)\n\u001b[1;32m--> 572\u001b[0m backend_ds \u001b[38;5;241m=\u001b[39m \u001b[43mbackend\u001b[49m\u001b[38;5;241;43m.\u001b[39;49m\u001b[43mopen_dataset\u001b[49m\u001b[43m(\u001b[49m\n\u001b[0;32m    573\u001b[0m \u001b[43m    \u001b[49m\u001b[43mfilename_or_obj\u001b[49m\u001b[43m,\u001b[49m\n\u001b[0;32m    574\u001b[0m \u001b[43m    \u001b[49m\u001b[43mdrop_variables\u001b[49m\u001b[38;5;241;43m=\u001b[39;49m\u001b[43mdrop_variables\u001b[49m\u001b[43m,\u001b[49m\n\u001b[0;32m    575\u001b[0m \u001b[43m    \u001b[49m\u001b[38;5;241;43m*\u001b[39;49m\u001b[38;5;241;43m*\u001b[39;49m\u001b[43mdecoders\u001b[49m\u001b[43m,\u001b[49m\n\u001b[0;32m    576\u001b[0m \u001b[43m    \u001b[49m\u001b[38;5;241;43m*\u001b[39;49m\u001b[38;5;241;43m*\u001b[39;49m\u001b[43mkwargs\u001b[49m\u001b[43m,\u001b[49m\n\u001b[0;32m    577\u001b[0m \u001b[43m\u001b[49m\u001b[43m)\u001b[49m\n\u001b[0;32m    578\u001b[0m ds \u001b[38;5;241m=\u001b[39m _dataset_from_backend_dataset(\n\u001b[0;32m    579\u001b[0m     backend_ds,\n\u001b[0;32m    580\u001b[0m     filename_or_obj,\n\u001b[1;32m   (...)\u001b[0m\n\u001b[0;32m    590\u001b[0m     \u001b[38;5;241m*\u001b[39m\u001b[38;5;241m*\u001b[39mkwargs,\n\u001b[0;32m    591\u001b[0m )\n\u001b[0;32m    592\u001b[0m \u001b[38;5;28;01mreturn\u001b[39;00m ds\n",
      "File \u001b[1;32mk:\\Environments\\MyEnv16\\Lib\\site-packages\\xarray\\backends\\netCDF4_.py:644\u001b[0m, in \u001b[0;36mNetCDF4BackendEntrypoint.open_dataset\u001b[1;34m(self, filename_or_obj, mask_and_scale, decode_times, concat_characters, decode_coords, drop_variables, use_cftime, decode_timedelta, group, mode, format, clobber, diskless, persist, lock, autoclose)\u001b[0m\n\u001b[0;32m    623\u001b[0m \u001b[38;5;28;01mdef\u001b[39;00m \u001b[38;5;21mopen_dataset\u001b[39m(  \u001b[38;5;66;03m# type: ignore[override]  # allow LSP violation, not supporting **kwargs\u001b[39;00m\n\u001b[0;32m    624\u001b[0m     \u001b[38;5;28mself\u001b[39m,\n\u001b[0;32m    625\u001b[0m     filename_or_obj: \u001b[38;5;28mstr\u001b[39m \u001b[38;5;241m|\u001b[39m os\u001b[38;5;241m.\u001b[39mPathLike[Any] \u001b[38;5;241m|\u001b[39m BufferedIOBase \u001b[38;5;241m|\u001b[39m AbstractDataStore,\n\u001b[1;32m   (...)\u001b[0m\n\u001b[0;32m    641\u001b[0m     autoclose\u001b[38;5;241m=\u001b[39m\u001b[38;5;28;01mFalse\u001b[39;00m,\n\u001b[0;32m    642\u001b[0m ) \u001b[38;5;241m-\u001b[39m\u001b[38;5;241m>\u001b[39m Dataset:\n\u001b[0;32m    643\u001b[0m     filename_or_obj \u001b[38;5;241m=\u001b[39m _normalize_path(filename_or_obj)\n\u001b[1;32m--> 644\u001b[0m     store \u001b[38;5;241m=\u001b[39m \u001b[43mNetCDF4DataStore\u001b[49m\u001b[38;5;241;43m.\u001b[39;49m\u001b[43mopen\u001b[49m\u001b[43m(\u001b[49m\n\u001b[0;32m    645\u001b[0m \u001b[43m        \u001b[49m\u001b[43mfilename_or_obj\u001b[49m\u001b[43m,\u001b[49m\n\u001b[0;32m    646\u001b[0m \u001b[43m        \u001b[49m\u001b[43mmode\u001b[49m\u001b[38;5;241;43m=\u001b[39;49m\u001b[43mmode\u001b[49m\u001b[43m,\u001b[49m\n\u001b[0;32m    647\u001b[0m \u001b[43m        \u001b[49m\u001b[38;5;28;43mformat\u001b[39;49m\u001b[38;5;241;43m=\u001b[39;49m\u001b[38;5;28;43mformat\u001b[39;49m\u001b[43m,\u001b[49m\n\u001b[0;32m    648\u001b[0m \u001b[43m        \u001b[49m\u001b[43mgroup\u001b[49m\u001b[38;5;241;43m=\u001b[39;49m\u001b[43mgroup\u001b[49m\u001b[43m,\u001b[49m\n\u001b[0;32m    649\u001b[0m \u001b[43m        \u001b[49m\u001b[43mclobber\u001b[49m\u001b[38;5;241;43m=\u001b[39;49m\u001b[43mclobber\u001b[49m\u001b[43m,\u001b[49m\n\u001b[0;32m    650\u001b[0m \u001b[43m        \u001b[49m\u001b[43mdiskless\u001b[49m\u001b[38;5;241;43m=\u001b[39;49m\u001b[43mdiskless\u001b[49m\u001b[43m,\u001b[49m\n\u001b[0;32m    651\u001b[0m \u001b[43m        \u001b[49m\u001b[43mpersist\u001b[49m\u001b[38;5;241;43m=\u001b[39;49m\u001b[43mpersist\u001b[49m\u001b[43m,\u001b[49m\n\u001b[0;32m    652\u001b[0m \u001b[43m        \u001b[49m\u001b[43mlock\u001b[49m\u001b[38;5;241;43m=\u001b[39;49m\u001b[43mlock\u001b[49m\u001b[43m,\u001b[49m\n\u001b[0;32m    653\u001b[0m \u001b[43m        \u001b[49m\u001b[43mautoclose\u001b[49m\u001b[38;5;241;43m=\u001b[39;49m\u001b[43mautoclose\u001b[49m\u001b[43m,\u001b[49m\n\u001b[0;32m    654\u001b[0m \u001b[43m    \u001b[49m\u001b[43m)\u001b[49m\n\u001b[0;32m    656\u001b[0m     store_entrypoint \u001b[38;5;241m=\u001b[39m StoreBackendEntrypoint()\n\u001b[0;32m    657\u001b[0m     \u001b[38;5;28;01mwith\u001b[39;00m close_on_error(store):\n",
      "File \u001b[1;32mk:\\Environments\\MyEnv16\\Lib\\site-packages\\xarray\\backends\\netCDF4_.py:407\u001b[0m, in \u001b[0;36mNetCDF4DataStore.open\u001b[1;34m(cls, filename, mode, format, group, clobber, diskless, persist, lock, lock_maker, autoclose)\u001b[0m\n\u001b[0;32m    401\u001b[0m kwargs \u001b[38;5;241m=\u001b[39m \u001b[38;5;28mdict\u001b[39m(\n\u001b[0;32m    402\u001b[0m     clobber\u001b[38;5;241m=\u001b[39mclobber, diskless\u001b[38;5;241m=\u001b[39mdiskless, persist\u001b[38;5;241m=\u001b[39mpersist, \u001b[38;5;28mformat\u001b[39m\u001b[38;5;241m=\u001b[39m\u001b[38;5;28mformat\u001b[39m\n\u001b[0;32m    403\u001b[0m )\n\u001b[0;32m    404\u001b[0m manager \u001b[38;5;241m=\u001b[39m CachingFileManager(\n\u001b[0;32m    405\u001b[0m     netCDF4\u001b[38;5;241m.\u001b[39mDataset, filename, mode\u001b[38;5;241m=\u001b[39mmode, kwargs\u001b[38;5;241m=\u001b[39mkwargs\n\u001b[0;32m    406\u001b[0m )\n\u001b[1;32m--> 407\u001b[0m \u001b[38;5;28;01mreturn\u001b[39;00m \u001b[38;5;28;43mcls\u001b[39;49m\u001b[43m(\u001b[49m\u001b[43mmanager\u001b[49m\u001b[43m,\u001b[49m\u001b[43m \u001b[49m\u001b[43mgroup\u001b[49m\u001b[38;5;241;43m=\u001b[39;49m\u001b[43mgroup\u001b[49m\u001b[43m,\u001b[49m\u001b[43m \u001b[49m\u001b[43mmode\u001b[49m\u001b[38;5;241;43m=\u001b[39;49m\u001b[43mmode\u001b[49m\u001b[43m,\u001b[49m\u001b[43m \u001b[49m\u001b[43mlock\u001b[49m\u001b[38;5;241;43m=\u001b[39;49m\u001b[43mlock\u001b[49m\u001b[43m,\u001b[49m\u001b[43m \u001b[49m\u001b[43mautoclose\u001b[49m\u001b[38;5;241;43m=\u001b[39;49m\u001b[43mautoclose\u001b[49m\u001b[43m)\u001b[49m\n",
      "File \u001b[1;32mk:\\Environments\\MyEnv16\\Lib\\site-packages\\xarray\\backends\\netCDF4_.py:354\u001b[0m, in \u001b[0;36mNetCDF4DataStore.__init__\u001b[1;34m(self, manager, group, mode, lock, autoclose)\u001b[0m\n\u001b[0;32m    352\u001b[0m \u001b[38;5;28mself\u001b[39m\u001b[38;5;241m.\u001b[39m_group \u001b[38;5;241m=\u001b[39m group\n\u001b[0;32m    353\u001b[0m \u001b[38;5;28mself\u001b[39m\u001b[38;5;241m.\u001b[39m_mode \u001b[38;5;241m=\u001b[39m mode\n\u001b[1;32m--> 354\u001b[0m \u001b[38;5;28mself\u001b[39m\u001b[38;5;241m.\u001b[39mformat \u001b[38;5;241m=\u001b[39m \u001b[38;5;28;43mself\u001b[39;49m\u001b[38;5;241;43m.\u001b[39;49m\u001b[43mds\u001b[49m\u001b[38;5;241m.\u001b[39mdata_model\n\u001b[0;32m    355\u001b[0m \u001b[38;5;28mself\u001b[39m\u001b[38;5;241m.\u001b[39m_filename \u001b[38;5;241m=\u001b[39m \u001b[38;5;28mself\u001b[39m\u001b[38;5;241m.\u001b[39mds\u001b[38;5;241m.\u001b[39mfilepath()\n\u001b[0;32m    356\u001b[0m \u001b[38;5;28mself\u001b[39m\u001b[38;5;241m.\u001b[39mis_remote \u001b[38;5;241m=\u001b[39m is_remote_uri(\u001b[38;5;28mself\u001b[39m\u001b[38;5;241m.\u001b[39m_filename)\n",
      "File \u001b[1;32mk:\\Environments\\MyEnv16\\Lib\\site-packages\\xarray\\backends\\netCDF4_.py:416\u001b[0m, in \u001b[0;36mNetCDF4DataStore.ds\u001b[1;34m(self)\u001b[0m\n\u001b[0;32m    414\u001b[0m \u001b[38;5;129m@property\u001b[39m\n\u001b[0;32m    415\u001b[0m \u001b[38;5;28;01mdef\u001b[39;00m \u001b[38;5;21mds\u001b[39m(\u001b[38;5;28mself\u001b[39m):\n\u001b[1;32m--> 416\u001b[0m     \u001b[38;5;28;01mreturn\u001b[39;00m \u001b[38;5;28;43mself\u001b[39;49m\u001b[38;5;241;43m.\u001b[39;49m\u001b[43m_acquire\u001b[49m\u001b[43m(\u001b[49m\u001b[43m)\u001b[49m\n",
      "File \u001b[1;32mk:\\Environments\\MyEnv16\\Lib\\site-packages\\xarray\\backends\\netCDF4_.py:410\u001b[0m, in \u001b[0;36mNetCDF4DataStore._acquire\u001b[1;34m(self, needs_lock)\u001b[0m\n\u001b[0;32m    409\u001b[0m \u001b[38;5;28;01mdef\u001b[39;00m \u001b[38;5;21m_acquire\u001b[39m(\u001b[38;5;28mself\u001b[39m, needs_lock\u001b[38;5;241m=\u001b[39m\u001b[38;5;28;01mTrue\u001b[39;00m):\n\u001b[1;32m--> 410\u001b[0m \u001b[43m    \u001b[49m\u001b[38;5;28;43;01mwith\u001b[39;49;00m\u001b[43m \u001b[49m\u001b[38;5;28;43mself\u001b[39;49m\u001b[38;5;241;43m.\u001b[39;49m\u001b[43m_manager\u001b[49m\u001b[38;5;241;43m.\u001b[39;49m\u001b[43macquire_context\u001b[49m\u001b[43m(\u001b[49m\u001b[43mneeds_lock\u001b[49m\u001b[43m)\u001b[49m\u001b[43m \u001b[49m\u001b[38;5;28;43;01mas\u001b[39;49;00m\u001b[43m \u001b[49m\u001b[43mroot\u001b[49m\u001b[43m:\u001b[49m\n\u001b[0;32m    411\u001b[0m \u001b[43m        \u001b[49m\u001b[43mds\u001b[49m\u001b[43m \u001b[49m\u001b[38;5;241;43m=\u001b[39;49m\u001b[43m \u001b[49m\u001b[43m_nc4_require_group\u001b[49m\u001b[43m(\u001b[49m\u001b[43mroot\u001b[49m\u001b[43m,\u001b[49m\u001b[43m \u001b[49m\u001b[38;5;28;43mself\u001b[39;49m\u001b[38;5;241;43m.\u001b[39;49m\u001b[43m_group\u001b[49m\u001b[43m,\u001b[49m\u001b[43m \u001b[49m\u001b[38;5;28;43mself\u001b[39;49m\u001b[38;5;241;43m.\u001b[39;49m\u001b[43m_mode\u001b[49m\u001b[43m)\u001b[49m\n\u001b[0;32m    412\u001b[0m     \u001b[38;5;28;01mreturn\u001b[39;00m ds\n",
      "File \u001b[1;32mk:\\Environments\\MyEnv16\\Lib\\contextlib.py:137\u001b[0m, in \u001b[0;36m_GeneratorContextManager.__enter__\u001b[1;34m(self)\u001b[0m\n\u001b[0;32m    135\u001b[0m \u001b[38;5;28;01mdel\u001b[39;00m \u001b[38;5;28mself\u001b[39m\u001b[38;5;241m.\u001b[39margs, \u001b[38;5;28mself\u001b[39m\u001b[38;5;241m.\u001b[39mkwds, \u001b[38;5;28mself\u001b[39m\u001b[38;5;241m.\u001b[39mfunc\n\u001b[0;32m    136\u001b[0m \u001b[38;5;28;01mtry\u001b[39;00m:\n\u001b[1;32m--> 137\u001b[0m     \u001b[38;5;28;01mreturn\u001b[39;00m \u001b[38;5;28;43mnext\u001b[39;49m\u001b[43m(\u001b[49m\u001b[38;5;28;43mself\u001b[39;49m\u001b[38;5;241;43m.\u001b[39;49m\u001b[43mgen\u001b[49m\u001b[43m)\u001b[49m\n\u001b[0;32m    138\u001b[0m \u001b[38;5;28;01mexcept\u001b[39;00m \u001b[38;5;167;01mStopIteration\u001b[39;00m:\n\u001b[0;32m    139\u001b[0m     \u001b[38;5;28;01mraise\u001b[39;00m \u001b[38;5;167;01mRuntimeError\u001b[39;00m(\u001b[38;5;124m\"\u001b[39m\u001b[38;5;124mgenerator didn\u001b[39m\u001b[38;5;124m'\u001b[39m\u001b[38;5;124mt yield\u001b[39m\u001b[38;5;124m\"\u001b[39m) \u001b[38;5;28;01mfrom\u001b[39;00m \u001b[38;5;28;01mNone\u001b[39;00m\n",
      "File \u001b[1;32mk:\\Environments\\MyEnv16\\Lib\\site-packages\\xarray\\backends\\file_manager.py:199\u001b[0m, in \u001b[0;36mCachingFileManager.acquire_context\u001b[1;34m(self, needs_lock)\u001b[0m\n\u001b[0;32m    196\u001b[0m \u001b[38;5;129m@contextlib\u001b[39m\u001b[38;5;241m.\u001b[39mcontextmanager\n\u001b[0;32m    197\u001b[0m \u001b[38;5;28;01mdef\u001b[39;00m \u001b[38;5;21macquire_context\u001b[39m(\u001b[38;5;28mself\u001b[39m, needs_lock\u001b[38;5;241m=\u001b[39m\u001b[38;5;28;01mTrue\u001b[39;00m):\n\u001b[0;32m    198\u001b[0m \u001b[38;5;250m    \u001b[39m\u001b[38;5;124;03m\"\"\"Context manager for acquiring a file.\"\"\"\u001b[39;00m\n\u001b[1;32m--> 199\u001b[0m     file, cached \u001b[38;5;241m=\u001b[39m \u001b[38;5;28;43mself\u001b[39;49m\u001b[38;5;241;43m.\u001b[39;49m\u001b[43m_acquire_with_cache_info\u001b[49m\u001b[43m(\u001b[49m\u001b[43mneeds_lock\u001b[49m\u001b[43m)\u001b[49m\n\u001b[0;32m    200\u001b[0m     \u001b[38;5;28;01mtry\u001b[39;00m:\n\u001b[0;32m    201\u001b[0m         \u001b[38;5;28;01myield\u001b[39;00m file\n",
      "File \u001b[1;32mk:\\Environments\\MyEnv16\\Lib\\site-packages\\xarray\\backends\\file_manager.py:217\u001b[0m, in \u001b[0;36mCachingFileManager._acquire_with_cache_info\u001b[1;34m(self, needs_lock)\u001b[0m\n\u001b[0;32m    215\u001b[0m     kwargs \u001b[38;5;241m=\u001b[39m kwargs\u001b[38;5;241m.\u001b[39mcopy()\n\u001b[0;32m    216\u001b[0m     kwargs[\u001b[38;5;124m\"\u001b[39m\u001b[38;5;124mmode\u001b[39m\u001b[38;5;124m\"\u001b[39m] \u001b[38;5;241m=\u001b[39m \u001b[38;5;28mself\u001b[39m\u001b[38;5;241m.\u001b[39m_mode\n\u001b[1;32m--> 217\u001b[0m file \u001b[38;5;241m=\u001b[39m \u001b[38;5;28;43mself\u001b[39;49m\u001b[38;5;241;43m.\u001b[39;49m\u001b[43m_opener\u001b[49m\u001b[43m(\u001b[49m\u001b[38;5;241;43m*\u001b[39;49m\u001b[38;5;28;43mself\u001b[39;49m\u001b[38;5;241;43m.\u001b[39;49m\u001b[43m_args\u001b[49m\u001b[43m,\u001b[49m\u001b[43m \u001b[49m\u001b[38;5;241;43m*\u001b[39;49m\u001b[38;5;241;43m*\u001b[39;49m\u001b[43mkwargs\u001b[49m\u001b[43m)\u001b[49m\n\u001b[0;32m    218\u001b[0m \u001b[38;5;28;01mif\u001b[39;00m \u001b[38;5;28mself\u001b[39m\u001b[38;5;241m.\u001b[39m_mode \u001b[38;5;241m==\u001b[39m \u001b[38;5;124m\"\u001b[39m\u001b[38;5;124mw\u001b[39m\u001b[38;5;124m\"\u001b[39m:\n\u001b[0;32m    219\u001b[0m     \u001b[38;5;66;03m# ensure file doesn't get overridden when opened again\u001b[39;00m\n\u001b[0;32m    220\u001b[0m     \u001b[38;5;28mself\u001b[39m\u001b[38;5;241m.\u001b[39m_mode \u001b[38;5;241m=\u001b[39m \u001b[38;5;124m\"\u001b[39m\u001b[38;5;124ma\u001b[39m\u001b[38;5;124m\"\u001b[39m\n",
      "File \u001b[1;32msrc\\\\netCDF4\\\\_netCDF4.pyx:2469\u001b[0m, in \u001b[0;36mnetCDF4._netCDF4.Dataset.__init__\u001b[1;34m()\u001b[0m\n",
      "File \u001b[1;32msrc\\\\netCDF4\\\\_netCDF4.pyx:2028\u001b[0m, in \u001b[0;36mnetCDF4._netCDF4._ensure_nc_success\u001b[1;34m()\u001b[0m\n",
      "\u001b[1;31mFileNotFoundError\u001b[0m: [Errno 2] No such file or directory: 'K:\\\\ECEMF\\\\T5.2\\\\PBL\\\\xr_alloc_2030.nc'"
     ]
    }
   ],
   "source": [
    "xr_2030 = xr.open_dataset(\"K:/ECEMF/T5.2/PBL/xr_alloc_2030.nc\").load()\n",
    "xr_2040 = xr.open_dataset(\"K:/ECEMF/T5.2/PBL/xr_alloc_2040.nc\").load()\n",
    "xr_dataread = xr.open_dataset(\"K:/ECEMF/T5.2/PBL/xr_dataread.nc\").load()\n",
    "xr_nld = xr.open_dataset(\"K:/ECEMF/T5.2/Allocations/PBL/xr_alloc_NLD.nc\").load()\n",
    "xr_usa = xr.open_dataset(\"K:/ECEMF/T5.2/Allocations/PBL/xr_alloc_USA.nc\").load()\n",
    "xr_engage = xr.open_dataset(\"K:/ECEMF/T5.2/PBL/xr_policyscen.nc\").load()\n",
    "xr_engage_co2 = xr.open_dataset(\"K:/ECEMF/T5.2/PBL/xr_policyscen_co2.nc\").load()"
   ]
  },
  {
   "cell_type": "code",
   "execution_count": null,
   "metadata": {},
   "outputs": [],
   "source": [
    "rules = ['GF', 'PC', 'PCC', 'AP', 'ECPC', 'GDR']"
   ]
  },
  {
   "cell_type": "markdown",
   "metadata": {},
   "source": [
    "## Exports"
   ]
  },
  {
   "cell_type": "code",
   "execution_count": null,
   "metadata": {},
   "outputs": [],
   "source": [
    "standard_settings = {}\n",
    "median_settings = {\"NonCO2red\": 0.5, \"Convergence_year\": 2050, \"Discount_factor\": 0, \"Historical_startyear\": 1990, \"Capability_threshold\": 'Th', \"RCI_weight\": \"Half\", \"Scenario\": \"SSP2\"}"
   ]
  },
  {
   "cell_type": "markdown",
   "metadata": {},
   "source": [
    "#### Schema 1 (general infographic)"
   ]
  },
  {
   "cell_type": "code",
   "execution_count": null,
   "metadata": {},
   "outputs": [],
   "source": [
    "emis_1990 = float(xr_dataread.GHG_hist.sel(Region='NLD', Time=1990))\n",
    "dict_schema_1_h = {}\n",
    "list_var = list(np.array(xr_dataread.GHG_hist.sel(Region='NLD', Time=np.arange(1990, 2021.5))))\n",
    "list_time = list(np.arange(1990, 2021.5))\n",
    "dict_schema_1_h['Time'] = list_time\n",
    "dict_schema_1_h['GHG_historical'] = list_var\n",
    "dict_schema_1_h['Red_wrt_1990'] = (emis_1990-np.array(list_var))/emis_1990\n",
    "\n",
    "df_schema_1_h = pd.DataFrame(dict_schema_1_h)\n",
    "df_schema_1_h.to_excel(\"K:/ECEMF/T5.2/Exports_for_figures/data_sch1_hist.xlsx\", index=False)"
   ]
  },
  {
   "cell_type": "code",
   "execution_count": null,
   "metadata": {},
   "outputs": [],
   "source": [
    "emis_2021 = float(xr_dataread.GHG_hist.sel(Region='NLD', Time=2021))\n",
    "emis_2030_high = 123\n",
    "emis_2030_low = 97\n",
    "time = np.arange(2021, 2031)\n",
    "interp_high = np.interp(time, [2021, 2030], [emis_2021, emis_2030_high])\n",
    "interp_low = np.interp(time, [2021, 2030], [emis_2021, emis_2030_low])"
   ]
  },
  {
   "cell_type": "code",
   "execution_count": null,
   "metadata": {},
   "outputs": [],
   "source": [
    "dict_schema_1_kev = {}\n",
    "list_time = list(np.arange(2021, 2031))\n",
    "dict_schema_1_kev['Time'] = list_time\n",
    "dict_schema_1_kev['GHG_kev_high'] = interp_high\n",
    "dict_schema_1_kev['GHG_kev_low'] = interp_low\n",
    "\n",
    "dict_schema_1_kev['GHG_kev_high_red_wrt_1990'] = (emis_1990-interp_high)/emis_1990\n",
    "dict_schema_1_kev['GHG_kev_low_red_wrt_1990'] = (emis_1990-interp_low)/emis_1990\n",
    "\n",
    "df_schema_1_kev = pd.DataFrame(dict_schema_1_kev)\n",
    "df_schema_1_kev.to_excel(\"K:/ECEMF/T5.2/Exports_for_figures/data_sch1_kev.xlsx\", index=False)"
   ]
  },
  {
   "cell_type": "code",
   "execution_count": null,
   "metadata": {},
   "outputs": [],
   "source": [
    "dict_schema_1_effortsharing = {}\n",
    "dict_schema_1_effortsharing['Fairness_15_GHG'] = np.array(xr_nld.sel(Temperature=1.56, Time=2040, Timing='Immediate', NegEmis=0.3, Risk=0.5, **median_settings)[rules].to_array())\n",
    "dict_schema_1_effortsharing['Fairness_20_GHG'] = np.array(xr_nld.sel(Time=2040, Temperature=2.0, Timing='Immediate', Risk=0.33, NegEmis=0.6, **median_settings)[rules].to_array())\n",
    "dict_schema_1_effortsharing['Fairness_15_red_1990'] = (emis_1990-np.array(xr_nld.sel(Time=2040, Temperature=1.56, Timing='Immediate', NegEmis=0.3, Risk=0.33, **median_settings)[rules].to_array()))/emis_1990\n",
    "dict_schema_1_effortsharing['Fairness_20_red_1990'] = (emis_1990-np.array(xr_nld.sel(Time=2040, Temperature=2, Timing='Immediate', Risk=0.33, NegEmis=0.6, **median_settings)[rules].to_array()))/emis_1990\n",
    "dict_schema_1_effortsharing['Allocation'] = rules\n",
    "\n",
    "df_schema_1_effortsharing = pd.DataFrame(dict_schema_1_effortsharing)\n",
    "df_schema_1_effortsharing.to_excel(\"K:/ECEMF/T5.2/Exports_for_figures/data_sch1_es.xlsx\", index=False)"
   ]
  },
  {
   "cell_type": "markdown",
   "metadata": {},
   "source": [
    "#### Schema 2 (outline of report)"
   ]
  },
  {
   "cell_type": "code",
   "execution_count": null,
   "metadata": {},
   "outputs": [],
   "source": [
    "emis_1990 = float(xr_dataread.GHG_hist.sel(Region='EARTH', Time=1990))\n",
    "dict_schema_2_h = {}\n",
    "list_var = list(np.array(xr_dataread.GHG_hist.sel(Region='EARTH', Time=np.arange(1990, 2021.5))))\n",
    "list_time = list(np.arange(1990, 2021.5))\n",
    "\n",
    "dict_schema_2_h['Time'] = list_time\n",
    "dict_schema_2_h['GHG_historical_globe'] = list_var\n",
    "\n",
    "df_schema_2_h = pd.DataFrame(dict_schema_2_h)\n",
    "df_schema_2_h.to_excel(\"K:/ECEMF/T5.2/Exports_for_figures/data_sch2_hist.xlsx\", index=False)"
   ]
  },
  {
   "cell_type": "code",
   "execution_count": null,
   "metadata": {},
   "outputs": [],
   "source": [
    "emis_1990 = float(xr_dataread.GHG_hist.sel(Region='EARTH', Time=1990))\n",
    "dict_schema_2_h = {}\n",
    "list_time = list(np.arange(2021, 2101))\n",
    "list_var_15 = list(np.array(xr_dataread.GHG_globe.sel(NegEmis=0.4, NonCO2red=0.5, Temperature=1.5, Risk=0.5, Timing='Immediate', Time=np.arange(2021, 2101))))\n",
    "list_var_20 = list(np.array(xr_dataread.GHG_globe.sel(NegEmis=0.4, NonCO2red=0.5, Temperature=2.0, Risk=0.5, Timing='Immediate', Time=np.arange(2021, 2101))))\n",
    "list_var_23 = list(np.array(xr_dataread.GHG_globe.sel(NegEmis=0.4, NonCO2red=0.5, Temperature=2.3, Risk=0.5, Timing='Immediate', Time=np.arange(2021, 2101))))\n",
    "\n",
    "dict_schema_2_h['Time'] = list_time\n",
    "dict_schema_2_h['GHG_projection_15'] = list_var_15\n",
    "dict_schema_2_h['GHG_projection_20'] = list_var_20\n",
    "dict_schema_2_h['GHG_projection_23'] = list_var_23\n",
    "\n",
    "df_schema_2_h = pd.DataFrame(dict_schema_2_h)\n",
    "df_schema_2_h.to_excel(\"K:/ECEMF/T5.2/Exports_for_figures/data_sch2_proj.xlsx\", index=False)"
   ]
  },
  {
   "cell_type": "markdown",
   "metadata": {},
   "source": [
    "#### Figure 2.2 (global pathways)"
   ]
  },
  {
   "cell_type": "code",
   "execution_count": null,
   "metadata": {},
   "outputs": [],
   "source": [
    "emis_1990 = float(xr_dataread.GHG_hist.sel(Region='EARTH', Time=1990))\n",
    "dict_schema_2_h = {}\n",
    "list_time = list(np.arange(2021, 2101))\n",
    "list_ghg_15 = list(np.array(xr_dataread.GHG_globe.sel(NegEmis=0.3, NonCO2red=0.5, Temperature=1.56, Risk=0.5, Timing='Immediate', Time=np.arange(2021, 2101))))\n",
    "list_ghg_20 = list(np.array(xr_dataread.GHG_globe.sel(NegEmis=0.6, NonCO2red=0.5, Temperature=2.0, Risk=0.33, Timing='Immediate', Time=np.arange(2021, 2101))))\n",
    "list_co2_15 = list(np.array(xr_dataread.CO2_globe.sel(NegEmis=0.3, NonCO2red=0.5, Temperature=1.56, Risk=0.5, Timing='Immediate', Time=np.arange(2021, 2101))))\n",
    "list_co2_20 = list(np.array(xr_dataread.CO2_globe.sel(NegEmis=0.6, NonCO2red=0.5, Temperature=2.0, Risk=0.33, Timing='Immediate', Time=np.arange(2021, 2101))))\n",
    "\n",
    "dict_schema_2_h['Time'] = list_time\n",
    "\n",
    "dict_schema_2_h['GHG_15_low'] = list(np.array(xr_dataread.GHG_globe.sel(Temperature=1.56, Risk=0.5, NegEmis=[0.2, 0.3, 0.4], Time=np.arange(2021, 2101)).min(dim=['NonCO2red', 'Timing', 'NegEmis'])))\n",
    "dict_schema_2_h['GHG_15_med'] = list_ghg_15\n",
    "dict_schema_2_h['GHG_15_high'] = list(np.array(xr_dataread.GHG_globe.sel(Temperature=1.56, Risk=0.5, NegEmis=[0.2, 0.3, 0.4], Time=np.arange(2021, 2101)).max(dim=['NonCO2red', 'Timing', 'NegEmis'])))\n",
    "dict_schema_2_h['CO2_15_low'] = list(np.array(xr_dataread.CO2_globe.sel(Temperature=1.56, Risk=0.5, NegEmis=[0.2, 0.3, 0.4], Time=np.arange(2021, 2101)).min(dim=['NonCO2red', 'Timing', 'NegEmis'])))\n",
    "dict_schema_2_h['CO2_15_med'] = list_co2_15\n",
    "dict_schema_2_h['CO2_15_high'] = list(np.array(xr_dataread.CO2_globe.sel(Temperature=1.56, Risk=0.5, NegEmis=[0.2, 0.3, 0.4], Time=np.arange(2021, 2101)).max(dim=['NonCO2red', 'Timing', 'NegEmis'])))\n",
    "\n",
    "dict_schema_2_h['GHG_20_low'] = list(np.array(xr_dataread.GHG_globe.sel(Temperature=2.0, Risk=0.33, NegEmis=[0.5, 0.6, 0.7], Time=np.arange(2021, 2101)).min(dim=['NonCO2red', 'Timing', 'NegEmis'])))\n",
    "dict_schema_2_h['GHG_20_med'] = list_ghg_20\n",
    "dict_schema_2_h['GHG_20_high'] = list(np.array(xr_dataread.GHG_globe.sel(Temperature=2, Risk=0.33, NegEmis=[0.5, 0.6, 0.7], Time=np.arange(2021, 2101)).max(dim=['NonCO2red', 'Timing', 'NegEmis'])))\n",
    "dict_schema_2_h['CO2_20_low'] = list(np.array(xr_dataread.CO2_globe.sel(Temperature=2, Risk=0.33, NegEmis=[0.5, 0.6, 0.7], Time=np.arange(2021, 2101)).min(dim=['NonCO2red', 'Timing', 'NegEmis'])))\n",
    "dict_schema_2_h['CO2_20_med'] = list_co2_20\n",
    "dict_schema_2_h['CO2_20_high'] = list(np.array(xr_dataread.CO2_globe.sel(Temperature=2, Risk=0.33, NegEmis=[0.5, 0.6, 0.7], Time=np.arange(2021, 2101)).max(dim=['NonCO2red', 'Timing', 'NegEmis'])))\n",
    "\n",
    "df_schema_2_h = pd.DataFrame(dict_schema_2_h)\n",
    "df_schema_2_h.to_excel(\"K:/ECEMF/T5.2/Exports_for_figures/data_fig_2_2.xlsx\", index=False)"
   ]
  },
  {
   "cell_type": "code",
   "execution_count": null,
   "metadata": {},
   "outputs": [],
   "source": [
    "xr_use = xr_engage.CurPol.sel(Region='EARTH')\n",
    "xr_use_co2 = xr_engage_co2.CurPol.sel(Region='EARTH')\n",
    "\n",
    "dict_eng = {}\n",
    "dict_eng['Time'] = np.array(xr_use.Time)\n",
    "dict_eng['Mean_GHG'] = np.array(xr_use.mean(dim='Model'))\n",
    "dict_eng['Max_GHG'] = np.array(xr_use.max(dim='Model'))\n",
    "dict_eng['Min_GHG'] = np.array(xr_use.min(dim='Model'))\n",
    "dict_eng['Mean_CO2'] = np.array(xr_use_co2.mean(dim='Model'))\n",
    "dict_eng['Max_CO2'] = np.array(xr_use_co2.max(dim='Model'))\n",
    "dict_eng['Min_CO2'] = np.array(xr_use_co2.min(dim='Model'))\n",
    "df_global_pathways = pd.DataFrame(dict_eng)\n",
    "df_global_pathways.to_excel(\"K:/ECEMF/T5.2/Exports_for_figures/data_fig_2_2_curpol.xlsx\", index=False)"
   ]
  },
  {
   "cell_type": "code",
   "execution_count": null,
   "metadata": {},
   "outputs": [],
   "source": [
    "xr_use = xr_dataread.GHG_hist.sel(Region='EARTH')\n",
    "xr_use_co2 = xr_dataread.CO2_hist.sel(Region='EARTH')\n",
    "\n",
    "dict_eng = {}\n",
    "dict_eng['Time'] = np.array(xr_use.Time)\n",
    "dict_eng['GHG_hist'] = np.array(xr_use)\n",
    "dict_eng['CO2_hist'] = np.array(xr_use_co2)\n",
    "df_global_pathways = pd.DataFrame(dict_eng)\n",
    "df_global_pathways.to_excel(\"K:/ECEMF/T5.2/Exports_for_figures/data_fig_2_2_hist.xlsx\", index=False)"
   ]
  },
  {
   "cell_type": "markdown",
   "metadata": {},
   "source": [
    "#### Figure 4.1 (Netherlands zoom)"
   ]
  },
  {
   "cell_type": "code",
   "execution_count": null,
   "metadata": {},
   "outputs": [],
   "source": [
    "dict_fig_4_1 = {}\n",
    "list_rule = []\n",
    "list_med = []\n",
    "list_min = []\n",
    "list_max = []\n",
    "list_med2 = []\n",
    "list_min2 = []\n",
    "list_max2 = []\n",
    "list_time = []\n",
    "for rule_i, rule in enumerate(rules):\n",
    "    val_med = np.array(xr_nld.sel(Temperature=1.56, Risk=0.5, NegEmis=0.3, Timing='Immediate', **median_settings, **standard_settings)[rule])\n",
    "    val_min = np.array(xr_nld.sel(Temperature=1.56, Risk=0.5, NegEmis=0.3, **standard_settings).min(dim=median_settings.keys()).min(dim='Timing')[rule])\n",
    "    val_max = np.array(xr_nld.sel(Temperature=1.56, Risk=0.5, NegEmis=0.3, **standard_settings).max(dim=median_settings.keys()).max(dim='Timing')[rule])\n",
    "    val_med2 = np.array(xr_nld.sel(Temperature=2, Risk=0.33, NegEmis=0.6, Timing='Immediate', **median_settings, **standard_settings)[rule])\n",
    "    val_min2 = np.array(xr_nld.sel(Temperature=2, Risk=0.33, NegEmis=0.6, **standard_settings).min(dim=median_settings.keys()).min(dim='Timing')[rule])\n",
    "    val_max2 = np.array(xr_nld.sel(Temperature=2, Risk=0.33, NegEmis=0.6, **standard_settings).max(dim=median_settings.keys()).max(dim='Timing')[rule])\n",
    "    list_rule += [rule]*len(val_med)\n",
    "    list_med += list(val_med)\n",
    "    list_max += list(val_max)\n",
    "    list_min += list(val_min)\n",
    "    list_med2 += list(val_med2)\n",
    "    list_max2 += list(val_max2)\n",
    "    list_min2 += list(val_min2)\n",
    "    list_time += list(np.array(xr_nld.Time))\n",
    "dict_fig_4_1['Rule'] = list_rule\n",
    "dict_fig_4_1['Median_15'] = list_med\n",
    "dict_fig_4_1['Minimum_15'] = list_min\n",
    "dict_fig_4_1['Maximum_15'] = list_max\n",
    "dict_fig_4_1['Median_20'] = list_med2\n",
    "dict_fig_4_1['Minimum_20'] = list_min2\n",
    "dict_fig_4_1['Maximum_20'] = list_max2\n",
    "dict_fig_4_1['Time'] = list_time\n",
    "\n",
    "df_fig_4_1 = pd.DataFrame(dict_fig_4_1)\n",
    "df_fig_4_1.to_excel(\"K:/ECEMF/T5.2/Exports_for_figures/data_fig_4_1.xlsx\", index=False)"
   ]
  },
  {
   "cell_type": "markdown",
   "metadata": {},
   "source": [
    "#### Figure 4.2 (temperature levels on horizontal)"
   ]
  },
  {
   "cell_type": "markdown",
   "metadata": {},
   "source": [
    "(The diagonal is used to obtain specific values of NegEmis per temperature level)"
   ]
  },
  {
   "cell_type": "code",
   "execution_count": null,
   "metadata": {},
   "outputs": [],
   "source": [
    "emis_1990 = float(xr_dataread.GHG_hist.sel(Region='NLD', Time=1990))\n",
    "\n",
    "dict_fig_4_2 = {}\n",
    "list_rule = []\n",
    "list_med = []\n",
    "list_min = []\n",
    "list_max = []\n",
    "list_temp = []\n",
    "for rule_i, rule in enumerate(rules):\n",
    "    val_med = -(np.diag(xr_nld.sel(Time=2040, Risk=0.5, Timing='Immediate', NegEmis=[0.3, 0.3, 0.4, 0.4, 0.5, 0.6, 0.6, 0.6, 0.6, 0.6, 0.6], **median_settings, **standard_settings)[rule])-emis_1990)/emis_1990  # This of course means that the 2.0 deg does not fully fit the other figures!\n",
    "    val_min = -(np.diag(xr_nld.sel(Time=2040, Risk=0.5, NonCO2red=[0.33, 0.5, 0.67], **standard_settings).min(dim=median_settings.keys())[rule].min(dim='Timing').sel(NegEmis=[0.3, 0.3, 0.4, 0.4, 0.5, 0.6, 0.6, 0.6, 0.6, 0.6, 0.6]))-emis_1990)/emis_1990\n",
    "    val_max = -(np.diag(xr_nld.sel(Time=2040, Risk=0.5, NonCO2red=[0.33, 0.5, 0.67], **standard_settings).max(dim=median_settings.keys())[rule].max(dim='Timing').sel(NegEmis=[0.3, 0.3, 0.4, 0.4, 0.5, 0.6, 0.6, 0.6, 0.6, 0.6, 0.6]))-emis_1990)/emis_1990\n",
    "    list_rule += [rule]*len(val_med)\n",
    "    list_med += list(val_med)\n",
    "    list_max += list(val_max)\n",
    "    list_min += list(val_min)\n",
    "    list_temp += list(np.array(xr_nld.Temperature))\n",
    "dict_fig_4_2['Rule'] = list_rule\n",
    "dict_fig_4_2['Median'] = list_med\n",
    "dict_fig_4_2['Minimum'] = list_min\n",
    "dict_fig_4_2['Maximum'] = list_max\n",
    "dict_fig_4_2['Temperature'] = list_temp\n",
    "\n",
    "df_fig_4_2 = pd.DataFrame(dict_fig_4_2)\n",
    "df_fig_4_2.to_excel(\"K:/ECEMF/T5.2/Exports_for_figures/data_fig_4_2.xlsx\", index=False)"
   ]
  },
  {
   "cell_type": "markdown",
   "metadata": {},
   "source": [
    "#### Figure 4.3 (global scale)"
   ]
  },
  {
   "cell_type": "code",
   "execution_count": null,
   "metadata": {},
   "outputs": [],
   "source": [
    "emis_2021_all = xr_dataread.GHG_hist.sel(Time=2021)\n",
    "emis_1990_all = xr_dataread.GHG_hist.sel(Time=1990)\n",
    "\n",
    "red_2040_2021 = (-(xr_2040-emis_2021_all)/emis_2021_all).sel(Temperature=1.56, Risk=0.5, NegEmis=0.3, **standard_settings)\n",
    "red_2021_1990 = (-(emis_2021_all-emis_2021_all)/emis_2021_all)\n",
    "median_settings = {\"NonCO2red\": 0.5, \"Convergence_year\": 2050, \"Discount_factor\": 0, \"Historical_startyear\": 1990, \"Capability_threshold\": 'Th', \"RCI_weight\": \"Half\", \"Scenario\": \"SSP2\", \"Timing\": 'Immediate'}"
   ]
  },
  {
   "cell_type": "code",
   "execution_count": null,
   "metadata": {},
   "outputs": [],
   "source": [
    "dict_fig_4_3 = {}\n",
    "list_rule = []\n",
    "list_med = []\n",
    "list_min = []\n",
    "list_max = []\n",
    "list_region = []\n",
    "for rule_i, rule in enumerate(rules):\n",
    "    val_med = np.array(red_2040_2021.sel(**median_settings)[rule])\n",
    "    val_min = np.array(red_2040_2021.min(dim=median_settings.keys())[rule])\n",
    "    val_max = np.array(red_2040_2021.max(dim=median_settings.keys())[rule])\n",
    "    list_rule += [rule]*len(val_med)\n",
    "    list_med += list(val_med)\n",
    "    list_max += list(val_max)\n",
    "    list_min += list(val_min)\n",
    "    list_region += list(np.array(red_2040_2021.Region))\n",
    "dict_fig_4_3['Rule'] = list_rule\n",
    "dict_fig_4_3['Median'] = list_med\n",
    "dict_fig_4_3['Minimum'] = list_min\n",
    "dict_fig_4_3['Maximum'] = list_max\n",
    "dict_fig_4_3['Region'] = list_region\n",
    "\n",
    "df_fig_4_3 = pd.DataFrame(dict_fig_4_3)\n",
    "df_fig_4_3.to_excel(\"K:/ECEMF/T5.2/Exports_for_figures/data_fig_4_3_2040red.xlsx\", index=False)"
   ]
  },
  {
   "cell_type": "code",
   "execution_count": null,
   "metadata": {},
   "outputs": [],
   "source": [
    "dict_fig_4_3 = {}\n",
    "list_rule = []\n",
    "list_med = []\n",
    "list_region = []\n",
    "val_med = np.array(red_2021_1990)\n",
    "list_med += list(val_med)\n",
    "list_region += list(np.array(red_2040_2021.Region))\n",
    "dict_fig_4_3['GHG_wrt_1990'] = list_med\n",
    "dict_fig_4_3['Region'] = list_region\n",
    "\n",
    "df_fig_4_3 = pd.DataFrame(dict_fig_4_3)\n",
    "df_fig_4_3.to_excel(\"K:/ECEMF/T5.2/Exports_for_figures/data_fig_4_3_2021red.xlsx\", index=False)"
   ]
  },
  {
   "cell_type": "code",
   "execution_count": null,
   "metadata": {},
   "outputs": [],
   "source": []
  }
 ],
 "metadata": {
  "kernelspec": {
   "display_name": "Python 3",
   "language": "python",
   "name": "python3"
  },
  "language_info": {
   "codemirror_mode": {
    "name": "ipython",
    "version": 3
   },
   "file_extension": ".py",
   "mimetype": "text/x-python",
   "name": "python",
   "nbconvert_exporter": "python",
   "pygments_lexer": "ipython3",
   "version": "3.12.1"
  }
 },
 "nbformat": 4,
 "nbformat_minor": 2
}
