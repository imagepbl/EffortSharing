{
 "cells": [
  {
   "cell_type": "markdown",
   "metadata": {},
   "source": [
    "## Comparison"
   ]
  },
  {
   "cell_type": "markdown",
   "metadata": {},
   "source": [
    "#### Preambule"
   ]
  },
  {
   "cell_type": "code",
   "execution_count": 1,
   "metadata": {},
   "outputs": [],
   "source": [
    "import numpy as np\n",
    "import pandas as pd\n",
    "import xarray as xr\n",
    "import matplotlib.pyplot as plt\n",
    "from pathlib import Path"
   ]
  },
  {
   "cell_type": "markdown",
   "metadata": {},
   "source": [
    "#### Data reading"
   ]
  },
  {
   "cell_type": "code",
   "execution_count": 2,
   "metadata": {},
   "outputs": [],
   "source": [
    "xr_dataread = xr.open_dataset(\"K:/ECEMF/T5.2/xr_dataread.nc\")\n",
    "xr_2030 = xr.open_dataset(\"K:/ECEMF/T5.2/xr_alloc_2030.nc\")"
   ]
  },
  {
   "cell_type": "code",
   "execution_count": 3,
   "metadata": {},
   "outputs": [],
   "source": [
    "df_berg = pd.read_excel(Path(\"X:/user/dekkerm/Data/\") / \"Berg_paper\" / \"Berg2019_data.xlsx\", sheet_name = \"Emission pathways\")\n",
    "df_berg2 = df_berg[(df_berg.Scenario == 'Gt400') & (df_berg.Category == 'Emissions|Kyoto Gases')].drop(columns=['Scenario', 'Fixed variable', 'Category', 'Unnamed: 10',  'Unnamed: 12', 'Region #'])\n",
    "df_berg2 = df_berg2.rename({'Sensitivity case': \"Parameters\", 'Year': 'Time'}, axis=1)\n",
    "approaches = np.array(df_berg2.Approach)\n",
    "approaches[approaches == 'IEPC'] = 'PC'\n",
    "df_berg2['Approach'] = approaches\n",
    "df_berg2 = df_berg2.melt(id_vars=[\"Approach\", \"Region\", \"Parameters\", \"Time\"], var_name=\"Range\", value_name=\"Value\")\n",
    "df_berg2 = df_berg2.set_index(['Approach', \"Region\", \"Parameters\", \"Range\", \"Time\"])\n",
    "xr_berg = df_berg2.to_xarray()"
   ]
  },
  {
   "cell_type": "code",
   "execution_count": 4,
   "metadata": {},
   "outputs": [],
   "source": [
    "df_rob = pd.read_excel(Path(\"X:/user/dekkerm/Data/\") / \"Robiou_paper\" / \"Robiou2016_15data.xlsx\", sheet_name = \"1.5°C National allocations\")\n",
    "df_rob2 = df_rob.drop(columns=['Country names', 'INDC Low assessment', 'INDC average assessment', 'INDC High assessment', 2025, '2025.1', '2030.1', 2040, '2040.1', 2050, '2050.1', 'Peaking year', 'First net-zero allocation year', 'Budget 2010-2050', 'Budget 2010-2100'])\n",
    "df_rob2 = df_rob2.rename({'Country code ISO Alpha-3': 'Region', \"approaches names\": \"Approach\", 2030:'Val2030wrt2010'}, axis=1)\n",
    "approaches = np.array(df_rob2.Approach)\n",
    "approaches[approaches == 'CER'] = 'GF'\n",
    "approaches[approaches == 'EPC'] = 'PCC'\n",
    "approaches[approaches == 'CAP'] = 'AP'\n",
    "approaches[approaches == 'CPC'] = 'ECPC'\n",
    "df_rob2['Approach'] = approaches\n",
    "df_rob2 = df_rob2.set_index(['Approach', 'Region'])\n",
    "xr_rob = df_rob2.to_xarray()"
   ]
  },
  {
   "cell_type": "code",
   "execution_count": 5,
   "metadata": {},
   "outputs": [],
   "source": [
    "df_raj = pd.read_csv(Path(\"X:/user/dekkerm/Data/\") / \"Rajamani_paper\" / \"Data.csv\")\n",
    "df_raj2 = df_raj[df_raj.keys()[[1, -1, -2]]]\n",
    "df_raj2 = df_raj2.rename({'ISO3': 'Region', 'Full literature range maximum 2030 [% of 2010]': 'Maximum_2030wrt2010', 'Full literature range minimum 2030 [% of 2010]' : 'Minimum_2030wrt2010'}, axis=1)\n",
    "df_raj3 = df_raj2.melt(id_vars=[\"Region\"], var_name=\"Variable\", value_name=\"Value\")\n",
    "df_raj3 = df_raj3.set_index(['Variable', 'Region'])\n",
    "xr_raj = df_raj3.to_xarray()"
   ]
  },
  {
   "cell_type": "code",
   "execution_count": 56,
   "metadata": {},
   "outputs": [],
   "source": [
    "all_countries_iso = np.load(Path(\"K:/ECEMF/T5.2/\") / \"all_countries.npy\", allow_pickle=True)"
   ]
  },
  {
   "cell_type": "markdown",
   "metadata": {},
   "source": [
    "#### Comparison"
   ]
  },
  {
   "cell_type": "markdown",
   "metadata": {},
   "source": [
    "Check the minima of the range within GF, PCC, GDR and AP for any given country (cty):"
   ]
  },
  {
   "cell_type": "code",
   "execution_count": 75,
   "metadata": {},
   "outputs": [
    {
     "name": "stdout",
     "output_type": "stream",
     "text": [
      "Own work: -0.188\n",
      "Berg: -0.315\n",
      "Robiou (excl LULUCF): -0.33\n",
      "Rajamani (excl LULUCF): -0.188\n"
     ]
    }
   ],
   "source": [
    "vary = ['GF', 'PCC', 'GDR', 'AP']\n",
    "cty = 'IND'\n",
    "\n",
    "# Own work\n",
    "val_2005 = float(xr_dataread.GHG_hist.sel(Time=2010, Region=cty))\n",
    "val_year = np.array(xr_2030.sel(Temperature=1.5, Risk=0.5, NegEmis=0.5, Timing='Immediate', NonCO2red=0.5, Region=cty, Convergence_year=2050).mean(dim=['Scenario'])[vary].to_array())\n",
    "print('Own work:',np.round(np.min((val_year - val_2005)/val_2005), 3))\n",
    "\n",
    "# Berg\n",
    "try:\n",
    "    val_2010 = np.array(xr_berg.sel(Approach=vary, Range='default', Region=cty, Time=2010).mean(dim='Parameters').Value)\n",
    "    val_year = np.array(xr_berg.sel(Approach=vary, Range='default', Region=cty, Time=2030).mean(dim='Parameters').Value)\n",
    "    print('Berg:',np.round(np.min((val_year - val_2010)/val_2010), 3))\n",
    "except:\n",
    "    3\n",
    "\n",
    "# Robiou\n",
    "val_yearwrt2010 = np.array(xr_rob.sel(Approach=vary, Region=cty).Val2030wrt2010/100)\n",
    "print('Robiou (excl LULUCF):',np.round(np.min(val_yearwrt2010), 3))\n",
    "\n",
    "# Raj\n",
    "val = 1-float(xr_raj.sel(Variable = 'Minimum_2030wrt2010', Region=cty).Value)/100\n",
    "print('Rajamani (excl LULUCF):',np.round(-val, 3))"
   ]
  },
  {
   "cell_type": "markdown",
   "metadata": {},
   "source": [
    "Also check the maximum allocation (all in 2030 wrt 2010):"
   ]
  },
  {
   "cell_type": "code",
   "execution_count": 74,
   "metadata": {},
   "outputs": [
    {
     "name": "stdout",
     "output_type": "stream",
     "text": [
      "Own work: -0.53\n",
      "Robiou (excl LULUCF): -0.33\n",
      "Rajamani (excl LULUCF): -0.391\n"
     ]
    }
   ],
   "source": [
    "vary = ['GF', 'PCC', 'GDR', 'AP']\n",
    "cty = 'NLD'\n",
    "\n",
    "# Own work\n",
    "val_2005 = float(xr_dataread.GHG_hist.sel(Time=2010, Region=cty))\n",
    "val_year = np.array(xr_2030.sel(Temperature=1.5, Risk=0.5, NegEmis=0.5, Timing='Immediate', NonCO2red=0.5, Region=cty, Convergence_year=2050).mean(dim=['Scenario'])[vary].to_array()) #Timing='Immediate',  , NonCO2red=0.5\n",
    "print('Own work:',np.round(np.max((val_year - val_2005)/val_2005), 3))\n",
    "\n",
    "# Berg\n",
    "try:\n",
    "    val_2010 = np.array(xr_berg.sel(Approach=vary, Range='default', Region=cty, Time=2010).mean(dim='Parameters').Value)\n",
    "    val_year = np.array(xr_berg.sel(Approach=vary, Range='default', Region=cty, Time=2030).mean(dim='Parameters').Value)\n",
    "    print('Berg:',np.round(np.max((val_year - val_2010)/val_2010), 3))\n",
    "except:\n",
    "    3\n",
    "\n",
    "# Robiou\n",
    "val_yearwrt2010 = np.array(xr_rob.sel(Approach=vary, Region=cty).Val2030wrt2010/100)\n",
    "print('Robiou (excl LULUCF):',np.round(np.max(val_yearwrt2010), 3))\n",
    "\n",
    "# Raj\n",
    "val = 1-float(xr_raj.sel(Variable = 'Maximum_2030wrt2010', Region=cty).Value)/100\n",
    "print('Rajamani (excl LULUCF):',np.round(-val, 3))"
   ]
  },
  {
   "cell_type": "markdown",
   "metadata": {},
   "source": [
    "Per allocation rule (Rajamani does not provide this):"
   ]
  },
  {
   "cell_type": "code",
   "execution_count": 76,
   "metadata": {},
   "outputs": [
    {
     "name": "stdout",
     "output_type": "stream",
     "text": [
      "========= GF =========\n",
      "Own work: -0.559\n",
      "Berg: -0.315\n",
      "Robiou (excl LULUCF): -0.33\n",
      "\n",
      "========= PCC =========\n",
      "Own work: -0.581\n",
      "Berg: -0.439\n",
      "Robiou (excl LULUCF): -0.29\n",
      "\n",
      "========= AP =========\n",
      "Own work: -0.558\n",
      "Berg: -0.382\n",
      "Robiou (excl LULUCF): -0.54\n",
      "\n",
      "========= GDR =========\n",
      "Own work: -0.449\n",
      "Berg: -0.388\n",
      "Robiou (excl LULUCF): -0.28\n",
      "\n",
      "========= ECPC =========\n",
      "Own work: -0.747\n",
      "Robiou (excl LULUCF): -0.39\n",
      "\n"
     ]
    }
   ],
   "source": [
    "cty = 'BRA'\n",
    "\n",
    "for vary in ['GF', 'PCC', 'AP', 'GDR', 'ECPC']:\n",
    "    print('=========', vary, '=========')\n",
    "    # Own work\n",
    "    val_2005 = xr_dataread.GHG_hist.sel(Time=2010, Region=cty)\n",
    "    val_year = xr_2030.sel(Temperature=1.5, Risk=0.5, NegEmis=0.5, Timing='Immediate', NonCO2red=0.5, Region=cty, Convergence_year=2050).mean(dim=['Scenario'])[vary] #Timing='Immediate',  , NonCO2red=0.5\n",
    "    print('Own work:',np.round(float((val_year - val_2005)/val_2005), 3))\n",
    "\n",
    "    # Berg\n",
    "    try:\n",
    "        val_2010 = xr_berg.sel(Approach=vary, Range='default', Region=cty, Time=2010).mean(dim='Parameters').Value\n",
    "        val_year = xr_berg.sel(Approach=vary, Range='default', Region=cty, Time=2030).mean(dim='Parameters').Value\n",
    "        print('Berg:',np.round(float((val_year - val_2010)/val_2010), 3))\n",
    "    except:\n",
    "        3\n",
    "\n",
    "    # Robiou\n",
    "    val_yearwrt2010 = float(xr_rob.sel(Approach=vary, Region=cty).Val2030wrt2010/100)\n",
    "    print('Robiou (excl LULUCF):',np.round(val_yearwrt2010, 3))\n",
    "    print('')"
   ]
  }
 ],
 "metadata": {
  "kernelspec": {
   "display_name": "MyEnv2",
   "language": "python",
   "name": "python3"
  },
  "language_info": {
   "codemirror_mode": {
    "name": "ipython",
    "version": 3
   },
   "file_extension": ".py",
   "mimetype": "text/x-python",
   "name": "python",
   "nbconvert_exporter": "python",
   "pygments_lexer": "ipython3",
   "version": "3.8.6"
  }
 },
 "nbformat": 4,
 "nbformat_minor": 2
}
