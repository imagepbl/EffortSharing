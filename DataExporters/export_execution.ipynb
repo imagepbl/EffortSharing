{
 "cells": [
  {
   "cell_type": "markdown",
   "metadata": {},
   "source": [
    "## Preambule"
   ]
  },
  {
   "cell_type": "code",
   "execution_count": 1,
   "metadata": {},
   "outputs": [],
   "source": [
    "import numpy as np\n",
    "from tqdm import tqdm\n",
    "from importlib import reload\n",
    "import matplotlib.pyplot as plt\n",
    "import xarray as xr\n",
    "import pandas as pd\n",
    "import scipy\n",
    "from scipy.optimize import curve_fit\n",
    "from scipy.signal import savgol_filter\n",
    "import warnings\n",
    "warnings.simplefilter(action='ignore', category=FutureWarning)"
   ]
  },
  {
   "cell_type": "markdown",
   "metadata": {},
   "source": [
    "## Run class"
   ]
  },
  {
   "cell_type": "code",
   "execution_count": 2,
   "metadata": {},
   "outputs": [],
   "source": [
    "import class_exports\n",
    "reload(class_exports)\n",
    "from class_exports import dataexportcl\n",
    "\n",
    "dataexporter = dataexportcl()\n",
    "# dataexporter.global_all()\n",
    "# dataexporter.global_default()\n",
    "# dataexporter.ndcdata()\n",
    "# dataexporter.sspdata()\n",
    "# dataexporter.emisdata()\n",
    "# dataexporter.reduce_country_files()\n",
    "# dataexporter.allocations_default()\n",
    "# dataexporter.project_COMMITTED()\n",
    "# dataexporter.project_DGIS()\n",
    "# dataexporter.co2_budgets_pc(lulucf='excl')\n",
    "# dataexporter.co2_budgets_ap(lulucf='excl')\n",
    "# dataexporter.co2_budgets_ecpc(lulucf='excl')\n",
    "# dataexporter.concat_co2budgets(lulucf='excl')\n",
    "for lulucf in ['excl', 'incl']:\n",
    "    for adapt in ['_adapt', '']:\n",
    "        for gas in ['CO2', 'GHG']:\n",
    "            dataexporter.countr_to_csv('NOR', adapt=adapt, lulucf=lulucf, gas=gas)"
   ]
  },
  {
   "cell_type": "markdown",
   "metadata": {},
   "source": [
    "## Compress into ZIP folders for Zenodo"
   ]
  },
  {
   "cell_type": "code",
   "execution_count": 11,
   "metadata": {},
   "outputs": [],
   "source": [
    "import zipfile\n",
    "\n",
    "mydir = \"K:/data/EffortSharingExports/\"\n",
    "\n",
    "# Allocations.zip\n",
    "zip = zipfile.ZipFile(mydir+\"ZIPs/\"+\"Allocations.zip\", \"w\", zipfile.ZIP_DEFLATED)\n",
    "for reg in np.array(dataexporter.xr_dataread.Region):\n",
    "    zip.write(mydir+\"Allocations/allocations_\" + reg + \".nc\")\n",
    "zip.close()\n",
    "\n",
    "# DefaultAllocations.zip\n",
    "zip = zipfile.ZipFile(mydir+\"ZIPs/\"+\"DefaultAllocations.zip\", \"w\", zipfile.ZIP_DEFLATED)\n",
    "zip.write(mydir+\"allocations_default_15overshoot.csv\")\n",
    "zip.write(mydir+\"allocations_default_20.csv\")\n",
    "zip.close()\n",
    "\n",
    "# DefaultReductions.zip\n",
    "zip = zipfile.ZipFile(mydir+\"ZIPs/\"+\"DefaultReductions.zip\", \"w\", zipfile.ZIP_DEFLATED)\n",
    "zip.write(mydir+\"reductions_default_15overshoot.csv\")\n",
    "zip.write(mydir+\"reductions_default_20.csv\")\n",
    "zip.close()\n",
    "\n",
    "# GlobalPathways.zip\n",
    "zip = zipfile.ZipFile(mydir+\"ZIPs/\"+\"GlobalPathways.zip\", \"w\", zipfile.ZIP_DEFLATED)\n",
    "zip.write(mydir+\"emissionspathways_all.csv\")\n",
    "zip.write(mydir+\"emissionspathways_default.csv\")\n",
    "zip.close()\n",
    "\n",
    "# GlobalPathways.zip\n",
    "zip = zipfile.ZipFile(mydir+\"ZIPs/\"+\"Inputdata.zip\", \"w\", zipfile.ZIP_DEFLATED)\n",
    "zip.write(mydir+\"inputdata_histemis.csv\")\n",
    "zip.write(mydir+\"inputdata_ndc.csv\")\n",
    "zip.write(mydir+\"inputdata_ssp.csv\")\n",
    "zip.close()"
   ]
  }
 ],
 "metadata": {
  "kernelspec": {
   "display_name": "MyEnv15",
   "language": "python",
   "name": "python3"
  },
  "language_info": {
   "codemirror_mode": {
    "name": "ipython",
    "version": 3
   },
   "file_extension": ".py",
   "mimetype": "text/x-python",
   "name": "python",
   "nbconvert_exporter": "python",
   "pygments_lexer": "ipython3",
   "version": "3.12.5"
  }
 },
 "nbformat": 4,
 "nbformat_minor": 2
}
