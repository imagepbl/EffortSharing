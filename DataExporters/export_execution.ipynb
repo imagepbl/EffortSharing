{
 "cells": [
  {
   "cell_type": "markdown",
   "metadata": {},
   "source": [
    "## Preambule"
   ]
  },
  {
   "cell_type": "code",
   "execution_count": 1,
   "metadata": {},
   "outputs": [],
   "source": [
    "import numpy as np\n",
    "from tqdm import tqdm\n",
    "from importlib import reload\n",
    "import matplotlib.pyplot as plt\n",
    "import xarray as xr\n",
    "import pandas as pd\n",
    "import scipy\n",
    "from scipy.optimize import curve_fit\n",
    "from scipy.signal import savgol_filter\n",
    "import warnings\n",
    "warnings.simplefilter(action='ignore', category=FutureWarning)"
   ]
  },
  {
   "cell_type": "markdown",
   "metadata": {},
   "source": [
    "## Run class"
   ]
  },
  {
   "cell_type": "code",
   "execution_count": 40,
   "metadata": {},
   "outputs": [
    {
     "name": "stdout",
     "output_type": "stream",
     "text": [
      "# ==================================== #\n",
      "# DATAREADING class                    #\n",
      "# startyear:  2021\n",
      "# ==================================== #\n"
     ]
    },
    {
     "name": "stderr",
     "output_type": "stream",
     "text": [
      "100%|██████████| 207/207 [00:14<00:00, 14.16it/s]\n"
     ]
    }
   ],
   "source": [
    "import class_exports\n",
    "reload(class_exports)\n",
    "from class_exports import dataexportcl\n",
    "\n",
    "dataexporter = dataexportcl()\n",
    "\n",
    "# Global pathways\n",
    "dataexporter.global_all()\n",
    "dataexporter.negative_nonlulucf_emissions()\n",
    "dataexporter.global_default()\n",
    "\n",
    "# Input data\n",
    "dataexporter.ndcdata()\n",
    "dataexporter.sspdata()\n",
    "dataexporter.emisdata()\n",
    "\n",
    "# Allocations\n",
    "# dataexporter.reduce_country_files()\n",
    "# dataexporter.allocations_default()\n",
    "\n",
    "# Project-specific exports\n",
    "# dataexporter.project_COMMITTED()\n",
    "# dataexporter.project_DGIS()\n",
    "\n",
    "# Budgets\n",
    "dataexporter.budgets_key_variables(lulucf='incl')\n",
    "dataexporter.co2_budgets_pc()\n",
    "dataexporter.co2_budgets_ap()\n",
    "dataexporter.co2_budgets_ecpc()\n",
    "dataexporter.concat_co2budgets(lulucf='incl')\n",
    "\n",
    "# Country-specific exports\n",
    "# for lulucf in ['excl', 'incl']:\n",
    "#     for adapt in ['_adapt', '']:\n",
    "#         for gas in ['CO2', 'GHG']:\n",
    "#             dataexporter.countr_to_csv('NOR', adapt=adapt, lulucf=lulucf, gas=gas)"
   ]
  },
  {
   "cell_type": "markdown",
   "metadata": {},
   "source": [
    "## Compress into ZIP folders for Zenodo"
   ]
  },
  {
   "cell_type": "code",
   "execution_count": 42,
   "metadata": {},
   "outputs": [],
   "source": [
    "import zipfile\n",
    "\n",
    "mydir = \"K:/Data/Data_effortsharing/EffortSharingExports/startyear_2021/\"\n",
    "\n",
    "# Allocations.zip\n",
    "zip = zipfile.ZipFile(mydir+\"ZIPs/\"+\"Allocations.zip\", \"w\", zipfile.ZIP_DEFLATED)\n",
    "for reg in np.array(dataexporter.xr_dataread.Region):\n",
    "    zip.write(mydir+\"Allocations_GHG_incl_reduced/reduced_allocations_\" + reg + \".nc\")\n",
    "zip.close()\n",
    "\n",
    "# DefaultAllocations.zip\n",
    "zip = zipfile.ZipFile(mydir+\"ZIPs/\"+\"DefaultAllocations.zip\", \"w\", zipfile.ZIP_DEFLATED)\n",
    "zip.write(mydir+\"allocations_default_15overshoot.csv\")\n",
    "zip.write(mydir+\"allocations_default_20.csv\")\n",
    "zip.close()\n",
    "\n",
    "# DefaultReductions.zip\n",
    "zip = zipfile.ZipFile(mydir+\"ZIPs/\"+\"DefaultReductions.zip\", \"w\", zipfile.ZIP_DEFLATED)\n",
    "zip.write(mydir+\"reductions_default_15overshoot.csv\")\n",
    "zip.write(mydir+\"reductions_default_20.csv\")\n",
    "zip.close()\n",
    "\n",
    "# GlobalPathways.zip\n",
    "zip = zipfile.ZipFile(mydir+\"ZIPs/\"+\"GlobalPathways.zip\", \"w\", zipfile.ZIP_DEFLATED)\n",
    "zip.write(mydir+\"emissionspathways_all.csv\")\n",
    "zip.write(mydir+\"emissionspathways_default.csv\")\n",
    "zip.close()\n",
    "\n",
    "# GlobalPathways.zip\n",
    "zip = zipfile.ZipFile(mydir+\"ZIPs/\"+\"Inputdata.zip\", \"w\", zipfile.ZIP_DEFLATED)\n",
    "zip.write(mydir+\"inputdata_histemis.csv\")\n",
    "zip.write(mydir+\"inputdata_ndc.csv\")\n",
    "zip.write(mydir+\"inputdata_ssp.csv\")\n",
    "zip.close()"
   ]
  }
 ],
 "metadata": {
  "kernelspec": {
   "display_name": "Python 3",
   "language": "python",
   "name": "python3"
  },
  "language_info": {
   "codemirror_mode": {
    "name": "ipython",
    "version": 3
   },
   "file_extension": ".py",
   "mimetype": "text/x-python",
   "name": "python",
   "nbconvert_exporter": "python",
   "pygments_lexer": "ipython3",
   "version": "3.12.5"
  }
 },
 "nbformat": 4,
 "nbformat_minor": 2
}
