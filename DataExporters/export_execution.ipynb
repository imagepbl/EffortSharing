{
 "cells": [
  {
   "cell_type": "markdown",
   "metadata": {},
   "source": [
    "## Preambule"
   ]
  },
  {
   "cell_type": "code",
   "execution_count": 1,
   "metadata": {},
   "outputs": [],
   "source": [
    "import numpy as np\n",
    "from tqdm import tqdm\n",
    "from importlib import reload\n",
    "import matplotlib.pyplot as plt\n",
    "import xarray as xr\n",
    "import pandas as pd\n",
    "import scipy\n",
    "from scipy.optimize import curve_fit\n",
    "from scipy.signal import savgol_filter\n",
    "import warnings\n",
    "warnings.simplefilter(action='ignore', category=FutureWarning)"
   ]
  },
  {
   "cell_type": "markdown",
   "metadata": {},
   "source": [
    "## Run class"
   ]
  },
  {
   "cell_type": "code",
   "execution_count": 38,
   "metadata": {},
   "outputs": [],
   "source": [
    "import class_exports\n",
    "reload(class_exports)\n",
    "from class_exports import dataexportcl\n",
    "\n",
    "dataexporter = dataexportcl()\n",
    "# dataexporter.global_all()\n",
    "# dataexporter.global_default()\n",
    "# dataexporter.ndcdata()\n",
    "# dataexporter.sspdata()\n",
    "# dataexporter.emisdata()\n",
    "# dataexporter.reduce_country_files()\n",
    "# dataexporter.allocations_default()\n",
    "dataexporter.project_COMMITTED()\n",
    "dataexporter.project_DGIS()"
   ]
  }
 ],
 "metadata": {
  "kernelspec": {
   "display_name": "MyEnv15",
   "language": "python",
   "name": "python3"
  },
  "language_info": {
   "codemirror_mode": {
    "name": "ipython",
    "version": 3
   },
   "file_extension": ".py",
   "mimetype": "text/x-python",
   "name": "python",
   "nbconvert_exporter": "python",
   "pygments_lexer": "ipython3",
   "version": "3.12.1"
  }
 },
 "nbformat": 4,
 "nbformat_minor": 2
}
