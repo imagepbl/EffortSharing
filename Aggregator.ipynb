{
 "cells": [
  {
   "cell_type": "markdown",
   "metadata": {},
   "source": [
    "## Preambule"
   ]
  },
  {
   "cell_type": "code",
   "execution_count": 1,
   "metadata": {},
   "outputs": [],
   "source": [
    "import numpy as np\n",
    "import pandas as pd\n",
    "import matplotlib.pyplot as plt\n",
    "from pathlib import Path\n",
    "from tqdm import tqdm\n",
    "import xarray as xr"
   ]
  },
  {
   "cell_type": "markdown",
   "metadata": {},
   "source": [
    "## Input"
   ]
  },
  {
   "cell_type": "code",
   "execution_count": 2,
   "metadata": {},
   "outputs": [],
   "source": [
    "params = dict(start_year_analysis=2021)\n",
    "path_alloc = \"K:/ECEMF/T5.2/Allocations/\"\n",
    "path_save = \"K:/ECEMF/T5.2/\""
   ]
  },
  {
   "cell_type": "markdown",
   "metadata": {},
   "source": [
    "## Read"
   ]
  },
  {
   "cell_type": "code",
   "execution_count": 3,
   "metadata": {},
   "outputs": [],
   "source": [
    "xr_dataread = xr.open_dataset(path_save + \"xr_dataread.nc\", engine='netcdf4')"
   ]
  },
  {
   "cell_type": "code",
   "execution_count": 4,
   "metadata": {},
   "outputs": [],
   "source": [
    "#focusregs = ['EU', 'USA', 'IND', 'CHN', 'JPN', 'AUS', 'BRA', 'RUS', 'ZAF']\n",
    "focusregs = np.array(xr_dataread.Region)\n",
    "temperatures = [1.5, 2.0]\n",
    "rules = ['GF', 'PC', 'PCC', 'ECPC', 'AP', 'GDR']"
   ]
  },
  {
   "cell_type": "markdown",
   "metadata": {},
   "source": [
    "## Open datasets"
   ]
  },
  {
   "cell_type": "markdown",
   "metadata": {},
   "source": [
    "Budgets"
   ]
  },
  {
   "cell_type": "code",
   "execution_count": 5,
   "metadata": {},
   "outputs": [],
   "source": [
    "# for temp_i, temp in enumerate([1.5, 2.0, 2.5, 3.0]):\n",
    "#     xrs = []\n",
    "#     for cty_i, cty in tqdm(enumerate(focusregs)):\n",
    "#         ds = xr.open_dataset(\"X:/user/dekkerm/Projects/ECEMF_T5.2/Data/Allocations/\" + \"xr_alloc_\"+cty+\".nc\").sel(Temperature=temp, Risk=0.5, Time=np.arange(params['start_year_analysis'], 2101)).sum(dim='Time').expand_dims(Region=[cty])\n",
    "#         for rule_i, rule in enumerate(rules):\n",
    "#             if rule != 'ECPC':\n",
    "#                 xr_i = xrt[rule].sum(dim='Time').expand_dims(Region=[cty])\n",
    "#             else:\n",
    "#                 xr_i = xrt[rule].expand_dims(Region=[cty])\n",
    "#             xrs.append(xr_i)\n",
    "#     xr.merge(xrs).astype(\"float32\").to_netcdf(\"X:/user/dekkerm/Projects/ECEMF_T5.2/Data/xr_budgets_\"+str(temp)[0]+str(temp)[2]+\"_50.nc\", format='NETCDF4')"
   ]
  },
  {
   "cell_type": "markdown",
   "metadata": {},
   "source": [
    "Trajectory emissions"
   ]
  },
  {
   "cell_type": "code",
   "execution_count": 6,
   "metadata": {},
   "outputs": [
    {
     "name": "stderr",
     "output_type": "stream",
     "text": [
      "1it [00:00,  2.70it/s]"
     ]
    },
    {
     "name": "stderr",
     "output_type": "stream",
     "text": [
      "207it [04:50,  1.40s/it]\n"
     ]
    }
   ],
   "source": [
    "for temp_i, temp in enumerate([1.5]):\n",
    "    for cty_i, cty in tqdm(enumerate(focusregs)):\n",
    "        ds = xr.open_dataset(path_alloc + \"xr_alloc_\"+cty+\".nc\").sel(Temperature=temp, Risk=0.5, Time=np.arange(params['start_year_analysis'], 2101)).expand_dims(Region=[cty])\n",
    "        if cty_i == 0:\n",
    "            xrt = ds.copy()\n",
    "        else:\n",
    "            xrt = xr.merge([xrt, ds])\n",
    "        ds.close()\n",
    "    xrt.astype(\"float32\").to_netcdf(path_save + \"xr_traj_\"+str(temp)[0]+str(temp)[2]+\"_50.nc\", format='NETCDF4')\n",
    "\n",
    "# for temp_i, temp in enumerate(temperatures):\n",
    "#     for cty_i, cty in enumerate(focusregs):\n",
    "#         if cty_i == 0:\n",
    "#             xrt = xr.open_dataset(\"K:/ECEMF/T5.2/Allocations/\" + \"xr_alloc_\"+cty+\".nc\").sel(Temperature=temp, Risk=0.5, Time=np.arange(params['start_year_analysis'], 2101)).expand_dims(Region=[cty])\n",
    "#         else:\n",
    "#             try: xr_i = xr.open_dataset(\"K:/ECEMF/T5.2/Allocations/\" + \"xr_alloc_\"+cty+\".nc\").sel(Temperature=temp, Risk=0.5, Time=np.arange(params['start_year_analysis'], 2101)).expand_dims(Region=[cty])\n",
    "#             except: xr_i = xr.open_dataset(\"X:/user/dekkerm/Projects/ECEMF_T5.2/Data/Allocations/\" + \"xr_alloc_\"+cty+\".nc\").sel(Temperature=temp, Risk=0.5, Time=np.arange(params['start_year_analysis'], 2101)).expand_dims(Region=[cty])\n",
    "#             xrt = xr.merge([xrt, xr_i])\n",
    "#     xrt.astype(\"float32\").to_netcdf(\"X:/user/dekkerm/Projects/ECEMF_T5.2/Data/xr_traj_\"+str(temp)[0]+str(temp)[2]+\"_50.nc\", format='NETCDF4')"
   ]
  },
  {
   "cell_type": "markdown",
   "metadata": {},
   "source": [
    "2030 allocations"
   ]
  },
  {
   "cell_type": "code",
   "execution_count": 7,
   "metadata": {},
   "outputs": [
    {
     "name": "stderr",
     "output_type": "stream",
     "text": [
      "207it [02:48,  1.23it/s]\n"
     ]
    }
   ],
   "source": [
    "for cty_i, cty in tqdm(enumerate(focusregs)):\n",
    "    ds = xr.open_dataset(path_alloc + \"xr_alloc_\"+cty+\".nc\").sel(Time=2030).expand_dims(Region=[cty])\n",
    "    if cty_i == 0:\n",
    "        xrt = ds.copy()\n",
    "    else:\n",
    "        xrt = xr.merge([xrt, ds])\n",
    "    ds.close()\n",
    "xrt.astype(\"float32\").to_netcdf(path_save + \"xr_alloc_2030.nc\", format='NETCDF4')"
   ]
  },
  {
   "cell_type": "markdown",
   "metadata": {},
   "source": [
    "2040 allocations"
   ]
  },
  {
   "cell_type": "code",
   "execution_count": 8,
   "metadata": {},
   "outputs": [
    {
     "name": "stderr",
     "output_type": "stream",
     "text": [
      "207it [02:36,  1.32it/s]\n"
     ]
    }
   ],
   "source": [
    "for cty_i, cty in tqdm(enumerate(focusregs)):\n",
    "    ds = xr.open_dataset(path_alloc + \"xr_alloc_\"+cty+\".nc\").sel(Time=2040).expand_dims(Region=[cty])\n",
    "    if cty_i == 0:\n",
    "        xrt = ds.copy()\n",
    "    else:\n",
    "        xrt = xr.merge([xrt, ds])\n",
    "    ds.close()\n",
    "xrt.astype(\"float32\").to_netcdf(path_save + \"xr_alloc_2040.nc\", format='NETCDF4')"
   ]
  },
  {
   "cell_type": "markdown",
   "metadata": {},
   "source": [
    "2050 allocations"
   ]
  },
  {
   "cell_type": "code",
   "execution_count": 9,
   "metadata": {},
   "outputs": [
    {
     "name": "stderr",
     "output_type": "stream",
     "text": [
      "207it [02:34,  1.34it/s]\n"
     ]
    }
   ],
   "source": [
    "for cty_i, cty in tqdm(enumerate(focusregs)):\n",
    "    if cty_i == 0:\n",
    "        xrt = xr.open_dataset(path_alloc + \"xr_alloc_\"+cty+\".nc\").sel(Time=2050).expand_dims(Region=[cty])\n",
    "    else:\n",
    "        try: xr_i = xr.open_dataset(\"K:/ECEMF/T5.2/Allocations/\" + \"xr_alloc_\"+cty+\".nc\").sel(Time=2050).expand_dims(Region=[cty])\n",
    "        except: xr_i = xr.open_dataset(\"X:/user/dekkerm/Projects/ECEMF_T5.2/Data/Allocations/\" + \"xr_alloc_\"+cty+\".nc\").sel(Time=2050).expand_dims(Region=[cty])\n",
    "        xrt = xr.merge([xrt, xr_i])\n",
    "xrt.astype(\"float32\").to_netcdf(path_save + \"xr_alloc_2050.nc\", format='NETCDF4')"
   ]
  },
  {
   "cell_type": "markdown",
   "metadata": {},
   "source": [
    "F_C budgets"
   ]
  },
  {
   "cell_type": "code",
   "execution_count": 10,
   "metadata": {},
   "outputs": [
    {
     "name": "stderr",
     "output_type": "stream",
     "text": [
      "207it [03:09,  1.09it/s]\n"
     ]
    }
   ],
   "source": [
    "for cty_i, cty in tqdm(enumerate(focusregs)):\n",
    "    ds = xr.open_dataset(path_alloc + \"xr_alloc_\"+cty+\".nc\").sel(Time=np.arange(2021, 2101)).sum(dim='Time').expand_dims(Region=[cty])\n",
    "    if cty_i == 0:\n",
    "        xrt = ds.copy()\n",
    "    else:\n",
    "        xrt = xr.merge([xrt, ds])\n",
    "    ds.close()\n",
    "xrt.astype(\"float32\").to_netcdf(path_save + \"xr_alloc_FC.nc\", format='NETCDF4')"
   ]
  },
  {
   "cell_type": "markdown",
   "metadata": {},
   "source": [
    "For the uncertainty analysis"
   ]
  },
  {
   "cell_type": "code",
   "execution_count": 11,
   "metadata": {},
   "outputs": [
    {
     "name": "stderr",
     "output_type": "stream",
     "text": [
      "207it [00:08, 23.23it/s]\n",
      "207it [00:08, 23.93it/s]\n"
     ]
    }
   ],
   "source": [
    "for temp_i, temp in enumerate(temperatures):\n",
    "    xrs = []\n",
    "    for cty_i, cty in tqdm(enumerate(focusregs)):\n",
    "        #try: xrt = xr.open_dataset(\"K:/ECEMF/T5.2/Allocations/\" + \"xr_alloc_\"+cty+\".nc\").sel(Temperature=temp, TrajUnc='Medium', NegEmis=0.5, Time=np.arange(params['start_year_analysis'], 2101))\n",
    "        xrt = xr.open_dataset(path_alloc + \"xr_alloc_\"+cty+\".nc\").sel(Temperature=temp, TrajUnc='Medium', NegEmis=0.5, Time=np.arange(params['start_year_analysis'], 2101))\n",
    "        for rule_i, rule in enumerate(rules):\n",
    "            if rule != 'ECPC':\n",
    "                xr_i = xrt[rule].sum(dim='Time').expand_dims(Region=[cty])\n",
    "            else:\n",
    "                xr_i = xrt[rule].expand_dims(Region=[cty])\n",
    "            xrs.append(xr_i)\n",
    "    xr.merge(xrs).astype(\"float32\").to_netcdf(path_save + \"xr_uncbudget_\"+str(temp)[0]+str(temp)[2]+\".nc\", format='NETCDF4')"
   ]
  }
 ],
 "metadata": {
  "kernelspec": {
   "display_name": "MyEnv",
   "language": "python",
   "name": "python3"
  },
  "language_info": {
   "codemirror_mode": {
    "name": "ipython",
    "version": 3
   },
   "file_extension": ".py",
   "mimetype": "text/x-python",
   "name": "python",
   "nbconvert_exporter": "python",
   "pygments_lexer": "ipython3",
   "version": "3.9.18"
  },
  "orig_nbformat": 4
 },
 "nbformat": 4,
 "nbformat_minor": 2
}
