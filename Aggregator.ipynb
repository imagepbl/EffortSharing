{
 "cells": [
  {
   "cell_type": "markdown",
   "metadata": {},
   "source": [
    "## Preambule"
   ]
  },
  {
   "cell_type": "code",
   "execution_count": 1,
   "metadata": {},
   "outputs": [],
   "source": [
    "import numpy as np\n",
    "import pandas as pd\n",
    "import matplotlib.pyplot as plt\n",
    "from pathlib import Path\n",
    "from tqdm import tqdm\n",
    "import xarray as xr"
   ]
  },
  {
   "cell_type": "markdown",
   "metadata": {},
   "source": [
    "## Input"
   ]
  },
  {
   "cell_type": "code",
   "execution_count": 2,
   "metadata": {},
   "outputs": [],
   "source": [
    "params = dict(start_year_analysis=2021)\n",
    "path_alloc = \"K:/ECEMF/T5.2/Allocations/\"\n",
    "path_save = \"K:/ECEMF/T5.2/\""
   ]
  },
  {
   "cell_type": "markdown",
   "metadata": {},
   "source": [
    "## Read"
   ]
  },
  {
   "cell_type": "code",
   "execution_count": 3,
   "metadata": {},
   "outputs": [],
   "source": [
    "xr_dataread = xr.open_dataset(path_save + \"xr_dataread.nc\", engine='netcdf4')"
   ]
  },
  {
   "cell_type": "code",
   "execution_count": 4,
   "metadata": {},
   "outputs": [],
   "source": [
    "#focusregs = ['EU', 'USA', 'IND', 'CHN', 'JPN', 'AUS', 'BRA', 'RUS', 'ZAF']\n",
    "focusregs = np.array(xr_dataread.Region)\n",
    "temperatures = [1.5, 2.0]\n",
    "rules = ['GF', 'PC', 'PCC', 'ECPC', 'AP', 'GDR']"
   ]
  },
  {
   "cell_type": "markdown",
   "metadata": {},
   "source": [
    "## Open datasets"
   ]
  },
  {
   "cell_type": "markdown",
   "metadata": {},
   "source": [
    "Budgets"
   ]
  },
  {
   "cell_type": "code",
   "execution_count": 5,
   "metadata": {},
   "outputs": [],
   "source": [
    "# for temp_i, temp in enumerate([1.5, 2.0, 2.5, 3.0]):\n",
    "#     xrs = []\n",
    "#     for cty_i, cty in tqdm(enumerate(focusregs)):\n",
    "#         ds = xr.open_dataset(\"X:/user/dekkerm/Projects/ECEMF_T5.2/Data/Allocations/\" + \"xr_alloc_\"+cty+\".nc\").sel(Temperature=temp, Risk=0.5, Time=np.arange(params['start_year_analysis'], 2101)).sum(dim='Time').expand_dims(Region=[cty])\n",
    "#         for rule_i, rule in enumerate(rules):\n",
    "#             if rule != 'ECPC':\n",
    "#                 xr_i = xrt[rule].sum(dim='Time').expand_dims(Region=[cty])\n",
    "#             else:\n",
    "#                 xr_i = xrt[rule].expand_dims(Region=[cty])\n",
    "#             xrs.append(xr_i)\n",
    "#     xr.merge(xrs).astype(\"float32\").to_netcdf(\"X:/user/dekkerm/Projects/ECEMF_T5.2/Data/xr_budgets_\"+str(temp)[0]+str(temp)[2]+\"_50.nc\", format='NETCDF4')"
   ]
  },
  {
   "cell_type": "markdown",
   "metadata": {},
   "source": [
    "Trajectory emissions"
   ]
  },
  {
   "cell_type": "code",
   "execution_count": 6,
   "metadata": {},
   "outputs": [
    {
     "name": "stderr",
     "output_type": "stream",
     "text": [
      "0it [00:00, ?it/s]"
     ]
    },
    {
     "name": "stderr",
     "output_type": "stream",
     "text": [
      "207it [03:49,  1.11s/it]\n"
     ]
    }
   ],
   "source": [
    "for temp_i, temp in enumerate([1.5]):\n",
    "    for cty_i, cty in tqdm(enumerate(focusregs)):\n",
    "        ds = xr.open_dataset(path_alloc + \"xr_alloc_\"+cty+\".nc\").sel(Temperature=temp, Risk=0.5, Time=np.arange(params['start_year_analysis'], 2101)).expand_dims(Region=[cty])\n",
    "        if cty_i == 0:\n",
    "            xrt = ds.copy()\n",
    "        else:\n",
    "            xrt = xr.merge([xrt, ds])\n",
    "        ds.close()\n",
    "    xrt.astype(\"float32\").to_netcdf(path_save + \"xr_traj_\"+str(temp)[0]+str(temp)[2]+\"_50.nc\", format='NETCDF4')\n",
    "\n",
    "# for temp_i, temp in enumerate(temperatures):\n",
    "#     for cty_i, cty in enumerate(focusregs):\n",
    "#         if cty_i == 0:\n",
    "#             xrt = xr.open_dataset(\"K:/ECEMF/T5.2/Allocations/\" + \"xr_alloc_\"+cty+\".nc\").sel(Temperature=temp, Risk=0.5, Time=np.arange(params['start_year_analysis'], 2101)).expand_dims(Region=[cty])\n",
    "#         else:\n",
    "#             try: xr_i = xr.open_dataset(\"K:/ECEMF/T5.2/Allocations/\" + \"xr_alloc_\"+cty+\".nc\").sel(Temperature=temp, Risk=0.5, Time=np.arange(params['start_year_analysis'], 2101)).expand_dims(Region=[cty])\n",
    "#             except: xr_i = xr.open_dataset(\"X:/user/dekkerm/Projects/ECEMF_T5.2/Data/Allocations/\" + \"xr_alloc_\"+cty+\".nc\").sel(Temperature=temp, Risk=0.5, Time=np.arange(params['start_year_analysis'], 2101)).expand_dims(Region=[cty])\n",
    "#             xrt = xr.merge([xrt, xr_i])\n",
    "#     xrt.astype(\"float32\").to_netcdf(\"X:/user/dekkerm/Projects/ECEMF_T5.2/Data/xr_traj_\"+str(temp)[0]+str(temp)[2]+\"_50.nc\", format='NETCDF4')"
   ]
  },
  {
   "cell_type": "markdown",
   "metadata": {},
   "source": [
    "2030 allocations"
   ]
  },
  {
   "cell_type": "code",
   "execution_count": 7,
   "metadata": {},
   "outputs": [
    {
     "name": "stderr",
     "output_type": "stream",
     "text": [
      "207it [02:42,  1.27it/s]\n"
     ]
    }
   ],
   "source": [
    "for cty_i, cty in tqdm(enumerate(focusregs)):\n",
    "    ds = xr.open_dataset(path_alloc + \"xr_alloc_\"+cty+\".nc\").sel(Time=2030).expand_dims(Region=[cty])\n",
    "    if cty_i == 0:\n",
    "        xrt = ds.copy()\n",
    "    else:\n",
    "        xrt = xr.merge([xrt, ds])\n",
    "    ds.close()\n",
    "xrt.astype(\"float32\").to_netcdf(path_save + \"xr_alloc_2030.nc\", format='NETCDF4')"
   ]
  },
  {
   "cell_type": "markdown",
   "metadata": {},
   "source": [
    "2035 allocations"
   ]
  },
  {
   "cell_type": "code",
   "execution_count": 9,
   "metadata": {},
   "outputs": [
    {
     "name": "stderr",
     "output_type": "stream",
     "text": [
      "0it [00:00, ?it/s]x:\\user\\dekkerm\\environments\\MyEnv2\\lib\\site-packages\\xarray\\core\\alignment.py:307: FutureWarning: Index.__or__ operating as a set operation is deprecated, in the future this will be a logical operation matching Series.__or__.  Use index.union(other) instead.\n",
      "  index = joiner(matching_indexes)\n",
      "2it [00:00, 19.64it/s]x:\\user\\dekkerm\\environments\\MyEnv2\\lib\\site-packages\\xarray\\core\\alignment.py:307: FutureWarning: Index.__or__ operating as a set operation is deprecated, in the future this will be a logical operation matching Series.__or__.  Use index.union(other) instead.\n",
      "  index = joiner(matching_indexes)\n",
      "x:\\user\\dekkerm\\environments\\MyEnv2\\lib\\site-packages\\xarray\\core\\alignment.py:307: FutureWarning: Index.__or__ operating as a set operation is deprecated, in the future this will be a logical operation matching Series.__or__.  Use index.union(other) instead.\n",
      "  index = joiner(matching_indexes)\n",
      "4it [00:00, 17.03it/s]x:\\user\\dekkerm\\environments\\MyEnv2\\lib\\site-packages\\xarray\\core\\alignment.py:307: FutureWarning: Index.__or__ operating as a set operation is deprecated, in the future this will be a logical operation matching Series.__or__.  Use index.union(other) instead.\n",
      "  index = joiner(matching_indexes)\n",
      "5it [00:00, 13.89it/s]x:\\user\\dekkerm\\environments\\MyEnv2\\lib\\site-packages\\xarray\\core\\alignment.py:307: FutureWarning: Index.__or__ operating as a set operation is deprecated, in the future this will be a logical operation matching Series.__or__.  Use index.union(other) instead.\n",
      "  index = joiner(matching_indexes)\n",
      "6it [00:00, 11.38it/s]x:\\user\\dekkerm\\environments\\MyEnv2\\lib\\site-packages\\xarray\\core\\alignment.py:307: FutureWarning: Index.__or__ operating as a set operation is deprecated, in the future this will be a logical operation matching Series.__or__.  Use index.union(other) instead.\n",
      "  index = joiner(matching_indexes)\n",
      "7it [00:00, 10.41it/s]x:\\user\\dekkerm\\environments\\MyEnv2\\lib\\site-packages\\xarray\\core\\alignment.py:307: FutureWarning: Index.__or__ operating as a set operation is deprecated, in the future this will be a logical operation matching Series.__or__.  Use index.union(other) instead.\n",
      "  index = joiner(matching_indexes)\n",
      "8it [00:00,  9.07it/s]x:\\user\\dekkerm\\environments\\MyEnv2\\lib\\site-packages\\xarray\\core\\alignment.py:307: FutureWarning: Index.__or__ operating as a set operation is deprecated, in the future this will be a logical operation matching Series.__or__.  Use index.union(other) instead.\n",
      "  index = joiner(matching_indexes)\n",
      "9it [00:01,  6.06it/s]x:\\user\\dekkerm\\environments\\MyEnv2\\lib\\site-packages\\xarray\\core\\alignment.py:307: FutureWarning: Index.__or__ operating as a set operation is deprecated, in the future this will be a logical operation matching Series.__or__.  Use index.union(other) instead.\n",
      "  index = joiner(matching_indexes)\n",
      "10it [00:01,  6.23it/s]x:\\user\\dekkerm\\environments\\MyEnv2\\lib\\site-packages\\xarray\\core\\alignment.py:307: FutureWarning: Index.__or__ operating as a set operation is deprecated, in the future this will be a logical operation matching Series.__or__.  Use index.union(other) instead.\n",
      "  index = joiner(matching_indexes)\n",
      "11it [00:01,  5.76it/s]x:\\user\\dekkerm\\environments\\MyEnv2\\lib\\site-packages\\xarray\\core\\alignment.py:307: FutureWarning: Index.__or__ operating as a set operation is deprecated, in the future this will be a logical operation matching Series.__or__.  Use index.union(other) instead.\n",
      "  index = joiner(matching_indexes)\n",
      "12it [00:01,  5.27it/s]x:\\user\\dekkerm\\environments\\MyEnv2\\lib\\site-packages\\xarray\\core\\alignment.py:307: FutureWarning: Index.__or__ operating as a set operation is deprecated, in the future this will be a logical operation matching Series.__or__.  Use index.union(other) instead.\n",
      "  index = joiner(matching_indexes)\n",
      "13it [00:01,  5.27it/s]x:\\user\\dekkerm\\environments\\MyEnv2\\lib\\site-packages\\xarray\\core\\alignment.py:307: FutureWarning: Index.__or__ operating as a set operation is deprecated, in the future this will be a logical operation matching Series.__or__.  Use index.union(other) instead.\n",
      "  index = joiner(matching_indexes)\n",
      "14it [00:02,  5.10it/s]x:\\user\\dekkerm\\environments\\MyEnv2\\lib\\site-packages\\xarray\\core\\alignment.py:307: FutureWarning: Index.__or__ operating as a set operation is deprecated, in the future this will be a logical operation matching Series.__or__.  Use index.union(other) instead.\n",
      "  index = joiner(matching_indexes)\n",
      "15it [00:02,  5.03it/s]x:\\user\\dekkerm\\environments\\MyEnv2\\lib\\site-packages\\xarray\\core\\alignment.py:307: FutureWarning: Index.__or__ operating as a set operation is deprecated, in the future this will be a logical operation matching Series.__or__.  Use index.union(other) instead.\n",
      "  index = joiner(matching_indexes)\n",
      "16it [00:02,  4.36it/s]x:\\user\\dekkerm\\environments\\MyEnv2\\lib\\site-packages\\xarray\\core\\alignment.py:307: FutureWarning: Index.__or__ operating as a set operation is deprecated, in the future this will be a logical operation matching Series.__or__.  Use index.union(other) instead.\n",
      "  index = joiner(matching_indexes)\n",
      "17it [00:02,  4.14it/s]x:\\user\\dekkerm\\environments\\MyEnv2\\lib\\site-packages\\xarray\\core\\alignment.py:307: FutureWarning: Index.__or__ operating as a set operation is deprecated, in the future this will be a logical operation matching Series.__or__.  Use index.union(other) instead.\n",
      "  index = joiner(matching_indexes)\n",
      "18it [00:03,  3.43it/s]x:\\user\\dekkerm\\environments\\MyEnv2\\lib\\site-packages\\xarray\\core\\alignment.py:307: FutureWarning: Index.__or__ operating as a set operation is deprecated, in the future this will be a logical operation matching Series.__or__.  Use index.union(other) instead.\n",
      "  index = joiner(matching_indexes)\n",
      "19it [00:03,  3.20it/s]x:\\user\\dekkerm\\environments\\MyEnv2\\lib\\site-packages\\xarray\\core\\alignment.py:307: FutureWarning: Index.__or__ operating as a set operation is deprecated, in the future this will be a logical operation matching Series.__or__.  Use index.union(other) instead.\n",
      "  index = joiner(matching_indexes)\n",
      "20it [00:03,  3.10it/s]x:\\user\\dekkerm\\environments\\MyEnv2\\lib\\site-packages\\xarray\\core\\alignment.py:307: FutureWarning: Index.__or__ operating as a set operation is deprecated, in the future this will be a logical operation matching Series.__or__.  Use index.union(other) instead.\n",
      "  index = joiner(matching_indexes)\n",
      "21it [00:04,  2.68it/s]x:\\user\\dekkerm\\environments\\MyEnv2\\lib\\site-packages\\xarray\\core\\alignment.py:307: FutureWarning: Index.__or__ operating as a set operation is deprecated, in the future this will be a logical operation matching Series.__or__.  Use index.union(other) instead.\n",
      "  index = joiner(matching_indexes)\n",
      "22it [00:04,  2.33it/s]x:\\user\\dekkerm\\environments\\MyEnv2\\lib\\site-packages\\xarray\\core\\alignment.py:307: FutureWarning: Index.__or__ operating as a set operation is deprecated, in the future this will be a logical operation matching Series.__or__.  Use index.union(other) instead.\n",
      "  index = joiner(matching_indexes)\n",
      "23it [00:05,  2.21it/s]x:\\user\\dekkerm\\environments\\MyEnv2\\lib\\site-packages\\xarray\\core\\alignment.py:307: FutureWarning: Index.__or__ operating as a set operation is deprecated, in the future this will be a logical operation matching Series.__or__.  Use index.union(other) instead.\n",
      "  index = joiner(matching_indexes)\n",
      "24it [00:06,  2.03it/s]x:\\user\\dekkerm\\environments\\MyEnv2\\lib\\site-packages\\xarray\\core\\alignment.py:307: FutureWarning: Index.__or__ operating as a set operation is deprecated, in the future this will be a logical operation matching Series.__or__.  Use index.union(other) instead.\n",
      "  index = joiner(matching_indexes)\n",
      "25it [00:06,  2.01it/s]x:\\user\\dekkerm\\environments\\MyEnv2\\lib\\site-packages\\xarray\\core\\alignment.py:307: FutureWarning: Index.__or__ operating as a set operation is deprecated, in the future this will be a logical operation matching Series.__or__.  Use index.union(other) instead.\n",
      "  index = joiner(matching_indexes)\n",
      "26it [00:07,  1.87it/s]x:\\user\\dekkerm\\environments\\MyEnv2\\lib\\site-packages\\xarray\\core\\alignment.py:307: FutureWarning: Index.__or__ operating as a set operation is deprecated, in the future this will be a logical operation matching Series.__or__.  Use index.union(other) instead.\n",
      "  index = joiner(matching_indexes)\n",
      "27it [00:07,  1.83it/s]x:\\user\\dekkerm\\environments\\MyEnv2\\lib\\site-packages\\xarray\\core\\alignment.py:307: FutureWarning: Index.__or__ operating as a set operation is deprecated, in the future this will be a logical operation matching Series.__or__.  Use index.union(other) instead.\n",
      "  index = joiner(matching_indexes)\n",
      "28it [00:08,  1.79it/s]x:\\user\\dekkerm\\environments\\MyEnv2\\lib\\site-packages\\xarray\\core\\alignment.py:307: FutureWarning: Index.__or__ operating as a set operation is deprecated, in the future this will be a logical operation matching Series.__or__.  Use index.union(other) instead.\n",
      "  index = joiner(matching_indexes)\n",
      "29it [00:08,  1.78it/s]x:\\user\\dekkerm\\environments\\MyEnv2\\lib\\site-packages\\xarray\\core\\alignment.py:307: FutureWarning: Index.__or__ operating as a set operation is deprecated, in the future this will be a logical operation matching Series.__or__.  Use index.union(other) instead.\n",
      "  index = joiner(matching_indexes)\n",
      "30it [00:09,  1.76it/s]x:\\user\\dekkerm\\environments\\MyEnv2\\lib\\site-packages\\xarray\\core\\alignment.py:307: FutureWarning: Index.__or__ operating as a set operation is deprecated, in the future this will be a logical operation matching Series.__or__.  Use index.union(other) instead.\n",
      "  index = joiner(matching_indexes)\n",
      "31it [00:10,  1.76it/s]x:\\user\\dekkerm\\environments\\MyEnv2\\lib\\site-packages\\xarray\\core\\alignment.py:307: FutureWarning: Index.__or__ operating as a set operation is deprecated, in the future this will be a logical operation matching Series.__or__.  Use index.union(other) instead.\n",
      "  index = joiner(matching_indexes)\n",
      "32it [00:10,  1.68it/s]x:\\user\\dekkerm\\environments\\MyEnv2\\lib\\site-packages\\xarray\\core\\alignment.py:307: FutureWarning: Index.__or__ operating as a set operation is deprecated, in the future this will be a logical operation matching Series.__or__.  Use index.union(other) instead.\n",
      "  index = joiner(matching_indexes)\n",
      "33it [00:11,  1.63it/s]x:\\user\\dekkerm\\environments\\MyEnv2\\lib\\site-packages\\xarray\\core\\alignment.py:307: FutureWarning: Index.__or__ operating as a set operation is deprecated, in the future this will be a logical operation matching Series.__or__.  Use index.union(other) instead.\n",
      "  index = joiner(matching_indexes)\n",
      "34it [00:11,  1.63it/s]x:\\user\\dekkerm\\environments\\MyEnv2\\lib\\site-packages\\xarray\\core\\alignment.py:307: FutureWarning: Index.__or__ operating as a set operation is deprecated, in the future this will be a logical operation matching Series.__or__.  Use index.union(other) instead.\n",
      "  index = joiner(matching_indexes)\n",
      "35it [00:12,  1.64it/s]x:\\user\\dekkerm\\environments\\MyEnv2\\lib\\site-packages\\xarray\\core\\alignment.py:307: FutureWarning: Index.__or__ operating as a set operation is deprecated, in the future this will be a logical operation matching Series.__or__.  Use index.union(other) instead.\n",
      "  index = joiner(matching_indexes)\n",
      "36it [00:13,  1.66it/s]x:\\user\\dekkerm\\environments\\MyEnv2\\lib\\site-packages\\xarray\\core\\alignment.py:307: FutureWarning: Index.__or__ operating as a set operation is deprecated, in the future this will be a logical operation matching Series.__or__.  Use index.union(other) instead.\n",
      "  index = joiner(matching_indexes)\n",
      "37it [00:13,  1.64it/s]x:\\user\\dekkerm\\environments\\MyEnv2\\lib\\site-packages\\xarray\\core\\alignment.py:307: FutureWarning: Index.__or__ operating as a set operation is deprecated, in the future this will be a logical operation matching Series.__or__.  Use index.union(other) instead.\n",
      "  index = joiner(matching_indexes)\n",
      "38it [00:14,  1.62it/s]x:\\user\\dekkerm\\environments\\MyEnv2\\lib\\site-packages\\xarray\\core\\alignment.py:307: FutureWarning: Index.__or__ operating as a set operation is deprecated, in the future this will be a logical operation matching Series.__or__.  Use index.union(other) instead.\n",
      "  index = joiner(matching_indexes)\n",
      "39it [00:15,  1.43it/s]x:\\user\\dekkerm\\environments\\MyEnv2\\lib\\site-packages\\xarray\\core\\alignment.py:307: FutureWarning: Index.__or__ operating as a set operation is deprecated, in the future this will be a logical operation matching Series.__or__.  Use index.union(other) instead.\n",
      "  index = joiner(matching_indexes)\n",
      "40it [00:16,  1.43it/s]x:\\user\\dekkerm\\environments\\MyEnv2\\lib\\site-packages\\xarray\\core\\alignment.py:307: FutureWarning: Index.__or__ operating as a set operation is deprecated, in the future this will be a logical operation matching Series.__or__.  Use index.union(other) instead.\n",
      "  index = joiner(matching_indexes)\n",
      "41it [00:16,  1.42it/s]x:\\user\\dekkerm\\environments\\MyEnv2\\lib\\site-packages\\xarray\\core\\alignment.py:307: FutureWarning: Index.__or__ operating as a set operation is deprecated, in the future this will be a logical operation matching Series.__or__.  Use index.union(other) instead.\n",
      "  index = joiner(matching_indexes)\n",
      "42it [00:17,  1.42it/s]x:\\user\\dekkerm\\environments\\MyEnv2\\lib\\site-packages\\xarray\\core\\alignment.py:307: FutureWarning: Index.__or__ operating as a set operation is deprecated, in the future this will be a logical operation matching Series.__or__.  Use index.union(other) instead.\n",
      "  index = joiner(matching_indexes)\n",
      "43it [00:18,  1.43it/s]x:\\user\\dekkerm\\environments\\MyEnv2\\lib\\site-packages\\xarray\\core\\alignment.py:307: FutureWarning: Index.__or__ operating as a set operation is deprecated, in the future this will be a logical operation matching Series.__or__.  Use index.union(other) instead.\n",
      "  index = joiner(matching_indexes)\n",
      "44it [00:18,  1.42it/s]x:\\user\\dekkerm\\environments\\MyEnv2\\lib\\site-packages\\xarray\\core\\alignment.py:307: FutureWarning: Index.__or__ operating as a set operation is deprecated, in the future this will be a logical operation matching Series.__or__.  Use index.union(other) instead.\n",
      "  index = joiner(matching_indexes)\n",
      "45it [00:19,  1.40it/s]x:\\user\\dekkerm\\environments\\MyEnv2\\lib\\site-packages\\xarray\\core\\alignment.py:307: FutureWarning: Index.__or__ operating as a set operation is deprecated, in the future this will be a logical operation matching Series.__or__.  Use index.union(other) instead.\n",
      "  index = joiner(matching_indexes)\n",
      "46it [00:20,  1.39it/s]x:\\user\\dekkerm\\environments\\MyEnv2\\lib\\site-packages\\xarray\\core\\alignment.py:307: FutureWarning: Index.__or__ operating as a set operation is deprecated, in the future this will be a logical operation matching Series.__or__.  Use index.union(other) instead.\n",
      "  index = joiner(matching_indexes)\n",
      "47it [00:21,  1.39it/s]x:\\user\\dekkerm\\environments\\MyEnv2\\lib\\site-packages\\xarray\\core\\alignment.py:307: FutureWarning: Index.__or__ operating as a set operation is deprecated, in the future this will be a logical operation matching Series.__or__.  Use index.union(other) instead.\n",
      "  index = joiner(matching_indexes)\n",
      "48it [00:21,  1.38it/s]x:\\user\\dekkerm\\environments\\MyEnv2\\lib\\site-packages\\xarray\\core\\alignment.py:307: FutureWarning: Index.__or__ operating as a set operation is deprecated, in the future this will be a logical operation matching Series.__or__.  Use index.union(other) instead.\n",
      "  index = joiner(matching_indexes)\n",
      "49it [00:22,  1.31it/s]x:\\user\\dekkerm\\environments\\MyEnv2\\lib\\site-packages\\xarray\\core\\alignment.py:307: FutureWarning: Index.__or__ operating as a set operation is deprecated, in the future this will be a logical operation matching Series.__or__.  Use index.union(other) instead.\n",
      "  index = joiner(matching_indexes)\n",
      "50it [00:23,  1.21it/s]x:\\user\\dekkerm\\environments\\MyEnv2\\lib\\site-packages\\xarray\\core\\alignment.py:307: FutureWarning: Index.__or__ operating as a set operation is deprecated, in the future this will be a logical operation matching Series.__or__.  Use index.union(other) instead.\n",
      "  index = joiner(matching_indexes)\n",
      "51it [00:24,  1.20it/s]x:\\user\\dekkerm\\environments\\MyEnv2\\lib\\site-packages\\xarray\\core\\alignment.py:307: FutureWarning: Index.__or__ operating as a set operation is deprecated, in the future this will be a logical operation matching Series.__or__.  Use index.union(other) instead.\n",
      "  index = joiner(matching_indexes)\n",
      "52it [00:25,  1.16it/s]x:\\user\\dekkerm\\environments\\MyEnv2\\lib\\site-packages\\xarray\\core\\alignment.py:307: FutureWarning: Index.__or__ operating as a set operation is deprecated, in the future this will be a logical operation matching Series.__or__.  Use index.union(other) instead.\n",
      "  index = joiner(matching_indexes)\n",
      "53it [00:26,  1.13it/s]x:\\user\\dekkerm\\environments\\MyEnv2\\lib\\site-packages\\xarray\\core\\alignment.py:307: FutureWarning: Index.__or__ operating as a set operation is deprecated, in the future this will be a logical operation matching Series.__or__.  Use index.union(other) instead.\n",
      "  index = joiner(matching_indexes)\n",
      "54it [00:27,  1.09it/s]x:\\user\\dekkerm\\environments\\MyEnv2\\lib\\site-packages\\xarray\\core\\alignment.py:307: FutureWarning: Index.__or__ operating as a set operation is deprecated, in the future this will be a logical operation matching Series.__or__.  Use index.union(other) instead.\n",
      "  index = joiner(matching_indexes)\n",
      "55it [00:28,  1.04it/s]x:\\user\\dekkerm\\environments\\MyEnv2\\lib\\site-packages\\xarray\\core\\alignment.py:307: FutureWarning: Index.__or__ operating as a set operation is deprecated, in the future this will be a logical operation matching Series.__or__.  Use index.union(other) instead.\n",
      "  index = joiner(matching_indexes)\n",
      "56it [00:29,  1.01it/s]x:\\user\\dekkerm\\environments\\MyEnv2\\lib\\site-packages\\xarray\\core\\alignment.py:307: FutureWarning: Index.__or__ operating as a set operation is deprecated, in the future this will be a logical operation matching Series.__or__.  Use index.union(other) instead.\n",
      "  index = joiner(matching_indexes)\n",
      "57it [00:30,  1.01s/it]x:\\user\\dekkerm\\environments\\MyEnv2\\lib\\site-packages\\xarray\\core\\alignment.py:307: FutureWarning: Index.__or__ operating as a set operation is deprecated, in the future this will be a logical operation matching Series.__or__.  Use index.union(other) instead.\n",
      "  index = joiner(matching_indexes)\n",
      "58it [00:31,  1.00it/s]x:\\user\\dekkerm\\environments\\MyEnv2\\lib\\site-packages\\xarray\\core\\alignment.py:307: FutureWarning: Index.__or__ operating as a set operation is deprecated, in the future this will be a logical operation matching Series.__or__.  Use index.union(other) instead.\n",
      "  index = joiner(matching_indexes)\n",
      "59it [00:32,  1.06s/it]x:\\user\\dekkerm\\environments\\MyEnv2\\lib\\site-packages\\xarray\\core\\alignment.py:307: FutureWarning: Index.__or__ operating as a set operation is deprecated, in the future this will be a logical operation matching Series.__or__.  Use index.union(other) instead.\n",
      "  index = joiner(matching_indexes)\n",
      "60it [00:33,  1.12s/it]x:\\user\\dekkerm\\environments\\MyEnv2\\lib\\site-packages\\xarray\\core\\alignment.py:307: FutureWarning: Index.__or__ operating as a set operation is deprecated, in the future this will be a logical operation matching Series.__or__.  Use index.union(other) instead.\n",
      "  index = joiner(matching_indexes)\n",
      "61it [00:35,  1.14s/it]x:\\user\\dekkerm\\environments\\MyEnv2\\lib\\site-packages\\xarray\\core\\alignment.py:307: FutureWarning: Index.__or__ operating as a set operation is deprecated, in the future this will be a logical operation matching Series.__or__.  Use index.union(other) instead.\n",
      "  index = joiner(matching_indexes)\n",
      "62it [00:36,  1.13s/it]x:\\user\\dekkerm\\environments\\MyEnv2\\lib\\site-packages\\xarray\\core\\alignment.py:307: FutureWarning: Index.__or__ operating as a set operation is deprecated, in the future this will be a logical operation matching Series.__or__.  Use index.union(other) instead.\n",
      "  index = joiner(matching_indexes)\n",
      "63it [00:37,  1.10s/it]x:\\user\\dekkerm\\environments\\MyEnv2\\lib\\site-packages\\xarray\\core\\alignment.py:307: FutureWarning: Index.__or__ operating as a set operation is deprecated, in the future this will be a logical operation matching Series.__or__.  Use index.union(other) instead.\n",
      "  index = joiner(matching_indexes)\n",
      "64it [00:38,  1.07s/it]x:\\user\\dekkerm\\environments\\MyEnv2\\lib\\site-packages\\xarray\\core\\alignment.py:307: FutureWarning: Index.__or__ operating as a set operation is deprecated, in the future this will be a logical operation matching Series.__or__.  Use index.union(other) instead.\n",
      "  index = joiner(matching_indexes)\n",
      "65it [00:39,  1.04s/it]x:\\user\\dekkerm\\environments\\MyEnv2\\lib\\site-packages\\xarray\\core\\alignment.py:307: FutureWarning: Index.__or__ operating as a set operation is deprecated, in the future this will be a logical operation matching Series.__or__.  Use index.union(other) instead.\n",
      "  index = joiner(matching_indexes)\n",
      "66it [00:40,  1.07s/it]x:\\user\\dekkerm\\environments\\MyEnv2\\lib\\site-packages\\xarray\\core\\alignment.py:307: FutureWarning: Index.__or__ operating as a set operation is deprecated, in the future this will be a logical operation matching Series.__or__.  Use index.union(other) instead.\n",
      "  index = joiner(matching_indexes)\n",
      "67it [00:41,  1.09s/it]x:\\user\\dekkerm\\environments\\MyEnv2\\lib\\site-packages\\xarray\\core\\alignment.py:307: FutureWarning: Index.__or__ operating as a set operation is deprecated, in the future this will be a logical operation matching Series.__or__.  Use index.union(other) instead.\n",
      "  index = joiner(matching_indexes)\n",
      "68it [00:42,  1.09s/it]x:\\user\\dekkerm\\environments\\MyEnv2\\lib\\site-packages\\xarray\\core\\alignment.py:307: FutureWarning: Index.__or__ operating as a set operation is deprecated, in the future this will be a logical operation matching Series.__or__.  Use index.union(other) instead.\n",
      "  index = joiner(matching_indexes)\n",
      "69it [00:43,  1.12s/it]x:\\user\\dekkerm\\environments\\MyEnv2\\lib\\site-packages\\xarray\\core\\alignment.py:307: FutureWarning: Index.__or__ operating as a set operation is deprecated, in the future this will be a logical operation matching Series.__or__.  Use index.union(other) instead.\n",
      "  index = joiner(matching_indexes)\n",
      "70it [00:44,  1.14s/it]x:\\user\\dekkerm\\environments\\MyEnv2\\lib\\site-packages\\xarray\\core\\alignment.py:307: FutureWarning: Index.__or__ operating as a set operation is deprecated, in the future this will be a logical operation matching Series.__or__.  Use index.union(other) instead.\n",
      "  index = joiner(matching_indexes)\n",
      "71it [00:46,  1.14s/it]x:\\user\\dekkerm\\environments\\MyEnv2\\lib\\site-packages\\xarray\\core\\alignment.py:307: FutureWarning: Index.__or__ operating as a set operation is deprecated, in the future this will be a logical operation matching Series.__or__.  Use index.union(other) instead.\n",
      "  index = joiner(matching_indexes)\n",
      "72it [00:47,  1.17s/it]x:\\user\\dekkerm\\environments\\MyEnv2\\lib\\site-packages\\xarray\\core\\alignment.py:307: FutureWarning: Index.__or__ operating as a set operation is deprecated, in the future this will be a logical operation matching Series.__or__.  Use index.union(other) instead.\n",
      "  index = joiner(matching_indexes)\n",
      "73it [00:48,  1.21s/it]x:\\user\\dekkerm\\environments\\MyEnv2\\lib\\site-packages\\xarray\\core\\alignment.py:307: FutureWarning: Index.__or__ operating as a set operation is deprecated, in the future this will be a logical operation matching Series.__or__.  Use index.union(other) instead.\n",
      "  index = joiner(matching_indexes)\n",
      "74it [00:50,  1.26s/it]x:\\user\\dekkerm\\environments\\MyEnv2\\lib\\site-packages\\xarray\\core\\alignment.py:307: FutureWarning: Index.__or__ operating as a set operation is deprecated, in the future this will be a logical operation matching Series.__or__.  Use index.union(other) instead.\n",
      "  index = joiner(matching_indexes)\n",
      "75it [00:51,  1.25s/it]x:\\user\\dekkerm\\environments\\MyEnv2\\lib\\site-packages\\xarray\\core\\alignment.py:307: FutureWarning: Index.__or__ operating as a set operation is deprecated, in the future this will be a logical operation matching Series.__or__.  Use index.union(other) instead.\n",
      "  index = joiner(matching_indexes)\n",
      "76it [00:52,  1.24s/it]x:\\user\\dekkerm\\environments\\MyEnv2\\lib\\site-packages\\xarray\\core\\alignment.py:307: FutureWarning: Index.__or__ operating as a set operation is deprecated, in the future this will be a logical operation matching Series.__or__.  Use index.union(other) instead.\n",
      "  index = joiner(matching_indexes)\n",
      "77it [00:53,  1.23s/it]x:\\user\\dekkerm\\environments\\MyEnv2\\lib\\site-packages\\xarray\\core\\alignment.py:307: FutureWarning: Index.__or__ operating as a set operation is deprecated, in the future this will be a logical operation matching Series.__or__.  Use index.union(other) instead.\n",
      "  index = joiner(matching_indexes)\n",
      "78it [00:54,  1.21s/it]x:\\user\\dekkerm\\environments\\MyEnv2\\lib\\site-packages\\xarray\\core\\alignment.py:307: FutureWarning: Index.__or__ operating as a set operation is deprecated, in the future this will be a logical operation matching Series.__or__.  Use index.union(other) instead.\n",
      "  index = joiner(matching_indexes)\n",
      "79it [00:56,  1.21s/it]x:\\user\\dekkerm\\environments\\MyEnv2\\lib\\site-packages\\xarray\\core\\alignment.py:307: FutureWarning: Index.__or__ operating as a set operation is deprecated, in the future this will be a logical operation matching Series.__or__.  Use index.union(other) instead.\n",
      "  index = joiner(matching_indexes)\n",
      "80it [00:57,  1.19s/it]x:\\user\\dekkerm\\environments\\MyEnv2\\lib\\site-packages\\xarray\\core\\alignment.py:307: FutureWarning: Index.__or__ operating as a set operation is deprecated, in the future this will be a logical operation matching Series.__or__.  Use index.union(other) instead.\n",
      "  index = joiner(matching_indexes)\n",
      "81it [00:58,  1.18s/it]x:\\user\\dekkerm\\environments\\MyEnv2\\lib\\site-packages\\xarray\\core\\alignment.py:307: FutureWarning: Index.__or__ operating as a set operation is deprecated, in the future this will be a logical operation matching Series.__or__.  Use index.union(other) instead.\n",
      "  index = joiner(matching_indexes)\n",
      "82it [00:59,  1.18s/it]x:\\user\\dekkerm\\environments\\MyEnv2\\lib\\site-packages\\xarray\\core\\alignment.py:307: FutureWarning: Index.__or__ operating as a set operation is deprecated, in the future this will be a logical operation matching Series.__or__.  Use index.union(other) instead.\n",
      "  index = joiner(matching_indexes)\n",
      "83it [01:00,  1.18s/it]x:\\user\\dekkerm\\environments\\MyEnv2\\lib\\site-packages\\xarray\\core\\alignment.py:307: FutureWarning: Index.__or__ operating as a set operation is deprecated, in the future this will be a logical operation matching Series.__or__.  Use index.union(other) instead.\n",
      "  index = joiner(matching_indexes)\n",
      "84it [01:01,  1.19s/it]x:\\user\\dekkerm\\environments\\MyEnv2\\lib\\site-packages\\xarray\\core\\alignment.py:307: FutureWarning: Index.__or__ operating as a set operation is deprecated, in the future this will be a logical operation matching Series.__or__.  Use index.union(other) instead.\n",
      "  index = joiner(matching_indexes)\n",
      "85it [01:03,  1.26s/it]x:\\user\\dekkerm\\environments\\MyEnv2\\lib\\site-packages\\xarray\\core\\alignment.py:307: FutureWarning: Index.__or__ operating as a set operation is deprecated, in the future this will be a logical operation matching Series.__or__.  Use index.union(other) instead.\n",
      "  index = joiner(matching_indexes)\n",
      "86it [01:04,  1.25s/it]x:\\user\\dekkerm\\environments\\MyEnv2\\lib\\site-packages\\xarray\\core\\alignment.py:307: FutureWarning: Index.__or__ operating as a set operation is deprecated, in the future this will be a logical operation matching Series.__or__.  Use index.union(other) instead.\n",
      "  index = joiner(matching_indexes)\n",
      "87it [01:05,  1.24s/it]x:\\user\\dekkerm\\environments\\MyEnv2\\lib\\site-packages\\xarray\\core\\alignment.py:307: FutureWarning: Index.__or__ operating as a set operation is deprecated, in the future this will be a logical operation matching Series.__or__.  Use index.union(other) instead.\n",
      "  index = joiner(matching_indexes)\n",
      "88it [01:07,  1.24s/it]x:\\user\\dekkerm\\environments\\MyEnv2\\lib\\site-packages\\xarray\\core\\alignment.py:307: FutureWarning: Index.__or__ operating as a set operation is deprecated, in the future this will be a logical operation matching Series.__or__.  Use index.union(other) instead.\n",
      "  index = joiner(matching_indexes)\n",
      "89it [01:08,  1.23s/it]x:\\user\\dekkerm\\environments\\MyEnv2\\lib\\site-packages\\xarray\\core\\alignment.py:307: FutureWarning: Index.__or__ operating as a set operation is deprecated, in the future this will be a logical operation matching Series.__or__.  Use index.union(other) instead.\n",
      "  index = joiner(matching_indexes)\n",
      "90it [01:09,  1.23s/it]x:\\user\\dekkerm\\environments\\MyEnv2\\lib\\site-packages\\xarray\\core\\alignment.py:307: FutureWarning: Index.__or__ operating as a set operation is deprecated, in the future this will be a logical operation matching Series.__or__.  Use index.union(other) instead.\n",
      "  index = joiner(matching_indexes)\n",
      "91it [01:10,  1.23s/it]x:\\user\\dekkerm\\environments\\MyEnv2\\lib\\site-packages\\xarray\\core\\alignment.py:307: FutureWarning: Index.__or__ operating as a set operation is deprecated, in the future this will be a logical operation matching Series.__or__.  Use index.union(other) instead.\n",
      "  index = joiner(matching_indexes)\n",
      "92it [01:12,  1.25s/it]x:\\user\\dekkerm\\environments\\MyEnv2\\lib\\site-packages\\xarray\\core\\alignment.py:307: FutureWarning: Index.__or__ operating as a set operation is deprecated, in the future this will be a logical operation matching Series.__or__.  Use index.union(other) instead.\n",
      "  index = joiner(matching_indexes)\n",
      "93it [01:13,  1.27s/it]x:\\user\\dekkerm\\environments\\MyEnv2\\lib\\site-packages\\xarray\\core\\alignment.py:307: FutureWarning: Index.__or__ operating as a set operation is deprecated, in the future this will be a logical operation matching Series.__or__.  Use index.union(other) instead.\n",
      "  index = joiner(matching_indexes)\n",
      "94it [01:14,  1.27s/it]x:\\user\\dekkerm\\environments\\MyEnv2\\lib\\site-packages\\xarray\\core\\alignment.py:307: FutureWarning: Index.__or__ operating as a set operation is deprecated, in the future this will be a logical operation matching Series.__or__.  Use index.union(other) instead.\n",
      "  index = joiner(matching_indexes)\n",
      "95it [01:15,  1.30s/it]x:\\user\\dekkerm\\environments\\MyEnv2\\lib\\site-packages\\xarray\\core\\alignment.py:307: FutureWarning: Index.__or__ operating as a set operation is deprecated, in the future this will be a logical operation matching Series.__or__.  Use index.union(other) instead.\n",
      "  index = joiner(matching_indexes)\n",
      "96it [01:17,  1.30s/it]x:\\user\\dekkerm\\environments\\MyEnv2\\lib\\site-packages\\xarray\\core\\alignment.py:307: FutureWarning: Index.__or__ operating as a set operation is deprecated, in the future this will be a logical operation matching Series.__or__.  Use index.union(other) instead.\n",
      "  index = joiner(matching_indexes)\n",
      "97it [01:18,  1.31s/it]x:\\user\\dekkerm\\environments\\MyEnv2\\lib\\site-packages\\xarray\\core\\alignment.py:307: FutureWarning: Index.__or__ operating as a set operation is deprecated, in the future this will be a logical operation matching Series.__or__.  Use index.union(other) instead.\n",
      "  index = joiner(matching_indexes)\n",
      "98it [01:19,  1.32s/it]x:\\user\\dekkerm\\environments\\MyEnv2\\lib\\site-packages\\xarray\\core\\alignment.py:307: FutureWarning: Index.__or__ operating as a set operation is deprecated, in the future this will be a logical operation matching Series.__or__.  Use index.union(other) instead.\n",
      "  index = joiner(matching_indexes)\n",
      "99it [01:21,  1.32s/it]x:\\user\\dekkerm\\environments\\MyEnv2\\lib\\site-packages\\xarray\\core\\alignment.py:307: FutureWarning: Index.__or__ operating as a set operation is deprecated, in the future this will be a logical operation matching Series.__or__.  Use index.union(other) instead.\n",
      "  index = joiner(matching_indexes)\n",
      "100it [01:22,  1.32s/it]x:\\user\\dekkerm\\environments\\MyEnv2\\lib\\site-packages\\xarray\\core\\alignment.py:307: FutureWarning: Index.__or__ operating as a set operation is deprecated, in the future this will be a logical operation matching Series.__or__.  Use index.union(other) instead.\n",
      "  index = joiner(matching_indexes)\n",
      "101it [01:23,  1.34s/it]x:\\user\\dekkerm\\environments\\MyEnv2\\lib\\site-packages\\xarray\\core\\alignment.py:307: FutureWarning: Index.__or__ operating as a set operation is deprecated, in the future this will be a logical operation matching Series.__or__.  Use index.union(other) instead.\n",
      "  index = joiner(matching_indexes)\n",
      "102it [01:25,  1.34s/it]x:\\user\\dekkerm\\environments\\MyEnv2\\lib\\site-packages\\xarray\\core\\alignment.py:307: FutureWarning: Index.__or__ operating as a set operation is deprecated, in the future this will be a logical operation matching Series.__or__.  Use index.union(other) instead.\n",
      "  index = joiner(matching_indexes)\n",
      "103it [01:26,  1.35s/it]x:\\user\\dekkerm\\environments\\MyEnv2\\lib\\site-packages\\xarray\\core\\alignment.py:307: FutureWarning: Index.__or__ operating as a set operation is deprecated, in the future this will be a logical operation matching Series.__or__.  Use index.union(other) instead.\n",
      "  index = joiner(matching_indexes)\n",
      "104it [01:28,  1.35s/it]x:\\user\\dekkerm\\environments\\MyEnv2\\lib\\site-packages\\xarray\\core\\alignment.py:307: FutureWarning: Index.__or__ operating as a set operation is deprecated, in the future this will be a logical operation matching Series.__or__.  Use index.union(other) instead.\n",
      "  index = joiner(matching_indexes)\n",
      "105it [01:29,  1.36s/it]x:\\user\\dekkerm\\environments\\MyEnv2\\lib\\site-packages\\xarray\\core\\alignment.py:307: FutureWarning: Index.__or__ operating as a set operation is deprecated, in the future this will be a logical operation matching Series.__or__.  Use index.union(other) instead.\n",
      "  index = joiner(matching_indexes)\n",
      "106it [01:30,  1.38s/it]x:\\user\\dekkerm\\environments\\MyEnv2\\lib\\site-packages\\xarray\\core\\alignment.py:307: FutureWarning: Index.__or__ operating as a set operation is deprecated, in the future this will be a logical operation matching Series.__or__.  Use index.union(other) instead.\n",
      "  index = joiner(matching_indexes)\n",
      "107it [01:32,  1.40s/it]x:\\user\\dekkerm\\environments\\MyEnv2\\lib\\site-packages\\xarray\\core\\alignment.py:307: FutureWarning: Index.__or__ operating as a set operation is deprecated, in the future this will be a logical operation matching Series.__or__.  Use index.union(other) instead.\n",
      "  index = joiner(matching_indexes)\n",
      "108it [01:33,  1.41s/it]x:\\user\\dekkerm\\environments\\MyEnv2\\lib\\site-packages\\xarray\\core\\alignment.py:307: FutureWarning: Index.__or__ operating as a set operation is deprecated, in the future this will be a logical operation matching Series.__or__.  Use index.union(other) instead.\n",
      "  index = joiner(matching_indexes)\n",
      "109it [01:35,  1.43s/it]x:\\user\\dekkerm\\environments\\MyEnv2\\lib\\site-packages\\xarray\\core\\alignment.py:307: FutureWarning: Index.__or__ operating as a set operation is deprecated, in the future this will be a logical operation matching Series.__or__.  Use index.union(other) instead.\n",
      "  index = joiner(matching_indexes)\n",
      "110it [01:36,  1.48s/it]x:\\user\\dekkerm\\environments\\MyEnv2\\lib\\site-packages\\xarray\\core\\alignment.py:307: FutureWarning: Index.__or__ operating as a set operation is deprecated, in the future this will be a logical operation matching Series.__or__.  Use index.union(other) instead.\n",
      "  index = joiner(matching_indexes)\n",
      "111it [01:38,  1.47s/it]x:\\user\\dekkerm\\environments\\MyEnv2\\lib\\site-packages\\xarray\\core\\alignment.py:307: FutureWarning: Index.__or__ operating as a set operation is deprecated, in the future this will be a logical operation matching Series.__or__.  Use index.union(other) instead.\n",
      "  index = joiner(matching_indexes)\n",
      "112it [01:39,  1.46s/it]x:\\user\\dekkerm\\environments\\MyEnv2\\lib\\site-packages\\xarray\\core\\alignment.py:307: FutureWarning: Index.__or__ operating as a set operation is deprecated, in the future this will be a logical operation matching Series.__or__.  Use index.union(other) instead.\n",
      "  index = joiner(matching_indexes)\n",
      "113it [01:41,  1.48s/it]x:\\user\\dekkerm\\environments\\MyEnv2\\lib\\site-packages\\xarray\\core\\alignment.py:307: FutureWarning: Index.__or__ operating as a set operation is deprecated, in the future this will be a logical operation matching Series.__or__.  Use index.union(other) instead.\n",
      "  index = joiner(matching_indexes)\n",
      "114it [01:42,  1.48s/it]x:\\user\\dekkerm\\environments\\MyEnv2\\lib\\site-packages\\xarray\\core\\alignment.py:307: FutureWarning: Index.__or__ operating as a set operation is deprecated, in the future this will be a logical operation matching Series.__or__.  Use index.union(other) instead.\n",
      "  index = joiner(matching_indexes)\n",
      "115it [01:44,  1.50s/it]x:\\user\\dekkerm\\environments\\MyEnv2\\lib\\site-packages\\xarray\\core\\alignment.py:307: FutureWarning: Index.__or__ operating as a set operation is deprecated, in the future this will be a logical operation matching Series.__or__.  Use index.union(other) instead.\n",
      "  index = joiner(matching_indexes)\n",
      "116it [01:45,  1.51s/it]x:\\user\\dekkerm\\environments\\MyEnv2\\lib\\site-packages\\xarray\\core\\alignment.py:307: FutureWarning: Index.__or__ operating as a set operation is deprecated, in the future this will be a logical operation matching Series.__or__.  Use index.union(other) instead.\n",
      "  index = joiner(matching_indexes)\n",
      "117it [01:47,  1.55s/it]x:\\user\\dekkerm\\environments\\MyEnv2\\lib\\site-packages\\xarray\\core\\alignment.py:307: FutureWarning: Index.__or__ operating as a set operation is deprecated, in the future this will be a logical operation matching Series.__or__.  Use index.union(other) instead.\n",
      "  index = joiner(matching_indexes)\n",
      "118it [01:48,  1.54s/it]x:\\user\\dekkerm\\environments\\MyEnv2\\lib\\site-packages\\xarray\\core\\alignment.py:307: FutureWarning: Index.__or__ operating as a set operation is deprecated, in the future this will be a logical operation matching Series.__or__.  Use index.union(other) instead.\n",
      "  index = joiner(matching_indexes)\n",
      "119it [01:50,  1.58s/it]x:\\user\\dekkerm\\environments\\MyEnv2\\lib\\site-packages\\xarray\\core\\alignment.py:307: FutureWarning: Index.__or__ operating as a set operation is deprecated, in the future this will be a logical operation matching Series.__or__.  Use index.union(other) instead.\n",
      "  index = joiner(matching_indexes)\n",
      "120it [01:52,  1.56s/it]x:\\user\\dekkerm\\environments\\MyEnv2\\lib\\site-packages\\xarray\\core\\alignment.py:307: FutureWarning: Index.__or__ operating as a set operation is deprecated, in the future this will be a logical operation matching Series.__or__.  Use index.union(other) instead.\n",
      "  index = joiner(matching_indexes)\n",
      "121it [01:53,  1.53s/it]x:\\user\\dekkerm\\environments\\MyEnv2\\lib\\site-packages\\xarray\\core\\alignment.py:307: FutureWarning: Index.__or__ operating as a set operation is deprecated, in the future this will be a logical operation matching Series.__or__.  Use index.union(other) instead.\n",
      "  index = joiner(matching_indexes)\n",
      "122it [01:55,  1.55s/it]x:\\user\\dekkerm\\environments\\MyEnv2\\lib\\site-packages\\xarray\\core\\alignment.py:307: FutureWarning: Index.__or__ operating as a set operation is deprecated, in the future this will be a logical operation matching Series.__or__.  Use index.union(other) instead.\n",
      "  index = joiner(matching_indexes)\n",
      "123it [01:56,  1.58s/it]x:\\user\\dekkerm\\environments\\MyEnv2\\lib\\site-packages\\xarray\\core\\alignment.py:307: FutureWarning: Index.__or__ operating as a set operation is deprecated, in the future this will be a logical operation matching Series.__or__.  Use index.union(other) instead.\n",
      "  index = joiner(matching_indexes)\n",
      "124it [01:58,  1.60s/it]x:\\user\\dekkerm\\environments\\MyEnv2\\lib\\site-packages\\xarray\\core\\alignment.py:307: FutureWarning: Index.__or__ operating as a set operation is deprecated, in the future this will be a logical operation matching Series.__or__.  Use index.union(other) instead.\n",
      "  index = joiner(matching_indexes)\n",
      "125it [02:00,  1.61s/it]x:\\user\\dekkerm\\environments\\MyEnv2\\lib\\site-packages\\xarray\\core\\alignment.py:307: FutureWarning: Index.__or__ operating as a set operation is deprecated, in the future this will be a logical operation matching Series.__or__.  Use index.union(other) instead.\n",
      "  index = joiner(matching_indexes)\n",
      "126it [02:01,  1.63s/it]x:\\user\\dekkerm\\environments\\MyEnv2\\lib\\site-packages\\xarray\\core\\alignment.py:307: FutureWarning: Index.__or__ operating as a set operation is deprecated, in the future this will be a logical operation matching Series.__or__.  Use index.union(other) instead.\n",
      "  index = joiner(matching_indexes)\n",
      "127it [02:03,  1.64s/it]x:\\user\\dekkerm\\environments\\MyEnv2\\lib\\site-packages\\xarray\\core\\alignment.py:307: FutureWarning: Index.__or__ operating as a set operation is deprecated, in the future this will be a logical operation matching Series.__or__.  Use index.union(other) instead.\n",
      "  index = joiner(matching_indexes)\n",
      "128it [02:05,  1.65s/it]x:\\user\\dekkerm\\environments\\MyEnv2\\lib\\site-packages\\xarray\\core\\alignment.py:307: FutureWarning: Index.__or__ operating as a set operation is deprecated, in the future this will be a logical operation matching Series.__or__.  Use index.union(other) instead.\n",
      "  index = joiner(matching_indexes)\n",
      "129it [02:06,  1.69s/it]x:\\user\\dekkerm\\environments\\MyEnv2\\lib\\site-packages\\xarray\\core\\alignment.py:307: FutureWarning: Index.__or__ operating as a set operation is deprecated, in the future this will be a logical operation matching Series.__or__.  Use index.union(other) instead.\n",
      "  index = joiner(matching_indexes)\n",
      "130it [02:08,  1.70s/it]x:\\user\\dekkerm\\environments\\MyEnv2\\lib\\site-packages\\xarray\\core\\alignment.py:307: FutureWarning: Index.__or__ operating as a set operation is deprecated, in the future this will be a logical operation matching Series.__or__.  Use index.union(other) instead.\n",
      "  index = joiner(matching_indexes)\n",
      "131it [02:10,  1.71s/it]x:\\user\\dekkerm\\environments\\MyEnv2\\lib\\site-packages\\xarray\\core\\alignment.py:307: FutureWarning: Index.__or__ operating as a set operation is deprecated, in the future this will be a logical operation matching Series.__or__.  Use index.union(other) instead.\n",
      "  index = joiner(matching_indexes)\n",
      "132it [02:12,  1.72s/it]x:\\user\\dekkerm\\environments\\MyEnv2\\lib\\site-packages\\xarray\\core\\alignment.py:307: FutureWarning: Index.__or__ operating as a set operation is deprecated, in the future this will be a logical operation matching Series.__or__.  Use index.union(other) instead.\n",
      "  index = joiner(matching_indexes)\n",
      "133it [02:13,  1.71s/it]x:\\user\\dekkerm\\environments\\MyEnv2\\lib\\site-packages\\xarray\\core\\alignment.py:307: FutureWarning: Index.__or__ operating as a set operation is deprecated, in the future this will be a logical operation matching Series.__or__.  Use index.union(other) instead.\n",
      "  index = joiner(matching_indexes)\n",
      "134it [02:15,  1.70s/it]x:\\user\\dekkerm\\environments\\MyEnv2\\lib\\site-packages\\xarray\\core\\alignment.py:307: FutureWarning: Index.__or__ operating as a set operation is deprecated, in the future this will be a logical operation matching Series.__or__.  Use index.union(other) instead.\n",
      "  index = joiner(matching_indexes)\n",
      "135it [02:17,  1.71s/it]x:\\user\\dekkerm\\environments\\MyEnv2\\lib\\site-packages\\xarray\\core\\alignment.py:307: FutureWarning: Index.__or__ operating as a set operation is deprecated, in the future this will be a logical operation matching Series.__or__.  Use index.union(other) instead.\n",
      "  index = joiner(matching_indexes)\n",
      "136it [02:18,  1.65s/it]x:\\user\\dekkerm\\environments\\MyEnv2\\lib\\site-packages\\xarray\\core\\alignment.py:307: FutureWarning: Index.__or__ operating as a set operation is deprecated, in the future this will be a logical operation matching Series.__or__.  Use index.union(other) instead.\n",
      "  index = joiner(matching_indexes)\n",
      "137it [02:20,  1.61s/it]x:\\user\\dekkerm\\environments\\MyEnv2\\lib\\site-packages\\xarray\\core\\alignment.py:307: FutureWarning: Index.__or__ operating as a set operation is deprecated, in the future this will be a logical operation matching Series.__or__.  Use index.union(other) instead.\n",
      "  index = joiner(matching_indexes)\n",
      "138it [02:21,  1.65s/it]x:\\user\\dekkerm\\environments\\MyEnv2\\lib\\site-packages\\xarray\\core\\alignment.py:307: FutureWarning: Index.__or__ operating as a set operation is deprecated, in the future this will be a logical operation matching Series.__or__.  Use index.union(other) instead.\n",
      "  index = joiner(matching_indexes)\n",
      "139it [02:23,  1.70s/it]x:\\user\\dekkerm\\environments\\MyEnv2\\lib\\site-packages\\xarray\\core\\alignment.py:307: FutureWarning: Index.__or__ operating as a set operation is deprecated, in the future this will be a logical operation matching Series.__or__.  Use index.union(other) instead.\n",
      "  index = joiner(matching_indexes)\n",
      "140it [02:25,  1.73s/it]x:\\user\\dekkerm\\environments\\MyEnv2\\lib\\site-packages\\xarray\\core\\alignment.py:307: FutureWarning: Index.__or__ operating as a set operation is deprecated, in the future this will be a logical operation matching Series.__or__.  Use index.union(other) instead.\n",
      "  index = joiner(matching_indexes)\n",
      "141it [02:27,  1.72s/it]x:\\user\\dekkerm\\environments\\MyEnv2\\lib\\site-packages\\xarray\\core\\alignment.py:307: FutureWarning: Index.__or__ operating as a set operation is deprecated, in the future this will be a logical operation matching Series.__or__.  Use index.union(other) instead.\n",
      "  index = joiner(matching_indexes)\n",
      "142it [02:28,  1.68s/it]x:\\user\\dekkerm\\environments\\MyEnv2\\lib\\site-packages\\xarray\\core\\alignment.py:307: FutureWarning: Index.__or__ operating as a set operation is deprecated, in the future this will be a logical operation matching Series.__or__.  Use index.union(other) instead.\n",
      "  index = joiner(matching_indexes)\n",
      "143it [02:30,  1.64s/it]x:\\user\\dekkerm\\environments\\MyEnv2\\lib\\site-packages\\xarray\\core\\alignment.py:307: FutureWarning: Index.__or__ operating as a set operation is deprecated, in the future this will be a logical operation matching Series.__or__.  Use index.union(other) instead.\n",
      "  index = joiner(matching_indexes)\n",
      "144it [02:31,  1.60s/it]x:\\user\\dekkerm\\environments\\MyEnv2\\lib\\site-packages\\xarray\\core\\alignment.py:307: FutureWarning: Index.__or__ operating as a set operation is deprecated, in the future this will be a logical operation matching Series.__or__.  Use index.union(other) instead.\n",
      "  index = joiner(matching_indexes)\n",
      "145it [02:33,  1.55s/it]x:\\user\\dekkerm\\environments\\MyEnv2\\lib\\site-packages\\xarray\\core\\alignment.py:307: FutureWarning: Index.__or__ operating as a set operation is deprecated, in the future this will be a logical operation matching Series.__or__.  Use index.union(other) instead.\n",
      "  index = joiner(matching_indexes)\n",
      "146it [02:34,  1.53s/it]x:\\user\\dekkerm\\environments\\MyEnv2\\lib\\site-packages\\xarray\\core\\alignment.py:307: FutureWarning: Index.__or__ operating as a set operation is deprecated, in the future this will be a logical operation matching Series.__or__.  Use index.union(other) instead.\n",
      "  index = joiner(matching_indexes)\n",
      "147it [02:36,  1.51s/it]x:\\user\\dekkerm\\environments\\MyEnv2\\lib\\site-packages\\xarray\\core\\alignment.py:307: FutureWarning: Index.__or__ operating as a set operation is deprecated, in the future this will be a logical operation matching Series.__or__.  Use index.union(other) instead.\n",
      "  index = joiner(matching_indexes)\n",
      "148it [02:37,  1.52s/it]x:\\user\\dekkerm\\environments\\MyEnv2\\lib\\site-packages\\xarray\\core\\alignment.py:307: FutureWarning: Index.__or__ operating as a set operation is deprecated, in the future this will be a logical operation matching Series.__or__.  Use index.union(other) instead.\n",
      "  index = joiner(matching_indexes)\n",
      "149it [02:39,  1.54s/it]x:\\user\\dekkerm\\environments\\MyEnv2\\lib\\site-packages\\xarray\\core\\alignment.py:307: FutureWarning: Index.__or__ operating as a set operation is deprecated, in the future this will be a logical operation matching Series.__or__.  Use index.union(other) instead.\n",
      "  index = joiner(matching_indexes)\n",
      "150it [02:40,  1.50s/it]x:\\user\\dekkerm\\environments\\MyEnv2\\lib\\site-packages\\xarray\\core\\alignment.py:307: FutureWarning: Index.__or__ operating as a set operation is deprecated, in the future this will be a logical operation matching Series.__or__.  Use index.union(other) instead.\n",
      "  index = joiner(matching_indexes)\n",
      "151it [02:42,  1.49s/it]x:\\user\\dekkerm\\environments\\MyEnv2\\lib\\site-packages\\xarray\\core\\alignment.py:307: FutureWarning: Index.__or__ operating as a set operation is deprecated, in the future this will be a logical operation matching Series.__or__.  Use index.union(other) instead.\n",
      "  index = joiner(matching_indexes)\n",
      "152it [02:43,  1.51s/it]x:\\user\\dekkerm\\environments\\MyEnv2\\lib\\site-packages\\xarray\\core\\alignment.py:307: FutureWarning: Index.__or__ operating as a set operation is deprecated, in the future this will be a logical operation matching Series.__or__.  Use index.union(other) instead.\n",
      "  index = joiner(matching_indexes)\n",
      "153it [02:45,  1.54s/it]x:\\user\\dekkerm\\environments\\MyEnv2\\lib\\site-packages\\xarray\\core\\alignment.py:307: FutureWarning: Index.__or__ operating as a set operation is deprecated, in the future this will be a logical operation matching Series.__or__.  Use index.union(other) instead.\n",
      "  index = joiner(matching_indexes)\n",
      "154it [02:49,  2.26s/it]x:\\user\\dekkerm\\environments\\MyEnv2\\lib\\site-packages\\xarray\\core\\alignment.py:307: FutureWarning: Index.__or__ operating as a set operation is deprecated, in the future this will be a logical operation matching Series.__or__.  Use index.union(other) instead.\n",
      "  index = joiner(matching_indexes)\n",
      "155it [02:51,  2.33s/it]x:\\user\\dekkerm\\environments\\MyEnv2\\lib\\site-packages\\xarray\\core\\alignment.py:307: FutureWarning: Index.__or__ operating as a set operation is deprecated, in the future this will be a logical operation matching Series.__or__.  Use index.union(other) instead.\n",
      "  index = joiner(matching_indexes)\n",
      "156it [02:54,  2.37s/it]x:\\user\\dekkerm\\environments\\MyEnv2\\lib\\site-packages\\xarray\\core\\alignment.py:307: FutureWarning: Index.__or__ operating as a set operation is deprecated, in the future this will be a logical operation matching Series.__or__.  Use index.union(other) instead.\n",
      "  index = joiner(matching_indexes)\n",
      "157it [02:56,  2.35s/it]x:\\user\\dekkerm\\environments\\MyEnv2\\lib\\site-packages\\xarray\\core\\alignment.py:307: FutureWarning: Index.__or__ operating as a set operation is deprecated, in the future this will be a logical operation matching Series.__or__.  Use index.union(other) instead.\n",
      "  index = joiner(matching_indexes)\n",
      "158it [02:58,  2.22s/it]x:\\user\\dekkerm\\environments\\MyEnv2\\lib\\site-packages\\xarray\\core\\alignment.py:307: FutureWarning: Index.__or__ operating as a set operation is deprecated, in the future this will be a logical operation matching Series.__or__.  Use index.union(other) instead.\n",
      "  index = joiner(matching_indexes)\n",
      "159it [03:00,  2.12s/it]x:\\user\\dekkerm\\environments\\MyEnv2\\lib\\site-packages\\xarray\\core\\alignment.py:307: FutureWarning: Index.__or__ operating as a set operation is deprecated, in the future this will be a logical operation matching Series.__or__.  Use index.union(other) instead.\n",
      "  index = joiner(matching_indexes)\n",
      "160it [03:02,  2.02s/it]x:\\user\\dekkerm\\environments\\MyEnv2\\lib\\site-packages\\xarray\\core\\alignment.py:307: FutureWarning: Index.__or__ operating as a set operation is deprecated, in the future this will be a logical operation matching Series.__or__.  Use index.union(other) instead.\n",
      "  index = joiner(matching_indexes)\n",
      "161it [03:03,  1.91s/it]x:\\user\\dekkerm\\environments\\MyEnv2\\lib\\site-packages\\xarray\\core\\alignment.py:307: FutureWarning: Index.__or__ operating as a set operation is deprecated, in the future this will be a logical operation matching Series.__or__.  Use index.union(other) instead.\n",
      "  index = joiner(matching_indexes)\n",
      "162it [03:05,  1.85s/it]x:\\user\\dekkerm\\environments\\MyEnv2\\lib\\site-packages\\xarray\\core\\alignment.py:307: FutureWarning: Index.__or__ operating as a set operation is deprecated, in the future this will be a logical operation matching Series.__or__.  Use index.union(other) instead.\n",
      "  index = joiner(matching_indexes)\n",
      "163it [03:07,  1.90s/it]x:\\user\\dekkerm\\environments\\MyEnv2\\lib\\site-packages\\xarray\\core\\alignment.py:307: FutureWarning: Index.__or__ operating as a set operation is deprecated, in the future this will be a logical operation matching Series.__or__.  Use index.union(other) instead.\n",
      "  index = joiner(matching_indexes)\n",
      "164it [03:09,  1.87s/it]x:\\user\\dekkerm\\environments\\MyEnv2\\lib\\site-packages\\xarray\\core\\alignment.py:307: FutureWarning: Index.__or__ operating as a set operation is deprecated, in the future this will be a logical operation matching Series.__or__.  Use index.union(other) instead.\n",
      "  index = joiner(matching_indexes)\n",
      "165it [03:11,  1.87s/it]x:\\user\\dekkerm\\environments\\MyEnv2\\lib\\site-packages\\xarray\\core\\alignment.py:307: FutureWarning: Index.__or__ operating as a set operation is deprecated, in the future this will be a logical operation matching Series.__or__.  Use index.union(other) instead.\n",
      "  index = joiner(matching_indexes)\n",
      "166it [03:13,  2.07s/it]x:\\user\\dekkerm\\environments\\MyEnv2\\lib\\site-packages\\xarray\\core\\alignment.py:307: FutureWarning: Index.__or__ operating as a set operation is deprecated, in the future this will be a logical operation matching Series.__or__.  Use index.union(other) instead.\n",
      "  index = joiner(matching_indexes)\n",
      "167it [03:16,  2.14s/it]x:\\user\\dekkerm\\environments\\MyEnv2\\lib\\site-packages\\xarray\\core\\alignment.py:307: FutureWarning: Index.__or__ operating as a set operation is deprecated, in the future this will be a logical operation matching Series.__or__.  Use index.union(other) instead.\n",
      "  index = joiner(matching_indexes)\n",
      "168it [03:18,  2.17s/it]x:\\user\\dekkerm\\environments\\MyEnv2\\lib\\site-packages\\xarray\\core\\alignment.py:307: FutureWarning: Index.__or__ operating as a set operation is deprecated, in the future this will be a logical operation matching Series.__or__.  Use index.union(other) instead.\n",
      "  index = joiner(matching_indexes)\n",
      "169it [03:20,  2.11s/it]x:\\user\\dekkerm\\environments\\MyEnv2\\lib\\site-packages\\xarray\\core\\alignment.py:307: FutureWarning: Index.__or__ operating as a set operation is deprecated, in the future this will be a logical operation matching Series.__or__.  Use index.union(other) instead.\n",
      "  index = joiner(matching_indexes)\n",
      "170it [03:22,  2.01s/it]x:\\user\\dekkerm\\environments\\MyEnv2\\lib\\site-packages\\xarray\\core\\alignment.py:307: FutureWarning: Index.__or__ operating as a set operation is deprecated, in the future this will be a logical operation matching Series.__or__.  Use index.union(other) instead.\n",
      "  index = joiner(matching_indexes)\n",
      "171it [03:27,  2.93s/it]x:\\user\\dekkerm\\environments\\MyEnv2\\lib\\site-packages\\xarray\\core\\alignment.py:307: FutureWarning: Index.__or__ operating as a set operation is deprecated, in the future this will be a logical operation matching Series.__or__.  Use index.union(other) instead.\n",
      "  index = joiner(matching_indexes)\n",
      "172it [03:32,  3.51s/it]x:\\user\\dekkerm\\environments\\MyEnv2\\lib\\site-packages\\xarray\\core\\alignment.py:307: FutureWarning: Index.__or__ operating as a set operation is deprecated, in the future this will be a logical operation matching Series.__or__.  Use index.union(other) instead.\n",
      "  index = joiner(matching_indexes)\n",
      "173it [03:34,  3.32s/it]x:\\user\\dekkerm\\environments\\MyEnv2\\lib\\site-packages\\xarray\\core\\alignment.py:307: FutureWarning: Index.__or__ operating as a set operation is deprecated, in the future this will be a logical operation matching Series.__or__.  Use index.union(other) instead.\n",
      "  index = joiner(matching_indexes)\n",
      "174it [03:37,  3.09s/it]x:\\user\\dekkerm\\environments\\MyEnv2\\lib\\site-packages\\xarray\\core\\alignment.py:307: FutureWarning: Index.__or__ operating as a set operation is deprecated, in the future this will be a logical operation matching Series.__or__.  Use index.union(other) instead.\n",
      "  index = joiner(matching_indexes)\n",
      "175it [03:39,  2.85s/it]x:\\user\\dekkerm\\environments\\MyEnv2\\lib\\site-packages\\xarray\\core\\alignment.py:307: FutureWarning: Index.__or__ operating as a set operation is deprecated, in the future this will be a logical operation matching Series.__or__.  Use index.union(other) instead.\n",
      "  index = joiner(matching_indexes)\n",
      "176it [03:42,  2.81s/it]x:\\user\\dekkerm\\environments\\MyEnv2\\lib\\site-packages\\xarray\\core\\alignment.py:307: FutureWarning: Index.__or__ operating as a set operation is deprecated, in the future this will be a logical operation matching Series.__or__.  Use index.union(other) instead.\n",
      "  index = joiner(matching_indexes)\n",
      "177it [03:44,  2.67s/it]x:\\user\\dekkerm\\environments\\MyEnv2\\lib\\site-packages\\xarray\\core\\alignment.py:307: FutureWarning: Index.__or__ operating as a set operation is deprecated, in the future this will be a logical operation matching Series.__or__.  Use index.union(other) instead.\n",
      "  index = joiner(matching_indexes)\n",
      "178it [03:47,  2.57s/it]x:\\user\\dekkerm\\environments\\MyEnv2\\lib\\site-packages\\xarray\\core\\alignment.py:307: FutureWarning: Index.__or__ operating as a set operation is deprecated, in the future this will be a logical operation matching Series.__or__.  Use index.union(other) instead.\n",
      "  index = joiner(matching_indexes)\n",
      "179it [03:49,  2.47s/it]x:\\user\\dekkerm\\environments\\MyEnv2\\lib\\site-packages\\xarray\\core\\alignment.py:307: FutureWarning: Index.__or__ operating as a set operation is deprecated, in the future this will be a logical operation matching Series.__or__.  Use index.union(other) instead.\n",
      "  index = joiner(matching_indexes)\n",
      "180it [03:51,  2.47s/it]x:\\user\\dekkerm\\environments\\MyEnv2\\lib\\site-packages\\xarray\\core\\alignment.py:307: FutureWarning: Index.__or__ operating as a set operation is deprecated, in the future this will be a logical operation matching Series.__or__.  Use index.union(other) instead.\n",
      "  index = joiner(matching_indexes)\n",
      "181it [03:56,  3.19s/it]x:\\user\\dekkerm\\environments\\MyEnv2\\lib\\site-packages\\xarray\\core\\alignment.py:307: FutureWarning: Index.__or__ operating as a set operation is deprecated, in the future this will be a logical operation matching Series.__or__.  Use index.union(other) instead.\n",
      "  index = joiner(matching_indexes)\n",
      "182it [03:59,  3.20s/it]x:\\user\\dekkerm\\environments\\MyEnv2\\lib\\site-packages\\xarray\\core\\alignment.py:307: FutureWarning: Index.__or__ operating as a set operation is deprecated, in the future this will be a logical operation matching Series.__or__.  Use index.union(other) instead.\n",
      "  index = joiner(matching_indexes)\n",
      "183it [04:02,  2.92s/it]x:\\user\\dekkerm\\environments\\MyEnv2\\lib\\site-packages\\xarray\\core\\alignment.py:307: FutureWarning: Index.__or__ operating as a set operation is deprecated, in the future this will be a logical operation matching Series.__or__.  Use index.union(other) instead.\n",
      "  index = joiner(matching_indexes)\n",
      "184it [04:04,  2.72s/it]x:\\user\\dekkerm\\environments\\MyEnv2\\lib\\site-packages\\xarray\\core\\alignment.py:307: FutureWarning: Index.__or__ operating as a set operation is deprecated, in the future this will be a logical operation matching Series.__or__.  Use index.union(other) instead.\n",
      "  index = joiner(matching_indexes)\n",
      "185it [04:07,  2.76s/it]x:\\user\\dekkerm\\environments\\MyEnv2\\lib\\site-packages\\xarray\\core\\alignment.py:307: FutureWarning: Index.__or__ operating as a set operation is deprecated, in the future this will be a logical operation matching Series.__or__.  Use index.union(other) instead.\n",
      "  index = joiner(matching_indexes)\n",
      "186it [04:10,  2.87s/it]x:\\user\\dekkerm\\environments\\MyEnv2\\lib\\site-packages\\xarray\\core\\alignment.py:307: FutureWarning: Index.__or__ operating as a set operation is deprecated, in the future this will be a logical operation matching Series.__or__.  Use index.union(other) instead.\n",
      "  index = joiner(matching_indexes)\n",
      "187it [04:12,  2.75s/it]x:\\user\\dekkerm\\environments\\MyEnv2\\lib\\site-packages\\xarray\\core\\alignment.py:307: FutureWarning: Index.__or__ operating as a set operation is deprecated, in the future this will be a logical operation matching Series.__or__.  Use index.union(other) instead.\n",
      "  index = joiner(matching_indexes)\n",
      "188it [04:15,  2.64s/it]x:\\user\\dekkerm\\environments\\MyEnv2\\lib\\site-packages\\xarray\\core\\alignment.py:307: FutureWarning: Index.__or__ operating as a set operation is deprecated, in the future this will be a logical operation matching Series.__or__.  Use index.union(other) instead.\n",
      "  index = joiner(matching_indexes)\n",
      "189it [04:18,  2.72s/it]x:\\user\\dekkerm\\environments\\MyEnv2\\lib\\site-packages\\xarray\\core\\alignment.py:307: FutureWarning: Index.__or__ operating as a set operation is deprecated, in the future this will be a logical operation matching Series.__or__.  Use index.union(other) instead.\n",
      "  index = joiner(matching_indexes)\n",
      "190it [04:21,  2.97s/it]x:\\user\\dekkerm\\environments\\MyEnv2\\lib\\site-packages\\xarray\\core\\alignment.py:307: FutureWarning: Index.__or__ operating as a set operation is deprecated, in the future this will be a logical operation matching Series.__or__.  Use index.union(other) instead.\n",
      "  index = joiner(matching_indexes)\n",
      "191it [04:24,  2.93s/it]x:\\user\\dekkerm\\environments\\MyEnv2\\lib\\site-packages\\xarray\\core\\alignment.py:307: FutureWarning: Index.__or__ operating as a set operation is deprecated, in the future this will be a logical operation matching Series.__or__.  Use index.union(other) instead.\n",
      "  index = joiner(matching_indexes)\n",
      "192it [04:27,  2.83s/it]x:\\user\\dekkerm\\environments\\MyEnv2\\lib\\site-packages\\xarray\\core\\alignment.py:307: FutureWarning: Index.__or__ operating as a set operation is deprecated, in the future this will be a logical operation matching Series.__or__.  Use index.union(other) instead.\n",
      "  index = joiner(matching_indexes)\n",
      "193it [04:29,  2.79s/it]x:\\user\\dekkerm\\environments\\MyEnv2\\lib\\site-packages\\xarray\\core\\alignment.py:307: FutureWarning: Index.__or__ operating as a set operation is deprecated, in the future this will be a logical operation matching Series.__or__.  Use index.union(other) instead.\n",
      "  index = joiner(matching_indexes)\n",
      "194it [04:32,  2.70s/it]x:\\user\\dekkerm\\environments\\MyEnv2\\lib\\site-packages\\xarray\\core\\alignment.py:307: FutureWarning: Index.__or__ operating as a set operation is deprecated, in the future this will be a logical operation matching Series.__or__.  Use index.union(other) instead.\n",
      "  index = joiner(matching_indexes)\n",
      "195it [04:34,  2.64s/it]x:\\user\\dekkerm\\environments\\MyEnv2\\lib\\site-packages\\xarray\\core\\alignment.py:307: FutureWarning: Index.__or__ operating as a set operation is deprecated, in the future this will be a logical operation matching Series.__or__.  Use index.union(other) instead.\n",
      "  index = joiner(matching_indexes)\n",
      "196it [04:37,  2.65s/it]x:\\user\\dekkerm\\environments\\MyEnv2\\lib\\site-packages\\xarray\\core\\alignment.py:307: FutureWarning: Index.__or__ operating as a set operation is deprecated, in the future this will be a logical operation matching Series.__or__.  Use index.union(other) instead.\n",
      "  index = joiner(matching_indexes)\n",
      "197it [04:40,  2.63s/it]x:\\user\\dekkerm\\environments\\MyEnv2\\lib\\site-packages\\xarray\\core\\alignment.py:307: FutureWarning: Index.__or__ operating as a set operation is deprecated, in the future this will be a logical operation matching Series.__or__.  Use index.union(other) instead.\n",
      "  index = joiner(matching_indexes)\n",
      "198it [04:42,  2.60s/it]x:\\user\\dekkerm\\environments\\MyEnv2\\lib\\site-packages\\xarray\\core\\alignment.py:307: FutureWarning: Index.__or__ operating as a set operation is deprecated, in the future this will be a logical operation matching Series.__or__.  Use index.union(other) instead.\n",
      "  index = joiner(matching_indexes)\n",
      "199it [04:45,  2.57s/it]x:\\user\\dekkerm\\environments\\MyEnv2\\lib\\site-packages\\xarray\\core\\alignment.py:307: FutureWarning: Index.__or__ operating as a set operation is deprecated, in the future this will be a logical operation matching Series.__or__.  Use index.union(other) instead.\n",
      "  index = joiner(matching_indexes)\n",
      "200it [04:47,  2.56s/it]x:\\user\\dekkerm\\environments\\MyEnv2\\lib\\site-packages\\xarray\\core\\alignment.py:307: FutureWarning: Index.__or__ operating as a set operation is deprecated, in the future this will be a logical operation matching Series.__or__.  Use index.union(other) instead.\n",
      "  index = joiner(matching_indexes)\n",
      "201it [04:50,  2.55s/it]x:\\user\\dekkerm\\environments\\MyEnv2\\lib\\site-packages\\xarray\\core\\alignment.py:307: FutureWarning: Index.__or__ operating as a set operation is deprecated, in the future this will be a logical operation matching Series.__or__.  Use index.union(other) instead.\n",
      "  index = joiner(matching_indexes)\n",
      "202it [04:52,  2.53s/it]x:\\user\\dekkerm\\environments\\MyEnv2\\lib\\site-packages\\xarray\\core\\alignment.py:307: FutureWarning: Index.__or__ operating as a set operation is deprecated, in the future this will be a logical operation matching Series.__or__.  Use index.union(other) instead.\n",
      "  index = joiner(matching_indexes)\n",
      "203it [04:55,  2.63s/it]x:\\user\\dekkerm\\environments\\MyEnv2\\lib\\site-packages\\xarray\\core\\alignment.py:307: FutureWarning: Index.__or__ operating as a set operation is deprecated, in the future this will be a logical operation matching Series.__or__.  Use index.union(other) instead.\n",
      "  index = joiner(matching_indexes)\n",
      "204it [04:58,  2.71s/it]x:\\user\\dekkerm\\environments\\MyEnv2\\lib\\site-packages\\xarray\\core\\alignment.py:307: FutureWarning: Index.__or__ operating as a set operation is deprecated, in the future this will be a logical operation matching Series.__or__.  Use index.union(other) instead.\n",
      "  index = joiner(matching_indexes)\n",
      "205it [05:01,  2.69s/it]x:\\user\\dekkerm\\environments\\MyEnv2\\lib\\site-packages\\xarray\\core\\alignment.py:307: FutureWarning: Index.__or__ operating as a set operation is deprecated, in the future this will be a logical operation matching Series.__or__.  Use index.union(other) instead.\n",
      "  index = joiner(matching_indexes)\n",
      "206it [05:03,  2.66s/it]x:\\user\\dekkerm\\environments\\MyEnv2\\lib\\site-packages\\xarray\\core\\alignment.py:307: FutureWarning: Index.__or__ operating as a set operation is deprecated, in the future this will be a logical operation matching Series.__or__.  Use index.union(other) instead.\n",
      "  index = joiner(matching_indexes)\n",
      "207it [05:06,  1.48s/it]\n"
     ]
    }
   ],
   "source": [
    "for cty_i, cty in tqdm(enumerate(focusregs)):\n",
    "    ds = xr.open_dataset(path_alloc + \"xr_alloc_\"+cty+\".nc\").sel(Time=2035).expand_dims(Region=[cty])\n",
    "    if cty_i == 0:\n",
    "        xrt = ds.copy()\n",
    "    else:\n",
    "        xrt = xr.merge([xrt, ds])\n",
    "    ds.close()\n",
    "xrt.astype(\"float32\").to_netcdf(path_save + \"xr_alloc_2035.nc\", format='NETCDF4')"
   ]
  },
  {
   "cell_type": "markdown",
   "metadata": {},
   "source": [
    "2040 allocations"
   ]
  },
  {
   "cell_type": "code",
   "execution_count": 8,
   "metadata": {},
   "outputs": [
    {
     "name": "stderr",
     "output_type": "stream",
     "text": [
      "0it [00:00, ?it/s]"
     ]
    },
    {
     "name": "stderr",
     "output_type": "stream",
     "text": [
      "207it [02:33,  1.35it/s]\n"
     ]
    }
   ],
   "source": [
    "for cty_i, cty in tqdm(enumerate(focusregs)):\n",
    "    ds = xr.open_dataset(path_alloc + \"xr_alloc_\"+cty+\".nc\").sel(Time=2040).expand_dims(Region=[cty])\n",
    "    if cty_i == 0:\n",
    "        xrt = ds.copy()\n",
    "    else:\n",
    "        xrt = xr.merge([xrt, ds])\n",
    "    ds.close()\n",
    "xrt.astype(\"float32\").to_netcdf(path_save + \"xr_alloc_2040.nc\", format='NETCDF4')"
   ]
  },
  {
   "cell_type": "markdown",
   "metadata": {},
   "source": [
    "2050 allocations"
   ]
  },
  {
   "cell_type": "code",
   "execution_count": 9,
   "metadata": {},
   "outputs": [
    {
     "name": "stderr",
     "output_type": "stream",
     "text": [
      "207it [02:29,  1.39it/s]\n"
     ]
    }
   ],
   "source": [
    "for cty_i, cty in tqdm(enumerate(focusregs)):\n",
    "    if cty_i == 0:\n",
    "        xrt = xr.open_dataset(path_alloc + \"xr_alloc_\"+cty+\".nc\").sel(Time=2050).expand_dims(Region=[cty])\n",
    "    else:\n",
    "        try: xr_i = xr.open_dataset(\"K:/ECEMF/T5.2/Allocations/\" + \"xr_alloc_\"+cty+\".nc\").sel(Time=2050).expand_dims(Region=[cty])\n",
    "        except: xr_i = xr.open_dataset(\"X:/user/dekkerm/Projects/ECEMF_T5.2/Data/Allocations/\" + \"xr_alloc_\"+cty+\".nc\").sel(Time=2050).expand_dims(Region=[cty])\n",
    "        xrt = xr.merge([xrt, xr_i])\n",
    "xrt.astype(\"float32\").to_netcdf(path_save + \"xr_alloc_2050.nc\", format='NETCDF4')"
   ]
  },
  {
   "cell_type": "markdown",
   "metadata": {},
   "source": [
    "F_C budgets"
   ]
  },
  {
   "cell_type": "code",
   "execution_count": 10,
   "metadata": {},
   "outputs": [
    {
     "name": "stderr",
     "output_type": "stream",
     "text": [
      "207it [03:00,  1.15it/s]\n"
     ]
    }
   ],
   "source": [
    "for cty_i, cty in tqdm(enumerate(focusregs)):\n",
    "    ds = xr.open_dataset(path_alloc + \"xr_alloc_\"+cty+\".nc\").sel(Time=np.arange(2021, 2101)).sum(dim='Time').expand_dims(Region=[cty])\n",
    "    if cty_i == 0:\n",
    "        xrt = ds.copy()\n",
    "    else:\n",
    "        xrt = xr.merge([xrt, ds])\n",
    "    ds.close()\n",
    "xrt.astype(\"float32\").to_netcdf(path_save + \"xr_alloc_FC.nc\", format='NETCDF4')"
   ]
  },
  {
   "cell_type": "markdown",
   "metadata": {},
   "source": [
    "For the uncertainty analysis"
   ]
  },
  {
   "cell_type": "code",
   "execution_count": 11,
   "metadata": {},
   "outputs": [
    {
     "name": "stderr",
     "output_type": "stream",
     "text": [
      "207it [00:07, 26.83it/s]\n",
      "207it [00:07, 27.78it/s]\n"
     ]
    }
   ],
   "source": [
    "for temp_i, temp in enumerate(temperatures):\n",
    "    xrs = []\n",
    "    for cty_i, cty in tqdm(enumerate(focusregs)):\n",
    "        #try: xrt = xr.open_dataset(\"K:/ECEMF/T5.2/Allocations/\" + \"xr_alloc_\"+cty+\".nc\").sel(Temperature=temp, TrajUnc='Medium', NegEmis=0.5, Time=np.arange(params['start_year_analysis'], 2101))\n",
    "        xrt = xr.open_dataset(path_alloc + \"xr_alloc_\"+cty+\".nc\").sel(Temperature=temp, TrajUnc='Medium', NegEmis=0.5, Time=np.arange(params['start_year_analysis'], 2101))\n",
    "        for rule_i, rule in enumerate(rules):\n",
    "            if rule != 'ECPC':\n",
    "                xr_i = xrt[rule].sum(dim='Time').expand_dims(Region=[cty])\n",
    "            else:\n",
    "                xr_i = xrt[rule].expand_dims(Region=[cty])\n",
    "            xrs.append(xr_i)\n",
    "    xr.merge(xrs).astype(\"float32\").to_netcdf(path_save + \"xr_uncbudget_\"+str(temp)[0]+str(temp)[2]+\".nc\", format='NETCDF4')"
   ]
  }
 ],
 "metadata": {
  "kernelspec": {
   "display_name": "MyEnv",
   "language": "python",
   "name": "python3"
  },
  "language_info": {
   "codemirror_mode": {
    "name": "ipython",
    "version": 3
   },
   "file_extension": ".py",
   "mimetype": "text/x-python",
   "name": "python",
   "nbconvert_exporter": "python",
   "pygments_lexer": "ipython3",
   "version": "3.8.6"
  },
  "orig_nbformat": 4
 },
 "nbformat": 4,
 "nbformat_minor": 2
}
