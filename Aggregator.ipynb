{
 "cells": [
  {
   "cell_type": "markdown",
   "metadata": {},
   "source": [
    "## Preambule"
   ]
  },
  {
   "cell_type": "code",
   "execution_count": 1,
   "metadata": {},
   "outputs": [
    {
     "name": "stderr",
     "output_type": "stream",
     "text": [
      "C:\\Users\\dekkerm\\AppData\\Local\\Temp\\2\\ipykernel_12832\\2088128098.py:2: DeprecationWarning: \n",
      "Pyarrow will become a required dependency of pandas in the next major release of pandas (pandas 3.0),\n",
      "(to allow more performant data types, such as the Arrow string type, and better interoperability with other libraries)\n",
      "but was not found to be installed on your system.\n",
      "If this would cause problems for you,\n",
      "please provide us feedback at https://github.com/pandas-dev/pandas/issues/54466\n",
      "        \n",
      "  import pandas as pd\n"
     ]
    }
   ],
   "source": [
    "import numpy as np\n",
    "import pandas as pd\n",
    "import matplotlib.pyplot as plt\n",
    "from pathlib import Path\n",
    "from tqdm import tqdm\n",
    "import xarray as xr\n",
    "\n",
    "import warnings\n",
    "warnings.simplefilter(action='ignore', category=FutureWarning)"
   ]
  },
  {
   "cell_type": "markdown",
   "metadata": {},
   "source": [
    "## Input"
   ]
  },
  {
   "cell_type": "code",
   "execution_count": 2,
   "metadata": {},
   "outputs": [],
   "source": [
    "params = dict(start_year_analysis=2021)\n",
    "version = 'PBL/' # 'PBL/' or ''  \n",
    "path_alloc = \"K:/ECEMF/T5.2/Allocations/\"+version\n",
    "path_save = \"K:/ECEMF/T5.2/\"+version"
   ]
  },
  {
   "cell_type": "markdown",
   "metadata": {},
   "source": [
    "## Read"
   ]
  },
  {
   "cell_type": "code",
   "execution_count": 3,
   "metadata": {},
   "outputs": [],
   "source": [
    "xr_dataread = xr.open_dataset(path_save + \"xr_dataread.nc\", engine='netcdf4')"
   ]
  },
  {
   "cell_type": "code",
   "execution_count": 4,
   "metadata": {},
   "outputs": [],
   "source": [
    "focusregs = np.array(xr_dataread.Region)\n",
    "if version == 'PBL/': temperatures = [1.56, 2.0]\n",
    "else: temperatures = [1.5, 2.0]\n",
    "rules = ['GF', 'PC', 'PCC', 'ECPC', 'AP', 'GDR']"
   ]
  },
  {
   "cell_type": "markdown",
   "metadata": {},
   "source": [
    "## Save allocations by year"
   ]
  },
  {
   "cell_type": "code",
   "execution_count": 5,
   "metadata": {},
   "outputs": [
    {
     "name": "stdout",
     "output_type": "stream",
     "text": [
      "Starting with 2030\n"
     ]
    },
    {
     "name": "stderr",
     "output_type": "stream",
     "text": [
      "207it [17:57,  5.21s/it]\n"
     ]
    },
    {
     "name": "stdout",
     "output_type": "stream",
     "text": [
      "Starting with 2040\n"
     ]
    },
    {
     "name": "stderr",
     "output_type": "stream",
     "text": [
      "207it [14:53,  4.31s/it]\n"
     ]
    },
    {
     "name": "stdout",
     "output_type": "stream",
     "text": [
      "Starting with 2050\n"
     ]
    },
    {
     "name": "stderr",
     "output_type": "stream",
     "text": [
      "207it [15:17,  4.43s/it]\n"
     ]
    },
    {
     "name": "stdout",
     "output_type": "stream",
     "text": [
      "Starting with 2060\n"
     ]
    },
    {
     "name": "stderr",
     "output_type": "stream",
     "text": [
      "207it [14:01,  4.07s/it]\n"
     ]
    },
    {
     "name": "stdout",
     "output_type": "stream",
     "text": [
      "Starting with 2070\n"
     ]
    },
    {
     "name": "stderr",
     "output_type": "stream",
     "text": [
      "207it [13:53,  4.03s/it]\n"
     ]
    },
    {
     "name": "stdout",
     "output_type": "stream",
     "text": [
      "Starting with 2080\n"
     ]
    },
    {
     "name": "stderr",
     "output_type": "stream",
     "text": [
      "207it [14:00,  4.06s/it]\n"
     ]
    },
    {
     "name": "stdout",
     "output_type": "stream",
     "text": [
      "Starting with 2090\n"
     ]
    },
    {
     "name": "stderr",
     "output_type": "stream",
     "text": [
      "207it [13:54,  4.03s/it]\n"
     ]
    },
    {
     "name": "stdout",
     "output_type": "stream",
     "text": [
      "Starting with 2100\n"
     ]
    },
    {
     "name": "stderr",
     "output_type": "stream",
     "text": [
      "207it [13:51,  4.02s/it]\n"
     ]
    }
   ],
   "source": [
    "for year in np.array([2030, 2040, 2050, 2060, 2070, 2080, 2090, 2100]):\n",
    "    print(\"Starting with\", year)\n",
    "    for cty_i, cty in tqdm(enumerate(focusregs)):\n",
    "        ds = xr.open_dataset(path_alloc + \"xr_alloc_\"+cty+\".nc\").sel(Time=year).expand_dims(Region=[cty])\n",
    "        if cty_i == 0:\n",
    "            xrt = ds.copy()\n",
    "        else:\n",
    "            xrt = xr.merge([xrt, ds])\n",
    "        ds.close()\n",
    "    xrt.astype(\"float32\").to_netcdf(path_save + \"xr_alloc_\"+str(year)+\".nc\", format='NETCDF4')"
   ]
  },
  {
   "cell_type": "markdown",
   "metadata": {},
   "source": [
    "Trajectory emissions"
   ]
  },
  {
   "cell_type": "code",
   "execution_count": 6,
   "metadata": {},
   "outputs": [
    {
     "name": "stderr",
     "output_type": "stream",
     "text": [
      "207it [46:10, 13.38s/it]\n",
      "207it [25:57,  7.52s/it]\n"
     ]
    }
   ],
   "source": [
    "for temp_i, temp in enumerate([1.5, 2.0]):\n",
    "    for cty_i, cty in tqdm(enumerate(focusregs)):\n",
    "        ds = xr.open_dataset(path_alloc + \"xr_alloc_\"+cty+\".nc\").sel(Temperature=temp, Risk=[0.5, 0.33][temp_i], Time=np.arange(params['start_year_analysis'], 2101)).expand_dims(Region=[cty])\n",
    "        if cty_i == 0:\n",
    "            xrt = ds.copy()\n",
    "        else:\n",
    "            xrt = xr.merge([xrt, ds])\n",
    "        ds.close()\n",
    "    xrt.astype(\"float32\").to_netcdf(path_save + \"xr_traj_\"+str(temp)[0]+str(temp)[2]+\"_50.nc\", format='NETCDF4')"
   ]
  }
 ],
 "metadata": {
  "kernelspec": {
   "display_name": "MyEnv",
   "language": "python",
   "name": "python3"
  },
  "language_info": {
   "codemirror_mode": {
    "name": "ipython",
    "version": 3
   },
   "file_extension": ".py",
   "mimetype": "text/x-python",
   "name": "python",
   "nbconvert_exporter": "python",
   "pygments_lexer": "ipython3",
   "version": "3.12.1"
  },
  "orig_nbformat": 4
 },
 "nbformat": 4,
 "nbformat_minor": 2
}
