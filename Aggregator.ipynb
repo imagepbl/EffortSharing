{
 "cells": [
  {
   "cell_type": "markdown",
   "metadata": {},
   "source": [
    "## Preambule"
   ]
  },
  {
   "cell_type": "code",
   "execution_count": 1,
   "metadata": {},
   "outputs": [
    {
     "name": "stderr",
     "output_type": "stream",
     "text": [
      "C:\\Users\\dekkerm\\AppData\\Local\\Temp\\2\\ipykernel_776\\2088128098.py:2: DeprecationWarning: \n",
      "Pyarrow will become a required dependency of pandas in the next major release of pandas (pandas 3.0),\n",
      "(to allow more performant data types, such as the Arrow string type, and better interoperability with other libraries)\n",
      "but was not found to be installed on your system.\n",
      "If this would cause problems for you,\n",
      "please provide us feedback at https://github.com/pandas-dev/pandas/issues/54466\n",
      "        \n",
      "  import pandas as pd\n"
     ]
    }
   ],
   "source": [
    "import numpy as np\n",
    "import pandas as pd\n",
    "import matplotlib.pyplot as plt\n",
    "from pathlib import Path\n",
    "from tqdm import tqdm\n",
    "import xarray as xr\n",
    "\n",
    "import warnings\n",
    "warnings.simplefilter(action='ignore', category=FutureWarning)"
   ]
  },
  {
   "cell_type": "markdown",
   "metadata": {},
   "source": [
    "## Input"
   ]
  },
  {
   "cell_type": "code",
   "execution_count": 2,
   "metadata": {},
   "outputs": [],
   "source": [
    "params = dict(start_year_analysis=2021)\n",
    "version = '' # 'PBL/' or ''  \n",
    "path_alloc = \"K:/ECEMF/T5.2/Allocations/\"+version\n",
    "path_save = \"K:/ECEMF/T5.2/\"+version"
   ]
  },
  {
   "cell_type": "markdown",
   "metadata": {},
   "source": [
    "## Read"
   ]
  },
  {
   "cell_type": "code",
   "execution_count": 9,
   "metadata": {},
   "outputs": [],
   "source": [
    "xr_dataread = xr.open_dataset(path_save + \"xr_dataread.nc\", engine='netcdf4')\n",
    "all_countries_iso = np.load(path_save + \"all_countries.npy\", allow_pickle=True)"
   ]
  },
  {
   "cell_type": "code",
   "execution_count": 4,
   "metadata": {},
   "outputs": [],
   "source": [
    "focusregs = np.array(xr_dataread.Region)\n",
    "if version == 'PBL/': temperatures = [1.56, 2.0]\n",
    "else: temperatures = [1.5, 2.0]\n",
    "rules = ['GF', 'PC', 'PCC', 'ECPC', 'AP', 'GDR']"
   ]
  },
  {
   "cell_type": "markdown",
   "metadata": {},
   "source": [
    "## Save allocations by year"
   ]
  },
  {
   "cell_type": "code",
   "execution_count": 16,
   "metadata": {},
   "outputs": [
    {
     "name": "stdout",
     "output_type": "stream",
     "text": [
      "Starting with 2035\n"
     ]
    },
    {
     "name": "stderr",
     "output_type": "stream",
     "text": [
      "207it [22:17,  6.46s/it]\n"
     ]
    },
    {
     "name": "stdout",
     "output_type": "stream",
     "text": [
      "Starting with 2040\n"
     ]
    },
    {
     "name": "stderr",
     "output_type": "stream",
     "text": [
      "207it [22:11,  6.43s/it]\n"
     ]
    },
    {
     "name": "stdout",
     "output_type": "stream",
     "text": [
      "Starting with 2045\n"
     ]
    },
    {
     "name": "stderr",
     "output_type": "stream",
     "text": [
      "207it [20:46,  6.02s/it]\n"
     ]
    },
    {
     "name": "stdout",
     "output_type": "stream",
     "text": [
      "Starting with 2050\n"
     ]
    },
    {
     "name": "stderr",
     "output_type": "stream",
     "text": [
      "207it [20:28,  5.94s/it]\n"
     ]
    },
    {
     "name": "stdout",
     "output_type": "stream",
     "text": [
      "Starting with 2055\n"
     ]
    },
    {
     "name": "stderr",
     "output_type": "stream",
     "text": [
      "207it [20:59,  6.08s/it]\n"
     ]
    },
    {
     "name": "stdout",
     "output_type": "stream",
     "text": [
      "Starting with 2060\n"
     ]
    },
    {
     "name": "stderr",
     "output_type": "stream",
     "text": [
      "207it [20:27,  5.93s/it]\n"
     ]
    },
    {
     "name": "stdout",
     "output_type": "stream",
     "text": [
      "Starting with 2065\n"
     ]
    },
    {
     "name": "stderr",
     "output_type": "stream",
     "text": [
      "207it [20:20,  5.90s/it]\n"
     ]
    },
    {
     "name": "stdout",
     "output_type": "stream",
     "text": [
      "Starting with 2070\n"
     ]
    },
    {
     "name": "stderr",
     "output_type": "stream",
     "text": [
      "207it [21:17,  6.17s/it]\n"
     ]
    },
    {
     "name": "stdout",
     "output_type": "stream",
     "text": [
      "Starting with 2075\n"
     ]
    },
    {
     "name": "stderr",
     "output_type": "stream",
     "text": [
      "207it [20:52,  6.05s/it]\n"
     ]
    },
    {
     "name": "stdout",
     "output_type": "stream",
     "text": [
      "Starting with 2080\n"
     ]
    },
    {
     "name": "stderr",
     "output_type": "stream",
     "text": [
      "207it [19:58,  5.79s/it]\n"
     ]
    },
    {
     "name": "stdout",
     "output_type": "stream",
     "text": [
      "Starting with 2085\n"
     ]
    },
    {
     "name": "stderr",
     "output_type": "stream",
     "text": [
      "207it [20:17,  5.88s/it]\n"
     ]
    },
    {
     "name": "stdout",
     "output_type": "stream",
     "text": [
      "Starting with 2090\n"
     ]
    },
    {
     "name": "stderr",
     "output_type": "stream",
     "text": [
      "207it [20:21,  5.90s/it]\n"
     ]
    },
    {
     "name": "stdout",
     "output_type": "stream",
     "text": [
      "Starting with 2095\n"
     ]
    },
    {
     "name": "stderr",
     "output_type": "stream",
     "text": [
      "207it [20:19,  5.89s/it]\n"
     ]
    },
    {
     "name": "stdout",
     "output_type": "stream",
     "text": [
      "Starting with 2100\n"
     ]
    },
    {
     "name": "stderr",
     "output_type": "stream",
     "text": [
      "207it [20:45,  6.02s/it]\n"
     ]
    }
   ],
   "source": [
    "for year in np.arange(2035, 2101,5):#np.array([2030, 2040, 2050]):#, 2060, 2070, 2080, 2090, 2100]):\n",
    "    print(\"Starting with\", year)\n",
    "    for cty_i, cty in tqdm(enumerate(focusregs)):\n",
    "        ds = xr.open_dataset(path_alloc + \"xr_alloc_\"+cty+\".nc\").sel(Time=year).expand_dims(Region=[cty])\n",
    "        if cty_i == 0:\n",
    "            xrt = ds.copy()\n",
    "        else:\n",
    "            xrt = xr.merge([xrt, ds])\n",
    "        ds.close()\n",
    "    xrt.astype(\"float32\").to_netcdf(path_save + \"xr_alloc_\"+str(year)+\".nc\", format='NETCDF4')"
   ]
  },
  {
   "cell_type": "code",
   "execution_count": 15,
   "metadata": {},
   "outputs": [
    {
     "data": {
      "text/html": [
       "<div><svg style=\"position: absolute; width: 0; height: 0; overflow: hidden\">\n",
       "<defs>\n",
       "<symbol id=\"icon-database\" viewBox=\"0 0 32 32\">\n",
       "<path d=\"M16 0c-8.837 0-16 2.239-16 5v4c0 2.761 7.163 5 16 5s16-2.239 16-5v-4c0-2.761-7.163-5-16-5z\"></path>\n",
       "<path d=\"M16 17c-8.837 0-16-2.239-16-5v6c0 2.761 7.163 5 16 5s16-2.239 16-5v-6c0 2.761-7.163 5-16 5z\"></path>\n",
       "<path d=\"M16 26c-8.837 0-16-2.239-16-5v6c0 2.761 7.163 5 16 5s16-2.239 16-5v-6c0 2.761-7.163 5-16 5z\"></path>\n",
       "</symbol>\n",
       "<symbol id=\"icon-file-text2\" viewBox=\"0 0 32 32\">\n",
       "<path d=\"M28.681 7.159c-0.694-0.947-1.662-2.053-2.724-3.116s-2.169-2.030-3.116-2.724c-1.612-1.182-2.393-1.319-2.841-1.319h-15.5c-1.378 0-2.5 1.121-2.5 2.5v27c0 1.378 1.122 2.5 2.5 2.5h23c1.378 0 2.5-1.122 2.5-2.5v-19.5c0-0.448-0.137-1.23-1.319-2.841zM24.543 5.457c0.959 0.959 1.712 1.825 2.268 2.543h-4.811v-4.811c0.718 0.556 1.584 1.309 2.543 2.268zM28 29.5c0 0.271-0.229 0.5-0.5 0.5h-23c-0.271 0-0.5-0.229-0.5-0.5v-27c0-0.271 0.229-0.5 0.5-0.5 0 0 15.499-0 15.5 0v7c0 0.552 0.448 1 1 1h7v19.5z\"></path>\n",
       "<path d=\"M23 26h-14c-0.552 0-1-0.448-1-1s0.448-1 1-1h14c0.552 0 1 0.448 1 1s-0.448 1-1 1z\"></path>\n",
       "<path d=\"M23 22h-14c-0.552 0-1-0.448-1-1s0.448-1 1-1h14c0.552 0 1 0.448 1 1s-0.448 1-1 1z\"></path>\n",
       "<path d=\"M23 18h-14c-0.552 0-1-0.448-1-1s0.448-1 1-1h14c0.552 0 1 0.448 1 1s-0.448 1-1 1z\"></path>\n",
       "</symbol>\n",
       "</defs>\n",
       "</svg>\n",
       "<style>/* CSS stylesheet for displaying xarray objects in jupyterlab.\n",
       " *\n",
       " */\n",
       "\n",
       ":root {\n",
       "  --xr-font-color0: var(--jp-content-font-color0, rgba(0, 0, 0, 1));\n",
       "  --xr-font-color2: var(--jp-content-font-color2, rgba(0, 0, 0, 0.54));\n",
       "  --xr-font-color3: var(--jp-content-font-color3, rgba(0, 0, 0, 0.38));\n",
       "  --xr-border-color: var(--jp-border-color2, #e0e0e0);\n",
       "  --xr-disabled-color: var(--jp-layout-color3, #bdbdbd);\n",
       "  --xr-background-color: var(--jp-layout-color0, white);\n",
       "  --xr-background-color-row-even: var(--jp-layout-color1, white);\n",
       "  --xr-background-color-row-odd: var(--jp-layout-color2, #eeeeee);\n",
       "}\n",
       "\n",
       "html[theme=dark],\n",
       "body[data-theme=dark],\n",
       "body.vscode-dark {\n",
       "  --xr-font-color0: rgba(255, 255, 255, 1);\n",
       "  --xr-font-color2: rgba(255, 255, 255, 0.54);\n",
       "  --xr-font-color3: rgba(255, 255, 255, 0.38);\n",
       "  --xr-border-color: #1F1F1F;\n",
       "  --xr-disabled-color: #515151;\n",
       "  --xr-background-color: #111111;\n",
       "  --xr-background-color-row-even: #111111;\n",
       "  --xr-background-color-row-odd: #313131;\n",
       "}\n",
       "\n",
       ".xr-wrap {\n",
       "  display: block !important;\n",
       "  min-width: 300px;\n",
       "  max-width: 700px;\n",
       "}\n",
       "\n",
       ".xr-text-repr-fallback {\n",
       "  /* fallback to plain text repr when CSS is not injected (untrusted notebook) */\n",
       "  display: none;\n",
       "}\n",
       "\n",
       ".xr-header {\n",
       "  padding-top: 6px;\n",
       "  padding-bottom: 6px;\n",
       "  margin-bottom: 4px;\n",
       "  border-bottom: solid 1px var(--xr-border-color);\n",
       "}\n",
       "\n",
       ".xr-header > div,\n",
       ".xr-header > ul {\n",
       "  display: inline;\n",
       "  margin-top: 0;\n",
       "  margin-bottom: 0;\n",
       "}\n",
       "\n",
       ".xr-obj-type,\n",
       ".xr-array-name {\n",
       "  margin-left: 2px;\n",
       "  margin-right: 10px;\n",
       "}\n",
       "\n",
       ".xr-obj-type {\n",
       "  color: var(--xr-font-color2);\n",
       "}\n",
       "\n",
       ".xr-sections {\n",
       "  padding-left: 0 !important;\n",
       "  display: grid;\n",
       "  grid-template-columns: 150px auto auto 1fr 20px 20px;\n",
       "}\n",
       "\n",
       ".xr-section-item {\n",
       "  display: contents;\n",
       "}\n",
       "\n",
       ".xr-section-item input {\n",
       "  display: none;\n",
       "}\n",
       "\n",
       ".xr-section-item input + label {\n",
       "  color: var(--xr-disabled-color);\n",
       "}\n",
       "\n",
       ".xr-section-item input:enabled + label {\n",
       "  cursor: pointer;\n",
       "  color: var(--xr-font-color2);\n",
       "}\n",
       "\n",
       ".xr-section-item input:enabled + label:hover {\n",
       "  color: var(--xr-font-color0);\n",
       "}\n",
       "\n",
       ".xr-section-summary {\n",
       "  grid-column: 1;\n",
       "  color: var(--xr-font-color2);\n",
       "  font-weight: 500;\n",
       "}\n",
       "\n",
       ".xr-section-summary > span {\n",
       "  display: inline-block;\n",
       "  padding-left: 0.5em;\n",
       "}\n",
       "\n",
       ".xr-section-summary-in:disabled + label {\n",
       "  color: var(--xr-font-color2);\n",
       "}\n",
       "\n",
       ".xr-section-summary-in + label:before {\n",
       "  display: inline-block;\n",
       "  content: '►';\n",
       "  font-size: 11px;\n",
       "  width: 15px;\n",
       "  text-align: center;\n",
       "}\n",
       "\n",
       ".xr-section-summary-in:disabled + label:before {\n",
       "  color: var(--xr-disabled-color);\n",
       "}\n",
       "\n",
       ".xr-section-summary-in:checked + label:before {\n",
       "  content: '▼';\n",
       "}\n",
       "\n",
       ".xr-section-summary-in:checked + label > span {\n",
       "  display: none;\n",
       "}\n",
       "\n",
       ".xr-section-summary,\n",
       ".xr-section-inline-details {\n",
       "  padding-top: 4px;\n",
       "  padding-bottom: 4px;\n",
       "}\n",
       "\n",
       ".xr-section-inline-details {\n",
       "  grid-column: 2 / -1;\n",
       "}\n",
       "\n",
       ".xr-section-details {\n",
       "  display: none;\n",
       "  grid-column: 1 / -1;\n",
       "  margin-bottom: 5px;\n",
       "}\n",
       "\n",
       ".xr-section-summary-in:checked ~ .xr-section-details {\n",
       "  display: contents;\n",
       "}\n",
       "\n",
       ".xr-array-wrap {\n",
       "  grid-column: 1 / -1;\n",
       "  display: grid;\n",
       "  grid-template-columns: 20px auto;\n",
       "}\n",
       "\n",
       ".xr-array-wrap > label {\n",
       "  grid-column: 1;\n",
       "  vertical-align: top;\n",
       "}\n",
       "\n",
       ".xr-preview {\n",
       "  color: var(--xr-font-color3);\n",
       "}\n",
       "\n",
       ".xr-array-preview,\n",
       ".xr-array-data {\n",
       "  padding: 0 5px !important;\n",
       "  grid-column: 2;\n",
       "}\n",
       "\n",
       ".xr-array-data,\n",
       ".xr-array-in:checked ~ .xr-array-preview {\n",
       "  display: none;\n",
       "}\n",
       "\n",
       ".xr-array-in:checked ~ .xr-array-data,\n",
       ".xr-array-preview {\n",
       "  display: inline-block;\n",
       "}\n",
       "\n",
       ".xr-dim-list {\n",
       "  display: inline-block !important;\n",
       "  list-style: none;\n",
       "  padding: 0 !important;\n",
       "  margin: 0;\n",
       "}\n",
       "\n",
       ".xr-dim-list li {\n",
       "  display: inline-block;\n",
       "  padding: 0;\n",
       "  margin: 0;\n",
       "}\n",
       "\n",
       ".xr-dim-list:before {\n",
       "  content: '(';\n",
       "}\n",
       "\n",
       ".xr-dim-list:after {\n",
       "  content: ')';\n",
       "}\n",
       "\n",
       ".xr-dim-list li:not(:last-child):after {\n",
       "  content: ',';\n",
       "  padding-right: 5px;\n",
       "}\n",
       "\n",
       ".xr-has-index {\n",
       "  font-weight: bold;\n",
       "}\n",
       "\n",
       ".xr-var-list,\n",
       ".xr-var-item {\n",
       "  display: contents;\n",
       "}\n",
       "\n",
       ".xr-var-item > div,\n",
       ".xr-var-item label,\n",
       ".xr-var-item > .xr-var-name span {\n",
       "  background-color: var(--xr-background-color-row-even);\n",
       "  margin-bottom: 0;\n",
       "}\n",
       "\n",
       ".xr-var-item > .xr-var-name:hover span {\n",
       "  padding-right: 5px;\n",
       "}\n",
       "\n",
       ".xr-var-list > li:nth-child(odd) > div,\n",
       ".xr-var-list > li:nth-child(odd) > label,\n",
       ".xr-var-list > li:nth-child(odd) > .xr-var-name span {\n",
       "  background-color: var(--xr-background-color-row-odd);\n",
       "}\n",
       "\n",
       ".xr-var-name {\n",
       "  grid-column: 1;\n",
       "}\n",
       "\n",
       ".xr-var-dims {\n",
       "  grid-column: 2;\n",
       "}\n",
       "\n",
       ".xr-var-dtype {\n",
       "  grid-column: 3;\n",
       "  text-align: right;\n",
       "  color: var(--xr-font-color2);\n",
       "}\n",
       "\n",
       ".xr-var-preview {\n",
       "  grid-column: 4;\n",
       "}\n",
       "\n",
       ".xr-index-preview {\n",
       "  grid-column: 2 / 5;\n",
       "  color: var(--xr-font-color2);\n",
       "}\n",
       "\n",
       ".xr-var-name,\n",
       ".xr-var-dims,\n",
       ".xr-var-dtype,\n",
       ".xr-preview,\n",
       ".xr-attrs dt {\n",
       "  white-space: nowrap;\n",
       "  overflow: hidden;\n",
       "  text-overflow: ellipsis;\n",
       "  padding-right: 10px;\n",
       "}\n",
       "\n",
       ".xr-var-name:hover,\n",
       ".xr-var-dims:hover,\n",
       ".xr-var-dtype:hover,\n",
       ".xr-attrs dt:hover {\n",
       "  overflow: visible;\n",
       "  width: auto;\n",
       "  z-index: 1;\n",
       "}\n",
       "\n",
       ".xr-var-attrs,\n",
       ".xr-var-data,\n",
       ".xr-index-data {\n",
       "  display: none;\n",
       "  background-color: var(--xr-background-color) !important;\n",
       "  padding-bottom: 5px !important;\n",
       "}\n",
       "\n",
       ".xr-var-attrs-in:checked ~ .xr-var-attrs,\n",
       ".xr-var-data-in:checked ~ .xr-var-data,\n",
       ".xr-index-data-in:checked ~ .xr-index-data {\n",
       "  display: block;\n",
       "}\n",
       "\n",
       ".xr-var-data > table {\n",
       "  float: right;\n",
       "}\n",
       "\n",
       ".xr-var-name span,\n",
       ".xr-var-data,\n",
       ".xr-index-name div,\n",
       ".xr-index-data,\n",
       ".xr-attrs {\n",
       "  padding-left: 25px !important;\n",
       "}\n",
       "\n",
       ".xr-attrs,\n",
       ".xr-var-attrs,\n",
       ".xr-var-data,\n",
       ".xr-index-data {\n",
       "  grid-column: 1 / -1;\n",
       "}\n",
       "\n",
       "dl.xr-attrs {\n",
       "  padding: 0;\n",
       "  margin: 0;\n",
       "  display: grid;\n",
       "  grid-template-columns: 125px auto;\n",
       "}\n",
       "\n",
       ".xr-attrs dt,\n",
       ".xr-attrs dd {\n",
       "  padding: 0;\n",
       "  margin: 0;\n",
       "  float: left;\n",
       "  padding-right: 10px;\n",
       "  width: auto;\n",
       "}\n",
       "\n",
       ".xr-attrs dt {\n",
       "  font-weight: normal;\n",
       "  grid-column: 1;\n",
       "}\n",
       "\n",
       ".xr-attrs dt:hover span {\n",
       "  display: inline-block;\n",
       "  background: var(--xr-background-color);\n",
       "  padding-right: 10px;\n",
       "}\n",
       "\n",
       ".xr-attrs dd {\n",
       "  grid-column: 2;\n",
       "  white-space: pre-wrap;\n",
       "  word-break: break-all;\n",
       "}\n",
       "\n",
       ".xr-icon-database,\n",
       ".xr-icon-file-text2,\n",
       ".xr-no-icon {\n",
       "  display: inline-block;\n",
       "  vertical-align: middle;\n",
       "  width: 1em;\n",
       "  height: 1.5em !important;\n",
       "  stroke-width: 0;\n",
       "  stroke: currentColor;\n",
       "  fill: currentColor;\n",
       "}\n",
       "</style><pre class='xr-text-repr-fallback'>&lt;xarray.Dataset&gt;\n",
       "Dimensions:            (Scenario: 5, Region: 207, Time: 251, Conditionality: 3,\n",
       "                        Hot_air: 2, Ambition: 2, Temperature: 10, Risk: 5,\n",
       "                        NonCO2red: 5, NegEmis: 7, Timing: 2)\n",
       "Coordinates: (12/14)\n",
       "  * Scenario           (Scenario) &lt;U4 &#x27;SSP1&#x27; &#x27;SSP2&#x27; &#x27;SSP3&#x27; &#x27;SSP4&#x27; &#x27;SSP5&#x27;\n",
       "  * Region             (Region) &lt;U16 &#x27;AFG&#x27; &#x27;ALB&#x27; ... &#x27;African Group&#x27; &#x27;Umbrella&#x27;\n",
       "  * Time               (Time) int32 1850 1851 1852 1853 ... 2097 2098 2099 2100\n",
       "  * Conditionality     (Conditionality) &lt;U13 &#x27;conditional&#x27; ... &#x27;unconditional&#x27;\n",
       "  * Hot_air            (Hot_air) &lt;U7 &#x27;include&#x27; &#x27;exclude&#x27;\n",
       "  * Ambition           (Ambition) &lt;U4 &#x27;low&#x27; &#x27;high&#x27;\n",
       "    ...                 ...\n",
       "  * NonCO2red          (NonCO2red) float64 0.1 0.33 0.5 0.67 0.9\n",
       "  * NegEmis            (NegEmis) float64 0.2 0.3 0.4 0.5 0.6 0.7 0.8\n",
       "  * Timing             (Timing) &lt;U9 &#x27;Delayed&#x27; &#x27;Immediate&#x27;\n",
       "    source             &lt;U25 ...\n",
       "    Version            &lt;U6 ...\n",
       "    variable           &lt;U8 ...\n",
       "Data variables: (12/15)\n",
       "    GDP                (Scenario, Region, Time) float64 ...\n",
       "    Population         (Scenario, Region, Time) float64 ...\n",
       "    GHG_hist           (Time, Region) float64 ...\n",
       "    CO2_hist           (Time, Region) float64 ...\n",
       "    N2O_hist           (Time, Region) float64 ...\n",
       "    CH4_hist           (Time, Region) float64 ...\n",
       "    ...                 ...\n",
       "    Budget             (Temperature, Risk, NonCO2red) float64 ...\n",
       "    GHG_globe          (NegEmis, NonCO2red, Temperature, Risk, Timing, Time) float64 ...\n",
       "    CO2_globe          (NegEmis, NonCO2red, Temperature, Risk, Timing, Time) float64 ...\n",
       "    NonCO2_globe       (NonCO2red, Time, Timing, Temperature) float64 ...\n",
       "    GHG_base           (Region, Scenario, Time) float64 ...\n",
       "    GHG_ndc            (Region, Conditionality, Hot_air, Ambition, Time) float64 ...</pre><div class='xr-wrap' style='display:none'><div class='xr-header'><div class='xr-obj-type'>xarray.Dataset</div></div><ul class='xr-sections'><li class='xr-section-item'><input id='section-f81f7793-0980-4cd4-9329-655ee9c7e8c3' class='xr-section-summary-in' type='checkbox' disabled ><label for='section-f81f7793-0980-4cd4-9329-655ee9c7e8c3' class='xr-section-summary'  title='Expand/collapse section'>Dimensions:</label><div class='xr-section-inline-details'><ul class='xr-dim-list'><li><span class='xr-has-index'>Scenario</span>: 5</li><li><span class='xr-has-index'>Region</span>: 207</li><li><span class='xr-has-index'>Time</span>: 251</li><li><span class='xr-has-index'>Conditionality</span>: 3</li><li><span class='xr-has-index'>Hot_air</span>: 2</li><li><span class='xr-has-index'>Ambition</span>: 2</li><li><span class='xr-has-index'>Temperature</span>: 10</li><li><span class='xr-has-index'>Risk</span>: 5</li><li><span class='xr-has-index'>NonCO2red</span>: 5</li><li><span class='xr-has-index'>NegEmis</span>: 7</li><li><span class='xr-has-index'>Timing</span>: 2</li></ul></div><div class='xr-section-details'></div></li><li class='xr-section-item'><input id='section-7392c022-2446-435a-97b8-b15ed504ec30' class='xr-section-summary-in' type='checkbox'  checked><label for='section-7392c022-2446-435a-97b8-b15ed504ec30' class='xr-section-summary' >Coordinates: <span>(14)</span></label><div class='xr-section-inline-details'></div><div class='xr-section-details'><ul class='xr-var-list'><li class='xr-var-item'><div class='xr-var-name'><span class='xr-has-index'>Scenario</span></div><div class='xr-var-dims'>(Scenario)</div><div class='xr-var-dtype'>&lt;U4</div><div class='xr-var-preview xr-preview'>&#x27;SSP1&#x27; &#x27;SSP2&#x27; &#x27;SSP3&#x27; &#x27;SSP4&#x27; &#x27;SSP5&#x27;</div><input id='attrs-1f654a57-3389-4c17-962b-14650aaa0e9c' class='xr-var-attrs-in' type='checkbox' disabled><label for='attrs-1f654a57-3389-4c17-962b-14650aaa0e9c' title='Show/Hide attributes'><svg class='icon xr-icon-file-text2'><use xlink:href='#icon-file-text2'></use></svg></label><input id='data-b4c64086-0fc9-42e5-b930-a087c870b2e3' class='xr-var-data-in' type='checkbox'><label for='data-b4c64086-0fc9-42e5-b930-a087c870b2e3' title='Show/Hide data repr'><svg class='icon xr-icon-database'><use xlink:href='#icon-database'></use></svg></label><div class='xr-var-attrs'><dl class='xr-attrs'></dl></div><div class='xr-var-data'><pre>array([&#x27;SSP1&#x27;, &#x27;SSP2&#x27;, &#x27;SSP3&#x27;, &#x27;SSP4&#x27;, &#x27;SSP5&#x27;], dtype=&#x27;&lt;U4&#x27;)</pre></div></li><li class='xr-var-item'><div class='xr-var-name'><span class='xr-has-index'>Region</span></div><div class='xr-var-dims'>(Region)</div><div class='xr-var-dtype'>&lt;U16</div><div class='xr-var-preview xr-preview'>&#x27;AFG&#x27; &#x27;ALB&#x27; ... &#x27;Umbrella&#x27;</div><input id='attrs-fb03a760-97a9-4c39-ad0b-596bb0896475' class='xr-var-attrs-in' type='checkbox' disabled><label for='attrs-fb03a760-97a9-4c39-ad0b-596bb0896475' title='Show/Hide attributes'><svg class='icon xr-icon-file-text2'><use xlink:href='#icon-file-text2'></use></svg></label><input id='data-bf214501-88d4-4d1b-944c-195e869aadc1' class='xr-var-data-in' type='checkbox'><label for='data-bf214501-88d4-4d1b-944c-195e869aadc1' title='Show/Hide data repr'><svg class='icon xr-icon-database'><use xlink:href='#icon-database'></use></svg></label><div class='xr-var-attrs'><dl class='xr-attrs'></dl></div><div class='xr-var-data'><pre>array([&#x27;AFG&#x27;, &#x27;ALB&#x27;, &#x27;DZA&#x27;, ..., &#x27;Australasia&#x27;, &#x27;African Group&#x27;, &#x27;Umbrella&#x27;],\n",
       "      dtype=&#x27;&lt;U16&#x27;)</pre></div></li><li class='xr-var-item'><div class='xr-var-name'><span class='xr-has-index'>Time</span></div><div class='xr-var-dims'>(Time)</div><div class='xr-var-dtype'>int32</div><div class='xr-var-preview xr-preview'>1850 1851 1852 ... 2098 2099 2100</div><input id='attrs-63dfcf79-75ac-448d-9dbe-f6b5992efe52' class='xr-var-attrs-in' type='checkbox' disabled><label for='attrs-63dfcf79-75ac-448d-9dbe-f6b5992efe52' title='Show/Hide attributes'><svg class='icon xr-icon-file-text2'><use xlink:href='#icon-file-text2'></use></svg></label><input id='data-53c8993b-22d0-4047-93f6-375e31240e44' class='xr-var-data-in' type='checkbox'><label for='data-53c8993b-22d0-4047-93f6-375e31240e44' title='Show/Hide data repr'><svg class='icon xr-icon-database'><use xlink:href='#icon-database'></use></svg></label><div class='xr-var-attrs'><dl class='xr-attrs'></dl></div><div class='xr-var-data'><pre>array([1850, 1851, 1852, ..., 2098, 2099, 2100])</pre></div></li><li class='xr-var-item'><div class='xr-var-name'><span class='xr-has-index'>Conditionality</span></div><div class='xr-var-dims'>(Conditionality)</div><div class='xr-var-dtype'>&lt;U13</div><div class='xr-var-preview xr-preview'>&#x27;conditional&#x27; ... &#x27;unconditional&#x27;</div><input id='attrs-36a9df33-e3ef-486e-8190-072a11eb94b9' class='xr-var-attrs-in' type='checkbox' disabled><label for='attrs-36a9df33-e3ef-486e-8190-072a11eb94b9' title='Show/Hide attributes'><svg class='icon xr-icon-file-text2'><use xlink:href='#icon-file-text2'></use></svg></label><input id='data-821f644d-7880-4391-94cc-3097d7814170' class='xr-var-data-in' type='checkbox'><label for='data-821f644d-7880-4391-94cc-3097d7814170' title='Show/Hide data repr'><svg class='icon xr-icon-database'><use xlink:href='#icon-database'></use></svg></label><div class='xr-var-attrs'><dl class='xr-attrs'></dl></div><div class='xr-var-data'><pre>array([&#x27;conditional&#x27;, &#x27;range&#x27;, &#x27;unconditional&#x27;], dtype=&#x27;&lt;U13&#x27;)</pre></div></li><li class='xr-var-item'><div class='xr-var-name'><span class='xr-has-index'>Hot_air</span></div><div class='xr-var-dims'>(Hot_air)</div><div class='xr-var-dtype'>&lt;U7</div><div class='xr-var-preview xr-preview'>&#x27;include&#x27; &#x27;exclude&#x27;</div><input id='attrs-334aca03-f7de-4f97-af20-ddabc5232d1d' class='xr-var-attrs-in' type='checkbox' disabled><label for='attrs-334aca03-f7de-4f97-af20-ddabc5232d1d' title='Show/Hide attributes'><svg class='icon xr-icon-file-text2'><use xlink:href='#icon-file-text2'></use></svg></label><input id='data-4ca001a9-de64-4de2-a0c5-33f700c311d8' class='xr-var-data-in' type='checkbox'><label for='data-4ca001a9-de64-4de2-a0c5-33f700c311d8' title='Show/Hide data repr'><svg class='icon xr-icon-database'><use xlink:href='#icon-database'></use></svg></label><div class='xr-var-attrs'><dl class='xr-attrs'></dl></div><div class='xr-var-data'><pre>array([&#x27;include&#x27;, &#x27;exclude&#x27;], dtype=&#x27;&lt;U7&#x27;)</pre></div></li><li class='xr-var-item'><div class='xr-var-name'><span class='xr-has-index'>Ambition</span></div><div class='xr-var-dims'>(Ambition)</div><div class='xr-var-dtype'>&lt;U4</div><div class='xr-var-preview xr-preview'>&#x27;low&#x27; &#x27;high&#x27;</div><input id='attrs-f51d6b44-d3dc-46f1-9a50-c5a2e2ea996d' class='xr-var-attrs-in' type='checkbox' disabled><label for='attrs-f51d6b44-d3dc-46f1-9a50-c5a2e2ea996d' title='Show/Hide attributes'><svg class='icon xr-icon-file-text2'><use xlink:href='#icon-file-text2'></use></svg></label><input id='data-8ef0efad-a79c-4871-a5d2-9377d2e02ea5' class='xr-var-data-in' type='checkbox'><label for='data-8ef0efad-a79c-4871-a5d2-9377d2e02ea5' title='Show/Hide data repr'><svg class='icon xr-icon-database'><use xlink:href='#icon-database'></use></svg></label><div class='xr-var-attrs'><dl class='xr-attrs'></dl></div><div class='xr-var-data'><pre>array([&#x27;low&#x27;, &#x27;high&#x27;], dtype=&#x27;&lt;U4&#x27;)</pre></div></li><li class='xr-var-item'><div class='xr-var-name'><span class='xr-has-index'>Temperature</span></div><div class='xr-var-dims'>(Temperature)</div><div class='xr-var-dtype'>float64</div><div class='xr-var-preview xr-preview'>1.5 1.6 1.7 1.8 ... 2.1 2.2 2.3 2.4</div><input id='attrs-8d9c2102-afbb-48a0-8bc2-95c47ff006bc' class='xr-var-attrs-in' type='checkbox' disabled><label for='attrs-8d9c2102-afbb-48a0-8bc2-95c47ff006bc' title='Show/Hide attributes'><svg class='icon xr-icon-file-text2'><use xlink:href='#icon-file-text2'></use></svg></label><input id='data-02550c63-2415-4616-a32c-581f5311316f' class='xr-var-data-in' type='checkbox'><label for='data-02550c63-2415-4616-a32c-581f5311316f' title='Show/Hide data repr'><svg class='icon xr-icon-database'><use xlink:href='#icon-database'></use></svg></label><div class='xr-var-attrs'><dl class='xr-attrs'></dl></div><div class='xr-var-data'><pre>array([1.5, 1.6, 1.7, 1.8, 1.9, 2. , 2.1, 2.2, 2.3, 2.4])</pre></div></li><li class='xr-var-item'><div class='xr-var-name'><span class='xr-has-index'>Risk</span></div><div class='xr-var-dims'>(Risk)</div><div class='xr-var-dtype'>float64</div><div class='xr-var-preview xr-preview'>0.17 0.33 0.5 0.67 0.83</div><input id='attrs-2f669c5c-2cc8-4d82-b5a8-47e6d81e0e6e' class='xr-var-attrs-in' type='checkbox' disabled><label for='attrs-2f669c5c-2cc8-4d82-b5a8-47e6d81e0e6e' title='Show/Hide attributes'><svg class='icon xr-icon-file-text2'><use xlink:href='#icon-file-text2'></use></svg></label><input id='data-e92fab26-ecb5-47a3-b3fb-f34adaba97a1' class='xr-var-data-in' type='checkbox'><label for='data-e92fab26-ecb5-47a3-b3fb-f34adaba97a1' title='Show/Hide data repr'><svg class='icon xr-icon-database'><use xlink:href='#icon-database'></use></svg></label><div class='xr-var-attrs'><dl class='xr-attrs'></dl></div><div class='xr-var-data'><pre>array([0.17, 0.33, 0.5 , 0.67, 0.83])</pre></div></li><li class='xr-var-item'><div class='xr-var-name'><span class='xr-has-index'>NonCO2red</span></div><div class='xr-var-dims'>(NonCO2red)</div><div class='xr-var-dtype'>float64</div><div class='xr-var-preview xr-preview'>0.1 0.33 0.5 0.67 0.9</div><input id='attrs-206a2982-5a2a-4dcf-9c14-7dc36acc04c3' class='xr-var-attrs-in' type='checkbox' disabled><label for='attrs-206a2982-5a2a-4dcf-9c14-7dc36acc04c3' title='Show/Hide attributes'><svg class='icon xr-icon-file-text2'><use xlink:href='#icon-file-text2'></use></svg></label><input id='data-faf39e30-9d7f-42d4-9327-d722a44c05bd' class='xr-var-data-in' type='checkbox'><label for='data-faf39e30-9d7f-42d4-9327-d722a44c05bd' title='Show/Hide data repr'><svg class='icon xr-icon-database'><use xlink:href='#icon-database'></use></svg></label><div class='xr-var-attrs'><dl class='xr-attrs'></dl></div><div class='xr-var-data'><pre>array([0.1 , 0.33, 0.5 , 0.67, 0.9 ])</pre></div></li><li class='xr-var-item'><div class='xr-var-name'><span class='xr-has-index'>NegEmis</span></div><div class='xr-var-dims'>(NegEmis)</div><div class='xr-var-dtype'>float64</div><div class='xr-var-preview xr-preview'>0.2 0.3 0.4 0.5 0.6 0.7 0.8</div><input id='attrs-d98e4c9b-0e38-4dbc-9dfe-33d735334e41' class='xr-var-attrs-in' type='checkbox' disabled><label for='attrs-d98e4c9b-0e38-4dbc-9dfe-33d735334e41' title='Show/Hide attributes'><svg class='icon xr-icon-file-text2'><use xlink:href='#icon-file-text2'></use></svg></label><input id='data-36768e4e-8b33-4248-9664-cc6b7439bcbd' class='xr-var-data-in' type='checkbox'><label for='data-36768e4e-8b33-4248-9664-cc6b7439bcbd' title='Show/Hide data repr'><svg class='icon xr-icon-database'><use xlink:href='#icon-database'></use></svg></label><div class='xr-var-attrs'><dl class='xr-attrs'></dl></div><div class='xr-var-data'><pre>array([0.2, 0.3, 0.4, 0.5, 0.6, 0.7, 0.8])</pre></div></li><li class='xr-var-item'><div class='xr-var-name'><span class='xr-has-index'>Timing</span></div><div class='xr-var-dims'>(Timing)</div><div class='xr-var-dtype'>&lt;U9</div><div class='xr-var-preview xr-preview'>&#x27;Delayed&#x27; &#x27;Immediate&#x27;</div><input id='attrs-0edeaafe-ea7e-4c37-931e-dd4722824162' class='xr-var-attrs-in' type='checkbox' disabled><label for='attrs-0edeaafe-ea7e-4c37-931e-dd4722824162' title='Show/Hide attributes'><svg class='icon xr-icon-file-text2'><use xlink:href='#icon-file-text2'></use></svg></label><input id='data-13febb22-3cb4-4bbb-858a-c75dfbba27c7' class='xr-var-data-in' type='checkbox'><label for='data-13febb22-3cb4-4bbb-858a-c75dfbba27c7' title='Show/Hide data repr'><svg class='icon xr-icon-database'><use xlink:href='#icon-database'></use></svg></label><div class='xr-var-attrs'><dl class='xr-attrs'></dl></div><div class='xr-var-data'><pre>array([&#x27;Delayed&#x27;, &#x27;Immediate&#x27;], dtype=&#x27;&lt;U9&#x27;)</pre></div></li><li class='xr-var-item'><div class='xr-var-name'><span>source</span></div><div class='xr-var-dims'>()</div><div class='xr-var-dtype'>&lt;U25</div><div class='xr-var-preview xr-preview'>...</div><input id='attrs-724b8323-1951-4b96-8254-0e112d0343b4' class='xr-var-attrs-in' type='checkbox' disabled><label for='attrs-724b8323-1951-4b96-8254-0e112d0343b4' title='Show/Hide attributes'><svg class='icon xr-icon-file-text2'><use xlink:href='#icon-file-text2'></use></svg></label><input id='data-c128f255-9732-4c4c-bda7-5a0208ef9881' class='xr-var-data-in' type='checkbox'><label for='data-c128f255-9732-4c4c-bda7-5a0208ef9881' title='Show/Hide data repr'><svg class='icon xr-icon-database'><use xlink:href='#icon-database'></use></svg></label><div class='xr-var-attrs'><dl class='xr-attrs'></dl></div><div class='xr-var-data'><pre>[1 values with dtype=&lt;U25]</pre></div></li><li class='xr-var-item'><div class='xr-var-name'><span>Version</span></div><div class='xr-var-dims'>()</div><div class='xr-var-dtype'>&lt;U6</div><div class='xr-var-preview xr-preview'>...</div><input id='attrs-18f0f662-6a74-4525-947f-a8725d7c6efe' class='xr-var-attrs-in' type='checkbox' disabled><label for='attrs-18f0f662-6a74-4525-947f-a8725d7c6efe' title='Show/Hide attributes'><svg class='icon xr-icon-file-text2'><use xlink:href='#icon-file-text2'></use></svg></label><input id='data-55512245-0db5-4458-a77f-954e77800ef7' class='xr-var-data-in' type='checkbox'><label for='data-55512245-0db5-4458-a77f-954e77800ef7' title='Show/Hide data repr'><svg class='icon xr-icon-database'><use xlink:href='#icon-database'></use></svg></label><div class='xr-var-attrs'><dl class='xr-attrs'></dl></div><div class='xr-var-data'><pre>[1 values with dtype=&lt;U6]</pre></div></li><li class='xr-var-item'><div class='xr-var-name'><span>variable</span></div><div class='xr-var-dims'>()</div><div class='xr-var-dtype'>&lt;U8</div><div class='xr-var-preview xr-preview'>...</div><input id='attrs-5605d283-0671-4adc-b447-99e648fc93a8' class='xr-var-attrs-in' type='checkbox' disabled><label for='attrs-5605d283-0671-4adc-b447-99e648fc93a8' title='Show/Hide attributes'><svg class='icon xr-icon-file-text2'><use xlink:href='#icon-file-text2'></use></svg></label><input id='data-4ec593fa-a7c0-415d-870c-55bdb7515408' class='xr-var-data-in' type='checkbox'><label for='data-4ec593fa-a7c0-415d-870c-55bdb7515408' title='Show/Hide data repr'><svg class='icon xr-icon-database'><use xlink:href='#icon-database'></use></svg></label><div class='xr-var-attrs'><dl class='xr-attrs'></dl></div><div class='xr-var-data'><pre>[1 values with dtype=&lt;U8]</pre></div></li></ul></div></li><li class='xr-section-item'><input id='section-4e9da883-869d-4faa-92c4-39464eac8bfe' class='xr-section-summary-in' type='checkbox'  ><label for='section-4e9da883-869d-4faa-92c4-39464eac8bfe' class='xr-section-summary' >Data variables: <span>(15)</span></label><div class='xr-section-inline-details'></div><div class='xr-section-details'><ul class='xr-var-list'><li class='xr-var-item'><div class='xr-var-name'><span>GDP</span></div><div class='xr-var-dims'>(Scenario, Region, Time)</div><div class='xr-var-dtype'>float64</div><div class='xr-var-preview xr-preview'>...</div><input id='attrs-929a51ec-2255-4bdc-9d69-d04e7adf9f1a' class='xr-var-attrs-in' type='checkbox' disabled><label for='attrs-929a51ec-2255-4bdc-9d69-d04e7adf9f1a' title='Show/Hide attributes'><svg class='icon xr-icon-file-text2'><use xlink:href='#icon-file-text2'></use></svg></label><input id='data-325e92fa-addc-446e-9cbc-099614764da1' class='xr-var-data-in' type='checkbox'><label for='data-325e92fa-addc-446e-9cbc-099614764da1' title='Show/Hide data repr'><svg class='icon xr-icon-database'><use xlink:href='#icon-database'></use></svg></label><div class='xr-var-attrs'><dl class='xr-attrs'></dl></div><div class='xr-var-data'><pre>[259785 values with dtype=float64]</pre></div></li><li class='xr-var-item'><div class='xr-var-name'><span>Population</span></div><div class='xr-var-dims'>(Scenario, Region, Time)</div><div class='xr-var-dtype'>float64</div><div class='xr-var-preview xr-preview'>...</div><input id='attrs-74f96471-ef49-4983-9f43-7ebc21a44038' class='xr-var-attrs-in' type='checkbox' disabled><label for='attrs-74f96471-ef49-4983-9f43-7ebc21a44038' title='Show/Hide attributes'><svg class='icon xr-icon-file-text2'><use xlink:href='#icon-file-text2'></use></svg></label><input id='data-50de4a60-dc21-4e1d-ae8f-d4bb3ed4e5ca' class='xr-var-data-in' type='checkbox'><label for='data-50de4a60-dc21-4e1d-ae8f-d4bb3ed4e5ca' title='Show/Hide data repr'><svg class='icon xr-icon-database'><use xlink:href='#icon-database'></use></svg></label><div class='xr-var-attrs'><dl class='xr-attrs'></dl></div><div class='xr-var-data'><pre>[259785 values with dtype=float64]</pre></div></li><li class='xr-var-item'><div class='xr-var-name'><span>GHG_hist</span></div><div class='xr-var-dims'>(Time, Region)</div><div class='xr-var-dtype'>float64</div><div class='xr-var-preview xr-preview'>...</div><input id='attrs-1edd56c6-5df4-46de-9476-de126a55013a' class='xr-var-attrs-in' type='checkbox' disabled><label for='attrs-1edd56c6-5df4-46de-9476-de126a55013a' title='Show/Hide attributes'><svg class='icon xr-icon-file-text2'><use xlink:href='#icon-file-text2'></use></svg></label><input id='data-6bdaf6e4-3c79-4dae-b63c-0a8ae1933f48' class='xr-var-data-in' type='checkbox'><label for='data-6bdaf6e4-3c79-4dae-b63c-0a8ae1933f48' title='Show/Hide data repr'><svg class='icon xr-icon-database'><use xlink:href='#icon-database'></use></svg></label><div class='xr-var-attrs'><dl class='xr-attrs'></dl></div><div class='xr-var-data'><pre>[51957 values with dtype=float64]</pre></div></li><li class='xr-var-item'><div class='xr-var-name'><span>CO2_hist</span></div><div class='xr-var-dims'>(Time, Region)</div><div class='xr-var-dtype'>float64</div><div class='xr-var-preview xr-preview'>...</div><input id='attrs-9c88ab2e-74ca-41d4-b7d5-b52bac2e1143' class='xr-var-attrs-in' type='checkbox' disabled><label for='attrs-9c88ab2e-74ca-41d4-b7d5-b52bac2e1143' title='Show/Hide attributes'><svg class='icon xr-icon-file-text2'><use xlink:href='#icon-file-text2'></use></svg></label><input id='data-ef8f1cb5-afe6-4e1b-b99a-89d195c99527' class='xr-var-data-in' type='checkbox'><label for='data-ef8f1cb5-afe6-4e1b-b99a-89d195c99527' title='Show/Hide data repr'><svg class='icon xr-icon-database'><use xlink:href='#icon-database'></use></svg></label><div class='xr-var-attrs'><dl class='xr-attrs'></dl></div><div class='xr-var-data'><pre>[51957 values with dtype=float64]</pre></div></li><li class='xr-var-item'><div class='xr-var-name'><span>N2O_hist</span></div><div class='xr-var-dims'>(Time, Region)</div><div class='xr-var-dtype'>float64</div><div class='xr-var-preview xr-preview'>...</div><input id='attrs-cbd7d11b-777f-4eaa-921c-89aedc886c8a' class='xr-var-attrs-in' type='checkbox' disabled><label for='attrs-cbd7d11b-777f-4eaa-921c-89aedc886c8a' title='Show/Hide attributes'><svg class='icon xr-icon-file-text2'><use xlink:href='#icon-file-text2'></use></svg></label><input id='data-06e9c9ee-ab76-4b27-b200-8f8522266e9d' class='xr-var-data-in' type='checkbox'><label for='data-06e9c9ee-ab76-4b27-b200-8f8522266e9d' title='Show/Hide data repr'><svg class='icon xr-icon-database'><use xlink:href='#icon-database'></use></svg></label><div class='xr-var-attrs'><dl class='xr-attrs'></dl></div><div class='xr-var-data'><pre>[51957 values with dtype=float64]</pre></div></li><li class='xr-var-item'><div class='xr-var-name'><span>CH4_hist</span></div><div class='xr-var-dims'>(Time, Region)</div><div class='xr-var-dtype'>float64</div><div class='xr-var-preview xr-preview'>...</div><input id='attrs-a7dc6367-9201-4c42-9ed6-5d6125e29013' class='xr-var-attrs-in' type='checkbox' disabled><label for='attrs-a7dc6367-9201-4c42-9ed6-5d6125e29013' title='Show/Hide attributes'><svg class='icon xr-icon-file-text2'><use xlink:href='#icon-file-text2'></use></svg></label><input id='data-eb7a3e5d-386b-4260-82ee-18d5d71016bf' class='xr-var-data-in' type='checkbox'><label for='data-eb7a3e5d-386b-4260-82ee-18d5d71016bf' title='Show/Hide data repr'><svg class='icon xr-icon-database'><use xlink:href='#icon-database'></use></svg></label><div class='xr-var-attrs'><dl class='xr-attrs'></dl></div><div class='xr-var-data'><pre>[51957 values with dtype=float64]</pre></div></li><li class='xr-var-item'><div class='xr-var-name'><span>GHG_hist_all</span></div><div class='xr-var-dims'>(Time, Region)</div><div class='xr-var-dtype'>float64</div><div class='xr-var-preview xr-preview'>...</div><input id='attrs-2bd6581f-e90f-4371-8d55-8bece744a152' class='xr-var-attrs-in' type='checkbox' disabled><label for='attrs-2bd6581f-e90f-4371-8d55-8bece744a152' title='Show/Hide attributes'><svg class='icon xr-icon-file-text2'><use xlink:href='#icon-file-text2'></use></svg></label><input id='data-3f9c0cfd-c4da-4a53-97c1-b3080bd14805' class='xr-var-data-in' type='checkbox'><label for='data-3f9c0cfd-c4da-4a53-97c1-b3080bd14805' title='Show/Hide data repr'><svg class='icon xr-icon-database'><use xlink:href='#icon-database'></use></svg></label><div class='xr-var-attrs'><dl class='xr-attrs'></dl></div><div class='xr-var-data'><pre>[51957 values with dtype=float64]</pre></div></li><li class='xr-var-item'><div class='xr-var-name'><span>GHG_hist_ndc_corr</span></div><div class='xr-var-dims'>(Time, Region, Conditionality, Hot_air, Ambition)</div><div class='xr-var-dtype'>float64</div><div class='xr-var-preview xr-preview'>...</div><input id='attrs-0a2875bf-b5e1-4839-9065-3139393cac94' class='xr-var-attrs-in' type='checkbox' disabled><label for='attrs-0a2875bf-b5e1-4839-9065-3139393cac94' title='Show/Hide attributes'><svg class='icon xr-icon-file-text2'><use xlink:href='#icon-file-text2'></use></svg></label><input id='data-a7f39f92-71be-44ec-a123-2f8934a677ee' class='xr-var-data-in' type='checkbox'><label for='data-a7f39f92-71be-44ec-a123-2f8934a677ee' title='Show/Hide data repr'><svg class='icon xr-icon-database'><use xlink:href='#icon-database'></use></svg></label><div class='xr-var-attrs'><dl class='xr-attrs'></dl></div><div class='xr-var-data'><pre>[623484 values with dtype=float64]</pre></div></li><li class='xr-var-item'><div class='xr-var-name'><span>GHG_hist_excl</span></div><div class='xr-var-dims'>(Time, Region)</div><div class='xr-var-dtype'>float64</div><div class='xr-var-preview xr-preview'>...</div><input id='attrs-f4e371bb-cb17-4915-b2fd-189345fd3689' class='xr-var-attrs-in' type='checkbox' disabled><label for='attrs-f4e371bb-cb17-4915-b2fd-189345fd3689' title='Show/Hide attributes'><svg class='icon xr-icon-file-text2'><use xlink:href='#icon-file-text2'></use></svg></label><input id='data-d584c31f-dd21-4e25-a195-178b6377983f' class='xr-var-data-in' type='checkbox'><label for='data-d584c31f-dd21-4e25-a195-178b6377983f' title='Show/Hide data repr'><svg class='icon xr-icon-database'><use xlink:href='#icon-database'></use></svg></label><div class='xr-var-attrs'><dl class='xr-attrs'></dl></div><div class='xr-var-data'><pre>[51957 values with dtype=float64]</pre></div></li><li class='xr-var-item'><div class='xr-var-name'><span>Budget</span></div><div class='xr-var-dims'>(Temperature, Risk, NonCO2red)</div><div class='xr-var-dtype'>float64</div><div class='xr-var-preview xr-preview'>...</div><input id='attrs-94162c49-50b3-4dc2-b1de-fdd91be898ca' class='xr-var-attrs-in' type='checkbox' disabled><label for='attrs-94162c49-50b3-4dc2-b1de-fdd91be898ca' title='Show/Hide attributes'><svg class='icon xr-icon-file-text2'><use xlink:href='#icon-file-text2'></use></svg></label><input id='data-eaf21a83-17d1-4d50-9940-9f4153b00319' class='xr-var-data-in' type='checkbox'><label for='data-eaf21a83-17d1-4d50-9940-9f4153b00319' title='Show/Hide data repr'><svg class='icon xr-icon-database'><use xlink:href='#icon-database'></use></svg></label><div class='xr-var-attrs'><dl class='xr-attrs'></dl></div><div class='xr-var-data'><pre>[250 values with dtype=float64]</pre></div></li><li class='xr-var-item'><div class='xr-var-name'><span>GHG_globe</span></div><div class='xr-var-dims'>(NegEmis, NonCO2red, Temperature, Risk, Timing, Time)</div><div class='xr-var-dtype'>float64</div><div class='xr-var-preview xr-preview'>...</div><input id='attrs-57888d9a-f728-4c11-b41e-c914d4049343' class='xr-var-attrs-in' type='checkbox' disabled><label for='attrs-57888d9a-f728-4c11-b41e-c914d4049343' title='Show/Hide attributes'><svg class='icon xr-icon-file-text2'><use xlink:href='#icon-file-text2'></use></svg></label><input id='data-27fc5869-76e2-450c-8e1f-f6702b771c27' class='xr-var-data-in' type='checkbox'><label for='data-27fc5869-76e2-450c-8e1f-f6702b771c27' title='Show/Hide data repr'><svg class='icon xr-icon-database'><use xlink:href='#icon-database'></use></svg></label><div class='xr-var-attrs'><dl class='xr-attrs'></dl></div><div class='xr-var-data'><pre>[878500 values with dtype=float64]</pre></div></li><li class='xr-var-item'><div class='xr-var-name'><span>CO2_globe</span></div><div class='xr-var-dims'>(NegEmis, NonCO2red, Temperature, Risk, Timing, Time)</div><div class='xr-var-dtype'>float64</div><div class='xr-var-preview xr-preview'>...</div><input id='attrs-5e7cfdf8-f7b7-43d6-ba28-c0b299b7ffb7' class='xr-var-attrs-in' type='checkbox' ><label for='attrs-5e7cfdf8-f7b7-43d6-ba28-c0b299b7ffb7' title='Show/Hide attributes'><svg class='icon xr-icon-file-text2'><use xlink:href='#icon-file-text2'></use></svg></label><input id='data-2b8c2946-07b6-453d-9a6b-7ed907316d3d' class='xr-var-data-in' type='checkbox'><label for='data-2b8c2946-07b6-453d-9a6b-7ed907316d3d' title='Show/Hide data repr'><svg class='icon xr-icon-database'><use xlink:href='#icon-database'></use></svg></label><div class='xr-var-attrs'><dl class='xr-attrs'><dt><span>description :</span></dt><dd>Pathway data</dd></dl></div><div class='xr-var-data'><pre>[878500 values with dtype=float64]</pre></div></li><li class='xr-var-item'><div class='xr-var-name'><span>NonCO2_globe</span></div><div class='xr-var-dims'>(NonCO2red, Time, Timing, Temperature)</div><div class='xr-var-dtype'>float64</div><div class='xr-var-preview xr-preview'>...</div><input id='attrs-5efe0e31-aaaf-4925-8354-12454d87fed2' class='xr-var-attrs-in' type='checkbox' disabled><label for='attrs-5efe0e31-aaaf-4925-8354-12454d87fed2' title='Show/Hide attributes'><svg class='icon xr-icon-file-text2'><use xlink:href='#icon-file-text2'></use></svg></label><input id='data-19d776e7-e876-42d5-b4d8-6d0a94ca017b' class='xr-var-data-in' type='checkbox'><label for='data-19d776e7-e876-42d5-b4d8-6d0a94ca017b' title='Show/Hide data repr'><svg class='icon xr-icon-database'><use xlink:href='#icon-database'></use></svg></label><div class='xr-var-attrs'><dl class='xr-attrs'></dl></div><div class='xr-var-data'><pre>[25100 values with dtype=float64]</pre></div></li><li class='xr-var-item'><div class='xr-var-name'><span>GHG_base</span></div><div class='xr-var-dims'>(Region, Scenario, Time)</div><div class='xr-var-dtype'>float64</div><div class='xr-var-preview xr-preview'>...</div><input id='attrs-dd6c28d4-e62b-43db-86be-0b655c0a22be' class='xr-var-attrs-in' type='checkbox' disabled><label for='attrs-dd6c28d4-e62b-43db-86be-0b655c0a22be' title='Show/Hide attributes'><svg class='icon xr-icon-file-text2'><use xlink:href='#icon-file-text2'></use></svg></label><input id='data-71d157e4-3c67-4e8c-b3ec-cbb97928895a' class='xr-var-data-in' type='checkbox'><label for='data-71d157e4-3c67-4e8c-b3ec-cbb97928895a' title='Show/Hide data repr'><svg class='icon xr-icon-database'><use xlink:href='#icon-database'></use></svg></label><div class='xr-var-attrs'><dl class='xr-attrs'></dl></div><div class='xr-var-data'><pre>[259785 values with dtype=float64]</pre></div></li><li class='xr-var-item'><div class='xr-var-name'><span>GHG_ndc</span></div><div class='xr-var-dims'>(Region, Conditionality, Hot_air, Ambition, Time)</div><div class='xr-var-dtype'>float64</div><div class='xr-var-preview xr-preview'>...</div><input id='attrs-8a723d20-5c84-4487-988a-a3cb8e69c939' class='xr-var-attrs-in' type='checkbox' disabled><label for='attrs-8a723d20-5c84-4487-988a-a3cb8e69c939' title='Show/Hide attributes'><svg class='icon xr-icon-file-text2'><use xlink:href='#icon-file-text2'></use></svg></label><input id='data-c1228355-ec23-4db3-ad4d-da54b63e15e9' class='xr-var-data-in' type='checkbox'><label for='data-c1228355-ec23-4db3-ad4d-da54b63e15e9' title='Show/Hide data repr'><svg class='icon xr-icon-database'><use xlink:href='#icon-database'></use></svg></label><div class='xr-var-attrs'><dl class='xr-attrs'></dl></div><div class='xr-var-data'><pre>[623484 values with dtype=float64]</pre></div></li></ul></div></li><li class='xr-section-item'><input id='section-1508db9a-41f9-4f35-8fa0-17af8f1441e2' class='xr-section-summary-in' type='checkbox'  ><label for='section-1508db9a-41f9-4f35-8fa0-17af8f1441e2' class='xr-section-summary' >Indexes: <span>(11)</span></label><div class='xr-section-inline-details'></div><div class='xr-section-details'><ul class='xr-var-list'><li class='xr-var-item'><div class='xr-index-name'><div>Scenario</div></div><div class='xr-index-preview'>PandasIndex</div><div></div><input id='index-e090ebab-2e02-4f09-8838-478ae6fdfe91' class='xr-index-data-in' type='checkbox'/><label for='index-e090ebab-2e02-4f09-8838-478ae6fdfe91' title='Show/Hide index repr'><svg class='icon xr-icon-database'><use xlink:href='#icon-database'></use></svg></label><div class='xr-index-data'><pre>PandasIndex(Index([&#x27;SSP1&#x27;, &#x27;SSP2&#x27;, &#x27;SSP3&#x27;, &#x27;SSP4&#x27;, &#x27;SSP5&#x27;], dtype=&#x27;object&#x27;, name=&#x27;Scenario&#x27;))</pre></div></li><li class='xr-var-item'><div class='xr-index-name'><div>Region</div></div><div class='xr-index-preview'>PandasIndex</div><div></div><input id='index-69b7e60c-1e6c-4a0f-bc80-6954d7877943' class='xr-index-data-in' type='checkbox'/><label for='index-69b7e60c-1e6c-4a0f-bc80-6954d7877943' title='Show/Hide index repr'><svg class='icon xr-icon-database'><use xlink:href='#icon-database'></use></svg></label><div class='xr-index-data'><pre>PandasIndex(Index([&#x27;AFG&#x27;, &#x27;ALB&#x27;, &#x27;DZA&#x27;, &#x27;AND&#x27;, &#x27;AGO&#x27;, &#x27;ATG&#x27;, &#x27;ARG&#x27;, &#x27;ARM&#x27;, &#x27;AUS&#x27;, &#x27;AUT&#x27;,\n",
       "       ...\n",
       "       &#x27;EU&#x27;, &#x27;EARTH&#x27;, &#x27;G20&#x27;, &#x27;G7&#x27;, &#x27;SIDS&#x27;, &#x27;LDC&#x27;, &#x27;Northern America&#x27;,\n",
       "       &#x27;Australasia&#x27;, &#x27;African Group&#x27;, &#x27;Umbrella&#x27;],\n",
       "      dtype=&#x27;object&#x27;, name=&#x27;Region&#x27;, length=207))</pre></div></li><li class='xr-var-item'><div class='xr-index-name'><div>Time</div></div><div class='xr-index-preview'>PandasIndex</div><div></div><input id='index-a38cc600-c7bd-4516-9e03-ecad6747898a' class='xr-index-data-in' type='checkbox'/><label for='index-a38cc600-c7bd-4516-9e03-ecad6747898a' title='Show/Hide index repr'><svg class='icon xr-icon-database'><use xlink:href='#icon-database'></use></svg></label><div class='xr-index-data'><pre>PandasIndex(Index([1850, 1851, 1852, 1853, 1854, 1855, 1856, 1857, 1858, 1859,\n",
       "       ...\n",
       "       2091, 2092, 2093, 2094, 2095, 2096, 2097, 2098, 2099, 2100],\n",
       "      dtype=&#x27;int32&#x27;, name=&#x27;Time&#x27;, length=251))</pre></div></li><li class='xr-var-item'><div class='xr-index-name'><div>Conditionality</div></div><div class='xr-index-preview'>PandasIndex</div><div></div><input id='index-ddec1452-1dc6-4d65-b021-f58a6c959525' class='xr-index-data-in' type='checkbox'/><label for='index-ddec1452-1dc6-4d65-b021-f58a6c959525' title='Show/Hide index repr'><svg class='icon xr-icon-database'><use xlink:href='#icon-database'></use></svg></label><div class='xr-index-data'><pre>PandasIndex(Index([&#x27;conditional&#x27;, &#x27;range&#x27;, &#x27;unconditional&#x27;], dtype=&#x27;object&#x27;, name=&#x27;Conditionality&#x27;))</pre></div></li><li class='xr-var-item'><div class='xr-index-name'><div>Hot_air</div></div><div class='xr-index-preview'>PandasIndex</div><div></div><input id='index-a0c35cce-c390-4ca6-aa22-cc39c64e2d71' class='xr-index-data-in' type='checkbox'/><label for='index-a0c35cce-c390-4ca6-aa22-cc39c64e2d71' title='Show/Hide index repr'><svg class='icon xr-icon-database'><use xlink:href='#icon-database'></use></svg></label><div class='xr-index-data'><pre>PandasIndex(Index([&#x27;include&#x27;, &#x27;exclude&#x27;], dtype=&#x27;object&#x27;, name=&#x27;Hot_air&#x27;))</pre></div></li><li class='xr-var-item'><div class='xr-index-name'><div>Ambition</div></div><div class='xr-index-preview'>PandasIndex</div><div></div><input id='index-f2842219-d1e7-4884-ab10-fb50fbfa37cd' class='xr-index-data-in' type='checkbox'/><label for='index-f2842219-d1e7-4884-ab10-fb50fbfa37cd' title='Show/Hide index repr'><svg class='icon xr-icon-database'><use xlink:href='#icon-database'></use></svg></label><div class='xr-index-data'><pre>PandasIndex(Index([&#x27;low&#x27;, &#x27;high&#x27;], dtype=&#x27;object&#x27;, name=&#x27;Ambition&#x27;))</pre></div></li><li class='xr-var-item'><div class='xr-index-name'><div>Temperature</div></div><div class='xr-index-preview'>PandasIndex</div><div></div><input id='index-0463d109-bb8f-4ad0-985d-32f87870d3a8' class='xr-index-data-in' type='checkbox'/><label for='index-0463d109-bb8f-4ad0-985d-32f87870d3a8' title='Show/Hide index repr'><svg class='icon xr-icon-database'><use xlink:href='#icon-database'></use></svg></label><div class='xr-index-data'><pre>PandasIndex(Index([1.5, 1.6, 1.7, 1.8, 1.9, 2.0, 2.1, 2.2, 2.3, 2.4], dtype=&#x27;float64&#x27;, name=&#x27;Temperature&#x27;))</pre></div></li><li class='xr-var-item'><div class='xr-index-name'><div>Risk</div></div><div class='xr-index-preview'>PandasIndex</div><div></div><input id='index-45929d2d-4804-482e-83c3-0c243915190b' class='xr-index-data-in' type='checkbox'/><label for='index-45929d2d-4804-482e-83c3-0c243915190b' title='Show/Hide index repr'><svg class='icon xr-icon-database'><use xlink:href='#icon-database'></use></svg></label><div class='xr-index-data'><pre>PandasIndex(Index([0.17, 0.33, 0.5, 0.67, 0.83], dtype=&#x27;float64&#x27;, name=&#x27;Risk&#x27;))</pre></div></li><li class='xr-var-item'><div class='xr-index-name'><div>NonCO2red</div></div><div class='xr-index-preview'>PandasIndex</div><div></div><input id='index-514da459-f374-4462-ab36-fbd5ba555b91' class='xr-index-data-in' type='checkbox'/><label for='index-514da459-f374-4462-ab36-fbd5ba555b91' title='Show/Hide index repr'><svg class='icon xr-icon-database'><use xlink:href='#icon-database'></use></svg></label><div class='xr-index-data'><pre>PandasIndex(Index([0.1, 0.33, 0.5, 0.67, 0.9], dtype=&#x27;float64&#x27;, name=&#x27;NonCO2red&#x27;))</pre></div></li><li class='xr-var-item'><div class='xr-index-name'><div>NegEmis</div></div><div class='xr-index-preview'>PandasIndex</div><div></div><input id='index-7dae8f8c-bc82-427e-9aba-97cd0c3a46f1' class='xr-index-data-in' type='checkbox'/><label for='index-7dae8f8c-bc82-427e-9aba-97cd0c3a46f1' title='Show/Hide index repr'><svg class='icon xr-icon-database'><use xlink:href='#icon-database'></use></svg></label><div class='xr-index-data'><pre>PandasIndex(Index([0.2, 0.3, 0.4, 0.5, 0.6, 0.7, 0.8], dtype=&#x27;float64&#x27;, name=&#x27;NegEmis&#x27;))</pre></div></li><li class='xr-var-item'><div class='xr-index-name'><div>Timing</div></div><div class='xr-index-preview'>PandasIndex</div><div></div><input id='index-aacd50b0-0b20-44c7-86f0-1b88a2b546f5' class='xr-index-data-in' type='checkbox'/><label for='index-aacd50b0-0b20-44c7-86f0-1b88a2b546f5' title='Show/Hide index repr'><svg class='icon xr-icon-database'><use xlink:href='#icon-database'></use></svg></label><div class='xr-index-data'><pre>PandasIndex(Index([&#x27;Delayed&#x27;, &#x27;Immediate&#x27;], dtype=&#x27;object&#x27;, name=&#x27;Timing&#x27;))</pre></div></li></ul></div></li><li class='xr-section-item'><input id='section-8222662b-5d12-45ec-987a-2a27b9202285' class='xr-section-summary-in' type='checkbox' disabled ><label for='section-8222662b-5d12-45ec-987a-2a27b9202285' class='xr-section-summary'  title='Expand/collapse section'>Attributes: <span>(0)</span></label><div class='xr-section-inline-details'></div><div class='xr-section-details'><dl class='xr-attrs'></dl></div></li></ul></div></div>"
      ],
      "text/plain": [
       "<xarray.Dataset>\n",
       "Dimensions:            (Scenario: 5, Region: 207, Time: 251, Conditionality: 3,\n",
       "                        Hot_air: 2, Ambition: 2, Temperature: 10, Risk: 5,\n",
       "                        NonCO2red: 5, NegEmis: 7, Timing: 2)\n",
       "Coordinates: (12/14)\n",
       "  * Scenario           (Scenario) <U4 'SSP1' 'SSP2' 'SSP3' 'SSP4' 'SSP5'\n",
       "  * Region             (Region) <U16 'AFG' 'ALB' ... 'African Group' 'Umbrella'\n",
       "  * Time               (Time) int32 1850 1851 1852 1853 ... 2097 2098 2099 2100\n",
       "  * Conditionality     (Conditionality) <U13 'conditional' ... 'unconditional'\n",
       "  * Hot_air            (Hot_air) <U7 'include' 'exclude'\n",
       "  * Ambition           (Ambition) <U4 'low' 'high'\n",
       "    ...                 ...\n",
       "  * NonCO2red          (NonCO2red) float64 0.1 0.33 0.5 0.67 0.9\n",
       "  * NegEmis            (NegEmis) float64 0.2 0.3 0.4 0.5 0.6 0.7 0.8\n",
       "  * Timing             (Timing) <U9 'Delayed' 'Immediate'\n",
       "    source             <U25 ...\n",
       "    Version            <U6 ...\n",
       "    variable           <U8 ...\n",
       "Data variables: (12/15)\n",
       "    GDP                (Scenario, Region, Time) float64 ...\n",
       "    Population         (Scenario, Region, Time) float64 ...\n",
       "    GHG_hist           (Time, Region) float64 ...\n",
       "    CO2_hist           (Time, Region) float64 ...\n",
       "    N2O_hist           (Time, Region) float64 ...\n",
       "    CH4_hist           (Time, Region) float64 ...\n",
       "    ...                 ...\n",
       "    Budget             (Temperature, Risk, NonCO2red) float64 ...\n",
       "    GHG_globe          (NegEmis, NonCO2red, Temperature, Risk, Timing, Time) float64 ...\n",
       "    CO2_globe          (NegEmis, NonCO2red, Temperature, Risk, Timing, Time) float64 ...\n",
       "    NonCO2_globe       (NonCO2red, Time, Timing, Temperature) float64 ...\n",
       "    GHG_base           (Region, Scenario, Time) float64 ...\n",
       "    GHG_ndc            (Region, Conditionality, Hot_air, Ambition, Time) float64 ..."
      ]
     },
     "execution_count": 15,
     "metadata": {},
     "output_type": "execute_result"
    }
   ],
   "source": [
    "xr_dataread"
   ]
  },
  {
   "cell_type": "markdown",
   "metadata": {},
   "source": [
    "Trajectory emissions"
   ]
  },
  {
   "cell_type": "code",
   "execution_count": 13,
   "metadata": {},
   "outputs": [
    {
     "name": "stderr",
     "output_type": "stream",
     "text": [
      "100%|██████████| 5/5 [00:01<00:00,  3.53it/s]\n"
     ]
    }
   ],
   "source": [
    "xrs = []\n",
    "for cty in tqdm(all_countries_iso[:5]):\n",
    "    xrs.append(xr.open_dataset(path_save + \"Allocations/xr_alloc_\"+cty+\".nc\").sel(Temperature=1.5, Risk=0.5, NonCO2red=0.5, Timing='Immediate', NegEmis=0.5, Time=np.arange(params['start_year_analysis'], 2101))['GF'].expand_dims(Region=[cty]))"
   ]
  },
  {
   "cell_type": "code",
   "execution_count": null,
   "metadata": {},
   "outputs": [],
   "source": [
    "# for temp_i, temp in enumerate([1.5, 2.0]):\n",
    "#     for cty_i, cty in tqdm(enumerate(focusregs)):\n",
    "#         ds = xr.open_dataset(path_alloc + \"xr_alloc_\"+cty+\".nc\").sel(Temperature=temp, Risk=[0.5, 0.33][temp_i], Time=np.arange(params['start_year_analysis'], 2101)).expand_dims(Region=[cty])\n",
    "#         if cty_i == 0:\n",
    "#             xrt = ds.copy()\n",
    "#         else:\n",
    "#             xrt = xr.merge([xrt, ds])\n",
    "#         ds.close()\n",
    "#     xrt.astype(\"float32\").to_netcdf(path_save + \"xr_traj_\"+str(temp)[0]+str(temp)[2]+\"_50.nc\", format='NETCDF4')"
   ]
  }
 ],
 "metadata": {
  "kernelspec": {
   "display_name": "MyEnv",
   "language": "python",
   "name": "python3"
  },
  "language_info": {
   "codemirror_mode": {
    "name": "ipython",
    "version": 3
   },
   "file_extension": ".py",
   "mimetype": "text/x-python",
   "name": "python",
   "nbconvert_exporter": "python",
   "pygments_lexer": "ipython3",
   "version": "3.12.1"
  },
  "orig_nbformat": 4
 },
 "nbformat": 4,
 "nbformat_minor": 2
}
