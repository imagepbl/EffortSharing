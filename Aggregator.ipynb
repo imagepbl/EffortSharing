{
 "cells": [
  {
   "cell_type": "markdown",
   "metadata": {},
   "source": [
    "## Preambule"
   ]
  },
  {
   "cell_type": "code",
   "execution_count": 1,
   "metadata": {},
   "outputs": [
    {
     "name": "stderr",
     "output_type": "stream",
     "text": [
      "C:\\Users\\dekkerm\\AppData\\Local\\Temp\\2\\ipykernel_8400\\2088128098.py:2: DeprecationWarning: \n",
      "Pyarrow will become a required dependency of pandas in the next major release of pandas (pandas 3.0),\n",
      "(to allow more performant data types, such as the Arrow string type, and better interoperability with other libraries)\n",
      "but was not found to be installed on your system.\n",
      "If this would cause problems for you,\n",
      "please provide us feedback at https://github.com/pandas-dev/pandas/issues/54466\n",
      "        \n",
      "  import pandas as pd\n"
     ]
    }
   ],
   "source": [
    "import numpy as np\n",
    "import pandas as pd\n",
    "import matplotlib.pyplot as plt\n",
    "from pathlib import Path\n",
    "from tqdm import tqdm\n",
    "import xarray as xr\n",
    "\n",
    "import warnings\n",
    "warnings.simplefilter(action='ignore', category=FutureWarning)"
   ]
  },
  {
   "cell_type": "markdown",
   "metadata": {},
   "source": [
    "## Input"
   ]
  },
  {
   "cell_type": "code",
   "execution_count": 2,
   "metadata": {},
   "outputs": [],
   "source": [
    "params = dict(start_year_analysis=2021)\n",
    "version = '' # 'PBL/' or ''  \n",
    "path_alloc = \"K:/ECEMF/T5.2/Allocations/\"+version\n",
    "path_save = \"K:/ECEMF/T5.2/\"+version"
   ]
  },
  {
   "cell_type": "markdown",
   "metadata": {},
   "source": [
    "## Read"
   ]
  },
  {
   "cell_type": "code",
   "execution_count": 3,
   "metadata": {},
   "outputs": [],
   "source": [
    "xr_dataread = xr.open_dataset(path_save + \"xr_dataread.nc\", engine='netcdf4')\n",
    "all_countries_iso = np.load(path_save + \"all_countries.npy\", allow_pickle=True)"
   ]
  },
  {
   "cell_type": "code",
   "execution_count": 6,
   "metadata": {},
   "outputs": [],
   "source": [
    "focusregs = np.array(xr_dataread.Region)\n",
    "if version == 'PBL/': temperatures = [1.56, 2.0]\n",
    "else: temperatures = [1.5, 2.0]\n",
    "rules = ['GF', 'PC', 'PCC', 'PCB_lin', 'ECPC', 'AP', 'GDR']"
   ]
  },
  {
   "cell_type": "markdown",
   "metadata": {},
   "source": [
    "## Reduction percentages for EZK"
   ]
  },
  {
   "cell_type": "code",
   "execution_count": 6,
   "metadata": {},
   "outputs": [],
   "source": [
    "for t in [2030, 2035, 2040]:\n",
    "    ds = xr.open_dataset(path_save + \"xr_alloc_\"+str(t)+\".nc\")\n",
    "    cur = xr_dataread.GHG_hist.sel(Time=1990)\n",
    "    ds = -(cur-ds)/cur\n",
    "    ds.sel(Discount_factor=0, Historical_startyear=1990, Capability_threshold='Th', RCI_weight='Half', Scenario='SSP2', Convergence_year=2050, Risk=0.5, NegEmis=[0.3, 0.5, 0.7]).drop_vars(['Scenario', 'Convergence_year', 'Discount_factor', 'Historical_startyear', 'Capability_threshold', 'RCI_weight', 'Time', 'source', 'Version', 'variable']).to_dataframe().to_csv(path_save + \"Reductions_\"+str(t)+\".csv\")"
   ]
  },
  {
   "cell_type": "markdown",
   "metadata": {},
   "source": [
    "## Reduction percentages by 2040 w.r.t. 2015 (Paris):"
   ]
  },
  {
   "cell_type": "code",
   "execution_count": 8,
   "metadata": {},
   "outputs": [],
   "source": [
    "for t in [2040]:\n",
    "    ds = xr.open_dataset(path_save + \"xr_alloc_\"+str(t)+\".nc\")\n",
    "    cur = xr_dataread.GHG_hist.sel(Time=2015)\n",
    "    ds = -(cur-ds)/cur\n",
    "    ds.sel(Discount_factor=0, Historical_startyear=1990, Capability_threshold='Th', RCI_weight='Half', Scenario='SSP2', Convergence_year=2050, Risk=0.5, NegEmis=0.5, Temperature=1.5, NonCO2red=0.5, Timing='Immediate'\n",
    "           ).drop_vars(['Scenario', 'Convergence_year', 'Discount_factor', 'Historical_startyear', 'Capability_threshold', 'RCI_weight', 'Time', 'source', 'Version', 'variable', 'NegEmis', 'Temperature', 'Risk', 'NonCO2red', 'Timing']).to_dataframe().to_csv(path_save + \"Reductions_\"+str(t)+\"_wrt2015.csv\")"
   ]
  },
  {
   "cell_type": "markdown",
   "metadata": {},
   "source": [
    "## Save allocations by year"
   ]
  },
  {
   "cell_type": "code",
   "execution_count": 16,
   "metadata": {},
   "outputs": [
    {
     "name": "stdout",
     "output_type": "stream",
     "text": [
      "Starting with 2035\n"
     ]
    },
    {
     "name": "stderr",
     "output_type": "stream",
     "text": [
      "207it [22:17,  6.46s/it]\n"
     ]
    },
    {
     "name": "stdout",
     "output_type": "stream",
     "text": [
      "Starting with 2040\n"
     ]
    },
    {
     "name": "stderr",
     "output_type": "stream",
     "text": [
      "207it [22:11,  6.43s/it]\n"
     ]
    },
    {
     "name": "stdout",
     "output_type": "stream",
     "text": [
      "Starting with 2045\n"
     ]
    },
    {
     "name": "stderr",
     "output_type": "stream",
     "text": [
      "207it [20:46,  6.02s/it]\n"
     ]
    },
    {
     "name": "stdout",
     "output_type": "stream",
     "text": [
      "Starting with 2050\n"
     ]
    },
    {
     "name": "stderr",
     "output_type": "stream",
     "text": [
      "207it [20:28,  5.94s/it]\n"
     ]
    },
    {
     "name": "stdout",
     "output_type": "stream",
     "text": [
      "Starting with 2055\n"
     ]
    },
    {
     "name": "stderr",
     "output_type": "stream",
     "text": [
      "207it [20:59,  6.08s/it]\n"
     ]
    },
    {
     "name": "stdout",
     "output_type": "stream",
     "text": [
      "Starting with 2060\n"
     ]
    },
    {
     "name": "stderr",
     "output_type": "stream",
     "text": [
      "207it [20:27,  5.93s/it]\n"
     ]
    },
    {
     "name": "stdout",
     "output_type": "stream",
     "text": [
      "Starting with 2065\n"
     ]
    },
    {
     "name": "stderr",
     "output_type": "stream",
     "text": [
      "207it [20:20,  5.90s/it]\n"
     ]
    },
    {
     "name": "stdout",
     "output_type": "stream",
     "text": [
      "Starting with 2070\n"
     ]
    },
    {
     "name": "stderr",
     "output_type": "stream",
     "text": [
      "207it [21:17,  6.17s/it]\n"
     ]
    },
    {
     "name": "stdout",
     "output_type": "stream",
     "text": [
      "Starting with 2075\n"
     ]
    },
    {
     "name": "stderr",
     "output_type": "stream",
     "text": [
      "207it [20:52,  6.05s/it]\n"
     ]
    },
    {
     "name": "stdout",
     "output_type": "stream",
     "text": [
      "Starting with 2080\n"
     ]
    },
    {
     "name": "stderr",
     "output_type": "stream",
     "text": [
      "207it [19:58,  5.79s/it]\n"
     ]
    },
    {
     "name": "stdout",
     "output_type": "stream",
     "text": [
      "Starting with 2085\n"
     ]
    },
    {
     "name": "stderr",
     "output_type": "stream",
     "text": [
      "207it [20:17,  5.88s/it]\n"
     ]
    },
    {
     "name": "stdout",
     "output_type": "stream",
     "text": [
      "Starting with 2090\n"
     ]
    },
    {
     "name": "stderr",
     "output_type": "stream",
     "text": [
      "207it [20:21,  5.90s/it]\n"
     ]
    },
    {
     "name": "stdout",
     "output_type": "stream",
     "text": [
      "Starting with 2095\n"
     ]
    },
    {
     "name": "stderr",
     "output_type": "stream",
     "text": [
      "207it [20:19,  5.89s/it]\n"
     ]
    },
    {
     "name": "stdout",
     "output_type": "stream",
     "text": [
      "Starting with 2100\n"
     ]
    },
    {
     "name": "stderr",
     "output_type": "stream",
     "text": [
      "207it [20:45,  6.02s/it]\n"
     ]
    }
   ],
   "source": [
    "for year in np.arange(2035, 2101,5):#np.array([2030, 2040, 2050]):#, 2060, 2070, 2080, 2090, 2100]):\n",
    "    print(\"Starting with\", year)\n",
    "    for cty_i, cty in tqdm(enumerate(focusregs)):\n",
    "        ds = xr.open_dataset(path_alloc + \"xr_alloc_\"+cty+\".nc\").sel(Time=year).expand_dims(Region=[cty])\n",
    "        if cty_i == 0:\n",
    "            xrt = ds.copy()\n",
    "        else:\n",
    "            xrt = xr.merge([xrt, ds])\n",
    "        ds.close()\n",
    "    xrt.astype(\"float32\").to_netcdf(path_save + \"xr_alloc_\"+str(year)+\".nc\", format='NETCDF4')"
   ]
  },
  {
   "cell_type": "markdown",
   "metadata": {},
   "source": [
    "Trajectory emissions"
   ]
  },
  {
   "cell_type": "code",
   "execution_count": 13,
   "metadata": {},
   "outputs": [
    {
     "name": "stderr",
     "output_type": "stream",
     "text": [
      "100%|██████████| 5/5 [00:01<00:00,  3.53it/s]\n"
     ]
    }
   ],
   "source": [
    "# xrs = []\n",
    "# for cty in tqdm(all_countries_iso[:5]):\n",
    "#     xrs.append(xr.open_dataset(path_save + \"Allocations/xr_alloc_\"+cty+\".nc\").sel(Temperature=1.5, Risk=0.5, NonCO2red=0.5, Timing='Immediate', NegEmis=0.5, Time=np.arange(params['start_year_analysis'], 2101))['GF'].expand_dims(Region=[cty]))"
   ]
  },
  {
   "cell_type": "code",
   "execution_count": 7,
   "metadata": {},
   "outputs": [
    {
     "name": "stderr",
     "output_type": "stream",
     "text": [
      "207it [48:24, 14.03s/it]\n",
      "207it [24:34,  7.12s/it]\n"
     ]
    }
   ],
   "source": [
    "for temp_i, temp in enumerate([1.5, 2.0]):\n",
    "    for cty_i, cty in tqdm(enumerate(focusregs)):\n",
    "        ds = xr.open_dataset(path_alloc + \"xr_alloc_\"+cty+\".nc\").sel(Temperature=temp, Risk=[0.5, 0.33][temp_i], Time=np.arange(params['start_year_analysis'], 2101)).expand_dims(Region=[cty])\n",
    "        if cty_i == 0:\n",
    "            xrt = ds.copy()\n",
    "        else:\n",
    "            xrt = xr.merge([xrt, ds])\n",
    "        ds.close()\n",
    "    xrt.astype(\"float32\").to_netcdf(path_save + \"xr_traj_\"+str(temp)[0]+str(temp)[2]+\"_50.nc\", format='NETCDF4')"
   ]
  }
 ],
 "metadata": {
  "kernelspec": {
   "display_name": "MyEnv",
   "language": "python",
   "name": "python3"
  },
  "language_info": {
   "codemirror_mode": {
    "name": "ipython",
    "version": 3
   },
   "file_extension": ".py",
   "mimetype": "text/x-python",
   "name": "python",
   "nbconvert_exporter": "python",
   "pygments_lexer": "ipython3",
   "version": "3.12.1"
  },
  "orig_nbformat": 4
 },
 "nbformat": 4,
 "nbformat_minor": 2
}
