{
 "cells": [
  {
   "cell_type": "markdown",
   "metadata": {},
   "source": [
    "## Preambule"
   ]
  },
  {
   "cell_type": "code",
   "execution_count": 1,
   "metadata": {},
   "outputs": [
    {
     "name": "stderr",
     "output_type": "stream",
     "text": [
      "C:\\Users\\dekkerm\\AppData\\Local\\Temp\\2\\ipykernel_10276\\47999591.py:2: DeprecationWarning: \n",
      "Pyarrow will become a required dependency of pandas in the next major release of pandas (pandas 3.0),\n",
      "(to allow more performant data types, such as the Arrow string type, and better interoperability with other libraries)\n",
      "but was not found to be installed on your system.\n",
      "If this would cause problems for you,\n",
      "please provide us feedback at https://github.com/pandas-dev/pandas/issues/54466\n",
      "        \n",
      "  import pandas as pd\n"
     ]
    }
   ],
   "source": [
    "import numpy as np\n",
    "import pandas as pd\n",
    "import xarray as xr\n",
    "from tqdm import tqdm\n",
    "\n",
    "# Plotting\n",
    "import matplotlib.pyplot as plt\n",
    "import plotly.express as px\n",
    "import plotly.graph_objects as go\n",
    "from plotly.subplots import make_subplots\n",
    "from plotly.colors import n_colors"
   ]
  },
  {
   "cell_type": "markdown",
   "metadata": {},
   "source": [
    "## Input"
   ]
  },
  {
   "cell_type": "code",
   "execution_count": 2,
   "metadata": {},
   "outputs": [],
   "source": [
    "rules_b = ['GF', 'PC', 'PCC', 'AP', 'GDR', 'ECPC']\n",
    "rules_a = rules_b"
   ]
  },
  {
   "cell_type": "markdown",
   "metadata": {},
   "source": [
    "## Read data"
   ]
  },
  {
   "cell_type": "code",
   "execution_count": 3,
   "metadata": {},
   "outputs": [],
   "source": [
    "xr_dataread = xr.open_dataset(\"K:/ECEMF/T5.2/xr_dataread.nc\")\n",
    "xr_temps = xr.open_dataset(\"K:/ECEMF/T5.2/xr_temps.nc\")\n",
    "#xr_2030 = xr.open_dataset(\"X:/user/dekkerm/Projects/ECEMF_T5.2/Data/xr_alloc_2030.nc\")"
   ]
  },
  {
   "cell_type": "code",
   "execution_count": 4,
   "metadata": {},
   "outputs": [],
   "source": [
    "df_eng = pd.read_csv('X:/user/dekkerm/Data/ENGAGE/PolicyScenarios/engage-internal_snapshot_1695642798.csv')\n",
    "df_eng = df_eng[df_eng.Variable == 'Emissions|Kyoto Gases']\n",
    "df_eng = df_eng.reset_index(drop=True)\n",
    "regions_df = np.array(df_eng.Region)\n",
    "regions_df[regions_df == \"Argentine Republic\"] = 'ARG'\n",
    "regions_df[regions_df == \"Canada\"] = 'CAN'\n",
    "regions_df[regions_df == \"Commonwealth of Australia\"] = 'AUS'\n",
    "regions_df[regions_df == \"Federative Republic of Brazil\"] = 'BRA'\n",
    "regions_df[regions_df == \"People's Repulic of China\"] = 'CHN'\n",
    "regions_df[regions_df == \"European Union (28 member countries)\"] = 'EU'\n",
    "regions_df[regions_df == \"Republic of India\"] = 'IND'\n",
    "regions_df[regions_df == \"Republic of Indonesia\"] = 'IDN'\n",
    "regions_df[regions_df == \"State of Japan\"] = 'JPN'\n",
    "regions_df[regions_df == \"Russian Federation\"] = 'RUS'\n",
    "regions_df[regions_df == \"Kingdom of Saudi Arabia\"] = 'SAU'\n",
    "regions_df[regions_df == \"Republic of South Africa\"] = 'ZAF'\n",
    "regions_df[regions_df == \"Republic of Korea (South Korea)\"] = 'KOR'\n",
    "regions_df[regions_df == \"United Mexican States\"] = 'MEX'\n",
    "regions_df[regions_df == \"Republic of Turkey\"] = 'TUR'\n",
    "regions_df[regions_df == \"United States of America\"] = 'USA'\n",
    "regions_df[regions_df == \"Viet Nam \"] = 'VNM'\n",
    "df_eng.Region = regions_df\n",
    "df = pd.read_excel(\"X:/user/dekkerm/Data//UNFCCC_Parties_Groups_noeu.xlsx\", sheet_name = \"Country groups\")\n",
    "countries_iso = np.array(df[\"Country ISO Code\"])\n",
    "group_eu = countries_iso[np.array(df[\"EU\"]) == 1]"
   ]
  },
  {
   "cell_type": "code",
   "execution_count": 5,
   "metadata": {},
   "outputs": [],
   "source": [
    "curpol = \"GP_CurPol_T45\"\n",
    "ndc = \"GP_NDC2030_T45\"\n",
    "nz = \"GP_Glasgow\"\n",
    "df_eng_ref = df_eng[['Model', 'Scenario', 'Region']+list(df_eng.keys()[5:])]\n",
    "df_eng_ref = df_eng_ref[df_eng_ref.Scenario.isin([curpol, ndc, nz])]\n",
    "scen = np.array(df_eng_ref.Scenario)\n",
    "scen[scen == ndc] = 'NDC'\n",
    "scen[scen == curpol] = 'CurPol'\n",
    "scen[scen == nz] = 'NetZero'\n",
    "reg = np.array(df_eng_ref.Region)\n",
    "reg[reg == 'World'] = 'WORLD'\n",
    "df_eng_ref['Scenario'] = scen\n",
    "df_eng_ref['Region'] = reg\n",
    "dummy = df_eng_ref.melt(id_vars=[\"Scenario\", \"Model\", \"Region\"], var_name=\"Time\", value_name=\"Value\")\n",
    "dummy['Time'] = np.array(dummy['Time'].astype(int))\n",
    "dummy = dummy.set_index([\"Scenario\", \"Model\", \"Region\", \"Time\"])\n",
    "xr_eng = xr.Dataset.from_dataframe(dummy)\n",
    "xr_eng = xr_eng.reindex(Time = np.arange(1850, 2101))\n",
    "xr_eng = xr_eng.interpolate_na(dim=\"Time\", method=\"linear\")"
   ]
  },
  {
   "cell_type": "markdown",
   "metadata": {},
   "source": [
    "## Read memberstate info"
   ]
  },
  {
   "cell_type": "code",
   "execution_count": 6,
   "metadata": {},
   "outputs": [
    {
     "name": "stderr",
     "output_type": "stream",
     "text": [
      "0it [00:00, ?it/s]"
     ]
    },
    {
     "name": "stderr",
     "output_type": "stream",
     "text": [
      "27it [05:17, 11.77s/it]\n"
     ]
    }
   ],
   "source": [
    "for cty_i, cty in tqdm(enumerate(group_eu)):\n",
    "    ds = xr.open_dataset(\"K:/ECEMF/T5.2/Allocations/\" + \"xr_alloc_\"+cty+\".nc\").sel(Temperature=1.5, Risk=0.5).expand_dims(Region=[cty])\n",
    "    if cty_i == 0:\n",
    "        xrt = ds.copy()\n",
    "    else:\n",
    "        xrt = xr.merge([xrt, ds])\n",
    "    ds.close()\n",
    "xrt = xrt.astype(\"float32\")"
   ]
  },
  {
   "cell_type": "code",
   "execution_count": 9,
   "metadata": {},
   "outputs": [
    {
     "data": {
      "text/html": [
       "<div><svg style=\"position: absolute; width: 0; height: 0; overflow: hidden\">\n",
       "<defs>\n",
       "<symbol id=\"icon-database\" viewBox=\"0 0 32 32\">\n",
       "<path d=\"M16 0c-8.837 0-16 2.239-16 5v4c0 2.761 7.163 5 16 5s16-2.239 16-5v-4c0-2.761-7.163-5-16-5z\"></path>\n",
       "<path d=\"M16 17c-8.837 0-16-2.239-16-5v6c0 2.761 7.163 5 16 5s16-2.239 16-5v-6c0 2.761-7.163 5-16 5z\"></path>\n",
       "<path d=\"M16 26c-8.837 0-16-2.239-16-5v6c0 2.761 7.163 5 16 5s16-2.239 16-5v-6c0 2.761-7.163 5-16 5z\"></path>\n",
       "</symbol>\n",
       "<symbol id=\"icon-file-text2\" viewBox=\"0 0 32 32\">\n",
       "<path d=\"M28.681 7.159c-0.694-0.947-1.662-2.053-2.724-3.116s-2.169-2.030-3.116-2.724c-1.612-1.182-2.393-1.319-2.841-1.319h-15.5c-1.378 0-2.5 1.121-2.5 2.5v27c0 1.378 1.122 2.5 2.5 2.5h23c1.378 0 2.5-1.122 2.5-2.5v-19.5c0-0.448-0.137-1.23-1.319-2.841zM24.543 5.457c0.959 0.959 1.712 1.825 2.268 2.543h-4.811v-4.811c0.718 0.556 1.584 1.309 2.543 2.268zM28 29.5c0 0.271-0.229 0.5-0.5 0.5h-23c-0.271 0-0.5-0.229-0.5-0.5v-27c0-0.271 0.229-0.5 0.5-0.5 0 0 15.499-0 15.5 0v7c0 0.552 0.448 1 1 1h7v19.5z\"></path>\n",
       "<path d=\"M23 26h-14c-0.552 0-1-0.448-1-1s0.448-1 1-1h14c0.552 0 1 0.448 1 1s-0.448 1-1 1z\"></path>\n",
       "<path d=\"M23 22h-14c-0.552 0-1-0.448-1-1s0.448-1 1-1h14c0.552 0 1 0.448 1 1s-0.448 1-1 1z\"></path>\n",
       "<path d=\"M23 18h-14c-0.552 0-1-0.448-1-1s0.448-1 1-1h14c0.552 0 1 0.448 1 1s-0.448 1-1 1z\"></path>\n",
       "</symbol>\n",
       "</defs>\n",
       "</svg>\n",
       "<style>/* CSS stylesheet for displaying xarray objects in jupyterlab.\n",
       " *\n",
       " */\n",
       "\n",
       ":root {\n",
       "  --xr-font-color0: var(--jp-content-font-color0, rgba(0, 0, 0, 1));\n",
       "  --xr-font-color2: var(--jp-content-font-color2, rgba(0, 0, 0, 0.54));\n",
       "  --xr-font-color3: var(--jp-content-font-color3, rgba(0, 0, 0, 0.38));\n",
       "  --xr-border-color: var(--jp-border-color2, #e0e0e0);\n",
       "  --xr-disabled-color: var(--jp-layout-color3, #bdbdbd);\n",
       "  --xr-background-color: var(--jp-layout-color0, white);\n",
       "  --xr-background-color-row-even: var(--jp-layout-color1, white);\n",
       "  --xr-background-color-row-odd: var(--jp-layout-color2, #eeeeee);\n",
       "}\n",
       "\n",
       "html[theme=dark],\n",
       "body[data-theme=dark],\n",
       "body.vscode-dark {\n",
       "  --xr-font-color0: rgba(255, 255, 255, 1);\n",
       "  --xr-font-color2: rgba(255, 255, 255, 0.54);\n",
       "  --xr-font-color3: rgba(255, 255, 255, 0.38);\n",
       "  --xr-border-color: #1F1F1F;\n",
       "  --xr-disabled-color: #515151;\n",
       "  --xr-background-color: #111111;\n",
       "  --xr-background-color-row-even: #111111;\n",
       "  --xr-background-color-row-odd: #313131;\n",
       "}\n",
       "\n",
       ".xr-wrap {\n",
       "  display: block !important;\n",
       "  min-width: 300px;\n",
       "  max-width: 700px;\n",
       "}\n",
       "\n",
       ".xr-text-repr-fallback {\n",
       "  /* fallback to plain text repr when CSS is not injected (untrusted notebook) */\n",
       "  display: none;\n",
       "}\n",
       "\n",
       ".xr-header {\n",
       "  padding-top: 6px;\n",
       "  padding-bottom: 6px;\n",
       "  margin-bottom: 4px;\n",
       "  border-bottom: solid 1px var(--xr-border-color);\n",
       "}\n",
       "\n",
       ".xr-header > div,\n",
       ".xr-header > ul {\n",
       "  display: inline;\n",
       "  margin-top: 0;\n",
       "  margin-bottom: 0;\n",
       "}\n",
       "\n",
       ".xr-obj-type,\n",
       ".xr-array-name {\n",
       "  margin-left: 2px;\n",
       "  margin-right: 10px;\n",
       "}\n",
       "\n",
       ".xr-obj-type {\n",
       "  color: var(--xr-font-color2);\n",
       "}\n",
       "\n",
       ".xr-sections {\n",
       "  padding-left: 0 !important;\n",
       "  display: grid;\n",
       "  grid-template-columns: 150px auto auto 1fr 20px 20px;\n",
       "}\n",
       "\n",
       ".xr-section-item {\n",
       "  display: contents;\n",
       "}\n",
       "\n",
       ".xr-section-item input {\n",
       "  display: none;\n",
       "}\n",
       "\n",
       ".xr-section-item input + label {\n",
       "  color: var(--xr-disabled-color);\n",
       "}\n",
       "\n",
       ".xr-section-item input:enabled + label {\n",
       "  cursor: pointer;\n",
       "  color: var(--xr-font-color2);\n",
       "}\n",
       "\n",
       ".xr-section-item input:enabled + label:hover {\n",
       "  color: var(--xr-font-color0);\n",
       "}\n",
       "\n",
       ".xr-section-summary {\n",
       "  grid-column: 1;\n",
       "  color: var(--xr-font-color2);\n",
       "  font-weight: 500;\n",
       "}\n",
       "\n",
       ".xr-section-summary > span {\n",
       "  display: inline-block;\n",
       "  padding-left: 0.5em;\n",
       "}\n",
       "\n",
       ".xr-section-summary-in:disabled + label {\n",
       "  color: var(--xr-font-color2);\n",
       "}\n",
       "\n",
       ".xr-section-summary-in + label:before {\n",
       "  display: inline-block;\n",
       "  content: '►';\n",
       "  font-size: 11px;\n",
       "  width: 15px;\n",
       "  text-align: center;\n",
       "}\n",
       "\n",
       ".xr-section-summary-in:disabled + label:before {\n",
       "  color: var(--xr-disabled-color);\n",
       "}\n",
       "\n",
       ".xr-section-summary-in:checked + label:before {\n",
       "  content: '▼';\n",
       "}\n",
       "\n",
       ".xr-section-summary-in:checked + label > span {\n",
       "  display: none;\n",
       "}\n",
       "\n",
       ".xr-section-summary,\n",
       ".xr-section-inline-details {\n",
       "  padding-top: 4px;\n",
       "  padding-bottom: 4px;\n",
       "}\n",
       "\n",
       ".xr-section-inline-details {\n",
       "  grid-column: 2 / -1;\n",
       "}\n",
       "\n",
       ".xr-section-details {\n",
       "  display: none;\n",
       "  grid-column: 1 / -1;\n",
       "  margin-bottom: 5px;\n",
       "}\n",
       "\n",
       ".xr-section-summary-in:checked ~ .xr-section-details {\n",
       "  display: contents;\n",
       "}\n",
       "\n",
       ".xr-array-wrap {\n",
       "  grid-column: 1 / -1;\n",
       "  display: grid;\n",
       "  grid-template-columns: 20px auto;\n",
       "}\n",
       "\n",
       ".xr-array-wrap > label {\n",
       "  grid-column: 1;\n",
       "  vertical-align: top;\n",
       "}\n",
       "\n",
       ".xr-preview {\n",
       "  color: var(--xr-font-color3);\n",
       "}\n",
       "\n",
       ".xr-array-preview,\n",
       ".xr-array-data {\n",
       "  padding: 0 5px !important;\n",
       "  grid-column: 2;\n",
       "}\n",
       "\n",
       ".xr-array-data,\n",
       ".xr-array-in:checked ~ .xr-array-preview {\n",
       "  display: none;\n",
       "}\n",
       "\n",
       ".xr-array-in:checked ~ .xr-array-data,\n",
       ".xr-array-preview {\n",
       "  display: inline-block;\n",
       "}\n",
       "\n",
       ".xr-dim-list {\n",
       "  display: inline-block !important;\n",
       "  list-style: none;\n",
       "  padding: 0 !important;\n",
       "  margin: 0;\n",
       "}\n",
       "\n",
       ".xr-dim-list li {\n",
       "  display: inline-block;\n",
       "  padding: 0;\n",
       "  margin: 0;\n",
       "}\n",
       "\n",
       ".xr-dim-list:before {\n",
       "  content: '(';\n",
       "}\n",
       "\n",
       ".xr-dim-list:after {\n",
       "  content: ')';\n",
       "}\n",
       "\n",
       ".xr-dim-list li:not(:last-child):after {\n",
       "  content: ',';\n",
       "  padding-right: 5px;\n",
       "}\n",
       "\n",
       ".xr-has-index {\n",
       "  font-weight: bold;\n",
       "}\n",
       "\n",
       ".xr-var-list,\n",
       ".xr-var-item {\n",
       "  display: contents;\n",
       "}\n",
       "\n",
       ".xr-var-item > div,\n",
       ".xr-var-item label,\n",
       ".xr-var-item > .xr-var-name span {\n",
       "  background-color: var(--xr-background-color-row-even);\n",
       "  margin-bottom: 0;\n",
       "}\n",
       "\n",
       ".xr-var-item > .xr-var-name:hover span {\n",
       "  padding-right: 5px;\n",
       "}\n",
       "\n",
       ".xr-var-list > li:nth-child(odd) > div,\n",
       ".xr-var-list > li:nth-child(odd) > label,\n",
       ".xr-var-list > li:nth-child(odd) > .xr-var-name span {\n",
       "  background-color: var(--xr-background-color-row-odd);\n",
       "}\n",
       "\n",
       ".xr-var-name {\n",
       "  grid-column: 1;\n",
       "}\n",
       "\n",
       ".xr-var-dims {\n",
       "  grid-column: 2;\n",
       "}\n",
       "\n",
       ".xr-var-dtype {\n",
       "  grid-column: 3;\n",
       "  text-align: right;\n",
       "  color: var(--xr-font-color2);\n",
       "}\n",
       "\n",
       ".xr-var-preview {\n",
       "  grid-column: 4;\n",
       "}\n",
       "\n",
       ".xr-index-preview {\n",
       "  grid-column: 2 / 5;\n",
       "  color: var(--xr-font-color2);\n",
       "}\n",
       "\n",
       ".xr-var-name,\n",
       ".xr-var-dims,\n",
       ".xr-var-dtype,\n",
       ".xr-preview,\n",
       ".xr-attrs dt {\n",
       "  white-space: nowrap;\n",
       "  overflow: hidden;\n",
       "  text-overflow: ellipsis;\n",
       "  padding-right: 10px;\n",
       "}\n",
       "\n",
       ".xr-var-name:hover,\n",
       ".xr-var-dims:hover,\n",
       ".xr-var-dtype:hover,\n",
       ".xr-attrs dt:hover {\n",
       "  overflow: visible;\n",
       "  width: auto;\n",
       "  z-index: 1;\n",
       "}\n",
       "\n",
       ".xr-var-attrs,\n",
       ".xr-var-data,\n",
       ".xr-index-data {\n",
       "  display: none;\n",
       "  background-color: var(--xr-background-color) !important;\n",
       "  padding-bottom: 5px !important;\n",
       "}\n",
       "\n",
       ".xr-var-attrs-in:checked ~ .xr-var-attrs,\n",
       ".xr-var-data-in:checked ~ .xr-var-data,\n",
       ".xr-index-data-in:checked ~ .xr-index-data {\n",
       "  display: block;\n",
       "}\n",
       "\n",
       ".xr-var-data > table {\n",
       "  float: right;\n",
       "}\n",
       "\n",
       ".xr-var-name span,\n",
       ".xr-var-data,\n",
       ".xr-index-name div,\n",
       ".xr-index-data,\n",
       ".xr-attrs {\n",
       "  padding-left: 25px !important;\n",
       "}\n",
       "\n",
       ".xr-attrs,\n",
       ".xr-var-attrs,\n",
       ".xr-var-data,\n",
       ".xr-index-data {\n",
       "  grid-column: 1 / -1;\n",
       "}\n",
       "\n",
       "dl.xr-attrs {\n",
       "  padding: 0;\n",
       "  margin: 0;\n",
       "  display: grid;\n",
       "  grid-template-columns: 125px auto;\n",
       "}\n",
       "\n",
       ".xr-attrs dt,\n",
       ".xr-attrs dd {\n",
       "  padding: 0;\n",
       "  margin: 0;\n",
       "  float: left;\n",
       "  padding-right: 10px;\n",
       "  width: auto;\n",
       "}\n",
       "\n",
       ".xr-attrs dt {\n",
       "  font-weight: normal;\n",
       "  grid-column: 1;\n",
       "}\n",
       "\n",
       ".xr-attrs dt:hover span {\n",
       "  display: inline-block;\n",
       "  background: var(--xr-background-color);\n",
       "  padding-right: 10px;\n",
       "}\n",
       "\n",
       ".xr-attrs dd {\n",
       "  grid-column: 2;\n",
       "  white-space: pre-wrap;\n",
       "  word-break: break-all;\n",
       "}\n",
       "\n",
       ".xr-icon-database,\n",
       ".xr-icon-file-text2,\n",
       ".xr-no-icon {\n",
       "  display: inline-block;\n",
       "  vertical-align: middle;\n",
       "  width: 1em;\n",
       "  height: 1.5em !important;\n",
       "  stroke-width: 0;\n",
       "  stroke: currentColor;\n",
       "  fill: currentColor;\n",
       "}\n",
       "</style><pre class='xr-text-repr-fallback'>&lt;xarray.Dataset&gt;\n",
       "Dimensions:               (Region: 27, NegEmis: 7, NonCO2red: 5, Timing: 2,\n",
       "                           Time: 80, Scenario: 5, Convergence_year: 13,\n",
       "                           Discount_factor: 4, Historical_startyear: 3,\n",
       "                           Capability_threshold: 3, RCI_weight: 3)\n",
       "Coordinates: (12/16)\n",
       "  * Scenario              (Scenario) &lt;U4 &#x27;SSP1&#x27; &#x27;SSP2&#x27; &#x27;SSP3&#x27; &#x27;SSP4&#x27; &#x27;SSP5&#x27;\n",
       "  * Time                  (Time) int32 2021 2022 2023 2024 ... 2098 2099 2100\n",
       "  * NonCO2red             (NonCO2red) float64 0.1 0.33 0.5 0.67 0.9\n",
       "  * NegEmis               (NegEmis) float64 0.2 0.3 0.4 0.5 0.6 0.7 0.8\n",
       "  * Timing                (Timing) &lt;U9 &#x27;Delayed&#x27; &#x27;Immediate&#x27;\n",
       "  * Convergence_year      (Convergence_year) int32 2040 2045 2050 ... 2095 2100\n",
       "    ...                    ...\n",
       "  * Region                (Region) object &#x27;AUT&#x27; &#x27;BEL&#x27; &#x27;BGR&#x27; ... &#x27;SVN&#x27; &#x27;SWE&#x27;\n",
       "    Temperature           float64 1.5\n",
       "    Risk                  float64 0.5\n",
       "    source                &lt;U25 &#x27;PRIMAP-hist_v2.5_final_nr&#x27;\n",
       "    Version               &lt;U6 &#x27;HISTTP&#x27;\n",
       "    variable              &lt;U8 &#x27;CO2_base&#x27;\n",
       "Data variables:\n",
       "    GF                    (Region, NegEmis, NonCO2red, Timing, Time) float32 ...\n",
       "    PC                    (Region, Scenario, NegEmis, NonCO2red, Timing, Time) float32 ...\n",
       "    PCC                   (Region, Time, Convergence_year, NegEmis, NonCO2red, Timing, Scenario) float32 ...\n",
       "    PCB                   (Region, NegEmis, NonCO2red, Timing, Time, Scenario) float32 ...\n",
       "    PCB_lin               (Region, NegEmis, NonCO2red, Timing, Time, Scenario) float32 ...\n",
       "    ECPC                  (Region, Discount_factor, Historical_startyear, NegEmis, NonCO2red, Timing, Time, Scenario) float32 ...\n",
       "    AP                    (Region, Scenario, Time, NegEmis, NonCO2red, Timing) float32 ...\n",
       "    GDR                   (Region, Scenario, Time, NegEmis, NonCO2red, Timing, Historical_startyear, Capability_threshold, RCI_weight) float32 ...</pre><div class='xr-wrap' style='display:none'><div class='xr-header'><div class='xr-obj-type'>xarray.Dataset</div></div><ul class='xr-sections'><li class='xr-section-item'><input id='section-69eb9351-16df-46fb-a1a0-66ef30c757a6' class='xr-section-summary-in' type='checkbox' disabled ><label for='section-69eb9351-16df-46fb-a1a0-66ef30c757a6' class='xr-section-summary'  title='Expand/collapse section'>Dimensions:</label><div class='xr-section-inline-details'><ul class='xr-dim-list'><li><span class='xr-has-index'>Region</span>: 27</li><li><span class='xr-has-index'>NegEmis</span>: 7</li><li><span class='xr-has-index'>NonCO2red</span>: 5</li><li><span class='xr-has-index'>Timing</span>: 2</li><li><span class='xr-has-index'>Time</span>: 80</li><li><span class='xr-has-index'>Scenario</span>: 5</li><li><span class='xr-has-index'>Convergence_year</span>: 13</li><li><span class='xr-has-index'>Discount_factor</span>: 4</li><li><span class='xr-has-index'>Historical_startyear</span>: 3</li><li><span class='xr-has-index'>Capability_threshold</span>: 3</li><li><span class='xr-has-index'>RCI_weight</span>: 3</li></ul></div><div class='xr-section-details'></div></li><li class='xr-section-item'><input id='section-15c2ab44-4730-453e-ac4b-023a6eba0620' class='xr-section-summary-in' type='checkbox'  checked><label for='section-15c2ab44-4730-453e-ac4b-023a6eba0620' class='xr-section-summary' >Coordinates: <span>(16)</span></label><div class='xr-section-inline-details'></div><div class='xr-section-details'><ul class='xr-var-list'><li class='xr-var-item'><div class='xr-var-name'><span class='xr-has-index'>Scenario</span></div><div class='xr-var-dims'>(Scenario)</div><div class='xr-var-dtype'>&lt;U4</div><div class='xr-var-preview xr-preview'>&#x27;SSP1&#x27; &#x27;SSP2&#x27; &#x27;SSP3&#x27; &#x27;SSP4&#x27; &#x27;SSP5&#x27;</div><input id='attrs-da04ec69-5f91-47b0-9aef-084d7a728407' class='xr-var-attrs-in' type='checkbox' disabled><label for='attrs-da04ec69-5f91-47b0-9aef-084d7a728407' title='Show/Hide attributes'><svg class='icon xr-icon-file-text2'><use xlink:href='#icon-file-text2'></use></svg></label><input id='data-b8a8a199-f66e-4425-b72b-7033b6be60d6' class='xr-var-data-in' type='checkbox'><label for='data-b8a8a199-f66e-4425-b72b-7033b6be60d6' title='Show/Hide data repr'><svg class='icon xr-icon-database'><use xlink:href='#icon-database'></use></svg></label><div class='xr-var-attrs'><dl class='xr-attrs'></dl></div><div class='xr-var-data'><pre>array([&#x27;SSP1&#x27;, &#x27;SSP2&#x27;, &#x27;SSP3&#x27;, &#x27;SSP4&#x27;, &#x27;SSP5&#x27;], dtype=&#x27;&lt;U4&#x27;)</pre></div></li><li class='xr-var-item'><div class='xr-var-name'><span class='xr-has-index'>Time</span></div><div class='xr-var-dims'>(Time)</div><div class='xr-var-dtype'>int32</div><div class='xr-var-preview xr-preview'>2021 2022 2023 ... 2098 2099 2100</div><input id='attrs-2d18133d-d7d9-4980-b413-1055b2028fdd' class='xr-var-attrs-in' type='checkbox' disabled><label for='attrs-2d18133d-d7d9-4980-b413-1055b2028fdd' title='Show/Hide attributes'><svg class='icon xr-icon-file-text2'><use xlink:href='#icon-file-text2'></use></svg></label><input id='data-70ab0f32-fe6e-404d-81e8-97c6ceded2e2' class='xr-var-data-in' type='checkbox'><label for='data-70ab0f32-fe6e-404d-81e8-97c6ceded2e2' title='Show/Hide data repr'><svg class='icon xr-icon-database'><use xlink:href='#icon-database'></use></svg></label><div class='xr-var-attrs'><dl class='xr-attrs'></dl></div><div class='xr-var-data'><pre>array([2021, 2022, 2023, 2024, 2025, 2026, 2027, 2028, 2029, 2030, 2031, 2032,\n",
       "       2033, 2034, 2035, 2036, 2037, 2038, 2039, 2040, 2041, 2042, 2043, 2044,\n",
       "       2045, 2046, 2047, 2048, 2049, 2050, 2051, 2052, 2053, 2054, 2055, 2056,\n",
       "       2057, 2058, 2059, 2060, 2061, 2062, 2063, 2064, 2065, 2066, 2067, 2068,\n",
       "       2069, 2070, 2071, 2072, 2073, 2074, 2075, 2076, 2077, 2078, 2079, 2080,\n",
       "       2081, 2082, 2083, 2084, 2085, 2086, 2087, 2088, 2089, 2090, 2091, 2092,\n",
       "       2093, 2094, 2095, 2096, 2097, 2098, 2099, 2100])</pre></div></li><li class='xr-var-item'><div class='xr-var-name'><span class='xr-has-index'>NonCO2red</span></div><div class='xr-var-dims'>(NonCO2red)</div><div class='xr-var-dtype'>float64</div><div class='xr-var-preview xr-preview'>0.1 0.33 0.5 0.67 0.9</div><input id='attrs-69049f8f-3a75-440a-81ba-c4fcf4aa0c82' class='xr-var-attrs-in' type='checkbox' disabled><label for='attrs-69049f8f-3a75-440a-81ba-c4fcf4aa0c82' title='Show/Hide attributes'><svg class='icon xr-icon-file-text2'><use xlink:href='#icon-file-text2'></use></svg></label><input id='data-87017c29-4c6b-4902-beae-62bc4c9f6093' class='xr-var-data-in' type='checkbox'><label for='data-87017c29-4c6b-4902-beae-62bc4c9f6093' title='Show/Hide data repr'><svg class='icon xr-icon-database'><use xlink:href='#icon-database'></use></svg></label><div class='xr-var-attrs'><dl class='xr-attrs'></dl></div><div class='xr-var-data'><pre>array([0.1 , 0.33, 0.5 , 0.67, 0.9 ])</pre></div></li><li class='xr-var-item'><div class='xr-var-name'><span class='xr-has-index'>NegEmis</span></div><div class='xr-var-dims'>(NegEmis)</div><div class='xr-var-dtype'>float64</div><div class='xr-var-preview xr-preview'>0.2 0.3 0.4 0.5 0.6 0.7 0.8</div><input id='attrs-75c9da78-ecbc-49c7-8bb7-64a78f27fc4f' class='xr-var-attrs-in' type='checkbox' disabled><label for='attrs-75c9da78-ecbc-49c7-8bb7-64a78f27fc4f' title='Show/Hide attributes'><svg class='icon xr-icon-file-text2'><use xlink:href='#icon-file-text2'></use></svg></label><input id='data-92e8d9f1-79e4-42fd-82eb-d61923a247e8' class='xr-var-data-in' type='checkbox'><label for='data-92e8d9f1-79e4-42fd-82eb-d61923a247e8' title='Show/Hide data repr'><svg class='icon xr-icon-database'><use xlink:href='#icon-database'></use></svg></label><div class='xr-var-attrs'><dl class='xr-attrs'></dl></div><div class='xr-var-data'><pre>array([0.2, 0.3, 0.4, 0.5, 0.6, 0.7, 0.8])</pre></div></li><li class='xr-var-item'><div class='xr-var-name'><span class='xr-has-index'>Timing</span></div><div class='xr-var-dims'>(Timing)</div><div class='xr-var-dtype'>&lt;U9</div><div class='xr-var-preview xr-preview'>&#x27;Delayed&#x27; &#x27;Immediate&#x27;</div><input id='attrs-a53de319-0b6c-411f-ba76-8a99a226e09f' class='xr-var-attrs-in' type='checkbox' disabled><label for='attrs-a53de319-0b6c-411f-ba76-8a99a226e09f' title='Show/Hide attributes'><svg class='icon xr-icon-file-text2'><use xlink:href='#icon-file-text2'></use></svg></label><input id='data-647dce2c-ab66-492b-afa4-556f65bfdd3f' class='xr-var-data-in' type='checkbox'><label for='data-647dce2c-ab66-492b-afa4-556f65bfdd3f' title='Show/Hide data repr'><svg class='icon xr-icon-database'><use xlink:href='#icon-database'></use></svg></label><div class='xr-var-attrs'><dl class='xr-attrs'></dl></div><div class='xr-var-data'><pre>array([&#x27;Delayed&#x27;, &#x27;Immediate&#x27;], dtype=&#x27;&lt;U9&#x27;)</pre></div></li><li class='xr-var-item'><div class='xr-var-name'><span class='xr-has-index'>Convergence_year</span></div><div class='xr-var-dims'>(Convergence_year)</div><div class='xr-var-dtype'>int32</div><div class='xr-var-preview xr-preview'>2040 2045 2050 ... 2090 2095 2100</div><input id='attrs-1d20493d-1eb3-4788-b324-bb838ee5541f' class='xr-var-attrs-in' type='checkbox' disabled><label for='attrs-1d20493d-1eb3-4788-b324-bb838ee5541f' title='Show/Hide attributes'><svg class='icon xr-icon-file-text2'><use xlink:href='#icon-file-text2'></use></svg></label><input id='data-aa8aea0a-5cc1-457e-8cd7-a828dc009fe3' class='xr-var-data-in' type='checkbox'><label for='data-aa8aea0a-5cc1-457e-8cd7-a828dc009fe3' title='Show/Hide data repr'><svg class='icon xr-icon-database'><use xlink:href='#icon-database'></use></svg></label><div class='xr-var-attrs'><dl class='xr-attrs'></dl></div><div class='xr-var-data'><pre>array([2040, 2045, 2050, 2055, 2060, 2065, 2070, 2075, 2080, 2085, 2090, 2095,\n",
       "       2100])</pre></div></li><li class='xr-var-item'><div class='xr-var-name'><span class='xr-has-index'>Discount_factor</span></div><div class='xr-var-dims'>(Discount_factor)</div><div class='xr-var-dtype'>float64</div><div class='xr-var-preview xr-preview'>0.0 1.6 2.0 2.8</div><input id='attrs-75cbfcaa-1f30-43c5-92d0-9399a908a666' class='xr-var-attrs-in' type='checkbox' disabled><label for='attrs-75cbfcaa-1f30-43c5-92d0-9399a908a666' title='Show/Hide attributes'><svg class='icon xr-icon-file-text2'><use xlink:href='#icon-file-text2'></use></svg></label><input id='data-1e88d255-c81f-4716-b7f0-9370a713a986' class='xr-var-data-in' type='checkbox'><label for='data-1e88d255-c81f-4716-b7f0-9370a713a986' title='Show/Hide data repr'><svg class='icon xr-icon-database'><use xlink:href='#icon-database'></use></svg></label><div class='xr-var-attrs'><dl class='xr-attrs'></dl></div><div class='xr-var-data'><pre>array([0. , 1.6, 2. , 2.8])</pre></div></li><li class='xr-var-item'><div class='xr-var-name'><span class='xr-has-index'>Historical_startyear</span></div><div class='xr-var-dims'>(Historical_startyear)</div><div class='xr-var-dtype'>int64</div><div class='xr-var-preview xr-preview'>1850 1950 1990</div><input id='attrs-4d1f0302-cdb2-4dbe-b1d5-650ac225c0a6' class='xr-var-attrs-in' type='checkbox' disabled><label for='attrs-4d1f0302-cdb2-4dbe-b1d5-650ac225c0a6' title='Show/Hide attributes'><svg class='icon xr-icon-file-text2'><use xlink:href='#icon-file-text2'></use></svg></label><input id='data-e63e7233-fc3a-4ef1-adc7-2497444584a8' class='xr-var-data-in' type='checkbox'><label for='data-e63e7233-fc3a-4ef1-adc7-2497444584a8' title='Show/Hide data repr'><svg class='icon xr-icon-database'><use xlink:href='#icon-database'></use></svg></label><div class='xr-var-attrs'><dl class='xr-attrs'></dl></div><div class='xr-var-data'><pre>array([1850, 1950, 1990], dtype=int64)</pre></div></li><li class='xr-var-item'><div class='xr-var-name'><span class='xr-has-index'>Capability_threshold</span></div><div class='xr-var-dims'>(Capability_threshold)</div><div class='xr-var-dtype'>&lt;U4</div><div class='xr-var-preview xr-preview'>&#x27;No&#x27; &#x27;PrTh&#x27; &#x27;Th&#x27;</div><input id='attrs-47fd67b8-bb06-47a7-985e-1be7714f9afd' class='xr-var-attrs-in' type='checkbox' disabled><label for='attrs-47fd67b8-bb06-47a7-985e-1be7714f9afd' title='Show/Hide attributes'><svg class='icon xr-icon-file-text2'><use xlink:href='#icon-file-text2'></use></svg></label><input id='data-2a3de558-5b14-4f40-9c3b-48ba0a84d841' class='xr-var-data-in' type='checkbox'><label for='data-2a3de558-5b14-4f40-9c3b-48ba0a84d841' title='Show/Hide data repr'><svg class='icon xr-icon-database'><use xlink:href='#icon-database'></use></svg></label><div class='xr-var-attrs'><dl class='xr-attrs'></dl></div><div class='xr-var-data'><pre>array([&#x27;No&#x27;, &#x27;PrTh&#x27;, &#x27;Th&#x27;], dtype=&#x27;&lt;U4&#x27;)</pre></div></li><li class='xr-var-item'><div class='xr-var-name'><span class='xr-has-index'>RCI_weight</span></div><div class='xr-var-dims'>(RCI_weight)</div><div class='xr-var-dtype'>&lt;U4</div><div class='xr-var-preview xr-preview'>&#x27;Cap&#x27; &#x27;Half&#x27; &#x27;Resp&#x27;</div><input id='attrs-abf019a0-bd87-49e3-aed3-8f2ca59976cd' class='xr-var-attrs-in' type='checkbox' disabled><label for='attrs-abf019a0-bd87-49e3-aed3-8f2ca59976cd' title='Show/Hide attributes'><svg class='icon xr-icon-file-text2'><use xlink:href='#icon-file-text2'></use></svg></label><input id='data-1d5fdbbf-ff50-4975-8581-52ba41bf9cfd' class='xr-var-data-in' type='checkbox'><label for='data-1d5fdbbf-ff50-4975-8581-52ba41bf9cfd' title='Show/Hide data repr'><svg class='icon xr-icon-database'><use xlink:href='#icon-database'></use></svg></label><div class='xr-var-attrs'><dl class='xr-attrs'></dl></div><div class='xr-var-data'><pre>array([&#x27;Cap&#x27;, &#x27;Half&#x27;, &#x27;Resp&#x27;], dtype=&#x27;&lt;U4&#x27;)</pre></div></li><li class='xr-var-item'><div class='xr-var-name'><span class='xr-has-index'>Region</span></div><div class='xr-var-dims'>(Region)</div><div class='xr-var-dtype'>object</div><div class='xr-var-preview xr-preview'>&#x27;AUT&#x27; &#x27;BEL&#x27; &#x27;BGR&#x27; ... &#x27;SVN&#x27; &#x27;SWE&#x27;</div><input id='attrs-302db3c5-5d81-4608-9f07-2283312714f2' class='xr-var-attrs-in' type='checkbox' disabled><label for='attrs-302db3c5-5d81-4608-9f07-2283312714f2' title='Show/Hide attributes'><svg class='icon xr-icon-file-text2'><use xlink:href='#icon-file-text2'></use></svg></label><input id='data-3d04607b-2d51-4f45-9f0c-f92663e99c5f' class='xr-var-data-in' type='checkbox'><label for='data-3d04607b-2d51-4f45-9f0c-f92663e99c5f' title='Show/Hide data repr'><svg class='icon xr-icon-database'><use xlink:href='#icon-database'></use></svg></label><div class='xr-var-attrs'><dl class='xr-attrs'></dl></div><div class='xr-var-data'><pre>array([&#x27;AUT&#x27;, &#x27;BEL&#x27;, &#x27;BGR&#x27;, &#x27;CYP&#x27;, &#x27;CZE&#x27;, &#x27;DEU&#x27;, &#x27;DNK&#x27;, &#x27;ESP&#x27;, &#x27;EST&#x27;, &#x27;FIN&#x27;,\n",
       "       &#x27;FRA&#x27;, &#x27;GRC&#x27;, &#x27;HRV&#x27;, &#x27;HUN&#x27;, &#x27;IRL&#x27;, &#x27;ITA&#x27;, &#x27;LTU&#x27;, &#x27;LUX&#x27;, &#x27;LVA&#x27;, &#x27;MLT&#x27;,\n",
       "       &#x27;NLD&#x27;, &#x27;POL&#x27;, &#x27;PRT&#x27;, &#x27;ROU&#x27;, &#x27;SVK&#x27;, &#x27;SVN&#x27;, &#x27;SWE&#x27;], dtype=object)</pre></div></li><li class='xr-var-item'><div class='xr-var-name'><span>Temperature</span></div><div class='xr-var-dims'>()</div><div class='xr-var-dtype'>float64</div><div class='xr-var-preview xr-preview'>1.5</div><input id='attrs-36fb779a-e59e-4c63-991c-81cae3c01c50' class='xr-var-attrs-in' type='checkbox' disabled><label for='attrs-36fb779a-e59e-4c63-991c-81cae3c01c50' title='Show/Hide attributes'><svg class='icon xr-icon-file-text2'><use xlink:href='#icon-file-text2'></use></svg></label><input id='data-a4d78bbd-2d8c-4019-9707-3240d0a1f74a' class='xr-var-data-in' type='checkbox'><label for='data-a4d78bbd-2d8c-4019-9707-3240d0a1f74a' title='Show/Hide data repr'><svg class='icon xr-icon-database'><use xlink:href='#icon-database'></use></svg></label><div class='xr-var-attrs'><dl class='xr-attrs'></dl></div><div class='xr-var-data'><pre>array(1.5)</pre></div></li><li class='xr-var-item'><div class='xr-var-name'><span>Risk</span></div><div class='xr-var-dims'>()</div><div class='xr-var-dtype'>float64</div><div class='xr-var-preview xr-preview'>0.5</div><input id='attrs-4ae5f357-5435-4727-9175-272a4b1d0ae9' class='xr-var-attrs-in' type='checkbox' disabled><label for='attrs-4ae5f357-5435-4727-9175-272a4b1d0ae9' title='Show/Hide attributes'><svg class='icon xr-icon-file-text2'><use xlink:href='#icon-file-text2'></use></svg></label><input id='data-747b7af2-09ff-4b04-ab24-9eae5a31a348' class='xr-var-data-in' type='checkbox'><label for='data-747b7af2-09ff-4b04-ab24-9eae5a31a348' title='Show/Hide data repr'><svg class='icon xr-icon-database'><use xlink:href='#icon-database'></use></svg></label><div class='xr-var-attrs'><dl class='xr-attrs'></dl></div><div class='xr-var-data'><pre>array(0.5)</pre></div></li><li class='xr-var-item'><div class='xr-var-name'><span>source</span></div><div class='xr-var-dims'>()</div><div class='xr-var-dtype'>&lt;U25</div><div class='xr-var-preview xr-preview'>&#x27;PRIMAP-hist_v2.5_final_nr&#x27;</div><input id='attrs-bae57239-1c98-4b1a-9e1a-6739ea6fae73' class='xr-var-attrs-in' type='checkbox' disabled><label for='attrs-bae57239-1c98-4b1a-9e1a-6739ea6fae73' title='Show/Hide attributes'><svg class='icon xr-icon-file-text2'><use xlink:href='#icon-file-text2'></use></svg></label><input id='data-9456c920-bfd0-496e-9412-311bf85a86fe' class='xr-var-data-in' type='checkbox'><label for='data-9456c920-bfd0-496e-9412-311bf85a86fe' title='Show/Hide data repr'><svg class='icon xr-icon-database'><use xlink:href='#icon-database'></use></svg></label><div class='xr-var-attrs'><dl class='xr-attrs'></dl></div><div class='xr-var-data'><pre>array(&#x27;PRIMAP-hist_v2.5_final_nr&#x27;, dtype=&#x27;&lt;U25&#x27;)</pre></div></li><li class='xr-var-item'><div class='xr-var-name'><span>Version</span></div><div class='xr-var-dims'>()</div><div class='xr-var-dtype'>&lt;U6</div><div class='xr-var-preview xr-preview'>&#x27;HISTTP&#x27;</div><input id='attrs-fb91cc10-54f8-45a8-9c8f-a782ebed7c61' class='xr-var-attrs-in' type='checkbox' disabled><label for='attrs-fb91cc10-54f8-45a8-9c8f-a782ebed7c61' title='Show/Hide attributes'><svg class='icon xr-icon-file-text2'><use xlink:href='#icon-file-text2'></use></svg></label><input id='data-c5fcb028-8ae9-487d-ac96-5359c47e6cb3' class='xr-var-data-in' type='checkbox'><label for='data-c5fcb028-8ae9-487d-ac96-5359c47e6cb3' title='Show/Hide data repr'><svg class='icon xr-icon-database'><use xlink:href='#icon-database'></use></svg></label><div class='xr-var-attrs'><dl class='xr-attrs'></dl></div><div class='xr-var-data'><pre>array(&#x27;HISTTP&#x27;, dtype=&#x27;&lt;U6&#x27;)</pre></div></li><li class='xr-var-item'><div class='xr-var-name'><span>variable</span></div><div class='xr-var-dims'>()</div><div class='xr-var-dtype'>&lt;U8</div><div class='xr-var-preview xr-preview'>&#x27;CO2_base&#x27;</div><input id='attrs-b5324353-1162-465d-938d-005b861c4af5' class='xr-var-attrs-in' type='checkbox' disabled><label for='attrs-b5324353-1162-465d-938d-005b861c4af5' title='Show/Hide attributes'><svg class='icon xr-icon-file-text2'><use xlink:href='#icon-file-text2'></use></svg></label><input id='data-18684141-60e5-4704-a10a-2b61497711c3' class='xr-var-data-in' type='checkbox'><label for='data-18684141-60e5-4704-a10a-2b61497711c3' title='Show/Hide data repr'><svg class='icon xr-icon-database'><use xlink:href='#icon-database'></use></svg></label><div class='xr-var-attrs'><dl class='xr-attrs'></dl></div><div class='xr-var-data'><pre>array(&#x27;CO2_base&#x27;, dtype=&#x27;&lt;U8&#x27;)</pre></div></li></ul></div></li><li class='xr-section-item'><input id='section-c1d761b4-b0c0-44f8-b84e-b1b95e5ddfc4' class='xr-section-summary-in' type='checkbox'  checked><label for='section-c1d761b4-b0c0-44f8-b84e-b1b95e5ddfc4' class='xr-section-summary' >Data variables: <span>(8)</span></label><div class='xr-section-inline-details'></div><div class='xr-section-details'><ul class='xr-var-list'><li class='xr-var-item'><div class='xr-var-name'><span>GF</span></div><div class='xr-var-dims'>(Region, NegEmis, NonCO2red, Timing, Time)</div><div class='xr-var-dtype'>float32</div><div class='xr-var-preview xr-preview'>68.93 62.58 56.23 ... -3.844 -3.932</div><input id='attrs-b9b8fdff-2aeb-45f5-8bd9-4229d7a7b530' class='xr-var-attrs-in' type='checkbox' disabled><label for='attrs-b9b8fdff-2aeb-45f5-8bd9-4229d7a7b530' title='Show/Hide attributes'><svg class='icon xr-icon-file-text2'><use xlink:href='#icon-file-text2'></use></svg></label><input id='data-72925108-052a-48b4-a5e3-eff85f214d34' class='xr-var-data-in' type='checkbox'><label for='data-72925108-052a-48b4-a5e3-eff85f214d34' title='Show/Hide data repr'><svg class='icon xr-icon-database'><use xlink:href='#icon-database'></use></svg></label><div class='xr-var-attrs'><dl class='xr-attrs'></dl></div><div class='xr-var-data'><pre>array([[[[[ 6.89319229e+01,  6.25807457e+01,  5.62295685e+01, ...,\n",
       "           -1.49174614e+01, -1.49757366e+01, -1.50340118e+01],\n",
       "          [ 6.89319229e+01,  6.25807457e+01,  5.62295685e+01, ...,\n",
       "           -1.49174614e+01, -1.49757366e+01, -1.50340118e+01]],\n",
       "\n",
       "         [[ 6.89319229e+01,  6.43829346e+01,  5.98339500e+01, ...,\n",
       "           -3.26787829e+00, -3.35602999e+00, -3.44418192e+00],\n",
       "          [ 6.89319229e+01,  6.43829346e+01,  5.98339500e+01, ...,\n",
       "           -3.26787829e+00, -3.35602999e+00, -3.44418192e+00]],\n",
       "\n",
       "         [[ 6.89319229e+01,  6.46119003e+01,  6.02918816e+01, ...,\n",
       "           -1.43614233e+00, -1.52429414e+00, -1.61244595e+00],\n",
       "          [ 6.89319229e+01,  6.46119003e+01,  6.02918816e+01, ...,\n",
       "           -1.43614233e+00, -1.52429414e+00, -1.61244595e+00]],\n",
       "\n",
       "         [[ 6.89319229e+01,  6.49920349e+01,  6.10521507e+01, ...,\n",
       "            1.49976707e+00,  1.40788805e+00,  1.31600904e+00],\n",
       "          [ 6.89319229e+01,  6.49920349e+01,  6.10521507e+01, ...,\n",
       "            1.49976707e+00,  1.40788805e+00,  1.31600904e+00]],\n",
       "\n",
       "...\n",
       "         [[ 4.40285072e+01,  4.12210007e+01,  3.84134903e+01, ...,\n",
       "           -1.10752487e+01, -1.11800966e+01, -1.12849445e+01],\n",
       "          [ 4.40285072e+01,  4.12210007e+01,  3.84134903e+01, ...,\n",
       "           -1.10752487e+01, -1.11800966e+01, -1.12849445e+01]],\n",
       "\n",
       "         [[ 4.40285072e+01,  4.13947716e+01,  3.87610321e+01, ...,\n",
       "           -9.68507862e+00, -9.78992653e+00, -9.89477444e+00],\n",
       "          [ 4.40285072e+01,  4.13947716e+01,  3.87610321e+01, ...,\n",
       "           -9.68507862e+00, -9.78992653e+00, -9.89477444e+00]],\n",
       "\n",
       "         [[ 4.40285072e+01,  4.17056465e+01,  3.93827858e+01, ...,\n",
       "           -7.26524115e+00, -7.37246943e+00, -7.47969818e+00],\n",
       "          [ 4.40285072e+01,  4.17056465e+01,  3.93827858e+01, ...,\n",
       "           -7.26524115e+00, -7.37246943e+00, -7.47969818e+00]],\n",
       "\n",
       "         [[ 4.40285072e+01,  4.21128273e+01,  4.01971474e+01, ...,\n",
       "           -3.75519443e+00, -3.84358954e+00, -3.93198442e+00],\n",
       "          [ 4.40285072e+01,  4.21128273e+01,  4.01971474e+01, ...,\n",
       "           -3.75519443e+00, -3.84358954e+00, -3.93198442e+00]]]]],\n",
       "      dtype=float32)</pre></div></li><li class='xr-var-item'><div class='xr-var-name'><span>PC</span></div><div class='xr-var-dims'>(Region, Scenario, NegEmis, NonCO2red, Timing, Time)</div><div class='xr-var-dtype'>float32</div><div class='xr-var-preview xr-preview'>58.57 53.17 47.77 ... -5.953 -6.09</div><input id='attrs-f0416c9b-ff50-46da-a5b5-812a083fbee0' class='xr-var-attrs-in' type='checkbox' disabled><label for='attrs-f0416c9b-ff50-46da-a5b5-812a083fbee0' title='Show/Hide attributes'><svg class='icon xr-icon-file-text2'><use xlink:href='#icon-file-text2'></use></svg></label><input id='data-9f44b566-da7a-46c6-91ae-b001e6a4ddab' class='xr-var-data-in' type='checkbox'><label for='data-9f44b566-da7a-46c6-91ae-b001e6a4ddab' title='Show/Hide data repr'><svg class='icon xr-icon-database'><use xlink:href='#icon-database'></use></svg></label><div class='xr-var-attrs'><dl class='xr-attrs'></dl></div><div class='xr-var-data'><pre>array([[[[[[ 58.56726   ,  53.17105   ,  47.774845  , ...,\n",
       "            -12.674459  , -12.723972  , -12.773485  ],\n",
       "           [ 58.56726   ,  53.17105   ,  47.774845  , ...,\n",
       "            -12.674459  , -12.723972  , -12.773485  ]],\n",
       "\n",
       "          [[ 58.56726   ,  54.702263  ,  50.83727   , ...,\n",
       "             -2.7765174 ,  -2.8514147 ,  -2.9263117 ],\n",
       "           [ 58.56726   ,  54.702263  ,  50.83727   , ...,\n",
       "             -2.7765174 ,  -2.8514147 ,  -2.9263117 ]],\n",
       "\n",
       "          [[ 58.56726   ,  54.8968    ,  51.226345  , ...,\n",
       "             -1.2202028 ,  -1.2951    ,  -1.3699973 ],\n",
       "           [ 58.56726   ,  54.8968    ,  51.226345  , ...,\n",
       "             -1.2202028 ,  -1.2951    ,  -1.3699973 ]],\n",
       "\n",
       "          [[ 58.56726   ,  55.21978   ,  51.8723    , ...,\n",
       "              1.2742609 ,   1.1961968 ,   1.1181328 ],\n",
       "           [ 58.56726   ,  55.21978   ,  51.8723    , ...,\n",
       "              1.2742609 ,   1.1961968 ,   1.1181328 ]],\n",
       "\n",
       "...\n",
       "\n",
       "          [[ 68.18917   ,  63.84104   ,  59.492912  , ...,\n",
       "            -17.152796  , -17.31518   , -17.477562  ],\n",
       "           [ 68.18917   ,  63.84104   ,  59.492912  , ...,\n",
       "            -17.152796  , -17.31518   , -17.477562  ]],\n",
       "\n",
       "          [[ 68.18917   ,  64.11017   ,  60.031166  , ...,\n",
       "            -14.99977   , -15.162153  , -15.324536  ],\n",
       "           [ 68.18917   ,  64.11017   ,  60.031166  , ...,\n",
       "            -14.99977   , -15.162153  , -15.324536  ]],\n",
       "\n",
       "          [[ 68.18917   ,  64.59164   ,  60.994106  , ...,\n",
       "            -11.252046  , -11.418116  , -11.584186  ],\n",
       "           [ 68.18917   ,  64.59164   ,  60.994106  , ...,\n",
       "            -11.252046  , -11.418116  , -11.584186  ]],\n",
       "\n",
       "          [[ 68.18917   ,  65.22226   ,  62.255352  , ...,\n",
       "             -5.815859  ,  -5.9527607 ,  -6.0896626 ],\n",
       "           [ 68.18917   ,  65.22226   ,  62.255352  , ...,\n",
       "             -5.815859  ,  -5.9527607 ,  -6.0896626 ]]]]]], dtype=float32)</pre></div></li><li class='xr-var-item'><div class='xr-var-name'><span>PCC</span></div><div class='xr-var-dims'>(Region, Time, Convergence_year, NegEmis, NonCO2red, Timing, Scenario)</div><div class='xr-var-dtype'>float32</div><div class='xr-var-preview xr-preview'>68.93 68.93 68.93 ... -6.064 -6.09</div><input id='attrs-92dd3705-b33f-4982-bb08-f2fc1ee70e25' class='xr-var-attrs-in' type='checkbox' disabled><label for='attrs-92dd3705-b33f-4982-bb08-f2fc1ee70e25' title='Show/Hide attributes'><svg class='icon xr-icon-file-text2'><use xlink:href='#icon-file-text2'></use></svg></label><input id='data-9539590e-371d-4453-9f3e-da92b0f3d306' class='xr-var-data-in' type='checkbox'><label for='data-9539590e-371d-4453-9f3e-da92b0f3d306' title='Show/Hide data repr'><svg class='icon xr-icon-database'><use xlink:href='#icon-database'></use></svg></label><div class='xr-var-attrs'><dl class='xr-attrs'></dl></div><div class='xr-var-data'><pre>array([[[[[[[ 6.89319229e+01,  6.89319229e+01,  6.89319229e+01,\n",
       "              6.89319229e+01,  6.89319229e+01],\n",
       "            [ 6.89319229e+01,  6.89319229e+01,  6.89319229e+01,\n",
       "              6.89319229e+01,  6.89319229e+01]],\n",
       "\n",
       "           [[ 6.89319229e+01,  6.89319229e+01,  6.89319229e+01,\n",
       "              6.89319229e+01,  6.89319229e+01],\n",
       "            [ 6.89319229e+01,  6.89319229e+01,  6.89319229e+01,\n",
       "              6.89319229e+01,  6.89319229e+01]],\n",
       "\n",
       "           [[ 6.89319229e+01,  6.89319229e+01,  6.89319229e+01,\n",
       "              6.89319229e+01,  6.89319229e+01],\n",
       "            [ 6.89319229e+01,  6.89319229e+01,  6.89319229e+01,\n",
       "              6.89319229e+01,  6.89319229e+01]],\n",
       "\n",
       "           [[ 6.89319229e+01,  6.89319229e+01,  6.89319229e+01,\n",
       "              6.89319229e+01,  6.89319229e+01],\n",
       "            [ 6.89319229e+01,  6.89319229e+01,  6.89319229e+01,\n",
       "              6.89319229e+01,  6.89319229e+01]],\n",
       "\n",
       "...\n",
       "\n",
       "           [[-1.74339275e+01, -1.74197845e+01, -1.73914337e+01,\n",
       "             -1.74034786e+01, -1.74775620e+01],\n",
       "            [-1.74339275e+01, -1.74197845e+01, -1.73914337e+01,\n",
       "             -1.74034786e+01, -1.74775620e+01]],\n",
       "\n",
       "           [[-1.52862759e+01, -1.52738762e+01, -1.52490177e+01,\n",
       "             -1.52595797e+01, -1.53245363e+01],\n",
       "            [-1.52862759e+01, -1.52738762e+01, -1.52490177e+01,\n",
       "             -1.52595797e+01, -1.53245363e+01]],\n",
       "\n",
       "           [[-1.15552635e+01, -1.15458908e+01, -1.15270996e+01,\n",
       "             -1.15350828e+01, -1.15841856e+01],\n",
       "            [-1.15552635e+01, -1.15458908e+01, -1.15270996e+01,\n",
       "             -1.15350828e+01, -1.15841856e+01]],\n",
       "\n",
       "           [[-6.07445908e+00, -6.06953144e+00, -6.05965328e+00,\n",
       "             -6.06384993e+00, -6.08966255e+00],\n",
       "            [-6.07445908e+00, -6.06953144e+00, -6.05965328e+00,\n",
       "             -6.06384993e+00, -6.08966255e+00]]]]]]], dtype=float32)</pre></div></li><li class='xr-var-item'><div class='xr-var-name'><span>PCB</span></div><div class='xr-var-dims'>(Region, NegEmis, NonCO2red, Timing, Time, Scenario)</div><div class='xr-var-dtype'>float32</div><div class='xr-var-preview xr-preview'>68.93 68.93 68.93 ... 7.662 7.665</div><input id='attrs-2db993f0-dade-4bd3-9586-f3aae6693fe3' class='xr-var-attrs-in' type='checkbox' disabled><label for='attrs-2db993f0-dade-4bd3-9586-f3aae6693fe3' title='Show/Hide attributes'><svg class='icon xr-icon-file-text2'><use xlink:href='#icon-file-text2'></use></svg></label><input id='data-d314385c-ea49-4ee3-a670-b936b3f864b0' class='xr-var-data-in' type='checkbox'><label for='data-d314385c-ea49-4ee3-a670-b936b3f864b0' title='Show/Hide data repr'><svg class='icon xr-icon-database'><use xlink:href='#icon-database'></use></svg></label><div class='xr-var-attrs'><dl class='xr-attrs'></dl></div><div class='xr-var-data'><pre>array([[[[[[  68.93192   ,   68.93192   ,   68.93192   ,\n",
       "              68.93192   ,   68.93192   ],\n",
       "           [  58.867386  ,   58.86672   ,   58.865467  ,\n",
       "              58.86606   ,   58.8692    ],\n",
       "           [  50.83727   ,   50.83597   ,   50.83356   ,\n",
       "              50.834698  ,   50.840775  ],\n",
       "           ...,\n",
       "           [ -48.921097  ,  -48.928856  ,  -48.943325  ,\n",
       "             -48.936497  ,  -48.900074  ],\n",
       "           [ -49.176342  ,  -49.184086  ,  -49.198524  ,\n",
       "             -49.191708  ,  -49.155357  ],\n",
       "           [ -49.43032   ,  -49.43805   ,  -49.45246   ,\n",
       "             -49.44566   ,  -49.409378  ]],\n",
       "\n",
       "          [[  68.93192   ,   68.93192   ,   68.93192   ,\n",
       "              68.93192   ,   68.93192   ],\n",
       "           [  58.867386  ,   58.86672   ,   58.865467  ,\n",
       "              58.86606   ,   58.8692    ],\n",
       "           [  50.83727   ,   50.83597   ,   50.83356   ,\n",
       "              50.834698  ,   50.840775  ],\n",
       "...\n",
       "           [   7.689248  ,    7.688566  ,    7.6871924 ,\n",
       "               7.687779  ,    7.6913667 ],\n",
       "           [   7.676356  ,    7.675694  ,    7.67436   ,\n",
       "               7.6749296 ,    7.6784134 ],\n",
       "           [   7.66305   ,    7.662408  ,    7.6611137 ,\n",
       "               7.6616664 ,    7.665046  ]],\n",
       "\n",
       "          [[  44.028507  ,   44.028507  ,   44.028507  ,\n",
       "              44.028507  ,   44.028507  ],\n",
       "           [  42.600174  ,   42.599472  ,   42.598057  ,\n",
       "              42.598663  ,   42.602352  ],\n",
       "           [  40.530865  ,   40.5296    ,   40.52704   ,\n",
       "              40.528133  ,   40.53481   ],\n",
       "           ...,\n",
       "           [   7.689248  ,    7.688566  ,    7.6871924 ,\n",
       "               7.687779  ,    7.6913667 ],\n",
       "           [   7.676356  ,    7.675694  ,    7.67436   ,\n",
       "               7.6749296 ,    7.6784134 ],\n",
       "           [   7.66305   ,    7.662408  ,    7.6611137 ,\n",
       "               7.6616664 ,    7.665046  ]]]]]], dtype=float32)</pre></div></li><li class='xr-var-item'><div class='xr-var-name'><span>PCB_lin</span></div><div class='xr-var-dims'>(Region, NegEmis, NonCO2red, Timing, Time, Scenario)</div><div class='xr-var-dtype'>float32</div><div class='xr-var-preview xr-preview'>68.93 68.93 68.93 ... 0.7944 0.7978</div><input id='attrs-38a060a9-925f-4df0-a592-be09d55968f2' class='xr-var-attrs-in' type='checkbox' disabled><label for='attrs-38a060a9-925f-4df0-a592-be09d55968f2' title='Show/Hide attributes'><svg class='icon xr-icon-file-text2'><use xlink:href='#icon-file-text2'></use></svg></label><input id='data-2e5f1cca-affc-4c13-8761-17f0b65b6675' class='xr-var-data-in' type='checkbox'><label for='data-2e5f1cca-affc-4c13-8761-17f0b65b6675' title='Show/Hide data repr'><svg class='icon xr-icon-database'><use xlink:href='#icon-database'></use></svg></label><div class='xr-var-attrs'><dl class='xr-attrs'></dl></div><div class='xr-var-data'><pre>array([[[[[[ 68.93192   ,  68.93192   ,  68.93192   ,  68.93192   ,\n",
       "             68.93192   ],\n",
       "           [ 60.67414   ,  60.67347   ,  60.67222   ,  60.67281   ,\n",
       "             60.675957  ],\n",
       "           [ 52.413063  ,  52.411766  ,  52.409355  ,  52.410492  ,\n",
       "             52.41657   ],\n",
       "           ...,\n",
       "           [  9.171792  ,   9.164034  ,   9.149566  ,   9.156396  ,\n",
       "              9.192817  ],\n",
       "           [  9.154217  ,   9.146473  ,   9.132032  ,   9.138849  ,\n",
       "              9.1752    ],\n",
       "           [  9.136641  ,   9.128912  ,   9.114499  ,   9.121303  ,\n",
       "              9.157584  ]],\n",
       "\n",
       "          [[ 68.93192   ,  68.93192   ,  68.93192   ,  68.93192   ,\n",
       "             68.93192   ],\n",
       "           [ 60.67414   ,  60.67347   ,  60.67222   ,  60.67281   ,\n",
       "             60.675957  ],\n",
       "           [ 52.413063  ,  52.411766  ,  52.409355  ,  52.410492  ,\n",
       "             52.41657   ],\n",
       "...\n",
       "           [  0.8446697 ,   0.8439879 ,   0.8426141 ,   0.8432008 ,\n",
       "              0.84678835],\n",
       "           [  0.8202155 ,   0.81955343,   0.8182194 ,   0.8187891 ,\n",
       "              0.82227284],\n",
       "           [  0.7957613 ,   0.795119  ,   0.79382473,   0.79437745,\n",
       "              0.79775727]],\n",
       "\n",
       "          [[ 44.028507  ,  44.028507  ,  44.028507  ,  44.028507  ,\n",
       "             44.028507  ],\n",
       "           [ 41.82202   ,  41.82132   ,  41.81991   ,  41.82051   ,\n",
       "             41.824203  ],\n",
       "           [ 39.642353  ,  39.641087  ,  39.638527  ,  39.63962   ,\n",
       "             39.646297  ],\n",
       "           ...,\n",
       "           [  0.8446697 ,   0.8439879 ,   0.8426141 ,   0.8432008 ,\n",
       "              0.84678835],\n",
       "           [  0.8202155 ,   0.81955343,   0.8182194 ,   0.8187891 ,\n",
       "              0.82227284],\n",
       "           [  0.7957613 ,   0.795119  ,   0.79382473,   0.79437745,\n",
       "              0.79775727]]]]]], dtype=float32)</pre></div></li><li class='xr-var-item'><div class='xr-var-name'><span>ECPC</span></div><div class='xr-var-dims'>(Region, Discount_factor, Historical_startyear, NegEmis, NonCO2red, Timing, Time, Scenario)</div><div class='xr-var-dtype'>float32</div><div class='xr-var-preview xr-preview'>68.93 68.93 68.93 ... -8.695 4.551</div><input id='attrs-db2c1844-bb59-4f5a-ab44-b1770bee50f1' class='xr-var-attrs-in' type='checkbox' disabled><label for='attrs-db2c1844-bb59-4f5a-ab44-b1770bee50f1' title='Show/Hide attributes'><svg class='icon xr-icon-file-text2'><use xlink:href='#icon-file-text2'></use></svg></label><input id='data-581740d1-0d3c-4e6b-9987-97e327cd004b' class='xr-var-data-in' type='checkbox'><label for='data-581740d1-0d3c-4e6b-9987-97e327cd004b' title='Show/Hide data repr'><svg class='icon xr-icon-database'><use xlink:href='#icon-database'></use></svg></label><div class='xr-var-attrs'><dl class='xr-attrs'></dl></div><div class='xr-var-data'><pre>array([[[[[[[[ 6.89319229e+01,  6.89319229e+01,  6.89319229e+01,\n",
       "               6.89319229e+01,  6.89319229e+01],\n",
       "             [ 5.37383499e+01,  5.32374840e+01,  5.24815636e+01,\n",
       "               5.24119720e+01,  5.44770584e+01],\n",
       "             [ 4.37245331e+01,  4.30162010e+01,  4.19471703e+01,\n",
       "               4.18487511e+01,  4.47692261e+01],\n",
       "             ...,\n",
       "             [-9.25091629e+01, -9.69042511e+01, -1.03537415e+02,\n",
       "              -1.04148087e+02, -8.60270309e+01],\n",
       "             [-9.30696564e+01, -9.74931946e+01, -1.04169289e+02,\n",
       "              -1.04783913e+02, -8.65455704e+01],\n",
       "             [-9.36269379e+01, -9.80787430e+01, -1.04797501e+02,\n",
       "              -1.05416046e+02, -8.70611649e+01]],\n",
       "\n",
       "            [[ 6.89319229e+01,  6.89319229e+01,  6.89319229e+01,\n",
       "               6.89319229e+01,  6.89319229e+01],\n",
       "             [ 5.37383499e+01,  5.32374840e+01,  5.24815636e+01,\n",
       "               5.24119720e+01,  5.44770584e+01],\n",
       "             [ 4.37245331e+01,  4.30162010e+01,  4.19471703e+01,\n",
       "               4.18487511e+01,  4.47692261e+01],\n",
       "...\n",
       "             [ 2.52588719e-01, -2.39371896e+00, -6.24957800e+00,\n",
       "              -8.45724869e+00,  4.61931562e+00],\n",
       "             [ 1.90134242e-01, -2.47330189e+00, -6.35411787e+00,\n",
       "              -8.57607841e+00,  4.58512545e+00],\n",
       "             [ 1.27513975e-01, -2.55294108e+00, -6.45855522e+00,\n",
       "              -8.69471359e+00,  4.55058813e+00]],\n",
       "\n",
       "            [[ 4.40285072e+01,  4.40285072e+01,  4.40285072e+01,\n",
       "               4.40285072e+01,  4.40285072e+01],\n",
       "             [ 4.25695572e+01,  4.22679825e+01,  4.18285675e+01,\n",
       "               4.15769806e+01,  4.30671921e+01],\n",
       "             [ 4.08430595e+01,  4.04165688e+01,  3.97951431e+01,\n",
       "               3.94393425e+01,  4.15468216e+01],\n",
       "             ...,\n",
       "             [ 2.52588719e-01, -2.39371896e+00, -6.24957800e+00,\n",
       "              -8.45724869e+00,  4.61931562e+00],\n",
       "             [ 1.90134242e-01, -2.47330189e+00, -6.35411787e+00,\n",
       "              -8.57607841e+00,  4.58512545e+00],\n",
       "             [ 1.27513975e-01, -2.55294108e+00, -6.45855522e+00,\n",
       "              -8.69471359e+00,  4.55058813e+00]]]]]]]], dtype=float32)</pre></div></li><li class='xr-var-item'><div class='xr-var-name'><span>AP</span></div><div class='xr-var-dims'>(Region, Scenario, Time, NegEmis, NonCO2red, Timing)</div><div class='xr-var-dtype'>float32</div><div class='xr-var-preview xr-preview'>68.98 68.98 68.98 ... nan nan nan</div><input id='attrs-43989474-9536-41ae-9106-0c19e9ecdc6c' class='xr-var-attrs-in' type='checkbox' disabled><label for='attrs-43989474-9536-41ae-9106-0c19e9ecdc6c' title='Show/Hide attributes'><svg class='icon xr-icon-file-text2'><use xlink:href='#icon-file-text2'></use></svg></label><input id='data-51a1a942-bad3-4816-8ee6-58aa70c51d5d' class='xr-var-data-in' type='checkbox'><label for='data-51a1a942-bad3-4816-8ee6-58aa70c51d5d' title='Show/Hide data repr'><svg class='icon xr-icon-database'><use xlink:href='#icon-database'></use></svg></label><div class='xr-var-attrs'><dl class='xr-attrs'></dl></div><div class='xr-var-data'><pre>array([[[[[[ 6.89821701e+01,  6.89821701e+01],\n",
       "           [ 6.89821701e+01,  6.89821701e+01],\n",
       "           [ 6.89821701e+01,  6.89821701e+01],\n",
       "           [ 6.89821701e+01,  6.89821701e+01],\n",
       "           [ 6.89821701e+01,  6.89821701e+01]],\n",
       "\n",
       "          [[ 6.89821701e+01,  6.89821701e+01],\n",
       "           [ 6.89821701e+01,  6.89821701e+01],\n",
       "           [ 6.89821701e+01,  6.89821701e+01],\n",
       "           [ 6.89821701e+01,  6.89821701e+01],\n",
       "           [ 6.89821701e+01,  6.89821701e+01]],\n",
       "\n",
       "          [[ 6.89821701e+01,  6.89821701e+01],\n",
       "           [ 6.89821701e+01,  6.89821701e+01],\n",
       "           [ 6.89821701e+01,  6.89821701e+01],\n",
       "           [ 6.89821701e+01,  6.89821701e+01],\n",
       "           [ 6.89821701e+01,  6.89821701e+01]],\n",
       "\n",
       "          ...,\n",
       "\n",
       "...\n",
       "\n",
       "          ...,\n",
       "\n",
       "          [[            nan,             nan],\n",
       "           [            nan,             nan],\n",
       "           [            nan,             nan],\n",
       "           [            nan,             nan],\n",
       "           [            nan,             nan]],\n",
       "\n",
       "          [[            nan,             nan],\n",
       "           [            nan,             nan],\n",
       "           [            nan,             nan],\n",
       "           [            nan,             nan],\n",
       "           [            nan,             nan]],\n",
       "\n",
       "          [[            nan,             nan],\n",
       "           [            nan,             nan],\n",
       "           [            nan,             nan],\n",
       "           [            nan,             nan],\n",
       "           [            nan,             nan]]]]]], dtype=float32)</pre></div></li><li class='xr-var-item'><div class='xr-var-name'><span>GDR</span></div><div class='xr-var-dims'>(Region, Scenario, Time, NegEmis, NonCO2red, Timing, Historical_startyear, Capability_threshold, RCI_weight)</div><div class='xr-var-dtype'>float32</div><div class='xr-var-preview xr-preview'>69.35 69.23 69.12 ... nan nan nan</div><input id='attrs-c8eb7951-493c-4605-88e3-8a77d4e5d9d8' class='xr-var-attrs-in' type='checkbox' disabled><label for='attrs-c8eb7951-493c-4605-88e3-8a77d4e5d9d8' title='Show/Hide attributes'><svg class='icon xr-icon-file-text2'><use xlink:href='#icon-file-text2'></use></svg></label><input id='data-0f718662-ae04-4a73-ba81-5b6818dc8a8e' class='xr-var-data-in' type='checkbox'><label for='data-0f718662-ae04-4a73-ba81-5b6818dc8a8e' title='Show/Hide data repr'><svg class='icon xr-icon-database'><use xlink:href='#icon-database'></use></svg></label><div class='xr-var-attrs'><dl class='xr-attrs'></dl></div><div class='xr-var-data'><pre>array([[[[[[[[[ 6.93463287e+01,  6.92312393e+01,  6.91175919e+01],\n",
       "              [ 6.94921875e+01,  6.93340759e+01,  6.91818466e+01],\n",
       "              [ 6.94526901e+01,  6.93051834e+01,  6.91613464e+01]],\n",
       "\n",
       "             [[ 6.93463287e+01,  6.91974716e+01,  6.90508728e+01],\n",
       "              [ 6.94921875e+01,  6.93405304e+01,  6.91947327e+01],\n",
       "              [ 6.94526901e+01,  6.93081589e+01,  6.91674652e+01]],\n",
       "\n",
       "             [[ 6.93463287e+01,  6.91748276e+01,  6.90076523e+01],\n",
       "              [ 6.94921875e+01,  6.93392258e+01,  6.91941910e+01],\n",
       "              [ 6.94526901e+01,  6.92907791e+01,  6.91352386e+01]]],\n",
       "\n",
       "\n",
       "            [[[ 6.93463287e+01,  6.92312393e+01,  6.91175919e+01],\n",
       "              [ 6.94921875e+01,  6.93340759e+01,  6.91818466e+01],\n",
       "              [ 6.94526901e+01,  6.93051834e+01,  6.91613464e+01]],\n",
       "\n",
       "             [[ 6.93463287e+01,  6.91974716e+01,  6.90508728e+01],\n",
       "              [ 6.94921875e+01,  6.93405304e+01,  6.91947327e+01],\n",
       "              [ 6.94526901e+01,  6.93081589e+01,  6.91674652e+01]],\n",
       "...\n",
       "              [            nan,             nan,             nan],\n",
       "              [            nan,             nan,             nan]],\n",
       "\n",
       "             [[            nan,             nan,             nan],\n",
       "              [            nan,             nan,             nan],\n",
       "              [            nan,             nan,             nan]]],\n",
       "\n",
       "\n",
       "            [[[            nan,             nan,             nan],\n",
       "              [            nan,             nan,             nan],\n",
       "              [            nan,             nan,             nan]],\n",
       "\n",
       "             [[            nan,             nan,             nan],\n",
       "              [            nan,             nan,             nan],\n",
       "              [            nan,             nan,             nan]],\n",
       "\n",
       "             [[            nan,             nan,             nan],\n",
       "              [            nan,             nan,             nan],\n",
       "              [            nan,             nan,             nan]]]]]]]]],\n",
       "      dtype=float32)</pre></div></li></ul></div></li><li class='xr-section-item'><input id='section-26a2e3e9-c3c4-4290-89e5-386557f2bbd9' class='xr-section-summary-in' type='checkbox'  ><label for='section-26a2e3e9-c3c4-4290-89e5-386557f2bbd9' class='xr-section-summary' >Indexes: <span>(11)</span></label><div class='xr-section-inline-details'></div><div class='xr-section-details'><ul class='xr-var-list'><li class='xr-var-item'><div class='xr-index-name'><div>Scenario</div></div><div class='xr-index-preview'>PandasIndex</div><div></div><input id='index-2a700429-7d81-462a-8858-70b6f233d34d' class='xr-index-data-in' type='checkbox'/><label for='index-2a700429-7d81-462a-8858-70b6f233d34d' title='Show/Hide index repr'><svg class='icon xr-icon-database'><use xlink:href='#icon-database'></use></svg></label><div class='xr-index-data'><pre>PandasIndex(Index([&#x27;SSP1&#x27;, &#x27;SSP2&#x27;, &#x27;SSP3&#x27;, &#x27;SSP4&#x27;, &#x27;SSP5&#x27;], dtype=&#x27;object&#x27;, name=&#x27;Scenario&#x27;))</pre></div></li><li class='xr-var-item'><div class='xr-index-name'><div>Time</div></div><div class='xr-index-preview'>PandasIndex</div><div></div><input id='index-cbdcf66a-bf6e-4f07-b51c-f299e31a6bd2' class='xr-index-data-in' type='checkbox'/><label for='index-cbdcf66a-bf6e-4f07-b51c-f299e31a6bd2' title='Show/Hide index repr'><svg class='icon xr-icon-database'><use xlink:href='#icon-database'></use></svg></label><div class='xr-index-data'><pre>PandasIndex(Index([2021, 2022, 2023, 2024, 2025, 2026, 2027, 2028, 2029, 2030, 2031, 2032,\n",
       "       2033, 2034, 2035, 2036, 2037, 2038, 2039, 2040, 2041, 2042, 2043, 2044,\n",
       "       2045, 2046, 2047, 2048, 2049, 2050, 2051, 2052, 2053, 2054, 2055, 2056,\n",
       "       2057, 2058, 2059, 2060, 2061, 2062, 2063, 2064, 2065, 2066, 2067, 2068,\n",
       "       2069, 2070, 2071, 2072, 2073, 2074, 2075, 2076, 2077, 2078, 2079, 2080,\n",
       "       2081, 2082, 2083, 2084, 2085, 2086, 2087, 2088, 2089, 2090, 2091, 2092,\n",
       "       2093, 2094, 2095, 2096, 2097, 2098, 2099, 2100],\n",
       "      dtype=&#x27;int32&#x27;, name=&#x27;Time&#x27;))</pre></div></li><li class='xr-var-item'><div class='xr-index-name'><div>NonCO2red</div></div><div class='xr-index-preview'>PandasIndex</div><div></div><input id='index-2572723b-a643-4f5a-9e18-0bba015e86a9' class='xr-index-data-in' type='checkbox'/><label for='index-2572723b-a643-4f5a-9e18-0bba015e86a9' title='Show/Hide index repr'><svg class='icon xr-icon-database'><use xlink:href='#icon-database'></use></svg></label><div class='xr-index-data'><pre>PandasIndex(Index([0.1, 0.33, 0.5, 0.67, 0.9], dtype=&#x27;float64&#x27;, name=&#x27;NonCO2red&#x27;))</pre></div></li><li class='xr-var-item'><div class='xr-index-name'><div>NegEmis</div></div><div class='xr-index-preview'>PandasIndex</div><div></div><input id='index-c009a0ff-bc8a-4691-8c1d-3bf9d2a12775' class='xr-index-data-in' type='checkbox'/><label for='index-c009a0ff-bc8a-4691-8c1d-3bf9d2a12775' title='Show/Hide index repr'><svg class='icon xr-icon-database'><use xlink:href='#icon-database'></use></svg></label><div class='xr-index-data'><pre>PandasIndex(Index([0.2, 0.3, 0.4, 0.5, 0.6, 0.7, 0.8], dtype=&#x27;float64&#x27;, name=&#x27;NegEmis&#x27;))</pre></div></li><li class='xr-var-item'><div class='xr-index-name'><div>Timing</div></div><div class='xr-index-preview'>PandasIndex</div><div></div><input id='index-1b9e3184-b2b8-40d7-8d45-a1c3e8d4d225' class='xr-index-data-in' type='checkbox'/><label for='index-1b9e3184-b2b8-40d7-8d45-a1c3e8d4d225' title='Show/Hide index repr'><svg class='icon xr-icon-database'><use xlink:href='#icon-database'></use></svg></label><div class='xr-index-data'><pre>PandasIndex(Index([&#x27;Delayed&#x27;, &#x27;Immediate&#x27;], dtype=&#x27;object&#x27;, name=&#x27;Timing&#x27;))</pre></div></li><li class='xr-var-item'><div class='xr-index-name'><div>Convergence_year</div></div><div class='xr-index-preview'>PandasIndex</div><div></div><input id='index-08537dde-9995-4ae5-81c7-70136893704b' class='xr-index-data-in' type='checkbox'/><label for='index-08537dde-9995-4ae5-81c7-70136893704b' title='Show/Hide index repr'><svg class='icon xr-icon-database'><use xlink:href='#icon-database'></use></svg></label><div class='xr-index-data'><pre>PandasIndex(Index([2040, 2045, 2050, 2055, 2060, 2065, 2070, 2075, 2080, 2085, 2090, 2095,\n",
       "       2100],\n",
       "      dtype=&#x27;int32&#x27;, name=&#x27;Convergence_year&#x27;))</pre></div></li><li class='xr-var-item'><div class='xr-index-name'><div>Discount_factor</div></div><div class='xr-index-preview'>PandasIndex</div><div></div><input id='index-dfa35e90-4921-4379-95a9-917c40b68290' class='xr-index-data-in' type='checkbox'/><label for='index-dfa35e90-4921-4379-95a9-917c40b68290' title='Show/Hide index repr'><svg class='icon xr-icon-database'><use xlink:href='#icon-database'></use></svg></label><div class='xr-index-data'><pre>PandasIndex(Index([0.0, 1.6, 2.0, 2.8], dtype=&#x27;float64&#x27;, name=&#x27;Discount_factor&#x27;))</pre></div></li><li class='xr-var-item'><div class='xr-index-name'><div>Historical_startyear</div></div><div class='xr-index-preview'>PandasIndex</div><div></div><input id='index-5972b93a-7220-42f6-a67e-2816147fd492' class='xr-index-data-in' type='checkbox'/><label for='index-5972b93a-7220-42f6-a67e-2816147fd492' title='Show/Hide index repr'><svg class='icon xr-icon-database'><use xlink:href='#icon-database'></use></svg></label><div class='xr-index-data'><pre>PandasIndex(Index([1850, 1950, 1990], dtype=&#x27;int64&#x27;, name=&#x27;Historical_startyear&#x27;))</pre></div></li><li class='xr-var-item'><div class='xr-index-name'><div>Capability_threshold</div></div><div class='xr-index-preview'>PandasIndex</div><div></div><input id='index-9feda5ce-c0e1-4a61-bf14-cce2b3dcc387' class='xr-index-data-in' type='checkbox'/><label for='index-9feda5ce-c0e1-4a61-bf14-cce2b3dcc387' title='Show/Hide index repr'><svg class='icon xr-icon-database'><use xlink:href='#icon-database'></use></svg></label><div class='xr-index-data'><pre>PandasIndex(Index([&#x27;No&#x27;, &#x27;PrTh&#x27;, &#x27;Th&#x27;], dtype=&#x27;object&#x27;, name=&#x27;Capability_threshold&#x27;))</pre></div></li><li class='xr-var-item'><div class='xr-index-name'><div>RCI_weight</div></div><div class='xr-index-preview'>PandasIndex</div><div></div><input id='index-6f64cb18-997c-48ca-aa42-dc5831abb310' class='xr-index-data-in' type='checkbox'/><label for='index-6f64cb18-997c-48ca-aa42-dc5831abb310' title='Show/Hide index repr'><svg class='icon xr-icon-database'><use xlink:href='#icon-database'></use></svg></label><div class='xr-index-data'><pre>PandasIndex(Index([&#x27;Cap&#x27;, &#x27;Half&#x27;, &#x27;Resp&#x27;], dtype=&#x27;object&#x27;, name=&#x27;RCI_weight&#x27;))</pre></div></li><li class='xr-var-item'><div class='xr-index-name'><div>Region</div></div><div class='xr-index-preview'>PandasIndex</div><div></div><input id='index-84f98627-0d49-41f3-a28a-9bee77e095ba' class='xr-index-data-in' type='checkbox'/><label for='index-84f98627-0d49-41f3-a28a-9bee77e095ba' title='Show/Hide index repr'><svg class='icon xr-icon-database'><use xlink:href='#icon-database'></use></svg></label><div class='xr-index-data'><pre>PandasIndex(Index([&#x27;AUT&#x27;, &#x27;BEL&#x27;, &#x27;BGR&#x27;, &#x27;CYP&#x27;, &#x27;CZE&#x27;, &#x27;DEU&#x27;, &#x27;DNK&#x27;, &#x27;ESP&#x27;, &#x27;EST&#x27;, &#x27;FIN&#x27;,\n",
       "       &#x27;FRA&#x27;, &#x27;GRC&#x27;, &#x27;HRV&#x27;, &#x27;HUN&#x27;, &#x27;IRL&#x27;, &#x27;ITA&#x27;, &#x27;LTU&#x27;, &#x27;LUX&#x27;, &#x27;LVA&#x27;, &#x27;MLT&#x27;,\n",
       "       &#x27;NLD&#x27;, &#x27;POL&#x27;, &#x27;PRT&#x27;, &#x27;ROU&#x27;, &#x27;SVK&#x27;, &#x27;SVN&#x27;, &#x27;SWE&#x27;],\n",
       "      dtype=&#x27;object&#x27;, name=&#x27;Region&#x27;))</pre></div></li></ul></div></li><li class='xr-section-item'><input id='section-1af27204-28b2-4d49-b219-a3dbd150299a' class='xr-section-summary-in' type='checkbox' disabled ><label for='section-1af27204-28b2-4d49-b219-a3dbd150299a' class='xr-section-summary'  title='Expand/collapse section'>Attributes: <span>(0)</span></label><div class='xr-section-inline-details'></div><div class='xr-section-details'><dl class='xr-attrs'></dl></div></li></ul></div></div>"
      ],
      "text/plain": [
       "<xarray.Dataset>\n",
       "Dimensions:               (Region: 27, NegEmis: 7, NonCO2red: 5, Timing: 2,\n",
       "                           Time: 80, Scenario: 5, Convergence_year: 13,\n",
       "                           Discount_factor: 4, Historical_startyear: 3,\n",
       "                           Capability_threshold: 3, RCI_weight: 3)\n",
       "Coordinates: (12/16)\n",
       "  * Scenario              (Scenario) <U4 'SSP1' 'SSP2' 'SSP3' 'SSP4' 'SSP5'\n",
       "  * Time                  (Time) int32 2021 2022 2023 2024 ... 2098 2099 2100\n",
       "  * NonCO2red             (NonCO2red) float64 0.1 0.33 0.5 0.67 0.9\n",
       "  * NegEmis               (NegEmis) float64 0.2 0.3 0.4 0.5 0.6 0.7 0.8\n",
       "  * Timing                (Timing) <U9 'Delayed' 'Immediate'\n",
       "  * Convergence_year      (Convergence_year) int32 2040 2045 2050 ... 2095 2100\n",
       "    ...                    ...\n",
       "  * Region                (Region) object 'AUT' 'BEL' 'BGR' ... 'SVN' 'SWE'\n",
       "    Temperature           float64 1.5\n",
       "    Risk                  float64 0.5\n",
       "    source                <U25 'PRIMAP-hist_v2.5_final_nr'\n",
       "    Version               <U6 'HISTTP'\n",
       "    variable              <U8 'CO2_base'\n",
       "Data variables:\n",
       "    GF                    (Region, NegEmis, NonCO2red, Timing, Time) float32 ...\n",
       "    PC                    (Region, Scenario, NegEmis, NonCO2red, Timing, Time) float32 ...\n",
       "    PCC                   (Region, Time, Convergence_year, NegEmis, NonCO2red, Timing, Scenario) float32 ...\n",
       "    PCB                   (Region, NegEmis, NonCO2red, Timing, Time, Scenario) float32 ...\n",
       "    PCB_lin               (Region, NegEmis, NonCO2red, Timing, Time, Scenario) float32 ...\n",
       "    ECPC                  (Region, Discount_factor, Historical_startyear, NegEmis, NonCO2red, Timing, Time, Scenario) float32 ...\n",
       "    AP                    (Region, Scenario, Time, NegEmis, NonCO2red, Timing) float32 ...\n",
       "    GDR                   (Region, Scenario, Time, NegEmis, NonCO2red, Timing, Historical_startyear, Capability_threshold, RCI_weight) float32 ..."
      ]
     },
     "execution_count": 9,
     "metadata": {},
     "output_type": "execute_result"
    }
   ],
   "source": [
    "xrt"
   ]
  },
  {
   "cell_type": "markdown",
   "metadata": {},
   "source": [
    "## Plot"
   ]
  },
  {
   "cell_type": "code",
   "execution_count": 17,
   "metadata": {},
   "outputs": [],
   "source": [
    "rulecolors = ['sienna', 'goldenrod', 'forestgreen', 'mediumvioletred', 'steelblue', 'tomato', 'silver']\n",
    "rules = ['GF', 'PC', 'PCC', 'ECPC', 'AP', 'GDR']\n",
    "standard_settings = {\"NonCO2red\": 0.5,\n",
    "                     \"Timing\": 'Immediate',\n",
    "                     \"NegEmis\": 0.4,\n",
    "                     \"Convergence_year\":2050,\n",
    "                     \"Discount_factor\":0,\n",
    "                     \"Historical_startyear\": 1990,\n",
    "                     \"Capability_threshold\": \"Th\",\n",
    "                     \"RCI_weight\": \"Half\"}"
   ]
  },
  {
   "cell_type": "code",
   "execution_count": 43,
   "metadata": {},
   "outputs": [
    {
     "name": "stderr",
     "output_type": "stream",
     "text": [
      "C:\\Users\\dekkerm\\AppData\\Local\\Temp\\2\\ipykernel_10276\\1970047442.py:81: RuntimeWarning:\n",
      "\n",
      "invalid value encountered in cast\n",
      "\n"
     ]
    },
    {
     "data": {
      "application/vnd.plotly.v1+json": {
       "config": {
        "plotlyServerURL": "https://plotly.com"
       },
       "data": [
        {
         "colorbar": {
          "len": 1,
          "tickfont": {
           "size": 25
          },
          "ticktext": [
           "30%",
           "40%",
           "50%",
           "60%",
           "70%",
           "80%",
           "90%"
          ],
          "tickvals": [
           0.3,
           0.4,
           0.5,
           0.6000000000000001,
           0.7000000000000002,
           0.8000000000000003,
           0.9000000000000001
          ],
          "title": {
           "text": "Emission<br>reduction<br>in 2030<br>w.r.t. 1990"
          },
          "x": 1
         },
         "colorscale": [
          [
           0,
           "rgb(49,54,149)"
          ],
          [
           0.1,
           "rgb(69,117,180)"
          ],
          [
           0.2,
           "rgb(116,173,209)"
          ],
          [
           0.3,
           "rgb(171,217,233)"
          ],
          [
           0.4,
           "rgb(224,243,248)"
          ],
          [
           0.5,
           "rgb(255,255,191)"
          ],
          [
           0.6,
           "rgb(254,224,144)"
          ],
          [
           0.7,
           "rgb(253,174,97)"
          ],
          [
           0.8,
           "rgb(244,109,67)"
          ],
          [
           0.9,
           "rgb(215,48,39)"
          ],
          [
           1,
           "rgb(165,0,38)"
          ]
         ],
         "geo": "geo",
         "hovertemplate": "%{text}",
         "locationmode": "ISO-3",
         "locations": [
          "AUT",
          "BEL",
          "BGR",
          "HRV",
          "CYP",
          "CZE",
          "DNK",
          "EST",
          "FIN",
          "FRA",
          "DEU",
          "GRC",
          "HUN",
          "IRL",
          "ITA",
          "LVA",
          "LTU",
          "LUX",
          "MLT",
          "NLD",
          "POL",
          "PRT",
          "ROU",
          "SVK",
          "SVN",
          "ESP",
          "SWE"
         ],
         "marker": {
          "line": {
           "color": "grey",
           "width": 0.7
          }
         },
         "name": "",
         "showscale": true,
         "text": [
          "AUT: 0.53 Gt CO<sub>2</sub>e",
          "BEL: 0.57 Gt CO<sub>2</sub>e",
          "BGR: 0.87 Gt CO<sub>2</sub>e",
          "HRV: 0.74 Gt CO<sub>2</sub>e",
          "CYP: 0.39 Gt CO<sub>2</sub>e",
          "CZE: 0.74 Gt CO<sub>2</sub>e",
          "DNK: 0.71 Gt CO<sub>2</sub>e",
          "EST: 0.66 Gt CO<sub>2</sub>e",
          "FIN: 0.37 Gt CO<sub>2</sub>e",
          "FRA: 0.69 Gt CO<sub>2</sub>e",
          "DEU: 0.73 Gt CO<sub>2</sub>e",
          "GRC: 0.65 Gt CO<sub>2</sub>e",
          "HUN: 0.67 Gt CO<sub>2</sub>e",
          "IRL: 0.52 Gt CO<sub>2</sub>e",
          "ITA: 0.65 Gt CO<sub>2</sub>e",
          "LVA: 0.60 Gt CO<sub>2</sub>e",
          "LTU: 0.71 Gt CO<sub>2</sub>e",
          "LUX: 0.61 Gt CO<sub>2</sub>e",
          "MLT: 0.55 Gt CO<sub>2</sub>e",
          "NLD: 0.65 Gt CO<sub>2</sub>e",
          "POL: 0.66 Gt CO<sub>2</sub>e",
          "PRT: 0.62 Gt CO<sub>2</sub>e",
          "ROU: 0.83 Gt CO<sub>2</sub>e",
          "SVK: 0.65 Gt CO<sub>2</sub>e",
          "SVN: 0.58 Gt CO<sub>2</sub>e",
          "ESP: 0.47 Gt CO<sub>2</sub>e",
          "SWE: 0.74 Gt CO<sub>2</sub>e"
         ],
         "type": "choropleth",
         "z": [
          0.5252641335636004,
          0.568956010730448,
          0.8720680724918135,
          0.7412060629486555,
          0.3928232716524183,
          0.7432764653105153,
          0.714171091343716,
          0.6633287466948169,
          0.3653364958267084,
          0.6926142744249226,
          0.7270534003106344,
          0.6501030193629865,
          0.6730567438442412,
          0.5221136475206712,
          0.654183760535417,
          0.6034638760108063,
          0.7054685643719888,
          0.6107721439665622,
          0.5468585374538703,
          0.6497708608511495,
          0.6612499027653479,
          0.6244860791116231,
          0.8298257991359942,
          0.646141769591382,
          0.5792631891876479,
          0.4658283318718001,
          0.7440120773889229
         ],
         "zmax": 1.01,
         "zmin": 0.29
        },
        {
         "colorbar": {
          "len": 1,
          "tickfont": {
           "size": 25
          },
          "ticktext": [
           "30%",
           "40%",
           "50%",
           "60%",
           "70%",
           "80%",
           "90%"
          ],
          "tickvals": [
           0.3,
           0.4,
           0.5,
           0.6000000000000001,
           0.7000000000000002,
           0.8000000000000003,
           0.9000000000000001
          ],
          "title": {
           "text": "Emission<br>reduction<br>in 2030<br>w.r.t. 1990"
          },
          "x": 1
         },
         "colorscale": [
          [
           0,
           "rgb(49,54,149)"
          ],
          [
           0.1,
           "rgb(69,117,180)"
          ],
          [
           0.2,
           "rgb(116,173,209)"
          ],
          [
           0.3,
           "rgb(171,217,233)"
          ],
          [
           0.4,
           "rgb(224,243,248)"
          ],
          [
           0.5,
           "rgb(255,255,191)"
          ],
          [
           0.6,
           "rgb(254,224,144)"
          ],
          [
           0.7,
           "rgb(253,174,97)"
          ],
          [
           0.8,
           "rgb(244,109,67)"
          ],
          [
           0.9,
           "rgb(215,48,39)"
          ],
          [
           1,
           "rgb(165,0,38)"
          ]
         ],
         "geo": "geo2",
         "hovertemplate": "%{text}",
         "locationmode": "ISO-3",
         "locations": [
          "AUT",
          "BEL",
          "BGR",
          "HRV",
          "CYP",
          "CZE",
          "DNK",
          "EST",
          "FIN",
          "FRA",
          "DEU",
          "GRC",
          "HUN",
          "IRL",
          "ITA",
          "LVA",
          "LTU",
          "LUX",
          "MLT",
          "NLD",
          "POL",
          "PRT",
          "ROU",
          "SVK",
          "SVN",
          "ESP",
          "SWE"
         ],
         "marker": {
          "line": {
           "color": "grey",
           "width": 0.7
          }
         },
         "name": "",
         "showscale": false,
         "text": [
          "AUT: 0.60 Gt CO<sub>2</sub>e",
          "BEL: 0.74 Gt CO<sub>2</sub>e",
          "BGR: 0.74 Gt CO<sub>2</sub>e",
          "HRV: 0.65 Gt CO<sub>2</sub>e",
          "CYP: 0.32 Gt CO<sub>2</sub>e",
          "CZE: 0.83 Gt CO<sub>2</sub>e",
          "DNK: 0.75 Gt CO<sub>2</sub>e",
          "EST: 0.87 Gt CO<sub>2</sub>e",
          "FIN: 0.68 Gt CO<sub>2</sub>e",
          "FRA: 0.63 Gt CO<sub>2</sub>e",
          "DEU: 0.79 Gt CO<sub>2</sub>e",
          "GRC: 0.67 Gt CO<sub>2</sub>e",
          "HUN: 0.70 Gt CO<sub>2</sub>e",
          "IRL: 0.74 Gt CO<sub>2</sub>e",
          "ITA: 0.63 Gt CO<sub>2</sub>e",
          "LVA: 0.45 Gt CO<sub>2</sub>e",
          "LTU: 0.79 Gt CO<sub>2</sub>e",
          "LUX: 0.82 Gt CO<sub>2</sub>e",
          "MLT: 0.37 Gt CO<sub>2</sub>e",
          "NLD: 0.77 Gt CO<sub>2</sub>e",
          "POL: 0.77 Gt CO<sub>2</sub>e",
          "PRT: 0.52 Gt CO<sub>2</sub>e",
          "ROU: 0.75 Gt CO<sub>2</sub>e",
          "SVK: 0.70 Gt CO<sub>2</sub>e",
          "SVN: 0.65 Gt CO<sub>2</sub>e",
          "ESP: 0.42 Gt CO<sub>2</sub>e",
          "SWE: 0.60 Gt CO<sub>2</sub>e"
         ],
         "type": "choropleth",
         "z": [
          0.5968617100381453,
          0.735479174456784,
          0.7390467915247538,
          0.6472592090916464,
          0.3220062262883824,
          0.8304587692125336,
          0.7475309324694415,
          0.8735530462127395,
          0.6770184204286461,
          0.6285681559382069,
          0.7914473175823998,
          0.6696186892741295,
          0.7003127441537367,
          0.7383569299508327,
          0.6309012976433754,
          0.4460209045550092,
          0.7901278025552204,
          0.8248961293786808,
          0.3709109186132053,
          0.767274102460562,
          0.7715376470060714,
          0.5153937171716002,
          0.7548613936726235,
          0.7037242844108961,
          0.6541525268626626,
          0.4231754674888561,
          0.6047255431570274
         ],
         "zmax": 1.01,
         "zmin": 0.29
        },
        {
         "colorbar": {
          "len": 1,
          "tickfont": {
           "size": 25
          },
          "ticktext": [
           "30%",
           "40%",
           "50%",
           "60%",
           "70%",
           "80%",
           "90%"
          ],
          "tickvals": [
           0.3,
           0.4,
           0.5,
           0.6000000000000001,
           0.7000000000000002,
           0.8000000000000003,
           0.9000000000000001
          ],
          "title": {
           "text": "Emission<br>reduction<br>in 2030<br>w.r.t. 1990"
          },
          "x": 1
         },
         "colorscale": [
          [
           0,
           "rgb(49,54,149)"
          ],
          [
           0.1,
           "rgb(69,117,180)"
          ],
          [
           0.2,
           "rgb(116,173,209)"
          ],
          [
           0.3,
           "rgb(171,217,233)"
          ],
          [
           0.4,
           "rgb(224,243,248)"
          ],
          [
           0.5,
           "rgb(255,255,191)"
          ],
          [
           0.6,
           "rgb(254,224,144)"
          ],
          [
           0.7,
           "rgb(253,174,97)"
          ],
          [
           0.8,
           "rgb(244,109,67)"
          ],
          [
           0.9,
           "rgb(215,48,39)"
          ],
          [
           1,
           "rgb(165,0,38)"
          ]
         ],
         "geo": "geo3",
         "hovertemplate": "%{text}",
         "locationmode": "ISO-3",
         "locations": [
          "AUT",
          "BEL",
          "BGR",
          "HRV",
          "CYP",
          "CZE",
          "DNK",
          "EST",
          "FIN",
          "FRA",
          "DEU",
          "GRC",
          "HUN",
          "IRL",
          "ITA",
          "LVA",
          "LTU",
          "LUX",
          "MLT",
          "NLD",
          "POL",
          "PRT",
          "ROU",
          "SVK",
          "SVN",
          "ESP",
          "SWE"
         ],
         "marker": {
          "line": {
           "color": "grey",
           "width": 0.7
          }
         },
         "name": "",
         "showscale": false,
         "text": [
          "AUT: 0.55 Gt CO<sub>2</sub>e",
          "BEL: 0.62 Gt CO<sub>2</sub>e",
          "BGR: 0.83 Gt CO<sub>2</sub>e",
          "HRV: 0.71 Gt CO<sub>2</sub>e",
          "CYP: 0.37 Gt CO<sub>2</sub>e",
          "CZE: 0.77 Gt CO<sub>2</sub>e",
          "DNK: 0.72 Gt CO<sub>2</sub>e",
          "EST: 0.73 Gt CO<sub>2</sub>e",
          "FIN: 0.46 Gt CO<sub>2</sub>e",
          "FRA: 0.67 Gt CO<sub>2</sub>e",
          "DEU: 0.75 Gt CO<sub>2</sub>e",
          "GRC: 0.66 Gt CO<sub>2</sub>e",
          "HUN: 0.68 Gt CO<sub>2</sub>e",
          "IRL: 0.59 Gt CO<sub>2</sub>e",
          "ITA: 0.65 Gt CO<sub>2</sub>e",
          "LVA: 0.55 Gt CO<sub>2</sub>e",
          "LTU: 0.73 Gt CO<sub>2</sub>e",
          "LUX: 0.68 Gt CO<sub>2</sub>e",
          "MLT: 0.49 Gt CO<sub>2</sub>e",
          "NLD: 0.69 Gt CO<sub>2</sub>e",
          "POL: 0.70 Gt CO<sub>2</sub>e",
          "PRT: 0.59 Gt CO<sub>2</sub>e",
          "ROU: 0.81 Gt CO<sub>2</sub>e",
          "SVK: 0.66 Gt CO<sub>2</sub>e",
          "SVN: 0.60 Gt CO<sub>2</sub>e",
          "ESP: 0.45 Gt CO<sub>2</sub>e",
          "SWE: 0.70 Gt CO<sub>2</sub>e"
         ],
         "type": "choropleth",
         "z": [
          0.5474840866395999,
          0.6206355729125068,
          0.8307856019432744,
          0.7120501316360631,
          0.370845547388889,
          0.7703330451383478,
          0.7245241585404087,
          0.7285707676187521,
          0.46206537149502036,
          0.6727378977783474,
          0.7470377349803551,
          0.6561596377163408,
          0.681515485327651,
          0.5892235920166485,
          0.646958184629505,
          0.55460223266406,
          0.731742135509677,
          0.6772244454922076,
          0.49225407255792997,
          0.686237366869232,
          0.695477147506234,
          0.5906298187025548,
          0.8065609869182389,
          0.6640122145612829,
          0.6025047156943252,
          0.4525912381251223,
          0.7007852309625086
         ],
         "zmax": 1.01,
         "zmin": 0.29
        },
        {
         "colorbar": {
          "len": 1,
          "tickfont": {
           "size": 25
          },
          "ticktext": [
           "30%",
           "40%",
           "50%",
           "60%",
           "70%",
           "80%",
           "90%"
          ],
          "tickvals": [
           0.3,
           0.4,
           0.5,
           0.6000000000000001,
           0.7000000000000002,
           0.8000000000000003,
           0.9000000000000001
          ],
          "title": {
           "text": "Emission<br>reduction<br>in 2030<br>w.r.t. 1990"
          },
          "x": 1
         },
         "colorscale": [
          [
           0,
           "rgb(49,54,149)"
          ],
          [
           0.1,
           "rgb(69,117,180)"
          ],
          [
           0.2,
           "rgb(116,173,209)"
          ],
          [
           0.3,
           "rgb(171,217,233)"
          ],
          [
           0.4,
           "rgb(224,243,248)"
          ],
          [
           0.5,
           "rgb(255,255,191)"
          ],
          [
           0.6,
           "rgb(254,224,144)"
          ],
          [
           0.7,
           "rgb(253,174,97)"
          ],
          [
           0.8,
           "rgb(244,109,67)"
          ],
          [
           0.9,
           "rgb(215,48,39)"
          ],
          [
           1,
           "rgb(165,0,38)"
          ]
         ],
         "geo": "geo4",
         "hovertemplate": "%{text}",
         "locationmode": "ISO-3",
         "locations": [
          "AUT",
          "BEL",
          "BGR",
          "HRV",
          "CYP",
          "CZE",
          "DNK",
          "EST",
          "FIN",
          "FRA",
          "DEU",
          "GRC",
          "HUN",
          "IRL",
          "ITA",
          "LVA",
          "LTU",
          "LUX",
          "MLT",
          "NLD",
          "POL",
          "PRT",
          "ROU",
          "SVK",
          "SVN",
          "ESP",
          "SWE"
         ],
         "marker": {
          "line": {
           "color": "grey",
           "width": 0.7
          }
         },
         "name": "",
         "showscale": false,
         "text": [
          "AUT: 0.65 Gt CO<sub>2</sub>e",
          "BEL: 0.72 Gt CO<sub>2</sub>e",
          "BGR: 0.92 Gt CO<sub>2</sub>e",
          "HRV: 0.82 Gt CO<sub>2</sub>e",
          "CYP: 0.45 Gt CO<sub>2</sub>e",
          "CZE: 0.86 Gt CO<sub>2</sub>e",
          "DNK: 0.83 Gt CO<sub>2</sub>e",
          "EST: 0.81 Gt CO<sub>2</sub>e",
          "FIN: 0.57 Gt CO<sub>2</sub>e",
          "FRA: 0.75 Gt CO<sub>2</sub>e",
          "DEU: 0.84 Gt CO<sub>2</sub>e",
          "GRC: 0.79 Gt CO<sub>2</sub>e",
          "HUN: 0.77 Gt CO<sub>2</sub>e",
          "IRL: 0.69 Gt CO<sub>2</sub>e",
          "ITA: 0.76 Gt CO<sub>2</sub>e",
          "LVA: 0.57 Gt CO<sub>2</sub>e",
          "LTU: 0.82 Gt CO<sub>2</sub>e",
          "LUX: 0.77 Gt CO<sub>2</sub>e",
          "MLT: 0.58 Gt CO<sub>2</sub>e",
          "NLD: 0.80 Gt CO<sub>2</sub>e",
          "POL: 0.79 Gt CO<sub>2</sub>e",
          "PRT: 0.72 Gt CO<sub>2</sub>e",
          "ROU: 0.85 Gt CO<sub>2</sub>e",
          "SVK: 0.74 Gt CO<sub>2</sub>e",
          "SVN: 0.65 Gt CO<sub>2</sub>e",
          "ESP: 0.57 Gt CO<sub>2</sub>e",
          "SWE: 0.77 Gt CO<sub>2</sub>e"
         ],
         "type": "choropleth",
         "z": [
          0.6498890730681275,
          0.7232403665348807,
          0.9212408282640694,
          0.8182035137941543,
          0.44987217995433704,
          0.8583332224524713,
          0.8329259506920088,
          0.8131325736056498,
          0.5651437226782968,
          0.7537243995424779,
          0.8412731114555997,
          0.7926165158389692,
          0.7746828158175708,
          0.6893109716727712,
          0.7591404829571654,
          0.5736180399665896,
          0.8172910699657039,
          0.7710856510165055,
          0.5795159331567128,
          0.7954905965329259,
          0.7862105861405962,
          0.7222427859882049,
          0.8543215502859693,
          0.7406073733891697,
          0.6509510069818218,
          0.5668482802306506,
          0.7654925938989573
         ],
         "zmax": 1.01,
         "zmin": 0.29
        },
        {
         "colorbar": {
          "len": 1,
          "tickfont": {
           "size": 25
          },
          "ticktext": [
           "30%",
           "40%",
           "50%",
           "60%",
           "70%",
           "80%",
           "90%"
          ],
          "tickvals": [
           0.3,
           0.4,
           0.5,
           0.6000000000000001,
           0.7000000000000002,
           0.8000000000000003,
           0.9000000000000001
          ],
          "title": {
           "text": "Emission<br>reduction<br>in 2030<br>w.r.t. 1990"
          },
          "x": 1
         },
         "colorscale": [
          [
           0,
           "rgb(49,54,149)"
          ],
          [
           0.1,
           "rgb(69,117,180)"
          ],
          [
           0.2,
           "rgb(116,173,209)"
          ],
          [
           0.3,
           "rgb(171,217,233)"
          ],
          [
           0.4,
           "rgb(224,243,248)"
          ],
          [
           0.5,
           "rgb(255,255,191)"
          ],
          [
           0.6,
           "rgb(254,224,144)"
          ],
          [
           0.7,
           "rgb(253,174,97)"
          ],
          [
           0.8,
           "rgb(244,109,67)"
          ],
          [
           0.9,
           "rgb(215,48,39)"
          ],
          [
           1,
           "rgb(165,0,38)"
          ]
         ],
         "geo": "geo5",
         "hovertemplate": "%{text}",
         "locationmode": "ISO-3",
         "locations": [
          "AUT",
          "BEL",
          "BGR",
          "HRV",
          "CYP",
          "CZE",
          "DNK",
          "EST",
          "FIN",
          "FRA",
          "DEU",
          "GRC",
          "HUN",
          "IRL",
          "ITA",
          "LVA",
          "LTU",
          "LUX",
          "MLT",
          "NLD",
          "POL",
          "PRT",
          "ROU",
          "SVK",
          "SVN",
          "ESP",
          "SWE"
         ],
         "marker": {
          "line": {
           "color": "grey",
           "width": 0.7
          }
         },
         "name": "",
         "showscale": false,
         "text": [
          "AUT: 0.81 Gt CO<sub>2</sub>e",
          "BEL: 0.81 Gt CO<sub>2</sub>e",
          "BGR: 0.91 Gt CO<sub>2</sub>e",
          "HRV: 0.84 Gt CO<sub>2</sub>e",
          "CYP: 0.68 Gt CO<sub>2</sub>e",
          "CZE: 0.84 Gt CO<sub>2</sub>e",
          "DNK: 0.89 Gt CO<sub>2</sub>e",
          "EST: 0.83 Gt CO<sub>2</sub>e",
          "FIN: 0.73 Gt CO<sub>2</sub>e",
          "FRA: 0.85 Gt CO<sub>2</sub>e",
          "DEU: 0.89 Gt CO<sub>2</sub>e",
          "GRC: 0.79 Gt CO<sub>2</sub>e",
          "HUN: 0.80 Gt CO<sub>2</sub>e",
          "IRL: 1.00 Gt CO<sub>2</sub>e",
          "ITA: 0.81 Gt CO<sub>2</sub>e",
          "LVA: 0.75 Gt CO<sub>2</sub>e",
          "LTU: 0.85 Gt CO<sub>2</sub>e",
          "LUX: 1.01 Gt CO<sub>2</sub>e",
          "MLT: 0.83 Gt CO<sub>2</sub>e",
          "NLD: 0.87 Gt CO<sub>2</sub>e",
          "POL: 0.80 Gt CO<sub>2</sub>e",
          "PRT: 0.78 Gt CO<sub>2</sub>e",
          "ROU: 0.89 Gt CO<sub>2</sub>e",
          "SVK: nan Gt CO<sub>2</sub>e",
          "SVN: 0.77 Gt CO<sub>2</sub>e",
          "ESP: 0.70 Gt CO<sub>2</sub>e",
          "SWE: 0.90 Gt CO<sub>2</sub>e"
         ],
         "type": "choropleth",
         "z": [
          0.8112810105033509,
          0.8129426593500632,
          0.9082830598657855,
          0.8449755317496753,
          0.676415162122782,
          0.843218627006433,
          0.8928507354474984,
          0.830222695831337,
          0.7315839805232544,
          0.8515944215621729,
          0.8888084899268788,
          0.7893145245308496,
          0.7999880349707051,
          0.998484162542374,
          0.8112934446073189,
          0.7546523439842707,
          0.847671100943627,
          1.00715301741421,
          0.833383614467686,
          0.8685890204420044,
          0.7972873454202313,
          0.7795080268409215,
          0.8873617047874879,
          null,
          0.7714483470356687,
          0.7005194549566216,
          0.904462737133338
         ],
         "zmax": 1.01,
         "zmin": 0.29
        },
        {
         "colorbar": {
          "len": 1,
          "tickfont": {
           "size": 25
          },
          "ticktext": [
           "30%",
           "40%",
           "50%",
           "60%",
           "70%",
           "80%",
           "90%"
          ],
          "tickvals": [
           0.3,
           0.4,
           0.5,
           0.6000000000000001,
           0.7000000000000002,
           0.8000000000000003,
           0.9000000000000001
          ],
          "title": {
           "text": "Emission<br>reduction<br>in 2030<br>w.r.t. 1990"
          },
          "x": 1
         },
         "colorscale": [
          [
           0,
           "rgb(49,54,149)"
          ],
          [
           0.1,
           "rgb(69,117,180)"
          ],
          [
           0.2,
           "rgb(116,173,209)"
          ],
          [
           0.3,
           "rgb(171,217,233)"
          ],
          [
           0.4,
           "rgb(224,243,248)"
          ],
          [
           0.5,
           "rgb(255,255,191)"
          ],
          [
           0.6,
           "rgb(254,224,144)"
          ],
          [
           0.7,
           "rgb(253,174,97)"
          ],
          [
           0.8,
           "rgb(244,109,67)"
          ],
          [
           0.9,
           "rgb(215,48,39)"
          ],
          [
           1,
           "rgb(165,0,38)"
          ]
         ],
         "geo": "geo6",
         "hovertemplate": "%{text}",
         "locationmode": "ISO-3",
         "locations": [
          "AUT",
          "BEL",
          "BGR",
          "HRV",
          "CYP",
          "CZE",
          "DNK",
          "EST",
          "FIN",
          "FRA",
          "DEU",
          "GRC",
          "HUN",
          "IRL",
          "ITA",
          "LVA",
          "LTU",
          "LUX",
          "MLT",
          "NLD",
          "POL",
          "PRT",
          "ROU",
          "SVK",
          "SVN",
          "ESP",
          "SWE"
         ],
         "marker": {
          "line": {
           "color": "grey",
           "width": 0.7
          }
         },
         "name": "",
         "showscale": false,
         "text": [
          "AUT: 2.23 Gt CO<sub>2</sub>e",
          "BEL: 1.60 Gt CO<sub>2</sub>e",
          "BGR: 1.15 Gt CO<sub>2</sub>e",
          "HRV: 1.17 Gt CO<sub>2</sub>e",
          "CYP: 1.68 Gt CO<sub>2</sub>e",
          "CZE: 1.16 Gt CO<sub>2</sub>e",
          "DNK: 2.15 Gt CO<sub>2</sub>e",
          "EST: 0.95 Gt CO<sub>2</sub>e",
          "FIN: 1.71 Gt CO<sub>2</sub>e",
          "FRA: 2.06 Gt CO<sub>2</sub>e",
          "DEU: 1.67 Gt CO<sub>2</sub>e",
          "GRC: 1.44 Gt CO<sub>2</sub>e",
          "HUN: 1.02 Gt CO<sub>2</sub>e",
          "IRL: 2.85 Gt CO<sub>2</sub>e",
          "ITA: 1.70 Gt CO<sub>2</sub>e",
          "LVA: 1.28 Gt CO<sub>2</sub>e",
          "LTU: 0.96 Gt CO<sub>2</sub>e",
          "LUX: 2.47 Gt CO<sub>2</sub>e",
          "MLT: 2.12 Gt CO<sub>2</sub>e",
          "NLD: 1.84 Gt CO<sub>2</sub>e",
          "POL: 0.93 Gt CO<sub>2</sub>e",
          "PRT: 1.59 Gt CO<sub>2</sub>e",
          "ROU: 1.02 Gt CO<sub>2</sub>e",
          "SVK: nan Gt CO<sub>2</sub>e",
          "SVN: 1.39 Gt CO<sub>2</sub>e",
          "ESP: 1.98 Gt CO<sub>2</sub>e",
          "SWE: 2.61 Gt CO<sub>2</sub>e"
         ],
         "type": "choropleth",
         "z": [
          2.2279302385940434,
          1.5963302480960295,
          1.1461671384985401,
          1.166826900737466,
          1.6841203452884206,
          1.1574601896510102,
          2.150152330587978,
          0.9517302782268643,
          1.71243008683511,
          2.0550986990962854,
          1.6733227063323541,
          1.4374314060253706,
          1.0234616042887683,
          2.845188110951463,
          1.7022808656491772,
          1.2802729712629333,
          0.9636134504362506,
          2.467032020479449,
          2.1154963292091518,
          1.8365901415397006,
          0.9339995413676905,
          1.5941746351773574,
          1.0246694946816735,
          null,
          1.3929355199024105,
          1.9835446805678882,
          2.6127142049784475
         ],
         "zmax": 1.01,
         "zmin": 0.29
        },
        {
         "featureidkey": "properties.NAME_3",
         "geo": "geo",
         "hoverinfo": "skip",
         "locations": [
          "AUT",
          "BEL",
          "BGR",
          "HRV",
          "CYP",
          "CZE",
          "DNK",
          "EST",
          "FIN",
          "FRA",
          "DEU",
          "GRC",
          "HUN",
          "IRL",
          "ITA",
          "LVA",
          "LTU",
          "LUX",
          "MLT",
          "NLD",
          "POL",
          "PRT",
          "ROU",
          "SVK",
          "SVN",
          "ESP",
          "SWE"
         ],
         "mode": "text",
         "showlegend": false,
         "text": [
          "52%",
          "56%",
          "87%",
          "74%",
          "39%",
          "74%",
          "71%",
          "66%",
          "36%",
          "69%",
          "72%",
          "65%",
          "67%",
          "52%",
          "65%",
          "60%",
          "70%",
          "61%",
          "54%",
          "64%",
          "66%",
          "62%",
          "82%",
          "64%",
          "57%",
          "46%",
          "74%"
         ],
         "textfont": {
          "color": "black",
          "size": 20
         },
         "type": "scattergeo"
        },
        {
         "featureidkey": "properties.NAME_3",
         "geo": "geo2",
         "hoverinfo": "skip",
         "locations": [
          "AUT",
          "BEL",
          "BGR",
          "HRV",
          "CYP",
          "CZE",
          "DNK",
          "EST",
          "FIN",
          "FRA",
          "DEU",
          "GRC",
          "HUN",
          "IRL",
          "ITA",
          "LVA",
          "LTU",
          "LUX",
          "MLT",
          "NLD",
          "POL",
          "PRT",
          "ROU",
          "SVK",
          "SVN",
          "ESP",
          "SWE"
         ],
         "mode": "text",
         "showlegend": false,
         "text": [
          "59%",
          "73%",
          "73%",
          "64%",
          "32%",
          "83%",
          "74%",
          "87%",
          "67%",
          "62%",
          "79%",
          "66%",
          "70%",
          "73%",
          "63%",
          "44%",
          "79%",
          "82%",
          "37%",
          "76%",
          "77%",
          "51%",
          "75%",
          "70%",
          "65%",
          "42%",
          "60%"
         ],
         "textfont": {
          "color": "black",
          "size": 20
         },
         "type": "scattergeo"
        },
        {
         "featureidkey": "properties.NAME_3",
         "geo": "geo3",
         "hoverinfo": "skip",
         "locations": [
          "AUT",
          "BEL",
          "BGR",
          "HRV",
          "CYP",
          "CZE",
          "DNK",
          "EST",
          "FIN",
          "FRA",
          "DEU",
          "GRC",
          "HUN",
          "IRL",
          "ITA",
          "LVA",
          "LTU",
          "LUX",
          "MLT",
          "NLD",
          "POL",
          "PRT",
          "ROU",
          "SVK",
          "SVN",
          "ESP",
          "SWE"
         ],
         "mode": "text",
         "showlegend": false,
         "text": [
          "54%",
          "62%",
          "83%",
          "71%",
          "37%",
          "77%",
          "72%",
          "72%",
          "46%",
          "67%",
          "74%",
          "65%",
          "68%",
          "58%",
          "64%",
          "55%",
          "73%",
          "67%",
          "49%",
          "68%",
          "69%",
          "59%",
          "80%",
          "66%",
          "60%",
          "45%",
          "70%"
         ],
         "textfont": {
          "color": "black",
          "size": 20
         },
         "type": "scattergeo"
        },
        {
         "featureidkey": "properties.NAME_3",
         "geo": "geo4",
         "hoverinfo": "skip",
         "locations": [
          "AUT",
          "BEL",
          "BGR",
          "HRV",
          "CYP",
          "CZE",
          "DNK",
          "EST",
          "FIN",
          "FRA",
          "DEU",
          "GRC",
          "HUN",
          "IRL",
          "ITA",
          "LVA",
          "LTU",
          "LUX",
          "MLT",
          "NLD",
          "POL",
          "PRT",
          "ROU",
          "SVK",
          "SVN",
          "ESP",
          "SWE"
         ],
         "mode": "text",
         "showlegend": false,
         "text": [
          "64%",
          "72%",
          "92%",
          "81%",
          "44%",
          "85%",
          "83%",
          "81%",
          "56%",
          "75%",
          "84%",
          "79%",
          "77%",
          "68%",
          "75%",
          "57%",
          "81%",
          "77%",
          "57%",
          "79%",
          "78%",
          "72%",
          "85%",
          "74%",
          "65%",
          "56%",
          "76%"
         ],
         "textfont": {
          "color": "black",
          "size": 20
         },
         "type": "scattergeo"
        },
        {
         "featureidkey": "properties.NAME_3",
         "geo": "geo5",
         "hoverinfo": "skip",
         "locations": [
          "AUT",
          "BEL",
          "BGR",
          "HRV",
          "CYP",
          "CZE",
          "DNK",
          "EST",
          "FIN",
          "FRA",
          "DEU",
          "GRC",
          "HUN",
          "IRL",
          "ITA",
          "LVA",
          "LTU",
          "LUX",
          "MLT",
          "NLD",
          "POL",
          "PRT",
          "ROU",
          "SVK",
          "SVN",
          "ESP",
          "SWE"
         ],
         "mode": "text",
         "showlegend": false,
         "text": [
          "81%",
          "81%",
          "90%",
          "84%",
          "67%",
          "84%",
          "89%",
          "83%",
          "73%",
          "85%",
          "88%",
          "78%",
          "79%",
          "99%",
          "81%",
          "75%",
          "84%",
          "100%",
          "83%",
          "86%",
          "79%",
          "77%",
          "88%",
          "83%",
          "77%",
          "70%",
          "90%"
         ],
         "textfont": {
          "color": "black",
          "size": 20
         },
         "type": "scattergeo"
        },
        {
         "featureidkey": "properties.NAME_3",
         "geo": "geo6",
         "hoverinfo": "skip",
         "locations": [
          "AUT",
          "BEL",
          "BGR",
          "HRV",
          "CYP",
          "CZE",
          "DNK",
          "EST",
          "FIN",
          "FRA",
          "DEU",
          "GRC",
          "HUN",
          "IRL",
          "ITA",
          "LVA",
          "LTU",
          "LUX",
          "MLT",
          "NLD",
          "POL",
          "PRT",
          "ROU",
          "SVK",
          "SVN",
          "ESP",
          "SWE"
         ],
         "mode": "text",
         "showlegend": false,
         "text": [
          "222%",
          "159%",
          "114%",
          "116%",
          "168%",
          "115%",
          "215%",
          "95%",
          "171%",
          "205%",
          "167%",
          "143%",
          "102%",
          "284%",
          "170%",
          "128%",
          "96%",
          "246%",
          "211%",
          "183%",
          "93%",
          "159%",
          "102%",
          "164%",
          "139%",
          "198%",
          "261%"
         ],
         "textfont": {
          "color": "black",
          "size": 20
         },
         "type": "scattergeo"
        }
       ],
       "layout": {
        "annotations": [
         {
          "align": "left",
          "ax": 0,
          "ay": 0,
          "font": {
           "color": "black",
           "size": 25
          },
          "showarrow": false,
          "text": "<b>(a) Grandfathering</b>",
          "x": 0.07,
          "xref": "paper",
          "y": 0.96,
          "yref": "paper"
         },
         {
          "align": "left",
          "ax": 0,
          "ay": 0,
          "font": {
           "color": "black",
           "size": 25
          },
          "showarrow": false,
          "text": "<b>(b) Per Capita</b>",
          "x": 0.47,
          "xref": "paper",
          "y": 0.96,
          "yref": "paper"
         },
         {
          "align": "left",
          "ax": 0,
          "ay": 0,
          "font": {
           "color": "black",
           "size": 25
          },
          "showarrow": false,
          "text": "<b>(c) Per Capita Convergence</b>",
          "x": 0.9,
          "xref": "paper",
          "y": 0.96,
          "yref": "paper"
         },
         {
          "align": "left",
          "ax": 0,
          "ay": 0,
          "font": {
           "color": "black",
           "size": 25
          },
          "showarrow": false,
          "text": "<b>(d) Equal Cumulative per Capita</b>",
          "x": 0.07,
          "xref": "paper",
          "y": 0.45,
          "yref": "paper"
         },
         {
          "align": "left",
          "ax": 0,
          "ay": 0,
          "font": {
           "color": "black",
           "size": 25
          },
          "showarrow": false,
          "text": "<b>(e) Ability to Pay</b>",
          "x": 0.48,
          "xref": "paper",
          "y": 0.45,
          "yref": "paper"
         },
         {
          "align": "left",
          "ax": 0,
          "ay": 0,
          "font": {
           "color": "black",
           "size": 25
          },
          "showarrow": false,
          "text": "<b>(f) Greenhouse Development Rights</b>",
          "x": 0.95,
          "xref": "paper",
          "y": 0.45,
          "yref": "paper"
         }
        ],
        "geo": {
         "domain": {
          "x": [
           0,
           0.3333333333333333
          ],
          "y": [
           0.5,
           1
          ]
         },
         "lakecolor": "rgb(255, 255, 255)",
         "lataxis": {
          "range": [
           30,
           75
          ]
         },
         "lonaxis": {
          "range": [
           -20,
           40
          ]
         },
         "projection": {
          "type": "natural earth"
         },
         "resolution": 50,
         "scope": "europe",
         "showcoastlines": false,
         "showcountries": false,
         "showlakes": true,
         "visible": true
        },
        "geo2": {
         "domain": {
          "x": [
           0.3333333333333333,
           0.6666666666666666
          ],
          "y": [
           0.5,
           1
          ]
         },
         "lakecolor": "rgb(255, 255, 255)",
         "lataxis": {
          "range": [
           30,
           75
          ]
         },
         "lonaxis": {
          "range": [
           -20,
           40
          ]
         },
         "projection": {
          "type": "natural earth"
         },
         "resolution": 50,
         "scope": "europe",
         "showcoastlines": false,
         "showcountries": false,
         "showlakes": true,
         "visible": true
        },
        "geo3": {
         "domain": {
          "x": [
           0.6666666666666666,
           1
          ],
          "y": [
           0.5,
           1
          ]
         },
         "lakecolor": "rgb(255, 255, 255)",
         "lataxis": {
          "range": [
           30,
           75
          ]
         },
         "lonaxis": {
          "range": [
           -20,
           40
          ]
         },
         "projection": {
          "type": "natural earth"
         },
         "resolution": 50,
         "scope": "europe",
         "showcoastlines": false,
         "showcountries": false,
         "showlakes": true,
         "visible": true
        },
        "geo4": {
         "domain": {
          "x": [
           0,
           0.3333333333333333
          ],
          "y": [
           0,
           0.5
          ]
         },
         "lakecolor": "rgb(255, 255, 255)",
         "lataxis": {
          "range": [
           30,
           75
          ]
         },
         "lonaxis": {
          "range": [
           -20,
           40
          ]
         },
         "projection": {
          "type": "natural earth"
         },
         "resolution": 50,
         "scope": "europe",
         "showcoastlines": false,
         "showcountries": false,
         "showlakes": true,
         "visible": true
        },
        "geo5": {
         "domain": {
          "x": [
           0.3333333333333333,
           0.6666666666666666
          ],
          "y": [
           0,
           0.5
          ]
         },
         "lakecolor": "rgb(255, 255, 255)",
         "lataxis": {
          "range": [
           30,
           75
          ]
         },
         "lonaxis": {
          "range": [
           -20,
           40
          ]
         },
         "projection": {
          "type": "natural earth"
         },
         "resolution": 50,
         "scope": "europe",
         "showcoastlines": false,
         "showcountries": false,
         "showlakes": true,
         "visible": true
        },
        "geo6": {
         "domain": {
          "x": [
           0.6666666666666666,
           1
          ],
          "y": [
           0,
           0.5
          ]
         },
         "lakecolor": "rgb(255, 255, 255)",
         "lataxis": {
          "range": [
           30,
           75
          ]
         },
         "lonaxis": {
          "range": [
           -20,
           40
          ]
         },
         "projection": {
          "type": "natural earth"
         },
         "resolution": 50,
         "scope": "europe",
         "showcoastlines": false,
         "showcountries": false,
         "showlakes": true,
         "visible": true
        },
        "height": 1200,
        "margin": {
         "b": 0,
         "l": 0,
         "r": 0,
         "t": 0
        },
        "template": {
         "data": {
          "bar": [
           {
            "error_x": {
             "color": "#2a3f5f"
            },
            "error_y": {
             "color": "#2a3f5f"
            },
            "marker": {
             "line": {
              "color": "#E5ECF6",
              "width": 0.5
             },
             "pattern": {
              "fillmode": "overlay",
              "size": 10,
              "solidity": 0.2
             }
            },
            "type": "bar"
           }
          ],
          "barpolar": [
           {
            "marker": {
             "line": {
              "color": "#E5ECF6",
              "width": 0.5
             },
             "pattern": {
              "fillmode": "overlay",
              "size": 10,
              "solidity": 0.2
             }
            },
            "type": "barpolar"
           }
          ],
          "carpet": [
           {
            "aaxis": {
             "endlinecolor": "#2a3f5f",
             "gridcolor": "white",
             "linecolor": "white",
             "minorgridcolor": "white",
             "startlinecolor": "#2a3f5f"
            },
            "baxis": {
             "endlinecolor": "#2a3f5f",
             "gridcolor": "white",
             "linecolor": "white",
             "minorgridcolor": "white",
             "startlinecolor": "#2a3f5f"
            },
            "type": "carpet"
           }
          ],
          "choropleth": [
           {
            "colorbar": {
             "outlinewidth": 0,
             "ticks": ""
            },
            "type": "choropleth"
           }
          ],
          "contour": [
           {
            "colorbar": {
             "outlinewidth": 0,
             "ticks": ""
            },
            "colorscale": [
             [
              0,
              "#0d0887"
             ],
             [
              0.1111111111111111,
              "#46039f"
             ],
             [
              0.2222222222222222,
              "#7201a8"
             ],
             [
              0.3333333333333333,
              "#9c179e"
             ],
             [
              0.4444444444444444,
              "#bd3786"
             ],
             [
              0.5555555555555556,
              "#d8576b"
             ],
             [
              0.6666666666666666,
              "#ed7953"
             ],
             [
              0.7777777777777778,
              "#fb9f3a"
             ],
             [
              0.8888888888888888,
              "#fdca26"
             ],
             [
              1,
              "#f0f921"
             ]
            ],
            "type": "contour"
           }
          ],
          "contourcarpet": [
           {
            "colorbar": {
             "outlinewidth": 0,
             "ticks": ""
            },
            "type": "contourcarpet"
           }
          ],
          "heatmap": [
           {
            "colorbar": {
             "outlinewidth": 0,
             "ticks": ""
            },
            "colorscale": [
             [
              0,
              "#0d0887"
             ],
             [
              0.1111111111111111,
              "#46039f"
             ],
             [
              0.2222222222222222,
              "#7201a8"
             ],
             [
              0.3333333333333333,
              "#9c179e"
             ],
             [
              0.4444444444444444,
              "#bd3786"
             ],
             [
              0.5555555555555556,
              "#d8576b"
             ],
             [
              0.6666666666666666,
              "#ed7953"
             ],
             [
              0.7777777777777778,
              "#fb9f3a"
             ],
             [
              0.8888888888888888,
              "#fdca26"
             ],
             [
              1,
              "#f0f921"
             ]
            ],
            "type": "heatmap"
           }
          ],
          "heatmapgl": [
           {
            "colorbar": {
             "outlinewidth": 0,
             "ticks": ""
            },
            "colorscale": [
             [
              0,
              "#0d0887"
             ],
             [
              0.1111111111111111,
              "#46039f"
             ],
             [
              0.2222222222222222,
              "#7201a8"
             ],
             [
              0.3333333333333333,
              "#9c179e"
             ],
             [
              0.4444444444444444,
              "#bd3786"
             ],
             [
              0.5555555555555556,
              "#d8576b"
             ],
             [
              0.6666666666666666,
              "#ed7953"
             ],
             [
              0.7777777777777778,
              "#fb9f3a"
             ],
             [
              0.8888888888888888,
              "#fdca26"
             ],
             [
              1,
              "#f0f921"
             ]
            ],
            "type": "heatmapgl"
           }
          ],
          "histogram": [
           {
            "marker": {
             "pattern": {
              "fillmode": "overlay",
              "size": 10,
              "solidity": 0.2
             }
            },
            "type": "histogram"
           }
          ],
          "histogram2d": [
           {
            "colorbar": {
             "outlinewidth": 0,
             "ticks": ""
            },
            "colorscale": [
             [
              0,
              "#0d0887"
             ],
             [
              0.1111111111111111,
              "#46039f"
             ],
             [
              0.2222222222222222,
              "#7201a8"
             ],
             [
              0.3333333333333333,
              "#9c179e"
             ],
             [
              0.4444444444444444,
              "#bd3786"
             ],
             [
              0.5555555555555556,
              "#d8576b"
             ],
             [
              0.6666666666666666,
              "#ed7953"
             ],
             [
              0.7777777777777778,
              "#fb9f3a"
             ],
             [
              0.8888888888888888,
              "#fdca26"
             ],
             [
              1,
              "#f0f921"
             ]
            ],
            "type": "histogram2d"
           }
          ],
          "histogram2dcontour": [
           {
            "colorbar": {
             "outlinewidth": 0,
             "ticks": ""
            },
            "colorscale": [
             [
              0,
              "#0d0887"
             ],
             [
              0.1111111111111111,
              "#46039f"
             ],
             [
              0.2222222222222222,
              "#7201a8"
             ],
             [
              0.3333333333333333,
              "#9c179e"
             ],
             [
              0.4444444444444444,
              "#bd3786"
             ],
             [
              0.5555555555555556,
              "#d8576b"
             ],
             [
              0.6666666666666666,
              "#ed7953"
             ],
             [
              0.7777777777777778,
              "#fb9f3a"
             ],
             [
              0.8888888888888888,
              "#fdca26"
             ],
             [
              1,
              "#f0f921"
             ]
            ],
            "type": "histogram2dcontour"
           }
          ],
          "mesh3d": [
           {
            "colorbar": {
             "outlinewidth": 0,
             "ticks": ""
            },
            "type": "mesh3d"
           }
          ],
          "parcoords": [
           {
            "line": {
             "colorbar": {
              "outlinewidth": 0,
              "ticks": ""
             }
            },
            "type": "parcoords"
           }
          ],
          "pie": [
           {
            "automargin": true,
            "type": "pie"
           }
          ],
          "scatter": [
           {
            "fillpattern": {
             "fillmode": "overlay",
             "size": 10,
             "solidity": 0.2
            },
            "type": "scatter"
           }
          ],
          "scatter3d": [
           {
            "line": {
             "colorbar": {
              "outlinewidth": 0,
              "ticks": ""
             }
            },
            "marker": {
             "colorbar": {
              "outlinewidth": 0,
              "ticks": ""
             }
            },
            "type": "scatter3d"
           }
          ],
          "scattercarpet": [
           {
            "marker": {
             "colorbar": {
              "outlinewidth": 0,
              "ticks": ""
             }
            },
            "type": "scattercarpet"
           }
          ],
          "scattergeo": [
           {
            "marker": {
             "colorbar": {
              "outlinewidth": 0,
              "ticks": ""
             }
            },
            "type": "scattergeo"
           }
          ],
          "scattergl": [
           {
            "marker": {
             "colorbar": {
              "outlinewidth": 0,
              "ticks": ""
             }
            },
            "type": "scattergl"
           }
          ],
          "scattermapbox": [
           {
            "marker": {
             "colorbar": {
              "outlinewidth": 0,
              "ticks": ""
             }
            },
            "type": "scattermapbox"
           }
          ],
          "scatterpolar": [
           {
            "marker": {
             "colorbar": {
              "outlinewidth": 0,
              "ticks": ""
             }
            },
            "type": "scatterpolar"
           }
          ],
          "scatterpolargl": [
           {
            "marker": {
             "colorbar": {
              "outlinewidth": 0,
              "ticks": ""
             }
            },
            "type": "scatterpolargl"
           }
          ],
          "scatterternary": [
           {
            "marker": {
             "colorbar": {
              "outlinewidth": 0,
              "ticks": ""
             }
            },
            "type": "scatterternary"
           }
          ],
          "surface": [
           {
            "colorbar": {
             "outlinewidth": 0,
             "ticks": ""
            },
            "colorscale": [
             [
              0,
              "#0d0887"
             ],
             [
              0.1111111111111111,
              "#46039f"
             ],
             [
              0.2222222222222222,
              "#7201a8"
             ],
             [
              0.3333333333333333,
              "#9c179e"
             ],
             [
              0.4444444444444444,
              "#bd3786"
             ],
             [
              0.5555555555555556,
              "#d8576b"
             ],
             [
              0.6666666666666666,
              "#ed7953"
             ],
             [
              0.7777777777777778,
              "#fb9f3a"
             ],
             [
              0.8888888888888888,
              "#fdca26"
             ],
             [
              1,
              "#f0f921"
             ]
            ],
            "type": "surface"
           }
          ],
          "table": [
           {
            "cells": {
             "fill": {
              "color": "#EBF0F8"
             },
             "line": {
              "color": "white"
             }
            },
            "header": {
             "fill": {
              "color": "#C8D4E3"
             },
             "line": {
              "color": "white"
             }
            },
            "type": "table"
           }
          ]
         },
         "layout": {
          "annotationdefaults": {
           "arrowcolor": "#2a3f5f",
           "arrowhead": 0,
           "arrowwidth": 1
          },
          "autotypenumbers": "strict",
          "coloraxis": {
           "colorbar": {
            "outlinewidth": 0,
            "ticks": ""
           }
          },
          "colorscale": {
           "diverging": [
            [
             0,
             "#8e0152"
            ],
            [
             0.1,
             "#c51b7d"
            ],
            [
             0.2,
             "#de77ae"
            ],
            [
             0.3,
             "#f1b6da"
            ],
            [
             0.4,
             "#fde0ef"
            ],
            [
             0.5,
             "#f7f7f7"
            ],
            [
             0.6,
             "#e6f5d0"
            ],
            [
             0.7,
             "#b8e186"
            ],
            [
             0.8,
             "#7fbc41"
            ],
            [
             0.9,
             "#4d9221"
            ],
            [
             1,
             "#276419"
            ]
           ],
           "sequential": [
            [
             0,
             "#0d0887"
            ],
            [
             0.1111111111111111,
             "#46039f"
            ],
            [
             0.2222222222222222,
             "#7201a8"
            ],
            [
             0.3333333333333333,
             "#9c179e"
            ],
            [
             0.4444444444444444,
             "#bd3786"
            ],
            [
             0.5555555555555556,
             "#d8576b"
            ],
            [
             0.6666666666666666,
             "#ed7953"
            ],
            [
             0.7777777777777778,
             "#fb9f3a"
            ],
            [
             0.8888888888888888,
             "#fdca26"
            ],
            [
             1,
             "#f0f921"
            ]
           ],
           "sequentialminus": [
            [
             0,
             "#0d0887"
            ],
            [
             0.1111111111111111,
             "#46039f"
            ],
            [
             0.2222222222222222,
             "#7201a8"
            ],
            [
             0.3333333333333333,
             "#9c179e"
            ],
            [
             0.4444444444444444,
             "#bd3786"
            ],
            [
             0.5555555555555556,
             "#d8576b"
            ],
            [
             0.6666666666666666,
             "#ed7953"
            ],
            [
             0.7777777777777778,
             "#fb9f3a"
            ],
            [
             0.8888888888888888,
             "#fdca26"
            ],
            [
             1,
             "#f0f921"
            ]
           ]
          },
          "colorway": [
           "#636efa",
           "#EF553B",
           "#00cc96",
           "#ab63fa",
           "#FFA15A",
           "#19d3f3",
           "#FF6692",
           "#B6E880",
           "#FF97FF",
           "#FECB52"
          ],
          "font": {
           "color": "#2a3f5f"
          },
          "geo": {
           "bgcolor": "white",
           "lakecolor": "white",
           "landcolor": "#E5ECF6",
           "showlakes": true,
           "showland": true,
           "subunitcolor": "white"
          },
          "hoverlabel": {
           "align": "left"
          },
          "hovermode": "closest",
          "mapbox": {
           "style": "light"
          },
          "paper_bgcolor": "white",
          "plot_bgcolor": "#E5ECF6",
          "polar": {
           "angularaxis": {
            "gridcolor": "white",
            "linecolor": "white",
            "ticks": ""
           },
           "bgcolor": "#E5ECF6",
           "radialaxis": {
            "gridcolor": "white",
            "linecolor": "white",
            "ticks": ""
           }
          },
          "scene": {
           "xaxis": {
            "backgroundcolor": "#E5ECF6",
            "gridcolor": "white",
            "gridwidth": 2,
            "linecolor": "white",
            "showbackground": true,
            "ticks": "",
            "zerolinecolor": "white"
           },
           "yaxis": {
            "backgroundcolor": "#E5ECF6",
            "gridcolor": "white",
            "gridwidth": 2,
            "linecolor": "white",
            "showbackground": true,
            "ticks": "",
            "zerolinecolor": "white"
           },
           "zaxis": {
            "backgroundcolor": "#E5ECF6",
            "gridcolor": "white",
            "gridwidth": 2,
            "linecolor": "white",
            "showbackground": true,
            "ticks": "",
            "zerolinecolor": "white"
           }
          },
          "shapedefaults": {
           "line": {
            "color": "#2a3f5f"
           }
          },
          "ternary": {
           "aaxis": {
            "gridcolor": "white",
            "linecolor": "white",
            "ticks": ""
           },
           "baxis": {
            "gridcolor": "white",
            "linecolor": "white",
            "ticks": ""
           },
           "bgcolor": "#E5ECF6",
           "caxis": {
            "gridcolor": "white",
            "linecolor": "white",
            "ticks": ""
           }
          },
          "title": {
           "x": 0.05
          },
          "xaxis": {
           "automargin": true,
           "gridcolor": "white",
           "linecolor": "white",
           "ticks": "",
           "title": {
            "standoff": 15
           },
           "zerolinecolor": "white",
           "zerolinewidth": 2
          },
          "yaxis": {
           "automargin": true,
           "gridcolor": "white",
           "linecolor": "white",
           "ticks": "",
           "title": {
            "standoff": 15
           },
           "zerolinecolor": "white",
           "zerolinewidth": 2
          }
         }
        },
        "width": 2300
       }
      }
     },
     "metadata": {},
     "output_type": "display_data"
    },
    {
     "name": "stderr",
     "output_type": "stream",
     "text": [
      "C:\\Users\\dekkerm\\AppData\\Local\\Temp\\2\\ipykernel_10276\\1970047442.py:81: RuntimeWarning:\n",
      "\n",
      "invalid value encountered in cast\n",
      "\n"
     ]
    },
    {
     "data": {
      "application/vnd.plotly.v1+json": {
       "config": {
        "plotlyServerURL": "https://plotly.com"
       },
       "data": [
        {
         "colorbar": {
          "len": 1,
          "tickfont": {
           "size": 25
          },
          "ticktext": [
           "30%",
           "40%",
           "50%",
           "60%",
           "70%",
           "80%",
           "90%"
          ],
          "tickvals": [
           0.3,
           0.4,
           0.5,
           0.6000000000000001,
           0.7000000000000002,
           0.8000000000000003,
           0.9000000000000001
          ],
          "title": {
           "text": "Emission<br>reduction<br>in 2040<br>w.r.t. 1990"
          },
          "x": 1
         },
         "colorscale": [
          [
           0,
           "rgb(49,54,149)"
          ],
          [
           0.1,
           "rgb(69,117,180)"
          ],
          [
           0.2,
           "rgb(116,173,209)"
          ],
          [
           0.3,
           "rgb(171,217,233)"
          ],
          [
           0.4,
           "rgb(224,243,248)"
          ],
          [
           0.5,
           "rgb(255,255,191)"
          ],
          [
           0.6,
           "rgb(254,224,144)"
          ],
          [
           0.7,
           "rgb(253,174,97)"
          ],
          [
           0.8,
           "rgb(244,109,67)"
          ],
          [
           0.9,
           "rgb(215,48,39)"
          ],
          [
           1,
           "rgb(165,0,38)"
          ]
         ],
         "geo": "geo",
         "hovertemplate": "%{text}",
         "locationmode": "ISO-3",
         "locations": [
          "AUT",
          "BEL",
          "BGR",
          "HRV",
          "CYP",
          "CZE",
          "DNK",
          "EST",
          "FIN",
          "FRA",
          "DEU",
          "GRC",
          "HUN",
          "IRL",
          "ITA",
          "LVA",
          "LTU",
          "LUX",
          "MLT",
          "NLD",
          "POL",
          "PRT",
          "ROU",
          "SVK",
          "SVN",
          "ESP",
          "SWE"
         ],
         "marker": {
          "line": {
           "color": "grey",
           "width": 0.7
          }
         },
         "name": "",
         "showscale": true,
         "text": [
          "AUT: 0.78 Gt CO<sub>2</sub>e",
          "BEL: 0.80 Gt CO<sub>2</sub>e",
          "BGR: 0.94 Gt CO<sub>2</sub>e",
          "HRV: 0.88 Gt CO<sub>2</sub>e",
          "CYP: 0.72 Gt CO<sub>2</sub>e",
          "CZE: 0.88 Gt CO<sub>2</sub>e",
          "DNK: 0.87 Gt CO<sub>2</sub>e",
          "EST: 0.85 Gt CO<sub>2</sub>e",
          "FIN: 0.71 Gt CO<sub>2</sub>e",
          "FRA: 0.86 Gt CO<sub>2</sub>e",
          "DEU: 0.88 Gt CO<sub>2</sub>e",
          "GRC: 0.84 Gt CO<sub>2</sub>e",
          "HUN: 0.85 Gt CO<sub>2</sub>e",
          "IRL: 0.78 Gt CO<sub>2</sub>e",
          "ITA: 0.84 Gt CO<sub>2</sub>e",
          "LVA: 0.82 Gt CO<sub>2</sub>e",
          "LTU: 0.87 Gt CO<sub>2</sub>e",
          "LUX: 0.82 Gt CO<sub>2</sub>e",
          "MLT: 0.79 Gt CO<sub>2</sub>e",
          "NLD: 0.84 Gt CO<sub>2</sub>e",
          "POL: 0.85 Gt CO<sub>2</sub>e",
          "PRT: 0.83 Gt CO<sub>2</sub>e",
          "ROU: 0.92 Gt CO<sub>2</sub>e",
          "SVK: 0.84 Gt CO<sub>2</sub>e",
          "SVN: 0.81 Gt CO<sub>2</sub>e",
          "ESP: 0.76 Gt CO<sub>2</sub>e",
          "SWE: 0.88 Gt CO<sub>2</sub>e"
         ],
         "type": "choropleth",
         "z": [
          0.7847218270220667,
          0.8045347315743356,
          0.9419867853980792,
          0.8826448657724889,
          0.7246639226504464,
          0.8835837321521428,
          0.870385340561523,
          0.8473298953675643,
          0.7121995200850094,
          0.860609989761294,
          0.8762270731204246,
          0.8413324358378669,
          0.8517412279920813,
          0.7832931613553233,
          0.8431829268877922,
          0.8201829906096753,
          0.8664389991427384,
          0.823497079056621,
          0.7945142245870006,
          0.8411818038120494,
          0.8463872036784289,
          0.8297159179377158,
          0.9228312096451231,
          0.8395361125687304,
          0.8092087285700359,
          0.7577695008962909,
          0.883917308265279
         ],
         "zmax": 1.01,
         "zmin": 0.29
        },
        {
         "colorbar": {
          "len": 1,
          "tickfont": {
           "size": 25
          },
          "ticktext": [
           "30%",
           "40%",
           "50%",
           "60%",
           "70%",
           "80%",
           "90%"
          ],
          "tickvals": [
           0.3,
           0.4,
           0.5,
           0.6000000000000001,
           0.7000000000000002,
           0.8000000000000003,
           0.9000000000000001
          ],
          "title": {
           "text": "Emission<br>reduction<br>in 2040<br>w.r.t. 1990"
          },
          "x": 1
         },
         "colorscale": [
          [
           0,
           "rgb(49,54,149)"
          ],
          [
           0.1,
           "rgb(69,117,180)"
          ],
          [
           0.2,
           "rgb(116,173,209)"
          ],
          [
           0.3,
           "rgb(171,217,233)"
          ],
          [
           0.4,
           "rgb(224,243,248)"
          ],
          [
           0.5,
           "rgb(255,255,191)"
          ],
          [
           0.6,
           "rgb(254,224,144)"
          ],
          [
           0.7,
           "rgb(253,174,97)"
          ],
          [
           0.8,
           "rgb(244,109,67)"
          ],
          [
           0.9,
           "rgb(215,48,39)"
          ],
          [
           1,
           "rgb(165,0,38)"
          ]
         ],
         "geo": "geo2",
         "hovertemplate": "%{text}",
         "locationmode": "ISO-3",
         "locations": [
          "AUT",
          "BEL",
          "BGR",
          "HRV",
          "CYP",
          "CZE",
          "DNK",
          "EST",
          "FIN",
          "FRA",
          "DEU",
          "GRC",
          "HUN",
          "IRL",
          "ITA",
          "LVA",
          "LTU",
          "LUX",
          "MLT",
          "NLD",
          "POL",
          "PRT",
          "ROU",
          "SVK",
          "SVN",
          "ESP",
          "SWE"
         ],
         "marker": {
          "line": {
           "color": "grey",
           "width": 0.7
          }
         },
         "name": "",
         "showscale": false,
         "text": [
          "AUT: 0.82 Gt CO<sub>2</sub>e",
          "BEL: 0.88 Gt CO<sub>2</sub>e",
          "BGR: 0.88 Gt CO<sub>2</sub>e",
          "HRV: 0.84 Gt CO<sub>2</sub>e",
          "CYP: 0.69 Gt CO<sub>2</sub>e",
          "CZE: 0.92 Gt CO<sub>2</sub>e",
          "DNK: 0.89 Gt CO<sub>2</sub>e",
          "EST: 0.94 Gt CO<sub>2</sub>e",
          "FIN: 0.85 Gt CO<sub>2</sub>e",
          "FRA: 0.83 Gt CO<sub>2</sub>e",
          "DEU: 0.91 Gt CO<sub>2</sub>e",
          "GRC: 0.85 Gt CO<sub>2</sub>e",
          "HUN: 0.86 Gt CO<sub>2</sub>e",
          "IRL: 0.88 Gt CO<sub>2</sub>e",
          "ITA: 0.83 Gt CO<sub>2</sub>e",
          "LVA: 0.75 Gt CO<sub>2</sub>e",
          "LTU: 0.90 Gt CO<sub>2</sub>e",
          "LUX: 0.92 Gt CO<sub>2</sub>e",
          "MLT: 0.71 Gt CO<sub>2</sub>e",
          "NLD: 0.89 Gt CO<sub>2</sub>e",
          "POL: 0.90 Gt CO<sub>2</sub>e",
          "PRT: 0.78 Gt CO<sub>2</sub>e",
          "ROU: 0.89 Gt CO<sub>2</sub>e",
          "SVK: 0.87 Gt CO<sub>2</sub>e",
          "SVN: 0.84 Gt CO<sub>2</sub>e",
          "ESP: 0.74 Gt CO<sub>2</sub>e",
          "SWE: 0.82 Gt CO<sub>2</sub>e"
         ],
         "type": "choropleth",
         "z": [
          0.8171891357420953,
          0.8800479112892962,
          0.8816657049426091,
          0.840042822410553,
          0.6925505595613537,
          0.9231182415657876,
          0.885513018980703,
          0.942660174979301,
          0.8535377250567479,
          0.8315670182233128,
          0.9054277414833538,
          0.8501821785221425,
          0.8641009935780569,
          0.8813528773688658,
          0.8326250438328874,
          0.7487874131687376,
          0.9048293775884543,
          0.9205957522913285,
          0.7147273343899153,
          0.8944659251841773,
          0.8963993066178987,
          0.7802458737993528,
          0.8888371494031696,
          0.8656480300757279,
          0.8431687451453213,
          0.7384277117552964,
          0.8207551344583524
         ],
         "zmax": 1.01,
         "zmin": 0.29
        },
        {
         "colorbar": {
          "len": 1,
          "tickfont": {
           "size": 25
          },
          "ticktext": [
           "30%",
           "40%",
           "50%",
           "60%",
           "70%",
           "80%",
           "90%"
          ],
          "tickvals": [
           0.3,
           0.4,
           0.5,
           0.6000000000000001,
           0.7000000000000002,
           0.8000000000000003,
           0.9000000000000001
          ],
          "title": {
           "text": "Emission<br>reduction<br>in 2040<br>w.r.t. 1990"
          },
          "x": 1
         },
         "colorscale": [
          [
           0,
           "rgb(49,54,149)"
          ],
          [
           0.1,
           "rgb(69,117,180)"
          ],
          [
           0.2,
           "rgb(116,173,209)"
          ],
          [
           0.3,
           "rgb(171,217,233)"
          ],
          [
           0.4,
           "rgb(224,243,248)"
          ],
          [
           0.5,
           "rgb(255,255,191)"
          ],
          [
           0.6,
           "rgb(254,224,144)"
          ],
          [
           0.7,
           "rgb(253,174,97)"
          ],
          [
           0.8,
           "rgb(244,109,67)"
          ],
          [
           0.9,
           "rgb(215,48,39)"
          ],
          [
           1,
           "rgb(165,0,38)"
          ]
         ],
         "geo": "geo3",
         "hovertemplate": "%{text}",
         "locationmode": "ISO-3",
         "locations": [
          "AUT",
          "BEL",
          "BGR",
          "HRV",
          "CYP",
          "CZE",
          "DNK",
          "EST",
          "FIN",
          "FRA",
          "DEU",
          "GRC",
          "HUN",
          "IRL",
          "ITA",
          "LVA",
          "LTU",
          "LUX",
          "MLT",
          "NLD",
          "POL",
          "PRT",
          "ROU",
          "SVK",
          "SVN",
          "ESP",
          "SWE"
         ],
         "marker": {
          "line": {
           "color": "grey",
           "width": 0.7
          }
         },
         "name": "",
         "showscale": false,
         "text": [
          "AUT: 0.81 Gt CO<sub>2</sub>e",
          "BEL: 0.85 Gt CO<sub>2</sub>e",
          "BGR: 0.90 Gt CO<sub>2</sub>e",
          "HRV: 0.85 Gt CO<sub>2</sub>e",
          "CYP: 0.70 Gt CO<sub>2</sub>e",
          "CZE: 0.91 Gt CO<sub>2</sub>e",
          "DNK: 0.88 Gt CO<sub>2</sub>e",
          "EST: 0.91 Gt CO<sub>2</sub>e",
          "FIN: 0.80 Gt CO<sub>2</sub>e",
          "FRA: 0.84 Gt CO<sub>2</sub>e",
          "DEU: 0.90 Gt CO<sub>2</sub>e",
          "GRC: 0.85 Gt CO<sub>2</sub>e",
          "HUN: 0.86 Gt CO<sub>2</sub>e",
          "IRL: 0.85 Gt CO<sub>2</sub>e",
          "ITA: 0.84 Gt CO<sub>2</sub>e",
          "LVA: 0.77 Gt CO<sub>2</sub>e",
          "LTU: 0.89 Gt CO<sub>2</sub>e",
          "LUX: 0.89 Gt CO<sub>2</sub>e",
          "MLT: 0.74 Gt CO<sub>2</sub>e",
          "NLD: 0.88 Gt CO<sub>2</sub>e",
          "POL: 0.88 Gt CO<sub>2</sub>e",
          "PRT: 0.80 Gt CO<sub>2</sub>e",
          "ROU: 0.90 Gt CO<sub>2</sub>e",
          "SVK: 0.86 Gt CO<sub>2</sub>e",
          "SVN: 0.83 Gt CO<sub>2</sub>e",
          "ESP: 0.75 Gt CO<sub>2</sub>e",
          "SWE: 0.84 Gt CO<sub>2</sub>e"
         ],
         "type": "choropleth",
         "z": [
          0.8059935101018566,
          0.8540088867540886,
          0.9024660916587828,
          0.8547331798675991,
          0.7036241337735606,
          0.9094856565893442,
          0.880296573018057,
          0.9097876555752004,
          0.8048004249484634,
          0.8415818330233803,
          0.8953585470046771,
          0.8471305373597241,
          0.859839022678292,
          0.8475391739668671,
          0.8362656862175213,
          0.7734065778035437,
          0.8915913146496025,
          0.8871134481940998,
          0.7422400468678914,
          0.8760920833322667,
          0.8791537536251574,
          0.7973045127546792,
          0.9005592413223589,
          0.8566439182564917,
          0.8314583924027084,
          0.7450972942177083,
          0.8425351906997858
         ],
         "zmax": 1.01,
         "zmin": 0.29
        },
        {
         "colorbar": {
          "len": 1,
          "tickfont": {
           "size": 25
          },
          "ticktext": [
           "30%",
           "40%",
           "50%",
           "60%",
           "70%",
           "80%",
           "90%"
          ],
          "tickvals": [
           0.3,
           0.4,
           0.5,
           0.6000000000000001,
           0.7000000000000002,
           0.8000000000000003,
           0.9000000000000001
          ],
          "title": {
           "text": "Emission<br>reduction<br>in 2040<br>w.r.t. 1990"
          },
          "x": 1
         },
         "colorscale": [
          [
           0,
           "rgb(49,54,149)"
          ],
          [
           0.1,
           "rgb(69,117,180)"
          ],
          [
           0.2,
           "rgb(116,173,209)"
          ],
          [
           0.3,
           "rgb(171,217,233)"
          ],
          [
           0.4,
           "rgb(224,243,248)"
          ],
          [
           0.5,
           "rgb(255,255,191)"
          ],
          [
           0.6,
           "rgb(254,224,144)"
          ],
          [
           0.7,
           "rgb(253,174,97)"
          ],
          [
           0.8,
           "rgb(244,109,67)"
          ],
          [
           0.9,
           "rgb(215,48,39)"
          ],
          [
           1,
           "rgb(165,0,38)"
          ]
         ],
         "geo": "geo4",
         "hovertemplate": "%{text}",
         "locationmode": "ISO-3",
         "locations": [
          "AUT",
          "BEL",
          "BGR",
          "HRV",
          "CYP",
          "CZE",
          "DNK",
          "EST",
          "FIN",
          "FRA",
          "DEU",
          "GRC",
          "HUN",
          "IRL",
          "ITA",
          "LVA",
          "LTU",
          "LUX",
          "MLT",
          "NLD",
          "POL",
          "PRT",
          "ROU",
          "SVK",
          "SVN",
          "ESP",
          "SWE"
         ],
         "marker": {
          "line": {
           "color": "grey",
           "width": 0.7
          }
         },
         "name": "",
         "showscale": false,
         "text": [
          "AUT: 0.97 Gt CO<sub>2</sub>e",
          "BEL: 1.03 Gt CO<sub>2</sub>e",
          "BGR: 1.01 Gt CO<sub>2</sub>e",
          "HRV: 0.99 Gt CO<sub>2</sub>e",
          "CYP: 0.81 Gt CO<sub>2</sub>e",
          "CZE: 1.05 Gt CO<sub>2</sub>e",
          "DNK: 1.04 Gt CO<sub>2</sub>e",
          "EST: 1.06 Gt CO<sub>2</sub>e",
          "FIN: 1.00 Gt CO<sub>2</sub>e",
          "FRA: 0.95 Gt CO<sub>2</sub>e",
          "DEU: 1.04 Gt CO<sub>2</sub>e",
          "GRC: 1.05 Gt CO<sub>2</sub>e",
          "HUN: 1.00 Gt CO<sub>2</sub>e",
          "IRL: 1.03 Gt CO<sub>2</sub>e",
          "ITA: 1.00 Gt CO<sub>2</sub>e",
          "LVA: 0.78 Gt CO<sub>2</sub>e",
          "LTU: 1.03 Gt CO<sub>2</sub>e",
          "LUX: 1.06 Gt CO<sub>2</sub>e",
          "MLT: 0.84 Gt CO<sub>2</sub>e",
          "NLD: 1.05 Gt CO<sub>2</sub>e",
          "POL: 1.03 Gt CO<sub>2</sub>e",
          "PRT: 0.97 Gt CO<sub>2</sub>e",
          "ROU: 0.96 Gt CO<sub>2</sub>e",
          "SVK: 0.98 Gt CO<sub>2</sub>e",
          "SVN: 0.91 Gt CO<sub>2</sub>e",
          "ESP: 0.90 Gt CO<sub>2</sub>e",
          "SWE: 0.92 Gt CO<sub>2</sub>e"
         ],
         "type": "choropleth",
         "z": [
          0.9657976346516698,
          1.0287047708065782,
          1.0134331438163442,
          0.9945195650439662,
          0.8075540979971484,
          1.0507573332034295,
          1.0429321497367032,
          1.0649898010443295,
          1.0025126825157948,
          0.9494009233206573,
          1.0421844605944464,
          1.0483997357646955,
          0.9994004949296962,
          1.0262252404658752,
          0.9956814752682688,
          0.7768180462251982,
          1.0289133612149257,
          1.0564271920071955,
          0.841964289339127,
          1.052907676246813,
          1.0279508788758505,
          0.9717531428916694,
          0.9584227064920531,
          0.9767914417622017,
          0.913368724280444,
          0.9045480526468617,
          0.9151277862783069
         ],
         "zmax": 1.01,
         "zmin": 0.29
        },
        {
         "colorbar": {
          "len": 1,
          "tickfont": {
           "size": 25
          },
          "ticktext": [
           "30%",
           "40%",
           "50%",
           "60%",
           "70%",
           "80%",
           "90%"
          ],
          "tickvals": [
           0.3,
           0.4,
           0.5,
           0.6000000000000001,
           0.7000000000000002,
           0.8000000000000003,
           0.9000000000000001
          ],
          "title": {
           "text": "Emission<br>reduction<br>in 2040<br>w.r.t. 1990"
          },
          "x": 1
         },
         "colorscale": [
          [
           0,
           "rgb(49,54,149)"
          ],
          [
           0.1,
           "rgb(69,117,180)"
          ],
          [
           0.2,
           "rgb(116,173,209)"
          ],
          [
           0.3,
           "rgb(171,217,233)"
          ],
          [
           0.4,
           "rgb(224,243,248)"
          ],
          [
           0.5,
           "rgb(255,255,191)"
          ],
          [
           0.6,
           "rgb(254,224,144)"
          ],
          [
           0.7,
           "rgb(253,174,97)"
          ],
          [
           0.8,
           "rgb(244,109,67)"
          ],
          [
           0.9,
           "rgb(215,48,39)"
          ],
          [
           1,
           "rgb(165,0,38)"
          ]
         ],
         "geo": "geo5",
         "hovertemplate": "%{text}",
         "locationmode": "ISO-3",
         "locations": [
          "AUT",
          "BEL",
          "BGR",
          "HRV",
          "CYP",
          "CZE",
          "DNK",
          "EST",
          "FIN",
          "FRA",
          "DEU",
          "GRC",
          "HUN",
          "IRL",
          "ITA",
          "LVA",
          "LTU",
          "LUX",
          "MLT",
          "NLD",
          "POL",
          "PRT",
          "ROU",
          "SVK",
          "SVN",
          "ESP",
          "SWE"
         ],
         "marker": {
          "line": {
           "color": "grey",
           "width": 0.7
          }
         },
         "name": "",
         "showscale": false,
         "text": [
          "AUT: 1.03 Gt CO<sub>2</sub>e",
          "BEL: 1.01 Gt CO<sub>2</sub>e",
          "BGR: 0.98 Gt CO<sub>2</sub>e",
          "HRV: 0.98 Gt CO<sub>2</sub>e",
          "CYP: 0.95 Gt CO<sub>2</sub>e",
          "CZE: 0.98 Gt CO<sub>2</sub>e",
          "DNK: 1.02 Gt CO<sub>2</sub>e",
          "EST: 0.98 Gt CO<sub>2</sub>e",
          "FIN: 1.00 Gt CO<sub>2</sub>e",
          "FRA: 0.99 Gt CO<sub>2</sub>e",
          "DEU: 1.01 Gt CO<sub>2</sub>e",
          "GRC: 0.95 Gt CO<sub>2</sub>e",
          "HUN: 0.97 Gt CO<sub>2</sub>e",
          "IRL: 1.29 Gt CO<sub>2</sub>e",
          "ITA: 0.98 Gt CO<sub>2</sub>e",
          "LVA: 0.95 Gt CO<sub>2</sub>e",
          "LTU: 1.00 Gt CO<sub>2</sub>e",
          "LUX: 1.19 Gt CO<sub>2</sub>e",
          "MLT: 1.10 Gt CO<sub>2</sub>e",
          "NLD: 1.04 Gt CO<sub>2</sub>e",
          "POL: 0.99 Gt CO<sub>2</sub>e",
          "PRT: 0.97 Gt CO<sub>2</sub>e",
          "ROU: 0.98 Gt CO<sub>2</sub>e",
          "SVK: nan Gt CO<sub>2</sub>e",
          "SVN: 0.98 Gt CO<sub>2</sub>e",
          "ESP: 0.96 Gt CO<sub>2</sub>e",
          "SWE: 1.02 Gt CO<sub>2</sub>e"
         ],
         "type": "choropleth",
         "z": [
          1.0341016452169955,
          1.0131344552625272,
          0.9763095756399779,
          0.9768850538761928,
          0.9455168428553914,
          0.9751281341040281,
          1.0235649673399938,
          0.9843239268531347,
          1.0017304391120636,
          0.9912711518109187,
          1.0087499148071917,
          0.9483231754294253,
          0.9725769046586559,
          1.286564858871119,
          0.9751350300974443,
          0.9499070614011711,
          0.9989574979315108,
          1.1860257546097241,
          1.0967817719901576,
          1.0395537318491739,
          0.987033628129493,
          0.970635832834626,
          0.9763687276564295,
          null,
          0.9792223821754146,
          0.962131140761115,
          1.0236301429484378
         ],
         "zmax": 1.01,
         "zmin": 0.29
        },
        {
         "colorbar": {
          "len": 1,
          "tickfont": {
           "size": 25
          },
          "ticktext": [
           "30%",
           "40%",
           "50%",
           "60%",
           "70%",
           "80%",
           "90%"
          ],
          "tickvals": [
           0.3,
           0.4,
           0.5,
           0.6000000000000001,
           0.7000000000000002,
           0.8000000000000003,
           0.9000000000000001
          ],
          "title": {
           "text": "Emission<br>reduction<br>in 2040<br>w.r.t. 1990"
          },
          "x": 1
         },
         "colorscale": [
          [
           0,
           "rgb(49,54,149)"
          ],
          [
           0.1,
           "rgb(69,117,180)"
          ],
          [
           0.2,
           "rgb(116,173,209)"
          ],
          [
           0.3,
           "rgb(171,217,233)"
          ],
          [
           0.4,
           "rgb(224,243,248)"
          ],
          [
           0.5,
           "rgb(255,255,191)"
          ],
          [
           0.6,
           "rgb(254,224,144)"
          ],
          [
           0.7,
           "rgb(253,174,97)"
          ],
          [
           0.8,
           "rgb(244,109,67)"
          ],
          [
           0.9,
           "rgb(215,48,39)"
          ],
          [
           1,
           "rgb(165,0,38)"
          ]
         ],
         "geo": "geo6",
         "hovertemplate": "%{text}",
         "locationmode": "ISO-3",
         "locations": [
          "AUT",
          "BEL",
          "BGR",
          "HRV",
          "CYP",
          "CZE",
          "DNK",
          "EST",
          "FIN",
          "FRA",
          "DEU",
          "GRC",
          "HUN",
          "IRL",
          "ITA",
          "LVA",
          "LTU",
          "LUX",
          "MLT",
          "NLD",
          "POL",
          "PRT",
          "ROU",
          "SVK",
          "SVN",
          "ESP",
          "SWE"
         ],
         "marker": {
          "line": {
           "color": "grey",
           "width": 0.7
          }
         },
         "name": "",
         "showscale": false,
         "text": [
          "AUT: 3.04 Gt CO<sub>2</sub>e",
          "BEL: 2.21 Gt CO<sub>2</sub>e",
          "BGR: 1.31 Gt CO<sub>2</sub>e",
          "HRV: 1.46 Gt CO<sub>2</sub>e",
          "CYP: 2.55 Gt CO<sub>2</sub>e",
          "CZE: 1.45 Gt CO<sub>2</sub>e",
          "DNK: 2.78 Gt CO<sub>2</sub>e",
          "EST: 1.29 Gt CO<sub>2</sub>e",
          "FIN: 2.39 Gt CO<sub>2</sub>e",
          "FRA: 2.69 Gt CO<sub>2</sub>e",
          "DEU: 2.06 Gt CO<sub>2</sub>e",
          "GRC: 1.90 Gt CO<sub>2</sub>e",
          "HUN: 1.33 Gt CO<sub>2</sub>e",
          "IRL: 3.90 Gt CO<sub>2</sub>e",
          "ITA: 2.25 Gt CO<sub>2</sub>e",
          "LVA: 1.74 Gt CO<sub>2</sub>e",
          "LTU: 1.23 Gt CO<sub>2</sub>e",
          "LUX: 3.43 Gt CO<sub>2</sub>e",
          "MLT: 2.99 Gt CO<sub>2</sub>e",
          "NLD: 2.41 Gt CO<sub>2</sub>e",
          "POL: 1.24 Gt CO<sub>2</sub>e",
          "PRT: 2.22 Gt CO<sub>2</sub>e",
          "ROU: 1.19 Gt CO<sub>2</sub>e",
          "SVK: nan Gt CO<sub>2</sub>e",
          "SVN: 1.93 Gt CO<sub>2</sub>e",
          "ESP: 2.87 Gt CO<sub>2</sub>e",
          "SWE: 3.37 Gt CO<sub>2</sub>e"
         ],
         "type": "choropleth",
         "z": [
          3.0406845849721775,
          2.209276095027755,
          1.3123260140531776,
          1.4588871266852663,
          2.545113475827671,
          1.449741040806728,
          2.783446249637851,
          1.2855289886739674,
          2.387950657361783,
          2.694920674081041,
          2.058029098300701,
          1.8978192872970772,
          1.326597263912198,
          3.898581938326448,
          2.2525406088257136,
          1.7379667487072394,
          1.2335195576752904,
          3.4335534396494705,
          2.9879397512705683,
          2.4084606245648343,
          1.2407232119779594,
          2.216999959751476,
          1.1890856388706386,
          null,
          1.9293275521355866,
          2.873427656529414,
          3.372256265569451
         ],
         "zmax": 1.01,
         "zmin": 0.29
        },
        {
         "featureidkey": "properties.NAME_3",
         "geo": "geo",
         "hoverinfo": "skip",
         "locations": [
          "AUT",
          "BEL",
          "BGR",
          "HRV",
          "CYP",
          "CZE",
          "DNK",
          "EST",
          "FIN",
          "FRA",
          "DEU",
          "GRC",
          "HUN",
          "IRL",
          "ITA",
          "LVA",
          "LTU",
          "LUX",
          "MLT",
          "NLD",
          "POL",
          "PRT",
          "ROU",
          "SVK",
          "SVN",
          "ESP",
          "SWE"
         ],
         "mode": "text",
         "showlegend": false,
         "text": [
          "78%",
          "80%",
          "94%",
          "88%",
          "72%",
          "88%",
          "87%",
          "84%",
          "71%",
          "86%",
          "87%",
          "84%",
          "85%",
          "78%",
          "84%",
          "82%",
          "86%",
          "82%",
          "79%",
          "84%",
          "84%",
          "82%",
          "92%",
          "83%",
          "80%",
          "75%",
          "88%"
         ],
         "textfont": {
          "color": "black",
          "size": 20
         },
         "type": "scattergeo"
        },
        {
         "featureidkey": "properties.NAME_3",
         "geo": "geo2",
         "hoverinfo": "skip",
         "locations": [
          "AUT",
          "BEL",
          "BGR",
          "HRV",
          "CYP",
          "CZE",
          "DNK",
          "EST",
          "FIN",
          "FRA",
          "DEU",
          "GRC",
          "HUN",
          "IRL",
          "ITA",
          "LVA",
          "LTU",
          "LUX",
          "MLT",
          "NLD",
          "POL",
          "PRT",
          "ROU",
          "SVK",
          "SVN",
          "ESP",
          "SWE"
         ],
         "mode": "text",
         "showlegend": false,
         "text": [
          "81%",
          "88%",
          "88%",
          "84%",
          "69%",
          "92%",
          "88%",
          "94%",
          "85%",
          "83%",
          "90%",
          "85%",
          "86%",
          "88%",
          "83%",
          "74%",
          "90%",
          "92%",
          "71%",
          "89%",
          "89%",
          "78%",
          "88%",
          "86%",
          "84%",
          "73%",
          "82%"
         ],
         "textfont": {
          "color": "black",
          "size": 20
         },
         "type": "scattergeo"
        },
        {
         "featureidkey": "properties.NAME_3",
         "geo": "geo3",
         "hoverinfo": "skip",
         "locations": [
          "AUT",
          "BEL",
          "BGR",
          "HRV",
          "CYP",
          "CZE",
          "DNK",
          "EST",
          "FIN",
          "FRA",
          "DEU",
          "GRC",
          "HUN",
          "IRL",
          "ITA",
          "LVA",
          "LTU",
          "LUX",
          "MLT",
          "NLD",
          "POL",
          "PRT",
          "ROU",
          "SVK",
          "SVN",
          "ESP",
          "SWE"
         ],
         "mode": "text",
         "showlegend": false,
         "text": [
          "80%",
          "85%",
          "90%",
          "85%",
          "70%",
          "90%",
          "88%",
          "90%",
          "80%",
          "84%",
          "89%",
          "84%",
          "85%",
          "84%",
          "83%",
          "77%",
          "89%",
          "88%",
          "74%",
          "87%",
          "87%",
          "79%",
          "90%",
          "85%",
          "83%",
          "74%",
          "84%"
         ],
         "textfont": {
          "color": "black",
          "size": 20
         },
         "type": "scattergeo"
        },
        {
         "featureidkey": "properties.NAME_3",
         "geo": "geo4",
         "hoverinfo": "skip",
         "locations": [
          "AUT",
          "BEL",
          "BGR",
          "HRV",
          "CYP",
          "CZE",
          "DNK",
          "EST",
          "FIN",
          "FRA",
          "DEU",
          "GRC",
          "HUN",
          "IRL",
          "ITA",
          "LVA",
          "LTU",
          "LUX",
          "MLT",
          "NLD",
          "POL",
          "PRT",
          "ROU",
          "SVK",
          "SVN",
          "ESP",
          "SWE"
         ],
         "mode": "text",
         "showlegend": false,
         "text": [
          "96%",
          "102%",
          "101%",
          "99%",
          "80%",
          "105%",
          "104%",
          "106%",
          "100%",
          "94%",
          "104%",
          "104%",
          "99%",
          "102%",
          "99%",
          "77%",
          "102%",
          "105%",
          "84%",
          "105%",
          "102%",
          "97%",
          "95%",
          "97%",
          "91%",
          "90%",
          "91%"
         ],
         "textfont": {
          "color": "black",
          "size": 20
         },
         "type": "scattergeo"
        },
        {
         "featureidkey": "properties.NAME_3",
         "geo": "geo5",
         "hoverinfo": "skip",
         "locations": [
          "AUT",
          "BEL",
          "BGR",
          "HRV",
          "CYP",
          "CZE",
          "DNK",
          "EST",
          "FIN",
          "FRA",
          "DEU",
          "GRC",
          "HUN",
          "IRL",
          "ITA",
          "LVA",
          "LTU",
          "LUX",
          "MLT",
          "NLD",
          "POL",
          "PRT",
          "ROU",
          "SVK",
          "SVN",
          "ESP",
          "SWE"
         ],
         "mode": "text",
         "showlegend": false,
         "text": [
          "103%",
          "101%",
          "97%",
          "97%",
          "94%",
          "97%",
          "102%",
          "98%",
          "100%",
          "99%",
          "100%",
          "94%",
          "97%",
          "128%",
          "97%",
          "94%",
          "99%",
          "118%",
          "109%",
          "103%",
          "98%",
          "97%",
          "97%",
          "101%",
          "97%",
          "96%",
          "102%"
         ],
         "textfont": {
          "color": "black",
          "size": 20
         },
         "type": "scattergeo"
        },
        {
         "featureidkey": "properties.NAME_3",
         "geo": "geo6",
         "hoverinfo": "skip",
         "locations": [
          "AUT",
          "BEL",
          "BGR",
          "HRV",
          "CYP",
          "CZE",
          "DNK",
          "EST",
          "FIN",
          "FRA",
          "DEU",
          "GRC",
          "HUN",
          "IRL",
          "ITA",
          "LVA",
          "LTU",
          "LUX",
          "MLT",
          "NLD",
          "POL",
          "PRT",
          "ROU",
          "SVK",
          "SVN",
          "ESP",
          "SWE"
         ],
         "mode": "text",
         "showlegend": false,
         "text": [
          "304%",
          "220%",
          "131%",
          "145%",
          "254%",
          "144%",
          "278%",
          "128%",
          "238%",
          "269%",
          "205%",
          "189%",
          "132%",
          "389%",
          "225%",
          "173%",
          "123%",
          "343%",
          "298%",
          "240%",
          "124%",
          "221%",
          "118%",
          "220%",
          "192%",
          "287%",
          "337%"
         ],
         "textfont": {
          "color": "black",
          "size": 20
         },
         "type": "scattergeo"
        }
       ],
       "layout": {
        "annotations": [
         {
          "align": "left",
          "ax": 0,
          "ay": 0,
          "font": {
           "color": "black",
           "size": 25
          },
          "showarrow": false,
          "text": "<b>(a) Grandfathering</b>",
          "x": 0.07,
          "xref": "paper",
          "y": 0.96,
          "yref": "paper"
         },
         {
          "align": "left",
          "ax": 0,
          "ay": 0,
          "font": {
           "color": "black",
           "size": 25
          },
          "showarrow": false,
          "text": "<b>(b) Per Capita</b>",
          "x": 0.47,
          "xref": "paper",
          "y": 0.96,
          "yref": "paper"
         },
         {
          "align": "left",
          "ax": 0,
          "ay": 0,
          "font": {
           "color": "black",
           "size": 25
          },
          "showarrow": false,
          "text": "<b>(c) Per Capita Convergence</b>",
          "x": 0.9,
          "xref": "paper",
          "y": 0.96,
          "yref": "paper"
         },
         {
          "align": "left",
          "ax": 0,
          "ay": 0,
          "font": {
           "color": "black",
           "size": 25
          },
          "showarrow": false,
          "text": "<b>(d) Equal Cumulative per Capita</b>",
          "x": 0.07,
          "xref": "paper",
          "y": 0.45,
          "yref": "paper"
         },
         {
          "align": "left",
          "ax": 0,
          "ay": 0,
          "font": {
           "color": "black",
           "size": 25
          },
          "showarrow": false,
          "text": "<b>(e) Ability to Pay</b>",
          "x": 0.48,
          "xref": "paper",
          "y": 0.45,
          "yref": "paper"
         },
         {
          "align": "left",
          "ax": 0,
          "ay": 0,
          "font": {
           "color": "black",
           "size": 25
          },
          "showarrow": false,
          "text": "<b>(f) Greenhouse Development Rights</b>",
          "x": 0.95,
          "xref": "paper",
          "y": 0.45,
          "yref": "paper"
         }
        ],
        "geo": {
         "domain": {
          "x": [
           0,
           0.3333333333333333
          ],
          "y": [
           0.5,
           1
          ]
         },
         "lakecolor": "rgb(255, 255, 255)",
         "lataxis": {
          "range": [
           30,
           75
          ]
         },
         "lonaxis": {
          "range": [
           -20,
           40
          ]
         },
         "projection": {
          "type": "natural earth"
         },
         "resolution": 50,
         "scope": "europe",
         "showcoastlines": false,
         "showcountries": false,
         "showlakes": true,
         "visible": true
        },
        "geo2": {
         "domain": {
          "x": [
           0.3333333333333333,
           0.6666666666666666
          ],
          "y": [
           0.5,
           1
          ]
         },
         "lakecolor": "rgb(255, 255, 255)",
         "lataxis": {
          "range": [
           30,
           75
          ]
         },
         "lonaxis": {
          "range": [
           -20,
           40
          ]
         },
         "projection": {
          "type": "natural earth"
         },
         "resolution": 50,
         "scope": "europe",
         "showcoastlines": false,
         "showcountries": false,
         "showlakes": true,
         "visible": true
        },
        "geo3": {
         "domain": {
          "x": [
           0.6666666666666666,
           1
          ],
          "y": [
           0.5,
           1
          ]
         },
         "lakecolor": "rgb(255, 255, 255)",
         "lataxis": {
          "range": [
           30,
           75
          ]
         },
         "lonaxis": {
          "range": [
           -20,
           40
          ]
         },
         "projection": {
          "type": "natural earth"
         },
         "resolution": 50,
         "scope": "europe",
         "showcoastlines": false,
         "showcountries": false,
         "showlakes": true,
         "visible": true
        },
        "geo4": {
         "domain": {
          "x": [
           0,
           0.3333333333333333
          ],
          "y": [
           0,
           0.5
          ]
         },
         "lakecolor": "rgb(255, 255, 255)",
         "lataxis": {
          "range": [
           30,
           75
          ]
         },
         "lonaxis": {
          "range": [
           -20,
           40
          ]
         },
         "projection": {
          "type": "natural earth"
         },
         "resolution": 50,
         "scope": "europe",
         "showcoastlines": false,
         "showcountries": false,
         "showlakes": true,
         "visible": true
        },
        "geo5": {
         "domain": {
          "x": [
           0.3333333333333333,
           0.6666666666666666
          ],
          "y": [
           0,
           0.5
          ]
         },
         "lakecolor": "rgb(255, 255, 255)",
         "lataxis": {
          "range": [
           30,
           75
          ]
         },
         "lonaxis": {
          "range": [
           -20,
           40
          ]
         },
         "projection": {
          "type": "natural earth"
         },
         "resolution": 50,
         "scope": "europe",
         "showcoastlines": false,
         "showcountries": false,
         "showlakes": true,
         "visible": true
        },
        "geo6": {
         "domain": {
          "x": [
           0.6666666666666666,
           1
          ],
          "y": [
           0,
           0.5
          ]
         },
         "lakecolor": "rgb(255, 255, 255)",
         "lataxis": {
          "range": [
           30,
           75
          ]
         },
         "lonaxis": {
          "range": [
           -20,
           40
          ]
         },
         "projection": {
          "type": "natural earth"
         },
         "resolution": 50,
         "scope": "europe",
         "showcoastlines": false,
         "showcountries": false,
         "showlakes": true,
         "visible": true
        },
        "height": 1200,
        "margin": {
         "b": 0,
         "l": 0,
         "r": 0,
         "t": 0
        },
        "template": {
         "data": {
          "bar": [
           {
            "error_x": {
             "color": "#2a3f5f"
            },
            "error_y": {
             "color": "#2a3f5f"
            },
            "marker": {
             "line": {
              "color": "#E5ECF6",
              "width": 0.5
             },
             "pattern": {
              "fillmode": "overlay",
              "size": 10,
              "solidity": 0.2
             }
            },
            "type": "bar"
           }
          ],
          "barpolar": [
           {
            "marker": {
             "line": {
              "color": "#E5ECF6",
              "width": 0.5
             },
             "pattern": {
              "fillmode": "overlay",
              "size": 10,
              "solidity": 0.2
             }
            },
            "type": "barpolar"
           }
          ],
          "carpet": [
           {
            "aaxis": {
             "endlinecolor": "#2a3f5f",
             "gridcolor": "white",
             "linecolor": "white",
             "minorgridcolor": "white",
             "startlinecolor": "#2a3f5f"
            },
            "baxis": {
             "endlinecolor": "#2a3f5f",
             "gridcolor": "white",
             "linecolor": "white",
             "minorgridcolor": "white",
             "startlinecolor": "#2a3f5f"
            },
            "type": "carpet"
           }
          ],
          "choropleth": [
           {
            "colorbar": {
             "outlinewidth": 0,
             "ticks": ""
            },
            "type": "choropleth"
           }
          ],
          "contour": [
           {
            "colorbar": {
             "outlinewidth": 0,
             "ticks": ""
            },
            "colorscale": [
             [
              0,
              "#0d0887"
             ],
             [
              0.1111111111111111,
              "#46039f"
             ],
             [
              0.2222222222222222,
              "#7201a8"
             ],
             [
              0.3333333333333333,
              "#9c179e"
             ],
             [
              0.4444444444444444,
              "#bd3786"
             ],
             [
              0.5555555555555556,
              "#d8576b"
             ],
             [
              0.6666666666666666,
              "#ed7953"
             ],
             [
              0.7777777777777778,
              "#fb9f3a"
             ],
             [
              0.8888888888888888,
              "#fdca26"
             ],
             [
              1,
              "#f0f921"
             ]
            ],
            "type": "contour"
           }
          ],
          "contourcarpet": [
           {
            "colorbar": {
             "outlinewidth": 0,
             "ticks": ""
            },
            "type": "contourcarpet"
           }
          ],
          "heatmap": [
           {
            "colorbar": {
             "outlinewidth": 0,
             "ticks": ""
            },
            "colorscale": [
             [
              0,
              "#0d0887"
             ],
             [
              0.1111111111111111,
              "#46039f"
             ],
             [
              0.2222222222222222,
              "#7201a8"
             ],
             [
              0.3333333333333333,
              "#9c179e"
             ],
             [
              0.4444444444444444,
              "#bd3786"
             ],
             [
              0.5555555555555556,
              "#d8576b"
             ],
             [
              0.6666666666666666,
              "#ed7953"
             ],
             [
              0.7777777777777778,
              "#fb9f3a"
             ],
             [
              0.8888888888888888,
              "#fdca26"
             ],
             [
              1,
              "#f0f921"
             ]
            ],
            "type": "heatmap"
           }
          ],
          "heatmapgl": [
           {
            "colorbar": {
             "outlinewidth": 0,
             "ticks": ""
            },
            "colorscale": [
             [
              0,
              "#0d0887"
             ],
             [
              0.1111111111111111,
              "#46039f"
             ],
             [
              0.2222222222222222,
              "#7201a8"
             ],
             [
              0.3333333333333333,
              "#9c179e"
             ],
             [
              0.4444444444444444,
              "#bd3786"
             ],
             [
              0.5555555555555556,
              "#d8576b"
             ],
             [
              0.6666666666666666,
              "#ed7953"
             ],
             [
              0.7777777777777778,
              "#fb9f3a"
             ],
             [
              0.8888888888888888,
              "#fdca26"
             ],
             [
              1,
              "#f0f921"
             ]
            ],
            "type": "heatmapgl"
           }
          ],
          "histogram": [
           {
            "marker": {
             "pattern": {
              "fillmode": "overlay",
              "size": 10,
              "solidity": 0.2
             }
            },
            "type": "histogram"
           }
          ],
          "histogram2d": [
           {
            "colorbar": {
             "outlinewidth": 0,
             "ticks": ""
            },
            "colorscale": [
             [
              0,
              "#0d0887"
             ],
             [
              0.1111111111111111,
              "#46039f"
             ],
             [
              0.2222222222222222,
              "#7201a8"
             ],
             [
              0.3333333333333333,
              "#9c179e"
             ],
             [
              0.4444444444444444,
              "#bd3786"
             ],
             [
              0.5555555555555556,
              "#d8576b"
             ],
             [
              0.6666666666666666,
              "#ed7953"
             ],
             [
              0.7777777777777778,
              "#fb9f3a"
             ],
             [
              0.8888888888888888,
              "#fdca26"
             ],
             [
              1,
              "#f0f921"
             ]
            ],
            "type": "histogram2d"
           }
          ],
          "histogram2dcontour": [
           {
            "colorbar": {
             "outlinewidth": 0,
             "ticks": ""
            },
            "colorscale": [
             [
              0,
              "#0d0887"
             ],
             [
              0.1111111111111111,
              "#46039f"
             ],
             [
              0.2222222222222222,
              "#7201a8"
             ],
             [
              0.3333333333333333,
              "#9c179e"
             ],
             [
              0.4444444444444444,
              "#bd3786"
             ],
             [
              0.5555555555555556,
              "#d8576b"
             ],
             [
              0.6666666666666666,
              "#ed7953"
             ],
             [
              0.7777777777777778,
              "#fb9f3a"
             ],
             [
              0.8888888888888888,
              "#fdca26"
             ],
             [
              1,
              "#f0f921"
             ]
            ],
            "type": "histogram2dcontour"
           }
          ],
          "mesh3d": [
           {
            "colorbar": {
             "outlinewidth": 0,
             "ticks": ""
            },
            "type": "mesh3d"
           }
          ],
          "parcoords": [
           {
            "line": {
             "colorbar": {
              "outlinewidth": 0,
              "ticks": ""
             }
            },
            "type": "parcoords"
           }
          ],
          "pie": [
           {
            "automargin": true,
            "type": "pie"
           }
          ],
          "scatter": [
           {
            "fillpattern": {
             "fillmode": "overlay",
             "size": 10,
             "solidity": 0.2
            },
            "type": "scatter"
           }
          ],
          "scatter3d": [
           {
            "line": {
             "colorbar": {
              "outlinewidth": 0,
              "ticks": ""
             }
            },
            "marker": {
             "colorbar": {
              "outlinewidth": 0,
              "ticks": ""
             }
            },
            "type": "scatter3d"
           }
          ],
          "scattercarpet": [
           {
            "marker": {
             "colorbar": {
              "outlinewidth": 0,
              "ticks": ""
             }
            },
            "type": "scattercarpet"
           }
          ],
          "scattergeo": [
           {
            "marker": {
             "colorbar": {
              "outlinewidth": 0,
              "ticks": ""
             }
            },
            "type": "scattergeo"
           }
          ],
          "scattergl": [
           {
            "marker": {
             "colorbar": {
              "outlinewidth": 0,
              "ticks": ""
             }
            },
            "type": "scattergl"
           }
          ],
          "scattermapbox": [
           {
            "marker": {
             "colorbar": {
              "outlinewidth": 0,
              "ticks": ""
             }
            },
            "type": "scattermapbox"
           }
          ],
          "scatterpolar": [
           {
            "marker": {
             "colorbar": {
              "outlinewidth": 0,
              "ticks": ""
             }
            },
            "type": "scatterpolar"
           }
          ],
          "scatterpolargl": [
           {
            "marker": {
             "colorbar": {
              "outlinewidth": 0,
              "ticks": ""
             }
            },
            "type": "scatterpolargl"
           }
          ],
          "scatterternary": [
           {
            "marker": {
             "colorbar": {
              "outlinewidth": 0,
              "ticks": ""
             }
            },
            "type": "scatterternary"
           }
          ],
          "surface": [
           {
            "colorbar": {
             "outlinewidth": 0,
             "ticks": ""
            },
            "colorscale": [
             [
              0,
              "#0d0887"
             ],
             [
              0.1111111111111111,
              "#46039f"
             ],
             [
              0.2222222222222222,
              "#7201a8"
             ],
             [
              0.3333333333333333,
              "#9c179e"
             ],
             [
              0.4444444444444444,
              "#bd3786"
             ],
             [
              0.5555555555555556,
              "#d8576b"
             ],
             [
              0.6666666666666666,
              "#ed7953"
             ],
             [
              0.7777777777777778,
              "#fb9f3a"
             ],
             [
              0.8888888888888888,
              "#fdca26"
             ],
             [
              1,
              "#f0f921"
             ]
            ],
            "type": "surface"
           }
          ],
          "table": [
           {
            "cells": {
             "fill": {
              "color": "#EBF0F8"
             },
             "line": {
              "color": "white"
             }
            },
            "header": {
             "fill": {
              "color": "#C8D4E3"
             },
             "line": {
              "color": "white"
             }
            },
            "type": "table"
           }
          ]
         },
         "layout": {
          "annotationdefaults": {
           "arrowcolor": "#2a3f5f",
           "arrowhead": 0,
           "arrowwidth": 1
          },
          "autotypenumbers": "strict",
          "coloraxis": {
           "colorbar": {
            "outlinewidth": 0,
            "ticks": ""
           }
          },
          "colorscale": {
           "diverging": [
            [
             0,
             "#8e0152"
            ],
            [
             0.1,
             "#c51b7d"
            ],
            [
             0.2,
             "#de77ae"
            ],
            [
             0.3,
             "#f1b6da"
            ],
            [
             0.4,
             "#fde0ef"
            ],
            [
             0.5,
             "#f7f7f7"
            ],
            [
             0.6,
             "#e6f5d0"
            ],
            [
             0.7,
             "#b8e186"
            ],
            [
             0.8,
             "#7fbc41"
            ],
            [
             0.9,
             "#4d9221"
            ],
            [
             1,
             "#276419"
            ]
           ],
           "sequential": [
            [
             0,
             "#0d0887"
            ],
            [
             0.1111111111111111,
             "#46039f"
            ],
            [
             0.2222222222222222,
             "#7201a8"
            ],
            [
             0.3333333333333333,
             "#9c179e"
            ],
            [
             0.4444444444444444,
             "#bd3786"
            ],
            [
             0.5555555555555556,
             "#d8576b"
            ],
            [
             0.6666666666666666,
             "#ed7953"
            ],
            [
             0.7777777777777778,
             "#fb9f3a"
            ],
            [
             0.8888888888888888,
             "#fdca26"
            ],
            [
             1,
             "#f0f921"
            ]
           ],
           "sequentialminus": [
            [
             0,
             "#0d0887"
            ],
            [
             0.1111111111111111,
             "#46039f"
            ],
            [
             0.2222222222222222,
             "#7201a8"
            ],
            [
             0.3333333333333333,
             "#9c179e"
            ],
            [
             0.4444444444444444,
             "#bd3786"
            ],
            [
             0.5555555555555556,
             "#d8576b"
            ],
            [
             0.6666666666666666,
             "#ed7953"
            ],
            [
             0.7777777777777778,
             "#fb9f3a"
            ],
            [
             0.8888888888888888,
             "#fdca26"
            ],
            [
             1,
             "#f0f921"
            ]
           ]
          },
          "colorway": [
           "#636efa",
           "#EF553B",
           "#00cc96",
           "#ab63fa",
           "#FFA15A",
           "#19d3f3",
           "#FF6692",
           "#B6E880",
           "#FF97FF",
           "#FECB52"
          ],
          "font": {
           "color": "#2a3f5f"
          },
          "geo": {
           "bgcolor": "white",
           "lakecolor": "white",
           "landcolor": "#E5ECF6",
           "showlakes": true,
           "showland": true,
           "subunitcolor": "white"
          },
          "hoverlabel": {
           "align": "left"
          },
          "hovermode": "closest",
          "mapbox": {
           "style": "light"
          },
          "paper_bgcolor": "white",
          "plot_bgcolor": "#E5ECF6",
          "polar": {
           "angularaxis": {
            "gridcolor": "white",
            "linecolor": "white",
            "ticks": ""
           },
           "bgcolor": "#E5ECF6",
           "radialaxis": {
            "gridcolor": "white",
            "linecolor": "white",
            "ticks": ""
           }
          },
          "scene": {
           "xaxis": {
            "backgroundcolor": "#E5ECF6",
            "gridcolor": "white",
            "gridwidth": 2,
            "linecolor": "white",
            "showbackground": true,
            "ticks": "",
            "zerolinecolor": "white"
           },
           "yaxis": {
            "backgroundcolor": "#E5ECF6",
            "gridcolor": "white",
            "gridwidth": 2,
            "linecolor": "white",
            "showbackground": true,
            "ticks": "",
            "zerolinecolor": "white"
           },
           "zaxis": {
            "backgroundcolor": "#E5ECF6",
            "gridcolor": "white",
            "gridwidth": 2,
            "linecolor": "white",
            "showbackground": true,
            "ticks": "",
            "zerolinecolor": "white"
           }
          },
          "shapedefaults": {
           "line": {
            "color": "#2a3f5f"
           }
          },
          "ternary": {
           "aaxis": {
            "gridcolor": "white",
            "linecolor": "white",
            "ticks": ""
           },
           "baxis": {
            "gridcolor": "white",
            "linecolor": "white",
            "ticks": ""
           },
           "bgcolor": "#E5ECF6",
           "caxis": {
            "gridcolor": "white",
            "linecolor": "white",
            "ticks": ""
           }
          },
          "title": {
           "x": 0.05
          },
          "xaxis": {
           "automargin": true,
           "gridcolor": "white",
           "linecolor": "white",
           "ticks": "",
           "title": {
            "standoff": 15
           },
           "zerolinecolor": "white",
           "zerolinewidth": 2
          },
          "yaxis": {
           "automargin": true,
           "gridcolor": "white",
           "linecolor": "white",
           "ticks": "",
           "title": {
            "standoff": 15
           },
           "zerolinecolor": "white",
           "zerolinewidth": 2
          }
         }
        },
        "width": 2300
       }
      }
     },
     "metadata": {},
     "output_type": "display_data"
    },
    {
     "name": "stderr",
     "output_type": "stream",
     "text": [
      "C:\\Users\\dekkerm\\AppData\\Local\\Temp\\2\\ipykernel_10276\\1970047442.py:81: RuntimeWarning:\n",
      "\n",
      "invalid value encountered in cast\n",
      "\n"
     ]
    },
    {
     "data": {
      "application/vnd.plotly.v1+json": {
       "config": {
        "plotlyServerURL": "https://plotly.com"
       },
       "data": [
        {
         "colorbar": {
          "len": 1,
          "tickfont": {
           "size": 25
          },
          "ticktext": [
           "30%",
           "40%",
           "50%",
           "60%",
           "70%",
           "80%",
           "90%"
          ],
          "tickvals": [
           0.3,
           0.4,
           0.5,
           0.6000000000000001,
           0.7000000000000002,
           0.8000000000000003,
           0.9000000000000001
          ],
          "title": {
           "text": "Emission<br>reduction<br>in 2030<br>w.r.t. 2021"
          },
          "x": 1
         },
         "colorscale": [
          [
           0,
           "rgb(49,54,149)"
          ],
          [
           0.1,
           "rgb(69,117,180)"
          ],
          [
           0.2,
           "rgb(116,173,209)"
          ],
          [
           0.3,
           "rgb(171,217,233)"
          ],
          [
           0.4,
           "rgb(224,243,248)"
          ],
          [
           0.5,
           "rgb(255,255,191)"
          ],
          [
           0.6,
           "rgb(254,224,144)"
          ],
          [
           0.7,
           "rgb(253,174,97)"
          ],
          [
           0.8,
           "rgb(244,109,67)"
          ],
          [
           0.9,
           "rgb(215,48,39)"
          ],
          [
           1,
           "rgb(165,0,38)"
          ]
         ],
         "geo": "geo",
         "hovertemplate": "%{text}",
         "locationmode": "ISO-3",
         "locations": [
          "AUT",
          "BEL",
          "BGR",
          "HRV",
          "CYP",
          "CZE",
          "DNK",
          "EST",
          "FIN",
          "FRA",
          "DEU",
          "GRC",
          "HUN",
          "IRL",
          "ITA",
          "LVA",
          "LTU",
          "LUX",
          "MLT",
          "NLD",
          "POL",
          "PRT",
          "ROU",
          "SVK",
          "SVN",
          "ESP",
          "SWE"
         ],
         "marker": {
          "line": {
           "color": "grey",
           "width": 0.7
          }
         },
         "name": "",
         "showscale": true,
         "text": [
          "AUT: 0.53 Gt CO<sub>2</sub>e",
          "BEL: 0.53 Gt CO<sub>2</sub>e",
          "BGR: 0.53 Gt CO<sub>2</sub>e",
          "HRV: 0.53 Gt CO<sub>2</sub>e",
          "CYP: 0.53 Gt CO<sub>2</sub>e",
          "CZE: 0.53 Gt CO<sub>2</sub>e",
          "DNK: 0.53 Gt CO<sub>2</sub>e",
          "EST: 0.53 Gt CO<sub>2</sub>e",
          "FIN: 0.53 Gt CO<sub>2</sub>e",
          "FRA: 0.53 Gt CO<sub>2</sub>e",
          "DEU: 0.53 Gt CO<sub>2</sub>e",
          "GRC: 0.53 Gt CO<sub>2</sub>e",
          "HUN: 0.53 Gt CO<sub>2</sub>e",
          "IRL: 0.53 Gt CO<sub>2</sub>e",
          "ITA: 0.53 Gt CO<sub>2</sub>e",
          "LVA: 0.53 Gt CO<sub>2</sub>e",
          "LTU: 0.53 Gt CO<sub>2</sub>e",
          "LUX: 0.53 Gt CO<sub>2</sub>e",
          "MLT: 0.53 Gt CO<sub>2</sub>e",
          "NLD: 0.53 Gt CO<sub>2</sub>e",
          "POL: 0.53 Gt CO<sub>2</sub>e",
          "PRT: 0.53 Gt CO<sub>2</sub>e",
          "ROU: 0.53 Gt CO<sub>2</sub>e",
          "SVK: 0.53 Gt CO<sub>2</sub>e",
          "SVN: 0.53 Gt CO<sub>2</sub>e",
          "ESP: 0.53 Gt CO<sub>2</sub>e",
          "SWE: 0.53 Gt CO<sub>2</sub>e"
         ],
         "type": "choropleth",
         "z": [
          0.5339101545793964,
          0.5339101872279808,
          0.5339101988305066,
          0.5339101826555296,
          0.5339101776769858,
          0.533910177056688,
          0.5339101662438014,
          0.5339101686308937,
          0.5339101824478715,
          0.5339101581444885,
          0.5339101653683506,
          0.5339101561047295,
          0.533910199918404,
          0.5339101933484974,
          0.533910159243286,
          0.533910202196074,
          0.5339101854982242,
          0.5339101632781156,
          0.5339101714438247,
          0.5339101747024891,
          0.5339101767803265,
          0.533910186591676,
          0.5339101705553163,
          0.5339101813649852,
          0.5339101815803567,
          0.5339101746600657,
          0.5339101644644071
         ],
         "zmax": 1.01,
         "zmin": 0.29
        },
        {
         "colorbar": {
          "len": 1,
          "tickfont": {
           "size": 25
          },
          "ticktext": [
           "30%",
           "40%",
           "50%",
           "60%",
           "70%",
           "80%",
           "90%"
          ],
          "tickvals": [
           0.3,
           0.4,
           0.5,
           0.6000000000000001,
           0.7000000000000002,
           0.8000000000000003,
           0.9000000000000001
          ],
          "title": {
           "text": "Emission<br>reduction<br>in 2030<br>w.r.t. 2021"
          },
          "x": 1
         },
         "colorscale": [
          [
           0,
           "rgb(49,54,149)"
          ],
          [
           0.1,
           "rgb(69,117,180)"
          ],
          [
           0.2,
           "rgb(116,173,209)"
          ],
          [
           0.3,
           "rgb(171,217,233)"
          ],
          [
           0.4,
           "rgb(224,243,248)"
          ],
          [
           0.5,
           "rgb(255,255,191)"
          ],
          [
           0.6,
           "rgb(254,224,144)"
          ],
          [
           0.7,
           "rgb(253,174,97)"
          ],
          [
           0.8,
           "rgb(244,109,67)"
          ],
          [
           0.9,
           "rgb(215,48,39)"
          ],
          [
           1,
           "rgb(165,0,38)"
          ]
         ],
         "geo": "geo2",
         "hovertemplate": "%{text}",
         "locationmode": "ISO-3",
         "locations": [
          "AUT",
          "BEL",
          "BGR",
          "HRV",
          "CYP",
          "CZE",
          "DNK",
          "EST",
          "FIN",
          "FRA",
          "DEU",
          "GRC",
          "HUN",
          "IRL",
          "ITA",
          "LVA",
          "LTU",
          "LUX",
          "MLT",
          "NLD",
          "POL",
          "PRT",
          "ROU",
          "SVK",
          "SVN",
          "ESP",
          "SWE"
         ],
         "marker": {
          "line": {
           "color": "grey",
           "width": 0.7
          }
         },
         "name": "",
         "showscale": false,
         "text": [
          "AUT: 0.60 Gt CO<sub>2</sub>e",
          "BEL: 0.71 Gt CO<sub>2</sub>e",
          "BGR: 0.05 Gt CO<sub>2</sub>e",
          "HRV: 0.36 Gt CO<sub>2</sub>e",
          "CYP: 0.48 Gt CO<sub>2</sub>e",
          "CZE: 0.69 Gt CO<sub>2</sub>e",
          "DNK: 0.59 Gt CO<sub>2</sub>e",
          "EST: 0.82 Gt CO<sub>2</sub>e",
          "FIN: 0.76 Gt CO<sub>2</sub>e",
          "FRA: 0.44 Gt CO<sub>2</sub>e",
          "DEU: 0.64 Gt CO<sub>2</sub>e",
          "GRC: 0.56 Gt CO<sub>2</sub>e",
          "HUN: 0.57 Gt CO<sub>2</sub>e",
          "IRL: 0.74 Gt CO<sub>2</sub>e",
          "ITA: 0.50 Gt CO<sub>2</sub>e",
          "LVA: 0.35 Gt CO<sub>2</sub>e",
          "LTU: 0.67 Gt CO<sub>2</sub>e",
          "LUX: 0.79 Gt CO<sub>2</sub>e",
          "MLT: 0.35 Gt CO<sub>2</sub>e",
          "NLD: 0.69 Gt CO<sub>2</sub>e",
          "POL: 0.69 Gt CO<sub>2</sub>e",
          "PRT: 0.40 Gt CO<sub>2</sub>e",
          "ROU: 0.33 Gt CO<sub>2</sub>e",
          "SVK: 0.61 Gt CO<sub>2</sub>e",
          "SVN: 0.62 Gt CO<sub>2</sub>e",
          "ESP: 0.50 Gt CO<sub>2</sub>e",
          "SWE: 0.28 Gt CO<sub>2</sub>e"
         ],
         "type": "choropleth",
         "z": [
          0.6042037761715647,
          0.7139724364080201,
          0.049278538815216676,
          0.36471119579667727,
          0.4795485683626888,
          0.692192450003073,
          0.5883087324263431,
          0.824946030321104,
          0.7628059207670985,
          0.43679684821090264,
          0.6438706861685319,
          0.5599065380278779,
          0.5727663117851817,
          0.7448155460011867,
          0.502530142392206,
          0.3488512421365319,
          0.6678816528784327,
          0.790317848010731,
          0.3529349081352625,
          0.6902851282164107,
          0.6856562445632911,
          0.39850418486314587,
          0.3285902878736467,
          0.6097558776987498,
          0.6168721590006843,
          0.4966935506856862,
          0.28030430224136754
         ],
         "zmax": 1.01,
         "zmin": 0.29
        },
        {
         "colorbar": {
          "len": 1,
          "tickfont": {
           "size": 25
          },
          "ticktext": [
           "30%",
           "40%",
           "50%",
           "60%",
           "70%",
           "80%",
           "90%"
          ],
          "tickvals": [
           0.3,
           0.4,
           0.5,
           0.6000000000000001,
           0.7000000000000002,
           0.8000000000000003,
           0.9000000000000001
          ],
          "title": {
           "text": "Emission<br>reduction<br>in 2030<br>w.r.t. 2021"
          },
          "x": 1
         },
         "colorscale": [
          [
           0,
           "rgb(49,54,149)"
          ],
          [
           0.1,
           "rgb(69,117,180)"
          ],
          [
           0.2,
           "rgb(116,173,209)"
          ],
          [
           0.3,
           "rgb(171,217,233)"
          ],
          [
           0.4,
           "rgb(224,243,248)"
          ],
          [
           0.5,
           "rgb(255,255,191)"
          ],
          [
           0.6,
           "rgb(254,224,144)"
          ],
          [
           0.7,
           "rgb(253,174,97)"
          ],
          [
           0.8,
           "rgb(244,109,67)"
          ],
          [
           0.9,
           "rgb(215,48,39)"
          ],
          [
           1,
           "rgb(165,0,38)"
          ]
         ],
         "geo": "geo3",
         "hovertemplate": "%{text}",
         "locationmode": "ISO-3",
         "locations": [
          "AUT",
          "BEL",
          "BGR",
          "HRV",
          "CYP",
          "CZE",
          "DNK",
          "EST",
          "FIN",
          "FRA",
          "DEU",
          "GRC",
          "HUN",
          "IRL",
          "ITA",
          "LVA",
          "LTU",
          "LUX",
          "MLT",
          "NLD",
          "POL",
          "PRT",
          "ROU",
          "SVK",
          "SVN",
          "ESP",
          "SWE"
         ],
         "marker": {
          "line": {
           "color": "grey",
           "width": 0.7
          }
         },
         "name": "",
         "showscale": false,
         "text": [
          "AUT: 0.56 Gt CO<sub>2</sub>e",
          "BEL: 0.59 Gt CO<sub>2</sub>e",
          "BGR: 0.38 Gt CO<sub>2</sub>e",
          "HRV: 0.48 Gt CO<sub>2</sub>e",
          "CYP: 0.52 Gt CO<sub>2</sub>e",
          "CZE: 0.58 Gt CO<sub>2</sub>e",
          "DNK: 0.55 Gt CO<sub>2</sub>e",
          "EST: 0.62 Gt CO<sub>2</sub>e",
          "FIN: 0.60 Gt CO<sub>2</sub>e",
          "FRA: 0.50 Gt CO<sub>2</sub>e",
          "DEU: 0.57 Gt CO<sub>2</sub>e",
          "GRC: 0.54 Gt CO<sub>2</sub>e",
          "HUN: 0.55 Gt CO<sub>2</sub>e",
          "IRL: 0.60 Gt CO<sub>2</sub>e",
          "ITA: 0.52 Gt CO<sub>2</sub>e",
          "LVA: 0.48 Gt CO<sub>2</sub>e",
          "LTU: 0.58 Gt CO<sub>2</sub>e",
          "LUX: 0.61 Gt CO<sub>2</sub>e",
          "MLT: 0.48 Gt CO<sub>2</sub>e",
          "NLD: 0.58 Gt CO<sub>2</sub>e",
          "POL: 0.58 Gt CO<sub>2</sub>e",
          "PRT: 0.49 Gt CO<sub>2</sub>e",
          "ROU: 0.47 Gt CO<sub>2</sub>e",
          "SVK: 0.56 Gt CO<sub>2</sub>e",
          "SVN: 0.56 Gt CO<sub>2</sub>e",
          "ESP: 0.52 Gt CO<sub>2</sub>e",
          "SWE: 0.46 Gt CO<sub>2</sub>e"
         ],
         "type": "choropleth",
         "z": [
          0.5557254317190543,
          0.5897915312699059,
          0.38350725513591744,
          0.4814001321696943,
          0.5170393176475998,
          0.5830322667656008,
          0.5507925011736667,
          0.6242316387061901,
          0.6049467927394819,
          0.5037715522266932,
          0.5680358707335549,
          0.5419780402508252,
          0.5459689686885608,
          0.5993635399281658,
          0.5241715549239044,
          0.47647807409953463,
          0.575487560326664,
          0.6134849981409644,
          0.477745402193296,
          0.5824403097463209,
          0.5810038029690904,
          0.4918876217306065,
          0.47019021592305266,
          0.5574485132142399,
          0.5596570109304606,
          0.5223601897385205,
          0.45520491330996055
         ],
         "zmax": 1.01,
         "zmin": 0.29
        },
        {
         "colorbar": {
          "len": 1,
          "tickfont": {
           "size": 25
          },
          "ticktext": [
           "30%",
           "40%",
           "50%",
           "60%",
           "70%",
           "80%",
           "90%"
          ],
          "tickvals": [
           0.3,
           0.4,
           0.5,
           0.6000000000000001,
           0.7000000000000002,
           0.8000000000000003,
           0.9000000000000001
          ],
          "title": {
           "text": "Emission<br>reduction<br>in 2030<br>w.r.t. 2021"
          },
          "x": 1
         },
         "colorscale": [
          [
           0,
           "rgb(49,54,149)"
          ],
          [
           0.1,
           "rgb(69,117,180)"
          ],
          [
           0.2,
           "rgb(116,173,209)"
          ],
          [
           0.3,
           "rgb(171,217,233)"
          ],
          [
           0.4,
           "rgb(224,243,248)"
          ],
          [
           0.5,
           "rgb(255,255,191)"
          ],
          [
           0.6,
           "rgb(254,224,144)"
          ],
          [
           0.7,
           "rgb(253,174,97)"
          ],
          [
           0.8,
           "rgb(244,109,67)"
          ],
          [
           0.9,
           "rgb(215,48,39)"
          ],
          [
           1,
           "rgb(165,0,38)"
          ]
         ],
         "geo": "geo4",
         "hovertemplate": "%{text}",
         "locationmode": "ISO-3",
         "locations": [
          "AUT",
          "BEL",
          "BGR",
          "HRV",
          "CYP",
          "CZE",
          "DNK",
          "EST",
          "FIN",
          "FRA",
          "DEU",
          "GRC",
          "HUN",
          "IRL",
          "ITA",
          "LVA",
          "LTU",
          "LUX",
          "MLT",
          "NLD",
          "POL",
          "PRT",
          "ROU",
          "SVK",
          "SVN",
          "ESP",
          "SWE"
         ],
         "marker": {
          "line": {
           "color": "grey",
           "width": 0.7
          }
         },
         "name": "",
         "showscale": false,
         "text": [
          "AUT: 0.66 Gt CO<sub>2</sub>e",
          "BEL: 0.70 Gt CO<sub>2</sub>e",
          "BGR: 0.71 Gt CO<sub>2</sub>e",
          "HRV: 0.67 Gt CO<sub>2</sub>e",
          "CYP: 0.58 Gt CO<sub>2</sub>e",
          "CZE: 0.74 Gt CO<sub>2</sub>e",
          "DNK: 0.73 Gt CO<sub>2</sub>e",
          "EST: 0.74 Gt CO<sub>2</sub>e",
          "FIN: 0.68 Gt CO<sub>2</sub>e",
          "FRA: 0.63 Gt CO<sub>2</sub>e",
          "DEU: 0.73 Gt CO<sub>2</sub>e",
          "GRC: 0.72 Gt CO<sub>2</sub>e",
          "HUN: 0.68 Gt CO<sub>2</sub>e",
          "IRL: 0.70 Gt CO<sub>2</sub>e",
          "ITA: 0.68 Gt CO<sub>2</sub>e",
          "LVA: 0.50 Gt CO<sub>2</sub>e",
          "LTU: 0.71 Gt CO<sub>2</sub>e",
          "LUX: 0.73 Gt CO<sub>2</sub>e",
          "MLT: 0.57 Gt CO<sub>2</sub>e",
          "NLD: 0.73 Gt CO<sub>2</sub>e",
          "POL: 0.71 Gt CO<sub>2</sub>e",
          "PRT: 0.66 Gt CO<sub>2</sub>e",
          "ROU: 0.60 Gt CO<sub>2</sub>e",
          "SVK: 0.66 Gt CO<sub>2</sub>e",
          "SVN: 0.61 Gt CO<sub>2</sub>e",
          "ESP: 0.62 Gt CO<sub>2</sub>e",
          "SWE: 0.57 Gt CO<sub>2</sub>e"
         ],
         "type": "choropleth",
         "z": [
          0.6562653901870245,
          0.7007385581151357,
          0.713059535569611,
          0.6725831678477919,
          0.5777028895724616,
          0.742799415160975,
          0.7275589924300523,
          0.7412995425018644,
          0.6806463872185581,
          0.6265716130592356,
          0.728954347416484,
          0.7237491573002527,
          0.6787881708729757,
          0.6969802791176275,
          0.6753704391758871,
          0.49882931335499264,
          0.7108669533833486,
          0.7258812546760591,
          0.5675007413261373,
          0.7278360322464345,
          0.7058448959117405,
          0.6552463148495207,
          0.6010015417364001,
          0.6583370064539905,
          0.6133255336957892,
          0.6220548159725018,
          0.5730208002524575
         ],
         "zmax": 1.01,
         "zmin": 0.29
        },
        {
         "colorbar": {
          "len": 1,
          "tickfont": {
           "size": 25
          },
          "ticktext": [
           "30%",
           "40%",
           "50%",
           "60%",
           "70%",
           "80%",
           "90%"
          ],
          "tickvals": [
           0.3,
           0.4,
           0.5,
           0.6000000000000001,
           0.7000000000000002,
           0.8000000000000003,
           0.9000000000000001
          ],
          "title": {
           "text": "Emission<br>reduction<br>in 2030<br>w.r.t. 2021"
          },
          "x": 1
         },
         "colorscale": [
          [
           0,
           "rgb(49,54,149)"
          ],
          [
           0.1,
           "rgb(69,117,180)"
          ],
          [
           0.2,
           "rgb(116,173,209)"
          ],
          [
           0.3,
           "rgb(171,217,233)"
          ],
          [
           0.4,
           "rgb(224,243,248)"
          ],
          [
           0.5,
           "rgb(255,255,191)"
          ],
          [
           0.6,
           "rgb(254,224,144)"
          ],
          [
           0.7,
           "rgb(253,174,97)"
          ],
          [
           0.8,
           "rgb(244,109,67)"
          ],
          [
           0.9,
           "rgb(215,48,39)"
          ],
          [
           1,
           "rgb(165,0,38)"
          ]
         ],
         "geo": "geo5",
         "hovertemplate": "%{text}",
         "locationmode": "ISO-3",
         "locations": [
          "AUT",
          "BEL",
          "BGR",
          "HRV",
          "CYP",
          "CZE",
          "DNK",
          "EST",
          "FIN",
          "FRA",
          "DEU",
          "GRC",
          "HUN",
          "IRL",
          "ITA",
          "LVA",
          "LTU",
          "LUX",
          "MLT",
          "NLD",
          "POL",
          "PRT",
          "ROU",
          "SVK",
          "SVN",
          "ESP",
          "SWE"
         ],
         "marker": {
          "line": {
           "color": "grey",
           "width": 0.7
          }
         },
         "name": "",
         "showscale": false,
         "text": [
          "AUT: 0.81 Gt CO<sub>2</sub>e",
          "BEL: 0.80 Gt CO<sub>2</sub>e",
          "BGR: 0.67 Gt CO<sub>2</sub>e",
          "HRV: 0.72 Gt CO<sub>2</sub>e",
          "CYP: 0.75 Gt CO<sub>2</sub>e",
          "CZE: 0.72 Gt CO<sub>2</sub>e",
          "DNK: 0.83 Gt CO<sub>2</sub>e",
          "EST: 0.76 Gt CO<sub>2</sub>e",
          "FIN: 0.80 Gt CO<sub>2</sub>e",
          "FRA: 0.77 Gt CO<sub>2</sub>e",
          "DEU: 0.81 Gt CO<sub>2</sub>e",
          "GRC: 0.72 Gt CO<sub>2</sub>e",
          "HUN: 0.71 Gt CO<sub>2</sub>e",
          "IRL: 1.00 Gt CO<sub>2</sub>e",
          "ITA: 0.75 Gt CO<sub>2</sub>e",
          "LVA: 0.71 Gt CO<sub>2</sub>e",
          "LTU: 0.76 Gt CO<sub>2</sub>e",
          "LUX: 1.01 Gt CO<sub>2</sub>e",
          "MLT: 0.83 Gt CO<sub>2</sub>e",
          "NLD: 0.83 Gt CO<sub>2</sub>e",
          "POL: 0.72 Gt CO<sub>2</sub>e",
          "PRT: 0.73 Gt CO<sub>2</sub>e",
          "ROU: 0.69 Gt CO<sub>2</sub>e",
          "SVK: nan Gt CO<sub>2</sub>e",
          "SVN: 0.75 Gt CO<sub>2</sub>e",
          "ESP: 0.74 Gt CO<sub>2</sub>e",
          "SWE: 0.83 Gt CO<sub>2</sub>e"
         ],
         "type": "choropleth",
         "z": [
          0.8147180129812044,
          0.7977340525524886,
          0.6658509629013849,
          0.7207997725372441,
          0.7516051051510716,
          0.7153583816623336,
          0.8252759556856796,
          0.7649592167628785,
          0.8028782611205174,
          0.7749722032304717,
          0.8101268431209416,
          0.7193506494579068,
          0.7148632521417765,
          0.9985215807401184,
          0.7456620068250708,
          0.7116175993409497,
          0.7589427147120715,
          1.0085655450065516,
          0.8286226068763235,
          0.8251164347626442,
          0.7210855255577173,
          0.7263242268499104,
          0.6914951647312594,
          null,
          0.7468117937577734,
          0.7386891831588557,
          0.8260505937825195
         ],
         "zmax": 1.01,
         "zmin": 0.29
        },
        {
         "colorbar": {
          "len": 1,
          "tickfont": {
           "size": 25
          },
          "ticktext": [
           "30%",
           "40%",
           "50%",
           "60%",
           "70%",
           "80%",
           "90%"
          ],
          "tickvals": [
           0.3,
           0.4,
           0.5,
           0.6000000000000001,
           0.7000000000000002,
           0.8000000000000003,
           0.9000000000000001
          ],
          "title": {
           "text": "Emission<br>reduction<br>in 2030<br>w.r.t. 2021"
          },
          "x": 1
         },
         "colorscale": [
          [
           0,
           "rgb(49,54,149)"
          ],
          [
           0.1,
           "rgb(69,117,180)"
          ],
          [
           0.2,
           "rgb(116,173,209)"
          ],
          [
           0.3,
           "rgb(171,217,233)"
          ],
          [
           0.4,
           "rgb(224,243,248)"
          ],
          [
           0.5,
           "rgb(255,255,191)"
          ],
          [
           0.6,
           "rgb(254,224,144)"
          ],
          [
           0.7,
           "rgb(253,174,97)"
          ],
          [
           0.8,
           "rgb(244,109,67)"
          ],
          [
           0.9,
           "rgb(215,48,39)"
          ],
          [
           1,
           "rgb(165,0,38)"
          ]
         ],
         "geo": "geo6",
         "hovertemplate": "%{text}",
         "locationmode": "ISO-3",
         "locations": [
          "AUT",
          "BEL",
          "BGR",
          "HRV",
          "CYP",
          "CZE",
          "DNK",
          "EST",
          "FIN",
          "FRA",
          "DEU",
          "GRC",
          "HUN",
          "IRL",
          "ITA",
          "LVA",
          "LTU",
          "LUX",
          "MLT",
          "NLD",
          "POL",
          "PRT",
          "ROU",
          "SVK",
          "SVN",
          "ESP",
          "SWE"
         ],
         "marker": {
          "line": {
           "color": "grey",
           "width": 0.7
          }
         },
         "name": "",
         "showscale": false,
         "text": [
          "AUT: 2.21 Gt CO<sub>2</sub>e",
          "BEL: 1.64 Gt CO<sub>2</sub>e",
          "BGR: 1.53 Gt CO<sub>2</sub>e",
          "HRV: 1.30 Gt CO<sub>2</sub>e",
          "CYP: 1.53 Gt CO<sub>2</sub>e",
          "CZE: 1.29 Gt CO<sub>2</sub>e",
          "DNK: 2.88 Gt CO<sub>2</sub>e",
          "EST: 0.93 Gt CO<sub>2</sub>e",
          "FIN: 1.52 Gt CO<sub>2</sub>e",
          "FRA: 2.60 Gt CO<sub>2</sub>e",
          "DEU: 2.15 Gt CO<sub>2</sub>e",
          "GRC: 1.58 Gt CO<sub>2</sub>e",
          "HUN: 1.03 Gt CO<sub>2</sub>e",
          "IRL: 2.80 Gt CO<sub>2</sub>e",
          "ITA: 1.95 Gt CO<sub>2</sub>e",
          "LVA: 1.33 Gt CO<sub>2</sub>e",
          "LTU: 0.94 Gt CO<sub>2</sub>e",
          "LUX: 2.76 Gt CO<sub>2</sub>e",
          "MLT: 2.15 Gt CO<sub>2</sub>e",
          "NLD: 2.11 Gt CO<sub>2</sub>e",
          "POL: 0.91 Gt CO<sub>2</sub>e",
          "PRT: 1.74 Gt CO<sub>2</sub>e",
          "ROU: 1.07 Gt CO<sub>2</sub>e",
          "SVK: nan Gt CO<sub>2</sub>e",
          "SVN: 1.44 Gt CO<sub>2</sub>e",
          "ESP: 1.86 Gt CO<sub>2</sub>e",
          "SWE: 3.94 Gt CO<sub>2</sub>e"
         ],
         "type": "choropleth",
         "z": [
          2.205566833173447,
          1.644814591096314,
          1.5325254910736719,
          1.3004564966969954,
          1.5251543995284762,
          1.2858740317821968,
          2.875507663231843,
          0.933175089169016,
          1.5232007307938054,
          2.5998491305466653,
          2.1497811997121166,
          1.5826924695893938,
          1.033446826770869,
          2.7996399466256356,
          1.9465315375116603,
          1.3294337252093735,
          0.9424190490893913,
          2.756731190463155,
          2.147371264405557,
          2.113345833711846,
          0.9091892744903285,
          1.7374926186134514,
          1.0675672370446825,
          null,
          1.4352917082970051,
          1.858188847765488,
          3.9363482890024164
         ],
         "zmax": 1.01,
         "zmin": 0.29
        },
        {
         "featureidkey": "properties.NAME_3",
         "geo": "geo",
         "hoverinfo": "skip",
         "locations": [
          "AUT",
          "BEL",
          "BGR",
          "HRV",
          "CYP",
          "CZE",
          "DNK",
          "EST",
          "FIN",
          "FRA",
          "DEU",
          "GRC",
          "HUN",
          "IRL",
          "ITA",
          "LVA",
          "LTU",
          "LUX",
          "MLT",
          "NLD",
          "POL",
          "PRT",
          "ROU",
          "SVK",
          "SVN",
          "ESP",
          "SWE"
         ],
         "mode": "text",
         "showlegend": false,
         "text": [
          "53%",
          "53%",
          "53%",
          "53%",
          "53%",
          "53%",
          "53%",
          "53%",
          "53%",
          "53%",
          "53%",
          "53%",
          "53%",
          "53%",
          "53%",
          "53%",
          "53%",
          "53%",
          "53%",
          "53%",
          "53%",
          "53%",
          "53%",
          "53%",
          "53%",
          "53%",
          "53%"
         ],
         "textfont": {
          "color": "black",
          "size": 20
         },
         "type": "scattergeo"
        },
        {
         "featureidkey": "properties.NAME_3",
         "geo": "geo2",
         "hoverinfo": "skip",
         "locations": [
          "AUT",
          "BEL",
          "BGR",
          "HRV",
          "CYP",
          "CZE",
          "DNK",
          "EST",
          "FIN",
          "FRA",
          "DEU",
          "GRC",
          "HUN",
          "IRL",
          "ITA",
          "LVA",
          "LTU",
          "LUX",
          "MLT",
          "NLD",
          "POL",
          "PRT",
          "ROU",
          "SVK",
          "SVN",
          "ESP",
          "SWE"
         ],
         "mode": "text",
         "showlegend": false,
         "text": [
          "60%",
          "71%",
          "4%",
          "36%",
          "47%",
          "69%",
          "58%",
          "82%",
          "76%",
          "43%",
          "64%",
          "55%",
          "57%",
          "74%",
          "50%",
          "34%",
          "66%",
          "79%",
          "35%",
          "69%",
          "68%",
          "39%",
          "32%",
          "60%",
          "61%",
          "49%",
          "28%"
         ],
         "textfont": {
          "color": "black",
          "size": 20
         },
         "type": "scattergeo"
        },
        {
         "featureidkey": "properties.NAME_3",
         "geo": "geo3",
         "hoverinfo": "skip",
         "locations": [
          "AUT",
          "BEL",
          "BGR",
          "HRV",
          "CYP",
          "CZE",
          "DNK",
          "EST",
          "FIN",
          "FRA",
          "DEU",
          "GRC",
          "HUN",
          "IRL",
          "ITA",
          "LVA",
          "LTU",
          "LUX",
          "MLT",
          "NLD",
          "POL",
          "PRT",
          "ROU",
          "SVK",
          "SVN",
          "ESP",
          "SWE"
         ],
         "mode": "text",
         "showlegend": false,
         "text": [
          "55%",
          "58%",
          "38%",
          "48%",
          "51%",
          "58%",
          "55%",
          "62%",
          "60%",
          "50%",
          "56%",
          "54%",
          "54%",
          "59%",
          "52%",
          "47%",
          "57%",
          "61%",
          "47%",
          "58%",
          "58%",
          "49%",
          "47%",
          "55%",
          "55%",
          "52%",
          "45%"
         ],
         "textfont": {
          "color": "black",
          "size": 20
         },
         "type": "scattergeo"
        },
        {
         "featureidkey": "properties.NAME_3",
         "geo": "geo4",
         "hoverinfo": "skip",
         "locations": [
          "AUT",
          "BEL",
          "BGR",
          "HRV",
          "CYP",
          "CZE",
          "DNK",
          "EST",
          "FIN",
          "FRA",
          "DEU",
          "GRC",
          "HUN",
          "IRL",
          "ITA",
          "LVA",
          "LTU",
          "LUX",
          "MLT",
          "NLD",
          "POL",
          "PRT",
          "ROU",
          "SVK",
          "SVN",
          "ESP",
          "SWE"
         ],
         "mode": "text",
         "showlegend": false,
         "text": [
          "65%",
          "70%",
          "71%",
          "67%",
          "57%",
          "74%",
          "72%",
          "74%",
          "68%",
          "62%",
          "72%",
          "72%",
          "67%",
          "69%",
          "67%",
          "49%",
          "71%",
          "72%",
          "56%",
          "72%",
          "70%",
          "65%",
          "60%",
          "65%",
          "61%",
          "62%",
          "57%"
         ],
         "textfont": {
          "color": "black",
          "size": 20
         },
         "type": "scattergeo"
        },
        {
         "featureidkey": "properties.NAME_3",
         "geo": "geo5",
         "hoverinfo": "skip",
         "locations": [
          "AUT",
          "BEL",
          "BGR",
          "HRV",
          "CYP",
          "CZE",
          "DNK",
          "EST",
          "FIN",
          "FRA",
          "DEU",
          "GRC",
          "HUN",
          "IRL",
          "ITA",
          "LVA",
          "LTU",
          "LUX",
          "MLT",
          "NLD",
          "POL",
          "PRT",
          "ROU",
          "SVK",
          "SVN",
          "ESP",
          "SWE"
         ],
         "mode": "text",
         "showlegend": false,
         "text": [
          "81%",
          "79%",
          "66%",
          "72%",
          "75%",
          "71%",
          "82%",
          "76%",
          "80%",
          "77%",
          "81%",
          "71%",
          "71%",
          "99%",
          "74%",
          "71%",
          "75%",
          "100%",
          "82%",
          "82%",
          "72%",
          "72%",
          "69%",
          "77%",
          "74%",
          "73%",
          "82%"
         ],
         "textfont": {
          "color": "black",
          "size": 20
         },
         "type": "scattergeo"
        },
        {
         "featureidkey": "properties.NAME_3",
         "geo": "geo6",
         "hoverinfo": "skip",
         "locations": [
          "AUT",
          "BEL",
          "BGR",
          "HRV",
          "CYP",
          "CZE",
          "DNK",
          "EST",
          "FIN",
          "FRA",
          "DEU",
          "GRC",
          "HUN",
          "IRL",
          "ITA",
          "LVA",
          "LTU",
          "LUX",
          "MLT",
          "NLD",
          "POL",
          "PRT",
          "ROU",
          "SVK",
          "SVN",
          "ESP",
          "SWE"
         ],
         "mode": "text",
         "showlegend": false,
         "text": [
          "220%",
          "164%",
          "153%",
          "130%",
          "152%",
          "128%",
          "287%",
          "93%",
          "152%",
          "259%",
          "214%",
          "158%",
          "103%",
          "279%",
          "194%",
          "132%",
          "94%",
          "275%",
          "214%",
          "211%",
          "90%",
          "173%",
          "106%",
          "181%",
          "143%",
          "185%",
          "393%"
         ],
         "textfont": {
          "color": "black",
          "size": 20
         },
         "type": "scattergeo"
        }
       ],
       "layout": {
        "annotations": [
         {
          "align": "left",
          "ax": 0,
          "ay": 0,
          "font": {
           "color": "black",
           "size": 25
          },
          "showarrow": false,
          "text": "<b>(a) Grandfathering</b>",
          "x": 0.07,
          "xref": "paper",
          "y": 0.96,
          "yref": "paper"
         },
         {
          "align": "left",
          "ax": 0,
          "ay": 0,
          "font": {
           "color": "black",
           "size": 25
          },
          "showarrow": false,
          "text": "<b>(b) Per Capita</b>",
          "x": 0.47,
          "xref": "paper",
          "y": 0.96,
          "yref": "paper"
         },
         {
          "align": "left",
          "ax": 0,
          "ay": 0,
          "font": {
           "color": "black",
           "size": 25
          },
          "showarrow": false,
          "text": "<b>(c) Per Capita Convergence</b>",
          "x": 0.9,
          "xref": "paper",
          "y": 0.96,
          "yref": "paper"
         },
         {
          "align": "left",
          "ax": 0,
          "ay": 0,
          "font": {
           "color": "black",
           "size": 25
          },
          "showarrow": false,
          "text": "<b>(d) Equal Cumulative per Capita</b>",
          "x": 0.07,
          "xref": "paper",
          "y": 0.45,
          "yref": "paper"
         },
         {
          "align": "left",
          "ax": 0,
          "ay": 0,
          "font": {
           "color": "black",
           "size": 25
          },
          "showarrow": false,
          "text": "<b>(e) Ability to Pay</b>",
          "x": 0.48,
          "xref": "paper",
          "y": 0.45,
          "yref": "paper"
         },
         {
          "align": "left",
          "ax": 0,
          "ay": 0,
          "font": {
           "color": "black",
           "size": 25
          },
          "showarrow": false,
          "text": "<b>(f) Greenhouse Development Rights</b>",
          "x": 0.95,
          "xref": "paper",
          "y": 0.45,
          "yref": "paper"
         }
        ],
        "geo": {
         "domain": {
          "x": [
           0,
           0.3333333333333333
          ],
          "y": [
           0.5,
           1
          ]
         },
         "lakecolor": "rgb(255, 255, 255)",
         "lataxis": {
          "range": [
           30,
           75
          ]
         },
         "lonaxis": {
          "range": [
           -20,
           40
          ]
         },
         "projection": {
          "type": "natural earth"
         },
         "resolution": 50,
         "scope": "europe",
         "showcoastlines": false,
         "showcountries": false,
         "showlakes": true,
         "visible": true
        },
        "geo2": {
         "domain": {
          "x": [
           0.3333333333333333,
           0.6666666666666666
          ],
          "y": [
           0.5,
           1
          ]
         },
         "lakecolor": "rgb(255, 255, 255)",
         "lataxis": {
          "range": [
           30,
           75
          ]
         },
         "lonaxis": {
          "range": [
           -20,
           40
          ]
         },
         "projection": {
          "type": "natural earth"
         },
         "resolution": 50,
         "scope": "europe",
         "showcoastlines": false,
         "showcountries": false,
         "showlakes": true,
         "visible": true
        },
        "geo3": {
         "domain": {
          "x": [
           0.6666666666666666,
           1
          ],
          "y": [
           0.5,
           1
          ]
         },
         "lakecolor": "rgb(255, 255, 255)",
         "lataxis": {
          "range": [
           30,
           75
          ]
         },
         "lonaxis": {
          "range": [
           -20,
           40
          ]
         },
         "projection": {
          "type": "natural earth"
         },
         "resolution": 50,
         "scope": "europe",
         "showcoastlines": false,
         "showcountries": false,
         "showlakes": true,
         "visible": true
        },
        "geo4": {
         "domain": {
          "x": [
           0,
           0.3333333333333333
          ],
          "y": [
           0,
           0.5
          ]
         },
         "lakecolor": "rgb(255, 255, 255)",
         "lataxis": {
          "range": [
           30,
           75
          ]
         },
         "lonaxis": {
          "range": [
           -20,
           40
          ]
         },
         "projection": {
          "type": "natural earth"
         },
         "resolution": 50,
         "scope": "europe",
         "showcoastlines": false,
         "showcountries": false,
         "showlakes": true,
         "visible": true
        },
        "geo5": {
         "domain": {
          "x": [
           0.3333333333333333,
           0.6666666666666666
          ],
          "y": [
           0,
           0.5
          ]
         },
         "lakecolor": "rgb(255, 255, 255)",
         "lataxis": {
          "range": [
           30,
           75
          ]
         },
         "lonaxis": {
          "range": [
           -20,
           40
          ]
         },
         "projection": {
          "type": "natural earth"
         },
         "resolution": 50,
         "scope": "europe",
         "showcoastlines": false,
         "showcountries": false,
         "showlakes": true,
         "visible": true
        },
        "geo6": {
         "domain": {
          "x": [
           0.6666666666666666,
           1
          ],
          "y": [
           0,
           0.5
          ]
         },
         "lakecolor": "rgb(255, 255, 255)",
         "lataxis": {
          "range": [
           30,
           75
          ]
         },
         "lonaxis": {
          "range": [
           -20,
           40
          ]
         },
         "projection": {
          "type": "natural earth"
         },
         "resolution": 50,
         "scope": "europe",
         "showcoastlines": false,
         "showcountries": false,
         "showlakes": true,
         "visible": true
        },
        "height": 1200,
        "margin": {
         "b": 0,
         "l": 0,
         "r": 0,
         "t": 0
        },
        "template": {
         "data": {
          "bar": [
           {
            "error_x": {
             "color": "#2a3f5f"
            },
            "error_y": {
             "color": "#2a3f5f"
            },
            "marker": {
             "line": {
              "color": "#E5ECF6",
              "width": 0.5
             },
             "pattern": {
              "fillmode": "overlay",
              "size": 10,
              "solidity": 0.2
             }
            },
            "type": "bar"
           }
          ],
          "barpolar": [
           {
            "marker": {
             "line": {
              "color": "#E5ECF6",
              "width": 0.5
             },
             "pattern": {
              "fillmode": "overlay",
              "size": 10,
              "solidity": 0.2
             }
            },
            "type": "barpolar"
           }
          ],
          "carpet": [
           {
            "aaxis": {
             "endlinecolor": "#2a3f5f",
             "gridcolor": "white",
             "linecolor": "white",
             "minorgridcolor": "white",
             "startlinecolor": "#2a3f5f"
            },
            "baxis": {
             "endlinecolor": "#2a3f5f",
             "gridcolor": "white",
             "linecolor": "white",
             "minorgridcolor": "white",
             "startlinecolor": "#2a3f5f"
            },
            "type": "carpet"
           }
          ],
          "choropleth": [
           {
            "colorbar": {
             "outlinewidth": 0,
             "ticks": ""
            },
            "type": "choropleth"
           }
          ],
          "contour": [
           {
            "colorbar": {
             "outlinewidth": 0,
             "ticks": ""
            },
            "colorscale": [
             [
              0,
              "#0d0887"
             ],
             [
              0.1111111111111111,
              "#46039f"
             ],
             [
              0.2222222222222222,
              "#7201a8"
             ],
             [
              0.3333333333333333,
              "#9c179e"
             ],
             [
              0.4444444444444444,
              "#bd3786"
             ],
             [
              0.5555555555555556,
              "#d8576b"
             ],
             [
              0.6666666666666666,
              "#ed7953"
             ],
             [
              0.7777777777777778,
              "#fb9f3a"
             ],
             [
              0.8888888888888888,
              "#fdca26"
             ],
             [
              1,
              "#f0f921"
             ]
            ],
            "type": "contour"
           }
          ],
          "contourcarpet": [
           {
            "colorbar": {
             "outlinewidth": 0,
             "ticks": ""
            },
            "type": "contourcarpet"
           }
          ],
          "heatmap": [
           {
            "colorbar": {
             "outlinewidth": 0,
             "ticks": ""
            },
            "colorscale": [
             [
              0,
              "#0d0887"
             ],
             [
              0.1111111111111111,
              "#46039f"
             ],
             [
              0.2222222222222222,
              "#7201a8"
             ],
             [
              0.3333333333333333,
              "#9c179e"
             ],
             [
              0.4444444444444444,
              "#bd3786"
             ],
             [
              0.5555555555555556,
              "#d8576b"
             ],
             [
              0.6666666666666666,
              "#ed7953"
             ],
             [
              0.7777777777777778,
              "#fb9f3a"
             ],
             [
              0.8888888888888888,
              "#fdca26"
             ],
             [
              1,
              "#f0f921"
             ]
            ],
            "type": "heatmap"
           }
          ],
          "heatmapgl": [
           {
            "colorbar": {
             "outlinewidth": 0,
             "ticks": ""
            },
            "colorscale": [
             [
              0,
              "#0d0887"
             ],
             [
              0.1111111111111111,
              "#46039f"
             ],
             [
              0.2222222222222222,
              "#7201a8"
             ],
             [
              0.3333333333333333,
              "#9c179e"
             ],
             [
              0.4444444444444444,
              "#bd3786"
             ],
             [
              0.5555555555555556,
              "#d8576b"
             ],
             [
              0.6666666666666666,
              "#ed7953"
             ],
             [
              0.7777777777777778,
              "#fb9f3a"
             ],
             [
              0.8888888888888888,
              "#fdca26"
             ],
             [
              1,
              "#f0f921"
             ]
            ],
            "type": "heatmapgl"
           }
          ],
          "histogram": [
           {
            "marker": {
             "pattern": {
              "fillmode": "overlay",
              "size": 10,
              "solidity": 0.2
             }
            },
            "type": "histogram"
           }
          ],
          "histogram2d": [
           {
            "colorbar": {
             "outlinewidth": 0,
             "ticks": ""
            },
            "colorscale": [
             [
              0,
              "#0d0887"
             ],
             [
              0.1111111111111111,
              "#46039f"
             ],
             [
              0.2222222222222222,
              "#7201a8"
             ],
             [
              0.3333333333333333,
              "#9c179e"
             ],
             [
              0.4444444444444444,
              "#bd3786"
             ],
             [
              0.5555555555555556,
              "#d8576b"
             ],
             [
              0.6666666666666666,
              "#ed7953"
             ],
             [
              0.7777777777777778,
              "#fb9f3a"
             ],
             [
              0.8888888888888888,
              "#fdca26"
             ],
             [
              1,
              "#f0f921"
             ]
            ],
            "type": "histogram2d"
           }
          ],
          "histogram2dcontour": [
           {
            "colorbar": {
             "outlinewidth": 0,
             "ticks": ""
            },
            "colorscale": [
             [
              0,
              "#0d0887"
             ],
             [
              0.1111111111111111,
              "#46039f"
             ],
             [
              0.2222222222222222,
              "#7201a8"
             ],
             [
              0.3333333333333333,
              "#9c179e"
             ],
             [
              0.4444444444444444,
              "#bd3786"
             ],
             [
              0.5555555555555556,
              "#d8576b"
             ],
             [
              0.6666666666666666,
              "#ed7953"
             ],
             [
              0.7777777777777778,
              "#fb9f3a"
             ],
             [
              0.8888888888888888,
              "#fdca26"
             ],
             [
              1,
              "#f0f921"
             ]
            ],
            "type": "histogram2dcontour"
           }
          ],
          "mesh3d": [
           {
            "colorbar": {
             "outlinewidth": 0,
             "ticks": ""
            },
            "type": "mesh3d"
           }
          ],
          "parcoords": [
           {
            "line": {
             "colorbar": {
              "outlinewidth": 0,
              "ticks": ""
             }
            },
            "type": "parcoords"
           }
          ],
          "pie": [
           {
            "automargin": true,
            "type": "pie"
           }
          ],
          "scatter": [
           {
            "fillpattern": {
             "fillmode": "overlay",
             "size": 10,
             "solidity": 0.2
            },
            "type": "scatter"
           }
          ],
          "scatter3d": [
           {
            "line": {
             "colorbar": {
              "outlinewidth": 0,
              "ticks": ""
             }
            },
            "marker": {
             "colorbar": {
              "outlinewidth": 0,
              "ticks": ""
             }
            },
            "type": "scatter3d"
           }
          ],
          "scattercarpet": [
           {
            "marker": {
             "colorbar": {
              "outlinewidth": 0,
              "ticks": ""
             }
            },
            "type": "scattercarpet"
           }
          ],
          "scattergeo": [
           {
            "marker": {
             "colorbar": {
              "outlinewidth": 0,
              "ticks": ""
             }
            },
            "type": "scattergeo"
           }
          ],
          "scattergl": [
           {
            "marker": {
             "colorbar": {
              "outlinewidth": 0,
              "ticks": ""
             }
            },
            "type": "scattergl"
           }
          ],
          "scattermapbox": [
           {
            "marker": {
             "colorbar": {
              "outlinewidth": 0,
              "ticks": ""
             }
            },
            "type": "scattermapbox"
           }
          ],
          "scatterpolar": [
           {
            "marker": {
             "colorbar": {
              "outlinewidth": 0,
              "ticks": ""
             }
            },
            "type": "scatterpolar"
           }
          ],
          "scatterpolargl": [
           {
            "marker": {
             "colorbar": {
              "outlinewidth": 0,
              "ticks": ""
             }
            },
            "type": "scatterpolargl"
           }
          ],
          "scatterternary": [
           {
            "marker": {
             "colorbar": {
              "outlinewidth": 0,
              "ticks": ""
             }
            },
            "type": "scatterternary"
           }
          ],
          "surface": [
           {
            "colorbar": {
             "outlinewidth": 0,
             "ticks": ""
            },
            "colorscale": [
             [
              0,
              "#0d0887"
             ],
             [
              0.1111111111111111,
              "#46039f"
             ],
             [
              0.2222222222222222,
              "#7201a8"
             ],
             [
              0.3333333333333333,
              "#9c179e"
             ],
             [
              0.4444444444444444,
              "#bd3786"
             ],
             [
              0.5555555555555556,
              "#d8576b"
             ],
             [
              0.6666666666666666,
              "#ed7953"
             ],
             [
              0.7777777777777778,
              "#fb9f3a"
             ],
             [
              0.8888888888888888,
              "#fdca26"
             ],
             [
              1,
              "#f0f921"
             ]
            ],
            "type": "surface"
           }
          ],
          "table": [
           {
            "cells": {
             "fill": {
              "color": "#EBF0F8"
             },
             "line": {
              "color": "white"
             }
            },
            "header": {
             "fill": {
              "color": "#C8D4E3"
             },
             "line": {
              "color": "white"
             }
            },
            "type": "table"
           }
          ]
         },
         "layout": {
          "annotationdefaults": {
           "arrowcolor": "#2a3f5f",
           "arrowhead": 0,
           "arrowwidth": 1
          },
          "autotypenumbers": "strict",
          "coloraxis": {
           "colorbar": {
            "outlinewidth": 0,
            "ticks": ""
           }
          },
          "colorscale": {
           "diverging": [
            [
             0,
             "#8e0152"
            ],
            [
             0.1,
             "#c51b7d"
            ],
            [
             0.2,
             "#de77ae"
            ],
            [
             0.3,
             "#f1b6da"
            ],
            [
             0.4,
             "#fde0ef"
            ],
            [
             0.5,
             "#f7f7f7"
            ],
            [
             0.6,
             "#e6f5d0"
            ],
            [
             0.7,
             "#b8e186"
            ],
            [
             0.8,
             "#7fbc41"
            ],
            [
             0.9,
             "#4d9221"
            ],
            [
             1,
             "#276419"
            ]
           ],
           "sequential": [
            [
             0,
             "#0d0887"
            ],
            [
             0.1111111111111111,
             "#46039f"
            ],
            [
             0.2222222222222222,
             "#7201a8"
            ],
            [
             0.3333333333333333,
             "#9c179e"
            ],
            [
             0.4444444444444444,
             "#bd3786"
            ],
            [
             0.5555555555555556,
             "#d8576b"
            ],
            [
             0.6666666666666666,
             "#ed7953"
            ],
            [
             0.7777777777777778,
             "#fb9f3a"
            ],
            [
             0.8888888888888888,
             "#fdca26"
            ],
            [
             1,
             "#f0f921"
            ]
           ],
           "sequentialminus": [
            [
             0,
             "#0d0887"
            ],
            [
             0.1111111111111111,
             "#46039f"
            ],
            [
             0.2222222222222222,
             "#7201a8"
            ],
            [
             0.3333333333333333,
             "#9c179e"
            ],
            [
             0.4444444444444444,
             "#bd3786"
            ],
            [
             0.5555555555555556,
             "#d8576b"
            ],
            [
             0.6666666666666666,
             "#ed7953"
            ],
            [
             0.7777777777777778,
             "#fb9f3a"
            ],
            [
             0.8888888888888888,
             "#fdca26"
            ],
            [
             1,
             "#f0f921"
            ]
           ]
          },
          "colorway": [
           "#636efa",
           "#EF553B",
           "#00cc96",
           "#ab63fa",
           "#FFA15A",
           "#19d3f3",
           "#FF6692",
           "#B6E880",
           "#FF97FF",
           "#FECB52"
          ],
          "font": {
           "color": "#2a3f5f"
          },
          "geo": {
           "bgcolor": "white",
           "lakecolor": "white",
           "landcolor": "#E5ECF6",
           "showlakes": true,
           "showland": true,
           "subunitcolor": "white"
          },
          "hoverlabel": {
           "align": "left"
          },
          "hovermode": "closest",
          "mapbox": {
           "style": "light"
          },
          "paper_bgcolor": "white",
          "plot_bgcolor": "#E5ECF6",
          "polar": {
           "angularaxis": {
            "gridcolor": "white",
            "linecolor": "white",
            "ticks": ""
           },
           "bgcolor": "#E5ECF6",
           "radialaxis": {
            "gridcolor": "white",
            "linecolor": "white",
            "ticks": ""
           }
          },
          "scene": {
           "xaxis": {
            "backgroundcolor": "#E5ECF6",
            "gridcolor": "white",
            "gridwidth": 2,
            "linecolor": "white",
            "showbackground": true,
            "ticks": "",
            "zerolinecolor": "white"
           },
           "yaxis": {
            "backgroundcolor": "#E5ECF6",
            "gridcolor": "white",
            "gridwidth": 2,
            "linecolor": "white",
            "showbackground": true,
            "ticks": "",
            "zerolinecolor": "white"
           },
           "zaxis": {
            "backgroundcolor": "#E5ECF6",
            "gridcolor": "white",
            "gridwidth": 2,
            "linecolor": "white",
            "showbackground": true,
            "ticks": "",
            "zerolinecolor": "white"
           }
          },
          "shapedefaults": {
           "line": {
            "color": "#2a3f5f"
           }
          },
          "ternary": {
           "aaxis": {
            "gridcolor": "white",
            "linecolor": "white",
            "ticks": ""
           },
           "baxis": {
            "gridcolor": "white",
            "linecolor": "white",
            "ticks": ""
           },
           "bgcolor": "#E5ECF6",
           "caxis": {
            "gridcolor": "white",
            "linecolor": "white",
            "ticks": ""
           }
          },
          "title": {
           "x": 0.05
          },
          "xaxis": {
           "automargin": true,
           "gridcolor": "white",
           "linecolor": "white",
           "ticks": "",
           "title": {
            "standoff": 15
           },
           "zerolinecolor": "white",
           "zerolinewidth": 2
          },
          "yaxis": {
           "automargin": true,
           "gridcolor": "white",
           "linecolor": "white",
           "ticks": "",
           "title": {
            "standoff": 15
           },
           "zerolinecolor": "white",
           "zerolinewidth": 2
          }
         }
        },
        "width": 2300
       }
      }
     },
     "metadata": {},
     "output_type": "display_data"
    },
    {
     "name": "stderr",
     "output_type": "stream",
     "text": [
      "C:\\Users\\dekkerm\\AppData\\Local\\Temp\\2\\ipykernel_10276\\1970047442.py:81: RuntimeWarning:\n",
      "\n",
      "invalid value encountered in cast\n",
      "\n"
     ]
    },
    {
     "data": {
      "application/vnd.plotly.v1+json": {
       "config": {
        "plotlyServerURL": "https://plotly.com"
       },
       "data": [
        {
         "colorbar": {
          "len": 1,
          "tickfont": {
           "size": 25
          },
          "ticktext": [
           "30%",
           "40%",
           "50%",
           "60%",
           "70%",
           "80%",
           "90%"
          ],
          "tickvals": [
           0.3,
           0.4,
           0.5,
           0.6000000000000001,
           0.7000000000000002,
           0.8000000000000003,
           0.9000000000000001
          ],
          "title": {
           "text": "Emission<br>reduction<br>in 2040<br>w.r.t. 2021"
          },
          "x": 1
         },
         "colorscale": [
          [
           0,
           "rgb(49,54,149)"
          ],
          [
           0.1,
           "rgb(69,117,180)"
          ],
          [
           0.2,
           "rgb(116,173,209)"
          ],
          [
           0.3,
           "rgb(171,217,233)"
          ],
          [
           0.4,
           "rgb(224,243,248)"
          ],
          [
           0.5,
           "rgb(255,255,191)"
          ],
          [
           0.6,
           "rgb(254,224,144)"
          ],
          [
           0.7,
           "rgb(253,174,97)"
          ],
          [
           0.8,
           "rgb(244,109,67)"
          ],
          [
           0.9,
           "rgb(215,48,39)"
          ],
          [
           1,
           "rgb(165,0,38)"
          ]
         ],
         "geo": "geo",
         "hovertemplate": "%{text}",
         "locationmode": "ISO-3",
         "locations": [
          "AUT",
          "BEL",
          "BGR",
          "HRV",
          "CYP",
          "CZE",
          "DNK",
          "EST",
          "FIN",
          "FRA",
          "DEU",
          "GRC",
          "HUN",
          "IRL",
          "ITA",
          "LVA",
          "LTU",
          "LUX",
          "MLT",
          "NLD",
          "POL",
          "PRT",
          "ROU",
          "SVK",
          "SVN",
          "ESP",
          "SWE"
         ],
         "marker": {
          "line": {
           "color": "grey",
           "width": 0.7
          }
         },
         "name": "",
         "showscale": true,
         "text": [
          "AUT: 0.79 Gt CO<sub>2</sub>e",
          "BEL: 0.79 Gt CO<sub>2</sub>e",
          "BGR: 0.79 Gt CO<sub>2</sub>e",
          "HRV: 0.79 Gt CO<sub>2</sub>e",
          "CYP: 0.79 Gt CO<sub>2</sub>e",
          "CZE: 0.79 Gt CO<sub>2</sub>e",
          "DNK: 0.79 Gt CO<sub>2</sub>e",
          "EST: 0.79 Gt CO<sub>2</sub>e",
          "FIN: 0.79 Gt CO<sub>2</sub>e",
          "FRA: 0.79 Gt CO<sub>2</sub>e",
          "DEU: 0.79 Gt CO<sub>2</sub>e",
          "GRC: 0.79 Gt CO<sub>2</sub>e",
          "HUN: 0.79 Gt CO<sub>2</sub>e",
          "IRL: 0.79 Gt CO<sub>2</sub>e",
          "ITA: 0.79 Gt CO<sub>2</sub>e",
          "LVA: 0.79 Gt CO<sub>2</sub>e",
          "LTU: 0.79 Gt CO<sub>2</sub>e",
          "LUX: 0.79 Gt CO<sub>2</sub>e",
          "MLT: 0.79 Gt CO<sub>2</sub>e",
          "NLD: 0.79 Gt CO<sub>2</sub>e",
          "POL: 0.79 Gt CO<sub>2</sub>e",
          "PRT: 0.79 Gt CO<sub>2</sub>e",
          "ROU: 0.79 Gt CO<sub>2</sub>e",
          "SVK: 0.79 Gt CO<sub>2</sub>e",
          "SVN: 0.79 Gt CO<sub>2</sub>e",
          "ESP: 0.79 Gt CO<sub>2</sub>e",
          "SWE: 0.79 Gt CO<sub>2</sub>e"
         ],
         "type": "choropleth",
         "z": [
          0.7886425327015875,
          0.7886425222670753,
          0.7886425368109761,
          0.7886425250152423,
          0.788642519748377,
          0.7886425265429651,
          0.7886425297075427,
          0.788642532961574,
          0.7886425290048401,
          0.7886425346952929,
          0.7886425290264416,
          0.7886425310760502,
          0.7886425240329994,
          0.78864253394153,
          0.7886425323808758,
          0.7886425259184529,
          0.7886425196634861,
          0.7886425230665713,
          0.7886425371564233,
          0.7886425284452216,
          0.788642537179243,
          0.7886425199708903,
          0.7886425312865107,
          0.7886425190564441,
          0.7886425271771488,
          0.7886425324374244,
          0.7886425181809581
         ],
         "zmax": 1.01,
         "zmin": 0.29
        },
        {
         "colorbar": {
          "len": 1,
          "tickfont": {
           "size": 25
          },
          "ticktext": [
           "30%",
           "40%",
           "50%",
           "60%",
           "70%",
           "80%",
           "90%"
          ],
          "tickvals": [
           0.3,
           0.4,
           0.5,
           0.6000000000000001,
           0.7000000000000002,
           0.8000000000000003,
           0.9000000000000001
          ],
          "title": {
           "text": "Emission<br>reduction<br>in 2040<br>w.r.t. 2021"
          },
          "x": 1
         },
         "colorscale": [
          [
           0,
           "rgb(49,54,149)"
          ],
          [
           0.1,
           "rgb(69,117,180)"
          ],
          [
           0.2,
           "rgb(116,173,209)"
          ],
          [
           0.3,
           "rgb(171,217,233)"
          ],
          [
           0.4,
           "rgb(224,243,248)"
          ],
          [
           0.5,
           "rgb(255,255,191)"
          ],
          [
           0.6,
           "rgb(254,224,144)"
          ],
          [
           0.7,
           "rgb(253,174,97)"
          ],
          [
           0.8,
           "rgb(244,109,67)"
          ],
          [
           0.9,
           "rgb(215,48,39)"
          ],
          [
           1,
           "rgb(165,0,38)"
          ]
         ],
         "geo": "geo2",
         "hovertemplate": "%{text}",
         "locationmode": "ISO-3",
         "locations": [
          "AUT",
          "BEL",
          "BGR",
          "HRV",
          "CYP",
          "CZE",
          "DNK",
          "EST",
          "FIN",
          "FRA",
          "DEU",
          "GRC",
          "HUN",
          "IRL",
          "ITA",
          "LVA",
          "LTU",
          "LUX",
          "MLT",
          "NLD",
          "POL",
          "PRT",
          "ROU",
          "SVK",
          "SVN",
          "ESP",
          "SWE"
         ],
         "marker": {
          "line": {
           "color": "grey",
           "width": 0.7
          }
         },
         "name": "",
         "showscale": false,
         "text": [
          "AUT: 0.82 Gt CO<sub>2</sub>e",
          "BEL: 0.87 Gt CO<sub>2</sub>e",
          "BGR: 0.57 Gt CO<sub>2</sub>e",
          "HRV: 0.71 Gt CO<sub>2</sub>e",
          "CYP: 0.76 Gt CO<sub>2</sub>e",
          "CZE: 0.86 Gt CO<sub>2</sub>e",
          "DNK: 0.81 Gt CO<sub>2</sub>e",
          "EST: 0.92 Gt CO<sub>2</sub>e",
          "FIN: 0.89 Gt CO<sub>2</sub>e",
          "FRA: 0.74 Gt CO<sub>2</sub>e",
          "DEU: 0.84 Gt CO<sub>2</sub>e",
          "GRC: 0.80 Gt CO<sub>2</sub>e",
          "HUN: 0.81 Gt CO<sub>2</sub>e",
          "IRL: 0.88 Gt CO<sub>2</sub>e",
          "ITA: 0.77 Gt CO<sub>2</sub>e",
          "LVA: 0.70 Gt CO<sub>2</sub>e",
          "LTU: 0.85 Gt CO<sub>2</sub>e",
          "LUX: 0.90 Gt CO<sub>2</sub>e",
          "MLT: 0.71 Gt CO<sub>2</sub>e",
          "NLD: 0.86 Gt CO<sub>2</sub>e",
          "POL: 0.86 Gt CO<sub>2</sub>e",
          "PRT: 0.73 Gt CO<sub>2</sub>e",
          "ROU: 0.70 Gt CO<sub>2</sub>e",
          "SVK: 0.82 Gt CO<sub>2</sub>e",
          "SVN: 0.83 Gt CO<sub>2</sub>e",
          "ESP: 0.77 Gt CO<sub>2</sub>e",
          "SWE: 0.67 Gt CO<sub>2</sub>e"
         ],
         "type": "choropleth",
         "z": [
          0.8205185378076151,
          0.8702952646120246,
          0.568876908766171,
          0.7119159261029716,
          0.7639911933757013,
          0.8604186981940916,
          0.8133106332687247,
          0.9206183803569182,
          0.892439734508618,
          0.7446045951135947,
          0.8385062558649541,
          0.8004310728883227,
          0.806262586727543,
          0.8842816620311531,
          0.7744126568857067,
          0.7047239413547726,
          0.8493944877183179,
          0.9049155596757201,
          0.7065757632089738,
          0.8595537806666175,
          0.8574547158566551,
          0.7272400462964055,
          0.6955362574808455,
          0.8230362334007312,
          0.8262632381592507,
          0.7717659145627297,
          0.6736400332923717
         ],
         "zmax": 1.01,
         "zmin": 0.29
        },
        {
         "colorbar": {
          "len": 1,
          "tickfont": {
           "size": 25
          },
          "ticktext": [
           "30%",
           "40%",
           "50%",
           "60%",
           "70%",
           "80%",
           "90%"
          ],
          "tickvals": [
           0.3,
           0.4,
           0.5,
           0.6000000000000001,
           0.7000000000000002,
           0.8000000000000003,
           0.9000000000000001
          ],
          "title": {
           "text": "Emission<br>reduction<br>in 2040<br>w.r.t. 2021"
          },
          "x": 1
         },
         "colorscale": [
          [
           0,
           "rgb(49,54,149)"
          ],
          [
           0.1,
           "rgb(69,117,180)"
          ],
          [
           0.2,
           "rgb(116,173,209)"
          ],
          [
           0.3,
           "rgb(171,217,233)"
          ],
          [
           0.4,
           "rgb(224,243,248)"
          ],
          [
           0.5,
           "rgb(255,255,191)"
          ],
          [
           0.6,
           "rgb(254,224,144)"
          ],
          [
           0.7,
           "rgb(253,174,97)"
          ],
          [
           0.8,
           "rgb(244,109,67)"
          ],
          [
           0.9,
           "rgb(215,48,39)"
          ],
          [
           1,
           "rgb(165,0,38)"
          ]
         ],
         "geo": "geo3",
         "hovertemplate": "%{text}",
         "locationmode": "ISO-3",
         "locations": [
          "AUT",
          "BEL",
          "BGR",
          "HRV",
          "CYP",
          "CZE",
          "DNK",
          "EST",
          "FIN",
          "FRA",
          "DEU",
          "GRC",
          "HUN",
          "IRL",
          "ITA",
          "LVA",
          "LTU",
          "LUX",
          "MLT",
          "NLD",
          "POL",
          "PRT",
          "ROU",
          "SVK",
          "SVN",
          "ESP",
          "SWE"
         ],
         "marker": {
          "line": {
           "color": "grey",
           "width": 0.7
          }
         },
         "name": "",
         "showscale": false,
         "text": [
          "AUT: 0.81 Gt CO<sub>2</sub>e",
          "BEL: 0.84 Gt CO<sub>2</sub>e",
          "BGR: 0.64 Gt CO<sub>2</sub>e",
          "HRV: 0.74 Gt CO<sub>2</sub>e",
          "CYP: 0.77 Gt CO<sub>2</sub>e",
          "CZE: 0.84 Gt CO<sub>2</sub>e",
          "DNK: 0.80 Gt CO<sub>2</sub>e",
          "EST: 0.88 Gt CO<sub>2</sub>e",
          "FIN: 0.86 Gt CO<sub>2</sub>e",
          "FRA: 0.76 Gt CO<sub>2</sub>e",
          "DEU: 0.82 Gt CO<sub>2</sub>e",
          "GRC: 0.80 Gt CO<sub>2</sub>e",
          "HUN: 0.80 Gt CO<sub>2</sub>e",
          "IRL: 0.85 Gt CO<sub>2</sub>e",
          "ITA: 0.78 Gt CO<sub>2</sub>e",
          "LVA: 0.73 Gt CO<sub>2</sub>e",
          "LTU: 0.83 Gt CO<sub>2</sub>e",
          "LUX: 0.86 Gt CO<sub>2</sub>e",
          "MLT: 0.73 Gt CO<sub>2</sub>e",
          "NLD: 0.84 Gt CO<sub>2</sub>e",
          "POL: 0.83 Gt CO<sub>2</sub>e",
          "PRT: 0.75 Gt CO<sub>2</sub>e",
          "ROU: 0.73 Gt CO<sub>2</sub>e",
          "SVK: 0.81 Gt CO<sub>2</sub>e",
          "SVN: 0.81 Gt CO<sub>2</sub>e",
          "ESP: 0.78 Gt CO<sub>2</sub>e",
          "SWE: 0.71 Gt CO<sub>2</sub>e"
         ],
         "type": "choropleth",
         "z": [
          0.8095268100007066,
          0.8421391497548205,
          0.6446582113512476,
          0.7383733698201371,
          0.7724916513084262,
          0.8356683023037597,
          0.8048043822986676,
          0.8751094547349069,
          0.8566476034563633,
          0.7597900870151553,
          0.8213118698759675,
          0.7963660508054614,
          0.8001867276075781,
          0.8513026443231918,
          0.7793195011447656,
          0.7336613843077658,
          0.8284455309919295,
          0.8648214055502016,
          0.7348746422608323,
          0.8351016155509061,
          0.8337263780308377,
          0.748413316860858,
          0.7276418751103709,
          0.8111763288283519,
          0.8132905767634103,
          0.7775854379677968,
          0.7132960558421105
         ],
         "zmax": 1.01,
         "zmin": 0.29
        },
        {
         "colorbar": {
          "len": 1,
          "tickfont": {
           "size": 25
          },
          "ticktext": [
           "30%",
           "40%",
           "50%",
           "60%",
           "70%",
           "80%",
           "90%"
          ],
          "tickvals": [
           0.3,
           0.4,
           0.5,
           0.6000000000000001,
           0.7000000000000002,
           0.8000000000000003,
           0.9000000000000001
          ],
          "title": {
           "text": "Emission<br>reduction<br>in 2040<br>w.r.t. 2021"
          },
          "x": 1
         },
         "colorscale": [
          [
           0,
           "rgb(49,54,149)"
          ],
          [
           0.1,
           "rgb(69,117,180)"
          ],
          [
           0.2,
           "rgb(116,173,209)"
          ],
          [
           0.3,
           "rgb(171,217,233)"
          ],
          [
           0.4,
           "rgb(224,243,248)"
          ],
          [
           0.5,
           "rgb(255,255,191)"
          ],
          [
           0.6,
           "rgb(254,224,144)"
          ],
          [
           0.7,
           "rgb(253,174,97)"
          ],
          [
           0.8,
           "rgb(244,109,67)"
          ],
          [
           0.9,
           "rgb(215,48,39)"
          ],
          [
           1,
           "rgb(165,0,38)"
          ]
         ],
         "geo": "geo4",
         "hovertemplate": "%{text}",
         "locationmode": "ISO-3",
         "locations": [
          "AUT",
          "BEL",
          "BGR",
          "HRV",
          "CYP",
          "CZE",
          "DNK",
          "EST",
          "FIN",
          "FRA",
          "DEU",
          "GRC",
          "HUN",
          "IRL",
          "ITA",
          "LVA",
          "LTU",
          "LUX",
          "MLT",
          "NLD",
          "POL",
          "PRT",
          "ROU",
          "SVK",
          "SVN",
          "ESP",
          "SWE"
         ],
         "marker": {
          "line": {
           "color": "grey",
           "width": 0.7
          }
         },
         "name": "",
         "showscale": false,
         "text": [
          "AUT: 0.97 Gt CO<sub>2</sub>e",
          "BEL: 1.03 Gt CO<sub>2</sub>e",
          "BGR: 1.05 Gt CO<sub>2</sub>e",
          "HRV: 0.99 Gt CO<sub>2</sub>e",
          "CYP: 0.85 Gt CO<sub>2</sub>e",
          "CZE: 1.09 Gt CO<sub>2</sub>e",
          "DNK: 1.07 Gt CO<sub>2</sub>e",
          "EST: 1.09 Gt CO<sub>2</sub>e",
          "FIN: 1.00 Gt CO<sub>2</sub>e",
          "FRA: 0.92 Gt CO<sub>2</sub>e",
          "DEU: 1.07 Gt CO<sub>2</sub>e",
          "GRC: 1.06 Gt CO<sub>2</sub>e",
          "HUN: 1.00 Gt CO<sub>2</sub>e",
          "IRL: 1.03 Gt CO<sub>2</sub>e",
          "ITA: 0.99 Gt CO<sub>2</sub>e",
          "LVA: 0.74 Gt CO<sub>2</sub>e",
          "LTU: 1.05 Gt CO<sub>2</sub>e",
          "LUX: 1.07 Gt CO<sub>2</sub>e",
          "MLT: 0.84 Gt CO<sub>2</sub>e",
          "NLD: 1.07 Gt CO<sub>2</sub>e",
          "POL: 1.04 Gt CO<sub>2</sub>e",
          "PRT: 0.96 Gt CO<sub>2</sub>e",
          "ROU: 0.89 Gt CO<sub>2</sub>e",
          "SVK: 0.97 Gt CO<sub>2</sub>e",
          "SVN: 0.90 Gt CO<sub>2</sub>e",
          "ESP: 0.92 Gt CO<sub>2</sub>e",
          "SWE: 0.85 Gt CO<sub>2</sub>e"
         ],
         "type": "choropleth",
         "z": [
          0.9664205375972833,
          1.0310385983425354,
          1.0489404908719164,
          0.9901296956307007,
          0.852271880519186,
          1.0921515687078538,
          1.0700077491379258,
          1.0899722952645596,
          1.0018452860888523,
          0.9232764774506436,
          1.072035146379795,
          1.0644721919179458,
          0.9991453464994161,
          1.0255778747284012,
          0.9941795084359458,
          0.7376712349384408,
          1.0457547872149981,
          1.0675700371944825,
          0.8374484716675399,
          1.070410273795904,
          1.0384579083531758,
          0.9649398554177517,
          0.8861240214938513,
          0.9694304900373679,
          0.9040303711680736,
          0.9167137006234791,
          0.8454689747407096
         ],
         "zmax": 1.01,
         "zmin": 0.29
        },
        {
         "colorbar": {
          "len": 1,
          "tickfont": {
           "size": 25
          },
          "ticktext": [
           "30%",
           "40%",
           "50%",
           "60%",
           "70%",
           "80%",
           "90%"
          ],
          "tickvals": [
           0.3,
           0.4,
           0.5,
           0.6000000000000001,
           0.7000000000000002,
           0.8000000000000003,
           0.9000000000000001
          ],
          "title": {
           "text": "Emission<br>reduction<br>in 2040<br>w.r.t. 2021"
          },
          "x": 1
         },
         "colorscale": [
          [
           0,
           "rgb(49,54,149)"
          ],
          [
           0.1,
           "rgb(69,117,180)"
          ],
          [
           0.2,
           "rgb(116,173,209)"
          ],
          [
           0.3,
           "rgb(171,217,233)"
          ],
          [
           0.4,
           "rgb(224,243,248)"
          ],
          [
           0.5,
           "rgb(255,255,191)"
          ],
          [
           0.6,
           "rgb(254,224,144)"
          ],
          [
           0.7,
           "rgb(253,174,97)"
          ],
          [
           0.8,
           "rgb(244,109,67)"
          ],
          [
           0.9,
           "rgb(215,48,39)"
          ],
          [
           1,
           "rgb(165,0,38)"
          ]
         ],
         "geo": "geo5",
         "hovertemplate": "%{text}",
         "locationmode": "ISO-3",
         "locations": [
          "AUT",
          "BEL",
          "BGR",
          "HRV",
          "CYP",
          "CZE",
          "DNK",
          "EST",
          "FIN",
          "FRA",
          "DEU",
          "GRC",
          "HUN",
          "IRL",
          "ITA",
          "LVA",
          "LTU",
          "LUX",
          "MLT",
          "NLD",
          "POL",
          "PRT",
          "ROU",
          "SVK",
          "SVN",
          "ESP",
          "SWE"
         ],
         "marker": {
          "line": {
           "color": "grey",
           "width": 0.7
          }
         },
         "name": "",
         "showscale": false,
         "text": [
          "AUT: 1.03 Gt CO<sub>2</sub>e",
          "BEL: 1.01 Gt CO<sub>2</sub>e",
          "BGR: 0.91 Gt CO<sub>2</sub>e",
          "HRV: 0.96 Gt CO<sub>2</sub>e",
          "CYP: 0.96 Gt CO<sub>2</sub>e",
          "CZE: 0.95 Gt CO<sub>2</sub>e",
          "DNK: 1.04 Gt CO<sub>2</sub>e",
          "EST: 0.98 Gt CO<sub>2</sub>e",
          "FIN: 1.00 Gt CO<sub>2</sub>e",
          "FRA: 0.99 Gt CO<sub>2</sub>e",
          "DEU: 1.01 Gt CO<sub>2</sub>e",
          "GRC: 0.93 Gt CO<sub>2</sub>e",
          "HUN: 0.96 Gt CO<sub>2</sub>e",
          "IRL: 1.28 Gt CO<sub>2</sub>e",
          "ITA: 0.97 Gt CO<sub>2</sub>e",
          "LVA: 0.94 Gt CO<sub>2</sub>e",
          "LTU: 1.00 Gt CO<sub>2</sub>e",
          "LUX: 1.22 Gt CO<sub>2</sub>e",
          "MLT: 1.10 Gt CO<sub>2</sub>e",
          "NLD: 1.05 Gt CO<sub>2</sub>e",
          "POL: 0.98 Gt CO<sub>2</sub>e",
          "PRT: 0.96 Gt CO<sub>2</sub>e",
          "ROU: 0.94 Gt CO<sub>2</sub>e",
          "SVK: nan Gt CO<sub>2</sub>e",
          "SVN: 0.98 Gt CO<sub>2</sub>e",
          "ESP: 0.97 Gt CO<sub>2</sub>e",
          "SWE: 1.04 Gt CO<sub>2</sub>e"
         ],
         "type": "choropleth",
         "z": [
          1.0334805766142952,
          1.01420234580825,
          0.9136895269644314,
          0.9583698090475934,
          0.9581768472875487,
          0.9548443286053035,
          1.038426455048239,
          0.9782979443067298,
          1.001270815234724,
          0.9867644228943353,
          1.0149415539529212,
          0.9311624722989835,
          0.9609056777143729,
          1.2794910525722376,
          0.9664870860887099,
          0.9411206036210489,
          0.9983502623593173,
          1.222760812845479,
          1.0995472788139826,
          1.0526386582574179,
          0.9821594325071475,
          0.96355304441811,
          0.9352763483521355,
          null,
          0.9769826745124688,
          0.9669576448142164,
          1.0430245666599403
         ],
         "zmax": 1.01,
         "zmin": 0.29
        },
        {
         "colorbar": {
          "len": 1,
          "tickfont": {
           "size": 25
          },
          "ticktext": [
           "30%",
           "40%",
           "50%",
           "60%",
           "70%",
           "80%",
           "90%"
          ],
          "tickvals": [
           0.3,
           0.4,
           0.5,
           0.6000000000000001,
           0.7000000000000002,
           0.8000000000000003,
           0.9000000000000001
          ],
          "title": {
           "text": "Emission<br>reduction<br>in 2040<br>w.r.t. 2021"
          },
          "x": 1
         },
         "colorscale": [
          [
           0,
           "rgb(49,54,149)"
          ],
          [
           0.1,
           "rgb(69,117,180)"
          ],
          [
           0.2,
           "rgb(116,173,209)"
          ],
          [
           0.3,
           "rgb(171,217,233)"
          ],
          [
           0.4,
           "rgb(224,243,248)"
          ],
          [
           0.5,
           "rgb(255,255,191)"
          ],
          [
           0.6,
           "rgb(254,224,144)"
          ],
          [
           0.7,
           "rgb(253,174,97)"
          ],
          [
           0.8,
           "rgb(244,109,67)"
          ],
          [
           0.9,
           "rgb(215,48,39)"
          ],
          [
           1,
           "rgb(165,0,38)"
          ]
         ],
         "geo": "geo6",
         "hovertemplate": "%{text}",
         "locationmode": "ISO-3",
         "locations": [
          "AUT",
          "BEL",
          "BGR",
          "HRV",
          "CYP",
          "CZE",
          "DNK",
          "EST",
          "FIN",
          "FRA",
          "DEU",
          "GRC",
          "HUN",
          "IRL",
          "ITA",
          "LVA",
          "LTU",
          "LUX",
          "MLT",
          "NLD",
          "POL",
          "PRT",
          "ROU",
          "SVK",
          "SVN",
          "ESP",
          "SWE"
         ],
         "marker": {
          "line": {
           "color": "grey",
           "width": 0.7
          }
         },
         "name": "",
         "showscale": false,
         "text": [
          "AUT: 3.00 Gt CO<sub>2</sub>e",
          "BEL: 2.31 Gt CO<sub>2</sub>e",
          "BGR: 2.14 Gt CO<sub>2</sub>e",
          "HRV: 1.83 Gt CO<sub>2</sub>e",
          "CYP: 2.19 Gt CO<sub>2</sub>e",
          "CZE: 1.82 Gt CO<sub>2</sub>e",
          "DNK: 3.91 Gt CO<sub>2</sub>e",
          "EST: 1.40 Gt CO<sub>2</sub>e",
          "FIN: 2.02 Gt CO<sub>2</sub>e",
          "FRA: 3.57 Gt CO<sub>2</sub>e",
          "DEU: 2.81 Gt CO<sub>2</sub>e",
          "GRC: 2.20 Gt CO<sub>2</sub>e",
          "HUN: 1.47 Gt CO<sub>2</sub>e",
          "IRL: 3.83 Gt CO<sub>2</sub>e",
          "ITA: 2.69 Gt CO<sub>2</sub>e",
          "LVA: 1.87 Gt CO<sub>2</sub>e",
          "LTU: 1.37 Gt CO<sub>2</sub>e",
          "LUX: 3.91 Gt CO<sub>2</sub>e",
          "MLT: 3.04 Gt CO<sub>2</sub>e",
          "NLD: 2.87 Gt CO<sub>2</sub>e",
          "POL: 1.33 Gt CO<sub>2</sub>e",
          "PRT: 2.51 Gt CO<sub>2</sub>e",
          "ROU: 1.52 Gt CO<sub>2</sub>e",
          "SVK: nan Gt CO<sub>2</sub>e",
          "SVN: 2.03 Gt CO<sub>2</sub>e",
          "ESP: 2.63 Gt CO<sub>2</sub>e",
          "SWE: 5.32 Gt CO<sub>2</sub>e"
         ],
         "type": "choropleth",
         "z": [
          3.0035190724089,
          2.307595704272076,
          2.1378861604409947,
          1.8264591492961852,
          2.186082456383528,
          1.8165193048369734,
          3.908194870541996,
          1.3952881538757502,
          2.019295523387264,
          3.570012994136643,
          2.806714602869845,
          2.195964739966067,
          1.465596554074545,
          3.8270309210316906,
          2.688169571830314,
          1.8674084197694718,
          1.3695397983150344,
          3.9141144647231014,
          3.0447444659853464,
          2.8743990521098293,
          1.3312136003254313,
          2.510546620526261,
          1.5178863348509832,
          null,
          2.0295037156148226,
          2.634653466887417,
          5.3192839778906835
         ],
         "zmax": 1.01,
         "zmin": 0.29
        },
        {
         "featureidkey": "properties.NAME_3",
         "geo": "geo",
         "hoverinfo": "skip",
         "locations": [
          "AUT",
          "BEL",
          "BGR",
          "HRV",
          "CYP",
          "CZE",
          "DNK",
          "EST",
          "FIN",
          "FRA",
          "DEU",
          "GRC",
          "HUN",
          "IRL",
          "ITA",
          "LVA",
          "LTU",
          "LUX",
          "MLT",
          "NLD",
          "POL",
          "PRT",
          "ROU",
          "SVK",
          "SVN",
          "ESP",
          "SWE"
         ],
         "mode": "text",
         "showlegend": false,
         "text": [
          "78%",
          "78%",
          "78%",
          "78%",
          "78%",
          "78%",
          "78%",
          "78%",
          "78%",
          "78%",
          "78%",
          "78%",
          "78%",
          "78%",
          "78%",
          "78%",
          "78%",
          "78%",
          "78%",
          "78%",
          "78%",
          "78%",
          "78%",
          "78%",
          "78%",
          "78%",
          "78%"
         ],
         "textfont": {
          "color": "black",
          "size": 20
         },
         "type": "scattergeo"
        },
        {
         "featureidkey": "properties.NAME_3",
         "geo": "geo2",
         "hoverinfo": "skip",
         "locations": [
          "AUT",
          "BEL",
          "BGR",
          "HRV",
          "CYP",
          "CZE",
          "DNK",
          "EST",
          "FIN",
          "FRA",
          "DEU",
          "GRC",
          "HUN",
          "IRL",
          "ITA",
          "LVA",
          "LTU",
          "LUX",
          "MLT",
          "NLD",
          "POL",
          "PRT",
          "ROU",
          "SVK",
          "SVN",
          "ESP",
          "SWE"
         ],
         "mode": "text",
         "showlegend": false,
         "text": [
          "82%",
          "87%",
          "56%",
          "71%",
          "76%",
          "86%",
          "81%",
          "92%",
          "89%",
          "74%",
          "83%",
          "80%",
          "80%",
          "88%",
          "77%",
          "70%",
          "84%",
          "90%",
          "70%",
          "85%",
          "85%",
          "72%",
          "69%",
          "82%",
          "82%",
          "77%",
          "67%"
         ],
         "textfont": {
          "color": "black",
          "size": 20
         },
         "type": "scattergeo"
        },
        {
         "featureidkey": "properties.NAME_3",
         "geo": "geo3",
         "hoverinfo": "skip",
         "locations": [
          "AUT",
          "BEL",
          "BGR",
          "HRV",
          "CYP",
          "CZE",
          "DNK",
          "EST",
          "FIN",
          "FRA",
          "DEU",
          "GRC",
          "HUN",
          "IRL",
          "ITA",
          "LVA",
          "LTU",
          "LUX",
          "MLT",
          "NLD",
          "POL",
          "PRT",
          "ROU",
          "SVK",
          "SVN",
          "ESP",
          "SWE"
         ],
         "mode": "text",
         "showlegend": false,
         "text": [
          "80%",
          "84%",
          "64%",
          "73%",
          "77%",
          "83%",
          "80%",
          "87%",
          "85%",
          "75%",
          "82%",
          "79%",
          "80%",
          "85%",
          "77%",
          "73%",
          "82%",
          "86%",
          "73%",
          "83%",
          "83%",
          "74%",
          "72%",
          "81%",
          "81%",
          "77%",
          "71%"
         ],
         "textfont": {
          "color": "black",
          "size": 20
         },
         "type": "scattergeo"
        },
        {
         "featureidkey": "properties.NAME_3",
         "geo": "geo4",
         "hoverinfo": "skip",
         "locations": [
          "AUT",
          "BEL",
          "BGR",
          "HRV",
          "CYP",
          "CZE",
          "DNK",
          "EST",
          "FIN",
          "FRA",
          "DEU",
          "GRC",
          "HUN",
          "IRL",
          "ITA",
          "LVA",
          "LTU",
          "LUX",
          "MLT",
          "NLD",
          "POL",
          "PRT",
          "ROU",
          "SVK",
          "SVN",
          "ESP",
          "SWE"
         ],
         "mode": "text",
         "showlegend": false,
         "text": [
          "96%",
          "103%",
          "104%",
          "99%",
          "85%",
          "109%",
          "107%",
          "108%",
          "100%",
          "92%",
          "107%",
          "106%",
          "99%",
          "102%",
          "99%",
          "73%",
          "104%",
          "106%",
          "83%",
          "107%",
          "103%",
          "96%",
          "88%",
          "96%",
          "90%",
          "91%",
          "84%"
         ],
         "textfont": {
          "color": "black",
          "size": 20
         },
         "type": "scattergeo"
        },
        {
         "featureidkey": "properties.NAME_3",
         "geo": "geo5",
         "hoverinfo": "skip",
         "locations": [
          "AUT",
          "BEL",
          "BGR",
          "HRV",
          "CYP",
          "CZE",
          "DNK",
          "EST",
          "FIN",
          "FRA",
          "DEU",
          "GRC",
          "HUN",
          "IRL",
          "ITA",
          "LVA",
          "LTU",
          "LUX",
          "MLT",
          "NLD",
          "POL",
          "PRT",
          "ROU",
          "SVK",
          "SVN",
          "ESP",
          "SWE"
         ],
         "mode": "text",
         "showlegend": false,
         "text": [
          "103%",
          "101%",
          "91%",
          "95%",
          "95%",
          "95%",
          "103%",
          "97%",
          "100%",
          "98%",
          "101%",
          "93%",
          "96%",
          "127%",
          "96%",
          "94%",
          "99%",
          "122%",
          "109%",
          "105%",
          "98%",
          "96%",
          "93%",
          "100%",
          "97%",
          "96%",
          "104%"
         ],
         "textfont": {
          "color": "black",
          "size": 20
         },
         "type": "scattergeo"
        },
        {
         "featureidkey": "properties.NAME_3",
         "geo": "geo6",
         "hoverinfo": "skip",
         "locations": [
          "AUT",
          "BEL",
          "BGR",
          "HRV",
          "CYP",
          "CZE",
          "DNK",
          "EST",
          "FIN",
          "FRA",
          "DEU",
          "GRC",
          "HUN",
          "IRL",
          "ITA",
          "LVA",
          "LTU",
          "LUX",
          "MLT",
          "NLD",
          "POL",
          "PRT",
          "ROU",
          "SVK",
          "SVN",
          "ESP",
          "SWE"
         ],
         "mode": "text",
         "showlegend": false,
         "text": [
          "300%",
          "230%",
          "213%",
          "182%",
          "218%",
          "181%",
          "390%",
          "139%",
          "201%",
          "357%",
          "280%",
          "219%",
          "146%",
          "382%",
          "268%",
          "186%",
          "136%",
          "391%",
          "304%",
          "287%",
          "133%",
          "251%",
          "151%",
          "252%",
          "202%",
          "263%",
          "531%"
         ],
         "textfont": {
          "color": "black",
          "size": 20
         },
         "type": "scattergeo"
        }
       ],
       "layout": {
        "annotations": [
         {
          "align": "left",
          "ax": 0,
          "ay": 0,
          "font": {
           "color": "black",
           "size": 25
          },
          "showarrow": false,
          "text": "<b>(a) Grandfathering</b>",
          "x": 0.07,
          "xref": "paper",
          "y": 0.96,
          "yref": "paper"
         },
         {
          "align": "left",
          "ax": 0,
          "ay": 0,
          "font": {
           "color": "black",
           "size": 25
          },
          "showarrow": false,
          "text": "<b>(b) Per Capita</b>",
          "x": 0.47,
          "xref": "paper",
          "y": 0.96,
          "yref": "paper"
         },
         {
          "align": "left",
          "ax": 0,
          "ay": 0,
          "font": {
           "color": "black",
           "size": 25
          },
          "showarrow": false,
          "text": "<b>(c) Per Capita Convergence</b>",
          "x": 0.9,
          "xref": "paper",
          "y": 0.96,
          "yref": "paper"
         },
         {
          "align": "left",
          "ax": 0,
          "ay": 0,
          "font": {
           "color": "black",
           "size": 25
          },
          "showarrow": false,
          "text": "<b>(d) Equal Cumulative per Capita</b>",
          "x": 0.07,
          "xref": "paper",
          "y": 0.45,
          "yref": "paper"
         },
         {
          "align": "left",
          "ax": 0,
          "ay": 0,
          "font": {
           "color": "black",
           "size": 25
          },
          "showarrow": false,
          "text": "<b>(e) Ability to Pay</b>",
          "x": 0.48,
          "xref": "paper",
          "y": 0.45,
          "yref": "paper"
         },
         {
          "align": "left",
          "ax": 0,
          "ay": 0,
          "font": {
           "color": "black",
           "size": 25
          },
          "showarrow": false,
          "text": "<b>(f) Greenhouse Development Rights</b>",
          "x": 0.95,
          "xref": "paper",
          "y": 0.45,
          "yref": "paper"
         }
        ],
        "geo": {
         "domain": {
          "x": [
           0,
           0.3333333333333333
          ],
          "y": [
           0.5,
           1
          ]
         },
         "lakecolor": "rgb(255, 255, 255)",
         "lataxis": {
          "range": [
           30,
           75
          ]
         },
         "lonaxis": {
          "range": [
           -20,
           40
          ]
         },
         "projection": {
          "type": "natural earth"
         },
         "resolution": 50,
         "scope": "europe",
         "showcoastlines": false,
         "showcountries": false,
         "showlakes": true,
         "visible": true
        },
        "geo2": {
         "domain": {
          "x": [
           0.3333333333333333,
           0.6666666666666666
          ],
          "y": [
           0.5,
           1
          ]
         },
         "lakecolor": "rgb(255, 255, 255)",
         "lataxis": {
          "range": [
           30,
           75
          ]
         },
         "lonaxis": {
          "range": [
           -20,
           40
          ]
         },
         "projection": {
          "type": "natural earth"
         },
         "resolution": 50,
         "scope": "europe",
         "showcoastlines": false,
         "showcountries": false,
         "showlakes": true,
         "visible": true
        },
        "geo3": {
         "domain": {
          "x": [
           0.6666666666666666,
           1
          ],
          "y": [
           0.5,
           1
          ]
         },
         "lakecolor": "rgb(255, 255, 255)",
         "lataxis": {
          "range": [
           30,
           75
          ]
         },
         "lonaxis": {
          "range": [
           -20,
           40
          ]
         },
         "projection": {
          "type": "natural earth"
         },
         "resolution": 50,
         "scope": "europe",
         "showcoastlines": false,
         "showcountries": false,
         "showlakes": true,
         "visible": true
        },
        "geo4": {
         "domain": {
          "x": [
           0,
           0.3333333333333333
          ],
          "y": [
           0,
           0.5
          ]
         },
         "lakecolor": "rgb(255, 255, 255)",
         "lataxis": {
          "range": [
           30,
           75
          ]
         },
         "lonaxis": {
          "range": [
           -20,
           40
          ]
         },
         "projection": {
          "type": "natural earth"
         },
         "resolution": 50,
         "scope": "europe",
         "showcoastlines": false,
         "showcountries": false,
         "showlakes": true,
         "visible": true
        },
        "geo5": {
         "domain": {
          "x": [
           0.3333333333333333,
           0.6666666666666666
          ],
          "y": [
           0,
           0.5
          ]
         },
         "lakecolor": "rgb(255, 255, 255)",
         "lataxis": {
          "range": [
           30,
           75
          ]
         },
         "lonaxis": {
          "range": [
           -20,
           40
          ]
         },
         "projection": {
          "type": "natural earth"
         },
         "resolution": 50,
         "scope": "europe",
         "showcoastlines": false,
         "showcountries": false,
         "showlakes": true,
         "visible": true
        },
        "geo6": {
         "domain": {
          "x": [
           0.6666666666666666,
           1
          ],
          "y": [
           0,
           0.5
          ]
         },
         "lakecolor": "rgb(255, 255, 255)",
         "lataxis": {
          "range": [
           30,
           75
          ]
         },
         "lonaxis": {
          "range": [
           -20,
           40
          ]
         },
         "projection": {
          "type": "natural earth"
         },
         "resolution": 50,
         "scope": "europe",
         "showcoastlines": false,
         "showcountries": false,
         "showlakes": true,
         "visible": true
        },
        "height": 1200,
        "margin": {
         "b": 0,
         "l": 0,
         "r": 0,
         "t": 0
        },
        "template": {
         "data": {
          "bar": [
           {
            "error_x": {
             "color": "#2a3f5f"
            },
            "error_y": {
             "color": "#2a3f5f"
            },
            "marker": {
             "line": {
              "color": "#E5ECF6",
              "width": 0.5
             },
             "pattern": {
              "fillmode": "overlay",
              "size": 10,
              "solidity": 0.2
             }
            },
            "type": "bar"
           }
          ],
          "barpolar": [
           {
            "marker": {
             "line": {
              "color": "#E5ECF6",
              "width": 0.5
             },
             "pattern": {
              "fillmode": "overlay",
              "size": 10,
              "solidity": 0.2
             }
            },
            "type": "barpolar"
           }
          ],
          "carpet": [
           {
            "aaxis": {
             "endlinecolor": "#2a3f5f",
             "gridcolor": "white",
             "linecolor": "white",
             "minorgridcolor": "white",
             "startlinecolor": "#2a3f5f"
            },
            "baxis": {
             "endlinecolor": "#2a3f5f",
             "gridcolor": "white",
             "linecolor": "white",
             "minorgridcolor": "white",
             "startlinecolor": "#2a3f5f"
            },
            "type": "carpet"
           }
          ],
          "choropleth": [
           {
            "colorbar": {
             "outlinewidth": 0,
             "ticks": ""
            },
            "type": "choropleth"
           }
          ],
          "contour": [
           {
            "colorbar": {
             "outlinewidth": 0,
             "ticks": ""
            },
            "colorscale": [
             [
              0,
              "#0d0887"
             ],
             [
              0.1111111111111111,
              "#46039f"
             ],
             [
              0.2222222222222222,
              "#7201a8"
             ],
             [
              0.3333333333333333,
              "#9c179e"
             ],
             [
              0.4444444444444444,
              "#bd3786"
             ],
             [
              0.5555555555555556,
              "#d8576b"
             ],
             [
              0.6666666666666666,
              "#ed7953"
             ],
             [
              0.7777777777777778,
              "#fb9f3a"
             ],
             [
              0.8888888888888888,
              "#fdca26"
             ],
             [
              1,
              "#f0f921"
             ]
            ],
            "type": "contour"
           }
          ],
          "contourcarpet": [
           {
            "colorbar": {
             "outlinewidth": 0,
             "ticks": ""
            },
            "type": "contourcarpet"
           }
          ],
          "heatmap": [
           {
            "colorbar": {
             "outlinewidth": 0,
             "ticks": ""
            },
            "colorscale": [
             [
              0,
              "#0d0887"
             ],
             [
              0.1111111111111111,
              "#46039f"
             ],
             [
              0.2222222222222222,
              "#7201a8"
             ],
             [
              0.3333333333333333,
              "#9c179e"
             ],
             [
              0.4444444444444444,
              "#bd3786"
             ],
             [
              0.5555555555555556,
              "#d8576b"
             ],
             [
              0.6666666666666666,
              "#ed7953"
             ],
             [
              0.7777777777777778,
              "#fb9f3a"
             ],
             [
              0.8888888888888888,
              "#fdca26"
             ],
             [
              1,
              "#f0f921"
             ]
            ],
            "type": "heatmap"
           }
          ],
          "heatmapgl": [
           {
            "colorbar": {
             "outlinewidth": 0,
             "ticks": ""
            },
            "colorscale": [
             [
              0,
              "#0d0887"
             ],
             [
              0.1111111111111111,
              "#46039f"
             ],
             [
              0.2222222222222222,
              "#7201a8"
             ],
             [
              0.3333333333333333,
              "#9c179e"
             ],
             [
              0.4444444444444444,
              "#bd3786"
             ],
             [
              0.5555555555555556,
              "#d8576b"
             ],
             [
              0.6666666666666666,
              "#ed7953"
             ],
             [
              0.7777777777777778,
              "#fb9f3a"
             ],
             [
              0.8888888888888888,
              "#fdca26"
             ],
             [
              1,
              "#f0f921"
             ]
            ],
            "type": "heatmapgl"
           }
          ],
          "histogram": [
           {
            "marker": {
             "pattern": {
              "fillmode": "overlay",
              "size": 10,
              "solidity": 0.2
             }
            },
            "type": "histogram"
           }
          ],
          "histogram2d": [
           {
            "colorbar": {
             "outlinewidth": 0,
             "ticks": ""
            },
            "colorscale": [
             [
              0,
              "#0d0887"
             ],
             [
              0.1111111111111111,
              "#46039f"
             ],
             [
              0.2222222222222222,
              "#7201a8"
             ],
             [
              0.3333333333333333,
              "#9c179e"
             ],
             [
              0.4444444444444444,
              "#bd3786"
             ],
             [
              0.5555555555555556,
              "#d8576b"
             ],
             [
              0.6666666666666666,
              "#ed7953"
             ],
             [
              0.7777777777777778,
              "#fb9f3a"
             ],
             [
              0.8888888888888888,
              "#fdca26"
             ],
             [
              1,
              "#f0f921"
             ]
            ],
            "type": "histogram2d"
           }
          ],
          "histogram2dcontour": [
           {
            "colorbar": {
             "outlinewidth": 0,
             "ticks": ""
            },
            "colorscale": [
             [
              0,
              "#0d0887"
             ],
             [
              0.1111111111111111,
              "#46039f"
             ],
             [
              0.2222222222222222,
              "#7201a8"
             ],
             [
              0.3333333333333333,
              "#9c179e"
             ],
             [
              0.4444444444444444,
              "#bd3786"
             ],
             [
              0.5555555555555556,
              "#d8576b"
             ],
             [
              0.6666666666666666,
              "#ed7953"
             ],
             [
              0.7777777777777778,
              "#fb9f3a"
             ],
             [
              0.8888888888888888,
              "#fdca26"
             ],
             [
              1,
              "#f0f921"
             ]
            ],
            "type": "histogram2dcontour"
           }
          ],
          "mesh3d": [
           {
            "colorbar": {
             "outlinewidth": 0,
             "ticks": ""
            },
            "type": "mesh3d"
           }
          ],
          "parcoords": [
           {
            "line": {
             "colorbar": {
              "outlinewidth": 0,
              "ticks": ""
             }
            },
            "type": "parcoords"
           }
          ],
          "pie": [
           {
            "automargin": true,
            "type": "pie"
           }
          ],
          "scatter": [
           {
            "fillpattern": {
             "fillmode": "overlay",
             "size": 10,
             "solidity": 0.2
            },
            "type": "scatter"
           }
          ],
          "scatter3d": [
           {
            "line": {
             "colorbar": {
              "outlinewidth": 0,
              "ticks": ""
             }
            },
            "marker": {
             "colorbar": {
              "outlinewidth": 0,
              "ticks": ""
             }
            },
            "type": "scatter3d"
           }
          ],
          "scattercarpet": [
           {
            "marker": {
             "colorbar": {
              "outlinewidth": 0,
              "ticks": ""
             }
            },
            "type": "scattercarpet"
           }
          ],
          "scattergeo": [
           {
            "marker": {
             "colorbar": {
              "outlinewidth": 0,
              "ticks": ""
             }
            },
            "type": "scattergeo"
           }
          ],
          "scattergl": [
           {
            "marker": {
             "colorbar": {
              "outlinewidth": 0,
              "ticks": ""
             }
            },
            "type": "scattergl"
           }
          ],
          "scattermapbox": [
           {
            "marker": {
             "colorbar": {
              "outlinewidth": 0,
              "ticks": ""
             }
            },
            "type": "scattermapbox"
           }
          ],
          "scatterpolar": [
           {
            "marker": {
             "colorbar": {
              "outlinewidth": 0,
              "ticks": ""
             }
            },
            "type": "scatterpolar"
           }
          ],
          "scatterpolargl": [
           {
            "marker": {
             "colorbar": {
              "outlinewidth": 0,
              "ticks": ""
             }
            },
            "type": "scatterpolargl"
           }
          ],
          "scatterternary": [
           {
            "marker": {
             "colorbar": {
              "outlinewidth": 0,
              "ticks": ""
             }
            },
            "type": "scatterternary"
           }
          ],
          "surface": [
           {
            "colorbar": {
             "outlinewidth": 0,
             "ticks": ""
            },
            "colorscale": [
             [
              0,
              "#0d0887"
             ],
             [
              0.1111111111111111,
              "#46039f"
             ],
             [
              0.2222222222222222,
              "#7201a8"
             ],
             [
              0.3333333333333333,
              "#9c179e"
             ],
             [
              0.4444444444444444,
              "#bd3786"
             ],
             [
              0.5555555555555556,
              "#d8576b"
             ],
             [
              0.6666666666666666,
              "#ed7953"
             ],
             [
              0.7777777777777778,
              "#fb9f3a"
             ],
             [
              0.8888888888888888,
              "#fdca26"
             ],
             [
              1,
              "#f0f921"
             ]
            ],
            "type": "surface"
           }
          ],
          "table": [
           {
            "cells": {
             "fill": {
              "color": "#EBF0F8"
             },
             "line": {
              "color": "white"
             }
            },
            "header": {
             "fill": {
              "color": "#C8D4E3"
             },
             "line": {
              "color": "white"
             }
            },
            "type": "table"
           }
          ]
         },
         "layout": {
          "annotationdefaults": {
           "arrowcolor": "#2a3f5f",
           "arrowhead": 0,
           "arrowwidth": 1
          },
          "autotypenumbers": "strict",
          "coloraxis": {
           "colorbar": {
            "outlinewidth": 0,
            "ticks": ""
           }
          },
          "colorscale": {
           "diverging": [
            [
             0,
             "#8e0152"
            ],
            [
             0.1,
             "#c51b7d"
            ],
            [
             0.2,
             "#de77ae"
            ],
            [
             0.3,
             "#f1b6da"
            ],
            [
             0.4,
             "#fde0ef"
            ],
            [
             0.5,
             "#f7f7f7"
            ],
            [
             0.6,
             "#e6f5d0"
            ],
            [
             0.7,
             "#b8e186"
            ],
            [
             0.8,
             "#7fbc41"
            ],
            [
             0.9,
             "#4d9221"
            ],
            [
             1,
             "#276419"
            ]
           ],
           "sequential": [
            [
             0,
             "#0d0887"
            ],
            [
             0.1111111111111111,
             "#46039f"
            ],
            [
             0.2222222222222222,
             "#7201a8"
            ],
            [
             0.3333333333333333,
             "#9c179e"
            ],
            [
             0.4444444444444444,
             "#bd3786"
            ],
            [
             0.5555555555555556,
             "#d8576b"
            ],
            [
             0.6666666666666666,
             "#ed7953"
            ],
            [
             0.7777777777777778,
             "#fb9f3a"
            ],
            [
             0.8888888888888888,
             "#fdca26"
            ],
            [
             1,
             "#f0f921"
            ]
           ],
           "sequentialminus": [
            [
             0,
             "#0d0887"
            ],
            [
             0.1111111111111111,
             "#46039f"
            ],
            [
             0.2222222222222222,
             "#7201a8"
            ],
            [
             0.3333333333333333,
             "#9c179e"
            ],
            [
             0.4444444444444444,
             "#bd3786"
            ],
            [
             0.5555555555555556,
             "#d8576b"
            ],
            [
             0.6666666666666666,
             "#ed7953"
            ],
            [
             0.7777777777777778,
             "#fb9f3a"
            ],
            [
             0.8888888888888888,
             "#fdca26"
            ],
            [
             1,
             "#f0f921"
            ]
           ]
          },
          "colorway": [
           "#636efa",
           "#EF553B",
           "#00cc96",
           "#ab63fa",
           "#FFA15A",
           "#19d3f3",
           "#FF6692",
           "#B6E880",
           "#FF97FF",
           "#FECB52"
          ],
          "font": {
           "color": "#2a3f5f"
          },
          "geo": {
           "bgcolor": "white",
           "lakecolor": "white",
           "landcolor": "#E5ECF6",
           "showlakes": true,
           "showland": true,
           "subunitcolor": "white"
          },
          "hoverlabel": {
           "align": "left"
          },
          "hovermode": "closest",
          "mapbox": {
           "style": "light"
          },
          "paper_bgcolor": "white",
          "plot_bgcolor": "#E5ECF6",
          "polar": {
           "angularaxis": {
            "gridcolor": "white",
            "linecolor": "white",
            "ticks": ""
           },
           "bgcolor": "#E5ECF6",
           "radialaxis": {
            "gridcolor": "white",
            "linecolor": "white",
            "ticks": ""
           }
          },
          "scene": {
           "xaxis": {
            "backgroundcolor": "#E5ECF6",
            "gridcolor": "white",
            "gridwidth": 2,
            "linecolor": "white",
            "showbackground": true,
            "ticks": "",
            "zerolinecolor": "white"
           },
           "yaxis": {
            "backgroundcolor": "#E5ECF6",
            "gridcolor": "white",
            "gridwidth": 2,
            "linecolor": "white",
            "showbackground": true,
            "ticks": "",
            "zerolinecolor": "white"
           },
           "zaxis": {
            "backgroundcolor": "#E5ECF6",
            "gridcolor": "white",
            "gridwidth": 2,
            "linecolor": "white",
            "showbackground": true,
            "ticks": "",
            "zerolinecolor": "white"
           }
          },
          "shapedefaults": {
           "line": {
            "color": "#2a3f5f"
           }
          },
          "ternary": {
           "aaxis": {
            "gridcolor": "white",
            "linecolor": "white",
            "ticks": ""
           },
           "baxis": {
            "gridcolor": "white",
            "linecolor": "white",
            "ticks": ""
           },
           "bgcolor": "#E5ECF6",
           "caxis": {
            "gridcolor": "white",
            "linecolor": "white",
            "ticks": ""
           }
          },
          "title": {
           "x": 0.05
          },
          "xaxis": {
           "automargin": true,
           "gridcolor": "white",
           "linecolor": "white",
           "ticks": "",
           "title": {
            "standoff": 15
           },
           "zerolinecolor": "white",
           "zerolinewidth": 2
          },
          "yaxis": {
           "automargin": true,
           "gridcolor": "white",
           "linecolor": "white",
           "ticks": "",
           "title": {
            "standoff": 15
           },
           "zerolinecolor": "white",
           "zerolinewidth": 2
          }
         }
        },
        "width": 2300
       }
      }
     },
     "metadata": {},
     "output_type": "display_data"
    }
   ],
   "source": [
    "for yearprev in [1990, 2021]:\n",
    "    for year in [2030, 2040]:\n",
    "        data_2030 = xrt.sel(**standard_settings, Time=year, Region=group_eu).mean(dim='Scenario')\n",
    "        data_1990 = xr_dataread.sel(Time=yearprev).GHG_hist\n",
    "        data_red = (data_1990 - data_2030) / data_1990\n",
    "\n",
    "        fig = make_subplots(rows=2, cols=3, #subplot_titles=('Grandfathering (GF)',\n",
    "                                                            # 'Per Capita (PC)',\n",
    "                                                            # 'Per Capita Convergence (PCC)',\n",
    "                                                            # 'Equal Cumulative Per Capita',\n",
    "                                                            # 'Ability to pay (AP)',\n",
    "                                                            # 'Greenhouse Development Rights'), \n",
    "                                            specs=[[{'type': 'choropleth'}, {'type': 'choropleth'}, {'type': 'choropleth'}],\n",
    "                                                [{'type': 'choropleth'}, {'type': 'choropleth'}, {'type': 'choropleth'}]],\n",
    "                                            horizontal_spacing = 0,\n",
    "                                            vertical_spacing=0)\n",
    "\n",
    "        colorbar_abs = dict(len=1, x=1, tickvals = [0, 1, 2, 3], ticktext = ['1', '10', '100', '1000'])\n",
    "        colorbar_pc = dict(len=1, x=1)\n",
    "\n",
    "        for var_i, var in enumerate(rules):\n",
    "            if var_i == 0:\n",
    "                cm= True\n",
    "            else:\n",
    "                cm= False\n",
    "            fig.add_trace(\n",
    "                go.Choropleth(\n",
    "                locations=group_eu,\n",
    "                z = data_red[var],\n",
    "                locationmode = 'ISO-3',\n",
    "                colorscale = 'RdYlBu_r',\n",
    "                zmax = 1.01,\n",
    "                zmin = 0.29,\n",
    "                text = [str(r)+\": {:0.2f} Gt CO<sub>2</sub>e\".format(float(data_red.sel(Region=r)[var])) for r_i, r in enumerate(group_eu)],\n",
    "                hovertemplate  = '%{text}',\n",
    "                name=\"\",\n",
    "                marker_line_color='grey', \n",
    "                marker_line_width=0.7,\n",
    "                colorbar=dict(len=1, x=1, tickvals = np.arange(0.3, 1, 0.1), ticktext = [str(int(i*100))+\"%\" for i in np.arange(0.3, 1, 0.1)], title={\"text\":\"Emission<br>reduction<br>in \"+str(year)+\"<br>w.r.t. \"+str(yearprev)}, tickfont={'size': 25}),\n",
    "                showscale=cm\n",
    "            ), [1, 1, 1, 2, 2, 2][var_i], [1, 2, 3, 1, 2, 3][var_i])\n",
    "        # fig.update_geos(showocean=True, oceancolor=\"white\")\n",
    "        # fig.update_geos(showlakes=True, lakecolor=\"white\")\n",
    "\n",
    "        # limite map scope to USA 'africa', 'asia', 'europe', 'north america', 'south america', 'usa', 'world'\n",
    "        fig.update_layout(\n",
    "            geo1 = dict(scope='europe', \n",
    "                        showlakes=False,\n",
    "                        lakecolor='rgb(255, 255, 255)',\n",
    "                        showcoastlines=False,),\n",
    "            geo2 = dict(scope='europe', \n",
    "                        showlakes=False,\n",
    "                        lakecolor='rgb(255, 255, 255)',\n",
    "                        showcoastlines=False,),\n",
    "            geo3 = dict(scope='europe', \n",
    "                        showlakes=False,\n",
    "                        lakecolor='rgb(255, 255, 255)',\n",
    "                        showcoastlines=False,),\n",
    "            geo4 = dict(scope='europe', \n",
    "                        showlakes=False,\n",
    "                        lakecolor='rgb(255, 255, 255)',\n",
    "                        showcoastlines=False,),\n",
    "            geo5 = dict(scope='europe', \n",
    "                        showlakes=False,\n",
    "                        lakecolor='rgb(255, 255, 255)',\n",
    "                        showcoastlines=False,),\n",
    "            geo6 = dict(scope='europe', \n",
    "                        showlakes=False,\n",
    "                        showcoastlines=False,),\n",
    "        )\n",
    "\n",
    "        mn = np.min(np.array([float(data_red[rules].min()[r]) for r in rules]))\n",
    "        mx = np.max(np.array([float(data_red[rules].max()[r]) for r in rules]))\n",
    "        for var_i, var in enumerate(rules):\n",
    "            vals = np.array(data_red[var]).astype(float)\n",
    "            vals_i = (vals + mn)**1.2\n",
    "            vals_n = 14*(vals - mn)/(mx - mn)+7\n",
    "            vals_boolean = np.copy(vals)\n",
    "            vals_boolean[vals >= 0] = 1\n",
    "            vals_boolean[vals < 0] = 0\n",
    "            vals_boolean = vals_boolean.astype(int)\n",
    "            vals[np.isnan(vals)] = np.nanmean(vals)\n",
    "            \n",
    "            fig.add_scattergeo(\n",
    "                        locations = group_eu,\n",
    "                        text = [str(int(vals[r_i]*100))+\"%\" for r_i in range(len(group_eu))],\n",
    "                        featureidkey=\"properties.NAME_3\",\n",
    "                        mode = 'text',\n",
    "                        hoverinfo='skip',\n",
    "                        showlegend=False,\n",
    "                        textfont={'size': 20,\n",
    "                                'color': 'black'},\n",
    "                        row=[1, 1, 1, 2, 2, 2][var_i],\n",
    "                        col=[1, 2, 3, 1, 2, 3][var_i])\n",
    "\n",
    "        fig.update_geos(visible=False,\n",
    "                        showlakes=True,\n",
    "                        lakecolor='rgb(255, 255, 255)',\n",
    "                        projection_type='natural earth',\n",
    "                        resolution=50,\n",
    "                        lataxis_range=[30,75], lonaxis_range=[-20, 40],\n",
    "                        showcoastlines=False,)\n",
    "\n",
    "        #fig.update_traces(showscale=False)\n",
    "        fig.update_layout(height=1200, width=2300)\n",
    "        fig.update_geos(visible=True, showcountries=False)#fitbounds=\"locations\",\n",
    "        fig.update_layout(margin={\"r\":0,\"t\":0,\"l\":0,\"b\":0})\n",
    "\n",
    "        fig.add_annotation(xref='paper', yref='paper',ax=0, align='left', ay=-0, showarrow=False, font=dict(color='black', size=25),\n",
    "                        y=0.96, x=0.07, text=\"<b>(a) Grandfathering</b>\")\n",
    "        fig.add_annotation(xref='paper', yref='paper',ax=0, align='left', ay=-0, showarrow=False, font=dict(color='black', size=25),\n",
    "                        y=0.96, x=0.47, text=\"<b>(b) Per Capita</b>\")\n",
    "        fig.add_annotation(xref='paper', yref='paper',ax=0, align='left', ay=-0, showarrow=False, font=dict(color='black', size=25),\n",
    "                        y=0.96, x=0.90, text=\"<b>(c) Per Capita Convergence</b>\")\n",
    "        fig.add_annotation(xref='paper', yref='paper',ax=0, align='left', ay=-0, showarrow=False, font=dict(color='black', size=25),\n",
    "                        y=0.45, x=0.07, text=\"<b>(d) Equal Cumulative per Capita</b>\")\n",
    "        fig.add_annotation(xref='paper', yref='paper',ax=0, align='left', ay=-0, showarrow=False, font=dict(color='black', size=25),\n",
    "                        y=0.45, x=0.48, text=\"<b>(e) Ability to Pay</b>\")\n",
    "        fig.add_annotation(xref='paper', yref='paper',ax=0, align='left', ay=-0, showarrow=False, font=dict(color='black', size=25),\n",
    "                        y=0.45, x=0.95, text=\"<b>(f) Greenhouse Development Rights</b>\")\n",
    "        fig_europe = fig\n",
    "        fig.show()\n",
    "        fig.write_image(\"K:/Code/EffortSharing/Figures/Paper_Europe/ReductionsMapEurope_\"+str(year)+\"_\"+str(yearprev)+\".png\", scale=3)"
   ]
  },
  {
   "cell_type": "code",
   "execution_count": 40,
   "metadata": {},
   "outputs": [],
   "source": []
  },
  {
   "cell_type": "code",
   "execution_count": null,
   "metadata": {},
   "outputs": [],
   "source": [
    "fig.write_image(\"K:/Code/EffortSharing/Figures/Paper_Europe/Europe_2040perc.png\", scale=3)"
   ]
  },
  {
   "cell_type": "code",
   "execution_count": null,
   "metadata": {},
   "outputs": [],
   "source": [
    "data5= xr_temps.sel(**standard_settings, Risk=0.5, Region=group_eu).mean(dim=['Conditionality', 'Hot_air', 'Ambition', 'Scenario'])"
   ]
  },
  {
   "cell_type": "code",
   "execution_count": null,
   "metadata": {},
   "outputs": [
    {
     "data": {
      "application/vnd.plotly.v1+json": {
       "config": {
        "plotlyServerURL": "https://plotly.com"
       },
       "data": [
        {
         "colorbar": {
          "len": 1,
          "tickfont": {
           "size": 25
          },
          "ticktext": [
           "1.5&deg;C",
           "1.6&deg;C",
           "1.7&deg;C",
           "1.8&deg;C",
           "1.9&deg;C",
           "2.0&deg;C",
           "2.1&deg;C",
           "2.2&deg;C",
           "2.3&deg;C",
           "2.4&deg;C"
          ],
          "tickvals": [
           1.5,
           1.6,
           1.7000000000000002,
           1.8000000000000003,
           1.9000000000000004,
           2.0000000000000004,
           2.1000000000000005,
           2.2000000000000006,
           2.3000000000000007,
           2.400000000000001
          ],
          "title": {
           "text": "Temp-equiv<br>of NDC"
          },
          "x": 1
         },
         "colorscale": [
          [
           0,
           "rgb(0,104,55)"
          ],
          [
           0.1,
           "rgb(26,152,80)"
          ],
          [
           0.2,
           "rgb(102,189,99)"
          ],
          [
           0.3,
           "rgb(166,217,106)"
          ],
          [
           0.4,
           "rgb(217,239,139)"
          ],
          [
           0.5,
           "rgb(255,255,191)"
          ],
          [
           0.6,
           "rgb(254,224,139)"
          ],
          [
           0.7,
           "rgb(253,174,97)"
          ],
          [
           0.8,
           "rgb(244,109,67)"
          ],
          [
           0.9,
           "rgb(215,48,39)"
          ],
          [
           1,
           "rgb(165,0,38)"
          ]
         ],
         "geo": "geo",
         "hovertemplate": "%{text}",
         "locationmode": "ISO-3",
         "locations": [
          "AUT",
          "BEL",
          "BGR",
          "HRV",
          "CYP",
          "CZE",
          "DNK",
          "EST",
          "FIN",
          "FRA",
          "DEU",
          "GRC",
          "HUN",
          "IRL",
          "ITA",
          "LVA",
          "LTU",
          "LUX",
          "MLT",
          "NLD",
          "POL",
          "PRT",
          "ROU",
          "SVK",
          "SVN",
          "ESP",
          "SWE"
         ],
         "marker": {
          "line": {
           "color": "grey",
           "width": 0.7
          }
         },
         "name": "",
         "showscale": true,
         "text": [
          "AUT: 1.58 deg C",
          "BEL: 1.48 deg C",
          "BGR: 4.48 deg C",
          "HRV: 3.17 deg C",
          "CYP: 1.49 deg C",
          "CZE: 1.64 deg C",
          "DNK: 1.65 deg C",
          "EST: 1.39 deg C",
          "FIN: 1.53 deg C",
          "FRA: 1.87 deg C",
          "DEU: 1.50 deg C",
          "GRC: 2.12 deg C",
          "HUN: 1.66 deg C",
          "IRL: 1.59 deg C",
          "ITA: 1.76 deg C",
          "LVA: 4.04 deg C",
          "LTU: 1.56 deg C",
          "LUX: 1.68 deg C",
          "MLT: 1.48 deg C",
          "NLD: 1.49 deg C",
          "POL: 1.53 deg C",
          "PRT: 2.70 deg C",
          "ROU: 2.79 deg C",
          "SVK: 1.52 deg C",
          "SVN: 1.77 deg C",
          "ESP: 1.82 deg C",
          "SWE: 2.83 deg C"
         ],
         "type": "choropleth",
         "z": [
          1.577551500068065,
          1.4834095488923789,
          4.476241104043247,
          3.1713092566505985,
          1.49344591908773,
          1.6354255449214354,
          1.6546237358390423,
          1.3939945980179596,
          1.5300494334354686,
          1.8681379377539369,
          1.5038933447578453,
          2.1229590428617477,
          1.6555202791871781,
          1.5858899648175033,
          1.755670037029553,
          4.037357872732038,
          1.5611440940775487,
          1.6844974384228273,
          1.4808303648691477,
          1.4878239219065446,
          1.5342748923251108,
          2.697730077841509,
          2.7943992176915806,
          1.524276879445505,
          1.7653806864519062,
          1.815575159767807,
          2.8318125122817186
         ],
         "zmax": 2.5,
         "zmin": 1.5
        },
        {
         "colorbar": {
          "len": 1,
          "tickfont": {
           "size": 25
          },
          "ticktext": [
           "1.5&deg;C",
           "1.6&deg;C",
           "1.7&deg;C",
           "1.8&deg;C",
           "1.9&deg;C",
           "2.0&deg;C",
           "2.1&deg;C",
           "2.2&deg;C",
           "2.3&deg;C",
           "2.4&deg;C"
          ],
          "tickvals": [
           1.5,
           1.6,
           1.7000000000000002,
           1.8000000000000003,
           1.9000000000000004,
           2.0000000000000004,
           2.1000000000000005,
           2.2000000000000006,
           2.3000000000000007,
           2.400000000000001
          ],
          "title": {
           "text": "Temp-equiv<br>of NDC"
          },
          "x": 1
         },
         "colorscale": [
          [
           0,
           "rgb(0,104,55)"
          ],
          [
           0.1,
           "rgb(26,152,80)"
          ],
          [
           0.2,
           "rgb(102,189,99)"
          ],
          [
           0.3,
           "rgb(166,217,106)"
          ],
          [
           0.4,
           "rgb(217,239,139)"
          ],
          [
           0.5,
           "rgb(255,255,191)"
          ],
          [
           0.6,
           "rgb(254,224,139)"
          ],
          [
           0.7,
           "rgb(253,174,97)"
          ],
          [
           0.8,
           "rgb(244,109,67)"
          ],
          [
           0.9,
           "rgb(215,48,39)"
          ],
          [
           1,
           "rgb(165,0,38)"
          ]
         ],
         "geo": "geo2",
         "hovertemplate": "%{text}",
         "locationmode": "ISO-3",
         "locations": [
          "AUT",
          "BEL",
          "BGR",
          "HRV",
          "CYP",
          "CZE",
          "DNK",
          "EST",
          "FIN",
          "FRA",
          "DEU",
          "GRC",
          "HUN",
          "IRL",
          "ITA",
          "LVA",
          "LTU",
          "LUX",
          "MLT",
          "NLD",
          "POL",
          "PRT",
          "ROU",
          "SVK",
          "SVN",
          "ESP",
          "SWE"
         ],
         "marker": {
          "line": {
           "color": "grey",
           "width": 0.7
          }
         },
         "name": "",
         "showscale": false,
         "text": [
          "AUT: 1.79 deg C",
          "BEL: 2.20 deg C",
          "BGR: 1.61 deg C",
          "HRV: 1.66 deg C",
          "CYP: 1.45 deg C",
          "CZE: 2.77 deg C",
          "DNK: 1.82 deg C",
          "EST: 3.11 deg C",
          "FIN: 3.82 deg C",
          "FRA: 1.52 deg C",
          "DEU: 1.74 deg C",
          "GRC: 1.95 deg C",
          "HUN: 1.75 deg C",
          "IRL: 3.86 deg C",
          "ITA: 1.59 deg C",
          "LVA: 1.71 deg C",
          "LTU: 1.81 deg C",
          "LUX: 4.48 deg C",
          "MLT: 1.43 deg C",
          "NLD: 2.28 deg C",
          "POL: 2.24 deg C",
          "PRT: 1.63 deg C",
          "ROU: 1.55 deg C",
          "SVK: 1.62 deg C",
          "SVN: 2.31 deg C",
          "ESP: 1.61 deg C",
          "SWE: 1.56 deg C"
         ],
         "type": "choropleth",
         "z": [
          1.7938634148234451,
          2.202378363595828,
          1.6114799886212576,
          1.657054605580744,
          1.4488604174188662,
          2.7697964996854774,
          1.820332220045973,
          3.112922819103352,
          3.8165237584217446,
          1.5200141722271459,
          1.7375979545535292,
          1.9497182164117464,
          1.7522887296491183,
          3.8640707747783525,
          1.589165101213081,
          1.7074200367269445,
          1.811351647749018,
          4.476241104043248,
          1.4269702889512668,
          2.2780021635877348,
          2.238558278896726,
          1.6322638125191997,
          1.5470083938550554,
          1.615301004718113,
          2.3140620772851146,
          1.6117750296553877,
          1.5571646449727512
         ],
         "zmax": 2.5,
         "zmin": 1.5
        },
        {
         "colorbar": {
          "len": 1,
          "tickfont": {
           "size": 25
          },
          "ticktext": [
           "1.5&deg;C",
           "1.6&deg;C",
           "1.7&deg;C",
           "1.8&deg;C",
           "1.9&deg;C",
           "2.0&deg;C",
           "2.1&deg;C",
           "2.2&deg;C",
           "2.3&deg;C",
           "2.4&deg;C"
          ],
          "tickvals": [
           1.5,
           1.6,
           1.7000000000000002,
           1.8000000000000003,
           1.9000000000000004,
           2.0000000000000004,
           2.1000000000000005,
           2.2000000000000006,
           2.3000000000000007,
           2.400000000000001
          ],
          "title": {
           "text": "Temp-equiv<br>of NDC"
          },
          "x": 1
         },
         "colorscale": [
          [
           0,
           "rgb(0,104,55)"
          ],
          [
           0.1,
           "rgb(26,152,80)"
          ],
          [
           0.2,
           "rgb(102,189,99)"
          ],
          [
           0.3,
           "rgb(166,217,106)"
          ],
          [
           0.4,
           "rgb(217,239,139)"
          ],
          [
           0.5,
           "rgb(255,255,191)"
          ],
          [
           0.6,
           "rgb(254,224,139)"
          ],
          [
           0.7,
           "rgb(253,174,97)"
          ],
          [
           0.8,
           "rgb(244,109,67)"
          ],
          [
           0.9,
           "rgb(215,48,39)"
          ],
          [
           1,
           "rgb(165,0,38)"
          ]
         ],
         "geo": "geo3",
         "hovertemplate": "%{text}",
         "locationmode": "ISO-3",
         "locations": [
          "AUT",
          "BEL",
          "BGR",
          "HRV",
          "CYP",
          "CZE",
          "DNK",
          "EST",
          "FIN",
          "FRA",
          "DEU",
          "GRC",
          "HUN",
          "IRL",
          "ITA",
          "LVA",
          "LTU",
          "LUX",
          "MLT",
          "NLD",
          "POL",
          "PRT",
          "ROU",
          "SVK",
          "SVN",
          "ESP",
          "SWE"
         ],
         "marker": {
          "line": {
           "color": "grey",
           "width": 0.7
          }
         },
         "name": "",
         "showscale": false,
         "text": [
          "AUT: 1.62 deg C",
          "BEL: 1.54 deg C",
          "BGR: 3.32 deg C",
          "HRV: 2.34 deg C",
          "CYP: 1.48 deg C",
          "CZE: 1.78 deg C",
          "DNK: 1.69 deg C",
          "EST: 1.45 deg C",
          "FIN: 1.67 deg C",
          "FRA: 1.68 deg C",
          "DEU: 1.54 deg C",
          "GRC: 2.06 deg C",
          "HUN: 1.68 deg C",
          "IRL: 1.77 deg C",
          "ITA: 1.69 deg C",
          "LVA: 2.78 deg C",
          "LTU: 1.61 deg C",
          "LUX: 2.16 deg C",
          "MLT: 1.46 deg C",
          "NLD: 1.55 deg C",
          "POL: 1.61 deg C",
          "PRT: 2.13 deg C",
          "ROU: 2.02 deg C",
          "SVK: 1.54 deg C",
          "SVN: 1.88 deg C",
          "ESP: 1.73 deg C",
          "SWE: 2.05 deg C"
         ],
         "type": "choropleth",
         "z": [
          1.6211391430797386,
          1.5373239283371065,
          3.3155128094818704,
          2.3426171076460767,
          1.4773314186468596,
          1.7829940272587903,
          1.6944401414045898,
          1.4544594711000416,
          1.6651723156025569,
          1.6817546437749626,
          1.5395008527679506,
          2.0625175295352256,
          1.6808162899116803,
          1.7735211559609039,
          1.6870521730268782,
          2.7841796052882075,
          1.607704898132157,
          2.1629999596920184,
          1.4620912245814912,
          1.5459192341580181,
          1.6106100797690044,
          2.1258473283996846,
          2.021649046246329,
          1.5446990537829133,
          1.87831447170485,
          1.730894290363344,
          2.0516113973256473
         ],
         "zmax": 2.5,
         "zmin": 1.5
        },
        {
         "colorbar": {
          "len": 1,
          "tickfont": {
           "size": 25
          },
          "ticktext": [
           "1.5&deg;C",
           "1.6&deg;C",
           "1.7&deg;C",
           "1.8&deg;C",
           "1.9&deg;C",
           "2.0&deg;C",
           "2.1&deg;C",
           "2.2&deg;C",
           "2.3&deg;C",
           "2.4&deg;C"
          ],
          "tickvals": [
           1.5,
           1.6,
           1.7000000000000002,
           1.8000000000000003,
           1.9000000000000004,
           2.0000000000000004,
           2.1000000000000005,
           2.2000000000000006,
           2.3000000000000007,
           2.400000000000001
          ],
          "title": {
           "text": "Temp-equiv<br>of NDC"
          },
          "x": 1
         },
         "colorscale": [
          [
           0,
           "rgb(0,104,55)"
          ],
          [
           0.1,
           "rgb(26,152,80)"
          ],
          [
           0.2,
           "rgb(102,189,99)"
          ],
          [
           0.3,
           "rgb(166,217,106)"
          ],
          [
           0.4,
           "rgb(217,239,139)"
          ],
          [
           0.5,
           "rgb(255,255,191)"
          ],
          [
           0.6,
           "rgb(254,224,139)"
          ],
          [
           0.7,
           "rgb(253,174,97)"
          ],
          [
           0.8,
           "rgb(244,109,67)"
          ],
          [
           0.9,
           "rgb(215,48,39)"
          ],
          [
           1,
           "rgb(165,0,38)"
          ]
         ],
         "geo": "geo4",
         "hovertemplate": "%{text}",
         "locationmode": "ISO-3",
         "locations": [
          "AUT",
          "BEL",
          "BGR",
          "HRV",
          "CYP",
          "CZE",
          "DNK",
          "EST",
          "FIN",
          "FRA",
          "DEU",
          "GRC",
          "HUN",
          "IRL",
          "ITA",
          "LVA",
          "LTU",
          "LUX",
          "MLT",
          "NLD",
          "POL",
          "PRT",
          "ROU",
          "SVK",
          "SVN",
          "ESP",
          "SWE"
         ],
         "marker": {
          "line": {
           "color": "grey",
           "width": 0.7
          }
         },
         "name": "",
         "showscale": false,
         "text": [
          "AUT: 2.08 deg C",
          "BEL: 1.73 deg C",
          "BGR: 4.48 deg C",
          "HRV: 4.48 deg C",
          "CYP: 1.60 deg C",
          "CZE: 2.70 deg C",
          "DNK: 2.77 deg C",
          "EST: 1.50 deg C",
          "FIN: 1.88 deg C",
          "FRA: 2.69 deg C",
          "DEU: 1.92 deg C",
          "GRC: 4.03 deg C",
          "HUN: 2.41 deg C",
          "IRL: 2.28 deg C",
          "ITA: 2.72 deg C",
          "LVA: 4.29 deg C",
          "LTU: 2.04 deg C",
          "LUX: 2.93 deg C",
          "MLT: 1.59 deg C",
          "NLD: 1.80 deg C",
          "POL: 2.00 deg C",
          "PRT: 4.24 deg C",
          "ROU: 3.95 deg C",
          "SVK: 1.80 deg C",
          "SVN: 2.41 deg C",
          "ESP: 2.66 deg C",
          "SWE: 4.05 deg C"
         ],
         "type": "choropleth",
         "z": [
          2.0751612992000887,
          1.7255522172140616,
          4.476241104043248,
          4.476241104043248,
          1.5988108856940706,
          2.700111596608638,
          2.7725048756200015,
          1.4952202406480521,
          1.8811603222661433,
          2.693854659979736,
          1.9201751952938693,
          4.032884441894645,
          2.406273597414412,
          2.27726369039655,
          2.721151578285446,
          4.289223626349182,
          2.0380217230575903,
          2.9347495056361614,
          1.588107096067979,
          1.802965422523457,
          1.9990305102620787,
          4.238142135059372,
          3.9464784308888383,
          1.798913199788473,
          2.4105746504830963,
          2.656243434641642,
          4.046314402103399
         ],
         "zmax": 2.5,
         "zmin": 1.5
        },
        {
         "colorbar": {
          "len": 1,
          "tickfont": {
           "size": 25
          },
          "ticktext": [
           "1.5&deg;C",
           "1.6&deg;C",
           "1.7&deg;C",
           "1.8&deg;C",
           "1.9&deg;C",
           "2.0&deg;C",
           "2.1&deg;C",
           "2.2&deg;C",
           "2.3&deg;C",
           "2.4&deg;C"
          ],
          "tickvals": [
           1.5,
           1.6,
           1.7000000000000002,
           1.8000000000000003,
           1.9000000000000004,
           2.0000000000000004,
           2.1000000000000005,
           2.2000000000000006,
           2.3000000000000007,
           2.400000000000001
          ],
          "title": {
           "text": "Temp-equiv<br>of NDC"
          },
          "x": 1
         },
         "colorscale": [
          [
           0,
           "rgb(0,104,55)"
          ],
          [
           0.1,
           "rgb(26,152,80)"
          ],
          [
           0.2,
           "rgb(102,189,99)"
          ],
          [
           0.3,
           "rgb(166,217,106)"
          ],
          [
           0.4,
           "rgb(217,239,139)"
          ],
          [
           0.5,
           "rgb(255,255,191)"
          ],
          [
           0.6,
           "rgb(254,224,139)"
          ],
          [
           0.7,
           "rgb(253,174,97)"
          ],
          [
           0.8,
           "rgb(244,109,67)"
          ],
          [
           0.9,
           "rgb(215,48,39)"
          ],
          [
           1,
           "rgb(165,0,38)"
          ]
         ],
         "geo": "geo5",
         "hovertemplate": "%{text}",
         "locationmode": "ISO-3",
         "locations": [
          "AUT",
          "BEL",
          "BGR",
          "HRV",
          "CYP",
          "CZE",
          "DNK",
          "EST",
          "FIN",
          "FRA",
          "DEU",
          "GRC",
          "HUN",
          "IRL",
          "ITA",
          "LVA",
          "LTU",
          "LUX",
          "MLT",
          "NLD",
          "POL",
          "PRT",
          "ROU",
          "SVK",
          "SVN",
          "ESP",
          "SWE"
         ],
         "marker": {
          "line": {
           "color": "grey",
           "width": 0.7
          }
         },
         "name": "",
         "showscale": false,
         "text": [
          "AUT: 2.15 deg C",
          "BEL: 1.65 deg C",
          "BGR: 4.48 deg C",
          "HRV: 3.99 deg C",
          "CYP: 1.64 deg C",
          "CZE: 2.30 deg C",
          "DNK: 2.32 deg C",
          "EST: 1.46 deg C",
          "FIN: 1.86 deg C",
          "FRA: 2.86 deg C",
          "DEU: 1.84 deg C",
          "GRC: 3.45 deg C",
          "HUN: 1.83 deg C",
          "IRL: 2.11 deg C",
          "ITA: 2.38 deg C",
          "LVA: 4.47 deg C",
          "LTU: 1.70 deg C",
          "LUX: 3.50 deg C",
          "MLT: 1.83 deg C",
          "NLD: 1.73 deg C",
          "POL: 1.75 deg C",
          "PRT: 4.11 deg C",
          "ROU: 3.37 deg C",
          "SVK: nan deg C",
          "SVN: 2.57 deg C",
          "ESP: 2.59 deg C",
          "SWE: 4.48 deg C"
         ],
         "type": "choropleth",
         "z": [
          2.147474892174602,
          1.654583428713959,
          4.476241104043248,
          3.9907973074321252,
          1.6387486723204163,
          2.2951974252325704,
          2.3193168611620303,
          1.4552546757740266,
          1.8620832929539257,
          2.8606454040000515,
          1.8415349707641477,
          3.4519642656321565,
          1.8288229468284554,
          2.106493207823367,
          2.375295473547929,
          4.470126468142194,
          1.6979718683528808,
          3.4989944209733523,
          1.8332030386513267,
          1.7258997917321701,
          1.7462775246305668,
          4.10856398434713,
          3.3652898568194134,
          null,
          2.5672235984589102,
          2.594300585053179,
          4.476241104043248
         ],
         "zmax": 2.5,
         "zmin": 1.5
        },
        {
         "colorbar": {
          "len": 1,
          "tickfont": {
           "size": 25
          },
          "ticktext": [
           "1.5&deg;C",
           "1.6&deg;C",
           "1.7&deg;C",
           "1.8&deg;C",
           "1.9&deg;C",
           "2.0&deg;C",
           "2.1&deg;C",
           "2.2&deg;C",
           "2.3&deg;C",
           "2.4&deg;C"
          ],
          "tickvals": [
           1.5,
           1.6,
           1.7000000000000002,
           1.8000000000000003,
           1.9000000000000004,
           2.0000000000000004,
           2.1000000000000005,
           2.2000000000000006,
           2.3000000000000007,
           2.400000000000001
          ],
          "title": {
           "text": "Temp-equiv<br>of NDC"
          },
          "x": 1
         },
         "colorscale": [
          [
           0,
           "rgb(0,104,55)"
          ],
          [
           0.1,
           "rgb(26,152,80)"
          ],
          [
           0.2,
           "rgb(102,189,99)"
          ],
          [
           0.3,
           "rgb(166,217,106)"
          ],
          [
           0.4,
           "rgb(217,239,139)"
          ],
          [
           0.5,
           "rgb(255,255,191)"
          ],
          [
           0.6,
           "rgb(254,224,139)"
          ],
          [
           0.7,
           "rgb(253,174,97)"
          ],
          [
           0.8,
           "rgb(244,109,67)"
          ],
          [
           0.9,
           "rgb(215,48,39)"
          ],
          [
           1,
           "rgb(165,0,38)"
          ]
         ],
         "geo": "geo6",
         "hovertemplate": "%{text}",
         "locationmode": "ISO-3",
         "locations": [
          "AUT",
          "BEL",
          "BGR",
          "HRV",
          "CYP",
          "CZE",
          "DNK",
          "EST",
          "FIN",
          "FRA",
          "DEU",
          "GRC",
          "HUN",
          "IRL",
          "ITA",
          "LVA",
          "LTU",
          "LUX",
          "MLT",
          "NLD",
          "POL",
          "PRT",
          "ROU",
          "SVK",
          "SVN",
          "ESP",
          "SWE"
         ],
         "marker": {
          "line": {
           "color": "grey",
           "width": 0.7
          }
         },
         "name": "",
         "showscale": false,
         "text": [
          "AUT: 4.48 deg C",
          "BEL: 4.48 deg C",
          "BGR: 4.48 deg C",
          "HRV: 4.48 deg C",
          "CYP: 4.39 deg C",
          "CZE: 4.48 deg C",
          "DNK: 4.48 deg C",
          "EST: 1.50 deg C",
          "FIN: 4.48 deg C",
          "FRA: 4.48 deg C",
          "DEU: 4.48 deg C",
          "GRC: 4.48 deg C",
          "HUN: 3.28 deg C",
          "IRL: 4.48 deg C",
          "ITA: 4.48 deg C",
          "LVA: 4.48 deg C",
          "LTU: 2.84 deg C",
          "LUX: 4.48 deg C",
          "MLT: 4.48 deg C",
          "NLD: 4.48 deg C",
          "POL: 2.23 deg C",
          "PRT: 4.48 deg C",
          "ROU: 4.48 deg C",
          "SVK: nan deg C",
          "SVN: 4.48 deg C",
          "ESP: 4.48 deg C",
          "SWE: 4.48 deg C"
         ],
         "type": "choropleth",
         "z": [
          4.476241104043248,
          4.476241104043248,
          4.476241104043248,
          4.476241104043248,
          4.385038454325939,
          4.476241104043248,
          4.476241104043248,
          1.5037617005610906,
          4.476241104043248,
          4.476241104043248,
          4.476241104043248,
          4.476241104043248,
          3.2830939926649725,
          4.476241104043248,
          4.476241104043248,
          4.476241104043248,
          2.839582623354048,
          4.476241104043248,
          4.476241104043248,
          4.476241104043248,
          2.234112534294759,
          4.476241104043248,
          4.476241104043248,
          null,
          4.476241104043248,
          4.476241104043248,
          4.476241104043248
         ],
         "zmax": 2.5,
         "zmin": 1.5
        },
        {
         "featureidkey": "properties.NAME_3",
         "geo": "geo",
         "hoverinfo": "skip",
         "locations": [
          "AUT",
          "BEL",
          "BGR",
          "HRV",
          "CYP",
          "CZE",
          "DNK",
          "EST",
          "FIN",
          "FRA",
          "DEU",
          "GRC",
          "HUN",
          "IRL",
          "ITA",
          "LVA",
          "LTU",
          "LUX",
          "MLT",
          "NLD",
          "POL",
          "PRT",
          "ROU",
          "SVK",
          "SVN",
          "ESP",
          "SWE"
         ],
         "mode": "text",
         "showlegend": false,
         "text": [
          "1.6",
          "1.5",
          "4.5",
          "3.2",
          "1.5",
          "1.6",
          "1.7",
          "1.4",
          "1.5",
          "1.9",
          "1.5",
          "2.1",
          "1.7",
          "1.6",
          "1.8",
          "4.0",
          "1.6",
          "1.7",
          "1.5",
          "1.5",
          "1.5",
          "2.7",
          "2.8",
          "1.5",
          "1.8",
          "1.8",
          "2.8"
         ],
         "textfont": {
          "color": "black",
          "size": 20
         },
         "type": "scattergeo"
        },
        {
         "featureidkey": "properties.NAME_3",
         "geo": "geo2",
         "hoverinfo": "skip",
         "locations": [
          "AUT",
          "BEL",
          "BGR",
          "HRV",
          "CYP",
          "CZE",
          "DNK",
          "EST",
          "FIN",
          "FRA",
          "DEU",
          "GRC",
          "HUN",
          "IRL",
          "ITA",
          "LVA",
          "LTU",
          "LUX",
          "MLT",
          "NLD",
          "POL",
          "PRT",
          "ROU",
          "SVK",
          "SVN",
          "ESP",
          "SWE"
         ],
         "mode": "text",
         "showlegend": false,
         "text": [
          "1.8",
          "2.2",
          "1.6",
          "1.7",
          "1.4",
          "2.8",
          "1.8",
          "3.1",
          "3.8",
          "1.5",
          "1.7",
          "1.9",
          "1.8",
          "3.9",
          "1.6",
          "1.7",
          "1.8",
          "4.5",
          "1.4",
          "2.3",
          "2.2",
          "1.6",
          "1.5",
          "1.6",
          "2.3",
          "1.6",
          "1.6"
         ],
         "textfont": {
          "color": "black",
          "size": 20
         },
         "type": "scattergeo"
        },
        {
         "featureidkey": "properties.NAME_3",
         "geo": "geo3",
         "hoverinfo": "skip",
         "locations": [
          "AUT",
          "BEL",
          "BGR",
          "HRV",
          "CYP",
          "CZE",
          "DNK",
          "EST",
          "FIN",
          "FRA",
          "DEU",
          "GRC",
          "HUN",
          "IRL",
          "ITA",
          "LVA",
          "LTU",
          "LUX",
          "MLT",
          "NLD",
          "POL",
          "PRT",
          "ROU",
          "SVK",
          "SVN",
          "ESP",
          "SWE"
         ],
         "mode": "text",
         "showlegend": false,
         "text": [
          "1.6",
          "1.5",
          "3.3",
          "2.3",
          "1.5",
          "1.8",
          "1.7",
          "1.5",
          "1.7",
          "1.7",
          "1.5",
          "2.1",
          "1.7",
          "1.8",
          "1.7",
          "2.8",
          "1.6",
          "2.2",
          "1.5",
          "1.5",
          "1.6",
          "2.1",
          "2.0",
          "1.5",
          "1.9",
          "1.7",
          "2.1"
         ],
         "textfont": {
          "color": "black",
          "size": 20
         },
         "type": "scattergeo"
        },
        {
         "featureidkey": "properties.NAME_3",
         "geo": "geo4",
         "hoverinfo": "skip",
         "locations": [
          "AUT",
          "BEL",
          "BGR",
          "HRV",
          "CYP",
          "CZE",
          "DNK",
          "EST",
          "FIN",
          "FRA",
          "DEU",
          "GRC",
          "HUN",
          "IRL",
          "ITA",
          "LVA",
          "LTU",
          "LUX",
          "MLT",
          "NLD",
          "POL",
          "PRT",
          "ROU",
          "SVK",
          "SVN",
          "ESP",
          "SWE"
         ],
         "mode": "text",
         "showlegend": false,
         "text": [
          "2.1",
          "1.7",
          "4.5",
          "4.5",
          "1.6",
          "2.7",
          "2.8",
          "1.5",
          "1.9",
          "2.7",
          "1.9",
          "4.0",
          "2.4",
          "2.3",
          "2.7",
          "4.3",
          "2.0",
          "2.9",
          "1.6",
          "1.8",
          "2.0",
          "4.2",
          "3.9",
          "1.8",
          "2.4",
          "2.7",
          "4.0"
         ],
         "textfont": {
          "color": "black",
          "size": 20
         },
         "type": "scattergeo"
        },
        {
         "featureidkey": "properties.NAME_3",
         "geo": "geo5",
         "hoverinfo": "skip",
         "locations": [
          "AUT",
          "BEL",
          "BGR",
          "HRV",
          "CYP",
          "CZE",
          "DNK",
          "EST",
          "FIN",
          "FRA",
          "DEU",
          "GRC",
          "HUN",
          "IRL",
          "ITA",
          "LVA",
          "LTU",
          "LUX",
          "MLT",
          "NLD",
          "POL",
          "PRT",
          "ROU",
          "SVK",
          "SVN",
          "ESP",
          "SWE"
         ],
         "mode": "text",
         "showlegend": false,
         "text": [
          "2.1",
          "1.7",
          "4.5",
          "4.0",
          "1.6",
          "2.3",
          "2.3",
          "1.5",
          "1.9",
          "2.9",
          "1.8",
          "3.5",
          "1.8",
          "2.1",
          "2.4",
          "4.5",
          "1.7",
          "3.5",
          "1.8",
          "1.7",
          "1.7",
          "4.1",
          "3.4",
          "nan",
          "2.6",
          "2.6",
          "4.5"
         ],
         "textfont": {
          "color": "black",
          "size": 20
         },
         "type": "scattergeo"
        },
        {
         "featureidkey": "properties.NAME_3",
         "geo": "geo6",
         "hoverinfo": "skip",
         "locations": [
          "AUT",
          "BEL",
          "BGR",
          "HRV",
          "CYP",
          "CZE",
          "DNK",
          "EST",
          "FIN",
          "FRA",
          "DEU",
          "GRC",
          "HUN",
          "IRL",
          "ITA",
          "LVA",
          "LTU",
          "LUX",
          "MLT",
          "NLD",
          "POL",
          "PRT",
          "ROU",
          "SVK",
          "SVN",
          "ESP",
          "SWE"
         ],
         "mode": "text",
         "showlegend": false,
         "text": [
          "4.5",
          "4.5",
          "4.5",
          "4.5",
          "4.4",
          "4.5",
          "4.5",
          "1.5",
          "4.5",
          "4.5",
          "4.5",
          "4.5",
          "3.3",
          "4.5",
          "4.5",
          "4.5",
          "2.8",
          "4.5",
          "4.5",
          "4.5",
          "2.2",
          "4.5",
          "4.5",
          "nan",
          "4.5",
          "4.5",
          "4.5"
         ],
         "textfont": {
          "color": "black",
          "size": 20
         },
         "type": "scattergeo"
        }
       ],
       "layout": {
        "annotations": [
         {
          "align": "left",
          "ax": 0,
          "ay": 0,
          "font": {
           "color": "black",
           "size": 25
          },
          "showarrow": false,
          "text": "<b>(a) Grandfathering</b>",
          "x": 0.07,
          "xref": "paper",
          "y": 0.96,
          "yref": "paper"
         },
         {
          "align": "left",
          "ax": 0,
          "ay": 0,
          "font": {
           "color": "black",
           "size": 25
          },
          "showarrow": false,
          "text": "<b>(b) Per Capita</b>",
          "x": 0.47,
          "xref": "paper",
          "y": 0.96,
          "yref": "paper"
         },
         {
          "align": "left",
          "ax": 0,
          "ay": 0,
          "font": {
           "color": "black",
           "size": 25
          },
          "showarrow": false,
          "text": "<b>(c) Per Capita Convergence</b>",
          "x": 0.9,
          "xref": "paper",
          "y": 0.96,
          "yref": "paper"
         },
         {
          "align": "left",
          "ax": 0,
          "ay": 0,
          "font": {
           "color": "black",
           "size": 25
          },
          "showarrow": false,
          "text": "<b>(d) Equal Cumulative per Capita</b>",
          "x": 0.07,
          "xref": "paper",
          "y": 0.45,
          "yref": "paper"
         },
         {
          "align": "left",
          "ax": 0,
          "ay": 0,
          "font": {
           "color": "black",
           "size": 25
          },
          "showarrow": false,
          "text": "<b>(e) Ability to Pay</b>",
          "x": 0.48,
          "xref": "paper",
          "y": 0.45,
          "yref": "paper"
         },
         {
          "align": "left",
          "ax": 0,
          "ay": 0,
          "font": {
           "color": "black",
           "size": 25
          },
          "showarrow": false,
          "text": "<b>(f) Greenhouse Development Rights</b>",
          "x": 0.95,
          "xref": "paper",
          "y": 0.45,
          "yref": "paper"
         }
        ],
        "geo": {
         "domain": {
          "x": [
           0,
           0.3333333333333333
          ],
          "y": [
           0.5,
           1
          ]
         },
         "lakecolor": "rgb(255, 255, 255)",
         "lataxis": {
          "range": [
           30,
           75
          ]
         },
         "lonaxis": {
          "range": [
           -20,
           40
          ]
         },
         "projection": {
          "type": "natural earth"
         },
         "resolution": 50,
         "scope": "europe",
         "showcoastlines": false,
         "showcountries": false,
         "showlakes": true,
         "visible": true
        },
        "geo2": {
         "domain": {
          "x": [
           0.3333333333333333,
           0.6666666666666666
          ],
          "y": [
           0.5,
           1
          ]
         },
         "lakecolor": "rgb(255, 255, 255)",
         "lataxis": {
          "range": [
           30,
           75
          ]
         },
         "lonaxis": {
          "range": [
           -20,
           40
          ]
         },
         "projection": {
          "type": "natural earth"
         },
         "resolution": 50,
         "scope": "europe",
         "showcoastlines": false,
         "showcountries": false,
         "showlakes": true,
         "visible": true
        },
        "geo3": {
         "domain": {
          "x": [
           0.6666666666666666,
           1
          ],
          "y": [
           0.5,
           1
          ]
         },
         "lakecolor": "rgb(255, 255, 255)",
         "lataxis": {
          "range": [
           30,
           75
          ]
         },
         "lonaxis": {
          "range": [
           -20,
           40
          ]
         },
         "projection": {
          "type": "natural earth"
         },
         "resolution": 50,
         "scope": "europe",
         "showcoastlines": false,
         "showcountries": false,
         "showlakes": true,
         "visible": true
        },
        "geo4": {
         "domain": {
          "x": [
           0,
           0.3333333333333333
          ],
          "y": [
           0,
           0.5
          ]
         },
         "lakecolor": "rgb(255, 255, 255)",
         "lataxis": {
          "range": [
           30,
           75
          ]
         },
         "lonaxis": {
          "range": [
           -20,
           40
          ]
         },
         "projection": {
          "type": "natural earth"
         },
         "resolution": 50,
         "scope": "europe",
         "showcoastlines": false,
         "showcountries": false,
         "showlakes": true,
         "visible": true
        },
        "geo5": {
         "domain": {
          "x": [
           0.3333333333333333,
           0.6666666666666666
          ],
          "y": [
           0,
           0.5
          ]
         },
         "lakecolor": "rgb(255, 255, 255)",
         "lataxis": {
          "range": [
           30,
           75
          ]
         },
         "lonaxis": {
          "range": [
           -20,
           40
          ]
         },
         "projection": {
          "type": "natural earth"
         },
         "resolution": 50,
         "scope": "europe",
         "showcoastlines": false,
         "showcountries": false,
         "showlakes": true,
         "visible": true
        },
        "geo6": {
         "domain": {
          "x": [
           0.6666666666666666,
           1
          ],
          "y": [
           0,
           0.5
          ]
         },
         "lakecolor": "rgb(255, 255, 255)",
         "lataxis": {
          "range": [
           30,
           75
          ]
         },
         "lonaxis": {
          "range": [
           -20,
           40
          ]
         },
         "projection": {
          "type": "natural earth"
         },
         "resolution": 50,
         "scope": "europe",
         "showcoastlines": false,
         "showcountries": false,
         "showlakes": true,
         "visible": true
        },
        "height": 1200,
        "margin": {
         "b": 0,
         "l": 0,
         "r": 0,
         "t": 0
        },
        "template": {
         "data": {
          "bar": [
           {
            "error_x": {
             "color": "#2a3f5f"
            },
            "error_y": {
             "color": "#2a3f5f"
            },
            "marker": {
             "line": {
              "color": "#E5ECF6",
              "width": 0.5
             }
            },
            "type": "bar"
           }
          ],
          "barpolar": [
           {
            "marker": {
             "line": {
              "color": "#E5ECF6",
              "width": 0.5
             }
            },
            "type": "barpolar"
           }
          ],
          "carpet": [
           {
            "aaxis": {
             "endlinecolor": "#2a3f5f",
             "gridcolor": "white",
             "linecolor": "white",
             "minorgridcolor": "white",
             "startlinecolor": "#2a3f5f"
            },
            "baxis": {
             "endlinecolor": "#2a3f5f",
             "gridcolor": "white",
             "linecolor": "white",
             "minorgridcolor": "white",
             "startlinecolor": "#2a3f5f"
            },
            "type": "carpet"
           }
          ],
          "choropleth": [
           {
            "colorbar": {
             "outlinewidth": 0,
             "ticks": ""
            },
            "type": "choropleth"
           }
          ],
          "contour": [
           {
            "colorbar": {
             "outlinewidth": 0,
             "ticks": ""
            },
            "colorscale": [
             [
              0,
              "#0d0887"
             ],
             [
              0.1111111111111111,
              "#46039f"
             ],
             [
              0.2222222222222222,
              "#7201a8"
             ],
             [
              0.3333333333333333,
              "#9c179e"
             ],
             [
              0.4444444444444444,
              "#bd3786"
             ],
             [
              0.5555555555555556,
              "#d8576b"
             ],
             [
              0.6666666666666666,
              "#ed7953"
             ],
             [
              0.7777777777777778,
              "#fb9f3a"
             ],
             [
              0.8888888888888888,
              "#fdca26"
             ],
             [
              1,
              "#f0f921"
             ]
            ],
            "type": "contour"
           }
          ],
          "contourcarpet": [
           {
            "colorbar": {
             "outlinewidth": 0,
             "ticks": ""
            },
            "type": "contourcarpet"
           }
          ],
          "heatmap": [
           {
            "colorbar": {
             "outlinewidth": 0,
             "ticks": ""
            },
            "colorscale": [
             [
              0,
              "#0d0887"
             ],
             [
              0.1111111111111111,
              "#46039f"
             ],
             [
              0.2222222222222222,
              "#7201a8"
             ],
             [
              0.3333333333333333,
              "#9c179e"
             ],
             [
              0.4444444444444444,
              "#bd3786"
             ],
             [
              0.5555555555555556,
              "#d8576b"
             ],
             [
              0.6666666666666666,
              "#ed7953"
             ],
             [
              0.7777777777777778,
              "#fb9f3a"
             ],
             [
              0.8888888888888888,
              "#fdca26"
             ],
             [
              1,
              "#f0f921"
             ]
            ],
            "type": "heatmap"
           }
          ],
          "heatmapgl": [
           {
            "colorbar": {
             "outlinewidth": 0,
             "ticks": ""
            },
            "colorscale": [
             [
              0,
              "#0d0887"
             ],
             [
              0.1111111111111111,
              "#46039f"
             ],
             [
              0.2222222222222222,
              "#7201a8"
             ],
             [
              0.3333333333333333,
              "#9c179e"
             ],
             [
              0.4444444444444444,
              "#bd3786"
             ],
             [
              0.5555555555555556,
              "#d8576b"
             ],
             [
              0.6666666666666666,
              "#ed7953"
             ],
             [
              0.7777777777777778,
              "#fb9f3a"
             ],
             [
              0.8888888888888888,
              "#fdca26"
             ],
             [
              1,
              "#f0f921"
             ]
            ],
            "type": "heatmapgl"
           }
          ],
          "histogram": [
           {
            "marker": {
             "colorbar": {
              "outlinewidth": 0,
              "ticks": ""
             }
            },
            "type": "histogram"
           }
          ],
          "histogram2d": [
           {
            "colorbar": {
             "outlinewidth": 0,
             "ticks": ""
            },
            "colorscale": [
             [
              0,
              "#0d0887"
             ],
             [
              0.1111111111111111,
              "#46039f"
             ],
             [
              0.2222222222222222,
              "#7201a8"
             ],
             [
              0.3333333333333333,
              "#9c179e"
             ],
             [
              0.4444444444444444,
              "#bd3786"
             ],
             [
              0.5555555555555556,
              "#d8576b"
             ],
             [
              0.6666666666666666,
              "#ed7953"
             ],
             [
              0.7777777777777778,
              "#fb9f3a"
             ],
             [
              0.8888888888888888,
              "#fdca26"
             ],
             [
              1,
              "#f0f921"
             ]
            ],
            "type": "histogram2d"
           }
          ],
          "histogram2dcontour": [
           {
            "colorbar": {
             "outlinewidth": 0,
             "ticks": ""
            },
            "colorscale": [
             [
              0,
              "#0d0887"
             ],
             [
              0.1111111111111111,
              "#46039f"
             ],
             [
              0.2222222222222222,
              "#7201a8"
             ],
             [
              0.3333333333333333,
              "#9c179e"
             ],
             [
              0.4444444444444444,
              "#bd3786"
             ],
             [
              0.5555555555555556,
              "#d8576b"
             ],
             [
              0.6666666666666666,
              "#ed7953"
             ],
             [
              0.7777777777777778,
              "#fb9f3a"
             ],
             [
              0.8888888888888888,
              "#fdca26"
             ],
             [
              1,
              "#f0f921"
             ]
            ],
            "type": "histogram2dcontour"
           }
          ],
          "mesh3d": [
           {
            "colorbar": {
             "outlinewidth": 0,
             "ticks": ""
            },
            "type": "mesh3d"
           }
          ],
          "parcoords": [
           {
            "line": {
             "colorbar": {
              "outlinewidth": 0,
              "ticks": ""
             }
            },
            "type": "parcoords"
           }
          ],
          "pie": [
           {
            "automargin": true,
            "type": "pie"
           }
          ],
          "scatter": [
           {
            "marker": {
             "colorbar": {
              "outlinewidth": 0,
              "ticks": ""
             }
            },
            "type": "scatter"
           }
          ],
          "scatter3d": [
           {
            "line": {
             "colorbar": {
              "outlinewidth": 0,
              "ticks": ""
             }
            },
            "marker": {
             "colorbar": {
              "outlinewidth": 0,
              "ticks": ""
             }
            },
            "type": "scatter3d"
           }
          ],
          "scattercarpet": [
           {
            "marker": {
             "colorbar": {
              "outlinewidth": 0,
              "ticks": ""
             }
            },
            "type": "scattercarpet"
           }
          ],
          "scattergeo": [
           {
            "marker": {
             "colorbar": {
              "outlinewidth": 0,
              "ticks": ""
             }
            },
            "type": "scattergeo"
           }
          ],
          "scattergl": [
           {
            "marker": {
             "colorbar": {
              "outlinewidth": 0,
              "ticks": ""
             }
            },
            "type": "scattergl"
           }
          ],
          "scattermapbox": [
           {
            "marker": {
             "colorbar": {
              "outlinewidth": 0,
              "ticks": ""
             }
            },
            "type": "scattermapbox"
           }
          ],
          "scatterpolar": [
           {
            "marker": {
             "colorbar": {
              "outlinewidth": 0,
              "ticks": ""
             }
            },
            "type": "scatterpolar"
           }
          ],
          "scatterpolargl": [
           {
            "marker": {
             "colorbar": {
              "outlinewidth": 0,
              "ticks": ""
             }
            },
            "type": "scatterpolargl"
           }
          ],
          "scatterternary": [
           {
            "marker": {
             "colorbar": {
              "outlinewidth": 0,
              "ticks": ""
             }
            },
            "type": "scatterternary"
           }
          ],
          "surface": [
           {
            "colorbar": {
             "outlinewidth": 0,
             "ticks": ""
            },
            "colorscale": [
             [
              0,
              "#0d0887"
             ],
             [
              0.1111111111111111,
              "#46039f"
             ],
             [
              0.2222222222222222,
              "#7201a8"
             ],
             [
              0.3333333333333333,
              "#9c179e"
             ],
             [
              0.4444444444444444,
              "#bd3786"
             ],
             [
              0.5555555555555556,
              "#d8576b"
             ],
             [
              0.6666666666666666,
              "#ed7953"
             ],
             [
              0.7777777777777778,
              "#fb9f3a"
             ],
             [
              0.8888888888888888,
              "#fdca26"
             ],
             [
              1,
              "#f0f921"
             ]
            ],
            "type": "surface"
           }
          ],
          "table": [
           {
            "cells": {
             "fill": {
              "color": "#EBF0F8"
             },
             "line": {
              "color": "white"
             }
            },
            "header": {
             "fill": {
              "color": "#C8D4E3"
             },
             "line": {
              "color": "white"
             }
            },
            "type": "table"
           }
          ]
         },
         "layout": {
          "annotationdefaults": {
           "arrowcolor": "#2a3f5f",
           "arrowhead": 0,
           "arrowwidth": 1
          },
          "coloraxis": {
           "colorbar": {
            "outlinewidth": 0,
            "ticks": ""
           }
          },
          "colorscale": {
           "diverging": [
            [
             0,
             "#8e0152"
            ],
            [
             0.1,
             "#c51b7d"
            ],
            [
             0.2,
             "#de77ae"
            ],
            [
             0.3,
             "#f1b6da"
            ],
            [
             0.4,
             "#fde0ef"
            ],
            [
             0.5,
             "#f7f7f7"
            ],
            [
             0.6,
             "#e6f5d0"
            ],
            [
             0.7,
             "#b8e186"
            ],
            [
             0.8,
             "#7fbc41"
            ],
            [
             0.9,
             "#4d9221"
            ],
            [
             1,
             "#276419"
            ]
           ],
           "sequential": [
            [
             0,
             "#0d0887"
            ],
            [
             0.1111111111111111,
             "#46039f"
            ],
            [
             0.2222222222222222,
             "#7201a8"
            ],
            [
             0.3333333333333333,
             "#9c179e"
            ],
            [
             0.4444444444444444,
             "#bd3786"
            ],
            [
             0.5555555555555556,
             "#d8576b"
            ],
            [
             0.6666666666666666,
             "#ed7953"
            ],
            [
             0.7777777777777778,
             "#fb9f3a"
            ],
            [
             0.8888888888888888,
             "#fdca26"
            ],
            [
             1,
             "#f0f921"
            ]
           ],
           "sequentialminus": [
            [
             0,
             "#0d0887"
            ],
            [
             0.1111111111111111,
             "#46039f"
            ],
            [
             0.2222222222222222,
             "#7201a8"
            ],
            [
             0.3333333333333333,
             "#9c179e"
            ],
            [
             0.4444444444444444,
             "#bd3786"
            ],
            [
             0.5555555555555556,
             "#d8576b"
            ],
            [
             0.6666666666666666,
             "#ed7953"
            ],
            [
             0.7777777777777778,
             "#fb9f3a"
            ],
            [
             0.8888888888888888,
             "#fdca26"
            ],
            [
             1,
             "#f0f921"
            ]
           ]
          },
          "colorway": [
           "#636efa",
           "#EF553B",
           "#00cc96",
           "#ab63fa",
           "#FFA15A",
           "#19d3f3",
           "#FF6692",
           "#B6E880",
           "#FF97FF",
           "#FECB52"
          ],
          "font": {
           "color": "#2a3f5f"
          },
          "geo": {
           "bgcolor": "white",
           "lakecolor": "white",
           "landcolor": "#E5ECF6",
           "showlakes": true,
           "showland": true,
           "subunitcolor": "white"
          },
          "hoverlabel": {
           "align": "left"
          },
          "hovermode": "closest",
          "mapbox": {
           "style": "light"
          },
          "paper_bgcolor": "white",
          "plot_bgcolor": "#E5ECF6",
          "polar": {
           "angularaxis": {
            "gridcolor": "white",
            "linecolor": "white",
            "ticks": ""
           },
           "bgcolor": "#E5ECF6",
           "radialaxis": {
            "gridcolor": "white",
            "linecolor": "white",
            "ticks": ""
           }
          },
          "scene": {
           "xaxis": {
            "backgroundcolor": "#E5ECF6",
            "gridcolor": "white",
            "gridwidth": 2,
            "linecolor": "white",
            "showbackground": true,
            "ticks": "",
            "zerolinecolor": "white"
           },
           "yaxis": {
            "backgroundcolor": "#E5ECF6",
            "gridcolor": "white",
            "gridwidth": 2,
            "linecolor": "white",
            "showbackground": true,
            "ticks": "",
            "zerolinecolor": "white"
           },
           "zaxis": {
            "backgroundcolor": "#E5ECF6",
            "gridcolor": "white",
            "gridwidth": 2,
            "linecolor": "white",
            "showbackground": true,
            "ticks": "",
            "zerolinecolor": "white"
           }
          },
          "shapedefaults": {
           "line": {
            "color": "#2a3f5f"
           }
          },
          "ternary": {
           "aaxis": {
            "gridcolor": "white",
            "linecolor": "white",
            "ticks": ""
           },
           "baxis": {
            "gridcolor": "white",
            "linecolor": "white",
            "ticks": ""
           },
           "bgcolor": "#E5ECF6",
           "caxis": {
            "gridcolor": "white",
            "linecolor": "white",
            "ticks": ""
           }
          },
          "title": {
           "x": 0.05
          },
          "xaxis": {
           "automargin": true,
           "gridcolor": "white",
           "linecolor": "white",
           "ticks": "",
           "title": {
            "standoff": 15
           },
           "zerolinecolor": "white",
           "zerolinewidth": 2
          },
          "yaxis": {
           "automargin": true,
           "gridcolor": "white",
           "linecolor": "white",
           "ticks": "",
           "title": {
            "standoff": 15
           },
           "zerolinecolor": "white",
           "zerolinewidth": 2
          }
         }
        },
        "width": 2300
       }
      }
     },
     "metadata": {},
     "output_type": "display_data"
    }
   ],
   "source": [
    "fig = make_subplots(rows=2, cols=3, #subplot_titles=('Grandfathering (GF)',\n",
    "                                                    # 'Per Capita (PC)',\n",
    "                                                    # 'Per Capita Convergence (PCC)',\n",
    "                                                    # 'Equal Cumulative Per Capita',\n",
    "                                                    # 'Ability to pay (AP)',\n",
    "                                                    # 'Greenhouse Development Rights'), \n",
    "                                    specs=[[{'type': 'choropleth'}, {'type': 'choropleth'}, {'type': 'choropleth'}],\n",
    "                                           [{'type': 'choropleth'}, {'type': 'choropleth'}, {'type': 'choropleth'}]],\n",
    "                                    horizontal_spacing = 0,\n",
    "                                    vertical_spacing=0)\n",
    "\n",
    "colorbar_abs = dict(len=1, x=1, tickvals = [0, 1, 2, 3], ticktext = ['1', '10', '100', '1000'])\n",
    "colorbar_pc = dict(len=1, x=1)\n",
    "\n",
    "for var_i, var in enumerate(rules):\n",
    "    if var_i == 0:\n",
    "        cm= True\n",
    "    else:\n",
    "        cm= False\n",
    "    fig.add_trace(\n",
    "        go.Choropleth(\n",
    "        locations=group_eu,\n",
    "        z = data5[var],\n",
    "        locationmode = 'ISO-3',\n",
    "        colorscale = 'RdYlGn_r',\n",
    "        zmax = 2.5,\n",
    "        zmin = 1.5,\n",
    "        text = [str(r)+\": {:0.2f} deg C\".format(float(data5.sel(Region=r)[var])) for r_i, r in enumerate(group_eu)],\n",
    "        hovertemplate  = '%{text}',\n",
    "        name=\"\",\n",
    "        marker_line_color='grey', \n",
    "        marker_line_width=0.7,\n",
    "        colorbar=dict(len=1, x=1, tickvals = np.arange(1.5, 2.5, 0.1), ticktext = [str(np.round(i,1))+\"&deg;C\" for i in np.arange(1.5, 2.5, 0.1)], title={\"text\":\"Temp-equiv<br>of NDC\"}, tickfont={'size': 25}),\n",
    "        showscale=cm\n",
    "    ), [1, 1, 1, 2, 2, 2][var_i], [1, 2, 3, 1, 2, 3][var_i])\n",
    "# fig.update_geos(showocean=True, oceancolor=\"white\")\n",
    "# fig.update_geos(showlakes=True, lakecolor=\"white\")\n",
    "\n",
    "# limite map scope to USA 'africa', 'asia', 'europe', 'north america', 'south america', 'usa', 'world'\n",
    "fig.update_layout(\n",
    "    geo1 = dict(scope='europe', \n",
    "                showlakes=False,\n",
    "                lakecolor='rgb(255, 255, 255)',\n",
    "                showcoastlines=False,),\n",
    "    geo2 = dict(scope='europe', \n",
    "                showlakes=False,\n",
    "                lakecolor='rgb(255, 255, 255)',\n",
    "                showcoastlines=False,),\n",
    "    geo3 = dict(scope='europe', \n",
    "                showlakes=False,\n",
    "                lakecolor='rgb(255, 255, 255)',\n",
    "                showcoastlines=False,),\n",
    "    geo4 = dict(scope='europe', \n",
    "                showlakes=False,\n",
    "                lakecolor='rgb(255, 255, 255)',\n",
    "                showcoastlines=False,),\n",
    "    geo5 = dict(scope='europe', \n",
    "                showlakes=False,\n",
    "                lakecolor='rgb(255, 255, 255)',\n",
    "                showcoastlines=False,),\n",
    "    geo6 = dict(scope='europe', \n",
    "                showlakes=False,\n",
    "                showcoastlines=False,),\n",
    ")\n",
    "\n",
    "mn = np.min(np.array([float(data5[rules].min()[r]) for r in rules]))\n",
    "mx = np.max(np.array([float(data5[rules].max()[r]) for r in rules]))\n",
    "for var_i, var in enumerate(rules):\n",
    "    vals = np.array(data5[var]).astype(float)\n",
    "    vals_i = (vals + mn)**1.2\n",
    "    vals_n = 14*(vals - mn)/(mx - mn)+7\n",
    "    vals_boolean = np.copy(vals)\n",
    "    vals_boolean[vals >= 0] = 1\n",
    "    vals_boolean[vals < 0] = 0\n",
    "    vals_boolean = vals_boolean.astype(int)\n",
    "    \n",
    "    fig.add_scattergeo(\n",
    "                locations = group_eu,\n",
    "                text = [str(np.round(vals[r_i], 1)) for r_i in range(len(group_eu))],\n",
    "                featureidkey=\"properties.NAME_3\",\n",
    "                mode = 'text',\n",
    "                hoverinfo='skip',\n",
    "                showlegend=False,\n",
    "                textfont={'size': 20,\n",
    "                        'color': 'black'},\n",
    "                row=[1, 1, 1, 2, 2, 2][var_i],\n",
    "                col=[1, 2, 3, 1, 2, 3][var_i])\n",
    "\n",
    "fig.update_geos(visible=False,\n",
    "                showlakes=True,\n",
    "                lakecolor='rgb(255, 255, 255)',\n",
    "                projection_type='natural earth',\n",
    "                resolution=50,\n",
    "                lataxis_range=[30,75], lonaxis_range=[-20, 40],\n",
    "                showcoastlines=False,)\n",
    "\n",
    "#fig.update_traces(showscale=False)\n",
    "fig.update_layout(height=1200, width=2300)\n",
    "fig.update_geos(visible=True, showcountries=False)#fitbounds=\"locations\",\n",
    "fig.update_layout(margin={\"r\":0,\"t\":0,\"l\":0,\"b\":0})\n",
    "\n",
    "fig.add_annotation(xref='paper', yref='paper',ax=0, align='left', ay=-0, showarrow=False, font=dict(color='black', size=25),\n",
    "                   y=0.96, x=0.07, text=\"<b>(a) Grandfathering</b>\")\n",
    "fig.add_annotation(xref='paper', yref='paper',ax=0, align='left', ay=-0, showarrow=False, font=dict(color='black', size=25),\n",
    "                   y=0.96, x=0.47, text=\"<b>(b) Per Capita</b>\")\n",
    "fig.add_annotation(xref='paper', yref='paper',ax=0, align='left', ay=-0, showarrow=False, font=dict(color='black', size=25),\n",
    "                   y=0.96, x=0.90, text=\"<b>(c) Per Capita Convergence</b>\")\n",
    "fig.add_annotation(xref='paper', yref='paper',ax=0, align='left', ay=-0, showarrow=False, font=dict(color='black', size=25),\n",
    "                   y=0.45, x=0.07, text=\"<b>(d) Equal Cumulative per Capita</b>\")\n",
    "fig.add_annotation(xref='paper', yref='paper',ax=0, align='left', ay=-0, showarrow=False, font=dict(color='black', size=25),\n",
    "                   y=0.45, x=0.48, text=\"<b>(e) Ability to Pay</b>\")\n",
    "fig.add_annotation(xref='paper', yref='paper',ax=0, align='left', ay=-0, showarrow=False, font=dict(color='black', size=25),\n",
    "                   y=0.45, x=0.95, text=\"<b>(f) Greenhouse Development Rights</b>\")\n",
    "fig_europe = fig\n",
    "fig.show()"
   ]
  },
  {
   "cell_type": "code",
   "execution_count": null,
   "metadata": {},
   "outputs": [],
   "source": [
    "fig.write_image(\"K:/Code/EffortSharing/Figures/Paper_Europe/Europe_temp.png\", scale=3)"
   ]
  }
 ],
 "metadata": {
  "kernelspec": {
   "display_name": "MyEnv",
   "language": "python",
   "name": "python3"
  },
  "language_info": {
   "codemirror_mode": {
    "name": "ipython",
    "version": 3
   },
   "file_extension": ".py",
   "mimetype": "text/x-python",
   "name": "python",
   "nbconvert_exporter": "python",
   "pygments_lexer": "ipython3",
   "version": "3.12.1"
  },
  "orig_nbformat": 4
 },
 "nbformat": 4,
 "nbformat_minor": 2
}
