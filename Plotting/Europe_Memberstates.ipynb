{
 "cells": [
  {
   "cell_type": "markdown",
   "metadata": {},
   "source": [
    "## Preambule"
   ]
  },
  {
   "cell_type": "code",
   "execution_count": 1,
   "metadata": {},
   "outputs": [],
   "source": [
    "import numpy as np\n",
    "import pandas as pd\n",
    "import xarray as xr\n",
    "from tqdm import tqdm\n",
    "\n",
    "# Plotting\n",
    "import matplotlib.pyplot as plt\n",
    "import plotly.express as px\n",
    "import plotly.graph_objects as go\n",
    "from plotly.subplots import make_subplots\n",
    "from plotly.colors import n_colors"
   ]
  },
  {
   "cell_type": "markdown",
   "metadata": {},
   "source": [
    "## Input"
   ]
  },
  {
   "cell_type": "code",
   "execution_count": 2,
   "metadata": {},
   "outputs": [],
   "source": [
    "rules_b = ['GF', 'PC', 'PCC', 'AP', 'GDR', 'ECPC']\n",
    "rules_a = rules_b"
   ]
  },
  {
   "cell_type": "markdown",
   "metadata": {},
   "source": [
    "## Read data"
   ]
  },
  {
   "cell_type": "code",
   "execution_count": 3,
   "metadata": {},
   "outputs": [],
   "source": [
    "xr_dataread = xr.open_dataset(\"K:/ECEMF/T5.2/xr_dataread.nc\")\n",
    "xr_temps = xr.open_dataset(\"K:/ECEMF/T5.2/xr_temps.nc\")\n",
    "#xr_2030 = xr.open_dataset(\"X:/user/dekkerm/Projects/ECEMF_T5.2/Data/xr_alloc_2030.nc\")"
   ]
  },
  {
   "cell_type": "code",
   "execution_count": 4,
   "metadata": {},
   "outputs": [],
   "source": [
    "df_eng = pd.read_csv('X:/user/dekkerm/Data/ENGAGE/PolicyScenarios/engage-internal_snapshot_1695642798.csv')\n",
    "df_eng = df_eng[df_eng.Variable == 'Emissions|Kyoto Gases']\n",
    "df_eng = df_eng.reset_index(drop=True)\n",
    "regions_df = np.array(df_eng.Region)\n",
    "regions_df[regions_df == \"Argentine Republic\"] = 'ARG'\n",
    "regions_df[regions_df == \"Canada\"] = 'CAN'\n",
    "regions_df[regions_df == \"Commonwealth of Australia\"] = 'AUS'\n",
    "regions_df[regions_df == \"Federative Republic of Brazil\"] = 'BRA'\n",
    "regions_df[regions_df == \"People's Repulic of China\"] = 'CHN'\n",
    "regions_df[regions_df == \"European Union (28 member countries)\"] = 'EU'\n",
    "regions_df[regions_df == \"Republic of India\"] = 'IND'\n",
    "regions_df[regions_df == \"Republic of Indonesia\"] = 'IDN'\n",
    "regions_df[regions_df == \"State of Japan\"] = 'JPN'\n",
    "regions_df[regions_df == \"Russian Federation\"] = 'RUS'\n",
    "regions_df[regions_df == \"Kingdom of Saudi Arabia\"] = 'SAU'\n",
    "regions_df[regions_df == \"Republic of South Africa\"] = 'ZAF'\n",
    "regions_df[regions_df == \"Republic of Korea (South Korea)\"] = 'KOR'\n",
    "regions_df[regions_df == \"United Mexican States\"] = 'MEX'\n",
    "regions_df[regions_df == \"Republic of Turkey\"] = 'TUR'\n",
    "regions_df[regions_df == \"United States of America\"] = 'USA'\n",
    "regions_df[regions_df == \"Viet Nam \"] = 'VNM'\n",
    "df_eng.Region = regions_df\n",
    "df = pd.read_excel(\"X:/user/dekkerm/Data//UNFCCC_Parties_Groups_noeu.xlsx\", sheet_name = \"Country groups\")\n",
    "countries_iso = np.array(df[\"Country ISO Code\"])\n",
    "group_eu = countries_iso[np.array(df[\"EU\"]) == 1]"
   ]
  },
  {
   "cell_type": "code",
   "execution_count": 5,
   "metadata": {},
   "outputs": [],
   "source": [
    "curpol = \"GP_CurPol_T45\"\n",
    "ndc = \"GP_NDC2030_T45\"\n",
    "nz = \"GP_Glasgow\"\n",
    "df_eng_ref = df_eng[['Model', 'Scenario', 'Region']+list(df_eng.keys()[5:])]\n",
    "df_eng_ref = df_eng_ref[df_eng_ref.Scenario.isin([curpol, ndc, nz])]\n",
    "scen = np.array(df_eng_ref.Scenario)\n",
    "scen[scen == ndc] = 'NDC'\n",
    "scen[scen == curpol] = 'CurPol'\n",
    "scen[scen == nz] = 'NetZero'\n",
    "reg = np.array(df_eng_ref.Region)\n",
    "reg[reg == 'World'] = 'WORLD'\n",
    "df_eng_ref['Scenario'] = scen\n",
    "df_eng_ref['Region'] = reg\n",
    "dummy = df_eng_ref.melt(id_vars=[\"Scenario\", \"Model\", \"Region\"], var_name=\"Time\", value_name=\"Value\")\n",
    "dummy['Time'] = np.array(dummy['Time'].astype(int))\n",
    "dummy = dummy.set_index([\"Scenario\", \"Model\", \"Region\", \"Time\"])\n",
    "xr_eng = xr.Dataset.from_dataframe(dummy)\n",
    "xr_eng = xr_eng.reindex(Time = np.arange(1850, 2101))\n",
    "xr_eng = xr_eng.interpolate_na(dim=\"Time\", method=\"linear\")"
   ]
  },
  {
   "cell_type": "markdown",
   "metadata": {},
   "source": [
    "## Read memberstate info"
   ]
  },
  {
   "cell_type": "code",
   "execution_count": 6,
   "metadata": {},
   "outputs": [
    {
     "name": "stderr",
     "output_type": "stream",
     "text": [
      "0it [00:00, ?it/s]"
     ]
    },
    {
     "name": "stderr",
     "output_type": "stream",
     "text": [
      "1it [00:01,  1.55s/it]x:\\user\\dekkerm\\environments\\MyEnv2\\lib\\site-packages\\xarray\\core\\alignment.py:307: FutureWarning: Index.__or__ operating as a set operation is deprecated, in the future this will be a logical operation matching Series.__or__.  Use index.union(other) instead.\n",
      "  index = joiner(matching_indexes)\n",
      "2it [00:03,  1.60s/it]x:\\user\\dekkerm\\environments\\MyEnv2\\lib\\site-packages\\xarray\\core\\alignment.py:307: FutureWarning: Index.__or__ operating as a set operation is deprecated, in the future this will be a logical operation matching Series.__or__.  Use index.union(other) instead.\n",
      "  index = joiner(matching_indexes)\n",
      "3it [00:04,  1.60s/it]x:\\user\\dekkerm\\environments\\MyEnv2\\lib\\site-packages\\xarray\\core\\alignment.py:307: FutureWarning: Index.__or__ operating as a set operation is deprecated, in the future this will be a logical operation matching Series.__or__.  Use index.union(other) instead.\n",
      "  index = joiner(matching_indexes)\n",
      "4it [00:06,  1.70s/it]x:\\user\\dekkerm\\environments\\MyEnv2\\lib\\site-packages\\xarray\\core\\alignment.py:307: FutureWarning: Index.__or__ operating as a set operation is deprecated, in the future this will be a logical operation matching Series.__or__.  Use index.union(other) instead.\n",
      "  index = joiner(matching_indexes)\n",
      "5it [00:08,  1.65s/it]x:\\user\\dekkerm\\environments\\MyEnv2\\lib\\site-packages\\xarray\\core\\alignment.py:307: FutureWarning: Index.__or__ operating as a set operation is deprecated, in the future this will be a logical operation matching Series.__or__.  Use index.union(other) instead.\n",
      "  index = joiner(matching_indexes)\n",
      "6it [00:10,  1.69s/it]x:\\user\\dekkerm\\environments\\MyEnv2\\lib\\site-packages\\xarray\\core\\alignment.py:307: FutureWarning: Index.__or__ operating as a set operation is deprecated, in the future this will be a logical operation matching Series.__or__.  Use index.union(other) instead.\n",
      "  index = joiner(matching_indexes)\n",
      "7it [00:11,  1.66s/it]x:\\user\\dekkerm\\environments\\MyEnv2\\lib\\site-packages\\xarray\\core\\alignment.py:307: FutureWarning: Index.__or__ operating as a set operation is deprecated, in the future this will be a logical operation matching Series.__or__.  Use index.union(other) instead.\n",
      "  index = joiner(matching_indexes)\n",
      "8it [00:13,  1.62s/it]x:\\user\\dekkerm\\environments\\MyEnv2\\lib\\site-packages\\xarray\\core\\alignment.py:307: FutureWarning: Index.__or__ operating as a set operation is deprecated, in the future this will be a logical operation matching Series.__or__.  Use index.union(other) instead.\n",
      "  index = joiner(matching_indexes)\n",
      "9it [00:15,  1.71s/it]x:\\user\\dekkerm\\environments\\MyEnv2\\lib\\site-packages\\xarray\\core\\alignment.py:307: FutureWarning: Index.__or__ operating as a set operation is deprecated, in the future this will be a logical operation matching Series.__or__.  Use index.union(other) instead.\n",
      "  index = joiner(matching_indexes)\n",
      "10it [00:17,  1.91s/it]x:\\user\\dekkerm\\environments\\MyEnv2\\lib\\site-packages\\xarray\\core\\alignment.py:307: FutureWarning: Index.__or__ operating as a set operation is deprecated, in the future this will be a logical operation matching Series.__or__.  Use index.union(other) instead.\n",
      "  index = joiner(matching_indexes)\n",
      "11it [00:19,  1.83s/it]x:\\user\\dekkerm\\environments\\MyEnv2\\lib\\site-packages\\xarray\\core\\alignment.py:307: FutureWarning: Index.__or__ operating as a set operation is deprecated, in the future this will be a logical operation matching Series.__or__.  Use index.union(other) instead.\n",
      "  index = joiner(matching_indexes)\n",
      "12it [00:20,  1.71s/it]x:\\user\\dekkerm\\environments\\MyEnv2\\lib\\site-packages\\xarray\\core\\alignment.py:307: FutureWarning: Index.__or__ operating as a set operation is deprecated, in the future this will be a logical operation matching Series.__or__.  Use index.union(other) instead.\n",
      "  index = joiner(matching_indexes)\n",
      "13it [00:22,  1.81s/it]x:\\user\\dekkerm\\environments\\MyEnv2\\lib\\site-packages\\xarray\\core\\alignment.py:307: FutureWarning: Index.__or__ operating as a set operation is deprecated, in the future this will be a logical operation matching Series.__or__.  Use index.union(other) instead.\n",
      "  index = joiner(matching_indexes)\n",
      "14it [00:24,  1.77s/it]x:\\user\\dekkerm\\environments\\MyEnv2\\lib\\site-packages\\xarray\\core\\alignment.py:307: FutureWarning: Index.__or__ operating as a set operation is deprecated, in the future this will be a logical operation matching Series.__or__.  Use index.union(other) instead.\n",
      "  index = joiner(matching_indexes)\n",
      "15it [00:25,  1.70s/it]x:\\user\\dekkerm\\environments\\MyEnv2\\lib\\site-packages\\xarray\\core\\alignment.py:307: FutureWarning: Index.__or__ operating as a set operation is deprecated, in the future this will be a logical operation matching Series.__or__.  Use index.union(other) instead.\n",
      "  index = joiner(matching_indexes)\n",
      "16it [00:27,  1.66s/it]x:\\user\\dekkerm\\environments\\MyEnv2\\lib\\site-packages\\xarray\\core\\alignment.py:307: FutureWarning: Index.__or__ operating as a set operation is deprecated, in the future this will be a logical operation matching Series.__or__.  Use index.union(other) instead.\n",
      "  index = joiner(matching_indexes)\n",
      "17it [00:28,  1.62s/it]x:\\user\\dekkerm\\environments\\MyEnv2\\lib\\site-packages\\xarray\\core\\alignment.py:307: FutureWarning: Index.__or__ operating as a set operation is deprecated, in the future this will be a logical operation matching Series.__or__.  Use index.union(other) instead.\n",
      "  index = joiner(matching_indexes)\n",
      "18it [00:30,  1.64s/it]x:\\user\\dekkerm\\environments\\MyEnv2\\lib\\site-packages\\xarray\\core\\alignment.py:307: FutureWarning: Index.__or__ operating as a set operation is deprecated, in the future this will be a logical operation matching Series.__or__.  Use index.union(other) instead.\n",
      "  index = joiner(matching_indexes)\n",
      "19it [00:32,  1.65s/it]x:\\user\\dekkerm\\environments\\MyEnv2\\lib\\site-packages\\xarray\\core\\alignment.py:307: FutureWarning: Index.__or__ operating as a set operation is deprecated, in the future this will be a logical operation matching Series.__or__.  Use index.union(other) instead.\n",
      "  index = joiner(matching_indexes)\n",
      "20it [00:34,  1.73s/it]x:\\user\\dekkerm\\environments\\MyEnv2\\lib\\site-packages\\xarray\\core\\alignment.py:307: FutureWarning: Index.__or__ operating as a set operation is deprecated, in the future this will be a logical operation matching Series.__or__.  Use index.union(other) instead.\n",
      "  index = joiner(matching_indexes)\n",
      "21it [00:35,  1.70s/it]x:\\user\\dekkerm\\environments\\MyEnv2\\lib\\site-packages\\xarray\\core\\alignment.py:307: FutureWarning: Index.__or__ operating as a set operation is deprecated, in the future this will be a logical operation matching Series.__or__.  Use index.union(other) instead.\n",
      "  index = joiner(matching_indexes)\n",
      "22it [00:37,  1.67s/it]x:\\user\\dekkerm\\environments\\MyEnv2\\lib\\site-packages\\xarray\\core\\alignment.py:307: FutureWarning: Index.__or__ operating as a set operation is deprecated, in the future this will be a logical operation matching Series.__or__.  Use index.union(other) instead.\n",
      "  index = joiner(matching_indexes)\n",
      "23it [00:39,  1.66s/it]x:\\user\\dekkerm\\environments\\MyEnv2\\lib\\site-packages\\xarray\\core\\alignment.py:307: FutureWarning: Index.__or__ operating as a set operation is deprecated, in the future this will be a logical operation matching Series.__or__.  Use index.union(other) instead.\n",
      "  index = joiner(matching_indexes)\n",
      "24it [00:40,  1.64s/it]x:\\user\\dekkerm\\environments\\MyEnv2\\lib\\site-packages\\xarray\\core\\alignment.py:307: FutureWarning: Index.__or__ operating as a set operation is deprecated, in the future this will be a logical operation matching Series.__or__.  Use index.union(other) instead.\n",
      "  index = joiner(matching_indexes)\n",
      "25it [00:42,  1.62s/it]x:\\user\\dekkerm\\environments\\MyEnv2\\lib\\site-packages\\xarray\\core\\alignment.py:307: FutureWarning: Index.__or__ operating as a set operation is deprecated, in the future this will be a logical operation matching Series.__or__.  Use index.union(other) instead.\n",
      "  index = joiner(matching_indexes)\n",
      "26it [00:44,  1.69s/it]x:\\user\\dekkerm\\environments\\MyEnv2\\lib\\site-packages\\xarray\\core\\alignment.py:307: FutureWarning: Index.__or__ operating as a set operation is deprecated, in the future this will be a logical operation matching Series.__or__.  Use index.union(other) instead.\n",
      "  index = joiner(matching_indexes)\n",
      "27it [00:45,  1.70s/it]\n"
     ]
    }
   ],
   "source": [
    "for cty_i, cty in tqdm(enumerate(group_eu)):\n",
    "    ds = xr.open_dataset(\"K:/ECEMF/T5.2/Allocations/\" + \"xr_alloc_\"+cty+\".nc\").sel(Temperature=1.5, Risk=0.5).expand_dims(Region=[cty])\n",
    "    if cty_i == 0:\n",
    "        xrt = ds.copy()\n",
    "    else:\n",
    "        xrt = xr.merge([xrt, ds])\n",
    "    ds.close()\n",
    "xrt = xrt.astype(\"float32\")"
   ]
  },
  {
   "cell_type": "markdown",
   "metadata": {},
   "source": [
    "## Plot"
   ]
  },
  {
   "cell_type": "code",
   "execution_count": 7,
   "metadata": {},
   "outputs": [],
   "source": [
    "rulecolors = ['sienna', 'goldenrod', 'forestgreen', 'mediumvioletred', 'steelblue', 'tomato', 'silver']\n",
    "rules = ['GF', 'PC', 'PCC', 'ECPC', 'AP', 'GDR']\n",
    "standard_settings = {\"TrajUnc\":\"Medium\",\n",
    "                     \"NegEmis\":0.5,\n",
    "                     \"Convergence_year\":2050}"
   ]
  },
  {
   "cell_type": "code",
   "execution_count": 8,
   "metadata": {},
   "outputs": [],
   "source": [
    "data = xrt.sel(**standard_settings, Time=np.arange(2021, 2100), Region=group_eu).mean(dim='Scenario').sum(dim='Time')/1e3"
   ]
  },
  {
   "cell_type": "code",
   "execution_count": 9,
   "metadata": {},
   "outputs": [
    {
     "name": "stderr",
     "output_type": "stream",
     "text": [
      "<ipython-input-9-f06765c7d6c2>:70: RuntimeWarning:\n",
      "\n",
      "invalid value encountered in power\n",
      "\n"
     ]
    },
    {
     "data": {
      "application/vnd.plotly.v1+json": {
       "config": {
        "plotlyServerURL": "https://plotly.com"
       },
       "data": [
        {
         "colorbar": {
          "len": 1,
          "tickfont": {
           "size": 25
          },
          "tickvals": [
           -25,
           -20,
           -15,
           -10,
           -5,
           0,
           5,
           10,
           15,
           20,
           25
          ],
          "title": {
           "text": "GHG budget<br>2021-2100<br>(Gt CO<sub>2/sub>e)"
          },
          "x": 1
         },
         "colorscale": [
          [
           0,
           "rgb(103,0,31)"
          ],
          [
           0.1,
           "rgb(178,24,43)"
          ],
          [
           0.2,
           "rgb(214,96,77)"
          ],
          [
           0.3,
           "rgb(244,165,130)"
          ],
          [
           0.4,
           "rgb(253,219,199)"
          ],
          [
           0.5,
           "rgb(247,247,247)"
          ],
          [
           0.6,
           "rgb(209,229,240)"
          ],
          [
           0.7,
           "rgb(146,197,222)"
          ],
          [
           0.8,
           "rgb(67,147,195)"
          ],
          [
           0.9,
           "rgb(33,102,172)"
          ],
          [
           1,
           "rgb(5,48,97)"
          ]
         ],
         "geo": "geo",
         "hovertemplate": "%{text}",
         "locationmode": "ISO-3",
         "locations": [
          "AUT",
          "BEL",
          "BGR",
          "HRV",
          "CYP",
          "CZE",
          "DNK",
          "EST",
          "FIN",
          "FRA",
          "DEU",
          "GRC",
          "HUN",
          "IRL",
          "ITA",
          "LVA",
          "LTU",
          "LUX",
          "MLT",
          "NLD",
          "POL",
          "PRT",
          "ROU",
          "SVK",
          "SVN",
          "ESP",
          "SWE"
         ],
         "marker": {
          "line": {
           "color": "grey",
           "width": 0.7
          }
         },
         "name": "",
         "showscale": true,
         "text": [
          "AUT: 1.26 Gt CO<sub>2</sub>e",
          "BEL: 2.25 Gt CO<sub>2</sub>e",
          "BGR: 0.41 Gt CO<sub>2</sub>e",
          "HRV: 0.36 Gt CO<sub>2</sub>e",
          "CYP: 0.13 Gt CO<sub>2</sub>e",
          "CZE: 1.92 Gt CO<sub>2</sub>e",
          "DNK: 0.79 Gt CO<sub>2</sub>e",
          "EST: 0.42 Gt CO<sub>2</sub>e",
          "FIN: 1.30 Gt CO<sub>2</sub>e",
          "FRA: 6.38 Gt CO<sub>2</sub>e",
          "DEU: 13.02 Gt CO<sub>2</sub>e",
          "GRC: 1.33 Gt CO<sub>2</sub>e",
          "HUN: 1.27 Gt CO<sub>2</sub>e",
          "IRL: 1.08 Gt CO<sub>2</sub>e",
          "ITA: 6.65 Gt CO<sub>2</sub>e",
          "LVA: 0.16 Gt CO<sub>2</sub>e",
          "LTU: 0.47 Gt CO<sub>2</sub>e",
          "LUX: 0.17 Gt CO<sub>2</sub>e",
          "MLT: 0.04 Gt CO<sub>2</sub>e",
          "NLD: 3.46 Gt CO<sub>2</sub>e",
          "POL: 6.83 Gt CO<sub>2</sub>e",
          "PRT: 0.95 Gt CO<sub>2</sub>e",
          "ROU: 1.60 Gt CO<sub>2</sub>e",
          "SVK: 0.78 Gt CO<sub>2</sub>e",
          "SVN: 0.31 Gt CO<sub>2</sub>e",
          "ESP: 5.24 Gt CO<sub>2</sub>e",
          "SWE: 0.80 Gt CO<sub>2</sub>e"
         ],
         "type": "choropleth",
         "z": [
          1.2554291486740112,
          2.251056432723999,
          0.40676024556159973,
          0.3579002022743225,
          0.13301526010036469,
          1.9160245656967163,
          0.787802517414093,
          0.42353391647338867,
          1.2965805530548096,
          6.380159854888916,
          13.020064353942871,
          1.3283724784851074,
          1.267683506011963,
          1.082593560218811,
          6.6547698974609375,
          0.16168174147605896,
          0.4711250066757202,
          0.16773660480976105,
          0.04395483434200287,
          3.4641799926757812,
          6.828342437744141,
          0.9506407976150513,
          1.6045198440551758,
          0.77925705909729,
          0.30726876854896545,
          5.239027976989746,
          0.8018734455108643
         ],
         "zmax": 12,
         "zmin": -12
        },
        {
         "colorbar": {
          "len": 1,
          "tickfont": {
           "size": 25
          },
          "tickvals": [
           -25,
           -20,
           -15,
           -10,
           -5,
           0,
           5,
           10,
           15,
           20,
           25
          ],
          "title": {
           "text": "GHG budget<br>2021-2100<br>(Gt CO<sub>2/sub>e)"
          },
          "x": 1
         },
         "colorscale": [
          [
           0,
           "rgb(103,0,31)"
          ],
          [
           0.1,
           "rgb(178,24,43)"
          ],
          [
           0.2,
           "rgb(214,96,77)"
          ],
          [
           0.3,
           "rgb(244,165,130)"
          ],
          [
           0.4,
           "rgb(253,219,199)"
          ],
          [
           0.5,
           "rgb(247,247,247)"
          ],
          [
           0.6,
           "rgb(209,229,240)"
          ],
          [
           0.7,
           "rgb(146,197,222)"
          ],
          [
           0.8,
           "rgb(67,147,195)"
          ],
          [
           0.9,
           "rgb(33,102,172)"
          ],
          [
           1,
           "rgb(5,48,97)"
          ]
         ],
         "geo": "geo2",
         "hovertemplate": "%{text}",
         "locationmode": "ISO-3",
         "locations": [
          "AUT",
          "BEL",
          "BGR",
          "HRV",
          "CYP",
          "CZE",
          "DNK",
          "EST",
          "FIN",
          "FRA",
          "DEU",
          "GRC",
          "HUN",
          "IRL",
          "ITA",
          "LVA",
          "LTU",
          "LUX",
          "MLT",
          "NLD",
          "POL",
          "PRT",
          "ROU",
          "SVK",
          "SVN",
          "ESP",
          "SWE"
         ],
         "marker": {
          "line": {
           "color": "grey",
           "width": 0.7
          }
         },
         "name": "",
         "showscale": false,
         "text": [
          "AUT: 1.07 Gt CO<sub>2</sub>e",
          "BEL: 1.39 Gt CO<sub>2</sub>e",
          "BGR: 0.86 Gt CO<sub>2</sub>e",
          "HRV: 0.53 Gt CO<sub>2</sub>e",
          "CYP: 0.15 Gt CO<sub>2</sub>e",
          "CZE: 1.35 Gt CO<sub>2</sub>e",
          "DNK: 0.72 Gt CO<sub>2</sub>e",
          "EST: 0.16 Gt CO<sub>2</sub>e",
          "FIN: 0.69 Gt CO<sub>2</sub>e",
          "FRA: 8.51 Gt CO<sub>2</sub>e",
          "DEU: 10.05 Gt CO<sub>2</sub>e",
          "GRC: 1.40 Gt CO<sub>2</sub>e",
          "HUN: 1.19 Gt CO<sub>2</sub>e",
          "IRL: 0.62 Gt CO<sub>2</sub>e",
          "ITA: 7.58 Gt CO<sub>2</sub>e",
          "LVA: 0.26 Gt CO<sub>2</sub>e",
          "LTU: 0.39 Gt CO<sub>2</sub>e",
          "LUX: 0.07 Gt CO<sub>2</sub>e",
          "MLT: 0.05 Gt CO<sub>2</sub>e",
          "NLD: 2.13 Gt CO<sub>2</sub>e",
          "POL: 4.71 Gt CO<sub>2</sub>e",
          "PRT: 1.34 Gt CO<sub>2</sub>e",
          "ROU: 2.54 Gt CO<sub>2</sub>e",
          "SVK: 0.69 Gt CO<sub>2</sub>e",
          "SVN: 0.26 Gt CO<sub>2</sub>e",
          "ESP: 6.00 Gt CO<sub>2</sub>e",
          "SWE: 1.26 Gt CO<sub>2</sub>e"
         ],
         "type": "choropleth",
         "z": [
          1.0702707767486572,
          1.3884471654891968,
          0.8625169396400452,
          0.5304667353630066,
          0.15441793203353882,
          1.350719690322876,
          0.7156906723976135,
          0.16222894191741943,
          0.6919622421264648,
          8.512289047241211,
          10.049798965454102,
          1.402519941329956,
          1.191743016242981,
          0.623490035533905,
          7.577690124511719,
          0.2590424120426178,
          0.38902419805526733,
          0.07377409189939499,
          0.05322800204157829,
          2.1253983974456787,
          4.709067344665527,
          1.340574860572815,
          2.5364603996276855,
          0.6888138055801392,
          0.25747567415237427,
          6.00288200378418,
          1.259239912033081
         ],
         "zmax": 12,
         "zmin": -12
        },
        {
         "colorbar": {
          "len": 1,
          "tickfont": {
           "size": 25
          },
          "tickvals": [
           -25,
           -20,
           -15,
           -10,
           -5,
           0,
           5,
           10,
           15,
           20,
           25
          ],
          "title": {
           "text": "GHG budget<br>2021-2100<br>(Gt CO<sub>2/sub>e)"
          },
          "x": 1
         },
         "colorscale": [
          [
           0,
           "rgb(103,0,31)"
          ],
          [
           0.1,
           "rgb(178,24,43)"
          ],
          [
           0.2,
           "rgb(214,96,77)"
          ],
          [
           0.3,
           "rgb(244,165,130)"
          ],
          [
           0.4,
           "rgb(253,219,199)"
          ],
          [
           0.5,
           "rgb(247,247,247)"
          ],
          [
           0.6,
           "rgb(209,229,240)"
          ],
          [
           0.7,
           "rgb(146,197,222)"
          ],
          [
           0.8,
           "rgb(67,147,195)"
          ],
          [
           0.9,
           "rgb(33,102,172)"
          ],
          [
           1,
           "rgb(5,48,97)"
          ]
         ],
         "geo": "geo3",
         "hovertemplate": "%{text}",
         "locationmode": "ISO-3",
         "locations": [
          "AUT",
          "BEL",
          "BGR",
          "HRV",
          "CYP",
          "CZE",
          "DNK",
          "EST",
          "FIN",
          "FRA",
          "DEU",
          "GRC",
          "HUN",
          "IRL",
          "ITA",
          "LVA",
          "LTU",
          "LUX",
          "MLT",
          "NLD",
          "POL",
          "PRT",
          "ROU",
          "SVK",
          "SVN",
          "ESP",
          "SWE"
         ],
         "marker": {
          "line": {
           "color": "grey",
           "width": 0.7
          }
         },
         "name": "",
         "showscale": false,
         "text": [
          "AUT: 1.17 Gt CO<sub>2</sub>e",
          "BEL: 1.85 Gt CO<sub>2</sub>e",
          "BGR: 0.62 Gt CO<sub>2</sub>e",
          "HRV: 0.44 Gt CO<sub>2</sub>e",
          "CYP: 0.14 Gt CO<sub>2</sub>e",
          "CZE: 1.65 Gt CO<sub>2</sub>e",
          "DNK: 0.75 Gt CO<sub>2</sub>e",
          "EST: 0.30 Gt CO<sub>2</sub>e",
          "FIN: 1.01 Gt CO<sub>2</sub>e",
          "FRA: 7.38 Gt CO<sub>2</sub>e",
          "DEU: 11.63 Gt CO<sub>2</sub>e",
          "GRC: 1.36 Gt CO<sub>2</sub>e",
          "HUN: 1.23 Gt CO<sub>2</sub>e",
          "IRL: 0.87 Gt CO<sub>2</sub>e",
          "ITA: 7.09 Gt CO<sub>2</sub>e",
          "LVA: 0.21 Gt CO<sub>2</sub>e",
          "LTU: 0.43 Gt CO<sub>2</sub>e",
          "LUX: 0.12 Gt CO<sub>2</sub>e",
          "MLT: 0.05 Gt CO<sub>2</sub>e",
          "NLD: 2.84 Gt CO<sub>2</sub>e",
          "POL: 5.84 Gt CO<sub>2</sub>e",
          "PRT: 1.13 Gt CO<sub>2</sub>e",
          "ROU: 2.04 Gt CO<sub>2</sub>e",
          "SVK: 0.74 Gt CO<sub>2</sub>e",
          "SVN: 0.28 Gt CO<sub>2</sub>e",
          "ESP: 5.60 Gt CO<sub>2</sub>e",
          "SWE: 1.02 Gt CO<sub>2</sub>e"
         ],
         "type": "choropleth",
         "z": [
          1.1687207221984863,
          1.8471020460128784,
          0.6201881170272827,
          0.438711941242218,
          0.14303798973560333,
          1.6512960195541382,
          0.7540329694747925,
          0.30116647481918335,
          1.0134416818618774,
          7.378622531890869,
          11.629108428955078,
          1.3630955219268799,
          1.232121229171753,
          0.8675984740257263,
          7.086968421936035,
          0.2072751224040985,
          0.4326777458190918,
          0.12373457849025726,
          0.04829740151762962,
          2.8372373580932617,
          5.835899829864502,
          1.133244276046753,
          2.0409417152404785,
          0.7369030117988586,
          0.28395095467567444,
          5.596735954284668,
          1.0160551071166992
         ],
         "zmax": 12,
         "zmin": -12
        },
        {
         "colorbar": {
          "len": 1,
          "tickfont": {
           "size": 25
          },
          "tickvals": [
           -25,
           -20,
           -15,
           -10,
           -5,
           0,
           5,
           10,
           15,
           20,
           25
          ],
          "title": {
           "text": "GHG budget<br>2021-2100<br>(Gt CO<sub>2/sub>e)"
          },
          "x": 1
         },
         "colorscale": [
          [
           0,
           "rgb(103,0,31)"
          ],
          [
           0.1,
           "rgb(178,24,43)"
          ],
          [
           0.2,
           "rgb(214,96,77)"
          ],
          [
           0.3,
           "rgb(244,165,130)"
          ],
          [
           0.4,
           "rgb(253,219,199)"
          ],
          [
           0.5,
           "rgb(247,247,247)"
          ],
          [
           0.6,
           "rgb(209,229,240)"
          ],
          [
           0.7,
           "rgb(146,197,222)"
          ],
          [
           0.8,
           "rgb(67,147,195)"
          ],
          [
           0.9,
           "rgb(33,102,172)"
          ],
          [
           1,
           "rgb(5,48,97)"
          ]
         ],
         "geo": "geo4",
         "hovertemplate": "%{text}",
         "locationmode": "ISO-3",
         "locations": [
          "AUT",
          "BEL",
          "BGR",
          "HRV",
          "CYP",
          "CZE",
          "DNK",
          "EST",
          "FIN",
          "FRA",
          "DEU",
          "GRC",
          "HUN",
          "IRL",
          "ITA",
          "LVA",
          "LTU",
          "LUX",
          "MLT",
          "NLD",
          "POL",
          "PRT",
          "ROU",
          "SVK",
          "SVN",
          "ESP",
          "SWE"
         ],
         "marker": {
          "line": {
           "color": "grey",
           "width": 0.7
          }
         },
         "name": "",
         "showscale": false,
         "text": [
          "AUT: -0.92 Gt CO<sub>2</sub>e",
          "BEL: -4.58 Gt CO<sub>2</sub>e",
          "BGR: -1.48 Gt CO<sub>2</sub>e",
          "HRV: 0.06 Gt CO<sub>2</sub>e",
          "CYP: 0.18 Gt CO<sub>2</sub>e",
          "CZE: -6.73 Gt CO<sub>2</sub>e",
          "DNK: -1.87 Gt CO<sub>2</sub>e",
          "EST: -1.28 Gt CO<sub>2</sub>e",
          "FIN: -1.61 Gt CO<sub>2</sub>e",
          "FRA: -3.65 Gt CO<sub>2</sub>e",
          "DEU: -40.09 Gt CO<sub>2</sub>e",
          "GRC: -0.35 Gt CO<sub>2</sub>e",
          "HUN: -1.68 Gt CO<sub>2</sub>e",
          "IRL: -1.15 Gt CO<sub>2</sub>e",
          "ITA: -1.00 Gt CO<sub>2</sub>e",
          "LVA: 0.04 Gt CO<sub>2</sub>e",
          "LTU: -0.93 Gt CO<sub>2</sub>e",
          "LUX: -0.51 Gt CO<sub>2</sub>e",
          "MLT: 0.07 Gt CO<sub>2</sub>e",
          "NLD: -6.16 Gt CO<sub>2</sub>e",
          "POL: -14.70 Gt CO<sub>2</sub>e",
          "PRT: 1.30 Gt CO<sub>2</sub>e",
          "ROU: -1.64 Gt CO<sub>2</sub>e",
          "SVK: -1.10 Gt CO<sub>2</sub>e",
          "SVN: -0.13 Gt CO<sub>2</sub>e",
          "ESP: 3.81 Gt CO<sub>2</sub>e",
          "SWE: -0.46 Gt CO<sub>2</sub>e"
         ],
         "type": "choropleth",
         "z": [
          -0.9205195903778076,
          -4.57877254486084,
          -1.4794245958328247,
          0.06093177571892738,
          0.18228808045387268,
          -6.730323791503906,
          -1.8688846826553345,
          -1.2751911878585815,
          -1.611970067024231,
          -3.6491875648498535,
          -40.09333038330078,
          -0.3512778878211975,
          -1.6750894784927368,
          -1.1511586904525757,
          -1.0030217170715332,
          0.04123927652835846,
          -0.9291794300079346,
          -0.5112592577934265,
          0.06522572040557861,
          -6.162464618682861,
          -14.701048851013184,
          1.300667405128479,
          -1.6377545595169067,
          -1.1045701503753662,
          -0.13352294266223907,
          3.813819169998169,
          -0.4578523337841034
         ],
         "zmax": 12,
         "zmin": -12
        },
        {
         "colorbar": {
          "len": 1,
          "tickfont": {
           "size": 25
          },
          "tickvals": [
           -25,
           -20,
           -15,
           -10,
           -5,
           0,
           5,
           10,
           15,
           20,
           25
          ],
          "title": {
           "text": "GHG budget<br>2021-2100<br>(Gt CO<sub>2/sub>e)"
          },
          "x": 1
         },
         "colorscale": [
          [
           0,
           "rgb(103,0,31)"
          ],
          [
           0.1,
           "rgb(178,24,43)"
          ],
          [
           0.2,
           "rgb(214,96,77)"
          ],
          [
           0.3,
           "rgb(244,165,130)"
          ],
          [
           0.4,
           "rgb(253,219,199)"
          ],
          [
           0.5,
           "rgb(247,247,247)"
          ],
          [
           0.6,
           "rgb(209,229,240)"
          ],
          [
           0.7,
           "rgb(146,197,222)"
          ],
          [
           0.8,
           "rgb(67,147,195)"
          ],
          [
           0.9,
           "rgb(33,102,172)"
          ],
          [
           1,
           "rgb(5,48,97)"
          ]
         ],
         "geo": "geo5",
         "hovertemplate": "%{text}",
         "locationmode": "ISO-3",
         "locations": [
          "AUT",
          "BEL",
          "BGR",
          "HRV",
          "CYP",
          "CZE",
          "DNK",
          "EST",
          "FIN",
          "FRA",
          "DEU",
          "GRC",
          "HUN",
          "IRL",
          "ITA",
          "LVA",
          "LTU",
          "LUX",
          "MLT",
          "NLD",
          "POL",
          "PRT",
          "ROU",
          "SVK",
          "SVN",
          "ESP",
          "SWE"
         ],
         "marker": {
          "line": {
           "color": "grey",
           "width": 0.7
          }
         },
         "name": "",
         "showscale": false,
         "text": [
          "AUT: 0.16 Gt CO<sub>2</sub>e",
          "BEL: 0.57 Gt CO<sub>2</sub>e",
          "BGR: 0.24 Gt CO<sub>2</sub>e",
          "HRV: 0.33 Gt CO<sub>2</sub>e",
          "CYP: 0.10 Gt CO<sub>2</sub>e",
          "CZE: 0.24 Gt CO<sub>2</sub>e",
          "DNK: 0.23 Gt CO<sub>2</sub>e",
          "EST: 0.13 Gt CO<sub>2</sub>e",
          "FIN: 0.26 Gt CO<sub>2</sub>e",
          "FRA: 2.54 Gt CO<sub>2</sub>e",
          "DEU: 1.82 Gt CO<sub>2</sub>e",
          "GRC: 0.52 Gt CO<sub>2</sub>e",
          "HUN: 0.78 Gt CO<sub>2</sub>e",
          "IRL: 0.23 Gt CO<sub>2</sub>e",
          "ITA: 3.21 Gt CO<sub>2</sub>e",
          "LVA: 0.10 Gt CO<sub>2</sub>e",
          "LTU: 0.32 Gt CO<sub>2</sub>e",
          "LUX: -0.01 Gt CO<sub>2</sub>e",
          "MLT: 0.02 Gt CO<sub>2</sub>e",
          "NLD: 0.57 Gt CO<sub>2</sub>e",
          "POL: 3.60 Gt CO<sub>2</sub>e",
          "PRT: 0.60 Gt CO<sub>2</sub>e",
          "ROU: 1.27 Gt CO<sub>2</sub>e",
          "SVK: 0.00 Gt CO<sub>2</sub>e",
          "SVN: 0.13 Gt CO<sub>2</sub>e",
          "ESP: 3.07 Gt CO<sub>2</sub>e",
          "SWE: 0.16 Gt CO<sub>2</sub>e"
         ],
         "type": "choropleth",
         "z": [
          0.15546700358390808,
          0.5735655426979065,
          0.24409648776054382,
          0.33218544721603394,
          0.10485516488552094,
          0.24367275834083557,
          0.2271740436553955,
          0.1313006728887558,
          0.2625792622566223,
          2.5408992767333984,
          1.816125512123108,
          0.5215057730674744,
          0.7826120257377625,
          0.2312435656785965,
          3.214401960372925,
          0.102633535861969,
          0.31626594066619873,
          -0.011677081696689129,
          0.02453210949897766,
          0.5742533802986145,
          3.5992352962493896,
          0.5956998467445374,
          1.2720555067062378,
          0,
          0.12534278631210327,
          3.070770263671875,
          0.15747085213661194
         ],
         "zmax": 12,
         "zmin": -12
        },
        {
         "colorbar": {
          "len": 1,
          "tickfont": {
           "size": 25
          },
          "tickvals": [
           -25,
           -20,
           -15,
           -10,
           -5,
           0,
           5,
           10,
           15,
           20,
           25
          ],
          "title": {
           "text": "GHG budget<br>2021-2100<br>(Gt CO<sub>2/sub>e)"
          },
          "x": 1
         },
         "colorscale": [
          [
           0,
           "rgb(103,0,31)"
          ],
          [
           0.1,
           "rgb(178,24,43)"
          ],
          [
           0.2,
           "rgb(214,96,77)"
          ],
          [
           0.3,
           "rgb(244,165,130)"
          ],
          [
           0.4,
           "rgb(253,219,199)"
          ],
          [
           0.5,
           "rgb(247,247,247)"
          ],
          [
           0.6,
           "rgb(209,229,240)"
          ],
          [
           0.7,
           "rgb(146,197,222)"
          ],
          [
           0.8,
           "rgb(67,147,195)"
          ],
          [
           0.9,
           "rgb(33,102,172)"
          ],
          [
           1,
           "rgb(5,48,97)"
          ]
         ],
         "geo": "geo6",
         "hovertemplate": "%{text}",
         "locationmode": "ISO-3",
         "locations": [
          "AUT",
          "BEL",
          "BGR",
          "HRV",
          "CYP",
          "CZE",
          "DNK",
          "EST",
          "FIN",
          "FRA",
          "DEU",
          "GRC",
          "HUN",
          "IRL",
          "ITA",
          "LVA",
          "LTU",
          "LUX",
          "MLT",
          "NLD",
          "POL",
          "PRT",
          "ROU",
          "SVK",
          "SVN",
          "ESP",
          "SWE"
         ],
         "marker": {
          "line": {
           "color": "grey",
           "width": 0.7
          }
         },
         "name": "",
         "showscale": false,
         "text": [
          "AUT: -8.90 Gt CO<sub>2</sub>e",
          "BEL: -11.91 Gt CO<sub>2</sub>e",
          "BGR: -1.62 Gt CO<sub>2</sub>e",
          "HRV: -0.81 Gt CO<sub>2</sub>e",
          "CYP: -0.41 Gt CO<sub>2</sub>e",
          "CZE: -7.30 Gt CO<sub>2</sub>e",
          "DNK: -8.77 Gt CO<sub>2</sub>e",
          "EST: -0.37 Gt CO<sub>2</sub>e",
          "FIN: -4.30 Gt CO<sub>2</sub>e",
          "FRA: -64.68 Gt CO<sub>2</sub>e",
          "DEU: -92.59 Gt CO<sub>2</sub>e",
          "GRC: -4.49 Gt CO<sub>2</sub>e",
          "HUN: -1.29 Gt CO<sub>2</sub>e",
          "IRL: -9.90 Gt CO<sub>2</sub>e",
          "ITA: -38.84 Gt CO<sub>2</sub>e",
          "LVA: -0.40 Gt CO<sub>2</sub>e",
          "LTU: -0.51 Gt CO<sub>2</sub>e",
          "LUX: -1.94 Gt CO<sub>2</sub>e",
          "MLT: -0.35 Gt CO<sub>2</sub>e",
          "NLD: -21.10 Gt CO<sub>2</sub>e",
          "POL: -6.21 Gt CO<sub>2</sub>e",
          "PRT: -3.93 Gt CO<sub>2</sub>e",
          "ROU: -1.44 Gt CO<sub>2</sub>e",
          "SVK: 0.00 Gt CO<sub>2</sub>e",
          "SVN: -1.06 Gt CO<sub>2</sub>e",
          "ESP: -25.90 Gt CO<sub>2</sub>e",
          "SWE: -13.79 Gt CO<sub>2</sub>e"
         ],
         "type": "choropleth",
         "z": [
          -8.895646095275879,
          -11.911202430725098,
          -1.6244467496871948,
          -0.8087363839149475,
          -0.4073559641838074,
          -7.296949863433838,
          -8.76695442199707,
          -0.3702141344547272,
          -4.304648399353027,
          -64.68285369873047,
          -92.58985900878906,
          -4.48691463470459,
          -1.290738582611084,
          -9.898578643798828,
          -38.84324645996094,
          -0.39984583854675293,
          -0.506068229675293,
          -1.9447517395019531,
          -0.35213208198547363,
          -21.101268768310547,
          -6.212680339813232,
          -3.9316530227661133,
          -1.4355393648147583,
          0,
          -1.0629875659942627,
          -25.904539108276367,
          -13.792726516723633
         ],
         "zmax": 12,
         "zmin": -12
        },
        {
         "featureidkey": "properties.NAME_3",
         "geo": "geo",
         "hoverinfo": "skip",
         "locations": [
          "AUT",
          "BEL",
          "BGR",
          "HRV",
          "CYP",
          "CZE",
          "DNK",
          "EST",
          "FIN",
          "FRA",
          "DEU",
          "GRC",
          "HUN",
          "IRL",
          "ITA",
          "LVA",
          "LTU",
          "LUX",
          "MLT",
          "NLD",
          "POL",
          "PRT",
          "ROU",
          "SVK",
          "SVN",
          "ESP",
          "SWE"
         ],
         "mode": "text",
         "showlegend": false,
         "text": [
          1.3,
          2.3,
          0.4,
          0.4,
          0.1,
          1.9,
          0.8,
          0.4,
          1.3,
          6.4,
          13,
          1.3,
          1.3,
          1.1,
          6.7,
          0.2,
          0.5,
          0.2,
          0,
          3.5,
          6.8,
          1,
          1.6,
          0.8,
          0.3,
          5.2,
          0.8
         ],
         "textfont": {
          "color": [
           "black",
           "black",
           "black",
           "black",
           "black",
           "black",
           "black",
           "black",
           "black",
           "black",
           "black",
           "black",
           "black",
           "black",
           "black",
           "black",
           "black",
           "black",
           "black",
           "black",
           "black",
           "black",
           "black",
           "black",
           "black",
           "black",
           "black"
          ],
          "size": 20
         },
         "type": "scattergeo"
        },
        {
         "featureidkey": "properties.NAME_3",
         "geo": "geo2",
         "hoverinfo": "skip",
         "locations": [
          "AUT",
          "BEL",
          "BGR",
          "HRV",
          "CYP",
          "CZE",
          "DNK",
          "EST",
          "FIN",
          "FRA",
          "DEU",
          "GRC",
          "HUN",
          "IRL",
          "ITA",
          "LVA",
          "LTU",
          "LUX",
          "MLT",
          "NLD",
          "POL",
          "PRT",
          "ROU",
          "SVK",
          "SVN",
          "ESP",
          "SWE"
         ],
         "mode": "text",
         "showlegend": false,
         "text": [
          1.1,
          1.4,
          0.9,
          0.5,
          0.2,
          1.4,
          0.7,
          0.2,
          0.7,
          8.5,
          10,
          1.4,
          1.2,
          0.6,
          7.6,
          0.3,
          0.4,
          0.1,
          0.1,
          2.1,
          4.7,
          1.3,
          2.5,
          0.7,
          0.3,
          6,
          1.3
         ],
         "textfont": {
          "color": [
           "black",
           "black",
           "black",
           "black",
           "black",
           "black",
           "black",
           "black",
           "black",
           "black",
           "black",
           "black",
           "black",
           "black",
           "black",
           "black",
           "black",
           "black",
           "black",
           "black",
           "black",
           "black",
           "black",
           "black",
           "black",
           "black",
           "black"
          ],
          "size": 20
         },
         "type": "scattergeo"
        },
        {
         "featureidkey": "properties.NAME_3",
         "geo": "geo3",
         "hoverinfo": "skip",
         "locations": [
          "AUT",
          "BEL",
          "BGR",
          "HRV",
          "CYP",
          "CZE",
          "DNK",
          "EST",
          "FIN",
          "FRA",
          "DEU",
          "GRC",
          "HUN",
          "IRL",
          "ITA",
          "LVA",
          "LTU",
          "LUX",
          "MLT",
          "NLD",
          "POL",
          "PRT",
          "ROU",
          "SVK",
          "SVN",
          "ESP",
          "SWE"
         ],
         "mode": "text",
         "showlegend": false,
         "text": [
          1.2,
          1.8,
          0.6,
          0.4,
          0.1,
          1.7,
          0.8,
          0.3,
          1,
          7.4,
          11.6,
          1.4,
          1.2,
          0.9,
          7.1,
          0.2,
          0.4,
          0.1,
          0,
          2.8,
          5.8,
          1.1,
          2,
          0.7,
          0.3,
          5.6,
          1
         ],
         "textfont": {
          "color": [
           "black",
           "black",
           "black",
           "black",
           "black",
           "black",
           "black",
           "black",
           "black",
           "black",
           "black",
           "black",
           "black",
           "black",
           "black",
           "black",
           "black",
           "black",
           "black",
           "black",
           "black",
           "black",
           "black",
           "black",
           "black",
           "black",
           "black"
          ],
          "size": 20
         },
         "type": "scattergeo"
        },
        {
         "featureidkey": "properties.NAME_3",
         "geo": "geo4",
         "hoverinfo": "skip",
         "locations": [
          "AUT",
          "BEL",
          "BGR",
          "HRV",
          "CYP",
          "CZE",
          "DNK",
          "EST",
          "FIN",
          "FRA",
          "DEU",
          "GRC",
          "HUN",
          "IRL",
          "ITA",
          "LVA",
          "LTU",
          "LUX",
          "MLT",
          "NLD",
          "POL",
          "PRT",
          "ROU",
          "SVK",
          "SVN",
          "ESP",
          "SWE"
         ],
         "mode": "text",
         "showlegend": false,
         "text": [
          -0.9,
          -4.6,
          -1.5,
          0.1,
          0.2,
          -6.7,
          -1.9,
          -1.3,
          -1.6,
          -3.6,
          -40.1,
          -0.4,
          -1.7,
          -1.2,
          -1,
          0,
          -0.9,
          -0.5,
          0.1,
          -6.2,
          -14.7,
          1.3,
          -1.6,
          -1.1,
          -0.1,
          3.8,
          -0.5
         ],
         "textfont": {
          "color": [
           "black",
           "black",
           "black",
           "black",
           "black",
           "black",
           "black",
           "black",
           "black",
           "black",
           "black",
           "black",
           "black",
           "black",
           "black",
           "black",
           "black",
           "black",
           "black",
           "black",
           "black",
           "black",
           "black",
           "black",
           "black",
           "black",
           "black"
          ],
          "size": 20
         },
         "type": "scattergeo"
        },
        {
         "featureidkey": "properties.NAME_3",
         "geo": "geo5",
         "hoverinfo": "skip",
         "locations": [
          "AUT",
          "BEL",
          "BGR",
          "HRV",
          "CYP",
          "CZE",
          "DNK",
          "EST",
          "FIN",
          "FRA",
          "DEU",
          "GRC",
          "HUN",
          "IRL",
          "ITA",
          "LVA",
          "LTU",
          "LUX",
          "MLT",
          "NLD",
          "POL",
          "PRT",
          "ROU",
          "SVK",
          "SVN",
          "ESP",
          "SWE"
         ],
         "mode": "text",
         "showlegend": false,
         "text": [
          0.2,
          0.6,
          0.2,
          0.3,
          0.1,
          0.2,
          0.2,
          0.1,
          0.3,
          2.5,
          1.8,
          0.5,
          0.8,
          0.2,
          3.2,
          0.1,
          0.3,
          0,
          0,
          0.6,
          3.6,
          0.6,
          1.3,
          0,
          0.1,
          3.1,
          0.2
         ],
         "textfont": {
          "color": [
           "black",
           "black",
           "black",
           "black",
           "black",
           "black",
           "black",
           "black",
           "black",
           "black",
           "black",
           "black",
           "black",
           "black",
           "black",
           "black",
           "black",
           "black",
           "black",
           "black",
           "black",
           "black",
           "black",
           "black",
           "black",
           "black",
           "black"
          ],
          "size": 20
         },
         "type": "scattergeo"
        },
        {
         "featureidkey": "properties.NAME_3",
         "geo": "geo6",
         "hoverinfo": "skip",
         "locations": [
          "AUT",
          "BEL",
          "BGR",
          "HRV",
          "CYP",
          "CZE",
          "DNK",
          "EST",
          "FIN",
          "FRA",
          "DEU",
          "GRC",
          "HUN",
          "IRL",
          "ITA",
          "LVA",
          "LTU",
          "LUX",
          "MLT",
          "NLD",
          "POL",
          "PRT",
          "ROU",
          "SVK",
          "SVN",
          "ESP",
          "SWE"
         ],
         "mode": "text",
         "showlegend": false,
         "text": [
          -8.9,
          -11.9,
          -1.6,
          -0.8,
          -0.4,
          -7.3,
          -8.8,
          -0.4,
          -4.3,
          -64.7,
          -92.6,
          -4.5,
          -1.3,
          -9.9,
          -38.8,
          -0.4,
          -0.5,
          -1.9,
          -0.4,
          -21.1,
          -6.2,
          -3.9,
          -1.4,
          0,
          -1.1,
          -25.9,
          -13.8
         ],
         "textfont": {
          "color": [
           "black",
           "black",
           "black",
           "black",
           "black",
           "black",
           "black",
           "black",
           "black",
           "black",
           "black",
           "black",
           "black",
           "black",
           "black",
           "black",
           "black",
           "black",
           "black",
           "black",
           "black",
           "black",
           "black",
           "black",
           "black",
           "black",
           "black"
          ],
          "size": 20
         },
         "type": "scattergeo"
        }
       ],
       "layout": {
        "annotations": [
         {
          "align": "left",
          "ax": 0,
          "ay": 0,
          "font": {
           "color": "black",
           "size": 25
          },
          "showarrow": false,
          "text": "<b>(a) Grandfathering</b>",
          "x": 0.07,
          "xref": "paper",
          "y": 0.96,
          "yref": "paper"
         },
         {
          "align": "left",
          "ax": 0,
          "ay": 0,
          "font": {
           "color": "black",
           "size": 25
          },
          "showarrow": false,
          "text": "<b>(b) Per Capita</b>",
          "x": 0.47,
          "xref": "paper",
          "y": 0.96,
          "yref": "paper"
         },
         {
          "align": "left",
          "ax": 0,
          "ay": 0,
          "font": {
           "color": "black",
           "size": 25
          },
          "showarrow": false,
          "text": "<b>(c) Per Capita Convergence</b>",
          "x": 0.9,
          "xref": "paper",
          "y": 0.96,
          "yref": "paper"
         },
         {
          "align": "left",
          "ax": 0,
          "ay": 0,
          "font": {
           "color": "black",
           "size": 25
          },
          "showarrow": false,
          "text": "<b>(d) Equal Cumulative per Capita</b>",
          "x": 0.07,
          "xref": "paper",
          "y": 0.45,
          "yref": "paper"
         },
         {
          "align": "left",
          "ax": 0,
          "ay": 0,
          "font": {
           "color": "black",
           "size": 25
          },
          "showarrow": false,
          "text": "<b>(e) Ability to Pay</b>",
          "x": 0.48,
          "xref": "paper",
          "y": 0.45,
          "yref": "paper"
         },
         {
          "align": "left",
          "ax": 0,
          "ay": 0,
          "font": {
           "color": "black",
           "size": 25
          },
          "showarrow": false,
          "text": "<b>(f) Greenhouse Development Rights</b>",
          "x": 0.95,
          "xref": "paper",
          "y": 0.45,
          "yref": "paper"
         }
        ],
        "geo": {
         "domain": {
          "x": [
           0,
           0.3333333333333333
          ],
          "y": [
           0.5,
           1
          ]
         },
         "lakecolor": "rgb(255, 255, 255)",
         "lataxis": {
          "range": [
           30,
           75
          ]
         },
         "lonaxis": {
          "range": [
           -20,
           40
          ]
         },
         "projection": {
          "type": "natural earth"
         },
         "resolution": 50,
         "scope": "europe",
         "showcoastlines": false,
         "showcountries": false,
         "showlakes": true,
         "visible": true
        },
        "geo2": {
         "domain": {
          "x": [
           0.3333333333333333,
           0.6666666666666666
          ],
          "y": [
           0.5,
           1
          ]
         },
         "lakecolor": "rgb(255, 255, 255)",
         "lataxis": {
          "range": [
           30,
           75
          ]
         },
         "lonaxis": {
          "range": [
           -20,
           40
          ]
         },
         "projection": {
          "type": "natural earth"
         },
         "resolution": 50,
         "scope": "europe",
         "showcoastlines": false,
         "showcountries": false,
         "showlakes": true,
         "visible": true
        },
        "geo3": {
         "domain": {
          "x": [
           0.6666666666666666,
           1
          ],
          "y": [
           0.5,
           1
          ]
         },
         "lakecolor": "rgb(255, 255, 255)",
         "lataxis": {
          "range": [
           30,
           75
          ]
         },
         "lonaxis": {
          "range": [
           -20,
           40
          ]
         },
         "projection": {
          "type": "natural earth"
         },
         "resolution": 50,
         "scope": "europe",
         "showcoastlines": false,
         "showcountries": false,
         "showlakes": true,
         "visible": true
        },
        "geo4": {
         "domain": {
          "x": [
           0,
           0.3333333333333333
          ],
          "y": [
           0,
           0.5
          ]
         },
         "lakecolor": "rgb(255, 255, 255)",
         "lataxis": {
          "range": [
           30,
           75
          ]
         },
         "lonaxis": {
          "range": [
           -20,
           40
          ]
         },
         "projection": {
          "type": "natural earth"
         },
         "resolution": 50,
         "scope": "europe",
         "showcoastlines": false,
         "showcountries": false,
         "showlakes": true,
         "visible": true
        },
        "geo5": {
         "domain": {
          "x": [
           0.3333333333333333,
           0.6666666666666666
          ],
          "y": [
           0,
           0.5
          ]
         },
         "lakecolor": "rgb(255, 255, 255)",
         "lataxis": {
          "range": [
           30,
           75
          ]
         },
         "lonaxis": {
          "range": [
           -20,
           40
          ]
         },
         "projection": {
          "type": "natural earth"
         },
         "resolution": 50,
         "scope": "europe",
         "showcoastlines": false,
         "showcountries": false,
         "showlakes": true,
         "visible": true
        },
        "geo6": {
         "domain": {
          "x": [
           0.6666666666666666,
           1
          ],
          "y": [
           0,
           0.5
          ]
         },
         "lakecolor": "rgb(255, 255, 255)",
         "lataxis": {
          "range": [
           30,
           75
          ]
         },
         "lonaxis": {
          "range": [
           -20,
           40
          ]
         },
         "projection": {
          "type": "natural earth"
         },
         "resolution": 50,
         "scope": "europe",
         "showcoastlines": false,
         "showcountries": false,
         "showlakes": true,
         "visible": true
        },
        "height": 1200,
        "margin": {
         "b": 0,
         "l": 0,
         "r": 0,
         "t": 0
        },
        "template": {
         "data": {
          "bar": [
           {
            "error_x": {
             "color": "#2a3f5f"
            },
            "error_y": {
             "color": "#2a3f5f"
            },
            "marker": {
             "line": {
              "color": "#E5ECF6",
              "width": 0.5
             }
            },
            "type": "bar"
           }
          ],
          "barpolar": [
           {
            "marker": {
             "line": {
              "color": "#E5ECF6",
              "width": 0.5
             }
            },
            "type": "barpolar"
           }
          ],
          "carpet": [
           {
            "aaxis": {
             "endlinecolor": "#2a3f5f",
             "gridcolor": "white",
             "linecolor": "white",
             "minorgridcolor": "white",
             "startlinecolor": "#2a3f5f"
            },
            "baxis": {
             "endlinecolor": "#2a3f5f",
             "gridcolor": "white",
             "linecolor": "white",
             "minorgridcolor": "white",
             "startlinecolor": "#2a3f5f"
            },
            "type": "carpet"
           }
          ],
          "choropleth": [
           {
            "colorbar": {
             "outlinewidth": 0,
             "ticks": ""
            },
            "type": "choropleth"
           }
          ],
          "contour": [
           {
            "colorbar": {
             "outlinewidth": 0,
             "ticks": ""
            },
            "colorscale": [
             [
              0,
              "#0d0887"
             ],
             [
              0.1111111111111111,
              "#46039f"
             ],
             [
              0.2222222222222222,
              "#7201a8"
             ],
             [
              0.3333333333333333,
              "#9c179e"
             ],
             [
              0.4444444444444444,
              "#bd3786"
             ],
             [
              0.5555555555555556,
              "#d8576b"
             ],
             [
              0.6666666666666666,
              "#ed7953"
             ],
             [
              0.7777777777777778,
              "#fb9f3a"
             ],
             [
              0.8888888888888888,
              "#fdca26"
             ],
             [
              1,
              "#f0f921"
             ]
            ],
            "type": "contour"
           }
          ],
          "contourcarpet": [
           {
            "colorbar": {
             "outlinewidth": 0,
             "ticks": ""
            },
            "type": "contourcarpet"
           }
          ],
          "heatmap": [
           {
            "colorbar": {
             "outlinewidth": 0,
             "ticks": ""
            },
            "colorscale": [
             [
              0,
              "#0d0887"
             ],
             [
              0.1111111111111111,
              "#46039f"
             ],
             [
              0.2222222222222222,
              "#7201a8"
             ],
             [
              0.3333333333333333,
              "#9c179e"
             ],
             [
              0.4444444444444444,
              "#bd3786"
             ],
             [
              0.5555555555555556,
              "#d8576b"
             ],
             [
              0.6666666666666666,
              "#ed7953"
             ],
             [
              0.7777777777777778,
              "#fb9f3a"
             ],
             [
              0.8888888888888888,
              "#fdca26"
             ],
             [
              1,
              "#f0f921"
             ]
            ],
            "type": "heatmap"
           }
          ],
          "heatmapgl": [
           {
            "colorbar": {
             "outlinewidth": 0,
             "ticks": ""
            },
            "colorscale": [
             [
              0,
              "#0d0887"
             ],
             [
              0.1111111111111111,
              "#46039f"
             ],
             [
              0.2222222222222222,
              "#7201a8"
             ],
             [
              0.3333333333333333,
              "#9c179e"
             ],
             [
              0.4444444444444444,
              "#bd3786"
             ],
             [
              0.5555555555555556,
              "#d8576b"
             ],
             [
              0.6666666666666666,
              "#ed7953"
             ],
             [
              0.7777777777777778,
              "#fb9f3a"
             ],
             [
              0.8888888888888888,
              "#fdca26"
             ],
             [
              1,
              "#f0f921"
             ]
            ],
            "type": "heatmapgl"
           }
          ],
          "histogram": [
           {
            "marker": {
             "colorbar": {
              "outlinewidth": 0,
              "ticks": ""
             }
            },
            "type": "histogram"
           }
          ],
          "histogram2d": [
           {
            "colorbar": {
             "outlinewidth": 0,
             "ticks": ""
            },
            "colorscale": [
             [
              0,
              "#0d0887"
             ],
             [
              0.1111111111111111,
              "#46039f"
             ],
             [
              0.2222222222222222,
              "#7201a8"
             ],
             [
              0.3333333333333333,
              "#9c179e"
             ],
             [
              0.4444444444444444,
              "#bd3786"
             ],
             [
              0.5555555555555556,
              "#d8576b"
             ],
             [
              0.6666666666666666,
              "#ed7953"
             ],
             [
              0.7777777777777778,
              "#fb9f3a"
             ],
             [
              0.8888888888888888,
              "#fdca26"
             ],
             [
              1,
              "#f0f921"
             ]
            ],
            "type": "histogram2d"
           }
          ],
          "histogram2dcontour": [
           {
            "colorbar": {
             "outlinewidth": 0,
             "ticks": ""
            },
            "colorscale": [
             [
              0,
              "#0d0887"
             ],
             [
              0.1111111111111111,
              "#46039f"
             ],
             [
              0.2222222222222222,
              "#7201a8"
             ],
             [
              0.3333333333333333,
              "#9c179e"
             ],
             [
              0.4444444444444444,
              "#bd3786"
             ],
             [
              0.5555555555555556,
              "#d8576b"
             ],
             [
              0.6666666666666666,
              "#ed7953"
             ],
             [
              0.7777777777777778,
              "#fb9f3a"
             ],
             [
              0.8888888888888888,
              "#fdca26"
             ],
             [
              1,
              "#f0f921"
             ]
            ],
            "type": "histogram2dcontour"
           }
          ],
          "mesh3d": [
           {
            "colorbar": {
             "outlinewidth": 0,
             "ticks": ""
            },
            "type": "mesh3d"
           }
          ],
          "parcoords": [
           {
            "line": {
             "colorbar": {
              "outlinewidth": 0,
              "ticks": ""
             }
            },
            "type": "parcoords"
           }
          ],
          "pie": [
           {
            "automargin": true,
            "type": "pie"
           }
          ],
          "scatter": [
           {
            "marker": {
             "colorbar": {
              "outlinewidth": 0,
              "ticks": ""
             }
            },
            "type": "scatter"
           }
          ],
          "scatter3d": [
           {
            "line": {
             "colorbar": {
              "outlinewidth": 0,
              "ticks": ""
             }
            },
            "marker": {
             "colorbar": {
              "outlinewidth": 0,
              "ticks": ""
             }
            },
            "type": "scatter3d"
           }
          ],
          "scattercarpet": [
           {
            "marker": {
             "colorbar": {
              "outlinewidth": 0,
              "ticks": ""
             }
            },
            "type": "scattercarpet"
           }
          ],
          "scattergeo": [
           {
            "marker": {
             "colorbar": {
              "outlinewidth": 0,
              "ticks": ""
             }
            },
            "type": "scattergeo"
           }
          ],
          "scattergl": [
           {
            "marker": {
             "colorbar": {
              "outlinewidth": 0,
              "ticks": ""
             }
            },
            "type": "scattergl"
           }
          ],
          "scattermapbox": [
           {
            "marker": {
             "colorbar": {
              "outlinewidth": 0,
              "ticks": ""
             }
            },
            "type": "scattermapbox"
           }
          ],
          "scatterpolar": [
           {
            "marker": {
             "colorbar": {
              "outlinewidth": 0,
              "ticks": ""
             }
            },
            "type": "scatterpolar"
           }
          ],
          "scatterpolargl": [
           {
            "marker": {
             "colorbar": {
              "outlinewidth": 0,
              "ticks": ""
             }
            },
            "type": "scatterpolargl"
           }
          ],
          "scatterternary": [
           {
            "marker": {
             "colorbar": {
              "outlinewidth": 0,
              "ticks": ""
             }
            },
            "type": "scatterternary"
           }
          ],
          "surface": [
           {
            "colorbar": {
             "outlinewidth": 0,
             "ticks": ""
            },
            "colorscale": [
             [
              0,
              "#0d0887"
             ],
             [
              0.1111111111111111,
              "#46039f"
             ],
             [
              0.2222222222222222,
              "#7201a8"
             ],
             [
              0.3333333333333333,
              "#9c179e"
             ],
             [
              0.4444444444444444,
              "#bd3786"
             ],
             [
              0.5555555555555556,
              "#d8576b"
             ],
             [
              0.6666666666666666,
              "#ed7953"
             ],
             [
              0.7777777777777778,
              "#fb9f3a"
             ],
             [
              0.8888888888888888,
              "#fdca26"
             ],
             [
              1,
              "#f0f921"
             ]
            ],
            "type": "surface"
           }
          ],
          "table": [
           {
            "cells": {
             "fill": {
              "color": "#EBF0F8"
             },
             "line": {
              "color": "white"
             }
            },
            "header": {
             "fill": {
              "color": "#C8D4E3"
             },
             "line": {
              "color": "white"
             }
            },
            "type": "table"
           }
          ]
         },
         "layout": {
          "annotationdefaults": {
           "arrowcolor": "#2a3f5f",
           "arrowhead": 0,
           "arrowwidth": 1
          },
          "coloraxis": {
           "colorbar": {
            "outlinewidth": 0,
            "ticks": ""
           }
          },
          "colorscale": {
           "diverging": [
            [
             0,
             "#8e0152"
            ],
            [
             0.1,
             "#c51b7d"
            ],
            [
             0.2,
             "#de77ae"
            ],
            [
             0.3,
             "#f1b6da"
            ],
            [
             0.4,
             "#fde0ef"
            ],
            [
             0.5,
             "#f7f7f7"
            ],
            [
             0.6,
             "#e6f5d0"
            ],
            [
             0.7,
             "#b8e186"
            ],
            [
             0.8,
             "#7fbc41"
            ],
            [
             0.9,
             "#4d9221"
            ],
            [
             1,
             "#276419"
            ]
           ],
           "sequential": [
            [
             0,
             "#0d0887"
            ],
            [
             0.1111111111111111,
             "#46039f"
            ],
            [
             0.2222222222222222,
             "#7201a8"
            ],
            [
             0.3333333333333333,
             "#9c179e"
            ],
            [
             0.4444444444444444,
             "#bd3786"
            ],
            [
             0.5555555555555556,
             "#d8576b"
            ],
            [
             0.6666666666666666,
             "#ed7953"
            ],
            [
             0.7777777777777778,
             "#fb9f3a"
            ],
            [
             0.8888888888888888,
             "#fdca26"
            ],
            [
             1,
             "#f0f921"
            ]
           ],
           "sequentialminus": [
            [
             0,
             "#0d0887"
            ],
            [
             0.1111111111111111,
             "#46039f"
            ],
            [
             0.2222222222222222,
             "#7201a8"
            ],
            [
             0.3333333333333333,
             "#9c179e"
            ],
            [
             0.4444444444444444,
             "#bd3786"
            ],
            [
             0.5555555555555556,
             "#d8576b"
            ],
            [
             0.6666666666666666,
             "#ed7953"
            ],
            [
             0.7777777777777778,
             "#fb9f3a"
            ],
            [
             0.8888888888888888,
             "#fdca26"
            ],
            [
             1,
             "#f0f921"
            ]
           ]
          },
          "colorway": [
           "#636efa",
           "#EF553B",
           "#00cc96",
           "#ab63fa",
           "#FFA15A",
           "#19d3f3",
           "#FF6692",
           "#B6E880",
           "#FF97FF",
           "#FECB52"
          ],
          "font": {
           "color": "#2a3f5f"
          },
          "geo": {
           "bgcolor": "white",
           "lakecolor": "white",
           "landcolor": "#E5ECF6",
           "showlakes": true,
           "showland": true,
           "subunitcolor": "white"
          },
          "hoverlabel": {
           "align": "left"
          },
          "hovermode": "closest",
          "mapbox": {
           "style": "light"
          },
          "paper_bgcolor": "white",
          "plot_bgcolor": "#E5ECF6",
          "polar": {
           "angularaxis": {
            "gridcolor": "white",
            "linecolor": "white",
            "ticks": ""
           },
           "bgcolor": "#E5ECF6",
           "radialaxis": {
            "gridcolor": "white",
            "linecolor": "white",
            "ticks": ""
           }
          },
          "scene": {
           "xaxis": {
            "backgroundcolor": "#E5ECF6",
            "gridcolor": "white",
            "gridwidth": 2,
            "linecolor": "white",
            "showbackground": true,
            "ticks": "",
            "zerolinecolor": "white"
           },
           "yaxis": {
            "backgroundcolor": "#E5ECF6",
            "gridcolor": "white",
            "gridwidth": 2,
            "linecolor": "white",
            "showbackground": true,
            "ticks": "",
            "zerolinecolor": "white"
           },
           "zaxis": {
            "backgroundcolor": "#E5ECF6",
            "gridcolor": "white",
            "gridwidth": 2,
            "linecolor": "white",
            "showbackground": true,
            "ticks": "",
            "zerolinecolor": "white"
           }
          },
          "shapedefaults": {
           "line": {
            "color": "#2a3f5f"
           }
          },
          "ternary": {
           "aaxis": {
            "gridcolor": "white",
            "linecolor": "white",
            "ticks": ""
           },
           "baxis": {
            "gridcolor": "white",
            "linecolor": "white",
            "ticks": ""
           },
           "bgcolor": "#E5ECF6",
           "caxis": {
            "gridcolor": "white",
            "linecolor": "white",
            "ticks": ""
           }
          },
          "title": {
           "x": 0.05
          },
          "xaxis": {
           "automargin": true,
           "gridcolor": "white",
           "linecolor": "white",
           "ticks": "",
           "title": {
            "standoff": 15
           },
           "zerolinecolor": "white",
           "zerolinewidth": 2
          },
          "yaxis": {
           "automargin": true,
           "gridcolor": "white",
           "linecolor": "white",
           "ticks": "",
           "title": {
            "standoff": 15
           },
           "zerolinecolor": "white",
           "zerolinewidth": 2
          }
         }
        },
        "width": 2300
       }
      }
     },
     "metadata": {},
     "output_type": "display_data"
    }
   ],
   "source": [
    "fig = make_subplots(rows=2, cols=3, #subplot_titles=('Grandfathering (GF)',\n",
    "                                                    # 'Per Capita (PC)',\n",
    "                                                    # 'Per Capita Convergence (PCC)',\n",
    "                                                    # 'Equal Cumulative Per Capita',\n",
    "                                                    # 'Ability to pay (AP)',\n",
    "                                                    # 'Greenhouse Development Rights'), \n",
    "                                    specs=[[{'type': 'choropleth'}, {'type': 'choropleth'}, {'type': 'choropleth'}],\n",
    "                                           [{'type': 'choropleth'}, {'type': 'choropleth'}, {'type': 'choropleth'}]],\n",
    "                                    horizontal_spacing = 0,\n",
    "                                    vertical_spacing=0)\n",
    "\n",
    "colorbar_abs = dict(len=1, x=1, tickvals = [0, 1, 2, 3], ticktext = ['1', '10', '100', '1000'])\n",
    "colorbar_pc = dict(len=1, x=1)\n",
    "\n",
    "for var_i, var in enumerate(rules):\n",
    "    if var_i == 0:\n",
    "        cm= True\n",
    "    else:\n",
    "        cm= False\n",
    "    fig.add_trace(\n",
    "        go.Choropleth(\n",
    "        locations=group_eu,\n",
    "        z = data[var],\n",
    "        locationmode = 'ISO-3',\n",
    "        colorscale = 'RdBu',\n",
    "        zmax = 12,\n",
    "        zmin = -12,\n",
    "        text = [str(r)+\": {:0.2f} Gt CO<sub>2</sub>e\".format(float(data.sel(Region=r)[var])) for r_i, r in enumerate(group_eu)],\n",
    "        hovertemplate  = '%{text}',\n",
    "        name=\"\",\n",
    "        marker_line_color='grey', \n",
    "        marker_line_width=0.7,\n",
    "        colorbar=dict(len=1, x=1, tickvals = np.arange(-25, 25+0.1, 5), title={\"text\":\"GHG budget<br>2021-2100<br>(Gt CO<sub>2/sub>e)\"}, tickfont={'size': 25}),\n",
    "        showscale=cm\n",
    "    ), [1, 1, 1, 2, 2, 2][var_i], [1, 2, 3, 1, 2, 3][var_i])\n",
    "# fig.update_geos(showocean=True, oceancolor=\"white\")\n",
    "# fig.update_geos(showlakes=True, lakecolor=\"white\")\n",
    "\n",
    "# limite map scope to USA 'africa', 'asia', 'europe', 'north america', 'south america', 'usa', 'world'\n",
    "fig.update_layout(\n",
    "    geo1 = dict(scope='europe', \n",
    "                showlakes=False,\n",
    "                lakecolor='rgb(255, 255, 255)',\n",
    "                showcoastlines=False,),\n",
    "    geo2 = dict(scope='europe', \n",
    "                showlakes=False,\n",
    "                lakecolor='rgb(255, 255, 255)',\n",
    "                showcoastlines=False,),\n",
    "    geo3 = dict(scope='europe', \n",
    "                showlakes=False,\n",
    "                lakecolor='rgb(255, 255, 255)',\n",
    "                showcoastlines=False,),\n",
    "    geo4 = dict(scope='europe', \n",
    "                showlakes=False,\n",
    "                lakecolor='rgb(255, 255, 255)',\n",
    "                showcoastlines=False,),\n",
    "    geo5 = dict(scope='europe', \n",
    "                showlakes=False,\n",
    "                lakecolor='rgb(255, 255, 255)',\n",
    "                showcoastlines=False,),\n",
    "    geo6 = dict(scope='europe', \n",
    "                showlakes=False,\n",
    "                showcoastlines=False,),\n",
    ")\n",
    "\n",
    "mn = np.min(np.array([float(data[rules].min()[r]) for r in rules]))\n",
    "mx = np.max(np.array([float(data[rules].max()[r]) for r in rules]))\n",
    "for var_i, var in enumerate(rules):\n",
    "    vals = np.array(data[var]).astype(float)\n",
    "    vals_i = (vals + mn)**1.2\n",
    "    vals_n = 14*(vals - mn)/(mx - mn)+7\n",
    "    vals_boolean = np.copy(vals)\n",
    "    vals_boolean[vals >= 0] = 1\n",
    "    vals_boolean[vals < 0] = 0\n",
    "    vals_boolean = vals_boolean.astype(int)\n",
    "    \n",
    "    fig.add_scattergeo(\n",
    "                locations = group_eu,\n",
    "                text = vals.round(1),\n",
    "                featureidkey=\"properties.NAME_3\",\n",
    "                mode = 'text',\n",
    "                hoverinfo='skip',\n",
    "                showlegend=False,\n",
    "                textfont={'size': 20,\n",
    "                          'color': np.array(['black', 'black'])[vals_boolean]},\n",
    "                row=[1, 1, 1, 2, 2, 2][var_i],\n",
    "                col=[1, 2, 3, 1, 2, 3][var_i])\n",
    "\n",
    "fig.update_geos(visible=False,\n",
    "                showlakes=True,\n",
    "                lakecolor='rgb(255, 255, 255)',\n",
    "                projection_type='natural earth',\n",
    "                resolution=50,\n",
    "                lataxis_range=[30,75], lonaxis_range=[-20, 40],\n",
    "                showcoastlines=False,)\n",
    "\n",
    "#fig.update_traces(showscale=False)\n",
    "fig.update_layout(height=1200, width=2300)\n",
    "fig.update_geos(visible=True, showcountries=False)#fitbounds=\"locations\",\n",
    "fig.update_layout(margin={\"r\":0,\"t\":0,\"l\":0,\"b\":0})\n",
    "\n",
    "fig.add_annotation(xref='paper', yref='paper',ax=0, align='left', ay=-0, showarrow=False, font=dict(color='black', size=25),\n",
    "                   y=0.96, x=0.07, text=\"<b>(a) Grandfathering</b>\")\n",
    "fig.add_annotation(xref='paper', yref='paper',ax=0, align='left', ay=-0, showarrow=False, font=dict(color='black', size=25),\n",
    "                   y=0.96, x=0.47, text=\"<b>(b) Per Capita</b>\")\n",
    "fig.add_annotation(xref='paper', yref='paper',ax=0, align='left', ay=-0, showarrow=False, font=dict(color='black', size=25),\n",
    "                   y=0.96, x=0.90, text=\"<b>(c) Per Capita Convergence</b>\")\n",
    "fig.add_annotation(xref='paper', yref='paper',ax=0, align='left', ay=-0, showarrow=False, font=dict(color='black', size=25),\n",
    "                   y=0.45, x=0.07, text=\"<b>(d) Equal Cumulative per Capita</b>\")\n",
    "fig.add_annotation(xref='paper', yref='paper',ax=0, align='left', ay=-0, showarrow=False, font=dict(color='black', size=25),\n",
    "                   y=0.45, x=0.48, text=\"<b>(e) Ability to Pay</b>\")\n",
    "fig.add_annotation(xref='paper', yref='paper',ax=0, align='left', ay=-0, showarrow=False, font=dict(color='black', size=25),\n",
    "                   y=0.45, x=0.95, text=\"<b>(f) Greenhouse Development Rights</b>\")\n",
    "fig_europe = fig\n",
    "fig.show()"
   ]
  },
  {
   "cell_type": "code",
   "execution_count": 10,
   "metadata": {},
   "outputs": [],
   "source": [
    "fig.write_image(\"X:/user/dekkerm/Projects/ECEMF_T5.2/Figures/Presentations/Europe_budget.png\", scale=3)"
   ]
  },
  {
   "cell_type": "code",
   "execution_count": 11,
   "metadata": {},
   "outputs": [
    {
     "name": "stderr",
     "output_type": "stream",
     "text": [
      "x:\\user\\dekkerm\\environments\\MyEnv2\\lib\\site-packages\\xarray\\core\\alignment.py:307: FutureWarning:\n",
      "\n",
      "Index.__and__ operating as a set operation is deprecated, in the future this will be a logical operation matching Series.__and__.  Use index.intersection(other) instead.\n",
      "\n"
     ]
    }
   ],
   "source": [
    "data2 = data / xr_dataread.sel(Time=2021).GHG_hist*1e3"
   ]
  },
  {
   "cell_type": "code",
   "execution_count": 12,
   "metadata": {},
   "outputs": [
    {
     "name": "stderr",
     "output_type": "stream",
     "text": [
      "<ipython-input-12-809441042ee4>:70: RuntimeWarning:\n",
      "\n",
      "invalid value encountered in power\n",
      "\n"
     ]
    },
    {
     "data": {
      "application/vnd.plotly.v1+json": {
       "config": {
        "plotlyServerURL": "https://plotly.com"
       },
       "data": [
        {
         "colorbar": {
          "len": 1,
          "tickfont": {
           "size": 25
          },
          "tickvals": [
           -25,
           -20,
           -15,
           -10,
           -5,
           0,
           5,
           10,
           15,
           20,
           25
          ],
          "title": {
           "text": "CO<sub>2</sub>e budget<br>2021-2100<br>expressed<br>in 2021<br>emissions"
          },
          "x": 1
         },
         "colorscale": [
          [
           0,
           "rgb(103,0,31)"
          ],
          [
           0.1,
           "rgb(178,24,43)"
          ],
          [
           0.2,
           "rgb(214,96,77)"
          ],
          [
           0.3,
           "rgb(244,165,130)"
          ],
          [
           0.4,
           "rgb(253,219,199)"
          ],
          [
           0.5,
           "rgb(247,247,247)"
          ],
          [
           0.6,
           "rgb(209,229,240)"
          ],
          [
           0.7,
           "rgb(146,197,222)"
          ],
          [
           0.8,
           "rgb(67,147,195)"
          ],
          [
           0.9,
           "rgb(33,102,172)"
          ],
          [
           1,
           "rgb(5,48,97)"
          ]
         ],
         "geo": "geo",
         "hovertemplate": "%{text}",
         "locationmode": "ISO-3",
         "locations": [
          "AUT",
          "BEL",
          "BGR",
          "HRV",
          "CYP",
          "CZE",
          "DNK",
          "EST",
          "FIN",
          "FRA",
          "DEU",
          "GRC",
          "HUN",
          "IRL",
          "ITA",
          "LVA",
          "LTU",
          "LUX",
          "MLT",
          "NLD",
          "POL",
          "PRT",
          "ROU",
          "SVK",
          "SVN",
          "ESP",
          "SWE"
         ],
         "marker": {
          "line": {
           "color": "grey",
           "width": 0.7
          }
         },
         "name": "",
         "showscale": true,
         "text": [
          "AUT: 18.21 Gt CO<sub>2</sub>e",
          "BEL: 18.21 Gt CO<sub>2</sub>e",
          "BGR: 18.21 Gt CO<sub>2</sub>e",
          "HRV: 18.21 Gt CO<sub>2</sub>e",
          "CYP: 18.21 Gt CO<sub>2</sub>e",
          "CZE: 18.21 Gt CO<sub>2</sub>e",
          "DNK: 18.21 Gt CO<sub>2</sub>e",
          "EST: 18.21 Gt CO<sub>2</sub>e",
          "FIN: 18.21 Gt CO<sub>2</sub>e",
          "FRA: 18.21 Gt CO<sub>2</sub>e",
          "DEU: 18.21 Gt CO<sub>2</sub>e",
          "GRC: 18.21 Gt CO<sub>2</sub>e",
          "HUN: 18.21 Gt CO<sub>2</sub>e",
          "IRL: 18.21 Gt CO<sub>2</sub>e",
          "ITA: 18.21 Gt CO<sub>2</sub>e",
          "LVA: 18.21 Gt CO<sub>2</sub>e",
          "LTU: 18.21 Gt CO<sub>2</sub>e",
          "LUX: 18.21 Gt CO<sub>2</sub>e",
          "MLT: 18.21 Gt CO<sub>2</sub>e",
          "NLD: 18.21 Gt CO<sub>2</sub>e",
          "POL: 18.21 Gt CO<sub>2</sub>e",
          "PRT: 18.21 Gt CO<sub>2</sub>e",
          "ROU: 18.21 Gt CO<sub>2</sub>e",
          "SVK: 18.21 Gt CO<sub>2</sub>e",
          "SVN: 18.21 Gt CO<sub>2</sub>e",
          "ESP: 18.21 Gt CO<sub>2</sub>e",
          "SWE: 18.21 Gt CO<sub>2</sub>e"
         ],
         "type": "choropleth",
         "z": [
          18.212595317613996,
          18.21259503527849,
          18.212596256553862,
          18.212594334338018,
          18.212597433376008,
          18.21259427092669,
          18.212596191903447,
          18.212596424838775,
          18.2125942618554,
          18.212596344960577,
          18.21259651938486,
          18.21259155628016,
          18.212595012430555,
          18.212591577659445,
          18.21259529597976,
          18.212594470959854,
          18.212594860054292,
          18.21259314244796,
          18.212593637229247,
          18.212597027628973,
          18.212594753206613,
          18.21259529802095,
          18.212596832036954,
          18.212596204656496,
          18.212594668019392,
          18.212595932846373,
          18.212596220790786
         ],
         "zmax": 18,
         "zmin": -18
        },
        {
         "colorbar": {
          "len": 1,
          "tickfont": {
           "size": 25
          },
          "tickvals": [
           -25,
           -20,
           -15,
           -10,
           -5,
           0,
           5,
           10,
           15,
           20,
           25
          ],
          "title": {
           "text": "CO<sub>2</sub>e budget<br>2021-2100<br>expressed<br>in 2021<br>emissions"
          },
          "x": 1
         },
         "colorscale": [
          [
           0,
           "rgb(103,0,31)"
          ],
          [
           0.1,
           "rgb(178,24,43)"
          ],
          [
           0.2,
           "rgb(214,96,77)"
          ],
          [
           0.3,
           "rgb(244,165,130)"
          ],
          [
           0.4,
           "rgb(253,219,199)"
          ],
          [
           0.5,
           "rgb(247,247,247)"
          ],
          [
           0.6,
           "rgb(209,229,240)"
          ],
          [
           0.7,
           "rgb(146,197,222)"
          ],
          [
           0.8,
           "rgb(67,147,195)"
          ],
          [
           0.9,
           "rgb(33,102,172)"
          ],
          [
           1,
           "rgb(5,48,97)"
          ]
         ],
         "geo": "geo2",
         "hovertemplate": "%{text}",
         "locationmode": "ISO-3",
         "locations": [
          "AUT",
          "BEL",
          "BGR",
          "HRV",
          "CYP",
          "CZE",
          "DNK",
          "EST",
          "FIN",
          "FRA",
          "DEU",
          "GRC",
          "HUN",
          "IRL",
          "ITA",
          "LVA",
          "LTU",
          "LUX",
          "MLT",
          "NLD",
          "POL",
          "PRT",
          "ROU",
          "SVK",
          "SVN",
          "ESP",
          "SWE"
         ],
         "marker": {
          "line": {
           "color": "grey",
           "width": 0.7
          }
         },
         "name": "",
         "showscale": false,
         "text": [
          "AUT: 15.53 Gt CO<sub>2</sub>e",
          "BEL: 11.23 Gt CO<sub>2</sub>e",
          "BGR: 38.62 Gt CO<sub>2</sub>e",
          "HRV: 26.99 Gt CO<sub>2</sub>e",
          "CYP: 21.14 Gt CO<sub>2</sub>e",
          "CZE: 12.84 Gt CO<sub>2</sub>e",
          "DNK: 16.55 Gt CO<sub>2</sub>e",
          "EST: 6.98 Gt CO<sub>2</sub>e",
          "FIN: 9.72 Gt CO<sub>2</sub>e",
          "FRA: 24.30 Gt CO<sub>2</sub>e",
          "DEU: 14.06 Gt CO<sub>2</sub>e",
          "GRC: 19.23 Gt CO<sub>2</sub>e",
          "HUN: 17.12 Gt CO<sub>2</sub>e",
          "IRL: 10.49 Gt CO<sub>2</sub>e",
          "ITA: 20.74 Gt CO<sub>2</sub>e",
          "LVA: 29.18 Gt CO<sub>2</sub>e",
          "LTU: 15.04 Gt CO<sub>2</sub>e",
          "LUX: 8.01 Gt CO<sub>2</sub>e",
          "MLT: 22.05 Gt CO<sub>2</sub>e",
          "NLD: 11.17 Gt CO<sub>2</sub>e",
          "POL: 12.56 Gt CO<sub>2</sub>e",
          "PRT: 25.68 Gt CO<sub>2</sub>e",
          "ROU: 28.79 Gt CO<sub>2</sub>e",
          "SVK: 16.10 Gt CO<sub>2</sub>e",
          "SVN: 15.26 Gt CO<sub>2</sub>e",
          "ESP: 20.87 Gt CO<sub>2</sub>e",
          "SWE: 28.60 Gt CO<sub>2</sub>e"
         ],
         "type": "choropleth",
         "z": [
          15.526490330242563,
          11.233492677184913,
          38.618997204149494,
          26.994048613646786,
          21.143075091528914,
          12.839141070541046,
          16.545498302638983,
          6.976088886038986,
          9.719741307766101,
          24.298902835520327,
          14.057759522772175,
          19.229187035033018,
          17.12157081068864,
          10.4890420442038,
          20.738418554296,
          29.179759929850082,
          15.038768924475436,
          8.010282083276424,
          22.054911270101286,
          11.174080047136107,
          12.560051871429826,
          25.683041863515935,
          28.790875232863627,
          16.098779670672943,
          15.261232413423615,
          20.86800544827295,
          28.600558094739764
         ],
         "zmax": 18,
         "zmin": -18
        },
        {
         "colorbar": {
          "len": 1,
          "tickfont": {
           "size": 25
          },
          "tickvals": [
           -25,
           -20,
           -15,
           -10,
           -5,
           0,
           5,
           10,
           15,
           20,
           25
          ],
          "title": {
           "text": "CO<sub>2</sub>e budget<br>2021-2100<br>expressed<br>in 2021<br>emissions"
          },
          "x": 1
         },
         "colorscale": [
          [
           0,
           "rgb(103,0,31)"
          ],
          [
           0.1,
           "rgb(178,24,43)"
          ],
          [
           0.2,
           "rgb(214,96,77)"
          ],
          [
           0.3,
           "rgb(244,165,130)"
          ],
          [
           0.4,
           "rgb(253,219,199)"
          ],
          [
           0.5,
           "rgb(247,247,247)"
          ],
          [
           0.6,
           "rgb(209,229,240)"
          ],
          [
           0.7,
           "rgb(146,197,222)"
          ],
          [
           0.8,
           "rgb(67,147,195)"
          ],
          [
           0.9,
           "rgb(33,102,172)"
          ],
          [
           1,
           "rgb(5,48,97)"
          ]
         ],
         "geo": "geo3",
         "hovertemplate": "%{text}",
         "locationmode": "ISO-3",
         "locations": [
          "AUT",
          "BEL",
          "BGR",
          "HRV",
          "CYP",
          "CZE",
          "DNK",
          "EST",
          "FIN",
          "FRA",
          "DEU",
          "GRC",
          "HUN",
          "IRL",
          "ITA",
          "LVA",
          "LTU",
          "LUX",
          "MLT",
          "NLD",
          "POL",
          "PRT",
          "ROU",
          "SVK",
          "SVN",
          "ESP",
          "SWE"
         ],
         "marker": {
          "line": {
           "color": "grey",
           "width": 0.7
          }
         },
         "name": "",
         "showscale": false,
         "text": [
          "AUT: 16.95 Gt CO<sub>2</sub>e",
          "BEL: 14.94 Gt CO<sub>2</sub>e",
          "BGR: 27.77 Gt CO<sub>2</sub>e",
          "HRV: 22.32 Gt CO<sub>2</sub>e",
          "CYP: 19.58 Gt CO<sub>2</sub>e",
          "CZE: 15.70 Gt CO<sub>2</sub>e",
          "DNK: 17.43 Gt CO<sub>2</sub>e",
          "EST: 12.95 Gt CO<sub>2</sub>e",
          "FIN: 14.24 Gt CO<sub>2</sub>e",
          "FRA: 21.06 Gt CO<sub>2</sub>e",
          "DEU: 16.27 Gt CO<sub>2</sub>e",
          "GRC: 18.69 Gt CO<sub>2</sub>e",
          "HUN: 17.70 Gt CO<sub>2</sub>e",
          "IRL: 14.60 Gt CO<sub>2</sub>e",
          "ITA: 19.40 Gt CO<sub>2</sub>e",
          "LVA: 23.35 Gt CO<sub>2</sub>e",
          "LTU: 16.73 Gt CO<sub>2</sub>e",
          "LUX: 13.43 Gt CO<sub>2</sub>e",
          "MLT: 20.01 Gt CO<sub>2</sub>e",
          "NLD: 14.92 Gt CO<sub>2</sub>e",
          "POL: 15.57 Gt CO<sub>2</sub>e",
          "PRT: 21.71 Gt CO<sub>2</sub>e",
          "ROU: 23.17 Gt CO<sub>2</sub>e",
          "SVK: 17.22 Gt CO<sub>2</sub>e",
          "SVN: 16.83 Gt CO<sub>2</sub>e",
          "ESP: 19.46 Gt CO<sub>2</sub>e",
          "SWE: 23.08 Gt CO<sub>2</sub>e"
         ],
         "type": "choropleth",
         "z": [
          16.954710327693405,
          14.944326167851136,
          27.768780016678715,
          22.324889912608192,
          19.58492072840574,
          15.696241563792224,
          17.431904169973382,
          12.950612097951758,
          14.2354457779859,
          21.06277535541453,
          16.266913429855517,
          18.68866029305282,
          17.701677782113155,
          14.595705388860273,
          19.395424595124698,
          23.348448091916413,
          16.72631335188003,
          13.434918026695446,
          20.011927259935753,
          14.916505719662077,
          15.565546044398923,
          21.710954784622924,
          23.16633773965502,
          17.222708269636907,
          16.83048904555717,
          19.456107301947988,
          23.077209387074106
         ],
         "zmax": 18,
         "zmin": -18
        },
        {
         "colorbar": {
          "len": 1,
          "tickfont": {
           "size": 25
          },
          "tickvals": [
           -25,
           -20,
           -15,
           -10,
           -5,
           0,
           5,
           10,
           15,
           20,
           25
          ],
          "title": {
           "text": "CO<sub>2</sub>e budget<br>2021-2100<br>expressed<br>in 2021<br>emissions"
          },
          "x": 1
         },
         "colorscale": [
          [
           0,
           "rgb(103,0,31)"
          ],
          [
           0.1,
           "rgb(178,24,43)"
          ],
          [
           0.2,
           "rgb(214,96,77)"
          ],
          [
           0.3,
           "rgb(244,165,130)"
          ],
          [
           0.4,
           "rgb(253,219,199)"
          ],
          [
           0.5,
           "rgb(247,247,247)"
          ],
          [
           0.6,
           "rgb(209,229,240)"
          ],
          [
           0.7,
           "rgb(146,197,222)"
          ],
          [
           0.8,
           "rgb(67,147,195)"
          ],
          [
           0.9,
           "rgb(33,102,172)"
          ],
          [
           1,
           "rgb(5,48,97)"
          ]
         ],
         "geo": "geo4",
         "hovertemplate": "%{text}",
         "locationmode": "ISO-3",
         "locations": [
          "AUT",
          "BEL",
          "BGR",
          "HRV",
          "CYP",
          "CZE",
          "DNK",
          "EST",
          "FIN",
          "FRA",
          "DEU",
          "GRC",
          "HUN",
          "IRL",
          "ITA",
          "LVA",
          "LTU",
          "LUX",
          "MLT",
          "NLD",
          "POL",
          "PRT",
          "ROU",
          "SVK",
          "SVN",
          "ESP",
          "SWE"
         ],
         "marker": {
          "line": {
           "color": "grey",
           "width": 0.7
          }
         },
         "name": "",
         "showscale": false,
         "text": [
          "AUT: -13.35 Gt CO<sub>2</sub>e",
          "BEL: -37.05 Gt CO<sub>2</sub>e",
          "BGR: -66.24 Gt CO<sub>2</sub>e",
          "HRV: 3.10 Gt CO<sub>2</sub>e",
          "CYP: 24.96 Gt CO<sub>2</sub>e",
          "CZE: -63.97 Gt CO<sub>2</sub>e",
          "DNK: -43.21 Gt CO<sub>2</sub>e",
          "EST: -54.84 Gt CO<sub>2</sub>e",
          "FIN: -22.64 Gt CO<sub>2</sub>e",
          "FRA: -10.42 Gt CO<sub>2</sub>e",
          "DEU: -56.08 Gt CO<sub>2</sub>e",
          "GRC: -4.82 Gt CO<sub>2</sub>e",
          "HUN: -24.07 Gt CO<sub>2</sub>e",
          "IRL: -19.37 Gt CO<sub>2</sub>e",
          "ITA: -2.75 Gt CO<sub>2</sub>e",
          "LVA: 4.65 Gt CO<sub>2</sub>e",
          "LTU: -35.92 Gt CO<sub>2</sub>e",
          "LUX: -55.51 Gt CO<sub>2</sub>e",
          "MLT: 27.03 Gt CO<sub>2</sub>e",
          "NLD: -32.40 Gt CO<sub>2</sub>e",
          "POL: -39.21 Gt CO<sub>2</sub>e",
          "PRT: 24.92 Gt CO<sub>2</sub>e",
          "ROU: -18.59 Gt CO<sub>2</sub>e",
          "SVK: -25.82 Gt CO<sub>2</sub>e",
          "SVN: -7.91 Gt CO<sub>2</sub>e",
          "ESP: 13.26 Gt CO<sub>2</sub>e",
          "SWE: -10.40 Gt CO<sub>2</sub>e"
         ],
         "type": "choropleth",
         "z": [
          -13.354039771335657,
          -37.04541961095587,
          -66.24089534295011,
          3.100656848439308,
          24.959086827362743,
          -63.97447022400445,
          -43.20529739630702,
          -54.83514204095235,
          -22.64275576538524,
          -10.416851868489301,
          -56.08295239864334,
          -4.816179796901744,
          -24.06572787031578,
          -19.366070370904982,
          -2.7450428621239604,
          4.645386750723372,
          -35.91991142741184,
          -55.51177611507099,
          27.026140769848364,
          -32.39857196634887,
          -39.21072318966046,
          24.91848564290672,
          -18.58983770928419,
          -25.815730372474732,
          -7.914241480097024,
          13.2580982215007,
          -10.398997161758022
         ],
         "zmax": 18,
         "zmin": -18
        },
        {
         "colorbar": {
          "len": 1,
          "tickfont": {
           "size": 25
          },
          "tickvals": [
           -25,
           -20,
           -15,
           -10,
           -5,
           0,
           5,
           10,
           15,
           20,
           25
          ],
          "title": {
           "text": "CO<sub>2</sub>e budget<br>2021-2100<br>expressed<br>in 2021<br>emissions"
          },
          "x": 1
         },
         "colorscale": [
          [
           0,
           "rgb(103,0,31)"
          ],
          [
           0.1,
           "rgb(178,24,43)"
          ],
          [
           0.2,
           "rgb(214,96,77)"
          ],
          [
           0.3,
           "rgb(244,165,130)"
          ],
          [
           0.4,
           "rgb(253,219,199)"
          ],
          [
           0.5,
           "rgb(247,247,247)"
          ],
          [
           0.6,
           "rgb(209,229,240)"
          ],
          [
           0.7,
           "rgb(146,197,222)"
          ],
          [
           0.8,
           "rgb(67,147,195)"
          ],
          [
           0.9,
           "rgb(33,102,172)"
          ],
          [
           1,
           "rgb(5,48,97)"
          ]
         ],
         "geo": "geo5",
         "hovertemplate": "%{text}",
         "locationmode": "ISO-3",
         "locations": [
          "AUT",
          "BEL",
          "BGR",
          "HRV",
          "CYP",
          "CZE",
          "DNK",
          "EST",
          "FIN",
          "FRA",
          "DEU",
          "GRC",
          "HUN",
          "IRL",
          "ITA",
          "LVA",
          "LTU",
          "LUX",
          "MLT",
          "NLD",
          "POL",
          "PRT",
          "ROU",
          "SVK",
          "SVN",
          "ESP",
          "SWE"
         ],
         "marker": {
          "line": {
           "color": "grey",
           "width": 0.7
          }
         },
         "name": "",
         "showscale": false,
         "text": [
          "AUT: 2.26 Gt CO<sub>2</sub>e",
          "BEL: 4.64 Gt CO<sub>2</sub>e",
          "BGR: 10.93 Gt CO<sub>2</sub>e",
          "HRV: 16.90 Gt CO<sub>2</sub>e",
          "CYP: 14.36 Gt CO<sub>2</sub>e",
          "CZE: 2.32 Gt CO<sub>2</sub>e",
          "DNK: 5.25 Gt CO<sub>2</sub>e",
          "EST: 5.65 Gt CO<sub>2</sub>e",
          "FIN: 3.69 Gt CO<sub>2</sub>e",
          "FRA: 7.25 Gt CO<sub>2</sub>e",
          "DEU: 2.54 Gt CO<sub>2</sub>e",
          "GRC: 7.15 Gt CO<sub>2</sub>e",
          "HUN: 11.24 Gt CO<sub>2</sub>e",
          "IRL: 3.89 Gt CO<sub>2</sub>e",
          "ITA: 8.80 Gt CO<sub>2</sub>e",
          "LVA: 11.56 Gt CO<sub>2</sub>e",
          "LTU: 12.23 Gt CO<sub>2</sub>e",
          "LUX: -1.27 Gt CO<sub>2</sub>e",
          "MLT: 10.16 Gt CO<sub>2</sub>e",
          "NLD: 3.02 Gt CO<sub>2</sub>e",
          "POL: 9.60 Gt CO<sub>2</sub>e",
          "PRT: 11.41 Gt CO<sub>2</sub>e",
          "ROU: 14.44 Gt CO<sub>2</sub>e",
          "SVK: 0.00 Gt CO<sub>2</sub>e",
          "SVN: 7.43 Gt CO<sub>2</sub>e",
          "ESP: 10.68 Gt CO<sub>2</sub>e",
          "SWE: 3.58 Gt CO<sub>2</sub>e"
         ],
         "type": "choropleth",
         "z": [
          2.255370304653479,
          4.640539794333756,
          10.929363987101784,
          16.90403848746395,
          14.3568858597828,
          2.3162088639116507,
          5.251860753070944,
          5.6461267270975,
          3.6883551537079287,
          7.253168248580408,
          2.5404145695211433,
          7.1500816171317,
          11.243654909938726,
          3.8902361619578802,
          8.79708884377992,
          11.561125892817909,
          12.226104247852257,
          -1.2678803071883162,
          10.164828239198703,
          3.019082561889064,
          9.599901362545566,
          11.412554831509146,
          14.438857940866024,
          0,
          7.429382987547994,
          10.675014193566202,
          3.5765656819834253
         ],
         "zmax": 18,
         "zmin": -18
        },
        {
         "colorbar": {
          "len": 1,
          "tickfont": {
           "size": 25
          },
          "tickvals": [
           -25,
           -20,
           -15,
           -10,
           -5,
           0,
           5,
           10,
           15,
           20,
           25
          ],
          "title": {
           "text": "CO<sub>2</sub>e budget<br>2021-2100<br>expressed<br>in 2021<br>emissions"
          },
          "x": 1
         },
         "colorscale": [
          [
           0,
           "rgb(103,0,31)"
          ],
          [
           0.1,
           "rgb(178,24,43)"
          ],
          [
           0.2,
           "rgb(214,96,77)"
          ],
          [
           0.3,
           "rgb(244,165,130)"
          ],
          [
           0.4,
           "rgb(253,219,199)"
          ],
          [
           0.5,
           "rgb(247,247,247)"
          ],
          [
           0.6,
           "rgb(209,229,240)"
          ],
          [
           0.7,
           "rgb(146,197,222)"
          ],
          [
           0.8,
           "rgb(67,147,195)"
          ],
          [
           0.9,
           "rgb(33,102,172)"
          ],
          [
           1,
           "rgb(5,48,97)"
          ]
         ],
         "geo": "geo6",
         "hovertemplate": "%{text}",
         "locationmode": "ISO-3",
         "locations": [
          "AUT",
          "BEL",
          "BGR",
          "HRV",
          "CYP",
          "CZE",
          "DNK",
          "EST",
          "FIN",
          "FRA",
          "DEU",
          "GRC",
          "HUN",
          "IRL",
          "ITA",
          "LVA",
          "LTU",
          "LUX",
          "MLT",
          "NLD",
          "POL",
          "PRT",
          "ROU",
          "SVK",
          "SVN",
          "ESP",
          "SWE"
         ],
         "marker": {
          "line": {
           "color": "grey",
           "width": 0.7
          }
         },
         "name": "",
         "showscale": false,
         "text": [
          "AUT: -129.05 Gt CO<sub>2</sub>e",
          "BEL: -96.37 Gt CO<sub>2</sub>e",
          "BGR: -72.73 Gt CO<sub>2</sub>e",
          "HRV: -41.15 Gt CO<sub>2</sub>e",
          "CYP: -55.78 Gt CO<sub>2</sub>e",
          "CZE: -69.36 Gt CO<sub>2</sub>e",
          "DNK: -202.68 Gt CO<sub>2</sub>e",
          "EST: -15.92 Gt CO<sub>2</sub>e",
          "FIN: -60.47 Gt CO<sub>2</sub>e",
          "FRA: -184.64 Gt CO<sub>2</sub>e",
          "DEU: -129.52 Gt CO<sub>2</sub>e",
          "GRC: -61.52 Gt CO<sub>2</sub>e",
          "HUN: -18.54 Gt CO<sub>2</sub>e",
          "IRL: -166.52 Gt CO<sub>2</sub>e",
          "ITA: -106.31 Gt CO<sub>2</sub>e",
          "LVA: -45.04 Gt CO<sub>2</sub>e",
          "LTU: -19.56 Gt CO<sub>2</sub>e",
          "LUX: -211.16 Gt CO<sub>2</sub>e",
          "MLT: -145.91 Gt CO<sub>2</sub>e",
          "NLD: -110.94 Gt CO<sub>2</sub>e",
          "POL: -16.57 Gt CO<sub>2</sub>e",
          "PRT: -75.32 Gt CO<sub>2</sub>e",
          "ROU: -16.29 Gt CO<sub>2</sub>e",
          "SVK: 0.00 Gt CO<sub>2</sub>e",
          "SVN: -63.01 Gt CO<sub>2</sub>e",
          "ESP: -90.05 Gt CO<sub>2</sub>e",
          "SWE: -313.27 Gt CO<sub>2</sub>e"
         ],
         "type": "choropleth",
         "z": [
          -129.04973776743293,
          -96.3698213427327,
          -72.7342288612216,
          -41.15445476158965,
          -55.77563192498753,
          -69.36048193603918,
          -202.67642866229642,
          -15.919765476488333,
          -60.465826479234465,
          -184.64156567369093,
          -129.51562281665247,
          -61.51764276459816,
          -18.54382340744321,
          -166.5248867750633,
          -106.30515234301075,
          -45.04052246017659,
          -19.56341843039768,
          -211.15827540916038,
          -145.90519135922412,
          -110.93791479122514,
          -16.570497216834525,
          -75.32351392400021,
          -16.29453184063615,
          0,
          -63.005953283250484,
          -90.0527551442349,
          -313.26808518125233
         ],
         "zmax": 18,
         "zmin": -18
        },
        {
         "featureidkey": "properties.NAME_3",
         "geo": "geo",
         "hoverinfo": "skip",
         "locations": [
          "AUT",
          "BEL",
          "BGR",
          "HRV",
          "CYP",
          "CZE",
          "DNK",
          "EST",
          "FIN",
          "FRA",
          "DEU",
          "GRC",
          "HUN",
          "IRL",
          "ITA",
          "LVA",
          "LTU",
          "LUX",
          "MLT",
          "NLD",
          "POL",
          "PRT",
          "ROU",
          "SVK",
          "SVN",
          "ESP",
          "SWE"
         ],
         "mode": "text",
         "showlegend": false,
         "text": [
          18,
          18,
          18,
          18,
          18,
          18,
          18,
          18,
          18,
          18,
          18,
          18,
          18,
          18,
          18,
          18,
          18,
          18,
          18,
          18,
          18,
          18,
          18,
          18,
          18,
          18,
          18
         ],
         "textfont": {
          "color": [
           "black",
           "black",
           "black",
           "black",
           "black",
           "black",
           "black",
           "black",
           "black",
           "black",
           "black",
           "black",
           "black",
           "black",
           "black",
           "black",
           "black",
           "black",
           "black",
           "black",
           "black",
           "black",
           "black",
           "black",
           "black",
           "black",
           "black"
          ],
          "size": 20
         },
         "type": "scattergeo"
        },
        {
         "featureidkey": "properties.NAME_3",
         "geo": "geo2",
         "hoverinfo": "skip",
         "locations": [
          "AUT",
          "BEL",
          "BGR",
          "HRV",
          "CYP",
          "CZE",
          "DNK",
          "EST",
          "FIN",
          "FRA",
          "DEU",
          "GRC",
          "HUN",
          "IRL",
          "ITA",
          "LVA",
          "LTU",
          "LUX",
          "MLT",
          "NLD",
          "POL",
          "PRT",
          "ROU",
          "SVK",
          "SVN",
          "ESP",
          "SWE"
         ],
         "mode": "text",
         "showlegend": false,
         "text": [
          16,
          11,
          39,
          27,
          21,
          13,
          17,
          7,
          10,
          24,
          14,
          19,
          17,
          10,
          21,
          29,
          15,
          8,
          22,
          11,
          13,
          26,
          29,
          16,
          15,
          21,
          29
         ],
         "textfont": {
          "color": [
           "black",
           "black",
           "black",
           "black",
           "black",
           "black",
           "black",
           "black",
           "black",
           "black",
           "black",
           "black",
           "black",
           "black",
           "black",
           "black",
           "black",
           "black",
           "black",
           "black",
           "black",
           "black",
           "black",
           "black",
           "black",
           "black",
           "black"
          ],
          "size": 20
         },
         "type": "scattergeo"
        },
        {
         "featureidkey": "properties.NAME_3",
         "geo": "geo3",
         "hoverinfo": "skip",
         "locations": [
          "AUT",
          "BEL",
          "BGR",
          "HRV",
          "CYP",
          "CZE",
          "DNK",
          "EST",
          "FIN",
          "FRA",
          "DEU",
          "GRC",
          "HUN",
          "IRL",
          "ITA",
          "LVA",
          "LTU",
          "LUX",
          "MLT",
          "NLD",
          "POL",
          "PRT",
          "ROU",
          "SVK",
          "SVN",
          "ESP",
          "SWE"
         ],
         "mode": "text",
         "showlegend": false,
         "text": [
          17,
          15,
          28,
          22,
          20,
          16,
          17,
          13,
          14,
          21,
          16,
          19,
          18,
          15,
          19,
          23,
          17,
          13,
          20,
          15,
          16,
          22,
          23,
          17,
          17,
          19,
          23
         ],
         "textfont": {
          "color": [
           "black",
           "black",
           "black",
           "black",
           "black",
           "black",
           "black",
           "black",
           "black",
           "black",
           "black",
           "black",
           "black",
           "black",
           "black",
           "black",
           "black",
           "black",
           "black",
           "black",
           "black",
           "black",
           "black",
           "black",
           "black",
           "black",
           "black"
          ],
          "size": 20
         },
         "type": "scattergeo"
        },
        {
         "featureidkey": "properties.NAME_3",
         "geo": "geo4",
         "hoverinfo": "skip",
         "locations": [
          "AUT",
          "BEL",
          "BGR",
          "HRV",
          "CYP",
          "CZE",
          "DNK",
          "EST",
          "FIN",
          "FRA",
          "DEU",
          "GRC",
          "HUN",
          "IRL",
          "ITA",
          "LVA",
          "LTU",
          "LUX",
          "MLT",
          "NLD",
          "POL",
          "PRT",
          "ROU",
          "SVK",
          "SVN",
          "ESP",
          "SWE"
         ],
         "mode": "text",
         "showlegend": false,
         "text": [
          -13,
          -37,
          -66,
          3,
          25,
          -64,
          -43,
          -55,
          -23,
          -10,
          -56,
          -5,
          -24,
          -19,
          -3,
          5,
          -36,
          -56,
          27,
          -32,
          -39,
          25,
          -19,
          -26,
          -8,
          13,
          -10
         ],
         "textfont": {
          "color": [
           "black",
           "black",
           "black",
           "black",
           "black",
           "black",
           "black",
           "black",
           "black",
           "black",
           "black",
           "black",
           "black",
           "black",
           "black",
           "black",
           "black",
           "black",
           "black",
           "black",
           "black",
           "black",
           "black",
           "black",
           "black",
           "black",
           "black"
          ],
          "size": 20
         },
         "type": "scattergeo"
        },
        {
         "featureidkey": "properties.NAME_3",
         "geo": "geo5",
         "hoverinfo": "skip",
         "locations": [
          "AUT",
          "BEL",
          "BGR",
          "HRV",
          "CYP",
          "CZE",
          "DNK",
          "EST",
          "FIN",
          "FRA",
          "DEU",
          "GRC",
          "HUN",
          "IRL",
          "ITA",
          "LVA",
          "LTU",
          "LUX",
          "MLT",
          "NLD",
          "POL",
          "PRT",
          "ROU",
          "SVK",
          "SVN",
          "ESP",
          "SWE"
         ],
         "mode": "text",
         "showlegend": false,
         "text": [
          2,
          5,
          11,
          17,
          14,
          2,
          5,
          6,
          4,
          7,
          3,
          7,
          11,
          4,
          9,
          12,
          12,
          -1,
          10,
          3,
          10,
          11,
          14,
          0,
          7,
          11,
          4
         ],
         "textfont": {
          "color": [
           "black",
           "black",
           "black",
           "black",
           "black",
           "black",
           "black",
           "black",
           "black",
           "black",
           "black",
           "black",
           "black",
           "black",
           "black",
           "black",
           "black",
           "black",
           "black",
           "black",
           "black",
           "black",
           "black",
           "black",
           "black",
           "black",
           "black"
          ],
          "size": 20
         },
         "type": "scattergeo"
        },
        {
         "featureidkey": "properties.NAME_3",
         "geo": "geo6",
         "hoverinfo": "skip",
         "locations": [
          "AUT",
          "BEL",
          "BGR",
          "HRV",
          "CYP",
          "CZE",
          "DNK",
          "EST",
          "FIN",
          "FRA",
          "DEU",
          "GRC",
          "HUN",
          "IRL",
          "ITA",
          "LVA",
          "LTU",
          "LUX",
          "MLT",
          "NLD",
          "POL",
          "PRT",
          "ROU",
          "SVK",
          "SVN",
          "ESP",
          "SWE"
         ],
         "mode": "text",
         "showlegend": false,
         "text": [
          -129,
          -96,
          -73,
          -41,
          -56,
          -69,
          -203,
          -16,
          -60,
          -185,
          -130,
          -62,
          -19,
          -167,
          -106,
          -45,
          -20,
          -211,
          -146,
          -111,
          -17,
          -75,
          -16,
          0,
          -63,
          -90,
          -313
         ],
         "textfont": {
          "color": [
           "black",
           "black",
           "black",
           "black",
           "black",
           "black",
           "black",
           "black",
           "black",
           "black",
           "black",
           "black",
           "black",
           "black",
           "black",
           "black",
           "black",
           "black",
           "black",
           "black",
           "black",
           "black",
           "black",
           "black",
           "black",
           "black",
           "black"
          ],
          "size": 20
         },
         "type": "scattergeo"
        }
       ],
       "layout": {
        "annotations": [
         {
          "align": "left",
          "ax": 0,
          "ay": 0,
          "font": {
           "color": "black",
           "size": 25
          },
          "showarrow": false,
          "text": "<b>(a) Grandfathering</b>",
          "x": 0.07,
          "xref": "paper",
          "y": 0.96,
          "yref": "paper"
         },
         {
          "align": "left",
          "ax": 0,
          "ay": 0,
          "font": {
           "color": "black",
           "size": 25
          },
          "showarrow": false,
          "text": "<b>(b) Per Capita</b>",
          "x": 0.47,
          "xref": "paper",
          "y": 0.96,
          "yref": "paper"
         },
         {
          "align": "left",
          "ax": 0,
          "ay": 0,
          "font": {
           "color": "black",
           "size": 25
          },
          "showarrow": false,
          "text": "<b>(c) Per Capita Convergence</b>",
          "x": 0.9,
          "xref": "paper",
          "y": 0.96,
          "yref": "paper"
         },
         {
          "align": "left",
          "ax": 0,
          "ay": 0,
          "font": {
           "color": "black",
           "size": 25
          },
          "showarrow": false,
          "text": "<b>(d) Equal Cumulative per Capita</b>",
          "x": 0.07,
          "xref": "paper",
          "y": 0.45,
          "yref": "paper"
         },
         {
          "align": "left",
          "ax": 0,
          "ay": 0,
          "font": {
           "color": "black",
           "size": 25
          },
          "showarrow": false,
          "text": "<b>(e) Ability to Pay</b>",
          "x": 0.48,
          "xref": "paper",
          "y": 0.45,
          "yref": "paper"
         },
         {
          "align": "left",
          "ax": 0,
          "ay": 0,
          "font": {
           "color": "black",
           "size": 25
          },
          "showarrow": false,
          "text": "<b>(f) Greenhouse Development Rights</b>",
          "x": 0.95,
          "xref": "paper",
          "y": 0.45,
          "yref": "paper"
         }
        ],
        "geo": {
         "domain": {
          "x": [
           0,
           0.3333333333333333
          ],
          "y": [
           0.5,
           1
          ]
         },
         "lakecolor": "rgb(255, 255, 255)",
         "lataxis": {
          "range": [
           30,
           75
          ]
         },
         "lonaxis": {
          "range": [
           -20,
           40
          ]
         },
         "projection": {
          "type": "natural earth"
         },
         "resolution": 50,
         "scope": "europe",
         "showcoastlines": false,
         "showcountries": false,
         "showlakes": true,
         "visible": true
        },
        "geo2": {
         "domain": {
          "x": [
           0.3333333333333333,
           0.6666666666666666
          ],
          "y": [
           0.5,
           1
          ]
         },
         "lakecolor": "rgb(255, 255, 255)",
         "lataxis": {
          "range": [
           30,
           75
          ]
         },
         "lonaxis": {
          "range": [
           -20,
           40
          ]
         },
         "projection": {
          "type": "natural earth"
         },
         "resolution": 50,
         "scope": "europe",
         "showcoastlines": false,
         "showcountries": false,
         "showlakes": true,
         "visible": true
        },
        "geo3": {
         "domain": {
          "x": [
           0.6666666666666666,
           1
          ],
          "y": [
           0.5,
           1
          ]
         },
         "lakecolor": "rgb(255, 255, 255)",
         "lataxis": {
          "range": [
           30,
           75
          ]
         },
         "lonaxis": {
          "range": [
           -20,
           40
          ]
         },
         "projection": {
          "type": "natural earth"
         },
         "resolution": 50,
         "scope": "europe",
         "showcoastlines": false,
         "showcountries": false,
         "showlakes": true,
         "visible": true
        },
        "geo4": {
         "domain": {
          "x": [
           0,
           0.3333333333333333
          ],
          "y": [
           0,
           0.5
          ]
         },
         "lakecolor": "rgb(255, 255, 255)",
         "lataxis": {
          "range": [
           30,
           75
          ]
         },
         "lonaxis": {
          "range": [
           -20,
           40
          ]
         },
         "projection": {
          "type": "natural earth"
         },
         "resolution": 50,
         "scope": "europe",
         "showcoastlines": false,
         "showcountries": false,
         "showlakes": true,
         "visible": true
        },
        "geo5": {
         "domain": {
          "x": [
           0.3333333333333333,
           0.6666666666666666
          ],
          "y": [
           0,
           0.5
          ]
         },
         "lakecolor": "rgb(255, 255, 255)",
         "lataxis": {
          "range": [
           30,
           75
          ]
         },
         "lonaxis": {
          "range": [
           -20,
           40
          ]
         },
         "projection": {
          "type": "natural earth"
         },
         "resolution": 50,
         "scope": "europe",
         "showcoastlines": false,
         "showcountries": false,
         "showlakes": true,
         "visible": true
        },
        "geo6": {
         "domain": {
          "x": [
           0.6666666666666666,
           1
          ],
          "y": [
           0,
           0.5
          ]
         },
         "lakecolor": "rgb(255, 255, 255)",
         "lataxis": {
          "range": [
           30,
           75
          ]
         },
         "lonaxis": {
          "range": [
           -20,
           40
          ]
         },
         "projection": {
          "type": "natural earth"
         },
         "resolution": 50,
         "scope": "europe",
         "showcoastlines": false,
         "showcountries": false,
         "showlakes": true,
         "visible": true
        },
        "height": 1200,
        "margin": {
         "b": 0,
         "l": 0,
         "r": 0,
         "t": 0
        },
        "template": {
         "data": {
          "bar": [
           {
            "error_x": {
             "color": "#2a3f5f"
            },
            "error_y": {
             "color": "#2a3f5f"
            },
            "marker": {
             "line": {
              "color": "#E5ECF6",
              "width": 0.5
             }
            },
            "type": "bar"
           }
          ],
          "barpolar": [
           {
            "marker": {
             "line": {
              "color": "#E5ECF6",
              "width": 0.5
             }
            },
            "type": "barpolar"
           }
          ],
          "carpet": [
           {
            "aaxis": {
             "endlinecolor": "#2a3f5f",
             "gridcolor": "white",
             "linecolor": "white",
             "minorgridcolor": "white",
             "startlinecolor": "#2a3f5f"
            },
            "baxis": {
             "endlinecolor": "#2a3f5f",
             "gridcolor": "white",
             "linecolor": "white",
             "minorgridcolor": "white",
             "startlinecolor": "#2a3f5f"
            },
            "type": "carpet"
           }
          ],
          "choropleth": [
           {
            "colorbar": {
             "outlinewidth": 0,
             "ticks": ""
            },
            "type": "choropleth"
           }
          ],
          "contour": [
           {
            "colorbar": {
             "outlinewidth": 0,
             "ticks": ""
            },
            "colorscale": [
             [
              0,
              "#0d0887"
             ],
             [
              0.1111111111111111,
              "#46039f"
             ],
             [
              0.2222222222222222,
              "#7201a8"
             ],
             [
              0.3333333333333333,
              "#9c179e"
             ],
             [
              0.4444444444444444,
              "#bd3786"
             ],
             [
              0.5555555555555556,
              "#d8576b"
             ],
             [
              0.6666666666666666,
              "#ed7953"
             ],
             [
              0.7777777777777778,
              "#fb9f3a"
             ],
             [
              0.8888888888888888,
              "#fdca26"
             ],
             [
              1,
              "#f0f921"
             ]
            ],
            "type": "contour"
           }
          ],
          "contourcarpet": [
           {
            "colorbar": {
             "outlinewidth": 0,
             "ticks": ""
            },
            "type": "contourcarpet"
           }
          ],
          "heatmap": [
           {
            "colorbar": {
             "outlinewidth": 0,
             "ticks": ""
            },
            "colorscale": [
             [
              0,
              "#0d0887"
             ],
             [
              0.1111111111111111,
              "#46039f"
             ],
             [
              0.2222222222222222,
              "#7201a8"
             ],
             [
              0.3333333333333333,
              "#9c179e"
             ],
             [
              0.4444444444444444,
              "#bd3786"
             ],
             [
              0.5555555555555556,
              "#d8576b"
             ],
             [
              0.6666666666666666,
              "#ed7953"
             ],
             [
              0.7777777777777778,
              "#fb9f3a"
             ],
             [
              0.8888888888888888,
              "#fdca26"
             ],
             [
              1,
              "#f0f921"
             ]
            ],
            "type": "heatmap"
           }
          ],
          "heatmapgl": [
           {
            "colorbar": {
             "outlinewidth": 0,
             "ticks": ""
            },
            "colorscale": [
             [
              0,
              "#0d0887"
             ],
             [
              0.1111111111111111,
              "#46039f"
             ],
             [
              0.2222222222222222,
              "#7201a8"
             ],
             [
              0.3333333333333333,
              "#9c179e"
             ],
             [
              0.4444444444444444,
              "#bd3786"
             ],
             [
              0.5555555555555556,
              "#d8576b"
             ],
             [
              0.6666666666666666,
              "#ed7953"
             ],
             [
              0.7777777777777778,
              "#fb9f3a"
             ],
             [
              0.8888888888888888,
              "#fdca26"
             ],
             [
              1,
              "#f0f921"
             ]
            ],
            "type": "heatmapgl"
           }
          ],
          "histogram": [
           {
            "marker": {
             "colorbar": {
              "outlinewidth": 0,
              "ticks": ""
             }
            },
            "type": "histogram"
           }
          ],
          "histogram2d": [
           {
            "colorbar": {
             "outlinewidth": 0,
             "ticks": ""
            },
            "colorscale": [
             [
              0,
              "#0d0887"
             ],
             [
              0.1111111111111111,
              "#46039f"
             ],
             [
              0.2222222222222222,
              "#7201a8"
             ],
             [
              0.3333333333333333,
              "#9c179e"
             ],
             [
              0.4444444444444444,
              "#bd3786"
             ],
             [
              0.5555555555555556,
              "#d8576b"
             ],
             [
              0.6666666666666666,
              "#ed7953"
             ],
             [
              0.7777777777777778,
              "#fb9f3a"
             ],
             [
              0.8888888888888888,
              "#fdca26"
             ],
             [
              1,
              "#f0f921"
             ]
            ],
            "type": "histogram2d"
           }
          ],
          "histogram2dcontour": [
           {
            "colorbar": {
             "outlinewidth": 0,
             "ticks": ""
            },
            "colorscale": [
             [
              0,
              "#0d0887"
             ],
             [
              0.1111111111111111,
              "#46039f"
             ],
             [
              0.2222222222222222,
              "#7201a8"
             ],
             [
              0.3333333333333333,
              "#9c179e"
             ],
             [
              0.4444444444444444,
              "#bd3786"
             ],
             [
              0.5555555555555556,
              "#d8576b"
             ],
             [
              0.6666666666666666,
              "#ed7953"
             ],
             [
              0.7777777777777778,
              "#fb9f3a"
             ],
             [
              0.8888888888888888,
              "#fdca26"
             ],
             [
              1,
              "#f0f921"
             ]
            ],
            "type": "histogram2dcontour"
           }
          ],
          "mesh3d": [
           {
            "colorbar": {
             "outlinewidth": 0,
             "ticks": ""
            },
            "type": "mesh3d"
           }
          ],
          "parcoords": [
           {
            "line": {
             "colorbar": {
              "outlinewidth": 0,
              "ticks": ""
             }
            },
            "type": "parcoords"
           }
          ],
          "pie": [
           {
            "automargin": true,
            "type": "pie"
           }
          ],
          "scatter": [
           {
            "marker": {
             "colorbar": {
              "outlinewidth": 0,
              "ticks": ""
             }
            },
            "type": "scatter"
           }
          ],
          "scatter3d": [
           {
            "line": {
             "colorbar": {
              "outlinewidth": 0,
              "ticks": ""
             }
            },
            "marker": {
             "colorbar": {
              "outlinewidth": 0,
              "ticks": ""
             }
            },
            "type": "scatter3d"
           }
          ],
          "scattercarpet": [
           {
            "marker": {
             "colorbar": {
              "outlinewidth": 0,
              "ticks": ""
             }
            },
            "type": "scattercarpet"
           }
          ],
          "scattergeo": [
           {
            "marker": {
             "colorbar": {
              "outlinewidth": 0,
              "ticks": ""
             }
            },
            "type": "scattergeo"
           }
          ],
          "scattergl": [
           {
            "marker": {
             "colorbar": {
              "outlinewidth": 0,
              "ticks": ""
             }
            },
            "type": "scattergl"
           }
          ],
          "scattermapbox": [
           {
            "marker": {
             "colorbar": {
              "outlinewidth": 0,
              "ticks": ""
             }
            },
            "type": "scattermapbox"
           }
          ],
          "scatterpolar": [
           {
            "marker": {
             "colorbar": {
              "outlinewidth": 0,
              "ticks": ""
             }
            },
            "type": "scatterpolar"
           }
          ],
          "scatterpolargl": [
           {
            "marker": {
             "colorbar": {
              "outlinewidth": 0,
              "ticks": ""
             }
            },
            "type": "scatterpolargl"
           }
          ],
          "scatterternary": [
           {
            "marker": {
             "colorbar": {
              "outlinewidth": 0,
              "ticks": ""
             }
            },
            "type": "scatterternary"
           }
          ],
          "surface": [
           {
            "colorbar": {
             "outlinewidth": 0,
             "ticks": ""
            },
            "colorscale": [
             [
              0,
              "#0d0887"
             ],
             [
              0.1111111111111111,
              "#46039f"
             ],
             [
              0.2222222222222222,
              "#7201a8"
             ],
             [
              0.3333333333333333,
              "#9c179e"
             ],
             [
              0.4444444444444444,
              "#bd3786"
             ],
             [
              0.5555555555555556,
              "#d8576b"
             ],
             [
              0.6666666666666666,
              "#ed7953"
             ],
             [
              0.7777777777777778,
              "#fb9f3a"
             ],
             [
              0.8888888888888888,
              "#fdca26"
             ],
             [
              1,
              "#f0f921"
             ]
            ],
            "type": "surface"
           }
          ],
          "table": [
           {
            "cells": {
             "fill": {
              "color": "#EBF0F8"
             },
             "line": {
              "color": "white"
             }
            },
            "header": {
             "fill": {
              "color": "#C8D4E3"
             },
             "line": {
              "color": "white"
             }
            },
            "type": "table"
           }
          ]
         },
         "layout": {
          "annotationdefaults": {
           "arrowcolor": "#2a3f5f",
           "arrowhead": 0,
           "arrowwidth": 1
          },
          "coloraxis": {
           "colorbar": {
            "outlinewidth": 0,
            "ticks": ""
           }
          },
          "colorscale": {
           "diverging": [
            [
             0,
             "#8e0152"
            ],
            [
             0.1,
             "#c51b7d"
            ],
            [
             0.2,
             "#de77ae"
            ],
            [
             0.3,
             "#f1b6da"
            ],
            [
             0.4,
             "#fde0ef"
            ],
            [
             0.5,
             "#f7f7f7"
            ],
            [
             0.6,
             "#e6f5d0"
            ],
            [
             0.7,
             "#b8e186"
            ],
            [
             0.8,
             "#7fbc41"
            ],
            [
             0.9,
             "#4d9221"
            ],
            [
             1,
             "#276419"
            ]
           ],
           "sequential": [
            [
             0,
             "#0d0887"
            ],
            [
             0.1111111111111111,
             "#46039f"
            ],
            [
             0.2222222222222222,
             "#7201a8"
            ],
            [
             0.3333333333333333,
             "#9c179e"
            ],
            [
             0.4444444444444444,
             "#bd3786"
            ],
            [
             0.5555555555555556,
             "#d8576b"
            ],
            [
             0.6666666666666666,
             "#ed7953"
            ],
            [
             0.7777777777777778,
             "#fb9f3a"
            ],
            [
             0.8888888888888888,
             "#fdca26"
            ],
            [
             1,
             "#f0f921"
            ]
           ],
           "sequentialminus": [
            [
             0,
             "#0d0887"
            ],
            [
             0.1111111111111111,
             "#46039f"
            ],
            [
             0.2222222222222222,
             "#7201a8"
            ],
            [
             0.3333333333333333,
             "#9c179e"
            ],
            [
             0.4444444444444444,
             "#bd3786"
            ],
            [
             0.5555555555555556,
             "#d8576b"
            ],
            [
             0.6666666666666666,
             "#ed7953"
            ],
            [
             0.7777777777777778,
             "#fb9f3a"
            ],
            [
             0.8888888888888888,
             "#fdca26"
            ],
            [
             1,
             "#f0f921"
            ]
           ]
          },
          "colorway": [
           "#636efa",
           "#EF553B",
           "#00cc96",
           "#ab63fa",
           "#FFA15A",
           "#19d3f3",
           "#FF6692",
           "#B6E880",
           "#FF97FF",
           "#FECB52"
          ],
          "font": {
           "color": "#2a3f5f"
          },
          "geo": {
           "bgcolor": "white",
           "lakecolor": "white",
           "landcolor": "#E5ECF6",
           "showlakes": true,
           "showland": true,
           "subunitcolor": "white"
          },
          "hoverlabel": {
           "align": "left"
          },
          "hovermode": "closest",
          "mapbox": {
           "style": "light"
          },
          "paper_bgcolor": "white",
          "plot_bgcolor": "#E5ECF6",
          "polar": {
           "angularaxis": {
            "gridcolor": "white",
            "linecolor": "white",
            "ticks": ""
           },
           "bgcolor": "#E5ECF6",
           "radialaxis": {
            "gridcolor": "white",
            "linecolor": "white",
            "ticks": ""
           }
          },
          "scene": {
           "xaxis": {
            "backgroundcolor": "#E5ECF6",
            "gridcolor": "white",
            "gridwidth": 2,
            "linecolor": "white",
            "showbackground": true,
            "ticks": "",
            "zerolinecolor": "white"
           },
           "yaxis": {
            "backgroundcolor": "#E5ECF6",
            "gridcolor": "white",
            "gridwidth": 2,
            "linecolor": "white",
            "showbackground": true,
            "ticks": "",
            "zerolinecolor": "white"
           },
           "zaxis": {
            "backgroundcolor": "#E5ECF6",
            "gridcolor": "white",
            "gridwidth": 2,
            "linecolor": "white",
            "showbackground": true,
            "ticks": "",
            "zerolinecolor": "white"
           }
          },
          "shapedefaults": {
           "line": {
            "color": "#2a3f5f"
           }
          },
          "ternary": {
           "aaxis": {
            "gridcolor": "white",
            "linecolor": "white",
            "ticks": ""
           },
           "baxis": {
            "gridcolor": "white",
            "linecolor": "white",
            "ticks": ""
           },
           "bgcolor": "#E5ECF6",
           "caxis": {
            "gridcolor": "white",
            "linecolor": "white",
            "ticks": ""
           }
          },
          "title": {
           "x": 0.05
          },
          "xaxis": {
           "automargin": true,
           "gridcolor": "white",
           "linecolor": "white",
           "ticks": "",
           "title": {
            "standoff": 15
           },
           "zerolinecolor": "white",
           "zerolinewidth": 2
          },
          "yaxis": {
           "automargin": true,
           "gridcolor": "white",
           "linecolor": "white",
           "ticks": "",
           "title": {
            "standoff": 15
           },
           "zerolinecolor": "white",
           "zerolinewidth": 2
          }
         }
        },
        "width": 2300
       }
      }
     },
     "metadata": {},
     "output_type": "display_data"
    }
   ],
   "source": [
    "fig = make_subplots(rows=2, cols=3, #subplot_titles=('Grandfathering (GF)',\n",
    "                                                    # 'Per Capita (PC)',\n",
    "                                                    # 'Per Capita Convergence (PCC)',\n",
    "                                                    # 'Equal Cumulative Per Capita',\n",
    "                                                    # 'Ability to pay (AP)',\n",
    "                                                    # 'Greenhouse Development Rights'), \n",
    "                                    specs=[[{'type': 'choropleth'}, {'type': 'choropleth'}, {'type': 'choropleth'}],\n",
    "                                           [{'type': 'choropleth'}, {'type': 'choropleth'}, {'type': 'choropleth'}]],\n",
    "                                    horizontal_spacing = 0,\n",
    "                                    vertical_spacing=0)\n",
    "\n",
    "colorbar_abs = dict(len=1, x=1, tickvals = [0, 1, 2, 3], ticktext = ['1', '10', '100', '1000'])\n",
    "colorbar_pc = dict(len=1, x=1)\n",
    "\n",
    "for var_i, var in enumerate(rules):\n",
    "    if var_i == 0:\n",
    "        cm= True\n",
    "    else:\n",
    "        cm= False\n",
    "    fig.add_trace(\n",
    "        go.Choropleth(\n",
    "        locations=group_eu,\n",
    "        z = data2[var],\n",
    "        locationmode = 'ISO-3',\n",
    "        colorscale = 'RdBu',\n",
    "        zmax = 18,\n",
    "        zmin = -18,\n",
    "        text = [str(r)+\": {:0.2f} Gt CO<sub>2</sub>e\".format(float(data2.sel(Region=r)[var])) for r_i, r in enumerate(group_eu)],\n",
    "        hovertemplate  = '%{text}',\n",
    "        name=\"\",\n",
    "        marker_line_color='grey', \n",
    "        marker_line_width=0.7,\n",
    "        colorbar=dict(len=1, x=1, tickvals = np.arange(-25, 25+0.1, 5), title={\"text\":\"CO<sub>2</sub>e budget<br>2021-2100<br>expressed<br>in 2021<br>emissions\"}, tickfont={'size': 25}),\n",
    "        showscale=cm\n",
    "    ), [1, 1, 1, 2, 2, 2][var_i], [1, 2, 3, 1, 2, 3][var_i])\n",
    "# fig.update_geos(showocean=True, oceancolor=\"white\")\n",
    "# fig.update_geos(showlakes=True, lakecolor=\"white\")\n",
    "\n",
    "# limite map scope to USA 'africa', 'asia', 'europe', 'north america', 'south america', 'usa', 'world'\n",
    "fig.update_layout(\n",
    "    geo1 = dict(scope='europe', \n",
    "                showlakes=False,\n",
    "                lakecolor='rgb(255, 255, 255)',\n",
    "                showcoastlines=False,),\n",
    "    geo2 = dict(scope='europe', \n",
    "                showlakes=False,\n",
    "                lakecolor='rgb(255, 255, 255)',\n",
    "                showcoastlines=False,),\n",
    "    geo3 = dict(scope='europe', \n",
    "                showlakes=False,\n",
    "                lakecolor='rgb(255, 255, 255)',\n",
    "                showcoastlines=False,),\n",
    "    geo4 = dict(scope='europe', \n",
    "                showlakes=False,\n",
    "                lakecolor='rgb(255, 255, 255)',\n",
    "                showcoastlines=False,),\n",
    "    geo5 = dict(scope='europe', \n",
    "                showlakes=False,\n",
    "                lakecolor='rgb(255, 255, 255)',\n",
    "                showcoastlines=False,),\n",
    "    geo6 = dict(scope='europe', \n",
    "                showlakes=False,\n",
    "                showcoastlines=False,),\n",
    ")\n",
    "\n",
    "mn = np.min(np.array([float(data2[rules].min()[r]) for r in rules]))\n",
    "mx = np.max(np.array([float(data2[rules].max()[r]) for r in rules]))\n",
    "for var_i, var in enumerate(rules):\n",
    "    vals = np.array(data2[var]).astype(float)\n",
    "    vals_i = (vals + mn)**1.2\n",
    "    vals_n = 14*(vals - mn)/(mx - mn)+7\n",
    "    vals_boolean = np.copy(vals)\n",
    "    vals_boolean[vals >= 0] = 1\n",
    "    vals_boolean[vals < 0] = 0\n",
    "    vals_boolean = vals_boolean.astype(int)\n",
    "    \n",
    "    fig.add_scattergeo(\n",
    "                locations = group_eu,\n",
    "                text = vals.round(0),\n",
    "                featureidkey=\"properties.NAME_3\",\n",
    "                mode = 'text',\n",
    "                hoverinfo='skip',\n",
    "                showlegend=False,\n",
    "                textfont={'size': 20,\n",
    "                          'color': np.array(['black', 'black'])[vals_boolean]},\n",
    "                row=[1, 1, 1, 2, 2, 2][var_i],\n",
    "                col=[1, 2, 3, 1, 2, 3][var_i])\n",
    "\n",
    "fig.update_geos(visible=False,\n",
    "                showlakes=True,\n",
    "                lakecolor='rgb(255, 255, 255)',\n",
    "                projection_type='natural earth',\n",
    "                resolution=50,\n",
    "                lataxis_range=[30,75], lonaxis_range=[-20, 40],\n",
    "                showcoastlines=False,)\n",
    "\n",
    "#fig.update_traces(showscale=False)\n",
    "fig.update_layout(height=1200, width=2300)\n",
    "fig.update_geos(visible=True, showcountries=False)#fitbounds=\"locations\",\n",
    "fig.update_layout(margin={\"r\":0,\"t\":0,\"l\":0,\"b\":0})\n",
    "\n",
    "fig.add_annotation(xref='paper', yref='paper',ax=0, align='left', ay=-0, showarrow=False, font=dict(color='black', size=25),\n",
    "                   y=0.96, x=0.07, text=\"<b>(a) Grandfathering</b>\")\n",
    "fig.add_annotation(xref='paper', yref='paper',ax=0, align='left', ay=-0, showarrow=False, font=dict(color='black', size=25),\n",
    "                   y=0.96, x=0.47, text=\"<b>(b) Per Capita</b>\")\n",
    "fig.add_annotation(xref='paper', yref='paper',ax=0, align='left', ay=-0, showarrow=False, font=dict(color='black', size=25),\n",
    "                   y=0.96, x=0.90, text=\"<b>(c) Per Capita Convergence</b>\")\n",
    "fig.add_annotation(xref='paper', yref='paper',ax=0, align='left', ay=-0, showarrow=False, font=dict(color='black', size=25),\n",
    "                   y=0.45, x=0.07, text=\"<b>(d) Equal Cumulative per Capita</b>\")\n",
    "fig.add_annotation(xref='paper', yref='paper',ax=0, align='left', ay=-0, showarrow=False, font=dict(color='black', size=25),\n",
    "                   y=0.45, x=0.48, text=\"<b>(e) Ability to Pay</b>\")\n",
    "fig.add_annotation(xref='paper', yref='paper',ax=0, align='left', ay=-0, showarrow=False, font=dict(color='black', size=25),\n",
    "                   y=0.45, x=0.95, text=\"<b>(f) Greenhouse Development Rights</b>\")\n",
    "fig_europe = fig\n",
    "fig.show()"
   ]
  },
  {
   "cell_type": "code",
   "execution_count": 13,
   "metadata": {},
   "outputs": [],
   "source": [
    "fig.write_image(\"X:/user/dekkerm/Projects/ECEMF_T5.2/Figures/Presentations/Europe_budget_rel.png\", scale=3)"
   ]
  },
  {
   "cell_type": "code",
   "execution_count": 14,
   "metadata": {},
   "outputs": [],
   "source": [
    "data3 = xrt.sel(**standard_settings, Time=2030, Region=group_eu).mean(dim='Scenario')"
   ]
  },
  {
   "cell_type": "code",
   "execution_count": 15,
   "metadata": {},
   "outputs": [
    {
     "name": "stderr",
     "output_type": "stream",
     "text": [
      "<ipython-input-15-2db589ff4327>:70: RuntimeWarning:\n",
      "\n",
      "invalid value encountered in power\n",
      "\n"
     ]
    },
    {
     "data": {
      "application/vnd.plotly.v1+json": {
       "config": {
        "plotlyServerURL": "https://plotly.com"
       },
       "data": [
        {
         "colorbar": {
          "len": 1,
          "tickfont": {
           "size": 25
          },
          "tickvals": [
           -500,
           -450,
           -400,
           -350,
           -300,
           -250,
           -200,
           -150,
           -100,
           -50,
           0,
           50,
           100,
           150,
           200,
           250,
           300,
           350,
           400,
           450
          ],
          "title": {
           "text": "GHG<br>allocation<br>in 2030"
          },
          "x": 1
         },
         "colorscale": [
          [
           0,
           "rgb(103,0,31)"
          ],
          [
           0.1,
           "rgb(178,24,43)"
          ],
          [
           0.2,
           "rgb(214,96,77)"
          ],
          [
           0.3,
           "rgb(244,165,130)"
          ],
          [
           0.4,
           "rgb(253,219,199)"
          ],
          [
           0.5,
           "rgb(247,247,247)"
          ],
          [
           0.6,
           "rgb(209,229,240)"
          ],
          [
           0.7,
           "rgb(146,197,222)"
          ],
          [
           0.8,
           "rgb(67,147,195)"
          ],
          [
           0.9,
           "rgb(33,102,172)"
          ],
          [
           1,
           "rgb(5,48,97)"
          ]
         ],
         "geo": "geo",
         "hovertemplate": "%{text}",
         "locationmode": "ISO-3",
         "locations": [
          "AUT",
          "BEL",
          "BGR",
          "HRV",
          "CYP",
          "CZE",
          "DNK",
          "EST",
          "FIN",
          "FRA",
          "DEU",
          "GRC",
          "HUN",
          "IRL",
          "ITA",
          "LVA",
          "LTU",
          "LUX",
          "MLT",
          "NLD",
          "POL",
          "PRT",
          "ROU",
          "SVK",
          "SVN",
          "ESP",
          "SWE"
         ],
         "marker": {
          "line": {
           "color": "grey",
           "width": 0.7
          }
         },
         "name": "",
         "showscale": true,
         "text": [
          "AUT: 41.77 Gt CO<sub>2</sub>e",
          "BEL: 74.89 Gt CO<sub>2</sub>e",
          "BGR: 13.53 Gt CO<sub>2</sub>e",
          "HRV: 11.91 Gt CO<sub>2</sub>e",
          "CYP: 4.43 Gt CO<sub>2</sub>e",
          "CZE: 63.75 Gt CO<sub>2</sub>e",
          "DNK: 26.21 Gt CO<sub>2</sub>e",
          "EST: 14.09 Gt CO<sub>2</sub>e",
          "FIN: 43.14 Gt CO<sub>2</sub>e",
          "FRA: 212.27 Gt CO<sub>2</sub>e",
          "DEU: 433.19 Gt CO<sub>2</sub>e",
          "GRC: 44.20 Gt CO<sub>2</sub>e",
          "HUN: 42.18 Gt CO<sub>2</sub>e",
          "IRL: 36.02 Gt CO<sub>2</sub>e",
          "ITA: 221.41 Gt CO<sub>2</sub>e",
          "LVA: 5.38 Gt CO<sub>2</sub>e",
          "LTU: 15.67 Gt CO<sub>2</sub>e",
          "LUX: 5.58 Gt CO<sub>2</sub>e",
          "MLT: 1.46 Gt CO<sub>2</sub>e",
          "NLD: 115.26 Gt CO<sub>2</sub>e",
          "POL: 227.19 Gt CO<sub>2</sub>e",
          "PRT: 31.63 Gt CO<sub>2</sub>e",
          "ROU: 53.38 Gt CO<sub>2</sub>e",
          "SVK: 25.93 Gt CO<sub>2</sub>e",
          "SVN: 10.22 Gt CO<sub>2</sub>e",
          "ESP: 174.31 Gt CO<sub>2</sub>e",
          "SWE: 26.68 Gt CO<sub>2</sub>e"
         ],
         "type": "choropleth",
         "z": [
          41.76933670043945,
          74.89481353759766,
          13.533304214477539,
          11.907685279846191,
          4.4255452156066895,
          63.74798583984375,
          26.210947036743164,
          14.09138011932373,
          43.138484954833984,
          212.2740478515625,
          433.1900634765625,
          44.19623947143555,
          42.17705154418945,
          36.01893615722656,
          221.4105987548828,
          5.379307746887207,
          15.674782752990723,
          5.580759048461914,
          1.462419867515564,
          115.256591796875,
          227.18553161621094,
          31.628734588623047,
          53.383914947509766,
          25.926631927490234,
          10.223128318786621,
          174.3074951171875,
          26.679100036621094
         ],
         "zmax": 500,
         "zmin": -500
        },
        {
         "colorbar": {
          "len": 1,
          "tickfont": {
           "size": 25
          },
          "tickvals": [
           -500,
           -450,
           -400,
           -350,
           -300,
           -250,
           -200,
           -150,
           -100,
           -50,
           0,
           50,
           100,
           150,
           200,
           250,
           300,
           350,
           400,
           450
          ],
          "title": {
           "text": "GHG<br>allocation<br>in 2030"
          },
          "x": 1
         },
         "colorscale": [
          [
           0,
           "rgb(103,0,31)"
          ],
          [
           0.1,
           "rgb(178,24,43)"
          ],
          [
           0.2,
           "rgb(214,96,77)"
          ],
          [
           0.3,
           "rgb(244,165,130)"
          ],
          [
           0.4,
           "rgb(253,219,199)"
          ],
          [
           0.5,
           "rgb(247,247,247)"
          ],
          [
           0.6,
           "rgb(209,229,240)"
          ],
          [
           0.7,
           "rgb(146,197,222)"
          ],
          [
           0.8,
           "rgb(67,147,195)"
          ],
          [
           0.9,
           "rgb(33,102,172)"
          ],
          [
           1,
           "rgb(5,48,97)"
          ]
         ],
         "geo": "geo2",
         "hovertemplate": "%{text}",
         "locationmode": "ISO-3",
         "locations": [
          "AUT",
          "BEL",
          "BGR",
          "HRV",
          "CYP",
          "CZE",
          "DNK",
          "EST",
          "FIN",
          "FRA",
          "DEU",
          "GRC",
          "HUN",
          "IRL",
          "ITA",
          "LVA",
          "LTU",
          "LUX",
          "MLT",
          "NLD",
          "POL",
          "PRT",
          "ROU",
          "SVK",
          "SVN",
          "ESP",
          "SWE"
         ],
         "marker": {
          "line": {
           "color": "grey",
           "width": 0.7
          }
         },
         "name": "",
         "showscale": false,
         "text": [
          "AUT: 35.61 Gt CO<sub>2</sub>e",
          "BEL: 46.19 Gt CO<sub>2</sub>e",
          "BGR: 28.70 Gt CO<sub>2</sub>e",
          "HRV: 17.65 Gt CO<sub>2</sub>e",
          "CYP: 5.14 Gt CO<sub>2</sub>e",
          "CZE: 44.94 Gt CO<sub>2</sub>e",
          "DNK: 23.81 Gt CO<sub>2</sub>e",
          "EST: 5.40 Gt CO<sub>2</sub>e",
          "FIN: 23.02 Gt CO<sub>2</sub>e",
          "FRA: 283.21 Gt CO<sub>2</sub>e",
          "DEU: 334.37 Gt CO<sub>2</sub>e",
          "GRC: 46.66 Gt CO<sub>2</sub>e",
          "HUN: 39.65 Gt CO<sub>2</sub>e",
          "IRL: 20.74 Gt CO<sub>2</sub>e",
          "ITA: 252.12 Gt CO<sub>2</sub>e",
          "LVA: 8.62 Gt CO<sub>2</sub>e",
          "LTU: 12.94 Gt CO<sub>2</sub>e",
          "LUX: 2.45 Gt CO<sub>2</sub>e",
          "MLT: 1.77 Gt CO<sub>2</sub>e",
          "NLD: 70.71 Gt CO<sub>2</sub>e",
          "POL: 156.68 Gt CO<sub>2</sub>e",
          "PRT: 44.60 Gt CO<sub>2</sub>e",
          "ROU: 84.39 Gt CO<sub>2</sub>e",
          "SVK: 22.92 Gt CO<sub>2</sub>e",
          "SVN: 8.57 Gt CO<sub>2</sub>e",
          "ESP: 199.72 Gt CO<sub>2</sub>e",
          "SWE: 41.90 Gt CO<sub>2</sub>e"
         ],
         "type": "choropleth",
         "z": [
          35.60893630981445,
          46.194969177246094,
          28.6967716217041,
          17.649139404296875,
          5.137632846832275,
          44.93974685668945,
          23.811717987060547,
          5.397513389587402,
          23.022249221801758,
          283.2120666503906,
          334.3664245605469,
          46.663185119628906,
          39.65043258666992,
          20.74411964416504,
          252.11703491210938,
          8.618592262268066,
          12.943208694458008,
          2.4545350074768066,
          1.7709468603134155,
          70.71404266357422,
          156.6752166748047,
          44.602210998535156,
          84.3904800415039,
          22.917499542236328,
          8.566465377807617,
          199.72164916992188,
          41.89612579345703
         ],
         "zmax": 500,
         "zmin": -500
        },
        {
         "colorbar": {
          "len": 1,
          "tickfont": {
           "size": 25
          },
          "tickvals": [
           -500,
           -450,
           -400,
           -350,
           -300,
           -250,
           -200,
           -150,
           -100,
           -50,
           0,
           50,
           100,
           150,
           200,
           250,
           300,
           350,
           400,
           450
          ],
          "title": {
           "text": "GHG<br>allocation<br>in 2030"
          },
          "x": 1
         },
         "colorscale": [
          [
           0,
           "rgb(103,0,31)"
          ],
          [
           0.1,
           "rgb(178,24,43)"
          ],
          [
           0.2,
           "rgb(214,96,77)"
          ],
          [
           0.3,
           "rgb(244,165,130)"
          ],
          [
           0.4,
           "rgb(253,219,199)"
          ],
          [
           0.5,
           "rgb(247,247,247)"
          ],
          [
           0.6,
           "rgb(209,229,240)"
          ],
          [
           0.7,
           "rgb(146,197,222)"
          ],
          [
           0.8,
           "rgb(67,147,195)"
          ],
          [
           0.9,
           "rgb(33,102,172)"
          ],
          [
           1,
           "rgb(5,48,97)"
          ]
         ],
         "geo": "geo3",
         "hovertemplate": "%{text}",
         "locationmode": "ISO-3",
         "locations": [
          "AUT",
          "BEL",
          "BGR",
          "HRV",
          "CYP",
          "CZE",
          "DNK",
          "EST",
          "FIN",
          "FRA",
          "DEU",
          "GRC",
          "HUN",
          "IRL",
          "ITA",
          "LVA",
          "LTU",
          "LUX",
          "MLT",
          "NLD",
          "POL",
          "PRT",
          "ROU",
          "SVK",
          "SVN",
          "ESP",
          "SWE"
         ],
         "marker": {
          "line": {
           "color": "grey",
           "width": 0.7
          }
         },
         "name": "",
         "showscale": false,
         "text": [
          "AUT: 39.86 Gt CO<sub>2</sub>e",
          "BEL: 65.99 Gt CO<sub>2</sub>e",
          "BGR: 18.24 Gt CO<sub>2</sub>e",
          "HRV: 13.69 Gt CO<sub>2</sub>e",
          "CYP: 4.65 Gt CO<sub>2</sub>e",
          "CZE: 57.91 Gt CO<sub>2</sub>e",
          "DNK: 25.47 Gt CO<sub>2</sub>e",
          "EST: 11.39 Gt CO<sub>2</sub>e",
          "FIN: 36.90 Gt CO<sub>2</sub>e",
          "FRA: 234.29 Gt CO<sub>2</sub>e",
          "DEU: 402.52 Gt CO<sub>2</sub>e",
          "GRC: 44.96 Gt CO<sub>2</sub>e",
          "HUN: 41.39 Gt CO<sub>2</sub>e",
          "IRL: 31.28 Gt CO<sub>2</sub>e",
          "ITA: 230.94 Gt CO<sub>2</sub>e",
          "LVA: 6.38 Gt CO<sub>2</sub>e",
          "LTU: 14.83 Gt CO<sub>2</sub>e",
          "LUX: 4.61 Gt CO<sub>2</sub>e",
          "MLT: 1.56 Gt CO<sub>2</sub>e",
          "NLD: 101.43 Gt CO<sub>2</sub>e",
          "POL: 205.30 Gt CO<sub>2</sub>e",
          "PRT: 35.65 Gt CO<sub>2</sub>e",
          "ROU: 63.01 Gt CO<sub>2</sub>e",
          "SVK: 24.99 Gt CO<sub>2</sub>e",
          "SVN: 9.71 Gt CO<sub>2</sub>e",
          "ESP: 182.19 Gt CO<sub>2</sub>e",
          "SWE: 31.40 Gt CO<sub>2</sub>e"
         ],
         "type": "choropleth",
         "z": [
          39.85749053955078,
          65.98796844482422,
          18.239208221435547,
          13.689516067504883,
          4.646538257598877,
          57.91094207763672,
          25.466360092163086,
          11.39328384399414,
          36.89551544189453,
          234.28927612304688,
          402.5206604003906,
          44.96184539794922,
          41.39292907714844,
          31.27847671508789,
          230.940185546875,
          6.3846025466918945,
          14.827052116394043,
          4.610551834106445,
          1.5581696033477783,
          101.43304443359375,
          205.3030242919922,
          35.65498733520508,
          63.00664520263672,
          24.992761611938477,
          9.708992004394531,
          182.19464111328125,
          31.401626586914062
         ],
         "zmax": 500,
         "zmin": -500
        },
        {
         "colorbar": {
          "len": 1,
          "tickfont": {
           "size": 25
          },
          "tickvals": [
           -500,
           -450,
           -400,
           -350,
           -300,
           -250,
           -200,
           -150,
           -100,
           -50,
           0,
           50,
           100,
           150,
           200,
           250,
           300,
           350,
           400,
           450
          ],
          "title": {
           "text": "GHG<br>allocation<br>in 2030"
          },
          "x": 1
         },
         "colorscale": [
          [
           0,
           "rgb(103,0,31)"
          ],
          [
           0.1,
           "rgb(178,24,43)"
          ],
          [
           0.2,
           "rgb(214,96,77)"
          ],
          [
           0.3,
           "rgb(244,165,130)"
          ],
          [
           0.4,
           "rgb(253,219,199)"
          ],
          [
           0.5,
           "rgb(247,247,247)"
          ],
          [
           0.6,
           "rgb(209,229,240)"
          ],
          [
           0.7,
           "rgb(146,197,222)"
          ],
          [
           0.8,
           "rgb(67,147,195)"
          ],
          [
           0.9,
           "rgb(33,102,172)"
          ],
          [
           1,
           "rgb(5,48,97)"
          ]
         ],
         "geo": "geo4",
         "hovertemplate": "%{text}",
         "locationmode": "ISO-3",
         "locations": [
          "AUT",
          "BEL",
          "BGR",
          "HRV",
          "CYP",
          "CZE",
          "DNK",
          "EST",
          "FIN",
          "FRA",
          "DEU",
          "GRC",
          "HUN",
          "IRL",
          "ITA",
          "LVA",
          "LTU",
          "LUX",
          "MLT",
          "NLD",
          "POL",
          "PRT",
          "ROU",
          "SVK",
          "SVN",
          "ESP",
          "SWE"
         ],
         "marker": {
          "line": {
           "color": "grey",
           "width": 0.7
          }
         },
         "name": "",
         "showscale": false,
         "text": [
          "AUT: 26.11 Gt CO<sub>2</sub>e",
          "BEL: 25.75 Gt CO<sub>2</sub>e",
          "BGR: -0.04 Gt CO<sub>2</sub>e",
          "HRV: 9.77 Gt CO<sub>2</sub>e",
          "CYP: 4.78 Gt CO<sub>2</sub>e",
          "CZE: 1.53 Gt CO<sub>2</sub>e",
          "DNK: 7.09 Gt CO<sub>2</sub>e",
          "EST: 1.87 Gt CO<sub>2</sub>e",
          "FIN: 22.21 Gt CO<sub>2</sub>e",
          "FRA: 140.10 Gt CO<sub>2</sub>e",
          "DEU: 50.98 Gt CO<sub>2</sub>e",
          "GRC: 32.11 Gt CO<sub>2</sub>e",
          "HUN: 21.00 Gt CO<sub>2</sub>e",
          "IRL: 19.94 Gt CO<sub>2</sub>e",
          "ITA: 166.30 Gt CO<sub>2</sub>e",
          "LVA: 4.51 Gt CO<sub>2</sub>e",
          "LTU: 5.60 Gt CO<sub>2</sub>e",
          "LUX: 0.69 Gt CO<sub>2</sub>e",
          "MLT: 1.62 Gt CO<sub>2</sub>e",
          "NLD: 45.98 Gt CO<sub>2</sub>e",
          "POL: 72.26 Gt CO<sub>2</sub>e",
          "PRT: 34.15 Gt CO<sub>2</sub>e",
          "ROU: 30.05 Gt CO<sub>2</sub>e",
          "SVK: 12.37 Gt CO<sub>2</sub>e",
          "SVN: 7.05 Gt CO<sub>2</sub>e",
          "ESP: 164.05 Gt CO<sub>2</sub>e",
          "SWE: 17.61 Gt CO<sub>2</sub>e"
         ],
         "type": "choropleth",
         "z": [
          26.110855102539062,
          25.746261596679688,
          -0.03998754173517227,
          9.770650863647461,
          4.780120849609375,
          1.5274603366851807,
          7.092994689941406,
          1.867078185081482,
          22.208086013793945,
          140.1012420654297,
          50.97746276855469,
          32.10920333862305,
          21.000381469726562,
          19.94449234008789,
          166.30389404296875,
          4.5125837326049805,
          5.597966194152832,
          0.6945945024490356,
          1.6154886484146118,
          45.9817008972168,
          72.25654602050781,
          34.147586822509766,
          30.051982879638672,
          12.370306015014648,
          7.051119327545166,
          164.0514678955078,
          17.613910675048828
         ],
         "zmax": 500,
         "zmin": -500
        },
        {
         "colorbar": {
          "len": 1,
          "tickfont": {
           "size": 25
          },
          "tickvals": [
           -500,
           -450,
           -400,
           -350,
           -300,
           -250,
           -200,
           -150,
           -100,
           -50,
           0,
           50,
           100,
           150,
           200,
           250,
           300,
           350,
           400,
           450
          ],
          "title": {
           "text": "GHG<br>allocation<br>in 2030"
          },
          "x": 1
         },
         "colorscale": [
          [
           0,
           "rgb(103,0,31)"
          ],
          [
           0.1,
           "rgb(178,24,43)"
          ],
          [
           0.2,
           "rgb(214,96,77)"
          ],
          [
           0.3,
           "rgb(244,165,130)"
          ],
          [
           0.4,
           "rgb(253,219,199)"
          ],
          [
           0.5,
           "rgb(247,247,247)"
          ],
          [
           0.6,
           "rgb(209,229,240)"
          ],
          [
           0.7,
           "rgb(146,197,222)"
          ],
          [
           0.8,
           "rgb(67,147,195)"
          ],
          [
           0.9,
           "rgb(33,102,172)"
          ],
          [
           1,
           "rgb(5,48,97)"
          ]
         ],
         "geo": "geo5",
         "hovertemplate": "%{text}",
         "locationmode": "ISO-3",
         "locations": [
          "AUT",
          "BEL",
          "BGR",
          "HRV",
          "CYP",
          "CZE",
          "DNK",
          "EST",
          "FIN",
          "FRA",
          "DEU",
          "GRC",
          "HUN",
          "IRL",
          "ITA",
          "LVA",
          "LTU",
          "LUX",
          "MLT",
          "NLD",
          "POL",
          "PRT",
          "ROU",
          "SVK",
          "SVN",
          "ESP",
          "SWE"
         ],
         "marker": {
          "line": {
           "color": "grey",
           "width": 0.7
          }
         },
         "name": "",
         "showscale": false,
         "text": [
          "AUT: 27.61 Gt CO<sub>2</sub>e",
          "BEL: 51.87 Gt CO<sub>2</sub>e",
          "BGR: 10.41 Gt CO<sub>2</sub>e",
          "HRV: 10.62 Gt CO<sub>2</sub>e",
          "CYP: 3.59 Gt CO<sub>2</sub>e",
          "CZE: 44.52 Gt CO<sub>2</sub>e",
          "DNK: 18.54 Gt CO<sub>2</sub>e",
          "EST: 10.71 Gt CO<sub>2</sub>e",
          "FIN: 29.81 Gt CO<sub>2</sub>e",
          "FRA: 155.82 Gt CO<sub>2</sub>e",
          "DEU: 285.89 Gt CO<sub>2</sub>e",
          "GRC: 33.39 Gt CO<sub>2</sub>e",
          "HUN: 37.53 Gt CO<sub>2</sub>e",
          "IRL: 24.54 Gt CO<sub>2</sub>e",
          "ITA: 171.73 Gt CO<sub>2</sub>e",
          "LVA: 4.63 Gt CO<sub>2</sub>e",
          "LTU: 13.36 Gt CO<sub>2</sub>e",
          "LUX: 2.74 Gt CO<sub>2</sub>e",
          "MLT: 0.99 Gt CO<sub>2</sub>e",
          "NLD: 75.51 Gt CO<sub>2</sub>e",
          "POL: 177.53 Gt CO<sub>2</sub>e",
          "PRT: 25.18 Gt CO<sub>2</sub>e",
          "ROU: 49.58 Gt CO<sub>2</sub>e",
          "SVK: nan Gt CO<sub>2</sub>e",
          "SVN: 7.59 Gt CO<sub>2</sub>e",
          "ESP: 134.60 Gt CO<sub>2</sub>e",
          "SWE: 17.35 Gt CO<sub>2</sub>e"
         ],
         "type": "choropleth",
         "z": [
          27.605504989624023,
          51.865623474121094,
          10.412332534790039,
          10.623444557189941,
          3.5928680896759033,
          44.51954650878906,
          18.536972045898438,
          10.709298133850098,
          29.810958862304688,
          155.8182830810547,
          285.89239501953125,
          33.3900260925293,
          37.53172302246094,
          24.5443058013916,
          171.72959899902344,
          4.633973121643066,
          13.360615730285645,
          2.7350404262542725,
          0.9850528836250305,
          75.50640869140625,
          177.53302001953125,
          25.17865562438965,
          49.575531005859375,
          null,
          7.587446689605713,
          134.60214233398438,
          17.34686279296875
         ],
         "zmax": 500,
         "zmin": -500
        },
        {
         "colorbar": {
          "len": 1,
          "tickfont": {
           "size": 25
          },
          "tickvals": [
           -500,
           -450,
           -400,
           -350,
           -300,
           -250,
           -200,
           -150,
           -100,
           -50,
           0,
           50,
           100,
           150,
           200,
           250,
           300,
           350,
           400,
           450
          ],
          "title": {
           "text": "GHG<br>allocation<br>in 2030"
          },
          "x": 1
         },
         "colorscale": [
          [
           0,
           "rgb(103,0,31)"
          ],
          [
           0.1,
           "rgb(178,24,43)"
          ],
          [
           0.2,
           "rgb(214,96,77)"
          ],
          [
           0.3,
           "rgb(244,165,130)"
          ],
          [
           0.4,
           "rgb(253,219,199)"
          ],
          [
           0.5,
           "rgb(247,247,247)"
          ],
          [
           0.6,
           "rgb(209,229,240)"
          ],
          [
           0.7,
           "rgb(146,197,222)"
          ],
          [
           0.8,
           "rgb(67,147,195)"
          ],
          [
           0.9,
           "rgb(33,102,172)"
          ],
          [
           1,
           "rgb(5,48,97)"
          ]
         ],
         "geo": "geo6",
         "hovertemplate": "%{text}",
         "locationmode": "ISO-3",
         "locations": [
          "AUT",
          "BEL",
          "BGR",
          "HRV",
          "CYP",
          "CZE",
          "DNK",
          "EST",
          "FIN",
          "FRA",
          "DEU",
          "GRC",
          "HUN",
          "IRL",
          "ITA",
          "LVA",
          "LTU",
          "LUX",
          "MLT",
          "NLD",
          "POL",
          "PRT",
          "ROU",
          "SVK",
          "SVN",
          "ESP",
          "SWE"
         ],
         "marker": {
          "line": {
           "color": "grey",
           "width": 0.7
          }
         },
         "name": "",
         "showscale": false,
         "text": [
          "AUT: -48.60 Gt CO<sub>2</sub>e",
          "BEL: -46.08 Gt CO<sub>2</sub>e",
          "BGR: -3.51 Gt CO<sub>2</sub>e",
          "HRV: 1.34 Gt CO<sub>2</sub>e",
          "CYP: -0.06 Gt CO<sub>2</sub>e",
          "CZE: -13.11 Gt CO<sub>2</sub>e",
          "DNK: -59.57 Gt CO<sub>2</sub>e",
          "EST: 8.23 Gt CO<sub>2</sub>e",
          "FIN: -7.60 Gt CO<sub>2</sub>e",
          "FRA: -414.48 Gt CO<sub>2</sub>e",
          "DEU: -566.87 Gt CO<sub>2</sub>e",
          "GRC: -9.45 Gt CO<sub>2</sub>e",
          "HUN: 19.82 Gt CO<sub>2</sub>e",
          "IRL: -62.69 Gt CO<sub>2</sub>e",
          "ITA: -183.29 Gt CO<sub>2</sub>e",
          "LVA: 0.37 Gt CO<sub>2</sub>e",
          "LTU: 7.08 Gt CO<sub>2</sub>e",
          "LUX: -12.60 Gt CO<sub>2</sub>e",
          "MLT: -1.51 Gt CO<sub>2</sub>e",
          "NLD: -103.61 Gt CO<sub>2</sub>e",
          "POL: 126.69 Gt CO<sub>2</sub>e",
          "PRT: -12.82 Gt CO<sub>2</sub>e",
          "ROU: 26.77 Gt CO<sub>2</sub>e",
          "SVK: nan Gt CO<sub>2</sub>e",
          "SVN: -1.40 Gt CO<sub>2</sub>e",
          "ESP: -103.53 Gt CO<sub>2</sub>e",
          "SWE: -104.20 Gt CO<sub>2</sub>e"
         ],
         "type": "choropleth",
         "z": [
          -48.59682083129883,
          -46.07700729370117,
          -3.513256072998047,
          1.3354829549789429,
          -0.055141329765319824,
          -13.11457347869873,
          -59.57197189331055,
          8.22618579864502,
          -7.599565029144287,
          -414.47650146484375,
          -566.8717651367188,
          -9.452609062194824,
          19.82416343688965,
          -62.69196701049805,
          -183.28964233398438,
          0.37194201350212097,
          7.083526611328125,
          -12.60453987121582,
          -1.5070472955703735,
          -103.6099853515625,
          126.69313049316406,
          -12.819982528686523,
          26.765151977539062,
          null,
          -1.3956019878387451,
          -103.53157043457031,
          -104.19718170166016
         ],
         "zmax": 500,
         "zmin": -500
        },
        {
         "featureidkey": "properties.NAME_3",
         "geo": "geo",
         "hoverinfo": "skip",
         "locations": [
          "AUT",
          "BEL",
          "BGR",
          "HRV",
          "CYP",
          "CZE",
          "DNK",
          "EST",
          "FIN",
          "FRA",
          "DEU",
          "GRC",
          "HUN",
          "IRL",
          "ITA",
          "LVA",
          "LTU",
          "LUX",
          "MLT",
          "NLD",
          "POL",
          "PRT",
          "ROU",
          "SVK",
          "SVN",
          "ESP",
          "SWE"
         ],
         "mode": "text",
         "showlegend": false,
         "text": [
          42,
          75,
          14,
          12,
          4,
          64,
          26,
          14,
          43,
          212,
          433,
          44,
          42,
          36,
          221,
          5,
          16,
          6,
          1,
          115,
          227,
          32,
          53,
          26,
          10,
          174,
          27
         ],
         "textfont": {
          "color": "black",
          "size": 20
         },
         "type": "scattergeo"
        },
        {
         "featureidkey": "properties.NAME_3",
         "geo": "geo2",
         "hoverinfo": "skip",
         "locations": [
          "AUT",
          "BEL",
          "BGR",
          "HRV",
          "CYP",
          "CZE",
          "DNK",
          "EST",
          "FIN",
          "FRA",
          "DEU",
          "GRC",
          "HUN",
          "IRL",
          "ITA",
          "LVA",
          "LTU",
          "LUX",
          "MLT",
          "NLD",
          "POL",
          "PRT",
          "ROU",
          "SVK",
          "SVN",
          "ESP",
          "SWE"
         ],
         "mode": "text",
         "showlegend": false,
         "text": [
          36,
          46,
          29,
          18,
          5,
          45,
          24,
          5,
          23,
          283,
          334,
          47,
          40,
          21,
          252,
          9,
          13,
          2,
          2,
          71,
          157,
          45,
          84,
          23,
          9,
          200,
          42
         ],
         "textfont": {
          "color": "black",
          "size": 20
         },
         "type": "scattergeo"
        },
        {
         "featureidkey": "properties.NAME_3",
         "geo": "geo3",
         "hoverinfo": "skip",
         "locations": [
          "AUT",
          "BEL",
          "BGR",
          "HRV",
          "CYP",
          "CZE",
          "DNK",
          "EST",
          "FIN",
          "FRA",
          "DEU",
          "GRC",
          "HUN",
          "IRL",
          "ITA",
          "LVA",
          "LTU",
          "LUX",
          "MLT",
          "NLD",
          "POL",
          "PRT",
          "ROU",
          "SVK",
          "SVN",
          "ESP",
          "SWE"
         ],
         "mode": "text",
         "showlegend": false,
         "text": [
          40,
          66,
          18,
          14,
          5,
          58,
          25,
          11,
          37,
          234,
          403,
          45,
          41,
          31,
          231,
          6,
          15,
          5,
          2,
          101,
          205,
          36,
          63,
          25,
          10,
          182,
          31
         ],
         "textfont": {
          "color": "black",
          "size": 20
         },
         "type": "scattergeo"
        },
        {
         "featureidkey": "properties.NAME_3",
         "geo": "geo4",
         "hoverinfo": "skip",
         "locations": [
          "AUT",
          "BEL",
          "BGR",
          "HRV",
          "CYP",
          "CZE",
          "DNK",
          "EST",
          "FIN",
          "FRA",
          "DEU",
          "GRC",
          "HUN",
          "IRL",
          "ITA",
          "LVA",
          "LTU",
          "LUX",
          "MLT",
          "NLD",
          "POL",
          "PRT",
          "ROU",
          "SVK",
          "SVN",
          "ESP",
          "SWE"
         ],
         "mode": "text",
         "showlegend": false,
         "text": [
          26,
          26,
          0,
          10,
          5,
          2,
          7,
          2,
          22,
          140,
          51,
          32,
          21,
          20,
          166,
          5,
          6,
          1,
          2,
          46,
          72,
          34,
          30,
          12,
          7,
          164,
          18
         ],
         "textfont": {
          "color": "black",
          "size": 20
         },
         "type": "scattergeo"
        },
        {
         "featureidkey": "properties.NAME_3",
         "geo": "geo5",
         "hoverinfo": "skip",
         "locations": [
          "AUT",
          "BEL",
          "BGR",
          "HRV",
          "CYP",
          "CZE",
          "DNK",
          "EST",
          "FIN",
          "FRA",
          "DEU",
          "GRC",
          "HUN",
          "IRL",
          "ITA",
          "LVA",
          "LTU",
          "LUX",
          "MLT",
          "NLD",
          "POL",
          "PRT",
          "ROU",
          "SVK",
          "SVN",
          "ESP",
          "SWE"
         ],
         "mode": "text",
         "showlegend": false,
         "text": [
          28,
          52,
          10,
          11,
          4,
          45,
          19,
          11,
          30,
          156,
          286,
          33,
          38,
          25,
          172,
          5,
          13,
          3,
          1,
          76,
          178,
          25,
          50,
          null,
          8,
          135,
          17
         ],
         "textfont": {
          "color": "black",
          "size": 20
         },
         "type": "scattergeo"
        },
        {
         "featureidkey": "properties.NAME_3",
         "geo": "geo6",
         "hoverinfo": "skip",
         "locations": [
          "AUT",
          "BEL",
          "BGR",
          "HRV",
          "CYP",
          "CZE",
          "DNK",
          "EST",
          "FIN",
          "FRA",
          "DEU",
          "GRC",
          "HUN",
          "IRL",
          "ITA",
          "LVA",
          "LTU",
          "LUX",
          "MLT",
          "NLD",
          "POL",
          "PRT",
          "ROU",
          "SVK",
          "SVN",
          "ESP",
          "SWE"
         ],
         "mode": "text",
         "showlegend": false,
         "text": [
          -49,
          -46,
          -4,
          1,
          0,
          -13,
          -60,
          8,
          -8,
          -414,
          -567,
          -9,
          20,
          -63,
          -183,
          0,
          7,
          -13,
          -2,
          -104,
          127,
          -13,
          27,
          null,
          -1,
          -104,
          -104
         ],
         "textfont": {
          "color": "black",
          "size": 20
         },
         "type": "scattergeo"
        }
       ],
       "layout": {
        "annotations": [
         {
          "align": "left",
          "ax": 0,
          "ay": 0,
          "font": {
           "color": "black",
           "size": 25
          },
          "showarrow": false,
          "text": "<b>(a) Grandfathering</b>",
          "x": 0.07,
          "xref": "paper",
          "y": 0.96,
          "yref": "paper"
         },
         {
          "align": "left",
          "ax": 0,
          "ay": 0,
          "font": {
           "color": "black",
           "size": 25
          },
          "showarrow": false,
          "text": "<b>(b) Per Capita</b>",
          "x": 0.47,
          "xref": "paper",
          "y": 0.96,
          "yref": "paper"
         },
         {
          "align": "left",
          "ax": 0,
          "ay": 0,
          "font": {
           "color": "black",
           "size": 25
          },
          "showarrow": false,
          "text": "<b>(c) Per Capita Convergence</b>",
          "x": 0.9,
          "xref": "paper",
          "y": 0.96,
          "yref": "paper"
         },
         {
          "align": "left",
          "ax": 0,
          "ay": 0,
          "font": {
           "color": "black",
           "size": 25
          },
          "showarrow": false,
          "text": "<b>(d) Equal Cumulative per Capita</b>",
          "x": 0.07,
          "xref": "paper",
          "y": 0.45,
          "yref": "paper"
         },
         {
          "align": "left",
          "ax": 0,
          "ay": 0,
          "font": {
           "color": "black",
           "size": 25
          },
          "showarrow": false,
          "text": "<b>(e) Ability to Pay</b>",
          "x": 0.48,
          "xref": "paper",
          "y": 0.45,
          "yref": "paper"
         },
         {
          "align": "left",
          "ax": 0,
          "ay": 0,
          "font": {
           "color": "black",
           "size": 25
          },
          "showarrow": false,
          "text": "<b>(f) Greenhouse Development Rights</b>",
          "x": 0.95,
          "xref": "paper",
          "y": 0.45,
          "yref": "paper"
         }
        ],
        "geo": {
         "domain": {
          "x": [
           0,
           0.3333333333333333
          ],
          "y": [
           0.5,
           1
          ]
         },
         "lakecolor": "rgb(255, 255, 255)",
         "lataxis": {
          "range": [
           30,
           75
          ]
         },
         "lonaxis": {
          "range": [
           -20,
           40
          ]
         },
         "projection": {
          "type": "natural earth"
         },
         "resolution": 50,
         "scope": "europe",
         "showcoastlines": false,
         "showcountries": false,
         "showlakes": true,
         "visible": true
        },
        "geo2": {
         "domain": {
          "x": [
           0.3333333333333333,
           0.6666666666666666
          ],
          "y": [
           0.5,
           1
          ]
         },
         "lakecolor": "rgb(255, 255, 255)",
         "lataxis": {
          "range": [
           30,
           75
          ]
         },
         "lonaxis": {
          "range": [
           -20,
           40
          ]
         },
         "projection": {
          "type": "natural earth"
         },
         "resolution": 50,
         "scope": "europe",
         "showcoastlines": false,
         "showcountries": false,
         "showlakes": true,
         "visible": true
        },
        "geo3": {
         "domain": {
          "x": [
           0.6666666666666666,
           1
          ],
          "y": [
           0.5,
           1
          ]
         },
         "lakecolor": "rgb(255, 255, 255)",
         "lataxis": {
          "range": [
           30,
           75
          ]
         },
         "lonaxis": {
          "range": [
           -20,
           40
          ]
         },
         "projection": {
          "type": "natural earth"
         },
         "resolution": 50,
         "scope": "europe",
         "showcoastlines": false,
         "showcountries": false,
         "showlakes": true,
         "visible": true
        },
        "geo4": {
         "domain": {
          "x": [
           0,
           0.3333333333333333
          ],
          "y": [
           0,
           0.5
          ]
         },
         "lakecolor": "rgb(255, 255, 255)",
         "lataxis": {
          "range": [
           30,
           75
          ]
         },
         "lonaxis": {
          "range": [
           -20,
           40
          ]
         },
         "projection": {
          "type": "natural earth"
         },
         "resolution": 50,
         "scope": "europe",
         "showcoastlines": false,
         "showcountries": false,
         "showlakes": true,
         "visible": true
        },
        "geo5": {
         "domain": {
          "x": [
           0.3333333333333333,
           0.6666666666666666
          ],
          "y": [
           0,
           0.5
          ]
         },
         "lakecolor": "rgb(255, 255, 255)",
         "lataxis": {
          "range": [
           30,
           75
          ]
         },
         "lonaxis": {
          "range": [
           -20,
           40
          ]
         },
         "projection": {
          "type": "natural earth"
         },
         "resolution": 50,
         "scope": "europe",
         "showcoastlines": false,
         "showcountries": false,
         "showlakes": true,
         "visible": true
        },
        "geo6": {
         "domain": {
          "x": [
           0.6666666666666666,
           1
          ],
          "y": [
           0,
           0.5
          ]
         },
         "lakecolor": "rgb(255, 255, 255)",
         "lataxis": {
          "range": [
           30,
           75
          ]
         },
         "lonaxis": {
          "range": [
           -20,
           40
          ]
         },
         "projection": {
          "type": "natural earth"
         },
         "resolution": 50,
         "scope": "europe",
         "showcoastlines": false,
         "showcountries": false,
         "showlakes": true,
         "visible": true
        },
        "height": 1200,
        "margin": {
         "b": 0,
         "l": 0,
         "r": 0,
         "t": 0
        },
        "template": {
         "data": {
          "bar": [
           {
            "error_x": {
             "color": "#2a3f5f"
            },
            "error_y": {
             "color": "#2a3f5f"
            },
            "marker": {
             "line": {
              "color": "#E5ECF6",
              "width": 0.5
             }
            },
            "type": "bar"
           }
          ],
          "barpolar": [
           {
            "marker": {
             "line": {
              "color": "#E5ECF6",
              "width": 0.5
             }
            },
            "type": "barpolar"
           }
          ],
          "carpet": [
           {
            "aaxis": {
             "endlinecolor": "#2a3f5f",
             "gridcolor": "white",
             "linecolor": "white",
             "minorgridcolor": "white",
             "startlinecolor": "#2a3f5f"
            },
            "baxis": {
             "endlinecolor": "#2a3f5f",
             "gridcolor": "white",
             "linecolor": "white",
             "minorgridcolor": "white",
             "startlinecolor": "#2a3f5f"
            },
            "type": "carpet"
           }
          ],
          "choropleth": [
           {
            "colorbar": {
             "outlinewidth": 0,
             "ticks": ""
            },
            "type": "choropleth"
           }
          ],
          "contour": [
           {
            "colorbar": {
             "outlinewidth": 0,
             "ticks": ""
            },
            "colorscale": [
             [
              0,
              "#0d0887"
             ],
             [
              0.1111111111111111,
              "#46039f"
             ],
             [
              0.2222222222222222,
              "#7201a8"
             ],
             [
              0.3333333333333333,
              "#9c179e"
             ],
             [
              0.4444444444444444,
              "#bd3786"
             ],
             [
              0.5555555555555556,
              "#d8576b"
             ],
             [
              0.6666666666666666,
              "#ed7953"
             ],
             [
              0.7777777777777778,
              "#fb9f3a"
             ],
             [
              0.8888888888888888,
              "#fdca26"
             ],
             [
              1,
              "#f0f921"
             ]
            ],
            "type": "contour"
           }
          ],
          "contourcarpet": [
           {
            "colorbar": {
             "outlinewidth": 0,
             "ticks": ""
            },
            "type": "contourcarpet"
           }
          ],
          "heatmap": [
           {
            "colorbar": {
             "outlinewidth": 0,
             "ticks": ""
            },
            "colorscale": [
             [
              0,
              "#0d0887"
             ],
             [
              0.1111111111111111,
              "#46039f"
             ],
             [
              0.2222222222222222,
              "#7201a8"
             ],
             [
              0.3333333333333333,
              "#9c179e"
             ],
             [
              0.4444444444444444,
              "#bd3786"
             ],
             [
              0.5555555555555556,
              "#d8576b"
             ],
             [
              0.6666666666666666,
              "#ed7953"
             ],
             [
              0.7777777777777778,
              "#fb9f3a"
             ],
             [
              0.8888888888888888,
              "#fdca26"
             ],
             [
              1,
              "#f0f921"
             ]
            ],
            "type": "heatmap"
           }
          ],
          "heatmapgl": [
           {
            "colorbar": {
             "outlinewidth": 0,
             "ticks": ""
            },
            "colorscale": [
             [
              0,
              "#0d0887"
             ],
             [
              0.1111111111111111,
              "#46039f"
             ],
             [
              0.2222222222222222,
              "#7201a8"
             ],
             [
              0.3333333333333333,
              "#9c179e"
             ],
             [
              0.4444444444444444,
              "#bd3786"
             ],
             [
              0.5555555555555556,
              "#d8576b"
             ],
             [
              0.6666666666666666,
              "#ed7953"
             ],
             [
              0.7777777777777778,
              "#fb9f3a"
             ],
             [
              0.8888888888888888,
              "#fdca26"
             ],
             [
              1,
              "#f0f921"
             ]
            ],
            "type": "heatmapgl"
           }
          ],
          "histogram": [
           {
            "marker": {
             "colorbar": {
              "outlinewidth": 0,
              "ticks": ""
             }
            },
            "type": "histogram"
           }
          ],
          "histogram2d": [
           {
            "colorbar": {
             "outlinewidth": 0,
             "ticks": ""
            },
            "colorscale": [
             [
              0,
              "#0d0887"
             ],
             [
              0.1111111111111111,
              "#46039f"
             ],
             [
              0.2222222222222222,
              "#7201a8"
             ],
             [
              0.3333333333333333,
              "#9c179e"
             ],
             [
              0.4444444444444444,
              "#bd3786"
             ],
             [
              0.5555555555555556,
              "#d8576b"
             ],
             [
              0.6666666666666666,
              "#ed7953"
             ],
             [
              0.7777777777777778,
              "#fb9f3a"
             ],
             [
              0.8888888888888888,
              "#fdca26"
             ],
             [
              1,
              "#f0f921"
             ]
            ],
            "type": "histogram2d"
           }
          ],
          "histogram2dcontour": [
           {
            "colorbar": {
             "outlinewidth": 0,
             "ticks": ""
            },
            "colorscale": [
             [
              0,
              "#0d0887"
             ],
             [
              0.1111111111111111,
              "#46039f"
             ],
             [
              0.2222222222222222,
              "#7201a8"
             ],
             [
              0.3333333333333333,
              "#9c179e"
             ],
             [
              0.4444444444444444,
              "#bd3786"
             ],
             [
              0.5555555555555556,
              "#d8576b"
             ],
             [
              0.6666666666666666,
              "#ed7953"
             ],
             [
              0.7777777777777778,
              "#fb9f3a"
             ],
             [
              0.8888888888888888,
              "#fdca26"
             ],
             [
              1,
              "#f0f921"
             ]
            ],
            "type": "histogram2dcontour"
           }
          ],
          "mesh3d": [
           {
            "colorbar": {
             "outlinewidth": 0,
             "ticks": ""
            },
            "type": "mesh3d"
           }
          ],
          "parcoords": [
           {
            "line": {
             "colorbar": {
              "outlinewidth": 0,
              "ticks": ""
             }
            },
            "type": "parcoords"
           }
          ],
          "pie": [
           {
            "automargin": true,
            "type": "pie"
           }
          ],
          "scatter": [
           {
            "marker": {
             "colorbar": {
              "outlinewidth": 0,
              "ticks": ""
             }
            },
            "type": "scatter"
           }
          ],
          "scatter3d": [
           {
            "line": {
             "colorbar": {
              "outlinewidth": 0,
              "ticks": ""
             }
            },
            "marker": {
             "colorbar": {
              "outlinewidth": 0,
              "ticks": ""
             }
            },
            "type": "scatter3d"
           }
          ],
          "scattercarpet": [
           {
            "marker": {
             "colorbar": {
              "outlinewidth": 0,
              "ticks": ""
             }
            },
            "type": "scattercarpet"
           }
          ],
          "scattergeo": [
           {
            "marker": {
             "colorbar": {
              "outlinewidth": 0,
              "ticks": ""
             }
            },
            "type": "scattergeo"
           }
          ],
          "scattergl": [
           {
            "marker": {
             "colorbar": {
              "outlinewidth": 0,
              "ticks": ""
             }
            },
            "type": "scattergl"
           }
          ],
          "scattermapbox": [
           {
            "marker": {
             "colorbar": {
              "outlinewidth": 0,
              "ticks": ""
             }
            },
            "type": "scattermapbox"
           }
          ],
          "scatterpolar": [
           {
            "marker": {
             "colorbar": {
              "outlinewidth": 0,
              "ticks": ""
             }
            },
            "type": "scatterpolar"
           }
          ],
          "scatterpolargl": [
           {
            "marker": {
             "colorbar": {
              "outlinewidth": 0,
              "ticks": ""
             }
            },
            "type": "scatterpolargl"
           }
          ],
          "scatterternary": [
           {
            "marker": {
             "colorbar": {
              "outlinewidth": 0,
              "ticks": ""
             }
            },
            "type": "scatterternary"
           }
          ],
          "surface": [
           {
            "colorbar": {
             "outlinewidth": 0,
             "ticks": ""
            },
            "colorscale": [
             [
              0,
              "#0d0887"
             ],
             [
              0.1111111111111111,
              "#46039f"
             ],
             [
              0.2222222222222222,
              "#7201a8"
             ],
             [
              0.3333333333333333,
              "#9c179e"
             ],
             [
              0.4444444444444444,
              "#bd3786"
             ],
             [
              0.5555555555555556,
              "#d8576b"
             ],
             [
              0.6666666666666666,
              "#ed7953"
             ],
             [
              0.7777777777777778,
              "#fb9f3a"
             ],
             [
              0.8888888888888888,
              "#fdca26"
             ],
             [
              1,
              "#f0f921"
             ]
            ],
            "type": "surface"
           }
          ],
          "table": [
           {
            "cells": {
             "fill": {
              "color": "#EBF0F8"
             },
             "line": {
              "color": "white"
             }
            },
            "header": {
             "fill": {
              "color": "#C8D4E3"
             },
             "line": {
              "color": "white"
             }
            },
            "type": "table"
           }
          ]
         },
         "layout": {
          "annotationdefaults": {
           "arrowcolor": "#2a3f5f",
           "arrowhead": 0,
           "arrowwidth": 1
          },
          "coloraxis": {
           "colorbar": {
            "outlinewidth": 0,
            "ticks": ""
           }
          },
          "colorscale": {
           "diverging": [
            [
             0,
             "#8e0152"
            ],
            [
             0.1,
             "#c51b7d"
            ],
            [
             0.2,
             "#de77ae"
            ],
            [
             0.3,
             "#f1b6da"
            ],
            [
             0.4,
             "#fde0ef"
            ],
            [
             0.5,
             "#f7f7f7"
            ],
            [
             0.6,
             "#e6f5d0"
            ],
            [
             0.7,
             "#b8e186"
            ],
            [
             0.8,
             "#7fbc41"
            ],
            [
             0.9,
             "#4d9221"
            ],
            [
             1,
             "#276419"
            ]
           ],
           "sequential": [
            [
             0,
             "#0d0887"
            ],
            [
             0.1111111111111111,
             "#46039f"
            ],
            [
             0.2222222222222222,
             "#7201a8"
            ],
            [
             0.3333333333333333,
             "#9c179e"
            ],
            [
             0.4444444444444444,
             "#bd3786"
            ],
            [
             0.5555555555555556,
             "#d8576b"
            ],
            [
             0.6666666666666666,
             "#ed7953"
            ],
            [
             0.7777777777777778,
             "#fb9f3a"
            ],
            [
             0.8888888888888888,
             "#fdca26"
            ],
            [
             1,
             "#f0f921"
            ]
           ],
           "sequentialminus": [
            [
             0,
             "#0d0887"
            ],
            [
             0.1111111111111111,
             "#46039f"
            ],
            [
             0.2222222222222222,
             "#7201a8"
            ],
            [
             0.3333333333333333,
             "#9c179e"
            ],
            [
             0.4444444444444444,
             "#bd3786"
            ],
            [
             0.5555555555555556,
             "#d8576b"
            ],
            [
             0.6666666666666666,
             "#ed7953"
            ],
            [
             0.7777777777777778,
             "#fb9f3a"
            ],
            [
             0.8888888888888888,
             "#fdca26"
            ],
            [
             1,
             "#f0f921"
            ]
           ]
          },
          "colorway": [
           "#636efa",
           "#EF553B",
           "#00cc96",
           "#ab63fa",
           "#FFA15A",
           "#19d3f3",
           "#FF6692",
           "#B6E880",
           "#FF97FF",
           "#FECB52"
          ],
          "font": {
           "color": "#2a3f5f"
          },
          "geo": {
           "bgcolor": "white",
           "lakecolor": "white",
           "landcolor": "#E5ECF6",
           "showlakes": true,
           "showland": true,
           "subunitcolor": "white"
          },
          "hoverlabel": {
           "align": "left"
          },
          "hovermode": "closest",
          "mapbox": {
           "style": "light"
          },
          "paper_bgcolor": "white",
          "plot_bgcolor": "#E5ECF6",
          "polar": {
           "angularaxis": {
            "gridcolor": "white",
            "linecolor": "white",
            "ticks": ""
           },
           "bgcolor": "#E5ECF6",
           "radialaxis": {
            "gridcolor": "white",
            "linecolor": "white",
            "ticks": ""
           }
          },
          "scene": {
           "xaxis": {
            "backgroundcolor": "#E5ECF6",
            "gridcolor": "white",
            "gridwidth": 2,
            "linecolor": "white",
            "showbackground": true,
            "ticks": "",
            "zerolinecolor": "white"
           },
           "yaxis": {
            "backgroundcolor": "#E5ECF6",
            "gridcolor": "white",
            "gridwidth": 2,
            "linecolor": "white",
            "showbackground": true,
            "ticks": "",
            "zerolinecolor": "white"
           },
           "zaxis": {
            "backgroundcolor": "#E5ECF6",
            "gridcolor": "white",
            "gridwidth": 2,
            "linecolor": "white",
            "showbackground": true,
            "ticks": "",
            "zerolinecolor": "white"
           }
          },
          "shapedefaults": {
           "line": {
            "color": "#2a3f5f"
           }
          },
          "ternary": {
           "aaxis": {
            "gridcolor": "white",
            "linecolor": "white",
            "ticks": ""
           },
           "baxis": {
            "gridcolor": "white",
            "linecolor": "white",
            "ticks": ""
           },
           "bgcolor": "#E5ECF6",
           "caxis": {
            "gridcolor": "white",
            "linecolor": "white",
            "ticks": ""
           }
          },
          "title": {
           "x": 0.05
          },
          "xaxis": {
           "automargin": true,
           "gridcolor": "white",
           "linecolor": "white",
           "ticks": "",
           "title": {
            "standoff": 15
           },
           "zerolinecolor": "white",
           "zerolinewidth": 2
          },
          "yaxis": {
           "automargin": true,
           "gridcolor": "white",
           "linecolor": "white",
           "ticks": "",
           "title": {
            "standoff": 15
           },
           "zerolinecolor": "white",
           "zerolinewidth": 2
          }
         }
        },
        "width": 2300
       }
      }
     },
     "metadata": {},
     "output_type": "display_data"
    }
   ],
   "source": [
    "fig = make_subplots(rows=2, cols=3, #subplot_titles=('Grandfathering (GF)',\n",
    "                                                    # 'Per Capita (PC)',\n",
    "                                                    # 'Per Capita Convergence (PCC)',\n",
    "                                                    # 'Equal Cumulative Per Capita',\n",
    "                                                    # 'Ability to pay (AP)',\n",
    "                                                    # 'Greenhouse Development Rights'), \n",
    "                                    specs=[[{'type': 'choropleth'}, {'type': 'choropleth'}, {'type': 'choropleth'}],\n",
    "                                           [{'type': 'choropleth'}, {'type': 'choropleth'}, {'type': 'choropleth'}]],\n",
    "                                    horizontal_spacing = 0,\n",
    "                                    vertical_spacing=0)\n",
    "\n",
    "colorbar_abs = dict(len=1, x=1, tickvals = [0, 1, 2, 3], ticktext = ['1', '10', '100', '1000'])\n",
    "colorbar_pc = dict(len=1, x=1)\n",
    "\n",
    "for var_i, var in enumerate(rules):\n",
    "    if var_i == 0:\n",
    "        cm= True\n",
    "    else:\n",
    "        cm= False\n",
    "    fig.add_trace(\n",
    "        go.Choropleth(\n",
    "        locations=group_eu,\n",
    "        z = data3[var],\n",
    "        locationmode = 'ISO-3',\n",
    "        colorscale = 'RdBu',\n",
    "        zmax = 500,\n",
    "        zmin = -500,\n",
    "        text = [str(r)+\": {:0.2f} Gt CO<sub>2</sub>e\".format(float(data3.sel(Region=r)[var])) for r_i, r in enumerate(group_eu)],\n",
    "        hovertemplate  = '%{text}',\n",
    "        name=\"\",\n",
    "        marker_line_color='grey', \n",
    "        marker_line_width=0.7,\n",
    "        colorbar=dict(len=1, x=1, tickvals = np.arange(-500, 500, 50), title={\"text\":\"GHG<br>allocation<br>in 2030\"}, tickfont={'size': 25}),\n",
    "        showscale=cm\n",
    "    ), [1, 1, 1, 2, 2, 2][var_i], [1, 2, 3, 1, 2, 3][var_i])\n",
    "# fig.update_geos(showocean=True, oceancolor=\"white\")\n",
    "# fig.update_geos(showlakes=True, lakecolor=\"white\")\n",
    "\n",
    "# limite map scope to USA 'africa', 'asia', 'europe', 'north america', 'south america', 'usa', 'world'\n",
    "fig.update_layout(\n",
    "    geo1 = dict(scope='europe', \n",
    "                showlakes=False,\n",
    "                lakecolor='rgb(255, 255, 255)',\n",
    "                showcoastlines=False,),\n",
    "    geo2 = dict(scope='europe', \n",
    "                showlakes=False,\n",
    "                lakecolor='rgb(255, 255, 255)',\n",
    "                showcoastlines=False,),\n",
    "    geo3 = dict(scope='europe', \n",
    "                showlakes=False,\n",
    "                lakecolor='rgb(255, 255, 255)',\n",
    "                showcoastlines=False,),\n",
    "    geo4 = dict(scope='europe', \n",
    "                showlakes=False,\n",
    "                lakecolor='rgb(255, 255, 255)',\n",
    "                showcoastlines=False,),\n",
    "    geo5 = dict(scope='europe', \n",
    "                showlakes=False,\n",
    "                lakecolor='rgb(255, 255, 255)',\n",
    "                showcoastlines=False,),\n",
    "    geo6 = dict(scope='europe', \n",
    "                showlakes=False,\n",
    "                showcoastlines=False,),\n",
    ")\n",
    "\n",
    "mn = np.min(np.array([float(data3[rules].min()[r]) for r in rules]))\n",
    "mx = np.max(np.array([float(data3[rules].max()[r]) for r in rules]))\n",
    "for var_i, var in enumerate(rules):\n",
    "    vals = np.array(data3[var]).astype(float)\n",
    "    vals_i = (vals + mn)**1.2\n",
    "    vals_n = 14*(vals - mn)/(mx - mn)+7\n",
    "    vals_boolean = np.copy(vals)\n",
    "    vals_boolean[vals >= 0] = 1\n",
    "    vals_boolean[vals < 0] = 0\n",
    "    vals_boolean = vals_boolean.astype(int)\n",
    "    \n",
    "    fig.add_scattergeo(\n",
    "                locations = group_eu,\n",
    "                text = vals.round(0),\n",
    "                featureidkey=\"properties.NAME_3\",\n",
    "                mode = 'text',\n",
    "                hoverinfo='skip',\n",
    "                showlegend=False,\n",
    "                textfont={'size': 20,\n",
    "                        'color': 'black'},\n",
    "                row=[1, 1, 1, 2, 2, 2][var_i],\n",
    "                col=[1, 2, 3, 1, 2, 3][var_i])\n",
    "\n",
    "fig.update_geos(visible=False,\n",
    "                showlakes=True,\n",
    "                lakecolor='rgb(255, 255, 255)',\n",
    "                projection_type='natural earth',\n",
    "                resolution=50,\n",
    "                lataxis_range=[30,75], lonaxis_range=[-20, 40],\n",
    "                showcoastlines=False,)\n",
    "\n",
    "#fig.update_traces(showscale=False)\n",
    "fig.update_layout(height=1200, width=2300)\n",
    "fig.update_geos(visible=True, showcountries=False)#fitbounds=\"locations\",\n",
    "fig.update_layout(margin={\"r\":0,\"t\":0,\"l\":0,\"b\":0})\n",
    "\n",
    "fig.add_annotation(xref='paper', yref='paper',ax=0, align='left', ay=-0, showarrow=False, font=dict(color='black', size=25),\n",
    "                   y=0.96, x=0.07, text=\"<b>(a) Grandfathering</b>\")\n",
    "fig.add_annotation(xref='paper', yref='paper',ax=0, align='left', ay=-0, showarrow=False, font=dict(color='black', size=25),\n",
    "                   y=0.96, x=0.47, text=\"<b>(b) Per Capita</b>\")\n",
    "fig.add_annotation(xref='paper', yref='paper',ax=0, align='left', ay=-0, showarrow=False, font=dict(color='black', size=25),\n",
    "                   y=0.96, x=0.90, text=\"<b>(c) Per Capita Convergence</b>\")\n",
    "fig.add_annotation(xref='paper', yref='paper',ax=0, align='left', ay=-0, showarrow=False, font=dict(color='black', size=25),\n",
    "                   y=0.45, x=0.07, text=\"<b>(d) Equal Cumulative per Capita</b>\")\n",
    "fig.add_annotation(xref='paper', yref='paper',ax=0, align='left', ay=-0, showarrow=False, font=dict(color='black', size=25),\n",
    "                   y=0.45, x=0.48, text=\"<b>(e) Ability to Pay</b>\")\n",
    "fig.add_annotation(xref='paper', yref='paper',ax=0, align='left', ay=-0, showarrow=False, font=dict(color='black', size=25),\n",
    "                   y=0.45, x=0.95, text=\"<b>(f) Greenhouse Development Rights</b>\")\n",
    "fig_europe = fig\n",
    "fig.show()"
   ]
  },
  {
   "cell_type": "code",
   "execution_count": 16,
   "metadata": {},
   "outputs": [],
   "source": [
    "fig.write_image(\"X:/user/dekkerm/Projects/ECEMF_T5.2/Figures/Presentations/Europe_2030.png\", scale=3)"
   ]
  },
  {
   "cell_type": "code",
   "execution_count": 17,
   "metadata": {},
   "outputs": [
    {
     "name": "stderr",
     "output_type": "stream",
     "text": [
      "x:\\user\\dekkerm\\environments\\MyEnv2\\lib\\site-packages\\xarray\\core\\alignment.py:307: FutureWarning:\n",
      "\n",
      "Index.__and__ operating as a set operation is deprecated, in the future this will be a logical operation matching Series.__and__.  Use index.intersection(other) instead.\n",
      "\n",
      "x:\\user\\dekkerm\\environments\\MyEnv2\\lib\\site-packages\\xarray\\core\\alignment.py:307: FutureWarning:\n",
      "\n",
      "Index.__and__ operating as a set operation is deprecated, in the future this will be a logical operation matching Series.__and__.  Use index.intersection(other) instead.\n",
      "\n"
     ]
    }
   ],
   "source": [
    "data4 = (xr_dataread.sel(Time=1990).GHG_hist - xrt.sel(**standard_settings, Time=2030, Region=group_eu).mean(dim='Scenario')) / xr_dataread.sel(Time=1990).GHG_hist"
   ]
  },
  {
   "cell_type": "code",
   "execution_count": 21,
   "metadata": {},
   "outputs": [
    {
     "data": {
      "application/vnd.plotly.v1+json": {
       "config": {
        "plotlyServerURL": "https://plotly.com"
       },
       "data": [
        {
         "colorbar": {
          "len": 1,
          "tickfont": {
           "size": 25
          },
          "ticktext": [
           "0%",
           "10%",
           "20%",
           "30%",
           "40%",
           "50%",
           "60%",
           "70%",
           "80%",
           "90%"
          ],
          "tickvals": [
           0,
           0.1,
           0.2,
           0.30000000000000004,
           0.4,
           0.5,
           0.6000000000000001,
           0.7000000000000001,
           0.8,
           0.9
          ],
          "title": {
           "text": "Emission<br>reduction<br>in 2030<br>w.r.t. 1990"
          },
          "x": 1
         },
         "colorscale": [
          [
           0,
           "rgb(49,54,149)"
          ],
          [
           0.1,
           "rgb(69,117,180)"
          ],
          [
           0.2,
           "rgb(116,173,209)"
          ],
          [
           0.3,
           "rgb(171,217,233)"
          ],
          [
           0.4,
           "rgb(224,243,248)"
          ],
          [
           0.5,
           "rgb(255,255,191)"
          ],
          [
           0.6,
           "rgb(254,224,144)"
          ],
          [
           0.7,
           "rgb(253,174,97)"
          ],
          [
           0.8,
           "rgb(244,109,67)"
          ],
          [
           0.9,
           "rgb(215,48,39)"
          ],
          [
           1,
           "rgb(165,0,38)"
          ]
         ],
         "geo": "geo",
         "hovertemplate": "%{text}",
         "locationmode": "ISO-3",
         "locations": [
          "AUT",
          "BEL",
          "BGR",
          "HRV",
          "CYP",
          "CZE",
          "DNK",
          "EST",
          "FIN",
          "FRA",
          "DEU",
          "GRC",
          "HUN",
          "IRL",
          "ITA",
          "LVA",
          "LTU",
          "LUX",
          "MLT",
          "NLD",
          "POL",
          "PRT",
          "ROU",
          "SVK",
          "SVN",
          "ESP",
          "SWE"
         ],
         "marker": {
          "line": {
           "color": "grey",
           "width": 0.7
          }
         },
         "name": "",
         "showscale": true,
         "text": [
          "AUT: 0.38 Gt CO<sub>2</sub>e",
          "BEL: 0.44 Gt CO<sub>2</sub>e",
          "BGR: 0.83 Gt CO<sub>2</sub>e",
          "HRV: 0.66 Gt CO<sub>2</sub>e",
          "CYP: 0.21 Gt CO<sub>2</sub>e",
          "CZE: 0.67 Gt CO<sub>2</sub>e",
          "DNK: 0.63 Gt CO<sub>2</sub>e",
          "EST: 0.56 Gt CO<sub>2</sub>e",
          "FIN: 0.17 Gt CO<sub>2</sub>e",
          "FRA: 0.60 Gt CO<sub>2</sub>e",
          "DEU: 0.65 Gt CO<sub>2</sub>e",
          "GRC: 0.55 Gt CO<sub>2</sub>e",
          "HUN: 0.57 Gt CO<sub>2</sub>e",
          "IRL: 0.38 Gt CO<sub>2</sub>e",
          "ITA: 0.55 Gt CO<sub>2</sub>e",
          "LVA: 0.48 Gt CO<sub>2</sub>e",
          "LTU: 0.62 Gt CO<sub>2</sub>e",
          "LUX: 0.49 Gt CO<sub>2</sub>e",
          "MLT: 0.41 Gt CO<sub>2</sub>e",
          "NLD: 0.50 Gt CO<sub>2</sub>e",
          "POL: 0.56 Gt CO<sub>2</sub>e",
          "PRT: 0.51 Gt CO<sub>2</sub>e",
          "ROU: 0.78 Gt CO<sub>2</sub>e",
          "SVK: 0.54 Gt CO<sub>2</sub>e",
          "SVN: 0.45 Gt CO<sub>2</sub>e",
          "ESP: 0.31 Gt CO<sub>2</sub>e",
          "SWE: 0.67 Gt CO<sub>2</sub>e"
         ],
         "type": "choropleth",
         "z": [
          0.3828089618018698,
          0.4396115509534634,
          0.8336792069867937,
          0.6635490950762437,
          0.21062621307258858,
          0.6662407807853614,
          0.6284016918991102,
          0.5623029618500356,
          0.17489141183488477,
          0.6003762769040806,
          0.6451496164595387,
          0.5451085731092942,
          0.574950028085247,
          0.37871307540474813,
          0.5504138259042912,
          0.4844742172913561,
          0.6170877657834714,
          0.49397556251365804,
          0.41088320368191955,
          0.5005718177854833,
          0.5596003051122707,
          0.5118046529241236,
          0.7787611997661018,
          0.5399586163048127,
          0.45301160923321676,
          0.30553810031505735,
          0.6671971422045123
         ],
         "zmax": 1,
         "zmin": 0
        },
        {
         "colorbar": {
          "len": 1,
          "tickfont": {
           "size": 25
          },
          "ticktext": [
           "0%",
           "10%",
           "20%",
           "30%",
           "40%",
           "50%",
           "60%",
           "70%",
           "80%",
           "90%"
          ],
          "tickvals": [
           0,
           0.1,
           0.2,
           0.30000000000000004,
           0.4,
           0.5,
           0.6000000000000001,
           0.7000000000000001,
           0.8,
           0.9
          ],
          "title": {
           "text": "Emission<br>reduction<br>in 2030<br>w.r.t. 1990"
          },
          "x": 1
         },
         "colorscale": [
          [
           0,
           "rgb(49,54,149)"
          ],
          [
           0.1,
           "rgb(69,117,180)"
          ],
          [
           0.2,
           "rgb(116,173,209)"
          ],
          [
           0.3,
           "rgb(171,217,233)"
          ],
          [
           0.4,
           "rgb(224,243,248)"
          ],
          [
           0.5,
           "rgb(255,255,191)"
          ],
          [
           0.6,
           "rgb(254,224,144)"
          ],
          [
           0.7,
           "rgb(253,174,97)"
          ],
          [
           0.8,
           "rgb(244,109,67)"
          ],
          [
           0.9,
           "rgb(215,48,39)"
          ],
          [
           1,
           "rgb(165,0,38)"
          ]
         ],
         "geo": "geo2",
         "hovertemplate": "%{text}",
         "locationmode": "ISO-3",
         "locations": [
          "AUT",
          "BEL",
          "BGR",
          "HRV",
          "CYP",
          "CZE",
          "DNK",
          "EST",
          "FIN",
          "FRA",
          "DEU",
          "GRC",
          "HUN",
          "IRL",
          "ITA",
          "LVA",
          "LTU",
          "LUX",
          "MLT",
          "NLD",
          "POL",
          "PRT",
          "ROU",
          "SVK",
          "SVN",
          "ESP",
          "SWE"
         ],
         "marker": {
          "line": {
           "color": "grey",
           "width": 0.7
          }
         },
         "name": "",
         "showscale": false,
         "text": [
          "AUT: 0.47 Gt CO<sub>2</sub>e",
          "BEL: 0.65 Gt CO<sub>2</sub>e",
          "BGR: 0.65 Gt CO<sub>2</sub>e",
          "HRV: 0.50 Gt CO<sub>2</sub>e",
          "CYP: 0.08 Gt CO<sub>2</sub>e",
          "CZE: 0.76 Gt CO<sub>2</sub>e",
          "DNK: 0.66 Gt CO<sub>2</sub>e",
          "EST: 0.83 Gt CO<sub>2</sub>e",
          "FIN: 0.56 Gt CO<sub>2</sub>e",
          "FRA: 0.47 Gt CO<sub>2</sub>e",
          "DEU: 0.73 Gt CO<sub>2</sub>e",
          "GRC: 0.52 Gt CO<sub>2</sub>e",
          "HUN: 0.60 Gt CO<sub>2</sub>e",
          "IRL: 0.64 Gt CO<sub>2</sub>e",
          "ITA: 0.49 Gt CO<sub>2</sub>e",
          "LVA: 0.17 Gt CO<sub>2</sub>e",
          "LTU: 0.68 Gt CO<sub>2</sub>e",
          "LUX: 0.78 Gt CO<sub>2</sub>e",
          "MLT: 0.29 Gt CO<sub>2</sub>e",
          "NLD: 0.69 Gt CO<sub>2</sub>e",
          "POL: 0.70 Gt CO<sub>2</sub>e",
          "PRT: 0.31 Gt CO<sub>2</sub>e",
          "ROU: 0.65 Gt CO<sub>2</sub>e",
          "SVK: 0.59 Gt CO<sub>2</sub>e",
          "SVN: 0.54 Gt CO<sub>2</sub>e",
          "ESP: 0.20 Gt CO<sub>2</sub>e",
          "SWE: 0.48 Gt CO<sub>2</sub>e"
         ],
         "type": "choropleth",
         "z": [
          0.4738361174417631,
          0.6543535405426437,
          0.6473241318306566,
          0.5013246668727954,
          0.08361286608373555,
          0.7647132748589921,
          0.6624160849829912,
          0.8323460438940625,
          0.5596540867933831,
          0.4668294987258109,
          0.7261016260480724,
          0.51971744392298,
          0.6004126737092015,
          0.6421868141551569,
          0.4880627495345238,
          0.17403749126949336,
          0.6838161627356464,
          0.7774398275103274,
          0.286597123047975,
          0.6935829419045323,
          0.6962847187970779,
          0.3115566537203885,
          0.6502607840975517,
          0.5933525716055162,
          0.5416513453171149,
          0.2042850722081357,
          0.47737553457640386
         ],
         "zmax": 1,
         "zmin": 0
        },
        {
         "colorbar": {
          "len": 1,
          "tickfont": {
           "size": 25
          },
          "ticktext": [
           "0%",
           "10%",
           "20%",
           "30%",
           "40%",
           "50%",
           "60%",
           "70%",
           "80%",
           "90%"
          ],
          "tickvals": [
           0,
           0.1,
           0.2,
           0.30000000000000004,
           0.4,
           0.5,
           0.6000000000000001,
           0.7000000000000001,
           0.8,
           0.9
          ],
          "title": {
           "text": "Emission<br>reduction<br>in 2030<br>w.r.t. 1990"
          },
          "x": 1
         },
         "colorscale": [
          [
           0,
           "rgb(49,54,149)"
          ],
          [
           0.1,
           "rgb(69,117,180)"
          ],
          [
           0.2,
           "rgb(116,173,209)"
          ],
          [
           0.3,
           "rgb(171,217,233)"
          ],
          [
           0.4,
           "rgb(224,243,248)"
          ],
          [
           0.5,
           "rgb(255,255,191)"
          ],
          [
           0.6,
           "rgb(254,224,144)"
          ],
          [
           0.7,
           "rgb(253,174,97)"
          ],
          [
           0.8,
           "rgb(244,109,67)"
          ],
          [
           0.9,
           "rgb(215,48,39)"
          ],
          [
           1,
           "rgb(165,0,38)"
          ]
         ],
         "geo": "geo3",
         "hovertemplate": "%{text}",
         "locationmode": "ISO-3",
         "locations": [
          "AUT",
          "BEL",
          "BGR",
          "HRV",
          "CYP",
          "CZE",
          "DNK",
          "EST",
          "FIN",
          "FRA",
          "DEU",
          "GRC",
          "HUN",
          "IRL",
          "ITA",
          "LVA",
          "LTU",
          "LUX",
          "MLT",
          "NLD",
          "POL",
          "PRT",
          "ROU",
          "SVK",
          "SVN",
          "ESP",
          "SWE"
         ],
         "marker": {
          "line": {
           "color": "grey",
           "width": 0.7
          }
         },
         "name": "",
         "showscale": false,
         "text": [
          "AUT: 0.41 Gt CO<sub>2</sub>e",
          "BEL: 0.51 Gt CO<sub>2</sub>e",
          "BGR: 0.78 Gt CO<sub>2</sub>e",
          "HRV: 0.61 Gt CO<sub>2</sub>e",
          "CYP: 0.17 Gt CO<sub>2</sub>e",
          "CZE: 0.70 Gt CO<sub>2</sub>e",
          "DNK: 0.64 Gt CO<sub>2</sub>e",
          "EST: 0.65 Gt CO<sub>2</sub>e",
          "FIN: 0.29 Gt CO<sub>2</sub>e",
          "FRA: 0.56 Gt CO<sub>2</sub>e",
          "DEU: 0.67 Gt CO<sub>2</sub>e",
          "GRC: 0.54 Gt CO<sub>2</sub>e",
          "HUN: 0.58 Gt CO<sub>2</sub>e",
          "IRL: 0.46 Gt CO<sub>2</sub>e",
          "ITA: 0.53 Gt CO<sub>2</sub>e",
          "LVA: 0.39 Gt CO<sub>2</sub>e",
          "LTU: 0.64 Gt CO<sub>2</sub>e",
          "LUX: 0.58 Gt CO<sub>2</sub>e",
          "MLT: 0.37 Gt CO<sub>2</sub>e",
          "NLD: 0.56 Gt CO<sub>2</sub>e",
          "POL: 0.60 Gt CO<sub>2</sub>e",
          "PRT: 0.45 Gt CO<sub>2</sub>e",
          "ROU: 0.74 Gt CO<sub>2</sub>e",
          "SVK: 0.56 Gt CO<sub>2</sub>e",
          "SVN: 0.48 Gt CO<sub>2</sub>e",
          "ESP: 0.27 Gt CO<sub>2</sub>e",
          "SWE: 0.61 Gt CO<sub>2</sub>e"
         ],
         "type": "choropleth",
         "z": [
          0.411058735682085,
          0.5062555930663581,
          0.7758448692761272,
          0.6132035773001373,
          0.17120821914343448,
          0.6968012313302672,
          0.6389578632748374,
          0.64610942639468,
          0.294300514082508,
          0.5589307607154544,
          0.6702726521940031,
          0.5372285458374518,
          0.5828522218230979,
          0.46048077268261345,
          0.531063485448061,
          0.3881318228964389,
          0.6377965971075354,
          0.5819472085973078,
          0.3723116696958522,
          0.5604718115625595,
          0.6020195977512249,
          0.4496586998027538,
          0.7388817473371819,
          0.5565291833325632,
          0.48052046821205746,
          0.2741147677276816,
          0.6082869717041877
         ],
         "zmax": 1,
         "zmin": 0
        },
        {
         "colorbar": {
          "len": 1,
          "tickfont": {
           "size": 25
          },
          "ticktext": [
           "0%",
           "10%",
           "20%",
           "30%",
           "40%",
           "50%",
           "60%",
           "70%",
           "80%",
           "90%"
          ],
          "tickvals": [
           0,
           0.1,
           0.2,
           0.30000000000000004,
           0.4,
           0.5,
           0.6000000000000001,
           0.7000000000000001,
           0.8,
           0.9
          ],
          "title": {
           "text": "Emission<br>reduction<br>in 2030<br>w.r.t. 1990"
          },
          "x": 1
         },
         "colorscale": [
          [
           0,
           "rgb(49,54,149)"
          ],
          [
           0.1,
           "rgb(69,117,180)"
          ],
          [
           0.2,
           "rgb(116,173,209)"
          ],
          [
           0.3,
           "rgb(171,217,233)"
          ],
          [
           0.4,
           "rgb(224,243,248)"
          ],
          [
           0.5,
           "rgb(255,255,191)"
          ],
          [
           0.6,
           "rgb(254,224,144)"
          ],
          [
           0.7,
           "rgb(253,174,97)"
          ],
          [
           0.8,
           "rgb(244,109,67)"
          ],
          [
           0.9,
           "rgb(215,48,39)"
          ],
          [
           1,
           "rgb(165,0,38)"
          ]
         ],
         "geo": "geo4",
         "hovertemplate": "%{text}",
         "locationmode": "ISO-3",
         "locations": [
          "AUT",
          "BEL",
          "BGR",
          "HRV",
          "CYP",
          "CZE",
          "DNK",
          "EST",
          "FIN",
          "FRA",
          "DEU",
          "GRC",
          "HUN",
          "IRL",
          "ITA",
          "LVA",
          "LTU",
          "LUX",
          "MLT",
          "NLD",
          "POL",
          "PRT",
          "ROU",
          "SVK",
          "SVN",
          "ESP",
          "SWE"
         ],
         "marker": {
          "line": {
           "color": "grey",
           "width": 0.7
          }
         },
         "name": "",
         "showscale": false,
         "text": [
          "AUT: 0.61 Gt CO<sub>2</sub>e",
          "BEL: 0.81 Gt CO<sub>2</sub>e",
          "BGR: 1.00 Gt CO<sub>2</sub>e",
          "HRV: 0.72 Gt CO<sub>2</sub>e",
          "CYP: 0.15 Gt CO<sub>2</sub>e",
          "CZE: 0.99 Gt CO<sub>2</sub>e",
          "DNK: 0.90 Gt CO<sub>2</sub>e",
          "EST: 0.94 Gt CO<sub>2</sub>e",
          "FIN: 0.58 Gt CO<sub>2</sub>e",
          "FRA: 0.74 Gt CO<sub>2</sub>e",
          "DEU: 0.96 Gt CO<sub>2</sub>e",
          "GRC: 0.67 Gt CO<sub>2</sub>e",
          "HUN: 0.79 Gt CO<sub>2</sub>e",
          "IRL: 0.66 Gt CO<sub>2</sub>e",
          "ITA: 0.66 Gt CO<sub>2</sub>e",
          "LVA: 0.57 Gt CO<sub>2</sub>e",
          "LTU: 0.86 Gt CO<sub>2</sub>e",
          "LUX: 0.94 Gt CO<sub>2</sub>e",
          "MLT: 0.35 Gt CO<sub>2</sub>e",
          "NLD: 0.80 Gt CO<sub>2</sub>e",
          "POL: 0.86 Gt CO<sub>2</sub>e",
          "PRT: 0.47 Gt CO<sub>2</sub>e",
          "ROU: 0.88 Gt CO<sub>2</sub>e",
          "SVK: 0.78 Gt CO<sub>2</sub>e",
          "SVN: 0.62 Gt CO<sub>2</sub>e",
          "ESP: 0.35 Gt CO<sub>2</sub>e",
          "SWE: 0.78 Gt CO<sub>2</sub>e"
         ],
         "type": "choropleth",
         "z": [
          0.6141814296800294,
          0.8073577204692974,
          1.0004914364996633,
          0.7239308692234154,
          0.14738141557784243,
          0.9920028223223527,
          0.8994410685559752,
          0.9420060643681085,
          0.5752265635690199,
          0.7362476452905803,
          0.9582414885739411,
          0.6695148388706197,
          0.7883633106843834,
          0.655979503267459,
          0.6623109648749478,
          0.5675366849692426,
          0.8632497957866321,
          0.9370189987901827,
          0.3492214389434823,
          0.8007527644518528,
          0.8599305132034994,
          0.4729257045074678,
          0.875455656568495,
          0.7805016589969723,
          0.6227299224063476,
          0.34639933891411895,
          0.7802789523797927
         ],
         "zmax": 1,
         "zmin": 0
        },
        {
         "colorbar": {
          "len": 1,
          "tickfont": {
           "size": 25
          },
          "ticktext": [
           "0%",
           "10%",
           "20%",
           "30%",
           "40%",
           "50%",
           "60%",
           "70%",
           "80%",
           "90%"
          ],
          "tickvals": [
           0,
           0.1,
           0.2,
           0.30000000000000004,
           0.4,
           0.5,
           0.6000000000000001,
           0.7000000000000001,
           0.8,
           0.9
          ],
          "title": {
           "text": "Emission<br>reduction<br>in 2030<br>w.r.t. 1990"
          },
          "x": 1
         },
         "colorscale": [
          [
           0,
           "rgb(49,54,149)"
          ],
          [
           0.1,
           "rgb(69,117,180)"
          ],
          [
           0.2,
           "rgb(116,173,209)"
          ],
          [
           0.3,
           "rgb(171,217,233)"
          ],
          [
           0.4,
           "rgb(224,243,248)"
          ],
          [
           0.5,
           "rgb(255,255,191)"
          ],
          [
           0.6,
           "rgb(254,224,144)"
          ],
          [
           0.7,
           "rgb(253,174,97)"
          ],
          [
           0.8,
           "rgb(244,109,67)"
          ],
          [
           0.9,
           "rgb(215,48,39)"
          ],
          [
           1,
           "rgb(165,0,38)"
          ]
         ],
         "geo": "geo5",
         "hovertemplate": "%{text}",
         "locationmode": "ISO-3",
         "locations": [
          "AUT",
          "BEL",
          "BGR",
          "HRV",
          "CYP",
          "CZE",
          "DNK",
          "EST",
          "FIN",
          "FRA",
          "DEU",
          "GRC",
          "HUN",
          "IRL",
          "ITA",
          "LVA",
          "LTU",
          "LUX",
          "MLT",
          "NLD",
          "POL",
          "PRT",
          "ROU",
          "SVK",
          "SVN",
          "ESP",
          "SWE"
         ],
         "marker": {
          "line": {
           "color": "grey",
           "width": 0.7
          }
         },
         "name": "",
         "showscale": false,
         "text": [
          "AUT: 0.59 Gt CO<sub>2</sub>e",
          "BEL: 0.61 Gt CO<sub>2</sub>e",
          "BGR: 0.87 Gt CO<sub>2</sub>e",
          "HRV: 0.70 Gt CO<sub>2</sub>e",
          "CYP: 0.36 Gt CO<sub>2</sub>e",
          "CZE: 0.77 Gt CO<sub>2</sub>e",
          "DNK: 0.74 Gt CO<sub>2</sub>e",
          "EST: 0.67 Gt CO<sub>2</sub>e",
          "FIN: 0.43 Gt CO<sub>2</sub>e",
          "FRA: 0.71 Gt CO<sub>2</sub>e",
          "DEU: 0.77 Gt CO<sub>2</sub>e",
          "GRC: 0.66 Gt CO<sub>2</sub>e",
          "HUN: 0.62 Gt CO<sub>2</sub>e",
          "IRL: 0.58 Gt CO<sub>2</sub>e",
          "ITA: 0.65 Gt CO<sub>2</sub>e",
          "LVA: 0.56 Gt CO<sub>2</sub>e",
          "LTU: 0.67 Gt CO<sub>2</sub>e",
          "LUX: 0.75 Gt CO<sub>2</sub>e",
          "MLT: 0.60 Gt CO<sub>2</sub>e",
          "NLD: 0.67 Gt CO<sub>2</sub>e",
          "POL: 0.66 Gt CO<sub>2</sub>e",
          "PRT: 0.61 Gt CO<sub>2</sub>e",
          "ROU: 0.79 Gt CO<sub>2</sub>e",
          "SVK: nan Gt CO<sub>2</sub>e",
          "SVN: 0.59 Gt CO<sub>2</sub>e",
          "ESP: 0.46 Gt CO<sub>2</sub>e",
          "SWE: 0.78 Gt CO<sub>2</sub>e"
         ],
         "type": "choropleth",
         "z": [
          0.592096221045558,
          0.6119237778340472,
          0.8720351381408488,
          0.6998352365993941,
          0.3591488163138506,
          0.7669132775442737,
          0.7371973076778513,
          0.66735493371418,
          0.4298066284785404,
          0.7066589955696903,
          0.7658094342935671,
          0.6563319233763035,
          0.6217645086002447,
          0.5766377940451044,
          0.651293778043412,
          0.555903336824661,
          0.6736195135581027,
          0.7520055459876628,
          0.6031842756684315,
          0.6728167313436224,
          0.6558518172663432,
          0.6113628103896898,
          0.7945442740293744,
          null,
          0.5940337316172144,
          0.4637289727324831,
          0.783610185375002
         ],
         "zmax": 1,
         "zmin": 0
        },
        {
         "colorbar": {
          "len": 1,
          "tickfont": {
           "size": 25
          },
          "ticktext": [
           "0%",
           "10%",
           "20%",
           "30%",
           "40%",
           "50%",
           "60%",
           "70%",
           "80%",
           "90%"
          ],
          "tickvals": [
           0,
           0.1,
           0.2,
           0.30000000000000004,
           0.4,
           0.5,
           0.6000000000000001,
           0.7000000000000001,
           0.8,
           0.9
          ],
          "title": {
           "text": "Emission<br>reduction<br>in 2030<br>w.r.t. 1990"
          },
          "x": 1
         },
         "colorscale": [
          [
           0,
           "rgb(49,54,149)"
          ],
          [
           0.1,
           "rgb(69,117,180)"
          ],
          [
           0.2,
           "rgb(116,173,209)"
          ],
          [
           0.3,
           "rgb(171,217,233)"
          ],
          [
           0.4,
           "rgb(224,243,248)"
          ],
          [
           0.5,
           "rgb(255,255,191)"
          ],
          [
           0.6,
           "rgb(254,224,144)"
          ],
          [
           0.7,
           "rgb(253,174,97)"
          ],
          [
           0.8,
           "rgb(244,109,67)"
          ],
          [
           0.9,
           "rgb(215,48,39)"
          ],
          [
           1,
           "rgb(165,0,38)"
          ]
         ],
         "geo": "geo6",
         "hovertemplate": "%{text}",
         "locationmode": "ISO-3",
         "locations": [
          "AUT",
          "BEL",
          "BGR",
          "HRV",
          "CYP",
          "CZE",
          "DNK",
          "EST",
          "FIN",
          "FRA",
          "DEU",
          "GRC",
          "HUN",
          "IRL",
          "ITA",
          "LVA",
          "LTU",
          "LUX",
          "MLT",
          "NLD",
          "POL",
          "PRT",
          "ROU",
          "SVK",
          "SVN",
          "ESP",
          "SWE"
         ],
         "marker": {
          "line": {
           "color": "grey",
           "width": 0.7
          }
         },
         "name": "",
         "showscale": false,
         "text": [
          "AUT: 1.72 Gt CO<sub>2</sub>e",
          "BEL: 1.34 Gt CO<sub>2</sub>e",
          "BGR: 1.04 Gt CO<sub>2</sub>e",
          "HRV: 0.96 Gt CO<sub>2</sub>e",
          "CYP: 1.01 Gt CO<sub>2</sub>e",
          "CZE: 1.07 Gt CO<sub>2</sub>e",
          "DNK: 1.84 Gt CO<sub>2</sub>e",
          "EST: 0.74 Gt CO<sub>2</sub>e",
          "FIN: 1.15 Gt CO<sub>2</sub>e",
          "FRA: 1.78 Gt CO<sub>2</sub>e",
          "DEU: 1.46 Gt CO<sub>2</sub>e",
          "GRC: 1.10 Gt CO<sub>2</sub>e",
          "HUN: 0.80 Gt CO<sub>2</sub>e",
          "IRL: 2.08 Gt CO<sub>2</sub>e",
          "ITA: 1.37 Gt CO<sub>2</sub>e",
          "LVA: 0.96 Gt CO<sub>2</sub>e",
          "LTU: 0.83 Gt CO<sub>2</sub>e",
          "LUX: 2.14 Gt CO<sub>2</sub>e",
          "MLT: 1.61 Gt CO<sub>2</sub>e",
          "NLD: 1.45 Gt CO<sub>2</sub>e",
          "POL: 0.75 Gt CO<sub>2</sub>e",
          "PRT: 1.20 Gt CO<sub>2</sub>e",
          "ROU: 0.89 Gt CO<sub>2</sub>e",
          "SVK: nan Gt CO<sub>2</sub>e",
          "SVN: 1.07 Gt CO<sub>2</sub>e",
          "ESP: 1.41 Gt CO<sub>2</sub>e",
          "SWE: 2.30 Gt CO<sub>2</sub>e"
         ],
         "type": "choropleth",
         "z": [
          1.7180751400747594,
          1.3447638285535064,
          1.0431770044372757,
          0.9622660123984464,
          1.0098354255063455,
          1.0686627153300226,
          1.8445648276178643,
          0.7444837106905734,
          1.1453566665225126,
          1.7802868241669183,
          1.4643565959538827,
          1.0972913278497574,
          0.8002169472834033,
          2.081367289993232,
          1.3721795140418482,
          0.9643549492508835,
          0.8269597069625496,
          2.1428920587180738,
          1.607094374459322,
          1.4489612770660338,
          0.7544050643690753,
          1.1978787928604024,
          0.8890772601183137,
          null,
          1.0746716720826062,
          1.4124821542126997,
          2.299785967178376
         ],
         "zmax": 1,
         "zmin": 0
        },
        {
         "featureidkey": "properties.NAME_3",
         "geo": "geo",
         "hoverinfo": "skip",
         "locations": [
          "AUT",
          "BEL",
          "BGR",
          "HRV",
          "CYP",
          "CZE",
          "DNK",
          "EST",
          "FIN",
          "FRA",
          "DEU",
          "GRC",
          "HUN",
          "IRL",
          "ITA",
          "LVA",
          "LTU",
          "LUX",
          "MLT",
          "NLD",
          "POL",
          "PRT",
          "ROU",
          "SVK",
          "SVN",
          "ESP",
          "SWE"
         ],
         "mode": "text",
         "showlegend": false,
         "text": [
          "38%",
          "43%",
          "83%",
          "66%",
          "21%",
          "66%",
          "62%",
          "56%",
          "17%",
          "60%",
          "64%",
          "54%",
          "57%",
          "37%",
          "55%",
          "48%",
          "61%",
          "49%",
          "41%",
          "50%",
          "55%",
          "51%",
          "77%",
          "53%",
          "45%",
          "30%",
          "66%"
         ],
         "textfont": {
          "color": "black",
          "size": 20
         },
         "type": "scattergeo"
        },
        {
         "featureidkey": "properties.NAME_3",
         "geo": "geo2",
         "hoverinfo": "skip",
         "locations": [
          "AUT",
          "BEL",
          "BGR",
          "HRV",
          "CYP",
          "CZE",
          "DNK",
          "EST",
          "FIN",
          "FRA",
          "DEU",
          "GRC",
          "HUN",
          "IRL",
          "ITA",
          "LVA",
          "LTU",
          "LUX",
          "MLT",
          "NLD",
          "POL",
          "PRT",
          "ROU",
          "SVK",
          "SVN",
          "ESP",
          "SWE"
         ],
         "mode": "text",
         "showlegend": false,
         "text": [
          "47%",
          "65%",
          "64%",
          "50%",
          "8%",
          "76%",
          "66%",
          "83%",
          "55%",
          "46%",
          "72%",
          "51%",
          "60%",
          "64%",
          "48%",
          "17%",
          "68%",
          "77%",
          "28%",
          "69%",
          "69%",
          "31%",
          "65%",
          "59%",
          "54%",
          "20%",
          "47%"
         ],
         "textfont": {
          "color": "black",
          "size": 20
         },
         "type": "scattergeo"
        },
        {
         "featureidkey": "properties.NAME_3",
         "geo": "geo3",
         "hoverinfo": "skip",
         "locations": [
          "AUT",
          "BEL",
          "BGR",
          "HRV",
          "CYP",
          "CZE",
          "DNK",
          "EST",
          "FIN",
          "FRA",
          "DEU",
          "GRC",
          "HUN",
          "IRL",
          "ITA",
          "LVA",
          "LTU",
          "LUX",
          "MLT",
          "NLD",
          "POL",
          "PRT",
          "ROU",
          "SVK",
          "SVN",
          "ESP",
          "SWE"
         ],
         "mode": "text",
         "showlegend": false,
         "text": [
          "41%",
          "50%",
          "77%",
          "61%",
          "17%",
          "69%",
          "63%",
          "64%",
          "29%",
          "55%",
          "67%",
          "53%",
          "58%",
          "46%",
          "53%",
          "38%",
          "63%",
          "58%",
          "37%",
          "56%",
          "60%",
          "44%",
          "73%",
          "55%",
          "48%",
          "27%",
          "60%"
         ],
         "textfont": {
          "color": "black",
          "size": 20
         },
         "type": "scattergeo"
        },
        {
         "featureidkey": "properties.NAME_3",
         "geo": "geo4",
         "hoverinfo": "skip",
         "locations": [
          "AUT",
          "BEL",
          "BGR",
          "HRV",
          "CYP",
          "CZE",
          "DNK",
          "EST",
          "FIN",
          "FRA",
          "DEU",
          "GRC",
          "HUN",
          "IRL",
          "ITA",
          "LVA",
          "LTU",
          "LUX",
          "MLT",
          "NLD",
          "POL",
          "PRT",
          "ROU",
          "SVK",
          "SVN",
          "ESP",
          "SWE"
         ],
         "mode": "text",
         "showlegend": false,
         "text": [
          "61%",
          "80%",
          "100%",
          "72%",
          "14%",
          "99%",
          "89%",
          "94%",
          "57%",
          "73%",
          "95%",
          "66%",
          "78%",
          "65%",
          "66%",
          "56%",
          "86%",
          "93%",
          "34%",
          "80%",
          "85%",
          "47%",
          "87%",
          "78%",
          "62%",
          "34%",
          "78%"
         ],
         "textfont": {
          "color": "black",
          "size": 20
         },
         "type": "scattergeo"
        },
        {
         "featureidkey": "properties.NAME_3",
         "geo": "geo5",
         "hoverinfo": "skip",
         "locations": [
          "AUT",
          "BEL",
          "BGR",
          "HRV",
          "CYP",
          "CZE",
          "DNK",
          "EST",
          "FIN",
          "FRA",
          "DEU",
          "GRC",
          "HUN",
          "IRL",
          "ITA",
          "LVA",
          "LTU",
          "LUX",
          "MLT",
          "NLD",
          "POL",
          "PRT",
          "ROU",
          "SVK",
          "SVN",
          "ESP",
          "SWE"
         ],
         "mode": "text",
         "showlegend": false,
         "text": [
          "59%",
          "61%",
          "87%",
          "69%",
          "35%",
          "76%",
          "73%",
          "66%",
          "42%",
          "70%",
          "76%",
          "65%",
          "62%",
          "57%",
          "65%",
          "55%",
          "67%",
          "75%",
          "60%",
          "67%",
          "65%",
          "61%",
          "79%",
          "64%",
          "59%",
          "46%",
          "78%"
         ],
         "textfont": {
          "color": "black",
          "size": 20
         },
         "type": "scattergeo"
        },
        {
         "featureidkey": "properties.NAME_3",
         "geo": "geo6",
         "hoverinfo": "skip",
         "locations": [
          "AUT",
          "BEL",
          "BGR",
          "HRV",
          "CYP",
          "CZE",
          "DNK",
          "EST",
          "FIN",
          "FRA",
          "DEU",
          "GRC",
          "HUN",
          "IRL",
          "ITA",
          "LVA",
          "LTU",
          "LUX",
          "MLT",
          "NLD",
          "POL",
          "PRT",
          "ROU",
          "SVK",
          "SVN",
          "ESP",
          "SWE"
         ],
         "mode": "text",
         "showlegend": false,
         "text": [
          "171%",
          "134%",
          "104%",
          "96%",
          "100%",
          "106%",
          "184%",
          "74%",
          "114%",
          "178%",
          "146%",
          "109%",
          "80%",
          "208%",
          "137%",
          "96%",
          "82%",
          "214%",
          "160%",
          "144%",
          "75%",
          "119%",
          "88%",
          "131%",
          "107%",
          "141%",
          "229%"
         ],
         "textfont": {
          "color": "black",
          "size": 20
         },
         "type": "scattergeo"
        }
       ],
       "layout": {
        "annotations": [
         {
          "align": "left",
          "ax": 0,
          "ay": 0,
          "font": {
           "color": "black",
           "size": 25
          },
          "showarrow": false,
          "text": "<b>(a) Grandfathering</b>",
          "x": 0.07,
          "xref": "paper",
          "y": 0.96,
          "yref": "paper"
         },
         {
          "align": "left",
          "ax": 0,
          "ay": 0,
          "font": {
           "color": "black",
           "size": 25
          },
          "showarrow": false,
          "text": "<b>(b) Per Capita</b>",
          "x": 0.47,
          "xref": "paper",
          "y": 0.96,
          "yref": "paper"
         },
         {
          "align": "left",
          "ax": 0,
          "ay": 0,
          "font": {
           "color": "black",
           "size": 25
          },
          "showarrow": false,
          "text": "<b>(c) Per Capita Convergence</b>",
          "x": 0.9,
          "xref": "paper",
          "y": 0.96,
          "yref": "paper"
         },
         {
          "align": "left",
          "ax": 0,
          "ay": 0,
          "font": {
           "color": "black",
           "size": 25
          },
          "showarrow": false,
          "text": "<b>(d) Equal Cumulative per Capita</b>",
          "x": 0.07,
          "xref": "paper",
          "y": 0.45,
          "yref": "paper"
         },
         {
          "align": "left",
          "ax": 0,
          "ay": 0,
          "font": {
           "color": "black",
           "size": 25
          },
          "showarrow": false,
          "text": "<b>(e) Ability to Pay</b>",
          "x": 0.48,
          "xref": "paper",
          "y": 0.45,
          "yref": "paper"
         },
         {
          "align": "left",
          "ax": 0,
          "ay": 0,
          "font": {
           "color": "black",
           "size": 25
          },
          "showarrow": false,
          "text": "<b>(f) Greenhouse Development Rights</b>",
          "x": 0.95,
          "xref": "paper",
          "y": 0.45,
          "yref": "paper"
         }
        ],
        "geo": {
         "domain": {
          "x": [
           0,
           0.3333333333333333
          ],
          "y": [
           0.5,
           1
          ]
         },
         "lakecolor": "rgb(255, 255, 255)",
         "lataxis": {
          "range": [
           30,
           75
          ]
         },
         "lonaxis": {
          "range": [
           -20,
           40
          ]
         },
         "projection": {
          "type": "natural earth"
         },
         "resolution": 50,
         "scope": "europe",
         "showcoastlines": false,
         "showcountries": false,
         "showlakes": true,
         "visible": true
        },
        "geo2": {
         "domain": {
          "x": [
           0.3333333333333333,
           0.6666666666666666
          ],
          "y": [
           0.5,
           1
          ]
         },
         "lakecolor": "rgb(255, 255, 255)",
         "lataxis": {
          "range": [
           30,
           75
          ]
         },
         "lonaxis": {
          "range": [
           -20,
           40
          ]
         },
         "projection": {
          "type": "natural earth"
         },
         "resolution": 50,
         "scope": "europe",
         "showcoastlines": false,
         "showcountries": false,
         "showlakes": true,
         "visible": true
        },
        "geo3": {
         "domain": {
          "x": [
           0.6666666666666666,
           1
          ],
          "y": [
           0.5,
           1
          ]
         },
         "lakecolor": "rgb(255, 255, 255)",
         "lataxis": {
          "range": [
           30,
           75
          ]
         },
         "lonaxis": {
          "range": [
           -20,
           40
          ]
         },
         "projection": {
          "type": "natural earth"
         },
         "resolution": 50,
         "scope": "europe",
         "showcoastlines": false,
         "showcountries": false,
         "showlakes": true,
         "visible": true
        },
        "geo4": {
         "domain": {
          "x": [
           0,
           0.3333333333333333
          ],
          "y": [
           0,
           0.5
          ]
         },
         "lakecolor": "rgb(255, 255, 255)",
         "lataxis": {
          "range": [
           30,
           75
          ]
         },
         "lonaxis": {
          "range": [
           -20,
           40
          ]
         },
         "projection": {
          "type": "natural earth"
         },
         "resolution": 50,
         "scope": "europe",
         "showcoastlines": false,
         "showcountries": false,
         "showlakes": true,
         "visible": true
        },
        "geo5": {
         "domain": {
          "x": [
           0.3333333333333333,
           0.6666666666666666
          ],
          "y": [
           0,
           0.5
          ]
         },
         "lakecolor": "rgb(255, 255, 255)",
         "lataxis": {
          "range": [
           30,
           75
          ]
         },
         "lonaxis": {
          "range": [
           -20,
           40
          ]
         },
         "projection": {
          "type": "natural earth"
         },
         "resolution": 50,
         "scope": "europe",
         "showcoastlines": false,
         "showcountries": false,
         "showlakes": true,
         "visible": true
        },
        "geo6": {
         "domain": {
          "x": [
           0.6666666666666666,
           1
          ],
          "y": [
           0,
           0.5
          ]
         },
         "lakecolor": "rgb(255, 255, 255)",
         "lataxis": {
          "range": [
           30,
           75
          ]
         },
         "lonaxis": {
          "range": [
           -20,
           40
          ]
         },
         "projection": {
          "type": "natural earth"
         },
         "resolution": 50,
         "scope": "europe",
         "showcoastlines": false,
         "showcountries": false,
         "showlakes": true,
         "visible": true
        },
        "height": 1200,
        "margin": {
         "b": 0,
         "l": 0,
         "r": 0,
         "t": 0
        },
        "template": {
         "data": {
          "bar": [
           {
            "error_x": {
             "color": "#2a3f5f"
            },
            "error_y": {
             "color": "#2a3f5f"
            },
            "marker": {
             "line": {
              "color": "#E5ECF6",
              "width": 0.5
             }
            },
            "type": "bar"
           }
          ],
          "barpolar": [
           {
            "marker": {
             "line": {
              "color": "#E5ECF6",
              "width": 0.5
             }
            },
            "type": "barpolar"
           }
          ],
          "carpet": [
           {
            "aaxis": {
             "endlinecolor": "#2a3f5f",
             "gridcolor": "white",
             "linecolor": "white",
             "minorgridcolor": "white",
             "startlinecolor": "#2a3f5f"
            },
            "baxis": {
             "endlinecolor": "#2a3f5f",
             "gridcolor": "white",
             "linecolor": "white",
             "minorgridcolor": "white",
             "startlinecolor": "#2a3f5f"
            },
            "type": "carpet"
           }
          ],
          "choropleth": [
           {
            "colorbar": {
             "outlinewidth": 0,
             "ticks": ""
            },
            "type": "choropleth"
           }
          ],
          "contour": [
           {
            "colorbar": {
             "outlinewidth": 0,
             "ticks": ""
            },
            "colorscale": [
             [
              0,
              "#0d0887"
             ],
             [
              0.1111111111111111,
              "#46039f"
             ],
             [
              0.2222222222222222,
              "#7201a8"
             ],
             [
              0.3333333333333333,
              "#9c179e"
             ],
             [
              0.4444444444444444,
              "#bd3786"
             ],
             [
              0.5555555555555556,
              "#d8576b"
             ],
             [
              0.6666666666666666,
              "#ed7953"
             ],
             [
              0.7777777777777778,
              "#fb9f3a"
             ],
             [
              0.8888888888888888,
              "#fdca26"
             ],
             [
              1,
              "#f0f921"
             ]
            ],
            "type": "contour"
           }
          ],
          "contourcarpet": [
           {
            "colorbar": {
             "outlinewidth": 0,
             "ticks": ""
            },
            "type": "contourcarpet"
           }
          ],
          "heatmap": [
           {
            "colorbar": {
             "outlinewidth": 0,
             "ticks": ""
            },
            "colorscale": [
             [
              0,
              "#0d0887"
             ],
             [
              0.1111111111111111,
              "#46039f"
             ],
             [
              0.2222222222222222,
              "#7201a8"
             ],
             [
              0.3333333333333333,
              "#9c179e"
             ],
             [
              0.4444444444444444,
              "#bd3786"
             ],
             [
              0.5555555555555556,
              "#d8576b"
             ],
             [
              0.6666666666666666,
              "#ed7953"
             ],
             [
              0.7777777777777778,
              "#fb9f3a"
             ],
             [
              0.8888888888888888,
              "#fdca26"
             ],
             [
              1,
              "#f0f921"
             ]
            ],
            "type": "heatmap"
           }
          ],
          "heatmapgl": [
           {
            "colorbar": {
             "outlinewidth": 0,
             "ticks": ""
            },
            "colorscale": [
             [
              0,
              "#0d0887"
             ],
             [
              0.1111111111111111,
              "#46039f"
             ],
             [
              0.2222222222222222,
              "#7201a8"
             ],
             [
              0.3333333333333333,
              "#9c179e"
             ],
             [
              0.4444444444444444,
              "#bd3786"
             ],
             [
              0.5555555555555556,
              "#d8576b"
             ],
             [
              0.6666666666666666,
              "#ed7953"
             ],
             [
              0.7777777777777778,
              "#fb9f3a"
             ],
             [
              0.8888888888888888,
              "#fdca26"
             ],
             [
              1,
              "#f0f921"
             ]
            ],
            "type": "heatmapgl"
           }
          ],
          "histogram": [
           {
            "marker": {
             "colorbar": {
              "outlinewidth": 0,
              "ticks": ""
             }
            },
            "type": "histogram"
           }
          ],
          "histogram2d": [
           {
            "colorbar": {
             "outlinewidth": 0,
             "ticks": ""
            },
            "colorscale": [
             [
              0,
              "#0d0887"
             ],
             [
              0.1111111111111111,
              "#46039f"
             ],
             [
              0.2222222222222222,
              "#7201a8"
             ],
             [
              0.3333333333333333,
              "#9c179e"
             ],
             [
              0.4444444444444444,
              "#bd3786"
             ],
             [
              0.5555555555555556,
              "#d8576b"
             ],
             [
              0.6666666666666666,
              "#ed7953"
             ],
             [
              0.7777777777777778,
              "#fb9f3a"
             ],
             [
              0.8888888888888888,
              "#fdca26"
             ],
             [
              1,
              "#f0f921"
             ]
            ],
            "type": "histogram2d"
           }
          ],
          "histogram2dcontour": [
           {
            "colorbar": {
             "outlinewidth": 0,
             "ticks": ""
            },
            "colorscale": [
             [
              0,
              "#0d0887"
             ],
             [
              0.1111111111111111,
              "#46039f"
             ],
             [
              0.2222222222222222,
              "#7201a8"
             ],
             [
              0.3333333333333333,
              "#9c179e"
             ],
             [
              0.4444444444444444,
              "#bd3786"
             ],
             [
              0.5555555555555556,
              "#d8576b"
             ],
             [
              0.6666666666666666,
              "#ed7953"
             ],
             [
              0.7777777777777778,
              "#fb9f3a"
             ],
             [
              0.8888888888888888,
              "#fdca26"
             ],
             [
              1,
              "#f0f921"
             ]
            ],
            "type": "histogram2dcontour"
           }
          ],
          "mesh3d": [
           {
            "colorbar": {
             "outlinewidth": 0,
             "ticks": ""
            },
            "type": "mesh3d"
           }
          ],
          "parcoords": [
           {
            "line": {
             "colorbar": {
              "outlinewidth": 0,
              "ticks": ""
             }
            },
            "type": "parcoords"
           }
          ],
          "pie": [
           {
            "automargin": true,
            "type": "pie"
           }
          ],
          "scatter": [
           {
            "marker": {
             "colorbar": {
              "outlinewidth": 0,
              "ticks": ""
             }
            },
            "type": "scatter"
           }
          ],
          "scatter3d": [
           {
            "line": {
             "colorbar": {
              "outlinewidth": 0,
              "ticks": ""
             }
            },
            "marker": {
             "colorbar": {
              "outlinewidth": 0,
              "ticks": ""
             }
            },
            "type": "scatter3d"
           }
          ],
          "scattercarpet": [
           {
            "marker": {
             "colorbar": {
              "outlinewidth": 0,
              "ticks": ""
             }
            },
            "type": "scattercarpet"
           }
          ],
          "scattergeo": [
           {
            "marker": {
             "colorbar": {
              "outlinewidth": 0,
              "ticks": ""
             }
            },
            "type": "scattergeo"
           }
          ],
          "scattergl": [
           {
            "marker": {
             "colorbar": {
              "outlinewidth": 0,
              "ticks": ""
             }
            },
            "type": "scattergl"
           }
          ],
          "scattermapbox": [
           {
            "marker": {
             "colorbar": {
              "outlinewidth": 0,
              "ticks": ""
             }
            },
            "type": "scattermapbox"
           }
          ],
          "scatterpolar": [
           {
            "marker": {
             "colorbar": {
              "outlinewidth": 0,
              "ticks": ""
             }
            },
            "type": "scatterpolar"
           }
          ],
          "scatterpolargl": [
           {
            "marker": {
             "colorbar": {
              "outlinewidth": 0,
              "ticks": ""
             }
            },
            "type": "scatterpolargl"
           }
          ],
          "scatterternary": [
           {
            "marker": {
             "colorbar": {
              "outlinewidth": 0,
              "ticks": ""
             }
            },
            "type": "scatterternary"
           }
          ],
          "surface": [
           {
            "colorbar": {
             "outlinewidth": 0,
             "ticks": ""
            },
            "colorscale": [
             [
              0,
              "#0d0887"
             ],
             [
              0.1111111111111111,
              "#46039f"
             ],
             [
              0.2222222222222222,
              "#7201a8"
             ],
             [
              0.3333333333333333,
              "#9c179e"
             ],
             [
              0.4444444444444444,
              "#bd3786"
             ],
             [
              0.5555555555555556,
              "#d8576b"
             ],
             [
              0.6666666666666666,
              "#ed7953"
             ],
             [
              0.7777777777777778,
              "#fb9f3a"
             ],
             [
              0.8888888888888888,
              "#fdca26"
             ],
             [
              1,
              "#f0f921"
             ]
            ],
            "type": "surface"
           }
          ],
          "table": [
           {
            "cells": {
             "fill": {
              "color": "#EBF0F8"
             },
             "line": {
              "color": "white"
             }
            },
            "header": {
             "fill": {
              "color": "#C8D4E3"
             },
             "line": {
              "color": "white"
             }
            },
            "type": "table"
           }
          ]
         },
         "layout": {
          "annotationdefaults": {
           "arrowcolor": "#2a3f5f",
           "arrowhead": 0,
           "arrowwidth": 1
          },
          "coloraxis": {
           "colorbar": {
            "outlinewidth": 0,
            "ticks": ""
           }
          },
          "colorscale": {
           "diverging": [
            [
             0,
             "#8e0152"
            ],
            [
             0.1,
             "#c51b7d"
            ],
            [
             0.2,
             "#de77ae"
            ],
            [
             0.3,
             "#f1b6da"
            ],
            [
             0.4,
             "#fde0ef"
            ],
            [
             0.5,
             "#f7f7f7"
            ],
            [
             0.6,
             "#e6f5d0"
            ],
            [
             0.7,
             "#b8e186"
            ],
            [
             0.8,
             "#7fbc41"
            ],
            [
             0.9,
             "#4d9221"
            ],
            [
             1,
             "#276419"
            ]
           ],
           "sequential": [
            [
             0,
             "#0d0887"
            ],
            [
             0.1111111111111111,
             "#46039f"
            ],
            [
             0.2222222222222222,
             "#7201a8"
            ],
            [
             0.3333333333333333,
             "#9c179e"
            ],
            [
             0.4444444444444444,
             "#bd3786"
            ],
            [
             0.5555555555555556,
             "#d8576b"
            ],
            [
             0.6666666666666666,
             "#ed7953"
            ],
            [
             0.7777777777777778,
             "#fb9f3a"
            ],
            [
             0.8888888888888888,
             "#fdca26"
            ],
            [
             1,
             "#f0f921"
            ]
           ],
           "sequentialminus": [
            [
             0,
             "#0d0887"
            ],
            [
             0.1111111111111111,
             "#46039f"
            ],
            [
             0.2222222222222222,
             "#7201a8"
            ],
            [
             0.3333333333333333,
             "#9c179e"
            ],
            [
             0.4444444444444444,
             "#bd3786"
            ],
            [
             0.5555555555555556,
             "#d8576b"
            ],
            [
             0.6666666666666666,
             "#ed7953"
            ],
            [
             0.7777777777777778,
             "#fb9f3a"
            ],
            [
             0.8888888888888888,
             "#fdca26"
            ],
            [
             1,
             "#f0f921"
            ]
           ]
          },
          "colorway": [
           "#636efa",
           "#EF553B",
           "#00cc96",
           "#ab63fa",
           "#FFA15A",
           "#19d3f3",
           "#FF6692",
           "#B6E880",
           "#FF97FF",
           "#FECB52"
          ],
          "font": {
           "color": "#2a3f5f"
          },
          "geo": {
           "bgcolor": "white",
           "lakecolor": "white",
           "landcolor": "#E5ECF6",
           "showlakes": true,
           "showland": true,
           "subunitcolor": "white"
          },
          "hoverlabel": {
           "align": "left"
          },
          "hovermode": "closest",
          "mapbox": {
           "style": "light"
          },
          "paper_bgcolor": "white",
          "plot_bgcolor": "#E5ECF6",
          "polar": {
           "angularaxis": {
            "gridcolor": "white",
            "linecolor": "white",
            "ticks": ""
           },
           "bgcolor": "#E5ECF6",
           "radialaxis": {
            "gridcolor": "white",
            "linecolor": "white",
            "ticks": ""
           }
          },
          "scene": {
           "xaxis": {
            "backgroundcolor": "#E5ECF6",
            "gridcolor": "white",
            "gridwidth": 2,
            "linecolor": "white",
            "showbackground": true,
            "ticks": "",
            "zerolinecolor": "white"
           },
           "yaxis": {
            "backgroundcolor": "#E5ECF6",
            "gridcolor": "white",
            "gridwidth": 2,
            "linecolor": "white",
            "showbackground": true,
            "ticks": "",
            "zerolinecolor": "white"
           },
           "zaxis": {
            "backgroundcolor": "#E5ECF6",
            "gridcolor": "white",
            "gridwidth": 2,
            "linecolor": "white",
            "showbackground": true,
            "ticks": "",
            "zerolinecolor": "white"
           }
          },
          "shapedefaults": {
           "line": {
            "color": "#2a3f5f"
           }
          },
          "ternary": {
           "aaxis": {
            "gridcolor": "white",
            "linecolor": "white",
            "ticks": ""
           },
           "baxis": {
            "gridcolor": "white",
            "linecolor": "white",
            "ticks": ""
           },
           "bgcolor": "#E5ECF6",
           "caxis": {
            "gridcolor": "white",
            "linecolor": "white",
            "ticks": ""
           }
          },
          "title": {
           "x": 0.05
          },
          "xaxis": {
           "automargin": true,
           "gridcolor": "white",
           "linecolor": "white",
           "ticks": "",
           "title": {
            "standoff": 15
           },
           "zerolinecolor": "white",
           "zerolinewidth": 2
          },
          "yaxis": {
           "automargin": true,
           "gridcolor": "white",
           "linecolor": "white",
           "ticks": "",
           "title": {
            "standoff": 15
           },
           "zerolinecolor": "white",
           "zerolinewidth": 2
          }
         }
        },
        "width": 2300
       }
      }
     },
     "metadata": {},
     "output_type": "display_data"
    }
   ],
   "source": [
    "fig = make_subplots(rows=2, cols=3, #subplot_titles=('Grandfathering (GF)',\n",
    "                                                    # 'Per Capita (PC)',\n",
    "                                                    # 'Per Capita Convergence (PCC)',\n",
    "                                                    # 'Equal Cumulative Per Capita',\n",
    "                                                    # 'Ability to pay (AP)',\n",
    "                                                    # 'Greenhouse Development Rights'), \n",
    "                                    specs=[[{'type': 'choropleth'}, {'type': 'choropleth'}, {'type': 'choropleth'}],\n",
    "                                           [{'type': 'choropleth'}, {'type': 'choropleth'}, {'type': 'choropleth'}]],\n",
    "                                    horizontal_spacing = 0,\n",
    "                                    vertical_spacing=0)\n",
    "\n",
    "colorbar_abs = dict(len=1, x=1, tickvals = [0, 1, 2, 3], ticktext = ['1', '10', '100', '1000'])\n",
    "colorbar_pc = dict(len=1, x=1)\n",
    "\n",
    "for var_i, var in enumerate(rules):\n",
    "    if var_i == 0:\n",
    "        cm= True\n",
    "    else:\n",
    "        cm= False\n",
    "    fig.add_trace(\n",
    "        go.Choropleth(\n",
    "        locations=group_eu,\n",
    "        z = data4[var],\n",
    "        locationmode = 'ISO-3',\n",
    "        colorscale = 'RdYlBu_r',\n",
    "        zmax = 1,\n",
    "        zmin = 0,\n",
    "        text = [str(r)+\": {:0.2f} Gt CO<sub>2</sub>e\".format(float(data4.sel(Region=r)[var])) for r_i, r in enumerate(group_eu)],\n",
    "        hovertemplate  = '%{text}',\n",
    "        name=\"\",\n",
    "        marker_line_color='grey', \n",
    "        marker_line_width=0.7,\n",
    "        colorbar=dict(len=1, x=1, tickvals = np.arange(0, 1, 0.1), ticktext = [str(int(i*100))+\"%\" for i in np.arange(0, 1, 0.1)], title={\"text\":\"Emission<br>reduction<br>in 2030<br>w.r.t. 1990\"}, tickfont={'size': 25}),\n",
    "        showscale=cm\n",
    "    ), [1, 1, 1, 2, 2, 2][var_i], [1, 2, 3, 1, 2, 3][var_i])\n",
    "# fig.update_geos(showocean=True, oceancolor=\"white\")\n",
    "# fig.update_geos(showlakes=True, lakecolor=\"white\")\n",
    "\n",
    "# limite map scope to USA 'africa', 'asia', 'europe', 'north america', 'south america', 'usa', 'world'\n",
    "fig.update_layout(\n",
    "    geo1 = dict(scope='europe', \n",
    "                showlakes=False,\n",
    "                lakecolor='rgb(255, 255, 255)',\n",
    "                showcoastlines=False,),\n",
    "    geo2 = dict(scope='europe', \n",
    "                showlakes=False,\n",
    "                lakecolor='rgb(255, 255, 255)',\n",
    "                showcoastlines=False,),\n",
    "    geo3 = dict(scope='europe', \n",
    "                showlakes=False,\n",
    "                lakecolor='rgb(255, 255, 255)',\n",
    "                showcoastlines=False,),\n",
    "    geo4 = dict(scope='europe', \n",
    "                showlakes=False,\n",
    "                lakecolor='rgb(255, 255, 255)',\n",
    "                showcoastlines=False,),\n",
    "    geo5 = dict(scope='europe', \n",
    "                showlakes=False,\n",
    "                lakecolor='rgb(255, 255, 255)',\n",
    "                showcoastlines=False,),\n",
    "    geo6 = dict(scope='europe', \n",
    "                showlakes=False,\n",
    "                showcoastlines=False,),\n",
    ")\n",
    "\n",
    "mn = np.min(np.array([float(data4[rules].min()[r]) for r in rules]))\n",
    "mx = np.max(np.array([float(data4[rules].max()[r]) for r in rules]))\n",
    "for var_i, var in enumerate(rules):\n",
    "    vals = np.array(data4[var]).astype(float)\n",
    "    vals_i = (vals + mn)**1.2\n",
    "    vals_n = 14*(vals - mn)/(mx - mn)+7\n",
    "    vals_boolean = np.copy(vals)\n",
    "    vals_boolean[vals >= 0] = 1\n",
    "    vals_boolean[vals < 0] = 0\n",
    "    vals_boolean = vals_boolean.astype(int)\n",
    "    vals[np.isnan(vals)] = np.nanmean(vals)\n",
    "    \n",
    "    fig.add_scattergeo(\n",
    "                locations = group_eu,\n",
    "                text = [str(np.int(vals[r_i]*100))+\"%\" for r_i in range(len(group_eu))],\n",
    "                featureidkey=\"properties.NAME_3\",\n",
    "                mode = 'text',\n",
    "                hoverinfo='skip',\n",
    "                showlegend=False,\n",
    "                textfont={'size': 20,\n",
    "                        'color': 'black'},\n",
    "                row=[1, 1, 1, 2, 2, 2][var_i],\n",
    "                col=[1, 2, 3, 1, 2, 3][var_i])\n",
    "\n",
    "fig.update_geos(visible=False,\n",
    "                showlakes=True,\n",
    "                lakecolor='rgb(255, 255, 255)',\n",
    "                projection_type='natural earth',\n",
    "                resolution=50,\n",
    "                lataxis_range=[30,75], lonaxis_range=[-20, 40],\n",
    "                showcoastlines=False,)\n",
    "\n",
    "#fig.update_traces(showscale=False)\n",
    "fig.update_layout(height=1200, width=2300)\n",
    "fig.update_geos(visible=True, showcountries=False)#fitbounds=\"locations\",\n",
    "fig.update_layout(margin={\"r\":0,\"t\":0,\"l\":0,\"b\":0})\n",
    "\n",
    "fig.add_annotation(xref='paper', yref='paper',ax=0, align='left', ay=-0, showarrow=False, font=dict(color='black', size=25),\n",
    "                   y=0.96, x=0.07, text=\"<b>(a) Grandfathering</b>\")\n",
    "fig.add_annotation(xref='paper', yref='paper',ax=0, align='left', ay=-0, showarrow=False, font=dict(color='black', size=25),\n",
    "                   y=0.96, x=0.47, text=\"<b>(b) Per Capita</b>\")\n",
    "fig.add_annotation(xref='paper', yref='paper',ax=0, align='left', ay=-0, showarrow=False, font=dict(color='black', size=25),\n",
    "                   y=0.96, x=0.90, text=\"<b>(c) Per Capita Convergence</b>\")\n",
    "fig.add_annotation(xref='paper', yref='paper',ax=0, align='left', ay=-0, showarrow=False, font=dict(color='black', size=25),\n",
    "                   y=0.45, x=0.07, text=\"<b>(d) Equal Cumulative per Capita</b>\")\n",
    "fig.add_annotation(xref='paper', yref='paper',ax=0, align='left', ay=-0, showarrow=False, font=dict(color='black', size=25),\n",
    "                   y=0.45, x=0.48, text=\"<b>(e) Ability to Pay</b>\")\n",
    "fig.add_annotation(xref='paper', yref='paper',ax=0, align='left', ay=-0, showarrow=False, font=dict(color='black', size=25),\n",
    "                   y=0.45, x=0.95, text=\"<b>(f) Greenhouse Development Rights</b>\")\n",
    "fig_europe = fig\n",
    "fig.show()"
   ]
  },
  {
   "cell_type": "code",
   "execution_count": 22,
   "metadata": {},
   "outputs": [],
   "source": [
    "fig.write_image(\"X:/user/dekkerm/Projects/ECEMF_T5.2/Figures/Presentations/Europe_2030perc.png\", scale=3)"
   ]
  },
  {
   "cell_type": "code",
   "execution_count": 20,
   "metadata": {},
   "outputs": [],
   "source": [
    "data5 = (xr_dataread.sel(Time=2021).GHG_hist - xrt.sel(**standard_settings, Time=2040, Region=group_eu).mean(dim='Scenario')) / xr_dataread.sel(Time=2021).GHG_hist"
   ]
  },
  {
   "cell_type": "code",
   "execution_count": 21,
   "metadata": {},
   "outputs": [
    {
     "data": {
      "application/vnd.plotly.v1+json": {
       "config": {
        "plotlyServerURL": "https://plotly.com"
       },
       "data": [
        {
         "colorbar": {
          "len": 1,
          "tickfont": {
           "size": 25
          },
          "ticktext": [
           "0%",
           "10%",
           "20%",
           "30%",
           "40%",
           "50%",
           "60%",
           "70%",
           "80%",
           "90%"
          ],
          "tickvals": [
           0,
           0.1,
           0.2,
           0.30000000000000004,
           0.4,
           0.5,
           0.6000000000000001,
           0.7000000000000001,
           0.8,
           0.9
          ],
          "title": {
           "text": "Emission<br>reduction<br>in 2040<br>w.r.t. 2021"
          },
          "x": 1
         },
         "colorscale": [
          [
           0,
           "rgb(49,54,149)"
          ],
          [
           0.1,
           "rgb(69,117,180)"
          ],
          [
           0.2,
           "rgb(116,173,209)"
          ],
          [
           0.3,
           "rgb(171,217,233)"
          ],
          [
           0.4,
           "rgb(224,243,248)"
          ],
          [
           0.5,
           "rgb(255,255,191)"
          ],
          [
           0.6,
           "rgb(254,224,144)"
          ],
          [
           0.7,
           "rgb(253,174,97)"
          ],
          [
           0.8,
           "rgb(244,109,67)"
          ],
          [
           0.9,
           "rgb(215,48,39)"
          ],
          [
           1,
           "rgb(165,0,38)"
          ]
         ],
         "geo": "geo",
         "hovertemplate": "%{text}",
         "locationmode": "ISO-3",
         "locations": [
          "AUT",
          "BEL",
          "BGR",
          "HRV",
          "CYP",
          "CZE",
          "DNK",
          "EST",
          "FIN",
          "FRA",
          "DEU",
          "GRC",
          "HUN",
          "IRL",
          "ITA",
          "LVA",
          "LTU",
          "LUX",
          "MLT",
          "NLD",
          "POL",
          "PRT",
          "ROU",
          "SVK",
          "SVN",
          "ESP",
          "SWE"
         ],
         "marker": {
          "line": {
           "color": "grey",
           "width": 0.7
          }
         },
         "name": "",
         "showscale": true,
         "text": [
          "AUT: 0.66 Gt CO<sub>2</sub>e",
          "BEL: 0.66 Gt CO<sub>2</sub>e",
          "BGR: 0.66 Gt CO<sub>2</sub>e",
          "HRV: 0.66 Gt CO<sub>2</sub>e",
          "CYP: 0.66 Gt CO<sub>2</sub>e",
          "CZE: 0.66 Gt CO<sub>2</sub>e",
          "DNK: 0.66 Gt CO<sub>2</sub>e",
          "EST: 0.66 Gt CO<sub>2</sub>e",
          "FIN: 0.66 Gt CO<sub>2</sub>e",
          "FRA: 0.66 Gt CO<sub>2</sub>e",
          "DEU: 0.66 Gt CO<sub>2</sub>e",
          "GRC: 0.66 Gt CO<sub>2</sub>e",
          "HUN: 0.66 Gt CO<sub>2</sub>e",
          "IRL: 0.66 Gt CO<sub>2</sub>e",
          "ITA: 0.66 Gt CO<sub>2</sub>e",
          "LVA: 0.66 Gt CO<sub>2</sub>e",
          "LTU: 0.66 Gt CO<sub>2</sub>e",
          "LUX: 0.66 Gt CO<sub>2</sub>e",
          "MLT: 0.66 Gt CO<sub>2</sub>e",
          "NLD: 0.66 Gt CO<sub>2</sub>e",
          "POL: 0.66 Gt CO<sub>2</sub>e",
          "PRT: 0.66 Gt CO<sub>2</sub>e",
          "ROU: 0.66 Gt CO<sub>2</sub>e",
          "SVK: 0.66 Gt CO<sub>2</sub>e",
          "SVN: 0.66 Gt CO<sub>2</sub>e",
          "ESP: 0.66 Gt CO<sub>2</sub>e",
          "SWE: 0.66 Gt CO<sub>2</sub>e"
         ],
         "type": "choropleth",
         "z": [
          0.6583528176451626,
          0.6583528150580694,
          0.6583528107687971,
          0.6583528239574131,
          0.6583528182200938,
          0.6583528236580682,
          0.6583528044215495,
          0.6583528191295103,
          0.6583528244540855,
          0.6583528061248332,
          0.6583528180276162,
          0.6583528156079647,
          0.6583528243855212,
          0.6583528199565262,
          0.6583528226835405,
          0.6583528089425728,
          0.6583527947938355,
          0.6583528181117908,
          0.658352802795479,
          0.6583528309974606,
          0.6583528127120203,
          0.6583528109534565,
          0.6583528176775166,
          0.6583528093774137,
          0.6583528226824302,
          0.6583528135105587,
          0.6583528070558246
         ],
         "zmax": 1,
         "zmin": 0
        },
        {
         "colorbar": {
          "len": 1,
          "tickfont": {
           "size": 25
          },
          "ticktext": [
           "0%",
           "10%",
           "20%",
           "30%",
           "40%",
           "50%",
           "60%",
           "70%",
           "80%",
           "90%"
          ],
          "tickvals": [
           0,
           0.1,
           0.2,
           0.30000000000000004,
           0.4,
           0.5,
           0.6000000000000001,
           0.7000000000000001,
           0.8,
           0.9
          ],
          "title": {
           "text": "Emission<br>reduction<br>in 2040<br>w.r.t. 2021"
          },
          "x": 1
         },
         "colorscale": [
          [
           0,
           "rgb(49,54,149)"
          ],
          [
           0.1,
           "rgb(69,117,180)"
          ],
          [
           0.2,
           "rgb(116,173,209)"
          ],
          [
           0.3,
           "rgb(171,217,233)"
          ],
          [
           0.4,
           "rgb(224,243,248)"
          ],
          [
           0.5,
           "rgb(255,255,191)"
          ],
          [
           0.6,
           "rgb(254,224,144)"
          ],
          [
           0.7,
           "rgb(253,174,97)"
          ],
          [
           0.8,
           "rgb(244,109,67)"
          ],
          [
           0.9,
           "rgb(215,48,39)"
          ],
          [
           1,
           "rgb(165,0,38)"
          ]
         ],
         "geo": "geo2",
         "hovertemplate": "%{text}",
         "locationmode": "ISO-3",
         "locations": [
          "AUT",
          "BEL",
          "BGR",
          "HRV",
          "CYP",
          "CZE",
          "DNK",
          "EST",
          "FIN",
          "FRA",
          "DEU",
          "GRC",
          "HUN",
          "IRL",
          "ITA",
          "LVA",
          "LTU",
          "LUX",
          "MLT",
          "NLD",
          "POL",
          "PRT",
          "ROU",
          "SVK",
          "SVN",
          "ESP",
          "SWE"
         ],
         "marker": {
          "line": {
           "color": "grey",
           "width": 0.7
          }
         },
         "name": "",
         "showscale": false,
         "text": [
          "AUT: 0.71 Gt CO<sub>2</sub>e",
          "BEL: 0.79 Gt CO<sub>2</sub>e",
          "BGR: 0.28 Gt CO<sub>2</sub>e",
          "HRV: 0.49 Gt CO<sub>2</sub>e",
          "CYP: 0.60 Gt CO<sub>2</sub>e",
          "CZE: 0.76 Gt CO<sub>2</sub>e",
          "DNK: 0.69 Gt CO<sub>2</sub>e",
          "EST: 0.87 Gt CO<sub>2</sub>e",
          "FIN: 0.82 Gt CO<sub>2</sub>e",
          "FRA: 0.54 Gt CO<sub>2</sub>e",
          "DEU: 0.74 Gt CO<sub>2</sub>e",
          "GRC: 0.64 Gt CO<sub>2</sub>e",
          "HUN: 0.68 Gt CO<sub>2</sub>e",
          "IRL: 0.80 Gt CO<sub>2</sub>e",
          "ITA: 0.61 Gt CO<sub>2</sub>e",
          "LVA: 0.45 Gt CO<sub>2</sub>e",
          "LTU: 0.72 Gt CO<sub>2</sub>e",
          "LUX: 0.85 Gt CO<sub>2</sub>e",
          "MLT: 0.59 Gt CO<sub>2</sub>e",
          "NLD: 0.79 Gt CO<sub>2</sub>e",
          "POL: 0.76 Gt CO<sub>2</sub>e",
          "PRT: 0.52 Gt CO<sub>2</sub>e",
          "ROU: 0.46 Gt CO<sub>2</sub>e",
          "SVK: 0.70 Gt CO<sub>2</sub>e",
          "SVN: 0.71 Gt CO<sub>2</sub>e",
          "ESP: 0.61 Gt CO<sub>2</sub>e",
          "SWE: 0.46 Gt CO<sub>2</sub>e"
         ],
         "type": "choropleth",
         "z": [
          0.7087410586097427,
          0.7892727091522264,
          0.2755523281434964,
          0.4936229370947858,
          0.6033804296154458,
          0.7591525712455522,
          0.6896256270591663,
          0.8691366462298792,
          0.8176689458229801,
          0.5441806944317492,
          0.7362927640008609,
          0.6392827125903482,
          0.678819217968864,
          0.8032376948449854,
          0.6109713524935867,
          0.4526214690345942,
          0.7178901391610413,
          0.8497363879770469,
          0.586275446219685,
          0.7903872303042127,
          0.7643879597572949,
          0.5182159006452002,
          0.45991653605732324,
          0.6980055538668984,
          0.7137169197816733,
          0.6085404302647032,
          0.4634866737764005
         ],
         "zmax": 1,
         "zmin": 0
        },
        {
         "colorbar": {
          "len": 1,
          "tickfont": {
           "size": 25
          },
          "ticktext": [
           "0%",
           "10%",
           "20%",
           "30%",
           "40%",
           "50%",
           "60%",
           "70%",
           "80%",
           "90%"
          ],
          "tickvals": [
           0,
           0.1,
           0.2,
           0.30000000000000004,
           0.4,
           0.5,
           0.6000000000000001,
           0.7000000000000001,
           0.8,
           0.9
          ],
          "title": {
           "text": "Emission<br>reduction<br>in 2040<br>w.r.t. 2021"
          },
          "x": 1
         },
         "colorscale": [
          [
           0,
           "rgb(49,54,149)"
          ],
          [
           0.1,
           "rgb(69,117,180)"
          ],
          [
           0.2,
           "rgb(116,173,209)"
          ],
          [
           0.3,
           "rgb(171,217,233)"
          ],
          [
           0.4,
           "rgb(224,243,248)"
          ],
          [
           0.5,
           "rgb(255,255,191)"
          ],
          [
           0.6,
           "rgb(254,224,144)"
          ],
          [
           0.7,
           "rgb(253,174,97)"
          ],
          [
           0.8,
           "rgb(244,109,67)"
          ],
          [
           0.9,
           "rgb(215,48,39)"
          ],
          [
           1,
           "rgb(165,0,38)"
          ]
         ],
         "geo": "geo3",
         "hovertemplate": "%{text}",
         "locationmode": "ISO-3",
         "locations": [
          "AUT",
          "BEL",
          "BGR",
          "HRV",
          "CYP",
          "CZE",
          "DNK",
          "EST",
          "FIN",
          "FRA",
          "DEU",
          "GRC",
          "HUN",
          "IRL",
          "ITA",
          "LVA",
          "LTU",
          "LUX",
          "MLT",
          "NLD",
          "POL",
          "PRT",
          "ROU",
          "SVK",
          "SVN",
          "ESP",
          "SWE"
         ],
         "marker": {
          "line": {
           "color": "grey",
           "width": 0.7
          }
         },
         "name": "",
         "showscale": false,
         "text": [
          "AUT: 0.69 Gt CO<sub>2</sub>e",
          "BEL: 0.74 Gt CO<sub>2</sub>e",
          "BGR: 0.41 Gt CO<sub>2</sub>e",
          "HRV: 0.55 Gt CO<sub>2</sub>e",
          "CYP: 0.62 Gt CO<sub>2</sub>e",
          "CZE: 0.72 Gt CO<sub>2</sub>e",
          "DNK: 0.68 Gt CO<sub>2</sub>e",
          "EST: 0.80 Gt CO<sub>2</sub>e",
          "FIN: 0.76 Gt CO<sub>2</sub>e",
          "FRA: 0.58 Gt CO<sub>2</sub>e",
          "DEU: 0.71 Gt CO<sub>2</sub>e",
          "GRC: 0.65 Gt CO<sub>2</sub>e",
          "HUN: 0.67 Gt CO<sub>2</sub>e",
          "IRL: 0.75 Gt CO<sub>2</sub>e",
          "ITA: 0.63 Gt CO<sub>2</sub>e",
          "LVA: 0.52 Gt CO<sub>2</sub>e",
          "LTU: 0.70 Gt CO<sub>2</sub>e",
          "LUX: 0.78 Gt CO<sub>2</sub>e",
          "MLT: 0.61 Gt CO<sub>2</sub>e",
          "NLD: 0.74 Gt CO<sub>2</sub>e",
          "POL: 0.73 Gt CO<sub>2</sub>e",
          "PRT: 0.57 Gt CO<sub>2</sub>e",
          "ROU: 0.53 Gt CO<sub>2</sub>e",
          "SVK: 0.68 Gt CO<sub>2</sub>e",
          "SVN: 0.69 Gt CO<sub>2</sub>e",
          "ESP: 0.63 Gt CO<sub>2</sub>e",
          "SWE: 0.53 Gt CO<sub>2</sub>e"
         ],
         "type": "choropleth",
         "z": [
          0.6913657983340193,
          0.7441279212780542,
          0.4075525313768309,
          0.5504263363170788,
          0.6223364268116878,
          0.7243940557248216,
          0.6788418723076525,
          0.7964525742829398,
          0.7627323503997867,
          0.5835504737315295,
          0.7094169183537957,
          0.6458586255123024,
          0.6717618266974238,
          0.753277382647875,
          0.6273097660102142,
          0.5235632696342372,
          0.6973600356689675,
          0.7837420361338833,
          0.6111297028497761,
          0.7448581243287246,
          0.727824111036712,
          0.566539010966762,
          0.5283427997505896,
          0.6843321691033171,
          0.694625852791015,
          0.6257171214590814,
          0.5306818577907682
         ],
         "zmax": 1,
         "zmin": 0
        },
        {
         "colorbar": {
          "len": 1,
          "tickfont": {
           "size": 25
          },
          "ticktext": [
           "0%",
           "10%",
           "20%",
           "30%",
           "40%",
           "50%",
           "60%",
           "70%",
           "80%",
           "90%"
          ],
          "tickvals": [
           0,
           0.1,
           0.2,
           0.30000000000000004,
           0.4,
           0.5,
           0.6000000000000001,
           0.7000000000000001,
           0.8,
           0.9
          ],
          "title": {
           "text": "Emission<br>reduction<br>in 2040<br>w.r.t. 2021"
          },
          "x": 1
         },
         "colorscale": [
          [
           0,
           "rgb(49,54,149)"
          ],
          [
           0.1,
           "rgb(69,117,180)"
          ],
          [
           0.2,
           "rgb(116,173,209)"
          ],
          [
           0.3,
           "rgb(171,217,233)"
          ],
          [
           0.4,
           "rgb(224,243,248)"
          ],
          [
           0.5,
           "rgb(255,255,191)"
          ],
          [
           0.6,
           "rgb(254,224,144)"
          ],
          [
           0.7,
           "rgb(253,174,97)"
          ],
          [
           0.8,
           "rgb(244,109,67)"
          ],
          [
           0.9,
           "rgb(215,48,39)"
          ],
          [
           1,
           "rgb(165,0,38)"
          ]
         ],
         "geo": "geo4",
         "hovertemplate": "%{text}",
         "locationmode": "ISO-3",
         "locations": [
          "AUT",
          "BEL",
          "BGR",
          "HRV",
          "CYP",
          "CZE",
          "DNK",
          "EST",
          "FIN",
          "FRA",
          "DEU",
          "GRC",
          "HUN",
          "IRL",
          "ITA",
          "LVA",
          "LTU",
          "LUX",
          "MLT",
          "NLD",
          "POL",
          "PRT",
          "ROU",
          "SVK",
          "SVN",
          "ESP",
          "SWE"
         ],
         "marker": {
          "line": {
           "color": "grey",
           "width": 0.7
          }
         },
         "name": "",
         "showscale": false,
         "text": [
          "AUT: 1.11 Gt CO<sub>2</sub>e",
          "BEL: 1.45 Gt CO<sub>2</sub>e",
          "BGR: 1.87 Gt CO<sub>2</sub>e",
          "HRV: 0.88 Gt CO<sub>2</sub>e",
          "CYP: 0.56 Gt CO<sub>2</sub>e",
          "CZE: 1.84 Gt CO<sub>2</sub>e",
          "DNK: 1.54 Gt CO<sub>2</sub>e",
          "EST: 1.71 Gt CO<sub>2</sub>e",
          "FIN: 1.25 Gt CO<sub>2</sub>e",
          "FRA: 1.07 Gt CO<sub>2</sub>e",
          "DEU: 1.73 Gt CO<sub>2</sub>e",
          "GRC: 0.99 Gt CO<sub>2</sub>e",
          "HUN: 1.27 Gt CO<sub>2</sub>e",
          "IRL: 1.20 Gt CO<sub>2</sub>e",
          "ITA: 0.96 Gt CO<sub>2</sub>e",
          "LVA: 0.85 Gt CO<sub>2</sub>e",
          "LTU: 1.44 Gt CO<sub>2</sub>e",
          "LUX: 1.72 Gt CO<sub>2</sub>e",
          "MLT: 0.53 Gt CO<sub>2</sub>e",
          "NLD: 1.39 Gt CO<sub>2</sub>e",
          "POL: 1.48 Gt CO<sub>2</sub>e",
          "PRT: 0.56 Gt CO<sub>2</sub>e",
          "ROU: 1.19 Gt CO<sub>2</sub>e",
          "SVK: 1.29 Gt CO<sub>2</sub>e",
          "SVN: 1.03 Gt CO<sub>2</sub>e",
          "ESP: 0.73 Gt CO<sub>2</sub>e",
          "SWE: 1.07 Gt CO<sub>2</sub>e"
         ],
         "type": "choropleth",
         "z": [
          1.1126700591944871,
          1.453644034589933,
          1.8738347695203221,
          0.8758487325939172,
          0.5612551353892669,
          1.841215727342223,
          1.5422990906956715,
          1.7096797074105572,
          1.2463562691462968,
          1.0703971054018766,
          1.727638451659937,
          0.9897904063682339,
          1.2668361426867292,
          1.1991972037760832,
          0.959981925576912,
          0.8536164556135853,
          1.4374453224633117,
          1.7194178969538774,
          0.531505369332677,
          1.3867651391084492,
          1.4848078403726366,
          0.5618394549290843,
          1.188025341082252,
          1.2920227345859367,
          1.0343787150288624,
          0.7296595329862545,
          1.070140113323676
         ],
         "zmax": 1,
         "zmin": 0
        },
        {
         "colorbar": {
          "len": 1,
          "tickfont": {
           "size": 25
          },
          "ticktext": [
           "0%",
           "10%",
           "20%",
           "30%",
           "40%",
           "50%",
           "60%",
           "70%",
           "80%",
           "90%"
          ],
          "tickvals": [
           0,
           0.1,
           0.2,
           0.30000000000000004,
           0.4,
           0.5,
           0.6000000000000001,
           0.7000000000000001,
           0.8,
           0.9
          ],
          "title": {
           "text": "Emission<br>reduction<br>in 2040<br>w.r.t. 2021"
          },
          "x": 1
         },
         "colorscale": [
          [
           0,
           "rgb(49,54,149)"
          ],
          [
           0.1,
           "rgb(69,117,180)"
          ],
          [
           0.2,
           "rgb(116,173,209)"
          ],
          [
           0.3,
           "rgb(171,217,233)"
          ],
          [
           0.4,
           "rgb(224,243,248)"
          ],
          [
           0.5,
           "rgb(255,255,191)"
          ],
          [
           0.6,
           "rgb(254,224,144)"
          ],
          [
           0.7,
           "rgb(253,174,97)"
          ],
          [
           0.8,
           "rgb(244,109,67)"
          ],
          [
           0.9,
           "rgb(215,48,39)"
          ],
          [
           1,
           "rgb(165,0,38)"
          ]
         ],
         "geo": "geo5",
         "hovertemplate": "%{text}",
         "locationmode": "ISO-3",
         "locations": [
          "AUT",
          "BEL",
          "BGR",
          "HRV",
          "CYP",
          "CZE",
          "DNK",
          "EST",
          "FIN",
          "FRA",
          "DEU",
          "GRC",
          "HUN",
          "IRL",
          "ITA",
          "LVA",
          "LTU",
          "LUX",
          "MLT",
          "NLD",
          "POL",
          "PRT",
          "ROU",
          "SVK",
          "SVN",
          "ESP",
          "SWE"
         ],
         "marker": {
          "line": {
           "color": "grey",
           "width": 0.7
          }
         },
         "name": "",
         "showscale": false,
         "text": [
          "AUT: 0.90 Gt CO<sub>2</sub>e",
          "BEL: 0.88 Gt CO<sub>2</sub>e",
          "BGR: 0.81 Gt CO<sub>2</sub>e",
          "HRV: 0.69 Gt CO<sub>2</sub>e",
          "CYP: 0.76 Gt CO<sub>2</sub>e",
          "CZE: 0.89 Gt CO<sub>2</sub>e",
          "DNK: 0.86 Gt CO<sub>2</sub>e",
          "EST: 0.84 Gt CO<sub>2</sub>e",
          "FIN: 0.87 Gt CO<sub>2</sub>e",
          "FRA: 0.85 Gt CO<sub>2</sub>e",
          "DEU: 0.88 Gt CO<sub>2</sub>e",
          "GRC: 0.82 Gt CO<sub>2</sub>e",
          "HUN: 0.72 Gt CO<sub>2</sub>e",
          "IRL: 0.88 Gt CO<sub>2</sub>e",
          "ITA: 0.80 Gt CO<sub>2</sub>e",
          "LVA: 0.74 Gt CO<sub>2</sub>e",
          "LTU: 0.75 Gt CO<sub>2</sub>e",
          "LUX: 1.03 Gt CO<sub>2</sub>e",
          "MLT: 0.93 Gt CO<sub>2</sub>e",
          "NLD: 0.90 Gt CO<sub>2</sub>e",
          "POL: 0.81 Gt CO<sub>2</sub>e",
          "PRT: 0.78 Gt CO<sub>2</sub>e",
          "ROU: 0.69 Gt CO<sub>2</sub>e",
          "SVK: nan Gt CO<sub>2</sub>e",
          "SVN: 0.83 Gt CO<sub>2</sub>e",
          "ESP: 0.80 Gt CO<sub>2</sub>e",
          "SWE: 0.91 Gt CO<sub>2</sub>e"
         ],
         "type": "choropleth",
         "z": [
          0.9017477101176558,
          0.8843910608516186,
          0.8089826438238108,
          0.6944224032584648,
          0.7584854310265827,
          0.891896141358347,
          0.8579146169697096,
          0.8387892357793844,
          0.8742532120470868,
          0.8477766411648063,
          0.8792782191409314,
          0.8209259661917458,
          0.7169269386301657,
          0.8822225004543243,
          0.8025687720534586,
          0.7408157392523502,
          0.749823594538899,
          1.0279872122837435,
          0.9326563227102755,
          0.8991416526306271,
          0.8099871432268596,
          0.7794419374537518,
          0.6850433502386464,
          null,
          0.8340580696746742,
          0.7962777858674328,
          0.9084148574790982
         ],
         "zmax": 1,
         "zmin": 0
        },
        {
         "colorbar": {
          "len": 1,
          "tickfont": {
           "size": 25
          },
          "ticktext": [
           "0%",
           "10%",
           "20%",
           "30%",
           "40%",
           "50%",
           "60%",
           "70%",
           "80%",
           "90%"
          ],
          "tickvals": [
           0,
           0.1,
           0.2,
           0.30000000000000004,
           0.4,
           0.5,
           0.6000000000000001,
           0.7000000000000001,
           0.8,
           0.9
          ],
          "title": {
           "text": "Emission<br>reduction<br>in 2040<br>w.r.t. 2021"
          },
          "x": 1
         },
         "colorscale": [
          [
           0,
           "rgb(49,54,149)"
          ],
          [
           0.1,
           "rgb(69,117,180)"
          ],
          [
           0.2,
           "rgb(116,173,209)"
          ],
          [
           0.3,
           "rgb(171,217,233)"
          ],
          [
           0.4,
           "rgb(224,243,248)"
          ],
          [
           0.5,
           "rgb(255,255,191)"
          ],
          [
           0.6,
           "rgb(254,224,144)"
          ],
          [
           0.7,
           "rgb(253,174,97)"
          ],
          [
           0.8,
           "rgb(244,109,67)"
          ],
          [
           0.9,
           "rgb(215,48,39)"
          ],
          [
           1,
           "rgb(165,0,38)"
          ]
         ],
         "geo": "geo6",
         "hovertemplate": "%{text}",
         "locationmode": "ISO-3",
         "locations": [
          "AUT",
          "BEL",
          "BGR",
          "HRV",
          "CYP",
          "CZE",
          "DNK",
          "EST",
          "FIN",
          "FRA",
          "DEU",
          "GRC",
          "HUN",
          "IRL",
          "ITA",
          "LVA",
          "LTU",
          "LUX",
          "MLT",
          "NLD",
          "POL",
          "PRT",
          "ROU",
          "SVK",
          "SVN",
          "ESP",
          "SWE"
         ],
         "marker": {
          "line": {
           "color": "grey",
           "width": 0.7
          }
         },
         "name": "",
         "showscale": false,
         "text": [
          "AUT: 2.75 Gt CO<sub>2</sub>e",
          "BEL: 2.26 Gt CO<sub>2</sub>e",
          "BGR: 1.86 Gt CO<sub>2</sub>e",
          "HRV: 1.45 Gt CO<sub>2</sub>e",
          "CYP: 1.67 Gt CO<sub>2</sub>e",
          "CZE: 1.83 Gt CO<sub>2</sub>e",
          "DNK: 3.82 Gt CO<sub>2</sub>e",
          "EST: 1.08 Gt CO<sub>2</sub>e",
          "FIN: 1.79 Gt CO<sub>2</sub>e",
          "FRA: 3.54 Gt CO<sub>2</sub>e",
          "DEU: 2.82 Gt CO<sub>2</sub>e",
          "GRC: 1.83 Gt CO<sub>2</sub>e",
          "HUN: 1.11 Gt CO<sub>2</sub>e",
          "IRL: 3.30 Gt CO<sub>2</sub>e",
          "ITA: 2.42 Gt CO<sub>2</sub>e",
          "LVA: 1.48 Gt CO<sub>2</sub>e",
          "LTU: 1.15 Gt CO<sub>2</sub>e",
          "LUX: 3.89 Gt CO<sub>2</sub>e",
          "MLT: 2.93 Gt CO<sub>2</sub>e",
          "NLD: 2.49 Gt CO<sub>2</sub>e",
          "POL: 1.11 Gt CO<sub>2</sub>e",
          "PRT: 2.02 Gt CO<sub>2</sub>e",
          "ROU: 1.09 Gt CO<sub>2</sub>e",
          "SVK: nan Gt CO<sub>2</sub>e",
          "SVN: 1.76 Gt CO<sub>2</sub>e",
          "ESP: 2.21 Gt CO<sub>2</sub>e",
          "SWE: 5.41 Gt CO<sub>2</sub>e"
         ],
         "type": "choropleth",
         "z": [
          2.7493554103559146,
          2.2605753708473615,
          1.8586750502589398,
          1.4524826467045873,
          1.672068886564998,
          1.827915756995446,
          3.8168564325210608,
          1.084949265210018,
          1.7920764178380193,
          3.538548636448339,
          2.8187935118325336,
          1.8257341191360799,
          1.1075296436249589,
          3.298475759308419,
          2.4175063194894815,
          1.4794294680667168,
          1.146458280001093,
          3.8872148293383755,
          2.932339058116448,
          2.489908739702366,
          1.1071673746173911,
          2.0171420924543906,
          1.0862521653862587,
          null,
          1.7626387092387905,
          2.211782951941401,
          5.4136265520380675
         ],
         "zmax": 1,
         "zmin": 0
        },
        {
         "featureidkey": "properties.NAME_3",
         "geo": "geo",
         "hoverinfo": "skip",
         "locations": [
          "AUT",
          "BEL",
          "BGR",
          "HRV",
          "CYP",
          "CZE",
          "DNK",
          "EST",
          "FIN",
          "FRA",
          "DEU",
          "GRC",
          "HUN",
          "IRL",
          "ITA",
          "LVA",
          "LTU",
          "LUX",
          "MLT",
          "NLD",
          "POL",
          "PRT",
          "ROU",
          "SVK",
          "SVN",
          "ESP",
          "SWE"
         ],
         "mode": "text",
         "showlegend": false,
         "text": [
          "65%",
          "65%",
          "65%",
          "65%",
          "65%",
          "65%",
          "65%",
          "65%",
          "65%",
          "65%",
          "65%",
          "65%",
          "65%",
          "65%",
          "65%",
          "65%",
          "65%",
          "65%",
          "65%",
          "65%",
          "65%",
          "65%",
          "65%",
          "65%",
          "65%",
          "65%",
          "65%"
         ],
         "textfont": {
          "color": "black",
          "size": 20
         },
         "type": "scattergeo"
        },
        {
         "featureidkey": "properties.NAME_3",
         "geo": "geo2",
         "hoverinfo": "skip",
         "locations": [
          "AUT",
          "BEL",
          "BGR",
          "HRV",
          "CYP",
          "CZE",
          "DNK",
          "EST",
          "FIN",
          "FRA",
          "DEU",
          "GRC",
          "HUN",
          "IRL",
          "ITA",
          "LVA",
          "LTU",
          "LUX",
          "MLT",
          "NLD",
          "POL",
          "PRT",
          "ROU",
          "SVK",
          "SVN",
          "ESP",
          "SWE"
         ],
         "mode": "text",
         "showlegend": false,
         "text": [
          "70%",
          "78%",
          "27%",
          "49%",
          "60%",
          "75%",
          "68%",
          "86%",
          "81%",
          "54%",
          "73%",
          "63%",
          "67%",
          "80%",
          "61%",
          "45%",
          "71%",
          "84%",
          "58%",
          "79%",
          "76%",
          "51%",
          "45%",
          "69%",
          "71%",
          "60%",
          "46%"
         ],
         "textfont": {
          "color": "black",
          "size": 20
         },
         "type": "scattergeo"
        },
        {
         "featureidkey": "properties.NAME_3",
         "geo": "geo3",
         "hoverinfo": "skip",
         "locations": [
          "AUT",
          "BEL",
          "BGR",
          "HRV",
          "CYP",
          "CZE",
          "DNK",
          "EST",
          "FIN",
          "FRA",
          "DEU",
          "GRC",
          "HUN",
          "IRL",
          "ITA",
          "LVA",
          "LTU",
          "LUX",
          "MLT",
          "NLD",
          "POL",
          "PRT",
          "ROU",
          "SVK",
          "SVN",
          "ESP",
          "SWE"
         ],
         "mode": "text",
         "showlegend": false,
         "text": [
          "69%",
          "74%",
          "40%",
          "55%",
          "62%",
          "72%",
          "67%",
          "79%",
          "76%",
          "58%",
          "70%",
          "64%",
          "67%",
          "75%",
          "62%",
          "52%",
          "69%",
          "78%",
          "61%",
          "74%",
          "72%",
          "56%",
          "52%",
          "68%",
          "69%",
          "62%",
          "53%"
         ],
         "textfont": {
          "color": "black",
          "size": 20
         },
         "type": "scattergeo"
        },
        {
         "featureidkey": "properties.NAME_3",
         "geo": "geo4",
         "hoverinfo": "skip",
         "locations": [
          "AUT",
          "BEL",
          "BGR",
          "HRV",
          "CYP",
          "CZE",
          "DNK",
          "EST",
          "FIN",
          "FRA",
          "DEU",
          "GRC",
          "HUN",
          "IRL",
          "ITA",
          "LVA",
          "LTU",
          "LUX",
          "MLT",
          "NLD",
          "POL",
          "PRT",
          "ROU",
          "SVK",
          "SVN",
          "ESP",
          "SWE"
         ],
         "mode": "text",
         "showlegend": false,
         "text": [
          "111%",
          "145%",
          "187%",
          "87%",
          "56%",
          "184%",
          "154%",
          "170%",
          "124%",
          "107%",
          "172%",
          "98%",
          "126%",
          "119%",
          "95%",
          "85%",
          "143%",
          "171%",
          "53%",
          "138%",
          "148%",
          "56%",
          "118%",
          "129%",
          "103%",
          "72%",
          "107%"
         ],
         "textfont": {
          "color": "black",
          "size": 20
         },
         "type": "scattergeo"
        },
        {
         "featureidkey": "properties.NAME_3",
         "geo": "geo5",
         "hoverinfo": "skip",
         "locations": [
          "AUT",
          "BEL",
          "BGR",
          "HRV",
          "CYP",
          "CZE",
          "DNK",
          "EST",
          "FIN",
          "FRA",
          "DEU",
          "GRC",
          "HUN",
          "IRL",
          "ITA",
          "LVA",
          "LTU",
          "LUX",
          "MLT",
          "NLD",
          "POL",
          "PRT",
          "ROU",
          "SVK",
          "SVN",
          "ESP",
          "SWE"
         ],
         "mode": "text",
         "showlegend": false,
         "text": [
          "90%",
          "88%",
          "80%",
          "69%",
          "75%",
          "89%",
          "85%",
          "83%",
          "87%",
          "84%",
          "87%",
          "82%",
          "71%",
          "88%",
          "80%",
          "74%",
          "74%",
          "102%",
          "93%",
          "89%",
          "80%",
          "77%",
          "68%",
          "83%",
          "83%",
          "79%",
          "90%"
         ],
         "textfont": {
          "color": "black",
          "size": 20
         },
         "type": "scattergeo"
        },
        {
         "featureidkey": "properties.NAME_3",
         "geo": "geo6",
         "hoverinfo": "skip",
         "locations": [
          "AUT",
          "BEL",
          "BGR",
          "HRV",
          "CYP",
          "CZE",
          "DNK",
          "EST",
          "FIN",
          "FRA",
          "DEU",
          "GRC",
          "HUN",
          "IRL",
          "ITA",
          "LVA",
          "LTU",
          "LUX",
          "MLT",
          "NLD",
          "POL",
          "PRT",
          "ROU",
          "SVK",
          "SVN",
          "ESP",
          "SWE"
         ],
         "mode": "text",
         "showlegend": false,
         "text": [
          "274%",
          "226%",
          "185%",
          "145%",
          "167%",
          "182%",
          "381%",
          "108%",
          "179%",
          "353%",
          "281%",
          "182%",
          "110%",
          "329%",
          "241%",
          "147%",
          "114%",
          "388%",
          "293%",
          "248%",
          "110%",
          "201%",
          "108%",
          "227%",
          "176%",
          "221%",
          "541%"
         ],
         "textfont": {
          "color": "black",
          "size": 20
         },
         "type": "scattergeo"
        }
       ],
       "layout": {
        "annotations": [
         {
          "align": "left",
          "ax": 0,
          "ay": 0,
          "font": {
           "color": "black",
           "size": 25
          },
          "showarrow": false,
          "text": "<b>(a) Grandfathering</b>",
          "x": 0.07,
          "xref": "paper",
          "y": 0.96,
          "yref": "paper"
         },
         {
          "align": "left",
          "ax": 0,
          "ay": 0,
          "font": {
           "color": "black",
           "size": 25
          },
          "showarrow": false,
          "text": "<b>(b) Per Capita</b>",
          "x": 0.47,
          "xref": "paper",
          "y": 0.96,
          "yref": "paper"
         },
         {
          "align": "left",
          "ax": 0,
          "ay": 0,
          "font": {
           "color": "black",
           "size": 25
          },
          "showarrow": false,
          "text": "<b>(c) Per Capita Convergence</b>",
          "x": 0.9,
          "xref": "paper",
          "y": 0.96,
          "yref": "paper"
         },
         {
          "align": "left",
          "ax": 0,
          "ay": 0,
          "font": {
           "color": "black",
           "size": 25
          },
          "showarrow": false,
          "text": "<b>(d) Equal Cumulative per Capita</b>",
          "x": 0.07,
          "xref": "paper",
          "y": 0.45,
          "yref": "paper"
         },
         {
          "align": "left",
          "ax": 0,
          "ay": 0,
          "font": {
           "color": "black",
           "size": 25
          },
          "showarrow": false,
          "text": "<b>(e) Ability to Pay</b>",
          "x": 0.48,
          "xref": "paper",
          "y": 0.45,
          "yref": "paper"
         },
         {
          "align": "left",
          "ax": 0,
          "ay": 0,
          "font": {
           "color": "black",
           "size": 25
          },
          "showarrow": false,
          "text": "<b>(f) Greenhouse Development Rights</b>",
          "x": 0.95,
          "xref": "paper",
          "y": 0.45,
          "yref": "paper"
         }
        ],
        "geo": {
         "domain": {
          "x": [
           0,
           0.3333333333333333
          ],
          "y": [
           0.5,
           1
          ]
         },
         "lakecolor": "rgb(255, 255, 255)",
         "lataxis": {
          "range": [
           30,
           75
          ]
         },
         "lonaxis": {
          "range": [
           -20,
           40
          ]
         },
         "projection": {
          "type": "natural earth"
         },
         "resolution": 50,
         "scope": "europe",
         "showcoastlines": false,
         "showcountries": false,
         "showlakes": true,
         "visible": true
        },
        "geo2": {
         "domain": {
          "x": [
           0.3333333333333333,
           0.6666666666666666
          ],
          "y": [
           0.5,
           1
          ]
         },
         "lakecolor": "rgb(255, 255, 255)",
         "lataxis": {
          "range": [
           30,
           75
          ]
         },
         "lonaxis": {
          "range": [
           -20,
           40
          ]
         },
         "projection": {
          "type": "natural earth"
         },
         "resolution": 50,
         "scope": "europe",
         "showcoastlines": false,
         "showcountries": false,
         "showlakes": true,
         "visible": true
        },
        "geo3": {
         "domain": {
          "x": [
           0.6666666666666666,
           1
          ],
          "y": [
           0.5,
           1
          ]
         },
         "lakecolor": "rgb(255, 255, 255)",
         "lataxis": {
          "range": [
           30,
           75
          ]
         },
         "lonaxis": {
          "range": [
           -20,
           40
          ]
         },
         "projection": {
          "type": "natural earth"
         },
         "resolution": 50,
         "scope": "europe",
         "showcoastlines": false,
         "showcountries": false,
         "showlakes": true,
         "visible": true
        },
        "geo4": {
         "domain": {
          "x": [
           0,
           0.3333333333333333
          ],
          "y": [
           0,
           0.5
          ]
         },
         "lakecolor": "rgb(255, 255, 255)",
         "lataxis": {
          "range": [
           30,
           75
          ]
         },
         "lonaxis": {
          "range": [
           -20,
           40
          ]
         },
         "projection": {
          "type": "natural earth"
         },
         "resolution": 50,
         "scope": "europe",
         "showcoastlines": false,
         "showcountries": false,
         "showlakes": true,
         "visible": true
        },
        "geo5": {
         "domain": {
          "x": [
           0.3333333333333333,
           0.6666666666666666
          ],
          "y": [
           0,
           0.5
          ]
         },
         "lakecolor": "rgb(255, 255, 255)",
         "lataxis": {
          "range": [
           30,
           75
          ]
         },
         "lonaxis": {
          "range": [
           -20,
           40
          ]
         },
         "projection": {
          "type": "natural earth"
         },
         "resolution": 50,
         "scope": "europe",
         "showcoastlines": false,
         "showcountries": false,
         "showlakes": true,
         "visible": true
        },
        "geo6": {
         "domain": {
          "x": [
           0.6666666666666666,
           1
          ],
          "y": [
           0,
           0.5
          ]
         },
         "lakecolor": "rgb(255, 255, 255)",
         "lataxis": {
          "range": [
           30,
           75
          ]
         },
         "lonaxis": {
          "range": [
           -20,
           40
          ]
         },
         "projection": {
          "type": "natural earth"
         },
         "resolution": 50,
         "scope": "europe",
         "showcoastlines": false,
         "showcountries": false,
         "showlakes": true,
         "visible": true
        },
        "height": 1200,
        "margin": {
         "b": 0,
         "l": 0,
         "r": 0,
         "t": 0
        },
        "template": {
         "data": {
          "bar": [
           {
            "error_x": {
             "color": "#2a3f5f"
            },
            "error_y": {
             "color": "#2a3f5f"
            },
            "marker": {
             "line": {
              "color": "#E5ECF6",
              "width": 0.5
             }
            },
            "type": "bar"
           }
          ],
          "barpolar": [
           {
            "marker": {
             "line": {
              "color": "#E5ECF6",
              "width": 0.5
             }
            },
            "type": "barpolar"
           }
          ],
          "carpet": [
           {
            "aaxis": {
             "endlinecolor": "#2a3f5f",
             "gridcolor": "white",
             "linecolor": "white",
             "minorgridcolor": "white",
             "startlinecolor": "#2a3f5f"
            },
            "baxis": {
             "endlinecolor": "#2a3f5f",
             "gridcolor": "white",
             "linecolor": "white",
             "minorgridcolor": "white",
             "startlinecolor": "#2a3f5f"
            },
            "type": "carpet"
           }
          ],
          "choropleth": [
           {
            "colorbar": {
             "outlinewidth": 0,
             "ticks": ""
            },
            "type": "choropleth"
           }
          ],
          "contour": [
           {
            "colorbar": {
             "outlinewidth": 0,
             "ticks": ""
            },
            "colorscale": [
             [
              0,
              "#0d0887"
             ],
             [
              0.1111111111111111,
              "#46039f"
             ],
             [
              0.2222222222222222,
              "#7201a8"
             ],
             [
              0.3333333333333333,
              "#9c179e"
             ],
             [
              0.4444444444444444,
              "#bd3786"
             ],
             [
              0.5555555555555556,
              "#d8576b"
             ],
             [
              0.6666666666666666,
              "#ed7953"
             ],
             [
              0.7777777777777778,
              "#fb9f3a"
             ],
             [
              0.8888888888888888,
              "#fdca26"
             ],
             [
              1,
              "#f0f921"
             ]
            ],
            "type": "contour"
           }
          ],
          "contourcarpet": [
           {
            "colorbar": {
             "outlinewidth": 0,
             "ticks": ""
            },
            "type": "contourcarpet"
           }
          ],
          "heatmap": [
           {
            "colorbar": {
             "outlinewidth": 0,
             "ticks": ""
            },
            "colorscale": [
             [
              0,
              "#0d0887"
             ],
             [
              0.1111111111111111,
              "#46039f"
             ],
             [
              0.2222222222222222,
              "#7201a8"
             ],
             [
              0.3333333333333333,
              "#9c179e"
             ],
             [
              0.4444444444444444,
              "#bd3786"
             ],
             [
              0.5555555555555556,
              "#d8576b"
             ],
             [
              0.6666666666666666,
              "#ed7953"
             ],
             [
              0.7777777777777778,
              "#fb9f3a"
             ],
             [
              0.8888888888888888,
              "#fdca26"
             ],
             [
              1,
              "#f0f921"
             ]
            ],
            "type": "heatmap"
           }
          ],
          "heatmapgl": [
           {
            "colorbar": {
             "outlinewidth": 0,
             "ticks": ""
            },
            "colorscale": [
             [
              0,
              "#0d0887"
             ],
             [
              0.1111111111111111,
              "#46039f"
             ],
             [
              0.2222222222222222,
              "#7201a8"
             ],
             [
              0.3333333333333333,
              "#9c179e"
             ],
             [
              0.4444444444444444,
              "#bd3786"
             ],
             [
              0.5555555555555556,
              "#d8576b"
             ],
             [
              0.6666666666666666,
              "#ed7953"
             ],
             [
              0.7777777777777778,
              "#fb9f3a"
             ],
             [
              0.8888888888888888,
              "#fdca26"
             ],
             [
              1,
              "#f0f921"
             ]
            ],
            "type": "heatmapgl"
           }
          ],
          "histogram": [
           {
            "marker": {
             "colorbar": {
              "outlinewidth": 0,
              "ticks": ""
             }
            },
            "type": "histogram"
           }
          ],
          "histogram2d": [
           {
            "colorbar": {
             "outlinewidth": 0,
             "ticks": ""
            },
            "colorscale": [
             [
              0,
              "#0d0887"
             ],
             [
              0.1111111111111111,
              "#46039f"
             ],
             [
              0.2222222222222222,
              "#7201a8"
             ],
             [
              0.3333333333333333,
              "#9c179e"
             ],
             [
              0.4444444444444444,
              "#bd3786"
             ],
             [
              0.5555555555555556,
              "#d8576b"
             ],
             [
              0.6666666666666666,
              "#ed7953"
             ],
             [
              0.7777777777777778,
              "#fb9f3a"
             ],
             [
              0.8888888888888888,
              "#fdca26"
             ],
             [
              1,
              "#f0f921"
             ]
            ],
            "type": "histogram2d"
           }
          ],
          "histogram2dcontour": [
           {
            "colorbar": {
             "outlinewidth": 0,
             "ticks": ""
            },
            "colorscale": [
             [
              0,
              "#0d0887"
             ],
             [
              0.1111111111111111,
              "#46039f"
             ],
             [
              0.2222222222222222,
              "#7201a8"
             ],
             [
              0.3333333333333333,
              "#9c179e"
             ],
             [
              0.4444444444444444,
              "#bd3786"
             ],
             [
              0.5555555555555556,
              "#d8576b"
             ],
             [
              0.6666666666666666,
              "#ed7953"
             ],
             [
              0.7777777777777778,
              "#fb9f3a"
             ],
             [
              0.8888888888888888,
              "#fdca26"
             ],
             [
              1,
              "#f0f921"
             ]
            ],
            "type": "histogram2dcontour"
           }
          ],
          "mesh3d": [
           {
            "colorbar": {
             "outlinewidth": 0,
             "ticks": ""
            },
            "type": "mesh3d"
           }
          ],
          "parcoords": [
           {
            "line": {
             "colorbar": {
              "outlinewidth": 0,
              "ticks": ""
             }
            },
            "type": "parcoords"
           }
          ],
          "pie": [
           {
            "automargin": true,
            "type": "pie"
           }
          ],
          "scatter": [
           {
            "marker": {
             "colorbar": {
              "outlinewidth": 0,
              "ticks": ""
             }
            },
            "type": "scatter"
           }
          ],
          "scatter3d": [
           {
            "line": {
             "colorbar": {
              "outlinewidth": 0,
              "ticks": ""
             }
            },
            "marker": {
             "colorbar": {
              "outlinewidth": 0,
              "ticks": ""
             }
            },
            "type": "scatter3d"
           }
          ],
          "scattercarpet": [
           {
            "marker": {
             "colorbar": {
              "outlinewidth": 0,
              "ticks": ""
             }
            },
            "type": "scattercarpet"
           }
          ],
          "scattergeo": [
           {
            "marker": {
             "colorbar": {
              "outlinewidth": 0,
              "ticks": ""
             }
            },
            "type": "scattergeo"
           }
          ],
          "scattergl": [
           {
            "marker": {
             "colorbar": {
              "outlinewidth": 0,
              "ticks": ""
             }
            },
            "type": "scattergl"
           }
          ],
          "scattermapbox": [
           {
            "marker": {
             "colorbar": {
              "outlinewidth": 0,
              "ticks": ""
             }
            },
            "type": "scattermapbox"
           }
          ],
          "scatterpolar": [
           {
            "marker": {
             "colorbar": {
              "outlinewidth": 0,
              "ticks": ""
             }
            },
            "type": "scatterpolar"
           }
          ],
          "scatterpolargl": [
           {
            "marker": {
             "colorbar": {
              "outlinewidth": 0,
              "ticks": ""
             }
            },
            "type": "scatterpolargl"
           }
          ],
          "scatterternary": [
           {
            "marker": {
             "colorbar": {
              "outlinewidth": 0,
              "ticks": ""
             }
            },
            "type": "scatterternary"
           }
          ],
          "surface": [
           {
            "colorbar": {
             "outlinewidth": 0,
             "ticks": ""
            },
            "colorscale": [
             [
              0,
              "#0d0887"
             ],
             [
              0.1111111111111111,
              "#46039f"
             ],
             [
              0.2222222222222222,
              "#7201a8"
             ],
             [
              0.3333333333333333,
              "#9c179e"
             ],
             [
              0.4444444444444444,
              "#bd3786"
             ],
             [
              0.5555555555555556,
              "#d8576b"
             ],
             [
              0.6666666666666666,
              "#ed7953"
             ],
             [
              0.7777777777777778,
              "#fb9f3a"
             ],
             [
              0.8888888888888888,
              "#fdca26"
             ],
             [
              1,
              "#f0f921"
             ]
            ],
            "type": "surface"
           }
          ],
          "table": [
           {
            "cells": {
             "fill": {
              "color": "#EBF0F8"
             },
             "line": {
              "color": "white"
             }
            },
            "header": {
             "fill": {
              "color": "#C8D4E3"
             },
             "line": {
              "color": "white"
             }
            },
            "type": "table"
           }
          ]
         },
         "layout": {
          "annotationdefaults": {
           "arrowcolor": "#2a3f5f",
           "arrowhead": 0,
           "arrowwidth": 1
          },
          "coloraxis": {
           "colorbar": {
            "outlinewidth": 0,
            "ticks": ""
           }
          },
          "colorscale": {
           "diverging": [
            [
             0,
             "#8e0152"
            ],
            [
             0.1,
             "#c51b7d"
            ],
            [
             0.2,
             "#de77ae"
            ],
            [
             0.3,
             "#f1b6da"
            ],
            [
             0.4,
             "#fde0ef"
            ],
            [
             0.5,
             "#f7f7f7"
            ],
            [
             0.6,
             "#e6f5d0"
            ],
            [
             0.7,
             "#b8e186"
            ],
            [
             0.8,
             "#7fbc41"
            ],
            [
             0.9,
             "#4d9221"
            ],
            [
             1,
             "#276419"
            ]
           ],
           "sequential": [
            [
             0,
             "#0d0887"
            ],
            [
             0.1111111111111111,
             "#46039f"
            ],
            [
             0.2222222222222222,
             "#7201a8"
            ],
            [
             0.3333333333333333,
             "#9c179e"
            ],
            [
             0.4444444444444444,
             "#bd3786"
            ],
            [
             0.5555555555555556,
             "#d8576b"
            ],
            [
             0.6666666666666666,
             "#ed7953"
            ],
            [
             0.7777777777777778,
             "#fb9f3a"
            ],
            [
             0.8888888888888888,
             "#fdca26"
            ],
            [
             1,
             "#f0f921"
            ]
           ],
           "sequentialminus": [
            [
             0,
             "#0d0887"
            ],
            [
             0.1111111111111111,
             "#46039f"
            ],
            [
             0.2222222222222222,
             "#7201a8"
            ],
            [
             0.3333333333333333,
             "#9c179e"
            ],
            [
             0.4444444444444444,
             "#bd3786"
            ],
            [
             0.5555555555555556,
             "#d8576b"
            ],
            [
             0.6666666666666666,
             "#ed7953"
            ],
            [
             0.7777777777777778,
             "#fb9f3a"
            ],
            [
             0.8888888888888888,
             "#fdca26"
            ],
            [
             1,
             "#f0f921"
            ]
           ]
          },
          "colorway": [
           "#636efa",
           "#EF553B",
           "#00cc96",
           "#ab63fa",
           "#FFA15A",
           "#19d3f3",
           "#FF6692",
           "#B6E880",
           "#FF97FF",
           "#FECB52"
          ],
          "font": {
           "color": "#2a3f5f"
          },
          "geo": {
           "bgcolor": "white",
           "lakecolor": "white",
           "landcolor": "#E5ECF6",
           "showlakes": true,
           "showland": true,
           "subunitcolor": "white"
          },
          "hoverlabel": {
           "align": "left"
          },
          "hovermode": "closest",
          "mapbox": {
           "style": "light"
          },
          "paper_bgcolor": "white",
          "plot_bgcolor": "#E5ECF6",
          "polar": {
           "angularaxis": {
            "gridcolor": "white",
            "linecolor": "white",
            "ticks": ""
           },
           "bgcolor": "#E5ECF6",
           "radialaxis": {
            "gridcolor": "white",
            "linecolor": "white",
            "ticks": ""
           }
          },
          "scene": {
           "xaxis": {
            "backgroundcolor": "#E5ECF6",
            "gridcolor": "white",
            "gridwidth": 2,
            "linecolor": "white",
            "showbackground": true,
            "ticks": "",
            "zerolinecolor": "white"
           },
           "yaxis": {
            "backgroundcolor": "#E5ECF6",
            "gridcolor": "white",
            "gridwidth": 2,
            "linecolor": "white",
            "showbackground": true,
            "ticks": "",
            "zerolinecolor": "white"
           },
           "zaxis": {
            "backgroundcolor": "#E5ECF6",
            "gridcolor": "white",
            "gridwidth": 2,
            "linecolor": "white",
            "showbackground": true,
            "ticks": "",
            "zerolinecolor": "white"
           }
          },
          "shapedefaults": {
           "line": {
            "color": "#2a3f5f"
           }
          },
          "ternary": {
           "aaxis": {
            "gridcolor": "white",
            "linecolor": "white",
            "ticks": ""
           },
           "baxis": {
            "gridcolor": "white",
            "linecolor": "white",
            "ticks": ""
           },
           "bgcolor": "#E5ECF6",
           "caxis": {
            "gridcolor": "white",
            "linecolor": "white",
            "ticks": ""
           }
          },
          "title": {
           "x": 0.05
          },
          "xaxis": {
           "automargin": true,
           "gridcolor": "white",
           "linecolor": "white",
           "ticks": "",
           "title": {
            "standoff": 15
           },
           "zerolinecolor": "white",
           "zerolinewidth": 2
          },
          "yaxis": {
           "automargin": true,
           "gridcolor": "white",
           "linecolor": "white",
           "ticks": "",
           "title": {
            "standoff": 15
           },
           "zerolinecolor": "white",
           "zerolinewidth": 2
          }
         }
        },
        "width": 2300
       }
      }
     },
     "metadata": {},
     "output_type": "display_data"
    }
   ],
   "source": [
    "fig = make_subplots(rows=2, cols=3, #subplot_titles=('Grandfathering (GF)',\n",
    "                                                    # 'Per Capita (PC)',\n",
    "                                                    # 'Per Capita Convergence (PCC)',\n",
    "                                                    # 'Equal Cumulative Per Capita',\n",
    "                                                    # 'Ability to pay (AP)',\n",
    "                                                    # 'Greenhouse Development Rights'), \n",
    "                                    specs=[[{'type': 'choropleth'}, {'type': 'choropleth'}, {'type': 'choropleth'}],\n",
    "                                           [{'type': 'choropleth'}, {'type': 'choropleth'}, {'type': 'choropleth'}]],\n",
    "                                    horizontal_spacing = 0,\n",
    "                                    vertical_spacing=0)\n",
    "\n",
    "colorbar_abs = dict(len=1, x=1, tickvals = [0, 1, 2, 3], ticktext = ['1', '10', '100', '1000'])\n",
    "colorbar_pc = dict(len=1, x=1)\n",
    "\n",
    "for var_i, var in enumerate(rules):\n",
    "    if var_i == 0:\n",
    "        cm= True\n",
    "    else:\n",
    "        cm= False\n",
    "    fig.add_trace(\n",
    "        go.Choropleth(\n",
    "        locations=group_eu,\n",
    "        z = data5[var],\n",
    "        locationmode = 'ISO-3',\n",
    "        colorscale = 'RdYlBu_r',\n",
    "        zmax = 1,\n",
    "        zmin = 0,\n",
    "        text = [str(r)+\": {:0.2f} Gt CO<sub>2</sub>e\".format(float(data5.sel(Region=r)[var])) for r_i, r in enumerate(group_eu)],\n",
    "        hovertemplate  = '%{text}',\n",
    "        name=\"\",\n",
    "        marker_line_color='grey', \n",
    "        marker_line_width=0.7,\n",
    "        colorbar=dict(len=1, x=1, tickvals = np.arange(0, 1, 0.1), ticktext = [str(int(i*100))+\"%\" for i in np.arange(0, 1, 0.1)], title={\"text\":\"Emission<br>reduction<br>in 2040<br>w.r.t. 2021\"}, tickfont={'size': 25}),\n",
    "        showscale=cm\n",
    "    ), [1, 1, 1, 2, 2, 2][var_i], [1, 2, 3, 1, 2, 3][var_i])\n",
    "# fig.update_geos(showocean=True, oceancolor=\"white\")\n",
    "# fig.update_geos(showlakes=True, lakecolor=\"white\")\n",
    "\n",
    "# limite map scope to USA 'africa', 'asia', 'europe', 'north america', 'south america', 'usa', 'world'\n",
    "fig.update_layout(\n",
    "    geo1 = dict(scope='europe', \n",
    "                showlakes=False,\n",
    "                lakecolor='rgb(255, 255, 255)',\n",
    "                showcoastlines=False,),\n",
    "    geo2 = dict(scope='europe', \n",
    "                showlakes=False,\n",
    "                lakecolor='rgb(255, 255, 255)',\n",
    "                showcoastlines=False,),\n",
    "    geo3 = dict(scope='europe', \n",
    "                showlakes=False,\n",
    "                lakecolor='rgb(255, 255, 255)',\n",
    "                showcoastlines=False,),\n",
    "    geo4 = dict(scope='europe', \n",
    "                showlakes=False,\n",
    "                lakecolor='rgb(255, 255, 255)',\n",
    "                showcoastlines=False,),\n",
    "    geo5 = dict(scope='europe', \n",
    "                showlakes=False,\n",
    "                lakecolor='rgb(255, 255, 255)',\n",
    "                showcoastlines=False,),\n",
    "    geo6 = dict(scope='europe', \n",
    "                showlakes=False,\n",
    "                showcoastlines=False,),\n",
    ")\n",
    "\n",
    "mn = np.min(np.array([float(data5[rules].min()[r]) for r in rules]))\n",
    "mx = np.max(np.array([float(data5[rules].max()[r]) for r in rules]))\n",
    "for var_i, var in enumerate(rules):\n",
    "    vals = np.array(data5[var]).astype(float)\n",
    "    vals_i = (vals + mn)**1.2\n",
    "    vals_n = 14*(vals - mn)/(mx - mn)+7\n",
    "    vals_boolean = np.copy(vals)\n",
    "    vals_boolean[vals >= 0] = 1\n",
    "    vals_boolean[vals < 0] = 0\n",
    "    vals_boolean = vals_boolean.astype(int)\n",
    "    vals[np.isnan(vals)] = np.nanmean(vals)\n",
    "    \n",
    "    fig.add_scattergeo(\n",
    "                locations = group_eu,\n",
    "                text = [str(np.int(vals[r_i]*100))+\"%\" for r_i in range(len(group_eu))],\n",
    "                featureidkey=\"properties.NAME_3\",\n",
    "                mode = 'text',\n",
    "                hoverinfo='skip',\n",
    "                showlegend=False,\n",
    "                textfont={'size': 20,\n",
    "                        'color': 'black'},\n",
    "                row=[1, 1, 1, 2, 2, 2][var_i],\n",
    "                col=[1, 2, 3, 1, 2, 3][var_i])\n",
    "\n",
    "fig.update_geos(visible=False,\n",
    "                showlakes=True,\n",
    "                lakecolor='rgb(255, 255, 255)',\n",
    "                projection_type='natural earth',\n",
    "                resolution=50,\n",
    "                lataxis_range=[30,75], lonaxis_range=[-20, 40],\n",
    "                showcoastlines=False,)\n",
    "\n",
    "#fig.update_traces(showscale=False)\n",
    "fig.update_layout(height=1200, width=2300)\n",
    "fig.update_geos(visible=True, showcountries=False)#fitbounds=\"locations\",\n",
    "fig.update_layout(margin={\"r\":0,\"t\":0,\"l\":0,\"b\":0})\n",
    "\n",
    "fig.add_annotation(xref='paper', yref='paper',ax=0, align='left', ay=-0, showarrow=False, font=dict(color='black', size=25),\n",
    "                   y=0.96, x=0.07, text=\"<b>(a) Grandfathering</b>\")\n",
    "fig.add_annotation(xref='paper', yref='paper',ax=0, align='left', ay=-0, showarrow=False, font=dict(color='black', size=25),\n",
    "                   y=0.96, x=0.47, text=\"<b>(b) Per Capita</b>\")\n",
    "fig.add_annotation(xref='paper', yref='paper',ax=0, align='left', ay=-0, showarrow=False, font=dict(color='black', size=25),\n",
    "                   y=0.96, x=0.90, text=\"<b>(c) Per Capita Convergence</b>\")\n",
    "fig.add_annotation(xref='paper', yref='paper',ax=0, align='left', ay=-0, showarrow=False, font=dict(color='black', size=25),\n",
    "                   y=0.45, x=0.07, text=\"<b>(d) Equal Cumulative per Capita</b>\")\n",
    "fig.add_annotation(xref='paper', yref='paper',ax=0, align='left', ay=-0, showarrow=False, font=dict(color='black', size=25),\n",
    "                   y=0.45, x=0.48, text=\"<b>(e) Ability to Pay</b>\")\n",
    "fig.add_annotation(xref='paper', yref='paper',ax=0, align='left', ay=-0, showarrow=False, font=dict(color='black', size=25),\n",
    "                   y=0.45, x=0.95, text=\"<b>(f) Greenhouse Development Rights</b>\")\n",
    "fig_europe = fig\n",
    "fig.show()"
   ]
  },
  {
   "cell_type": "code",
   "execution_count": 22,
   "metadata": {},
   "outputs": [],
   "source": [
    "fig.write_image(\"X:/user/dekkerm/Projects/ECEMF_T5.2/Figures/Presentations/Europe_2040perc.png\", scale=3)"
   ]
  },
  {
   "cell_type": "code",
   "execution_count": 23,
   "metadata": {},
   "outputs": [],
   "source": [
    "data5= xr_temps.sel(**standard_settings, Risk=0.5, Region=group_eu).mean(dim=['Conditionality', 'Hot_air', 'Ambition', 'Scenario'])"
   ]
  },
  {
   "cell_type": "code",
   "execution_count": 24,
   "metadata": {},
   "outputs": [
    {
     "data": {
      "application/vnd.plotly.v1+json": {
       "config": {
        "plotlyServerURL": "https://plotly.com"
       },
       "data": [
        {
         "colorbar": {
          "len": 1,
          "tickfont": {
           "size": 25
          },
          "ticktext": [
           "1.5&deg;C",
           "1.6&deg;C",
           "1.7&deg;C",
           "1.8&deg;C",
           "1.9&deg;C",
           "2.0&deg;C",
           "2.1&deg;C",
           "2.2&deg;C",
           "2.3&deg;C",
           "2.4&deg;C"
          ],
          "tickvals": [
           1.5,
           1.6,
           1.7000000000000002,
           1.8000000000000003,
           1.9000000000000004,
           2.0000000000000004,
           2.1000000000000005,
           2.2000000000000006,
           2.3000000000000007,
           2.400000000000001
          ],
          "title": {
           "text": "Temp-equiv<br>of NDC"
          },
          "x": 1
         },
         "colorscale": [
          [
           0,
           "rgb(0,104,55)"
          ],
          [
           0.1,
           "rgb(26,152,80)"
          ],
          [
           0.2,
           "rgb(102,189,99)"
          ],
          [
           0.3,
           "rgb(166,217,106)"
          ],
          [
           0.4,
           "rgb(217,239,139)"
          ],
          [
           0.5,
           "rgb(255,255,191)"
          ],
          [
           0.6,
           "rgb(254,224,139)"
          ],
          [
           0.7,
           "rgb(253,174,97)"
          ],
          [
           0.8,
           "rgb(244,109,67)"
          ],
          [
           0.9,
           "rgb(215,48,39)"
          ],
          [
           1,
           "rgb(165,0,38)"
          ]
         ],
         "geo": "geo",
         "hovertemplate": "%{text}",
         "locationmode": "ISO-3",
         "locations": [
          "AUT",
          "BEL",
          "BGR",
          "HRV",
          "CYP",
          "CZE",
          "DNK",
          "EST",
          "FIN",
          "FRA",
          "DEU",
          "GRC",
          "HUN",
          "IRL",
          "ITA",
          "LVA",
          "LTU",
          "LUX",
          "MLT",
          "NLD",
          "POL",
          "PRT",
          "ROU",
          "SVK",
          "SVN",
          "ESP",
          "SWE"
         ],
         "marker": {
          "line": {
           "color": "grey",
           "width": 0.7
          }
         },
         "name": "",
         "showscale": true,
         "text": [
          "AUT: 1.58 deg C",
          "BEL: 1.48 deg C",
          "BGR: 4.48 deg C",
          "HRV: 3.17 deg C",
          "CYP: 1.49 deg C",
          "CZE: 1.64 deg C",
          "DNK: 1.65 deg C",
          "EST: 1.39 deg C",
          "FIN: 1.53 deg C",
          "FRA: 1.87 deg C",
          "DEU: 1.50 deg C",
          "GRC: 2.12 deg C",
          "HUN: 1.66 deg C",
          "IRL: 1.59 deg C",
          "ITA: 1.76 deg C",
          "LVA: 4.04 deg C",
          "LTU: 1.56 deg C",
          "LUX: 1.68 deg C",
          "MLT: 1.48 deg C",
          "NLD: 1.49 deg C",
          "POL: 1.53 deg C",
          "PRT: 2.70 deg C",
          "ROU: 2.79 deg C",
          "SVK: 1.52 deg C",
          "SVN: 1.77 deg C",
          "ESP: 1.82 deg C",
          "SWE: 2.83 deg C"
         ],
         "type": "choropleth",
         "z": [
          1.577551500068065,
          1.4834095488923789,
          4.476241104043247,
          3.1713092566505985,
          1.49344591908773,
          1.6354255449214354,
          1.6546237358390423,
          1.3939945980179596,
          1.5300494334354686,
          1.8681379377539369,
          1.5038933447578453,
          2.1229590428617477,
          1.6555202791871781,
          1.5858899648175033,
          1.755670037029553,
          4.037357872732038,
          1.5611440940775487,
          1.6844974384228273,
          1.4808303648691477,
          1.4878239219065446,
          1.5342748923251108,
          2.697730077841509,
          2.7943992176915806,
          1.524276879445505,
          1.7653806864519062,
          1.815575159767807,
          2.8318125122817186
         ],
         "zmax": 2.5,
         "zmin": 1.5
        },
        {
         "colorbar": {
          "len": 1,
          "tickfont": {
           "size": 25
          },
          "ticktext": [
           "1.5&deg;C",
           "1.6&deg;C",
           "1.7&deg;C",
           "1.8&deg;C",
           "1.9&deg;C",
           "2.0&deg;C",
           "2.1&deg;C",
           "2.2&deg;C",
           "2.3&deg;C",
           "2.4&deg;C"
          ],
          "tickvals": [
           1.5,
           1.6,
           1.7000000000000002,
           1.8000000000000003,
           1.9000000000000004,
           2.0000000000000004,
           2.1000000000000005,
           2.2000000000000006,
           2.3000000000000007,
           2.400000000000001
          ],
          "title": {
           "text": "Temp-equiv<br>of NDC"
          },
          "x": 1
         },
         "colorscale": [
          [
           0,
           "rgb(0,104,55)"
          ],
          [
           0.1,
           "rgb(26,152,80)"
          ],
          [
           0.2,
           "rgb(102,189,99)"
          ],
          [
           0.3,
           "rgb(166,217,106)"
          ],
          [
           0.4,
           "rgb(217,239,139)"
          ],
          [
           0.5,
           "rgb(255,255,191)"
          ],
          [
           0.6,
           "rgb(254,224,139)"
          ],
          [
           0.7,
           "rgb(253,174,97)"
          ],
          [
           0.8,
           "rgb(244,109,67)"
          ],
          [
           0.9,
           "rgb(215,48,39)"
          ],
          [
           1,
           "rgb(165,0,38)"
          ]
         ],
         "geo": "geo2",
         "hovertemplate": "%{text}",
         "locationmode": "ISO-3",
         "locations": [
          "AUT",
          "BEL",
          "BGR",
          "HRV",
          "CYP",
          "CZE",
          "DNK",
          "EST",
          "FIN",
          "FRA",
          "DEU",
          "GRC",
          "HUN",
          "IRL",
          "ITA",
          "LVA",
          "LTU",
          "LUX",
          "MLT",
          "NLD",
          "POL",
          "PRT",
          "ROU",
          "SVK",
          "SVN",
          "ESP",
          "SWE"
         ],
         "marker": {
          "line": {
           "color": "grey",
           "width": 0.7
          }
         },
         "name": "",
         "showscale": false,
         "text": [
          "AUT: 1.79 deg C",
          "BEL: 2.20 deg C",
          "BGR: 1.61 deg C",
          "HRV: 1.66 deg C",
          "CYP: 1.45 deg C",
          "CZE: 2.77 deg C",
          "DNK: 1.82 deg C",
          "EST: 3.11 deg C",
          "FIN: 3.82 deg C",
          "FRA: 1.52 deg C",
          "DEU: 1.74 deg C",
          "GRC: 1.95 deg C",
          "HUN: 1.75 deg C",
          "IRL: 3.86 deg C",
          "ITA: 1.59 deg C",
          "LVA: 1.71 deg C",
          "LTU: 1.81 deg C",
          "LUX: 4.48 deg C",
          "MLT: 1.43 deg C",
          "NLD: 2.28 deg C",
          "POL: 2.24 deg C",
          "PRT: 1.63 deg C",
          "ROU: 1.55 deg C",
          "SVK: 1.62 deg C",
          "SVN: 2.31 deg C",
          "ESP: 1.61 deg C",
          "SWE: 1.56 deg C"
         ],
         "type": "choropleth",
         "z": [
          1.7938634148234451,
          2.202378363595828,
          1.6114799886212576,
          1.657054605580744,
          1.4488604174188662,
          2.7697964996854774,
          1.820332220045973,
          3.112922819103352,
          3.8165237584217446,
          1.5200141722271459,
          1.7375979545535292,
          1.9497182164117464,
          1.7522887296491183,
          3.8640707747783525,
          1.589165101213081,
          1.7074200367269445,
          1.811351647749018,
          4.476241104043248,
          1.4269702889512668,
          2.2780021635877348,
          2.238558278896726,
          1.6322638125191997,
          1.5470083938550554,
          1.615301004718113,
          2.3140620772851146,
          1.6117750296553877,
          1.5571646449727512
         ],
         "zmax": 2.5,
         "zmin": 1.5
        },
        {
         "colorbar": {
          "len": 1,
          "tickfont": {
           "size": 25
          },
          "ticktext": [
           "1.5&deg;C",
           "1.6&deg;C",
           "1.7&deg;C",
           "1.8&deg;C",
           "1.9&deg;C",
           "2.0&deg;C",
           "2.1&deg;C",
           "2.2&deg;C",
           "2.3&deg;C",
           "2.4&deg;C"
          ],
          "tickvals": [
           1.5,
           1.6,
           1.7000000000000002,
           1.8000000000000003,
           1.9000000000000004,
           2.0000000000000004,
           2.1000000000000005,
           2.2000000000000006,
           2.3000000000000007,
           2.400000000000001
          ],
          "title": {
           "text": "Temp-equiv<br>of NDC"
          },
          "x": 1
         },
         "colorscale": [
          [
           0,
           "rgb(0,104,55)"
          ],
          [
           0.1,
           "rgb(26,152,80)"
          ],
          [
           0.2,
           "rgb(102,189,99)"
          ],
          [
           0.3,
           "rgb(166,217,106)"
          ],
          [
           0.4,
           "rgb(217,239,139)"
          ],
          [
           0.5,
           "rgb(255,255,191)"
          ],
          [
           0.6,
           "rgb(254,224,139)"
          ],
          [
           0.7,
           "rgb(253,174,97)"
          ],
          [
           0.8,
           "rgb(244,109,67)"
          ],
          [
           0.9,
           "rgb(215,48,39)"
          ],
          [
           1,
           "rgb(165,0,38)"
          ]
         ],
         "geo": "geo3",
         "hovertemplate": "%{text}",
         "locationmode": "ISO-3",
         "locations": [
          "AUT",
          "BEL",
          "BGR",
          "HRV",
          "CYP",
          "CZE",
          "DNK",
          "EST",
          "FIN",
          "FRA",
          "DEU",
          "GRC",
          "HUN",
          "IRL",
          "ITA",
          "LVA",
          "LTU",
          "LUX",
          "MLT",
          "NLD",
          "POL",
          "PRT",
          "ROU",
          "SVK",
          "SVN",
          "ESP",
          "SWE"
         ],
         "marker": {
          "line": {
           "color": "grey",
           "width": 0.7
          }
         },
         "name": "",
         "showscale": false,
         "text": [
          "AUT: 1.62 deg C",
          "BEL: 1.54 deg C",
          "BGR: 3.32 deg C",
          "HRV: 2.34 deg C",
          "CYP: 1.48 deg C",
          "CZE: 1.78 deg C",
          "DNK: 1.69 deg C",
          "EST: 1.45 deg C",
          "FIN: 1.67 deg C",
          "FRA: 1.68 deg C",
          "DEU: 1.54 deg C",
          "GRC: 2.06 deg C",
          "HUN: 1.68 deg C",
          "IRL: 1.77 deg C",
          "ITA: 1.69 deg C",
          "LVA: 2.78 deg C",
          "LTU: 1.61 deg C",
          "LUX: 2.16 deg C",
          "MLT: 1.46 deg C",
          "NLD: 1.55 deg C",
          "POL: 1.61 deg C",
          "PRT: 2.13 deg C",
          "ROU: 2.02 deg C",
          "SVK: 1.54 deg C",
          "SVN: 1.88 deg C",
          "ESP: 1.73 deg C",
          "SWE: 2.05 deg C"
         ],
         "type": "choropleth",
         "z": [
          1.6211391430797386,
          1.5373239283371065,
          3.3155128094818704,
          2.3426171076460767,
          1.4773314186468596,
          1.7829940272587903,
          1.6944401414045898,
          1.4544594711000416,
          1.6651723156025569,
          1.6817546437749626,
          1.5395008527679506,
          2.0625175295352256,
          1.6808162899116803,
          1.7735211559609039,
          1.6870521730268782,
          2.7841796052882075,
          1.607704898132157,
          2.1629999596920184,
          1.4620912245814912,
          1.5459192341580181,
          1.6106100797690044,
          2.1258473283996846,
          2.021649046246329,
          1.5446990537829133,
          1.87831447170485,
          1.730894290363344,
          2.0516113973256473
         ],
         "zmax": 2.5,
         "zmin": 1.5
        },
        {
         "colorbar": {
          "len": 1,
          "tickfont": {
           "size": 25
          },
          "ticktext": [
           "1.5&deg;C",
           "1.6&deg;C",
           "1.7&deg;C",
           "1.8&deg;C",
           "1.9&deg;C",
           "2.0&deg;C",
           "2.1&deg;C",
           "2.2&deg;C",
           "2.3&deg;C",
           "2.4&deg;C"
          ],
          "tickvals": [
           1.5,
           1.6,
           1.7000000000000002,
           1.8000000000000003,
           1.9000000000000004,
           2.0000000000000004,
           2.1000000000000005,
           2.2000000000000006,
           2.3000000000000007,
           2.400000000000001
          ],
          "title": {
           "text": "Temp-equiv<br>of NDC"
          },
          "x": 1
         },
         "colorscale": [
          [
           0,
           "rgb(0,104,55)"
          ],
          [
           0.1,
           "rgb(26,152,80)"
          ],
          [
           0.2,
           "rgb(102,189,99)"
          ],
          [
           0.3,
           "rgb(166,217,106)"
          ],
          [
           0.4,
           "rgb(217,239,139)"
          ],
          [
           0.5,
           "rgb(255,255,191)"
          ],
          [
           0.6,
           "rgb(254,224,139)"
          ],
          [
           0.7,
           "rgb(253,174,97)"
          ],
          [
           0.8,
           "rgb(244,109,67)"
          ],
          [
           0.9,
           "rgb(215,48,39)"
          ],
          [
           1,
           "rgb(165,0,38)"
          ]
         ],
         "geo": "geo4",
         "hovertemplate": "%{text}",
         "locationmode": "ISO-3",
         "locations": [
          "AUT",
          "BEL",
          "BGR",
          "HRV",
          "CYP",
          "CZE",
          "DNK",
          "EST",
          "FIN",
          "FRA",
          "DEU",
          "GRC",
          "HUN",
          "IRL",
          "ITA",
          "LVA",
          "LTU",
          "LUX",
          "MLT",
          "NLD",
          "POL",
          "PRT",
          "ROU",
          "SVK",
          "SVN",
          "ESP",
          "SWE"
         ],
         "marker": {
          "line": {
           "color": "grey",
           "width": 0.7
          }
         },
         "name": "",
         "showscale": false,
         "text": [
          "AUT: 2.08 deg C",
          "BEL: 1.73 deg C",
          "BGR: 4.48 deg C",
          "HRV: 4.48 deg C",
          "CYP: 1.60 deg C",
          "CZE: 2.70 deg C",
          "DNK: 2.77 deg C",
          "EST: 1.50 deg C",
          "FIN: 1.88 deg C",
          "FRA: 2.69 deg C",
          "DEU: 1.92 deg C",
          "GRC: 4.03 deg C",
          "HUN: 2.41 deg C",
          "IRL: 2.28 deg C",
          "ITA: 2.72 deg C",
          "LVA: 4.29 deg C",
          "LTU: 2.04 deg C",
          "LUX: 2.93 deg C",
          "MLT: 1.59 deg C",
          "NLD: 1.80 deg C",
          "POL: 2.00 deg C",
          "PRT: 4.24 deg C",
          "ROU: 3.95 deg C",
          "SVK: 1.80 deg C",
          "SVN: 2.41 deg C",
          "ESP: 2.66 deg C",
          "SWE: 4.05 deg C"
         ],
         "type": "choropleth",
         "z": [
          2.0751612992000887,
          1.7255522172140616,
          4.476241104043248,
          4.476241104043248,
          1.5988108856940706,
          2.700111596608638,
          2.7725048756200015,
          1.4952202406480521,
          1.8811603222661433,
          2.693854659979736,
          1.9201751952938693,
          4.032884441894645,
          2.406273597414412,
          2.27726369039655,
          2.721151578285446,
          4.289223626349182,
          2.0380217230575903,
          2.9347495056361614,
          1.588107096067979,
          1.802965422523457,
          1.9990305102620787,
          4.238142135059372,
          3.9464784308888383,
          1.798913199788473,
          2.4105746504830963,
          2.656243434641642,
          4.046314402103399
         ],
         "zmax": 2.5,
         "zmin": 1.5
        },
        {
         "colorbar": {
          "len": 1,
          "tickfont": {
           "size": 25
          },
          "ticktext": [
           "1.5&deg;C",
           "1.6&deg;C",
           "1.7&deg;C",
           "1.8&deg;C",
           "1.9&deg;C",
           "2.0&deg;C",
           "2.1&deg;C",
           "2.2&deg;C",
           "2.3&deg;C",
           "2.4&deg;C"
          ],
          "tickvals": [
           1.5,
           1.6,
           1.7000000000000002,
           1.8000000000000003,
           1.9000000000000004,
           2.0000000000000004,
           2.1000000000000005,
           2.2000000000000006,
           2.3000000000000007,
           2.400000000000001
          ],
          "title": {
           "text": "Temp-equiv<br>of NDC"
          },
          "x": 1
         },
         "colorscale": [
          [
           0,
           "rgb(0,104,55)"
          ],
          [
           0.1,
           "rgb(26,152,80)"
          ],
          [
           0.2,
           "rgb(102,189,99)"
          ],
          [
           0.3,
           "rgb(166,217,106)"
          ],
          [
           0.4,
           "rgb(217,239,139)"
          ],
          [
           0.5,
           "rgb(255,255,191)"
          ],
          [
           0.6,
           "rgb(254,224,139)"
          ],
          [
           0.7,
           "rgb(253,174,97)"
          ],
          [
           0.8,
           "rgb(244,109,67)"
          ],
          [
           0.9,
           "rgb(215,48,39)"
          ],
          [
           1,
           "rgb(165,0,38)"
          ]
         ],
         "geo": "geo5",
         "hovertemplate": "%{text}",
         "locationmode": "ISO-3",
         "locations": [
          "AUT",
          "BEL",
          "BGR",
          "HRV",
          "CYP",
          "CZE",
          "DNK",
          "EST",
          "FIN",
          "FRA",
          "DEU",
          "GRC",
          "HUN",
          "IRL",
          "ITA",
          "LVA",
          "LTU",
          "LUX",
          "MLT",
          "NLD",
          "POL",
          "PRT",
          "ROU",
          "SVK",
          "SVN",
          "ESP",
          "SWE"
         ],
         "marker": {
          "line": {
           "color": "grey",
           "width": 0.7
          }
         },
         "name": "",
         "showscale": false,
         "text": [
          "AUT: 2.15 deg C",
          "BEL: 1.65 deg C",
          "BGR: 4.48 deg C",
          "HRV: 3.99 deg C",
          "CYP: 1.64 deg C",
          "CZE: 2.30 deg C",
          "DNK: 2.32 deg C",
          "EST: 1.46 deg C",
          "FIN: 1.86 deg C",
          "FRA: 2.86 deg C",
          "DEU: 1.84 deg C",
          "GRC: 3.45 deg C",
          "HUN: 1.83 deg C",
          "IRL: 2.11 deg C",
          "ITA: 2.38 deg C",
          "LVA: 4.47 deg C",
          "LTU: 1.70 deg C",
          "LUX: 3.50 deg C",
          "MLT: 1.83 deg C",
          "NLD: 1.73 deg C",
          "POL: 1.75 deg C",
          "PRT: 4.11 deg C",
          "ROU: 3.37 deg C",
          "SVK: nan deg C",
          "SVN: 2.57 deg C",
          "ESP: 2.59 deg C",
          "SWE: 4.48 deg C"
         ],
         "type": "choropleth",
         "z": [
          2.147474892174602,
          1.654583428713959,
          4.476241104043248,
          3.9907973074321252,
          1.6387486723204163,
          2.2951974252325704,
          2.3193168611620303,
          1.4552546757740266,
          1.8620832929539257,
          2.8606454040000515,
          1.8415349707641477,
          3.4519642656321565,
          1.8288229468284554,
          2.106493207823367,
          2.375295473547929,
          4.470126468142194,
          1.6979718683528808,
          3.4989944209733523,
          1.8332030386513267,
          1.7258997917321701,
          1.7462775246305668,
          4.10856398434713,
          3.3652898568194134,
          null,
          2.5672235984589102,
          2.594300585053179,
          4.476241104043248
         ],
         "zmax": 2.5,
         "zmin": 1.5
        },
        {
         "colorbar": {
          "len": 1,
          "tickfont": {
           "size": 25
          },
          "ticktext": [
           "1.5&deg;C",
           "1.6&deg;C",
           "1.7&deg;C",
           "1.8&deg;C",
           "1.9&deg;C",
           "2.0&deg;C",
           "2.1&deg;C",
           "2.2&deg;C",
           "2.3&deg;C",
           "2.4&deg;C"
          ],
          "tickvals": [
           1.5,
           1.6,
           1.7000000000000002,
           1.8000000000000003,
           1.9000000000000004,
           2.0000000000000004,
           2.1000000000000005,
           2.2000000000000006,
           2.3000000000000007,
           2.400000000000001
          ],
          "title": {
           "text": "Temp-equiv<br>of NDC"
          },
          "x": 1
         },
         "colorscale": [
          [
           0,
           "rgb(0,104,55)"
          ],
          [
           0.1,
           "rgb(26,152,80)"
          ],
          [
           0.2,
           "rgb(102,189,99)"
          ],
          [
           0.3,
           "rgb(166,217,106)"
          ],
          [
           0.4,
           "rgb(217,239,139)"
          ],
          [
           0.5,
           "rgb(255,255,191)"
          ],
          [
           0.6,
           "rgb(254,224,139)"
          ],
          [
           0.7,
           "rgb(253,174,97)"
          ],
          [
           0.8,
           "rgb(244,109,67)"
          ],
          [
           0.9,
           "rgb(215,48,39)"
          ],
          [
           1,
           "rgb(165,0,38)"
          ]
         ],
         "geo": "geo6",
         "hovertemplate": "%{text}",
         "locationmode": "ISO-3",
         "locations": [
          "AUT",
          "BEL",
          "BGR",
          "HRV",
          "CYP",
          "CZE",
          "DNK",
          "EST",
          "FIN",
          "FRA",
          "DEU",
          "GRC",
          "HUN",
          "IRL",
          "ITA",
          "LVA",
          "LTU",
          "LUX",
          "MLT",
          "NLD",
          "POL",
          "PRT",
          "ROU",
          "SVK",
          "SVN",
          "ESP",
          "SWE"
         ],
         "marker": {
          "line": {
           "color": "grey",
           "width": 0.7
          }
         },
         "name": "",
         "showscale": false,
         "text": [
          "AUT: 4.48 deg C",
          "BEL: 4.48 deg C",
          "BGR: 4.48 deg C",
          "HRV: 4.48 deg C",
          "CYP: 4.39 deg C",
          "CZE: 4.48 deg C",
          "DNK: 4.48 deg C",
          "EST: 1.50 deg C",
          "FIN: 4.48 deg C",
          "FRA: 4.48 deg C",
          "DEU: 4.48 deg C",
          "GRC: 4.48 deg C",
          "HUN: 3.28 deg C",
          "IRL: 4.48 deg C",
          "ITA: 4.48 deg C",
          "LVA: 4.48 deg C",
          "LTU: 2.84 deg C",
          "LUX: 4.48 deg C",
          "MLT: 4.48 deg C",
          "NLD: 4.48 deg C",
          "POL: 2.23 deg C",
          "PRT: 4.48 deg C",
          "ROU: 4.48 deg C",
          "SVK: nan deg C",
          "SVN: 4.48 deg C",
          "ESP: 4.48 deg C",
          "SWE: 4.48 deg C"
         ],
         "type": "choropleth",
         "z": [
          4.476241104043248,
          4.476241104043248,
          4.476241104043248,
          4.476241104043248,
          4.385038454325939,
          4.476241104043248,
          4.476241104043248,
          1.5037617005610906,
          4.476241104043248,
          4.476241104043248,
          4.476241104043248,
          4.476241104043248,
          3.2830939926649725,
          4.476241104043248,
          4.476241104043248,
          4.476241104043248,
          2.839582623354048,
          4.476241104043248,
          4.476241104043248,
          4.476241104043248,
          2.234112534294759,
          4.476241104043248,
          4.476241104043248,
          null,
          4.476241104043248,
          4.476241104043248,
          4.476241104043248
         ],
         "zmax": 2.5,
         "zmin": 1.5
        },
        {
         "featureidkey": "properties.NAME_3",
         "geo": "geo",
         "hoverinfo": "skip",
         "locations": [
          "AUT",
          "BEL",
          "BGR",
          "HRV",
          "CYP",
          "CZE",
          "DNK",
          "EST",
          "FIN",
          "FRA",
          "DEU",
          "GRC",
          "HUN",
          "IRL",
          "ITA",
          "LVA",
          "LTU",
          "LUX",
          "MLT",
          "NLD",
          "POL",
          "PRT",
          "ROU",
          "SVK",
          "SVN",
          "ESP",
          "SWE"
         ],
         "mode": "text",
         "showlegend": false,
         "text": [
          "1.6",
          "1.5",
          "4.5",
          "3.2",
          "1.5",
          "1.6",
          "1.7",
          "1.4",
          "1.5",
          "1.9",
          "1.5",
          "2.1",
          "1.7",
          "1.6",
          "1.8",
          "4.0",
          "1.6",
          "1.7",
          "1.5",
          "1.5",
          "1.5",
          "2.7",
          "2.8",
          "1.5",
          "1.8",
          "1.8",
          "2.8"
         ],
         "textfont": {
          "color": "black",
          "size": 20
         },
         "type": "scattergeo"
        },
        {
         "featureidkey": "properties.NAME_3",
         "geo": "geo2",
         "hoverinfo": "skip",
         "locations": [
          "AUT",
          "BEL",
          "BGR",
          "HRV",
          "CYP",
          "CZE",
          "DNK",
          "EST",
          "FIN",
          "FRA",
          "DEU",
          "GRC",
          "HUN",
          "IRL",
          "ITA",
          "LVA",
          "LTU",
          "LUX",
          "MLT",
          "NLD",
          "POL",
          "PRT",
          "ROU",
          "SVK",
          "SVN",
          "ESP",
          "SWE"
         ],
         "mode": "text",
         "showlegend": false,
         "text": [
          "1.8",
          "2.2",
          "1.6",
          "1.7",
          "1.4",
          "2.8",
          "1.8",
          "3.1",
          "3.8",
          "1.5",
          "1.7",
          "1.9",
          "1.8",
          "3.9",
          "1.6",
          "1.7",
          "1.8",
          "4.5",
          "1.4",
          "2.3",
          "2.2",
          "1.6",
          "1.5",
          "1.6",
          "2.3",
          "1.6",
          "1.6"
         ],
         "textfont": {
          "color": "black",
          "size": 20
         },
         "type": "scattergeo"
        },
        {
         "featureidkey": "properties.NAME_3",
         "geo": "geo3",
         "hoverinfo": "skip",
         "locations": [
          "AUT",
          "BEL",
          "BGR",
          "HRV",
          "CYP",
          "CZE",
          "DNK",
          "EST",
          "FIN",
          "FRA",
          "DEU",
          "GRC",
          "HUN",
          "IRL",
          "ITA",
          "LVA",
          "LTU",
          "LUX",
          "MLT",
          "NLD",
          "POL",
          "PRT",
          "ROU",
          "SVK",
          "SVN",
          "ESP",
          "SWE"
         ],
         "mode": "text",
         "showlegend": false,
         "text": [
          "1.6",
          "1.5",
          "3.3",
          "2.3",
          "1.5",
          "1.8",
          "1.7",
          "1.5",
          "1.7",
          "1.7",
          "1.5",
          "2.1",
          "1.7",
          "1.8",
          "1.7",
          "2.8",
          "1.6",
          "2.2",
          "1.5",
          "1.5",
          "1.6",
          "2.1",
          "2.0",
          "1.5",
          "1.9",
          "1.7",
          "2.1"
         ],
         "textfont": {
          "color": "black",
          "size": 20
         },
         "type": "scattergeo"
        },
        {
         "featureidkey": "properties.NAME_3",
         "geo": "geo4",
         "hoverinfo": "skip",
         "locations": [
          "AUT",
          "BEL",
          "BGR",
          "HRV",
          "CYP",
          "CZE",
          "DNK",
          "EST",
          "FIN",
          "FRA",
          "DEU",
          "GRC",
          "HUN",
          "IRL",
          "ITA",
          "LVA",
          "LTU",
          "LUX",
          "MLT",
          "NLD",
          "POL",
          "PRT",
          "ROU",
          "SVK",
          "SVN",
          "ESP",
          "SWE"
         ],
         "mode": "text",
         "showlegend": false,
         "text": [
          "2.1",
          "1.7",
          "4.5",
          "4.5",
          "1.6",
          "2.7",
          "2.8",
          "1.5",
          "1.9",
          "2.7",
          "1.9",
          "4.0",
          "2.4",
          "2.3",
          "2.7",
          "4.3",
          "2.0",
          "2.9",
          "1.6",
          "1.8",
          "2.0",
          "4.2",
          "3.9",
          "1.8",
          "2.4",
          "2.7",
          "4.0"
         ],
         "textfont": {
          "color": "black",
          "size": 20
         },
         "type": "scattergeo"
        },
        {
         "featureidkey": "properties.NAME_3",
         "geo": "geo5",
         "hoverinfo": "skip",
         "locations": [
          "AUT",
          "BEL",
          "BGR",
          "HRV",
          "CYP",
          "CZE",
          "DNK",
          "EST",
          "FIN",
          "FRA",
          "DEU",
          "GRC",
          "HUN",
          "IRL",
          "ITA",
          "LVA",
          "LTU",
          "LUX",
          "MLT",
          "NLD",
          "POL",
          "PRT",
          "ROU",
          "SVK",
          "SVN",
          "ESP",
          "SWE"
         ],
         "mode": "text",
         "showlegend": false,
         "text": [
          "2.1",
          "1.7",
          "4.5",
          "4.0",
          "1.6",
          "2.3",
          "2.3",
          "1.5",
          "1.9",
          "2.9",
          "1.8",
          "3.5",
          "1.8",
          "2.1",
          "2.4",
          "4.5",
          "1.7",
          "3.5",
          "1.8",
          "1.7",
          "1.7",
          "4.1",
          "3.4",
          "nan",
          "2.6",
          "2.6",
          "4.5"
         ],
         "textfont": {
          "color": "black",
          "size": 20
         },
         "type": "scattergeo"
        },
        {
         "featureidkey": "properties.NAME_3",
         "geo": "geo6",
         "hoverinfo": "skip",
         "locations": [
          "AUT",
          "BEL",
          "BGR",
          "HRV",
          "CYP",
          "CZE",
          "DNK",
          "EST",
          "FIN",
          "FRA",
          "DEU",
          "GRC",
          "HUN",
          "IRL",
          "ITA",
          "LVA",
          "LTU",
          "LUX",
          "MLT",
          "NLD",
          "POL",
          "PRT",
          "ROU",
          "SVK",
          "SVN",
          "ESP",
          "SWE"
         ],
         "mode": "text",
         "showlegend": false,
         "text": [
          "4.5",
          "4.5",
          "4.5",
          "4.5",
          "4.4",
          "4.5",
          "4.5",
          "1.5",
          "4.5",
          "4.5",
          "4.5",
          "4.5",
          "3.3",
          "4.5",
          "4.5",
          "4.5",
          "2.8",
          "4.5",
          "4.5",
          "4.5",
          "2.2",
          "4.5",
          "4.5",
          "nan",
          "4.5",
          "4.5",
          "4.5"
         ],
         "textfont": {
          "color": "black",
          "size": 20
         },
         "type": "scattergeo"
        }
       ],
       "layout": {
        "annotations": [
         {
          "align": "left",
          "ax": 0,
          "ay": 0,
          "font": {
           "color": "black",
           "size": 25
          },
          "showarrow": false,
          "text": "<b>(a) Grandfathering</b>",
          "x": 0.07,
          "xref": "paper",
          "y": 0.96,
          "yref": "paper"
         },
         {
          "align": "left",
          "ax": 0,
          "ay": 0,
          "font": {
           "color": "black",
           "size": 25
          },
          "showarrow": false,
          "text": "<b>(b) Per Capita</b>",
          "x": 0.47,
          "xref": "paper",
          "y": 0.96,
          "yref": "paper"
         },
         {
          "align": "left",
          "ax": 0,
          "ay": 0,
          "font": {
           "color": "black",
           "size": 25
          },
          "showarrow": false,
          "text": "<b>(c) Per Capita Convergence</b>",
          "x": 0.9,
          "xref": "paper",
          "y": 0.96,
          "yref": "paper"
         },
         {
          "align": "left",
          "ax": 0,
          "ay": 0,
          "font": {
           "color": "black",
           "size": 25
          },
          "showarrow": false,
          "text": "<b>(d) Equal Cumulative per Capita</b>",
          "x": 0.07,
          "xref": "paper",
          "y": 0.45,
          "yref": "paper"
         },
         {
          "align": "left",
          "ax": 0,
          "ay": 0,
          "font": {
           "color": "black",
           "size": 25
          },
          "showarrow": false,
          "text": "<b>(e) Ability to Pay</b>",
          "x": 0.48,
          "xref": "paper",
          "y": 0.45,
          "yref": "paper"
         },
         {
          "align": "left",
          "ax": 0,
          "ay": 0,
          "font": {
           "color": "black",
           "size": 25
          },
          "showarrow": false,
          "text": "<b>(f) Greenhouse Development Rights</b>",
          "x": 0.95,
          "xref": "paper",
          "y": 0.45,
          "yref": "paper"
         }
        ],
        "geo": {
         "domain": {
          "x": [
           0,
           0.3333333333333333
          ],
          "y": [
           0.5,
           1
          ]
         },
         "lakecolor": "rgb(255, 255, 255)",
         "lataxis": {
          "range": [
           30,
           75
          ]
         },
         "lonaxis": {
          "range": [
           -20,
           40
          ]
         },
         "projection": {
          "type": "natural earth"
         },
         "resolution": 50,
         "scope": "europe",
         "showcoastlines": false,
         "showcountries": false,
         "showlakes": true,
         "visible": true
        },
        "geo2": {
         "domain": {
          "x": [
           0.3333333333333333,
           0.6666666666666666
          ],
          "y": [
           0.5,
           1
          ]
         },
         "lakecolor": "rgb(255, 255, 255)",
         "lataxis": {
          "range": [
           30,
           75
          ]
         },
         "lonaxis": {
          "range": [
           -20,
           40
          ]
         },
         "projection": {
          "type": "natural earth"
         },
         "resolution": 50,
         "scope": "europe",
         "showcoastlines": false,
         "showcountries": false,
         "showlakes": true,
         "visible": true
        },
        "geo3": {
         "domain": {
          "x": [
           0.6666666666666666,
           1
          ],
          "y": [
           0.5,
           1
          ]
         },
         "lakecolor": "rgb(255, 255, 255)",
         "lataxis": {
          "range": [
           30,
           75
          ]
         },
         "lonaxis": {
          "range": [
           -20,
           40
          ]
         },
         "projection": {
          "type": "natural earth"
         },
         "resolution": 50,
         "scope": "europe",
         "showcoastlines": false,
         "showcountries": false,
         "showlakes": true,
         "visible": true
        },
        "geo4": {
         "domain": {
          "x": [
           0,
           0.3333333333333333
          ],
          "y": [
           0,
           0.5
          ]
         },
         "lakecolor": "rgb(255, 255, 255)",
         "lataxis": {
          "range": [
           30,
           75
          ]
         },
         "lonaxis": {
          "range": [
           -20,
           40
          ]
         },
         "projection": {
          "type": "natural earth"
         },
         "resolution": 50,
         "scope": "europe",
         "showcoastlines": false,
         "showcountries": false,
         "showlakes": true,
         "visible": true
        },
        "geo5": {
         "domain": {
          "x": [
           0.3333333333333333,
           0.6666666666666666
          ],
          "y": [
           0,
           0.5
          ]
         },
         "lakecolor": "rgb(255, 255, 255)",
         "lataxis": {
          "range": [
           30,
           75
          ]
         },
         "lonaxis": {
          "range": [
           -20,
           40
          ]
         },
         "projection": {
          "type": "natural earth"
         },
         "resolution": 50,
         "scope": "europe",
         "showcoastlines": false,
         "showcountries": false,
         "showlakes": true,
         "visible": true
        },
        "geo6": {
         "domain": {
          "x": [
           0.6666666666666666,
           1
          ],
          "y": [
           0,
           0.5
          ]
         },
         "lakecolor": "rgb(255, 255, 255)",
         "lataxis": {
          "range": [
           30,
           75
          ]
         },
         "lonaxis": {
          "range": [
           -20,
           40
          ]
         },
         "projection": {
          "type": "natural earth"
         },
         "resolution": 50,
         "scope": "europe",
         "showcoastlines": false,
         "showcountries": false,
         "showlakes": true,
         "visible": true
        },
        "height": 1200,
        "margin": {
         "b": 0,
         "l": 0,
         "r": 0,
         "t": 0
        },
        "template": {
         "data": {
          "bar": [
           {
            "error_x": {
             "color": "#2a3f5f"
            },
            "error_y": {
             "color": "#2a3f5f"
            },
            "marker": {
             "line": {
              "color": "#E5ECF6",
              "width": 0.5
             }
            },
            "type": "bar"
           }
          ],
          "barpolar": [
           {
            "marker": {
             "line": {
              "color": "#E5ECF6",
              "width": 0.5
             }
            },
            "type": "barpolar"
           }
          ],
          "carpet": [
           {
            "aaxis": {
             "endlinecolor": "#2a3f5f",
             "gridcolor": "white",
             "linecolor": "white",
             "minorgridcolor": "white",
             "startlinecolor": "#2a3f5f"
            },
            "baxis": {
             "endlinecolor": "#2a3f5f",
             "gridcolor": "white",
             "linecolor": "white",
             "minorgridcolor": "white",
             "startlinecolor": "#2a3f5f"
            },
            "type": "carpet"
           }
          ],
          "choropleth": [
           {
            "colorbar": {
             "outlinewidth": 0,
             "ticks": ""
            },
            "type": "choropleth"
           }
          ],
          "contour": [
           {
            "colorbar": {
             "outlinewidth": 0,
             "ticks": ""
            },
            "colorscale": [
             [
              0,
              "#0d0887"
             ],
             [
              0.1111111111111111,
              "#46039f"
             ],
             [
              0.2222222222222222,
              "#7201a8"
             ],
             [
              0.3333333333333333,
              "#9c179e"
             ],
             [
              0.4444444444444444,
              "#bd3786"
             ],
             [
              0.5555555555555556,
              "#d8576b"
             ],
             [
              0.6666666666666666,
              "#ed7953"
             ],
             [
              0.7777777777777778,
              "#fb9f3a"
             ],
             [
              0.8888888888888888,
              "#fdca26"
             ],
             [
              1,
              "#f0f921"
             ]
            ],
            "type": "contour"
           }
          ],
          "contourcarpet": [
           {
            "colorbar": {
             "outlinewidth": 0,
             "ticks": ""
            },
            "type": "contourcarpet"
           }
          ],
          "heatmap": [
           {
            "colorbar": {
             "outlinewidth": 0,
             "ticks": ""
            },
            "colorscale": [
             [
              0,
              "#0d0887"
             ],
             [
              0.1111111111111111,
              "#46039f"
             ],
             [
              0.2222222222222222,
              "#7201a8"
             ],
             [
              0.3333333333333333,
              "#9c179e"
             ],
             [
              0.4444444444444444,
              "#bd3786"
             ],
             [
              0.5555555555555556,
              "#d8576b"
             ],
             [
              0.6666666666666666,
              "#ed7953"
             ],
             [
              0.7777777777777778,
              "#fb9f3a"
             ],
             [
              0.8888888888888888,
              "#fdca26"
             ],
             [
              1,
              "#f0f921"
             ]
            ],
            "type": "heatmap"
           }
          ],
          "heatmapgl": [
           {
            "colorbar": {
             "outlinewidth": 0,
             "ticks": ""
            },
            "colorscale": [
             [
              0,
              "#0d0887"
             ],
             [
              0.1111111111111111,
              "#46039f"
             ],
             [
              0.2222222222222222,
              "#7201a8"
             ],
             [
              0.3333333333333333,
              "#9c179e"
             ],
             [
              0.4444444444444444,
              "#bd3786"
             ],
             [
              0.5555555555555556,
              "#d8576b"
             ],
             [
              0.6666666666666666,
              "#ed7953"
             ],
             [
              0.7777777777777778,
              "#fb9f3a"
             ],
             [
              0.8888888888888888,
              "#fdca26"
             ],
             [
              1,
              "#f0f921"
             ]
            ],
            "type": "heatmapgl"
           }
          ],
          "histogram": [
           {
            "marker": {
             "colorbar": {
              "outlinewidth": 0,
              "ticks": ""
             }
            },
            "type": "histogram"
           }
          ],
          "histogram2d": [
           {
            "colorbar": {
             "outlinewidth": 0,
             "ticks": ""
            },
            "colorscale": [
             [
              0,
              "#0d0887"
             ],
             [
              0.1111111111111111,
              "#46039f"
             ],
             [
              0.2222222222222222,
              "#7201a8"
             ],
             [
              0.3333333333333333,
              "#9c179e"
             ],
             [
              0.4444444444444444,
              "#bd3786"
             ],
             [
              0.5555555555555556,
              "#d8576b"
             ],
             [
              0.6666666666666666,
              "#ed7953"
             ],
             [
              0.7777777777777778,
              "#fb9f3a"
             ],
             [
              0.8888888888888888,
              "#fdca26"
             ],
             [
              1,
              "#f0f921"
             ]
            ],
            "type": "histogram2d"
           }
          ],
          "histogram2dcontour": [
           {
            "colorbar": {
             "outlinewidth": 0,
             "ticks": ""
            },
            "colorscale": [
             [
              0,
              "#0d0887"
             ],
             [
              0.1111111111111111,
              "#46039f"
             ],
             [
              0.2222222222222222,
              "#7201a8"
             ],
             [
              0.3333333333333333,
              "#9c179e"
             ],
             [
              0.4444444444444444,
              "#bd3786"
             ],
             [
              0.5555555555555556,
              "#d8576b"
             ],
             [
              0.6666666666666666,
              "#ed7953"
             ],
             [
              0.7777777777777778,
              "#fb9f3a"
             ],
             [
              0.8888888888888888,
              "#fdca26"
             ],
             [
              1,
              "#f0f921"
             ]
            ],
            "type": "histogram2dcontour"
           }
          ],
          "mesh3d": [
           {
            "colorbar": {
             "outlinewidth": 0,
             "ticks": ""
            },
            "type": "mesh3d"
           }
          ],
          "parcoords": [
           {
            "line": {
             "colorbar": {
              "outlinewidth": 0,
              "ticks": ""
             }
            },
            "type": "parcoords"
           }
          ],
          "pie": [
           {
            "automargin": true,
            "type": "pie"
           }
          ],
          "scatter": [
           {
            "marker": {
             "colorbar": {
              "outlinewidth": 0,
              "ticks": ""
             }
            },
            "type": "scatter"
           }
          ],
          "scatter3d": [
           {
            "line": {
             "colorbar": {
              "outlinewidth": 0,
              "ticks": ""
             }
            },
            "marker": {
             "colorbar": {
              "outlinewidth": 0,
              "ticks": ""
             }
            },
            "type": "scatter3d"
           }
          ],
          "scattercarpet": [
           {
            "marker": {
             "colorbar": {
              "outlinewidth": 0,
              "ticks": ""
             }
            },
            "type": "scattercarpet"
           }
          ],
          "scattergeo": [
           {
            "marker": {
             "colorbar": {
              "outlinewidth": 0,
              "ticks": ""
             }
            },
            "type": "scattergeo"
           }
          ],
          "scattergl": [
           {
            "marker": {
             "colorbar": {
              "outlinewidth": 0,
              "ticks": ""
             }
            },
            "type": "scattergl"
           }
          ],
          "scattermapbox": [
           {
            "marker": {
             "colorbar": {
              "outlinewidth": 0,
              "ticks": ""
             }
            },
            "type": "scattermapbox"
           }
          ],
          "scatterpolar": [
           {
            "marker": {
             "colorbar": {
              "outlinewidth": 0,
              "ticks": ""
             }
            },
            "type": "scatterpolar"
           }
          ],
          "scatterpolargl": [
           {
            "marker": {
             "colorbar": {
              "outlinewidth": 0,
              "ticks": ""
             }
            },
            "type": "scatterpolargl"
           }
          ],
          "scatterternary": [
           {
            "marker": {
             "colorbar": {
              "outlinewidth": 0,
              "ticks": ""
             }
            },
            "type": "scatterternary"
           }
          ],
          "surface": [
           {
            "colorbar": {
             "outlinewidth": 0,
             "ticks": ""
            },
            "colorscale": [
             [
              0,
              "#0d0887"
             ],
             [
              0.1111111111111111,
              "#46039f"
             ],
             [
              0.2222222222222222,
              "#7201a8"
             ],
             [
              0.3333333333333333,
              "#9c179e"
             ],
             [
              0.4444444444444444,
              "#bd3786"
             ],
             [
              0.5555555555555556,
              "#d8576b"
             ],
             [
              0.6666666666666666,
              "#ed7953"
             ],
             [
              0.7777777777777778,
              "#fb9f3a"
             ],
             [
              0.8888888888888888,
              "#fdca26"
             ],
             [
              1,
              "#f0f921"
             ]
            ],
            "type": "surface"
           }
          ],
          "table": [
           {
            "cells": {
             "fill": {
              "color": "#EBF0F8"
             },
             "line": {
              "color": "white"
             }
            },
            "header": {
             "fill": {
              "color": "#C8D4E3"
             },
             "line": {
              "color": "white"
             }
            },
            "type": "table"
           }
          ]
         },
         "layout": {
          "annotationdefaults": {
           "arrowcolor": "#2a3f5f",
           "arrowhead": 0,
           "arrowwidth": 1
          },
          "coloraxis": {
           "colorbar": {
            "outlinewidth": 0,
            "ticks": ""
           }
          },
          "colorscale": {
           "diverging": [
            [
             0,
             "#8e0152"
            ],
            [
             0.1,
             "#c51b7d"
            ],
            [
             0.2,
             "#de77ae"
            ],
            [
             0.3,
             "#f1b6da"
            ],
            [
             0.4,
             "#fde0ef"
            ],
            [
             0.5,
             "#f7f7f7"
            ],
            [
             0.6,
             "#e6f5d0"
            ],
            [
             0.7,
             "#b8e186"
            ],
            [
             0.8,
             "#7fbc41"
            ],
            [
             0.9,
             "#4d9221"
            ],
            [
             1,
             "#276419"
            ]
           ],
           "sequential": [
            [
             0,
             "#0d0887"
            ],
            [
             0.1111111111111111,
             "#46039f"
            ],
            [
             0.2222222222222222,
             "#7201a8"
            ],
            [
             0.3333333333333333,
             "#9c179e"
            ],
            [
             0.4444444444444444,
             "#bd3786"
            ],
            [
             0.5555555555555556,
             "#d8576b"
            ],
            [
             0.6666666666666666,
             "#ed7953"
            ],
            [
             0.7777777777777778,
             "#fb9f3a"
            ],
            [
             0.8888888888888888,
             "#fdca26"
            ],
            [
             1,
             "#f0f921"
            ]
           ],
           "sequentialminus": [
            [
             0,
             "#0d0887"
            ],
            [
             0.1111111111111111,
             "#46039f"
            ],
            [
             0.2222222222222222,
             "#7201a8"
            ],
            [
             0.3333333333333333,
             "#9c179e"
            ],
            [
             0.4444444444444444,
             "#bd3786"
            ],
            [
             0.5555555555555556,
             "#d8576b"
            ],
            [
             0.6666666666666666,
             "#ed7953"
            ],
            [
             0.7777777777777778,
             "#fb9f3a"
            ],
            [
             0.8888888888888888,
             "#fdca26"
            ],
            [
             1,
             "#f0f921"
            ]
           ]
          },
          "colorway": [
           "#636efa",
           "#EF553B",
           "#00cc96",
           "#ab63fa",
           "#FFA15A",
           "#19d3f3",
           "#FF6692",
           "#B6E880",
           "#FF97FF",
           "#FECB52"
          ],
          "font": {
           "color": "#2a3f5f"
          },
          "geo": {
           "bgcolor": "white",
           "lakecolor": "white",
           "landcolor": "#E5ECF6",
           "showlakes": true,
           "showland": true,
           "subunitcolor": "white"
          },
          "hoverlabel": {
           "align": "left"
          },
          "hovermode": "closest",
          "mapbox": {
           "style": "light"
          },
          "paper_bgcolor": "white",
          "plot_bgcolor": "#E5ECF6",
          "polar": {
           "angularaxis": {
            "gridcolor": "white",
            "linecolor": "white",
            "ticks": ""
           },
           "bgcolor": "#E5ECF6",
           "radialaxis": {
            "gridcolor": "white",
            "linecolor": "white",
            "ticks": ""
           }
          },
          "scene": {
           "xaxis": {
            "backgroundcolor": "#E5ECF6",
            "gridcolor": "white",
            "gridwidth": 2,
            "linecolor": "white",
            "showbackground": true,
            "ticks": "",
            "zerolinecolor": "white"
           },
           "yaxis": {
            "backgroundcolor": "#E5ECF6",
            "gridcolor": "white",
            "gridwidth": 2,
            "linecolor": "white",
            "showbackground": true,
            "ticks": "",
            "zerolinecolor": "white"
           },
           "zaxis": {
            "backgroundcolor": "#E5ECF6",
            "gridcolor": "white",
            "gridwidth": 2,
            "linecolor": "white",
            "showbackground": true,
            "ticks": "",
            "zerolinecolor": "white"
           }
          },
          "shapedefaults": {
           "line": {
            "color": "#2a3f5f"
           }
          },
          "ternary": {
           "aaxis": {
            "gridcolor": "white",
            "linecolor": "white",
            "ticks": ""
           },
           "baxis": {
            "gridcolor": "white",
            "linecolor": "white",
            "ticks": ""
           },
           "bgcolor": "#E5ECF6",
           "caxis": {
            "gridcolor": "white",
            "linecolor": "white",
            "ticks": ""
           }
          },
          "title": {
           "x": 0.05
          },
          "xaxis": {
           "automargin": true,
           "gridcolor": "white",
           "linecolor": "white",
           "ticks": "",
           "title": {
            "standoff": 15
           },
           "zerolinecolor": "white",
           "zerolinewidth": 2
          },
          "yaxis": {
           "automargin": true,
           "gridcolor": "white",
           "linecolor": "white",
           "ticks": "",
           "title": {
            "standoff": 15
           },
           "zerolinecolor": "white",
           "zerolinewidth": 2
          }
         }
        },
        "width": 2300
       }
      }
     },
     "metadata": {},
     "output_type": "display_data"
    }
   ],
   "source": [
    "fig = make_subplots(rows=2, cols=3, #subplot_titles=('Grandfathering (GF)',\n",
    "                                                    # 'Per Capita (PC)',\n",
    "                                                    # 'Per Capita Convergence (PCC)',\n",
    "                                                    # 'Equal Cumulative Per Capita',\n",
    "                                                    # 'Ability to pay (AP)',\n",
    "                                                    # 'Greenhouse Development Rights'), \n",
    "                                    specs=[[{'type': 'choropleth'}, {'type': 'choropleth'}, {'type': 'choropleth'}],\n",
    "                                           [{'type': 'choropleth'}, {'type': 'choropleth'}, {'type': 'choropleth'}]],\n",
    "                                    horizontal_spacing = 0,\n",
    "                                    vertical_spacing=0)\n",
    "\n",
    "colorbar_abs = dict(len=1, x=1, tickvals = [0, 1, 2, 3], ticktext = ['1', '10', '100', '1000'])\n",
    "colorbar_pc = dict(len=1, x=1)\n",
    "\n",
    "for var_i, var in enumerate(rules):\n",
    "    if var_i == 0:\n",
    "        cm= True\n",
    "    else:\n",
    "        cm= False\n",
    "    fig.add_trace(\n",
    "        go.Choropleth(\n",
    "        locations=group_eu,\n",
    "        z = data5[var],\n",
    "        locationmode = 'ISO-3',\n",
    "        colorscale = 'RdYlGn_r',\n",
    "        zmax = 2.5,\n",
    "        zmin = 1.5,\n",
    "        text = [str(r)+\": {:0.2f} deg C\".format(float(data5.sel(Region=r)[var])) for r_i, r in enumerate(group_eu)],\n",
    "        hovertemplate  = '%{text}',\n",
    "        name=\"\",\n",
    "        marker_line_color='grey', \n",
    "        marker_line_width=0.7,\n",
    "        colorbar=dict(len=1, x=1, tickvals = np.arange(1.5, 2.5, 0.1), ticktext = [str(np.round(i,1))+\"&deg;C\" for i in np.arange(1.5, 2.5, 0.1)], title={\"text\":\"Temp-equiv<br>of NDC\"}, tickfont={'size': 25}),\n",
    "        showscale=cm\n",
    "    ), [1, 1, 1, 2, 2, 2][var_i], [1, 2, 3, 1, 2, 3][var_i])\n",
    "# fig.update_geos(showocean=True, oceancolor=\"white\")\n",
    "# fig.update_geos(showlakes=True, lakecolor=\"white\")\n",
    "\n",
    "# limite map scope to USA 'africa', 'asia', 'europe', 'north america', 'south america', 'usa', 'world'\n",
    "fig.update_layout(\n",
    "    geo1 = dict(scope='europe', \n",
    "                showlakes=False,\n",
    "                lakecolor='rgb(255, 255, 255)',\n",
    "                showcoastlines=False,),\n",
    "    geo2 = dict(scope='europe', \n",
    "                showlakes=False,\n",
    "                lakecolor='rgb(255, 255, 255)',\n",
    "                showcoastlines=False,),\n",
    "    geo3 = dict(scope='europe', \n",
    "                showlakes=False,\n",
    "                lakecolor='rgb(255, 255, 255)',\n",
    "                showcoastlines=False,),\n",
    "    geo4 = dict(scope='europe', \n",
    "                showlakes=False,\n",
    "                lakecolor='rgb(255, 255, 255)',\n",
    "                showcoastlines=False,),\n",
    "    geo5 = dict(scope='europe', \n",
    "                showlakes=False,\n",
    "                lakecolor='rgb(255, 255, 255)',\n",
    "                showcoastlines=False,),\n",
    "    geo6 = dict(scope='europe', \n",
    "                showlakes=False,\n",
    "                showcoastlines=False,),\n",
    ")\n",
    "\n",
    "mn = np.min(np.array([float(data5[rules].min()[r]) for r in rules]))\n",
    "mx = np.max(np.array([float(data5[rules].max()[r]) for r in rules]))\n",
    "for var_i, var in enumerate(rules):\n",
    "    vals = np.array(data5[var]).astype(float)\n",
    "    vals_i = (vals + mn)**1.2\n",
    "    vals_n = 14*(vals - mn)/(mx - mn)+7\n",
    "    vals_boolean = np.copy(vals)\n",
    "    vals_boolean[vals >= 0] = 1\n",
    "    vals_boolean[vals < 0] = 0\n",
    "    vals_boolean = vals_boolean.astype(int)\n",
    "    \n",
    "    fig.add_scattergeo(\n",
    "                locations = group_eu,\n",
    "                text = [str(np.round(vals[r_i], 1)) for r_i in range(len(group_eu))],\n",
    "                featureidkey=\"properties.NAME_3\",\n",
    "                mode = 'text',\n",
    "                hoverinfo='skip',\n",
    "                showlegend=False,\n",
    "                textfont={'size': 20,\n",
    "                        'color': 'black'},\n",
    "                row=[1, 1, 1, 2, 2, 2][var_i],\n",
    "                col=[1, 2, 3, 1, 2, 3][var_i])\n",
    "\n",
    "fig.update_geos(visible=False,\n",
    "                showlakes=True,\n",
    "                lakecolor='rgb(255, 255, 255)',\n",
    "                projection_type='natural earth',\n",
    "                resolution=50,\n",
    "                lataxis_range=[30,75], lonaxis_range=[-20, 40],\n",
    "                showcoastlines=False,)\n",
    "\n",
    "#fig.update_traces(showscale=False)\n",
    "fig.update_layout(height=1200, width=2300)\n",
    "fig.update_geos(visible=True, showcountries=False)#fitbounds=\"locations\",\n",
    "fig.update_layout(margin={\"r\":0,\"t\":0,\"l\":0,\"b\":0})\n",
    "\n",
    "fig.add_annotation(xref='paper', yref='paper',ax=0, align='left', ay=-0, showarrow=False, font=dict(color='black', size=25),\n",
    "                   y=0.96, x=0.07, text=\"<b>(a) Grandfathering</b>\")\n",
    "fig.add_annotation(xref='paper', yref='paper',ax=0, align='left', ay=-0, showarrow=False, font=dict(color='black', size=25),\n",
    "                   y=0.96, x=0.47, text=\"<b>(b) Per Capita</b>\")\n",
    "fig.add_annotation(xref='paper', yref='paper',ax=0, align='left', ay=-0, showarrow=False, font=dict(color='black', size=25),\n",
    "                   y=0.96, x=0.90, text=\"<b>(c) Per Capita Convergence</b>\")\n",
    "fig.add_annotation(xref='paper', yref='paper',ax=0, align='left', ay=-0, showarrow=False, font=dict(color='black', size=25),\n",
    "                   y=0.45, x=0.07, text=\"<b>(d) Equal Cumulative per Capita</b>\")\n",
    "fig.add_annotation(xref='paper', yref='paper',ax=0, align='left', ay=-0, showarrow=False, font=dict(color='black', size=25),\n",
    "                   y=0.45, x=0.48, text=\"<b>(e) Ability to Pay</b>\")\n",
    "fig.add_annotation(xref='paper', yref='paper',ax=0, align='left', ay=-0, showarrow=False, font=dict(color='black', size=25),\n",
    "                   y=0.45, x=0.95, text=\"<b>(f) Greenhouse Development Rights</b>\")\n",
    "fig_europe = fig\n",
    "fig.show()"
   ]
  },
  {
   "cell_type": "code",
   "execution_count": 25,
   "metadata": {},
   "outputs": [],
   "source": [
    "fig.write_image(\"X:/user/dekkerm/Projects/ECEMF_T5.2/Figures/Presentations/Europe_temp.png\", scale=3)"
   ]
  }
 ],
 "metadata": {
  "kernelspec": {
   "display_name": "MyEnv",
   "language": "python",
   "name": "python3"
  },
  "language_info": {
   "codemirror_mode": {
    "name": "ipython",
    "version": 3
   },
   "file_extension": ".py",
   "mimetype": "text/x-python",
   "name": "python",
   "nbconvert_exporter": "python",
   "pygments_lexer": "ipython3",
   "version": "3.8.6"
  },
  "orig_nbformat": 4
 },
 "nbformat": 4,
 "nbformat_minor": 2
}
