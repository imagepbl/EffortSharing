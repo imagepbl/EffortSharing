{
 "cells": [
  {
   "cell_type": "markdown",
   "metadata": {},
   "source": [
    "## Preambule"
   ]
  },
  {
   "cell_type": "code",
   "execution_count": 1,
   "metadata": {},
   "outputs": [],
   "source": [
    "import numpy as np\n",
    "import pandas as pd\n",
    "import xarray as xr\n",
    "from tqdm import tqdm\n",
    "\n",
    "# Plotting\n",
    "import matplotlib.pyplot as plt\n",
    "import plotly.express as px\n",
    "import plotly.graph_objects as go\n",
    "from plotly.subplots import make_subplots\n",
    "from plotly.colors import n_colors"
   ]
  },
  {
   "cell_type": "markdown",
   "metadata": {},
   "source": [
    "## Input"
   ]
  },
  {
   "cell_type": "code",
   "execution_count": 2,
   "metadata": {},
   "outputs": [],
   "source": [
    "rules_b = ['GF', 'PC', 'PCC', 'AP', 'GDR', 'ECPC']\n",
    "rules_a = rules_b"
   ]
  },
  {
   "cell_type": "markdown",
   "metadata": {},
   "source": [
    "## Read data"
   ]
  },
  {
   "cell_type": "code",
   "execution_count": 3,
   "metadata": {},
   "outputs": [],
   "source": [
    "xr_dataread = xr.open_dataset(\"K:/ECEMF/T5.2/xr_dataread.nc\")\n",
    "xr_temps = xr.open_dataset(\"K:/ECEMF/T5.2/xr_temps.nc\")\n",
    "#xr_2030 = xr.open_dataset(\"X:/user/dekkerm/Projects/ECEMF_T5.2/Data/xr_alloc_2030.nc\")"
   ]
  },
  {
   "cell_type": "code",
   "execution_count": 4,
   "metadata": {},
   "outputs": [],
   "source": [
    "df_eng = pd.read_csv('X:/user/dekkerm/Data/ENGAGE/PolicyScenarios/engage-internal_snapshot_1695642798.csv')\n",
    "df_eng = df_eng[df_eng.Variable == 'Emissions|Kyoto Gases']\n",
    "df_eng = df_eng.reset_index(drop=True)\n",
    "regions_df = np.array(df_eng.Region)\n",
    "regions_df[regions_df == \"Argentine Republic\"] = 'ARG'\n",
    "regions_df[regions_df == \"Canada\"] = 'CAN'\n",
    "regions_df[regions_df == \"Commonwealth of Australia\"] = 'AUS'\n",
    "regions_df[regions_df == \"Federative Republic of Brazil\"] = 'BRA'\n",
    "regions_df[regions_df == \"People's Repulic of China\"] = 'CHN'\n",
    "regions_df[regions_df == \"European Union (28 member countries)\"] = 'EU'\n",
    "regions_df[regions_df == \"Republic of India\"] = 'IND'\n",
    "regions_df[regions_df == \"Republic of Indonesia\"] = 'IDN'\n",
    "regions_df[regions_df == \"State of Japan\"] = 'JPN'\n",
    "regions_df[regions_df == \"Russian Federation\"] = 'RUS'\n",
    "regions_df[regions_df == \"Kingdom of Saudi Arabia\"] = 'SAU'\n",
    "regions_df[regions_df == \"Republic of South Africa\"] = 'ZAF'\n",
    "regions_df[regions_df == \"Republic of Korea (South Korea)\"] = 'KOR'\n",
    "regions_df[regions_df == \"United Mexican States\"] = 'MEX'\n",
    "regions_df[regions_df == \"Republic of Turkey\"] = 'TUR'\n",
    "regions_df[regions_df == \"United States of America\"] = 'USA'\n",
    "regions_df[regions_df == \"Viet Nam \"] = 'VNM'\n",
    "df_eng.Region = regions_df\n",
    "df = pd.read_excel(\"X:/user/dekkerm/Data//UNFCCC_Parties_Groups_noeu.xlsx\", sheet_name = \"Country groups\")\n",
    "countries_iso = np.array(df[\"Country ISO Code\"])\n",
    "group_eu = countries_iso[np.array(df[\"EU\"]) == 1]"
   ]
  },
  {
   "cell_type": "code",
   "execution_count": 5,
   "metadata": {},
   "outputs": [],
   "source": [
    "curpol = \"GP_CurPol_T45\"\n",
    "ndc = \"GP_NDC2030_T45\"\n",
    "nz = \"GP_Glasgow\"\n",
    "df_eng_ref = df_eng[['Model', 'Scenario', 'Region']+list(df_eng.keys()[5:])]\n",
    "df_eng_ref = df_eng_ref[df_eng_ref.Scenario.isin([curpol, ndc, nz])]\n",
    "scen = np.array(df_eng_ref.Scenario)\n",
    "scen[scen == ndc] = 'NDC'\n",
    "scen[scen == curpol] = 'CurPol'\n",
    "scen[scen == nz] = 'NetZero'\n",
    "reg = np.array(df_eng_ref.Region)\n",
    "reg[reg == 'World'] = 'WORLD'\n",
    "df_eng_ref['Scenario'] = scen\n",
    "df_eng_ref['Region'] = reg\n",
    "dummy = df_eng_ref.melt(id_vars=[\"Scenario\", \"Model\", \"Region\"], var_name=\"Time\", value_name=\"Value\")\n",
    "dummy['Time'] = np.array(dummy['Time'].astype(int))\n",
    "dummy = dummy.set_index([\"Scenario\", \"Model\", \"Region\", \"Time\"])\n",
    "xr_eng = xr.Dataset.from_dataframe(dummy)\n",
    "xr_eng = xr_eng.reindex(Time = np.arange(1850, 2101))\n",
    "xr_eng = xr_eng.interpolate_na(dim=\"Time\", method=\"linear\")"
   ]
  },
  {
   "cell_type": "markdown",
   "metadata": {},
   "source": [
    "## Read memberstate info"
   ]
  },
  {
   "cell_type": "code",
   "execution_count": 6,
   "metadata": {},
   "outputs": [
    {
     "name": "stderr",
     "output_type": "stream",
     "text": [
      "27it [00:41,  1.53s/it]\n"
     ]
    }
   ],
   "source": [
    "for cty_i, cty in tqdm(enumerate(group_eu)):\n",
    "    ds = xr.open_dataset(\"K:/ECEMF/T5.2/Allocations/\" + \"xr_alloc_\"+cty+\".nc\").sel(Temperature=1.5, Risk=0.5).expand_dims(Region=[cty])\n",
    "    if cty_i == 0:\n",
    "        xrt = ds.copy()\n",
    "    else:\n",
    "        xrt = xr.merge([xrt, ds])\n",
    "    ds.close()\n",
    "xrt = xrt.astype(\"float32\")"
   ]
  },
  {
   "cell_type": "markdown",
   "metadata": {},
   "source": [
    "## Plot"
   ]
  },
  {
   "cell_type": "code",
   "execution_count": 7,
   "metadata": {},
   "outputs": [],
   "source": [
    "rulecolors = ['sienna', 'goldenrod', 'forestgreen', 'mediumvioletred', 'steelblue', 'tomato', 'silver']\n",
    "rules = ['GF', 'PC', 'PCC', 'ECPC', 'AP', 'GDR']\n",
    "standard_settings = {\"TrajUnc\":\"Medium\",\n",
    "                     \"NegEmis\":0.5,\n",
    "                     \"Convergence_year\":2050}"
   ]
  },
  {
   "cell_type": "code",
   "execution_count": 8,
   "metadata": {},
   "outputs": [],
   "source": [
    "data = xrt.sel(**standard_settings, Time=np.arange(2021, 2100), Region=group_eu).mean(dim='Scenario').sum(dim='Time')/1e3"
   ]
  },
  {
   "cell_type": "code",
   "execution_count": 10,
   "metadata": {},
   "outputs": [
    {
     "name": "stderr",
     "output_type": "stream",
     "text": [
      "C:\\Users\\dekkerm\\AppData\\Local\\Temp\\3\\ipykernel_6896\\6629110.py:70: RuntimeWarning:\n",
      "\n",
      "invalid value encountered in power\n",
      "\n"
     ]
    },
    {
     "data": {
      "application/vnd.plotly.v1+json": {
       "config": {
        "plotlyServerURL": "https://plotly.com"
       },
       "data": [
        {
         "colorbar": {
          "len": 1,
          "tickfont": {
           "size": 25
          },
          "tickvals": [
           -25,
           -20,
           -15,
           -10,
           -5,
           0,
           5,
           10,
           15,
           20,
           25
          ],
          "title": {
           "text": "GHG budget<br>2021-2100<br>(Gt CO<sub>2/sub>e)"
          },
          "x": 1
         },
         "colorscale": [
          [
           0,
           "rgb(103,0,31)"
          ],
          [
           0.1,
           "rgb(178,24,43)"
          ],
          [
           0.2,
           "rgb(214,96,77)"
          ],
          [
           0.3,
           "rgb(244,165,130)"
          ],
          [
           0.4,
           "rgb(253,219,199)"
          ],
          [
           0.5,
           "rgb(247,247,247)"
          ],
          [
           0.6,
           "rgb(209,229,240)"
          ],
          [
           0.7,
           "rgb(146,197,222)"
          ],
          [
           0.8,
           "rgb(67,147,195)"
          ],
          [
           0.9,
           "rgb(33,102,172)"
          ],
          [
           1,
           "rgb(5,48,97)"
          ]
         ],
         "geo": "geo",
         "hovertemplate": "%{text}",
         "locationmode": "ISO-3",
         "locations": [
          "AUT",
          "BEL",
          "BGR",
          "HRV",
          "CYP",
          "CZE",
          "DNK",
          "EST",
          "FIN",
          "FRA",
          "DEU",
          "GRC",
          "HUN",
          "IRL",
          "ITA",
          "LVA",
          "LTU",
          "LUX",
          "MLT",
          "NLD",
          "POL",
          "PRT",
          "ROU",
          "SVK",
          "SVN",
          "ESP",
          "SWE"
         ],
         "marker": {
          "line": {
           "color": "grey",
           "width": 0.7
          }
         },
         "name": "",
         "showscale": true,
         "text": [
          "AUT: 1.15 Gt CO<sub>2</sub>e",
          "BEL: 2.05 Gt CO<sub>2</sub>e",
          "BGR: 0.39 Gt CO<sub>2</sub>e",
          "HRV: 0.33 Gt CO<sub>2</sub>e",
          "CYP: 0.12 Gt CO<sub>2</sub>e",
          "CZE: 1.77 Gt CO<sub>2</sub>e",
          "DNK: 0.71 Gt CO<sub>2</sub>e",
          "EST: 0.38 Gt CO<sub>2</sub>e",
          "FIN: 1.16 Gt CO<sub>2</sub>e",
          "FRA: 5.87 Gt CO<sub>2</sub>e",
          "DEU: 11.83 Gt CO<sub>2</sub>e",
          "GRC: 1.26 Gt CO<sub>2</sub>e",
          "HUN: 1.17 Gt CO<sub>2</sub>e",
          "IRL: 0.97 Gt CO<sub>2</sub>e",
          "ITA: 6.21 Gt CO<sub>2</sub>e",
          "LVA: 0.15 Gt CO<sub>2</sub>e",
          "LTU: 0.43 Gt CO<sub>2</sub>e",
          "LUX: 0.15 Gt CO<sub>2</sub>e",
          "MLT: 0.04 Gt CO<sub>2</sub>e",
          "NLD: 3.44 Gt CO<sub>2</sub>e",
          "POL: 6.11 Gt CO<sub>2</sub>e",
          "PRT: 0.90 Gt CO<sub>2</sub>e",
          "ROU: 1.48 Gt CO<sub>2</sub>e",
          "SVK: 0.71 Gt CO<sub>2</sub>e",
          "SVN: 0.28 Gt CO<sub>2</sub>e",
          "ESP: 4.72 Gt CO<sub>2</sub>e",
          "SWE: 0.73 Gt CO<sub>2</sub>e"
         ],
         "type": "choropleth",
         "z": [
          1.1514662504196167,
          2.045051336288452,
          0.3934912085533142,
          0.32812729477882385,
          0.1245131641626358,
          1.7699947357177734,
          0.7075350880622864,
          0.3802919089794159,
          1.1578563451766968,
          5.8671040534973145,
          11.826750755310059,
          1.2635716199874878,
          1.1710326671600342,
          0.9668325781822205,
          6.208199501037598,
          0.14840160310268402,
          0.43301311135292053,
          0.15073083341121674,
          0.04329051822423935,
          3.4366438388824463,
          6.108010768890381,
          0.9002127647399902,
          1.4753230810165405,
          0.7064586877822876,
          0.2784328758716583,
          4.718186378479004,
          0.7342975735664368
         ],
         "zmax": 12,
         "zmin": -12
        },
        {
         "colorbar": {
          "len": 1,
          "tickfont": {
           "size": 25
          },
          "tickvals": [
           -25,
           -20,
           -15,
           -10,
           -5,
           0,
           5,
           10,
           15,
           20,
           25
          ],
          "title": {
           "text": "GHG budget<br>2021-2100<br>(Gt CO<sub>2/sub>e)"
          },
          "x": 1
         },
         "colorscale": [
          [
           0,
           "rgb(103,0,31)"
          ],
          [
           0.1,
           "rgb(178,24,43)"
          ],
          [
           0.2,
           "rgb(214,96,77)"
          ],
          [
           0.3,
           "rgb(244,165,130)"
          ],
          [
           0.4,
           "rgb(253,219,199)"
          ],
          [
           0.5,
           "rgb(247,247,247)"
          ],
          [
           0.6,
           "rgb(209,229,240)"
          ],
          [
           0.7,
           "rgb(146,197,222)"
          ],
          [
           0.8,
           "rgb(67,147,195)"
          ],
          [
           0.9,
           "rgb(33,102,172)"
          ],
          [
           1,
           "rgb(5,48,97)"
          ]
         ],
         "geo": "geo2",
         "hovertemplate": "%{text}",
         "locationmode": "ISO-3",
         "locations": [
          "AUT",
          "BEL",
          "BGR",
          "HRV",
          "CYP",
          "CZE",
          "DNK",
          "EST",
          "FIN",
          "FRA",
          "DEU",
          "GRC",
          "HUN",
          "IRL",
          "ITA",
          "LVA",
          "LTU",
          "LUX",
          "MLT",
          "NLD",
          "POL",
          "PRT",
          "ROU",
          "SVK",
          "SVN",
          "ESP",
          "SWE"
         ],
         "marker": {
          "line": {
           "color": "grey",
           "width": 0.7
          }
         },
         "name": "",
         "showscale": false,
         "text": [
          "AUT: 0.97 Gt CO<sub>2</sub>e",
          "BEL: 1.26 Gt CO<sub>2</sub>e",
          "BGR: 0.78 Gt CO<sub>2</sub>e",
          "HRV: 0.48 Gt CO<sub>2</sub>e",
          "CYP: 0.14 Gt CO<sub>2</sub>e",
          "CZE: 1.23 Gt CO<sub>2</sub>e",
          "DNK: 0.65 Gt CO<sub>2</sub>e",
          "EST: 0.15 Gt CO<sub>2</sub>e",
          "FIN: 0.63 Gt CO<sub>2</sub>e",
          "FRA: 7.74 Gt CO<sub>2</sub>e",
          "DEU: 9.14 Gt CO<sub>2</sub>e",
          "GRC: 1.28 Gt CO<sub>2</sub>e",
          "HUN: 1.08 Gt CO<sub>2</sub>e",
          "IRL: 0.57 Gt CO<sub>2</sub>e",
          "ITA: 6.89 Gt CO<sub>2</sub>e",
          "LVA: 0.24 Gt CO<sub>2</sub>e",
          "LTU: 0.35 Gt CO<sub>2</sub>e",
          "LUX: 0.07 Gt CO<sub>2</sub>e",
          "MLT: 0.05 Gt CO<sub>2</sub>e",
          "NLD: 1.93 Gt CO<sub>2</sub>e",
          "POL: 4.28 Gt CO<sub>2</sub>e",
          "PRT: 1.22 Gt CO<sub>2</sub>e",
          "ROU: 2.31 Gt CO<sub>2</sub>e",
          "SVK: 0.63 Gt CO<sub>2</sub>e",
          "SVN: 0.23 Gt CO<sub>2</sub>e",
          "ESP: 5.46 Gt CO<sub>2</sub>e",
          "SWE: 1.14 Gt CO<sub>2</sub>e"
         ],
         "type": "choropleth",
         "z": [
          0.9730802774429321,
          1.2623631954193115,
          0.7841925024986267,
          0.4822954535484314,
          0.1403953731060028,
          1.2280617952346802,
          0.650699257850647,
          0.1474970430135727,
          0.6291255354881287,
          7.739294052124023,
          9.137182235717773,
          1.2751579284667969,
          1.0835216045379639,
          0.5668715238571167,
          6.8895649909973145,
          0.23551897704601288,
          0.35369715094566345,
          0.067074716091156,
          0.04839440807700157,
          1.9323924779891968,
          4.281440734863281,
          1.2188382148742676,
          2.306126117706299,
          0.6262631416320801,
          0.2340945601463318,
          5.457765102386475,
          1.1448893547058105
         ],
         "zmax": 12,
         "zmin": -12
        },
        {
         "colorbar": {
          "len": 1,
          "tickfont": {
           "size": 25
          },
          "tickvals": [
           -25,
           -20,
           -15,
           -10,
           -5,
           0,
           5,
           10,
           15,
           20,
           25
          ],
          "title": {
           "text": "GHG budget<br>2021-2100<br>(Gt CO<sub>2/sub>e)"
          },
          "x": 1
         },
         "colorscale": [
          [
           0,
           "rgb(103,0,31)"
          ],
          [
           0.1,
           "rgb(178,24,43)"
          ],
          [
           0.2,
           "rgb(214,96,77)"
          ],
          [
           0.3,
           "rgb(244,165,130)"
          ],
          [
           0.4,
           "rgb(253,219,199)"
          ],
          [
           0.5,
           "rgb(247,247,247)"
          ],
          [
           0.6,
           "rgb(209,229,240)"
          ],
          [
           0.7,
           "rgb(146,197,222)"
          ],
          [
           0.8,
           "rgb(67,147,195)"
          ],
          [
           0.9,
           "rgb(33,102,172)"
          ],
          [
           1,
           "rgb(5,48,97)"
          ]
         ],
         "geo": "geo3",
         "hovertemplate": "%{text}",
         "locationmode": "ISO-3",
         "locations": [
          "AUT",
          "BEL",
          "BGR",
          "HRV",
          "CYP",
          "CZE",
          "DNK",
          "EST",
          "FIN",
          "FRA",
          "DEU",
          "GRC",
          "HUN",
          "IRL",
          "ITA",
          "LVA",
          "LTU",
          "LUX",
          "MLT",
          "NLD",
          "POL",
          "PRT",
          "ROU",
          "SVK",
          "SVN",
          "ESP",
          "SWE"
         ],
         "marker": {
          "line": {
           "color": "grey",
           "width": 0.7
          }
         },
         "name": "",
         "showscale": false,
         "text": [
          "AUT: 1.07 Gt CO<sub>2</sub>e",
          "BEL: 1.69 Gt CO<sub>2</sub>e",
          "BGR: 0.57 Gt CO<sub>2</sub>e",
          "HRV: 0.40 Gt CO<sub>2</sub>e",
          "CYP: 0.13 Gt CO<sub>2</sub>e",
          "CZE: 1.53 Gt CO<sub>2</sub>e",
          "DNK: 0.68 Gt CO<sub>2</sub>e",
          "EST: 0.28 Gt CO<sub>2</sub>e",
          "FIN: 0.92 Gt CO<sub>2</sub>e",
          "FRA: 6.71 Gt CO<sub>2</sub>e",
          "DEU: 10.62 Gt CO<sub>2</sub>e",
          "GRC: 1.27 Gt CO<sub>2</sub>e",
          "HUN: 1.13 Gt CO<sub>2</sub>e",
          "IRL: 0.79 Gt CO<sub>2</sub>e",
          "ITA: 6.51 Gt CO<sub>2</sub>e",
          "LVA: 0.19 Gt CO<sub>2</sub>e",
          "LTU: 0.40 Gt CO<sub>2</sub>e",
          "LUX: 0.11 Gt CO<sub>2</sub>e",
          "MLT: 0.05 Gt CO<sub>2</sub>e",
          "NLD: 2.76 Gt CO<sub>2</sub>e",
          "POL: 5.29 Gt CO<sub>2</sub>e",
          "PRT: 1.04 Gt CO<sub>2</sub>e",
          "ROU: 1.85 Gt CO<sub>2</sub>e",
          "SVK: 0.67 Gt CO<sub>2</sub>e",
          "SVN: 0.26 Gt CO<sub>2</sub>e",
          "ESP: 5.05 Gt CO<sub>2</sub>e",
          "SWE: 0.92 Gt CO<sub>2</sub>e"
         ],
         "type": "choropleth",
         "z": [
          1.0713714361190796,
          1.6936256885528564,
          0.5689153671264648,
          0.3973485231399536,
          0.13164423406124115,
          1.5266679525375366,
          0.6820159554481506,
          0.27576741576194763,
          0.9204570055007935,
          6.707715034484863,
          10.619139671325684,
          1.2687739133834839,
          1.1317404508590698,
          0.7872508764266968,
          6.514131546020508,
          0.1875171661376953,
          0.3974003791809082,
          0.113169364631176,
          0.045582160353660583,
          2.7612380981445312,
          5.287883758544922,
          1.043274998664856,
          1.8483524322509766,
          0.6704511046409607,
          0.258525013923645,
          5.05025577545166,
          0.9186525940895081
         ],
         "zmax": 12,
         "zmin": -12
        },
        {
         "colorbar": {
          "len": 1,
          "tickfont": {
           "size": 25
          },
          "tickvals": [
           -25,
           -20,
           -15,
           -10,
           -5,
           0,
           5,
           10,
           15,
           20,
           25
          ],
          "title": {
           "text": "GHG budget<br>2021-2100<br>(Gt CO<sub>2/sub>e)"
          },
          "x": 1
         },
         "colorscale": [
          [
           0,
           "rgb(103,0,31)"
          ],
          [
           0.1,
           "rgb(178,24,43)"
          ],
          [
           0.2,
           "rgb(214,96,77)"
          ],
          [
           0.3,
           "rgb(244,165,130)"
          ],
          [
           0.4,
           "rgb(253,219,199)"
          ],
          [
           0.5,
           "rgb(247,247,247)"
          ],
          [
           0.6,
           "rgb(209,229,240)"
          ],
          [
           0.7,
           "rgb(146,197,222)"
          ],
          [
           0.8,
           "rgb(67,147,195)"
          ],
          [
           0.9,
           "rgb(33,102,172)"
          ],
          [
           1,
           "rgb(5,48,97)"
          ]
         ],
         "geo": "geo4",
         "hovertemplate": "%{text}",
         "locationmode": "ISO-3",
         "locations": [
          "AUT",
          "BEL",
          "BGR",
          "HRV",
          "CYP",
          "CZE",
          "DNK",
          "EST",
          "FIN",
          "FRA",
          "DEU",
          "GRC",
          "HUN",
          "IRL",
          "ITA",
          "LVA",
          "LTU",
          "LUX",
          "MLT",
          "NLD",
          "POL",
          "PRT",
          "ROU",
          "SVK",
          "SVN",
          "ESP",
          "SWE"
         ],
         "marker": {
          "line": {
           "color": "grey",
           "width": 0.7
          }
         },
         "name": "",
         "showscale": false,
         "text": [
          "AUT: -1.18 Gt CO<sub>2</sub>e",
          "BEL: -2.68 Gt CO<sub>2</sub>e",
          "BGR: -0.51 Gt CO<sub>2</sub>e",
          "HRV: -0.30 Gt CO<sub>2</sub>e",
          "CYP: -0.06 Gt CO<sub>2</sub>e",
          "CZE: -2.73 Gt CO<sub>2</sub>e",
          "DNK: -1.18 Gt CO<sub>2</sub>e",
          "EST: -0.56 Gt CO<sub>2</sub>e",
          "FIN: -1.10 Gt CO<sub>2</sub>e",
          "FRA: -4.64 Gt CO<sub>2</sub>e",
          "DEU: -19.15 Gt CO<sub>2</sub>e",
          "GRC: -1.80 Gt CO<sub>2</sub>e",
          "HUN: -1.22 Gt CO<sub>2</sub>e",
          "IRL: -1.24 Gt CO<sub>2</sub>e",
          "ITA: -6.88 Gt CO<sub>2</sub>e",
          "LVA: 0.13 Gt CO<sub>2</sub>e",
          "LTU: -0.45 Gt CO<sub>2</sub>e",
          "LUX: -0.22 Gt CO<sub>2</sub>e",
          "MLT: -0.03 Gt CO<sub>2</sub>e",
          "NLD: -5.31 Gt CO<sub>2</sub>e",
          "POL: -7.71 Gt CO<sub>2</sub>e",
          "PRT: -0.77 Gt CO<sub>2</sub>e",
          "ROU: -0.45 Gt CO<sub>2</sub>e",
          "SVK: -0.60 Gt CO<sub>2</sub>e",
          "SVN: -0.13 Gt CO<sub>2</sub>e",
          "ESP: -3.78 Gt CO<sub>2</sub>e",
          "SWE: -0.47 Gt CO<sub>2</sub>e"
         ],
         "type": "choropleth",
         "z": [
          -1.1753343343734741,
          -2.6799263954162598,
          -0.5069040656089783,
          -0.30207955837249756,
          -0.05913934484124184,
          -2.7276415824890137,
          -1.176509141921997,
          -0.5587176084518433,
          -1.098600149154663,
          -4.643812656402588,
          -19.14851188659668,
          -1.7958282232284546,
          -1.2212135791778564,
          -1.243245005607605,
          -6.880877494812012,
          0.13095612823963165,
          -0.4546465575695038,
          -0.2243204563856125,
          -0.028277184814214706,
          -5.30705451965332,
          -7.714890480041504,
          -0.7672664523124695,
          -0.4478320777416229,
          -0.601876974105835,
          -0.13168717920780182,
          -3.783449172973633,
          -0.47254809737205505
         ],
         "zmax": 12,
         "zmin": -12
        },
        {
         "colorbar": {
          "len": 1,
          "tickfont": {
           "size": 25
          },
          "tickvals": [
           -25,
           -20,
           -15,
           -10,
           -5,
           0,
           5,
           10,
           15,
           20,
           25
          ],
          "title": {
           "text": "GHG budget<br>2021-2100<br>(Gt CO<sub>2/sub>e)"
          },
          "x": 1
         },
         "colorscale": [
          [
           0,
           "rgb(103,0,31)"
          ],
          [
           0.1,
           "rgb(178,24,43)"
          ],
          [
           0.2,
           "rgb(214,96,77)"
          ],
          [
           0.3,
           "rgb(244,165,130)"
          ],
          [
           0.4,
           "rgb(253,219,199)"
          ],
          [
           0.5,
           "rgb(247,247,247)"
          ],
          [
           0.6,
           "rgb(209,229,240)"
          ],
          [
           0.7,
           "rgb(146,197,222)"
          ],
          [
           0.8,
           "rgb(67,147,195)"
          ],
          [
           0.9,
           "rgb(33,102,172)"
          ],
          [
           1,
           "rgb(5,48,97)"
          ]
         ],
         "geo": "geo5",
         "hovertemplate": "%{text}",
         "locationmode": "ISO-3",
         "locations": [
          "AUT",
          "BEL",
          "BGR",
          "HRV",
          "CYP",
          "CZE",
          "DNK",
          "EST",
          "FIN",
          "FRA",
          "DEU",
          "GRC",
          "HUN",
          "IRL",
          "ITA",
          "LVA",
          "LTU",
          "LUX",
          "MLT",
          "NLD",
          "POL",
          "PRT",
          "ROU",
          "SVK",
          "SVN",
          "ESP",
          "SWE"
         ],
         "marker": {
          "line": {
           "color": "grey",
           "width": 0.7
          }
         },
         "name": "",
         "showscale": false,
         "text": [
          "AUT: 0.03 Gt CO<sub>2</sub>e",
          "BEL: 0.37 Gt CO<sub>2</sub>e",
          "BGR: 0.23 Gt CO<sub>2</sub>e",
          "HRV: 0.31 Gt CO<sub>2</sub>e",
          "CYP: 0.10 Gt CO<sub>2</sub>e",
          "CZE: 0.06 Gt CO<sub>2</sub>e",
          "DNK: 0.15 Gt CO<sub>2</sub>e",
          "EST: 0.09 Gt CO<sub>2</sub>e",
          "FIN: 0.14 Gt CO<sub>2</sub>e",
          "FRA: 2.03 Gt CO<sub>2</sub>e",
          "DEU: 0.55 Gt CO<sub>2</sub>e",
          "GRC: 0.43 Gt CO<sub>2</sub>e",
          "HUN: 0.69 Gt CO<sub>2</sub>e",
          "IRL: 0.12 Gt CO<sub>2</sub>e",
          "ITA: 2.72 Gt CO<sub>2</sub>e",
          "LVA: 0.09 Gt CO<sub>2</sub>e",
          "LTU: 0.28 Gt CO<sub>2</sub>e",
          "LUX: -0.03 Gt CO<sub>2</sub>e",
          "MLT: 0.02 Gt CO<sub>2</sub>e",
          "NLD: 0.22 Gt CO<sub>2</sub>e",
          "POL: 3.04 Gt CO<sub>2</sub>e",
          "PRT: 0.55 Gt CO<sub>2</sub>e",
          "ROU: 1.17 Gt CO<sub>2</sub>e",
          "SVK: 0.00 Gt CO<sub>2</sub>e",
          "SVN: 0.10 Gt CO<sub>2</sub>e",
          "ESP: 2.65 Gt CO<sub>2</sub>e",
          "SWE: 0.08 Gt CO<sub>2</sub>e"
         ],
         "type": "choropleth",
         "z": [
          0.030463065952062607,
          0.3690691292285919,
          0.23392148315906525,
          0.3097662329673767,
          0.10223675519227982,
          0.06162475049495697,
          0.15483112633228302,
          0.09488049149513245,
          0.13730207085609436,
          2.0284173488616943,
          0.5461529493331909,
          0.43151137232780457,
          0.685918927192688,
          0.12476437538862228,
          2.7187345027923584,
          0.09001066535711288,
          0.27993735671043396,
          -0.02954368107020855,
          0.023613499477505684,
          0.2246609777212143,
          3.0419862270355225,
          0.5483235716819763,
          1.1693902015686035,
          0,
          0.09990637004375458,
          2.6531200408935547,
          0.08499986678361893
         ],
         "zmax": 12,
         "zmin": -12
        },
        {
         "colorbar": {
          "len": 1,
          "tickfont": {
           "size": 25
          },
          "tickvals": [
           -25,
           -20,
           -15,
           -10,
           -5,
           0,
           5,
           10,
           15,
           20,
           25
          ],
          "title": {
           "text": "GHG budget<br>2021-2100<br>(Gt CO<sub>2/sub>e)"
          },
          "x": 1
         },
         "colorscale": [
          [
           0,
           "rgb(103,0,31)"
          ],
          [
           0.1,
           "rgb(178,24,43)"
          ],
          [
           0.2,
           "rgb(214,96,77)"
          ],
          [
           0.3,
           "rgb(244,165,130)"
          ],
          [
           0.4,
           "rgb(253,219,199)"
          ],
          [
           0.5,
           "rgb(247,247,247)"
          ],
          [
           0.6,
           "rgb(209,229,240)"
          ],
          [
           0.7,
           "rgb(146,197,222)"
          ],
          [
           0.8,
           "rgb(67,147,195)"
          ],
          [
           0.9,
           "rgb(33,102,172)"
          ],
          [
           1,
           "rgb(5,48,97)"
          ]
         ],
         "geo": "geo6",
         "hovertemplate": "%{text}",
         "locationmode": "ISO-3",
         "locations": [
          "AUT",
          "BEL",
          "BGR",
          "HRV",
          "CYP",
          "CZE",
          "DNK",
          "EST",
          "FIN",
          "FRA",
          "DEU",
          "GRC",
          "HUN",
          "IRL",
          "ITA",
          "LVA",
          "LTU",
          "LUX",
          "MLT",
          "NLD",
          "POL",
          "PRT",
          "ROU",
          "SVK",
          "SVN",
          "ESP",
          "SWE"
         ],
         "marker": {
          "line": {
           "color": "grey",
           "width": 0.7
          }
         },
         "name": "",
         "showscale": false,
         "text": [
          "AUT: -9.38 Gt CO<sub>2</sub>e",
          "BEL: -12.63 Gt CO<sub>2</sub>e",
          "BGR: -1.63 Gt CO<sub>2</sub>e",
          "HRV: -0.87 Gt CO<sub>2</sub>e",
          "CYP: -0.42 Gt CO<sub>2</sub>e",
          "CZE: -7.68 Gt CO<sub>2</sub>e",
          "DNK: -9.26 Gt CO<sub>2</sub>e",
          "EST: -0.44 Gt CO<sub>2</sub>e",
          "FIN: -4.69 Gt CO<sub>2</sub>e",
          "FRA: -67.88 Gt CO<sub>2</sub>e",
          "DEU: -98.16 Gt CO<sub>2</sub>e",
          "GRC: -4.62 Gt CO<sub>2</sub>e",
          "HUN: -1.42 Gt CO<sub>2</sub>e",
          "IRL: -10.51 Gt CO<sub>2</sub>e",
          "ITA: -40.66 Gt CO<sub>2</sub>e",
          "LVA: -0.43 Gt CO<sub>2</sub>e",
          "LTU: -0.56 Gt CO<sub>2</sub>e",
          "LUX: -2.05 Gt CO<sub>2</sub>e",
          "MLT: -0.36 Gt CO<sub>2</sub>e",
          "NLD: -21.38 Gt CO<sub>2</sub>e",
          "POL: -7.38 Gt CO<sub>2</sub>e",
          "PRT: -4.06 Gt CO<sub>2</sub>e",
          "ROU: -1.60 Gt CO<sub>2</sub>e",
          "SVK: 0.00 Gt CO<sub>2</sub>e",
          "SVN: -1.14 Gt CO<sub>2</sub>e",
          "ESP: -27.68 Gt CO<sub>2</sub>e",
          "SWE: -14.46 Gt CO<sub>2</sub>e"
         ],
         "type": "choropleth",
         "z": [
          -9.375371932983398,
          -12.633443832397461,
          -1.634315013885498,
          -0.8710426092147827,
          -0.41918736696243286,
          -7.678481578826904,
          -9.263174057006836,
          -0.43612784147262573,
          -4.694821357727051,
          -67.88397216796875,
          -98.16105651855469,
          -4.615708827972412,
          -1.4203091859817505,
          -10.505287170410156,
          -40.6581916809082,
          -0.4295811057090759,
          -0.561869740486145,
          -2.0498077869415283,
          -0.3558428883552551,
          -21.3830623626709,
          -7.376690864562988,
          -4.064746856689453,
          -1.603029489517212,
          0,
          -1.1382025480270386,
          -27.683591842651367,
          -14.460403442382812
         ],
         "zmax": 12,
         "zmin": -12
        },
        {
         "featureidkey": "properties.NAME_3",
         "geo": "geo",
         "hoverinfo": "skip",
         "locations": [
          "AUT",
          "BEL",
          "BGR",
          "HRV",
          "CYP",
          "CZE",
          "DNK",
          "EST",
          "FIN",
          "FRA",
          "DEU",
          "GRC",
          "HUN",
          "IRL",
          "ITA",
          "LVA",
          "LTU",
          "LUX",
          "MLT",
          "NLD",
          "POL",
          "PRT",
          "ROU",
          "SVK",
          "SVN",
          "ESP",
          "SWE"
         ],
         "mode": "text",
         "showlegend": false,
         "text": [
          1.2,
          2,
          0.4,
          0.3,
          0.1,
          1.8,
          0.7,
          0.4,
          1.2,
          5.9,
          11.8,
          1.3,
          1.2,
          1,
          6.2,
          0.1,
          0.4,
          0.2,
          0,
          3.4,
          6.1,
          0.9,
          1.5,
          0.7,
          0.3,
          4.7,
          0.7
         ],
         "textfont": {
          "color": [
           "black",
           "black",
           "black",
           "black",
           "black",
           "black",
           "black",
           "black",
           "black",
           "black",
           "black",
           "black",
           "black",
           "black",
           "black",
           "black",
           "black",
           "black",
           "black",
           "black",
           "black",
           "black",
           "black",
           "black",
           "black",
           "black",
           "black"
          ],
          "size": 20
         },
         "type": "scattergeo"
        },
        {
         "featureidkey": "properties.NAME_3",
         "geo": "geo2",
         "hoverinfo": "skip",
         "locations": [
          "AUT",
          "BEL",
          "BGR",
          "HRV",
          "CYP",
          "CZE",
          "DNK",
          "EST",
          "FIN",
          "FRA",
          "DEU",
          "GRC",
          "HUN",
          "IRL",
          "ITA",
          "LVA",
          "LTU",
          "LUX",
          "MLT",
          "NLD",
          "POL",
          "PRT",
          "ROU",
          "SVK",
          "SVN",
          "ESP",
          "SWE"
         ],
         "mode": "text",
         "showlegend": false,
         "text": [
          1,
          1.3,
          0.8,
          0.5,
          0.1,
          1.2,
          0.7,
          0.1,
          0.6,
          7.7,
          9.1,
          1.3,
          1.1,
          0.6,
          6.9,
          0.2,
          0.4,
          0.1,
          0,
          1.9,
          4.3,
          1.2,
          2.3,
          0.6,
          0.2,
          5.5,
          1.1
         ],
         "textfont": {
          "color": [
           "black",
           "black",
           "black",
           "black",
           "black",
           "black",
           "black",
           "black",
           "black",
           "black",
           "black",
           "black",
           "black",
           "black",
           "black",
           "black",
           "black",
           "black",
           "black",
           "black",
           "black",
           "black",
           "black",
           "black",
           "black",
           "black",
           "black"
          ],
          "size": 20
         },
         "type": "scattergeo"
        },
        {
         "featureidkey": "properties.NAME_3",
         "geo": "geo3",
         "hoverinfo": "skip",
         "locations": [
          "AUT",
          "BEL",
          "BGR",
          "HRV",
          "CYP",
          "CZE",
          "DNK",
          "EST",
          "FIN",
          "FRA",
          "DEU",
          "GRC",
          "HUN",
          "IRL",
          "ITA",
          "LVA",
          "LTU",
          "LUX",
          "MLT",
          "NLD",
          "POL",
          "PRT",
          "ROU",
          "SVK",
          "SVN",
          "ESP",
          "SWE"
         ],
         "mode": "text",
         "showlegend": false,
         "text": [
          1.1,
          1.7,
          0.6,
          0.4,
          0.1,
          1.5,
          0.7,
          0.3,
          0.9,
          6.7,
          10.6,
          1.3,
          1.1,
          0.8,
          6.5,
          0.2,
          0.4,
          0.1,
          0,
          2.8,
          5.3,
          1,
          1.8,
          0.7,
          0.3,
          5.1,
          0.9
         ],
         "textfont": {
          "color": [
           "black",
           "black",
           "black",
           "black",
           "black",
           "black",
           "black",
           "black",
           "black",
           "black",
           "black",
           "black",
           "black",
           "black",
           "black",
           "black",
           "black",
           "black",
           "black",
           "black",
           "black",
           "black",
           "black",
           "black",
           "black",
           "black",
           "black"
          ],
          "size": 20
         },
         "type": "scattergeo"
        },
        {
         "featureidkey": "properties.NAME_3",
         "geo": "geo4",
         "hoverinfo": "skip",
         "locations": [
          "AUT",
          "BEL",
          "BGR",
          "HRV",
          "CYP",
          "CZE",
          "DNK",
          "EST",
          "FIN",
          "FRA",
          "DEU",
          "GRC",
          "HUN",
          "IRL",
          "ITA",
          "LVA",
          "LTU",
          "LUX",
          "MLT",
          "NLD",
          "POL",
          "PRT",
          "ROU",
          "SVK",
          "SVN",
          "ESP",
          "SWE"
         ],
         "mode": "text",
         "showlegend": false,
         "text": [
          -1.2,
          -2.7,
          -0.5,
          -0.3,
          -0.1,
          -2.7,
          -1.2,
          -0.6,
          -1.1,
          -4.6,
          -19.1,
          -1.8,
          -1.2,
          -1.2,
          -6.9,
          0.1,
          -0.5,
          -0.2,
          0,
          -5.3,
          -7.7,
          -0.8,
          -0.4,
          -0.6,
          -0.1,
          -3.8,
          -0.5
         ],
         "textfont": {
          "color": [
           "black",
           "black",
           "black",
           "black",
           "black",
           "black",
           "black",
           "black",
           "black",
           "black",
           "black",
           "black",
           "black",
           "black",
           "black",
           "black",
           "black",
           "black",
           "black",
           "black",
           "black",
           "black",
           "black",
           "black",
           "black",
           "black",
           "black"
          ],
          "size": 20
         },
         "type": "scattergeo"
        },
        {
         "featureidkey": "properties.NAME_3",
         "geo": "geo5",
         "hoverinfo": "skip",
         "locations": [
          "AUT",
          "BEL",
          "BGR",
          "HRV",
          "CYP",
          "CZE",
          "DNK",
          "EST",
          "FIN",
          "FRA",
          "DEU",
          "GRC",
          "HUN",
          "IRL",
          "ITA",
          "LVA",
          "LTU",
          "LUX",
          "MLT",
          "NLD",
          "POL",
          "PRT",
          "ROU",
          "SVK",
          "SVN",
          "ESP",
          "SWE"
         ],
         "mode": "text",
         "showlegend": false,
         "text": [
          0,
          0.4,
          0.2,
          0.3,
          0.1,
          0.1,
          0.2,
          0.1,
          0.1,
          2,
          0.5,
          0.4,
          0.7,
          0.1,
          2.7,
          0.1,
          0.3,
          0,
          0,
          0.2,
          3,
          0.5,
          1.2,
          0,
          0.1,
          2.7,
          0.1
         ],
         "textfont": {
          "color": [
           "black",
           "black",
           "black",
           "black",
           "black",
           "black",
           "black",
           "black",
           "black",
           "black",
           "black",
           "black",
           "black",
           "black",
           "black",
           "black",
           "black",
           "black",
           "black",
           "black",
           "black",
           "black",
           "black",
           "black",
           "black",
           "black",
           "black"
          ],
          "size": 20
         },
         "type": "scattergeo"
        },
        {
         "featureidkey": "properties.NAME_3",
         "geo": "geo6",
         "hoverinfo": "skip",
         "locations": [
          "AUT",
          "BEL",
          "BGR",
          "HRV",
          "CYP",
          "CZE",
          "DNK",
          "EST",
          "FIN",
          "FRA",
          "DEU",
          "GRC",
          "HUN",
          "IRL",
          "ITA",
          "LVA",
          "LTU",
          "LUX",
          "MLT",
          "NLD",
          "POL",
          "PRT",
          "ROU",
          "SVK",
          "SVN",
          "ESP",
          "SWE"
         ],
         "mode": "text",
         "showlegend": false,
         "text": [
          -9.4,
          -12.6,
          -1.6,
          -0.9,
          -0.4,
          -7.7,
          -9.3,
          -0.4,
          -4.7,
          -67.9,
          -98.2,
          -4.6,
          -1.4,
          -10.5,
          -40.7,
          -0.4,
          -0.6,
          -2,
          -0.4,
          -21.4,
          -7.4,
          -4.1,
          -1.6,
          0,
          -1.1,
          -27.7,
          -14.5
         ],
         "textfont": {
          "color": [
           "black",
           "black",
           "black",
           "black",
           "black",
           "black",
           "black",
           "black",
           "black",
           "black",
           "black",
           "black",
           "black",
           "black",
           "black",
           "black",
           "black",
           "black",
           "black",
           "black",
           "black",
           "black",
           "black",
           "black",
           "black",
           "black",
           "black"
          ],
          "size": 20
         },
         "type": "scattergeo"
        }
       ],
       "layout": {
        "annotations": [
         {
          "align": "left",
          "ax": 0,
          "ay": 0,
          "font": {
           "color": "black",
           "size": 25
          },
          "showarrow": false,
          "text": "<b>(a) Grandfathering</b>",
          "x": 0.07,
          "xref": "paper",
          "y": 0.96,
          "yref": "paper"
         },
         {
          "align": "left",
          "ax": 0,
          "ay": 0,
          "font": {
           "color": "black",
           "size": 25
          },
          "showarrow": false,
          "text": "<b>(b) Per Capita</b>",
          "x": 0.47,
          "xref": "paper",
          "y": 0.96,
          "yref": "paper"
         },
         {
          "align": "left",
          "ax": 0,
          "ay": 0,
          "font": {
           "color": "black",
           "size": 25
          },
          "showarrow": false,
          "text": "<b>(c) Per Capita Convergence</b>",
          "x": 0.9,
          "xref": "paper",
          "y": 0.96,
          "yref": "paper"
         },
         {
          "align": "left",
          "ax": 0,
          "ay": 0,
          "font": {
           "color": "black",
           "size": 25
          },
          "showarrow": false,
          "text": "<b>(d) Equal Cumulative per Capita</b>",
          "x": 0.07,
          "xref": "paper",
          "y": 0.45,
          "yref": "paper"
         },
         {
          "align": "left",
          "ax": 0,
          "ay": 0,
          "font": {
           "color": "black",
           "size": 25
          },
          "showarrow": false,
          "text": "<b>(e) Ability to Pay</b>",
          "x": 0.48,
          "xref": "paper",
          "y": 0.45,
          "yref": "paper"
         },
         {
          "align": "left",
          "ax": 0,
          "ay": 0,
          "font": {
           "color": "black",
           "size": 25
          },
          "showarrow": false,
          "text": "<b>(f) Greenhouse Development Rights</b>",
          "x": 0.95,
          "xref": "paper",
          "y": 0.45,
          "yref": "paper"
         }
        ],
        "geo": {
         "domain": {
          "x": [
           0,
           0.3333333333333333
          ],
          "y": [
           0.5,
           1
          ]
         },
         "lakecolor": "rgb(255, 255, 255)",
         "lataxis": {
          "range": [
           30,
           75
          ]
         },
         "lonaxis": {
          "range": [
           -20,
           40
          ]
         },
         "projection": {
          "type": "natural earth"
         },
         "resolution": 50,
         "scope": "europe",
         "showcoastlines": false,
         "showcountries": false,
         "showlakes": true,
         "visible": true
        },
        "geo2": {
         "domain": {
          "x": [
           0.3333333333333333,
           0.6666666666666666
          ],
          "y": [
           0.5,
           1
          ]
         },
         "lakecolor": "rgb(255, 255, 255)",
         "lataxis": {
          "range": [
           30,
           75
          ]
         },
         "lonaxis": {
          "range": [
           -20,
           40
          ]
         },
         "projection": {
          "type": "natural earth"
         },
         "resolution": 50,
         "scope": "europe",
         "showcoastlines": false,
         "showcountries": false,
         "showlakes": true,
         "visible": true
        },
        "geo3": {
         "domain": {
          "x": [
           0.6666666666666666,
           1
          ],
          "y": [
           0.5,
           1
          ]
         },
         "lakecolor": "rgb(255, 255, 255)",
         "lataxis": {
          "range": [
           30,
           75
          ]
         },
         "lonaxis": {
          "range": [
           -20,
           40
          ]
         },
         "projection": {
          "type": "natural earth"
         },
         "resolution": 50,
         "scope": "europe",
         "showcoastlines": false,
         "showcountries": false,
         "showlakes": true,
         "visible": true
        },
        "geo4": {
         "domain": {
          "x": [
           0,
           0.3333333333333333
          ],
          "y": [
           0,
           0.5
          ]
         },
         "lakecolor": "rgb(255, 255, 255)",
         "lataxis": {
          "range": [
           30,
           75
          ]
         },
         "lonaxis": {
          "range": [
           -20,
           40
          ]
         },
         "projection": {
          "type": "natural earth"
         },
         "resolution": 50,
         "scope": "europe",
         "showcoastlines": false,
         "showcountries": false,
         "showlakes": true,
         "visible": true
        },
        "geo5": {
         "domain": {
          "x": [
           0.3333333333333333,
           0.6666666666666666
          ],
          "y": [
           0,
           0.5
          ]
         },
         "lakecolor": "rgb(255, 255, 255)",
         "lataxis": {
          "range": [
           30,
           75
          ]
         },
         "lonaxis": {
          "range": [
           -20,
           40
          ]
         },
         "projection": {
          "type": "natural earth"
         },
         "resolution": 50,
         "scope": "europe",
         "showcoastlines": false,
         "showcountries": false,
         "showlakes": true,
         "visible": true
        },
        "geo6": {
         "domain": {
          "x": [
           0.6666666666666666,
           1
          ],
          "y": [
           0,
           0.5
          ]
         },
         "lakecolor": "rgb(255, 255, 255)",
         "lataxis": {
          "range": [
           30,
           75
          ]
         },
         "lonaxis": {
          "range": [
           -20,
           40
          ]
         },
         "projection": {
          "type": "natural earth"
         },
         "resolution": 50,
         "scope": "europe",
         "showcoastlines": false,
         "showcountries": false,
         "showlakes": true,
         "visible": true
        },
        "height": 1200,
        "margin": {
         "b": 0,
         "l": 0,
         "r": 0,
         "t": 0
        },
        "template": {
         "data": {
          "bar": [
           {
            "error_x": {
             "color": "#2a3f5f"
            },
            "error_y": {
             "color": "#2a3f5f"
            },
            "marker": {
             "line": {
              "color": "#E5ECF6",
              "width": 0.5
             },
             "pattern": {
              "fillmode": "overlay",
              "size": 10,
              "solidity": 0.2
             }
            },
            "type": "bar"
           }
          ],
          "barpolar": [
           {
            "marker": {
             "line": {
              "color": "#E5ECF6",
              "width": 0.5
             },
             "pattern": {
              "fillmode": "overlay",
              "size": 10,
              "solidity": 0.2
             }
            },
            "type": "barpolar"
           }
          ],
          "carpet": [
           {
            "aaxis": {
             "endlinecolor": "#2a3f5f",
             "gridcolor": "white",
             "linecolor": "white",
             "minorgridcolor": "white",
             "startlinecolor": "#2a3f5f"
            },
            "baxis": {
             "endlinecolor": "#2a3f5f",
             "gridcolor": "white",
             "linecolor": "white",
             "minorgridcolor": "white",
             "startlinecolor": "#2a3f5f"
            },
            "type": "carpet"
           }
          ],
          "choropleth": [
           {
            "colorbar": {
             "outlinewidth": 0,
             "ticks": ""
            },
            "type": "choropleth"
           }
          ],
          "contour": [
           {
            "colorbar": {
             "outlinewidth": 0,
             "ticks": ""
            },
            "colorscale": [
             [
              0,
              "#0d0887"
             ],
             [
              0.1111111111111111,
              "#46039f"
             ],
             [
              0.2222222222222222,
              "#7201a8"
             ],
             [
              0.3333333333333333,
              "#9c179e"
             ],
             [
              0.4444444444444444,
              "#bd3786"
             ],
             [
              0.5555555555555556,
              "#d8576b"
             ],
             [
              0.6666666666666666,
              "#ed7953"
             ],
             [
              0.7777777777777778,
              "#fb9f3a"
             ],
             [
              0.8888888888888888,
              "#fdca26"
             ],
             [
              1,
              "#f0f921"
             ]
            ],
            "type": "contour"
           }
          ],
          "contourcarpet": [
           {
            "colorbar": {
             "outlinewidth": 0,
             "ticks": ""
            },
            "type": "contourcarpet"
           }
          ],
          "heatmap": [
           {
            "colorbar": {
             "outlinewidth": 0,
             "ticks": ""
            },
            "colorscale": [
             [
              0,
              "#0d0887"
             ],
             [
              0.1111111111111111,
              "#46039f"
             ],
             [
              0.2222222222222222,
              "#7201a8"
             ],
             [
              0.3333333333333333,
              "#9c179e"
             ],
             [
              0.4444444444444444,
              "#bd3786"
             ],
             [
              0.5555555555555556,
              "#d8576b"
             ],
             [
              0.6666666666666666,
              "#ed7953"
             ],
             [
              0.7777777777777778,
              "#fb9f3a"
             ],
             [
              0.8888888888888888,
              "#fdca26"
             ],
             [
              1,
              "#f0f921"
             ]
            ],
            "type": "heatmap"
           }
          ],
          "heatmapgl": [
           {
            "colorbar": {
             "outlinewidth": 0,
             "ticks": ""
            },
            "colorscale": [
             [
              0,
              "#0d0887"
             ],
             [
              0.1111111111111111,
              "#46039f"
             ],
             [
              0.2222222222222222,
              "#7201a8"
             ],
             [
              0.3333333333333333,
              "#9c179e"
             ],
             [
              0.4444444444444444,
              "#bd3786"
             ],
             [
              0.5555555555555556,
              "#d8576b"
             ],
             [
              0.6666666666666666,
              "#ed7953"
             ],
             [
              0.7777777777777778,
              "#fb9f3a"
             ],
             [
              0.8888888888888888,
              "#fdca26"
             ],
             [
              1,
              "#f0f921"
             ]
            ],
            "type": "heatmapgl"
           }
          ],
          "histogram": [
           {
            "marker": {
             "pattern": {
              "fillmode": "overlay",
              "size": 10,
              "solidity": 0.2
             }
            },
            "type": "histogram"
           }
          ],
          "histogram2d": [
           {
            "colorbar": {
             "outlinewidth": 0,
             "ticks": ""
            },
            "colorscale": [
             [
              0,
              "#0d0887"
             ],
             [
              0.1111111111111111,
              "#46039f"
             ],
             [
              0.2222222222222222,
              "#7201a8"
             ],
             [
              0.3333333333333333,
              "#9c179e"
             ],
             [
              0.4444444444444444,
              "#bd3786"
             ],
             [
              0.5555555555555556,
              "#d8576b"
             ],
             [
              0.6666666666666666,
              "#ed7953"
             ],
             [
              0.7777777777777778,
              "#fb9f3a"
             ],
             [
              0.8888888888888888,
              "#fdca26"
             ],
             [
              1,
              "#f0f921"
             ]
            ],
            "type": "histogram2d"
           }
          ],
          "histogram2dcontour": [
           {
            "colorbar": {
             "outlinewidth": 0,
             "ticks": ""
            },
            "colorscale": [
             [
              0,
              "#0d0887"
             ],
             [
              0.1111111111111111,
              "#46039f"
             ],
             [
              0.2222222222222222,
              "#7201a8"
             ],
             [
              0.3333333333333333,
              "#9c179e"
             ],
             [
              0.4444444444444444,
              "#bd3786"
             ],
             [
              0.5555555555555556,
              "#d8576b"
             ],
             [
              0.6666666666666666,
              "#ed7953"
             ],
             [
              0.7777777777777778,
              "#fb9f3a"
             ],
             [
              0.8888888888888888,
              "#fdca26"
             ],
             [
              1,
              "#f0f921"
             ]
            ],
            "type": "histogram2dcontour"
           }
          ],
          "mesh3d": [
           {
            "colorbar": {
             "outlinewidth": 0,
             "ticks": ""
            },
            "type": "mesh3d"
           }
          ],
          "parcoords": [
           {
            "line": {
             "colorbar": {
              "outlinewidth": 0,
              "ticks": ""
             }
            },
            "type": "parcoords"
           }
          ],
          "pie": [
           {
            "automargin": true,
            "type": "pie"
           }
          ],
          "scatter": [
           {
            "fillpattern": {
             "fillmode": "overlay",
             "size": 10,
             "solidity": 0.2
            },
            "type": "scatter"
           }
          ],
          "scatter3d": [
           {
            "line": {
             "colorbar": {
              "outlinewidth": 0,
              "ticks": ""
             }
            },
            "marker": {
             "colorbar": {
              "outlinewidth": 0,
              "ticks": ""
             }
            },
            "type": "scatter3d"
           }
          ],
          "scattercarpet": [
           {
            "marker": {
             "colorbar": {
              "outlinewidth": 0,
              "ticks": ""
             }
            },
            "type": "scattercarpet"
           }
          ],
          "scattergeo": [
           {
            "marker": {
             "colorbar": {
              "outlinewidth": 0,
              "ticks": ""
             }
            },
            "type": "scattergeo"
           }
          ],
          "scattergl": [
           {
            "marker": {
             "colorbar": {
              "outlinewidth": 0,
              "ticks": ""
             }
            },
            "type": "scattergl"
           }
          ],
          "scattermapbox": [
           {
            "marker": {
             "colorbar": {
              "outlinewidth": 0,
              "ticks": ""
             }
            },
            "type": "scattermapbox"
           }
          ],
          "scatterpolar": [
           {
            "marker": {
             "colorbar": {
              "outlinewidth": 0,
              "ticks": ""
             }
            },
            "type": "scatterpolar"
           }
          ],
          "scatterpolargl": [
           {
            "marker": {
             "colorbar": {
              "outlinewidth": 0,
              "ticks": ""
             }
            },
            "type": "scatterpolargl"
           }
          ],
          "scatterternary": [
           {
            "marker": {
             "colorbar": {
              "outlinewidth": 0,
              "ticks": ""
             }
            },
            "type": "scatterternary"
           }
          ],
          "surface": [
           {
            "colorbar": {
             "outlinewidth": 0,
             "ticks": ""
            },
            "colorscale": [
             [
              0,
              "#0d0887"
             ],
             [
              0.1111111111111111,
              "#46039f"
             ],
             [
              0.2222222222222222,
              "#7201a8"
             ],
             [
              0.3333333333333333,
              "#9c179e"
             ],
             [
              0.4444444444444444,
              "#bd3786"
             ],
             [
              0.5555555555555556,
              "#d8576b"
             ],
             [
              0.6666666666666666,
              "#ed7953"
             ],
             [
              0.7777777777777778,
              "#fb9f3a"
             ],
             [
              0.8888888888888888,
              "#fdca26"
             ],
             [
              1,
              "#f0f921"
             ]
            ],
            "type": "surface"
           }
          ],
          "table": [
           {
            "cells": {
             "fill": {
              "color": "#EBF0F8"
             },
             "line": {
              "color": "white"
             }
            },
            "header": {
             "fill": {
              "color": "#C8D4E3"
             },
             "line": {
              "color": "white"
             }
            },
            "type": "table"
           }
          ]
         },
         "layout": {
          "annotationdefaults": {
           "arrowcolor": "#2a3f5f",
           "arrowhead": 0,
           "arrowwidth": 1
          },
          "autotypenumbers": "strict",
          "coloraxis": {
           "colorbar": {
            "outlinewidth": 0,
            "ticks": ""
           }
          },
          "colorscale": {
           "diverging": [
            [
             0,
             "#8e0152"
            ],
            [
             0.1,
             "#c51b7d"
            ],
            [
             0.2,
             "#de77ae"
            ],
            [
             0.3,
             "#f1b6da"
            ],
            [
             0.4,
             "#fde0ef"
            ],
            [
             0.5,
             "#f7f7f7"
            ],
            [
             0.6,
             "#e6f5d0"
            ],
            [
             0.7,
             "#b8e186"
            ],
            [
             0.8,
             "#7fbc41"
            ],
            [
             0.9,
             "#4d9221"
            ],
            [
             1,
             "#276419"
            ]
           ],
           "sequential": [
            [
             0,
             "#0d0887"
            ],
            [
             0.1111111111111111,
             "#46039f"
            ],
            [
             0.2222222222222222,
             "#7201a8"
            ],
            [
             0.3333333333333333,
             "#9c179e"
            ],
            [
             0.4444444444444444,
             "#bd3786"
            ],
            [
             0.5555555555555556,
             "#d8576b"
            ],
            [
             0.6666666666666666,
             "#ed7953"
            ],
            [
             0.7777777777777778,
             "#fb9f3a"
            ],
            [
             0.8888888888888888,
             "#fdca26"
            ],
            [
             1,
             "#f0f921"
            ]
           ],
           "sequentialminus": [
            [
             0,
             "#0d0887"
            ],
            [
             0.1111111111111111,
             "#46039f"
            ],
            [
             0.2222222222222222,
             "#7201a8"
            ],
            [
             0.3333333333333333,
             "#9c179e"
            ],
            [
             0.4444444444444444,
             "#bd3786"
            ],
            [
             0.5555555555555556,
             "#d8576b"
            ],
            [
             0.6666666666666666,
             "#ed7953"
            ],
            [
             0.7777777777777778,
             "#fb9f3a"
            ],
            [
             0.8888888888888888,
             "#fdca26"
            ],
            [
             1,
             "#f0f921"
            ]
           ]
          },
          "colorway": [
           "#636efa",
           "#EF553B",
           "#00cc96",
           "#ab63fa",
           "#FFA15A",
           "#19d3f3",
           "#FF6692",
           "#B6E880",
           "#FF97FF",
           "#FECB52"
          ],
          "font": {
           "color": "#2a3f5f"
          },
          "geo": {
           "bgcolor": "white",
           "lakecolor": "white",
           "landcolor": "#E5ECF6",
           "showlakes": true,
           "showland": true,
           "subunitcolor": "white"
          },
          "hoverlabel": {
           "align": "left"
          },
          "hovermode": "closest",
          "mapbox": {
           "style": "light"
          },
          "paper_bgcolor": "white",
          "plot_bgcolor": "#E5ECF6",
          "polar": {
           "angularaxis": {
            "gridcolor": "white",
            "linecolor": "white",
            "ticks": ""
           },
           "bgcolor": "#E5ECF6",
           "radialaxis": {
            "gridcolor": "white",
            "linecolor": "white",
            "ticks": ""
           }
          },
          "scene": {
           "xaxis": {
            "backgroundcolor": "#E5ECF6",
            "gridcolor": "white",
            "gridwidth": 2,
            "linecolor": "white",
            "showbackground": true,
            "ticks": "",
            "zerolinecolor": "white"
           },
           "yaxis": {
            "backgroundcolor": "#E5ECF6",
            "gridcolor": "white",
            "gridwidth": 2,
            "linecolor": "white",
            "showbackground": true,
            "ticks": "",
            "zerolinecolor": "white"
           },
           "zaxis": {
            "backgroundcolor": "#E5ECF6",
            "gridcolor": "white",
            "gridwidth": 2,
            "linecolor": "white",
            "showbackground": true,
            "ticks": "",
            "zerolinecolor": "white"
           }
          },
          "shapedefaults": {
           "line": {
            "color": "#2a3f5f"
           }
          },
          "ternary": {
           "aaxis": {
            "gridcolor": "white",
            "linecolor": "white",
            "ticks": ""
           },
           "baxis": {
            "gridcolor": "white",
            "linecolor": "white",
            "ticks": ""
           },
           "bgcolor": "#E5ECF6",
           "caxis": {
            "gridcolor": "white",
            "linecolor": "white",
            "ticks": ""
           }
          },
          "title": {
           "x": 0.05
          },
          "xaxis": {
           "automargin": true,
           "gridcolor": "white",
           "linecolor": "white",
           "ticks": "",
           "title": {
            "standoff": 15
           },
           "zerolinecolor": "white",
           "zerolinewidth": 2
          },
          "yaxis": {
           "automargin": true,
           "gridcolor": "white",
           "linecolor": "white",
           "ticks": "",
           "title": {
            "standoff": 15
           },
           "zerolinecolor": "white",
           "zerolinewidth": 2
          }
         }
        },
        "width": 2300
       }
      }
     },
     "metadata": {},
     "output_type": "display_data"
    }
   ],
   "source": [
    "fig = make_subplots(rows=2, cols=3, #subplot_titles=('Grandfathering (GF)',\n",
    "                                                    # 'Per Capita (PC)',\n",
    "                                                    # 'Per Capita Convergence (PCC)',\n",
    "                                                    # 'Equal Cumulative Per Capita',\n",
    "                                                    # 'Ability to pay (AP)',\n",
    "                                                    # 'Greenhouse Development Rights'), \n",
    "                                    specs=[[{'type': 'choropleth'}, {'type': 'choropleth'}, {'type': 'choropleth'}],\n",
    "                                           [{'type': 'choropleth'}, {'type': 'choropleth'}, {'type': 'choropleth'}]],\n",
    "                                    horizontal_spacing = 0,\n",
    "                                    vertical_spacing=0)\n",
    "\n",
    "colorbar_abs = dict(len=1, x=1, tickvals = [0, 1, 2, 3], ticktext = ['1', '10', '100', '1000'])\n",
    "colorbar_pc = dict(len=1, x=1)\n",
    "\n",
    "for var_i, var in enumerate(rules):\n",
    "    if var_i == 0:\n",
    "        cm= True\n",
    "    else:\n",
    "        cm= False\n",
    "    fig.add_trace(\n",
    "        go.Choropleth(\n",
    "        locations=group_eu,\n",
    "        z = data[var],\n",
    "        locationmode = 'ISO-3',\n",
    "        colorscale = 'RdBu',\n",
    "        zmax = 12,\n",
    "        zmin = -12,\n",
    "        text = [str(r)+\": {:0.2f} Gt CO<sub>2</sub>e\".format(float(data.sel(Region=r)[var])) for r_i, r in enumerate(group_eu)],\n",
    "        hovertemplate  = '%{text}',\n",
    "        name=\"\",\n",
    "        marker_line_color='grey', \n",
    "        marker_line_width=0.7,\n",
    "        colorbar=dict(len=1, x=1, tickvals = np.arange(-25, 25+0.1, 5), title={\"text\":\"GHG budget<br>2021-2100<br>(Gt CO<sub>2/sub>e)\"}, tickfont={'size': 25}),\n",
    "        showscale=cm\n",
    "    ), [1, 1, 1, 2, 2, 2][var_i], [1, 2, 3, 1, 2, 3][var_i])\n",
    "# fig.update_geos(showocean=True, oceancolor=\"white\")\n",
    "# fig.update_geos(showlakes=True, lakecolor=\"white\")\n",
    "\n",
    "# limite map scope to USA 'africa', 'asia', 'europe', 'north america', 'south america', 'usa', 'world'\n",
    "fig.update_layout(\n",
    "    geo1 = dict(scope='europe', \n",
    "                showlakes=False,\n",
    "                lakecolor='rgb(255, 255, 255)',\n",
    "                showcoastlines=False,),\n",
    "    geo2 = dict(scope='europe', \n",
    "                showlakes=False,\n",
    "                lakecolor='rgb(255, 255, 255)',\n",
    "                showcoastlines=False,),\n",
    "    geo3 = dict(scope='europe', \n",
    "                showlakes=False,\n",
    "                lakecolor='rgb(255, 255, 255)',\n",
    "                showcoastlines=False,),\n",
    "    geo4 = dict(scope='europe', \n",
    "                showlakes=False,\n",
    "                lakecolor='rgb(255, 255, 255)',\n",
    "                showcoastlines=False,),\n",
    "    geo5 = dict(scope='europe', \n",
    "                showlakes=False,\n",
    "                lakecolor='rgb(255, 255, 255)',\n",
    "                showcoastlines=False,),\n",
    "    geo6 = dict(scope='europe', \n",
    "                showlakes=False,\n",
    "                showcoastlines=False,),\n",
    ")\n",
    "\n",
    "mn = np.min(np.array([float(data[rules].min()[r]) for r in rules]))\n",
    "mx = np.max(np.array([float(data[rules].max()[r]) for r in rules]))\n",
    "for var_i, var in enumerate(rules):\n",
    "    vals = np.array(data[var]).astype(float)\n",
    "    vals_i = (vals + mn)**1.2\n",
    "    vals_n = 14*(vals - mn)/(mx - mn)+7\n",
    "    vals_boolean = np.copy(vals)\n",
    "    vals_boolean[vals >= 0] = 1\n",
    "    vals_boolean[vals < 0] = 0\n",
    "    vals_boolean = vals_boolean.astype(int)\n",
    "    \n",
    "    fig.add_scattergeo(\n",
    "                locations = group_eu,\n",
    "                text = vals.round(1),\n",
    "                featureidkey=\"properties.NAME_3\",\n",
    "                mode = 'text',\n",
    "                hoverinfo='skip',\n",
    "                showlegend=False,\n",
    "                textfont={'size': 20,\n",
    "                          'color': np.array(['black', 'black'])[vals_boolean]},\n",
    "                row=[1, 1, 1, 2, 2, 2][var_i],\n",
    "                col=[1, 2, 3, 1, 2, 3][var_i])\n",
    "\n",
    "fig.update_geos(visible=False,\n",
    "                showlakes=True,\n",
    "                lakecolor='rgb(255, 255, 255)',\n",
    "                projection_type='natural earth',\n",
    "                resolution=50,\n",
    "                lataxis_range=[30,75], lonaxis_range=[-20, 40],\n",
    "                showcoastlines=False,)\n",
    "\n",
    "#fig.update_traces(showscale=False)\n",
    "fig.update_layout(height=1200, width=2300)\n",
    "fig.update_geos(visible=True, showcountries=False)#fitbounds=\"locations\",\n",
    "fig.update_layout(margin={\"r\":0,\"t\":0,\"l\":0,\"b\":0})\n",
    "\n",
    "fig.add_annotation(xref='paper', yref='paper',ax=0, align='left', ay=-0, showarrow=False, font=dict(color='black', size=25),\n",
    "                   y=0.96, x=0.07, text=\"<b>(a) Grandfathering</b>\")\n",
    "fig.add_annotation(xref='paper', yref='paper',ax=0, align='left', ay=-0, showarrow=False, font=dict(color='black', size=25),\n",
    "                   y=0.96, x=0.47, text=\"<b>(b) Per Capita</b>\")\n",
    "fig.add_annotation(xref='paper', yref='paper',ax=0, align='left', ay=-0, showarrow=False, font=dict(color='black', size=25),\n",
    "                   y=0.96, x=0.90, text=\"<b>(c) Per Capita Convergence</b>\")\n",
    "fig.add_annotation(xref='paper', yref='paper',ax=0, align='left', ay=-0, showarrow=False, font=dict(color='black', size=25),\n",
    "                   y=0.45, x=0.07, text=\"<b>(d) Equal Cumulative per Capita</b>\")\n",
    "fig.add_annotation(xref='paper', yref='paper',ax=0, align='left', ay=-0, showarrow=False, font=dict(color='black', size=25),\n",
    "                   y=0.45, x=0.48, text=\"<b>(e) Ability to Pay</b>\")\n",
    "fig.add_annotation(xref='paper', yref='paper',ax=0, align='left', ay=-0, showarrow=False, font=dict(color='black', size=25),\n",
    "                   y=0.45, x=0.95, text=\"<b>(f) Greenhouse Development Rights</b>\")\n",
    "fig_europe = fig\n",
    "fig.show()"
   ]
  },
  {
   "cell_type": "code",
   "execution_count": 11,
   "metadata": {},
   "outputs": [],
   "source": [
    "fig.write_image(\"X:/user/dekkerm/Projects/ECEMF_T5.2/Figures/Presentations/Europe_budget.png\", scale=3)"
   ]
  },
  {
   "cell_type": "code",
   "execution_count": 12,
   "metadata": {},
   "outputs": [],
   "source": [
    "data2 = data / xr_dataread.sel(Time=2021).GHG_hist*1e3"
   ]
  },
  {
   "cell_type": "code",
   "execution_count": 13,
   "metadata": {},
   "outputs": [
    {
     "name": "stderr",
     "output_type": "stream",
     "text": [
      "C:\\Users\\dekkerm\\AppData\\Local\\Temp\\3\\ipykernel_6896\\2531417473.py:70: RuntimeWarning:\n",
      "\n",
      "invalid value encountered in power\n",
      "\n"
     ]
    },
    {
     "data": {
      "application/vnd.plotly.v1+json": {
       "config": {
        "plotlyServerURL": "https://plotly.com"
       },
       "data": [
        {
         "colorbar": {
          "len": 1,
          "tickfont": {
           "size": 25
          },
          "tickvals": [
           -25,
           -20,
           -15,
           -10,
           -5,
           0,
           5,
           10,
           15,
           20,
           25
          ],
          "title": {
           "text": "CO<sub>2</sub>e budget<br>2021-2100<br>expressed<br>in 2021<br>emissions"
          },
          "x": 1
         },
         "colorscale": [
          [
           0,
           "rgb(103,0,31)"
          ],
          [
           0.1,
           "rgb(178,24,43)"
          ],
          [
           0.2,
           "rgb(214,96,77)"
          ],
          [
           0.3,
           "rgb(244,165,130)"
          ],
          [
           0.4,
           "rgb(253,219,199)"
          ],
          [
           0.5,
           "rgb(247,247,247)"
          ],
          [
           0.6,
           "rgb(209,229,240)"
          ],
          [
           0.7,
           "rgb(146,197,222)"
          ],
          [
           0.8,
           "rgb(67,147,195)"
          ],
          [
           0.9,
           "rgb(33,102,172)"
          ],
          [
           1,
           "rgb(5,48,97)"
          ]
         ],
         "geo": "geo",
         "hovertemplate": "%{text}",
         "locationmode": "ISO-3",
         "locations": [
          "AUT",
          "BEL",
          "BGR",
          "HRV",
          "CYP",
          "CZE",
          "DNK",
          "EST",
          "FIN",
          "FRA",
          "DEU",
          "GRC",
          "HUN",
          "IRL",
          "ITA",
          "LVA",
          "LTU",
          "LUX",
          "MLT",
          "NLD",
          "POL",
          "PRT",
          "ROU",
          "SVK",
          "SVN",
          "ESP",
          "SWE"
         ],
         "marker": {
          "line": {
           "color": "grey",
           "width": 0.7
          }
         },
         "name": "",
         "showscale": true,
         "text": [
          "AUT: 16.28 Gt CO<sub>2</sub>e",
          "BEL: 16.28 Gt CO<sub>2</sub>e",
          "BGR: 16.28 Gt CO<sub>2</sub>e",
          "HRV: 16.28 Gt CO<sub>2</sub>e",
          "CYP: 16.28 Gt CO<sub>2</sub>e",
          "CZE: 16.28 Gt CO<sub>2</sub>e",
          "DNK: 16.28 Gt CO<sub>2</sub>e",
          "EST: 16.28 Gt CO<sub>2</sub>e",
          "FIN: 16.28 Gt CO<sub>2</sub>e",
          "FRA: 16.28 Gt CO<sub>2</sub>e",
          "DEU: 16.28 Gt CO<sub>2</sub>e",
          "GRC: 16.28 Gt CO<sub>2</sub>e",
          "HUN: 16.28 Gt CO<sub>2</sub>e",
          "IRL: 16.28 Gt CO<sub>2</sub>e",
          "ITA: 16.28 Gt CO<sub>2</sub>e",
          "LVA: 16.28 Gt CO<sub>2</sub>e",
          "LTU: 16.28 Gt CO<sub>2</sub>e",
          "LUX: 16.28 Gt CO<sub>2</sub>e",
          "MLT: 16.28 Gt CO<sub>2</sub>e",
          "NLD: 16.28 Gt CO<sub>2</sub>e",
          "POL: 16.28 Gt CO<sub>2</sub>e",
          "PRT: 16.28 Gt CO<sub>2</sub>e",
          "ROU: 16.28 Gt CO<sub>2</sub>e",
          "SVK: 16.28 Gt CO<sub>2</sub>e",
          "SVN: 16.28 Gt CO<sub>2</sub>e",
          "ESP: 16.28 Gt CO<sub>2</sub>e",
          "SWE: 16.28 Gt CO<sub>2</sub>e"
         ],
         "type": "choropleth",
         "z": [
          16.27905220978263,
          16.27905438782007,
          16.279053476760758,
          16.27905487863448,
          16.279054014575472,
          16.279051254455357,
          16.279054633810322,
          16.279052969399075,
          16.27905564651669,
          16.279052261477116,
          16.279052705042886,
          16.279054040587294,
          16.279051015965155,
          16.27905263305798,
          16.279054848093917,
          16.27905240338021,
          16.27905282719166,
          16.27905620625977,
          16.279051959163404,
          16.279053090448073,
          16.279054356544528,
          16.27905427101411,
          16.279054007408188,
          16.27905043509689,
          16.279054523241285,
          16.279054600228225,
          16.279054590757045
         ],
         "zmax": 18,
         "zmin": -18
        },
        {
         "colorbar": {
          "len": 1,
          "tickfont": {
           "size": 25
          },
          "tickvals": [
           -25,
           -20,
           -15,
           -10,
           -5,
           0,
           5,
           10,
           15,
           20,
           25
          ],
          "title": {
           "text": "CO<sub>2</sub>e budget<br>2021-2100<br>expressed<br>in 2021<br>emissions"
          },
          "x": 1
         },
         "colorscale": [
          [
           0,
           "rgb(103,0,31)"
          ],
          [
           0.1,
           "rgb(178,24,43)"
          ],
          [
           0.2,
           "rgb(214,96,77)"
          ],
          [
           0.3,
           "rgb(244,165,130)"
          ],
          [
           0.4,
           "rgb(253,219,199)"
          ],
          [
           0.5,
           "rgb(247,247,247)"
          ],
          [
           0.6,
           "rgb(209,229,240)"
          ],
          [
           0.7,
           "rgb(146,197,222)"
          ],
          [
           0.8,
           "rgb(67,147,195)"
          ],
          [
           0.9,
           "rgb(33,102,172)"
          ],
          [
           1,
           "rgb(5,48,97)"
          ]
         ],
         "geo": "geo2",
         "hovertemplate": "%{text}",
         "locationmode": "ISO-3",
         "locations": [
          "AUT",
          "BEL",
          "BGR",
          "HRV",
          "CYP",
          "CZE",
          "DNK",
          "EST",
          "FIN",
          "FRA",
          "DEU",
          "GRC",
          "HUN",
          "IRL",
          "ITA",
          "LVA",
          "LTU",
          "LUX",
          "MLT",
          "NLD",
          "POL",
          "PRT",
          "ROU",
          "SVK",
          "SVN",
          "ESP",
          "SWE"
         ],
         "marker": {
          "line": {
           "color": "grey",
           "width": 0.7
          }
         },
         "name": "",
         "showscale": false,
         "text": [
          "AUT: 13.76 Gt CO<sub>2</sub>e",
          "BEL: 10.05 Gt CO<sub>2</sub>e",
          "BGR: 32.44 Gt CO<sub>2</sub>e",
          "HRV: 23.93 Gt CO<sub>2</sub>e",
          "CYP: 18.36 Gt CO<sub>2</sub>e",
          "CZE: 11.29 Gt CO<sub>2</sub>e",
          "DNK: 14.97 Gt CO<sub>2</sub>e",
          "EST: 6.31 Gt CO<sub>2</sub>e",
          "FIN: 8.85 Gt CO<sub>2</sub>e",
          "FRA: 21.47 Gt CO<sub>2</sub>e",
          "DEU: 12.58 Gt CO<sub>2</sub>e",
          "GRC: 16.43 Gt CO<sub>2</sub>e",
          "HUN: 15.06 Gt CO<sub>2</sub>e",
          "IRL: 9.54 Gt CO<sub>2</sub>e",
          "ITA: 18.07 Gt CO<sub>2</sub>e",
          "LVA: 25.84 Gt CO<sub>2</sub>e",
          "LTU: 13.30 Gt CO<sub>2</sub>e",
          "LUX: 7.24 Gt CO<sub>2</sub>e",
          "MLT: 18.20 Gt CO<sub>2</sub>e",
          "NLD: 9.15 Gt CO<sub>2</sub>e",
          "POL: 11.41 Gt CO<sub>2</sub>e",
          "PRT: 22.04 Gt CO<sub>2</sub>e",
          "ROU: 25.45 Gt CO<sub>2</sub>e",
          "SVK: 14.43 Gt CO<sub>2</sub>e",
          "SVN: 13.69 Gt CO<sub>2</sub>e",
          "ESP: 18.83 Gt CO<sub>2</sub>e",
          "SWE: 25.38 Gt CO<sub>2</sub>e"
         ],
         "type": "choropleth",
         "z": [
          13.757089827887318,
          10.048686187364611,
          32.4426859018893,
          23.927647230088088,
          18.355519896706113,
          11.294768568990538,
          14.971368837326125,
          6.313866057501762,
          8.845285206165125,
          21.47368977824174,
          12.576968456365481,
          16.42832467858046,
          15.06252043331206,
          9.544704617217134,
          18.065722009933477,
          25.835474072808054,
          13.297183050835585,
          7.244125495464751,
          18.198328778086793,
          9.153558301519611,
          11.410884670038824,
          22.04093768127696,
          25.44632569034858,
          14.431090514683694,
          13.686739025649041,
          18.830806790979544,
          25.38169398423896
         ],
         "zmax": 18,
         "zmin": -18
        },
        {
         "colorbar": {
          "len": 1,
          "tickfont": {
           "size": 25
          },
          "tickvals": [
           -25,
           -20,
           -15,
           -10,
           -5,
           0,
           5,
           10,
           15,
           20,
           25
          ],
          "title": {
           "text": "CO<sub>2</sub>e budget<br>2021-2100<br>expressed<br>in 2021<br>emissions"
          },
          "x": 1
         },
         "colorscale": [
          [
           0,
           "rgb(103,0,31)"
          ],
          [
           0.1,
           "rgb(178,24,43)"
          ],
          [
           0.2,
           "rgb(214,96,77)"
          ],
          [
           0.3,
           "rgb(244,165,130)"
          ],
          [
           0.4,
           "rgb(253,219,199)"
          ],
          [
           0.5,
           "rgb(247,247,247)"
          ],
          [
           0.6,
           "rgb(209,229,240)"
          ],
          [
           0.7,
           "rgb(146,197,222)"
          ],
          [
           0.8,
           "rgb(67,147,195)"
          ],
          [
           0.9,
           "rgb(33,102,172)"
          ],
          [
           1,
           "rgb(5,48,97)"
          ]
         ],
         "geo": "geo3",
         "hovertemplate": "%{text}",
         "locationmode": "ISO-3",
         "locations": [
          "AUT",
          "BEL",
          "BGR",
          "HRV",
          "CYP",
          "CZE",
          "DNK",
          "EST",
          "FIN",
          "FRA",
          "DEU",
          "GRC",
          "HUN",
          "IRL",
          "ITA",
          "LVA",
          "LTU",
          "LUX",
          "MLT",
          "NLD",
          "POL",
          "PRT",
          "ROU",
          "SVK",
          "SVN",
          "ESP",
          "SWE"
         ],
         "marker": {
          "line": {
           "color": "grey",
           "width": 0.7
          }
         },
         "name": "",
         "showscale": false,
         "text": [
          "AUT: 15.15 Gt CO<sub>2</sub>e",
          "BEL: 13.48 Gt CO<sub>2</sub>e",
          "BGR: 23.54 Gt CO<sub>2</sub>e",
          "HRV: 19.71 Gt CO<sub>2</sub>e",
          "CYP: 17.21 Gt CO<sub>2</sub>e",
          "CZE: 14.04 Gt CO<sub>2</sub>e",
          "DNK: 15.69 Gt CO<sub>2</sub>e",
          "EST: 11.80 Gt CO<sub>2</sub>e",
          "FIN: 12.94 Gt CO<sub>2</sub>e",
          "FRA: 18.61 Gt CO<sub>2</sub>e",
          "DEU: 14.62 Gt CO<sub>2</sub>e",
          "GRC: 16.35 Gt CO<sub>2</sub>e",
          "HUN: 15.73 Gt CO<sub>2</sub>e",
          "IRL: 13.26 Gt CO<sub>2</sub>e",
          "ITA: 17.08 Gt CO<sub>2</sub>e",
          "LVA: 20.57 Gt CO<sub>2</sub>e",
          "LTU: 14.94 Gt CO<sub>2</sub>e",
          "LUX: 12.22 Gt CO<sub>2</sub>e",
          "MLT: 17.14 Gt CO<sub>2</sub>e",
          "NLD: 13.08 Gt CO<sub>2</sub>e",
          "POL: 14.09 Gt CO<sub>2</sub>e",
          "PRT: 18.87 Gt CO<sub>2</sub>e",
          "ROU: 20.40 Gt CO<sub>2</sub>e",
          "SVK: 15.45 Gt CO<sub>2</sub>e",
          "SVN: 15.12 Gt CO<sub>2</sub>e",
          "ESP: 17.42 Gt CO<sub>2</sub>e",
          "SWE: 20.37 Gt CO<sub>2</sub>e"
         ],
         "type": "choropleth",
         "z": [
          15.146697993359759,
          13.481629633121525,
          23.536494549020833,
          19.713259204784443,
          17.21138171535962,
          14.041118510905987,
          15.69190728091975,
          11.804701237191013,
          12.941303880393596,
          18.611438046063764,
          14.61682400925769,
          16.34607708383137,
          15.732832271064572,
          13.25534403988177,
          17.081265624218936,
          20.569870609663816,
          14.940198337226093,
          12.222386130059872,
          17.14080559083436,
          13.079720710796725,
          14.093253989478459,
          18.866129195316113,
          20.395145616921713,
          15.449321433046249,
          15.115107309470982,
          17.424786330759265,
          20.36612439898062
         ],
         "zmax": 18,
         "zmin": -18
        },
        {
         "colorbar": {
          "len": 1,
          "tickfont": {
           "size": 25
          },
          "tickvals": [
           -25,
           -20,
           -15,
           -10,
           -5,
           0,
           5,
           10,
           15,
           20,
           25
          ],
          "title": {
           "text": "CO<sub>2</sub>e budget<br>2021-2100<br>expressed<br>in 2021<br>emissions"
          },
          "x": 1
         },
         "colorscale": [
          [
           0,
           "rgb(103,0,31)"
          ],
          [
           0.1,
           "rgb(178,24,43)"
          ],
          [
           0.2,
           "rgb(214,96,77)"
          ],
          [
           0.3,
           "rgb(244,165,130)"
          ],
          [
           0.4,
           "rgb(253,219,199)"
          ],
          [
           0.5,
           "rgb(247,247,247)"
          ],
          [
           0.6,
           "rgb(209,229,240)"
          ],
          [
           0.7,
           "rgb(146,197,222)"
          ],
          [
           0.8,
           "rgb(67,147,195)"
          ],
          [
           0.9,
           "rgb(33,102,172)"
          ],
          [
           1,
           "rgb(5,48,97)"
          ]
         ],
         "geo": "geo4",
         "hovertemplate": "%{text}",
         "locationmode": "ISO-3",
         "locations": [
          "AUT",
          "BEL",
          "BGR",
          "HRV",
          "CYP",
          "CZE",
          "DNK",
          "EST",
          "FIN",
          "FRA",
          "DEU",
          "GRC",
          "HUN",
          "IRL",
          "ITA",
          "LVA",
          "LTU",
          "LUX",
          "MLT",
          "NLD",
          "POL",
          "PRT",
          "ROU",
          "SVK",
          "SVN",
          "ESP",
          "SWE"
         ],
         "marker": {
          "line": {
           "color": "grey",
           "width": 0.7
          }
         },
         "name": "",
         "showscale": false,
         "text": [
          "AUT: -16.62 Gt CO<sub>2</sub>e",
          "BEL: -21.33 Gt CO<sub>2</sub>e",
          "BGR: -20.97 Gt CO<sub>2</sub>e",
          "HRV: -14.99 Gt CO<sub>2</sub>e",
          "CYP: -7.73 Gt CO<sub>2</sub>e",
          "CZE: -25.09 Gt CO<sub>2</sub>e",
          "DNK: -27.07 Gt CO<sub>2</sub>e",
          "EST: -23.92 Gt CO<sub>2</sub>e",
          "FIN: -15.45 Gt CO<sub>2</sub>e",
          "FRA: -12.88 Gt CO<sub>2</sub>e",
          "DEU: -26.36 Gt CO<sub>2</sub>e",
          "GRC: -23.14 Gt CO<sub>2</sub>e",
          "HUN: -16.98 Gt CO<sub>2</sub>e",
          "IRL: -20.93 Gt CO<sub>2</sub>e",
          "ITA: -18.04 Gt CO<sub>2</sub>e",
          "LVA: 14.37 Gt CO<sub>2</sub>e",
          "LTU: -17.09 Gt CO<sub>2</sub>e",
          "LUX: -24.23 Gt CO<sub>2</sub>e",
          "MLT: -10.63 Gt CO<sub>2</sub>e",
          "NLD: -25.14 Gt CO<sub>2</sub>e",
          "POL: -20.56 Gt CO<sub>2</sub>e",
          "PRT: -13.87 Gt CO<sub>2</sub>e",
          "ROU: -4.94 Gt CO<sub>2</sub>e",
          "SVK: -13.87 Gt CO<sub>2</sub>e",
          "SVN: -7.70 Gt CO<sub>2</sub>e",
          "ESP: -13.05 Gt CO<sub>2</sub>e",
          "SWE: -10.48 Gt CO<sub>2</sub>e"
         ],
         "type": "choropleth",
         "z": [
          -16.616491352867133,
          -21.33279823943862,
          -20.971036232231214,
          -14.986774299816394,
          -7.7319743300369845,
          -25.086750954157935,
          -27.069267548239875,
          -23.916873665108234,
          -15.445934235158546,
          -12.884869304648545,
          -26.35716611217916,
          -23.136309989169717,
          -16.976638410129752,
          -20.93314948087963,
          -18.042941777618214,
          14.365354750795044,
          -17.09235848598252,
          -24.226797099653556,
          -10.633408416712383,
          -25.139009548173895,
          -20.561705968013413,
          -13.874911250709454,
          -4.941482088643585,
          -13.869155814263099,
          -7.699316266530951,
          -13.053951396443372,
          -10.476183703720295
         ],
         "zmax": 18,
         "zmin": -18
        },
        {
         "colorbar": {
          "len": 1,
          "tickfont": {
           "size": 25
          },
          "tickvals": [
           -25,
           -20,
           -15,
           -10,
           -5,
           0,
           5,
           10,
           15,
           20,
           25
          ],
          "title": {
           "text": "CO<sub>2</sub>e budget<br>2021-2100<br>expressed<br>in 2021<br>emissions"
          },
          "x": 1
         },
         "colorscale": [
          [
           0,
           "rgb(103,0,31)"
          ],
          [
           0.1,
           "rgb(178,24,43)"
          ],
          [
           0.2,
           "rgb(214,96,77)"
          ],
          [
           0.3,
           "rgb(244,165,130)"
          ],
          [
           0.4,
           "rgb(253,219,199)"
          ],
          [
           0.5,
           "rgb(247,247,247)"
          ],
          [
           0.6,
           "rgb(209,229,240)"
          ],
          [
           0.7,
           "rgb(146,197,222)"
          ],
          [
           0.8,
           "rgb(67,147,195)"
          ],
          [
           0.9,
           "rgb(33,102,172)"
          ],
          [
           1,
           "rgb(5,48,97)"
          ]
         ],
         "geo": "geo5",
         "hovertemplate": "%{text}",
         "locationmode": "ISO-3",
         "locations": [
          "AUT",
          "BEL",
          "BGR",
          "HRV",
          "CYP",
          "CZE",
          "DNK",
          "EST",
          "FIN",
          "FRA",
          "DEU",
          "GRC",
          "HUN",
          "IRL",
          "ITA",
          "LVA",
          "LTU",
          "LUX",
          "MLT",
          "NLD",
          "POL",
          "PRT",
          "ROU",
          "SVK",
          "SVN",
          "ESP",
          "SWE"
         ],
         "marker": {
          "line": {
           "color": "grey",
           "width": 0.7
          }
         },
         "name": "",
         "showscale": false,
         "text": [
          "AUT: 0.43 Gt CO<sub>2</sub>e",
          "BEL: 2.94 Gt CO<sub>2</sub>e",
          "BGR: 9.68 Gt CO<sub>2</sub>e",
          "HRV: 15.37 Gt CO<sub>2</sub>e",
          "CYP: 13.37 Gt CO<sub>2</sub>e",
          "CZE: 0.57 Gt CO<sub>2</sub>e",
          "DNK: 3.56 Gt CO<sub>2</sub>e",
          "EST: 4.06 Gt CO<sub>2</sub>e",
          "FIN: 1.93 Gt CO<sub>2</sub>e",
          "FRA: 5.63 Gt CO<sub>2</sub>e",
          "DEU: 0.75 Gt CO<sub>2</sub>e",
          "GRC: 5.56 Gt CO<sub>2</sub>e",
          "HUN: 9.54 Gt CO<sub>2</sub>e",
          "IRL: 2.10 Gt CO<sub>2</sub>e",
          "ITA: 7.13 Gt CO<sub>2</sub>e",
          "LVA: 9.87 Gt CO<sub>2</sub>e",
          "LTU: 10.52 Gt CO<sub>2</sub>e",
          "LUX: -3.19 Gt CO<sub>2</sub>e",
          "MLT: 8.88 Gt CO<sub>2</sub>e",
          "NLD: 1.06 Gt CO<sub>2</sub>e",
          "POL: 8.11 Gt CO<sub>2</sub>e",
          "PRT: 9.92 Gt CO<sub>2</sub>e",
          "ROU: 12.90 Gt CO<sub>2</sub>e",
          "SVK: 0.00 Gt CO<sub>2</sub>e",
          "SVN: 5.84 Gt CO<sub>2</sub>e",
          "ESP: 9.15 Gt CO<sub>2</sub>e",
          "SWE: 1.88 Gt CO<sub>2</sub>e"
         ],
         "type": "choropleth",
         "z": [
          0.43067683566319,
          2.9378707130558834,
          9.677523286250663,
          15.368125682512519,
          13.366599999628672,
          0.5667770935169534,
          3.5623736647188524,
          4.061523556882937,
          1.9304191415103729,
          5.628110858290149,
          0.7517578438201004,
          5.5593183940945705,
          9.5352670525116,
          2.1007213446413173,
          7.12902800255776,
          9.87380397230398,
          10.524196378153881,
          -3.1907422907272807,
          8.879666973280896,
          1.0641975587627137,
          8.107493751319515,
          9.915643868997297,
          12.903320291005343,
          0,
          5.841196877595265,
          9.154001673962934,
          1.8844097017194008
         ],
         "zmax": 18,
         "zmin": -18
        },
        {
         "colorbar": {
          "len": 1,
          "tickfont": {
           "size": 25
          },
          "tickvals": [
           -25,
           -20,
           -15,
           -10,
           -5,
           0,
           5,
           10,
           15,
           20,
           25
          ],
          "title": {
           "text": "CO<sub>2</sub>e budget<br>2021-2100<br>expressed<br>in 2021<br>emissions"
          },
          "x": 1
         },
         "colorscale": [
          [
           0,
           "rgb(103,0,31)"
          ],
          [
           0.1,
           "rgb(178,24,43)"
          ],
          [
           0.2,
           "rgb(214,96,77)"
          ],
          [
           0.3,
           "rgb(244,165,130)"
          ],
          [
           0.4,
           "rgb(253,219,199)"
          ],
          [
           0.5,
           "rgb(247,247,247)"
          ],
          [
           0.6,
           "rgb(209,229,240)"
          ],
          [
           0.7,
           "rgb(146,197,222)"
          ],
          [
           0.8,
           "rgb(67,147,195)"
          ],
          [
           0.9,
           "rgb(33,102,172)"
          ],
          [
           1,
           "rgb(5,48,97)"
          ]
         ],
         "geo": "geo6",
         "hovertemplate": "%{text}",
         "locationmode": "ISO-3",
         "locations": [
          "AUT",
          "BEL",
          "BGR",
          "HRV",
          "CYP",
          "CZE",
          "DNK",
          "EST",
          "FIN",
          "FRA",
          "DEU",
          "GRC",
          "HUN",
          "IRL",
          "ITA",
          "LVA",
          "LTU",
          "LUX",
          "MLT",
          "NLD",
          "POL",
          "PRT",
          "ROU",
          "SVK",
          "SVN",
          "ESP",
          "SWE"
         ],
         "marker": {
          "line": {
           "color": "grey",
           "width": 0.7
          }
         },
         "name": "",
         "showscale": false,
         "text": [
          "AUT: -132.55 Gt CO<sub>2</sub>e",
          "BEL: -100.56 Gt CO<sub>2</sub>e",
          "BGR: -67.61 Gt CO<sub>2</sub>e",
          "HRV: -43.21 Gt CO<sub>2</sub>e",
          "CYP: -54.81 Gt CO<sub>2</sub>e",
          "CZE: -70.62 Gt CO<sub>2</sub>e",
          "DNK: -213.13 Gt CO<sub>2</sub>e",
          "EST: -18.67 Gt CO<sub>2</sub>e",
          "FIN: -66.01 Gt CO<sub>2</sub>e",
          "FRA: -188.35 Gt CO<sub>2</sub>e",
          "DEU: -135.11 Gt CO<sub>2</sub>e",
          "GRC: -59.47 Gt CO<sub>2</sub>e",
          "HUN: -19.74 Gt CO<sub>2</sub>e",
          "IRL: -176.88 Gt CO<sub>2</sub>e",
          "ITA: -106.61 Gt CO<sub>2</sub>e",
          "LVA: -47.12 Gt CO<sub>2</sub>e",
          "LTU: -21.12 Gt CO<sub>2</sub>e",
          "LUX: -221.38 Gt CO<sub>2</sub>e",
          "MLT: -133.81 Gt CO<sub>2</sub>e",
          "NLD: -101.29 Gt CO<sub>2</sub>e",
          "POL: -19.66 Gt CO<sub>2</sub>e",
          "PRT: -73.51 Gt CO<sub>2</sub>e",
          "ROU: -17.69 Gt CO<sub>2</sub>e",
          "SVK: 0.00 Gt CO<sub>2</sub>e",
          "SVN: -66.55 Gt CO<sub>2</sub>e",
          "ESP: -95.52 Gt CO<sub>2</sub>e",
          "SWE: -320.58 Gt CO<sub>2</sub>e"
         ],
         "type": "choropleth",
         "z": [
          -132.5459336107758,
          -100.56496656280521,
          -67.61295025301764,
          -43.21417529923672,
          -54.80523954957742,
          -70.62077228575754,
          -213.12825201290042,
          -18.66920664132995,
          -66.00754787177883,
          -188.353013780332,
          -135.1147957464799,
          -59.46586031025515,
          -19.74435585397814,
          -176.88287158675368,
          -106.61334776487107,
          -47.123300457214405,
          -21.123395452844708,
          -221.38095717028605,
          -133.81186242280805,
          -101.2895207527464,
          -19.66033723569577,
          -73.50510598135506,
          -17.688195874586263,
          0,
          -66.54695958520742,
          -95.51608753578614,
          -320.58079110841913
         ],
         "zmax": 18,
         "zmin": -18
        },
        {
         "featureidkey": "properties.NAME_3",
         "geo": "geo",
         "hoverinfo": "skip",
         "locations": [
          "AUT",
          "BEL",
          "BGR",
          "HRV",
          "CYP",
          "CZE",
          "DNK",
          "EST",
          "FIN",
          "FRA",
          "DEU",
          "GRC",
          "HUN",
          "IRL",
          "ITA",
          "LVA",
          "LTU",
          "LUX",
          "MLT",
          "NLD",
          "POL",
          "PRT",
          "ROU",
          "SVK",
          "SVN",
          "ESP",
          "SWE"
         ],
         "mode": "text",
         "showlegend": false,
         "text": [
          16,
          16,
          16,
          16,
          16,
          16,
          16,
          16,
          16,
          16,
          16,
          16,
          16,
          16,
          16,
          16,
          16,
          16,
          16,
          16,
          16,
          16,
          16,
          16,
          16,
          16,
          16
         ],
         "textfont": {
          "color": [
           "black",
           "black",
           "black",
           "black",
           "black",
           "black",
           "black",
           "black",
           "black",
           "black",
           "black",
           "black",
           "black",
           "black",
           "black",
           "black",
           "black",
           "black",
           "black",
           "black",
           "black",
           "black",
           "black",
           "black",
           "black",
           "black",
           "black"
          ],
          "size": 20
         },
         "type": "scattergeo"
        },
        {
         "featureidkey": "properties.NAME_3",
         "geo": "geo2",
         "hoverinfo": "skip",
         "locations": [
          "AUT",
          "BEL",
          "BGR",
          "HRV",
          "CYP",
          "CZE",
          "DNK",
          "EST",
          "FIN",
          "FRA",
          "DEU",
          "GRC",
          "HUN",
          "IRL",
          "ITA",
          "LVA",
          "LTU",
          "LUX",
          "MLT",
          "NLD",
          "POL",
          "PRT",
          "ROU",
          "SVK",
          "SVN",
          "ESP",
          "SWE"
         ],
         "mode": "text",
         "showlegend": false,
         "text": [
          14,
          10,
          32,
          24,
          18,
          11,
          15,
          6,
          9,
          21,
          13,
          16,
          15,
          10,
          18,
          26,
          13,
          7,
          18,
          9,
          11,
          22,
          25,
          14,
          14,
          19,
          25
         ],
         "textfont": {
          "color": [
           "black",
           "black",
           "black",
           "black",
           "black",
           "black",
           "black",
           "black",
           "black",
           "black",
           "black",
           "black",
           "black",
           "black",
           "black",
           "black",
           "black",
           "black",
           "black",
           "black",
           "black",
           "black",
           "black",
           "black",
           "black",
           "black",
           "black"
          ],
          "size": 20
         },
         "type": "scattergeo"
        },
        {
         "featureidkey": "properties.NAME_3",
         "geo": "geo3",
         "hoverinfo": "skip",
         "locations": [
          "AUT",
          "BEL",
          "BGR",
          "HRV",
          "CYP",
          "CZE",
          "DNK",
          "EST",
          "FIN",
          "FRA",
          "DEU",
          "GRC",
          "HUN",
          "IRL",
          "ITA",
          "LVA",
          "LTU",
          "LUX",
          "MLT",
          "NLD",
          "POL",
          "PRT",
          "ROU",
          "SVK",
          "SVN",
          "ESP",
          "SWE"
         ],
         "mode": "text",
         "showlegend": false,
         "text": [
          15,
          13,
          24,
          20,
          17,
          14,
          16,
          12,
          13,
          19,
          15,
          16,
          16,
          13,
          17,
          21,
          15,
          12,
          17,
          13,
          14,
          19,
          20,
          15,
          15,
          17,
          20
         ],
         "textfont": {
          "color": [
           "black",
           "black",
           "black",
           "black",
           "black",
           "black",
           "black",
           "black",
           "black",
           "black",
           "black",
           "black",
           "black",
           "black",
           "black",
           "black",
           "black",
           "black",
           "black",
           "black",
           "black",
           "black",
           "black",
           "black",
           "black",
           "black",
           "black"
          ],
          "size": 20
         },
         "type": "scattergeo"
        },
        {
         "featureidkey": "properties.NAME_3",
         "geo": "geo4",
         "hoverinfo": "skip",
         "locations": [
          "AUT",
          "BEL",
          "BGR",
          "HRV",
          "CYP",
          "CZE",
          "DNK",
          "EST",
          "FIN",
          "FRA",
          "DEU",
          "GRC",
          "HUN",
          "IRL",
          "ITA",
          "LVA",
          "LTU",
          "LUX",
          "MLT",
          "NLD",
          "POL",
          "PRT",
          "ROU",
          "SVK",
          "SVN",
          "ESP",
          "SWE"
         ],
         "mode": "text",
         "showlegend": false,
         "text": [
          -17,
          -21,
          -21,
          -15,
          -8,
          -25,
          -27,
          -24,
          -15,
          -13,
          -26,
          -23,
          -17,
          -21,
          -18,
          14,
          -17,
          -24,
          -11,
          -25,
          -21,
          -14,
          -5,
          -14,
          -8,
          -13,
          -10
         ],
         "textfont": {
          "color": [
           "black",
           "black",
           "black",
           "black",
           "black",
           "black",
           "black",
           "black",
           "black",
           "black",
           "black",
           "black",
           "black",
           "black",
           "black",
           "black",
           "black",
           "black",
           "black",
           "black",
           "black",
           "black",
           "black",
           "black",
           "black",
           "black",
           "black"
          ],
          "size": 20
         },
         "type": "scattergeo"
        },
        {
         "featureidkey": "properties.NAME_3",
         "geo": "geo5",
         "hoverinfo": "skip",
         "locations": [
          "AUT",
          "BEL",
          "BGR",
          "HRV",
          "CYP",
          "CZE",
          "DNK",
          "EST",
          "FIN",
          "FRA",
          "DEU",
          "GRC",
          "HUN",
          "IRL",
          "ITA",
          "LVA",
          "LTU",
          "LUX",
          "MLT",
          "NLD",
          "POL",
          "PRT",
          "ROU",
          "SVK",
          "SVN",
          "ESP",
          "SWE"
         ],
         "mode": "text",
         "showlegend": false,
         "text": [
          0,
          3,
          10,
          15,
          13,
          1,
          4,
          4,
          2,
          6,
          1,
          6,
          10,
          2,
          7,
          10,
          11,
          -3,
          9,
          1,
          8,
          10,
          13,
          0,
          6,
          9,
          2
         ],
         "textfont": {
          "color": [
           "black",
           "black",
           "black",
           "black",
           "black",
           "black",
           "black",
           "black",
           "black",
           "black",
           "black",
           "black",
           "black",
           "black",
           "black",
           "black",
           "black",
           "black",
           "black",
           "black",
           "black",
           "black",
           "black",
           "black",
           "black",
           "black",
           "black"
          ],
          "size": 20
         },
         "type": "scattergeo"
        },
        {
         "featureidkey": "properties.NAME_3",
         "geo": "geo6",
         "hoverinfo": "skip",
         "locations": [
          "AUT",
          "BEL",
          "BGR",
          "HRV",
          "CYP",
          "CZE",
          "DNK",
          "EST",
          "FIN",
          "FRA",
          "DEU",
          "GRC",
          "HUN",
          "IRL",
          "ITA",
          "LVA",
          "LTU",
          "LUX",
          "MLT",
          "NLD",
          "POL",
          "PRT",
          "ROU",
          "SVK",
          "SVN",
          "ESP",
          "SWE"
         ],
         "mode": "text",
         "showlegend": false,
         "text": [
          -133,
          -101,
          -68,
          -43,
          -55,
          -71,
          -213,
          -19,
          -66,
          -188,
          -135,
          -59,
          -20,
          -177,
          -107,
          -47,
          -21,
          -221,
          -134,
          -101,
          -20,
          -74,
          -18,
          0,
          -67,
          -96,
          -321
         ],
         "textfont": {
          "color": [
           "black",
           "black",
           "black",
           "black",
           "black",
           "black",
           "black",
           "black",
           "black",
           "black",
           "black",
           "black",
           "black",
           "black",
           "black",
           "black",
           "black",
           "black",
           "black",
           "black",
           "black",
           "black",
           "black",
           "black",
           "black",
           "black",
           "black"
          ],
          "size": 20
         },
         "type": "scattergeo"
        }
       ],
       "layout": {
        "annotations": [
         {
          "align": "left",
          "ax": 0,
          "ay": 0,
          "font": {
           "color": "black",
           "size": 25
          },
          "showarrow": false,
          "text": "<b>(a) Grandfathering</b>",
          "x": 0.07,
          "xref": "paper",
          "y": 0.96,
          "yref": "paper"
         },
         {
          "align": "left",
          "ax": 0,
          "ay": 0,
          "font": {
           "color": "black",
           "size": 25
          },
          "showarrow": false,
          "text": "<b>(b) Per Capita</b>",
          "x": 0.47,
          "xref": "paper",
          "y": 0.96,
          "yref": "paper"
         },
         {
          "align": "left",
          "ax": 0,
          "ay": 0,
          "font": {
           "color": "black",
           "size": 25
          },
          "showarrow": false,
          "text": "<b>(c) Per Capita Convergence</b>",
          "x": 0.9,
          "xref": "paper",
          "y": 0.96,
          "yref": "paper"
         },
         {
          "align": "left",
          "ax": 0,
          "ay": 0,
          "font": {
           "color": "black",
           "size": 25
          },
          "showarrow": false,
          "text": "<b>(d) Equal Cumulative per Capita</b>",
          "x": 0.07,
          "xref": "paper",
          "y": 0.45,
          "yref": "paper"
         },
         {
          "align": "left",
          "ax": 0,
          "ay": 0,
          "font": {
           "color": "black",
           "size": 25
          },
          "showarrow": false,
          "text": "<b>(e) Ability to Pay</b>",
          "x": 0.48,
          "xref": "paper",
          "y": 0.45,
          "yref": "paper"
         },
         {
          "align": "left",
          "ax": 0,
          "ay": 0,
          "font": {
           "color": "black",
           "size": 25
          },
          "showarrow": false,
          "text": "<b>(f) Greenhouse Development Rights</b>",
          "x": 0.95,
          "xref": "paper",
          "y": 0.45,
          "yref": "paper"
         }
        ],
        "geo": {
         "domain": {
          "x": [
           0,
           0.3333333333333333
          ],
          "y": [
           0.5,
           1
          ]
         },
         "lakecolor": "rgb(255, 255, 255)",
         "lataxis": {
          "range": [
           30,
           75
          ]
         },
         "lonaxis": {
          "range": [
           -20,
           40
          ]
         },
         "projection": {
          "type": "natural earth"
         },
         "resolution": 50,
         "scope": "europe",
         "showcoastlines": false,
         "showcountries": false,
         "showlakes": true,
         "visible": true
        },
        "geo2": {
         "domain": {
          "x": [
           0.3333333333333333,
           0.6666666666666666
          ],
          "y": [
           0.5,
           1
          ]
         },
         "lakecolor": "rgb(255, 255, 255)",
         "lataxis": {
          "range": [
           30,
           75
          ]
         },
         "lonaxis": {
          "range": [
           -20,
           40
          ]
         },
         "projection": {
          "type": "natural earth"
         },
         "resolution": 50,
         "scope": "europe",
         "showcoastlines": false,
         "showcountries": false,
         "showlakes": true,
         "visible": true
        },
        "geo3": {
         "domain": {
          "x": [
           0.6666666666666666,
           1
          ],
          "y": [
           0.5,
           1
          ]
         },
         "lakecolor": "rgb(255, 255, 255)",
         "lataxis": {
          "range": [
           30,
           75
          ]
         },
         "lonaxis": {
          "range": [
           -20,
           40
          ]
         },
         "projection": {
          "type": "natural earth"
         },
         "resolution": 50,
         "scope": "europe",
         "showcoastlines": false,
         "showcountries": false,
         "showlakes": true,
         "visible": true
        },
        "geo4": {
         "domain": {
          "x": [
           0,
           0.3333333333333333
          ],
          "y": [
           0,
           0.5
          ]
         },
         "lakecolor": "rgb(255, 255, 255)",
         "lataxis": {
          "range": [
           30,
           75
          ]
         },
         "lonaxis": {
          "range": [
           -20,
           40
          ]
         },
         "projection": {
          "type": "natural earth"
         },
         "resolution": 50,
         "scope": "europe",
         "showcoastlines": false,
         "showcountries": false,
         "showlakes": true,
         "visible": true
        },
        "geo5": {
         "domain": {
          "x": [
           0.3333333333333333,
           0.6666666666666666
          ],
          "y": [
           0,
           0.5
          ]
         },
         "lakecolor": "rgb(255, 255, 255)",
         "lataxis": {
          "range": [
           30,
           75
          ]
         },
         "lonaxis": {
          "range": [
           -20,
           40
          ]
         },
         "projection": {
          "type": "natural earth"
         },
         "resolution": 50,
         "scope": "europe",
         "showcoastlines": false,
         "showcountries": false,
         "showlakes": true,
         "visible": true
        },
        "geo6": {
         "domain": {
          "x": [
           0.6666666666666666,
           1
          ],
          "y": [
           0,
           0.5
          ]
         },
         "lakecolor": "rgb(255, 255, 255)",
         "lataxis": {
          "range": [
           30,
           75
          ]
         },
         "lonaxis": {
          "range": [
           -20,
           40
          ]
         },
         "projection": {
          "type": "natural earth"
         },
         "resolution": 50,
         "scope": "europe",
         "showcoastlines": false,
         "showcountries": false,
         "showlakes": true,
         "visible": true
        },
        "height": 1200,
        "margin": {
         "b": 0,
         "l": 0,
         "r": 0,
         "t": 0
        },
        "template": {
         "data": {
          "bar": [
           {
            "error_x": {
             "color": "#2a3f5f"
            },
            "error_y": {
             "color": "#2a3f5f"
            },
            "marker": {
             "line": {
              "color": "#E5ECF6",
              "width": 0.5
             },
             "pattern": {
              "fillmode": "overlay",
              "size": 10,
              "solidity": 0.2
             }
            },
            "type": "bar"
           }
          ],
          "barpolar": [
           {
            "marker": {
             "line": {
              "color": "#E5ECF6",
              "width": 0.5
             },
             "pattern": {
              "fillmode": "overlay",
              "size": 10,
              "solidity": 0.2
             }
            },
            "type": "barpolar"
           }
          ],
          "carpet": [
           {
            "aaxis": {
             "endlinecolor": "#2a3f5f",
             "gridcolor": "white",
             "linecolor": "white",
             "minorgridcolor": "white",
             "startlinecolor": "#2a3f5f"
            },
            "baxis": {
             "endlinecolor": "#2a3f5f",
             "gridcolor": "white",
             "linecolor": "white",
             "minorgridcolor": "white",
             "startlinecolor": "#2a3f5f"
            },
            "type": "carpet"
           }
          ],
          "choropleth": [
           {
            "colorbar": {
             "outlinewidth": 0,
             "ticks": ""
            },
            "type": "choropleth"
           }
          ],
          "contour": [
           {
            "colorbar": {
             "outlinewidth": 0,
             "ticks": ""
            },
            "colorscale": [
             [
              0,
              "#0d0887"
             ],
             [
              0.1111111111111111,
              "#46039f"
             ],
             [
              0.2222222222222222,
              "#7201a8"
             ],
             [
              0.3333333333333333,
              "#9c179e"
             ],
             [
              0.4444444444444444,
              "#bd3786"
             ],
             [
              0.5555555555555556,
              "#d8576b"
             ],
             [
              0.6666666666666666,
              "#ed7953"
             ],
             [
              0.7777777777777778,
              "#fb9f3a"
             ],
             [
              0.8888888888888888,
              "#fdca26"
             ],
             [
              1,
              "#f0f921"
             ]
            ],
            "type": "contour"
           }
          ],
          "contourcarpet": [
           {
            "colorbar": {
             "outlinewidth": 0,
             "ticks": ""
            },
            "type": "contourcarpet"
           }
          ],
          "heatmap": [
           {
            "colorbar": {
             "outlinewidth": 0,
             "ticks": ""
            },
            "colorscale": [
             [
              0,
              "#0d0887"
             ],
             [
              0.1111111111111111,
              "#46039f"
             ],
             [
              0.2222222222222222,
              "#7201a8"
             ],
             [
              0.3333333333333333,
              "#9c179e"
             ],
             [
              0.4444444444444444,
              "#bd3786"
             ],
             [
              0.5555555555555556,
              "#d8576b"
             ],
             [
              0.6666666666666666,
              "#ed7953"
             ],
             [
              0.7777777777777778,
              "#fb9f3a"
             ],
             [
              0.8888888888888888,
              "#fdca26"
             ],
             [
              1,
              "#f0f921"
             ]
            ],
            "type": "heatmap"
           }
          ],
          "heatmapgl": [
           {
            "colorbar": {
             "outlinewidth": 0,
             "ticks": ""
            },
            "colorscale": [
             [
              0,
              "#0d0887"
             ],
             [
              0.1111111111111111,
              "#46039f"
             ],
             [
              0.2222222222222222,
              "#7201a8"
             ],
             [
              0.3333333333333333,
              "#9c179e"
             ],
             [
              0.4444444444444444,
              "#bd3786"
             ],
             [
              0.5555555555555556,
              "#d8576b"
             ],
             [
              0.6666666666666666,
              "#ed7953"
             ],
             [
              0.7777777777777778,
              "#fb9f3a"
             ],
             [
              0.8888888888888888,
              "#fdca26"
             ],
             [
              1,
              "#f0f921"
             ]
            ],
            "type": "heatmapgl"
           }
          ],
          "histogram": [
           {
            "marker": {
             "pattern": {
              "fillmode": "overlay",
              "size": 10,
              "solidity": 0.2
             }
            },
            "type": "histogram"
           }
          ],
          "histogram2d": [
           {
            "colorbar": {
             "outlinewidth": 0,
             "ticks": ""
            },
            "colorscale": [
             [
              0,
              "#0d0887"
             ],
             [
              0.1111111111111111,
              "#46039f"
             ],
             [
              0.2222222222222222,
              "#7201a8"
             ],
             [
              0.3333333333333333,
              "#9c179e"
             ],
             [
              0.4444444444444444,
              "#bd3786"
             ],
             [
              0.5555555555555556,
              "#d8576b"
             ],
             [
              0.6666666666666666,
              "#ed7953"
             ],
             [
              0.7777777777777778,
              "#fb9f3a"
             ],
             [
              0.8888888888888888,
              "#fdca26"
             ],
             [
              1,
              "#f0f921"
             ]
            ],
            "type": "histogram2d"
           }
          ],
          "histogram2dcontour": [
           {
            "colorbar": {
             "outlinewidth": 0,
             "ticks": ""
            },
            "colorscale": [
             [
              0,
              "#0d0887"
             ],
             [
              0.1111111111111111,
              "#46039f"
             ],
             [
              0.2222222222222222,
              "#7201a8"
             ],
             [
              0.3333333333333333,
              "#9c179e"
             ],
             [
              0.4444444444444444,
              "#bd3786"
             ],
             [
              0.5555555555555556,
              "#d8576b"
             ],
             [
              0.6666666666666666,
              "#ed7953"
             ],
             [
              0.7777777777777778,
              "#fb9f3a"
             ],
             [
              0.8888888888888888,
              "#fdca26"
             ],
             [
              1,
              "#f0f921"
             ]
            ],
            "type": "histogram2dcontour"
           }
          ],
          "mesh3d": [
           {
            "colorbar": {
             "outlinewidth": 0,
             "ticks": ""
            },
            "type": "mesh3d"
           }
          ],
          "parcoords": [
           {
            "line": {
             "colorbar": {
              "outlinewidth": 0,
              "ticks": ""
             }
            },
            "type": "parcoords"
           }
          ],
          "pie": [
           {
            "automargin": true,
            "type": "pie"
           }
          ],
          "scatter": [
           {
            "fillpattern": {
             "fillmode": "overlay",
             "size": 10,
             "solidity": 0.2
            },
            "type": "scatter"
           }
          ],
          "scatter3d": [
           {
            "line": {
             "colorbar": {
              "outlinewidth": 0,
              "ticks": ""
             }
            },
            "marker": {
             "colorbar": {
              "outlinewidth": 0,
              "ticks": ""
             }
            },
            "type": "scatter3d"
           }
          ],
          "scattercarpet": [
           {
            "marker": {
             "colorbar": {
              "outlinewidth": 0,
              "ticks": ""
             }
            },
            "type": "scattercarpet"
           }
          ],
          "scattergeo": [
           {
            "marker": {
             "colorbar": {
              "outlinewidth": 0,
              "ticks": ""
             }
            },
            "type": "scattergeo"
           }
          ],
          "scattergl": [
           {
            "marker": {
             "colorbar": {
              "outlinewidth": 0,
              "ticks": ""
             }
            },
            "type": "scattergl"
           }
          ],
          "scattermapbox": [
           {
            "marker": {
             "colorbar": {
              "outlinewidth": 0,
              "ticks": ""
             }
            },
            "type": "scattermapbox"
           }
          ],
          "scatterpolar": [
           {
            "marker": {
             "colorbar": {
              "outlinewidth": 0,
              "ticks": ""
             }
            },
            "type": "scatterpolar"
           }
          ],
          "scatterpolargl": [
           {
            "marker": {
             "colorbar": {
              "outlinewidth": 0,
              "ticks": ""
             }
            },
            "type": "scatterpolargl"
           }
          ],
          "scatterternary": [
           {
            "marker": {
             "colorbar": {
              "outlinewidth": 0,
              "ticks": ""
             }
            },
            "type": "scatterternary"
           }
          ],
          "surface": [
           {
            "colorbar": {
             "outlinewidth": 0,
             "ticks": ""
            },
            "colorscale": [
             [
              0,
              "#0d0887"
             ],
             [
              0.1111111111111111,
              "#46039f"
             ],
             [
              0.2222222222222222,
              "#7201a8"
             ],
             [
              0.3333333333333333,
              "#9c179e"
             ],
             [
              0.4444444444444444,
              "#bd3786"
             ],
             [
              0.5555555555555556,
              "#d8576b"
             ],
             [
              0.6666666666666666,
              "#ed7953"
             ],
             [
              0.7777777777777778,
              "#fb9f3a"
             ],
             [
              0.8888888888888888,
              "#fdca26"
             ],
             [
              1,
              "#f0f921"
             ]
            ],
            "type": "surface"
           }
          ],
          "table": [
           {
            "cells": {
             "fill": {
              "color": "#EBF0F8"
             },
             "line": {
              "color": "white"
             }
            },
            "header": {
             "fill": {
              "color": "#C8D4E3"
             },
             "line": {
              "color": "white"
             }
            },
            "type": "table"
           }
          ]
         },
         "layout": {
          "annotationdefaults": {
           "arrowcolor": "#2a3f5f",
           "arrowhead": 0,
           "arrowwidth": 1
          },
          "autotypenumbers": "strict",
          "coloraxis": {
           "colorbar": {
            "outlinewidth": 0,
            "ticks": ""
           }
          },
          "colorscale": {
           "diverging": [
            [
             0,
             "#8e0152"
            ],
            [
             0.1,
             "#c51b7d"
            ],
            [
             0.2,
             "#de77ae"
            ],
            [
             0.3,
             "#f1b6da"
            ],
            [
             0.4,
             "#fde0ef"
            ],
            [
             0.5,
             "#f7f7f7"
            ],
            [
             0.6,
             "#e6f5d0"
            ],
            [
             0.7,
             "#b8e186"
            ],
            [
             0.8,
             "#7fbc41"
            ],
            [
             0.9,
             "#4d9221"
            ],
            [
             1,
             "#276419"
            ]
           ],
           "sequential": [
            [
             0,
             "#0d0887"
            ],
            [
             0.1111111111111111,
             "#46039f"
            ],
            [
             0.2222222222222222,
             "#7201a8"
            ],
            [
             0.3333333333333333,
             "#9c179e"
            ],
            [
             0.4444444444444444,
             "#bd3786"
            ],
            [
             0.5555555555555556,
             "#d8576b"
            ],
            [
             0.6666666666666666,
             "#ed7953"
            ],
            [
             0.7777777777777778,
             "#fb9f3a"
            ],
            [
             0.8888888888888888,
             "#fdca26"
            ],
            [
             1,
             "#f0f921"
            ]
           ],
           "sequentialminus": [
            [
             0,
             "#0d0887"
            ],
            [
             0.1111111111111111,
             "#46039f"
            ],
            [
             0.2222222222222222,
             "#7201a8"
            ],
            [
             0.3333333333333333,
             "#9c179e"
            ],
            [
             0.4444444444444444,
             "#bd3786"
            ],
            [
             0.5555555555555556,
             "#d8576b"
            ],
            [
             0.6666666666666666,
             "#ed7953"
            ],
            [
             0.7777777777777778,
             "#fb9f3a"
            ],
            [
             0.8888888888888888,
             "#fdca26"
            ],
            [
             1,
             "#f0f921"
            ]
           ]
          },
          "colorway": [
           "#636efa",
           "#EF553B",
           "#00cc96",
           "#ab63fa",
           "#FFA15A",
           "#19d3f3",
           "#FF6692",
           "#B6E880",
           "#FF97FF",
           "#FECB52"
          ],
          "font": {
           "color": "#2a3f5f"
          },
          "geo": {
           "bgcolor": "white",
           "lakecolor": "white",
           "landcolor": "#E5ECF6",
           "showlakes": true,
           "showland": true,
           "subunitcolor": "white"
          },
          "hoverlabel": {
           "align": "left"
          },
          "hovermode": "closest",
          "mapbox": {
           "style": "light"
          },
          "paper_bgcolor": "white",
          "plot_bgcolor": "#E5ECF6",
          "polar": {
           "angularaxis": {
            "gridcolor": "white",
            "linecolor": "white",
            "ticks": ""
           },
           "bgcolor": "#E5ECF6",
           "radialaxis": {
            "gridcolor": "white",
            "linecolor": "white",
            "ticks": ""
           }
          },
          "scene": {
           "xaxis": {
            "backgroundcolor": "#E5ECF6",
            "gridcolor": "white",
            "gridwidth": 2,
            "linecolor": "white",
            "showbackground": true,
            "ticks": "",
            "zerolinecolor": "white"
           },
           "yaxis": {
            "backgroundcolor": "#E5ECF6",
            "gridcolor": "white",
            "gridwidth": 2,
            "linecolor": "white",
            "showbackground": true,
            "ticks": "",
            "zerolinecolor": "white"
           },
           "zaxis": {
            "backgroundcolor": "#E5ECF6",
            "gridcolor": "white",
            "gridwidth": 2,
            "linecolor": "white",
            "showbackground": true,
            "ticks": "",
            "zerolinecolor": "white"
           }
          },
          "shapedefaults": {
           "line": {
            "color": "#2a3f5f"
           }
          },
          "ternary": {
           "aaxis": {
            "gridcolor": "white",
            "linecolor": "white",
            "ticks": ""
           },
           "baxis": {
            "gridcolor": "white",
            "linecolor": "white",
            "ticks": ""
           },
           "bgcolor": "#E5ECF6",
           "caxis": {
            "gridcolor": "white",
            "linecolor": "white",
            "ticks": ""
           }
          },
          "title": {
           "x": 0.05
          },
          "xaxis": {
           "automargin": true,
           "gridcolor": "white",
           "linecolor": "white",
           "ticks": "",
           "title": {
            "standoff": 15
           },
           "zerolinecolor": "white",
           "zerolinewidth": 2
          },
          "yaxis": {
           "automargin": true,
           "gridcolor": "white",
           "linecolor": "white",
           "ticks": "",
           "title": {
            "standoff": 15
           },
           "zerolinecolor": "white",
           "zerolinewidth": 2
          }
         }
        },
        "width": 2300
       }
      }
     },
     "metadata": {},
     "output_type": "display_data"
    }
   ],
   "source": [
    "fig = make_subplots(rows=2, cols=3, #subplot_titles=('Grandfathering (GF)',\n",
    "                                                    # 'Per Capita (PC)',\n",
    "                                                    # 'Per Capita Convergence (PCC)',\n",
    "                                                    # 'Equal Cumulative Per Capita',\n",
    "                                                    # 'Ability to pay (AP)',\n",
    "                                                    # 'Greenhouse Development Rights'), \n",
    "                                    specs=[[{'type': 'choropleth'}, {'type': 'choropleth'}, {'type': 'choropleth'}],\n",
    "                                           [{'type': 'choropleth'}, {'type': 'choropleth'}, {'type': 'choropleth'}]],\n",
    "                                    horizontal_spacing = 0,\n",
    "                                    vertical_spacing=0)\n",
    "\n",
    "colorbar_abs = dict(len=1, x=1, tickvals = [0, 1, 2, 3], ticktext = ['1', '10', '100', '1000'])\n",
    "colorbar_pc = dict(len=1, x=1)\n",
    "\n",
    "for var_i, var in enumerate(rules):\n",
    "    if var_i == 0:\n",
    "        cm= True\n",
    "    else:\n",
    "        cm= False\n",
    "    fig.add_trace(\n",
    "        go.Choropleth(\n",
    "        locations=group_eu,\n",
    "        z = data2[var],\n",
    "        locationmode = 'ISO-3',\n",
    "        colorscale = 'RdBu',\n",
    "        zmax = 18,\n",
    "        zmin = -18,\n",
    "        text = [str(r)+\": {:0.2f} Gt CO<sub>2</sub>e\".format(float(data2.sel(Region=r)[var])) for r_i, r in enumerate(group_eu)],\n",
    "        hovertemplate  = '%{text}',\n",
    "        name=\"\",\n",
    "        marker_line_color='grey', \n",
    "        marker_line_width=0.7,\n",
    "        colorbar=dict(len=1, x=1, tickvals = np.arange(-25, 25+0.1, 5), title={\"text\":\"CO<sub>2</sub>e budget<br>2021-2100<br>expressed<br>in 2021<br>emissions\"}, tickfont={'size': 25}),\n",
    "        showscale=cm\n",
    "    ), [1, 1, 1, 2, 2, 2][var_i], [1, 2, 3, 1, 2, 3][var_i])\n",
    "# fig.update_geos(showocean=True, oceancolor=\"white\")\n",
    "# fig.update_geos(showlakes=True, lakecolor=\"white\")\n",
    "\n",
    "# limite map scope to USA 'africa', 'asia', 'europe', 'north america', 'south america', 'usa', 'world'\n",
    "fig.update_layout(\n",
    "    geo1 = dict(scope='europe', \n",
    "                showlakes=False,\n",
    "                lakecolor='rgb(255, 255, 255)',\n",
    "                showcoastlines=False,),\n",
    "    geo2 = dict(scope='europe', \n",
    "                showlakes=False,\n",
    "                lakecolor='rgb(255, 255, 255)',\n",
    "                showcoastlines=False,),\n",
    "    geo3 = dict(scope='europe', \n",
    "                showlakes=False,\n",
    "                lakecolor='rgb(255, 255, 255)',\n",
    "                showcoastlines=False,),\n",
    "    geo4 = dict(scope='europe', \n",
    "                showlakes=False,\n",
    "                lakecolor='rgb(255, 255, 255)',\n",
    "                showcoastlines=False,),\n",
    "    geo5 = dict(scope='europe', \n",
    "                showlakes=False,\n",
    "                lakecolor='rgb(255, 255, 255)',\n",
    "                showcoastlines=False,),\n",
    "    geo6 = dict(scope='europe', \n",
    "                showlakes=False,\n",
    "                showcoastlines=False,),\n",
    ")\n",
    "\n",
    "mn = np.min(np.array([float(data2[rules].min()[r]) for r in rules]))\n",
    "mx = np.max(np.array([float(data2[rules].max()[r]) for r in rules]))\n",
    "for var_i, var in enumerate(rules):\n",
    "    vals = np.array(data2[var]).astype(float)\n",
    "    vals_i = (vals + mn)**1.2\n",
    "    vals_n = 14*(vals - mn)/(mx - mn)+7\n",
    "    vals_boolean = np.copy(vals)\n",
    "    vals_boolean[vals >= 0] = 1\n",
    "    vals_boolean[vals < 0] = 0\n",
    "    vals_boolean = vals_boolean.astype(int)\n",
    "    \n",
    "    fig.add_scattergeo(\n",
    "                locations = group_eu,\n",
    "                text = vals.round(0),\n",
    "                featureidkey=\"properties.NAME_3\",\n",
    "                mode = 'text',\n",
    "                hoverinfo='skip',\n",
    "                showlegend=False,\n",
    "                textfont={'size': 20,\n",
    "                          'color': np.array(['black', 'black'])[vals_boolean]},\n",
    "                row=[1, 1, 1, 2, 2, 2][var_i],\n",
    "                col=[1, 2, 3, 1, 2, 3][var_i])\n",
    "\n",
    "fig.update_geos(visible=False,\n",
    "                showlakes=True,\n",
    "                lakecolor='rgb(255, 255, 255)',\n",
    "                projection_type='natural earth',\n",
    "                resolution=50,\n",
    "                lataxis_range=[30,75], lonaxis_range=[-20, 40],\n",
    "                showcoastlines=False,)\n",
    "\n",
    "#fig.update_traces(showscale=False)\n",
    "fig.update_layout(height=1200, width=2300)\n",
    "fig.update_geos(visible=True, showcountries=False)#fitbounds=\"locations\",\n",
    "fig.update_layout(margin={\"r\":0,\"t\":0,\"l\":0,\"b\":0})\n",
    "\n",
    "fig.add_annotation(xref='paper', yref='paper',ax=0, align='left', ay=-0, showarrow=False, font=dict(color='black', size=25),\n",
    "                   y=0.96, x=0.07, text=\"<b>(a) Grandfathering</b>\")\n",
    "fig.add_annotation(xref='paper', yref='paper',ax=0, align='left', ay=-0, showarrow=False, font=dict(color='black', size=25),\n",
    "                   y=0.96, x=0.47, text=\"<b>(b) Per Capita</b>\")\n",
    "fig.add_annotation(xref='paper', yref='paper',ax=0, align='left', ay=-0, showarrow=False, font=dict(color='black', size=25),\n",
    "                   y=0.96, x=0.90, text=\"<b>(c) Per Capita Convergence</b>\")\n",
    "fig.add_annotation(xref='paper', yref='paper',ax=0, align='left', ay=-0, showarrow=False, font=dict(color='black', size=25),\n",
    "                   y=0.45, x=0.07, text=\"<b>(d) Equal Cumulative per Capita</b>\")\n",
    "fig.add_annotation(xref='paper', yref='paper',ax=0, align='left', ay=-0, showarrow=False, font=dict(color='black', size=25),\n",
    "                   y=0.45, x=0.48, text=\"<b>(e) Ability to Pay</b>\")\n",
    "fig.add_annotation(xref='paper', yref='paper',ax=0, align='left', ay=-0, showarrow=False, font=dict(color='black', size=25),\n",
    "                   y=0.45, x=0.95, text=\"<b>(f) Greenhouse Development Rights</b>\")\n",
    "fig_europe = fig\n",
    "fig.show()"
   ]
  },
  {
   "cell_type": "code",
   "execution_count": 22,
   "metadata": {},
   "outputs": [],
   "source": [
    "fig.write_image(\"X:/user/dekkerm/Projects/ECEMF_T5.2/Figures/Presentations/Europe_budget_rel.png\", scale=3)"
   ]
  },
  {
   "cell_type": "code",
   "execution_count": 23,
   "metadata": {},
   "outputs": [],
   "source": [
    "data3 = xrt.sel(**standard_settings, Time=2030, Region=group_eu).mean(dim='Scenario')"
   ]
  },
  {
   "cell_type": "code",
   "execution_count": 26,
   "metadata": {},
   "outputs": [
    {
     "name": "stderr",
     "output_type": "stream",
     "text": [
      "C:\\Users\\dekkerm\\AppData\\Local\\Temp\\3\\ipykernel_6896\\1687074859.py:70: RuntimeWarning:\n",
      "\n",
      "invalid value encountered in power\n",
      "\n"
     ]
    },
    {
     "data": {
      "application/vnd.plotly.v1+json": {
       "config": {
        "plotlyServerURL": "https://plotly.com"
       },
       "data": [
        {
         "colorbar": {
          "len": 1,
          "tickfont": {
           "size": 25
          },
          "tickvals": [
           -500,
           -450,
           -400,
           -350,
           -300,
           -250,
           -200,
           -150,
           -100,
           -50,
           0,
           50,
           100,
           150,
           200,
           250,
           300,
           350,
           400,
           450
          ],
          "title": {
           "text": "CO<sub>2</sub>e<br>allocation<br>in 2030"
          },
          "x": 1
         },
         "colorscale": [
          [
           0,
           "rgb(103,0,31)"
          ],
          [
           0.1,
           "rgb(178,24,43)"
          ],
          [
           0.2,
           "rgb(214,96,77)"
          ],
          [
           0.3,
           "rgb(244,165,130)"
          ],
          [
           0.4,
           "rgb(253,219,199)"
          ],
          [
           0.5,
           "rgb(247,247,247)"
          ],
          [
           0.6,
           "rgb(209,229,240)"
          ],
          [
           0.7,
           "rgb(146,197,222)"
          ],
          [
           0.8,
           "rgb(67,147,195)"
          ],
          [
           0.9,
           "rgb(33,102,172)"
          ],
          [
           1,
           "rgb(5,48,97)"
          ]
         ],
         "geo": "geo",
         "hovertemplate": "%{text}",
         "locationmode": "ISO-3",
         "locations": [
          "AUT",
          "BEL",
          "BGR",
          "HRV",
          "CYP",
          "CZE",
          "DNK",
          "EST",
          "FIN",
          "FRA",
          "DEU",
          "GRC",
          "HUN",
          "IRL",
          "ITA",
          "LVA",
          "LTU",
          "LUX",
          "MLT",
          "NLD",
          "POL",
          "PRT",
          "ROU",
          "SVK",
          "SVN",
          "ESP",
          "SWE"
         ],
         "marker": {
          "line": {
           "color": "grey",
           "width": 0.7
          }
         },
         "name": "",
         "showscale": true,
         "text": [
          "AUT: 39.23 Gt CO<sub>2</sub>e",
          "BEL: 69.67 Gt CO<sub>2</sub>e",
          "BGR: 13.41 Gt CO<sub>2</sub>e",
          "HRV: 11.18 Gt CO<sub>2</sub>e",
          "CYP: 4.24 Gt CO<sub>2</sub>e",
          "CZE: 60.30 Gt CO<sub>2</sub>e",
          "DNK: 24.11 Gt CO<sub>2</sub>e",
          "EST: 12.96 Gt CO<sub>2</sub>e",
          "FIN: 39.45 Gt CO<sub>2</sub>e",
          "FRA: 199.89 Gt CO<sub>2</sub>e",
          "DEU: 402.93 Gt CO<sub>2</sub>e",
          "GRC: 43.05 Gt CO<sub>2</sub>e",
          "HUN: 39.90 Gt CO<sub>2</sub>e",
          "IRL: 32.94 Gt CO<sub>2</sub>e",
          "ITA: 211.51 Gt CO<sub>2</sub>e",
          "LVA: 5.06 Gt CO<sub>2</sub>e",
          "LTU: 14.75 Gt CO<sub>2</sub>e",
          "LUX: 5.14 Gt CO<sub>2</sub>e",
          "MLT: 1.47 Gt CO<sub>2</sub>e",
          "NLD: 117.08 Gt CO<sub>2</sub>e",
          "POL: 208.10 Gt CO<sub>2</sub>e",
          "PRT: 30.67 Gt CO<sub>2</sub>e",
          "ROU: 50.26 Gt CO<sub>2</sub>e",
          "SVK: 24.07 Gt CO<sub>2</sub>e",
          "SVN: 9.49 Gt CO<sub>2</sub>e",
          "ESP: 160.75 Gt CO<sub>2</sub>e",
          "SWE: 25.02 Gt CO<sub>2</sub>e"
         ],
         "type": "choropleth",
         "z": [
          39.22996139526367,
          69.67401123046875,
          13.406075477600098,
          11.179154396057129,
          4.242109775543213,
          60.3029670715332,
          24.10541343688965,
          12.956381797790527,
          39.447662353515625,
          199.8897247314453,
          402.93231201171875,
          43.049339294433594,
          39.896583557128906,
          32.939571380615234,
          211.5106658935547,
          5.055978775024414,
          14.752571105957031,
          5.13533353805542,
          1.4748893976211548,
          117.08497619628906,
          208.0972900390625,
          30.669858932495117,
          50.26361846923828,
          24.068748474121094,
          9.486087799072266,
          160.74656677246094,
          25.017200469970703
         ],
         "zmax": 500,
         "zmin": -500
        },
        {
         "colorbar": {
          "len": 1,
          "tickfont": {
           "size": 25
          },
          "tickvals": [
           -500,
           -450,
           -400,
           -350,
           -300,
           -250,
           -200,
           -150,
           -100,
           -50,
           0,
           50,
           100,
           150,
           200,
           250,
           300,
           350,
           400,
           450
          ],
          "title": {
           "text": "CO<sub>2</sub>e<br>allocation<br>in 2030"
          },
          "x": 1
         },
         "colorscale": [
          [
           0,
           "rgb(103,0,31)"
          ],
          [
           0.1,
           "rgb(178,24,43)"
          ],
          [
           0.2,
           "rgb(214,96,77)"
          ],
          [
           0.3,
           "rgb(244,165,130)"
          ],
          [
           0.4,
           "rgb(253,219,199)"
          ],
          [
           0.5,
           "rgb(247,247,247)"
          ],
          [
           0.6,
           "rgb(209,229,240)"
          ],
          [
           0.7,
           "rgb(146,197,222)"
          ],
          [
           0.8,
           "rgb(67,147,195)"
          ],
          [
           0.9,
           "rgb(33,102,172)"
          ],
          [
           1,
           "rgb(5,48,97)"
          ]
         ],
         "geo": "geo2",
         "hovertemplate": "%{text}",
         "locationmode": "ISO-3",
         "locations": [
          "AUT",
          "BEL",
          "BGR",
          "HRV",
          "CYP",
          "CZE",
          "DNK",
          "EST",
          "FIN",
          "FRA",
          "DEU",
          "GRC",
          "HUN",
          "IRL",
          "ITA",
          "LVA",
          "LTU",
          "LUX",
          "MLT",
          "NLD",
          "POL",
          "PRT",
          "ROU",
          "SVK",
          "SVN",
          "ESP",
          "SWE"
         ],
         "marker": {
          "line": {
           "color": "grey",
           "width": 0.7
          }
         },
         "name": "",
         "showscale": false,
         "text": [
          "AUT: 33.15 Gt CO<sub>2</sub>e",
          "BEL: 43.01 Gt CO<sub>2</sub>e",
          "BGR: 26.72 Gt CO<sub>2</sub>e",
          "HRV: 16.43 Gt CO<sub>2</sub>e",
          "CYP: 4.78 Gt CO<sub>2</sub>e",
          "CZE: 41.84 Gt CO<sub>2</sub>e",
          "DNK: 22.17 Gt CO<sub>2</sub>e",
          "EST: 5.03 Gt CO<sub>2</sub>e",
          "FIN: 21.43 Gt CO<sub>2</sub>e",
          "FRA: 263.67 Gt CO<sub>2</sub>e",
          "DEU: 311.30 Gt CO<sub>2</sub>e",
          "GRC: 43.44 Gt CO<sub>2</sub>e",
          "HUN: 36.92 Gt CO<sub>2</sub>e",
          "IRL: 19.31 Gt CO<sub>2</sub>e",
          "ITA: 234.72 Gt CO<sub>2</sub>e",
          "LVA: 8.02 Gt CO<sub>2</sub>e",
          "LTU: 12.05 Gt CO<sub>2</sub>e",
          "LUX: 2.29 Gt CO<sub>2</sub>e",
          "MLT: 1.65 Gt CO<sub>2</sub>e",
          "NLD: 65.84 Gt CO<sub>2</sub>e",
          "POL: 145.87 Gt CO<sub>2</sub>e",
          "PRT: 41.53 Gt CO<sub>2</sub>e",
          "ROU: 78.57 Gt CO<sub>2</sub>e",
          "SVK: 21.34 Gt CO<sub>2</sub>e",
          "SVN: 7.98 Gt CO<sub>2</sub>e",
          "ESP: 185.94 Gt CO<sub>2</sub>e",
          "SWE: 39.01 Gt CO<sub>2</sub>e"
         ],
         "type": "choropleth",
         "z": [
          33.152427673339844,
          43.00817108154297,
          26.71710205078125,
          16.431598663330078,
          4.783209323883057,
          41.83953857421875,
          22.16904640197754,
          5.025160789489746,
          21.434038162231445,
          263.6744079589844,
          311.29986572265625,
          43.44408416748047,
          36.91510772705078,
          19.313068389892578,
          234.72451782226562,
          8.024029731750488,
          12.050310134887695,
          2.2852067947387695,
          1.6487764120101929,
          65.83576965332031,
          145.86683654785156,
          41.525291442871094,
          78.5687255859375,
          21.33651351928711,
          7.975499629974365,
          185.94366455078125,
          39.005882263183594
         ],
         "zmax": 500,
         "zmin": -500
        },
        {
         "colorbar": {
          "len": 1,
          "tickfont": {
           "size": 25
          },
          "tickvals": [
           -500,
           -450,
           -400,
           -350,
           -300,
           -250,
           -200,
           -150,
           -100,
           -50,
           0,
           50,
           100,
           150,
           200,
           250,
           300,
           350,
           400,
           450
          ],
          "title": {
           "text": "CO<sub>2</sub>e<br>allocation<br>in 2030"
          },
          "x": 1
         },
         "colorscale": [
          [
           0,
           "rgb(103,0,31)"
          ],
          [
           0.1,
           "rgb(178,24,43)"
          ],
          [
           0.2,
           "rgb(214,96,77)"
          ],
          [
           0.3,
           "rgb(244,165,130)"
          ],
          [
           0.4,
           "rgb(253,219,199)"
          ],
          [
           0.5,
           "rgb(247,247,247)"
          ],
          [
           0.6,
           "rgb(209,229,240)"
          ],
          [
           0.7,
           "rgb(146,197,222)"
          ],
          [
           0.8,
           "rgb(67,147,195)"
          ],
          [
           0.9,
           "rgb(33,102,172)"
          ],
          [
           1,
           "rgb(5,48,97)"
          ]
         ],
         "geo": "geo3",
         "hovertemplate": "%{text}",
         "locationmode": "ISO-3",
         "locations": [
          "AUT",
          "BEL",
          "BGR",
          "HRV",
          "CYP",
          "CZE",
          "DNK",
          "EST",
          "FIN",
          "FRA",
          "DEU",
          "GRC",
          "HUN",
          "IRL",
          "ITA",
          "LVA",
          "LTU",
          "LUX",
          "MLT",
          "NLD",
          "POL",
          "PRT",
          "ROU",
          "SVK",
          "SVN",
          "ESP",
          "SWE"
         ],
         "marker": {
          "line": {
           "color": "grey",
           "width": 0.7
          }
         },
         "name": "",
         "showscale": false,
         "text": [
          "AUT: 37.34 Gt CO<sub>2</sub>e",
          "BEL: 61.40 Gt CO<sub>2</sub>e",
          "BGR: 17.54 Gt CO<sub>2</sub>e",
          "HRV: 12.81 Gt CO<sub>2</sub>e",
          "CYP: 4.41 Gt CO<sub>2</sub>e",
          "CZE: 54.57 Gt CO<sub>2</sub>e",
          "DNK: 23.50 Gt CO<sub>2</sub>e",
          "EST: 10.49 Gt CO<sub>2</sub>e",
          "FIN: 33.86 Gt CO<sub>2</sub>e",
          "FRA: 219.68 Gt CO<sub>2</sub>e",
          "DEU: 374.49 Gt CO<sub>2</sub>e",
          "GRC: 43.17 Gt CO<sub>2</sub>e",
          "HUN: 38.97 Gt CO<sub>2</sub>e",
          "IRL: 28.71 Gt CO<sub>2</sub>e",
          "ITA: 218.71 Gt CO<sub>2</sub>e",
          "LVA: 5.98 Gt CO<sub>2</sub>e",
          "LTU: 13.91 Gt CO<sub>2</sub>e",
          "LUX: 4.25 Gt CO<sub>2</sub>e",
          "MLT: 1.53 Gt CO<sub>2</sub>e",
          "NLD: 101.18 Gt CO<sub>2</sub>e",
          "POL: 188.78 Gt CO<sub>2</sub>e",
          "PRT: 34.04 Gt CO<sub>2</sub>e",
          "ROU: 59.05 Gt CO<sub>2</sub>e",
          "SVK: 23.22 Gt CO<sub>2</sub>e",
          "SVN: 9.02 Gt CO<sub>2</sub>e",
          "ESP: 168.57 Gt CO<sub>2</sub>e",
          "SWE: 29.36 Gt CO<sub>2</sub>e"
         ],
         "type": "choropleth",
         "z": [
          37.34383010864258,
          61.398406982421875,
          17.53708267211914,
          12.809222221374512,
          4.410037040710449,
          54.57293701171875,
          23.504472732543945,
          10.494967460632324,
          33.85722732543945,
          219.6849822998047,
          374.49468994140625,
          43.171844482421875,
          38.97129821777344,
          28.710657119750977,
          218.7149658203125,
          5.977097988128662,
          13.91393756866455,
          4.250811576843262,
          1.528854250907898,
          101.1800537109375,
          188.78439331054688,
          34.038787841796875,
          59.0479621887207,
          23.220813751220703,
          9.017285346984863,
          168.56637573242188,
          29.3585147857666
         ],
         "zmax": 500,
         "zmin": -500
        },
        {
         "colorbar": {
          "len": 1,
          "tickfont": {
           "size": 25
          },
          "tickvals": [
           -500,
           -450,
           -400,
           -350,
           -300,
           -250,
           -200,
           -150,
           -100,
           -50,
           0,
           50,
           100,
           150,
           200,
           250,
           300,
           350,
           400,
           450
          ],
          "title": {
           "text": "CO<sub>2</sub>e<br>allocation<br>in 2030"
          },
          "x": 1
         },
         "colorscale": [
          [
           0,
           "rgb(103,0,31)"
          ],
          [
           0.1,
           "rgb(178,24,43)"
          ],
          [
           0.2,
           "rgb(214,96,77)"
          ],
          [
           0.3,
           "rgb(244,165,130)"
          ],
          [
           0.4,
           "rgb(253,219,199)"
          ],
          [
           0.5,
           "rgb(247,247,247)"
          ],
          [
           0.6,
           "rgb(209,229,240)"
          ],
          [
           0.7,
           "rgb(146,197,222)"
          ],
          [
           0.8,
           "rgb(67,147,195)"
          ],
          [
           0.9,
           "rgb(33,102,172)"
          ],
          [
           1,
           "rgb(5,48,97)"
          ]
         ],
         "geo": "geo4",
         "hovertemplate": "%{text}",
         "locationmode": "ISO-3",
         "locations": [
          "AUT",
          "BEL",
          "BGR",
          "HRV",
          "CYP",
          "CZE",
          "DNK",
          "EST",
          "FIN",
          "FRA",
          "DEU",
          "GRC",
          "HUN",
          "IRL",
          "ITA",
          "LVA",
          "LTU",
          "LUX",
          "MLT",
          "NLD",
          "POL",
          "PRT",
          "ROU",
          "SVK",
          "SVN",
          "ESP",
          "SWE"
         ],
         "marker": {
          "line": {
           "color": "grey",
           "width": 0.7
          }
         },
         "name": "",
         "showscale": false,
         "text": [
          "AUT: 29.52 Gt CO<sub>2</sub>e",
          "BEL: 49.96 Gt CO<sub>2</sub>e",
          "BGR: 9.65 Gt CO<sub>2</sub>e",
          "HRV: 8.55 Gt CO<sub>2</sub>e",
          "CYP: 3.48 Gt CO<sub>2</sub>e",
          "CZE: 41.54 Gt CO<sub>2</sub>e",
          "DNK: 16.25 Gt CO<sub>2</sub>e",
          "EST: 9.04 Gt CO<sub>2</sub>e",
          "FIN: 30.03 Gt CO<sub>2</sub>e",
          "FRA: 156.04 Gt CO<sub>2</sub>e",
          "DEU: 273.72 Gt CO<sub>2</sub>e",
          "GRC: 30.29 Gt CO<sub>2</sub>e",
          "HUN: 29.92 Gt CO<sub>2</sub>e",
          "IRL: 23.72 Gt CO<sub>2</sub>e",
          "ITA: 156.91 Gt CO<sub>2</sub>e",
          "LVA: 4.98 Gt CO<sub>2</sub>e",
          "LTU: 11.05 Gt CO<sub>2</sub>e",
          "LUX: 3.57 Gt CO<sub>2</sub>e",
          "MLT: 1.18 Gt CO<sub>2</sub>e",
          "NLD: 80.61 Gt CO<sub>2</sub>e",
          "POL: 150.43 Gt CO<sub>2</sub>e",
          "PRT: 23.71 Gt CO<sub>2</sub>e",
          "ROU: 42.24 Gt CO<sub>2</sub>e",
          "SVK: 18.61 Gt CO<sub>2</sub>e",
          "SVN: 7.78 Gt CO<sub>2</sub>e",
          "ESP: 125.28 Gt CO<sub>2</sub>e",
          "SWE: 19.98 Gt CO<sub>2</sub>e"
         ],
         "type": "choropleth",
         "z": [
          29.523487091064453,
          49.96331024169922,
          9.649989128112793,
          8.550186157226562,
          3.475985288619995,
          41.54063415527344,
          16.245941162109375,
          9.039212226867676,
          30.03463363647461,
          156.0424041748047,
          273.71600341796875,
          30.286754608154297,
          29.917095184326172,
          23.720020294189453,
          156.90829467773438,
          4.983203411102295,
          11.049612045288086,
          3.570770740509033,
          1.1763378381729126,
          80.60978698730469,
          150.4337158203125,
          23.713808059692383,
          42.240989685058594,
          18.610897064208984,
          7.775231838226318,
          125.28116607666016,
          19.982725143432617
         ],
         "zmax": 500,
         "zmin": -500
        },
        {
         "colorbar": {
          "len": 1,
          "tickfont": {
           "size": 25
          },
          "tickvals": [
           -500,
           -450,
           -400,
           -350,
           -300,
           -250,
           -200,
           -150,
           -100,
           -50,
           0,
           50,
           100,
           150,
           200,
           250,
           300,
           350,
           400,
           450
          ],
          "title": {
           "text": "CO<sub>2</sub>e<br>allocation<br>in 2030"
          },
          "x": 1
         },
         "colorscale": [
          [
           0,
           "rgb(103,0,31)"
          ],
          [
           0.1,
           "rgb(178,24,43)"
          ],
          [
           0.2,
           "rgb(214,96,77)"
          ],
          [
           0.3,
           "rgb(244,165,130)"
          ],
          [
           0.4,
           "rgb(253,219,199)"
          ],
          [
           0.5,
           "rgb(247,247,247)"
          ],
          [
           0.6,
           "rgb(209,229,240)"
          ],
          [
           0.7,
           "rgb(146,197,222)"
          ],
          [
           0.8,
           "rgb(67,147,195)"
          ],
          [
           0.9,
           "rgb(33,102,172)"
          ],
          [
           1,
           "rgb(5,48,97)"
          ]
         ],
         "geo": "geo5",
         "hovertemplate": "%{text}",
         "locationmode": "ISO-3",
         "locations": [
          "AUT",
          "BEL",
          "BGR",
          "HRV",
          "CYP",
          "CZE",
          "DNK",
          "EST",
          "FIN",
          "FRA",
          "DEU",
          "GRC",
          "HUN",
          "IRL",
          "ITA",
          "LVA",
          "LTU",
          "LUX",
          "MLT",
          "NLD",
          "POL",
          "PRT",
          "ROU",
          "SVK",
          "SVN",
          "ESP",
          "SWE"
         ],
         "marker": {
          "line": {
           "color": "grey",
           "width": 0.7
          }
         },
         "name": "",
         "showscale": false,
         "text": [
          "AUT: 24.46 Gt CO<sub>2</sub>e",
          "BEL: 46.05 Gt CO<sub>2</sub>e",
          "BGR: 10.38 Gt CO<sub>2</sub>e",
          "HRV: 9.99 Gt CO<sub>2</sub>e",
          "CYP: 3.49 Gt CO<sub>2</sub>e",
          "CZE: 40.44 Gt CO<sub>2</sub>e",
          "DNK: 16.36 Gt CO<sub>2</sub>e",
          "EST: 9.62 Gt CO<sub>2</sub>e",
          "FIN: 26.02 Gt CO<sub>2</sub>e",
          "FRA: 142.17 Gt CO<sub>2</sub>e",
          "DEU: 253.51 Gt CO<sub>2</sub>e",
          "GRC: 32.06 Gt CO<sub>2</sub>e",
          "HUN: 35.34 Gt CO<sub>2</sub>e",
          "IRL: 21.26 Gt CO<sub>2</sub>e",
          "ITA: 160.56 Gt CO<sub>2</sub>e",
          "LVA: 4.32 Gt CO<sub>2</sub>e",
          "LTU: 12.43 Gt CO<sub>2</sub>e",
          "LUX: 2.14 Gt CO<sub>2</sub>e",
          "MLT: 0.98 Gt CO<sub>2</sub>e",
          "NLD: 72.79 Gt CO<sub>2</sub>e",
          "POL: 159.93 Gt CO<sub>2</sub>e",
          "PRT: 24.27 Gt CO<sub>2</sub>e",
          "ROU: 47.04 Gt CO<sub>2</sub>e",
          "SVK: nan Gt CO<sub>2</sub>e",
          "SVN: 6.85 Gt CO<sub>2</sub>e",
          "ESP: 121.85 Gt CO<sub>2</sub>e",
          "SWE: 15.38 Gt CO<sub>2</sub>e"
         ],
         "type": "choropleth",
         "z": [
          24.464717864990234,
          46.04700469970703,
          10.384252548217773,
          9.990614891052246,
          3.489854335784912,
          40.438716888427734,
          16.355010986328125,
          9.621728897094727,
          26.01840591430664,
          142.17120361328125,
          253.5141143798828,
          32.05539321899414,
          35.34207534790039,
          21.255229949951172,
          160.56210327148438,
          4.321344375610352,
          12.427156448364258,
          2.1400208473205566,
          0.9836238026618958,
          72.79396057128906,
          159.93150329589844,
          24.270959854125977,
          47.044578552246094,
          null,
          6.8481245040893555,
          121.8458251953125,
          15.382797241210938
         ],
         "zmax": 500,
         "zmin": -500
        },
        {
         "colorbar": {
          "len": 1,
          "tickfont": {
           "size": 25
          },
          "tickvals": [
           -500,
           -450,
           -400,
           -350,
           -300,
           -250,
           -200,
           -150,
           -100,
           -50,
           0,
           50,
           100,
           150,
           200,
           250,
           300,
           350,
           400,
           450
          ],
          "title": {
           "text": "CO<sub>2</sub>e<br>allocation<br>in 2030"
          },
          "x": 1
         },
         "colorscale": [
          [
           0,
           "rgb(103,0,31)"
          ],
          [
           0.1,
           "rgb(178,24,43)"
          ],
          [
           0.2,
           "rgb(214,96,77)"
          ],
          [
           0.3,
           "rgb(244,165,130)"
          ],
          [
           0.4,
           "rgb(253,219,199)"
          ],
          [
           0.5,
           "rgb(247,247,247)"
          ],
          [
           0.6,
           "rgb(209,229,240)"
          ],
          [
           0.7,
           "rgb(146,197,222)"
          ],
          [
           0.8,
           "rgb(67,147,195)"
          ],
          [
           0.9,
           "rgb(33,102,172)"
          ],
          [
           1,
           "rgb(5,48,97)"
          ]
         ],
         "geo": "geo6",
         "hovertemplate": "%{text}",
         "locationmode": "ISO-3",
         "locations": [
          "AUT",
          "BEL",
          "BGR",
          "HRV",
          "CYP",
          "CZE",
          "DNK",
          "EST",
          "FIN",
          "FRA",
          "DEU",
          "GRC",
          "HUN",
          "IRL",
          "ITA",
          "LVA",
          "LTU",
          "LUX",
          "MLT",
          "NLD",
          "POL",
          "PRT",
          "ROU",
          "SVK",
          "SVN",
          "ESP",
          "SWE"
         ],
         "marker": {
          "line": {
           "color": "grey",
           "width": 0.7
          }
         },
         "name": "",
         "showscale": false,
         "text": [
          "AUT: -60.48 Gt CO<sub>2</sub>e",
          "BEL: -63.70 Gt CO<sub>2</sub>e",
          "BGR: -4.45 Gt CO<sub>2</sub>e",
          "HRV: -0.33 Gt CO<sub>2</sub>e",
          "CYP: -0.48 Gt CO<sub>2</sub>e",
          "CZE: -23.06 Gt CO<sub>2</sub>e",
          "DNK: -71.44 Gt CO<sub>2</sub>e",
          "EST: 6.68 Gt CO<sub>2</sub>e",
          "FIN: -16.67 Gt CO<sub>2</sub>e",
          "FRA: -494.06 Gt CO<sub>2</sub>e",
          "DEU: -701.78 Gt CO<sub>2</sub>e",
          "GRC: -14.01 Gt CO<sub>2</sub>e",
          "HUN: 16.06 Gt CO<sub>2</sub>e",
          "IRL: -77.11 Gt CO<sub>2</sub>e",
          "ITA: -231.58 Gt CO<sub>2</sub>e",
          "LVA: -0.41 Gt CO<sub>2</sub>e",
          "LTU: 5.54 Gt CO<sub>2</sub>e",
          "LUX: -15.12 Gt CO<sub>2</sub>e",
          "MLT: -1.69 Gt CO<sub>2</sub>e",
          "NLD: -116.59 Gt CO<sub>2</sub>e",
          "POL: 99.60 Gt CO<sub>2</sub>e",
          "PRT: -17.11 Gt CO<sub>2</sub>e",
          "ROU: 21.95 Gt CO<sub>2</sub>e",
          "SVK: nan Gt CO<sub>2</sub>e",
          "SVN: -3.24 Gt CO<sub>2</sub>e",
          "ESP: -146.37 Gt CO<sub>2</sub>e",
          "SWE: -120.51 Gt CO<sub>2</sub>e"
         ],
         "type": "choropleth",
         "z": [
          -60.480499267578125,
          -63.703826904296875,
          -4.453912258148193,
          -0.33324623107910156,
          -0.4845108389854431,
          -23.062480926513672,
          -71.43528747558594,
          6.676767826080322,
          -16.672183990478516,
          -494.0615234375,
          -701.7760620117188,
          -14.013028144836426,
          16.058712005615234,
          -77.11051177978516,
          -231.57894897460938,
          -0.41027432680130005,
          5.539071083068848,
          -15.120233535766602,
          -1.6890289783477783,
          -116.5916748046875,
          99.60115051269531,
          -17.107677459716797,
          21.948022842407227,
          null,
          -3.243314743041992,
          -146.3710479736328,
          -120.5075454711914
         ],
         "zmax": 500,
         "zmin": -500
        },
        {
         "featureidkey": "properties.NAME_3",
         "geo": "geo",
         "hoverinfo": "skip",
         "locations": [
          "AUT",
          "BEL",
          "BGR",
          "HRV",
          "CYP",
          "CZE",
          "DNK",
          "EST",
          "FIN",
          "FRA",
          "DEU",
          "GRC",
          "HUN",
          "IRL",
          "ITA",
          "LVA",
          "LTU",
          "LUX",
          "MLT",
          "NLD",
          "POL",
          "PRT",
          "ROU",
          "SVK",
          "SVN",
          "ESP",
          "SWE"
         ],
         "mode": "text",
         "showlegend": false,
         "text": [
          39,
          70,
          13,
          11,
          4,
          60,
          24,
          13,
          39,
          200,
          403,
          43,
          40,
          33,
          212,
          5,
          15,
          5,
          1,
          117,
          208,
          31,
          50,
          24,
          9,
          161,
          25
         ],
         "textfont": {
          "color": "black",
          "size": 20
         },
         "type": "scattergeo"
        },
        {
         "featureidkey": "properties.NAME_3",
         "geo": "geo2",
         "hoverinfo": "skip",
         "locations": [
          "AUT",
          "BEL",
          "BGR",
          "HRV",
          "CYP",
          "CZE",
          "DNK",
          "EST",
          "FIN",
          "FRA",
          "DEU",
          "GRC",
          "HUN",
          "IRL",
          "ITA",
          "LVA",
          "LTU",
          "LUX",
          "MLT",
          "NLD",
          "POL",
          "PRT",
          "ROU",
          "SVK",
          "SVN",
          "ESP",
          "SWE"
         ],
         "mode": "text",
         "showlegend": false,
         "text": [
          33,
          43,
          27,
          16,
          5,
          42,
          22,
          5,
          21,
          264,
          311,
          43,
          37,
          19,
          235,
          8,
          12,
          2,
          2,
          66,
          146,
          42,
          79,
          21,
          8,
          186,
          39
         ],
         "textfont": {
          "color": "black",
          "size": 20
         },
         "type": "scattergeo"
        },
        {
         "featureidkey": "properties.NAME_3",
         "geo": "geo3",
         "hoverinfo": "skip",
         "locations": [
          "AUT",
          "BEL",
          "BGR",
          "HRV",
          "CYP",
          "CZE",
          "DNK",
          "EST",
          "FIN",
          "FRA",
          "DEU",
          "GRC",
          "HUN",
          "IRL",
          "ITA",
          "LVA",
          "LTU",
          "LUX",
          "MLT",
          "NLD",
          "POL",
          "PRT",
          "ROU",
          "SVK",
          "SVN",
          "ESP",
          "SWE"
         ],
         "mode": "text",
         "showlegend": false,
         "text": [
          37,
          61,
          18,
          13,
          4,
          55,
          24,
          10,
          34,
          220,
          374,
          43,
          39,
          29,
          219,
          6,
          14,
          4,
          2,
          101,
          189,
          34,
          59,
          23,
          9,
          169,
          29
         ],
         "textfont": {
          "color": "black",
          "size": 20
         },
         "type": "scattergeo"
        },
        {
         "featureidkey": "properties.NAME_3",
         "geo": "geo4",
         "hoverinfo": "skip",
         "locations": [
          "AUT",
          "BEL",
          "BGR",
          "HRV",
          "CYP",
          "CZE",
          "DNK",
          "EST",
          "FIN",
          "FRA",
          "DEU",
          "GRC",
          "HUN",
          "IRL",
          "ITA",
          "LVA",
          "LTU",
          "LUX",
          "MLT",
          "NLD",
          "POL",
          "PRT",
          "ROU",
          "SVK",
          "SVN",
          "ESP",
          "SWE"
         ],
         "mode": "text",
         "showlegend": false,
         "text": [
          30,
          50,
          10,
          9,
          3,
          42,
          16,
          9,
          30,
          156,
          274,
          30,
          30,
          24,
          157,
          5,
          11,
          4,
          1,
          81,
          150,
          24,
          42,
          19,
          8,
          125,
          20
         ],
         "textfont": {
          "color": "black",
          "size": 20
         },
         "type": "scattergeo"
        },
        {
         "featureidkey": "properties.NAME_3",
         "geo": "geo5",
         "hoverinfo": "skip",
         "locations": [
          "AUT",
          "BEL",
          "BGR",
          "HRV",
          "CYP",
          "CZE",
          "DNK",
          "EST",
          "FIN",
          "FRA",
          "DEU",
          "GRC",
          "HUN",
          "IRL",
          "ITA",
          "LVA",
          "LTU",
          "LUX",
          "MLT",
          "NLD",
          "POL",
          "PRT",
          "ROU",
          "SVK",
          "SVN",
          "ESP",
          "SWE"
         ],
         "mode": "text",
         "showlegend": false,
         "text": [
          24,
          46,
          10,
          10,
          3,
          40,
          16,
          10,
          26,
          142,
          254,
          32,
          35,
          21,
          161,
          4,
          12,
          2,
          1,
          73,
          160,
          24,
          47,
          null,
          7,
          122,
          15
         ],
         "textfont": {
          "color": "black",
          "size": 20
         },
         "type": "scattergeo"
        },
        {
         "featureidkey": "properties.NAME_3",
         "geo": "geo6",
         "hoverinfo": "skip",
         "locations": [
          "AUT",
          "BEL",
          "BGR",
          "HRV",
          "CYP",
          "CZE",
          "DNK",
          "EST",
          "FIN",
          "FRA",
          "DEU",
          "GRC",
          "HUN",
          "IRL",
          "ITA",
          "LVA",
          "LTU",
          "LUX",
          "MLT",
          "NLD",
          "POL",
          "PRT",
          "ROU",
          "SVK",
          "SVN",
          "ESP",
          "SWE"
         ],
         "mode": "text",
         "showlegend": false,
         "text": [
          -60,
          -64,
          -4,
          0,
          0,
          -23,
          -71,
          7,
          -17,
          -494,
          -702,
          -14,
          16,
          -77,
          -232,
          0,
          6,
          -15,
          -2,
          -117,
          100,
          -17,
          22,
          null,
          -3,
          -146,
          -121
         ],
         "textfont": {
          "color": "black",
          "size": 20
         },
         "type": "scattergeo"
        }
       ],
       "layout": {
        "annotations": [
         {
          "align": "left",
          "ax": 0,
          "ay": 0,
          "font": {
           "color": "black",
           "size": 25
          },
          "showarrow": false,
          "text": "<b>(a) Grandfathering</b>",
          "x": 0.07,
          "xref": "paper",
          "y": 0.96,
          "yref": "paper"
         },
         {
          "align": "left",
          "ax": 0,
          "ay": 0,
          "font": {
           "color": "black",
           "size": 25
          },
          "showarrow": false,
          "text": "<b>(b) Per Capita</b>",
          "x": 0.47,
          "xref": "paper",
          "y": 0.96,
          "yref": "paper"
         },
         {
          "align": "left",
          "ax": 0,
          "ay": 0,
          "font": {
           "color": "black",
           "size": 25
          },
          "showarrow": false,
          "text": "<b>(c) Per Capita Convergence</b>",
          "x": 0.9,
          "xref": "paper",
          "y": 0.96,
          "yref": "paper"
         },
         {
          "align": "left",
          "ax": 0,
          "ay": 0,
          "font": {
           "color": "black",
           "size": 25
          },
          "showarrow": false,
          "text": "<b>(d) Equal Cumulative per Capita</b>",
          "x": 0.07,
          "xref": "paper",
          "y": 0.45,
          "yref": "paper"
         },
         {
          "align": "left",
          "ax": 0,
          "ay": 0,
          "font": {
           "color": "black",
           "size": 25
          },
          "showarrow": false,
          "text": "<b>(e) Ability to Pay</b>",
          "x": 0.48,
          "xref": "paper",
          "y": 0.45,
          "yref": "paper"
         },
         {
          "align": "left",
          "ax": 0,
          "ay": 0,
          "font": {
           "color": "black",
           "size": 25
          },
          "showarrow": false,
          "text": "<b>(f) Greenhouse Development Rights</b>",
          "x": 0.95,
          "xref": "paper",
          "y": 0.45,
          "yref": "paper"
         }
        ],
        "geo": {
         "domain": {
          "x": [
           0,
           0.3333333333333333
          ],
          "y": [
           0.5,
           1
          ]
         },
         "lakecolor": "rgb(255, 255, 255)",
         "lataxis": {
          "range": [
           30,
           75
          ]
         },
         "lonaxis": {
          "range": [
           -20,
           40
          ]
         },
         "projection": {
          "type": "natural earth"
         },
         "resolution": 50,
         "scope": "europe",
         "showcoastlines": false,
         "showcountries": false,
         "showlakes": true,
         "visible": true
        },
        "geo2": {
         "domain": {
          "x": [
           0.3333333333333333,
           0.6666666666666666
          ],
          "y": [
           0.5,
           1
          ]
         },
         "lakecolor": "rgb(255, 255, 255)",
         "lataxis": {
          "range": [
           30,
           75
          ]
         },
         "lonaxis": {
          "range": [
           -20,
           40
          ]
         },
         "projection": {
          "type": "natural earth"
         },
         "resolution": 50,
         "scope": "europe",
         "showcoastlines": false,
         "showcountries": false,
         "showlakes": true,
         "visible": true
        },
        "geo3": {
         "domain": {
          "x": [
           0.6666666666666666,
           1
          ],
          "y": [
           0.5,
           1
          ]
         },
         "lakecolor": "rgb(255, 255, 255)",
         "lataxis": {
          "range": [
           30,
           75
          ]
         },
         "lonaxis": {
          "range": [
           -20,
           40
          ]
         },
         "projection": {
          "type": "natural earth"
         },
         "resolution": 50,
         "scope": "europe",
         "showcoastlines": false,
         "showcountries": false,
         "showlakes": true,
         "visible": true
        },
        "geo4": {
         "domain": {
          "x": [
           0,
           0.3333333333333333
          ],
          "y": [
           0,
           0.5
          ]
         },
         "lakecolor": "rgb(255, 255, 255)",
         "lataxis": {
          "range": [
           30,
           75
          ]
         },
         "lonaxis": {
          "range": [
           -20,
           40
          ]
         },
         "projection": {
          "type": "natural earth"
         },
         "resolution": 50,
         "scope": "europe",
         "showcoastlines": false,
         "showcountries": false,
         "showlakes": true,
         "visible": true
        },
        "geo5": {
         "domain": {
          "x": [
           0.3333333333333333,
           0.6666666666666666
          ],
          "y": [
           0,
           0.5
          ]
         },
         "lakecolor": "rgb(255, 255, 255)",
         "lataxis": {
          "range": [
           30,
           75
          ]
         },
         "lonaxis": {
          "range": [
           -20,
           40
          ]
         },
         "projection": {
          "type": "natural earth"
         },
         "resolution": 50,
         "scope": "europe",
         "showcoastlines": false,
         "showcountries": false,
         "showlakes": true,
         "visible": true
        },
        "geo6": {
         "domain": {
          "x": [
           0.6666666666666666,
           1
          ],
          "y": [
           0,
           0.5
          ]
         },
         "lakecolor": "rgb(255, 255, 255)",
         "lataxis": {
          "range": [
           30,
           75
          ]
         },
         "lonaxis": {
          "range": [
           -20,
           40
          ]
         },
         "projection": {
          "type": "natural earth"
         },
         "resolution": 50,
         "scope": "europe",
         "showcoastlines": false,
         "showcountries": false,
         "showlakes": true,
         "visible": true
        },
        "height": 1200,
        "margin": {
         "b": 0,
         "l": 0,
         "r": 0,
         "t": 0
        },
        "template": {
         "data": {
          "bar": [
           {
            "error_x": {
             "color": "#2a3f5f"
            },
            "error_y": {
             "color": "#2a3f5f"
            },
            "marker": {
             "line": {
              "color": "#E5ECF6",
              "width": 0.5
             },
             "pattern": {
              "fillmode": "overlay",
              "size": 10,
              "solidity": 0.2
             }
            },
            "type": "bar"
           }
          ],
          "barpolar": [
           {
            "marker": {
             "line": {
              "color": "#E5ECF6",
              "width": 0.5
             },
             "pattern": {
              "fillmode": "overlay",
              "size": 10,
              "solidity": 0.2
             }
            },
            "type": "barpolar"
           }
          ],
          "carpet": [
           {
            "aaxis": {
             "endlinecolor": "#2a3f5f",
             "gridcolor": "white",
             "linecolor": "white",
             "minorgridcolor": "white",
             "startlinecolor": "#2a3f5f"
            },
            "baxis": {
             "endlinecolor": "#2a3f5f",
             "gridcolor": "white",
             "linecolor": "white",
             "minorgridcolor": "white",
             "startlinecolor": "#2a3f5f"
            },
            "type": "carpet"
           }
          ],
          "choropleth": [
           {
            "colorbar": {
             "outlinewidth": 0,
             "ticks": ""
            },
            "type": "choropleth"
           }
          ],
          "contour": [
           {
            "colorbar": {
             "outlinewidth": 0,
             "ticks": ""
            },
            "colorscale": [
             [
              0,
              "#0d0887"
             ],
             [
              0.1111111111111111,
              "#46039f"
             ],
             [
              0.2222222222222222,
              "#7201a8"
             ],
             [
              0.3333333333333333,
              "#9c179e"
             ],
             [
              0.4444444444444444,
              "#bd3786"
             ],
             [
              0.5555555555555556,
              "#d8576b"
             ],
             [
              0.6666666666666666,
              "#ed7953"
             ],
             [
              0.7777777777777778,
              "#fb9f3a"
             ],
             [
              0.8888888888888888,
              "#fdca26"
             ],
             [
              1,
              "#f0f921"
             ]
            ],
            "type": "contour"
           }
          ],
          "contourcarpet": [
           {
            "colorbar": {
             "outlinewidth": 0,
             "ticks": ""
            },
            "type": "contourcarpet"
           }
          ],
          "heatmap": [
           {
            "colorbar": {
             "outlinewidth": 0,
             "ticks": ""
            },
            "colorscale": [
             [
              0,
              "#0d0887"
             ],
             [
              0.1111111111111111,
              "#46039f"
             ],
             [
              0.2222222222222222,
              "#7201a8"
             ],
             [
              0.3333333333333333,
              "#9c179e"
             ],
             [
              0.4444444444444444,
              "#bd3786"
             ],
             [
              0.5555555555555556,
              "#d8576b"
             ],
             [
              0.6666666666666666,
              "#ed7953"
             ],
             [
              0.7777777777777778,
              "#fb9f3a"
             ],
             [
              0.8888888888888888,
              "#fdca26"
             ],
             [
              1,
              "#f0f921"
             ]
            ],
            "type": "heatmap"
           }
          ],
          "heatmapgl": [
           {
            "colorbar": {
             "outlinewidth": 0,
             "ticks": ""
            },
            "colorscale": [
             [
              0,
              "#0d0887"
             ],
             [
              0.1111111111111111,
              "#46039f"
             ],
             [
              0.2222222222222222,
              "#7201a8"
             ],
             [
              0.3333333333333333,
              "#9c179e"
             ],
             [
              0.4444444444444444,
              "#bd3786"
             ],
             [
              0.5555555555555556,
              "#d8576b"
             ],
             [
              0.6666666666666666,
              "#ed7953"
             ],
             [
              0.7777777777777778,
              "#fb9f3a"
             ],
             [
              0.8888888888888888,
              "#fdca26"
             ],
             [
              1,
              "#f0f921"
             ]
            ],
            "type": "heatmapgl"
           }
          ],
          "histogram": [
           {
            "marker": {
             "pattern": {
              "fillmode": "overlay",
              "size": 10,
              "solidity": 0.2
             }
            },
            "type": "histogram"
           }
          ],
          "histogram2d": [
           {
            "colorbar": {
             "outlinewidth": 0,
             "ticks": ""
            },
            "colorscale": [
             [
              0,
              "#0d0887"
             ],
             [
              0.1111111111111111,
              "#46039f"
             ],
             [
              0.2222222222222222,
              "#7201a8"
             ],
             [
              0.3333333333333333,
              "#9c179e"
             ],
             [
              0.4444444444444444,
              "#bd3786"
             ],
             [
              0.5555555555555556,
              "#d8576b"
             ],
             [
              0.6666666666666666,
              "#ed7953"
             ],
             [
              0.7777777777777778,
              "#fb9f3a"
             ],
             [
              0.8888888888888888,
              "#fdca26"
             ],
             [
              1,
              "#f0f921"
             ]
            ],
            "type": "histogram2d"
           }
          ],
          "histogram2dcontour": [
           {
            "colorbar": {
             "outlinewidth": 0,
             "ticks": ""
            },
            "colorscale": [
             [
              0,
              "#0d0887"
             ],
             [
              0.1111111111111111,
              "#46039f"
             ],
             [
              0.2222222222222222,
              "#7201a8"
             ],
             [
              0.3333333333333333,
              "#9c179e"
             ],
             [
              0.4444444444444444,
              "#bd3786"
             ],
             [
              0.5555555555555556,
              "#d8576b"
             ],
             [
              0.6666666666666666,
              "#ed7953"
             ],
             [
              0.7777777777777778,
              "#fb9f3a"
             ],
             [
              0.8888888888888888,
              "#fdca26"
             ],
             [
              1,
              "#f0f921"
             ]
            ],
            "type": "histogram2dcontour"
           }
          ],
          "mesh3d": [
           {
            "colorbar": {
             "outlinewidth": 0,
             "ticks": ""
            },
            "type": "mesh3d"
           }
          ],
          "parcoords": [
           {
            "line": {
             "colorbar": {
              "outlinewidth": 0,
              "ticks": ""
             }
            },
            "type": "parcoords"
           }
          ],
          "pie": [
           {
            "automargin": true,
            "type": "pie"
           }
          ],
          "scatter": [
           {
            "fillpattern": {
             "fillmode": "overlay",
             "size": 10,
             "solidity": 0.2
            },
            "type": "scatter"
           }
          ],
          "scatter3d": [
           {
            "line": {
             "colorbar": {
              "outlinewidth": 0,
              "ticks": ""
             }
            },
            "marker": {
             "colorbar": {
              "outlinewidth": 0,
              "ticks": ""
             }
            },
            "type": "scatter3d"
           }
          ],
          "scattercarpet": [
           {
            "marker": {
             "colorbar": {
              "outlinewidth": 0,
              "ticks": ""
             }
            },
            "type": "scattercarpet"
           }
          ],
          "scattergeo": [
           {
            "marker": {
             "colorbar": {
              "outlinewidth": 0,
              "ticks": ""
             }
            },
            "type": "scattergeo"
           }
          ],
          "scattergl": [
           {
            "marker": {
             "colorbar": {
              "outlinewidth": 0,
              "ticks": ""
             }
            },
            "type": "scattergl"
           }
          ],
          "scattermapbox": [
           {
            "marker": {
             "colorbar": {
              "outlinewidth": 0,
              "ticks": ""
             }
            },
            "type": "scattermapbox"
           }
          ],
          "scatterpolar": [
           {
            "marker": {
             "colorbar": {
              "outlinewidth": 0,
              "ticks": ""
             }
            },
            "type": "scatterpolar"
           }
          ],
          "scatterpolargl": [
           {
            "marker": {
             "colorbar": {
              "outlinewidth": 0,
              "ticks": ""
             }
            },
            "type": "scatterpolargl"
           }
          ],
          "scatterternary": [
           {
            "marker": {
             "colorbar": {
              "outlinewidth": 0,
              "ticks": ""
             }
            },
            "type": "scatterternary"
           }
          ],
          "surface": [
           {
            "colorbar": {
             "outlinewidth": 0,
             "ticks": ""
            },
            "colorscale": [
             [
              0,
              "#0d0887"
             ],
             [
              0.1111111111111111,
              "#46039f"
             ],
             [
              0.2222222222222222,
              "#7201a8"
             ],
             [
              0.3333333333333333,
              "#9c179e"
             ],
             [
              0.4444444444444444,
              "#bd3786"
             ],
             [
              0.5555555555555556,
              "#d8576b"
             ],
             [
              0.6666666666666666,
              "#ed7953"
             ],
             [
              0.7777777777777778,
              "#fb9f3a"
             ],
             [
              0.8888888888888888,
              "#fdca26"
             ],
             [
              1,
              "#f0f921"
             ]
            ],
            "type": "surface"
           }
          ],
          "table": [
           {
            "cells": {
             "fill": {
              "color": "#EBF0F8"
             },
             "line": {
              "color": "white"
             }
            },
            "header": {
             "fill": {
              "color": "#C8D4E3"
             },
             "line": {
              "color": "white"
             }
            },
            "type": "table"
           }
          ]
         },
         "layout": {
          "annotationdefaults": {
           "arrowcolor": "#2a3f5f",
           "arrowhead": 0,
           "arrowwidth": 1
          },
          "autotypenumbers": "strict",
          "coloraxis": {
           "colorbar": {
            "outlinewidth": 0,
            "ticks": ""
           }
          },
          "colorscale": {
           "diverging": [
            [
             0,
             "#8e0152"
            ],
            [
             0.1,
             "#c51b7d"
            ],
            [
             0.2,
             "#de77ae"
            ],
            [
             0.3,
             "#f1b6da"
            ],
            [
             0.4,
             "#fde0ef"
            ],
            [
             0.5,
             "#f7f7f7"
            ],
            [
             0.6,
             "#e6f5d0"
            ],
            [
             0.7,
             "#b8e186"
            ],
            [
             0.8,
             "#7fbc41"
            ],
            [
             0.9,
             "#4d9221"
            ],
            [
             1,
             "#276419"
            ]
           ],
           "sequential": [
            [
             0,
             "#0d0887"
            ],
            [
             0.1111111111111111,
             "#46039f"
            ],
            [
             0.2222222222222222,
             "#7201a8"
            ],
            [
             0.3333333333333333,
             "#9c179e"
            ],
            [
             0.4444444444444444,
             "#bd3786"
            ],
            [
             0.5555555555555556,
             "#d8576b"
            ],
            [
             0.6666666666666666,
             "#ed7953"
            ],
            [
             0.7777777777777778,
             "#fb9f3a"
            ],
            [
             0.8888888888888888,
             "#fdca26"
            ],
            [
             1,
             "#f0f921"
            ]
           ],
           "sequentialminus": [
            [
             0,
             "#0d0887"
            ],
            [
             0.1111111111111111,
             "#46039f"
            ],
            [
             0.2222222222222222,
             "#7201a8"
            ],
            [
             0.3333333333333333,
             "#9c179e"
            ],
            [
             0.4444444444444444,
             "#bd3786"
            ],
            [
             0.5555555555555556,
             "#d8576b"
            ],
            [
             0.6666666666666666,
             "#ed7953"
            ],
            [
             0.7777777777777778,
             "#fb9f3a"
            ],
            [
             0.8888888888888888,
             "#fdca26"
            ],
            [
             1,
             "#f0f921"
            ]
           ]
          },
          "colorway": [
           "#636efa",
           "#EF553B",
           "#00cc96",
           "#ab63fa",
           "#FFA15A",
           "#19d3f3",
           "#FF6692",
           "#B6E880",
           "#FF97FF",
           "#FECB52"
          ],
          "font": {
           "color": "#2a3f5f"
          },
          "geo": {
           "bgcolor": "white",
           "lakecolor": "white",
           "landcolor": "#E5ECF6",
           "showlakes": true,
           "showland": true,
           "subunitcolor": "white"
          },
          "hoverlabel": {
           "align": "left"
          },
          "hovermode": "closest",
          "mapbox": {
           "style": "light"
          },
          "paper_bgcolor": "white",
          "plot_bgcolor": "#E5ECF6",
          "polar": {
           "angularaxis": {
            "gridcolor": "white",
            "linecolor": "white",
            "ticks": ""
           },
           "bgcolor": "#E5ECF6",
           "radialaxis": {
            "gridcolor": "white",
            "linecolor": "white",
            "ticks": ""
           }
          },
          "scene": {
           "xaxis": {
            "backgroundcolor": "#E5ECF6",
            "gridcolor": "white",
            "gridwidth": 2,
            "linecolor": "white",
            "showbackground": true,
            "ticks": "",
            "zerolinecolor": "white"
           },
           "yaxis": {
            "backgroundcolor": "#E5ECF6",
            "gridcolor": "white",
            "gridwidth": 2,
            "linecolor": "white",
            "showbackground": true,
            "ticks": "",
            "zerolinecolor": "white"
           },
           "zaxis": {
            "backgroundcolor": "#E5ECF6",
            "gridcolor": "white",
            "gridwidth": 2,
            "linecolor": "white",
            "showbackground": true,
            "ticks": "",
            "zerolinecolor": "white"
           }
          },
          "shapedefaults": {
           "line": {
            "color": "#2a3f5f"
           }
          },
          "ternary": {
           "aaxis": {
            "gridcolor": "white",
            "linecolor": "white",
            "ticks": ""
           },
           "baxis": {
            "gridcolor": "white",
            "linecolor": "white",
            "ticks": ""
           },
           "bgcolor": "#E5ECF6",
           "caxis": {
            "gridcolor": "white",
            "linecolor": "white",
            "ticks": ""
           }
          },
          "title": {
           "x": 0.05
          },
          "xaxis": {
           "automargin": true,
           "gridcolor": "white",
           "linecolor": "white",
           "ticks": "",
           "title": {
            "standoff": 15
           },
           "zerolinecolor": "white",
           "zerolinewidth": 2
          },
          "yaxis": {
           "automargin": true,
           "gridcolor": "white",
           "linecolor": "white",
           "ticks": "",
           "title": {
            "standoff": 15
           },
           "zerolinecolor": "white",
           "zerolinewidth": 2
          }
         }
        },
        "width": 2300
       }
      }
     },
     "metadata": {},
     "output_type": "display_data"
    }
   ],
   "source": [
    "fig = make_subplots(rows=2, cols=3, #subplot_titles=('Grandfathering (GF)',\n",
    "                                                    # 'Per Capita (PC)',\n",
    "                                                    # 'Per Capita Convergence (PCC)',\n",
    "                                                    # 'Equal Cumulative Per Capita',\n",
    "                                                    # 'Ability to pay (AP)',\n",
    "                                                    # 'Greenhouse Development Rights'), \n",
    "                                    specs=[[{'type': 'choropleth'}, {'type': 'choropleth'}, {'type': 'choropleth'}],\n",
    "                                           [{'type': 'choropleth'}, {'type': 'choropleth'}, {'type': 'choropleth'}]],\n",
    "                                    horizontal_spacing = 0,\n",
    "                                    vertical_spacing=0)\n",
    "\n",
    "colorbar_abs = dict(len=1, x=1, tickvals = [0, 1, 2, 3], ticktext = ['1', '10', '100', '1000'])\n",
    "colorbar_pc = dict(len=1, x=1)\n",
    "\n",
    "for var_i, var in enumerate(rules):\n",
    "    if var_i == 0:\n",
    "        cm= True\n",
    "    else:\n",
    "        cm= False\n",
    "    fig.add_trace(\n",
    "        go.Choropleth(\n",
    "        locations=group_eu,\n",
    "        z = data3[var],\n",
    "        locationmode = 'ISO-3',\n",
    "        colorscale = 'RdBu',\n",
    "        zmax = 500,\n",
    "        zmin = -500,\n",
    "        text = [str(r)+\": {:0.2f} Gt CO<sub>2</sub>e\".format(float(data3.sel(Region=r)[var])) for r_i, r in enumerate(group_eu)],\n",
    "        hovertemplate  = '%{text}',\n",
    "        name=\"\",\n",
    "        marker_line_color='grey', \n",
    "        marker_line_width=0.7,\n",
    "        colorbar=dict(len=1, x=1, tickvals = np.arange(-500, 500, 50), title={\"text\":\"GHG<br>allocation<br>in 2030\"}, tickfont={'size': 25}),\n",
    "        showscale=cm\n",
    "    ), [1, 1, 1, 2, 2, 2][var_i], [1, 2, 3, 1, 2, 3][var_i])\n",
    "# fig.update_geos(showocean=True, oceancolor=\"white\")\n",
    "# fig.update_geos(showlakes=True, lakecolor=\"white\")\n",
    "\n",
    "# limite map scope to USA 'africa', 'asia', 'europe', 'north america', 'south america', 'usa', 'world'\n",
    "fig.update_layout(\n",
    "    geo1 = dict(scope='europe', \n",
    "                showlakes=False,\n",
    "                lakecolor='rgb(255, 255, 255)',\n",
    "                showcoastlines=False,),\n",
    "    geo2 = dict(scope='europe', \n",
    "                showlakes=False,\n",
    "                lakecolor='rgb(255, 255, 255)',\n",
    "                showcoastlines=False,),\n",
    "    geo3 = dict(scope='europe', \n",
    "                showlakes=False,\n",
    "                lakecolor='rgb(255, 255, 255)',\n",
    "                showcoastlines=False,),\n",
    "    geo4 = dict(scope='europe', \n",
    "                showlakes=False,\n",
    "                lakecolor='rgb(255, 255, 255)',\n",
    "                showcoastlines=False,),\n",
    "    geo5 = dict(scope='europe', \n",
    "                showlakes=False,\n",
    "                lakecolor='rgb(255, 255, 255)',\n",
    "                showcoastlines=False,),\n",
    "    geo6 = dict(scope='europe', \n",
    "                showlakes=False,\n",
    "                showcoastlines=False,),\n",
    ")\n",
    "\n",
    "mn = np.min(np.array([float(data3[rules].min()[r]) for r in rules]))\n",
    "mx = np.max(np.array([float(data3[rules].max()[r]) for r in rules]))\n",
    "for var_i, var in enumerate(rules):\n",
    "    vals = np.array(data3[var]).astype(float)\n",
    "    vals_i = (vals + mn)**1.2\n",
    "    vals_n = 14*(vals - mn)/(mx - mn)+7\n",
    "    vals_boolean = np.copy(vals)\n",
    "    vals_boolean[vals >= 0] = 1\n",
    "    vals_boolean[vals < 0] = 0\n",
    "    vals_boolean = vals_boolean.astype(int)\n",
    "    \n",
    "    fig.add_scattergeo(\n",
    "                locations = group_eu,\n",
    "                text = vals.round(0),\n",
    "                featureidkey=\"properties.NAME_3\",\n",
    "                mode = 'text',\n",
    "                hoverinfo='skip',\n",
    "                showlegend=False,\n",
    "                textfont={'size': 20,\n",
    "                        'color': 'black'},\n",
    "                row=[1, 1, 1, 2, 2, 2][var_i],\n",
    "                col=[1, 2, 3, 1, 2, 3][var_i])\n",
    "\n",
    "fig.update_geos(visible=False,\n",
    "                showlakes=True,\n",
    "                lakecolor='rgb(255, 255, 255)',\n",
    "                projection_type='natural earth',\n",
    "                resolution=50,\n",
    "                lataxis_range=[30,75], lonaxis_range=[-20, 40],\n",
    "                showcoastlines=False,)\n",
    "\n",
    "#fig.update_traces(showscale=False)\n",
    "fig.update_layout(height=1200, width=2300)\n",
    "fig.update_geos(visible=True, showcountries=False)#fitbounds=\"locations\",\n",
    "fig.update_layout(margin={\"r\":0,\"t\":0,\"l\":0,\"b\":0})\n",
    "\n",
    "fig.add_annotation(xref='paper', yref='paper',ax=0, align='left', ay=-0, showarrow=False, font=dict(color='black', size=25),\n",
    "                   y=0.96, x=0.07, text=\"<b>(a) Grandfathering</b>\")\n",
    "fig.add_annotation(xref='paper', yref='paper',ax=0, align='left', ay=-0, showarrow=False, font=dict(color='black', size=25),\n",
    "                   y=0.96, x=0.47, text=\"<b>(b) Per Capita</b>\")\n",
    "fig.add_annotation(xref='paper', yref='paper',ax=0, align='left', ay=-0, showarrow=False, font=dict(color='black', size=25),\n",
    "                   y=0.96, x=0.90, text=\"<b>(c) Per Capita Convergence</b>\")\n",
    "fig.add_annotation(xref='paper', yref='paper',ax=0, align='left', ay=-0, showarrow=False, font=dict(color='black', size=25),\n",
    "                   y=0.45, x=0.07, text=\"<b>(d) Equal Cumulative per Capita</b>\")\n",
    "fig.add_annotation(xref='paper', yref='paper',ax=0, align='left', ay=-0, showarrow=False, font=dict(color='black', size=25),\n",
    "                   y=0.45, x=0.48, text=\"<b>(e) Ability to Pay</b>\")\n",
    "fig.add_annotation(xref='paper', yref='paper',ax=0, align='left', ay=-0, showarrow=False, font=dict(color='black', size=25),\n",
    "                   y=0.45, x=0.95, text=\"<b>(f) Greenhouse Development Rights</b>\")\n",
    "fig_europe = fig\n",
    "fig.show()"
   ]
  },
  {
   "cell_type": "code",
   "execution_count": 27,
   "metadata": {},
   "outputs": [],
   "source": [
    "fig.write_image(\"X:/user/dekkerm/Projects/ECEMF_T5.2/Figures/Presentations/Europe_2030.png\", scale=3)"
   ]
  },
  {
   "cell_type": "code",
   "execution_count": 28,
   "metadata": {},
   "outputs": [],
   "source": [
    "data4 = (xr_dataread.sel(Time=2021).GHG_hist - xrt.sel(**standard_settings, Time=2030, Region=group_eu).mean(dim='Scenario')) / xr_dataread.sel(Time=2021).GHG_hist"
   ]
  },
  {
   "cell_type": "code",
   "execution_count": 29,
   "metadata": {},
   "outputs": [
    {
     "name": "stderr",
     "output_type": "stream",
     "text": [
      "C:\\Users\\dekkerm\\AppData\\Local\\Temp\\3\\ipykernel_6896\\853437972.py:80: DeprecationWarning:\n",
      "\n",
      "`np.int` is a deprecated alias for the builtin `int`. To silence this warning, use `int` by itself. Doing this will not modify any behavior and is safe. When replacing `np.int`, you may wish to use e.g. `np.int64` or `np.int32` to specify the precision. If you wish to review your current use, check the release note link for additional information.\n",
      "Deprecated in NumPy 1.20; for more details and guidance: https://numpy.org/devdocs/release/1.20.0-notes.html#deprecations\n",
      "\n",
      "C:\\Users\\dekkerm\\AppData\\Local\\Temp\\3\\ipykernel_6896\\853437972.py:70: RuntimeWarning:\n",
      "\n",
      "invalid value encountered in power\n",
      "\n"
     ]
    },
    {
     "data": {
      "application/vnd.plotly.v1+json": {
       "config": {
        "plotlyServerURL": "https://plotly.com"
       },
       "data": [
        {
         "colorbar": {
          "len": 1,
          "tickfont": {
           "size": 25
          },
          "ticktext": [
           "0%",
           "10%",
           "20%",
           "30%",
           "40%",
           "50%",
           "60%",
           "70%",
           "80%",
           "90%"
          ],
          "tickvals": [
           0,
           0.1,
           0.2,
           0.30000000000000004,
           0.4,
           0.5,
           0.6000000000000001,
           0.7000000000000001,
           0.8,
           0.9
          ],
          "title": {
           "text": "Emission<br>reduction<br>in 2030<br>w.r.t. 2021"
          },
          "x": 1
         },
         "colorscale": [
          [
           0,
           "rgb(49,54,149)"
          ],
          [
           0.1,
           "rgb(69,117,180)"
          ],
          [
           0.2,
           "rgb(116,173,209)"
          ],
          [
           0.3,
           "rgb(171,217,233)"
          ],
          [
           0.4,
           "rgb(224,243,248)"
          ],
          [
           0.5,
           "rgb(255,255,191)"
          ],
          [
           0.6,
           "rgb(254,224,144)"
          ],
          [
           0.7,
           "rgb(253,174,97)"
          ],
          [
           0.8,
           "rgb(244,109,67)"
          ],
          [
           0.9,
           "rgb(215,48,39)"
          ],
          [
           1,
           "rgb(165,0,38)"
          ]
         ],
         "geo": "geo",
         "hovertemplate": "%{text}",
         "locationmode": "ISO-3",
         "locations": [
          "AUT",
          "BEL",
          "BGR",
          "HRV",
          "CYP",
          "CZE",
          "DNK",
          "EST",
          "FIN",
          "FRA",
          "DEU",
          "GRC",
          "HUN",
          "IRL",
          "ITA",
          "LVA",
          "LTU",
          "LUX",
          "MLT",
          "NLD",
          "POL",
          "PRT",
          "ROU",
          "SVK",
          "SVN",
          "ESP",
          "SWE"
         ],
         "marker": {
          "line": {
           "color": "grey",
           "width": 0.7
          }
         },
         "name": "",
         "showscale": true,
         "text": [
          "AUT: 0.45 Gt CO<sub>2</sub>e",
          "BEL: 0.45 Gt CO<sub>2</sub>e",
          "BGR: 0.45 Gt CO<sub>2</sub>e",
          "HRV: 0.45 Gt CO<sub>2</sub>e",
          "CYP: 0.45 Gt CO<sub>2</sub>e",
          "CZE: 0.45 Gt CO<sub>2</sub>e",
          "DNK: 0.45 Gt CO<sub>2</sub>e",
          "EST: 0.45 Gt CO<sub>2</sub>e",
          "FIN: 0.45 Gt CO<sub>2</sub>e",
          "FRA: 0.45 Gt CO<sub>2</sub>e",
          "DEU: 0.45 Gt CO<sub>2</sub>e",
          "GRC: 0.45 Gt CO<sub>2</sub>e",
          "HUN: 0.45 Gt CO<sub>2</sub>e",
          "IRL: 0.45 Gt CO<sub>2</sub>e",
          "ITA: 0.45 Gt CO<sub>2</sub>e",
          "LVA: 0.45 Gt CO<sub>2</sub>e",
          "LTU: 0.45 Gt CO<sub>2</sub>e",
          "LUX: 0.45 Gt CO<sub>2</sub>e",
          "MLT: 0.45 Gt CO<sub>2</sub>e",
          "NLD: 0.45 Gt CO<sub>2</sub>e",
          "POL: 0.45 Gt CO<sub>2</sub>e",
          "PRT: 0.45 Gt CO<sub>2</sub>e",
          "ROU: 0.45 Gt CO<sub>2</sub>e",
          "SVK: 0.45 Gt CO<sub>2</sub>e",
          "SVN: 0.45 Gt CO<sub>2</sub>e",
          "ESP: 0.45 Gt CO<sub>2</sub>e",
          "SWE: 0.45 Gt CO<sub>2</sub>e"
         ],
         "type": "choropleth",
         "z": [
          0.44537967178063065,
          0.44537968406363476,
          0.44537968099540437,
          0.4453796718349484,
          0.44537965414142505,
          0.44537965455861594,
          0.44537967242810905,
          0.44537966599387635,
          0.4453796507200704,
          0.4453796548067371,
          0.44537967532134826,
          0.44537966055885125,
          0.44537967445065324,
          0.4453796569168333,
          0.44537965790845296,
          0.445379687899666,
          0.4453796476960744,
          0.4453796783845421,
          0.4453796784430648,
          0.44537966895834724,
          0.44537964581700834,
          0.44537967289250596,
          0.4453796797480484,
          0.4453796420143588,
          0.44537964487881726,
          0.445379659179191,
          0.44537965694133036
         ],
         "zmax": 1,
         "zmin": 0
        },
        {
         "colorbar": {
          "len": 1,
          "tickfont": {
           "size": 25
          },
          "ticktext": [
           "0%",
           "10%",
           "20%",
           "30%",
           "40%",
           "50%",
           "60%",
           "70%",
           "80%",
           "90%"
          ],
          "tickvals": [
           0,
           0.1,
           0.2,
           0.30000000000000004,
           0.4,
           0.5,
           0.6000000000000001,
           0.7000000000000001,
           0.8,
           0.9
          ],
          "title": {
           "text": "Emission<br>reduction<br>in 2030<br>w.r.t. 2021"
          },
          "x": 1
         },
         "colorscale": [
          [
           0,
           "rgb(49,54,149)"
          ],
          [
           0.1,
           "rgb(69,117,180)"
          ],
          [
           0.2,
           "rgb(116,173,209)"
          ],
          [
           0.3,
           "rgb(171,217,233)"
          ],
          [
           0.4,
           "rgb(224,243,248)"
          ],
          [
           0.5,
           "rgb(255,255,191)"
          ],
          [
           0.6,
           "rgb(254,224,144)"
          ],
          [
           0.7,
           "rgb(253,174,97)"
          ],
          [
           0.8,
           "rgb(244,109,67)"
          ],
          [
           0.9,
           "rgb(215,48,39)"
          ],
          [
           1,
           "rgb(165,0,38)"
          ]
         ],
         "geo": "geo2",
         "hovertemplate": "%{text}",
         "locationmode": "ISO-3",
         "locations": [
          "AUT",
          "BEL",
          "BGR",
          "HRV",
          "CYP",
          "CZE",
          "DNK",
          "EST",
          "FIN",
          "FRA",
          "DEU",
          "GRC",
          "HUN",
          "IRL",
          "ITA",
          "LVA",
          "LTU",
          "LUX",
          "MLT",
          "NLD",
          "POL",
          "PRT",
          "ROU",
          "SVK",
          "SVN",
          "ESP",
          "SWE"
         ],
         "marker": {
          "line": {
           "color": "grey",
           "width": 0.7
          }
         },
         "name": "",
         "showscale": false,
         "text": [
          "AUT: 0.53 Gt CO<sub>2</sub>e",
          "BEL: 0.66 Gt CO<sub>2</sub>e",
          "BGR: -0.11 Gt CO<sub>2</sub>e",
          "HRV: 0.18 Gt CO<sub>2</sub>e",
          "CYP: 0.37 Gt CO<sub>2</sub>e",
          "CZE: 0.62 Gt CO<sub>2</sub>e",
          "DNK: 0.49 Gt CO<sub>2</sub>e",
          "EST: 0.78 Gt CO<sub>2</sub>e",
          "FIN: 0.70 Gt CO<sub>2</sub>e",
          "FRA: 0.27 Gt CO<sub>2</sub>e",
          "DEU: 0.57 Gt CO<sub>2</sub>e",
          "GRC: 0.44 Gt CO<sub>2</sub>e",
          "HUN: 0.49 Gt CO<sub>2</sub>e",
          "IRL: 0.67 Gt CO<sub>2</sub>e",
          "ITA: 0.38 Gt CO<sub>2</sub>e",
          "LVA: 0.12 Gt CO<sub>2</sub>e",
          "LTU: 0.55 Gt CO<sub>2</sub>e",
          "LUX: 0.75 Gt CO<sub>2</sub>e",
          "MLT: 0.38 Gt CO<sub>2</sub>e",
          "NLD: 0.69 Gt CO<sub>2</sub>e",
          "POL: 0.61 Gt CO<sub>2</sub>e",
          "PRT: 0.25 Gt CO<sub>2</sub>e",
          "ROU: 0.13 Gt CO<sub>2</sub>e",
          "SVK: 0.51 Gt CO<sub>2</sub>e",
          "SVN: 0.53 Gt CO<sub>2</sub>e",
          "ESP: 0.36 Gt CO<sub>2</sub>e",
          "SWE: 0.14 Gt CO<sub>2</sub>e"
         ],
         "type": "choropleth",
         "z": [
          0.5313018503332875,
          0.6576455838865282,
          -0.10530838701016068,
          0.18479535034002237,
          0.3746354173057025,
          0.6151920798587776,
          0.48993184416389235,
          0.7848893001920829,
          0.69864491270782,
          0.2684006576260206,
          0.5715080983763374,
          0.4402940183847745,
          0.48682650894282536,
          0.674816029248805,
          0.38450861651877843,
          0.11979656716333305,
          0.5469706802711651,
          0.7531957529022006,
          0.3799908621761816,
          0.6881422574806503,
          0.6112360880118338,
          0.24907477488010918,
          0.1330546213474644,
          0.508339007366497,
          0.5336987670008866,
          0.3584426673783718,
          0.13525672754309204
         ],
         "zmax": 1,
         "zmin": 0
        },
        {
         "colorbar": {
          "len": 1,
          "tickfont": {
           "size": 25
          },
          "ticktext": [
           "0%",
           "10%",
           "20%",
           "30%",
           "40%",
           "50%",
           "60%",
           "70%",
           "80%",
           "90%"
          ],
          "tickvals": [
           0,
           0.1,
           0.2,
           0.30000000000000004,
           0.4,
           0.5,
           0.6000000000000001,
           0.7000000000000001,
           0.8,
           0.9
          ],
          "title": {
           "text": "Emission<br>reduction<br>in 2030<br>w.r.t. 2021"
          },
          "x": 1
         },
         "colorscale": [
          [
           0,
           "rgb(49,54,149)"
          ],
          [
           0.1,
           "rgb(69,117,180)"
          ],
          [
           0.2,
           "rgb(116,173,209)"
          ],
          [
           0.3,
           "rgb(171,217,233)"
          ],
          [
           0.4,
           "rgb(224,243,248)"
          ],
          [
           0.5,
           "rgb(255,255,191)"
          ],
          [
           0.6,
           "rgb(254,224,144)"
          ],
          [
           0.7,
           "rgb(253,174,97)"
          ],
          [
           0.8,
           "rgb(244,109,67)"
          ],
          [
           0.9,
           "rgb(215,48,39)"
          ],
          [
           1,
           "rgb(165,0,38)"
          ]
         ],
         "geo": "geo3",
         "hovertemplate": "%{text}",
         "locationmode": "ISO-3",
         "locations": [
          "AUT",
          "BEL",
          "BGR",
          "HRV",
          "CYP",
          "CZE",
          "DNK",
          "EST",
          "FIN",
          "FRA",
          "DEU",
          "GRC",
          "HUN",
          "IRL",
          "ITA",
          "LVA",
          "LTU",
          "LUX",
          "MLT",
          "NLD",
          "POL",
          "PRT",
          "ROU",
          "SVK",
          "SVN",
          "ESP",
          "SWE"
         ],
         "marker": {
          "line": {
           "color": "grey",
           "width": 0.7
          }
         },
         "name": "",
         "showscale": false,
         "text": [
          "AUT: 0.47 Gt CO<sub>2</sub>e",
          "BEL: 0.51 Gt CO<sub>2</sub>e",
          "BGR: 0.27 Gt CO<sub>2</sub>e",
          "HRV: 0.36 Gt CO<sub>2</sub>e",
          "CYP: 0.42 Gt CO<sub>2</sub>e",
          "CZE: 0.50 Gt CO<sub>2</sub>e",
          "DNK: 0.46 Gt CO<sub>2</sub>e",
          "EST: 0.55 Gt CO<sub>2</sub>e",
          "FIN: 0.52 Gt CO<sub>2</sub>e",
          "FRA: 0.39 Gt CO<sub>2</sub>e",
          "DEU: 0.48 Gt CO<sub>2</sub>e",
          "GRC: 0.44 Gt CO<sub>2</sub>e",
          "HUN: 0.46 Gt CO<sub>2</sub>e",
          "IRL: 0.52 Gt CO<sub>2</sub>e",
          "ITA: 0.43 Gt CO<sub>2</sub>e",
          "LVA: 0.34 Gt CO<sub>2</sub>e",
          "LTU: 0.48 Gt CO<sub>2</sub>e",
          "LUX: 0.54 Gt CO<sub>2</sub>e",
          "MLT: 0.43 Gt CO<sub>2</sub>e",
          "NLD: 0.52 Gt CO<sub>2</sub>e",
          "POL: 0.50 Gt CO<sub>2</sub>e",
          "PRT: 0.38 Gt CO<sub>2</sub>e",
          "ROU: 0.35 Gt CO<sub>2</sub>e",
          "SVK: 0.46 Gt CO<sub>2</sub>e",
          "SVN: 0.47 Gt CO<sub>2</sub>e",
          "ESP: 0.42 Gt CO<sub>2</sub>e",
          "SWE: 0.35 Gt CO<sub>2</sub>e"
         ],
         "type": "choropleth",
         "z": [
          0.47204517732907375,
          0.5112552976756286,
          0.2744765310122012,
          0.36450872934866496,
          0.42342456980506765,
          0.4980800672496528,
          0.4592061903249331,
          0.5507447642989406,
          0.5239792138605218,
          0.390455107782105,
          0.48452293267636226,
          0.4438013815408932,
          0.4582424814978915,
          0.5165840405783071,
          0.42648864230397565,
          0.34433665584084855,
          0.4769079300928444,
          0.5409087907524189,
          0.42508662844830564,
          0.5207197651909251,
          0.4968523277623534,
          0.38445743461969933,
          0.3484512118964104,
          0.4649187493372477,
          0.47278898242298645,
          0.41839914446209425,
          0.3491346259258734
         ],
         "zmax": 1,
         "zmin": 0
        },
        {
         "colorbar": {
          "len": 1,
          "tickfont": {
           "size": 25
          },
          "ticktext": [
           "0%",
           "10%",
           "20%",
           "30%",
           "40%",
           "50%",
           "60%",
           "70%",
           "80%",
           "90%"
          ],
          "tickvals": [
           0,
           0.1,
           0.2,
           0.30000000000000004,
           0.4,
           0.5,
           0.6000000000000001,
           0.7000000000000001,
           0.8,
           0.9
          ],
          "title": {
           "text": "Emission<br>reduction<br>in 2030<br>w.r.t. 2021"
          },
          "x": 1
         },
         "colorscale": [
          [
           0,
           "rgb(49,54,149)"
          ],
          [
           0.1,
           "rgb(69,117,180)"
          ],
          [
           0.2,
           "rgb(116,173,209)"
          ],
          [
           0.3,
           "rgb(171,217,233)"
          ],
          [
           0.4,
           "rgb(224,243,248)"
          ],
          [
           0.5,
           "rgb(255,255,191)"
          ],
          [
           0.6,
           "rgb(254,224,144)"
          ],
          [
           0.7,
           "rgb(253,174,97)"
          ],
          [
           0.8,
           "rgb(244,109,67)"
          ],
          [
           0.9,
           "rgb(215,48,39)"
          ],
          [
           1,
           "rgb(165,0,38)"
          ]
         ],
         "geo": "geo4",
         "hovertemplate": "%{text}",
         "locationmode": "ISO-3",
         "locations": [
          "AUT",
          "BEL",
          "BGR",
          "HRV",
          "CYP",
          "CZE",
          "DNK",
          "EST",
          "FIN",
          "FRA",
          "DEU",
          "GRC",
          "HUN",
          "IRL",
          "ITA",
          "LVA",
          "LTU",
          "LUX",
          "MLT",
          "NLD",
          "POL",
          "PRT",
          "ROU",
          "SVK",
          "SVN",
          "ESP",
          "SWE"
         ],
         "marker": {
          "line": {
           "color": "grey",
           "width": 0.7
          }
         },
         "name": "",
         "showscale": false,
         "text": [
          "AUT: 0.58 Gt CO<sub>2</sub>e",
          "BEL: 0.60 Gt CO<sub>2</sub>e",
          "BGR: 0.60 Gt CO<sub>2</sub>e",
          "HRV: 0.58 Gt CO<sub>2</sub>e",
          "CYP: 0.55 Gt CO<sub>2</sub>e",
          "CZE: 0.62 Gt CO<sub>2</sub>e",
          "DNK: 0.63 Gt CO<sub>2</sub>e",
          "EST: 0.61 Gt CO<sub>2</sub>e",
          "FIN: 0.58 Gt CO<sub>2</sub>e",
          "FRA: 0.57 Gt CO<sub>2</sub>e",
          "DEU: 0.62 Gt CO<sub>2</sub>e",
          "GRC: 0.61 Gt CO<sub>2</sub>e",
          "HUN: 0.58 Gt CO<sub>2</sub>e",
          "IRL: 0.60 Gt CO<sub>2</sub>e",
          "ITA: 0.59 Gt CO<sub>2</sub>e",
          "LVA: 0.45 Gt CO<sub>2</sub>e",
          "LTU: 0.58 Gt CO<sub>2</sub>e",
          "LUX: 0.61 Gt CO<sub>2</sub>e",
          "MLT: 0.56 Gt CO<sub>2</sub>e",
          "NLD: 0.62 Gt CO<sub>2</sub>e",
          "POL: 0.60 Gt CO<sub>2</sub>e",
          "PRT: 0.57 Gt CO<sub>2</sub>e",
          "ROU: 0.53 Gt CO<sub>2</sub>e",
          "SVK: 0.57 Gt CO<sub>2</sub>e",
          "SVN: 0.55 Gt CO<sub>2</sub>e",
          "ESP: 0.57 Gt CO<sub>2</sub>e",
          "SWE: 0.56 Gt CO<sub>2</sub>e"
         ],
         "type": "choropleth",
         "z": [
          0.5826066221262356,
          0.6022811601901878,
          0.6007720486455962,
          0.5758080723828439,
          0.5455440181939012,
          0.6179411729820521,
          0.6262113805833408,
          0.6130608851560303,
          0.5777235454746357,
          0.5670398156559057,
          0.6232407921631223,
          0.6098046939475956,
          0.5841090241007133,
          0.6006139350906965,
          0.5885572403475744,
          0.45336284938979826,
          0.5845917514063174,
          0.6143537704337493,
          0.5576475964100504,
          0.6181591507594889,
          0.5990644532965149,
          0.5711698572863003,
          0.5339032099086833,
          0.5711458614774348,
          0.5454077661300639,
          0.5677451505000384,
          0.5569917630231677
         ],
         "zmax": 1,
         "zmin": 0
        },
        {
         "colorbar": {
          "len": 1,
          "tickfont": {
           "size": 25
          },
          "ticktext": [
           "0%",
           "10%",
           "20%",
           "30%",
           "40%",
           "50%",
           "60%",
           "70%",
           "80%",
           "90%"
          ],
          "tickvals": [
           0,
           0.1,
           0.2,
           0.30000000000000004,
           0.4,
           0.5,
           0.6000000000000001,
           0.7000000000000001,
           0.8,
           0.9
          ],
          "title": {
           "text": "Emission<br>reduction<br>in 2030<br>w.r.t. 2021"
          },
          "x": 1
         },
         "colorscale": [
          [
           0,
           "rgb(49,54,149)"
          ],
          [
           0.1,
           "rgb(69,117,180)"
          ],
          [
           0.2,
           "rgb(116,173,209)"
          ],
          [
           0.3,
           "rgb(171,217,233)"
          ],
          [
           0.4,
           "rgb(224,243,248)"
          ],
          [
           0.5,
           "rgb(255,255,191)"
          ],
          [
           0.6,
           "rgb(254,224,144)"
          ],
          [
           0.7,
           "rgb(253,174,97)"
          ],
          [
           0.8,
           "rgb(244,109,67)"
          ],
          [
           0.9,
           "rgb(215,48,39)"
          ],
          [
           1,
           "rgb(165,0,38)"
          ]
         ],
         "geo": "geo5",
         "hovertemplate": "%{text}",
         "locationmode": "ISO-3",
         "locations": [
          "AUT",
          "BEL",
          "BGR",
          "HRV",
          "CYP",
          "CZE",
          "DNK",
          "EST",
          "FIN",
          "FRA",
          "DEU",
          "GRC",
          "HUN",
          "IRL",
          "ITA",
          "LVA",
          "LTU",
          "LUX",
          "MLT",
          "NLD",
          "POL",
          "PRT",
          "ROU",
          "SVK",
          "SVN",
          "ESP",
          "SWE"
         ],
         "marker": {
          "line": {
           "color": "grey",
           "width": 0.7
          }
         },
         "name": "",
         "showscale": false,
         "text": [
          "AUT: 0.65 Gt CO<sub>2</sub>e",
          "BEL: 0.63 Gt CO<sub>2</sub>e",
          "BGR: 0.57 Gt CO<sub>2</sub>e",
          "HRV: 0.50 Gt CO<sub>2</sub>e",
          "CYP: 0.54 Gt CO<sub>2</sub>e",
          "CZE: 0.63 Gt CO<sub>2</sub>e",
          "DNK: 0.62 Gt CO<sub>2</sub>e",
          "EST: 0.59 Gt CO<sub>2</sub>e",
          "FIN: 0.63 Gt CO<sub>2</sub>e",
          "FRA: 0.61 Gt CO<sub>2</sub>e",
          "DEU: 0.65 Gt CO<sub>2</sub>e",
          "GRC: 0.59 Gt CO<sub>2</sub>e",
          "HUN: 0.51 Gt CO<sub>2</sub>e",
          "IRL: 0.64 Gt CO<sub>2</sub>e",
          "ITA: 0.58 Gt CO<sub>2</sub>e",
          "LVA: 0.53 Gt CO<sub>2</sub>e",
          "LTU: 0.53 Gt CO<sub>2</sub>e",
          "LUX: 0.77 Gt CO<sub>2</sub>e",
          "MLT: 0.63 Gt CO<sub>2</sub>e",
          "NLD: 0.66 Gt CO<sub>2</sub>e",
          "POL: 0.57 Gt CO<sub>2</sub>e",
          "PRT: 0.56 Gt CO<sub>2</sub>e",
          "ROU: 0.48 Gt CO<sub>2</sub>e",
          "SVK: nan Gt CO<sub>2</sub>e",
          "SVN: 0.60 Gt CO<sub>2</sub>e",
          "ESP: 0.58 Gt CO<sub>2</sub>e",
          "SWE: 0.66 Gt CO<sub>2</sub>e"
         ],
         "type": "choropleth",
         "z": [
          0.6541258423539177,
          0.6334558059245674,
          0.5703949697627813,
          0.5043455065438268,
          0.5437307563637426,
          0.6280757611269576,
          0.6237018886057488,
          0.5881252514854822,
          0.6341903039379041,
          0.605527286955459,
          0.6510478900885412,
          0.5870186776516486,
          0.5086939384928968,
          0.6421148657055374,
          0.5789762739994163,
          0.5259660942143762,
          0.532803208469561,
          0.7688759567788169,
          0.6301161628775064,
          0.6551819727733698,
          0.5737509749101531,
          0.5610945676947369,
          0.48089930615056586,
          null,
          0.5996126828234117,
          0.5795980315207926,
          0.6589701436272515
         ],
         "zmax": 1,
         "zmin": 0
        },
        {
         "colorbar": {
          "len": 1,
          "tickfont": {
           "size": 25
          },
          "ticktext": [
           "0%",
           "10%",
           "20%",
           "30%",
           "40%",
           "50%",
           "60%",
           "70%",
           "80%",
           "90%"
          ],
          "tickvals": [
           0,
           0.1,
           0.2,
           0.30000000000000004,
           0.4,
           0.5,
           0.6000000000000001,
           0.7000000000000001,
           0.8,
           0.9
          ],
          "title": {
           "text": "Emission<br>reduction<br>in 2030<br>w.r.t. 2021"
          },
          "x": 1
         },
         "colorscale": [
          [
           0,
           "rgb(49,54,149)"
          ],
          [
           0.1,
           "rgb(69,117,180)"
          ],
          [
           0.2,
           "rgb(116,173,209)"
          ],
          [
           0.3,
           "rgb(171,217,233)"
          ],
          [
           0.4,
           "rgb(224,243,248)"
          ],
          [
           0.5,
           "rgb(255,255,191)"
          ],
          [
           0.6,
           "rgb(254,224,144)"
          ],
          [
           0.7,
           "rgb(253,174,97)"
          ],
          [
           0.8,
           "rgb(244,109,67)"
          ],
          [
           0.9,
           "rgb(215,48,39)"
          ],
          [
           1,
           "rgb(165,0,38)"
          ]
         ],
         "geo": "geo6",
         "hovertemplate": "%{text}",
         "locationmode": "ISO-3",
         "locations": [
          "AUT",
          "BEL",
          "BGR",
          "HRV",
          "CYP",
          "CZE",
          "DNK",
          "EST",
          "FIN",
          "FRA",
          "DEU",
          "GRC",
          "HUN",
          "IRL",
          "ITA",
          "LVA",
          "LTU",
          "LUX",
          "MLT",
          "NLD",
          "POL",
          "PRT",
          "ROU",
          "SVK",
          "SVN",
          "ESP",
          "SWE"
         ],
         "marker": {
          "line": {
           "color": "grey",
           "width": 0.7
          }
         },
         "name": "",
         "showscale": false,
         "text": [
          "AUT: 1.86 Gt CO<sub>2</sub>e",
          "BEL: 1.51 Gt CO<sub>2</sub>e",
          "BGR: 1.18 Gt CO<sub>2</sub>e",
          "HRV: 1.02 Gt CO<sub>2</sub>e",
          "CYP: 1.06 Gt CO<sub>2</sub>e",
          "CZE: 1.21 Gt CO<sub>2</sub>e",
          "DNK: 2.64 Gt CO<sub>2</sub>e",
          "EST: 0.71 Gt CO<sub>2</sub>e",
          "FIN: 1.23 Gt CO<sub>2</sub>e",
          "FRA: 2.37 Gt CO<sub>2</sub>e",
          "DEU: 1.97 Gt CO<sub>2</sub>e",
          "GRC: 1.18 Gt CO<sub>2</sub>e",
          "HUN: 0.78 Gt CO<sub>2</sub>e",
          "IRL: 2.30 Gt CO<sub>2</sub>e",
          "ITA: 1.61 Gt CO<sub>2</sub>e",
          "LVA: 1.05 Gt CO<sub>2</sub>e",
          "LTU: 0.79 Gt CO<sub>2</sub>e",
          "LUX: 2.63 Gt CO<sub>2</sub>e",
          "MLT: 1.64 Gt CO<sub>2</sub>e",
          "NLD: 1.55 Gt CO<sub>2</sub>e",
          "POL: 0.73 Gt CO<sub>2</sub>e",
          "PRT: 1.31 Gt CO<sub>2</sub>e",
          "ROU: 0.76 Gt CO<sub>2</sub>e",
          "SVK: nan Gt CO<sub>2</sub>e",
          "SVN: 1.19 Gt CO<sub>2</sub>e",
          "ESP: 1.51 Gt CO<sub>2</sub>e",
          "SWE: 3.67 Gt CO<sub>2</sub>e"
         ],
         "type": "choropleth",
         "z": [
          1.855053463262019,
          1.5070963474048709,
          1.184261996850613,
          1.0165330156014345,
          1.063345736746269,
          1.2121109749546048,
          2.6435919111542865,
          0.7141894041426365,
          1.2344050814771377,
          2.3708387114133096,
          1.965966877715494,
          1.180534952537413,
          0.7767606324560572,
          2.2983489677036664,
          1.6072431163643395,
          1.0450054253196885,
          0.7917595832303674,
          2.6329978811236474,
          1.6351457923564572,
          1.5522836095424342,
          0.7345432736581282,
          1.3093677636288275,
          0.7578204707804134,
          null,
          1.189625946191605,
          1.505020804757511,
          3.67159933784824
         ],
         "zmax": 1,
         "zmin": 0
        },
        {
         "featureidkey": "properties.NAME_3",
         "geo": "geo",
         "hoverinfo": "skip",
         "locations": [
          "AUT",
          "BEL",
          "BGR",
          "HRV",
          "CYP",
          "CZE",
          "DNK",
          "EST",
          "FIN",
          "FRA",
          "DEU",
          "GRC",
          "HUN",
          "IRL",
          "ITA",
          "LVA",
          "LTU",
          "LUX",
          "MLT",
          "NLD",
          "POL",
          "PRT",
          "ROU",
          "SVK",
          "SVN",
          "ESP",
          "SWE"
         ],
         "mode": "text",
         "showlegend": false,
         "text": [
          "44%",
          "44%",
          "44%",
          "44%",
          "44%",
          "44%",
          "44%",
          "44%",
          "44%",
          "44%",
          "44%",
          "44%",
          "44%",
          "44%",
          "44%",
          "44%",
          "44%",
          "44%",
          "44%",
          "44%",
          "44%",
          "44%",
          "44%",
          "44%",
          "44%",
          "44%",
          "44%"
         ],
         "textfont": {
          "color": "black",
          "size": 20
         },
         "type": "scattergeo"
        },
        {
         "featureidkey": "properties.NAME_3",
         "geo": "geo2",
         "hoverinfo": "skip",
         "locations": [
          "AUT",
          "BEL",
          "BGR",
          "HRV",
          "CYP",
          "CZE",
          "DNK",
          "EST",
          "FIN",
          "FRA",
          "DEU",
          "GRC",
          "HUN",
          "IRL",
          "ITA",
          "LVA",
          "LTU",
          "LUX",
          "MLT",
          "NLD",
          "POL",
          "PRT",
          "ROU",
          "SVK",
          "SVN",
          "ESP",
          "SWE"
         ],
         "mode": "text",
         "showlegend": false,
         "text": [
          "53%",
          "65%",
          "-10%",
          "18%",
          "37%",
          "61%",
          "48%",
          "78%",
          "69%",
          "26%",
          "57%",
          "44%",
          "48%",
          "67%",
          "38%",
          "11%",
          "54%",
          "75%",
          "37%",
          "68%",
          "61%",
          "24%",
          "13%",
          "50%",
          "53%",
          "35%",
          "13%"
         ],
         "textfont": {
          "color": "black",
          "size": 20
         },
         "type": "scattergeo"
        },
        {
         "featureidkey": "properties.NAME_3",
         "geo": "geo3",
         "hoverinfo": "skip",
         "locations": [
          "AUT",
          "BEL",
          "BGR",
          "HRV",
          "CYP",
          "CZE",
          "DNK",
          "EST",
          "FIN",
          "FRA",
          "DEU",
          "GRC",
          "HUN",
          "IRL",
          "ITA",
          "LVA",
          "LTU",
          "LUX",
          "MLT",
          "NLD",
          "POL",
          "PRT",
          "ROU",
          "SVK",
          "SVN",
          "ESP",
          "SWE"
         ],
         "mode": "text",
         "showlegend": false,
         "text": [
          "47%",
          "51%",
          "27%",
          "36%",
          "42%",
          "49%",
          "45%",
          "55%",
          "52%",
          "39%",
          "48%",
          "44%",
          "45%",
          "51%",
          "42%",
          "34%",
          "47%",
          "54%",
          "42%",
          "52%",
          "49%",
          "38%",
          "34%",
          "46%",
          "47%",
          "41%",
          "34%"
         ],
         "textfont": {
          "color": "black",
          "size": 20
         },
         "type": "scattergeo"
        },
        {
         "featureidkey": "properties.NAME_3",
         "geo": "geo4",
         "hoverinfo": "skip",
         "locations": [
          "AUT",
          "BEL",
          "BGR",
          "HRV",
          "CYP",
          "CZE",
          "DNK",
          "EST",
          "FIN",
          "FRA",
          "DEU",
          "GRC",
          "HUN",
          "IRL",
          "ITA",
          "LVA",
          "LTU",
          "LUX",
          "MLT",
          "NLD",
          "POL",
          "PRT",
          "ROU",
          "SVK",
          "SVN",
          "ESP",
          "SWE"
         ],
         "mode": "text",
         "showlegend": false,
         "text": [
          "58%",
          "60%",
          "60%",
          "57%",
          "54%",
          "61%",
          "62%",
          "61%",
          "57%",
          "56%",
          "62%",
          "60%",
          "58%",
          "60%",
          "58%",
          "45%",
          "58%",
          "61%",
          "55%",
          "61%",
          "59%",
          "57%",
          "53%",
          "57%",
          "54%",
          "56%",
          "55%"
         ],
         "textfont": {
          "color": "black",
          "size": 20
         },
         "type": "scattergeo"
        },
        {
         "featureidkey": "properties.NAME_3",
         "geo": "geo5",
         "hoverinfo": "skip",
         "locations": [
          "AUT",
          "BEL",
          "BGR",
          "HRV",
          "CYP",
          "CZE",
          "DNK",
          "EST",
          "FIN",
          "FRA",
          "DEU",
          "GRC",
          "HUN",
          "IRL",
          "ITA",
          "LVA",
          "LTU",
          "LUX",
          "MLT",
          "NLD",
          "POL",
          "PRT",
          "ROU",
          "SVK",
          "SVN",
          "ESP",
          "SWE"
         ],
         "mode": "text",
         "showlegend": false,
         "text": [
          "65%",
          "63%",
          "57%",
          "50%",
          "54%",
          "62%",
          "62%",
          "58%",
          "63%",
          "60%",
          "65%",
          "58%",
          "50%",
          "64%",
          "57%",
          "52%",
          "53%",
          "76%",
          "63%",
          "65%",
          "57%",
          "56%",
          "48%",
          "59%",
          "59%",
          "57%",
          "65%"
         ],
         "textfont": {
          "color": "black",
          "size": 20
         },
         "type": "scattergeo"
        },
        {
         "featureidkey": "properties.NAME_3",
         "geo": "geo6",
         "hoverinfo": "skip",
         "locations": [
          "AUT",
          "BEL",
          "BGR",
          "HRV",
          "CYP",
          "CZE",
          "DNK",
          "EST",
          "FIN",
          "FRA",
          "DEU",
          "GRC",
          "HUN",
          "IRL",
          "ITA",
          "LVA",
          "LTU",
          "LUX",
          "MLT",
          "NLD",
          "POL",
          "PRT",
          "ROU",
          "SVK",
          "SVN",
          "ESP",
          "SWE"
         ],
         "mode": "text",
         "showlegend": false,
         "text": [
          "185%",
          "150%",
          "118%",
          "101%",
          "106%",
          "121%",
          "264%",
          "71%",
          "123%",
          "237%",
          "196%",
          "118%",
          "77%",
          "229%",
          "160%",
          "104%",
          "79%",
          "263%",
          "163%",
          "155%",
          "73%",
          "130%",
          "75%",
          "151%",
          "118%",
          "150%",
          "367%"
         ],
         "textfont": {
          "color": "black",
          "size": 20
         },
         "type": "scattergeo"
        }
       ],
       "layout": {
        "annotations": [
         {
          "align": "left",
          "ax": 0,
          "ay": 0,
          "font": {
           "color": "black",
           "size": 25
          },
          "showarrow": false,
          "text": "<b>(a) Grandfathering</b>",
          "x": 0.07,
          "xref": "paper",
          "y": 0.96,
          "yref": "paper"
         },
         {
          "align": "left",
          "ax": 0,
          "ay": 0,
          "font": {
           "color": "black",
           "size": 25
          },
          "showarrow": false,
          "text": "<b>(b) Per Capita</b>",
          "x": 0.47,
          "xref": "paper",
          "y": 0.96,
          "yref": "paper"
         },
         {
          "align": "left",
          "ax": 0,
          "ay": 0,
          "font": {
           "color": "black",
           "size": 25
          },
          "showarrow": false,
          "text": "<b>(c) Per Capita Convergence</b>",
          "x": 0.9,
          "xref": "paper",
          "y": 0.96,
          "yref": "paper"
         },
         {
          "align": "left",
          "ax": 0,
          "ay": 0,
          "font": {
           "color": "black",
           "size": 25
          },
          "showarrow": false,
          "text": "<b>(d) Equal Cumulative per Capita</b>",
          "x": 0.07,
          "xref": "paper",
          "y": 0.45,
          "yref": "paper"
         },
         {
          "align": "left",
          "ax": 0,
          "ay": 0,
          "font": {
           "color": "black",
           "size": 25
          },
          "showarrow": false,
          "text": "<b>(e) Ability to Pay</b>",
          "x": 0.48,
          "xref": "paper",
          "y": 0.45,
          "yref": "paper"
         },
         {
          "align": "left",
          "ax": 0,
          "ay": 0,
          "font": {
           "color": "black",
           "size": 25
          },
          "showarrow": false,
          "text": "<b>(f) Greenhouse Development Rights</b>",
          "x": 0.95,
          "xref": "paper",
          "y": 0.45,
          "yref": "paper"
         }
        ],
        "geo": {
         "domain": {
          "x": [
           0,
           0.3333333333333333
          ],
          "y": [
           0.5,
           1
          ]
         },
         "lakecolor": "rgb(255, 255, 255)",
         "lataxis": {
          "range": [
           30,
           75
          ]
         },
         "lonaxis": {
          "range": [
           -20,
           40
          ]
         },
         "projection": {
          "type": "natural earth"
         },
         "resolution": 50,
         "scope": "europe",
         "showcoastlines": false,
         "showcountries": false,
         "showlakes": true,
         "visible": true
        },
        "geo2": {
         "domain": {
          "x": [
           0.3333333333333333,
           0.6666666666666666
          ],
          "y": [
           0.5,
           1
          ]
         },
         "lakecolor": "rgb(255, 255, 255)",
         "lataxis": {
          "range": [
           30,
           75
          ]
         },
         "lonaxis": {
          "range": [
           -20,
           40
          ]
         },
         "projection": {
          "type": "natural earth"
         },
         "resolution": 50,
         "scope": "europe",
         "showcoastlines": false,
         "showcountries": false,
         "showlakes": true,
         "visible": true
        },
        "geo3": {
         "domain": {
          "x": [
           0.6666666666666666,
           1
          ],
          "y": [
           0.5,
           1
          ]
         },
         "lakecolor": "rgb(255, 255, 255)",
         "lataxis": {
          "range": [
           30,
           75
          ]
         },
         "lonaxis": {
          "range": [
           -20,
           40
          ]
         },
         "projection": {
          "type": "natural earth"
         },
         "resolution": 50,
         "scope": "europe",
         "showcoastlines": false,
         "showcountries": false,
         "showlakes": true,
         "visible": true
        },
        "geo4": {
         "domain": {
          "x": [
           0,
           0.3333333333333333
          ],
          "y": [
           0,
           0.5
          ]
         },
         "lakecolor": "rgb(255, 255, 255)",
         "lataxis": {
          "range": [
           30,
           75
          ]
         },
         "lonaxis": {
          "range": [
           -20,
           40
          ]
         },
         "projection": {
          "type": "natural earth"
         },
         "resolution": 50,
         "scope": "europe",
         "showcoastlines": false,
         "showcountries": false,
         "showlakes": true,
         "visible": true
        },
        "geo5": {
         "domain": {
          "x": [
           0.3333333333333333,
           0.6666666666666666
          ],
          "y": [
           0,
           0.5
          ]
         },
         "lakecolor": "rgb(255, 255, 255)",
         "lataxis": {
          "range": [
           30,
           75
          ]
         },
         "lonaxis": {
          "range": [
           -20,
           40
          ]
         },
         "projection": {
          "type": "natural earth"
         },
         "resolution": 50,
         "scope": "europe",
         "showcoastlines": false,
         "showcountries": false,
         "showlakes": true,
         "visible": true
        },
        "geo6": {
         "domain": {
          "x": [
           0.6666666666666666,
           1
          ],
          "y": [
           0,
           0.5
          ]
         },
         "lakecolor": "rgb(255, 255, 255)",
         "lataxis": {
          "range": [
           30,
           75
          ]
         },
         "lonaxis": {
          "range": [
           -20,
           40
          ]
         },
         "projection": {
          "type": "natural earth"
         },
         "resolution": 50,
         "scope": "europe",
         "showcoastlines": false,
         "showcountries": false,
         "showlakes": true,
         "visible": true
        },
        "height": 1200,
        "margin": {
         "b": 0,
         "l": 0,
         "r": 0,
         "t": 0
        },
        "template": {
         "data": {
          "bar": [
           {
            "error_x": {
             "color": "#2a3f5f"
            },
            "error_y": {
             "color": "#2a3f5f"
            },
            "marker": {
             "line": {
              "color": "#E5ECF6",
              "width": 0.5
             },
             "pattern": {
              "fillmode": "overlay",
              "size": 10,
              "solidity": 0.2
             }
            },
            "type": "bar"
           }
          ],
          "barpolar": [
           {
            "marker": {
             "line": {
              "color": "#E5ECF6",
              "width": 0.5
             },
             "pattern": {
              "fillmode": "overlay",
              "size": 10,
              "solidity": 0.2
             }
            },
            "type": "barpolar"
           }
          ],
          "carpet": [
           {
            "aaxis": {
             "endlinecolor": "#2a3f5f",
             "gridcolor": "white",
             "linecolor": "white",
             "minorgridcolor": "white",
             "startlinecolor": "#2a3f5f"
            },
            "baxis": {
             "endlinecolor": "#2a3f5f",
             "gridcolor": "white",
             "linecolor": "white",
             "minorgridcolor": "white",
             "startlinecolor": "#2a3f5f"
            },
            "type": "carpet"
           }
          ],
          "choropleth": [
           {
            "colorbar": {
             "outlinewidth": 0,
             "ticks": ""
            },
            "type": "choropleth"
           }
          ],
          "contour": [
           {
            "colorbar": {
             "outlinewidth": 0,
             "ticks": ""
            },
            "colorscale": [
             [
              0,
              "#0d0887"
             ],
             [
              0.1111111111111111,
              "#46039f"
             ],
             [
              0.2222222222222222,
              "#7201a8"
             ],
             [
              0.3333333333333333,
              "#9c179e"
             ],
             [
              0.4444444444444444,
              "#bd3786"
             ],
             [
              0.5555555555555556,
              "#d8576b"
             ],
             [
              0.6666666666666666,
              "#ed7953"
             ],
             [
              0.7777777777777778,
              "#fb9f3a"
             ],
             [
              0.8888888888888888,
              "#fdca26"
             ],
             [
              1,
              "#f0f921"
             ]
            ],
            "type": "contour"
           }
          ],
          "contourcarpet": [
           {
            "colorbar": {
             "outlinewidth": 0,
             "ticks": ""
            },
            "type": "contourcarpet"
           }
          ],
          "heatmap": [
           {
            "colorbar": {
             "outlinewidth": 0,
             "ticks": ""
            },
            "colorscale": [
             [
              0,
              "#0d0887"
             ],
             [
              0.1111111111111111,
              "#46039f"
             ],
             [
              0.2222222222222222,
              "#7201a8"
             ],
             [
              0.3333333333333333,
              "#9c179e"
             ],
             [
              0.4444444444444444,
              "#bd3786"
             ],
             [
              0.5555555555555556,
              "#d8576b"
             ],
             [
              0.6666666666666666,
              "#ed7953"
             ],
             [
              0.7777777777777778,
              "#fb9f3a"
             ],
             [
              0.8888888888888888,
              "#fdca26"
             ],
             [
              1,
              "#f0f921"
             ]
            ],
            "type": "heatmap"
           }
          ],
          "heatmapgl": [
           {
            "colorbar": {
             "outlinewidth": 0,
             "ticks": ""
            },
            "colorscale": [
             [
              0,
              "#0d0887"
             ],
             [
              0.1111111111111111,
              "#46039f"
             ],
             [
              0.2222222222222222,
              "#7201a8"
             ],
             [
              0.3333333333333333,
              "#9c179e"
             ],
             [
              0.4444444444444444,
              "#bd3786"
             ],
             [
              0.5555555555555556,
              "#d8576b"
             ],
             [
              0.6666666666666666,
              "#ed7953"
             ],
             [
              0.7777777777777778,
              "#fb9f3a"
             ],
             [
              0.8888888888888888,
              "#fdca26"
             ],
             [
              1,
              "#f0f921"
             ]
            ],
            "type": "heatmapgl"
           }
          ],
          "histogram": [
           {
            "marker": {
             "pattern": {
              "fillmode": "overlay",
              "size": 10,
              "solidity": 0.2
             }
            },
            "type": "histogram"
           }
          ],
          "histogram2d": [
           {
            "colorbar": {
             "outlinewidth": 0,
             "ticks": ""
            },
            "colorscale": [
             [
              0,
              "#0d0887"
             ],
             [
              0.1111111111111111,
              "#46039f"
             ],
             [
              0.2222222222222222,
              "#7201a8"
             ],
             [
              0.3333333333333333,
              "#9c179e"
             ],
             [
              0.4444444444444444,
              "#bd3786"
             ],
             [
              0.5555555555555556,
              "#d8576b"
             ],
             [
              0.6666666666666666,
              "#ed7953"
             ],
             [
              0.7777777777777778,
              "#fb9f3a"
             ],
             [
              0.8888888888888888,
              "#fdca26"
             ],
             [
              1,
              "#f0f921"
             ]
            ],
            "type": "histogram2d"
           }
          ],
          "histogram2dcontour": [
           {
            "colorbar": {
             "outlinewidth": 0,
             "ticks": ""
            },
            "colorscale": [
             [
              0,
              "#0d0887"
             ],
             [
              0.1111111111111111,
              "#46039f"
             ],
             [
              0.2222222222222222,
              "#7201a8"
             ],
             [
              0.3333333333333333,
              "#9c179e"
             ],
             [
              0.4444444444444444,
              "#bd3786"
             ],
             [
              0.5555555555555556,
              "#d8576b"
             ],
             [
              0.6666666666666666,
              "#ed7953"
             ],
             [
              0.7777777777777778,
              "#fb9f3a"
             ],
             [
              0.8888888888888888,
              "#fdca26"
             ],
             [
              1,
              "#f0f921"
             ]
            ],
            "type": "histogram2dcontour"
           }
          ],
          "mesh3d": [
           {
            "colorbar": {
             "outlinewidth": 0,
             "ticks": ""
            },
            "type": "mesh3d"
           }
          ],
          "parcoords": [
           {
            "line": {
             "colorbar": {
              "outlinewidth": 0,
              "ticks": ""
             }
            },
            "type": "parcoords"
           }
          ],
          "pie": [
           {
            "automargin": true,
            "type": "pie"
           }
          ],
          "scatter": [
           {
            "fillpattern": {
             "fillmode": "overlay",
             "size": 10,
             "solidity": 0.2
            },
            "type": "scatter"
           }
          ],
          "scatter3d": [
           {
            "line": {
             "colorbar": {
              "outlinewidth": 0,
              "ticks": ""
             }
            },
            "marker": {
             "colorbar": {
              "outlinewidth": 0,
              "ticks": ""
             }
            },
            "type": "scatter3d"
           }
          ],
          "scattercarpet": [
           {
            "marker": {
             "colorbar": {
              "outlinewidth": 0,
              "ticks": ""
             }
            },
            "type": "scattercarpet"
           }
          ],
          "scattergeo": [
           {
            "marker": {
             "colorbar": {
              "outlinewidth": 0,
              "ticks": ""
             }
            },
            "type": "scattergeo"
           }
          ],
          "scattergl": [
           {
            "marker": {
             "colorbar": {
              "outlinewidth": 0,
              "ticks": ""
             }
            },
            "type": "scattergl"
           }
          ],
          "scattermapbox": [
           {
            "marker": {
             "colorbar": {
              "outlinewidth": 0,
              "ticks": ""
             }
            },
            "type": "scattermapbox"
           }
          ],
          "scatterpolar": [
           {
            "marker": {
             "colorbar": {
              "outlinewidth": 0,
              "ticks": ""
             }
            },
            "type": "scatterpolar"
           }
          ],
          "scatterpolargl": [
           {
            "marker": {
             "colorbar": {
              "outlinewidth": 0,
              "ticks": ""
             }
            },
            "type": "scatterpolargl"
           }
          ],
          "scatterternary": [
           {
            "marker": {
             "colorbar": {
              "outlinewidth": 0,
              "ticks": ""
             }
            },
            "type": "scatterternary"
           }
          ],
          "surface": [
           {
            "colorbar": {
             "outlinewidth": 0,
             "ticks": ""
            },
            "colorscale": [
             [
              0,
              "#0d0887"
             ],
             [
              0.1111111111111111,
              "#46039f"
             ],
             [
              0.2222222222222222,
              "#7201a8"
             ],
             [
              0.3333333333333333,
              "#9c179e"
             ],
             [
              0.4444444444444444,
              "#bd3786"
             ],
             [
              0.5555555555555556,
              "#d8576b"
             ],
             [
              0.6666666666666666,
              "#ed7953"
             ],
             [
              0.7777777777777778,
              "#fb9f3a"
             ],
             [
              0.8888888888888888,
              "#fdca26"
             ],
             [
              1,
              "#f0f921"
             ]
            ],
            "type": "surface"
           }
          ],
          "table": [
           {
            "cells": {
             "fill": {
              "color": "#EBF0F8"
             },
             "line": {
              "color": "white"
             }
            },
            "header": {
             "fill": {
              "color": "#C8D4E3"
             },
             "line": {
              "color": "white"
             }
            },
            "type": "table"
           }
          ]
         },
         "layout": {
          "annotationdefaults": {
           "arrowcolor": "#2a3f5f",
           "arrowhead": 0,
           "arrowwidth": 1
          },
          "autotypenumbers": "strict",
          "coloraxis": {
           "colorbar": {
            "outlinewidth": 0,
            "ticks": ""
           }
          },
          "colorscale": {
           "diverging": [
            [
             0,
             "#8e0152"
            ],
            [
             0.1,
             "#c51b7d"
            ],
            [
             0.2,
             "#de77ae"
            ],
            [
             0.3,
             "#f1b6da"
            ],
            [
             0.4,
             "#fde0ef"
            ],
            [
             0.5,
             "#f7f7f7"
            ],
            [
             0.6,
             "#e6f5d0"
            ],
            [
             0.7,
             "#b8e186"
            ],
            [
             0.8,
             "#7fbc41"
            ],
            [
             0.9,
             "#4d9221"
            ],
            [
             1,
             "#276419"
            ]
           ],
           "sequential": [
            [
             0,
             "#0d0887"
            ],
            [
             0.1111111111111111,
             "#46039f"
            ],
            [
             0.2222222222222222,
             "#7201a8"
            ],
            [
             0.3333333333333333,
             "#9c179e"
            ],
            [
             0.4444444444444444,
             "#bd3786"
            ],
            [
             0.5555555555555556,
             "#d8576b"
            ],
            [
             0.6666666666666666,
             "#ed7953"
            ],
            [
             0.7777777777777778,
             "#fb9f3a"
            ],
            [
             0.8888888888888888,
             "#fdca26"
            ],
            [
             1,
             "#f0f921"
            ]
           ],
           "sequentialminus": [
            [
             0,
             "#0d0887"
            ],
            [
             0.1111111111111111,
             "#46039f"
            ],
            [
             0.2222222222222222,
             "#7201a8"
            ],
            [
             0.3333333333333333,
             "#9c179e"
            ],
            [
             0.4444444444444444,
             "#bd3786"
            ],
            [
             0.5555555555555556,
             "#d8576b"
            ],
            [
             0.6666666666666666,
             "#ed7953"
            ],
            [
             0.7777777777777778,
             "#fb9f3a"
            ],
            [
             0.8888888888888888,
             "#fdca26"
            ],
            [
             1,
             "#f0f921"
            ]
           ]
          },
          "colorway": [
           "#636efa",
           "#EF553B",
           "#00cc96",
           "#ab63fa",
           "#FFA15A",
           "#19d3f3",
           "#FF6692",
           "#B6E880",
           "#FF97FF",
           "#FECB52"
          ],
          "font": {
           "color": "#2a3f5f"
          },
          "geo": {
           "bgcolor": "white",
           "lakecolor": "white",
           "landcolor": "#E5ECF6",
           "showlakes": true,
           "showland": true,
           "subunitcolor": "white"
          },
          "hoverlabel": {
           "align": "left"
          },
          "hovermode": "closest",
          "mapbox": {
           "style": "light"
          },
          "paper_bgcolor": "white",
          "plot_bgcolor": "#E5ECF6",
          "polar": {
           "angularaxis": {
            "gridcolor": "white",
            "linecolor": "white",
            "ticks": ""
           },
           "bgcolor": "#E5ECF6",
           "radialaxis": {
            "gridcolor": "white",
            "linecolor": "white",
            "ticks": ""
           }
          },
          "scene": {
           "xaxis": {
            "backgroundcolor": "#E5ECF6",
            "gridcolor": "white",
            "gridwidth": 2,
            "linecolor": "white",
            "showbackground": true,
            "ticks": "",
            "zerolinecolor": "white"
           },
           "yaxis": {
            "backgroundcolor": "#E5ECF6",
            "gridcolor": "white",
            "gridwidth": 2,
            "linecolor": "white",
            "showbackground": true,
            "ticks": "",
            "zerolinecolor": "white"
           },
           "zaxis": {
            "backgroundcolor": "#E5ECF6",
            "gridcolor": "white",
            "gridwidth": 2,
            "linecolor": "white",
            "showbackground": true,
            "ticks": "",
            "zerolinecolor": "white"
           }
          },
          "shapedefaults": {
           "line": {
            "color": "#2a3f5f"
           }
          },
          "ternary": {
           "aaxis": {
            "gridcolor": "white",
            "linecolor": "white",
            "ticks": ""
           },
           "baxis": {
            "gridcolor": "white",
            "linecolor": "white",
            "ticks": ""
           },
           "bgcolor": "#E5ECF6",
           "caxis": {
            "gridcolor": "white",
            "linecolor": "white",
            "ticks": ""
           }
          },
          "title": {
           "x": 0.05
          },
          "xaxis": {
           "automargin": true,
           "gridcolor": "white",
           "linecolor": "white",
           "ticks": "",
           "title": {
            "standoff": 15
           },
           "zerolinecolor": "white",
           "zerolinewidth": 2
          },
          "yaxis": {
           "automargin": true,
           "gridcolor": "white",
           "linecolor": "white",
           "ticks": "",
           "title": {
            "standoff": 15
           },
           "zerolinecolor": "white",
           "zerolinewidth": 2
          }
         }
        },
        "width": 2300
       }
      }
     },
     "metadata": {},
     "output_type": "display_data"
    }
   ],
   "source": [
    "fig = make_subplots(rows=2, cols=3, #subplot_titles=('Grandfathering (GF)',\n",
    "                                                    # 'Per Capita (PC)',\n",
    "                                                    # 'Per Capita Convergence (PCC)',\n",
    "                                                    # 'Equal Cumulative Per Capita',\n",
    "                                                    # 'Ability to pay (AP)',\n",
    "                                                    # 'Greenhouse Development Rights'), \n",
    "                                    specs=[[{'type': 'choropleth'}, {'type': 'choropleth'}, {'type': 'choropleth'}],\n",
    "                                           [{'type': 'choropleth'}, {'type': 'choropleth'}, {'type': 'choropleth'}]],\n",
    "                                    horizontal_spacing = 0,\n",
    "                                    vertical_spacing=0)\n",
    "\n",
    "colorbar_abs = dict(len=1, x=1, tickvals = [0, 1, 2, 3], ticktext = ['1', '10', '100', '1000'])\n",
    "colorbar_pc = dict(len=1, x=1)\n",
    "\n",
    "for var_i, var in enumerate(rules):\n",
    "    if var_i == 0:\n",
    "        cm= True\n",
    "    else:\n",
    "        cm= False\n",
    "    fig.add_trace(\n",
    "        go.Choropleth(\n",
    "        locations=group_eu,\n",
    "        z = data4[var],\n",
    "        locationmode = 'ISO-3',\n",
    "        colorscale = 'RdYlBu_r',\n",
    "        zmax = 1,\n",
    "        zmin = 0,\n",
    "        text = [str(r)+\": {:0.2f} Gt CO<sub>2</sub>e\".format(float(data4.sel(Region=r)[var])) for r_i, r in enumerate(group_eu)],\n",
    "        hovertemplate  = '%{text}',\n",
    "        name=\"\",\n",
    "        marker_line_color='grey', \n",
    "        marker_line_width=0.7,\n",
    "        colorbar=dict(len=1, x=1, tickvals = np.arange(0, 1, 0.1), ticktext = [str(int(i*100))+\"%\" for i in np.arange(0, 1, 0.1)], title={\"text\":\"Emission<br>reduction<br>in 2030<br>w.r.t. 2021\"}, tickfont={'size': 25}),\n",
    "        showscale=cm\n",
    "    ), [1, 1, 1, 2, 2, 2][var_i], [1, 2, 3, 1, 2, 3][var_i])\n",
    "# fig.update_geos(showocean=True, oceancolor=\"white\")\n",
    "# fig.update_geos(showlakes=True, lakecolor=\"white\")\n",
    "\n",
    "# limite map scope to USA 'africa', 'asia', 'europe', 'north america', 'south america', 'usa', 'world'\n",
    "fig.update_layout(\n",
    "    geo1 = dict(scope='europe', \n",
    "                showlakes=False,\n",
    "                lakecolor='rgb(255, 255, 255)',\n",
    "                showcoastlines=False,),\n",
    "    geo2 = dict(scope='europe', \n",
    "                showlakes=False,\n",
    "                lakecolor='rgb(255, 255, 255)',\n",
    "                showcoastlines=False,),\n",
    "    geo3 = dict(scope='europe', \n",
    "                showlakes=False,\n",
    "                lakecolor='rgb(255, 255, 255)',\n",
    "                showcoastlines=False,),\n",
    "    geo4 = dict(scope='europe', \n",
    "                showlakes=False,\n",
    "                lakecolor='rgb(255, 255, 255)',\n",
    "                showcoastlines=False,),\n",
    "    geo5 = dict(scope='europe', \n",
    "                showlakes=False,\n",
    "                lakecolor='rgb(255, 255, 255)',\n",
    "                showcoastlines=False,),\n",
    "    geo6 = dict(scope='europe', \n",
    "                showlakes=False,\n",
    "                showcoastlines=False,),\n",
    ")\n",
    "\n",
    "mn = np.min(np.array([float(data4[rules].min()[r]) for r in rules]))\n",
    "mx = np.max(np.array([float(data4[rules].max()[r]) for r in rules]))\n",
    "for var_i, var in enumerate(rules):\n",
    "    vals = np.array(data4[var]).astype(float)\n",
    "    vals_i = (vals + mn)**1.2\n",
    "    vals_n = 14*(vals - mn)/(mx - mn)+7\n",
    "    vals_boolean = np.copy(vals)\n",
    "    vals_boolean[vals >= 0] = 1\n",
    "    vals_boolean[vals < 0] = 0\n",
    "    vals_boolean = vals_boolean.astype(int)\n",
    "    vals[np.isnan(vals)] = np.nanmean(vals)\n",
    "    \n",
    "    fig.add_scattergeo(\n",
    "                locations = group_eu,\n",
    "                text = [str(np.int(vals[r_i]*100))+\"%\" for r_i in range(len(group_eu))],\n",
    "                featureidkey=\"properties.NAME_3\",\n",
    "                mode = 'text',\n",
    "                hoverinfo='skip',\n",
    "                showlegend=False,\n",
    "                textfont={'size': 20,\n",
    "                        'color': 'black'},\n",
    "                row=[1, 1, 1, 2, 2, 2][var_i],\n",
    "                col=[1, 2, 3, 1, 2, 3][var_i])\n",
    "\n",
    "fig.update_geos(visible=False,\n",
    "                showlakes=True,\n",
    "                lakecolor='rgb(255, 255, 255)',\n",
    "                projection_type='natural earth',\n",
    "                resolution=50,\n",
    "                lataxis_range=[30,75], lonaxis_range=[-20, 40],\n",
    "                showcoastlines=False,)\n",
    "\n",
    "#fig.update_traces(showscale=False)\n",
    "fig.update_layout(height=1200, width=2300)\n",
    "fig.update_geos(visible=True, showcountries=False)#fitbounds=\"locations\",\n",
    "fig.update_layout(margin={\"r\":0,\"t\":0,\"l\":0,\"b\":0})\n",
    "\n",
    "fig.add_annotation(xref='paper', yref='paper',ax=0, align='left', ay=-0, showarrow=False, font=dict(color='black', size=25),\n",
    "                   y=0.96, x=0.07, text=\"<b>(a) Grandfathering</b>\")\n",
    "fig.add_annotation(xref='paper', yref='paper',ax=0, align='left', ay=-0, showarrow=False, font=dict(color='black', size=25),\n",
    "                   y=0.96, x=0.47, text=\"<b>(b) Per Capita</b>\")\n",
    "fig.add_annotation(xref='paper', yref='paper',ax=0, align='left', ay=-0, showarrow=False, font=dict(color='black', size=25),\n",
    "                   y=0.96, x=0.90, text=\"<b>(c) Per Capita Convergence</b>\")\n",
    "fig.add_annotation(xref='paper', yref='paper',ax=0, align='left', ay=-0, showarrow=False, font=dict(color='black', size=25),\n",
    "                   y=0.45, x=0.07, text=\"<b>(d) Equal Cumulative per Capita</b>\")\n",
    "fig.add_annotation(xref='paper', yref='paper',ax=0, align='left', ay=-0, showarrow=False, font=dict(color='black', size=25),\n",
    "                   y=0.45, x=0.48, text=\"<b>(e) Ability to Pay</b>\")\n",
    "fig.add_annotation(xref='paper', yref='paper',ax=0, align='left', ay=-0, showarrow=False, font=dict(color='black', size=25),\n",
    "                   y=0.45, x=0.95, text=\"<b>(f) Greenhouse Development Rights</b>\")\n",
    "fig_europe = fig\n",
    "fig.show()"
   ]
  },
  {
   "cell_type": "code",
   "execution_count": 30,
   "metadata": {},
   "outputs": [],
   "source": [
    "fig.write_image(\"X:/user/dekkerm/Projects/ECEMF_T5.2/Figures/Presentations/Europe_2030perc.png\", scale=3)"
   ]
  },
  {
   "cell_type": "code",
   "execution_count": 31,
   "metadata": {},
   "outputs": [],
   "source": [
    "data5 = (xr_dataread.sel(Time=2021).GHG_hist - xrt.sel(**standard_settings, Time=2040, Region=group_eu).mean(dim='Scenario')) / xr_dataread.sel(Time=2021).GHG_hist"
   ]
  },
  {
   "cell_type": "code",
   "execution_count": 32,
   "metadata": {},
   "outputs": [
    {
     "name": "stderr",
     "output_type": "stream",
     "text": [
      "C:\\Users\\dekkerm\\AppData\\Local\\Temp\\3\\ipykernel_6896\\2992891589.py:80: DeprecationWarning:\n",
      "\n",
      "`np.int` is a deprecated alias for the builtin `int`. To silence this warning, use `int` by itself. Doing this will not modify any behavior and is safe. When replacing `np.int`, you may wish to use e.g. `np.int64` or `np.int32` to specify the precision. If you wish to review your current use, check the release note link for additional information.\n",
      "Deprecated in NumPy 1.20; for more details and guidance: https://numpy.org/devdocs/release/1.20.0-notes.html#deprecations\n",
      "\n"
     ]
    },
    {
     "data": {
      "application/vnd.plotly.v1+json": {
       "config": {
        "plotlyServerURL": "https://plotly.com"
       },
       "data": [
        {
         "colorbar": {
          "len": 1,
          "tickfont": {
           "size": 25
          },
          "ticktext": [
           "0%",
           "10%",
           "20%",
           "30%",
           "40%",
           "50%",
           "60%",
           "70%",
           "80%",
           "90%"
          ],
          "tickvals": [
           0,
           0.1,
           0.2,
           0.30000000000000004,
           0.4,
           0.5,
           0.6000000000000001,
           0.7000000000000001,
           0.8,
           0.9
          ],
          "title": {
           "text": "Emission<br>reduction<br>in 2040<br>w.r.t. 2021"
          },
          "x": 1
         },
         "colorscale": [
          [
           0,
           "rgb(49,54,149)"
          ],
          [
           0.1,
           "rgb(69,117,180)"
          ],
          [
           0.2,
           "rgb(116,173,209)"
          ],
          [
           0.3,
           "rgb(171,217,233)"
          ],
          [
           0.4,
           "rgb(224,243,248)"
          ],
          [
           0.5,
           "rgb(255,255,191)"
          ],
          [
           0.6,
           "rgb(254,224,144)"
          ],
          [
           0.7,
           "rgb(253,174,97)"
          ],
          [
           0.8,
           "rgb(244,109,67)"
          ],
          [
           0.9,
           "rgb(215,48,39)"
          ],
          [
           1,
           "rgb(165,0,38)"
          ]
         ],
         "geo": "geo",
         "hovertemplate": "%{text}",
         "locationmode": "ISO-3",
         "locations": [
          "AUT",
          "BEL",
          "BGR",
          "HRV",
          "CYP",
          "CZE",
          "DNK",
          "EST",
          "FIN",
          "FRA",
          "DEU",
          "GRC",
          "HUN",
          "IRL",
          "ITA",
          "LVA",
          "LTU",
          "LUX",
          "MLT",
          "NLD",
          "POL",
          "PRT",
          "ROU",
          "SVK",
          "SVN",
          "ESP",
          "SWE"
         ],
         "marker": {
          "line": {
           "color": "grey",
           "width": 0.7
          }
         },
         "name": "",
         "showscale": true,
         "text": [
          "AUT: 0.69 Gt CO<sub>2</sub>e",
          "BEL: 0.69 Gt CO<sub>2</sub>e",
          "BGR: 0.69 Gt CO<sub>2</sub>e",
          "HRV: 0.69 Gt CO<sub>2</sub>e",
          "CYP: 0.69 Gt CO<sub>2</sub>e",
          "CZE: 0.69 Gt CO<sub>2</sub>e",
          "DNK: 0.69 Gt CO<sub>2</sub>e",
          "EST: 0.69 Gt CO<sub>2</sub>e",
          "FIN: 0.69 Gt CO<sub>2</sub>e",
          "FRA: 0.69 Gt CO<sub>2</sub>e",
          "DEU: 0.69 Gt CO<sub>2</sub>e",
          "GRC: 0.69 Gt CO<sub>2</sub>e",
          "HUN: 0.69 Gt CO<sub>2</sub>e",
          "IRL: 0.69 Gt CO<sub>2</sub>e",
          "ITA: 0.69 Gt CO<sub>2</sub>e",
          "LVA: 0.69 Gt CO<sub>2</sub>e",
          "LTU: 0.69 Gt CO<sub>2</sub>e",
          "LUX: 0.69 Gt CO<sub>2</sub>e",
          "MLT: 0.69 Gt CO<sub>2</sub>e",
          "NLD: 0.69 Gt CO<sub>2</sub>e",
          "POL: 0.69 Gt CO<sub>2</sub>e",
          "PRT: 0.69 Gt CO<sub>2</sub>e",
          "ROU: 0.69 Gt CO<sub>2</sub>e",
          "SVK: 0.69 Gt CO<sub>2</sub>e",
          "SVN: 0.69 Gt CO<sub>2</sub>e",
          "ESP: 0.69 Gt CO<sub>2</sub>e",
          "SWE: 0.69 Gt CO<sub>2</sub>e"
         ],
         "type": "choropleth",
         "z": [
          0.6929814389094696,
          0.6929814403644005,
          0.6929814328762157,
          0.6929814214667123,
          0.6929814282855604,
          0.6929814231380819,
          0.6929814253808413,
          0.6929814213997724,
          0.6929814228186009,
          0.6929814215384485,
          0.6929814325571961,
          0.6929814332611629,
          0.6929814185097581,
          0.6929814297016985,
          0.6929814351697405,
          0.6929814265323232,
          0.6929814150725007,
          0.6929814360898201,
          0.6929814263755412,
          0.6929814371983707,
          0.6929814284959817,
          0.6929814287890173,
          0.6929814269325225,
          0.6929814223459828,
          0.6929814348819354,
          0.6929814335743206,
          0.6929814298374538
         ],
         "zmax": 1,
         "zmin": 0
        },
        {
         "colorbar": {
          "len": 1,
          "tickfont": {
           "size": 25
          },
          "ticktext": [
           "0%",
           "10%",
           "20%",
           "30%",
           "40%",
           "50%",
           "60%",
           "70%",
           "80%",
           "90%"
          ],
          "tickvals": [
           0,
           0.1,
           0.2,
           0.30000000000000004,
           0.4,
           0.5,
           0.6000000000000001,
           0.7000000000000001,
           0.8,
           0.9
          ],
          "title": {
           "text": "Emission<br>reduction<br>in 2040<br>w.r.t. 2021"
          },
          "x": 1
         },
         "colorscale": [
          [
           0,
           "rgb(49,54,149)"
          ],
          [
           0.1,
           "rgb(69,117,180)"
          ],
          [
           0.2,
           "rgb(116,173,209)"
          ],
          [
           0.3,
           "rgb(171,217,233)"
          ],
          [
           0.4,
           "rgb(224,243,248)"
          ],
          [
           0.5,
           "rgb(255,255,191)"
          ],
          [
           0.6,
           "rgb(254,224,144)"
          ],
          [
           0.7,
           "rgb(253,174,97)"
          ],
          [
           0.8,
           "rgb(244,109,67)"
          ],
          [
           0.9,
           "rgb(215,48,39)"
          ],
          [
           1,
           "rgb(165,0,38)"
          ]
         ],
         "geo": "geo2",
         "hovertemplate": "%{text}",
         "locationmode": "ISO-3",
         "locations": [
          "AUT",
          "BEL",
          "BGR",
          "HRV",
          "CYP",
          "CZE",
          "DNK",
          "EST",
          "FIN",
          "FRA",
          "DEU",
          "GRC",
          "HUN",
          "IRL",
          "ITA",
          "LVA",
          "LTU",
          "LUX",
          "MLT",
          "NLD",
          "POL",
          "PRT",
          "ROU",
          "SVK",
          "SVN",
          "ESP",
          "SWE"
         ],
         "marker": {
          "line": {
           "color": "grey",
           "width": 0.7
          }
         },
         "name": "",
         "showscale": false,
         "text": [
          "AUT: 0.74 Gt CO<sub>2</sub>e",
          "BEL: 0.81 Gt CO<sub>2</sub>e",
          "BGR: 0.39 Gt CO<sub>2</sub>e",
          "HRV: 0.55 Gt CO<sub>2</sub>e",
          "CYP: 0.65 Gt CO<sub>2</sub>e",
          "CZE: 0.79 Gt CO<sub>2</sub>e",
          "DNK: 0.72 Gt CO<sub>2</sub>e",
          "EST: 0.88 Gt CO<sub>2</sub>e",
          "FIN: 0.83 Gt CO<sub>2</sub>e",
          "FRA: 0.60 Gt CO<sub>2</sub>e",
          "DEU: 0.76 Gt CO<sub>2</sub>e",
          "GRC: 0.69 Gt CO<sub>2</sub>e",
          "HUN: 0.72 Gt CO<sub>2</sub>e",
          "IRL: 0.82 Gt CO<sub>2</sub>e",
          "ITA: 0.66 Gt CO<sub>2</sub>e",
          "LVA: 0.51 Gt CO<sub>2</sub>e",
          "LTU: 0.75 Gt CO<sub>2</sub>e",
          "LUX: 0.86 Gt CO<sub>2</sub>e",
          "MLT: 0.66 Gt CO<sub>2</sub>e",
          "NLD: 0.83 Gt CO<sub>2</sub>e",
          "POL: 0.78 Gt CO<sub>2</sub>e",
          "PRT: 0.58 Gt CO<sub>2</sub>e",
          "ROU: 0.52 Gt CO<sub>2</sub>e",
          "SVK: 0.73 Gt CO<sub>2</sub>e",
          "SVN: 0.74 Gt CO<sub>2</sub>e",
          "ESP: 0.64 Gt CO<sub>2</sub>e",
          "SWE: 0.52 Gt CO<sub>2</sub>e"
         ],
         "type": "choropleth",
         "z": [
          0.7405449945081765,
          0.8104844774584941,
          0.38813963769189447,
          0.5487310093823524,
          0.6538198853405512,
          0.7869836830996662,
          0.717643972994806,
          0.8809221769829876,
          0.8331802779443231,
          0.595012002237318,
          0.7628017587776554,
          0.6901661951411625,
          0.7159249291645655,
          0.819989448509373,
          0.6592853266459872,
          0.5127499214864799,
          0.749218715246529,
          0.8633777322145654,
          0.656784450992347,
          0.8273663780765355,
          0.7847937900067138,
          0.584313869798706,
          0.5200890818030878,
          0.7278335373126944,
          0.7418718144269641,
          0.644856094273916,
          0.5213081018518316
         ],
         "zmax": 1,
         "zmin": 0
        },
        {
         "colorbar": {
          "len": 1,
          "tickfont": {
           "size": 25
          },
          "ticktext": [
           "0%",
           "10%",
           "20%",
           "30%",
           "40%",
           "50%",
           "60%",
           "70%",
           "80%",
           "90%"
          ],
          "tickvals": [
           0,
           0.1,
           0.2,
           0.30000000000000004,
           0.4,
           0.5,
           0.6000000000000001,
           0.7000000000000001,
           0.8,
           0.9
          ],
          "title": {
           "text": "Emission<br>reduction<br>in 2040<br>w.r.t. 2021"
          },
          "x": 1
         },
         "colorscale": [
          [
           0,
           "rgb(49,54,149)"
          ],
          [
           0.1,
           "rgb(69,117,180)"
          ],
          [
           0.2,
           "rgb(116,173,209)"
          ],
          [
           0.3,
           "rgb(171,217,233)"
          ],
          [
           0.4,
           "rgb(224,243,248)"
          ],
          [
           0.5,
           "rgb(255,255,191)"
          ],
          [
           0.6,
           "rgb(254,224,144)"
          ],
          [
           0.7,
           "rgb(253,174,97)"
          ],
          [
           0.8,
           "rgb(244,109,67)"
          ],
          [
           0.9,
           "rgb(215,48,39)"
          ],
          [
           1,
           "rgb(165,0,38)"
          ]
         ],
         "geo": "geo3",
         "hovertemplate": "%{text}",
         "locationmode": "ISO-3",
         "locations": [
          "AUT",
          "BEL",
          "BGR",
          "HRV",
          "CYP",
          "CZE",
          "DNK",
          "EST",
          "FIN",
          "FRA",
          "DEU",
          "GRC",
          "HUN",
          "IRL",
          "ITA",
          "LVA",
          "LTU",
          "LUX",
          "MLT",
          "NLD",
          "POL",
          "PRT",
          "ROU",
          "SVK",
          "SVN",
          "ESP",
          "SWE"
         ],
         "marker": {
          "line": {
           "color": "grey",
           "width": 0.7
          }
         },
         "name": "",
         "showscale": false,
         "text": [
          "AUT: 0.72 Gt CO<sub>2</sub>e",
          "BEL: 0.77 Gt CO<sub>2</sub>e",
          "BGR: 0.49 Gt CO<sub>2</sub>e",
          "HRV: 0.60 Gt CO<sub>2</sub>e",
          "CYP: 0.67 Gt CO<sub>2</sub>e",
          "CZE: 0.75 Gt CO<sub>2</sub>e",
          "DNK: 0.71 Gt CO<sub>2</sub>e",
          "EST: 0.82 Gt CO<sub>2</sub>e",
          "FIN: 0.78 Gt CO<sub>2</sub>e",
          "FRA: 0.63 Gt CO<sub>2</sub>e",
          "DEU: 0.74 Gt CO<sub>2</sub>e",
          "GRC: 0.69 Gt CO<sub>2</sub>e",
          "HUN: 0.71 Gt CO<sub>2</sub>e",
          "IRL: 0.78 Gt CO<sub>2</sub>e",
          "ITA: 0.67 Gt CO<sub>2</sub>e",
          "LVA: 0.57 Gt CO<sub>2</sub>e",
          "LTU: 0.73 Gt CO<sub>2</sub>e",
          "LUX: 0.80 Gt CO<sub>2</sub>e",
          "MLT: 0.67 Gt CO<sub>2</sub>e",
          "NLD: 0.78 Gt CO<sub>2</sub>e",
          "POL: 0.75 Gt CO<sub>2</sub>e",
          "PRT: 0.62 Gt CO<sub>2</sub>e",
          "ROU: 0.58 Gt CO<sub>2</sub>e",
          "SVK: 0.72 Gt CO<sub>2</sub>e",
          "SVN: 0.73 Gt CO<sub>2</sub>e",
          "ESP: 0.66 Gt CO<sub>2</sub>e",
          "SWE: 0.58 Gt CO<sub>2</sub>e"
         ],
         "type": "choropleth",
         "z": [
          0.724143760071063,
          0.7699661924701989,
          0.4932575375545684,
          0.5984725650523975,
          0.667323887163819,
          0.7545691294512623,
          0.7091396371518155,
          0.8161150258681077,
          0.7848358419058571,
          0.6287945474777884,
          0.7387258016007664,
          0.6911369296234041,
          0.7080133838237357,
          0.7761935638975022,
          0.670904653027403,
          0.5748987037040231,
          0.7298265328821826,
          0.8046203811760342,
          0.6692661627772677,
          0.7810267202363175,
          0.7531343634170168,
          0.6217854359174928,
          0.5797071507166586,
          0.7158155636033893,
          0.7250130436327471,
          0.6614510542912985,
          0.5805058201125999
         ],
         "zmax": 1,
         "zmin": 0
        },
        {
         "colorbar": {
          "len": 1,
          "tickfont": {
           "size": 25
          },
          "ticktext": [
           "0%",
           "10%",
           "20%",
           "30%",
           "40%",
           "50%",
           "60%",
           "70%",
           "80%",
           "90%"
          ],
          "tickvals": [
           0,
           0.1,
           0.2,
           0.30000000000000004,
           0.4,
           0.5,
           0.6000000000000001,
           0.7000000000000001,
           0.8,
           0.9
          ],
          "title": {
           "text": "Emission<br>reduction<br>in 2040<br>w.r.t. 2021"
          },
          "x": 1
         },
         "colorscale": [
          [
           0,
           "rgb(49,54,149)"
          ],
          [
           0.1,
           "rgb(69,117,180)"
          ],
          [
           0.2,
           "rgb(116,173,209)"
          ],
          [
           0.3,
           "rgb(171,217,233)"
          ],
          [
           0.4,
           "rgb(224,243,248)"
          ],
          [
           0.5,
           "rgb(255,255,191)"
          ],
          [
           0.6,
           "rgb(254,224,144)"
          ],
          [
           0.7,
           "rgb(253,174,97)"
          ],
          [
           0.8,
           "rgb(244,109,67)"
          ],
          [
           0.9,
           "rgb(215,48,39)"
          ],
          [
           1,
           "rgb(165,0,38)"
          ]
         ],
         "geo": "geo4",
         "hovertemplate": "%{text}",
         "locationmode": "ISO-3",
         "locations": [
          "AUT",
          "BEL",
          "BGR",
          "HRV",
          "CYP",
          "CZE",
          "DNK",
          "EST",
          "FIN",
          "FRA",
          "DEU",
          "GRC",
          "HUN",
          "IRL",
          "ITA",
          "LVA",
          "LTU",
          "LUX",
          "MLT",
          "NLD",
          "POL",
          "PRT",
          "ROU",
          "SVK",
          "SVN",
          "ESP",
          "SWE"
         ],
         "marker": {
          "line": {
           "color": "grey",
           "width": 0.7
          }
         },
         "name": "",
         "showscale": false,
         "text": [
          "AUT: 0.98 Gt CO<sub>2</sub>e",
          "BEL: 1.02 Gt CO<sub>2</sub>e",
          "BGR: 1.02 Gt CO<sub>2</sub>e",
          "HRV: 0.97 Gt CO<sub>2</sub>e",
          "CYP: 0.90 Gt CO<sub>2</sub>e",
          "CZE: 1.06 Gt CO<sub>2</sub>e",
          "DNK: 1.07 Gt CO<sub>2</sub>e",
          "EST: 1.05 Gt CO<sub>2</sub>e",
          "FIN: 0.97 Gt CO<sub>2</sub>e",
          "FRA: 0.95 Gt CO<sub>2</sub>e",
          "DEU: 1.07 Gt CO<sub>2</sub>e",
          "GRC: 1.04 Gt CO<sub>2</sub>e",
          "HUN: 0.99 Gt CO<sub>2</sub>e",
          "IRL: 1.02 Gt CO<sub>2</sub>e",
          "ITA: 1.00 Gt CO<sub>2</sub>e",
          "LVA: 0.71 Gt CO<sub>2</sub>e",
          "LTU: 0.99 Gt CO<sub>2</sub>e",
          "LUX: 1.05 Gt CO<sub>2</sub>e",
          "MLT: 0.93 Gt CO<sub>2</sub>e",
          "NLD: 1.06 Gt CO<sub>2</sub>e",
          "POL: 1.02 Gt CO<sub>2</sub>e",
          "PRT: 0.96 Gt CO<sub>2</sub>e",
          "ROU: 0.88 Gt CO<sub>2</sub>e",
          "SVK: 0.96 Gt CO<sub>2</sub>e",
          "SVN: 0.90 Gt CO<sub>2</sub>e",
          "ESP: 0.95 Gt CO<sub>2</sub>e",
          "SWE: 0.93 Gt CO<sub>2</sub>e"
         ],
         "type": "choropleth",
         "z": [
          0.9826828075533006,
          1.0242179460573222,
          1.0210320079014827,
          0.9683303705665448,
          0.9044394712951244,
          1.057277933769365,
          1.0747373164877863,
          1.046975123307519,
          0.9723740582365851,
          0.9498195147778289,
          1.068466055729571,
          1.040100918841792,
          0.9858545159557343,
          1.0206983346327725,
          0.9952451519662132,
          0.709834799421384,
          0.9868736463408914,
          1.0497045357558226,
          0.9299915719210243,
          1.0577381501133267,
          1.0174271577449994,
          0.9585385422175707,
          0.8798644560955419,
          0.9584878301072777,
          0.9041518759068777,
          0.9513085731438212,
          0.9286069366141524
         ],
         "zmax": 1,
         "zmin": 0
        },
        {
         "colorbar": {
          "len": 1,
          "tickfont": {
           "size": 25
          },
          "ticktext": [
           "0%",
           "10%",
           "20%",
           "30%",
           "40%",
           "50%",
           "60%",
           "70%",
           "80%",
           "90%"
          ],
          "tickvals": [
           0,
           0.1,
           0.2,
           0.30000000000000004,
           0.4,
           0.5,
           0.6000000000000001,
           0.7000000000000001,
           0.8,
           0.9
          ],
          "title": {
           "text": "Emission<br>reduction<br>in 2040<br>w.r.t. 2021"
          },
          "x": 1
         },
         "colorscale": [
          [
           0,
           "rgb(49,54,149)"
          ],
          [
           0.1,
           "rgb(69,117,180)"
          ],
          [
           0.2,
           "rgb(116,173,209)"
          ],
          [
           0.3,
           "rgb(171,217,233)"
          ],
          [
           0.4,
           "rgb(224,243,248)"
          ],
          [
           0.5,
           "rgb(255,255,191)"
          ],
          [
           0.6,
           "rgb(254,224,144)"
          ],
          [
           0.7,
           "rgb(253,174,97)"
          ],
          [
           0.8,
           "rgb(244,109,67)"
          ],
          [
           0.9,
           "rgb(215,48,39)"
          ],
          [
           1,
           "rgb(165,0,38)"
          ]
         ],
         "geo": "geo5",
         "hovertemplate": "%{text}",
         "locationmode": "ISO-3",
         "locations": [
          "AUT",
          "BEL",
          "BGR",
          "HRV",
          "CYP",
          "CZE",
          "DNK",
          "EST",
          "FIN",
          "FRA",
          "DEU",
          "GRC",
          "HUN",
          "IRL",
          "ITA",
          "LVA",
          "LTU",
          "LUX",
          "MLT",
          "NLD",
          "POL",
          "PRT",
          "ROU",
          "SVK",
          "SVN",
          "ESP",
          "SWE"
         ],
         "marker": {
          "line": {
           "color": "grey",
           "width": 0.7
          }
         },
         "name": "",
         "showscale": false,
         "text": [
          "AUT: 0.93 Gt CO<sub>2</sub>e",
          "BEL: 0.91 Gt CO<sub>2</sub>e",
          "BGR: 0.83 Gt CO<sub>2</sub>e",
          "HRV: 0.72 Gt CO<sub>2</sub>e",
          "CYP: 0.78 Gt CO<sub>2</sub>e",
          "CZE: 0.92 Gt CO<sub>2</sub>e",
          "DNK: 0.89 Gt CO<sub>2</sub>e",
          "EST: 0.87 Gt CO<sub>2</sub>e",
          "FIN: 0.90 Gt CO<sub>2</sub>e",
          "FRA: 0.88 Gt CO<sub>2</sub>e",
          "DEU: 0.91 Gt CO<sub>2</sub>e",
          "GRC: 0.85 Gt CO<sub>2</sub>e",
          "HUN: 0.75 Gt CO<sub>2</sub>e",
          "IRL: 0.91 Gt CO<sub>2</sub>e",
          "ITA: 0.83 Gt CO<sub>2</sub>e",
          "LVA: 0.77 Gt CO<sub>2</sub>e",
          "LTU: 0.78 Gt CO<sub>2</sub>e",
          "LUX: 1.06 Gt CO<sub>2</sub>e",
          "MLT: 0.94 Gt CO<sub>2</sub>e",
          "NLD: 0.93 Gt CO<sub>2</sub>e",
          "POL: 0.84 Gt CO<sub>2</sub>e",
          "PRT: 0.80 Gt CO<sub>2</sub>e",
          "ROU: 0.71 Gt CO<sub>2</sub>e",
          "SVK: nan Gt CO<sub>2</sub>e",
          "SVN: 0.86 Gt CO<sub>2</sub>e",
          "ESP: 0.82 Gt CO<sub>2</sub>e",
          "SWE: 0.94 Gt CO<sub>2</sub>e"
         ],
         "type": "choropleth",
         "z": [
          0.9327834911951408,
          0.9134674592209472,
          0.8285738637113602,
          0.7235164535779556,
          0.7751487533170247,
          0.9220400225075526,
          0.8870553401166434,
          0.867368470705577,
          0.9048054659288697,
          0.8750255206298809,
          0.9095491624504408,
          0.846485961741904,
          0.7491925503001304,
          0.9136667052454353,
          0.8308331020727997,
          0.7731853110448088,
          0.781756247874803,
          1.0611162476991753,
          0.9372091336680116,
          0.9288484738021974,
          0.8370722919589929,
          0.8034335689815643,
          0.7140146699604226,
          null,
          0.8624162771684252,
          0.8223239770531751,
          0.9362414023106196
         ],
         "zmax": 1,
         "zmin": 0
        },
        {
         "colorbar": {
          "len": 1,
          "tickfont": {
           "size": 25
          },
          "ticktext": [
           "0%",
           "10%",
           "20%",
           "30%",
           "40%",
           "50%",
           "60%",
           "70%",
           "80%",
           "90%"
          ],
          "tickvals": [
           0,
           0.1,
           0.2,
           0.30000000000000004,
           0.4,
           0.5,
           0.6000000000000001,
           0.7000000000000001,
           0.8,
           0.9
          ],
          "title": {
           "text": "Emission<br>reduction<br>in 2040<br>w.r.t. 2021"
          },
          "x": 1
         },
         "colorscale": [
          [
           0,
           "rgb(49,54,149)"
          ],
          [
           0.1,
           "rgb(69,117,180)"
          ],
          [
           0.2,
           "rgb(116,173,209)"
          ],
          [
           0.3,
           "rgb(171,217,233)"
          ],
          [
           0.4,
           "rgb(224,243,248)"
          ],
          [
           0.5,
           "rgb(255,255,191)"
          ],
          [
           0.6,
           "rgb(254,224,144)"
          ],
          [
           0.7,
           "rgb(253,174,97)"
          ],
          [
           0.8,
           "rgb(244,109,67)"
          ],
          [
           0.9,
           "rgb(215,48,39)"
          ],
          [
           1,
           "rgb(165,0,38)"
          ]
         ],
         "geo": "geo6",
         "hovertemplate": "%{text}",
         "locationmode": "ISO-3",
         "locations": [
          "AUT",
          "BEL",
          "BGR",
          "HRV",
          "CYP",
          "CZE",
          "DNK",
          "EST",
          "FIN",
          "FRA",
          "DEU",
          "GRC",
          "HUN",
          "IRL",
          "ITA",
          "LVA",
          "LTU",
          "LUX",
          "MLT",
          "NLD",
          "POL",
          "PRT",
          "ROU",
          "SVK",
          "SVN",
          "ESP",
          "SWE"
         ],
         "marker": {
          "line": {
           "color": "grey",
           "width": 0.7
          }
         },
         "name": "",
         "showscale": false,
         "text": [
          "AUT: 2.82 Gt CO<sub>2</sub>e",
          "BEL: 2.34 Gt CO<sub>2</sub>e",
          "BGR: 1.81 Gt CO<sub>2</sub>e",
          "HRV: 1.50 Gt CO<sub>2</sub>e",
          "CYP: 1.67 Gt CO<sub>2</sub>e",
          "CZE: 1.86 Gt CO<sub>2</sub>e",
          "DNK: 4.00 Gt CO<sub>2</sub>e",
          "EST: 1.13 Gt CO<sub>2</sub>e",
          "FIN: 1.89 Gt CO<sub>2</sub>e",
          "FRA: 3.62 Gt CO<sub>2</sub>e",
          "DEU: 2.92 Gt CO<sub>2</sub>e",
          "GRC: 1.81 Gt CO<sub>2</sub>e",
          "HUN: 1.14 Gt CO<sub>2</sub>e",
          "IRL: 3.48 Gt CO<sub>2</sub>e",
          "ITA: 2.44 Gt CO<sub>2</sub>e",
          "LVA: 1.53 Gt CO<sub>2</sub>e",
          "LTU: 1.18 Gt CO<sub>2</sub>e",
          "LUX: 4.07 Gt CO<sub>2</sub>e",
          "MLT: 2.79 Gt CO<sub>2</sub>e",
          "NLD: 2.37 Gt CO<sub>2</sub>e",
          "POL: 1.16 Gt CO<sub>2</sub>e",
          "PRT: 2.01 Gt CO<sub>2</sub>e",
          "ROU: 1.12 Gt CO<sub>2</sub>e",
          "SVK: nan Gt CO<sub>2</sub>e",
          "SVN: 1.83 Gt CO<sub>2</sub>e",
          "ESP: 2.31 Gt CO<sub>2</sub>e",
          "SWE: 5.57 Gt CO<sub>2</sub>e"
         ],
         "type": "choropleth",
         "z": [
          2.8236557138865757,
          2.340780994097811,
          1.8071880833933884,
          1.4978918164091344,
          1.6740264318756113,
          1.863118757910615,
          4.00213319845097,
          1.1339352845039732,
          1.8877232189347748,
          3.6235152724054536,
          2.9231804963365065,
          1.8079029631730672,
          1.1375121296797488,
          3.47867248225438,
          2.443200755455735,
          1.5259378722419294,
          1.1811432697522408,
          4.069931131971348,
          2.7850707977708944,
          2.369272973387269,
          1.1613637102198549,
          2.006200823326402,
          1.118527388580395,
          null,
          1.8298736684135204,
          2.3101013396668426,
          5.566905137252249
         ],
         "zmax": 1,
         "zmin": 0
        },
        {
         "featureidkey": "properties.NAME_3",
         "geo": "geo",
         "hoverinfo": "skip",
         "locations": [
          "AUT",
          "BEL",
          "BGR",
          "HRV",
          "CYP",
          "CZE",
          "DNK",
          "EST",
          "FIN",
          "FRA",
          "DEU",
          "GRC",
          "HUN",
          "IRL",
          "ITA",
          "LVA",
          "LTU",
          "LUX",
          "MLT",
          "NLD",
          "POL",
          "PRT",
          "ROU",
          "SVK",
          "SVN",
          "ESP",
          "SWE"
         ],
         "mode": "text",
         "showlegend": false,
         "text": [
          "69%",
          "69%",
          "69%",
          "69%",
          "69%",
          "69%",
          "69%",
          "69%",
          "69%",
          "69%",
          "69%",
          "69%",
          "69%",
          "69%",
          "69%",
          "69%",
          "69%",
          "69%",
          "69%",
          "69%",
          "69%",
          "69%",
          "69%",
          "69%",
          "69%",
          "69%",
          "69%"
         ],
         "textfont": {
          "color": "black",
          "size": 20
         },
         "type": "scattergeo"
        },
        {
         "featureidkey": "properties.NAME_3",
         "geo": "geo2",
         "hoverinfo": "skip",
         "locations": [
          "AUT",
          "BEL",
          "BGR",
          "HRV",
          "CYP",
          "CZE",
          "DNK",
          "EST",
          "FIN",
          "FRA",
          "DEU",
          "GRC",
          "HUN",
          "IRL",
          "ITA",
          "LVA",
          "LTU",
          "LUX",
          "MLT",
          "NLD",
          "POL",
          "PRT",
          "ROU",
          "SVK",
          "SVN",
          "ESP",
          "SWE"
         ],
         "mode": "text",
         "showlegend": false,
         "text": [
          "74%",
          "81%",
          "38%",
          "54%",
          "65%",
          "78%",
          "71%",
          "88%",
          "83%",
          "59%",
          "76%",
          "69%",
          "71%",
          "81%",
          "65%",
          "51%",
          "74%",
          "86%",
          "65%",
          "82%",
          "78%",
          "58%",
          "52%",
          "72%",
          "74%",
          "64%",
          "52%"
         ],
         "textfont": {
          "color": "black",
          "size": 20
         },
         "type": "scattergeo"
        },
        {
         "featureidkey": "properties.NAME_3",
         "geo": "geo3",
         "hoverinfo": "skip",
         "locations": [
          "AUT",
          "BEL",
          "BGR",
          "HRV",
          "CYP",
          "CZE",
          "DNK",
          "EST",
          "FIN",
          "FRA",
          "DEU",
          "GRC",
          "HUN",
          "IRL",
          "ITA",
          "LVA",
          "LTU",
          "LUX",
          "MLT",
          "NLD",
          "POL",
          "PRT",
          "ROU",
          "SVK",
          "SVN",
          "ESP",
          "SWE"
         ],
         "mode": "text",
         "showlegend": false,
         "text": [
          "72%",
          "76%",
          "49%",
          "59%",
          "66%",
          "75%",
          "70%",
          "81%",
          "78%",
          "62%",
          "73%",
          "69%",
          "70%",
          "77%",
          "67%",
          "57%",
          "72%",
          "80%",
          "66%",
          "78%",
          "75%",
          "62%",
          "57%",
          "71%",
          "72%",
          "66%",
          "58%"
         ],
         "textfont": {
          "color": "black",
          "size": 20
         },
         "type": "scattergeo"
        },
        {
         "featureidkey": "properties.NAME_3",
         "geo": "geo4",
         "hoverinfo": "skip",
         "locations": [
          "AUT",
          "BEL",
          "BGR",
          "HRV",
          "CYP",
          "CZE",
          "DNK",
          "EST",
          "FIN",
          "FRA",
          "DEU",
          "GRC",
          "HUN",
          "IRL",
          "ITA",
          "LVA",
          "LTU",
          "LUX",
          "MLT",
          "NLD",
          "POL",
          "PRT",
          "ROU",
          "SVK",
          "SVN",
          "ESP",
          "SWE"
         ],
         "mode": "text",
         "showlegend": false,
         "text": [
          "98%",
          "102%",
          "102%",
          "96%",
          "90%",
          "105%",
          "107%",
          "104%",
          "97%",
          "94%",
          "106%",
          "104%",
          "98%",
          "102%",
          "99%",
          "70%",
          "98%",
          "104%",
          "92%",
          "105%",
          "101%",
          "95%",
          "87%",
          "95%",
          "90%",
          "95%",
          "92%"
         ],
         "textfont": {
          "color": "black",
          "size": 20
         },
         "type": "scattergeo"
        },
        {
         "featureidkey": "properties.NAME_3",
         "geo": "geo5",
         "hoverinfo": "skip",
         "locations": [
          "AUT",
          "BEL",
          "BGR",
          "HRV",
          "CYP",
          "CZE",
          "DNK",
          "EST",
          "FIN",
          "FRA",
          "DEU",
          "GRC",
          "HUN",
          "IRL",
          "ITA",
          "LVA",
          "LTU",
          "LUX",
          "MLT",
          "NLD",
          "POL",
          "PRT",
          "ROU",
          "SVK",
          "SVN",
          "ESP",
          "SWE"
         ],
         "mode": "text",
         "showlegend": false,
         "text": [
          "93%",
          "91%",
          "82%",
          "72%",
          "77%",
          "92%",
          "88%",
          "86%",
          "90%",
          "87%",
          "90%",
          "84%",
          "74%",
          "91%",
          "83%",
          "77%",
          "78%",
          "106%",
          "93%",
          "92%",
          "83%",
          "80%",
          "71%",
          "85%",
          "86%",
          "82%",
          "93%"
         ],
         "textfont": {
          "color": "black",
          "size": 20
         },
         "type": "scattergeo"
        },
        {
         "featureidkey": "properties.NAME_3",
         "geo": "geo6",
         "hoverinfo": "skip",
         "locations": [
          "AUT",
          "BEL",
          "BGR",
          "HRV",
          "CYP",
          "CZE",
          "DNK",
          "EST",
          "FIN",
          "FRA",
          "DEU",
          "GRC",
          "HUN",
          "IRL",
          "ITA",
          "LVA",
          "LTU",
          "LUX",
          "MLT",
          "NLD",
          "POL",
          "PRT",
          "ROU",
          "SVK",
          "SVN",
          "ESP",
          "SWE"
         ],
         "mode": "text",
         "showlegend": false,
         "text": [
          "282%",
          "234%",
          "180%",
          "149%",
          "167%",
          "186%",
          "400%",
          "113%",
          "188%",
          "362%",
          "292%",
          "180%",
          "113%",
          "347%",
          "244%",
          "152%",
          "118%",
          "406%",
          "278%",
          "236%",
          "116%",
          "200%",
          "111%",
          "232%",
          "182%",
          "231%",
          "556%"
         ],
         "textfont": {
          "color": "black",
          "size": 20
         },
         "type": "scattergeo"
        }
       ],
       "layout": {
        "annotations": [
         {
          "align": "left",
          "ax": 0,
          "ay": 0,
          "font": {
           "color": "black",
           "size": 25
          },
          "showarrow": false,
          "text": "<b>(a) Grandfathering</b>",
          "x": 0.07,
          "xref": "paper",
          "y": 0.96,
          "yref": "paper"
         },
         {
          "align": "left",
          "ax": 0,
          "ay": 0,
          "font": {
           "color": "black",
           "size": 25
          },
          "showarrow": false,
          "text": "<b>(b) Per Capita</b>",
          "x": 0.47,
          "xref": "paper",
          "y": 0.96,
          "yref": "paper"
         },
         {
          "align": "left",
          "ax": 0,
          "ay": 0,
          "font": {
           "color": "black",
           "size": 25
          },
          "showarrow": false,
          "text": "<b>(c) Per Capita Convergence</b>",
          "x": 0.9,
          "xref": "paper",
          "y": 0.96,
          "yref": "paper"
         },
         {
          "align": "left",
          "ax": 0,
          "ay": 0,
          "font": {
           "color": "black",
           "size": 25
          },
          "showarrow": false,
          "text": "<b>(d) Equal Cumulative per Capita</b>",
          "x": 0.07,
          "xref": "paper",
          "y": 0.45,
          "yref": "paper"
         },
         {
          "align": "left",
          "ax": 0,
          "ay": 0,
          "font": {
           "color": "black",
           "size": 25
          },
          "showarrow": false,
          "text": "<b>(e) Ability to Pay</b>",
          "x": 0.48,
          "xref": "paper",
          "y": 0.45,
          "yref": "paper"
         },
         {
          "align": "left",
          "ax": 0,
          "ay": 0,
          "font": {
           "color": "black",
           "size": 25
          },
          "showarrow": false,
          "text": "<b>(f) Greenhouse Development Rights</b>",
          "x": 0.95,
          "xref": "paper",
          "y": 0.45,
          "yref": "paper"
         }
        ],
        "geo": {
         "domain": {
          "x": [
           0,
           0.3333333333333333
          ],
          "y": [
           0.5,
           1
          ]
         },
         "lakecolor": "rgb(255, 255, 255)",
         "lataxis": {
          "range": [
           30,
           75
          ]
         },
         "lonaxis": {
          "range": [
           -20,
           40
          ]
         },
         "projection": {
          "type": "natural earth"
         },
         "resolution": 50,
         "scope": "europe",
         "showcoastlines": false,
         "showcountries": false,
         "showlakes": true,
         "visible": true
        },
        "geo2": {
         "domain": {
          "x": [
           0.3333333333333333,
           0.6666666666666666
          ],
          "y": [
           0.5,
           1
          ]
         },
         "lakecolor": "rgb(255, 255, 255)",
         "lataxis": {
          "range": [
           30,
           75
          ]
         },
         "lonaxis": {
          "range": [
           -20,
           40
          ]
         },
         "projection": {
          "type": "natural earth"
         },
         "resolution": 50,
         "scope": "europe",
         "showcoastlines": false,
         "showcountries": false,
         "showlakes": true,
         "visible": true
        },
        "geo3": {
         "domain": {
          "x": [
           0.6666666666666666,
           1
          ],
          "y": [
           0.5,
           1
          ]
         },
         "lakecolor": "rgb(255, 255, 255)",
         "lataxis": {
          "range": [
           30,
           75
          ]
         },
         "lonaxis": {
          "range": [
           -20,
           40
          ]
         },
         "projection": {
          "type": "natural earth"
         },
         "resolution": 50,
         "scope": "europe",
         "showcoastlines": false,
         "showcountries": false,
         "showlakes": true,
         "visible": true
        },
        "geo4": {
         "domain": {
          "x": [
           0,
           0.3333333333333333
          ],
          "y": [
           0,
           0.5
          ]
         },
         "lakecolor": "rgb(255, 255, 255)",
         "lataxis": {
          "range": [
           30,
           75
          ]
         },
         "lonaxis": {
          "range": [
           -20,
           40
          ]
         },
         "projection": {
          "type": "natural earth"
         },
         "resolution": 50,
         "scope": "europe",
         "showcoastlines": false,
         "showcountries": false,
         "showlakes": true,
         "visible": true
        },
        "geo5": {
         "domain": {
          "x": [
           0.3333333333333333,
           0.6666666666666666
          ],
          "y": [
           0,
           0.5
          ]
         },
         "lakecolor": "rgb(255, 255, 255)",
         "lataxis": {
          "range": [
           30,
           75
          ]
         },
         "lonaxis": {
          "range": [
           -20,
           40
          ]
         },
         "projection": {
          "type": "natural earth"
         },
         "resolution": 50,
         "scope": "europe",
         "showcoastlines": false,
         "showcountries": false,
         "showlakes": true,
         "visible": true
        },
        "geo6": {
         "domain": {
          "x": [
           0.6666666666666666,
           1
          ],
          "y": [
           0,
           0.5
          ]
         },
         "lakecolor": "rgb(255, 255, 255)",
         "lataxis": {
          "range": [
           30,
           75
          ]
         },
         "lonaxis": {
          "range": [
           -20,
           40
          ]
         },
         "projection": {
          "type": "natural earth"
         },
         "resolution": 50,
         "scope": "europe",
         "showcoastlines": false,
         "showcountries": false,
         "showlakes": true,
         "visible": true
        },
        "height": 1200,
        "margin": {
         "b": 0,
         "l": 0,
         "r": 0,
         "t": 0
        },
        "template": {
         "data": {
          "bar": [
           {
            "error_x": {
             "color": "#2a3f5f"
            },
            "error_y": {
             "color": "#2a3f5f"
            },
            "marker": {
             "line": {
              "color": "#E5ECF6",
              "width": 0.5
             },
             "pattern": {
              "fillmode": "overlay",
              "size": 10,
              "solidity": 0.2
             }
            },
            "type": "bar"
           }
          ],
          "barpolar": [
           {
            "marker": {
             "line": {
              "color": "#E5ECF6",
              "width": 0.5
             },
             "pattern": {
              "fillmode": "overlay",
              "size": 10,
              "solidity": 0.2
             }
            },
            "type": "barpolar"
           }
          ],
          "carpet": [
           {
            "aaxis": {
             "endlinecolor": "#2a3f5f",
             "gridcolor": "white",
             "linecolor": "white",
             "minorgridcolor": "white",
             "startlinecolor": "#2a3f5f"
            },
            "baxis": {
             "endlinecolor": "#2a3f5f",
             "gridcolor": "white",
             "linecolor": "white",
             "minorgridcolor": "white",
             "startlinecolor": "#2a3f5f"
            },
            "type": "carpet"
           }
          ],
          "choropleth": [
           {
            "colorbar": {
             "outlinewidth": 0,
             "ticks": ""
            },
            "type": "choropleth"
           }
          ],
          "contour": [
           {
            "colorbar": {
             "outlinewidth": 0,
             "ticks": ""
            },
            "colorscale": [
             [
              0,
              "#0d0887"
             ],
             [
              0.1111111111111111,
              "#46039f"
             ],
             [
              0.2222222222222222,
              "#7201a8"
             ],
             [
              0.3333333333333333,
              "#9c179e"
             ],
             [
              0.4444444444444444,
              "#bd3786"
             ],
             [
              0.5555555555555556,
              "#d8576b"
             ],
             [
              0.6666666666666666,
              "#ed7953"
             ],
             [
              0.7777777777777778,
              "#fb9f3a"
             ],
             [
              0.8888888888888888,
              "#fdca26"
             ],
             [
              1,
              "#f0f921"
             ]
            ],
            "type": "contour"
           }
          ],
          "contourcarpet": [
           {
            "colorbar": {
             "outlinewidth": 0,
             "ticks": ""
            },
            "type": "contourcarpet"
           }
          ],
          "heatmap": [
           {
            "colorbar": {
             "outlinewidth": 0,
             "ticks": ""
            },
            "colorscale": [
             [
              0,
              "#0d0887"
             ],
             [
              0.1111111111111111,
              "#46039f"
             ],
             [
              0.2222222222222222,
              "#7201a8"
             ],
             [
              0.3333333333333333,
              "#9c179e"
             ],
             [
              0.4444444444444444,
              "#bd3786"
             ],
             [
              0.5555555555555556,
              "#d8576b"
             ],
             [
              0.6666666666666666,
              "#ed7953"
             ],
             [
              0.7777777777777778,
              "#fb9f3a"
             ],
             [
              0.8888888888888888,
              "#fdca26"
             ],
             [
              1,
              "#f0f921"
             ]
            ],
            "type": "heatmap"
           }
          ],
          "heatmapgl": [
           {
            "colorbar": {
             "outlinewidth": 0,
             "ticks": ""
            },
            "colorscale": [
             [
              0,
              "#0d0887"
             ],
             [
              0.1111111111111111,
              "#46039f"
             ],
             [
              0.2222222222222222,
              "#7201a8"
             ],
             [
              0.3333333333333333,
              "#9c179e"
             ],
             [
              0.4444444444444444,
              "#bd3786"
             ],
             [
              0.5555555555555556,
              "#d8576b"
             ],
             [
              0.6666666666666666,
              "#ed7953"
             ],
             [
              0.7777777777777778,
              "#fb9f3a"
             ],
             [
              0.8888888888888888,
              "#fdca26"
             ],
             [
              1,
              "#f0f921"
             ]
            ],
            "type": "heatmapgl"
           }
          ],
          "histogram": [
           {
            "marker": {
             "pattern": {
              "fillmode": "overlay",
              "size": 10,
              "solidity": 0.2
             }
            },
            "type": "histogram"
           }
          ],
          "histogram2d": [
           {
            "colorbar": {
             "outlinewidth": 0,
             "ticks": ""
            },
            "colorscale": [
             [
              0,
              "#0d0887"
             ],
             [
              0.1111111111111111,
              "#46039f"
             ],
             [
              0.2222222222222222,
              "#7201a8"
             ],
             [
              0.3333333333333333,
              "#9c179e"
             ],
             [
              0.4444444444444444,
              "#bd3786"
             ],
             [
              0.5555555555555556,
              "#d8576b"
             ],
             [
              0.6666666666666666,
              "#ed7953"
             ],
             [
              0.7777777777777778,
              "#fb9f3a"
             ],
             [
              0.8888888888888888,
              "#fdca26"
             ],
             [
              1,
              "#f0f921"
             ]
            ],
            "type": "histogram2d"
           }
          ],
          "histogram2dcontour": [
           {
            "colorbar": {
             "outlinewidth": 0,
             "ticks": ""
            },
            "colorscale": [
             [
              0,
              "#0d0887"
             ],
             [
              0.1111111111111111,
              "#46039f"
             ],
             [
              0.2222222222222222,
              "#7201a8"
             ],
             [
              0.3333333333333333,
              "#9c179e"
             ],
             [
              0.4444444444444444,
              "#bd3786"
             ],
             [
              0.5555555555555556,
              "#d8576b"
             ],
             [
              0.6666666666666666,
              "#ed7953"
             ],
             [
              0.7777777777777778,
              "#fb9f3a"
             ],
             [
              0.8888888888888888,
              "#fdca26"
             ],
             [
              1,
              "#f0f921"
             ]
            ],
            "type": "histogram2dcontour"
           }
          ],
          "mesh3d": [
           {
            "colorbar": {
             "outlinewidth": 0,
             "ticks": ""
            },
            "type": "mesh3d"
           }
          ],
          "parcoords": [
           {
            "line": {
             "colorbar": {
              "outlinewidth": 0,
              "ticks": ""
             }
            },
            "type": "parcoords"
           }
          ],
          "pie": [
           {
            "automargin": true,
            "type": "pie"
           }
          ],
          "scatter": [
           {
            "fillpattern": {
             "fillmode": "overlay",
             "size": 10,
             "solidity": 0.2
            },
            "type": "scatter"
           }
          ],
          "scatter3d": [
           {
            "line": {
             "colorbar": {
              "outlinewidth": 0,
              "ticks": ""
             }
            },
            "marker": {
             "colorbar": {
              "outlinewidth": 0,
              "ticks": ""
             }
            },
            "type": "scatter3d"
           }
          ],
          "scattercarpet": [
           {
            "marker": {
             "colorbar": {
              "outlinewidth": 0,
              "ticks": ""
             }
            },
            "type": "scattercarpet"
           }
          ],
          "scattergeo": [
           {
            "marker": {
             "colorbar": {
              "outlinewidth": 0,
              "ticks": ""
             }
            },
            "type": "scattergeo"
           }
          ],
          "scattergl": [
           {
            "marker": {
             "colorbar": {
              "outlinewidth": 0,
              "ticks": ""
             }
            },
            "type": "scattergl"
           }
          ],
          "scattermapbox": [
           {
            "marker": {
             "colorbar": {
              "outlinewidth": 0,
              "ticks": ""
             }
            },
            "type": "scattermapbox"
           }
          ],
          "scatterpolar": [
           {
            "marker": {
             "colorbar": {
              "outlinewidth": 0,
              "ticks": ""
             }
            },
            "type": "scatterpolar"
           }
          ],
          "scatterpolargl": [
           {
            "marker": {
             "colorbar": {
              "outlinewidth": 0,
              "ticks": ""
             }
            },
            "type": "scatterpolargl"
           }
          ],
          "scatterternary": [
           {
            "marker": {
             "colorbar": {
              "outlinewidth": 0,
              "ticks": ""
             }
            },
            "type": "scatterternary"
           }
          ],
          "surface": [
           {
            "colorbar": {
             "outlinewidth": 0,
             "ticks": ""
            },
            "colorscale": [
             [
              0,
              "#0d0887"
             ],
             [
              0.1111111111111111,
              "#46039f"
             ],
             [
              0.2222222222222222,
              "#7201a8"
             ],
             [
              0.3333333333333333,
              "#9c179e"
             ],
             [
              0.4444444444444444,
              "#bd3786"
             ],
             [
              0.5555555555555556,
              "#d8576b"
             ],
             [
              0.6666666666666666,
              "#ed7953"
             ],
             [
              0.7777777777777778,
              "#fb9f3a"
             ],
             [
              0.8888888888888888,
              "#fdca26"
             ],
             [
              1,
              "#f0f921"
             ]
            ],
            "type": "surface"
           }
          ],
          "table": [
           {
            "cells": {
             "fill": {
              "color": "#EBF0F8"
             },
             "line": {
              "color": "white"
             }
            },
            "header": {
             "fill": {
              "color": "#C8D4E3"
             },
             "line": {
              "color": "white"
             }
            },
            "type": "table"
           }
          ]
         },
         "layout": {
          "annotationdefaults": {
           "arrowcolor": "#2a3f5f",
           "arrowhead": 0,
           "arrowwidth": 1
          },
          "autotypenumbers": "strict",
          "coloraxis": {
           "colorbar": {
            "outlinewidth": 0,
            "ticks": ""
           }
          },
          "colorscale": {
           "diverging": [
            [
             0,
             "#8e0152"
            ],
            [
             0.1,
             "#c51b7d"
            ],
            [
             0.2,
             "#de77ae"
            ],
            [
             0.3,
             "#f1b6da"
            ],
            [
             0.4,
             "#fde0ef"
            ],
            [
             0.5,
             "#f7f7f7"
            ],
            [
             0.6,
             "#e6f5d0"
            ],
            [
             0.7,
             "#b8e186"
            ],
            [
             0.8,
             "#7fbc41"
            ],
            [
             0.9,
             "#4d9221"
            ],
            [
             1,
             "#276419"
            ]
           ],
           "sequential": [
            [
             0,
             "#0d0887"
            ],
            [
             0.1111111111111111,
             "#46039f"
            ],
            [
             0.2222222222222222,
             "#7201a8"
            ],
            [
             0.3333333333333333,
             "#9c179e"
            ],
            [
             0.4444444444444444,
             "#bd3786"
            ],
            [
             0.5555555555555556,
             "#d8576b"
            ],
            [
             0.6666666666666666,
             "#ed7953"
            ],
            [
             0.7777777777777778,
             "#fb9f3a"
            ],
            [
             0.8888888888888888,
             "#fdca26"
            ],
            [
             1,
             "#f0f921"
            ]
           ],
           "sequentialminus": [
            [
             0,
             "#0d0887"
            ],
            [
             0.1111111111111111,
             "#46039f"
            ],
            [
             0.2222222222222222,
             "#7201a8"
            ],
            [
             0.3333333333333333,
             "#9c179e"
            ],
            [
             0.4444444444444444,
             "#bd3786"
            ],
            [
             0.5555555555555556,
             "#d8576b"
            ],
            [
             0.6666666666666666,
             "#ed7953"
            ],
            [
             0.7777777777777778,
             "#fb9f3a"
            ],
            [
             0.8888888888888888,
             "#fdca26"
            ],
            [
             1,
             "#f0f921"
            ]
           ]
          },
          "colorway": [
           "#636efa",
           "#EF553B",
           "#00cc96",
           "#ab63fa",
           "#FFA15A",
           "#19d3f3",
           "#FF6692",
           "#B6E880",
           "#FF97FF",
           "#FECB52"
          ],
          "font": {
           "color": "#2a3f5f"
          },
          "geo": {
           "bgcolor": "white",
           "lakecolor": "white",
           "landcolor": "#E5ECF6",
           "showlakes": true,
           "showland": true,
           "subunitcolor": "white"
          },
          "hoverlabel": {
           "align": "left"
          },
          "hovermode": "closest",
          "mapbox": {
           "style": "light"
          },
          "paper_bgcolor": "white",
          "plot_bgcolor": "#E5ECF6",
          "polar": {
           "angularaxis": {
            "gridcolor": "white",
            "linecolor": "white",
            "ticks": ""
           },
           "bgcolor": "#E5ECF6",
           "radialaxis": {
            "gridcolor": "white",
            "linecolor": "white",
            "ticks": ""
           }
          },
          "scene": {
           "xaxis": {
            "backgroundcolor": "#E5ECF6",
            "gridcolor": "white",
            "gridwidth": 2,
            "linecolor": "white",
            "showbackground": true,
            "ticks": "",
            "zerolinecolor": "white"
           },
           "yaxis": {
            "backgroundcolor": "#E5ECF6",
            "gridcolor": "white",
            "gridwidth": 2,
            "linecolor": "white",
            "showbackground": true,
            "ticks": "",
            "zerolinecolor": "white"
           },
           "zaxis": {
            "backgroundcolor": "#E5ECF6",
            "gridcolor": "white",
            "gridwidth": 2,
            "linecolor": "white",
            "showbackground": true,
            "ticks": "",
            "zerolinecolor": "white"
           }
          },
          "shapedefaults": {
           "line": {
            "color": "#2a3f5f"
           }
          },
          "ternary": {
           "aaxis": {
            "gridcolor": "white",
            "linecolor": "white",
            "ticks": ""
           },
           "baxis": {
            "gridcolor": "white",
            "linecolor": "white",
            "ticks": ""
           },
           "bgcolor": "#E5ECF6",
           "caxis": {
            "gridcolor": "white",
            "linecolor": "white",
            "ticks": ""
           }
          },
          "title": {
           "x": 0.05
          },
          "xaxis": {
           "automargin": true,
           "gridcolor": "white",
           "linecolor": "white",
           "ticks": "",
           "title": {
            "standoff": 15
           },
           "zerolinecolor": "white",
           "zerolinewidth": 2
          },
          "yaxis": {
           "automargin": true,
           "gridcolor": "white",
           "linecolor": "white",
           "ticks": "",
           "title": {
            "standoff": 15
           },
           "zerolinecolor": "white",
           "zerolinewidth": 2
          }
         }
        },
        "width": 2300
       }
      }
     },
     "metadata": {},
     "output_type": "display_data"
    }
   ],
   "source": [
    "fig = make_subplots(rows=2, cols=3, #subplot_titles=('Grandfathering (GF)',\n",
    "                                                    # 'Per Capita (PC)',\n",
    "                                                    # 'Per Capita Convergence (PCC)',\n",
    "                                                    # 'Equal Cumulative Per Capita',\n",
    "                                                    # 'Ability to pay (AP)',\n",
    "                                                    # 'Greenhouse Development Rights'), \n",
    "                                    specs=[[{'type': 'choropleth'}, {'type': 'choropleth'}, {'type': 'choropleth'}],\n",
    "                                           [{'type': 'choropleth'}, {'type': 'choropleth'}, {'type': 'choropleth'}]],\n",
    "                                    horizontal_spacing = 0,\n",
    "                                    vertical_spacing=0)\n",
    "\n",
    "colorbar_abs = dict(len=1, x=1, tickvals = [0, 1, 2, 3], ticktext = ['1', '10', '100', '1000'])\n",
    "colorbar_pc = dict(len=1, x=1)\n",
    "\n",
    "for var_i, var in enumerate(rules):\n",
    "    if var_i == 0:\n",
    "        cm= True\n",
    "    else:\n",
    "        cm= False\n",
    "    fig.add_trace(\n",
    "        go.Choropleth(\n",
    "        locations=group_eu,\n",
    "        z = data5[var],\n",
    "        locationmode = 'ISO-3',\n",
    "        colorscale = 'RdYlBu_r',\n",
    "        zmax = 1,\n",
    "        zmin = 0,\n",
    "        text = [str(r)+\": {:0.2f} Gt CO<sub>2</sub>e\".format(float(data5.sel(Region=r)[var])) for r_i, r in enumerate(group_eu)],\n",
    "        hovertemplate  = '%{text}',\n",
    "        name=\"\",\n",
    "        marker_line_color='grey', \n",
    "        marker_line_width=0.7,\n",
    "        colorbar=dict(len=1, x=1, tickvals = np.arange(0, 1, 0.1), ticktext = [str(int(i*100))+\"%\" for i in np.arange(0, 1, 0.1)], title={\"text\":\"Emission<br>reduction<br>in 2040<br>w.r.t. 2021\"}, tickfont={'size': 25}),\n",
    "        showscale=cm\n",
    "    ), [1, 1, 1, 2, 2, 2][var_i], [1, 2, 3, 1, 2, 3][var_i])\n",
    "# fig.update_geos(showocean=True, oceancolor=\"white\")\n",
    "# fig.update_geos(showlakes=True, lakecolor=\"white\")\n",
    "\n",
    "# limite map scope to USA 'africa', 'asia', 'europe', 'north america', 'south america', 'usa', 'world'\n",
    "fig.update_layout(\n",
    "    geo1 = dict(scope='europe', \n",
    "                showlakes=False,\n",
    "                lakecolor='rgb(255, 255, 255)',\n",
    "                showcoastlines=False,),\n",
    "    geo2 = dict(scope='europe', \n",
    "                showlakes=False,\n",
    "                lakecolor='rgb(255, 255, 255)',\n",
    "                showcoastlines=False,),\n",
    "    geo3 = dict(scope='europe', \n",
    "                showlakes=False,\n",
    "                lakecolor='rgb(255, 255, 255)',\n",
    "                showcoastlines=False,),\n",
    "    geo4 = dict(scope='europe', \n",
    "                showlakes=False,\n",
    "                lakecolor='rgb(255, 255, 255)',\n",
    "                showcoastlines=False,),\n",
    "    geo5 = dict(scope='europe', \n",
    "                showlakes=False,\n",
    "                lakecolor='rgb(255, 255, 255)',\n",
    "                showcoastlines=False,),\n",
    "    geo6 = dict(scope='europe', \n",
    "                showlakes=False,\n",
    "                showcoastlines=False,),\n",
    ")\n",
    "\n",
    "mn = np.min(np.array([float(data5[rules].min()[r]) for r in rules]))\n",
    "mx = np.max(np.array([float(data5[rules].max()[r]) for r in rules]))\n",
    "for var_i, var in enumerate(rules):\n",
    "    vals = np.array(data5[var]).astype(float)\n",
    "    vals_i = (vals + mn)**1.2\n",
    "    vals_n = 14*(vals - mn)/(mx - mn)+7\n",
    "    vals_boolean = np.copy(vals)\n",
    "    vals_boolean[vals >= 0] = 1\n",
    "    vals_boolean[vals < 0] = 0\n",
    "    vals_boolean = vals_boolean.astype(int)\n",
    "    vals[np.isnan(vals)] = np.nanmean(vals)\n",
    "    \n",
    "    fig.add_scattergeo(\n",
    "                locations = group_eu,\n",
    "                text = [str(np.int(vals[r_i]*100))+\"%\" for r_i in range(len(group_eu))],\n",
    "                featureidkey=\"properties.NAME_3\",\n",
    "                mode = 'text',\n",
    "                hoverinfo='skip',\n",
    "                showlegend=False,\n",
    "                textfont={'size': 20,\n",
    "                        'color': 'black'},\n",
    "                row=[1, 1, 1, 2, 2, 2][var_i],\n",
    "                col=[1, 2, 3, 1, 2, 3][var_i])\n",
    "\n",
    "fig.update_geos(visible=False,\n",
    "                showlakes=True,\n",
    "                lakecolor='rgb(255, 255, 255)',\n",
    "                projection_type='natural earth',\n",
    "                resolution=50,\n",
    "                lataxis_range=[30,75], lonaxis_range=[-20, 40],\n",
    "                showcoastlines=False,)\n",
    "\n",
    "#fig.update_traces(showscale=False)\n",
    "fig.update_layout(height=1200, width=2300)\n",
    "fig.update_geos(visible=True, showcountries=False)#fitbounds=\"locations\",\n",
    "fig.update_layout(margin={\"r\":0,\"t\":0,\"l\":0,\"b\":0})\n",
    "\n",
    "fig.add_annotation(xref='paper', yref='paper',ax=0, align='left', ay=-0, showarrow=False, font=dict(color='black', size=25),\n",
    "                   y=0.96, x=0.07, text=\"<b>(a) Grandfathering</b>\")\n",
    "fig.add_annotation(xref='paper', yref='paper',ax=0, align='left', ay=-0, showarrow=False, font=dict(color='black', size=25),\n",
    "                   y=0.96, x=0.47, text=\"<b>(b) Per Capita</b>\")\n",
    "fig.add_annotation(xref='paper', yref='paper',ax=0, align='left', ay=-0, showarrow=False, font=dict(color='black', size=25),\n",
    "                   y=0.96, x=0.90, text=\"<b>(c) Per Capita Convergence</b>\")\n",
    "fig.add_annotation(xref='paper', yref='paper',ax=0, align='left', ay=-0, showarrow=False, font=dict(color='black', size=25),\n",
    "                   y=0.45, x=0.07, text=\"<b>(d) Equal Cumulative per Capita</b>\")\n",
    "fig.add_annotation(xref='paper', yref='paper',ax=0, align='left', ay=-0, showarrow=False, font=dict(color='black', size=25),\n",
    "                   y=0.45, x=0.48, text=\"<b>(e) Ability to Pay</b>\")\n",
    "fig.add_annotation(xref='paper', yref='paper',ax=0, align='left', ay=-0, showarrow=False, font=dict(color='black', size=25),\n",
    "                   y=0.45, x=0.95, text=\"<b>(f) Greenhouse Development Rights</b>\")\n",
    "fig_europe = fig\n",
    "fig.show()"
   ]
  },
  {
   "cell_type": "code",
   "execution_count": 33,
   "metadata": {},
   "outputs": [],
   "source": [
    "fig.write_image(\"X:/user/dekkerm/Projects/ECEMF_T5.2/Figures/Presentations/Europe_2040perc.png\", scale=3)"
   ]
  },
  {
   "cell_type": "code",
   "execution_count": 34,
   "metadata": {},
   "outputs": [],
   "source": [
    "data5= xr_temps.sel(**standard_settings, Risk=0.5, Region=group_eu).mean(dim=['Conditionality', 'Hot_air', 'Ambition', 'Scenario'])"
   ]
  },
  {
   "cell_type": "code",
   "execution_count": 35,
   "metadata": {},
   "outputs": [
    {
     "data": {
      "application/vnd.plotly.v1+json": {
       "config": {
        "plotlyServerURL": "https://plotly.com"
       },
       "data": [
        {
         "colorbar": {
          "len": 1,
          "tickfont": {
           "size": 25
          },
          "ticktext": [
           "1.5&deg;C",
           "1.6&deg;C",
           "1.7&deg;C",
           "1.8&deg;C",
           "1.9&deg;C",
           "2.0&deg;C",
           "2.1&deg;C",
           "2.2&deg;C",
           "2.3&deg;C",
           "2.4&deg;C"
          ],
          "tickvals": [
           1.5,
           1.6,
           1.7000000000000002,
           1.8000000000000003,
           1.9000000000000004,
           2.0000000000000004,
           2.1000000000000005,
           2.2000000000000006,
           2.3000000000000007,
           2.400000000000001
          ],
          "title": {
           "text": "Temp-equiv<br>of NDC"
          },
          "x": 1
         },
         "colorscale": [
          [
           0,
           "rgb(0,104,55)"
          ],
          [
           0.1,
           "rgb(26,152,80)"
          ],
          [
           0.2,
           "rgb(102,189,99)"
          ],
          [
           0.3,
           "rgb(166,217,106)"
          ],
          [
           0.4,
           "rgb(217,239,139)"
          ],
          [
           0.5,
           "rgb(255,255,191)"
          ],
          [
           0.6,
           "rgb(254,224,139)"
          ],
          [
           0.7,
           "rgb(253,174,97)"
          ],
          [
           0.8,
           "rgb(244,109,67)"
          ],
          [
           0.9,
           "rgb(215,48,39)"
          ],
          [
           1,
           "rgb(165,0,38)"
          ]
         ],
         "geo": "geo",
         "hovertemplate": "%{text}",
         "locationmode": "ISO-3",
         "locations": [
          "AUT",
          "BEL",
          "BGR",
          "HRV",
          "CYP",
          "CZE",
          "DNK",
          "EST",
          "FIN",
          "FRA",
          "DEU",
          "GRC",
          "HUN",
          "IRL",
          "ITA",
          "LVA",
          "LTU",
          "LUX",
          "MLT",
          "NLD",
          "POL",
          "PRT",
          "ROU",
          "SVK",
          "SVN",
          "ESP",
          "SWE"
         ],
         "marker": {
          "line": {
           "color": "grey",
           "width": 0.7
          }
         },
         "name": "",
         "showscale": true,
         "text": [
          "AUT: 1.57 deg C",
          "BEL: 1.48 deg C",
          "BGR: 4.48 deg C",
          "HRV: 3.11 deg C",
          "CYP: 1.48 deg C",
          "CZE: 1.62 deg C",
          "DNK: 1.67 deg C",
          "EST: 1.40 deg C",
          "FIN: 1.54 deg C",
          "FRA: 1.84 deg C",
          "DEU: 1.50 deg C",
          "GRC: 1.97 deg C",
          "HUN: 1.64 deg C",
          "IRL: 1.60 deg C",
          "ITA: 1.71 deg C",
          "LVA: 3.97 deg C",
          "LTU: 1.55 deg C",
          "LUX: 1.70 deg C",
          "MLT: 1.46 deg C",
          "NLD: 1.46 deg C",
          "POL: 1.54 deg C",
          "PRT: 2.47 deg C",
          "ROU: 2.73 deg C",
          "SVK: 1.53 deg C",
          "SVN: 1.77 deg C",
          "ESP: 1.84 deg C",
          "SWE: 2.79 deg C"
         ],
         "type": "choropleth",
         "z": [
          1.5706581858345547,
          1.4836492870932199,
          4.476241104043247,
          3.1115975837878267,
          1.4834889005873528,
          1.6179515809926357,
          1.670586249577138,
          1.397823494674796,
          1.5400705338060552,
          1.8410851885425423,
          1.5042512108242618,
          1.9727763423851699,
          1.636273081202414,
          1.601957566802174,
          1.7115687097303118,
          3.965220415587538,
          1.553679299464114,
          1.7017921858380094,
          1.4574801113058473,
          1.4613895013749751,
          1.5437104929255037,
          2.4726640992992928,
          2.725355716350188,
          1.5257104311937315,
          1.7716917036109514,
          1.8366090801528088,
          2.7866834155587945
         ],
         "zmax": 2.5,
         "zmin": 1.5
        },
        {
         "colorbar": {
          "len": 1,
          "tickfont": {
           "size": 25
          },
          "ticktext": [
           "1.5&deg;C",
           "1.6&deg;C",
           "1.7&deg;C",
           "1.8&deg;C",
           "1.9&deg;C",
           "2.0&deg;C",
           "2.1&deg;C",
           "2.2&deg;C",
           "2.3&deg;C",
           "2.4&deg;C"
          ],
          "tickvals": [
           1.5,
           1.6,
           1.7000000000000002,
           1.8000000000000003,
           1.9000000000000004,
           2.0000000000000004,
           2.1000000000000005,
           2.2000000000000006,
           2.3000000000000007,
           2.400000000000001
          ],
          "title": {
           "text": "Temp-equiv<br>of NDC"
          },
          "x": 1
         },
         "colorscale": [
          [
           0,
           "rgb(0,104,55)"
          ],
          [
           0.1,
           "rgb(26,152,80)"
          ],
          [
           0.2,
           "rgb(102,189,99)"
          ],
          [
           0.3,
           "rgb(166,217,106)"
          ],
          [
           0.4,
           "rgb(217,239,139)"
          ],
          [
           0.5,
           "rgb(255,255,191)"
          ],
          [
           0.6,
           "rgb(254,224,139)"
          ],
          [
           0.7,
           "rgb(253,174,97)"
          ],
          [
           0.8,
           "rgb(244,109,67)"
          ],
          [
           0.9,
           "rgb(215,48,39)"
          ],
          [
           1,
           "rgb(165,0,38)"
          ]
         ],
         "geo": "geo2",
         "hovertemplate": "%{text}",
         "locationmode": "ISO-3",
         "locations": [
          "AUT",
          "BEL",
          "BGR",
          "HRV",
          "CYP",
          "CZE",
          "DNK",
          "EST",
          "FIN",
          "FRA",
          "DEU",
          "GRC",
          "HUN",
          "IRL",
          "ITA",
          "LVA",
          "LTU",
          "LUX",
          "MLT",
          "NLD",
          "POL",
          "PRT",
          "ROU",
          "SVK",
          "SVN",
          "ESP",
          "SWE"
         ],
         "marker": {
          "line": {
           "color": "grey",
           "width": 0.7
          }
         },
         "name": "",
         "showscale": false,
         "text": [
          "AUT: 1.79 deg C",
          "BEL: 2.20 deg C",
          "BGR: 1.61 deg C",
          "HRV: 1.66 deg C",
          "CYP: 1.45 deg C",
          "CZE: 2.77 deg C",
          "DNK: 1.82 deg C",
          "EST: 3.11 deg C",
          "FIN: 3.82 deg C",
          "FRA: 1.52 deg C",
          "DEU: 1.74 deg C",
          "GRC: 1.95 deg C",
          "HUN: 1.75 deg C",
          "IRL: 3.86 deg C",
          "ITA: 1.59 deg C",
          "LVA: 1.71 deg C",
          "LTU: 1.81 deg C",
          "LUX: 4.48 deg C",
          "MLT: 1.43 deg C",
          "NLD: 2.28 deg C",
          "POL: 2.24 deg C",
          "PRT: 1.63 deg C",
          "ROU: 1.55 deg C",
          "SVK: 1.62 deg C",
          "SVN: 2.31 deg C",
          "ESP: 1.61 deg C",
          "SWE: 1.56 deg C"
         ],
         "type": "choropleth",
         "z": [
          1.7937833649508632,
          2.2022209121015055,
          1.6114407066744811,
          1.6570047995857855,
          1.4488497468653248,
          2.76955741686284,
          1.8202466634953056,
          3.112647608886621,
          3.816223655431993,
          1.5199953561929225,
          1.7375300859378024,
          1.9496063468637645,
          1.7522176247835939,
          3.8637728505000988,
          1.5891309610043762,
          1.7073587819087321,
          1.8112676967265755,
          4.476241104043248,
          1.4269593136083334,
          2.277832127604903,
          2.238394279988081,
          1.6322196339876347,
          1.5469838621643648,
          1.615260818884398,
          2.3138857721478177,
          1.6117357232174834,
          1.5571377454716329
         ],
         "zmax": 2.5,
         "zmin": 1.5
        },
        {
         "colorbar": {
          "len": 1,
          "tickfont": {
           "size": 25
          },
          "ticktext": [
           "1.5&deg;C",
           "1.6&deg;C",
           "1.7&deg;C",
           "1.8&deg;C",
           "1.9&deg;C",
           "2.0&deg;C",
           "2.1&deg;C",
           "2.2&deg;C",
           "2.3&deg;C",
           "2.4&deg;C"
          ],
          "tickvals": [
           1.5,
           1.6,
           1.7000000000000002,
           1.8000000000000003,
           1.9000000000000004,
           2.0000000000000004,
           2.1000000000000005,
           2.2000000000000006,
           2.3000000000000007,
           2.400000000000001
          ],
          "title": {
           "text": "Temp-equiv<br>of NDC"
          },
          "x": 1
         },
         "colorscale": [
          [
           0,
           "rgb(0,104,55)"
          ],
          [
           0.1,
           "rgb(26,152,80)"
          ],
          [
           0.2,
           "rgb(102,189,99)"
          ],
          [
           0.3,
           "rgb(166,217,106)"
          ],
          [
           0.4,
           "rgb(217,239,139)"
          ],
          [
           0.5,
           "rgb(255,255,191)"
          ],
          [
           0.6,
           "rgb(254,224,139)"
          ],
          [
           0.7,
           "rgb(253,174,97)"
          ],
          [
           0.8,
           "rgb(244,109,67)"
          ],
          [
           0.9,
           "rgb(215,48,39)"
          ],
          [
           1,
           "rgb(165,0,38)"
          ]
         ],
         "geo": "geo3",
         "hovertemplate": "%{text}",
         "locationmode": "ISO-3",
         "locations": [
          "AUT",
          "BEL",
          "BGR",
          "HRV",
          "CYP",
          "CZE",
          "DNK",
          "EST",
          "FIN",
          "FRA",
          "DEU",
          "GRC",
          "HUN",
          "IRL",
          "ITA",
          "LVA",
          "LTU",
          "LUX",
          "MLT",
          "NLD",
          "POL",
          "PRT",
          "ROU",
          "SVK",
          "SVN",
          "ESP",
          "SWE"
         ],
         "marker": {
          "line": {
           "color": "grey",
           "width": 0.7
          }
         },
         "name": "",
         "showscale": false,
         "text": [
          "AUT: 1.61 deg C",
          "BEL: 1.54 deg C",
          "BGR: 3.08 deg C",
          "HRV: 2.32 deg C",
          "CYP: 1.47 deg C",
          "CZE: 1.76 deg C",
          "DNK: 1.71 deg C",
          "EST: 1.46 deg C",
          "FIN: 1.69 deg C",
          "FRA: 1.67 deg C",
          "DEU: 1.54 deg C",
          "GRC: 1.96 deg C",
          "HUN: 1.67 deg C",
          "IRL: 1.80 deg C",
          "ITA: 1.66 deg C",
          "LVA: 2.75 deg C",
          "LTU: 1.60 deg C",
          "LUX: 2.20 deg C",
          "MLT: 1.45 deg C",
          "NLD: 1.51 deg C",
          "POL: 1.62 deg C",
          "PRT: 2.04 deg C",
          "ROU: 2.00 deg C",
          "SVK: 1.55 deg C",
          "SVN: 1.88 deg C",
          "ESP: 1.74 deg C",
          "SWE: 2.04 deg C"
         ],
         "type": "choropleth",
         "z": [
          1.6144873829999016,
          1.5376498263733978,
          3.082293621864283,
          2.319471841201162,
          1.4715246044692336,
          1.759620639323181,
          1.7076648132178904,
          1.4573715062461408,
          1.6850529543164776,
          1.671808564857309,
          1.5398807129694478,
          1.9647202464455324,
          1.6654477656469884,
          1.8019929494487528,
          1.6634199190398526,
          2.750019090983104,
          1.6000657841883636,
          2.2013671006470266,
          1.4476722574354028,
          1.510207243205891,
          1.6234391384039728,
          2.0381085871595483,
          2.000698127357422,
          1.5459438701734072,
          1.884315538418476,
          1.7416621061606363,
          2.037522221599873
         ],
         "zmax": 2.5,
         "zmin": 1.5
        },
        {
         "colorbar": {
          "len": 1,
          "tickfont": {
           "size": 25
          },
          "ticktext": [
           "1.5&deg;C",
           "1.6&deg;C",
           "1.7&deg;C",
           "1.8&deg;C",
           "1.9&deg;C",
           "2.0&deg;C",
           "2.1&deg;C",
           "2.2&deg;C",
           "2.3&deg;C",
           "2.4&deg;C"
          ],
          "tickvals": [
           1.5,
           1.6,
           1.7000000000000002,
           1.8000000000000003,
           1.9000000000000004,
           2.0000000000000004,
           2.1000000000000005,
           2.2000000000000006,
           2.3000000000000007,
           2.400000000000001
          ],
          "title": {
           "text": "Temp-equiv<br>of NDC"
          },
          "x": 1
         },
         "colorscale": [
          [
           0,
           "rgb(0,104,55)"
          ],
          [
           0.1,
           "rgb(26,152,80)"
          ],
          [
           0.2,
           "rgb(102,189,99)"
          ],
          [
           0.3,
           "rgb(166,217,106)"
          ],
          [
           0.4,
           "rgb(217,239,139)"
          ],
          [
           0.5,
           "rgb(255,255,191)"
          ],
          [
           0.6,
           "rgb(254,224,139)"
          ],
          [
           0.7,
           "rgb(253,174,97)"
          ],
          [
           0.8,
           "rgb(244,109,67)"
          ],
          [
           0.9,
           "rgb(215,48,39)"
          ],
          [
           1,
           "rgb(165,0,38)"
          ]
         ],
         "geo": "geo4",
         "hovertemplate": "%{text}",
         "locationmode": "ISO-3",
         "locations": [
          "AUT",
          "BEL",
          "BGR",
          "HRV",
          "CYP",
          "CZE",
          "DNK",
          "EST",
          "FIN",
          "FRA",
          "DEU",
          "GRC",
          "HUN",
          "IRL",
          "ITA",
          "LVA",
          "LTU",
          "LUX",
          "MLT",
          "NLD",
          "POL",
          "PRT",
          "ROU",
          "SVK",
          "SVN",
          "ESP",
          "SWE"
         ],
         "marker": {
          "line": {
           "color": "grey",
           "width": 0.7
          }
         },
         "name": "",
         "showscale": false,
         "text": [
          "AUT: 2.06 deg C",
          "BEL: 1.74 deg C",
          "BGR: 4.48 deg C",
          "HRV: 4.48 deg C",
          "CYP: 1.58 deg C",
          "CZE: 2.63 deg C",
          "DNK: 2.90 deg C",
          "EST: 1.50 deg C",
          "FIN: 1.94 deg C",
          "FRA: 2.69 deg C",
          "DEU: 1.95 deg C",
          "GRC: 3.74 deg C",
          "HUN: 2.35 deg C",
          "IRL: 2.38 deg C",
          "ITA: 2.62 deg C",
          "LVA: 4.24 deg C",
          "LTU: 2.01 deg C",
          "LUX: 3.05 deg C",
          "MLT: 1.54 deg C",
          "NLD: 1.67 deg C",
          "POL: 2.07 deg C",
          "PRT: 4.01 deg C",
          "ROU: 3.90 deg C",
          "SVK: 1.81 deg C",
          "SVN: 2.46 deg C",
          "ESP: 2.76 deg C",
          "SWE: 4.04 deg C"
         ],
         "type": "choropleth",
         "z": [
          2.0627394888204726,
          1.736857018122873,
          4.476241104043248,
          4.476241104043248,
          1.5784935660576385,
          2.6290987574845786,
          2.9016722576547616,
          1.5019408238498584,
          1.9350387602105728,
          2.6933941302653164,
          1.9455308088348109,
          3.742856477512331,
          2.349157169261758,
          2.3829956034861555,
          2.6234629392413904,
          4.235261806500578,
          2.0139698948807574,
          3.05302717675444,
          1.537330323022921,
          1.6737467074158188,
          2.065730818337302,
          4.012827489780849,
          3.8970933457432433,
          1.810683852452356,
          2.457985573348505,
          2.7646794356130915,
          4.0350543445110105
         ],
         "zmax": 2.5,
         "zmin": 1.5
        },
        {
         "colorbar": {
          "len": 1,
          "tickfont": {
           "size": 25
          },
          "ticktext": [
           "1.5&deg;C",
           "1.6&deg;C",
           "1.7&deg;C",
           "1.8&deg;C",
           "1.9&deg;C",
           "2.0&deg;C",
           "2.1&deg;C",
           "2.2&deg;C",
           "2.3&deg;C",
           "2.4&deg;C"
          ],
          "tickvals": [
           1.5,
           1.6,
           1.7000000000000002,
           1.8000000000000003,
           1.9000000000000004,
           2.0000000000000004,
           2.1000000000000005,
           2.2000000000000006,
           2.3000000000000007,
           2.400000000000001
          ],
          "title": {
           "text": "Temp-equiv<br>of NDC"
          },
          "x": 1
         },
         "colorscale": [
          [
           0,
           "rgb(0,104,55)"
          ],
          [
           0.1,
           "rgb(26,152,80)"
          ],
          [
           0.2,
           "rgb(102,189,99)"
          ],
          [
           0.3,
           "rgb(166,217,106)"
          ],
          [
           0.4,
           "rgb(217,239,139)"
          ],
          [
           0.5,
           "rgb(255,255,191)"
          ],
          [
           0.6,
           "rgb(254,224,139)"
          ],
          [
           0.7,
           "rgb(253,174,97)"
          ],
          [
           0.8,
           "rgb(244,109,67)"
          ],
          [
           0.9,
           "rgb(215,48,39)"
          ],
          [
           1,
           "rgb(165,0,38)"
          ]
         ],
         "geo": "geo5",
         "hovertemplate": "%{text}",
         "locationmode": "ISO-3",
         "locations": [
          "AUT",
          "BEL",
          "BGR",
          "HRV",
          "CYP",
          "CZE",
          "DNK",
          "EST",
          "FIN",
          "FRA",
          "DEU",
          "GRC",
          "HUN",
          "IRL",
          "ITA",
          "LVA",
          "LTU",
          "LUX",
          "MLT",
          "NLD",
          "POL",
          "PRT",
          "ROU",
          "SVK",
          "SVN",
          "ESP",
          "SWE"
         ],
         "marker": {
          "line": {
           "color": "grey",
           "width": 0.7
          }
         },
         "name": "",
         "showscale": false,
         "text": [
          "AUT: 2.16 deg C",
          "BEL: 1.67 deg C",
          "BGR: 4.48 deg C",
          "HRV: 3.91 deg C",
          "CYP: 1.60 deg C",
          "CZE: 2.26 deg C",
          "DNK: 2.42 deg C",
          "EST: 1.46 deg C",
          "FIN: 1.94 deg C",
          "FRA: 2.83 deg C",
          "DEU: 1.87 deg C",
          "GRC: 3.11 deg C",
          "HUN: 1.79 deg C",
          "IRL: 2.22 deg C",
          "ITA: 2.27 deg C",
          "LVA: 4.46 deg C",
          "LTU: 1.68 deg C",
          "LUX: 3.83 deg C",
          "MLT: 1.66 deg C",
          "NLD: 1.62 deg C",
          "POL: 1.78 deg C",
          "PRT: 3.79 deg C",
          "ROU: 3.25 deg C",
          "SVK: nan deg C",
          "SVN: 2.62 deg C",
          "ESP: 2.67 deg C",
          "SWE: 4.48 deg C"
         ],
         "type": "choropleth",
         "z": [
          2.1619669602791927,
          1.669129810394786,
          4.476241104043248,
          3.910325005875519,
          1.5972679530899514,
          2.2603773328315224,
          2.4217645999634354,
          1.460031833624381,
          1.9369901078028282,
          2.8270659430893192,
          1.8662683901821695,
          3.114541104791304,
          1.7947094066996387,
          2.224635741768292,
          2.2739548937317706,
          4.46172965749282,
          1.684606026305412,
          3.827261574185638,
          1.6596414555598418,
          1.6185196786526914,
          1.7827126333329657,
          3.7903229842130743,
          3.2511249678491834,
          null,
          2.616083303188158,
          2.6672440192184514,
          4.476241104043248
         ],
         "zmax": 2.5,
         "zmin": 1.5
        },
        {
         "colorbar": {
          "len": 1,
          "tickfont": {
           "size": 25
          },
          "ticktext": [
           "1.5&deg;C",
           "1.6&deg;C",
           "1.7&deg;C",
           "1.8&deg;C",
           "1.9&deg;C",
           "2.0&deg;C",
           "2.1&deg;C",
           "2.2&deg;C",
           "2.3&deg;C",
           "2.4&deg;C"
          ],
          "tickvals": [
           1.5,
           1.6,
           1.7000000000000002,
           1.8000000000000003,
           1.9000000000000004,
           2.0000000000000004,
           2.1000000000000005,
           2.2000000000000006,
           2.3000000000000007,
           2.400000000000001
          ],
          "title": {
           "text": "Temp-equiv<br>of NDC"
          },
          "x": 1
         },
         "colorscale": [
          [
           0,
           "rgb(0,104,55)"
          ],
          [
           0.1,
           "rgb(26,152,80)"
          ],
          [
           0.2,
           "rgb(102,189,99)"
          ],
          [
           0.3,
           "rgb(166,217,106)"
          ],
          [
           0.4,
           "rgb(217,239,139)"
          ],
          [
           0.5,
           "rgb(255,255,191)"
          ],
          [
           0.6,
           "rgb(254,224,139)"
          ],
          [
           0.7,
           "rgb(253,174,97)"
          ],
          [
           0.8,
           "rgb(244,109,67)"
          ],
          [
           0.9,
           "rgb(215,48,39)"
          ],
          [
           1,
           "rgb(165,0,38)"
          ]
         ],
         "geo": "geo6",
         "hovertemplate": "%{text}",
         "locationmode": "ISO-3",
         "locations": [
          "AUT",
          "BEL",
          "BGR",
          "HRV",
          "CYP",
          "CZE",
          "DNK",
          "EST",
          "FIN",
          "FRA",
          "DEU",
          "GRC",
          "HUN",
          "IRL",
          "ITA",
          "LVA",
          "LTU",
          "LUX",
          "MLT",
          "NLD",
          "POL",
          "PRT",
          "ROU",
          "SVK",
          "SVN",
          "ESP",
          "SWE"
         ],
         "marker": {
          "line": {
           "color": "grey",
           "width": 0.7
          }
         },
         "name": "",
         "showscale": false,
         "text": [
          "AUT: 4.48 deg C",
          "BEL: 4.48 deg C",
          "BGR: 4.48 deg C",
          "HRV: 4.48 deg C",
          "CYP: 4.40 deg C",
          "CZE: 4.48 deg C",
          "DNK: 4.48 deg C",
          "EST: 1.53 deg C",
          "FIN: 4.48 deg C",
          "FRA: 4.48 deg C",
          "DEU: 4.48 deg C",
          "GRC: 4.48 deg C",
          "HUN: 3.33 deg C",
          "IRL: 4.48 deg C",
          "ITA: 4.48 deg C",
          "LVA: 4.48 deg C",
          "LTU: 2.95 deg C",
          "LUX: 4.48 deg C",
          "MLT: 4.48 deg C",
          "NLD: 4.48 deg C",
          "POL: 2.50 deg C",
          "PRT: 4.48 deg C",
          "ROU: 4.48 deg C",
          "SVK: nan deg C",
          "SVN: 4.48 deg C",
          "ESP: 4.48 deg C",
          "SWE: 4.48 deg C"
         ],
         "type": "choropleth",
         "z": [
          4.476241104043248,
          4.476241104043248,
          4.476241104043248,
          4.476241104043248,
          4.3955563424592405,
          4.476241104043248,
          4.476241104043248,
          1.5277210968878137,
          4.476241104043248,
          4.476241104043248,
          4.476241104043248,
          4.476241104043248,
          3.331547928598941,
          4.476241104043248,
          4.476241104043248,
          4.476241104043248,
          2.9536951618064125,
          4.476241104043248,
          4.476241104043248,
          4.476241104043248,
          2.499941448011265,
          4.476241104043248,
          4.476241104043248,
          null,
          4.476241104043248,
          4.476241104043248,
          4.476241104043248
         ],
         "zmax": 2.5,
         "zmin": 1.5
        },
        {
         "featureidkey": "properties.NAME_3",
         "geo": "geo",
         "hoverinfo": "skip",
         "locations": [
          "AUT",
          "BEL",
          "BGR",
          "HRV",
          "CYP",
          "CZE",
          "DNK",
          "EST",
          "FIN",
          "FRA",
          "DEU",
          "GRC",
          "HUN",
          "IRL",
          "ITA",
          "LVA",
          "LTU",
          "LUX",
          "MLT",
          "NLD",
          "POL",
          "PRT",
          "ROU",
          "SVK",
          "SVN",
          "ESP",
          "SWE"
         ],
         "mode": "text",
         "showlegend": false,
         "text": [
          "1.6",
          "1.5",
          "4.5",
          "3.1",
          "1.5",
          "1.6",
          "1.7",
          "1.4",
          "1.5",
          "1.8",
          "1.5",
          "2.0",
          "1.6",
          "1.6",
          "1.7",
          "4.0",
          "1.6",
          "1.7",
          "1.5",
          "1.5",
          "1.5",
          "2.5",
          "2.7",
          "1.5",
          "1.8",
          "1.8",
          "2.8"
         ],
         "textfont": {
          "color": "black",
          "size": 20
         },
         "type": "scattergeo"
        },
        {
         "featureidkey": "properties.NAME_3",
         "geo": "geo2",
         "hoverinfo": "skip",
         "locations": [
          "AUT",
          "BEL",
          "BGR",
          "HRV",
          "CYP",
          "CZE",
          "DNK",
          "EST",
          "FIN",
          "FRA",
          "DEU",
          "GRC",
          "HUN",
          "IRL",
          "ITA",
          "LVA",
          "LTU",
          "LUX",
          "MLT",
          "NLD",
          "POL",
          "PRT",
          "ROU",
          "SVK",
          "SVN",
          "ESP",
          "SWE"
         ],
         "mode": "text",
         "showlegend": false,
         "text": [
          "1.8",
          "2.2",
          "1.6",
          "1.7",
          "1.4",
          "2.8",
          "1.8",
          "3.1",
          "3.8",
          "1.5",
          "1.7",
          "1.9",
          "1.8",
          "3.9",
          "1.6",
          "1.7",
          "1.8",
          "4.5",
          "1.4",
          "2.3",
          "2.2",
          "1.6",
          "1.5",
          "1.6",
          "2.3",
          "1.6",
          "1.6"
         ],
         "textfont": {
          "color": "black",
          "size": 20
         },
         "type": "scattergeo"
        },
        {
         "featureidkey": "properties.NAME_3",
         "geo": "geo3",
         "hoverinfo": "skip",
         "locations": [
          "AUT",
          "BEL",
          "BGR",
          "HRV",
          "CYP",
          "CZE",
          "DNK",
          "EST",
          "FIN",
          "FRA",
          "DEU",
          "GRC",
          "HUN",
          "IRL",
          "ITA",
          "LVA",
          "LTU",
          "LUX",
          "MLT",
          "NLD",
          "POL",
          "PRT",
          "ROU",
          "SVK",
          "SVN",
          "ESP",
          "SWE"
         ],
         "mode": "text",
         "showlegend": false,
         "text": [
          "1.6",
          "1.5",
          "3.1",
          "2.3",
          "1.5",
          "1.8",
          "1.7",
          "1.5",
          "1.7",
          "1.7",
          "1.5",
          "2.0",
          "1.7",
          "1.8",
          "1.7",
          "2.8",
          "1.6",
          "2.2",
          "1.4",
          "1.5",
          "1.6",
          "2.0",
          "2.0",
          "1.5",
          "1.9",
          "1.7",
          "2.0"
         ],
         "textfont": {
          "color": "black",
          "size": 20
         },
         "type": "scattergeo"
        },
        {
         "featureidkey": "properties.NAME_3",
         "geo": "geo4",
         "hoverinfo": "skip",
         "locations": [
          "AUT",
          "BEL",
          "BGR",
          "HRV",
          "CYP",
          "CZE",
          "DNK",
          "EST",
          "FIN",
          "FRA",
          "DEU",
          "GRC",
          "HUN",
          "IRL",
          "ITA",
          "LVA",
          "LTU",
          "LUX",
          "MLT",
          "NLD",
          "POL",
          "PRT",
          "ROU",
          "SVK",
          "SVN",
          "ESP",
          "SWE"
         ],
         "mode": "text",
         "showlegend": false,
         "text": [
          "2.1",
          "1.7",
          "4.5",
          "4.5",
          "1.6",
          "2.6",
          "2.9",
          "1.5",
          "1.9",
          "2.7",
          "1.9",
          "3.7",
          "2.3",
          "2.4",
          "2.6",
          "4.2",
          "2.0",
          "3.1",
          "1.5",
          "1.7",
          "2.1",
          "4.0",
          "3.9",
          "1.8",
          "2.5",
          "2.8",
          "4.0"
         ],
         "textfont": {
          "color": "black",
          "size": 20
         },
         "type": "scattergeo"
        },
        {
         "featureidkey": "properties.NAME_3",
         "geo": "geo5",
         "hoverinfo": "skip",
         "locations": [
          "AUT",
          "BEL",
          "BGR",
          "HRV",
          "CYP",
          "CZE",
          "DNK",
          "EST",
          "FIN",
          "FRA",
          "DEU",
          "GRC",
          "HUN",
          "IRL",
          "ITA",
          "LVA",
          "LTU",
          "LUX",
          "MLT",
          "NLD",
          "POL",
          "PRT",
          "ROU",
          "SVK",
          "SVN",
          "ESP",
          "SWE"
         ],
         "mode": "text",
         "showlegend": false,
         "text": [
          "2.2",
          "1.7",
          "4.5",
          "3.9",
          "1.6",
          "2.3",
          "2.4",
          "1.5",
          "1.9",
          "2.8",
          "1.9",
          "3.1",
          "1.8",
          "2.2",
          "2.3",
          "4.5",
          "1.7",
          "3.8",
          "1.7",
          "1.6",
          "1.8",
          "3.8",
          "3.3",
          "nan",
          "2.6",
          "2.7",
          "4.5"
         ],
         "textfont": {
          "color": "black",
          "size": 20
         },
         "type": "scattergeo"
        },
        {
         "featureidkey": "properties.NAME_3",
         "geo": "geo6",
         "hoverinfo": "skip",
         "locations": [
          "AUT",
          "BEL",
          "BGR",
          "HRV",
          "CYP",
          "CZE",
          "DNK",
          "EST",
          "FIN",
          "FRA",
          "DEU",
          "GRC",
          "HUN",
          "IRL",
          "ITA",
          "LVA",
          "LTU",
          "LUX",
          "MLT",
          "NLD",
          "POL",
          "PRT",
          "ROU",
          "SVK",
          "SVN",
          "ESP",
          "SWE"
         ],
         "mode": "text",
         "showlegend": false,
         "text": [
          "4.5",
          "4.5",
          "4.5",
          "4.5",
          "4.4",
          "4.5",
          "4.5",
          "1.5",
          "4.5",
          "4.5",
          "4.5",
          "4.5",
          "3.3",
          "4.5",
          "4.5",
          "4.5",
          "3.0",
          "4.5",
          "4.5",
          "4.5",
          "2.5",
          "4.5",
          "4.5",
          "nan",
          "4.5",
          "4.5",
          "4.5"
         ],
         "textfont": {
          "color": "black",
          "size": 20
         },
         "type": "scattergeo"
        }
       ],
       "layout": {
        "annotations": [
         {
          "align": "left",
          "ax": 0,
          "ay": 0,
          "font": {
           "color": "black",
           "size": 25
          },
          "showarrow": false,
          "text": "<b>(a) Grandfathering</b>",
          "x": 0.07,
          "xref": "paper",
          "y": 0.96,
          "yref": "paper"
         },
         {
          "align": "left",
          "ax": 0,
          "ay": 0,
          "font": {
           "color": "black",
           "size": 25
          },
          "showarrow": false,
          "text": "<b>(b) Per Capita</b>",
          "x": 0.47,
          "xref": "paper",
          "y": 0.96,
          "yref": "paper"
         },
         {
          "align": "left",
          "ax": 0,
          "ay": 0,
          "font": {
           "color": "black",
           "size": 25
          },
          "showarrow": false,
          "text": "<b>(c) Per Capita Convergence</b>",
          "x": 0.9,
          "xref": "paper",
          "y": 0.96,
          "yref": "paper"
         },
         {
          "align": "left",
          "ax": 0,
          "ay": 0,
          "font": {
           "color": "black",
           "size": 25
          },
          "showarrow": false,
          "text": "<b>(d) Equal Cumulative per Capita</b>",
          "x": 0.07,
          "xref": "paper",
          "y": 0.45,
          "yref": "paper"
         },
         {
          "align": "left",
          "ax": 0,
          "ay": 0,
          "font": {
           "color": "black",
           "size": 25
          },
          "showarrow": false,
          "text": "<b>(e) Ability to Pay</b>",
          "x": 0.48,
          "xref": "paper",
          "y": 0.45,
          "yref": "paper"
         },
         {
          "align": "left",
          "ax": 0,
          "ay": 0,
          "font": {
           "color": "black",
           "size": 25
          },
          "showarrow": false,
          "text": "<b>(f) Greenhouse Development Rights</b>",
          "x": 0.95,
          "xref": "paper",
          "y": 0.45,
          "yref": "paper"
         }
        ],
        "geo": {
         "domain": {
          "x": [
           0,
           0.3333333333333333
          ],
          "y": [
           0.5,
           1
          ]
         },
         "lakecolor": "rgb(255, 255, 255)",
         "lataxis": {
          "range": [
           30,
           75
          ]
         },
         "lonaxis": {
          "range": [
           -20,
           40
          ]
         },
         "projection": {
          "type": "natural earth"
         },
         "resolution": 50,
         "scope": "europe",
         "showcoastlines": false,
         "showcountries": false,
         "showlakes": true,
         "visible": true
        },
        "geo2": {
         "domain": {
          "x": [
           0.3333333333333333,
           0.6666666666666666
          ],
          "y": [
           0.5,
           1
          ]
         },
         "lakecolor": "rgb(255, 255, 255)",
         "lataxis": {
          "range": [
           30,
           75
          ]
         },
         "lonaxis": {
          "range": [
           -20,
           40
          ]
         },
         "projection": {
          "type": "natural earth"
         },
         "resolution": 50,
         "scope": "europe",
         "showcoastlines": false,
         "showcountries": false,
         "showlakes": true,
         "visible": true
        },
        "geo3": {
         "domain": {
          "x": [
           0.6666666666666666,
           1
          ],
          "y": [
           0.5,
           1
          ]
         },
         "lakecolor": "rgb(255, 255, 255)",
         "lataxis": {
          "range": [
           30,
           75
          ]
         },
         "lonaxis": {
          "range": [
           -20,
           40
          ]
         },
         "projection": {
          "type": "natural earth"
         },
         "resolution": 50,
         "scope": "europe",
         "showcoastlines": false,
         "showcountries": false,
         "showlakes": true,
         "visible": true
        },
        "geo4": {
         "domain": {
          "x": [
           0,
           0.3333333333333333
          ],
          "y": [
           0,
           0.5
          ]
         },
         "lakecolor": "rgb(255, 255, 255)",
         "lataxis": {
          "range": [
           30,
           75
          ]
         },
         "lonaxis": {
          "range": [
           -20,
           40
          ]
         },
         "projection": {
          "type": "natural earth"
         },
         "resolution": 50,
         "scope": "europe",
         "showcoastlines": false,
         "showcountries": false,
         "showlakes": true,
         "visible": true
        },
        "geo5": {
         "domain": {
          "x": [
           0.3333333333333333,
           0.6666666666666666
          ],
          "y": [
           0,
           0.5
          ]
         },
         "lakecolor": "rgb(255, 255, 255)",
         "lataxis": {
          "range": [
           30,
           75
          ]
         },
         "lonaxis": {
          "range": [
           -20,
           40
          ]
         },
         "projection": {
          "type": "natural earth"
         },
         "resolution": 50,
         "scope": "europe",
         "showcoastlines": false,
         "showcountries": false,
         "showlakes": true,
         "visible": true
        },
        "geo6": {
         "domain": {
          "x": [
           0.6666666666666666,
           1
          ],
          "y": [
           0,
           0.5
          ]
         },
         "lakecolor": "rgb(255, 255, 255)",
         "lataxis": {
          "range": [
           30,
           75
          ]
         },
         "lonaxis": {
          "range": [
           -20,
           40
          ]
         },
         "projection": {
          "type": "natural earth"
         },
         "resolution": 50,
         "scope": "europe",
         "showcoastlines": false,
         "showcountries": false,
         "showlakes": true,
         "visible": true
        },
        "height": 1200,
        "margin": {
         "b": 0,
         "l": 0,
         "r": 0,
         "t": 0
        },
        "template": {
         "data": {
          "bar": [
           {
            "error_x": {
             "color": "#2a3f5f"
            },
            "error_y": {
             "color": "#2a3f5f"
            },
            "marker": {
             "line": {
              "color": "#E5ECF6",
              "width": 0.5
             },
             "pattern": {
              "fillmode": "overlay",
              "size": 10,
              "solidity": 0.2
             }
            },
            "type": "bar"
           }
          ],
          "barpolar": [
           {
            "marker": {
             "line": {
              "color": "#E5ECF6",
              "width": 0.5
             },
             "pattern": {
              "fillmode": "overlay",
              "size": 10,
              "solidity": 0.2
             }
            },
            "type": "barpolar"
           }
          ],
          "carpet": [
           {
            "aaxis": {
             "endlinecolor": "#2a3f5f",
             "gridcolor": "white",
             "linecolor": "white",
             "minorgridcolor": "white",
             "startlinecolor": "#2a3f5f"
            },
            "baxis": {
             "endlinecolor": "#2a3f5f",
             "gridcolor": "white",
             "linecolor": "white",
             "minorgridcolor": "white",
             "startlinecolor": "#2a3f5f"
            },
            "type": "carpet"
           }
          ],
          "choropleth": [
           {
            "colorbar": {
             "outlinewidth": 0,
             "ticks": ""
            },
            "type": "choropleth"
           }
          ],
          "contour": [
           {
            "colorbar": {
             "outlinewidth": 0,
             "ticks": ""
            },
            "colorscale": [
             [
              0,
              "#0d0887"
             ],
             [
              0.1111111111111111,
              "#46039f"
             ],
             [
              0.2222222222222222,
              "#7201a8"
             ],
             [
              0.3333333333333333,
              "#9c179e"
             ],
             [
              0.4444444444444444,
              "#bd3786"
             ],
             [
              0.5555555555555556,
              "#d8576b"
             ],
             [
              0.6666666666666666,
              "#ed7953"
             ],
             [
              0.7777777777777778,
              "#fb9f3a"
             ],
             [
              0.8888888888888888,
              "#fdca26"
             ],
             [
              1,
              "#f0f921"
             ]
            ],
            "type": "contour"
           }
          ],
          "contourcarpet": [
           {
            "colorbar": {
             "outlinewidth": 0,
             "ticks": ""
            },
            "type": "contourcarpet"
           }
          ],
          "heatmap": [
           {
            "colorbar": {
             "outlinewidth": 0,
             "ticks": ""
            },
            "colorscale": [
             [
              0,
              "#0d0887"
             ],
             [
              0.1111111111111111,
              "#46039f"
             ],
             [
              0.2222222222222222,
              "#7201a8"
             ],
             [
              0.3333333333333333,
              "#9c179e"
             ],
             [
              0.4444444444444444,
              "#bd3786"
             ],
             [
              0.5555555555555556,
              "#d8576b"
             ],
             [
              0.6666666666666666,
              "#ed7953"
             ],
             [
              0.7777777777777778,
              "#fb9f3a"
             ],
             [
              0.8888888888888888,
              "#fdca26"
             ],
             [
              1,
              "#f0f921"
             ]
            ],
            "type": "heatmap"
           }
          ],
          "heatmapgl": [
           {
            "colorbar": {
             "outlinewidth": 0,
             "ticks": ""
            },
            "colorscale": [
             [
              0,
              "#0d0887"
             ],
             [
              0.1111111111111111,
              "#46039f"
             ],
             [
              0.2222222222222222,
              "#7201a8"
             ],
             [
              0.3333333333333333,
              "#9c179e"
             ],
             [
              0.4444444444444444,
              "#bd3786"
             ],
             [
              0.5555555555555556,
              "#d8576b"
             ],
             [
              0.6666666666666666,
              "#ed7953"
             ],
             [
              0.7777777777777778,
              "#fb9f3a"
             ],
             [
              0.8888888888888888,
              "#fdca26"
             ],
             [
              1,
              "#f0f921"
             ]
            ],
            "type": "heatmapgl"
           }
          ],
          "histogram": [
           {
            "marker": {
             "pattern": {
              "fillmode": "overlay",
              "size": 10,
              "solidity": 0.2
             }
            },
            "type": "histogram"
           }
          ],
          "histogram2d": [
           {
            "colorbar": {
             "outlinewidth": 0,
             "ticks": ""
            },
            "colorscale": [
             [
              0,
              "#0d0887"
             ],
             [
              0.1111111111111111,
              "#46039f"
             ],
             [
              0.2222222222222222,
              "#7201a8"
             ],
             [
              0.3333333333333333,
              "#9c179e"
             ],
             [
              0.4444444444444444,
              "#bd3786"
             ],
             [
              0.5555555555555556,
              "#d8576b"
             ],
             [
              0.6666666666666666,
              "#ed7953"
             ],
             [
              0.7777777777777778,
              "#fb9f3a"
             ],
             [
              0.8888888888888888,
              "#fdca26"
             ],
             [
              1,
              "#f0f921"
             ]
            ],
            "type": "histogram2d"
           }
          ],
          "histogram2dcontour": [
           {
            "colorbar": {
             "outlinewidth": 0,
             "ticks": ""
            },
            "colorscale": [
             [
              0,
              "#0d0887"
             ],
             [
              0.1111111111111111,
              "#46039f"
             ],
             [
              0.2222222222222222,
              "#7201a8"
             ],
             [
              0.3333333333333333,
              "#9c179e"
             ],
             [
              0.4444444444444444,
              "#bd3786"
             ],
             [
              0.5555555555555556,
              "#d8576b"
             ],
             [
              0.6666666666666666,
              "#ed7953"
             ],
             [
              0.7777777777777778,
              "#fb9f3a"
             ],
             [
              0.8888888888888888,
              "#fdca26"
             ],
             [
              1,
              "#f0f921"
             ]
            ],
            "type": "histogram2dcontour"
           }
          ],
          "mesh3d": [
           {
            "colorbar": {
             "outlinewidth": 0,
             "ticks": ""
            },
            "type": "mesh3d"
           }
          ],
          "parcoords": [
           {
            "line": {
             "colorbar": {
              "outlinewidth": 0,
              "ticks": ""
             }
            },
            "type": "parcoords"
           }
          ],
          "pie": [
           {
            "automargin": true,
            "type": "pie"
           }
          ],
          "scatter": [
           {
            "fillpattern": {
             "fillmode": "overlay",
             "size": 10,
             "solidity": 0.2
            },
            "type": "scatter"
           }
          ],
          "scatter3d": [
           {
            "line": {
             "colorbar": {
              "outlinewidth": 0,
              "ticks": ""
             }
            },
            "marker": {
             "colorbar": {
              "outlinewidth": 0,
              "ticks": ""
             }
            },
            "type": "scatter3d"
           }
          ],
          "scattercarpet": [
           {
            "marker": {
             "colorbar": {
              "outlinewidth": 0,
              "ticks": ""
             }
            },
            "type": "scattercarpet"
           }
          ],
          "scattergeo": [
           {
            "marker": {
             "colorbar": {
              "outlinewidth": 0,
              "ticks": ""
             }
            },
            "type": "scattergeo"
           }
          ],
          "scattergl": [
           {
            "marker": {
             "colorbar": {
              "outlinewidth": 0,
              "ticks": ""
             }
            },
            "type": "scattergl"
           }
          ],
          "scattermapbox": [
           {
            "marker": {
             "colorbar": {
              "outlinewidth": 0,
              "ticks": ""
             }
            },
            "type": "scattermapbox"
           }
          ],
          "scatterpolar": [
           {
            "marker": {
             "colorbar": {
              "outlinewidth": 0,
              "ticks": ""
             }
            },
            "type": "scatterpolar"
           }
          ],
          "scatterpolargl": [
           {
            "marker": {
             "colorbar": {
              "outlinewidth": 0,
              "ticks": ""
             }
            },
            "type": "scatterpolargl"
           }
          ],
          "scatterternary": [
           {
            "marker": {
             "colorbar": {
              "outlinewidth": 0,
              "ticks": ""
             }
            },
            "type": "scatterternary"
           }
          ],
          "surface": [
           {
            "colorbar": {
             "outlinewidth": 0,
             "ticks": ""
            },
            "colorscale": [
             [
              0,
              "#0d0887"
             ],
             [
              0.1111111111111111,
              "#46039f"
             ],
             [
              0.2222222222222222,
              "#7201a8"
             ],
             [
              0.3333333333333333,
              "#9c179e"
             ],
             [
              0.4444444444444444,
              "#bd3786"
             ],
             [
              0.5555555555555556,
              "#d8576b"
             ],
             [
              0.6666666666666666,
              "#ed7953"
             ],
             [
              0.7777777777777778,
              "#fb9f3a"
             ],
             [
              0.8888888888888888,
              "#fdca26"
             ],
             [
              1,
              "#f0f921"
             ]
            ],
            "type": "surface"
           }
          ],
          "table": [
           {
            "cells": {
             "fill": {
              "color": "#EBF0F8"
             },
             "line": {
              "color": "white"
             }
            },
            "header": {
             "fill": {
              "color": "#C8D4E3"
             },
             "line": {
              "color": "white"
             }
            },
            "type": "table"
           }
          ]
         },
         "layout": {
          "annotationdefaults": {
           "arrowcolor": "#2a3f5f",
           "arrowhead": 0,
           "arrowwidth": 1
          },
          "autotypenumbers": "strict",
          "coloraxis": {
           "colorbar": {
            "outlinewidth": 0,
            "ticks": ""
           }
          },
          "colorscale": {
           "diverging": [
            [
             0,
             "#8e0152"
            ],
            [
             0.1,
             "#c51b7d"
            ],
            [
             0.2,
             "#de77ae"
            ],
            [
             0.3,
             "#f1b6da"
            ],
            [
             0.4,
             "#fde0ef"
            ],
            [
             0.5,
             "#f7f7f7"
            ],
            [
             0.6,
             "#e6f5d0"
            ],
            [
             0.7,
             "#b8e186"
            ],
            [
             0.8,
             "#7fbc41"
            ],
            [
             0.9,
             "#4d9221"
            ],
            [
             1,
             "#276419"
            ]
           ],
           "sequential": [
            [
             0,
             "#0d0887"
            ],
            [
             0.1111111111111111,
             "#46039f"
            ],
            [
             0.2222222222222222,
             "#7201a8"
            ],
            [
             0.3333333333333333,
             "#9c179e"
            ],
            [
             0.4444444444444444,
             "#bd3786"
            ],
            [
             0.5555555555555556,
             "#d8576b"
            ],
            [
             0.6666666666666666,
             "#ed7953"
            ],
            [
             0.7777777777777778,
             "#fb9f3a"
            ],
            [
             0.8888888888888888,
             "#fdca26"
            ],
            [
             1,
             "#f0f921"
            ]
           ],
           "sequentialminus": [
            [
             0,
             "#0d0887"
            ],
            [
             0.1111111111111111,
             "#46039f"
            ],
            [
             0.2222222222222222,
             "#7201a8"
            ],
            [
             0.3333333333333333,
             "#9c179e"
            ],
            [
             0.4444444444444444,
             "#bd3786"
            ],
            [
             0.5555555555555556,
             "#d8576b"
            ],
            [
             0.6666666666666666,
             "#ed7953"
            ],
            [
             0.7777777777777778,
             "#fb9f3a"
            ],
            [
             0.8888888888888888,
             "#fdca26"
            ],
            [
             1,
             "#f0f921"
            ]
           ]
          },
          "colorway": [
           "#636efa",
           "#EF553B",
           "#00cc96",
           "#ab63fa",
           "#FFA15A",
           "#19d3f3",
           "#FF6692",
           "#B6E880",
           "#FF97FF",
           "#FECB52"
          ],
          "font": {
           "color": "#2a3f5f"
          },
          "geo": {
           "bgcolor": "white",
           "lakecolor": "white",
           "landcolor": "#E5ECF6",
           "showlakes": true,
           "showland": true,
           "subunitcolor": "white"
          },
          "hoverlabel": {
           "align": "left"
          },
          "hovermode": "closest",
          "mapbox": {
           "style": "light"
          },
          "paper_bgcolor": "white",
          "plot_bgcolor": "#E5ECF6",
          "polar": {
           "angularaxis": {
            "gridcolor": "white",
            "linecolor": "white",
            "ticks": ""
           },
           "bgcolor": "#E5ECF6",
           "radialaxis": {
            "gridcolor": "white",
            "linecolor": "white",
            "ticks": ""
           }
          },
          "scene": {
           "xaxis": {
            "backgroundcolor": "#E5ECF6",
            "gridcolor": "white",
            "gridwidth": 2,
            "linecolor": "white",
            "showbackground": true,
            "ticks": "",
            "zerolinecolor": "white"
           },
           "yaxis": {
            "backgroundcolor": "#E5ECF6",
            "gridcolor": "white",
            "gridwidth": 2,
            "linecolor": "white",
            "showbackground": true,
            "ticks": "",
            "zerolinecolor": "white"
           },
           "zaxis": {
            "backgroundcolor": "#E5ECF6",
            "gridcolor": "white",
            "gridwidth": 2,
            "linecolor": "white",
            "showbackground": true,
            "ticks": "",
            "zerolinecolor": "white"
           }
          },
          "shapedefaults": {
           "line": {
            "color": "#2a3f5f"
           }
          },
          "ternary": {
           "aaxis": {
            "gridcolor": "white",
            "linecolor": "white",
            "ticks": ""
           },
           "baxis": {
            "gridcolor": "white",
            "linecolor": "white",
            "ticks": ""
           },
           "bgcolor": "#E5ECF6",
           "caxis": {
            "gridcolor": "white",
            "linecolor": "white",
            "ticks": ""
           }
          },
          "title": {
           "x": 0.05
          },
          "xaxis": {
           "automargin": true,
           "gridcolor": "white",
           "linecolor": "white",
           "ticks": "",
           "title": {
            "standoff": 15
           },
           "zerolinecolor": "white",
           "zerolinewidth": 2
          },
          "yaxis": {
           "automargin": true,
           "gridcolor": "white",
           "linecolor": "white",
           "ticks": "",
           "title": {
            "standoff": 15
           },
           "zerolinecolor": "white",
           "zerolinewidth": 2
          }
         }
        },
        "width": 2300
       }
      }
     },
     "metadata": {},
     "output_type": "display_data"
    }
   ],
   "source": [
    "fig = make_subplots(rows=2, cols=3, #subplot_titles=('Grandfathering (GF)',\n",
    "                                                    # 'Per Capita (PC)',\n",
    "                                                    # 'Per Capita Convergence (PCC)',\n",
    "                                                    # 'Equal Cumulative Per Capita',\n",
    "                                                    # 'Ability to pay (AP)',\n",
    "                                                    # 'Greenhouse Development Rights'), \n",
    "                                    specs=[[{'type': 'choropleth'}, {'type': 'choropleth'}, {'type': 'choropleth'}],\n",
    "                                           [{'type': 'choropleth'}, {'type': 'choropleth'}, {'type': 'choropleth'}]],\n",
    "                                    horizontal_spacing = 0,\n",
    "                                    vertical_spacing=0)\n",
    "\n",
    "colorbar_abs = dict(len=1, x=1, tickvals = [0, 1, 2, 3], ticktext = ['1', '10', '100', '1000'])\n",
    "colorbar_pc = dict(len=1, x=1)\n",
    "\n",
    "for var_i, var in enumerate(rules):\n",
    "    if var_i == 0:\n",
    "        cm= True\n",
    "    else:\n",
    "        cm= False\n",
    "    fig.add_trace(\n",
    "        go.Choropleth(\n",
    "        locations=group_eu,\n",
    "        z = data5[var],\n",
    "        locationmode = 'ISO-3',\n",
    "        colorscale = 'RdYlGn_r',\n",
    "        zmax = 2.5,\n",
    "        zmin = 1.5,\n",
    "        text = [str(r)+\": {:0.2f} deg C\".format(float(data5.sel(Region=r)[var])) for r_i, r in enumerate(group_eu)],\n",
    "        hovertemplate  = '%{text}',\n",
    "        name=\"\",\n",
    "        marker_line_color='grey', \n",
    "        marker_line_width=0.7,\n",
    "        colorbar=dict(len=1, x=1, tickvals = np.arange(1.5, 2.5, 0.1), ticktext = [str(np.round(i,1))+\"&deg;C\" for i in np.arange(1.5, 2.5, 0.1)], title={\"text\":\"Temp-equiv<br>of NDC\"}, tickfont={'size': 25}),\n",
    "        showscale=cm\n",
    "    ), [1, 1, 1, 2, 2, 2][var_i], [1, 2, 3, 1, 2, 3][var_i])\n",
    "# fig.update_geos(showocean=True, oceancolor=\"white\")\n",
    "# fig.update_geos(showlakes=True, lakecolor=\"white\")\n",
    "\n",
    "# limite map scope to USA 'africa', 'asia', 'europe', 'north america', 'south america', 'usa', 'world'\n",
    "fig.update_layout(\n",
    "    geo1 = dict(scope='europe', \n",
    "                showlakes=False,\n",
    "                lakecolor='rgb(255, 255, 255)',\n",
    "                showcoastlines=False,),\n",
    "    geo2 = dict(scope='europe', \n",
    "                showlakes=False,\n",
    "                lakecolor='rgb(255, 255, 255)',\n",
    "                showcoastlines=False,),\n",
    "    geo3 = dict(scope='europe', \n",
    "                showlakes=False,\n",
    "                lakecolor='rgb(255, 255, 255)',\n",
    "                showcoastlines=False,),\n",
    "    geo4 = dict(scope='europe', \n",
    "                showlakes=False,\n",
    "                lakecolor='rgb(255, 255, 255)',\n",
    "                showcoastlines=False,),\n",
    "    geo5 = dict(scope='europe', \n",
    "                showlakes=False,\n",
    "                lakecolor='rgb(255, 255, 255)',\n",
    "                showcoastlines=False,),\n",
    "    geo6 = dict(scope='europe', \n",
    "                showlakes=False,\n",
    "                showcoastlines=False,),\n",
    ")\n",
    "\n",
    "mn = np.min(np.array([float(data5[rules].min()[r]) for r in rules]))\n",
    "mx = np.max(np.array([float(data5[rules].max()[r]) for r in rules]))\n",
    "for var_i, var in enumerate(rules):\n",
    "    vals = np.array(data5[var]).astype(float)\n",
    "    vals_i = (vals + mn)**1.2\n",
    "    vals_n = 14*(vals - mn)/(mx - mn)+7\n",
    "    vals_boolean = np.copy(vals)\n",
    "    vals_boolean[vals >= 0] = 1\n",
    "    vals_boolean[vals < 0] = 0\n",
    "    vals_boolean = vals_boolean.astype(int)\n",
    "    \n",
    "    fig.add_scattergeo(\n",
    "                locations = group_eu,\n",
    "                text = [str(np.round(vals[r_i], 1)) for r_i in range(len(group_eu))],\n",
    "                featureidkey=\"properties.NAME_3\",\n",
    "                mode = 'text',\n",
    "                hoverinfo='skip',\n",
    "                showlegend=False,\n",
    "                textfont={'size': 20,\n",
    "                        'color': 'black'},\n",
    "                row=[1, 1, 1, 2, 2, 2][var_i],\n",
    "                col=[1, 2, 3, 1, 2, 3][var_i])\n",
    "\n",
    "fig.update_geos(visible=False,\n",
    "                showlakes=True,\n",
    "                lakecolor='rgb(255, 255, 255)',\n",
    "                projection_type='natural earth',\n",
    "                resolution=50,\n",
    "                lataxis_range=[30,75], lonaxis_range=[-20, 40],\n",
    "                showcoastlines=False,)\n",
    "\n",
    "#fig.update_traces(showscale=False)\n",
    "fig.update_layout(height=1200, width=2300)\n",
    "fig.update_geos(visible=True, showcountries=False)#fitbounds=\"locations\",\n",
    "fig.update_layout(margin={\"r\":0,\"t\":0,\"l\":0,\"b\":0})\n",
    "\n",
    "fig.add_annotation(xref='paper', yref='paper',ax=0, align='left', ay=-0, showarrow=False, font=dict(color='black', size=25),\n",
    "                   y=0.96, x=0.07, text=\"<b>(a) Grandfathering</b>\")\n",
    "fig.add_annotation(xref='paper', yref='paper',ax=0, align='left', ay=-0, showarrow=False, font=dict(color='black', size=25),\n",
    "                   y=0.96, x=0.47, text=\"<b>(b) Per Capita</b>\")\n",
    "fig.add_annotation(xref='paper', yref='paper',ax=0, align='left', ay=-0, showarrow=False, font=dict(color='black', size=25),\n",
    "                   y=0.96, x=0.90, text=\"<b>(c) Per Capita Convergence</b>\")\n",
    "fig.add_annotation(xref='paper', yref='paper',ax=0, align='left', ay=-0, showarrow=False, font=dict(color='black', size=25),\n",
    "                   y=0.45, x=0.07, text=\"<b>(d) Equal Cumulative per Capita</b>\")\n",
    "fig.add_annotation(xref='paper', yref='paper',ax=0, align='left', ay=-0, showarrow=False, font=dict(color='black', size=25),\n",
    "                   y=0.45, x=0.48, text=\"<b>(e) Ability to Pay</b>\")\n",
    "fig.add_annotation(xref='paper', yref='paper',ax=0, align='left', ay=-0, showarrow=False, font=dict(color='black', size=25),\n",
    "                   y=0.45, x=0.95, text=\"<b>(f) Greenhouse Development Rights</b>\")\n",
    "fig_europe = fig\n",
    "fig.show()"
   ]
  },
  {
   "cell_type": "code",
   "execution_count": 36,
   "metadata": {},
   "outputs": [],
   "source": [
    "fig.write_image(\"X:/user/dekkerm/Projects/ECEMF_T5.2/Figures/Presentations/Europe_temp.png\", scale=3)"
   ]
  }
 ],
 "metadata": {
  "kernelspec": {
   "display_name": "MyEnv",
   "language": "python",
   "name": "python3"
  },
  "language_info": {
   "codemirror_mode": {
    "name": "ipython",
    "version": 3
   },
   "file_extension": ".py",
   "mimetype": "text/x-python",
   "name": "python",
   "nbconvert_exporter": "python",
   "pygments_lexer": "ipython3",
   "version": "3.9.18"
  },
  "orig_nbformat": 4
 },
 "nbformat": 4,
 "nbformat_minor": 2
}
