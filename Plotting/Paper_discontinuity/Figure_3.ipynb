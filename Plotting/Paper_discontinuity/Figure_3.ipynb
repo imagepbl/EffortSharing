{
 "cells": [
  {
   "attachments": {},
   "cell_type": "markdown",
   "metadata": {},
   "source": [
    "## Preambule"
   ]
  },
  {
   "cell_type": "code",
   "execution_count": 1,
   "metadata": {},
   "outputs": [],
   "source": [
    "# General packages\n",
    "import numpy as np\n",
    "import pandas as pd\n",
    "from tqdm import tqdm\n",
    "from pathlib import Path\n",
    "import xarray as xr\n",
    "import json\n",
    "\n",
    "# Plotting\n",
    "import matplotlib.pyplot as plt\n",
    "import plotly.express as px\n",
    "import plotly.graph_objects as go\n",
    "from plotly.subplots import make_subplots\n",
    "from plotly.colors import n_colors"
   ]
  },
  {
   "attachments": {},
   "cell_type": "markdown",
   "metadata": {},
   "source": [
    "## Paths"
   ]
  },
  {
   "cell_type": "code",
   "execution_count": 2,
   "metadata": {},
   "outputs": [],
   "source": [
    "path_data = Path(\"K:/Data/Data_effortsharing/DataUpdate_ongoing/startyear_2021/\")\n",
    "path_data_gen = Path(\"K:/Data/Data_effortsharing/DataUpdate_ongoing/\")\n",
    "path_figs = Path(\"K:/Code/effort-sharing/\") / \"Figures\" / \"Paper_Robiou2023\""
   ]
  },
  {
   "attachments": {},
   "cell_type": "markdown",
   "metadata": {},
   "source": [
    "## Read data files"
   ]
  },
  {
   "cell_type": "code",
   "execution_count": 3,
   "metadata": {},
   "outputs": [],
   "source": [
    "xr_dataread = xr.open_dataset(path_data / \"xr_dataread.nc\")\n",
    "xr_combs = xr.open_dataset(path_data / \"xr_comb_GHG_excl.nc\")\n",
    "xr_temps = xr.open_dataset(path_data / \"xr_combtemps_GHG_excl.nc\")\n",
    "all_regions_iso = np.load(path_data_gen / \"all_regions.npy\")\n",
    "all_regions_names = np.array(list(np.load(path_data_gen / \"all_regions_names.npy\")[:-1])+['Earth']) # Only in old xr_dataread version, should be updated when reran\n",
    "all_countries_iso = np.load(path_data_gen / \"all_countries.npy\", allow_pickle=True)\n",
    "all_countries_names = np.load(path_data_gen / \"all_countries_names.npy\", allow_pickle=True)\n",
    "only_regions_iso = ['CVF', 'G20', \"EU\", \"G7\", \"NA\", \"AU\", \"AF\", \"SIDS\", \"LDC\", \"WORLD\"]\n",
    "only_regions_names = ['Climate Vulnerability Forum','G20',\"European Union\",\"G7\",\"Northern America\",\"Australasia\",\"African Group\",\"Small Island Developing States\",\"Least Developed Countries\", 'World']"
   ]
  },
  {
   "cell_type": "code",
   "execution_count": 4,
   "metadata": {},
   "outputs": [],
   "source": [
    "#xr_budgets_scenario = xr.open_dataset(path_data / \"xr_budgets_scenario.nc\")\n",
    "#df_michel = pd.read_excel(Path(\"X:/user/dekkerm/Data/\") / \"NDC\" / \"NDC_comparison.xlsx\", sheet_name=\"Michel\")"
   ]
  },
  {
   "cell_type": "code",
   "execution_count": 5,
   "metadata": {},
   "outputs": [],
   "source": [
    "df_g = pd.read_excel(Path(\"X:/user/dekkerm/Data/\") / \"UNFCCC_Parties_Groups_noeu.xlsx\", sheet_name = \"Country groups\")\n",
    "countries_iso = np.array(df_g[\"Country ISO Code\"])\n",
    "countries_name = np.array(df_g[\"Name\"])\n",
    "countries_iso = np.array(df_g[\"Country ISO Code\"])\n",
    "group_cvf = countries_iso[np.array(df_g[\"CVF (24/10/22)\"]) == 1]\n",
    "group_g20 = countries_iso[np.array(df_g[\"G20\"]) == 1]\n",
    "group_eu = countries_iso[np.array(df_g[\"EU\"]) == 1]\n",
    "group_g7 = countries_iso[np.array(df_g[\"G7\"]) == 1]\n",
    "group_na = countries_iso[np.array(df_g[\"Northern America\"]) == 1]\n",
    "group_um = countries_iso[np.array(df_g[\"Umbrella\"]) == 1]\n",
    "group_au = countries_iso[np.array(df_g[\"Australasia\"]) == 1]\n",
    "group_af = countries_iso[np.array(df_g[\"African Group\"]) == 1]\n",
    "group_sids = countries_iso[np.array(df_g[\"SIDS\"]) == 1]\n",
    "group_ldc = countries_iso[np.array(df_g[\"LDC\"]) == 1]\n",
    "group_eg = countries_iso[np.array(df_g[\"European Group\"]) == 1]\n",
    "group_world = np.copy(countries_iso)"
   ]
  },
  {
   "cell_type": "markdown",
   "metadata": {},
   "source": [
    "## Compute 50% reduction years"
   ]
  },
  {
   "cell_type": "code",
   "execution_count": 6,
   "metadata": {},
   "outputs": [],
   "source": [
    "reds_1 = xr_combs.Approach1_gdp.sel(Temperature=1.6, Risk=0.5, Scenario='SSP2', Discount_factor=0, Historical_startyear=1990) / xr_dataread.sel(Time=2020).GHG_hist_excl\n",
    "reds_2 = xr_combs.Approach2.sel(Temperature=1.6, Risk=0.5, Scenario='SSP2', Discount_factor=0, Historical_startyear=1990) / xr_dataread.sel(Time=2020).GHG_hist_excl\n",
    "\n",
    "list_cty = []\n",
    "list_year1 = []\n",
    "list_year2 = []\n",
    "a = 0\n",
    "for cty in all_countries_iso:\n",
    "    list_cty.append(cty)\n",
    "    if cty in group_eu:\n",
    "        cty2 = 'EU'\n",
    "    else:\n",
    "        cty2 = cty\n",
    "    year1 = reds_1.Time[np.where(reds_1.sel(Region=cty2) < 0.5)[0]]\n",
    "    year2 = reds_2.Time[np.where(reds_2.sel(Region=cty2) < 0.5)[0]]\n",
    "    if len(year1) > 0:\n",
    "        list_year1.append(np.array(year1)[0])\n",
    "    else:\n",
    "        list_year1.append(2100)\n",
    "    if len(year2) > 0:\n",
    "        list_year2.append(np.array(year2)[0])\n",
    "    else:\n",
    "        list_year2.append(2100)\n",
    "    \n",
    "list_year1 = np.array(list_year1)\n",
    "list_year2 = np.array(list_year2)\n",
    "list_cty = np.array(list_cty)"
   ]
  },
  {
   "attachments": {},
   "cell_type": "markdown",
   "metadata": {},
   "source": [
    "## Plot"
   ]
  },
  {
   "cell_type": "code",
   "execution_count": 7,
   "metadata": {},
   "outputs": [
    {
     "data": {
      "application/vnd.plotly.v1+json": {
       "config": {
        "plotlyServerURL": "https://plot.ly"
       },
       "data": [
        {
         "colorbar": {
          "title": {
           "side": "bottom"
          }
         },
         "colorscale": [
          [
           0,
           "rgb(255,255,255)"
          ],
          [
           0.125,
           "rgb(240,240,240)"
          ],
          [
           0.25,
           "rgb(217,217,217)"
          ],
          [
           0.375,
           "rgb(189,189,189)"
          ],
          [
           0.5,
           "rgb(150,150,150)"
          ],
          [
           0.625,
           "rgb(115,115,115)"
          ],
          [
           0.75,
           "rgb(82,82,82)"
          ],
          [
           0.875,
           "rgb(37,37,37)"
          ],
          [
           1,
           "rgb(0,0,0)"
          ]
         ],
         "geo": "geo",
         "hovertemplate": "%{text}",
         "locationmode": "ISO-3",
         "locations": [
          "ATA"
         ],
         "marker": {
          "line": {
           "color": "black",
           "width": 0
          }
         },
         "name": "",
         "showscale": false,
         "text": [
          "hoi"
         ],
         "type": "choropleth",
         "z": [
          0.5
         ],
         "zmax": 4.5,
         "zmin": 0.5
        },
        {
         "colorbar": {
          "len": 0.4,
          "lenmode": "fraction",
          "orientation": "h",
          "thickness": 20,
          "thicknessmode": "pixels",
          "tickfont": {
           "size": 14
          },
          "tickvals": [
           2020,
           2030,
           2040,
           2050,
           2060,
           2070,
           2080,
           2090,
           2100
          ],
          "title": {
           "font": {
            "size": 14
           },
           "side": "bottom",
           "text": "<b>Year of 50% reduction"
          },
          "x": 0.35,
          "xanchor": "left",
          "y": 0.52,
          "yanchor": "bottom"
         },
         "colorscale": [
          [
           0,
           "rgb(158,1,66)"
          ],
          [
           0.1,
           "rgb(213,62,79)"
          ],
          [
           0.2,
           "rgb(244,109,67)"
          ],
          [
           0.3,
           "rgb(253,174,97)"
          ],
          [
           0.4,
           "rgb(254,224,139)"
          ],
          [
           0.5,
           "rgb(255,255,191)"
          ],
          [
           0.6,
           "rgb(230,245,152)"
          ],
          [
           0.7,
           "rgb(171,221,164)"
          ],
          [
           0.8,
           "rgb(102,194,165)"
          ],
          [
           0.9,
           "rgb(50,136,189)"
          ],
          [
           1,
           "rgb(94,79,162)"
          ]
         ],
         "geo": "geo",
         "hovertemplate": "%{text}",
         "locationmode": "ISO-3",
         "locations": [
          "AFG",
          "ALB",
          "DZA",
          "AND",
          "AGO",
          "ATG",
          "ARG",
          "ARM",
          "AUS",
          "AUT",
          "AZE",
          "BHR",
          "BGD",
          "BRB",
          "BLR",
          "BEL",
          "BLZ",
          "BEN",
          "BTN",
          "BOL",
          "BIH",
          "BWA",
          "BRA",
          "BRN",
          "BGR",
          "BFA",
          "BDI",
          "KHM",
          "CMR",
          "CAN",
          "CPV",
          "CAF",
          "TCD",
          "CHL",
          "CHN",
          "COL",
          "COM",
          "COG",
          "COK",
          "CRI",
          "CIV",
          "HRV",
          "CUB",
          "CYP",
          "CZE",
          "COD",
          "DNK",
          "DJI",
          "DMA",
          "DOM",
          "ECU",
          "EGY",
          "SLV",
          "GNQ",
          "ERI",
          "EST",
          "SWZ",
          "ETH",
          "FJI",
          "FIN",
          "FRA",
          "GAB",
          "GEO",
          "DEU",
          "GHA",
          "GRC",
          "GRD",
          "GTM",
          "GIN",
          "GNB",
          "GUY",
          "HTI",
          "VAT",
          "HND",
          "HUN",
          "ISL",
          "IND",
          "IDN",
          "IRN",
          "IRQ",
          "IRL",
          "ISR",
          "ITA",
          "JAM",
          "JPN",
          "JOR",
          "KAZ",
          "KEN",
          "KIR",
          "KWT",
          "KGZ",
          "LAO",
          "LVA",
          "LBN",
          "LSO",
          "LBR",
          "LBY",
          "LIE",
          "LTU",
          "LUX",
          "MKD",
          "MDG",
          "MWI",
          "MYS",
          "MDV",
          "MLI",
          "MLT",
          "MHL",
          "MRT",
          "MUS",
          "MEX",
          "FSM",
          "MDA",
          "MCO",
          "MNG",
          "MNE",
          "MAR",
          "MOZ",
          "MMR",
          "NAM",
          "NRU",
          "NPL",
          "NLD",
          "NZL",
          "NIC",
          "NER",
          "NGA",
          "NIU",
          "PRK",
          "NOR",
          "OMN",
          "PAK",
          "PLW",
          "PSE",
          "PAN",
          "PNG",
          "PRY",
          "PER",
          "PHL",
          "POL",
          "PRT",
          "QAT",
          "ROU",
          "RUS",
          "RWA",
          "KNA",
          "LCA",
          "VCT",
          "WSM",
          "SMR",
          "STP",
          "SAU",
          "SEN",
          "SRB",
          "SYC",
          "SLE",
          "SGP",
          "SVK",
          "SVN",
          "SLB",
          "SOM",
          "ZAF",
          "KOR",
          "SSD",
          "ESP",
          "LKA",
          "SDN",
          "SUR",
          "SWE",
          "CHE",
          "SYR",
          "TJK",
          "TZA",
          "THA",
          "BHS",
          "GMB",
          "TLS",
          "TGO",
          "TON",
          "TTO",
          "TUN",
          "TUR",
          "TKM",
          "TUV",
          "UGA",
          "UKR",
          "ARE",
          "GBR",
          "USA",
          "URY",
          "UZB",
          "VUT",
          "VEN",
          "VNM",
          "YEM",
          "ZMB",
          "ZWE"
         ],
         "marker": {
          "line": {
           "color": "black",
           "width": 1
          }
         },
         "name": "",
         "showscale": true,
         "text": [
          "AFG: 2100",
          "ALB: 2037",
          "DZA: 2038",
          "AND: 2100",
          "AGO: 2100",
          "ATG: 2028",
          "ARG: 2021",
          "ARM: 2043",
          "AUS: 2021",
          "AUT: 2021",
          "AZE: 2028",
          "BHR: 2021",
          "BGD: 2100",
          "BRB: 2021",
          "BLR: 2021",
          "BEL: 2021",
          "BLZ: 2072",
          "BEN: 2100",
          "BTN: 2049",
          "BOL: 2045",
          "BIH: 2021",
          "BWA: 2037",
          "BRA: 2030",
          "BRN: 2021",
          "BGR: 2021",
          "BFA: 2100",
          "BDI: 2100",
          "KHM: 2072",
          "CMR: 2100",
          "CAN: 2021",
          "CPV: 2100",
          "CAF: 2100",
          "TCD: 2100",
          "CHL: 2030",
          "CHN: 2021",
          "COL: 2045",
          "COM: 2100",
          "COG: 2080",
          "COK: 2100",
          "CRI: 2054",
          "CIV: 2100",
          "HRV: 2021",
          "CUB: 2039",
          "CYP: 2021",
          "CZE: 2021",
          "COD: 2100",
          "DNK: 2021",
          "DJI: 2100",
          "DMA: 2100",
          "DOM: 2051",
          "ECU: 2052",
          "EGY: 2070",
          "SLV: 2081",
          "GNQ: 2037",
          "ERI: 2100",
          "EST: 2021",
          "SWZ: 2100",
          "ETH: 2100",
          "FJI: 2062",
          "FIN: 2021",
          "FRA: 2021",
          "GAB: 2024",
          "GEO: 2033",
          "DEU: 2021",
          "GHA: 2100",
          "GRC: 2021",
          "GRD: 2057",
          "GTM: 2100",
          "GIN: 2100",
          "GNB: 2100",
          "GUY: 2037",
          "HTI: 2100",
          "VAT: 2100",
          "HND: 2097",
          "HUN: 2021",
          "ISL: 2021",
          "IND: 2076",
          "IDN: 2047",
          "IRN: 2021",
          "IRQ: 2047",
          "IRL: 2021",
          "ISR: 2039",
          "ITA: 2021",
          "JAM: 2042",
          "JPN: 2021",
          "JOR: 2100",
          "KAZ: 2021",
          "KEN: 2100",
          "KIR: 2100",
          "KWT: 2021",
          "KGZ: 2100",
          "LAO: 2050",
          "LVA: 2021",
          "LBN: 2041",
          "LSO: 2100",
          "LBR: 2100",
          "LBY: 2021",
          "LIE: 2100",
          "LTU: 2021",
          "LUX: 2021",
          "MKD: 2031",
          "MDG: 2100",
          "MWI: 2100",
          "MYS: 2025",
          "MDV: 2056",
          "MLI: 2100",
          "MLT: 2021",
          "MHL: 2100",
          "MRT: 2099",
          "MUS: 2041",
          "MEX: 2033",
          "FSM: 2100",
          "MDA: 2035",
          "MCO: 2100",
          "MNG: 2021",
          "MNE: 2028",
          "MAR: 2073",
          "MOZ: 2100",
          "MMR: 2100",
          "NAM: 2042",
          "NRU: 2100",
          "NPL: 2100",
          "NLD: 2021",
          "NZL: 2021",
          "NIC: 2073",
          "NER: 2100",
          "NGA: 2100",
          "NIU: 2100",
          "PRK: 2041",
          "NOR: 2021",
          "OMN: 2021",
          "PAK: 2100",
          "PLW: 2100",
          "PSE: 2100",
          "PAN: 2050",
          "PNG: 2100",
          "PRY: 2033",
          "PER: 2066",
          "PHL: 2100",
          "POL: 2021",
          "PRT: 2021",
          "QAT: 2021",
          "ROU: 2021",
          "RUS: 2021",
          "RWA: 2100",
          "KNA: 2100",
          "LCA: 2047",
          "VCT: 2045",
          "WSM: 2096",
          "SMR: 2100",
          "STP: 2100",
          "SAU: 2021",
          "SEN: 2100",
          "SRB: 2021",
          "SYC: 2036",
          "SLE: 2100",
          "SGP: 2024",
          "SVK: 2021",
          "SVN: 2021",
          "SLB: 2100",
          "SOM: 2100",
          "ZAF: 2021",
          "KOR: 2021",
          "SSD: 2030",
          "ESP: 2021",
          "LKA: 2100",
          "SDN: 2100",
          "SUR: 2030",
          "SWE: 2021",
          "CHE: 2037",
          "SYR: 2100",
          "TJK: 2100",
          "TZA: 2100",
          "THA: 2025",
          "BHS: 2029",
          "GMB: 2100",
          "TLS: 2100",
          "TGO: 2100",
          "TON: 2061",
          "TTO: 2021",
          "TUN: 2051",
          "TUR: 2034",
          "TKM: 2021",
          "TUV: 2100",
          "UGA: 2100",
          "UKR: 2021",
          "ARE: 2021",
          "GBR: 2024",
          "USA: 2021",
          "URY: 2021",
          "UZB: 2038",
          "VUT: 2092",
          "VEN: 2100",
          "VNM: 2041",
          "YEM: 2100",
          "ZMB: 2100",
          "ZWE: 2100"
         ],
         "type": "choropleth",
         "z": [
          2100,
          2037,
          2038,
          2100,
          2100,
          2028,
          2021,
          2043,
          2021,
          2021,
          2028,
          2021,
          2100,
          2021,
          2021,
          2021,
          2072,
          2100,
          2049,
          2045,
          2021,
          2037,
          2030,
          2021,
          2021,
          2100,
          2100,
          2072,
          2100,
          2021,
          2100,
          2100,
          2100,
          2030,
          2021,
          2045,
          2100,
          2080,
          2100,
          2054,
          2100,
          2021,
          2039,
          2021,
          2021,
          2100,
          2021,
          2100,
          2100,
          2051,
          2052,
          2070,
          2081,
          2037,
          2100,
          2021,
          2100,
          2100,
          2062,
          2021,
          2021,
          2024,
          2033,
          2021,
          2100,
          2021,
          2057,
          2100,
          2100,
          2100,
          2037,
          2100,
          2100,
          2097,
          2021,
          2021,
          2076,
          2047,
          2021,
          2047,
          2021,
          2039,
          2021,
          2042,
          2021,
          2100,
          2021,
          2100,
          2100,
          2021,
          2100,
          2050,
          2021,
          2041,
          2100,
          2100,
          2021,
          2100,
          2021,
          2021,
          2031,
          2100,
          2100,
          2025,
          2056,
          2100,
          2021,
          2100,
          2099,
          2041,
          2033,
          2100,
          2035,
          2100,
          2021,
          2028,
          2073,
          2100,
          2100,
          2042,
          2100,
          2100,
          2021,
          2021,
          2073,
          2100,
          2100,
          2100,
          2041,
          2021,
          2021,
          2100,
          2100,
          2100,
          2050,
          2100,
          2033,
          2066,
          2100,
          2021,
          2021,
          2021,
          2021,
          2021,
          2100,
          2100,
          2047,
          2045,
          2096,
          2100,
          2100,
          2021,
          2100,
          2021,
          2036,
          2100,
          2024,
          2021,
          2021,
          2100,
          2100,
          2021,
          2021,
          2030,
          2021,
          2100,
          2100,
          2030,
          2021,
          2037,
          2100,
          2100,
          2100,
          2025,
          2029,
          2100,
          2100,
          2100,
          2061,
          2021,
          2051,
          2034,
          2021,
          2100,
          2100,
          2021,
          2021,
          2024,
          2021,
          2021,
          2038,
          2092,
          2100,
          2041,
          2100,
          2100,
          2100
         ],
         "zmax": 2100,
         "zmin": 2020
        },
        {
         "colorbar": {
          "title": {
           "side": "bottom"
          }
         },
         "colorscale": [
          [
           0,
           "rgb(255,255,255)"
          ],
          [
           0.125,
           "rgb(240,240,240)"
          ],
          [
           0.25,
           "rgb(217,217,217)"
          ],
          [
           0.375,
           "rgb(189,189,189)"
          ],
          [
           0.5,
           "rgb(150,150,150)"
          ],
          [
           0.625,
           "rgb(115,115,115)"
          ],
          [
           0.75,
           "rgb(82,82,82)"
          ],
          [
           0.875,
           "rgb(37,37,37)"
          ],
          [
           1,
           "rgb(0,0,0)"
          ]
         ],
         "geo": "geo2",
         "hovertemplate": "%{text}",
         "locationmode": "ISO-3",
         "locations": [
          "ATA"
         ],
         "marker": {
          "line": {
           "color": "black",
           "width": 0
          }
         },
         "name": "",
         "showscale": false,
         "text": [
          "hoi"
         ],
         "type": "choropleth",
         "z": [
          0.5
         ],
         "zmax": 4.5,
         "zmin": 0.5
        },
        {
         "colorbar": {
          "len": 0.4,
          "lenmode": "fraction",
          "orientation": "h",
          "thickness": 20,
          "thicknessmode": "pixels",
          "tickfont": {
           "size": 14
          },
          "tickvals": [
           2020,
           2030,
           2040,
           2050,
           2060,
           2070,
           2080,
           2090,
           2100
          ],
          "title": {
           "font": {
            "size": 14
           },
           "side": "bottom",
           "text": "<b>Year of 50% reduction"
          },
          "x": 0.35,
          "xanchor": "left",
          "y": 0.52,
          "yanchor": "bottom"
         },
         "colorscale": [
          [
           0,
           "rgb(158,1,66)"
          ],
          [
           0.1,
           "rgb(213,62,79)"
          ],
          [
           0.2,
           "rgb(244,109,67)"
          ],
          [
           0.3,
           "rgb(253,174,97)"
          ],
          [
           0.4,
           "rgb(254,224,139)"
          ],
          [
           0.5,
           "rgb(255,255,191)"
          ],
          [
           0.6,
           "rgb(230,245,152)"
          ],
          [
           0.7,
           "rgb(171,221,164)"
          ],
          [
           0.8,
           "rgb(102,194,165)"
          ],
          [
           0.9,
           "rgb(50,136,189)"
          ],
          [
           1,
           "rgb(94,79,162)"
          ]
         ],
         "geo": "geo2",
         "hovertemplate": "%{text}",
         "locationmode": "ISO-3",
         "locations": [
          "AFG",
          "ALB",
          "DZA",
          "AND",
          "AGO",
          "ATG",
          "ARG",
          "ARM",
          "AUS",
          "AUT",
          "AZE",
          "BHR",
          "BGD",
          "BRB",
          "BLR",
          "BEL",
          "BLZ",
          "BEN",
          "BTN",
          "BOL",
          "BIH",
          "BWA",
          "BRA",
          "BRN",
          "BGR",
          "BFA",
          "BDI",
          "KHM",
          "CMR",
          "CAN",
          "CPV",
          "CAF",
          "TCD",
          "CHL",
          "CHN",
          "COL",
          "COM",
          "COG",
          "COK",
          "CRI",
          "CIV",
          "HRV",
          "CUB",
          "CYP",
          "CZE",
          "COD",
          "DNK",
          "DJI",
          "DMA",
          "DOM",
          "ECU",
          "EGY",
          "SLV",
          "GNQ",
          "ERI",
          "EST",
          "SWZ",
          "ETH",
          "FJI",
          "FIN",
          "FRA",
          "GAB",
          "GEO",
          "DEU",
          "GHA",
          "GRC",
          "GRD",
          "GTM",
          "GIN",
          "GNB",
          "GUY",
          "HTI",
          "VAT",
          "HND",
          "HUN",
          "ISL",
          "IND",
          "IDN",
          "IRN",
          "IRQ",
          "IRL",
          "ISR",
          "ITA",
          "JAM",
          "JPN",
          "JOR",
          "KAZ",
          "KEN",
          "KIR",
          "KWT",
          "KGZ",
          "LAO",
          "LVA",
          "LBN",
          "LSO",
          "LBR",
          "LBY",
          "LIE",
          "LTU",
          "LUX",
          "MKD",
          "MDG",
          "MWI",
          "MYS",
          "MDV",
          "MLI",
          "MLT",
          "MHL",
          "MRT",
          "MUS",
          "MEX",
          "FSM",
          "MDA",
          "MCO",
          "MNG",
          "MNE",
          "MAR",
          "MOZ",
          "MMR",
          "NAM",
          "NRU",
          "NPL",
          "NLD",
          "NZL",
          "NIC",
          "NER",
          "NGA",
          "NIU",
          "PRK",
          "NOR",
          "OMN",
          "PAK",
          "PLW",
          "PSE",
          "PAN",
          "PNG",
          "PRY",
          "PER",
          "PHL",
          "POL",
          "PRT",
          "QAT",
          "ROU",
          "RUS",
          "RWA",
          "KNA",
          "LCA",
          "VCT",
          "WSM",
          "SMR",
          "STP",
          "SAU",
          "SEN",
          "SRB",
          "SYC",
          "SLE",
          "SGP",
          "SVK",
          "SVN",
          "SLB",
          "SOM",
          "ZAF",
          "KOR",
          "SSD",
          "ESP",
          "LKA",
          "SDN",
          "SUR",
          "SWE",
          "CHE",
          "SYR",
          "TJK",
          "TZA",
          "THA",
          "BHS",
          "GMB",
          "TLS",
          "TGO",
          "TON",
          "TTO",
          "TUN",
          "TUR",
          "TKM",
          "TUV",
          "UGA",
          "UKR",
          "ARE",
          "GBR",
          "USA",
          "URY",
          "UZB",
          "VUT",
          "VEN",
          "VNM",
          "YEM",
          "ZMB",
          "ZWE"
         ],
         "marker": {
          "line": {
           "color": "black",
           "width": 1
          }
         },
         "name": "",
         "showscale": false,
         "text": [
          "AFG: 2100",
          "ALB: 2029",
          "DZA: 2029",
          "AND: 2100",
          "AGO: 2100",
          "ATG: 2100",
          "ARG: 2021",
          "ARM: 2027",
          "AUS: 2021",
          "AUT: 2021",
          "AZE: 2023",
          "BHR: 2021",
          "BGD: 2052",
          "BRB: 2024",
          "BLR: 2021",
          "BEL: 2021",
          "BLZ: 2044",
          "BEN: 2100",
          "BTN: 2034",
          "BOL: 2040",
          "BIH: 2021",
          "BWA: 2025",
          "BRA: 2024",
          "BRN: 2021",
          "BGR: 2021",
          "BFA: 2100",
          "BDI: 2093",
          "KHM: 2046",
          "CMR: 2096",
          "CAN: 2021",
          "CPV: 2070",
          "CAF: 2089",
          "TCD: 2100",
          "CHL: 2021",
          "CHN: 2021",
          "COL: 2029",
          "COM: 2075",
          "COG: 2081",
          "COK: 2100",
          "CRI: 2029",
          "CIV: 2100",
          "HRV: 2021",
          "CUB: 2037",
          "CYP: 2021",
          "CZE: 2021",
          "COD: 2100",
          "DNK: 2021",
          "DJI: 2062",
          "DMA: 2100",
          "DOM: 2026",
          "ECU: 2039",
          "EGY: 2036",
          "SLV: 2048",
          "GNQ: 2021",
          "ERI: 2073",
          "EST: 2021",
          "SWZ: 2058",
          "ETH: 2089",
          "FJI: 2038",
          "FIN: 2021",
          "FRA: 2021",
          "GAB: 2021",
          "GEO: 2025",
          "DEU: 2021",
          "GHA: 2100",
          "GRC: 2021",
          "GRD: 2100",
          "GTM: 2053",
          "GIN: 2075",
          "GNB: 2086",
          "GUY: 2021",
          "HTI: 2068",
          "VAT: 2100",
          "HND: 2059",
          "HUN: 2021",
          "ISL: 2021",
          "IND: 2043",
          "IDN: 2030",
          "IRN: 2021",
          "IRQ: 2031",
          "IRL: 2021",
          "ISR: 2021",
          "ITA: 2021",
          "JAM: 2040",
          "JPN: 2021",
          "JOR: 2058",
          "KAZ: 2021",
          "KEN: 2080",
          "KIR: 2100",
          "KWT: 2021",
          "KGZ: 2067",
          "LAO: 2037",
          "LVA: 2021",
          "LBN: 2032",
          "LSO: 2076",
          "LBR: 2095",
          "LBY: 2021",
          "LIE: 2100",
          "LTU: 2021",
          "LUX: 2021",
          "MKD: 2025",
          "MDG: 2092",
          "MWI: 2099",
          "MYS: 2021",
          "MDV: 2025",
          "MLI: 2100",
          "MLT: 2021",
          "MHL: 2100",
          "MRT: 2077",
          "MUS: 2024",
          "MEX: 2021",
          "FSM: 2100",
          "MDA: 2033",
          "MCO: 2100",
          "MNG: 2021",
          "MNE: 2021",
          "MAR: 2046",
          "MOZ: 2082",
          "MMR: 2059",
          "NAM: 2034",
          "NRU: 2100",
          "NPL: 2059",
          "NLD: 2021",
          "NZL: 2021",
          "NIC: 2049",
          "NER: 2100",
          "NGA: 2100",
          "NIU: 2100",
          "PRK: 2100",
          "NOR: 2021",
          "OMN: 2021",
          "PAK: 2072",
          "PLW: 2100",
          "PSE: 2100",
          "PAN: 2021",
          "PNG: 2076",
          "PRY: 2022",
          "PER: 2038",
          "PHL: 2048",
          "POL: 2021",
          "PRT: 2021",
          "QAT: 2021",
          "ROU: 2021",
          "RUS: 2021",
          "RWA: 2100",
          "KNA: 2100",
          "LCA: 2032",
          "VCT: 2030",
          "WSM: 2062",
          "SMR: 2100",
          "STP: 2097",
          "SAU: 2021",
          "SEN: 2100",
          "SRB: 2021",
          "SYC: 2100",
          "SLE: 2090",
          "SGP: 2021",
          "SVK: 2021",
          "SVN: 2021",
          "SLB: 2071",
          "SOM: 2100",
          "ZAF: 2021",
          "KOR: 2021",
          "SSD: 2100",
          "ESP: 2021",
          "LKA: 2048",
          "SDN: 2100",
          "SUR: 2021",
          "SWE: 2021",
          "CHE: 2021",
          "SYR: 2100",
          "TJK: 2089",
          "TZA: 2100",
          "THA: 2021",
          "BHS: 2021",
          "GMB: 2100",
          "TLS: 2066",
          "TGO: 2099",
          "TON: 2051",
          "TTO: 2021",
          "TUN: 2039",
          "TUR: 2021",
          "TKM: 2021",
          "TUV: 2100",
          "UGA: 2100",
          "UKR: 2023",
          "ARE: 2021",
          "GBR: 2021",
          "USA: 2021",
          "URY: 2021",
          "UZB: 2031",
          "VUT: 2066",
          "VEN: 2100",
          "VNM: 2027",
          "YEM: 2088",
          "ZMB: 2100",
          "ZWE: 2100"
         ],
         "type": "choropleth",
         "z": [
          2100,
          2029,
          2029,
          2100,
          2100,
          2100,
          2021,
          2027,
          2021,
          2021,
          2023,
          2021,
          2052,
          2024,
          2021,
          2021,
          2044,
          2100,
          2034,
          2040,
          2021,
          2025,
          2024,
          2021,
          2021,
          2100,
          2093,
          2046,
          2096,
          2021,
          2070,
          2089,
          2100,
          2021,
          2021,
          2029,
          2075,
          2081,
          2100,
          2029,
          2100,
          2021,
          2037,
          2021,
          2021,
          2100,
          2021,
          2062,
          2100,
          2026,
          2039,
          2036,
          2048,
          2021,
          2073,
          2021,
          2058,
          2089,
          2038,
          2021,
          2021,
          2021,
          2025,
          2021,
          2100,
          2021,
          2100,
          2053,
          2075,
          2086,
          2021,
          2068,
          2100,
          2059,
          2021,
          2021,
          2043,
          2030,
          2021,
          2031,
          2021,
          2021,
          2021,
          2040,
          2021,
          2058,
          2021,
          2080,
          2100,
          2021,
          2067,
          2037,
          2021,
          2032,
          2076,
          2095,
          2021,
          2100,
          2021,
          2021,
          2025,
          2092,
          2099,
          2021,
          2025,
          2100,
          2021,
          2100,
          2077,
          2024,
          2021,
          2100,
          2033,
          2100,
          2021,
          2021,
          2046,
          2082,
          2059,
          2034,
          2100,
          2059,
          2021,
          2021,
          2049,
          2100,
          2100,
          2100,
          2100,
          2021,
          2021,
          2072,
          2100,
          2100,
          2021,
          2076,
          2022,
          2038,
          2048,
          2021,
          2021,
          2021,
          2021,
          2021,
          2100,
          2100,
          2032,
          2030,
          2062,
          2100,
          2097,
          2021,
          2100,
          2021,
          2100,
          2090,
          2021,
          2021,
          2021,
          2071,
          2100,
          2021,
          2021,
          2100,
          2021,
          2048,
          2100,
          2021,
          2021,
          2021,
          2100,
          2089,
          2100,
          2021,
          2021,
          2100,
          2066,
          2099,
          2051,
          2021,
          2039,
          2021,
          2021,
          2100,
          2100,
          2023,
          2021,
          2021,
          2021,
          2021,
          2031,
          2066,
          2100,
          2027,
          2088,
          2100,
          2100
         ],
         "zmax": 2100,
         "zmin": 2020
        }
       ],
       "layout": {
        "annotations": [
         {
          "font": {
           "color": "black",
           "size": 20
          },
          "showarrow": false,
          "text": "<b>(a) Approach 1 (GDP)</b>",
          "x": 0.15,
          "xref": "paper",
          "y": 1.02,
          "yref": "paper"
         },
         {
          "font": {
           "color": "black",
           "size": 20
          },
          "showarrow": false,
          "text": "<b>(b) Approach 2",
          "x": 0.15,
          "xanchor": "left",
          "xref": "paper",
          "y": 0.52,
          "yref": "paper"
         }
        ],
        "geo": {
         "domain": {
          "x": [
           0,
           1
          ],
          "y": [
           0.5,
           1
          ]
         },
         "lakecolor": "rgb(255, 255, 255)",
         "landcolor": "lightgrey",
         "projection": {
          "type": "natural earth"
         },
         "resolution": 110,
         "showcoastlines": false,
         "showframe": false,
         "showlakes": false,
         "visible": true
        },
        "geo2": {
         "domain": {
          "x": [
           0,
           1
          ],
          "y": [
           0,
           0.5
          ]
         },
         "lakecolor": "rgb(255, 255, 255)",
         "landcolor": "lightgrey",
         "projection": {
          "type": "natural earth"
         },
         "resolution": 110,
         "showcoastlines": false,
         "showframe": false,
         "showlakes": false,
         "visible": true
        },
        "height": 1500,
        "template": {
         "data": {
          "bar": [
           {
            "error_x": {
             "color": "#2a3f5f"
            },
            "error_y": {
             "color": "#2a3f5f"
            },
            "marker": {
             "line": {
              "color": "#E5ECF6",
              "width": 0.5
             },
             "pattern": {
              "fillmode": "overlay",
              "size": 10,
              "solidity": 0.2
             }
            },
            "type": "bar"
           }
          ],
          "barpolar": [
           {
            "marker": {
             "line": {
              "color": "#E5ECF6",
              "width": 0.5
             },
             "pattern": {
              "fillmode": "overlay",
              "size": 10,
              "solidity": 0.2
             }
            },
            "type": "barpolar"
           }
          ],
          "carpet": [
           {
            "aaxis": {
             "endlinecolor": "#2a3f5f",
             "gridcolor": "white",
             "linecolor": "white",
             "minorgridcolor": "white",
             "startlinecolor": "#2a3f5f"
            },
            "baxis": {
             "endlinecolor": "#2a3f5f",
             "gridcolor": "white",
             "linecolor": "white",
             "minorgridcolor": "white",
             "startlinecolor": "#2a3f5f"
            },
            "type": "carpet"
           }
          ],
          "choropleth": [
           {
            "colorbar": {
             "outlinewidth": 0,
             "ticks": ""
            },
            "type": "choropleth"
           }
          ],
          "contour": [
           {
            "colorbar": {
             "outlinewidth": 0,
             "ticks": ""
            },
            "colorscale": [
             [
              0,
              "#0d0887"
             ],
             [
              0.1111111111111111,
              "#46039f"
             ],
             [
              0.2222222222222222,
              "#7201a8"
             ],
             [
              0.3333333333333333,
              "#9c179e"
             ],
             [
              0.4444444444444444,
              "#bd3786"
             ],
             [
              0.5555555555555556,
              "#d8576b"
             ],
             [
              0.6666666666666666,
              "#ed7953"
             ],
             [
              0.7777777777777778,
              "#fb9f3a"
             ],
             [
              0.8888888888888888,
              "#fdca26"
             ],
             [
              1,
              "#f0f921"
             ]
            ],
            "type": "contour"
           }
          ],
          "contourcarpet": [
           {
            "colorbar": {
             "outlinewidth": 0,
             "ticks": ""
            },
            "type": "contourcarpet"
           }
          ],
          "heatmap": [
           {
            "colorbar": {
             "outlinewidth": 0,
             "ticks": ""
            },
            "colorscale": [
             [
              0,
              "#0d0887"
             ],
             [
              0.1111111111111111,
              "#46039f"
             ],
             [
              0.2222222222222222,
              "#7201a8"
             ],
             [
              0.3333333333333333,
              "#9c179e"
             ],
             [
              0.4444444444444444,
              "#bd3786"
             ],
             [
              0.5555555555555556,
              "#d8576b"
             ],
             [
              0.6666666666666666,
              "#ed7953"
             ],
             [
              0.7777777777777778,
              "#fb9f3a"
             ],
             [
              0.8888888888888888,
              "#fdca26"
             ],
             [
              1,
              "#f0f921"
             ]
            ],
            "type": "heatmap"
           }
          ],
          "heatmapgl": [
           {
            "colorbar": {
             "outlinewidth": 0,
             "ticks": ""
            },
            "colorscale": [
             [
              0,
              "#0d0887"
             ],
             [
              0.1111111111111111,
              "#46039f"
             ],
             [
              0.2222222222222222,
              "#7201a8"
             ],
             [
              0.3333333333333333,
              "#9c179e"
             ],
             [
              0.4444444444444444,
              "#bd3786"
             ],
             [
              0.5555555555555556,
              "#d8576b"
             ],
             [
              0.6666666666666666,
              "#ed7953"
             ],
             [
              0.7777777777777778,
              "#fb9f3a"
             ],
             [
              0.8888888888888888,
              "#fdca26"
             ],
             [
              1,
              "#f0f921"
             ]
            ],
            "type": "heatmapgl"
           }
          ],
          "histogram": [
           {
            "marker": {
             "pattern": {
              "fillmode": "overlay",
              "size": 10,
              "solidity": 0.2
             }
            },
            "type": "histogram"
           }
          ],
          "histogram2d": [
           {
            "colorbar": {
             "outlinewidth": 0,
             "ticks": ""
            },
            "colorscale": [
             [
              0,
              "#0d0887"
             ],
             [
              0.1111111111111111,
              "#46039f"
             ],
             [
              0.2222222222222222,
              "#7201a8"
             ],
             [
              0.3333333333333333,
              "#9c179e"
             ],
             [
              0.4444444444444444,
              "#bd3786"
             ],
             [
              0.5555555555555556,
              "#d8576b"
             ],
             [
              0.6666666666666666,
              "#ed7953"
             ],
             [
              0.7777777777777778,
              "#fb9f3a"
             ],
             [
              0.8888888888888888,
              "#fdca26"
             ],
             [
              1,
              "#f0f921"
             ]
            ],
            "type": "histogram2d"
           }
          ],
          "histogram2dcontour": [
           {
            "colorbar": {
             "outlinewidth": 0,
             "ticks": ""
            },
            "colorscale": [
             [
              0,
              "#0d0887"
             ],
             [
              0.1111111111111111,
              "#46039f"
             ],
             [
              0.2222222222222222,
              "#7201a8"
             ],
             [
              0.3333333333333333,
              "#9c179e"
             ],
             [
              0.4444444444444444,
              "#bd3786"
             ],
             [
              0.5555555555555556,
              "#d8576b"
             ],
             [
              0.6666666666666666,
              "#ed7953"
             ],
             [
              0.7777777777777778,
              "#fb9f3a"
             ],
             [
              0.8888888888888888,
              "#fdca26"
             ],
             [
              1,
              "#f0f921"
             ]
            ],
            "type": "histogram2dcontour"
           }
          ],
          "mesh3d": [
           {
            "colorbar": {
             "outlinewidth": 0,
             "ticks": ""
            },
            "type": "mesh3d"
           }
          ],
          "parcoords": [
           {
            "line": {
             "colorbar": {
              "outlinewidth": 0,
              "ticks": ""
             }
            },
            "type": "parcoords"
           }
          ],
          "pie": [
           {
            "automargin": true,
            "type": "pie"
           }
          ],
          "scatter": [
           {
            "fillpattern": {
             "fillmode": "overlay",
             "size": 10,
             "solidity": 0.2
            },
            "type": "scatter"
           }
          ],
          "scatter3d": [
           {
            "line": {
             "colorbar": {
              "outlinewidth": 0,
              "ticks": ""
             }
            },
            "marker": {
             "colorbar": {
              "outlinewidth": 0,
              "ticks": ""
             }
            },
            "type": "scatter3d"
           }
          ],
          "scattercarpet": [
           {
            "marker": {
             "colorbar": {
              "outlinewidth": 0,
              "ticks": ""
             }
            },
            "type": "scattercarpet"
           }
          ],
          "scattergeo": [
           {
            "marker": {
             "colorbar": {
              "outlinewidth": 0,
              "ticks": ""
             }
            },
            "type": "scattergeo"
           }
          ],
          "scattergl": [
           {
            "marker": {
             "colorbar": {
              "outlinewidth": 0,
              "ticks": ""
             }
            },
            "type": "scattergl"
           }
          ],
          "scattermapbox": [
           {
            "marker": {
             "colorbar": {
              "outlinewidth": 0,
              "ticks": ""
             }
            },
            "type": "scattermapbox"
           }
          ],
          "scatterpolar": [
           {
            "marker": {
             "colorbar": {
              "outlinewidth": 0,
              "ticks": ""
             }
            },
            "type": "scatterpolar"
           }
          ],
          "scatterpolargl": [
           {
            "marker": {
             "colorbar": {
              "outlinewidth": 0,
              "ticks": ""
             }
            },
            "type": "scatterpolargl"
           }
          ],
          "scatterternary": [
           {
            "marker": {
             "colorbar": {
              "outlinewidth": 0,
              "ticks": ""
             }
            },
            "type": "scatterternary"
           }
          ],
          "surface": [
           {
            "colorbar": {
             "outlinewidth": 0,
             "ticks": ""
            },
            "colorscale": [
             [
              0,
              "#0d0887"
             ],
             [
              0.1111111111111111,
              "#46039f"
             ],
             [
              0.2222222222222222,
              "#7201a8"
             ],
             [
              0.3333333333333333,
              "#9c179e"
             ],
             [
              0.4444444444444444,
              "#bd3786"
             ],
             [
              0.5555555555555556,
              "#d8576b"
             ],
             [
              0.6666666666666666,
              "#ed7953"
             ],
             [
              0.7777777777777778,
              "#fb9f3a"
             ],
             [
              0.8888888888888888,
              "#fdca26"
             ],
             [
              1,
              "#f0f921"
             ]
            ],
            "type": "surface"
           }
          ],
          "table": [
           {
            "cells": {
             "fill": {
              "color": "#EBF0F8"
             },
             "line": {
              "color": "white"
             }
            },
            "header": {
             "fill": {
              "color": "#C8D4E3"
             },
             "line": {
              "color": "white"
             }
            },
            "type": "table"
           }
          ]
         },
         "layout": {
          "annotationdefaults": {
           "arrowcolor": "#2a3f5f",
           "arrowhead": 0,
           "arrowwidth": 1
          },
          "autotypenumbers": "strict",
          "coloraxis": {
           "colorbar": {
            "outlinewidth": 0,
            "ticks": ""
           }
          },
          "colorscale": {
           "diverging": [
            [
             0,
             "#8e0152"
            ],
            [
             0.1,
             "#c51b7d"
            ],
            [
             0.2,
             "#de77ae"
            ],
            [
             0.3,
             "#f1b6da"
            ],
            [
             0.4,
             "#fde0ef"
            ],
            [
             0.5,
             "#f7f7f7"
            ],
            [
             0.6,
             "#e6f5d0"
            ],
            [
             0.7,
             "#b8e186"
            ],
            [
             0.8,
             "#7fbc41"
            ],
            [
             0.9,
             "#4d9221"
            ],
            [
             1,
             "#276419"
            ]
           ],
           "sequential": [
            [
             0,
             "#0d0887"
            ],
            [
             0.1111111111111111,
             "#46039f"
            ],
            [
             0.2222222222222222,
             "#7201a8"
            ],
            [
             0.3333333333333333,
             "#9c179e"
            ],
            [
             0.4444444444444444,
             "#bd3786"
            ],
            [
             0.5555555555555556,
             "#d8576b"
            ],
            [
             0.6666666666666666,
             "#ed7953"
            ],
            [
             0.7777777777777778,
             "#fb9f3a"
            ],
            [
             0.8888888888888888,
             "#fdca26"
            ],
            [
             1,
             "#f0f921"
            ]
           ],
           "sequentialminus": [
            [
             0,
             "#0d0887"
            ],
            [
             0.1111111111111111,
             "#46039f"
            ],
            [
             0.2222222222222222,
             "#7201a8"
            ],
            [
             0.3333333333333333,
             "#9c179e"
            ],
            [
             0.4444444444444444,
             "#bd3786"
            ],
            [
             0.5555555555555556,
             "#d8576b"
            ],
            [
             0.6666666666666666,
             "#ed7953"
            ],
            [
             0.7777777777777778,
             "#fb9f3a"
            ],
            [
             0.8888888888888888,
             "#fdca26"
            ],
            [
             1,
             "#f0f921"
            ]
           ]
          },
          "colorway": [
           "#636efa",
           "#EF553B",
           "#00cc96",
           "#ab63fa",
           "#FFA15A",
           "#19d3f3",
           "#FF6692",
           "#B6E880",
           "#FF97FF",
           "#FECB52"
          ],
          "font": {
           "color": "#2a3f5f"
          },
          "geo": {
           "bgcolor": "white",
           "lakecolor": "white",
           "landcolor": "#E5ECF6",
           "showlakes": true,
           "showland": true,
           "subunitcolor": "white"
          },
          "hoverlabel": {
           "align": "left"
          },
          "hovermode": "closest",
          "mapbox": {
           "style": "light"
          },
          "paper_bgcolor": "white",
          "plot_bgcolor": "#E5ECF6",
          "polar": {
           "angularaxis": {
            "gridcolor": "white",
            "linecolor": "white",
            "ticks": ""
           },
           "bgcolor": "#E5ECF6",
           "radialaxis": {
            "gridcolor": "white",
            "linecolor": "white",
            "ticks": ""
           }
          },
          "scene": {
           "xaxis": {
            "backgroundcolor": "#E5ECF6",
            "gridcolor": "white",
            "gridwidth": 2,
            "linecolor": "white",
            "showbackground": true,
            "ticks": "",
            "zerolinecolor": "white"
           },
           "yaxis": {
            "backgroundcolor": "#E5ECF6",
            "gridcolor": "white",
            "gridwidth": 2,
            "linecolor": "white",
            "showbackground": true,
            "ticks": "",
            "zerolinecolor": "white"
           },
           "zaxis": {
            "backgroundcolor": "#E5ECF6",
            "gridcolor": "white",
            "gridwidth": 2,
            "linecolor": "white",
            "showbackground": true,
            "ticks": "",
            "zerolinecolor": "white"
           }
          },
          "shapedefaults": {
           "line": {
            "color": "#2a3f5f"
           }
          },
          "ternary": {
           "aaxis": {
            "gridcolor": "white",
            "linecolor": "white",
            "ticks": ""
           },
           "baxis": {
            "gridcolor": "white",
            "linecolor": "white",
            "ticks": ""
           },
           "bgcolor": "#E5ECF6",
           "caxis": {
            "gridcolor": "white",
            "linecolor": "white",
            "ticks": ""
           }
          },
          "title": {
           "x": 0.05
          },
          "xaxis": {
           "automargin": true,
           "gridcolor": "white",
           "linecolor": "white",
           "ticks": "",
           "title": {
            "standoff": 15
           },
           "zerolinecolor": "white",
           "zerolinewidth": 2
          },
          "yaxis": {
           "automargin": true,
           "gridcolor": "white",
           "linecolor": "white",
           "ticks": "",
           "title": {
            "standoff": 15
           },
           "zerolinecolor": "white",
           "zerolinewidth": 2
          }
         }
        },
        "width": 1450
       }
      }
     },
     "metadata": {},
     "output_type": "display_data"
    }
   ],
   "source": [
    "fig = make_subplots(rows=2, cols=1,\n",
    "                    specs=[[{'type': 'choropleth'}],\n",
    "                           [{'type': 'choropleth'}]],\n",
    "                    horizontal_spacing = 0., vertical_spacing=0.0)\n",
    "\n",
    "for i in range(2):\n",
    "    dath = [list_year1, list_year2][i]\n",
    "    dat = np.array(dath)\n",
    "    scale = 'Spectral'\n",
    "    dc = dict(orientation='h', x=0.35, y=0.52, xanchor='left', yanchor='bottom', title='<b>Year of 50% reduction', tickvals=np.arange(2020, 2101, 10),\n",
    "                        tickfont=dict(size=14),\n",
    "                        len=0.4, lenmode='fraction', thickness=20, thicknessmode='pixels', titlefont=dict(size=14))\n",
    "    #Grey out nans\n",
    "    fig.add_trace(go.Choropleth(\n",
    "            locations=['ATA'],\n",
    "            z = [0.5],\n",
    "            locationmode = 'ISO-3',\n",
    "            colorscale ='Greys',\n",
    "            zmax = 4.5,\n",
    "            zmin = 0.5,\n",
    "            text = ['hoi'],\n",
    "            hovertemplate  = '%{text}',\n",
    "            name=\"\",\n",
    "            marker_line_color='black', \n",
    "            marker_line_width=0,\n",
    "            showscale=False,\n",
    "        ), [1, 2][i], 1)\n",
    "    \n",
    "    \n",
    "    fig.add_trace(go.Choropleth(\n",
    "            locations=list_cty,\n",
    "            z = dat,\n",
    "            locationmode = 'ISO-3',\n",
    "            colorscale = scale,\n",
    "            zmax = 2100,\n",
    "            zmin = 2020,\n",
    "            text = [str(r)+\": \"+str(np.round(dat[r_i], 1)) for r_i, r in enumerate(list_cty)],\n",
    "            hovertemplate  = '%{text}',\n",
    "            name=\"\",\n",
    "            colorbar=dc,\n",
    "            marker_line_color='black', \n",
    "            marker_line_width=1,\n",
    "            showscale=[True, False][i],\n",
    "        ), [1, 2][i], 1)\n",
    "\n",
    "fs=20\n",
    "fig['layout'].update(\n",
    "    annotations=[dict(x=0.15, y=1.02, text='<b>(a) Approach 1 (GDP)</b>', xref='paper', yref='paper', showarrow=False, font=dict(color='black', size=fs)),\n",
    "                 dict(x=0.15, y=0.52, text='<b>(b) Approach 2', xref='paper', yref='paper', xanchor='left', showarrow=False, font=dict(color='black', size=fs)),\n",
    "                 ])\n",
    "\n",
    "fig.update_geos(visible=True,\n",
    "                showlakes=False,\n",
    "                lakecolor='rgb(255, 255, 255)',\n",
    "                projection_type='natural earth',\n",
    "                showframe=False,\n",
    "                resolution=110,\n",
    "                landcolor=\"lightgrey\",\n",
    "                showcoastlines=False,)\n",
    "fig.update_traces(colorbar=dict(\n",
    "    title=dict(\n",
    "        side=\"bottom\"\n",
    "    )\n",
    "))\n",
    "\n",
    "fig.update_layout(height=1500, width=1450)\n",
    "fig.write_image(path_figs / \"Figure_3.png\", scale=5)\n",
    "fig.show()"
   ]
  }
 ],
 "metadata": {
  "kernelspec": {
   "display_name": "Python 3",
   "language": "python",
   "name": "python3"
  },
  "language_info": {
   "codemirror_mode": {
    "name": "ipython",
    "version": 3
   },
   "file_extension": ".py",
   "mimetype": "text/x-python",
   "name": "python",
   "nbconvert_exporter": "python",
   "pygments_lexer": "ipython3",
   "version": "3.12.5"
  },
  "orig_nbformat": 4
 },
 "nbformat": 4,
 "nbformat_minor": 2
}
