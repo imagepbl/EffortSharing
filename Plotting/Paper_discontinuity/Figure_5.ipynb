{
 "cells": [
  {
   "attachments": {},
   "cell_type": "markdown",
   "metadata": {},
   "source": [
    "## Preambule"
   ]
  },
  {
   "cell_type": "code",
   "execution_count": 1,
   "metadata": {},
   "outputs": [],
   "source": [
    "# General packages\n",
    "import numpy as np\n",
    "import pandas as pd\n",
    "from tqdm import tqdm\n",
    "from pathlib import Path\n",
    "import xarray as xr\n",
    "import json\n",
    "\n",
    "# Plotting\n",
    "import matplotlib.pyplot as plt\n",
    "import plotly.express as px\n",
    "import plotly.graph_objects as go\n",
    "from plotly.subplots import make_subplots\n",
    "from plotly.colors import n_colors"
   ]
  },
  {
   "cell_type": "code",
   "execution_count": 2,
   "metadata": {},
   "outputs": [],
   "source": [
    "import json\n",
    "f = open('X:/user/dekkerm/Data/Maps/Somaliland.json', encoding='utf8')\n",
    "somaliland_data = json.load(f)"
   ]
  },
  {
   "attachments": {},
   "cell_type": "markdown",
   "metadata": {},
   "source": [
    "## Paths"
   ]
  },
  {
   "cell_type": "code",
   "execution_count": 3,
   "metadata": {},
   "outputs": [],
   "source": [
    "path_data = Path(\"K:/Data/Data_effortsharing/DataUpdate_ongoing/startyear_2021/\")\n",
    "path_data_gen = Path(\"K:/Data/Data_effortsharing/DataUpdate_ongoing/\")\n",
    "path_figs = Path(\"K:/Code/effort-sharing/\") / \"Figures\" / \"Paper_Robiou2023\""
   ]
  },
  {
   "attachments": {},
   "cell_type": "markdown",
   "metadata": {},
   "source": [
    "## Read data files"
   ]
  },
  {
   "cell_type": "code",
   "execution_count": 4,
   "metadata": {},
   "outputs": [],
   "source": [
    "xr_dataread = xr.open_dataset(path_data / \"xr_dataread.nc\")\n",
    "xr_combs = xr.open_dataset(path_data / \"xr_comb_GHG_excl.nc\")\n",
    "xr_temps = xr.open_dataset(path_data / \"xr_combtemps_GHG_excl.nc\")\n",
    "all_regions_iso = np.load(path_data_gen / \"all_regions.npy\")\n",
    "all_regions_names = np.array(list(np.load(path_data_gen / \"all_regions_names.npy\")[:-1])+['Earth']) # Only in old xr_dataread version, should be updated when reran\n",
    "all_countries_iso = np.load(path_data_gen / \"all_countries.npy\", allow_pickle=True)\n",
    "all_countries_names = np.load(path_data_gen / \"all_countries_names.npy\", allow_pickle=True)\n",
    "only_regions_iso = ['CVF', 'G20', \"EU\", \"G7\", \"NA\", \"AU\", \"AF\", \"SIDS\", \"LDC\", \"WORLD\"]\n",
    "only_regions_names = ['Climate Vulnerability Forum','G20',\"European Union\",\"G7\",\"Northern America\",\"Australasia\",\"African Group\",\"Small Island Developing States\",\"Least Developed Countries\", 'World']"
   ]
  },
  {
   "cell_type": "code",
   "execution_count": 5,
   "metadata": {},
   "outputs": [],
   "source": [
    "df_g = pd.read_excel(Path(\"X:/user/dekkerm/Data/\") / \"UNFCCC_Parties_Groups_noeu.xlsx\", sheet_name = \"Country groups\")\n",
    "countries_iso = np.array(df_g[\"Country ISO Code\"])\n",
    "countries_name = np.array(df_g[\"Name\"])\n",
    "countries_iso = np.array(df_g[\"Country ISO Code\"])\n",
    "group_cvf = countries_iso[np.array(df_g[\"CVF (24/10/22)\"]) == 1]\n",
    "group_g20 = countries_iso[np.array(df_g[\"G20\"]) == 1]\n",
    "group_eu = countries_iso[np.array(df_g[\"EU\"]) == 1]\n",
    "group_g7 = countries_iso[np.array(df_g[\"G7\"]) == 1]\n",
    "group_na = countries_iso[np.array(df_g[\"Northern America\"]) == 1]\n",
    "group_um = countries_iso[np.array(df_g[\"Umbrella\"]) == 1]\n",
    "group_au = countries_iso[np.array(df_g[\"Australasia\"]) == 1]\n",
    "group_af = countries_iso[np.array(df_g[\"African Group\"]) == 1]\n",
    "group_sids = countries_iso[np.array(df_g[\"SIDS\"]) == 1]\n",
    "group_ldc = countries_iso[np.array(df_g[\"LDC\"]) == 1]\n",
    "group_eg = countries_iso[np.array(df_g[\"European Group\"]) == 1]\n",
    "group_world = np.copy(countries_iso)"
   ]
  },
  {
   "cell_type": "code",
   "execution_count": 6,
   "metadata": {},
   "outputs": [],
   "source": [
    "#temps_1 = xr_temps.PC.sel(Time=2030, Discount_factor=0, Historical_startyear=1990, Risk=0.5, Scenario='SSP2', Conditionality='unconditional', Hot_air='include').mean(dim='Ambition')\n",
    "temps_1 = xr_temps.PC.sel(Time=2030, Risk=0.5, Scenario='SSP2', Conditionality='unconditional', Hot_air='include').mean(dim='Ambition')\n",
    "\n",
    "#temps_2 = xr_temps.Approach2.sel(Time=2030, Discount_factor=0, Historical_startyear=1990, Risk=0.5, Scenario='SSP2').mean(dim=['Conditionality', 'Ambition'])"
   ]
  },
  {
   "cell_type": "code",
   "execution_count": null,
   "metadata": {},
   "outputs": [],
   "source": []
  },
  {
   "cell_type": "markdown",
   "metadata": {},
   "source": [
    "## Plot"
   ]
  },
  {
   "cell_type": "code",
   "execution_count": 8,
   "metadata": {},
   "outputs": [
    {
     "data": {
      "application/vnd.plotly.v1+json": {
       "config": {
        "plotlyServerURL": "https://plot.ly"
       },
       "data": [
        {
         "colorbar": {
          "title": {
           "side": "bottom"
          }
         },
         "colorscale": [
          [
           0,
           "rgb(255,255,255)"
          ],
          [
           0.125,
           "rgb(240,240,240)"
          ],
          [
           0.25,
           "rgb(217,217,217)"
          ],
          [
           0.375,
           "rgb(189,189,189)"
          ],
          [
           0.5,
           "rgb(150,150,150)"
          ],
          [
           0.625,
           "rgb(115,115,115)"
          ],
          [
           0.75,
           "rgb(82,82,82)"
          ],
          [
           0.875,
           "rgb(37,37,37)"
          ],
          [
           1,
           "rgb(0,0,0)"
          ]
         ],
         "geo": "geo",
         "hovertemplate": "%{text}",
         "locationmode": "ISO-3",
         "locations": [
          "ATA"
         ],
         "marker": {
          "line": {
           "color": "black",
           "width": 0
          }
         },
         "name": "",
         "showscale": false,
         "text": [
          "hoi"
         ],
         "type": "choropleth",
         "z": [
          0.5
         ],
         "zmax": 4.5,
         "zmin": 0.5
        },
        {
         "colorbar": {
          "len": 0.4,
          "lenmode": "fraction",
          "orientation": "h",
          "thickness": 20,
          "thicknessmode": "pixels",
          "tickfont": {
           "size": 14
          },
          "ticktext": [
           "1.0  &deg;C",
           "1.5  &deg;C",
           "2.0 &deg;C",
           "2.5 &deg;C",
           "3.0 &deg;C",
           "3.5 &deg;C",
           "4.0 &deg;C"
          ],
          "tickvals": [
           1,
           1.5,
           2,
           2.5,
           3,
           3.5,
           4
          ],
          "title": {
           "font": {
            "size": 14
           },
           "side": "bottom",
           "text": "<b>Climate target"
          },
          "x": 0.35,
          "xanchor": "left",
          "y": 0,
          "yanchor": "bottom"
         },
         "colorscale": [
          [
           0,
           "rgb(0,104,55)"
          ],
          [
           0.1,
           "rgb(26,152,80)"
          ],
          [
           0.2,
           "rgb(102,189,99)"
          ],
          [
           0.3,
           "rgb(166,217,106)"
          ],
          [
           0.4,
           "rgb(217,239,139)"
          ],
          [
           0.5,
           "rgb(255,255,191)"
          ],
          [
           0.6,
           "rgb(254,224,139)"
          ],
          [
           0.7,
           "rgb(253,174,97)"
          ],
          [
           0.8,
           "rgb(244,109,67)"
          ],
          [
           0.9,
           "rgb(215,48,39)"
          ],
          [
           1,
           "rgb(165,0,38)"
          ]
         ],
         "geo": "geo",
         "hovertemplate": "%{text}",
         "locationmode": "ISO-3",
         "locations": [
          "AFG",
          "ALB",
          "DZA",
          "AND",
          "AGO",
          "ATG",
          "ARG",
          "ARM",
          "AUS",
          "AUT",
          "AZE",
          "BHR",
          "BGD",
          "BRB",
          "BLR",
          "BEL",
          "BLZ",
          "BEN",
          "BTN",
          "BOL",
          "BIH",
          "BWA",
          "BRA",
          "BRN",
          "BGR",
          "BFA",
          "BDI",
          "KHM",
          "CMR",
          "CAN",
          "CPV",
          "CAF",
          "TCD",
          "CHL",
          "CHN",
          "COL",
          "COM",
          "COG",
          "COK",
          "CRI",
          "CIV",
          "HRV",
          "CUB",
          "CYP",
          "CZE",
          "COD",
          "DNK",
          "DJI",
          "DMA",
          "DOM",
          "ECU",
          "EGY",
          "SLV",
          "GNQ",
          "ERI",
          "EST",
          "SWZ",
          "ETH",
          "FJI",
          "FIN",
          "FRA",
          "GAB",
          "GEO",
          "DEU",
          "GHA",
          "GRC",
          "GRD",
          "GTM",
          "GIN",
          "GNB",
          "GUY",
          "HTI",
          "VAT",
          "HND",
          "HUN",
          "ISL",
          "IND",
          "IDN",
          "IRN",
          "IRQ",
          "IRL",
          "ISR",
          "ITA",
          "JAM",
          "JPN",
          "JOR",
          "KAZ",
          "KEN",
          "KIR",
          "KWT",
          "KGZ",
          "LAO",
          "LVA",
          "LBN",
          "LSO",
          "LBR",
          "LBY",
          "LIE",
          "LTU",
          "LUX",
          "MKD",
          "MDG",
          "MWI",
          "MYS",
          "MDV",
          "MLI",
          "MLT",
          "MHL",
          "MRT",
          "MUS",
          "MEX",
          "FSM",
          "MDA",
          "MCO",
          "MNG",
          "MNE",
          "MAR",
          "MOZ",
          "MMR",
          "NAM",
          "NRU",
          "NPL",
          "NLD",
          "NZL",
          "NIC",
          "NER",
          "NGA",
          "NIU",
          "PRK",
          "NOR",
          "OMN",
          "PAK",
          "PLW",
          "PSE",
          "PAN",
          "PNG",
          "PRY",
          "PER",
          "PHL",
          "POL",
          "PRT",
          "QAT",
          "ROU",
          "RUS",
          "RWA",
          "KNA",
          "LCA",
          "VCT",
          "WSM",
          "SMR",
          "STP",
          "SAU",
          "SEN",
          "SRB",
          "SYC",
          "SLE",
          "SGP",
          "SVK",
          "SVN",
          "SLB",
          "SOM",
          "ZAF",
          "KOR",
          "SSD",
          "ESP",
          "LKA",
          "SDN",
          "SUR",
          "SWE",
          "CHE",
          "SYR",
          "TJK",
          "TZA",
          "THA",
          "BHS",
          "GMB",
          "TLS",
          "TGO",
          "TON",
          "TTO",
          "TUN",
          "TUR",
          "TKM",
          "TUV",
          "UGA",
          "UKR",
          "ARE",
          "GBR",
          "USA",
          "URY",
          "UZB",
          "VUT",
          "VEN",
          "VNM",
          "YEM",
          "ZMB",
          "ZWE",
          "EU",
          "EARTH",
          "G20",
          "G7",
          "SIDS",
          "LDC",
          "Northern America",
          "Australasia",
          "African Group",
          "Umbrella"
         ],
         "marker": {
          "line": {
           "color": "black",
           "width": 1
          }
         },
         "name": "",
         "showscale": true,
         "text": [
          "AFG: 1.3 &deg;C",
          "ALB: 1.7 &deg;C",
          "DZA: 1.8 &deg;C",
          "AND: nan &deg;C",
          "AGO: 1.5 &deg;C",
          "ATG: 3.7 &deg;C",
          "ARG: 2.6 &deg;C",
          "ARM: 2.0 &deg;C",
          "AUS: 4.5 &deg;C",
          "AUT: 2.1 &deg;C",
          "AZE: 2.2 &deg;C",
          "BHR: 4.5 &deg;C",
          "BGD: 1.5 &deg;C",
          "BRB: 1.7 &deg;C",
          "BLR: 4.5 &deg;C",
          "BEL: 2.6 &deg;C",
          "BLZ: 1.7 &deg;C",
          "BEN: 1.4 &deg;C",
          "BTN: 1.9 &deg;C",
          "BOL: 4.5 &deg;C",
          "BIH: 3.3 &deg;C",
          "BWA: 2.5 &deg;C",
          "BRA: 1.8 &deg;C",
          "BRN: 4.5 &deg;C",
          "BGR: 2.1 &deg;C",
          "BFA: 1.6 &deg;C",
          "BDI: 1.3 &deg;C",
          "KHM: 1.7 &deg;C",
          "CMR: 1.6 &deg;C",
          "CAN: 4.5 &deg;C",
          "CPV: 1.4 &deg;C",
          "CAF: 1.5 &deg;C",
          "TCD: 1.6 &deg;C",
          "CHL: 1.7 &deg;C",
          "CHN: 4.5 &deg;C",
          "COL: 1.6 &deg;C",
          "COM: 1.3 &deg;C",
          "COG: 1.4 &deg;C",
          "COK: nan &deg;C",
          "CRI: 1.5 &deg;C",
          "CIV: 1.4 &deg;C",
          "HRV: 2.3 &deg;C",
          "CUB: 1.8 &deg;C",
          "CYP: 1.6 &deg;C",
          "CZE: 3.7 &deg;C",
          "COD: 1.5 &deg;C",
          "DNK: 2.1 &deg;C",
          "DJI: 1.5 &deg;C",
          "DMA: nan &deg;C",
          "DOM: 1.7 &deg;C",
          "ECU: 1.7 &deg;C",
          "EGY: 1.8 &deg;C",
          "SLV: 1.5 &deg;C",
          "GNQ: 4.5 &deg;C",
          "ERI: 1.6 &deg;C",
          "EST: 4.0 &deg;C",
          "SWZ: 2.3 &deg;C",
          "ETH: 1.4 &deg;C",
          "FJI: 1.6 &deg;C",
          "FIN: 4.5 &deg;C",
          "FRA: 1.8 &deg;C",
          "GAB: 1.4 &deg;C",
          "GEO: 1.6 &deg;C",
          "DEU: 2.1 &deg;C",
          "GHA: 1.4 &deg;C",
          "GRC: 3.0 &deg;C",
          "GRD: 1.6 &deg;C",
          "GTM: 1.6 &deg;C",
          "GIN: 1.6 &deg;C",
          "GNB: 1.8 &deg;C",
          "GUY: 4.5 &deg;C",
          "HTI: 1.4 &deg;C",
          "VAT: nan &deg;C",
          "HND: 1.5 &deg;C",
          "HUN: 2.2 &deg;C",
          "ISL: 1.7 &deg;C",
          "IND: 1.6 &deg;C",
          "IDN: 1.7 &deg;C",
          "IRN: 4.5 &deg;C",
          "IRQ: 4.5 &deg;C",
          "IRL: 4.4 &deg;C",
          "ISR: 2.3 &deg;C",
          "ITA: 1.9 &deg;C",
          "JAM: 1.6 &deg;C",
          "JPN: 2.4 &deg;C",
          "JOR: 1.6 &deg;C",
          "KAZ: 4.5 &deg;C",
          "KEN: 1.5 &deg;C",
          "KIR: 1.3 &deg;C",
          "KWT: 4.5 &deg;C",
          "KGZ: 1.6 &deg;C",
          "LAO: 1.6 &deg;C",
          "LVA: 2.9 &deg;C",
          "LBN: 1.8 &deg;C",
          "LSO: 1.5 &deg;C",
          "LBR: 1.5 &deg;C",
          "LBY: 1.3 &deg;C",
          "LIE: nan &deg;C",
          "LTU: 3.3 &deg;C",
          "LUX: 4.5 &deg;C",
          "MKD: 1.6 &deg;C",
          "MDG: 1.3 &deg;C",
          "MWI: 1.3 &deg;C",
          "MYS: 4.5 &deg;C",
          "MDV: 2.1 &deg;C",
          "MLI: 1.6 &deg;C",
          "MLT: 1.6 &deg;C",
          "MHL: nan &deg;C",
          "MRT: 1.6 &deg;C",
          "MUS: 2.1 &deg;C",
          "MEX: 2.1 &deg;C",
          "FSM: 1.3 &deg;C",
          "MDA: 1.7 &deg;C",
          "MCO: nan &deg;C",
          "MNG: 4.5 &deg;C",
          "MNE: 1.9 &deg;C",
          "MAR: 1.6 &deg;C",
          "MOZ: 1.5 &deg;C",
          "MMR: 1.5 &deg;C",
          "NAM: 1.6 &deg;C",
          "NRU: nan &deg;C",
          "NPL: 1.4 &deg;C",
          "NLD: 2.8 &deg;C",
          "NZL: 4.5 &deg;C",
          "NIC: 4.5 &deg;C",
          "NER: 1.5 &deg;C",
          "NGA: 1.4 &deg;C",
          "NIU: nan &deg;C",
          "PRK: 3.5 &deg;C",
          "NOR: 3.7 &deg;C",
          "OMN: 4.5 &deg;C",
          "PAK: 1.8 &deg;C",
          "PLW: nan &deg;C",
          "PSE: 1.5 &deg;C",
          "PAN: 2.5 &deg;C",
          "PNG: 1.4 &deg;C",
          "PRY: 4.5 &deg;C",
          "PER: 1.6 &deg;C",
          "PHL: 1.6 &deg;C",
          "POL: 2.9 &deg;C",
          "PRT: 2.1 &deg;C",
          "QAT: 4.5 &deg;C",
          "ROU: 2.0 &deg;C",
          "RUS: 4.5 &deg;C",
          "RWA: 1.3 &deg;C",
          "KNA: nan &deg;C",
          "LCA: 1.7 &deg;C",
          "VCT: 2.3 &deg;C",
          "WSM: 1.5 &deg;C",
          "SMR: nan &deg;C",
          "STP: 1.4 &deg;C",
          "SAU: 3.8 &deg;C",
          "SEN: 1.4 &deg;C",
          "SRB: 4.5 &deg;C",
          "SYC: 4.5 &deg;C",
          "SLE: 1.4 &deg;C",
          "SGP: 4.5 &deg;C",
          "SVK: 1.9 &deg;C",
          "SVN: 2.9 &deg;C",
          "SLB: 1.3 &deg;C",
          "SOM: 1.8 &deg;C",
          "ZAF: 4.5 &deg;C",
          "KOR: 4.3 &deg;C",
          "SSD: 1.7 &deg;C",
          "ESP: 1.9 &deg;C",
          "LKA: 1.5 &deg;C",
          "SDN: 1.6 &deg;C",
          "SUR: 4.5 &deg;C",
          "SWE: 1.8 &deg;C",
          "CHE: 1.6 &deg;C",
          "SYR: 1.6 &deg;C",
          "TJK: 1.5 &deg;C",
          "TZA: 1.4 &deg;C",
          "THA: 1.9 &deg;C",
          "BHS: 4.5 &deg;C",
          "GMB: 1.4 &deg;C",
          "TLS: 1.6 &deg;C",
          "TGO: 1.4 &deg;C",
          "TON: 1.5 &deg;C",
          "TTO: 4.5 &deg;C",
          "TUN: 1.8 &deg;C",
          "TUR: 4.5 &deg;C",
          "TKM: 4.5 &deg;C",
          "TUV: nan &deg;C",
          "UGA: 1.4 &deg;C",
          "UKR: 3.3 &deg;C",
          "ARE: 4.5 &deg;C",
          "GBR: 1.7 &deg;C",
          "USA: 4.5 &deg;C",
          "URY: 4.5 &deg;C",
          "UZB: 4.5 &deg;C",
          "VUT: 1.4 &deg;C",
          "VEN: 4.5 &deg;C",
          "VNM: 3.9 &deg;C",
          "YEM: 1.3 &deg;C",
          "ZMB: 1.6 &deg;C",
          "ZWE: 1.5 &deg;C",
          "EU: 2.1 &deg;C",
          "EARTH: nan &deg;C",
          "G20: 3.3 &deg;C",
          "G7: 3.6 &deg;C",
          "SIDS: nan &deg;C",
          "LDC: nan &deg;C",
          "Northern America: 4.5 &deg;C",
          "Australasia: 4.5 &deg;C",
          "African Group: 1.6 &deg;C",
          "Umbrella: 4.5 &deg;C"
         ],
         "type": "choropleth",
         "z": [
          1.3449224771546442,
          1.6821314044235605,
          1.8062669721047135,
          null,
          1.4865770940101055,
          3.7343104256305395,
          2.634053858633088,
          2.0027786547025537,
          4.47854895640311,
          2.0503701081327446,
          2.1680399798776673,
          4.47854895640311,
          1.4650203375023432,
          1.7092291250373044,
          4.47854895640311,
          2.55560322062672,
          1.7237812873041918,
          1.446854134325531,
          1.9252160155837448,
          4.47854895640311,
          3.2604120973016073,
          2.544238463964268,
          1.8265156608793522,
          4.47854895640311,
          2.079249876254077,
          1.6408194310173494,
          1.3449224771546442,
          1.7054928582375077,
          1.6112134195883596,
          4.47854895640311,
          1.3657040128450648,
          1.4829473251521386,
          1.6442356673075995,
          1.7490855947459027,
          4.47854895640311,
          1.5604879693783986,
          1.3449224771546442,
          1.373332382353217,
          null,
          1.506031686942378,
          1.355373736929135,
          2.2936982305975953,
          1.8435425762277804,
          1.638917956184941,
          3.746168221124506,
          1.5412912736816327,
          2.1422273191300487,
          1.5296635254763724,
          null,
          1.6634037733593432,
          1.6557100878210043,
          1.7887928251194736,
          1.5258333405459803,
          4.47854895640311,
          1.557726265776075,
          3.996781360400142,
          2.2959445155730354,
          1.4094040483999417,
          1.5884373785755364,
          4.47854895640311,
          1.785469687600807,
          1.4163595596112415,
          1.6290916137862514,
          2.050240502268874,
          1.4379675342837848,
          3.0301741647557563,
          1.6024895956578842,
          1.6297657096678406,
          1.6010873830770933,
          1.7728786349223697,
          4.47854895640311,
          1.3811630880423869,
          null,
          1.5227824436237545,
          2.2066987015928152,
          1.7253153672610506,
          1.6416055781230225,
          1.6626680350990044,
          4.47854895640311,
          4.47854895640311,
          4.381128765320327,
          2.3184113198562137,
          1.9481204365746052,
          1.5664637515872333,
          2.4319492441228148,
          1.6217164862706441,
          4.47854895640311,
          1.5169100104094324,
          1.3449224771546442,
          4.47854895640311,
          1.6226716911404506,
          1.6455407302192775,
          2.853743863979087,
          1.7908911420483595,
          1.489666814609582,
          1.4545145510268274,
          1.3449224771546442,
          null,
          3.280440861940427,
          4.47854895640311,
          1.6085465406858774,
          1.3449224771546442,
          1.3449224771546442,
          4.47854895640311,
          2.0668282459557004,
          1.6383995628855286,
          1.5781442780466226,
          null,
          1.5793437570698425,
          2.108917951126333,
          2.1027544222266474,
          1.3449224771546442,
          1.719583124033941,
          null,
          4.47854895640311,
          1.9159476430432667,
          1.5555919480854412,
          1.4931335419371232,
          1.5261414785997602,
          1.603902756955657,
          null,
          1.447036190878868,
          2.762249517900635,
          4.47854895640311,
          4.47854895640311,
          1.4785376010407032,
          1.3695661182558523,
          null,
          3.4868805069647415,
          3.74579103683039,
          4.47854895640311,
          1.7839713480088526,
          null,
          1.4806913719320498,
          2.5032293777019294,
          1.4026170383162813,
          4.47854895640311,
          1.6138219889250092,
          1.5830592352614905,
          2.867678999786804,
          2.106022704622423,
          4.47854895640311,
          1.9618540115692484,
          4.47854895640311,
          1.3449224771546442,
          null,
          1.6592037739451113,
          2.286412310322712,
          1.534218785034413,
          null,
          1.397624245524599,
          3.820392544513034,
          1.4495203536799257,
          4.47854895640311,
          4.47854895640311,
          1.3577416979535297,
          4.47854895640311,
          1.9391254167526153,
          2.9291812230058802,
          1.3449224771546442,
          1.7638823695519492,
          4.47854895640311,
          4.250950797567803,
          1.7252164542792947,
          1.92326328327405,
          1.489415785794093,
          1.5783617964798897,
          4.47854895640311,
          1.7510372695699412,
          1.584928541764965,
          1.6469925751947114,
          1.4592346169625479,
          1.4208736942890414,
          1.913111415221067,
          4.47854895640311,
          1.4090176800091432,
          1.5789310442868298,
          1.384822375996469,
          1.5446772273149025,
          4.47854895640311,
          1.8360893876429685,
          4.47854895640311,
          4.47854895640311,
          null,
          1.3628129918252345,
          3.27718197979544,
          4.47854895640311,
          1.6635649151052185,
          4.47854895640311,
          4.47854895640311,
          4.47854895640311,
          1.3842288451775338,
          4.47854895640311,
          3.9259693684225354,
          1.345097808185848,
          1.5600516149527848,
          1.5088041601983297,
          2.1208898049298064,
          null,
          3.3365661137191083,
          3.6464623711689974,
          null,
          null,
          4.47854895640311,
          4.47854895640311,
          1.5663157373924244,
          4.47854895640311
         ],
         "zmax": 4,
         "zmin": 1
        },
        {
         "colorbar": {
          "len": 0.4,
          "lenmode": "fraction",
          "orientation": "h",
          "thickness": 20,
          "thicknessmode": "pixels",
          "tickfont": {
           "size": 14
          },
          "ticktext": [
           "1.0  &deg;C",
           "1.5  &deg;C",
           "2.0 &deg;C",
           "2.5 &deg;C",
           "3.0 &deg;C",
           "3.5 &deg;C",
           "4.0 &deg;C"
          ],
          "tickvals": [
           1,
           1.5,
           2,
           2.5,
           3,
           3.5,
           4
          ],
          "title": {
           "font": {
            "size": 14
           },
           "side": "bottom",
           "text": "<b>Climate target"
          },
          "x": 0.35,
          "xanchor": "left",
          "y": 0,
          "yanchor": "bottom"
         },
         "colorscale": [
          [
           0,
           "rgb(0,104,55)"
          ],
          [
           0.1,
           "rgb(26,152,80)"
          ],
          [
           0.2,
           "rgb(102,189,99)"
          ],
          [
           0.3,
           "rgb(166,217,106)"
          ],
          [
           0.4,
           "rgb(217,239,139)"
          ],
          [
           0.5,
           "rgb(255,255,191)"
          ],
          [
           0.6,
           "rgb(254,224,139)"
          ],
          [
           0.7,
           "rgb(253,174,97)"
          ],
          [
           0.8,
           "rgb(244,109,67)"
          ],
          [
           0.9,
           "rgb(215,48,39)"
          ],
          [
           1,
           "rgb(165,0,38)"
          ]
         ],
         "geo": "geo",
         "hovertemplate": "%{text}",
         "locationmode": "ISO-3",
         "locations": [
          "AUT",
          "BEL",
          "BGR",
          "HRV",
          "CYP",
          "CZE",
          "DNK",
          "EST",
          "FIN",
          "FRA",
          "DEU",
          "GRC",
          "HUN",
          "IRL",
          "ITA",
          "LVA",
          "LTU",
          "LUX",
          "MLT",
          "NLD",
          "POL",
          "PRT",
          "ROU",
          "SVK",
          "SVN",
          "ESP",
          "SWE"
         ],
         "marker": {
          "line": {
           "color": "black",
           "width": 1
          }
         },
         "name": "",
         "showscale": true,
         "text": [
          "AUT: 2.1 &deg;C",
          "BEL: 2.1 &deg;C",
          "BGR: 2.1 &deg;C",
          "HRV: 2.1 &deg;C",
          "CYP: 2.1 &deg;C",
          "CZE: 2.1 &deg;C",
          "DNK: 2.1 &deg;C",
          "EST: 2.1 &deg;C",
          "FIN: 2.1 &deg;C",
          "FRA: 2.1 &deg;C",
          "DEU: 2.1 &deg;C",
          "GRC: 2.1 &deg;C",
          "HUN: 2.1 &deg;C",
          "IRL: 2.1 &deg;C",
          "ITA: 2.1 &deg;C",
          "LVA: 2.1 &deg;C",
          "LTU: 2.1 &deg;C",
          "LUX: 2.1 &deg;C",
          "MLT: 2.1 &deg;C",
          "NLD: 2.1 &deg;C",
          "POL: 2.1 &deg;C",
          "PRT: 2.1 &deg;C",
          "ROU: 2.1 &deg;C",
          "SVK: 2.1 &deg;C",
          "SVN: 2.1 &deg;C",
          "ESP: 2.1 &deg;C",
          "SWE: 2.1 &deg;C"
         ],
         "type": "choropleth",
         "z": [
          2.1208898049298064,
          2.1208898049298064,
          2.1208898049298064,
          2.1208898049298064,
          2.1208898049298064,
          2.1208898049298064,
          2.1208898049298064,
          2.1208898049298064,
          2.1208898049298064,
          2.1208898049298064,
          2.1208898049298064,
          2.1208898049298064,
          2.1208898049298064,
          2.1208898049298064,
          2.1208898049298064,
          2.1208898049298064,
          2.1208898049298064,
          2.1208898049298064,
          2.1208898049298064,
          2.1208898049298064,
          2.1208898049298064,
          2.1208898049298064,
          2.1208898049298064,
          2.1208898049298064,
          2.1208898049298064,
          2.1208898049298064,
          2.1208898049298064
         ],
         "zmax": 4,
         "zmin": 1
        }
       ],
       "layout": {
        "annotations": [
         {
          "font": {
           "color": "black",
           "size": 20
          },
          "showarrow": false,
          "text": "<b>NDC alignment of an equal per capita approach</b>",
          "x": 0.5,
          "xref": "paper",
          "y": 1.05,
          "yref": "paper"
         }
        ],
        "geo": {
         "domain": {
          "x": [
           0,
           1
          ],
          "y": [
           0,
           1
          ]
         },
         "lakecolor": "rgb(255, 255, 255)",
         "landcolor": "lightgrey",
         "projection": {
          "type": "natural earth"
         },
         "resolution": 110,
         "showcoastlines": false,
         "showframe": false,
         "showlakes": false,
         "visible": true
        },
        "height": 800,
        "template": {
         "data": {
          "bar": [
           {
            "error_x": {
             "color": "#2a3f5f"
            },
            "error_y": {
             "color": "#2a3f5f"
            },
            "marker": {
             "line": {
              "color": "#E5ECF6",
              "width": 0.5
             },
             "pattern": {
              "fillmode": "overlay",
              "size": 10,
              "solidity": 0.2
             }
            },
            "type": "bar"
           }
          ],
          "barpolar": [
           {
            "marker": {
             "line": {
              "color": "#E5ECF6",
              "width": 0.5
             },
             "pattern": {
              "fillmode": "overlay",
              "size": 10,
              "solidity": 0.2
             }
            },
            "type": "barpolar"
           }
          ],
          "carpet": [
           {
            "aaxis": {
             "endlinecolor": "#2a3f5f",
             "gridcolor": "white",
             "linecolor": "white",
             "minorgridcolor": "white",
             "startlinecolor": "#2a3f5f"
            },
            "baxis": {
             "endlinecolor": "#2a3f5f",
             "gridcolor": "white",
             "linecolor": "white",
             "minorgridcolor": "white",
             "startlinecolor": "#2a3f5f"
            },
            "type": "carpet"
           }
          ],
          "choropleth": [
           {
            "colorbar": {
             "outlinewidth": 0,
             "ticks": ""
            },
            "type": "choropleth"
           }
          ],
          "contour": [
           {
            "colorbar": {
             "outlinewidth": 0,
             "ticks": ""
            },
            "colorscale": [
             [
              0,
              "#0d0887"
             ],
             [
              0.1111111111111111,
              "#46039f"
             ],
             [
              0.2222222222222222,
              "#7201a8"
             ],
             [
              0.3333333333333333,
              "#9c179e"
             ],
             [
              0.4444444444444444,
              "#bd3786"
             ],
             [
              0.5555555555555556,
              "#d8576b"
             ],
             [
              0.6666666666666666,
              "#ed7953"
             ],
             [
              0.7777777777777778,
              "#fb9f3a"
             ],
             [
              0.8888888888888888,
              "#fdca26"
             ],
             [
              1,
              "#f0f921"
             ]
            ],
            "type": "contour"
           }
          ],
          "contourcarpet": [
           {
            "colorbar": {
             "outlinewidth": 0,
             "ticks": ""
            },
            "type": "contourcarpet"
           }
          ],
          "heatmap": [
           {
            "colorbar": {
             "outlinewidth": 0,
             "ticks": ""
            },
            "colorscale": [
             [
              0,
              "#0d0887"
             ],
             [
              0.1111111111111111,
              "#46039f"
             ],
             [
              0.2222222222222222,
              "#7201a8"
             ],
             [
              0.3333333333333333,
              "#9c179e"
             ],
             [
              0.4444444444444444,
              "#bd3786"
             ],
             [
              0.5555555555555556,
              "#d8576b"
             ],
             [
              0.6666666666666666,
              "#ed7953"
             ],
             [
              0.7777777777777778,
              "#fb9f3a"
             ],
             [
              0.8888888888888888,
              "#fdca26"
             ],
             [
              1,
              "#f0f921"
             ]
            ],
            "type": "heatmap"
           }
          ],
          "heatmapgl": [
           {
            "colorbar": {
             "outlinewidth": 0,
             "ticks": ""
            },
            "colorscale": [
             [
              0,
              "#0d0887"
             ],
             [
              0.1111111111111111,
              "#46039f"
             ],
             [
              0.2222222222222222,
              "#7201a8"
             ],
             [
              0.3333333333333333,
              "#9c179e"
             ],
             [
              0.4444444444444444,
              "#bd3786"
             ],
             [
              0.5555555555555556,
              "#d8576b"
             ],
             [
              0.6666666666666666,
              "#ed7953"
             ],
             [
              0.7777777777777778,
              "#fb9f3a"
             ],
             [
              0.8888888888888888,
              "#fdca26"
             ],
             [
              1,
              "#f0f921"
             ]
            ],
            "type": "heatmapgl"
           }
          ],
          "histogram": [
           {
            "marker": {
             "pattern": {
              "fillmode": "overlay",
              "size": 10,
              "solidity": 0.2
             }
            },
            "type": "histogram"
           }
          ],
          "histogram2d": [
           {
            "colorbar": {
             "outlinewidth": 0,
             "ticks": ""
            },
            "colorscale": [
             [
              0,
              "#0d0887"
             ],
             [
              0.1111111111111111,
              "#46039f"
             ],
             [
              0.2222222222222222,
              "#7201a8"
             ],
             [
              0.3333333333333333,
              "#9c179e"
             ],
             [
              0.4444444444444444,
              "#bd3786"
             ],
             [
              0.5555555555555556,
              "#d8576b"
             ],
             [
              0.6666666666666666,
              "#ed7953"
             ],
             [
              0.7777777777777778,
              "#fb9f3a"
             ],
             [
              0.8888888888888888,
              "#fdca26"
             ],
             [
              1,
              "#f0f921"
             ]
            ],
            "type": "histogram2d"
           }
          ],
          "histogram2dcontour": [
           {
            "colorbar": {
             "outlinewidth": 0,
             "ticks": ""
            },
            "colorscale": [
             [
              0,
              "#0d0887"
             ],
             [
              0.1111111111111111,
              "#46039f"
             ],
             [
              0.2222222222222222,
              "#7201a8"
             ],
             [
              0.3333333333333333,
              "#9c179e"
             ],
             [
              0.4444444444444444,
              "#bd3786"
             ],
             [
              0.5555555555555556,
              "#d8576b"
             ],
             [
              0.6666666666666666,
              "#ed7953"
             ],
             [
              0.7777777777777778,
              "#fb9f3a"
             ],
             [
              0.8888888888888888,
              "#fdca26"
             ],
             [
              1,
              "#f0f921"
             ]
            ],
            "type": "histogram2dcontour"
           }
          ],
          "mesh3d": [
           {
            "colorbar": {
             "outlinewidth": 0,
             "ticks": ""
            },
            "type": "mesh3d"
           }
          ],
          "parcoords": [
           {
            "line": {
             "colorbar": {
              "outlinewidth": 0,
              "ticks": ""
             }
            },
            "type": "parcoords"
           }
          ],
          "pie": [
           {
            "automargin": true,
            "type": "pie"
           }
          ],
          "scatter": [
           {
            "fillpattern": {
             "fillmode": "overlay",
             "size": 10,
             "solidity": 0.2
            },
            "type": "scatter"
           }
          ],
          "scatter3d": [
           {
            "line": {
             "colorbar": {
              "outlinewidth": 0,
              "ticks": ""
             }
            },
            "marker": {
             "colorbar": {
              "outlinewidth": 0,
              "ticks": ""
             }
            },
            "type": "scatter3d"
           }
          ],
          "scattercarpet": [
           {
            "marker": {
             "colorbar": {
              "outlinewidth": 0,
              "ticks": ""
             }
            },
            "type": "scattercarpet"
           }
          ],
          "scattergeo": [
           {
            "marker": {
             "colorbar": {
              "outlinewidth": 0,
              "ticks": ""
             }
            },
            "type": "scattergeo"
           }
          ],
          "scattergl": [
           {
            "marker": {
             "colorbar": {
              "outlinewidth": 0,
              "ticks": ""
             }
            },
            "type": "scattergl"
           }
          ],
          "scattermapbox": [
           {
            "marker": {
             "colorbar": {
              "outlinewidth": 0,
              "ticks": ""
             }
            },
            "type": "scattermapbox"
           }
          ],
          "scatterpolar": [
           {
            "marker": {
             "colorbar": {
              "outlinewidth": 0,
              "ticks": ""
             }
            },
            "type": "scatterpolar"
           }
          ],
          "scatterpolargl": [
           {
            "marker": {
             "colorbar": {
              "outlinewidth": 0,
              "ticks": ""
             }
            },
            "type": "scatterpolargl"
           }
          ],
          "scatterternary": [
           {
            "marker": {
             "colorbar": {
              "outlinewidth": 0,
              "ticks": ""
             }
            },
            "type": "scatterternary"
           }
          ],
          "surface": [
           {
            "colorbar": {
             "outlinewidth": 0,
             "ticks": ""
            },
            "colorscale": [
             [
              0,
              "#0d0887"
             ],
             [
              0.1111111111111111,
              "#46039f"
             ],
             [
              0.2222222222222222,
              "#7201a8"
             ],
             [
              0.3333333333333333,
              "#9c179e"
             ],
             [
              0.4444444444444444,
              "#bd3786"
             ],
             [
              0.5555555555555556,
              "#d8576b"
             ],
             [
              0.6666666666666666,
              "#ed7953"
             ],
             [
              0.7777777777777778,
              "#fb9f3a"
             ],
             [
              0.8888888888888888,
              "#fdca26"
             ],
             [
              1,
              "#f0f921"
             ]
            ],
            "type": "surface"
           }
          ],
          "table": [
           {
            "cells": {
             "fill": {
              "color": "#EBF0F8"
             },
             "line": {
              "color": "white"
             }
            },
            "header": {
             "fill": {
              "color": "#C8D4E3"
             },
             "line": {
              "color": "white"
             }
            },
            "type": "table"
           }
          ]
         },
         "layout": {
          "annotationdefaults": {
           "arrowcolor": "#2a3f5f",
           "arrowhead": 0,
           "arrowwidth": 1
          },
          "autotypenumbers": "strict",
          "coloraxis": {
           "colorbar": {
            "outlinewidth": 0,
            "ticks": ""
           }
          },
          "colorscale": {
           "diverging": [
            [
             0,
             "#8e0152"
            ],
            [
             0.1,
             "#c51b7d"
            ],
            [
             0.2,
             "#de77ae"
            ],
            [
             0.3,
             "#f1b6da"
            ],
            [
             0.4,
             "#fde0ef"
            ],
            [
             0.5,
             "#f7f7f7"
            ],
            [
             0.6,
             "#e6f5d0"
            ],
            [
             0.7,
             "#b8e186"
            ],
            [
             0.8,
             "#7fbc41"
            ],
            [
             0.9,
             "#4d9221"
            ],
            [
             1,
             "#276419"
            ]
           ],
           "sequential": [
            [
             0,
             "#0d0887"
            ],
            [
             0.1111111111111111,
             "#46039f"
            ],
            [
             0.2222222222222222,
             "#7201a8"
            ],
            [
             0.3333333333333333,
             "#9c179e"
            ],
            [
             0.4444444444444444,
             "#bd3786"
            ],
            [
             0.5555555555555556,
             "#d8576b"
            ],
            [
             0.6666666666666666,
             "#ed7953"
            ],
            [
             0.7777777777777778,
             "#fb9f3a"
            ],
            [
             0.8888888888888888,
             "#fdca26"
            ],
            [
             1,
             "#f0f921"
            ]
           ],
           "sequentialminus": [
            [
             0,
             "#0d0887"
            ],
            [
             0.1111111111111111,
             "#46039f"
            ],
            [
             0.2222222222222222,
             "#7201a8"
            ],
            [
             0.3333333333333333,
             "#9c179e"
            ],
            [
             0.4444444444444444,
             "#bd3786"
            ],
            [
             0.5555555555555556,
             "#d8576b"
            ],
            [
             0.6666666666666666,
             "#ed7953"
            ],
            [
             0.7777777777777778,
             "#fb9f3a"
            ],
            [
             0.8888888888888888,
             "#fdca26"
            ],
            [
             1,
             "#f0f921"
            ]
           ]
          },
          "colorway": [
           "#636efa",
           "#EF553B",
           "#00cc96",
           "#ab63fa",
           "#FFA15A",
           "#19d3f3",
           "#FF6692",
           "#B6E880",
           "#FF97FF",
           "#FECB52"
          ],
          "font": {
           "color": "#2a3f5f"
          },
          "geo": {
           "bgcolor": "white",
           "lakecolor": "white",
           "landcolor": "#E5ECF6",
           "showlakes": true,
           "showland": true,
           "subunitcolor": "white"
          },
          "hoverlabel": {
           "align": "left"
          },
          "hovermode": "closest",
          "mapbox": {
           "style": "light"
          },
          "paper_bgcolor": "white",
          "plot_bgcolor": "#E5ECF6",
          "polar": {
           "angularaxis": {
            "gridcolor": "white",
            "linecolor": "white",
            "ticks": ""
           },
           "bgcolor": "#E5ECF6",
           "radialaxis": {
            "gridcolor": "white",
            "linecolor": "white",
            "ticks": ""
           }
          },
          "scene": {
           "xaxis": {
            "backgroundcolor": "#E5ECF6",
            "gridcolor": "white",
            "gridwidth": 2,
            "linecolor": "white",
            "showbackground": true,
            "ticks": "",
            "zerolinecolor": "white"
           },
           "yaxis": {
            "backgroundcolor": "#E5ECF6",
            "gridcolor": "white",
            "gridwidth": 2,
            "linecolor": "white",
            "showbackground": true,
            "ticks": "",
            "zerolinecolor": "white"
           },
           "zaxis": {
            "backgroundcolor": "#E5ECF6",
            "gridcolor": "white",
            "gridwidth": 2,
            "linecolor": "white",
            "showbackground": true,
            "ticks": "",
            "zerolinecolor": "white"
           }
          },
          "shapedefaults": {
           "line": {
            "color": "#2a3f5f"
           }
          },
          "ternary": {
           "aaxis": {
            "gridcolor": "white",
            "linecolor": "white",
            "ticks": ""
           },
           "baxis": {
            "gridcolor": "white",
            "linecolor": "white",
            "ticks": ""
           },
           "bgcolor": "#E5ECF6",
           "caxis": {
            "gridcolor": "white",
            "linecolor": "white",
            "ticks": ""
           }
          },
          "title": {
           "x": 0.05
          },
          "xaxis": {
           "automargin": true,
           "gridcolor": "white",
           "linecolor": "white",
           "ticks": "",
           "title": {
            "standoff": 15
           },
           "zerolinecolor": "white",
           "zerolinewidth": 2
          },
          "yaxis": {
           "automargin": true,
           "gridcolor": "white",
           "linecolor": "white",
           "ticks": "",
           "title": {
            "standoff": 15
           },
           "zerolinecolor": "white",
           "zerolinewidth": 2
          }
         }
        },
        "width": 1450
       }
      }
     },
     "metadata": {},
     "output_type": "display_data"
    }
   ],
   "source": [
    "fig = make_subplots(rows=1, cols=1,\n",
    "                    specs=[[{'type': 'choropleth'}]],\n",
    "                    horizontal_spacing = 0., vertical_spacing=0.0)\n",
    "\n",
    "for i in range(1):\n",
    "    dath = [temps_1][i]\n",
    "    dat = np.array(dath)\n",
    "    scale = 'RdYlGn_r'\n",
    "    dc = dict(orientation='h', x=0.35, y=0.0, xanchor='left', yanchor='bottom', title='<b>Climate target', tickvals=[1.0, 1.5, 2.0, 2.5, 3, 3.5, 4],\n",
    "                        ticktext=['1.0  &deg;C', '1.5  &deg;C', '2.0 &deg;C', '2.5 &deg;C', '3.0 &deg;C', '3.5 &deg;C', '4.0 &deg;C'],\n",
    "                        tickfont=dict(size=14),\n",
    "                        len=0.4, lenmode='fraction', thickness=20, thicknessmode='pixels', titlefont=dict(size=14))\n",
    "    #Grey out nans\n",
    "    fig.add_trace(go.Choropleth(\n",
    "            locations=['ATA'],\n",
    "            z = [0.5],\n",
    "            locationmode = 'ISO-3',\n",
    "            colorscale ='Greys',\n",
    "            zmax = 4.5,\n",
    "            zmin = 0.5,\n",
    "            text = ['hoi'],\n",
    "            hovertemplate  = '%{text}',\n",
    "            name=\"\",\n",
    "            marker_line_color='black', \n",
    "            marker_line_width=0,\n",
    "            showscale=False,\n",
    "        ), [1, 2][i], 1)\n",
    "    \n",
    "    # Make somaliland equal to SOM\n",
    "    data = data = [['SOM',float(dath.sel(Region='SOM'))],['SOL',float(dath.sel(Region='SOM'))]]\n",
    "    df = pd.DataFrame(data,columns=['sov_a3','population'])\n",
    "    \n",
    "    fig.add_trace(go.Choropleth(\n",
    "            locations=np.array((dath).Region),\n",
    "            z = dat,\n",
    "            locationmode = 'ISO-3',\n",
    "            colorscale = scale,\n",
    "                zmax = 4.,\n",
    "                zmin = 1.0,\n",
    "            text = [str(r)+\": \"+str(np.round(dat[r_i], 1))+\" &deg;C\" for r_i, r in enumerate(np.array((dath).Region))],\n",
    "            hovertemplate  = '%{text}',\n",
    "            name=\"\",\n",
    "            colorbar=dc,\n",
    "            marker_line_color='black', \n",
    "            marker_line_width=1,\n",
    "            showscale=[True, False][i],\n",
    "        ), [1, 2][i], 1)\n",
    "    \n",
    "    \n",
    "    fig.add_trace(\n",
    "        go.Choropleth(\n",
    "        locations=group_eu,\n",
    "        z = np.array([dat[np.where(all_regions_iso == \"EU\")[0][0]]]*len(group_eu)),\n",
    "        locationmode = 'ISO-3',\n",
    "        colorscale = scale,\n",
    "            zmax = 4.,\n",
    "            zmin = 1.0,\n",
    "        text = [str(r)+\": \"+str(np.round(dat[np.where(all_regions_iso == \"EU\")[0][0]], 1))+\" &deg;C\" for r_i, r in enumerate(group_eu)],\n",
    "        hovertemplate  = '%{text}',\n",
    "        name=\"\",\n",
    "        colorbar=dc,\n",
    "        marker_line_color='black', \n",
    "        marker_line_width=1,\n",
    "        showscale=[True, False][i],\n",
    "        ), [1, 2][i], 1)\n",
    "\n",
    "fs=20\n",
    "fig['layout'].update(\n",
    "    annotations=[dict(x=0.5, y=1.05, text='<b>NDC alignment of an equal per capita approach</b>', xref='paper', yref='paper', showarrow=False, font=dict(color='black', size=fs)),\n",
    "                 #dict(x=0.15, y=0.52, text='<b>(b) NDC alignment of approach 2', xref='paper', yref='paper', xanchor='left', showarrow=False, font=dict(color='black', size=fs)),\n",
    "                 ])\n",
    "\n",
    "fig.update_geos(visible=True,\n",
    "                showlakes=False,\n",
    "                lakecolor='rgb(255, 255, 255)',\n",
    "                projection_type='natural earth',\n",
    "                showframe=False,\n",
    "                resolution=110,\n",
    "                landcolor=\"lightgrey\",\n",
    "                showcoastlines=False,)\n",
    "fig.update_traces(colorbar=dict(\n",
    "    title=dict(\n",
    "        side=\"bottom\"\n",
    "    )\n",
    "))\n",
    "\n",
    "fig.update_layout(height=800, width=1450)\n",
    "fig.write_image(path_figs / \"Figure_5.svg\", scale=5)\n",
    "fig.show()"
   ]
  }
 ],
 "metadata": {
  "kernelspec": {
   "display_name": "Python 3",
   "language": "python",
   "name": "python3"
  },
  "language_info": {
   "codemirror_mode": {
    "name": "ipython",
    "version": 3
   },
   "file_extension": ".py",
   "mimetype": "text/x-python",
   "name": "python",
   "nbconvert_exporter": "python",
   "pygments_lexer": "ipython3",
   "version": "3.12.5"
  },
  "orig_nbformat": 4
 },
 "nbformat": 4,
 "nbformat_minor": 2
}
