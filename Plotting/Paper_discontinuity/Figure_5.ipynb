{
 "cells": [
  {
   "attachments": {},
   "cell_type": "markdown",
   "metadata": {},
   "source": [
    "## Preambule"
   ]
  },
  {
   "cell_type": "code",
   "execution_count": 1,
   "metadata": {},
   "outputs": [],
   "source": [
    "# General packages\n",
    "import numpy as np\n",
    "import pandas as pd\n",
    "from tqdm import tqdm\n",
    "from pathlib import Path\n",
    "import xarray as xr\n",
    "import json\n",
    "\n",
    "# Plotting\n",
    "import matplotlib.pyplot as plt\n",
    "import plotly.express as px\n",
    "import plotly.graph_objects as go\n",
    "from plotly.subplots import make_subplots\n",
    "from plotly.colors import n_colors"
   ]
  },
  {
   "cell_type": "code",
   "execution_count": 2,
   "metadata": {},
   "outputs": [],
   "source": [
    "import json\n",
    "f = open('X:/user/dekkerm/Data/Maps/Somaliland.json', encoding='utf8')\n",
    "somaliland_data = json.load(f)"
   ]
  },
  {
   "attachments": {},
   "cell_type": "markdown",
   "metadata": {},
   "source": [
    "## Paths"
   ]
  },
  {
   "cell_type": "code",
   "execution_count": 3,
   "metadata": {},
   "outputs": [],
   "source": [
    "path_data = Path(\"K:/Data/Data_effortsharing/DataUpdate_ongoing/startyear_2021/\")\n",
    "path_data_gen = Path(\"K:/Data/Data_effortsharing/DataUpdate_ongoing/\")\n",
    "path_figs = Path(\"K:/Code/effort-sharing/\") / \"Figures\" / \"Paper_Robiou2023\""
   ]
  },
  {
   "attachments": {},
   "cell_type": "markdown",
   "metadata": {},
   "source": [
    "## Read data files"
   ]
  },
  {
   "cell_type": "code",
   "execution_count": 4,
   "metadata": {},
   "outputs": [],
   "source": [
    "xr_dataread = xr.open_dataset(path_data / \"xr_dataread.nc\")\n",
    "xr_combs = xr.open_dataset(path_data / \"xr_comb_GHG_excl.nc\")\n",
    "xr_temps = xr.open_dataset(path_data / \"xr_combtemps_GHG_excl.nc\")\n",
    "all_regions_iso = np.load(path_data_gen / \"all_regions.npy\")\n",
    "all_regions_names = np.array(list(np.load(path_data_gen / \"all_regions_names.npy\")[:-1])+['Earth']) # Only in old xr_dataread version, should be updated when reran\n",
    "all_countries_iso = np.load(path_data_gen / \"all_countries.npy\", allow_pickle=True)\n",
    "all_countries_names = np.load(path_data_gen / \"all_countries_names.npy\", allow_pickle=True)\n",
    "only_regions_iso = ['CVF', 'G20', \"EU\", \"G7\", \"NA\", \"AU\", \"AF\", \"SIDS\", \"LDC\", \"WORLD\"]\n",
    "only_regions_names = ['Climate Vulnerability Forum','G20',\"European Union\",\"G7\",\"Northern America\",\"Australasia\",\"African Group\",\"Small Island Developing States\",\"Least Developed Countries\", 'World']"
   ]
  },
  {
   "cell_type": "code",
   "execution_count": 5,
   "metadata": {},
   "outputs": [],
   "source": [
    "df_g = pd.read_excel(Path(\"X:/user/dekkerm/Data/\") / \"UNFCCC_Parties_Groups_noeu.xlsx\", sheet_name = \"Country groups\")\n",
    "countries_iso = np.array(df_g[\"Country ISO Code\"])\n",
    "countries_name = np.array(df_g[\"Name\"])\n",
    "countries_iso = np.array(df_g[\"Country ISO Code\"])\n",
    "group_cvf = countries_iso[np.array(df_g[\"CVF (24/10/22)\"]) == 1]\n",
    "group_g20 = countries_iso[np.array(df_g[\"G20\"]) == 1]\n",
    "group_eu = countries_iso[np.array(df_g[\"EU\"]) == 1]\n",
    "group_g7 = countries_iso[np.array(df_g[\"G7\"]) == 1]\n",
    "group_na = countries_iso[np.array(df_g[\"Northern America\"]) == 1]\n",
    "group_um = countries_iso[np.array(df_g[\"Umbrella\"]) == 1]\n",
    "group_au = countries_iso[np.array(df_g[\"Australasia\"]) == 1]\n",
    "group_af = countries_iso[np.array(df_g[\"African Group\"]) == 1]\n",
    "group_sids = countries_iso[np.array(df_g[\"SIDS\"]) == 1]\n",
    "group_ldc = countries_iso[np.array(df_g[\"LDC\"]) == 1]\n",
    "group_eg = countries_iso[np.array(df_g[\"European Group\"]) == 1]\n",
    "group_world = np.copy(countries_iso)"
   ]
  },
  {
   "cell_type": "code",
   "execution_count": 6,
   "metadata": {},
   "outputs": [],
   "source": [
    "#temps_1 = xr_temps.PC.sel(Time=2030, Discount_factor=0, Historical_startyear=1990, Risk=0.5, Scenario='SSP2', Conditionality='unconditional', Hot_air='include').mean(dim='Ambition')\n",
    "temps_1 = xr_temps.PC.sel(Time=2030, Risk=0.5, Scenario='SSP2', Conditionality='unconditional', Hot_air='include').mean(dim='Ambition')\n",
    "\n",
    "#temps_2 = xr_temps.Approach2.sel(Time=2030, Discount_factor=0, Historical_startyear=1990, Risk=0.5, Scenario='SSP2').mean(dim=['Conditionality', 'Ambition'])"
   ]
  },
  {
   "cell_type": "code",
   "execution_count": null,
   "metadata": {},
   "outputs": [],
   "source": []
  },
  {
   "cell_type": "markdown",
   "metadata": {},
   "source": [
    "## Plot"
   ]
  },
  {
   "cell_type": "code",
   "execution_count": null,
   "metadata": {},
   "outputs": [],
   "source": [
    "fig = make_subplots(rows=1, cols=1,\n",
    "                    specs=[[{'type': 'choropleth'}]],\n",
    "                    horizontal_spacing = 0., vertical_spacing=0.0)\n",
    "\n",
    "for i in range(1):\n",
    "    dath = [temps_1][i]\n",
    "    dat = np.array(dath)\n",
    "    scale = 'RdYlGn_r'\n",
    "    dc = dict(orientation='h', x=0.35, y=0.0, xanchor='left', yanchor='bottom', title='<b>Climate target', tickvals=[1.0, 1.5, 2.0, 2.5, 3, 3.5, 4],\n",
    "                        ticktext=['1.0  &deg;C', '1.5  &deg;C', '2.0 &deg;C', '2.5 &deg;C', '3.0 &deg;C', '3.5 &deg;C', '4.0 &deg;C'],\n",
    "                        tickfont=dict(size=14),\n",
    "                        len=0.4, lenmode='fraction', thickness=20, thicknessmode='pixels', titlefont=dict(size=14))\n",
    "    #Grey out nans\n",
    "    fig.add_trace(go.Choropleth(\n",
    "            locations=['ATA'],\n",
    "            z = [0.5],\n",
    "            locationmode = 'ISO-3',\n",
    "            colorscale ='Greys',\n",
    "            zmax = 4.5,\n",
    "            zmin = 0.5,\n",
    "            text = ['hoi'],\n",
    "            hovertemplate  = '%{text}',\n",
    "            name=\"\",\n",
    "            marker_line_color='black', \n",
    "            marker_line_width=0,\n",
    "            showscale=False,\n",
    "        ), [1, 2][i], 1)\n",
    "    \n",
    "    # Make somaliland equal to SOM\n",
    "    data = data = [['SOM',float(dath.sel(Region='SOM'))],['SOL',float(dath.sel(Region='SOM'))]]\n",
    "    df = pd.DataFrame(data,columns=['sov_a3','population'])\n",
    "    \n",
    "    fig.add_trace(go.Choropleth(\n",
    "            locations=np.array((dath).Region),\n",
    "            z = dat,\n",
    "            locationmode = 'ISO-3',\n",
    "            colorscale = scale,\n",
    "                zmax = 4.,\n",
    "                zmin = 1.0,\n",
    "            text = [str(r)+\": \"+str(np.round(dat[r_i], 1))+\" &deg;C\" for r_i, r in enumerate(np.array((dath).Region))],\n",
    "            hovertemplate  = '%{text}',\n",
    "            name=\"\",\n",
    "            colorbar=dc,\n",
    "            marker_line_color='black', \n",
    "            marker_line_width=1,\n",
    "            showscale=[True, False][i],\n",
    "        ), [1, 2][i], 1)\n",
    "    \n",
    "    \n",
    "    fig.add_trace(\n",
    "        go.Choropleth(\n",
    "        locations=group_eu,\n",
    "        z = np.array([dat[np.where(all_regions_iso == \"EU\")[0][0]]]*len(group_eu)),\n",
    "        locationmode = 'ISO-3',\n",
    "        colorscale = scale,\n",
    "            zmax = 4.,\n",
    "            zmin = 1.0,\n",
    "        text = [str(r)+\": \"+str(np.round(dat[np.where(all_regions_iso == \"EU\")[0][0]], 1))+\" &deg;C\" for r_i, r in enumerate(group_eu)],\n",
    "        hovertemplate  = '%{text}',\n",
    "        name=\"\",\n",
    "        colorbar=dc,\n",
    "        marker_line_color='black', \n",
    "        marker_line_width=1,\n",
    "        showscale=[True, False][i],\n",
    "        ), [1, 2][i], 1)\n",
    "\n",
    "fs=20\n",
    "fig['layout'].update(\n",
    "    annotations=[dict(x=0.5, y=1.05, text='<b>NDC alignment of an equal per capita approach</b>', xref='paper', yref='paper', showarrow=False, font=dict(color='black', size=fs)),\n",
    "                 #dict(x=0.15, y=0.52, text='<b>(b) NDC alignment of approach 2', xref='paper', yref='paper', xanchor='left', showarrow=False, font=dict(color='black', size=fs)),\n",
    "                 ])\n",
    "\n",
    "fig.update_geos(visible=True,\n",
    "                showlakes=False,\n",
    "                lakecolor='rgb(255, 255, 255)',\n",
    "                projection_type='natural earth',\n",
    "                showframe=False,\n",
    "                resolution=110,\n",
    "                landcolor=\"lightgrey\",\n",
    "                showcoastlines=False,)\n",
    "fig.update_traces(colorbar=dict(\n",
    "    title=dict(\n",
    "        side=\"bottom\"\n",
    "    )\n",
    "))\n",
    "\n",
    "fig.update_layout(height=800, width=1450)\n",
    "fig.write_image(path_figs / \"Figure_5.svg\", scale=5)\n",
    "fig.show()"
   ]
  }
 ],
 "metadata": {
  "kernelspec": {
   "display_name": "Python 3",
   "language": "python",
   "name": "python3"
  },
  "language_info": {
   "codemirror_mode": {
    "name": "ipython",
    "version": 3
   },
   "file_extension": ".py",
   "mimetype": "text/x-python",
   "name": "python",
   "nbconvert_exporter": "python",
   "pygments_lexer": "ipython3",
   "version": "3.12.5"
  },
  "orig_nbformat": 4
 },
 "nbformat": 4,
 "nbformat_minor": 2
}
