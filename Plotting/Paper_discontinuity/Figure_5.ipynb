{
 "cells": [
  {
   "attachments": {},
   "cell_type": "markdown",
   "metadata": {},
   "source": [
    "## Preambule"
   ]
  },
  {
   "cell_type": "code",
   "execution_count": 7,
   "metadata": {},
   "outputs": [],
   "source": [
    "# General packages\n",
    "import numpy as np\n",
    "import pandas as pd\n",
    "from tqdm import tqdm\n",
    "from pathlib import Path\n",
    "import xarray as xr\n",
    "import json\n",
    "\n",
    "# Plotting\n",
    "import matplotlib.pyplot as plt\n",
    "import plotly.express as px\n",
    "import plotly.graph_objects as go\n",
    "from plotly.subplots import make_subplots\n",
    "from plotly.colors import n_colors"
   ]
  },
  {
   "cell_type": "code",
   "execution_count": 8,
   "metadata": {},
   "outputs": [],
   "source": [
    "import json\n",
    "f = open('X:/user/dekkerm/Data/Maps/Somaliland.json', encoding='utf8')\n",
    "somaliland_data = json.load(f)"
   ]
  },
  {
   "attachments": {},
   "cell_type": "markdown",
   "metadata": {},
   "source": [
    "## Paths"
   ]
  },
  {
   "cell_type": "code",
   "execution_count": 9,
   "metadata": {},
   "outputs": [],
   "source": [
    "path_data = Path(\"K:/Data/Data_effortsharing/DataUpdate_ongoing/startyear_2021/\")\n",
    "path_data_gen = Path(\"K:/Data/Data_effortsharing/DataUpdate_ongoing/\")\n",
    "path_figs = Path(\"K:/Code/effort-sharing/\") / \"Figures\" / \"Paper_Robiou2023\""
   ]
  },
  {
   "attachments": {},
   "cell_type": "markdown",
   "metadata": {},
   "source": [
    "## Read data files"
   ]
  },
  {
   "cell_type": "code",
   "execution_count": 10,
   "metadata": {},
   "outputs": [],
   "source": [
    "xr_dataread = xr.open_dataset(path_data / \"xr_dataread.nc\")\n",
    "xr_combs = xr.open_dataset(path_data / \"xr_comb_GHG_excl.nc\")\n",
    "xr_temps = xr.open_dataset(path_data / \"xr_combtemps_GHG_excl.nc\")\n",
    "all_regions_iso = np.load(path_data_gen / \"all_regions.npy\")\n",
    "all_regions_names = np.array(list(np.load(path_data_gen / \"all_regions_names.npy\")[:-1])+['Earth']) # Only in old xr_dataread version, should be updated when reran\n",
    "all_countries_iso = np.load(path_data_gen / \"all_countries.npy\", allow_pickle=True)\n",
    "all_countries_names = np.load(path_data_gen / \"all_countries_names.npy\", allow_pickle=True)\n",
    "only_regions_iso = ['CVF', 'G20', \"EU\", \"G7\", \"NA\", \"AU\", \"AF\", \"SIDS\", \"LDC\", \"WORLD\"]\n",
    "only_regions_names = ['Climate Vulnerability Forum','G20',\"European Union\",\"G7\",\"Northern America\",\"Australasia\",\"African Group\",\"Small Island Developing States\",\"Least Developed Countries\", 'World']"
   ]
  },
  {
   "cell_type": "code",
   "execution_count": 11,
   "metadata": {},
   "outputs": [],
   "source": [
    "df_g = pd.read_excel(Path(\"X:/user/dekkerm/Data/\") / \"UNFCCC_Parties_Groups_noeu.xlsx\", sheet_name = \"Country groups\")\n",
    "countries_iso = np.array(df_g[\"Country ISO Code\"])\n",
    "countries_name = np.array(df_g[\"Name\"])\n",
    "countries_iso = np.array(df_g[\"Country ISO Code\"])\n",
    "group_cvf = countries_iso[np.array(df_g[\"CVF (24/10/22)\"]) == 1]\n",
    "group_g20 = countries_iso[np.array(df_g[\"G20\"]) == 1]\n",
    "group_eu = countries_iso[np.array(df_g[\"EU\"]) == 1]\n",
    "group_g7 = countries_iso[np.array(df_g[\"G7\"]) == 1]\n",
    "group_na = countries_iso[np.array(df_g[\"Northern America\"]) == 1]\n",
    "group_um = countries_iso[np.array(df_g[\"Umbrella\"]) == 1]\n",
    "group_au = countries_iso[np.array(df_g[\"Australasia\"]) == 1]\n",
    "group_af = countries_iso[np.array(df_g[\"African Group\"]) == 1]\n",
    "group_sids = countries_iso[np.array(df_g[\"SIDS\"]) == 1]\n",
    "group_ldc = countries_iso[np.array(df_g[\"LDC\"]) == 1]\n",
    "group_eg = countries_iso[np.array(df_g[\"European Group\"]) == 1]\n",
    "group_world = np.copy(countries_iso)"
   ]
  },
  {
   "cell_type": "code",
   "execution_count": 12,
   "metadata": {},
   "outputs": [],
   "source": [
    "#temps_1 = xr_temps.PC.sel(Time=2030, Discount_factor=0, Historical_startyear=1990, Risk=0.5, Scenario='SSP2', Conditionality='unconditional', Hot_air='include').mean(dim='Ambition')\n",
    "temps_1 = xr_temps.PC.sel(Time=2030, Risk=0.5, Scenario='SSP2', Conditionality='unconditional', Hot_air='include').mean(dim='Ambition')\n",
    "\n",
    "#temps_2 = xr_temps.Approach2.sel(Time=2030, Discount_factor=0, Historical_startyear=1990, Risk=0.5, Scenario='SSP2').mean(dim=['Conditionality', 'Ambition'])"
   ]
  },
  {
   "cell_type": "markdown",
   "metadata": {},
   "source": [
    "## Plot"
   ]
  },
  {
   "cell_type": "code",
   "execution_count": 14,
   "metadata": {},
   "outputs": [
    {
     "data": {
      "application/vnd.plotly.v1+json": {
       "config": {
        "plotlyServerURL": "https://plot.ly"
       },
       "data": [
        {
         "colorbar": {
          "title": {
           "side": "bottom"
          }
         },
         "colorscale": [
          [
           0,
           "rgb(255,255,255)"
          ],
          [
           0.125,
           "rgb(240,240,240)"
          ],
          [
           0.25,
           "rgb(217,217,217)"
          ],
          [
           0.375,
           "rgb(189,189,189)"
          ],
          [
           0.5,
           "rgb(150,150,150)"
          ],
          [
           0.625,
           "rgb(115,115,115)"
          ],
          [
           0.75,
           "rgb(82,82,82)"
          ],
          [
           0.875,
           "rgb(37,37,37)"
          ],
          [
           1,
           "rgb(0,0,0)"
          ]
         ],
         "geo": "geo",
         "hovertemplate": "%{text}",
         "locationmode": "ISO-3",
         "locations": [
          "ATA"
         ],
         "marker": {
          "line": {
           "color": "black",
           "width": 0
          }
         },
         "name": "",
         "showscale": false,
         "text": [
          "hoi"
         ],
         "type": "choropleth",
         "z": [
          0.5
         ],
         "zmax": 4.5,
         "zmin": 0.5
        },
        {
         "colorbar": {
          "len": 0.4,
          "lenmode": "fraction",
          "orientation": "h",
          "thickness": 20,
          "thicknessmode": "pixels",
          "tickfont": {
           "size": 14
          },
          "ticktext": [
           "1.0  &deg;C",
           "1.5  &deg;C",
           "2.0 &deg;C",
           "2.5 &deg;C",
           "3.0 &deg;C",
           "3.5 &deg;C",
           "4.0 &deg;C"
          ],
          "tickvals": [
           1,
           1.5,
           2,
           2.5,
           3,
           3.5,
           4
          ],
          "title": {
           "font": {
            "size": 14
           },
           "side": "bottom",
           "text": "<b>Climate target"
          },
          "x": 0.35,
          "xanchor": "left",
          "y": 0,
          "yanchor": "bottom"
         },
         "colorscale": [
          [
           0,
           "rgb(0,104,55)"
          ],
          [
           0.1,
           "rgb(26,152,80)"
          ],
          [
           0.2,
           "rgb(102,189,99)"
          ],
          [
           0.3,
           "rgb(166,217,106)"
          ],
          [
           0.4,
           "rgb(217,239,139)"
          ],
          [
           0.5,
           "rgb(255,255,191)"
          ],
          [
           0.6,
           "rgb(254,224,139)"
          ],
          [
           0.7,
           "rgb(253,174,97)"
          ],
          [
           0.8,
           "rgb(244,109,67)"
          ],
          [
           0.9,
           "rgb(215,48,39)"
          ],
          [
           1,
           "rgb(165,0,38)"
          ]
         ],
         "geo": "geo",
         "hovertemplate": "%{text}",
         "locationmode": "ISO-3",
         "locations": [
          "AFG",
          "ALB",
          "DZA",
          "AND",
          "AGO",
          "ATG",
          "ARG",
          "ARM",
          "AUS",
          "AUT",
          "AZE",
          "BHR",
          "BGD",
          "BRB",
          "BLR",
          "BEL",
          "BLZ",
          "BEN",
          "BTN",
          "BOL",
          "BIH",
          "BWA",
          "BRA",
          "BRN",
          "BGR",
          "BFA",
          "BDI",
          "KHM",
          "CMR",
          "CAN",
          "CPV",
          "CAF",
          "TCD",
          "CHL",
          "CHN",
          "COL",
          "COM",
          "COG",
          "COK",
          "CRI",
          "CIV",
          "HRV",
          "CUB",
          "CYP",
          "CZE",
          "COD",
          "DNK",
          "DJI",
          "DMA",
          "DOM",
          "ECU",
          "EGY",
          "SLV",
          "GNQ",
          "ERI",
          "EST",
          "SWZ",
          "ETH",
          "FJI",
          "FIN",
          "FRA",
          "GAB",
          "GEO",
          "DEU",
          "GHA",
          "GRC",
          "GRD",
          "GTM",
          "GIN",
          "GNB",
          "GUY",
          "HTI",
          "VAT",
          "HND",
          "HUN",
          "ISL",
          "IND",
          "IDN",
          "IRN",
          "IRQ",
          "IRL",
          "ISR",
          "ITA",
          "JAM",
          "JPN",
          "JOR",
          "KAZ",
          "KEN",
          "KIR",
          "KWT",
          "KGZ",
          "LAO",
          "LVA",
          "LBN",
          "LSO",
          "LBR",
          "LBY",
          "LIE",
          "LTU",
          "LUX",
          "MKD",
          "MDG",
          "MWI",
          "MYS",
          "MDV",
          "MLI",
          "MLT",
          "MHL",
          "MRT",
          "MUS",
          "MEX",
          "FSM",
          "MDA",
          "MCO",
          "MNG",
          "MNE",
          "MAR",
          "MOZ",
          "MMR",
          "NAM",
          "NRU",
          "NPL",
          "NLD",
          "NZL",
          "NIC",
          "NER",
          "NGA",
          "NIU",
          "PRK",
          "NOR",
          "OMN",
          "PAK",
          "PLW",
          "PSE",
          "PAN",
          "PNG",
          "PRY",
          "PER",
          "PHL",
          "POL",
          "PRT",
          "QAT",
          "ROU",
          "RUS",
          "RWA",
          "KNA",
          "LCA",
          "VCT",
          "WSM",
          "SMR",
          "STP",
          "SAU",
          "SEN",
          "SRB",
          "SYC",
          "SLE",
          "SGP",
          "SVK",
          "SVN",
          "SLB",
          "SOM",
          "ZAF",
          "KOR",
          "SSD",
          "ESP",
          "LKA",
          "SDN",
          "SUR",
          "SWE",
          "CHE",
          "SYR",
          "TJK",
          "TZA",
          "THA",
          "BHS",
          "GMB",
          "TLS",
          "TGO",
          "TON",
          "TTO",
          "TUN",
          "TUR",
          "TKM",
          "TUV",
          "UGA",
          "UKR",
          "ARE",
          "GBR",
          "USA",
          "URY",
          "UZB",
          "VUT",
          "VEN",
          "VNM",
          "YEM",
          "ZMB",
          "ZWE",
          "EU",
          "EARTH",
          "G20",
          "G7",
          "SIDS",
          "LDC",
          "Northern America",
          "Australasia",
          "African Group",
          "Umbrella"
         ],
         "marker": {
          "line": {
           "color": "black",
           "width": 1
          }
         },
         "name": "",
         "showscale": true,
         "text": [
          "AFG: 1.2 &deg;C",
          "ALB: 1.5 &deg;C",
          "DZA: 1.7 &deg;C",
          "AND: nan &deg;C",
          "AGO: 1.3 &deg;C",
          "ATG: 3.7 &deg;C",
          "ARG: 2.6 &deg;C",
          "ARM: 1.9 &deg;C",
          "AUS: 4.5 &deg;C",
          "AUT: 1.9 &deg;C",
          "AZE: 2.1 &deg;C",
          "BHR: 4.5 &deg;C",
          "BGD: 1.3 &deg;C",
          "BRB: 1.6 &deg;C",
          "BLR: 4.5 &deg;C",
          "BEL: 2.5 &deg;C",
          "BLZ: 1.6 &deg;C",
          "BEN: 1.3 &deg;C",
          "BTN: 1.8 &deg;C",
          "BOL: 4.5 &deg;C",
          "BIH: 3.2 &deg;C",
          "BWA: 2.5 &deg;C",
          "BRA: 1.7 &deg;C",
          "BRN: 4.5 &deg;C",
          "BGR: 2.0 &deg;C",
          "BFA: 1.5 &deg;C",
          "BDI: 1.2 &deg;C",
          "KHM: 1.5 &deg;C",
          "CMR: 1.4 &deg;C",
          "CAN: 4.5 &deg;C",
          "CPV: 1.2 &deg;C",
          "CAF: 1.3 &deg;C",
          "TCD: 1.5 &deg;C",
          "CHL: 1.6 &deg;C",
          "CHN: 4.5 &deg;C",
          "COL: 1.4 &deg;C",
          "COM: 1.2 &deg;C",
          "COG: 1.2 &deg;C",
          "COK: nan &deg;C",
          "CRI: 1.3 &deg;C",
          "CIV: 1.2 &deg;C",
          "HRV: 2.2 &deg;C",
          "CUB: 1.7 &deg;C",
          "CYP: 1.5 &deg;C",
          "CZE: 3.7 &deg;C",
          "COD: 1.4 &deg;C",
          "DNK: 2.0 &deg;C",
          "DJI: 1.4 &deg;C",
          "DMA: nan &deg;C",
          "DOM: 1.5 &deg;C",
          "ECU: 1.5 &deg;C",
          "EGY: 1.6 &deg;C",
          "SLV: 1.4 &deg;C",
          "GNQ: 4.5 &deg;C",
          "ERI: 1.4 &deg;C",
          "EST: 4.0 &deg;C",
          "SWZ: 2.2 &deg;C",
          "ETH: 1.2 &deg;C",
          "FJI: 1.4 &deg;C",
          "FIN: 4.5 &deg;C",
          "FRA: 1.6 &deg;C",
          "GAB: 1.2 &deg;C",
          "GEO: 1.5 &deg;C",
          "DEU: 1.9 &deg;C",
          "GHA: 1.3 &deg;C",
          "GRC: 3.0 &deg;C",
          "GRD: 1.4 &deg;C",
          "GTM: 1.5 &deg;C",
          "GIN: 1.4 &deg;C",
          "GNB: 1.6 &deg;C",
          "GUY: 4.5 &deg;C",
          "HTI: 1.2 &deg;C",
          "VAT: nan &deg;C",
          "HND: 1.4 &deg;C",
          "HUN: 2.1 &deg;C",
          "ISL: 1.6 &deg;C",
          "IND: 1.5 &deg;C",
          "IDN: 1.5 &deg;C",
          "IRN: 4.5 &deg;C",
          "IRQ: 4.5 &deg;C",
          "IRL: 4.4 &deg;C",
          "ISR: 2.2 &deg;C",
          "ITA: 1.8 &deg;C",
          "JAM: 1.4 &deg;C",
          "JPN: 2.4 &deg;C",
          "JOR: 1.4 &deg;C",
          "KAZ: 4.5 &deg;C",
          "KEN: 1.3 &deg;C",
          "KIR: 1.2 &deg;C",
          "KWT: 4.5 &deg;C",
          "KGZ: 1.4 &deg;C",
          "LAO: 1.5 &deg;C",
          "LVA: 2.8 &deg;C",
          "LBN: 1.7 &deg;C",
          "LSO: 1.3 &deg;C",
          "LBR: 1.3 &deg;C",
          "LBY: 1.2 &deg;C",
          "LIE: nan &deg;C",
          "LTU: 3.3 &deg;C",
          "LUX: 4.5 &deg;C",
          "MKD: 1.4 &deg;C",
          "MDG: 1.2 &deg;C",
          "MWI: 1.2 &deg;C",
          "MYS: 4.5 &deg;C",
          "MDV: 2.0 &deg;C",
          "MLI: 1.5 &deg;C",
          "MLT: 1.4 &deg;C",
          "MHL: nan &deg;C",
          "MRT: 1.4 &deg;C",
          "MUS: 2.0 &deg;C",
          "MEX: 2.0 &deg;C",
          "FSM: 1.2 &deg;C",
          "MDA: 1.6 &deg;C",
          "MCO: nan &deg;C",
          "MNG: 4.5 &deg;C",
          "MNE: 1.8 &deg;C",
          "MAR: 1.4 &deg;C",
          "MOZ: 1.3 &deg;C",
          "MMR: 1.4 &deg;C",
          "NAM: 1.4 &deg;C",
          "NRU: nan &deg;C",
          "NPL: 1.3 &deg;C",
          "NLD: 2.7 &deg;C",
          "NZL: 4.5 &deg;C",
          "NIC: 4.5 &deg;C",
          "NER: 1.3 &deg;C",
          "NGA: 1.2 &deg;C",
          "NIU: nan &deg;C",
          "PRK: 3.5 &deg;C",
          "NOR: 3.7 &deg;C",
          "OMN: 4.5 &deg;C",
          "PAK: 1.6 &deg;C",
          "PLW: nan &deg;C",
          "PSE: 1.3 &deg;C",
          "PAN: 2.4 &deg;C",
          "PNG: 1.2 &deg;C",
          "PRY: 4.5 &deg;C",
          "PER: 1.4 &deg;C",
          "PHL: 1.4 &deg;C",
          "POL: 2.8 &deg;C",
          "PRT: 2.0 &deg;C",
          "QAT: 4.5 &deg;C",
          "ROU: 1.8 &deg;C",
          "RUS: 4.5 &deg;C",
          "RWA: 1.2 &deg;C",
          "KNA: nan &deg;C",
          "LCA: 1.5 &deg;C",
          "VCT: 2.2 &deg;C",
          "WSM: 1.4 &deg;C",
          "SMR: nan &deg;C",
          "STP: 1.2 &deg;C",
          "SAU: 3.8 &deg;C",
          "SEN: 1.3 &deg;C",
          "SRB: 4.5 &deg;C",
          "SYC: 4.5 &deg;C",
          "SLE: 1.2 &deg;C",
          "SGP: 4.5 &deg;C",
          "SVK: 1.8 &deg;C",
          "SVN: 2.9 &deg;C",
          "SLB: 1.2 &deg;C",
          "SOM: 1.6 &deg;C",
          "ZAF: 4.5 &deg;C",
          "KOR: 4.2 &deg;C",
          "SSD: 1.6 &deg;C",
          "ESP: 1.8 &deg;C",
          "LKA: 1.3 &deg;C",
          "SDN: 1.4 &deg;C",
          "SUR: 4.5 &deg;C",
          "SWE: 1.6 &deg;C",
          "CHE: 1.4 &deg;C",
          "SYR: 1.5 &deg;C",
          "TJK: 1.3 &deg;C",
          "TZA: 1.2 &deg;C",
          "THA: 1.8 &deg;C",
          "BHS: 4.5 &deg;C",
          "GMB: 1.2 &deg;C",
          "TLS: 1.4 &deg;C",
          "TGO: 1.2 &deg;C",
          "TON: 1.4 &deg;C",
          "TTO: 4.5 &deg;C",
          "TUN: 1.7 &deg;C",
          "TUR: 4.5 &deg;C",
          "TKM: 4.5 &deg;C",
          "TUV: nan &deg;C",
          "UGA: 1.2 &deg;C",
          "UKR: 3.3 &deg;C",
          "ARE: 4.5 &deg;C",
          "GBR: 1.5 &deg;C",
          "USA: 4.5 &deg;C",
          "URY: 4.5 &deg;C",
          "UZB: 4.5 &deg;C",
          "VUT: 1.2 &deg;C",
          "VEN: 4.5 &deg;C",
          "VNM: 3.9 &deg;C",
          "YEM: 1.2 &deg;C",
          "ZMB: 1.4 &deg;C",
          "ZWE: 1.3 &deg;C",
          "EU: 2.0 &deg;C",
          "EARTH: nan &deg;C",
          "G20: 3.3 &deg;C",
          "G7: 3.6 &deg;C",
          "SIDS: nan &deg;C",
          "LDC: nan &deg;C",
          "Northern America: 4.5 &deg;C",
          "Australasia: 4.5 &deg;C",
          "African Group: 1.4 &deg;C",
          "Umbrella: 4.5 &deg;C"
         ],
         "type": "choropleth",
         "z": [
          1.1519050102175836,
          1.518115837978873,
          1.6695073006926235,
          null,
          1.316902008181466,
          3.7217351605046716,
          2.5793187097406847,
          1.8950254819734091,
          4.476241104043133,
          1.948199600314096,
          2.078139157433256,
          4.476241104043133,
          1.2952923378567573,
          1.5519098365523154,
          4.476241104043133,
          2.4960281396177404,
          1.569940152468272,
          1.2766631852039407,
          1.807365709326218,
          4.476241104043133,
          3.23445744383433,
          2.4839327925445787,
          1.6875034116157333,
          4.476241104043133,
          1.9802775068364467,
          1.4686041305558801,
          1.1519050102175836,
          1.5472607074235858,
          1.4374163566037583,
          4.476241104043133,
          1.1841644266268567,
          1.3132960758292143,
          1.472453231578173,
          1.6009511396748408,
          4.476241104043133,
          1.3883858787755707,
          1.1519050102175836,
          1.1941030936713084,
          null,
          1.3360354507063514,
          1.1695852070523212,
          2.2150390375702536,
          1.7132793514094775,
          1.4664866343549698,
          3.7338547188034745,
          1.3700663782220388,
          2.049797879479989,
          1.358916005027503,
          null,
          1.4950244545525218,
          1.4857853875258817,
          1.6487579679138373,
          1.3552296199039902,
          4.476241104043133,
          1.3857538979409454,
          3.989242528140352,
          2.217471912317105,
          1.2365606205830877,
          1.4151106565291134,
          4.476241104043133,
          1.644793372234195,
          1.2442279968397272,
          1.4558203286971407,
          1.9480553354708512,
          1.2673807898621423,
          2.9953742254030544,
          1.4287689783892266,
          1.4565378698287517,
          1.4273932726824372,
          1.629714262138077,
          4.476241104043133,
          1.203840448867837,
          null,
          1.3522877670039282,
          2.1204356767866646,
          1.571832888830674,
          1.471419632018804,
          1.4941324538110115,
          4.476241104043133,
          4.476241104043133,
          4.378192215773055,
          2.2417799639753238,
          1.8333979049457891,
          1.39408114592486,
          2.3630761912913485,
          1.4480924093675278,
          4.476241104043133,
          1.3466103334521797,
          1.1519050102175836,
          4.476241104043133,
          1.4490883233591125,
          1.4739387589581223,
          2.8108955813841376,
          1.6512581618353197,
          1.3199619292950289,
          1.2845715835741598,
          1.1519050102175836,
          null,
          3.2551762881732245,
          4.476241104043133,
          1.4347549791931247,
          1.1519050102175836,
          1.1519050102175836,
          4.476241104043133,
          1.966496689111497,
          1.4659124312098386,
          1.4052315425574964,
          null,
          1.406379363604048,
          2.013097482937847,
          2.0062897254646614,
          1.1519050102175836,
          1.564752375359529,
          null,
          4.476241104043133,
          1.796792537366306,
          1.383719469440892,
          1.3233852060000326,
          1.3555264670022207,
          1.4301590136686388,
          null,
          1.2768520965581984,
          2.7147257011757286,
          4.476241104043133,
          4.476241104043133,
          1.3088983751984473,
          1.1892621159982917,
          null,
          3.468059208751825,
          3.73346925924605,
          4.476241104043133,
          1.643003778853822,
          null,
          1.310205525509518,
          2.4402216263065544,
          1.2289543198326154,
          4.476241104043133,
          1.4400371232521574,
          1.409939869269245,
          2.8255111737705008,
          2.0099002909957546,
          4.476241104043133,
          1.8489450122224644,
          4.476241104043133,
          1.1519050102175836,
          null,
          1.4899553556343612,
          2.2071447148503935,
          1.3632910387447246,
          null,
          1.2232690821657881,
          3.804481005297621,
          1.2794250166152226,
          4.476241104043133,
          4.476241104043133,
          1.1730834545095834,
          4.476241104043133,
          1.8231904247088648,
          2.889921986460216,
          1.1519050102175836,
          1.6188816683058165,
          4.476241104043133,
          4.2468243146739795,
          1.5717108992273565,
          1.8051400146041212,
          1.3197136400361082,
          1.4054396405067136,
          4.476241104043133,
          1.6033245128754388,
          1.411734562693462,
          1.4756010478385266,
          1.2890164937354989,
          1.2491426887883321,
          1.7935522858086372,
          4.476241104043133,
          1.2361310820427989,
          1.4059843440079054,
          1.2082661705234887,
          1.3733037308704221,
          4.476241104043133,
          1.69810608088828,
          4.476241104043133,
          4.476241104043133,
          null,
          1.18024240489625,
          3.251805939831062,
          4.476241104043133,
          1.4952200339840738,
          4.476241104043133,
          4.476241104043133,
          4.476241104043133,
          1.207553053640526,
          4.476241104043133,
          3.9172256020913068,
          1.1522558585335863,
          1.3879700409062388,
          1.3387382248988937,
          2.026305424352329,
          null,
          3.311920753241397,
          3.631713213787531,
          null,
          null,
          4.476241104043133,
          4.476241104043133,
          1.3939401139654906,
          4.476241104043133
         ],
         "zmax": 4,
         "zmin": 1
        },
        {
         "colorbar": {
          "len": 0.4,
          "lenmode": "fraction",
          "orientation": "h",
          "thickness": 20,
          "thicknessmode": "pixels",
          "tickfont": {
           "size": 14
          },
          "ticktext": [
           "1.0  &deg;C",
           "1.5  &deg;C",
           "2.0 &deg;C",
           "2.5 &deg;C",
           "3.0 &deg;C",
           "3.5 &deg;C",
           "4.0 &deg;C"
          ],
          "tickvals": [
           1,
           1.5,
           2,
           2.5,
           3,
           3.5,
           4
          ],
          "title": {
           "font": {
            "size": 14
           },
           "side": "bottom",
           "text": "<b>Climate target"
          },
          "x": 0.35,
          "xanchor": "left",
          "y": 0,
          "yanchor": "bottom"
         },
         "colorscale": [
          [
           0,
           "rgb(0,104,55)"
          ],
          [
           0.1,
           "rgb(26,152,80)"
          ],
          [
           0.2,
           "rgb(102,189,99)"
          ],
          [
           0.3,
           "rgb(166,217,106)"
          ],
          [
           0.4,
           "rgb(217,239,139)"
          ],
          [
           0.5,
           "rgb(255,255,191)"
          ],
          [
           0.6,
           "rgb(254,224,139)"
          ],
          [
           0.7,
           "rgb(253,174,97)"
          ],
          [
           0.8,
           "rgb(244,109,67)"
          ],
          [
           0.9,
           "rgb(215,48,39)"
          ],
          [
           1,
           "rgb(165,0,38)"
          ]
         ],
         "geo": "geo",
         "hovertemplate": "%{text}",
         "locationmode": "ISO-3",
         "locations": [
          "AUT",
          "BEL",
          "BGR",
          "HRV",
          "CYP",
          "CZE",
          "DNK",
          "EST",
          "FIN",
          "FRA",
          "DEU",
          "GRC",
          "HUN",
          "IRL",
          "ITA",
          "LVA",
          "LTU",
          "LUX",
          "MLT",
          "NLD",
          "POL",
          "PRT",
          "ROU",
          "SVK",
          "SVN",
          "ESP",
          "SWE"
         ],
         "marker": {
          "line": {
           "color": "black",
           "width": 1
          }
         },
         "name": "",
         "showscale": true,
         "text": [
          "AUT: 2.0 &deg;C",
          "BEL: 2.0 &deg;C",
          "BGR: 2.0 &deg;C",
          "HRV: 2.0 &deg;C",
          "CYP: 2.0 &deg;C",
          "CZE: 2.0 &deg;C",
          "DNK: 2.0 &deg;C",
          "EST: 2.0 &deg;C",
          "FIN: 2.0 &deg;C",
          "FRA: 2.0 &deg;C",
          "DEU: 2.0 &deg;C",
          "GRC: 2.0 &deg;C",
          "HUN: 2.0 &deg;C",
          "IRL: 2.0 &deg;C",
          "ITA: 2.0 &deg;C",
          "LVA: 2.0 &deg;C",
          "LTU: 2.0 &deg;C",
          "LUX: 2.0 &deg;C",
          "MLT: 2.0 &deg;C",
          "NLD: 2.0 &deg;C",
          "POL: 2.0 &deg;C",
          "PRT: 2.0 &deg;C",
          "ROU: 2.0 &deg;C",
          "SVK: 2.0 &deg;C",
          "SVN: 2.0 &deg;C",
          "ESP: 2.0 &deg;C",
          "SWE: 2.0 &deg;C"
         ],
         "type": "choropleth",
         "z": [
          2.026305424352329,
          2.026305424352329,
          2.026305424352329,
          2.026305424352329,
          2.026305424352329,
          2.026305424352329,
          2.026305424352329,
          2.026305424352329,
          2.026305424352329,
          2.026305424352329,
          2.026305424352329,
          2.026305424352329,
          2.026305424352329,
          2.026305424352329,
          2.026305424352329,
          2.026305424352329,
          2.026305424352329,
          2.026305424352329,
          2.026305424352329,
          2.026305424352329,
          2.026305424352329,
          2.026305424352329,
          2.026305424352329,
          2.026305424352329,
          2.026305424352329,
          2.026305424352329,
          2.026305424352329
         ],
         "zmax": 4,
         "zmin": 1
        }
       ],
       "layout": {
        "annotations": [
         {
          "font": {
           "color": "black",
           "size": 20
          },
          "showarrow": false,
          "text": "<b>NDC alignment of an equal per capita approach</b>",
          "x": 0.5,
          "xref": "paper",
          "y": 1.05,
          "yref": "paper"
         }
        ],
        "geo": {
         "domain": {
          "x": [
           0,
           1
          ],
          "y": [
           0,
           1
          ]
         },
         "lakecolor": "rgb(255, 255, 255)",
         "landcolor": "lightgrey",
         "projection": {
          "type": "natural earth"
         },
         "resolution": 110,
         "showcoastlines": false,
         "showframe": false,
         "showlakes": false,
         "visible": true
        },
        "height": 800,
        "template": {
         "data": {
          "bar": [
           {
            "error_x": {
             "color": "#2a3f5f"
            },
            "error_y": {
             "color": "#2a3f5f"
            },
            "marker": {
             "line": {
              "color": "#E5ECF6",
              "width": 0.5
             },
             "pattern": {
              "fillmode": "overlay",
              "size": 10,
              "solidity": 0.2
             }
            },
            "type": "bar"
           }
          ],
          "barpolar": [
           {
            "marker": {
             "line": {
              "color": "#E5ECF6",
              "width": 0.5
             },
             "pattern": {
              "fillmode": "overlay",
              "size": 10,
              "solidity": 0.2
             }
            },
            "type": "barpolar"
           }
          ],
          "carpet": [
           {
            "aaxis": {
             "endlinecolor": "#2a3f5f",
             "gridcolor": "white",
             "linecolor": "white",
             "minorgridcolor": "white",
             "startlinecolor": "#2a3f5f"
            },
            "baxis": {
             "endlinecolor": "#2a3f5f",
             "gridcolor": "white",
             "linecolor": "white",
             "minorgridcolor": "white",
             "startlinecolor": "#2a3f5f"
            },
            "type": "carpet"
           }
          ],
          "choropleth": [
           {
            "colorbar": {
             "outlinewidth": 0,
             "ticks": ""
            },
            "type": "choropleth"
           }
          ],
          "contour": [
           {
            "colorbar": {
             "outlinewidth": 0,
             "ticks": ""
            },
            "colorscale": [
             [
              0,
              "#0d0887"
             ],
             [
              0.1111111111111111,
              "#46039f"
             ],
             [
              0.2222222222222222,
              "#7201a8"
             ],
             [
              0.3333333333333333,
              "#9c179e"
             ],
             [
              0.4444444444444444,
              "#bd3786"
             ],
             [
              0.5555555555555556,
              "#d8576b"
             ],
             [
              0.6666666666666666,
              "#ed7953"
             ],
             [
              0.7777777777777778,
              "#fb9f3a"
             ],
             [
              0.8888888888888888,
              "#fdca26"
             ],
             [
              1,
              "#f0f921"
             ]
            ],
            "type": "contour"
           }
          ],
          "contourcarpet": [
           {
            "colorbar": {
             "outlinewidth": 0,
             "ticks": ""
            },
            "type": "contourcarpet"
           }
          ],
          "heatmap": [
           {
            "colorbar": {
             "outlinewidth": 0,
             "ticks": ""
            },
            "colorscale": [
             [
              0,
              "#0d0887"
             ],
             [
              0.1111111111111111,
              "#46039f"
             ],
             [
              0.2222222222222222,
              "#7201a8"
             ],
             [
              0.3333333333333333,
              "#9c179e"
             ],
             [
              0.4444444444444444,
              "#bd3786"
             ],
             [
              0.5555555555555556,
              "#d8576b"
             ],
             [
              0.6666666666666666,
              "#ed7953"
             ],
             [
              0.7777777777777778,
              "#fb9f3a"
             ],
             [
              0.8888888888888888,
              "#fdca26"
             ],
             [
              1,
              "#f0f921"
             ]
            ],
            "type": "heatmap"
           }
          ],
          "heatmapgl": [
           {
            "colorbar": {
             "outlinewidth": 0,
             "ticks": ""
            },
            "colorscale": [
             [
              0,
              "#0d0887"
             ],
             [
              0.1111111111111111,
              "#46039f"
             ],
             [
              0.2222222222222222,
              "#7201a8"
             ],
             [
              0.3333333333333333,
              "#9c179e"
             ],
             [
              0.4444444444444444,
              "#bd3786"
             ],
             [
              0.5555555555555556,
              "#d8576b"
             ],
             [
              0.6666666666666666,
              "#ed7953"
             ],
             [
              0.7777777777777778,
              "#fb9f3a"
             ],
             [
              0.8888888888888888,
              "#fdca26"
             ],
             [
              1,
              "#f0f921"
             ]
            ],
            "type": "heatmapgl"
           }
          ],
          "histogram": [
           {
            "marker": {
             "pattern": {
              "fillmode": "overlay",
              "size": 10,
              "solidity": 0.2
             }
            },
            "type": "histogram"
           }
          ],
          "histogram2d": [
           {
            "colorbar": {
             "outlinewidth": 0,
             "ticks": ""
            },
            "colorscale": [
             [
              0,
              "#0d0887"
             ],
             [
              0.1111111111111111,
              "#46039f"
             ],
             [
              0.2222222222222222,
              "#7201a8"
             ],
             [
              0.3333333333333333,
              "#9c179e"
             ],
             [
              0.4444444444444444,
              "#bd3786"
             ],
             [
              0.5555555555555556,
              "#d8576b"
             ],
             [
              0.6666666666666666,
              "#ed7953"
             ],
             [
              0.7777777777777778,
              "#fb9f3a"
             ],
             [
              0.8888888888888888,
              "#fdca26"
             ],
             [
              1,
              "#f0f921"
             ]
            ],
            "type": "histogram2d"
           }
          ],
          "histogram2dcontour": [
           {
            "colorbar": {
             "outlinewidth": 0,
             "ticks": ""
            },
            "colorscale": [
             [
              0,
              "#0d0887"
             ],
             [
              0.1111111111111111,
              "#46039f"
             ],
             [
              0.2222222222222222,
              "#7201a8"
             ],
             [
              0.3333333333333333,
              "#9c179e"
             ],
             [
              0.4444444444444444,
              "#bd3786"
             ],
             [
              0.5555555555555556,
              "#d8576b"
             ],
             [
              0.6666666666666666,
              "#ed7953"
             ],
             [
              0.7777777777777778,
              "#fb9f3a"
             ],
             [
              0.8888888888888888,
              "#fdca26"
             ],
             [
              1,
              "#f0f921"
             ]
            ],
            "type": "histogram2dcontour"
           }
          ],
          "mesh3d": [
           {
            "colorbar": {
             "outlinewidth": 0,
             "ticks": ""
            },
            "type": "mesh3d"
           }
          ],
          "parcoords": [
           {
            "line": {
             "colorbar": {
              "outlinewidth": 0,
              "ticks": ""
             }
            },
            "type": "parcoords"
           }
          ],
          "pie": [
           {
            "automargin": true,
            "type": "pie"
           }
          ],
          "scatter": [
           {
            "fillpattern": {
             "fillmode": "overlay",
             "size": 10,
             "solidity": 0.2
            },
            "type": "scatter"
           }
          ],
          "scatter3d": [
           {
            "line": {
             "colorbar": {
              "outlinewidth": 0,
              "ticks": ""
             }
            },
            "marker": {
             "colorbar": {
              "outlinewidth": 0,
              "ticks": ""
             }
            },
            "type": "scatter3d"
           }
          ],
          "scattercarpet": [
           {
            "marker": {
             "colorbar": {
              "outlinewidth": 0,
              "ticks": ""
             }
            },
            "type": "scattercarpet"
           }
          ],
          "scattergeo": [
           {
            "marker": {
             "colorbar": {
              "outlinewidth": 0,
              "ticks": ""
             }
            },
            "type": "scattergeo"
           }
          ],
          "scattergl": [
           {
            "marker": {
             "colorbar": {
              "outlinewidth": 0,
              "ticks": ""
             }
            },
            "type": "scattergl"
           }
          ],
          "scattermapbox": [
           {
            "marker": {
             "colorbar": {
              "outlinewidth": 0,
              "ticks": ""
             }
            },
            "type": "scattermapbox"
           }
          ],
          "scatterpolar": [
           {
            "marker": {
             "colorbar": {
              "outlinewidth": 0,
              "ticks": ""
             }
            },
            "type": "scatterpolar"
           }
          ],
          "scatterpolargl": [
           {
            "marker": {
             "colorbar": {
              "outlinewidth": 0,
              "ticks": ""
             }
            },
            "type": "scatterpolargl"
           }
          ],
          "scatterternary": [
           {
            "marker": {
             "colorbar": {
              "outlinewidth": 0,
              "ticks": ""
             }
            },
            "type": "scatterternary"
           }
          ],
          "surface": [
           {
            "colorbar": {
             "outlinewidth": 0,
             "ticks": ""
            },
            "colorscale": [
             [
              0,
              "#0d0887"
             ],
             [
              0.1111111111111111,
              "#46039f"
             ],
             [
              0.2222222222222222,
              "#7201a8"
             ],
             [
              0.3333333333333333,
              "#9c179e"
             ],
             [
              0.4444444444444444,
              "#bd3786"
             ],
             [
              0.5555555555555556,
              "#d8576b"
             ],
             [
              0.6666666666666666,
              "#ed7953"
             ],
             [
              0.7777777777777778,
              "#fb9f3a"
             ],
             [
              0.8888888888888888,
              "#fdca26"
             ],
             [
              1,
              "#f0f921"
             ]
            ],
            "type": "surface"
           }
          ],
          "table": [
           {
            "cells": {
             "fill": {
              "color": "#EBF0F8"
             },
             "line": {
              "color": "white"
             }
            },
            "header": {
             "fill": {
              "color": "#C8D4E3"
             },
             "line": {
              "color": "white"
             }
            },
            "type": "table"
           }
          ]
         },
         "layout": {
          "annotationdefaults": {
           "arrowcolor": "#2a3f5f",
           "arrowhead": 0,
           "arrowwidth": 1
          },
          "autotypenumbers": "strict",
          "coloraxis": {
           "colorbar": {
            "outlinewidth": 0,
            "ticks": ""
           }
          },
          "colorscale": {
           "diverging": [
            [
             0,
             "#8e0152"
            ],
            [
             0.1,
             "#c51b7d"
            ],
            [
             0.2,
             "#de77ae"
            ],
            [
             0.3,
             "#f1b6da"
            ],
            [
             0.4,
             "#fde0ef"
            ],
            [
             0.5,
             "#f7f7f7"
            ],
            [
             0.6,
             "#e6f5d0"
            ],
            [
             0.7,
             "#b8e186"
            ],
            [
             0.8,
             "#7fbc41"
            ],
            [
             0.9,
             "#4d9221"
            ],
            [
             1,
             "#276419"
            ]
           ],
           "sequential": [
            [
             0,
             "#0d0887"
            ],
            [
             0.1111111111111111,
             "#46039f"
            ],
            [
             0.2222222222222222,
             "#7201a8"
            ],
            [
             0.3333333333333333,
             "#9c179e"
            ],
            [
             0.4444444444444444,
             "#bd3786"
            ],
            [
             0.5555555555555556,
             "#d8576b"
            ],
            [
             0.6666666666666666,
             "#ed7953"
            ],
            [
             0.7777777777777778,
             "#fb9f3a"
            ],
            [
             0.8888888888888888,
             "#fdca26"
            ],
            [
             1,
             "#f0f921"
            ]
           ],
           "sequentialminus": [
            [
             0,
             "#0d0887"
            ],
            [
             0.1111111111111111,
             "#46039f"
            ],
            [
             0.2222222222222222,
             "#7201a8"
            ],
            [
             0.3333333333333333,
             "#9c179e"
            ],
            [
             0.4444444444444444,
             "#bd3786"
            ],
            [
             0.5555555555555556,
             "#d8576b"
            ],
            [
             0.6666666666666666,
             "#ed7953"
            ],
            [
             0.7777777777777778,
             "#fb9f3a"
            ],
            [
             0.8888888888888888,
             "#fdca26"
            ],
            [
             1,
             "#f0f921"
            ]
           ]
          },
          "colorway": [
           "#636efa",
           "#EF553B",
           "#00cc96",
           "#ab63fa",
           "#FFA15A",
           "#19d3f3",
           "#FF6692",
           "#B6E880",
           "#FF97FF",
           "#FECB52"
          ],
          "font": {
           "color": "#2a3f5f"
          },
          "geo": {
           "bgcolor": "white",
           "lakecolor": "white",
           "landcolor": "#E5ECF6",
           "showlakes": true,
           "showland": true,
           "subunitcolor": "white"
          },
          "hoverlabel": {
           "align": "left"
          },
          "hovermode": "closest",
          "mapbox": {
           "style": "light"
          },
          "paper_bgcolor": "white",
          "plot_bgcolor": "#E5ECF6",
          "polar": {
           "angularaxis": {
            "gridcolor": "white",
            "linecolor": "white",
            "ticks": ""
           },
           "bgcolor": "#E5ECF6",
           "radialaxis": {
            "gridcolor": "white",
            "linecolor": "white",
            "ticks": ""
           }
          },
          "scene": {
           "xaxis": {
            "backgroundcolor": "#E5ECF6",
            "gridcolor": "white",
            "gridwidth": 2,
            "linecolor": "white",
            "showbackground": true,
            "ticks": "",
            "zerolinecolor": "white"
           },
           "yaxis": {
            "backgroundcolor": "#E5ECF6",
            "gridcolor": "white",
            "gridwidth": 2,
            "linecolor": "white",
            "showbackground": true,
            "ticks": "",
            "zerolinecolor": "white"
           },
           "zaxis": {
            "backgroundcolor": "#E5ECF6",
            "gridcolor": "white",
            "gridwidth": 2,
            "linecolor": "white",
            "showbackground": true,
            "ticks": "",
            "zerolinecolor": "white"
           }
          },
          "shapedefaults": {
           "line": {
            "color": "#2a3f5f"
           }
          },
          "ternary": {
           "aaxis": {
            "gridcolor": "white",
            "linecolor": "white",
            "ticks": ""
           },
           "baxis": {
            "gridcolor": "white",
            "linecolor": "white",
            "ticks": ""
           },
           "bgcolor": "#E5ECF6",
           "caxis": {
            "gridcolor": "white",
            "linecolor": "white",
            "ticks": ""
           }
          },
          "title": {
           "x": 0.05
          },
          "xaxis": {
           "automargin": true,
           "gridcolor": "white",
           "linecolor": "white",
           "ticks": "",
           "title": {
            "standoff": 15
           },
           "zerolinecolor": "white",
           "zerolinewidth": 2
          },
          "yaxis": {
           "automargin": true,
           "gridcolor": "white",
           "linecolor": "white",
           "ticks": "",
           "title": {
            "standoff": 15
           },
           "zerolinecolor": "white",
           "zerolinewidth": 2
          }
         }
        },
        "width": 1450
       }
      }
     },
     "metadata": {},
     "output_type": "display_data"
    }
   ],
   "source": [
    "fig = make_subplots(rows=1, cols=1,\n",
    "                    specs=[[{'type': 'choropleth'}]],\n",
    "                    horizontal_spacing = 0., vertical_spacing=0.0)\n",
    "\n",
    "for i in range(1):\n",
    "    dath = [temps_1][i]\n",
    "    dat = np.array(dath)\n",
    "    scale = 'RdYlGn_r'\n",
    "    dc = dict(orientation='h', x=0.35, y=0.0, xanchor='left', yanchor='bottom', title='<b>Climate target', tickvals=[1.0, 1.5, 2.0, 2.5, 3, 3.5, 4],\n",
    "                        ticktext=['1.0  &deg;C', '1.5  &deg;C', '2.0 &deg;C', '2.5 &deg;C', '3.0 &deg;C', '3.5 &deg;C', '4.0 &deg;C'],\n",
    "                        tickfont=dict(size=14),\n",
    "                        len=0.4, lenmode='fraction', thickness=20, thicknessmode='pixels', titlefont=dict(size=14))\n",
    "    #Grey out nans\n",
    "    fig.add_trace(go.Choropleth(\n",
    "            locations=['ATA'],\n",
    "            z = [0.5],\n",
    "            locationmode = 'ISO-3',\n",
    "            colorscale ='Greys',\n",
    "            zmax = 4.5,\n",
    "            zmin = 0.5,\n",
    "            text = ['hoi'],\n",
    "            hovertemplate  = '%{text}',\n",
    "            name=\"\",\n",
    "            marker_line_color='black', \n",
    "            marker_line_width=0,\n",
    "            showscale=False,\n",
    "        ), [1, 2][i], 1)\n",
    "    \n",
    "    # Make somaliland equal to SOM\n",
    "    data = data = [['SOM',float(dath.sel(Region='SOM'))],['SOL',float(dath.sel(Region='SOM'))]]\n",
    "    df = pd.DataFrame(data,columns=['sov_a3','population'])\n",
    "    \n",
    "    fig.add_trace(go.Choropleth(\n",
    "            locations=np.array((dath).Region),\n",
    "            z = dat,\n",
    "            locationmode = 'ISO-3',\n",
    "            colorscale = scale,\n",
    "                zmax = 4.,\n",
    "                zmin = 1.0,\n",
    "            text = [str(r)+\": \"+str(np.round(dat[r_i], 1))+\" &deg;C\" for r_i, r in enumerate(np.array((dath).Region))],\n",
    "            hovertemplate  = '%{text}',\n",
    "            name=\"\",\n",
    "            colorbar=dc,\n",
    "            marker_line_color='black', \n",
    "            marker_line_width=1,\n",
    "            showscale=[True, False][i],\n",
    "        ), [1, 2][i], 1)\n",
    "    \n",
    "    \n",
    "    fig.add_trace(\n",
    "        go.Choropleth(\n",
    "        locations=group_eu,\n",
    "        z = np.array([dat[np.where(all_regions_iso == \"EU\")[0][0]]]*len(group_eu)),\n",
    "        locationmode = 'ISO-3',\n",
    "        colorscale = scale,\n",
    "            zmax = 4.,\n",
    "            zmin = 1.0,\n",
    "        text = [str(r)+\": \"+str(np.round(dat[np.where(all_regions_iso == \"EU\")[0][0]], 1))+\" &deg;C\" for r_i, r in enumerate(group_eu)],\n",
    "        hovertemplate  = '%{text}',\n",
    "        name=\"\",\n",
    "        colorbar=dc,\n",
    "        marker_line_color='black', \n",
    "        marker_line_width=1,\n",
    "        showscale=[True, False][i],\n",
    "        ), [1, 2][i], 1)\n",
    "\n",
    "fs=20\n",
    "fig['layout'].update(\n",
    "    annotations=[dict(x=0.5, y=1.05, text='<b>NDC alignment of an equal per capita approach</b>', xref='paper', yref='paper', showarrow=False, font=dict(color='black', size=fs)),\n",
    "                 #dict(x=0.15, y=0.52, text='<b>(b) NDC alignment of approach 2', xref='paper', yref='paper', xanchor='left', showarrow=False, font=dict(color='black', size=fs)),\n",
    "                 ])\n",
    "\n",
    "fig.update_geos(visible=True,\n",
    "                showlakes=False,\n",
    "                lakecolor='rgb(255, 255, 255)',\n",
    "                projection_type='natural earth',\n",
    "                showframe=False,\n",
    "                resolution=110,\n",
    "                landcolor=\"lightgrey\",\n",
    "                showcoastlines=False,)\n",
    "fig.update_traces(colorbar=dict(\n",
    "    title=dict(\n",
    "        side=\"bottom\"\n",
    "    )\n",
    "))\n",
    "\n",
    "fig.update_layout(height=800, width=1450)\n",
    "fig.write_image(path_figs / \"Figure_5.png\", scale=5)\n",
    "fig.show()"
   ]
  }
 ],
 "metadata": {
  "kernelspec": {
   "display_name": "Python 3",
   "language": "python",
   "name": "python3"
  },
  "language_info": {
   "codemirror_mode": {
    "name": "ipython",
    "version": 3
   },
   "file_extension": ".py",
   "mimetype": "text/x-python",
   "name": "python",
   "nbconvert_exporter": "python",
   "pygments_lexer": "ipython3",
   "version": "3.12.5"
  },
  "orig_nbformat": 4
 },
 "nbformat": 4,
 "nbformat_minor": 2
}
