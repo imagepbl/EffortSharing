{
 "cells": [
  {
   "attachments": {},
   "cell_type": "markdown",
   "metadata": {},
   "source": [
    "## Preambule"
   ]
  },
  {
   "cell_type": "code",
   "execution_count": 1,
   "metadata": {},
   "outputs": [],
   "source": [
    "# General packages\n",
    "import numpy as np\n",
    "import pandas as pd\n",
    "from tqdm import tqdm\n",
    "from pathlib import Path\n",
    "import xarray as xr\n",
    "import json\n",
    "\n",
    "# Plotting\n",
    "import matplotlib.pyplot as plt\n",
    "import plotly.express as px\n",
    "import plotly.graph_objects as go\n",
    "from plotly.subplots import make_subplots\n",
    "from plotly.colors import n_colors"
   ]
  },
  {
   "cell_type": "code",
   "execution_count": 2,
   "metadata": {},
   "outputs": [],
   "source": [
    "import json\n",
    "f = open('X:/user/dekkerm/Data/Maps/Somaliland.json', encoding='utf8')\n",
    "somaliland_data = json.load(f)"
   ]
  },
  {
   "attachments": {},
   "cell_type": "markdown",
   "metadata": {},
   "source": [
    "## Paths"
   ]
  },
  {
   "cell_type": "code",
   "execution_count": 3,
   "metadata": {},
   "outputs": [],
   "source": [
    "path_data = Path(\"K:/Data/Data_effortsharing/DataUpdate_ongoing/startyear_2021/\")\n",
    "path_data_gen = Path(\"K:/Data/Data_effortsharing/DataUpdate_ongoing/\")\n",
    "path_figs = Path(\"K:/Code/effort-sharing/\") / \"Figures\" / \"Paper_Robiou2023\""
   ]
  },
  {
   "attachments": {},
   "cell_type": "markdown",
   "metadata": {},
   "source": [
    "## Read data files"
   ]
  },
  {
   "cell_type": "code",
   "execution_count": 4,
   "metadata": {},
   "outputs": [],
   "source": [
    "xr_dataread = xr.open_dataset(path_data / \"xr_dataread.nc\")\n",
    "xr_combs = xr.open_dataset(path_data / \"xr_comb_GHG_excl.nc\")\n",
    "xr_temps = xr.open_dataset(path_data / \"xr_combtemps_GHG_excl.nc\")\n",
    "all_regions_iso = np.load(path_data_gen / \"all_regions.npy\")\n",
    "all_regions_names = np.array(list(np.load(path_data_gen / \"all_regions_names.npy\")[:-1])+['Earth']) # Only in old xr_dataread version, should be updated when reran\n",
    "all_countries_iso = np.load(path_data_gen / \"all_countries.npy\", allow_pickle=True)\n",
    "all_countries_names = np.load(path_data_gen / \"all_countries_names.npy\", allow_pickle=True)\n",
    "only_regions_iso = ['CVF', 'G20', \"EU\", \"G7\", \"NA\", \"AU\", \"AF\", \"SIDS\", \"LDC\", \"WORLD\"]\n",
    "only_regions_names = ['Climate Vulnerability Forum','G20',\"European Union\",\"G7\",\"Northern America\",\"Australasia\",\"African Group\",\"Small Island Developing States\",\"Least Developed Countries\", 'World']"
   ]
  },
  {
   "cell_type": "code",
   "execution_count": 5,
   "metadata": {},
   "outputs": [],
   "source": [
    "df_g = pd.read_excel(Path(\"X:/user/dekkerm/Data/\") / \"UNFCCC_Parties_Groups_noeu.xlsx\", sheet_name = \"Country groups\")\n",
    "countries_iso = np.array(df_g[\"Country ISO Code\"])\n",
    "countries_name = np.array(df_g[\"Name\"])\n",
    "countries_iso = np.array(df_g[\"Country ISO Code\"])\n",
    "group_cvf = countries_iso[np.array(df_g[\"CVF (24/10/22)\"]) == 1]\n",
    "group_g20 = countries_iso[np.array(df_g[\"G20\"]) == 1]\n",
    "group_eu = countries_iso[np.array(df_g[\"EU\"]) == 1]\n",
    "group_g7 = countries_iso[np.array(df_g[\"G7\"]) == 1]\n",
    "group_na = countries_iso[np.array(df_g[\"Northern America\"]) == 1]\n",
    "group_um = countries_iso[np.array(df_g[\"Umbrella\"]) == 1]\n",
    "group_au = countries_iso[np.array(df_g[\"Australasia\"]) == 1]\n",
    "group_af = countries_iso[np.array(df_g[\"African Group\"]) == 1]\n",
    "group_sids = countries_iso[np.array(df_g[\"SIDS\"]) == 1]\n",
    "group_ldc = countries_iso[np.array(df_g[\"LDC\"]) == 1]\n",
    "group_eg = countries_iso[np.array(df_g[\"European Group\"]) == 1]\n",
    "group_world = np.copy(countries_iso)"
   ]
  },
  {
   "cell_type": "code",
   "execution_count": 6,
   "metadata": {},
   "outputs": [],
   "source": [
    "temps_1 = xr_temps.Approach1_gdp.sel(Time=2030, Discount_factor=0, Historical_startyear=1990, Risk=0.5, Scenario='SSP2', Conditionality='unconditional', Hot_air='include').mean(dim='Ambition')\n",
    "temps_2 = xr_temps.Approach2.sel(Time=2030, Discount_factor=0, Historical_startyear=1990, Risk=0.5, Scenario='SSP2', Conditionality='unconditional', Hot_air='include').mean(dim='Ambition')"
   ]
  },
  {
   "cell_type": "markdown",
   "metadata": {},
   "source": [
    "## Plot"
   ]
  },
  {
   "cell_type": "code",
   "execution_count": 7,
   "metadata": {},
   "outputs": [
    {
     "data": {
      "application/vnd.plotly.v1+json": {
       "config": {
        "plotlyServerURL": "https://plot.ly"
       },
       "data": [
        {
         "colorbar": {
          "title": {
           "side": "bottom"
          }
         },
         "colorscale": [
          [
           0,
           "rgb(255,255,255)"
          ],
          [
           0.125,
           "rgb(240,240,240)"
          ],
          [
           0.25,
           "rgb(217,217,217)"
          ],
          [
           0.375,
           "rgb(189,189,189)"
          ],
          [
           0.5,
           "rgb(150,150,150)"
          ],
          [
           0.625,
           "rgb(115,115,115)"
          ],
          [
           0.75,
           "rgb(82,82,82)"
          ],
          [
           0.875,
           "rgb(37,37,37)"
          ],
          [
           1,
           "rgb(0,0,0)"
          ]
         ],
         "geo": "geo",
         "hovertemplate": "%{text}",
         "locationmode": "ISO-3",
         "locations": [
          "ATA"
         ],
         "marker": {
          "line": {
           "color": "black",
           "width": 0
          }
         },
         "name": "",
         "showscale": false,
         "text": [
          "hoi"
         ],
         "type": "choropleth",
         "z": [
          0.5
         ],
         "zmax": 4.5,
         "zmin": 0.5
        },
        {
         "colorbar": {
          "len": 0.4,
          "lenmode": "fraction",
          "orientation": "h",
          "thickness": 20,
          "thicknessmode": "pixels",
          "tickfont": {
           "size": 14
          },
          "ticktext": [
           "1.0  &deg;C",
           "1.5  &deg;C",
           "2.0 &deg;C",
           "2.5 &deg;C",
           "3.0 &deg;C",
           "3.5 &deg;C",
           "4.0 &deg;C"
          ],
          "tickvals": [
           1,
           1.5,
           2,
           2.5,
           3,
           3.5,
           4
          ],
          "title": {
           "font": {
            "size": 14
           },
           "side": "bottom",
           "text": "<b>Climate target"
          },
          "x": 0.35,
          "xanchor": "left",
          "y": 0.52,
          "yanchor": "bottom"
         },
         "colorscale": [
          [
           0,
           "rgb(0,104,55)"
          ],
          [
           0.1,
           "rgb(26,152,80)"
          ],
          [
           0.2,
           "rgb(102,189,99)"
          ],
          [
           0.3,
           "rgb(166,217,106)"
          ],
          [
           0.4,
           "rgb(217,239,139)"
          ],
          [
           0.5,
           "rgb(255,255,191)"
          ],
          [
           0.6,
           "rgb(254,224,139)"
          ],
          [
           0.7,
           "rgb(253,174,97)"
          ],
          [
           0.8,
           "rgb(244,109,67)"
          ],
          [
           0.9,
           "rgb(215,48,39)"
          ],
          [
           1,
           "rgb(165,0,38)"
          ]
         ],
         "geo": "geo",
         "hovertemplate": "%{text}",
         "locationmode": "ISO-3",
         "locations": [
          "AFG",
          "ALB",
          "DZA",
          "AND",
          "AGO",
          "ATG",
          "ARG",
          "ARM",
          "AUS",
          "AUT",
          "AZE",
          "BHR",
          "BGD",
          "BRB",
          "BLR",
          "BEL",
          "BLZ",
          "BEN",
          "BTN",
          "BOL",
          "BIH",
          "BWA",
          "BRA",
          "BRN",
          "BGR",
          "BFA",
          "BDI",
          "KHM",
          "CMR",
          "CAN",
          "CPV",
          "CAF",
          "TCD",
          "CHL",
          "CHN",
          "COL",
          "COM",
          "COG",
          "COK",
          "CRI",
          "CIV",
          "HRV",
          "CUB",
          "CYP",
          "CZE",
          "COD",
          "DNK",
          "DJI",
          "DMA",
          "DOM",
          "ECU",
          "EGY",
          "SLV",
          "GNQ",
          "ERI",
          "EST",
          "SWZ",
          "ETH",
          "FJI",
          "FIN",
          "FRA",
          "GAB",
          "GEO",
          "DEU",
          "GHA",
          "GRC",
          "GRD",
          "GTM",
          "GIN",
          "GNB",
          "GUY",
          "HTI",
          "VAT",
          "HND",
          "HUN",
          "ISL",
          "IND",
          "IDN",
          "IRN",
          "IRQ",
          "IRL",
          "ISR",
          "ITA",
          "JAM",
          "JPN",
          "JOR",
          "KAZ",
          "KEN",
          "KIR",
          "KWT",
          "KGZ",
          "LAO",
          "LVA",
          "LBN",
          "LSO",
          "LBR",
          "LBY",
          "LIE",
          "LTU",
          "LUX",
          "MKD",
          "MDG",
          "MWI",
          "MYS",
          "MDV",
          "MLI",
          "MLT",
          "MHL",
          "MRT",
          "MUS",
          "MEX",
          "FSM",
          "MDA",
          "MCO",
          "MNG",
          "MNE",
          "MAR",
          "MOZ",
          "MMR",
          "NAM",
          "NRU",
          "NPL",
          "NLD",
          "NZL",
          "NIC",
          "NER",
          "NGA",
          "NIU",
          "PRK",
          "NOR",
          "OMN",
          "PAK",
          "PLW",
          "PSE",
          "PAN",
          "PNG",
          "PRY",
          "PER",
          "PHL",
          "POL",
          "PRT",
          "QAT",
          "ROU",
          "RUS",
          "RWA",
          "KNA",
          "LCA",
          "VCT",
          "WSM",
          "SMR",
          "STP",
          "SAU",
          "SEN",
          "SRB",
          "SYC",
          "SLE",
          "SGP",
          "SVK",
          "SVN",
          "SLB",
          "SOM",
          "ZAF",
          "KOR",
          "SSD",
          "ESP",
          "LKA",
          "SDN",
          "SUR",
          "SWE",
          "CHE",
          "SYR",
          "TJK",
          "TZA",
          "THA",
          "BHS",
          "GMB",
          "TLS",
          "TGO",
          "TON",
          "TTO",
          "TUN",
          "TUR",
          "TKM",
          "TUV",
          "UGA",
          "UKR",
          "ARE",
          "GBR",
          "USA",
          "URY",
          "UZB",
          "VUT",
          "VEN",
          "VNM",
          "YEM",
          "ZMB",
          "ZWE",
          "EU",
          "EARTH",
          "G20",
          "G7",
          "SIDS",
          "LDC",
          "Northern America",
          "Australasia",
          "African Group",
          "Umbrella"
         ],
         "marker": {
          "line": {
           "color": "black",
           "width": 1
          }
         },
         "name": "",
         "showscale": true,
         "text": [
          "AFG: nan &deg;C",
          "ALB: 1.9 &deg;C",
          "DZA: 1.6 &deg;C",
          "AND: nan &deg;C",
          "AGO: 1.2 &deg;C",
          "ATG: 4.1 &deg;C",
          "ARG: 4.5 &deg;C",
          "ARM: 1.8 &deg;C",
          "AUS: 4.5 &deg;C",
          "AUT: 4.5 &deg;C",
          "AZE: 3.6 &deg;C",
          "BHR: 4.5 &deg;C",
          "BGD: 1.2 &deg;C",
          "BRB: 4.5 &deg;C",
          "BLR: 4.5 &deg;C",
          "BEL: 4.5 &deg;C",
          "BLZ: 1.4 &deg;C",
          "BEN: 1.2 &deg;C",
          "BTN: 1.6 &deg;C",
          "BOL: 4.5 &deg;C",
          "BIH: 4.5 &deg;C",
          "BWA: 2.4 &deg;C",
          "BRA: 2.1 &deg;C",
          "BRN: 4.5 &deg;C",
          "BGR: 4.5 &deg;C",
          "BFA: 1.2 &deg;C",
          "BDI: 1.2 &deg;C",
          "KHM: 1.4 &deg;C",
          "CMR: 1.2 &deg;C",
          "CAN: 4.5 &deg;C",
          "CPV: 1.2 &deg;C",
          "CAF: 1.2 &deg;C",
          "TCD: 1.2 &deg;C",
          "CHL: 1.9 &deg;C",
          "CHN: 4.5 &deg;C",
          "COL: 1.3 &deg;C",
          "COM: 1.2 &deg;C",
          "COG: 1.2 &deg;C",
          "COK: nan &deg;C",
          "CRI: 1.2 &deg;C",
          "CIV: 1.2 &deg;C",
          "HRV: 4.5 &deg;C",
          "CUB: 2.3 &deg;C",
          "CYP: 1.5 &deg;C",
          "CZE: 4.5 &deg;C",
          "COD: 1.2 &deg;C",
          "DNK: 4.5 &deg;C",
          "DJI: 1.2 &deg;C",
          "DMA: nan &deg;C",
          "DOM: 1.4 &deg;C",
          "ECU: 1.4 &deg;C",
          "EGY: 1.3 &deg;C",
          "SLV: 1.3 &deg;C",
          "GNQ: 3.0 &deg;C",
          "ERI: 1.3 &deg;C",
          "EST: 4.5 &deg;C",
          "SWZ: 1.6 &deg;C",
          "ETH: 1.2 &deg;C",
          "FJI: 1.4 &deg;C",
          "FIN: 4.5 &deg;C",
          "FRA: 2.9 &deg;C",
          "GAB: 1.3 &deg;C",
          "GEO: 1.6 &deg;C",
          "DEU: 4.5 &deg;C",
          "GHA: 1.2 &deg;C",
          "GRC: 4.5 &deg;C",
          "GRD: 1.4 &deg;C",
          "GTM: 1.3 &deg;C",
          "GIN: 1.2 &deg;C",
          "GNB: 1.4 &deg;C",
          "GUY: 1.5 &deg;C",
          "HTI: 1.2 &deg;C",
          "VAT: nan &deg;C",
          "HND: 1.2 &deg;C",
          "HUN: 4.5 &deg;C",
          "ISL: 3.5 &deg;C",
          "IND: 1.4 &deg;C",
          "IDN: 1.4 &deg;C",
          "IRN: 4.5 &deg;C",
          "IRQ: 2.6 &deg;C",
          "IRL: 2.1 &deg;C",
          "ISR: 1.5 &deg;C",
          "ITA: 4.5 &deg;C",
          "JAM: 1.5 &deg;C",
          "JPN: 4.5 &deg;C",
          "JOR: 1.3 &deg;C",
          "KAZ: 4.5 &deg;C",
          "KEN: 1.2 &deg;C",
          "KIR: 1.2 &deg;C",
          "KWT: 4.5 &deg;C",
          "KGZ: 1.4 &deg;C",
          "LAO: 1.4 &deg;C",
          "LVA: 4.5 &deg;C",
          "LBN: 1.6 &deg;C",
          "LSO: 1.3 &deg;C",
          "LBR: 1.2 &deg;C",
          "LBY: 1.2 &deg;C",
          "LIE: nan &deg;C",
          "LTU: 4.5 &deg;C",
          "LUX: 4.5 &deg;C",
          "MKD: 1.6 &deg;C",
          "MDG: 1.2 &deg;C",
          "MWI: 1.2 &deg;C",
          "MYS: 4.5 &deg;C",
          "MDV: 1.4 &deg;C",
          "MLI: 1.2 &deg;C",
          "MLT: 1.4 &deg;C",
          "MHL: nan &deg;C",
          "MRT: 1.2 &deg;C",
          "MUS: 1.9 &deg;C",
          "MEX: 2.1 &deg;C",
          "FSM: 1.2 &deg;C",
          "MDA: 3.4 &deg;C",
          "MCO: nan &deg;C",
          "MNG: 4.5 &deg;C",
          "MNE: 3.2 &deg;C",
          "MAR: 1.3 &deg;C",
          "MOZ: 1.2 &deg;C",
          "MMR: 1.4 &deg;C",
          "NAM: 1.4 &deg;C",
          "NRU: nan &deg;C",
          "NPL: 1.2 &deg;C",
          "NLD: 4.5 &deg;C",
          "NZL: 4.5 &deg;C",
          "NIC: 3.6 &deg;C",
          "NER: 1.2 &deg;C",
          "NGA: 1.2 &deg;C",
          "NIU: nan &deg;C",
          "PRK: 4.5 &deg;C",
          "NOR: 4.5 &deg;C",
          "OMN: 4.5 &deg;C",
          "PAK: 1.4 &deg;C",
          "PLW: nan &deg;C",
          "PSE: nan &deg;C",
          "PAN: 1.5 &deg;C",
          "PNG: 1.2 &deg;C",
          "PRY: 4.5 &deg;C",
          "PER: 1.4 &deg;C",
          "PHL: 1.3 &deg;C",
          "POL: 4.5 &deg;C",
          "PRT: 4.5 &deg;C",
          "QAT: 4.5 &deg;C",
          "ROU: 4.5 &deg;C",
          "RUS: 4.5 &deg;C",
          "RWA: 1.2 &deg;C",
          "KNA: nan &deg;C",
          "LCA: 1.5 &deg;C",
          "VCT: 2.2 &deg;C",
          "WSM: 1.3 &deg;C",
          "SMR: nan &deg;C",
          "STP: 1.2 &deg;C",
          "SAU: 4.5 &deg;C",
          "SEN: 1.2 &deg;C",
          "SRB: 4.5 &deg;C",
          "SYC: 3.7 &deg;C",
          "SLE: 1.2 &deg;C",
          "SGP: 4.5 &deg;C",
          "SVK: 4.5 &deg;C",
          "SVN: 4.5 &deg;C",
          "SLB: 1.2 &deg;C",
          "SOM: nan &deg;C",
          "ZAF: 4.5 &deg;C",
          "KOR: 4.5 &deg;C",
          "SSD: 2.0 &deg;C",
          "ESP: 3.8 &deg;C",
          "LKA: 1.2 &deg;C",
          "SDN: 1.2 &deg;C",
          "SUR: 4.5 &deg;C",
          "SWE: 1.6 &deg;C",
          "CHE: 1.4 &deg;C",
          "SYR: nan &deg;C",
          "TJK: 1.2 &deg;C",
          "TZA: 1.2 &deg;C",
          "THA: 4.3 &deg;C",
          "BHS: 4.5 &deg;C",
          "GMB: nan &deg;C",
          "TLS: 1.3 &deg;C",
          "TGO: 1.2 &deg;C",
          "TON: 1.4 &deg;C",
          "TTO: 4.5 &deg;C",
          "TUN: 1.6 &deg;C",
          "TUR: 4.5 &deg;C",
          "TKM: 4.5 &deg;C",
          "TUV: nan &deg;C",
          "UGA: 1.2 &deg;C",
          "UKR: 4.5 &deg;C",
          "ARE: 4.5 &deg;C",
          "GBR: 2.2 &deg;C",
          "USA: 4.5 &deg;C",
          "URY: 4.5 &deg;C",
          "UZB: 4.1 &deg;C",
          "VUT: 1.2 &deg;C",
          "VEN: nan &deg;C",
          "VNM: 2.5 &deg;C",
          "YEM: 1.2 &deg;C",
          "ZMB: 1.2 &deg;C",
          "ZWE: 1.2 &deg;C",
          "EU: 4.5 &deg;C",
          "EARTH: nan &deg;C",
          "G20: 4.5 &deg;C",
          "G7: 4.5 &deg;C",
          "SIDS: nan &deg;C",
          "LDC: nan &deg;C",
          "Northern America: 4.5 &deg;C",
          "Australasia: 4.5 &deg;C",
          "African Group: 1.2 &deg;C",
          "Umbrella: 4.5 &deg;C"
         ],
         "type": "choropleth",
         "z": [
          null,
          1.919447996889227,
          1.5651630207641227,
          null,
          1.1519050102175836,
          4.13905391047696,
          4.476241104043133,
          1.7610322010956434,
          4.476241104043133,
          4.476241104043133,
          3.6184853997517585,
          4.476241104043133,
          1.1934883419382891,
          4.455705193502219,
          4.476241104043133,
          4.476241104043133,
          1.4165764278565494,
          1.1519050102175836,
          1.6200491772862722,
          4.476241104043133,
          4.476241104043133,
          2.410946687127094,
          2.09509657674196,
          4.476241104043133,
          4.476241104043133,
          1.2416827672677653,
          1.1519050102175836,
          1.434494986817198,
          1.233015819128833,
          4.476241104043133,
          1.1519050102175836,
          1.1554446392054516,
          1.2397425735538377,
          1.863710505286754,
          4.476241104043133,
          1.3452138958438897,
          1.1519050102175836,
          1.1519050102175836,
          null,
          1.2432286199355531,
          1.1519050102175836,
          4.476241104043133,
          2.3224180515311676,
          1.4918086647936497,
          4.476241104043133,
          1.1519050102175836,
          4.476241104043133,
          1.24931975065011,
          null,
          1.3810660171529947,
          1.4477450724482324,
          1.341451394987004,
          1.3183336199110463,
          2.9772458987461263,
          1.25896714102695,
          4.476241104043133,
          1.6424928899365785,
          1.1519050102175836,
          1.3593399653127012,
          4.476241104043133,
          2.904563884429624,
          1.3140423741201046,
          1.5580851780594884,
          4.476241104043133,
          1.1519050102175836,
          4.476241104043133,
          1.3591717103102958,
          1.3250289207249217,
          1.242130739590638,
          1.4232233088725057,
          1.5253854991652858,
          1.1519050102175836,
          null,
          1.2245772893624183,
          4.476241104043133,
          3.4921979949010264,
          1.4014836721646011,
          1.4450107062666675,
          4.476241104043133,
          2.567705562835517,
          2.141859433129653,
          1.4643667015262483,
          4.476241104043133,
          1.4688885438723007,
          4.476241104043133,
          1.3052399844241067,
          4.476241104043133,
          1.1795950550985561,
          1.1519050102175836,
          4.476241104043133,
          1.3560180561635176,
          1.3935929144490877,
          4.476241104043133,
          1.5500897168781271,
          1.30067729645515,
          1.1519050102175836,
          1.1519050102175836,
          null,
          4.476241104043133,
          4.476241104043133,
          1.5531371275078794,
          1.1519050102175836,
          1.1519050102175836,
          4.476241104043133,
          1.4495971831476888,
          1.2228164329332345,
          1.363910680832795,
          null,
          1.2117774285537342,
          1.8730319465498368,
          2.145347017031881,
          1.1519050102175836,
          3.351673825889936,
          null,
          4.476241104043133,
          3.168539038943905,
          1.3014851413616448,
          1.1519050102175836,
          1.35130733731307,
          1.3681656663719128,
          null,
          1.1956687176378622,
          4.476241104043133,
          4.476241104043133,
          3.565360872777326,
          1.1519050102175836,
          1.1519050102175836,
          null,
          4.476241104043133,
          4.476241104043133,
          4.476241104043133,
          1.370950479033691,
          null,
          null,
          1.4879536008329715,
          1.1519050102175836,
          4.476241104043133,
          1.3666026882532538,
          1.2597577514201797,
          4.476241104043133,
          4.476241104043133,
          4.476241104043133,
          4.476241104043133,
          4.476241104043133,
          1.1519050102175836,
          null,
          1.4824967312597477,
          2.244492240481989,
          1.275529824470316,
          null,
          1.1519050102175836,
          4.476241104043133,
          1.1519050102175836,
          4.476241104043133,
          3.717766571481164,
          1.1519050102175836,
          4.476241104043133,
          4.476241104043133,
          4.476241104043133,
          1.1519050102175836,
          null,
          4.476241104043133,
          4.476241104043133,
          1.9973700252805529,
          3.787830570915908,
          1.2393120300238978,
          1.2446812729584016,
          4.476241104043133,
          1.551643674168234,
          1.3514757597234321,
          null,
          1.1641792266064632,
          1.1519050102175836,
          4.342948600032017,
          4.476241104043133,
          null,
          1.2953634323305792,
          1.1519050102175836,
          1.3590671199646944,
          4.476241104043133,
          1.5815484968271538,
          4.476241104043133,
          4.476241104043133,
          null,
          1.1519050102175836,
          4.476241104043133,
          4.476241104043133,
          2.183309939668499,
          4.476241104043133,
          4.476241104043133,
          4.074028765050777,
          1.1519050102175836,
          null,
          2.4545544058743527,
          1.1519050102175836,
          1.1979419221894563,
          1.2471944362210419,
          4.476241104043133,
          null,
          4.476241104043133,
          4.476241104043133,
          null,
          null,
          4.476241104043133,
          4.476241104043133,
          1.190756346538016,
          4.476241104043133
         ],
         "zmax": 4,
         "zmin": 1
        },
        {
         "colorbar": {
          "len": 0.4,
          "lenmode": "fraction",
          "orientation": "h",
          "thickness": 20,
          "thicknessmode": "pixels",
          "tickfont": {
           "size": 14
          },
          "ticktext": [
           "1.0  &deg;C",
           "1.5  &deg;C",
           "2.0 &deg;C",
           "2.5 &deg;C",
           "3.0 &deg;C",
           "3.5 &deg;C",
           "4.0 &deg;C"
          ],
          "tickvals": [
           1,
           1.5,
           2,
           2.5,
           3,
           3.5,
           4
          ],
          "title": {
           "font": {
            "size": 14
           },
           "side": "bottom",
           "text": "<b>Climate target"
          },
          "x": 0.35,
          "xanchor": "left",
          "y": 0.52,
          "yanchor": "bottom"
         },
         "colorscale": [
          [
           0,
           "rgb(0,104,55)"
          ],
          [
           0.1,
           "rgb(26,152,80)"
          ],
          [
           0.2,
           "rgb(102,189,99)"
          ],
          [
           0.3,
           "rgb(166,217,106)"
          ],
          [
           0.4,
           "rgb(217,239,139)"
          ],
          [
           0.5,
           "rgb(255,255,191)"
          ],
          [
           0.6,
           "rgb(254,224,139)"
          ],
          [
           0.7,
           "rgb(253,174,97)"
          ],
          [
           0.8,
           "rgb(244,109,67)"
          ],
          [
           0.9,
           "rgb(215,48,39)"
          ],
          [
           1,
           "rgb(165,0,38)"
          ]
         ],
         "geo": "geo",
         "hovertemplate": "%{text}",
         "locationmode": "ISO-3",
         "locations": [
          "AUT",
          "BEL",
          "BGR",
          "HRV",
          "CYP",
          "CZE",
          "DNK",
          "EST",
          "FIN",
          "FRA",
          "DEU",
          "GRC",
          "HUN",
          "IRL",
          "ITA",
          "LVA",
          "LTU",
          "LUX",
          "MLT",
          "NLD",
          "POL",
          "PRT",
          "ROU",
          "SVK",
          "SVN",
          "ESP",
          "SWE"
         ],
         "marker": {
          "line": {
           "color": "black",
           "width": 1
          }
         },
         "name": "",
         "showscale": true,
         "text": [
          "AUT: 4.5 &deg;C",
          "BEL: 4.5 &deg;C",
          "BGR: 4.5 &deg;C",
          "HRV: 4.5 &deg;C",
          "CYP: 4.5 &deg;C",
          "CZE: 4.5 &deg;C",
          "DNK: 4.5 &deg;C",
          "EST: 4.5 &deg;C",
          "FIN: 4.5 &deg;C",
          "FRA: 4.5 &deg;C",
          "DEU: 4.5 &deg;C",
          "GRC: 4.5 &deg;C",
          "HUN: 4.5 &deg;C",
          "IRL: 4.5 &deg;C",
          "ITA: 4.5 &deg;C",
          "LVA: 4.5 &deg;C",
          "LTU: 4.5 &deg;C",
          "LUX: 4.5 &deg;C",
          "MLT: 4.5 &deg;C",
          "NLD: 4.5 &deg;C",
          "POL: 4.5 &deg;C",
          "PRT: 4.5 &deg;C",
          "ROU: 4.5 &deg;C",
          "SVK: 4.5 &deg;C",
          "SVN: 4.5 &deg;C",
          "ESP: 4.5 &deg;C",
          "SWE: 4.5 &deg;C"
         ],
         "type": "choropleth",
         "z": [
          4.476241104043133,
          4.476241104043133,
          4.476241104043133,
          4.476241104043133,
          4.476241104043133,
          4.476241104043133,
          4.476241104043133,
          4.476241104043133,
          4.476241104043133,
          4.476241104043133,
          4.476241104043133,
          4.476241104043133,
          4.476241104043133,
          4.476241104043133,
          4.476241104043133,
          4.476241104043133,
          4.476241104043133,
          4.476241104043133,
          4.476241104043133,
          4.476241104043133,
          4.476241104043133,
          4.476241104043133,
          4.476241104043133,
          4.476241104043133,
          4.476241104043133,
          4.476241104043133,
          4.476241104043133
         ],
         "zmax": 4,
         "zmin": 1
        },
        {
         "colorbar": {
          "title": {
           "side": "bottom"
          }
         },
         "colorscale": [
          [
           0,
           "rgb(255,255,255)"
          ],
          [
           0.125,
           "rgb(240,240,240)"
          ],
          [
           0.25,
           "rgb(217,217,217)"
          ],
          [
           0.375,
           "rgb(189,189,189)"
          ],
          [
           0.5,
           "rgb(150,150,150)"
          ],
          [
           0.625,
           "rgb(115,115,115)"
          ],
          [
           0.75,
           "rgb(82,82,82)"
          ],
          [
           0.875,
           "rgb(37,37,37)"
          ],
          [
           1,
           "rgb(0,0,0)"
          ]
         ],
         "geo": "geo2",
         "hovertemplate": "%{text}",
         "locationmode": "ISO-3",
         "locations": [
          "ATA"
         ],
         "marker": {
          "line": {
           "color": "black",
           "width": 0
          }
         },
         "name": "",
         "showscale": false,
         "text": [
          "hoi"
         ],
         "type": "choropleth",
         "z": [
          0.5
         ],
         "zmax": 4.5,
         "zmin": 0.5
        },
        {
         "colorbar": {
          "len": 0.4,
          "lenmode": "fraction",
          "orientation": "h",
          "thickness": 20,
          "thicknessmode": "pixels",
          "tickfont": {
           "size": 14
          },
          "ticktext": [
           "1.0  &deg;C",
           "1.5  &deg;C",
           "2.0 &deg;C",
           "2.5 &deg;C",
           "3.0 &deg;C",
           "3.5 &deg;C",
           "4.0 &deg;C"
          ],
          "tickvals": [
           1,
           1.5,
           2,
           2.5,
           3,
           3.5,
           4
          ],
          "title": {
           "font": {
            "size": 14
           },
           "side": "bottom",
           "text": "<b>Climate target"
          },
          "x": 0.35,
          "xanchor": "left",
          "y": 0.52,
          "yanchor": "bottom"
         },
         "colorscale": [
          [
           0,
           "rgb(0,104,55)"
          ],
          [
           0.1,
           "rgb(26,152,80)"
          ],
          [
           0.2,
           "rgb(102,189,99)"
          ],
          [
           0.3,
           "rgb(166,217,106)"
          ],
          [
           0.4,
           "rgb(217,239,139)"
          ],
          [
           0.5,
           "rgb(255,255,191)"
          ],
          [
           0.6,
           "rgb(254,224,139)"
          ],
          [
           0.7,
           "rgb(253,174,97)"
          ],
          [
           0.8,
           "rgb(244,109,67)"
          ],
          [
           0.9,
           "rgb(215,48,39)"
          ],
          [
           1,
           "rgb(165,0,38)"
          ]
         ],
         "geo": "geo2",
         "hovertemplate": "%{text}",
         "locationmode": "ISO-3",
         "locations": [
          "AFG",
          "ALB",
          "DZA",
          "AND",
          "AGO",
          "ATG",
          "ARG",
          "ARM",
          "AUS",
          "AUT",
          "AZE",
          "BHR",
          "BGD",
          "BRB",
          "BLR",
          "BEL",
          "BLZ",
          "BEN",
          "BTN",
          "BOL",
          "BIH",
          "BWA",
          "BRA",
          "BRN",
          "BGR",
          "BFA",
          "BDI",
          "KHM",
          "CMR",
          "CAN",
          "CPV",
          "CAF",
          "TCD",
          "CHL",
          "CHN",
          "COL",
          "COM",
          "COG",
          "COK",
          "CRI",
          "CIV",
          "HRV",
          "CUB",
          "CYP",
          "CZE",
          "COD",
          "DNK",
          "DJI",
          "DMA",
          "DOM",
          "ECU",
          "EGY",
          "SLV",
          "GNQ",
          "ERI",
          "EST",
          "SWZ",
          "ETH",
          "FJI",
          "FIN",
          "FRA",
          "GAB",
          "GEO",
          "DEU",
          "GHA",
          "GRC",
          "GRD",
          "GTM",
          "GIN",
          "GNB",
          "GUY",
          "HTI",
          "VAT",
          "HND",
          "HUN",
          "ISL",
          "IND",
          "IDN",
          "IRN",
          "IRQ",
          "IRL",
          "ISR",
          "ITA",
          "JAM",
          "JPN",
          "JOR",
          "KAZ",
          "KEN",
          "KIR",
          "KWT",
          "KGZ",
          "LAO",
          "LVA",
          "LBN",
          "LSO",
          "LBR",
          "LBY",
          "LIE",
          "LTU",
          "LUX",
          "MKD",
          "MDG",
          "MWI",
          "MYS",
          "MDV",
          "MLI",
          "MLT",
          "MHL",
          "MRT",
          "MUS",
          "MEX",
          "FSM",
          "MDA",
          "MCO",
          "MNG",
          "MNE",
          "MAR",
          "MOZ",
          "MMR",
          "NAM",
          "NRU",
          "NPL",
          "NLD",
          "NZL",
          "NIC",
          "NER",
          "NGA",
          "NIU",
          "PRK",
          "NOR",
          "OMN",
          "PAK",
          "PLW",
          "PSE",
          "PAN",
          "PNG",
          "PRY",
          "PER",
          "PHL",
          "POL",
          "PRT",
          "QAT",
          "ROU",
          "RUS",
          "RWA",
          "KNA",
          "LCA",
          "VCT",
          "WSM",
          "SMR",
          "STP",
          "SAU",
          "SEN",
          "SRB",
          "SYC",
          "SLE",
          "SGP",
          "SVK",
          "SVN",
          "SLB",
          "SOM",
          "ZAF",
          "KOR",
          "SSD",
          "ESP",
          "LKA",
          "SDN",
          "SUR",
          "SWE",
          "CHE",
          "SYR",
          "TJK",
          "TZA",
          "THA",
          "BHS",
          "GMB",
          "TLS",
          "TGO",
          "TON",
          "TTO",
          "TUN",
          "TUR",
          "TKM",
          "TUV",
          "UGA",
          "UKR",
          "ARE",
          "GBR",
          "USA",
          "URY",
          "UZB",
          "VUT",
          "VEN",
          "VNM",
          "YEM",
          "ZMB",
          "ZWE",
          "EU",
          "EARTH",
          "G20",
          "G7",
          "SIDS",
          "LDC",
          "Northern America",
          "Australasia",
          "African Group",
          "Umbrella"
         ],
         "marker": {
          "line": {
           "color": "black",
           "width": 1
          }
         },
         "name": "",
         "showscale": false,
         "text": [
          "AFG: nan &deg;C",
          "ALB: 4.5 &deg;C",
          "DZA: 2.4 &deg;C",
          "AND: nan &deg;C",
          "AGO: 1.2 &deg;C",
          "ATG: nan &deg;C",
          "ARG: 4.5 &deg;C",
          "ARM: 4.5 &deg;C",
          "AUS: 4.5 &deg;C",
          "AUT: 4.5 &deg;C",
          "AZE: 4.5 &deg;C",
          "BHR: 4.5 &deg;C",
          "BGD: 1.3 &deg;C",
          "BRB: 4.5 &deg;C",
          "BLR: 4.5 &deg;C",
          "BEL: 4.5 &deg;C",
          "BLZ: 1.8 &deg;C",
          "BEN: 1.2 &deg;C",
          "BTN: 4.1 &deg;C",
          "BOL: 4.5 &deg;C",
          "BIH: 4.5 &deg;C",
          "BWA: 4.5 &deg;C",
          "BRA: 3.7 &deg;C",
          "BRN: 4.5 &deg;C",
          "BGR: 4.5 &deg;C",
          "BFA: 1.2 &deg;C",
          "BDI: 1.2 &deg;C",
          "KHM: 1.4 &deg;C",
          "CMR: 1.2 &deg;C",
          "CAN: 4.5 &deg;C",
          "CPV: 1.2 &deg;C",
          "CAF: 1.2 &deg;C",
          "TCD: 1.2 &deg;C",
          "CHL: 4.5 &deg;C",
          "CHN: 4.5 &deg;C",
          "COL: 1.7 &deg;C",
          "COM: 1.2 &deg;C",
          "COG: 1.2 &deg;C",
          "COK: nan &deg;C",
          "CRI: 2.3 &deg;C",
          "CIV: 1.2 &deg;C",
          "HRV: 4.5 &deg;C",
          "CUB: 1.7 &deg;C",
          "CYP: 4.5 &deg;C",
          "CZE: 4.5 &deg;C",
          "COD: 1.2 &deg;C",
          "DNK: 4.5 &deg;C",
          "DJI: 1.3 &deg;C",
          "DMA: nan &deg;C",
          "DOM: 4.5 &deg;C",
          "ECU: 1.7 &deg;C",
          "EGY: 4.5 &deg;C",
          "SLV: 1.4 &deg;C",
          "GNQ: 4.5 &deg;C",
          "ERI: 1.2 &deg;C",
          "EST: 4.5 &deg;C",
          "SWZ: 3.0 &deg;C",
          "ETH: 1.2 &deg;C",
          "FJI: 1.8 &deg;C",
          "FIN: 4.5 &deg;C",
          "FRA: 4.5 &deg;C",
          "GAB: 1.4 &deg;C",
          "GEO: 4.5 &deg;C",
          "DEU: 4.5 &deg;C",
          "GHA: 1.2 &deg;C",
          "GRC: 4.5 &deg;C",
          "GRD: nan &deg;C",
          "GTM: 1.5 &deg;C",
          "GIN: 1.2 &deg;C",
          "GNB: 1.2 &deg;C",
          "GUY: 4.5 &deg;C",
          "HTI: 1.2 &deg;C",
          "VAT: nan &deg;C",
          "HND: 1.2 &deg;C",
          "HUN: 4.5 &deg;C",
          "ISL: 4.5 &deg;C",
          "IND: 1.5 &deg;C",
          "IDN: 3.1 &deg;C",
          "IRN: 4.5 &deg;C",
          "IRQ: 4.5 &deg;C",
          "IRL: 4.5 &deg;C",
          "ISR: 4.5 &deg;C",
          "ITA: 4.5 &deg;C",
          "JAM: 1.5 &deg;C",
          "JPN: 4.5 &deg;C",
          "JOR: 1.5 &deg;C",
          "KAZ: 4.5 &deg;C",
          "KEN: 1.2 &deg;C",
          "KIR: nan &deg;C",
          "KWT: 4.5 &deg;C",
          "KGZ: 1.3 &deg;C",
          "LAO: 1.5 &deg;C",
          "LVA: 4.5 &deg;C",
          "LBN: 2.6 &deg;C",
          "LSO: 1.2 &deg;C",
          "LBR: 1.2 &deg;C",
          "LBY: 1.2 &deg;C",
          "LIE: nan &deg;C",
          "LTU: 4.5 &deg;C",
          "LUX: 4.5 &deg;C",
          "MKD: 3.6 &deg;C",
          "MDG: 1.2 &deg;C",
          "MWI: 1.2 &deg;C",
          "MYS: 4.5 &deg;C",
          "MDV: 4.5 &deg;C",
          "MLI: 1.2 &deg;C",
          "MLT: 4.5 &deg;C",
          "MHL: nan &deg;C",
          "MRT: 1.3 &deg;C",
          "MUS: 4.5 &deg;C",
          "MEX: 4.5 &deg;C",
          "FSM: nan &deg;C",
          "MDA: 3.9 &deg;C",
          "MCO: nan &deg;C",
          "MNG: 4.5 &deg;C",
          "MNE: 4.5 &deg;C",
          "MAR: 1.4 &deg;C",
          "MOZ: 1.2 &deg;C",
          "MMR: 1.2 &deg;C",
          "NAM: 1.5 &deg;C",
          "NRU: nan &deg;C",
          "NPL: 1.2 &deg;C",
          "NLD: 4.5 &deg;C",
          "NZL: 4.5 &deg;C",
          "NIC: 3.4 &deg;C",
          "NER: 1.2 &deg;C",
          "NGA: 1.2 &deg;C",
          "NIU: nan &deg;C",
          "PRK: nan &deg;C",
          "NOR: 4.5 &deg;C",
          "OMN: 4.5 &deg;C",
          "PAK: 1.4 &deg;C",
          "PLW: nan &deg;C",
          "PSE: nan &deg;C",
          "PAN: 4.5 &deg;C",
          "PNG: 1.2 &deg;C",
          "PRY: 4.5 &deg;C",
          "PER: 1.8 &deg;C",
          "PHL: 1.5 &deg;C",
          "POL: 4.5 &deg;C",
          "PRT: 4.5 &deg;C",
          "QAT: 4.5 &deg;C",
          "ROU: 4.5 &deg;C",
          "RUS: 4.5 &deg;C",
          "RWA: 1.2 &deg;C",
          "KNA: nan &deg;C",
          "LCA: 3.1 &deg;C",
          "VCT: 4.5 &deg;C",
          "WSM: 1.2 &deg;C",
          "SMR: nan &deg;C",
          "STP: 1.2 &deg;C",
          "SAU: 4.5 &deg;C",
          "SEN: 1.2 &deg;C",
          "SRB: 4.5 &deg;C",
          "SYC: nan &deg;C",
          "SLE: 1.2 &deg;C",
          "SGP: 4.5 &deg;C",
          "SVK: 4.5 &deg;C",
          "SVN: 4.5 &deg;C",
          "SLB: 1.2 &deg;C",
          "SOM: nan &deg;C",
          "ZAF: 4.5 &deg;C",
          "KOR: 4.5 &deg;C",
          "SSD: nan &deg;C",
          "ESP: 4.5 &deg;C",
          "LKA: 1.4 &deg;C",
          "SDN: 1.2 &deg;C",
          "SUR: 4.5 &deg;C",
          "SWE: 4.5 &deg;C",
          "CHE: 4.5 &deg;C",
          "SYR: nan &deg;C",
          "TJK: 1.2 &deg;C",
          "TZA: 1.2 &deg;C",
          "THA: 4.5 &deg;C",
          "BHS: 4.5 &deg;C",
          "GMB: nan &deg;C",
          "TLS: 1.2 &deg;C",
          "TGO: 1.2 &deg;C",
          "TON: 1.2 &deg;C",
          "TTO: 4.5 &deg;C",
          "TUN: 2.4 &deg;C",
          "TUR: 4.5 &deg;C",
          "TKM: 4.5 &deg;C",
          "TUV: nan &deg;C",
          "UGA: 1.2 &deg;C",
          "UKR: 4.5 &deg;C",
          "ARE: 4.5 &deg;C",
          "GBR: 4.5 &deg;C",
          "USA: 4.5 &deg;C",
          "URY: 4.5 &deg;C",
          "UZB: 4.5 &deg;C",
          "VUT: 1.2 &deg;C",
          "VEN: nan &deg;C",
          "VNM: 4.5 &deg;C",
          "YEM: 1.2 &deg;C",
          "ZMB: 1.2 &deg;C",
          "ZWE: 1.2 &deg;C",
          "EU: 4.5 &deg;C",
          "EARTH: nan &deg;C",
          "G20: 4.5 &deg;C",
          "G7: 4.5 &deg;C",
          "SIDS: nan &deg;C",
          "LDC: nan &deg;C",
          "Northern America: 4.5 &deg;C",
          "Australasia: 4.5 &deg;C",
          "African Group: 1.2 &deg;C",
          "Umbrella: 4.5 &deg;C"
         ],
         "type": "choropleth",
         "z": [
          null,
          4.476241104043133,
          2.4139904917189714,
          null,
          1.1926880350862643,
          null,
          4.476241104043133,
          4.476241104043133,
          4.476241104043133,
          4.476241104043133,
          4.476241104043133,
          4.476241104043133,
          1.3347830252121151,
          4.476241104043133,
          4.476241104043133,
          4.476241104043133,
          1.771803903547907,
          1.1519050102175836,
          4.110251538244825,
          4.476241104043133,
          4.476241104043133,
          4.476241104043133,
          3.718019679574736,
          4.476241104043133,
          4.476241104043133,
          1.1519050102175836,
          1.1519050102175836,
          1.4329346882970118,
          1.2091958631837731,
          4.476241104043133,
          1.2031815388732428,
          1.1519050102175836,
          1.1519050102175836,
          4.476241104043133,
          4.476241104043133,
          1.6837860504964386,
          1.1519050102175836,
          1.1519050102175836,
          null,
          2.3462686850545946,
          1.1519050102175836,
          4.476241104043133,
          1.7142419954633774,
          4.476241104043133,
          4.476241104043133,
          1.1519050102175836,
          4.476241104043133,
          1.2646499480089903,
          null,
          4.476241104043133,
          1.6781005655947792,
          4.476241104043133,
          1.4051182194482807,
          4.476241104043133,
          1.1519050102175836,
          4.476241104043133,
          3.027704725029647,
          1.1519050102175836,
          1.75654215046975,
          4.476241104043133,
          4.476241104043133,
          1.417149483590099,
          4.476241104043133,
          4.476241104043133,
          1.1744538479393074,
          4.476241104043133,
          null,
          1.4973323178692088,
          1.1551249194144413,
          1.1911496359712106,
          4.476241104043133,
          1.1519050102175836,
          null,
          1.2470017297947928,
          4.476241104043133,
          4.476241104043133,
          1.5190614484947456,
          3.1190452652429315,
          4.476241104043133,
          4.476241104043133,
          4.476241104043133,
          4.476241104043133,
          4.476241104043133,
          1.4537500872179827,
          4.476241104043133,
          1.4737249741147924,
          4.476241104043133,
          1.223230144100872,
          null,
          4.476241104043133,
          1.3394256412171677,
          1.4961215743734138,
          4.476241104043133,
          2.6000562194059675,
          1.1519050102175836,
          1.1519050102175836,
          1.1519050102175836,
          null,
          4.476241104043133,
          4.476241104043133,
          3.556305391079235,
          1.1519050102175836,
          1.1519050102175836,
          4.476241104043133,
          4.476241104043133,
          1.1519050102175836,
          4.476241104043133,
          null,
          1.30402782914983,
          4.476241104043133,
          4.476241104043133,
          null,
          3.9309351174856246,
          null,
          4.476241104043133,
          4.476241104043133,
          1.403682781594147,
          1.1519050102175836,
          1.170236984789689,
          1.4642986940311782,
          null,
          1.1519050102175836,
          4.476241104043133,
          4.476241104043133,
          3.4445877551815975,
          1.1519050102175836,
          1.1519050102175836,
          null,
          null,
          4.476241104043133,
          4.476241104043133,
          1.442801145233004,
          null,
          null,
          4.476241104043133,
          1.1519050102175836,
          4.476241104043133,
          1.7959636467260758,
          1.4942257586157894,
          4.476241104043133,
          4.476241104043133,
          4.476241104043133,
          4.476241104043133,
          4.476241104043133,
          1.1519050102175836,
          null,
          3.1429808995582817,
          4.476241104043133,
          1.1981549189682794,
          null,
          1.1519050102175836,
          4.476241104043133,
          1.1519050102175836,
          4.476241104043133,
          null,
          1.1519050102175836,
          4.476241104043133,
          4.476241104043133,
          4.476241104043133,
          1.1519050102175836,
          null,
          4.476241104043133,
          4.476241104043133,
          null,
          4.476241104043133,
          1.4489553936240276,
          1.1519050102175836,
          4.476241104043133,
          4.476241104043133,
          4.476241104043133,
          null,
          1.1561822180661485,
          1.1519050102175836,
          4.476241104043133,
          4.476241104043133,
          null,
          1.1519050102175836,
          1.1519050102175836,
          1.2252596043090471,
          4.476241104043133,
          2.370450582223439,
          4.476241104043133,
          4.476241104043133,
          null,
          1.1519050102175836,
          4.476241104043133,
          4.476241104043133,
          4.476241104043133,
          4.476241104043133,
          4.476241104043133,
          4.476241104043133,
          1.1519050102175836,
          null,
          4.476241104043133,
          1.1519050102175836,
          1.1519050102175836,
          1.1519050102175836,
          4.476241104043133,
          null,
          4.476241104043133,
          4.476241104043133,
          null,
          null,
          4.476241104043133,
          4.476241104043133,
          1.2365659666438114,
          4.476241104043133
         ],
         "zmax": 4,
         "zmin": 1
        },
        {
         "colorbar": {
          "len": 0.4,
          "lenmode": "fraction",
          "orientation": "h",
          "thickness": 20,
          "thicknessmode": "pixels",
          "tickfont": {
           "size": 14
          },
          "ticktext": [
           "1.0  &deg;C",
           "1.5  &deg;C",
           "2.0 &deg;C",
           "2.5 &deg;C",
           "3.0 &deg;C",
           "3.5 &deg;C",
           "4.0 &deg;C"
          ],
          "tickvals": [
           1,
           1.5,
           2,
           2.5,
           3,
           3.5,
           4
          ],
          "title": {
           "font": {
            "size": 14
           },
           "side": "bottom",
           "text": "<b>Climate target"
          },
          "x": 0.35,
          "xanchor": "left",
          "y": 0.52,
          "yanchor": "bottom"
         },
         "colorscale": [
          [
           0,
           "rgb(0,104,55)"
          ],
          [
           0.1,
           "rgb(26,152,80)"
          ],
          [
           0.2,
           "rgb(102,189,99)"
          ],
          [
           0.3,
           "rgb(166,217,106)"
          ],
          [
           0.4,
           "rgb(217,239,139)"
          ],
          [
           0.5,
           "rgb(255,255,191)"
          ],
          [
           0.6,
           "rgb(254,224,139)"
          ],
          [
           0.7,
           "rgb(253,174,97)"
          ],
          [
           0.8,
           "rgb(244,109,67)"
          ],
          [
           0.9,
           "rgb(215,48,39)"
          ],
          [
           1,
           "rgb(165,0,38)"
          ]
         ],
         "geo": "geo2",
         "hovertemplate": "%{text}",
         "locationmode": "ISO-3",
         "locations": [
          "AUT",
          "BEL",
          "BGR",
          "HRV",
          "CYP",
          "CZE",
          "DNK",
          "EST",
          "FIN",
          "FRA",
          "DEU",
          "GRC",
          "HUN",
          "IRL",
          "ITA",
          "LVA",
          "LTU",
          "LUX",
          "MLT",
          "NLD",
          "POL",
          "PRT",
          "ROU",
          "SVK",
          "SVN",
          "ESP",
          "SWE"
         ],
         "marker": {
          "line": {
           "color": "black",
           "width": 1
          }
         },
         "name": "",
         "showscale": false,
         "text": [
          "AUT: 4.5 &deg;C",
          "BEL: 4.5 &deg;C",
          "BGR: 4.5 &deg;C",
          "HRV: 4.5 &deg;C",
          "CYP: 4.5 &deg;C",
          "CZE: 4.5 &deg;C",
          "DNK: 4.5 &deg;C",
          "EST: 4.5 &deg;C",
          "FIN: 4.5 &deg;C",
          "FRA: 4.5 &deg;C",
          "DEU: 4.5 &deg;C",
          "GRC: 4.5 &deg;C",
          "HUN: 4.5 &deg;C",
          "IRL: 4.5 &deg;C",
          "ITA: 4.5 &deg;C",
          "LVA: 4.5 &deg;C",
          "LTU: 4.5 &deg;C",
          "LUX: 4.5 &deg;C",
          "MLT: 4.5 &deg;C",
          "NLD: 4.5 &deg;C",
          "POL: 4.5 &deg;C",
          "PRT: 4.5 &deg;C",
          "ROU: 4.5 &deg;C",
          "SVK: 4.5 &deg;C",
          "SVN: 4.5 &deg;C",
          "ESP: 4.5 &deg;C",
          "SWE: 4.5 &deg;C"
         ],
         "type": "choropleth",
         "z": [
          4.476241104043133,
          4.476241104043133,
          4.476241104043133,
          4.476241104043133,
          4.476241104043133,
          4.476241104043133,
          4.476241104043133,
          4.476241104043133,
          4.476241104043133,
          4.476241104043133,
          4.476241104043133,
          4.476241104043133,
          4.476241104043133,
          4.476241104043133,
          4.476241104043133,
          4.476241104043133,
          4.476241104043133,
          4.476241104043133,
          4.476241104043133,
          4.476241104043133,
          4.476241104043133,
          4.476241104043133,
          4.476241104043133,
          4.476241104043133,
          4.476241104043133,
          4.476241104043133,
          4.476241104043133
         ],
         "zmax": 4,
         "zmin": 1
        }
       ],
       "layout": {
        "annotations": [
         {
          "font": {
           "color": "black",
           "size": 20
          },
          "showarrow": false,
          "text": "<b>(a) NDC alignment of approach 1 (GDP)</b>",
          "x": 0.15,
          "xref": "paper",
          "y": 1.02,
          "yref": "paper"
         },
         {
          "font": {
           "color": "black",
           "size": 20
          },
          "showarrow": false,
          "text": "<b>(b) NDC alignment of approach 2",
          "x": 0.15,
          "xanchor": "left",
          "xref": "paper",
          "y": 0.52,
          "yref": "paper"
         }
        ],
        "geo": {
         "domain": {
          "x": [
           0,
           1
          ],
          "y": [
           0.5,
           1
          ]
         },
         "lakecolor": "rgb(255, 255, 255)",
         "landcolor": "lightgrey",
         "projection": {
          "type": "natural earth"
         },
         "resolution": 110,
         "showcoastlines": false,
         "showframe": false,
         "showlakes": false,
         "visible": true
        },
        "geo2": {
         "domain": {
          "x": [
           0,
           1
          ],
          "y": [
           0,
           0.5
          ]
         },
         "lakecolor": "rgb(255, 255, 255)",
         "landcolor": "lightgrey",
         "projection": {
          "type": "natural earth"
         },
         "resolution": 110,
         "showcoastlines": false,
         "showframe": false,
         "showlakes": false,
         "visible": true
        },
        "height": 1500,
        "template": {
         "data": {
          "bar": [
           {
            "error_x": {
             "color": "#2a3f5f"
            },
            "error_y": {
             "color": "#2a3f5f"
            },
            "marker": {
             "line": {
              "color": "#E5ECF6",
              "width": 0.5
             },
             "pattern": {
              "fillmode": "overlay",
              "size": 10,
              "solidity": 0.2
             }
            },
            "type": "bar"
           }
          ],
          "barpolar": [
           {
            "marker": {
             "line": {
              "color": "#E5ECF6",
              "width": 0.5
             },
             "pattern": {
              "fillmode": "overlay",
              "size": 10,
              "solidity": 0.2
             }
            },
            "type": "barpolar"
           }
          ],
          "carpet": [
           {
            "aaxis": {
             "endlinecolor": "#2a3f5f",
             "gridcolor": "white",
             "linecolor": "white",
             "minorgridcolor": "white",
             "startlinecolor": "#2a3f5f"
            },
            "baxis": {
             "endlinecolor": "#2a3f5f",
             "gridcolor": "white",
             "linecolor": "white",
             "minorgridcolor": "white",
             "startlinecolor": "#2a3f5f"
            },
            "type": "carpet"
           }
          ],
          "choropleth": [
           {
            "colorbar": {
             "outlinewidth": 0,
             "ticks": ""
            },
            "type": "choropleth"
           }
          ],
          "contour": [
           {
            "colorbar": {
             "outlinewidth": 0,
             "ticks": ""
            },
            "colorscale": [
             [
              0,
              "#0d0887"
             ],
             [
              0.1111111111111111,
              "#46039f"
             ],
             [
              0.2222222222222222,
              "#7201a8"
             ],
             [
              0.3333333333333333,
              "#9c179e"
             ],
             [
              0.4444444444444444,
              "#bd3786"
             ],
             [
              0.5555555555555556,
              "#d8576b"
             ],
             [
              0.6666666666666666,
              "#ed7953"
             ],
             [
              0.7777777777777778,
              "#fb9f3a"
             ],
             [
              0.8888888888888888,
              "#fdca26"
             ],
             [
              1,
              "#f0f921"
             ]
            ],
            "type": "contour"
           }
          ],
          "contourcarpet": [
           {
            "colorbar": {
             "outlinewidth": 0,
             "ticks": ""
            },
            "type": "contourcarpet"
           }
          ],
          "heatmap": [
           {
            "colorbar": {
             "outlinewidth": 0,
             "ticks": ""
            },
            "colorscale": [
             [
              0,
              "#0d0887"
             ],
             [
              0.1111111111111111,
              "#46039f"
             ],
             [
              0.2222222222222222,
              "#7201a8"
             ],
             [
              0.3333333333333333,
              "#9c179e"
             ],
             [
              0.4444444444444444,
              "#bd3786"
             ],
             [
              0.5555555555555556,
              "#d8576b"
             ],
             [
              0.6666666666666666,
              "#ed7953"
             ],
             [
              0.7777777777777778,
              "#fb9f3a"
             ],
             [
              0.8888888888888888,
              "#fdca26"
             ],
             [
              1,
              "#f0f921"
             ]
            ],
            "type": "heatmap"
           }
          ],
          "heatmapgl": [
           {
            "colorbar": {
             "outlinewidth": 0,
             "ticks": ""
            },
            "colorscale": [
             [
              0,
              "#0d0887"
             ],
             [
              0.1111111111111111,
              "#46039f"
             ],
             [
              0.2222222222222222,
              "#7201a8"
             ],
             [
              0.3333333333333333,
              "#9c179e"
             ],
             [
              0.4444444444444444,
              "#bd3786"
             ],
             [
              0.5555555555555556,
              "#d8576b"
             ],
             [
              0.6666666666666666,
              "#ed7953"
             ],
             [
              0.7777777777777778,
              "#fb9f3a"
             ],
             [
              0.8888888888888888,
              "#fdca26"
             ],
             [
              1,
              "#f0f921"
             ]
            ],
            "type": "heatmapgl"
           }
          ],
          "histogram": [
           {
            "marker": {
             "pattern": {
              "fillmode": "overlay",
              "size": 10,
              "solidity": 0.2
             }
            },
            "type": "histogram"
           }
          ],
          "histogram2d": [
           {
            "colorbar": {
             "outlinewidth": 0,
             "ticks": ""
            },
            "colorscale": [
             [
              0,
              "#0d0887"
             ],
             [
              0.1111111111111111,
              "#46039f"
             ],
             [
              0.2222222222222222,
              "#7201a8"
             ],
             [
              0.3333333333333333,
              "#9c179e"
             ],
             [
              0.4444444444444444,
              "#bd3786"
             ],
             [
              0.5555555555555556,
              "#d8576b"
             ],
             [
              0.6666666666666666,
              "#ed7953"
             ],
             [
              0.7777777777777778,
              "#fb9f3a"
             ],
             [
              0.8888888888888888,
              "#fdca26"
             ],
             [
              1,
              "#f0f921"
             ]
            ],
            "type": "histogram2d"
           }
          ],
          "histogram2dcontour": [
           {
            "colorbar": {
             "outlinewidth": 0,
             "ticks": ""
            },
            "colorscale": [
             [
              0,
              "#0d0887"
             ],
             [
              0.1111111111111111,
              "#46039f"
             ],
             [
              0.2222222222222222,
              "#7201a8"
             ],
             [
              0.3333333333333333,
              "#9c179e"
             ],
             [
              0.4444444444444444,
              "#bd3786"
             ],
             [
              0.5555555555555556,
              "#d8576b"
             ],
             [
              0.6666666666666666,
              "#ed7953"
             ],
             [
              0.7777777777777778,
              "#fb9f3a"
             ],
             [
              0.8888888888888888,
              "#fdca26"
             ],
             [
              1,
              "#f0f921"
             ]
            ],
            "type": "histogram2dcontour"
           }
          ],
          "mesh3d": [
           {
            "colorbar": {
             "outlinewidth": 0,
             "ticks": ""
            },
            "type": "mesh3d"
           }
          ],
          "parcoords": [
           {
            "line": {
             "colorbar": {
              "outlinewidth": 0,
              "ticks": ""
             }
            },
            "type": "parcoords"
           }
          ],
          "pie": [
           {
            "automargin": true,
            "type": "pie"
           }
          ],
          "scatter": [
           {
            "fillpattern": {
             "fillmode": "overlay",
             "size": 10,
             "solidity": 0.2
            },
            "type": "scatter"
           }
          ],
          "scatter3d": [
           {
            "line": {
             "colorbar": {
              "outlinewidth": 0,
              "ticks": ""
             }
            },
            "marker": {
             "colorbar": {
              "outlinewidth": 0,
              "ticks": ""
             }
            },
            "type": "scatter3d"
           }
          ],
          "scattercarpet": [
           {
            "marker": {
             "colorbar": {
              "outlinewidth": 0,
              "ticks": ""
             }
            },
            "type": "scattercarpet"
           }
          ],
          "scattergeo": [
           {
            "marker": {
             "colorbar": {
              "outlinewidth": 0,
              "ticks": ""
             }
            },
            "type": "scattergeo"
           }
          ],
          "scattergl": [
           {
            "marker": {
             "colorbar": {
              "outlinewidth": 0,
              "ticks": ""
             }
            },
            "type": "scattergl"
           }
          ],
          "scattermapbox": [
           {
            "marker": {
             "colorbar": {
              "outlinewidth": 0,
              "ticks": ""
             }
            },
            "type": "scattermapbox"
           }
          ],
          "scatterpolar": [
           {
            "marker": {
             "colorbar": {
              "outlinewidth": 0,
              "ticks": ""
             }
            },
            "type": "scatterpolar"
           }
          ],
          "scatterpolargl": [
           {
            "marker": {
             "colorbar": {
              "outlinewidth": 0,
              "ticks": ""
             }
            },
            "type": "scatterpolargl"
           }
          ],
          "scatterternary": [
           {
            "marker": {
             "colorbar": {
              "outlinewidth": 0,
              "ticks": ""
             }
            },
            "type": "scatterternary"
           }
          ],
          "surface": [
           {
            "colorbar": {
             "outlinewidth": 0,
             "ticks": ""
            },
            "colorscale": [
             [
              0,
              "#0d0887"
             ],
             [
              0.1111111111111111,
              "#46039f"
             ],
             [
              0.2222222222222222,
              "#7201a8"
             ],
             [
              0.3333333333333333,
              "#9c179e"
             ],
             [
              0.4444444444444444,
              "#bd3786"
             ],
             [
              0.5555555555555556,
              "#d8576b"
             ],
             [
              0.6666666666666666,
              "#ed7953"
             ],
             [
              0.7777777777777778,
              "#fb9f3a"
             ],
             [
              0.8888888888888888,
              "#fdca26"
             ],
             [
              1,
              "#f0f921"
             ]
            ],
            "type": "surface"
           }
          ],
          "table": [
           {
            "cells": {
             "fill": {
              "color": "#EBF0F8"
             },
             "line": {
              "color": "white"
             }
            },
            "header": {
             "fill": {
              "color": "#C8D4E3"
             },
             "line": {
              "color": "white"
             }
            },
            "type": "table"
           }
          ]
         },
         "layout": {
          "annotationdefaults": {
           "arrowcolor": "#2a3f5f",
           "arrowhead": 0,
           "arrowwidth": 1
          },
          "autotypenumbers": "strict",
          "coloraxis": {
           "colorbar": {
            "outlinewidth": 0,
            "ticks": ""
           }
          },
          "colorscale": {
           "diverging": [
            [
             0,
             "#8e0152"
            ],
            [
             0.1,
             "#c51b7d"
            ],
            [
             0.2,
             "#de77ae"
            ],
            [
             0.3,
             "#f1b6da"
            ],
            [
             0.4,
             "#fde0ef"
            ],
            [
             0.5,
             "#f7f7f7"
            ],
            [
             0.6,
             "#e6f5d0"
            ],
            [
             0.7,
             "#b8e186"
            ],
            [
             0.8,
             "#7fbc41"
            ],
            [
             0.9,
             "#4d9221"
            ],
            [
             1,
             "#276419"
            ]
           ],
           "sequential": [
            [
             0,
             "#0d0887"
            ],
            [
             0.1111111111111111,
             "#46039f"
            ],
            [
             0.2222222222222222,
             "#7201a8"
            ],
            [
             0.3333333333333333,
             "#9c179e"
            ],
            [
             0.4444444444444444,
             "#bd3786"
            ],
            [
             0.5555555555555556,
             "#d8576b"
            ],
            [
             0.6666666666666666,
             "#ed7953"
            ],
            [
             0.7777777777777778,
             "#fb9f3a"
            ],
            [
             0.8888888888888888,
             "#fdca26"
            ],
            [
             1,
             "#f0f921"
            ]
           ],
           "sequentialminus": [
            [
             0,
             "#0d0887"
            ],
            [
             0.1111111111111111,
             "#46039f"
            ],
            [
             0.2222222222222222,
             "#7201a8"
            ],
            [
             0.3333333333333333,
             "#9c179e"
            ],
            [
             0.4444444444444444,
             "#bd3786"
            ],
            [
             0.5555555555555556,
             "#d8576b"
            ],
            [
             0.6666666666666666,
             "#ed7953"
            ],
            [
             0.7777777777777778,
             "#fb9f3a"
            ],
            [
             0.8888888888888888,
             "#fdca26"
            ],
            [
             1,
             "#f0f921"
            ]
           ]
          },
          "colorway": [
           "#636efa",
           "#EF553B",
           "#00cc96",
           "#ab63fa",
           "#FFA15A",
           "#19d3f3",
           "#FF6692",
           "#B6E880",
           "#FF97FF",
           "#FECB52"
          ],
          "font": {
           "color": "#2a3f5f"
          },
          "geo": {
           "bgcolor": "white",
           "lakecolor": "white",
           "landcolor": "#E5ECF6",
           "showlakes": true,
           "showland": true,
           "subunitcolor": "white"
          },
          "hoverlabel": {
           "align": "left"
          },
          "hovermode": "closest",
          "mapbox": {
           "style": "light"
          },
          "paper_bgcolor": "white",
          "plot_bgcolor": "#E5ECF6",
          "polar": {
           "angularaxis": {
            "gridcolor": "white",
            "linecolor": "white",
            "ticks": ""
           },
           "bgcolor": "#E5ECF6",
           "radialaxis": {
            "gridcolor": "white",
            "linecolor": "white",
            "ticks": ""
           }
          },
          "scene": {
           "xaxis": {
            "backgroundcolor": "#E5ECF6",
            "gridcolor": "white",
            "gridwidth": 2,
            "linecolor": "white",
            "showbackground": true,
            "ticks": "",
            "zerolinecolor": "white"
           },
           "yaxis": {
            "backgroundcolor": "#E5ECF6",
            "gridcolor": "white",
            "gridwidth": 2,
            "linecolor": "white",
            "showbackground": true,
            "ticks": "",
            "zerolinecolor": "white"
           },
           "zaxis": {
            "backgroundcolor": "#E5ECF6",
            "gridcolor": "white",
            "gridwidth": 2,
            "linecolor": "white",
            "showbackground": true,
            "ticks": "",
            "zerolinecolor": "white"
           }
          },
          "shapedefaults": {
           "line": {
            "color": "#2a3f5f"
           }
          },
          "ternary": {
           "aaxis": {
            "gridcolor": "white",
            "linecolor": "white",
            "ticks": ""
           },
           "baxis": {
            "gridcolor": "white",
            "linecolor": "white",
            "ticks": ""
           },
           "bgcolor": "#E5ECF6",
           "caxis": {
            "gridcolor": "white",
            "linecolor": "white",
            "ticks": ""
           }
          },
          "title": {
           "x": 0.05
          },
          "xaxis": {
           "automargin": true,
           "gridcolor": "white",
           "linecolor": "white",
           "ticks": "",
           "title": {
            "standoff": 15
           },
           "zerolinecolor": "white",
           "zerolinewidth": 2
          },
          "yaxis": {
           "automargin": true,
           "gridcolor": "white",
           "linecolor": "white",
           "ticks": "",
           "title": {
            "standoff": 15
           },
           "zerolinecolor": "white",
           "zerolinewidth": 2
          }
         }
        },
        "width": 1450
       }
      }
     },
     "metadata": {},
     "output_type": "display_data"
    }
   ],
   "source": [
    "fig = make_subplots(rows=2, cols=1,\n",
    "                    specs=[[{'type': 'choropleth'}],\n",
    "                           [{'type': 'choropleth'}]],\n",
    "                    horizontal_spacing = 0., vertical_spacing=0.0)\n",
    "\n",
    "for i in range(2):\n",
    "    dath = [temps_1, temps_2][i]\n",
    "    dat = np.array(dath)\n",
    "    scale = 'RdYlGn_r'\n",
    "    dc = dict(orientation='h', x=0.35, y=0.52, xanchor='left', yanchor='bottom', title='<b>Climate target', tickvals=[1.0, 1.5, 2.0, 2.5, 3, 3.5, 4],\n",
    "                        ticktext=['1.0  &deg;C', '1.5  &deg;C', '2.0 &deg;C', '2.5 &deg;C', '3.0 &deg;C', '3.5 &deg;C', '4.0 &deg;C'],\n",
    "                        tickfont=dict(size=14),\n",
    "                        len=0.4, lenmode='fraction', thickness=20, thicknessmode='pixels', titlefont=dict(size=14))\n",
    "    #Grey out nans\n",
    "    fig.add_trace(go.Choropleth(\n",
    "            locations=['ATA'],\n",
    "            z = [0.5],\n",
    "            locationmode = 'ISO-3',\n",
    "            colorscale ='Greys',\n",
    "            zmax = 4.5,\n",
    "            zmin = 0.5,\n",
    "            text = ['hoi'],\n",
    "            hovertemplate  = '%{text}',\n",
    "            name=\"\",\n",
    "            marker_line_color='black', \n",
    "            marker_line_width=0,\n",
    "            showscale=False,\n",
    "        ), [1, 2][i], 1)\n",
    "    \n",
    "    # Make somaliland equal to SOM\n",
    "    data = data = [['SOM',float(dath.sel(Region='SOM'))],['SOL',float(dath.sel(Region='SOM'))]]\n",
    "    df = pd.DataFrame(data,columns=['sov_a3','population'])\n",
    "    \n",
    "    fig.add_trace(go.Choropleth(\n",
    "            locations=np.array((dath).Region),\n",
    "            z = dat,\n",
    "            locationmode = 'ISO-3',\n",
    "            colorscale = scale,\n",
    "                zmax = 4.,\n",
    "                zmin = 1.,\n",
    "            text = [str(r)+\": \"+str(np.round(dat[r_i], 1))+\" &deg;C\" for r_i, r in enumerate(np.array((dath).Region))],\n",
    "            hovertemplate  = '%{text}',\n",
    "            name=\"\",\n",
    "            colorbar=dc,\n",
    "            marker_line_color='black', \n",
    "            marker_line_width=1,\n",
    "            showscale=[True, False][i],\n",
    "        ), [1, 2][i], 1)\n",
    "    \n",
    "    \n",
    "    fig.add_trace(\n",
    "        go.Choropleth(\n",
    "        locations=group_eu,\n",
    "        z = np.array([dat[np.where(all_regions_iso == \"EU\")[0][0]]]*len(group_eu)),\n",
    "        locationmode = 'ISO-3',\n",
    "        colorscale = scale,\n",
    "            zmax = 4.,\n",
    "            zmin = 1.,\n",
    "        text = [str(r)+\": \"+str(np.round(dat[np.where(all_regions_iso == \"EU\")[0][0]], 1))+\" &deg;C\" for r_i, r in enumerate(group_eu)],\n",
    "        hovertemplate  = '%{text}',\n",
    "        name=\"\",\n",
    "        colorbar=dc,\n",
    "        marker_line_color='black', \n",
    "        marker_line_width=1,\n",
    "        showscale=[True, False][i],\n",
    "        ), [1, 2][i], 1)\n",
    "\n",
    "fs=20\n",
    "fig['layout'].update(\n",
    "    annotations=[dict(x=0.15, y=1.02, text='<b>(a) NDC alignment of approach 1 (GDP)</b>', xref='paper', yref='paper', showarrow=False, font=dict(color='black', size=fs)),\n",
    "                 dict(x=0.15, y=0.52, text='<b>(b) NDC alignment of approach 2', xref='paper', yref='paper', xanchor='left', showarrow=False, font=dict(color='black', size=fs)),\n",
    "                 ])\n",
    "\n",
    "fig.update_geos(visible=True,\n",
    "                showlakes=False,\n",
    "                lakecolor='rgb(255, 255, 255)',\n",
    "                projection_type='natural earth',\n",
    "                showframe=False,\n",
    "                resolution=110,\n",
    "                landcolor=\"lightgrey\",\n",
    "                showcoastlines=False,)\n",
    "fig.update_traces(colorbar=dict(\n",
    "    title=dict(\n",
    "        side=\"bottom\"\n",
    "    )\n",
    "))\n",
    "\n",
    "fig.update_layout(height=1500, width=1450)\n",
    "fig.write_image(path_figs / \"Figure_2.png\", scale=5)\n",
    "fig.show()"
   ]
  }
 ],
 "metadata": {
  "kernelspec": {
   "display_name": "Python 3",
   "language": "python",
   "name": "python3"
  },
  "language_info": {
   "codemirror_mode": {
    "name": "ipython",
    "version": 3
   },
   "file_extension": ".py",
   "mimetype": "text/x-python",
   "name": "python",
   "nbconvert_exporter": "python",
   "pygments_lexer": "ipython3",
   "version": "3.12.5"
  },
  "orig_nbformat": 4
 },
 "nbformat": 4,
 "nbformat_minor": 2
}
