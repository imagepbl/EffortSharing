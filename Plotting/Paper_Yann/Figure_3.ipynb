{
 "cells": [
  {
   "attachments": {},
   "cell_type": "markdown",
   "metadata": {},
   "source": [
    "## Preambule"
   ]
  },
  {
   "cell_type": "code",
   "execution_count": 38,
   "metadata": {},
   "outputs": [],
   "source": [
    "# General packages\n",
    "import numpy as np\n",
    "import pandas as pd\n",
    "from tqdm import tqdm\n",
    "from pathlib import Path\n",
    "import xarray as xr\n",
    "import json\n",
    "\n",
    "# Plotting\n",
    "import matplotlib.pyplot as plt\n",
    "import plotly.express as px\n",
    "import plotly.graph_objects as go\n",
    "from plotly.subplots import make_subplots\n",
    "from plotly.colors import n_colors"
   ]
  },
  {
   "attachments": {},
   "cell_type": "markdown",
   "metadata": {},
   "source": [
    "## Paths"
   ]
  },
  {
   "cell_type": "code",
   "execution_count": 39,
   "metadata": {},
   "outputs": [],
   "source": [
    "path_data = Path(\"K:/data/DataUpdate_ongoing\")\n",
    "path_figs = Path(\"K:/Code/EffortSharing/\") / \"Figures\" / \"Paper_Robiou2023\""
   ]
  },
  {
   "attachments": {},
   "cell_type": "markdown",
   "metadata": {},
   "source": [
    "## Read data files"
   ]
  },
  {
   "cell_type": "code",
   "execution_count": 40,
   "metadata": {},
   "outputs": [],
   "source": [
    "xr_dataread = xr.open_dataset(path_data / \"xr_dataread.nc\")\n",
    "xr_combs = xr.open_dataset(path_data / \"xr_combinedapproaches.nc\")\n",
    "xr_temps = xr.open_dataset(path_data / \"xr_combinedapproaches_temps.nc\")\n",
    "all_regions_iso = np.load(path_data / \"all_regions.npy\")\n",
    "all_regions_names = np.array(list(np.load(path_data / \"all_regions_names.npy\")[:-1])+['Earth']) # Only in old xr_dataread version, should be updated when reran\n",
    "all_countries_iso = np.load(path_data / \"all_countries.npy\", allow_pickle=True)\n",
    "all_countries_names = np.load(path_data / \"all_countries_names.npy\", allow_pickle=True)\n",
    "only_regions_iso = ['CVF', 'G20', \"EU\", \"G7\", \"NA\", \"AU\", \"AF\", \"SIDS\", \"LDC\", \"WORLD\"]\n",
    "only_regions_names = ['Climate Vulnerability Forum','G20',\"European Union\",\"G7\",\"Northern America\",\"Australasia\",\"African Group\",\"Small Island Developing States\",\"Least Developed Countries\", 'World']"
   ]
  },
  {
   "cell_type": "code",
   "execution_count": 41,
   "metadata": {},
   "outputs": [],
   "source": [
    "#xr_budgets_scenario = xr.open_dataset(path_data / \"xr_budgets_scenario.nc\")\n",
    "#df_michel = pd.read_excel(Path(\"X:/user/dekkerm/Data/\") / \"NDC\" / \"NDC_comparison.xlsx\", sheet_name=\"Michel\")"
   ]
  },
  {
   "cell_type": "code",
   "execution_count": 42,
   "metadata": {},
   "outputs": [],
   "source": [
    "df_g = pd.read_excel(Path(\"X:/user/dekkerm/Data/\") / \"UNFCCC_Parties_Groups_noeu.xlsx\", sheet_name = \"Country groups\")\n",
    "countries_iso = np.array(df_g[\"Country ISO Code\"])\n",
    "countries_name = np.array(df_g[\"Name\"])\n",
    "countries_iso = np.array(df_g[\"Country ISO Code\"])\n",
    "group_cvf = countries_iso[np.array(df_g[\"CVF (24/10/22)\"]) == 1]\n",
    "group_g20 = countries_iso[np.array(df_g[\"G20\"]) == 1]\n",
    "group_eu = countries_iso[np.array(df_g[\"EU\"]) == 1]\n",
    "group_g7 = countries_iso[np.array(df_g[\"G7\"]) == 1]\n",
    "group_na = countries_iso[np.array(df_g[\"Northern America\"]) == 1]\n",
    "group_um = countries_iso[np.array(df_g[\"Umbrella\"]) == 1]\n",
    "group_au = countries_iso[np.array(df_g[\"Australasia\"]) == 1]\n",
    "group_af = countries_iso[np.array(df_g[\"African Group\"]) == 1]\n",
    "group_sids = countries_iso[np.array(df_g[\"SIDS\"]) == 1]\n",
    "group_ldc = countries_iso[np.array(df_g[\"LDC\"]) == 1]\n",
    "group_eg = countries_iso[np.array(df_g[\"European Group\"]) == 1]\n",
    "group_world = np.copy(countries_iso)"
   ]
  },
  {
   "attachments": {},
   "cell_type": "markdown",
   "metadata": {},
   "source": [
    "## Preprocess"
   ]
  },
  {
   "cell_type": "code",
   "execution_count": 43,
   "metadata": {},
   "outputs": [],
   "source": [
    "ndc_deviations = []\n",
    "for t_i, t in enumerate([1.6, 2.0]):\n",
    "    li = []\n",
    "    for a_i, approach in enumerate([\"Approach2\", 'Approach2t']):\n",
    "        li.append([float((xr_combs.sel(Temperature = t,\n",
    "                                       Region=r,\n",
    "                                       Discount_factor=1.6,\n",
    "                                       Historical_startyear=1990,\n",
    "                                       Scenario='SSP2',\n",
    "                                       Risk=0.5,\n",
    "                                       Time=2030)[approach] - xr_dataread.GHG_ndc.sel(Region=r).mean(dim=['Conditionality', 'Ambition'])\n",
    "                         ) / xr_dataread.GHG_ndc.sel(Region=r).mean(dim=['Conditionality', 'Ambition'])) for r in xr_dataread.Region])\n",
    "    ndc_deviations.append(li)"
   ]
  },
  {
   "cell_type": "code",
   "execution_count": 44,
   "metadata": {},
   "outputs": [],
   "source": [
    "#regs_onlyfew = np.array(['USA', 'CHN', 'TUR', 'AUS', 'IND', 'RUS', 'IDN', 'BRA', 'DEU', 'FRA', 'ESP', 'VEN', 'MEX', 'ZAF'])#np.array(xr_total.ISO.sel(ISO=all_countries_iso))[xr_total.Population.sel(Time=2020, ISO=all_countries_iso) > 5e6]\n",
    "\n",
    "regs_onlyfew = ['EU', 'ARG', 'AUS', 'BRA', 'CAN', 'CHN', 'IND', 'IDN', 'JPN', 'MEX', 'RUS', 'SAU', 'ZAF', 'KOR', 'TUR', 'GBR', 'USA', 'ARE']\n",
    "regs_onlyfew = np.array(regs_onlyfew)\n",
    "\n",
    "ndc_deviations_onlyfew = []\n",
    "for t_i, t in enumerate([1.6, 2.0]):\n",
    "    li = []\n",
    "    for a_i, approach in enumerate([\"Approach2\", 'Approach2t']):\n",
    "        li.append([float((xr_combs.sel(Temperature = t,\n",
    "                                       Region=r,\n",
    "                                       Discount_factor=1.6,\n",
    "                                       Historical_startyear=1990,\n",
    "                                       Scenario='SSP2',\n",
    "                                       Risk=0.5,\n",
    "                                       Time=2030)[approach] - xr_dataread.GHG_ndc.sel(Region=r).mean(dim=['Conditionality', 'Ambition'])\n",
    "                         ) / xr_dataread.GHG_ndc.sel(Region=r).mean(dim=['Conditionality', 'Ambition'])) for r in regs_onlyfew])\n",
    "    ndc_deviations_onlyfew.append(li)"
   ]
  },
  {
   "cell_type": "code",
   "execution_count": 45,
   "metadata": {},
   "outputs": [],
   "source": [
    "amount = len(regs_onlyfew)\n",
    "sources = regs_onlyfew[np.argsort(ndc_deviations_onlyfew[0])[0][:amount]]\n",
    "targets = regs_onlyfew[np.argsort(ndc_deviations_onlyfew[0])[1][:amount]]\n",
    "\n",
    "targets_numeric = []\n",
    "sources_numeric = []\n",
    "for t_i in range(amount):\n",
    "    s = sources[t_i]\n",
    "    try:\n",
    "        wh = np.where(targets == s)[0][0]\n",
    "    except:\n",
    "        wh = amount\n",
    "    sources_numeric.append(t_i)\n",
    "    targets_numeric.append(wh+amount)\n",
    "\n",
    "for t_i in range(amount):\n",
    "    t = targets[t_i]\n",
    "    try:\n",
    "        wh = np.where(sources == t)[0][0]\n",
    "    except:\n",
    "        sources_numeric.append(amount)\n",
    "        targets_numeric.append(t_i)"
   ]
  },
  {
   "attachments": {},
   "cell_type": "markdown",
   "metadata": {},
   "source": [
    "## Plot"
   ]
  },
  {
   "cell_type": "code",
   "execution_count": 46,
   "metadata": {},
   "outputs": [
    {
     "name": "stderr",
     "output_type": "stream",
     "text": [
      "C:\\Users\\dekkerm\\AppData\\Local\\Temp\\2\\ipykernel_1112\\3764947325.py:62: DeprecationWarning:\n",
      "\n",
      "Conversion of an array with ndim > 0 to a scalar is deprecated, and will error in future. Ensure you extract a single element from your array before performing this operation. (Deprecated NumPy 1.25.)\n",
      "\n",
      "C:\\Users\\dekkerm\\AppData\\Local\\Temp\\2\\ipykernel_1112\\3764947325.py:63: DeprecationWarning:\n",
      "\n",
      "Conversion of an array with ndim > 0 to a scalar is deprecated, and will error in future. Ensure you extract a single element from your array before performing this operation. (Deprecated NumPy 1.25.)\n",
      "\n"
     ]
    },
    {
     "data": {
      "application/vnd.plotly.v1+json": {
       "config": {
        "plotlyServerURL": "https://plotly.com"
       },
       "data": [
        {
         "colorbar": {
          "len": 1,
          "ticktext": [
           "-100%",
           "-75",
           "-50%",
           "-25%",
           "0%",
           "+25%",
           "+50%",
           "+75%",
           "+100%"
          ],
          "tickvals": [
           -1,
           -0.75,
           -0.5,
           -0.25,
           0,
           0.25,
           0.5,
           0.75,
           1
          ],
          "title": {
           "text": "Allocation<br>compared<br>to NDC"
          },
          "x": 1
         },
         "colorscale": [
          [
           0,
           "rgb(165,0,38)"
          ],
          [
           0.1,
           "rgb(215,48,39)"
          ],
          [
           0.2,
           "rgb(244,109,67)"
          ],
          [
           0.3,
           "rgb(253,174,97)"
          ],
          [
           0.4,
           "rgb(254,224,139)"
          ],
          [
           0.5,
           "rgb(255,255,191)"
          ],
          [
           0.6,
           "rgb(217,239,139)"
          ],
          [
           0.7,
           "rgb(166,217,106)"
          ],
          [
           0.8,
           "rgb(102,189,99)"
          ],
          [
           0.9,
           "rgb(26,152,80)"
          ],
          [
           1,
           "rgb(0,104,55)"
          ]
         ],
         "geo": "geo",
         "hovertemplate": "%{text}",
         "locationmode": "ISO-3",
         "locations": [
          "AFG",
          "ALB",
          "DZA",
          "AND",
          "AGO",
          "ATG",
          "ARG",
          "ARM",
          "AUS",
          "AUT",
          "AZE",
          "BHR",
          "BGD",
          "BRB",
          "BLR",
          "BEL",
          "BLZ",
          "BEN",
          "BTN",
          "BOL",
          "BIH",
          "BWA",
          "BRA",
          "BRN",
          "BGR",
          "BFA",
          "BDI",
          "KHM",
          "CMR",
          "CAN",
          "CPV",
          "CAF",
          "TCD",
          "CHL",
          "CHN",
          "COL",
          "COM",
          "COG",
          "COK",
          "CRI",
          "CIV",
          "HRV",
          "CUB",
          "CYP",
          "CZE",
          "COD",
          "DNK",
          "DJI",
          "DMA",
          "DOM",
          "ECU",
          "EGY",
          "SLV",
          "GNQ",
          "ERI",
          "EST",
          "SWZ",
          "ETH",
          "FJI",
          "FIN",
          "FRA",
          "GAB",
          "GEO",
          "DEU",
          "GHA",
          "GRC",
          "GRD",
          "GTM",
          "GIN",
          "GNB",
          "GUY",
          "HTI",
          "VAT",
          "HND",
          "HUN",
          "ISL",
          "IND",
          "IDN",
          "IRN",
          "IRQ",
          "IRL",
          "ISR",
          "ITA",
          "JAM",
          "JPN",
          "JOR",
          "KAZ",
          "KEN",
          "KIR",
          "KWT",
          "KGZ",
          "LAO",
          "LVA",
          "LBN",
          "LSO",
          "LBR",
          "LBY",
          "LIE",
          "LTU",
          "LUX",
          "MKD",
          "MDG",
          "MWI",
          "MYS",
          "MDV",
          "MLI",
          "MLT",
          "MHL",
          "MRT",
          "MUS",
          "MEX",
          "FSM",
          "MDA",
          "MCO",
          "MNG",
          "MNE",
          "MAR",
          "MOZ",
          "MMR",
          "NAM",
          "NRU",
          "NPL",
          "NLD",
          "NZL",
          "NIC",
          "NER",
          "NGA",
          "NIU",
          "PRK",
          "NOR",
          "OMN",
          "PAK",
          "PLW",
          "PSE",
          "PAN",
          "PNG",
          "PRY",
          "PER",
          "PHL",
          "POL",
          "PRT",
          "QAT",
          "ROU",
          "RUS",
          "RWA",
          "KNA",
          "LCA",
          "VCT",
          "WSM",
          "SMR",
          "STP",
          "SAU",
          "SEN",
          "SRB",
          "SYC",
          "SLE",
          "SGP",
          "SVK",
          "SVN",
          "SLB",
          "SOM",
          "ZAF",
          "KOR",
          "SSD",
          "ESP",
          "LKA",
          "SDN",
          "SUR",
          "SWE",
          "CHE",
          "SYR",
          "TJK",
          "TZA",
          "THA",
          "BHS",
          "GMB",
          "TLS",
          "TGO",
          "TON",
          "TTO",
          "TUN",
          "TUR",
          "TKM",
          "TUV",
          "UGA",
          "UKR",
          "ARE",
          "GBR",
          "USA",
          "URY",
          "UZB",
          "VUT",
          "VEN",
          "VNM",
          "YEM",
          "ZMB",
          "ZWE",
          "EU",
          "EARTH",
          "G20",
          "G7",
          "SIDS",
          "LDC",
          "Northern America",
          "Australasia",
          "African Group",
          "Umbrella"
         ],
         "marker": {
          "line": {
           "color": "white",
           "width": 0.3
          }
         },
         "name": "",
         "showscale": true,
         "text": [
          "AFG: nan%",
          "ALB: -67.2%",
          "DZA: -40.33%",
          "AND: nan%",
          "AGO: 156.13%",
          "ATG: nan%",
          "ARG: -81.17%",
          "ARM: nan%",
          "AUS: -99.16%",
          "AUT: nan%",
          "AZE: -59.49%",
          "BHR: nan%",
          "BGD: 41.32%",
          "BRB: -68.03%",
          "BLR: -83.64%",
          "BEL: nan%",
          "BLZ: nan%",
          "BEN: 295.71%",
          "BTN: nan%",
          "BOL: nan%",
          "BIH: -82.48%",
          "BWA: -92.51%",
          "BRA: -67.22%",
          "BRN: nan%",
          "BGR: nan%",
          "BFA: 278.78%",
          "BDI: 710.38%",
          "KHM: -6.09%",
          "CMR: 191.8%",
          "CAN: -97.98%",
          "CPV: nan%",
          "CAF: 559.01%",
          "TCD: 503.25%",
          "CHL: -41.08%",
          "CHN: -88.52%",
          "COL: -42.38%",
          "COM: 9319.24%",
          "COG: 126.34%",
          "COK: nan%",
          "CRI: -27.96%",
          "CIV: 162.89%",
          "HRV: nan%",
          "CUB: nan%",
          "CYP: nan%",
          "CZE: nan%",
          "COD: 644.59%",
          "DNK: nan%",
          "DJI: 143.88%",
          "DMA: nan%",
          "DOM: -53.66%",
          "ECU: nan%",
          "EGY: -54.67%",
          "SLV: nan%",
          "GNQ: -69.86%",
          "ERI: nan%",
          "EST: nan%",
          "SWZ: nan%",
          "ETH: 466.72%",
          "FJI: nan%",
          "FIN: nan%",
          "FRA: nan%",
          "GAB: nan%",
          "GEO: -88.04%",
          "DEU: nan%",
          "GHA: 259.36%",
          "GRC: nan%",
          "GRD: nan%",
          "GTM: 31.79%",
          "GIN: 341.99%",
          "GNB: nan%",
          "GUY: nan%",
          "HTI: 1141.09%",
          "VAT: nan%",
          "HND: 76.63%",
          "HUN: nan%",
          "ISL: -98.24%",
          "IND: 4.36%",
          "IDN: -70.87%",
          "IRN: -91.6%",
          "IRQ: nan%",
          "IRL: nan%",
          "ISR: -91.94%",
          "ITA: nan%",
          "JAM: -41.46%",
          "JPN: -93.48%",
          "JOR: 4.76%",
          "KAZ: -95.16%",
          "KEN: 217.4%",
          "KIR: nan%",
          "KWT: -99.33%",
          "KGZ: 375.66%",
          "LAO: nan%",
          "LVA: nan%",
          "LBN: -47.35%",
          "LSO: 1129.27%",
          "LBR: 474.55%",
          "LBY: nan%",
          "LIE: nan%",
          "LTU: nan%",
          "LUX: nan%",
          "MKD: -65.74%",
          "MDG: nan%",
          "MWI: nan%",
          "MYS: -95.1%",
          "MDV: -75.68%",
          "MLI: nan%",
          "MLT: nan%",
          "MHL: nan%",
          "MRT: 56.66%",
          "MUS: -73.26%",
          "MEX: -70.86%",
          "FSM: nan%",
          "MDA: -31.42%",
          "MCO: nan%",
          "MNG: -88.37%",
          "MNE: nan%",
          "MAR: 30.12%",
          "MOZ: nan%",
          "MMR: nan%",
          "NAM: -108.32%",
          "NRU: nan%",
          "NPL: nan%",
          "NLD: nan%",
          "NZL: -96.13%",
          "NIC: nan%",
          "NER: 1414.03%",
          "NGA: 405.42%",
          "NIU: nan%",
          "PRK: nan%",
          "NOR: -83.04%",
          "OMN: -96.57%",
          "PAK: 70.7%",
          "PLW: nan%",
          "PSE: nan%",
          "PAN: nan%",
          "PNG: nan%",
          "PRY: -84.46%",
          "PER: -62.34%",
          "PHL: 226.82%",
          "POL: nan%",
          "PRT: nan%",
          "QAT: nan%",
          "ROU: nan%",
          "RUS: -94.92%",
          "RWA: nan%",
          "KNA: nan%",
          "LCA: -47.2%",
          "VCT: nan%",
          "WSM: nan%",
          "SMR: nan%",
          "STP: 434.02%",
          "SAU: -98.59%",
          "SEN: 281.07%",
          "SRB: nan%",
          "SYC: nan%",
          "SLE: nan%",
          "SGP: -99.02%",
          "SVK: nan%",
          "SVN: nan%",
          "SLB: 227.03%",
          "SOM: nan%",
          "ZAF: -65.93%",
          "KOR: -95.59%",
          "SSD: nan%",
          "ESP: nan%",
          "LKA: nan%",
          "SDN: nan%",
          "SUR: nan%",
          "SWE: nan%",
          "CHE: -88.55%",
          "SYR: nan%",
          "TJK: 183.87%",
          "TZA: 317.66%",
          "THA: -74.23%",
          "BHS: -92.17%",
          "GMB: nan%",
          "TLS: nan%",
          "TGO: 271.68%",
          "TON: nan%",
          "TTO: -99.05%",
          "TUN: 5.33%",
          "TUR: -91.3%",
          "TKM: nan%",
          "TUV: nan%",
          "UGA: 652.3%",
          "UKR: -76.57%",
          "ARE: -100.22%",
          "GBR: -88.01%",
          "USA: -99.31%",
          "URY: nan%",
          "UZB: -72.65%",
          "VUT: nan%",
          "VEN: nan%",
          "VNM: -73.01%",
          "YEM: 1388.79%",
          "ZMB: 148.28%",
          "ZWE: nan%",
          "EU: -86.23%",
          "EARTH: -75.55%",
          "G20: nan%",
          "G7: nan%",
          "SIDS: nan%",
          "LDC: nan%",
          "Northern America: nan%",
          "Australasia: nan%",
          "African Group: nan%",
          "Umbrella: nan%"
         ],
         "type": "choropleth",
         "z": [
          null,
          -0.6719506384293713,
          -0.40327480323479853,
          null,
          1.5613059632592123,
          null,
          -0.8116547747701747,
          null,
          -0.9915716014614777,
          null,
          -0.5948798616296285,
          null,
          0.413205821277779,
          -0.6802602296404321,
          -0.8363613196133842,
          null,
          null,
          2.957146916767625,
          null,
          null,
          -0.8247616133251219,
          -0.9250542648755109,
          -0.6722106070763328,
          null,
          null,
          2.787804244124639,
          7.103842107193258,
          -0.06088113347617933,
          1.918001906030692,
          -0.9797978695294708,
          null,
          5.590145955584433,
          5.0324971400307605,
          -0.41081203854780374,
          -0.885200312120039,
          -0.4237929553872641,
          93.19236515828244,
          1.2634251031701913,
          null,
          -0.27958557661435607,
          1.6289391898916006,
          null,
          null,
          null,
          null,
          6.4458945811149855,
          null,
          1.4387753808327715,
          null,
          -0.5365711604374563,
          null,
          -0.546672884836205,
          null,
          -0.6986293042411286,
          null,
          null,
          null,
          4.667174069237338,
          null,
          null,
          null,
          null,
          -0.8804273059072681,
          null,
          2.5936499679072273,
          null,
          null,
          0.3179361658674067,
          3.419873037980764,
          null,
          null,
          11.410856691922499,
          null,
          0.766292804853497,
          null,
          -0.9824380806212618,
          0.043564167477915916,
          -0.70865557807398,
          -0.915959025419721,
          null,
          null,
          -0.9194032745980081,
          null,
          -0.41464319243126513,
          -0.9348308160937813,
          0.04760520597401687,
          -0.9516371676124118,
          2.1740062697407034,
          null,
          -0.9933344052078341,
          3.7565990983587896,
          null,
          null,
          -0.473467063733648,
          11.292745756332678,
          4.745453231279684,
          null,
          null,
          null,
          null,
          -0.6574468949994844,
          null,
          null,
          -0.9509668485467666,
          -0.7568332028351867,
          null,
          null,
          null,
          0.5665664321408366,
          -0.7325553596828606,
          -0.7085773157510487,
          null,
          -0.31424199517348117,
          null,
          -0.8837035972666993,
          null,
          0.3011897470996806,
          null,
          null,
          -1.083212093610573,
          null,
          null,
          null,
          -0.9613048137282298,
          null,
          14.140313609425016,
          4.054194776480337,
          null,
          null,
          -0.830396578558664,
          -0.9657427042665137,
          0.7069746904061028,
          null,
          null,
          null,
          null,
          -0.8445976010752109,
          -0.6234044722302431,
          2.268211209906716,
          null,
          null,
          null,
          null,
          -0.9491590278156286,
          null,
          null,
          -0.4720465880500013,
          null,
          null,
          null,
          4.3401931579830775,
          -0.9858855133370167,
          2.8107316317414925,
          null,
          null,
          null,
          -0.9902378693326958,
          null,
          null,
          2.2702974916325926,
          null,
          -0.6593302323369533,
          -0.9558896098957731,
          null,
          null,
          null,
          null,
          null,
          null,
          -0.8854511091415492,
          null,
          1.8386512498582541,
          3.1765991289746345,
          -0.7423486585662024,
          -0.9216518363279838,
          null,
          null,
          2.716788664758695,
          null,
          -0.9904704739085406,
          0.0533408092985452,
          -0.9130275483162257,
          null,
          null,
          6.522972113504365,
          -0.7657241577970518,
          -1.0021529957514568,
          -0.8801439825205524,
          -0.9930850149831629,
          null,
          -0.7264640939025939,
          null,
          null,
          -0.7301093839851913,
          13.887854602401738,
          1.482799196781191,
          null,
          -0.8622727971738501,
          -0.7555456518769004,
          null,
          null,
          null,
          null,
          null,
          null,
          null,
          null
         ],
         "zmax": 1,
         "zmin": -1
        },
        {
         "colorbar": {
          "len": 1,
          "ticktext": [
           "-100%",
           "-75",
           "-50%",
           "-25%",
           "0%",
           "+25%",
           "+50%",
           "+75%",
           "+100%"
          ],
          "tickvals": [
           -1,
           -0.75,
           -0.5,
           -0.25,
           0,
           0.25,
           0.5,
           0.75,
           1
          ],
          "title": {
           "text": "Allocation<br>compared<br>to NDC"
          },
          "x": 1
         },
         "colorscale": [
          [
           0,
           "rgb(165,0,38)"
          ],
          [
           0.1,
           "rgb(215,48,39)"
          ],
          [
           0.2,
           "rgb(244,109,67)"
          ],
          [
           0.3,
           "rgb(253,174,97)"
          ],
          [
           0.4,
           "rgb(254,224,139)"
          ],
          [
           0.5,
           "rgb(255,255,191)"
          ],
          [
           0.6,
           "rgb(217,239,139)"
          ],
          [
           0.7,
           "rgb(166,217,106)"
          ],
          [
           0.8,
           "rgb(102,189,99)"
          ],
          [
           0.9,
           "rgb(26,152,80)"
          ],
          [
           1,
           "rgb(0,104,55)"
          ]
         ],
         "geo": "geo",
         "hovertemplate": "%{text}",
         "locationmode": "ISO-3",
         "locations": [
          "AUT",
          "BEL",
          "BGR",
          "HRV",
          "CYP",
          "CZE",
          "DNK",
          "EST",
          "FIN",
          "FRA",
          "DEU",
          "GRC",
          "HUN",
          "IRL",
          "ITA",
          "LVA",
          "LTU",
          "LUX",
          "MLT",
          "NLD",
          "POL",
          "PRT",
          "ROU",
          "SVK",
          "SVN",
          "ESP",
          "SWE"
         ],
         "marker": {
          "line": {
           "color": "white",
           "width": 0.3
          }
         },
         "name": "",
         "showscale": true,
         "text": [
          "EU: -86.23%",
          "EU: -86.23%",
          "EU: -86.23%",
          "EU: -86.23%",
          "EU: -86.23%",
          "EU: -86.23%",
          "EU: -86.23%",
          "EU: -86.23%",
          "EU: -86.23%",
          "EU: -86.23%",
          "EU: -86.23%",
          "EU: -86.23%",
          "EU: -86.23%",
          "EU: -86.23%",
          "EU: -86.23%",
          "EU: -86.23%",
          "EU: -86.23%",
          "EU: -86.23%",
          "EU: -86.23%",
          "EU: -86.23%",
          "EU: -86.23%",
          "EU: -86.23%",
          "EU: -86.23%",
          "EU: -86.23%",
          "EU: -86.23%",
          "EU: -86.23%",
          "EU: -86.23%",
          "EU: -86.23%",
          "EU: -86.23%",
          "EU: -86.23%",
          "EU: -86.23%",
          "EU: -86.23%",
          "EU: -86.23%",
          "EU: -86.23%",
          "EU: -86.23%",
          "EU: -86.23%",
          "EU: -86.23%",
          "EU: -86.23%",
          "EU: -86.23%",
          "EU: -86.23%",
          "EU: -86.23%",
          "EU: -86.23%",
          "EU: -86.23%",
          "EU: -86.23%",
          "EU: -86.23%",
          "EU: -86.23%",
          "EU: -86.23%",
          "EU: -86.23%",
          "EU: -86.23%",
          "EU: -86.23%",
          "EU: -86.23%",
          "EU: -86.23%",
          "EU: -86.23%",
          "EU: -86.23%",
          "EU: -86.23%",
          "EU: -86.23%",
          "EU: -86.23%",
          "EU: -86.23%",
          "EU: -86.23%",
          "EU: -86.23%",
          "EU: -86.23%",
          "EU: -86.23%",
          "EU: -86.23%",
          "EU: -86.23%",
          "EU: -86.23%",
          "EU: -86.23%",
          "EU: -86.23%",
          "EU: -86.23%",
          "EU: -86.23%",
          "EU: -86.23%",
          "EU: -86.23%",
          "EU: -86.23%",
          "EU: -86.23%",
          "EU: -86.23%",
          "EU: -86.23%",
          "EU: -86.23%",
          "EU: -86.23%",
          "EU: -86.23%",
          "EU: -86.23%",
          "EU: -86.23%",
          "EU: -86.23%",
          "EU: -86.23%",
          "EU: -86.23%",
          "EU: -86.23%",
          "EU: -86.23%",
          "EU: -86.23%",
          "EU: -86.23%",
          "EU: -86.23%",
          "EU: -86.23%",
          "EU: -86.23%",
          "EU: -86.23%",
          "EU: -86.23%",
          "EU: -86.23%",
          "EU: -86.23%",
          "EU: -86.23%",
          "EU: -86.23%",
          "EU: -86.23%",
          "EU: -86.23%",
          "EU: -86.23%",
          "EU: -86.23%",
          "EU: -86.23%",
          "EU: -86.23%",
          "EU: -86.23%",
          "EU: -86.23%",
          "EU: -86.23%",
          "EU: -86.23%",
          "EU: -86.23%",
          "EU: -86.23%",
          "EU: -86.23%",
          "EU: -86.23%",
          "EU: -86.23%",
          "EU: -86.23%",
          "EU: -86.23%",
          "EU: -86.23%",
          "EU: -86.23%",
          "EU: -86.23%",
          "EU: -86.23%",
          "EU: -86.23%",
          "EU: -86.23%",
          "EU: -86.23%",
          "EU: -86.23%",
          "EU: -86.23%",
          "EU: -86.23%",
          "EU: -86.23%",
          "EU: -86.23%",
          "EU: -86.23%",
          "EU: -86.23%",
          "EU: -86.23%",
          "EU: -86.23%",
          "EU: -86.23%",
          "EU: -86.23%",
          "EU: -86.23%",
          "EU: -86.23%",
          "EU: -86.23%",
          "EU: -86.23%",
          "EU: -86.23%",
          "EU: -86.23%",
          "EU: -86.23%",
          "EU: -86.23%",
          "EU: -86.23%",
          "EU: -86.23%",
          "EU: -86.23%",
          "EU: -86.23%",
          "EU: -86.23%",
          "EU: -86.23%",
          "EU: -86.23%",
          "EU: -86.23%",
          "EU: -86.23%",
          "EU: -86.23%",
          "EU: -86.23%",
          "EU: -86.23%",
          "EU: -86.23%",
          "EU: -86.23%",
          "EU: -86.23%",
          "EU: -86.23%",
          "EU: -86.23%",
          "EU: -86.23%",
          "EU: -86.23%",
          "EU: -86.23%",
          "EU: -86.23%",
          "EU: -86.23%",
          "EU: -86.23%",
          "EU: -86.23%",
          "EU: -86.23%",
          "EU: -86.23%",
          "EU: -86.23%",
          "EU: -86.23%",
          "EU: -86.23%",
          "EU: -86.23%",
          "EU: -86.23%",
          "EU: -86.23%",
          "EU: -86.23%",
          "EU: -86.23%",
          "EU: -86.23%",
          "EU: -86.23%",
          "EU: -86.23%",
          "EU: -86.23%",
          "EU: -86.23%",
          "EU: -86.23%",
          "EU: -86.23%",
          "EU: -86.23%",
          "EU: -86.23%",
          "EU: -86.23%",
          "EU: -86.23%",
          "EU: -86.23%",
          "EU: -86.23%",
          "EU: -86.23%",
          "EU: -86.23%",
          "EU: -86.23%",
          "EU: -86.23%",
          "EU: -86.23%",
          "EU: -86.23%",
          "EU: -86.23%",
          "EU: -86.23%",
          "EU: -86.23%",
          "EU: -86.23%",
          "EU: -86.23%",
          "EU: -86.23%",
          "EU: -86.23%",
          "EU: -86.23%",
          "EU: -86.23%",
          "EU: -86.23%",
          "EU: -86.23%",
          "EU: -86.23%",
          "EU: -86.23%",
          "EU: -86.23%",
          "EU: -86.23%"
         ],
         "type": "choropleth",
         "z": [
          -0.8622727971738501,
          -0.8622727971738501,
          -0.8622727971738501,
          -0.8622727971738501,
          -0.8622727971738501,
          -0.8622727971738501,
          -0.8622727971738501,
          -0.8622727971738501,
          -0.8622727971738501,
          -0.8622727971738501,
          -0.8622727971738501,
          -0.8622727971738501,
          -0.8622727971738501,
          -0.8622727971738501,
          -0.8622727971738501,
          -0.8622727971738501,
          -0.8622727971738501,
          -0.8622727971738501,
          -0.8622727971738501,
          -0.8622727971738501,
          -0.8622727971738501,
          -0.8622727971738501,
          -0.8622727971738501,
          -0.8622727971738501,
          -0.8622727971738501,
          -0.8622727971738501,
          -0.8622727971738501
         ],
         "zmax": 1,
         "zmin": -1
        },
        {
         "colorbar": {
          "len": 1,
          "ticktext": [
           "-100%",
           "-75",
           "-50%",
           "-25%",
           "0%",
           "+25%",
           "+50%",
           "+75%",
           "+100%"
          ],
          "tickvals": [
           -1,
           -0.75,
           -0.5,
           -0.25,
           0,
           0.25,
           0.5,
           0.75,
           1
          ],
          "title": {
           "text": "Allocation<br>compared<br>to NDC"
          },
          "x": 1
         },
         "colorscale": [
          [
           0,
           "rgb(165,0,38)"
          ],
          [
           0.1,
           "rgb(215,48,39)"
          ],
          [
           0.2,
           "rgb(244,109,67)"
          ],
          [
           0.3,
           "rgb(253,174,97)"
          ],
          [
           0.4,
           "rgb(254,224,139)"
          ],
          [
           0.5,
           "rgb(255,255,191)"
          ],
          [
           0.6,
           "rgb(217,239,139)"
          ],
          [
           0.7,
           "rgb(166,217,106)"
          ],
          [
           0.8,
           "rgb(102,189,99)"
          ],
          [
           0.9,
           "rgb(26,152,80)"
          ],
          [
           1,
           "rgb(0,104,55)"
          ]
         ],
         "geo": "geo2",
         "hovertemplate": "%{text}",
         "locationmode": "ISO-3",
         "locations": [
          "AFG",
          "ALB",
          "DZA",
          "AND",
          "AGO",
          "ATG",
          "ARG",
          "ARM",
          "AUS",
          "AUT",
          "AZE",
          "BHR",
          "BGD",
          "BRB",
          "BLR",
          "BEL",
          "BLZ",
          "BEN",
          "BTN",
          "BOL",
          "BIH",
          "BWA",
          "BRA",
          "BRN",
          "BGR",
          "BFA",
          "BDI",
          "KHM",
          "CMR",
          "CAN",
          "CPV",
          "CAF",
          "TCD",
          "CHL",
          "CHN",
          "COL",
          "COM",
          "COG",
          "COK",
          "CRI",
          "CIV",
          "HRV",
          "CUB",
          "CYP",
          "CZE",
          "COD",
          "DNK",
          "DJI",
          "DMA",
          "DOM",
          "ECU",
          "EGY",
          "SLV",
          "GNQ",
          "ERI",
          "EST",
          "SWZ",
          "ETH",
          "FJI",
          "FIN",
          "FRA",
          "GAB",
          "GEO",
          "DEU",
          "GHA",
          "GRC",
          "GRD",
          "GTM",
          "GIN",
          "GNB",
          "GUY",
          "HTI",
          "VAT",
          "HND",
          "HUN",
          "ISL",
          "IND",
          "IDN",
          "IRN",
          "IRQ",
          "IRL",
          "ISR",
          "ITA",
          "JAM",
          "JPN",
          "JOR",
          "KAZ",
          "KEN",
          "KIR",
          "KWT",
          "KGZ",
          "LAO",
          "LVA",
          "LBN",
          "LSO",
          "LBR",
          "LBY",
          "LIE",
          "LTU",
          "LUX",
          "MKD",
          "MDG",
          "MWI",
          "MYS",
          "MDV",
          "MLI",
          "MLT",
          "MHL",
          "MRT",
          "MUS",
          "MEX",
          "FSM",
          "MDA",
          "MCO",
          "MNG",
          "MNE",
          "MAR",
          "MOZ",
          "MMR",
          "NAM",
          "NRU",
          "NPL",
          "NLD",
          "NZL",
          "NIC",
          "NER",
          "NGA",
          "NIU",
          "PRK",
          "NOR",
          "OMN",
          "PAK",
          "PLW",
          "PSE",
          "PAN",
          "PNG",
          "PRY",
          "PER",
          "PHL",
          "POL",
          "PRT",
          "QAT",
          "ROU",
          "RUS",
          "RWA",
          "KNA",
          "LCA",
          "VCT",
          "WSM",
          "SMR",
          "STP",
          "SAU",
          "SEN",
          "SRB",
          "SYC",
          "SLE",
          "SGP",
          "SVK",
          "SVN",
          "SLB",
          "SOM",
          "ZAF",
          "KOR",
          "SSD",
          "ESP",
          "LKA",
          "SDN",
          "SUR",
          "SWE",
          "CHE",
          "SYR",
          "TJK",
          "TZA",
          "THA",
          "BHS",
          "GMB",
          "TLS",
          "TGO",
          "TON",
          "TTO",
          "TUN",
          "TUR",
          "TKM",
          "TUV",
          "UGA",
          "UKR",
          "ARE",
          "GBR",
          "USA",
          "URY",
          "UZB",
          "VUT",
          "VEN",
          "VNM",
          "YEM",
          "ZMB",
          "ZWE",
          "EU",
          "EARTH",
          "G20",
          "G7",
          "SIDS",
          "LDC",
          "Northern America",
          "Australasia",
          "African Group",
          "Umbrella"
         ],
         "marker": {
          "line": {
           "color": "white",
           "width": 0.3
          }
         },
         "name": "",
         "showscale": false,
         "text": [
          "AFG: nan%",
          "ALB: -62.86%",
          "DZA: -32.07%",
          "AND: nan%",
          "AGO: 51.2%",
          "ATG: nan%",
          "ARG: -58.88%",
          "ARM: nan%",
          "AUS: -49.24%",
          "AUT: nan%",
          "AZE: -37.24%",
          "BHR: nan%",
          "BGD: -14.14%",
          "BRB: -52.43%",
          "BLR: -47.64%",
          "BEL: nan%",
          "BLZ: nan%",
          "BEN: 108.2%",
          "BTN: nan%",
          "BOL: nan%",
          "BIH: -55.48%",
          "BWA: -85.15%",
          "BRA: -52.11%",
          "BRN: nan%",
          "BGR: nan%",
          "BFA: 94.17%",
          "BDI: 287.27%",
          "KHM: -38.53%",
          "CMR: 54.12%",
          "CAN: -53.34%",
          "CPV: nan%",
          "CAF: 227.86%",
          "TCD: 223.38%",
          "CHL: 26.26%",
          "CHN: -64.61%",
          "COL: -34.67%",
          "COM: 4756.67%",
          "COG: 41.07%",
          "COK: nan%",
          "CRI: -17.18%",
          "CIV: 42.89%",
          "HRV: nan%",
          "CUB: nan%",
          "CYP: nan%",
          "CZE: nan%",
          "COD: 258.62%",
          "DNK: nan%",
          "DJI: 41.76%",
          "DMA: nan%",
          "DOM: -37.19%",
          "ECU: nan%",
          "EGY: -57.74%",
          "SLV: nan%",
          "GNQ: -66.77%",
          "ERI: nan%",
          "EST: nan%",
          "SWZ: nan%",
          "ETH: 192.94%",
          "FJI: nan%",
          "FIN: nan%",
          "FRA: nan%",
          "GAB: nan%",
          "GEO: -78.64%",
          "DEU: nan%",
          "GHA: 99.04%",
          "GRC: nan%",
          "GRD: nan%",
          "GTM: -7.56%",
          "GIN: 139.75%",
          "GNB: nan%",
          "GUY: nan%",
          "HTI: 527.78%",
          "VAT: nan%",
          "HND: 7.21%",
          "HUN: nan%",
          "ISL: -76.43%",
          "IND: -22.94%",
          "IDN: -67.7%",
          "IRN: -81.02%",
          "IRQ: nan%",
          "IRL: nan%",
          "ISR: -58.65%",
          "ITA: nan%",
          "JAM: -53.68%",
          "JPN: -54.98%",
          "JOR: -25.39%",
          "KAZ: -63.98%",
          "KEN: 83.54%",
          "KIR: nan%",
          "KWT: -67.01%",
          "KGZ: 203.46%",
          "LAO: nan%",
          "LVA: nan%",
          "LBN: -44.51%",
          "LSO: 542.97%",
          "LBR: 179.79%",
          "LBY: nan%",
          "LIE: nan%",
          "LTU: nan%",
          "LUX: nan%",
          "MKD: -47.92%",
          "MDG: nan%",
          "MWI: nan%",
          "MYS: -78.33%",
          "MDV: -63.98%",
          "MLI: nan%",
          "MLT: nan%",
          "MHL: nan%",
          "MRT: 5.29%",
          "MUS: -56.37%",
          "MEX: -48.54%",
          "FSM: nan%",
          "MDA: -33.59%",
          "MCO: nan%",
          "MNG: -50.79%",
          "MNE: nan%",
          "MAR: -2.41%",
          "MOZ: nan%",
          "MMR: nan%",
          "NAM: -108.32%",
          "NRU: nan%",
          "NPL: nan%",
          "NLD: nan%",
          "NZL: -42.39%",
          "NIC: nan%",
          "NER: 648.71%",
          "NGA: 180.31%",
          "NIU: nan%",
          "PRK: nan%",
          "NOR: 226.66%",
          "OMN: -60.25%",
          "PAK: 1.17%",
          "PLW: nan%",
          "PSE: nan%",
          "PAN: nan%",
          "PNG: nan%",
          "PRY: -76.46%",
          "PER: -65.76%",
          "PHL: 132.89%",
          "POL: nan%",
          "PRT: nan%",
          "QAT: nan%",
          "ROU: nan%",
          "RUS: -65.18%",
          "RWA: nan%",
          "KNA: nan%",
          "LCA: -46.72%",
          "VCT: nan%",
          "WSM: nan%",
          "SMR: nan%",
          "STP: 171.86%",
          "SAU: -71.45%",
          "SEN: 105.93%",
          "SRB: nan%",
          "SYC: nan%",
          "SLE: nan%",
          "SGP: -70.2%",
          "SVK: nan%",
          "SVN: nan%",
          "SLB: 59.33%",
          "SOM: nan%",
          "ZAF: -42.16%",
          "KOR: -51.21%",
          "SSD: nan%",
          "ESP: nan%",
          "LKA: nan%",
          "SDN: nan%",
          "SUR: nan%",
          "SWE: nan%",
          "CHE: -39.49%",
          "SYR: nan%",
          "TJK: 60.32%",
          "TZA: 116.75%",
          "THA: -54.95%",
          "BHS: -75.76%",
          "GMB: nan%",
          "TLS: nan%",
          "TGO: 86.5%",
          "TON: nan%",
          "TTO: -81.99%",
          "TUN: -4.38%",
          "TUR: -68.88%",
          "TKM: nan%",
          "TUV: nan%",
          "UGA: 277.56%",
          "UKR: -60.3%",
          "ARE: -51.55%",
          "GBR: -44.63%",
          "USA: -44.3%",
          "URY: nan%",
          "UZB: -70.68%",
          "VUT: nan%",
          "VEN: nan%",
          "VNM: -64.4%",
          "YEM: 629.16%",
          "ZMB: 33.64%",
          "ZWE: nan%",
          "EU: -43.74%",
          "EARTH: -58.73%",
          "G20: nan%",
          "G7: nan%",
          "SIDS: nan%",
          "LDC: nan%",
          "Northern America: nan%",
          "Australasia: nan%",
          "African Group: nan%",
          "Umbrella: nan%"
         ],
         "type": "choropleth",
         "z": [
          null,
          -0.6286079349486438,
          -0.3207096621201493,
          null,
          0.511992397547902,
          null,
          -0.5888319622333945,
          null,
          -0.49238078041179384,
          null,
          -0.3724459969985741,
          null,
          -0.14136293860851423,
          -0.5242771650394068,
          -0.47637312724837627,
          null,
          null,
          1.0820307106313687,
          null,
          null,
          -0.5547828980311469,
          -0.8514617125590596,
          -0.5210608118895265,
          null,
          null,
          0.9416751976721675,
          2.8727168204066738,
          -0.3852525178028042,
          0.5412180531970071,
          -0.5334400787091801,
          null,
          2.2786322707333833,
          2.2338234254486653,
          0.26264839148680785,
          -0.6460555736618602,
          -0.3467134056513848,
          47.566696333530714,
          0.41071493933969033,
          null,
          -0.17177652572808494,
          0.42886397013305055,
          null,
          null,
          null,
          null,
          2.5862242979293515,
          null,
          0.41758276408453665,
          null,
          -0.37188486006539145,
          null,
          -0.5774464526377422,
          null,
          -0.6676524022656719,
          null,
          null,
          null,
          1.9294456496004795,
          null,
          null,
          null,
          null,
          -0.7864218208275116,
          null,
          0.9904015708640616,
          null,
          null,
          -0.07560923725518068,
          1.3975271610556177,
          null,
          null,
          5.277780192177898,
          null,
          0.0721493528830039,
          null,
          -0.7643259528311848,
          -0.22943298688910263,
          -0.6770016192653777,
          -0.8102190500379315,
          null,
          null,
          -0.5865097463935658,
          null,
          -0.5368498835937787,
          -0.5497741147988476,
          -0.25389349981407555,
          -0.6397626799364408,
          0.8354408903064479,
          null,
          -0.6701230473657256,
          2.0346282621663314,
          null,
          null,
          -0.44506493750591164,
          5.4296780340572495,
          1.7978831885394921,
          null,
          null,
          null,
          null,
          -0.4791804529869513,
          null,
          null,
          -0.783279827223182,
          -0.6398314667646433,
          null,
          null,
          null,
          0.052890916349768634,
          -0.5637015960810099,
          -0.4854335684872783,
          null,
          -0.3359361895154289,
          null,
          -0.5079015463408977,
          null,
          -0.024080387699349,
          null,
          null,
          -1.0831601468483671,
          null,
          null,
          null,
          -0.42392220691548615,
          null,
          6.487052830749578,
          1.8031403053847137,
          null,
          null,
          2.2665737601315885,
          -0.6025147928582679,
          0.011657342361393317,
          null,
          null,
          null,
          null,
          -0.7645973147109703,
          -0.6576235952113623,
          1.3289259425965045,
          null,
          null,
          null,
          null,
          -0.6518371638024256,
          null,
          null,
          -0.46722720009662666,
          null,
          null,
          null,
          1.7186350807262218,
          -0.7144724653561928,
          1.059261902207309,
          null,
          null,
          null,
          -0.7019538662335314,
          null,
          null,
          0.5932502705022092,
          null,
          -0.42160847590125616,
          -0.5121140563695386,
          null,
          null,
          null,
          null,
          null,
          null,
          -0.3948786253429583,
          null,
          0.6032033260165173,
          1.167533261414747,
          -0.5494649573256555,
          -0.7576128637397619,
          null,
          null,
          0.8649716822480797,
          null,
          -0.8199231224248421,
          -0.04380165663692944,
          -0.6888483949279828,
          null,
          null,
          2.775621674126454,
          -0.6029970951274761,
          -0.5155284341125477,
          -0.44631569134725896,
          -0.44303080856736404,
          null,
          -0.7068238225956773,
          null,
          null,
          -0.6440106959083666,
          6.291597739043048,
          0.3364173295271447,
          null,
          -0.43740960212297775,
          -0.5872572955770341,
          null,
          null,
          null,
          null,
          null,
          null,
          null,
          null
         ],
         "zmax": 1,
         "zmin": -1
        },
        {
         "colorbar": {
          "len": 1,
          "ticktext": [
           "-100%",
           "-75",
           "-50%",
           "-25%",
           "0%",
           "+25%",
           "+50%",
           "+75%",
           "+100%"
          ],
          "tickvals": [
           -1,
           -0.75,
           -0.5,
           -0.25,
           0,
           0.25,
           0.5,
           0.75,
           1
          ],
          "title": {
           "text": "Allocation<br>compared<br>to NDC"
          },
          "x": 1
         },
         "colorscale": [
          [
           0,
           "rgb(165,0,38)"
          ],
          [
           0.1,
           "rgb(215,48,39)"
          ],
          [
           0.2,
           "rgb(244,109,67)"
          ],
          [
           0.3,
           "rgb(253,174,97)"
          ],
          [
           0.4,
           "rgb(254,224,139)"
          ],
          [
           0.5,
           "rgb(255,255,191)"
          ],
          [
           0.6,
           "rgb(217,239,139)"
          ],
          [
           0.7,
           "rgb(166,217,106)"
          ],
          [
           0.8,
           "rgb(102,189,99)"
          ],
          [
           0.9,
           "rgb(26,152,80)"
          ],
          [
           1,
           "rgb(0,104,55)"
          ]
         ],
         "geo": "geo2",
         "hovertemplate": "%{text}",
         "locationmode": "ISO-3",
         "locations": [
          "AUT",
          "BEL",
          "BGR",
          "HRV",
          "CYP",
          "CZE",
          "DNK",
          "EST",
          "FIN",
          "FRA",
          "DEU",
          "GRC",
          "HUN",
          "IRL",
          "ITA",
          "LVA",
          "LTU",
          "LUX",
          "MLT",
          "NLD",
          "POL",
          "PRT",
          "ROU",
          "SVK",
          "SVN",
          "ESP",
          "SWE"
         ],
         "marker": {
          "line": {
           "color": "white",
           "width": 0.3
          }
         },
         "name": "",
         "showscale": false,
         "text": [
          "EU: -43.74%",
          "EU: -43.74%",
          "EU: -43.74%",
          "EU: -43.74%",
          "EU: -43.74%",
          "EU: -43.74%",
          "EU: -43.74%",
          "EU: -43.74%",
          "EU: -43.74%",
          "EU: -43.74%",
          "EU: -43.74%",
          "EU: -43.74%",
          "EU: -43.74%",
          "EU: -43.74%",
          "EU: -43.74%",
          "EU: -43.74%",
          "EU: -43.74%",
          "EU: -43.74%",
          "EU: -43.74%",
          "EU: -43.74%",
          "EU: -43.74%",
          "EU: -43.74%",
          "EU: -43.74%",
          "EU: -43.74%",
          "EU: -43.74%",
          "EU: -43.74%",
          "EU: -43.74%",
          "EU: -43.74%",
          "EU: -43.74%",
          "EU: -43.74%",
          "EU: -43.74%",
          "EU: -43.74%",
          "EU: -43.74%",
          "EU: -43.74%",
          "EU: -43.74%",
          "EU: -43.74%",
          "EU: -43.74%",
          "EU: -43.74%",
          "EU: -43.74%",
          "EU: -43.74%",
          "EU: -43.74%",
          "EU: -43.74%",
          "EU: -43.74%",
          "EU: -43.74%",
          "EU: -43.74%",
          "EU: -43.74%",
          "EU: -43.74%",
          "EU: -43.74%",
          "EU: -43.74%",
          "EU: -43.74%",
          "EU: -43.74%",
          "EU: -43.74%",
          "EU: -43.74%",
          "EU: -43.74%",
          "EU: -43.74%",
          "EU: -43.74%",
          "EU: -43.74%",
          "EU: -43.74%",
          "EU: -43.74%",
          "EU: -43.74%",
          "EU: -43.74%",
          "EU: -43.74%",
          "EU: -43.74%",
          "EU: -43.74%",
          "EU: -43.74%",
          "EU: -43.74%",
          "EU: -43.74%",
          "EU: -43.74%",
          "EU: -43.74%",
          "EU: -43.74%",
          "EU: -43.74%",
          "EU: -43.74%",
          "EU: -43.74%",
          "EU: -43.74%",
          "EU: -43.74%",
          "EU: -43.74%",
          "EU: -43.74%",
          "EU: -43.74%",
          "EU: -43.74%",
          "EU: -43.74%",
          "EU: -43.74%",
          "EU: -43.74%",
          "EU: -43.74%",
          "EU: -43.74%",
          "EU: -43.74%",
          "EU: -43.74%",
          "EU: -43.74%",
          "EU: -43.74%",
          "EU: -43.74%",
          "EU: -43.74%",
          "EU: -43.74%",
          "EU: -43.74%",
          "EU: -43.74%",
          "EU: -43.74%",
          "EU: -43.74%",
          "EU: -43.74%",
          "EU: -43.74%",
          "EU: -43.74%",
          "EU: -43.74%",
          "EU: -43.74%",
          "EU: -43.74%",
          "EU: -43.74%",
          "EU: -43.74%",
          "EU: -43.74%",
          "EU: -43.74%",
          "EU: -43.74%",
          "EU: -43.74%",
          "EU: -43.74%",
          "EU: -43.74%",
          "EU: -43.74%",
          "EU: -43.74%",
          "EU: -43.74%",
          "EU: -43.74%",
          "EU: -43.74%",
          "EU: -43.74%",
          "EU: -43.74%",
          "EU: -43.74%",
          "EU: -43.74%",
          "EU: -43.74%",
          "EU: -43.74%",
          "EU: -43.74%",
          "EU: -43.74%",
          "EU: -43.74%",
          "EU: -43.74%",
          "EU: -43.74%",
          "EU: -43.74%",
          "EU: -43.74%",
          "EU: -43.74%",
          "EU: -43.74%",
          "EU: -43.74%",
          "EU: -43.74%",
          "EU: -43.74%",
          "EU: -43.74%",
          "EU: -43.74%",
          "EU: -43.74%",
          "EU: -43.74%",
          "EU: -43.74%",
          "EU: -43.74%",
          "EU: -43.74%",
          "EU: -43.74%",
          "EU: -43.74%",
          "EU: -43.74%",
          "EU: -43.74%",
          "EU: -43.74%",
          "EU: -43.74%",
          "EU: -43.74%",
          "EU: -43.74%",
          "EU: -43.74%",
          "EU: -43.74%",
          "EU: -43.74%",
          "EU: -43.74%",
          "EU: -43.74%",
          "EU: -43.74%",
          "EU: -43.74%",
          "EU: -43.74%",
          "EU: -43.74%",
          "EU: -43.74%",
          "EU: -43.74%",
          "EU: -43.74%",
          "EU: -43.74%",
          "EU: -43.74%",
          "EU: -43.74%",
          "EU: -43.74%",
          "EU: -43.74%",
          "EU: -43.74%",
          "EU: -43.74%",
          "EU: -43.74%",
          "EU: -43.74%",
          "EU: -43.74%",
          "EU: -43.74%",
          "EU: -43.74%",
          "EU: -43.74%",
          "EU: -43.74%",
          "EU: -43.74%",
          "EU: -43.74%",
          "EU: -43.74%",
          "EU: -43.74%",
          "EU: -43.74%",
          "EU: -43.74%",
          "EU: -43.74%",
          "EU: -43.74%",
          "EU: -43.74%",
          "EU: -43.74%",
          "EU: -43.74%",
          "EU: -43.74%",
          "EU: -43.74%",
          "EU: -43.74%",
          "EU: -43.74%",
          "EU: -43.74%",
          "EU: -43.74%",
          "EU: -43.74%",
          "EU: -43.74%",
          "EU: -43.74%",
          "EU: -43.74%",
          "EU: -43.74%",
          "EU: -43.74%",
          "EU: -43.74%",
          "EU: -43.74%",
          "EU: -43.74%",
          "EU: -43.74%",
          "EU: -43.74%",
          "EU: -43.74%",
          "EU: -43.74%",
          "EU: -43.74%",
          "EU: -43.74%",
          "EU: -43.74%",
          "EU: -43.74%"
         ],
         "type": "choropleth",
         "z": [
          -0.43740960212297775,
          -0.43740960212297775,
          -0.43740960212297775,
          -0.43740960212297775,
          -0.43740960212297775,
          -0.43740960212297775,
          -0.43740960212297775,
          -0.43740960212297775,
          -0.43740960212297775,
          -0.43740960212297775,
          -0.43740960212297775,
          -0.43740960212297775,
          -0.43740960212297775,
          -0.43740960212297775,
          -0.43740960212297775,
          -0.43740960212297775,
          -0.43740960212297775,
          -0.43740960212297775,
          -0.43740960212297775,
          -0.43740960212297775,
          -0.43740960212297775,
          -0.43740960212297775,
          -0.43740960212297775,
          -0.43740960212297775,
          -0.43740960212297775,
          -0.43740960212297775,
          -0.43740960212297775
         ],
         "zmax": 1,
         "zmin": -1
        },
        {
         "arrangement": "snap",
         "domain": {
          "x": [
           0,
           1
          ],
          "y": [
           0,
           0.49
          ]
         },
         "link": {
          "color": [
           "rgba(180,0.0,0, 0.3)",
           "rgba(180,10.0,0, 0.3)",
           "rgba(180,20.0,0, 0.3)",
           "rgba(180,30.0,0, 0.3)",
           "rgba(180,40.0,0, 0.3)",
           "rgba(180,50.0,0, 0.3)",
           "rgba(180,60.0,0, 0.3)",
           "rgba(180,70.0,0, 0.3)",
           "rgba(180,80.0,0, 0.3)",
           "rgba(180,90.0,0, 0.3)",
           "rgba(180,100.0,0, 0.3)",
           "rgba(180,110.0,0, 0.3)",
           "rgba(180,120.0,0, 0.3)",
           "rgba(180,130.0,0, 0.3)",
           "rgba(180,140.0,0, 0.3)",
           "rgba(180,150.0,0, 0.3)",
           "rgba(180,160.0,0, 0.3)",
           "rgba(180,170.0,0, 0.3)"
          ],
          "source": [
           0,
           1,
           2,
           3,
           4,
           5,
           6,
           7,
           8,
           9,
           10,
           11,
           12,
           13,
           14,
           15,
           16,
           17
          ],
          "target": [
           27,
           32,
           29,
           18,
           25,
           28,
           21,
           24,
           19,
           22,
           31,
           33,
           23,
           20,
           30,
           26,
           34,
           35
          ],
          "value": [
           1,
           1,
           1,
           1,
           1,
           1,
           1,
           1,
           1,
           1,
           1,
           1,
           1,
           1,
           1,
           1,
           1,
           1
          ]
         },
         "node": {
          "color": "black",
          "label": [
           "United Arab Emirates: -100.2%",
           "United States of America: -99.3%",
           "Australia: -99.2%",
           "Saudi Arabia: -98.6%",
           "Canada: -98.0%",
           "South Korea: -95.6%",
           "Russian Federation: -94.9%",
           "Japan: -93.5%",
           "Turkiye: -91.3%",
           "China: -88.5%",
           "United Kingdom: -88.0%",
           "European Union: -86.2%",
           "Argentina: -81.2%",
           "Indonesia: -70.9%",
           "Mexico: -70.9%",
           "Brazil: -67.2%",
           "South Africa: -65.9%",
           "India: 4.4%",
           "Saudi Arabia: -71.4%",
           "Turkiye: -68.9%",
           "Indonesia: -67.7%",
           "Russian Federation: -65.2%",
           "China: -64.6%",
           "Argentina: -58.9%",
           "Japan: -55.0%",
           "Canada: -53.3%",
           "Brazil: -52.1%",
           "United Arab Emirates: -51.6%",
           "South Korea: -51.2%",
           "Australia: -49.2%",
           "Mexico: -48.5%",
           "United Kingdom: -44.6%",
           "United States of America: -44.3%",
           "European Union: -43.7%",
           "South Africa: -42.2%",
           "India: -22.9%"
          ],
          "line": {
           "color": "black",
           "width": 0.5
          },
          "pad": 10,
          "thickness": 5,
          "x": [
           0.05,
           0.05,
           0.05,
           0.05,
           0.05,
           0.05,
           0.05,
           0.05,
           0.05,
           0.05,
           0.05,
           0.05,
           0.05,
           0.05,
           0.05,
           0.05,
           0.05,
           0.05,
           0.95,
           0.95,
           0.95,
           0.95,
           0.95,
           0.95,
           0.95,
           0.95,
           0.95,
           0.95,
           0.95,
           0.95,
           0.95,
           0.95,
           0.95,
           0.95,
           0.95,
           0.95
          ],
          "y": [
           0.001,
           0.05970588235294118,
           0.11841176470588236,
           0.17711764705882355,
           0.2358235294117647,
           0.2945294117647059,
           0.3532352941176471,
           0.41194117647058826,
           0.4706470588235294,
           0.5293529411764706,
           0.5880588235294117,
           0.6467647058823529,
           0.7054705882352942,
           0.7641764705882353,
           0.8228823529411765,
           0.8815882352941177,
           0.9402941176470588,
           0.999,
           0.001,
           0.05970588235294118,
           0.11841176470588236,
           0.17711764705882355,
           0.2358235294117647,
           0.2945294117647059,
           0.3532352941176471,
           0.41194117647058826,
           0.4706470588235294,
           0.5293529411764706,
           0.5880588235294117,
           0.6467647058823529,
           0.7054705882352942,
           0.7641764705882353,
           0.8228823529411765,
           0.8815882352941177,
           0.9402941176470588,
           0.999
          ]
         },
         "type": "sankey"
        }
       ],
       "layout": {
        "annotations": [
         {
          "align": "center",
          "ax": 0,
          "ay": 0,
          "font": {
           "color": "black",
           "size": 16
          },
          "showarrow": false,
          "text": "NDC ambitious enough <<<",
          "textangle": 90,
          "x": 1.025,
          "xref": "paper",
          "y": 0.7,
          "yref": "paper"
         },
         {
          "align": "center",
          "ax": 0,
          "ay": 0,
          "font": {
           "color": "black",
           "size": 16
          },
          "showarrow": false,
          "text": ">>> NDC not ambitious enough",
          "textangle": 90,
          "x": 1.025,
          "xref": "paper",
          "y": 0.2,
          "yref": "paper"
         },
         {
          "align": "left",
          "ax": 0,
          "ay": 0,
          "font": {
           "color": "black",
           "size": 16
          },
          "showarrow": false,
          "text": "<b>(a) Allocation-NDC comparison for approach 2</b>",
          "x": 0.07,
          "xref": "paper",
          "y": 1,
          "yref": "paper"
         },
         {
          "align": "left",
          "ax": 0,
          "ay": 0,
          "font": {
           "color": "black",
           "size": 16
          },
          "showarrow": false,
          "text": "<b>(b) Allocation-NDC comparison for approach 2<br>(transitioning from current emissions in 20 years)</b>",
          "x": 0.86,
          "xref": "paper",
          "y": 1,
          "yref": "paper"
         },
         {
          "align": "left",
          "ax": 0,
          "ay": 0,
          "font": {
           "color": "black",
           "size": 16
          },
          "showarrow": false,
          "text": "<b>(c) Ordering of G20 and United Arab Emirates</b>",
          "x": 0.04,
          "xref": "paper",
          "y": 0.52,
          "yref": "paper"
         }
        ],
        "font": {
         "size": 15
        },
        "geo": {
         "domain": {
          "x": [
           0,
           0.5
          ],
          "y": [
           0.51,
           1
          ]
         },
         "lakecolor": "rgb(255, 255, 255)",
         "oceancolor": "aliceblue",
         "projection": {
          "type": "natural earth"
         },
         "showcoastlines": false,
         "showlakes": true,
         "showocean": true,
         "visible": false
        },
        "geo2": {
         "domain": {
          "x": [
           0.5,
           1
          ],
          "y": [
           0.51,
           1
          ]
         },
         "lakecolor": "rgb(255, 255, 255)",
         "oceancolor": "aliceblue",
         "projection": {
          "type": "natural earth"
         },
         "showcoastlines": false,
         "showlakes": true,
         "showocean": true,
         "visible": false
        },
        "height": 1200,
        "template": {
         "data": {
          "bar": [
           {
            "error_x": {
             "color": "#2a3f5f"
            },
            "error_y": {
             "color": "#2a3f5f"
            },
            "marker": {
             "line": {
              "color": "#E5ECF6",
              "width": 0.5
             },
             "pattern": {
              "fillmode": "overlay",
              "size": 10,
              "solidity": 0.2
             }
            },
            "type": "bar"
           }
          ],
          "barpolar": [
           {
            "marker": {
             "line": {
              "color": "#E5ECF6",
              "width": 0.5
             },
             "pattern": {
              "fillmode": "overlay",
              "size": 10,
              "solidity": 0.2
             }
            },
            "type": "barpolar"
           }
          ],
          "carpet": [
           {
            "aaxis": {
             "endlinecolor": "#2a3f5f",
             "gridcolor": "white",
             "linecolor": "white",
             "minorgridcolor": "white",
             "startlinecolor": "#2a3f5f"
            },
            "baxis": {
             "endlinecolor": "#2a3f5f",
             "gridcolor": "white",
             "linecolor": "white",
             "minorgridcolor": "white",
             "startlinecolor": "#2a3f5f"
            },
            "type": "carpet"
           }
          ],
          "choropleth": [
           {
            "colorbar": {
             "outlinewidth": 0,
             "ticks": ""
            },
            "type": "choropleth"
           }
          ],
          "contour": [
           {
            "colorbar": {
             "outlinewidth": 0,
             "ticks": ""
            },
            "colorscale": [
             [
              0,
              "#0d0887"
             ],
             [
              0.1111111111111111,
              "#46039f"
             ],
             [
              0.2222222222222222,
              "#7201a8"
             ],
             [
              0.3333333333333333,
              "#9c179e"
             ],
             [
              0.4444444444444444,
              "#bd3786"
             ],
             [
              0.5555555555555556,
              "#d8576b"
             ],
             [
              0.6666666666666666,
              "#ed7953"
             ],
             [
              0.7777777777777778,
              "#fb9f3a"
             ],
             [
              0.8888888888888888,
              "#fdca26"
             ],
             [
              1,
              "#f0f921"
             ]
            ],
            "type": "contour"
           }
          ],
          "contourcarpet": [
           {
            "colorbar": {
             "outlinewidth": 0,
             "ticks": ""
            },
            "type": "contourcarpet"
           }
          ],
          "heatmap": [
           {
            "colorbar": {
             "outlinewidth": 0,
             "ticks": ""
            },
            "colorscale": [
             [
              0,
              "#0d0887"
             ],
             [
              0.1111111111111111,
              "#46039f"
             ],
             [
              0.2222222222222222,
              "#7201a8"
             ],
             [
              0.3333333333333333,
              "#9c179e"
             ],
             [
              0.4444444444444444,
              "#bd3786"
             ],
             [
              0.5555555555555556,
              "#d8576b"
             ],
             [
              0.6666666666666666,
              "#ed7953"
             ],
             [
              0.7777777777777778,
              "#fb9f3a"
             ],
             [
              0.8888888888888888,
              "#fdca26"
             ],
             [
              1,
              "#f0f921"
             ]
            ],
            "type": "heatmap"
           }
          ],
          "heatmapgl": [
           {
            "colorbar": {
             "outlinewidth": 0,
             "ticks": ""
            },
            "colorscale": [
             [
              0,
              "#0d0887"
             ],
             [
              0.1111111111111111,
              "#46039f"
             ],
             [
              0.2222222222222222,
              "#7201a8"
             ],
             [
              0.3333333333333333,
              "#9c179e"
             ],
             [
              0.4444444444444444,
              "#bd3786"
             ],
             [
              0.5555555555555556,
              "#d8576b"
             ],
             [
              0.6666666666666666,
              "#ed7953"
             ],
             [
              0.7777777777777778,
              "#fb9f3a"
             ],
             [
              0.8888888888888888,
              "#fdca26"
             ],
             [
              1,
              "#f0f921"
             ]
            ],
            "type": "heatmapgl"
           }
          ],
          "histogram": [
           {
            "marker": {
             "pattern": {
              "fillmode": "overlay",
              "size": 10,
              "solidity": 0.2
             }
            },
            "type": "histogram"
           }
          ],
          "histogram2d": [
           {
            "colorbar": {
             "outlinewidth": 0,
             "ticks": ""
            },
            "colorscale": [
             [
              0,
              "#0d0887"
             ],
             [
              0.1111111111111111,
              "#46039f"
             ],
             [
              0.2222222222222222,
              "#7201a8"
             ],
             [
              0.3333333333333333,
              "#9c179e"
             ],
             [
              0.4444444444444444,
              "#bd3786"
             ],
             [
              0.5555555555555556,
              "#d8576b"
             ],
             [
              0.6666666666666666,
              "#ed7953"
             ],
             [
              0.7777777777777778,
              "#fb9f3a"
             ],
             [
              0.8888888888888888,
              "#fdca26"
             ],
             [
              1,
              "#f0f921"
             ]
            ],
            "type": "histogram2d"
           }
          ],
          "histogram2dcontour": [
           {
            "colorbar": {
             "outlinewidth": 0,
             "ticks": ""
            },
            "colorscale": [
             [
              0,
              "#0d0887"
             ],
             [
              0.1111111111111111,
              "#46039f"
             ],
             [
              0.2222222222222222,
              "#7201a8"
             ],
             [
              0.3333333333333333,
              "#9c179e"
             ],
             [
              0.4444444444444444,
              "#bd3786"
             ],
             [
              0.5555555555555556,
              "#d8576b"
             ],
             [
              0.6666666666666666,
              "#ed7953"
             ],
             [
              0.7777777777777778,
              "#fb9f3a"
             ],
             [
              0.8888888888888888,
              "#fdca26"
             ],
             [
              1,
              "#f0f921"
             ]
            ],
            "type": "histogram2dcontour"
           }
          ],
          "mesh3d": [
           {
            "colorbar": {
             "outlinewidth": 0,
             "ticks": ""
            },
            "type": "mesh3d"
           }
          ],
          "parcoords": [
           {
            "line": {
             "colorbar": {
              "outlinewidth": 0,
              "ticks": ""
             }
            },
            "type": "parcoords"
           }
          ],
          "pie": [
           {
            "automargin": true,
            "type": "pie"
           }
          ],
          "scatter": [
           {
            "fillpattern": {
             "fillmode": "overlay",
             "size": 10,
             "solidity": 0.2
            },
            "type": "scatter"
           }
          ],
          "scatter3d": [
           {
            "line": {
             "colorbar": {
              "outlinewidth": 0,
              "ticks": ""
             }
            },
            "marker": {
             "colorbar": {
              "outlinewidth": 0,
              "ticks": ""
             }
            },
            "type": "scatter3d"
           }
          ],
          "scattercarpet": [
           {
            "marker": {
             "colorbar": {
              "outlinewidth": 0,
              "ticks": ""
             }
            },
            "type": "scattercarpet"
           }
          ],
          "scattergeo": [
           {
            "marker": {
             "colorbar": {
              "outlinewidth": 0,
              "ticks": ""
             }
            },
            "type": "scattergeo"
           }
          ],
          "scattergl": [
           {
            "marker": {
             "colorbar": {
              "outlinewidth": 0,
              "ticks": ""
             }
            },
            "type": "scattergl"
           }
          ],
          "scattermapbox": [
           {
            "marker": {
             "colorbar": {
              "outlinewidth": 0,
              "ticks": ""
             }
            },
            "type": "scattermapbox"
           }
          ],
          "scatterpolar": [
           {
            "marker": {
             "colorbar": {
              "outlinewidth": 0,
              "ticks": ""
             }
            },
            "type": "scatterpolar"
           }
          ],
          "scatterpolargl": [
           {
            "marker": {
             "colorbar": {
              "outlinewidth": 0,
              "ticks": ""
             }
            },
            "type": "scatterpolargl"
           }
          ],
          "scatterternary": [
           {
            "marker": {
             "colorbar": {
              "outlinewidth": 0,
              "ticks": ""
             }
            },
            "type": "scatterternary"
           }
          ],
          "surface": [
           {
            "colorbar": {
             "outlinewidth": 0,
             "ticks": ""
            },
            "colorscale": [
             [
              0,
              "#0d0887"
             ],
             [
              0.1111111111111111,
              "#46039f"
             ],
             [
              0.2222222222222222,
              "#7201a8"
             ],
             [
              0.3333333333333333,
              "#9c179e"
             ],
             [
              0.4444444444444444,
              "#bd3786"
             ],
             [
              0.5555555555555556,
              "#d8576b"
             ],
             [
              0.6666666666666666,
              "#ed7953"
             ],
             [
              0.7777777777777778,
              "#fb9f3a"
             ],
             [
              0.8888888888888888,
              "#fdca26"
             ],
             [
              1,
              "#f0f921"
             ]
            ],
            "type": "surface"
           }
          ],
          "table": [
           {
            "cells": {
             "fill": {
              "color": "#EBF0F8"
             },
             "line": {
              "color": "white"
             }
            },
            "header": {
             "fill": {
              "color": "#C8D4E3"
             },
             "line": {
              "color": "white"
             }
            },
            "type": "table"
           }
          ]
         },
         "layout": {
          "annotationdefaults": {
           "arrowcolor": "#2a3f5f",
           "arrowhead": 0,
           "arrowwidth": 1
          },
          "autotypenumbers": "strict",
          "coloraxis": {
           "colorbar": {
            "outlinewidth": 0,
            "ticks": ""
           }
          },
          "colorscale": {
           "diverging": [
            [
             0,
             "#8e0152"
            ],
            [
             0.1,
             "#c51b7d"
            ],
            [
             0.2,
             "#de77ae"
            ],
            [
             0.3,
             "#f1b6da"
            ],
            [
             0.4,
             "#fde0ef"
            ],
            [
             0.5,
             "#f7f7f7"
            ],
            [
             0.6,
             "#e6f5d0"
            ],
            [
             0.7,
             "#b8e186"
            ],
            [
             0.8,
             "#7fbc41"
            ],
            [
             0.9,
             "#4d9221"
            ],
            [
             1,
             "#276419"
            ]
           ],
           "sequential": [
            [
             0,
             "#0d0887"
            ],
            [
             0.1111111111111111,
             "#46039f"
            ],
            [
             0.2222222222222222,
             "#7201a8"
            ],
            [
             0.3333333333333333,
             "#9c179e"
            ],
            [
             0.4444444444444444,
             "#bd3786"
            ],
            [
             0.5555555555555556,
             "#d8576b"
            ],
            [
             0.6666666666666666,
             "#ed7953"
            ],
            [
             0.7777777777777778,
             "#fb9f3a"
            ],
            [
             0.8888888888888888,
             "#fdca26"
            ],
            [
             1,
             "#f0f921"
            ]
           ],
           "sequentialminus": [
            [
             0,
             "#0d0887"
            ],
            [
             0.1111111111111111,
             "#46039f"
            ],
            [
             0.2222222222222222,
             "#7201a8"
            ],
            [
             0.3333333333333333,
             "#9c179e"
            ],
            [
             0.4444444444444444,
             "#bd3786"
            ],
            [
             0.5555555555555556,
             "#d8576b"
            ],
            [
             0.6666666666666666,
             "#ed7953"
            ],
            [
             0.7777777777777778,
             "#fb9f3a"
            ],
            [
             0.8888888888888888,
             "#fdca26"
            ],
            [
             1,
             "#f0f921"
            ]
           ]
          },
          "colorway": [
           "#636efa",
           "#EF553B",
           "#00cc96",
           "#ab63fa",
           "#FFA15A",
           "#19d3f3",
           "#FF6692",
           "#B6E880",
           "#FF97FF",
           "#FECB52"
          ],
          "font": {
           "color": "#2a3f5f"
          },
          "geo": {
           "bgcolor": "white",
           "lakecolor": "white",
           "landcolor": "#E5ECF6",
           "showlakes": true,
           "showland": true,
           "subunitcolor": "white"
          },
          "hoverlabel": {
           "align": "left"
          },
          "hovermode": "closest",
          "mapbox": {
           "style": "light"
          },
          "paper_bgcolor": "white",
          "plot_bgcolor": "#E5ECF6",
          "polar": {
           "angularaxis": {
            "gridcolor": "white",
            "linecolor": "white",
            "ticks": ""
           },
           "bgcolor": "#E5ECF6",
           "radialaxis": {
            "gridcolor": "white",
            "linecolor": "white",
            "ticks": ""
           }
          },
          "scene": {
           "xaxis": {
            "backgroundcolor": "#E5ECF6",
            "gridcolor": "white",
            "gridwidth": 2,
            "linecolor": "white",
            "showbackground": true,
            "ticks": "",
            "zerolinecolor": "white"
           },
           "yaxis": {
            "backgroundcolor": "#E5ECF6",
            "gridcolor": "white",
            "gridwidth": 2,
            "linecolor": "white",
            "showbackground": true,
            "ticks": "",
            "zerolinecolor": "white"
           },
           "zaxis": {
            "backgroundcolor": "#E5ECF6",
            "gridcolor": "white",
            "gridwidth": 2,
            "linecolor": "white",
            "showbackground": true,
            "ticks": "",
            "zerolinecolor": "white"
           }
          },
          "shapedefaults": {
           "line": {
            "color": "#2a3f5f"
           }
          },
          "ternary": {
           "aaxis": {
            "gridcolor": "white",
            "linecolor": "white",
            "ticks": ""
           },
           "baxis": {
            "gridcolor": "white",
            "linecolor": "white",
            "ticks": ""
           },
           "bgcolor": "#E5ECF6",
           "caxis": {
            "gridcolor": "white",
            "linecolor": "white",
            "ticks": ""
           }
          },
          "title": {
           "x": 0.05
          },
          "xaxis": {
           "automargin": true,
           "gridcolor": "white",
           "linecolor": "white",
           "ticks": "",
           "title": {
            "standoff": 15
           },
           "zerolinecolor": "white",
           "zerolinewidth": 2
          },
          "yaxis": {
           "automargin": true,
           "gridcolor": "white",
           "linecolor": "white",
           "ticks": "",
           "title": {
            "standoff": 15
           },
           "zerolinecolor": "white",
           "zerolinewidth": 2
          }
         }
        },
        "width": 1750,
        "xaxis": {
         "anchor": "y",
         "domain": [
          0.5,
          1
         ]
        },
        "yaxis": {
         "anchor": "x",
         "domain": [
          0,
          0.49
         ]
        }
       }
      }
     },
     "metadata": {},
     "output_type": "display_data"
    }
   ],
   "source": [
    "c_i = 0\n",
    "fig = make_subplots(rows=2, cols=2, \n",
    "                                                    specs=[[{'type': 'choropleth'}, {'type': 'choropleth'}],\n",
    "                                                           [{'type': 'sankey','colspan': 2}, {}]],\n",
    "                                                    horizontal_spacing = 0, vertical_spacing=0.02)\n",
    "\n",
    "colorbar_abs = dict(len=1, x=1, tickvals = [0, 1, 2, 3], ticktext = ['1', '10', '100', '1000'])\n",
    "ts = ['Below 1.5 degrees', 'Well below 2 degrees', 'Below 3 degrees', 'Below 4 degrees']\n",
    "colorbar_pc = dict(len=1, x=1)\n",
    "\n",
    "for a_i, approach in enumerate([\"A2_gdp_net\", 'A2_trans']):\n",
    "    if a_i == 0:\n",
    "        cm= True\n",
    "    else:\n",
    "        cm= False\n",
    "    #t[t >= 4] = np.nan\n",
    "    fig.add_trace(\n",
    "        go.Choropleth(\n",
    "        locations=np.array(xr_dataread.Region),\n",
    "        z = ndc_deviations[c_i][a_i],\n",
    "        locationmode = 'ISO-3',\n",
    "        colorscale = 'RdYlGn',\n",
    "        zmax = 1,\n",
    "        zmin = -1,\n",
    "        text = [str(r)+\": \"+str(np.round(float(ndc_deviations[c_i][a_i][r_i])*100, 2))+\"%\" for r_i, r in enumerate(np.array(xr_dataread.Region))],\n",
    "        hovertemplate  = '%{text}',\n",
    "        name=\"\",\n",
    "        marker_line_color='white', \n",
    "        marker_line_width=0.3,\n",
    "        colorbar=dict(len=1, x=1, tickvals = [-1, -0.75, -0.5, -0.25, 0, 0.25, 0.5, 0.75, 1], ticktext = [\"-100%\", \"-75\", \"-50%\", \"-25%\", \"0%\", \"+25%\", \"+50%\", \"+75%\", \"+100%\"], title={\"text\":\"Allocation<br>compared<br>to NDC\"}),\n",
    "        showscale=cm\n",
    "    ), 1, a_i+1)\n",
    "    fig.add_trace(\n",
    "        go.Choropleth(\n",
    "        locations=group_eu,\n",
    "        z = np.array([ndc_deviations[c_i][a_i][np.where(all_regions_iso == \"EU\")[0][0]]]*len(group_eu)),\n",
    "        locationmode = 'ISO-3',\n",
    "        colorscale = 'RdYlGn',\n",
    "        zmax = 1,\n",
    "        zmin = -1,\n",
    "        text = [\"EU: \"+str(np.round(float(ndc_deviations[c_i][a_i][np.where(all_regions_iso == \"EU\")[0][0]])*100, 2))+\"%\" for r_i, r in enumerate(np.array(xr_dataread.Region))],\n",
    "        hovertemplate  = '%{text}',\n",
    "        name=\"\",\n",
    "        marker_line_color='white', \n",
    "        marker_line_width=0.3,\n",
    "        colorbar=dict(len=1, x=1, tickvals = [-1, -0.75, -0.5, -0.25, 0, 0.25, 0.5, 0.75, 1], ticktext = [\"-100%\", \"-75\", \"-50%\", \"-25%\", \"0%\", \"+25%\", \"+50%\", \"+75%\", \"+100%\"], title={\"text\":\"Allocation<br>compared<br>to NDC\"}),\n",
    "        showscale=cm\n",
    "    ), 1, a_i+1)\n",
    "fig.update_geos(showocean=True, oceancolor=\"aliceblue\")\n",
    "fig.update_geos(showlakes=True, lakecolor=\"aliceblue\")\n",
    "\n",
    "fig.add_trace(go.Sankey(\n",
    "    arrangement='snap',\n",
    "    node = dict(\n",
    "      pad = 10,\n",
    "      x = [0.05]*(amount)+[0.95]*(amount),\n",
    "      y = list(np.linspace(0.001, 0.999, (amount)))+list(np.linspace(0.001, 0.999, (amount))),\n",
    "    #   x = [0.001, 0.001, 0.001, 0.001, 0.999, 0.999, 0.999, 0.999],\n",
    "    #   y = [0.001, 75/285, 160/285, 190/285, 0.001, 75/285, 130/285, 215/285], \n",
    "      thickness = 5,\n",
    "      line = dict(color = \"black\", width = 0.5),\n",
    "      label = ([all_regions_names[all_regions_iso == r][0]+\": \"+str(np.round(float(np.array(ndc_deviations_onlyfew[0][0])[regs_onlyfew == r])*100, 1))+\"%\" for r in regs_onlyfew[np.argsort(ndc_deviations_onlyfew[0])[0][:amount]]]+#+['Below top-'+str(amount)] +\n",
    "              [all_regions_names[all_regions_iso == r][0]+\": \"+str(np.round(float(np.array(ndc_deviations_onlyfew[0][1])[regs_onlyfew == r])*100, 1))+\"%\" for r in regs_onlyfew[np.argsort(ndc_deviations_onlyfew[0])[1][:amount]]]),#+['Below top-'+str(amount)]),\n",
    "      color = 'black'\n",
    "    ),\n",
    "    link = dict(\n",
    "      source = sources_numeric, # indices correspond to labels, eg A1, A2, A1, B1, ...\n",
    "      target = targets_numeric,#np.random.choice(np.arange(amount+1), size=amount+1, replace=False)+amount+1,\n",
    "      value = [1]*len(targets_numeric),\n",
    "      color = ['rgba(180,'+str(0+i/1.5)+','+str(0)+', 0.3)' for i in np.linspace(0, 255, len(sources_numeric))]\n",
    "  )), 2, 1)\n",
    "\n",
    "# limite map scope to USA 'africa', 'asia', 'europe', 'north america', 'south america', 'usa', 'world'\n",
    "fig.update_geos(visible=False,\n",
    "                showlakes=True,\n",
    "                lakecolor='rgb(255, 255, 255)',\n",
    "                projection_type='natural earth',\n",
    "                showcoastlines=False,)\n",
    "\n",
    "fig.update_layout(\n",
    "    font_size=15,\n",
    ")\n",
    "#fig.update_traces(showscale=False)\n",
    "fig.add_annotation(xref='paper', yref='paper',ax=0, align='center', ay=-0, showarrow=False,\n",
    "                    y=0.7,\n",
    "                    x=1.025, \n",
    "                    textangle=90,\n",
    "                    text=\"NDC ambitious enough <<<\",\n",
    "                    font=dict(color='black', size=16),\n",
    "                )\n",
    "fig.add_annotation(xref='paper', yref='paper',ax=0, align='center', ay=-0, showarrow=False,\n",
    "                    y=0.2,\n",
    "                    x=1.025, \n",
    "                    textangle=90,\n",
    "                    text=\">>> NDC not ambitious enough\",\n",
    "                    font=dict(color='black', size=16),\n",
    "                )\n",
    "\n",
    "fig.add_annotation(xref='paper', yref='paper',ax=0, align='left', ay=-0, showarrow=False,\n",
    "                    y=1.0,\n",
    "                    x=0.07,\n",
    "                    text=\"<b>(a) Allocation-NDC comparison for approach 2</b>\",\n",
    "                    font=dict(color='black', size=16),\n",
    "                )\n",
    "fig.add_annotation(xref='paper', yref='paper',ax=0, align='left', ay=-0, showarrow=False,\n",
    "                    y=1.0,\n",
    "                    x=0.86,\n",
    "                    text=\"<b>(b) Allocation-NDC comparison for approach 2<br>(transitioning from current emissions in 20 years)</b>\",\n",
    "                    font=dict(color='black', size=16),\n",
    "                )\n",
    "fig.add_annotation(xref='paper', yref='paper',ax=0, align='left', ay=-0, showarrow=False,\n",
    "                    y=0.52,\n",
    "                    x=0.04,\n",
    "                    text=\"<b>(c) Ordering of G20 and United Arab Emirates</b>\",\n",
    "                    font=dict(color='black', size=16),\n",
    "                )\n",
    "\n",
    "fig.update_layout(height=1200, width=1750)"
   ]
  },
  {
   "cell_type": "code",
   "execution_count": 67,
   "metadata": {},
   "outputs": [],
   "source": [
    "fig.write_image(\"K:/Code/EffortSharing/Figures/Paper_Robiou2023/Figure_3.png\", scale=2)"
   ]
  }
 ],
 "metadata": {
  "kernelspec": {
   "display_name": "Python 3.9.11 ('MyEnv')",
   "language": "python",
   "name": "python3"
  },
  "language_info": {
   "codemirror_mode": {
    "name": "ipython",
    "version": 3
   },
   "file_extension": ".py",
   "mimetype": "text/x-python",
   "name": "python",
   "nbconvert_exporter": "python",
   "pygments_lexer": "ipython3",
   "version": "3.12.1"
  },
  "orig_nbformat": 4,
  "vscode": {
   "interpreter": {
    "hash": "36d5d389870ab01fa625d0d5123f82469a3683fa0e02c4f7e9e76e9a75345aa3"
   }
  }
 },
 "nbformat": 4,
 "nbformat_minor": 2
}
