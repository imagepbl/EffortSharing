{
 "cells": [
  {
   "attachments": {},
   "cell_type": "markdown",
   "metadata": {},
   "source": [
    "## Preambule"
   ]
  },
  {
   "cell_type": "code",
   "execution_count": 1,
   "metadata": {},
   "outputs": [],
   "source": [
    "# General packages\n",
    "import numpy as np\n",
    "import pandas as pd\n",
    "from tqdm import tqdm\n",
    "from pathlib import Path\n",
    "import xarray as xr\n",
    "import json\n",
    "\n",
    "# Plotting\n",
    "import matplotlib.pyplot as plt\n",
    "import plotly.express as px\n",
    "import plotly.graph_objects as go\n",
    "from plotly.subplots import make_subplots\n",
    "from plotly.colors import n_colors"
   ]
  },
  {
   "attachments": {},
   "cell_type": "markdown",
   "metadata": {},
   "source": [
    "## Paths"
   ]
  },
  {
   "cell_type": "code",
   "execution_count": 2,
   "metadata": {},
   "outputs": [],
   "source": [
    "path_data = Path(\"K:/Data/Data_effortsharing/DataUpdate_ongoing\")\n",
    "path_figs = Path(\"K:/Code/EffortSharing/\") / \"Figures\" / \"Paper_Robiou2023\""
   ]
  },
  {
   "attachments": {},
   "cell_type": "markdown",
   "metadata": {},
   "source": [
    "## Read data files"
   ]
  },
  {
   "cell_type": "code",
   "execution_count": 3,
   "metadata": {},
   "outputs": [],
   "source": [
    "xr_dataread = xr.open_dataset(path_data / \"xr_dataread.nc\")\n",
    "xr_combs = xr.open_dataset(path_data / \"xr_combinedapproaches.nc\")\n",
    "xr_temps = xr.open_dataset(path_data / \"xr_combinedapproaches_temps.nc\")\n",
    "all_regions_iso = np.load(path_data / \"all_regions.npy\")\n",
    "all_regions_names = np.array(list(np.load(path_data / \"all_regions_names.npy\")[:-1])+['Earth']) # Only in old xr_dataread version, should be updated when reran\n",
    "all_countries_iso = np.load(path_data / \"all_countries.npy\", allow_pickle=True)\n",
    "all_countries_names = np.load(path_data / \"all_countries_names.npy\", allow_pickle=True)\n",
    "only_regions_iso = ['CVF', 'G20', \"EU\", \"G7\", \"NA\", \"AU\", \"AF\", \"SIDS\", \"LDC\", \"WORLD\"]\n",
    "only_regions_names = ['Climate Vulnerability Forum','G20',\"European Union\",\"G7\",\"Northern America\",\"Australasia\",\"African Group\",\"Small Island Developing States\",\"Least Developed Countries\", 'World']"
   ]
  },
  {
   "cell_type": "code",
   "execution_count": 4,
   "metadata": {},
   "outputs": [],
   "source": [
    "#xr_budgets_scenario = xr.open_dataset(path_data / \"xr_budgets_scenario.nc\")\n",
    "#df_michel = pd.read_excel(Path(\"X:/user/dekkerm/Data/\") / \"NDC\" / \"NDC_comparison.xlsx\", sheet_name=\"Michel\")"
   ]
  },
  {
   "cell_type": "code",
   "execution_count": 5,
   "metadata": {},
   "outputs": [],
   "source": [
    "df_g = pd.read_excel(Path(\"X:/user/dekkerm/Data/\") / \"UNFCCC_Parties_Groups_noeu.xlsx\", sheet_name = \"Country groups\")\n",
    "countries_iso = np.array(df_g[\"Country ISO Code\"])\n",
    "countries_name = np.array(df_g[\"Name\"])\n",
    "countries_iso = np.array(df_g[\"Country ISO Code\"])\n",
    "group_cvf = countries_iso[np.array(df_g[\"CVF (24/10/22)\"]) == 1]\n",
    "group_g20 = countries_iso[np.array(df_g[\"G20\"]) == 1]\n",
    "group_eu = countries_iso[np.array(df_g[\"EU\"]) == 1]\n",
    "group_g7 = countries_iso[np.array(df_g[\"G7\"]) == 1]\n",
    "group_na = countries_iso[np.array(df_g[\"Northern America\"]) == 1]\n",
    "group_um = countries_iso[np.array(df_g[\"Umbrella\"]) == 1]\n",
    "group_au = countries_iso[np.array(df_g[\"Australasia\"]) == 1]\n",
    "group_af = countries_iso[np.array(df_g[\"African Group\"]) == 1]\n",
    "group_sids = countries_iso[np.array(df_g[\"SIDS\"]) == 1]\n",
    "group_ldc = countries_iso[np.array(df_g[\"LDC\"]) == 1]\n",
    "group_eg = countries_iso[np.array(df_g[\"European Group\"]) == 1]\n",
    "group_world = np.copy(countries_iso)"
   ]
  },
  {
   "attachments": {},
   "cell_type": "markdown",
   "metadata": {},
   "source": [
    "## Preprocess"
   ]
  },
  {
   "cell_type": "code",
   "execution_count": 6,
   "metadata": {},
   "outputs": [],
   "source": [
    "ndc_deviations = []\n",
    "for t_i, t in enumerate([1.6, 2.0]):\n",
    "    li = []\n",
    "    for a_i, approach in enumerate([\"Approach2\", 'Approach2t']):\n",
    "        li.append([float((xr_combs.sel(Temperature = t,\n",
    "                                       Region=r,\n",
    "                                       Discount_factor=1.6,\n",
    "                                       Historical_startyear=1990,\n",
    "                                       Scenario='SSP2',\n",
    "                                       Risk=0.5,\n",
    "                                       Time=2030)[approach] - xr_dataread.GHG_ndc.sel(Region=r).mean(dim=['Conditionality', 'Ambition'])\n",
    "                         ) / xr_dataread.GHG_ndc.sel(Region=r).mean(dim=['Conditionality', 'Ambition'])) for r in xr_dataread.Region])\n",
    "    ndc_deviations.append(li)"
   ]
  },
  {
   "cell_type": "code",
   "execution_count": 7,
   "metadata": {},
   "outputs": [],
   "source": [
    "#regs_onlyfew = np.array(['USA', 'CHN', 'TUR', 'AUS', 'IND', 'RUS', 'IDN', 'BRA', 'DEU', 'FRA', 'ESP', 'VEN', 'MEX', 'ZAF'])#np.array(xr_total.ISO.sel(ISO=all_countries_iso))[xr_total.Population.sel(Time=2020, ISO=all_countries_iso) > 5e6]\n",
    "\n",
    "regs_onlyfew = ['EU', 'ARG', 'AUS', 'BRA', 'CAN', 'CHN', 'IND', 'IDN', 'JPN', 'MEX', 'RUS', 'SAU', 'ZAF', 'KOR', 'TUR', 'GBR', 'USA', 'ARE']\n",
    "regs_onlyfew = np.array(regs_onlyfew)\n",
    "\n",
    "ndc_deviations_onlyfew = []\n",
    "for t_i, t in enumerate([1.6, 2.0]):\n",
    "    li = []\n",
    "    for a_i, approach in enumerate([\"Approach2\", 'Approach2t']):\n",
    "        li.append([float((xr_combs.sel(Temperature = t,\n",
    "                                       Region=r,\n",
    "                                       Discount_factor=1.6,\n",
    "                                       Historical_startyear=1990,\n",
    "                                       Scenario='SSP2',\n",
    "                                       Risk=0.5,\n",
    "                                       Time=2030)[approach] - xr_dataread.GHG_ndc.sel(Region=r).mean(dim=['Conditionality', 'Ambition'])\n",
    "                         ) / xr_dataread.GHG_ndc.sel(Region=r).mean(dim=['Conditionality', 'Ambition'])) for r in regs_onlyfew])\n",
    "    ndc_deviations_onlyfew.append(li)"
   ]
  },
  {
   "cell_type": "code",
   "execution_count": 8,
   "metadata": {},
   "outputs": [],
   "source": [
    "amount = len(regs_onlyfew)\n",
    "sources = regs_onlyfew[np.argsort(ndc_deviations_onlyfew[0])[0][:amount]]\n",
    "targets = regs_onlyfew[np.argsort(ndc_deviations_onlyfew[0])[1][:amount]]\n",
    "\n",
    "targets_numeric = []\n",
    "sources_numeric = []\n",
    "for t_i in range(amount):\n",
    "    s = sources[t_i]\n",
    "    try:\n",
    "        wh = np.where(targets == s)[0][0]\n",
    "    except:\n",
    "        wh = amount\n",
    "    sources_numeric.append(t_i)\n",
    "    targets_numeric.append(wh+amount)\n",
    "\n",
    "for t_i in range(amount):\n",
    "    t = targets[t_i]\n",
    "    try:\n",
    "        wh = np.where(sources == t)[0][0]\n",
    "    except:\n",
    "        sources_numeric.append(amount)\n",
    "        targets_numeric.append(t_i)"
   ]
  },
  {
   "attachments": {},
   "cell_type": "markdown",
   "metadata": {},
   "source": [
    "## Plot"
   ]
  },
  {
   "cell_type": "code",
   "execution_count": 9,
   "metadata": {},
   "outputs": [
    {
     "name": "stderr",
     "output_type": "stream",
     "text": [
      "C:\\Users\\dekkerm\\AppData\\Local\\Temp\\2\\ipykernel_9848\\3764947325.py:62: DeprecationWarning:\n",
      "\n",
      "Conversion of an array with ndim > 0 to a scalar is deprecated, and will error in future. Ensure you extract a single element from your array before performing this operation. (Deprecated NumPy 1.25.)\n",
      "\n",
      "C:\\Users\\dekkerm\\AppData\\Local\\Temp\\2\\ipykernel_9848\\3764947325.py:63: DeprecationWarning:\n",
      "\n",
      "Conversion of an array with ndim > 0 to a scalar is deprecated, and will error in future. Ensure you extract a single element from your array before performing this operation. (Deprecated NumPy 1.25.)\n",
      "\n"
     ]
    },
    {
     "data": {
      "application/vnd.plotly.v1+json": {
       "config": {
        "plotlyServerURL": "https://plot.ly"
       },
       "data": [
        {
         "colorbar": {
          "len": 1,
          "ticktext": [
           "-100%",
           "-75",
           "-50%",
           "-25%",
           "0%",
           "+25%",
           "+50%",
           "+75%",
           "+100%"
          ],
          "tickvals": [
           -1,
           -0.75,
           -0.5,
           -0.25,
           0,
           0.25,
           0.5,
           0.75,
           1
          ],
          "title": {
           "text": "Allocation<br>compared<br>to NDC"
          },
          "x": 1
         },
         "colorscale": [
          [
           0,
           "rgb(165,0,38)"
          ],
          [
           0.1,
           "rgb(215,48,39)"
          ],
          [
           0.2,
           "rgb(244,109,67)"
          ],
          [
           0.3,
           "rgb(253,174,97)"
          ],
          [
           0.4,
           "rgb(254,224,139)"
          ],
          [
           0.5,
           "rgb(255,255,191)"
          ],
          [
           0.6,
           "rgb(217,239,139)"
          ],
          [
           0.7,
           "rgb(166,217,106)"
          ],
          [
           0.8,
           "rgb(102,189,99)"
          ],
          [
           0.9,
           "rgb(26,152,80)"
          ],
          [
           1,
           "rgb(0,104,55)"
          ]
         ],
         "geo": "geo",
         "hovertemplate": "%{text}",
         "locationmode": "ISO-3",
         "locations": [
          "AFG",
          "ALB",
          "DZA",
          "AND",
          "AGO",
          "ATG",
          "ARG",
          "ARM",
          "AUS",
          "AUT",
          "AZE",
          "BHR",
          "BGD",
          "BRB",
          "BLR",
          "BEL",
          "BLZ",
          "BEN",
          "BTN",
          "BOL",
          "BIH",
          "BWA",
          "BRA",
          "BRN",
          "BGR",
          "BFA",
          "BDI",
          "KHM",
          "CMR",
          "CAN",
          "CPV",
          "CAF",
          "TCD",
          "CHL",
          "CHN",
          "COL",
          "COM",
          "COG",
          "COK",
          "CRI",
          "CIV",
          "HRV",
          "CUB",
          "CYP",
          "CZE",
          "COD",
          "DNK",
          "DJI",
          "DMA",
          "DOM",
          "ECU",
          "EGY",
          "SLV",
          "GNQ",
          "ERI",
          "EST",
          "SWZ",
          "ETH",
          "FJI",
          "FIN",
          "FRA",
          "GAB",
          "GEO",
          "DEU",
          "GHA",
          "GRC",
          "GRD",
          "GTM",
          "GIN",
          "GNB",
          "GUY",
          "HTI",
          "VAT",
          "HND",
          "HUN",
          "ISL",
          "IND",
          "IDN",
          "IRN",
          "IRQ",
          "IRL",
          "ISR",
          "ITA",
          "JAM",
          "JPN",
          "JOR",
          "KAZ",
          "KEN",
          "KIR",
          "KWT",
          "KGZ",
          "LAO",
          "LVA",
          "LBN",
          "LSO",
          "LBR",
          "LBY",
          "LIE",
          "LTU",
          "LUX",
          "MKD",
          "MDG",
          "MWI",
          "MYS",
          "MDV",
          "MLI",
          "MLT",
          "MHL",
          "MRT",
          "MUS",
          "MEX",
          "FSM",
          "MDA",
          "MCO",
          "MNG",
          "MNE",
          "MAR",
          "MOZ",
          "MMR",
          "NAM",
          "NRU",
          "NPL",
          "NLD",
          "NZL",
          "NIC",
          "NER",
          "NGA",
          "NIU",
          "PRK",
          "NOR",
          "OMN",
          "PAK",
          "PLW",
          "PSE",
          "PAN",
          "PNG",
          "PRY",
          "PER",
          "PHL",
          "POL",
          "PRT",
          "QAT",
          "ROU",
          "RUS",
          "RWA",
          "KNA",
          "LCA",
          "VCT",
          "WSM",
          "SMR",
          "STP",
          "SAU",
          "SEN",
          "SRB",
          "SYC",
          "SLE",
          "SGP",
          "SVK",
          "SVN",
          "SLB",
          "SOM",
          "ZAF",
          "KOR",
          "SSD",
          "ESP",
          "LKA",
          "SDN",
          "SUR",
          "SWE",
          "CHE",
          "SYR",
          "TJK",
          "TZA",
          "THA",
          "BHS",
          "GMB",
          "TLS",
          "TGO",
          "TON",
          "TTO",
          "TUN",
          "TUR",
          "TKM",
          "TUV",
          "UGA",
          "UKR",
          "ARE",
          "GBR",
          "USA",
          "URY",
          "UZB",
          "VUT",
          "VEN",
          "VNM",
          "YEM",
          "ZMB",
          "ZWE",
          "EU",
          "EARTH",
          "G20",
          "G7",
          "SIDS",
          "LDC",
          "Northern America",
          "Australasia",
          "African Group",
          "Umbrella"
         ],
         "marker": {
          "line": {
           "color": "white",
           "width": 0.3
          }
         },
         "name": "",
         "showscale": true,
         "text": [
          "AFG: nan%",
          "ALB: -68.48%",
          "DZA: -42.63%",
          "AND: nan%",
          "AGO: 146.49%",
          "ATG: nan%",
          "ARG: -81.95%",
          "ARM: nan%",
          "AUS: -99.33%",
          "AUT: nan%",
          "AZE: -61.09%",
          "BHR: nan%",
          "BGD: 36.0%",
          "BRB: -69.33%",
          "BLR: -84.36%",
          "BEL: nan%",
          "BLZ: nan%",
          "BEN: 280.91%",
          "BTN: nan%",
          "BOL: nan%",
          "BIH: -83.21%",
          "BWA: -92.81%",
          "BRA: -68.52%",
          "BRN: nan%",
          "BGR: nan%",
          "BFA: 264.61%",
          "BDI: 680.12%",
          "KHM: -9.63%",
          "CMR: 180.87%",
          "CAN: -98.18%",
          "CPV: nan%",
          "CAF: 534.39%",
          "TCD: 480.7%",
          "CHL: -43.49%",
          "CHN: -89.0%",
          "COL: -44.62%",
          "COM: 8966.95%",
          "COG: 117.82%",
          "COK: nan%",
          "CRI: -30.77%",
          "CIV: 153.04%",
          "HRV: nan%",
          "CUB: nan%",
          "CYP: nan%",
          "CZE: nan%",
          "COD: 616.79%",
          "DNK: nan%",
          "DJI: 134.7%",
          "DMA: nan%",
          "DOM: -55.48%",
          "ECU: nan%",
          "EGY: -56.4%",
          "SLV: nan%",
          "GNQ: -71.04%",
          "ERI: nan%",
          "EST: nan%",
          "SWZ: nan%",
          "ETH: 445.5%",
          "FJI: nan%",
          "FIN: nan%",
          "FRA: nan%",
          "GAB: nan%",
          "GEO: -88.52%",
          "DEU: nan%",
          "GHA: 245.9%",
          "GRC: nan%",
          "GRD: nan%",
          "GTM: 26.82%",
          "GIN: 325.43%",
          "GNB: nan%",
          "GUY: nan%",
          "HTI: 1094.69%",
          "VAT: nan%",
          "HND: 69.99%",
          "HUN: nan%",
          "ISL: -98.37%",
          "IND: 0.41%",
          "IDN: -71.99%",
          "IRN: -91.94%",
          "IRQ: nan%",
          "IRL: nan%",
          "ISR: -92.34%",
          "ITA: nan%",
          "JAM: -43.72%",
          "JPN: -93.86%",
          "JOR: 0.8%",
          "KAZ: -95.42%",
          "KEN: 205.49%",
          "KIR: nan%",
          "KWT: -99.42%",
          "KGZ: 357.73%",
          "LAO: nan%",
          "LVA: nan%",
          "LBN: -49.37%",
          "LSO: 1083.22%",
          "LBR: 453.07%",
          "LBY: nan%",
          "LIE: nan%",
          "LTU: nan%",
          "LUX: nan%",
          "MKD: -67.13%",
          "MDG: nan%",
          "MWI: nan%",
          "MYS: -95.31%",
          "MDV: -76.63%",
          "MLI: nan%",
          "MLT: nan%",
          "MHL: nan%",
          "MRT: 50.75%",
          "MUS: -74.32%",
          "MEX: -72.04%",
          "FSM: nan%",
          "MDA: -34.11%",
          "MCO: nan%",
          "MNG: -88.87%",
          "MNE: nan%",
          "MAR: 25.19%",
          "MOZ: nan%",
          "MMR: nan%",
          "NAM: -108.0%",
          "NRU: nan%",
          "NPL: nan%",
          "NLD: nan%",
          "NZL: -96.43%",
          "NIC: nan%",
          "NER: 1357.48%",
          "NGA: 386.46%",
          "NIU: nan%",
          "PRK: nan%",
          "NOR: -84.55%",
          "OMN: -96.77%",
          "PAK: 64.29%",
          "PLW: nan%",
          "PSE: nan%",
          "PAN: nan%",
          "PNG: nan%",
          "PRY: -85.07%",
          "PER: -63.78%",
          "PHL: 214.46%",
          "POL: nan%",
          "PRT: nan%",
          "QAT: nan%",
          "ROU: nan%",
          "RUS: -95.19%",
          "RWA: nan%",
          "KNA: nan%",
          "LCA: -49.24%",
          "VCT: nan%",
          "WSM: nan%",
          "SMR: nan%",
          "STP: 414.05%",
          "SAU: -98.7%",
          "SEN: 266.79%",
          "SRB: nan%",
          "SYC: nan%",
          "SLE: nan%",
          "SGP: -99.13%",
          "SVK: nan%",
          "SVN: nan%",
          "SLB: 214.82%",
          "SOM: nan%",
          "ZAF: -67.31%",
          "KOR: -95.86%",
          "SSD: nan%",
          "ESP: nan%",
          "LKA: nan%",
          "SDN: nan%",
          "SUR: nan%",
          "SWE: nan%",
          "CHE: -89.14%",
          "SYR: nan%",
          "TJK: 173.22%",
          "TZA: 302.03%",
          "THA: -75.27%",
          "BHS: -92.51%",
          "GMB: nan%",
          "TLS: nan%",
          "TGO: 257.78%",
          "TON: nan%",
          "TTO: -99.13%",
          "TUN: 1.31%",
          "TUR: -91.67%",
          "TKM: nan%",
          "TUV: nan%",
          "UGA: 624.17%",
          "UKR: -77.56%",
          "ARE: -100.29%",
          "GBR: -88.66%",
          "USA: -99.5%",
          "URY: nan%",
          "UZB: -73.71%",
          "VUT: nan%",
          "VEN: nan%",
          "VNM: -74.05%",
          "YEM: 1333.13%",
          "ZMB: 138.98%",
          "ZWE: nan%",
          "EU: -90.99%",
          "EARTH: -76.53%",
          "G20: nan%",
          "G7: nan%",
          "SIDS: nan%",
          "LDC: nan%",
          "Northern America: nan%",
          "Australasia: nan%",
          "African Group: nan%",
          "Umbrella: nan%"
         ],
         "type": "choropleth",
         "z": [
          null,
          -0.6848167952149059,
          -0.4263353166821606,
          null,
          1.4649342833917096,
          null,
          -0.8194678190194896,
          null,
          -0.993304150987417,
          null,
          -0.6109316787989356,
          null,
          0.35999232484213395,
          -0.6933292344383717,
          -0.8436062885881448,
          null,
          null,
          2.809053632289278,
          null,
          null,
          -0.8321467058514983,
          -0.9280540068992567,
          -0.6851562079219894,
          null,
          null,
          2.646126252224043,
          6.801232171607979,
          -0.0962716158430132,
          1.8087277978041105,
          -0.9817985836849051,
          null,
          5.343907175788455,
          4.806971026978378,
          -0.43493297722620683,
          -0.8900037259963784,
          -0.44615353892061244,
          89.66951243226957,
          1.178236513575992,
          null,
          -0.30766534156783804,
          1.5303706589791264,
          null,
          null,
          null,
          null,
          6.167913665697488,
          null,
          1.347025444522038,
          null,
          -0.5547727149965811,
          null,
          -0.5640339394202005,
          null,
          -0.7103851258809402,
          null,
          null,
          null,
          4.4550458982754275,
          null,
          null,
          null,
          null,
          -0.8852475607546709,
          null,
          2.459042603214323,
          null,
          null,
          0.2681921776057736,
          3.2543111415972468,
          null,
          null,
          10.946859740818857,
          null,
          0.6998635833541386,
          null,
          -0.983657201058817,
          0.004050736774518388,
          -0.7198832123981833,
          -0.919391331357368,
          null,
          null,
          -0.9233786755238059,
          null,
          -0.43716624939607346,
          -0.9385716994987453,
          0.007979653906563928,
          -0.9542344845665632,
          2.0548942076026933,
          null,
          -0.9942439681339459,
          3.5772956873950528,
          null,
          null,
          -0.4937489027869323,
          10.832198203784076,
          4.530729475859539,
          null,
          null,
          null,
          null,
          -0.6713011576208964,
          null,
          null,
          -0.9531477405434544,
          -0.7662606616139124,
          null,
          null,
          null,
          0.507517518497102,
          -0.743242468558146,
          -0.7203659818043782,
          null,
          -0.34107540700973393,
          null,
          -0.8887181942551691,
          null,
          0.2519300515404625,
          null,
          null,
          -1.0800124593880975,
          null,
          null,
          null,
          -0.9642558619432626,
          null,
          13.574823273279398,
          3.864585054441754,
          null,
          null,
          -0.8454644697779353,
          -0.9676773907817574,
          0.6428831529711223,
          null,
          null,
          null,
          null,
          -0.8507220736508808,
          -0.6377980077506548,
          2.1445832961005764,
          null,
          null,
          null,
          null,
          -0.9518785011368711,
          null,
          null,
          -0.49244466916574675,
          null,
          null,
          null,
          4.140547844785981,
          -0.9869533364631008,
          2.66794576446047,
          null,
          null,
          null,
          -0.9912679088829055,
          null,
          null,
          2.1482048028750818,
          null,
          -0.6731422861197812,
          -0.9585959173516794,
          null,
          null,
          null,
          null,
          null,
          null,
          -0.8914370404936591,
          null,
          1.7322451613661816,
          3.0202986661369424,
          -0.7527232900851026,
          -0.925107219775926,
          null,
          null,
          2.577787808457466,
          null,
          -0.9912855653772049,
          0.013084230571015688,
          -0.9167454186126155,
          null,
          null,
          6.241703041880049,
          -0.7756113802932761,
          -1.0029099812188986,
          -0.8865868924861074,
          -0.9949768466577422,
          null,
          -0.7370786909415346,
          null,
          null,
          -0.7405130236009462,
          13.331310345191051,
          1.3897871216347388,
          null,
          -0.9098589660797021,
          -0.7653400002739169,
          null,
          null,
          null,
          null,
          null,
          null,
          null,
          null
         ],
         "zmax": 1,
         "zmin": -1
        },
        {
         "colorbar": {
          "len": 1,
          "ticktext": [
           "-100%",
           "-75",
           "-50%",
           "-25%",
           "0%",
           "+25%",
           "+50%",
           "+75%",
           "+100%"
          ],
          "tickvals": [
           -1,
           -0.75,
           -0.5,
           -0.25,
           0,
           0.25,
           0.5,
           0.75,
           1
          ],
          "title": {
           "text": "Allocation<br>compared<br>to NDC"
          },
          "x": 1
         },
         "colorscale": [
          [
           0,
           "rgb(165,0,38)"
          ],
          [
           0.1,
           "rgb(215,48,39)"
          ],
          [
           0.2,
           "rgb(244,109,67)"
          ],
          [
           0.3,
           "rgb(253,174,97)"
          ],
          [
           0.4,
           "rgb(254,224,139)"
          ],
          [
           0.5,
           "rgb(255,255,191)"
          ],
          [
           0.6,
           "rgb(217,239,139)"
          ],
          [
           0.7,
           "rgb(166,217,106)"
          ],
          [
           0.8,
           "rgb(102,189,99)"
          ],
          [
           0.9,
           "rgb(26,152,80)"
          ],
          [
           1,
           "rgb(0,104,55)"
          ]
         ],
         "geo": "geo",
         "hovertemplate": "%{text}",
         "locationmode": "ISO-3",
         "locations": [
          "AUT",
          "BEL",
          "BGR",
          "HRV",
          "CYP",
          "CZE",
          "DNK",
          "EST",
          "FIN",
          "FRA",
          "DEU",
          "GRC",
          "HUN",
          "IRL",
          "ITA",
          "LVA",
          "LTU",
          "LUX",
          "MLT",
          "NLD",
          "POL",
          "PRT",
          "ROU",
          "SVK",
          "SVN",
          "ESP",
          "SWE"
         ],
         "marker": {
          "line": {
           "color": "white",
           "width": 0.3
          }
         },
         "name": "",
         "showscale": true,
         "text": [
          "EU: -90.99%",
          "EU: -90.99%",
          "EU: -90.99%",
          "EU: -90.99%",
          "EU: -90.99%",
          "EU: -90.99%",
          "EU: -90.99%",
          "EU: -90.99%",
          "EU: -90.99%",
          "EU: -90.99%",
          "EU: -90.99%",
          "EU: -90.99%",
          "EU: -90.99%",
          "EU: -90.99%",
          "EU: -90.99%",
          "EU: -90.99%",
          "EU: -90.99%",
          "EU: -90.99%",
          "EU: -90.99%",
          "EU: -90.99%",
          "EU: -90.99%",
          "EU: -90.99%",
          "EU: -90.99%",
          "EU: -90.99%",
          "EU: -90.99%",
          "EU: -90.99%",
          "EU: -90.99%",
          "EU: -90.99%",
          "EU: -90.99%",
          "EU: -90.99%",
          "EU: -90.99%",
          "EU: -90.99%",
          "EU: -90.99%",
          "EU: -90.99%",
          "EU: -90.99%",
          "EU: -90.99%",
          "EU: -90.99%",
          "EU: -90.99%",
          "EU: -90.99%",
          "EU: -90.99%",
          "EU: -90.99%",
          "EU: -90.99%",
          "EU: -90.99%",
          "EU: -90.99%",
          "EU: -90.99%",
          "EU: -90.99%",
          "EU: -90.99%",
          "EU: -90.99%",
          "EU: -90.99%",
          "EU: -90.99%",
          "EU: -90.99%",
          "EU: -90.99%",
          "EU: -90.99%",
          "EU: -90.99%",
          "EU: -90.99%",
          "EU: -90.99%",
          "EU: -90.99%",
          "EU: -90.99%",
          "EU: -90.99%",
          "EU: -90.99%",
          "EU: -90.99%",
          "EU: -90.99%",
          "EU: -90.99%",
          "EU: -90.99%",
          "EU: -90.99%",
          "EU: -90.99%",
          "EU: -90.99%",
          "EU: -90.99%",
          "EU: -90.99%",
          "EU: -90.99%",
          "EU: -90.99%",
          "EU: -90.99%",
          "EU: -90.99%",
          "EU: -90.99%",
          "EU: -90.99%",
          "EU: -90.99%",
          "EU: -90.99%",
          "EU: -90.99%",
          "EU: -90.99%",
          "EU: -90.99%",
          "EU: -90.99%",
          "EU: -90.99%",
          "EU: -90.99%",
          "EU: -90.99%",
          "EU: -90.99%",
          "EU: -90.99%",
          "EU: -90.99%",
          "EU: -90.99%",
          "EU: -90.99%",
          "EU: -90.99%",
          "EU: -90.99%",
          "EU: -90.99%",
          "EU: -90.99%",
          "EU: -90.99%",
          "EU: -90.99%",
          "EU: -90.99%",
          "EU: -90.99%",
          "EU: -90.99%",
          "EU: -90.99%",
          "EU: -90.99%",
          "EU: -90.99%",
          "EU: -90.99%",
          "EU: -90.99%",
          "EU: -90.99%",
          "EU: -90.99%",
          "EU: -90.99%",
          "EU: -90.99%",
          "EU: -90.99%",
          "EU: -90.99%",
          "EU: -90.99%",
          "EU: -90.99%",
          "EU: -90.99%",
          "EU: -90.99%",
          "EU: -90.99%",
          "EU: -90.99%",
          "EU: -90.99%",
          "EU: -90.99%",
          "EU: -90.99%",
          "EU: -90.99%",
          "EU: -90.99%",
          "EU: -90.99%",
          "EU: -90.99%",
          "EU: -90.99%",
          "EU: -90.99%",
          "EU: -90.99%",
          "EU: -90.99%",
          "EU: -90.99%",
          "EU: -90.99%",
          "EU: -90.99%",
          "EU: -90.99%",
          "EU: -90.99%",
          "EU: -90.99%",
          "EU: -90.99%",
          "EU: -90.99%",
          "EU: -90.99%",
          "EU: -90.99%",
          "EU: -90.99%",
          "EU: -90.99%",
          "EU: -90.99%",
          "EU: -90.99%",
          "EU: -90.99%",
          "EU: -90.99%",
          "EU: -90.99%",
          "EU: -90.99%",
          "EU: -90.99%",
          "EU: -90.99%",
          "EU: -90.99%",
          "EU: -90.99%",
          "EU: -90.99%",
          "EU: -90.99%",
          "EU: -90.99%",
          "EU: -90.99%",
          "EU: -90.99%",
          "EU: -90.99%",
          "EU: -90.99%",
          "EU: -90.99%",
          "EU: -90.99%",
          "EU: -90.99%",
          "EU: -90.99%",
          "EU: -90.99%",
          "EU: -90.99%",
          "EU: -90.99%",
          "EU: -90.99%",
          "EU: -90.99%",
          "EU: -90.99%",
          "EU: -90.99%",
          "EU: -90.99%",
          "EU: -90.99%",
          "EU: -90.99%",
          "EU: -90.99%",
          "EU: -90.99%",
          "EU: -90.99%",
          "EU: -90.99%",
          "EU: -90.99%",
          "EU: -90.99%",
          "EU: -90.99%",
          "EU: -90.99%",
          "EU: -90.99%",
          "EU: -90.99%",
          "EU: -90.99%",
          "EU: -90.99%",
          "EU: -90.99%",
          "EU: -90.99%",
          "EU: -90.99%",
          "EU: -90.99%",
          "EU: -90.99%",
          "EU: -90.99%",
          "EU: -90.99%",
          "EU: -90.99%",
          "EU: -90.99%",
          "EU: -90.99%",
          "EU: -90.99%",
          "EU: -90.99%",
          "EU: -90.99%",
          "EU: -90.99%",
          "EU: -90.99%",
          "EU: -90.99%",
          "EU: -90.99%",
          "EU: -90.99%",
          "EU: -90.99%",
          "EU: -90.99%",
          "EU: -90.99%",
          "EU: -90.99%",
          "EU: -90.99%",
          "EU: -90.99%",
          "EU: -90.99%",
          "EU: -90.99%"
         ],
         "type": "choropleth",
         "z": [
          -0.9098589660797021,
          -0.9098589660797021,
          -0.9098589660797021,
          -0.9098589660797021,
          -0.9098589660797021,
          -0.9098589660797021,
          -0.9098589660797021,
          -0.9098589660797021,
          -0.9098589660797021,
          -0.9098589660797021,
          -0.9098589660797021,
          -0.9098589660797021,
          -0.9098589660797021,
          -0.9098589660797021,
          -0.9098589660797021,
          -0.9098589660797021,
          -0.9098589660797021,
          -0.9098589660797021,
          -0.9098589660797021,
          -0.9098589660797021,
          -0.9098589660797021,
          -0.9098589660797021,
          -0.9098589660797021,
          -0.9098589660797021,
          -0.9098589660797021,
          -0.9098589660797021,
          -0.9098589660797021
         ],
         "zmax": 1,
         "zmin": -1
        },
        {
         "colorbar": {
          "len": 1,
          "ticktext": [
           "-100%",
           "-75",
           "-50%",
           "-25%",
           "0%",
           "+25%",
           "+50%",
           "+75%",
           "+100%"
          ],
          "tickvals": [
           -1,
           -0.75,
           -0.5,
           -0.25,
           0,
           0.25,
           0.5,
           0.75,
           1
          ],
          "title": {
           "text": "Allocation<br>compared<br>to NDC"
          },
          "x": 1
         },
         "colorscale": [
          [
           0,
           "rgb(165,0,38)"
          ],
          [
           0.1,
           "rgb(215,48,39)"
          ],
          [
           0.2,
           "rgb(244,109,67)"
          ],
          [
           0.3,
           "rgb(253,174,97)"
          ],
          [
           0.4,
           "rgb(254,224,139)"
          ],
          [
           0.5,
           "rgb(255,255,191)"
          ],
          [
           0.6,
           "rgb(217,239,139)"
          ],
          [
           0.7,
           "rgb(166,217,106)"
          ],
          [
           0.8,
           "rgb(102,189,99)"
          ],
          [
           0.9,
           "rgb(26,152,80)"
          ],
          [
           1,
           "rgb(0,104,55)"
          ]
         ],
         "geo": "geo2",
         "hovertemplate": "%{text}",
         "locationmode": "ISO-3",
         "locations": [
          "AFG",
          "ALB",
          "DZA",
          "AND",
          "AGO",
          "ATG",
          "ARG",
          "ARM",
          "AUS",
          "AUT",
          "AZE",
          "BHR",
          "BGD",
          "BRB",
          "BLR",
          "BEL",
          "BLZ",
          "BEN",
          "BTN",
          "BOL",
          "BIH",
          "BWA",
          "BRA",
          "BRN",
          "BGR",
          "BFA",
          "BDI",
          "KHM",
          "CMR",
          "CAN",
          "CPV",
          "CAF",
          "TCD",
          "CHL",
          "CHN",
          "COL",
          "COM",
          "COG",
          "COK",
          "CRI",
          "CIV",
          "HRV",
          "CUB",
          "CYP",
          "CZE",
          "COD",
          "DNK",
          "DJI",
          "DMA",
          "DOM",
          "ECU",
          "EGY",
          "SLV",
          "GNQ",
          "ERI",
          "EST",
          "SWZ",
          "ETH",
          "FJI",
          "FIN",
          "FRA",
          "GAB",
          "GEO",
          "DEU",
          "GHA",
          "GRC",
          "GRD",
          "GTM",
          "GIN",
          "GNB",
          "GUY",
          "HTI",
          "VAT",
          "HND",
          "HUN",
          "ISL",
          "IND",
          "IDN",
          "IRN",
          "IRQ",
          "IRL",
          "ISR",
          "ITA",
          "JAM",
          "JPN",
          "JOR",
          "KAZ",
          "KEN",
          "KIR",
          "KWT",
          "KGZ",
          "LAO",
          "LVA",
          "LBN",
          "LSO",
          "LBR",
          "LBY",
          "LIE",
          "LTU",
          "LUX",
          "MKD",
          "MDG",
          "MWI",
          "MYS",
          "MDV",
          "MLI",
          "MLT",
          "MHL",
          "MRT",
          "MUS",
          "MEX",
          "FSM",
          "MDA",
          "MCO",
          "MNG",
          "MNE",
          "MAR",
          "MOZ",
          "MMR",
          "NAM",
          "NRU",
          "NPL",
          "NLD",
          "NZL",
          "NIC",
          "NER",
          "NGA",
          "NIU",
          "PRK",
          "NOR",
          "OMN",
          "PAK",
          "PLW",
          "PSE",
          "PAN",
          "PNG",
          "PRY",
          "PER",
          "PHL",
          "POL",
          "PRT",
          "QAT",
          "ROU",
          "RUS",
          "RWA",
          "KNA",
          "LCA",
          "VCT",
          "WSM",
          "SMR",
          "STP",
          "SAU",
          "SEN",
          "SRB",
          "SYC",
          "SLE",
          "SGP",
          "SVK",
          "SVN",
          "SLB",
          "SOM",
          "ZAF",
          "KOR",
          "SSD",
          "ESP",
          "LKA",
          "SDN",
          "SUR",
          "SWE",
          "CHE",
          "SYR",
          "TJK",
          "TZA",
          "THA",
          "BHS",
          "GMB",
          "TLS",
          "TGO",
          "TON",
          "TTO",
          "TUN",
          "TUR",
          "TKM",
          "TUV",
          "UGA",
          "UKR",
          "ARE",
          "GBR",
          "USA",
          "URY",
          "UZB",
          "VUT",
          "VEN",
          "VNM",
          "YEM",
          "ZMB",
          "ZWE",
          "EU",
          "EARTH",
          "G20",
          "G7",
          "SIDS",
          "LDC",
          "Northern America",
          "Australasia",
          "African Group",
          "Umbrella"
         ],
         "marker": {
          "line": {
           "color": "white",
           "width": 0.3
          }
         },
         "name": "",
         "showscale": false,
         "text": [
          "AFG: nan%",
          "ALB: -64.3%",
          "DZA: -34.69%",
          "AND: nan%",
          "AGO: 45.49%",
          "ATG: nan%",
          "ARG: -60.49%",
          "ARM: nan%",
          "AUS: -51.25%",
          "AUT: nan%",
          "AZE: -39.68%",
          "BHR: nan%",
          "BGD: -17.38%",
          "BRB: -54.29%",
          "BLR: -49.69%",
          "BEL: nan%",
          "BLZ: nan%",
          "BEN: 100.39%",
          "BTN: nan%",
          "BOL: nan%",
          "BIH: -57.22%",
          "BWA: -85.72%",
          "BRA: -53.96%",
          "BRN: nan%",
          "BGR: nan%",
          "BFA: 86.89%",
          "BDI: 272.81%",
          "KHM: -40.85%",
          "CMR: 48.34%",
          "CAN: -55.19%",
          "CPV: nan%",
          "CAF: 215.6%",
          "TCD: 211.25%",
          "CHL: 21.35%",
          "CHN: -65.98%",
          "COL: -37.19%",
          "COM: 4574.64%",
          "COG: 35.74%",
          "COK: nan%",
          "CRI: -20.38%",
          "CIV: 37.51%",
          "HRV: nan%",
          "CUB: nan%",
          "CYP: nan%",
          "CZE: nan%",
          "COD: 245.23%",
          "DNK: nan%",
          "DJI: 36.4%",
          "DMA: nan%",
          "DOM: -39.62%",
          "ECU: nan%",
          "EGY: -59.36%",
          "SLV: nan%",
          "GNQ: -68.05%",
          "ERI: nan%",
          "EST: nan%",
          "SWZ: nan%",
          "ETH: 181.96%",
          "FJI: nan%",
          "FIN: nan%",
          "FRA: nan%",
          "GAB: nan%",
          "GEO: -79.47%",
          "DEU: nan%",
          "GHA: 91.56%",
          "GRC: nan%",
          "GRD: nan%",
          "GTM: -11.07%",
          "GIN: 130.74%",
          "GNB: nan%",
          "GUY: nan%",
          "HTI: 504.27%",
          "VAT: nan%",
          "HND: 3.16%",
          "HUN: nan%",
          "ISL: -77.36%",
          "IND: -25.88%",
          "IDN: -68.94%",
          "IRN: -81.76%",
          "IRQ: nan%",
          "IRL: nan%",
          "ISR: -60.28%",
          "ITA: nan%",
          "JAM: -55.47%",
          "JPN: -56.76%",
          "JOR: -28.23%",
          "KAZ: -65.39%",
          "KEN: 76.63%",
          "KIR: nan%",
          "KWT: -68.31%",
          "KGZ: 191.97%",
          "LAO: nan%",
          "LVA: nan%",
          "LBN: -46.64%",
          "LSO: 518.82%",
          "LBR: 169.32%",
          "LBY: nan%",
          "LIE: nan%",
          "LTU: nan%",
          "LUX: nan%",
          "MKD: -49.95%",
          "MDG: nan%",
          "MWI: nan%",
          "MYS: -79.17%",
          "MDV: -65.37%",
          "MLI: nan%",
          "MLT: nan%",
          "MHL: nan%",
          "MRT: 1.3%",
          "MUS: -58.07%",
          "MEX: -50.55%",
          "FSM: nan%",
          "MDA: -36.17%",
          "MCO: nan%",
          "MNG: -52.71%",
          "MNE: nan%",
          "MAR: -6.12%",
          "MOZ: nan%",
          "MMR: nan%",
          "NAM: -108.0%",
          "NRU: nan%",
          "NPL: nan%",
          "NLD: nan%",
          "NZL: -44.67%",
          "NIC: nan%",
          "NER: 620.71%",
          "NGA: 169.76%",
          "NIU: nan%",
          "PRK: nan%",
          "NOR: 213.71%",
          "OMN: -61.81%",
          "PAK: -2.65%",
          "PLW: nan%",
          "PSE: nan%",
          "PAN: nan%",
          "PNG: nan%",
          "PRY: -77.37%",
          "PER: -67.07%",
          "PHL: 124.04%",
          "POL: nan%",
          "PRT: nan%",
          "QAT: nan%",
          "ROU: nan%",
          "RUS: -66.56%",
          "RWA: nan%",
          "KNA: nan%",
          "LCA: -48.77%",
          "VCT: nan%",
          "WSM: nan%",
          "SMR: nan%",
          "STP: 161.68%",
          "SAU: -72.57%",
          "SEN: 98.19%",
          "SRB: nan%",
          "SYC: nan%",
          "SLE: nan%",
          "SGP: -71.37%",
          "SVK: nan%",
          "SVN: nan%",
          "SLB: 53.37%",
          "SOM: nan%",
          "ZAF: -44.42%",
          "KOR: -53.13%",
          "SSD: nan%",
          "ESP: nan%",
          "LKA: nan%",
          "SDN: nan%",
          "SUR: nan%",
          "SWE: nan%",
          "CHE: -41.89%",
          "SYR: nan%",
          "TJK: 54.29%",
          "TZA: 108.62%",
          "THA: -56.7%",
          "BHS: -76.71%",
          "GMB: nan%",
          "TLS: nan%",
          "TGO: 79.51%",
          "TON: nan%",
          "TTO: -82.7%",
          "TUN: -8.04%",
          "TUR: -70.1%",
          "TKM: nan%",
          "TUV: nan%",
          "UGA: 263.42%",
          "UKR: -61.87%",
          "ARE: -53.45%",
          "GBR: -46.84%",
          "USA: -46.52%",
          "URY: nan%",
          "UZB: -71.81%",
          "VUT: nan%",
          "VEN: nan%",
          "VNM: -65.77%",
          "YEM: 601.88%",
          "ZMB: 28.62%",
          "ZWE: nan%",
          "EU: -45.98%",
          "EARTH: -60.33%",
          "G20: nan%",
          "G7: nan%",
          "SIDS: nan%",
          "LDC: nan%",
          "Northern America: nan%",
          "Australasia: nan%",
          "African Group: nan%",
          "Umbrella: nan%"
         ],
         "type": "choropleth",
         "z": [
          null,
          -0.6429949121652896,
          -0.34686015432848644,
          null,
          0.45487362058742337,
          null,
          -0.6048929560922381,
          null,
          -0.5125362359351338,
          null,
          -0.3967747519962454,
          null,
          -0.17383383557239915,
          -0.5429167103448536,
          -0.49693174277254754,
          null,
          null,
          1.0039115536273473,
          null,
          null,
          -0.5721867091087486,
          -0.8572222806979166,
          -0.5396189975803242,
          null,
          null,
          0.8689037242208401,
          2.728067872814715,
          -0.408539139247294,
          0.483352198553972,
          -0.5519321408504886,
          null,
          2.1559660573148833,
          2.1125477544174327,
          0.21346278432625412,
          -0.6598315209064108,
          -0.37190716811605057,
          45.74636028319608,
          0.3573645294933985,
          null,
          -0.203772942158239,
          0.3751258958820886,
          null,
          null,
          null,
          null,
          2.452275546620517,
          null,
          0.36404947253848235,
          null,
          -0.39619309633952554,
          null,
          -0.5936485295139214,
          null,
          -0.680499630329553,
          null,
          null,
          null,
          1.8195582720565098,
          null,
          null,
          null,
          null,
          -0.7947301362030302,
          null,
          0.915577940987041,
          null,
          null,
          -0.11069354019447261,
          1.307435939055623,
          null,
          null,
          5.042675915864511,
          null,
          0.03164238298305085,
          null,
          -0.7736318427400983,
          -0.2587552994806275,
          -0.6894220571111284,
          -0.8176024677923813,
          null,
          null,
          -0.6028014944569038,
          null,
          -0.5546546730142119,
          -0.5676456495660394,
          -0.2822563699048767,
          -0.6539433953566136,
          0.7662749238656162,
          null,
          -0.6830970077520723,
          1.9196923526019356,
          null,
          null,
          -0.46640154650741794,
          5.188228285865168,
          1.6932406734647554,
          null,
          null,
          null,
          null,
          -0.49950840761691623,
          null,
          null,
          -0.7917413214794646,
          -0.6537023138487611,
          null,
          null,
          null,
          0.01298716072893266,
          -0.5806503284400386,
          -0.5054728380629142,
          null,
          -0.3616701979399989,
          null,
          -0.5270541909529206,
          null,
          -0.061218074404396604,
          null,
          null,
          -1.079965155674654,
          null,
          null,
          null,
          -0.44673263518326706,
          null,
          6.207083309398048,
          1.69762138050029,
          null,
          null,
          2.1371133451508446,
          -0.6180681297082309,
          -0.026498664757178336,
          null,
          null,
          null,
          null,
          -0.7737097116759609,
          -0.6707373013405111,
          1.2403886076527313,
          null,
          null,
          null,
          null,
          -0.6655671247898971,
          null,
          null,
          -0.48774220638162535,
          null,
          null,
          null,
          1.6168076517469148,
          -0.7256833094184523,
          0.9818683060557314,
          null,
          null,
          null,
          -0.7137065639300744,
          null,
          null,
          0.5337214656145457,
          null,
          -0.44416093581402977,
          -0.5313242982382106,
          null,
          null,
          null,
          null,
          null,
          null,
          -0.41886222588183913,
          null,
          0.5428733147426745,
          1.0862347512133737,
          -0.5669903274786336,
          -0.7671303460627064,
          null,
          null,
          0.7951216202151042,
          null,
          -0.8270492662197474,
          -0.08042478208931267,
          -0.7009733200959679,
          null,
          null,
          2.634245880419158,
          -0.6186615202827433,
          -0.5345255423254485,
          -0.4684445198698664,
          -0.46518383371159233,
          null,
          -0.7181328201929311,
          null,
          null,
          -0.6576975201496192,
          6.018778535823409,
          0.2862027947795164,
          null,
          -0.4597566197760275,
          -0.6032968969097054,
          null,
          null,
          null,
          null,
          null,
          null,
          null,
          null
         ],
         "zmax": 1,
         "zmin": -1
        },
        {
         "colorbar": {
          "len": 1,
          "ticktext": [
           "-100%",
           "-75",
           "-50%",
           "-25%",
           "0%",
           "+25%",
           "+50%",
           "+75%",
           "+100%"
          ],
          "tickvals": [
           -1,
           -0.75,
           -0.5,
           -0.25,
           0,
           0.25,
           0.5,
           0.75,
           1
          ],
          "title": {
           "text": "Allocation<br>compared<br>to NDC"
          },
          "x": 1
         },
         "colorscale": [
          [
           0,
           "rgb(165,0,38)"
          ],
          [
           0.1,
           "rgb(215,48,39)"
          ],
          [
           0.2,
           "rgb(244,109,67)"
          ],
          [
           0.3,
           "rgb(253,174,97)"
          ],
          [
           0.4,
           "rgb(254,224,139)"
          ],
          [
           0.5,
           "rgb(255,255,191)"
          ],
          [
           0.6,
           "rgb(217,239,139)"
          ],
          [
           0.7,
           "rgb(166,217,106)"
          ],
          [
           0.8,
           "rgb(102,189,99)"
          ],
          [
           0.9,
           "rgb(26,152,80)"
          ],
          [
           1,
           "rgb(0,104,55)"
          ]
         ],
         "geo": "geo2",
         "hovertemplate": "%{text}",
         "locationmode": "ISO-3",
         "locations": [
          "AUT",
          "BEL",
          "BGR",
          "HRV",
          "CYP",
          "CZE",
          "DNK",
          "EST",
          "FIN",
          "FRA",
          "DEU",
          "GRC",
          "HUN",
          "IRL",
          "ITA",
          "LVA",
          "LTU",
          "LUX",
          "MLT",
          "NLD",
          "POL",
          "PRT",
          "ROU",
          "SVK",
          "SVN",
          "ESP",
          "SWE"
         ],
         "marker": {
          "line": {
           "color": "white",
           "width": 0.3
          }
         },
         "name": "",
         "showscale": false,
         "text": [
          "EU: -45.98%",
          "EU: -45.98%",
          "EU: -45.98%",
          "EU: -45.98%",
          "EU: -45.98%",
          "EU: -45.98%",
          "EU: -45.98%",
          "EU: -45.98%",
          "EU: -45.98%",
          "EU: -45.98%",
          "EU: -45.98%",
          "EU: -45.98%",
          "EU: -45.98%",
          "EU: -45.98%",
          "EU: -45.98%",
          "EU: -45.98%",
          "EU: -45.98%",
          "EU: -45.98%",
          "EU: -45.98%",
          "EU: -45.98%",
          "EU: -45.98%",
          "EU: -45.98%",
          "EU: -45.98%",
          "EU: -45.98%",
          "EU: -45.98%",
          "EU: -45.98%",
          "EU: -45.98%",
          "EU: -45.98%",
          "EU: -45.98%",
          "EU: -45.98%",
          "EU: -45.98%",
          "EU: -45.98%",
          "EU: -45.98%",
          "EU: -45.98%",
          "EU: -45.98%",
          "EU: -45.98%",
          "EU: -45.98%",
          "EU: -45.98%",
          "EU: -45.98%",
          "EU: -45.98%",
          "EU: -45.98%",
          "EU: -45.98%",
          "EU: -45.98%",
          "EU: -45.98%",
          "EU: -45.98%",
          "EU: -45.98%",
          "EU: -45.98%",
          "EU: -45.98%",
          "EU: -45.98%",
          "EU: -45.98%",
          "EU: -45.98%",
          "EU: -45.98%",
          "EU: -45.98%",
          "EU: -45.98%",
          "EU: -45.98%",
          "EU: -45.98%",
          "EU: -45.98%",
          "EU: -45.98%",
          "EU: -45.98%",
          "EU: -45.98%",
          "EU: -45.98%",
          "EU: -45.98%",
          "EU: -45.98%",
          "EU: -45.98%",
          "EU: -45.98%",
          "EU: -45.98%",
          "EU: -45.98%",
          "EU: -45.98%",
          "EU: -45.98%",
          "EU: -45.98%",
          "EU: -45.98%",
          "EU: -45.98%",
          "EU: -45.98%",
          "EU: -45.98%",
          "EU: -45.98%",
          "EU: -45.98%",
          "EU: -45.98%",
          "EU: -45.98%",
          "EU: -45.98%",
          "EU: -45.98%",
          "EU: -45.98%",
          "EU: -45.98%",
          "EU: -45.98%",
          "EU: -45.98%",
          "EU: -45.98%",
          "EU: -45.98%",
          "EU: -45.98%",
          "EU: -45.98%",
          "EU: -45.98%",
          "EU: -45.98%",
          "EU: -45.98%",
          "EU: -45.98%",
          "EU: -45.98%",
          "EU: -45.98%",
          "EU: -45.98%",
          "EU: -45.98%",
          "EU: -45.98%",
          "EU: -45.98%",
          "EU: -45.98%",
          "EU: -45.98%",
          "EU: -45.98%",
          "EU: -45.98%",
          "EU: -45.98%",
          "EU: -45.98%",
          "EU: -45.98%",
          "EU: -45.98%",
          "EU: -45.98%",
          "EU: -45.98%",
          "EU: -45.98%",
          "EU: -45.98%",
          "EU: -45.98%",
          "EU: -45.98%",
          "EU: -45.98%",
          "EU: -45.98%",
          "EU: -45.98%",
          "EU: -45.98%",
          "EU: -45.98%",
          "EU: -45.98%",
          "EU: -45.98%",
          "EU: -45.98%",
          "EU: -45.98%",
          "EU: -45.98%",
          "EU: -45.98%",
          "EU: -45.98%",
          "EU: -45.98%",
          "EU: -45.98%",
          "EU: -45.98%",
          "EU: -45.98%",
          "EU: -45.98%",
          "EU: -45.98%",
          "EU: -45.98%",
          "EU: -45.98%",
          "EU: -45.98%",
          "EU: -45.98%",
          "EU: -45.98%",
          "EU: -45.98%",
          "EU: -45.98%",
          "EU: -45.98%",
          "EU: -45.98%",
          "EU: -45.98%",
          "EU: -45.98%",
          "EU: -45.98%",
          "EU: -45.98%",
          "EU: -45.98%",
          "EU: -45.98%",
          "EU: -45.98%",
          "EU: -45.98%",
          "EU: -45.98%",
          "EU: -45.98%",
          "EU: -45.98%",
          "EU: -45.98%",
          "EU: -45.98%",
          "EU: -45.98%",
          "EU: -45.98%",
          "EU: -45.98%",
          "EU: -45.98%",
          "EU: -45.98%",
          "EU: -45.98%",
          "EU: -45.98%",
          "EU: -45.98%",
          "EU: -45.98%",
          "EU: -45.98%",
          "EU: -45.98%",
          "EU: -45.98%",
          "EU: -45.98%",
          "EU: -45.98%",
          "EU: -45.98%",
          "EU: -45.98%",
          "EU: -45.98%",
          "EU: -45.98%",
          "EU: -45.98%",
          "EU: -45.98%",
          "EU: -45.98%",
          "EU: -45.98%",
          "EU: -45.98%",
          "EU: -45.98%",
          "EU: -45.98%",
          "EU: -45.98%",
          "EU: -45.98%",
          "EU: -45.98%",
          "EU: -45.98%",
          "EU: -45.98%",
          "EU: -45.98%",
          "EU: -45.98%",
          "EU: -45.98%",
          "EU: -45.98%",
          "EU: -45.98%",
          "EU: -45.98%",
          "EU: -45.98%",
          "EU: -45.98%",
          "EU: -45.98%",
          "EU: -45.98%",
          "EU: -45.98%",
          "EU: -45.98%",
          "EU: -45.98%",
          "EU: -45.98%",
          "EU: -45.98%",
          "EU: -45.98%",
          "EU: -45.98%",
          "EU: -45.98%",
          "EU: -45.98%",
          "EU: -45.98%",
          "EU: -45.98%",
          "EU: -45.98%",
          "EU: -45.98%",
          "EU: -45.98%",
          "EU: -45.98%"
         ],
         "type": "choropleth",
         "z": [
          -0.4597566197760275,
          -0.4597566197760275,
          -0.4597566197760275,
          -0.4597566197760275,
          -0.4597566197760275,
          -0.4597566197760275,
          -0.4597566197760275,
          -0.4597566197760275,
          -0.4597566197760275,
          -0.4597566197760275,
          -0.4597566197760275,
          -0.4597566197760275,
          -0.4597566197760275,
          -0.4597566197760275,
          -0.4597566197760275,
          -0.4597566197760275,
          -0.4597566197760275,
          -0.4597566197760275,
          -0.4597566197760275,
          -0.4597566197760275,
          -0.4597566197760275,
          -0.4597566197760275,
          -0.4597566197760275,
          -0.4597566197760275,
          -0.4597566197760275,
          -0.4597566197760275,
          -0.4597566197760275
         ],
         "zmax": 1,
         "zmin": -1
        },
        {
         "arrangement": "snap",
         "domain": {
          "x": [
           0,
           1
          ],
          "y": [
           0,
           0.49
          ]
         },
         "link": {
          "color": [
           "rgba(180,0.0,0, 0.3)",
           "rgba(180,10.0,0, 0.3)",
           "rgba(180,20.0,0, 0.3)",
           "rgba(180,30.0,0, 0.3)",
           "rgba(180,40.0,0, 0.3)",
           "rgba(180,50.0,0, 0.3)",
           "rgba(180,60.0,0, 0.3)",
           "rgba(180,70.0,0, 0.3)",
           "rgba(180,80.0,0, 0.3)",
           "rgba(180,90.0,0, 0.3)",
           "rgba(180,100.0,0, 0.3)",
           "rgba(180,110.0,0, 0.3)",
           "rgba(180,120.0,0, 0.3)",
           "rgba(180,130.0,0, 0.3)",
           "rgba(180,140.0,0, 0.3)",
           "rgba(180,150.0,0, 0.3)",
           "rgba(180,160.0,0, 0.3)",
           "rgba(180,170.0,0, 0.3)"
          ],
          "source": [
           0,
           1,
           2,
           3,
           4,
           5,
           6,
           7,
           8,
           9,
           10,
           11,
           12,
           13,
           14,
           15,
           16,
           17
          ],
          "target": [
           27,
           32,
           29,
           18,
           25,
           28,
           21,
           24,
           19,
           33,
           22,
           31,
           23,
           30,
           20,
           26,
           34,
           35
          ],
          "value": [
           1,
           1,
           1,
           1,
           1,
           1,
           1,
           1,
           1,
           1,
           1,
           1,
           1,
           1,
           1,
           1,
           1,
           1
          ]
         },
         "node": {
          "color": "black",
          "label": [
           "United Arab Emirates: -100.3%",
           "United States of America: -99.5%",
           "Australia: -99.3%",
           "Saudi Arabia: -98.7%",
           "Canada: -98.2%",
           "South Korea: -95.9%",
           "Russian Federation: -95.2%",
           "Japan: -93.9%",
           "Turkiye: -91.7%",
           "European Union: -91.0%",
           "China: -89.0%",
           "United Kingdom: -88.7%",
           "Argentina: -81.9%",
           "Mexico: -72.0%",
           "Indonesia: -72.0%",
           "Brazil: -68.5%",
           "South Africa: -67.3%",
           "India: 0.4%",
           "Saudi Arabia: -72.6%",
           "Turkiye: -70.1%",
           "Indonesia: -68.9%",
           "Russian Federation: -66.6%",
           "China: -66.0%",
           "Argentina: -60.5%",
           "Japan: -56.8%",
           "Canada: -55.2%",
           "Brazil: -54.0%",
           "United Arab Emirates: -53.5%",
           "South Korea: -53.1%",
           "Australia: -51.3%",
           "Mexico: -50.5%",
           "United Kingdom: -46.8%",
           "United States of America: -46.5%",
           "European Union: -46.0%",
           "South Africa: -44.4%",
           "India: -25.9%"
          ],
          "line": {
           "color": "black",
           "width": 0.5
          },
          "pad": 10,
          "thickness": 5,
          "x": [
           0.05,
           0.05,
           0.05,
           0.05,
           0.05,
           0.05,
           0.05,
           0.05,
           0.05,
           0.05,
           0.05,
           0.05,
           0.05,
           0.05,
           0.05,
           0.05,
           0.05,
           0.05,
           0.95,
           0.95,
           0.95,
           0.95,
           0.95,
           0.95,
           0.95,
           0.95,
           0.95,
           0.95,
           0.95,
           0.95,
           0.95,
           0.95,
           0.95,
           0.95,
           0.95,
           0.95
          ],
          "y": [
           0.001,
           0.05970588235294118,
           0.11841176470588236,
           0.17711764705882355,
           0.2358235294117647,
           0.2945294117647059,
           0.3532352941176471,
           0.41194117647058826,
           0.4706470588235294,
           0.5293529411764706,
           0.5880588235294117,
           0.6467647058823529,
           0.7054705882352942,
           0.7641764705882353,
           0.8228823529411765,
           0.8815882352941177,
           0.9402941176470588,
           0.999,
           0.001,
           0.05970588235294118,
           0.11841176470588236,
           0.17711764705882355,
           0.2358235294117647,
           0.2945294117647059,
           0.3532352941176471,
           0.41194117647058826,
           0.4706470588235294,
           0.5293529411764706,
           0.5880588235294117,
           0.6467647058823529,
           0.7054705882352942,
           0.7641764705882353,
           0.8228823529411765,
           0.8815882352941177,
           0.9402941176470588,
           0.999
          ]
         },
         "type": "sankey"
        }
       ],
       "layout": {
        "annotations": [
         {
          "align": "center",
          "ax": 0,
          "ay": 0,
          "font": {
           "color": "black",
           "size": 16
          },
          "showarrow": false,
          "text": "NDC ambitious enough <<<",
          "textangle": 90,
          "x": 1.025,
          "xref": "paper",
          "y": 0.7,
          "yref": "paper"
         },
         {
          "align": "center",
          "ax": 0,
          "ay": 0,
          "font": {
           "color": "black",
           "size": 16
          },
          "showarrow": false,
          "text": ">>> NDC not ambitious enough",
          "textangle": 90,
          "x": 1.025,
          "xref": "paper",
          "y": 0.2,
          "yref": "paper"
         },
         {
          "align": "left",
          "ax": 0,
          "ay": 0,
          "font": {
           "color": "black",
           "size": 16
          },
          "showarrow": false,
          "text": "<b>(a) Allocation-NDC comparison for approach 2</b>",
          "x": 0.07,
          "xref": "paper",
          "y": 1,
          "yref": "paper"
         },
         {
          "align": "left",
          "ax": 0,
          "ay": 0,
          "font": {
           "color": "black",
           "size": 16
          },
          "showarrow": false,
          "text": "<b>(b) Allocation-NDC comparison for approach 2<br>(transitioning from current emissions in 20 years)</b>",
          "x": 0.86,
          "xref": "paper",
          "y": 1,
          "yref": "paper"
         },
         {
          "align": "left",
          "ax": 0,
          "ay": 0,
          "font": {
           "color": "black",
           "size": 16
          },
          "showarrow": false,
          "text": "<b>(c) Ordering of G20 and United Arab Emirates</b>",
          "x": 0.04,
          "xref": "paper",
          "y": 0.52,
          "yref": "paper"
         }
        ],
        "font": {
         "size": 15
        },
        "geo": {
         "domain": {
          "x": [
           0,
           0.5
          ],
          "y": [
           0.51,
           1
          ]
         },
         "lakecolor": "rgb(255, 255, 255)",
         "oceancolor": "aliceblue",
         "projection": {
          "type": "natural earth"
         },
         "showcoastlines": false,
         "showlakes": true,
         "showocean": true,
         "visible": false
        },
        "geo2": {
         "domain": {
          "x": [
           0.5,
           1
          ],
          "y": [
           0.51,
           1
          ]
         },
         "lakecolor": "rgb(255, 255, 255)",
         "oceancolor": "aliceblue",
         "projection": {
          "type": "natural earth"
         },
         "showcoastlines": false,
         "showlakes": true,
         "showocean": true,
         "visible": false
        },
        "height": 1200,
        "template": {
         "data": {
          "bar": [
           {
            "error_x": {
             "color": "#2a3f5f"
            },
            "error_y": {
             "color": "#2a3f5f"
            },
            "marker": {
             "line": {
              "color": "#E5ECF6",
              "width": 0.5
             },
             "pattern": {
              "fillmode": "overlay",
              "size": 10,
              "solidity": 0.2
             }
            },
            "type": "bar"
           }
          ],
          "barpolar": [
           {
            "marker": {
             "line": {
              "color": "#E5ECF6",
              "width": 0.5
             },
             "pattern": {
              "fillmode": "overlay",
              "size": 10,
              "solidity": 0.2
             }
            },
            "type": "barpolar"
           }
          ],
          "carpet": [
           {
            "aaxis": {
             "endlinecolor": "#2a3f5f",
             "gridcolor": "white",
             "linecolor": "white",
             "minorgridcolor": "white",
             "startlinecolor": "#2a3f5f"
            },
            "baxis": {
             "endlinecolor": "#2a3f5f",
             "gridcolor": "white",
             "linecolor": "white",
             "minorgridcolor": "white",
             "startlinecolor": "#2a3f5f"
            },
            "type": "carpet"
           }
          ],
          "choropleth": [
           {
            "colorbar": {
             "outlinewidth": 0,
             "ticks": ""
            },
            "type": "choropleth"
           }
          ],
          "contour": [
           {
            "colorbar": {
             "outlinewidth": 0,
             "ticks": ""
            },
            "colorscale": [
             [
              0,
              "#0d0887"
             ],
             [
              0.1111111111111111,
              "#46039f"
             ],
             [
              0.2222222222222222,
              "#7201a8"
             ],
             [
              0.3333333333333333,
              "#9c179e"
             ],
             [
              0.4444444444444444,
              "#bd3786"
             ],
             [
              0.5555555555555556,
              "#d8576b"
             ],
             [
              0.6666666666666666,
              "#ed7953"
             ],
             [
              0.7777777777777778,
              "#fb9f3a"
             ],
             [
              0.8888888888888888,
              "#fdca26"
             ],
             [
              1,
              "#f0f921"
             ]
            ],
            "type": "contour"
           }
          ],
          "contourcarpet": [
           {
            "colorbar": {
             "outlinewidth": 0,
             "ticks": ""
            },
            "type": "contourcarpet"
           }
          ],
          "heatmap": [
           {
            "colorbar": {
             "outlinewidth": 0,
             "ticks": ""
            },
            "colorscale": [
             [
              0,
              "#0d0887"
             ],
             [
              0.1111111111111111,
              "#46039f"
             ],
             [
              0.2222222222222222,
              "#7201a8"
             ],
             [
              0.3333333333333333,
              "#9c179e"
             ],
             [
              0.4444444444444444,
              "#bd3786"
             ],
             [
              0.5555555555555556,
              "#d8576b"
             ],
             [
              0.6666666666666666,
              "#ed7953"
             ],
             [
              0.7777777777777778,
              "#fb9f3a"
             ],
             [
              0.8888888888888888,
              "#fdca26"
             ],
             [
              1,
              "#f0f921"
             ]
            ],
            "type": "heatmap"
           }
          ],
          "heatmapgl": [
           {
            "colorbar": {
             "outlinewidth": 0,
             "ticks": ""
            },
            "colorscale": [
             [
              0,
              "#0d0887"
             ],
             [
              0.1111111111111111,
              "#46039f"
             ],
             [
              0.2222222222222222,
              "#7201a8"
             ],
             [
              0.3333333333333333,
              "#9c179e"
             ],
             [
              0.4444444444444444,
              "#bd3786"
             ],
             [
              0.5555555555555556,
              "#d8576b"
             ],
             [
              0.6666666666666666,
              "#ed7953"
             ],
             [
              0.7777777777777778,
              "#fb9f3a"
             ],
             [
              0.8888888888888888,
              "#fdca26"
             ],
             [
              1,
              "#f0f921"
             ]
            ],
            "type": "heatmapgl"
           }
          ],
          "histogram": [
           {
            "marker": {
             "pattern": {
              "fillmode": "overlay",
              "size": 10,
              "solidity": 0.2
             }
            },
            "type": "histogram"
           }
          ],
          "histogram2d": [
           {
            "colorbar": {
             "outlinewidth": 0,
             "ticks": ""
            },
            "colorscale": [
             [
              0,
              "#0d0887"
             ],
             [
              0.1111111111111111,
              "#46039f"
             ],
             [
              0.2222222222222222,
              "#7201a8"
             ],
             [
              0.3333333333333333,
              "#9c179e"
             ],
             [
              0.4444444444444444,
              "#bd3786"
             ],
             [
              0.5555555555555556,
              "#d8576b"
             ],
             [
              0.6666666666666666,
              "#ed7953"
             ],
             [
              0.7777777777777778,
              "#fb9f3a"
             ],
             [
              0.8888888888888888,
              "#fdca26"
             ],
             [
              1,
              "#f0f921"
             ]
            ],
            "type": "histogram2d"
           }
          ],
          "histogram2dcontour": [
           {
            "colorbar": {
             "outlinewidth": 0,
             "ticks": ""
            },
            "colorscale": [
             [
              0,
              "#0d0887"
             ],
             [
              0.1111111111111111,
              "#46039f"
             ],
             [
              0.2222222222222222,
              "#7201a8"
             ],
             [
              0.3333333333333333,
              "#9c179e"
             ],
             [
              0.4444444444444444,
              "#bd3786"
             ],
             [
              0.5555555555555556,
              "#d8576b"
             ],
             [
              0.6666666666666666,
              "#ed7953"
             ],
             [
              0.7777777777777778,
              "#fb9f3a"
             ],
             [
              0.8888888888888888,
              "#fdca26"
             ],
             [
              1,
              "#f0f921"
             ]
            ],
            "type": "histogram2dcontour"
           }
          ],
          "mesh3d": [
           {
            "colorbar": {
             "outlinewidth": 0,
             "ticks": ""
            },
            "type": "mesh3d"
           }
          ],
          "parcoords": [
           {
            "line": {
             "colorbar": {
              "outlinewidth": 0,
              "ticks": ""
             }
            },
            "type": "parcoords"
           }
          ],
          "pie": [
           {
            "automargin": true,
            "type": "pie"
           }
          ],
          "scatter": [
           {
            "fillpattern": {
             "fillmode": "overlay",
             "size": 10,
             "solidity": 0.2
            },
            "type": "scatter"
           }
          ],
          "scatter3d": [
           {
            "line": {
             "colorbar": {
              "outlinewidth": 0,
              "ticks": ""
             }
            },
            "marker": {
             "colorbar": {
              "outlinewidth": 0,
              "ticks": ""
             }
            },
            "type": "scatter3d"
           }
          ],
          "scattercarpet": [
           {
            "marker": {
             "colorbar": {
              "outlinewidth": 0,
              "ticks": ""
             }
            },
            "type": "scattercarpet"
           }
          ],
          "scattergeo": [
           {
            "marker": {
             "colorbar": {
              "outlinewidth": 0,
              "ticks": ""
             }
            },
            "type": "scattergeo"
           }
          ],
          "scattergl": [
           {
            "marker": {
             "colorbar": {
              "outlinewidth": 0,
              "ticks": ""
             }
            },
            "type": "scattergl"
           }
          ],
          "scattermapbox": [
           {
            "marker": {
             "colorbar": {
              "outlinewidth": 0,
              "ticks": ""
             }
            },
            "type": "scattermapbox"
           }
          ],
          "scatterpolar": [
           {
            "marker": {
             "colorbar": {
              "outlinewidth": 0,
              "ticks": ""
             }
            },
            "type": "scatterpolar"
           }
          ],
          "scatterpolargl": [
           {
            "marker": {
             "colorbar": {
              "outlinewidth": 0,
              "ticks": ""
             }
            },
            "type": "scatterpolargl"
           }
          ],
          "scatterternary": [
           {
            "marker": {
             "colorbar": {
              "outlinewidth": 0,
              "ticks": ""
             }
            },
            "type": "scatterternary"
           }
          ],
          "surface": [
           {
            "colorbar": {
             "outlinewidth": 0,
             "ticks": ""
            },
            "colorscale": [
             [
              0,
              "#0d0887"
             ],
             [
              0.1111111111111111,
              "#46039f"
             ],
             [
              0.2222222222222222,
              "#7201a8"
             ],
             [
              0.3333333333333333,
              "#9c179e"
             ],
             [
              0.4444444444444444,
              "#bd3786"
             ],
             [
              0.5555555555555556,
              "#d8576b"
             ],
             [
              0.6666666666666666,
              "#ed7953"
             ],
             [
              0.7777777777777778,
              "#fb9f3a"
             ],
             [
              0.8888888888888888,
              "#fdca26"
             ],
             [
              1,
              "#f0f921"
             ]
            ],
            "type": "surface"
           }
          ],
          "table": [
           {
            "cells": {
             "fill": {
              "color": "#EBF0F8"
             },
             "line": {
              "color": "white"
             }
            },
            "header": {
             "fill": {
              "color": "#C8D4E3"
             },
             "line": {
              "color": "white"
             }
            },
            "type": "table"
           }
          ]
         },
         "layout": {
          "annotationdefaults": {
           "arrowcolor": "#2a3f5f",
           "arrowhead": 0,
           "arrowwidth": 1
          },
          "autotypenumbers": "strict",
          "coloraxis": {
           "colorbar": {
            "outlinewidth": 0,
            "ticks": ""
           }
          },
          "colorscale": {
           "diverging": [
            [
             0,
             "#8e0152"
            ],
            [
             0.1,
             "#c51b7d"
            ],
            [
             0.2,
             "#de77ae"
            ],
            [
             0.3,
             "#f1b6da"
            ],
            [
             0.4,
             "#fde0ef"
            ],
            [
             0.5,
             "#f7f7f7"
            ],
            [
             0.6,
             "#e6f5d0"
            ],
            [
             0.7,
             "#b8e186"
            ],
            [
             0.8,
             "#7fbc41"
            ],
            [
             0.9,
             "#4d9221"
            ],
            [
             1,
             "#276419"
            ]
           ],
           "sequential": [
            [
             0,
             "#0d0887"
            ],
            [
             0.1111111111111111,
             "#46039f"
            ],
            [
             0.2222222222222222,
             "#7201a8"
            ],
            [
             0.3333333333333333,
             "#9c179e"
            ],
            [
             0.4444444444444444,
             "#bd3786"
            ],
            [
             0.5555555555555556,
             "#d8576b"
            ],
            [
             0.6666666666666666,
             "#ed7953"
            ],
            [
             0.7777777777777778,
             "#fb9f3a"
            ],
            [
             0.8888888888888888,
             "#fdca26"
            ],
            [
             1,
             "#f0f921"
            ]
           ],
           "sequentialminus": [
            [
             0,
             "#0d0887"
            ],
            [
             0.1111111111111111,
             "#46039f"
            ],
            [
             0.2222222222222222,
             "#7201a8"
            ],
            [
             0.3333333333333333,
             "#9c179e"
            ],
            [
             0.4444444444444444,
             "#bd3786"
            ],
            [
             0.5555555555555556,
             "#d8576b"
            ],
            [
             0.6666666666666666,
             "#ed7953"
            ],
            [
             0.7777777777777778,
             "#fb9f3a"
            ],
            [
             0.8888888888888888,
             "#fdca26"
            ],
            [
             1,
             "#f0f921"
            ]
           ]
          },
          "colorway": [
           "#636efa",
           "#EF553B",
           "#00cc96",
           "#ab63fa",
           "#FFA15A",
           "#19d3f3",
           "#FF6692",
           "#B6E880",
           "#FF97FF",
           "#FECB52"
          ],
          "font": {
           "color": "#2a3f5f"
          },
          "geo": {
           "bgcolor": "white",
           "lakecolor": "white",
           "landcolor": "#E5ECF6",
           "showlakes": true,
           "showland": true,
           "subunitcolor": "white"
          },
          "hoverlabel": {
           "align": "left"
          },
          "hovermode": "closest",
          "mapbox": {
           "style": "light"
          },
          "paper_bgcolor": "white",
          "plot_bgcolor": "#E5ECF6",
          "polar": {
           "angularaxis": {
            "gridcolor": "white",
            "linecolor": "white",
            "ticks": ""
           },
           "bgcolor": "#E5ECF6",
           "radialaxis": {
            "gridcolor": "white",
            "linecolor": "white",
            "ticks": ""
           }
          },
          "scene": {
           "xaxis": {
            "backgroundcolor": "#E5ECF6",
            "gridcolor": "white",
            "gridwidth": 2,
            "linecolor": "white",
            "showbackground": true,
            "ticks": "",
            "zerolinecolor": "white"
           },
           "yaxis": {
            "backgroundcolor": "#E5ECF6",
            "gridcolor": "white",
            "gridwidth": 2,
            "linecolor": "white",
            "showbackground": true,
            "ticks": "",
            "zerolinecolor": "white"
           },
           "zaxis": {
            "backgroundcolor": "#E5ECF6",
            "gridcolor": "white",
            "gridwidth": 2,
            "linecolor": "white",
            "showbackground": true,
            "ticks": "",
            "zerolinecolor": "white"
           }
          },
          "shapedefaults": {
           "line": {
            "color": "#2a3f5f"
           }
          },
          "ternary": {
           "aaxis": {
            "gridcolor": "white",
            "linecolor": "white",
            "ticks": ""
           },
           "baxis": {
            "gridcolor": "white",
            "linecolor": "white",
            "ticks": ""
           },
           "bgcolor": "#E5ECF6",
           "caxis": {
            "gridcolor": "white",
            "linecolor": "white",
            "ticks": ""
           }
          },
          "title": {
           "x": 0.05
          },
          "xaxis": {
           "automargin": true,
           "gridcolor": "white",
           "linecolor": "white",
           "ticks": "",
           "title": {
            "standoff": 15
           },
           "zerolinecolor": "white",
           "zerolinewidth": 2
          },
          "yaxis": {
           "automargin": true,
           "gridcolor": "white",
           "linecolor": "white",
           "ticks": "",
           "title": {
            "standoff": 15
           },
           "zerolinecolor": "white",
           "zerolinewidth": 2
          }
         }
        },
        "width": 1750,
        "xaxis": {
         "anchor": "y",
         "domain": [
          0.5,
          1
         ]
        },
        "yaxis": {
         "anchor": "x",
         "domain": [
          0,
          0.49
         ]
        }
       }
      }
     },
     "metadata": {},
     "output_type": "display_data"
    }
   ],
   "source": [
    "c_i = 0\n",
    "fig = make_subplots(rows=2, cols=2, \n",
    "                                                    specs=[[{'type': 'choropleth'}, {'type': 'choropleth'}],\n",
    "                                                           [{'type': 'sankey','colspan': 2}, {}]],\n",
    "                                                    horizontal_spacing = 0, vertical_spacing=0.02)\n",
    "\n",
    "colorbar_abs = dict(len=1, x=1, tickvals = [0, 1, 2, 3], ticktext = ['1', '10', '100', '1000'])\n",
    "ts = ['Below 1.5 degrees', 'Well below 2 degrees', 'Below 3 degrees', 'Below 4 degrees']\n",
    "colorbar_pc = dict(len=1, x=1)\n",
    "\n",
    "for a_i, approach in enumerate([\"A2_gdp_net\", 'A2_trans']):\n",
    "    if a_i == 0:\n",
    "        cm= True\n",
    "    else:\n",
    "        cm= False\n",
    "    #t[t >= 4] = np.nan\n",
    "    fig.add_trace(\n",
    "        go.Choropleth(\n",
    "        locations=np.array(xr_dataread.Region),\n",
    "        z = ndc_deviations[c_i][a_i],\n",
    "        locationmode = 'ISO-3',\n",
    "        colorscale = 'RdYlGn',\n",
    "        zmax = 1,\n",
    "        zmin = -1,\n",
    "        text = [str(r)+\": \"+str(np.round(float(ndc_deviations[c_i][a_i][r_i])*100, 2))+\"%\" for r_i, r in enumerate(np.array(xr_dataread.Region))],\n",
    "        hovertemplate  = '%{text}',\n",
    "        name=\"\",\n",
    "        marker_line_color='white', \n",
    "        marker_line_width=0.3,\n",
    "        colorbar=dict(len=1, x=1, tickvals = [-1, -0.75, -0.5, -0.25, 0, 0.25, 0.5, 0.75, 1], ticktext = [\"-100%\", \"-75\", \"-50%\", \"-25%\", \"0%\", \"+25%\", \"+50%\", \"+75%\", \"+100%\"], title={\"text\":\"Allocation<br>compared<br>to NDC\"}),\n",
    "        showscale=cm\n",
    "    ), 1, a_i+1)\n",
    "    fig.add_trace(\n",
    "        go.Choropleth(\n",
    "        locations=group_eu,\n",
    "        z = np.array([ndc_deviations[c_i][a_i][np.where(all_regions_iso == \"EU\")[0][0]]]*len(group_eu)),\n",
    "        locationmode = 'ISO-3',\n",
    "        colorscale = 'RdYlGn',\n",
    "        zmax = 1,\n",
    "        zmin = -1,\n",
    "        text = [\"EU: \"+str(np.round(float(ndc_deviations[c_i][a_i][np.where(all_regions_iso == \"EU\")[0][0]])*100, 2))+\"%\" for r_i, r in enumerate(np.array(xr_dataread.Region))],\n",
    "        hovertemplate  = '%{text}',\n",
    "        name=\"\",\n",
    "        marker_line_color='white', \n",
    "        marker_line_width=0.3,\n",
    "        colorbar=dict(len=1, x=1, tickvals = [-1, -0.75, -0.5, -0.25, 0, 0.25, 0.5, 0.75, 1], ticktext = [\"-100%\", \"-75\", \"-50%\", \"-25%\", \"0%\", \"+25%\", \"+50%\", \"+75%\", \"+100%\"], title={\"text\":\"Allocation<br>compared<br>to NDC\"}),\n",
    "        showscale=cm\n",
    "    ), 1, a_i+1)\n",
    "fig.update_geos(showocean=True, oceancolor=\"aliceblue\")\n",
    "fig.update_geos(showlakes=True, lakecolor=\"aliceblue\")\n",
    "\n",
    "fig.add_trace(go.Sankey(\n",
    "    arrangement='snap',\n",
    "    node = dict(\n",
    "      pad = 10,\n",
    "      x = [0.05]*(amount)+[0.95]*(amount),\n",
    "      y = list(np.linspace(0.001, 0.999, (amount)))+list(np.linspace(0.001, 0.999, (amount))),\n",
    "    #   x = [0.001, 0.001, 0.001, 0.001, 0.999, 0.999, 0.999, 0.999],\n",
    "    #   y = [0.001, 75/285, 160/285, 190/285, 0.001, 75/285, 130/285, 215/285], \n",
    "      thickness = 5,\n",
    "      line = dict(color = \"black\", width = 0.5),\n",
    "      label = ([all_regions_names[all_regions_iso == r][0]+\": \"+str(np.round(float(np.array(ndc_deviations_onlyfew[0][0])[regs_onlyfew == r])*100, 1))+\"%\" for r in regs_onlyfew[np.argsort(ndc_deviations_onlyfew[0])[0][:amount]]]+#+['Below top-'+str(amount)] +\n",
    "              [all_regions_names[all_regions_iso == r][0]+\": \"+str(np.round(float(np.array(ndc_deviations_onlyfew[0][1])[regs_onlyfew == r])*100, 1))+\"%\" for r in regs_onlyfew[np.argsort(ndc_deviations_onlyfew[0])[1][:amount]]]),#+['Below top-'+str(amount)]),\n",
    "      color = 'black'\n",
    "    ),\n",
    "    link = dict(\n",
    "      source = sources_numeric, # indices correspond to labels, eg A1, A2, A1, B1, ...\n",
    "      target = targets_numeric,#np.random.choice(np.arange(amount+1), size=amount+1, replace=False)+amount+1,\n",
    "      value = [1]*len(targets_numeric),\n",
    "      color = ['rgba(180,'+str(0+i/1.5)+','+str(0)+', 0.3)' for i in np.linspace(0, 255, len(sources_numeric))]\n",
    "  )), 2, 1)\n",
    "\n",
    "# limite map scope to USA 'africa', 'asia', 'europe', 'north america', 'south america', 'usa', 'world'\n",
    "fig.update_geos(visible=False,\n",
    "                showlakes=True,\n",
    "                lakecolor='rgb(255, 255, 255)',\n",
    "                projection_type='natural earth',\n",
    "                showcoastlines=False,)\n",
    "\n",
    "fig.update_layout(\n",
    "    font_size=15,\n",
    ")\n",
    "#fig.update_traces(showscale=False)\n",
    "fig.add_annotation(xref='paper', yref='paper',ax=0, align='center', ay=-0, showarrow=False,\n",
    "                    y=0.7,\n",
    "                    x=1.025, \n",
    "                    textangle=90,\n",
    "                    text=\"NDC ambitious enough <<<\",\n",
    "                    font=dict(color='black', size=16),\n",
    "                )\n",
    "fig.add_annotation(xref='paper', yref='paper',ax=0, align='center', ay=-0, showarrow=False,\n",
    "                    y=0.2,\n",
    "                    x=1.025, \n",
    "                    textangle=90,\n",
    "                    text=\">>> NDC not ambitious enough\",\n",
    "                    font=dict(color='black', size=16),\n",
    "                )\n",
    "\n",
    "fig.add_annotation(xref='paper', yref='paper',ax=0, align='left', ay=-0, showarrow=False,\n",
    "                    y=1.0,\n",
    "                    x=0.07,\n",
    "                    text=\"<b>(a) Allocation-NDC comparison for approach 2</b>\",\n",
    "                    font=dict(color='black', size=16),\n",
    "                )\n",
    "fig.add_annotation(xref='paper', yref='paper',ax=0, align='left', ay=-0, showarrow=False,\n",
    "                    y=1.0,\n",
    "                    x=0.86,\n",
    "                    text=\"<b>(b) Allocation-NDC comparison for approach 2<br>(transitioning from current emissions in 20 years)</b>\",\n",
    "                    font=dict(color='black', size=16),\n",
    "                )\n",
    "fig.add_annotation(xref='paper', yref='paper',ax=0, align='left', ay=-0, showarrow=False,\n",
    "                    y=0.52,\n",
    "                    x=0.04,\n",
    "                    text=\"<b>(c) Ordering of G20 and United Arab Emirates</b>\",\n",
    "                    font=dict(color='black', size=16),\n",
    "                )\n",
    "\n",
    "fig.update_layout(height=1200, width=1750)"
   ]
  },
  {
   "cell_type": "code",
   "execution_count": 10,
   "metadata": {},
   "outputs": [],
   "source": [
    "fig.write_image(\"K:/Code/EffortSharing/Figures/Paper_Robiou2023/Figure_3.png\", scale=2)"
   ]
  }
 ],
 "metadata": {
  "kernelspec": {
   "display_name": "Python 3.9.11 ('MyEnv')",
   "language": "python",
   "name": "python3"
  },
  "language_info": {
   "codemirror_mode": {
    "name": "ipython",
    "version": 3
   },
   "file_extension": ".py",
   "mimetype": "text/x-python",
   "name": "python",
   "nbconvert_exporter": "python",
   "pygments_lexer": "ipython3",
   "version": "3.12.5"
  },
  "orig_nbformat": 4,
  "vscode": {
   "interpreter": {
    "hash": "36d5d389870ab01fa625d0d5123f82469a3683fa0e02c4f7e9e76e9a75345aa3"
   }
  }
 },
 "nbformat": 4,
 "nbformat_minor": 2
}
