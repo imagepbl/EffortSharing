{
 "cells": [
  {
   "attachments": {},
   "cell_type": "markdown",
   "metadata": {},
   "source": [
    "## Preambule"
   ]
  },
  {
   "cell_type": "code",
   "execution_count": 1,
   "metadata": {},
   "outputs": [],
   "source": [
    "# General packages\n",
    "import numpy as np\n",
    "import pandas as pd\n",
    "from tqdm import tqdm\n",
    "from pathlib import Path\n",
    "import xarray as xr\n",
    "import json\n",
    "\n",
    "# Plotting\n",
    "import matplotlib.pyplot as plt\n",
    "import plotly.express as px\n",
    "import plotly.graph_objects as go\n",
    "from plotly.subplots import make_subplots\n",
    "from plotly.colors import n_colors"
   ]
  },
  {
   "cell_type": "code",
   "execution_count": 72,
   "metadata": {},
   "outputs": [],
   "source": [
    "import json\n",
    "f = open('X:/user/dekkerm/Data/Maps/Somaliland.json', encoding='utf8')\n",
    "somaliland_data = json.load(f)"
   ]
  },
  {
   "attachments": {},
   "cell_type": "markdown",
   "metadata": {},
   "source": [
    "## Paths"
   ]
  },
  {
   "cell_type": "code",
   "execution_count": 7,
   "metadata": {},
   "outputs": [],
   "source": [
    "path_data = Path(\"K:/Data/Data_effortsharing/DataUpdate_ongoing/startyear_2021/\")\n",
    "path_data_gen = Path(\"K:/Data/Data_effortsharing/DataUpdate_ongoing/\")\n",
    "path_figs = Path(\"K:/Code/EffortSharing/\") / \"Figures\" / \"Paper_Robiou2023\""
   ]
  },
  {
   "attachments": {},
   "cell_type": "markdown",
   "metadata": {},
   "source": [
    "## Read data files"
   ]
  },
  {
   "cell_type": "code",
   "execution_count": 8,
   "metadata": {},
   "outputs": [],
   "source": [
    "xr_dataread = xr.open_dataset(path_data / \"xr_dataread.nc\")\n",
    "xr_combs = xr.open_dataset(path_data / \"xr_combinedapproaches.nc\")\n",
    "xr_temps = xr.open_dataset(path_data / \"xr_combinedapproaches_temps.nc\")\n",
    "all_regions_iso = np.load(path_data_gen / \"all_regions.npy\")\n",
    "all_regions_names = np.array(list(np.load(path_data_gen / \"all_regions_names.npy\")[:-1])+['Earth']) # Only in old xr_dataread version, should be updated when reran\n",
    "all_countries_iso = np.load(path_data_gen / \"all_countries.npy\", allow_pickle=True)\n",
    "all_countries_names = np.load(path_data_gen / \"all_countries_names.npy\", allow_pickle=True)\n",
    "only_regions_iso = ['CVF', 'G20', \"EU\", \"G7\", \"NA\", \"AU\", \"AF\", \"SIDS\", \"LDC\", \"WORLD\"]\n",
    "only_regions_names = ['Climate Vulnerability Forum','G20',\"European Union\",\"G7\",\"Northern America\",\"Australasia\",\"African Group\",\"Small Island Developing States\",\"Least Developed Countries\", 'World']"
   ]
  },
  {
   "cell_type": "code",
   "execution_count": 9,
   "metadata": {},
   "outputs": [],
   "source": [
    "df_g = pd.read_excel(Path(\"X:/user/dekkerm/Data/\") / \"UNFCCC_Parties_Groups_noeu.xlsx\", sheet_name = \"Country groups\")\n",
    "countries_iso = np.array(df_g[\"Country ISO Code\"])\n",
    "countries_name = np.array(df_g[\"Name\"])\n",
    "countries_iso = np.array(df_g[\"Country ISO Code\"])\n",
    "group_cvf = countries_iso[np.array(df_g[\"CVF (24/10/22)\"]) == 1]\n",
    "group_g20 = countries_iso[np.array(df_g[\"G20\"]) == 1]\n",
    "group_eu = countries_iso[np.array(df_g[\"EU\"]) == 1]\n",
    "group_g7 = countries_iso[np.array(df_g[\"G7\"]) == 1]\n",
    "group_na = countries_iso[np.array(df_g[\"Northern America\"]) == 1]\n",
    "group_um = countries_iso[np.array(df_g[\"Umbrella\"]) == 1]\n",
    "group_au = countries_iso[np.array(df_g[\"Australasia\"]) == 1]\n",
    "group_af = countries_iso[np.array(df_g[\"African Group\"]) == 1]\n",
    "group_sids = countries_iso[np.array(df_g[\"SIDS\"]) == 1]\n",
    "group_ldc = countries_iso[np.array(df_g[\"LDC\"]) == 1]\n",
    "group_eg = countries_iso[np.array(df_g[\"European Group\"]) == 1]\n",
    "group_world = np.copy(countries_iso)"
   ]
  },
  {
   "cell_type": "code",
   "execution_count": 22,
   "metadata": {},
   "outputs": [],
   "source": [
    "temps_1 = xr_temps.Approach1_gdp.sel(Time=2030, Discount_factor=0, Historical_startyear=1990, Risk=0.5, Scenario='SSP2').mean(dim=['Conditionality', 'Ambition'])\n",
    "temps_2 = xr_temps.Approach2.sel(Time=2030, Discount_factor=0, Historical_startyear=1990, Risk=0.5, Scenario='SSP2').mean(dim=['Conditionality', 'Ambition'])"
   ]
  },
  {
   "cell_type": "markdown",
   "metadata": {},
   "source": [
    "## Plot"
   ]
  },
  {
   "cell_type": "code",
   "execution_count": 57,
   "metadata": {},
   "outputs": [
    {
     "data": {
      "application/vnd.plotly.v1+json": {
       "config": {
        "plotlyServerURL": "https://plot.ly"
       },
       "data": [
        {
         "colorbar": {
          "title": {
           "side": "bottom"
          }
         },
         "colorscale": [
          [
           0,
           "rgb(255,255,255)"
          ],
          [
           0.125,
           "rgb(240,240,240)"
          ],
          [
           0.25,
           "rgb(217,217,217)"
          ],
          [
           0.375,
           "rgb(189,189,189)"
          ],
          [
           0.5,
           "rgb(150,150,150)"
          ],
          [
           0.625,
           "rgb(115,115,115)"
          ],
          [
           0.75,
           "rgb(82,82,82)"
          ],
          [
           0.875,
           "rgb(37,37,37)"
          ],
          [
           1,
           "rgb(0,0,0)"
          ]
         ],
         "geo": "geo",
         "hovertemplate": "%{text}",
         "locationmode": "ISO-3",
         "locations": [
          "AFG",
          "AND",
          "ATG",
          "ARM",
          "AUT",
          "BHR",
          "BEL",
          "BLZ",
          "BTN",
          "BOL",
          "BRN",
          "BGR",
          "CPV",
          "COK",
          "HRV",
          "CUB",
          "CYP",
          "CZE",
          "DNK",
          "DMA",
          "ECU",
          "SLV",
          "ERI",
          "EST",
          "SWZ",
          "FJI",
          "FIN",
          "FRA",
          "GAB",
          "DEU",
          "GRC",
          "GNB",
          "GUY",
          "VAT",
          "HUN",
          "IRQ",
          "IRL",
          "ITA",
          "LAO",
          "LVA",
          "LBY",
          "LIE",
          "LTU",
          "LUX",
          "MDG",
          "MWI",
          "MLI",
          "MLT",
          "MHL",
          "MCO",
          "MNE",
          "MOZ",
          "MMR",
          "NRU",
          "NPL",
          "NLD",
          "NIC",
          "NIU",
          "PLW",
          "PSE",
          "PAN",
          "PNG",
          "POL",
          "PRT",
          "QAT",
          "ROU",
          "RWA",
          "KNA",
          "VCT",
          "WSM",
          "SMR",
          "SRB",
          "SLE",
          "SVK",
          "SVN",
          "SOM",
          "SSD",
          "ESP",
          "LKA",
          "SDN",
          "SUR",
          "SWE",
          "SYR",
          "GMB",
          "TLS",
          "TON",
          "TKM",
          "TUV",
          "URY",
          "VUT",
          "VEN",
          "ZWE",
          "G20",
          "G7",
          "SIDS",
          "LDC",
          "Northern America",
          "Australasia",
          "African Group",
          "Umbrella",
          "GRL",
          "SOM"
         ],
         "marker": {
          "line": {
           "color": "black",
           "width": 0
          }
         },
         "name": "",
         "showscale": false,
         "text": [
          "AFG",
          "AND",
          "ATG",
          "ARM",
          "AUT",
          "BHR",
          "BEL",
          "BLZ",
          "BTN",
          "BOL",
          "BRN",
          "BGR",
          "CPV",
          "COK",
          "HRV",
          "CUB",
          "CYP",
          "CZE",
          "DNK",
          "DMA",
          "ECU",
          "SLV",
          "ERI",
          "EST",
          "SWZ",
          "FJI",
          "FIN",
          "FRA",
          "GAB",
          "DEU",
          "GRC",
          "GNB",
          "GUY",
          "VAT",
          "HUN",
          "IRQ",
          "IRL",
          "ITA",
          "LAO",
          "LVA",
          "LBY",
          "LIE",
          "LTU",
          "LUX",
          "MDG",
          "MWI",
          "MLI",
          "MLT",
          "MHL",
          "MCO",
          "MNE",
          "MOZ",
          "MMR",
          "NRU",
          "NPL",
          "NLD",
          "NIC",
          "NIU",
          "PLW",
          "PSE",
          "PAN",
          "PNG",
          "POL",
          "PRT",
          "QAT",
          "ROU",
          "RWA",
          "KNA",
          "VCT",
          "WSM",
          "SMR",
          "SRB",
          "SLE",
          "SVK",
          "SVN",
          "SOM",
          "SSD",
          "ESP",
          "LKA",
          "SDN",
          "SUR",
          "SWE",
          "SYR",
          "GMB",
          "TLS",
          "TON",
          "TKM",
          "TUV",
          "URY",
          "VUT",
          "VEN",
          "ZWE",
          "G20",
          "G7",
          "SIDS",
          "LDC",
          "Northern America",
          "Australasia",
          "African Group",
          "Umbrella",
          "GRL",
          "SOM"
         ],
         "type": "choropleth",
         "z": [
          2,
          2,
          2,
          2,
          2,
          2,
          2,
          2,
          2,
          2,
          2,
          2,
          2,
          2,
          2,
          2,
          2,
          2,
          2,
          2,
          2,
          2,
          2,
          2,
          2,
          2,
          2,
          2,
          2,
          2,
          2,
          2,
          2,
          2,
          2,
          2,
          2,
          2,
          2,
          2,
          2,
          2,
          2,
          2,
          2,
          2,
          2,
          2,
          2,
          2,
          2,
          2,
          2,
          2,
          2,
          2,
          2,
          2,
          2,
          2,
          2,
          2,
          2,
          2,
          2,
          2,
          2,
          2,
          2,
          2,
          2,
          2,
          2,
          2,
          2,
          2,
          2,
          2,
          2,
          2,
          2,
          2,
          2,
          2,
          2,
          2,
          2,
          2,
          2,
          2,
          2,
          2,
          2,
          2,
          2,
          2,
          2,
          2,
          2,
          2,
          2,
          2
         ],
         "zmax": 4.5,
         "zmin": 0.5
        },
        {
         "colorbar": {
          "len": 0.4,
          "lenmode": "fraction",
          "orientation": "h",
          "thickness": 20,
          "thicknessmode": "pixels",
          "tickfont": {
           "size": 14
          },
          "ticktext": [
           "1.0  &deg;C",
           "1.5  &deg;C",
           "2.0 &deg;C",
           "2.5 &deg;C",
           "3.0 &deg;C",
           "3.5 &deg;C",
           "4.0 &deg;C",
           "4.5 &deg;C"
          ],
          "tickvals": [
           1,
           1.5,
           2,
           2.5,
           3,
           3.5,
           4,
           4.5
          ],
          "title": {
           "font": {
            "size": 14
           },
           "side": "bottom",
           "text": "<b>Climate target"
          },
          "x": 0.35,
          "xanchor": "left",
          "y": 0.52,
          "yanchor": "bottom"
         },
         "colorscale": [
          [
           0,
           "rgb(0,104,55)"
          ],
          [
           0.1,
           "rgb(26,152,80)"
          ],
          [
           0.2,
           "rgb(102,189,99)"
          ],
          [
           0.3,
           "rgb(166,217,106)"
          ],
          [
           0.4,
           "rgb(217,239,139)"
          ],
          [
           0.5,
           "rgb(255,255,191)"
          ],
          [
           0.6,
           "rgb(254,224,139)"
          ],
          [
           0.7,
           "rgb(253,174,97)"
          ],
          [
           0.8,
           "rgb(244,109,67)"
          ],
          [
           0.9,
           "rgb(215,48,39)"
          ],
          [
           1,
           "rgb(165,0,38)"
          ]
         ],
         "geo": "geo",
         "hovertemplate": "%{text}",
         "locationmode": "ISO-3",
         "locations": [
          "AFG",
          "ALB",
          "DZA",
          "AND",
          "AGO",
          "ATG",
          "ARG",
          "ARM",
          "AUS",
          "AUT",
          "AZE",
          "BHR",
          "BGD",
          "BRB",
          "BLR",
          "BEL",
          "BLZ",
          "BEN",
          "BTN",
          "BOL",
          "BIH",
          "BWA",
          "BRA",
          "BRN",
          "BGR",
          "BFA",
          "BDI",
          "KHM",
          "CMR",
          "CAN",
          "CPV",
          "CAF",
          "TCD",
          "CHL",
          "CHN",
          "COL",
          "COM",
          "COG",
          "COK",
          "CRI",
          "CIV",
          "HRV",
          "CUB",
          "CYP",
          "CZE",
          "COD",
          "DNK",
          "DJI",
          "DMA",
          "DOM",
          "ECU",
          "EGY",
          "SLV",
          "GNQ",
          "ERI",
          "EST",
          "SWZ",
          "ETH",
          "FJI",
          "FIN",
          "FRA",
          "GAB",
          "GEO",
          "DEU",
          "GHA",
          "GRC",
          "GRD",
          "GTM",
          "GIN",
          "GNB",
          "GUY",
          "HTI",
          "VAT",
          "HND",
          "HUN",
          "ISL",
          "IND",
          "IDN",
          "IRN",
          "IRQ",
          "IRL",
          "ISR",
          "ITA",
          "JAM",
          "JPN",
          "JOR",
          "KAZ",
          "KEN",
          "KIR",
          "KWT",
          "KGZ",
          "LAO",
          "LVA",
          "LBN",
          "LSO",
          "LBR",
          "LBY",
          "LIE",
          "LTU",
          "LUX",
          "MKD",
          "MDG",
          "MWI",
          "MYS",
          "MDV",
          "MLI",
          "MLT",
          "MHL",
          "MRT",
          "MUS",
          "MEX",
          "FSM",
          "MDA",
          "MCO",
          "MNG",
          "MNE",
          "MAR",
          "MOZ",
          "MMR",
          "NAM",
          "NRU",
          "NPL",
          "NLD",
          "NZL",
          "NIC",
          "NER",
          "NGA",
          "NIU",
          "PRK",
          "NOR",
          "OMN",
          "PAK",
          "PLW",
          "PSE",
          "PAN",
          "PNG",
          "PRY",
          "PER",
          "PHL",
          "POL",
          "PRT",
          "QAT",
          "ROU",
          "RUS",
          "RWA",
          "KNA",
          "LCA",
          "VCT",
          "WSM",
          "SMR",
          "STP",
          "SAU",
          "SEN",
          "SRB",
          "SYC",
          "SLE",
          "SGP",
          "SVK",
          "SVN",
          "SLB",
          "SOM",
          "ZAF",
          "KOR",
          "SSD",
          "ESP",
          "LKA",
          "SDN",
          "SUR",
          "SWE",
          "CHE",
          "SYR",
          "TJK",
          "TZA",
          "THA",
          "BHS",
          "GMB",
          "TLS",
          "TGO",
          "TON",
          "TTO",
          "TUN",
          "TUR",
          "TKM",
          "TUV",
          "UGA",
          "UKR",
          "ARE",
          "GBR",
          "USA",
          "URY",
          "UZB",
          "VUT",
          "VEN",
          "VNM",
          "YEM",
          "ZMB",
          "ZWE",
          "EU",
          "EARTH",
          "G20",
          "G7",
          "SIDS",
          "LDC",
          "Northern America",
          "Australasia",
          "African Group",
          "Umbrella"
         ],
         "marker": {
          "line": {
           "color": "white",
           "width": 1
          }
         },
         "name": "",
         "showscale": true,
         "text": [
          "AFG: nan &deg;C",
          "ALB: 2.0 &deg;C",
          "DZA: 1.5 &deg;C",
          "AND: nan &deg;C",
          "AGO: 1.2 &deg;C",
          "ATG: nan &deg;C",
          "ARG: 4.5 &deg;C",
          "ARM: nan &deg;C",
          "AUS: 4.5 &deg;C",
          "AUT: nan &deg;C",
          "AZE: 1.8 &deg;C",
          "BHR: nan &deg;C",
          "BGD: 1.2 &deg;C",
          "BRB: 4.5 &deg;C",
          "BLR: 4.5 &deg;C",
          "BEL: nan &deg;C",
          "BLZ: nan &deg;C",
          "BEN: 1.2 &deg;C",
          "BTN: nan &deg;C",
          "BOL: nan &deg;C",
          "BIH: 4.5 &deg;C",
          "BWA: 4.5 &deg;C",
          "BRA: 2.4 &deg;C",
          "BRN: nan &deg;C",
          "BGR: nan &deg;C",
          "BFA: 1.2 &deg;C",
          "BDI: 1.3 &deg;C",
          "KHM: 1.5 &deg;C",
          "CMR: 1.2 &deg;C",
          "CAN: 4.5 &deg;C",
          "CPV: nan &deg;C",
          "CAF: 1.4 &deg;C",
          "TCD: 1.2 &deg;C",
          "CHL: 1.3 &deg;C",
          "CHN: 4.5 &deg;C",
          "COL: 1.4 &deg;C",
          "COM: 1.2 &deg;C",
          "COG: 1.3 &deg;C",
          "COK: nan &deg;C",
          "CRI: 1.2 &deg;C",
          "CIV: 1.2 &deg;C",
          "HRV: nan &deg;C",
          "CUB: nan &deg;C",
          "CYP: nan &deg;C",
          "CZE: nan &deg;C",
          "COD: 1.2 &deg;C",
          "DNK: nan &deg;C",
          "DJI: 1.2 &deg;C",
          "DMA: nan &deg;C",
          "DOM: 1.2 &deg;C",
          "ECU: nan &deg;C",
          "EGY: 1.3 &deg;C",
          "SLV: nan &deg;C",
          "GNQ: 3.6 &deg;C",
          "ERI: nan &deg;C",
          "EST: nan &deg;C",
          "SWZ: nan &deg;C",
          "ETH: 1.2 &deg;C",
          "FJI: nan &deg;C",
          "FIN: nan &deg;C",
          "FRA: nan &deg;C",
          "GAB: nan &deg;C",
          "GEO: 4.5 &deg;C",
          "DEU: nan &deg;C",
          "GHA: 1.2 &deg;C",
          "GRC: nan &deg;C",
          "GRD: 1.2 &deg;C",
          "GTM: 1.2 &deg;C",
          "GIN: 1.2 &deg;C",
          "GNB: nan &deg;C",
          "GUY: nan &deg;C",
          "HTI: 1.2 &deg;C",
          "VAT: nan &deg;C",
          "HND: 1.2 &deg;C",
          "HUN: nan &deg;C",
          "ISL: 4.5 &deg;C",
          "IND: 1.3 &deg;C",
          "IDN: 1.7 &deg;C",
          "IRN: 4.5 &deg;C",
          "IRQ: nan &deg;C",
          "IRL: nan &deg;C",
          "ISR: 1.4 &deg;C",
          "ITA: nan &deg;C",
          "JAM: 2.1 &deg;C",
          "JPN: 4.5 &deg;C",
          "JOR: 1.3 &deg;C",
          "KAZ: 4.5 &deg;C",
          "KEN: 1.2 &deg;C",
          "KIR: 1.2 &deg;C",
          "KWT: 4.5 &deg;C",
          "KGZ: 1.2 &deg;C",
          "LAO: nan &deg;C",
          "LVA: nan &deg;C",
          "LBN: 1.5 &deg;C",
          "LSO: 1.2 &deg;C",
          "LBR: 1.2 &deg;C",
          "LBY: nan &deg;C",
          "LIE: nan &deg;C",
          "LTU: nan &deg;C",
          "LUX: nan &deg;C",
          "MKD: 1.8 &deg;C",
          "MDG: nan &deg;C",
          "MWI: nan &deg;C",
          "MYS: 4.5 &deg;C",
          "MDV: 1.4 &deg;C",
          "MLI: nan &deg;C",
          "MLT: nan &deg;C",
          "MHL: nan &deg;C",
          "MRT: 1.2 &deg;C",
          "MUS: 1.5 &deg;C",
          "MEX: 1.6 &deg;C",
          "FSM: 1.2 &deg;C",
          "MDA: 1.8 &deg;C",
          "MCO: nan &deg;C",
          "MNG: 4.5 &deg;C",
          "MNE: nan &deg;C",
          "MAR: 1.3 &deg;C",
          "MOZ: nan &deg;C",
          "MMR: nan &deg;C",
          "NAM: 1.2 &deg;C",
          "NRU: nan &deg;C",
          "NPL: nan &deg;C",
          "NLD: nan &deg;C",
          "NZL: 4.5 &deg;C",
          "NIC: nan &deg;C",
          "NER: 1.2 &deg;C",
          "NGA: 1.2 &deg;C",
          "NIU: nan &deg;C",
          "PRK: 2.9 &deg;C",
          "NOR: 1.4 &deg;C",
          "OMN: 4.5 &deg;C",
          "PAK: 1.2 &deg;C",
          "PLW: nan &deg;C",
          "PSE: nan &deg;C",
          "PAN: nan &deg;C",
          "PNG: nan &deg;C",
          "PRY: 4.5 &deg;C",
          "PER: 1.5 &deg;C",
          "PHL: 1.2 &deg;C",
          "POL: nan &deg;C",
          "PRT: nan &deg;C",
          "QAT: nan &deg;C",
          "ROU: nan &deg;C",
          "RUS: 4.5 &deg;C",
          "RWA: nan &deg;C",
          "KNA: nan &deg;C",
          "LCA: 1.4 &deg;C",
          "VCT: nan &deg;C",
          "WSM: nan &deg;C",
          "SMR: nan &deg;C",
          "STP: 1.2 &deg;C",
          "SAU: 4.5 &deg;C",
          "SEN: 1.2 &deg;C",
          "SRB: nan &deg;C",
          "SYC: 1.5 &deg;C",
          "SLE: nan &deg;C",
          "SGP: 4.5 &deg;C",
          "SVK: nan &deg;C",
          "SVN: nan &deg;C",
          "SLB: 1.3 &deg;C",
          "SOM: nan &deg;C",
          "ZAF: 4.5 &deg;C",
          "KOR: 4.5 &deg;C",
          "SSD: nan &deg;C",
          "ESP: nan &deg;C",
          "LKA: nan &deg;C",
          "SDN: nan &deg;C",
          "SUR: nan &deg;C",
          "SWE: nan &deg;C",
          "CHE: 1.3 &deg;C",
          "SYR: nan &deg;C",
          "TJK: 1.2 &deg;C",
          "TZA: 1.2 &deg;C",
          "THA: 4.0 &deg;C",
          "BHS: 4.5 &deg;C",
          "GMB: nan &deg;C",
          "TLS: nan &deg;C",
          "TGO: 1.2 &deg;C",
          "TON: nan &deg;C",
          "TTO: 4.5 &deg;C",
          "TUN: 1.3 &deg;C",
          "TUR: 2.4 &deg;C",
          "TKM: nan &deg;C",
          "TUV: nan &deg;C",
          "UGA: 1.2 &deg;C",
          "UKR: 4.5 &deg;C",
          "ARE: 4.5 &deg;C",
          "GBR: 2.0 &deg;C",
          "USA: 4.5 &deg;C",
          "URY: nan &deg;C",
          "UZB: 4.5 &deg;C",
          "VUT: nan &deg;C",
          "VEN: nan &deg;C",
          "VNM: 1.8 &deg;C",
          "YEM: 1.2 &deg;C",
          "ZMB: 1.2 &deg;C",
          "ZWE: nan &deg;C",
          "EU: 4.5 &deg;C",
          "EARTH: 2.0 &deg;C",
          "G20: nan &deg;C",
          "G7: nan &deg;C",
          "SIDS: nan &deg;C",
          "LDC: nan &deg;C",
          "Northern America: nan &deg;C",
          "Australasia: nan &deg;C",
          "African Group: nan &deg;C",
          "Umbrella: nan &deg;C"
         ],
         "type": "choropleth",
         "z": [
          null,
          2.000412030932126,
          1.489442688885069,
          null,
          1.1519050102175836,
          null,
          4.476241104043133,
          null,
          4.476241104043133,
          null,
          1.8354790115900617,
          null,
          1.1963980271152916,
          4.476241104043133,
          4.476241104043133,
          null,
          null,
          1.1519050102175836,
          null,
          null,
          4.476241104043133,
          4.476241104043133,
          2.4461429870270575,
          null,
          null,
          1.1867520758872505,
          1.3228888899583273,
          1.4635726121881292,
          1.170438503056261,
          4.476241104043133,
          null,
          1.4180660225948183,
          1.217639176253179,
          1.312870169959022,
          4.476241104043133,
          1.3852115206891893,
          1.1519050102175836,
          1.3045000533359914,
          null,
          1.162646036452533,
          1.1519050102175836,
          null,
          null,
          null,
          null,
          1.1658219872375688,
          null,
          1.180541041443059,
          null,
          1.2294486500217248,
          null,
          1.2691095057592432,
          null,
          3.6055778948785466,
          null,
          null,
          null,
          1.153556555850312,
          null,
          null,
          null,
          null,
          4.476241104043133,
          null,
          1.1519050102175836,
          null,
          1.1519050102175836,
          1.1902666546114906,
          1.1519050102175836,
          null,
          null,
          1.1519050102175836,
          null,
          1.2406079854243355,
          null,
          4.476241104043133,
          1.3230086067406137,
          1.7492408170701268,
          4.476241104043133,
          null,
          null,
          1.4402386016047186,
          null,
          2.0633664452989646,
          4.476241104043133,
          1.2552369523319051,
          4.476241104043133,
          1.1519050102175836,
          1.1519050102175836,
          4.476241104043133,
          1.1519050102175836,
          null,
          null,
          1.5174654737735827,
          1.1519050102175836,
          1.2084281840181785,
          null,
          null,
          null,
          null,
          1.8148299391029281,
          null,
          null,
          4.476241104043133,
          1.3504987310060088,
          null,
          null,
          null,
          1.2123090531842062,
          1.4625536400880517,
          1.6050124737705127,
          1.1519050102175836,
          1.8376291990298694,
          null,
          4.476241104043133,
          null,
          1.2609036448039297,
          null,
          null,
          1.1519050102175836,
          null,
          null,
          null,
          4.476241104043133,
          null,
          1.1519050102175836,
          1.1519050102175836,
          null,
          2.9380783976902234,
          1.4060265994734087,
          4.476241104043133,
          1.204681448151354,
          null,
          null,
          null,
          null,
          4.476241104043133,
          1.5243273859135713,
          1.1519050102175836,
          null,
          null,
          null,
          null,
          4.476241104043133,
          null,
          null,
          1.4374483574377497,
          null,
          null,
          null,
          1.1519050102175836,
          4.476241104043133,
          1.1519050102175836,
          null,
          1.5465681636779833,
          null,
          4.476241104043133,
          null,
          null,
          1.3262292542080274,
          null,
          4.476241104043133,
          4.476241104043133,
          null,
          null,
          null,
          null,
          null,
          null,
          1.3180141497304843,
          null,
          1.1676409859499866,
          1.1519050102175836,
          3.9530867841726494,
          4.476241104043133,
          null,
          null,
          1.21778398590172,
          null,
          4.476241104043133,
          1.3163321693762864,
          2.395003986537498,
          null,
          null,
          1.1519050102175836,
          4.476241104043133,
          4.476241104043133,
          2.0208502341835457,
          4.476241104043133,
          null,
          4.476241104043133,
          null,
          null,
          1.82081932113609,
          1.1519050102175836,
          1.2382036671457153,
          null,
          4.476241104043133,
          2.0143871051798463,
          null,
          null,
          null,
          null,
          null,
          null,
          null,
          null
         ],
         "zmax": 4.5,
         "zmin": 1
        },
        {
         "colorbar": {
          "title": {
           "side": "bottom"
          }
         },
         "colorscale": [
          [
           0,
           "rgb(255,255,255)"
          ],
          [
           0.125,
           "rgb(240,240,240)"
          ],
          [
           0.25,
           "rgb(217,217,217)"
          ],
          [
           0.375,
           "rgb(189,189,189)"
          ],
          [
           0.5,
           "rgb(150,150,150)"
          ],
          [
           0.625,
           "rgb(115,115,115)"
          ],
          [
           0.75,
           "rgb(82,82,82)"
          ],
          [
           0.875,
           "rgb(37,37,37)"
          ],
          [
           1,
           "rgb(0,0,0)"
          ]
         ],
         "geo": "geo2",
         "hovertemplate": "%{text}",
         "locationmode": "ISO-3",
         "locations": [
          "AFG",
          "AND",
          "ATG",
          "ARM",
          "AUT",
          "BHR",
          "BEL",
          "BLZ",
          "BTN",
          "BOL",
          "BRN",
          "BGR",
          "CPV",
          "COK",
          "HRV",
          "CUB",
          "CYP",
          "CZE",
          "DNK",
          "DMA",
          "ECU",
          "SLV",
          "ERI",
          "EST",
          "SWZ",
          "FJI",
          "FIN",
          "FRA",
          "GAB",
          "DEU",
          "GRC",
          "GRD",
          "GNB",
          "GUY",
          "VAT",
          "HUN",
          "IRQ",
          "IRL",
          "ITA",
          "KIR",
          "LAO",
          "LVA",
          "LBY",
          "LIE",
          "LTU",
          "LUX",
          "MDG",
          "MWI",
          "MLI",
          "MLT",
          "MHL",
          "FSM",
          "MCO",
          "MNE",
          "MOZ",
          "MMR",
          "NRU",
          "NPL",
          "NLD",
          "NIC",
          "NIU",
          "PRK",
          "PLW",
          "PSE",
          "PAN",
          "PNG",
          "POL",
          "PRT",
          "QAT",
          "ROU",
          "RWA",
          "KNA",
          "VCT",
          "WSM",
          "SMR",
          "SRB",
          "SYC",
          "SLE",
          "SVK",
          "SVN",
          "SOM",
          "SSD",
          "ESP",
          "LKA",
          "SDN",
          "SUR",
          "SWE",
          "SYR",
          "GMB",
          "TLS",
          "TON",
          "TKM",
          "TUV",
          "URY",
          "VUT",
          "VEN",
          "ZWE",
          "G20",
          "G7",
          "SIDS",
          "LDC",
          "Northern America",
          "Australasia",
          "African Group",
          "Umbrella",
          "GRL",
          "SOM"
         ],
         "marker": {
          "line": {
           "color": "black",
           "width": 0
          }
         },
         "name": "",
         "showscale": false,
         "text": [
          "AFG",
          "AND",
          "ATG",
          "ARM",
          "AUT",
          "BHR",
          "BEL",
          "BLZ",
          "BTN",
          "BOL",
          "BRN",
          "BGR",
          "CPV",
          "COK",
          "HRV",
          "CUB",
          "CYP",
          "CZE",
          "DNK",
          "DMA",
          "ECU",
          "SLV",
          "ERI",
          "EST",
          "SWZ",
          "FJI",
          "FIN",
          "FRA",
          "GAB",
          "DEU",
          "GRC",
          "GRD",
          "GNB",
          "GUY",
          "VAT",
          "HUN",
          "IRQ",
          "IRL",
          "ITA",
          "KIR",
          "LAO",
          "LVA",
          "LBY",
          "LIE",
          "LTU",
          "LUX",
          "MDG",
          "MWI",
          "MLI",
          "MLT",
          "MHL",
          "FSM",
          "MCO",
          "MNE",
          "MOZ",
          "MMR",
          "NRU",
          "NPL",
          "NLD",
          "NIC",
          "NIU",
          "PRK",
          "PLW",
          "PSE",
          "PAN",
          "PNG",
          "POL",
          "PRT",
          "QAT",
          "ROU",
          "RWA",
          "KNA",
          "VCT",
          "WSM",
          "SMR",
          "SRB",
          "SYC",
          "SLE",
          "SVK",
          "SVN",
          "SOM",
          "SSD",
          "ESP",
          "LKA",
          "SDN",
          "SUR",
          "SWE",
          "SYR",
          "GMB",
          "TLS",
          "TON",
          "TKM",
          "TUV",
          "URY",
          "VUT",
          "VEN",
          "ZWE",
          "G20",
          "G7",
          "SIDS",
          "LDC",
          "Northern America",
          "Australasia",
          "African Group",
          "Umbrella",
          "GRL",
          "SOM"
         ],
         "type": "choropleth",
         "z": [
          2,
          2,
          2,
          2,
          2,
          2,
          2,
          2,
          2,
          2,
          2,
          2,
          2,
          2,
          2,
          2,
          2,
          2,
          2,
          2,
          2,
          2,
          2,
          2,
          2,
          2,
          2,
          2,
          2,
          2,
          2,
          2,
          2,
          2,
          2,
          2,
          2,
          2,
          2,
          2,
          2,
          2,
          2,
          2,
          2,
          2,
          2,
          2,
          2,
          2,
          2,
          2,
          2,
          2,
          2,
          2,
          2,
          2,
          2,
          2,
          2,
          2,
          2,
          2,
          2,
          2,
          2,
          2,
          2,
          2,
          2,
          2,
          2,
          2,
          2,
          2,
          2,
          2,
          2,
          2,
          2,
          2,
          2,
          2,
          2,
          2,
          2,
          2,
          2,
          2,
          2,
          2,
          2,
          2,
          2,
          2,
          2,
          2,
          2,
          2,
          2,
          2,
          2,
          2,
          2,
          2,
          2
         ],
         "zmax": 4.5,
         "zmin": 0.5
        },
        {
         "colorbar": {
          "len": 0.4,
          "lenmode": "fraction",
          "orientation": "h",
          "thickness": 20,
          "thicknessmode": "pixels",
          "tickfont": {
           "size": 14
          },
          "ticktext": [
           "1.0  &deg;C",
           "1.5  &deg;C",
           "2.0 &deg;C",
           "2.5 &deg;C",
           "3.0 &deg;C",
           "3.5 &deg;C",
           "4.0 &deg;C",
           "4.5 &deg;C"
          ],
          "tickvals": [
           1,
           1.5,
           2,
           2.5,
           3,
           3.5,
           4,
           4.5
          ],
          "title": {
           "font": {
            "size": 14
           },
           "side": "bottom",
           "text": "<b>Climate target"
          },
          "x": 0.35,
          "xanchor": "left",
          "y": 0.52,
          "yanchor": "bottom"
         },
         "colorscale": [
          [
           0,
           "rgb(0,104,55)"
          ],
          [
           0.1,
           "rgb(26,152,80)"
          ],
          [
           0.2,
           "rgb(102,189,99)"
          ],
          [
           0.3,
           "rgb(166,217,106)"
          ],
          [
           0.4,
           "rgb(217,239,139)"
          ],
          [
           0.5,
           "rgb(255,255,191)"
          ],
          [
           0.6,
           "rgb(254,224,139)"
          ],
          [
           0.7,
           "rgb(253,174,97)"
          ],
          [
           0.8,
           "rgb(244,109,67)"
          ],
          [
           0.9,
           "rgb(215,48,39)"
          ],
          [
           1,
           "rgb(165,0,38)"
          ]
         ],
         "geo": "geo2",
         "hovertemplate": "%{text}",
         "locationmode": "ISO-3",
         "locations": [
          "AFG",
          "ALB",
          "DZA",
          "AND",
          "AGO",
          "ATG",
          "ARG",
          "ARM",
          "AUS",
          "AUT",
          "AZE",
          "BHR",
          "BGD",
          "BRB",
          "BLR",
          "BEL",
          "BLZ",
          "BEN",
          "BTN",
          "BOL",
          "BIH",
          "BWA",
          "BRA",
          "BRN",
          "BGR",
          "BFA",
          "BDI",
          "KHM",
          "CMR",
          "CAN",
          "CPV",
          "CAF",
          "TCD",
          "CHL",
          "CHN",
          "COL",
          "COM",
          "COG",
          "COK",
          "CRI",
          "CIV",
          "HRV",
          "CUB",
          "CYP",
          "CZE",
          "COD",
          "DNK",
          "DJI",
          "DMA",
          "DOM",
          "ECU",
          "EGY",
          "SLV",
          "GNQ",
          "ERI",
          "EST",
          "SWZ",
          "ETH",
          "FJI",
          "FIN",
          "FRA",
          "GAB",
          "GEO",
          "DEU",
          "GHA",
          "GRC",
          "GRD",
          "GTM",
          "GIN",
          "GNB",
          "GUY",
          "HTI",
          "VAT",
          "HND",
          "HUN",
          "ISL",
          "IND",
          "IDN",
          "IRN",
          "IRQ",
          "IRL",
          "ISR",
          "ITA",
          "JAM",
          "JPN",
          "JOR",
          "KAZ",
          "KEN",
          "KIR",
          "KWT",
          "KGZ",
          "LAO",
          "LVA",
          "LBN",
          "LSO",
          "LBR",
          "LBY",
          "LIE",
          "LTU",
          "LUX",
          "MKD",
          "MDG",
          "MWI",
          "MYS",
          "MDV",
          "MLI",
          "MLT",
          "MHL",
          "MRT",
          "MUS",
          "MEX",
          "FSM",
          "MDA",
          "MCO",
          "MNG",
          "MNE",
          "MAR",
          "MOZ",
          "MMR",
          "NAM",
          "NRU",
          "NPL",
          "NLD",
          "NZL",
          "NIC",
          "NER",
          "NGA",
          "NIU",
          "PRK",
          "NOR",
          "OMN",
          "PAK",
          "PLW",
          "PSE",
          "PAN",
          "PNG",
          "PRY",
          "PER",
          "PHL",
          "POL",
          "PRT",
          "QAT",
          "ROU",
          "RUS",
          "RWA",
          "KNA",
          "LCA",
          "VCT",
          "WSM",
          "SMR",
          "STP",
          "SAU",
          "SEN",
          "SRB",
          "SYC",
          "SLE",
          "SGP",
          "SVK",
          "SVN",
          "SLB",
          "SOM",
          "ZAF",
          "KOR",
          "SSD",
          "ESP",
          "LKA",
          "SDN",
          "SUR",
          "SWE",
          "CHE",
          "SYR",
          "TJK",
          "TZA",
          "THA",
          "BHS",
          "GMB",
          "TLS",
          "TGO",
          "TON",
          "TTO",
          "TUN",
          "TUR",
          "TKM",
          "TUV",
          "UGA",
          "UKR",
          "ARE",
          "GBR",
          "USA",
          "URY",
          "UZB",
          "VUT",
          "VEN",
          "VNM",
          "YEM",
          "ZMB",
          "ZWE",
          "EU",
          "EARTH",
          "G20",
          "G7",
          "SIDS",
          "LDC",
          "Northern America",
          "Australasia",
          "African Group",
          "Umbrella"
         ],
         "marker": {
          "line": {
           "color": "white",
           "width": 1
          }
         },
         "name": "",
         "showscale": false,
         "text": [
          "AFG: nan &deg;C",
          "ALB: 4.5 &deg;C",
          "DZA: 1.9 &deg;C",
          "AND: nan &deg;C",
          "AGO: 1.2 &deg;C",
          "ATG: nan &deg;C",
          "ARG: 4.5 &deg;C",
          "ARM: nan &deg;C",
          "AUS: 4.5 &deg;C",
          "AUT: nan &deg;C",
          "AZE: 3.9 &deg;C",
          "BHR: nan &deg;C",
          "BGD: 1.3 &deg;C",
          "BRB: 4.5 &deg;C",
          "BLR: 4.5 &deg;C",
          "BEL: nan &deg;C",
          "BLZ: nan &deg;C",
          "BEN: 1.2 &deg;C",
          "BTN: nan &deg;C",
          "BOL: nan &deg;C",
          "BIH: 4.5 &deg;C",
          "BWA: 4.5 &deg;C",
          "BRA: 4.5 &deg;C",
          "BRN: nan &deg;C",
          "BGR: nan &deg;C",
          "BFA: 1.2 &deg;C",
          "BDI: 1.2 &deg;C",
          "KHM: 1.5 &deg;C",
          "CMR: 1.2 &deg;C",
          "CAN: 4.5 &deg;C",
          "CPV: nan &deg;C",
          "CAF: 1.2 &deg;C",
          "TCD: 1.2 &deg;C",
          "CHL: 1.8 &deg;C",
          "CHN: 4.5 &deg;C",
          "COL: 1.9 &deg;C",
          "COM: 1.2 &deg;C",
          "COG: 1.2 &deg;C",
          "COK: nan &deg;C",
          "CRI: 1.6 &deg;C",
          "CIV: 1.2 &deg;C",
          "HRV: nan &deg;C",
          "CUB: nan &deg;C",
          "CYP: nan &deg;C",
          "CZE: nan &deg;C",
          "COD: 1.2 &deg;C",
          "DNK: nan &deg;C",
          "DJI: 1.2 &deg;C",
          "DMA: nan &deg;C",
          "DOM: 3.0 &deg;C",
          "ECU: nan &deg;C",
          "EGY: 3.1 &deg;C",
          "SLV: nan &deg;C",
          "GNQ: 4.5 &deg;C",
          "ERI: nan &deg;C",
          "EST: nan &deg;C",
          "SWZ: nan &deg;C",
          "ETH: 1.2 &deg;C",
          "FJI: nan &deg;C",
          "FIN: nan &deg;C",
          "FRA: nan &deg;C",
          "GAB: nan &deg;C",
          "GEO: 4.5 &deg;C",
          "DEU: nan &deg;C",
          "GHA: 1.2 &deg;C",
          "GRC: nan &deg;C",
          "GRD: nan &deg;C",
          "GTM: 1.4 &deg;C",
          "GIN: 1.2 &deg;C",
          "GNB: nan &deg;C",
          "GUY: nan &deg;C",
          "HTI: 1.2 &deg;C",
          "VAT: nan &deg;C",
          "HND: 1.3 &deg;C",
          "HUN: nan &deg;C",
          "ISL: 4.5 &deg;C",
          "IND: 1.4 &deg;C",
          "IDN: 4.5 &deg;C",
          "IRN: 4.5 &deg;C",
          "IRQ: nan &deg;C",
          "IRL: nan &deg;C",
          "ISR: 4.5 &deg;C",
          "ITA: nan &deg;C",
          "JAM: 1.9 &deg;C",
          "JPN: 4.5 &deg;C",
          "JOR: 1.4 &deg;C",
          "KAZ: 4.5 &deg;C",
          "KEN: 1.2 &deg;C",
          "KIR: nan &deg;C",
          "KWT: 4.5 &deg;C",
          "KGZ: 1.2 &deg;C",
          "LAO: nan &deg;C",
          "LVA: nan &deg;C",
          "LBN: 2.3 &deg;C",
          "LSO: 1.2 &deg;C",
          "LBR: 1.2 &deg;C",
          "LBY: nan &deg;C",
          "LIE: nan &deg;C",
          "LTU: nan &deg;C",
          "LUX: nan &deg;C",
          "MKD: 4.5 &deg;C",
          "MDG: nan &deg;C",
          "MWI: nan &deg;C",
          "MYS: 4.5 &deg;C",
          "MDV: 4.5 &deg;C",
          "MLI: nan &deg;C",
          "MLT: nan &deg;C",
          "MHL: nan &deg;C",
          "MRT: 1.3 &deg;C",
          "MUS: 4.5 &deg;C",
          "MEX: 4.5 &deg;C",
          "FSM: nan &deg;C",
          "MDA: 2.0 &deg;C",
          "MCO: nan &deg;C",
          "MNG: 4.5 &deg;C",
          "MNE: nan &deg;C",
          "MAR: 1.4 &deg;C",
          "MOZ: nan &deg;C",
          "MMR: nan &deg;C",
          "NAM: 1.2 &deg;C",
          "NRU: nan &deg;C",
          "NPL: nan &deg;C",
          "NLD: nan &deg;C",
          "NZL: 4.5 &deg;C",
          "NIC: nan &deg;C",
          "NER: 1.2 &deg;C",
          "NGA: 1.2 &deg;C",
          "NIU: nan &deg;C",
          "PRK: nan &deg;C",
          "NOR: 4.5 &deg;C",
          "OMN: 4.5 &deg;C",
          "PAK: 1.3 &deg;C",
          "PLW: nan &deg;C",
          "PSE: nan &deg;C",
          "PAN: nan &deg;C",
          "PNG: nan &deg;C",
          "PRY: 4.5 &deg;C",
          "PER: 4.2 &deg;C",
          "PHL: 1.2 &deg;C",
          "POL: nan &deg;C",
          "PRT: nan &deg;C",
          "QAT: nan &deg;C",
          "ROU: nan &deg;C",
          "RUS: 4.5 &deg;C",
          "RWA: nan &deg;C",
          "KNA: nan &deg;C",
          "LCA: 2.2 &deg;C",
          "VCT: nan &deg;C",
          "WSM: nan &deg;C",
          "SMR: nan &deg;C",
          "STP: 1.2 &deg;C",
          "SAU: 4.5 &deg;C",
          "SEN: 1.2 &deg;C",
          "SRB: nan &deg;C",
          "SYC: nan &deg;C",
          "SLE: nan &deg;C",
          "SGP: 4.5 &deg;C",
          "SVK: nan &deg;C",
          "SVN: nan &deg;C",
          "SLB: 1.2 &deg;C",
          "SOM: nan &deg;C",
          "ZAF: 4.4 &deg;C",
          "KOR: 4.5 &deg;C",
          "SSD: nan &deg;C",
          "ESP: nan &deg;C",
          "LKA: nan &deg;C",
          "SDN: nan &deg;C",
          "SUR: nan &deg;C",
          "SWE: nan &deg;C",
          "CHE: 4.5 &deg;C",
          "SYR: nan &deg;C",
          "TJK: 1.2 &deg;C",
          "TZA: 1.2 &deg;C",
          "THA: 4.5 &deg;C",
          "BHS: 4.5 &deg;C",
          "GMB: nan &deg;C",
          "TLS: nan &deg;C",
          "TGO: 1.2 &deg;C",
          "TON: nan &deg;C",
          "TTO: 4.5 &deg;C",
          "TUN: 1.4 &deg;C",
          "TUR: 4.5 &deg;C",
          "TKM: nan &deg;C",
          "TUV: nan &deg;C",
          "UGA: 1.2 &deg;C",
          "UKR: 4.5 &deg;C",
          "ARE: 4.5 &deg;C",
          "GBR: 4.5 &deg;C",
          "USA: 4.5 &deg;C",
          "URY: nan &deg;C",
          "UZB: 4.5 &deg;C",
          "VUT: nan &deg;C",
          "VEN: nan &deg;C",
          "VNM: 4.5 &deg;C",
          "YEM: 1.2 &deg;C",
          "ZMB: 1.2 &deg;C",
          "ZWE: nan &deg;C",
          "EU: 4.5 &deg;C",
          "EARTH: 4.5 &deg;C",
          "G20: nan &deg;C",
          "G7: nan &deg;C",
          "SIDS: nan &deg;C",
          "LDC: nan &deg;C",
          "Northern America: nan &deg;C",
          "Australasia: nan &deg;C",
          "African Group: nan &deg;C",
          "Umbrella: nan &deg;C"
         ],
         "type": "choropleth",
         "z": [
          null,
          4.476241104043133,
          1.8859249288662474,
          null,
          1.1692919851157821,
          null,
          4.476241104043133,
          null,
          4.476241104043133,
          null,
          3.874916420263787,
          null,
          1.3383616344737703,
          4.476241104043133,
          4.476241104043133,
          null,
          null,
          1.1519050102175836,
          null,
          null,
          4.476241104043133,
          4.476241104043133,
          4.476241104043133,
          null,
          null,
          1.1519050102175836,
          1.1519050102175836,
          1.461982144729091,
          1.1614387996019282,
          4.476241104043133,
          null,
          1.1519050102175836,
          1.1519050102175836,
          1.8207841015746444,
          4.476241104043133,
          1.932180504876202,
          1.1519050102175836,
          1.1947468827037637,
          null,
          1.572832655859413,
          1.1643399026141974,
          null,
          null,
          null,
          null,
          1.1519050102175836,
          null,
          1.1870856589068421,
          null,
          2.9768963807970774,
          null,
          3.1237903330040186,
          null,
          4.476241104043133,
          null,
          null,
          null,
          1.1519050102175836,
          null,
          null,
          null,
          null,
          4.476241104043133,
          null,
          1.1519050102175836,
          null,
          null,
          1.3609153796009772,
          1.1519050102175836,
          null,
          null,
          1.1519050102175836,
          null,
          1.2643219872840699,
          null,
          4.476241104043133,
          1.4323092844148837,
          4.476241104043133,
          4.476241104043133,
          null,
          null,
          4.476241104043133,
          null,
          1.901196715161658,
          4.476241104043133,
          1.426512936374414,
          4.476241104043133,
          1.1519050102175836,
          null,
          4.476241104043133,
          1.1519050102175836,
          null,
          null,
          2.2940606478551953,
          1.1519050102175836,
          1.1519050102175836,
          null,
          null,
          null,
          null,
          4.476241104043133,
          null,
          null,
          4.476241104043133,
          4.476241104043133,
          null,
          null,
          null,
          1.3021962784784562,
          4.476241104043133,
          4.476241104043133,
          null,
          2.0452493935990304,
          null,
          4.476241104043133,
          null,
          1.3562181085379872,
          null,
          null,
          1.1519050102175836,
          null,
          null,
          null,
          4.476241104043133,
          null,
          1.1519050102175836,
          1.1519050102175836,
          null,
          null,
          4.476241104043133,
          4.476241104043133,
          1.2756020402974084,
          null,
          null,
          null,
          null,
          4.476241104043133,
          4.204017187459485,
          1.1519050102175836,
          null,
          null,
          null,
          null,
          4.476241104043133,
          null,
          null,
          2.239938171608447,
          null,
          null,
          null,
          1.1519050102175836,
          4.476241104043133,
          1.1519050102175836,
          null,
          null,
          null,
          4.476241104043133,
          null,
          null,
          1.1519050102175836,
          null,
          4.4248498886476675,
          4.476241104043133,
          null,
          null,
          null,
          null,
          null,
          null,
          4.476241104043133,
          null,
          1.159042547702731,
          1.1519050102175836,
          4.476241104043133,
          4.476241104043133,
          null,
          null,
          1.1519050102175836,
          null,
          4.476241104043133,
          1.4235769302352104,
          4.476241104043133,
          null,
          null,
          1.1519050102175836,
          4.476241104043133,
          4.476241104043133,
          4.476241104043133,
          4.476241104043133,
          null,
          4.476241104043133,
          null,
          null,
          4.476241104043133,
          1.1519050102175836,
          1.1817727699562117,
          null,
          4.476241104043133,
          4.476241104043133,
          null,
          null,
          null,
          null,
          null,
          null,
          null,
          null
         ],
         "zmax": 4.5,
         "zmin": 1
        }
       ],
       "layout": {
        "annotations": [
         {
          "font": {
           "color": "black",
           "size": 20
          },
          "showarrow": false,
          "text": "<b>(a) NDC alignment of approach 1 (GDP)</b>",
          "x": 0.15,
          "xref": "paper",
          "y": 1.02,
          "yref": "paper"
         },
         {
          "font": {
           "color": "black",
           "size": 20
          },
          "showarrow": false,
          "text": "<b>(b) NDC alignment of approach 2",
          "x": 0.15,
          "xanchor": "left",
          "xref": "paper",
          "y": 0.52,
          "yref": "paper"
         }
        ],
        "geo": {
         "domain": {
          "x": [
           0,
           1
          ],
          "y": [
           0.5,
           1
          ]
         },
         "lakecolor": "rgb(255, 255, 255)",
         "landcolor": "grey",
         "projection": {
          "type": "natural earth"
         },
         "resolution": 110,
         "showcoastlines": false,
         "showlakes": false,
         "visible": false
        },
        "geo2": {
         "domain": {
          "x": [
           0,
           1
          ],
          "y": [
           0,
           0.5
          ]
         },
         "lakecolor": "rgb(255, 255, 255)",
         "landcolor": "grey",
         "projection": {
          "type": "natural earth"
         },
         "resolution": 110,
         "showcoastlines": false,
         "showlakes": false,
         "visible": false
        },
        "height": 1500,
        "template": {
         "data": {
          "bar": [
           {
            "error_x": {
             "color": "#2a3f5f"
            },
            "error_y": {
             "color": "#2a3f5f"
            },
            "marker": {
             "line": {
              "color": "#E5ECF6",
              "width": 0.5
             },
             "pattern": {
              "fillmode": "overlay",
              "size": 10,
              "solidity": 0.2
             }
            },
            "type": "bar"
           }
          ],
          "barpolar": [
           {
            "marker": {
             "line": {
              "color": "#E5ECF6",
              "width": 0.5
             },
             "pattern": {
              "fillmode": "overlay",
              "size": 10,
              "solidity": 0.2
             }
            },
            "type": "barpolar"
           }
          ],
          "carpet": [
           {
            "aaxis": {
             "endlinecolor": "#2a3f5f",
             "gridcolor": "white",
             "linecolor": "white",
             "minorgridcolor": "white",
             "startlinecolor": "#2a3f5f"
            },
            "baxis": {
             "endlinecolor": "#2a3f5f",
             "gridcolor": "white",
             "linecolor": "white",
             "minorgridcolor": "white",
             "startlinecolor": "#2a3f5f"
            },
            "type": "carpet"
           }
          ],
          "choropleth": [
           {
            "colorbar": {
             "outlinewidth": 0,
             "ticks": ""
            },
            "type": "choropleth"
           }
          ],
          "contour": [
           {
            "colorbar": {
             "outlinewidth": 0,
             "ticks": ""
            },
            "colorscale": [
             [
              0,
              "#0d0887"
             ],
             [
              0.1111111111111111,
              "#46039f"
             ],
             [
              0.2222222222222222,
              "#7201a8"
             ],
             [
              0.3333333333333333,
              "#9c179e"
             ],
             [
              0.4444444444444444,
              "#bd3786"
             ],
             [
              0.5555555555555556,
              "#d8576b"
             ],
             [
              0.6666666666666666,
              "#ed7953"
             ],
             [
              0.7777777777777778,
              "#fb9f3a"
             ],
             [
              0.8888888888888888,
              "#fdca26"
             ],
             [
              1,
              "#f0f921"
             ]
            ],
            "type": "contour"
           }
          ],
          "contourcarpet": [
           {
            "colorbar": {
             "outlinewidth": 0,
             "ticks": ""
            },
            "type": "contourcarpet"
           }
          ],
          "heatmap": [
           {
            "colorbar": {
             "outlinewidth": 0,
             "ticks": ""
            },
            "colorscale": [
             [
              0,
              "#0d0887"
             ],
             [
              0.1111111111111111,
              "#46039f"
             ],
             [
              0.2222222222222222,
              "#7201a8"
             ],
             [
              0.3333333333333333,
              "#9c179e"
             ],
             [
              0.4444444444444444,
              "#bd3786"
             ],
             [
              0.5555555555555556,
              "#d8576b"
             ],
             [
              0.6666666666666666,
              "#ed7953"
             ],
             [
              0.7777777777777778,
              "#fb9f3a"
             ],
             [
              0.8888888888888888,
              "#fdca26"
             ],
             [
              1,
              "#f0f921"
             ]
            ],
            "type": "heatmap"
           }
          ],
          "heatmapgl": [
           {
            "colorbar": {
             "outlinewidth": 0,
             "ticks": ""
            },
            "colorscale": [
             [
              0,
              "#0d0887"
             ],
             [
              0.1111111111111111,
              "#46039f"
             ],
             [
              0.2222222222222222,
              "#7201a8"
             ],
             [
              0.3333333333333333,
              "#9c179e"
             ],
             [
              0.4444444444444444,
              "#bd3786"
             ],
             [
              0.5555555555555556,
              "#d8576b"
             ],
             [
              0.6666666666666666,
              "#ed7953"
             ],
             [
              0.7777777777777778,
              "#fb9f3a"
             ],
             [
              0.8888888888888888,
              "#fdca26"
             ],
             [
              1,
              "#f0f921"
             ]
            ],
            "type": "heatmapgl"
           }
          ],
          "histogram": [
           {
            "marker": {
             "pattern": {
              "fillmode": "overlay",
              "size": 10,
              "solidity": 0.2
             }
            },
            "type": "histogram"
           }
          ],
          "histogram2d": [
           {
            "colorbar": {
             "outlinewidth": 0,
             "ticks": ""
            },
            "colorscale": [
             [
              0,
              "#0d0887"
             ],
             [
              0.1111111111111111,
              "#46039f"
             ],
             [
              0.2222222222222222,
              "#7201a8"
             ],
             [
              0.3333333333333333,
              "#9c179e"
             ],
             [
              0.4444444444444444,
              "#bd3786"
             ],
             [
              0.5555555555555556,
              "#d8576b"
             ],
             [
              0.6666666666666666,
              "#ed7953"
             ],
             [
              0.7777777777777778,
              "#fb9f3a"
             ],
             [
              0.8888888888888888,
              "#fdca26"
             ],
             [
              1,
              "#f0f921"
             ]
            ],
            "type": "histogram2d"
           }
          ],
          "histogram2dcontour": [
           {
            "colorbar": {
             "outlinewidth": 0,
             "ticks": ""
            },
            "colorscale": [
             [
              0,
              "#0d0887"
             ],
             [
              0.1111111111111111,
              "#46039f"
             ],
             [
              0.2222222222222222,
              "#7201a8"
             ],
             [
              0.3333333333333333,
              "#9c179e"
             ],
             [
              0.4444444444444444,
              "#bd3786"
             ],
             [
              0.5555555555555556,
              "#d8576b"
             ],
             [
              0.6666666666666666,
              "#ed7953"
             ],
             [
              0.7777777777777778,
              "#fb9f3a"
             ],
             [
              0.8888888888888888,
              "#fdca26"
             ],
             [
              1,
              "#f0f921"
             ]
            ],
            "type": "histogram2dcontour"
           }
          ],
          "mesh3d": [
           {
            "colorbar": {
             "outlinewidth": 0,
             "ticks": ""
            },
            "type": "mesh3d"
           }
          ],
          "parcoords": [
           {
            "line": {
             "colorbar": {
              "outlinewidth": 0,
              "ticks": ""
             }
            },
            "type": "parcoords"
           }
          ],
          "pie": [
           {
            "automargin": true,
            "type": "pie"
           }
          ],
          "scatter": [
           {
            "fillpattern": {
             "fillmode": "overlay",
             "size": 10,
             "solidity": 0.2
            },
            "type": "scatter"
           }
          ],
          "scatter3d": [
           {
            "line": {
             "colorbar": {
              "outlinewidth": 0,
              "ticks": ""
             }
            },
            "marker": {
             "colorbar": {
              "outlinewidth": 0,
              "ticks": ""
             }
            },
            "type": "scatter3d"
           }
          ],
          "scattercarpet": [
           {
            "marker": {
             "colorbar": {
              "outlinewidth": 0,
              "ticks": ""
             }
            },
            "type": "scattercarpet"
           }
          ],
          "scattergeo": [
           {
            "marker": {
             "colorbar": {
              "outlinewidth": 0,
              "ticks": ""
             }
            },
            "type": "scattergeo"
           }
          ],
          "scattergl": [
           {
            "marker": {
             "colorbar": {
              "outlinewidth": 0,
              "ticks": ""
             }
            },
            "type": "scattergl"
           }
          ],
          "scattermapbox": [
           {
            "marker": {
             "colorbar": {
              "outlinewidth": 0,
              "ticks": ""
             }
            },
            "type": "scattermapbox"
           }
          ],
          "scatterpolar": [
           {
            "marker": {
             "colorbar": {
              "outlinewidth": 0,
              "ticks": ""
             }
            },
            "type": "scatterpolar"
           }
          ],
          "scatterpolargl": [
           {
            "marker": {
             "colorbar": {
              "outlinewidth": 0,
              "ticks": ""
             }
            },
            "type": "scatterpolargl"
           }
          ],
          "scatterternary": [
           {
            "marker": {
             "colorbar": {
              "outlinewidth": 0,
              "ticks": ""
             }
            },
            "type": "scatterternary"
           }
          ],
          "surface": [
           {
            "colorbar": {
             "outlinewidth": 0,
             "ticks": ""
            },
            "colorscale": [
             [
              0,
              "#0d0887"
             ],
             [
              0.1111111111111111,
              "#46039f"
             ],
             [
              0.2222222222222222,
              "#7201a8"
             ],
             [
              0.3333333333333333,
              "#9c179e"
             ],
             [
              0.4444444444444444,
              "#bd3786"
             ],
             [
              0.5555555555555556,
              "#d8576b"
             ],
             [
              0.6666666666666666,
              "#ed7953"
             ],
             [
              0.7777777777777778,
              "#fb9f3a"
             ],
             [
              0.8888888888888888,
              "#fdca26"
             ],
             [
              1,
              "#f0f921"
             ]
            ],
            "type": "surface"
           }
          ],
          "table": [
           {
            "cells": {
             "fill": {
              "color": "#EBF0F8"
             },
             "line": {
              "color": "white"
             }
            },
            "header": {
             "fill": {
              "color": "#C8D4E3"
             },
             "line": {
              "color": "white"
             }
            },
            "type": "table"
           }
          ]
         },
         "layout": {
          "annotationdefaults": {
           "arrowcolor": "#2a3f5f",
           "arrowhead": 0,
           "arrowwidth": 1
          },
          "autotypenumbers": "strict",
          "coloraxis": {
           "colorbar": {
            "outlinewidth": 0,
            "ticks": ""
           }
          },
          "colorscale": {
           "diverging": [
            [
             0,
             "#8e0152"
            ],
            [
             0.1,
             "#c51b7d"
            ],
            [
             0.2,
             "#de77ae"
            ],
            [
             0.3,
             "#f1b6da"
            ],
            [
             0.4,
             "#fde0ef"
            ],
            [
             0.5,
             "#f7f7f7"
            ],
            [
             0.6,
             "#e6f5d0"
            ],
            [
             0.7,
             "#b8e186"
            ],
            [
             0.8,
             "#7fbc41"
            ],
            [
             0.9,
             "#4d9221"
            ],
            [
             1,
             "#276419"
            ]
           ],
           "sequential": [
            [
             0,
             "#0d0887"
            ],
            [
             0.1111111111111111,
             "#46039f"
            ],
            [
             0.2222222222222222,
             "#7201a8"
            ],
            [
             0.3333333333333333,
             "#9c179e"
            ],
            [
             0.4444444444444444,
             "#bd3786"
            ],
            [
             0.5555555555555556,
             "#d8576b"
            ],
            [
             0.6666666666666666,
             "#ed7953"
            ],
            [
             0.7777777777777778,
             "#fb9f3a"
            ],
            [
             0.8888888888888888,
             "#fdca26"
            ],
            [
             1,
             "#f0f921"
            ]
           ],
           "sequentialminus": [
            [
             0,
             "#0d0887"
            ],
            [
             0.1111111111111111,
             "#46039f"
            ],
            [
             0.2222222222222222,
             "#7201a8"
            ],
            [
             0.3333333333333333,
             "#9c179e"
            ],
            [
             0.4444444444444444,
             "#bd3786"
            ],
            [
             0.5555555555555556,
             "#d8576b"
            ],
            [
             0.6666666666666666,
             "#ed7953"
            ],
            [
             0.7777777777777778,
             "#fb9f3a"
            ],
            [
             0.8888888888888888,
             "#fdca26"
            ],
            [
             1,
             "#f0f921"
            ]
           ]
          },
          "colorway": [
           "#636efa",
           "#EF553B",
           "#00cc96",
           "#ab63fa",
           "#FFA15A",
           "#19d3f3",
           "#FF6692",
           "#B6E880",
           "#FF97FF",
           "#FECB52"
          ],
          "font": {
           "color": "#2a3f5f"
          },
          "geo": {
           "bgcolor": "white",
           "lakecolor": "white",
           "landcolor": "#E5ECF6",
           "showlakes": true,
           "showland": true,
           "subunitcolor": "white"
          },
          "hoverlabel": {
           "align": "left"
          },
          "hovermode": "closest",
          "mapbox": {
           "style": "light"
          },
          "paper_bgcolor": "white",
          "plot_bgcolor": "#E5ECF6",
          "polar": {
           "angularaxis": {
            "gridcolor": "white",
            "linecolor": "white",
            "ticks": ""
           },
           "bgcolor": "#E5ECF6",
           "radialaxis": {
            "gridcolor": "white",
            "linecolor": "white",
            "ticks": ""
           }
          },
          "scene": {
           "xaxis": {
            "backgroundcolor": "#E5ECF6",
            "gridcolor": "white",
            "gridwidth": 2,
            "linecolor": "white",
            "showbackground": true,
            "ticks": "",
            "zerolinecolor": "white"
           },
           "yaxis": {
            "backgroundcolor": "#E5ECF6",
            "gridcolor": "white",
            "gridwidth": 2,
            "linecolor": "white",
            "showbackground": true,
            "ticks": "",
            "zerolinecolor": "white"
           },
           "zaxis": {
            "backgroundcolor": "#E5ECF6",
            "gridcolor": "white",
            "gridwidth": 2,
            "linecolor": "white",
            "showbackground": true,
            "ticks": "",
            "zerolinecolor": "white"
           }
          },
          "shapedefaults": {
           "line": {
            "color": "#2a3f5f"
           }
          },
          "ternary": {
           "aaxis": {
            "gridcolor": "white",
            "linecolor": "white",
            "ticks": ""
           },
           "baxis": {
            "gridcolor": "white",
            "linecolor": "white",
            "ticks": ""
           },
           "bgcolor": "#E5ECF6",
           "caxis": {
            "gridcolor": "white",
            "linecolor": "white",
            "ticks": ""
           }
          },
          "title": {
           "x": 0.05
          },
          "xaxis": {
           "automargin": true,
           "gridcolor": "white",
           "linecolor": "white",
           "ticks": "",
           "title": {
            "standoff": 15
           },
           "zerolinecolor": "white",
           "zerolinewidth": 2
          },
          "yaxis": {
           "automargin": true,
           "gridcolor": "white",
           "linecolor": "white",
           "ticks": "",
           "title": {
            "standoff": 15
           },
           "zerolinecolor": "white",
           "zerolinewidth": 2
          }
         }
        },
        "width": 1450
       }
      }
     },
     "metadata": {},
     "output_type": "display_data"
    }
   ],
   "source": [
    "fig = make_subplots(rows=2, cols=1,\n",
    "                    specs=[[{'type': 'choropleth'}],\n",
    "                           [{'type': 'choropleth'}]],\n",
    "                    horizontal_spacing = 0., vertical_spacing=0.0)\n",
    "\n",
    "for i in range(2):\n",
    "    dath = [temps_1, temps_2][i]\n",
    "    dat = np.array(dath)\n",
    "    scale = 'RdYlGn_r'\n",
    "    dc = dict(orientation='h', x=0.35, y=0.52, xanchor='left', yanchor='bottom', title='<b>Climate target', tickvals=[1, 1.5, 2.0, 2.5, 3, 3.5, 4, 4.5],\n",
    "                        ticktext=['1.0  &deg;C', '1.5  &deg;C', '2.0 &deg;C', '2.5 &deg;C', '3.0 &deg;C', '3.5 &deg;C', '4.0 &deg;C', '4.5 &deg;C'],\n",
    "                        tickfont=dict(size=14),\n",
    "                        len=0.4, lenmode='fraction', thickness=20, thicknessmode='pixels', titlefont=dict(size=14))\n",
    "    # Grey out nans\n",
    "    wh = np.where(np.isnan(dat))[0]\n",
    "    fig.add_trace(go.Choropleth(\n",
    "            locations=list(np.array(dath.Region)[wh])+['GRL', 'SOM'],\n",
    "            z = [2]*(len(dat[wh])+2),\n",
    "            locationmode = 'ISO-3',\n",
    "            colorscale ='Greys',\n",
    "            zmax = 4.5,\n",
    "            zmin = 0.5,\n",
    "            text = [str(r) for r_i, r in enumerate(list(np.array(dath.Region)[wh])+['GRL', 'SOM'])],\n",
    "            hovertemplate  = '%{text}',\n",
    "            name=\"\",\n",
    "            marker_line_color='black', \n",
    "            marker_line_width=0,\n",
    "            showscale=False,\n",
    "        ), [1, 2][i], 1)\n",
    "    \n",
    "    # Make somaliland equal to SOM\n",
    "    data = data = [['SOM',float(dath.sel(Region='SOM'))],['SOL',float(dath.sel(Region='SOM'))]]\n",
    "    df = pd.DataFrame(data,columns=['sov_a3','population'])\n",
    "    \n",
    "    fig.add_trace(go.Choropleth(\n",
    "            locations=np.array((dath).Region),\n",
    "            z = dat,\n",
    "            locationmode = 'ISO-3',\n",
    "            colorscale = scale,\n",
    "                zmax = 4.5,\n",
    "                zmin = 1.0,\n",
    "            text = [str(r)+\": \"+str(np.round(dat[r_i], 1))+\" &deg;C\" for r_i, r in enumerate(np.array((dath).Region))],\n",
    "            hovertemplate  = '%{text}',\n",
    "            name=\"\",\n",
    "            colorbar=dc,\n",
    "            marker_line_color='white', \n",
    "            marker_line_width=1,\n",
    "            showscale=[True, False][i],\n",
    "        ), [1, 2][i], 1)\n",
    "\n",
    "fs=20\n",
    "fig['layout'].update(\n",
    "    annotations=[dict(x=0.15, y=1.02, text='<b>(a) NDC alignment of approach 1 (GDP)</b>', xref='paper', yref='paper', showarrow=False, font=dict(color='black', size=fs)),\n",
    "                 dict(x=0.15, y=0.52, text='<b>(b) NDC alignment of approach 2', xref='paper', yref='paper', xanchor='left', showarrow=False, font=dict(color='black', size=fs)),\n",
    "                 ])\n",
    "\n",
    "fig.update_geos(visible=False,\n",
    "                showlakes=False,\n",
    "                lakecolor='rgb(255, 255, 255)',\n",
    "                projection_type='natural earth',\n",
    "                resolution=110,\n",
    "                showcoastlines=False,)\n",
    "fig.update_traces(colorbar=dict(\n",
    "    title=dict(\n",
    "        side=\"bottom\"\n",
    "    )\n",
    "))\n",
    "fig.update_geos(landcolor=\"grey\")\n",
    "\n",
    "fig.update_layout(height=1500, width=1450)\n",
    "fig.write_image(path_figs / \"Figure_2.png\", scale=5)\n",
    "fig.show()"
   ]
  }
 ],
 "metadata": {
  "kernelspec": {
   "display_name": "Python 3",
   "language": "python",
   "name": "python3"
  },
  "language_info": {
   "codemirror_mode": {
    "name": "ipython",
    "version": 3
   },
   "file_extension": ".py",
   "mimetype": "text/x-python",
   "name": "python",
   "nbconvert_exporter": "python",
   "pygments_lexer": "ipython3",
   "version": "3.12.5"
  },
  "orig_nbformat": 4
 },
 "nbformat": 4,
 "nbformat_minor": 2
}
