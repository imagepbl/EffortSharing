{
 "cells": [
  {
   "attachments": {},
   "cell_type": "markdown",
   "metadata": {},
   "source": [
    "## Preambule"
   ]
  },
  {
   "cell_type": "code",
   "execution_count": 360,
   "metadata": {},
   "outputs": [],
   "source": [
    "# General packages\n",
    "import numpy as np\n",
    "import pandas as pd\n",
    "from tqdm import tqdm\n",
    "from pathlib import Path\n",
    "import xarray as xr\n",
    "import json\n",
    "\n",
    "# Plotting\n",
    "import matplotlib.pyplot as plt\n",
    "import plotly.express as px\n",
    "import plotly.graph_objects as go\n",
    "from plotly.subplots import make_subplots\n",
    "from plotly.colors import n_colors"
   ]
  },
  {
   "attachments": {},
   "cell_type": "markdown",
   "metadata": {},
   "source": [
    "## Parameter"
   ]
  },
  {
   "cell_type": "code",
   "execution_count": 361,
   "metadata": {},
   "outputs": [],
   "source": [
    "hist_startyear = 1990\n",
    "rules = ['GF', 'PC', 'PCC', 'ECPC', 'AP', 'GDR']"
   ]
  },
  {
   "attachments": {},
   "cell_type": "markdown",
   "metadata": {},
   "source": [
    "## Paths"
   ]
  },
  {
   "cell_type": "code",
   "execution_count": 362,
   "metadata": {},
   "outputs": [],
   "source": [
    "path_main = Path(\"X:/user/dekkerm/Projects/ECEMF_T5.2/\")\n",
    "path_data = path_main / \"Data\" / str(hist_startyear)\n",
    "path_figs = path_main / \"Figures\""
   ]
  },
  {
   "attachments": {},
   "cell_type": "markdown",
   "metadata": {},
   "source": [
    "## Read data files"
   ]
  },
  {
   "cell_type": "code",
   "execution_count": 363,
   "metadata": {},
   "outputs": [],
   "source": [
    "xr_total = xr.open_dataset(path_data / \"xr_total.nc\")\n",
    "all_regions_iso = np.load(path_data / \"all_regions.npy\")\n",
    "all_regions_names = np.load(path_data / \"all_regions_names.npy\")\n",
    "all_countries_iso = np.load(path_data / \"all_countries.npy\", allow_pickle=True)\n",
    "all_countries_names = np.load(path_data / \"all_countries_names.npy\", allow_pickle=True)\n",
    "only_regions_iso = ['CVF', 'G20', \"EU\", \"G7\", \"NA\", \"AU\", \"AF\", \"SIDS\", \"LDC\", \"WORLD\"]\n",
    "only_regions_names = ['Climate Vulnerability Forum','G20',\"European Union\",\"G7\",\"Northern America\",\"Australasia\",\"African Group\",\"Small Island Developing States\",\"Least Developed Countries\"]"
   ]
  },
  {
   "cell_type": "code",
   "execution_count": 364,
   "metadata": {},
   "outputs": [],
   "source": [
    "xr_budgets_static = xr.open_dataset(path_data / \"xr_budgets_static.nc\")\n",
    "#xr_budgets_linear = xr.open_dataset(path_data / \"xr_budgets_linear.nc\")\n",
    "xr_budgets_scenario = xr.open_dataset(path_data / \"xr_budgets_scenario.nc\")\n",
    "df_michel = pd.read_excel(Path(\"X:/user/dekkerm/Data/\") / \"NDC\" / \"NDC_comparison.xlsx\", sheet_name=\"Michel\")"
   ]
  },
  {
   "cell_type": "code",
   "execution_count": 365,
   "metadata": {},
   "outputs": [],
   "source": [
    "factor_lulucf = float(np.mean(xr_total.GHG_f_incl.sel(Time=2030)/xr_total.GHG_f.sel(Time=2030)))"
   ]
  },
  {
   "cell_type": "code",
   "execution_count": 366,
   "metadata": {},
   "outputs": [],
   "source": [
    "df = pd.read_excel(Path(\"X:/user/dekkerm/Data/\") / \"UNFCCC_Parties_Groups_noeu.xlsx\", sheet_name = \"Country groups\")\n",
    "countries_iso = np.array(df[\"Country ISO Code\"])\n",
    "group_cvf = countries_iso[np.array(df[\"CVF (24/10/22)\"]) == 1]\n",
    "group_g20 = countries_iso[np.array(df[\"G20\"]) == 1]\n",
    "group_eu = countries_iso[np.array(df[\"EU\"]) == 1]\n",
    "group_g7 = countries_iso[np.array(df[\"G7\"]) == 1]\n",
    "group_na = countries_iso[np.array(df[\"Northern America\"]) == 1]\n",
    "group_um = countries_iso[np.array(df[\"Umbrella\"]) == 1]\n",
    "group_au = countries_iso[np.array(df[\"Australasia\"]) == 1]\n",
    "group_af = countries_iso[np.array(df[\"African Group\"]) == 1]\n",
    "group_sids = countries_iso[np.array(df[\"SIDS\"]) == 1]\n",
    "group_ldc = countries_iso[np.array(df[\"LDC\"]) == 1]\n",
    "group_eg = countries_iso[np.array(df[\"European Group\"]) == 1]"
   ]
  },
  {
   "cell_type": "code",
   "execution_count": 367,
   "metadata": {},
   "outputs": [],
   "source": [
    "df = pd.read_csv(Path(\"X:/user/dekkerm/Data/\") / \"AllCountries.csv\")\n",
    "cont_iso = np.array(df['alpha-3']).astype(str)\n",
    "cont_reg = np.array(df['sub-region']).astype(str)\n",
    "unireg = np.unique(cont_reg)[:-1]"
   ]
  },
  {
   "attachments": {},
   "cell_type": "markdown",
   "metadata": {},
   "source": [
    "## Derive relationship between cumulative GHG and temperature assessment"
   ]
  },
  {
   "cell_type": "code",
   "execution_count": 368,
   "metadata": {},
   "outputs": [],
   "source": [
    "df_ar6_meta = pd.read_excel(\"X:/user/dekkerm/Data/IPCC/AR6_Scenarios_Database_metadata_indicators_v1.1.xlsx\", sheet_name='meta_Ch3vetted_withclimate')\n",
    "df_ar6_data = pd.read_csv(\"X:/user/dekkerm/Data/IPCC/AR6_Scenarios_Database_World_v1.1.csv\")"
   ]
  },
  {
   "cell_type": "code",
   "execution_count": 369,
   "metadata": {},
   "outputs": [],
   "source": [
    "mods = np.array(df_ar6_meta.Model)\n",
    "scens = np.array(df_ar6_meta.Scenario)\n",
    "modscens_meta = np.array([mods[i]+'|'+scens[i] for i in range(len(scens))])\n",
    "df_ar6_meta['ModelScenario'] = modscens_meta\n",
    "modcat = np.array([np.array(df_ar6_meta.ModelScenario), np.array(df_ar6_meta.Category)])\n",
    "mods = np.array(df_ar6_data.Model)\n",
    "scens = np.array(df_ar6_data.Scenario)\n",
    "modscens = np.array([mods[i]+'|'+scens[i] for i in range(len(scens))])\n",
    "df_ar6_data['ModelScenario'] = modscens"
   ]
  },
  {
   "cell_type": "code",
   "execution_count": 370,
   "metadata": {},
   "outputs": [
    {
     "name": "stderr",
     "output_type": "stream",
     "text": [
      "x:\\user\\dekkerm\\environments\\MyEnv\\lib\\site-packages\\xarray\\core\\missing.py:264: FutureWarning:\n",
      "\n",
      "is_monotonic is deprecated and will be removed in a future version. Use is_monotonic_increasing instead.\n",
      "\n"
     ]
    }
   ],
   "source": [
    "df_ar6_new = df_ar6_data[df_ar6_data.Variable.isin(['Emissions|CO2',\n",
    "                                                    'AR6 climate diagnostics|Surface Temperature (GSAT)|MAGICCv7.5.3|50.0th Percentile',\n",
    "                                                    'AR6 climate diagnostics|Surface Temperature (GSAT)|MAGICCv7.5.3|5.0th Percentile',\n",
    "                                                    'AR6 climate diagnostics|Surface Temperature (GSAT)|MAGICCv7.5.3|95.0th Percentile',\n",
    "                                                    \"Emissions|Kyoto Gases\"\n",
    "                                                    ])][['ModelScenario', 'Variable']+list(np.arange(2020, 2101).astype(str))]\n",
    "df_ar6_new = df_ar6_new.reset_index(drop=True)\n",
    "df_ar6_new = df_ar6_new.melt(id_vars = [\"ModelScenario\", 'Variable'], var_name='Time', value_name='Value')\n",
    "df_ar6_new['Time'] = df_ar6_new['Time'].astype(int)\n",
    "df_dummy = df_ar6_new.set_index(['ModelScenario', 'Variable', \"Time\"])\n",
    "xr_ar6_new = xr.Dataset.from_dataframe(df_dummy)\n",
    "xr_ar6_new = xr_ar6_new.reindex(Time = np.arange(2020, 2101))\n",
    "xr_ar6_new = xr_ar6_new.interpolate_na(dim=\"Time\", method=\"linear\")"
   ]
  },
  {
   "cell_type": "code",
   "execution_count": 371,
   "metadata": {},
   "outputs": [],
   "source": [
    "modscens = np.array(xr_ar6_new.ModelScenario)\n",
    "temperatures = np.array(xr_ar6_new.sel(Variable = \"AR6 climate diagnostics|Surface Temperature (GSAT)|MAGICCv7.5.3|50.0th Percentile\", Time=2100).Value)\n",
    "temperatures5 = np.array(xr_ar6_new.sel(Variable = \"AR6 climate diagnostics|Surface Temperature (GSAT)|MAGICCv7.5.3|5.0th Percentile\", Time=2100).Value)\n",
    "temperatures95 = np.array(xr_ar6_new.sel(Variable = \"AR6 climate diagnostics|Surface Temperature (GSAT)|MAGICCv7.5.3|95.0th Percentile\", Time=2100).Value)\n",
    "ghg_2030 = np.array(xr_ar6_new.sel(Variable = \"Emissions|Kyoto Gases\", Time=2030).Value)\n",
    "\n",
    "# Remove nans\n",
    "nonans_temp = np.where(~np.isnan(temperatures))[0]\n",
    "nonans_ghg = np.where(~np.isnan(ghg_2030))[0]\n",
    "nonans = np.intersect1d(nonans_temp, nonans_ghg)\n",
    "modscens = modscens[nonans]\n",
    "temperatures = temperatures[nonans]\n",
    "temperatures5 = temperatures5[nonans]\n",
    "temperatures95 = temperatures95[nonans]\n",
    "ghg_2030 = ghg_2030[nonans]\n",
    "\n",
    "# Remove zeros\n",
    "nozero_ghg = np.where(ghg_2030 > 0)[0]\n",
    "modscens = modscens[nozero_ghg]\n",
    "temperatures = temperatures[nozero_ghg]\n",
    "temperatures5 = temperatures5[nozero_ghg]\n",
    "temperatures95 = temperatures95[nozero_ghg]\n",
    "ghg_2030 = ghg_2030[nozero_ghg]/factor_lulucf\n",
    "\n",
    "# Linear regression\n",
    "k = 3\n",
    "coef_ghg_2030 = np.polyfit(ghg_2030, temperatures, k)"
   ]
  },
  {
   "cell_type": "code",
   "execution_count": 372,
   "metadata": {},
   "outputs": [
    {
     "name": "stdout",
     "output_type": "stream",
     "text": [
      "GF USA 0.12879119799959096\n",
      "GF CHN 0.26628051970694333\n",
      "GF EU 0.07716748222501402\n",
      "PC USA 0.04148390624528287\n",
      "PC CHN 0.16729675420899745\n",
      "PC EU 0.05241650133458042\n",
      "AP USA 0.09291677095756996\n",
      "AP CHN 0.28303564148735444\n",
      "AP EU 0.051766566905170903\n",
      "GDR USA 0.043832697573339074\n",
      "GDR CHN 0.33213054294648753\n",
      "GDR EU 0.03683566890245404\n"
     ]
    },
    {
     "data": {
      "image/png": "[encoded data removed]",
      "text/plain": [
       "<Figure size 1500x1200 with 1 Axes>"
      ]
     },
     "metadata": {},
     "output_type": "display_data"
    }
   ],
   "source": [
    "fig, ax = plt.subplots(figsize=(15, 12))\n",
    "ax.plot(ghg_2030, temperatures, '.')\n",
    "ax.plot(ghg_2030, temperatures5, '.', c='skyblue', ms=1)\n",
    "ax.plot(ghg_2030, temperatures95, '.', c='skyblue', ms=1)\n",
    "for i in range(len(ghg_2030)):\n",
    "    ax.plot([ghg_2030[i], ghg_2030[i]], [temperatures5[i], temperatures95[i]], 'grey', lw=0.2, zorder=-1e9)\n",
    "ax.set_ylim(ax.get_ylim())\n",
    "ax.plot(np.arange(1, 80000., 10), np.sum([np.arange(1, 80000., 10)**n*coef_ghg_2030[k-n] for n in range(k+1)], axis=0), '-')\n",
    "ax.plot(ghg_2030, np.sum([ghg_2030**n*coef_ghg_2030[k-n] for n in range(k+1)], axis=0), '.')\n",
    "for var in ['GF', 'PC', 'AP', 'GDR']:\n",
    "    for cty_i, cty in enumerate(['USA', 'CHN', 'EU']):\n",
    "        perc = np.array(xr_budgets_scenario.sel(Time=2030, ISO=cty)[var] / xr_budgets_scenario.sel(Time=2030, ISO='WORLD')[\"GF\"]).mean()\n",
    "        print(var, cty, perc)\n",
    "        ndc = float((xr_total.sel(ISO=cty, Time=2030).NDC_h+xr_total.sel(ISO=cty, Time=2030).NDC_l)/2)*1e3\n",
    "        ndc_globalversion = ndc/perc\n",
    "        inters = np.max([np.min([np.sum([ndc_globalversion**n*coef_ghg_2030[k-n] for n in range(k+1)], axis=0), ax.get_ylim()[1]]), ax.get_ylim()[0]])\n",
    "        ax.plot([ndc_globalversion, ndc_globalversion], [-1e3, inters], c=['k', 'tomato', 'purple'][cty_i], lw=0.5, zorder=-1e9)\n",
    "        ax.plot([10000, ndc_globalversion], [inters, inters], c=['k', 'tomato', 'purple'][cty_i], lw=0.5, zorder=-1e9)\n",
    "        ax.text(0, inters , cty+'-'+var+': '+str(np.round(inters, 2)), ha='left', c=['k', 'tomato', 'purple'][cty_i], va='center', fontsize=10)\n",
    "ax.set_ylabel(\"Temperature rise (MAGICC7 median)\")\n",
    "ax.set_xlabel(\"GHG (2030)\")\n",
    "ax.set_title(\"Polynomial fit with degree \"+str(k))\n",
    "plt.show()"
   ]
  },
  {
   "cell_type": "code",
   "execution_count": 373,
   "metadata": {},
   "outputs": [],
   "source": [
    "temps = np.zeros(shape=(len(rules), len(all_countries_iso)))\n",
    "for var_i, var in enumerate(rules):\n",
    "    for cty_i, cty in enumerate(all_countries_iso):\n",
    "        perc = np.array(xr_budgets_scenario.sel(Time=2030, ISO=cty)[var] / xr_budgets_scenario.sel(Time=2030, ISO='WORLD')[\"GF\"]).mean()\n",
    "        if perc < 0: perc = 1e-8\n",
    "        ndc = float((xr_total.sel(ISO=cty, Time=2030).NDC_h+xr_total.sel(ISO=cty, Time=2030).NDC_l)/2)*1e3\n",
    "        ndc_globalversion = ndc/perc\n",
    "        if ndc_globalversion < 25000:\n",
    "            if cty == 'USA':\n",
    "                print(cty, ndc_globalversion, perc, ndc, var)\n",
    "            temps[var_i, cty_i] = 1.345\n",
    "        else:\n",
    "            inters = np.sum([ndc_globalversion**n*coef_ghg_2030[k-n] for n in range(k+1)], axis=0)\n",
    "            temps[var_i, cty_i] = inters"
   ]
  },
  {
   "attachments": {},
   "cell_type": "markdown",
   "metadata": {},
   "source": [
    "## Plot"
   ]
  },
  {
   "cell_type": "code",
   "execution_count": 374,
   "metadata": {},
   "outputs": [
    {
     "data": {
      "text/plain": [
       "['GF', 'PC', 'PCC', 'ECPC', 'AP', 'GDR']"
      ]
     },
     "execution_count": 374,
     "metadata": {},
     "output_type": "execute_result"
    }
   ],
   "source": [
    "rules"
   ]
  },
  {
   "cell_type": "code",
   "execution_count": 375,
   "metadata": {},
   "outputs": [
    {
     "name": "stderr",
     "output_type": "stream",
     "text": [
      "C:\\Users\\dekkerm\\AppData\\Local\\Temp\\2\\ipykernel_3352\\165106681.py:72: RuntimeWarning:\n",
      "\n",
      "invalid value encountered in power\n",
      "\n",
      "C:\\Users\\dekkerm\\AppData\\Local\\Temp\\2\\ipykernel_3352\\165106681.py:72: RuntimeWarning:\n",
      "\n",
      "invalid value encountered in power\n",
      "\n",
      "C:\\Users\\dekkerm\\AppData\\Local\\Temp\\2\\ipykernel_3352\\165106681.py:72: RuntimeWarning:\n",
      "\n",
      "invalid value encountered in power\n",
      "\n",
      "C:\\Users\\dekkerm\\AppData\\Local\\Temp\\2\\ipykernel_3352\\165106681.py:72: RuntimeWarning:\n",
      "\n",
      "invalid value encountered in power\n",
      "\n",
      "C:\\Users\\dekkerm\\AppData\\Local\\Temp\\2\\ipykernel_3352\\165106681.py:72: RuntimeWarning:\n",
      "\n",
      "invalid value encountered in power\n",
      "\n",
      "C:\\Users\\dekkerm\\AppData\\Local\\Temp\\2\\ipykernel_3352\\165106681.py:72: RuntimeWarning:\n",
      "\n",
      "invalid value encountered in power\n",
      "\n"
     ]
    },
    {
     "data": {
      "application/vnd.plotly.v1+json": {
       "config": {
        "plotlyServerURL": "https://plotly.com"
       },
       "data": [
        {
         "colorbar": {
          "len": 1,
          "tickfont": {
           "size": 25
          },
          "tickvals": [
           0,
           5,
           10,
           15,
           20,
           25
          ],
          "title": {
           "text": "GHG budget<br>2020-2100<br>(Gt CO2e)"
          },
          "x": 1
         },
         "colorscale": [
          [
           0,
           "rgb(253, 237, 176)"
          ],
          [
           0.09090909090909091,
           "rgb(250, 205, 145)"
          ],
          [
           0.18181818181818182,
           "rgb(246, 173, 119)"
          ],
          [
           0.2727272727272727,
           "rgb(240, 142, 98)"
          ],
          [
           0.36363636363636365,
           "rgb(231, 109, 84)"
          ],
          [
           0.45454545454545453,
           "rgb(216, 80, 83)"
          ],
          [
           0.5454545454545454,
           "rgb(195, 56, 90)"
          ],
          [
           0.6363636363636364,
           "rgb(168, 40, 96)"
          ],
          [
           0.7272727272727273,
           "rgb(138, 29, 99)"
          ],
          [
           0.8181818181818182,
           "rgb(107, 24, 93)"
          ],
          [
           0.9090909090909091,
           "rgb(76, 21, 80)"
          ],
          [
           1,
           "rgb(47, 15, 61)"
          ]
         ],
         "geo": "geo",
         "hovertemplate": "%{text}",
         "locationmode": "ISO-3",
         "locations": [
          "AUT",
          "BEL",
          "BGR",
          "HRV",
          "CYP",
          "CZE",
          "DNK",
          "EST",
          "FIN",
          "FRA",
          "DEU",
          "GRC",
          "HUN",
          "IRL",
          "ITA",
          "LVA",
          "LTU",
          "LUX",
          "MLT",
          "NLD",
          "POL",
          "PRT",
          "ROU",
          "SVK",
          "SVN",
          "ESP",
          "SWE"
         ],
         "marker": {
          "line": {
           "color": "white",
           "width": 0.2
          }
         },
         "name": "",
         "showscale": true,
         "text": [
          "AUT: 2.36 Gt CO2e",
          "BEL: 3.09 Gt CO2e",
          "BGR: 1.43 Gt CO2e",
          "HRV: 0.58 Gt CO2e",
          "CYP: 0.2 Gt CO2e",
          "CZE: 2.84 Gt CO2e",
          "DNK: 1.08 Gt CO2e",
          "EST: 0.51 Gt CO2e",
          "FIN: 1.63 Gt CO2e",
          "FRA: 10.47 Gt CO2e",
          "DEU: 18.52 Gt CO2e",
          "GRC: 2.35 Gt CO2e",
          "HUN: 1.67 Gt CO2e",
          "IRL: 1.49 Gt CO2e",
          "ITA: 9.54 Gt CO2e",
          "LVA: 0.32 Gt CO2e",
          "LTU: 0.66 Gt CO2e",
          "LUX: 0.25 Gt CO2e",
          "MLT: 0.07 Gt CO2e",
          "NLD: 4.78 Gt CO2e",
          "POL: 9.9 Gt CO2e",
          "PRT: 2.13 Gt CO2e",
          "ROU: 2.54 Gt CO2e",
          "SVK: 1.02 Gt CO2e",
          "SVN: 0.42 Gt CO2e",
          "ESP: 7.62 Gt CO2e",
          "SWE: 1.56 Gt CO2e"
         ],
         "type": "choropleth",
         "z": [
          2.3555669387363913,
          3.0872988107925234,
          1.4298898119868302,
          0.5840625203444645,
          0.20007294115192478,
          2.8409448492857448,
          1.082648249382232,
          0.510964867674046,
          1.628346903053294,
          10.47209879257619,
          18.52496575841754,
          2.348816039653368,
          1.671206930850315,
          1.4947723964438897,
          9.53897754946354,
          0.3189762232797217,
          0.6598885143433207,
          0.24549402282393715,
          0.0650223852231538,
          4.775684508731331,
          9.897943969460542,
          2.133328431773951,
          2.539856537711343,
          1.016299364510925,
          0.4152269526816853,
          7.623707741477504,
          1.556740988701876
         ],
         "zmax": 25,
         "zmin": 0
        },
        {
         "colorbar": {
          "len": 1,
          "tickfont": {
           "size": 25
          },
          "tickvals": [
           0,
           5,
           10,
           15,
           20,
           25
          ],
          "title": {
           "text": "GHG budget<br>2020-2100<br>(Gt CO2e)"
          },
          "x": 1
         },
         "colorscale": [
          [
           0,
           "rgb(253, 237, 176)"
          ],
          [
           0.09090909090909091,
           "rgb(250, 205, 145)"
          ],
          [
           0.18181818181818182,
           "rgb(246, 173, 119)"
          ],
          [
           0.2727272727272727,
           "rgb(240, 142, 98)"
          ],
          [
           0.36363636363636365,
           "rgb(231, 109, 84)"
          ],
          [
           0.45454545454545453,
           "rgb(216, 80, 83)"
          ],
          [
           0.5454545454545454,
           "rgb(195, 56, 90)"
          ],
          [
           0.6363636363636364,
           "rgb(168, 40, 96)"
          ],
          [
           0.7272727272727273,
           "rgb(138, 29, 99)"
          ],
          [
           0.8181818181818182,
           "rgb(107, 24, 93)"
          ],
          [
           0.9090909090909091,
           "rgb(76, 21, 80)"
          ],
          [
           1,
           "rgb(47, 15, 61)"
          ]
         ],
         "geo": "geo2",
         "hovertemplate": "%{text}",
         "locationmode": "ISO-3",
         "locations": [
          "AUT",
          "BEL",
          "BGR",
          "HRV",
          "CYP",
          "CZE",
          "DNK",
          "EST",
          "FIN",
          "FRA",
          "DEU",
          "GRC",
          "HUN",
          "IRL",
          "ITA",
          "LVA",
          "LTU",
          "LUX",
          "MLT",
          "NLD",
          "POL",
          "PRT",
          "ROU",
          "SVK",
          "SVN",
          "ESP",
          "SWE"
         ],
         "marker": {
          "line": {
           "color": "white",
           "width": 0.2
          }
         },
         "name": "",
         "showscale": false,
         "text": [
          "AUT: 1.17 Gt CO2e",
          "BEL: 1.55 Gt CO2e",
          "BGR: 0.77 Gt CO2e",
          "HRV: 0.48 Gt CO2e",
          "CYP: 0.17 Gt CO2e",
          "CZE: 1.38 Gt CO2e",
          "DNK: 0.81 Gt CO2e",
          "EST: 0.16 Gt CO2e",
          "FIN: 0.72 Gt CO2e",
          "FRA: 8.52 Gt CO2e",
          "DEU: 10.58 Gt CO2e",
          "GRC: 1.26 Gt CO2e",
          "HUN: 1.22 Gt CO2e",
          "IRL: 0.7 Gt CO2e",
          "ITA: 7.21 Gt CO2e",
          "LVA: 0.21 Gt CO2e",
          "LTU: 0.32 Gt CO2e",
          "LUX: 0.09 Gt CO2e",
          "MLT: 0.07 Gt CO2e",
          "NLD: 2.32 Gt CO2e",
          "POL: 4.83 Gt CO2e",
          "PRT: 1.27 Gt CO2e",
          "ROU: 2.4 Gt CO2e",
          "SVK: 0.7 Gt CO2e",
          "SVN: 0.27 Gt CO2e",
          "ESP: 5.93 Gt CO2e",
          "SWE: 1.47 Gt CO2e"
         ],
         "type": "choropleth",
         "z": [
          1.1658659380982537,
          1.5503120433289008,
          0.7719849715958172,
          0.47740025505246114,
          0.1728589219426336,
          1.3770993140842116,
          0.8105996252406472,
          0.1619035732768184,
          0.7190487067549961,
          8.519980013798175,
          10.579350723491704,
          1.263827665155247,
          1.2173580440661744,
          0.7013397760020424,
          7.20807742586229,
          0.21154637586634295,
          0.3188434800456462,
          0.09396282135168636,
          0.06877930165503603,
          2.322549337972733,
          4.830815695360253,
          1.2673651201015728,
          2.401478700654772,
          0.7011536019838993,
          0.26824660331984107,
          5.9343609786636,
          1.4722783614969004
         ],
         "zmax": 25,
         "zmin": 0
        },
        {
         "colorbar": {
          "len": 1,
          "tickfont": {
           "size": 25
          },
          "tickvals": [
           0,
           5,
           10,
           15,
           20,
           25
          ],
          "title": {
           "text": "GHG budget<br>2020-2100<br>(Gt CO2e)"
          },
          "x": 1
         },
         "colorscale": [
          [
           0,
           "rgb(253, 237, 176)"
          ],
          [
           0.09090909090909091,
           "rgb(250, 205, 145)"
          ],
          [
           0.18181818181818182,
           "rgb(246, 173, 119)"
          ],
          [
           0.2727272727272727,
           "rgb(240, 142, 98)"
          ],
          [
           0.36363636363636365,
           "rgb(231, 109, 84)"
          ],
          [
           0.45454545454545453,
           "rgb(216, 80, 83)"
          ],
          [
           0.5454545454545454,
           "rgb(195, 56, 90)"
          ],
          [
           0.6363636363636364,
           "rgb(168, 40, 96)"
          ],
          [
           0.7272727272727273,
           "rgb(138, 29, 99)"
          ],
          [
           0.8181818181818182,
           "rgb(107, 24, 93)"
          ],
          [
           0.9090909090909091,
           "rgb(76, 21, 80)"
          ],
          [
           1,
           "rgb(47, 15, 61)"
          ]
         ],
         "geo": "geo3",
         "hovertemplate": "%{text}",
         "locationmode": "ISO-3",
         "locations": [
          "AUT",
          "BEL",
          "BGR",
          "HRV",
          "CYP",
          "CZE",
          "DNK",
          "EST",
          "FIN",
          "FRA",
          "DEU",
          "GRC",
          "HUN",
          "IRL",
          "ITA",
          "LVA",
          "LTU",
          "LUX",
          "MLT",
          "NLD",
          "POL",
          "PRT",
          "ROU",
          "SVK",
          "SVN",
          "ESP",
          "SWE"
         ],
         "marker": {
          "line": {
           "color": "white",
           "width": 0.2
          }
         },
         "name": "",
         "showscale": false,
         "text": [
          "AUT: 1.56 Gt CO2e",
          "BEL: 2.06 Gt CO2e",
          "BGR: 0.95 Gt CO2e",
          "HRV: 0.48 Gt CO2e",
          "CYP: 0.18 Gt CO2e",
          "CZE: 1.86 Gt CO2e",
          "DNK: 0.9 Gt CO2e",
          "EST: 0.28 Gt CO2e",
          "FIN: 1.02 Gt CO2e",
          "FRA: 8.97 Gt CO2e",
          "DEU: 13.0 Gt CO2e",
          "GRC: 1.58 Gt CO2e",
          "HUN: 1.32 Gt CO2e",
          "IRL: 0.98 Gt CO2e",
          "ITA: 7.65 Gt CO2e",
          "LVA: 0.23 Gt CO2e",
          "LTU: 0.42 Gt CO2e",
          "LUX: 0.15 Gt CO2e",
          "MLT: 0.06 Gt CO2e",
          "NLD: 3.14 Gt CO2e",
          "POL: 6.4 Gt CO2e",
          "PRT: 1.51 Gt CO2e",
          "ROU: 2.33 Gt CO2e",
          "SVK: 0.78 Gt CO2e",
          "SVN: 0.31 Gt CO2e",
          "ESP: 6.26 Gt CO2e",
          "SWE: 1.49 Gt CO2e"
         ],
         "type": "choropleth",
         "z": [
          1.5552266908702677,
          2.0629226537117793,
          0.9487359185015114,
          0.4848810697965789,
          0.17989552741284154,
          1.8628387454071065,
          0.8960746437462442,
          0.2787847211379267,
          1.0218189595713543,
          8.972981339037954,
          13.004083907027011,
          1.5842957558372603,
          1.318917648542244,
          0.9786106154956874,
          7.653501511443612,
          0.2344610321677788,
          0.4191806143411214,
          0.1484035384158736,
          0.06498096648939318,
          3.138309707095528,
          6.396079619076904,
          1.5149081505875905,
          2.327793761474863,
          0.7825330490099163,
          0.30978762755289724,
          6.2632147869681924,
          1.4867449460620004
         ],
         "zmax": 25,
         "zmin": 0
        },
        {
         "colorbar": {
          "len": 1,
          "tickfont": {
           "size": 25
          },
          "tickvals": [
           0,
           5,
           10,
           15,
           20,
           25
          ],
          "title": {
           "text": "GHG budget<br>2020-2100<br>(Gt CO2e)"
          },
          "x": 1
         },
         "colorscale": [
          [
           0,
           "rgb(253, 237, 176)"
          ],
          [
           0.09090909090909091,
           "rgb(250, 205, 145)"
          ],
          [
           0.18181818181818182,
           "rgb(246, 173, 119)"
          ],
          [
           0.2727272727272727,
           "rgb(240, 142, 98)"
          ],
          [
           0.36363636363636365,
           "rgb(231, 109, 84)"
          ],
          [
           0.45454545454545453,
           "rgb(216, 80, 83)"
          ],
          [
           0.5454545454545454,
           "rgb(195, 56, 90)"
          ],
          [
           0.6363636363636364,
           "rgb(168, 40, 96)"
          ],
          [
           0.7272727272727273,
           "rgb(138, 29, 99)"
          ],
          [
           0.8181818181818182,
           "rgb(107, 24, 93)"
          ],
          [
           0.9090909090909091,
           "rgb(76, 21, 80)"
          ],
          [
           1,
           "rgb(47, 15, 61)"
          ]
         ],
         "geo": "geo4",
         "hovertemplate": "%{text}",
         "locationmode": "ISO-3",
         "locations": [
          "AUT",
          "BEL",
          "BGR",
          "HRV",
          "CYP",
          "CZE",
          "DNK",
          "EST",
          "FIN",
          "FRA",
          "DEU",
          "GRC",
          "HUN",
          "IRL",
          "ITA",
          "LVA",
          "LTU",
          "LUX",
          "MLT",
          "NLD",
          "POL",
          "PRT",
          "ROU",
          "SVK",
          "SVN",
          "ESP",
          "SWE"
         ],
         "marker": {
          "line": {
           "color": "white",
           "width": 0.2
          }
         },
         "name": "",
         "showscale": false,
         "text": [
          "AUT: 0.11 Gt CO2e",
          "BEL: -0.23 Gt CO2e",
          "BGR: 0.33 Gt CO2e",
          "HRV: 0.47 Gt CO2e",
          "CYP: 0.13 Gt CO2e",
          "CZE: -0.49 Gt CO2e",
          "DNK: 0.03 Gt CO2e",
          "EST: -0.22 Gt CO2e",
          "FIN: -0.49 Gt CO2e",
          "FRA: 5.09 Gt CO2e",
          "DEU: -0.8 Gt CO2e",
          "GRC: 0.34 Gt CO2e",
          "HUN: 0.9 Gt CO2e",
          "IRL: -0.31 Gt CO2e",
          "ITA: 3.89 Gt CO2e",
          "LVA: 0.2 Gt CO2e",
          "LTU: 0.16 Gt CO2e",
          "LUX: -0.1 Gt CO2e",
          "MLT: 0.07 Gt CO2e",
          "NLD: -0.83 Gt CO2e",
          "POL: -0.09 Gt CO2e",
          "PRT: 0.89 Gt CO2e",
          "ROU: 2.27 Gt CO2e",
          "SVK: 0.32 Gt CO2e",
          "SVN: 0.08 Gt CO2e",
          "ESP: 3.84 Gt CO2e",
          "SWE: 1.01 Gt CO2e"
         ],
         "type": "choropleth",
         "z": [
          0.10913674011484972,
          -0.23113083460451503,
          0.3325875109576485,
          0.46669973412670274,
          0.132967462170369,
          -0.4855473964864231,
          0.03169214553139476,
          -0.22258652100282178,
          -0.49241553466813187,
          5.0900442370923855,
          -0.8003685618246229,
          0.337378096470985,
          0.9028100869994187,
          -0.3130659408604521,
          3.8943542278398984,
          0.20335394091549033,
          0.16322106109259732,
          -0.095821518054346,
          0.06577669095279896,
          -0.8320352414113728,
          -0.0905586483765308,
          0.8940533263397324,
          2.2738328047479524,
          0.3162444990179191,
          0.07781381853315243,
          3.84059341026928,
          1.0074897926423652
         ],
         "zmax": 25,
         "zmin": 0
        },
        {
         "colorbar": {
          "len": 1,
          "tickfont": {
           "size": 25
          },
          "tickvals": [
           0,
           5,
           10,
           15,
           20,
           25
          ],
          "title": {
           "text": "GHG budget<br>2020-2100<br>(Gt CO2e)"
          },
          "x": 1
         },
         "colorscale": [
          [
           0,
           "rgb(253, 237, 176)"
          ],
          [
           0.09090909090909091,
           "rgb(250, 205, 145)"
          ],
          [
           0.18181818181818182,
           "rgb(246, 173, 119)"
          ],
          [
           0.2727272727272727,
           "rgb(240, 142, 98)"
          ],
          [
           0.36363636363636365,
           "rgb(231, 109, 84)"
          ],
          [
           0.45454545454545453,
           "rgb(216, 80, 83)"
          ],
          [
           0.5454545454545454,
           "rgb(195, 56, 90)"
          ],
          [
           0.6363636363636364,
           "rgb(168, 40, 96)"
          ],
          [
           0.7272727272727273,
           "rgb(138, 29, 99)"
          ],
          [
           0.8181818181818182,
           "rgb(107, 24, 93)"
          ],
          [
           0.9090909090909091,
           "rgb(76, 21, 80)"
          ],
          [
           1,
           "rgb(47, 15, 61)"
          ]
         ],
         "geo": "geo5",
         "hovertemplate": "%{text}",
         "locationmode": "ISO-3",
         "locations": [
          "AUT",
          "BEL",
          "BGR",
          "HRV",
          "CYP",
          "CZE",
          "DNK",
          "EST",
          "FIN",
          "FRA",
          "DEU",
          "GRC",
          "HUN",
          "IRL",
          "ITA",
          "LVA",
          "LTU",
          "LUX",
          "MLT",
          "NLD",
          "POL",
          "PRT",
          "ROU",
          "SVK",
          "SVN",
          "ESP",
          "SWE"
         ],
         "marker": {
          "line": {
           "color": "white",
           "width": 0.2
          }
         },
         "name": "",
         "showscale": false,
         "text": [
          "AUT: -0.36 Gt CO2e",
          "BEL: -0.03 Gt CO2e",
          "BGR: 1.29 Gt CO2e",
          "HRV: 0.63 Gt CO2e",
          "CYP: 0.26 Gt CO2e",
          "CZE: 0.67 Gt CO2e",
          "DNK: 0.3 Gt CO2e",
          "EST: -0.02 Gt CO2e",
          "FIN: 0.27 Gt CO2e",
          "FRA: 0.98 Gt CO2e",
          "DEU: 0.86 Gt CO2e",
          "GRC: 0.27 Gt CO2e",
          "HUN: 1.13 Gt CO2e",
          "IRL: -0.35 Gt CO2e",
          "ITA: 3.36 Gt CO2e",
          "LVA: 0.15 Gt CO2e",
          "LTU: 0.54 Gt CO2e",
          "LUX: -0.16 Gt CO2e",
          "MLT: 0.03 Gt CO2e",
          "NLD: -0.46 Gt CO2e",
          "POL: 7.34 Gt CO2e",
          "PRT: 1.67 Gt CO2e",
          "ROU: 4.15 Gt CO2e",
          "SVK: 0.45 Gt CO2e",
          "SVN: 0.09 Gt CO2e",
          "ESP: 3.02 Gt CO2e",
          "SWE: 0.16 Gt CO2e"
         ],
         "type": "choropleth",
         "z": [
          -0.36001567125949824,
          -0.029418861195072615,
          1.2941700606394684,
          0.6317958404062207,
          0.25542908380614454,
          0.6695992235659955,
          0.300465703553462,
          -0.023869952820446856,
          0.2682124142974635,
          0.9750523250862304,
          0.8595750796345869,
          0.26574541702617516,
          1.127093347893137,
          -0.34831076532635397,
          3.3627871203262343,
          0.14985091034757775,
          0.5409724966847064,
          -0.16428753595208462,
          0.02835627533818459,
          -0.46374162388193857,
          7.3359014428645315,
          1.673790969220201,
          4.152051819018525,
          0.45424923234956466,
          0.09214563311368149,
          3.0214379467771697,
          0.1555243111592944
         ],
         "zmax": 25,
         "zmin": 0
        },
        {
         "colorbar": {
          "len": 1,
          "tickfont": {
           "size": 25
          },
          "tickvals": [
           0,
           5,
           10,
           15,
           20,
           25
          ],
          "title": {
           "text": "GHG budget<br>2020-2100<br>(Gt CO2e)"
          },
          "x": 1
         },
         "colorscale": [
          [
           0,
           "rgb(253, 237, 176)"
          ],
          [
           0.09090909090909091,
           "rgb(250, 205, 145)"
          ],
          [
           0.18181818181818182,
           "rgb(246, 173, 119)"
          ],
          [
           0.2727272727272727,
           "rgb(240, 142, 98)"
          ],
          [
           0.36363636363636365,
           "rgb(231, 109, 84)"
          ],
          [
           0.45454545454545453,
           "rgb(216, 80, 83)"
          ],
          [
           0.5454545454545454,
           "rgb(195, 56, 90)"
          ],
          [
           0.6363636363636364,
           "rgb(168, 40, 96)"
          ],
          [
           0.7272727272727273,
           "rgb(138, 29, 99)"
          ],
          [
           0.8181818181818182,
           "rgb(107, 24, 93)"
          ],
          [
           0.9090909090909091,
           "rgb(76, 21, 80)"
          ],
          [
           1,
           "rgb(47, 15, 61)"
          ]
         ],
         "geo": "geo6",
         "hovertemplate": "%{text}",
         "locationmode": "ISO-3",
         "locations": [
          "AUT",
          "BEL",
          "BGR",
          "HRV",
          "CYP",
          "CZE",
          "DNK",
          "EST",
          "FIN",
          "FRA",
          "DEU",
          "GRC",
          "HUN",
          "IRL",
          "ITA",
          "LVA",
          "LTU",
          "LUX",
          "MLT",
          "NLD",
          "POL",
          "PRT",
          "ROU",
          "SVK",
          "SVN",
          "ESP",
          "SWE"
         ],
         "marker": {
          "line": {
           "color": "white",
           "width": 0.2
          }
         },
         "name": "",
         "showscale": false,
         "text": [
          "AUT: -3.85 Gt CO2e",
          "BEL: -6.92 Gt CO2e",
          "BGR: 3.51 Gt CO2e",
          "HRV: 0.41 Gt CO2e",
          "CYP: 0.11 Gt CO2e",
          "CZE: -1.54 Gt CO2e",
          "DNK: -7.42 Gt CO2e",
          "EST: 0.41 Gt CO2e",
          "FIN: -2.54 Gt CO2e",
          "FRA: -46.1 Gt CO2e",
          "DEU: -69.89 Gt CO2e",
          "GRC: -0.6 Gt CO2e",
          "HUN: 1.18 Gt CO2e",
          "IRL: -7.91 Gt CO2e",
          "ITA: -23.7 Gt CO2e",
          "LVA: 0.39 Gt CO2e",
          "LTU: 0.76 Gt CO2e",
          "LUX: -1.64 Gt CO2e",
          "MLT: -0.18 Gt CO2e",
          "NLD: -14.49 Gt CO2e",
          "POL: 17.83 Gt CO2e",
          "PRT: 1.75 Gt CO2e",
          "ROU: 4.98 Gt CO2e",
          "SVK: 0.42 Gt CO2e",
          "SVN: -0.4 Gt CO2e",
          "ESP: -13.84 Gt CO2e",
          "SWE: -10.87 Gt CO2e"
         ],
         "type": "choropleth",
         "z": [
          -3.852265036706576,
          -6.923802635141952,
          3.5098007042910306,
          0.41229234019024097,
          0.10616559333137524,
          -1.538406309871588,
          -7.42478570835514,
          0.41072448703108144,
          -2.539179847957114,
          -46.09615492506293,
          -69.89091056966099,
          -0.5991380898933991,
          1.1800273987283285,
          -7.911915775033647,
          -23.701287259608495,
          0.3896717385819558,
          0.7584911039133351,
          -1.638897054487457,
          -0.17920262936899148,
          -14.4911000157705,
          17.832280645444218,
          1.748879368750907,
          4.978126371220617,
          0.4208989973634352,
          -0.4043074481691835,
          -13.836406642616577,
          -10.865358338888681
         ],
         "zmax": 25,
         "zmin": 0
        },
        {
         "featureidkey": "properties.NAME_3",
         "geo": "geo",
         "hoverinfo": "skip",
         "locations": [
          "AUT",
          "BEL",
          "BGR",
          "HRV",
          "CYP",
          "CZE",
          "DNK",
          "EST",
          "FIN",
          "FRA",
          "DEU",
          "GRC",
          "HUN",
          "IRL",
          "ITA",
          "LVA",
          "LTU",
          "LUX",
          "MLT",
          "NLD",
          "POL",
          "PRT",
          "ROU",
          "SVK",
          "SVN",
          "ESP",
          "SWE"
         ],
         "mode": "text",
         "showlegend": false,
         "text": [
          2.4,
          3.1,
          1.4,
          0.6,
          0.2,
          2.8,
          1.1,
          0.5,
          1.6,
          10.5,
          18.5,
          2.3,
          1.7,
          1.5,
          9.5,
          0.3,
          0.7,
          0.2,
          0.1,
          4.8,
          9.9,
          2.1,
          2.5,
          1,
          0.4,
          7.6,
          1.6
         ],
         "textfont": {
          "color": [
           "black",
           "black",
           "black",
           "black",
           "black",
           "black",
           "black",
           "black",
           "black",
           "black",
           "black",
           "black",
           "black",
           "black",
           "black",
           "black",
           "black",
           "black",
           "black",
           "black",
           "black",
           "black",
           "black",
           "black",
           "black",
           "black",
           "black"
          ],
          "size": [
           18.439695302735505,
           18.555559632019232,
           18.293121176993587,
           18.159190681987763,
           18.09838877251228,
           18.516551304506912,
           18.23813804411793,
           18.147616209394307,
           18.324545389367174,
           19.72488808340889,
           21,
           18.43862634780244,
           18.331331957731116,
           18.303394854302717,
           19.577135236905367,
           18.117216227703835,
           18.171197167248906,
           18.105580864813085,
           18.07700451595651,
           18.822903018216458,
           19.633974914219767,
           18.404505479067083,
           18.468876197534033,
           18.227632188984497,
           18.132456818733296,
           19.273866430154996,
           18.31320712250207
          ]
         },
         "type": "scattergeo"
        },
        {
         "featureidkey": "properties.NAME_3",
         "geo": "geo2",
         "hoverinfo": "skip",
         "locations": [
          "AUT",
          "BEL",
          "BGR",
          "HRV",
          "CYP",
          "CZE",
          "DNK",
          "EST",
          "FIN",
          "FRA",
          "DEU",
          "GRC",
          "HUN",
          "IRL",
          "ITA",
          "LVA",
          "LTU",
          "LUX",
          "MLT",
          "NLD",
          "POL",
          "PRT",
          "ROU",
          "SVK",
          "SVN",
          "ESP",
          "SWE"
         ],
         "mode": "text",
         "showlegend": false,
         "text": [
          1.2,
          1.6,
          0.8,
          0.5,
          0.2,
          1.4,
          0.8,
          0.2,
          0.7,
          8.5,
          10.6,
          1.3,
          1.2,
          0.7,
          7.2,
          0.2,
          0.3,
          0.1,
          0.1,
          2.3,
          4.8,
          1.3,
          2.4,
          0.7,
          0.3,
          5.9,
          1.5
         ],
         "textfont": {
          "color": [
           "black",
           "black",
           "black",
           "black",
           "black",
           "black",
           "black",
           "black",
           "black",
           "black",
           "black",
           "black",
           "black",
           "black",
           "black",
           "black",
           "black",
           "black",
           "black",
           "black",
           "black",
           "black",
           "black",
           "black",
           "black",
           "black",
           "black"
          ],
          "size": [
           18.251314949560808,
           18.31218914655748,
           18.188946812071872,
           18.142301501264754,
           18.094079633873914,
           18.284762192144594,
           18.195061156842055,
           18.09234493544993,
           18.180564746106462,
           19.415784514707248,
           19.741870633321593,
           18.266826464412606,
           18.259468343651207,
           18.177760667915557,
           19.20805444411505,
           18.100205506029752,
           18.117195208794627,
           18.08158701994364,
           18.077599395883404,
           18.434467209887387,
           18.83163263381107,
           18.267386594236633,
           18.446965090623742,
           18.177731188636926,
           18.109183567632662,
           19.00637086644385,
           18.29983309025834
          ]
         },
         "type": "scattergeo"
        },
        {
         "featureidkey": "properties.NAME_3",
         "geo": "geo3",
         "hoverinfo": "skip",
         "locations": [
          "AUT",
          "BEL",
          "BGR",
          "HRV",
          "CYP",
          "CZE",
          "DNK",
          "EST",
          "FIN",
          "FRA",
          "DEU",
          "GRC",
          "HUN",
          "IRL",
          "ITA",
          "LVA",
          "LTU",
          "LUX",
          "MLT",
          "NLD",
          "POL",
          "PRT",
          "ROU",
          "SVK",
          "SVN",
          "ESP",
          "SWE"
         ],
         "mode": "text",
         "showlegend": false,
         "text": [
          1.6,
          2.1,
          0.9,
          0.5,
          0.2,
          1.9,
          0.9,
          0.3,
          1,
          9,
          13,
          1.6,
          1.3,
          1,
          7.7,
          0.2,
          0.4,
          0.1,
          0.1,
          3.1,
          6.4,
          1.5,
          2.3,
          0.8,
          0.3,
          6.3,
          1.5
         ],
         "textfont": {
          "color": [
           "black",
           "black",
           "black",
           "black",
           "black",
           "black",
           "black",
           "black",
           "black",
           "black",
           "black",
           "black",
           "black",
           "black",
           "black",
           "black",
           "black",
           "black",
           "black",
           "black",
           "black",
           "black",
           "black",
           "black",
           "black",
           "black",
           "black"
          ],
          "size": [
           18.31296734464177,
           18.393357244905914,
           18.216934017079012,
           18.143486032943535,
           18.095193828300005,
           18.361675438056302,
           18.208595493759535,
           18.110852200638185,
           18.228506176033598,
           19.48751392368606,
           20.125809197064743,
           18.317570216054,
           18.275549555778642,
           18.22166445436345,
           19.278584053243158,
           18.10383387235425,
           18.133082851811636,
           18.09020730479012,
           18.076997957606395,
           18.563636830118725,
           19.079480597797982,
           18.306583202026218,
           18.43529762555569,
           18.190617022105755,
           18.11576128153898,
           19.058442434441215,
           18.30212376691419
          ]
         },
         "type": "scattergeo"
        },
        {
         "featureidkey": "properties.NAME_3",
         "geo": "geo4",
         "hoverinfo": "skip",
         "locations": [
          "AUT",
          "BEL",
          "BGR",
          "HRV",
          "CYP",
          "CZE",
          "DNK",
          "EST",
          "FIN",
          "FRA",
          "DEU",
          "GRC",
          "HUN",
          "IRL",
          "ITA",
          "LVA",
          "LTU",
          "LUX",
          "MLT",
          "NLD",
          "POL",
          "PRT",
          "ROU",
          "SVK",
          "SVN",
          "ESP",
          "SWE"
         ],
         "mode": "text",
         "showlegend": false,
         "text": [
          0.1,
          -0.2,
          0.3,
          0.5,
          0.1,
          -0.5,
          0,
          -0.2,
          -0.5,
          5.1,
          -0.8,
          0.3,
          0.9,
          -0.3,
          3.9,
          0.2,
          0.2,
          -0.1,
          0.1,
          -0.8,
          -0.1,
          0.9,
          2.3,
          0.3,
          0.1,
          3.8,
          1
         ],
         "textfont": {
          "color": [
           "black",
           "darkred",
           "black",
           "black",
           "black",
           "darkred",
           "black",
           "darkred",
           "darkred",
           "black",
           "darkred",
           "black",
           "black",
           "darkred",
           "black",
           "black",
           "black",
           "darkred",
           "black",
           "darkred",
           "darkred",
           "black",
           "black",
           "black",
           "black",
           "black",
           "black"
          ],
          "size": [
           18.08398969773757,
           18.030110844256615,
           18.119371474424277,
           18.14060715292844,
           18.08776311629805,
           17.989825863614335,
           18.071726919046725,
           18.031463773112737,
           17.988738344737218,
           18.87267955586818,
           17.939976260830555,
           18.120130028204116,
           18.209662001376273,
           18.017137026258965,
           18.683350887480387,
           18.098908294555123,
           18.09255354990004,
           18.051536073642716,
           18.077123954689164,
           17.934962076357966,
           18.052369410126495,
           18.2082754331,
           18.426753307209815,
           18.116783679373675,
           18.079029944802294,
           18.674838259689473,
           18.226237258443945
          ]
         },
         "type": "scattergeo"
        },
        {
         "featureidkey": "properties.NAME_3",
         "geo": "geo5",
         "hoverinfo": "skip",
         "locations": [
          "AUT",
          "BEL",
          "BGR",
          "HRV",
          "CYP",
          "CZE",
          "DNK",
          "EST",
          "FIN",
          "FRA",
          "DEU",
          "GRC",
          "HUN",
          "IRL",
          "ITA",
          "LVA",
          "LTU",
          "LUX",
          "MLT",
          "NLD",
          "POL",
          "PRT",
          "ROU",
          "SVK",
          "SVN",
          "ESP",
          "SWE"
         ],
         "mode": "text",
         "showlegend": false,
         "text": [
          -0.4,
          0,
          1.3,
          0.6,
          0.3,
          0.7,
          0.3,
          0,
          0.3,
          1,
          0.9,
          0.3,
          1.1,
          -0.3,
          3.4,
          0.1,
          0.5,
          -0.2,
          0,
          -0.5,
          7.3,
          1.7,
          4.2,
          0.5,
          0.1,
          3,
          0.2
         ],
         "textfont": {
          "color": [
           "darkred",
           "darkred",
           "black",
           "black",
           "black",
           "black",
           "black",
           "darkred",
           "black",
           "black",
           "black",
           "black",
           "black",
           "darkred",
           "black",
           "black",
           "black",
           "darkred",
           "black",
           "darkred",
           "black",
           "black",
           "black",
           "black",
           "black",
           "black",
           "black"
          ],
          "size": [
           18.00970288373972,
           18.06205044317269,
           18.271630958293354,
           18.166748900133847,
           18.107154008229486,
           18.172734786223728,
           18.114285223828396,
           18.062929071768266,
           18.109178154053865,
           18.221101025397957,
           18.202816057771507,
           18.10878752328446,
           18.24517559670457,
           18.011556269012473,
           18.59918116803343,
           18.090436485429223,
           18.152367695480248,
           18.040694986155085,
           18.07119870867723,
           17.99327864640789,
           19.228294431686862,
           18.33174112109273,
           18.724155394841866,
           18.138635708068996,
           18.081299281627984,
           18.545131051378426,
           18.091334826481337
          ]
         },
         "type": "scattergeo"
        },
        {
         "featureidkey": "properties.NAME_3",
         "geo": "geo6",
         "hoverinfo": "skip",
         "locations": [
          "AUT",
          "BEL",
          "BGR",
          "HRV",
          "CYP",
          "CZE",
          "DNK",
          "EST",
          "FIN",
          "FRA",
          "DEU",
          "GRC",
          "HUN",
          "IRL",
          "ITA",
          "LVA",
          "LTU",
          "LUX",
          "MLT",
          "NLD",
          "POL",
          "PRT",
          "ROU",
          "SVK",
          "SVN",
          "ESP",
          "SWE"
         ],
         "mode": "text",
         "showlegend": false,
         "text": [
          -3.9,
          -6.9,
          3.5,
          0.4,
          0.1,
          -1.5,
          -7.4,
          0.4,
          -2.5,
          -46.1,
          -69.9,
          -0.6,
          1.2,
          -7.9,
          -23.7,
          0.4,
          0.8,
          -1.6,
          -0.2,
          -14.5,
          17.8,
          1.7,
          5,
          0.4,
          -0.4,
          -13.8,
          -10.9
         ],
         "textfont": {
          "color": [
           "darkred",
           "darkred",
           "black",
           "black",
           "black",
           "darkred",
           "darkred",
           "black",
           "darkred",
           "darkred",
           "darkred",
           "darkred",
           "black",
           "darkred",
           "darkred",
           "black",
           "black",
           "darkred",
           "darkred",
           "darkred",
           "black",
           "black",
           "black",
           "black",
           "darkred",
           "darkred",
           "darkred"
          ],
          "size": [
           17.45673102906013,
           16.97037577066137,
           18.6224596815876,
           18.131992144552747,
           18.083519238622127,
           17.82311344272855,
           16.891048806814304,
           18.13174388660248,
           17.664648355743395,
           10.767723545353592,
           7,
           17.971839617549243,
           18.253557312098565,
           16.81391536408063,
           14.313785184249479,
           18.128410339613765,
           18.18681015793915,
           17.807201476653567,
           18.038333291440193,
           15.772150206106796,
           20.890318436186252,
           18.34363081372586,
           18.854958189669297,
           18.13335494505226,
           18.00268960849451,
           15.875816058946892,
           16.346259580852937
          ]
         },
         "type": "scattergeo"
        }
       ],
       "layout": {
        "annotations": [
         {
          "align": "left",
          "ax": 0,
          "ay": 0,
          "font": {
           "color": "black",
           "size": 25
          },
          "showarrow": false,
          "text": "<b>(a) Grandfathering</b>",
          "x": 0.07,
          "xref": "paper",
          "y": 0.96,
          "yref": "paper"
         },
         {
          "align": "left",
          "ax": 0,
          "ay": 0,
          "font": {
           "color": "black",
           "size": 25
          },
          "showarrow": false,
          "text": "<b>(b) Per Capita</b>",
          "x": 0.47,
          "xref": "paper",
          "y": 0.96,
          "yref": "paper"
         },
         {
          "align": "left",
          "ax": 0,
          "ay": 0,
          "font": {
           "color": "black",
           "size": 25
          },
          "showarrow": false,
          "text": "<b>(c) Per Capita Convergence</b>",
          "x": 0.9,
          "xref": "paper",
          "y": 0.96,
          "yref": "paper"
         },
         {
          "align": "left",
          "ax": 0,
          "ay": 0,
          "font": {
           "color": "black",
           "size": 25
          },
          "showarrow": false,
          "text": "<b>(d) Equal Cumulative per Capita</b>",
          "x": 0.07,
          "xref": "paper",
          "y": 0.45,
          "yref": "paper"
         },
         {
          "align": "left",
          "ax": 0,
          "ay": 0,
          "font": {
           "color": "black",
           "size": 25
          },
          "showarrow": false,
          "text": "<b>(e) Ability to Pay</b>",
          "x": 0.48,
          "xref": "paper",
          "y": 0.45,
          "yref": "paper"
         },
         {
          "align": "left",
          "ax": 0,
          "ay": 0,
          "font": {
           "color": "black",
           "size": 25
          },
          "showarrow": false,
          "text": "<b>(f) Greenhouse Development Rights</b>",
          "x": 0.95,
          "xref": "paper",
          "y": 0.45,
          "yref": "paper"
         }
        ],
        "geo": {
         "domain": {
          "x": [
           0,
           0.3333333333333333
          ],
          "y": [
           0.5,
           1
          ]
         },
         "lakecolor": "rgb(255, 255, 255)",
         "lataxis": {
          "range": [
           30,
           75
          ]
         },
         "lonaxis": {
          "range": [
           -20,
           40
          ]
         },
         "projection": {
          "type": "natural earth"
         },
         "resolution": 50,
         "scope": "europe",
         "showcoastlines": false,
         "showcountries": false,
         "showlakes": true,
         "visible": true
        },
        "geo2": {
         "domain": {
          "x": [
           0.3333333333333333,
           0.6666666666666666
          ],
          "y": [
           0.5,
           1
          ]
         },
         "lakecolor": "rgb(255, 255, 255)",
         "lataxis": {
          "range": [
           30,
           75
          ]
         },
         "lonaxis": {
          "range": [
           -20,
           40
          ]
         },
         "projection": {
          "type": "natural earth"
         },
         "resolution": 50,
         "scope": "europe",
         "showcoastlines": false,
         "showcountries": false,
         "showlakes": true,
         "visible": true
        },
        "geo3": {
         "domain": {
          "x": [
           0.6666666666666666,
           1
          ],
          "y": [
           0.5,
           1
          ]
         },
         "lakecolor": "rgb(255, 255, 255)",
         "lataxis": {
          "range": [
           30,
           75
          ]
         },
         "lonaxis": {
          "range": [
           -20,
           40
          ]
         },
         "projection": {
          "type": "natural earth"
         },
         "resolution": 50,
         "scope": "europe",
         "showcoastlines": false,
         "showcountries": false,
         "showlakes": true,
         "visible": true
        },
        "geo4": {
         "domain": {
          "x": [
           0,
           0.3333333333333333
          ],
          "y": [
           0,
           0.5
          ]
         },
         "lakecolor": "rgb(255, 255, 255)",
         "lataxis": {
          "range": [
           30,
           75
          ]
         },
         "lonaxis": {
          "range": [
           -20,
           40
          ]
         },
         "projection": {
          "type": "natural earth"
         },
         "resolution": 50,
         "scope": "europe",
         "showcoastlines": false,
         "showcountries": false,
         "showlakes": true,
         "visible": true
        },
        "geo5": {
         "domain": {
          "x": [
           0.3333333333333333,
           0.6666666666666666
          ],
          "y": [
           0,
           0.5
          ]
         },
         "lakecolor": "rgb(255, 255, 255)",
         "lataxis": {
          "range": [
           30,
           75
          ]
         },
         "lonaxis": {
          "range": [
           -20,
           40
          ]
         },
         "projection": {
          "type": "natural earth"
         },
         "resolution": 50,
         "scope": "europe",
         "showcoastlines": false,
         "showcountries": false,
         "showlakes": true,
         "visible": true
        },
        "geo6": {
         "domain": {
          "x": [
           0.6666666666666666,
           1
          ],
          "y": [
           0,
           0.5
          ]
         },
         "lakecolor": "rgb(255, 255, 255)",
         "lataxis": {
          "range": [
           30,
           75
          ]
         },
         "lonaxis": {
          "range": [
           -20,
           40
          ]
         },
         "projection": {
          "type": "natural earth"
         },
         "resolution": 50,
         "scope": "europe",
         "showcoastlines": false,
         "showcountries": false,
         "showlakes": true,
         "visible": true
        },
        "height": 1200,
        "margin": {
         "b": 0,
         "l": 0,
         "r": 0,
         "t": 0
        },
        "template": {
         "data": {
          "bar": [
           {
            "error_x": {
             "color": "#2a3f5f"
            },
            "error_y": {
             "color": "#2a3f5f"
            },
            "marker": {
             "line": {
              "color": "#E5ECF6",
              "width": 0.5
             },
             "pattern": {
              "fillmode": "overlay",
              "size": 10,
              "solidity": 0.2
             }
            },
            "type": "bar"
           }
          ],
          "barpolar": [
           {
            "marker": {
             "line": {
              "color": "#E5ECF6",
              "width": 0.5
             },
             "pattern": {
              "fillmode": "overlay",
              "size": 10,
              "solidity": 0.2
             }
            },
            "type": "barpolar"
           }
          ],
          "carpet": [
           {
            "aaxis": {
             "endlinecolor": "#2a3f5f",
             "gridcolor": "white",
             "linecolor": "white",
             "minorgridcolor": "white",
             "startlinecolor": "#2a3f5f"
            },
            "baxis": {
             "endlinecolor": "#2a3f5f",
             "gridcolor": "white",
             "linecolor": "white",
             "minorgridcolor": "white",
             "startlinecolor": "#2a3f5f"
            },
            "type": "carpet"
           }
          ],
          "choropleth": [
           {
            "colorbar": {
             "outlinewidth": 0,
             "ticks": ""
            },
            "type": "choropleth"
           }
          ],
          "contour": [
           {
            "colorbar": {
             "outlinewidth": 0,
             "ticks": ""
            },
            "colorscale": [
             [
              0,
              "#0d0887"
             ],
             [
              0.1111111111111111,
              "#46039f"
             ],
             [
              0.2222222222222222,
              "#7201a8"
             ],
             [
              0.3333333333333333,
              "#9c179e"
             ],
             [
              0.4444444444444444,
              "#bd3786"
             ],
             [
              0.5555555555555556,
              "#d8576b"
             ],
             [
              0.6666666666666666,
              "#ed7953"
             ],
             [
              0.7777777777777778,
              "#fb9f3a"
             ],
             [
              0.8888888888888888,
              "#fdca26"
             ],
             [
              1,
              "#f0f921"
             ]
            ],
            "type": "contour"
           }
          ],
          "contourcarpet": [
           {
            "colorbar": {
             "outlinewidth": 0,
             "ticks": ""
            },
            "type": "contourcarpet"
           }
          ],
          "heatmap": [
           {
            "colorbar": {
             "outlinewidth": 0,
             "ticks": ""
            },
            "colorscale": [
             [
              0,
              "#0d0887"
             ],
             [
              0.1111111111111111,
              "#46039f"
             ],
             [
              0.2222222222222222,
              "#7201a8"
             ],
             [
              0.3333333333333333,
              "#9c179e"
             ],
             [
              0.4444444444444444,
              "#bd3786"
             ],
             [
              0.5555555555555556,
              "#d8576b"
             ],
             [
              0.6666666666666666,
              "#ed7953"
             ],
             [
              0.7777777777777778,
              "#fb9f3a"
             ],
             [
              0.8888888888888888,
              "#fdca26"
             ],
             [
              1,
              "#f0f921"
             ]
            ],
            "type": "heatmap"
           }
          ],
          "heatmapgl": [
           {
            "colorbar": {
             "outlinewidth": 0,
             "ticks": ""
            },
            "colorscale": [
             [
              0,
              "#0d0887"
             ],
             [
              0.1111111111111111,
              "#46039f"
             ],
             [
              0.2222222222222222,
              "#7201a8"
             ],
             [
              0.3333333333333333,
              "#9c179e"
             ],
             [
              0.4444444444444444,
              "#bd3786"
             ],
             [
              0.5555555555555556,
              "#d8576b"
             ],
             [
              0.6666666666666666,
              "#ed7953"
             ],
             [
              0.7777777777777778,
              "#fb9f3a"
             ],
             [
              0.8888888888888888,
              "#fdca26"
             ],
             [
              1,
              "#f0f921"
             ]
            ],
            "type": "heatmapgl"
           }
          ],
          "histogram": [
           {
            "marker": {
             "pattern": {
              "fillmode": "overlay",
              "size": 10,
              "solidity": 0.2
             }
            },
            "type": "histogram"
           }
          ],
          "histogram2d": [
           {
            "colorbar": {
             "outlinewidth": 0,
             "ticks": ""
            },
            "colorscale": [
             [
              0,
              "#0d0887"
             ],
             [
              0.1111111111111111,
              "#46039f"
             ],
             [
              0.2222222222222222,
              "#7201a8"
             ],
             [
              0.3333333333333333,
              "#9c179e"
             ],
             [
              0.4444444444444444,
              "#bd3786"
             ],
             [
              0.5555555555555556,
              "#d8576b"
             ],
             [
              0.6666666666666666,
              "#ed7953"
             ],
             [
              0.7777777777777778,
              "#fb9f3a"
             ],
             [
              0.8888888888888888,
              "#fdca26"
             ],
             [
              1,
              "#f0f921"
             ]
            ],
            "type": "histogram2d"
           }
          ],
          "histogram2dcontour": [
           {
            "colorbar": {
             "outlinewidth": 0,
             "ticks": ""
            },
            "colorscale": [
             [
              0,
              "#0d0887"
             ],
             [
              0.1111111111111111,
              "#46039f"
             ],
             [
              0.2222222222222222,
              "#7201a8"
             ],
             [
              0.3333333333333333,
              "#9c179e"
             ],
             [
              0.4444444444444444,
              "#bd3786"
             ],
             [
              0.5555555555555556,
              "#d8576b"
             ],
             [
              0.6666666666666666,
              "#ed7953"
             ],
             [
              0.7777777777777778,
              "#fb9f3a"
             ],
             [
              0.8888888888888888,
              "#fdca26"
             ],
             [
              1,
              "#f0f921"
             ]
            ],
            "type": "histogram2dcontour"
           }
          ],
          "mesh3d": [
           {
            "colorbar": {
             "outlinewidth": 0,
             "ticks": ""
            },
            "type": "mesh3d"
           }
          ],
          "parcoords": [
           {
            "line": {
             "colorbar": {
              "outlinewidth": 0,
              "ticks": ""
             }
            },
            "type": "parcoords"
           }
          ],
          "pie": [
           {
            "automargin": true,
            "type": "pie"
           }
          ],
          "scatter": [
           {
            "fillpattern": {
             "fillmode": "overlay",
             "size": 10,
             "solidity": 0.2
            },
            "type": "scatter"
           }
          ],
          "scatter3d": [
           {
            "line": {
             "colorbar": {
              "outlinewidth": 0,
              "ticks": ""
             }
            },
            "marker": {
             "colorbar": {
              "outlinewidth": 0,
              "ticks": ""
             }
            },
            "type": "scatter3d"
           }
          ],
          "scattercarpet": [
           {
            "marker": {
             "colorbar": {
              "outlinewidth": 0,
              "ticks": ""
             }
            },
            "type": "scattercarpet"
           }
          ],
          "scattergeo": [
           {
            "marker": {
             "colorbar": {
              "outlinewidth": 0,
              "ticks": ""
             }
            },
            "type": "scattergeo"
           }
          ],
          "scattergl": [
           {
            "marker": {
             "colorbar": {
              "outlinewidth": 0,
              "ticks": ""
             }
            },
            "type": "scattergl"
           }
          ],
          "scattermapbox": [
           {
            "marker": {
             "colorbar": {
              "outlinewidth": 0,
              "ticks": ""
             }
            },
            "type": "scattermapbox"
           }
          ],
          "scatterpolar": [
           {
            "marker": {
             "colorbar": {
              "outlinewidth": 0,
              "ticks": ""
             }
            },
            "type": "scatterpolar"
           }
          ],
          "scatterpolargl": [
           {
            "marker": {
             "colorbar": {
              "outlinewidth": 0,
              "ticks": ""
             }
            },
            "type": "scatterpolargl"
           }
          ],
          "scatterternary": [
           {
            "marker": {
             "colorbar": {
              "outlinewidth": 0,
              "ticks": ""
             }
            },
            "type": "scatterternary"
           }
          ],
          "surface": [
           {
            "colorbar": {
             "outlinewidth": 0,
             "ticks": ""
            },
            "colorscale": [
             [
              0,
              "#0d0887"
             ],
             [
              0.1111111111111111,
              "#46039f"
             ],
             [
              0.2222222222222222,
              "#7201a8"
             ],
             [
              0.3333333333333333,
              "#9c179e"
             ],
             [
              0.4444444444444444,
              "#bd3786"
             ],
             [
              0.5555555555555556,
              "#d8576b"
             ],
             [
              0.6666666666666666,
              "#ed7953"
             ],
             [
              0.7777777777777778,
              "#fb9f3a"
             ],
             [
              0.8888888888888888,
              "#fdca26"
             ],
             [
              1,
              "#f0f921"
             ]
            ],
            "type": "surface"
           }
          ],
          "table": [
           {
            "cells": {
             "fill": {
              "color": "#EBF0F8"
             },
             "line": {
              "color": "white"
             }
            },
            "header": {
             "fill": {
              "color": "#C8D4E3"
             },
             "line": {
              "color": "white"
             }
            },
            "type": "table"
           }
          ]
         },
         "layout": {
          "annotationdefaults": {
           "arrowcolor": "#2a3f5f",
           "arrowhead": 0,
           "arrowwidth": 1
          },
          "autotypenumbers": "strict",
          "coloraxis": {
           "colorbar": {
            "outlinewidth": 0,
            "ticks": ""
           }
          },
          "colorscale": {
           "diverging": [
            [
             0,
             "#8e0152"
            ],
            [
             0.1,
             "#c51b7d"
            ],
            [
             0.2,
             "#de77ae"
            ],
            [
             0.3,
             "#f1b6da"
            ],
            [
             0.4,
             "#fde0ef"
            ],
            [
             0.5,
             "#f7f7f7"
            ],
            [
             0.6,
             "#e6f5d0"
            ],
            [
             0.7,
             "#b8e186"
            ],
            [
             0.8,
             "#7fbc41"
            ],
            [
             0.9,
             "#4d9221"
            ],
            [
             1,
             "#276419"
            ]
           ],
           "sequential": [
            [
             0,
             "#0d0887"
            ],
            [
             0.1111111111111111,
             "#46039f"
            ],
            [
             0.2222222222222222,
             "#7201a8"
            ],
            [
             0.3333333333333333,
             "#9c179e"
            ],
            [
             0.4444444444444444,
             "#bd3786"
            ],
            [
             0.5555555555555556,
             "#d8576b"
            ],
            [
             0.6666666666666666,
             "#ed7953"
            ],
            [
             0.7777777777777778,
             "#fb9f3a"
            ],
            [
             0.8888888888888888,
             "#fdca26"
            ],
            [
             1,
             "#f0f921"
            ]
           ],
           "sequentialminus": [
            [
             0,
             "#0d0887"
            ],
            [
             0.1111111111111111,
             "#46039f"
            ],
            [
             0.2222222222222222,
             "#7201a8"
            ],
            [
             0.3333333333333333,
             "#9c179e"
            ],
            [
             0.4444444444444444,
             "#bd3786"
            ],
            [
             0.5555555555555556,
             "#d8576b"
            ],
            [
             0.6666666666666666,
             "#ed7953"
            ],
            [
             0.7777777777777778,
             "#fb9f3a"
            ],
            [
             0.8888888888888888,
             "#fdca26"
            ],
            [
             1,
             "#f0f921"
            ]
           ]
          },
          "colorway": [
           "#636efa",
           "#EF553B",
           "#00cc96",
           "#ab63fa",
           "#FFA15A",
           "#19d3f3",
           "#FF6692",
           "#B6E880",
           "#FF97FF",
           "#FECB52"
          ],
          "font": {
           "color": "#2a3f5f"
          },
          "geo": {
           "bgcolor": "white",
           "lakecolor": "white",
           "landcolor": "#E5ECF6",
           "showlakes": true,
           "showland": true,
           "subunitcolor": "white"
          },
          "hoverlabel": {
           "align": "left"
          },
          "hovermode": "closest",
          "mapbox": {
           "style": "light"
          },
          "paper_bgcolor": "white",
          "plot_bgcolor": "#E5ECF6",
          "polar": {
           "angularaxis": {
            "gridcolor": "white",
            "linecolor": "white",
            "ticks": ""
           },
           "bgcolor": "#E5ECF6",
           "radialaxis": {
            "gridcolor": "white",
            "linecolor": "white",
            "ticks": ""
           }
          },
          "scene": {
           "xaxis": {
            "backgroundcolor": "#E5ECF6",
            "gridcolor": "white",
            "gridwidth": 2,
            "linecolor": "white",
            "showbackground": true,
            "ticks": "",
            "zerolinecolor": "white"
           },
           "yaxis": {
            "backgroundcolor": "#E5ECF6",
            "gridcolor": "white",
            "gridwidth": 2,
            "linecolor": "white",
            "showbackground": true,
            "ticks": "",
            "zerolinecolor": "white"
           },
           "zaxis": {
            "backgroundcolor": "#E5ECF6",
            "gridcolor": "white",
            "gridwidth": 2,
            "linecolor": "white",
            "showbackground": true,
            "ticks": "",
            "zerolinecolor": "white"
           }
          },
          "shapedefaults": {
           "line": {
            "color": "#2a3f5f"
           }
          },
          "ternary": {
           "aaxis": {
            "gridcolor": "white",
            "linecolor": "white",
            "ticks": ""
           },
           "baxis": {
            "gridcolor": "white",
            "linecolor": "white",
            "ticks": ""
           },
           "bgcolor": "#E5ECF6",
           "caxis": {
            "gridcolor": "white",
            "linecolor": "white",
            "ticks": ""
           }
          },
          "title": {
           "x": 0.05
          },
          "xaxis": {
           "automargin": true,
           "gridcolor": "white",
           "linecolor": "white",
           "ticks": "",
           "title": {
            "standoff": 15
           },
           "zerolinecolor": "white",
           "zerolinewidth": 2
          },
          "yaxis": {
           "automargin": true,
           "gridcolor": "white",
           "linecolor": "white",
           "ticks": "",
           "title": {
            "standoff": 15
           },
           "zerolinecolor": "white",
           "zerolinewidth": 2
          }
         }
        },
        "width": 2300
       }
      }
     },
     "metadata": {},
     "output_type": "display_data"
    }
   ],
   "source": [
    "fig = make_subplots(rows=2, cols=3, #subplot_titles=('Grandfathering (GF)',\n",
    "                                                    # 'Per Capita (PC)',\n",
    "                                                    # 'Per Capita Convergence (PCC)',\n",
    "                                                    # 'Equal Cumulative Per Capita',\n",
    "                                                    # 'Ability to pay (AP)',\n",
    "                                                    # 'Greenhouse Development Rights'), \n",
    "                                    specs=[[{'type': 'choropleth'}, {'type': 'choropleth'}, {'type': 'choropleth'}],\n",
    "                                           [{'type': 'choropleth'}, {'type': 'choropleth'}, {'type': 'choropleth'}]],\n",
    "                                    horizontal_spacing = 0,\n",
    "                                    vertical_spacing=0)\n",
    "\n",
    "colorbar_abs = dict(len=1, x=1, tickvals = [0, 1, 2, 3], ticktext = ['1', '10', '100', '1000'])\n",
    "colorbar_pc = dict(len=1, x=1)\n",
    "\n",
    "for var_i, var in enumerate(rules):\n",
    "    if var_i == 0:\n",
    "        cm= True\n",
    "    else:\n",
    "        cm= False\n",
    "    fig.add_trace(\n",
    "        go.Choropleth(\n",
    "        locations=group_eu,\n",
    "        z = xr_budgets_static.sel(Category=\"C1+C2\", ISO=group_eu)[var],\n",
    "        locationmode = 'ISO-3',\n",
    "        colorscale = 'matter',\n",
    "        zmax = 25,\n",
    "        zmin = 0,\n",
    "        text = [str(r)+\": \"+str(np.round(float(xr_budgets_static.sel(Category=\"C1+C2\", ISO=r)[var]), 2))+\" Gt CO2e\" for r_i, r in enumerate(group_eu)],\n",
    "        hovertemplate  = '%{text}',\n",
    "        name=\"\",\n",
    "        marker_line_color='white', \n",
    "        marker_line_width=0.2,\n",
    "        colorbar=dict(len=1, x=1, tickvals = np.arange(0, 25+0.1, 5), title={\"text\":\"GHG budget<br>2020-2100<br>(Gt CO2e)\"}, tickfont={'size': 25}),\n",
    "        showscale=cm\n",
    "    ), [1, 1, 1, 2, 2, 2][var_i], [1, 2, 3, 1, 2, 3][var_i])\n",
    "# fig.update_geos(showocean=True, oceancolor=\"white\")\n",
    "# fig.update_geos(showlakes=True, lakecolor=\"white\")\n",
    "\n",
    "# limite map scope to USA 'africa', 'asia', 'europe', 'north america', 'south america', 'usa', 'world'\n",
    "fig.update_layout(\n",
    "    geo1 = dict(scope='europe', \n",
    "                showlakes=False,\n",
    "                lakecolor='rgb(255, 255, 255)',\n",
    "                showcoastlines=False,),\n",
    "    geo2 = dict(scope='europe', \n",
    "                showlakes=False,\n",
    "                lakecolor='rgb(255, 255, 255)',\n",
    "                showcoastlines=False,),\n",
    "    geo3 = dict(scope='europe', \n",
    "                showlakes=False,\n",
    "                lakecolor='rgb(255, 255, 255)',\n",
    "                showcoastlines=False,),\n",
    "    geo4 = dict(scope='europe', \n",
    "                showlakes=False,\n",
    "                lakecolor='rgb(255, 255, 255)',\n",
    "                showcoastlines=False,),\n",
    "    geo5 = dict(scope='europe', \n",
    "                showlakes=False,\n",
    "                lakecolor='rgb(255, 255, 255)',\n",
    "                showcoastlines=False,),\n",
    "    geo6 = dict(scope='europe', \n",
    "                showlakes=False,\n",
    "                showcoastlines=False,),\n",
    ")\n",
    "\n",
    "#vals = xr_budgets_static.sel(Category=\"C1+C2\", ISO=group_eu)[rules]\n",
    "#vals[vals]\n",
    "mn = np.min(np.array([float(xr_budgets_static.sel(Category=\"C1+C2\", ISO=group_eu)[rules].min()[r]) for r in rules]))\n",
    "mx = np.max(np.array([float(xr_budgets_static.sel(Category=\"C1+C2\", ISO=group_eu)[rules].max()[r]) for r in rules]))\n",
    "for var_i, var in enumerate(rules):\n",
    "    vals = np.array(xr_budgets_static.sel(Category=\"C1+C2\", ISO=group_eu)[var])\n",
    "    vals_i = (vals + mn)**1.2\n",
    "    vals_n = 14*(vals - mn)/(mx - mn)+7\n",
    "    vals_boolean = np.copy(vals)\n",
    "    vals_boolean[vals >= 0] = 1\n",
    "    vals_boolean[vals < 0] = 0\n",
    "    vals_boolean = vals_boolean.astype(int)\n",
    "    \n",
    "    fig.add_scattergeo(\n",
    "                locations = group_eu,\n",
    "                text = vals.round(1),\n",
    "                featureidkey=\"properties.NAME_3\",\n",
    "                mode = 'text',\n",
    "                hoverinfo='skip',\n",
    "                showlegend=False,\n",
    "                textfont={'size': vals_n,\n",
    "                          'color': np.array(['darkred', 'black'])[vals_boolean]},\n",
    "                row=[1, 1, 1, 2, 2, 2][var_i],\n",
    "                col=[1, 2, 3, 1, 2, 3][var_i])\n",
    "\n",
    "fig.update_geos(visible=False,\n",
    "                showlakes=True,\n",
    "                lakecolor='rgb(255, 255, 255)',\n",
    "                projection_type='natural earth',\n",
    "                resolution=50,\n",
    "                lataxis_range=[30,75], lonaxis_range=[-20, 40],\n",
    "                showcoastlines=False,)\n",
    "\n",
    "#fig.update_traces(showscale=False)\n",
    "fig.update_layout(height=1200, width=2300)\n",
    "fig.update_geos(visible=True, showcountries=False)#fitbounds=\"locations\",\n",
    "fig.update_layout(margin={\"r\":0,\"t\":0,\"l\":0,\"b\":0})\n",
    "\n",
    "fig.add_annotation(xref='paper', yref='paper',ax=0, align='left', ay=-0, showarrow=False, font=dict(color='black', size=25),\n",
    "                   y=0.96, x=0.07, text=\"<b>(a) Grandfathering</b>\")\n",
    "fig.add_annotation(xref='paper', yref='paper',ax=0, align='left', ay=-0, showarrow=False, font=dict(color='black', size=25),\n",
    "                   y=0.96, x=0.47, text=\"<b>(b) Per Capita</b>\")\n",
    "fig.add_annotation(xref='paper', yref='paper',ax=0, align='left', ay=-0, showarrow=False, font=dict(color='black', size=25),\n",
    "                   y=0.96, x=0.90, text=\"<b>(c) Per Capita Convergence</b>\")\n",
    "fig.add_annotation(xref='paper', yref='paper',ax=0, align='left', ay=-0, showarrow=False, font=dict(color='black', size=25),\n",
    "                   y=0.45, x=0.07, text=\"<b>(d) Equal Cumulative per Capita</b>\")\n",
    "fig.add_annotation(xref='paper', yref='paper',ax=0, align='left', ay=-0, showarrow=False, font=dict(color='black', size=25),\n",
    "                   y=0.45, x=0.48, text=\"<b>(e) Ability to Pay</b>\")\n",
    "fig.add_annotation(xref='paper', yref='paper',ax=0, align='left', ay=-0, showarrow=False, font=dict(color='black', size=25),\n",
    "                   y=0.45, x=0.95, text=\"<b>(f) Greenhouse Development Rights</b>\")\n",
    "fig_europe = fig\n",
    "fig.show()"
   ]
  },
  {
   "cell_type": "code",
   "execution_count": 376,
   "metadata": {},
   "outputs": [],
   "source": [
    "fig_europe.write_image(\"X:/user/dekkerm/Projects/ECEMF_T5.2/Figures/Figure_Europe/Figure_europe_budgets.svg\")\n",
    "fig_europe.write_image(\"X:/user/dekkerm/Projects/ECEMF_T5.2/Figures/Figure_Europe/Figure_europe_budgets.png\", scale=3)\n",
    "\n",
    "import os\n",
    "from datetime import date\n",
    "try:\n",
    "    os.remove('X:/user/dekkerm/Projects/ECEMF_T5.2/Figures/Figure_Europe/Figure_europe_budgets.html')\n",
    "except:\n",
    "    3\n",
    "def html_w(typ):\n",
    "    return '<html> '+typ+' <p style=\"font-family: Arial\">'\n",
    "\n",
    "today = date.today()\n",
    "td = today.strftime(\"%B %d, %Y\")\n",
    "\n",
    "with open('X:/user/dekkerm/Projects/ECEMF_T5.2/Figures/Figure_Europe/Figure_europe_budgets.html', 'a') as f:\n",
    "    #f.write(html_w('<h1>')+'Figure 1 - Electricity Generation</p></h1>')\n",
    "    f.write(html_w('<body>')+'Version: '+td+'</p></body>')\n",
    "    f.write(fig_europe.to_html(full_html=False, include_plotlyjs='cdn'))"
   ]
  },
  {
   "attachments": {},
   "cell_type": "markdown",
   "metadata": {},
   "source": [
    "## Figure relative"
   ]
  },
  {
   "cell_type": "code",
   "execution_count": 377,
   "metadata": {},
   "outputs": [
    {
     "name": "stderr",
     "output_type": "stream",
     "text": [
      "C:\\Users\\dekkerm\\AppData\\Local\\Temp\\2\\ipykernel_3352\\4251735587.py:72: RuntimeWarning:\n",
      "\n",
      "invalid value encountered in power\n",
      "\n",
      "C:\\Users\\dekkerm\\AppData\\Local\\Temp\\2\\ipykernel_3352\\4251735587.py:72: RuntimeWarning:\n",
      "\n",
      "invalid value encountered in power\n",
      "\n",
      "C:\\Users\\dekkerm\\AppData\\Local\\Temp\\2\\ipykernel_3352\\4251735587.py:72: RuntimeWarning:\n",
      "\n",
      "invalid value encountered in power\n",
      "\n",
      "C:\\Users\\dekkerm\\AppData\\Local\\Temp\\2\\ipykernel_3352\\4251735587.py:72: RuntimeWarning:\n",
      "\n",
      "invalid value encountered in power\n",
      "\n",
      "C:\\Users\\dekkerm\\AppData\\Local\\Temp\\2\\ipykernel_3352\\4251735587.py:72: RuntimeWarning:\n",
      "\n",
      "invalid value encountered in power\n",
      "\n",
      "C:\\Users\\dekkerm\\AppData\\Local\\Temp\\2\\ipykernel_3352\\4251735587.py:72: RuntimeWarning:\n",
      "\n",
      "invalid value encountered in power\n",
      "\n"
     ]
    },
    {
     "data": {
      "application/vnd.plotly.v1+json": {
       "config": {
        "plotlyServerURL": "https://plotly.com"
       },
       "data": [
        {
         "colorbar": {
          "len": 1,
          "tickfont": {
           "size": 25
          },
          "tickvals": [
           -40,
           -35,
           -30,
           -25,
           -20,
           -15,
           -10,
           -5,
           0,
           5,
           10,
           15,
           20,
           25,
           30,
           35,
           40
          ],
          "title": {
           "text": "GHG budget<br>2020-2100<br>relative<br>to 2019"
          },
          "x": 1
         },
         "colorscale": [
          [
           0,
           "rgb(103,0,31)"
          ],
          [
           0.1,
           "rgb(178,24,43)"
          ],
          [
           0.2,
           "rgb(214,96,77)"
          ],
          [
           0.3,
           "rgb(244,165,130)"
          ],
          [
           0.4,
           "rgb(253,219,199)"
          ],
          [
           0.5,
           "rgb(247,247,247)"
          ],
          [
           0.6,
           "rgb(209,229,240)"
          ],
          [
           0.7,
           "rgb(146,197,222)"
          ],
          [
           0.8,
           "rgb(67,147,195)"
          ],
          [
           0.9,
           "rgb(33,102,172)"
          ],
          [
           1,
           "rgb(5,48,97)"
          ]
         ],
         "geo": "geo",
         "hovertemplate": "%{text}",
         "locationmode": "ISO-3",
         "locations": [
          "AUT",
          "BEL",
          "BGR",
          "HRV",
          "CYP",
          "CZE",
          "DNK",
          "EST",
          "FIN",
          "FRA",
          "DEU",
          "GRC",
          "HUN",
          "IRL",
          "ITA",
          "LVA",
          "LTU",
          "LUX",
          "MLT",
          "NLD",
          "POL",
          "PRT",
          "ROU",
          "SVK",
          "SVN",
          "ESP",
          "SWE"
         ],
         "marker": {
          "line": {
           "color": "white",
           "width": 0.2
          }
         },
         "name": "",
         "showscale": true,
         "text": [
          "AUT: 22.92 times",
          "BEL: 22.92 times",
          "BGR: 22.92 times",
          "HRV: 22.92 times",
          "CYP: 22.92 times",
          "CZE: 22.92 times",
          "DNK: 22.92 times",
          "EST: 22.92 times",
          "FIN: 22.92 times",
          "FRA: 22.92 times",
          "DEU: 22.92 times",
          "GRC: 22.92 times",
          "HUN: 22.92 times",
          "IRL: 22.92 times",
          "ITA: 22.92 times",
          "LVA: 22.92 times",
          "LTU: 22.92 times",
          "LUX: 22.92 times",
          "MLT: 22.92 times",
          "NLD: 22.92 times",
          "POL: 22.92 times",
          "PRT: 22.92 times",
          "ROU: 22.92 times",
          "SVK: 22.92 times",
          "SVN: 22.92 times",
          "ESP: 22.92 times",
          "SWE: 22.92 times"
         ],
         "type": "choropleth",
         "z": [
          22.917031309061766,
          22.917031309061766,
          22.917031309061766,
          22.917031309061766,
          22.917031309061766,
          22.917031309061766,
          22.917031309061766,
          22.917031309061766,
          22.917031309061766,
          22.91703130906177,
          22.91703130906177,
          22.917031309061766,
          22.917031309061766,
          22.917031309061766,
          22.917031309061773,
          22.917031309061766,
          22.917031309061766,
          22.91703130906177,
          22.917031309061766,
          22.91703130906177,
          22.91703130906177,
          22.917031309061766,
          22.91703130906177,
          22.917031309061763,
          22.91703130906177,
          22.917031309061763,
          22.917031309061763
         ],
         "zmax": 40,
         "zmin": -40
        },
        {
         "colorbar": {
          "len": 1,
          "tickfont": {
           "size": 25
          },
          "tickvals": [
           -40,
           -35,
           -30,
           -25,
           -20,
           -15,
           -10,
           -5,
           0,
           5,
           10,
           15,
           20,
           25,
           30,
           35,
           40
          ],
          "title": {
           "text": "GHG budget<br>2020-2100<br>relative<br>to 2019"
          },
          "x": 1
         },
         "colorscale": [
          [
           0,
           "rgb(103,0,31)"
          ],
          [
           0.1,
           "rgb(178,24,43)"
          ],
          [
           0.2,
           "rgb(214,96,77)"
          ],
          [
           0.3,
           "rgb(244,165,130)"
          ],
          [
           0.4,
           "rgb(253,219,199)"
          ],
          [
           0.5,
           "rgb(247,247,247)"
          ],
          [
           0.6,
           "rgb(209,229,240)"
          ],
          [
           0.7,
           "rgb(146,197,222)"
          ],
          [
           0.8,
           "rgb(67,147,195)"
          ],
          [
           0.9,
           "rgb(33,102,172)"
          ],
          [
           1,
           "rgb(5,48,97)"
          ]
         ],
         "geo": "geo2",
         "hovertemplate": "%{text}",
         "locationmode": "ISO-3",
         "locations": [
          "AUT",
          "BEL",
          "BGR",
          "HRV",
          "CYP",
          "CZE",
          "DNK",
          "EST",
          "FIN",
          "FRA",
          "DEU",
          "GRC",
          "HUN",
          "IRL",
          "ITA",
          "LVA",
          "LTU",
          "LUX",
          "MLT",
          "NLD",
          "POL",
          "PRT",
          "ROU",
          "SVK",
          "SVN",
          "ESP",
          "SWE"
         ],
         "marker": {
          "line": {
           "color": "white",
           "width": 0.2
          }
         },
         "name": "",
         "showscale": false,
         "text": [
          "AUT: 11.34 times",
          "BEL: 11.51 times",
          "BGR: 12.37 times",
          "HRV: 18.73 times",
          "CYP: 19.8 times",
          "CZE: 11.11 times",
          "DNK: 17.16 times",
          "EST: 7.26 times",
          "FIN: 10.12 times",
          "FRA: 18.65 times",
          "DEU: 13.09 times",
          "GRC: 12.33 times",
          "HUN: 16.69 times",
          "IRL: 10.75 times",
          "ITA: 17.32 times",
          "LVA: 15.2 times",
          "LTU: 11.07 times",
          "LUX: 8.77 times",
          "MLT: 24.24 times",
          "NLD: 11.15 times",
          "POL: 11.18 times",
          "PRT: 13.61 times",
          "ROU: 21.67 times",
          "SVK: 15.81 times",
          "SVN: 14.8 times",
          "ESP: 17.84 times",
          "SWE: 21.67 times"
         ],
         "type": "choropleth",
         "z": [
          11.342571406567167,
          11.507972442312315,
          12.37270425726304,
          18.731892923961038,
          19.79984551335161,
          11.10863806613133,
          17.158423339578274,
          7.261456692166797,
          10.119748865887269,
          18.645035020793586,
          13.08759837516241,
          12.330969170278458,
          16.6934638046337,
          10.752557140583043,
          17.31713228069369,
          15.19867176681734,
          11.073000750994575,
          8.771492250744972,
          24.24115024440213,
          11.14519516476631,
          11.184944558229475,
          13.614521657703252,
          21.66845321922869,
          15.810655413387025,
          14.804953693704235,
          17.838818191757074,
          21.673643561099844
         ],
         "zmax": 40,
         "zmin": -40
        },
        {
         "colorbar": {
          "len": 1,
          "tickfont": {
           "size": 25
          },
          "tickvals": [
           -40,
           -35,
           -30,
           -25,
           -20,
           -15,
           -10,
           -5,
           0,
           5,
           10,
           15,
           20,
           25,
           30,
           35,
           40
          ],
          "title": {
           "text": "GHG budget<br>2020-2100<br>relative<br>to 2019"
          },
          "x": 1
         },
         "colorscale": [
          [
           0,
           "rgb(103,0,31)"
          ],
          [
           0.1,
           "rgb(178,24,43)"
          ],
          [
           0.2,
           "rgb(214,96,77)"
          ],
          [
           0.3,
           "rgb(244,165,130)"
          ],
          [
           0.4,
           "rgb(253,219,199)"
          ],
          [
           0.5,
           "rgb(247,247,247)"
          ],
          [
           0.6,
           "rgb(209,229,240)"
          ],
          [
           0.7,
           "rgb(146,197,222)"
          ],
          [
           0.8,
           "rgb(67,147,195)"
          ],
          [
           0.9,
           "rgb(33,102,172)"
          ],
          [
           1,
           "rgb(5,48,97)"
          ]
         ],
         "geo": "geo3",
         "hovertemplate": "%{text}",
         "locationmode": "ISO-3",
         "locations": [
          "AUT",
          "BEL",
          "BGR",
          "HRV",
          "CYP",
          "CZE",
          "DNK",
          "EST",
          "FIN",
          "FRA",
          "DEU",
          "GRC",
          "HUN",
          "IRL",
          "ITA",
          "LVA",
          "LTU",
          "LUX",
          "MLT",
          "NLD",
          "POL",
          "PRT",
          "ROU",
          "SVK",
          "SVN",
          "ESP",
          "SWE"
         ],
         "marker": {
          "line": {
           "color": "white",
           "width": 0.2
          }
         },
         "name": "",
         "showscale": false,
         "text": [
          "AUT: 15.13 times",
          "BEL: 15.31 times",
          "BGR: 15.21 times",
          "HRV: 19.03 times",
          "CYP: 20.61 times",
          "CZE: 15.03 times",
          "DNK: 18.97 times",
          "EST: 12.5 times",
          "FIN: 14.38 times",
          "FRA: 19.64 times",
          "DEU: 16.09 times",
          "GRC: 15.46 times",
          "HUN: 18.09 times",
          "IRL: 15.0 times",
          "ITA: 18.39 times",
          "LVA: 16.84 times",
          "LTU: 14.56 times",
          "LUX: 13.85 times",
          "MLT: 22.9 times",
          "NLD: 15.06 times",
          "POL: 14.81 times",
          "PRT: 16.27 times",
          "ROU: 21.0 times",
          "SVK: 17.65 times",
          "SVN: 17.1 times",
          "ESP: 18.83 times",
          "SWE: 21.89 times"
         ],
         "type": "choropleth",
         "z": [
          15.130615980916096,
          15.313083034923222,
          15.205514834824811,
          19.025419832017267,
          20.60584210110517,
          15.026949172547674,
          18.96772167479761,
          12.503634960048817,
          14.380877345472637,
          19.63637837604593,
          16.08720911711211,
          15.45772628694,
          18.086136724156486,
          15.003521718790802,
          18.387246730816436,
          16.844988506343988,
          14.557573066060835,
          13.853569619050257,
          22.90243334537409,
          15.059776600306991,
          14.809050984517357,
          16.273723726871197,
          21.003596746778513,
          17.645720356389177,
          17.097668429130493,
          18.827359893063157,
          21.88660844981267
         ],
         "zmax": 40,
         "zmin": -40
        },
        {
         "colorbar": {
          "len": 1,
          "tickfont": {
           "size": 25
          },
          "tickvals": [
           -40,
           -35,
           -30,
           -25,
           -20,
           -15,
           -10,
           -5,
           0,
           5,
           10,
           15,
           20,
           25,
           30,
           35,
           40
          ],
          "title": {
           "text": "GHG budget<br>2020-2100<br>relative<br>to 2019"
          },
          "x": 1
         },
         "colorscale": [
          [
           0,
           "rgb(103,0,31)"
          ],
          [
           0.1,
           "rgb(178,24,43)"
          ],
          [
           0.2,
           "rgb(214,96,77)"
          ],
          [
           0.3,
           "rgb(244,165,130)"
          ],
          [
           0.4,
           "rgb(253,219,199)"
          ],
          [
           0.5,
           "rgb(247,247,247)"
          ],
          [
           0.6,
           "rgb(209,229,240)"
          ],
          [
           0.7,
           "rgb(146,197,222)"
          ],
          [
           0.8,
           "rgb(67,147,195)"
          ],
          [
           0.9,
           "rgb(33,102,172)"
          ],
          [
           1,
           "rgb(5,48,97)"
          ]
         ],
         "geo": "geo4",
         "hovertemplate": "%{text}",
         "locationmode": "ISO-3",
         "locations": [
          "AUT",
          "BEL",
          "BGR",
          "HRV",
          "CYP",
          "CZE",
          "DNK",
          "EST",
          "FIN",
          "FRA",
          "DEU",
          "GRC",
          "HUN",
          "IRL",
          "ITA",
          "LVA",
          "LTU",
          "LUX",
          "MLT",
          "NLD",
          "POL",
          "PRT",
          "ROU",
          "SVK",
          "SVN",
          "ESP",
          "SWE"
         ],
         "marker": {
          "line": {
           "color": "white",
           "width": 0.2
          }
         },
         "name": "",
         "showscale": false,
         "text": [
          "AUT: 1.06 times",
          "BEL: -1.72 times",
          "BGR: 5.33 times",
          "HRV: 18.31 times",
          "CYP: 15.23 times",
          "CZE: -3.92 times",
          "DNK: 0.67 times",
          "EST: -9.98 times",
          "FIN: -6.93 times",
          "FRA: 11.14 times",
          "DEU: -0.99 times",
          "GRC: 3.29 times",
          "HUN: 12.38 times",
          "IRL: -4.8 times",
          "ITA: 9.36 times",
          "LVA: 14.61 times",
          "LTU: 5.67 times",
          "LUX: -8.95 times",
          "MLT: 23.18 times",
          "NLD: -3.99 times",
          "POL: -0.21 times",
          "PRT: 9.6 times",
          "ROU: 20.52 times",
          "SVK: 7.13 times",
          "SVN: 4.29 times",
          "ESP: 11.54 times",
          "SWE: 14.83 times"
         ],
         "type": "choropleth",
         "z": [
          1.0617783978249502,
          -1.7156851013593748,
          5.330423601682081,
          18.312033466219685,
          15.230542801542242,
          -3.9167620202519426,
          0.6708456710743703,
          -9.9831174186536,
          -6.930158557674754,
          11.138999493458698,
          -0.9901271413572891,
          3.291745402487224,
          12.380110833656882,
          -4.799755458134174,
          9.356038139853172,
          14.610081537941566,
          5.668445632941022,
          -8.945002831731498,
          23.18288510638951,
          -3.9926795086245312,
          -0.20967338131581503,
          9.604263350421375,
          20.516709036226224,
          7.1311518420557825,
          4.294667540449767,
          11.544907335529592,
          14.83141722939938
         ],
         "zmax": 40,
         "zmin": -40
        },
        {
         "colorbar": {
          "len": 1,
          "tickfont": {
           "size": 25
          },
          "tickvals": [
           -40,
           -35,
           -30,
           -25,
           -20,
           -15,
           -10,
           -5,
           0,
           5,
           10,
           15,
           20,
           25,
           30,
           35,
           40
          ],
          "title": {
           "text": "GHG budget<br>2020-2100<br>relative<br>to 2019"
          },
          "x": 1
         },
         "colorscale": [
          [
           0,
           "rgb(103,0,31)"
          ],
          [
           0.1,
           "rgb(178,24,43)"
          ],
          [
           0.2,
           "rgb(214,96,77)"
          ],
          [
           0.3,
           "rgb(244,165,130)"
          ],
          [
           0.4,
           "rgb(253,219,199)"
          ],
          [
           0.5,
           "rgb(247,247,247)"
          ],
          [
           0.6,
           "rgb(209,229,240)"
          ],
          [
           0.7,
           "rgb(146,197,222)"
          ],
          [
           0.8,
           "rgb(67,147,195)"
          ],
          [
           0.9,
           "rgb(33,102,172)"
          ],
          [
           1,
           "rgb(5,48,97)"
          ]
         ],
         "geo": "geo5",
         "hovertemplate": "%{text}",
         "locationmode": "ISO-3",
         "locations": [
          "AUT",
          "BEL",
          "BGR",
          "HRV",
          "CYP",
          "CZE",
          "DNK",
          "EST",
          "FIN",
          "FRA",
          "DEU",
          "GRC",
          "HUN",
          "IRL",
          "ITA",
          "LVA",
          "LTU",
          "LUX",
          "MLT",
          "NLD",
          "POL",
          "PRT",
          "ROU",
          "SVK",
          "SVN",
          "ESP",
          "SWE"
         ],
         "marker": {
          "line": {
           "color": "white",
           "width": 0.2
          }
         },
         "name": "",
         "showscale": false,
         "text": [
          "AUT: -3.5 times",
          "BEL: -0.22 times",
          "BGR: 20.74 times",
          "HRV: 24.79 times",
          "CYP: 29.26 times",
          "CZE: 5.4 times",
          "DNK: 6.36 times",
          "EST: -1.07 times",
          "FIN: 3.77 times",
          "FRA: 2.13 times",
          "DEU: 1.06 times",
          "GRC: 2.59 times",
          "HUN: 15.46 times",
          "IRL: -5.34 times",
          "ITA: 8.08 times",
          "LVA: 10.77 times",
          "LTU: 18.79 times",
          "LUX: -15.34 times",
          "MLT: 9.99 times",
          "NLD: -2.23 times",
          "POL: 16.99 times",
          "PRT: 17.98 times",
          "ROU: 37.46 times",
          "SVK: 10.24 times",
          "SVN: 5.09 times",
          "ESP: 9.08 times",
          "SWE: 2.29 times"
         ],
         "type": "choropleth",
         "z": [
          -3.5025497574832922,
          -0.2183763232530618,
          20.741833077133798,
          24.789957498017664,
          29.257711098400883,
          5.401451694792098,
          6.360128453136136,
          -1.0705793895813742,
          3.7747683152825355,
          2.133794295162255,
          1.0633708730891513,
          2.5928365352645035,
          15.455676412710947,
          -5.340109794144807,
          8.078968350917235,
          10.766125351968094,
          18.78723962365358,
          -15.336351418228606,
          9.99412198588726,
          -2.22535246924022,
          16.985050992916523,
          17.980503833883493,
          37.4638095185629,
          10.243088053963197,
          5.085663022165131,
          9.082508193219411,
          2.289498082227453
         ],
         "zmax": 40,
         "zmin": -40
        },
        {
         "colorbar": {
          "len": 1,
          "tickfont": {
           "size": 25
          },
          "tickvals": [
           -40,
           -35,
           -30,
           -25,
           -20,
           -15,
           -10,
           -5,
           0,
           5,
           10,
           15,
           20,
           25,
           30,
           35,
           40
          ],
          "title": {
           "text": "GHG budget<br>2020-2100<br>relative<br>to 2019"
          },
          "x": 1
         },
         "colorscale": [
          [
           0,
           "rgb(103,0,31)"
          ],
          [
           0.1,
           "rgb(178,24,43)"
          ],
          [
           0.2,
           "rgb(214,96,77)"
          ],
          [
           0.3,
           "rgb(244,165,130)"
          ],
          [
           0.4,
           "rgb(253,219,199)"
          ],
          [
           0.5,
           "rgb(247,247,247)"
          ],
          [
           0.6,
           "rgb(209,229,240)"
          ],
          [
           0.7,
           "rgb(146,197,222)"
          ],
          [
           0.8,
           "rgb(67,147,195)"
          ],
          [
           0.9,
           "rgb(33,102,172)"
          ],
          [
           1,
           "rgb(5,48,97)"
          ]
         ],
         "geo": "geo6",
         "hovertemplate": "%{text}",
         "locationmode": "ISO-3",
         "locations": [
          "AUT",
          "BEL",
          "BGR",
          "HRV",
          "CYP",
          "CZE",
          "DNK",
          "EST",
          "FIN",
          "FRA",
          "DEU",
          "GRC",
          "HUN",
          "IRL",
          "ITA",
          "LVA",
          "LTU",
          "LUX",
          "MLT",
          "NLD",
          "POL",
          "PRT",
          "ROU",
          "SVK",
          "SVN",
          "ESP",
          "SWE"
         ],
         "marker": {
          "line": {
           "color": "white",
           "width": 0.2
          }
         },
         "name": "",
         "showscale": false,
         "text": [
          "AUT: -37.48 times",
          "BEL: -51.4 times",
          "BGR: 56.25 times",
          "HRV: 16.18 times",
          "CYP: 12.16 times",
          "CZE: -12.41 times",
          "DNK: -157.16 times",
          "EST: 18.42 times",
          "FIN: -35.74 times",
          "FRA: -100.88 times",
          "DEU: -86.46 times",
          "GRC: -5.85 times",
          "HUN: 16.18 times",
          "IRL: -121.3 times",
          "ITA: -56.94 times",
          "LVA: 28.0 times",
          "LTU: 26.34 times",
          "LUX: -152.99 times",
          "MLT: -63.16 times",
          "NLD: -69.54 times",
          "POL: 41.29 times",
          "PRT: 18.79 times",
          "ROU: 44.92 times",
          "SVK: 9.49 times",
          "SVN: -22.31 times",
          "ESP: -41.59 times",
          "SWE: -159.95 times"
         ],
         "type": "choropleth",
         "z": [
          -37.478229552825354,
          -51.395414403240224,
          56.252035614577416,
          16.177234695788414,
          12.160566103103138,
          -12.409852158252619,
          -157.16466233473372,
          18.421199820520908,
          -35.73591349967236,
          -100.87634260993754,
          -86.46127645423397,
          -5.845696782011416,
          16.181553787865397,
          -121.301157261444,
          -56.941442557862146,
          27.99619150769138,
          26.341365243073746,
          -152.99213674523716,
          -63.15966807155796,
          -69.53830223855788,
          41.287658843546104,
          18.787132188600356,
          44.9174495550562,
          9.49105729803579,
          -22.31436660924812,
          -41.59253935045274,
          -159.9506655529916
         ],
         "zmax": 40,
         "zmin": -40
        },
        {
         "featureidkey": "properties.NAME_3",
         "geo": "geo",
         "hoverinfo": "skip",
         "locations": [
          "AUT",
          "BEL",
          "BGR",
          "HRV",
          "CYP",
          "CZE",
          "DNK",
          "EST",
          "FIN",
          "FRA",
          "DEU",
          "GRC",
          "HUN",
          "IRL",
          "ITA",
          "LVA",
          "LTU",
          "LUX",
          "MLT",
          "NLD",
          "POL",
          "PRT",
          "ROU",
          "SVK",
          "SVN",
          "ESP",
          "SWE"
         ],
         "mode": "text",
         "showlegend": false,
         "text": [
          22.9,
          22.9,
          22.9,
          22.9,
          22.9,
          22.9,
          22.9,
          22.9,
          22.9,
          22.9,
          22.9,
          22.9,
          22.9,
          22.9,
          22.9,
          22.9,
          22.9,
          22.9,
          22.9,
          22.9,
          22.9,
          22.9,
          22.9,
          22.9,
          22.9,
          22.9,
          22.9
         ],
         "textfont": {
          "color": [
           "black",
           "black",
           "black",
           "black",
           "black",
           "black",
           "black",
           "black",
           "black",
           "black",
           "black",
           "black",
           "black",
           "black",
           "black",
           "black",
           "black",
           "black",
           "black",
           "black",
           "black",
           "black",
           "black",
           "black",
           "black",
           "black",
           "black"
          ],
          "size": [
           18.841423544863538,
           18.841423544863538,
           18.841423544863538,
           18.841423544863538,
           18.841423544863538,
           18.841423544863538,
           18.841423544863538,
           18.841423544863538,
           18.841423544863538,
           18.841423544863538,
           18.841423544863538,
           18.841423544863538,
           18.841423544863538,
           18.841423544863538,
           18.841423544863538,
           18.841423544863538,
           18.841423544863538,
           18.841423544863538,
           18.841423544863538,
           18.841423544863538,
           18.841423544863538,
           18.841423544863538,
           18.841423544863538,
           18.841423544863538,
           18.841423544863538,
           18.841423544863538,
           18.841423544863538
          ]
         },
         "type": "scattergeo"
        },
        {
         "featureidkey": "properties.NAME_3",
         "geo": "geo2",
         "hoverinfo": "skip",
         "locations": [
          "AUT",
          "BEL",
          "BGR",
          "HRV",
          "CYP",
          "CZE",
          "DNK",
          "EST",
          "FIN",
          "FRA",
          "DEU",
          "GRC",
          "HUN",
          "IRL",
          "ITA",
          "LVA",
          "LTU",
          "LUX",
          "MLT",
          "NLD",
          "POL",
          "PRT",
          "ROU",
          "SVK",
          "SVN",
          "ESP",
          "SWE"
         ],
         "mode": "text",
         "showlegend": false,
         "text": [
          11.3,
          11.5,
          12.4,
          18.7,
          19.8,
          11.1,
          17.2,
          7.3,
          10.1,
          18.6,
          13.1,
          12.3,
          16.7,
          10.8,
          17.3,
          15.2,
          11.1,
          8.8,
          24.2,
          11.1,
          11.2,
          13.6,
          21.7,
          15.8,
          14.8,
          17.8,
          21.7
         ],
         "textfont": {
          "color": [
           "black",
           "black",
           "black",
           "black",
           "black",
           "black",
           "black",
           "black",
           "black",
           "black",
           "black",
           "black",
           "black",
           "black",
           "black",
           "black",
           "black",
           "black",
           "black",
           "black",
           "black",
           "black",
           "black",
           "black",
           "black",
           "black",
           "black"
          ],
          "size": [
           18.09193041753516,
           18.10264080407486,
           18.1586356891708,
           18.570418894713498,
           18.639573147508333,
           18.076782286876217,
           18.468530370368537,
           17.8276617211079,
           18.012747708544623,
           18.564794493918424,
           18.20492797690144,
           18.155933173362122,
           18.438422358516366,
           18.053724605678184,
           18.478807416694124,
           18.341628523765852,
           18.074474626475954,
           17.925442635527233,
           18.92716560541438,
           18.079149506980897,
           18.081723441096795,
           18.239048392214173,
           18.760573059817496,
           18.381256941938737,
           18.316133684923336,
           18.512588691004968,
           18.760909155462016
          ]
         },
         "type": "scattergeo"
        },
        {
         "featureidkey": "properties.NAME_3",
         "geo": "geo3",
         "hoverinfo": "skip",
         "locations": [
          "AUT",
          "BEL",
          "BGR",
          "HRV",
          "CYP",
          "CZE",
          "DNK",
          "EST",
          "FIN",
          "FRA",
          "DEU",
          "GRC",
          "HUN",
          "IRL",
          "ITA",
          "LVA",
          "LTU",
          "LUX",
          "MLT",
          "NLD",
          "POL",
          "PRT",
          "ROU",
          "SVK",
          "SVN",
          "ESP",
          "SWE"
         ],
         "mode": "text",
         "showlegend": false,
         "text": [
          15.1,
          15.3,
          15.2,
          19,
          20.6,
          15,
          19,
          12.5,
          14.4,
          19.6,
          16.1,
          15.5,
          18.1,
          15,
          18.4,
          16.8,
          14.6,
          13.9,
          22.9,
          15.1,
          14.8,
          16.3,
          21,
          17.6,
          17.1,
          18.8,
          21.9
         ],
         "textfont": {
          "color": [
           "black",
           "black",
           "black",
           "black",
           "black",
           "black",
           "black",
           "black",
           "black",
           "black",
           "black",
           "black",
           "black",
           "black",
           "black",
           "black",
           "black",
           "black",
           "black",
           "black",
           "black",
           "black",
           "black",
           "black",
           "black",
           "black",
           "black"
          ],
          "size": [
           18.33722163616698,
           18.349037116465354,
           18.342071640117254,
           18.589425950086053,
           18.691764688907273,
           18.330508790724625,
           18.585689760867727,
           18.167113982129685,
           18.288673024889118,
           18.628987988720212,
           18.39916491363031,
           18.358403352489688,
           18.528603567021285,
           18.328991768269194,
           18.548101658721684,
           18.44823419626163,
           18.300114787988633,
           18.25452771527899,
           18.84047826762822,
           18.332634499543936,
           18.316399001087632,
           18.41124248954646,
           18.717520912161444,
           18.50008482458447,
           18.464596244006213,
           18.576600767373794,
           18.774699494000238
          ]
         },
         "type": "scattergeo"
        },
        {
         "featureidkey": "properties.NAME_3",
         "geo": "geo4",
         "hoverinfo": "skip",
         "locations": [
          "AUT",
          "BEL",
          "BGR",
          "HRV",
          "CYP",
          "CZE",
          "DNK",
          "EST",
          "FIN",
          "FRA",
          "DEU",
          "GRC",
          "HUN",
          "IRL",
          "ITA",
          "LVA",
          "LTU",
          "LUX",
          "MLT",
          "NLD",
          "POL",
          "PRT",
          "ROU",
          "SVK",
          "SVN",
          "ESP",
          "SWE"
         ],
         "mode": "text",
         "showlegend": false,
         "text": [
          1.1,
          -1.7,
          5.3,
          18.3,
          15.2,
          -3.9,
          0.7,
          -10,
          -6.9,
          11.1,
          -1,
          3.3,
          12.4,
          -4.8,
          9.4,
          14.6,
          5.7,
          -8.9,
          23.2,
          -4,
          -0.2,
          9.6,
          20.5,
          7.1,
          4.3,
          11.5,
          14.8
         ],
         "textfont": {
          "color": [
           "black",
           "darkred",
           "black",
           "black",
           "black",
           "darkred",
           "black",
           "darkred",
           "darkred",
           "black",
           "darkred",
           "black",
           "black",
           "darkred",
           "black",
           "black",
           "black",
           "darkred",
           "black",
           "darkred",
           "darkred",
           "black",
           "black",
           "black",
           "black",
           "black",
           "black"
          ],
          "size": [
           17.426207457807486,
           17.24635545420813,
           17.702619512473177,
           18.543231295406756,
           18.343692302265097,
           17.10382681465791,
           17.400892981415883,
           16.711005748505745,
           16.908697191872943,
           18.078748312186207,
           17.29333826887776,
           17.570606847346454,
           18.15911529497107,
           17.046649415561635,
           17.963294347847757,
           18.303514924075557,
           17.724507807171022,
           16.778227869868815,
           18.858638654307075,
           17.098910850003094,
           17.34387580879551,
           17.979367934945365,
           18.68599296218246,
           17.8192239546429,
           17.635550115194867,
           18.1050324879079,
           18.317847305973082
          ]
         },
         "type": "scattergeo"
        },
        {
         "featureidkey": "properties.NAME_3",
         "geo": "geo5",
         "hoverinfo": "skip",
         "locations": [
          "AUT",
          "BEL",
          "BGR",
          "HRV",
          "CYP",
          "CZE",
          "DNK",
          "EST",
          "FIN",
          "FRA",
          "DEU",
          "GRC",
          "HUN",
          "IRL",
          "ITA",
          "LVA",
          "LTU",
          "LUX",
          "MLT",
          "NLD",
          "POL",
          "PRT",
          "ROU",
          "SVK",
          "SVN",
          "ESP",
          "SWE"
         ],
         "mode": "text",
         "showlegend": false,
         "text": [
          -3.5,
          -0.2,
          20.7,
          24.8,
          29.3,
          5.4,
          6.4,
          -1.1,
          3.8,
          2.1,
          1.1,
          2.6,
          15.5,
          -5.3,
          8.1,
          10.8,
          18.8,
          -15.3,
          10,
          -2.2,
          17,
          18,
          37.5,
          10.2,
          5.1,
          9.1,
          2.3
         ],
         "textfont": {
          "color": [
           "darkred",
           "darkred",
           "black",
           "black",
           "black",
           "black",
           "black",
           "darkred",
           "black",
           "black",
           "black",
           "black",
           "black",
           "darkred",
           "black",
           "black",
           "black",
           "darkred",
           "black",
           "darkred",
           "black",
           "black",
           "black",
           "black",
           "black",
           "black",
           "black"
          ],
          "size": [
           17.130648735232654,
           17.343312258079145,
           18.700570655040536,
           18.96270309643149,
           19.252008225680946,
           17.707218868994488,
           17.769297069425548,
           17.288128660167718,
           17.601884536027562,
           17.49562482623847,
           17.426310577026527,
           17.525349669298826,
           18.358270614836314,
           17.011659285173366,
           17.880598909962146,
           18.054603202283893,
           18.574002817539217,
           16.364362179349023,
           18.004612859578806,
           17.21335242921446,
           18.457303809182406,
           18.52176340981772,
           19.78338631328969,
           18.02073442019873,
           17.686770274259537,
           17.945582176666765,
           17.50570727667568
          ]
         },
         "type": "scattergeo"
        },
        {
         "featureidkey": "properties.NAME_3",
         "geo": "geo6",
         "hoverinfo": "skip",
         "locations": [
          "AUT",
          "BEL",
          "BGR",
          "HRV",
          "CYP",
          "CZE",
          "DNK",
          "EST",
          "FIN",
          "FRA",
          "DEU",
          "GRC",
          "HUN",
          "IRL",
          "ITA",
          "LVA",
          "LTU",
          "LUX",
          "MLT",
          "NLD",
          "POL",
          "PRT",
          "ROU",
          "SVK",
          "SVN",
          "ESP",
          "SWE"
         ],
         "mode": "text",
         "showlegend": false,
         "text": [
          -37.5,
          -51.4,
          56.3,
          16.2,
          12.2,
          -12.4,
          -157.2,
          18.4,
          -35.7,
          -100.9,
          -86.5,
          -5.8,
          16.2,
          -121.3,
          -56.9,
          28,
          26.3,
          -153,
          -63.2,
          -69.5,
          41.3,
          18.8,
          44.9,
          9.5,
          -22.3,
          -41.6,
          -160
         ],
         "textfont": {
          "color": [
           "darkred",
           "darkred",
           "black",
           "black",
           "black",
           "darkred",
           "darkred",
           "black",
           "darkred",
           "darkred",
           "darkred",
           "darkred",
           "black",
           "darkred",
           "darkred",
           "black",
           "black",
           "darkred",
           "darkred",
           "darkred",
           "black",
           "black",
           "black",
           "black",
           "darkred",
           "darkred",
           "darkred"
          ],
          "size": [
           14.930585948939681,
           14.029391898848715,
           21,
           18.40499443423603,
           18.144898885041158,
           16.553864851694957,
           7.180404984974634,
           18.55030025870816,
           15.043407965558412,
           10.825301519067308,
           11.758735398893977,
           16.978920481301316,
           18.405274112929916,
           9.502712099153143,
           13.67026412780145,
           19.17031972607129,
           19.06316302738282,
           7.4505929055579045,
           13.26760885697637,
           12.854566476581754,
           20.030996034447952,
           18.57399586068467,
           20.266039674914573,
           17.97203738484197,
           15.91250745160186,
           14.664167736513463,
           7
          ]
         },
         "type": "scattergeo"
        }
       ],
       "layout": {
        "annotations": [
         {
          "align": "left",
          "ax": 0,
          "ay": 0,
          "font": {
           "color": "black",
           "size": 25
          },
          "showarrow": false,
          "text": "<b>(a) Grandfathering</b>",
          "x": 0.07,
          "xref": "paper",
          "y": 0.96,
          "yref": "paper"
         },
         {
          "align": "left",
          "ax": 0,
          "ay": 0,
          "font": {
           "color": "black",
           "size": 25
          },
          "showarrow": false,
          "text": "<b>(b) Per Capita</b>",
          "x": 0.47,
          "xref": "paper",
          "y": 0.96,
          "yref": "paper"
         },
         {
          "align": "left",
          "ax": 0,
          "ay": 0,
          "font": {
           "color": "black",
           "size": 25
          },
          "showarrow": false,
          "text": "<b>(c) Per Capita Convergence</b>",
          "x": 0.9,
          "xref": "paper",
          "y": 0.96,
          "yref": "paper"
         },
         {
          "align": "left",
          "ax": 0,
          "ay": 0,
          "font": {
           "color": "black",
           "size": 25
          },
          "showarrow": false,
          "text": "<b>(d) Equal Cumulative per Capita</b>",
          "x": 0.07,
          "xref": "paper",
          "y": 0.45,
          "yref": "paper"
         },
         {
          "align": "left",
          "ax": 0,
          "ay": 0,
          "font": {
           "color": "black",
           "size": 25
          },
          "showarrow": false,
          "text": "<b>(e) Ability to Pay</b>",
          "x": 0.48,
          "xref": "paper",
          "y": 0.45,
          "yref": "paper"
         },
         {
          "align": "left",
          "ax": 0,
          "ay": 0,
          "font": {
           "color": "black",
           "size": 25
          },
          "showarrow": false,
          "text": "<b>(f) Greenhouse Development Rights</b>",
          "x": 0.95,
          "xref": "paper",
          "y": 0.45,
          "yref": "paper"
         }
        ],
        "geo": {
         "domain": {
          "x": [
           0,
           0.3333333333333333
          ],
          "y": [
           0.5,
           1
          ]
         },
         "lakecolor": "rgb(255, 255, 255)",
         "lataxis": {
          "range": [
           30,
           75
          ]
         },
         "lonaxis": {
          "range": [
           -20,
           40
          ]
         },
         "projection": {
          "type": "natural earth"
         },
         "resolution": 50,
         "scope": "europe",
         "showcoastlines": false,
         "showcountries": false,
         "showlakes": true,
         "visible": true
        },
        "geo2": {
         "domain": {
          "x": [
           0.3333333333333333,
           0.6666666666666666
          ],
          "y": [
           0.5,
           1
          ]
         },
         "lakecolor": "rgb(255, 255, 255)",
         "lataxis": {
          "range": [
           30,
           75
          ]
         },
         "lonaxis": {
          "range": [
           -20,
           40
          ]
         },
         "projection": {
          "type": "natural earth"
         },
         "resolution": 50,
         "scope": "europe",
         "showcoastlines": false,
         "showcountries": false,
         "showlakes": true,
         "visible": true
        },
        "geo3": {
         "domain": {
          "x": [
           0.6666666666666666,
           1
          ],
          "y": [
           0.5,
           1
          ]
         },
         "lakecolor": "rgb(255, 255, 255)",
         "lataxis": {
          "range": [
           30,
           75
          ]
         },
         "lonaxis": {
          "range": [
           -20,
           40
          ]
         },
         "projection": {
          "type": "natural earth"
         },
         "resolution": 50,
         "scope": "europe",
         "showcoastlines": false,
         "showcountries": false,
         "showlakes": true,
         "visible": true
        },
        "geo4": {
         "domain": {
          "x": [
           0,
           0.3333333333333333
          ],
          "y": [
           0,
           0.5
          ]
         },
         "lakecolor": "rgb(255, 255, 255)",
         "lataxis": {
          "range": [
           30,
           75
          ]
         },
         "lonaxis": {
          "range": [
           -20,
           40
          ]
         },
         "projection": {
          "type": "natural earth"
         },
         "resolution": 50,
         "scope": "europe",
         "showcoastlines": false,
         "showcountries": false,
         "showlakes": true,
         "visible": true
        },
        "geo5": {
         "domain": {
          "x": [
           0.3333333333333333,
           0.6666666666666666
          ],
          "y": [
           0,
           0.5
          ]
         },
         "lakecolor": "rgb(255, 255, 255)",
         "lataxis": {
          "range": [
           30,
           75
          ]
         },
         "lonaxis": {
          "range": [
           -20,
           40
          ]
         },
         "projection": {
          "type": "natural earth"
         },
         "resolution": 50,
         "scope": "europe",
         "showcoastlines": false,
         "showcountries": false,
         "showlakes": true,
         "visible": true
        },
        "geo6": {
         "domain": {
          "x": [
           0.6666666666666666,
           1
          ],
          "y": [
           0,
           0.5
          ]
         },
         "lakecolor": "rgb(255, 255, 255)",
         "lataxis": {
          "range": [
           30,
           75
          ]
         },
         "lonaxis": {
          "range": [
           -20,
           40
          ]
         },
         "projection": {
          "type": "natural earth"
         },
         "resolution": 50,
         "scope": "europe",
         "showcoastlines": false,
         "showcountries": false,
         "showlakes": true,
         "visible": true
        },
        "height": 1200,
        "margin": {
         "b": 0,
         "l": 0,
         "r": 0,
         "t": 0
        },
        "template": {
         "data": {
          "bar": [
           {
            "error_x": {
             "color": "#2a3f5f"
            },
            "error_y": {
             "color": "#2a3f5f"
            },
            "marker": {
             "line": {
              "color": "#E5ECF6",
              "width": 0.5
             },
             "pattern": {
              "fillmode": "overlay",
              "size": 10,
              "solidity": 0.2
             }
            },
            "type": "bar"
           }
          ],
          "barpolar": [
           {
            "marker": {
             "line": {
              "color": "#E5ECF6",
              "width": 0.5
             },
             "pattern": {
              "fillmode": "overlay",
              "size": 10,
              "solidity": 0.2
             }
            },
            "type": "barpolar"
           }
          ],
          "carpet": [
           {
            "aaxis": {
             "endlinecolor": "#2a3f5f",
             "gridcolor": "white",
             "linecolor": "white",
             "minorgridcolor": "white",
             "startlinecolor": "#2a3f5f"
            },
            "baxis": {
             "endlinecolor": "#2a3f5f",
             "gridcolor": "white",
             "linecolor": "white",
             "minorgridcolor": "white",
             "startlinecolor": "#2a3f5f"
            },
            "type": "carpet"
           }
          ],
          "choropleth": [
           {
            "colorbar": {
             "outlinewidth": 0,
             "ticks": ""
            },
            "type": "choropleth"
           }
          ],
          "contour": [
           {
            "colorbar": {
             "outlinewidth": 0,
             "ticks": ""
            },
            "colorscale": [
             [
              0,
              "#0d0887"
             ],
             [
              0.1111111111111111,
              "#46039f"
             ],
             [
              0.2222222222222222,
              "#7201a8"
             ],
             [
              0.3333333333333333,
              "#9c179e"
             ],
             [
              0.4444444444444444,
              "#bd3786"
             ],
             [
              0.5555555555555556,
              "#d8576b"
             ],
             [
              0.6666666666666666,
              "#ed7953"
             ],
             [
              0.7777777777777778,
              "#fb9f3a"
             ],
             [
              0.8888888888888888,
              "#fdca26"
             ],
             [
              1,
              "#f0f921"
             ]
            ],
            "type": "contour"
           }
          ],
          "contourcarpet": [
           {
            "colorbar": {
             "outlinewidth": 0,
             "ticks": ""
            },
            "type": "contourcarpet"
           }
          ],
          "heatmap": [
           {
            "colorbar": {
             "outlinewidth": 0,
             "ticks": ""
            },
            "colorscale": [
             [
              0,
              "#0d0887"
             ],
             [
              0.1111111111111111,
              "#46039f"
             ],
             [
              0.2222222222222222,
              "#7201a8"
             ],
             [
              0.3333333333333333,
              "#9c179e"
             ],
             [
              0.4444444444444444,
              "#bd3786"
             ],
             [
              0.5555555555555556,
              "#d8576b"
             ],
             [
              0.6666666666666666,
              "#ed7953"
             ],
             [
              0.7777777777777778,
              "#fb9f3a"
             ],
             [
              0.8888888888888888,
              "#fdca26"
             ],
             [
              1,
              "#f0f921"
             ]
            ],
            "type": "heatmap"
           }
          ],
          "heatmapgl": [
           {
            "colorbar": {
             "outlinewidth": 0,
             "ticks": ""
            },
            "colorscale": [
             [
              0,
              "#0d0887"
             ],
             [
              0.1111111111111111,
              "#46039f"
             ],
             [
              0.2222222222222222,
              "#7201a8"
             ],
             [
              0.3333333333333333,
              "#9c179e"
             ],
             [
              0.4444444444444444,
              "#bd3786"
             ],
             [
              0.5555555555555556,
              "#d8576b"
             ],
             [
              0.6666666666666666,
              "#ed7953"
             ],
             [
              0.7777777777777778,
              "#fb9f3a"
             ],
             [
              0.8888888888888888,
              "#fdca26"
             ],
             [
              1,
              "#f0f921"
             ]
            ],
            "type": "heatmapgl"
           }
          ],
          "histogram": [
           {
            "marker": {
             "pattern": {
              "fillmode": "overlay",
              "size": 10,
              "solidity": 0.2
             }
            },
            "type": "histogram"
           }
          ],
          "histogram2d": [
           {
            "colorbar": {
             "outlinewidth": 0,
             "ticks": ""
            },
            "colorscale": [
             [
              0,
              "#0d0887"
             ],
             [
              0.1111111111111111,
              "#46039f"
             ],
             [
              0.2222222222222222,
              "#7201a8"
             ],
             [
              0.3333333333333333,
              "#9c179e"
             ],
             [
              0.4444444444444444,
              "#bd3786"
             ],
             [
              0.5555555555555556,
              "#d8576b"
             ],
             [
              0.6666666666666666,
              "#ed7953"
             ],
             [
              0.7777777777777778,
              "#fb9f3a"
             ],
             [
              0.8888888888888888,
              "#fdca26"
             ],
             [
              1,
              "#f0f921"
             ]
            ],
            "type": "histogram2d"
           }
          ],
          "histogram2dcontour": [
           {
            "colorbar": {
             "outlinewidth": 0,
             "ticks": ""
            },
            "colorscale": [
             [
              0,
              "#0d0887"
             ],
             [
              0.1111111111111111,
              "#46039f"
             ],
             [
              0.2222222222222222,
              "#7201a8"
             ],
             [
              0.3333333333333333,
              "#9c179e"
             ],
             [
              0.4444444444444444,
              "#bd3786"
             ],
             [
              0.5555555555555556,
              "#d8576b"
             ],
             [
              0.6666666666666666,
              "#ed7953"
             ],
             [
              0.7777777777777778,
              "#fb9f3a"
             ],
             [
              0.8888888888888888,
              "#fdca26"
             ],
             [
              1,
              "#f0f921"
             ]
            ],
            "type": "histogram2dcontour"
           }
          ],
          "mesh3d": [
           {
            "colorbar": {
             "outlinewidth": 0,
             "ticks": ""
            },
            "type": "mesh3d"
           }
          ],
          "parcoords": [
           {
            "line": {
             "colorbar": {
              "outlinewidth": 0,
              "ticks": ""
             }
            },
            "type": "parcoords"
           }
          ],
          "pie": [
           {
            "automargin": true,
            "type": "pie"
           }
          ],
          "scatter": [
           {
            "fillpattern": {
             "fillmode": "overlay",
             "size": 10,
             "solidity": 0.2
            },
            "type": "scatter"
           }
          ],
          "scatter3d": [
           {
            "line": {
             "colorbar": {
              "outlinewidth": 0,
              "ticks": ""
             }
            },
            "marker": {
             "colorbar": {
              "outlinewidth": 0,
              "ticks": ""
             }
            },
            "type": "scatter3d"
           }
          ],
          "scattercarpet": [
           {
            "marker": {
             "colorbar": {
              "outlinewidth": 0,
              "ticks": ""
             }
            },
            "type": "scattercarpet"
           }
          ],
          "scattergeo": [
           {
            "marker": {
             "colorbar": {
              "outlinewidth": 0,
              "ticks": ""
             }
            },
            "type": "scattergeo"
           }
          ],
          "scattergl": [
           {
            "marker": {
             "colorbar": {
              "outlinewidth": 0,
              "ticks": ""
             }
            },
            "type": "scattergl"
           }
          ],
          "scattermapbox": [
           {
            "marker": {
             "colorbar": {
              "outlinewidth": 0,
              "ticks": ""
             }
            },
            "type": "scattermapbox"
           }
          ],
          "scatterpolar": [
           {
            "marker": {
             "colorbar": {
              "outlinewidth": 0,
              "ticks": ""
             }
            },
            "type": "scatterpolar"
           }
          ],
          "scatterpolargl": [
           {
            "marker": {
             "colorbar": {
              "outlinewidth": 0,
              "ticks": ""
             }
            },
            "type": "scatterpolargl"
           }
          ],
          "scatterternary": [
           {
            "marker": {
             "colorbar": {
              "outlinewidth": 0,
              "ticks": ""
             }
            },
            "type": "scatterternary"
           }
          ],
          "surface": [
           {
            "colorbar": {
             "outlinewidth": 0,
             "ticks": ""
            },
            "colorscale": [
             [
              0,
              "#0d0887"
             ],
             [
              0.1111111111111111,
              "#46039f"
             ],
             [
              0.2222222222222222,
              "#7201a8"
             ],
             [
              0.3333333333333333,
              "#9c179e"
             ],
             [
              0.4444444444444444,
              "#bd3786"
             ],
             [
              0.5555555555555556,
              "#d8576b"
             ],
             [
              0.6666666666666666,
              "#ed7953"
             ],
             [
              0.7777777777777778,
              "#fb9f3a"
             ],
             [
              0.8888888888888888,
              "#fdca26"
             ],
             [
              1,
              "#f0f921"
             ]
            ],
            "type": "surface"
           }
          ],
          "table": [
           {
            "cells": {
             "fill": {
              "color": "#EBF0F8"
             },
             "line": {
              "color": "white"
             }
            },
            "header": {
             "fill": {
              "color": "#C8D4E3"
             },
             "line": {
              "color": "white"
             }
            },
            "type": "table"
           }
          ]
         },
         "layout": {
          "annotationdefaults": {
           "arrowcolor": "#2a3f5f",
           "arrowhead": 0,
           "arrowwidth": 1
          },
          "autotypenumbers": "strict",
          "coloraxis": {
           "colorbar": {
            "outlinewidth": 0,
            "ticks": ""
           }
          },
          "colorscale": {
           "diverging": [
            [
             0,
             "#8e0152"
            ],
            [
             0.1,
             "#c51b7d"
            ],
            [
             0.2,
             "#de77ae"
            ],
            [
             0.3,
             "#f1b6da"
            ],
            [
             0.4,
             "#fde0ef"
            ],
            [
             0.5,
             "#f7f7f7"
            ],
            [
             0.6,
             "#e6f5d0"
            ],
            [
             0.7,
             "#b8e186"
            ],
            [
             0.8,
             "#7fbc41"
            ],
            [
             0.9,
             "#4d9221"
            ],
            [
             1,
             "#276419"
            ]
           ],
           "sequential": [
            [
             0,
             "#0d0887"
            ],
            [
             0.1111111111111111,
             "#46039f"
            ],
            [
             0.2222222222222222,
             "#7201a8"
            ],
            [
             0.3333333333333333,
             "#9c179e"
            ],
            [
             0.4444444444444444,
             "#bd3786"
            ],
            [
             0.5555555555555556,
             "#d8576b"
            ],
            [
             0.6666666666666666,
             "#ed7953"
            ],
            [
             0.7777777777777778,
             "#fb9f3a"
            ],
            [
             0.8888888888888888,
             "#fdca26"
            ],
            [
             1,
             "#f0f921"
            ]
           ],
           "sequentialminus": [
            [
             0,
             "#0d0887"
            ],
            [
             0.1111111111111111,
             "#46039f"
            ],
            [
             0.2222222222222222,
             "#7201a8"
            ],
            [
             0.3333333333333333,
             "#9c179e"
            ],
            [
             0.4444444444444444,
             "#bd3786"
            ],
            [
             0.5555555555555556,
             "#d8576b"
            ],
            [
             0.6666666666666666,
             "#ed7953"
            ],
            [
             0.7777777777777778,
             "#fb9f3a"
            ],
            [
             0.8888888888888888,
             "#fdca26"
            ],
            [
             1,
             "#f0f921"
            ]
           ]
          },
          "colorway": [
           "#636efa",
           "#EF553B",
           "#00cc96",
           "#ab63fa",
           "#FFA15A",
           "#19d3f3",
           "#FF6692",
           "#B6E880",
           "#FF97FF",
           "#FECB52"
          ],
          "font": {
           "color": "#2a3f5f"
          },
          "geo": {
           "bgcolor": "white",
           "lakecolor": "white",
           "landcolor": "#E5ECF6",
           "showlakes": true,
           "showland": true,
           "subunitcolor": "white"
          },
          "hoverlabel": {
           "align": "left"
          },
          "hovermode": "closest",
          "mapbox": {
           "style": "light"
          },
          "paper_bgcolor": "white",
          "plot_bgcolor": "#E5ECF6",
          "polar": {
           "angularaxis": {
            "gridcolor": "white",
            "linecolor": "white",
            "ticks": ""
           },
           "bgcolor": "#E5ECF6",
           "radialaxis": {
            "gridcolor": "white",
            "linecolor": "white",
            "ticks": ""
           }
          },
          "scene": {
           "xaxis": {
            "backgroundcolor": "#E5ECF6",
            "gridcolor": "white",
            "gridwidth": 2,
            "linecolor": "white",
            "showbackground": true,
            "ticks": "",
            "zerolinecolor": "white"
           },
           "yaxis": {
            "backgroundcolor": "#E5ECF6",
            "gridcolor": "white",
            "gridwidth": 2,
            "linecolor": "white",
            "showbackground": true,
            "ticks": "",
            "zerolinecolor": "white"
           },
           "zaxis": {
            "backgroundcolor": "#E5ECF6",
            "gridcolor": "white",
            "gridwidth": 2,
            "linecolor": "white",
            "showbackground": true,
            "ticks": "",
            "zerolinecolor": "white"
           }
          },
          "shapedefaults": {
           "line": {
            "color": "#2a3f5f"
           }
          },
          "ternary": {
           "aaxis": {
            "gridcolor": "white",
            "linecolor": "white",
            "ticks": ""
           },
           "baxis": {
            "gridcolor": "white",
            "linecolor": "white",
            "ticks": ""
           },
           "bgcolor": "#E5ECF6",
           "caxis": {
            "gridcolor": "white",
            "linecolor": "white",
            "ticks": ""
           }
          },
          "title": {
           "x": 0.05
          },
          "xaxis": {
           "automargin": true,
           "gridcolor": "white",
           "linecolor": "white",
           "ticks": "",
           "title": {
            "standoff": 15
           },
           "zerolinecolor": "white",
           "zerolinewidth": 2
          },
          "yaxis": {
           "automargin": true,
           "gridcolor": "white",
           "linecolor": "white",
           "ticks": "",
           "title": {
            "standoff": 15
           },
           "zerolinecolor": "white",
           "zerolinewidth": 2
          }
         }
        },
        "width": 2300
       }
      }
     },
     "metadata": {},
     "output_type": "display_data"
    }
   ],
   "source": [
    "fig = make_subplots(rows=2, cols=3, #subplot_titles=('Grandfathering (GF)',\n",
    "                                                    # 'Per Capita (PC)',\n",
    "                                                    # 'Per Capita Convergence (PCC)',\n",
    "                                                    # 'Equal Cumulative Per Capita',\n",
    "                                                    # 'Ability to pay (AP)',\n",
    "                                                    # 'Greenhouse Development Rights'), \n",
    "                                    specs=[[{'type': 'choropleth'}, {'type': 'choropleth'}, {'type': 'choropleth'}],\n",
    "                                           [{'type': 'choropleth'}, {'type': 'choropleth'}, {'type': 'choropleth'}]],\n",
    "                                    horizontal_spacing = 0,\n",
    "                                    vertical_spacing=0)\n",
    "\n",
    "colorbar_abs = dict(len=1, x=1, tickvals = [0, 1, 2, 3], ticktext = ['1', '10', '100', '1000'])\n",
    "colorbar_pc = dict(len=1, x=1)\n",
    "\n",
    "for var_i, var in enumerate(rules):\n",
    "    if var_i == 0:\n",
    "        cm= True\n",
    "    else:\n",
    "        cm= False\n",
    "    fig.add_trace(\n",
    "        go.Choropleth(\n",
    "        locations=group_eu,\n",
    "        z = xr_budgets_static.sel(Category=\"C1+C2\", ISO=group_eu)[var] / xr_total.GHG_p.sel(Time=2019, ISO=group_eu),\n",
    "        locationmode = 'ISO-3',\n",
    "        colorscale = 'RdBu',\n",
    "        zmax = 40,\n",
    "        zmin = -40,\n",
    "        text = [str(r)+\": \"+str(np.round(float(xr_budgets_static.sel(Category=\"C1+C2\", ISO=r)[var] / xr_total.GHG_p.sel(Time=2019, ISO=r)), 2))+\" times\" for r_i, r in enumerate(group_eu)],\n",
    "        hovertemplate  = '%{text}',\n",
    "        name=\"\",\n",
    "        marker_line_color='white', \n",
    "        marker_line_width=0.2,\n",
    "        colorbar=dict(len=1, x=1, tickvals = np.arange(-40, 40+0.1, 5), title={\"text\":\"GHG budget<br>2020-2100<br>relative<br>to 2019\"}, tickfont={'size': 25}),\n",
    "        showscale=cm\n",
    "    ), [1, 1, 1, 2, 2, 2][var_i], [1, 2, 3, 1, 2, 3][var_i])\n",
    "# fig.update_geos(showocean=True, oceancolor=\"white\")\n",
    "# fig.update_geos(showlakes=True, lakecolor=\"white\")\n",
    "\n",
    "# limite map scope to USA 'africa', 'asia', 'europe', 'north america', 'south america', 'usa', 'world'\n",
    "fig.update_layout(\n",
    "    geo1 = dict(scope='europe', \n",
    "                showlakes=False,\n",
    "                lakecolor='rgb(255, 255, 255)',\n",
    "                showcoastlines=False,),\n",
    "    geo2 = dict(scope='europe', \n",
    "                showlakes=False,\n",
    "                lakecolor='rgb(255, 255, 255)',\n",
    "                showcoastlines=False,),\n",
    "    geo3 = dict(scope='europe', \n",
    "                showlakes=False,\n",
    "                lakecolor='rgb(255, 255, 255)',\n",
    "                showcoastlines=False,),\n",
    "    geo4 = dict(scope='europe', \n",
    "                showlakes=False,\n",
    "                lakecolor='rgb(255, 255, 255)',\n",
    "                showcoastlines=False,),\n",
    "    geo5 = dict(scope='europe', \n",
    "                showlakes=False,\n",
    "                lakecolor='rgb(255, 255, 255)',\n",
    "                showcoastlines=False,),\n",
    "    geo6 = dict(scope='europe', \n",
    "                showlakes=False,\n",
    "                showcoastlines=False,),\n",
    ")\n",
    "\n",
    "#vals = xr_budgets_static.sel(Category=\"C1+C2\", ISO=group_eu)[rules]\n",
    "#vals[vals]\n",
    "mn = np.min(np.array([float((xr_budgets_static.sel(Category=\"C1+C2\", ISO=group_eu)[rules] / xr_total.GHG_p.sel(Time=2019, ISO=group_eu)).min()[r]) for r in rules]))\n",
    "mx = np.max(np.array([float((xr_budgets_static.sel(Category=\"C1+C2\", ISO=group_eu)[rules] / xr_total.GHG_p.sel(Time=2019, ISO=group_eu)).max()[r]) for r in rules]))\n",
    "for var_i, var in enumerate(rules):\n",
    "    vals = np.array(xr_budgets_static.sel(Category=\"C1+C2\", ISO=group_eu)[var] / xr_total.GHG_p.sel(Time=2019, ISO=group_eu))\n",
    "    vals_i = (vals + mn)**1.2\n",
    "    vals_n = 14*(vals - mn)/(mx - mn)+7\n",
    "    vals_boolean = np.copy(vals)\n",
    "    vals_boolean[vals >= 0] = 1\n",
    "    vals_boolean[vals < 0] = 0\n",
    "    vals_boolean = vals_boolean.astype(int)\n",
    "    \n",
    "    fig.add_scattergeo(\n",
    "                locations = group_eu,\n",
    "                text = vals.round(1),\n",
    "                featureidkey=\"properties.NAME_3\",\n",
    "                mode = 'text',\n",
    "                hoverinfo='skip',\n",
    "                showlegend=False,\n",
    "                textfont={'size': vals_n,\n",
    "                          'color': np.array(['darkred', 'black'])[vals_boolean]},\n",
    "                row=[1, 1, 1, 2, 2, 2][var_i],\n",
    "                col=[1, 2, 3, 1, 2, 3][var_i])\n",
    "\n",
    "fig.update_geos(visible=False,\n",
    "                showlakes=True,\n",
    "                lakecolor='rgb(255, 255, 255)',\n",
    "                projection_type='natural earth',\n",
    "                resolution=50,\n",
    "                lataxis_range=[30,75], lonaxis_range=[-20, 40],\n",
    "                showcoastlines=False,)\n",
    "\n",
    "#fig.update_traces(showscale=False)\n",
    "fig.update_layout(height=1200, width=2300)\n",
    "fig.update_geos(visible=True, showcountries=False)#fitbounds=\"locations\", \n",
    "fig.update_layout(margin={\"r\":0,\"t\":0,\"l\":0,\"b\":0})\n",
    "\n",
    "fig.add_annotation(xref='paper', yref='paper',ax=0, align='left', ay=-0, showarrow=False, font=dict(color='black', size=25),\n",
    "                   y=0.96, x=0.07, text=\"<b>(a) Grandfathering</b>\")\n",
    "fig.add_annotation(xref='paper', yref='paper',ax=0, align='left', ay=-0, showarrow=False, font=dict(color='black', size=25),\n",
    "                   y=0.96, x=0.47, text=\"<b>(b) Per Capita</b>\")\n",
    "fig.add_annotation(xref='paper', yref='paper',ax=0, align='left', ay=-0, showarrow=False, font=dict(color='black', size=25),\n",
    "                   y=0.96, x=0.90, text=\"<b>(c) Per Capita Convergence</b>\")\n",
    "fig.add_annotation(xref='paper', yref='paper',ax=0, align='left', ay=-0, showarrow=False, font=dict(color='black', size=25),\n",
    "                   y=0.45, x=0.07, text=\"<b>(d) Equal Cumulative per Capita</b>\")\n",
    "fig.add_annotation(xref='paper', yref='paper',ax=0, align='left', ay=-0, showarrow=False, font=dict(color='black', size=25),\n",
    "                   y=0.45, x=0.48, text=\"<b>(e) Ability to Pay</b>\")\n",
    "fig.add_annotation(xref='paper', yref='paper',ax=0, align='left', ay=-0, showarrow=False, font=dict(color='black', size=25),\n",
    "                   y=0.45, x=0.95, text=\"<b>(f) Greenhouse Development Rights</b>\")\n",
    "fig_europe = fig\n",
    "fig.show()\n",
    "fig_ndc_rel = fig"
   ]
  },
  {
   "cell_type": "code",
   "execution_count": 378,
   "metadata": {},
   "outputs": [],
   "source": [
    "fig_ndc_rel.write_image(\"X:/user/dekkerm/Projects/ECEMF_T5.2/Figures/Figure_Europe/Figure_europe_budgets_rel.svg\")\n",
    "fig_ndc_rel.write_image(\"X:/user/dekkerm/Projects/ECEMF_T5.2/Figures/Figure_Europe/Figure_europe_budgets_rel.png\", scale=3)\n",
    "\n",
    "import os\n",
    "from datetime import date\n",
    "try:\n",
    "    os.remove('X:/user/dekkerm/Projects/ECEMF_T5.2/Figures/Figure_Europe/Figure_europe_budgets_rel.html')\n",
    "except:\n",
    "    3\n",
    "def html_w(typ):\n",
    "    return '<html> '+typ+' <p style=\"font-family: Arial\">'\n",
    "\n",
    "today = date.today()\n",
    "td = today.strftime(\"%B %d, %Y\")\n",
    "\n",
    "with open('X:/user/dekkerm/Projects/ECEMF_T5.2/Figures/Figure_Europe/Figure_europe_budgets_rel.html', 'a') as f:\n",
    "    #f.write(html_w('<h1>')+'Figure 1 - Electricity Generation</p></h1>')\n",
    "    f.write(html_w('<body>')+'Version: '+td+'</p></body>')\n",
    "    f.write(fig_ndc_rel.to_html(full_html=False, include_plotlyjs='cdn'))"
   ]
  },
  {
   "attachments": {},
   "cell_type": "markdown",
   "metadata": {},
   "source": [
    "## NDC picture"
   ]
  },
  {
   "cell_type": "code",
   "execution_count": 379,
   "metadata": {},
   "outputs": [
    {
     "data": {
      "application/vnd.plotly.v1+json": {
       "config": {
        "plotlyServerURL": "https://plotly.com"
       },
       "data": [
        {
         "colorbar": {
          "len": 1,
          "tickfont": {
           "size": 25
          },
          "ticktext": [
           "0%",
           "5%",
           "10%",
           "15%",
           "20%",
           "25%",
           "30%",
           "35%",
           "40%",
           "45%",
           "50%",
           "55%",
           "60%",
           "65%"
          ],
          "tickvals": [
           0,
           5,
           10,
           15,
           20,
           25,
           30,
           35,
           40,
           45,
           50,
           55,
           60,
           65
          ],
          "title": {
           "text": "GHG<br>reduction<br>relative<br>to 1990"
          },
          "x": 1
         },
         "colorscale": [
          [
           0,
           "rgb(253, 253, 204)"
          ],
          [
           0.09090909090909091,
           "rgb(206, 236, 179)"
          ],
          [
           0.18181818181818182,
           "rgb(156, 219, 165)"
          ],
          [
           0.2727272727272727,
           "rgb(111, 201, 163)"
          ],
          [
           0.36363636363636365,
           "rgb(86, 177, 163)"
          ],
          [
           0.45454545454545453,
           "rgb(76, 153, 160)"
          ],
          [
           0.5454545454545454,
           "rgb(68, 130, 155)"
          ],
          [
           0.6363636363636364,
           "rgb(62, 108, 150)"
          ],
          [
           0.7272727272727273,
           "rgb(62, 82, 143)"
          ],
          [
           0.8181818181818182,
           "rgb(64, 60, 115)"
          ],
          [
           0.9090909090909091,
           "rgb(54, 43, 77)"
          ],
          [
           1,
           "rgb(39, 26, 44)"
          ]
         ],
         "geo": "geo",
         "hovertemplate": "%{text}",
         "locationmode": "ISO-3",
         "locations": [
          "AUT",
          "BEL",
          "BGR",
          "HRV",
          "CYP",
          "CZE",
          "DNK",
          "EST",
          "FIN",
          "FRA",
          "DEU",
          "GRC",
          "HUN",
          "IRL",
          "ITA",
          "LVA",
          "LTU",
          "LUX",
          "MLT",
          "NLD",
          "POL",
          "PRT",
          "ROU",
          "SVK",
          "SVN",
          "ESP",
          "SWE"
         ],
         "marker": {
          "line": {
           "color": "white",
           "width": 0.2
          }
         },
         "name": "",
         "showscale": true,
         "text": [
          "AUT: 35.59 %",
          "BEL: 42.92 %",
          "BGR: 63.05 %",
          "HRV: 35.3 %",
          "CYP: 14.71 %",
          "CZE: 57.14 %",
          "DNK: 49.75 %",
          "EST: 67.92 %",
          "FIN: 37.73 %",
          "FRA: 41.77 %",
          "DEU: 61.86 %",
          "GRC: 27.66 %",
          "HUN: 40.57 %",
          "IRL: 22.69 %",
          "ITA: 38.82 %",
          "LVA: 44.96 %",
          "LTU: 49.96 %",
          "LUX: 32.78 %",
          "MLT: 36.64 %",
          "NLD: 47.25 %",
          "POL: 48.04 %",
          "PRT: 7.42 %",
          "ROU: 57.59 %",
          "SVK: 53.82 %",
          "SVN: 47.57 %",
          "ESP: 12.8 %",
          "SWE: 33.99 %"
         ],
         "type": "choropleth",
         "z": [
          35.59360960193654,
          42.9196679735208,
          63.04958392224551,
          35.29626792705795,
          14.712164202008069,
          57.136286088804646,
          49.7527601718425,
          67.9156206449627,
          37.72940596937292,
          41.76614282755999,
          61.86330711472884,
          27.65776085263348,
          40.5709110244987,
          22.69363781513376,
          38.819688264983185,
          44.96278390812164,
          49.958769590280845,
          32.779307980667305,
          36.642028691624105,
          47.25335025011162,
          48.04480441632427,
          7.41818681088863,
          57.59326343764983,
          53.82046966114935,
          47.572617237745085,
          12.797895115689162,
          33.99320525521768
         ]
        },
        {
         "colorbar": {
          "len": 1,
          "tickfont": {
           "size": 25
          },
          "ticktext": [
           "0%",
           "5%",
           "10%",
           "15%",
           "20%",
           "25%",
           "30%",
           "35%",
           "40%",
           "45%",
           "50%",
           "55%",
           "60%",
           "65%"
          ],
          "tickvals": [
           0,
           5,
           10,
           15,
           20,
           25,
           30,
           35,
           40,
           45,
           50,
           55,
           60,
           65
          ],
          "title": {
           "text": "GHG<br>reduction<br>relative<br>to 1990"
          },
          "x": 1
         },
         "colorscale": [
          [
           0,
           "rgb(253, 253, 204)"
          ],
          [
           0.09090909090909091,
           "rgb(206, 236, 179)"
          ],
          [
           0.18181818181818182,
           "rgb(156, 219, 165)"
          ],
          [
           0.2727272727272727,
           "rgb(111, 201, 163)"
          ],
          [
           0.36363636363636365,
           "rgb(86, 177, 163)"
          ],
          [
           0.45454545454545453,
           "rgb(76, 153, 160)"
          ],
          [
           0.5454545454545454,
           "rgb(68, 130, 155)"
          ],
          [
           0.6363636363636364,
           "rgb(62, 108, 150)"
          ],
          [
           0.7272727272727273,
           "rgb(62, 82, 143)"
          ],
          [
           0.8181818181818182,
           "rgb(64, 60, 115)"
          ],
          [
           0.9090909090909091,
           "rgb(54, 43, 77)"
          ],
          [
           1,
           "rgb(39, 26, 44)"
          ]
         ],
         "geo": "geo",
         "hovertemplate": "%{text}",
         "locationmode": "ISO-3",
         "locations": [
          "AUT",
          "BEL",
          "BGR",
          "HRV",
          "CYP",
          "CZE",
          "DNK",
          "EST",
          "FIN",
          "FRA",
          "DEU",
          "GRC",
          "HUN",
          "IRL",
          "ITA",
          "LVA",
          "LTU",
          "LUX",
          "MLT",
          "NLD",
          "POL",
          "PRT",
          "ROU",
          "SVK",
          "SVN",
          "ESP",
          "SWE"
         ],
         "marker": {
          "line": {
           "color": "white",
           "width": 0.2
          }
         },
         "name": "",
         "showscale": false,
         "text": [
          "AUT: 35.59 %",
          "BEL: 42.92 %",
          "BGR: 63.05 %",
          "HRV: 35.3 %",
          "CYP: 14.71 %",
          "CZE: 57.14 %",
          "DNK: 49.75 %",
          "EST: 67.92 %",
          "FIN: 37.73 %",
          "FRA: 41.77 %",
          "DEU: 61.86 %",
          "GRC: 27.66 %",
          "HUN: 40.57 %",
          "IRL: 22.69 %",
          "ITA: 38.82 %",
          "LVA: 44.96 %",
          "LTU: 49.96 %",
          "LUX: 32.78 %",
          "MLT: 36.64 %",
          "NLD: 47.25 %",
          "POL: 48.04 %",
          "PRT: 7.42 %",
          "ROU: 57.59 %",
          "SVK: 53.82 %",
          "SVN: 47.57 %",
          "ESP: 12.8 %",
          "SWE: 33.99 %"
         ],
         "type": "choropleth",
         "z": [
          35.59360960193654,
          42.9196679735208,
          63.04958392224551,
          35.29626792705795,
          14.712164202008069,
          57.136286088804646,
          49.7527601718425,
          67.9156206449627,
          37.72940596937292,
          41.76614282755999,
          61.86330711472884,
          27.65776085263348,
          40.5709110244987,
          22.69363781513376,
          38.819688264983185,
          44.96278390812164,
          49.958769590280845,
          32.779307980667305,
          36.642028691624105,
          47.25335025011162,
          48.04480441632427,
          7.41818681088863,
          57.59326343764983,
          53.82046966114935,
          47.572617237745085,
          12.797895115689162,
          33.99320525521768
         ]
        },
        {
         "colorbar": {
          "len": 1,
          "tickfont": {
           "size": 25
          },
          "ticktext": [
           "0%",
           "5%",
           "10%",
           "15%",
           "20%",
           "25%",
           "30%",
           "35%",
           "40%",
           "45%",
           "50%",
           "55%",
           "60%",
           "65%"
          ],
          "tickvals": [
           0,
           5,
           10,
           15,
           20,
           25,
           30,
           35,
           40,
           45,
           50,
           55,
           60,
           65
          ],
          "title": {
           "text": "GHG<br>reduction<br>relative<br>to 1990"
          },
          "x": 1
         },
         "colorscale": [
          [
           0,
           "rgb(253, 253, 204)"
          ],
          [
           0.09090909090909091,
           "rgb(206, 236, 179)"
          ],
          [
           0.18181818181818182,
           "rgb(156, 219, 165)"
          ],
          [
           0.2727272727272727,
           "rgb(111, 201, 163)"
          ],
          [
           0.36363636363636365,
           "rgb(86, 177, 163)"
          ],
          [
           0.45454545454545453,
           "rgb(76, 153, 160)"
          ],
          [
           0.5454545454545454,
           "rgb(68, 130, 155)"
          ],
          [
           0.6363636363636364,
           "rgb(62, 108, 150)"
          ],
          [
           0.7272727272727273,
           "rgb(62, 82, 143)"
          ],
          [
           0.8181818181818182,
           "rgb(64, 60, 115)"
          ],
          [
           0.9090909090909091,
           "rgb(54, 43, 77)"
          ],
          [
           1,
           "rgb(39, 26, 44)"
          ]
         ],
         "geo": "geo",
         "hovertemplate": "%{text}",
         "locationmode": "ISO-3",
         "locations": [
          "AUT",
          "BEL",
          "BGR",
          "HRV",
          "CYP",
          "CZE",
          "DNK",
          "EST",
          "FIN",
          "FRA",
          "DEU",
          "GRC",
          "HUN",
          "IRL",
          "ITA",
          "LVA",
          "LTU",
          "LUX",
          "MLT",
          "NLD",
          "POL",
          "PRT",
          "ROU",
          "SVK",
          "SVN",
          "ESP",
          "SWE"
         ],
         "marker": {
          "line": {
           "color": "white",
           "width": 0.2
          }
         },
         "name": "",
         "showscale": false,
         "text": [
          "AUT: 35.59 %",
          "BEL: 42.92 %",
          "BGR: 63.05 %",
          "HRV: 35.3 %",
          "CYP: 14.71 %",
          "CZE: 57.14 %",
          "DNK: 49.75 %",
          "EST: 67.92 %",
          "FIN: 37.73 %",
          "FRA: 41.77 %",
          "DEU: 61.86 %",
          "GRC: 27.66 %",
          "HUN: 40.57 %",
          "IRL: 22.69 %",
          "ITA: 38.82 %",
          "LVA: 44.96 %",
          "LTU: 49.96 %",
          "LUX: 32.78 %",
          "MLT: 36.64 %",
          "NLD: 47.25 %",
          "POL: 48.04 %",
          "PRT: 7.42 %",
          "ROU: 57.59 %",
          "SVK: 53.82 %",
          "SVN: 47.57 %",
          "ESP: 12.8 %",
          "SWE: 33.99 %"
         ],
         "type": "choropleth",
         "z": [
          35.59360960193654,
          42.9196679735208,
          63.04958392224551,
          35.29626792705795,
          14.712164202008069,
          57.136286088804646,
          49.7527601718425,
          67.9156206449627,
          37.72940596937292,
          41.76614282755999,
          61.86330711472884,
          27.65776085263348,
          40.5709110244987,
          22.69363781513376,
          38.819688264983185,
          44.96278390812164,
          49.958769590280845,
          32.779307980667305,
          36.642028691624105,
          47.25335025011162,
          48.04480441632427,
          7.41818681088863,
          57.59326343764983,
          53.82046966114935,
          47.572617237745085,
          12.797895115689162,
          33.99320525521768
         ]
        },
        {
         "colorbar": {
          "len": 1,
          "tickfont": {
           "size": 25
          },
          "ticktext": [
           "0%",
           "5%",
           "10%",
           "15%",
           "20%",
           "25%",
           "30%",
           "35%",
           "40%",
           "45%",
           "50%",
           "55%",
           "60%",
           "65%"
          ],
          "tickvals": [
           0,
           5,
           10,
           15,
           20,
           25,
           30,
           35,
           40,
           45,
           50,
           55,
           60,
           65
          ],
          "title": {
           "text": "GHG<br>reduction<br>relative<br>to 1990"
          },
          "x": 1
         },
         "colorscale": [
          [
           0,
           "rgb(253, 253, 204)"
          ],
          [
           0.09090909090909091,
           "rgb(206, 236, 179)"
          ],
          [
           0.18181818181818182,
           "rgb(156, 219, 165)"
          ],
          [
           0.2727272727272727,
           "rgb(111, 201, 163)"
          ],
          [
           0.36363636363636365,
           "rgb(86, 177, 163)"
          ],
          [
           0.45454545454545453,
           "rgb(76, 153, 160)"
          ],
          [
           0.5454545454545454,
           "rgb(68, 130, 155)"
          ],
          [
           0.6363636363636364,
           "rgb(62, 108, 150)"
          ],
          [
           0.7272727272727273,
           "rgb(62, 82, 143)"
          ],
          [
           0.8181818181818182,
           "rgb(64, 60, 115)"
          ],
          [
           0.9090909090909091,
           "rgb(54, 43, 77)"
          ],
          [
           1,
           "rgb(39, 26, 44)"
          ]
         ],
         "geo": "geo",
         "hovertemplate": "%{text}",
         "locationmode": "ISO-3",
         "locations": [
          "AUT",
          "BEL",
          "BGR",
          "HRV",
          "CYP",
          "CZE",
          "DNK",
          "EST",
          "FIN",
          "FRA",
          "DEU",
          "GRC",
          "HUN",
          "IRL",
          "ITA",
          "LVA",
          "LTU",
          "LUX",
          "MLT",
          "NLD",
          "POL",
          "PRT",
          "ROU",
          "SVK",
          "SVN",
          "ESP",
          "SWE"
         ],
         "marker": {
          "line": {
           "color": "white",
           "width": 0.2
          }
         },
         "name": "",
         "showscale": false,
         "text": [
          "AUT: 35.59 %",
          "BEL: 42.92 %",
          "BGR: 63.05 %",
          "HRV: 35.3 %",
          "CYP: 14.71 %",
          "CZE: 57.14 %",
          "DNK: 49.75 %",
          "EST: 67.92 %",
          "FIN: 37.73 %",
          "FRA: 41.77 %",
          "DEU: 61.86 %",
          "GRC: 27.66 %",
          "HUN: 40.57 %",
          "IRL: 22.69 %",
          "ITA: 38.82 %",
          "LVA: 44.96 %",
          "LTU: 49.96 %",
          "LUX: 32.78 %",
          "MLT: 36.64 %",
          "NLD: 47.25 %",
          "POL: 48.04 %",
          "PRT: 7.42 %",
          "ROU: 57.59 %",
          "SVK: 53.82 %",
          "SVN: 47.57 %",
          "ESP: 12.8 %",
          "SWE: 33.99 %"
         ],
         "type": "choropleth",
         "z": [
          35.59360960193654,
          42.9196679735208,
          63.04958392224551,
          35.29626792705795,
          14.712164202008069,
          57.136286088804646,
          49.7527601718425,
          67.9156206449627,
          37.72940596937292,
          41.76614282755999,
          61.86330711472884,
          27.65776085263348,
          40.5709110244987,
          22.69363781513376,
          38.819688264983185,
          44.96278390812164,
          49.958769590280845,
          32.779307980667305,
          36.642028691624105,
          47.25335025011162,
          48.04480441632427,
          7.41818681088863,
          57.59326343764983,
          53.82046966114935,
          47.572617237745085,
          12.797895115689162,
          33.99320525521768
         ]
        },
        {
         "colorbar": {
          "len": 1,
          "tickfont": {
           "size": 25
          },
          "ticktext": [
           "0%",
           "5%",
           "10%",
           "15%",
           "20%",
           "25%",
           "30%",
           "35%",
           "40%",
           "45%",
           "50%",
           "55%",
           "60%",
           "65%"
          ],
          "tickvals": [
           0,
           5,
           10,
           15,
           20,
           25,
           30,
           35,
           40,
           45,
           50,
           55,
           60,
           65
          ],
          "title": {
           "text": "GHG<br>reduction<br>relative<br>to 1990"
          },
          "x": 1
         },
         "colorscale": [
          [
           0,
           "rgb(253, 253, 204)"
          ],
          [
           0.09090909090909091,
           "rgb(206, 236, 179)"
          ],
          [
           0.18181818181818182,
           "rgb(156, 219, 165)"
          ],
          [
           0.2727272727272727,
           "rgb(111, 201, 163)"
          ],
          [
           0.36363636363636365,
           "rgb(86, 177, 163)"
          ],
          [
           0.45454545454545453,
           "rgb(76, 153, 160)"
          ],
          [
           0.5454545454545454,
           "rgb(68, 130, 155)"
          ],
          [
           0.6363636363636364,
           "rgb(62, 108, 150)"
          ],
          [
           0.7272727272727273,
           "rgb(62, 82, 143)"
          ],
          [
           0.8181818181818182,
           "rgb(64, 60, 115)"
          ],
          [
           0.9090909090909091,
           "rgb(54, 43, 77)"
          ],
          [
           1,
           "rgb(39, 26, 44)"
          ]
         ],
         "geo": "geo",
         "hovertemplate": "%{text}",
         "locationmode": "ISO-3",
         "locations": [
          "AUT",
          "BEL",
          "BGR",
          "HRV",
          "CYP",
          "CZE",
          "DNK",
          "EST",
          "FIN",
          "FRA",
          "DEU",
          "GRC",
          "HUN",
          "IRL",
          "ITA",
          "LVA",
          "LTU",
          "LUX",
          "MLT",
          "NLD",
          "POL",
          "PRT",
          "ROU",
          "SVK",
          "SVN",
          "ESP",
          "SWE"
         ],
         "marker": {
          "line": {
           "color": "white",
           "width": 0.2
          }
         },
         "name": "",
         "showscale": false,
         "text": [
          "AUT: 35.59 %",
          "BEL: 42.92 %",
          "BGR: 63.05 %",
          "HRV: 35.3 %",
          "CYP: 14.71 %",
          "CZE: 57.14 %",
          "DNK: 49.75 %",
          "EST: 67.92 %",
          "FIN: 37.73 %",
          "FRA: 41.77 %",
          "DEU: 61.86 %",
          "GRC: 27.66 %",
          "HUN: 40.57 %",
          "IRL: 22.69 %",
          "ITA: 38.82 %",
          "LVA: 44.96 %",
          "LTU: 49.96 %",
          "LUX: 32.78 %",
          "MLT: 36.64 %",
          "NLD: 47.25 %",
          "POL: 48.04 %",
          "PRT: 7.42 %",
          "ROU: 57.59 %",
          "SVK: 53.82 %",
          "SVN: 47.57 %",
          "ESP: 12.8 %",
          "SWE: 33.99 %"
         ],
         "type": "choropleth",
         "z": [
          35.59360960193654,
          42.9196679735208,
          63.04958392224551,
          35.29626792705795,
          14.712164202008069,
          57.136286088804646,
          49.7527601718425,
          67.9156206449627,
          37.72940596937292,
          41.76614282755999,
          61.86330711472884,
          27.65776085263348,
          40.5709110244987,
          22.69363781513376,
          38.819688264983185,
          44.96278390812164,
          49.958769590280845,
          32.779307980667305,
          36.642028691624105,
          47.25335025011162,
          48.04480441632427,
          7.41818681088863,
          57.59326343764983,
          53.82046966114935,
          47.572617237745085,
          12.797895115689162,
          33.99320525521768
         ]
        },
        {
         "colorbar": {
          "len": 1,
          "tickfont": {
           "size": 25
          },
          "ticktext": [
           "0%",
           "5%",
           "10%",
           "15%",
           "20%",
           "25%",
           "30%",
           "35%",
           "40%",
           "45%",
           "50%",
           "55%",
           "60%",
           "65%"
          ],
          "tickvals": [
           0,
           5,
           10,
           15,
           20,
           25,
           30,
           35,
           40,
           45,
           50,
           55,
           60,
           65
          ],
          "title": {
           "text": "GHG<br>reduction<br>relative<br>to 1990"
          },
          "x": 1
         },
         "colorscale": [
          [
           0,
           "rgb(253, 253, 204)"
          ],
          [
           0.09090909090909091,
           "rgb(206, 236, 179)"
          ],
          [
           0.18181818181818182,
           "rgb(156, 219, 165)"
          ],
          [
           0.2727272727272727,
           "rgb(111, 201, 163)"
          ],
          [
           0.36363636363636365,
           "rgb(86, 177, 163)"
          ],
          [
           0.45454545454545453,
           "rgb(76, 153, 160)"
          ],
          [
           0.5454545454545454,
           "rgb(68, 130, 155)"
          ],
          [
           0.6363636363636364,
           "rgb(62, 108, 150)"
          ],
          [
           0.7272727272727273,
           "rgb(62, 82, 143)"
          ],
          [
           0.8181818181818182,
           "rgb(64, 60, 115)"
          ],
          [
           0.9090909090909091,
           "rgb(54, 43, 77)"
          ],
          [
           1,
           "rgb(39, 26, 44)"
          ]
         ],
         "geo": "geo",
         "hovertemplate": "%{text}",
         "locationmode": "ISO-3",
         "locations": [
          "AUT",
          "BEL",
          "BGR",
          "HRV",
          "CYP",
          "CZE",
          "DNK",
          "EST",
          "FIN",
          "FRA",
          "DEU",
          "GRC",
          "HUN",
          "IRL",
          "ITA",
          "LVA",
          "LTU",
          "LUX",
          "MLT",
          "NLD",
          "POL",
          "PRT",
          "ROU",
          "SVK",
          "SVN",
          "ESP",
          "SWE"
         ],
         "marker": {
          "line": {
           "color": "white",
           "width": 0.2
          }
         },
         "name": "",
         "showscale": false,
         "text": [
          "AUT: 35.59 %",
          "BEL: 42.92 %",
          "BGR: 63.05 %",
          "HRV: 35.3 %",
          "CYP: 14.71 %",
          "CZE: 57.14 %",
          "DNK: 49.75 %",
          "EST: 67.92 %",
          "FIN: 37.73 %",
          "FRA: 41.77 %",
          "DEU: 61.86 %",
          "GRC: 27.66 %",
          "HUN: 40.57 %",
          "IRL: 22.69 %",
          "ITA: 38.82 %",
          "LVA: 44.96 %",
          "LTU: 49.96 %",
          "LUX: 32.78 %",
          "MLT: 36.64 %",
          "NLD: 47.25 %",
          "POL: 48.04 %",
          "PRT: 7.42 %",
          "ROU: 57.59 %",
          "SVK: 53.82 %",
          "SVN: 47.57 %",
          "ESP: 12.8 %",
          "SWE: 33.99 %"
         ],
         "type": "choropleth",
         "z": [
          35.59360960193654,
          42.9196679735208,
          63.04958392224551,
          35.29626792705795,
          14.712164202008069,
          57.136286088804646,
          49.7527601718425,
          67.9156206449627,
          37.72940596937292,
          41.76614282755999,
          61.86330711472884,
          27.65776085263348,
          40.5709110244987,
          22.69363781513376,
          38.819688264983185,
          44.96278390812164,
          49.958769590280845,
          32.779307980667305,
          36.642028691624105,
          47.25335025011162,
          48.04480441632427,
          7.41818681088863,
          57.59326343764983,
          53.82046966114935,
          47.572617237745085,
          12.797895115689162,
          33.99320525521768
         ]
        },
        {
         "featureidkey": "properties.NAME_3",
         "geo": "geo",
         "hoverinfo": "skip",
         "locations": [
          "AUT",
          "BEL",
          "BGR",
          "HRV",
          "CYP",
          "CZE",
          "DNK",
          "EST",
          "FIN",
          "FRA",
          "DEU",
          "GRC",
          "HUN",
          "IRL",
          "ITA",
          "LVA",
          "LTU",
          "LUX",
          "MLT",
          "NLD",
          "POL",
          "PRT",
          "ROU",
          "SVK",
          "SVN",
          "ESP",
          "SWE"
         ],
         "mode": "text",
         "showlegend": false,
         "text": [
          "35%",
          "42%",
          "63%",
          "35%",
          "14%",
          "57%",
          "49%",
          "67%",
          "37%",
          "41%",
          "61%",
          "27%",
          "40%",
          "22%",
          "38%",
          "44%",
          "49%",
          "32%",
          "36%",
          "47%",
          "48%",
          "7%",
          "57%",
          "53%",
          "47%",
          "12%",
          "33%"
         ],
         "textfont": {
          "color": [
           "black",
           "black",
           "black",
           "black",
           "black",
           "black",
           "black",
           "black",
           "black",
           "black",
           "black",
           "black",
           "black",
           "black",
           "black",
           "black",
           "black",
           "black",
           "black",
           "black",
           "black",
           "black",
           "black",
           "black",
           "black",
           "black",
           "black"
          ],
          "size": [
           18.520209107654757,
           20.215567252654488,
           24.87392720979066,
           18.45139985105525,
           13.687934132144251,
           23.505502725948432,
           21.796845741902125,
           26,
           19.014463942101436,
           19.948624491284736,
           24.599405230052085,
           16.68373645998905,
           19.67203019327282,
           15.534965047376623,
           19.266771373527504,
           20.68837446564905,
           21.84451936498583,
           17.86893813299107,
           18.762828774728284,
           21.218445358834575,
           21.401599546124025,
           12,
           23.611254036018536,
           22.73817381552731,
           21.292328456737994,
           13.244943983471694,
           18.149851896875933
          ]
         },
         "type": "scattergeo"
        }
       ],
       "layout": {
        "annotations": [
         {
          "align": "left",
          "ax": 0,
          "ay": 0,
          "font": {
           "color": "black",
           "size": 30
          },
          "showarrow": false,
          "text": "<b>NDC pledged GHG reduction w.r.t. 1990</b>",
          "x": 0.5,
          "xref": "paper",
          "y": 0.98,
          "yref": "paper"
         }
        ],
        "geo": {
         "domain": {
          "x": [
           0,
           1
          ],
          "y": [
           0,
           1
          ]
         },
         "lakecolor": "rgb(255, 255, 255)",
         "lataxis": {
          "range": [
           30,
           75
          ]
         },
         "lonaxis": {
          "range": [
           -20,
           40
          ]
         },
         "projection": {
          "type": "natural earth"
         },
         "resolution": 50,
         "scope": "europe",
         "showcoastlines": false,
         "showcountries": false,
         "showlakes": true,
         "visible": true
        },
        "height": 800,
        "margin": {
         "b": 0,
         "l": 0,
         "r": 0,
         "t": 0
        },
        "template": {
         "data": {
          "bar": [
           {
            "error_x": {
             "color": "#2a3f5f"
            },
            "error_y": {
             "color": "#2a3f5f"
            },
            "marker": {
             "line": {
              "color": "#E5ECF6",
              "width": 0.5
             },
             "pattern": {
              "fillmode": "overlay",
              "size": 10,
              "solidity": 0.2
             }
            },
            "type": "bar"
           }
          ],
          "barpolar": [
           {
            "marker": {
             "line": {
              "color": "#E5ECF6",
              "width": 0.5
             },
             "pattern": {
              "fillmode": "overlay",
              "size": 10,
              "solidity": 0.2
             }
            },
            "type": "barpolar"
           }
          ],
          "carpet": [
           {
            "aaxis": {
             "endlinecolor": "#2a3f5f",
             "gridcolor": "white",
             "linecolor": "white",
             "minorgridcolor": "white",
             "startlinecolor": "#2a3f5f"
            },
            "baxis": {
             "endlinecolor": "#2a3f5f",
             "gridcolor": "white",
             "linecolor": "white",
             "minorgridcolor": "white",
             "startlinecolor": "#2a3f5f"
            },
            "type": "carpet"
           }
          ],
          "choropleth": [
           {
            "colorbar": {
             "outlinewidth": 0,
             "ticks": ""
            },
            "type": "choropleth"
           }
          ],
          "contour": [
           {
            "colorbar": {
             "outlinewidth": 0,
             "ticks": ""
            },
            "colorscale": [
             [
              0,
              "#0d0887"
             ],
             [
              0.1111111111111111,
              "#46039f"
             ],
             [
              0.2222222222222222,
              "#7201a8"
             ],
             [
              0.3333333333333333,
              "#9c179e"
             ],
             [
              0.4444444444444444,
              "#bd3786"
             ],
             [
              0.5555555555555556,
              "#d8576b"
             ],
             [
              0.6666666666666666,
              "#ed7953"
             ],
             [
              0.7777777777777778,
              "#fb9f3a"
             ],
             [
              0.8888888888888888,
              "#fdca26"
             ],
             [
              1,
              "#f0f921"
             ]
            ],
            "type": "contour"
           }
          ],
          "contourcarpet": [
           {
            "colorbar": {
             "outlinewidth": 0,
             "ticks": ""
            },
            "type": "contourcarpet"
           }
          ],
          "heatmap": [
           {
            "colorbar": {
             "outlinewidth": 0,
             "ticks": ""
            },
            "colorscale": [
             [
              0,
              "#0d0887"
             ],
             [
              0.1111111111111111,
              "#46039f"
             ],
             [
              0.2222222222222222,
              "#7201a8"
             ],
             [
              0.3333333333333333,
              "#9c179e"
             ],
             [
              0.4444444444444444,
              "#bd3786"
             ],
             [
              0.5555555555555556,
              "#d8576b"
             ],
             [
              0.6666666666666666,
              "#ed7953"
             ],
             [
              0.7777777777777778,
              "#fb9f3a"
             ],
             [
              0.8888888888888888,
              "#fdca26"
             ],
             [
              1,
              "#f0f921"
             ]
            ],
            "type": "heatmap"
           }
          ],
          "heatmapgl": [
           {
            "colorbar": {
             "outlinewidth": 0,
             "ticks": ""
            },
            "colorscale": [
             [
              0,
              "#0d0887"
             ],
             [
              0.1111111111111111,
              "#46039f"
             ],
             [
              0.2222222222222222,
              "#7201a8"
             ],
             [
              0.3333333333333333,
              "#9c179e"
             ],
             [
              0.4444444444444444,
              "#bd3786"
             ],
             [
              0.5555555555555556,
              "#d8576b"
             ],
             [
              0.6666666666666666,
              "#ed7953"
             ],
             [
              0.7777777777777778,
              "#fb9f3a"
             ],
             [
              0.8888888888888888,
              "#fdca26"
             ],
             [
              1,
              "#f0f921"
             ]
            ],
            "type": "heatmapgl"
           }
          ],
          "histogram": [
           {
            "marker": {
             "pattern": {
              "fillmode": "overlay",
              "size": 10,
              "solidity": 0.2
             }
            },
            "type": "histogram"
           }
          ],
          "histogram2d": [
           {
            "colorbar": {
             "outlinewidth": 0,
             "ticks": ""
            },
            "colorscale": [
             [
              0,
              "#0d0887"
             ],
             [
              0.1111111111111111,
              "#46039f"
             ],
             [
              0.2222222222222222,
              "#7201a8"
             ],
             [
              0.3333333333333333,
              "#9c179e"
             ],
             [
              0.4444444444444444,
              "#bd3786"
             ],
             [
              0.5555555555555556,
              "#d8576b"
             ],
             [
              0.6666666666666666,
              "#ed7953"
             ],
             [
              0.7777777777777778,
              "#fb9f3a"
             ],
             [
              0.8888888888888888,
              "#fdca26"
             ],
             [
              1,
              "#f0f921"
             ]
            ],
            "type": "histogram2d"
           }
          ],
          "histogram2dcontour": [
           {
            "colorbar": {
             "outlinewidth": 0,
             "ticks": ""
            },
            "colorscale": [
             [
              0,
              "#0d0887"
             ],
             [
              0.1111111111111111,
              "#46039f"
             ],
             [
              0.2222222222222222,
              "#7201a8"
             ],
             [
              0.3333333333333333,
              "#9c179e"
             ],
             [
              0.4444444444444444,
              "#bd3786"
             ],
             [
              0.5555555555555556,
              "#d8576b"
             ],
             [
              0.6666666666666666,
              "#ed7953"
             ],
             [
              0.7777777777777778,
              "#fb9f3a"
             ],
             [
              0.8888888888888888,
              "#fdca26"
             ],
             [
              1,
              "#f0f921"
             ]
            ],
            "type": "histogram2dcontour"
           }
          ],
          "mesh3d": [
           {
            "colorbar": {
             "outlinewidth": 0,
             "ticks": ""
            },
            "type": "mesh3d"
           }
          ],
          "parcoords": [
           {
            "line": {
             "colorbar": {
              "outlinewidth": 0,
              "ticks": ""
             }
            },
            "type": "parcoords"
           }
          ],
          "pie": [
           {
            "automargin": true,
            "type": "pie"
           }
          ],
          "scatter": [
           {
            "fillpattern": {
             "fillmode": "overlay",
             "size": 10,
             "solidity": 0.2
            },
            "type": "scatter"
           }
          ],
          "scatter3d": [
           {
            "line": {
             "colorbar": {
              "outlinewidth": 0,
              "ticks": ""
             }
            },
            "marker": {
             "colorbar": {
              "outlinewidth": 0,
              "ticks": ""
             }
            },
            "type": "scatter3d"
           }
          ],
          "scattercarpet": [
           {
            "marker": {
             "colorbar": {
              "outlinewidth": 0,
              "ticks": ""
             }
            },
            "type": "scattercarpet"
           }
          ],
          "scattergeo": [
           {
            "marker": {
             "colorbar": {
              "outlinewidth": 0,
              "ticks": ""
             }
            },
            "type": "scattergeo"
           }
          ],
          "scattergl": [
           {
            "marker": {
             "colorbar": {
              "outlinewidth": 0,
              "ticks": ""
             }
            },
            "type": "scattergl"
           }
          ],
          "scattermapbox": [
           {
            "marker": {
             "colorbar": {
              "outlinewidth": 0,
              "ticks": ""
             }
            },
            "type": "scattermapbox"
           }
          ],
          "scatterpolar": [
           {
            "marker": {
             "colorbar": {
              "outlinewidth": 0,
              "ticks": ""
             }
            },
            "type": "scatterpolar"
           }
          ],
          "scatterpolargl": [
           {
            "marker": {
             "colorbar": {
              "outlinewidth": 0,
              "ticks": ""
             }
            },
            "type": "scatterpolargl"
           }
          ],
          "scatterternary": [
           {
            "marker": {
             "colorbar": {
              "outlinewidth": 0,
              "ticks": ""
             }
            },
            "type": "scatterternary"
           }
          ],
          "surface": [
           {
            "colorbar": {
             "outlinewidth": 0,
             "ticks": ""
            },
            "colorscale": [
             [
              0,
              "#0d0887"
             ],
             [
              0.1111111111111111,
              "#46039f"
             ],
             [
              0.2222222222222222,
              "#7201a8"
             ],
             [
              0.3333333333333333,
              "#9c179e"
             ],
             [
              0.4444444444444444,
              "#bd3786"
             ],
             [
              0.5555555555555556,
              "#d8576b"
             ],
             [
              0.6666666666666666,
              "#ed7953"
             ],
             [
              0.7777777777777778,
              "#fb9f3a"
             ],
             [
              0.8888888888888888,
              "#fdca26"
             ],
             [
              1,
              "#f0f921"
             ]
            ],
            "type": "surface"
           }
          ],
          "table": [
           {
            "cells": {
             "fill": {
              "color": "#EBF0F8"
             },
             "line": {
              "color": "white"
             }
            },
            "header": {
             "fill": {
              "color": "#C8D4E3"
             },
             "line": {
              "color": "white"
             }
            },
            "type": "table"
           }
          ]
         },
         "layout": {
          "annotationdefaults": {
           "arrowcolor": "#2a3f5f",
           "arrowhead": 0,
           "arrowwidth": 1
          },
          "autotypenumbers": "strict",
          "coloraxis": {
           "colorbar": {
            "outlinewidth": 0,
            "ticks": ""
           }
          },
          "colorscale": {
           "diverging": [
            [
             0,
             "#8e0152"
            ],
            [
             0.1,
             "#c51b7d"
            ],
            [
             0.2,
             "#de77ae"
            ],
            [
             0.3,
             "#f1b6da"
            ],
            [
             0.4,
             "#fde0ef"
            ],
            [
             0.5,
             "#f7f7f7"
            ],
            [
             0.6,
             "#e6f5d0"
            ],
            [
             0.7,
             "#b8e186"
            ],
            [
             0.8,
             "#7fbc41"
            ],
            [
             0.9,
             "#4d9221"
            ],
            [
             1,
             "#276419"
            ]
           ],
           "sequential": [
            [
             0,
             "#0d0887"
            ],
            [
             0.1111111111111111,
             "#46039f"
            ],
            [
             0.2222222222222222,
             "#7201a8"
            ],
            [
             0.3333333333333333,
             "#9c179e"
            ],
            [
             0.4444444444444444,
             "#bd3786"
            ],
            [
             0.5555555555555556,
             "#d8576b"
            ],
            [
             0.6666666666666666,
             "#ed7953"
            ],
            [
             0.7777777777777778,
             "#fb9f3a"
            ],
            [
             0.8888888888888888,
             "#fdca26"
            ],
            [
             1,
             "#f0f921"
            ]
           ],
           "sequentialminus": [
            [
             0,
             "#0d0887"
            ],
            [
             0.1111111111111111,
             "#46039f"
            ],
            [
             0.2222222222222222,
             "#7201a8"
            ],
            [
             0.3333333333333333,
             "#9c179e"
            ],
            [
             0.4444444444444444,
             "#bd3786"
            ],
            [
             0.5555555555555556,
             "#d8576b"
            ],
            [
             0.6666666666666666,
             "#ed7953"
            ],
            [
             0.7777777777777778,
             "#fb9f3a"
            ],
            [
             0.8888888888888888,
             "#fdca26"
            ],
            [
             1,
             "#f0f921"
            ]
           ]
          },
          "colorway": [
           "#636efa",
           "#EF553B",
           "#00cc96",
           "#ab63fa",
           "#FFA15A",
           "#19d3f3",
           "#FF6692",
           "#B6E880",
           "#FF97FF",
           "#FECB52"
          ],
          "font": {
           "color": "#2a3f5f"
          },
          "geo": {
           "bgcolor": "white",
           "lakecolor": "white",
           "landcolor": "#E5ECF6",
           "showlakes": true,
           "showland": true,
           "subunitcolor": "white"
          },
          "hoverlabel": {
           "align": "left"
          },
          "hovermode": "closest",
          "mapbox": {
           "style": "light"
          },
          "paper_bgcolor": "white",
          "plot_bgcolor": "#E5ECF6",
          "polar": {
           "angularaxis": {
            "gridcolor": "white",
            "linecolor": "white",
            "ticks": ""
           },
           "bgcolor": "#E5ECF6",
           "radialaxis": {
            "gridcolor": "white",
            "linecolor": "white",
            "ticks": ""
           }
          },
          "scene": {
           "xaxis": {
            "backgroundcolor": "#E5ECF6",
            "gridcolor": "white",
            "gridwidth": 2,
            "linecolor": "white",
            "showbackground": true,
            "ticks": "",
            "zerolinecolor": "white"
           },
           "yaxis": {
            "backgroundcolor": "#E5ECF6",
            "gridcolor": "white",
            "gridwidth": 2,
            "linecolor": "white",
            "showbackground": true,
            "ticks": "",
            "zerolinecolor": "white"
           },
           "zaxis": {
            "backgroundcolor": "#E5ECF6",
            "gridcolor": "white",
            "gridwidth": 2,
            "linecolor": "white",
            "showbackground": true,
            "ticks": "",
            "zerolinecolor": "white"
           }
          },
          "shapedefaults": {
           "line": {
            "color": "#2a3f5f"
           }
          },
          "ternary": {
           "aaxis": {
            "gridcolor": "white",
            "linecolor": "white",
            "ticks": ""
           },
           "baxis": {
            "gridcolor": "white",
            "linecolor": "white",
            "ticks": ""
           },
           "bgcolor": "#E5ECF6",
           "caxis": {
            "gridcolor": "white",
            "linecolor": "white",
            "ticks": ""
           }
          },
          "title": {
           "x": 0.05
          },
          "xaxis": {
           "automargin": true,
           "gridcolor": "white",
           "linecolor": "white",
           "ticks": "",
           "title": {
            "standoff": 15
           },
           "zerolinecolor": "white",
           "zerolinewidth": 2
          },
          "yaxis": {
           "automargin": true,
           "gridcolor": "white",
           "linecolor": "white",
           "ticks": "",
           "title": {
            "standoff": 15
           },
           "zerolinecolor": "white",
           "zerolinewidth": 2
          }
         }
        },
        "width": 1200
       }
      }
     },
     "metadata": {},
     "output_type": "display_data"
    }
   ],
   "source": [
    "fig = make_subplots(rows=1, cols=1, #subplot_titles=('Grandfathering (GF)',\n",
    "                                                    # 'Per Capita (PC)',\n",
    "                                                    # 'Per Capita Convergence (PCC)',\n",
    "                                                    # 'Equal Cumulative Per Capita',\n",
    "                                                    # 'Ability to pay (AP)',\n",
    "                                                    # 'Greenhouse Development Rights'), \n",
    "                                    specs=[[{'type': 'choropleth'}]],\n",
    "                                    horizontal_spacing = 0,\n",
    "                                    vertical_spacing=0)\n",
    "\n",
    "ndc = (xr_total.NDC_h.sel(ISO=group_eu, Time=2030)+xr_total.NDC_l.sel(ISO=group_eu, Time=2030))/2\n",
    "ghg1990 = xr_total.GHG_p.sel(Time=1990, ISO=group_eu)\n",
    "ndc_red = (ghg1990 - ndc) / ghg1990 * 100\n",
    "\n",
    "for var_i, var in enumerate(rules):\n",
    "    if var_i == 0:\n",
    "        cm= True\n",
    "    else:\n",
    "        cm= False\n",
    "    fig.add_trace(\n",
    "        go.Choropleth(\n",
    "        locations=group_eu,\n",
    "        z = ndc_red,\n",
    "        locationmode = 'ISO-3',\n",
    "        colorscale = 'deep',\n",
    "        # zmax = 50,\n",
    "        # zmin = 0,\n",
    "        text = [str(r)+\": \"+str(np.round(float(ndc_red.sel(ISO=r)), 2))+\" %\" for r_i, r in enumerate(group_eu)],\n",
    "        hovertemplate  = '%{text}',\n",
    "        name=\"\",\n",
    "        marker_line_color='white', \n",
    "        marker_line_width=0.2,\n",
    "        colorbar=dict(len=1, x=1, tickvals = np.arange(0, 66, 5), ticktext=[str(p)+'%' for p in np.arange(0, 66, 5)], title={\"text\":\"GHG<br>reduction<br>relative<br>to 1990\"}, tickfont={'size': 25}),#\n",
    "        showscale=cm\n",
    "    ), 1, 1)\n",
    "\n",
    "# limite map scope to USA 'africa', 'asia', 'europe', 'north america', 'south america', 'usa', 'world'\n",
    "fig.update_layout(\n",
    "    geo1 = dict(scope='europe', \n",
    "                showlakes=False,\n",
    "                lakecolor='rgb(255, 255, 255)',\n",
    "                showcoastlines=False,),\n",
    ")\n",
    "\n",
    "mn = float(np.min(ndc_red))\n",
    "mx = float(np.max(ndc_red))\n",
    "vals = np.array(ndc_red)\n",
    "vals_i = (vals)**1.2\n",
    "vals_n = 14*(vals - mn)/(mx - mn)+12\n",
    "vals_boolean = np.copy(vals)\n",
    "vals_boolean[vals >= 0] = 1\n",
    "vals_boolean[vals < 0] = 0\n",
    "vals_boolean = vals_boolean.astype(int)\n",
    "\n",
    "fig.add_scattergeo(\n",
    "            locations = group_eu,\n",
    "            text = [str(v)+'%' for v in vals.astype(int)],\n",
    "            featureidkey=\"properties.NAME_3\",\n",
    "            mode = 'text',\n",
    "            hoverinfo='skip',\n",
    "            showlegend=False,\n",
    "            textfont={'size': vals_n,\n",
    "                        'color': np.array(['darkred', 'black'])[vals_boolean]},\n",
    "            row=1,\n",
    "            col=1)\n",
    "\n",
    "fig.update_geos(visible=False,\n",
    "                showlakes=True,\n",
    "                resolution=50,\n",
    "                lataxis_range=[30,75], lonaxis_range=[-20, 40],\n",
    "                lakecolor='rgb(255, 255, 255)',\n",
    "                projection_type='natural earth',\n",
    "                #center=dict(lon=-35, lat=-30),\n",
    "                showcoastlines=False,)\n",
    "\n",
    "#fig.update_traces(showscale=False)\n",
    "fig.update_layout(height=800, width=1200)\n",
    "fig.update_geos(visible=True, showcountries=False)#fitbounds=\"locations\", \n",
    "fig.update_layout(margin={\"r\":0,\"t\":0,\"l\":0,\"b\":0})\n",
    "\n",
    "fig.add_annotation(xref='paper', yref='paper',ax=0, align='left', ay=-0, showarrow=False, font=dict(color='black', size=30),\n",
    "                   y=0.98, x=0.5, text=\"<b>NDC pledged GHG reduction w.r.t. 1990</b>\")\n",
    "fig_europe = fig\n",
    "fig.show()\n",
    "fig_ndc = fig"
   ]
  },
  {
   "cell_type": "code",
   "execution_count": 380,
   "metadata": {},
   "outputs": [],
   "source": [
    "fig_ndc.write_image(\"X:/user/dekkerm/Projects/ECEMF_T5.2/Figures/Figure_Europe/Figure_europe_ndc.svg\")\n",
    "fig_ndc.write_image(\"X:/user/dekkerm/Projects/ECEMF_T5.2/Figures/Figure_Europe/Figure_europe_ndc.png\", scale=3)\n",
    "\n",
    "import os\n",
    "from datetime import date\n",
    "try:\n",
    "    os.remove('X:/user/dekkerm/Projects/ECEMF_T5.2/Figures/Figure_Europe/Figure_europe_ndc.html')\n",
    "except:\n",
    "    3\n",
    "def html_w(typ):\n",
    "    return '<html> '+typ+' <p style=\"font-family: Arial\">'\n",
    "\n",
    "today = date.today()\n",
    "td = today.strftime(\"%B %d, %Y\")\n",
    "\n",
    "with open('X:/user/dekkerm/Projects/ECEMF_T5.2/Figures/Figure_Europe/Figure_europe_ndc.html', 'a') as f:\n",
    "    #f.write(html_w('<h1>')+'Figure 1 - Electricity Generation</p></h1>')\n",
    "    f.write(html_w('<body>')+'Version: '+td+'</p></body>')\n",
    "    f.write(fig_ndc.to_html(full_html=False, include_plotlyjs='cdn'))"
   ]
  },
  {
   "attachments": {},
   "cell_type": "markdown",
   "metadata": {},
   "source": [
    "## Temperature alignment"
   ]
  },
  {
   "cell_type": "code",
   "execution_count": 381,
   "metadata": {},
   "outputs": [],
   "source": [
    "wh_eu = np.array([np.where(all_regions_iso == r)[0][0] for r in group_eu])"
   ]
  },
  {
   "cell_type": "code",
   "execution_count": 382,
   "metadata": {},
   "outputs": [
    {
     "data": {
      "application/vnd.plotly.v1+json": {
       "config": {
        "plotlyServerURL": "https://plotly.com"
       },
       "data": [
        {
         "colorbar": {
          "len": 1,
          "tickfont": {
           "size": 25
          },
          "tickvals": [
           1.5,
           1.75,
           2,
           2.25,
           2.5,
           2.75,
           3,
           3.25,
           3.5,
           3.75,
           4
          ],
          "title": {
           "text": "Temperature<br>rise<br>associated<br>with NDC"
          },
          "x": 1
         },
         "colorscale": [
          [
           0,
           "rgb(0,104,55)"
          ],
          [
           0.1,
           "rgb(26,152,80)"
          ],
          [
           0.2,
           "rgb(102,189,99)"
          ],
          [
           0.3,
           "rgb(166,217,106)"
          ],
          [
           0.4,
           "rgb(217,239,139)"
          ],
          [
           0.5,
           "rgb(255,255,191)"
          ],
          [
           0.6,
           "rgb(254,224,139)"
          ],
          [
           0.7,
           "rgb(253,174,97)"
          ],
          [
           0.8,
           "rgb(244,109,67)"
          ],
          [
           0.9,
           "rgb(215,48,39)"
          ],
          [
           1,
           "rgb(165,0,38)"
          ]
         ],
         "geo": "geo",
         "hovertemplate": "%{text}",
         "locationmode": "ISO-3",
         "locations": [
          "AUT",
          "BEL",
          "BGR",
          "HRV",
          "CYP",
          "CZE",
          "DNK",
          "EST",
          "FIN",
          "FRA",
          "DEU",
          "GRC",
          "HUN",
          "IRL",
          "ITA",
          "LVA",
          "LTU",
          "LUX",
          "MLT",
          "NLD",
          "POL",
          "PRT",
          "ROU",
          "SVK",
          "SVN",
          "ESP",
          "SWE"
         ],
         "marker": {
          "line": {
           "color": "white",
           "width": 0.2
          }
         },
         "name": "",
         "showscale": true,
         "text": [
          "AUT: 1.38 C",
          "BEL: 1.41 C",
          "BGR: 1.43 C",
          "HRV: 2.23 C",
          "CYP: 1.39 C",
          "CZE: 1.55 C",
          "DNK: 1.7 C",
          "EST: 1.34 C",
          "FIN: 1.59 C",
          "FRA: 1.59 C",
          "DEU: 1.43 C",
          "GRC: 1.58 C",
          "HUN: 1.77 C",
          "IRL: 1.58 C",
          "ITA: 1.72 C",
          "LVA: 2.1 C",
          "LTU: 1.54 C",
          "LUX: 1.62 C",
          "MLT: 1.39 C",
          "NLD: 1.42 C",
          "POL: 1.47 C",
          "PRT: 1.47 C",
          "ROU: 2.15 C",
          "SVK: 1.53 C",
          "SVN: 1.86 C",
          "ESP: 1.74 C",
          "SWE: 1.69 C"
         ],
         "type": "choropleth",
         "z": [
          1.3765834962043568,
          1.4132829481871358,
          1.4343502161955883,
          2.2251704008085795,
          1.3884291640950235,
          1.5468976083138672,
          1.6973983365657745,
          1.345,
          1.5928863524695944,
          1.5902906543084032,
          1.4301044546249728,
          1.5839972327056826,
          1.7683565113671305,
          1.5845331149819053,
          1.7199601751314098,
          2.0997501653458936,
          1.5389811521605352,
          1.620396375221128,
          1.387960497373032,
          1.4246987713302248,
          1.4696335527455882,
          1.4701778373709538,
          2.149315795462585,
          1.5342747228054576,
          1.8565042379291758,
          1.7363515252786232,
          1.6906467035276815
         ],
         "zmax": 4,
         "zmin": 1.5
        },
        {
         "colorbar": {
          "len": 1,
          "tickfont": {
           "size": 25
          },
          "tickvals": [
           1.5,
           1.75,
           2,
           2.25,
           2.5,
           2.75,
           3,
           3.25,
           3.5,
           3.75,
           4
          ],
          "title": {
           "text": "Temperature<br>rise<br>associated<br>with NDC"
          },
          "x": 1
         },
         "colorscale": [
          [
           0,
           "rgb(0,104,55)"
          ],
          [
           0.1,
           "rgb(26,152,80)"
          ],
          [
           0.2,
           "rgb(102,189,99)"
          ],
          [
           0.3,
           "rgb(166,217,106)"
          ],
          [
           0.4,
           "rgb(217,239,139)"
          ],
          [
           0.5,
           "rgb(255,255,191)"
          ],
          [
           0.6,
           "rgb(254,224,139)"
          ],
          [
           0.7,
           "rgb(253,174,97)"
          ],
          [
           0.8,
           "rgb(244,109,67)"
          ],
          [
           0.9,
           "rgb(215,48,39)"
          ],
          [
           1,
           "rgb(165,0,38)"
          ]
         ],
         "geo": "geo2",
         "hovertemplate": "%{text}",
         "locationmode": "ISO-3",
         "locations": [
          "AUT",
          "BEL",
          "BGR",
          "HRV",
          "CYP",
          "CZE",
          "DNK",
          "EST",
          "FIN",
          "FRA",
          "DEU",
          "GRC",
          "HUN",
          "IRL",
          "ITA",
          "LVA",
          "LTU",
          "LUX",
          "MLT",
          "NLD",
          "POL",
          "PRT",
          "ROU",
          "SVK",
          "SVN",
          "ESP",
          "SWE"
         ],
         "marker": {
          "line": {
           "color": "white",
           "width": 0.2
          }
         },
         "name": "",
         "showscale": false,
         "text": [
          "AUT: 2.55 C",
          "BEL: 3.02 C",
          "BGR: 2.48 C",
          "HRV: 2.67 C",
          "CYP: 1.45 C",
          "CZE: 4.73 C",
          "DNK: 2.45 C",
          "EST: 5.05 C",
          "FIN: 6.33 C",
          "FRA: 1.88 C",
          "DEU: 2.4 C",
          "GRC: 3.61 C",
          "HUN: 2.5 C",
          "IRL: 5.8 C",
          "ITA: 2.22 C",
          "LVA: 3.81 C",
          "LTU: 4.13 C",
          "LUX: 10.99 C",
          "MLT: 1.34 C",
          "NLD: 3.3 C",
          "POL: 3.47 C",
          "PRT: 2.41 C",
          "ROU: 2.08 C",
          "SVK: 2.12 C",
          "SVN: 3.52 C",
          "ESP: 2.18 C",
          "SWE: 1.76 C"
         ],
         "type": "choropleth",
         "z": [
          2.5501608082473757,
          3.018307544403885,
          2.479800662426411,
          2.6681844205863103,
          1.4513607543526126,
          4.733570086890669,
          2.454183462177075,
          5.047483656596131,
          6.3273127845055805,
          1.878933999016711,
          2.401128635785305,
          3.6147007867708716,
          2.5047500377427045,
          5.803335757297463,
          2.2248307300080694,
          3.8078453753039656,
          4.133957515869948,
          10.986470494757242,
          1.345,
          3.303938602446225,
          3.4659758545549675,
          2.407618539571949,
          2.080421859000965,
          2.119921557245266,
          3.5193047777419317,
          2.178085889894848,
          1.7634859369437876
         ],
         "zmax": 4,
         "zmin": 1.5
        },
        {
         "colorbar": {
          "len": 1,
          "tickfont": {
           "size": 25
          },
          "tickvals": [
           1.5,
           1.75,
           2,
           2.25,
           2.5,
           2.75,
           3,
           3.25,
           3.5,
           3.75,
           4
          ],
          "title": {
           "text": "Temperature<br>rise<br>associated<br>with NDC"
          },
          "x": 1
         },
         "colorscale": [
          [
           0,
           "rgb(0,104,55)"
          ],
          [
           0.1,
           "rgb(26,152,80)"
          ],
          [
           0.2,
           "rgb(102,189,99)"
          ],
          [
           0.3,
           "rgb(166,217,106)"
          ],
          [
           0.4,
           "rgb(217,239,139)"
          ],
          [
           0.5,
           "rgb(255,255,191)"
          ],
          [
           0.6,
           "rgb(254,224,139)"
          ],
          [
           0.7,
           "rgb(253,174,97)"
          ],
          [
           0.8,
           "rgb(244,109,67)"
          ],
          [
           0.9,
           "rgb(215,48,39)"
          ],
          [
           1,
           "rgb(165,0,38)"
          ]
         ],
         "geo": "geo3",
         "hovertemplate": "%{text}",
         "locationmode": "ISO-3",
         "locations": [
          "AUT",
          "BEL",
          "BGR",
          "HRV",
          "CYP",
          "CZE",
          "DNK",
          "EST",
          "FIN",
          "FRA",
          "DEU",
          "GRC",
          "HUN",
          "IRL",
          "ITA",
          "LVA",
          "LTU",
          "LUX",
          "MLT",
          "NLD",
          "POL",
          "PRT",
          "ROU",
          "SVK",
          "SVN",
          "ESP",
          "SWE"
         ],
         "marker": {
          "line": {
           "color": "white",
           "width": 0.2
          }
         },
         "name": "",
         "showscale": false,
         "text": [
          "AUT: 1.57 C",
          "BEL: 1.7 C",
          "BGR: 1.67 C",
          "HRV: 2.42 C",
          "CYP: 1.41 C",
          "CZE: 2.13 C",
          "DNK: 1.97 C",
          "EST: 1.6 C",
          "FIN: 2.35 C",
          "FRA: 1.71 C",
          "DEU: 1.66 C",
          "GRC: 2.06 C",
          "HUN: 2.04 C",
          "IRL: 2.3 C",
          "ITA: 1.92 C",
          "LVA: 2.68 C",
          "LTU: 2.05 C",
          "LUX: 2.7 C",
          "MLT: 1.37 C",
          "NLD: 1.75 C",
          "POL: 1.85 C",
          "PRT: 1.72 C",
          "ROU: 2.11 C",
          "SVK: 1.73 C",
          "SVN: 2.38 C",
          "ESP: 1.92 C",
          "SWE: 1.73 C"
         ],
         "type": "choropleth",
         "z": [
          1.569148953875498,
          1.6978968168974924,
          1.6742061350138437,
          2.422158543983458,
          1.4142542335488288,
          2.1265394047688764,
          1.9670679781635814,
          1.5999713617953237,
          2.3544406792203727,
          1.7077152760338228,
          1.6563002572959555,
          2.0600906931110474,
          2.041877046113667,
          2.2950157381388587,
          1.9182554078497724,
          2.6817220238250936,
          2.051378393318998,
          2.698708277625759,
          1.3670368355771028,
          1.7494055813461675,
          1.8547893003850102,
          1.7155557514944737,
          2.114056270281293,
          1.7301986796632876,
          2.3761023428578394,
          1.9151450180967282,
          1.725369222517438
         ],
         "zmax": 4,
         "zmin": 1.5
        },
        {
         "colorbar": {
          "len": 1,
          "tickfont": {
           "size": 25
          },
          "tickvals": [
           1.5,
           1.75,
           2,
           2.25,
           2.5,
           2.75,
           3,
           3.25,
           3.5,
           3.75,
           4
          ],
          "title": {
           "text": "Temperature<br>rise<br>associated<br>with NDC"
          },
          "x": 1
         },
         "colorscale": [
          [
           0,
           "rgb(0,104,55)"
          ],
          [
           0.1,
           "rgb(26,152,80)"
          ],
          [
           0.2,
           "rgb(102,189,99)"
          ],
          [
           0.3,
           "rgb(166,217,106)"
          ],
          [
           0.4,
           "rgb(217,239,139)"
          ],
          [
           0.5,
           "rgb(255,255,191)"
          ],
          [
           0.6,
           "rgb(254,224,139)"
          ],
          [
           0.7,
           "rgb(253,174,97)"
          ],
          [
           0.8,
           "rgb(244,109,67)"
          ],
          [
           0.9,
           "rgb(215,48,39)"
          ],
          [
           1,
           "rgb(165,0,38)"
          ]
         ],
         "geo": "geo4",
         "hovertemplate": "%{text}",
         "locationmode": "ISO-3",
         "locations": [
          "AUT",
          "BEL",
          "BGR",
          "HRV",
          "CYP",
          "CZE",
          "DNK",
          "EST",
          "FIN",
          "FRA",
          "DEU",
          "GRC",
          "HUN",
          "IRL",
          "ITA",
          "LVA",
          "LTU",
          "LUX",
          "MLT",
          "NLD",
          "POL",
          "PRT",
          "ROU",
          "SVK",
          "SVN",
          "ESP",
          "SWE"
         ],
         "marker": {
          "line": {
           "color": "white",
           "width": 0.2
          }
         },
         "name": "",
         "showscale": false,
         "text": [
          "AUT: 25.21 C",
          "BEL: 82.63 C",
          "BGR: 14.2 C",
          "HRV: 4.41 C",
          "CYP: 1.7 C",
          "CZE: 564.17 C",
          "DNK: 20.16 C",
          "EST: 11553690271775.58 C",
          "FIN: 1211360624714305.0 C",
          "FRA: 3.65 C",
          "DEU: 53.61 C",
          "GRC: 31.0 C",
          "HUN: 5.31 C",
          "IRL: 1250.48 C",
          "ITA: 7.2 C",
          "LVA: 7.05 C",
          "LTU: 19.76 C",
          "LUX: 4408225640476.15 C",
          "MLT: 1.41 C",
          "NLD: 461.5 C",
          "POL: 99.56 C",
          "PRT: 5.48 C",
          "ROU: 3.0 C",
          "SVK: 7.6 C",
          "SVN: 23.1 C",
          "ESP: 5.27 C",
          "SWE: 2.45 C"
         ],
         "type": "choropleth",
         "z": [
          25.213007425935473,
          82.62628211991539,
          14.196677316312666,
          4.414210403626436,
          1.6971768839692456,
          564.1746821638565,
          20.16451002211228,
          11553690271775.584,
          1211360624714305,
          3.6478394374933742,
          53.6117413887299,
          30.997643100578458,
          5.314144255802548,
          1250.4842285622606,
          7.200614915214425,
          7.051558032246248,
          19.763050231008414,
          4408225640476.153,
          1.4113758341266154,
          461.5030317818924,
          99.55650068241295,
          5.478988573802123,
          3.0040457220094092,
          7.6040670832942645,
          23.097385454807473,
          5.272309162343969,
          2.44643846015737
         ],
         "zmax": 4,
         "zmin": 1.5
        },
        {
         "colorbar": {
          "len": 1,
          "tickfont": {
           "size": 25
          },
          "tickvals": [
           1.5,
           1.75,
           2,
           2.25,
           2.5,
           2.75,
           3,
           3.25,
           3.5,
           3.75,
           4
          ],
          "title": {
           "text": "Temperature<br>rise<br>associated<br>with NDC"
          },
          "x": 1
         },
         "colorscale": [
          [
           0,
           "rgb(0,104,55)"
          ],
          [
           0.1,
           "rgb(26,152,80)"
          ],
          [
           0.2,
           "rgb(102,189,99)"
          ],
          [
           0.3,
           "rgb(166,217,106)"
          ],
          [
           0.4,
           "rgb(217,239,139)"
          ],
          [
           0.5,
           "rgb(255,255,191)"
          ],
          [
           0.6,
           "rgb(254,224,139)"
          ],
          [
           0.7,
           "rgb(253,174,97)"
          ],
          [
           0.8,
           "rgb(244,109,67)"
          ],
          [
           0.9,
           "rgb(215,48,39)"
          ],
          [
           1,
           "rgb(165,0,38)"
          ]
         ],
         "geo": "geo5",
         "hovertemplate": "%{text}",
         "locationmode": "ISO-3",
         "locations": [
          "AUT",
          "BEL",
          "BGR",
          "HRV",
          "CYP",
          "CZE",
          "DNK",
          "EST",
          "FIN",
          "FRA",
          "DEU",
          "GRC",
          "HUN",
          "IRL",
          "ITA",
          "LVA",
          "LTU",
          "LUX",
          "MLT",
          "NLD",
          "POL",
          "PRT",
          "ROU",
          "SVK",
          "SVN",
          "ESP",
          "SWE"
         ],
         "marker": {
          "line": {
           "color": "white",
           "width": 0.2
          }
         },
         "name": "",
         "showscale": false,
         "text": [
          "AUT: 1.41 C",
          "BEL: 1.49 C",
          "BGR: 1.44 C",
          "HRV: 2.36 C",
          "CYP: 1.42 C",
          "CZE: 1.67 C",
          "DNK: 2.04 C",
          "EST: 1.36 C",
          "FIN: 1.87 C",
          "FRA: 1.8 C",
          "DEU: 1.54 C",
          "GRC: 1.85 C",
          "HUN: 1.85 C",
          "IRL: 2.0 C",
          "ITA: 1.88 C",
          "LVA: 2.09 C",
          "LTU: 1.55 C",
          "LUX: 2.45 C",
          "MLT: 1.56 C",
          "NLD: 1.56 C",
          "POL: 1.47 C",
          "PRT: 1.53 C",
          "ROU: 2.05 C",
          "SVK: 1.52 C",
          "SVN: 2.21 C",
          "ESP: 2.0 C",
          "SWE: 2.07 C"
         ],
         "type": "choropleth",
         "z": [
          1.4141087894620108,
          1.492103030108588,
          1.4411033530452177,
          2.3558815496171177,
          1.4155499091238362,
          1.673954661269278,
          2.039069628662723,
          1.364766199109554,
          1.8678688422636869,
          1.7998576824936192,
          1.5449892325608232,
          1.8496015767116853,
          1.8525831333171263,
          1.9997106555398463,
          1.8817396299745555,
          2.094807322995276,
          1.5509246984495224,
          2.4469959275564745,
          1.5620034088842607,
          1.556504263872763,
          1.4655046615963865,
          1.5331175577828127,
          2.0546691496878853,
          1.518229817605879,
          2.2140079348302395,
          1.9973056919359657,
          2.0664053980242145
         ],
         "zmax": 4,
         "zmin": 1.5
        },
        {
         "colorbar": {
          "len": 1,
          "tickfont": {
           "size": 25
          },
          "tickvals": [
           1.5,
           1.75,
           2,
           2.25,
           2.5,
           2.75,
           3,
           3.25,
           3.5,
           3.75,
           4
          ],
          "title": {
           "text": "Temperature<br>rise<br>associated<br>with NDC"
          },
          "x": 1
         },
         "colorscale": [
          [
           0,
           "rgb(0,104,55)"
          ],
          [
           0.1,
           "rgb(26,152,80)"
          ],
          [
           0.2,
           "rgb(102,189,99)"
          ],
          [
           0.3,
           "rgb(166,217,106)"
          ],
          [
           0.4,
           "rgb(217,239,139)"
          ],
          [
           0.5,
           "rgb(255,255,191)"
          ],
          [
           0.6,
           "rgb(254,224,139)"
          ],
          [
           0.7,
           "rgb(253,174,97)"
          ],
          [
           0.8,
           "rgb(244,109,67)"
          ],
          [
           0.9,
           "rgb(215,48,39)"
          ],
          [
           1,
           "rgb(165,0,38)"
          ]
         ],
         "geo": "geo6",
         "hovertemplate": "%{text}",
         "locationmode": "ISO-3",
         "locations": [
          "AUT",
          "BEL",
          "BGR",
          "HRV",
          "CYP",
          "CZE",
          "DNK",
          "EST",
          "FIN",
          "FRA",
          "DEU",
          "GRC",
          "HUN",
          "IRL",
          "ITA",
          "LVA",
          "LTU",
          "LUX",
          "MLT",
          "NLD",
          "POL",
          "PRT",
          "ROU",
          "SVK",
          "SVN",
          "ESP",
          "SWE"
         ],
         "marker": {
          "line": {
           "color": "white",
           "width": 0.2
          }
         },
         "name": "",
         "showscale": false,
         "text": [
          "AUT: 2.18 C",
          "BEL: 3.95 C",
          "BGR: 1.4 C",
          "HRV: 3.28 C",
          "CYP: 1.62 C",
          "CZE: 2.49 C",
          "DNK: 437965146084815.1 C",
          "EST: 1.38 C",
          "FIN: 5.05 C",
          "FRA: 144.62 C",
          "DEU: 23.88 C",
          "GRC: 2.81 C",
          "HUN: 2.22 C",
          "IRL: 1908.6 C",
          "ITA: 10.52 C",
          "LVA: 2.24 C",
          "LTU: 1.63 C",
          "LUX: 4408225640476.15 C",
          "MLT: 13.21 C",
          "NLD: 8.68 C",
          "POL: 1.45 C",
          "PRT: 1.69 C",
          "ROU: 2.16 C",
          "SVK: 1.73 C",
          "SVN: 4.9 C",
          "ESP: 7.54 C",
          "SWE: 1286690872763081.8 C"
         ],
         "type": "choropleth",
         "z": [
          2.1754253575433173,
          3.9492217396518132,
          1.3961071034719095,
          3.2785150196807056,
          1.6205793251980412,
          2.492585576252452,
          437965146084815.1,
          1.3803794779059575,
          5.053844408749238,
          144.6159672763938,
          23.87778976012563,
          2.811896608347264,
          2.218906214143655,
          1908.6005520120857,
          10.521138180207178,
          2.235153927327176,
          1.6328875274262502,
          4408225640476.153,
          13.206025282238503,
          8.680873883386738,
          1.4471987018730512,
          1.6854985613843312,
          2.1627867686251734,
          1.7264010022037395,
          4.901819635154731,
          7.541603869338019,
          1286690872763081.8
         ],
         "zmax": 4,
         "zmin": 1.5
        },
        {
         "featureidkey": "properties.NAME_3",
         "geo": "geo",
         "hoverinfo": "skip",
         "locations": [
          "AUT",
          "BEL",
          "BGR",
          "HRV",
          "CYP",
          "CZE",
          "DNK",
          "EST",
          "FIN",
          "FRA",
          "DEU",
          "GRC",
          "HUN",
          "IRL",
          "ITA",
          "LVA",
          "LTU",
          "LUX",
          "MLT",
          "NLD",
          "POL",
          "PRT",
          "ROU",
          "SVK",
          "SVN",
          "ESP",
          "SWE"
         ],
         "mode": "text",
         "showlegend": false,
         "text": [
          1.4,
          1.4,
          1.4,
          2.2,
          1.4,
          1.5,
          1.7,
          1.3,
          1.6,
          1.6,
          1.4,
          1.6,
          1.8,
          1.6,
          1.7,
          2.1,
          1.5,
          1.6,
          1.4,
          1.4,
          1.5,
          1.5,
          2.1,
          1.5,
          1.9,
          1.7,
          1.7
         ],
         "textfont": {
          "color": [
           "black",
           "black",
           "black",
           "black",
           "black",
           "black",
           "black",
           "black",
           "black",
           "black",
           "black",
           "black",
           "black",
           "black",
           "black",
           "black",
           "black",
           "black",
           "black",
           "black",
           "black",
           "black",
           "black",
           "black",
           "black",
           "black",
           "black"
          ],
          "size": [
           10.16654197621883,
           10.360060743736309,
           10.47114991590894,
           14.641199853604562,
           10.22900500841067,
           11.064620156833952,
           11.858220983774329,
           10,
           11.307122009255865,
           11.293434711984046,
           10.448761719303059,
           11.260249061348233,
           12.232388383856808,
           11.26307480593095,
           11.977191130636436,
           13.979850212746708,
           11.02287613191996,
           11.452184276118942,
           10.226533696128982,
           10.420257174622655,
           10.657201408074664,
           10.660071458829888,
           14.241213234077662,
           10.998058801987348,
           12.69719748813878,
           12.063623862109502,
           11.822619152311692
          ]
         },
         "type": "scattergeo"
        },
        {
         "featureidkey": "properties.NAME_3",
         "geo": "geo2",
         "hoverinfo": "skip",
         "locations": [
          "AUT",
          "BEL",
          "BGR",
          "HRV",
          "CYP",
          "CZE",
          "DNK",
          "EST",
          "FIN",
          "FRA",
          "DEU",
          "GRC",
          "HUN",
          "IRL",
          "ITA",
          "LVA",
          "LTU",
          "LUX",
          "MLT",
          "NLD",
          "POL",
          "PRT",
          "ROU",
          "SVK",
          "SVN",
          "ESP",
          "SWE"
         ],
         "mode": "text",
         "showlegend": false,
         "text": [
          2.6,
          3,
          2.5,
          2.7,
          1.5,
          4,
          2.5,
          4,
          4,
          1.9,
          2.4,
          3.6,
          2.5,
          4,
          2.2,
          3.8,
          4,
          4,
          1.3,
          3.3,
          3.5,
          2.4,
          2.1,
          2.1,
          3.5,
          2.2,
          1.8
         ],
         "textfont": {
          "color": [
           "black",
           "black",
           "black",
           "black",
           "black",
           "black",
           "black",
           "black",
           "black",
           "black",
           "black",
           "black",
           "black",
           "black",
           "black",
           "black",
           "black",
           "black",
           "black",
           "black",
           "black",
           "black",
           "black",
           "black",
           "black",
           "black",
           "black"
          ],
          "size": [
           16.35489691731196,
           18.82346727745928,
           15.983882965713654,
           16.97724364904269,
           10.560847668902666,
           24,
           15.84880168379625,
           24,
           24,
           12.815471181255727,
           15.56903988738014,
           21.968290401051675,
           16.115442760225186,
           24,
           14.639408745805262,
           22.98675527467251,
           24,
           24,
           10,
           20.32961974924563,
           21.184053470346345,
           15.60326160226263,
           13.877930706596425,
           14.086215367771647,
           21.46526059826254,
           14.392919946714828,
           12.20670550554163
          ]
         },
         "type": "scattergeo"
        },
        {
         "featureidkey": "properties.NAME_3",
         "geo": "geo3",
         "hoverinfo": "skip",
         "locations": [
          "AUT",
          "BEL",
          "BGR",
          "HRV",
          "CYP",
          "CZE",
          "DNK",
          "EST",
          "FIN",
          "FRA",
          "DEU",
          "GRC",
          "HUN",
          "IRL",
          "ITA",
          "LVA",
          "LTU",
          "LUX",
          "MLT",
          "NLD",
          "POL",
          "PRT",
          "ROU",
          "SVK",
          "SVN",
          "ESP",
          "SWE"
         ],
         "mode": "text",
         "showlegend": false,
         "text": [
          1.6,
          1.7,
          1.7,
          2.4,
          1.4,
          2.1,
          2,
          1.6,
          2.4,
          1.7,
          1.7,
          2.1,
          2,
          2.3,
          1.9,
          2.7,
          2.1,
          2.7,
          1.4,
          1.7,
          1.9,
          1.7,
          2.1,
          1.7,
          2.4,
          1.9,
          1.7
         ],
         "textfont": {
          "color": [
           "black",
           "black",
           "black",
           "black",
           "black",
           "black",
           "black",
           "black",
           "black",
           "black",
           "black",
           "black",
           "black",
           "black",
           "black",
           "black",
           "black",
           "black",
           "black",
           "black",
           "black",
           "black",
           "black",
           "black",
           "black",
           "black",
           "black"
          ],
          "size": [
           11.181953052450837,
           11.860849505297512,
           11.735926888961888,
           15.679932058669834,
           10.365182399127534,
           14.121111738894264,
           13.280207794459562,
           11.344481757112819,
           15.32285103920347,
           11.912622924472135,
           11.641507948076601,
           13.770723052186314,
           13.67468122244495,
           15.009499184159708,
           13.022815709942304,
           17.04862837421895,
           13.7247824883111,
           17.138198074109464,
           10.116201769521446,
           12.132458809358322,
           12.688154502971805,
           11.953966297899296,
           14.055287300918305,
           12.03117947845048,
           15.437074500945293,
           13.00641440804301,
           12.00571341440457
          ]
         },
         "type": "scattergeo"
        },
        {
         "featureidkey": "properties.NAME_3",
         "geo": "geo4",
         "hoverinfo": "skip",
         "locations": [
          "AUT",
          "BEL",
          "BGR",
          "HRV",
          "CYP",
          "CZE",
          "DNK",
          "EST",
          "FIN",
          "FRA",
          "DEU",
          "GRC",
          "HUN",
          "IRL",
          "ITA",
          "LVA",
          "LTU",
          "LUX",
          "MLT",
          "NLD",
          "POL",
          "PRT",
          "ROU",
          "SVK",
          "SVN",
          "ESP",
          "SWE"
         ],
         "mode": "text",
         "showlegend": false,
         "text": [
          4,
          4,
          4,
          4,
          1.7,
          4,
          4,
          4,
          4,
          3.6,
          4,
          4,
          4,
          4,
          4,
          4,
          4,
          4,
          1.4,
          4,
          4,
          4,
          3,
          4,
          4,
          4,
          2.4
         ],
         "textfont": {
          "color": [
           "black",
           "black",
           "black",
           "black",
           "black",
           "black",
           "black",
           "black",
           "black",
           "black",
           "black",
           "black",
           "black",
           "black",
           "black",
           "black",
           "black",
           "black",
           "black",
           "black",
           "black",
           "black",
           "black",
           "black",
           "black",
           "black",
           "black"
          ],
          "size": [
           24,
           24,
           24,
           24,
           11.857053248802048,
           24,
           24,
           24,
           24,
           22.143032815407622,
           24,
           24,
           24,
           24,
           24,
           24,
           24,
           24,
           10.350004398407766,
           24,
           24,
           24,
           18.748263694211573,
           24,
           24,
           24,
           15.807961748475774
          ]
         },
         "type": "scattergeo"
        },
        {
         "featureidkey": "properties.NAME_3",
         "geo": "geo5",
         "hoverinfo": "skip",
         "locations": [
          "AUT",
          "BEL",
          "BGR",
          "HRV",
          "CYP",
          "CZE",
          "DNK",
          "EST",
          "FIN",
          "FRA",
          "DEU",
          "GRC",
          "HUN",
          "IRL",
          "ITA",
          "LVA",
          "LTU",
          "LUX",
          "MLT",
          "NLD",
          "POL",
          "PRT",
          "ROU",
          "SVK",
          "SVN",
          "ESP",
          "SWE"
         ],
         "mode": "text",
         "showlegend": false,
         "text": [
          1.4,
          1.5,
          1.4,
          2.4,
          1.4,
          1.7,
          2,
          1.4,
          1.9,
          1.8,
          1.5,
          1.8,
          1.9,
          2,
          1.9,
          2.1,
          1.6,
          2.4,
          1.6,
          1.6,
          1.5,
          1.5,
          2.1,
          1.5,
          2.2,
          2,
          2.1
         ],
         "textfont": {
          "color": [
           "black",
           "black",
           "black",
           "black",
           "black",
           "black",
           "black",
           "black",
           "black",
           "black",
           "black",
           "black",
           "black",
           "black",
           "black",
           "black",
           "black",
           "black",
           "black",
           "black",
           "black",
           "black",
           "black",
           "black",
           "black",
           "black",
           "black"
          ],
          "size": [
           10.36441546232322,
           10.77568452787956,
           10.506759677074594,
           15.33044884920514,
           10.372014586717027,
           11.73460085038414,
           13.659877514605695,
           10.104228545210455,
           12.757123838678574,
           12.398496254203641,
           11.054557158512816,
           12.660799274562558,
           12.676521230297464,
           13.45233490680145,
           12.830265468792383,
           13.953786260615392,
           11.085855283726294,
           15.810901312915497,
           11.144274095811545,
           11.115276720986321,
           10.635429477344411,
           10.991956990191856,
           13.742134875943652,
           10.913452898863392,
           14.582339392701828,
           13.439653366140686,
           13.804020931201132
          ]
         },
         "type": "scattergeo"
        },
        {
         "featureidkey": "properties.NAME_3",
         "geo": "geo6",
         "hoverinfo": "skip",
         "locations": [
          "AUT",
          "BEL",
          "BGR",
          "HRV",
          "CYP",
          "CZE",
          "DNK",
          "EST",
          "FIN",
          "FRA",
          "DEU",
          "GRC",
          "HUN",
          "IRL",
          "ITA",
          "LVA",
          "LTU",
          "LUX",
          "MLT",
          "NLD",
          "POL",
          "PRT",
          "ROU",
          "SVK",
          "SVN",
          "ESP",
          "SWE"
         ],
         "mode": "text",
         "showlegend": false,
         "text": [
          2.2,
          3.9,
          1.4,
          3.3,
          1.6,
          2.5,
          4,
          1.4,
          4,
          4,
          4,
          2.8,
          2.2,
          4,
          4,
          2.2,
          1.6,
          4,
          4,
          4,
          1.4,
          1.7,
          2.2,
          1.7,
          4,
          4,
          4
         ],
         "textfont": {
          "color": [
           "black",
           "black",
           "black",
           "black",
           "black",
           "black",
           "black",
           "black",
           "black",
           "black",
           "black",
           "black",
           "black",
           "black",
           "black",
           "black",
           "black",
           "black",
           "black",
           "black",
           "black",
           "black",
           "black",
           "black",
           "black",
           "black",
           "black"
          ],
          "size": [
           14.378890774239714,
           23.73224269496248,
           10.269491317742649,
           20.19555942581163,
           11.453148984095133,
           16.051298707169238,
           24,
           10.186558452234804,
           24,
           24,
           24,
           17.73504802894979,
           14.608168360832831,
           24,
           24,
           14.693843684587744,
           11.518050992078155,
           24,
           24,
           24,
           10.538900876166748,
           11.795472640068036,
           14.312246614219369,
           12.01115406058469,
           24,
           24,
           24
          ]
         },
         "type": "scattergeo"
        }
       ],
       "layout": {
        "annotations": [
         {
          "align": "left",
          "ax": 0,
          "ay": 0,
          "font": {
           "color": "black",
           "size": 25
          },
          "showarrow": false,
          "text": "<b>(a) Grandfathering</b>",
          "x": 0.07,
          "xref": "paper",
          "y": 0.96,
          "yref": "paper"
         },
         {
          "align": "left",
          "ax": 0,
          "ay": 0,
          "font": {
           "color": "black",
           "size": 25
          },
          "showarrow": false,
          "text": "<b>(b) Per Capita</b>",
          "x": 0.47,
          "xref": "paper",
          "y": 0.96,
          "yref": "paper"
         },
         {
          "align": "left",
          "ax": 0,
          "ay": 0,
          "font": {
           "color": "black",
           "size": 25
          },
          "showarrow": false,
          "text": "<b>(c) Per Capita Convergence</b>",
          "x": 0.9,
          "xref": "paper",
          "y": 0.96,
          "yref": "paper"
         },
         {
          "align": "left",
          "ax": 0,
          "ay": 0,
          "font": {
           "color": "black",
           "size": 25
          },
          "showarrow": false,
          "text": "<b>(d) Equal Cumulative per Capita</b>",
          "x": 0.07,
          "xref": "paper",
          "y": 0.45,
          "yref": "paper"
         },
         {
          "align": "left",
          "ax": 0,
          "ay": 0,
          "font": {
           "color": "black",
           "size": 25
          },
          "showarrow": false,
          "text": "<b>(e) Ability to Pay</b>",
          "x": 0.48,
          "xref": "paper",
          "y": 0.45,
          "yref": "paper"
         },
         {
          "align": "left",
          "ax": 0,
          "ay": 0,
          "font": {
           "color": "black",
           "size": 25
          },
          "showarrow": false,
          "text": "<b>(f) Greenhouse Development Rights</b>",
          "x": 0.95,
          "xref": "paper",
          "y": 0.45,
          "yref": "paper"
         }
        ],
        "geo": {
         "domain": {
          "x": [
           0,
           0.3333333333333333
          ],
          "y": [
           0.5,
           1
          ]
         },
         "lakecolor": "rgb(255, 255, 255)",
         "lataxis": {
          "range": [
           30,
           75
          ]
         },
         "lonaxis": {
          "range": [
           -20,
           40
          ]
         },
         "projection": {
          "type": "natural earth"
         },
         "resolution": 50,
         "scope": "europe",
         "showcoastlines": false,
         "showcountries": false,
         "showlakes": true,
         "visible": true
        },
        "geo2": {
         "domain": {
          "x": [
           0.3333333333333333,
           0.6666666666666666
          ],
          "y": [
           0.5,
           1
          ]
         },
         "lakecolor": "rgb(255, 255, 255)",
         "lataxis": {
          "range": [
           30,
           75
          ]
         },
         "lonaxis": {
          "range": [
           -20,
           40
          ]
         },
         "projection": {
          "type": "natural earth"
         },
         "resolution": 50,
         "scope": "europe",
         "showcoastlines": false,
         "showcountries": false,
         "showlakes": true,
         "visible": true
        },
        "geo3": {
         "domain": {
          "x": [
           0.6666666666666666,
           1
          ],
          "y": [
           0.5,
           1
          ]
         },
         "lakecolor": "rgb(255, 255, 255)",
         "lataxis": {
          "range": [
           30,
           75
          ]
         },
         "lonaxis": {
          "range": [
           -20,
           40
          ]
         },
         "projection": {
          "type": "natural earth"
         },
         "resolution": 50,
         "scope": "europe",
         "showcoastlines": false,
         "showcountries": false,
         "showlakes": true,
         "visible": true
        },
        "geo4": {
         "domain": {
          "x": [
           0,
           0.3333333333333333
          ],
          "y": [
           0,
           0.5
          ]
         },
         "lakecolor": "rgb(255, 255, 255)",
         "lataxis": {
          "range": [
           30,
           75
          ]
         },
         "lonaxis": {
          "range": [
           -20,
           40
          ]
         },
         "projection": {
          "type": "natural earth"
         },
         "resolution": 50,
         "scope": "europe",
         "showcoastlines": false,
         "showcountries": false,
         "showlakes": true,
         "visible": true
        },
        "geo5": {
         "domain": {
          "x": [
           0.3333333333333333,
           0.6666666666666666
          ],
          "y": [
           0,
           0.5
          ]
         },
         "lakecolor": "rgb(255, 255, 255)",
         "lataxis": {
          "range": [
           30,
           75
          ]
         },
         "lonaxis": {
          "range": [
           -20,
           40
          ]
         },
         "projection": {
          "type": "natural earth"
         },
         "resolution": 50,
         "scope": "europe",
         "showcoastlines": false,
         "showcountries": false,
         "showlakes": true,
         "visible": true
        },
        "geo6": {
         "domain": {
          "x": [
           0.6666666666666666,
           1
          ],
          "y": [
           0,
           0.5
          ]
         },
         "lakecolor": "rgb(255, 255, 255)",
         "lataxis": {
          "range": [
           30,
           75
          ]
         },
         "lonaxis": {
          "range": [
           -20,
           40
          ]
         },
         "projection": {
          "type": "natural earth"
         },
         "resolution": 50,
         "scope": "europe",
         "showcoastlines": false,
         "showcountries": false,
         "showlakes": true,
         "visible": true
        },
        "height": 1200,
        "margin": {
         "b": 0,
         "l": 0,
         "r": 0,
         "t": 0
        },
        "template": {
         "data": {
          "bar": [
           {
            "error_x": {
             "color": "#2a3f5f"
            },
            "error_y": {
             "color": "#2a3f5f"
            },
            "marker": {
             "line": {
              "color": "#E5ECF6",
              "width": 0.5
             },
             "pattern": {
              "fillmode": "overlay",
              "size": 10,
              "solidity": 0.2
             }
            },
            "type": "bar"
           }
          ],
          "barpolar": [
           {
            "marker": {
             "line": {
              "color": "#E5ECF6",
              "width": 0.5
             },
             "pattern": {
              "fillmode": "overlay",
              "size": 10,
              "solidity": 0.2
             }
            },
            "type": "barpolar"
           }
          ],
          "carpet": [
           {
            "aaxis": {
             "endlinecolor": "#2a3f5f",
             "gridcolor": "white",
             "linecolor": "white",
             "minorgridcolor": "white",
             "startlinecolor": "#2a3f5f"
            },
            "baxis": {
             "endlinecolor": "#2a3f5f",
             "gridcolor": "white",
             "linecolor": "white",
             "minorgridcolor": "white",
             "startlinecolor": "#2a3f5f"
            },
            "type": "carpet"
           }
          ],
          "choropleth": [
           {
            "colorbar": {
             "outlinewidth": 0,
             "ticks": ""
            },
            "type": "choropleth"
           }
          ],
          "contour": [
           {
            "colorbar": {
             "outlinewidth": 0,
             "ticks": ""
            },
            "colorscale": [
             [
              0,
              "#0d0887"
             ],
             [
              0.1111111111111111,
              "#46039f"
             ],
             [
              0.2222222222222222,
              "#7201a8"
             ],
             [
              0.3333333333333333,
              "#9c179e"
             ],
             [
              0.4444444444444444,
              "#bd3786"
             ],
             [
              0.5555555555555556,
              "#d8576b"
             ],
             [
              0.6666666666666666,
              "#ed7953"
             ],
             [
              0.7777777777777778,
              "#fb9f3a"
             ],
             [
              0.8888888888888888,
              "#fdca26"
             ],
             [
              1,
              "#f0f921"
             ]
            ],
            "type": "contour"
           }
          ],
          "contourcarpet": [
           {
            "colorbar": {
             "outlinewidth": 0,
             "ticks": ""
            },
            "type": "contourcarpet"
           }
          ],
          "heatmap": [
           {
            "colorbar": {
             "outlinewidth": 0,
             "ticks": ""
            },
            "colorscale": [
             [
              0,
              "#0d0887"
             ],
             [
              0.1111111111111111,
              "#46039f"
             ],
             [
              0.2222222222222222,
              "#7201a8"
             ],
             [
              0.3333333333333333,
              "#9c179e"
             ],
             [
              0.4444444444444444,
              "#bd3786"
             ],
             [
              0.5555555555555556,
              "#d8576b"
             ],
             [
              0.6666666666666666,
              "#ed7953"
             ],
             [
              0.7777777777777778,
              "#fb9f3a"
             ],
             [
              0.8888888888888888,
              "#fdca26"
             ],
             [
              1,
              "#f0f921"
             ]
            ],
            "type": "heatmap"
           }
          ],
          "heatmapgl": [
           {
            "colorbar": {
             "outlinewidth": 0,
             "ticks": ""
            },
            "colorscale": [
             [
              0,
              "#0d0887"
             ],
             [
              0.1111111111111111,
              "#46039f"
             ],
             [
              0.2222222222222222,
              "#7201a8"
             ],
             [
              0.3333333333333333,
              "#9c179e"
             ],
             [
              0.4444444444444444,
              "#bd3786"
             ],
             [
              0.5555555555555556,
              "#d8576b"
             ],
             [
              0.6666666666666666,
              "#ed7953"
             ],
             [
              0.7777777777777778,
              "#fb9f3a"
             ],
             [
              0.8888888888888888,
              "#fdca26"
             ],
             [
              1,
              "#f0f921"
             ]
            ],
            "type": "heatmapgl"
           }
          ],
          "histogram": [
           {
            "marker": {
             "pattern": {
              "fillmode": "overlay",
              "size": 10,
              "solidity": 0.2
             }
            },
            "type": "histogram"
           }
          ],
          "histogram2d": [
           {
            "colorbar": {
             "outlinewidth": 0,
             "ticks": ""
            },
            "colorscale": [
             [
              0,
              "#0d0887"
             ],
             [
              0.1111111111111111,
              "#46039f"
             ],
             [
              0.2222222222222222,
              "#7201a8"
             ],
             [
              0.3333333333333333,
              "#9c179e"
             ],
             [
              0.4444444444444444,
              "#bd3786"
             ],
             [
              0.5555555555555556,
              "#d8576b"
             ],
             [
              0.6666666666666666,
              "#ed7953"
             ],
             [
              0.7777777777777778,
              "#fb9f3a"
             ],
             [
              0.8888888888888888,
              "#fdca26"
             ],
             [
              1,
              "#f0f921"
             ]
            ],
            "type": "histogram2d"
           }
          ],
          "histogram2dcontour": [
           {
            "colorbar": {
             "outlinewidth": 0,
             "ticks": ""
            },
            "colorscale": [
             [
              0,
              "#0d0887"
             ],
             [
              0.1111111111111111,
              "#46039f"
             ],
             [
              0.2222222222222222,
              "#7201a8"
             ],
             [
              0.3333333333333333,
              "#9c179e"
             ],
             [
              0.4444444444444444,
              "#bd3786"
             ],
             [
              0.5555555555555556,
              "#d8576b"
             ],
             [
              0.6666666666666666,
              "#ed7953"
             ],
             [
              0.7777777777777778,
              "#fb9f3a"
             ],
             [
              0.8888888888888888,
              "#fdca26"
             ],
             [
              1,
              "#f0f921"
             ]
            ],
            "type": "histogram2dcontour"
           }
          ],
          "mesh3d": [
           {
            "colorbar": {
             "outlinewidth": 0,
             "ticks": ""
            },
            "type": "mesh3d"
           }
          ],
          "parcoords": [
           {
            "line": {
             "colorbar": {
              "outlinewidth": 0,
              "ticks": ""
             }
            },
            "type": "parcoords"
           }
          ],
          "pie": [
           {
            "automargin": true,
            "type": "pie"
           }
          ],
          "scatter": [
           {
            "fillpattern": {
             "fillmode": "overlay",
             "size": 10,
             "solidity": 0.2
            },
            "type": "scatter"
           }
          ],
          "scatter3d": [
           {
            "line": {
             "colorbar": {
              "outlinewidth": 0,
              "ticks": ""
             }
            },
            "marker": {
             "colorbar": {
              "outlinewidth": 0,
              "ticks": ""
             }
            },
            "type": "scatter3d"
           }
          ],
          "scattercarpet": [
           {
            "marker": {
             "colorbar": {
              "outlinewidth": 0,
              "ticks": ""
             }
            },
            "type": "scattercarpet"
           }
          ],
          "scattergeo": [
           {
            "marker": {
             "colorbar": {
              "outlinewidth": 0,
              "ticks": ""
             }
            },
            "type": "scattergeo"
           }
          ],
          "scattergl": [
           {
            "marker": {
             "colorbar": {
              "outlinewidth": 0,
              "ticks": ""
             }
            },
            "type": "scattergl"
           }
          ],
          "scattermapbox": [
           {
            "marker": {
             "colorbar": {
              "outlinewidth": 0,
              "ticks": ""
             }
            },
            "type": "scattermapbox"
           }
          ],
          "scatterpolar": [
           {
            "marker": {
             "colorbar": {
              "outlinewidth": 0,
              "ticks": ""
             }
            },
            "type": "scatterpolar"
           }
          ],
          "scatterpolargl": [
           {
            "marker": {
             "colorbar": {
              "outlinewidth": 0,
              "ticks": ""
             }
            },
            "type": "scatterpolargl"
           }
          ],
          "scatterternary": [
           {
            "marker": {
             "colorbar": {
              "outlinewidth": 0,
              "ticks": ""
             }
            },
            "type": "scatterternary"
           }
          ],
          "surface": [
           {
            "colorbar": {
             "outlinewidth": 0,
             "ticks": ""
            },
            "colorscale": [
             [
              0,
              "#0d0887"
             ],
             [
              0.1111111111111111,
              "#46039f"
             ],
             [
              0.2222222222222222,
              "#7201a8"
             ],
             [
              0.3333333333333333,
              "#9c179e"
             ],
             [
              0.4444444444444444,
              "#bd3786"
             ],
             [
              0.5555555555555556,
              "#d8576b"
             ],
             [
              0.6666666666666666,
              "#ed7953"
             ],
             [
              0.7777777777777778,
              "#fb9f3a"
             ],
             [
              0.8888888888888888,
              "#fdca26"
             ],
             [
              1,
              "#f0f921"
             ]
            ],
            "type": "surface"
           }
          ],
          "table": [
           {
            "cells": {
             "fill": {
              "color": "#EBF0F8"
             },
             "line": {
              "color": "white"
             }
            },
            "header": {
             "fill": {
              "color": "#C8D4E3"
             },
             "line": {
              "color": "white"
             }
            },
            "type": "table"
           }
          ]
         },
         "layout": {
          "annotationdefaults": {
           "arrowcolor": "#2a3f5f",
           "arrowhead": 0,
           "arrowwidth": 1
          },
          "autotypenumbers": "strict",
          "coloraxis": {
           "colorbar": {
            "outlinewidth": 0,
            "ticks": ""
           }
          },
          "colorscale": {
           "diverging": [
            [
             0,
             "#8e0152"
            ],
            [
             0.1,
             "#c51b7d"
            ],
            [
             0.2,
             "#de77ae"
            ],
            [
             0.3,
             "#f1b6da"
            ],
            [
             0.4,
             "#fde0ef"
            ],
            [
             0.5,
             "#f7f7f7"
            ],
            [
             0.6,
             "#e6f5d0"
            ],
            [
             0.7,
             "#b8e186"
            ],
            [
             0.8,
             "#7fbc41"
            ],
            [
             0.9,
             "#4d9221"
            ],
            [
             1,
             "#276419"
            ]
           ],
           "sequential": [
            [
             0,
             "#0d0887"
            ],
            [
             0.1111111111111111,
             "#46039f"
            ],
            [
             0.2222222222222222,
             "#7201a8"
            ],
            [
             0.3333333333333333,
             "#9c179e"
            ],
            [
             0.4444444444444444,
             "#bd3786"
            ],
            [
             0.5555555555555556,
             "#d8576b"
            ],
            [
             0.6666666666666666,
             "#ed7953"
            ],
            [
             0.7777777777777778,
             "#fb9f3a"
            ],
            [
             0.8888888888888888,
             "#fdca26"
            ],
            [
             1,
             "#f0f921"
            ]
           ],
           "sequentialminus": [
            [
             0,
             "#0d0887"
            ],
            [
             0.1111111111111111,
             "#46039f"
            ],
            [
             0.2222222222222222,
             "#7201a8"
            ],
            [
             0.3333333333333333,
             "#9c179e"
            ],
            [
             0.4444444444444444,
             "#bd3786"
            ],
            [
             0.5555555555555556,
             "#d8576b"
            ],
            [
             0.6666666666666666,
             "#ed7953"
            ],
            [
             0.7777777777777778,
             "#fb9f3a"
            ],
            [
             0.8888888888888888,
             "#fdca26"
            ],
            [
             1,
             "#f0f921"
            ]
           ]
          },
          "colorway": [
           "#636efa",
           "#EF553B",
           "#00cc96",
           "#ab63fa",
           "#FFA15A",
           "#19d3f3",
           "#FF6692",
           "#B6E880",
           "#FF97FF",
           "#FECB52"
          ],
          "font": {
           "color": "#2a3f5f"
          },
          "geo": {
           "bgcolor": "white",
           "lakecolor": "white",
           "landcolor": "#E5ECF6",
           "showlakes": true,
           "showland": true,
           "subunitcolor": "white"
          },
          "hoverlabel": {
           "align": "left"
          },
          "hovermode": "closest",
          "mapbox": {
           "style": "light"
          },
          "paper_bgcolor": "white",
          "plot_bgcolor": "#E5ECF6",
          "polar": {
           "angularaxis": {
            "gridcolor": "white",
            "linecolor": "white",
            "ticks": ""
           },
           "bgcolor": "#E5ECF6",
           "radialaxis": {
            "gridcolor": "white",
            "linecolor": "white",
            "ticks": ""
           }
          },
          "scene": {
           "xaxis": {
            "backgroundcolor": "#E5ECF6",
            "gridcolor": "white",
            "gridwidth": 2,
            "linecolor": "white",
            "showbackground": true,
            "ticks": "",
            "zerolinecolor": "white"
           },
           "yaxis": {
            "backgroundcolor": "#E5ECF6",
            "gridcolor": "white",
            "gridwidth": 2,
            "linecolor": "white",
            "showbackground": true,
            "ticks": "",
            "zerolinecolor": "white"
           },
           "zaxis": {
            "backgroundcolor": "#E5ECF6",
            "gridcolor": "white",
            "gridwidth": 2,
            "linecolor": "white",
            "showbackground": true,
            "ticks": "",
            "zerolinecolor": "white"
           }
          },
          "shapedefaults": {
           "line": {
            "color": "#2a3f5f"
           }
          },
          "ternary": {
           "aaxis": {
            "gridcolor": "white",
            "linecolor": "white",
            "ticks": ""
           },
           "baxis": {
            "gridcolor": "white",
            "linecolor": "white",
            "ticks": ""
           },
           "bgcolor": "#E5ECF6",
           "caxis": {
            "gridcolor": "white",
            "linecolor": "white",
            "ticks": ""
           }
          },
          "title": {
           "x": 0.05
          },
          "xaxis": {
           "automargin": true,
           "gridcolor": "white",
           "linecolor": "white",
           "ticks": "",
           "title": {
            "standoff": 15
           },
           "zerolinecolor": "white",
           "zerolinewidth": 2
          },
          "yaxis": {
           "automargin": true,
           "gridcolor": "white",
           "linecolor": "white",
           "ticks": "",
           "title": {
            "standoff": 15
           },
           "zerolinecolor": "white",
           "zerolinewidth": 2
          }
         }
        },
        "width": 2300
       }
      }
     },
     "metadata": {},
     "output_type": "display_data"
    }
   ],
   "source": [
    "fig = make_subplots(rows=2, cols=3, #subplot_titles=('Grandfathering (GF)',\n",
    "                                                    # 'Per Capita (PC)',\n",
    "                                                    # 'Per Capita Convergence (PCC)',\n",
    "                                                    # 'Equal Cumulative Per Capita',\n",
    "                                                    # 'Ability to pay (AP)',\n",
    "                                                    # 'Greenhouse Development Rights'), \n",
    "                                    specs=[[{'type': 'choropleth'}, {'type': 'choropleth'}, {'type': 'choropleth'}],\n",
    "                                           [{'type': 'choropleth'}, {'type': 'choropleth'}, {'type': 'choropleth'}]],\n",
    "                                    horizontal_spacing = 0,\n",
    "                                    vertical_spacing=0)\n",
    "\n",
    "colorbar_abs = dict(len=1, x=1, tickvals = [0, 1, 2, 3], ticktext = ['1', '10', '100', '1000'])\n",
    "colorbar_pc = dict(len=1, x=1)\n",
    "\n",
    "temps2 = np.copy(temps)#.astype(str)\n",
    "temps2[temps > 4] = 4\n",
    "temps2[temps < 1.2] = 1.2\n",
    "\n",
    "for var_i, var in enumerate(rules):\n",
    "    if var_i == 0:\n",
    "        cm= True\n",
    "    else:\n",
    "        cm= False\n",
    "    fig.add_trace(\n",
    "        go.Choropleth(\n",
    "        locations=group_eu,\n",
    "        z = temps[var_i][wh_eu],#xr_budgets_static.sel(Category=\"C1+C2\", ISO=group_eu)[var],\n",
    "        locationmode = 'ISO-3',\n",
    "        colorscale = 'RdYlGn_r',\n",
    "        zmax = 4,\n",
    "        zmin = 1.5,\n",
    "        text = [str(r)+\": \"+str(np.round(float(temps[var_i][wh_eu[r_i]]), 2))+\" C\" for r_i, r in enumerate(group_eu)],\n",
    "        hovertemplate  = '%{text}',\n",
    "        name=\"\",\n",
    "        marker_line_color='white', \n",
    "        marker_line_width=0.2,\n",
    "        colorbar=dict(len=1, x=1, tickvals = np.arange(1.5, 4.1, 0.25), title={\"text\":\"Temperature<br>rise<br>associated<br>with NDC\"}, tickfont={'size': 25}),\n",
    "        showscale=cm\n",
    "    ), [1, 1, 1, 2, 2, 2][var_i], [1, 2, 3, 1, 2, 3][var_i])\n",
    "# fig.update_geos(showocean=True, oceancolor=\"white\")\n",
    "# fig.update_geos(showlakes=True, lakecolor=\"white\")\n",
    "\n",
    "# limite map scope to USA 'africa', 'asia', 'europe', 'north america', 'south america', 'usa', 'world'\n",
    "fig.update_layout(\n",
    "    geo1 = dict(scope='europe', \n",
    "                showlakes=False,\n",
    "                lakecolor='rgb(255, 255, 255)',\n",
    "                showcoastlines=False,),\n",
    "    geo2 = dict(scope='europe', \n",
    "                showlakes=False,\n",
    "                lakecolor='rgb(255, 255, 255)',\n",
    "                showcoastlines=False,),\n",
    "    geo3 = dict(scope='europe', \n",
    "                showlakes=False,\n",
    "                lakecolor='rgb(255, 255, 255)',\n",
    "                showcoastlines=False,),\n",
    "    geo4 = dict(scope='europe', \n",
    "                showlakes=False,\n",
    "                lakecolor='rgb(255, 255, 255)',\n",
    "                showcoastlines=False,),\n",
    "    geo5 = dict(scope='europe', \n",
    "                showlakes=False,\n",
    "                lakecolor='rgb(255, 255, 255)',\n",
    "                showcoastlines=False,),\n",
    "    geo6 = dict(scope='europe', \n",
    "                showlakes=False,\n",
    "                showcoastlines=False,),\n",
    ")\n",
    "\n",
    "mn = np.min(temps2[:, wh_eu])#.min()[r]) for r in rules]))\n",
    "mx = np.max(temps2[:, wh_eu])#np.max(np.array([float(xr_budgets_static.sel(Category=\"C1+C2\", ISO=group_eu)[rules].max()[r]) for r in rules]))\n",
    "for var_i, var in enumerate(rules):\n",
    "    vals = np.copy(temps2[var_i][wh_eu])\n",
    "    vals_i = (vals + mn)**0.5\n",
    "    vals_n = 14*(vals - mn)/(mx - mn)+10\n",
    "    vals_boolean = np.copy(vals)\n",
    "    vals_boolean[vals >= 0] = 1\n",
    "    vals_boolean[vals < 0] = 0\n",
    "    vals_boolean = vals_boolean.astype(int)\n",
    "    \n",
    "    fig.add_scattergeo(\n",
    "                locations = group_eu,\n",
    "                text = vals.round(1),\n",
    "                featureidkey=\"properties.NAME_3\",\n",
    "                mode = 'text',\n",
    "                hoverinfo='skip',\n",
    "                showlegend=False,\n",
    "                textfont={'size': vals_n,\n",
    "                          'color': np.array(['darkred', 'black'])[vals_boolean]},\n",
    "                row=[1, 1, 1, 2, 2, 2][var_i],\n",
    "                col=[1, 2, 3, 1, 2, 3][var_i])\n",
    "\n",
    "fig.update_geos(visible=False,\n",
    "                showlakes=True,\n",
    "                lakecolor='rgb(255, 255, 255)',\n",
    "                projection_type='natural earth',\n",
    "                resolution=50,\n",
    "                lataxis_range=[30,75], lonaxis_range=[-20, 40],\n",
    "                showcoastlines=False,)\n",
    "\n",
    "#fig.update_traces(showscale=False)\n",
    "fig.update_layout(height=1200, width=2300)\n",
    "fig.update_geos(visible=True, showcountries=False)#fitbounds=\"locations\",\n",
    "fig.update_layout(margin={\"r\":0,\"t\":0,\"l\":0,\"b\":0})\n",
    "\n",
    "fig.add_annotation(xref='paper', yref='paper',ax=0, align='left', ay=-0, showarrow=False, font=dict(color='black', size=25),\n",
    "                   y=0.96, x=0.07, text=\"<b>(a) Grandfathering</b>\")\n",
    "fig.add_annotation(xref='paper', yref='paper',ax=0, align='left', ay=-0, showarrow=False, font=dict(color='black', size=25),\n",
    "                   y=0.96, x=0.47, text=\"<b>(b) Per Capita</b>\")\n",
    "fig.add_annotation(xref='paper', yref='paper',ax=0, align='left', ay=-0, showarrow=False, font=dict(color='black', size=25),\n",
    "                   y=0.96, x=0.90, text=\"<b>(c) Per Capita Convergence</b>\")\n",
    "fig.add_annotation(xref='paper', yref='paper',ax=0, align='left', ay=-0, showarrow=False, font=dict(color='black', size=25),\n",
    "                   y=0.45, x=0.07, text=\"<b>(d) Equal Cumulative per Capita</b>\")\n",
    "fig.add_annotation(xref='paper', yref='paper',ax=0, align='left', ay=-0, showarrow=False, font=dict(color='black', size=25),\n",
    "                   y=0.45, x=0.48, text=\"<b>(e) Ability to Pay</b>\")\n",
    "fig.add_annotation(xref='paper', yref='paper',ax=0, align='left', ay=-0, showarrow=False, font=dict(color='black', size=25),\n",
    "                   y=0.45, x=0.95, text=\"<b>(f) Greenhouse Development Rights</b>\")\n",
    "fig_talign = fig\n",
    "fig.show()"
   ]
  },
  {
   "cell_type": "code",
   "execution_count": 383,
   "metadata": {},
   "outputs": [],
   "source": [
    "fig_talign.write_image(\"X:/user/dekkerm/Projects/ECEMF_T5.2/Figures/Figure_Europe/Figure_europe_temp.svg\")\n",
    "fig_talign.write_image(\"X:/user/dekkerm/Projects/ECEMF_T5.2/Figures/Figure_Europe/Figure_europe_temp.png\", scale=3)\n",
    "\n",
    "import os\n",
    "from datetime import date\n",
    "try:\n",
    "    os.remove('X:/user/dekkerm/Projects/ECEMF_T5.2/Figures/Figure_Europe/Figure_europe_temp.html')\n",
    "except:\n",
    "    3\n",
    "def html_w(typ):\n",
    "    return '<html> '+typ+' <p style=\"font-family: Arial\">'\n",
    "\n",
    "today = date.today()\n",
    "td = today.strftime(\"%B %d, %Y\")\n",
    "\n",
    "with open('X:/user/dekkerm/Projects/ECEMF_T5.2/Figures/Figure_Europe/Figure_europe_temp.html', 'a') as f:\n",
    "    #f.write(html_w('<h1>')+'Figure 1 - Electricity Generation</p></h1>')\n",
    "    f.write(html_w('<body>')+'Version: '+td+'</p></body>')\n",
    "    f.write(fig_talign.to_html(full_html=False, include_plotlyjs='cdn'))"
   ]
  },
  {
   "cell_type": "code",
   "execution_count": 384,
   "metadata": {},
   "outputs": [
    {
     "name": "stderr",
     "output_type": "stream",
     "text": [
      "x:\\user\\dekkerm\\environments\\MyEnv\\lib\\site-packages\\plotly\\graph_objs\\_deprecations.py:544: DeprecationWarning:\n",
      "\n",
      "plotly.graph_objs.XAxis is deprecated.\n",
      "Please replace it with one of the following more specific types\n",
      "  - plotly.graph_objs.layout.XAxis\n",
      "  - plotly.graph_objs.layout.scene.XAxis\n",
      "\n",
      "\n",
      "x:\\user\\dekkerm\\environments\\MyEnv\\lib\\site-packages\\plotly\\graph_objs\\_deprecations.py:572: DeprecationWarning:\n",
      "\n",
      "plotly.graph_objs.YAxis is deprecated.\n",
      "Please replace it with one of the following more specific types\n",
      "  - plotly.graph_objs.layout.YAxis\n",
      "  - plotly.graph_objs.layout.scene.YAxis\n",
      "\n",
      "\n"
     ]
    },
    {
     "data": {
      "application/vnd.plotly.v1+json": {
       "config": {
        "plotlyServerURL": "https://plotly.com"
       },
       "data": [
        {
         "colorbar": {
          "len": 1,
          "tickvals": [
           1.5,
           1.75,
           2,
           2.25,
           2.5,
           2.75,
           3,
           3.25,
           3.5,
           3.75
          ],
          "title": {
           "font": {
            "size": 17
           },
           "text": "Temperature<br>rise<br>associated<br>with NDC"
          },
          "x": 1
         },
         "colorscale": [
          [
           0,
           "rgb(0,104,55)"
          ],
          [
           0.1,
           "rgb(26,152,80)"
          ],
          [
           0.2,
           "rgb(102,189,99)"
          ],
          [
           0.3,
           "rgb(166,217,106)"
          ],
          [
           0.4,
           "rgb(217,239,139)"
          ],
          [
           0.5,
           "rgb(255,255,191)"
          ],
          [
           0.6,
           "rgb(254,224,139)"
          ],
          [
           0.7,
           "rgb(253,174,97)"
          ],
          [
           0.8,
           "rgb(244,109,67)"
          ],
          [
           0.9,
           "rgb(215,48,39)"
          ],
          [
           1,
           "rgb(165,0,38)"
          ]
         ],
         "geo": "geo",
         "hovertemplate": "%{text}",
         "locationmode": "ISO-3",
         "locations": [
          "AFG",
          "ALB",
          "DZA",
          "AND",
          "AGO",
          "ATG",
          "ARG",
          "ARM",
          "AUS",
          "AUT",
          "AZE",
          "BHR",
          "BGD",
          "BRB",
          "BLR",
          "BEL",
          "BLZ",
          "BEN",
          "BTN",
          "BOL",
          "BIH",
          "BWA",
          "BRA",
          "BRN",
          "BGR",
          "BFA",
          "BDI",
          "KHM",
          "CMR",
          "CAN",
          "CPV",
          "CAF",
          "TCD",
          "CHL",
          "CHN",
          "COL",
          "COM",
          "COG",
          "COK",
          "CRI",
          "CIV",
          "HRV",
          "CUB",
          "CYP",
          "CZE",
          "COD",
          "DNK",
          "DJI",
          "DMA",
          "DOM",
          "ECU",
          "EGY",
          "SLV",
          "GNQ",
          "ERI",
          "EST",
          "SWZ",
          "ETH",
          "FJI",
          "FIN",
          "FRA",
          "GAB",
          "GEO",
          "DEU",
          "GHA",
          "GRC",
          "GRD",
          "GTM",
          "GIN",
          "GNB",
          "GUY",
          "HTI",
          "VAT",
          "HND",
          "HUN",
          "ISL",
          "IND",
          "IDN",
          "IRN",
          "IRQ",
          "IRL",
          "ISR",
          "ITA",
          "JAM",
          "JPN",
          "JOR",
          "KAZ",
          "KEN",
          "KIR",
          "KWT",
          "KGZ",
          "LAO",
          "LVA",
          "LBN",
          "LSO",
          "LBR",
          "LBY",
          "LIE",
          "LTU",
          "LUX",
          "MKD",
          "MDG",
          "MWI",
          "MYS",
          "MDV",
          "MLI",
          "MLT",
          "MHL",
          "MRT",
          "MUS",
          "MEX",
          "FSM",
          "MDA",
          "MCO",
          "MNG",
          "MNE",
          "MAR",
          "MOZ",
          "MMR",
          "NAM",
          "NRU",
          "NPL",
          "NLD",
          "NZL",
          "NIC",
          "NER",
          "NGA",
          "NIU",
          "PRK",
          "NOR",
          "OMN",
          "PAK",
          "PLW",
          "PSE",
          "PAN",
          "PNG",
          "PRY",
          "PER",
          "PHL",
          "POL",
          "PRT",
          "QAT",
          "ROU",
          "RUS",
          "RWA",
          "KNA",
          "LCA",
          "VCT",
          "WSM",
          "SMR",
          "STP",
          "SAU",
          "SEN",
          "SRB",
          "SYC",
          "SLE",
          "SGP",
          "SVK",
          "SVN",
          "SLB",
          "SOM",
          "ZAF",
          "KOR",
          "SSD",
          "ESP",
          "LKA",
          "SDN",
          "SUR",
          "SWE",
          "CHE",
          "SYR",
          "TJK",
          "TZA",
          "THA",
          "BHS",
          "GMB",
          "TLS",
          "TGO",
          "TON",
          "TTO",
          "TUN",
          "TUR",
          "TKM",
          "TUV",
          "UGA",
          "UKR",
          "ARE",
          "GBR",
          "USA",
          "URY",
          "UZB",
          "VUT",
          "VEN",
          "VNM",
          "YEM",
          "ZMB",
          "ZWE"
         ],
         "marker": {
          "line": {
           "color": "black",
           "width": 0.3
          }
         },
         "name": "",
         "showscale": true,
         "text": [
          "AFG: 8.37 C",
          "ALB: 3.71 C",
          "DZA: 2.13 C",
          "AND: 1.63 C",
          "AGO: 2.58 C",
          "ATG: 3.51 C",
          "ARG: 2.17 C",
          "ARM: 7.38 C",
          "AUS: 1.46 C",
          "AUT: 1.38 C",
          "AZE: 2.62 C",
          "BHR: 1.89 C",
          "BGD: 8.19 C",
          "BRB: 1.87 C",
          "BLR: 2.07 C",
          "BEL: 1.41 C",
          "BLZ: 5.82 C",
          "BEN: 9.89 C",
          "BTN: 3.64 C",
          "BOL: 4.25 C",
          "BIH: 1.67 C",
          "BWA: 7.97 C",
          "BRA: 1.61 C",
          "BRN: 5.81 C",
          "BGR: 1.43 C",
          "BFA: 33.73 C",
          "BDI: 3.61 C",
          "KHM: 10.49 C",
          "CMR: 31.47 C",
          "CAN: 1.39 C",
          "CPV: 1.99 C",
          "CAF: 1.92 C",
          "TCD: 2.59 C",
          "CHL: 1.75 C",
          "CHN: 3.29 C",
          "COL: 1.58 C",
          "COM: 1.7 C",
          "COG: 1.34 C",
          "COK: 2.7 C",
          "CRI: 1.69 C",
          "CIV: 5.17 C",
          "HRV: 2.23 C",
          "CUB: 4.28 C",
          "CYP: 1.39 C",
          "CZE: 1.55 C",
          "COD: 168.28 C",
          "DNK: 1.7 C",
          "DJI: 9.33 C",
          "DMA: 2.45 C",
          "DOM: 3.33 C",
          "ECU: 2.88 C",
          "EGY: 12.84 C",
          "SLV: 4.43 C",
          "GNQ: 5.22 C",
          "ERI: 8.03 C",
          "EST: 1.34 C",
          "SWZ: 49.66 C",
          "ETH: 5.3 C",
          "FJI: 1.96 C",
          "FIN: 1.59 C",
          "FRA: 1.59 C",
          "GAB: 1.34 C",
          "GEO: 1.88 C",
          "DEU: 1.43 C",
          "GHA: 7.51 C",
          "GRC: 1.58 C",
          "GRD: 10.01 C",
          "GTM: 11.8 C",
          "GIN: 9.03 C",
          "GNB: 76.53 C",
          "GUY: 5.47 C",
          "HTI: 4.13 C",
          "VAT: nan C",
          "HND: 3.97 C",
          "HUN: 1.77 C",
          "ISL: 1.34 C",
          "IND: 4.9 C",
          "IDN: 2.68 C",
          "IRN: 3.63 C",
          "IRQ: 6.96 C",
          "IRL: 1.58 C",
          "ISR: 1.64 C",
          "ITA: 1.72 C",
          "JAM: 1.9 C",
          "JPN: 1.4 C",
          "JOR: 6.83 C",
          "KAZ: 2.03 C",
          "KEN: 7.79 C",
          "KIR: 2.65 C",
          "KWT: 2.37 C",
          "KGZ: 3.92 C",
          "LAO: 2.03 C",
          "LVA: 2.1 C",
          "LBN: 4.07 C",
          "LSO: 3.62 C",
          "LBR: 31.15 C",
          "LBY: nan C",
          "LIE: 1.67 C",
          "LTU: 1.54 C",
          "LUX: 1.62 C",
          "MKD: 1.44 C",
          "MDG: 2.44 C",
          "MWI: 8.19 C",
          "MYS: 2.33 C",
          "MDV: 6.43 C",
          "MLI: 19.12 C",
          "MLT: 1.39 C",
          "MHL: 1.34 C",
          "MRT: 3.27 C",
          "MUS: 4.3 C",
          "MEX: 3.06 C",
          "FSM: 1.78 C",
          "MDA: 5.06 C",
          "MCO: 1.39 C",
          "MNG: 1.57 C",
          "MNE: 1.8 C",
          "MAR: 2.55 C",
          "MOZ: 11.33 C",
          "MMR: 2.51 C",
          "NAM: 1.84 C",
          "NRU: 3.5 C",
          "NPL: 4.19 C",
          "NLD: 1.42 C",
          "NZL: 1.48 C",
          "NIC: 87.8 C",
          "NER: 11.33 C",
          "NGA: 2.02 C",
          "NIU: 1.81 C",
          "PRK: 71.86 C",
          "NOR: 1.34 C",
          "OMN: 3.75 C",
          "PAK: 24.11 C",
          "PLW: 1.47 C",
          "PSE: nan C",
          "PAN: 9.71 C",
          "PNG: 6.5 C",
          "PRY: 2.97 C",
          "PER: 3.09 C",
          "PHL: 5.95 C",
          "POL: 1.47 C",
          "PRT: 1.47 C",
          "QAT: 1.44 C",
          "ROU: 2.15 C",
          "RUS: 2.44 C",
          "RWA: 5.43 C",
          "KNA: 3.82 C",
          "LCA: 3.11 C",
          "VCT: 4.18 C",
          "WSM: 7.16 C",
          "SMR: 3.0 C",
          "STP: 13.58 C",
          "SAU: 1.61 C",
          "SEN: 5.88 C",
          "SRB: 1.92 C",
          "SYC: 10.12 C",
          "SLE: 13.58 C",
          "SGP: 2.61 C",
          "SVK: 1.53 C",
          "SVN: 1.86 C",
          "SLB: 3.36 C",
          "SOM: 64.56 C",
          "ZAF: 3.3 C",
          "KOR: 1.44 C",
          "SSD: 2.67 C",
          "ESP: 1.74 C",
          "LKA: 4.17 C",
          "SDN: 5.35 C",
          "SUR: 8.03 C",
          "SWE: 1.69 C",
          "CHE: 1.44 C",
          "SYR: 7.28 C",
          "TJK: 6.42 C",
          "TZA: 6.98 C",
          "THA: 2.13 C",
          "BHS: 2.4 C",
          "GMB: 15.67 C",
          "TLS: 1.34 C",
          "TGO: 7.34 C",
          "TON: 2.12 C",
          "TTO: 7.15 C",
          "TUN: 6.97 C",
          "TUR: 9.41 C",
          "TKM: 2.39 C",
          "TUV: 1.64 C",
          "UGA: 9.39 C",
          "UKR: 2.62 C",
          "ARE: 2.1 C",
          "GBR: 1.41 C",
          "USA: 1.5 C",
          "URY: 2.53 C",
          "UZB: 8.75 C",
          "VUT: 2.58 C",
          "VEN: 25.2 C",
          "VNM: 12.81 C",
          "YEM: 4.38 C",
          "ZMB: 7.99 C",
          "ZWE: 6.43 C"
         ],
         "type": "choropleth",
         "z": [
          8.367619595380546,
          3.7144908851102327,
          2.1315515044214743,
          1.6297300545260203,
          2.5771594882900963,
          3.512120013701611,
          2.170850345035392,
          7.378327243827844,
          1.455370993369429,
          1.3765834962043568,
          2.6249263202962547,
          1.8869150310390155,
          8.190407102686509,
          1.8675568703374428,
          2.072559790846441,
          1.4132829481871358,
          5.815275560545935,
          9.894200866160617,
          3.6374012408914815,
          4.246407452034938,
          1.6697805097939091,
          7.972671011931867,
          1.6079868123080123,
          5.808175583043265,
          1.4343502161955883,
          33.726720222876054,
          3.6084160336187088,
          10.494766127070317,
          31.465479228820595,
          1.3885136566617142,
          1.9900624018706337,
          1.9156890622168485,
          2.5878899075413555,
          1.748817428537838,
          3.2878411561253933,
          1.5838040369594277,
          1.7000506833263294,
          1.345,
          2.7031346443789745,
          1.6881219799124882,
          5.172368733764188,
          2.2251704008085795,
          4.283586024969039,
          1.3884291640950235,
          1.5468976083138672,
          168.28121280501324,
          1.6973983365657745,
          9.3282356431992,
          2.4548526461931406,
          3.3320936110636667,
          2.8830067406875557,
          12.836541586061863,
          4.429353558927723,
          5.22351009177131,
          8.031782002404675,
          1.345,
          49.65631322308995,
          5.296037632864142,
          1.9643498313067984,
          1.5928863524695944,
          1.5902906543084032,
          1.345,
          1.88433210586069,
          1.4301044546249728,
          7.511617593223951,
          1.5839972327056826,
          10.014692058405902,
          11.801467424510234,
          9.026783622677401,
          76.52970498016211,
          5.469242402953623,
          4.134173121854513,
          null,
          3.971258282546433,
          1.7683565113671305,
          1.345,
          4.896923785475924,
          2.6804926737676444,
          3.6256134968428433,
          6.963280373771072,
          1.5845331149819053,
          1.6416692875669427,
          1.7199601751314098,
          1.9046673469958808,
          1.4043004002187531,
          6.829003568565366,
          2.028359709135408,
          7.793894532241961,
          2.648564549012282,
          2.372436183318752,
          3.9210941731008577,
          2.0343282301934935,
          2.0997501653458936,
          4.06714237104185,
          3.6235757271537548,
          31.14701530071223,
          null,
          1.6686117122696973,
          1.5389811521605352,
          1.620396375221128,
          1.4370126486154158,
          2.4428264547978564,
          8.192799666998077,
          2.325912977770197,
          6.425881736955253,
          19.12418635607186,
          1.387960497373032,
          1.345,
          3.2666713036539097,
          4.296242308962492,
          3.0636245904887196,
          1.7827833608179253,
          5.059405791933232,
          1.3893068309173595,
          1.5666052416961815,
          1.7986314561976993,
          2.552057481357481,
          11.327268284794346,
          2.5069257508998772,
          1.8397149691530066,
          3.503152171656521,
          4.186414017191007,
          1.4246987713302248,
          1.476923157536843,
          87.79680671854882,
          11.325629763749644,
          2.020639183915408,
          1.8117757699697306,
          71.85587013975365,
          1.345,
          3.7546014077296577,
          24.109125903375876,
          1.4748323227378097,
          null,
          9.713144191968732,
          6.495788770292103,
          2.9670304855282943,
          3.0858111763539062,
          5.951419522401274,
          1.4696335527455882,
          1.4701778373709538,
          1.442447598282031,
          2.149315795462585,
          2.4416781542715844,
          5.434797085513439,
          3.824183634064508,
          3.1079151904211173,
          4.176888674964902,
          7.157061063863589,
          3.0031924355900723,
          13.581938125158235,
          1.6101372471186786,
          5.8817760699621395,
          1.921920521927423,
          10.11808855033491,
          13.584142080808636,
          2.612187748289337,
          1.5342747228054576,
          1.8565042379291758,
          3.3613753963591906,
          64.55845342700043,
          3.3010634096897684,
          1.4417800649489596,
          2.665796719586125,
          1.7363515252786232,
          4.174625092241975,
          5.351244297606696,
          8.033383882462308,
          1.6906467035276815,
          1.4361703081557695,
          7.278515910598703,
          6.419948403157935,
          6.980021625897523,
          2.1346335491354287,
          2.403590271528155,
          15.671129287526682,
          1.345,
          7.342804890002419,
          2.1182505601767394,
          7.150310209671854,
          6.966381121631953,
          9.41046550254605,
          2.3918812128557296,
          1.6393622563305656,
          9.386346127069963,
          2.6236154427654217,
          2.095174046496128,
          1.405691493574623,
          1.4975717376079132,
          2.5281242400308708,
          8.749761135336286,
          2.5801208302132483,
          25.203680683602304,
          12.810913494397486,
          4.375070493047618,
          7.99254445399146,
          6.425051266053146
         ],
         "zmax": 4,
         "zmin": 1.5
        },
        {
         "colorbar": {
          "len": 1,
          "tickvals": [
           1.5,
           1.75,
           2,
           2.25,
           2.5,
           2.75,
           3,
           3.25,
           3.5,
           3.75
          ],
          "title": {
           "font": {
            "size": 17
           },
           "text": "Temperature<br>rise<br>associated<br>with NDC"
          },
          "x": 1
         },
         "colorscale": [
          [
           0,
           "rgb(0,104,55)"
          ],
          [
           0.1,
           "rgb(26,152,80)"
          ],
          [
           0.2,
           "rgb(102,189,99)"
          ],
          [
           0.3,
           "rgb(166,217,106)"
          ],
          [
           0.4,
           "rgb(217,239,139)"
          ],
          [
           0.5,
           "rgb(255,255,191)"
          ],
          [
           0.6,
           "rgb(254,224,139)"
          ],
          [
           0.7,
           "rgb(253,174,97)"
          ],
          [
           0.8,
           "rgb(244,109,67)"
          ],
          [
           0.9,
           "rgb(215,48,39)"
          ],
          [
           1,
           "rgb(165,0,38)"
          ]
         ],
         "geo": "geo2",
         "hovertemplate": "%{text}",
         "locationmode": "ISO-3",
         "locations": [
          "AFG",
          "ALB",
          "DZA",
          "AND",
          "AGO",
          "ATG",
          "ARG",
          "ARM",
          "AUS",
          "AUT",
          "AZE",
          "BHR",
          "BGD",
          "BRB",
          "BLR",
          "BEL",
          "BLZ",
          "BEN",
          "BTN",
          "BOL",
          "BIH",
          "BWA",
          "BRA",
          "BRN",
          "BGR",
          "BFA",
          "BDI",
          "KHM",
          "CMR",
          "CAN",
          "CPV",
          "CAF",
          "TCD",
          "CHL",
          "CHN",
          "COL",
          "COM",
          "COG",
          "COK",
          "CRI",
          "CIV",
          "HRV",
          "CUB",
          "CYP",
          "CZE",
          "COD",
          "DNK",
          "DJI",
          "DMA",
          "DOM",
          "ECU",
          "EGY",
          "SLV",
          "GNQ",
          "ERI",
          "EST",
          "SWZ",
          "ETH",
          "FJI",
          "FIN",
          "FRA",
          "GAB",
          "GEO",
          "DEU",
          "GHA",
          "GRC",
          "GRD",
          "GTM",
          "GIN",
          "GNB",
          "GUY",
          "HTI",
          "VAT",
          "HND",
          "HUN",
          "ISL",
          "IND",
          "IDN",
          "IRN",
          "IRQ",
          "IRL",
          "ISR",
          "ITA",
          "JAM",
          "JPN",
          "JOR",
          "KAZ",
          "KEN",
          "KIR",
          "KWT",
          "KGZ",
          "LAO",
          "LVA",
          "LBN",
          "LSO",
          "LBR",
          "LBY",
          "LIE",
          "LTU",
          "LUX",
          "MKD",
          "MDG",
          "MWI",
          "MYS",
          "MDV",
          "MLI",
          "MLT",
          "MHL",
          "MRT",
          "MUS",
          "MEX",
          "FSM",
          "MDA",
          "MCO",
          "MNG",
          "MNE",
          "MAR",
          "MOZ",
          "MMR",
          "NAM",
          "NRU",
          "NPL",
          "NLD",
          "NZL",
          "NIC",
          "NER",
          "NGA",
          "NIU",
          "PRK",
          "NOR",
          "OMN",
          "PAK",
          "PLW",
          "PSE",
          "PAN",
          "PNG",
          "PRY",
          "PER",
          "PHL",
          "POL",
          "PRT",
          "QAT",
          "ROU",
          "RUS",
          "RWA",
          "KNA",
          "LCA",
          "VCT",
          "WSM",
          "SMR",
          "STP",
          "SAU",
          "SEN",
          "SRB",
          "SYC",
          "SLE",
          "SGP",
          "SVK",
          "SVN",
          "SLB",
          "SOM",
          "ZAF",
          "KOR",
          "SSD",
          "ESP",
          "LKA",
          "SDN",
          "SUR",
          "SWE",
          "CHE",
          "SYR",
          "TJK",
          "TZA",
          "THA",
          "BHS",
          "GMB",
          "TLS",
          "TGO",
          "TON",
          "TTO",
          "TUN",
          "TUR",
          "TKM",
          "TUV",
          "UGA",
          "UKR",
          "ARE",
          "GBR",
          "USA",
          "URY",
          "UZB",
          "VUT",
          "VEN",
          "VNM",
          "YEM",
          "ZMB",
          "ZWE"
         ],
         "marker": {
          "line": {
           "color": "black",
           "width": 0.3
          }
         },
         "name": "",
         "showscale": false,
         "text": [
          "AFG: 1.34 C",
          "ALB: 1.55 C",
          "DZA: 1.96 C",
          "AND: 2.13 C",
          "AGO: 1.34 C",
          "ATG: 4.3 C",
          "ARG: 3.52 C",
          "ARM: 2.61 C",
          "AUS: 16.85 C",
          "AUT: 2.55 C",
          "AZE: 2.42 C",
          "BHR: 154.69 C",
          "BGD: 1.34 C",
          "BRB: 1.68 C",
          "BLR: 10.06 C",
          "BEL: 3.02 C",
          "BLZ: 1.69 C",
          "BEN: 1.34 C",
          "BTN: 1.87 C",
          "BOL: 10.54 C",
          "BIH: 3.75 C",
          "BWA: 2.96 C",
          "BRA: 1.51 C",
          "BRN: 888.9 C",
          "BGR: 2.48 C",
          "BFA: 1.45 C",
          "BDI: 1.34 C",
          "KHM: 1.7 C",
          "CMR: 1.38 C",
          "CAN: 9.72 C",
          "CPV: 1.34 C",
          "CAF: 1.34 C",
          "TCD: 1.46 C",
          "CHL: 1.78 C",
          "CHN: 10.32 C",
          "COL: 1.34 C",
          "COM: 1.34 C",
          "COG: 1.34 C",
          "COK: 2.5 C",
          "CRI: 1.34 C",
          "CIV: 1.34 C",
          "HRV: 2.67 C",
          "CUB: 2.06 C",
          "CYP: 1.45 C",
          "CZE: 4.73 C",
          "COD: 1.34 C",
          "DNK: 2.45 C",
          "DJI: 1.34 C",
          "DMA: 1.41 C",
          "DOM: 1.53 C",
          "ECU: 1.5 C",
          "EGY: 2.42 C",
          "SLV: 1.34 C",
          "GNQ: 9.58 C",
          "ERI: 1.34 C",
          "EST: 5.05 C",
          "SWZ: 2.67 C",
          "ETH: 1.34 C",
          "FJI: 1.34 C",
          "FIN: 6.33 C",
          "FRA: 1.88 C",
          "GAB: 1.34 C",
          "GEO: 1.4 C",
          "DEU: 2.4 C",
          "GHA: 1.34 C",
          "GRC: 3.61 C",
          "GRD: 1.98 C",
          "GTM: 1.49 C",
          "GIN: 1.37 C",
          "GNB: 1.82 C",
          "GUY: 6.49 C",
          "HTI: 1.34 C",
          "VAT: nan C",
          "HND: 1.34 C",
          "HUN: 2.5 C",
          "ISL: 2.21 C",
          "IND: 1.43 C",
          "IDN: 1.51 C",
          "IRN: 15.45 C",
          "IRQ: 12.47 C",
          "IRL: 5.8 C",
          "ISR: 2.91 C",
          "ITA: 2.22 C",
          "JAM: 1.36 C",
          "JPN: 2.89 C",
          "JOR: 1.46 C",
          "KAZ: 23.15 C",
          "KEN: 1.34 C",
          "KIR: 1.34 C",
          "KWT: 217.15 C",
          "KGZ: 1.4 C",
          "LAO: 1.45 C",
          "LVA: 3.81 C",
          "LBN: 2.97 C",
          "LSO: 1.34 C",
          "LBR: 1.34 C",
          "LBY: nan C",
          "LIE: 1.42 C",
          "LTU: 4.13 C",
          "LUX: 10.99 C",
          "MKD: 1.37 C",
          "MDG: 1.34 C",
          "MWI: 1.34 C",
          "MYS: 6.36 C",
          "MDV: 3.02 C",
          "MLI: 1.44 C",
          "MLT: 1.34 C",
          "MHL: 1.34 C",
          "MRT: 1.36 C",
          "MUS: 2.2 C",
          "MEX: 2.96 C",
          "FSM: 1.34 C",
          "MDA: 1.58 C",
          "MCO: 1.34 C",
          "MNG: 31.75 C",
          "MNE: 2.23 C",
          "MAR: 1.34 C",
          "MOZ: 1.34 C",
          "MMR: 1.34 C",
          "NAM: 1.38 C",
          "NRU: 2.08 C",
          "NPL: 1.34 C",
          "NLD: 3.3 C",
          "NZL: 9.18 C",
          "NIC: 8.32 C",
          "NER: 1.34 C",
          "NGA: 1.34 C",
          "NIU: 1.57 C",
          "PRK: 4.23 C",
          "NOR: 1.73 C",
          "OMN: 142.6 C",
          "PAK: 1.88 C",
          "PLW: 14.0 C",
          "PSE: 1.34 C",
          "PAN: 2.91 C",
          "PNG: 1.34 C",
          "PRY: 2.63 C",
          "PER: 1.38 C",
          "PHL: 1.36 C",
          "POL: 3.47 C",
          "PRT: 2.41 C",
          "QAT: 523.69 C",
          "ROU: 2.08 C",
          "RUS: 46.6 C",
          "RWA: 1.34 C",
          "KNA: 4.92 C",
          "LCA: 1.39 C",
          "VCT: 1.62 C",
          "WSM: 1.38 C",
          "SMR: 3.19 C",
          "STP: 1.34 C",
          "SAU: 17.5 C",
          "SEN: 1.34 C",
          "SRB: 7.91 C",
          "SYC: 8.46 C",
          "SLE: 1.34 C",
          "SGP: 7.21 C",
          "SVK: 2.12 C",
          "SVN: 3.52 C",
          "SLB: 1.34 C",
          "SOM: 1.83 C",
          "ZAF: 11.1 C",
          "KOR: 5.28 C",
          "SSD: 1.58 C",
          "ESP: 2.18 C",
          "LKA: 1.34 C",
          "SDN: 1.34 C",
          "SUR: 9.67 C",
          "SWE: 1.76 C",
          "CHE: 1.36 C",
          "SYR: 1.34 C",
          "TJK: 1.34 C",
          "TZA: 1.34 C",
          "THA: 2.13 C",
          "BHS: 2.44 C",
          "GMB: 1.34 C",
          "TLS: 1.34 C",
          "TGO: 1.34 C",
          "TON: 1.34 C",
          "TTO: 2024.26 C",
          "TUN: 1.72 C",
          "TUR: 11.46 C",
          "TKM: 51.59 C",
          "TUV: 1.34 C",
          "UGA: 1.34 C",
          "UKR: 4.14 C",
          "ARE: 70.52 C",
          "GBR: 1.48 C",
          "USA: 13.43 C",
          "URY: 13.99 C",
          "UZB: 6.5 C",
          "VUT: 1.34 C",
          "VEN: 19.68 C",
          "VNM: 4.48 C",
          "YEM: 1.34 C",
          "ZMB: 1.34 C",
          "ZWE: 1.34 C"
         ],
         "type": "choropleth",
         "z": [
          1.345,
          1.5461658895891974,
          1.9561784992369047,
          2.1330466212791306,
          1.345,
          4.303597941081154,
          3.521322143333545,
          2.613316230082323,
          16.84669701056834,
          2.5501608082473757,
          2.4154798535128097,
          154.68544239877957,
          1.345,
          1.6837106406135127,
          10.05815239201554,
          3.018307544403885,
          1.6881132285896294,
          1.345,
          1.8718383252604118,
          10.538307114288045,
          3.7519382749708843,
          2.9560425963724932,
          1.5147302229452275,
          888.8979176765461,
          2.479800662426411,
          1.4461211484037315,
          1.345,
          1.6952852752421923,
          1.3818885774233667,
          9.715581489353161,
          1.345,
          1.345,
          1.4610176298744282,
          1.783269180495227,
          10.32303583669312,
          1.345,
          1.345,
          1.345,
          2.501391228262989,
          1.345,
          1.345,
          2.6681844205863103,
          2.057055662128678,
          1.4513607543526126,
          4.733570086890669,
          1.345,
          2.454183462177075,
          1.345,
          1.4061836879568814,
          1.5270401207242792,
          1.4953308030775965,
          2.4232420393552045,
          1.345,
          9.577182635350226,
          1.345,
          5.047483656596131,
          2.667496760548792,
          1.345,
          1.345,
          6.3273127845055805,
          1.878933999016711,
          1.345,
          1.3985078658963985,
          2.401128635785305,
          1.345,
          3.6147007867708716,
          1.9759812444005007,
          1.4910757391800817,
          1.3707129205296815,
          1.8164624068097068,
          6.494563783195188,
          1.345,
          null,
          1.345,
          2.5047500377427045,
          2.214597802935425,
          1.4280139582649012,
          1.5108513007591577,
          15.445469577658322,
          12.471177288185164,
          5.803335757297463,
          2.9057843786614184,
          2.2248307300080694,
          1.3613269212704162,
          2.893530068453394,
          1.4617432611425625,
          23.1466841804875,
          1.345,
          1.345,
          217.15120272361955,
          1.4049139727449464,
          1.4540700595646667,
          3.8078453753039656,
          2.968373037403777,
          1.345,
          1.345,
          null,
          1.4245425581211086,
          4.133957515869948,
          10.986470494757242,
          1.3721151172292003,
          1.345,
          1.345,
          6.356299805371027,
          3.0152603831111153,
          1.4371313473490206,
          1.345,
          1.345,
          1.3640638454285812,
          2.198969908874191,
          2.9603143414999833,
          1.345,
          1.5849839898764027,
          1.345,
          31.748197938721887,
          2.232503789714087,
          1.345,
          1.345,
          1.345,
          1.3756804698750777,
          2.077511218929624,
          1.345,
          3.303938602446225,
          9.184992091781691,
          8.31653852477633,
          1.345,
          1.345,
          1.5704390168320588,
          4.22553985497775,
          1.7273384170190562,
          142.60298410521807,
          1.8820435151360848,
          13.99602923448331,
          1.345,
          2.9118506376945246,
          1.345,
          2.6315798537652633,
          1.3764405819390697,
          1.3589911596169246,
          3.4659758545549675,
          2.407618539571949,
          523.6946603365004,
          2.080421859000965,
          46.602303347245865,
          1.345,
          4.919362313990993,
          1.3872269985859778,
          1.6196434571307445,
          1.3784523727534161,
          3.1854062786339816,
          1.345,
          17.50291235791667,
          1.345,
          7.9146005672336806,
          8.463664997267093,
          1.345,
          7.208933288249349,
          2.119921557245266,
          3.5193047777419317,
          1.345,
          1.8308822186946685,
          11.102228800592808,
          5.276464417803361,
          1.5778232971855766,
          2.178085889894848,
          1.345,
          1.345,
          9.674700638190041,
          1.7634859369437876,
          1.3636436614309277,
          1.345,
          1.345,
          1.345,
          2.131941900102394,
          2.435062655040037,
          1.345,
          1.345,
          1.345,
          1.345,
          2024.2617829199235,
          1.7165107814360248,
          11.46476098954275,
          51.59299398081674,
          1.345,
          1.345,
          4.142113911052645,
          70.51598576011665,
          1.4778110761329093,
          13.432721170526904,
          13.987366599842192,
          6.49558177381806,
          1.345,
          19.677363022701698,
          4.477763212336802,
          1.345,
          1.345,
          1.345
         ],
         "zmax": 4,
         "zmin": 1.5
        },
        {
         "colorbar": {
          "len": 1,
          "tickvals": [
           1.5,
           1.75,
           2,
           2.25,
           2.5,
           2.75,
           3,
           3.25,
           3.5,
           3.75
          ],
          "title": {
           "font": {
            "size": 17
           },
           "text": "Temperature<br>rise<br>associated<br>with NDC"
          },
          "x": 1
         },
         "colorscale": [
          [
           0,
           "rgb(0,104,55)"
          ],
          [
           0.1,
           "rgb(26,152,80)"
          ],
          [
           0.2,
           "rgb(102,189,99)"
          ],
          [
           0.3,
           "rgb(166,217,106)"
          ],
          [
           0.4,
           "rgb(217,239,139)"
          ],
          [
           0.5,
           "rgb(255,255,191)"
          ],
          [
           0.6,
           "rgb(254,224,139)"
          ],
          [
           0.7,
           "rgb(253,174,97)"
          ],
          [
           0.8,
           "rgb(244,109,67)"
          ],
          [
           0.9,
           "rgb(215,48,39)"
          ],
          [
           1,
           "rgb(165,0,38)"
          ]
         ],
         "geo": "geo3",
         "hovertemplate": "%{text}",
         "locationmode": "ISO-3",
         "locations": [
          "AFG",
          "ALB",
          "DZA",
          "AND",
          "AGO",
          "ATG",
          "ARG",
          "ARM",
          "AUS",
          "AUT",
          "AZE",
          "BHR",
          "BGD",
          "BRB",
          "BLR",
          "BEL",
          "BLZ",
          "BEN",
          "BTN",
          "BOL",
          "BIH",
          "BWA",
          "BRA",
          "BRN",
          "BGR",
          "BFA",
          "BDI",
          "KHM",
          "CMR",
          "CAN",
          "CPV",
          "CAF",
          "TCD",
          "CHL",
          "CHN",
          "COL",
          "COM",
          "COG",
          "COK",
          "CRI",
          "CIV",
          "HRV",
          "CUB",
          "CYP",
          "CZE",
          "COD",
          "DNK",
          "DJI",
          "DMA",
          "DOM",
          "ECU",
          "EGY",
          "SLV",
          "GNQ",
          "ERI",
          "EST",
          "SWZ",
          "ETH",
          "FJI",
          "FIN",
          "FRA",
          "GAB",
          "GEO",
          "DEU",
          "GHA",
          "GRC",
          "GRD",
          "GTM",
          "GIN",
          "GNB",
          "GUY",
          "HTI",
          "VAT",
          "HND",
          "HUN",
          "ISL",
          "IND",
          "IDN",
          "IRN",
          "IRQ",
          "IRL",
          "ISR",
          "ITA",
          "JAM",
          "JPN",
          "JOR",
          "KAZ",
          "KEN",
          "KIR",
          "KWT",
          "KGZ",
          "LAO",
          "LVA",
          "LBN",
          "LSO",
          "LBR",
          "LBY",
          "LIE",
          "LTU",
          "LUX",
          "MKD",
          "MDG",
          "MWI",
          "MYS",
          "MDV",
          "MLI",
          "MLT",
          "MHL",
          "MRT",
          "MUS",
          "MEX",
          "FSM",
          "MDA",
          "MCO",
          "MNG",
          "MNE",
          "MAR",
          "MOZ",
          "MMR",
          "NAM",
          "NRU",
          "NPL",
          "NLD",
          "NZL",
          "NIC",
          "NER",
          "NGA",
          "NIU",
          "PRK",
          "NOR",
          "OMN",
          "PAK",
          "PLW",
          "PSE",
          "PAN",
          "PNG",
          "PRY",
          "PER",
          "PHL",
          "POL",
          "PRT",
          "QAT",
          "ROU",
          "RUS",
          "RWA",
          "KNA",
          "LCA",
          "VCT",
          "WSM",
          "SMR",
          "STP",
          "SAU",
          "SEN",
          "SRB",
          "SYC",
          "SLE",
          "SGP",
          "SVK",
          "SVN",
          "SLB",
          "SOM",
          "ZAF",
          "KOR",
          "SSD",
          "ESP",
          "LKA",
          "SDN",
          "SUR",
          "SWE",
          "CHE",
          "SYR",
          "TJK",
          "TZA",
          "THA",
          "BHS",
          "GMB",
          "TLS",
          "TGO",
          "TON",
          "TTO",
          "TUN",
          "TUR",
          "TKM",
          "TUV",
          "UGA",
          "UKR",
          "ARE",
          "GBR",
          "USA",
          "URY",
          "UZB",
          "VUT",
          "VEN",
          "VNM",
          "YEM",
          "ZMB",
          "ZWE"
         ],
         "marker": {
          "line": {
           "color": "black",
           "width": 0.3
          }
         },
         "name": "",
         "showscale": false,
         "text": [
          "AFG: 1.34 C",
          "ALB: 2.02 C",
          "DZA: 2.04 C",
          "AND: 1.82 C",
          "AGO: 1.39 C",
          "ATG: 3.87 C",
          "ARG: 2.67 C",
          "ARM: 3.97 C",
          "AUS: 2.34 C",
          "AUT: 1.57 C",
          "AZE: 2.52 C",
          "BHR: 5.3 C",
          "BGD: 1.42 C",
          "BRB: 1.77 C",
          "BLR: 3.57 C",
          "BEL: 1.7 C",
          "BLZ: 2.49 C",
          "BEN: 1.4 C",
          "BTN: 2.42 C",
          "BOL: 6.32 C",
          "BIH: 2.2 C",
          "BWA: 4.46 C",
          "BRA: 1.56 C",
          "BRN: 24.83 C",
          "BGR: 1.67 C",
          "BFA: 2.51 C",
          "BDI: 1.34 C",
          "KHM: 2.86 C",
          "CMR: 2.1 C",
          "CAN: 1.91 C",
          "CPV: 1.34 C",
          "CAF: 1.37 C",
          "TCD: 1.73 C",
          "CHL: 1.77 C",
          "CHN: 5.27 C",
          "COL: 1.4 C",
          "COM: 1.34 C",
          "COG: 1.34 C",
          "COK: 2.6 C",
          "CRI: 1.37 C",
          "CIV: 1.34 C",
          "HRV: 2.42 C",
          "CUB: 2.75 C",
          "CYP: 1.41 C",
          "CZE: 2.13 C",
          "COD: 1.8 C",
          "DNK: 1.97 C",
          "DJI: 1.53 C",
          "DMA: 1.62 C",
          "DOM: 1.94 C",
          "ECU: 1.83 C",
          "EGY: 4.42 C",
          "SLV: 1.49 C",
          "GNQ: 6.9 C",
          "ERI: 1.61 C",
          "EST: 1.6 C",
          "SWZ: 6.83 C",
          "ETH: 1.34 C",
          "FJI: 1.46 C",
          "FIN: 2.35 C",
          "FRA: 1.71 C",
          "GAB: 1.34 C",
          "GEO: 1.53 C",
          "DEU: 1.66 C",
          "GHA: 1.38 C",
          "GRC: 2.06 C",
          "GRD: 3.39 C",
          "GTM: 2.36 C",
          "GIN: 1.8 C",
          "GNB: 4.52 C",
          "GUY: 5.95 C",
          "HTI: 1.34 C",
          "VAT: nan C",
          "HND: 1.46 C",
          "HUN: 2.04 C",
          "ISL: 1.4 C",
          "IND: 1.88 C",
          "IDN: 1.82 C",
          "IRN: 6.5 C",
          "IRQ: 9.13 C",
          "IRL: 2.3 C",
          "ISR: 2.02 C",
          "ITA: 1.92 C",
          "JAM: 1.46 C",
          "JPN: 1.67 C",
          "JOR: 2.07 C",
          "KAZ: 4.26 C",
          "KEN: 1.5 C",
          "KIR: 1.34 C",
          "KWT: 7.73 C",
          "KGZ: 1.75 C",
          "LAO: 1.63 C",
          "LVA: 2.68 C",
          "LBN: 3.44 C",
          "LSO: 1.4 C",
          "LBR: 1.44 C",
          "LBY: nan C",
          "LIE: 1.51 C",
          "LTU: 2.05 C",
          "LUX: 2.7 C",
          "MKD: 1.4 C",
          "MDG: 1.34 C",
          "MWI: 1.34 C",
          "MYS: 3.45 C",
          "MDV: 4.18 C",
          "MLI: 2.3 C",
          "MLT: 1.37 C",
          "MHL: 1.34 C",
          "MRT: 1.58 C",
          "MUS: 2.89 C",
          "MEX: 3.01 C",
          "FSM: 1.34 C",
          "MDA: 2.23 C",
          "MCO: 1.34 C",
          "MNG: 3.03 C",
          "MNE: 1.98 C",
          "MAR: 1.46 C",
          "MOZ: 1.44 C",
          "MMR: 1.42 C",
          "NAM: 1.48 C",
          "NRU: 2.58 C",
          "NPL: 1.37 C",
          "NLD: 1.75 C",
          "NZL: 2.22 C",
          "NIC: 20.78 C",
          "NER: 1.44 C",
          "NGA: 1.34 C",
          "NIU: 1.67 C",
          "PRK: 11.48 C",
          "NOR: 1.34 C",
          "OMN: 12.0 C",
          "PAK: 3.91 C",
          "PLW: 2.36 C",
          "PSE: nan C",
          "PAN: 4.72 C",
          "PNG: 1.42 C",
          "PRY: 2.79 C",
          "PER: 1.61 C",
          "PHL: 1.66 C",
          "POL: 1.85 C",
          "PRT: 1.72 C",
          "QAT: 3.1 C",
          "ROU: 2.11 C",
          "RUS: 6.13 C",
          "RWA: 1.34 C",
          "KNA: 4.31 C",
          "LCA: 1.64 C",
          "VCT: 2.19 C",
          "WSM: 1.79 C",
          "SMR: 3.09 C",
          "STP: 1.34 C",
          "SAU: 2.91 C",
          "SEN: 1.38 C",
          "SRB: 3.1 C",
          "SYC: 9.24 C",
          "SLE: 1.34 C",
          "SGP: 3.93 C",
          "SVK: 1.73 C",
          "SVN: 2.38 C",
          "SLB: 1.34 C",
          "SOM: 4.47 C",
          "ZAF: 5.42 C",
          "KOR: 1.94 C",
          "SSD: 1.9 C",
          "ESP: 1.92 C",
          "LKA: 1.43 C",
          "SDN: 1.63 C",
          "SUR: 8.8 C",
          "SWE: 1.73 C",
          "CHE: 1.39 C",
          "SYR: 1.67 C",
          "TJK: 1.44 C",
          "TZA: 1.36 C",
          "THA: 2.13 C",
          "BHS: 2.42 C",
          "GMB: 1.36 C",
          "TLS: 1.34 C",
          "TGO: 1.34 C",
          "TON: 1.41 C",
          "TTO: 33.7 C",
          "TUN: 2.65 C",
          "TUR: 10.36 C",
          "TKM: 6.12 C",
          "TUV: 1.34 C",
          "UGA: 1.34 C",
          "UKR: 3.22 C",
          "ARE: 5.51 C",
          "GBR: 1.44 C",
          "USA: 2.43 C",
          "URY: 4.71 C",
          "UZB: 7.5 C",
          "VUT: 1.34 C",
          "VEN: 22.2 C",
          "VNM: 7.05 C",
          "YEM: 1.34 C",
          "ZMB: 1.61 C",
          "ZWE: 1.45 C"
         ],
         "type": "choropleth",
         "z": [
          1.345,
          2.0150140304657307,
          2.038108215958381,
          1.8186891006589008,
          1.385733086719347,
          3.871806333289828,
          2.668162660538745,
          3.9661848773985118,
          2.3447295679586624,
          1.569148953875498,
          2.5150660199687715,
          5.302655215073675,
          1.4206819753176037,
          1.7658395486741738,
          3.5650934228905307,
          1.6978968168974924,
          2.487354098188707,
          1.3966471140571897,
          2.417481028886871,
          6.3180312525048,
          2.2002574013864984,
          4.4597007595780855,
          1.5567219466304423,
          24.832775627410847,
          1.6742061350138437,
          2.5074661353546146,
          1.345,
          2.8551756086501827,
          2.0992297196945406,
          1.9059475336773621,
          1.345,
          1.3682231388756614,
          1.730989373221786,
          1.7656954666265632,
          5.272216418895876,
          1.3961934391674076,
          1.345,
          1.345,
          2.5977808023263482,
          1.3693413792668712,
          1.345,
          2.422158543983458,
          2.749224215850539,
          1.4142542335488288,
          2.1265394047688764,
          1.7950421144157667,
          1.9670679781635814,
          1.5306014354239288,
          1.622629015590158,
          1.9357374917398809,
          1.825323879860786,
          4.423958374463477,
          1.4864511229718502,
          6.902257765790171,
          1.6083546824147192,
          1.5999713617953237,
          6.831869413313852,
          1.345,
          1.4570971976730251,
          2.3544406792203727,
          1.7077152760338228,
          1.345,
          1.5271472319825161,
          1.6563002572959555,
          1.3802257906007351,
          2.0600906931110474,
          3.390789151324178,
          2.3566116018439924,
          1.797347949559567,
          4.5244285427567785,
          5.94717943227574,
          1.345,
          null,
          1.4558681644855715,
          2.041877046113667,
          1.4044422756843455,
          1.8753619667992347,
          1.8158068536650265,
          6.500217494059186,
          9.13386074601316,
          2.2950157381388587,
          2.0163314924843334,
          1.9182554078497724,
          1.4643930139106758,
          1.6664111698454667,
          2.073962720683558,
          4.258712079186955,
          1.4979661952283294,
          1.345,
          7.734140306732513,
          1.7504839284369853,
          1.6260892726721328,
          2.6817220238250936,
          3.436206318677523,
          1.401892001228598,
          1.4417503162728846,
          null,
          1.5100066720350913,
          2.051378393318998,
          2.698708277625759,
          1.3968805664936828,
          1.345,
          1.345,
          3.4489792787115143,
          4.176574236742489,
          2.3024316701517717,
          1.3670368355771028,
          1.345,
          1.5807882019737431,
          2.89399219736403,
          3.011061210025363,
          1.345,
          2.228667552821113,
          1.345,
          3.0337251050547067,
          1.9783484956891249,
          1.4645582717710104,
          1.4355791100151793,
          1.4187003527513966,
          1.484693528140937,
          2.583198180074663,
          1.3668265540323254,
          1.7494055813461675,
          2.221080973040822,
          20.779113868469572,
          1.441143069651957,
          1.345,
          1.6702934921366897,
          11.484529902258904,
          1.345,
          11.997264996504688,
          3.9066186882543397,
          2.360315484502629,
          null,
          4.722524263784439,
          1.4245186548776902,
          2.788434468175727,
          1.6118044857666651,
          1.6554936769351594,
          1.8547893003850102,
          1.7155557514944737,
          3.1049458791722357,
          2.114056270281293,
          6.129296904495323,
          1.345,
          4.3125116131069,
          1.6439897692556371,
          2.1887196478071576,
          1.7941891775174026,
          3.0915948890219545,
          1.345,
          2.908454817968451,
          1.382516314292865,
          3.0987171546877086,
          9.236605376155648,
          1.345,
          3.9336977199980407,
          1.7301986796632876,
          2.3761023428578394,
          1.345,
          4.466818435429143,
          5.4234208586880985,
          1.9351710803675481,
          1.8959852595259572,
          1.9151450180967282,
          1.4257108270489973,
          1.6287315457042686,
          8.797659042320443,
          1.725369222517438,
          1.3890220303900063,
          1.666635272346484,
          1.435390241076267,
          1.3640625639456816,
          2.133286510781504,
          2.419200850636458,
          1.3621485227287287,
          1.345,
          1.345,
          1.4141658588153938,
          33.70241787384991,
          2.6482252702655478,
          10.364016469139262,
          6.117636068304508,
          1.345,
          1.345,
          3.215125118030569,
          5.511734589331236,
          1.4359416558665163,
          2.4264284939043117,
          4.710000806022499,
          7.496103127156722,
          1.345,
          22.2038689024549,
          7.047107156509409,
          1.345,
          1.6055098351414254,
          1.4503316846280656
         ],
         "zmax": 4,
         "zmin": 1.5
        },
        {
         "colorbar": {
          "len": 1,
          "tickvals": [
           1.5,
           1.75,
           2,
           2.25,
           2.5,
           2.75,
           3,
           3.25,
           3.5,
           3.75
          ],
          "title": {
           "font": {
            "size": 17
           },
           "text": "Temperature<br>rise<br>associated<br>with NDC"
          },
          "x": 1
         },
         "colorscale": [
          [
           0,
           "rgb(0,104,55)"
          ],
          [
           0.1,
           "rgb(26,152,80)"
          ],
          [
           0.2,
           "rgb(102,189,99)"
          ],
          [
           0.3,
           "rgb(166,217,106)"
          ],
          [
           0.4,
           "rgb(217,239,139)"
          ],
          [
           0.5,
           "rgb(255,255,191)"
          ],
          [
           0.6,
           "rgb(254,224,139)"
          ],
          [
           0.7,
           "rgb(253,174,97)"
          ],
          [
           0.8,
           "rgb(244,109,67)"
          ],
          [
           0.9,
           "rgb(215,48,39)"
          ],
          [
           1,
           "rgb(165,0,38)"
          ]
         ],
         "geo": "geo4",
         "hovertemplate": "%{text}",
         "locationmode": "ISO-3",
         "locations": [
          "AFG",
          "ALB",
          "DZA",
          "AND",
          "AGO",
          "ATG",
          "ARG",
          "ARM",
          "AUS",
          "AUT",
          "AZE",
          "BHR",
          "BGD",
          "BRB",
          "BLR",
          "BEL",
          "BLZ",
          "BEN",
          "BTN",
          "BOL",
          "BIH",
          "BWA",
          "BRA",
          "BRN",
          "BGR",
          "BFA",
          "BDI",
          "KHM",
          "CMR",
          "CAN",
          "CPV",
          "CAF",
          "TCD",
          "CHL",
          "CHN",
          "COL",
          "COM",
          "COG",
          "COK",
          "CRI",
          "CIV",
          "HRV",
          "CUB",
          "CYP",
          "CZE",
          "COD",
          "DNK",
          "DJI",
          "DMA",
          "DOM",
          "ECU",
          "EGY",
          "SLV",
          "GNQ",
          "ERI",
          "EST",
          "SWZ",
          "ETH",
          "FJI",
          "FIN",
          "FRA",
          "GAB",
          "GEO",
          "DEU",
          "GHA",
          "GRC",
          "GRD",
          "GTM",
          "GIN",
          "GNB",
          "GUY",
          "HTI",
          "VAT",
          "HND",
          "HUN",
          "ISL",
          "IND",
          "IDN",
          "IRN",
          "IRQ",
          "IRL",
          "ISR",
          "ITA",
          "JAM",
          "JPN",
          "JOR",
          "KAZ",
          "KEN",
          "KIR",
          "KWT",
          "KGZ",
          "LAO",
          "LVA",
          "LBN",
          "LSO",
          "LBR",
          "LBY",
          "LIE",
          "LTU",
          "LUX",
          "MKD",
          "MDG",
          "MWI",
          "MYS",
          "MDV",
          "MLI",
          "MLT",
          "MHL",
          "MRT",
          "MUS",
          "MEX",
          "FSM",
          "MDA",
          "MCO",
          "MNG",
          "MNE",
          "MAR",
          "MOZ",
          "MMR",
          "NAM",
          "NRU",
          "NPL",
          "NLD",
          "NZL",
          "NIC",
          "NER",
          "NGA",
          "NIU",
          "PRK",
          "NOR",
          "OMN",
          "PAK",
          "PLW",
          "PSE",
          "PAN",
          "PNG",
          "PRY",
          "PER",
          "PHL",
          "POL",
          "PRT",
          "QAT",
          "ROU",
          "RUS",
          "RWA",
          "KNA",
          "LCA",
          "VCT",
          "WSM",
          "SMR",
          "STP",
          "SAU",
          "SEN",
          "SRB",
          "SYC",
          "SLE",
          "SGP",
          "SVK",
          "SVN",
          "SLB",
          "SOM",
          "ZAF",
          "KOR",
          "SSD",
          "ESP",
          "LKA",
          "SDN",
          "SUR",
          "SWE",
          "CHE",
          "SYR",
          "TJK",
          "TZA",
          "THA",
          "BHS",
          "GMB",
          "TLS",
          "TGO",
          "TON",
          "TTO",
          "TUN",
          "TUR",
          "TKM",
          "TUV",
          "UGA",
          "UKR",
          "ARE",
          "GBR",
          "USA",
          "URY",
          "UZB",
          "VUT",
          "VEN",
          "VNM",
          "YEM",
          "ZMB",
          "ZWE"
         ],
         "marker": {
          "line": {
           "color": "black",
           "width": 0.3
          }
         },
         "name": "",
         "showscale": false,
         "text": [
          "AFG: 1.34 C",
          "ALB: 1.42 C",
          "DZA: 1.8 C",
          "AND: 6.55 C",
          "AGO: 1.34 C",
          "ATG: 5.41 C",
          "ARG: 6.65 C",
          "ARM: 1.84 C",
          "AUS: 4.65029154775622e+17 C",
          "AUT: 25.21 C",
          "AZE: 3.25 C",
          "BHR: 837172278777457.9 C",
          "BGD: 1.34 C",
          "BRB: 1.87 C",
          "BLR: 114.7 C",
          "BEL: 82.63 C",
          "BLZ: 1.46 C",
          "BEN: 1.34 C",
          "BTN: 1.58 C",
          "BOL: 12.33 C",
          "BIH: 5.25 C",
          "BWA: 2.99 C",
          "BRA: 1.56 C",
          "BRN: 139123498150835.34 C",
          "BGR: 14.2 C",
          "BFA: 1.34 C",
          "BDI: 1.34 C",
          "KHM: 1.43 C",
          "CMR: 1.34 C",
          "CAN: 7.829797303822615e+17 C",
          "CPV: 1.34 C",
          "CAF: 1.34 C",
          "TCD: 1.34 C",
          "CHL: 1.93 C",
          "CHN: 20.0 C",
          "COL: 1.34 C",
          "COM: 1.34 C",
          "COG: 1.34 C",
          "COK: 2.09 C",
          "CRI: 1.34 C",
          "CIV: 1.34 C",
          "HRV: 4.41 C",
          "CUB: 1.97 C",
          "CYP: 1.7 C",
          "CZE: 564.17 C",
          "COD: 1.34 C",
          "DNK: 20.16 C",
          "DJI: 1.34 C",
          "DMA: 1.36 C",
          "DOM: 1.41 C",
          "ECU: 1.4 C",
          "EGY: 1.67 C",
          "SLV: 1.34 C",
          "GNQ: 16.64 C",
          "ERI: 1.34 C",
          "EST: 11553690271775.58 C",
          "SWZ: 1.65 C",
          "ETH: 1.34 C",
          "FJI: 1.34 C",
          "FIN: 1211360624714305.0 C",
          "FRA: 3.65 C",
          "GAB: 1.34 C",
          "GEO: 1.34 C",
          "DEU: 53.61 C",
          "GHA: 1.34 C",
          "GRC: 31.0 C",
          "GRD: 1.58 C",
          "GTM: 1.34 C",
          "GIN: 1.34 C",
          "GNB: 1.39 C",
          "GUY: 7.24 C",
          "HTI: 1.34 C",
          "VAT: nan C",
          "HND: 1.34 C",
          "HUN: 5.31 C",
          "ISL: 69.19 C",
          "IND: 1.34 C",
          "IDN: 1.39 C",
          "IRN: 46.15 C",
          "IRQ: 7.59 C",
          "IRL: 1250.48 C",
          "ISR: 4.39 C",
          "ITA: 7.2 C",
          "JAM: 1.37 C",
          "JPN: 60.58 C",
          "JOR: 1.36 C",
          "KAZ: 986.36 C",
          "KEN: 1.34 C",
          "KIR: 1.34 C",
          "KWT: 2.9014966037526412e+16 C",
          "KGZ: 1.34 C",
          "LAO: 1.34 C",
          "LVA: 7.05 C",
          "LBN: 2.3 C",
          "LSO: 1.34 C",
          "LBR: 1.34 C",
          "LBY: nan C",
          "LIE: 1.53 C",
          "LTU: 19.76 C",
          "LUX: 4408225640476.15 C",
          "MKD: 1.46 C",
          "MDG: 1.34 C",
          "MWI: 1.34 C",
          "MYS: 12.67 C",
          "MDV: 2.22 C",
          "MLI: 1.34 C",
          "MLT: 1.41 C",
          "MHL: 1.34 C",
          "MRT: 1.34 C",
          "MUS: 1.89 C",
          "MEX: 3.86 C",
          "FSM: 1.34 C",
          "MDA: 1.39 C",
          "MCO: 1.34 C",
          "MNG: 731.41 C",
          "MNE: 2.66 C",
          "MAR: 1.34 C",
          "MOZ: 1.34 C",
          "MMR: 1.34 C",
          "NAM: 1.34 C",
          "NRU: 2.47 C",
          "NPL: 1.34 C",
          "NLD: 461.5 C",
          "NZL: 1773512270602437.0 C",
          "NIC: 4.5 C",
          "NER: 1.34 C",
          "NGA: 1.34 C",
          "NIU: 1.42 C",
          "PRK: 3.44 C",
          "NOR: 274.81 C",
          "OMN: 99372.74 C",
          "PAK: 1.41 C",
          "PLW: 99302748.34 C",
          "PSE: 1.34 C",
          "PAN: 2.12 C",
          "PNG: 1.34 C",
          "PRY: 2.5 C",
          "PER: 1.34 C",
          "PHL: 1.34 C",
          "POL: 99.56 C",
          "PRT: 5.48 C",
          "QAT: 1.7673366569156234e+16 C",
          "ROU: 3.0 C",
          "RUS: 1.7595162190406487e+20 C",
          "RWA: 1.34 C",
          "KNA: 5.73 C",
          "LCA: 1.34 C",
          "VCT: 1.41 C",
          "WSM: 1.34 C",
          "SMR: 7.54 C",
          "STP: 1.34 C",
          "SAU: 16363.22 C",
          "SEN: 1.34 C",
          "SRB: 71.65 C",
          "SYC: 10.44 C",
          "SLE: 1.34 C",
          "SGP: 125.46 C",
          "SVK: 7.6 C",
          "SVN: 23.1 C",
          "SLB: 1.34 C",
          "SOM: 1.36 C",
          "ZAF: 52.18 C",
          "KOR: 205.39 C",
          "SSD: 1.41 C",
          "ESP: 5.27 C",
          "LKA: 1.34 C",
          "SDN: 1.34 C",
          "SUR: 11.64 C",
          "SWE: 2.45 C",
          "CHE: 1.39 C",
          "SYR: 1.34 C",
          "TJK: 1.34 C",
          "TZA: 1.34 C",
          "THA: 2.45 C",
          "BHS: 3.07 C",
          "GMB: 1.34 C",
          "TLS: 1.34 C",
          "TGO: 1.34 C",
          "TON: 1.34 C",
          "TTO: 1.1403990406707608e+16 C",
          "TUN: 1.49 C",
          "TUR: 11.49 C",
          "TKM: 8834.27 C",
          "TUV: 1.34 C",
          "UGA: 1.34 C",
          "UKR: 66.45 C",
          "ARE: 9.482356031886685e+16 C",
          "GBR: 3.13 C",
          "USA: 7.12141789384414e+20 C",
          "URY: 147.9 C",
          "UZB: 6.46 C",
          "VUT: 1.34 C",
          "VEN: 43.39 C",
          "VNM: 2.97 C",
          "YEM: 1.34 C",
          "ZMB: 1.34 C",
          "ZWE: 1.34 C"
         ],
         "type": "choropleth",
         "z": [
          1.345,
          1.4236330190710906,
          1.8013927290856828,
          6.550280314597673,
          1.345,
          5.413205410953074,
          6.6539698233503355,
          1.8438080817944666,
          465029154775622100,
          25.213007425935473,
          3.2504107433268246,
          837172278777457.9,
          1.345,
          1.8718495880560613,
          114.69525078415724,
          82.62628211991539,
          1.4610986186021697,
          1.345,
          1.5826900851929129,
          12.332265900005675,
          5.248707625038646,
          2.9932326489364702,
          1.5558373454453234,
          139123498150835.34,
          14.196677316312666,
          1.345,
          1.345,
          1.429275096345126,
          1.345,
          782979730382261400,
          1.345,
          1.345,
          1.345,
          1.9275433571395233,
          20.001343944221865,
          1.345,
          1.345,
          1.345,
          2.0928808507845966,
          1.345,
          1.345,
          4.414210403626436,
          1.9690097682302214,
          1.6971768839692456,
          564.1746821638565,
          1.345,
          20.16451002211228,
          1.345,
          1.3603349750198999,
          1.4067161276660924,
          1.4040917209275603,
          1.6737268617337515,
          1.345,
          16.63732274694329,
          1.345,
          11553690271775.584,
          1.6529312266145457,
          1.345,
          1.345,
          1211360624714305,
          3.6478394374933742,
          1.345,
          1.345,
          53.6117413887299,
          1.345,
          30.997643100578458,
          1.576729034000349,
          1.345,
          1.345,
          1.389490134861747,
          7.242537466196164,
          1.345,
          null,
          1.345,
          5.314144255802548,
          69.1949560282774,
          1.345,
          1.3914490242463837,
          46.151091666686206,
          7.59260662522809,
          1250.4842285622606,
          4.3913160098185235,
          7.200614915214425,
          1.3654416532267222,
          60.5812402283112,
          1.363416374461701,
          986.358348398639,
          1.345,
          1.345,
          29014966037526412,
          1.345,
          1.345,
          7.051558032246248,
          2.3019866395178163,
          1.345,
          1.345,
          null,
          1.5301798734246277,
          19.763050231008414,
          4408225640476.153,
          1.464895892505863,
          1.345,
          1.345,
          12.66585298490417,
          2.218990747546009,
          1.345,
          1.4113758341266154,
          1.345,
          1.345,
          1.8917146989427853,
          3.8631814184560436,
          1.345,
          1.3919556102367001,
          1.345,
          731.407841203938,
          2.658974353332468,
          1.345,
          1.345,
          1.345,
          1.345,
          2.4742267746957585,
          1.345,
          461.5030317818924,
          1773512270602437,
          4.501664070221726,
          1.345,
          1.345,
          1.4182750377035656,
          3.442905066025285,
          274.80848542320115,
          99372.74062002511,
          1.4120920189973993,
          99302748.33822948,
          1.345,
          2.1216066762976435,
          1.345,
          2.503239140848833,
          1.345,
          1.345,
          99.55650068241295,
          5.478988573802123,
          17673366569156234,
          3.0040457220094092,
          175951621904064870000,
          1.345,
          5.725354331022885,
          1.345,
          1.405700452628412,
          1.345,
          7.543348398371556,
          1.345,
          16363.217960835944,
          1.345,
          71.64806065965156,
          10.439465196334082,
          1.345,
          125.4637720969462,
          7.6040670832942645,
          23.097385454807473,
          1.345,
          1.360325753495913,
          52.17557434759239,
          205.3941104247884,
          1.408730988390945,
          5.272309162343969,
          1.345,
          1.345,
          11.643024073679156,
          2.44643846015737,
          1.3871433601909589,
          1.345,
          1.345,
          1.345,
          2.44734536587237,
          3.065437376981018,
          1.345,
          1.345,
          1.345,
          1.345,
          11403990406707608,
          1.4933048508737128,
          11.491373135719487,
          8834.265155314913,
          1.345,
          1.345,
          66.45407635449212,
          94823560318866830,
          3.1265248328508735,
          712141789384414000000,
          147.90324490131195,
          6.457886573681726,
          1.345,
          43.39371272497449,
          2.96656069374577,
          1.345,
          1.345,
          1.345
         ],
         "zmax": 4,
         "zmin": 1.5
        },
        {
         "colorbar": {
          "len": 1,
          "tickvals": [
           1.5,
           1.75,
           2,
           2.25,
           2.5,
           2.75,
           3,
           3.25,
           3.5,
           3.75
          ],
          "title": {
           "font": {
            "size": 17
           },
           "text": "Temperature<br>rise<br>associated<br>with NDC"
          },
          "x": 1
         },
         "colorscale": [
          [
           0,
           "rgb(0,104,55)"
          ],
          [
           0.1,
           "rgb(26,152,80)"
          ],
          [
           0.2,
           "rgb(102,189,99)"
          ],
          [
           0.3,
           "rgb(166,217,106)"
          ],
          [
           0.4,
           "rgb(217,239,139)"
          ],
          [
           0.5,
           "rgb(255,255,191)"
          ],
          [
           0.6,
           "rgb(254,224,139)"
          ],
          [
           0.7,
           "rgb(253,174,97)"
          ],
          [
           0.8,
           "rgb(244,109,67)"
          ],
          [
           0.9,
           "rgb(215,48,39)"
          ],
          [
           1,
           "rgb(165,0,38)"
          ]
         ],
         "geo": "geo5",
         "hovertemplate": "%{text}",
         "locationmode": "ISO-3",
         "locations": [
          "AFG",
          "ALB",
          "DZA",
          "AND",
          "AGO",
          "ATG",
          "ARG",
          "ARM",
          "AUS",
          "AUT",
          "AZE",
          "BHR",
          "BGD",
          "BRB",
          "BLR",
          "BEL",
          "BLZ",
          "BEN",
          "BTN",
          "BOL",
          "BIH",
          "BWA",
          "BRA",
          "BRN",
          "BGR",
          "BFA",
          "BDI",
          "KHM",
          "CMR",
          "CAN",
          "CPV",
          "CAF",
          "TCD",
          "CHL",
          "CHN",
          "COL",
          "COM",
          "COG",
          "COK",
          "CRI",
          "CIV",
          "HRV",
          "CUB",
          "CYP",
          "CZE",
          "COD",
          "DNK",
          "DJI",
          "DMA",
          "DOM",
          "ECU",
          "EGY",
          "SLV",
          "GNQ",
          "ERI",
          "EST",
          "SWZ",
          "ETH",
          "FJI",
          "FIN",
          "FRA",
          "GAB",
          "GEO",
          "DEU",
          "GHA",
          "GRC",
          "GRD",
          "GTM",
          "GIN",
          "GNB",
          "GUY",
          "HTI",
          "VAT",
          "HND",
          "HUN",
          "ISL",
          "IND",
          "IDN",
          "IRN",
          "IRQ",
          "IRL",
          "ISR",
          "ITA",
          "JAM",
          "JPN",
          "JOR",
          "KAZ",
          "KEN",
          "KIR",
          "KWT",
          "KGZ",
          "LAO",
          "LVA",
          "LBN",
          "LSO",
          "LBR",
          "LBY",
          "LIE",
          "LTU",
          "LUX",
          "MKD",
          "MDG",
          "MWI",
          "MYS",
          "MDV",
          "MLI",
          "MLT",
          "MHL",
          "MRT",
          "MUS",
          "MEX",
          "FSM",
          "MDA",
          "MCO",
          "MNG",
          "MNE",
          "MAR",
          "MOZ",
          "MMR",
          "NAM",
          "NRU",
          "NPL",
          "NLD",
          "NZL",
          "NIC",
          "NER",
          "NGA",
          "NIU",
          "PRK",
          "NOR",
          "OMN",
          "PAK",
          "PLW",
          "PSE",
          "PAN",
          "PNG",
          "PRY",
          "PER",
          "PHL",
          "POL",
          "PRT",
          "QAT",
          "ROU",
          "RUS",
          "RWA",
          "KNA",
          "LCA",
          "VCT",
          "WSM",
          "SMR",
          "STP",
          "SAU",
          "SEN",
          "SRB",
          "SYC",
          "SLE",
          "SGP",
          "SVK",
          "SVN",
          "SLB",
          "SOM",
          "ZAF",
          "KOR",
          "SSD",
          "ESP",
          "LKA",
          "SDN",
          "SUR",
          "SWE",
          "CHE",
          "SYR",
          "TJK",
          "TZA",
          "THA",
          "BHS",
          "GMB",
          "TLS",
          "TGO",
          "TON",
          "TTO",
          "TUN",
          "TUR",
          "TKM",
          "TUV",
          "UGA",
          "UKR",
          "ARE",
          "GBR",
          "USA",
          "URY",
          "UZB",
          "VUT",
          "VEN",
          "VNM",
          "YEM",
          "ZMB",
          "ZWE"
         ],
         "marker": {
          "line": {
           "color": "black",
           "width": 0.3
          }
         },
         "name": "",
         "showscale": false,
         "text": [
          "AFG: 4.74 C",
          "ALB: 4.74 C",
          "DZA: 2.06 C",
          "AND: 1.91 C",
          "AGO: 2.35 C",
          "ATG: 3.51 C",
          "ARG: 1.94 C",
          "ARM: 5.77 C",
          "AUS: 1.66 C",
          "AUT: 1.41 C",
          "AZE: 2.59 C",
          "BHR: 2.71 C",
          "BGD: 5.19 C",
          "BRB: 1.79 C",
          "BLR: 2.11 C",
          "BEL: 1.49 C",
          "BLZ: 4.38 C",
          "BEN: 5.76 C",
          "BTN: 3.06 C",
          "BOL: 3.0 C",
          "BIH: 1.88 C",
          "BWA: 4.25 C",
          "BRA: 1.57 C",
          "BRN: 11.87 C",
          "BGR: 1.44 C",
          "BFA: 17.84 C",
          "BDI: 2.38 C",
          "KHM: 7.42 C",
          "CMR: 22.93 C",
          "CAN: 1.54 C",
          "CPV: 1.61 C",
          "CAF: 1.49 C",
          "TCD: 1.69 C",
          "CHL: 1.83 C",
          "CHN: 2.9 C",
          "COL: 1.54 C",
          "COM: 1.5 C",
          "COG: 1.34 C",
          "COK: nan C",
          "CRI: 1.67 C",
          "CIV: 3.54 C",
          "HRV: 2.36 C",
          "CUB: 3.61 C",
          "CYP: 1.42 C",
          "CZE: 1.67 C",
          "COD: 85.69 C",
          "DNK: 2.04 C",
          "DJI: 6.35 C",
          "DMA: 2.15 C",
          "DOM: 3.12 C",
          "ECU: 2.26 C",
          "EGY: 11.68 C",
          "SLV: 3.62 C",
          "GNQ: 6.5 C",
          "ERI: 4.98 C",
          "EST: 1.36 C",
          "SWZ: 44.76 C",
          "ETH: 3.1 C",
          "FJI: 1.77 C",
          "FIN: 1.87 C",
          "FRA: 1.8 C",
          "GAB: 1.34 C",
          "GEO: 2.05 C",
          "DEU: 1.54 C",
          "GHA: 2.29 C",
          "GRC: 1.85 C",
          "GRD: 8.4 C",
          "GTM: 8.61 C",
          "GIN: 4.94 C",
          "GNB: 41.03 C",
          "GUY: 5.15 C",
          "HTI: 2.83 C",
          "VAT: nan C",
          "HND: 2.9 C",
          "HUN: 1.85 C",
          "ISL: 1.36 C",
          "IND: 2.68 C",
          "IDN: 1.99 C",
          "IRN: 2.77 C",
          "IRQ: 6.25 C",
          "IRL: 2.0 C",
          "ISR: 1.84 C",
          "ITA: 1.88 C",
          "JAM: 1.71 C",
          "JPN: 1.79 C",
          "JOR: 5.6 C",
          "KAZ: 2.19 C",
          "KEN: 4.77 C",
          "KIR: 1.93 C",
          "KWT: 3.28 C",
          "KGZ: 2.65 C",
          "LAO: 1.72 C",
          "LVA: 2.09 C",
          "LBN: 3.76 C",
          "LSO: 2.52 C",
          "LBR: 16.03 C",
          "LBY: nan C",
          "LIE: nan C",
          "LTU: 1.55 C",
          "LUX: 2.45 C",
          "MKD: 1.47 C",
          "MDG: 1.81 C",
          "MWI: 4.31 C",
          "MYS: 2.72 C",
          "MDV: 5.21 C",
          "MLI: 9.3 C",
          "MLT: 1.56 C",
          "MHL: 1.34 C",
          "MRT: 2.35 C",
          "MUS: 4.36 C",
          "MEX: 3.61 C",
          "FSM: 1.52 C",
          "MDA: 3.88 C",
          "MCO: 2.75 C",
          "MNG: 1.51 C",
          "MNE: 1.91 C",
          "MAR: 2.11 C",
          "MOZ: 7.09 C",
          "MMR: 1.95 C",
          "NAM: 1.41 C",
          "NRU: 2.88 C",
          "NPL: 2.96 C",
          "NLD: 1.56 C",
          "NZL: 1.59 C",
          "NIC: 57.04 C",
          "NER: 5.48 C",
          "NGA: 1.73 C",
          "NIU: nan C",
          "PRK: 39.33 C",
          "NOR: 1.34 C",
          "OMN: 3.93 C",
          "PAK: 13.64 C",
          "PLW: 1.43 C",
          "PSE: nan C",
          "PAN: 10.18 C",
          "PNG: 3.26 C",
          "PRY: 2.46 C",
          "PER: 2.84 C",
          "PHL: 4.96 C",
          "POL: 1.47 C",
          "PRT: 1.53 C",
          "QAT: 2.32 C",
          "ROU: 2.05 C",
          "RUS: 2.35 C",
          "RWA: 3.5 C",
          "KNA: 3.93 C",
          "LCA: 2.82 C",
          "VCT: 3.66 C",
          "WSM: 4.36 C",
          "SMR: 4.37 C",
          "STP: 8.57 C",
          "SAU: 1.76 C",
          "SEN: 3.62 C",
          "SRB: 2.38 C",
          "SYC: 8.85 C",
          "SLE: 7.55 C",
          "SGP: 4.21 C",
          "SVK: 1.52 C",
          "SVN: 2.21 C",
          "SLB: 2.36 C",
          "SOM: 32.19 C",
          "ZAF: 5.04 C",
          "KOR: 1.57 C",
          "SSD: 1.63 C",
          "ESP: 2.0 C",
          "LKA: 3.81 C",
          "SDN: 3.85 C",
          "SUR: 6.29 C",
          "SWE: 2.07 C",
          "CHE: 1.62 C",
          "SYR: 5.64 C",
          "TJK: 4.22 C",
          "TZA: 4.15 C",
          "THA: 2.16 C",
          "BHS: 2.5 C",
          "GMB: 8.81 C",
          "TLS: 1.34 C",
          "TGO: 3.89 C",
          "TON: 1.8 C",
          "TTO: 13.24 C",
          "TUN: 5.29 C",
          "TUR: 8.82 C",
          "TKM: 2.19 C",
          "TUV: 1.47 C",
          "UGA: 5.25 C",
          "UKR: 2.53 C",
          "ARE: 3.21 C",
          "GBR: 1.51 C",
          "USA: 2.11 C",
          "URY: 2.49 C",
          "UZB: 7.26 C",
          "VUT: 2.02 C",
          "VEN: 25.54 C",
          "VNM: 10.54 C",
          "YEM: 2.96 C",
          "ZMB: 5.58 C",
          "ZWE: 4.22 C"
         ],
         "type": "choropleth",
         "z": [
          4.74482508655306,
          4.736572143896977,
          2.0565596046851584,
          1.9126286642272665,
          2.3465590126946694,
          3.508565347982363,
          1.944664196326801,
          5.766120201548805,
          1.6642993707509186,
          1.4141087894620108,
          2.5889658312699217,
          2.708099111809928,
          5.194508561394667,
          1.7898699669567897,
          2.1101055849228625,
          1.492103030108588,
          4.376318261989926,
          5.75797127344549,
          3.0612452623524584,
          3.0035320043697515,
          1.8812895509611867,
          4.251430997177959,
          1.5657326081660605,
          11.866438068532556,
          1.4411033530452177,
          17.835202059961844,
          2.3787559349341274,
          7.421321909842177,
          22.932401608378022,
          1.5378516290070476,
          1.6053508445294773,
          1.493072011230591,
          1.6912126348156047,
          1.8251520355265414,
          2.9025797862587894,
          1.5368642994371933,
          1.4975847477567017,
          1.345,
          null,
          1.6652129240370501,
          3.5361984331748704,
          2.3558815496171177,
          3.6114223941639767,
          1.4155499091238362,
          1.673954661269278,
          85.6859826981141,
          2.039069628662723,
          6.347910153701727,
          2.1452603378768114,
          3.1201461598087024,
          2.2563431087909107,
          11.684544427918489,
          3.6215706836733483,
          6.50393083472776,
          4.978267064551041,
          1.364766199109554,
          44.75525935372988,
          3.097668121818061,
          1.7670462072866915,
          1.8678688422636869,
          1.7998576824936192,
          1.345,
          2.0540321402205906,
          1.5449892325608232,
          2.2872877612117377,
          1.8496015767116853,
          8.398937380669649,
          8.608192341260349,
          4.943247919573301,
          41.02684439171291,
          5.154270911016669,
          2.8263654025219633,
          null,
          2.9013633563403314,
          1.8525831333171263,
          1.3602146579608634,
          2.6798100786876304,
          1.99267031293435,
          2.771487509757668,
          6.24625813238386,
          1.9997106555398463,
          1.8374482722088823,
          1.8817396299745555,
          1.7097309315717608,
          1.7875198134817292,
          5.6007419417939355,
          2.1915513320477973,
          4.767761204120933,
          1.9309949168802314,
          3.2803926356664803,
          2.6502376047364162,
          1.7241759024289816,
          2.094807322995276,
          3.7632733700045957,
          2.5238665224755614,
          16.025317343791848,
          null,
          null,
          1.5509246984495224,
          2.4469959275564745,
          1.4687969302535326,
          1.8117029302357848,
          4.309118924993903,
          2.7229375027861344,
          5.207726532206557,
          9.301618453394656,
          1.5620034088842607,
          1.345,
          2.349061878636106,
          4.363787805444012,
          3.605193692190589,
          1.521602030973868,
          3.8805482101335884,
          2.747147195915911,
          1.5081726005184943,
          1.9059706664312062,
          2.113992010601191,
          7.085132089677469,
          1.9470282219958972,
          1.4120446730059384,
          2.8845374762760496,
          2.961392235015553,
          1.556504263872763,
          1.5862433522062633,
          57.035558438799626,
          5.482122883395736,
          1.7269037627379507,
          null,
          39.32661629611548,
          1.345,
          3.9335819270486505,
          13.636951946339323,
          1.4314756317615238,
          null,
          10.176523497919929,
          3.264257250974465,
          2.4596371367077774,
          2.836866185027427,
          4.9561793656091675,
          1.4655046615963865,
          1.5331175577828127,
          2.3242220628762196,
          2.0546691496878853,
          2.3479329419275397,
          3.5023293330132734,
          3.9281167971279163,
          2.81631918546616,
          3.656953404927254,
          4.359358312778071,
          4.369963893891551,
          8.569075259757202,
          1.762330769718662,
          3.622645459861407,
          2.3847417902223587,
          8.85091207839621,
          7.547777101993161,
          4.209998515738915,
          1.518229817605879,
          2.2140079348302395,
          2.3577987184275546,
          32.18958908780469,
          5.036097034107229,
          1.5659678813803324,
          1.6259024421768584,
          1.9973056919359657,
          3.8058679938650704,
          3.850798279554986,
          6.287908624756177,
          2.0664053980242145,
          1.6174532195677551,
          5.637755384097571,
          4.216114935735538,
          4.149815278491908,
          2.163709246175112,
          2.4994943019231295,
          8.810643208956504,
          1.345,
          3.8881957977115,
          1.7980570509522176,
          13.239290515884818,
          5.28567535150022,
          8.819326744996783,
          2.1920583646614853,
          1.4722423132622022,
          5.2460727796706,
          2.5252625984979105,
          3.2094927954747416,
          1.5146774692055878,
          2.106454879390588,
          2.486116542261104,
          7.256317411678399,
          2.0177942189849825,
          25.53859998759882,
          10.542420114651106,
          2.9623979159214393,
          5.579708686503578,
          4.215442095567624
         ],
         "zmax": 4,
         "zmin": 1.5
        },
        {
         "colorbar": {
          "len": 1,
          "tickvals": [
           1.5,
           1.75,
           2,
           2.25,
           2.5,
           2.75,
           3,
           3.25,
           3.5,
           3.75
          ],
          "title": {
           "font": {
            "size": 17
           },
           "text": "Temperature<br>rise<br>associated<br>with NDC"
          },
          "x": 1
         },
         "colorscale": [
          [
           0,
           "rgb(0,104,55)"
          ],
          [
           0.1,
           "rgb(26,152,80)"
          ],
          [
           0.2,
           "rgb(102,189,99)"
          ],
          [
           0.3,
           "rgb(166,217,106)"
          ],
          [
           0.4,
           "rgb(217,239,139)"
          ],
          [
           0.5,
           "rgb(255,255,191)"
          ],
          [
           0.6,
           "rgb(254,224,139)"
          ],
          [
           0.7,
           "rgb(253,174,97)"
          ],
          [
           0.8,
           "rgb(244,109,67)"
          ],
          [
           0.9,
           "rgb(215,48,39)"
          ],
          [
           1,
           "rgb(165,0,38)"
          ]
         ],
         "geo": "geo6",
         "hovertemplate": "%{text}",
         "locationmode": "ISO-3",
         "locations": [
          "AFG",
          "ALB",
          "DZA",
          "AND",
          "AGO",
          "ATG",
          "ARG",
          "ARM",
          "AUS",
          "AUT",
          "AZE",
          "BHR",
          "BGD",
          "BRB",
          "BLR",
          "BEL",
          "BLZ",
          "BEN",
          "BTN",
          "BOL",
          "BIH",
          "BWA",
          "BRA",
          "BRN",
          "BGR",
          "BFA",
          "BDI",
          "KHM",
          "CMR",
          "CAN",
          "CPV",
          "CAF",
          "TCD",
          "CHL",
          "CHN",
          "COL",
          "COM",
          "COG",
          "COK",
          "CRI",
          "CIV",
          "HRV",
          "CUB",
          "CYP",
          "CZE",
          "COD",
          "DNK",
          "DJI",
          "DMA",
          "DOM",
          "ECU",
          "EGY",
          "SLV",
          "GNQ",
          "ERI",
          "EST",
          "SWZ",
          "ETH",
          "FJI",
          "FIN",
          "FRA",
          "GAB",
          "GEO",
          "DEU",
          "GHA",
          "GRC",
          "GRD",
          "GTM",
          "GIN",
          "GNB",
          "GUY",
          "HTI",
          "VAT",
          "HND",
          "HUN",
          "ISL",
          "IND",
          "IDN",
          "IRN",
          "IRQ",
          "IRL",
          "ISR",
          "ITA",
          "JAM",
          "JPN",
          "JOR",
          "KAZ",
          "KEN",
          "KIR",
          "KWT",
          "KGZ",
          "LAO",
          "LVA",
          "LBN",
          "LSO",
          "LBR",
          "LBY",
          "LIE",
          "LTU",
          "LUX",
          "MKD",
          "MDG",
          "MWI",
          "MYS",
          "MDV",
          "MLI",
          "MLT",
          "MHL",
          "MRT",
          "MUS",
          "MEX",
          "FSM",
          "MDA",
          "MCO",
          "MNG",
          "MNE",
          "MAR",
          "MOZ",
          "MMR",
          "NAM",
          "NRU",
          "NPL",
          "NLD",
          "NZL",
          "NIC",
          "NER",
          "NGA",
          "NIU",
          "PRK",
          "NOR",
          "OMN",
          "PAK",
          "PLW",
          "PSE",
          "PAN",
          "PNG",
          "PRY",
          "PER",
          "PHL",
          "POL",
          "PRT",
          "QAT",
          "ROU",
          "RUS",
          "RWA",
          "KNA",
          "LCA",
          "VCT",
          "WSM",
          "SMR",
          "STP",
          "SAU",
          "SEN",
          "SRB",
          "SYC",
          "SLE",
          "SGP",
          "SVK",
          "SVN",
          "SLB",
          "SOM",
          "ZAF",
          "KOR",
          "SSD",
          "ESP",
          "LKA",
          "SDN",
          "SUR",
          "SWE",
          "CHE",
          "SYR",
          "TJK",
          "TZA",
          "THA",
          "BHS",
          "GMB",
          "TLS",
          "TGO",
          "TON",
          "TTO",
          "TUN",
          "TUR",
          "TKM",
          "TUV",
          "UGA",
          "UKR",
          "ARE",
          "GBR",
          "USA",
          "URY",
          "UZB",
          "VUT",
          "VEN",
          "VNM",
          "YEM",
          "ZMB",
          "ZWE"
         ],
         "marker": {
          "line": {
           "color": "black",
           "width": 0.3
          }
         },
         "name": "",
         "showscale": false,
         "text": [
          "AFG: 3.97 C",
          "ALB: 4.05 C",
          "DZA: 1.69 C",
          "AND: 8.28 C",
          "AGO: 1.97 C",
          "ATG: 4.11 C",
          "ARG: 1.85 C",
          "ARM: 4.02 C",
          "AUS: 2.35 C",
          "AUT: 2.18 C",
          "AZE: 2.14 C",
          "BHR: 2.17 C",
          "BGD: 3.56 C",
          "BRB: 23.43 C",
          "BLR: 1.71 C",
          "BEL: 3.95 C",
          "BLZ: 3.4 C",
          "BEN: 4.17 C",
          "BTN: 2.17 C",
          "BOL: 2.33 C",
          "BIH: 1.74 C",
          "BWA: 4.14 C",
          "BRA: 1.55 C",
          "BRN: 7.62 C",
          "BGR: 1.4 C",
          "BFA: 13.17 C",
          "BDI: 2.08 C",
          "KHM: 5.01 C",
          "CMR: 16.51 C",
          "CAN: 2.04 C",
          "CPV: 1.46 C",
          "CAF: 1.44 C",
          "TCD: 1.54 C",
          "CHL: 1.96 C",
          "CHN: 2.19 C",
          "COL: 1.52 C",
          "COM: 1.41 C",
          "COG: 1.34 C",
          "COK: nan C",
          "CRI: 1.85 C",
          "CIV: 2.7 C",
          "HRV: 3.28 C",
          "CUB: 3.75 C",
          "CYP: 1.62 C",
          "CZE: 2.49 C",
          "COD: 67.13 C",
          "DNK: 437965146084815.1 C",
          "DJI: 4.81 C",
          "DMA: 2.04 C",
          "DOM: 3.03 C",
          "ECU: 2.06 C",
          "EGY: 7.24 C",
          "SLV: 3.23 C",
          "GNQ: 5.65 C",
          "ERI: 3.77 C",
          "EST: 1.38 C",
          "SWZ: 44.98 C",
          "ETH: 2.48 C",
          "FJI: 1.56 C",
          "FIN: 5.05 C",
          "FRA: 144.62 C",
          "GAB: 1.34 C",
          "GEO: 1.95 C",
          "DEU: 23.88 C",
          "GHA: 1.88 C",
          "GRC: 2.81 C",
          "GRD: 8.43 C",
          "GTM: 6.39 C",
          "GIN: 3.7 C",
          "GNB: 30.1 C",
          "GUY: 6.23 C",
          "HTI: 2.35 C",
          "VAT: nan C",
          "HND: 2.44 C",
          "HUN: 2.22 C",
          "ISL: 1.7 C",
          "IND: 2.0 C",
          "IDN: 1.6 C",
          "IRN: 2.14 C",
          "IRQ: 3.93 C",
          "IRL: 1908.6 C",
          "ISR: 3.75 C",
          "ITA: 10.52 C",
          "JAM: 1.75 C",
          "JPN: 14.7 C",
          "JOR: 3.78 C",
          "KAZ: 1.78 C",
          "KEN: 3.82 C",
          "KIR: 1.72 C",
          "KWT: 2.61 C",
          "KGZ: 2.08 C",
          "LAO: 1.48 C",
          "LVA: 2.24 C",
          "LBN: 3.03 C",
          "LSO: 2.15 C",
          "LBR: 12.47 C",
          "LBY: nan C",
          "LIE: nan C",
          "LTU: 1.63 C",
          "LUX: 4408225640476.15 C",
          "MKD: 1.44 C",
          "MDG: 1.62 C",
          "MWI: 3.44 C",
          "MYS: 2.2 C",
          "MDV: 4.06 C",
          "MLI: 6.85 C",
          "MLT: 13.21 C",
          "MHL: 1.34 C",
          "MRT: 1.93 C",
          "MUS: 4.61 C",
          "MEX: 3.74 C",
          "FSM: 1.43 C",
          "MDA: 2.84 C",
          "MCO: 7141905.6 C",
          "MNG: 1.37 C",
          "MNE: 1.79 C",
          "MAR: 1.72 C",
          "MOZ: 5.41 C",
          "MMR: 1.65 C",
          "NAM: 1.44 C",
          "NRU: 2.98 C",
          "NPL: 2.29 C",
          "NLD: 8.68 C",
          "NZL: 1.93 C",
          "NIC: 43.31 C",
          "NER: 4.26 C",
          "NGA: 1.55 C",
          "NIU: nan C",
          "PRK: 40.18 C",
          "NOR: 2.43 C",
          "OMN: 2.52 C",
          "PAK: 8.77 C",
          "PLW: 1.41 C",
          "PSE: nan C",
          "PAN: 14.25 C",
          "PNG: 2.79 C",
          "PRY: 2.1 C",
          "PER: 2.73 C",
          "PHL: 3.79 C",
          "POL: 1.45 C",
          "PRT: 1.69 C",
          "QAT: 1.55 C",
          "ROU: 2.16 C",
          "RUS: 2.05 C",
          "RWA: 2.77 C",
          "KNA: 4.3 C",
          "LCA: 3.3 C",
          "VCT: 3.44 C",
          "WSM: 3.31 C",
          "SMR: 109430172.47 C",
          "STP: 5.68 C",
          "SAU: 1.5 C",
          "SEN: 2.81 C",
          "SRB: 1.96 C",
          "SYC: 10.58 C",
          "SLE: 5.79 C",
          "SGP: 35.98 C",
          "SVK: 1.73 C",
          "SVN: 4.9 C",
          "SLB: 1.95 C",
          "SOM: 27.42 C",
          "ZAF: 4.77 C",
          "KOR: 1.57 C",
          "SSD: 1.5 C",
          "ESP: 7.54 C",
          "LKA: 3.05 C",
          "SDN: 2.86 C",
          "SUR: 4.34 C",
          "SWE: 1286690872763081.8 C",
          "CHE: 194273546950868.38 C",
          "SYR: 4.12 C",
          "TJK: 3.05 C",
          "TZA: 3.12 C",
          "THA: 1.79 C",
          "BHS: 15.39 C",
          "GMB: 6.9 C",
          "TLS: 1.34 C",
          "TGO: 3.04 C",
          "TON: 1.58 C",
          "TTO: 10.72 C",
          "TUN: 3.77 C",
          "TUR: 9.43 C",
          "TKM: 1.66 C",
          "TUV: 1.46 C",
          "UGA: 4.09 C",
          "UKR: 2.28 C",
          "ARE: 2.51 C",
          "GBR: 1.6921562476509114e+17 C",
          "USA: 11.55 C",
          "URY: 2.25 C",
          "UZB: 4.66 C",
          "VUT: 1.79 C",
          "VEN: 24.97 C",
          "VNM: 6.51 C",
          "YEM: 2.36 C",
          "ZMB: 4.37 C",
          "ZWE: 5.1 C"
         ],
         "type": "choropleth",
         "z": [
          3.974671382242468,
          4.046320264877384,
          1.6932730879226767,
          8.280291145625462,
          1.966169633847992,
          4.108278032892881,
          1.8505477935233703,
          4.024581307852916,
          2.3526173737018983,
          2.1754253575433173,
          2.1356483927717833,
          2.174718098217224,
          3.5574262277458955,
          23.43476752374698,
          1.7061343982059207,
          3.9492217396518132,
          3.402485778311249,
          4.1681156446402134,
          2.171851074186795,
          2.325043524044791,
          1.743846996902446,
          4.1385833069353595,
          1.5472776029008974,
          7.623044020613966,
          1.3961071034719095,
          13.174461543228654,
          2.082875004296945,
          5.007060635598394,
          16.509221347629097,
          2.0430003233842107,
          1.4567312409699784,
          1.4426470696983353,
          1.5381573499135373,
          1.961723667472881,
          2.185222240539781,
          1.5228667453021179,
          1.409618011852697,
          1.345,
          null,
          1.850814747436079,
          2.703464662415286,
          3.2785150196807056,
          3.7490969518752455,
          1.6205793251980412,
          2.492585576252452,
          67.1297134559045,
          437965146084815.1,
          4.808432167728656,
          2.041675680445013,
          3.028209503272782,
          2.0568529959532302,
          7.243687649359465,
          3.226473362305592,
          5.648632565391102,
          3.771393528311094,
          1.3803794779059575,
          44.98154820040482,
          2.4762595876206377,
          1.5580700850004692,
          5.053844408749238,
          144.6159672763938,
          1.345,
          1.9458575641933051,
          23.87778976012563,
          1.8785170087125742,
          2.811896608347264,
          8.42673444152694,
          6.39370101372847,
          3.702716407628853,
          30.096984103556906,
          6.231706802966312,
          2.351430958152351,
          null,
          2.4359443623925006,
          2.218906214143655,
          1.695742417558487,
          2.0018717208616477,
          1.595497983962504,
          2.1433997486565706,
          3.9264943514017165,
          1908.6005520120857,
          3.7541566099007926,
          10.521138180207178,
          1.7541552900788286,
          14.698419071400807,
          3.783255491842254,
          1.7782052283898815,
          3.8221262240577936,
          1.723415209402328,
          2.6075148238830153,
          2.0811281557502634,
          1.4836052154640202,
          2.235153927327176,
          3.029456671471929,
          2.1483593442145477,
          12.473522913735867,
          null,
          null,
          1.6328875274262502,
          4408225640476.153,
          1.4371386492706952,
          1.6219091514659705,
          3.435262158112918,
          2.199438958220322,
          4.059779377714887,
          6.847191526532066,
          13.206025282238503,
          1.345,
          1.9328164083110229,
          4.609023875524892,
          3.7386553569712517,
          1.427753165713074,
          2.837205935505473,
          7141905.595743484,
          1.3703810895289272,
          1.7946828181567511,
          1.7224341555529032,
          5.414078582857343,
          1.6486899089337315,
          1.4392184148706448,
          2.9800877363242684,
          2.294074985122949,
          8.680873883386738,
          1.932123564183137,
          43.30610134328619,
          4.259272515998292,
          1.5518941779201894,
          null,
          40.1825076241486,
          2.427263255186813,
          2.523763270010182,
          8.766806271159918,
          1.4103873570858854,
          null,
          14.246164627827525,
          2.7935590886763126,
          2.1027587782940973,
          2.7338307945014546,
          3.794454514352986,
          1.4471987018730512,
          1.6854985613843312,
          1.548516822969684,
          2.1627867686251734,
          2.0461700127239992,
          2.767487791481881,
          4.295495999215749,
          3.3027243198243,
          3.436229611497178,
          3.307323686560461,
          109430172.468355,
          5.679792820256658,
          1.5034643546884476,
          2.814219716812609,
          1.959448738876898,
          10.577678241504444,
          5.7937032407718165,
          35.9826319799248,
          1.7264010022037395,
          4.901819635154731,
          1.9519608563643667,
          27.417803956144848,
          4.768520976348569,
          1.5688301849839894,
          1.4990145384878373,
          7.541603869338019,
          3.052494210875749,
          2.856686769120296,
          4.337265118947746,
          1286690872763081.8,
          194273546950868.38,
          4.118988444534812,
          3.0510418523319327,
          3.117151931424882,
          1.785786521396086,
          15.387701098961386,
          6.902737875837129,
          1.345,
          3.041924186042331,
          1.5817594356630886,
          10.721673847200439,
          3.769760702235498,
          9.428306115738609,
          1.663588270769527,
          1.4611056297575238,
          4.093216821547767,
          2.2766419578375725,
          2.5145204278002407,
          169215624765091140,
          11.554296083516725,
          2.2456668192966793,
          4.659399560824024,
          1.7949654336396401,
          24.96870842793576,
          6.51432658365754,
          2.358382719144558,
          4.367036395001923,
          5.095417805640977
         ],
         "zmax": 4,
         "zmin": 1.5
        },
        {
         "line": {
          "color": "silver",
          "width": 0.7
         },
         "mode": "lines",
         "name": "",
         "showlegend": false,
         "type": "scatter",
         "x": [
          "COD",
          "NIC",
          "GNB",
          "PRK",
          "SOM",
          "SWZ",
          "BFA",
          "CMR",
          "LBR",
          "VEN",
          "PAK",
          "MLI",
          "GMB",
          "SLE",
          "STP",
          "EGY",
          "VNM",
          "GTM",
          "MOZ",
          "NER",
          "KHM",
          "SYC",
          "GRD",
          "BEN",
          "PAN",
          "TUR",
          "UGA",
          "DJI",
          "GIN",
          "UZB",
          "MWI",
          "BGD",
          "SUR",
          "ERI",
          "ZMB",
          "BWA",
          "KEN",
          "GHA",
          "ARM",
          "TGO",
          "SYR",
          "WSM",
          "TTO",
          "TZA",
          "IRQ",
          "AFG",
          "JOR",
          "PNG",
          "MDV",
          "ZWE",
          "PHL",
          "SEN",
          "BLZ",
          "BRN",
          "GUY",
          "RWA",
          "TJK",
          "SDN",
          "ETH",
          "GNQ",
          "CIV",
          "MDA",
          "SLV",
          "YEM",
          "MUS",
          "CUB",
          "BOL",
          "NPL",
          "VCT",
          "LKA",
          "HTI",
          "LBN",
          "HND",
          "KGZ",
          "KNA",
          "OMN",
          "IND",
          "ALB",
          "BTN",
          "IRN",
          "LSO",
          "BDI",
          "ATG",
          "NRU",
          "TUN",
          "SLB",
          "DOM",
          "ZAF",
          "MRT",
          "LCA",
          "CHN",
          "PER",
          "MEX",
          "SMR",
          "PRY",
          "ECU",
          "COK",
          "IDN",
          "SSD",
          "KIR",
          "AZE",
          "UKR",
          "SGP",
          "TCD",
          "VUT",
          "AGO",
          "MAR",
          "URY",
          "MMR",
          "DMA",
          "MDG",
          "RUS",
          "TKM",
          "KWT",
          "MYS",
          "HRV",
          "ARG",
          "ROU",
          "THA",
          "DZA",
          "TON",
          "LVA",
          "ARE",
          "BLR",
          "LAO",
          "KAZ",
          "NGA",
          "CPV",
          "FJI",
          "SRB",
          "CAF",
          "JAM",
          "BHR",
          "GEO",
          "BRB",
          "SVN",
          "NAM",
          "NIU",
          "MNE",
          "FSM",
          "HUN",
          "CHL",
          "ESP",
          "ITA",
          "COM",
          "DNK",
          "SWE",
          "CRI",
          "BIH",
          "LIE",
          "ISR",
          "AND",
          "BHS",
          "LUX",
          "TUV",
          "FIN",
          "FRA",
          "IRL",
          "GRC",
          "COL",
          "MNG",
          "CZE",
          "LTU",
          "SVK",
          "USA",
          "NZL",
          "PLW",
          "PRT",
          "POL",
          "AUS",
          "QAT",
          "KOR",
          "MKD",
          "CHE",
          "BGR",
          "DEU",
          "NLD",
          "BEL",
          "GBR",
          "BRA",
          "MCO",
          "CYP",
          "JPN",
          "MLT",
          "AUT",
          "CAN",
          "EST",
          "SAU",
          "ISL",
          "MHL",
          "COG",
          "NOR",
          "GAB",
          "TLS",
          "PSE",
          "VAT",
          "LBY"
         ],
         "xaxis": "x",
         "y": [
          0,
          0,
          0,
          0,
          0,
          0,
          0,
          0,
          0,
          0,
          0,
          0,
          0,
          0,
          0,
          0,
          0,
          0,
          0,
          0,
          0,
          0,
          0,
          0,
          0,
          0,
          0,
          0,
          0,
          0,
          0,
          0,
          0,
          0,
          0,
          0,
          0,
          0,
          0,
          0,
          0,
          0,
          0,
          0,
          0,
          0,
          0,
          0,
          0,
          0,
          0,
          0,
          0,
          0,
          0,
          0,
          0,
          0,
          0,
          0,
          0,
          0,
          0,
          0,
          0,
          0,
          0,
          0,
          0,
          0,
          0,
          0,
          0,
          0,
          0,
          0,
          0,
          0,
          0,
          0,
          0,
          0,
          0,
          0,
          0,
          0,
          0,
          0,
          0,
          0,
          0,
          0,
          0,
          0,
          0,
          0,
          0,
          0,
          0,
          0,
          0,
          0,
          0,
          0,
          0,
          0,
          0,
          0,
          0,
          0,
          0,
          0,
          0,
          0,
          0,
          0,
          0,
          0,
          0,
          0,
          0,
          0,
          0,
          0,
          0,
          0,
          0,
          0,
          0,
          0,
          0,
          0,
          0,
          0,
          0,
          0,
          0,
          0,
          0,
          0,
          0,
          0,
          0,
          0,
          0,
          0,
          0,
          0,
          0,
          0,
          0,
          0,
          0,
          0,
          0,
          0,
          0,
          0,
          0,
          0,
          0,
          0,
          0,
          0,
          0,
          0,
          0,
          0,
          0,
          0,
          0,
          0,
          0,
          0,
          0,
          0,
          0,
          0,
          0,
          0,
          0,
          0,
          0,
          0,
          0,
          0,
          0,
          0,
          0,
          0,
          0,
          0,
          0,
          0,
          0,
          0,
          0
         ],
         "yaxis": "y"
        },
        {
         "line": {
          "color": "tomato",
          "width": 0.7
         },
         "mode": "lines",
         "showlegend": false,
         "type": "scatter",
         "x": [
          "COD",
          "COD"
         ],
         "xaxis": "x",
         "y": [
          0,
          -3.968446204788124
         ],
         "yaxis": "y"
        },
        {
         "line": {
          "color": "forestgreen",
          "width": 0.7
         },
         "mode": "lines",
         "showlegend": false,
         "type": "scatter",
         "x": [
          "NIC",
          "NIC"
         ],
         "xaxis": "x",
         "y": [
          0,
          -2.963608402231083
         ],
         "yaxis": "y"
        },
        {
         "line": {
          "color": "tomato",
          "width": 0.7
         },
         "mode": "lines",
         "showlegend": false,
         "type": "scatter",
         "x": [
          "GNB",
          "GNB"
         ],
         "xaxis": "x",
         "y": [
          0,
          -2.778402127425288
         ],
         "yaxis": "y"
        },
        {
         "line": {
          "color": "goldenrod",
          "width": 0.7
         },
         "mode": "lines",
         "showlegend": false,
         "type": "scatter",
         "x": [
          "PRK",
          "PRK"
         ],
         "xaxis": "x",
         "y": [
          0,
          -2.6962715321067767
         ],
         "yaxis": "y"
        },
        {
         "line": {
          "color": "tomato",
          "width": 0.7
         },
         "mode": "lines",
         "showlegend": false,
         "type": "scatter",
         "x": [
          "SOM",
          "SOM"
         ],
         "xaxis": "x",
         "y": [
          0,
          -2.560659296097582
         ],
         "yaxis": "y"
        },
        {
         "line": {
          "color": "tomato",
          "width": 0.7
         },
         "mode": "lines",
         "showlegend": false,
         "type": "scatter",
         "x": [
          "SWZ",
          "SWZ"
         ],
         "xaxis": "x",
         "y": [
          0,
          -2.2483762578547375
         ],
         "yaxis": "y"
        },
        {
         "line": {
          "color": "tomato",
          "width": 0.7
         },
         "mode": "lines",
         "showlegend": false,
         "type": "scatter",
         "x": [
          "BFA",
          "BFA"
         ],
         "xaxis": "x",
         "y": [
          0,
          -1.8356064284659674
         ],
         "yaxis": "y"
        },
        {
         "line": {
          "color": "tomato",
          "width": 0.7
         },
         "mode": "lines",
         "showlegend": false,
         "type": "scatter",
         "x": [
          "CMR",
          "CMR"
         ],
         "xaxis": "x",
         "y": [
          0,
          -1.7670430100950265
         ],
         "yaxis": "y"
        },
        {
         "line": {
          "color": "tomato",
          "width": 0.7
         },
         "mode": "lines",
         "showlegend": false,
         "type": "scatter",
         "x": [
          "LBR",
          "LBR"
         ],
         "xaxis": "x",
         "y": [
          0,
          -1.7571252676347955
         ],
         "yaxis": "y"
        },
        {
         "line": {
          "color": "forestgreen",
          "width": 0.7
         },
         "mode": "lines",
         "showlegend": false,
         "type": "scatter",
         "x": [
          "VEN",
          "VEN"
         ],
         "xaxis": "x",
         "y": [
          0,
          -1.558105312841604
         ],
         "yaxis": "y"
        },
        {
         "line": {
          "color": "goldenrod",
          "width": 0.7
         },
         "mode": "lines",
         "showlegend": false,
         "type": "scatter",
         "x": [
          "PAK",
          "PAK"
         ],
         "xaxis": "x",
         "y": [
          0,
          -1.5181020813173536
         ],
         "yaxis": "y"
        },
        {
         "line": {
          "color": "tomato",
          "width": 0.7
         },
         "mode": "lines",
         "showlegend": false,
         "type": "scatter",
         "x": [
          "MLI",
          "MLI"
         ],
         "xaxis": "x",
         "y": [
          0,
          -1.3185268895910236
         ],
         "yaxis": "y"
        },
        {
         "line": {
          "color": "tomato",
          "width": 0.7
         },
         "mode": "lines",
         "showlegend": false,
         "type": "scatter",
         "x": [
          "GMB",
          "GMB"
         ],
         "xaxis": "x",
         "y": [
          0,
          -1.1584214839081013
         ],
         "yaxis": "y"
        },
        {
         "line": {
          "color": "tomato",
          "width": 0.7
         },
         "mode": "lines",
         "showlegend": false,
         "type": "scatter",
         "x": [
          "SLE",
          "SLE"
         ],
         "xaxis": "x",
         "y": [
          0,
          -1.0495238191052363
         ],
         "yaxis": "y"
        },
        {
         "line": {
          "color": "tomato",
          "width": 0.7
         },
         "mode": "lines",
         "showlegend": false,
         "type": "scatter",
         "x": [
          "STP",
          "STP"
         ],
         "xaxis": "x",
         "y": [
          0,
          -1.0494028909100201
         ],
         "yaxis": "y"
        },
        {
         "line": {
          "color": "tomato",
          "width": 0.7
         },
         "mode": "lines",
         "showlegend": false,
         "type": "scatter",
         "x": [
          "EGY",
          "EGY"
         ],
         "xaxis": "x",
         "y": [
          0,
          -1.0076961295085585
         ],
         "yaxis": "y"
        },
        {
         "line": {
          "color": "goldenrod",
          "width": 0.7
         },
         "mode": "lines",
         "showlegend": false,
         "type": "scatter",
         "x": [
          "VNM",
          "VNM"
         ],
         "xaxis": "x",
         "y": [
          0,
          -1.00623251797527
         ],
         "yaxis": "y"
        },
        {
         "line": {
          "color": "forestgreen",
          "width": 0.7
         },
         "mode": "lines",
         "showlegend": false,
         "type": "scatter",
         "x": [
          "GTM",
          "GTM"
         ],
         "xaxis": "x",
         "y": [
          0,
          -0.9468788452153445
         ],
         "yaxis": "y"
        },
        {
         "line": {
          "color": "tomato",
          "width": 0.7
         },
         "mode": "lines",
         "showlegend": false,
         "type": "scatter",
         "x": [
          "MOZ",
          "MOZ"
         ],
         "xaxis": "x",
         "y": [
          0,
          -0.9177602675096325
         ],
         "yaxis": "y"
        },
        {
         "line": {
          "color": "tomato",
          "width": 0.7
         },
         "mode": "lines",
         "showlegend": false,
         "type": "scatter",
         "x": [
          "NER",
          "NER"
         ],
         "xaxis": "x",
         "y": [
          0,
          -0.9176581765151774
         ],
         "yaxis": "y"
        },
        {
         "line": {
          "color": "goldenrod",
          "width": 0.7
         },
         "mode": "lines",
         "showlegend": false,
         "type": "scatter",
         "x": [
          "KHM",
          "KHM"
         ],
         "xaxis": "x",
         "y": [
          0,
          -0.8644842844578654
         ],
         "yaxis": "y"
        },
        {
         "line": {
          "color": "tomato",
          "width": 0.7
         },
         "mode": "lines",
         "showlegend": false,
         "type": "scatter",
         "x": [
          "SYC",
          "SYC"
         ],
         "xaxis": "x",
         "y": [
          0,
          -0.8393881366480145
         ],
         "yaxis": "y"
        },
        {
         "line": {
          "color": "forestgreen",
          "width": 0.7
         },
         "mode": "lines",
         "showlegend": false,
         "type": "scatter",
         "x": [
          "GRD",
          "GRD"
         ],
         "xaxis": "x",
         "y": [
          0,
          -0.8323829230421679
         ],
         "yaxis": "y"
        },
        {
         "line": {
          "color": "tomato",
          "width": 0.7
         },
         "mode": "lines",
         "showlegend": false,
         "type": "scatter",
         "x": [
          "BEN",
          "BEN"
         ],
         "xaxis": "x",
         "y": [
          0,
          -0.8241539303632153
         ],
         "yaxis": "y"
        },
        {
         "line": {
          "color": "forestgreen",
          "width": 0.7
         },
         "mode": "lines",
         "showlegend": false,
         "type": "scatter",
         "x": [
          "PAN",
          "PAN"
         ],
         "xaxis": "x",
         "y": [
          0,
          -0.8116524735765472
         ],
         "yaxis": "y"
        },
        {
         "line": {
          "color": "goldenrod",
          "width": 0.7
         },
         "mode": "lines",
         "showlegend": false,
         "type": "scatter",
         "x": [
          "TUR",
          "TUR"
         ],
         "xaxis": "x",
         "y": [
          0,
          -0.7903741166151833
         ],
         "yaxis": "y"
        },
        {
         "line": {
          "color": "tomato",
          "width": 0.7
         },
         "mode": "lines",
         "showlegend": false,
         "type": "scatter",
         "x": [
          "UGA",
          "UGA"
         ],
         "xaxis": "x",
         "y": [
          0,
          -0.7886574306839739
         ],
         "yaxis": "y"
        },
        {
         "line": {
          "color": "tomato",
          "width": 0.7
         },
         "mode": "lines",
         "showlegend": false,
         "type": "scatter",
         "x": [
          "DJI",
          "DJI"
         ],
         "xaxis": "x",
         "y": [
          0,
          -0.7845083332193444
         ],
         "yaxis": "y"
        },
        {
         "line": {
          "color": "tomato",
          "width": 0.7
         },
         "mode": "lines",
         "showlegend": false,
         "type": "scatter",
         "x": [
          "GIN",
          "GIN"
         ],
         "xaxis": "x",
         "y": [
          0,
          -0.7626795124566472
         ],
         "yaxis": "y"
        },
        {
         "line": {
          "color": "goldenrod",
          "width": 0.7
         },
         "mode": "lines",
         "showlegend": false,
         "type": "scatter",
         "x": [
          "UZB",
          "UZB"
         ],
         "xaxis": "x",
         "y": [
          0,
          -0.7421485735087022
         ],
         "yaxis": "y"
        },
        {
         "line": {
          "color": "tomato",
          "width": 0.7
         },
         "mode": "lines",
         "showlegend": false,
         "type": "scatter",
         "x": [
          "MWI",
          "MWI"
         ],
         "xaxis": "x",
         "y": [
          0,
          -0.6993901987809383
         ],
         "yaxis": "y"
        },
        {
         "line": {
          "color": "goldenrod",
          "width": 0.7
         },
         "mode": "lines",
         "showlegend": false,
         "type": "scatter",
         "x": [
          "BGD",
          "BGD"
         ],
         "xaxis": "x",
         "y": [
          0,
          -0.6992019856315943
         ],
         "yaxis": "y"
        },
        {
         "line": {
          "color": "forestgreen",
          "width": 0.7
         },
         "mode": "lines",
         "showlegend": false,
         "type": "scatter",
         "x": [
          "SUR",
          "SUR"
         ],
         "xaxis": "x",
         "y": [
          0,
          -0.6867600985944718
         ],
         "yaxis": "y"
        },
        {
         "line": {
          "color": "tomato",
          "width": 0.7
         },
         "mode": "lines",
         "showlegend": false,
         "type": "scatter",
         "x": [
          "ERI",
          "ERI"
         ],
         "xaxis": "x",
         "y": [
          0,
          -0.6866322518894195
         ],
         "yaxis": "y"
        },
        {
         "line": {
          "color": "tomato",
          "width": 0.7
         },
         "mode": "lines",
         "showlegend": false,
         "type": "scatter",
         "x": [
          "ZMB",
          "ZMB"
         ],
         "xaxis": "x",
         "y": [
          0,
          -0.6834947933087978
         ],
         "yaxis": "y"
        },
        {
         "line": {
          "color": "tomato",
          "width": 0.7
         },
         "mode": "lines",
         "showlegend": false,
         "type": "scatter",
         "x": [
          "BWA",
          "BWA"
         ],
         "xaxis": "x",
         "y": [
          0,
          -0.6819013591282033
         ],
         "yaxis": "y"
        },
        {
         "line": {
          "color": "tomato",
          "width": 0.7
         },
         "mode": "lines",
         "showlegend": false,
         "type": "scatter",
         "x": [
          "KEN",
          "KEN"
         ],
         "xaxis": "x",
         "y": [
          0,
          -0.667433451780224
         ],
         "yaxis": "y"
        },
        {
         "line": {
          "color": "tomato",
          "width": 0.7
         },
         "mode": "lines",
         "showlegend": false,
         "type": "scatter",
         "x": [
          "GHA",
          "GHA"
         ],
         "xaxis": "x",
         "y": [
          0,
          -0.6440795897613376
         ],
         "yaxis": "y"
        },
        {
         "line": {
          "color": "goldenrod",
          "width": 0.7
         },
         "mode": "lines",
         "showlegend": false,
         "type": "scatter",
         "x": [
          "ARM",
          "ARM"
         ],
         "xaxis": "x",
         "y": [
          0,
          -0.6328239021749423
         ],
         "yaxis": "y"
        },
        {
         "line": {
          "color": "tomato",
          "width": 0.7
         },
         "mode": "lines",
         "showlegend": false,
         "type": "scatter",
         "x": [
          "TGO",
          "TGO"
         ],
         "xaxis": "x",
         "y": [
          0,
          -0.6297985651941446
         ],
         "yaxis": "y"
        },
        {
         "line": {
          "color": "goldenrod",
          "width": 0.7
         },
         "mode": "lines",
         "showlegend": false,
         "type": "scatter",
         "x": [
          "SYR",
          "SYR"
         ],
         "xaxis": "x",
         "y": [
          0,
          -0.6242952399338019
         ],
         "yaxis": "y"
        },
        {
         "line": {
          "color": "silver",
          "width": 0.7
         },
         "mode": "lines",
         "showlegend": false,
         "type": "scatter",
         "x": [
          "WSM",
          "WSM"
         ],
         "xaxis": "x",
         "y": [
          0,
          -0.6137978942030524
         ],
         "yaxis": "y"
        },
        {
         "line": {
          "color": "forestgreen",
          "width": 0.7
         },
         "mode": "lines",
         "showlegend": false,
         "type": "scatter",
         "x": [
          "TTO",
          "TTO"
         ],
         "xaxis": "x",
         "y": [
          0,
          -0.6132104968953866
         ],
         "yaxis": "y"
        },
        {
         "line": {
          "color": "tomato",
          "width": 0.7
         },
         "mode": "lines",
         "showlegend": false,
         "type": "scatter",
         "x": [
          "TZA",
          "TZA"
         ],
         "xaxis": "x",
         "y": [
          0,
          -0.5982532187013581
         ],
         "yaxis": "y"
        },
        {
         "line": {
          "color": "goldenrod",
          "width": 0.7
         },
         "mode": "lines",
         "showlegend": false,
         "type": "scatter",
         "x": [
          "IRQ",
          "IRQ"
         ],
         "xaxis": "x",
         "y": [
          0,
          -0.5967679158427296
         ],
         "yaxis": "y"
        },
        {
         "line": {
          "color": "goldenrod",
          "width": 0.7
         },
         "mode": "lines",
         "showlegend": false,
         "type": "scatter",
         "x": [
          "AFG",
          "AFG"
         ],
         "xaxis": "x",
         "y": [
          0,
          -0.588049230111805
         ],
         "yaxis": "y"
        },
        {
         "line": {
          "color": "goldenrod",
          "width": 0.7
         },
         "mode": "lines",
         "showlegend": false,
         "type": "scatter",
         "x": [
          "JOR",
          "JOR"
         ],
         "xaxis": "x",
         "y": [
          0,
          -0.5847557121954787
         ],
         "yaxis": "y"
        },
        {
         "line": {
          "color": "silver",
          "width": 0.7
         },
         "mode": "lines",
         "showlegend": false,
         "type": "scatter",
         "x": [
          "PNG",
          "PNG"
         ],
         "xaxis": "x",
         "y": [
          0,
          -0.554149663594627
         ],
         "yaxis": "y"
        },
        {
         "line": {
          "color": "goldenrod",
          "width": 0.7
         },
         "mode": "lines",
         "showlegend": false,
         "type": "scatter",
         "x": [
          "MDV",
          "MDV"
         ],
         "xaxis": "x",
         "y": [
          0,
          -0.5475765981866371
         ],
         "yaxis": "y"
        },
        {
         "line": {
          "color": "tomato",
          "width": 0.7
         },
         "mode": "lines",
         "showlegend": false,
         "type": "scatter",
         "x": [
          "ZWE",
          "ZWE"
         ],
         "xaxis": "x",
         "y": [
          0,
          -0.547498182431248
         ],
         "yaxis": "y"
        },
        {
         "line": {
          "color": "goldenrod",
          "width": 0.7
         },
         "mode": "lines",
         "showlegend": false,
         "type": "scatter",
         "x": [
          "PHL",
          "PHL"
         ],
         "xaxis": "x",
         "y": [
          0,
          -0.5014382795515712
         ],
         "yaxis": "y"
        },
        {
         "line": {
          "color": "tomato",
          "width": 0.7
         },
         "mode": "lines",
         "showlegend": false,
         "type": "scatter",
         "x": [
          "SEN",
          "SEN"
         ],
         "xaxis": "x",
         "y": [
          0,
          -0.49442651049581526
         ],
         "yaxis": "y"
        },
        {
         "line": {
          "color": "forestgreen",
          "width": 0.7
         },
         "mode": "lines",
         "showlegend": false,
         "type": "scatter",
         "x": [
          "BLZ",
          "BLZ"
         ],
         "xaxis": "x",
         "y": [
          0,
          -0.4876699625255128
         ],
         "yaxis": "y"
        },
        {
         "line": {
          "color": "goldenrod",
          "width": 0.7
         },
         "mode": "lines",
         "showlegend": false,
         "type": "scatter",
         "x": [
          "BRN",
          "BRN"
         ],
         "xaxis": "x",
         "y": [
          0,
          -0.48694500229637333
         ],
         "yaxis": "y"
        },
        {
         "line": {
          "color": "forestgreen",
          "width": 0.7
         },
         "mode": "lines",
         "showlegend": false,
         "type": "scatter",
         "x": [
          "GUY",
          "GUY"
         ],
         "xaxis": "x",
         "y": [
          0,
          -0.45149020538986256
         ],
         "yaxis": "y"
        },
        {
         "line": {
          "color": "tomato",
          "width": 0.7
         },
         "mode": "lines",
         "showlegend": false,
         "type": "scatter",
         "x": [
          "RWA",
          "RWA"
         ],
         "xaxis": "x",
         "y": [
          0,
          -0.44778964946990896
         ],
         "yaxis": "y"
        },
        {
         "line": {
          "color": "goldenrod",
          "width": 0.7
         },
         "mode": "lines",
         "showlegend": false,
         "type": "scatter",
         "x": [
          "TJK",
          "TJK"
         ],
         "xaxis": "x",
         "y": [
          0,
          -0.43894987072583275
         ],
         "yaxis": "y"
        },
        {
         "line": {
          "color": "tomato",
          "width": 0.7
         },
         "mode": "lines",
         "showlegend": false,
         "type": "scatter",
         "x": [
          "SDN",
          "SDN"
         ],
         "xaxis": "x",
         "y": [
          0,
          -0.43873435604145145
         ],
         "yaxis": "y"
        },
        {
         "line": {
          "color": "tomato",
          "width": 0.7
         },
         "mode": "lines",
         "showlegend": false,
         "type": "scatter",
         "x": [
          "ETH",
          "ETH"
         ],
         "xaxis": "x",
         "y": [
          0,
          -0.43268839759483924
         ],
         "yaxis": "y"
        },
        {
         "line": {
          "color": "tomato",
          "width": 0.7
         },
         "mode": "lines",
         "showlegend": false,
         "type": "scatter",
         "x": [
          "GNQ",
          "GNQ"
         ],
         "xaxis": "x",
         "y": [
          0,
          -0.42466750165776224
         ],
         "yaxis": "y"
        },
        {
         "line": {
          "color": "tomato",
          "width": 0.7
         },
         "mode": "lines",
         "showlegend": false,
         "type": "scatter",
         "x": [
          "CIV",
          "CIV"
         ],
         "xaxis": "x",
         "y": [
          0,
          -0.41895715938290845
         ],
         "yaxis": "y"
        },
        {
         "line": {
          "color": "steelblue",
          "width": 0.7
         },
         "mode": "lines",
         "showlegend": false,
         "type": "scatter",
         "x": [
          "MDA",
          "MDA"
         ],
         "xaxis": "x",
         "y": [
          0,
          -0.40617876245202755
         ],
         "yaxis": "y"
        },
        {
         "line": {
          "color": "forestgreen",
          "width": 0.7
         },
         "mode": "lines",
         "showlegend": false,
         "type": "scatter",
         "x": [
          "SLV",
          "SLV"
         ],
         "xaxis": "x",
         "y": [
          0,
          -0.33021694710878136
         ],
         "yaxis": "y"
        },
        {
         "line": {
          "color": "goldenrod",
          "width": 0.7
         },
         "mode": "lines",
         "showlegend": false,
         "type": "scatter",
         "x": [
          "YEM",
          "YEM"
         ],
         "xaxis": "x",
         "y": [
          0,
          -0.3232518400142436
         ],
         "yaxis": "y"
        },
        {
         "line": {
          "color": "tomato",
          "width": 0.7
         },
         "mode": "lines",
         "showlegend": false,
         "type": "scatter",
         "x": [
          "MUS",
          "MUS"
         ],
         "xaxis": "x",
         "y": [
          0,
          -0.3130031099888053
         ],
         "yaxis": "y"
        },
        {
         "line": {
          "color": "forestgreen",
          "width": 0.7
         },
         "mode": "lines",
         "showlegend": false,
         "type": "scatter",
         "x": [
          "CUB",
          "CUB"
         ],
         "xaxis": "x",
         "y": [
          0,
          -0.3113424326072675
         ],
         "yaxis": "y"
        },
        {
         "line": {
          "color": "forestgreen",
          "width": 0.7
         },
         "mode": "lines",
         "showlegend": false,
         "type": "scatter",
         "x": [
          "BOL",
          "BOL"
         ],
         "xaxis": "x",
         "y": [
          0,
          -0.3064392336254436
         ],
         "yaxis": "y"
        },
        {
         "line": {
          "color": "goldenrod",
          "width": 0.7
         },
         "mode": "lines",
         "showlegend": false,
         "type": "scatter",
         "x": [
          "NPL",
          "NPL"
         ],
         "xaxis": "x",
         "y": [
          0,
          -0.2984473717179113
         ],
         "yaxis": "y"
        },
        {
         "line": {
          "color": "forestgreen",
          "width": 0.7
         },
         "mode": "lines",
         "showlegend": false,
         "type": "scatter",
         "x": [
          "VCT",
          "VCT"
         ],
         "xaxis": "x",
         "y": [
          0,
          -0.29716924015722296
         ],
         "yaxis": "y"
        },
        {
         "line": {
          "color": "goldenrod",
          "width": 0.7
         },
         "mode": "lines",
         "showlegend": false,
         "type": "scatter",
         "x": [
          "LKA",
          "LKA"
         ],
         "xaxis": "x",
         "y": [
          0,
          -0.2968651303854798
         ],
         "yaxis": "y"
        },
        {
         "line": {
          "color": "forestgreen",
          "width": 0.7
         },
         "mode": "lines",
         "showlegend": false,
         "type": "scatter",
         "x": [
          "HTI",
          "HTI"
         ],
         "xaxis": "x",
         "y": [
          0,
          -0.2914057915700592
         ],
         "yaxis": "y"
        },
        {
         "line": {
          "color": "goldenrod",
          "width": 0.7
         },
         "mode": "lines",
         "showlegend": false,
         "type": "scatter",
         "x": [
          "LBN",
          "LBN"
         ],
         "xaxis": "x",
         "y": [
          0,
          -0.2822544576899308
         ],
         "yaxis": "y"
        },
        {
         "line": {
          "color": "forestgreen",
          "width": 0.7
         },
         "mode": "lines",
         "showlegend": false,
         "type": "scatter",
         "x": [
          "HND",
          "HND"
         ],
         "xaxis": "x",
         "y": [
          0,
          -0.2689273833997614
         ],
         "yaxis": "y"
        },
        {
         "line": {
          "color": "goldenrod",
          "width": 0.7
         },
         "mode": "lines",
         "showlegend": false,
         "type": "scatter",
         "x": [
          "KGZ",
          "KGZ"
         ],
         "xaxis": "x",
         "y": [
          0,
          -0.2525004869544929
         ],
         "yaxis": "y"
        },
        {
         "line": {
          "color": "forestgreen",
          "width": 0.7
         },
         "mode": "lines",
         "showlegend": false,
         "type": "scatter",
         "x": [
          "KNA",
          "KNA"
         ],
         "xaxis": "x",
         "y": [
          0,
          -0.24791008732645506
         ],
         "yaxis": "y"
        },
        {
         "line": {
          "color": "goldenrod",
          "width": 0.7
         },
         "mode": "lines",
         "showlegend": false,
         "type": "scatter",
         "x": [
          "OMN",
          "OMN"
         ],
         "xaxis": "x",
         "y": [
          0,
          -0.23770808084217238
         ],
         "yaxis": "y"
        },
        {
         "line": {
          "color": "goldenrod",
          "width": 0.7
         },
         "mode": "lines",
         "showlegend": false,
         "type": "scatter",
         "x": [
          "IND",
          "IND"
         ],
         "xaxis": "x",
         "y": [
          0,
          -0.23281472599155384
         ],
         "yaxis": "y"
        },
        {
         "line": {
          "color": "steelblue",
          "width": 0.7
         },
         "mode": "lines",
         "showlegend": false,
         "type": "scatter",
         "x": [
          "ALB",
          "ALB"
         ],
         "xaxis": "x",
         "y": [
          0,
          -0.23174753420635508
         ],
         "yaxis": "y"
        },
        {
         "line": {
          "color": "goldenrod",
          "width": 0.7
         },
         "mode": "lines",
         "showlegend": false,
         "type": "scatter",
         "x": [
          "BTN",
          "BTN"
         ],
         "xaxis": "x",
         "y": [
          0,
          -0.22012149272628048
         ],
         "yaxis": "y"
        },
        {
         "line": {
          "color": "goldenrod",
          "width": 0.7
         },
         "mode": "lines",
         "showlegend": false,
         "type": "scatter",
         "x": [
          "IRN",
          "IRN"
         ],
         "xaxis": "x",
         "y": [
          0,
          -0.21832344134658033
         ],
         "yaxis": "y"
        },
        {
         "line": {
          "color": "tomato",
          "width": 0.7
         },
         "mode": "lines",
         "showlegend": false,
         "type": "scatter",
         "x": [
          "LSO",
          "LSO"
         ],
         "xaxis": "x",
         "y": [
          0,
          -0.21801205114940908
         ],
         "yaxis": "y"
        },
        {
         "line": {
          "color": "tomato",
          "width": 0.7
         },
         "mode": "lines",
         "showlegend": false,
         "type": "scatter",
         "x": [
          "BDI",
          "BDI"
         ],
         "xaxis": "x",
         "y": [
          0,
          -0.2156903142510973
         ],
         "yaxis": "y"
        },
        {
         "line": {
          "color": "forestgreen",
          "width": 0.7
         },
         "mode": "lines",
         "showlegend": false,
         "type": "scatter",
         "x": [
          "ATG",
          "ATG"
         ],
         "xaxis": "x",
         "y": [
          0,
          -0.2007228375368655
         ],
         "yaxis": "y"
        },
        {
         "line": {
          "color": "silver",
          "width": 0.7
         },
         "mode": "lines",
         "showlegend": false,
         "type": "scatter",
         "x": [
          "NRU",
          "NRU"
         ],
         "xaxis": "x",
         "y": [
          0,
          -0.1993090863121416
         ],
         "yaxis": "y"
        },
        {
         "line": {
          "color": "tomato",
          "width": 0.7
         },
         "mode": "lines",
         "showlegend": false,
         "type": "scatter",
         "x": [
          "TUN",
          "TUN"
         ],
         "xaxis": "x",
         "y": [
          0,
          -0.190346971041401
         ],
         "yaxis": "y"
        },
        {
         "line": {
          "color": "silver",
          "width": 0.7
         },
         "mode": "lines",
         "showlegend": false,
         "type": "scatter",
         "x": [
          "SLB",
          "SLB"
         ],
         "xaxis": "x",
         "y": [
          0,
          -0.1764810733381891
         ],
         "yaxis": "y"
        },
        {
         "line": {
          "color": "forestgreen",
          "width": 0.7
         },
         "mode": "lines",
         "showlegend": false,
         "type": "scatter",
         "x": [
          "DOM",
          "DOM"
         ],
         "xaxis": "x",
         "y": [
          0,
          -0.17164928901958984
         ],
         "yaxis": "y"
        },
        {
         "line": {
          "color": "tomato",
          "width": 0.7
         },
         "mode": "lines",
         "showlegend": false,
         "type": "scatter",
         "x": [
          "ZAF",
          "ZAF"
         ],
         "xaxis": "x",
         "y": [
          0,
          -0.16648297958934305
         ],
         "yaxis": "y"
        },
        {
         "line": {
          "color": "tomato",
          "width": 0.7
         },
         "mode": "lines",
         "showlegend": false,
         "type": "scatter",
         "x": [
          "MRT",
          "MRT"
         ],
         "xaxis": "x",
         "y": [
          0,
          -0.16070021519220307
         ],
         "yaxis": "y"
        },
        {
         "line": {
          "color": "forestgreen",
          "width": 0.7
         },
         "mode": "lines",
         "showlegend": false,
         "type": "scatter",
         "x": [
          "LCA",
          "LCA"
         ],
         "xaxis": "x",
         "y": [
          0,
          -0.13318463384465676
         ],
         "yaxis": "y"
        },
        {
         "line": {
          "color": "goldenrod",
          "width": 0.7
         },
         "mode": "lines",
         "showlegend": false,
         "type": "scatter",
         "x": [
          "CHN",
          "CHN"
         ],
         "xaxis": "x",
         "y": [
          0,
          -0.1313953665135362
         ],
         "yaxis": "y"
        },
        {
         "line": {
          "color": "forestgreen",
          "width": 0.7
         },
         "mode": "lines",
         "showlegend": false,
         "type": "scatter",
         "x": [
          "PER",
          "PER"
         ],
         "xaxis": "x",
         "y": [
          0,
          -0.12923973885990903
         ],
         "yaxis": "y"
        },
        {
         "line": {
          "color": "forestgreen",
          "width": 0.7
         },
         "mode": "lines",
         "showlegend": false,
         "type": "scatter",
         "x": [
          "MEX",
          "MEX"
         ],
         "xaxis": "x",
         "y": [
          0,
          -0.12525044885688988
         ],
         "yaxis": "y"
        },
        {
         "line": {
          "color": "steelblue",
          "width": 0.7
         },
         "mode": "lines",
         "showlegend": false,
         "type": "scatter",
         "x": [
          "SMR",
          "SMR"
         ],
         "xaxis": "x",
         "y": [
          0,
          -0.11422883592126952
         ],
         "yaxis": "y"
        },
        {
         "line": {
          "color": "forestgreen",
          "width": 0.7
         },
         "mode": "lines",
         "showlegend": false,
         "type": "scatter",
         "x": [
          "PRY",
          "PRY"
         ],
         "xaxis": "x",
         "y": [
          0,
          -0.10752077275156884
         ],
         "yaxis": "y"
        },
        {
         "line": {
          "color": "forestgreen",
          "width": 0.7
         },
         "mode": "lines",
         "showlegend": false,
         "type": "scatter",
         "x": [
          "ECU",
          "ECU"
         ],
         "xaxis": "x",
         "y": [
          0,
          -0.09158885423329648
         ],
         "yaxis": "y"
        },
        {
         "line": {
          "color": "silver",
          "width": 0.7
         },
         "mode": "lines",
         "showlegend": false,
         "type": "scatter",
         "x": [
          "COK",
          "COK"
         ],
         "xaxis": "x",
         "y": [
          0,
          -0.055685168209776606
         ],
         "yaxis": "y"
        },
        {
         "line": {
          "color": "goldenrod",
          "width": 0.7
         },
         "mode": "lines",
         "showlegend": false,
         "type": "scatter",
         "x": [
          "IDN",
          "IDN"
         ],
         "xaxis": "x",
         "y": [
          0,
          -0.050973618639701936
         ],
         "yaxis": "y"
        },
        {
         "line": {
          "color": "tomato",
          "width": 0.7
         },
         "mode": "lines",
         "showlegend": false,
         "type": "scatter",
         "x": [
          "SSD",
          "SSD"
         ],
         "xaxis": "x",
         "y": [
          0,
          -0.04789066284094963
         ],
         "yaxis": "y"
        },
        {
         "line": {
          "color": "silver",
          "width": 0.7
         },
         "mode": "lines",
         "showlegend": false,
         "type": "scatter",
         "x": [
          "KIR",
          "KIR"
         ],
         "xaxis": "x",
         "y": [
          0,
          -0.04425016656233661
         ],
         "yaxis": "y"
        },
        {
         "line": {
          "color": "goldenrod",
          "width": 0.7
         },
         "mode": "lines",
         "showlegend": false,
         "type": "scatter",
         "x": [
          "AZE",
          "AZE"
         ],
         "xaxis": "x",
         "y": [
          0,
          -0.039210573907433634
         ],
         "yaxis": "y"
        },
        {
         "line": {
          "color": "steelblue",
          "width": 0.7
         },
         "mode": "lines",
         "showlegend": false,
         "type": "scatter",
         "x": [
          "UKR",
          "UKR"
         ],
         "xaxis": "x",
         "y": [
          0,
          -0.038929524490438475
         ],
         "yaxis": "y"
        },
        {
         "line": {
          "color": "goldenrod",
          "width": 0.7
         },
         "mode": "lines",
         "showlegend": false,
         "type": "scatter",
         "x": [
          "SGP",
          "SGP"
         ],
         "xaxis": "x",
         "y": [
          0,
          -0.03647233875578231
         ],
         "yaxis": "y"
        },
        {
         "line": {
          "color": "tomato",
          "width": 0.7
         },
         "mode": "lines",
         "showlegend": false,
         "type": "scatter",
         "x": [
          "TCD",
          "TCD"
         ],
         "xaxis": "x",
         "y": [
          0,
          -0.031204758468632212
         ],
         "yaxis": "y"
        },
        {
         "line": {
          "color": "silver",
          "width": 0.7
         },
         "mode": "lines",
         "showlegend": false,
         "type": "scatter",
         "x": [
          "VUT",
          "VUT"
         ],
         "xaxis": "x",
         "y": [
          0,
          -0.029507905541815024
         ],
         "yaxis": "y"
        },
        {
         "line": {
          "color": "tomato",
          "width": 0.7
         },
         "mode": "lines",
         "showlegend": false,
         "type": "scatter",
         "x": [
          "AGO",
          "AGO"
         ],
         "xaxis": "x",
         "y": [
          0,
          -0.028859487805344426
         ],
         "yaxis": "y"
        },
        {
         "line": {
          "color": "tomato",
          "width": 0.7
         },
         "mode": "lines",
         "showlegend": false,
         "type": "scatter",
         "x": [
          "MAR",
          "MAR"
         ],
         "xaxis": "x",
         "y": [
          0,
          -0.02332650182171566
         ],
         "yaxis": "y"
        },
        {
         "line": {
          "color": "forestgreen",
          "width": 0.7
         },
         "mode": "lines",
         "showlegend": false,
         "type": "scatter",
         "x": [
          "URY",
          "URY"
         ],
         "xaxis": "x",
         "y": [
          0,
          -0.017988746943608462
         ],
         "yaxis": "y"
        },
        {
         "line": {
          "color": "goldenrod",
          "width": 0.7
         },
         "mode": "lines",
         "showlegend": false,
         "type": "scatter",
         "x": [
          "MMR",
          "MMR"
         ],
         "xaxis": "x",
         "y": [
          0,
          -0.013208494872536398
         ],
         "yaxis": "y"
        },
        {
         "line": {
          "color": "forestgreen",
          "width": 0.7
         },
         "mode": "lines",
         "showlegend": false,
         "type": "scatter",
         "x": [
          "DMA",
          "DMA"
         ],
         "xaxis": "x",
         "y": [
          0,
          -0.0012477746808540059
         ],
         "yaxis": "y"
        },
        {
         "line": {
          "color": "tomato",
          "width": 0.7
         },
         "mode": "lines",
         "showlegend": false,
         "type": "scatter",
         "x": [
          "MDG",
          "MDG"
         ],
         "xaxis": "x",
         "y": [
          0,
          0.0015603592642615524
         ],
         "yaxis": "y"
        },
        {
         "line": {
          "color": "steelblue",
          "width": 0.7
         },
         "mode": "lines",
         "showlegend": false,
         "type": "scatter",
         "x": [
          "RUS",
          "RUS"
         ],
         "xaxis": "x",
         "y": [
          0,
          0.0018294158034200183
         ],
         "yaxis": "y"
        },
        {
         "line": {
          "color": "goldenrod",
          "width": 0.7
         },
         "mode": "lines",
         "showlegend": false,
         "type": "scatter",
         "x": [
          "TKM",
          "TKM"
         ],
         "xaxis": "x",
         "y": [
          0,
          0.013657365590976089
         ],
         "yaxis": "y"
        },
        {
         "line": {
          "color": "goldenrod",
          "width": 0.7
         },
         "mode": "lines",
         "showlegend": false,
         "type": "scatter",
         "x": [
          "KWT",
          "KWT"
         ],
         "xaxis": "x",
         "y": [
          0,
          0.018363928636971272
         ],
         "yaxis": "y"
        },
        {
         "line": {
          "color": "goldenrod",
          "width": 0.7
         },
         "mode": "lines",
         "showlegend": false,
         "type": "scatter",
         "x": [
          "MYS",
          "MYS"
         ],
         "xaxis": "x",
         "y": [
          0,
          0.029836820388305214
         ],
         "yaxis": "y"
        },
        {
         "line": {
          "color": "steelblue",
          "width": 0.7
         },
         "mode": "lines",
         "showlegend": false,
         "type": "scatter",
         "x": [
          "HRV",
          "HRV"
         ],
         "xaxis": "x",
         "y": [
          0,
          0.05580080388577885
         ],
         "yaxis": "y"
        },
        {
         "line": {
          "color": "forestgreen",
          "width": 0.7
         },
         "mode": "lines",
         "showlegend": false,
         "type": "scatter",
         "x": [
          "ARG",
          "ARG"
         ],
         "xaxis": "x",
         "y": [
          0,
          0.07051180627045228
         ],
         "yaxis": "y"
        },
        {
         "line": {
          "color": "steelblue",
          "width": 0.7
         },
         "mode": "lines",
         "showlegend": false,
         "type": "scatter",
         "x": [
          "ROU",
          "ROU"
         ],
         "xaxis": "x",
         "y": [
          0,
          0.07649669750534925
         ],
         "yaxis": "y"
        },
        {
         "line": {
          "color": "goldenrod",
          "width": 0.7
         },
         "mode": "lines",
         "showlegend": false,
         "type": "scatter",
         "x": [
          "THA",
          "THA"
         ],
         "xaxis": "x",
         "y": [
          0,
          0.08062982670853071
         ],
         "yaxis": "y"
        },
        {
         "line": {
          "color": "tomato",
          "width": 0.7
         },
         "mode": "lines",
         "showlegend": false,
         "type": "scatter",
         "x": [
          "DZA",
          "DZA"
         ],
         "xaxis": "x",
         "y": [
          0,
          0.0815029952508228
         ],
         "yaxis": "y"
        },
        {
         "line": {
          "color": "silver",
          "width": 0.7
         },
         "mode": "lines",
         "showlegend": false,
         "type": "scatter",
         "x": [
          "TON",
          "TON"
         ],
         "xaxis": "x",
         "y": [
          0,
          0.08529382937850742
         ],
         "yaxis": "y"
        },
        {
         "line": {
          "color": "steelblue",
          "width": 0.7
         },
         "mode": "lines",
         "showlegend": false,
         "type": "scatter",
         "x": [
          "LVA",
          "LVA"
         ],
         "xaxis": "x",
         "y": [
          0,
          0.09062888662128271
         ],
         "yaxis": "y"
        },
        {
         "line": {
          "color": "goldenrod",
          "width": 0.7
         },
         "mode": "lines",
         "showlegend": false,
         "type": "scatter",
         "x": [
          "ARE",
          "ARE"
         ],
         "xaxis": "x",
         "y": [
          0,
          0.09195999360858959
         ],
         "yaxis": "y"
        },
        {
         "line": {
          "color": "steelblue",
          "width": 0.7
         },
         "mode": "lines",
         "showlegend": false,
         "type": "scatter",
         "x": [
          "BLR",
          "BLR"
         ],
         "xaxis": "x",
         "y": [
          0,
          0.09860694174749902
         ],
         "yaxis": "y"
        },
        {
         "line": {
          "color": "goldenrod",
          "width": 0.7
         },
         "mode": "lines",
         "showlegend": false,
         "type": "scatter",
         "x": [
          "LAO",
          "LAO"
         ],
         "xaxis": "x",
         "y": [
          0,
          0.11011716570470513
         ],
         "yaxis": "y"
        },
        {
         "line": {
          "color": "goldenrod",
          "width": 0.7
         },
         "mode": "lines",
         "showlegend": false,
         "type": "scatter",
         "x": [
          "KAZ",
          "KAZ"
         ],
         "xaxis": "x",
         "y": [
          0,
          0.11194655452743248
         ],
         "yaxis": "y"
        },
        {
         "line": {
          "color": "tomato",
          "width": 0.7
         },
         "mode": "lines",
         "showlegend": false,
         "type": "scatter",
         "x": [
          "NGA",
          "NGA"
         ],
         "xaxis": "x",
         "y": [
          0,
          0.1143264568366213
         ],
         "yaxis": "y"
        },
        {
         "line": {
          "color": "tomato",
          "width": 0.7
         },
         "mode": "lines",
         "showlegend": false,
         "type": "scatter",
         "x": [
          "CPV",
          "CPV"
         ],
         "xaxis": "x",
         "y": [
          0,
          0.12390682807065892
         ],
         "yaxis": "y"
        },
        {
         "line": {
          "color": "silver",
          "width": 0.7
         },
         "mode": "lines",
         "showlegend": false,
         "type": "scatter",
         "x": [
          "FJI",
          "FJI"
         ],
         "xaxis": "x",
         "y": [
          0,
          0.13216441051199673
         ],
         "yaxis": "y"
        },
        {
         "line": {
          "color": "steelblue",
          "width": 0.7
         },
         "mode": "lines",
         "showlegend": false,
         "type": "scatter",
         "x": [
          "SRB",
          "SRB"
         ],
         "xaxis": "x",
         "y": [
          0,
          0.14622637720872658
         ],
         "yaxis": "y"
        },
        {
         "line": {
          "color": "tomato",
          "width": 0.7
         },
         "mode": "lines",
         "showlegend": false,
         "type": "scatter",
         "x": [
          "CAF",
          "CAF"
         ],
         "xaxis": "x",
         "y": [
          0,
          0.14834028905178562
         ],
         "yaxis": "y"
        },
        {
         "line": {
          "color": "forestgreen",
          "width": 0.7
         },
         "mode": "lines",
         "showlegend": false,
         "type": "scatter",
         "x": [
          "JAM",
          "JAM"
         ],
         "xaxis": "x",
         "y": [
          0,
          0.15211136913399587
         ],
         "yaxis": "y"
        },
        {
         "line": {
          "color": "goldenrod",
          "width": 0.7
         },
         "mode": "lines",
         "showlegend": false,
         "type": "scatter",
         "x": [
          "BHR",
          "BHR"
         ],
         "xaxis": "x",
         "y": [
          0,
          0.15827451339943743
         ],
         "yaxis": "y"
        },
        {
         "line": {
          "color": "goldenrod",
          "width": 0.7
         },
         "mode": "lines",
         "showlegend": false,
         "type": "scatter",
         "x": [
          "GEO",
          "GEO"
         ],
         "xaxis": "x",
         "y": [
          0,
          0.15918067853250548
         ],
         "yaxis": "y"
        },
        {
         "line": {
          "color": "forestgreen",
          "width": 0.7
         },
         "mode": "lines",
         "showlegend": false,
         "type": "scatter",
         "x": [
          "BRB",
          "BRB"
         ],
         "xaxis": "x",
         "y": [
          0,
          0.16512636874869058
         ],
         "yaxis": "y"
        },
        {
         "line": {
          "color": "steelblue",
          "width": 0.7
         },
         "mode": "lines",
         "showlegend": false,
         "type": "scatter",
         "x": [
          "SVN",
          "SVN"
         ],
         "xaxis": "x",
         "y": [
          0,
          0.16910274939060208
         ],
         "yaxis": "y"
        },
        {
         "line": {
          "color": "tomato",
          "width": 0.7
         },
         "mode": "lines",
         "showlegend": false,
         "type": "scatter",
         "x": [
          "NAM",
          "NAM"
         ],
         "xaxis": "x",
         "y": [
          0,
          0.17523664950455986
         ],
         "yaxis": "y"
        },
        {
         "line": {
          "color": "silver",
          "width": 0.7
         },
         "mode": "lines",
         "showlegend": false,
         "type": "scatter",
         "x": [
          "NIU",
          "NIU"
         ],
         "xaxis": "x",
         "y": [
          0,
          0.18570934362367428
         ],
         "yaxis": "y"
        },
        {
         "line": {
          "color": "steelblue",
          "width": 0.7
         },
         "mode": "lines",
         "showlegend": false,
         "type": "scatter",
         "x": [
          "MNE",
          "MNE"
         ],
         "xaxis": "x",
         "y": [
          0,
          0.1907582017099739
         ],
         "yaxis": "y"
        },
        {
         "line": {
          "color": "silver",
          "width": 0.7
         },
         "mode": "lines",
         "showlegend": false,
         "type": "scatter",
         "x": [
          "FSM",
          "FSM"
         ],
         "xaxis": "x",
         "y": [
          0,
          0.19695599842000863
         ],
         "yaxis": "y"
        },
        {
         "line": {
          "color": "steelblue",
          "width": 0.7
         },
         "mode": "lines",
         "showlegend": false,
         "type": "scatter",
         "x": [
          "HUN",
          "HUN"
         ],
         "xaxis": "x",
         "y": [
          0,
          0.20270828217007092
         ],
         "yaxis": "y"
        },
        {
         "line": {
          "color": "forestgreen",
          "width": 0.7
         },
         "mode": "lines",
         "showlegend": false,
         "type": "scatter",
         "x": [
          "CHL",
          "CHL"
         ],
         "xaxis": "x",
         "y": [
          0,
          0.21067676823151799
         ],
         "yaxis": "y"
        },
        {
         "line": {
          "color": "steelblue",
          "width": 0.7
         },
         "mode": "lines",
         "showlegend": false,
         "type": "scatter",
         "x": [
          "ESP",
          "ESP"
         ],
         "xaxis": "x",
         "y": [
          0,
          0.2158738720166399
         ],
         "yaxis": "y"
        },
        {
         "line": {
          "color": "steelblue",
          "width": 0.7
         },
         "mode": "lines",
         "showlegend": false,
         "type": "scatter",
         "x": [
          "ITA",
          "ITA"
         ],
         "xaxis": "x",
         "y": [
          0,
          0.22285034485060015
         ],
         "yaxis": "y"
        },
        {
         "line": {
          "color": "tomato",
          "width": 0.7
         },
         "mode": "lines",
         "showlegend": false,
         "type": "scatter",
         "x": [
          "COM",
          "COM"
         ],
         "xaxis": "x",
         "y": [
          0,
          0.2315572307725525
         ],
         "yaxis": "y"
        },
        {
         "line": {
          "color": "steelblue",
          "width": 0.7
         },
         "mode": "lines",
         "showlegend": false,
         "type": "scatter",
         "x": [
          "DNK",
          "DNK"
         ],
         "xaxis": "x",
         "y": [
          0,
          0.2327375248351146
         ],
         "yaxis": "y"
        },
        {
         "line": {
          "color": "steelblue",
          "width": 0.7
         },
         "mode": "lines",
         "showlegend": false,
         "type": "scatter",
         "x": [
          "SWE",
          "SWE"
         ],
         "xaxis": "x",
         "y": [
          0,
          0.23576452534898895
         ],
         "yaxis": "y"
        },
        {
         "line": {
          "color": "forestgreen",
          "width": 0.7
         },
         "mode": "lines",
         "showlegend": false,
         "type": "scatter",
         "x": [
          "CRI",
          "CRI"
         ],
         "xaxis": "x",
         "y": [
          0,
          0.2369049048793188
         ],
         "yaxis": "y"
        },
        {
         "line": {
          "color": "steelblue",
          "width": 0.7
         },
         "mode": "lines",
         "showlegend": false,
         "type": "scatter",
         "x": [
          "BIH",
          "BIH"
         ],
         "xaxis": "x",
         "y": [
          0,
          0.24533349168575755
         ],
         "yaxis": "y"
        },
        {
         "line": {
          "color": "steelblue",
          "width": 0.7
         },
         "mode": "lines",
         "showlegend": false,
         "type": "scatter",
         "x": [
          "LIE",
          "LIE"
         ],
         "xaxis": "x",
         "y": [
          0,
          0.2458794727832426
         ],
         "yaxis": "y"
        },
        {
         "line": {
          "color": "goldenrod",
          "width": 0.7
         },
         "mode": "lines",
         "showlegend": false,
         "type": "scatter",
         "x": [
          "ISR",
          "ISR"
         ],
         "xaxis": "x",
         "y": [
          0,
          0.2587825379436667
         ],
         "yaxis": "y"
        },
        {
         "line": {
          "color": "steelblue",
          "width": 0.7
         },
         "mode": "lines",
         "showlegend": false,
         "type": "scatter",
         "x": [
          "AND",
          "AND"
         ],
         "xaxis": "x",
         "y": [
          0,
          0.2647084223537169
         ],
         "yaxis": "y"
        },
        {
         "line": {
          "color": "forestgreen",
          "width": 0.7
         },
         "mode": "lines",
         "showlegend": false,
         "type": "scatter",
         "x": [
          "BHS",
          "BHS"
         ],
         "xaxis": "x",
         "y": [
          0,
          0.2674491423644548
         ],
         "yaxis": "y"
        },
        {
         "line": {
          "color": "steelblue",
          "width": 0.7
         },
         "mode": "lines",
         "showlegend": false,
         "type": "scatter",
         "x": [
          "LUX",
          "LUX"
         ],
         "xaxis": "x",
         "y": [
          0,
          0.26943775638761286
         ],
         "yaxis": "y"
        },
        {
         "line": {
          "color": "silver",
          "width": 0.7
         },
         "mode": "lines",
         "showlegend": false,
         "type": "scatter",
         "x": [
          "TUV",
          "TUV"
         ],
         "xaxis": "x",
         "y": [
          0,
          0.27270546005172436
         ],
         "yaxis": "y"
        },
        {
         "line": {
          "color": "steelblue",
          "width": 0.7
         },
         "mode": "lines",
         "showlegend": false,
         "type": "scatter",
         "x": [
          "FIN",
          "FIN"
         ],
         "xaxis": "x",
         "y": [
          0,
          0.2839175980603036
         ],
         "yaxis": "y"
        },
        {
         "line": {
          "color": "steelblue",
          "width": 0.7
         },
         "mode": "lines",
         "showlegend": false,
         "type": "scatter",
         "x": [
          "FRA",
          "FRA"
         ],
         "xaxis": "x",
         "y": [
          0,
          0.2853288330999343
         ],
         "yaxis": "y"
        },
        {
         "line": {
          "color": "steelblue",
          "width": 0.7
         },
         "mode": "lines",
         "showlegend": false,
         "type": "scatter",
         "x": [
          "IRL",
          "IRL"
         ],
         "xaxis": "x",
         "y": [
          0,
          0.28848886677480257
         ],
         "yaxis": "y"
        },
        {
         "line": {
          "color": "steelblue",
          "width": 0.7
         },
         "mode": "lines",
         "showlegend": false,
         "type": "scatter",
         "x": [
          "GRC",
          "GRC"
         ],
         "xaxis": "x",
         "y": [
          0,
          0.28878511292961334
         ],
         "yaxis": "y"
        },
        {
         "line": {
          "color": "forestgreen",
          "width": 0.7
         },
         "mode": "lines",
         "showlegend": false,
         "type": "scatter",
         "x": [
          "COL",
          "COL"
         ],
         "xaxis": "x",
         "y": [
          0,
          0.2888920053388927
         ],
         "yaxis": "y"
        },
        {
         "line": {
          "color": "goldenrod",
          "width": 0.7
         },
         "mode": "lines",
         "showlegend": false,
         "type": "scatter",
         "x": [
          "MNG",
          "MNG"
         ],
         "xaxis": "x",
         "y": [
          0,
          0.2986067560177348
         ],
         "yaxis": "y"
        },
        {
         "line": {
          "color": "steelblue",
          "width": 0.7
         },
         "mode": "lines",
         "showlegend": false,
         "type": "scatter",
         "x": [
          "CZE",
          "CZE"
         ],
         "xaxis": "x",
         "y": [
          0,
          0.31026539986236606
         ],
         "yaxis": "y"
        },
        {
         "line": {
          "color": "steelblue",
          "width": 0.7
         },
         "mode": "lines",
         "showlegend": false,
         "type": "scatter",
         "x": [
          "LTU",
          "LTU"
         ],
         "xaxis": "x",
         "y": [
          0,
          0.31512487533720207
         ],
         "yaxis": "y"
        },
        {
         "line": {
          "color": "steelblue",
          "width": 0.7
         },
         "mode": "lines",
         "showlegend": false,
         "type": "scatter",
         "x": [
          "SVK",
          "SVK"
         ],
         "xaxis": "x",
         "y": [
          0,
          0.31806584103516766
         ],
         "yaxis": "y"
        },
        {
         "line": {
          "color": "steelblue",
          "width": 0.7
         },
         "mode": "lines",
         "showlegend": false,
         "type": "scatter",
         "x": [
          "USA",
          "USA"
         ],
         "xaxis": "x",
         "y": [
          0,
          0.3532511750290961
         ],
         "yaxis": "y"
        },
        {
         "line": {
          "color": "silver",
          "width": 0.7
         },
         "mode": "lines",
         "showlegend": false,
         "type": "scatter",
         "x": [
          "NZL",
          "NZL"
         ],
         "xaxis": "x",
         "y": [
          0,
          0.35774295257688954
         ],
         "yaxis": "y"
        },
        {
         "line": {
          "color": "silver",
          "width": 0.7
         },
         "mode": "lines",
         "showlegend": false,
         "type": "scatter",
         "x": [
          "PLW",
          "PLW"
         ],
         "xaxis": "x",
         "y": [
          0,
          0.3593542783575449
         ],
         "yaxis": "y"
        },
        {
         "line": {
          "color": "steelblue",
          "width": 0.7
         },
         "mode": "lines",
         "showlegend": false,
         "type": "scatter",
         "x": [
          "PRT",
          "PRT"
         ],
         "xaxis": "x",
         "y": [
          0,
          0.3629932679418692
         ],
         "yaxis": "y"
        },
        {
         "line": {
          "color": "steelblue",
          "width": 0.7
         },
         "mode": "lines",
         "showlegend": false,
         "type": "scatter",
         "x": [
          "POL",
          "POL"
         ],
         "xaxis": "x",
         "y": [
          0,
          0.3634236252036075
         ],
         "yaxis": "y"
        },
        {
         "line": {
          "color": "steelblue",
          "width": 0.7
         },
         "mode": "lines",
         "showlegend": false,
         "type": "scatter",
         "x": [
          "AUS",
          "AUS"
         ],
         "xaxis": "x",
         "y": [
          0,
          0.3750918777508086
         ],
         "yaxis": "y"
        },
        {
         "line": {
          "color": "goldenrod",
          "width": 0.7
         },
         "mode": "lines",
         "showlegend": false,
         "type": "scatter",
         "x": [
          "QAT",
          "QAT"
         ],
         "xaxis": "x",
         "y": [
          0,
          0.38640380915511796
         ],
         "yaxis": "y"
        },
        {
         "line": {
          "color": "goldenrod",
          "width": 0.7
         },
         "mode": "lines",
         "showlegend": false,
         "type": "scatter",
         "x": [
          "KOR",
          "KOR"
         ],
         "xaxis": "x",
         "y": [
          0,
          0.38700990929035656
         ],
         "yaxis": "y"
        },
        {
         "line": {
          "color": "steelblue",
          "width": 0.7
         },
         "mode": "lines",
         "showlegend": false,
         "type": "scatter",
         "x": [
          "MKD",
          "MKD"
         ],
         "xaxis": "x",
         "y": [
          0,
          0.3914070821734732
         ],
         "yaxis": "y"
        },
        {
         "line": {
          "color": "steelblue",
          "width": 0.7
         },
         "mode": "lines",
         "showlegend": false,
         "type": "scatter",
         "x": [
          "CHE",
          "CHE"
         ],
         "xaxis": "x",
         "y": [
          0,
          0.39219693857038046
         ],
         "yaxis": "y"
        },
        {
         "line": {
          "color": "steelblue",
          "width": 0.7
         },
         "mode": "lines",
         "showlegend": false,
         "type": "scatter",
         "x": [
          "BGR",
          "BGR"
         ],
         "xaxis": "x",
         "y": [
          0,
          0.39391745376841847
         ],
         "yaxis": "y"
        },
        {
         "line": {
          "color": "steelblue",
          "width": 0.7
         },
         "mode": "lines",
         "showlegend": false,
         "type": "scatter",
         "x": [
          "DEU",
          "DEU"
         ],
         "xaxis": "x",
         "y": [
          0,
          0.3980074615765107
         ],
         "yaxis": "y"
        },
        {
         "line": {
          "color": "steelblue",
          "width": 0.7
         },
         "mode": "lines",
         "showlegend": false,
         "type": "scatter",
         "x": [
          "NLD",
          "NLD"
         ],
         "xaxis": "x",
         "y": [
          0,
          0.4033810852612592
         ],
         "yaxis": "y"
        },
        {
         "line": {
          "color": "steelblue",
          "width": 0.7
         },
         "mode": "lines",
         "showlegend": false,
         "type": "scatter",
         "x": [
          "BEL",
          "BEL"
         ],
         "xaxis": "x",
         "y": [
          0,
          0.415432328741092
         ],
         "yaxis": "y"
        },
        {
         "line": {
          "color": "steelblue",
          "width": 0.7
         },
         "mode": "lines",
         "showlegend": false,
         "type": "scatter",
         "x": [
          "GBR",
          "GBR"
         ],
         "xaxis": "x",
         "y": [
          0,
          0.4240766955963273
         ],
         "yaxis": "y"
        },
        {
         "line": {
          "color": "forestgreen",
          "width": 0.7
         },
         "mode": "lines",
         "showlegend": false,
         "type": "scatter",
         "x": [
          "BRA",
          "BRA"
         ],
         "xaxis": "x",
         "y": [
          0,
          0.43452750248163663
         ],
         "yaxis": "y"
        },
        {
         "line": {
          "color": "steelblue",
          "width": 0.7
         },
         "mode": "lines",
         "showlegend": false,
         "type": "scatter",
         "x": [
          "MCO",
          "MCO"
         ],
         "xaxis": "x",
         "y": [
          0,
          0.44506257405381255
         ],
         "yaxis": "y"
        },
        {
         "line": {
          "color": "goldenrod",
          "width": 0.7
         },
         "mode": "lines",
         "showlegend": false,
         "type": "scatter",
         "x": [
          "CYP",
          "CYP"
         ],
         "xaxis": "x",
         "y": [
          0,
          0.4463014153885162
         ],
         "yaxis": "y"
        },
        {
         "line": {
          "color": "goldenrod",
          "width": 0.7
         },
         "mode": "lines",
         "showlegend": false,
         "type": "scatter",
         "x": [
          "JPN",
          "JPN"
         ],
         "xaxis": "x",
         "y": [
          0,
          0.4466550811201327
         ],
         "yaxis": "y"
        },
        {
         "line": {
          "color": "steelblue",
          "width": 0.7
         },
         "mode": "lines",
         "showlegend": false,
         "type": "scatter",
         "x": [
          "MLT",
          "MLT"
         ],
         "xaxis": "x",
         "y": [
          0,
          0.44696873815002625
         ],
         "yaxis": "y"
        },
        {
         "line": {
          "color": "steelblue",
          "width": 0.7
         },
         "mode": "lines",
         "showlegend": false,
         "type": "scatter",
         "x": [
          "AUT",
          "AUT"
         ],
         "xaxis": "x",
         "y": [
          0,
          0.46464722978858947
         ],
         "yaxis": "y"
        },
        {
         "line": {
          "color": "steelblue",
          "width": 0.7
         },
         "mode": "lines",
         "showlegend": false,
         "type": "scatter",
         "x": [
          "CAN",
          "CAN"
         ],
         "xaxis": "x",
         "y": [
          0,
          0.4694395880902438
         ],
         "yaxis": "y"
        },
        {
         "line": {
          "color": "steelblue",
          "width": 0.7
         },
         "mode": "lines",
         "showlegend": false,
         "type": "scatter",
         "x": [
          "EST",
          "EST"
         ],
         "xaxis": "x",
         "y": [
          0,
          0.516055538198411
         ],
         "yaxis": "y"
        },
        {
         "line": {
          "color": "goldenrod",
          "width": 0.7
         },
         "mode": "lines",
         "showlegend": false,
         "type": "scatter",
         "x": [
          "SAU",
          "SAU"
         ],
         "xaxis": "x",
         "y": [
          0,
          0.580035171340853
         ],
         "yaxis": "y"
        },
        {
         "line": {
          "color": "steelblue",
          "width": 0.7
         },
         "mode": "lines",
         "showlegend": false,
         "type": "scatter",
         "x": [
          "ISL",
          "ISL"
         ],
         "xaxis": "x",
         "y": [
          0,
          0.5866662086135771
         ],
         "yaxis": "y"
        },
        {
         "line": {
          "color": "silver",
          "width": 0.7
         },
         "mode": "lines",
         "showlegend": false,
         "type": "scatter",
         "x": [
          "MHL",
          "MHL"
         ],
         "xaxis": "x",
         "y": [
          0,
          0.5883759094439968
         ],
         "yaxis": "y"
        },
        {
         "line": {
          "color": "tomato",
          "width": 0.7
         },
         "mode": "lines",
         "showlegend": false,
         "type": "scatter",
         "x": [
          "COG",
          "COG"
         ],
         "xaxis": "x",
         "y": [
          0,
          0.5892559278193933
         ],
         "yaxis": "y"
        },
        {
         "line": {
          "color": "steelblue",
          "width": 0.7
         },
         "mode": "lines",
         "showlegend": false,
         "type": "scatter",
         "x": [
          "NOR",
          "NOR"
         ],
         "xaxis": "x",
         "y": [
          0,
          0.6618788907897274
         ],
         "yaxis": "y"
        },
        {
         "line": {
          "color": "tomato",
          "width": 0.7
         },
         "mode": "lines",
         "showlegend": false,
         "type": "scatter",
         "x": [
          "GAB",
          "GAB"
         ],
         "xaxis": "x",
         "y": [
          0,
          0.7326356201697737
         ],
         "yaxis": "y"
        },
        {
         "line": {
          "color": "goldenrod",
          "width": 0.7
         },
         "mode": "lines",
         "showlegend": false,
         "type": "scatter",
         "x": [
          "TLS",
          "TLS"
         ],
         "xaxis": "x",
         "y": [
          0,
          1.8320563438627093
         ],
         "yaxis": "y"
        },
        {
         "line": {
          "color": "goldenrod",
          "width": 0.7
         },
         "mode": "lines",
         "showlegend": false,
         "type": "scatter",
         "x": [
          "PSE",
          "PSE"
         ],
         "xaxis": "x",
         "y": [
          0,
          null
         ],
         "yaxis": "y"
        },
        {
         "line": {
          "color": "steelblue",
          "width": 0.7
         },
         "mode": "lines",
         "showlegend": false,
         "type": "scatter",
         "x": [
          "VAT",
          "VAT"
         ],
         "xaxis": "x",
         "y": [
          0,
          null
         ],
         "yaxis": "y"
        },
        {
         "line": {
          "color": "tomato",
          "width": 0.7
         },
         "mode": "lines",
         "showlegend": false,
         "type": "scatter",
         "x": [
          "LBY",
          "LBY"
         ],
         "xaxis": "x",
         "y": [
          0,
          null
         ],
         "yaxis": "y"
        },
        {
         "marker": {
          "color": "forestgreen",
          "size": 9,
          "symbol": "square"
         },
         "mode": "text+markers",
         "name": "Latin America",
         "showlegend": true,
         "textfont": {
          "color": [
           "tomato",
           "forestgreen",
           "tomato",
           "goldenrod",
           "tomato",
           "tomato",
           "tomato",
           "tomato",
           "tomato",
           "forestgreen",
           "goldenrod",
           "tomato",
           "tomato",
           "tomato",
           "tomato",
           "tomato",
           "goldenrod",
           "forestgreen",
           "tomato",
           "tomato",
           "goldenrod",
           "tomato",
           "forestgreen",
           "tomato",
           "forestgreen",
           "goldenrod",
           "tomato",
           "tomato",
           "tomato",
           "goldenrod",
           "tomato",
           "goldenrod",
           "forestgreen",
           "tomato",
           "tomato",
           "tomato",
           "tomato",
           "tomato",
           "goldenrod",
           "tomato",
           "goldenrod",
           "silver",
           "forestgreen",
           "tomato",
           "goldenrod",
           "goldenrod",
           "goldenrod",
           "silver",
           "goldenrod",
           "tomato",
           "goldenrod",
           "tomato",
           "forestgreen",
           "goldenrod",
           "forestgreen",
           "tomato",
           "goldenrod",
           "tomato",
           "tomato",
           "tomato",
           "tomato",
           "steelblue",
           "forestgreen",
           "goldenrod",
           "tomato",
           "forestgreen",
           "forestgreen",
           "goldenrod",
           "forestgreen",
           "goldenrod",
           "forestgreen",
           "goldenrod",
           "forestgreen",
           "goldenrod",
           "forestgreen",
           "goldenrod",
           "goldenrod",
           "steelblue",
           "goldenrod",
           "goldenrod",
           "tomato",
           "tomato",
           "forestgreen",
           "silver",
           "tomato",
           "silver",
           "forestgreen",
           "tomato",
           "tomato",
           "forestgreen",
           "goldenrod",
           "forestgreen",
           "forestgreen",
           "steelblue",
           "forestgreen",
           "forestgreen",
           "silver",
           "goldenrod",
           "tomato",
           "silver",
           "goldenrod",
           "steelblue",
           "goldenrod",
           "tomato",
           "silver",
           "tomato",
           "tomato",
           "forestgreen",
           "goldenrod",
           "forestgreen",
           "tomato",
           "steelblue",
           "goldenrod",
           "goldenrod",
           "goldenrod",
           "steelblue",
           "forestgreen",
           "steelblue",
           "goldenrod",
           "tomato",
           "silver",
           "steelblue",
           "goldenrod",
           "steelblue",
           "goldenrod",
           "goldenrod",
           "tomato",
           "tomato",
           "silver",
           "steelblue",
           "tomato",
           "forestgreen",
           "goldenrod",
           "goldenrod",
           "forestgreen",
           "steelblue",
           "tomato",
           "silver",
           "steelblue",
           "silver",
           "steelblue",
           "forestgreen",
           "steelblue",
           "steelblue",
           "tomato",
           "steelblue",
           "steelblue",
           "forestgreen",
           "steelblue",
           "steelblue",
           "goldenrod",
           "steelblue",
           "forestgreen",
           "steelblue",
           "silver",
           "steelblue",
           "steelblue",
           "steelblue",
           "steelblue",
           "forestgreen",
           "goldenrod",
           "steelblue",
           "steelblue",
           "steelblue",
           "steelblue",
           "silver",
           "silver",
           "steelblue",
           "steelblue",
           "steelblue",
           "goldenrod",
           "goldenrod",
           "steelblue",
           "steelblue",
           "steelblue",
           "steelblue",
           "steelblue",
           "steelblue",
           "steelblue",
           "forestgreen",
           "steelblue",
           "goldenrod",
           "goldenrod",
           "steelblue",
           "steelblue",
           "steelblue",
           "steelblue",
           "goldenrod",
           "steelblue",
           "silver",
           "tomato",
           "steelblue",
           "tomato",
           "goldenrod",
           "goldenrod",
           "steelblue",
           "tomato"
          ],
          "family": "Arial black",
          "size": 10
         },
         "type": "scatter",
         "x": [
          "COD"
         ],
         "xaxis": "x",
         "y": [
          -10
         ],
         "yaxis": "y"
        },
        {
         "marker": {
          "color": "tomato",
          "size": 9,
          "symbol": "square"
         },
         "mode": "text+markers",
         "name": "Africa",
         "showlegend": true,
         "textfont": {
          "color": [
           "tomato",
           "forestgreen",
           "tomato",
           "goldenrod",
           "tomato",
           "tomato",
           "tomato",
           "tomato",
           "tomato",
           "forestgreen",
           "goldenrod",
           "tomato",
           "tomato",
           "tomato",
           "tomato",
           "tomato",
           "goldenrod",
           "forestgreen",
           "tomato",
           "tomato",
           "goldenrod",
           "tomato",
           "forestgreen",
           "tomato",
           "forestgreen",
           "goldenrod",
           "tomato",
           "tomato",
           "tomato",
           "goldenrod",
           "tomato",
           "goldenrod",
           "forestgreen",
           "tomato",
           "tomato",
           "tomato",
           "tomato",
           "tomato",
           "goldenrod",
           "tomato",
           "goldenrod",
           "silver",
           "forestgreen",
           "tomato",
           "goldenrod",
           "goldenrod",
           "goldenrod",
           "silver",
           "goldenrod",
           "tomato",
           "goldenrod",
           "tomato",
           "forestgreen",
           "goldenrod",
           "forestgreen",
           "tomato",
           "goldenrod",
           "tomato",
           "tomato",
           "tomato",
           "tomato",
           "steelblue",
           "forestgreen",
           "goldenrod",
           "tomato",
           "forestgreen",
           "forestgreen",
           "goldenrod",
           "forestgreen",
           "goldenrod",
           "forestgreen",
           "goldenrod",
           "forestgreen",
           "goldenrod",
           "forestgreen",
           "goldenrod",
           "goldenrod",
           "steelblue",
           "goldenrod",
           "goldenrod",
           "tomato",
           "tomato",
           "forestgreen",
           "silver",
           "tomato",
           "silver",
           "forestgreen",
           "tomato",
           "tomato",
           "forestgreen",
           "goldenrod",
           "forestgreen",
           "forestgreen",
           "steelblue",
           "forestgreen",
           "forestgreen",
           "silver",
           "goldenrod",
           "tomato",
           "silver",
           "goldenrod",
           "steelblue",
           "goldenrod",
           "tomato",
           "silver",
           "tomato",
           "tomato",
           "forestgreen",
           "goldenrod",
           "forestgreen",
           "tomato",
           "steelblue",
           "goldenrod",
           "goldenrod",
           "goldenrod",
           "steelblue",
           "forestgreen",
           "steelblue",
           "goldenrod",
           "tomato",
           "silver",
           "steelblue",
           "goldenrod",
           "steelblue",
           "goldenrod",
           "goldenrod",
           "tomato",
           "tomato",
           "silver",
           "steelblue",
           "tomato",
           "forestgreen",
           "goldenrod",
           "goldenrod",
           "forestgreen",
           "steelblue",
           "tomato",
           "silver",
           "steelblue",
           "silver",
           "steelblue",
           "forestgreen",
           "steelblue",
           "steelblue",
           "tomato",
           "steelblue",
           "steelblue",
           "forestgreen",
           "steelblue",
           "steelblue",
           "goldenrod",
           "steelblue",
           "forestgreen",
           "steelblue",
           "silver",
           "steelblue",
           "steelblue",
           "steelblue",
           "steelblue",
           "forestgreen",
           "goldenrod",
           "steelblue",
           "steelblue",
           "steelblue",
           "steelblue",
           "silver",
           "silver",
           "steelblue",
           "steelblue",
           "steelblue",
           "goldenrod",
           "goldenrod",
           "steelblue",
           "steelblue",
           "steelblue",
           "steelblue",
           "steelblue",
           "steelblue",
           "steelblue",
           "forestgreen",
           "steelblue",
           "goldenrod",
           "goldenrod",
           "steelblue",
           "steelblue",
           "steelblue",
           "steelblue",
           "goldenrod",
           "steelblue",
           "silver",
           "tomato",
           "steelblue",
           "tomato",
           "goldenrod",
           "goldenrod",
           "steelblue",
           "tomato"
          ],
          "family": "Arial black",
          "size": 10
         },
         "type": "scatter",
         "x": [
          "COD"
         ],
         "xaxis": "x",
         "y": [
          -10
         ],
         "yaxis": "y"
        },
        {
         "marker": {
          "color": "steelblue",
          "size": 9,
          "symbol": "square"
         },
         "mode": "text+markers",
         "name": "Europe, North America and Australia",
         "showlegend": true,
         "textfont": {
          "color": [
           "tomato",
           "forestgreen",
           "tomato",
           "goldenrod",
           "tomato",
           "tomato",
           "tomato",
           "tomato",
           "tomato",
           "forestgreen",
           "goldenrod",
           "tomato",
           "tomato",
           "tomato",
           "tomato",
           "tomato",
           "goldenrod",
           "forestgreen",
           "tomato",
           "tomato",
           "goldenrod",
           "tomato",
           "forestgreen",
           "tomato",
           "forestgreen",
           "goldenrod",
           "tomato",
           "tomato",
           "tomato",
           "goldenrod",
           "tomato",
           "goldenrod",
           "forestgreen",
           "tomato",
           "tomato",
           "tomato",
           "tomato",
           "tomato",
           "goldenrod",
           "tomato",
           "goldenrod",
           "silver",
           "forestgreen",
           "tomato",
           "goldenrod",
           "goldenrod",
           "goldenrod",
           "silver",
           "goldenrod",
           "tomato",
           "goldenrod",
           "tomato",
           "forestgreen",
           "goldenrod",
           "forestgreen",
           "tomato",
           "goldenrod",
           "tomato",
           "tomato",
           "tomato",
           "tomato",
           "steelblue",
           "forestgreen",
           "goldenrod",
           "tomato",
           "forestgreen",
           "forestgreen",
           "goldenrod",
           "forestgreen",
           "goldenrod",
           "forestgreen",
           "goldenrod",
           "forestgreen",
           "goldenrod",
           "forestgreen",
           "goldenrod",
           "goldenrod",
           "steelblue",
           "goldenrod",
           "goldenrod",
           "tomato",
           "tomato",
           "forestgreen",
           "silver",
           "tomato",
           "silver",
           "forestgreen",
           "tomato",
           "tomato",
           "forestgreen",
           "goldenrod",
           "forestgreen",
           "forestgreen",
           "steelblue",
           "forestgreen",
           "forestgreen",
           "silver",
           "goldenrod",
           "tomato",
           "silver",
           "goldenrod",
           "steelblue",
           "goldenrod",
           "tomato",
           "silver",
           "tomato",
           "tomato",
           "forestgreen",
           "goldenrod",
           "forestgreen",
           "tomato",
           "steelblue",
           "goldenrod",
           "goldenrod",
           "goldenrod",
           "steelblue",
           "forestgreen",
           "steelblue",
           "goldenrod",
           "tomato",
           "silver",
           "steelblue",
           "goldenrod",
           "steelblue",
           "goldenrod",
           "goldenrod",
           "tomato",
           "tomato",
           "silver",
           "steelblue",
           "tomato",
           "forestgreen",
           "goldenrod",
           "goldenrod",
           "forestgreen",
           "steelblue",
           "tomato",
           "silver",
           "steelblue",
           "silver",
           "steelblue",
           "forestgreen",
           "steelblue",
           "steelblue",
           "tomato",
           "steelblue",
           "steelblue",
           "forestgreen",
           "steelblue",
           "steelblue",
           "goldenrod",
           "steelblue",
           "forestgreen",
           "steelblue",
           "silver",
           "steelblue",
           "steelblue",
           "steelblue",
           "steelblue",
           "forestgreen",
           "goldenrod",
           "steelblue",
           "steelblue",
           "steelblue",
           "steelblue",
           "silver",
           "silver",
           "steelblue",
           "steelblue",
           "steelblue",
           "goldenrod",
           "goldenrod",
           "steelblue",
           "steelblue",
           "steelblue",
           "steelblue",
           "steelblue",
           "steelblue",
           "steelblue",
           "forestgreen",
           "steelblue",
           "goldenrod",
           "goldenrod",
           "steelblue",
           "steelblue",
           "steelblue",
           "steelblue",
           "goldenrod",
           "steelblue",
           "silver",
           "tomato",
           "steelblue",
           "tomato",
           "goldenrod",
           "goldenrod",
           "steelblue",
           "tomato"
          ],
          "family": "Arial black",
          "size": 10
         },
         "type": "scatter",
         "x": [
          "COD"
         ],
         "xaxis": "x",
         "y": [
          -10
         ],
         "yaxis": "y"
        },
        {
         "marker": {
          "color": "goldenrod",
          "size": 9,
          "symbol": "square"
         },
         "mode": "text+markers",
         "name": "Asia",
         "showlegend": true,
         "textfont": {
          "color": [
           "tomato",
           "forestgreen",
           "tomato",
           "goldenrod",
           "tomato",
           "tomato",
           "tomato",
           "tomato",
           "tomato",
           "forestgreen",
           "goldenrod",
           "tomato",
           "tomato",
           "tomato",
           "tomato",
           "tomato",
           "goldenrod",
           "forestgreen",
           "tomato",
           "tomato",
           "goldenrod",
           "tomato",
           "forestgreen",
           "tomato",
           "forestgreen",
           "goldenrod",
           "tomato",
           "tomato",
           "tomato",
           "goldenrod",
           "tomato",
           "goldenrod",
           "forestgreen",
           "tomato",
           "tomato",
           "tomato",
           "tomato",
           "tomato",
           "goldenrod",
           "tomato",
           "goldenrod",
           "silver",
           "forestgreen",
           "tomato",
           "goldenrod",
           "goldenrod",
           "goldenrod",
           "silver",
           "goldenrod",
           "tomato",
           "goldenrod",
           "tomato",
           "forestgreen",
           "goldenrod",
           "forestgreen",
           "tomato",
           "goldenrod",
           "tomato",
           "tomato",
           "tomato",
           "tomato",
           "steelblue",
           "forestgreen",
           "goldenrod",
           "tomato",
           "forestgreen",
           "forestgreen",
           "goldenrod",
           "forestgreen",
           "goldenrod",
           "forestgreen",
           "goldenrod",
           "forestgreen",
           "goldenrod",
           "forestgreen",
           "goldenrod",
           "goldenrod",
           "steelblue",
           "goldenrod",
           "goldenrod",
           "tomato",
           "tomato",
           "forestgreen",
           "silver",
           "tomato",
           "silver",
           "forestgreen",
           "tomato",
           "tomato",
           "forestgreen",
           "goldenrod",
           "forestgreen",
           "forestgreen",
           "steelblue",
           "forestgreen",
           "forestgreen",
           "silver",
           "goldenrod",
           "tomato",
           "silver",
           "goldenrod",
           "steelblue",
           "goldenrod",
           "tomato",
           "silver",
           "tomato",
           "tomato",
           "forestgreen",
           "goldenrod",
           "forestgreen",
           "tomato",
           "steelblue",
           "goldenrod",
           "goldenrod",
           "goldenrod",
           "steelblue",
           "forestgreen",
           "steelblue",
           "goldenrod",
           "tomato",
           "silver",
           "steelblue",
           "goldenrod",
           "steelblue",
           "goldenrod",
           "goldenrod",
           "tomato",
           "tomato",
           "silver",
           "steelblue",
           "tomato",
           "forestgreen",
           "goldenrod",
           "goldenrod",
           "forestgreen",
           "steelblue",
           "tomato",
           "silver",
           "steelblue",
           "silver",
           "steelblue",
           "forestgreen",
           "steelblue",
           "steelblue",
           "tomato",
           "steelblue",
           "steelblue",
           "forestgreen",
           "steelblue",
           "steelblue",
           "goldenrod",
           "steelblue",
           "forestgreen",
           "steelblue",
           "silver",
           "steelblue",
           "steelblue",
           "steelblue",
           "steelblue",
           "forestgreen",
           "goldenrod",
           "steelblue",
           "steelblue",
           "steelblue",
           "steelblue",
           "silver",
           "silver",
           "steelblue",
           "steelblue",
           "steelblue",
           "goldenrod",
           "goldenrod",
           "steelblue",
           "steelblue",
           "steelblue",
           "steelblue",
           "steelblue",
           "steelblue",
           "steelblue",
           "forestgreen",
           "steelblue",
           "goldenrod",
           "goldenrod",
           "steelblue",
           "steelblue",
           "steelblue",
           "steelblue",
           "goldenrod",
           "steelblue",
           "silver",
           "tomato",
           "steelblue",
           "tomato",
           "goldenrod",
           "goldenrod",
           "steelblue",
           "tomato"
          ],
          "family": "Arial black",
          "size": 10
         },
         "type": "scatter",
         "x": [
          "COD"
         ],
         "xaxis": "x",
         "y": [
          -10
         ],
         "yaxis": "y"
        },
        {
         "marker": {
          "color": [
           "tomato",
           "forestgreen",
           "tomato",
           "goldenrod",
           "tomato",
           "tomato",
           "tomato",
           "tomato",
           "tomato",
           "forestgreen",
           "goldenrod",
           "tomato",
           "tomato",
           "tomato",
           "tomato",
           "tomato",
           "goldenrod",
           "forestgreen",
           "tomato",
           "tomato",
           "goldenrod",
           "tomato",
           "forestgreen",
           "tomato",
           "forestgreen",
           "goldenrod",
           "tomato",
           "tomato",
           "tomato",
           "goldenrod",
           "tomato",
           "goldenrod",
           "forestgreen",
           "tomato",
           "tomato",
           "tomato",
           "tomato",
           "tomato",
           "goldenrod",
           "tomato",
           "goldenrod",
           "silver",
           "forestgreen",
           "tomato",
           "goldenrod",
           "goldenrod",
           "goldenrod",
           "silver",
           "goldenrod",
           "tomato",
           "goldenrod",
           "tomato",
           "forestgreen",
           "goldenrod",
           "forestgreen",
           "tomato",
           "goldenrod",
           "tomato",
           "tomato",
           "tomato",
           "tomato",
           "steelblue",
           "forestgreen",
           "goldenrod",
           "tomato",
           "forestgreen",
           "forestgreen",
           "goldenrod",
           "forestgreen",
           "goldenrod",
           "forestgreen",
           "goldenrod",
           "forestgreen",
           "goldenrod",
           "forestgreen",
           "goldenrod",
           "goldenrod",
           "steelblue",
           "goldenrod",
           "goldenrod",
           "tomato",
           "tomato",
           "forestgreen",
           "silver",
           "tomato",
           "silver",
           "forestgreen",
           "tomato",
           "tomato",
           "forestgreen",
           "goldenrod",
           "forestgreen",
           "forestgreen",
           "steelblue",
           "forestgreen",
           "forestgreen",
           "silver",
           "goldenrod",
           "tomato",
           "silver",
           "goldenrod",
           "steelblue",
           "goldenrod",
           "tomato",
           "silver",
           "tomato",
           "tomato",
           "forestgreen",
           "goldenrod",
           "forestgreen",
           "tomato",
           "steelblue",
           "goldenrod",
           "goldenrod",
           "goldenrod",
           "steelblue",
           "forestgreen",
           "steelblue",
           "goldenrod",
           "tomato",
           "silver",
           "steelblue",
           "goldenrod",
           "steelblue",
           "goldenrod",
           "goldenrod",
           "tomato",
           "tomato",
           "silver",
           "steelblue",
           "tomato",
           "forestgreen",
           "goldenrod",
           "goldenrod",
           "forestgreen",
           "steelblue",
           "tomato",
           "silver",
           "steelblue",
           "silver",
           "steelblue",
           "forestgreen",
           "steelblue",
           "steelblue",
           "tomato",
           "steelblue",
           "steelblue",
           "forestgreen",
           "steelblue",
           "steelblue",
           "goldenrod",
           "steelblue",
           "forestgreen",
           "steelblue",
           "silver",
           "steelblue",
           "steelblue",
           "steelblue",
           "steelblue",
           "forestgreen",
           "goldenrod",
           "steelblue",
           "steelblue",
           "steelblue",
           "steelblue",
           "silver",
           "silver",
           "steelblue",
           "steelblue",
           "steelblue",
           "goldenrod",
           "goldenrod",
           "steelblue",
           "steelblue",
           "steelblue",
           "steelblue",
           "steelblue",
           "steelblue",
           "steelblue",
           "forestgreen",
           "steelblue",
           "goldenrod",
           "goldenrod",
           "steelblue",
           "steelblue",
           "steelblue",
           "steelblue",
           "goldenrod",
           "steelblue",
           "silver",
           "tomato",
           "steelblue",
           "tomato",
           "goldenrod",
           "goldenrod",
           "steelblue",
           "tomato"
          ],
          "size": 9,
          "symbol": "square"
         },
         "mode": "text+markers",
         "showlegend": false,
         "text": [
          "",
          "",
          "",
          "",
          "",
          "",
          "",
          "",
          "",
          "",
          "",
          "",
          "",
          "",
          "",
          "Egypt",
          "",
          "",
          "",
          "",
          "",
          "",
          "",
          "",
          "",
          "",
          "",
          "",
          "",
          "",
          "",
          "",
          "",
          "",
          "",
          "",
          "Kenya",
          "",
          "",
          "",
          "",
          "",
          "",
          "Tanzania,<br>United<br>Republic<br>of",
          "",
          "",
          "",
          "",
          "",
          "",
          "",
          "",
          "",
          "",
          "",
          "",
          "",
          "",
          "",
          "",
          "",
          "",
          "",
          "",
          "",
          "",
          "",
          "",
          "",
          "",
          "",
          "",
          "",
          "",
          "",
          "",
          "India",
          "",
          "",
          "",
          "",
          "",
          "",
          "",
          "",
          "",
          "",
          "South<br>Africa",
          "",
          "",
          "China",
          "",
          "Mexico",
          "",
          "",
          "",
          "",
          "Indonesia",
          "",
          "",
          "",
          "",
          "",
          "",
          "",
          "",
          "",
          "",
          "",
          "",
          "",
          "Russian<br>Federation",
          "",
          "",
          "",
          "",
          "Argentina",
          "",
          "",
          "",
          "",
          "",
          "",
          "",
          "",
          "Kazakhstan",
          "",
          "",
          "",
          "",
          "",
          "",
          "",
          "",
          "",
          "",
          "",
          "",
          "",
          "",
          "",
          "Chile",
          "",
          "",
          "",
          "",
          "",
          "",
          "",
          "",
          "",
          "",
          "",
          "",
          "",
          "",
          "France",
          "",
          "",
          "",
          "",
          "",
          "",
          "",
          "United<br>States<br>of<br>America",
          "",
          "",
          "",
          "",
          "Australia",
          "",
          "",
          "",
          "",
          "",
          "Germany",
          "",
          "",
          "",
          "Brazil",
          "",
          "",
          "",
          "",
          "",
          "Canada",
          "",
          "Saudi<br>Arabia",
          "",
          "",
          "",
          "",
          "",
          "",
          "",
          "",
          ""
         ],
         "textfont": {
          "color": [
           "tomato",
           "forestgreen",
           "tomato",
           "goldenrod",
           "tomato",
           "tomato",
           "tomato",
           "tomato",
           "tomato",
           "forestgreen",
           "goldenrod",
           "tomato",
           "tomato",
           "tomato",
           "tomato",
           "tomato",
           "goldenrod",
           "forestgreen",
           "tomato",
           "tomato",
           "goldenrod",
           "tomato",
           "forestgreen",
           "tomato",
           "forestgreen",
           "goldenrod",
           "tomato",
           "tomato",
           "tomato",
           "goldenrod",
           "tomato",
           "goldenrod",
           "forestgreen",
           "tomato",
           "tomato",
           "tomato",
           "tomato",
           "tomato",
           "goldenrod",
           "tomato",
           "goldenrod",
           "silver",
           "forestgreen",
           "tomato",
           "goldenrod",
           "goldenrod",
           "goldenrod",
           "silver",
           "goldenrod",
           "tomato",
           "goldenrod",
           "tomato",
           "forestgreen",
           "goldenrod",
           "forestgreen",
           "tomato",
           "goldenrod",
           "tomato",
           "tomato",
           "tomato",
           "tomato",
           "steelblue",
           "forestgreen",
           "goldenrod",
           "tomato",
           "forestgreen",
           "forestgreen",
           "goldenrod",
           "forestgreen",
           "goldenrod",
           "forestgreen",
           "goldenrod",
           "forestgreen",
           "goldenrod",
           "forestgreen",
           "goldenrod",
           "goldenrod",
           "steelblue",
           "goldenrod",
           "goldenrod",
           "tomato",
           "tomato",
           "forestgreen",
           "silver",
           "tomato",
           "silver",
           "forestgreen",
           "tomato",
           "tomato",
           "forestgreen",
           "goldenrod",
           "forestgreen",
           "forestgreen",
           "steelblue",
           "forestgreen",
           "forestgreen",
           "silver",
           "goldenrod",
           "tomato",
           "silver",
           "goldenrod",
           "steelblue",
           "goldenrod",
           "tomato",
           "silver",
           "tomato",
           "tomato",
           "forestgreen",
           "goldenrod",
           "forestgreen",
           "tomato",
           "steelblue",
           "goldenrod",
           "goldenrod",
           "goldenrod",
           "steelblue",
           "forestgreen",
           "steelblue",
           "goldenrod",
           "tomato",
           "silver",
           "steelblue",
           "goldenrod",
           "steelblue",
           "goldenrod",
           "goldenrod",
           "tomato",
           "tomato",
           "silver",
           "steelblue",
           "tomato",
           "forestgreen",
           "goldenrod",
           "goldenrod",
           "forestgreen",
           "steelblue",
           "tomato",
           "silver",
           "steelblue",
           "silver",
           "steelblue",
           "forestgreen",
           "steelblue",
           "steelblue",
           "tomato",
           "steelblue",
           "steelblue",
           "forestgreen",
           "steelblue",
           "steelblue",
           "goldenrod",
           "steelblue",
           "forestgreen",
           "steelblue",
           "silver",
           "steelblue",
           "steelblue",
           "steelblue",
           "steelblue",
           "forestgreen",
           "goldenrod",
           "steelblue",
           "steelblue",
           "steelblue",
           "steelblue",
           "silver",
           "silver",
           "steelblue",
           "steelblue",
           "steelblue",
           "goldenrod",
           "goldenrod",
           "steelblue",
           "steelblue",
           "steelblue",
           "steelblue",
           "steelblue",
           "steelblue",
           "steelblue",
           "forestgreen",
           "steelblue",
           "goldenrod",
           "goldenrod",
           "steelblue",
           "steelblue",
           "steelblue",
           "steelblue",
           "goldenrod",
           "steelblue",
           "silver",
           "tomato",
           "steelblue",
           "tomato",
           "goldenrod",
           "goldenrod",
           "steelblue",
           "tomato"
          ],
          "family": "Arial black",
          "size": 10
         },
         "textposition": [
          "bottom center",
          "bottom center",
          "bottom center",
          "top center",
          "bottom center",
          "bottom center",
          "bottom center",
          "bottom center",
          "bottom center",
          "bottom center",
          "top center",
          "bottom center",
          "bottom center",
          "bottom center",
          "bottom center",
          "bottom center",
          "top center",
          "bottom center",
          "bottom center",
          "bottom center",
          "top center",
          "bottom center",
          "bottom center",
          "bottom center",
          "bottom center",
          "top center",
          "bottom center",
          "bottom center",
          "bottom center",
          "top center",
          "bottom center",
          "top center",
          "bottom center",
          "bottom center",
          "bottom center",
          "bottom center",
          "bottom center",
          "bottom center",
          "top center",
          "bottom center",
          "top center",
          "top center",
          "bottom center",
          "bottom center",
          "top center",
          "top center",
          "top center",
          "top center",
          "top center",
          "bottom center",
          "top center",
          "bottom center",
          "bottom center",
          "top center",
          "bottom center",
          "bottom center",
          "top center",
          "bottom center",
          "bottom center",
          "bottom center",
          "bottom center",
          "top center",
          "bottom center",
          "top center",
          "bottom center",
          "bottom center",
          "bottom center",
          "top center",
          "bottom center",
          "top center",
          "bottom center",
          "top center",
          "bottom center",
          "top center",
          "bottom center",
          "top center",
          "top center",
          "top center",
          "top center",
          "top center",
          "bottom center",
          "bottom center",
          "bottom center",
          "top center",
          "bottom center",
          "top center",
          "bottom center",
          "bottom center",
          "bottom center",
          "bottom center",
          "top center",
          "bottom center",
          "bottom center",
          "top center",
          "bottom center",
          "bottom center",
          "top center",
          "top center",
          "bottom center",
          "top center",
          "top center",
          "top center",
          "top center",
          "bottom center",
          "top center",
          "bottom center",
          "bottom center",
          "bottom center",
          "top center",
          "bottom center",
          "bottom center",
          "top center",
          "top center",
          "top center",
          "top center",
          "top center",
          "bottom center",
          "top center",
          "top center",
          "bottom center",
          "top center",
          "top center",
          "top center",
          "top center",
          "top center",
          "top center",
          "bottom center",
          "bottom center",
          "top center",
          "top center",
          "bottom center",
          "bottom center",
          "top center",
          "top center",
          "bottom center",
          "top center",
          "bottom center",
          "top center",
          "top center",
          "top center",
          "top center",
          "bottom center",
          "top center",
          "top center",
          "bottom center",
          "top center",
          "top center",
          "bottom center",
          "top center",
          "top center",
          "top center",
          "top center",
          "bottom center",
          "top center",
          "top center",
          "top center",
          "top center",
          "top center",
          "top center",
          "bottom center",
          "top center",
          "top center",
          "top center",
          "top center",
          "top center",
          "top center",
          "top center",
          "top center",
          "top center",
          "top center",
          "top center",
          "top center",
          "top center",
          "top center",
          "top center",
          "top center",
          "top center",
          "top center",
          "top center",
          "bottom center",
          "top center",
          "top center",
          "top center",
          "top center",
          "top center",
          "top center",
          "top center",
          "top center",
          "top center",
          "top center",
          "bottom center",
          "top center",
          "bottom center",
          "top center",
          "top center",
          "top center",
          "bottom center"
         ],
         "type": "scatter",
         "x": [
          "COD",
          "NIC",
          "GNB",
          "PRK",
          "SOM",
          "SWZ",
          "BFA",
          "CMR",
          "LBR",
          "VEN",
          "PAK",
          "MLI",
          "GMB",
          "SLE",
          "STP",
          "EGY",
          "VNM",
          "GTM",
          "MOZ",
          "NER",
          "KHM",
          "SYC",
          "GRD",
          "BEN",
          "PAN",
          "TUR",
          "UGA",
          "DJI",
          "GIN",
          "UZB",
          "MWI",
          "BGD",
          "SUR",
          "ERI",
          "ZMB",
          "BWA",
          "KEN",
          "GHA",
          "ARM",
          "TGO",
          "SYR",
          "WSM",
          "TTO",
          "TZA",
          "IRQ",
          "AFG",
          "JOR",
          "PNG",
          "MDV",
          "ZWE",
          "PHL",
          "SEN",
          "BLZ",
          "BRN",
          "GUY",
          "RWA",
          "TJK",
          "SDN",
          "ETH",
          "GNQ",
          "CIV",
          "MDA",
          "SLV",
          "YEM",
          "MUS",
          "CUB",
          "BOL",
          "NPL",
          "VCT",
          "LKA",
          "HTI",
          "LBN",
          "HND",
          "KGZ",
          "KNA",
          "OMN",
          "IND",
          "ALB",
          "BTN",
          "IRN",
          "LSO",
          "BDI",
          "ATG",
          "NRU",
          "TUN",
          "SLB",
          "DOM",
          "ZAF",
          "MRT",
          "LCA",
          "CHN",
          "PER",
          "MEX",
          "SMR",
          "PRY",
          "ECU",
          "COK",
          "IDN",
          "SSD",
          "KIR",
          "AZE",
          "UKR",
          "SGP",
          "TCD",
          "VUT",
          "AGO",
          "MAR",
          "URY",
          "MMR",
          "DMA",
          "MDG",
          "RUS",
          "TKM",
          "KWT",
          "MYS",
          "HRV",
          "ARG",
          "ROU",
          "THA",
          "DZA",
          "TON",
          "LVA",
          "ARE",
          "BLR",
          "LAO",
          "KAZ",
          "NGA",
          "CPV",
          "FJI",
          "SRB",
          "CAF",
          "JAM",
          "BHR",
          "GEO",
          "BRB",
          "SVN",
          "NAM",
          "NIU",
          "MNE",
          "FSM",
          "HUN",
          "CHL",
          "ESP",
          "ITA",
          "COM",
          "DNK",
          "SWE",
          "CRI",
          "BIH",
          "LIE",
          "ISR",
          "AND",
          "BHS",
          "LUX",
          "TUV",
          "FIN",
          "FRA",
          "IRL",
          "GRC",
          "COL",
          "MNG",
          "CZE",
          "LTU",
          "SVK",
          "USA",
          "NZL",
          "PLW",
          "PRT",
          "POL",
          "AUS",
          "QAT",
          "KOR",
          "MKD",
          "CHE",
          "BGR",
          "DEU",
          "NLD",
          "BEL",
          "GBR",
          "BRA",
          "MCO",
          "CYP",
          "JPN",
          "MLT",
          "AUT",
          "CAN",
          "EST",
          "SAU",
          "ISL",
          "MHL",
          "COG",
          "NOR",
          "GAB",
          "TLS",
          "PSE",
          "VAT",
          "LBY"
         ],
         "xaxis": "x",
         "y": [
          -3.968446204788124,
          -2.963608402231083,
          -2.778402127425288,
          -2.6962715321067767,
          -2.560659296097582,
          -2.2483762578547375,
          -1.8356064284659674,
          -1.7670430100950265,
          -1.7571252676347955,
          -1.558105312841604,
          -1.5181020813173536,
          -1.3185268895910236,
          -1.1584214839081013,
          -1.0495238191052363,
          -1.0494028909100201,
          -1.0076961295085585,
          -1.00623251797527,
          -0.9468788452153445,
          -0.9177602675096325,
          -0.9176581765151774,
          -0.8644842844578654,
          -0.8393881366480145,
          -0.8323829230421679,
          -0.8241539303632153,
          -0.8116524735765472,
          -0.7903741166151833,
          -0.7886574306839739,
          -0.7845083332193444,
          -0.7626795124566472,
          -0.7421485735087022,
          -0.6993901987809383,
          -0.6992019856315943,
          -0.6867600985944718,
          -0.6866322518894195,
          -0.6834947933087978,
          -0.6819013591282033,
          -0.667433451780224,
          -0.6440795897613376,
          -0.6328239021749423,
          -0.6297985651941446,
          -0.6242952399338019,
          -0.6137978942030524,
          -0.6132104968953866,
          -0.5982532187013581,
          -0.5967679158427296,
          -0.588049230111805,
          -0.5847557121954787,
          -0.554149663594627,
          -0.5475765981866371,
          -0.547498182431248,
          -0.5014382795515712,
          -0.49442651049581526,
          -0.4876699625255128,
          -0.48694500229637333,
          -0.45149020538986256,
          -0.44778964946990896,
          -0.43894987072583275,
          -0.43873435604145145,
          -0.43268839759483924,
          -0.42466750165776224,
          -0.41895715938290845,
          -0.40617876245202755,
          -0.33021694710878136,
          -0.3232518400142436,
          -0.3130031099888053,
          -0.3113424326072675,
          -0.3064392336254436,
          -0.2984473717179113,
          -0.29716924015722296,
          -0.2968651303854798,
          -0.2914057915700592,
          -0.2822544576899308,
          -0.2689273833997614,
          -0.2525004869544929,
          -0.24791008732645506,
          -0.23770808084217238,
          -0.23281472599155384,
          -0.23174753420635508,
          -0.22012149272628048,
          -0.21832344134658033,
          -0.21801205114940908,
          -0.2156903142510973,
          -0.2007228375368655,
          -0.1993090863121416,
          -0.190346971041401,
          -0.1764810733381891,
          -0.17164928901958984,
          -0.16648297958934305,
          -0.16070021519220307,
          -0.13318463384465676,
          -0.1313953665135362,
          -0.12923973885990903,
          -0.12525044885688988,
          -0.11422883592126952,
          -0.10752077275156884,
          -0.09158885423329648,
          -0.055685168209776606,
          -0.050973618639701936,
          -0.04789066284094963,
          -0.04425016656233661,
          -0.039210573907433634,
          -0.038929524490438475,
          -0.03647233875578231,
          -0.031204758468632212,
          -0.029507905541815024,
          -0.028859487805344426,
          -0.02332650182171566,
          -0.017988746943608462,
          -0.013208494872536398,
          -0.0012477746808540059,
          0.0015603592642615524,
          0.0018294158034200183,
          0.013657365590976089,
          0.018363928636971272,
          0.029836820388305214,
          0.05580080388577885,
          0.07051180627045228,
          0.07649669750534925,
          0.08062982670853071,
          0.0815029952508228,
          0.08529382937850742,
          0.09062888662128271,
          0.09195999360858959,
          0.09860694174749902,
          0.11011716570470513,
          0.11194655452743248,
          0.1143264568366213,
          0.12390682807065892,
          0.13216441051199673,
          0.14622637720872658,
          0.14834028905178562,
          0.15211136913399587,
          0.15827451339943743,
          0.15918067853250548,
          0.16512636874869058,
          0.16910274939060208,
          0.17523664950455986,
          0.18570934362367428,
          0.1907582017099739,
          0.19695599842000863,
          0.20270828217007092,
          0.21067676823151799,
          0.2158738720166399,
          0.22285034485060015,
          0.2315572307725525,
          0.2327375248351146,
          0.23576452534898895,
          0.2369049048793188,
          0.24533349168575755,
          0.2458794727832426,
          0.2587825379436667,
          0.2647084223537169,
          0.2674491423644548,
          0.26943775638761286,
          0.27270546005172436,
          0.2839175980603036,
          0.2853288330999343,
          0.28848886677480257,
          0.28878511292961334,
          0.2888920053388927,
          0.2986067560177348,
          0.31026539986236606,
          0.31512487533720207,
          0.31806584103516766,
          0.3532511750290961,
          0.35774295257688954,
          0.3593542783575449,
          0.3629932679418692,
          0.3634236252036075,
          0.3750918777508086,
          0.38640380915511796,
          0.38700990929035656,
          0.3914070821734732,
          0.39219693857038046,
          0.39391745376841847,
          0.3980074615765107,
          0.4033810852612592,
          0.415432328741092,
          0.4240766955963273,
          0.43452750248163663,
          0.44506257405381255,
          0.4463014153885162,
          0.4466550811201327,
          0.44696873815002625,
          0.46464722978858947,
          0.4694395880902438,
          0.516055538198411,
          0.580035171340853,
          0.5866662086135771,
          0.5883759094439968,
          0.5892559278193933,
          0.6618788907897274,
          0.7326356201697737,
          1.8320563438627093,
          null,
          null,
          null
         ],
         "yaxis": "y"
        }
       ],
       "layout": {
        "annotations": [
         {
          "align": "left",
          "ax": 0,
          "ay": 0,
          "font": {
           "color": "black",
           "size": 18
          },
          "showarrow": false,
          "text": "<b>(a) Grandfathering</b>",
          "x": 0.07,
          "xref": "paper",
          "y": 1.01,
          "yref": "paper"
         },
         {
          "align": "left",
          "ax": 0,
          "ay": 0,
          "font": {
           "color": "black",
           "size": 18
          },
          "showarrow": false,
          "text": "<b>(b) Per Capita</b>",
          "x": 0.47,
          "xref": "paper",
          "y": 1.01,
          "yref": "paper"
         },
         {
          "align": "left",
          "ax": 0,
          "ay": 0,
          "font": {
           "color": "black",
           "size": 18
          },
          "showarrow": false,
          "text": "<b>(c) Per Capita Convergence</b>",
          "x": 0.9,
          "xref": "paper",
          "y": 1.01,
          "yref": "paper"
         },
         {
          "align": "left",
          "ax": 0,
          "ay": 0,
          "font": {
           "color": "black",
           "size": 18
          },
          "showarrow": false,
          "text": "<b>(d) Equal Cumulative per Capita</b>",
          "x": 0.07,
          "xref": "paper",
          "y": 0.675,
          "yref": "paper"
         },
         {
          "align": "left",
          "ax": 0,
          "ay": 0,
          "font": {
           "color": "black",
           "size": 18
          },
          "showarrow": false,
          "text": "<b>(e) Ability to Pay</b>",
          "x": 0.48,
          "xref": "paper",
          "y": 0.675,
          "yref": "paper"
         },
         {
          "align": "left",
          "ax": 0,
          "ay": 0,
          "font": {
           "color": "black",
           "size": 18
          },
          "showarrow": false,
          "text": "<b>(f) Greenhouse Development Rights</b>",
          "x": 0.95,
          "xref": "paper",
          "y": 0.675,
          "yref": "paper"
         },
         {
          "align": "left",
          "ax": 0,
          "ay": 0,
          "font": {
           "color": "black",
           "size": 18
          },
          "showarrow": false,
          "text": "<b>(g) Ambition level of NDCs</b>",
          "x": 0.07,
          "xref": "paper",
          "y": 0.29,
          "yref": "paper"
         },
         {
          "align": "center",
          "ax": 0,
          "ay": 0,
          "font": {
           "color": "black",
           "size": 12
          },
          "showarrow": false,
          "text": ">>> More ambition",
          "textangle": -90,
          "x": 0.02,
          "xref": "paper",
          "y": 0.175,
          "yref": "paper"
         },
         {
          "align": "center",
          "ax": 0,
          "ay": 0,
          "font": {
           "color": "black",
           "size": 12
          },
          "showarrow": false,
          "text": "Less ambition <<<",
          "textangle": -90,
          "x": 0.02,
          "xref": "paper",
          "y": 0.02,
          "yref": "paper"
         }
        ],
        "geo": {
         "domain": {
          "x": [
           0,
           0.3333333333333333
          ],
          "y": [
           0.6666666666666666,
           1
          ]
         },
         "lakecolor": "rgb(255, 255, 255)",
         "oceancolor": "aliceblue",
         "projection": {
          "type": "natural earth"
         },
         "showcoastlines": true,
         "showlakes": true,
         "showocean": true,
         "visible": true
        },
        "geo2": {
         "domain": {
          "x": [
           0.3333333333333333,
           0.6666666666666666
          ],
          "y": [
           0.6666666666666666,
           1
          ]
         },
         "lakecolor": "rgb(255, 255, 255)",
         "oceancolor": "aliceblue",
         "projection": {
          "type": "natural earth"
         },
         "showcoastlines": true,
         "showlakes": true,
         "showocean": true,
         "visible": true
        },
        "geo3": {
         "domain": {
          "x": [
           0.6666666666666666,
           1
          ],
          "y": [
           0.6666666666666666,
           1
          ]
         },
         "lakecolor": "rgb(255, 255, 255)",
         "oceancolor": "aliceblue",
         "projection": {
          "type": "natural earth"
         },
         "showcoastlines": true,
         "showlakes": true,
         "showocean": true,
         "visible": true
        },
        "geo4": {
         "domain": {
          "x": [
           0,
           0.3333333333333333
          ],
          "y": [
           0.3333333333333333,
           0.6666666666666666
          ]
         },
         "lakecolor": "rgb(255, 255, 255)",
         "oceancolor": "aliceblue",
         "projection": {
          "type": "natural earth"
         },
         "showcoastlines": true,
         "showlakes": true,
         "showocean": true,
         "visible": true
        },
        "geo5": {
         "domain": {
          "x": [
           0.3333333333333333,
           0.6666666666666666
          ],
          "y": [
           0.3333333333333333,
           0.6666666666666666
          ]
         },
         "lakecolor": "rgb(255, 255, 255)",
         "oceancolor": "aliceblue",
         "projection": {
          "type": "natural earth"
         },
         "showcoastlines": true,
         "showlakes": true,
         "showocean": true,
         "visible": true
        },
        "geo6": {
         "domain": {
          "x": [
           0.6666666666666666,
           1
          ],
          "y": [
           0.3333333333333333,
           0.6666666666666666
          ]
         },
         "lakecolor": "rgb(255, 255, 255)",
         "oceancolor": "aliceblue",
         "projection": {
          "type": "natural earth"
         },
         "showcoastlines": true,
         "showlakes": true,
         "showocean": true,
         "visible": true
        },
        "height": 1040,
        "legend": {
         "font": {
          "color": "black",
          "size": 15
         },
         "x": 0.08,
         "xanchor": "left",
         "y": 0.29,
         "yanchor": "top"
        },
        "template": {
         "data": {
          "bar": [
           {
            "error_x": {
             "color": "rgb(36,36,36)"
            },
            "error_y": {
             "color": "rgb(36,36,36)"
            },
            "marker": {
             "line": {
              "color": "white",
              "width": 0.5
             },
             "pattern": {
              "fillmode": "overlay",
              "size": 10,
              "solidity": 0.2
             }
            },
            "type": "bar"
           }
          ],
          "barpolar": [
           {
            "marker": {
             "line": {
              "color": "white",
              "width": 0.5
             },
             "pattern": {
              "fillmode": "overlay",
              "size": 10,
              "solidity": 0.2
             }
            },
            "type": "barpolar"
           }
          ],
          "carpet": [
           {
            "aaxis": {
             "endlinecolor": "rgb(36,36,36)",
             "gridcolor": "white",
             "linecolor": "white",
             "minorgridcolor": "white",
             "startlinecolor": "rgb(36,36,36)"
            },
            "baxis": {
             "endlinecolor": "rgb(36,36,36)",
             "gridcolor": "white",
             "linecolor": "white",
             "minorgridcolor": "white",
             "startlinecolor": "rgb(36,36,36)"
            },
            "type": "carpet"
           }
          ],
          "choropleth": [
           {
            "colorbar": {
             "outlinewidth": 1,
             "tickcolor": "rgb(36,36,36)",
             "ticks": "outside"
            },
            "type": "choropleth"
           }
          ],
          "contour": [
           {
            "colorbar": {
             "outlinewidth": 1,
             "tickcolor": "rgb(36,36,36)",
             "ticks": "outside"
            },
            "colorscale": [
             [
              0,
              "#440154"
             ],
             [
              0.1111111111111111,
              "#482878"
             ],
             [
              0.2222222222222222,
              "#3e4989"
             ],
             [
              0.3333333333333333,
              "#31688e"
             ],
             [
              0.4444444444444444,
              "#26828e"
             ],
             [
              0.5555555555555556,
              "#1f9e89"
             ],
             [
              0.6666666666666666,
              "#35b779"
             ],
             [
              0.7777777777777778,
              "#6ece58"
             ],
             [
              0.8888888888888888,
              "#b5de2b"
             ],
             [
              1,
              "#fde725"
             ]
            ],
            "type": "contour"
           }
          ],
          "contourcarpet": [
           {
            "colorbar": {
             "outlinewidth": 1,
             "tickcolor": "rgb(36,36,36)",
             "ticks": "outside"
            },
            "type": "contourcarpet"
           }
          ],
          "heatmap": [
           {
            "colorbar": {
             "outlinewidth": 1,
             "tickcolor": "rgb(36,36,36)",
             "ticks": "outside"
            },
            "colorscale": [
             [
              0,
              "#440154"
             ],
             [
              0.1111111111111111,
              "#482878"
             ],
             [
              0.2222222222222222,
              "#3e4989"
             ],
             [
              0.3333333333333333,
              "#31688e"
             ],
             [
              0.4444444444444444,
              "#26828e"
             ],
             [
              0.5555555555555556,
              "#1f9e89"
             ],
             [
              0.6666666666666666,
              "#35b779"
             ],
             [
              0.7777777777777778,
              "#6ece58"
             ],
             [
              0.8888888888888888,
              "#b5de2b"
             ],
             [
              1,
              "#fde725"
             ]
            ],
            "type": "heatmap"
           }
          ],
          "heatmapgl": [
           {
            "colorbar": {
             "outlinewidth": 1,
             "tickcolor": "rgb(36,36,36)",
             "ticks": "outside"
            },
            "colorscale": [
             [
              0,
              "#440154"
             ],
             [
              0.1111111111111111,
              "#482878"
             ],
             [
              0.2222222222222222,
              "#3e4989"
             ],
             [
              0.3333333333333333,
              "#31688e"
             ],
             [
              0.4444444444444444,
              "#26828e"
             ],
             [
              0.5555555555555556,
              "#1f9e89"
             ],
             [
              0.6666666666666666,
              "#35b779"
             ],
             [
              0.7777777777777778,
              "#6ece58"
             ],
             [
              0.8888888888888888,
              "#b5de2b"
             ],
             [
              1,
              "#fde725"
             ]
            ],
            "type": "heatmapgl"
           }
          ],
          "histogram": [
           {
            "marker": {
             "line": {
              "color": "white",
              "width": 0.6
             }
            },
            "type": "histogram"
           }
          ],
          "histogram2d": [
           {
            "colorbar": {
             "outlinewidth": 1,
             "tickcolor": "rgb(36,36,36)",
             "ticks": "outside"
            },
            "colorscale": [
             [
              0,
              "#440154"
             ],
             [
              0.1111111111111111,
              "#482878"
             ],
             [
              0.2222222222222222,
              "#3e4989"
             ],
             [
              0.3333333333333333,
              "#31688e"
             ],
             [
              0.4444444444444444,
              "#26828e"
             ],
             [
              0.5555555555555556,
              "#1f9e89"
             ],
             [
              0.6666666666666666,
              "#35b779"
             ],
             [
              0.7777777777777778,
              "#6ece58"
             ],
             [
              0.8888888888888888,
              "#b5de2b"
             ],
             [
              1,
              "#fde725"
             ]
            ],
            "type": "histogram2d"
           }
          ],
          "histogram2dcontour": [
           {
            "colorbar": {
             "outlinewidth": 1,
             "tickcolor": "rgb(36,36,36)",
             "ticks": "outside"
            },
            "colorscale": [
             [
              0,
              "#440154"
             ],
             [
              0.1111111111111111,
              "#482878"
             ],
             [
              0.2222222222222222,
              "#3e4989"
             ],
             [
              0.3333333333333333,
              "#31688e"
             ],
             [
              0.4444444444444444,
              "#26828e"
             ],
             [
              0.5555555555555556,
              "#1f9e89"
             ],
             [
              0.6666666666666666,
              "#35b779"
             ],
             [
              0.7777777777777778,
              "#6ece58"
             ],
             [
              0.8888888888888888,
              "#b5de2b"
             ],
             [
              1,
              "#fde725"
             ]
            ],
            "type": "histogram2dcontour"
           }
          ],
          "mesh3d": [
           {
            "colorbar": {
             "outlinewidth": 1,
             "tickcolor": "rgb(36,36,36)",
             "ticks": "outside"
            },
            "type": "mesh3d"
           }
          ],
          "parcoords": [
           {
            "line": {
             "colorbar": {
              "outlinewidth": 1,
              "tickcolor": "rgb(36,36,36)",
              "ticks": "outside"
             }
            },
            "type": "parcoords"
           }
          ],
          "pie": [
           {
            "automargin": true,
            "type": "pie"
           }
          ],
          "scatter": [
           {
            "fillpattern": {
             "fillmode": "overlay",
             "size": 10,
             "solidity": 0.2
            },
            "type": "scatter"
           }
          ],
          "scatter3d": [
           {
            "line": {
             "colorbar": {
              "outlinewidth": 1,
              "tickcolor": "rgb(36,36,36)",
              "ticks": "outside"
             }
            },
            "marker": {
             "colorbar": {
              "outlinewidth": 1,
              "tickcolor": "rgb(36,36,36)",
              "ticks": "outside"
             }
            },
            "type": "scatter3d"
           }
          ],
          "scattercarpet": [
           {
            "marker": {
             "colorbar": {
              "outlinewidth": 1,
              "tickcolor": "rgb(36,36,36)",
              "ticks": "outside"
             }
            },
            "type": "scattercarpet"
           }
          ],
          "scattergeo": [
           {
            "marker": {
             "colorbar": {
              "outlinewidth": 1,
              "tickcolor": "rgb(36,36,36)",
              "ticks": "outside"
             }
            },
            "type": "scattergeo"
           }
          ],
          "scattergl": [
           {
            "marker": {
             "colorbar": {
              "outlinewidth": 1,
              "tickcolor": "rgb(36,36,36)",
              "ticks": "outside"
             }
            },
            "type": "scattergl"
           }
          ],
          "scattermapbox": [
           {
            "marker": {
             "colorbar": {
              "outlinewidth": 1,
              "tickcolor": "rgb(36,36,36)",
              "ticks": "outside"
             }
            },
            "type": "scattermapbox"
           }
          ],
          "scatterpolar": [
           {
            "marker": {
             "colorbar": {
              "outlinewidth": 1,
              "tickcolor": "rgb(36,36,36)",
              "ticks": "outside"
             }
            },
            "type": "scatterpolar"
           }
          ],
          "scatterpolargl": [
           {
            "marker": {
             "colorbar": {
              "outlinewidth": 1,
              "tickcolor": "rgb(36,36,36)",
              "ticks": "outside"
             }
            },
            "type": "scatterpolargl"
           }
          ],
          "scatterternary": [
           {
            "marker": {
             "colorbar": {
              "outlinewidth": 1,
              "tickcolor": "rgb(36,36,36)",
              "ticks": "outside"
             }
            },
            "type": "scatterternary"
           }
          ],
          "surface": [
           {
            "colorbar": {
             "outlinewidth": 1,
             "tickcolor": "rgb(36,36,36)",
             "ticks": "outside"
            },
            "colorscale": [
             [
              0,
              "#440154"
             ],
             [
              0.1111111111111111,
              "#482878"
             ],
             [
              0.2222222222222222,
              "#3e4989"
             ],
             [
              0.3333333333333333,
              "#31688e"
             ],
             [
              0.4444444444444444,
              "#26828e"
             ],
             [
              0.5555555555555556,
              "#1f9e89"
             ],
             [
              0.6666666666666666,
              "#35b779"
             ],
             [
              0.7777777777777778,
              "#6ece58"
             ],
             [
              0.8888888888888888,
              "#b5de2b"
             ],
             [
              1,
              "#fde725"
             ]
            ],
            "type": "surface"
           }
          ],
          "table": [
           {
            "cells": {
             "fill": {
              "color": "rgb(237,237,237)"
             },
             "line": {
              "color": "white"
             }
            },
            "header": {
             "fill": {
              "color": "rgb(217,217,217)"
             },
             "line": {
              "color": "white"
             }
            },
            "type": "table"
           }
          ]
         },
         "layout": {
          "annotationdefaults": {
           "arrowhead": 0,
           "arrowwidth": 1
          },
          "autotypenumbers": "strict",
          "coloraxis": {
           "colorbar": {
            "outlinewidth": 1,
            "tickcolor": "rgb(36,36,36)",
            "ticks": "outside"
           }
          },
          "colorscale": {
           "diverging": [
            [
             0,
             "rgb(103,0,31)"
            ],
            [
             0.1,
             "rgb(178,24,43)"
            ],
            [
             0.2,
             "rgb(214,96,77)"
            ],
            [
             0.3,
             "rgb(244,165,130)"
            ],
            [
             0.4,
             "rgb(253,219,199)"
            ],
            [
             0.5,
             "rgb(247,247,247)"
            ],
            [
             0.6,
             "rgb(209,229,240)"
            ],
            [
             0.7,
             "rgb(146,197,222)"
            ],
            [
             0.8,
             "rgb(67,147,195)"
            ],
            [
             0.9,
             "rgb(33,102,172)"
            ],
            [
             1,
             "rgb(5,48,97)"
            ]
           ],
           "sequential": [
            [
             0,
             "#440154"
            ],
            [
             0.1111111111111111,
             "#482878"
            ],
            [
             0.2222222222222222,
             "#3e4989"
            ],
            [
             0.3333333333333333,
             "#31688e"
            ],
            [
             0.4444444444444444,
             "#26828e"
            ],
            [
             0.5555555555555556,
             "#1f9e89"
            ],
            [
             0.6666666666666666,
             "#35b779"
            ],
            [
             0.7777777777777778,
             "#6ece58"
            ],
            [
             0.8888888888888888,
             "#b5de2b"
            ],
            [
             1,
             "#fde725"
            ]
           ],
           "sequentialminus": [
            [
             0,
             "#440154"
            ],
            [
             0.1111111111111111,
             "#482878"
            ],
            [
             0.2222222222222222,
             "#3e4989"
            ],
            [
             0.3333333333333333,
             "#31688e"
            ],
            [
             0.4444444444444444,
             "#26828e"
            ],
            [
             0.5555555555555556,
             "#1f9e89"
            ],
            [
             0.6666666666666666,
             "#35b779"
            ],
            [
             0.7777777777777778,
             "#6ece58"
            ],
            [
             0.8888888888888888,
             "#b5de2b"
            ],
            [
             1,
             "#fde725"
            ]
           ]
          },
          "colorway": [
           "#1F77B4",
           "#FF7F0E",
           "#2CA02C",
           "#D62728",
           "#9467BD",
           "#8C564B",
           "#E377C2",
           "#7F7F7F",
           "#BCBD22",
           "#17BECF"
          ],
          "font": {
           "color": "rgb(36,36,36)"
          },
          "geo": {
           "bgcolor": "white",
           "lakecolor": "white",
           "landcolor": "white",
           "showlakes": true,
           "showland": true,
           "subunitcolor": "white"
          },
          "hoverlabel": {
           "align": "left"
          },
          "hovermode": "closest",
          "mapbox": {
           "style": "light"
          },
          "paper_bgcolor": "white",
          "plot_bgcolor": "white",
          "polar": {
           "angularaxis": {
            "gridcolor": "rgb(232,232,232)",
            "linecolor": "rgb(36,36,36)",
            "showgrid": false,
            "showline": true,
            "ticks": "outside"
           },
           "bgcolor": "white",
           "radialaxis": {
            "gridcolor": "rgb(232,232,232)",
            "linecolor": "rgb(36,36,36)",
            "showgrid": false,
            "showline": true,
            "ticks": "outside"
           }
          },
          "scene": {
           "xaxis": {
            "backgroundcolor": "white",
            "gridcolor": "rgb(232,232,232)",
            "gridwidth": 2,
            "linecolor": "rgb(36,36,36)",
            "showbackground": true,
            "showgrid": false,
            "showline": true,
            "ticks": "outside",
            "zeroline": false,
            "zerolinecolor": "rgb(36,36,36)"
           },
           "yaxis": {
            "backgroundcolor": "white",
            "gridcolor": "rgb(232,232,232)",
            "gridwidth": 2,
            "linecolor": "rgb(36,36,36)",
            "showbackground": true,
            "showgrid": false,
            "showline": true,
            "ticks": "outside",
            "zeroline": false,
            "zerolinecolor": "rgb(36,36,36)"
           },
           "zaxis": {
            "backgroundcolor": "white",
            "gridcolor": "rgb(232,232,232)",
            "gridwidth": 2,
            "linecolor": "rgb(36,36,36)",
            "showbackground": true,
            "showgrid": false,
            "showline": true,
            "ticks": "outside",
            "zeroline": false,
            "zerolinecolor": "rgb(36,36,36)"
           }
          },
          "shapedefaults": {
           "fillcolor": "black",
           "line": {
            "width": 0
           },
           "opacity": 0.3
          },
          "ternary": {
           "aaxis": {
            "gridcolor": "rgb(232,232,232)",
            "linecolor": "rgb(36,36,36)",
            "showgrid": false,
            "showline": true,
            "ticks": "outside"
           },
           "baxis": {
            "gridcolor": "rgb(232,232,232)",
            "linecolor": "rgb(36,36,36)",
            "showgrid": false,
            "showline": true,
            "ticks": "outside"
           },
           "bgcolor": "white",
           "caxis": {
            "gridcolor": "rgb(232,232,232)",
            "linecolor": "rgb(36,36,36)",
            "showgrid": false,
            "showline": true,
            "ticks": "outside"
           }
          },
          "title": {
           "x": 0.05
          },
          "xaxis": {
           "automargin": true,
           "gridcolor": "rgb(232,232,232)",
           "linecolor": "rgb(36,36,36)",
           "showgrid": false,
           "showline": true,
           "ticks": "outside",
           "title": {
            "standoff": 15
           },
           "zeroline": false,
           "zerolinecolor": "rgb(36,36,36)"
          },
          "yaxis": {
           "automargin": true,
           "gridcolor": "rgb(232,232,232)",
           "linecolor": "rgb(36,36,36)",
           "showgrid": false,
           "showline": true,
           "ticks": "outside",
           "title": {
            "standoff": 15
           },
           "zeroline": false,
           "zerolinecolor": "rgb(36,36,36)"
          }
         }
        },
        "width": 1600,
        "xaxis": {
         "anchor": "y",
         "domain": [
          0,
          1
         ],
         "showticklabels": false,
         "title": {
          "text": "Country"
         },
         "visible": false
        },
        "xaxis2": {
         "anchor": "y2",
         "domain": [
          0.3333333333333333,
          0.6666666666666666
         ],
         "visible": false
        },
        "xaxis3": {
         "anchor": "y3",
         "domain": [
          0.6666666666666666,
          1
         ],
         "visible": false
        },
        "yaxis": {
         "anchor": "x",
         "domain": [
          0,
          0.3333333333333333
         ],
         "range": [
          -1,
          1
         ],
         "tickmode": "array",
         "ticktext": [
          "+100%",
          "+75%",
          "+50%",
          "+25%",
          "0%",
          "-25%",
          "-50%",
          "-75%",
          "100%"
         ],
         "tickvals": [
          -1,
          -0.75,
          -0.5,
          -0.25,
          0,
          0.25,
          0.5,
          0.75,
          1
         ],
         "title": {
          "text": "GHG emission reduction in 2030 w.r.t. 2019"
         }
        },
        "yaxis2": {
         "anchor": "x2",
         "domain": [
          0,
          0.3333333333333333
         ]
        },
        "yaxis3": {
         "anchor": "x3",
         "domain": [
          0,
          0.3333333333333333
         ]
        }
       }
      }
     },
     "metadata": {},
     "output_type": "display_data"
    }
   ],
   "source": [
    "fig = make_subplots(rows=3, cols=3, #subplot_titles=('Grandfathering (GF)', 'Per Capita (PC)', 'Per Capita Convergence (PCC)', 'Bretschger (BR)', 'Ability to pay (AP)', 'Greenhouse Development Rights (GDR)'), \n",
    "                                                    specs=[[{'type': 'choropleth'}, {'type': 'choropleth'}, {'type': 'choropleth'}],\n",
    "                                                           [{'type': 'choropleth'}, {'type': 'choropleth'}, {'type': 'choropleth'}],\n",
    "                                                           [{'colspan': 3}, {}, {}]],\n",
    "                                                    horizontal_spacing = 0, vertical_spacing=0.0)\n",
    "\n",
    "colorbar_abs = dict(len=1, x=1, tickvals = [0, 1, 2, 3], ticktext = ['1', '10', '100', '1000'])\n",
    "colorbar_pc = dict(len=1, x=1)\n",
    "\n",
    "for var_i, var in enumerate(rules):\n",
    "    if var_i == 0:\n",
    "        cm= True\n",
    "    else:\n",
    "        cm= False\n",
    "    wh = np.array([np.where(all_regions_iso == r)[0][0] for r in all_countries_iso])\n",
    "    t = np.copy(temps[var_i][wh])\n",
    "    #t[t >= 4] = np.nan\n",
    "    fig.add_trace(\n",
    "        go.Choropleth(\n",
    "        locations=all_countries_iso,\n",
    "        z = t,\n",
    "        locationmode = 'ISO-3',\n",
    "        colorscale = 'RdYlGn_r',\n",
    "        zmax = 4,\n",
    "        zmin = 1.5,\n",
    "        text = [str(r)+\": \"+str(np.round(float(t[r_i]), 2))+\" C\" for r_i, r in enumerate(all_countries_iso)],\n",
    "        hovertemplate  = '%{text}',\n",
    "        name=\"\",\n",
    "        marker_line_color='black', \n",
    "        marker_line_width=0.3,\n",
    "        colorbar=dict(len=1, x=1, tickvals = np.arange(1.5, 4, 0.25), title={\"text\":\"Temperature<br>rise<br>associated<br>with NDC\", 'font': {'size':17}}),\n",
    "        showscale=cm\n",
    "    ), [1, 1, 1, 2, 2, 2][var_i], [1, 2, 3, 1, 2, 3][var_i])\n",
    "fig.update_geos(showocean=True, oceancolor=\"aliceblue\")\n",
    "fig.update_geos(showlakes=True, lakecolor=\"aliceblue\")\n",
    "\n",
    "# limite map scope to USA 'africa', 'asia', 'europe', 'north america', 'south america', 'usa', 'world'\n",
    "fig.update_geos(visible=True,\n",
    "                showlakes=True,\n",
    "                lakecolor='rgb(255, 255, 255)',\n",
    "                projection_type='natural earth',\n",
    "                showcoastlines=True,)\n",
    "\n",
    "fig.add_trace(go.Scatter(x=cty_sort,\n",
    "                        y=[0]*len(cty_sort),\n",
    "                        name='',\n",
    "                        line={'color': 'silver', 'width': 0.7},\n",
    "                        mode='lines',\n",
    "                        showlegend=False), 3, 1)\n",
    "for cty_i, cty in enumerate(cty_sort):\n",
    "    fig.add_trace(go.Scatter(x=[cty, cty],\n",
    "                            y=[0, ndc_sort_h[cty_i]],\n",
    "                            mode='lines',\n",
    "                            line={'color': cols[cty_i], 'width': 0.7},\n",
    "                            showlegend=False), 3, 1)\n",
    "for i in range(4):    \n",
    "    fig.add_trace(go.Scatter(x=['COD'],\n",
    "                            y=[-10],\n",
    "                            name=['Latin America', 'Africa', 'Europe, North America and Australia', 'Asia'][i],\n",
    "                            textfont = {'size': 10, 'family': \"Arial black\", \"color\": cols},#, \"size\": 13, \"color\": \"black\"},\n",
    "                            mode='text+markers',\n",
    "                            marker={'color': ['forestgreen', 'tomato', 'steelblue', 'goldenrod'][i], 'size': 9, 'symbol': 'square'},\n",
    "                            showlegend=True), 3, 1)\n",
    "fig.add_trace(go.Scatter(x=cty_sort,\n",
    "                         y=ndc_sort_h,\n",
    "                         text=cty_sort_omit,\n",
    "                         textfont = {'size': 10, 'family': \"Arial black\", \"color\": cols},#, \"size\": 13, \"color\": \"black\"},\n",
    "                         mode='text+markers',\n",
    "                         marker={'color': cols, 'size': 9, 'symbol': 'square'},\n",
    "                         textposition=textpos,\n",
    "                         showlegend=False), 3, 1)\n",
    "fig.update_layout(legend=dict(\n",
    "    yanchor=\"top\",\n",
    "    y=0.29,\n",
    "    xanchor=\"left\",\n",
    "    x=0.08,\n",
    "    font=dict(\n",
    "        #family=\"Courier\",\n",
    "        size=15,\n",
    "        color=\"black\"\n",
    "    ),\n",
    "))\n",
    "\n",
    "fig.add_annotation(xref='paper', yref='paper',ax=0, align='left', ay=-0, showarrow=False, font=dict(color='black', size=18),\n",
    "                   y=1.01, x=0.07, text=\"<b>(a) Grandfathering</b>\")\n",
    "fig.add_annotation(xref='paper', yref='paper',ax=0, align='left', ay=-0, showarrow=False, font=dict(color='black', size=18),\n",
    "                   y=1.01, x=0.47, text=\"<b>(b) Per Capita</b>\")\n",
    "fig.add_annotation(xref='paper', yref='paper',ax=0, align='left', ay=-0, showarrow=False, font=dict(color='black', size=18),\n",
    "                   y=1.01, x=0.90, text=\"<b>(c) Per Capita Convergence</b>\")\n",
    "fig.add_annotation(xref='paper', yref='paper',ax=0, align='left', ay=-0, showarrow=False, font=dict(color='black', size=18),\n",
    "                   y=0.675, x=0.07, text=\"<b>(d) Equal Cumulative per Capita</b>\")\n",
    "fig.add_annotation(xref='paper', yref='paper',ax=0, align='left', ay=-0, showarrow=False, font=dict(color='black', size=18),\n",
    "                   y=0.675, x=0.48, text=\"<b>(e) Ability to Pay</b>\")\n",
    "fig.add_annotation(xref='paper', yref='paper',ax=0, align='left', ay=-0, showarrow=False, font=dict(color='black', size=18),\n",
    "                   y=0.675, x=0.95, text=\"<b>(f) Greenhouse Development Rights</b>\")\n",
    "fig.add_annotation(xref='paper', yref='paper',ax=0, align='left', ay=-0, showarrow=False, font=dict(color='black', size=18),\n",
    "                   y=0.29, x=0.07, text=\"<b>(g) Ambition level of NDCs</b>\")\n",
    "fig.add_annotation(xref='paper', yref='paper',ax=0, align='center', ay=-0, showarrow=False, textangle=-90, font=dict(color='black', size=12),\n",
    "                    y=0.175, x=0.02, text=\">>> More ambition\")\n",
    "fig.add_annotation(xref='paper', yref='paper',ax=0, align='center', ay=-0, showarrow=False, textangle=-90, font=dict(color='black', size=12),\n",
    "                    y=0.02, x=0.02, text=\"Less ambition <<<\")\n",
    "\n",
    "#fig.update_traces(showscale=False)\n",
    "fig.update_layout(height=1300*0.8,\n",
    "                  width=2000*0.8,\n",
    "                  template='simple_white',\n",
    "                  xaxis = go.XAxis(title='Country', showticklabels=False),\n",
    "                  yaxis = go.YAxis(title='GHG emission reduction in 2030 w.r.t. 2019', \n",
    "                                    range=(-1, 1),\n",
    "                                    tickmode = 'array',\n",
    "                                    tickvals = [-1, -0.75, -0.50, -0.25, 0, 0.25, 0.5, 0.75, 1],\n",
    "                                    ticktext = ['+100%', '+75%', '+50%', '+25%', '0%', '-25%', '-50%', '-75%', '100%']))\n",
    "#fig.update_traces(textposition='top')#list(position_dict.values()))\n",
    "fig.update_xaxes(visible=False)\n",
    "fig.show()"
   ]
  },
  {
   "cell_type": "code",
   "execution_count": 385,
   "metadata": {},
   "outputs": [],
   "source": [
    "fig.write_image(\"X:/user/dekkerm/Projects/ECEMF_T5.2/Figures/Figure_tempalign/Figure_tempalign.svg\")\n",
    "fig.write_image(\"X:/user/dekkerm/Projects/ECEMF_T5.2/Figures/Figure_tempalign/Figure_tempalign.png\", scale=3)\n",
    "\n",
    "import os\n",
    "from datetime import date\n",
    "try:\n",
    "    os.remove('X:/user/dekkerm/Projects/ECEMF_T5.2/Figures/Figure_tempalign/Figure_tempalign.html')\n",
    "except:\n",
    "    3\n",
    "def html_w(typ):\n",
    "    return '<html> '+typ+' <p style=\"font-family: Arial\">'\n",
    "\n",
    "today = date.today()\n",
    "td = today.strftime(\"%B %d, %Y\")\n",
    "\n",
    "with open('X:/user/dekkerm/Projects/ECEMF_T5.2/Figures/Figure_tempalign/Figure_tempalign.html', 'a') as f:\n",
    "    #f.write(html_w('<h1>')+'Figure 1 - Electricity Generation</p></h1>')\n",
    "    f.write(html_w('<body>')+'Version: '+td+'</p></body>')\n",
    "    f.write(fig.to_html(full_html=False, include_plotlyjs='cdn'))"
   ]
  }
 ],
 "metadata": {
  "kernelspec": {
   "display_name": "Python 3.9.11 ('MyEnv')",
   "language": "python",
   "name": "python3"
  },
  "language_info": {
   "codemirror_mode": {
    "name": "ipython",
    "version": 3
   },
   "file_extension": ".py",
   "mimetype": "text/x-python",
   "name": "python",
   "nbconvert_exporter": "python",
   "pygments_lexer": "ipython3",
   "version": "3.9.16"
  },
  "orig_nbformat": 4,
  "vscode": {
   "interpreter": {
    "hash": "36d5d389870ab01fa625d0d5123f82469a3683fa0e02c4f7e9e76e9a75345aa3"
   }
  }
 },
 "nbformat": 4,
 "nbformat_minor": 2
}
