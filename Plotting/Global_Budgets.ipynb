{
 "cells": [
  {
   "cell_type": "markdown",
   "metadata": {},
   "source": [
    "## Preambule"
   ]
  },
  {
   "cell_type": "code",
   "execution_count": 1,
   "metadata": {},
   "outputs": [],
   "source": [
    "import numpy as np\n",
    "import pandas as pd\n",
    "import xarray as xr\n",
    "\n",
    "# Plotting\n",
    "import matplotlib.pyplot as plt\n",
    "import plotly.express as px\n",
    "import plotly.graph_objects as go\n",
    "from plotly.subplots import make_subplots\n",
    "from plotly.colors import n_colors"
   ]
  },
  {
   "cell_type": "markdown",
   "metadata": {},
   "source": [
    "## Input"
   ]
  },
  {
   "cell_type": "code",
   "execution_count": 2,
   "metadata": {},
   "outputs": [],
   "source": [
    "rules_b = ['GF', 'PC', 'PCC', 'AP', 'GDR', 'ECPC']\n",
    "rules_a = ['GF', 'PC', 'PCC', 'AP', 'GDR']"
   ]
  },
  {
   "cell_type": "markdown",
   "metadata": {},
   "source": [
    "## Read data"
   ]
  },
  {
   "cell_type": "code",
   "execution_count": 3,
   "metadata": {},
   "outputs": [],
   "source": [
    "xr_dataread = xr.open_dataset(\"K:/ECEMF/T5.2/xr_dataread.nc\")\n",
    "#xr_2030 = xr.open_dataset(\"X:/user/dekkerm/Projects/ECEMF_T5.2/Data/xr_alloc_2030.nc\")"
   ]
  },
  {
   "cell_type": "code",
   "execution_count": 4,
   "metadata": {},
   "outputs": [],
   "source": [
    "df_eng = pd.read_csv('X:/user/dekkerm/Data/ENGAGE/PolicyScenarios/engage-internal_snapshot_1695642798.csv')\n",
    "df_eng = df_eng[df_eng.Variable == 'Emissions|CO2']\n",
    "df_eng = df_eng.reset_index(drop=True)\n",
    "regions_df = np.array(df_eng.Region)\n",
    "regions_df[regions_df == \"Argentine Republic\"] = 'ARG'\n",
    "regions_df[regions_df == \"Canada\"] = 'CAN'\n",
    "regions_df[regions_df == \"Commonwealth of Australia\"] = 'AUS'\n",
    "regions_df[regions_df == \"Federative Republic of Brazil\"] = 'BRA'\n",
    "regions_df[regions_df == \"People's Repulic of China\"] = 'CHN'\n",
    "regions_df[regions_df == \"European Union (28 member countries)\"] = 'EU'\n",
    "regions_df[regions_df == \"Republic of India\"] = 'IND'\n",
    "regions_df[regions_df == \"Republic of Indonesia\"] = 'IDN'\n",
    "regions_df[regions_df == \"State of Japan\"] = 'JPN'\n",
    "regions_df[regions_df == \"Russian Federation\"] = 'RUS'\n",
    "regions_df[regions_df == \"Kingdom of Saudi Arabia\"] = 'SAU'\n",
    "regions_df[regions_df == \"Republic of South Africa\"] = 'ZAF'\n",
    "regions_df[regions_df == \"Republic of Korea (South Korea)\"] = 'KOR'\n",
    "regions_df[regions_df == \"United Mexican States\"] = 'MEX'\n",
    "regions_df[regions_df == \"Republic of Turkey\"] = 'TUR'\n",
    "regions_df[regions_df == \"United States of America\"] = 'USA'\n",
    "regions_df[regions_df == \"Viet Nam \"] = 'VNM'\n",
    "df_eng.Region = regions_df"
   ]
  },
  {
   "cell_type": "code",
   "execution_count": 5,
   "metadata": {},
   "outputs": [],
   "source": [
    "curpol = \"GP_CurPol_T45\"\n",
    "ndc = \"GP_NDC2030_T45\"\n",
    "nz = \"GP_Glasgow\"\n",
    "df_eng_ref = df_eng[['Model', 'Scenario', 'Region']+list(df_eng.keys()[5:])]\n",
    "df_eng_ref = df_eng_ref[df_eng_ref.Scenario.isin([curpol, ndc, nz])]\n",
    "scen = np.array(df_eng_ref.Scenario)\n",
    "scen[scen == ndc] = 'NDC'\n",
    "scen[scen == curpol] = 'CurPol'\n",
    "scen[scen == nz] = 'NetZero'\n",
    "reg = np.array(df_eng_ref.Region)\n",
    "reg[reg == 'World'] = 'WORLD'\n",
    "df_eng_ref['Scenario'] = scen\n",
    "df_eng_ref['Region'] = reg\n",
    "dummy = df_eng_ref.melt(id_vars=[\"Scenario\", \"Model\", \"Region\"], var_name=\"Time\", value_name=\"Value\")\n",
    "dummy['Time'] = np.array(dummy['Time'].astype(int))\n",
    "dummy = dummy.set_index([\"Scenario\", \"Model\", \"Region\", \"Time\"])\n",
    "xr_eng = xr.Dataset.from_dataframe(dummy)\n",
    "xr_eng = xr_eng.reindex(Time = np.arange(1850, 2101))\n",
    "xr_eng = xr_eng.interpolate_na(dim=\"Time\", method=\"linear\")"
   ]
  },
  {
   "cell_type": "markdown",
   "metadata": {},
   "source": [
    "## Total budgets - globe"
   ]
  },
  {
   "cell_type": "code",
   "execution_count": 6,
   "metadata": {},
   "outputs": [
    {
     "data": {
      "text/html": [
       "<div><svg style=\"position: absolute; width: 0; height: 0; overflow: hidden\">\n",
       "<defs>\n",
       "<symbol id=\"icon-database\" viewBox=\"0 0 32 32\">\n",
       "<path d=\"M16 0c-8.837 0-16 2.239-16 5v4c0 2.761 7.163 5 16 5s16-2.239 16-5v-4c0-2.761-7.163-5-16-5z\"></path>\n",
       "<path d=\"M16 17c-8.837 0-16-2.239-16-5v6c0 2.761 7.163 5 16 5s16-2.239 16-5v-6c0 2.761-7.163 5-16 5z\"></path>\n",
       "<path d=\"M16 26c-8.837 0-16-2.239-16-5v6c0 2.761 7.163 5 16 5s16-2.239 16-5v-6c0 2.761-7.163 5-16 5z\"></path>\n",
       "</symbol>\n",
       "<symbol id=\"icon-file-text2\" viewBox=\"0 0 32 32\">\n",
       "<path d=\"M28.681 7.159c-0.694-0.947-1.662-2.053-2.724-3.116s-2.169-2.030-3.116-2.724c-1.612-1.182-2.393-1.319-2.841-1.319h-15.5c-1.378 0-2.5 1.121-2.5 2.5v27c0 1.378 1.122 2.5 2.5 2.5h23c1.378 0 2.5-1.122 2.5-2.5v-19.5c0-0.448-0.137-1.23-1.319-2.841zM24.543 5.457c0.959 0.959 1.712 1.825 2.268 2.543h-4.811v-4.811c0.718 0.556 1.584 1.309 2.543 2.268zM28 29.5c0 0.271-0.229 0.5-0.5 0.5h-23c-0.271 0-0.5-0.229-0.5-0.5v-27c0-0.271 0.229-0.5 0.5-0.5 0 0 15.499-0 15.5 0v7c0 0.552 0.448 1 1 1h7v19.5z\"></path>\n",
       "<path d=\"M23 26h-14c-0.552 0-1-0.448-1-1s0.448-1 1-1h14c0.552 0 1 0.448 1 1s-0.448 1-1 1z\"></path>\n",
       "<path d=\"M23 22h-14c-0.552 0-1-0.448-1-1s0.448-1 1-1h14c0.552 0 1 0.448 1 1s-0.448 1-1 1z\"></path>\n",
       "<path d=\"M23 18h-14c-0.552 0-1-0.448-1-1s0.448-1 1-1h14c0.552 0 1 0.448 1 1s-0.448 1-1 1z\"></path>\n",
       "</symbol>\n",
       "</defs>\n",
       "</svg>\n",
       "<style>/* CSS stylesheet for displaying xarray objects in jupyterlab.\n",
       " *\n",
       " */\n",
       "\n",
       ":root {\n",
       "  --xr-font-color0: var(--jp-content-font-color0, rgba(0, 0, 0, 1));\n",
       "  --xr-font-color2: var(--jp-content-font-color2, rgba(0, 0, 0, 0.54));\n",
       "  --xr-font-color3: var(--jp-content-font-color3, rgba(0, 0, 0, 0.38));\n",
       "  --xr-border-color: var(--jp-border-color2, #e0e0e0);\n",
       "  --xr-disabled-color: var(--jp-layout-color3, #bdbdbd);\n",
       "  --xr-background-color: var(--jp-layout-color0, white);\n",
       "  --xr-background-color-row-even: var(--jp-layout-color1, white);\n",
       "  --xr-background-color-row-odd: var(--jp-layout-color2, #eeeeee);\n",
       "}\n",
       "\n",
       "html[theme=dark],\n",
       "body.vscode-dark {\n",
       "  --xr-font-color0: rgba(255, 255, 255, 1);\n",
       "  --xr-font-color2: rgba(255, 255, 255, 0.54);\n",
       "  --xr-font-color3: rgba(255, 255, 255, 0.38);\n",
       "  --xr-border-color: #1F1F1F;\n",
       "  --xr-disabled-color: #515151;\n",
       "  --xr-background-color: #111111;\n",
       "  --xr-background-color-row-even: #111111;\n",
       "  --xr-background-color-row-odd: #313131;\n",
       "}\n",
       "\n",
       ".xr-wrap {\n",
       "  display: block !important;\n",
       "  min-width: 300px;\n",
       "  max-width: 700px;\n",
       "}\n",
       "\n",
       ".xr-text-repr-fallback {\n",
       "  /* fallback to plain text repr when CSS is not injected (untrusted notebook) */\n",
       "  display: none;\n",
       "}\n",
       "\n",
       ".xr-header {\n",
       "  padding-top: 6px;\n",
       "  padding-bottom: 6px;\n",
       "  margin-bottom: 4px;\n",
       "  border-bottom: solid 1px var(--xr-border-color);\n",
       "}\n",
       "\n",
       ".xr-header > div,\n",
       ".xr-header > ul {\n",
       "  display: inline;\n",
       "  margin-top: 0;\n",
       "  margin-bottom: 0;\n",
       "}\n",
       "\n",
       ".xr-obj-type,\n",
       ".xr-array-name {\n",
       "  margin-left: 2px;\n",
       "  margin-right: 10px;\n",
       "}\n",
       "\n",
       ".xr-obj-type {\n",
       "  color: var(--xr-font-color2);\n",
       "}\n",
       "\n",
       ".xr-sections {\n",
       "  padding-left: 0 !important;\n",
       "  display: grid;\n",
       "  grid-template-columns: 150px auto auto 1fr 20px 20px;\n",
       "}\n",
       "\n",
       ".xr-section-item {\n",
       "  display: contents;\n",
       "}\n",
       "\n",
       ".xr-section-item input {\n",
       "  display: none;\n",
       "}\n",
       "\n",
       ".xr-section-item input + label {\n",
       "  color: var(--xr-disabled-color);\n",
       "}\n",
       "\n",
       ".xr-section-item input:enabled + label {\n",
       "  cursor: pointer;\n",
       "  color: var(--xr-font-color2);\n",
       "}\n",
       "\n",
       ".xr-section-item input:enabled + label:hover {\n",
       "  color: var(--xr-font-color0);\n",
       "}\n",
       "\n",
       ".xr-section-summary {\n",
       "  grid-column: 1;\n",
       "  color: var(--xr-font-color2);\n",
       "  font-weight: 500;\n",
       "}\n",
       "\n",
       ".xr-section-summary > span {\n",
       "  display: inline-block;\n",
       "  padding-left: 0.5em;\n",
       "}\n",
       "\n",
       ".xr-section-summary-in:disabled + label {\n",
       "  color: var(--xr-font-color2);\n",
       "}\n",
       "\n",
       ".xr-section-summary-in + label:before {\n",
       "  display: inline-block;\n",
       "  content: '►';\n",
       "  font-size: 11px;\n",
       "  width: 15px;\n",
       "  text-align: center;\n",
       "}\n",
       "\n",
       ".xr-section-summary-in:disabled + label:before {\n",
       "  color: var(--xr-disabled-color);\n",
       "}\n",
       "\n",
       ".xr-section-summary-in:checked + label:before {\n",
       "  content: '▼';\n",
       "}\n",
       "\n",
       ".xr-section-summary-in:checked + label > span {\n",
       "  display: none;\n",
       "}\n",
       "\n",
       ".xr-section-summary,\n",
       ".xr-section-inline-details {\n",
       "  padding-top: 4px;\n",
       "  padding-bottom: 4px;\n",
       "}\n",
       "\n",
       ".xr-section-inline-details {\n",
       "  grid-column: 2 / -1;\n",
       "}\n",
       "\n",
       ".xr-section-details {\n",
       "  display: none;\n",
       "  grid-column: 1 / -1;\n",
       "  margin-bottom: 5px;\n",
       "}\n",
       "\n",
       ".xr-section-summary-in:checked ~ .xr-section-details {\n",
       "  display: contents;\n",
       "}\n",
       "\n",
       ".xr-array-wrap {\n",
       "  grid-column: 1 / -1;\n",
       "  display: grid;\n",
       "  grid-template-columns: 20px auto;\n",
       "}\n",
       "\n",
       ".xr-array-wrap > label {\n",
       "  grid-column: 1;\n",
       "  vertical-align: top;\n",
       "}\n",
       "\n",
       ".xr-preview {\n",
       "  color: var(--xr-font-color3);\n",
       "}\n",
       "\n",
       ".xr-array-preview,\n",
       ".xr-array-data {\n",
       "  padding: 0 5px !important;\n",
       "  grid-column: 2;\n",
       "}\n",
       "\n",
       ".xr-array-data,\n",
       ".xr-array-in:checked ~ .xr-array-preview {\n",
       "  display: none;\n",
       "}\n",
       "\n",
       ".xr-array-in:checked ~ .xr-array-data,\n",
       ".xr-array-preview {\n",
       "  display: inline-block;\n",
       "}\n",
       "\n",
       ".xr-dim-list {\n",
       "  display: inline-block !important;\n",
       "  list-style: none;\n",
       "  padding: 0 !important;\n",
       "  margin: 0;\n",
       "}\n",
       "\n",
       ".xr-dim-list li {\n",
       "  display: inline-block;\n",
       "  padding: 0;\n",
       "  margin: 0;\n",
       "}\n",
       "\n",
       ".xr-dim-list:before {\n",
       "  content: '(';\n",
       "}\n",
       "\n",
       ".xr-dim-list:after {\n",
       "  content: ')';\n",
       "}\n",
       "\n",
       ".xr-dim-list li:not(:last-child):after {\n",
       "  content: ',';\n",
       "  padding-right: 5px;\n",
       "}\n",
       "\n",
       ".xr-has-index {\n",
       "  font-weight: bold;\n",
       "}\n",
       "\n",
       ".xr-var-list,\n",
       ".xr-var-item {\n",
       "  display: contents;\n",
       "}\n",
       "\n",
       ".xr-var-item > div,\n",
       ".xr-var-item label,\n",
       ".xr-var-item > .xr-var-name span {\n",
       "  background-color: var(--xr-background-color-row-even);\n",
       "  margin-bottom: 0;\n",
       "}\n",
       "\n",
       ".xr-var-item > .xr-var-name:hover span {\n",
       "  padding-right: 5px;\n",
       "}\n",
       "\n",
       ".xr-var-list > li:nth-child(odd) > div,\n",
       ".xr-var-list > li:nth-child(odd) > label,\n",
       ".xr-var-list > li:nth-child(odd) > .xr-var-name span {\n",
       "  background-color: var(--xr-background-color-row-odd);\n",
       "}\n",
       "\n",
       ".xr-var-name {\n",
       "  grid-column: 1;\n",
       "}\n",
       "\n",
       ".xr-var-dims {\n",
       "  grid-column: 2;\n",
       "}\n",
       "\n",
       ".xr-var-dtype {\n",
       "  grid-column: 3;\n",
       "  text-align: right;\n",
       "  color: var(--xr-font-color2);\n",
       "}\n",
       "\n",
       ".xr-var-preview {\n",
       "  grid-column: 4;\n",
       "}\n",
       "\n",
       ".xr-var-name,\n",
       ".xr-var-dims,\n",
       ".xr-var-dtype,\n",
       ".xr-preview,\n",
       ".xr-attrs dt {\n",
       "  white-space: nowrap;\n",
       "  overflow: hidden;\n",
       "  text-overflow: ellipsis;\n",
       "  padding-right: 10px;\n",
       "}\n",
       "\n",
       ".xr-var-name:hover,\n",
       ".xr-var-dims:hover,\n",
       ".xr-var-dtype:hover,\n",
       ".xr-attrs dt:hover {\n",
       "  overflow: visible;\n",
       "  width: auto;\n",
       "  z-index: 1;\n",
       "}\n",
       "\n",
       ".xr-var-attrs,\n",
       ".xr-var-data {\n",
       "  display: none;\n",
       "  background-color: var(--xr-background-color) !important;\n",
       "  padding-bottom: 5px !important;\n",
       "}\n",
       "\n",
       ".xr-var-attrs-in:checked ~ .xr-var-attrs,\n",
       ".xr-var-data-in:checked ~ .xr-var-data {\n",
       "  display: block;\n",
       "}\n",
       "\n",
       ".xr-var-data > table {\n",
       "  float: right;\n",
       "}\n",
       "\n",
       ".xr-var-name span,\n",
       ".xr-var-data,\n",
       ".xr-attrs {\n",
       "  padding-left: 25px !important;\n",
       "}\n",
       "\n",
       ".xr-attrs,\n",
       ".xr-var-attrs,\n",
       ".xr-var-data {\n",
       "  grid-column: 1 / -1;\n",
       "}\n",
       "\n",
       "dl.xr-attrs {\n",
       "  padding: 0;\n",
       "  margin: 0;\n",
       "  display: grid;\n",
       "  grid-template-columns: 125px auto;\n",
       "}\n",
       "\n",
       ".xr-attrs dt,\n",
       ".xr-attrs dd {\n",
       "  padding: 0;\n",
       "  margin: 0;\n",
       "  float: left;\n",
       "  padding-right: 10px;\n",
       "  width: auto;\n",
       "}\n",
       "\n",
       ".xr-attrs dt {\n",
       "  font-weight: normal;\n",
       "  grid-column: 1;\n",
       "}\n",
       "\n",
       ".xr-attrs dt:hover span {\n",
       "  display: inline-block;\n",
       "  background: var(--xr-background-color);\n",
       "  padding-right: 10px;\n",
       "}\n",
       "\n",
       ".xr-attrs dd {\n",
       "  grid-column: 2;\n",
       "  white-space: pre-wrap;\n",
       "  word-break: break-all;\n",
       "}\n",
       "\n",
       ".xr-icon-database,\n",
       ".xr-icon-file-text2 {\n",
       "  display: inline-block;\n",
       "  vertical-align: middle;\n",
       "  width: 1em;\n",
       "  height: 1.5em !important;\n",
       "  stroke-width: 0;\n",
       "  stroke: currentColor;\n",
       "  fill: currentColor;\n",
       "}\n",
       "</style><pre class='xr-text-repr-fallback'>&lt;xarray.DataArray &#x27;Budget&#x27; (Temperature: 11, Risk: 5)&gt;\n",
       "array([[ 634.110495,  671.221024,  707.899282,  761.045484,  857.918497],\n",
       "       [ 789.777361,  853.007516,  916.396367, 1008.943201, 1178.100428],\n",
       "       [ 945.444227, 1034.794008, 1124.893451, 1256.840919, 1498.282358],\n",
       "       [1101.111093, 1216.580501, 1333.390535, 1504.738637, 1818.464288],\n",
       "       [1256.777959, 1398.366993, 1541.88762 , 1752.636355, 2138.646219],\n",
       "       [1412.444826, 1580.153485, 1750.384704, 2000.534072, 2458.828149],\n",
       "       [1568.111692, 1761.939977, 1958.881788, 2248.43179 , 2779.010079],\n",
       "       [1723.778558, 1943.726469, 2167.378873, 2496.329508, 3099.19201 ],\n",
       "       [1879.445424, 2125.512962, 2375.875957, 2744.227225, 3419.37394 ],\n",
       "       [2035.11229 , 2307.299454, 2584.373041, 2992.124943, 3739.55587 ],\n",
       "       [2190.779156, 2489.085946, 2792.870125, 3240.022661, 4059.7378  ]])\n",
       "Coordinates:\n",
       "  * Risk         (Risk) float64 0.17 0.33 0.5 0.67 0.83\n",
       "  * Temperature  (Temperature) float64 1.4 1.5 1.6 1.7 1.8 ... 2.1 2.2 2.3 2.4</pre><div class='xr-wrap' style='display:none'><div class='xr-header'><div class='xr-obj-type'>xarray.DataArray</div><div class='xr-array-name'>'Budget'</div><ul class='xr-dim-list'><li><span class='xr-has-index'>Temperature</span>: 11</li><li><span class='xr-has-index'>Risk</span>: 5</li></ul></div><ul class='xr-sections'><li class='xr-section-item'><div class='xr-array-wrap'><input id='section-368304d9-7548-4a43-9af0-7abe0c48e529' class='xr-array-in' type='checkbox' checked><label for='section-368304d9-7548-4a43-9af0-7abe0c48e529' title='Show/hide data repr'><svg class='icon xr-icon-database'><use xlink:href='#icon-database'></use></svg></label><div class='xr-array-preview xr-preview'><span>634.1 671.2 707.9 761.0 ... 2.489e+03 2.793e+03 3.24e+03 4.06e+03</span></div><div class='xr-array-data'><pre>array([[ 634.110495,  671.221024,  707.899282,  761.045484,  857.918497],\n",
       "       [ 789.777361,  853.007516,  916.396367, 1008.943201, 1178.100428],\n",
       "       [ 945.444227, 1034.794008, 1124.893451, 1256.840919, 1498.282358],\n",
       "       [1101.111093, 1216.580501, 1333.390535, 1504.738637, 1818.464288],\n",
       "       [1256.777959, 1398.366993, 1541.88762 , 1752.636355, 2138.646219],\n",
       "       [1412.444826, 1580.153485, 1750.384704, 2000.534072, 2458.828149],\n",
       "       [1568.111692, 1761.939977, 1958.881788, 2248.43179 , 2779.010079],\n",
       "       [1723.778558, 1943.726469, 2167.378873, 2496.329508, 3099.19201 ],\n",
       "       [1879.445424, 2125.512962, 2375.875957, 2744.227225, 3419.37394 ],\n",
       "       [2035.11229 , 2307.299454, 2584.373041, 2992.124943, 3739.55587 ],\n",
       "       [2190.779156, 2489.085946, 2792.870125, 3240.022661, 4059.7378  ]])</pre></div></div></li><li class='xr-section-item'><input id='section-b9768dc6-8387-4768-878c-b74e8665a096' class='xr-section-summary-in' type='checkbox'  checked><label for='section-b9768dc6-8387-4768-878c-b74e8665a096' class='xr-section-summary' >Coordinates: <span>(2)</span></label><div class='xr-section-inline-details'></div><div class='xr-section-details'><ul class='xr-var-list'><li class='xr-var-item'><div class='xr-var-name'><span class='xr-has-index'>Risk</span></div><div class='xr-var-dims'>(Risk)</div><div class='xr-var-dtype'>float64</div><div class='xr-var-preview xr-preview'>0.17 0.33 0.5 0.67 0.83</div><input id='attrs-77673be5-7443-45b1-8e8b-b374881a88e1' class='xr-var-attrs-in' type='checkbox' disabled><label for='attrs-77673be5-7443-45b1-8e8b-b374881a88e1' title='Show/Hide attributes'><svg class='icon xr-icon-file-text2'><use xlink:href='#icon-file-text2'></use></svg></label><input id='data-156b41ed-f003-4624-a5c0-e3a00c2297a2' class='xr-var-data-in' type='checkbox'><label for='data-156b41ed-f003-4624-a5c0-e3a00c2297a2' title='Show/Hide data repr'><svg class='icon xr-icon-database'><use xlink:href='#icon-database'></use></svg></label><div class='xr-var-attrs'><dl class='xr-attrs'></dl></div><div class='xr-var-data'><pre>array([0.17, 0.33, 0.5 , 0.67, 0.83])</pre></div></li><li class='xr-var-item'><div class='xr-var-name'><span class='xr-has-index'>Temperature</span></div><div class='xr-var-dims'>(Temperature)</div><div class='xr-var-dtype'>float64</div><div class='xr-var-preview xr-preview'>1.4 1.5 1.6 1.7 ... 2.1 2.2 2.3 2.4</div><input id='attrs-38e11930-d448-4110-b7ff-1aa47345f10b' class='xr-var-attrs-in' type='checkbox' disabled><label for='attrs-38e11930-d448-4110-b7ff-1aa47345f10b' title='Show/Hide attributes'><svg class='icon xr-icon-file-text2'><use xlink:href='#icon-file-text2'></use></svg></label><input id='data-08d3939f-0ab8-4c0c-b4d2-99de2d40f6f5' class='xr-var-data-in' type='checkbox'><label for='data-08d3939f-0ab8-4c0c-b4d2-99de2d40f6f5' title='Show/Hide data repr'><svg class='icon xr-icon-database'><use xlink:href='#icon-database'></use></svg></label><div class='xr-var-attrs'><dl class='xr-attrs'></dl></div><div class='xr-var-data'><pre>array([1.4, 1.5, 1.6, 1.7, 1.8, 1.9, 2. , 2.1, 2.2, 2.3, 2.4])</pre></div></li></ul></div></li><li class='xr-section-item'><input id='section-3081aa25-c9bb-4e0d-b11f-39c53595effc' class='xr-section-summary-in' type='checkbox' disabled ><label for='section-3081aa25-c9bb-4e0d-b11f-39c53595effc' class='xr-section-summary'  title='Expand/collapse section'>Attributes: <span>(0)</span></label><div class='xr-section-inline-details'></div><div class='xr-section-details'><dl class='xr-attrs'></dl></div></li></ul></div></div>"
      ],
      "text/plain": [
       "<xarray.DataArray 'Budget' (Temperature: 11, Risk: 5)>\n",
       "array([[ 634.110495,  671.221024,  707.899282,  761.045484,  857.918497],\n",
       "       [ 789.777361,  853.007516,  916.396367, 1008.943201, 1178.100428],\n",
       "       [ 945.444227, 1034.794008, 1124.893451, 1256.840919, 1498.282358],\n",
       "       [1101.111093, 1216.580501, 1333.390535, 1504.738637, 1818.464288],\n",
       "       [1256.777959, 1398.366993, 1541.88762 , 1752.636355, 2138.646219],\n",
       "       [1412.444826, 1580.153485, 1750.384704, 2000.534072, 2458.828149],\n",
       "       [1568.111692, 1761.939977, 1958.881788, 2248.43179 , 2779.010079],\n",
       "       [1723.778558, 1943.726469, 2167.378873, 2496.329508, 3099.19201 ],\n",
       "       [1879.445424, 2125.512962, 2375.875957, 2744.227225, 3419.37394 ],\n",
       "       [2035.11229 , 2307.299454, 2584.373041, 2992.124943, 3739.55587 ],\n",
       "       [2190.779156, 2489.085946, 2792.870125, 3240.022661, 4059.7378  ]])\n",
       "Coordinates:\n",
       "  * Risk         (Risk) float64 0.17 0.33 0.5 0.67 0.83\n",
       "  * Temperature  (Temperature) float64 1.4 1.5 1.6 1.7 1.8 ... 2.1 2.2 2.3 2.4"
      ]
     },
     "execution_count": 6,
     "metadata": {},
     "output_type": "execute_result"
    }
   ],
   "source": [
    "xr_dataread.Budget"
   ]
  },
  {
   "cell_type": "code",
   "execution_count": 49,
   "metadata": {},
   "outputs": [
    {
     "data": {
      "application/vnd.plotly.v1+json": {
       "config": {
        "plotlyServerURL": "https://plotly.com"
       },
       "data": [
        {
         "line": {
          "color": "forestgreen"
         },
         "points": false,
         "showlegend": false,
         "type": "violin",
         "x": [
          "1.4&deg;C<br>(50-83%<br>probability)",
          "1.4&deg;C<br>(50-83%<br>probability)",
          "1.4&deg;C<br>(50-83%<br>probability)",
          "1.4&deg;C<br>(50-83%<br>probability)",
          "1.4&deg;C<br>(50-83%<br>probability)"
         ],
         "xaxis": "x",
         "y": [
          634.1104947955137,
          671.2210239611225,
          707.8992824457032,
          761.0454836687741,
          857.9184974822629
         ],
         "yaxis": "y"
        },
        {
         "line": {
          "color": "lightgreen"
         },
         "points": false,
         "showlegend": false,
         "type": "violin",
         "x": [
          "1.5&deg;C<br>(50-83%<br>probability)",
          "1.5&deg;C<br>(50-83%<br>probability)",
          "1.5&deg;C<br>(50-83%<br>probability)",
          "1.5&deg;C<br>(50-83%<br>probability)",
          "1.5&deg;C<br>(50-83%<br>probability)"
         ],
         "xaxis": "x",
         "y": [
          789.7773609475121,
          853.0075161546308,
          916.396366746138,
          1008.9432013912269,
          1178.1004277749907
         ],
         "yaxis": "y"
        },
        {
         "line": {
          "color": "goldenrod"
         },
         "points": false,
         "showlegend": false,
         "type": "violin",
         "x": [
          "1.7&deg;C<br>(50-83%<br>probability)",
          "1.7&deg;C<br>(50-83%<br>probability)",
          "1.7&deg;C<br>(50-83%<br>probability)",
          "1.7&deg;C<br>(50-83%<br>probability)",
          "1.7&deg;C<br>(50-83%<br>probability)"
         ],
         "xaxis": "x",
         "y": [
          1101.111093251508,
          1216.580500541647,
          1333.3905353470077,
          1504.7386368361335,
          1818.4642883604456
         ],
         "yaxis": "y"
        },
        {
         "line": {
          "color": "tomato"
         },
         "points": false,
         "showlegend": false,
         "type": "violin",
         "x": [
          "2.0&deg;C<br>(50-83%<br>probability)",
          "2.0&deg;C<br>(50-83%<br>probability)",
          "2.0&deg;C<br>(50-83%<br>probability)",
          "2.0&deg;C<br>(50-83%<br>probability)",
          "2.0&deg;C<br>(50-83%<br>probability)"
         ],
         "xaxis": "x",
         "y": [
          1568.1116917075024,
          1761.9399771221717,
          1958.8817882483122,
          2248.4317900034926,
          2779.0100792386284
         ],
         "yaxis": "y"
        },
        {
         "line": {
          "color": "darkred"
         },
         "points": false,
         "showlegend": false,
         "type": "violin",
         "x": [
          "2.3&deg;C<br>(50-83%<br>probability)",
          "2.3&deg;C<br>(50-83%<br>probability)",
          "2.3&deg;C<br>(50-83%<br>probability)",
          "2.3&deg;C<br>(50-83%<br>probability)",
          "2.3&deg;C<br>(50-83%<br>probability)"
         ],
         "xaxis": "x",
         "y": [
          2035.1122901634963,
          2307.299453702696,
          2584.373041149616,
          2992.1249431708516,
          3739.55587011681
         ],
         "yaxis": "y"
        },
        {
         "line": {
          "color": "lightgreen",
          "dash": "dot",
          "width": 0.75
         },
         "marker": {
          "size": 15
         },
         "mode": "lines+markers",
         "showlegend": false,
         "type": "scatter",
         "x": [
          "1.5&deg;C<br>(50-83%<br>probability)",
          "1.5&deg;C<br>(50-83%<br>probability)"
         ],
         "xaxis": "x",
         "y": [
          916.396366746138,
          916.396366746138
         ],
         "yaxis": "y"
        },
        {
         "line": {
          "color": "lightgreen",
          "width": 0.5
         },
         "mode": "text",
         "showlegend": false,
         "text": "<b>916</b> Gt CO<sub>2</sub>e",
         "textfont": {
          "color": "black",
          "size": 30
         },
         "textposition": "top center",
         "type": "scatter",
         "x": [
          "1.5&deg;C<br>(50-83%<br>probability)"
         ],
         "xaxis": "x",
         "y": [
          916.396366746138
         ],
         "yaxis": "y"
        },
        {
         "line": {
          "color": "tomato",
          "dash": "dot",
          "width": 0.75
         },
         "marker": {
          "size": 15
         },
         "mode": "lines+markers",
         "showlegend": false,
         "type": "scatter",
         "x": [
          "2.0&deg;C<br>(50-83%<br>probability)",
          "2.0&deg;C<br>(50-83%<br>probability)"
         ],
         "xaxis": "x",
         "y": [
          1761.9399771221717,
          1761.9399771221717
         ],
         "yaxis": "y"
        },
        {
         "line": {
          "color": "tomato",
          "width": 0.5
         },
         "mode": "text",
         "showlegend": false,
         "text": "<b>1762</b> Gt CO<sub>2</sub>e",
         "textfont": {
          "color": "black",
          "size": 30
         },
         "textposition": "top center",
         "type": "scatter",
         "x": [
          "2.0&deg;C<br>(50-83%<br>probability)"
         ],
         "xaxis": "x",
         "y": [
          1761.9399771221717
         ],
         "yaxis": "y"
        }
       ],
       "layout": {
        "height": 700,
        "legend": {
         "x": 1,
         "xanchor": "right",
         "y": 1,
         "yanchor": "top"
        },
        "template": {
         "data": {
          "bar": [
           {
            "error_x": {
             "color": "rgb(36,36,36)"
            },
            "error_y": {
             "color": "rgb(36,36,36)"
            },
            "marker": {
             "line": {
              "color": "white",
              "width": 0.5
             },
             "pattern": {
              "fillmode": "overlay",
              "size": 10,
              "solidity": 0.2
             }
            },
            "type": "bar"
           }
          ],
          "barpolar": [
           {
            "marker": {
             "line": {
              "color": "white",
              "width": 0.5
             },
             "pattern": {
              "fillmode": "overlay",
              "size": 10,
              "solidity": 0.2
             }
            },
            "type": "barpolar"
           }
          ],
          "carpet": [
           {
            "aaxis": {
             "endlinecolor": "rgb(36,36,36)",
             "gridcolor": "white",
             "linecolor": "white",
             "minorgridcolor": "white",
             "startlinecolor": "rgb(36,36,36)"
            },
            "baxis": {
             "endlinecolor": "rgb(36,36,36)",
             "gridcolor": "white",
             "linecolor": "white",
             "minorgridcolor": "white",
             "startlinecolor": "rgb(36,36,36)"
            },
            "type": "carpet"
           }
          ],
          "choropleth": [
           {
            "colorbar": {
             "outlinewidth": 1,
             "tickcolor": "rgb(36,36,36)",
             "ticks": "outside"
            },
            "type": "choropleth"
           }
          ],
          "contour": [
           {
            "colorbar": {
             "outlinewidth": 1,
             "tickcolor": "rgb(36,36,36)",
             "ticks": "outside"
            },
            "colorscale": [
             [
              0,
              "#440154"
             ],
             [
              0.1111111111111111,
              "#482878"
             ],
             [
              0.2222222222222222,
              "#3e4989"
             ],
             [
              0.3333333333333333,
              "#31688e"
             ],
             [
              0.4444444444444444,
              "#26828e"
             ],
             [
              0.5555555555555556,
              "#1f9e89"
             ],
             [
              0.6666666666666666,
              "#35b779"
             ],
             [
              0.7777777777777778,
              "#6ece58"
             ],
             [
              0.8888888888888888,
              "#b5de2b"
             ],
             [
              1,
              "#fde725"
             ]
            ],
            "type": "contour"
           }
          ],
          "contourcarpet": [
           {
            "colorbar": {
             "outlinewidth": 1,
             "tickcolor": "rgb(36,36,36)",
             "ticks": "outside"
            },
            "type": "contourcarpet"
           }
          ],
          "heatmap": [
           {
            "colorbar": {
             "outlinewidth": 1,
             "tickcolor": "rgb(36,36,36)",
             "ticks": "outside"
            },
            "colorscale": [
             [
              0,
              "#440154"
             ],
             [
              0.1111111111111111,
              "#482878"
             ],
             [
              0.2222222222222222,
              "#3e4989"
             ],
             [
              0.3333333333333333,
              "#31688e"
             ],
             [
              0.4444444444444444,
              "#26828e"
             ],
             [
              0.5555555555555556,
              "#1f9e89"
             ],
             [
              0.6666666666666666,
              "#35b779"
             ],
             [
              0.7777777777777778,
              "#6ece58"
             ],
             [
              0.8888888888888888,
              "#b5de2b"
             ],
             [
              1,
              "#fde725"
             ]
            ],
            "type": "heatmap"
           }
          ],
          "heatmapgl": [
           {
            "colorbar": {
             "outlinewidth": 1,
             "tickcolor": "rgb(36,36,36)",
             "ticks": "outside"
            },
            "colorscale": [
             [
              0,
              "#440154"
             ],
             [
              0.1111111111111111,
              "#482878"
             ],
             [
              0.2222222222222222,
              "#3e4989"
             ],
             [
              0.3333333333333333,
              "#31688e"
             ],
             [
              0.4444444444444444,
              "#26828e"
             ],
             [
              0.5555555555555556,
              "#1f9e89"
             ],
             [
              0.6666666666666666,
              "#35b779"
             ],
             [
              0.7777777777777778,
              "#6ece58"
             ],
             [
              0.8888888888888888,
              "#b5de2b"
             ],
             [
              1,
              "#fde725"
             ]
            ],
            "type": "heatmapgl"
           }
          ],
          "histogram": [
           {
            "marker": {
             "line": {
              "color": "white",
              "width": 0.6
             }
            },
            "type": "histogram"
           }
          ],
          "histogram2d": [
           {
            "colorbar": {
             "outlinewidth": 1,
             "tickcolor": "rgb(36,36,36)",
             "ticks": "outside"
            },
            "colorscale": [
             [
              0,
              "#440154"
             ],
             [
              0.1111111111111111,
              "#482878"
             ],
             [
              0.2222222222222222,
              "#3e4989"
             ],
             [
              0.3333333333333333,
              "#31688e"
             ],
             [
              0.4444444444444444,
              "#26828e"
             ],
             [
              0.5555555555555556,
              "#1f9e89"
             ],
             [
              0.6666666666666666,
              "#35b779"
             ],
             [
              0.7777777777777778,
              "#6ece58"
             ],
             [
              0.8888888888888888,
              "#b5de2b"
             ],
             [
              1,
              "#fde725"
             ]
            ],
            "type": "histogram2d"
           }
          ],
          "histogram2dcontour": [
           {
            "colorbar": {
             "outlinewidth": 1,
             "tickcolor": "rgb(36,36,36)",
             "ticks": "outside"
            },
            "colorscale": [
             [
              0,
              "#440154"
             ],
             [
              0.1111111111111111,
              "#482878"
             ],
             [
              0.2222222222222222,
              "#3e4989"
             ],
             [
              0.3333333333333333,
              "#31688e"
             ],
             [
              0.4444444444444444,
              "#26828e"
             ],
             [
              0.5555555555555556,
              "#1f9e89"
             ],
             [
              0.6666666666666666,
              "#35b779"
             ],
             [
              0.7777777777777778,
              "#6ece58"
             ],
             [
              0.8888888888888888,
              "#b5de2b"
             ],
             [
              1,
              "#fde725"
             ]
            ],
            "type": "histogram2dcontour"
           }
          ],
          "mesh3d": [
           {
            "colorbar": {
             "outlinewidth": 1,
             "tickcolor": "rgb(36,36,36)",
             "ticks": "outside"
            },
            "type": "mesh3d"
           }
          ],
          "parcoords": [
           {
            "line": {
             "colorbar": {
              "outlinewidth": 1,
              "tickcolor": "rgb(36,36,36)",
              "ticks": "outside"
             }
            },
            "type": "parcoords"
           }
          ],
          "pie": [
           {
            "automargin": true,
            "type": "pie"
           }
          ],
          "scatter": [
           {
            "fillpattern": {
             "fillmode": "overlay",
             "size": 10,
             "solidity": 0.2
            },
            "type": "scatter"
           }
          ],
          "scatter3d": [
           {
            "line": {
             "colorbar": {
              "outlinewidth": 1,
              "tickcolor": "rgb(36,36,36)",
              "ticks": "outside"
             }
            },
            "marker": {
             "colorbar": {
              "outlinewidth": 1,
              "tickcolor": "rgb(36,36,36)",
              "ticks": "outside"
             }
            },
            "type": "scatter3d"
           }
          ],
          "scattercarpet": [
           {
            "marker": {
             "colorbar": {
              "outlinewidth": 1,
              "tickcolor": "rgb(36,36,36)",
              "ticks": "outside"
             }
            },
            "type": "scattercarpet"
           }
          ],
          "scattergeo": [
           {
            "marker": {
             "colorbar": {
              "outlinewidth": 1,
              "tickcolor": "rgb(36,36,36)",
              "ticks": "outside"
             }
            },
            "type": "scattergeo"
           }
          ],
          "scattergl": [
           {
            "marker": {
             "colorbar": {
              "outlinewidth": 1,
              "tickcolor": "rgb(36,36,36)",
              "ticks": "outside"
             }
            },
            "type": "scattergl"
           }
          ],
          "scattermapbox": [
           {
            "marker": {
             "colorbar": {
              "outlinewidth": 1,
              "tickcolor": "rgb(36,36,36)",
              "ticks": "outside"
             }
            },
            "type": "scattermapbox"
           }
          ],
          "scatterpolar": [
           {
            "marker": {
             "colorbar": {
              "outlinewidth": 1,
              "tickcolor": "rgb(36,36,36)",
              "ticks": "outside"
             }
            },
            "type": "scatterpolar"
           }
          ],
          "scatterpolargl": [
           {
            "marker": {
             "colorbar": {
              "outlinewidth": 1,
              "tickcolor": "rgb(36,36,36)",
              "ticks": "outside"
             }
            },
            "type": "scatterpolargl"
           }
          ],
          "scatterternary": [
           {
            "marker": {
             "colorbar": {
              "outlinewidth": 1,
              "tickcolor": "rgb(36,36,36)",
              "ticks": "outside"
             }
            },
            "type": "scatterternary"
           }
          ],
          "surface": [
           {
            "colorbar": {
             "outlinewidth": 1,
             "tickcolor": "rgb(36,36,36)",
             "ticks": "outside"
            },
            "colorscale": [
             [
              0,
              "#440154"
             ],
             [
              0.1111111111111111,
              "#482878"
             ],
             [
              0.2222222222222222,
              "#3e4989"
             ],
             [
              0.3333333333333333,
              "#31688e"
             ],
             [
              0.4444444444444444,
              "#26828e"
             ],
             [
              0.5555555555555556,
              "#1f9e89"
             ],
             [
              0.6666666666666666,
              "#35b779"
             ],
             [
              0.7777777777777778,
              "#6ece58"
             ],
             [
              0.8888888888888888,
              "#b5de2b"
             ],
             [
              1,
              "#fde725"
             ]
            ],
            "type": "surface"
           }
          ],
          "table": [
           {
            "cells": {
             "fill": {
              "color": "rgb(237,237,237)"
             },
             "line": {
              "color": "white"
             }
            },
            "header": {
             "fill": {
              "color": "rgb(217,217,217)"
             },
             "line": {
              "color": "white"
             }
            },
            "type": "table"
           }
          ]
         },
         "layout": {
          "annotationdefaults": {
           "arrowhead": 0,
           "arrowwidth": 1
          },
          "autotypenumbers": "strict",
          "coloraxis": {
           "colorbar": {
            "outlinewidth": 1,
            "tickcolor": "rgb(36,36,36)",
            "ticks": "outside"
           }
          },
          "colorscale": {
           "diverging": [
            [
             0,
             "rgb(103,0,31)"
            ],
            [
             0.1,
             "rgb(178,24,43)"
            ],
            [
             0.2,
             "rgb(214,96,77)"
            ],
            [
             0.3,
             "rgb(244,165,130)"
            ],
            [
             0.4,
             "rgb(253,219,199)"
            ],
            [
             0.5,
             "rgb(247,247,247)"
            ],
            [
             0.6,
             "rgb(209,229,240)"
            ],
            [
             0.7,
             "rgb(146,197,222)"
            ],
            [
             0.8,
             "rgb(67,147,195)"
            ],
            [
             0.9,
             "rgb(33,102,172)"
            ],
            [
             1,
             "rgb(5,48,97)"
            ]
           ],
           "sequential": [
            [
             0,
             "#440154"
            ],
            [
             0.1111111111111111,
             "#482878"
            ],
            [
             0.2222222222222222,
             "#3e4989"
            ],
            [
             0.3333333333333333,
             "#31688e"
            ],
            [
             0.4444444444444444,
             "#26828e"
            ],
            [
             0.5555555555555556,
             "#1f9e89"
            ],
            [
             0.6666666666666666,
             "#35b779"
            ],
            [
             0.7777777777777778,
             "#6ece58"
            ],
            [
             0.8888888888888888,
             "#b5de2b"
            ],
            [
             1,
             "#fde725"
            ]
           ],
           "sequentialminus": [
            [
             0,
             "#440154"
            ],
            [
             0.1111111111111111,
             "#482878"
            ],
            [
             0.2222222222222222,
             "#3e4989"
            ],
            [
             0.3333333333333333,
             "#31688e"
            ],
            [
             0.4444444444444444,
             "#26828e"
            ],
            [
             0.5555555555555556,
             "#1f9e89"
            ],
            [
             0.6666666666666666,
             "#35b779"
            ],
            [
             0.7777777777777778,
             "#6ece58"
            ],
            [
             0.8888888888888888,
             "#b5de2b"
            ],
            [
             1,
             "#fde725"
            ]
           ]
          },
          "colorway": [
           "#1F77B4",
           "#FF7F0E",
           "#2CA02C",
           "#D62728",
           "#9467BD",
           "#8C564B",
           "#E377C2",
           "#7F7F7F",
           "#BCBD22",
           "#17BECF"
          ],
          "font": {
           "color": "rgb(36,36,36)"
          },
          "geo": {
           "bgcolor": "white",
           "lakecolor": "white",
           "landcolor": "white",
           "showlakes": true,
           "showland": true,
           "subunitcolor": "white"
          },
          "hoverlabel": {
           "align": "left"
          },
          "hovermode": "closest",
          "mapbox": {
           "style": "light"
          },
          "paper_bgcolor": "white",
          "plot_bgcolor": "white",
          "polar": {
           "angularaxis": {
            "gridcolor": "rgb(232,232,232)",
            "linecolor": "rgb(36,36,36)",
            "showgrid": false,
            "showline": true,
            "ticks": "outside"
           },
           "bgcolor": "white",
           "radialaxis": {
            "gridcolor": "rgb(232,232,232)",
            "linecolor": "rgb(36,36,36)",
            "showgrid": false,
            "showline": true,
            "ticks": "outside"
           }
          },
          "scene": {
           "xaxis": {
            "backgroundcolor": "white",
            "gridcolor": "rgb(232,232,232)",
            "gridwidth": 2,
            "linecolor": "rgb(36,36,36)",
            "showbackground": true,
            "showgrid": false,
            "showline": true,
            "ticks": "outside",
            "zeroline": false,
            "zerolinecolor": "rgb(36,36,36)"
           },
           "yaxis": {
            "backgroundcolor": "white",
            "gridcolor": "rgb(232,232,232)",
            "gridwidth": 2,
            "linecolor": "rgb(36,36,36)",
            "showbackground": true,
            "showgrid": false,
            "showline": true,
            "ticks": "outside",
            "zeroline": false,
            "zerolinecolor": "rgb(36,36,36)"
           },
           "zaxis": {
            "backgroundcolor": "white",
            "gridcolor": "rgb(232,232,232)",
            "gridwidth": 2,
            "linecolor": "rgb(36,36,36)",
            "showbackground": true,
            "showgrid": false,
            "showline": true,
            "ticks": "outside",
            "zeroline": false,
            "zerolinecolor": "rgb(36,36,36)"
           }
          },
          "shapedefaults": {
           "fillcolor": "black",
           "line": {
            "width": 0
           },
           "opacity": 0.3
          },
          "ternary": {
           "aaxis": {
            "gridcolor": "rgb(232,232,232)",
            "linecolor": "rgb(36,36,36)",
            "showgrid": false,
            "showline": true,
            "ticks": "outside"
           },
           "baxis": {
            "gridcolor": "rgb(232,232,232)",
            "linecolor": "rgb(36,36,36)",
            "showgrid": false,
            "showline": true,
            "ticks": "outside"
           },
           "bgcolor": "white",
           "caxis": {
            "gridcolor": "rgb(232,232,232)",
            "linecolor": "rgb(36,36,36)",
            "showgrid": false,
            "showline": true,
            "ticks": "outside"
           }
          },
          "title": {
           "x": 0.05
          },
          "xaxis": {
           "automargin": true,
           "gridcolor": "rgb(232,232,232)",
           "linecolor": "rgb(36,36,36)",
           "showgrid": false,
           "showline": true,
           "ticks": "outside",
           "title": {
            "standoff": 15
           },
           "zeroline": false,
           "zerolinecolor": "rgb(36,36,36)"
          },
          "yaxis": {
           "automargin": true,
           "gridcolor": "rgb(232,232,232)",
           "linecolor": "rgb(36,36,36)",
           "showgrid": false,
           "showline": true,
           "ticks": "outside",
           "title": {
            "standoff": 15
           },
           "zeroline": false,
           "zerolinecolor": "rgb(36,36,36)"
          }
         }
        },
        "width": 1500,
        "xaxis": {
         "anchor": "y",
         "domain": [
          0,
          1
         ],
         "tickfont": {
          "size": 25
         }
        },
        "yaxis": {
         "anchor": "x",
         "domain": [
          0,
          1
         ],
         "range": [
          0,
          5000
         ],
         "tickfont": {
          "size": 25
         },
         "title": {
          "font": {
           "size": 25
          },
          "text": "Global GHG budget (Gt CO<sub>2</sub>e)<br>between 2021-2100"
         }
        }
       }
      }
     },
     "metadata": {},
     "output_type": "display_data"
    }
   ],
   "source": [
    "fig = make_subplots(rows=1, cols=1,\n",
    "                    horizontal_spacing = 0.07, vertical_spacing=0.06)\n",
    "\n",
    "for T_i, T in enumerate([1.4, 1.5, 1.7, 2.0, 2.3]):\n",
    "    vals = np.array(xr_dataread.Budget.sel(Temperature=T)).flatten()\n",
    "    # fig.add_traces(go.Violin(x=[str(T)+\"&deg;C<br>(50-83%<br>probability)\"]*len(vals),\n",
    "    #                         y=vals,\n",
    "    #                         showlegend=False,\n",
    "    #                         points=False,\n",
    "    #                         opacity=0.3,\n",
    "    #                         line_color=['forestgreen', 'lightgreen', 'goldenrod', 'tomato', 'darkred'][T_i]), 1, 1\n",
    "    #                 )\n",
    "    # vals = np.array(xr_dataread.Budget.sel(Temperature=T)).flatten()\n",
    "    # fig.add_traces(go.Violin(x=[str(T)+\"&deg;C<br>(50-83%<br>probability)\"]*len(vals),\n",
    "    #                         y=vals,\n",
    "    #                         showlegend=False,\n",
    "    #                         points=False,\n",
    "    #                         opacity=0.3,\n",
    "    #                         line_color=['forestgreen', 'lightgreen', 'goldenrod', 'tomato', 'darkred'][T_i]), 1, 1\n",
    "    #                 )\n",
    "    vals = np.array(xr_dataread.Budget.sel(Temperature=T)).flatten()\n",
    "    fig.add_traces(go.Violin(x=[str(T)+\"&deg;C<br>(50-83%<br>probability)\"]*len(vals),\n",
    "                            y=vals,\n",
    "                            showlegend=False,\n",
    "                            points=False,\n",
    "                            line_color=['forestgreen', 'lightgreen', 'goldenrod', 'tomato', 'darkred'][T_i]), 1, 1\n",
    "                    )\n",
    "for i in range(2):\n",
    "    temp = [1.5, 2.0][i]\n",
    "    risk = [0.5, 0.33][i]\n",
    "    val = float(xr_dataread.Budget.sel(Temperature=temp, Risk=risk))\n",
    "    fig.add_traces(go.Scatter(x=[str(temp)+\"&deg;C<br>(50-83%<br>probability)\", str(temp)+\"&deg;C<br>(50-83%<br>probability)\"],\n",
    "                            y=[val, val],\n",
    "                            line={'color': ['lightgreen', 'tomato'][i], 'width': 0.75, 'dash':'dot'},\n",
    "                            marker={'size': 15},\n",
    "                            mode='lines+markers',\n",
    "                            showlegend=False), 1, 1\n",
    "            )\n",
    "    fig.add_traces(go.Scatter(x=[str(temp)+\"&deg;C<br>(50-83%<br>probability)\"],\n",
    "                            y=[val],\n",
    "                            text=\"<b>\"+str(int(np.round(val, 0)))+'</b> Gt CO<sub>2</sub>e',\n",
    "                            line={'color': ['lightgreen', 'tomato'][i], 'width': 0.5},\n",
    "                            textfont={'color': 'black', 'size': 30},\n",
    "                            textposition='top center',\n",
    "                            mode='text',\n",
    "                            showlegend=False), 1, 1\n",
    "            )\n",
    "    \n",
    "fig.update_layout(height=700, width=1500, template='simple_white')\n",
    "fig.update_layout(\n",
    "    yaxis=dict(tickfont=dict(size=25), title='Global GHG budget (Gt CO<sub>2</sub>e)<br>between 2021-2100', titlefont=dict(size=25)),\n",
    "    xaxis=dict(tickfont=dict(size=25))\n",
    ")\n",
    "fig.update_yaxes(range=(0, 5000))\n",
    "fig.update_layout(legend=dict(x=1, y=1, xanchor='right', yanchor='top'))\n",
    "fig.show()\n",
    "fig.write_image(\"X:/user/dekkerm/Projects/ECEMF_T5.2/Figures/Presentations/GlobalBudgets.png\", scale=3)"
   ]
  }
 ],
 "metadata": {
  "kernelspec": {
   "display_name": "MyEnv",
   "language": "python",
   "name": "python3"
  },
  "language_info": {
   "codemirror_mode": {
    "name": "ipython",
    "version": 3
   },
   "file_extension": ".py",
   "mimetype": "text/x-python",
   "name": "python",
   "nbconvert_exporter": "python",
   "pygments_lexer": "ipython3",
   "version": "3.9.18"
  },
  "orig_nbformat": 4
 },
 "nbformat": 4,
 "nbformat_minor": 2
}
