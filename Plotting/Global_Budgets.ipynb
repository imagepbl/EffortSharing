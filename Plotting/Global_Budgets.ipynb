{
 "cells": [
  {
   "cell_type": "markdown",
   "metadata": {},
   "source": [
    "## Preambule"
   ]
  },
  {
   "cell_type": "code",
   "execution_count": 2,
   "metadata": {},
   "outputs": [],
   "source": [
    "import numpy as np\n",
    "import pandas as pd\n",
    "import xarray as xr\n",
    "\n",
    "# Plotting\n",
    "import matplotlib.pyplot as plt\n",
    "import plotly.express as px\n",
    "import plotly.graph_objects as go\n",
    "from plotly.subplots import make_subplots\n",
    "from plotly.colors import n_colors"
   ]
  },
  {
   "cell_type": "markdown",
   "metadata": {},
   "source": [
    "## Input"
   ]
  },
  {
   "cell_type": "code",
   "execution_count": 3,
   "metadata": {},
   "outputs": [],
   "source": [
    "rules_b = ['GF', 'PC', 'PCC', 'AP', 'GDR', 'ECPC']\n",
    "rules_a = ['GF', 'PC', 'PCC', 'AP', 'GDR']"
   ]
  },
  {
   "cell_type": "markdown",
   "metadata": {},
   "source": [
    "## Read data"
   ]
  },
  {
   "cell_type": "code",
   "execution_count": 4,
   "metadata": {},
   "outputs": [],
   "source": [
    "xr_dataread = xr.open_dataset(\"K:/ECEMF/T5.2/xr_dataread.nc\")\n",
    "#xr_2030 = xr.open_dataset(\"X:/user/dekkerm/Projects/ECEMF_T5.2/Data/xr_alloc_2030.nc\")"
   ]
  },
  {
   "cell_type": "code",
   "execution_count": 5,
   "metadata": {},
   "outputs": [],
   "source": [
    "df_eng = pd.read_csv('X:/user/dekkerm/Data/ENGAGE/PolicyScenarios/engage-internal_snapshot_1695642798.csv')\n",
    "df_eng = df_eng[df_eng.Variable == 'Emissions|CO2']\n",
    "df_eng = df_eng.reset_index(drop=True)\n",
    "regions_df = np.array(df_eng.Region)\n",
    "regions_df[regions_df == \"Argentine Republic\"] = 'ARG'\n",
    "regions_df[regions_df == \"Canada\"] = 'CAN'\n",
    "regions_df[regions_df == \"Commonwealth of Australia\"] = 'AUS'\n",
    "regions_df[regions_df == \"Federative Republic of Brazil\"] = 'BRA'\n",
    "regions_df[regions_df == \"People's Repulic of China\"] = 'CHN'\n",
    "regions_df[regions_df == \"European Union (28 member countries)\"] = 'EU'\n",
    "regions_df[regions_df == \"Republic of India\"] = 'IND'\n",
    "regions_df[regions_df == \"Republic of Indonesia\"] = 'IDN'\n",
    "regions_df[regions_df == \"State of Japan\"] = 'JPN'\n",
    "regions_df[regions_df == \"Russian Federation\"] = 'RUS'\n",
    "regions_df[regions_df == \"Kingdom of Saudi Arabia\"] = 'SAU'\n",
    "regions_df[regions_df == \"Republic of South Africa\"] = 'ZAF'\n",
    "regions_df[regions_df == \"Republic of Korea (South Korea)\"] = 'KOR'\n",
    "regions_df[regions_df == \"United Mexican States\"] = 'MEX'\n",
    "regions_df[regions_df == \"Republic of Turkey\"] = 'TUR'\n",
    "regions_df[regions_df == \"United States of America\"] = 'USA'\n",
    "regions_df[regions_df == \"Viet Nam \"] = 'VNM'\n",
    "df_eng.Region = regions_df"
   ]
  },
  {
   "cell_type": "code",
   "execution_count": 6,
   "metadata": {},
   "outputs": [],
   "source": [
    "curpol = \"GP_CurPol_T45\"\n",
    "ndc = \"GP_NDC2030_T45\"\n",
    "nz = \"GP_Glasgow\"\n",
    "df_eng_ref = df_eng[['Model', 'Scenario', 'Region']+list(df_eng.keys()[5:])]\n",
    "df_eng_ref = df_eng_ref[df_eng_ref.Scenario.isin([curpol, ndc, nz])]\n",
    "scen = np.array(df_eng_ref.Scenario)\n",
    "scen[scen == ndc] = 'NDC'\n",
    "scen[scen == curpol] = 'CurPol'\n",
    "scen[scen == nz] = 'NetZero'\n",
    "reg = np.array(df_eng_ref.Region)\n",
    "reg[reg == 'World'] = 'WORLD'\n",
    "df_eng_ref['Scenario'] = scen\n",
    "df_eng_ref['Region'] = reg\n",
    "dummy = df_eng_ref.melt(id_vars=[\"Scenario\", \"Model\", \"Region\"], var_name=\"Time\", value_name=\"Value\")\n",
    "dummy['Time'] = np.array(dummy['Time'].astype(int))\n",
    "dummy = dummy.set_index([\"Scenario\", \"Model\", \"Region\", \"Time\"])\n",
    "xr_eng = xr.Dataset.from_dataframe(dummy)\n",
    "xr_eng = xr_eng.reindex(Time = np.arange(1850, 2101))\n",
    "xr_eng = xr_eng.interpolate_na(dim=\"Time\", method=\"linear\")"
   ]
  },
  {
   "cell_type": "markdown",
   "metadata": {},
   "source": [
    "## Total budgets - globe"
   ]
  },
  {
   "cell_type": "code",
   "execution_count": 7,
   "metadata": {},
   "outputs": [
    {
     "data": {
      "application/vnd.plotly.v1+json": {
       "config": {
        "plotlyServerURL": "https://plotly.com"
       },
       "data": [
        {
         "line": {
          "color": "forestgreen"
         },
         "points": false,
         "showlegend": false,
         "type": "violin",
         "x": [
          "1.4&deg;C<br>(50-83%<br>probability)",
          "1.4&deg;C<br>(50-83%<br>probability)",
          "1.4&deg;C<br>(50-83%<br>probability)",
          "1.4&deg;C<br>(50-83%<br>probability)",
          "1.4&deg;C<br>(50-83%<br>probability)"
         ],
         "xaxis": "x",
         "y": [
          49.62160758982736,
          86.73213675543502,
          123.41039524001644,
          176.55659646308686,
          273.4296102765752
         ],
         "yaxis": "y"
        },
        {
         "line": {
          "color": "lightgreen"
         },
         "points": false,
         "showlegend": false,
         "type": "violin",
         "x": [
          "1.5&deg;C<br>(50-83%<br>probability)",
          "1.5&deg;C<br>(50-83%<br>probability)",
          "1.5&deg;C<br>(50-83%<br>probability)",
          "1.5&deg;C<br>(50-83%<br>probability)",
          "1.5&deg;C<br>(50-83%<br>probability)"
         ],
         "xaxis": "x",
         "y": [
          184.03208117370036,
          247.2622363808182,
          310.6510869723261,
          403.1979216174145,
          572.3551480011779
         ],
         "yaxis": "y"
        },
        {
         "line": {
          "color": "goldenrod"
         },
         "points": false,
         "showlegend": false,
         "type": "violin",
         "x": [
          "1.7&deg;C<br>(50-83%<br>probability)",
          "1.7&deg;C<br>(50-83%<br>probability)",
          "1.7&deg;C<br>(50-83%<br>probability)",
          "1.7&deg;C<br>(50-83%<br>probability)",
          "1.7&deg;C<br>(50-83%<br>probability)"
         ],
         "xaxis": "x",
         "y": [
          452.8530283414459,
          568.3224356315845,
          685.1324704369449,
          856.4805719260703,
          1170.2062234503824
         ],
         "yaxis": "y"
        },
        {
         "line": {
          "color": "tomato"
         },
         "points": false,
         "showlegend": false,
         "type": "violin",
         "x": [
          "2.0&deg;C<br>(50-83%<br>probability)",
          "2.0&deg;C<br>(50-83%<br>probability)",
          "2.0&deg;C<br>(50-83%<br>probability)",
          "2.0&deg;C<br>(50-83%<br>probability)",
          "2.0&deg;C<br>(50-83%<br>probability)"
         ],
         "xaxis": "x",
         "y": [
          856.0844490930642,
          1049.9127345077336,
          1246.8545456338734,
          1536.4045473890542,
          2066.9828366241895
         ],
         "yaxis": "y"
        },
        {
         "line": {
          "color": "darkred"
         },
         "points": false,
         "showlegend": false,
         "type": "violin",
         "x": [
          "2.3&deg;C<br>(50-83%<br>probability)",
          "2.3&deg;C<br>(50-83%<br>probability)",
          "2.3&deg;C<br>(50-83%<br>probability)",
          "2.3&deg;C<br>(50-83%<br>probability)",
          "2.3&deg;C<br>(50-83%<br>probability)"
         ],
         "xaxis": "x",
         "y": [
          1259.315869844682,
          1531.5030333838822,
          1808.5766208308019,
          2216.3285228520376,
          2963.7594497979967
         ],
         "yaxis": "y"
        },
        {
         "line": {
          "color": "lightgreen",
          "dash": "dot",
          "width": 0.75
         },
         "marker": {
          "size": 15
         },
         "mode": "lines+markers",
         "showlegend": false,
         "type": "scatter",
         "x": [
          "1.5&deg;C<br>(50-83%<br>probability)",
          "1.5&deg;C<br>(50-83%<br>probability)"
         ],
         "xaxis": "x",
         "y": [
          310.6510869723261,
          310.6510869723261
         ],
         "yaxis": "y"
        },
        {
         "line": {
          "color": "lightgreen",
          "width": 0.5
         },
         "mode": "text",
         "showlegend": false,
         "text": "<b>311</b> Gt CO<sub>2</sub>e",
         "textfont": {
          "color": "black",
          "size": 30
         },
         "textposition": "top center",
         "type": "scatter",
         "x": [
          "1.5&deg;C<br>(50-83%<br>probability)"
         ],
         "xaxis": "x",
         "y": [
          310.6510869723261
         ],
         "yaxis": "y"
        },
        {
         "line": {
          "color": "tomato",
          "dash": "dot",
          "width": 0.75
         },
         "marker": {
          "size": 15
         },
         "mode": "lines+markers",
         "showlegend": false,
         "type": "scatter",
         "x": [
          "2.0&deg;C<br>(50-83%<br>probability)",
          "2.0&deg;C<br>(50-83%<br>probability)"
         ],
         "xaxis": "x",
         "y": [
          1049.9127345077336,
          1049.9127345077336
         ],
         "yaxis": "y"
        },
        {
         "line": {
          "color": "tomato",
          "width": 0.5
         },
         "mode": "text",
         "showlegend": false,
         "text": "<b>1050</b> Gt CO<sub>2</sub>e",
         "textfont": {
          "color": "black",
          "size": 30
         },
         "textposition": "top center",
         "type": "scatter",
         "x": [
          "2.0&deg;C<br>(50-83%<br>probability)"
         ],
         "xaxis": "x",
         "y": [
          1049.9127345077336
         ],
         "yaxis": "y"
        }
       ],
       "layout": {
        "height": 700,
        "legend": {
         "x": 1,
         "xanchor": "right",
         "y": 1,
         "yanchor": "top"
        },
        "template": {
         "data": {
          "bar": [
           {
            "error_x": {
             "color": "rgb(36,36,36)"
            },
            "error_y": {
             "color": "rgb(36,36,36)"
            },
            "marker": {
             "line": {
              "color": "white",
              "width": 0.5
             },
             "pattern": {
              "fillmode": "overlay",
              "size": 10,
              "solidity": 0.2
             }
            },
            "type": "bar"
           }
          ],
          "barpolar": [
           {
            "marker": {
             "line": {
              "color": "white",
              "width": 0.5
             },
             "pattern": {
              "fillmode": "overlay",
              "size": 10,
              "solidity": 0.2
             }
            },
            "type": "barpolar"
           }
          ],
          "carpet": [
           {
            "aaxis": {
             "endlinecolor": "rgb(36,36,36)",
             "gridcolor": "white",
             "linecolor": "white",
             "minorgridcolor": "white",
             "startlinecolor": "rgb(36,36,36)"
            },
            "baxis": {
             "endlinecolor": "rgb(36,36,36)",
             "gridcolor": "white",
             "linecolor": "white",
             "minorgridcolor": "white",
             "startlinecolor": "rgb(36,36,36)"
            },
            "type": "carpet"
           }
          ],
          "choropleth": [
           {
            "colorbar": {
             "outlinewidth": 1,
             "tickcolor": "rgb(36,36,36)",
             "ticks": "outside"
            },
            "type": "choropleth"
           }
          ],
          "contour": [
           {
            "colorbar": {
             "outlinewidth": 1,
             "tickcolor": "rgb(36,36,36)",
             "ticks": "outside"
            },
            "colorscale": [
             [
              0,
              "#440154"
             ],
             [
              0.1111111111111111,
              "#482878"
             ],
             [
              0.2222222222222222,
              "#3e4989"
             ],
             [
              0.3333333333333333,
              "#31688e"
             ],
             [
              0.4444444444444444,
              "#26828e"
             ],
             [
              0.5555555555555556,
              "#1f9e89"
             ],
             [
              0.6666666666666666,
              "#35b779"
             ],
             [
              0.7777777777777778,
              "#6ece58"
             ],
             [
              0.8888888888888888,
              "#b5de2b"
             ],
             [
              1,
              "#fde725"
             ]
            ],
            "type": "contour"
           }
          ],
          "contourcarpet": [
           {
            "colorbar": {
             "outlinewidth": 1,
             "tickcolor": "rgb(36,36,36)",
             "ticks": "outside"
            },
            "type": "contourcarpet"
           }
          ],
          "heatmap": [
           {
            "colorbar": {
             "outlinewidth": 1,
             "tickcolor": "rgb(36,36,36)",
             "ticks": "outside"
            },
            "colorscale": [
             [
              0,
              "#440154"
             ],
             [
              0.1111111111111111,
              "#482878"
             ],
             [
              0.2222222222222222,
              "#3e4989"
             ],
             [
              0.3333333333333333,
              "#31688e"
             ],
             [
              0.4444444444444444,
              "#26828e"
             ],
             [
              0.5555555555555556,
              "#1f9e89"
             ],
             [
              0.6666666666666666,
              "#35b779"
             ],
             [
              0.7777777777777778,
              "#6ece58"
             ],
             [
              0.8888888888888888,
              "#b5de2b"
             ],
             [
              1,
              "#fde725"
             ]
            ],
            "type": "heatmap"
           }
          ],
          "heatmapgl": [
           {
            "colorbar": {
             "outlinewidth": 1,
             "tickcolor": "rgb(36,36,36)",
             "ticks": "outside"
            },
            "colorscale": [
             [
              0,
              "#440154"
             ],
             [
              0.1111111111111111,
              "#482878"
             ],
             [
              0.2222222222222222,
              "#3e4989"
             ],
             [
              0.3333333333333333,
              "#31688e"
             ],
             [
              0.4444444444444444,
              "#26828e"
             ],
             [
              0.5555555555555556,
              "#1f9e89"
             ],
             [
              0.6666666666666666,
              "#35b779"
             ],
             [
              0.7777777777777778,
              "#6ece58"
             ],
             [
              0.8888888888888888,
              "#b5de2b"
             ],
             [
              1,
              "#fde725"
             ]
            ],
            "type": "heatmapgl"
           }
          ],
          "histogram": [
           {
            "marker": {
             "line": {
              "color": "white",
              "width": 0.6
             }
            },
            "type": "histogram"
           }
          ],
          "histogram2d": [
           {
            "colorbar": {
             "outlinewidth": 1,
             "tickcolor": "rgb(36,36,36)",
             "ticks": "outside"
            },
            "colorscale": [
             [
              0,
              "#440154"
             ],
             [
              0.1111111111111111,
              "#482878"
             ],
             [
              0.2222222222222222,
              "#3e4989"
             ],
             [
              0.3333333333333333,
              "#31688e"
             ],
             [
              0.4444444444444444,
              "#26828e"
             ],
             [
              0.5555555555555556,
              "#1f9e89"
             ],
             [
              0.6666666666666666,
              "#35b779"
             ],
             [
              0.7777777777777778,
              "#6ece58"
             ],
             [
              0.8888888888888888,
              "#b5de2b"
             ],
             [
              1,
              "#fde725"
             ]
            ],
            "type": "histogram2d"
           }
          ],
          "histogram2dcontour": [
           {
            "colorbar": {
             "outlinewidth": 1,
             "tickcolor": "rgb(36,36,36)",
             "ticks": "outside"
            },
            "colorscale": [
             [
              0,
              "#440154"
             ],
             [
              0.1111111111111111,
              "#482878"
             ],
             [
              0.2222222222222222,
              "#3e4989"
             ],
             [
              0.3333333333333333,
              "#31688e"
             ],
             [
              0.4444444444444444,
              "#26828e"
             ],
             [
              0.5555555555555556,
              "#1f9e89"
             ],
             [
              0.6666666666666666,
              "#35b779"
             ],
             [
              0.7777777777777778,
              "#6ece58"
             ],
             [
              0.8888888888888888,
              "#b5de2b"
             ],
             [
              1,
              "#fde725"
             ]
            ],
            "type": "histogram2dcontour"
           }
          ],
          "mesh3d": [
           {
            "colorbar": {
             "outlinewidth": 1,
             "tickcolor": "rgb(36,36,36)",
             "ticks": "outside"
            },
            "type": "mesh3d"
           }
          ],
          "parcoords": [
           {
            "line": {
             "colorbar": {
              "outlinewidth": 1,
              "tickcolor": "rgb(36,36,36)",
              "ticks": "outside"
             }
            },
            "type": "parcoords"
           }
          ],
          "pie": [
           {
            "automargin": true,
            "type": "pie"
           }
          ],
          "scatter": [
           {
            "fillpattern": {
             "fillmode": "overlay",
             "size": 10,
             "solidity": 0.2
            },
            "type": "scatter"
           }
          ],
          "scatter3d": [
           {
            "line": {
             "colorbar": {
              "outlinewidth": 1,
              "tickcolor": "rgb(36,36,36)",
              "ticks": "outside"
             }
            },
            "marker": {
             "colorbar": {
              "outlinewidth": 1,
              "tickcolor": "rgb(36,36,36)",
              "ticks": "outside"
             }
            },
            "type": "scatter3d"
           }
          ],
          "scattercarpet": [
           {
            "marker": {
             "colorbar": {
              "outlinewidth": 1,
              "tickcolor": "rgb(36,36,36)",
              "ticks": "outside"
             }
            },
            "type": "scattercarpet"
           }
          ],
          "scattergeo": [
           {
            "marker": {
             "colorbar": {
              "outlinewidth": 1,
              "tickcolor": "rgb(36,36,36)",
              "ticks": "outside"
             }
            },
            "type": "scattergeo"
           }
          ],
          "scattergl": [
           {
            "marker": {
             "colorbar": {
              "outlinewidth": 1,
              "tickcolor": "rgb(36,36,36)",
              "ticks": "outside"
             }
            },
            "type": "scattergl"
           }
          ],
          "scattermapbox": [
           {
            "marker": {
             "colorbar": {
              "outlinewidth": 1,
              "tickcolor": "rgb(36,36,36)",
              "ticks": "outside"
             }
            },
            "type": "scattermapbox"
           }
          ],
          "scatterpolar": [
           {
            "marker": {
             "colorbar": {
              "outlinewidth": 1,
              "tickcolor": "rgb(36,36,36)",
              "ticks": "outside"
             }
            },
            "type": "scatterpolar"
           }
          ],
          "scatterpolargl": [
           {
            "marker": {
             "colorbar": {
              "outlinewidth": 1,
              "tickcolor": "rgb(36,36,36)",
              "ticks": "outside"
             }
            },
            "type": "scatterpolargl"
           }
          ],
          "scatterternary": [
           {
            "marker": {
             "colorbar": {
              "outlinewidth": 1,
              "tickcolor": "rgb(36,36,36)",
              "ticks": "outside"
             }
            },
            "type": "scatterternary"
           }
          ],
          "surface": [
           {
            "colorbar": {
             "outlinewidth": 1,
             "tickcolor": "rgb(36,36,36)",
             "ticks": "outside"
            },
            "colorscale": [
             [
              0,
              "#440154"
             ],
             [
              0.1111111111111111,
              "#482878"
             ],
             [
              0.2222222222222222,
              "#3e4989"
             ],
             [
              0.3333333333333333,
              "#31688e"
             ],
             [
              0.4444444444444444,
              "#26828e"
             ],
             [
              0.5555555555555556,
              "#1f9e89"
             ],
             [
              0.6666666666666666,
              "#35b779"
             ],
             [
              0.7777777777777778,
              "#6ece58"
             ],
             [
              0.8888888888888888,
              "#b5de2b"
             ],
             [
              1,
              "#fde725"
             ]
            ],
            "type": "surface"
           }
          ],
          "table": [
           {
            "cells": {
             "fill": {
              "color": "rgb(237,237,237)"
             },
             "line": {
              "color": "white"
             }
            },
            "header": {
             "fill": {
              "color": "rgb(217,217,217)"
             },
             "line": {
              "color": "white"
             }
            },
            "type": "table"
           }
          ]
         },
         "layout": {
          "annotationdefaults": {
           "arrowhead": 0,
           "arrowwidth": 1
          },
          "autotypenumbers": "strict",
          "coloraxis": {
           "colorbar": {
            "outlinewidth": 1,
            "tickcolor": "rgb(36,36,36)",
            "ticks": "outside"
           }
          },
          "colorscale": {
           "diverging": [
            [
             0,
             "rgb(103,0,31)"
            ],
            [
             0.1,
             "rgb(178,24,43)"
            ],
            [
             0.2,
             "rgb(214,96,77)"
            ],
            [
             0.3,
             "rgb(244,165,130)"
            ],
            [
             0.4,
             "rgb(253,219,199)"
            ],
            [
             0.5,
             "rgb(247,247,247)"
            ],
            [
             0.6,
             "rgb(209,229,240)"
            ],
            [
             0.7,
             "rgb(146,197,222)"
            ],
            [
             0.8,
             "rgb(67,147,195)"
            ],
            [
             0.9,
             "rgb(33,102,172)"
            ],
            [
             1,
             "rgb(5,48,97)"
            ]
           ],
           "sequential": [
            [
             0,
             "#440154"
            ],
            [
             0.1111111111111111,
             "#482878"
            ],
            [
             0.2222222222222222,
             "#3e4989"
            ],
            [
             0.3333333333333333,
             "#31688e"
            ],
            [
             0.4444444444444444,
             "#26828e"
            ],
            [
             0.5555555555555556,
             "#1f9e89"
            ],
            [
             0.6666666666666666,
             "#35b779"
            ],
            [
             0.7777777777777778,
             "#6ece58"
            ],
            [
             0.8888888888888888,
             "#b5de2b"
            ],
            [
             1,
             "#fde725"
            ]
           ],
           "sequentialminus": [
            [
             0,
             "#440154"
            ],
            [
             0.1111111111111111,
             "#482878"
            ],
            [
             0.2222222222222222,
             "#3e4989"
            ],
            [
             0.3333333333333333,
             "#31688e"
            ],
            [
             0.4444444444444444,
             "#26828e"
            ],
            [
             0.5555555555555556,
             "#1f9e89"
            ],
            [
             0.6666666666666666,
             "#35b779"
            ],
            [
             0.7777777777777778,
             "#6ece58"
            ],
            [
             0.8888888888888888,
             "#b5de2b"
            ],
            [
             1,
             "#fde725"
            ]
           ]
          },
          "colorway": [
           "#1F77B4",
           "#FF7F0E",
           "#2CA02C",
           "#D62728",
           "#9467BD",
           "#8C564B",
           "#E377C2",
           "#7F7F7F",
           "#BCBD22",
           "#17BECF"
          ],
          "font": {
           "color": "rgb(36,36,36)"
          },
          "geo": {
           "bgcolor": "white",
           "lakecolor": "white",
           "landcolor": "white",
           "showlakes": true,
           "showland": true,
           "subunitcolor": "white"
          },
          "hoverlabel": {
           "align": "left"
          },
          "hovermode": "closest",
          "mapbox": {
           "style": "light"
          },
          "paper_bgcolor": "white",
          "plot_bgcolor": "white",
          "polar": {
           "angularaxis": {
            "gridcolor": "rgb(232,232,232)",
            "linecolor": "rgb(36,36,36)",
            "showgrid": false,
            "showline": true,
            "ticks": "outside"
           },
           "bgcolor": "white",
           "radialaxis": {
            "gridcolor": "rgb(232,232,232)",
            "linecolor": "rgb(36,36,36)",
            "showgrid": false,
            "showline": true,
            "ticks": "outside"
           }
          },
          "scene": {
           "xaxis": {
            "backgroundcolor": "white",
            "gridcolor": "rgb(232,232,232)",
            "gridwidth": 2,
            "linecolor": "rgb(36,36,36)",
            "showbackground": true,
            "showgrid": false,
            "showline": true,
            "ticks": "outside",
            "zeroline": false,
            "zerolinecolor": "rgb(36,36,36)"
           },
           "yaxis": {
            "backgroundcolor": "white",
            "gridcolor": "rgb(232,232,232)",
            "gridwidth": 2,
            "linecolor": "rgb(36,36,36)",
            "showbackground": true,
            "showgrid": false,
            "showline": true,
            "ticks": "outside",
            "zeroline": false,
            "zerolinecolor": "rgb(36,36,36)"
           },
           "zaxis": {
            "backgroundcolor": "white",
            "gridcolor": "rgb(232,232,232)",
            "gridwidth": 2,
            "linecolor": "rgb(36,36,36)",
            "showbackground": true,
            "showgrid": false,
            "showline": true,
            "ticks": "outside",
            "zeroline": false,
            "zerolinecolor": "rgb(36,36,36)"
           }
          },
          "shapedefaults": {
           "fillcolor": "black",
           "line": {
            "width": 0
           },
           "opacity": 0.3
          },
          "ternary": {
           "aaxis": {
            "gridcolor": "rgb(232,232,232)",
            "linecolor": "rgb(36,36,36)",
            "showgrid": false,
            "showline": true,
            "ticks": "outside"
           },
           "baxis": {
            "gridcolor": "rgb(232,232,232)",
            "linecolor": "rgb(36,36,36)",
            "showgrid": false,
            "showline": true,
            "ticks": "outside"
           },
           "bgcolor": "white",
           "caxis": {
            "gridcolor": "rgb(232,232,232)",
            "linecolor": "rgb(36,36,36)",
            "showgrid": false,
            "showline": true,
            "ticks": "outside"
           }
          },
          "title": {
           "x": 0.05
          },
          "xaxis": {
           "automargin": true,
           "gridcolor": "rgb(232,232,232)",
           "linecolor": "rgb(36,36,36)",
           "showgrid": false,
           "showline": true,
           "ticks": "outside",
           "title": {
            "standoff": 15
           },
           "zeroline": false,
           "zerolinecolor": "rgb(36,36,36)"
          },
          "yaxis": {
           "automargin": true,
           "gridcolor": "rgb(232,232,232)",
           "linecolor": "rgb(36,36,36)",
           "showgrid": false,
           "showline": true,
           "ticks": "outside",
           "title": {
            "standoff": 15
           },
           "zeroline": false,
           "zerolinecolor": "rgb(36,36,36)"
          }
         }
        },
        "width": 1500,
        "xaxis": {
         "anchor": "y",
         "domain": [
          0,
          1
         ],
         "tickfont": {
          "size": 25
         }
        },
        "yaxis": {
         "anchor": "x",
         "domain": [
          0,
          1
         ],
         "range": [
          0,
          4000
         ],
         "tickfont": {
          "size": 25
         },
         "title": {
          "font": {
           "size": 25
          },
          "text": "Global CO<sub>2</sub> budget (Gt CO<sub>2</sub>)<br>between 2021-2100"
         }
        }
       }
      }
     },
     "metadata": {},
     "output_type": "display_data"
    }
   ],
   "source": [
    "fig = make_subplots(rows=1, cols=1,\n",
    "                    horizontal_spacing = 0.07, vertical_spacing=0.06)\n",
    "\n",
    "for T_i, T in enumerate([1.4, 1.5, 1.7, 2.0, 2.3]):\n",
    "    vals = np.array(xr_dataread.Budget.sel(Temperature=T)).flatten()\n",
    "    # fig.add_traces(go.Violin(x=[str(T)+\"&deg;C<br>(50-83%<br>probability)\"]*len(vals),\n",
    "    #                         y=vals,\n",
    "    #                         showlegend=False,\n",
    "    #                         points=False,\n",
    "    #                         opacity=0.3,\n",
    "    #                         line_color=['forestgreen', 'lightgreen', 'goldenrod', 'tomato', 'darkred'][T_i]), 1, 1\n",
    "    #                 )\n",
    "    # vals = np.array(xr_dataread.Budget.sel(Temperature=T)).flatten()\n",
    "    # fig.add_traces(go.Violin(x=[str(T)+\"&deg;C<br>(50-83%<br>probability)\"]*len(vals),\n",
    "    #                         y=vals,\n",
    "    #                         showlegend=False,\n",
    "    #                         points=False,\n",
    "    #                         opacity=0.3,\n",
    "    #                         line_color=['forestgreen', 'lightgreen', 'goldenrod', 'tomato', 'darkred'][T_i]), 1, 1\n",
    "    #                 )\n",
    "    vals = np.array(xr_dataread.Budget.sel(Temperature=T)).flatten()\n",
    "    fig.add_traces(go.Violin(x=[str(T)+\"&deg;C<br>(50-83%<br>probability)\"]*len(vals),\n",
    "                            y=vals,\n",
    "                            showlegend=False,\n",
    "                            points=False,\n",
    "                            line_color=['forestgreen', 'lightgreen', 'goldenrod', 'tomato', 'darkred'][T_i]), 1, 1\n",
    "                    )\n",
    "for i in range(2):\n",
    "    temp = [1.5, 2.0][i]\n",
    "    risk = [0.5, 0.33][i]\n",
    "    val = float(xr_dataread.Budget.sel(Temperature=temp, Risk=risk))\n",
    "    fig.add_traces(go.Scatter(x=[str(temp)+\"&deg;C<br>(50-83%<br>probability)\", str(temp)+\"&deg;C<br>(50-83%<br>probability)\"],\n",
    "                            y=[val, val],\n",
    "                            line={'color': ['lightgreen', 'tomato'][i], 'width': 0.75, 'dash':'dot'},\n",
    "                            marker={'size': 15},\n",
    "                            mode='lines+markers',\n",
    "                            showlegend=False), 1, 1\n",
    "            )\n",
    "    fig.add_traces(go.Scatter(x=[str(temp)+\"&deg;C<br>(50-83%<br>probability)\"],\n",
    "                            y=[val],\n",
    "                            text=\"<b>\"+str(int(np.round(val, 0)))+'</b> Gt CO<sub>2</sub>e',\n",
    "                            line={'color': ['lightgreen', 'tomato'][i], 'width': 0.5},\n",
    "                            textfont={'color': 'black', 'size': 30},\n",
    "                            textposition='top center',\n",
    "                            mode='text',\n",
    "                            showlegend=False), 1, 1\n",
    "            )\n",
    "\n",
    "fig.update_layout(height=700, width=1500, template='simple_white')\n",
    "fig.update_layout(\n",
    "    yaxis=dict(tickfont=dict(size=25), title='Global CO<sub>2</sub> budget (Gt CO<sub>2</sub>)<br>between 2021-2100', titlefont=dict(size=25)),\n",
    "    xaxis=dict(tickfont=dict(size=25))\n",
    ")\n",
    "fig.update_yaxes(range=(0, 4000))\n",
    "fig.update_layout(legend=dict(x=1, y=1, xanchor='right', yanchor='top'))\n",
    "fig.show()\n",
    "fig.write_image(\"X:/user/dekkerm/Projects/ECEMF_T5.2/Figures/Presentations/GlobalBudgets.png\", scale=3)"
   ]
  }
 ],
 "metadata": {
  "kernelspec": {
   "display_name": "MyEnv",
   "language": "python",
   "name": "python3"
  },
  "language_info": {
   "codemirror_mode": {
    "name": "ipython",
    "version": 3
   },
   "file_extension": ".py",
   "mimetype": "text/x-python",
   "name": "python",
   "nbconvert_exporter": "python",
   "pygments_lexer": "ipython3",
   "version": "3.9.18"
  },
  "orig_nbformat": 4
 },
 "nbformat": 4,
 "nbformat_minor": 2
}
