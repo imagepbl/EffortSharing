{
 "cells": [
  {
   "cell_type": "markdown",
   "metadata": {},
   "source": [
    "## Preambule"
   ]
  },
  {
   "cell_type": "code",
   "execution_count": 1,
   "metadata": {},
   "outputs": [],
   "source": [
    "import numpy as np\n",
    "from tqdm import tqdm\n",
    "from importlib import reload\n",
    "import xarray as xr\n",
    "import pandas as pd\n",
    "import scipy\n",
    "from scipy.optimize import curve_fit\n",
    "from scipy.signal import savgol_filter\n",
    "import warnings\n",
    "warnings.simplefilter(action='ignore', category=FutureWarning)\n",
    "\n",
    "# Sobol analysis\n",
    "from SALib.sample import saltelli\n",
    "from SALib.analyze import sobol\n",
    "from SALib.test_functions import Ishigami\n",
    "\n",
    "# Plotting\n",
    "import matplotlib.pyplot as plt\n",
    "import plotly.express as px\n",
    "import plotly.graph_objects as go\n",
    "from plotly.subplots import make_subplots\n",
    "from plotly.colors import n_colors"
   ]
  },
  {
   "cell_type": "markdown",
   "metadata": {},
   "source": [
    "## Read stuff"
   ]
  },
  {
   "cell_type": "code",
   "execution_count": 2,
   "metadata": {},
   "outputs": [],
   "source": [
    "path_data = \"K:/Data/Data_EffortSharing/DataUpdate_ongoing/startyear_2021/\""
   ]
  },
  {
   "cell_type": "code",
   "execution_count": 3,
   "metadata": {},
   "outputs": [],
   "source": [
    "xr_dataread = xr.open_dataset(path_data + \"xr_dataread.nc\")\n",
    "xr_sobol = xr.open_dataset(path_data + \"xr_sobol_GHG_incl.nc\").sel(Time = np.arange(2030, 2101, 5))\n",
    "all_countries_iso = np.load(path_data + \"../all_countries.npy\", allow_pickle=True)\n",
    "all_countries_name = np.load(path_data + \"../all_countries_names.npy\", allow_pickle=True)\n",
    "all_regions_iso = np.load(path_data + \"../all_regions.npy\", allow_pickle=True)"
   ]
  },
  {
   "cell_type": "markdown",
   "metadata": {},
   "source": [
    "## Process stuff"
   ]
  },
  {
   "cell_type": "code",
   "execution_count": 4,
   "metadata": {},
   "outputs": [],
   "source": [
    "dim_unc_globe = ['Temperature', 'Timing', 'NegEmis', 'NonCO2red']\n",
    "dim_unc_fairness = ['variable', 'Convergence_year', 'Historical_startyear', 'Discount_factor'] \n",
    "dim_unc_choices = ['Scenario', 'Risk']\n",
    "\n",
    "vals = np.zeros(shape=(3, len(xr_sobol.Time), len(all_countries_iso)))\n",
    "for dim_i, dim in enumerate([dim_unc_globe, dim_unc_fairness, dim_unc_choices]):\n",
    "    vals[dim_i] = np.array(xr_sobol.sel(Factor = dim, Region=all_countries_iso).sum(dim='Factor').to_array())[0]"
   ]
  },
  {
   "cell_type": "code",
   "execution_count": 5,
   "metadata": {},
   "outputs": [
    {
     "name": "stdout",
     "output_type": "stream",
     "text": [
      "variable 0.6901496764478833\n",
      "Convergence_year 0.04387610889999087\n",
      "NegEmis 0.0001880146398985111\n",
      "NonCO2red 0.0007496002974108348\n",
      "Temperature 0.04602311816694988\n",
      "Risk 0.0023601013231541114\n",
      "Timing 0.00013204835633679615\n",
      "Scenario 0.00045931535904828954\n",
      "Discount_factor 0.13307165180792\n",
      "Historical_startyear 0.08299036470140754\n"
     ]
    }
   ],
   "source": [
    "for factor in np.array(xr_sobol.Factor):\n",
    "    print(factor, float(xr_sobol.sel(Time=2040, Region='USA', Factor=factor).Sobol_index))\n",
    "\n",
    "factors = ['variable', 'Discount_factor', 'Historical_startyear', 'Convergence_year',\n",
    "           'Risk', 'Scenario',\n",
    "           'Temperature', 'NonCO2red',  'Timing', 'NegEmis']\n",
    "factor_names = ['Allocation rule', 'Discount factor', 'Historical startyear', 'Convergence year', \n",
    "                 'Climate sensitivity','Socio-economic scenario', \n",
    "                'Peak temperature', 'Non-CO<sub>2</sub> reduction',  'Timing of action', 'Negative emissions']\n",
    "\n",
    "# factors = ['variable', 'Convergence_year', 'NegEmis', 'NonCO2red',\n",
    "#             'Temperature', 'Risk', 'Timing', 'Scenario', 'Discount_factor',\n",
    "#             'Historical_startyear']\n",
    "\n",
    "# factor_names = ['Allocation rule', 'Convergence year', 'Negative emissions', 'Non-CO<sub>2</sub> reduction', \n",
    "#                 'Peak temperature', 'Climate sensitivity', 'Timing of action', 'Socio-economic scenario', 'Discount factor', 'Historical startyear', \n",
    "#                 ]\n",
    "\n",
    "factor_colors = ['goldenrod', 'salmon', 'tomato', 'darkred', \n",
    "                  'dodgerblue', 'steelblue', 'forestgreen',\n",
    "                 'lightgreen', 'yellowgreen', 'lawngreen']"
   ]
  },
  {
   "cell_type": "code",
   "execution_count": 6,
   "metadata": {},
   "outputs": [
    {
     "data": {
      "text/plain": [
       "(3, 15, 197)"
      ]
     },
     "execution_count": 6,
     "metadata": {},
     "output_type": "execute_result"
    }
   ],
   "source": [
    "vals.shape"
   ]
  },
  {
   "cell_type": "code",
   "execution_count": 7,
   "metadata": {},
   "outputs": [],
   "source": [
    "mins = np.nanmin(vals, axis=2)\n",
    "maxs = np.nanmin(vals, axis=2)\n",
    "mins = (np.array(mins)*100).round(0).astype(int).astype(str)\n",
    "maxs = (np.array(maxs)*100).round(0).astype(int).astype(str)"
   ]
  },
  {
   "cell_type": "code",
   "execution_count": 26,
   "metadata": {},
   "outputs": [],
   "source": [
    "regions_highlight = ['USA', 'CHN', 'IND', 'BRA', 'NGA', 'ZAF', 'MEX']\n",
    "df_regions = pd.read_csv(\"X:/user/dekkerm/Data/AllCountries.csv\")\n",
    "continents = []\n",
    "bubblecolors = []\n",
    "texts = []\n",
    "cmap = plt.cm.PuRd\n",
    "for cty_i, cty in enumerate(all_countries_iso):\n",
    "    if cty == 'USA':\n",
    "        col = cmap(0.6)\n",
    "        #bubblecolors.append('rgba({},{},{}, {})'.format(int(col[0]*255), int(col[1]*255), int(col[2]*255), 1))\n",
    "        bubblecolors.append('navy')\n",
    "        texts.append(cty)\n",
    "    elif cty == 'IND':\n",
    "        col = cmap(0.7)\n",
    "        #bubblecolors.append('rgba({},{},{}, {})'.format(int(col[0]*255), int(col[1]*255), int(col[2]*255), 1))\n",
    "        bubblecolors.append('orange')\n",
    "        texts.append(cty)\n",
    "    elif cty == 'BRA':\n",
    "        col = cmap(0.8)\n",
    "        #bubblecolors.append('rgba({},{},{}, {})'.format(int(col[0]*255), int(col[1]*255), int(col[2]*255), 1))\n",
    "        bubblecolors.append('green')\n",
    "        texts.append(cty)\n",
    "    elif cty == 'CHN':\n",
    "        col = cmap(0.9)\n",
    "        #bubblecolors.append('rgba({},{},{}, {})'.format(int(col[0]*255), int(col[1]*255), int(col[2]*255), 1))\n",
    "        bubblecolors.append('red')\n",
    "        texts.append(cty)\n",
    "    elif cty == 'MEX':\n",
    "        col = cmap(0.9)\n",
    "        #bubblecolors.append('rgba({},{},{}, {})'.format(int(col[0]*255), int(col[1]*255), int(col[2]*255), 1))\n",
    "        bubblecolors.append('dodgerblue')\n",
    "        texts.append(cty)\n",
    "    elif cty == 'NGA':\n",
    "        col = cmap(0.99)\n",
    "        #bubblecolors.append('rgba({},{},{}, {})'.format(int(col[0]*255), int(col[1]*255), int(col[2]*255), 1))\n",
    "        bubblecolors.append('purple')\n",
    "        texts.append(cty)\n",
    "    elif cty == 'ZAF':\n",
    "        col = cmap(0.99)\n",
    "        #bubblecolors.append('rgba({},{},{}, {})'.format(int(col[0]*255), int(col[1]*255), int(col[2]*255), 1))\n",
    "        bubblecolors.append('chocolate')\n",
    "        texts.append(cty)\n",
    "    else:\n",
    "        bubblecolors.append('silver')\n",
    "        texts.append('')\n",
    "continents = np.array(continents)\n",
    "bubblecolors = np.array(bubblecolors)\n",
    "texts = np.array(texts)\n",
    "\n",
    "pops = np.array(xr_dataread.Population.sel(Region=all_countries_iso, Time=2020, Scenario='SSP2'))\n",
    "pops[np.isnan(pops)] = 1\n",
    "pops_n = pops/np.nanmax(pops)"
   ]
  },
  {
   "cell_type": "code",
   "execution_count": 14,
   "metadata": {},
   "outputs": [],
   "source": [
    "def clean_data(data_in):\n",
    "    \"\"\"\n",
    "    Cleans data in a format which can be conveniently\n",
    "    used for drawing traces. Takes a dictionary as the\n",
    "    input, and returns a list in the following format:\n",
    "\n",
    "    input = {'key': ['a b c']}\n",
    "    output = [key, [a, b, c]]\n",
    "    \"\"\"\n",
    "    key = list(data_in.keys())[0]\n",
    "    data_out = [key]\n",
    "    for i in data_in[key]:\n",
    "        data_out.append(list(map(float, i.split(' '))))\n",
    "\n",
    "    return data_out\n",
    "conts = []\n",
    "for i in np.arange(35, 51, 5):\n",
    "    conts.append({str(i): [str(i) +' '+str(i)+' '+str(100-2*i),\n",
    "                  str(i) +' '+str(100-2*i)+' '+str(i),\n",
    "                  str(100-2*i) +' '+str(i)+' '+str(i)]})\n",
    "for i in np.arange(55, 101, 5):\n",
    "    i0 = str(i)\n",
    "    i1 = str(100-i)\n",
    "    conts.append({str(i): [i0+' '+i1+' 0',\n",
    "                            i0+' 0 '+i1,\n",
    "                            i1+' 0 '+i0,\n",
    "                            '0 '+i1+' '+i0,\n",
    "                            '0 '+i0+' '+i1,\n",
    "                            i1+' '+i0+' 0',\n",
    "                            i0+' '+i1+' 0']})\n",
    "conts2 = []\n",
    "for i in np.arange(35, 51, 5):\n",
    "    conts2.append({str(i): [str(i) +' '+str(i)+' '+str(100-2*i),\n",
    "                  str(i) +' '+str(100-2*i)+' '+str(i),\n",
    "                  str(100-2*i) +' '+str(i)+' '+str(i)]})\n",
    "for x in np.arange(55, 101, 5):\n",
    "    conts2.append({str(i): [str(x)+' '+'0'+' '+str(100-x),\n",
    "                               str(x-5)+' '+'0'+' '+str(100-(x-5)),\n",
    "                               str(x-5)+' '+str(100-(x-5))+' '+'0',\n",
    "                               str(x)+' '+str(100-x)+' '+'0',\n",
    "                               str(x)+' '+'0'+' '+str(100-x)\n",
    "                                ]})\n",
    "    conts2.append({str(i): ['0'+' '+str(100-x)+' '+str(x),\n",
    "                               '0'+' '+str(100-(x-5))+' '+str(x-5),\n",
    "                               str(100-(x-5))+' '+'0'+' '+str(x-5),\n",
    "                               str(100-x)+' '+'0'+' '+str(x),\n",
    "                               '0'+' '+str(100-x)+' '+str(x)\n",
    "                                ]})\n",
    "    conts2.append({str(i): [str(100-x)+' '+str(x)+' '+'0',\n",
    "                               str(100-(x-5))+' '+str(x-5)+' '+'0',\n",
    "                               '0'+' '+str(x-5)+' '+str(100-(x-5)),\n",
    "                               '0'+' '+str(x)+' '+str(100-x),\n",
    "                               str(100-x)+' '+str(x)+' '+'0'\n",
    "                                ]})\n",
    "bar = px.colors.sequential.Greys # px.colors.diverging.RdBu_r\n",
    "#bar = bar[2:-2]\n",
    "#bar = bar[int(len(bar)/2)-2:]\n",
    "colors = []\n",
    "for i in range(len(bar)-1):\n",
    "    colors = colors+n_colors(bar[i], bar[i+1], int(200/len(bar)), colortype='rgb')\n",
    "colors = colors+n_colors(bar[i+1], bar[i+1], int(200/len(bar)), colortype='rgb')\n",
    "conttraces = []\n",
    "n = 0\n",
    "for raw_data in conts2:\n",
    "    data = clean_data(raw_data)\n",
    "\n",
    "    a = [inner_data[0] for inner_data in data[1:]]\n",
    "    a.append(data[1][0]) # Closing the loop\n",
    "\n",
    "    b = [inner_data[1] for inner_data in data[1:]]\n",
    "    b.append(data[1][1]) # Closing the loop\n",
    "\n",
    "    c = [inner_data[2] for inner_data in data[1:]]\n",
    "    c.append(data[1][2]) # Closing the loop\n",
    "\n",
    "    conttraces.append(go.Scatterternary(\n",
    "        text = data[0],\n",
    "        a=a, b=b, c=c, mode='lines',\n",
    "        line=dict(color='black', width=0),\n",
    "        fill='toself',showlegend=False, hoverinfo='skip', opacity=0.1, \n",
    "        fillcolor = colors[int(200/len(conts2)*n)]#colors_iterator.__next__()\n",
    "    ))\n",
    "    n+=1\n",
    "conttraces = conttraces[::-1]"
   ]
  },
  {
   "cell_type": "markdown",
   "metadata": {},
   "source": [
    "## Plot"
   ]
  },
  {
   "cell_type": "code",
   "execution_count": 15,
   "metadata": {},
   "outputs": [],
   "source": [
    "def draw_line(fig, name, x1, x2, y1, y2, color):\n",
    "    fig.add_shape(type=\"line\", xref='paper', yref='paper',\n",
    "                  x0=x1,\n",
    "                  y0=y1,\n",
    "                  x1=x2,\n",
    "                  y1=y2,\n",
    "                  line=dict(color=color, width=3))"
   ]
  },
  {
   "cell_type": "code",
   "execution_count": 30,
   "metadata": {},
   "outputs": [
    {
     "data": {
      "application/vnd.plotly.v1+json": {
       "config": {
        "plotlyServerURL": "https://plot.ly"
       },
       "data": [
        {
         "a": [
          0,
          5,
          0,
          0,
          0,
          0
         ],
         "b": [
          100,
          95,
          95,
          100,
          100,
          100
         ],
         "c": [
          0,
          0,
          5,
          0,
          0,
          0
         ],
         "fill": "toself",
         "fillcolor": "rgb(0.0, 0.0, 0.0)",
         "hoverinfo": "skip",
         "line": {
          "color": "black",
          "width": 0
         },
         "mode": "lines",
         "opacity": 0.1,
         "showlegend": false,
         "subplot": "ternary",
         "text": "50",
         "type": "scatterternary"
        },
        {
         "a": [
          0,
          0,
          5,
          0,
          0,
          0
         ],
         "b": [
          0,
          5,
          0,
          0,
          0,
          0
         ],
         "c": [
          100,
          95,
          95,
          100,
          100,
          100
         ],
         "fill": "toself",
         "fillcolor": "rgb(0.0, 0.0, 0.0)",
         "hoverinfo": "skip",
         "line": {
          "color": "black",
          "width": 0
         },
         "mode": "lines",
         "opacity": 0.1,
         "showlegend": false,
         "subplot": "ternary",
         "text": "50",
         "type": "scatterternary"
        },
        {
         "a": [
          100,
          95,
          95,
          100,
          100,
          100
         ],
         "b": [
          0,
          0,
          5,
          0,
          0,
          0
         ],
         "c": [
          0,
          5,
          0,
          0,
          0,
          0
         ],
         "fill": "toself",
         "fillcolor": "rgb(0.0, 0.0, 0.0)",
         "hoverinfo": "skip",
         "line": {
          "color": "black",
          "width": 0
         },
         "mode": "lines",
         "opacity": 0.1,
         "showlegend": false,
         "subplot": "ternary",
         "text": "50",
         "type": "scatterternary"
        },
        {
         "a": [
          5,
          10,
          0,
          0,
          5,
          5
         ],
         "b": [
          95,
          90,
          90,
          95,
          95,
          95
         ],
         "c": [
          0,
          0,
          10,
          5,
          0,
          0
         ],
         "fill": "toself",
         "fillcolor": "rgb(0.0, 0.0, 0.0)",
         "hoverinfo": "skip",
         "line": {
          "color": "black",
          "width": 0
         },
         "mode": "lines",
         "opacity": 0.1,
         "showlegend": false,
         "subplot": "ternary",
         "text": "50",
         "type": "scatterternary"
        },
        {
         "a": [
          0,
          0,
          10,
          5,
          0,
          0
         ],
         "b": [
          5,
          10,
          0,
          0,
          5,
          5
         ],
         "c": [
          95,
          90,
          90,
          95,
          95,
          95
         ],
         "fill": "toself",
         "fillcolor": "rgb(8.80952380952381, 8.80952380952381, 8.80952380952381)",
         "hoverinfo": "skip",
         "line": {
          "color": "black",
          "width": 0
         },
         "mode": "lines",
         "opacity": 0.1,
         "showlegend": false,
         "subplot": "ternary",
         "text": "50",
         "type": "scatterternary"
        },
        {
         "a": [
          95,
          90,
          90,
          95,
          95,
          95
         ],
         "b": [
          0,
          0,
          10,
          5,
          0,
          0
         ],
         "c": [
          5,
          10,
          0,
          0,
          5,
          5
         ],
         "fill": "toself",
         "fillcolor": "rgb(19.38095238095238, 19.38095238095238, 19.38095238095238)",
         "hoverinfo": "skip",
         "line": {
          "color": "black",
          "width": 0
         },
         "mode": "lines",
         "opacity": 0.1,
         "showlegend": false,
         "subplot": "ternary",
         "text": "50",
         "type": "scatterternary"
        },
        {
         "a": [
          10,
          15,
          0,
          0,
          10,
          10
         ],
         "b": [
          90,
          85,
          85,
          90,
          90,
          90
         ],
         "c": [
          0,
          0,
          15,
          10,
          0,
          0
         ],
         "fill": "toself",
         "fillcolor": "rgb(29.952380952380953, 29.952380952380953, 29.952380952380953)",
         "hoverinfo": "skip",
         "line": {
          "color": "black",
          "width": 0
         },
         "mode": "lines",
         "opacity": 0.1,
         "showlegend": false,
         "subplot": "ternary",
         "text": "50",
         "type": "scatterternary"
        },
        {
         "a": [
          0,
          0,
          15,
          10,
          0,
          0
         ],
         "b": [
          10,
          15,
          0,
          0,
          10,
          10
         ],
         "c": [
          90,
          85,
          85,
          90,
          90,
          90
         ],
         "fill": "toself",
         "fillcolor": "rgb(39.142857142857146, 39.142857142857146, 39.142857142857146)",
         "hoverinfo": "skip",
         "line": {
          "color": "black",
          "width": 0
         },
         "mode": "lines",
         "opacity": 0.1,
         "showlegend": false,
         "subplot": "ternary",
         "text": "50",
         "type": "scatterternary"
        },
        {
         "a": [
          90,
          85,
          85,
          90,
          90,
          90
         ],
         "b": [
          0,
          0,
          15,
          10,
          0,
          0
         ],
         "c": [
          10,
          15,
          0,
          0,
          10,
          10
         ],
         "fill": "toself",
         "fillcolor": "rgb(49.85714285714286, 49.85714285714286, 49.85714285714286)",
         "hoverinfo": "skip",
         "line": {
          "color": "black",
          "width": 0
         },
         "mode": "lines",
         "opacity": 0.1,
         "showlegend": false,
         "subplot": "ternary",
         "text": "50",
         "type": "scatterternary"
        },
        {
         "a": [
          15,
          20,
          0,
          0,
          15,
          15
         ],
         "b": [
          85,
          80,
          80,
          85,
          85,
          85
         ],
         "c": [
          0,
          0,
          20,
          15,
          0,
          0
         ],
         "fill": "toself",
         "fillcolor": "rgb(62.714285714285715, 62.714285714285715, 62.714285714285715)",
         "hoverinfo": "skip",
         "line": {
          "color": "black",
          "width": 0
         },
         "mode": "lines",
         "opacity": 0.1,
         "showlegend": false,
         "subplot": "ternary",
         "text": "50",
         "type": "scatterternary"
        },
        {
         "a": [
          0,
          0,
          20,
          15,
          0,
          0
         ],
         "b": [
          15,
          20,
          0,
          0,
          15,
          15
         ],
         "c": [
          85,
          80,
          80,
          85,
          85,
          85
         ],
         "fill": "toself",
         "fillcolor": "rgb(75.57142857142857, 75.57142857142857, 75.57142857142857)",
         "hoverinfo": "skip",
         "line": {
          "color": "black",
          "width": 0
         },
         "mode": "lines",
         "opacity": 0.1,
         "showlegend": false,
         "subplot": "ternary",
         "text": "50",
         "type": "scatterternary"
        },
        {
         "a": [
          85,
          80,
          80,
          85,
          85,
          85
         ],
         "b": [
          0,
          0,
          20,
          15,
          0,
          0
         ],
         "c": [
          15,
          20,
          0,
          0,
          15,
          15
         ],
         "fill": "toself",
         "fillcolor": "rgb(85.14285714285714, 85.14285714285714, 85.14285714285714)",
         "hoverinfo": "skip",
         "line": {
          "color": "black",
          "width": 0
         },
         "mode": "lines",
         "opacity": 0.1,
         "showlegend": false,
         "subplot": "ternary",
         "text": "50",
         "type": "scatterternary"
        },
        {
         "a": [
          20,
          25,
          0,
          0,
          20,
          20
         ],
         "b": [
          80,
          75,
          75,
          80,
          80,
          80
         ],
         "c": [
          0,
          0,
          25,
          20,
          0,
          0
         ],
         "fill": "toself",
         "fillcolor": "rgb(94.57142857142857, 94.57142857142857, 94.57142857142857)",
         "hoverinfo": "skip",
         "line": {
          "color": "black",
          "width": 0
         },
         "mode": "lines",
         "opacity": 0.1,
         "showlegend": false,
         "subplot": "ternary",
         "text": "50",
         "type": "scatterternary"
        },
        {
         "a": [
          0,
          0,
          25,
          20,
          0,
          0
         ],
         "b": [
          20,
          25,
          0,
          0,
          20,
          20
         ],
         "c": [
          80,
          75,
          75,
          80,
          80,
          80
         ],
         "fill": "toself",
         "fillcolor": "rgb(104.0, 104.0, 104.0)",
         "hoverinfo": "skip",
         "line": {
          "color": "black",
          "width": 0
         },
         "mode": "lines",
         "opacity": 0.1,
         "showlegend": false,
         "subplot": "ternary",
         "text": "50",
         "type": "scatterternary"
        },
        {
         "a": [
          80,
          75,
          75,
          80,
          80,
          80
         ],
         "b": [
          0,
          0,
          25,
          20,
          0,
          0
         ],
         "c": [
          20,
          25,
          0,
          0,
          20,
          20
         ],
         "fill": "toself",
         "fillcolor": "rgb(113.42857142857143, 113.42857142857143, 113.42857142857143)",
         "hoverinfo": "skip",
         "line": {
          "color": "black",
          "width": 0
         },
         "mode": "lines",
         "opacity": 0.1,
         "showlegend": false,
         "subplot": "ternary",
         "text": "50",
         "type": "scatterternary"
        },
        {
         "a": [
          25,
          30,
          0,
          0,
          25,
          25
         ],
         "b": [
          75,
          70,
          70,
          75,
          75,
          75
         ],
         "c": [
          0,
          0,
          30,
          25,
          0,
          0
         ],
         "fill": "toself",
         "fillcolor": "rgb(121.66666666666666, 121.66666666666666, 121.66666666666666)",
         "hoverinfo": "skip",
         "line": {
          "color": "black",
          "width": 0
         },
         "mode": "lines",
         "opacity": 0.1,
         "showlegend": false,
         "subplot": "ternary",
         "text": "50",
         "type": "scatterternary"
        },
        {
         "a": [
          0,
          0,
          30,
          25,
          0,
          0
         ],
         "b": [
          25,
          30,
          0,
          0,
          25,
          25
         ],
         "c": [
          75,
          70,
          70,
          75,
          75,
          75
         ],
         "fill": "toself",
         "fillcolor": "rgb(130.0, 130.0, 130.0)",
         "hoverinfo": "skip",
         "line": {
          "color": "black",
          "width": 0
         },
         "mode": "lines",
         "opacity": 0.1,
         "showlegend": false,
         "subplot": "ternary",
         "text": "50",
         "type": "scatterternary"
        },
        {
         "a": [
          75,
          70,
          70,
          75,
          75,
          75
         ],
         "b": [
          0,
          0,
          30,
          25,
          0,
          0
         ],
         "c": [
          25,
          30,
          0,
          0,
          25,
          25
         ],
         "fill": "toself",
         "fillcolor": "rgb(140.0, 140.0, 140.0)",
         "hoverinfo": "skip",
         "line": {
          "color": "black",
          "width": 0
         },
         "mode": "lines",
         "opacity": 0.1,
         "showlegend": false,
         "subplot": "ternary",
         "text": "50",
         "type": "scatterternary"
        },
        {
         "a": [
          30,
          35,
          0,
          0,
          30,
          30
         ],
         "b": [
          70,
          65,
          65,
          70,
          70,
          70
         ],
         "c": [
          0,
          0,
          35,
          30,
          0,
          0
         ],
         "fill": "toself",
         "fillcolor": "rgb(150.0, 150.0, 150.0)",
         "hoverinfo": "skip",
         "line": {
          "color": "black",
          "width": 0
         },
         "mode": "lines",
         "opacity": 0.1,
         "showlegend": false,
         "subplot": "ternary",
         "text": "50",
         "type": "scatterternary"
        },
        {
         "a": [
          0,
          0,
          35,
          30,
          0,
          0
         ],
         "b": [
          30,
          35,
          0,
          0,
          30,
          30
         ],
         "c": [
          70,
          65,
          65,
          70,
          70,
          70
         ],
         "fill": "toself",
         "fillcolor": "rgb(159.28571428571428, 159.28571428571428, 159.28571428571428)",
         "hoverinfo": "skip",
         "line": {
          "color": "black",
          "width": 0
         },
         "mode": "lines",
         "opacity": 0.1,
         "showlegend": false,
         "subplot": "ternary",
         "text": "50",
         "type": "scatterternary"
        },
        {
         "a": [
          70,
          65,
          65,
          70,
          70,
          70
         ],
         "b": [
          0,
          0,
          35,
          30,
          0,
          0
         ],
         "c": [
          30,
          35,
          0,
          0,
          30,
          30
         ],
         "fill": "toself",
         "fillcolor": "rgb(170.42857142857142, 170.42857142857142, 170.42857142857142)",
         "hoverinfo": "skip",
         "line": {
          "color": "black",
          "width": 0
         },
         "mode": "lines",
         "opacity": 0.1,
         "showlegend": false,
         "subplot": "ternary",
         "text": "50",
         "type": "scatterternary"
        },
        {
         "a": [
          35,
          40,
          0,
          0,
          35,
          35
         ],
         "b": [
          65,
          60,
          60,
          65,
          65,
          65
         ],
         "c": [
          0,
          0,
          40,
          35,
          0,
          0
         ],
         "fill": "toself",
         "fillcolor": "rgb(181.57142857142858, 181.57142857142858, 181.57142857142858)",
         "hoverinfo": "skip",
         "line": {
          "color": "black",
          "width": 0
         },
         "mode": "lines",
         "opacity": 0.1,
         "showlegend": false,
         "subplot": "ternary",
         "text": "50",
         "type": "scatterternary"
        },
        {
         "a": [
          0,
          0,
          40,
          35,
          0,
          0
         ],
         "b": [
          35,
          40,
          0,
          0,
          35,
          35
         ],
         "c": [
          65,
          60,
          60,
          65,
          65,
          65
         ],
         "fill": "toself",
         "fillcolor": "rgb(190.33333333333334, 190.33333333333334, 190.33333333333334)",
         "hoverinfo": "skip",
         "line": {
          "color": "black",
          "width": 0
         },
         "mode": "lines",
         "opacity": 0.1,
         "showlegend": false,
         "subplot": "ternary",
         "text": "50",
         "type": "scatterternary"
        },
        {
         "a": [
          65,
          60,
          60,
          65,
          65,
          65
         ],
         "b": [
          0,
          0,
          40,
          35,
          0,
          0
         ],
         "c": [
          35,
          40,
          0,
          0,
          35,
          35
         ],
         "fill": "toself",
         "fillcolor": "rgb(198.33333333333334, 198.33333333333334, 198.33333333333334)",
         "hoverinfo": "skip",
         "line": {
          "color": "black",
          "width": 0
         },
         "mode": "lines",
         "opacity": 0.1,
         "showlegend": false,
         "subplot": "ternary",
         "text": "50",
         "type": "scatterternary"
        },
        {
         "a": [
          40,
          45,
          0,
          0,
          40,
          40
         ],
         "b": [
          60,
          55,
          55,
          60,
          60,
          60
         ],
         "c": [
          0,
          0,
          45,
          40,
          0,
          0
         ],
         "fill": "toself",
         "fillcolor": "rgb(206.33333333333334, 206.33333333333334, 206.33333333333334)",
         "hoverinfo": "skip",
         "line": {
          "color": "black",
          "width": 0
         },
         "mode": "lines",
         "opacity": 0.1,
         "showlegend": false,
         "subplot": "ternary",
         "text": "50",
         "type": "scatterternary"
        },
        {
         "a": [
          0,
          0,
          45,
          40,
          0,
          0
         ],
         "b": [
          40,
          45,
          0,
          0,
          40,
          40
         ],
         "c": [
          60,
          55,
          55,
          60,
          60,
          60
         ],
         "fill": "toself",
         "fillcolor": "rgb(213.0, 213.0, 213.0)",
         "hoverinfo": "skip",
         "line": {
          "color": "black",
          "width": 0
         },
         "mode": "lines",
         "opacity": 0.1,
         "showlegend": false,
         "subplot": "ternary",
         "text": "50",
         "type": "scatterternary"
        },
        {
         "a": [
          60,
          55,
          55,
          60,
          60,
          60
         ],
         "b": [
          0,
          0,
          45,
          40,
          0,
          0
         ],
         "c": [
          40,
          45,
          0,
          0,
          40,
          40
         ],
         "fill": "toself",
         "fillcolor": "rgb(219.1904761904762, 219.1904761904762, 219.1904761904762)",
         "hoverinfo": "skip",
         "line": {
          "color": "black",
          "width": 0
         },
         "mode": "lines",
         "opacity": 0.1,
         "showlegend": false,
         "subplot": "ternary",
         "text": "50",
         "type": "scatterternary"
        },
        {
         "a": [
          45,
          50,
          0,
          0,
          45,
          45
         ],
         "b": [
          55,
          50,
          50,
          55,
          55,
          55
         ],
         "c": [
          0,
          0,
          50,
          45,
          0,
          0
         ],
         "fill": "toself",
         "fillcolor": "rgb(225.76190476190476, 225.76190476190476, 225.76190476190476)",
         "hoverinfo": "skip",
         "line": {
          "color": "black",
          "width": 0
         },
         "mode": "lines",
         "opacity": 0.1,
         "showlegend": false,
         "subplot": "ternary",
         "text": "50",
         "type": "scatterternary"
        },
        {
         "a": [
          0,
          0,
          50,
          45,
          0,
          0
         ],
         "b": [
          45,
          50,
          0,
          0,
          45,
          45
         ],
         "c": [
          55,
          50,
          50,
          55,
          55,
          55
         ],
         "fill": "toself",
         "fillcolor": "rgb(232.33333333333334, 232.33333333333334, 232.33333333333334)",
         "hoverinfo": "skip",
         "line": {
          "color": "black",
          "width": 0
         },
         "mode": "lines",
         "opacity": 0.1,
         "showlegend": false,
         "subplot": "ternary",
         "text": "50",
         "type": "scatterternary"
        },
        {
         "a": [
          55,
          50,
          50,
          55,
          55,
          55
         ],
         "b": [
          0,
          0,
          50,
          45,
          0,
          0
         ],
         "c": [
          45,
          50,
          0,
          0,
          45,
          45
         ],
         "fill": "toself",
         "fillcolor": "rgb(238.9047619047619, 238.9047619047619, 238.9047619047619)",
         "hoverinfo": "skip",
         "line": {
          "color": "black",
          "width": 0
         },
         "mode": "lines",
         "opacity": 0.1,
         "showlegend": false,
         "subplot": "ternary",
         "text": "50",
         "type": "scatterternary"
        },
        {
         "a": [
          50,
          50,
          0,
          50
         ],
         "b": [
          50,
          0,
          50,
          50
         ],
         "c": [
          0,
          50,
          50,
          0
         ],
         "fill": "toself",
         "fillcolor": "rgb(242.85714285714286, 242.85714285714286, 242.85714285714286)",
         "hoverinfo": "skip",
         "line": {
          "color": "black",
          "width": 0
         },
         "mode": "lines",
         "opacity": 0.1,
         "showlegend": false,
         "subplot": "ternary",
         "text": "50",
         "type": "scatterternary"
        },
        {
         "a": [
          45,
          45,
          10,
          45
         ],
         "b": [
          45,
          10,
          45,
          45
         ],
         "c": [
          10,
          45,
          45,
          10
         ],
         "fill": "toself",
         "fillcolor": "rgb(247.14285714285714, 247.14285714285714, 247.14285714285714)",
         "hoverinfo": "skip",
         "line": {
          "color": "black",
          "width": 0
         },
         "mode": "lines",
         "opacity": 0.1,
         "showlegend": false,
         "subplot": "ternary",
         "text": "45",
         "type": "scatterternary"
        },
        {
         "a": [
          40,
          40,
          20,
          40
         ],
         "b": [
          40,
          20,
          40,
          40
         ],
         "c": [
          20,
          40,
          40,
          20
         ],
         "fill": "toself",
         "fillcolor": "rgb(251.42857142857142, 251.42857142857142, 251.42857142857142)",
         "hoverinfo": "skip",
         "line": {
          "color": "black",
          "width": 0
         },
         "mode": "lines",
         "opacity": 0.1,
         "showlegend": false,
         "subplot": "ternary",
         "text": "40",
         "type": "scatterternary"
        },
        {
         "a": [
          35,
          35,
          30,
          35
         ],
         "b": [
          35,
          30,
          35,
          35
         ],
         "c": [
          30,
          35,
          35,
          30
         ],
         "fill": "toself",
         "fillcolor": "rgb(255.0, 255.0, 255.0)",
         "hoverinfo": "skip",
         "line": {
          "color": "black",
          "width": 0
         },
         "mode": "lines",
         "opacity": 0.1,
         "showlegend": false,
         "subplot": "ternary",
         "text": "35",
         "type": "scatterternary"
        },
        {
         "a": [
          0,
          0
         ],
         "b": [
          0,
          1
         ],
         "c": [
          1,
          0
         ],
         "hoverinfo": "skip",
         "line": {
          "color": "black",
          "dash": "dot",
          "width": 0.33
         },
         "marker": {
          "color": "black",
          "line": {
           "color": "silver",
           "width": 0
          },
          "opacity": 1,
          "size": 15
         },
         "mode": "lines",
         "showlegend": false,
         "subplot": "ternary",
         "textfont": {
          "color": "black",
          "size": 5
         },
         "type": "scatterternary"
        },
        {
         "a": [
          0,
          1
         ],
         "b": [
          0,
          0
         ],
         "c": [
          1,
          0
         ],
         "hoverinfo": "skip",
         "line": {
          "color": "black",
          "dash": "dot",
          "width": 0.33
         },
         "marker": {
          "color": "black",
          "line": {
           "color": "silver",
           "width": 0
          },
          "opacity": 1,
          "size": 15
         },
         "mode": "lines",
         "showlegend": false,
         "subplot": "ternary",
         "textfont": {
          "color": "black",
          "size": 5
         },
         "type": "scatterternary"
        },
        {
         "a": [
          1,
          0
         ],
         "b": [
          0,
          1
         ],
         "c": [
          0,
          0
         ],
         "hoverinfo": "skip",
         "line": {
          "color": "black",
          "dash": "dot",
          "width": 0.33
         },
         "marker": {
          "color": "black",
          "line": {
           "color": "silver",
           "width": 0
          },
          "opacity": 1,
          "size": 15
         },
         "mode": "lines",
         "showlegend": false,
         "subplot": "ternary",
         "textfont": {
          "color": "black",
          "size": 5
         },
         "type": "scatterternary"
        },
        {
         "a": [
          0.25,
          0.25
         ],
         "b": [
          0,
          0.75
         ],
         "c": [
          0.75,
          0
         ],
         "hoverinfo": "skip",
         "line": {
          "color": "black",
          "dash": "dot",
          "width": 0.33
         },
         "marker": {
          "color": "black",
          "line": {
           "color": "silver",
           "width": 0
          },
          "opacity": 1,
          "size": 15
         },
         "mode": "lines",
         "showlegend": false,
         "subplot": "ternary",
         "textfont": {
          "color": "black",
          "size": 5
         },
         "type": "scatterternary"
        },
        {
         "a": [
          0,
          0.75
         ],
         "b": [
          0.25,
          0.25
         ],
         "c": [
          0.75,
          0
         ],
         "hoverinfo": "skip",
         "line": {
          "color": "black",
          "dash": "dot",
          "width": 0.33
         },
         "marker": {
          "color": "black",
          "line": {
           "color": "silver",
           "width": 0
          },
          "opacity": 1,
          "size": 15
         },
         "mode": "lines",
         "showlegend": false,
         "subplot": "ternary",
         "textfont": {
          "color": "black",
          "size": 5
         },
         "type": "scatterternary"
        },
        {
         "a": [
          0.75,
          0
         ],
         "b": [
          0,
          0.75
         ],
         "c": [
          0.25,
          0.25
         ],
         "hoverinfo": "skip",
         "line": {
          "color": "black",
          "dash": "dot",
          "width": 0.33
         },
         "marker": {
          "color": "black",
          "line": {
           "color": "silver",
           "width": 0
          },
          "opacity": 1,
          "size": 15
         },
         "mode": "lines",
         "showlegend": false,
         "subplot": "ternary",
         "textfont": {
          "color": "black",
          "size": 5
         },
         "type": "scatterternary"
        },
        {
         "a": [
          0.5,
          0.5
         ],
         "b": [
          0,
          0.5
         ],
         "c": [
          0.5,
          0
         ],
         "hoverinfo": "skip",
         "line": {
          "color": "black",
          "dash": "dot",
          "width": 0.33
         },
         "marker": {
          "color": "black",
          "line": {
           "color": "silver",
           "width": 0
          },
          "opacity": 1,
          "size": 15
         },
         "mode": "lines",
         "showlegend": false,
         "subplot": "ternary",
         "textfont": {
          "color": "black",
          "size": 5
         },
         "type": "scatterternary"
        },
        {
         "a": [
          0,
          0.5
         ],
         "b": [
          0.5,
          0.5
         ],
         "c": [
          0.5,
          0
         ],
         "hoverinfo": "skip",
         "line": {
          "color": "black",
          "dash": "dot",
          "width": 0.33
         },
         "marker": {
          "color": "black",
          "line": {
           "color": "silver",
           "width": 0
          },
          "opacity": 1,
          "size": 15
         },
         "mode": "lines",
         "showlegend": false,
         "subplot": "ternary",
         "textfont": {
          "color": "black",
          "size": 5
         },
         "type": "scatterternary"
        },
        {
         "a": [
          0.5,
          0
         ],
         "b": [
          0,
          0.5
         ],
         "c": [
          0.5,
          0.5
         ],
         "hoverinfo": "skip",
         "line": {
          "color": "black",
          "dash": "dot",
          "width": 0.33
         },
         "marker": {
          "color": "black",
          "line": {
           "color": "silver",
           "width": 0
          },
          "opacity": 1,
          "size": 15
         },
         "mode": "lines",
         "showlegend": false,
         "subplot": "ternary",
         "textfont": {
          "color": "black",
          "size": 5
         },
         "type": "scatterternary"
        },
        {
         "a": [
          0.75,
          0.75
         ],
         "b": [
          0,
          0.25
         ],
         "c": [
          0.25,
          0
         ],
         "hoverinfo": "skip",
         "line": {
          "color": "black",
          "dash": "dot",
          "width": 0.33
         },
         "marker": {
          "color": "black",
          "line": {
           "color": "silver",
           "width": 0
          },
          "opacity": 1,
          "size": 15
         },
         "mode": "lines",
         "showlegend": false,
         "subplot": "ternary",
         "textfont": {
          "color": "black",
          "size": 5
         },
         "type": "scatterternary"
        },
        {
         "a": [
          0,
          0.25
         ],
         "b": [
          0.75,
          0.75
         ],
         "c": [
          0.25,
          0
         ],
         "hoverinfo": "skip",
         "line": {
          "color": "black",
          "dash": "dot",
          "width": 0.33
         },
         "marker": {
          "color": "black",
          "line": {
           "color": "silver",
           "width": 0
          },
          "opacity": 1,
          "size": 15
         },
         "mode": "lines",
         "showlegend": false,
         "subplot": "ternary",
         "textfont": {
          "color": "black",
          "size": 5
         },
         "type": "scatterternary"
        },
        {
         "a": [
          0.25,
          0
         ],
         "b": [
          0,
          0.25
         ],
         "c": [
          0.75,
          0.75
         ],
         "hoverinfo": "skip",
         "line": {
          "color": "black",
          "dash": "dot",
          "width": 0.33
         },
         "marker": {
          "color": "black",
          "line": {
           "color": "silver",
           "width": 0
          },
          "opacity": 1,
          "size": 15
         },
         "mode": "lines",
         "showlegend": false,
         "subplot": "ternary",
         "textfont": {
          "color": "black",
          "size": 5
         },
         "type": "scatterternary"
        },
        {
         "a": [
          1,
          1
         ],
         "b": [
          0,
          0
         ],
         "c": [
          0,
          0
         ],
         "hoverinfo": "skip",
         "line": {
          "color": "black",
          "dash": "dot",
          "width": 0.33
         },
         "marker": {
          "color": "black",
          "line": {
           "color": "silver",
           "width": 0
          },
          "opacity": 1,
          "size": 15
         },
         "mode": "lines",
         "showlegend": false,
         "subplot": "ternary",
         "textfont": {
          "color": "black",
          "size": 5
         },
         "type": "scatterternary"
        },
        {
         "a": [
          0,
          0
         ],
         "b": [
          1,
          1
         ],
         "c": [
          0,
          0
         ],
         "hoverinfo": "skip",
         "line": {
          "color": "black",
          "dash": "dot",
          "width": 0.33
         },
         "marker": {
          "color": "black",
          "line": {
           "color": "silver",
           "width": 0
          },
          "opacity": 1,
          "size": 15
         },
         "mode": "lines",
         "showlegend": false,
         "subplot": "ternary",
         "textfont": {
          "color": "black",
          "size": 5
         },
         "type": "scatterternary"
        },
        {
         "a": [
          0,
          0
         ],
         "b": [
          0,
          0
         ],
         "c": [
          1,
          1
         ],
         "hoverinfo": "skip",
         "line": {
          "color": "black",
          "dash": "dot",
          "width": 0.33
         },
         "marker": {
          "color": "black",
          "line": {
           "color": "silver",
           "width": 0
          },
          "opacity": 1,
          "size": 15
         },
         "mode": "lines",
         "showlegend": false,
         "subplot": "ternary",
         "textfont": {
          "color": "black",
          "size": 5
         },
         "type": "scatterternary"
        },
        {
         "a": [
          0,
          0,
          0,
          0,
          0,
          0,
          0,
          0,
          0,
          0,
          0,
          0,
          0,
          0,
          0
         ],
         "b": [
          0,
          0,
          0,
          0,
          0,
          0,
          0,
          0,
          0,
          0,
          0,
          0,
          0,
          0,
          0
         ],
         "c": [
          0,
          0,
          0,
          0,
          0,
          0,
          0,
          0,
          0,
          0,
          0,
          0,
          0,
          0,
          0
         ],
         "line": {
          "color": "grey",
          "width": 0.25
         },
         "marker": {
          "color": "silver",
          "line": {
           "color": "black",
           "width": 0
          },
          "opacity": 0.9,
          "size": 6
         },
         "mode": "lines+text",
         "name": "AFG",
         "showlegend": false,
         "subplot": "ternary",
         "text": [
          "",
          "",
          "",
          "",
          "",
          "",
          "",
          "",
          "",
          "",
          "",
          "",
          "",
          "",
          ""
         ],
         "textfont": {
          "color": "black",
          "size": 6.887538952525359
         },
         "type": "scatterternary"
        },
        {
         "a": [
          0,
          0,
          0,
          0,
          0
         ],
         "b": [
          0,
          0,
          0,
          0,
          0
         ],
         "c": [
          0,
          0,
          0,
          0,
          0
         ],
         "line": {
          "color": "grey",
          "width": 0.25
         },
         "marker": {
          "color": "silver",
          "line": {
           "color": "black",
           "width": 0
          },
          "opacity": 0.9,
          "size": 6
         },
         "mode": "lines+text",
         "name": "AFG",
         "showlegend": false,
         "subplot": "ternary",
         "text": [
          "",
          "",
          "",
          "",
          "",
          "",
          "",
          "",
          "",
          "",
          "",
          "",
          "",
          "",
          ""
         ],
         "textfont": {
          "color": "black",
          "size": 6.887538952525359
         },
         "type": "scatterternary"
        },
        {
         "a": [
          0.01567626440368153,
          0.03225421292820852,
          0.06728595730432298,
          0.07761832153782378,
          0.10161091600063789,
          0.15121511566083423,
          0.24639789094350223,
          0.38043975884142306,
          0.502450160944669,
          0.5697239432880133,
          0.5988122707608993,
          0.5998374393674343,
          0.5961155207811681,
          0.5902289470395459,
          0.5818098327174624
         ],
         "b": [
          0.9835582426405163,
          0.9660887349394142,
          0.9291441794510678,
          0.9179224587968783,
          0.892069469878892,
          0.8375045874579878,
          0.7309566024296099,
          0.5761578844748506,
          0.42529688833882895,
          0.33114700906784794,
          0.27707096381413165,
          0.26134580412685576,
          0.25325487293989823,
          0.25476799134629996,
          0.26185815018694797
         ],
         "c": [
          0.0007654929558023267,
          0.0016570521323774077,
          0.0035698632446089697,
          0.004459219665298033,
          0.006319614120470149,
          0.011280296881178228,
          0.02264550662688795,
          0.04340235668372623,
          0.0722529507165021,
          0.09912904764413877,
          0.12411676542496916,
          0.1388167565057101,
          0.1506296062789336,
          0.1550030616141542,
          0.1563320170955897
         ],
         "line": {
          "color": "grey",
          "width": 0.25
         },
         "marker": {
          "color": "silver",
          "line": {
           "color": "black",
           "width": 0
          },
          "opacity": 0.9,
          "size": 6
         },
         "mode": "lines+text",
         "name": "ALB",
         "showlegend": false,
         "subplot": "ternary",
         "text": [
          "",
          "",
          "",
          "",
          "",
          "",
          "",
          "",
          "",
          "",
          "",
          "",
          "",
          "",
          ""
         ],
         "textfont": {
          "color": "black",
          "size": 3.088420233482558
         },
         "type": "scatterternary"
        },
        {
         "a": [
          0.01567626440368153,
          0.03225421292820852,
          0.06728595730432298,
          0.07761832153782378,
          0.10161091600063789
         ],
         "b": [
          0.9835582426405163,
          0.9660887349394142,
          0.9291441794510678,
          0.9179224587968783,
          0.892069469878892
         ],
         "c": [
          0.0007654929558023267,
          0.0016570521323774077,
          0.0035698632446089697,
          0.004459219665298033,
          0.006319614120470149
         ],
         "line": {
          "color": "grey",
          "width": 0.25
         },
         "marker": {
          "color": "silver",
          "line": {
           "color": "black",
           "width": 0
          },
          "opacity": 0.9,
          "size": 6
         },
         "mode": "lines+text",
         "name": "ALB",
         "showlegend": false,
         "subplot": "ternary",
         "text": [
          "",
          "",
          "",
          "",
          "",
          "",
          "",
          "",
          "",
          "",
          "",
          "",
          "",
          "",
          ""
         ],
         "textfont": {
          "color": "black",
          "size": 3.088420233482558
         },
         "type": "scatterternary"
        },
        {
         "a": [
          0.45663867370108885,
          0.5705444016929965,
          0.6728673600765709,
          0.6513881515728971,
          0.641075501622009,
          0.6457344749350867,
          0.6465349981581575,
          0.6280742042945828,
          0.5887501855502826,
          0.5594273886360698,
          0.5200932638210888,
          0.4854226587393873,
          0.45235047814711304,
          0.431605377657549,
          0.4083675317455775
         ],
         "b": [
          0.5213454169417475,
          0.4012751288295956,
          0.28873222960671674,
          0.3003985394447267,
          0.30257028773690037,
          0.2900501645113231,
          0.27379740748241416,
          0.2718903616548931,
          0.2740949338719603,
          0.2630348314589472,
          0.2598589186718874,
          0.2525845383020351,
          0.2486163055017462,
          0.2436747077884035,
          0.24285997450992355
         ],
         "c": [
          0.02201590935716378,
          0.028180469477407877,
          0.03840041031671246,
          0.048213308982376045,
          0.05635421064109088,
          0.06421536055358999,
          0.07966759435942847,
          0.10003543405052437,
          0.13715488057775727,
          0.17753777990498332,
          0.2200478175070239,
          0.2619928029585777,
          0.29903321635114066,
          0.3247199145540474,
          0.34877249374449887
         ],
         "line": {
          "color": "grey",
          "width": 0.25
         },
         "marker": {
          "color": "silver",
          "line": {
           "color": "black",
           "width": 0
          },
          "opacity": 0.9,
          "size": 6
         },
         "mode": "lines+text",
         "name": "DZA",
         "showlegend": false,
         "subplot": "ternary",
         "text": [
          "",
          "",
          "",
          "",
          "",
          "",
          "",
          "",
          "",
          "",
          "",
          "",
          "",
          "",
          ""
         ],
         "textfont": {
          "color": "black",
          "size": 7.170080805090006
         },
         "type": "scatterternary"
        },
        {
         "a": [
          0.45663867370108885,
          0.5705444016929965,
          0.6728673600765709,
          0.6513881515728971,
          0.641075501622009
         ],
         "b": [
          0.5213454169417475,
          0.4012751288295956,
          0.28873222960671674,
          0.3003985394447267,
          0.30257028773690037
         ],
         "c": [
          0.02201590935716378,
          0.028180469477407877,
          0.03840041031671246,
          0.048213308982376045,
          0.05635421064109088
         ],
         "line": {
          "color": "grey",
          "width": 0.25
         },
         "marker": {
          "color": "silver",
          "line": {
           "color": "black",
           "width": 0
          },
          "opacity": 0.9,
          "size": 6
         },
         "mode": "lines+text",
         "name": "DZA",
         "showlegend": false,
         "subplot": "ternary",
         "text": [
          "",
          "",
          "",
          "",
          "",
          "",
          "",
          "",
          "",
          "",
          "",
          "",
          "",
          "",
          ""
         ],
         "textfont": {
          "color": "black",
          "size": 7.170080805090006
         },
         "type": "scatterternary"
        },
        {
         "a": [
          0,
          0,
          0,
          0,
          0,
          0,
          0,
          0,
          0,
          0,
          0,
          0,
          0,
          0,
          0
         ],
         "b": [
          0,
          0,
          0,
          0,
          0,
          0,
          0,
          0,
          0,
          0,
          0,
          0,
          0,
          0,
          0
         ],
         "c": [
          0,
          0,
          0,
          0,
          0,
          0,
          0,
          0,
          0,
          0,
          0,
          0,
          0,
          0,
          0
         ],
         "line": {
          "color": "grey",
          "width": 0.25
         },
         "marker": {
          "color": "silver",
          "line": {
           "color": "black",
           "width": 0
          },
          "opacity": 0.9,
          "size": 6
         },
         "mode": "lines+text",
         "name": "AND",
         "showlegend": false,
         "subplot": "ternary",
         "text": [
          "",
          "",
          "",
          "",
          "",
          "",
          "",
          "",
          "",
          "",
          "",
          "",
          "",
          "",
          ""
         ],
         "textfont": {
          "color": "black",
          "size": 2.3694187025678044
         },
         "type": "scatterternary"
        },
        {
         "a": [
          0,
          0,
          0,
          0,
          0
         ],
         "b": [
          0,
          0,
          0,
          0,
          0
         ],
         "c": [
          0,
          0,
          0,
          0,
          0
         ],
         "line": {
          "color": "grey",
          "width": 0.25
         },
         "marker": {
          "color": "silver",
          "line": {
           "color": "black",
           "width": 0
          },
          "opacity": 0.9,
          "size": 6
         },
         "mode": "lines+text",
         "name": "AND",
         "showlegend": false,
         "subplot": "ternary",
         "text": [
          "",
          "",
          "",
          "",
          "",
          "",
          "",
          "",
          "",
          "",
          "",
          "",
          "",
          "",
          ""
         ],
         "textfont": {
          "color": "black",
          "size": 2.3694187025678044
         },
         "type": "scatterternary"
        },
        {
         "a": [
          0.3617986944461707,
          0.4064047590629364,
          0.39919868327111435,
          0.3510854690745457,
          0.29976848871249234,
          0.23730762752352247,
          0.1919111861721451,
          0.1555090213027342,
          0.12812714495763064,
          0.11670841165149175,
          0.10891835969002382,
          0.11448514192233876,
          0.12341197669715011,
          0.13216800949016366,
          0.15803700502212017
         ],
         "b": [
          0.6184084813575692,
          0.5641887826437691,
          0.5741338682096677,
          0.6195522821500069,
          0.6701140613335392,
          0.7371626125032571,
          0.7835299103081294,
          0.8140098287074359,
          0.8201353364439111,
          0.7998853486205616,
          0.7584894506242269,
          0.7155543920480506,
          0.658280611939236,
          0.6032290529806067,
          0.5440252195977535
         ],
         "c": [
          0.01979282419626001,
          0.029406458293294673,
          0.02666744851921769,
          0.029362248775447554,
          0.030117449953968534,
          0.025529759973220427,
          0.0245589035197256,
          0.030481149989829898,
          0.05173751859845826,
          0.0834062397279467,
          0.13259218968574948,
          0.16996046602961062,
          0.2183074113636138,
          0.2646029375292297,
          0.2979377753801262
         ],
         "line": {
          "color": "grey",
          "width": 0.25
         },
         "marker": {
          "color": "silver",
          "line": {
           "color": "black",
           "width": 0
          },
          "opacity": 0.9,
          "size": 6
         },
         "mode": "lines+text",
         "name": "AGO",
         "showlegend": false,
         "subplot": "ternary",
         "text": [
          "",
          "",
          "",
          "",
          "",
          "",
          "",
          "",
          "",
          "",
          "",
          "",
          "",
          "",
          ""
         ],
         "textfont": {
          "color": "black",
          "size": 6.538719153439127
         },
         "type": "scatterternary"
        },
        {
         "a": [
          0.3617986944461707,
          0.4064047590629364,
          0.39919868327111435,
          0.3510854690745457,
          0.29976848871249234
         ],
         "b": [
          0.6184084813575692,
          0.5641887826437691,
          0.5741338682096677,
          0.6195522821500069,
          0.6701140613335392
         ],
         "c": [
          0.01979282419626001,
          0.029406458293294673,
          0.02666744851921769,
          0.029362248775447554,
          0.030117449953968534
         ],
         "line": {
          "color": "grey",
          "width": 0.25
         },
         "marker": {
          "color": "silver",
          "line": {
           "color": "black",
           "width": 0
          },
          "opacity": 0.9,
          "size": 6
         },
         "mode": "lines+text",
         "name": "AGO",
         "showlegend": false,
         "subplot": "ternary",
         "text": [
          "",
          "",
          "",
          "",
          "",
          "",
          "",
          "",
          "",
          "",
          "",
          "",
          "",
          "",
          ""
         ],
         "textfont": {
          "color": "black",
          "size": 6.538719153439127
         },
         "type": "scatterternary"
        },
        {
         "a": [
          0,
          0,
          0,
          0,
          0,
          0,
          0,
          0,
          0,
          0,
          0,
          0,
          0,
          0,
          0
         ],
         "b": [
          0,
          0,
          0,
          0,
          0,
          0,
          0,
          0,
          0,
          0,
          0,
          0,
          0,
          0,
          0
         ],
         "c": [
          0,
          0,
          0,
          0,
          0,
          0,
          0,
          0,
          0,
          0,
          0,
          0,
          0,
          0,
          0
         ],
         "line": {
          "color": "grey",
          "width": 0.25
         },
         "marker": {
          "color": "silver",
          "line": {
           "color": "black",
           "width": 0
          },
          "opacity": 0.9,
          "size": 6
         },
         "mode": "lines+text",
         "name": "ATG",
         "showlegend": false,
         "subplot": "ternary",
         "text": [
          "",
          "",
          "",
          "",
          "",
          "",
          "",
          "",
          "",
          "",
          "",
          "",
          "",
          "",
          ""
         ],
         "textfont": {
          "color": "black",
          "size": 1.5281509136631874
         },
         "type": "scatterternary"
        },
        {
         "a": [
          0,
          0,
          0,
          0,
          0
         ],
         "b": [
          0,
          0,
          0,
          0,
          0
         ],
         "c": [
          0,
          0,
          0,
          0,
          0
         ],
         "line": {
          "color": "grey",
          "width": 0.25
         },
         "marker": {
          "color": "silver",
          "line": {
           "color": "black",
           "width": 0
          },
          "opacity": 0.9,
          "size": 6
         },
         "mode": "lines+text",
         "name": "ATG",
         "showlegend": false,
         "subplot": "ternary",
         "text": [
          "",
          "",
          "",
          "",
          "",
          "",
          "",
          "",
          "",
          "",
          "",
          "",
          "",
          "",
          ""
         ],
         "textfont": {
          "color": "black",
          "size": 1.5281509136631874
         },
         "type": "scatterternary"
        },
        {
         "a": [
          0.06428849103861846,
          0.08915060535061445,
          0.14841623497047832,
          0.15933224003164256,
          0.20597615590223264,
          0.30565715863438175,
          0.4763925453586045,
          0.6545339970094819,
          0.7007978731697128,
          0.6066982466155056,
          0.4699694979482171,
          0.3565622593281441,
          0.2628218301809408,
          0.20788800080843658,
          0.1869561661321027
         ],
         "b": [
          0.9323988666488706,
          0.9061499564671351,
          0.8437326219546023,
          0.8316354749495051,
          0.7809021192012048,
          0.6707154970105202,
          0.47797480820053895,
          0.2649630552733759,
          0.1746730970227606,
          0.23084844456489728,
          0.3392877405521239,
          0.42756678603632486,
          0.48926425649028565,
          0.5165946364134769,
          0.5298244797648186
         ],
         "c": [
          0.0033126423125109474,
          0.004699438182250485,
          0.007851143074919341,
          0.009032285018852578,
          0.013121724896562563,
          0.023627344355097866,
          0.04563264644085662,
          0.0805029477171423,
          0.12452902980752649,
          0.162453308819597,
          0.19074276149965896,
          0.21587095463553113,
          0.2479139133287737,
          0.2755173627780864,
          0.2832193541030787
         ],
         "line": {
          "color": "grey",
          "width": 0.25
         },
         "marker": {
          "color": "silver",
          "line": {
           "color": "black",
           "width": 0
          },
          "opacity": 0.9,
          "size": 6
         },
         "mode": "lines+text",
         "name": "ARG",
         "showlegend": false,
         "subplot": "ternary",
         "text": [
          "",
          "",
          "",
          "",
          "",
          "",
          "",
          "",
          "",
          "",
          "",
          "",
          "",
          "",
          ""
         ],
         "textfont": {
          "color": "black",
          "size": 7.272886742243632
         },
         "type": "scatterternary"
        },
        {
         "a": [
          0.06428849103861846,
          0.08915060535061445,
          0.14841623497047832,
          0.15933224003164256,
          0.20597615590223264
         ],
         "b": [
          0.9323988666488706,
          0.9061499564671351,
          0.8437326219546023,
          0.8316354749495051,
          0.7809021192012048
         ],
         "c": [
          0.0033126423125109474,
          0.004699438182250485,
          0.007851143074919341,
          0.009032285018852578,
          0.013121724896562563
         ],
         "line": {
          "color": "grey",
          "width": 0.25
         },
         "marker": {
          "color": "silver",
          "line": {
           "color": "black",
           "width": 0
          },
          "opacity": 0.9,
          "size": 6
         },
         "mode": "lines+text",
         "name": "ARG",
         "showlegend": false,
         "subplot": "ternary",
         "text": [
          "",
          "",
          "",
          "",
          "",
          "",
          "",
          "",
          "",
          "",
          "",
          "",
          "",
          "",
          ""
         ],
         "textfont": {
          "color": "black",
          "size": 7.272886742243632
         },
         "type": "scatterternary"
        },
        {
         "a": [
          0.017820858152730507,
          0.034179601722250354,
          0.06837021941468065,
          0.07492807140359886,
          0.09697249610948305,
          0.1458501741275685,
          0.24114872710886648,
          0.3722484847371965,
          0.4823119228245851,
          0.5396463810161432,
          0.5541524165785977,
          0.5507090727093338,
          0.5504665662592999,
          0.5428595242840498,
          0.5399738712905907
         ],
         "b": [
          0.9813144528988624,
          0.9641084538516717,
          0.9281351660157473,
          0.9209392909614211,
          0.8971800145228616,
          0.843401815689091,
          0.7364278902489826,
          0.5832685867492876,
          0.44183398439197175,
          0.35295923785485306,
          0.30318227865194153,
          0.2827645961416003,
          0.25977710027469364,
          0.2473026914121303,
          0.23553834371740276
         ],
         "c": [
          0.0008646889484073572,
          0.0017119444260779513,
          0.0034946145695720085,
          0.004132637634980112,
          0.005847489367655354,
          0.010748010183340519,
          0.02242338264215082,
          0.044482928513515874,
          0.07585409278344309,
          0.10739438112900386,
          0.14266530476946065,
          0.1665263311490658,
          0.1897563334660065,
          0.20983778430381994,
          0.2244877849920066
         ],
         "line": {
          "color": "grey",
          "width": 0.25
         },
         "marker": {
          "color": "silver",
          "line": {
           "color": "black",
           "width": 0
          },
          "opacity": 0.9,
          "size": 6
         },
         "mode": "lines+text",
         "name": "ARM",
         "showlegend": false,
         "subplot": "ternary",
         "text": [
          "",
          "",
          "",
          "",
          "",
          "",
          "",
          "",
          "",
          "",
          "",
          "",
          "",
          "",
          ""
         ],
         "textfont": {
          "color": "black",
          "size": 3.0709656555804554
         },
         "type": "scatterternary"
        },
        {
         "a": [
          0.017820858152730507,
          0.034179601722250354,
          0.06837021941468065,
          0.07492807140359886,
          0.09697249610948305
         ],
         "b": [
          0.9813144528988624,
          0.9641084538516717,
          0.9281351660157473,
          0.9209392909614211,
          0.8971800145228616
         ],
         "c": [
          0.0008646889484073572,
          0.0017119444260779513,
          0.0034946145695720085,
          0.004132637634980112,
          0.005847489367655354
         ],
         "line": {
          "color": "grey",
          "width": 0.25
         },
         "marker": {
          "color": "silver",
          "line": {
           "color": "black",
           "width": 0
          },
          "opacity": 0.9,
          "size": 6
         },
         "mode": "lines+text",
         "name": "ARM",
         "showlegend": false,
         "subplot": "ternary",
         "text": [
          "",
          "",
          "",
          "",
          "",
          "",
          "",
          "",
          "",
          "",
          "",
          "",
          "",
          "",
          ""
         ],
         "textfont": {
          "color": "black",
          "size": 3.0709656555804554
         },
         "type": "scatterternary"
        },
        {
         "a": [
          0.021246102999337175,
          0.02535159012724624,
          0.03959781437687736,
          0.0342501270121408,
          0.038824975914750204,
          0.059085167901177134,
          0.09458512695921178,
          0.1318518565340574,
          0.1341319779235498,
          0.11032961886756121,
          0.08814570300682145,
          0.07925886734689999,
          0.07422154114782545,
          0.06973046738449246,
          0.06723596775221105
         ],
         "b": [
          0.9777217746965606,
          0.973261354653884,
          0.9580071507360884,
          0.9630919738558695,
          0.9568375762168969,
          0.9301647596296502,
          0.8779223300208318,
          0.8029162628273327,
          0.758286255373801,
          0.7607933242398977,
          0.7780687077493329,
          0.7920888444371061,
          0.7974290004356605,
          0.7799841217280182,
          0.7525795114299676
         ],
         "c": [
          0.001032122304102272,
          0.0013870552188696753,
          0.002395034887034327,
          0.002657899131989567,
          0.004337447868352918,
          0.010750072469172822,
          0.027492543019956666,
          0.0652318806386098,
          0.10758176670264913,
          0.12887705689254103,
          0.13378558924384568,
          0.1286522882159939,
          0.12834945841651424,
          0.1502854108874892,
          0.18018452081782135
         ],
         "line": {
          "color": "grey",
          "width": 0.25
         },
         "marker": {
          "color": "silver",
          "line": {
           "color": "black",
           "width": 0
          },
          "opacity": 0.9,
          "size": 6
         },
         "mode": "lines+text",
         "name": "AUS",
         "showlegend": false,
         "subplot": "ternary",
         "text": [
          "",
          "",
          "",
          "",
          "",
          "",
          "",
          "",
          "",
          "",
          "",
          "",
          "",
          "",
          ""
         ],
         "textfont": {
          "color": "black",
          "size": 6.005564496399213
         },
         "type": "scatterternary"
        },
        {
         "a": [
          0.021246102999337175,
          0.02535159012724624,
          0.03959781437687736,
          0.0342501270121408,
          0.038824975914750204
         ],
         "b": [
          0.9777217746965606,
          0.973261354653884,
          0.9580071507360884,
          0.9630919738558695,
          0.9568375762168969
         ],
         "c": [
          0.001032122304102272,
          0.0013870552188696753,
          0.002395034887034327,
          0.002657899131989567,
          0.004337447868352918
         ],
         "line": {
          "color": "grey",
          "width": 0.25
         },
         "marker": {
          "color": "silver",
          "line": {
           "color": "black",
           "width": 0
          },
          "opacity": 0.9,
          "size": 6
         },
         "mode": "lines+text",
         "name": "AUS",
         "showlegend": false,
         "subplot": "ternary",
         "text": [
          "",
          "",
          "",
          "",
          "",
          "",
          "",
          "",
          "",
          "",
          "",
          "",
          "",
          "",
          ""
         ],
         "textfont": {
          "color": "black",
          "size": 6.005564496399213
         },
         "type": "scatterternary"
        },
        {
         "a": [
          0.40243162808720156,
          0.4386809963508944,
          0.5320550108542628,
          0.4937147412029226,
          0.4634771833391773,
          0.4440952196072039,
          0.4191203078724035,
          0.379818526261954,
          0.3286300524408607,
          0.29145002697759825,
          0.2690621851205378,
          0.26178515161611393,
          0.27044457188563154,
          0.29313368661543754,
          0.33169878557288857
         ],
         "b": [
          0.578104502826655,
          0.5391651810895731,
          0.43961690203175535,
          0.4753504145505303,
          0.4987802353668874,
          0.5035924059159572,
          0.5155383220209718,
          0.5406967306459699,
          0.5751031642686991,
          0.5950178777067572,
          0.5994784670782796,
          0.583999282165067,
          0.5633501047122569,
          0.525012792957901,
          0.4759736445352243
         ],
         "c": [
          0.019463869086143417,
          0.022153822559532493,
          0.02832808711398206,
          0.030934844246546928,
          0.03774258129393544,
          0.052312374476838994,
          0.06534137010662462,
          0.0794847430920761,
          0.09626678329044022,
          0.11353209531564443,
          0.13145934780118257,
          0.15421556621881916,
          0.16620532340211153,
          0.18185352042666142,
          0.1923275698918873
         ],
         "line": {
          "color": "grey",
          "width": 0.25
         },
         "marker": {
          "color": "silver",
          "line": {
           "color": "black",
           "width": 0
          },
          "opacity": 0.9,
          "size": 6
         },
         "mode": "lines+text",
         "name": "AUT",
         "showlegend": false,
         "subplot": "ternary",
         "text": [
          "",
          "",
          "",
          "",
          "",
          "",
          "",
          "",
          "",
          "",
          "",
          "",
          "",
          "",
          ""
         ],
         "textfont": {
          "color": "black",
          "size": 4.283323891888694
         },
         "type": "scatterternary"
        },
        {
         "a": [
          0.40243162808720156,
          0.4386809963508944,
          0.5320550108542628,
          0.4937147412029226,
          0.4634771833391773
         ],
         "b": [
          0.578104502826655,
          0.5391651810895731,
          0.43961690203175535,
          0.4753504145505303,
          0.4987802353668874
         ],
         "c": [
          0.019463869086143417,
          0.022153822559532493,
          0.02832808711398206,
          0.030934844246546928,
          0.03774258129393544
         ],
         "line": {
          "color": "grey",
          "width": 0.25
         },
         "marker": {
          "color": "silver",
          "line": {
           "color": "black",
           "width": 0
          },
          "opacity": 0.9,
          "size": 6
         },
         "mode": "lines+text",
         "name": "AUT",
         "showlegend": false,
         "subplot": "ternary",
         "text": [
          "",
          "",
          "",
          "",
          "",
          "",
          "",
          "",
          "",
          "",
          "",
          "",
          "",
          "",
          ""
         ],
         "textfont": {
          "color": "black",
          "size": 4.283323891888694
         },
         "type": "scatterternary"
        },
        {
         "a": [
          0.7996717896758556,
          0.8291277762082724,
          0.8596240806988589,
          0.8252559725145243,
          0.8151263877974839,
          0.811794034558228,
          0.8072118829768616,
          0.7903507885516186,
          0.7675409273225084,
          0.743653469211303,
          0.732743140458495,
          0.7195471021785913,
          0.7074616524682097,
          0.7010378204227115,
          0.6937406466502231
         ],
         "b": [
          0.16139366379322637,
          0.12800581521299387,
          0.09456835945704031,
          0.1233977656597371,
          0.1269875673439248,
          0.1204921372954724,
          0.10920676353740896,
          0.10664199446698908,
          0.10592635135260632,
          0.10894104993950479,
          0.09527199471630413,
          0.09697173211574972,
          0.10263008726597603,
          0.10819638837686431,
          0.11198620885748661
         ],
         "c": [
          0.0389345465309181,
          0.042866408578733584,
          0.04580755984410096,
          0.05134626182573864,
          0.05788604485859138,
          0.06771382814629964,
          0.08358135348572945,
          0.10300721698139227,
          0.12653272132488527,
          0.14740548084919203,
          0.17198486482520076,
          0.18348116570565892,
          0.18990826026581423,
          0.19076579120042408,
          0.19427314449229033
         ],
         "line": {
          "color": "grey",
          "width": 0.25
         },
         "marker": {
          "color": "silver",
          "line": {
           "color": "black",
           "width": 0
          },
          "opacity": 0.9,
          "size": 6
         },
         "mode": "lines+text",
         "name": "AZE",
         "showlegend": false,
         "subplot": "ternary",
         "text": [
          "",
          "",
          "",
          "",
          "",
          "",
          "",
          "",
          "",
          "",
          "",
          "",
          "",
          "",
          ""
         ],
         "textfont": {
          "color": "black",
          "size": 4.477155248223504
         },
         "type": "scatterternary"
        },
        {
         "a": [
          0.7996717896758556,
          0.8291277762082724,
          0.8596240806988589,
          0.8252559725145243,
          0.8151263877974839
         ],
         "b": [
          0.16139366379322637,
          0.12800581521299387,
          0.09456835945704031,
          0.1233977656597371,
          0.1269875673439248
         ],
         "c": [
          0.0389345465309181,
          0.042866408578733584,
          0.04580755984410096,
          0.05134626182573864,
          0.05788604485859138
         ],
         "line": {
          "color": "grey",
          "width": 0.25
         },
         "marker": {
          "color": "silver",
          "line": {
           "color": "black",
           "width": 0
          },
          "opacity": 0.9,
          "size": 6
         },
         "mode": "lines+text",
         "name": "AZE",
         "showlegend": false,
         "subplot": "ternary",
         "text": [
          "",
          "",
          "",
          "",
          "",
          "",
          "",
          "",
          "",
          "",
          "",
          "",
          "",
          "",
          ""
         ],
         "textfont": {
          "color": "black",
          "size": 4.477155248223504
         },
         "type": "scatterternary"
        },
        {
         "a": [
          0.0704360927984981,
          0.08138136261221776,
          0.13949715736289384,
          0.13149119064508938,
          0.13131640596469246,
          0.15893616325592402,
          0.2092170820783471,
          0.2233670338620714,
          0.17757850548957954,
          0.13130485910816886,
          0.09547095269606252,
          0.07159179768465324,
          0.05693370304267837,
          0.050942419096040414,
          0.04402439811706103
         ],
         "b": [
          0.9254668550106541,
          0.9135818648384173,
          0.8521731352273016,
          0.8585676989485149,
          0.8543615756093932,
          0.8150920277578328,
          0.7390720295017021,
          0.6888294899350712,
          0.7101620386776653,
          0.7374684630412954,
          0.7538510917587479,
          0.7400083267387424,
          0.7206573570955935,
          0.7060373155940157,
          0.6823584232495375
         ],
         "c": [
          0.004097052190847944,
          0.005036772549364602,
          0.008329707409804434,
          0.009941110406395674,
          0.01432201842591425,
          0.025971808986243298,
          0.0517108884199507,
          0.08780347620285728,
          0.11225945583275529,
          0.13122667785053563,
          0.1506779555451895,
          0.18839987557660443,
          0.2224089398617281,
          0.24302026530994383,
          0.27361717863340157
         ],
         "line": {
          "color": "grey",
          "width": 0.25
         },
         "marker": {
          "color": "silver",
          "line": {
           "color": "black",
           "width": 0
          },
          "opacity": 0.9,
          "size": 6
         },
         "mode": "lines+text",
         "name": "BHR",
         "showlegend": false,
         "subplot": "ternary",
         "text": [
          "",
          "",
          "",
          "",
          "",
          "",
          "",
          "",
          "",
          "",
          "",
          "",
          "",
          "",
          ""
         ],
         "textfont": {
          "color": "black",
          "size": 2.607979706744512
         },
         "type": "scatterternary"
        },
        {
         "a": [
          0.0704360927984981,
          0.08138136261221776,
          0.13949715736289384,
          0.13149119064508938,
          0.13131640596469246
         ],
         "b": [
          0.9254668550106541,
          0.9135818648384173,
          0.8521731352273016,
          0.8585676989485149,
          0.8543615756093932
         ],
         "c": [
          0.004097052190847944,
          0.005036772549364602,
          0.008329707409804434,
          0.009941110406395674,
          0.01432201842591425
         ],
         "line": {
          "color": "grey",
          "width": 0.25
         },
         "marker": {
          "color": "silver",
          "line": {
           "color": "black",
           "width": 0
          },
          "opacity": 0.9,
          "size": 6
         },
         "mode": "lines+text",
         "name": "BHR",
         "showlegend": false,
         "subplot": "ternary",
         "text": [
          "",
          "",
          "",
          "",
          "",
          "",
          "",
          "",
          "",
          "",
          "",
          "",
          "",
          "",
          ""
         ],
         "textfont": {
          "color": "black",
          "size": 2.607979706744512
         },
         "type": "scatterternary"
        },
        {
         "a": [
          0.008975947038699288,
          0.02626938592987274,
          0.06667443175372602,
          0.08516019596112748,
          0.11250433179061589,
          0.17246709613118344,
          0.29384078552007875,
          0.4721404985632289,
          0.6369598815253338,
          0.7242046666744599,
          0.7421263352262079,
          0.7169153176136863,
          0.6898451446336462,
          0.673224421068465,
          0.6561157575844312
         ],
         "b": [
          0.9905761744199411,
          0.9724394250534646,
          0.9299015706613736,
          0.910248799126202,
          0.8807012295906791,
          0.8145446921353691,
          0.6778042913222301,
          0.469165827320227,
          0.2585690333123086,
          0.1259905320526713,
          0.0672051839655511,
          0.0779167849265827,
          0.0967575915961388,
          0.11214085099744461,
          0.12378936075906874
         ],
         "c": [
          0.0004478785413595591,
          0.0012911890166626312,
          0.00342399758490049,
          0.004591004912670588,
          0.006794438618705073,
          0.012988211733447587,
          0.0283549231576911,
          0.05869367411654411,
          0.10447108516235742,
          0.14980480127286883,
          0.19066848080824114,
          0.20516789745973096,
          0.21339726377021506,
          0.21463472793409033,
          0.2200948816565002
         ],
         "line": {
          "color": "grey",
          "width": 0.25
         },
         "marker": {
          "color": "silver",
          "line": {
           "color": "black",
           "width": 0
          },
          "opacity": 0.9,
          "size": 6
         },
         "mode": "lines+text",
         "name": "BGD",
         "showlegend": false,
         "subplot": "ternary",
         "text": [
          "",
          "",
          "",
          "",
          "",
          "",
          "",
          "",
          "",
          "",
          "",
          "",
          "",
          "",
          ""
         ],
         "textfont": {
          "color": "black",
          "size": 11.593165546502235
         },
         "type": "scatterternary"
        },
        {
         "a": [
          0.008975947038699288,
          0.02626938592987274,
          0.06667443175372602,
          0.08516019596112748,
          0.11250433179061589
         ],
         "b": [
          0.9905761744199411,
          0.9724394250534646,
          0.9299015706613736,
          0.910248799126202,
          0.8807012295906791
         ],
         "c": [
          0.0004478785413595591,
          0.0012911890166626312,
          0.00342399758490049,
          0.004591004912670588,
          0.006794438618705073
         ],
         "line": {
          "color": "grey",
          "width": 0.25
         },
         "marker": {
          "color": "silver",
          "line": {
           "color": "black",
           "width": 0
          },
          "opacity": 0.9,
          "size": 6
         },
         "mode": "lines+text",
         "name": "BGD",
         "showlegend": false,
         "subplot": "ternary",
         "text": [
          "",
          "",
          "",
          "",
          "",
          "",
          "",
          "",
          "",
          "",
          "",
          "",
          "",
          "",
          ""
         ],
         "textfont": {
          "color": "black",
          "size": 11.593165546502235
         },
         "type": "scatterternary"
        },
        {
         "a": [
          0.04598726009896399,
          0.07864388285250268,
          0.14568366469165575,
          0.1649854814264529,
          0.2170713892564748,
          0.3178865161425952,
          0.4766972498342106,
          0.6207411773077273,
          0.7127192149030332,
          0.7026836388190391,
          0.6344994889959991,
          0.5368238633158026,
          0.45032808889608816,
          0.37691926283307015,
          0.33600379475130165
         ],
         "b": [
          0.9517759854262509,
          0.9174706631001517,
          0.8461990203972896,
          0.8213613259137309,
          0.7579207236251275,
          0.6393469355897365,
          0.4506952802734734,
          0.2690446575744447,
          0.15765944919105745,
          0.15404096439787732,
          0.20622944359350162,
          0.2855826071034019,
          0.35246050179143357,
          0.38829744712931463,
          0.41397204395371595
         ],
         "c": [
          0.0022367544747849445,
          0.0038854540473456435,
          0.008117314911054769,
          0.01365319265981614,
          0.02500788711839763,
          0.04276654826766825,
          0.07260746989231597,
          0.11021416511782803,
          0.12962133590590919,
          0.14327539678308363,
          0.15927106741049915,
          0.17759352958079547,
          0.19721140931247824,
          0.23478329003761517,
          0.2500241612949824
         ],
         "line": {
          "color": "grey",
          "width": 0.25
         },
         "marker": {
          "color": "silver",
          "line": {
           "color": "black",
           "width": 0
          },
          "opacity": 0.9,
          "size": 6
         },
         "mode": "lines+text",
         "name": "BRB",
         "showlegend": false,
         "subplot": "ternary",
         "text": [
          "",
          "",
          "",
          "",
          "",
          "",
          "",
          "",
          "",
          "",
          "",
          "",
          "",
          "",
          ""
         ],
         "textfont": {
          "color": "black",
          "size": 1.8234999284297813
         },
         "type": "scatterternary"
        },
        {
         "a": [
          0.04598726009896399,
          0.07864388285250268,
          0.14568366469165575,
          0.1649854814264529,
          0.2170713892564748
         ],
         "b": [
          0.9517759854262509,
          0.9174706631001517,
          0.8461990203972896,
          0.8213613259137309,
          0.7579207236251275
         ],
         "c": [
          0.0022367544747849445,
          0.0038854540473456435,
          0.008117314911054769,
          0.01365319265981614,
          0.02500788711839763
         ],
         "line": {
          "color": "grey",
          "width": 0.25
         },
         "marker": {
          "color": "silver",
          "line": {
           "color": "black",
           "width": 0
          },
          "opacity": 0.9,
          "size": 6
         },
         "mode": "lines+text",
         "name": "BRB",
         "showlegend": false,
         "subplot": "ternary",
         "text": [
          "",
          "",
          "",
          "",
          "",
          "",
          "",
          "",
          "",
          "",
          "",
          "",
          "",
          "",
          ""
         ],
         "textfont": {
          "color": "black",
          "size": 1.8234999284297813
         },
         "type": "scatterternary"
        },
        {
         "a": [
          0.04005406511042975,
          0.04595473811807616,
          0.06862761249060012,
          0.06398822904979964,
          0.07144880501577613,
          0.09940550691937179,
          0.16321723745186859,
          0.28885022547470546,
          0.4717004797096649,
          0.6474409138435253,
          0.7679694750068091,
          0.7555364008328211,
          0.7278145171428647,
          0.7051856894308811,
          0.6929592487956804
         ],
         "b": [
          0.9580075886654648,
          0.9517914579843894,
          0.9278239659883573,
          0.9322912871862302,
          0.9236746504154272,
          0.8917216984229002,
          0.8174578746015241,
          0.6697279502696702,
          0.44730933871094725,
          0.22559119261692112,
          0.06171239197533169,
          0.0639036385341845,
          0.08190380786752344,
          0.09739309461427033,
          0.1046816381707377
         ],
         "c": [
          0.001938346224105283,
          0.0022538038975344703,
          0.0035484215210425897,
          0.0037204837639700653,
          0.0048765445687967415,
          0.008872794657728167,
          0.01932488794660737,
          0.04142182425562431,
          0.0809901815793879,
          0.12696789353955332,
          0.17031813301785922,
          0.1805599606329944,
          0.19028167498961207,
          0.1974212159548486,
          0.20235911303358206
         ],
         "line": {
          "color": "grey",
          "width": 0.25
         },
         "marker": {
          "color": "silver",
          "line": {
           "color": "black",
           "width": 0
          },
          "opacity": 0.9,
          "size": 6
         },
         "mode": "lines+text",
         "name": "BLR",
         "showlegend": false,
         "subplot": "ternary",
         "text": [
          "",
          "",
          "",
          "",
          "",
          "",
          "",
          "",
          "",
          "",
          "",
          "",
          "",
          "",
          ""
         ],
         "textfont": {
          "color": "black",
          "size": 4.392702579435516
         },
         "type": "scatterternary"
        },
        {
         "a": [
          0.04005406511042975,
          0.04595473811807616,
          0.06862761249060012,
          0.06398822904979964,
          0.07144880501577613
         ],
         "b": [
          0.9580075886654648,
          0.9517914579843894,
          0.9278239659883573,
          0.9322912871862302,
          0.9236746504154272
         ],
         "c": [
          0.001938346224105283,
          0.0022538038975344703,
          0.0035484215210425897,
          0.0037204837639700653,
          0.0048765445687967415
         ],
         "line": {
          "color": "grey",
          "width": 0.25
         },
         "marker": {
          "color": "silver",
          "line": {
           "color": "black",
           "width": 0
          },
          "opacity": 0.9,
          "size": 6
         },
         "mode": "lines+text",
         "name": "BLR",
         "showlegend": false,
         "subplot": "ternary",
         "text": [
          "",
          "",
          "",
          "",
          "",
          "",
          "",
          "",
          "",
          "",
          "",
          "",
          "",
          "",
          ""
         ],
         "textfont": {
          "color": "black",
          "size": 4.392702579435516
         },
         "type": "scatterternary"
        },
        {
         "a": [
          0.03893354387762509,
          0.04913718041795822,
          0.07980136693203864,
          0.07553718954352365,
          0.08680347656250659,
          0.12458924586105395,
          0.19833287493461357,
          0.29446695535550366,
          0.34203119078286986,
          0.34025061629607883,
          0.32720288414535714,
          0.326883898345871,
          0.3447518784565802,
          0.3765870395229963,
          0.42574420242474437
         ],
         "b": [
          0.9591923227116251,
          0.9483730465505411,
          0.9159801916886647,
          0.9197882363343504,
          0.9063309622160817,
          0.8613182196739635,
          0.7716393234980834,
          0.6457676223620358,
          0.5616957372189713,
          0.5371016446318174,
          0.5334307918648205,
          0.5155047839875447,
          0.4859850424103598,
          0.43782511776198046,
          0.3787501241257758
         ],
         "c": [
          0.001874133410749665,
          0.0024897730315007953,
          0.004218441379296617,
          0.004674574122125767,
          0.006865561221411558,
          0.014092534464982723,
          0.030027801567303038,
          0.059765422282460616,
          0.09627307199815893,
          0.1226477390721036,
          0.1393663239898223,
          0.15761131766658418,
          0.16926307913306005,
          0.1855878427150232,
          0.19550567344947972
         ],
         "line": {
          "color": "grey",
          "width": 0.25
         },
         "marker": {
          "color": "silver",
          "line": {
           "color": "black",
           "width": 0
          },
          "opacity": 0.9,
          "size": 6
         },
         "mode": "lines+text",
         "name": "BEL",
         "showlegend": false,
         "subplot": "ternary",
         "text": [
          "",
          "",
          "",
          "",
          "",
          "",
          "",
          "",
          "",
          "",
          "",
          "",
          "",
          "",
          ""
         ],
         "textfont": {
          "color": "black",
          "size": 4.642819857677701
         },
         "type": "scatterternary"
        },
        {
         "a": [
          0.03893354387762509,
          0.04913718041795822,
          0.07980136693203864,
          0.07553718954352365,
          0.08680347656250659
         ],
         "b": [
          0.9591923227116251,
          0.9483730465505411,
          0.9159801916886647,
          0.9197882363343504,
          0.9063309622160817
         ],
         "c": [
          0.001874133410749665,
          0.0024897730315007953,
          0.004218441379296617,
          0.004674574122125767,
          0.006865561221411558
         ],
         "line": {
          "color": "grey",
          "width": 0.25
         },
         "marker": {
          "color": "silver",
          "line": {
           "color": "black",
           "width": 0
          },
          "opacity": 0.9,
          "size": 6
         },
         "mode": "lines+text",
         "name": "BEL",
         "showlegend": false,
         "subplot": "ternary",
         "text": [
          "",
          "",
          "",
          "",
          "",
          "",
          "",
          "",
          "",
          "",
          "",
          "",
          "",
          "",
          ""
         ],
         "textfont": {
          "color": "black",
          "size": 4.642819857677701
         },
         "type": "scatterternary"
        },
        {
         "a": [
          0.048613710096245565,
          0.049942802158422665,
          0.07042040562752323,
          0.0714411283483603,
          0.0824149038994783,
          0.1085622956714319,
          0.1542009900528317,
          0.20282786542998227,
          0.2841538771989257,
          0.3774462561023201,
          0.4786141773639041,
          0.5302385220484086,
          0.5119773964974337,
          0.4401897900611354,
          0.3564161331190285
         ],
         "b": [
          0.9489985003030205,
          0.9474539147419235,
          0.9242679638515606,
          0.9133518121603444,
          0.8819120436319778,
          0.8290229533425878,
          0.7384107801710418,
          0.6146185305824994,
          0.5060559672133709,
          0.38118678634889236,
          0.26555871499976724,
          0.2474916917624465,
          0.3170238962663387,
          0.40458665703336333,
          0.4898017676268422
         ],
         "c": [
          0.0023877896007338277,
          0.0026032830996539423,
          0.005311630520916296,
          0.015207059491295328,
          0.03567305246854367,
          0.06241475098598027,
          0.10738822977612657,
          0.18255360398751866,
          0.20979015558770336,
          0.24136695754878773,
          0.2558271076363286,
          0.222269786189145,
          0.17099870723622768,
          0.1552235529055013,
          0.15378209925412942
         ],
         "line": {
          "color": "grey",
          "width": 0.25
         },
         "marker": {
          "color": "silver",
          "line": {
           "color": "black",
           "width": 0
          },
          "opacity": 0.9,
          "size": 6
         },
         "mode": "lines+text",
         "name": "BLZ",
         "showlegend": false,
         "subplot": "ternary",
         "text": [
          "",
          "",
          "",
          "",
          "",
          "",
          "",
          "",
          "",
          "",
          "",
          "",
          "",
          "",
          ""
         ],
         "textfont": {
          "color": "black",
          "size": 1.9419730526624397
         },
         "type": "scatterternary"
        },
        {
         "a": [
          0.048613710096245565,
          0.049942802158422665,
          0.07042040562752323,
          0.0714411283483603,
          0.0824149038994783
         ],
         "b": [
          0.9489985003030205,
          0.9474539147419235,
          0.9242679638515606,
          0.9133518121603444,
          0.8819120436319778
         ],
         "c": [
          0.0023877896007338277,
          0.0026032830996539423,
          0.005311630520916296,
          0.015207059491295328,
          0.03567305246854367
         ],
         "line": {
          "color": "grey",
          "width": 0.25
         },
         "marker": {
          "color": "silver",
          "line": {
           "color": "black",
           "width": 0
          },
          "opacity": 0.9,
          "size": 6
         },
         "mode": "lines+text",
         "name": "BLZ",
         "showlegend": false,
         "subplot": "ternary",
         "text": [
          "",
          "",
          "",
          "",
          "",
          "",
          "",
          "",
          "",
          "",
          "",
          "",
          "",
          "",
          ""
         ],
         "textfont": {
          "color": "black",
          "size": 1.9419730526624397
         },
         "type": "scatterternary"
        },
        {
         "a": [
          0.043314576858599914,
          0.09352289536892781,
          0.20935621846345479,
          0.27298459503246664,
          0.32209788577335435,
          0.3873772374902789,
          0.42768548042832155,
          0.4070772521521528,
          0.35319196715251516,
          0.30855649803959445,
          0.26511277805646344,
          0.2535213638239375,
          0.26063370376962053,
          0.28664673944743524,
          0.32198593634826306
         ],
         "b": [
          0.954587903036141,
          0.9016292425862277,
          0.7792955899325419,
          0.7097584263370135,
          0.6567224215598967,
          0.5792144364740232,
          0.5194045502947235,
          0.5135037832403899,
          0.5387751017470773,
          0.5525115270222861,
          0.5599187258929047,
          0.5400527838649252,
          0.5109654110943275,
          0.47004478837617797,
          0.42446610523183737
         ],
         "c": [
          0.0020975201052590353,
          0.004847862044844627,
          0.011348191604003462,
          0.017256978630519875,
          0.02117969266674904,
          0.03340832603569821,
          0.05290996927695495,
          0.07941896460745726,
          0.10803293110040749,
          0.13893197493811954,
          0.17496849605063167,
          0.20642585231113744,
          0.22840088513605206,
          0.24330847217638668,
          0.25354795841989974
         ],
         "line": {
          "color": "grey",
          "width": 0.25
         },
         "marker": {
          "color": "silver",
          "line": {
           "color": "black",
           "width": 0
          },
          "opacity": 0.9,
          "size": 6
         },
         "mode": "lines+text",
         "name": "BEN",
         "showlegend": false,
         "subplot": "ternary",
         "text": [
          "",
          "",
          "",
          "",
          "",
          "",
          "",
          "",
          "",
          "",
          "",
          "",
          "",
          "",
          ""
         ],
         "textfont": {
          "color": "black",
          "size": 4.756977190336332
         },
         "type": "scatterternary"
        },
        {
         "a": [
          0.043314576858599914,
          0.09352289536892781,
          0.20935621846345479,
          0.27298459503246664,
          0.32209788577335435
         ],
         "b": [
          0.954587903036141,
          0.9016292425862277,
          0.7792955899325419,
          0.7097584263370135,
          0.6567224215598967
         ],
         "c": [
          0.0020975201052590353,
          0.004847862044844627,
          0.011348191604003462,
          0.017256978630519875,
          0.02117969266674904
         ],
         "line": {
          "color": "grey",
          "width": 0.25
         },
         "marker": {
          "color": "silver",
          "line": {
           "color": "black",
           "width": 0
          },
          "opacity": 0.9,
          "size": 6
         },
         "mode": "lines+text",
         "name": "BEN",
         "showlegend": false,
         "subplot": "ternary",
         "text": [
          "",
          "",
          "",
          "",
          "",
          "",
          "",
          "",
          "",
          "",
          "",
          "",
          "",
          "",
          ""
         ],
         "textfont": {
          "color": "black",
          "size": 4.756977190336332
         },
         "type": "scatterternary"
        },
        {
         "a": [
          0.017136601924565186,
          0.036302138862512386,
          0.07568142648474808,
          0.09845866146911045,
          0.14769522488977363,
          0.2385227164014923,
          0.38438398171574906,
          0.5383059430474935,
          0.6435224155958983,
          0.6841013830338447,
          0.6770662498985643,
          0.650318411599964,
          0.6000582625697679,
          0.5573481852392298,
          0.5374598368108306
         ],
         "b": [
          0.9820326155964629,
          0.961862548845033,
          0.920228263079963,
          0.8958162135616623,
          0.8424261457034548,
          0.7397795764885632,
          0.5698373557364155,
          0.3756026740465663,
          0.22348808185245225,
          0.1448661206291701,
          0.12616788018484124,
          0.14945533879846132,
          0.19911505689080003,
          0.2422521902272283,
          0.26413352309201893
         ],
         "c": [
          0.0008307824789719355,
          0.0018353122924548164,
          0.0040903104352891075,
          0.005725124969227323,
          0.009878629406771719,
          0.021697707109944585,
          0.04577866254783542,
          0.08609138290594005,
          0.1329895025516493,
          0.17103249633698503,
          0.19676586991659437,
          0.2002262496015747,
          0.20082668053943198,
          0.20039962453354204,
          0.1984066400971504
         ],
         "line": {
          "color": "grey",
          "width": 0.25
         },
         "marker": {
          "color": "silver",
          "line": {
           "color": "black",
           "width": 0
          },
          "opacity": 0.9,
          "size": 6
         },
         "mode": "lines+text",
         "name": "BTN",
         "showlegend": false,
         "subplot": "ternary",
         "text": [
          "",
          "",
          "",
          "",
          "",
          "",
          "",
          "",
          "",
          "",
          "",
          "",
          "",
          "",
          ""
         ],
         "textfont": {
          "color": "black",
          "size": 2.233479306998123
         },
         "type": "scatterternary"
        },
        {
         "a": [
          0.017136601924565186,
          0.036302138862512386,
          0.07568142648474808,
          0.09845866146911045,
          0.14769522488977363
         ],
         "b": [
          0.9820326155964629,
          0.961862548845033,
          0.920228263079963,
          0.8958162135616623,
          0.8424261457034548
         ],
         "c": [
          0.0008307824789719355,
          0.0018353122924548164,
          0.0040903104352891075,
          0.005725124969227323,
          0.009878629406771719
         ],
         "line": {
          "color": "grey",
          "width": 0.25
         },
         "marker": {
          "color": "silver",
          "line": {
           "color": "black",
           "width": 0
          },
          "opacity": 0.9,
          "size": 6
         },
         "mode": "lines+text",
         "name": "BTN",
         "showlegend": false,
         "subplot": "ternary",
         "text": [
          "",
          "",
          "",
          "",
          "",
          "",
          "",
          "",
          "",
          "",
          "",
          "",
          "",
          "",
          ""
         ],
         "textfont": {
          "color": "black",
          "size": 2.233479306998123
         },
         "type": "scatterternary"
        },
        {
         "a": [
          0.04801319240733442,
          0.06712641167052558,
          0.11055156499326217,
          0.11757402266719685,
          0.14627752536481103,
          0.20698784272800685,
          0.2911856494507221,
          0.3545997617370705,
          0.3678094808264321,
          0.37891917083503773,
          0.40216507781150984,
          0.41043868813660134,
          0.41510395575193143,
          0.42365390001696634,
          0.43246571764058217
         ],
         "b": [
          0.9495656920205847,
          0.9294486134514329,
          0.8837807165843674,
          0.8751264579480291,
          0.840834791718263,
          0.767229850721339,
          0.6484604432446658,
          0.5194999909788377,
          0.42585541727925497,
          0.3579229722562339,
          0.2919814641075257,
          0.2512463467388666,
          0.2211657198037222,
          0.20131826348522666,
          0.18803720612971053
         ],
         "c": [
          0.0024211155720810333,
          0.0034249748780416306,
          0.00566771842237042,
          0.007299519384774003,
          0.012887682916926062,
          0.02578230655065425,
          0.06035390730461205,
          0.12590024728409194,
          0.20633510189431298,
          0.26315785690872856,
          0.3058534580809646,
          0.3383149651245321,
          0.3637303244443462,
          0.37502783649780685,
          0.37949707622970735
         ],
         "line": {
          "color": "grey",
          "width": 0.25
         },
         "marker": {
          "color": "silver",
          "line": {
           "color": "black",
           "width": 0
          },
          "opacity": 0.9,
          "size": 6
         },
         "mode": "lines+text",
         "name": "BOL",
         "showlegend": false,
         "subplot": "ternary",
         "text": [
          "",
          "",
          "",
          "",
          "",
          "",
          "",
          "",
          "",
          "",
          "",
          "",
          "",
          "",
          ""
         ],
         "textfont": {
          "color": "black",
          "size": 4.683024244039842
         },
         "type": "scatterternary"
        },
        {
         "a": [
          0.04801319240733442,
          0.06712641167052558,
          0.11055156499326217,
          0.11757402266719685,
          0.14627752536481103
         ],
         "b": [
          0.9495656920205847,
          0.9294486134514329,
          0.8837807165843674,
          0.8751264579480291,
          0.840834791718263
         ],
         "c": [
          0.0024211155720810333,
          0.0034249748780416306,
          0.00566771842237042,
          0.007299519384774003,
          0.012887682916926062
         ],
         "line": {
          "color": "grey",
          "width": 0.25
         },
         "marker": {
          "color": "silver",
          "line": {
           "color": "black",
           "width": 0
          },
          "opacity": 0.9,
          "size": 6
         },
         "mode": "lines+text",
         "name": "BOL",
         "showlegend": false,
         "subplot": "ternary",
         "text": [
          "",
          "",
          "",
          "",
          "",
          "",
          "",
          "",
          "",
          "",
          "",
          "",
          "",
          "",
          ""
         ],
         "textfont": {
          "color": "black",
          "size": 4.683024244039842
         },
         "type": "scatterternary"
        },
        {
         "a": [
          0.22325071723979534,
          0.30773928580542315,
          0.3979058792599563,
          0.407903228692782,
          0.4935956330524149,
          0.5887549604509976,
          0.6552985207670885,
          0.6724704191322818,
          0.6647357767559348,
          0.6485745951796091,
          0.6370435735157477,
          0.6089455280314885,
          0.5767309034527703,
          0.555260170305469,
          0.547542582518135
         ],
         "b": [
          0.7656406354140318,
          0.6757766976483929,
          0.5814293581127349,
          0.5692943278486408,
          0.4758334515871166,
          0.36551738732304906,
          0.27855167825576865,
          0.23902286166834197,
          0.21702768045829082,
          0.20486353007765534,
          0.18333486677996905,
          0.18581223480320186,
          0.1926250429770092,
          0.2010000400866527,
          0.20869178125987647
         ],
         "c": [
          0.011108647346172899,
          0.01648401654618398,
          0.020664762627308774,
          0.02280244345857733,
          0.030570915360468413,
          0.045727652225953326,
          0.06614980097714261,
          0.08850671919937633,
          0.11823654278577422,
          0.14656187474273538,
          0.1796215597042833,
          0.2052422371653097,
          0.2306440535702205,
          0.24373978960787832,
          0.24376563622198866
         ],
         "line": {
          "color": "grey",
          "width": 0.25
         },
         "marker": {
          "color": "silver",
          "line": {
           "color": "black",
           "width": 0
          },
          "opacity": 0.9,
          "size": 6
         },
         "mode": "lines+text",
         "name": "BIH",
         "showlegend": false,
         "subplot": "ternary",
         "text": [
          "",
          "",
          "",
          "",
          "",
          "",
          "",
          "",
          "",
          "",
          "",
          "",
          "",
          "",
          ""
         ],
         "textfont": {
          "color": "black",
          "size": 3.2186339236598704
         },
         "type": "scatterternary"
        },
        {
         "a": [
          0.22325071723979534,
          0.30773928580542315,
          0.3979058792599563,
          0.407903228692782,
          0.4935956330524149
         ],
         "b": [
          0.7656406354140318,
          0.6757766976483929,
          0.5814293581127349,
          0.5692943278486408,
          0.4758334515871166
         ],
         "c": [
          0.011108647346172899,
          0.01648401654618398,
          0.020664762627308774,
          0.02280244345857733,
          0.030570915360468413
         ],
         "line": {
          "color": "grey",
          "width": 0.25
         },
         "marker": {
          "color": "silver",
          "line": {
           "color": "black",
           "width": 0
          },
          "opacity": 0.9,
          "size": 6
         },
         "mode": "lines+text",
         "name": "BIH",
         "showlegend": false,
         "subplot": "ternary",
         "text": [
          "",
          "",
          "",
          "",
          "",
          "",
          "",
          "",
          "",
          "",
          "",
          "",
          "",
          "",
          ""
         ],
         "textfont": {
          "color": "black",
          "size": 3.2186339236598704
         },
         "type": "scatterternary"
        },
        {
         "a": [
          0.14598311731165184,
          0.1668494570629868,
          0.2372984768439644,
          0.2690436504658946,
          0.32547843871631255,
          0.3884347355163627,
          0.4713402094237136,
          0.5298884863081165,
          0.5636366293955444,
          0.5511622025382622,
          0.47886244192730104,
          0.37460510409142506,
          0.27200999202670945,
          0.21457052946579971,
          0.1898880979428238
         ],
         "b": [
          0.8459537692250476,
          0.8212049382307853,
          0.7482949651473854,
          0.7149271177565406,
          0.6471543450201095,
          0.5615290522929911,
          0.4522415506622572,
          0.366794551368253,
          0.30700945680289743,
          0.29709737273879994,
          0.3523237857056363,
          0.4383660869055037,
          0.5149083949304754,
          0.5523527763758981,
          0.579533319576592
         ],
         "c": [
          0.008063113463300766,
          0.011945604706227917,
          0.014406558008650296,
          0.016029231777564653,
          0.02736721626357786,
          0.05003621219064628,
          0.07641823991402921,
          0.10331696232363058,
          0.1293539138015583,
          0.15174042472293783,
          0.16881377236706285,
          0.18702880900307114,
          0.21308161304281525,
          0.23307669415830226,
          0.23057858248058408
         ],
         "line": {
          "color": "grey",
          "width": 0.25
         },
         "marker": {
          "color": "silver",
          "line": {
           "color": "black",
           "width": 0
          },
          "opacity": 0.9,
          "size": 6
         },
         "mode": "lines+text",
         "name": "BWA",
         "showlegend": false,
         "subplot": "ternary",
         "text": [
          "",
          "",
          "",
          "",
          "",
          "",
          "",
          "",
          "",
          "",
          "",
          "",
          "",
          "",
          ""
         ],
         "textfont": {
          "color": "black",
          "size": 2.9830839029263903
         },
         "type": "scatterternary"
        },
        {
         "a": [
          0.14598311731165184,
          0.1668494570629868,
          0.2372984768439644,
          0.2690436504658946,
          0.32547843871631255
         ],
         "b": [
          0.8459537692250476,
          0.8212049382307853,
          0.7482949651473854,
          0.7149271177565406,
          0.6471543450201095
         ],
         "c": [
          0.008063113463300766,
          0.011945604706227917,
          0.014406558008650296,
          0.016029231777564653,
          0.02736721626357786
         ],
         "line": {
          "color": "grey",
          "width": 0.25
         },
         "marker": {
          "color": "silver",
          "line": {
           "color": "black",
           "width": 0
          },
          "opacity": 0.9,
          "size": 6
         },
         "mode": "lines+text",
         "name": "BWA",
         "showlegend": false,
         "subplot": "ternary",
         "text": [
          "",
          "",
          "",
          "",
          "",
          "",
          "",
          "",
          "",
          "",
          "",
          "",
          "",
          "",
          ""
         ],
         "textfont": {
          "color": "black",
          "size": 2.9830839029263903
         },
         "type": "scatterternary"
        },
        {
         "a": [
          0.0665148399729943,
          0.0832479405446553,
          0.13510448207484607,
          0.14290967449487102,
          0.1739153868033551,
          0.24995191106744283,
          0.39026056940198367,
          0.5523517841844496,
          0.59080276551594,
          0.48352171490851537,
          0.3543954863611801,
          0.2666614937152055,
          0.19529101396105333,
          0.15465041884287056,
          0.13418119674409984
         ],
         "b": [
          0.9302816507426805,
          0.9125797893346564,
          0.8577320381433486,
          0.8483631557344913,
          0.8148486475996656,
          0.7304073427853552,
          0.5708153949968197,
          0.3749495422687245,
          0.2957071044257926,
          0.3726699111161939,
          0.47659046596074867,
          0.5413519196425733,
          0.572626878776076,
          0.5799136737043699,
          0.5747302584479553
         ],
         "c": [
          0.003203509284325257,
          0.004172270120688449,
          0.007163479781805395,
          0.008727169770637595,
          0.011235965596979374,
          0.01964074614720199,
          0.038924035601196706,
          0.07269867354682595,
          0.1134901300582673,
          0.1438083739752909,
          0.16901404767807116,
          0.19198658664222124,
          0.23208210726287057,
          0.2654359074527596,
          0.2910885448079449
         ],
         "line": {
          "color": "grey",
          "width": 0.25
         },
         "marker": {
          "color": "green",
          "line": {
           "color": "black",
           "width": 0
          },
          "opacity": 0.9,
          "size": 6
         },
         "mode": "lines+text",
         "name": "BRA",
         "showlegend": false,
         "subplot": "ternary",
         "text": [
          "",
          "",
          "",
          "",
          "",
          "",
          "",
          "",
          "",
          "",
          "",
          "",
          "",
          "",
          ""
         ],
         "textfont": {
          "color": "black",
          "size": 12.682422456701117
         },
         "type": "scatterternary"
        },
        {
         "a": [
          0.0665148399729943,
          0.0832479405446553,
          0.13510448207484607,
          0.14290967449487102,
          0.1739153868033551
         ],
         "b": [
          0.9302816507426805,
          0.9125797893346564,
          0.8577320381433486,
          0.8483631557344913,
          0.8148486475996656
         ],
         "c": [
          0.003203509284325257,
          0.004172270120688449,
          0.007163479781805395,
          0.008727169770637595,
          0.011235965596979374
         ],
         "line": {
          "color": "grey",
          "width": 0.25
         },
         "marker": {
          "color": "green",
          "line": {
           "color": "black",
           "width": 0
          },
          "opacity": 0.9,
          "size": 6
         },
         "mode": "lines+text",
         "name": "BRA",
         "showlegend": false,
         "subplot": "ternary",
         "text": [
          "",
          "",
          "",
          "",
          "",
          "",
          "",
          "",
          "",
          "",
          "",
          "",
          "",
          "",
          ""
         ],
         "textfont": {
          "color": "black",
          "size": 12.682422456701117
         },
         "type": "scatterternary"
        },
        {
         "a": [
          0.053667069360826346,
          0.07208267895915262,
          0.12963910489844127,
          0.13599711900717304,
          0.154808320721302,
          0.20624278357808776,
          0.24863430478021464,
          0.23467979827427837,
          0.17802942865925328,
          0.1427361829165752,
          0.11177987634051346,
          0.09303494249117178,
          0.08491922426252466,
          0.07969650102512225,
          0.07782836079352735
         ],
         "b": [
          0.9432826544760418,
          0.9236277015727,
          0.8624703273128844,
          0.8530681175292263,
          0.8288997581465751,
          0.7614866416861407,
          0.6993501011322125,
          0.6890057239184537,
          0.7145847160270319,
          0.7300255533903854,
          0.7362707389408605,
          0.726486561087607,
          0.7161894132167942,
          0.70241220577589,
          0.6933277245985048
         ],
         "c": [
          0.0030502761631316924,
          0.004289619468147156,
          0.007890567788674127,
          0.010934763463600715,
          0.016291921132122744,
          0.03227057473577161,
          0.052015594087572954,
          0.07631447780726806,
          0.10738585531371497,
          0.12723826369303937,
          0.151949384718626,
          0.1804784964212214,
          0.19889136252068126,
          0.21789129319898767,
          0.22884391460796788
         ],
         "line": {
          "color": "grey",
          "width": 0.25
         },
         "marker": {
          "color": "silver",
          "line": {
           "color": "black",
           "width": 0
          },
          "opacity": 0.9,
          "size": 6
         },
         "mode": "lines+text",
         "name": "BRN",
         "showlegend": false,
         "subplot": "ternary",
         "text": [
          "",
          "",
          "",
          "",
          "",
          "",
          "",
          "",
          "",
          "",
          "",
          "",
          "",
          "",
          ""
         ],
         "textfont": {
          "color": "black",
          "size": 1.985996719985936
         },
         "type": "scatterternary"
        },
        {
         "a": [
          0.053667069360826346,
          0.07208267895915262,
          0.12963910489844127,
          0.13599711900717304,
          0.154808320721302
         ],
         "b": [
          0.9432826544760418,
          0.9236277015727,
          0.8624703273128844,
          0.8530681175292263,
          0.8288997581465751
         ],
         "c": [
          0.0030502761631316924,
          0.004289619468147156,
          0.007890567788674127,
          0.010934763463600715,
          0.016291921132122744
         ],
         "line": {
          "color": "grey",
          "width": 0.25
         },
         "marker": {
          "color": "silver",
          "line": {
           "color": "black",
           "width": 0
          },
          "opacity": 0.9,
          "size": 6
         },
         "mode": "lines+text",
         "name": "BRN",
         "showlegend": false,
         "subplot": "ternary",
         "text": [
          "",
          "",
          "",
          "",
          "",
          "",
          "",
          "",
          "",
          "",
          "",
          "",
          "",
          "",
          ""
         ],
         "textfont": {
          "color": "black",
          "size": 1.985996719985936
         },
         "type": "scatterternary"
        },
        {
         "a": [
          0.21125267644264256,
          0.26754020047593163,
          0.38997297126044855,
          0.385245047582741,
          0.40431983974976377,
          0.4467543517335706,
          0.47361961705277106,
          0.46404602709775183,
          0.4321039097418508,
          0.3973264708734238,
          0.36854319574194205,
          0.3542248401762037,
          0.3453994598560896,
          0.3426156020723316,
          0.34953793277803813
         ],
         "b": [
          0.7785270362914675,
          0.719123789402567,
          0.5902208968304422,
          0.593097689763766,
          0.5697321853161061,
          0.5152211709627882,
          0.47299456454747035,
          0.4637551753683431,
          0.47319760895713503,
          0.48279392644737784,
          0.48557872020128107,
          0.47687163564024015,
          0.4637636308216314,
          0.44800065713824805,
          0.4276269115397856
         ],
         "c": [
          0.010220287265889938,
          0.013336010121501391,
          0.019806131909109063,
          0.02165726265349286,
          0.025947974934130303,
          0.0380244773036413,
          0.05338581839975846,
          0.07219879753390507,
          0.09469848130101427,
          0.11987960267919841,
          0.14587808405677685,
          0.16890352418355598,
          0.19083690932227892,
          0.20938374078942035,
          0.22283515568217632
         ],
         "line": {
          "color": "grey",
          "width": 0.25
         },
         "marker": {
          "color": "silver",
          "line": {
           "color": "black",
           "width": 0
          },
          "opacity": 0.9,
          "size": 6
         },
         "mode": "lines+text",
         "name": "BGR",
         "showlegend": false,
         "subplot": "ternary",
         "text": [
          "",
          "",
          "",
          "",
          "",
          "",
          "",
          "",
          "",
          "",
          "",
          "",
          "",
          "",
          ""
         ],
         "textfont": {
          "color": "black",
          "size": 3.985912067184488
         },
         "type": "scatterternary"
        },
        {
         "a": [
          0.21125267644264256,
          0.26754020047593163,
          0.38997297126044855,
          0.385245047582741,
          0.40431983974976377
         ],
         "b": [
          0.7785270362914675,
          0.719123789402567,
          0.5902208968304422,
          0.593097689763766,
          0.5697321853161061
         ],
         "c": [
          0.010220287265889938,
          0.013336010121501391,
          0.019806131909109063,
          0.02165726265349286,
          0.025947974934130303
         ],
         "line": {
          "color": "grey",
          "width": 0.25
         },
         "marker": {
          "color": "silver",
          "line": {
           "color": "black",
           "width": 0
          },
          "opacity": 0.9,
          "size": 6
         },
         "mode": "lines+text",
         "name": "BGR",
         "showlegend": false,
         "subplot": "ternary",
         "text": [
          "",
          "",
          "",
          "",
          "",
          "",
          "",
          "",
          "",
          "",
          "",
          "",
          "",
          "",
          ""
         ],
         "textfont": {
          "color": "black",
          "size": 3.985912067184488
         },
         "type": "scatterternary"
        },
        {
         "a": [
          0.028960313793205197,
          0.06978138208779669,
          0.16583170089168722,
          0.2234838465447404,
          0.2722299578948023,
          0.33976341018336836,
          0.37694555501557103,
          0.3413712687266775,
          0.27101771096387506,
          0.21752789535201575,
          0.16801395913546963,
          0.14522182728219815,
          0.1323851371943437,
          0.12923901365725496,
          0.13031366964332253
         ],
         "b": [
          0.9695781923133318,
          0.9265594303138525,
          0.8248011188808646,
          0.7618037804984682,
          0.7084293109265302,
          0.6266344414848058,
          0.5641280291208045,
          0.5633968784853077,
          0.5979040069080354,
          0.6164754330097473,
          0.6276594587170776,
          0.6135257487896435,
          0.6002393286473291,
          0.5791411233560373,
          0.5574470972748975
         ],
         "c": [
          0.0014614938934632983,
          0.003659187598350898,
          0.009367180227448133,
          0.014712372956791413,
          0.019340731178667595,
          0.033602148331826086,
          0.05892641586362446,
          0.09523185278801471,
          0.13107828212808945,
          0.1659966716382371,
          0.20432658214745264,
          0.24125242392815816,
          0.26737553415832727,
          0.29161986298670767,
          0.31223923308178003
         ],
         "line": {
          "color": "grey",
          "width": 0.25
         },
         "marker": {
          "color": "silver",
          "line": {
           "color": "black",
           "width": 0
          },
          "opacity": 0.9,
          "size": 6
         },
         "mode": "lines+text",
         "name": "BFA",
         "showlegend": false,
         "subplot": "ternary",
         "text": [
          "",
          "",
          "",
          "",
          "",
          "",
          "",
          "",
          "",
          "",
          "",
          "",
          "",
          "",
          ""
         ],
         "textfont": {
          "color": "black",
          "size": 5.648702106649011
         },
         "type": "scatterternary"
        },
        {
         "a": [
          0.028960313793205197,
          0.06978138208779669,
          0.16583170089168722,
          0.2234838465447404,
          0.2722299578948023
         ],
         "b": [
          0.9695781923133318,
          0.9265594303138525,
          0.8248011188808646,
          0.7618037804984682,
          0.7084293109265302
         ],
         "c": [
          0.0014614938934632983,
          0.003659187598350898,
          0.009367180227448133,
          0.014712372956791413,
          0.019340731178667595
         ],
         "line": {
          "color": "grey",
          "width": 0.25
         },
         "marker": {
          "color": "silver",
          "line": {
           "color": "black",
           "width": 0
          },
          "opacity": 0.9,
          "size": 6
         },
         "mode": "lines+text",
         "name": "BFA",
         "showlegend": false,
         "subplot": "ternary",
         "text": [
          "",
          "",
          "",
          "",
          "",
          "",
          "",
          "",
          "",
          "",
          "",
          "",
          "",
          "",
          ""
         ],
         "textfont": {
          "color": "black",
          "size": 5.648702106649011
         },
         "type": "scatterternary"
        },
        {
         "a": [
          0.009868550789447974,
          0.03457218103837545,
          0.09254394319246606,
          0.12963142976452335,
          0.17007159502891614,
          0.24281085255984958,
          0.34415927823081516,
          0.4078659698302959,
          0.36505193045085593,
          0.28075858145090454,
          0.19660984811857418,
          0.15088957978943363,
          0.12587862504778893,
          0.11934385135462176,
          0.1228823597233136
         ],
         "b": [
          0.9896360410146294,
          0.9636419363183049,
          0.9024761189836554,
          0.8625684082990834,
          0.818178047676728,
          0.7343560804386489,
          0.6090411923194363,
          0.49734906546362523,
          0.47256369215096033,
          0.5077309457449574,
          0.5577650808470075,
          0.5868451867562423,
          0.5982300823169286,
          0.5961097517606674,
          0.5860208570893795
         ],
         "c": [
          0.0004954081959224724,
          0.0017858826433197377,
          0.004979937823878731,
          0.007800161936393199,
          0.01175035729435603,
          0.022833067001501447,
          0.04679952944974851,
          0.09478496470607888,
          0.16238437739818365,
          0.21151047280413812,
          0.24562507103441822,
          0.2622652334543242,
          0.2758912926352824,
          0.2845463968847109,
          0.2910967831873071
         ],
         "line": {
          "color": "grey",
          "width": 0.25
         },
         "marker": {
          "color": "silver",
          "line": {
           "color": "black",
           "width": 0
          },
          "opacity": 0.9,
          "size": 6
         },
         "mode": "lines+text",
         "name": "BDI",
         "showlegend": false,
         "subplot": "ternary",
         "text": [
          "",
          "",
          "",
          "",
          "",
          "",
          "",
          "",
          "",
          "",
          "",
          "",
          "",
          "",
          ""
         ],
         "textfont": {
          "color": "black",
          "size": 4.706698109106254
         },
         "type": "scatterternary"
        },
        {
         "a": [
          0.009868550789447974,
          0.03457218103837545,
          0.09254394319246606,
          0.12963142976452335,
          0.17007159502891614
         ],
         "b": [
          0.9896360410146294,
          0.9636419363183049,
          0.9024761189836554,
          0.8625684082990834,
          0.818178047676728
         ],
         "c": [
          0.0004954081959224724,
          0.0017858826433197377,
          0.004979937823878731,
          0.007800161936393199,
          0.01175035729435603
         ],
         "line": {
          "color": "grey",
          "width": 0.25
         },
         "marker": {
          "color": "silver",
          "line": {
           "color": "black",
           "width": 0
          },
          "opacity": 0.9,
          "size": 6
         },
         "mode": "lines+text",
         "name": "BDI",
         "showlegend": false,
         "subplot": "ternary",
         "text": [
          "",
          "",
          "",
          "",
          "",
          "",
          "",
          "",
          "",
          "",
          "",
          "",
          "",
          "",
          ""
         ],
         "textfont": {
          "color": "black",
          "size": 4.706698109106254
         },
         "type": "scatterternary"
        },
        {
         "a": [
          0.28174831480139567,
          0.4065314663898827,
          0.5954101307891545,
          0.5932926270613162,
          0.6106996272936517,
          0.6605722478918659,
          0.7079590665907465,
          0.7321028763011074,
          0.7411857319095839,
          0.7437501188630498,
          0.7332191621858113,
          0.7100369302762921,
          0.6641064024608737,
          0.6130190092364732,
          0.5682531634114056
         ],
         "b": [
          0.7044966408251288,
          0.5734809672109168,
          0.37406652417390884,
          0.3723814549530286,
          0.3449762309373767,
          0.2743606032966142,
          0.18982340390023916,
          0.12482930785381088,
          0.08120001904517227,
          0.05609538988151892,
          0.05636513463098396,
          0.08980067377390843,
          0.15003955403654642,
          0.21349319972717823,
          0.26238002399374044
         ],
         "c": [
          0.013755044373475864,
          0.0199875663992004,
          0.0305233450369367,
          0.034325917985655145,
          0.044324141768971564,
          0.06506714881151983,
          0.10221752950901433,
          0.14306781584508194,
          0.17761424904524356,
          0.20015449125543158,
          0.21041570318320452,
          0.20016239594979943,
          0.1858540435025797,
          0.1734877910363486,
          0.16936681259485403
         ],
         "line": {
          "color": "grey",
          "width": 0.25
         },
         "marker": {
          "color": "silver",
          "line": {
           "color": "black",
           "width": 0
          },
          "opacity": 0.9,
          "size": 6
         },
         "mode": "lines+text",
         "name": "KHM",
         "showlegend": false,
         "subplot": "ternary",
         "text": [
          "",
          "",
          "",
          "",
          "",
          "",
          "",
          "",
          "",
          "",
          "",
          "",
          "",
          "",
          ""
         ],
         "textfont": {
          "color": "black",
          "size": 5.1818800479106875
         },
         "type": "scatterternary"
        },
        {
         "a": [
          0.28174831480139567,
          0.4065314663898827,
          0.5954101307891545,
          0.5932926270613162,
          0.6106996272936517
         ],
         "b": [
          0.7044966408251288,
          0.5734809672109168,
          0.37406652417390884,
          0.3723814549530286,
          0.3449762309373767
         ],
         "c": [
          0.013755044373475864,
          0.0199875663992004,
          0.0305233450369367,
          0.034325917985655145,
          0.044324141768971564
         ],
         "line": {
          "color": "grey",
          "width": 0.25
         },
         "marker": {
          "color": "silver",
          "line": {
           "color": "black",
           "width": 0
          },
          "opacity": 0.9,
          "size": 6
         },
         "mode": "lines+text",
         "name": "KHM",
         "showlegend": false,
         "subplot": "ternary",
         "text": [
          "",
          "",
          "",
          "",
          "",
          "",
          "",
          "",
          "",
          "",
          "",
          "",
          "",
          "",
          ""
         ],
         "textfont": {
          "color": "black",
          "size": 5.1818800479106875
         },
         "type": "scatterternary"
        },
        {
         "a": [
          0.06624054187553668,
          0.13027101862044743,
          0.2768408002062041,
          0.3381138368941462,
          0.36795477734939736,
          0.3977812881611788,
          0.39693925011470144,
          0.35726115403731157,
          0.3058288967869131,
          0.2663193998320804,
          0.23166861598480937,
          0.22518808069053484,
          0.2342136522396488,
          0.26070184941850716,
          0.30212036597392344
         ],
         "b": [
          0.9294459342464845,
          0.8602317338548209,
          0.7021974085028371,
          0.6394906091278387,
          0.6076467128467494,
          0.5703923708619789,
          0.5630231969331815,
          0.5945762510093082,
          0.633576899887677,
          0.6527406562625496,
          0.6548683530404803,
          0.6288409535922296,
          0.5869121073055171,
          0.5359013857497791,
          0.47458373807214466
         ],
         "c": [
          0.004313523877978893,
          0.00949724752473159,
          0.020961791290959195,
          0.02239555397801518,
          0.02439850980385315,
          0.03182634097684238,
          0.040037552952117035,
          0.04816259495338053,
          0.060594203325410094,
          0.08093994390536996,
          0.1134630309747101,
          0.14597096571723553,
          0.17887424045483408,
          0.20339676483171376,
          0.223295895953932
         ],
         "line": {
          "color": "grey",
          "width": 0.25
         },
         "marker": {
          "color": "silver",
          "line": {
           "color": "black",
           "width": 0
          },
          "opacity": 0.9,
          "size": 6
         },
         "mode": "lines+text",
         "name": "CMR",
         "showlegend": false,
         "subplot": "ternary",
         "text": [
          "",
          "",
          "",
          "",
          "",
          "",
          "",
          "",
          "",
          "",
          "",
          "",
          "",
          "",
          ""
         ],
         "textfont": {
          "color": "black",
          "size": 6.051721044760024
         },
         "type": "scatterternary"
        },
        {
         "a": [
          0.06624054187553668,
          0.13027101862044743,
          0.2768408002062041,
          0.3381138368941462,
          0.36795477734939736
         ],
         "b": [
          0.9294459342464845,
          0.8602317338548209,
          0.7021974085028371,
          0.6394906091278387,
          0.6076467128467494
         ],
         "c": [
          0.004313523877978893,
          0.00949724752473159,
          0.020961791290959195,
          0.02239555397801518,
          0.02439850980385315
         ],
         "line": {
          "color": "grey",
          "width": 0.25
         },
         "marker": {
          "color": "silver",
          "line": {
           "color": "black",
           "width": 0
          },
          "opacity": 0.9,
          "size": 6
         },
         "mode": "lines+text",
         "name": "CMR",
         "showlegend": false,
         "subplot": "ternary",
         "text": [
          "",
          "",
          "",
          "",
          "",
          "",
          "",
          "",
          "",
          "",
          "",
          "",
          "",
          "",
          ""
         ],
         "textfont": {
          "color": "black",
          "size": 6.051721044760024
         },
         "type": "scatterternary"
        },
        {
         "a": [
          0.023814380509223673,
          0.027509064456186366,
          0.04165994529080306,
          0.03481786263989253,
          0.03747902308143104,
          0.05450756166455409,
          0.09208452305577271,
          0.14280678339331623,
          0.14570883851376554,
          0.11895225658777464,
          0.09095635423905145,
          0.07874733282569496,
          0.07444306227286361,
          0.07313318912827464,
          0.07743375776122315
         ],
         "b": [
          0.9750246808957835,
          0.9709633886601184,
          0.9556218788765002,
          0.9622612687378208,
          0.957672410782492,
          0.9344638625134076,
          0.88068837997298,
          0.7894706706408651,
          0.7296112863446012,
          0.7164819324908996,
          0.7214627072219045,
          0.7290739690534441,
          0.7373893199066831,
          0.7284071020616572,
          0.7145911540397321
         ],
         "c": [
          0.0011609385949927433,
          0.0015275468836952332,
          0.002718175832696663,
          0.002920868622286684,
          0.004848566136076713,
          0.011028575822038223,
          0.027227096971247505,
          0.06772254596581859,
          0.12467987514163334,
          0.1645658109213257,
          0.187580938539044,
          0.1921786981208608,
          0.1881676178204533,
          0.19845970881006825,
          0.20797508819904492
         ],
         "line": {
          "color": "grey",
          "width": 0.25
         },
         "marker": {
          "color": "silver",
          "line": {
           "color": "black",
           "width": 0
          },
          "opacity": 0.9,
          "size": 6
         },
         "mode": "lines+text",
         "name": "CAN",
         "showlegend": false,
         "subplot": "ternary",
         "text": [
          "",
          "",
          "",
          "",
          "",
          "",
          "",
          "",
          "",
          "",
          "",
          "",
          "",
          "",
          ""
         ],
         "textfont": {
          "color": "black",
          "size": 6.8524934121553
         },
         "type": "scatterternary"
        },
        {
         "a": [
          0.023814380509223673,
          0.027509064456186366,
          0.04165994529080306,
          0.03481786263989253,
          0.03747902308143104
         ],
         "b": [
          0.9750246808957835,
          0.9709633886601184,
          0.9556218788765002,
          0.9622612687378208,
          0.957672410782492
         ],
         "c": [
          0.0011609385949927433,
          0.0015275468836952332,
          0.002718175832696663,
          0.002920868622286684,
          0.004848566136076713
         ],
         "line": {
          "color": "grey",
          "width": 0.25
         },
         "marker": {
          "color": "silver",
          "line": {
           "color": "black",
           "width": 0
          },
          "opacity": 0.9,
          "size": 6
         },
         "mode": "lines+text",
         "name": "CAN",
         "showlegend": false,
         "subplot": "ternary",
         "text": [
          "",
          "",
          "",
          "",
          "",
          "",
          "",
          "",
          "",
          "",
          "",
          "",
          "",
          "",
          ""
         ],
         "textfont": {
          "color": "black",
          "size": 6.8524934121553
         },
         "type": "scatterternary"
        },
        {
         "a": [
          0.006989117834819777,
          0.02122960301317536,
          0.05423979613358465,
          0.07166553771255113,
          0.09793204961064142,
          0.15809910658597284,
          0.28375495882696516,
          0.469353790748026,
          0.5984068866313895,
          0.6164267236916618,
          0.5660425745219957,
          0.5393000820702274,
          0.5335103266715465,
          0.5422374302514266,
          0.5421375300446333
         ],
         "b": [
          0.9926729396533271,
          0.977742519430208,
          0.9430656106683268,
          0.9242910094996665,
          0.896278996630148,
          0.830507638393581,
          0.6897072524532312,
          0.4707090987962757,
          0.2977158635324,
          0.2483387282033001,
          0.2793460725893888,
          0.29847516722664486,
          0.3026909434830972,
          0.29377343946640744,
          0.28740387665326245
         ],
         "c": [
          0.0003379425118529912,
          0.0010278775566167433,
          0.0026945931980884197,
          0.004043452787782365,
          0.005788953759210434,
          0.011393255020446285,
          0.02653778871980386,
          0.059937110455698266,
          0.10387724983621045,
          0.13523454810503804,
          0.15461135288861547,
          0.16222475070312753,
          0.16379872984535626,
          0.163989130282166,
          0.17045859330210417
         ],
         "line": {
          "color": "grey",
          "width": 0.25
         },
         "marker": {
          "color": "silver",
          "line": {
           "color": "black",
           "width": 0
          },
          "opacity": 0.9,
          "size": 6
         },
         "mode": "lines+text",
         "name": "CPV",
         "showlegend": false,
         "subplot": "ternary",
         "text": [
          "",
          "",
          "",
          "",
          "",
          "",
          "",
          "",
          "",
          "",
          "",
          "",
          "",
          "",
          ""
         ],
         "textfont": {
          "color": "black",
          "size": 2.1012506697175253
         },
         "type": "scatterternary"
        },
        {
         "a": [
          0.006989117834819777,
          0.02122960301317536,
          0.05423979613358465,
          0.07166553771255113,
          0.09793204961064142
         ],
         "b": [
          0.9926729396533271,
          0.977742519430208,
          0.9430656106683268,
          0.9242910094996665,
          0.896278996630148
         ],
         "c": [
          0.0003379425118529912,
          0.0010278775566167433,
          0.0026945931980884197,
          0.004043452787782365,
          0.005788953759210434
         ],
         "line": {
          "color": "grey",
          "width": 0.25
         },
         "marker": {
          "color": "silver",
          "line": {
           "color": "black",
           "width": 0
          },
          "opacity": 0.9,
          "size": 6
         },
         "mode": "lines+text",
         "name": "CPV",
         "showlegend": false,
         "subplot": "ternary",
         "text": [
          "",
          "",
          "",
          "",
          "",
          "",
          "",
          "",
          "",
          "",
          "",
          "",
          "",
          "",
          ""
         ],
         "textfont": {
          "color": "black",
          "size": 2.1012506697175253
         },
         "type": "scatterternary"
        },
        {
         "a": [
          0.42523447444516443,
          0.3944166201357205,
          0.33840667181408707,
          0.23583923822294295,
          0.17933416009890252,
          0.11971802919264682,
          0.07703742325669942,
          0.051489038017387516,
          0.035886538525609274,
          0.027629623501302488,
          0.021209999667026237,
          0.018245112827805898,
          0.01652497895323125,
          0.01616240293585505,
          0.016566906102188066
         ],
         "b": [
          0.5526189082111189,
          0.585568620336025,
          0.642926282072713,
          0.7457712478981352,
          0.805698970949275,
          0.8548686391405981,
          0.880570453183417,
          0.8762900633131865,
          0.8589824865277493,
          0.8317013155282778,
          0.7949451547912163,
          0.7539340740167229,
          0.722303766226338,
          0.6908364967199675,
          0.6602474571184903
         ],
         "c": [
          0.022146617343716708,
          0.020014759528254655,
          0.018667046113200022,
          0.018389513878921737,
          0.014966868951822443,
          0.02541333166675519,
          0.042392123559883296,
          0.0722208986694258,
          0.10513097494664146,
          0.14066906097041965,
          0.18384484554175742,
          0.22782081315547112,
          0.26117125482043063,
          0.2930011003441776,
          0.3231856367793215
         ],
         "line": {
          "color": "grey",
          "width": 0.25
         },
         "marker": {
          "color": "silver",
          "line": {
           "color": "black",
           "width": 0
          },
          "opacity": 0.9,
          "size": 6
         },
         "mode": "lines+text",
         "name": "CAF",
         "showlegend": false,
         "subplot": "ternary",
         "text": [
          "",
          "",
          "",
          "",
          "",
          "",
          "",
          "",
          "",
          "",
          "",
          "",
          "",
          "",
          ""
         ],
         "textfont": {
          "color": "black",
          "size": 3.66273045968828
         },
         "type": "scatterternary"
        },
        {
         "a": [
          0.42523447444516443,
          0.3944166201357205,
          0.33840667181408707,
          0.23583923822294295,
          0.17933416009890252
         ],
         "b": [
          0.5526189082111189,
          0.585568620336025,
          0.642926282072713,
          0.7457712478981352,
          0.805698970949275
         ],
         "c": [
          0.022146617343716708,
          0.020014759528254655,
          0.018667046113200022,
          0.018389513878921737,
          0.014966868951822443
         ],
         "line": {
          "color": "grey",
          "width": 0.25
         },
         "marker": {
          "color": "silver",
          "line": {
           "color": "black",
           "width": 0
          },
          "opacity": 0.9,
          "size": 6
         },
         "mode": "lines+text",
         "name": "CAF",
         "showlegend": false,
         "subplot": "ternary",
         "text": [
          "",
          "",
          "",
          "",
          "",
          "",
          "",
          "",
          "",
          "",
          "",
          "",
          "",
          "",
          ""
         ],
         "textfont": {
          "color": "black",
          "size": 3.66273045968828
         },
         "type": "scatterternary"
        },
        {
         "a": [
          0.436129425542049,
          0.3282768487768684,
          0.23751123758624,
          0.15094904352905966,
          0.11627655171831913,
          0.08126713115353508,
          0.05636142462460196,
          0.040288267158669046,
          0.02989309983961498,
          0.02406905104491585,
          0.019298183908516463,
          0.01677802127082718,
          0.01532916220530697,
          0.01484660025227266,
          0.01471798390457459
         ],
         "b": [
          0.5408321920173753,
          0.6545271369447121,
          0.7480658332330696,
          0.8346056871270888,
          0.8712035554674121,
          0.8948571919015863,
          0.9021102556769741,
          0.8882161201486479,
          0.8652195394380173,
          0.8347695543742162,
          0.7955244668675342,
          0.7536341217716352,
          0.7212168216898525,
          0.6893834424670108,
          0.658281650731993
         ],
         "c": [
          0.023038382440575905,
          0.017196014278419616,
          0.014422929180690183,
          0.014445269343851465,
          0.012519892814268768,
          0.02387567694487873,
          0.04152831969842397,
          0.07149561269268309,
          0.1048873607223679,
          0.14116139458086824,
          0.18517734922394932,
          0.22958785695753764,
          0.2634540161048406,
          0.29576995728071653,
          0.3270003653634325
         ],
         "line": {
          "color": "grey",
          "width": 0.25
         },
         "marker": {
          "color": "silver",
          "line": {
           "color": "black",
           "width": 0
          },
          "opacity": 0.9,
          "size": 6
         },
         "mode": "lines+text",
         "name": "TCD",
         "showlegend": false,
         "subplot": "ternary",
         "text": [
          "",
          "",
          "",
          "",
          "",
          "",
          "",
          "",
          "",
          "",
          "",
          "",
          "",
          "",
          ""
         ],
         "textfont": {
          "color": "black",
          "size": 5.190378214133858
         },
         "type": "scatterternary"
        },
        {
         "a": [
          0.436129425542049,
          0.3282768487768684,
          0.23751123758624,
          0.15094904352905966,
          0.11627655171831913
         ],
         "b": [
          0.5408321920173753,
          0.6545271369447121,
          0.7480658332330696,
          0.8346056871270888,
          0.8712035554674121
         ],
         "c": [
          0.023038382440575905,
          0.017196014278419616,
          0.014422929180690183,
          0.014445269343851465,
          0.012519892814268768
         ],
         "line": {
          "color": "grey",
          "width": 0.25
         },
         "marker": {
          "color": "silver",
          "line": {
           "color": "black",
           "width": 0
          },
          "opacity": 0.9,
          "size": 6
         },
         "mode": "lines+text",
         "name": "TCD",
         "showlegend": false,
         "subplot": "ternary",
         "text": [
          "",
          "",
          "",
          "",
          "",
          "",
          "",
          "",
          "",
          "",
          "",
          "",
          "",
          "",
          ""
         ],
         "textfont": {
          "color": "black",
          "size": 5.190378214133858
         },
         "type": "scatterternary"
        },
        {
         "a": [
          0.8295489969265578,
          0.8868937138428951,
          0.9052015557884556,
          0.8980067136903156,
          0.8883829730682861,
          0.8521248919503429,
          0.7745349619513012,
          0.6548205750525934,
          0.4979482375323138,
          0.37167955528700786,
          0.2753872392431582,
          0.21619698885644356,
          0.16690384017457727,
          0.14153773173918266,
          0.1305279902593071
         ],
         "b": [
          0.12874619481905872,
          0.06868910569956911,
          0.04241366441069585,
          0.04961205503160941,
          0.05591485957342559,
          0.07980867245138183,
          0.14244654977047227,
          0.23675538128933155,
          0.3534575503357371,
          0.4468947444699812,
          0.5135285544135062,
          0.55113750816118,
          0.5708258612534588,
          0.5684009562182255,
          0.557423042705895
         ],
         "c": [
          0.04170480825438362,
          0.04441718045753591,
          0.052384779800848616,
          0.052381231278074925,
          0.055702167358288396,
          0.06806643559827544,
          0.08301848827822653,
          0.10842404365807494,
          0.14859421213194915,
          0.18142570024301105,
          0.21108420634333563,
          0.23266550298237643,
          0.2622702985719638,
          0.2900613120425918,
          0.31204896703479795
         ],
         "line": {
          "color": "grey",
          "width": 0.25
         },
         "marker": {
          "color": "silver",
          "line": {
           "color": "black",
           "width": 0
          },
          "opacity": 0.9,
          "size": 6
         },
         "mode": "lines+text",
         "name": "CHL",
         "showlegend": false,
         "subplot": "ternary",
         "text": [
          "",
          "",
          "",
          "",
          "",
          "",
          "",
          "",
          "",
          "",
          "",
          "",
          "",
          "",
          ""
         ],
         "textfont": {
          "color": "black",
          "size": 5.465985242903894
         },
         "type": "scatterternary"
        },
        {
         "a": [
          0.8295489969265578,
          0.8868937138428951,
          0.9052015557884556,
          0.8980067136903156,
          0.8883829730682861
         ],
         "b": [
          0.12874619481905872,
          0.06868910569956911,
          0.04241366441069585,
          0.04961205503160941,
          0.05591485957342559
         ],
         "c": [
          0.04170480825438362,
          0.04441718045753591,
          0.052384779800848616,
          0.052381231278074925,
          0.055702167358288396
         ],
         "line": {
          "color": "grey",
          "width": 0.25
         },
         "marker": {
          "color": "silver",
          "line": {
           "color": "black",
           "width": 0
          },
          "opacity": 0.9,
          "size": 6
         },
         "mode": "lines+text",
         "name": "CHL",
         "showlegend": false,
         "subplot": "ternary",
         "text": [
          "",
          "",
          "",
          "",
          "",
          "",
          "",
          "",
          "",
          "",
          "",
          "",
          "",
          "",
          ""
         ],
         "textfont": {
          "color": "black",
          "size": 5.465985242903894
         },
         "type": "scatterternary"
        },
        {
         "a": [
          0.3103922891781883,
          0.38387558527515364,
          0.48064037462397846,
          0.48998789549106203,
          0.533513006036328,
          0.5742698953560356,
          0.5822860293567723,
          0.5439274160794683,
          0.4710127844352597,
          0.3983112182078407,
          0.3331055947563541,
          0.2867078152116635,
          0.25587401820593525,
          0.24603649919533377,
          0.24398566220617723
         ],
         "b": [
          0.6743355259193385,
          0.5959035209890939,
          0.4932454338380432,
          0.48081182067381134,
          0.43169726281969806,
          0.3791780811427324,
          0.35363015843749956,
          0.36872712293060916,
          0.40842582863990634,
          0.4408340136537587,
          0.45785907011693916,
          0.4603624206133684,
          0.456004521648823,
          0.44618049295476353,
          0.4299475715761103
         ],
         "c": [
          0.015272184902473307,
          0.02022089373575265,
          0.026114191537978212,
          0.029200283835126722,
          0.034789731143974,
          0.04655202350123217,
          0.06408381220572842,
          0.08734546098992248,
          0.12056138692483373,
          0.16085476813840072,
          0.2090353351267064,
          0.25292976417496815,
          0.28812146014524154,
          0.3077830078499028,
          0.32606676621771247
         ],
         "line": {
          "color": "grey",
          "width": 0.25
         },
         "marker": {
          "color": "red",
          "line": {
           "color": "black",
           "width": 0
          },
          "opacity": 0.9,
          "size": 6
         },
         "mode": "lines+text",
         "name": "CHN",
         "showlegend": false,
         "subplot": "ternary",
         "text": [
          "",
          "",
          "",
          "",
          "",
          "",
          "",
          "",
          "",
          "",
          "",
          "",
          "",
          "",
          ""
         ],
         "textfont": {
          "color": "black",
          "size": 26
         },
         "type": "scatterternary"
        },
        {
         "a": [
          0.3103922891781883,
          0.38387558527515364,
          0.48064037462397846,
          0.48998789549106203,
          0.533513006036328
         ],
         "b": [
          0.6743355259193385,
          0.5959035209890939,
          0.4932454338380432,
          0.48081182067381134,
          0.43169726281969806
         ],
         "c": [
          0.015272184902473307,
          0.02022089373575265,
          0.026114191537978212,
          0.029200283835126722,
          0.034789731143974
         ],
         "line": {
          "color": "grey",
          "width": 0.25
         },
         "marker": {
          "color": "red",
          "line": {
           "color": "black",
           "width": 0
          },
          "opacity": 0.9,
          "size": 6
         },
         "mode": "lines+text",
         "name": "CHN",
         "showlegend": false,
         "subplot": "ternary",
         "text": [
          "",
          "",
          "",
          "",
          "",
          "",
          "",
          "",
          "",
          "",
          "",
          "",
          "",
          "",
          ""
         ],
         "textfont": {
          "color": "black",
          "size": 26
         },
         "type": "scatterternary"
        },
        {
         "a": [
          0.1393612976337703,
          0.22252146793066735,
          0.366473390358836,
          0.43066174612877134,
          0.5316977973916351,
          0.6499509818622735,
          0.7397131840679304,
          0.7436878898987307,
          0.6604118935591261,
          0.5523766737523549,
          0.4488261591919372,
          0.37352044494185854,
          0.30917381372352615,
          0.2752593163904347,
          0.2656424154568668
         ],
         "b": [
          0.8540204386766391,
          0.7666929400195066,
          0.6144102660304563,
          0.5441917133819406,
          0.43354877433748873,
          0.2974900895706817,
          0.1845436426645773,
          0.15681202447225917,
          0.21316742711313827,
          0.2981109670272188,
          0.3789920140891942,
          0.437606656164868,
          0.47847798112271667,
          0.4891635531231948,
          0.48179314042115073
         ],
         "c": [
          0.006618263689590431,
          0.010785592049826048,
          0.019116343610707503,
          0.02514654048928811,
          0.034753428270876234,
          0.05255892856704466,
          0.07574317326749225,
          0.09950008562901004,
          0.12642067932773543,
          0.14951235922042627,
          0.17218182671886884,
          0.18887289889327338,
          0.21234820515375713,
          0.23557713048637047,
          0.25256444412198237
         ],
         "line": {
          "color": "grey",
          "width": 0.25
         },
         "marker": {
          "color": "silver",
          "line": {
           "color": "black",
           "width": 0
          },
          "opacity": 0.9,
          "size": 6
         },
         "mode": "lines+text",
         "name": "COL",
         "showlegend": false,
         "subplot": "ternary",
         "text": [
          "",
          "",
          "",
          "",
          "",
          "",
          "",
          "",
          "",
          "",
          "",
          "",
          "",
          "",
          ""
         ],
         "textfont": {
          "color": "black",
          "size": 7.580439562161041
         },
         "type": "scatterternary"
        },
        {
         "a": [
          0.1393612976337703,
          0.22252146793066735,
          0.366473390358836,
          0.43066174612877134,
          0.5316977973916351
         ],
         "b": [
          0.8540204386766391,
          0.7666929400195066,
          0.6144102660304563,
          0.5441917133819406,
          0.43354877433748873
         ],
         "c": [
          0.006618263689590431,
          0.010785592049826048,
          0.019116343610707503,
          0.02514654048928811,
          0.034753428270876234
         ],
         "line": {
          "color": "grey",
          "width": 0.25
         },
         "marker": {
          "color": "silver",
          "line": {
           "color": "black",
           "width": 0
          },
          "opacity": 0.9,
          "size": 6
         },
         "mode": "lines+text",
         "name": "COL",
         "showlegend": false,
         "subplot": "ternary",
         "text": [
          "",
          "",
          "",
          "",
          "",
          "",
          "",
          "",
          "",
          "",
          "",
          "",
          "",
          "",
          ""
         ],
         "textfont": {
          "color": "black",
          "size": 7.580439562161041
         },
         "type": "scatterternary"
        },
        {
         "a": [
          0.010483736908990095,
          0.0329698770114122,
          0.0886548420621726,
          0.11924593784044121,
          0.15779644953645228,
          0.2340274823926068,
          0.34764942108695013,
          0.43692568689988254,
          0.43445382100361707,
          0.39556988573546475,
          0.3486399443576222,
          0.3323478129086786,
          0.3434275356778913,
          0.3786708618763466,
          0.4163261792835251
         ],
         "b": [
          0.988988618994946,
          0.9653204049606938,
          0.9067118075603235,
          0.8735020643687588,
          0.8305900335230639,
          0.7407210422483366,
          0.5957725862867679,
          0.446620931617118,
          0.3754298949900709,
          0.36550270966057363,
          0.38053094764529516,
          0.38494654179330456,
          0.37051862123413737,
          0.3412234363009275,
          0.3115351304401475
         ],
         "c": [
          0.000527644096063941,
          0.0017097180278940098,
          0.0046333503775039505,
          0.007251997790799966,
          0.011613516940483902,
          0.025251475359056745,
          0.05657799262628167,
          0.11645338148299941,
          0.19011628400631203,
          0.2389274046039616,
          0.2708291079970827,
          0.2827056452980169,
          0.28605384308797144,
          0.280105701822726,
          0.2721386902763274
         ],
         "line": {
          "color": "grey",
          "width": 0.25
         },
         "marker": {
          "color": "silver",
          "line": {
           "color": "black",
           "width": 0
          },
          "opacity": 0.9,
          "size": 6
         },
         "mode": "lines+text",
         "name": "COM",
         "showlegend": false,
         "subplot": "ternary",
         "text": [
          "",
          "",
          "",
          "",
          "",
          "",
          "",
          "",
          "",
          "",
          "",
          "",
          "",
          "",
          ""
         ],
         "textfont": {
          "color": "black",
          "size": 2.251435820721197
         },
         "type": "scatterternary"
        },
        {
         "a": [
          0.010483736908990095,
          0.0329698770114122,
          0.0886548420621726,
          0.11924593784044121,
          0.15779644953645228
         ],
         "b": [
          0.988988618994946,
          0.9653204049606938,
          0.9067118075603235,
          0.8735020643687588,
          0.8305900335230639
         ],
         "c": [
          0.000527644096063941,
          0.0017097180278940098,
          0.0046333503775039505,
          0.007251997790799966,
          0.011613516940483902
         ],
         "line": {
          "color": "grey",
          "width": 0.25
         },
         "marker": {
          "color": "silver",
          "line": {
           "color": "black",
           "width": 0
          },
          "opacity": 0.9,
          "size": 6
         },
         "mode": "lines+text",
         "name": "COM",
         "showlegend": false,
         "subplot": "ternary",
         "text": [
          "",
          "",
          "",
          "",
          "",
          "",
          "",
          "",
          "",
          "",
          "",
          "",
          "",
          "",
          ""
         ],
         "textfont": {
          "color": "black",
          "size": 2.251435820721197
         },
         "type": "scatterternary"
        },
        {
         "a": [
          0,
          0,
          0,
          0,
          0,
          0,
          0,
          0,
          0,
          0,
          0,
          0,
          0,
          0,
          0
         ],
         "b": [
          0,
          0,
          0,
          0,
          0,
          0,
          0,
          0,
          0,
          0,
          0,
          0,
          0,
          0,
          0
         ],
         "c": [
          0,
          0,
          0,
          0,
          0,
          0,
          0,
          0,
          0,
          0,
          0,
          0,
          0,
          0,
          0
         ],
         "line": {
          "color": "grey",
          "width": 0.25
         },
         "marker": {
          "color": "silver",
          "line": {
           "color": "black",
           "width": 0
          },
          "opacity": 0.9,
          "size": 6
         },
         "mode": "lines+text",
         "name": "COG",
         "showlegend": false,
         "subplot": "ternary",
         "text": [
          "",
          "",
          "",
          "",
          "",
          "",
          "",
          "",
          "",
          "",
          "",
          "",
          "",
          "",
          ""
         ],
         "textfont": {
          "color": "black",
          "size": 3.73465598970185
         },
         "type": "scatterternary"
        },
        {
         "a": [
          0,
          0,
          0,
          0,
          0
         ],
         "b": [
          0,
          0,
          0,
          0,
          0
         ],
         "c": [
          0,
          0,
          0,
          0,
          0
         ],
         "line": {
          "color": "grey",
          "width": 0.25
         },
         "marker": {
          "color": "silver",
          "line": {
           "color": "black",
           "width": 0
          },
          "opacity": 0.9,
          "size": 6
         },
         "mode": "lines+text",
         "name": "COG",
         "showlegend": false,
         "subplot": "ternary",
         "text": [
          "",
          "",
          "",
          "",
          "",
          "",
          "",
          "",
          "",
          "",
          "",
          "",
          "",
          "",
          ""
         ],
         "textfont": {
          "color": "black",
          "size": 3.73465598970185
         },
         "type": "scatterternary"
        },
        {
         "a": [
          0,
          0,
          0,
          0,
          0,
          0,
          0,
          0,
          0,
          0,
          0,
          0,
          0,
          0,
          0
         ],
         "b": [
          0,
          0,
          0,
          0,
          0,
          0,
          0,
          0,
          0,
          0,
          0,
          0,
          0,
          0,
          0
         ],
         "c": [
          0,
          0,
          0,
          0,
          0,
          0,
          0,
          0,
          0,
          0,
          0,
          0,
          0,
          0,
          0
         ],
         "line": {
          "color": "grey",
          "width": 0.25
         },
         "marker": {
          "color": "silver",
          "line": {
           "color": "black",
           "width": 0
          },
          "opacity": 0.9,
          "size": 6
         },
         "mode": "lines+text",
         "name": "COK",
         "showlegend": false,
         "subplot": "ternary",
         "text": [
          "",
          "",
          "",
          "",
          "",
          "",
          "",
          "",
          "",
          "",
          "",
          "",
          "",
          "",
          ""
         ],
         "textfont": {
          "color": "black",
          "size": 2.3694187025678044
         },
         "type": "scatterternary"
        },
        {
         "a": [
          0,
          0,
          0,
          0,
          0
         ],
         "b": [
          0,
          0,
          0,
          0,
          0
         ],
         "c": [
          0,
          0,
          0,
          0,
          0
         ],
         "line": {
          "color": "grey",
          "width": 0.25
         },
         "marker": {
          "color": "silver",
          "line": {
           "color": "black",
           "width": 0
          },
          "opacity": 0.9,
          "size": 6
         },
         "mode": "lines+text",
         "name": "COK",
         "showlegend": false,
         "subplot": "ternary",
         "text": [
          "",
          "",
          "",
          "",
          "",
          "",
          "",
          "",
          "",
          "",
          "",
          "",
          "",
          "",
          ""
         ],
         "textfont": {
          "color": "black",
          "size": 2.3694187025678044
         },
         "type": "scatterternary"
        },
        {
         "a": [
          0.0756236407427297,
          0.13566904052736706,
          0.2581749938689397,
          0.3051360487789846,
          0.35812828644195055,
          0.423055517353949,
          0.47633990163320933,
          0.46275817207220643,
          0.3946101626226572,
          0.31054315099866137,
          0.22968676574597746,
          0.1696650385723811,
          0.13141510865511197,
          0.10695103430341318,
          0.09723210030889295
         ],
         "b": [
          0.9205657349912988,
          0.8576094690179741,
          0.7287638375457195,
          0.6772670664527065,
          0.6180955054844248,
          0.5406318651310712,
          0.460584166357138,
          0.4246111021944404,
          0.4331837299814424,
          0.45947884776920445,
          0.4823568850526985,
          0.4968036950266091,
          0.5076456880291026,
          0.4985490973993273,
          0.49076252937889314
         ],
         "c": [
          0.0038106242659715454,
          0.006721490454658765,
          0.013061168585340939,
          0.017596884768308767,
          0.023776208073624693,
          0.03631261751497995,
          0.06307593200965281,
          0.11263072573335312,
          0.17220610739590025,
          0.22997800123213413,
          0.2879563492013242,
          0.3335312664010097,
          0.36093920331578544,
          0.3944998682972596,
          0.4120053703122139
         ],
         "line": {
          "color": "grey",
          "width": 0.25
         },
         "marker": {
          "color": "silver",
          "line": {
           "color": "black",
           "width": 0
          },
          "opacity": 0.9,
          "size": 6
         },
         "mode": "lines+text",
         "name": "CRI",
         "showlegend": false,
         "subplot": "ternary",
         "text": [
          "",
          "",
          "",
          "",
          "",
          "",
          "",
          "",
          "",
          "",
          "",
          "",
          "",
          "",
          ""
         ],
         "textfont": {
          "color": "black",
          "size": 3.628735181011002
         },
         "type": "scatterternary"
        },
        {
         "a": [
          0.0756236407427297,
          0.13566904052736706,
          0.2581749938689397,
          0.3051360487789846,
          0.35812828644195055
         ],
         "b": [
          0.9205657349912988,
          0.8576094690179741,
          0.7287638375457195,
          0.6772670664527065,
          0.6180955054844248
         ],
         "c": [
          0.0038106242659715454,
          0.006721490454658765,
          0.013061168585340939,
          0.017596884768308767,
          0.023776208073624693
         ],
         "line": {
          "color": "grey",
          "width": 0.25
         },
         "marker": {
          "color": "silver",
          "line": {
           "color": "black",
           "width": 0
          },
          "opacity": 0.9,
          "size": 6
         },
         "mode": "lines+text",
         "name": "CRI",
         "showlegend": false,
         "subplot": "ternary",
         "text": [
          "",
          "",
          "",
          "",
          "",
          "",
          "",
          "",
          "",
          "",
          "",
          "",
          "",
          "",
          ""
         ],
         "textfont": {
          "color": "black",
          "size": 3.628735181011002
         },
         "type": "scatterternary"
        },
        {
         "a": [
          0,
          0,
          0,
          0,
          0,
          0,
          0,
          0,
          0,
          0,
          0,
          0,
          0,
          0,
          0
         ],
         "b": [
          0,
          0,
          0,
          0,
          0,
          0,
          0,
          0,
          0,
          0,
          0,
          0,
          0,
          0,
          0
         ],
         "c": [
          0,
          0,
          0,
          0,
          0,
          0,
          0,
          0,
          0,
          0,
          0,
          0,
          0,
          0,
          0
         ],
         "line": {
          "color": "grey",
          "width": 0.25
         },
         "marker": {
          "color": "silver",
          "line": {
           "color": "black",
           "width": 0
          },
          "opacity": 0.9,
          "size": 6
         },
         "mode": "lines+text",
         "name": "CIV",
         "showlegend": false,
         "subplot": "ternary",
         "text": [
          "",
          "",
          "",
          "",
          "",
          "",
          "",
          "",
          "",
          "",
          "",
          "",
          "",
          "",
          ""
         ],
         "textfont": {
          "color": "black",
          "size": 6.077939449418571
         },
         "type": "scatterternary"
        },
        {
         "a": [
          0,
          0,
          0,
          0,
          0
         ],
         "b": [
          0,
          0,
          0,
          0,
          0
         ],
         "c": [
          0,
          0,
          0,
          0,
          0
         ],
         "line": {
          "color": "grey",
          "width": 0.25
         },
         "marker": {
          "color": "silver",
          "line": {
           "color": "black",
           "width": 0
          },
          "opacity": 0.9,
          "size": 6
         },
         "mode": "lines+text",
         "name": "CIV",
         "showlegend": false,
         "subplot": "ternary",
         "text": [
          "",
          "",
          "",
          "",
          "",
          "",
          "",
          "",
          "",
          "",
          "",
          "",
          "",
          "",
          ""
         ],
         "textfont": {
          "color": "black",
          "size": 6.077939449418571
         },
         "type": "scatterternary"
        },
        {
         "a": [
          0.05237360699887464,
          0.07801202655439769,
          0.13139340548486503,
          0.1446968721762044,
          0.1863549074215014,
          0.25808453476812765,
          0.35165206007722677,
          0.42253760602103435,
          0.4477143437794755,
          0.4509548777751489,
          0.4556534771472981,
          0.4596288160653683,
          0.4688850779782563,
          0.48306050941499873,
          0.5018146665117493
         ],
         "b": [
          0.945129054417428,
          0.9181684696660585,
          0.8619206157740344,
          0.8472208910497587,
          0.8015558326951959,
          0.7195155160082499,
          0.6076652539741764,
          0.5101854519408995,
          0.45292854866791343,
          0.41937766885475325,
          0.3854045391956944,
          0.3591552303594927,
          0.33048238266293156,
          0.3028099176148785,
          0.27471737310074795
         ],
         "c": [
          0.0024973385836972945,
          0.003819503779543927,
          0.0066859787411005355,
          0.008082236774037058,
          0.012089259883302636,
          0.022399949223622238,
          0.0406826859485969,
          0.06727694203806622,
          0.09935710755261108,
          0.12966745337009764,
          0.15894198365700749,
          0.1812159535751391,
          0.20063253935881226,
          0.2141295729701228,
          0.22346796038750266
         ],
         "line": {
          "color": "grey",
          "width": 0.25
         },
         "marker": {
          "color": "silver",
          "line": {
           "color": "black",
           "width": 0
          },
          "opacity": 0.9,
          "size": 6
         },
         "mode": "lines+text",
         "name": "HRV",
         "showlegend": false,
         "subplot": "ternary",
         "text": [
          "",
          "",
          "",
          "",
          "",
          "",
          "",
          "",
          "",
          "",
          "",
          "",
          "",
          "",
          ""
         ],
         "textfont": {
          "color": "black",
          "size": 3.4113994705833934
         },
         "type": "scatterternary"
        },
        {
         "a": [
          0.05237360699887464,
          0.07801202655439769,
          0.13139340548486503,
          0.1446968721762044,
          0.1863549074215014
         ],
         "b": [
          0.945129054417428,
          0.9181684696660585,
          0.8619206157740344,
          0.8472208910497587,
          0.8015558326951959
         ],
         "c": [
          0.0024973385836972945,
          0.003819503779543927,
          0.0066859787411005355,
          0.008082236774037058,
          0.012089259883302636
         ],
         "line": {
          "color": "grey",
          "width": 0.25
         },
         "marker": {
          "color": "silver",
          "line": {
           "color": "black",
           "width": 0
          },
          "opacity": 0.9,
          "size": 6
         },
         "mode": "lines+text",
         "name": "HRV",
         "showlegend": false,
         "subplot": "ternary",
         "text": [
          "",
          "",
          "",
          "",
          "",
          "",
          "",
          "",
          "",
          "",
          "",
          "",
          "",
          "",
          ""
         ],
         "textfont": {
          "color": "black",
          "size": 3.4113994705833934
         },
         "type": "scatterternary"
        },
        {
         "a": [
          0.08343897322708542,
          0.15410230396994887,
          0.3018047060986857,
          0.3493962506004513,
          0.4053923791977471,
          0.4954571025379464,
          0.5980323522376482,
          0.6345840009925662,
          0.5892221692831671,
          0.4634423700117592,
          0.32850103862224284,
          0.22411521074265212,
          0.16087403503332387,
          0.12099119541569163,
          0.10207597763461324
         ],
         "b": [
          0.9125143499208859,
          0.8384182693452719,
          0.6809121926771237,
          0.6217971407239045,
          0.5519390920206863,
          0.4479322295292689,
          0.3294001183263653,
          0.27431345586758726,
          0.28965316195179897,
          0.37099409593630955,
          0.4527539103059677,
          0.5101310931514894,
          0.5466771983856102,
          0.5451725236825038,
          0.5471041131090296
         ],
         "c": [
          0.004046676852028704,
          0.007479426684779262,
          0.01728310122419067,
          0.028806608675644246,
          0.042668528781566635,
          0.05661066793278452,
          0.07256752943598668,
          0.09110254313984653,
          0.12112466876503403,
          0.165563534051931,
          0.21874505107178951,
          0.2657536961058584,
          0.2924487665810659,
          0.33383628090180456,
          0.35081990925635725
         ],
         "line": {
          "color": "grey",
          "width": 0.25
         },
         "marker": {
          "color": "silver",
          "line": {
           "color": "black",
           "width": 0
          },
          "opacity": 0.9,
          "size": 6
         },
         "mode": "lines+text",
         "name": "CUB",
         "showlegend": false,
         "subplot": "ternary",
         "text": [
          "",
          "",
          "",
          "",
          "",
          "",
          "",
          "",
          "",
          "",
          "",
          "",
          "",
          "",
          ""
         ],
         "textfont": {
          "color": "black",
          "size": 4.6133448196616405
         },
         "type": "scatterternary"
        },
        {
         "a": [
          0.08343897322708542,
          0.15410230396994887,
          0.3018047060986857,
          0.3493962506004513,
          0.4053923791977471
         ],
         "b": [
          0.9125143499208859,
          0.8384182693452719,
          0.6809121926771237,
          0.6217971407239045,
          0.5519390920206863
         ],
         "c": [
          0.004046676852028704,
          0.007479426684779262,
          0.01728310122419067,
          0.028806608675644246,
          0.042668528781566635
         ],
         "line": {
          "color": "grey",
          "width": 0.25
         },
         "marker": {
          "color": "silver",
          "line": {
           "color": "black",
           "width": 0
          },
          "opacity": 0.9,
          "size": 6
         },
         "mode": "lines+text",
         "name": "CUB",
         "showlegend": false,
         "subplot": "ternary",
         "text": [
          "",
          "",
          "",
          "",
          "",
          "",
          "",
          "",
          "",
          "",
          "",
          "",
          "",
          "",
          ""
         ],
         "textfont": {
          "color": "black",
          "size": 4.6133448196616405
         },
         "type": "scatterternary"
        },
        {
         "a": [
          0.26624268201260154,
          0.29069495604861134,
          0.3563830517443756,
          0.37836540004147207,
          0.4339491642933249,
          0.4788962951748534,
          0.5148779628226252,
          0.5305319306357457,
          0.5389599136309415,
          0.5451357512115277,
          0.5528311642759729,
          0.5556536465969237,
          0.5572575303911178,
          0.5633273156484805,
          0.5745110993999378
         ],
         "b": [
          0.7201994428628589,
          0.6928249277491596,
          0.6232629398004157,
          0.5981970856271045,
          0.5364512112978412,
          0.4796958873807319,
          0.42682148540750253,
          0.39064483480776446,
          0.35535517595224325,
          0.324630972485508,
          0.29172586208306167,
          0.267765817612229,
          0.24671319240337242,
          0.23220536835686723,
          0.21869588174582832
         ],
         "c": [
          0.0135578751245395,
          0.016480116202229056,
          0.020354008455208707,
          0.02343751433142347,
          0.029599624408833847,
          0.04140781744441462,
          0.05830055176987216,
          0.07882323455649001,
          0.10568491041681513,
          0.13023327630296422,
          0.15544297364096535,
          0.17658053579084718,
          0.1960292772055096,
          0.2044673159946523,
          0.2067930188542338
         ],
         "line": {
          "color": "grey",
          "width": 0.25
         },
         "marker": {
          "color": "silver",
          "line": {
           "color": "black",
           "width": 0
          },
          "opacity": 0.9,
          "size": 6
         },
         "mode": "lines+text",
         "name": "CYP",
         "showlegend": false,
         "subplot": "ternary",
         "text": [
          "",
          "",
          "",
          "",
          "",
          "",
          "",
          "",
          "",
          "",
          "",
          "",
          "",
          "",
          ""
         ],
         "textfont": {
          "color": "black",
          "size": 2.4894671276055442
         },
         "type": "scatterternary"
        },
        {
         "a": [
          0.26624268201260154,
          0.29069495604861134,
          0.3563830517443756,
          0.37836540004147207,
          0.4339491642933249
         ],
         "b": [
          0.7201994428628589,
          0.6928249277491596,
          0.6232629398004157,
          0.5981970856271045,
          0.5364512112978412
         ],
         "c": [
          0.0135578751245395,
          0.016480116202229056,
          0.020354008455208707,
          0.02343751433142347,
          0.029599624408833847
         ],
         "line": {
          "color": "grey",
          "width": 0.25
         },
         "marker": {
          "color": "silver",
          "line": {
           "color": "black",
           "width": 0
          },
          "opacity": 0.9,
          "size": 6
         },
         "mode": "lines+text",
         "name": "CYP",
         "showlegend": false,
         "subplot": "ternary",
         "text": [
          "",
          "",
          "",
          "",
          "",
          "",
          "",
          "",
          "",
          "",
          "",
          "",
          "",
          "",
          ""
         ],
         "textfont": {
          "color": "black",
          "size": 2.4894671276055442
         },
         "type": "scatterternary"
        },
        {
         "a": [
          0.04372457967011814,
          0.05891477741077813,
          0.0984949637560899,
          0.09428048898480759,
          0.10959510749699204,
          0.15805005687319043,
          0.24041120676509498,
          0.3294901771977794,
          0.36611259583286454,
          0.35115757528798325,
          0.32304620864798206,
          0.3125090333718049,
          0.3109257772946784,
          0.31787548483815026,
          0.3376432786901193
         ],
         "b": [
          0.9541413534685217,
          0.9381198901169627,
          0.8964466137581268,
          0.9002715626739021,
          0.8828864787093579,
          0.8269196484779389,
          0.7285294775250114,
          0.6092246498306024,
          0.5345508680030902,
          0.513915844296964,
          0.513791568529681,
          0.49934191242568376,
          0.47524798687422937,
          0.4445039131124477,
          0.4064191671937164
         ],
         "c": [
          0.0021340668613603233,
          0.002965332472259296,
          0.005058422485783177,
          0.005447948341290419,
          0.0075184137936500604,
          0.01503029464887067,
          0.031059315709893634,
          0.06128517297161806,
          0.09933653616404559,
          0.13492658041505257,
          0.16316222282233667,
          0.18814905420251127,
          0.21382623583109217,
          0.23762060204940216,
          0.25593755411616426
         ],
         "line": {
          "color": "grey",
          "width": 0.25
         },
         "marker": {
          "color": "silver",
          "line": {
           "color": "black",
           "width": 0
          },
          "opacity": 0.9,
          "size": 6
         },
         "mode": "lines+text",
         "name": "CZE",
         "showlegend": false,
         "subplot": "ternary",
         "text": [
          "",
          "",
          "",
          "",
          "",
          "",
          "",
          "",
          "",
          "",
          "",
          "",
          "",
          "",
          ""
         ],
         "textfont": {
          "color": "black",
          "size": 4.5126753730295945
         },
         "type": "scatterternary"
        },
        {
         "a": [
          0.04372457967011814,
          0.05891477741077813,
          0.0984949637560899,
          0.09428048898480759,
          0.10959510749699204
         ],
         "b": [
          0.9541413534685217,
          0.9381198901169627,
          0.8964466137581268,
          0.9002715626739021,
          0.8828864787093579
         ],
         "c": [
          0.0021340668613603233,
          0.002965332472259296,
          0.005058422485783177,
          0.005447948341290419,
          0.0075184137936500604
         ],
         "line": {
          "color": "grey",
          "width": 0.25
         },
         "marker": {
          "color": "silver",
          "line": {
           "color": "black",
           "width": 0
          },
          "opacity": 0.9,
          "size": 6
         },
         "mode": "lines+text",
         "name": "CZE",
         "showlegend": false,
         "subplot": "ternary",
         "text": [
          "",
          "",
          "",
          "",
          "",
          "",
          "",
          "",
          "",
          "",
          "",
          "",
          "",
          "",
          ""
         ],
         "textfont": {
          "color": "black",
          "size": 4.5126753730295945
         },
         "type": "scatterternary"
        },
        {
         "a": [
          0.46266335687288984,
          0.3671336009016752,
          0.2797549099896914,
          0.18848069506796478,
          0.15170530594172146,
          0.1107963725213891,
          0.07921776825667155,
          0.05707695642330793,
          0.0417701499082465,
          0.03202306675258026,
          0.024160795448591437,
          0.019771428536753302,
          0.01719200325084793,
          0.016329732118345566,
          0.01694942019519082
         ],
         "b": [
          0.5137411804859009,
          0.6130471287236321,
          0.7036331015074069,
          0.7953212102530264,
          0.8322325831492638,
          0.8592090469155671,
          0.8665401301197845,
          0.8461515033535725,
          0.8129185582635154,
          0.7728886676455823,
          0.7332138785847087,
          0.6917321298641979,
          0.6584131919921917,
          0.6329909340674796,
          0.6144376006462883
         ],
         "c": [
          0.023595462641209403,
          0.019819270374692673,
          0.01661198850290173,
          0.01619809467900868,
          0.0160621109090148,
          0.029994580563043716,
          0.05424210162354383,
          0.09677154022311962,
          0.1453112918282381,
          0.19508826560183742,
          0.24262532596670006,
          0.28849644159904886,
          0.3243948047569604,
          0.3506793338141748,
          0.36861297915852104
         ],
         "line": {
          "color": "grey",
          "width": 0.25
         },
         "marker": {
          "color": "silver",
          "line": {
           "color": "black",
           "width": 0
          },
          "opacity": 0.9,
          "size": 6
         },
         "mode": "lines+text",
         "name": "COD",
         "showlegend": false,
         "subplot": "ternary",
         "text": [
          "",
          "",
          "",
          "",
          "",
          "",
          "",
          "",
          "",
          "",
          "",
          "",
          "",
          "",
          ""
         ],
         "textfont": {
          "color": "black",
          "size": 9.332692520042144
         },
         "type": "scatterternary"
        },
        {
         "a": [
          0.46266335687288984,
          0.3671336009016752,
          0.2797549099896914,
          0.18848069506796478,
          0.15170530594172146
         ],
         "b": [
          0.5137411804859009,
          0.6130471287236321,
          0.7036331015074069,
          0.7953212102530264,
          0.8322325831492638
         ],
         "c": [
          0.023595462641209403,
          0.019819270374692673,
          0.01661198850290173,
          0.01619809467900868,
          0.0160621109090148
         ],
         "line": {
          "color": "grey",
          "width": 0.25
         },
         "marker": {
          "color": "silver",
          "line": {
           "color": "black",
           "width": 0
          },
          "opacity": 0.9,
          "size": 6
         },
         "mode": "lines+text",
         "name": "COD",
         "showlegend": false,
         "subplot": "ternary",
         "text": [
          "",
          "",
          "",
          "",
          "",
          "",
          "",
          "",
          "",
          "",
          "",
          "",
          "",
          "",
          ""
         ],
         "textfont": {
          "color": "black",
          "size": 9.332692520042144
         },
         "type": "scatterternary"
        },
        {
         "a": [
          0.04170688522858768,
          0.05972609987475773,
          0.10327082904972205,
          0.10322948468823555,
          0.12426949892383586,
          0.1764124565317509,
          0.2618915030828305,
          0.3404350326068631,
          0.3550515931986316,
          0.33671074594287737,
          0.3188842015609656,
          0.3199488664644185,
          0.3391978767489436,
          0.37555363333675834,
          0.43013335483273113
         ],
         "b": [
          0.9562579006390101,
          0.937243663048791,
          0.8912470099143441,
          0.8904119284430432,
          0.86600465013359,
          0.8042461304097492,
          0.7011223984021278,
          0.5971369553917899,
          0.5567238146395983,
          0.5538979318517451,
          0.5518131555226052,
          0.5255351463998343,
          0.4880813072821658,
          0.4336696547258548,
          0.36511027254126316
         ],
         "c": [
          0.002035214132402402,
          0.0030302370764511985,
          0.005482161035933867,
          0.006358586868721379,
          0.009725850942574162,
          0.01934141305849968,
          0.036986098515041685,
          0.062428012001346934,
          0.08822459216177009,
          0.10939132220537766,
          0.12930264291642893,
          0.154515987135747,
          0.17272081596889055,
          0.19077671193738688,
          0.20475637262600588
         ],
         "line": {
          "color": "grey",
          "width": 0.25
         },
         "marker": {
          "color": "silver",
          "line": {
           "color": "black",
           "width": 0
          },
          "opacity": 0.9,
          "size": 6
         },
         "mode": "lines+text",
         "name": "DNK",
         "showlegend": false,
         "subplot": "ternary",
         "text": [
          "",
          "",
          "",
          "",
          "",
          "",
          "",
          "",
          "",
          "",
          "",
          "",
          "",
          "",
          ""
         ],
         "textfont": {
          "color": "black",
          "size": 3.768405854717044
         },
         "type": "scatterternary"
        },
        {
         "a": [
          0.04170688522858768,
          0.05972609987475773,
          0.10327082904972205,
          0.10322948468823555,
          0.12426949892383586
         ],
         "b": [
          0.9562579006390101,
          0.937243663048791,
          0.8912470099143441,
          0.8904119284430432,
          0.86600465013359
         ],
         "c": [
          0.002035214132402402,
          0.0030302370764511985,
          0.005482161035933867,
          0.006358586868721379,
          0.009725850942574162
         ],
         "line": {
          "color": "grey",
          "width": 0.25
         },
         "marker": {
          "color": "silver",
          "line": {
           "color": "black",
           "width": 0
          },
          "opacity": 0.9,
          "size": 6
         },
         "mode": "lines+text",
         "name": "DNK",
         "showlegend": false,
         "subplot": "ternary",
         "text": [
          "",
          "",
          "",
          "",
          "",
          "",
          "",
          "",
          "",
          "",
          "",
          "",
          "",
          "",
          ""
         ],
         "textfont": {
          "color": "black",
          "size": 3.768405854717044
         },
         "type": "scatterternary"
        },
        {
         "a": [
          0.02165132108143142,
          0.05590859798351438,
          0.14235342654447578,
          0.18124238591322792,
          0.2284307070952322,
          0.320253829890831,
          0.44030596559158747,
          0.5118742398876349,
          0.4995676802599651,
          0.47583276099093214,
          0.46298564663996344,
          0.49547674796546876,
          0.5529354580511927,
          0.5971508562823242,
          0.6230803787324714
         ],
         "b": [
          0.9772464293089531,
          0.9411218632694057,
          0.8502986866011878,
          0.8082785254367406,
          0.7561280271590196,
          0.6501384849527242,
          0.5055124063978567,
          0.39399137039370147,
          0.35801109058359326,
          0.3536383104537238,
          0.348848261711721,
          0.31623012811525625,
          0.24947060750200392,
          0.18500472979474825,
          0.13862646783666657
         ],
         "c": [
          0.0011022496096155753,
          0.00296953874707963,
          0.007347886854336314,
          0.010479088650031415,
          0.015441265745748228,
          0.029607685156444623,
          0.0541816280105561,
          0.0941343897186635,
          0.14242122915644156,
          0.17052892855534396,
          0.18816609164831555,
          0.18829312391927489,
          0.19759393444680332,
          0.21784441392292755,
          0.2382931534308621
         ],
         "line": {
          "color": "grey",
          "width": 0.25
         },
         "marker": {
          "color": "silver",
          "line": {
           "color": "black",
           "width": 0
          },
          "opacity": 0.9,
          "size": 6
         },
         "mode": "lines+text",
         "name": "DJI",
         "showlegend": false,
         "subplot": "ternary",
         "text": [
          "",
          "",
          "",
          "",
          "",
          "",
          "",
          "",
          "",
          "",
          "",
          "",
          "",
          "",
          ""
         ],
         "textfont": {
          "color": "black",
          "size": 2.4134547151628882
         },
         "type": "scatterternary"
        },
        {
         "a": [
          0.02165132108143142,
          0.05590859798351438,
          0.14235342654447578,
          0.18124238591322792,
          0.2284307070952322
         ],
         "b": [
          0.9772464293089531,
          0.9411218632694057,
          0.8502986866011878,
          0.8082785254367406,
          0.7561280271590196
         ],
         "c": [
          0.0011022496096155753,
          0.00296953874707963,
          0.007347886854336314,
          0.010479088650031415,
          0.015441265745748228
         ],
         "line": {
          "color": "grey",
          "width": 0.25
         },
         "marker": {
          "color": "silver",
          "line": {
           "color": "black",
           "width": 0
          },
          "opacity": 0.9,
          "size": 6
         },
         "mode": "lines+text",
         "name": "DJI",
         "showlegend": false,
         "subplot": "ternary",
         "text": [
          "",
          "",
          "",
          "",
          "",
          "",
          "",
          "",
          "",
          "",
          "",
          "",
          "",
          "",
          ""
         ],
         "textfont": {
          "color": "black",
          "size": 2.4134547151628882
         },
         "type": "scatterternary"
        },
        {
         "a": [
          0,
          0,
          0,
          0,
          0,
          0,
          0,
          0,
          0,
          0,
          0,
          0,
          0,
          0,
          0
         ],
         "b": [
          0,
          0,
          0,
          0,
          0,
          0,
          0,
          0,
          0,
          0,
          0,
          0,
          0,
          0,
          0
         ],
         "c": [
          0,
          0,
          0,
          0,
          0,
          0,
          0,
          0,
          0,
          0,
          0,
          0,
          0,
          0,
          0
         ],
         "line": {
          "color": "grey",
          "width": 0.25
         },
         "marker": {
          "color": "silver",
          "line": {
           "color": "black",
           "width": 0
          },
          "opacity": 0.9,
          "size": 6
         },
         "mode": "lines+text",
         "name": "DMA",
         "showlegend": false,
         "subplot": "ternary",
         "text": [
          "",
          "",
          "",
          "",
          "",
          "",
          "",
          "",
          "",
          "",
          "",
          "",
          "",
          "",
          ""
         ],
         "textfont": {
          "color": "black",
          "size": 2.3694187025678044
         },
         "type": "scatterternary"
        },
        {
         "a": [
          0,
          0,
          0,
          0,
          0
         ],
         "b": [
          0,
          0,
          0,
          0,
          0
         ],
         "c": [
          0,
          0,
          0,
          0,
          0
         ],
         "line": {
          "color": "grey",
          "width": 0.25
         },
         "marker": {
          "color": "silver",
          "line": {
           "color": "black",
           "width": 0
          },
          "opacity": 0.9,
          "size": 6
         },
         "mode": "lines+text",
         "name": "DMA",
         "showlegend": false,
         "subplot": "ternary",
         "text": [
          "",
          "",
          "",
          "",
          "",
          "",
          "",
          "",
          "",
          "",
          "",
          "",
          "",
          "",
          ""
         ],
         "textfont": {
          "color": "black",
          "size": 2.3694187025678044
         },
         "type": "scatterternary"
        },
        {
         "a": [
          0.08952670682116717,
          0.16482505810522927,
          0.3435627941019814,
          0.40466211536781777,
          0.46476758242627697,
          0.530763138957506,
          0.5331896812606993,
          0.46603310096020273,
          0.34891857994065956,
          0.24974019606023146,
          0.16813694824905545,
          0.1127873358293342,
          0.0751748818183553,
          0.060404941374064325,
          0.050905219457933734
         ],
         "b": [
          0.90615486215221,
          0.8269367830814948,
          0.6372174380773925,
          0.5692294054362146,
          0.5009953898222248,
          0.4202925743165261,
          0.4070618547224932,
          0.4687394199564915,
          0.5740465688158517,
          0.6503923900558822,
          0.6831082098946356,
          0.6747625945765156,
          0.65003342312275,
          0.6372912817362202,
          0.6142293297588429
         ],
         "c": [
          0.004318431026622722,
          0.00823815881327605,
          0.01921976782062592,
          0.02610847919596783,
          0.03423702775149834,
          0.0489442867259678,
          0.059748464016807626,
          0.06522747908330577,
          0.07703485124348856,
          0.09986741388388623,
          0.14875484185630888,
          0.21245006959415028,
          0.27479169505889467,
          0.30230377688971544,
          0.3348654507832234
         ],
         "line": {
          "color": "grey",
          "width": 0.25
         },
         "marker": {
          "color": "silver",
          "line": {
           "color": "black",
           "width": 0
          },
          "opacity": 0.9,
          "size": 6
         },
         "mode": "lines+text",
         "name": "DOM",
         "showlegend": false,
         "subplot": "ternary",
         "text": [
          "",
          "",
          "",
          "",
          "",
          "",
          "",
          "",
          "",
          "",
          "",
          "",
          "",
          "",
          ""
         ],
         "textfont": {
          "color": "black",
          "size": 4.565600803899865
         },
         "type": "scatterternary"
        },
        {
         "a": [
          0.08952670682116717,
          0.16482505810522927,
          0.3435627941019814,
          0.40466211536781777,
          0.46476758242627697
         ],
         "b": [
          0.90615486215221,
          0.8269367830814948,
          0.6372174380773925,
          0.5692294054362146,
          0.5009953898222248
         ],
         "c": [
          0.004318431026622722,
          0.00823815881327605,
          0.01921976782062592,
          0.02610847919596783,
          0.03423702775149834
         ],
         "line": {
          "color": "grey",
          "width": 0.25
         },
         "marker": {
          "color": "silver",
          "line": {
           "color": "black",
           "width": 0
          },
          "opacity": 0.9,
          "size": 6
         },
         "mode": "lines+text",
         "name": "DOM",
         "showlegend": false,
         "subplot": "ternary",
         "text": [
          "",
          "",
          "",
          "",
          "",
          "",
          "",
          "",
          "",
          "",
          "",
          "",
          "",
          "",
          ""
         ],
         "textfont": {
          "color": "black",
          "size": 4.565600803899865
         },
         "type": "scatterternary"
        },
        {
         "a": [
          0.29391507277824636,
          0.4038242562593572,
          0.5560654951682326,
          0.6193711458701212,
          0.6839861685971155,
          0.7472289327913796,
          0.7774146154405264,
          0.7709306739179601,
          0.7461425720829276,
          0.7316535783130032,
          0.7205309061118721,
          0.7192108628734115,
          0.7206895617977198,
          0.7176218812196786,
          0.7069858497237597
         ],
         "b": [
          0.6919708288829378,
          0.5765795254583715,
          0.4155398842157304,
          0.3448704042992099,
          0.2707766331953239,
          0.19170726950700864,
          0.13507059417682338,
          0.10840202437306962,
          0.10094689662331091,
          0.0947802736033244,
          0.08984223953378258,
          0.08446858584302845,
          0.08069662823716403,
          0.08718861423708477,
          0.10077378239816565
         ],
         "c": [
          0.014114098338815896,
          0.019596218282271198,
          0.028394620616037085,
          0.035758449830668844,
          0.04523719820756047,
          0.06106379770161191,
          0.08751479038265014,
          0.12066730170897011,
          0.15291053129376148,
          0.17356614808367282,
          0.1896268543543453,
          0.19632055128355982,
          0.1986138099651161,
          0.19518950454323677,
          0.1922403678780745
         ],
         "line": {
          "color": "grey",
          "width": 0.25
         },
         "marker": {
          "color": "silver",
          "line": {
           "color": "black",
           "width": 0
          },
          "opacity": 0.9,
          "size": 6
         },
         "mode": "lines+text",
         "name": "ECU",
         "showlegend": false,
         "subplot": "ternary",
         "text": [
          "",
          "",
          "",
          "",
          "",
          "",
          "",
          "",
          "",
          "",
          "",
          "",
          "",
          "",
          ""
         ],
         "textfont": {
          "color": "black",
          "size": 5.301539828687602
         },
         "type": "scatterternary"
        },
        {
         "a": [
          0.29391507277824636,
          0.4038242562593572,
          0.5560654951682326,
          0.6193711458701212,
          0.6839861685971155
         ],
         "b": [
          0.6919708288829378,
          0.5765795254583715,
          0.4155398842157304,
          0.3448704042992099,
          0.2707766331953239
         ],
         "c": [
          0.014114098338815896,
          0.019596218282271198,
          0.028394620616037085,
          0.035758449830668844,
          0.04523719820756047
         ],
         "line": {
          "color": "grey",
          "width": 0.25
         },
         "marker": {
          "color": "silver",
          "line": {
           "color": "black",
           "width": 0
          },
          "opacity": 0.9,
          "size": 6
         },
         "mode": "lines+text",
         "name": "ECU",
         "showlegend": false,
         "subplot": "ternary",
         "text": [
          "",
          "",
          "",
          "",
          "",
          "",
          "",
          "",
          "",
          "",
          "",
          "",
          "",
          "",
          ""
         ],
         "textfont": {
          "color": "black",
          "size": 5.301539828687602
         },
         "type": "scatterternary"
        },
        {
         "a": [
          0.038581687793873755,
          0.07594362889863421,
          0.15618569357994408,
          0.1869305650636,
          0.22865603385569416,
          0.29758221989959815,
          0.38950366556453925,
          0.4694325453848912,
          0.5122753568972197,
          0.5243446698061756,
          0.5209017760184507,
          0.5084423244545047,
          0.5019171636353063,
          0.5015052202070259,
          0.5163593628082822
         ],
         "b": [
          0.9595821882810001,
          0.9203792944907498,
          0.8357057158091715,
          0.802141309050176,
          0.7565488503608706,
          0.6790984197556504,
          0.5715921101525328,
          0.4704798009648589,
          0.40384501488958524,
          0.3694721334166482,
          0.34790719912150514,
          0.34830633140679923,
          0.3386029748539958,
          0.3279857073684087,
          0.3065938878179146
         ],
         "c": [
          0.0018361239251263395,
          0.0036770766106159077,
          0.00810859061088429,
          0.010928125886223963,
          0.014795115783435283,
          0.023319360344751402,
          0.0389042242829277,
          0.060087653650249984,
          0.08387962821319504,
          0.1061831967771763,
          0.1311910248600439,
          0.14325134413869609,
          0.15947986151069785,
          0.17050907242456537,
          0.17704674937380316
         ],
         "line": {
          "color": "grey",
          "width": 0.25
         },
         "marker": {
          "color": "silver",
          "line": {
           "color": "black",
           "width": 0
          },
          "opacity": 0.9,
          "size": 6
         },
         "mode": "lines+text",
         "name": "EGY",
         "showlegend": false,
         "subplot": "ternary",
         "text": [
          "",
          "",
          "",
          "",
          "",
          "",
          "",
          "",
          "",
          "",
          "",
          "",
          "",
          "",
          ""
         ],
         "textfont": {
          "color": "black",
          "size": 9.862152923294675
         },
         "type": "scatterternary"
        },
        {
         "a": [
          0.038581687793873755,
          0.07594362889863421,
          0.15618569357994408,
          0.1869305650636,
          0.22865603385569416
         ],
         "b": [
          0.9595821882810001,
          0.9203792944907498,
          0.8357057158091715,
          0.802141309050176,
          0.7565488503608706
         ],
         "c": [
          0.0018361239251263395,
          0.0036770766106159077,
          0.00810859061088429,
          0.010928125886223963,
          0.014795115783435283
         ],
         "line": {
          "color": "grey",
          "width": 0.25
         },
         "marker": {
          "color": "silver",
          "line": {
           "color": "black",
           "width": 0
          },
          "opacity": 0.9,
          "size": 6
         },
         "mode": "lines+text",
         "name": "EGY",
         "showlegend": false,
         "subplot": "ternary",
         "text": [
          "",
          "",
          "",
          "",
          "",
          "",
          "",
          "",
          "",
          "",
          "",
          "",
          "",
          "",
          ""
         ],
         "textfont": {
          "color": "black",
          "size": 9.862152923294675
         },
         "type": "scatterternary"
        },
        {
         "a": [
          0.010775640997497279,
          0.029571518924552266,
          0.07283202404259873,
          0.08867705094290265,
          0.11391766360317176,
          0.16764066908118966,
          0.2707588686298045,
          0.414282860815065,
          0.5620512885262801,
          0.6485369584914988,
          0.6866590181975065,
          0.6891495719789326,
          0.692764972271928,
          0.6860258501867565,
          0.676554879512109
         ],
         "b": [
          0.988688265845503,
          0.9689446769966155,
          0.9232643324976206,
          0.9054766288548759,
          0.8766271031796162,
          0.8149530637412837,
          0.6940039480719289,
          0.5171389313153354,
          0.3308375400648743,
          0.21355622842354757,
          0.15148221780344365,
          0.14165213860005701,
          0.13076373735980285,
          0.13385844386001042,
          0.1369106742802922
         ],
         "c": [
          0.0005360931569996709,
          0.0014838040788324068,
          0.0039036434597805184,
          0.005846320202221483,
          0.009455233217212089,
          0.017406267177526455,
          0.03523718329826654,
          0.06857820786959956,
          0.10711117140884568,
          0.13790681308495356,
          0.1618587639990498,
          0.16919828942101045,
          0.17647129036826917,
          0.18011570595323304,
          0.18653444620759885
         ],
         "line": {
          "color": "grey",
          "width": 0.25
         },
         "marker": {
          "color": "silver",
          "line": {
           "color": "black",
           "width": 0
          },
          "opacity": 0.9,
          "size": 6
         },
         "mode": "lines+text",
         "name": "SLV",
         "showlegend": false,
         "subplot": "ternary",
         "text": [
          "",
          "",
          "",
          "",
          "",
          "",
          "",
          "",
          "",
          "",
          "",
          "",
          "",
          "",
          ""
         ],
         "textfont": {
          "color": "black",
          "size": 3.8559161276842233
         },
         "type": "scatterternary"
        },
        {
         "a": [
          0.010775640997497279,
          0.029571518924552266,
          0.07283202404259873,
          0.08867705094290265,
          0.11391766360317176
         ],
         "b": [
          0.988688265845503,
          0.9689446769966155,
          0.9232643324976206,
          0.9054766288548759,
          0.8766271031796162
         ],
         "c": [
          0.0005360931569996709,
          0.0014838040788324068,
          0.0039036434597805184,
          0.005846320202221483,
          0.009455233217212089
         ],
         "line": {
          "color": "grey",
          "width": 0.25
         },
         "marker": {
          "color": "silver",
          "line": {
           "color": "black",
           "width": 0
          },
          "opacity": 0.9,
          "size": 6
         },
         "mode": "lines+text",
         "name": "SLV",
         "showlegend": false,
         "subplot": "ternary",
         "text": [
          "",
          "",
          "",
          "",
          "",
          "",
          "",
          "",
          "",
          "",
          "",
          "",
          "",
          "",
          ""
         ],
         "textfont": {
          "color": "black",
          "size": 3.8559161276842233
         },
         "type": "scatterternary"
        },
        {
         "a": [
          0.08493329586497639,
          0.08629727347386613,
          0.10239018673998224,
          0.12377472528158122,
          0.1383070826471732,
          0.1470720663519167,
          0.16268556348634838,
          0.17388790972574028,
          0.1923896607912794,
          0.22518488297605635,
          0.2728059437344805,
          0.3216732733140808,
          0.37159696848889234,
          0.4100868597890176,
          0.4348135661213755
         ],
         "b": [
          0.8686312136053437,
          0.838678228368766,
          0.8083478636309661,
          0.8451180504815573,
          0.8158146037174404,
          0.7933772407857039,
          0.7598361358125204,
          0.737836228672274,
          0.7091154096753786,
          0.6697488112436069,
          0.6128357679691804,
          0.5429217337577523,
          0.4667908957497143,
          0.41055703721126563,
          0.36336655386653055
         ],
         "c": [
          0.04643549052967989,
          0.07502449815736771,
          0.08926194962905162,
          0.031107224236861235,
          0.0458783136353864,
          0.05955069286237941,
          0.07747830070113136,
          0.08827586160198565,
          0.09849492953334216,
          0.10506630578033671,
          0.11435828829633901,
          0.13540499292816682,
          0.16161213576139344,
          0.17935610299971677,
          0.20181988001209394
         ],
         "line": {
          "color": "grey",
          "width": 0.25
         },
         "marker": {
          "color": "silver",
          "line": {
           "color": "black",
           "width": 0
          },
          "opacity": 0.9,
          "size": 6
         },
         "mode": "lines+text",
         "name": "GNQ",
         "showlegend": false,
         "subplot": "ternary",
         "text": [
          "",
          "",
          "",
          "",
          "",
          "",
          "",
          "",
          "",
          "",
          "",
          "",
          "",
          "",
          ""
         ],
         "textfont": {
          "color": "black",
          "size": 2.643687004787763
         },
         "type": "scatterternary"
        },
        {
         "a": [
          0.08493329586497639,
          0.08629727347386613,
          0.10239018673998224,
          0.12377472528158122,
          0.1383070826471732
         ],
         "b": [
          0.8686312136053437,
          0.838678228368766,
          0.8083478636309661,
          0.8451180504815573,
          0.8158146037174404
         ],
         "c": [
          0.04643549052967989,
          0.07502449815736771,
          0.08926194962905162,
          0.031107224236861235,
          0.0458783136353864
         ],
         "line": {
          "color": "grey",
          "width": 0.25
         },
         "marker": {
          "color": "silver",
          "line": {
           "color": "black",
           "width": 0
          },
          "opacity": 0.9,
          "size": 6
         },
         "mode": "lines+text",
         "name": "GNQ",
         "showlegend": false,
         "subplot": "ternary",
         "text": [
          "",
          "",
          "",
          "",
          "",
          "",
          "",
          "",
          "",
          "",
          "",
          "",
          "",
          "",
          ""
         ],
         "textfont": {
          "color": "black",
          "size": 2.643687004787763
         },
         "type": "scatterternary"
        },
        {
         "a": [
          0.031140854608567758,
          0.07309100391859912,
          0.17525344313513683,
          0.19951668072210785,
          0.21011858991693946,
          0.21269818085029324,
          0.18742285011178522,
          0.13273950747280308,
          0.09041762203160243,
          0.0665694007042477,
          0.05074425080557976,
          0.042838658520795894,
          0.03855864340359273,
          0.03869060131478619,
          0.04503797981253324
         ],
         "b": [
          0.9669635602785714,
          0.9226430734038326,
          0.8135716896785453,
          0.7844083910972683,
          0.7649599563465093,
          0.7379151874286698,
          0.7316371573153863,
          0.7326720241587353,
          0.7130152194309878,
          0.6986180176223874,
          0.6847302898068925,
          0.6644617898741838,
          0.6417923167659991,
          0.6188459681042087,
          0.5988790038698416
         ],
         "c": [
          0.0018955851128607435,
          0.0042659226775683635,
          0.011174867186317806,
          0.016074928180623716,
          0.02492145373655139,
          0.04938663172103701,
          0.08093999257282827,
          0.13458846836846164,
          0.1965671585374098,
          0.2348125816733648,
          0.26452545938752764,
          0.29269955160502026,
          0.3196490398304082,
          0.3424634305810052,
          0.3560830163176251
         ],
         "line": {
          "color": "grey",
          "width": 0.25
         },
         "marker": {
          "color": "silver",
          "line": {
           "color": "black",
           "width": 0
          },
          "opacity": 0.9,
          "size": 6
         },
         "mode": "lines+text",
         "name": "ERI",
         "showlegend": false,
         "subplot": "ternary",
         "text": [
          "",
          "",
          "",
          "",
          "",
          "",
          "",
          "",
          "",
          "",
          "",
          "",
          "",
          "",
          ""
         ],
         "textfont": {
          "color": "black",
          "size": 3.2663838095300552
         },
         "type": "scatterternary"
        },
        {
         "a": [
          0.031140854608567758,
          0.07309100391859912,
          0.17525344313513683,
          0.19951668072210785,
          0.21011858991693946
         ],
         "b": [
          0.9669635602785714,
          0.9226430734038326,
          0.8135716896785453,
          0.7844083910972683,
          0.7649599563465093
         ],
         "c": [
          0.0018955851128607435,
          0.0042659226775683635,
          0.011174867186317806,
          0.016074928180623716,
          0.02492145373655139
         ],
         "line": {
          "color": "grey",
          "width": 0.25
         },
         "marker": {
          "color": "silver",
          "line": {
           "color": "black",
           "width": 0
          },
          "opacity": 0.9,
          "size": 6
         },
         "mode": "lines+text",
         "name": "ERI",
         "showlegend": false,
         "subplot": "ternary",
         "text": [
          "",
          "",
          "",
          "",
          "",
          "",
          "",
          "",
          "",
          "",
          "",
          "",
          "",
          "",
          ""
         ],
         "textfont": {
          "color": "black",
          "size": 3.2663838095300552
         },
         "type": "scatterternary"
        },
        {
         "a": [
          0.01477215913072611,
          0.017540493042248775,
          0.027105415417953728,
          0.023833219101419435,
          0.027287463141225998,
          0.041698809559103205,
          0.07400122517158725,
          0.14452413136949815,
          0.2564156418727136,
          0.35722673990355286,
          0.4118356548696428,
          0.41842882943854287,
          0.4357990202612151,
          0.4683098074066085,
          0.5144884673897963
         ],
         "b": [
          0.9844745286811408,
          0.9814295257304388,
          0.9712777730786534,
          0.9746873266249461,
          0.9708467007374822,
          0.9543757711175148,
          0.9159939666219663,
          0.8265865790176272,
          0.6676051678444135,
          0.5050686337486755,
          0.40168708892292526,
          0.3732422355223953,
          0.33297094960415674,
          0.2864645821416597,
          0.23492062748265252
         ],
         "c": [
          0.0007533121881330502,
          0.0010299812273122438,
          0.001616811503392867,
          0.0014794542736343737,
          0.0018658361212920281,
          0.003925419323381895,
          0.010004808206446555,
          0.028889289612874618,
          0.07597919028287321,
          0.13770462634777167,
          0.18647725620743205,
          0.2083289350390616,
          0.23123003013462823,
          0.24522561045173172,
          0.25059090512755144
         ],
         "line": {
          "color": "grey",
          "width": 0.25
         },
         "marker": {
          "color": "silver",
          "line": {
           "color": "black",
           "width": 0
          },
          "opacity": 0.9,
          "size": 6
         },
         "mode": "lines+text",
         "name": "EST",
         "showlegend": false,
         "subplot": "ternary",
         "text": [
          "",
          "",
          "",
          "",
          "",
          "",
          "",
          "",
          "",
          "",
          "",
          "",
          "",
          "",
          ""
         ],
         "textfont": {
          "color": "black",
          "size": 2.534469080126887
         },
         "type": "scatterternary"
        },
        {
         "a": [
          0.01477215913072611,
          0.017540493042248775,
          0.027105415417953728,
          0.023833219101419435,
          0.027287463141225998
         ],
         "b": [
          0.9844745286811408,
          0.9814295257304388,
          0.9712777730786534,
          0.9746873266249461,
          0.9708467007374822
         ],
         "c": [
          0.0007533121881330502,
          0.0010299812273122438,
          0.001616811503392867,
          0.0014794542736343737,
          0.0018658361212920281
         ],
         "line": {
          "color": "grey",
          "width": 0.25
         },
         "marker": {
          "color": "silver",
          "line": {
           "color": "black",
           "width": 0
          },
          "opacity": 0.9,
          "size": 6
         },
         "mode": "lines+text",
         "name": "EST",
         "showlegend": false,
         "subplot": "ternary",
         "text": [
          "",
          "",
          "",
          "",
          "",
          "",
          "",
          "",
          "",
          "",
          "",
          "",
          "",
          "",
          ""
         ],
         "textfont": {
          "color": "black",
          "size": 2.534469080126887
         },
         "type": "scatterternary"
        },
        {
         "a": [
          0,
          0,
          0,
          0,
          0,
          0,
          0,
          0,
          0,
          0,
          0,
          0,
          0,
          0,
          0
         ],
         "b": [
          0,
          0,
          0,
          0,
          0,
          0,
          0,
          0,
          0,
          0,
          0,
          0,
          0,
          0,
          0
         ],
         "c": [
          0,
          0,
          0,
          0,
          0,
          0,
          0,
          0,
          0,
          0,
          0,
          0,
          0,
          0,
          0
         ],
         "line": {
          "color": "grey",
          "width": 0.25
         },
         "marker": {
          "color": "silver",
          "line": {
           "color": "black",
           "width": 0
          },
          "opacity": 0.9,
          "size": 6
         },
         "mode": "lines+text",
         "name": "SWZ",
         "showlegend": false,
         "subplot": "ternary",
         "text": [
          "",
          "",
          "",
          "",
          "",
          "",
          "",
          "",
          "",
          "",
          "",
          "",
          "",
          "",
          ""
         ],
         "textfont": {
          "color": "black",
          "size": 2.4602796873515365
         },
         "type": "scatterternary"
        },
        {
         "a": [
          0,
          0,
          0,
          0,
          0
         ],
         "b": [
          0,
          0,
          0,
          0,
          0
         ],
         "c": [
          0,
          0,
          0,
          0,
          0
         ],
         "line": {
          "color": "grey",
          "width": 0.25
         },
         "marker": {
          "color": "silver",
          "line": {
           "color": "black",
           "width": 0
          },
          "opacity": 0.9,
          "size": 6
         },
         "mode": "lines+text",
         "name": "SWZ",
         "showlegend": false,
         "subplot": "ternary",
         "text": [
          "",
          "",
          "",
          "",
          "",
          "",
          "",
          "",
          "",
          "",
          "",
          "",
          "",
          "",
          ""
         ],
         "textfont": {
          "color": "black",
          "size": 2.4602796873515365
         },
         "type": "scatterternary"
        },
        {
         "a": [
          0.03485857653902673,
          0.0819853292140128,
          0.19861973506855202,
          0.2419626897467636,
          0.26974019077319533,
          0.29173268509835815,
          0.2793143953110271,
          0.2246596172361834,
          0.16368975789067192,
          0.12613380526468357,
          0.0987958866381143,
          0.0858467677539309,
          0.08004903369432084,
          0.08136456009007505,
          0.08571961266359827
         ],
         "b": [
          0.963281331520285,
          0.9133004895238527,
          0.7901226470404148,
          0.7399891477243661,
          0.7020309262600268,
          0.6514990110657618,
          0.6230894651541498,
          0.6181813758928727,
          0.6136298038293624,
          0.6080544705607649,
          0.5991898058882862,
          0.583931116724463,
          0.563730170896745,
          0.5420498815454394,
          0.518912786169932
         ],
         "c": [
          0.0018600919406884147,
          0.00471418126213434,
          0.01125761789103316,
          0.018048162528870277,
          0.028228882966777814,
          0.0567683038358802,
          0.09759613953482316,
          0.15715900687094392,
          0.22268043827996592,
          0.2658117241745517,
          0.3020143074735995,
          0.33022211552160624,
          0.35622079540893414,
          0.37658555836448543,
          0.39536760116646974
         ],
         "line": {
          "color": "grey",
          "width": 0.25
         },
         "marker": {
          "color": "silver",
          "line": {
           "color": "black",
           "width": 0
          },
          "opacity": 0.9,
          "size": 6
         },
         "mode": "lines+text",
         "name": "ETH",
         "showlegend": false,
         "subplot": "ternary",
         "text": [
          "",
          "",
          "",
          "",
          "",
          "",
          "",
          "",
          "",
          "",
          "",
          "",
          "",
          "",
          ""
         ],
         "textfont": {
          "color": "black",
          "size": 10.157501856395282
         },
         "type": "scatterternary"
        },
        {
         "a": [
          0.03485857653902673,
          0.0819853292140128,
          0.19861973506855202,
          0.2419626897467636,
          0.26974019077319533
         ],
         "b": [
          0.963281331520285,
          0.9133004895238527,
          0.7901226470404148,
          0.7399891477243661,
          0.7020309262600268
         ],
         "c": [
          0.0018600919406884147,
          0.00471418126213434,
          0.01125761789103316,
          0.018048162528870277,
          0.028228882966777814
         ],
         "line": {
          "color": "grey",
          "width": 0.25
         },
         "marker": {
          "color": "silver",
          "line": {
           "color": "black",
           "width": 0
          },
          "opacity": 0.9,
          "size": 6
         },
         "mode": "lines+text",
         "name": "ETH",
         "showlegend": false,
         "subplot": "ternary",
         "text": [
          "",
          "",
          "",
          "",
          "",
          "",
          "",
          "",
          "",
          "",
          "",
          "",
          "",
          "",
          ""
         ],
         "textfont": {
          "color": "black",
          "size": 10.157501856395282
         },
         "type": "scatterternary"
        },
        {
         "a": [
          0.03956000291445217,
          0.07537192730799926,
          0.14749711711469687,
          0.17413905306575223,
          0.20916454834141107,
          0.2714549394709327,
          0.36983097378460417,
          0.4745455449192472,
          0.5574846652048029,
          0.6043270353469846,
          0.6297595608937119,
          0.6333295110361988,
          0.6346823258033621,
          0.6347244935585001,
          0.631929021774753
         ],
         "b": [
          0.9584602670978866,
          0.9205563537841525,
          0.8440858967700359,
          0.8152814589206394,
          0.7773701062152184,
          0.7079178553184982,
          0.5959889110764012,
          0.47119524501993093,
          0.3624927254480847,
          0.29094732649536975,
          0.2402470293709051,
          0.22136018951657466,
          0.2073269123737037,
          0.2016964916415787,
          0.20131305799966717
         ],
         "c": [
          0.001979729987661313,
          0.0040717189078482525,
          0.00841698611526722,
          0.010579488013608335,
          0.013465345443370559,
          0.020627205210569002,
          0.034180115138994584,
          0.05425921006082189,
          0.08002260934711264,
          0.1047256381576456,
          0.1299934097353831,
          0.14531029944722654,
          0.15799076182293414,
          0.1635790147999212,
          0.16675792022557975
         ],
         "line": {
          "color": "grey",
          "width": 0.25
         },
         "marker": {
          "color": "silver",
          "line": {
           "color": "black",
           "width": 0
          },
          "opacity": 0.9,
          "size": 6
         },
         "mode": "lines+text",
         "name": "FJI",
         "showlegend": false,
         "subplot": "ternary",
         "text": [
          "",
          "",
          "",
          "",
          "",
          "",
          "",
          "",
          "",
          "",
          "",
          "",
          "",
          "",
          ""
         ],
         "textfont": {
          "color": "black",
          "size": 2.323397645575395
         },
         "type": "scatterternary"
        },
        {
         "a": [
          0.03956000291445217,
          0.07537192730799926,
          0.14749711711469687,
          0.17413905306575223,
          0.20916454834141107
         ],
         "b": [
          0.9584602670978866,
          0.9205563537841525,
          0.8440858967700359,
          0.8152814589206394,
          0.7773701062152184
         ],
         "c": [
          0.001979729987661313,
          0.0040717189078482525,
          0.00841698611526722,
          0.010579488013608335,
          0.013465345443370559
         ],
         "line": {
          "color": "grey",
          "width": 0.25
         },
         "marker": {
          "color": "silver",
          "line": {
           "color": "black",
           "width": 0
          },
          "opacity": 0.9,
          "size": 6
         },
         "mode": "lines+text",
         "name": "FJI",
         "showlegend": false,
         "subplot": "ternary",
         "text": [
          "",
          "",
          "",
          "",
          "",
          "",
          "",
          "",
          "",
          "",
          "",
          "",
          "",
          "",
          ""
         ],
         "textfont": {
          "color": "black",
          "size": 2.323397645575395
         },
         "type": "scatterternary"
        },
        {
         "a": [
          0.03543012355257371,
          0.04232740730870043,
          0.07223057433284523,
          0.07320632427859056,
          0.0851277853162768,
          0.1146639518851585,
          0.17046514762986373,
          0.2385291032141212,
          0.25181803516856194,
          0.2180533794893876,
          0.1809517586392401,
          0.15834986660228959,
          0.15099425651416268,
          0.15616441381886095,
          0.17326651237490714
         ],
         "b": [
          0.9627828953876574,
          0.9554601917700896,
          0.9237319792148229,
          0.9221696696558336,
          0.9077933383019172,
          0.8707122387159261,
          0.7992654588555658,
          0.6997331788236025,
          0.6501559828455453,
          0.6574728714925596,
          0.6725201464755356,
          0.663506430519736,
          0.6524781099884415,
          0.6298210549613528,
          0.5961540030570042
         ],
         "c": [
          0.0017869810597692447,
          0.0022124009212100637,
          0.00403744645233172,
          0.004624006065575873,
          0.0070788763818060395,
          0.01462380939891545,
          0.030269393514570458,
          0.06173771796227605,
          0.09802598198589284,
          0.12447374901805264,
          0.14652809488522425,
          0.17814370287797437,
          0.1965276334973959,
          0.21401453121978625,
          0.23057948456808866
         ],
         "line": {
          "color": "grey",
          "width": 0.25
         },
         "marker": {
          "color": "silver",
          "line": {
           "color": "black",
           "width": 0
          },
          "opacity": 0.9,
          "size": 6
         },
         "mode": "lines+text",
         "name": "FIN",
         "showlegend": false,
         "subplot": "ternary",
         "text": [
          "",
          "",
          "",
          "",
          "",
          "",
          "",
          "",
          "",
          "",
          "",
          "",
          "",
          "",
          ""
         ],
         "textfont": {
          "color": "black",
          "size": 3.713162868731785
         },
         "type": "scatterternary"
        },
        {
         "a": [
          0.03543012355257371,
          0.04232740730870043,
          0.07223057433284523,
          0.07320632427859056,
          0.0851277853162768
         ],
         "b": [
          0.9627828953876574,
          0.9554601917700896,
          0.9237319792148229,
          0.9221696696558336,
          0.9077933383019172
         ],
         "c": [
          0.0017869810597692447,
          0.0022124009212100637,
          0.00403744645233172,
          0.004624006065575873,
          0.0070788763818060395
         ],
         "line": {
          "color": "grey",
          "width": 0.25
         },
         "marker": {
          "color": "silver",
          "line": {
           "color": "black",
           "width": 0
          },
          "opacity": 0.9,
          "size": 6
         },
         "mode": "lines+text",
         "name": "FIN",
         "showlegend": false,
         "subplot": "ternary",
         "text": [
          "",
          "",
          "",
          "",
          "",
          "",
          "",
          "",
          "",
          "",
          "",
          "",
          "",
          "",
          ""
         ],
         "textfont": {
          "color": "black",
          "size": 3.713162868731785
         },
         "type": "scatterternary"
        },
        {
         "a": [
          0.22103503410830597,
          0.3018233731391022,
          0.4066792357311954,
          0.4066749295987535,
          0.4438603069977386,
          0.4896719758727363,
          0.5197192887474468,
          0.5187765903837293,
          0.5006999624126095,
          0.4866388087864014,
          0.4825002900483822,
          0.4917565814562092,
          0.514412233950698,
          0.5451308682431841,
          0.5837796336078809
         ],
         "b": [
          0.7682801366083413,
          0.6829166598210489,
          0.5722410225242531,
          0.5701358675566386,
          0.5269418168814205,
          0.4684675036040462,
          0.42329559169514075,
          0.40819577462988255,
          0.40682676238808835,
          0.4016769669779704,
          0.38499228691248855,
          0.3551493085896231,
          0.3161913685736388,
          0.2722037420774964,
          0.22495244398253636
         ],
         "c": [
          0.010684829283352742,
          0.015259967039848882,
          0.021079741744551368,
          0.023189202844607952,
          0.029197876120840786,
          0.04186052052321749,
          0.05698511955741274,
          0.07302763498638808,
          0.09247327519930208,
          0.11168422423562814,
          0.13250742303912913,
          0.15309410995416772,
          0.1693963974756633,
          0.1826653896793195,
          0.19126792240958257
         ],
         "line": {
          "color": "grey",
          "width": 0.25
         },
         "marker": {
          "color": "silver",
          "line": {
           "color": "black",
           "width": 0
          },
          "opacity": 0.9,
          "size": 6
         },
         "mode": "lines+text",
         "name": "FRA",
         "showlegend": false,
         "subplot": "ternary",
         "text": [
          "",
          "",
          "",
          "",
          "",
          "",
          "",
          "",
          "",
          "",
          "",
          "",
          "",
          "",
          ""
         ],
         "textfont": {
          "color": "black",
          "size": 8.248469653389904
         },
         "type": "scatterternary"
        },
        {
         "a": [
          0.22103503410830597,
          0.3018233731391022,
          0.4066792357311954,
          0.4066749295987535,
          0.4438603069977386
         ],
         "b": [
          0.7682801366083413,
          0.6829166598210489,
          0.5722410225242531,
          0.5701358675566386,
          0.5269418168814205
         ],
         "c": [
          0.010684829283352742,
          0.015259967039848882,
          0.021079741744551368,
          0.023189202844607952,
          0.029197876120840786
         ],
         "line": {
          "color": "grey",
          "width": 0.25
         },
         "marker": {
          "color": "silver",
          "line": {
           "color": "black",
           "width": 0
          },
          "opacity": 0.9,
          "size": 6
         },
         "mode": "lines+text",
         "name": "FRA",
         "showlegend": false,
         "subplot": "ternary",
         "text": [
          "",
          "",
          "",
          "",
          "",
          "",
          "",
          "",
          "",
          "",
          "",
          "",
          "",
          "",
          ""
         ],
         "textfont": {
          "color": "black",
          "size": 8.248469653389904
         },
         "type": "scatterternary"
        },
        {
         "a": [
          0.030374436497663446,
          0.04814585876672971,
          0.08791187853400569,
          0.10941418091672551,
          0.1533293589157969,
          0.214944579103726,
          0.28688521093173575,
          0.3395780804807739,
          0.38781791435706553,
          0.4350481133843099,
          0.48253409406448255,
          0.49689418936623747,
          0.4724652248250017,
          0.4262086076485534,
          0.3960418737767839
         ],
         "b": [
          0.9661674002971894,
          0.9433684321059186,
          0.8947638701169579,
          0.8770406860873494,
          0.8277756873214949,
          0.7535672967939324,
          0.663436459742055,
          0.5929622094314861,
          0.5196314410147777,
          0.4439686946585223,
          0.36662252377144705,
          0.32373885453368734,
          0.3187624247538514,
          0.3435587003031652,
          0.3718482638005268
         ],
         "c": [
          0.003458163205146996,
          0.008485709127351528,
          0.01732425134903652,
          0.013545132995925137,
          0.01889495376270819,
          0.0314881241023415,
          0.04967832932620934,
          0.06745971008774007,
          0.09255064462815693,
          0.12098319195716803,
          0.15084338216407026,
          0.1793669561000753,
          0.20877235042114695,
          0.23023269204828142,
          0.2321098624226893
         ],
         "line": {
          "color": "grey",
          "width": 0.25
         },
         "marker": {
          "color": "silver",
          "line": {
           "color": "black",
           "width": 0
          },
          "opacity": 0.9,
          "size": 6
         },
         "mode": "lines+text",
         "name": "GAB",
         "showlegend": false,
         "subplot": "ternary",
         "text": [
          "",
          "",
          "",
          "",
          "",
          "",
          "",
          "",
          "",
          "",
          "",
          "",
          "",
          "",
          ""
         ],
         "textfont": {
          "color": "black",
          "size": 2.9001724424648145
         },
         "type": "scatterternary"
        },
        {
         "a": [
          0.030374436497663446,
          0.04814585876672971,
          0.08791187853400569,
          0.10941418091672551,
          0.1533293589157969
         ],
         "b": [
          0.9661674002971894,
          0.9433684321059186,
          0.8947638701169579,
          0.8770406860873494,
          0.8277756873214949
         ],
         "c": [
          0.003458163205146996,
          0.008485709127351528,
          0.01732425134903652,
          0.013545132995925137,
          0.01889495376270819
         ],
         "line": {
          "color": "grey",
          "width": 0.25
         },
         "marker": {
          "color": "silver",
          "line": {
           "color": "black",
           "width": 0
          },
          "opacity": 0.9,
          "size": 6
         },
         "mode": "lines+text",
         "name": "GAB",
         "showlegend": false,
         "subplot": "ternary",
         "text": [
          "",
          "",
          "",
          "",
          "",
          "",
          "",
          "",
          "",
          "",
          "",
          "",
          "",
          "",
          ""
         ],
         "textfont": {
          "color": "black",
          "size": 2.9001724424648145
         },
         "type": "scatterternary"
        },
        {
         "a": [
          0.005086052558890516,
          0.011549279062538267,
          0.025360632076272312,
          0.02970255070908894,
          0.040824060038777685,
          0.0655192326860442,
          0.12180629663142267,
          0.22935925944694718,
          0.3692278903985423,
          0.4775487571399699,
          0.5355210844117616,
          0.542769842246052,
          0.5427518257243618,
          0.5375638791544786,
          0.5353529165847438
         ],
         "b": [
          0.9946652824811658,
          0.9878646982013183,
          0.9733032872568292,
          0.9686023773113956,
          0.9566427685460556,
          0.9295677605538437,
          0.8667733626218515,
          0.7432828005234975,
          0.5734950209635648,
          0.42965999462780374,
          0.3343033902509651,
          0.30489139045249664,
          0.28124002577804474,
          0.26885268741192747,
          0.2597051994419201
         ],
         "c": [
          0.0002486649599435317,
          0.0005860227361434413,
          0.0013360806668984405,
          0.001695071979515363,
          0.0025331714151667073,
          0.004913006760111968,
          0.011420340746725904,
          0.027357940029555227,
          0.05727708863789266,
          0.09279124823222624,
          0.13017552533727328,
          0.15233876730145146,
          0.1760081484975935,
          0.193583433433594,
          0.20494188397333601
         ],
         "line": {
          "color": "grey",
          "width": 0.25
         },
         "marker": {
          "color": "silver",
          "line": {
           "color": "black",
           "width": 0
          },
          "opacity": 0.9,
          "size": 6
         },
         "mode": "lines+text",
         "name": "GEO",
         "showlegend": false,
         "subplot": "ternary",
         "text": [
          "",
          "",
          "",
          "",
          "",
          "",
          "",
          "",
          "",
          "",
          "",
          "",
          "",
          "",
          ""
         ],
         "textfont": {
          "color": "black",
          "size": 3.328279660982005
         },
         "type": "scatterternary"
        },
        {
         "a": [
          0.005086052558890516,
          0.011549279062538267,
          0.025360632076272312,
          0.02970255070908894,
          0.040824060038777685
         ],
         "b": [
          0.9946652824811658,
          0.9878646982013183,
          0.9733032872568292,
          0.9686023773113956,
          0.9566427685460556
         ],
         "c": [
          0.0002486649599435317,
          0.0005860227361434413,
          0.0013360806668984405,
          0.001695071979515363,
          0.0025331714151667073
         ],
         "line": {
          "color": "grey",
          "width": 0.25
         },
         "marker": {
          "color": "silver",
          "line": {
           "color": "black",
           "width": 0
          },
          "opacity": 0.9,
          "size": 6
         },
         "mode": "lines+text",
         "name": "GEO",
         "showlegend": false,
         "subplot": "ternary",
         "text": [
          "",
          "",
          "",
          "",
          "",
          "",
          "",
          "",
          "",
          "",
          "",
          "",
          "",
          "",
          ""
         ],
         "textfont": {
          "color": "black",
          "size": 3.328279660982005
         },
         "type": "scatterternary"
        },
        {
         "a": [
          0.03684667409202124,
          0.05031559224336172,
          0.08989821195045793,
          0.09646126845443613,
          0.11847029279367632,
          0.16197581046834897,
          0.23042780694615783,
          0.2881650675409425,
          0.2802464523284067,
          0.24313539638525308,
          0.20976164088736,
          0.19177241275926285,
          0.19023610624137122,
          0.20228835152804148,
          0.22844319878561348
         ],
         "b": [
          0.9613406092232224,
          0.9471160282082552,
          0.9052168772245347,
          0.8974972997512628,
          0.8718405064709684,
          0.8185046062142292,
          0.732928772673772,
          0.6480126170227025,
          0.6299700527628769,
          0.6466139819328446,
          0.659977797703753,
          0.6478016944237788,
          0.631931234362163,
          0.6003766355685021,
          0.5578030324257711
         ],
         "c": [
          0.0018127166847563066,
          0.002568379548383123,
          0.004884910825007235,
          0.006041431794300845,
          0.009689200735355258,
          0.019519583317421783,
          0.0366434203800703,
          0.06382231543635487,
          0.0897834949087163,
          0.11025062168190217,
          0.1302605614088869,
          0.16042589281695846,
          0.17783265939646564,
          0.19733501290345642,
          0.21375376878861535
         ],
         "line": {
          "color": "grey",
          "width": 0.25
         },
         "marker": {
          "color": "silver",
          "line": {
           "color": "black",
           "width": 0
          },
          "opacity": 0.9,
          "size": 6
         },
         "mode": "lines+text",
         "name": "DEU",
         "showlegend": false,
         "subplot": "ternary",
         "text": [
          "",
          "",
          "",
          "",
          "",
          "",
          "",
          "",
          "",
          "",
          "",
          "",
          "",
          "",
          ""
         ],
         "textfont": {
          "color": "black",
          "size": 9.03020777180467
         },
         "type": "scatterternary"
        },
        {
         "a": [
          0.03684667409202124,
          0.05031559224336172,
          0.08989821195045793,
          0.09646126845443613,
          0.11847029279367632
         ],
         "b": [
          0.9613406092232224,
          0.9471160282082552,
          0.9052168772245347,
          0.8974972997512628,
          0.8718405064709684
         ],
         "c": [
          0.0018127166847563066,
          0.002568379548383123,
          0.004884910825007235,
          0.006041431794300845,
          0.009689200735355258
         ],
         "line": {
          "color": "grey",
          "width": 0.25
         },
         "marker": {
          "color": "silver",
          "line": {
           "color": "black",
           "width": 0
          },
          "opacity": 0.9,
          "size": 6
         },
         "mode": "lines+text",
         "name": "DEU",
         "showlegend": false,
         "subplot": "ternary",
         "text": [
          "",
          "",
          "",
          "",
          "",
          "",
          "",
          "",
          "",
          "",
          "",
          "",
          "",
          "",
          ""
         ],
         "textfont": {
          "color": "black",
          "size": 9.03020777180467
         },
         "type": "scatterternary"
        },
        {
         "a": [
          0.0189088363561831,
          0.052133873811557666,
          0.13206740923934412,
          0.1746431717241272,
          0.22188209880542867,
          0.3104994330371329,
          0.4311923718882147,
          0.5205225278348832,
          0.5312036326542267,
          0.495624218403963,
          0.4361246738868725,
          0.4027277859128584,
          0.3818200247764187,
          0.37330386354159845,
          0.36697875656095497
         ],
         "b": [
          0.9797159272134073,
          0.9439626849052464,
          0.8580262911363771,
          0.8144840129358887,
          0.7631781519315536,
          0.6642365439377697,
          0.5255735471484316,
          0.4147064050878824,
          0.3815984594840364,
          0.39288552404739935,
          0.4189022505815704,
          0.41980236080081806,
          0.40580640749614677,
          0.386285869320511,
          0.3645125455558018
         ],
         "c": [
          0.001375236430409563,
          0.0039034412831961108,
          0.00990629962427885,
          0.010872815339984129,
          0.014939749263017518,
          0.025264023025097414,
          0.04323408096335368,
          0.06477106707723458,
          0.0871979078617367,
          0.11149025754863735,
          0.14497307553155717,
          0.1774698532863236,
          0.21237356772743463,
          0.2404102671378905,
          0.2685086978832434
         ],
         "line": {
          "color": "grey",
          "width": 0.25
         },
         "marker": {
          "color": "silver",
          "line": {
           "color": "black",
           "width": 0
          },
          "opacity": 0.9,
          "size": 6
         },
         "mode": "lines+text",
         "name": "GHA",
         "showlegend": false,
         "subplot": "ternary",
         "text": [
          "",
          "",
          "",
          "",
          "",
          "",
          "",
          "",
          "",
          "",
          "",
          "",
          "",
          "",
          ""
         ],
         "textfont": {
          "color": "black",
          "size": 6.467337986160495
         },
         "type": "scatterternary"
        },
        {
         "a": [
          0.0189088363561831,
          0.052133873811557666,
          0.13206740923934412,
          0.1746431717241272,
          0.22188209880542867
         ],
         "b": [
          0.9797159272134073,
          0.9439626849052464,
          0.8580262911363771,
          0.8144840129358887,
          0.7631781519315536
         ],
         "c": [
          0.001375236430409563,
          0.0039034412831961108,
          0.00990629962427885,
          0.010872815339984129,
          0.014939749263017518
         ],
         "line": {
          "color": "grey",
          "width": 0.25
         },
         "marker": {
          "color": "silver",
          "line": {
           "color": "black",
           "width": 0
          },
          "opacity": 0.9,
          "size": 6
         },
         "mode": "lines+text",
         "name": "GHA",
         "showlegend": false,
         "subplot": "ternary",
         "text": [
          "",
          "",
          "",
          "",
          "",
          "",
          "",
          "",
          "",
          "",
          "",
          "",
          "",
          "",
          ""
         ],
         "textfont": {
          "color": "black",
          "size": 6.467337986160495
         },
         "type": "scatterternary"
        },
        {
         "a": [
          0.21712108575154176,
          0.293138100020025,
          0.41240048134611446,
          0.4306451360921158,
          0.47174174562126747,
          0.512818855926055,
          0.5400117265029281,
          0.5374234092091014,
          0.5170449696761767,
          0.49715215884009384,
          0.48748404435708625,
          0.48829499149638755,
          0.5032929776096134,
          0.5273060707125267,
          0.560089753301259
         ],
         "b": [
          0.7722662089344223,
          0.6917378112403076,
          0.5656280374292795,
          0.5444953890869333,
          0.4973311221137733,
          0.4432036448144843,
          0.39901236827202663,
          0.382274108295488,
          0.3785742551935912,
          0.37497913567799807,
          0.3595950268664855,
          0.33534731361072556,
          0.30152259671134957,
          0.26485340302927635,
          0.2261584074353281
         ],
         "c": [
          0.010612705314035827,
          0.01512408873966729,
          0.021971481224606147,
          0.02485947482095092,
          0.030927132264959217,
          0.04397749925946068,
          0.06097590522504502,
          0.08030248249541065,
          0.10438077513023204,
          0.12786870548190798,
          0.15292092877642813,
          0.17635769489288694,
          0.195184425679037,
          0.2078405262581971,
          0.21375183926341282
         ],
         "line": {
          "color": "grey",
          "width": 0.25
         },
         "marker": {
          "color": "silver",
          "line": {
           "color": "black",
           "width": 0
          },
          "opacity": 0.9,
          "size": 6
         },
         "mode": "lines+text",
         "name": "GRC",
         "showlegend": false,
         "subplot": "ternary",
         "text": [
          "",
          "",
          "",
          "",
          "",
          "",
          "",
          "",
          "",
          "",
          "",
          "",
          "",
          "",
          ""
         ],
         "textfont": {
          "color": "black",
          "size": 4.513400202310181
         },
         "type": "scatterternary"
        },
        {
         "a": [
          0.21712108575154176,
          0.293138100020025,
          0.41240048134611446,
          0.4306451360921158,
          0.47174174562126747
         ],
         "b": [
          0.7722662089344223,
          0.6917378112403076,
          0.5656280374292795,
          0.5444953890869333,
          0.4973311221137733
         ],
         "c": [
          0.010612705314035827,
          0.01512408873966729,
          0.021971481224606147,
          0.02485947482095092,
          0.030927132264959217
         ],
         "line": {
          "color": "grey",
          "width": 0.25
         },
         "marker": {
          "color": "silver",
          "line": {
           "color": "black",
           "width": 0
          },
          "opacity": 0.9,
          "size": 6
         },
         "mode": "lines+text",
         "name": "GRC",
         "showlegend": false,
         "subplot": "ternary",
         "text": [
          "",
          "",
          "",
          "",
          "",
          "",
          "",
          "",
          "",
          "",
          "",
          "",
          "",
          "",
          ""
         ],
         "textfont": {
          "color": "black",
          "size": 4.513400202310181
         },
         "type": "scatterternary"
        },
        {
         "a": [
          0,
          0,
          0,
          0,
          0,
          0,
          0,
          0,
          0,
          0,
          0,
          0,
          0,
          0,
          0
         ],
         "b": [
          0,
          0,
          0,
          0,
          0,
          0,
          0,
          0,
          0,
          0,
          0,
          0,
          0,
          0,
          0
         ],
         "c": [
          0,
          0,
          0,
          0,
          0,
          0,
          0,
          0,
          0,
          0,
          0,
          0,
          0,
          0,
          0
         ],
         "line": {
          "color": "grey",
          "width": 0.25
         },
         "marker": {
          "color": "silver",
          "line": {
           "color": "black",
           "width": 0
          },
          "opacity": 0.9,
          "size": 6
         },
         "mode": "lines+text",
         "name": "GRD",
         "showlegend": false,
         "subplot": "ternary",
         "text": [
          "",
          "",
          "",
          "",
          "",
          "",
          "",
          "",
          "",
          "",
          "",
          "",
          "",
          "",
          ""
         ],
         "textfont": {
          "color": "black",
          "size": 1.5925507299474955
         },
         "type": "scatterternary"
        },
        {
         "a": [
          0,
          0,
          0,
          0,
          0
         ],
         "b": [
          0,
          0,
          0,
          0,
          0
         ],
         "c": [
          0,
          0,
          0,
          0,
          0
         ],
         "line": {
          "color": "grey",
          "width": 0.25
         },
         "marker": {
          "color": "silver",
          "line": {
           "color": "black",
           "width": 0
          },
          "opacity": 0.9,
          "size": 6
         },
         "mode": "lines+text",
         "name": "GRD",
         "showlegend": false,
         "subplot": "ternary",
         "text": [
          "",
          "",
          "",
          "",
          "",
          "",
          "",
          "",
          "",
          "",
          "",
          "",
          "",
          "",
          ""
         ],
         "textfont": {
          "color": "black",
          "size": 1.5925507299474955
         },
         "type": "scatterternary"
        },
        {
         "a": [
          0.15462650351917637,
          0.24386730485262673,
          0.4516901603605503,
          0.4978706717619355,
          0.5090547270021973,
          0.5387948659802723,
          0.5717315207746779,
          0.5907664985187072,
          0.605177167365236,
          0.6312374680638212,
          0.6669033312950157,
          0.7081701469813184,
          0.709646315365873,
          0.6650978492678495,
          0.605627058514385
         ],
         "b": [
          0.8375925965999172,
          0.7440904262037245,
          0.522872428761706,
          0.4690548338039822,
          0.44796169995509727,
          0.399213584674351,
          0.33949760237829985,
          0.29289323032104597,
          0.2463349108596315,
          0.20117060072642112,
          0.14189870270618735,
          0.08680050447852082,
          0.06701107087832645,
          0.09176365862268929,
          0.12291875809595647
         ],
         "c": [
          0.007780899880906065,
          0.01204226894364883,
          0.025437410877743566,
          0.033074494434082495,
          0.0429835730427054,
          0.06199154934537661,
          0.08877087684702242,
          0.1163402711602469,
          0.14848792177513234,
          0.1675919312097578,
          0.19119796599879707,
          0.2050293485401609,
          0.22334261375580056,
          0.2431384921094612,
          0.27145418338965843
         ],
         "line": {
          "color": "grey",
          "width": 0.25
         },
         "marker": {
          "color": "silver",
          "line": {
           "color": "black",
           "width": 0
          },
          "opacity": 0.9,
          "size": 6
         },
         "mode": "lines+text",
         "name": "GTM",
         "showlegend": false,
         "subplot": "ternary",
         "text": [
          "",
          "",
          "",
          "",
          "",
          "",
          "",
          "",
          "",
          "",
          "",
          "",
          "",
          "",
          ""
         ],
         "textfont": {
          "color": "black",
          "size": 5.276241383715424
         },
         "type": "scatterternary"
        },
        {
         "a": [
          0.15462650351917637,
          0.24386730485262673,
          0.4516901603605503,
          0.4978706717619355,
          0.5090547270021973
         ],
         "b": [
          0.8375925965999172,
          0.7440904262037245,
          0.522872428761706,
          0.4690548338039822,
          0.44796169995509727
         ],
         "c": [
          0.007780899880906065,
          0.01204226894364883,
          0.025437410877743566,
          0.033074494434082495,
          0.0429835730427054
         ],
         "line": {
          "color": "grey",
          "width": 0.25
         },
         "marker": {
          "color": "silver",
          "line": {
           "color": "black",
           "width": 0
          },
          "opacity": 0.9,
          "size": 6
         },
         "mode": "lines+text",
         "name": "GTM",
         "showlegend": false,
         "subplot": "ternary",
         "text": [
          "",
          "",
          "",
          "",
          "",
          "",
          "",
          "",
          "",
          "",
          "",
          "",
          "",
          "",
          ""
         ],
         "textfont": {
          "color": "black",
          "size": 5.276241383715424
         },
         "type": "scatterternary"
        },
        {
         "a": [
          0.06733348049786451,
          0.12986345371157565,
          0.28076447545782196,
          0.33063661101645747,
          0.34874702027641535,
          0.34929270670037577,
          0.306833364461499,
          0.24654180388706162,
          0.19646645895356626,
          0.1673203047578028,
          0.14138459143292964,
          0.1293079665011732,
          0.1251476660018537,
          0.1250395100868167,
          0.124496872041775
         ],
         "b": [
          0.9292887040359602,
          0.8635271740064032,
          0.7039923591630095,
          0.6464959102280402,
          0.6264150830788616,
          0.6114479922559493,
          0.6312714579704671,
          0.6583870139155842,
          0.6722970791865783,
          0.6598436609237,
          0.6364053351627309,
          0.5980604138080889,
          0.5636757412038315,
          0.5290667511505686,
          0.4996084239359905
         ],
         "c": [
          0.0033778154661752526,
          0.006609372282021269,
          0.015243165379168502,
          0.02286747875550227,
          0.024837896644722874,
          0.03925930104367495,
          0.06189517756803395,
          0.09507118219735416,
          0.13123646185985546,
          0.1728360343184972,
          0.22221007340433968,
          0.2726316196907379,
          0.3111765927943148,
          0.3458937387626147,
          0.3758947040222346
         ],
         "line": {
          "color": "grey",
          "width": 0.25
         },
         "marker": {
          "color": "silver",
          "line": {
           "color": "black",
           "width": 0
          },
          "opacity": 0.9,
          "size": 6
         },
         "mode": "lines+text",
         "name": "GIN",
         "showlegend": false,
         "subplot": "ternary",
         "text": [
          "",
          "",
          "",
          "",
          "",
          "",
          "",
          "",
          "",
          "",
          "",
          "",
          "",
          "",
          ""
         ],
         "textfont": {
          "color": "black",
          "size": 4.825326173400727
         },
         "type": "scatterternary"
        },
        {
         "a": [
          0.06733348049786451,
          0.12986345371157565,
          0.28076447545782196,
          0.33063661101645747,
          0.34874702027641535
         ],
         "b": [
          0.9292887040359602,
          0.8635271740064032,
          0.7039923591630095,
          0.6464959102280402,
          0.6264150830788616
         ],
         "c": [
          0.0033778154661752526,
          0.006609372282021269,
          0.015243165379168502,
          0.02286747875550227,
          0.024837896644722874
         ],
         "line": {
          "color": "grey",
          "width": 0.25
         },
         "marker": {
          "color": "silver",
          "line": {
           "color": "black",
           "width": 0
          },
          "opacity": 0.9,
          "size": 6
         },
         "mode": "lines+text",
         "name": "GIN",
         "showlegend": false,
         "subplot": "ternary",
         "text": [
          "",
          "",
          "",
          "",
          "",
          "",
          "",
          "",
          "",
          "",
          "",
          "",
          "",
          "",
          ""
         ],
         "textfont": {
          "color": "black",
          "size": 4.825326173400727
         },
         "type": "scatterternary"
        },
        {
         "a": [
          0.03248276887815831,
          0.07574458146080708,
          0.17872201695519122,
          0.23318642944493861,
          0.2741130410006642,
          0.32517694212345594,
          0.3214986041906155,
          0.2517900830125914,
          0.17787149392584597,
          0.1327635406601032,
          0.09771492852961758,
          0.08064544549338865,
          0.07006061512164181,
          0.0649328939491042,
          0.06239107150468422
         ],
         "b": [
          0.9659340233603753,
          0.9206174537465162,
          0.8124483071711266,
          0.7530877948108572,
          0.709242762518346,
          0.645432371867669,
          0.6259516142546697,
          0.662235873060362,
          0.7035673668756499,
          0.7147713238653504,
          0.7091600999269408,
          0.682791695584949,
          0.6598011952533877,
          0.6321948695049309,
          0.6043616165607892
         ],
         "c": [
          0.001583207761466313,
          0.0036379647926767463,
          0.008829675873682122,
          0.013725775744204175,
          0.016644196480989793,
          0.029390686008875018,
          0.052549781554714944,
          0.08597404392704647,
          0.11856113919850404,
          0.15246513547454624,
          0.19312497154344155,
          0.23656285892166237,
          0.2701381896249705,
          0.30287223654596485,
          0.3332473119345265
         ],
         "line": {
          "color": "grey",
          "width": 0.25
         },
         "marker": {
          "color": "silver",
          "line": {
           "color": "black",
           "width": 0
          },
          "opacity": 0.9,
          "size": 6
         },
         "mode": "lines+text",
         "name": "GNB",
         "showlegend": false,
         "subplot": "ternary",
         "text": [
          "",
          "",
          "",
          "",
          "",
          "",
          "",
          "",
          "",
          "",
          "",
          "",
          "",
          "",
          ""
         ],
         "textfont": {
          "color": "black",
          "size": 2.8045357728429194
         },
         "type": "scatterternary"
        },
        {
         "a": [
          0.03248276887815831,
          0.07574458146080708,
          0.17872201695519122,
          0.23318642944493861,
          0.2741130410006642
         ],
         "b": [
          0.9659340233603753,
          0.9206174537465162,
          0.8124483071711266,
          0.7530877948108572,
          0.709242762518346
         ],
         "c": [
          0.001583207761466313,
          0.0036379647926767463,
          0.008829675873682122,
          0.013725775744204175,
          0.016644196480989793
         ],
         "line": {
          "color": "grey",
          "width": 0.25
         },
         "marker": {
          "color": "silver",
          "line": {
           "color": "black",
           "width": 0
          },
          "opacity": 0.9,
          "size": 6
         },
         "mode": "lines+text",
         "name": "GNB",
         "showlegend": false,
         "subplot": "ternary",
         "text": [
          "",
          "",
          "",
          "",
          "",
          "",
          "",
          "",
          "",
          "",
          "",
          "",
          "",
          "",
          ""
         ],
         "textfont": {
          "color": "black",
          "size": 2.8045357728429194
         },
         "type": "scatterternary"
        },
        {
         "a": [
          0.042425655881257754,
          0.0659715815548951,
          0.11532588811463328,
          0.10592032771438162,
          0.10209291205092952,
          0.09860581333247855,
          0.07891923293872388,
          0.05697452202350347,
          0.039822723311854095,
          0.030773696816156354,
          0.024924661055042322,
          0.021816724386307173,
          0.019478762307403794,
          0.017843774160528007,
          0.01770160996860738
         ],
         "b": [
          0.955380089171138,
          0.9303941914074615,
          0.8779213422040199,
          0.8850175702529451,
          0.8792469364208203,
          0.8622576068172016,
          0.8508520732639411,
          0.8263865294998919,
          0.7976527348076293,
          0.7798486913227155,
          0.7673249016490642,
          0.7461544043753253,
          0.7167000000778855,
          0.666396581235102,
          0.6311551790895954
         ],
         "c": [
          0.0021942549476043622,
          0.0036342270376432733,
          0.006752769681346938,
          0.009062102032673117,
          0.018660151528250284,
          0.039136579850319826,
          0.07022869379733487,
          0.11663894847660483,
          0.16252454188051643,
          0.18937761186112817,
          0.20775043729589343,
          0.23202887123836746,
          0.2638212376147107,
          0.3157596446043699,
          0.3511432109417972
         ],
         "line": {
          "color": "grey",
          "width": 0.25
         },
         "marker": {
          "color": "silver",
          "line": {
           "color": "black",
           "width": 0
          },
          "opacity": 0.9,
          "size": 6
         },
         "mode": "lines+text",
         "name": "GUY",
         "showlegend": false,
         "subplot": "ternary",
         "text": [
          "",
          "",
          "",
          "",
          "",
          "",
          "",
          "",
          "",
          "",
          "",
          "",
          "",
          "",
          ""
         ],
         "textfont": {
          "color": "black",
          "size": 2.247361474191627
         },
         "type": "scatterternary"
        },
        {
         "a": [
          0.042425655881257754,
          0.0659715815548951,
          0.11532588811463328,
          0.10592032771438162,
          0.10209291205092952
         ],
         "b": [
          0.955380089171138,
          0.9303941914074615,
          0.8779213422040199,
          0.8850175702529451,
          0.8792469364208203
         ],
         "c": [
          0.0021942549476043622,
          0.0036342270376432733,
          0.006752769681346938,
          0.009062102032673117,
          0.018660151528250284
         ],
         "line": {
          "color": "grey",
          "width": 0.25
         },
         "marker": {
          "color": "silver",
          "line": {
           "color": "black",
           "width": 0
          },
          "opacity": 0.9,
          "size": 6
         },
         "mode": "lines+text",
         "name": "GUY",
         "showlegend": false,
         "subplot": "ternary",
         "text": [
          "",
          "",
          "",
          "",
          "",
          "",
          "",
          "",
          "",
          "",
          "",
          "",
          "",
          "",
          ""
         ],
         "textfont": {
          "color": "black",
          "size": 2.247361474191627
         },
         "type": "scatterternary"
        },
        {
         "a": [
          0.010385130174164344,
          0.031036209845771663,
          0.07918396309731077,
          0.10060460073600049,
          0.12906286671178963,
          0.18688621469358874,
          0.2860486836408958,
          0.39302075984793955,
          0.46183405536255184,
          0.45886387998059447,
          0.4028487410327034,
          0.35176640099230977,
          0.31280337757386323,
          0.287897627972448,
          0.2750863890690171
         ],
         "b": [
          0.989104262336562,
          0.9674317243665133,
          0.9165424373759823,
          0.8921337605349093,
          0.8575325010487043,
          0.7861021055126471,
          0.6551050378275507,
          0.48436713246225926,
          0.34780121385244894,
          0.2963725256672361,
          0.3097314256948653,
          0.3385747618845755,
          0.359258410153541,
          0.36932316714508184,
          0.3759152744012093
         ],
         "c": [
          0.0005106074892732933,
          0.0015320657877150455,
          0.004273599526707046,
          0.007261638729090383,
          0.01340463223950597,
          0.027011679793764128,
          0.05884627853155355,
          0.12261210768980124,
          0.19036473078499913,
          0.2447635943521696,
          0.2874198332724312,
          0.30965883712311476,
          0.3279382122725958,
          0.3427792048824703,
          0.3489983365297734
         ],
         "line": {
          "color": "grey",
          "width": 0.25
         },
         "marker": {
          "color": "silver",
          "line": {
           "color": "black",
           "width": 0
          },
          "opacity": 0.9,
          "size": 6
         },
         "mode": "lines+text",
         "name": "HTI",
         "showlegend": false,
         "subplot": "ternary",
         "text": [
          "",
          "",
          "",
          "",
          "",
          "",
          "",
          "",
          "",
          "",
          "",
          "",
          "",
          "",
          ""
         ],
         "textfont": {
          "color": "black",
          "size": 4.60377635612377
         },
         "type": "scatterternary"
        },
        {
         "a": [
          0.010385130174164344,
          0.031036209845771663,
          0.07918396309731077,
          0.10060460073600049,
          0.12906286671178963
         ],
         "b": [
          0.989104262336562,
          0.9674317243665133,
          0.9165424373759823,
          0.8921337605349093,
          0.8575325010487043
         ],
         "c": [
          0.0005106074892732933,
          0.0015320657877150455,
          0.004273599526707046,
          0.007261638729090383,
          0.01340463223950597
         ],
         "line": {
          "color": "grey",
          "width": 0.25
         },
         "marker": {
          "color": "silver",
          "line": {
           "color": "black",
           "width": 0
          },
          "opacity": 0.9,
          "size": 6
         },
         "mode": "lines+text",
         "name": "HTI",
         "showlegend": false,
         "subplot": "ternary",
         "text": [
          "",
          "",
          "",
          "",
          "",
          "",
          "",
          "",
          "",
          "",
          "",
          "",
          "",
          "",
          ""
         ],
         "textfont": {
          "color": "black",
          "size": 4.60377635612377
         },
         "type": "scatterternary"
        },
        {
         "a": [
          0,
          0,
          0,
          0,
          0,
          0,
          0,
          0,
          0,
          0,
          0,
          0,
          0,
          0,
          0
         ],
         "b": [
          0,
          0,
          0,
          0,
          0,
          0,
          0,
          0,
          0,
          0,
          0,
          0,
          0,
          0,
          0
         ],
         "c": [
          0,
          0,
          0,
          0,
          0,
          0,
          0,
          0,
          0,
          0,
          0,
          0,
          0,
          0,
          0
         ],
         "line": {
          "color": "grey",
          "width": 0.25
         },
         "marker": {
          "color": "silver",
          "line": {
           "color": "black",
           "width": 0
          },
          "opacity": 0.9,
          "size": 6
         },
         "mode": "lines+text",
         "name": "VAT",
         "showlegend": false,
         "subplot": "ternary",
         "text": [
          "",
          "",
          "",
          "",
          "",
          "",
          "",
          "",
          "",
          "",
          "",
          "",
          "",
          "",
          ""
         ],
         "textfont": {
          "color": "black",
          "size": 2.3694187025678044
         },
         "type": "scatterternary"
        },
        {
         "a": [
          0,
          0,
          0,
          0,
          0
         ],
         "b": [
          0,
          0,
          0,
          0,
          0
         ],
         "c": [
          0,
          0,
          0,
          0,
          0
         ],
         "line": {
          "color": "grey",
          "width": 0.25
         },
         "marker": {
          "color": "silver",
          "line": {
           "color": "black",
           "width": 0
          },
          "opacity": 0.9,
          "size": 6
         },
         "mode": "lines+text",
         "name": "VAT",
         "showlegend": false,
         "subplot": "ternary",
         "text": [
          "",
          "",
          "",
          "",
          "",
          "",
          "",
          "",
          "",
          "",
          "",
          "",
          "",
          "",
          ""
         ],
         "textfont": {
          "color": "black",
          "size": 2.3694187025678044
         },
         "type": "scatterternary"
        },
        {
         "a": [
          0.12255034040768926,
          0.2022418158947917,
          0.3769476240367642,
          0.4125812931480254,
          0.42571998119957355,
          0.45937401242000386,
          0.48400404341305664,
          0.46247667739563353,
          0.44591346717593855,
          0.4259476802441457,
          0.3984399061199836,
          0.38979305795054997,
          0.3960775596841033,
          0.40725564553204935,
          0.4194895384167202
         ],
         "b": [
          0.8712724285153303,
          0.7876406759355722,
          0.6001835170694128,
          0.5430634903570202,
          0.49561074256015153,
          0.41955219644176084,
          0.3375922624612208,
          0.2902146020891164,
          0.27315471934125407,
          0.26570233334509274,
          0.26628314170806267,
          0.25951892390332576,
          0.24115762998421442,
          0.2275610364021413,
          0.21562468524907838
         ],
         "c": [
          0.00617723107698037,
          0.010117508169636084,
          0.02286885889382305,
          0.04435521649495448,
          0.07866927624027512,
          0.12107379113823527,
          0.1784036941257225,
          0.24730872051524994,
          0.2809318134828074,
          0.30834998641076183,
          0.33527695217195363,
          0.3506880181461244,
          0.36276481033168234,
          0.36518331806580934,
          0.3648857763342014
         ],
         "line": {
          "color": "grey",
          "width": 0.25
         },
         "marker": {
          "color": "silver",
          "line": {
           "color": "black",
           "width": 0
          },
          "opacity": 0.9,
          "size": 6
         },
         "mode": "lines+text",
         "name": "HND",
         "showlegend": false,
         "subplot": "ternary",
         "text": [
          "",
          "",
          "",
          "",
          "",
          "",
          "",
          "",
          "",
          "",
          "",
          "",
          "",
          "",
          ""
         ],
         "textfont": {
          "color": "black",
          "size": 4.445566114756828
         },
         "type": "scatterternary"
        },
        {
         "a": [
          0.12255034040768926,
          0.2022418158947917,
          0.3769476240367642,
          0.4125812931480254,
          0.42571998119957355
         ],
         "b": [
          0.8712724285153303,
          0.7876406759355722,
          0.6001835170694128,
          0.5430634903570202,
          0.49561074256015153
         ],
         "c": [
          0.00617723107698037,
          0.010117508169636084,
          0.02286885889382305,
          0.04435521649495448,
          0.07866927624027512
         ],
         "line": {
          "color": "grey",
          "width": 0.25
         },
         "marker": {
          "color": "silver",
          "line": {
           "color": "black",
           "width": 0
          },
          "opacity": 0.9,
          "size": 6
         },
         "mode": "lines+text",
         "name": "HND",
         "showlegend": false,
         "subplot": "ternary",
         "text": [
          "",
          "",
          "",
          "",
          "",
          "",
          "",
          "",
          "",
          "",
          "",
          "",
          "",
          "",
          ""
         ],
         "textfont": {
          "color": "black",
          "size": 4.445566114756828
         },
         "type": "scatterternary"
        },
        {
         "a": [
          0.4146610833248951,
          0.45348500917664464,
          0.5326432294605369,
          0.5380393006568613,
          0.5564200502121968,
          0.5509851049510921,
          0.519936847413126,
          0.471798526270455,
          0.4248040219231492,
          0.3967063049366527,
          0.386158821871476,
          0.39281394767801536,
          0.40992207238555606,
          0.4361718124373132,
          0.47136773570462054
         ],
         "b": [
          0.5655470213625462,
          0.5242264599458045,
          0.4399170343738762,
          0.43109223772146577,
          0.40566050679895826,
          0.3977870321208634,
          0.41551182773380396,
          0.4463349015947524,
          0.47135787657634554,
          0.47592366312993456,
          0.463317192836341,
          0.43698367816571687,
          0.4010246674241063,
          0.35755801655605596,
          0.3084011800477261
         ],
         "c": [
          0.01979189531255862,
          0.022288530877550866,
          0.027439736165586828,
          0.030868461621672914,
          0.03791944298884505,
          0.051227862928044696,
          0.06455132485306993,
          0.08186657213479247,
          0.10383810150050538,
          0.12737003193341276,
          0.15052398529218297,
          0.17020237415626766,
          0.18905326019033758,
          0.20627017100663075,
          0.22023108424765334
         ],
         "line": {
          "color": "grey",
          "width": 0.25
         },
         "marker": {
          "color": "silver",
          "line": {
           "color": "black",
           "width": 0
          },
          "opacity": 0.9,
          "size": 6
         },
         "mode": "lines+text",
         "name": "HUN",
         "showlegend": false,
         "subplot": "ternary",
         "text": [
          "",
          "",
          "",
          "",
          "",
          "",
          "",
          "",
          "",
          "",
          "",
          "",
          "",
          "",
          ""
         ],
         "textfont": {
          "color": "black",
          "size": 4.407973957354095
         },
         "type": "scatterternary"
        },
        {
         "a": [
          0.4146610833248951,
          0.45348500917664464,
          0.5326432294605369,
          0.5380393006568613,
          0.5564200502121968
         ],
         "b": [
          0.5655470213625462,
          0.5242264599458045,
          0.4399170343738762,
          0.43109223772146577,
          0.40566050679895826
         ],
         "c": [
          0.01979189531255862,
          0.022288530877550866,
          0.027439736165586828,
          0.030868461621672914,
          0.03791944298884505
         ],
         "line": {
          "color": "grey",
          "width": 0.25
         },
         "marker": {
          "color": "silver",
          "line": {
           "color": "black",
           "width": 0
          },
          "opacity": 0.9,
          "size": 6
         },
         "mode": "lines+text",
         "name": "HUN",
         "showlegend": false,
         "subplot": "ternary",
         "text": [
          "",
          "",
          "",
          "",
          "",
          "",
          "",
          "",
          "",
          "",
          "",
          "",
          "",
          "",
          ""
         ],
         "textfont": {
          "color": "black",
          "size": 4.407973957354095
         },
         "type": "scatterternary"
        },
        {
         "a": [
          0.05592300927826437,
          0.06529294539635572,
          0.10548481583841214,
          0.10117637332731078,
          0.11044239694126168,
          0.14024072336579968,
          0.18804076588239124,
          0.22507393603006967,
          0.21219769129283406,
          0.18071046440042862,
          0.15625423873679975,
          0.14621195965635309,
          0.14809086546485611,
          0.16340265436963344,
          0.19272383165730997
         ],
         "b": [
          0.941255425765564,
          0.9312981915577716,
          0.888651854745267,
          0.8918269914559753,
          0.8780332007525447,
          0.8360185942255076,
          0.7691332878446506,
          0.7060466168799269,
          0.695508635328767,
          0.7072136917575755,
          0.7097856748672282,
          0.6877907876600882,
          0.6658304369203812,
          0.6329974306520014,
          0.5829755088788395
         ],
         "c": [
          0.0028215649561717927,
          0.0034088630458725586,
          0.00586332941632091,
          0.006996635216713784,
          0.011524402306193667,
          0.023740682408692676,
          0.042825946272958174,
          0.06887944709000333,
          0.09229367337839917,
          0.11207584384199579,
          0.133960086395972,
          0.16599725268355875,
          0.1860786976147626,
          0.2035999149783651,
          0.22430065946385055
         ],
         "line": {
          "color": "grey",
          "width": 0.25
         },
         "marker": {
          "color": "silver",
          "line": {
           "color": "black",
           "width": 0
          },
          "opacity": 0.9,
          "size": 6
         },
         "mode": "lines+text",
         "name": "ISL",
         "showlegend": false,
         "subplot": "ternary",
         "text": [
          "",
          "",
          "",
          "",
          "",
          "",
          "",
          "",
          "",
          "",
          "",
          "",
          "",
          "",
          ""
         ],
         "textfont": {
          "color": "black",
          "size": 1.914395812190425
         },
         "type": "scatterternary"
        },
        {
         "a": [
          0.05592300927826437,
          0.06529294539635572,
          0.10548481583841214,
          0.10117637332731078,
          0.11044239694126168
         ],
         "b": [
          0.941255425765564,
          0.9312981915577716,
          0.888651854745267,
          0.8918269914559753,
          0.8780332007525447
         ],
         "c": [
          0.0028215649561717927,
          0.0034088630458725586,
          0.00586332941632091,
          0.006996635216713784,
          0.011524402306193667
         ],
         "line": {
          "color": "grey",
          "width": 0.25
         },
         "marker": {
          "color": "silver",
          "line": {
           "color": "black",
           "width": 0
          },
          "opacity": 0.9,
          "size": 6
         },
         "mode": "lines+text",
         "name": "ISL",
         "showlegend": false,
         "subplot": "ternary",
         "text": [
          "",
          "",
          "",
          "",
          "",
          "",
          "",
          "",
          "",
          "",
          "",
          "",
          "",
          "",
          ""
         ],
         "textfont": {
          "color": "black",
          "size": 1.914395812190425
         },
         "type": "scatterternary"
        },
        {
         "a": [
          0.021992637366098782,
          0.05115713865224428,
          0.120870501460451,
          0.14383379349413938,
          0.18294354015278758,
          0.2633392496722252,
          0.4035657474745721,
          0.5779334441972738,
          0.7070596574918223,
          0.7686612475124205,
          0.7906232790944109,
          0.7883776970530827,
          0.7744301179112618,
          0.762971372902641,
          0.7549872175709015
         ],
         "b": [
          0.9768994197478655,
          0.9462831582171667,
          0.8730062095445398,
          0.8481682956760619,
          0.8050432730776573,
          0.711613256733425,
          0.5440487524576326,
          0.33280543237301013,
          0.16422959484491959,
          0.07438796453070635,
          0.032020374997701155,
          0.025906164719282837,
          0.03080110455319836,
          0.03633808247923281,
          0.03976993412504199
         ],
         "c": [
          0.0011079428860357205,
          0.002559703130588911,
          0.006123288995009033,
          0.007997910829798506,
          0.012013186769555087,
          0.025047493594349903,
          0.0523855000677954,
          0.08926112342971593,
          0.12871074766325818,
          0.15695078795687287,
          0.17735634590788796,
          0.18571613822763444,
          0.1947687775355398,
          0.2006905446181263,
          0.2052428483040567
         ],
         "line": {
          "color": "grey",
          "width": 0.25
         },
         "marker": {
          "color": "orange",
          "line": {
           "color": "black",
           "width": 0
          },
          "opacity": 0.9,
          "size": 6
         },
         "mode": "lines+text",
         "name": "IND",
         "showlegend": false,
         "subplot": "ternary",
         "text": [
          "",
          "",
          "",
          "",
          "",
          "",
          "",
          "",
          "",
          "",
          "",
          "",
          "",
          "",
          ""
         ],
         "textfont": {
          "color": "black",
          "size": 25.759277930378307
         },
         "type": "scatterternary"
        },
        {
         "a": [
          0.021992637366098782,
          0.05115713865224428,
          0.120870501460451,
          0.14383379349413938,
          0.18294354015278758
         ],
         "b": [
          0.9768994197478655,
          0.9462831582171667,
          0.8730062095445398,
          0.8481682956760619,
          0.8050432730776573
         ],
         "c": [
          0.0011079428860357205,
          0.002559703130588911,
          0.006123288995009033,
          0.007997910829798506,
          0.012013186769555087
         ],
         "line": {
          "color": "grey",
          "width": 0.25
         },
         "marker": {
          "color": "orange",
          "line": {
           "color": "black",
           "width": 0
          },
          "opacity": 0.9,
          "size": 6
         },
         "mode": "lines+text",
         "name": "IND",
         "showlegend": false,
         "subplot": "ternary",
         "text": [
          "",
          "",
          "",
          "",
          "",
          "",
          "",
          "",
          "",
          "",
          "",
          "",
          "",
          "",
          ""
         ],
         "textfont": {
          "color": "black",
          "size": 25.759277930378307
         },
         "type": "scatterternary"
        },
        {
         "a": [
          0.600723614768757,
          0.5355420674740153,
          0.5806421731080279,
          0.6046963136532205,
          0.6527096202796235,
          0.6969009085917011,
          0.7376554587313042,
          0.7514748945232457,
          0.7406891945337648,
          0.7208341034732666,
          0.6923317306411686,
          0.6576465413691595,
          0.6097066515427053,
          0.5812940717602252,
          0.5825054456241455
         ],
         "b": [
          0.36820662481936123,
          0.42508051084039783,
          0.37816457201663395,
          0.3413758944350827,
          0.2817334950420885,
          0.21871691545990923,
          0.14970694571074725,
          0.11300615325255685,
          0.09671026814983787,
          0.09991573713629379,
          0.12093903391370914,
          0.1499322305057576,
          0.18421256264536712,
          0.19854745189855016,
          0.19042091142405446
         ],
         "c": [
          0.031069760411881787,
          0.0393774216855868,
          0.041193254875338293,
          0.053927791911696665,
          0.06555688467828788,
          0.08438217594838972,
          0.11263759555794842,
          0.13551895222419705,
          0.1626005373163974,
          0.17925015939043965,
          0.18672923544512213,
          0.19242122812508278,
          0.20608078581192768,
          0.22015847634122462,
          0.22707364295180013
         ],
         "line": {
          "color": "grey",
          "width": 0.25
         },
         "marker": {
          "color": "silver",
          "line": {
           "color": "black",
           "width": 0
          },
          "opacity": 0.9,
          "size": 6
         },
         "mode": "lines+text",
         "name": "IDN",
         "showlegend": false,
         "subplot": "ternary",
         "text": [
          "",
          "",
          "",
          "",
          "",
          "",
          "",
          "",
          "",
          "",
          "",
          "",
          "",
          "",
          ""
         ],
         "textfont": {
          "color": "black",
          "size": 13.87100023529632
         },
         "type": "scatterternary"
        },
        {
         "a": [
          0.600723614768757,
          0.5355420674740153,
          0.5806421731080279,
          0.6046963136532205,
          0.6527096202796235
         ],
         "b": [
          0.36820662481936123,
          0.42508051084039783,
          0.37816457201663395,
          0.3413758944350827,
          0.2817334950420885
         ],
         "c": [
          0.031069760411881787,
          0.0393774216855868,
          0.041193254875338293,
          0.053927791911696665,
          0.06555688467828788
         ],
         "line": {
          "color": "grey",
          "width": 0.25
         },
         "marker": {
          "color": "silver",
          "line": {
           "color": "black",
           "width": 0
          },
          "opacity": 0.9,
          "size": 6
         },
         "mode": "lines+text",
         "name": "IDN",
         "showlegend": false,
         "subplot": "ternary",
         "text": [
          "",
          "",
          "",
          "",
          "",
          "",
          "",
          "",
          "",
          "",
          "",
          "",
          "",
          "",
          ""
         ],
         "textfont": {
          "color": "black",
          "size": 13.87100023529632
         },
         "type": "scatterternary"
        },
        {
         "a": [
          0.3968406532743547,
          0.3662041218969632,
          0.4307720899225664,
          0.42974293474353753,
          0.4367552914986118,
          0.4655656503582273,
          0.5041100119637761,
          0.5268898079137524,
          0.5405658171198799,
          0.5418760908023449,
          0.5520792396872629,
          0.5637298816578469,
          0.5816311415634661,
          0.5819344804506233,
          0.5623006630748854
         ],
         "b": [
          0.581586943943312,
          0.6097721469363514,
          0.5405981593100376,
          0.5340523912811177,
          0.5224841221547335,
          0.48664213111633975,
          0.43567759050371485,
          0.4015413320859096,
          0.3747845846814606,
          0.3582671138951053,
          0.3293470408751184,
          0.3012218951371934,
          0.2674321699754522,
          0.26143497274756256,
          0.2755582512168862
         ],
         "c": [
          0.021572402782333217,
          0.024023731166685165,
          0.028629750767396052,
          0.036204673975344735,
          0.040760586346654866,
          0.047792218525432764,
          0.060212397532508975,
          0.0715688600003381,
          0.08464959819865941,
          0.09985679530254991,
          0.11857371943761874,
          0.1350482232049597,
          0.1509366884610818,
          0.15663054680181412,
          0.16214108570822836
         ],
         "line": {
          "color": "grey",
          "width": 0.25
         },
         "marker": {
          "color": "silver",
          "line": {
           "color": "black",
           "width": 0
          },
          "opacity": 0.9,
          "size": 6
         },
         "mode": "lines+text",
         "name": "IRN",
         "showlegend": false,
         "subplot": "ternary",
         "text": [
          "",
          "",
          "",
          "",
          "",
          "",
          "",
          "",
          "",
          "",
          "",
          "",
          "",
          "",
          ""
         ],
         "textfont": {
          "color": "black",
          "size": 9.171923806825387
         },
         "type": "scatterternary"
        },
        {
         "a": [
          0.3968406532743547,
          0.3662041218969632,
          0.4307720899225664,
          0.42974293474353753,
          0.4367552914986118
         ],
         "b": [
          0.581586943943312,
          0.6097721469363514,
          0.5405981593100376,
          0.5340523912811177,
          0.5224841221547335
         ],
         "c": [
          0.021572402782333217,
          0.024023731166685165,
          0.028629750767396052,
          0.036204673975344735,
          0.040760586346654866
         ],
         "line": {
          "color": "grey",
          "width": 0.25
         },
         "marker": {
          "color": "silver",
          "line": {
           "color": "black",
           "width": 0
          },
          "opacity": 0.9,
          "size": 6
         },
         "mode": "lines+text",
         "name": "IRN",
         "showlegend": false,
         "subplot": "ternary",
         "text": [
          "",
          "",
          "",
          "",
          "",
          "",
          "",
          "",
          "",
          "",
          "",
          "",
          "",
          "",
          ""
         ],
         "textfont": {
          "color": "black",
          "size": 9.171923806825387
         },
         "type": "scatterternary"
        },
        {
         "a": [
          0.815800058827064,
          0.7813928970982559,
          0.8241525154537995,
          0.8668749446702919,
          0.8822111054545475,
          0.8763629716697646,
          0.8558426313762176,
          0.8147007531935211,
          0.7485074692573778,
          0.6708035537462312,
          0.5971201874663561,
          0.5520235996311107,
          0.5153898011670868,
          0.4840975838522654,
          0.45449630083607384
         ],
         "b": [
          0.13583266803026853,
          0.17794030535630204,
          0.1311629283774418,
          0.07921511651577152,
          0.05489122045223038,
          0.047685301445550485,
          0.05578111481448427,
          0.08413516567096738,
          0.1331546232661837,
          0.19527267760453085,
          0.252123321900336,
          0.28321775435789426,
          0.29578445917772667,
          0.30014200916018335,
          0.29980820700319755
         ],
         "c": [
          0.048367273142667574,
          0.04066679754544196,
          0.0446845561687585,
          0.05390993881393649,
          0.06289767409322214,
          0.07595172688468466,
          0.08837625380929814,
          0.1011640811355116,
          0.11833790747643862,
          0.1339237686492382,
          0.15075649063330795,
          0.1647586460109952,
          0.18882573965518662,
          0.2157604069875511,
          0.2456954921607286
         ],
         "line": {
          "color": "grey",
          "width": 0.25
         },
         "marker": {
          "color": "silver",
          "line": {
           "color": "black",
           "width": 0
          },
          "opacity": 0.9,
          "size": 6
         },
         "mode": "lines+text",
         "name": "IRQ",
         "showlegend": false,
         "subplot": "ternary",
         "text": [
          "",
          "",
          "",
          "",
          "",
          "",
          "",
          "",
          "",
          "",
          "",
          "",
          "",
          "",
          ""
         ],
         "textfont": {
          "color": "black",
          "size": 7.109610896601441
         },
         "type": "scatterternary"
        },
        {
         "a": [
          0.815800058827064,
          0.7813928970982559,
          0.8241525154537995,
          0.8668749446702919,
          0.8822111054545475
         ],
         "b": [
          0.13583266803026853,
          0.17794030535630204,
          0.1311629283774418,
          0.07921511651577152,
          0.05489122045223038
         ],
         "c": [
          0.048367273142667574,
          0.04066679754544196,
          0.0446845561687585,
          0.05390993881393649,
          0.06289767409322214
         ],
         "line": {
          "color": "grey",
          "width": 0.25
         },
         "marker": {
          "color": "silver",
          "line": {
           "color": "black",
           "width": 0
          },
          "opacity": 0.9,
          "size": 6
         },
         "mode": "lines+text",
         "name": "IRQ",
         "showlegend": false,
         "subplot": "ternary",
         "text": [
          "",
          "",
          "",
          "",
          "",
          "",
          "",
          "",
          "",
          "",
          "",
          "",
          "",
          "",
          ""
         ],
         "textfont": {
          "color": "black",
          "size": 7.109610896601441
         },
         "type": "scatterternary"
        },
        {
         "a": [
          0.08117606084673233,
          0.09251221633854123,
          0.14379744928168545,
          0.1281686408996151,
          0.123026739405604,
          0.12643079413742592,
          0.11994821843389097,
          0.0992934162160733,
          0.07437201561785696,
          0.059318093425489674,
          0.05104124878774023,
          0.046925978812652216,
          0.0470522607348739,
          0.048919088982845235,
          0.05374191664490484
         ],
         "b": [
          0.9148793687505516,
          0.9027004478812767,
          0.8463877199504324,
          0.8568833317061844,
          0.8517617108048724,
          0.8309542881925067,
          0.8284244135955919,
          0.8436113486838765,
          0.8645814077969965,
          0.8735813598536314,
          0.876547788936625,
          0.8655861359960357,
          0.8655887569288623,
          0.8505929823909348,
          0.8380751715982593
         ],
         "c": [
          0.003944570402716051,
          0.0047873357801821465,
          0.009814830767882038,
          0.014948027394200345,
          0.02521154978952364,
          0.04261491767006728,
          0.05162736797051689,
          0.057095235100050094,
          0.06104657658514656,
          0.0671005467208789,
          0.07241096227563487,
          0.087487885191312,
          0.08735898233626369,
          0.10048792862621982,
          0.10818291175683599
         ],
         "line": {
          "color": "grey",
          "width": 0.25
         },
         "marker": {
          "color": "silver",
          "line": {
           "color": "black",
           "width": 0
          },
          "opacity": 0.9,
          "size": 6
         },
         "mode": "lines+text",
         "name": "IRL",
         "showlegend": false,
         "subplot": "ternary",
         "text": [
          "",
          "",
          "",
          "",
          "",
          "",
          "",
          "",
          "",
          "",
          "",
          "",
          "",
          "",
          ""
         ],
         "textfont": {
          "color": "black",
          "size": 3.591202950388997
         },
         "type": "scatterternary"
        },
        {
         "a": [
          0.08117606084673233,
          0.09251221633854123,
          0.14379744928168545,
          0.1281686408996151,
          0.123026739405604
         ],
         "b": [
          0.9148793687505516,
          0.9027004478812767,
          0.8463877199504324,
          0.8568833317061844,
          0.8517617108048724
         ],
         "c": [
          0.003944570402716051,
          0.0047873357801821465,
          0.009814830767882038,
          0.014948027394200345,
          0.02521154978952364
         ],
         "line": {
          "color": "grey",
          "width": 0.25
         },
         "marker": {
          "color": "silver",
          "line": {
           "color": "black",
           "width": 0
          },
          "opacity": 0.9,
          "size": 6
         },
         "mode": "lines+text",
         "name": "IRL",
         "showlegend": false,
         "subplot": "ternary",
         "text": [
          "",
          "",
          "",
          "",
          "",
          "",
          "",
          "",
          "",
          "",
          "",
          "",
          "",
          "",
          ""
         ],
         "textfont": {
          "color": "black",
          "size": 3.591202950388997
         },
         "type": "scatterternary"
        },
        {
         "a": [
          0.29926965495738483,
          0.4388824042654203,
          0.6080026816813499,
          0.574153399600713,
          0.4868917619480858,
          0.3543311252392213,
          0.2245915931449421,
          0.1433273812075438,
          0.08717354160905133,
          0.057228226069247906,
          0.03918194020064062,
          0.030377150457759825,
          0.025164574602579065,
          0.02428283642779693,
          0.025202025290093
         ],
         "b": [
          0.6813006373569103,
          0.52220202913146,
          0.33137522991416163,
          0.332910451399597,
          0.3548789216854076,
          0.3997894015748578,
          0.46279409901413626,
          0.5184041782928724,
          0.545910220492185,
          0.5570769496283148,
          0.56434178730742,
          0.5655317256096462,
          0.559268431410081,
          0.549187024421589,
          0.5421417113799637
         ],
         "c": [
          0.0194297076857049,
          0.03891556660311982,
          0.060622088404488475,
          0.09293614899969004,
          0.15822931636650645,
          0.24587947318592082,
          0.3126143078409218,
          0.33826844049958393,
          0.36691623789876365,
          0.3856948243024374,
          0.39647627249193923,
          0.40409112393259394,
          0.41556699398734,
          0.4265301391506142,
          0.4326562633299433
         ],
         "line": {
          "color": "grey",
          "width": 0.25
         },
         "marker": {
          "color": "silver",
          "line": {
           "color": "black",
           "width": 0
          },
          "opacity": 0.9,
          "size": 6
         },
         "mode": "lines+text",
         "name": "ISR",
         "showlegend": false,
         "subplot": "ternary",
         "text": [
          "",
          "",
          "",
          "",
          "",
          "",
          "",
          "",
          "",
          "",
          "",
          "",
          "",
          "",
          ""
         ],
         "textfont": {
          "color": "black",
          "size": 4.251292818690169
         },
         "type": "scatterternary"
        },
        {
         "a": [
          0.29926965495738483,
          0.4388824042654203,
          0.6080026816813499,
          0.574153399600713,
          0.4868917619480858
         ],
         "b": [
          0.6813006373569103,
          0.52220202913146,
          0.33137522991416163,
          0.332910451399597,
          0.3548789216854076
         ],
         "c": [
          0.0194297076857049,
          0.03891556660311982,
          0.060622088404488475,
          0.09293614899969004,
          0.15822931636650645
         ],
         "line": {
          "color": "grey",
          "width": 0.25
         },
         "marker": {
          "color": "silver",
          "line": {
           "color": "black",
           "width": 0
          },
          "opacity": 0.9,
          "size": 6
         },
         "mode": "lines+text",
         "name": "ISR",
         "showlegend": false,
         "subplot": "ternary",
         "text": [
          "",
          "",
          "",
          "",
          "",
          "",
          "",
          "",
          "",
          "",
          "",
          "",
          "",
          "",
          ""
         ],
         "textfont": {
          "color": "black",
          "size": 4.251292818690169
         },
         "type": "scatterternary"
        },
        {
         "a": [
          0.1780969746254367,
          0.2211093395740507,
          0.3098366796045684,
          0.3311327570717106,
          0.3786649128844265,
          0.4284869556818822,
          0.46528345093398676,
          0.4701678804718345,
          0.4510071446612607,
          0.43860168965924945,
          0.4399278053288213,
          0.4506822730185641,
          0.4752680813864252,
          0.5080118041219778,
          0.5484046989865268
         ],
         "b": [
          0.8133918776824463,
          0.7677670690642977,
          0.6739588566430226,
          0.6494269638612529,
          0.5951598937124459,
          0.5319572384944468,
          0.4786882679440239,
          0.4558843305247168,
          0.454343693893206,
          0.44785476983186356,
          0.4277767354403872,
          0.39917296817673287,
          0.36089504411276696,
          0.3138062253160292,
          0.2646387207504064
         ],
         "c": [
          0.008511147692117098,
          0.011123591361651697,
          0.01620446375240895,
          0.019440279067036458,
          0.026175193403127496,
          0.03955580582367101,
          0.05602828112198938,
          0.07394778900344864,
          0.09464916144553318,
          0.11354354050888699,
          0.13229545923079128,
          0.15014475880470296,
          0.16383687450080792,
          0.17818197056199298,
          0.18695658026306666
         ],
         "line": {
          "color": "grey",
          "width": 0.25
         },
         "marker": {
          "color": "silver",
          "line": {
           "color": "black",
           "width": 0
          },
          "opacity": 0.9,
          "size": 6
         },
         "mode": "lines+text",
         "name": "ITA",
         "showlegend": false,
         "subplot": "ternary",
         "text": [
          "",
          "",
          "",
          "",
          "",
          "",
          "",
          "",
          "",
          "",
          "",
          "",
          "",
          "",
          ""
         ],
         "textfont": {
          "color": "black",
          "size": 8.026693522291168
         },
         "type": "scatterternary"
        },
        {
         "a": [
          0.1780969746254367,
          0.2211093395740507,
          0.3098366796045684,
          0.3311327570717106,
          0.3786649128844265
         ],
         "b": [
          0.8133918776824463,
          0.7677670690642977,
          0.6739588566430226,
          0.6494269638612529,
          0.5951598937124459
         ],
         "c": [
          0.008511147692117098,
          0.011123591361651697,
          0.01620446375240895,
          0.019440279067036458,
          0.026175193403127496
         ],
         "line": {
          "color": "grey",
          "width": 0.25
         },
         "marker": {
          "color": "silver",
          "line": {
           "color": "black",
           "width": 0
          },
          "opacity": 0.9,
          "size": 6
         },
         "mode": "lines+text",
         "name": "ITA",
         "showlegend": false,
         "subplot": "ternary",
         "text": [
          "",
          "",
          "",
          "",
          "",
          "",
          "",
          "",
          "",
          "",
          "",
          "",
          "",
          "",
          ""
         ],
         "textfont": {
          "color": "black",
          "size": 8.026693522291168
         },
         "type": "scatterternary"
        },
        {
         "a": [
          0.03891446026075638,
          0.08044603869650145,
          0.17476381998762577,
          0.20028572326452618,
          0.24285736053250953,
          0.3318208249895365,
          0.4620083015782728,
          0.5634226324097131,
          0.6112416449489939,
          0.6219702549423196,
          0.6201147212716241,
          0.6397683709912982,
          0.6701126392448972,
          0.6844502772633475,
          0.6592550182565365
         ],
         "b": [
          0.9592157432853781,
          0.9156036210670053,
          0.8158088303836837,
          0.7849811378101461,
          0.7311664312478814,
          0.619625192143425,
          0.44520394999884894,
          0.2813601998364032,
          0.18571053591449005,
          0.14377104282242703,
          0.12540964389508913,
          0.10583259332118873,
          0.08956103082153899,
          0.09700611095169946,
          0.13045992303741535
         ],
         "c": [
          0.0018697964538655664,
          0.00395034023649313,
          0.009427349628690504,
          0.014733138925327849,
          0.025976208219609134,
          0.0485539828670384,
          0.09278774842287837,
          0.15521716775388364,
          0.2030478191365161,
          0.23425870223525352,
          0.2544756348332867,
          0.25439903568751315,
          0.240326329933564,
          0.21854361178495293,
          0.21028505870604813
         ],
         "line": {
          "color": "grey",
          "width": 0.25
         },
         "marker": {
          "color": "silver",
          "line": {
           "color": "black",
           "width": 0
          },
          "opacity": 0.9,
          "size": 6
         },
         "mode": "lines+text",
         "name": "JAM",
         "showlegend": false,
         "subplot": "ternary",
         "text": [
          "",
          "",
          "",
          "",
          "",
          "",
          "",
          "",
          "",
          "",
          "",
          "",
          "",
          "",
          ""
         ],
         "textfont": {
          "color": "black",
          "size": 3.071549306457569
         },
         "type": "scatterternary"
        },
        {
         "a": [
          0.03891446026075638,
          0.08044603869650145,
          0.17476381998762577,
          0.20028572326452618,
          0.24285736053250953
         ],
         "b": [
          0.9592157432853781,
          0.9156036210670053,
          0.8158088303836837,
          0.7849811378101461,
          0.7311664312478814
         ],
         "c": [
          0.0018697964538655664,
          0.00395034023649313,
          0.009427349628690504,
          0.014733138925327849,
          0.025976208219609134
         ],
         "line": {
          "color": "grey",
          "width": 0.25
         },
         "marker": {
          "color": "silver",
          "line": {
           "color": "black",
           "width": 0
          },
          "opacity": 0.9,
          "size": 6
         },
         "mode": "lines+text",
         "name": "JAM",
         "showlegend": false,
         "subplot": "ternary",
         "text": [
          "",
          "",
          "",
          "",
          "",
          "",
          "",
          "",
          "",
          "",
          "",
          "",
          "",
          "",
          ""
         ],
         "textfont": {
          "color": "black",
          "size": 3.071549306457569
         },
         "type": "scatterternary"
        },
        {
         "a": [
          0.2696347260733232,
          0.2937984633713,
          0.3929440139684404,
          0.36642596443037606,
          0.3647580141658898,
          0.38898781847610386,
          0.4182555826240386,
          0.4289894328553787,
          0.42122305762038514,
          0.41165254377692284,
          0.40895876999025044,
          0.42709209418380617,
          0.4515405322044475,
          0.4750047250714036,
          0.4992230546928965
         ],
         "b": [
          0.716995114318136,
          0.6914453812781164,
          0.586654762635405,
          0.6119485144890034,
          0.609992273231541,
          0.5768229717398742,
          0.535602387723414,
          0.5116944952036048,
          0.5045166113579617,
          0.49988119932689373,
          0.4878744295782091,
          0.45723436016790936,
          0.41824583701152473,
          0.3808768661985197,
          0.3468345594107717
         ],
         "c": [
          0.01337015960854087,
          0.01475615535058348,
          0.020401223396154633,
          0.021625521080620734,
          0.025249712602568863,
          0.03418920978402174,
          0.04614202965254754,
          0.05931607194101638,
          0.0742603310216532,
          0.08846625689618334,
          0.10316680043154074,
          0.11567354564828436,
          0.13021363078402773,
          0.1441184087300767,
          0.15394238589633186
         ],
         "line": {
          "color": "grey",
          "width": 0.25
         },
         "marker": {
          "color": "silver",
          "line": {
           "color": "black",
           "width": 0
          },
          "opacity": 0.9,
          "size": 6
         },
         "mode": "lines+text",
         "name": "JPN",
         "showlegend": false,
         "subplot": "ternary",
         "text": [
          "",
          "",
          "",
          "",
          "",
          "",
          "",
          "",
          "",
          "",
          "",
          "",
          "",
          "",
          ""
         ],
         "textfont": {
          "color": "black",
          "size": 10.46352502307666
         },
         "type": "scatterternary"
        },
        {
         "a": [
          0.2696347260733232,
          0.2937984633713,
          0.3929440139684404,
          0.36642596443037606,
          0.3647580141658898
         ],
         "b": [
          0.716995114318136,
          0.6914453812781164,
          0.586654762635405,
          0.6119485144890034,
          0.609992273231541
         ],
         "c": [
          0.01337015960854087,
          0.01475615535058348,
          0.020401223396154633,
          0.021625521080620734,
          0.025249712602568863
         ],
         "line": {
          "color": "grey",
          "width": 0.25
         },
         "marker": {
          "color": "silver",
          "line": {
           "color": "black",
           "width": 0
          },
          "opacity": 0.9,
          "size": 6
         },
         "mode": "lines+text",
         "name": "JPN",
         "showlegend": false,
         "subplot": "ternary",
         "text": [
          "",
          "",
          "",
          "",
          "",
          "",
          "",
          "",
          "",
          "",
          "",
          "",
          "",
          "",
          ""
         ],
         "textfont": {
          "color": "black",
          "size": 10.46352502307666
         },
         "type": "scatterternary"
        },
        {
         "a": [
          0.05833690286467877,
          0.10972586599234883,
          0.2208033048518988,
          0.2664260083209691,
          0.309775439556876,
          0.383473442687577,
          0.48389213988270025,
          0.5758932283254927,
          0.6246224346014794,
          0.6444406333512188,
          0.6518735482572001,
          0.6618475219120014,
          0.6667640075086595,
          0.66587368852796,
          0.6553874414172685
         ],
         "b": [
          0.9387715624022085,
          0.8848908430893798,
          0.7674743133295444,
          0.715584424123756,
          0.6624436916063793,
          0.5661632997719246,
          0.4336367986750916,
          0.30714101385259346,
          0.22500081978674746,
          0.18209568171801274,
          0.15965501689713696,
          0.1530687029942788,
          0.15391948840312458,
          0.1604341934049683,
          0.17290158922613405
         ],
         "c": [
          0.0028915347331128155,
          0.005383290918271172,
          0.011722381818556603,
          0.017989567555274925,
          0.027780868836744625,
          0.05036325754049824,
          0.08247106144220827,
          0.11696575782191371,
          0.15037674561177317,
          0.17346368493076847,
          0.18847143484566303,
          0.18508377509371998,
          0.17931650408821603,
          0.17369211806707166,
          0.17171096935659758
         ],
         "line": {
          "color": "grey",
          "width": 0.25
         },
         "marker": {
          "color": "silver",
          "line": {
           "color": "black",
           "width": 0
          },
          "opacity": 0.9,
          "size": 6
         },
         "mode": "lines+text",
         "name": "JOR",
         "showlegend": false,
         "subplot": "ternary",
         "text": [
          "",
          "",
          "",
          "",
          "",
          "",
          "",
          "",
          "",
          "",
          "",
          "",
          "",
          "",
          ""
         ],
         "textfont": {
          "color": "black",
          "size": 4.549607257276524
         },
         "type": "scatterternary"
        },
        {
         "a": [
          0.05833690286467877,
          0.10972586599234883,
          0.2208033048518988,
          0.2664260083209691,
          0.309775439556876
         ],
         "b": [
          0.9387715624022085,
          0.8848908430893798,
          0.7674743133295444,
          0.715584424123756,
          0.6624436916063793
         ],
         "c": [
          0.0028915347331128155,
          0.005383290918271172,
          0.011722381818556603,
          0.017989567555274925,
          0.027780868836744625
         ],
         "line": {
          "color": "grey",
          "width": 0.25
         },
         "marker": {
          "color": "silver",
          "line": {
           "color": "black",
           "width": 0
          },
          "opacity": 0.9,
          "size": 6
         },
         "mode": "lines+text",
         "name": "JOR",
         "showlegend": false,
         "subplot": "ternary",
         "text": [
          "",
          "",
          "",
          "",
          "",
          "",
          "",
          "",
          "",
          "",
          "",
          "",
          "",
          "",
          ""
         ],
         "textfont": {
          "color": "black",
          "size": 4.549607257276524
         },
         "type": "scatterternary"
        },
        {
         "a": [
          0.029368238063407787,
          0.04345125059646105,
          0.07884828213896419,
          0.08733421465214623,
          0.10957846262279781,
          0.16488249310606537,
          0.2668462438325001,
          0.3899698568849882,
          0.4196232912845542,
          0.3411754122849692,
          0.24023024208557586,
          0.17063024788312986,
          0.12224851665893338,
          0.10494217451198148,
          0.09881034825704209
         ],
         "b": [
          0.9688060685150013,
          0.9531559231746247,
          0.914163358445933,
          0.9042622361508793,
          0.8797596895400337,
          0.8173724484741627,
          0.6995323063991504,
          0.5453752762118014,
          0.46879086627278804,
          0.49871283580618203,
          0.5609638735277952,
          0.5853010274122478,
          0.5867834532554493,
          0.59261665896026,
          0.5964761717144775
         ],
         "c": [
          0.0018256934215909377,
          0.0033928262289142845,
          0.006988359415102998,
          0.008403549196974603,
          0.010661847837168597,
          0.017745058419771937,
          0.033621449768349444,
          0.06465486690321048,
          0.11158584244265783,
          0.1601117519088488,
          0.19880588438662916,
          0.2440687247046224,
          0.2909680300856173,
          0.3024411665277585,
          0.3047134800284806
         ],
         "line": {
          "color": "grey",
          "width": 0.25
         },
         "marker": {
          "color": "silver",
          "line": {
           "color": "black",
           "width": 0
          },
          "opacity": 0.9,
          "size": 6
         },
         "mode": "lines+text",
         "name": "KAZ",
         "showlegend": false,
         "subplot": "ternary",
         "text": [
          "",
          "",
          "",
          "",
          "",
          "",
          "",
          "",
          "",
          "",
          "",
          "",
          "",
          "",
          ""
         ],
         "textfont": {
          "color": "black",
          "size": 5.433662860226582
         },
         "type": "scatterternary"
        },
        {
         "a": [
          0.029368238063407787,
          0.04345125059646105,
          0.07884828213896419,
          0.08733421465214623,
          0.10957846262279781
         ],
         "b": [
          0.9688060685150013,
          0.9531559231746247,
          0.914163358445933,
          0.9042622361508793,
          0.8797596895400337
         ],
         "c": [
          0.0018256934215909377,
          0.0033928262289142845,
          0.006988359415102998,
          0.008403549196974603,
          0.010661847837168597
         ],
         "line": {
          "color": "grey",
          "width": 0.25
         },
         "marker": {
          "color": "silver",
          "line": {
           "color": "black",
           "width": 0
          },
          "opacity": 0.9,
          "size": 6
         },
         "mode": "lines+text",
         "name": "KAZ",
         "showlegend": false,
         "subplot": "ternary",
         "text": [
          "",
          "",
          "",
          "",
          "",
          "",
          "",
          "",
          "",
          "",
          "",
          "",
          "",
          "",
          ""
         ],
         "textfont": {
          "color": "black",
          "size": 5.433662860226582
         },
         "type": "scatterternary"
        },
        {
         "a": [
          0.033078638921029815,
          0.07919811379112293,
          0.1942313117620191,
          0.2449931817510475,
          0.2896472979825158,
          0.34769126523383237,
          0.3777357784818019,
          0.3459653097227687,
          0.2767423577594943,
          0.22870389960892665,
          0.1928061744529107,
          0.1805141501522623,
          0.18209021761329228,
          0.19482995412679874,
          0.20207357363366762
         ],
         "b": [
          0.9652713494432131,
          0.9162046277923732,
          0.7954165938044034,
          0.739696985683826,
          0.6870664563078849,
          0.6060563977865476,
          0.5393803245399884,
          0.5160620247342598,
          0.5210328186447349,
          0.5252300291870159,
          0.5235688978669296,
          0.5123323125234488,
          0.4891296175312918,
          0.4604634935530947,
          0.43243664226653683
         ],
         "c": [
          0.0016500116357570742,
          0.004597258416503847,
          0.010352094433577213,
          0.015309832565126608,
          0.023286245709599168,
          0.04625233697962004,
          0.08288389697820976,
          0.1379726655429714,
          0.2022248235957707,
          0.2460660712040574,
          0.28362492768015957,
          0.30715353732428896,
          0.32878016485541595,
          0.3447065523201066,
          0.3654897840997954
         ],
         "line": {
          "color": "grey",
          "width": 0.25
         },
         "marker": {
          "color": "silver",
          "line": {
           "color": "black",
           "width": 0
          },
          "opacity": 0.9,
          "size": 6
         },
         "mode": "lines+text",
         "name": "KEN",
         "showlegend": false,
         "subplot": "ternary",
         "text": [
          "",
          "",
          "",
          "",
          "",
          "",
          "",
          "",
          "",
          "",
          "",
          "",
          "",
          "",
          ""
         ],
         "textfont": {
          "color": "black",
          "size": 7.62406974930675
         },
         "type": "scatterternary"
        },
        {
         "a": [
          0.033078638921029815,
          0.07919811379112293,
          0.1942313117620191,
          0.2449931817510475,
          0.2896472979825158
         ],
         "b": [
          0.9652713494432131,
          0.9162046277923732,
          0.7954165938044034,
          0.739696985683826,
          0.6870664563078849
         ],
         "c": [
          0.0016500116357570742,
          0.004597258416503847,
          0.010352094433577213,
          0.015309832565126608,
          0.023286245709599168
         ],
         "line": {
          "color": "grey",
          "width": 0.25
         },
         "marker": {
          "color": "silver",
          "line": {
           "color": "black",
           "width": 0
          },
          "opacity": 0.9,
          "size": 6
         },
         "mode": "lines+text",
         "name": "KEN",
         "showlegend": false,
         "subplot": "ternary",
         "text": [
          "",
          "",
          "",
          "",
          "",
          "",
          "",
          "",
          "",
          "",
          "",
          "",
          "",
          "",
          ""
         ],
         "textfont": {
          "color": "black",
          "size": 7.62406974930675
         },
         "type": "scatterternary"
        },
        {
         "a": [
          0,
          0,
          0,
          0,
          0,
          0,
          0,
          0,
          0,
          0,
          0,
          0,
          0,
          0,
          0
         ],
         "b": [
          0,
          0,
          0,
          0,
          0,
          0,
          0,
          0,
          0,
          0,
          0,
          0,
          0,
          0,
          0
         ],
         "c": [
          0,
          0,
          0,
          0,
          0,
          0,
          0,
          0,
          0,
          0,
          0,
          0,
          0,
          0,
          0
         ],
         "line": {
          "color": "grey",
          "width": 0.25
         },
         "marker": {
          "color": "silver",
          "line": {
           "color": "black",
           "width": 0
          },
          "opacity": 0.9,
          "size": 6
         },
         "mode": "lines+text",
         "name": "KIR",
         "showlegend": false,
         "subplot": "ternary",
         "text": [
          "",
          "",
          "",
          "",
          "",
          "",
          "",
          "",
          "",
          "",
          "",
          "",
          "",
          "",
          ""
         ],
         "textfont": {
          "color": "black",
          "size": 1.5965659258557752
         },
         "type": "scatterternary"
        },
        {
         "a": [
          0,
          0,
          0,
          0,
          0
         ],
         "b": [
          0,
          0,
          0,
          0,
          0
         ],
         "c": [
          0,
          0,
          0,
          0,
          0
         ],
         "line": {
          "color": "grey",
          "width": 0.25
         },
         "marker": {
          "color": "silver",
          "line": {
           "color": "black",
           "width": 0
          },
          "opacity": 0.9,
          "size": 6
         },
         "mode": "lines+text",
         "name": "KIR",
         "showlegend": false,
         "subplot": "ternary",
         "text": [
          "",
          "",
          "",
          "",
          "",
          "",
          "",
          "",
          "",
          "",
          "",
          "",
          "",
          "",
          ""
         ],
         "textfont": {
          "color": "black",
          "size": 1.5965659258557752
         },
         "type": "scatterternary"
        },
        {
         "a": [
          0.06591152727212149,
          0.07992969069761816,
          0.140283312363867,
          0.1352833735858289,
          0.14000186477422158,
          0.17415655376720587,
          0.2103326072167066,
          0.1969504459691784,
          0.14828249036174668,
          0.1102436907421794,
          0.08330079475590763,
          0.06617148463851671,
          0.053777202062068465,
          0.047548678887790054,
          0.04108161911704873
         ],
         "b": [
          0.9308823620366168,
          0.9159794892275173,
          0.8519038970675812,
          0.8542349360936243,
          0.842463922346836,
          0.7885214181660151,
          0.718294995146109,
          0.6958278724610506,
          0.7231217004189591,
          0.745992408466312,
          0.7596798807299335,
          0.7480368480651721,
          0.7239393011702404,
          0.7011061089005686,
          0.6737356033214976
         ],
         "c": [
          0.0032061106912617226,
          0.00409082007486452,
          0.007812790568551756,
          0.010481690320546787,
          0.017534212878942423,
          0.03732202806677912,
          0.07137239763718434,
          0.1072216815697712,
          0.12859580921929448,
          0.14376390079150866,
          0.15701932451415884,
          0.1857916672963111,
          0.22228349676769119,
          0.2513452122116414,
          0.28518277756145355
         ],
         "line": {
          "color": "grey",
          "width": 0.25
         },
         "marker": {
          "color": "silver",
          "line": {
           "color": "black",
           "width": 0
          },
          "opacity": 0.9,
          "size": 6
         },
         "mode": "lines+text",
         "name": "KWT",
         "showlegend": false,
         "subplot": "ternary",
         "text": [
          "",
          "",
          "",
          "",
          "",
          "",
          "",
          "",
          "",
          "",
          "",
          "",
          "",
          "",
          ""
         ],
         "textfont": {
          "color": "black",
          "size": 3.492272674767299
         },
         "type": "scatterternary"
        },
        {
         "a": [
          0.06591152727212149,
          0.07992969069761816,
          0.140283312363867,
          0.1352833735858289,
          0.14000186477422158
         ],
         "b": [
          0.9308823620366168,
          0.9159794892275173,
          0.8519038970675812,
          0.8542349360936243,
          0.842463922346836
         ],
         "c": [
          0.0032061106912617226,
          0.00409082007486452,
          0.007812790568551756,
          0.010481690320546787,
          0.017534212878942423
         ],
         "line": {
          "color": "grey",
          "width": 0.25
         },
         "marker": {
          "color": "silver",
          "line": {
           "color": "black",
           "width": 0
          },
          "opacity": 0.9,
          "size": 6
         },
         "mode": "lines+text",
         "name": "KWT",
         "showlegend": false,
         "subplot": "ternary",
         "text": [
          "",
          "",
          "",
          "",
          "",
          "",
          "",
          "",
          "",
          "",
          "",
          "",
          "",
          "",
          ""
         ],
         "textfont": {
          "color": "black",
          "size": 3.492272674767299
         },
         "type": "scatterternary"
        },
        {
         "a": [
          0.07547243059143509,
          0.1434427159488295,
          0.28072945419693396,
          0.31294174914894907,
          0.3408712625110088,
          0.396134904706353,
          0.4563486163858156,
          0.48174825145423217,
          0.4618580774656348,
          0.42583394370098593,
          0.3795995203793074,
          0.3569033144580021,
          0.34603696959980806,
          0.3561322511595969,
          0.36849554946318036
         ],
         "b": [
          0.9182887380688946,
          0.842003192721602,
          0.6866725420031695,
          0.6429750206603891,
          0.5999659548098943,
          0.5142333504675606,
          0.41146558494395796,
          0.33770385553689575,
          0.3157653199350672,
          0.3215318428144606,
          0.34986419840933625,
          0.3677520922190051,
          0.3799344965774107,
          0.38226189752664713,
          0.3835436419055053
         ],
         "c": [
          0.006238831339670681,
          0.014554091329568412,
          0.032598003799896504,
          0.04408323019066175,
          0.05916278267909689,
          0.08963174482608648,
          0.13218579867022645,
          0.18054789300887217,
          0.22237660259929792,
          0.25263421348455356,
          0.2705362812113565,
          0.27534459332299277,
          0.27402853382278125,
          0.26160585131375585,
          0.24796080863131426
         ],
         "line": {
          "color": "grey",
          "width": 0.25
         },
         "marker": {
          "color": "silver",
          "line": {
           "color": "black",
           "width": 0
          },
          "opacity": 0.9,
          "size": 6
         },
         "mode": "lines+text",
         "name": "KGZ",
         "showlegend": false,
         "subplot": "ternary",
         "text": [
          "",
          "",
          "",
          "",
          "",
          "",
          "",
          "",
          "",
          "",
          "",
          "",
          "",
          "",
          ""
         ],
         "textfont": {
          "color": "black",
          "size": 3.8724709149048446
         },
         "type": "scatterternary"
        },
        {
         "a": [
          0.07547243059143509,
          0.1434427159488295,
          0.28072945419693396,
          0.31294174914894907,
          0.3408712625110088
         ],
         "b": [
          0.9182887380688946,
          0.842003192721602,
          0.6866725420031695,
          0.6429750206603891,
          0.5999659548098943
         ],
         "c": [
          0.006238831339670681,
          0.014554091329568412,
          0.032598003799896504,
          0.04408323019066175,
          0.05916278267909689
         ],
         "line": {
          "color": "grey",
          "width": 0.25
         },
         "marker": {
          "color": "silver",
          "line": {
           "color": "black",
           "width": 0
          },
          "opacity": 0.9,
          "size": 6
         },
         "mode": "lines+text",
         "name": "KGZ",
         "showlegend": false,
         "subplot": "ternary",
         "text": [
          "",
          "",
          "",
          "",
          "",
          "",
          "",
          "",
          "",
          "",
          "",
          "",
          "",
          "",
          ""
         ],
         "textfont": {
          "color": "black",
          "size": 3.8724709149048446
         },
         "type": "scatterternary"
        },
        {
         "a": [
          0.35327256131151,
          0.28916814648217437,
          0.2965633488504138,
          0.3104117981992326,
          0.35119126786758614,
          0.3944833361981592,
          0.44751428817014105,
          0.48318812985134724,
          0.511969810675737,
          0.5301748210972229,
          0.5358135869344639,
          0.5368146413577114,
          0.5213924405358143,
          0.5071063626408885,
          0.4845843023897437
         ],
         "b": [
          0.6274915101701068,
          0.6962272541179441,
          0.6859301332799118,
          0.6687462171403251,
          0.6201176886979247,
          0.5575239102314125,
          0.4698893618691449,
          0.3940187361199315,
          0.31793240603977957,
          0.24584989555935288,
          0.1937821078188519,
          0.1769478983247848,
          0.19430832279270457,
          0.2256974277819962,
          0.2627191085148535
         ],
         "c": [
          0.019235928518383127,
          0.014604599399881691,
          0.01750651786967447,
          0.02084198466044246,
          0.02869104343448909,
          0.04799275357042813,
          0.08259634996071381,
          0.1227931340287213,
          0.1700977832844834,
          0.22397528334342404,
          0.270404305246684,
          0.2862374603175037,
          0.28429923667148105,
          0.26719620957711543,
          0.2526965890954028
         ],
         "line": {
          "color": "grey",
          "width": 0.25
         },
         "marker": {
          "color": "silver",
          "line": {
           "color": "black",
           "width": 0
          },
          "opacity": 0.9,
          "size": 6
         },
         "mode": "lines+text",
         "name": "LAO",
         "showlegend": false,
         "subplot": "ternary",
         "text": [
          "",
          "",
          "",
          "",
          "",
          "",
          "",
          "",
          "",
          "",
          "",
          "",
          "",
          "",
          ""
         ],
         "textfont": {
          "color": "black",
          "size": 4.027234193646413
         },
         "type": "scatterternary"
        },
        {
         "a": [
          0.35327256131151,
          0.28916814648217437,
          0.2965633488504138,
          0.3104117981992326,
          0.35119126786758614
         ],
         "b": [
          0.6274915101701068,
          0.6962272541179441,
          0.6859301332799118,
          0.6687462171403251,
          0.6201176886979247
         ],
         "c": [
          0.019235928518383127,
          0.014604599399881691,
          0.01750651786967447,
          0.02084198466044246,
          0.02869104343448909
         ],
         "line": {
          "color": "grey",
          "width": 0.25
         },
         "marker": {
          "color": "silver",
          "line": {
           "color": "black",
           "width": 0
          },
          "opacity": 0.9,
          "size": 6
         },
         "mode": "lines+text",
         "name": "LAO",
         "showlegend": false,
         "subplot": "ternary",
         "text": [
          "",
          "",
          "",
          "",
          "",
          "",
          "",
          "",
          "",
          "",
          "",
          "",
          "",
          "",
          ""
         ],
         "textfont": {
          "color": "black",
          "size": 4.027234193646413
         },
         "type": "scatterternary"
        },
        {
         "a": [
          0.18857706952732922,
          0.21633834275038455,
          0.3056020960214543,
          0.3056896027039032,
          0.33568775116074406,
          0.39458305014816797,
          0.44985392520907863,
          0.4690274145922599,
          0.4517326898364571,
          0.43337760464233666,
          0.42321451587013353,
          0.42963776352488936,
          0.4425603478677887,
          0.46672171466416945,
          0.4991910756909658
         ],
         "b": [
          0.8022682273358382,
          0.7724595707174564,
          0.6778213868454115,
          0.6768329735769476,
          0.643021344730541,
          0.5730367720347317,
          0.5032723400755561,
          0.46893022138763646,
          0.4703430954748568,
          0.4739182758014826,
          0.4677457914859643,
          0.4488883058821709,
          0.41999989834045853,
          0.37916963872444664,
          0.3288876130013248
         ],
         "c": [
          0.009154703136832604,
          0.01120208653215889,
          0.01657651713313436,
          0.017477423719149093,
          0.021290904108714998,
          0.032380177817100474,
          0.046873734715365295,
          0.06204236402010393,
          0.07792421468868614,
          0.09270411955618076,
          0.10903969264390219,
          0.1214739305929397,
          0.13743975379175263,
          0.15410864661138388,
          0.17192131130770932
         ],
         "line": {
          "color": "grey",
          "width": 0.25
         },
         "marker": {
          "color": "silver",
          "line": {
           "color": "black",
           "width": 0
          },
          "opacity": 0.9,
          "size": 6
         },
         "mode": "lines+text",
         "name": "LVA",
         "showlegend": false,
         "subplot": "ternary",
         "text": [
          "",
          "",
          "",
          "",
          "",
          "",
          "",
          "",
          "",
          "",
          "",
          "",
          "",
          "",
          ""
         ],
         "textfont": {
          "color": "black",
          "size": 2.7729581507200587
         },
         "type": "scatterternary"
        },
        {
         "a": [
          0.18857706952732922,
          0.21633834275038455,
          0.3056020960214543,
          0.3056896027039032,
          0.33568775116074406
         ],
         "b": [
          0.8022682273358382,
          0.7724595707174564,
          0.6778213868454115,
          0.6768329735769476,
          0.643021344730541
         ],
         "c": [
          0.009154703136832604,
          0.01120208653215889,
          0.01657651713313436,
          0.017477423719149093,
          0.021290904108714998
         ],
         "line": {
          "color": "grey",
          "width": 0.25
         },
         "marker": {
          "color": "silver",
          "line": {
           "color": "black",
           "width": 0
          },
          "opacity": 0.9,
          "size": 6
         },
         "mode": "lines+text",
         "name": "LVA",
         "showlegend": false,
         "subplot": "ternary",
         "text": [
          "",
          "",
          "",
          "",
          "",
          "",
          "",
          "",
          "",
          "",
          "",
          "",
          "",
          "",
          ""
         ],
         "textfont": {
          "color": "black",
          "size": 2.7729581507200587
         },
         "type": "scatterternary"
        },
        {
         "a": [
          0.10798986285818743,
          0.18694939997195076,
          0.3326687353913611,
          0.3584963495438737,
          0.41467570801841575,
          0.488222362727088,
          0.54687648388953,
          0.5765384924053237,
          0.5707179396209658,
          0.5650528518422775,
          0.5806197704242937,
          0.6207978303913921,
          0.6509551060238588,
          0.6670155849117904,
          0.657033376144595
         ],
         "b": [
          0.8821781909365579,
          0.8016621529577762,
          0.6487385414192852,
          0.6191541033292659,
          0.545458220701206,
          0.4178385749647707,
          0.30076761476491,
          0.2329156393740972,
          0.20925597783590577,
          0.19356383869617869,
          0.16886139936133274,
          0.13297846175744343,
          0.10987713375908384,
          0.10555645531832661,
          0.12068729070336162
         ],
         "c": [
          0.009831946205254731,
          0.011388447070273014,
          0.018592723189353698,
          0.02234954712686029,
          0.0398660712803781,
          0.09393906230814134,
          0.15235590134556012,
          0.190545868220579,
          0.22002608254312833,
          0.24138330946154382,
          0.2505188302143736,
          0.24622370785116449,
          0.23916776021705743,
          0.22742795976988292,
          0.22227933315204346
         ],
         "line": {
          "color": "grey",
          "width": 0.25
         },
         "marker": {
          "color": "silver",
          "line": {
           "color": "black",
           "width": 0
          },
          "opacity": 0.9,
          "size": 6
         },
         "mode": "lines+text",
         "name": "LBN",
         "showlegend": false,
         "subplot": "ternary",
         "text": [
          "",
          "",
          "",
          "",
          "",
          "",
          "",
          "",
          "",
          "",
          "",
          "",
          "",
          "",
          ""
         ],
         "textfont": {
          "color": "black",
          "size": 3.746118968234336
         },
         "type": "scatterternary"
        },
        {
         "a": [
          0.10798986285818743,
          0.18694939997195076,
          0.3326687353913611,
          0.3584963495438737,
          0.41467570801841575
         ],
         "b": [
          0.8821781909365579,
          0.8016621529577762,
          0.6487385414192852,
          0.6191541033292659,
          0.545458220701206
         ],
         "c": [
          0.009831946205254731,
          0.011388447070273014,
          0.018592723189353698,
          0.02234954712686029,
          0.0398660712803781
         ],
         "line": {
          "color": "grey",
          "width": 0.25
         },
         "marker": {
          "color": "silver",
          "line": {
           "color": "black",
           "width": 0
          },
          "opacity": 0.9,
          "size": 6
         },
         "mode": "lines+text",
         "name": "LBN",
         "showlegend": false,
         "subplot": "ternary",
         "text": [
          "",
          "",
          "",
          "",
          "",
          "",
          "",
          "",
          "",
          "",
          "",
          "",
          "",
          "",
          ""
         ],
         "textfont": {
          "color": "black",
          "size": 3.746118968234336
         },
         "type": "scatterternary"
        },
        {
         "a": [
          0.022451291378416567,
          0.0538923345655194,
          0.13476605054197693,
          0.15474618507784035,
          0.17798446307520596,
          0.19580710084563818,
          0.16944925743706102,
          0.11849330634294511,
          0.07555061265167974,
          0.054504578148751856,
          0.04094680220795028,
          0.03437792448910151,
          0.03151857846511117,
          0.03390215588543254,
          0.04261643689009622
         ],
         "b": [
          0.976479925318818,
          0.9434578856289761,
          0.8583532079474439,
          0.8367162914559525,
          0.8111122227199447,
          0.7885260090165418,
          0.8090484167363101,
          0.8403315928524839,
          0.8450945027716158,
          0.830089407754017,
          0.8043377451576327,
          0.7776109356048246,
          0.74811844732108,
          0.7286332615060427,
          0.7206753456362184
         ],
         "c": [
          0.0010687833027654499,
          0.002649779805504536,
          0.0068807415105793,
          0.008537523466207075,
          0.010903314204849576,
          0.015666890137820046,
          0.021502325826628938,
          0.04117510080457096,
          0.07935488457670456,
          0.1154060140972312,
          0.15471545263441697,
          0.18801113990607374,
          0.22036297421380888,
          0.2374645826085248,
          0.23670821747368534
         ],
         "line": {
          "color": "grey",
          "width": 0.25
         },
         "marker": {
          "color": "silver",
          "line": {
           "color": "black",
           "width": 0
          },
          "opacity": 0.9,
          "size": 6
         },
         "mode": "lines+text",
         "name": "LSO",
         "showlegend": false,
         "subplot": "ternary",
         "text": [
          "",
          "",
          "",
          "",
          "",
          "",
          "",
          "",
          "",
          "",
          "",
          "",
          "",
          "",
          ""
         ],
         "textfont": {
          "color": "black",
          "size": 2.89062218046561
         },
         "type": "scatterternary"
        },
        {
         "a": [
          0.022451291378416567,
          0.0538923345655194,
          0.13476605054197693,
          0.15474618507784035,
          0.17798446307520596
         ],
         "b": [
          0.976479925318818,
          0.9434578856289761,
          0.8583532079474439,
          0.8367162914559525,
          0.8111122227199447
         ],
         "c": [
          0.0010687833027654499,
          0.002649779805504536,
          0.0068807415105793,
          0.008537523466207075,
          0.010903314204849576
         ],
         "line": {
          "color": "grey",
          "width": 0.25
         },
         "marker": {
          "color": "silver",
          "line": {
           "color": "black",
           "width": 0
          },
          "opacity": 0.9,
          "size": 6
         },
         "mode": "lines+text",
         "name": "LSO",
         "showlegend": false,
         "subplot": "ternary",
         "text": [
          "",
          "",
          "",
          "",
          "",
          "",
          "",
          "",
          "",
          "",
          "",
          "",
          "",
          "",
          ""
         ],
         "textfont": {
          "color": "black",
          "size": 2.89062218046561
         },
         "type": "scatterternary"
        },
        {
         "a": [
          0.14206221466941885,
          0.2241684834472927,
          0.3818029779766388,
          0.35544569117272196,
          0.2984017646475024,
          0.21904529319067573,
          0.14527200795800063,
          0.09604006569821914,
          0.06585838168477774,
          0.049878860746564356,
          0.03781881909561601,
          0.031694794313110015,
          0.027927493256379596,
          0.026117530331669876,
          0.025183852731527408
         ],
         "b": [
          0.8508686970314714,
          0.7650204997870199,
          0.5991080563531475,
          0.6203949175932261,
          0.6814108848490823,
          0.7507183202562161,
          0.8074694399853786,
          0.8273871545613302,
          0.8255635838294587,
          0.8058774470218308,
          0.7737423837877324,
          0.7332323148669765,
          0.7007707913550582,
          0.6677761036609243,
          0.6361704701015276
         ],
         "c": [
          0.007069088299109568,
          0.010811016765687461,
          0.019088965670213894,
          0.024159391234051888,
          0.02018735050341551,
          0.03023638655310809,
          0.047258552056620697,
          0.0765727797404506,
          0.10857803448576347,
          0.14424369223160483,
          0.18843879711665157,
          0.2350728908199134,
          0.27130171538856235,
          0.3061063660074058,
          0.338645677166945
         ],
         "line": {
          "color": "grey",
          "width": 0.25
         },
         "marker": {
          "color": "silver",
          "line": {
           "color": "black",
           "width": 0
          },
          "opacity": 0.9,
          "size": 6
         },
         "mode": "lines+text",
         "name": "LBR",
         "showlegend": false,
         "subplot": "ternary",
         "text": [
          "",
          "",
          "",
          "",
          "",
          "",
          "",
          "",
          "",
          "",
          "",
          "",
          "",
          "",
          ""
         ],
         "textfont": {
          "color": "black",
          "size": 3.61401429289933
         },
         "type": "scatterternary"
        },
        {
         "a": [
          0.14206221466941885,
          0.2241684834472927,
          0.3818029779766388,
          0.35544569117272196,
          0.2984017646475024
         ],
         "b": [
          0.8508686970314714,
          0.7650204997870199,
          0.5991080563531475,
          0.6203949175932261,
          0.6814108848490823
         ],
         "c": [
          0.007069088299109568,
          0.010811016765687461,
          0.019088965670213894,
          0.024159391234051888,
          0.02018735050341551
         ],
         "line": {
          "color": "grey",
          "width": 0.25
         },
         "marker": {
          "color": "silver",
          "line": {
           "color": "black",
           "width": 0
          },
          "opacity": 0.9,
          "size": 6
         },
         "mode": "lines+text",
         "name": "LBR",
         "showlegend": false,
         "subplot": "ternary",
         "text": [
          "",
          "",
          "",
          "",
          "",
          "",
          "",
          "",
          "",
          "",
          "",
          "",
          "",
          "",
          ""
         ],
         "textfont": {
          "color": "black",
          "size": 3.61401429289933
         },
         "type": "scatterternary"
        },
        {
         "a": [
          0.05926405057144403,
          0.07029860173987335,
          0.11454110244063023,
          0.11927194688492099,
          0.150388619951831,
          0.23019451596493337,
          0.3694563929237231,
          0.4611615853837153,
          0.3867621590752307,
          0.2729617712485186,
          0.19039183724959088,
          0.14548770825958401,
          0.1148402478159438,
          0.09849669108453712,
          0.0932059417805787
         ],
         "b": [
          0.9378786651987148,
          0.9261870382554693,
          0.879370155905623,
          0.8735540546894333,
          0.8394366372156287,
          0.7495872033569465,
          0.5866661926555066,
          0.4702914488210543,
          0.5277526972166493,
          0.6251121682718194,
          0.6980697088999119,
          0.7339164760117498,
          0.7420416655302196,
          0.7316159475393624,
          0.7285116863741855
         ],
         "c": [
          0.0028572842298412726,
          0.003514360004657322,
          0.006088741653746836,
          0.007173998425645886,
          0.010174742832540353,
          0.020218280678120083,
          0.04387741442076996,
          0.06854696579523041,
          0.08548514370812013,
          0.10192606047966207,
          0.11153845385049721,
          0.12059581572866632,
          0.14311808665383657,
          0.16988736137610053,
          0.17828237184523588
         ],
         "line": {
          "color": "grey",
          "width": 0.25
         },
         "marker": {
          "color": "silver",
          "line": {
           "color": "black",
           "width": 0
          },
          "opacity": 0.9,
          "size": 6
         },
         "mode": "lines+text",
         "name": "LBY",
         "showlegend": false,
         "subplot": "ternary",
         "text": [
          "",
          "",
          "",
          "",
          "",
          "",
          "",
          "",
          "",
          "",
          "",
          "",
          "",
          "",
          ""
         ],
         "textfont": {
          "color": "black",
          "size": 3.915210491595787
         },
         "type": "scatterternary"
        },
        {
         "a": [
          0.05926405057144403,
          0.07029860173987335,
          0.11454110244063023,
          0.11927194688492099,
          0.150388619951831
         ],
         "b": [
          0.9378786651987148,
          0.9261870382554693,
          0.879370155905623,
          0.8735540546894333,
          0.8394366372156287
         ],
         "c": [
          0.0028572842298412726,
          0.003514360004657322,
          0.006088741653746836,
          0.007173998425645886,
          0.010174742832540353
         ],
         "line": {
          "color": "grey",
          "width": 0.25
         },
         "marker": {
          "color": "silver",
          "line": {
           "color": "black",
           "width": 0
          },
          "opacity": 0.9,
          "size": 6
         },
         "mode": "lines+text",
         "name": "LBY",
         "showlegend": false,
         "subplot": "ternary",
         "text": [
          "",
          "",
          "",
          "",
          "",
          "",
          "",
          "",
          "",
          "",
          "",
          "",
          "",
          "",
          ""
         ],
         "textfont": {
          "color": "black",
          "size": 3.915210491595787
         },
         "type": "scatterternary"
        },
        {
         "a": [
          0,
          0,
          0,
          0,
          0,
          0,
          0,
          0,
          0,
          0,
          0,
          0,
          0,
          0,
          0
         ],
         "b": [
          0,
          0,
          0,
          0,
          0,
          0,
          0,
          0,
          0,
          0,
          0,
          0,
          0,
          0,
          0
         ],
         "c": [
          0,
          0,
          0,
          0,
          0,
          0,
          0,
          0,
          0,
          0,
          0,
          0,
          0,
          0,
          0
         ],
         "line": {
          "color": "grey",
          "width": 0.25
         },
         "marker": {
          "color": "silver",
          "line": {
           "color": "black",
           "width": 0
          },
          "opacity": 0.9,
          "size": 6
         },
         "mode": "lines+text",
         "name": "LIE",
         "showlegend": false,
         "subplot": "ternary",
         "text": [
          "",
          "",
          "",
          "",
          "",
          "",
          "",
          "",
          "",
          "",
          "",
          "",
          "",
          "",
          ""
         ],
         "textfont": {
          "color": "black",
          "size": 2.3694187025678044
         },
         "type": "scatterternary"
        },
        {
         "a": [
          0,
          0,
          0,
          0,
          0
         ],
         "b": [
          0,
          0,
          0,
          0,
          0
         ],
         "c": [
          0,
          0,
          0,
          0,
          0
         ],
         "line": {
          "color": "grey",
          "width": 0.25
         },
         "marker": {
          "color": "silver",
          "line": {
           "color": "black",
           "width": 0
          },
          "opacity": 0.9,
          "size": 6
         },
         "mode": "lines+text",
         "name": "LIE",
         "showlegend": false,
         "subplot": "ternary",
         "text": [
          "",
          "",
          "",
          "",
          "",
          "",
          "",
          "",
          "",
          "",
          "",
          "",
          "",
          "",
          ""
         ],
         "textfont": {
          "color": "black",
          "size": 2.3694187025678044
         },
         "type": "scatterternary"
        },
        {
         "a": [
          0.035436133331743135,
          0.04479187731098126,
          0.07282711370583607,
          0.07171726279008747,
          0.08662054166298716,
          0.12799408244879212,
          0.20037334302811127,
          0.28480099824469324,
          0.32824068331237916,
          0.3335441049988324,
          0.3295696792977856,
          0.33809355200965435,
          0.35766904373620895,
          0.3897203103167254,
          0.4342950033383989
         ],
         "b": [
          0.9628530516986387,
          0.9529337842956057,
          0.9233209394443569,
          0.9241544854968624,
          0.9075379083227899,
          0.8605015761365915,
          0.7764367708097102,
          0.6699595795273411,
          0.5989299327648894,
          0.5685808200747646,
          0.5530502203406722,
          0.5299390714335207,
          0.49484688508789393,
          0.4456192496722119,
          0.3858208734217234
         ],
         "c": [
          0.0017108149696181492,
          0.0022743383934129223,
          0.0038519468498069763,
          0.0041282517130500984,
          0.005841550014222963,
          0.011504341414616405,
          0.023189886162178618,
          0.04523942222796578,
          0.0728293839227314,
          0.09787507492640313,
          0.11738010036154217,
          0.13196737655682508,
          0.14748407117589724,
          0.16466044001106284,
          0.17988412323987768
         ],
         "line": {
          "color": "grey",
          "width": 0.25
         },
         "marker": {
          "color": "silver",
          "line": {
           "color": "black",
           "width": 0
          },
          "opacity": 0.9,
          "size": 6
         },
         "mode": "lines+text",
         "name": "LTU",
         "showlegend": false,
         "subplot": "ternary",
         "text": [
          "",
          "",
          "",
          "",
          "",
          "",
          "",
          "",
          "",
          "",
          "",
          "",
          "",
          "",
          ""
         ],
         "textfont": {
          "color": "black",
          "size": 3.077843061588359
         },
         "type": "scatterternary"
        },
        {
         "a": [
          0.035436133331743135,
          0.04479187731098126,
          0.07282711370583607,
          0.07171726279008747,
          0.08662054166298716
         ],
         "b": [
          0.9628530516986387,
          0.9529337842956057,
          0.9233209394443569,
          0.9241544854968624,
          0.9075379083227899
         ],
         "c": [
          0.0017108149696181492,
          0.0022743383934129223,
          0.0038519468498069763,
          0.0041282517130500984,
          0.005841550014222963
         ],
         "line": {
          "color": "grey",
          "width": 0.25
         },
         "marker": {
          "color": "silver",
          "line": {
           "color": "black",
           "width": 0
          },
          "opacity": 0.9,
          "size": 6
         },
         "mode": "lines+text",
         "name": "LTU",
         "showlegend": false,
         "subplot": "ternary",
         "text": [
          "",
          "",
          "",
          "",
          "",
          "",
          "",
          "",
          "",
          "",
          "",
          "",
          "",
          "",
          ""
         ],
         "textfont": {
          "color": "black",
          "size": 3.077843061588359
         },
         "type": "scatterternary"
        },
        {
         "a": [
          0.030428351935267765,
          0.0345685201206469,
          0.05092442583037836,
          0.040050282229952335,
          0.03991265740400016,
          0.05548592406548657,
          0.08928353871454264,
          0.13844642168183302,
          0.16480074221278118,
          0.1659900840338155,
          0.16268534248679592,
          0.16845376548605642,
          0.18338186217759417,
          0.2065212704331245,
          0.23888412201614462
         ],
         "b": [
          0.9680787464840986,
          0.9635724469156994,
          0.9454361537651912,
          0.9554744284527393,
          0.9537259688374584,
          0.9317866197511165,
          0.8840828934071947,
          0.8125892840728273,
          0.7593030039031283,
          0.741958848528718,
          0.7415741845361548,
          0.726689155060714,
          0.7077354407528739,
          0.6680777762547028,
          0.624041201628176
         ],
         "c": [
          0.0014929015806335636,
          0.0018590329636535622,
          0.003639420404430541,
          0.004475289317308062,
          0.006361373758541566,
          0.012727456183396851,
          0.026633567878262425,
          0.04896429424533981,
          0.07589625388409058,
          0.09205106743746666,
          0.09574047297704939,
          0.10485707945322978,
          0.10888269706953192,
          0.1254009533121728,
          0.13707467635567935
         ],
         "line": {
          "color": "grey",
          "width": 0.25
         },
         "marker": {
          "color": "silver",
          "line": {
           "color": "black",
           "width": 0
          },
          "opacity": 0.9,
          "size": 6
         },
         "mode": "lines+text",
         "name": "LUX",
         "showlegend": false,
         "subplot": "ternary",
         "text": [
          "",
          "",
          "",
          "",
          "",
          "",
          "",
          "",
          "",
          "",
          "",
          "",
          "",
          "",
          ""
         ],
         "textfont": {
          "color": "black",
          "size": 2.1354969377085222
         },
         "type": "scatterternary"
        },
        {
         "a": [
          0.030428351935267765,
          0.0345685201206469,
          0.05092442583037836,
          0.040050282229952335,
          0.03991265740400016
         ],
         "b": [
          0.9680787464840986,
          0.9635724469156994,
          0.9454361537651912,
          0.9554744284527393,
          0.9537259688374584
         ],
         "c": [
          0.0014929015806335636,
          0.0018590329636535622,
          0.003639420404430541,
          0.004475289317308062,
          0.006361373758541566
         ],
         "line": {
          "color": "grey",
          "width": 0.25
         },
         "marker": {
          "color": "silver",
          "line": {
           "color": "black",
           "width": 0
          },
          "opacity": 0.9,
          "size": 6
         },
         "mode": "lines+text",
         "name": "LUX",
         "showlegend": false,
         "subplot": "ternary",
         "text": [
          "",
          "",
          "",
          "",
          "",
          "",
          "",
          "",
          "",
          "",
          "",
          "",
          "",
          "",
          ""
         ],
         "textfont": {
          "color": "black",
          "size": 2.1354969377085222
         },
         "type": "scatterternary"
        },
        {
         "a": [
          0.07738350411796441,
          0.12206460820869705,
          0.20970137691861465,
          0.23237749457564236,
          0.28175343803402314,
          0.3637427030649583,
          0.46902120897976496,
          0.5513236896519527,
          0.5935466010477629,
          0.6027021506300818,
          0.6023352051066609,
          0.5942617962881702,
          0.5878792734566771,
          0.5836795978003985,
          0.5848517741830048
         ],
         "b": [
          0.9189337114572624,
          0.8719497719127841,
          0.7796465001728147,
          0.7546798281927385,
          0.7010149840873227,
          0.6090625386885211,
          0.4870188324461445,
          0.38349275601544053,
          0.31603921405513935,
          0.2834514525003391,
          0.2582555112403347,
          0.24683026806760391,
          0.23473034280622807,
          0.22751591575414468,
          0.21867080487473267
         ],
         "c": [
          0.003682784424773113,
          0.005985619878518861,
          0.01065212290857079,
          0.012942677231619118,
          0.01723157787865412,
          0.02719475824652048,
          0.043959958574090435,
          0.0651835543326069,
          0.09041418489709768,
          0.11384639686957923,
          0.13940928365300445,
          0.1589079356442258,
          0.17739038373709473,
          0.18880448644545675,
          0.19647742094226267
         ],
         "line": {
          "color": "grey",
          "width": 0.25
         },
         "marker": {
          "color": "silver",
          "line": {
           "color": "black",
           "width": 0
          },
          "opacity": 0.9,
          "size": 6
         },
         "mode": "lines+text",
         "name": "MKD",
         "showlegend": false,
         "subplot": "ternary",
         "text": [
          "",
          "",
          "",
          "",
          "",
          "",
          "",
          "",
          "",
          "",
          "",
          "",
          "",
          "",
          ""
         ],
         "textfont": {
          "color": "black",
          "size": 2.847482718186658
         },
         "type": "scatterternary"
        },
        {
         "a": [
          0.07738350411796441,
          0.12206460820869705,
          0.20970137691861465,
          0.23237749457564236,
          0.28175343803402314
         ],
         "b": [
          0.9189337114572624,
          0.8719497719127841,
          0.7796465001728147,
          0.7546798281927385,
          0.7010149840873227
         ],
         "c": [
          0.003682784424773113,
          0.005985619878518861,
          0.01065212290857079,
          0.012942677231619118,
          0.01723157787865412
         ],
         "line": {
          "color": "grey",
          "width": 0.25
         },
         "marker": {
          "color": "silver",
          "line": {
           "color": "black",
           "width": 0
          },
          "opacity": 0.9,
          "size": 6
         },
         "mode": "lines+text",
         "name": "MKD",
         "showlegend": false,
         "subplot": "ternary",
         "text": [
          "",
          "",
          "",
          "",
          "",
          "",
          "",
          "",
          "",
          "",
          "",
          "",
          "",
          "",
          ""
         ],
         "textfont": {
          "color": "black",
          "size": 2.847482718186658
         },
         "type": "scatterternary"
        },
        {
         "a": [
          0.0666195979131041,
          0.1385839810729542,
          0.2900600795488602,
          0.3342323145404907,
          0.3005610208226457,
          0.23252708904116584,
          0.16646437220200602,
          0.11683632430523014,
          0.07449576920074294,
          0.051606425151841426,
          0.03690871734830024,
          0.030759371955840383,
          0.02841302288852352,
          0.02946309482865419,
          0.03024518969446067
         ],
         "b": [
          0.9301139936595643,
          0.851136452970345,
          0.6911473692540494,
          0.6371559324128905,
          0.659784801795981,
          0.7017375131106428,
          0.74114880015131,
          0.7470740886220381,
          0.7321439994222444,
          0.713168781935835,
          0.6885112628223719,
          0.6756648784869613,
          0.6586720323276409,
          0.644040497580171,
          0.6195645185461622
         ],
         "c": [
          0.0032664084273316876,
          0.010279565956700796,
          0.01879255119709064,
          0.028611753046619046,
          0.03965417738137335,
          0.06573539784819152,
          0.09238682764668378,
          0.13608958707273186,
          0.19336023137701278,
          0.23522479291232365,
          0.27458001982932795,
          0.29357574955719834,
          0.31291494478383547,
          0.3264964075911748,
          0.3501902917593772
         ],
         "line": {
          "color": "grey",
          "width": 0.25
         },
         "marker": {
          "color": "silver",
          "line": {
           "color": "black",
           "width": 0
          },
          "opacity": 0.9,
          "size": 6
         },
         "mode": "lines+text",
         "name": "MDG",
         "showlegend": false,
         "subplot": "ternary",
         "text": [
          "",
          "",
          "",
          "",
          "",
          "",
          "",
          "",
          "",
          "",
          "",
          "",
          "",
          "",
          ""
         ],
         "textfont": {
          "color": "black",
          "size": 6.183796396181992
         },
         "type": "scatterternary"
        },
        {
         "a": [
          0.0666195979131041,
          0.1385839810729542,
          0.2900600795488602,
          0.3342323145404907,
          0.3005610208226457
         ],
         "b": [
          0.9301139936595643,
          0.851136452970345,
          0.6911473692540494,
          0.6371559324128905,
          0.659784801795981
         ],
         "c": [
          0.0032664084273316876,
          0.010279565956700796,
          0.01879255119709064,
          0.028611753046619046,
          0.03965417738137335
         ],
         "line": {
          "color": "grey",
          "width": 0.25
         },
         "marker": {
          "color": "silver",
          "line": {
           "color": "black",
           "width": 0
          },
          "opacity": 0.9,
          "size": 6
         },
         "mode": "lines+text",
         "name": "MDG",
         "showlegend": false,
         "subplot": "ternary",
         "text": [
          "",
          "",
          "",
          "",
          "",
          "",
          "",
          "",
          "",
          "",
          "",
          "",
          "",
          "",
          ""
         ],
         "textfont": {
          "color": "black",
          "size": 6.183796396181992
         },
         "type": "scatterternary"
        },
        {
         "a": [
          0.016031602215066252,
          0.04733867256921406,
          0.12076709002695339,
          0.16513020056520142,
          0.21063659685045727,
          0.2906921505114841,
          0.39123695823005555,
          0.4424329485571981,
          0.39129736845676155,
          0.31771734722693673,
          0.2390419076601076,
          0.19756671461929481,
          0.1777668032317704,
          0.1862926394046213,
          0.21862548036936785
         ],
         "b": [
          0.9831992834637433,
          0.9503651702515685,
          0.8731710248975417,
          0.8259323885661656,
          0.7768456626662216,
          0.6883277417621725,
          0.5723008676355975,
          0.4940602535938235,
          0.5051473608594967,
          0.5433457932608272,
          0.5885446149106506,
          0.6057137938645939,
          0.6040267868780358,
          0.587768996086393,
          0.5652458434826216
         ],
         "c": [
          0.0007691143211905597,
          0.002296157179217507,
          0.006061885075504974,
          0.008937410868632879,
          0.01251774048332134,
          0.02098010772634319,
          0.03646217413434695,
          0.0635067978489783,
          0.10355527068374173,
          0.13893685951223617,
          0.17241347742924196,
          0.19671949151611123,
          0.2182064098901938,
          0.2259383645089857,
          0.21612867614801048
         ],
         "line": {
          "color": "grey",
          "width": 0.25
         },
         "marker": {
          "color": "silver",
          "line": {
           "color": "black",
           "width": 0
          },
          "opacity": 0.9,
          "size": 6
         },
         "mode": "lines+text",
         "name": "MWI",
         "showlegend": false,
         "subplot": "ternary",
         "text": [
          "",
          "",
          "",
          "",
          "",
          "",
          "",
          "",
          "",
          "",
          "",
          "",
          "",
          "",
          ""
         ],
         "textfont": {
          "color": "black",
          "size": 5.457994075687126
         },
         "type": "scatterternary"
        },
        {
         "a": [
          0.016031602215066252,
          0.04733867256921406,
          0.12076709002695339,
          0.16513020056520142,
          0.21063659685045727
         ],
         "b": [
          0.9831992834637433,
          0.9503651702515685,
          0.8731710248975417,
          0.8259323885661656,
          0.7768456626662216
         ],
         "c": [
          0.0007691143211905597,
          0.002296157179217507,
          0.006061885075504974,
          0.008937410868632879,
          0.01251774048332134
         ],
         "line": {
          "color": "grey",
          "width": 0.25
         },
         "marker": {
          "color": "silver",
          "line": {
           "color": "black",
           "width": 0
          },
          "opacity": 0.9,
          "size": 6
         },
         "mode": "lines+text",
         "name": "MWI",
         "showlegend": false,
         "subplot": "ternary",
         "text": [
          "",
          "",
          "",
          "",
          "",
          "",
          "",
          "",
          "",
          "",
          "",
          "",
          "",
          "",
          ""
         ],
         "textfont": {
          "color": "black",
          "size": 5.457994075687126
         },
         "type": "scatterternary"
        },
        {
         "a": [
          0.13558625623618703,
          0.16878500119300213,
          0.276866153232699,
          0.2939165284126942,
          0.32794844032659454,
          0.4007446417523763,
          0.45299585468623066,
          0.42490161128867826,
          0.3308321233568381,
          0.25668406308823494,
          0.1949251751843687,
          0.15545745963379107,
          0.13213668366703002,
          0.11757995617332133,
          0.109712503599291
         ],
         "b": [
          0.8573138256264097,
          0.8216687483942322,
          0.7068310575732072,
          0.6840132574326425,
          0.6411795588436942,
          0.5451581255192709,
          0.4654936359249045,
          0.4647605215523106,
          0.5272661558165732,
          0.5746410554316498,
          0.6096365662469948,
          0.6210564581666171,
          0.6238320810736716,
          0.6191029441626088,
          0.6152909608769713
         ],
         "c": [
          0.007099918137403257,
          0.009546250412765607,
          0.016302789194093732,
          0.022070214154663224,
          0.030872000829711276,
          0.05409723272835287,
          0.0815105093888649,
          0.11033786715901103,
          0.14190172082658867,
          0.16867488148011509,
          0.19543825856863642,
          0.22348608219959182,
          0.24403123525929837,
          0.26331709966406996,
          0.2749965355237377
         ],
         "line": {
          "color": "grey",
          "width": 0.25
         },
         "marker": {
          "color": "silver",
          "line": {
           "color": "black",
           "width": 0
          },
          "opacity": 0.9,
          "size": 6
         },
         "mode": "lines+text",
         "name": "MYS",
         "showlegend": false,
         "subplot": "ternary",
         "text": [
          "",
          "",
          "",
          "",
          "",
          "",
          "",
          "",
          "",
          "",
          "",
          "",
          "",
          "",
          ""
         ],
         "textfont": {
          "color": "black",
          "size": 6.5457585126467706
         },
         "type": "scatterternary"
        },
        {
         "a": [
          0.13558625623618703,
          0.16878500119300213,
          0.276866153232699,
          0.2939165284126942,
          0.32794844032659454
         ],
         "b": [
          0.8573138256264097,
          0.8216687483942322,
          0.7068310575732072,
          0.6840132574326425,
          0.6411795588436942
         ],
         "c": [
          0.007099918137403257,
          0.009546250412765607,
          0.016302789194093732,
          0.022070214154663224,
          0.030872000829711276
         ],
         "line": {
          "color": "grey",
          "width": 0.25
         },
         "marker": {
          "color": "silver",
          "line": {
           "color": "black",
           "width": 0
          },
          "opacity": 0.9,
          "size": 6
         },
         "mode": "lines+text",
         "name": "MYS",
         "showlegend": false,
         "subplot": "ternary",
         "text": [
          "",
          "",
          "",
          "",
          "",
          "",
          "",
          "",
          "",
          "",
          "",
          "",
          "",
          "",
          ""
         ],
         "textfont": {
          "color": "black",
          "size": 6.5457585126467706
         },
         "type": "scatterternary"
        },
        {
         "a": [
          0.06082897269165547,
          0.11859237905898612,
          0.23600484245819373,
          0.276583955531722,
          0.33111684888637904,
          0.40647468704690104,
          0.443294985259558,
          0.4006120039492741,
          0.30756294394018774,
          0.22241382697992734,
          0.15273585182980645,
          0.11317204088348425,
          0.09120710057069444,
          0.0780693514906777,
          0.07320061891140488
         ],
         "b": [
          0.9361989682437719,
          0.8753810247486783,
          0.7509361250284833,
          0.7063673247861417,
          0.6451388018763644,
          0.5533884967952999,
          0.48972887487859706,
          0.4903733411757556,
          0.5289185950371883,
          0.5605965470003277,
          0.5770090136357084,
          0.5787883589214828,
          0.5760885105036351,
          0.564650332701858,
          0.5519421924777363
         ],
         "c": [
          0.002972059064572629,
          0.006026596192335596,
          0.013059032513322893,
          0.017048719682136237,
          0.02374434923725641,
          0.040136816157799016,
          0.06697613986184497,
          0.10901465487497028,
          0.16351846102262405,
          0.21698962601974528,
          0.270255134534485,
          0.3080396001950329,
          0.33270438892567045,
          0.3572803158074643,
          0.3748571886108588
         ],
         "line": {
          "color": "grey",
          "width": 0.25
         },
         "marker": {
          "color": "silver",
          "line": {
           "color": "black",
           "width": 0
          },
          "opacity": 0.9,
          "size": 6
         },
         "mode": "lines+text",
         "name": "MDV",
         "showlegend": false,
         "subplot": "ternary",
         "text": [
          "",
          "",
          "",
          "",
          "",
          "",
          "",
          "",
          "",
          "",
          "",
          "",
          "",
          "",
          ""
         ],
         "textfont": {
          "color": "black",
          "size": 2.046801063951455
         },
         "type": "scatterternary"
        },
        {
         "a": [
          0.06082897269165547,
          0.11859237905898612,
          0.23600484245819373,
          0.276583955531722,
          0.33111684888637904
         ],
         "b": [
          0.9361989682437719,
          0.8753810247486783,
          0.7509361250284833,
          0.7063673247861417,
          0.6451388018763644
         ],
         "c": [
          0.002972059064572629,
          0.006026596192335596,
          0.013059032513322893,
          0.017048719682136237,
          0.02374434923725641
         ],
         "line": {
          "color": "grey",
          "width": 0.25
         },
         "marker": {
          "color": "silver",
          "line": {
           "color": "black",
           "width": 0
          },
          "opacity": 0.9,
          "size": 6
         },
         "mode": "lines+text",
         "name": "MDV",
         "showlegend": false,
         "subplot": "ternary",
         "text": [
          "",
          "",
          "",
          "",
          "",
          "",
          "",
          "",
          "",
          "",
          "",
          "",
          "",
          "",
          ""
         ],
         "textfont": {
          "color": "black",
          "size": 2.046801063951455
         },
         "type": "scatterternary"
        },
        {
         "a": [
          0.032576948873989875,
          0.07618029048944411,
          0.17821278502785282,
          0.23912803686130657,
          0.2864291729891915,
          0.34392796059573416,
          0.36416838654063755,
          0.32112469108352065,
          0.25436426462710965,
          0.20586144029537942,
          0.1604908375998189,
          0.14047241521907433,
          0.12907736138366668,
          0.12720549107326645,
          0.1294605574121844
         ],
         "b": [
          0.9657720783464697,
          0.919791776604482,
          0.8115583836627154,
          0.7447216048640185,
          0.6928156948512508,
          0.6212488908624892,
          0.5775774896382496,
          0.5872112864788758,
          0.6203382568652404,
          0.6355259224824246,
          0.6435467567339109,
          0.6279401669545088,
          0.61442078888401,
          0.5931930538264596,
          0.5706407573679718
         ],
         "c": [
          0.0016509727795404002,
          0.004027932906073979,
          0.010228831309431571,
          0.016150358274674977,
          0.02075513215955779,
          0.03482314854177637,
          0.05825412382111268,
          0.0916640224376034,
          0.12529747850765,
          0.15861263722219587,
          0.1959624056662701,
          0.2315874178264169,
          0.2565018497323234,
          0.27960145510027395,
          0.2998986852198438
         ],
         "line": {
          "color": "grey",
          "width": 0.25
         },
         "marker": {
          "color": "silver",
          "line": {
           "color": "black",
           "width": 0
          },
          "opacity": 0.9,
          "size": 6
         },
         "mode": "lines+text",
         "name": "MLI",
         "showlegend": false,
         "subplot": "ternary",
         "text": [
          "",
          "",
          "",
          "",
          "",
          "",
          "",
          "",
          "",
          "",
          "",
          "",
          "",
          "",
          ""
         ],
         "textfont": {
          "color": "black",
          "size": 5.618329094112684
         },
         "type": "scatterternary"
        },
        {
         "a": [
          0.032576948873989875,
          0.07618029048944411,
          0.17821278502785282,
          0.23912803686130657,
          0.2864291729891915
         ],
         "b": [
          0.9657720783464697,
          0.919791776604482,
          0.8115583836627154,
          0.7447216048640185,
          0.6928156948512508
         ],
         "c": [
          0.0016509727795404002,
          0.004027932906073979,
          0.010228831309431571,
          0.016150358274674977,
          0.02075513215955779
         ],
         "line": {
          "color": "grey",
          "width": 0.25
         },
         "marker": {
          "color": "silver",
          "line": {
           "color": "black",
           "width": 0
          },
          "opacity": 0.9,
          "size": 6
         },
         "mode": "lines+text",
         "name": "MLI",
         "showlegend": false,
         "subplot": "ternary",
         "text": [
          "",
          "",
          "",
          "",
          "",
          "",
          "",
          "",
          "",
          "",
          "",
          "",
          "",
          "",
          ""
         ],
         "textfont": {
          "color": "black",
          "size": 5.618329094112684
         },
         "type": "scatterternary"
        },
        {
         "a": [
          0.030505836171429136,
          0.050522861217138344,
          0.09051683388908421,
          0.10465953385427326,
          0.1340186527287887,
          0.18473702353720686,
          0.2622364966534607,
          0.34133563845007486,
          0.3921841022598525,
          0.4267602239484572,
          0.45879832084631067,
          0.4797880094792683,
          0.5051150635777425,
          0.5308394930471108,
          0.5536603921991504
         ],
         "b": [
          0.9680308809376412,
          0.946966229035821,
          0.904705695065889,
          0.889016925421568,
          0.856641409561563,
          0.7987672501250178,
          0.7083045428176209,
          0.6105388286647682,
          0.5362760628810208,
          0.47997231468396506,
          0.4267068048077512,
          0.3892482895122915,
          0.3504536895499848,
          0.31161788552390046,
          0.2796120441840338
         ],
         "c": [
          0.0014632828909296556,
          0.0025109097470406394,
          0.004777471045026625,
          0.006323540724158709,
          0.009339937709648322,
          0.01649572633777539,
          0.02945896052891843,
          0.04812553288515708,
          0.07153983485912672,
          0.09326746136757778,
          0.11449487434593825,
          0.13096370100844026,
          0.14443124687227266,
          0.1575426214289887,
          0.1667275636168159
         ],
         "line": {
          "color": "grey",
          "width": 0.25
         },
         "marker": {
          "color": "silver",
          "line": {
           "color": "black",
           "width": 0
          },
          "opacity": 0.9,
          "size": 6
         },
         "mode": "lines+text",
         "name": "MLT",
         "showlegend": false,
         "subplot": "ternary",
         "text": [
          "",
          "",
          "",
          "",
          "",
          "",
          "",
          "",
          "",
          "",
          "",
          "",
          "",
          "",
          ""
         ],
         "textfont": {
          "color": "black",
          "size": 2.045738867747767
         },
         "type": "scatterternary"
        },
        {
         "a": [
          0.030505836171429136,
          0.050522861217138344,
          0.09051683388908421,
          0.10465953385427326,
          0.1340186527287887
         ],
         "b": [
          0.9680308809376412,
          0.946966229035821,
          0.904705695065889,
          0.889016925421568,
          0.856641409561563
         ],
         "c": [
          0.0014632828909296556,
          0.0025109097470406394,
          0.004777471045026625,
          0.006323540724158709,
          0.009339937709648322
         ],
         "line": {
          "color": "grey",
          "width": 0.25
         },
         "marker": {
          "color": "silver",
          "line": {
           "color": "black",
           "width": 0
          },
          "opacity": 0.9,
          "size": 6
         },
         "mode": "lines+text",
         "name": "MLT",
         "showlegend": false,
         "subplot": "ternary",
         "text": [
          "",
          "",
          "",
          "",
          "",
          "",
          "",
          "",
          "",
          "",
          "",
          "",
          "",
          "",
          ""
         ],
         "textfont": {
          "color": "black",
          "size": 2.045738867747767
         },
         "type": "scatterternary"
        },
        {
         "a": [
          0,
          0,
          0,
          0,
          0,
          0,
          0,
          0,
          0,
          0,
          0,
          0,
          0,
          0,
          0
         ],
         "b": [
          0,
          0,
          0,
          0,
          0,
          0,
          0,
          0,
          0,
          0,
          0,
          0,
          0,
          0,
          0
         ],
         "c": [
          0,
          0,
          0,
          0,
          0,
          0,
          0,
          0,
          0,
          0,
          0,
          0,
          0,
          0,
          0
         ],
         "line": {
          "color": "grey",
          "width": 0.25
         },
         "marker": {
          "color": "silver",
          "line": {
           "color": "black",
           "width": 0
          },
          "opacity": 0.9,
          "size": 6
         },
         "mode": "lines+text",
         "name": "MHL",
         "showlegend": false,
         "subplot": "ternary",
         "text": [
          "",
          "",
          "",
          "",
          "",
          "",
          "",
          "",
          "",
          "",
          "",
          "",
          "",
          "",
          ""
         ],
         "textfont": {
          "color": "black",
          "size": 2.3694187025678044
         },
         "type": "scatterternary"
        },
        {
         "a": [
          0,
          0,
          0,
          0,
          0
         ],
         "b": [
          0,
          0,
          0,
          0,
          0
         ],
         "c": [
          0,
          0,
          0,
          0,
          0
         ],
         "line": {
          "color": "grey",
          "width": 0.25
         },
         "marker": {
          "color": "silver",
          "line": {
           "color": "black",
           "width": 0
          },
          "opacity": 0.9,
          "size": 6
         },
         "mode": "lines+text",
         "name": "MHL",
         "showlegend": false,
         "subplot": "ternary",
         "text": [
          "",
          "",
          "",
          "",
          "",
          "",
          "",
          "",
          "",
          "",
          "",
          "",
          "",
          "",
          ""
         ],
         "textfont": {
          "color": "black",
          "size": 2.3694187025678044
         },
         "type": "scatterternary"
        },
        {
         "a": [
          0.09786015945694301,
          0.1693942152805248,
          0.3306077197806824,
          0.380254041690406,
          0.4015430924329046,
          0.4031921931156806,
          0.3651253056085932,
          0.30680795302177866,
          0.2573291244172871,
          0.23149080286711785,
          0.2117744881956264,
          0.21306491061048716,
          0.22849529049890704,
          0.2520398068905305,
          0.27198614631349827
         ],
         "b": [
          0.8972705478757141,
          0.8219380361361728,
          0.6512620714957161,
          0.5925435249833145,
          0.5700802011182249,
          0.5559275007864374,
          0.575168218220203,
          0.6064794398713044,
          0.6274233392826417,
          0.6227478594611525,
          0.6066250703581169,
          0.5725198992053651,
          0.5365615379235105,
          0.49527441130846533,
          0.45467673238422074
         ],
         "c": [
          0.004869292667342754,
          0.008667748583302408,
          0.018130208723601667,
          0.027202433326279668,
          0.028376706448870512,
          0.04088030609788197,
          0.05970647617120364,
          0.08671260710691713,
          0.11524753630007112,
          0.14576133767172972,
          0.18160044144625662,
          0.2144151901841477,
          0.23494317157758254,
          0.2526857818010042,
          0.27333712130228105
         ],
         "line": {
          "color": "grey",
          "width": 0.25
         },
         "marker": {
          "color": "silver",
          "line": {
           "color": "black",
           "width": 0
          },
          "opacity": 0.9,
          "size": 6
         },
         "mode": "lines+text",
         "name": "MRT",
         "showlegend": false,
         "subplot": "ternary",
         "text": [
          "",
          "",
          "",
          "",
          "",
          "",
          "",
          "",
          "",
          "",
          "",
          "",
          "",
          "",
          ""
         ],
         "textfont": {
          "color": "black",
          "size": 3.486140953879629
         },
         "type": "scatterternary"
        },
        {
         "a": [
          0.09786015945694301,
          0.1693942152805248,
          0.3306077197806824,
          0.380254041690406,
          0.4015430924329046
         ],
         "b": [
          0.8972705478757141,
          0.8219380361361728,
          0.6512620714957161,
          0.5925435249833145,
          0.5700802011182249
         ],
         "c": [
          0.004869292667342754,
          0.008667748583302408,
          0.018130208723601667,
          0.027202433326279668,
          0.028376706448870512
         ],
         "line": {
          "color": "grey",
          "width": 0.25
         },
         "marker": {
          "color": "silver",
          "line": {
           "color": "black",
           "width": 0
          },
          "opacity": 0.9,
          "size": 6
         },
         "mode": "lines+text",
         "name": "MRT",
         "showlegend": false,
         "subplot": "ternary",
         "text": [
          "",
          "",
          "",
          "",
          "",
          "",
          "",
          "",
          "",
          "",
          "",
          "",
          "",
          "",
          ""
         ],
         "textfont": {
          "color": "black",
          "size": 3.486140953879629
         },
         "type": "scatterternary"
        },
        {
         "a": [
          0.03494144173548495,
          0.09012576307327641,
          0.21746853150542508,
          0.27186259951315306,
          0.38565677120464587,
          0.4779190155495081,
          0.4283189854332562,
          0.30943251759070706,
          0.19014352585577923,
          0.11906067861810796,
          0.07373771224212182,
          0.05303303316027867,
          0.0398096017362828,
          0.034143855425790855,
          0.029280806126781897
         ],
         "b": [
          0.9633138434044187,
          0.8976974807493804,
          0.7619619388452893,
          0.7099779742365361,
          0.5837266584717222,
          0.47100182696611187,
          0.49599591186558417,
          0.5752323196871163,
          0.636932153243533,
          0.6577633787464059,
          0.6521475018681725,
          0.6476354137773215,
          0.6366950817601437,
          0.6268866879369923,
          0.6057321880455584
         ],
         "c": [
          0.0017447148600964052,
          0.012176756177343293,
          0.02056952964928558,
          0.018159426250310806,
          0.030616570323631798,
          0.05107915748438009,
          0.07568510270115963,
          0.11533516272217656,
          0.17292432090068768,
          0.22317594263548612,
          0.27411478588970567,
          0.2993315530623998,
          0.3234953165035735,
          0.33896945663721667,
          0.3649870058276597
         ],
         "line": {
          "color": "grey",
          "width": 0.25
         },
         "marker": {
          "color": "silver",
          "line": {
           "color": "black",
           "width": 0
          },
          "opacity": 0.9,
          "size": 6
         },
         "mode": "lines+text",
         "name": "MUS",
         "showlegend": false,
         "subplot": "ternary",
         "text": [
          "",
          "",
          "",
          "",
          "",
          "",
          "",
          "",
          "",
          "",
          "",
          "",
          "",
          "",
          ""
         ],
         "textfont": {
          "color": "black",
          "size": 2.5195267890895936
         },
         "type": "scatterternary"
        },
        {
         "a": [
          0.03494144173548495,
          0.09012576307327641,
          0.21746853150542508,
          0.27186259951315306,
          0.38565677120464587
         ],
         "b": [
          0.9633138434044187,
          0.8976974807493804,
          0.7619619388452893,
          0.7099779742365361,
          0.5837266584717222
         ],
         "c": [
          0.0017447148600964052,
          0.012176756177343293,
          0.02056952964928558,
          0.018159426250310806,
          0.030616570323631798
         ],
         "line": {
          "color": "grey",
          "width": 0.25
         },
         "marker": {
          "color": "silver",
          "line": {
           "color": "black",
           "width": 0
          },
          "opacity": 0.9,
          "size": 6
         },
         "mode": "lines+text",
         "name": "MUS",
         "showlegend": false,
         "subplot": "ternary",
         "text": [
          "",
          "",
          "",
          "",
          "",
          "",
          "",
          "",
          "",
          "",
          "",
          "",
          "",
          "",
          ""
         ],
         "textfont": {
          "color": "black",
          "size": 2.5195267890895936
         },
         "type": "scatterternary"
        },
        {
         "a": [
          0.9098903299797317,
          0.8916985749998594,
          0.8556539410039097,
          0.8308467969594122,
          0.8230527448108453,
          0.8083716155713133,
          0.7888322163753989,
          0.7568713966784506,
          0.721705647523642,
          0.6803689412120426,
          0.637172079998031,
          0.5989418312522394,
          0.5580177273862291,
          0.5418928095894869,
          0.5491370941090119
         ],
         "b": [
          0.045662398414260286,
          0.057566192305612975,
          0.08768936646111562,
          0.10729573177025101,
          0.10607713686720525,
          0.10570128004741527,
          0.11137749505328522,
          0.12860045955182844,
          0.14705434930404254,
          0.1685835554629178,
          0.18686063592530702,
          0.19946381206731048,
          0.20828009353181748,
          0.20053327980379532,
          0.17639783111870927
         ],
         "c": [
          0.04444727160600775,
          0.05073523269452774,
          0.05665669253497453,
          0.06185747127033689,
          0.07087011832194942,
          0.08592710438127135,
          0.09979028857131576,
          0.11452814376972105,
          0.13124000317231554,
          0.1510475033250396,
          0.17596728407666185,
          0.20159435668045017,
          0.23370217908195345,
          0.2575739106067178,
          0.27446507477227877
         ],
         "line": {
          "color": "grey",
          "width": 0.25
         },
         "marker": {
          "color": "dodgerblue",
          "line": {
           "color": "black",
           "width": 0
          },
          "opacity": 0.9,
          "size": 6
         },
         "mode": "lines+text",
         "name": "MEX",
         "showlegend": false,
         "subplot": "ternary",
         "text": [
          "",
          "",
          "",
          "",
          "",
          "",
          "",
          "",
          "",
          "",
          "",
          "",
          "",
          "",
          ""
         ],
         "textfont": {
          "color": "black",
          "size": 10.46556588674239
         },
         "type": "scatterternary"
        },
        {
         "a": [
          0.9098903299797317,
          0.8916985749998594,
          0.8556539410039097,
          0.8308467969594122,
          0.8230527448108453
         ],
         "b": [
          0.045662398414260286,
          0.057566192305612975,
          0.08768936646111562,
          0.10729573177025101,
          0.10607713686720525
         ],
         "c": [
          0.04444727160600775,
          0.05073523269452774,
          0.05665669253497453,
          0.06185747127033689,
          0.07087011832194942
         ],
         "line": {
          "color": "grey",
          "width": 0.25
         },
         "marker": {
          "color": "dodgerblue",
          "line": {
           "color": "black",
           "width": 0
          },
          "opacity": 0.9,
          "size": 6
         },
         "mode": "lines+text",
         "name": "MEX",
         "showlegend": false,
         "subplot": "ternary",
         "text": [
          "",
          "",
          "",
          "",
          "",
          "",
          "",
          "",
          "",
          "",
          "",
          "",
          "",
          "",
          ""
         ],
         "textfont": {
          "color": "black",
          "size": 10.46556588674239
         },
         "type": "scatterternary"
        },
        {
         "a": [
          0,
          0,
          0,
          0,
          0,
          0,
          0,
          0,
          0,
          0,
          0,
          0,
          0,
          0,
          0
         ],
         "b": [
          0,
          0,
          0,
          0,
          0,
          0,
          0,
          0,
          0,
          0,
          0,
          0,
          0,
          0,
          0
         ],
         "c": [
          0,
          0,
          0,
          0,
          0,
          0,
          0,
          0,
          0,
          0,
          0,
          0,
          0,
          0,
          0
         ],
         "line": {
          "color": "grey",
          "width": 0.25
         },
         "marker": {
          "color": "silver",
          "line": {
           "color": "black",
           "width": 0
          },
          "opacity": 0.9,
          "size": 6
         },
         "mode": "lines+text",
         "name": "FSM",
         "showlegend": false,
         "subplot": "ternary",
         "text": [
          "",
          "",
          "",
          "",
          "",
          "",
          "",
          "",
          "",
          "",
          "",
          "",
          "",
          "",
          ""
         ],
         "textfont": {
          "color": "black",
          "size": 2.14616661805037
         },
         "type": "scatterternary"
        },
        {
         "a": [
          0,
          0,
          0,
          0,
          0
         ],
         "b": [
          0,
          0,
          0,
          0,
          0
         ],
         "c": [
          0,
          0,
          0,
          0,
          0
         ],
         "line": {
          "color": "grey",
          "width": 0.25
         },
         "marker": {
          "color": "silver",
          "line": {
           "color": "black",
           "width": 0
          },
          "opacity": 0.9,
          "size": 6
         },
         "mode": "lines+text",
         "name": "FSM",
         "showlegend": false,
         "subplot": "ternary",
         "text": [
          "",
          "",
          "",
          "",
          "",
          "",
          "",
          "",
          "",
          "",
          "",
          "",
          "",
          "",
          ""
         ],
         "textfont": {
          "color": "black",
          "size": 2.14616661805037
         },
         "type": "scatterternary"
        },
        {
         "a": [
          0.024293525504491213,
          0.05178281409133535,
          0.1113861696080379,
          0.13155169269865577,
          0.16375073809148677,
          0.22522580634961395,
          0.33148657231301576,
          0.45707421324894987,
          0.5575711640073667,
          0.6097705563057985,
          0.6278155408773872,
          0.6262646684616534,
          0.6180642151464331,
          0.6083081876170966,
          0.5981518616440462
         ],
         "b": [
          0.9745410185811296,
          0.9457050040558991,
          0.8829924526245567,
          0.8612465145684332,
          0.8263627595749221,
          0.7583933984270804,
          0.6386815333636827,
          0.49162699565458357,
          0.3634920969294263,
          0.28603234198724237,
          0.24459898408098477,
          0.23228612434817816,
          0.23015797290252707,
          0.23666732188762699,
          0.24526820765131316
         ],
         "c": [
          0.0011654559143790175,
          0.0025121818527655978,
          0.005621377767405101,
          0.007201792732911032,
          0.009886502333591065,
          0.016380795223305603,
          0.029831894323301283,
          0.05129879109646655,
          0.07893673906320675,
          0.10419710170695916,
          0.1275854750416281,
          0.14144920719016849,
          0.1517778119510398,
          0.15502449049527642,
          0.1565799307046407
         ],
         "line": {
          "color": "grey",
          "width": 0.25
         },
         "marker": {
          "color": "silver",
          "line": {
           "color": "black",
           "width": 0
          },
          "opacity": 0.9,
          "size": 6
         },
         "mode": "lines+text",
         "name": "MDA",
         "showlegend": false,
         "subplot": "ternary",
         "text": [
          "",
          "",
          "",
          "",
          "",
          "",
          "",
          "",
          "",
          "",
          "",
          "",
          "",
          "",
          ""
         ],
         "textfont": {
          "color": "black",
          "size": 3.1517992461487987
         },
         "type": "scatterternary"
        },
        {
         "a": [
          0.024293525504491213,
          0.05178281409133535,
          0.1113861696080379,
          0.13155169269865577,
          0.16375073809148677
         ],
         "b": [
          0.9745410185811296,
          0.9457050040558991,
          0.8829924526245567,
          0.8612465145684332,
          0.8263627595749221
         ],
         "c": [
          0.0011654559143790175,
          0.0025121818527655978,
          0.005621377767405101,
          0.007201792732911032,
          0.009886502333591065
         ],
         "line": {
          "color": "grey",
          "width": 0.25
         },
         "marker": {
          "color": "silver",
          "line": {
           "color": "black",
           "width": 0
          },
          "opacity": 0.9,
          "size": 6
         },
         "mode": "lines+text",
         "name": "MDA",
         "showlegend": false,
         "subplot": "ternary",
         "text": [
          "",
          "",
          "",
          "",
          "",
          "",
          "",
          "",
          "",
          "",
          "",
          "",
          "",
          "",
          ""
         ],
         "textfont": {
          "color": "black",
          "size": 3.1517992461487987
         },
         "type": "scatterternary"
        },
        {
         "a": [
          0,
          0,
          0,
          0,
          0,
          0,
          0,
          0,
          0,
          0,
          0,
          0,
          0,
          0,
          0
         ],
         "b": [
          0,
          0,
          0,
          0,
          0,
          0,
          0,
          0,
          0,
          0,
          0,
          0,
          0,
          0,
          0
         ],
         "c": [
          0,
          0,
          0,
          0,
          0,
          0,
          0,
          0,
          0,
          0,
          0,
          0,
          0,
          0,
          0
         ],
         "line": {
          "color": "grey",
          "width": 0.25
         },
         "marker": {
          "color": "silver",
          "line": {
           "color": "black",
           "width": 0
          },
          "opacity": 0.9,
          "size": 6
         },
         "mode": "lines+text",
         "name": "MCO",
         "showlegend": false,
         "subplot": "ternary",
         "text": [
          "",
          "",
          "",
          "",
          "",
          "",
          "",
          "",
          "",
          "",
          "",
          "",
          "",
          "",
          ""
         ],
         "textfont": {
          "color": "black",
          "size": 2.3694187025678044
         },
         "type": "scatterternary"
        },
        {
         "a": [
          0,
          0,
          0,
          0,
          0
         ],
         "b": [
          0,
          0,
          0,
          0,
          0
         ],
         "c": [
          0,
          0,
          0,
          0,
          0
         ],
         "line": {
          "color": "grey",
          "width": 0.25
         },
         "marker": {
          "color": "silver",
          "line": {
           "color": "black",
           "width": 0
          },
          "opacity": 0.9,
          "size": 6
         },
         "mode": "lines+text",
         "name": "MCO",
         "showlegend": false,
         "subplot": "ternary",
         "text": [
          "",
          "",
          "",
          "",
          "",
          "",
          "",
          "",
          "",
          "",
          "",
          "",
          "",
          "",
          ""
         ],
         "textfont": {
          "color": "black",
          "size": 2.3694187025678044
         },
         "type": "scatterternary"
        },
        {
         "a": [
          0.02591877099693523,
          0.027902180289476386,
          0.04000975215819297,
          0.035494093678344135,
          0.03600088401462591,
          0.04802544608367495,
          0.07814647321464886,
          0.14630364547023705,
          0.27277903321038705,
          0.4603878044897594,
          0.6655285196018434,
          0.6768878380126535,
          0.6691791709205314,
          0.6600595911967708,
          0.6503531396174413
         ],
         "b": [
          0.9727104636655852,
          0.9702638849310173,
          0.9567565683354904,
          0.9602393122427477,
          0.957529481375725,
          0.9401809876307851,
          0.8981510389288371,
          0.803174188850866,
          0.6212462170770506,
          0.35589228207221624,
          0.08529195868383006,
          0.08797148986142028,
          0.10269878591319047,
          0.11678749512169076,
          0.12232572655900036
         ],
         "c": [
          0.001370765337479648,
          0.0018339347795062126,
          0.0032336795063167187,
          0.0042665940789081026,
          0.006469634609648878,
          0.011793566285539837,
          0.023702487856513986,
          0.05052216567889689,
          0.10597474971256224,
          0.18371991343802432,
          0.24917952171432653,
          0.2351406721259262,
          0.2281220431662782,
          0.2231529136815384,
          0.22732113382355845
         ],
         "line": {
          "color": "grey",
          "width": 0.25
         },
         "marker": {
          "color": "silver",
          "line": {
           "color": "black",
           "width": 0
          },
          "opacity": 0.9,
          "size": 6
         },
         "mode": "lines+text",
         "name": "MNG",
         "showlegend": false,
         "subplot": "ternary",
         "text": [
          "",
          "",
          "",
          "",
          "",
          "",
          "",
          "",
          "",
          "",
          "",
          "",
          "",
          "",
          ""
         ],
         "textfont": {
          "color": "black",
          "size": 3.1987061571709243
         },
         "type": "scatterternary"
        },
        {
         "a": [
          0.02591877099693523,
          0.027902180289476386,
          0.04000975215819297,
          0.035494093678344135,
          0.03600088401462591
         ],
         "b": [
          0.9727104636655852,
          0.9702638849310173,
          0.9567565683354904,
          0.9602393122427477,
          0.957529481375725
         ],
         "c": [
          0.001370765337479648,
          0.0018339347795062126,
          0.0032336795063167187,
          0.0042665940789081026,
          0.006469634609648878
         ],
         "line": {
          "color": "grey",
          "width": 0.25
         },
         "marker": {
          "color": "silver",
          "line": {
           "color": "black",
           "width": 0
          },
          "opacity": 0.9,
          "size": 6
         },
         "mode": "lines+text",
         "name": "MNG",
         "showlegend": false,
         "subplot": "ternary",
         "text": [
          "",
          "",
          "",
          "",
          "",
          "",
          "",
          "",
          "",
          "",
          "",
          "",
          "",
          "",
          ""
         ],
         "textfont": {
          "color": "black",
          "size": 3.1987061571709243
         },
         "type": "scatterternary"
        },
        {
         "a": [
          0.027269520860867102,
          0.05284749922007243,
          0.10608919545286793,
          0.12362262987580815,
          0.15626511459041498,
          0.21904820986604367,
          0.32431426745377573,
          0.44782272020536384,
          0.5492142615278732,
          0.605222401220661,
          0.6316034070043054,
          0.6314488248878971,
          0.6259967593896805,
          0.6198234345498868,
          0.612080411284911
         ],
         "b": [
          0.9714278004544876,
          0.94457724785257,
          0.8886205542079596,
          0.8696644238859021,
          0.8343659081236855,
          0.764968613888941,
          0.6461770523673983,
          0.5008812500603035,
          0.37063718451401034,
          0.2873201271521772,
          0.23416764373460264,
          0.2180178504732876,
          0.2102279518774612,
          0.21101887198172106,
          0.21709539225393865
         ],
         "c": [
          0.0013026786846452609,
          0.002575252927357618,
          0.005290250339172457,
          0.006712946238289815,
          0.009368977285899466,
          0.01598317624501521,
          0.029508680178825818,
          0.05129602973433275,
          0.08014855395811636,
          0.10745747162716189,
          0.13422894926109205,
          0.15053332463881536,
          0.1637752887328583,
          0.16915769346839216,
          0.17082419646115032
         ],
         "line": {
          "color": "grey",
          "width": 0.25
         },
         "marker": {
          "color": "silver",
          "line": {
           "color": "black",
           "width": 0
          },
          "opacity": 0.9,
          "size": 6
         },
         "mode": "lines+text",
         "name": "MNE",
         "showlegend": false,
         "subplot": "ternary",
         "text": [
          "",
          "",
          "",
          "",
          "",
          "",
          "",
          "",
          "",
          "",
          "",
          "",
          "",
          "",
          ""
         ],
         "textfont": {
          "color": "black",
          "size": 2.138260299613347
         },
         "type": "scatterternary"
        },
        {
         "a": [
          0.027269520860867102,
          0.05284749922007243,
          0.10608919545286793,
          0.12362262987580815,
          0.15626511459041498
         ],
         "b": [
          0.9714278004544876,
          0.94457724785257,
          0.8886205542079596,
          0.8696644238859021,
          0.8343659081236855
         ],
         "c": [
          0.0013026786846452609,
          0.002575252927357618,
          0.005290250339172457,
          0.006712946238289815,
          0.009368977285899466
         ],
         "line": {
          "color": "grey",
          "width": 0.25
         },
         "marker": {
          "color": "silver",
          "line": {
           "color": "black",
           "width": 0
          },
          "opacity": 0.9,
          "size": 6
         },
         "mode": "lines+text",
         "name": "MNE",
         "showlegend": false,
         "subplot": "ternary",
         "text": [
          "",
          "",
          "",
          "",
          "",
          "",
          "",
          "",
          "",
          "",
          "",
          "",
          "",
          "",
          ""
         ],
         "textfont": {
          "color": "black",
          "size": 2.138260299613347
         },
         "type": "scatterternary"
        },
        {
         "a": [
          0.023915928731544606,
          0.051524368609236516,
          0.1105768929022747,
          0.13600822067697343,
          0.17322801088046624,
          0.2525792811575084,
          0.3815920807986508,
          0.5443879104757084,
          0.6436092645417526,
          0.6791851534162016,
          0.6908117938290855,
          0.6913208605484878,
          0.6907874827720449,
          0.6908245373012238,
          0.6871724536605354
         ],
         "b": [
          0.9740857622975189,
          0.9450559942452628,
          0.8811265661142775,
          0.8526312500105917,
          0.8130397622040466,
          0.7252326673971314,
          0.5760361539870833,
          0.3747041194320823,
          0.22447845614799425,
          0.14633863815960813,
          0.10425046938327964,
          0.09653875762349907,
          0.09497331774200461,
          0.09648402606356743,
          0.1039323725759298
         ],
         "c": [
          0.001998308970936324,
          0.003419637145500665,
          0.008296540983447759,
          0.01136052931243494,
          0.013732226915487304,
          0.02218805144536024,
          0.042371765214265764,
          0.08090797009220935,
          0.13191227931025307,
          0.1744762084241903,
          0.20493773678763494,
          0.21214038182801304,
          0.21423919948595044,
          0.21269143663520865,
          0.2088951737635347
         ],
         "line": {
          "color": "grey",
          "width": 0.25
         },
         "marker": {
          "color": "silver",
          "line": {
           "color": "black",
           "width": 0
          },
          "opacity": 0.9,
          "size": 6
         },
         "mode": "lines+text",
         "name": "MAR",
         "showlegend": false,
         "subplot": "ternary",
         "text": [
          "",
          "",
          "",
          "",
          "",
          "",
          "",
          "",
          "",
          "",
          "",
          "",
          "",
          "",
          ""
         ],
         "textfont": {
          "color": "black",
          "size": 6.772983051365272
         },
         "type": "scatterternary"
        },
        {
         "a": [
          0.023915928731544606,
          0.051524368609236516,
          0.1105768929022747,
          0.13600822067697343,
          0.17322801088046624
         ],
         "b": [
          0.9740857622975189,
          0.9450559942452628,
          0.8811265661142775,
          0.8526312500105917,
          0.8130397622040466
         ],
         "c": [
          0.001998308970936324,
          0.003419637145500665,
          0.008296540983447759,
          0.01136052931243494,
          0.013732226915487304
         ],
         "line": {
          "color": "grey",
          "width": 0.25
         },
         "marker": {
          "color": "silver",
          "line": {
           "color": "black",
           "width": 0
          },
          "opacity": 0.9,
          "size": 6
         },
         "mode": "lines+text",
         "name": "MAR",
         "showlegend": false,
         "subplot": "ternary",
         "text": [
          "",
          "",
          "",
          "",
          "",
          "",
          "",
          "",
          "",
          "",
          "",
          "",
          "",
          "",
          ""
         ],
         "textfont": {
          "color": "black",
          "size": 6.772983051365272
         },
         "type": "scatterternary"
        },
        {
         "a": [
          0.050101020451907,
          0.1079221810462511,
          0.2401955399319794,
          0.2947972061611724,
          0.31492114388324144,
          0.3176486094648281,
          0.26904569942364825,
          0.19887408957438577,
          0.13968926463919418,
          0.1079479114186336,
          0.08428754111569992,
          0.07782658713372094,
          0.07237220107432027,
          0.06449920186774763,
          0.06752382892870856
         ],
         "b": [
          0.9468267727626416,
          0.8841447649588744,
          0.7456590430580492,
          0.685234086526097,
          0.6570893160772601,
          0.6508797772762567,
          0.6976437688196507,
          0.7656250263890948,
          0.807730531323132,
          0.8066661896082389,
          0.7763174747541588,
          0.7453503777527196,
          0.6998774974547007,
          0.652446542908808,
          0.6180192076837424
         ],
         "c": [
          0.0030722067854513243,
          0.007933053994874347,
          0.014145417009971337,
          0.019968707312730656,
          0.027989540039498495,
          0.03147161325891522,
          0.033310531756701116,
          0.0355008840365193,
          0.05258020403767366,
          0.0853858989731275,
          0.13939498413014115,
          0.17682303511355957,
          0.22775030147097905,
          0.2830542552234443,
          0.31445696338754914
         ],
         "line": {
          "color": "grey",
          "width": 0.25
         },
         "marker": {
          "color": "silver",
          "line": {
           "color": "black",
           "width": 0
          },
          "opacity": 0.9,
          "size": 6
         },
         "mode": "lines+text",
         "name": "MOZ",
         "showlegend": false,
         "subplot": "ternary",
         "text": [
          "",
          "",
          "",
          "",
          "",
          "",
          "",
          "",
          "",
          "",
          "",
          "",
          "",
          "",
          ""
         ],
         "textfont": {
          "color": "black",
          "size": 6.389009958822078
         },
         "type": "scatterternary"
        },
        {
         "a": [
          0.050101020451907,
          0.1079221810462511,
          0.2401955399319794,
          0.2947972061611724,
          0.31492114388324144
         ],
         "b": [
          0.9468267727626416,
          0.8841447649588744,
          0.7456590430580492,
          0.685234086526097,
          0.6570893160772601
         ],
         "c": [
          0.0030722067854513243,
          0.007933053994874347,
          0.014145417009971337,
          0.019968707312730656,
          0.027989540039498495
         ],
         "line": {
          "color": "grey",
          "width": 0.25
         },
         "marker": {
          "color": "silver",
          "line": {
           "color": "black",
           "width": 0
          },
          "opacity": 0.9,
          "size": 6
         },
         "mode": "lines+text",
         "name": "MOZ",
         "showlegend": false,
         "subplot": "ternary",
         "text": [
          "",
          "",
          "",
          "",
          "",
          "",
          "",
          "",
          "",
          "",
          "",
          "",
          "",
          "",
          ""
         ],
         "textfont": {
          "color": "black",
          "size": 6.389009958822078
         },
         "type": "scatterternary"
        },
        {
         "a": [
          0.12288507277900061,
          0.2164232356177585,
          0.40572493304250196,
          0.4105187535939601,
          0.4233481034414397,
          0.45281886760288176,
          0.44858676276371284,
          0.39453224992689545,
          0.32702175613609186,
          0.28825245325708426,
          0.2545748163930533,
          0.2368700071415327,
          0.2239711838635755,
          0.21480192004644882,
          0.20656798772085205
         ],
         "b": [
          0.8711267404613232,
          0.7729224758728286,
          0.5739490381122524,
          0.5666107408219944,
          0.5466666014108205,
          0.5025262938761454,
          0.4809751958283517,
          0.500327992826557,
          0.5324547277628383,
          0.5424888113926012,
          0.5505360610606189,
          0.5439538974402273,
          0.5367791849985383,
          0.5277351719643392,
          0.5180488015540876
         ],
         "c": [
          0.005988186759676484,
          0.01065428850941276,
          0.02032602884524559,
          0.022870505584045554,
          0.029985295147739906,
          0.04465483852097289,
          0.07043804140793535,
          0.10513975724654767,
          0.14052351610107014,
          0.16925873535031435,
          0.19488912254632798,
          0.21917609541824,
          0.2392496311378862,
          0.2574629079892119,
          0.27538321072506033
         ],
         "line": {
          "color": "grey",
          "width": 0.25
         },
         "marker": {
          "color": "silver",
          "line": {
           "color": "black",
           "width": 0
          },
          "opacity": 0.9,
          "size": 6
         },
         "mode": "lines+text",
         "name": "MMR",
         "showlegend": false,
         "subplot": "ternary",
         "text": [
          "",
          "",
          "",
          "",
          "",
          "",
          "",
          "",
          "",
          "",
          "",
          "",
          "",
          "",
          ""
         ],
         "textfont": {
          "color": "black",
          "size": 7.714168393468986
         },
         "type": "scatterternary"
        },
        {
         "a": [
          0.12288507277900061,
          0.2164232356177585,
          0.40572493304250196,
          0.4105187535939601,
          0.4233481034414397
         ],
         "b": [
          0.8711267404613232,
          0.7729224758728286,
          0.5739490381122524,
          0.5666107408219944,
          0.5466666014108205
         ],
         "c": [
          0.005988186759676484,
          0.01065428850941276,
          0.02032602884524559,
          0.022870505584045554,
          0.029985295147739906
         ],
         "line": {
          "color": "grey",
          "width": 0.25
         },
         "marker": {
          "color": "silver",
          "line": {
           "color": "black",
           "width": 0
          },
          "opacity": 0.9,
          "size": 6
         },
         "mode": "lines+text",
         "name": "MMR",
         "showlegend": false,
         "subplot": "ternary",
         "text": [
          "",
          "",
          "",
          "",
          "",
          "",
          "",
          "",
          "",
          "",
          "",
          "",
          "",
          "",
          ""
         ],
         "textfont": {
          "color": "black",
          "size": 7.714168393468986
         },
         "type": "scatterternary"
        },
        {
         "a": [
          0.31099404556629384,
          0.28108307172775826,
          0.2788216452836616,
          0.2633321755169173,
          0.265617769521906,
          0.2583513680607171,
          0.26797815455023655,
          0.2754893794579039,
          0.29338709996348716,
          0.3354721860373627,
          0.40199675587865324,
          0.47905664886935856,
          0.5449683343164754,
          0.5629864126927494,
          0.5660089188260363
         ],
         "b": [
          0.6737522728445655,
          0.7035306956153079,
          0.7040047743406241,
          0.7161070558733185,
          0.7130660695714045,
          0.7180302811886106,
          0.7029673557361401,
          0.6853438476435745,
          0.6447051530767214,
          0.5838598337154297,
          0.49803866650105855,
          0.40376921685604145,
          0.31039448214199983,
          0.2629190000847789,
          0.24132881438074663
         ],
         "c": [
          0.015253681589140684,
          0.015386232656933846,
          0.01717358037571444,
          0.020560768609764257,
          0.021316160906689335,
          0.023618350750672375,
          0.029054489713623396,
          0.039166772898521204,
          0.061907746959791475,
          0.08066798024720756,
          0.09996457762028839,
          0.11717413427459987,
          0.14463718354152486,
          0.17409458722247162,
          0.19266226679321707
         ],
         "line": {
          "color": "grey",
          "width": 0.25
         },
         "marker": {
          "color": "silver",
          "line": {
           "color": "black",
           "width": 0
          },
          "opacity": 0.9,
          "size": 6
         },
         "mode": "lines+text",
         "name": "NAM",
         "showlegend": false,
         "subplot": "ternary",
         "text": [
          "",
          "",
          "",
          "",
          "",
          "",
          "",
          "",
          "",
          "",
          "",
          "",
          "",
          "",
          ""
         ],
         "textfont": {
          "color": "black",
          "size": 2.9652119986605396
         },
         "type": "scatterternary"
        },
        {
         "a": [
          0.31099404556629384,
          0.28108307172775826,
          0.2788216452836616,
          0.2633321755169173,
          0.265617769521906
         ],
         "b": [
          0.6737522728445655,
          0.7035306956153079,
          0.7040047743406241,
          0.7161070558733185,
          0.7130660695714045
         ],
         "c": [
          0.015253681589140684,
          0.015386232656933846,
          0.01717358037571444,
          0.020560768609764257,
          0.021316160906689335
         ],
         "line": {
          "color": "grey",
          "width": 0.25
         },
         "marker": {
          "color": "silver",
          "line": {
           "color": "black",
           "width": 0
          },
          "opacity": 0.9,
          "size": 6
         },
         "mode": "lines+text",
         "name": "NAM",
         "showlegend": false,
         "subplot": "ternary",
         "text": [
          "",
          "",
          "",
          "",
          "",
          "",
          "",
          "",
          "",
          "",
          "",
          "",
          "",
          "",
          ""
         ],
         "textfont": {
          "color": "black",
          "size": 2.9652119986605396
         },
         "type": "scatterternary"
        },
        {
         "a": [
          0,
          0,
          0,
          0,
          0,
          0,
          0,
          0,
          0,
          0,
          0,
          0,
          0,
          0,
          0
         ],
         "b": [
          0,
          0,
          0,
          0,
          0,
          0,
          0,
          0,
          0,
          0,
          0,
          0,
          0,
          0,
          0
         ],
         "c": [
          0,
          0,
          0,
          0,
          0,
          0,
          0,
          0,
          0,
          0,
          0,
          0,
          0,
          0,
          0
         ],
         "line": {
          "color": "grey",
          "width": 0.25
         },
         "marker": {
          "color": "silver",
          "line": {
           "color": "black",
           "width": 0
          },
          "opacity": 0.9,
          "size": 6
         },
         "mode": "lines+text",
         "name": "NRU",
         "showlegend": false,
         "subplot": "ternary",
         "text": [
          "",
          "",
          "",
          "",
          "",
          "",
          "",
          "",
          "",
          "",
          "",
          "",
          "",
          "",
          ""
         ],
         "textfont": {
          "color": "black",
          "size": 2.3694187025678044
         },
         "type": "scatterternary"
        },
        {
         "a": [
          0,
          0,
          0,
          0,
          0
         ],
         "b": [
          0,
          0,
          0,
          0,
          0
         ],
         "c": [
          0,
          0,
          0,
          0,
          0
         ],
         "line": {
          "color": "grey",
          "width": 0.25
         },
         "marker": {
          "color": "silver",
          "line": {
           "color": "black",
           "width": 0
          },
          "opacity": 0.9,
          "size": 6
         },
         "mode": "lines+text",
         "name": "NRU",
         "showlegend": false,
         "subplot": "ternary",
         "text": [
          "",
          "",
          "",
          "",
          "",
          "",
          "",
          "",
          "",
          "",
          "",
          "",
          "",
          "",
          ""
         ],
         "textfont": {
          "color": "black",
          "size": 2.3694187025678044
         },
         "type": "scatterternary"
        },
        {
         "a": [
          0.014108093036656551,
          0.038548592251417164,
          0.09831018811378596,
          0.12192522286876734,
          0.15568232591245065,
          0.2297628653081129,
          0.34582791084867165,
          0.4396710285848016,
          0.44899941943502647,
          0.4095385771408986,
          0.3521336121390729,
          0.341737483790574,
          0.3662277469235766,
          0.39711025585470006,
          0.42711464486068484
         ],
         "b": [
          0.9851751195087869,
          0.9595058607686967,
          0.896529298373715,
          0.8706745784364697,
          0.8318976018612603,
          0.7390046756047672,
          0.5843913876196059,
          0.4212225523960257,
          0.34086352866657715,
          0.32470523458607103,
          0.33860657158545276,
          0.3239868733268497,
          0.28485560157962586,
          0.24396727890323786,
          0.2085582517472049
         ],
         "c": [
          0.0007167874545566151,
          0.0019455469798864828,
          0.005160513512499091,
          0.007400198694763108,
          0.012420072226289044,
          0.031232459087119867,
          0.06978070153172264,
          0.1391064190191727,
          0.21013705189839624,
          0.2657561882730305,
          0.3092598162754742,
          0.3342756428825763,
          0.3489166514967976,
          0.35892246524206195,
          0.3643271033921102
         ],
         "line": {
          "color": "grey",
          "width": 0.25
         },
         "marker": {
          "color": "silver",
          "line": {
           "color": "black",
           "width": 0
          },
          "opacity": 0.9,
          "size": 6
         },
         "mode": "lines+text",
         "name": "NPL",
         "showlegend": false,
         "subplot": "ternary",
         "text": [
          "",
          "",
          "",
          "",
          "",
          "",
          "",
          "",
          "",
          "",
          "",
          "",
          "",
          "",
          ""
         ],
         "textfont": {
          "color": "black",
          "size": 6.2661205856073146
         },
         "type": "scatterternary"
        },
        {
         "a": [
          0.014108093036656551,
          0.038548592251417164,
          0.09831018811378596,
          0.12192522286876734,
          0.15568232591245065
         ],
         "b": [
          0.9851751195087869,
          0.9595058607686967,
          0.896529298373715,
          0.8706745784364697,
          0.8318976018612603
         ],
         "c": [
          0.0007167874545566151,
          0.0019455469798864828,
          0.005160513512499091,
          0.007400198694763108,
          0.012420072226289044
         ],
         "line": {
          "color": "grey",
          "width": 0.25
         },
         "marker": {
          "color": "silver",
          "line": {
           "color": "black",
           "width": 0
          },
          "opacity": 0.9,
          "size": 6
         },
         "mode": "lines+text",
         "name": "NPL",
         "showlegend": false,
         "subplot": "ternary",
         "text": [
          "",
          "",
          "",
          "",
          "",
          "",
          "",
          "",
          "",
          "",
          "",
          "",
          "",
          "",
          ""
         ],
         "textfont": {
          "color": "black",
          "size": 6.2661205856073146
         },
         "type": "scatterternary"
        },
        {
         "a": [
          0.06271897555477872,
          0.08113401103420807,
          0.13691289418570832,
          0.1290396323548858,
          0.14170234404649568,
          0.1840745806029484,
          0.24439117162927795,
          0.28558466684313233,
          0.27288866236806736,
          0.24898943946291072,
          0.23199713622358778,
          0.23016961154805607,
          0.24473364130765232,
          0.27320760456774273,
          0.32002764390068866
         ],
         "b": [
          0.9342727825223307,
          0.9148184707179002,
          0.8558819479711777,
          0.8628141385645548,
          0.8464135183415207,
          0.7931631199080715,
          0.7159155771138984,
          0.6521343820767619,
          0.6431155078833356,
          0.651297293170171,
          0.6568927665904559,
          0.6406808659544229,
          0.6175834430487062,
          0.5712298518506367,
          0.5129289236622108
         ],
         "c": [
          0.003008241922890626,
          0.004047518247891627,
          0.00720515784311407,
          0.008146229080559281,
          0.01188413761198355,
          0.022762299488979985,
          0.03969325125682384,
          0.06228095108010577,
          0.0839958297485972,
          0.09971326736691834,
          0.11111009718595644,
          0.12914952249752104,
          0.13768291564364146,
          0.15556254358162053,
          0.1670434324371006
         ],
         "line": {
          "color": "grey",
          "width": 0.25
         },
         "marker": {
          "color": "silver",
          "line": {
           "color": "black",
           "width": 0
          },
          "opacity": 0.9,
          "size": 6
         },
         "mode": "lines+text",
         "name": "NLD",
         "showlegend": false,
         "subplot": "ternary",
         "text": [
          "",
          "",
          "",
          "",
          "",
          "",
          "",
          "",
          "",
          "",
          "",
          "",
          "",
          "",
          ""
         ],
         "textfont": {
          "color": "black",
          "size": 5.293176127037234
         },
         "type": "scatterternary"
        },
        {
         "a": [
          0.06271897555477872,
          0.08113401103420807,
          0.13691289418570832,
          0.1290396323548858,
          0.14170234404649568
         ],
         "b": [
          0.9342727825223307,
          0.9148184707179002,
          0.8558819479711777,
          0.8628141385645548,
          0.8464135183415207
         ],
         "c": [
          0.003008241922890626,
          0.004047518247891627,
          0.00720515784311407,
          0.008146229080559281,
          0.01188413761198355
         ],
         "line": {
          "color": "grey",
          "width": 0.25
         },
         "marker": {
          "color": "silver",
          "line": {
           "color": "black",
           "width": 0
          },
          "opacity": 0.9,
          "size": 6
         },
         "mode": "lines+text",
         "name": "NLD",
         "showlegend": false,
         "subplot": "ternary",
         "text": [
          "",
          "",
          "",
          "",
          "",
          "",
          "",
          "",
          "",
          "",
          "",
          "",
          "",
          "",
          ""
         ],
         "textfont": {
          "color": "black",
          "size": 5.293176127037234
         },
         "type": "scatterternary"
        },
        {
         "a": [
          0.011759264286435374,
          0.014101639431443486,
          0.02082419124617275,
          0.018362536990353368,
          0.021719161741713674,
          0.035057964463578985,
          0.06748847285325452,
          0.13705085810020234,
          0.2278848989593818,
          0.2621981245102678,
          0.24604227535979403,
          0.23209674033270786,
          0.2260655364510231,
          0.23400985689741977,
          0.25719938571561407
         ],
         "b": [
          0.9876753831923907,
          0.9851504792051873,
          0.9779795275180412,
          0.9804886167443547,
          0.9767574113085848,
          0.9615388117274659,
          0.923377504963077,
          0.8364364126103887,
          0.7086656258100338,
          0.6380817275738008,
          0.6357098963919361,
          0.6424420720389652,
          0.6352303369900273,
          0.6051530148452386,
          0.5558991049375213
         ],
         "c": [
          0.0005653525211739008,
          0.0007478813633691611,
          0.0011962812357860348,
          0.0011488462652919234,
          0.0015234269497014265,
          0.003403223808955182,
          0.009134022183668416,
          0.026512729289408968,
          0.06344947523058454,
          0.0997201479159313,
          0.11824782824827004,
          0.1254611876283269,
          0.1387041265589496,
          0.16083712825734164,
          0.18690150934686464
         ],
         "line": {
          "color": "grey",
          "width": 0.25
         },
         "marker": {
          "color": "silver",
          "line": {
           "color": "black",
           "width": 0
          },
          "opacity": 0.9,
          "size": 6
         },
         "mode": "lines+text",
         "name": "NZL",
         "showlegend": false,
         "subplot": "ternary",
         "text": [
          "",
          "",
          "",
          "",
          "",
          "",
          "",
          "",
          "",
          "",
          "",
          "",
          "",
          "",
          ""
         ],
         "textfont": {
          "color": "black",
          "size": 3.6124140524664283
         },
         "type": "scatterternary"
        },
        {
         "a": [
          0.011759264286435374,
          0.014101639431443486,
          0.02082419124617275,
          0.018362536990353368,
          0.021719161741713674
         ],
         "b": [
          0.9876753831923907,
          0.9851504792051873,
          0.9779795275180412,
          0.9804886167443547,
          0.9767574113085848
         ],
         "c": [
          0.0005653525211739008,
          0.0007478813633691611,
          0.0011962812357860348,
          0.0011488462652919234,
          0.0015234269497014265
         ],
         "line": {
          "color": "grey",
          "width": 0.25
         },
         "marker": {
          "color": "silver",
          "line": {
           "color": "black",
           "width": 0
          },
          "opacity": 0.9,
          "size": 6
         },
         "mode": "lines+text",
         "name": "NZL",
         "showlegend": false,
         "subplot": "ternary",
         "text": [
          "",
          "",
          "",
          "",
          "",
          "",
          "",
          "",
          "",
          "",
          "",
          "",
          "",
          "",
          ""
         ],
         "textfont": {
          "color": "black",
          "size": 3.6124140524664283
         },
         "type": "scatterternary"
        },
        {
         "a": [
          0.0680254303178304,
          0.111242710415771,
          0.17976031991858823,
          0.20465743483746648,
          0.23978198343702742,
          0.27983355442108726,
          0.29724924120476753,
          0.2755506477585854,
          0.26774545738902017,
          0.2663209412121232,
          0.26683788784174267,
          0.27950977295341317,
          0.30745183772947476,
          0.338801464113499,
          0.3686978425640948
         ],
         "b": [
          0.9284565514256238,
          0.8829600846341972,
          0.8063968413767977,
          0.7553909266534933,
          0.6657123243537997,
          0.5558172275143575,
          0.45633694459382323,
          0.3914312024051254,
          0.37548858556893033,
          0.3499788595917101,
          0.3230934322734651,
          0.2937113394761607,
          0.2575698361671507,
          0.23115717105983843,
          0.21160241380328523
         ],
         "c": [
          0.0035180182565459446,
          0.005797204950031665,
          0.01384283870461411,
          0.03995163850904032,
          0.09450569220917289,
          0.16434921806455516,
          0.24641381420140915,
          0.3330181498362891,
          0.3567659570420495,
          0.38370019919616666,
          0.4100686798847921,
          0.42677888757042615,
          0.4349783261033745,
          0.43004136482666255,
          0.41969974363261986
         ],
         "line": {
          "color": "grey",
          "width": 0.25
         },
         "marker": {
          "color": "silver",
          "line": {
           "color": "black",
           "width": 0
          },
          "opacity": 0.9,
          "size": 6
         },
         "mode": "lines+text",
         "name": "NIC",
         "showlegend": false,
         "subplot": "ternary",
         "text": [
          "",
          "",
          "",
          "",
          "",
          "",
          "",
          "",
          "",
          "",
          "",
          "",
          "",
          "",
          ""
         ],
         "textfont": {
          "color": "black",
          "size": 3.9323621119761847
         },
         "type": "scatterternary"
        },
        {
         "a": [
          0.0680254303178304,
          0.111242710415771,
          0.17976031991858823,
          0.20465743483746648,
          0.23978198343702742
         ],
         "b": [
          0.9284565514256238,
          0.8829600846341972,
          0.8063968413767977,
          0.7553909266534933,
          0.6657123243537997
         ],
         "c": [
          0.0035180182565459446,
          0.005797204950031665,
          0.01384283870461411,
          0.03995163850904032,
          0.09450569220917289
         ],
         "line": {
          "color": "grey",
          "width": 0.25
         },
         "marker": {
          "color": "silver",
          "line": {
           "color": "black",
           "width": 0
          },
          "opacity": 0.9,
          "size": 6
         },
         "mode": "lines+text",
         "name": "NIC",
         "showlegend": false,
         "subplot": "ternary",
         "text": [
          "",
          "",
          "",
          "",
          "",
          "",
          "",
          "",
          "",
          "",
          "",
          "",
          "",
          "",
          ""
         ],
         "textfont": {
          "color": "black",
          "size": 3.9323621119761847
         },
         "type": "scatterternary"
        },
        {
         "a": [
          0.04093498666750304,
          0.09161466837564537,
          0.20621606741852994,
          0.27639053336914476,
          0.3219131598594036,
          0.35993168769592815,
          0.3564867291427318,
          0.3078859141645016,
          0.24667956597766752,
          0.20525633216963732,
          0.16409008266354114,
          0.1493759040830038,
          0.13962016460713286,
          0.14000872632367206,
          0.14433705966405247
         ],
         "b": [
          0.9569810414352066,
          0.9031529558473294,
          0.7806155830941046,
          0.702511411662596,
          0.6509286098565871,
          0.5981270880784695,
          0.581432192374384,
          0.6040644961917249,
          0.6390329973610686,
          0.6535839832366737,
          0.660494251708692,
          0.64453711899166,
          0.6323268327019634,
          0.6108293885427133,
          0.587289864448559
         ],
         "c": [
          0.0020839718972904078,
          0.005232375777025069,
          0.01316834948736538,
          0.021098054968259214,
          0.0271582302840093,
          0.04194122422560241,
          0.062081078482884224,
          0.08804958964377353,
          0.11428743666126381,
          0.1411596845936891,
          0.17541566562776678,
          0.20608697692533628,
          0.22805300269090373,
          0.2491618851336146,
          0.26837307588738857
         ],
         "line": {
          "color": "grey",
          "width": 0.25
         },
         "marker": {
          "color": "silver",
          "line": {
           "color": "black",
           "width": 0
          },
          "opacity": 0.9,
          "size": 6
         },
         "mode": "lines+text",
         "name": "NER",
         "showlegend": false,
         "subplot": "ternary",
         "text": [
          "",
          "",
          "",
          "",
          "",
          "",
          "",
          "",
          "",
          "",
          "",
          "",
          "",
          "",
          ""
         ],
         "textfont": {
          "color": "black",
          "size": 5.872617016044634
         },
         "type": "scatterternary"
        },
        {
         "a": [
          0.04093498666750304,
          0.09161466837564537,
          0.20621606741852994,
          0.27639053336914476,
          0.3219131598594036
         ],
         "b": [
          0.9569810414352066,
          0.9031529558473294,
          0.7806155830941046,
          0.702511411662596,
          0.6509286098565871
         ],
         "c": [
          0.0020839718972904078,
          0.005232375777025069,
          0.01316834948736538,
          0.021098054968259214,
          0.0271582302840093
         ],
         "line": {
          "color": "grey",
          "width": 0.25
         },
         "marker": {
          "color": "silver",
          "line": {
           "color": "black",
           "width": 0
          },
          "opacity": 0.9,
          "size": 6
         },
         "mode": "lines+text",
         "name": "NER",
         "showlegend": false,
         "subplot": "ternary",
         "text": [
          "",
          "",
          "",
          "",
          "",
          "",
          "",
          "",
          "",
          "",
          "",
          "",
          "",
          "",
          ""
         ],
         "textfont": {
          "color": "black",
          "size": 5.872617016044634
         },
         "type": "scatterternary"
        },
        {
         "a": [
          0.033942358138708245,
          0.08177880900094549,
          0.19435582198582133,
          0.25272179154214947,
          0.30092227950947553,
          0.3639895022677007,
          0.401066769079558,
          0.38053369027414485,
          0.3284131397369044,
          0.2806045961513403,
          0.2333709758830545,
          0.2136344802013307,
          0.2000595564909775,
          0.19695531389117357,
          0.19752082141569552
         ],
         "b": [
          0.9632507681258872,
          0.9104134153677468,
          0.7874935003790422,
          0.7298092387812595,
          0.6761753831993879,
          0.6011239477201108,
          0.5502448930522551,
          0.5634372405836949,
          0.6109299723674356,
          0.6484149351755388,
          0.6715034626908798,
          0.6644078943786665,
          0.6453581148972974,
          0.6194570273620231,
          0.5909243633980719
         ],
         "c": [
          0.0028068737354047437,
          0.007807775631307511,
          0.01815067763513648,
          0.01746896967659093,
          0.02290233729113665,
          0.03488655001218867,
          0.04868833786818685,
          0.05602906914215999,
          0.06065688789566007,
          0.07098046867312086,
          0.09512556142606543,
          0.1219576254200028,
          0.15458232861172502,
          0.1835876587468034,
          0.21155481518623265
         ],
         "line": {
          "color": "grey",
          "width": 0.25
         },
         "marker": {
          "color": "purple",
          "line": {
           "color": "black",
           "width": 0
          },
          "opacity": 0.9,
          "size": 6
         },
         "mode": "lines+text",
         "name": "NGA",
         "showlegend": false,
         "subplot": "ternary",
         "text": [
          "",
          "",
          "",
          "",
          "",
          "",
          "",
          "",
          "",
          "",
          "",
          "",
          "",
          "",
          ""
         ],
         "textfont": {
          "color": "black",
          "size": 12.531824558071703
         },
         "type": "scatterternary"
        },
        {
         "a": [
          0.033942358138708245,
          0.08177880900094549,
          0.19435582198582133,
          0.25272179154214947,
          0.30092227950947553
         ],
         "b": [
          0.9632507681258872,
          0.9104134153677468,
          0.7874935003790422,
          0.7298092387812595,
          0.6761753831993879
         ],
         "c": [
          0.0028068737354047437,
          0.007807775631307511,
          0.01815067763513648,
          0.01746896967659093,
          0.02290233729113665
         ],
         "line": {
          "color": "grey",
          "width": 0.25
         },
         "marker": {
          "color": "purple",
          "line": {
           "color": "black",
           "width": 0
          },
          "opacity": 0.9,
          "size": 6
         },
         "mode": "lines+text",
         "name": "NGA",
         "showlegend": false,
         "subplot": "ternary",
         "text": [
          "",
          "",
          "",
          "",
          "",
          "",
          "",
          "",
          "",
          "",
          "",
          "",
          "",
          "",
          ""
         ],
         "textfont": {
          "color": "black",
          "size": 12.531824558071703
         },
         "type": "scatterternary"
        },
        {
         "a": [
          0,
          0,
          0,
          0,
          0,
          0,
          0,
          0,
          0,
          0,
          0,
          0,
          0,
          0,
          0
         ],
         "b": [
          0,
          0,
          0,
          0,
          0,
          0,
          0,
          0,
          0,
          0,
          0,
          0,
          0,
          0,
          0
         ],
         "c": [
          0,
          0,
          0,
          0,
          0,
          0,
          0,
          0,
          0,
          0,
          0,
          0,
          0,
          0,
          0
         ],
         "line": {
          "color": "grey",
          "width": 0.25
         },
         "marker": {
          "color": "silver",
          "line": {
           "color": "black",
           "width": 0
          },
          "opacity": 0.9,
          "size": 6
         },
         "mode": "lines+text",
         "name": "NIU",
         "showlegend": false,
         "subplot": "ternary",
         "text": [
          "",
          "",
          "",
          "",
          "",
          "",
          "",
          "",
          "",
          "",
          "",
          "",
          "",
          "",
          ""
         ],
         "textfont": {
          "color": "black",
          "size": 2.3694187025678044
         },
         "type": "scatterternary"
        },
        {
         "a": [
          0,
          0,
          0,
          0,
          0
         ],
         "b": [
          0,
          0,
          0,
          0,
          0
         ],
         "c": [
          0,
          0,
          0,
          0,
          0
         ],
         "line": {
          "color": "grey",
          "width": 0.25
         },
         "marker": {
          "color": "silver",
          "line": {
           "color": "black",
           "width": 0
          },
          "opacity": 0.9,
          "size": 6
         },
         "mode": "lines+text",
         "name": "NIU",
         "showlegend": false,
         "subplot": "ternary",
         "text": [
          "",
          "",
          "",
          "",
          "",
          "",
          "",
          "",
          "",
          "",
          "",
          "",
          "",
          "",
          ""
         ],
         "textfont": {
          "color": "black",
          "size": 2.3694187025678044
         },
         "type": "scatterternary"
        },
        {
         "a": [
          0.060263637754782204,
          0.11501182853438785,
          0.23411482750158646,
          0.25523792149149066,
          0.29018804822051353,
          0.3722713445344655,
          0.49384311711233086,
          0.5989114743410096,
          0.6443548131814616,
          0.6472233623296172,
          0.6291755428826656,
          0.6196338591565916,
          0.6095842170551566,
          0.6045253443366999,
          0.5960436326203822
         ],
         "b": [
          0.9365388647165634,
          0.8786775143554115,
          0.7509583597927434,
          0.7245197774792225,
          0.6804502729978315,
          0.5848971122898238,
          0.44149853800534045,
          0.3073576364250456,
          0.2326207416616598,
          0.20798804248503966,
          0.21026607369084882,
          0.21468198140581124,
          0.221518015876612,
          0.22873877007595436,
          0.24021263052828548
         ],
         "c": [
          0.0031974975286543695,
          0.006310657110200625,
          0.01492681270567027,
          0.020242301029286924,
          0.029361678781655073,
          0.04283154317571092,
          0.06465834488232892,
          0.09373088923394482,
          0.1230244451568786,
          0.1447885951853431,
          0.1605583834264857,
          0.16568415943759718,
          0.16889776706823137,
          0.16673588558734598,
          0.16374373685133234
         ],
         "line": {
          "color": "grey",
          "width": 0.25
         },
         "marker": {
          "color": "silver",
          "line": {
           "color": "black",
           "width": 0
          },
          "opacity": 0.9,
          "size": 6
         },
         "mode": "lines+text",
         "name": "PRK",
         "showlegend": false,
         "subplot": "ternary",
         "text": [
          "",
          "",
          "",
          "",
          "",
          "",
          "",
          "",
          "",
          "",
          "",
          "",
          "",
          "",
          ""
         ],
         "textfont": {
          "color": "black",
          "size": 6.026587525616059
         },
         "type": "scatterternary"
        },
        {
         "a": [
          0.060263637754782204,
          0.11501182853438785,
          0.23411482750158646,
          0.25523792149149066,
          0.29018804822051353
         ],
         "b": [
          0.9365388647165634,
          0.8786775143554115,
          0.7509583597927434,
          0.7245197774792225,
          0.6804502729978315
         ],
         "c": [
          0.0031974975286543695,
          0.006310657110200625,
          0.01492681270567027,
          0.020242301029286924,
          0.029361678781655073
         ],
         "line": {
          "color": "grey",
          "width": 0.25
         },
         "marker": {
          "color": "silver",
          "line": {
           "color": "black",
           "width": 0
          },
          "opacity": 0.9,
          "size": 6
         },
         "mode": "lines+text",
         "name": "PRK",
         "showlegend": false,
         "subplot": "ternary",
         "text": [
          "",
          "",
          "",
          "",
          "",
          "",
          "",
          "",
          "",
          "",
          "",
          "",
          "",
          "",
          ""
         ],
         "textfont": {
          "color": "black",
          "size": 6.026587525616059
         },
         "type": "scatterternary"
        },
        {
         "a": [
          0.09272599208650686,
          0.10469390642984341,
          0.1631665589570428,
          0.13930582179557235,
          0.13701548890403986,
          0.16841816163110826,
          0.21398862438382482,
          0.2402764865406368,
          0.22112055610924006,
          0.1960796784990612,
          0.17981877967031137,
          0.17636541995124608,
          0.18375280609414948,
          0.20034227422704892,
          0.228881088921104
         ],
         "b": [
          0.9027974403589427,
          0.8899831273009251,
          0.827920088908633,
          0.8511283860596061,
          0.8500601393388794,
          0.8077867850677855,
          0.7456666493065996,
          0.699895904017808,
          0.7016043264939557,
          0.7145816453345716,
          0.7239604667115282,
          0.7142955882011761,
          0.7035904466389147,
          0.6728006598543448,
          0.6359780029230315
         ],
         "c": [
          0.004476567554550381,
          0.0053229662692314585,
          0.008913352134324311,
          0.009565792144821571,
          0.012924371757080801,
          0.02379505330110619,
          0.04034472630957543,
          0.059827609441555255,
          0.07727511739680415,
          0.08933867616636737,
          0.09622075361816043,
          0.109338991847578,
          0.11265674726693575,
          0.1268570659186064,
          0.13514090815586444
         ],
         "line": {
          "color": "grey",
          "width": 0.25
         },
         "marker": {
          "color": "silver",
          "line": {
           "color": "black",
           "width": 0
          },
          "opacity": 0.9,
          "size": 6
         },
         "mode": "lines+text",
         "name": "NOR",
         "showlegend": false,
         "subplot": "ternary",
         "text": [
          "",
          "",
          "",
          "",
          "",
          "",
          "",
          "",
          "",
          "",
          "",
          "",
          "",
          "",
          ""
         ],
         "textfont": {
          "color": "black",
          "size": 3.6820049490403735
         },
         "type": "scatterternary"
        },
        {
         "a": [
          0.09272599208650686,
          0.10469390642984341,
          0.1631665589570428,
          0.13930582179557235,
          0.13701548890403986
         ],
         "b": [
          0.9027974403589427,
          0.8899831273009251,
          0.827920088908633,
          0.8511283860596061,
          0.8500601393388794
         ],
         "c": [
          0.004476567554550381,
          0.0053229662692314585,
          0.008913352134324311,
          0.009565792144821571,
          0.012924371757080801
         ],
         "line": {
          "color": "grey",
          "width": 0.25
         },
         "marker": {
          "color": "silver",
          "line": {
           "color": "black",
           "width": 0
          },
          "opacity": 0.9,
          "size": 6
         },
         "mode": "lines+text",
         "name": "NOR",
         "showlegend": false,
         "subplot": "ternary",
         "text": [
          "",
          "",
          "",
          "",
          "",
          "",
          "",
          "",
          "",
          "",
          "",
          "",
          "",
          "",
          ""
         ],
         "textfont": {
          "color": "black",
          "size": 3.6820049490403735
         },
         "type": "scatterternary"
        },
        {
         "a": [
          0.12478594816315632,
          0.1320986003573667,
          0.2136447251996376,
          0.21142661988510392,
          0.2137498629882733,
          0.25523415582844183,
          0.32360763491699296,
          0.3340398395677768,
          0.26330339091361277,
          0.18910357449052514,
          0.1376012924744388,
          0.10401861537498193,
          0.08319127610644558,
          0.07294747213626813,
          0.061017150458104234
         ],
         "b": [
          0.8662028819241134,
          0.8570546160445254,
          0.7710694202006537,
          0.7734281164349267,
          0.7714839559943554,
          0.7219094297368718,
          0.6300375250861192,
          0.5920062380604476,
          0.6520489827647772,
          0.7137412911406673,
          0.7579808026814501,
          0.7633305420220078,
          0.7524889218452466,
          0.7424674318166913,
          0.7189295234598199
         ],
         "c": [
          0.009011169912730417,
          0.010846783598107824,
          0.01528585459970872,
          0.015145263679969453,
          0.014766181017371314,
          0.022856414434686334,
          0.04635483999688801,
          0.07395392237177574,
          0.08464762632161005,
          0.0971551343688073,
          0.10441790484411093,
          0.13265084260301024,
          0.16431980204830776,
          0.1845850960470404,
          0.22005332608207598
         ],
         "line": {
          "color": "grey",
          "width": 0.25
         },
         "marker": {
          "color": "silver",
          "line": {
           "color": "black",
           "width": 0
          },
          "opacity": 0.9,
          "size": 6
         },
         "mode": "lines+text",
         "name": "OMN",
         "showlegend": false,
         "subplot": "ternary",
         "text": [
          "",
          "",
          "",
          "",
          "",
          "",
          "",
          "",
          "",
          "",
          "",
          "",
          "",
          "",
          ""
         ],
         "textfont": {
          "color": "black",
          "size": 3.519002440895488
         },
         "type": "scatterternary"
        },
        {
         "a": [
          0.12478594816315632,
          0.1320986003573667,
          0.2136447251996376,
          0.21142661988510392,
          0.2137498629882733
         ],
         "b": [
          0.8662028819241134,
          0.8570546160445254,
          0.7710694202006537,
          0.7734281164349267,
          0.7714839559943554
         ],
         "c": [
          0.009011169912730417,
          0.010846783598107824,
          0.01528585459970872,
          0.015145263679969453,
          0.014766181017371314
         ],
         "line": {
          "color": "grey",
          "width": 0.25
         },
         "marker": {
          "color": "silver",
          "line": {
           "color": "black",
           "width": 0
          },
          "opacity": 0.9,
          "size": 6
         },
         "mode": "lines+text",
         "name": "OMN",
         "showlegend": false,
         "subplot": "ternary",
         "text": [
          "",
          "",
          "",
          "",
          "",
          "",
          "",
          "",
          "",
          "",
          "",
          "",
          "",
          "",
          ""
         ],
         "textfont": {
          "color": "black",
          "size": 3.519002440895488
         },
         "type": "scatterternary"
        },
        {
         "a": [
          0.02322020709362248,
          0.0577297513344157,
          0.14144803763557554,
          0.18082168891260497,
          0.22558301596907468,
          0.31096770698354115,
          0.4272217446881373,
          0.514176167450747,
          0.5342341809627703,
          0.5143141681083647,
          0.47227958666775455,
          0.4556820733885977,
          0.44597027146447177,
          0.43850643117802424,
          0.41600039352764856
         ],
         "b": [
          0.9756666852907174,
          0.939423521817534,
          0.8511170554542536,
          0.8086214285566575,
          0.7585116078665585,
          0.6552800076991047,
          0.5080160759565423,
          0.3785539879908531,
          0.3101006036205525,
          0.2832776409453161,
          0.27769459060089907,
          0.26084776972770035,
          0.24085713320620264,
          0.2261180938072669,
          0.22644647037590968
         ],
         "c": [
          0.0011131076156602282,
          0.0028467268480503244,
          0.007434906910170615,
          0.010556882530737416,
          0.015905376164366762,
          0.033752285317354046,
          0.06476217935532035,
          0.10726984455839983,
          0.15566521541667705,
          0.20240819094631923,
          0.2500258227313463,
          0.2834701568837019,
          0.3131725953293255,
          0.3353754750147089,
          0.3575531360964418
         ],
         "line": {
          "color": "grey",
          "width": 0.25
         },
         "marker": {
          "color": "silver",
          "line": {
           "color": "black",
           "width": 0
          },
          "opacity": 0.9,
          "size": 6
         },
         "mode": "lines+text",
         "name": "PAK",
         "showlegend": false,
         "subplot": "ternary",
         "text": [
          "",
          "",
          "",
          "",
          "",
          "",
          "",
          "",
          "",
          "",
          "",
          "",
          "",
          "",
          ""
         ],
         "textfont": {
          "color": "black",
          "size": 12.953535518440098
         },
         "type": "scatterternary"
        },
        {
         "a": [
          0.02322020709362248,
          0.0577297513344157,
          0.14144803763557554,
          0.18082168891260497,
          0.22558301596907468
         ],
         "b": [
          0.9756666852907174,
          0.939423521817534,
          0.8511170554542536,
          0.8086214285566575,
          0.7585116078665585
         ],
         "c": [
          0.0011131076156602282,
          0.0028467268480503244,
          0.007434906910170615,
          0.010556882530737416,
          0.015905376164366762
         ],
         "line": {
          "color": "grey",
          "width": 0.25
         },
         "marker": {
          "color": "silver",
          "line": {
           "color": "black",
           "width": 0
          },
          "opacity": 0.9,
          "size": 6
         },
         "mode": "lines+text",
         "name": "PAK",
         "showlegend": false,
         "subplot": "ternary",
         "text": [
          "",
          "",
          "",
          "",
          "",
          "",
          "",
          "",
          "",
          "",
          "",
          "",
          "",
          "",
          ""
         ],
         "textfont": {
          "color": "black",
          "size": 12.953535518440098
         },
         "type": "scatterternary"
        },
        {
         "a": [
          0,
          0,
          0,
          0,
          0,
          0,
          0,
          0,
          0,
          0,
          0,
          0,
          0,
          0,
          0
         ],
         "b": [
          0,
          0,
          0,
          0,
          0,
          0,
          0,
          0,
          0,
          0,
          0,
          0,
          0,
          0,
          0
         ],
         "c": [
          0,
          0,
          0,
          0,
          0,
          0,
          0,
          0,
          0,
          0,
          0,
          0,
          0,
          0,
          0
         ],
         "line": {
          "color": "grey",
          "width": 0.25
         },
         "marker": {
          "color": "silver",
          "line": {
           "color": "black",
           "width": 0
          },
          "opacity": 0.9,
          "size": 6
         },
         "mode": "lines+text",
         "name": "PLW",
         "showlegend": false,
         "subplot": "ternary",
         "text": [
          "",
          "",
          "",
          "",
          "",
          "",
          "",
          "",
          "",
          "",
          "",
          "",
          "",
          "",
          ""
         ],
         "textfont": {
          "color": "black",
          "size": 2.3694187025678044
         },
         "type": "scatterternary"
        },
        {
         "a": [
          0,
          0,
          0,
          0,
          0
         ],
         "b": [
          0,
          0,
          0,
          0,
          0
         ],
         "c": [
          0,
          0,
          0,
          0,
          0
         ],
         "line": {
          "color": "grey",
          "width": 0.25
         },
         "marker": {
          "color": "silver",
          "line": {
           "color": "black",
           "width": 0
          },
          "opacity": 0.9,
          "size": 6
         },
         "mode": "lines+text",
         "name": "PLW",
         "showlegend": false,
         "subplot": "ternary",
         "text": [
          "",
          "",
          "",
          "",
          "",
          "",
          "",
          "",
          "",
          "",
          "",
          "",
          "",
          "",
          ""
         ],
         "textfont": {
          "color": "black",
          "size": 2.3694187025678044
         },
         "type": "scatterternary"
        },
        {
         "a": [
          0,
          0,
          0,
          0,
          0,
          0,
          0,
          0,
          0,
          0,
          0,
          0,
          0,
          0,
          0
         ],
         "b": [
          0,
          0,
          0,
          0,
          0,
          0,
          0,
          0,
          0,
          0,
          0,
          0,
          0,
          0,
          0
         ],
         "c": [
          0,
          0,
          0,
          0,
          0,
          0,
          0,
          0,
          0,
          0,
          0,
          0,
          0,
          0,
          0
         ],
         "line": {
          "color": "grey",
          "width": 0.25
         },
         "marker": {
          "color": "silver",
          "line": {
           "color": "black",
           "width": 0
          },
          "opacity": 0.9,
          "size": 6
         },
         "mode": "lines+text",
         "name": "PSE",
         "showlegend": false,
         "subplot": "ternary",
         "text": [
          "",
          "",
          "",
          "",
          "",
          "",
          "",
          "",
          "",
          "",
          "",
          "",
          "",
          "",
          ""
         ],
         "textfont": {
          "color": "black",
          "size": 3.5989528383142892
         },
         "type": "scatterternary"
        },
        {
         "a": [
          0,
          0,
          0,
          0,
          0
         ],
         "b": [
          0,
          0,
          0,
          0,
          0
         ],
         "c": [
          0,
          0,
          0,
          0,
          0
         ],
         "line": {
          "color": "grey",
          "width": 0.25
         },
         "marker": {
          "color": "silver",
          "line": {
           "color": "black",
           "width": 0
          },
          "opacity": 0.9,
          "size": 6
         },
         "mode": "lines+text",
         "name": "PSE",
         "showlegend": false,
         "subplot": "ternary",
         "text": [
          "",
          "",
          "",
          "",
          "",
          "",
          "",
          "",
          "",
          "",
          "",
          "",
          "",
          "",
          ""
         ],
         "textfont": {
          "color": "black",
          "size": 3.5989528383142892
         },
         "type": "scatterternary"
        },
        {
         "a": [
          0.18531566768563146,
          0.31522220064307016,
          0.5047503279098806,
          0.5640299462251639,
          0.5874457489593882,
          0.5396768639290206,
          0.4223484287213258,
          0.30624124871623715,
          0.1965131266903528,
          0.13214229026301136,
          0.08442750455297365,
          0.05570313501225297,
          0.03849689770238003,
          0.03169930163720693,
          0.026946822791789234
         ],
         "b": [
          0.8055699328707028,
          0.6690432694989983,
          0.46720193063629106,
          0.3995842990859516,
          0.36825486318491163,
          0.40164174175429634,
          0.50959951036031,
          0.6092209942835918,
          0.6778904089339912,
          0.7039402187267872,
          0.693735251181152,
          0.6630898968921339,
          0.6359627285360878,
          0.6211870634582508,
          0.5999042578566923
         ],
         "c": [
          0.009114399443665724,
          0.015734529857931657,
          0.028047741453828278,
          0.03638575468888445,
          0.04429938785570036,
          0.05868139431668313,
          0.06805206091836435,
          0.0845377570001711,
          0.12559646437565605,
          0.16391749101020137,
          0.22183724426587434,
          0.28120696809561324,
          0.32554037376153205,
          0.3471136349045423,
          0.37314891935151834
         ],
         "line": {
          "color": "grey",
          "width": 0.25
         },
         "marker": {
          "color": "silver",
          "line": {
           "color": "black",
           "width": 0
          },
          "opacity": 0.9,
          "size": 6
         },
         "mode": "lines+text",
         "name": "PAN",
         "showlegend": false,
         "subplot": "ternary",
         "text": [
          "",
          "",
          "",
          "",
          "",
          "",
          "",
          "",
          "",
          "",
          "",
          "",
          "",
          "",
          ""
         ],
         "textfont": {
          "color": "black",
          "size": 3.4463914141634855
         },
         "type": "scatterternary"
        },
        {
         "a": [
          0.18531566768563146,
          0.31522220064307016,
          0.5047503279098806,
          0.5640299462251639,
          0.5874457489593882
         ],
         "b": [
          0.8055699328707028,
          0.6690432694989983,
          0.46720193063629106,
          0.3995842990859516,
          0.36825486318491163
         ],
         "c": [
          0.009114399443665724,
          0.015734529857931657,
          0.028047741453828278,
          0.03638575468888445,
          0.04429938785570036
         ],
         "line": {
          "color": "grey",
          "width": 0.25
         },
         "marker": {
          "color": "silver",
          "line": {
           "color": "black",
           "width": 0
          },
          "opacity": 0.9,
          "size": 6
         },
         "mode": "lines+text",
         "name": "PAN",
         "showlegend": false,
         "subplot": "ternary",
         "text": [
          "",
          "",
          "",
          "",
          "",
          "",
          "",
          "",
          "",
          "",
          "",
          "",
          "",
          "",
          ""
         ],
         "textfont": {
          "color": "black",
          "size": 3.4463914141634855
         },
         "type": "scatterternary"
        },
        {
         "a": [
          0.3913128453917843,
          0.4214978589355053,
          0.47397832341813656,
          0.4241313267728724,
          0.38814846451073365,
          0.3734721806183389,
          0.3668786972968657,
          0.3491373613111083,
          0.3352855416216963,
          0.35065299362710123,
          0.3542945645488628,
          0.3603853129740212,
          0.35812844925428355,
          0.35979897384049153,
          0.37185269666801957
         ],
         "b": [
          0.5899210674888056,
          0.5573060908561872,
          0.4995770404454142,
          0.5473598489861136,
          0.5854541682750775,
          0.5788551980378767,
          0.5579575831106853,
          0.5423286494235224,
          0.5260736495830018,
          0.48442370632825943,
          0.443383160938623,
          0.40015422492632596,
          0.36962338770610864,
          0.34272359157855276,
          0.31478186568982097
         ],
         "c": [
          0.01876608711940997,
          0.02119605020830741,
          0.026444636136449155,
          0.02850882424101398,
          0.026397367214189102,
          0.04767262134378449,
          0.07516371959244908,
          0.10853398926536914,
          0.13864080879530213,
          0.16492330004463945,
          0.2023222745125141,
          0.23946046209965274,
          0.27224816303960764,
          0.29747743458095577,
          0.31336543764215957
         ],
         "line": {
          "color": "grey",
          "width": 0.25
         },
         "marker": {
          "color": "silver",
          "line": {
           "color": "black",
           "width": 0
          },
          "opacity": 0.9,
          "size": 6
         },
         "mode": "lines+text",
         "name": "PNG",
         "showlegend": false,
         "subplot": "ternary",
         "text": [
          "",
          "",
          "",
          "",
          "",
          "",
          "",
          "",
          "",
          "",
          "",
          "",
          "",
          "",
          ""
         ],
         "textfont": {
          "color": "black",
          "size": 4.390984968977918
         },
         "type": "scatterternary"
        },
        {
         "a": [
          0.3913128453917843,
          0.4214978589355053,
          0.47397832341813656,
          0.4241313267728724,
          0.38814846451073365
         ],
         "b": [
          0.5899210674888056,
          0.5573060908561872,
          0.4995770404454142,
          0.5473598489861136,
          0.5854541682750775
         ],
         "c": [
          0.01876608711940997,
          0.02119605020830741,
          0.026444636136449155,
          0.02850882424101398,
          0.026397367214189102
         ],
         "line": {
          "color": "grey",
          "width": 0.25
         },
         "marker": {
          "color": "silver",
          "line": {
           "color": "black",
           "width": 0
          },
          "opacity": 0.9,
          "size": 6
         },
         "mode": "lines+text",
         "name": "PNG",
         "showlegend": false,
         "subplot": "ternary",
         "text": [
          "",
          "",
          "",
          "",
          "",
          "",
          "",
          "",
          "",
          "",
          "",
          "",
          "",
          "",
          ""
         ],
         "textfont": {
          "color": "black",
          "size": 4.390984968977918
         },
         "type": "scatterternary"
        },
        {
         "a": [
          0.03916327248343854,
          0.04571969736892188,
          0.07274532273920317,
          0.07178913368406598,
          0.08618842284439134,
          0.13477268492210548,
          0.22949493708121918,
          0.3785776566421651,
          0.5525690967374313,
          0.6720085044870693,
          0.6797246236261918,
          0.5978253086182622,
          0.49981217667565186,
          0.427920002230509,
          0.39492330846279566
         ],
         "b": [
          0.95892180026139,
          0.951960398871416,
          0.9231808773311491,
          0.923436708498698,
          0.9072624579052826,
          0.8534091751496434,
          0.7432612420103709,
          0.5605735087939425,
          0.3364986388201466,
          0.17671235492108076,
          0.14528917347176462,
          0.21579385480057225,
          0.29144958455253117,
          0.3232615426758386,
          0.3260441809982057
         ],
         "c": [
          0.0019149272551715706,
          0.0023199037596622206,
          0.004073799929647677,
          0.004774157817235957,
          0.0065491192503260905,
          0.011818139928251092,
          0.027243820908409863,
          0.06084883456389255,
          0.11093226444242224,
          0.15127914059185,
          0.17498620290204342,
          0.1863808365811655,
          0.20873823877181694,
          0.2488184550936524,
          0.2790325105389985
         ],
         "line": {
          "color": "grey",
          "width": 0.25
         },
         "marker": {
          "color": "silver",
          "line": {
           "color": "black",
           "width": 0
          },
          "opacity": 0.9,
          "size": 6
         },
         "mode": "lines+text",
         "name": "PRY",
         "showlegend": false,
         "subplot": "ternary",
         "text": [
          "",
          "",
          "",
          "",
          "",
          "",
          "",
          "",
          "",
          "",
          "",
          "",
          "",
          "",
          ""
         ],
         "textfont": {
          "color": "black",
          "size": 3.9083231430425562
         },
         "type": "scatterternary"
        },
        {
         "a": [
          0.03916327248343854,
          0.04571969736892188,
          0.07274532273920317,
          0.07178913368406598,
          0.08618842284439134
         ],
         "b": [
          0.95892180026139,
          0.951960398871416,
          0.9231808773311491,
          0.923436708498698,
          0.9072624579052826
         ],
         "c": [
          0.0019149272551715706,
          0.0023199037596622206,
          0.004073799929647677,
          0.004774157817235957,
          0.0065491192503260905
         ],
         "line": {
          "color": "grey",
          "width": 0.25
         },
         "marker": {
          "color": "silver",
          "line": {
           "color": "black",
           "width": 0
          },
          "opacity": 0.9,
          "size": 6
         },
         "mode": "lines+text",
         "name": "PRY",
         "showlegend": false,
         "subplot": "ternary",
         "text": [
          "",
          "",
          "",
          "",
          "",
          "",
          "",
          "",
          "",
          "",
          "",
          "",
          "",
          "",
          ""
         ],
         "textfont": {
          "color": "black",
          "size": 3.9083231430425562
         },
         "type": "scatterternary"
        },
        {
         "a": [
          0.170890930581267,
          0.24142882263426632,
          0.400196210838048,
          0.4453121777718035,
          0.5009244203101909,
          0.5860959757572296,
          0.6863714566917002,
          0.7543501460732309,
          0.7749431538001486,
          0.7748419655802352,
          0.7627707177660454,
          0.744933823037934,
          0.7232920437996223,
          0.7072506863672996,
          0.7006561640850835
         ],
         "b": [
          0.8207985962866869,
          0.746802724736934,
          0.5798492283585378,
          0.5299910277333154,
          0.4673770836070603,
          0.36802891283800176,
          0.24420485597983718,
          0.14636300229621832,
          0.09445593419375048,
          0.07271449072125612,
          0.06505181048553534,
          0.07151828058027822,
          0.08237207654621007,
          0.09167424488835485,
          0.09222918217317287
         ],
         "c": [
          0.008310473132045984,
          0.011768452628799653,
          0.019954560803413953,
          0.02469679449488099,
          0.03169849608274897,
          0.04587511140476862,
          0.06942368732846262,
          0.09928685163055079,
          0.13060091200610127,
          0.1524435436985086,
          0.1721774717484194,
          0.1835478963817877,
          0.19433587965416751,
          0.20107506874434547,
          0.20711465374174381
         ],
         "line": {
          "color": "grey",
          "width": 0.25
         },
         "marker": {
          "color": "silver",
          "line": {
           "color": "black",
           "width": 0
          },
          "opacity": 0.9,
          "size": 6
         },
         "mode": "lines+text",
         "name": "PER",
         "showlegend": false,
         "subplot": "ternary",
         "text": [
          "",
          "",
          "",
          "",
          "",
          "",
          "",
          "",
          "",
          "",
          "",
          "",
          "",
          "",
          ""
         ],
         "textfont": {
          "color": "black",
          "size": 6.551577480699147
         },
         "type": "scatterternary"
        },
        {
         "a": [
          0.170890930581267,
          0.24142882263426632,
          0.400196210838048,
          0.4453121777718035,
          0.5009244203101909
         ],
         "b": [
          0.8207985962866869,
          0.746802724736934,
          0.5798492283585378,
          0.5299910277333154,
          0.4673770836070603
         ],
         "c": [
          0.008310473132045984,
          0.011768452628799653,
          0.019954560803413953,
          0.02469679449488099,
          0.03169849608274897
         ],
         "line": {
          "color": "grey",
          "width": 0.25
         },
         "marker": {
          "color": "silver",
          "line": {
           "color": "black",
           "width": 0
          },
          "opacity": 0.9,
          "size": 6
         },
         "mode": "lines+text",
         "name": "PER",
         "showlegend": false,
         "subplot": "ternary",
         "text": [
          "",
          "",
          "",
          "",
          "",
          "",
          "",
          "",
          "",
          "",
          "",
          "",
          "",
          "",
          ""
         ],
         "textfont": {
          "color": "black",
          "size": 6.551577480699147
         },
         "type": "scatterternary"
        },
        {
         "a": [
          0.0352704323181491,
          0.07609444894090615,
          0.16930106426059754,
          0.2067675929509128,
          0.24691469445544503,
          0.32414573473666225,
          0.44389274078102536,
          0.5759586348309765,
          0.6769640186045034,
          0.7297050727848847,
          0.7530756293393923,
          0.7463291678235102,
          0.7368649121351667,
          0.7310522561812823,
          0.7256895596038095
         ],
         "b": [
          0.9630204897553302,
          0.9202305044675374,
          0.8221916455886069,
          0.7818868548148192,
          0.7380577130959823,
          0.6516707871820426,
          0.514384716323829,
          0.3561706030031787,
          0.22242969674689672,
          0.13935181486086703,
          0.08626593899642036,
          0.07863135267744346,
          0.07584102568954455,
          0.07606755157358783,
          0.07796709320442637
         ],
         "c": [
          0.0017090779265208126,
          0.003675046591556428,
          0.008507290150795517,
          0.011345552234267827,
          0.015027592448572694,
          0.024183478081294965,
          0.041722542895145806,
          0.06787076216584467,
          0.1006062846485997,
          0.1309431123542482,
          0.16065843166418717,
          0.1750394794990464,
          0.18729406217528866,
          0.19288019224512992,
          0.19634334719176405
         ],
         "line": {
          "color": "grey",
          "width": 0.25
         },
         "marker": {
          "color": "silver",
          "line": {
           "color": "black",
           "width": 0
          },
          "opacity": 0.9,
          "size": 6
         },
         "mode": "lines+text",
         "name": "PHL",
         "showlegend": false,
         "subplot": "ternary",
         "text": [
          "",
          "",
          "",
          "",
          "",
          "",
          "",
          "",
          "",
          "",
          "",
          "",
          "",
          "",
          ""
         ],
         "textfont": {
          "color": "black",
          "size": 10.018099089927368
         },
         "type": "scatterternary"
        },
        {
         "a": [
          0.0352704323181491,
          0.07609444894090615,
          0.16930106426059754,
          0.2067675929509128,
          0.24691469445544503
         ],
         "b": [
          0.9630204897553302,
          0.9202305044675374,
          0.8221916455886069,
          0.7818868548148192,
          0.7380577130959823
         ],
         "c": [
          0.0017090779265208126,
          0.003675046591556428,
          0.008507290150795517,
          0.011345552234267827,
          0.015027592448572694
         ],
         "line": {
          "color": "grey",
          "width": 0.25
         },
         "marker": {
          "color": "silver",
          "line": {
           "color": "black",
           "width": 0
          },
          "opacity": 0.9,
          "size": 6
         },
         "mode": "lines+text",
         "name": "PHL",
         "showlegend": false,
         "subplot": "ternary",
         "text": [
          "",
          "",
          "",
          "",
          "",
          "",
          "",
          "",
          "",
          "",
          "",
          "",
          "",
          "",
          ""
         ],
         "textfont": {
          "color": "black",
          "size": 10.018099089927368
         },
         "type": "scatterternary"
        },
        {
         "a": [
          0.09105659800507397,
          0.11840584263114123,
          0.18848579605843888,
          0.17660758650106934,
          0.19122478335193,
          0.24357955933304407,
          0.30783170369152385,
          0.3461858969364793,
          0.34112459783149685,
          0.31580367503981527,
          0.29181030849297096,
          0.284044303872031,
          0.28179867295019706,
          0.28761581650194085,
          0.30680142859142945
         ],
         "b": [
          0.9044960031141887,
          0.8756383417795683,
          0.8018345443353384,
          0.8130870495247443,
          0.795091083509549,
          0.7311434024952514,
          0.6469130171157474,
          0.5767023267411509,
          0.5450815290341169,
          0.5328762888608398,
          0.524293563529524,
          0.5016559268172855,
          0.4733475150103926,
          0.4416040603994699,
          0.40442626695836537
         ],
         "c": [
          0.0044473988807373155,
          0.005955815589290538,
          0.009679659606222708,
          0.010305363974186412,
          0.01368413313852095,
          0.02527703817170459,
          0.0452552791927286,
          0.07711177632237003,
          0.1137938731343862,
          0.15132003609934502,
          0.1838961279775052,
          0.2142997693106835,
          0.24485381203941028,
          0.2707801230985891,
          0.28877230445020513
         ],
         "line": {
          "color": "grey",
          "width": 0.25
         },
         "marker": {
          "color": "silver",
          "line": {
           "color": "black",
           "width": 0
          },
          "opacity": 0.9,
          "size": 6
         },
         "mode": "lines+text",
         "name": "POL",
         "showlegend": false,
         "subplot": "ternary",
         "text": [
          "",
          "",
          "",
          "",
          "",
          "",
          "",
          "",
          "",
          "",
          "",
          "",
          "",
          "",
          ""
         ],
         "textfont": {
          "color": "black",
          "size": 6.896863500271991
         },
         "type": "scatterternary"
        },
        {
         "a": [
          0.09105659800507397,
          0.11840584263114123,
          0.18848579605843888,
          0.17660758650106934,
          0.19122478335193
         ],
         "b": [
          0.9044960031141887,
          0.8756383417795683,
          0.8018345443353384,
          0.8130870495247443,
          0.795091083509549
         ],
         "c": [
          0.0044473988807373155,
          0.005955815589290538,
          0.009679659606222708,
          0.010305363974186412,
          0.01368413313852095
         ],
         "line": {
          "color": "grey",
          "width": 0.25
         },
         "marker": {
          "color": "silver",
          "line": {
           "color": "black",
           "width": 0
          },
          "opacity": 0.9,
          "size": 6
         },
         "mode": "lines+text",
         "name": "POL",
         "showlegend": false,
         "subplot": "ternary",
         "text": [
          "",
          "",
          "",
          "",
          "",
          "",
          "",
          "",
          "",
          "",
          "",
          "",
          "",
          "",
          ""
         ],
         "textfont": {
          "color": "black",
          "size": 6.896863500271991
         },
         "type": "scatterternary"
        },
        {
         "a": [
          0.052440010808480805,
          0.0760948088960929,
          0.12498607685460206,
          0.1395011082518195,
          0.1778268123915691,
          0.2440234868884039,
          0.3407043366601422,
          0.42969749242676714,
          0.4822830404830952,
          0.5109108657786727,
          0.537807868724975,
          0.5576201044893699,
          0.5822820465827745,
          0.6049835575677401,
          0.6264564284020098
         ],
         "b": [
          0.9450335207287006,
          0.9200003462175574,
          0.8684937315618172,
          0.8525617295075161,
          0.8107652978569844,
          0.7360922630682818,
          0.6238296464473492,
          0.5133846585124299,
          0.43546286563773096,
          0.38368981043387906,
          0.33324637797994544,
          0.29545100557696086,
          0.25538992784944725,
          0.22244760375291073,
          0.1947172475744838
         ],
         "c": [
          0.0025264684628186884,
          0.0039048448863496232,
          0.006520191583580918,
          0.007937162240664493,
          0.011407889751446517,
          0.019884250043314247,
          0.035466016892508584,
          0.05691784906080294,
          0.0822540938791738,
          0.1053993237874483,
          0.1289457532950798,
          0.14692888993366923,
          0.16232802556777814,
          0.17256883867934913,
          0.17882632402350643
         ],
         "line": {
          "color": "grey",
          "width": 0.25
         },
         "marker": {
          "color": "silver",
          "line": {
           "color": "black",
           "width": 0
          },
          "opacity": 0.9,
          "size": 6
         },
         "mode": "lines+text",
         "name": "PRT",
         "showlegend": false,
         "subplot": "ternary",
         "text": [
          "",
          "",
          "",
          "",
          "",
          "",
          "",
          "",
          "",
          "",
          "",
          "",
          "",
          "",
          ""
         ],
         "textfont": {
          "color": "black",
          "size": 4.480520325002957
         },
         "type": "scatterternary"
        },
        {
         "a": [
          0.052440010808480805,
          0.0760948088960929,
          0.12498607685460206,
          0.1395011082518195,
          0.1778268123915691
         ],
         "b": [
          0.9450335207287006,
          0.9200003462175574,
          0.8684937315618172,
          0.8525617295075161,
          0.8107652978569844
         ],
         "c": [
          0.0025264684628186884,
          0.0039048448863496232,
          0.006520191583580918,
          0.007937162240664493,
          0.011407889751446517
         ],
         "line": {
          "color": "grey",
          "width": 0.25
         },
         "marker": {
          "color": "silver",
          "line": {
           "color": "black",
           "width": 0
          },
          "opacity": 0.9,
          "size": 6
         },
         "mode": "lines+text",
         "name": "PRT",
         "showlegend": false,
         "subplot": "ternary",
         "text": [
          "",
          "",
          "",
          "",
          "",
          "",
          "",
          "",
          "",
          "",
          "",
          "",
          "",
          "",
          ""
         ],
         "textfont": {
          "color": "black",
          "size": 4.480520325002957
         },
         "type": "scatterternary"
        },
        {
         "a": [
          0.12283541800111536,
          0.13834644508200633,
          0.22417706471972845,
          0.19378168484080488,
          0.1679655743313455,
          0.16863787263678065,
          0.16842633124511625,
          0.13796802761072782,
          0.0963295777128199,
          0.06874106520527658,
          0.048196048094431634,
          0.03449731697787949,
          0.026877872976668937,
          0.023966189641075684,
          0.02050514202388161
         ],
         "b": [
          0.8701987387496926,
          0.8530262428801799,
          0.7563990785280548,
          0.7748355924209009,
          0.786230440909432,
          0.7690052040442099,
          0.7441634616153199,
          0.7458881321797178,
          0.7637396024065942,
          0.7682125372960331,
          0.7544909666857124,
          0.7187884067600114,
          0.6914732252250426,
          0.674780042848745,
          0.649381818196562
         ],
         "c": [
          0.006965843249191984,
          0.008627312037813861,
          0.019423856752216733,
          0.031382722738294205,
          0.04580398475922261,
          0.06235692331900953,
          0.08741020713956389,
          0.11614384020955429,
          0.1399308198805858,
          0.16304639749869013,
          0.19731298521985596,
          0.24671427626210907,
          0.2816489017982884,
          0.30125376751017924,
          0.33011303977955636
         ],
         "line": {
          "color": "grey",
          "width": 0.25
         },
         "marker": {
          "color": "silver",
          "line": {
           "color": "black",
           "width": 0
          },
          "opacity": 0.9,
          "size": 6
         },
         "mode": "lines+text",
         "name": "QAT",
         "showlegend": false,
         "subplot": "ternary",
         "text": [
          "",
          "",
          "",
          "",
          "",
          "",
          "",
          "",
          "",
          "",
          "",
          "",
          "",
          "",
          ""
         ],
         "textfont": {
          "color": "black",
          "size": 3.0757098714318594
         },
         "type": "scatterternary"
        },
        {
         "a": [
          0.12283541800111536,
          0.13834644508200633,
          0.22417706471972845,
          0.19378168484080488,
          0.1679655743313455
         ],
         "b": [
          0.8701987387496926,
          0.8530262428801799,
          0.7563990785280548,
          0.7748355924209009,
          0.786230440909432
         ],
         "c": [
          0.006965843249191984,
          0.008627312037813861,
          0.019423856752216733,
          0.031382722738294205,
          0.04580398475922261
         ],
         "line": {
          "color": "grey",
          "width": 0.25
         },
         "marker": {
          "color": "silver",
          "line": {
           "color": "black",
           "width": 0
          },
          "opacity": 0.9,
          "size": 6
         },
         "mode": "lines+text",
         "name": "QAT",
         "showlegend": false,
         "subplot": "ternary",
         "text": [
          "",
          "",
          "",
          "",
          "",
          "",
          "",
          "",
          "",
          "",
          "",
          "",
          "",
          "",
          ""
         ],
         "textfont": {
          "color": "black",
          "size": 3.0757098714318594
         },
         "type": "scatterternary"
        },
        {
         "a": [
          0.30997058522264836,
          0.3672130023797125,
          0.46498709814123085,
          0.4823679460295583,
          0.5195701158921607,
          0.5417893966651247,
          0.5397991940674876,
          0.5139945073153859,
          0.4848476916054516,
          0.4659829287255207,
          0.4597232920732513,
          0.4648456751455446,
          0.47612895682031137,
          0.49185391009665697,
          0.5130335745672946
         ],
         "b": [
          0.6752979936261386,
          0.6149914215441892,
          0.5115747930856871,
          0.49098018293478923,
          0.4479740782819088,
          0.4147150426707198,
          0.40475607629208926,
          0.416841198296513,
          0.42809714048443515,
          0.4273165631828212,
          0.4118786104877216,
          0.3890985063772186,
          0.3610669458569835,
          0.33172094121683066,
          0.29944081867836336
         ],
         "c": [
          0.014731421151213028,
          0.017795576076098427,
          0.023438108773082108,
          0.02665187103565239,
          0.03245580582593036,
          0.043495560664155705,
          0.05544472964042307,
          0.06916429438810105,
          0.08705516791011327,
          0.10670050809165832,
          0.1283980974390271,
          0.14605581847723684,
          0.16280409732270512,
          0.17642514868651238,
          0.18752560675434196
         ],
         "line": {
          "color": "grey",
          "width": 0.25
         },
         "marker": {
          "color": "silver",
          "line": {
           "color": "black",
           "width": 0
          },
          "opacity": 0.9,
          "size": 6
         },
         "mode": "lines+text",
         "name": "ROU",
         "showlegend": false,
         "subplot": "ternary",
         "text": [
          "",
          "",
          "",
          "",
          "",
          "",
          "",
          "",
          "",
          "",
          "",
          "",
          "",
          "",
          ""
         ],
         "textfont": {
          "color": "black",
          "size": 5.4921943715812525
         },
         "type": "scatterternary"
        },
        {
         "a": [
          0.30997058522264836,
          0.3672130023797125,
          0.46498709814123085,
          0.4823679460295583,
          0.5195701158921607
         ],
         "b": [
          0.6752979936261386,
          0.6149914215441892,
          0.5115747930856871,
          0.49098018293478923,
          0.4479740782819088
         ],
         "c": [
          0.014731421151213028,
          0.017795576076098427,
          0.023438108773082108,
          0.02665187103565239,
          0.03245580582593036
         ],
         "line": {
          "color": "grey",
          "width": 0.25
         },
         "marker": {
          "color": "silver",
          "line": {
           "color": "black",
           "width": 0
          },
          "opacity": 0.9,
          "size": 6
         },
         "mode": "lines+text",
         "name": "ROU",
         "showlegend": false,
         "subplot": "ternary",
         "text": [
          "",
          "",
          "",
          "",
          "",
          "",
          "",
          "",
          "",
          "",
          "",
          "",
          "",
          "",
          ""
         ],
         "textfont": {
          "color": "black",
          "size": 5.4921943715812525
         },
         "type": "scatterternary"
        },
        {
         "a": [
          0.033021452318033925,
          0.03836700001580321,
          0.06186974729471133,
          0.057385365946345995,
          0.06188245120168977,
          0.08671305530839385,
          0.1446582847396702,
          0.2456103575618276,
          0.30649080920108357,
          0.27279290740707296,
          0.20875245542842782,
          0.1700688910897153,
          0.1256402500267386,
          0.10006857604956138,
          0.08844299586087018
         ],
         "b": [
          0.9653890756953135,
          0.9597277794179961,
          0.9349793259828856,
          0.9393259088053638,
          0.9339822364753507,
          0.9052601334382799,
          0.8346594781821423,
          0.697243534547289,
          0.5680442101671723,
          0.5395715845407909,
          0.567570950194631,
          0.5861140243895845,
          0.5782121553142753,
          0.5591741360095491,
          0.555455628922624
         ],
         "c": [
          0.0015894719866525724,
          0.0019052205662006946,
          0.003150926722403037,
          0.0032887252482901906,
          0.004135312322959464,
          0.008026811253326218,
          0.020682237078187612,
          0.05714610789088348,
          0.1254649806317441,
          0.1876355080521363,
          0.22367659437694126,
          0.24381708452070042,
          0.2961475946589861,
          0.34075728794088955,
          0.3561013752165058
         ],
         "line": {
          "color": "grey",
          "width": 0.25
         },
         "marker": {
          "color": "silver",
          "line": {
           "color": "black",
           "width": 0
          },
          "opacity": 0.9,
          "size": 6
         },
         "mode": "lines+text",
         "name": "RUS",
         "showlegend": false,
         "subplot": "ternary",
         "text": [
          "",
          "",
          "",
          "",
          "",
          "",
          "",
          "",
          "",
          "",
          "",
          "",
          "",
          "",
          ""
         ],
         "textfont": {
          "color": "black",
          "size": 11.04600935615512
         },
         "type": "scatterternary"
        },
        {
         "a": [
          0.033021452318033925,
          0.03836700001580321,
          0.06186974729471133,
          0.057385365946345995,
          0.06188245120168977
         ],
         "b": [
          0.9653890756953135,
          0.9597277794179961,
          0.9349793259828856,
          0.9393259088053638,
          0.9339822364753507
         ],
         "c": [
          0.0015894719866525724,
          0.0019052205662006946,
          0.003150926722403037,
          0.0032887252482901906,
          0.004135312322959464
         ],
         "line": {
          "color": "grey",
          "width": 0.25
         },
         "marker": {
          "color": "silver",
          "line": {
           "color": "black",
           "width": 0
          },
          "opacity": 0.9,
          "size": 6
         },
         "mode": "lines+text",
         "name": "RUS",
         "showlegend": false,
         "subplot": "ternary",
         "text": [
          "",
          "",
          "",
          "",
          "",
          "",
          "",
          "",
          "",
          "",
          "",
          "",
          "",
          "",
          ""
         ],
         "textfont": {
          "color": "black",
          "size": 11.04600935615512
         },
         "type": "scatterternary"
        },
        {
         "a": [
          0.01157410391534418,
          0.0428481427729861,
          0.10934270302098607,
          0.11937054261600528,
          0.10189794474994171,
          0.09748333905702768,
          0.07848422371616855,
          0.07251657768352376,
          0.06762228151121083,
          0.06214712540536656,
          0.05903522480470359,
          0.06190034087923254,
          0.06919731183698748,
          0.08230258384463365,
          0.09434731144588977
         ],
         "b": [
          0.973593947031837,
          0.8737643481063291,
          0.7607924397952338,
          0.7757116557634604,
          0.7867638784323261,
          0.7723711007440309,
          0.7613717719842166,
          0.8001586976780688,
          0.8548994112745725,
          0.8605753748991876,
          0.8243083705187001,
          0.7639835732800639,
          0.7227587040770082,
          0.6968948560444935,
          0.6635969344899452
         ],
         "c": [
          0.014831949052818764,
          0.08338750912068461,
          0.12986485718378002,
          0.1049178016205344,
          0.11133817681773199,
          0.13014556019894133,
          0.16014400429961492,
          0.12732472463840747,
          0.07747830721421674,
          0.07727749969544565,
          0.11665640467659637,
          0.17411608584070346,
          0.20804398408600433,
          0.22080256011087285,
          0.24205575406416507
         ],
         "line": {
          "color": "grey",
          "width": 0.25
         },
         "marker": {
          "color": "silver",
          "line": {
           "color": "black",
           "width": 0
          },
          "opacity": 0.9,
          "size": 6
         },
         "mode": "lines+text",
         "name": "RWA",
         "showlegend": false,
         "subplot": "ternary",
         "text": [
          "",
          "",
          "",
          "",
          "",
          "",
          "",
          "",
          "",
          "",
          "",
          "",
          "",
          "",
          ""
         ],
         "textfont": {
          "color": "black",
          "size": 4.818951929754714
         },
         "type": "scatterternary"
        },
        {
         "a": [
          0.01157410391534418,
          0.0428481427729861,
          0.10934270302098607,
          0.11937054261600528,
          0.10189794474994171
         ],
         "b": [
          0.973593947031837,
          0.8737643481063291,
          0.7607924397952338,
          0.7757116557634604,
          0.7867638784323261
         ],
         "c": [
          0.014831949052818764,
          0.08338750912068461,
          0.12986485718378002,
          0.1049178016205344,
          0.11133817681773199
         ],
         "line": {
          "color": "grey",
          "width": 0.25
         },
         "marker": {
          "color": "silver",
          "line": {
           "color": "black",
           "width": 0
          },
          "opacity": 0.9,
          "size": 6
         },
         "mode": "lines+text",
         "name": "RWA",
         "showlegend": false,
         "subplot": "ternary",
         "text": [
          "",
          "",
          "",
          "",
          "",
          "",
          "",
          "",
          "",
          "",
          "",
          "",
          "",
          "",
          ""
         ],
         "textfont": {
          "color": "black",
          "size": 4.818951929754714
         },
         "type": "scatterternary"
        },
        {
         "a": [
          0,
          0,
          0,
          0,
          0,
          0,
          0,
          0,
          0,
          0,
          0,
          0,
          0,
          0,
          0
         ],
         "b": [
          0,
          0,
          0,
          0,
          0,
          0,
          0,
          0,
          0,
          0,
          0,
          0,
          0,
          0,
          0
         ],
         "c": [
          0,
          0,
          0,
          0,
          0,
          0,
          0,
          0,
          0,
          0,
          0,
          0,
          0,
          0,
          0
         ],
         "line": {
          "color": "grey",
          "width": 0.25
         },
         "marker": {
          "color": "silver",
          "line": {
           "color": "black",
           "width": 0
          },
          "opacity": 0.9,
          "size": 6
         },
         "mode": "lines+text",
         "name": "KNA",
         "showlegend": false,
         "subplot": "ternary",
         "text": [
          "",
          "",
          "",
          "",
          "",
          "",
          "",
          "",
          "",
          "",
          "",
          "",
          "",
          "",
          ""
         ],
         "textfont": {
          "color": "black",
          "size": 2.3694187025678044
         },
         "type": "scatterternary"
        },
        {
         "a": [
          0,
          0,
          0,
          0,
          0
         ],
         "b": [
          0,
          0,
          0,
          0,
          0
         ],
         "c": [
          0,
          0,
          0,
          0,
          0
         ],
         "line": {
          "color": "grey",
          "width": 0.25
         },
         "marker": {
          "color": "silver",
          "line": {
           "color": "black",
           "width": 0
          },
          "opacity": 0.9,
          "size": 6
         },
         "mode": "lines+text",
         "name": "KNA",
         "showlegend": false,
         "subplot": "ternary",
         "text": [
          "",
          "",
          "",
          "",
          "",
          "",
          "",
          "",
          "",
          "",
          "",
          "",
          "",
          "",
          ""
         ],
         "textfont": {
          "color": "black",
          "size": 2.3694187025678044
         },
         "type": "scatterternary"
        },
        {
         "a": [
          0.016533917793638858,
          0.03589834871528843,
          0.07869425307897056,
          0.09142355080656589,
          0.11957403110110003,
          0.1809102377960621,
          0.29933789681025486,
          0.45660088662377435,
          0.6020835171365571,
          0.6630026830686138,
          0.6732312338220295,
          0.6602935252507318,
          0.6571140685545528,
          0.6628367490110546,
          0.6558416246922363
         ],
         "b": [
          0.9826685801358037,
          0.9623585791195656,
          0.9171837022283159,
          0.9022914246071199,
          0.869465014694617,
          0.7982352690589213,
          0.65707178186437,
          0.45750323253552894,
          0.26483457188788295,
          0.16644330588656703,
          0.12666595245085496,
          0.12836875483348847,
          0.12618595718022982,
          0.1219893896068553,
          0.12300904853664178
         ],
         "c": [
          0.000797502070557462,
          0.0017430721651459384,
          0.004122044692713591,
          0.006285024586314341,
          0.010960954204282846,
          0.02085449314501653,
          0.043590321325375214,
          0.0858958808406966,
          0.1330819109755599,
          0.17055401104481951,
          0.20010281372711558,
          0.2113377199157798,
          0.2166999742652173,
          0.21517386138209,
          0.22114932677112198
         ],
         "line": {
          "color": "grey",
          "width": 0.25
         },
         "marker": {
          "color": "silver",
          "line": {
           "color": "black",
           "width": 0
          },
          "opacity": 0.9,
          "size": 6
         },
         "mode": "lines+text",
         "name": "LCA",
         "showlegend": false,
         "subplot": "ternary",
         "text": [
          "",
          "",
          "",
          "",
          "",
          "",
          "",
          "",
          "",
          "",
          "",
          "",
          "",
          "",
          ""
         ],
         "textfont": {
          "color": "black",
          "size": 1.6880149398668778
         },
         "type": "scatterternary"
        },
        {
         "a": [
          0.016533917793638858,
          0.03589834871528843,
          0.07869425307897056,
          0.09142355080656589,
          0.11957403110110003
         ],
         "b": [
          0.9826685801358037,
          0.9623585791195656,
          0.9171837022283159,
          0.9022914246071199,
          0.869465014694617
         ],
         "c": [
          0.000797502070557462,
          0.0017430721651459384,
          0.004122044692713591,
          0.006285024586314341,
          0.010960954204282846
         ],
         "line": {
          "color": "grey",
          "width": 0.25
         },
         "marker": {
          "color": "silver",
          "line": {
           "color": "black",
           "width": 0
          },
          "opacity": 0.9,
          "size": 6
         },
         "mode": "lines+text",
         "name": "LCA",
         "showlegend": false,
         "subplot": "ternary",
         "text": [
          "",
          "",
          "",
          "",
          "",
          "",
          "",
          "",
          "",
          "",
          "",
          "",
          "",
          "",
          ""
         ],
         "textfont": {
          "color": "black",
          "size": 1.6880149398668778
         },
         "type": "scatterternary"
        },
        {
         "a": [
          0.00868093298812716,
          0.01938735118963481,
          0.04282546850050354,
          0.049959113836131656,
          0.0679365125262666,
          0.10826216260784784,
          0.1954228101038544,
          0.3393385993261703,
          0.49199320908001415,
          0.5639803799784775,
          0.5785102816732864,
          0.5515314352925024,
          0.5422215154702623,
          0.5430436168812558,
          0.5390497919635744
         ],
         "b": [
          0.9908929647305644,
          0.9796308752049159,
          0.9547754581277454,
          0.9463861280235619,
          0.9257448156478104,
          0.8795310024251726,
          0.7777366499548234,
          0.6039309021858488,
          0.41077286281392994,
          0.307081502372655,
          0.27007549185133406,
          0.2927097438380727,
          0.3112285859920341,
          0.3084891190310957,
          0.3082247359298744
         ],
         "c": [
          0.00042610228130824073,
          0.0009817736054493725,
          0.0023990733717509692,
          0.003654758140306207,
          0.00631867182592291,
          0.012206834966979512,
          0.026840539941322433,
          0.05673049848798091,
          0.09723392810605598,
          0.12893811764886748,
          0.15141422647537947,
          0.15575882086942486,
          0.14654989853770353,
          0.14846726408764852,
          0.15272547210655124
         ],
         "line": {
          "color": "grey",
          "width": 0.25
         },
         "marker": {
          "color": "silver",
          "line": {
           "color": "black",
           "width": 0
          },
          "opacity": 0.9,
          "size": 6
         },
         "mode": "lines+text",
         "name": "VCT",
         "showlegend": false,
         "subplot": "ternary",
         "text": [
          "",
          "",
          "",
          "",
          "",
          "",
          "",
          "",
          "",
          "",
          "",
          "",
          "",
          "",
          ""
         ],
         "textfont": {
          "color": "black",
          "size": 1.5553006739912374
         },
         "type": "scatterternary"
        },
        {
         "a": [
          0.00868093298812716,
          0.01938735118963481,
          0.04282546850050354,
          0.049959113836131656,
          0.0679365125262666
         ],
         "b": [
          0.9908929647305644,
          0.9796308752049159,
          0.9547754581277454,
          0.9463861280235619,
          0.9257448156478104
         ],
         "c": [
          0.00042610228130824073,
          0.0009817736054493725,
          0.0023990733717509692,
          0.003654758140306207,
          0.00631867182592291
         ],
         "line": {
          "color": "grey",
          "width": 0.25
         },
         "marker": {
          "color": "silver",
          "line": {
           "color": "black",
           "width": 0
          },
          "opacity": 0.9,
          "size": 6
         },
         "mode": "lines+text",
         "name": "VCT",
         "showlegend": false,
         "subplot": "ternary",
         "text": [
          "",
          "",
          "",
          "",
          "",
          "",
          "",
          "",
          "",
          "",
          "",
          "",
          "",
          "",
          ""
         ],
         "textfont": {
          "color": "black",
          "size": 1.5553006739912374
         },
         "type": "scatterternary"
        },
        {
         "a": [
          0.011115693310954158,
          0.030025822781923114,
          0.07191074323946506,
          0.0913174124640011,
          0.11854191368664942,
          0.17234572092690068,
          0.268628627722444,
          0.3978682358041259,
          0.5230041156583731,
          0.6043478790152105,
          0.6456098393378327,
          0.6398433060127424,
          0.6275711690422194,
          0.6182315765876488,
          0.6064351330135498
         ],
         "b": [
          0.9882934833379646,
          0.9681775365212562,
          0.9233339929749321,
          0.9020239634181277,
          0.8722229303688814,
          0.8118107901628431,
          0.7019024844386658,
          0.5492327123753258,
          0.3920343598069211,
          0.27950904745711064,
          0.2094930341241345,
          0.20254273175041268,
          0.20651868974331813,
          0.21386145217909555,
          0.22543497364513657
         ],
         "c": [
          0.0005908233510812916,
          0.0017966406968209254,
          0.00475526378560277,
          0.006658624117871222,
          0.009235155944469324,
          0.015843488910256193,
          0.02946888783889024,
          0.05289905182054824,
          0.08496152453470579,
          0.11614307352767894,
          0.14489712653803277,
          0.15761396223684482,
          0.1659101412144623,
          0.1679069712332556,
          0.16812989334131362
         ],
         "line": {
          "color": "grey",
          "width": 0.25
         },
         "marker": {
          "color": "silver",
          "line": {
           "color": "black",
           "width": 0
          },
          "opacity": 0.9,
          "size": 6
         },
         "mode": "lines+text",
         "name": "WSM",
         "showlegend": false,
         "subplot": "ternary",
         "text": [
          "",
          "",
          "",
          "",
          "",
          "",
          "",
          "",
          "",
          "",
          "",
          "",
          "",
          "",
          ""
         ],
         "textfont": {
          "color": "black",
          "size": 1.7378000063417214
         },
         "type": "scatterternary"
        },
        {
         "a": [
          0.011115693310954158,
          0.030025822781923114,
          0.07191074323946506,
          0.0913174124640011,
          0.11854191368664942
         ],
         "b": [
          0.9882934833379646,
          0.9681775365212562,
          0.9233339929749321,
          0.9020239634181277,
          0.8722229303688814
         ],
         "c": [
          0.0005908233510812916,
          0.0017966406968209254,
          0.00475526378560277,
          0.006658624117871222,
          0.009235155944469324
         ],
         "line": {
          "color": "grey",
          "width": 0.25
         },
         "marker": {
          "color": "silver",
          "line": {
           "color": "black",
           "width": 0
          },
          "opacity": 0.9,
          "size": 6
         },
         "mode": "lines+text",
         "name": "WSM",
         "showlegend": false,
         "subplot": "ternary",
         "text": [
          "",
          "",
          "",
          "",
          "",
          "",
          "",
          "",
          "",
          "",
          "",
          "",
          "",
          "",
          ""
         ],
         "textfont": {
          "color": "black",
          "size": 1.7378000063417214
         },
         "type": "scatterternary"
        },
        {
         "a": [
          0,
          0,
          0,
          0,
          0,
          0,
          0,
          0,
          0,
          0,
          0,
          0,
          0,
          0,
          0
         ],
         "b": [
          0,
          0,
          0,
          0,
          0,
          0,
          0,
          0,
          0,
          0,
          0,
          0,
          0,
          0,
          0
         ],
         "c": [
          0,
          0,
          0,
          0,
          0,
          0,
          0,
          0,
          0,
          0,
          0,
          0,
          0,
          0,
          0
         ],
         "line": {
          "color": "grey",
          "width": 0.25
         },
         "marker": {
          "color": "silver",
          "line": {
           "color": "black",
           "width": 0
          },
          "opacity": 0.9,
          "size": 6
         },
         "mode": "lines+text",
         "name": "SMR",
         "showlegend": false,
         "subplot": "ternary",
         "text": [
          "",
          "",
          "",
          "",
          "",
          "",
          "",
          "",
          "",
          "",
          "",
          "",
          "",
          "",
          ""
         ],
         "textfont": {
          "color": "black",
          "size": 2.3694187025678044
         },
         "type": "scatterternary"
        },
        {
         "a": [
          0,
          0,
          0,
          0,
          0
         ],
         "b": [
          0,
          0,
          0,
          0,
          0
         ],
         "c": [
          0,
          0,
          0,
          0,
          0
         ],
         "line": {
          "color": "grey",
          "width": 0.25
         },
         "marker": {
          "color": "silver",
          "line": {
           "color": "black",
           "width": 0
          },
          "opacity": 0.9,
          "size": 6
         },
         "mode": "lines+text",
         "name": "SMR",
         "showlegend": false,
         "subplot": "ternary",
         "text": [
          "",
          "",
          "",
          "",
          "",
          "",
          "",
          "",
          "",
          "",
          "",
          "",
          "",
          "",
          ""
         ],
         "textfont": {
          "color": "black",
          "size": 2.3694187025678044
         },
         "type": "scatterternary"
        },
        {
         "a": [
          0.008171943348644234,
          0.02692011251449549,
          0.07098954034491245,
          0.0975811377880035,
          0.13074521580263151,
          0.19947760165287512,
          0.31697595702024733,
          0.43113799148357257,
          0.44462500711209113,
          0.39236098160936783,
          0.31406746775845984,
          0.2736442639763306,
          0.25061406638231,
          0.24743140777387157,
          0.25249765270445756
         ],
         "b": [
          0.9914177145900743,
          0.9716824106089288,
          0.9251052145338013,
          0.8963941988134325,
          0.8605545228246706,
          0.7839394967438295,
          0.6473621883774827,
          0.4957560703683703,
          0.43850137283753315,
          0.4569224060035417,
          0.5067999140618014,
          0.525280667045761,
          0.5356620175002379,
          0.5280190156113652,
          0.5128053798726432
         ],
         "c": [
          0.00041034206128147947,
          0.0013974768765756965,
          0.003905245121286341,
          0.006024663398563895,
          0.008700261372697849,
          0.016582901603295716,
          0.03566185460226992,
          0.07310593814805713,
          0.11687362005037571,
          0.15071661238709028,
          0.1791326181797388,
          0.20107506897790836,
          0.21372391611745206,
          0.22454957661476327,
          0.23469696742289914
         ],
         "line": {
          "color": "grey",
          "width": 0.25
         },
         "marker": {
          "color": "silver",
          "line": {
           "color": "black",
           "width": 0
          },
          "opacity": 0.9,
          "size": 6
         },
         "mode": "lines+text",
         "name": "STP",
         "showlegend": false,
         "subplot": "ternary",
         "text": [
          "",
          "",
          "",
          "",
          "",
          "",
          "",
          "",
          "",
          "",
          "",
          "",
          "",
          "",
          ""
         ],
         "textfont": {
          "color": "black",
          "size": 1.74215496987358
         },
         "type": "scatterternary"
        },
        {
         "a": [
          0.008171943348644234,
          0.02692011251449549,
          0.07098954034491245,
          0.0975811377880035,
          0.13074521580263151
         ],
         "b": [
          0.9914177145900743,
          0.9716824106089288,
          0.9251052145338013,
          0.8963941988134325,
          0.8605545228246706
         ],
         "c": [
          0.00041034206128147947,
          0.0013974768765756965,
          0.003905245121286341,
          0.006024663398563895,
          0.008700261372697849
         ],
         "line": {
          "color": "grey",
          "width": 0.25
         },
         "marker": {
          "color": "silver",
          "line": {
           "color": "black",
           "width": 0
          },
          "opacity": 0.9,
          "size": 6
         },
         "mode": "lines+text",
         "name": "STP",
         "showlegend": false,
         "subplot": "ternary",
         "text": [
          "",
          "",
          "",
          "",
          "",
          "",
          "",
          "",
          "",
          "",
          "",
          "",
          "",
          "",
          ""
         ],
         "textfont": {
          "color": "black",
          "size": 1.74215496987358
         },
         "type": "scatterternary"
        },
        {
         "a": [
          0.11660698617576239,
          0.14548778360023196,
          0.24701397457204585,
          0.23361879458898344,
          0.22981317100080767,
          0.2611152244954827,
          0.26162372245431575,
          0.21530310364276847,
          0.1557696652849287,
          0.1156438736264662,
          0.08958248647439071,
          0.07429229030315167,
          0.06091236427180118,
          0.05330512256541782,
          0.047224468915585655
         ],
         "b": [
          0.8763047574764679,
          0.8468675014155387,
          0.7393057701920422,
          0.7510563638116947,
          0.7490232024258935,
          0.6943662785570034,
          0.6599797699105061,
          0.6736091388315185,
          0.7070215805674224,
          0.7224529130437259,
          0.7279108866019817,
          0.7103954443300595,
          0.6736943076693975,
          0.6360993535276457,
          0.6023325555525626
         ],
         "c": [
          0.007088256347769811,
          0.007644714984229472,
          0.013680255235911879,
          0.015324841599321896,
          0.02116362657329882,
          0.044518496947513836,
          0.07839650763517822,
          0.11108775752571295,
          0.13720875414764885,
          0.16190321332980778,
          0.1825066269236275,
          0.21531226536678882,
          0.2653933280588012,
          0.31059552390693645,
          0.3504429755318518
         ],
         "line": {
          "color": "grey",
          "width": 0.25
         },
         "marker": {
          "color": "silver",
          "line": {
           "color": "black",
           "width": 0
          },
          "opacity": 0.9,
          "size": 6
         },
         "mode": "lines+text",
         "name": "SAU",
         "showlegend": false,
         "subplot": "ternary",
         "text": [
          "",
          "",
          "",
          "",
          "",
          "",
          "",
          "",
          "",
          "",
          "",
          "",
          "",
          "",
          ""
         ],
         "textfont": {
          "color": "black",
          "size": 6.756565357804389
         },
         "type": "scatterternary"
        },
        {
         "a": [
          0.11660698617576239,
          0.14548778360023196,
          0.24701397457204585,
          0.23361879458898344,
          0.22981317100080767
         ],
         "b": [
          0.8763047574764679,
          0.8468675014155387,
          0.7393057701920422,
          0.7510563638116947,
          0.7490232024258935
         ],
         "c": [
          0.007088256347769811,
          0.007644714984229472,
          0.013680255235911879,
          0.015324841599321896,
          0.02116362657329882
         ],
         "line": {
          "color": "grey",
          "width": 0.25
         },
         "marker": {
          "color": "silver",
          "line": {
           "color": "black",
           "width": 0
          },
          "opacity": 0.9,
          "size": 6
         },
         "mode": "lines+text",
         "name": "SAU",
         "showlegend": false,
         "subplot": "ternary",
         "text": [
          "",
          "",
          "",
          "",
          "",
          "",
          "",
          "",
          "",
          "",
          "",
          "",
          "",
          "",
          ""
         ],
         "textfont": {
          "color": "black",
          "size": 6.756565357804389
         },
         "type": "scatterternary"
        },
        {
         "a": [
          0.020834680047101685,
          0.05471871926926169,
          0.13496231051435367,
          0.1863523100858416,
          0.23727754175294122,
          0.3229523306966226,
          0.4061573595961947,
          0.4089653084204485,
          0.3474188760301129,
          0.30126950794060914,
          0.2565705520777827,
          0.25298492051356347,
          0.25801205251719544,
          0.27998251100312466,
          0.29607384847444446
         ],
         "b": [
          0.9781220724100788,
          0.9424431409020779,
          0.8577110964607771,
          0.801832630020305,
          0.7470041426237346,
          0.6487802499757377,
          0.5410456705445472,
          0.5071064007863137,
          0.5432212155892056,
          0.5709472051813412,
          0.5891411748448231,
          0.5768568969323672,
          0.5633857620460586,
          0.5333322558501407,
          0.4962479810035164
         ],
         "c": [
          0.001043247542819719,
          0.002838139828660302,
          0.007326593024869386,
          0.011815059893853331,
          0.015718315623324087,
          0.028267419327639612,
          0.05279696985925813,
          0.08392829079323774,
          0.10935990838068163,
          0.12778328687804966,
          0.15428827307739434,
          0.17015818255406925,
          0.17860218543674589,
          0.18668523314673469,
          0.20767817052203918
         ],
         "line": {
          "color": "grey",
          "width": 0.25
         },
         "marker": {
          "color": "silver",
          "line": {
           "color": "black",
           "width": 0
          },
          "opacity": 0.9,
          "size": 6
         },
         "mode": "lines+text",
         "name": "SEN",
         "showlegend": false,
         "subplot": "ternary",
         "text": [
          "",
          "",
          "",
          "",
          "",
          "",
          "",
          "",
          "",
          "",
          "",
          "",
          "",
          "",
          ""
         ],
         "textfont": {
          "color": "black",
          "size": 5.1735733432152085
         },
         "type": "scatterternary"
        },
        {
         "a": [
          0.020834680047101685,
          0.05471871926926169,
          0.13496231051435367,
          0.1863523100858416,
          0.23727754175294122
         ],
         "b": [
          0.9781220724100788,
          0.9424431409020779,
          0.8577110964607771,
          0.801832630020305,
          0.7470041426237346
         ],
         "c": [
          0.001043247542819719,
          0.002838139828660302,
          0.007326593024869386,
          0.011815059893853331,
          0.015718315623324087
         ],
         "line": {
          "color": "grey",
          "width": 0.25
         },
         "marker": {
          "color": "silver",
          "line": {
           "color": "black",
           "width": 0
          },
          "opacity": 0.9,
          "size": 6
         },
         "mode": "lines+text",
         "name": "SEN",
         "showlegend": false,
         "subplot": "ternary",
         "text": [
          "",
          "",
          "",
          "",
          "",
          "",
          "",
          "",
          "",
          "",
          "",
          "",
          "",
          "",
          ""
         ],
         "textfont": {
          "color": "black",
          "size": 5.1735733432152085
         },
         "type": "scatterternary"
        },
        {
         "a": [
          0.6624730821705151,
          0.6960311671961568,
          0.7194013102492488,
          0.7062248304420718,
          0.7088787841363321,
          0.6830333705344624,
          0.6372038307990722,
          0.5839364764997496,
          0.5393954390273462,
          0.5027552863785125,
          0.4749296882621719,
          0.4576703541189412,
          0.4439561286338029,
          0.43609481386103155,
          0.4402398099194351
         ],
         "b": [
          0.30498641104509283,
          0.26816395949277133,
          0.24340644582760168,
          0.2537124155415383,
          0.24606672205735367,
          0.2610155845960277,
          0.29463980976535176,
          0.3327280195398414,
          0.35523601160854207,
          0.3668161998475176,
          0.3659869464805685,
          0.3568416871073495,
          0.3442498895725633,
          0.3323711166168705,
          0.3152033812960785
         ],
         "c": [
          0.032540506784391986,
          0.035804873311072134,
          0.03719224392314947,
          0.04006275401638995,
          0.04505449380631425,
          0.05595104486950986,
          0.0681563594355761,
          0.08333550396040923,
          0.1053685493641115,
          0.13042851377396994,
          0.15908336525725972,
          0.18548795877370938,
          0.21179398179363373,
          0.23153406952209782,
          0.24455680878448632
         ],
         "line": {
          "color": "grey",
          "width": 0.25
         },
         "marker": {
          "color": "silver",
          "line": {
           "color": "black",
           "width": 0
          },
          "opacity": 0.9,
          "size": 6
         },
         "mode": "lines+text",
         "name": "SRB",
         "showlegend": false,
         "subplot": "ternary",
         "text": [
          "",
          "",
          "",
          "",
          "",
          "",
          "",
          "",
          "",
          "",
          "",
          "",
          "",
          "",
          ""
         ],
         "textfont": {
          "color": "black",
          "size": 4.046873420342817
         },
         "type": "scatterternary"
        },
        {
         "a": [
          0.6624730821705151,
          0.6960311671961568,
          0.7194013102492488,
          0.7062248304420718,
          0.7088787841363321
         ],
         "b": [
          0.30498641104509283,
          0.26816395949277133,
          0.24340644582760168,
          0.2537124155415383,
          0.24606672205735367
         ],
         "c": [
          0.032540506784391986,
          0.035804873311072134,
          0.03719224392314947,
          0.04006275401638995,
          0.04505449380631425
         ],
         "line": {
          "color": "grey",
          "width": 0.25
         },
         "marker": {
          "color": "silver",
          "line": {
           "color": "black",
           "width": 0
          },
          "opacity": 0.9,
          "size": 6
         },
         "mode": "lines+text",
         "name": "SRB",
         "showlegend": false,
         "subplot": "ternary",
         "text": [
          "",
          "",
          "",
          "",
          "",
          "",
          "",
          "",
          "",
          "",
          "",
          "",
          "",
          "",
          ""
         ],
         "textfont": {
          "color": "black",
          "size": 4.046873420342817
         },
         "type": "scatterternary"
        },
        {
         "a": [
          0,
          0,
          0,
          0,
          0,
          0,
          0,
          0,
          0,
          0,
          0,
          0,
          0,
          0,
          0
         ],
         "b": [
          0,
          0,
          0,
          0,
          0,
          0,
          0,
          0,
          0,
          0,
          0,
          0,
          0,
          0,
          0
         ],
         "c": [
          0,
          0,
          0,
          0,
          0,
          0,
          0,
          0,
          0,
          0,
          0,
          0,
          0,
          0,
          0
         ],
         "line": {
          "color": "grey",
          "width": 0.25
         },
         "marker": {
          "color": "silver",
          "line": {
           "color": "black",
           "width": 0
          },
          "opacity": 0.9,
          "size": 6
         },
         "mode": "lines+text",
         "name": "SYC",
         "showlegend": false,
         "subplot": "ternary",
         "text": [
          "",
          "",
          "",
          "",
          "",
          "",
          "",
          "",
          "",
          "",
          "",
          "",
          "",
          "",
          ""
         ],
         "textfont": {
          "color": "black",
          "size": 1.5559428799785833
         },
         "type": "scatterternary"
        },
        {
         "a": [
          0,
          0,
          0,
          0,
          0
         ],
         "b": [
          0,
          0,
          0,
          0,
          0
         ],
         "c": [
          0,
          0,
          0,
          0,
          0
         ],
         "line": {
          "color": "grey",
          "width": 0.25
         },
         "marker": {
          "color": "silver",
          "line": {
           "color": "black",
           "width": 0
          },
          "opacity": 0.9,
          "size": 6
         },
         "mode": "lines+text",
         "name": "SYC",
         "showlegend": false,
         "subplot": "ternary",
         "text": [
          "",
          "",
          "",
          "",
          "",
          "",
          "",
          "",
          "",
          "",
          "",
          "",
          "",
          "",
          ""
         ],
         "textfont": {
          "color": "black",
          "size": 1.5559428799785833
         },
         "type": "scatterternary"
        },
        {
         "a": [
          0.04488350764511118,
          0.09737260212076641,
          0.21856554476935425,
          0.2829795595061839,
          0.3189055429935652,
          0.353689998020931,
          0.32769053753836,
          0.24700831728175165,
          0.16980428304668968,
          0.12339541161504962,
          0.08780591984521334,
          0.07031579483020957,
          0.0589486596830411,
          0.0529753419465282,
          0.049593091160418996
         ],
         "b": [
          0.9528990073557463,
          0.8978177770632133,
          0.7701481058498524,
          0.6998335646710567,
          0.6605660175246383,
          0.6121380962927565,
          0.614926198839906,
          0.6620874746901996,
          0.7065394214163819,
          0.719468519953465,
          0.7159106600696218,
          0.6924625416827345,
          0.672684497467926,
          0.6482906866396275,
          0.6236640569486331
         ],
         "c": [
          0.0022174849991426476,
          0.004809620816020382,
          0.011286349380793483,
          0.017186875822759334,
          0.02052843948179639,
          0.03417190568631243,
          0.05738326362173399,
          0.09090420802804877,
          0.12365629553692865,
          0.15713606843148537,
          0.19628342008516494,
          0.2372216634870559,
          0.2683668428490329,
          0.2987339714138442,
          0.32674285189094776
         ],
         "line": {
          "color": "grey",
          "width": 0.25
         },
         "marker": {
          "color": "silver",
          "line": {
           "color": "black",
           "width": 0
          },
          "opacity": 0.9,
          "size": 6
         },
         "mode": "lines+text",
         "name": "SLE",
         "showlegend": false,
         "subplot": "ternary",
         "text": [
          "",
          "",
          "",
          "",
          "",
          "",
          "",
          "",
          "",
          "",
          "",
          "",
          "",
          "",
          ""
         ],
         "textfont": {
          "color": "black",
          "size": 4.1680383806054895
         },
         "type": "scatterternary"
        },
        {
         "a": [
          0.04488350764511118,
          0.09737260212076641,
          0.21856554476935425,
          0.2829795595061839,
          0.3189055429935652
         ],
         "b": [
          0.9528990073557463,
          0.8978177770632133,
          0.7701481058498524,
          0.6998335646710567,
          0.6605660175246383
         ],
         "c": [
          0.0022174849991426476,
          0.004809620816020382,
          0.011286349380793483,
          0.017186875822759334,
          0.02052843948179639
         ],
         "line": {
          "color": "grey",
          "width": 0.25
         },
         "marker": {
          "color": "silver",
          "line": {
           "color": "black",
           "width": 0
          },
          "opacity": 0.9,
          "size": 6
         },
         "mode": "lines+text",
         "name": "SLE",
         "showlegend": false,
         "subplot": "ternary",
         "text": [
          "",
          "",
          "",
          "",
          "",
          "",
          "",
          "",
          "",
          "",
          "",
          "",
          "",
          "",
          ""
         ],
         "textfont": {
          "color": "black",
          "size": 4.1680383806054895
         },
         "type": "scatterternary"
        },
        {
         "a": [
          0.3323555817012961,
          0.40233799023822836,
          0.4553751207241374,
          0.36265803456275725,
          0.2820367342302688,
          0.21816973458296385,
          0.152236877806326,
          0.09977758320538682,
          0.06572536407949048,
          0.04720911713844895,
          0.03650790931806501,
          0.02988554656746121,
          0.025321619313791253,
          0.022772614099789947,
          0.022446578850357935
         ],
         "b": [
          0.6497887923437439,
          0.575194749156119,
          0.5141150654880627,
          0.6007740325318834,
          0.6624766366399775,
          0.6953226942672736,
          0.7242744112554266,
          0.7251471238608436,
          0.7143362902062067,
          0.6933512782289932,
          0.6755508206425723,
          0.6503841860635117,
          0.6257269189860263,
          0.6017984122506224,
          0.5856651592072691
         ],
         "c": [
          0.01785562595496007,
          0.022467260605652687,
          0.030509813787799753,
          0.036567932905359174,
          0.05548662912975355,
          0.08650757114976268,
          0.12348871093824747,
          0.17507529293376958,
          0.2199383457143029,
          0.25943960463255766,
          0.28794127003936265,
          0.3197302673690273,
          0.3489514617001825,
          0.37542897364958766,
          0.3918882619423728
         ],
         "line": {
          "color": "grey",
          "width": 0.25
         },
         "marker": {
          "color": "silver",
          "line": {
           "color": "black",
           "width": 0
          },
          "opacity": 0.9,
          "size": 6
         },
         "mode": "lines+text",
         "name": "SGP",
         "showlegend": false,
         "subplot": "ternary",
         "text": [
          "",
          "",
          "",
          "",
          "",
          "",
          "",
          "",
          "",
          "",
          "",
          "",
          "",
          "",
          ""
         ],
         "textfont": {
          "color": "black",
          "size": 3.784108710085213
         },
         "type": "scatterternary"
        },
        {
         "a": [
          0.3323555817012961,
          0.40233799023822836,
          0.4553751207241374,
          0.36265803456275725,
          0.2820367342302688
         ],
         "b": [
          0.6497887923437439,
          0.575194749156119,
          0.5141150654880627,
          0.6007740325318834,
          0.6624766366399775
         ],
         "c": [
          0.01785562595496007,
          0.022467260605652687,
          0.030509813787799753,
          0.036567932905359174,
          0.05548662912975355
         ],
         "line": {
          "color": "grey",
          "width": 0.25
         },
         "marker": {
          "color": "silver",
          "line": {
           "color": "black",
           "width": 0
          },
          "opacity": 0.9,
          "size": 6
         },
         "mode": "lines+text",
         "name": "SGP",
         "showlegend": false,
         "subplot": "ternary",
         "text": [
          "",
          "",
          "",
          "",
          "",
          "",
          "",
          "",
          "",
          "",
          "",
          "",
          "",
          "",
          ""
         ],
         "textfont": {
          "color": "black",
          "size": 3.784108710085213
         },
         "type": "scatterternary"
        },
        {
         "a": [
          0,
          0,
          0,
          0,
          0,
          0,
          0,
          0,
          0,
          0,
          0,
          0,
          0,
          0,
          0
         ],
         "b": [
          0,
          0,
          0,
          0,
          0,
          0,
          0,
          0,
          0,
          0,
          0,
          0,
          0,
          0,
          0
         ],
         "c": [
          0,
          0,
          0,
          0,
          0,
          0,
          0,
          0,
          0,
          0,
          0,
          0,
          0,
          0,
          0
         ],
         "line": {
          "color": "grey",
          "width": 0.25
         },
         "marker": {
          "color": "silver",
          "line": {
           "color": "black",
           "width": 0
          },
          "opacity": 0.9,
          "size": 6
         },
         "mode": "lines+text",
         "name": "SVK",
         "showlegend": false,
         "subplot": "ternary",
         "text": [
          "",
          "",
          "",
          "",
          "",
          "",
          "",
          "",
          "",
          "",
          "",
          "",
          "",
          "",
          ""
         ],
         "textfont": {
          "color": "black",
          "size": 3.69982173619677
         },
         "type": "scatterternary"
        },
        {
         "a": [
          0,
          0,
          0,
          0,
          0
         ],
         "b": [
          0,
          0,
          0,
          0,
          0
         ],
         "c": [
          0,
          0,
          0,
          0,
          0
         ],
         "line": {
          "color": "grey",
          "width": 0.25
         },
         "marker": {
          "color": "silver",
          "line": {
           "color": "black",
           "width": 0
          },
          "opacity": 0.9,
          "size": 6
         },
         "mode": "lines+text",
         "name": "SVK",
         "showlegend": false,
         "subplot": "ternary",
         "text": [
          "",
          "",
          "",
          "",
          "",
          "",
          "",
          "",
          "",
          "",
          "",
          "",
          "",
          "",
          ""
         ],
         "textfont": {
          "color": "black",
          "size": 3.69982173619677
         },
         "type": "scatterternary"
        },
        {
         "a": [
          0.2506438660153457,
          0.3042022146766322,
          0.42954811325554443,
          0.3990543664812481,
          0.3999085585534845,
          0.43676260896734403,
          0.46373837638795334,
          0.46182944270951837,
          0.44125823965368166,
          0.42279131843180345,
          0.41355828441460385,
          0.41930603729090477,
          0.4315566059976842,
          0.4525106580806283,
          0.4861868866721995
         ],
         "b": [
          0.7374095524957461,
          0.6808989557984244,
          0.5484912236348686,
          0.5776758596382432,
          0.5719581043363703,
          0.5203664893296005,
          0.47435387994839817,
          0.4515446773684096,
          0.44295708484015256,
          0.43224120222108836,
          0.4138155464521303,
          0.3826511115911203,
          0.34507073102771446,
          0.30567420416504854,
          0.26128360745546775
         ],
         "c": [
          0.011946581488908231,
          0.014898829524943528,
          0.021960663109587147,
          0.02326977388050858,
          0.028133337110145124,
          0.04287090170305547,
          0.0619077436636485,
          0.08662587992207198,
          0.11578467550616584,
          0.14496747934710802,
          0.17262616913326567,
          0.19804285111797482,
          0.2233726629746014,
          0.24181513775432317,
          0.2525295058723327
         ],
         "line": {
          "color": "grey",
          "width": 0.25
         },
         "marker": {
          "color": "silver",
          "line": {
           "color": "black",
           "width": 0
          },
          "opacity": 0.9,
          "size": 6
         },
         "mode": "lines+text",
         "name": "SVN",
         "showlegend": false,
         "subplot": "ternary",
         "text": [
          "",
          "",
          "",
          "",
          "",
          "",
          "",
          "",
          "",
          "",
          "",
          "",
          "",
          "",
          ""
         ],
         "textfont": {
          "color": "black",
          "size": 2.8482620053712755
         },
         "type": "scatterternary"
        },
        {
         "a": [
          0.2506438660153457,
          0.3042022146766322,
          0.42954811325554443,
          0.3990543664812481,
          0.3999085585534845
         ],
         "b": [
          0.7374095524957461,
          0.6808989557984244,
          0.5484912236348686,
          0.5776758596382432,
          0.5719581043363703
         ],
         "c": [
          0.011946581488908231,
          0.014898829524943528,
          0.021960663109587147,
          0.02326977388050858,
          0.028133337110145124
         ],
         "line": {
          "color": "grey",
          "width": 0.25
         },
         "marker": {
          "color": "silver",
          "line": {
           "color": "black",
           "width": 0
          },
          "opacity": 0.9,
          "size": 6
         },
         "mode": "lines+text",
         "name": "SVN",
         "showlegend": false,
         "subplot": "ternary",
         "text": [
          "",
          "",
          "",
          "",
          "",
          "",
          "",
          "",
          "",
          "",
          "",
          "",
          "",
          "",
          ""
         ],
         "textfont": {
          "color": "black",
          "size": 2.8482620053712755
         },
         "type": "scatterternary"
        },
        {
         "a": [
          0.17782977178938908,
          0.23902068754358569,
          0.34934539622489397,
          0.3750541355771806,
          0.41933352417214653,
          0.4759821267422003,
          0.5390624194056718,
          0.5791753323606655,
          0.5947934290277325,
          0.5911616926178191,
          0.5770118871783235,
          0.5625026825826732,
          0.5508968536740215,
          0.54963719753577,
          0.5507058649823124
         ],
         "b": [
          0.8122875679688533,
          0.7431546224369113,
          0.6175270270462299,
          0.5849644986953222,
          0.5354865004641937,
          0.46408462669583445,
          0.37969157371821227,
          0.3137481437727889,
          0.2681347545100035,
          0.24374076053844687,
          0.23050749864475356,
          0.2309353858010041,
          0.2347151390013987,
          0.23682931739866486,
          0.24154220559403944
         ],
         "c": [
          0.009882660241757667,
          0.01782469001950278,
          0.03312757672887623,
          0.03998136572749729,
          0.04517997536365966,
          0.05993324656196526,
          0.08124600687611569,
          0.10707652386654556,
          0.13707181646226413,
          0.16509754684373404,
          0.19248061417692286,
          0.20656193161632264,
          0.2143880073245798,
          0.21353348506556516,
          0.20775192942364812
         ],
         "line": {
          "color": "grey",
          "width": 0.25
         },
         "marker": {
          "color": "silver",
          "line": {
           "color": "black",
           "width": 0
          },
          "opacity": 0.9,
          "size": 6
         },
         "mode": "lines+text",
         "name": "SLB",
         "showlegend": false,
         "subplot": "ternary",
         "text": [
          "",
          "",
          "",
          "",
          "",
          "",
          "",
          "",
          "",
          "",
          "",
          "",
          "",
          "",
          ""
         ],
         "textfont": {
          "color": "black",
          "size": 2.175650781277322
         },
         "type": "scatterternary"
        },
        {
         "a": [
          0.17782977178938908,
          0.23902068754358569,
          0.34934539622489397,
          0.3750541355771806,
          0.41933352417214653
         ],
         "b": [
          0.8122875679688533,
          0.7431546224369113,
          0.6175270270462299,
          0.5849644986953222,
          0.5354865004641937
         ],
         "c": [
          0.009882660241757667,
          0.01782469001950278,
          0.03312757672887623,
          0.03998136572749729,
          0.04517997536365966
         ],
         "line": {
          "color": "grey",
          "width": 0.25
         },
         "marker": {
          "color": "silver",
          "line": {
           "color": "black",
           "width": 0
          },
          "opacity": 0.9,
          "size": 6
         },
         "mode": "lines+text",
         "name": "SLB",
         "showlegend": false,
         "subplot": "ternary",
         "text": [
          "",
          "",
          "",
          "",
          "",
          "",
          "",
          "",
          "",
          "",
          "",
          "",
          "",
          "",
          ""
         ],
         "textfont": {
          "color": "black",
          "size": 2.175650781277322
         },
         "type": "scatterternary"
        },
        {
         "a": [
          0.08167479369794678,
          0.15185821980515232,
          0.28761896931419145,
          0.30780824496668563,
          0.2808265929555136,
          0.23903370724014658,
          0.19493493742772408,
          0.148013438995873,
          0.10678326535615433,
          0.08233770987751055,
          0.06482326302758541,
          0.059342907238175285,
          0.059982191189813544,
          0.06879527402047274,
          0.08503169572373931
         ],
         "b": [
          0.9138543252700183,
          0.8383152840655725,
          0.6936045608181649,
          0.6641597553271935,
          0.6825020033056145,
          0.7015933399754677,
          0.7219736850445947,
          0.7268194764571482,
          0.7135520780695577,
          0.7026024519349784,
          0.6913789965360582,
          0.684010986660329,
          0.6731200472047937,
          0.6604150228244611,
          0.6408311652665265
         ],
         "c": [
          0.004470881032035081,
          0.0098264961292748,
          0.018776469867643742,
          0.02803199970612085,
          0.03667140373887222,
          0.059372952784385494,
          0.08309137752768112,
          0.12516708454697884,
          0.17966465657428798,
          0.21505983818751115,
          0.24379774043635638,
          0.25664610610149563,
          0.2668977616053927,
          0.2707897031550662,
          0.27413713900973424
         ],
         "line": {
          "color": "grey",
          "width": 0.25
         },
         "marker": {
          "color": "silver",
          "line": {
           "color": "black",
           "width": 0
          },
          "opacity": 0.9,
          "size": 6
         },
         "mode": "lines+text",
         "name": "SOM",
         "showlegend": false,
         "subplot": "ternary",
         "text": [
          "",
          "",
          "",
          "",
          "",
          "",
          "",
          "",
          "",
          "",
          "",
          "",
          "",
          "",
          ""
         ],
         "textfont": {
          "color": "black",
          "size": 5.179476061819752
         },
         "type": "scatterternary"
        },
        {
         "a": [
          0.08167479369794678,
          0.15185821980515232,
          0.28761896931419145,
          0.30780824496668563,
          0.2808265929555136
         ],
         "b": [
          0.9138543252700183,
          0.8383152840655725,
          0.6936045608181649,
          0.6641597553271935,
          0.6825020033056145
         ],
         "c": [
          0.004470881032035081,
          0.0098264961292748,
          0.018776469867643742,
          0.02803199970612085,
          0.03667140373887222
         ],
         "line": {
          "color": "grey",
          "width": 0.25
         },
         "marker": {
          "color": "silver",
          "line": {
           "color": "black",
           "width": 0
          },
          "opacity": 0.9,
          "size": 6
         },
         "mode": "lines+text",
         "name": "SOM",
         "showlegend": false,
         "subplot": "ternary",
         "text": [
          "",
          "",
          "",
          "",
          "",
          "",
          "",
          "",
          "",
          "",
          "",
          "",
          "",
          "",
          ""
         ],
         "textfont": {
          "color": "black",
          "size": 5.179476061819752
         },
         "type": "scatterternary"
        },
        {
         "a": [
          0.1326641419157244,
          0.16589811304004676,
          0.25219433303199784,
          0.25924558827567307,
          0.29931218794627534,
          0.3977593169084336,
          0.5504544592987395,
          0.697712986593922,
          0.7398835118737693,
          0.6695091355775176,
          0.5335261854462101,
          0.40283151391396815,
          0.30027957954420365,
          0.23754787685443474,
          0.19603345602707914
         ],
         "b": [
          0.8606930609452657,
          0.8255693484195713,
          0.7342762500589376,
          0.725509831010053,
          0.6810113279307274,
          0.5701827888985859,
          0.3946314192261196,
          0.21536847197565434,
          0.1335198211566326,
          0.16115520465519512,
          0.2515958396717527,
          0.3434994718296675,
          0.41363855088121265,
          0.45312575851776643,
          0.4685595442477336
         ],
         "c": [
          0.006642797139009814,
          0.008532538540382216,
          0.013529416909064656,
          0.015244580714274005,
          0.019676484122997107,
          0.032057894192980566,
          0.054914121475140944,
          0.08691854143042377,
          0.12659666696959807,
          0.1693356597672872,
          0.21487797488203725,
          0.2536690142563644,
          0.2860818695745837,
          0.309326364627799,
          0.3354069997251872
         ],
         "line": {
          "color": "grey",
          "width": 0.25
         },
         "marker": {
          "color": "chocolate",
          "line": {
           "color": "black",
           "width": 0
          },
          "opacity": 0.9,
          "size": 6
         },
         "mode": "lines+text",
         "name": "ZAF",
         "showlegend": false,
         "subplot": "ternary",
         "text": [
          "",
          "",
          "",
          "",
          "",
          "",
          "",
          "",
          "",
          "",
          "",
          "",
          "",
          "",
          ""
         ],
         "textfont": {
          "color": "black",
          "size": 7.971047493211743
         },
         "type": "scatterternary"
        },
        {
         "a": [
          0.1326641419157244,
          0.16589811304004676,
          0.25219433303199784,
          0.25924558827567307,
          0.29931218794627534
         ],
         "b": [
          0.8606930609452657,
          0.8255693484195713,
          0.7342762500589376,
          0.725509831010053,
          0.6810113279307274
         ],
         "c": [
          0.006642797139009814,
          0.008532538540382216,
          0.013529416909064656,
          0.015244580714274005,
          0.019676484122997107
         ],
         "line": {
          "color": "grey",
          "width": 0.25
         },
         "marker": {
          "color": "chocolate",
          "line": {
           "color": "black",
           "width": 0
          },
          "opacity": 0.9,
          "size": 6
         },
         "mode": "lines+text",
         "name": "ZAF",
         "showlegend": false,
         "subplot": "ternary",
         "text": [
          "",
          "",
          "",
          "",
          "",
          "",
          "",
          "",
          "",
          "",
          "",
          "",
          "",
          "",
          ""
         ],
         "textfont": {
          "color": "black",
          "size": 7.971047493211743
         },
         "type": "scatterternary"
        },
        {
         "a": [
          0.2999004658072363,
          0.29119719646107184,
          0.3855023068133883,
          0.34691251442081494,
          0.30698072926420555,
          0.31725114125619125,
          0.33573857257906076,
          0.3354176976931701,
          0.3124966303067796,
          0.2900410707835449,
          0.2733757209921894,
          0.2762462796249732,
          0.2942977536456023,
          0.3362232992161047,
          0.3836268560570641
         ],
         "b": [
          0.6855004171272998,
          0.6944727398955576,
          0.5944590606222665,
          0.6319960963714802,
          0.6703052806690286,
          0.6493279736425136,
          0.6171396960964326,
          0.600550096841468,
          0.6045641451738973,
          0.6097614884715074,
          0.6082067437995652,
          0.589938513209439,
          0.5554636852992225,
          0.49640498998547855,
          0.43223527514317883
         ],
         "c": [
          0.014599117065463773,
          0.014330063643370446,
          0.020038632564345318,
          0.02109138920770483,
          0.022713990066765798,
          0.033420885101295233,
          0.0471217313245065,
          0.06403220546536213,
          0.0829392245193232,
          0.10019744074494764,
          0.11841753520824569,
          0.13381520716558779,
          0.15023856105517525,
          0.16737171079841673,
          0.1841378687997572
         ],
         "line": {
          "color": "grey",
          "width": 0.25
         },
         "marker": {
          "color": "silver",
          "line": {
           "color": "black",
           "width": 0
          },
          "opacity": 0.9,
          "size": 6
         },
         "mode": "lines+text",
         "name": "KOR",
         "showlegend": false,
         "subplot": "ternary",
         "text": [
          "",
          "",
          "",
          "",
          "",
          "",
          "",
          "",
          "",
          "",
          "",
          "",
          "",
          "",
          ""
         ],
         "textfont": {
          "color": "black",
          "size": 7.644510299531274
         },
         "type": "scatterternary"
        },
        {
         "a": [
          0.2999004658072363,
          0.29119719646107184,
          0.3855023068133883,
          0.34691251442081494,
          0.30698072926420555
         ],
         "b": [
          0.6855004171272998,
          0.6944727398955576,
          0.5944590606222665,
          0.6319960963714802,
          0.6703052806690286
         ],
         "c": [
          0.014599117065463773,
          0.014330063643370446,
          0.020038632564345318,
          0.02109138920770483,
          0.022713990066765798
         ],
         "line": {
          "color": "grey",
          "width": 0.25
         },
         "marker": {
          "color": "silver",
          "line": {
           "color": "black",
           "width": 0
          },
          "opacity": 0.9,
          "size": 6
         },
         "mode": "lines+text",
         "name": "KOR",
         "showlegend": false,
         "subplot": "ternary",
         "text": [
          "",
          "",
          "",
          "",
          "",
          "",
          "",
          "",
          "",
          "",
          "",
          "",
          "",
          "",
          ""
         ],
         "textfont": {
          "color": "black",
          "size": 7.644510299531274
         },
         "type": "scatterternary"
        },
        {
         "a": [
          0,
          0,
          0,
          0,
          0,
          0,
          0,
          0,
          0,
          0,
          0,
          0,
          0,
          0,
          0
         ],
         "b": [
          0,
          0,
          0,
          0,
          0,
          0,
          0,
          0,
          0,
          0,
          0,
          0,
          0,
          0,
          0
         ],
         "c": [
          0,
          0,
          0,
          0,
          0,
          0,
          0,
          0,
          0,
          0,
          0,
          0,
          0,
          0,
          0
         ],
         "line": {
          "color": "grey",
          "width": 0.25
         },
         "marker": {
          "color": "silver",
          "line": {
           "color": "black",
           "width": 0
          },
          "opacity": 0.9,
          "size": 6
         },
         "mode": "lines+text",
         "name": "SSD",
         "showlegend": false,
         "subplot": "ternary",
         "text": [
          "",
          "",
          "",
          "",
          "",
          "",
          "",
          "",
          "",
          "",
          "",
          "",
          "",
          "",
          ""
         ],
         "textfont": {
          "color": "black",
          "size": 4.513679302414264
         },
         "type": "scatterternary"
        },
        {
         "a": [
          0,
          0,
          0,
          0,
          0
         ],
         "b": [
          0,
          0,
          0,
          0,
          0
         ],
         "c": [
          0,
          0,
          0,
          0,
          0
         ],
         "line": {
          "color": "grey",
          "width": 0.25
         },
         "marker": {
          "color": "silver",
          "line": {
           "color": "black",
           "width": 0
          },
          "opacity": 0.9,
          "size": 6
         },
         "mode": "lines+text",
         "name": "SSD",
         "showlegend": false,
         "subplot": "ternary",
         "text": [
          "",
          "",
          "",
          "",
          "",
          "",
          "",
          "",
          "",
          "",
          "",
          "",
          "",
          "",
          ""
         ],
         "textfont": {
          "color": "black",
          "size": 4.513679302414264
         },
         "type": "scatterternary"
        },
        {
         "a": [
          0.21449422335752533,
          0.25446760814453073,
          0.33344315231800237,
          0.35214788507011574,
          0.3978563278143754,
          0.4424544948774916,
          0.477594520017936,
          0.48492715605046866,
          0.4750234946784849,
          0.46872289992470545,
          0.47465055667334727,
          0.4891523979424709,
          0.514488803984615,
          0.5448373553257028,
          0.5795601627343534
         ],
         "b": [
          0.7751440277192511,
          0.7323620674520099,
          0.6486942693023345,
          0.6268651298227988,
          0.5749198318170308,
          0.5183735604305939,
          0.46812166577098224,
          0.44464105918696917,
          0.4356550412929186,
          0.4239788558455864,
          0.399402554377175,
          0.3675584767870178,
          0.32765073451491045,
          0.2835969370932569,
          0.23923031096485645
         ],
         "c": [
          0.010361748923223519,
          0.013170324403459286,
          0.017862578379663006,
          0.020986985107085267,
          0.027223840368593648,
          0.039171944691914436,
          0.05428381421108178,
          0.07043178476256236,
          0.08932146402859624,
          0.1072982442297083,
          0.1259468889494777,
          0.14328912527051121,
          0.15786046150047447,
          0.17156570758104034,
          0.18120952630079024
         ],
         "line": {
          "color": "grey",
          "width": 0.25
         },
         "marker": {
          "color": "silver",
          "line": {
           "color": "black",
           "width": 0
          },
          "opacity": 0.9,
          "size": 6
         },
         "mode": "lines+text",
         "name": "ESP",
         "showlegend": false,
         "subplot": "ternary",
         "text": [
          "",
          "",
          "",
          "",
          "",
          "",
          "",
          "",
          "",
          "",
          "",
          "",
          "",
          "",
          ""
         ],
         "textfont": {
          "color": "black",
          "size": 7.406055419659951
         },
         "type": "scatterternary"
        },
        {
         "a": [
          0.21449422335752533,
          0.25446760814453073,
          0.33344315231800237,
          0.35214788507011574,
          0.3978563278143754
         ],
         "b": [
          0.7751440277192511,
          0.7323620674520099,
          0.6486942693023345,
          0.6268651298227988,
          0.5749198318170308
         ],
         "c": [
          0.010361748923223519,
          0.013170324403459286,
          0.017862578379663006,
          0.020986985107085267,
          0.027223840368593648
         ],
         "line": {
          "color": "grey",
          "width": 0.25
         },
         "marker": {
          "color": "silver",
          "line": {
           "color": "black",
           "width": 0
          },
          "opacity": 0.9,
          "size": 6
         },
         "mode": "lines+text",
         "name": "ESP",
         "showlegend": false,
         "subplot": "ternary",
         "text": [
          "",
          "",
          "",
          "",
          "",
          "",
          "",
          "",
          "",
          "",
          "",
          "",
          "",
          "",
          ""
         ],
         "textfont": {
          "color": "black",
          "size": 7.406055419659951
         },
         "type": "scatterternary"
        },
        {
         "a": [
          0.010781554153474423,
          0.029469020145265267,
          0.07331855049511758,
          0.09140953807008742,
          0.12099484792698381,
          0.18895655581708387,
          0.3197139790501683,
          0.49726063472672594,
          0.6315036470364538,
          0.6718938765652682,
          0.6494759645208891,
          0.6260672480251126,
          0.6101032074599811,
          0.5919746318348856,
          0.5671148430299687
         ],
         "b": [
          0.9886911755703607,
          0.9690955315127153,
          0.9229921660824417,
          0.9035083731674305,
          0.8710380600881852,
          0.7938967579878972,
          0.641111099575296,
          0.41727177600834053,
          0.21902452461050237,
          0.12103950375003268,
          0.09605618311299466,
          0.09985394696497413,
          0.10449913436827979,
          0.11460122564414266,
          0.12819666762005402
         ],
         "c": [
          0.0005272702761649221,
          0.001435448342019459,
          0.0036892834224406938,
          0.005082088762481916,
          0.007967091984830758,
          0.01714668619501894,
          0.0391749213745358,
          0.0854675892649337,
          0.14947182835304385,
          0.2070666196846989,
          0.25446785236611646,
          0.27407880500991344,
          0.28539765817173907,
          0.2934241425209717,
          0.3046884893499774
         ],
         "line": {
          "color": "grey",
          "width": 0.25
         },
         "marker": {
          "color": "silver",
          "line": {
           "color": "black",
           "width": 0
          },
          "opacity": 0.9,
          "size": 6
         },
         "mode": "lines+text",
         "name": "LKA",
         "showlegend": false,
         "subplot": "ternary",
         "text": [
          "",
          "",
          "",
          "",
          "",
          "",
          "",
          "",
          "",
          "",
          "",
          "",
          "",
          "",
          ""
         ],
         "textfont": {
          "color": "black",
          "size": 5.687974801578367
         },
         "type": "scatterternary"
        },
        {
         "a": [
          0.010781554153474423,
          0.029469020145265267,
          0.07331855049511758,
          0.09140953807008742,
          0.12099484792698381
         ],
         "b": [
          0.9886911755703607,
          0.9690955315127153,
          0.9229921660824417,
          0.9035083731674305,
          0.8710380600881852
         ],
         "c": [
          0.0005272702761649221,
          0.001435448342019459,
          0.0036892834224406938,
          0.005082088762481916,
          0.007967091984830758
         ],
         "line": {
          "color": "grey",
          "width": 0.25
         },
         "marker": {
          "color": "silver",
          "line": {
           "color": "black",
           "width": 0
          },
          "opacity": 0.9,
          "size": 6
         },
         "mode": "lines+text",
         "name": "LKA",
         "showlegend": false,
         "subplot": "ternary",
         "text": [
          "",
          "",
          "",
          "",
          "",
          "",
          "",
          "",
          "",
          "",
          "",
          "",
          "",
          "",
          ""
         ],
         "textfont": {
          "color": "black",
          "size": 5.687974801578367
         },
         "type": "scatterternary"
        },
        {
         "a": [
          0.08887808794072012,
          0.16131571570159184,
          0.3072086571569042,
          0.30645992360671587,
          0.26393631204204226,
          0.21046231264942475,
          0.15495420403570775,
          0.09800087328442866,
          0.06188124717317349,
          0.04229999436627062,
          0.029778805151379206,
          0.02359619972367235,
          0.02021014905208428,
          0.019714089321202766,
          0.022960526806259738
         ],
         "b": [
          0.9057301030743108,
          0.8300232035999615,
          0.6753562089825098,
          0.6703290526357679,
          0.7032544300951614,
          0.7331529259319265,
          0.7618847765148783,
          0.7699595775871646,
          0.7472187879013898,
          0.7302725919344645,
          0.7143593664251163,
          0.6956877704415976,
          0.6764984429555627,
          0.6586182158550296,
          0.6472587933231753
         ],
         "c": [
          0.00539180898496916,
          0.008661080698446622,
          0.017435133860586004,
          0.023211023757515936,
          0.03280925786279651,
          0.0563847614186487,
          0.08316101944941384,
          0.1320395491284069,
          0.19089996492543662,
          0.22742741369926497,
          0.2558618284235046,
          0.2807160298347301,
          0.30329140799235316,
          0.3216676948237677,
          0.32978067987056486
         ],
         "line": {
          "color": "grey",
          "width": 0.25
         },
         "marker": {
          "color": "silver",
          "line": {
           "color": "black",
           "width": 0
          },
          "opacity": 0.9,
          "size": 6
         },
         "mode": "lines+text",
         "name": "SDN",
         "showlegend": false,
         "subplot": "ternary",
         "text": [
          "",
          "",
          "",
          "",
          "",
          "",
          "",
          "",
          "",
          "",
          "",
          "",
          "",
          "",
          ""
         ],
         "textfont": {
          "color": "black",
          "size": 7.212081628874308
         },
         "type": "scatterternary"
        },
        {
         "a": [
          0.08887808794072012,
          0.16131571570159184,
          0.3072086571569042,
          0.30645992360671587,
          0.26393631204204226
         ],
         "b": [
          0.9057301030743108,
          0.8300232035999615,
          0.6753562089825098,
          0.6703290526357679,
          0.7032544300951614
         ],
         "c": [
          0.00539180898496916,
          0.008661080698446622,
          0.017435133860586004,
          0.023211023757515936,
          0.03280925786279651
         ],
         "line": {
          "color": "grey",
          "width": 0.25
         },
         "marker": {
          "color": "silver",
          "line": {
           "color": "black",
           "width": 0
          },
          "opacity": 0.9,
          "size": 6
         },
         "mode": "lines+text",
         "name": "SDN",
         "showlegend": false,
         "subplot": "ternary",
         "text": [
          "",
          "",
          "",
          "",
          "",
          "",
          "",
          "",
          "",
          "",
          "",
          "",
          "",
          "",
          ""
         ],
         "textfont": {
          "color": "black",
          "size": 7.212081628874308
         },
         "type": "scatterternary"
        },
        {
         "a": [
          0.18877051436912196,
          0.18940528900976308,
          0.2658719092692294,
          0.2678414032466724,
          0.2921966906972647,
          0.3736531085937213,
          0.5006269073527155,
          0.6314794375168875,
          0.7076938316082115,
          0.6975577643005506,
          0.6123822697465997,
          0.5116680168914225,
          0.416273327145662,
          0.3529924644681432,
          0.3307836669143543
         ],
         "b": [
          0.8020000556600518,
          0.8009985665042814,
          0.7191110911710106,
          0.7138923289097714,
          0.6849270155021738,
          0.5927777183836431,
          0.44091541345338575,
          0.27387802835060304,
          0.1599449471233485,
          0.14644642609821124,
          0.21401794125926515,
          0.2938026312488625,
          0.3556282977869607,
          0.37068711298542417,
          0.36111782085168515
         ],
         "c": [
          0.00922942997082623,
          0.009596144485955572,
          0.015016999559759837,
          0.018266267843556033,
          0.022876293800561276,
          0.033569173022635714,
          0.058457679193898576,
          0.09464253413250949,
          0.13236122126844016,
          0.1559958096012381,
          0.17359978899413522,
          0.19452935185971498,
          0.22809837506737723,
          0.2763204225464325,
          0.3080985122339606
         ],
         "line": {
          "color": "grey",
          "width": 0.25
         },
         "marker": {
          "color": "silver",
          "line": {
           "color": "black",
           "width": 0
          },
          "opacity": 0.9,
          "size": 6
         },
         "mode": "lines+text",
         "name": "SUR",
         "showlegend": false,
         "subplot": "ternary",
         "text": [
          "",
          "",
          "",
          "",
          "",
          "",
          "",
          "",
          "",
          "",
          "",
          "",
          "",
          "",
          ""
         ],
         "textfont": {
          "color": "black",
          "size": 2.1191685882121507
         },
         "type": "scatterternary"
        },
        {
         "a": [
          0.18877051436912196,
          0.18940528900976308,
          0.2658719092692294,
          0.2678414032466724,
          0.2921966906972647
         ],
         "b": [
          0.8020000556600518,
          0.8009985665042814,
          0.7191110911710106,
          0.7138923289097714,
          0.6849270155021738
         ],
         "c": [
          0.00922942997082623,
          0.009596144485955572,
          0.015016999559759837,
          0.018266267843556033,
          0.022876293800561276
         ],
         "line": {
          "color": "grey",
          "width": 0.25
         },
         "marker": {
          "color": "silver",
          "line": {
           "color": "black",
           "width": 0
          },
          "opacity": 0.9,
          "size": 6
         },
         "mode": "lines+text",
         "name": "SUR",
         "showlegend": false,
         "subplot": "ternary",
         "text": [
          "",
          "",
          "",
          "",
          "",
          "",
          "",
          "",
          "",
          "",
          "",
          "",
          "",
          "",
          ""
         ],
         "textfont": {
          "color": "black",
          "size": 2.1191685882121507
         },
         "type": "scatterternary"
        },
        {
         "a": [
          0.2077313665512384,
          0.27582380872809,
          0.37694281306711525,
          0.36305298252695895,
          0.3840530149354681,
          0.42030555426773647,
          0.4451194069884011,
          0.4372702803484183,
          0.40688134066829795,
          0.37876633882693234,
          0.36234601464460925,
          0.3636674887054228,
          0.3800701718989558,
          0.4124123326251457,
          0.46040924656623106
         ],
         "b": [
          0.7820049308235655,
          0.7100102401853876,
          0.6027862077325178,
          0.6144806332241788,
          0.586394848336063,
          0.5354268794724175,
          0.4950374920422406,
          0.4877272481541997,
          0.5003000716029916,
          0.5094716552656345,
          0.5025637302070886,
          0.47368974574593187,
          0.4366648744184045,
          0.3884996162825357,
          0.3272447544862883
         ],
         "c": [
          0.010263702625196089,
          0.014165951086522367,
          0.020270979200367134,
          0.022466384248862357,
          0.02955213672846877,
          0.044267566259846076,
          0.059843100969358166,
          0.07500247149738211,
          0.0928185877287104,
          0.11176200590743307,
          0.1350902551483021,
          0.16264276554864543,
          0.18326495368263962,
          0.19908805109231856,
          0.21234599894748063
         ],
         "line": {
          "color": "grey",
          "width": 0.25
         },
         "marker": {
          "color": "silver",
          "line": {
           "color": "black",
           "width": 0
          },
          "opacity": 0.9,
          "size": 6
         },
         "mode": "lines+text",
         "name": "SWE",
         "showlegend": false,
         "subplot": "ternary",
         "text": [
          "",
          "",
          "",
          "",
          "",
          "",
          "",
          "",
          "",
          "",
          "",
          "",
          "",
          "",
          ""
         ],
         "textfont": {
          "color": "black",
          "size": 4.483629296274134
         },
         "type": "scatterternary"
        },
        {
         "a": [
          0.2077313665512384,
          0.27582380872809,
          0.37694281306711525,
          0.36305298252695895,
          0.3840530149354681
         ],
         "b": [
          0.7820049308235655,
          0.7100102401853876,
          0.6027862077325178,
          0.6144806332241788,
          0.586394848336063
         ],
         "c": [
          0.010263702625196089,
          0.014165951086522367,
          0.020270979200367134,
          0.022466384248862357,
          0.02955213672846877
         ],
         "line": {
          "color": "grey",
          "width": 0.25
         },
         "marker": {
          "color": "silver",
          "line": {
           "color": "black",
           "width": 0
          },
          "opacity": 0.9,
          "size": 6
         },
         "mode": "lines+text",
         "name": "SWE",
         "showlegend": false,
         "subplot": "ternary",
         "text": [
          "",
          "",
          "",
          "",
          "",
          "",
          "",
          "",
          "",
          "",
          "",
          "",
          "",
          "",
          ""
         ],
         "textfont": {
          "color": "black",
          "size": 4.483629296274134
         },
         "type": "scatterternary"
        },
        {
         "a": [
          0.2761117133431695,
          0.27154423174612297,
          0.3174837815276421,
          0.33402712526991307,
          0.3718296935554906,
          0.4062446199086105,
          0.44354249723976436,
          0.465962052233426,
          0.4799624018982974,
          0.49632746071606637,
          0.5207123885525374,
          0.5466715057963727,
          0.5771530667637058,
          0.6052683583681348,
          0.6308051966567415
         ],
         "b": [
          0.7105471498347757,
          0.7146395668632489,
          0.665412578248966,
          0.6453251911515832,
          0.6017385201924598,
          0.5571968732499,
          0.5064709512837742,
          0.46921756755010324,
          0.43622717042596687,
          0.4007090792991511,
          0.3556117274705318,
          0.31198008108025516,
          0.26579709000028917,
          0.22607622250700538,
          0.19207515147994217
         ],
         "c": [
          0.013341136822054567,
          0.01381620139062798,
          0.01710364022339202,
          0.020647683578503696,
          0.02643178625204963,
          0.036558506841489674,
          0.049986551476461735,
          0.06482038021647073,
          0.08381042767573574,
          0.10296345998478255,
          0.12367588397693081,
          0.14134841312337218,
          0.1570498432360051,
          0.16865541912485985,
          0.17711965186331644
         ],
         "line": {
          "color": "grey",
          "width": 0.25
         },
         "marker": {
          "color": "silver",
          "line": {
           "color": "black",
           "width": 0
          },
          "opacity": 0.9,
          "size": 6
         },
         "mode": "lines+text",
         "name": "CHE",
         "showlegend": false,
         "subplot": "ternary",
         "text": [
          "",
          "",
          "",
          "",
          "",
          "",
          "",
          "",
          "",
          "",
          "",
          "",
          "",
          "",
          ""
         ],
         "textfont": {
          "color": "black",
          "size": 4.239406061078862
         },
         "type": "scatterternary"
        },
        {
         "a": [
          0.2761117133431695,
          0.27154423174612297,
          0.3174837815276421,
          0.33402712526991307,
          0.3718296935554906
         ],
         "b": [
          0.7105471498347757,
          0.7146395668632489,
          0.665412578248966,
          0.6453251911515832,
          0.6017385201924598
         ],
         "c": [
          0.013341136822054567,
          0.01381620139062798,
          0.01710364022339202,
          0.020647683578503696,
          0.02643178625204963
         ],
         "line": {
          "color": "grey",
          "width": 0.25
         },
         "marker": {
          "color": "silver",
          "line": {
           "color": "black",
           "width": 0
          },
          "opacity": 0.9,
          "size": 6
         },
         "mode": "lines+text",
         "name": "CHE",
         "showlegend": false,
         "subplot": "ternary",
         "text": [
          "",
          "",
          "",
          "",
          "",
          "",
          "",
          "",
          "",
          "",
          "",
          "",
          "",
          "",
          ""
         ],
         "textfont": {
          "color": "black",
          "size": 4.239406061078862
         },
         "type": "scatterternary"
        },
        {
         "a": [
          0,
          0,
          0,
          0,
          0,
          0,
          0,
          0,
          0,
          0,
          0,
          0,
          0,
          0,
          0
         ],
         "b": [
          0,
          0,
          0,
          0,
          0,
          0,
          0,
          0,
          0,
          0,
          0,
          0,
          0,
          0,
          0
         ],
         "c": [
          0,
          0,
          0,
          0,
          0,
          0,
          0,
          0,
          0,
          0,
          0,
          0,
          0,
          0,
          0
         ],
         "line": {
          "color": "grey",
          "width": 0.25
         },
         "marker": {
          "color": "silver",
          "line": {
           "color": "black",
           "width": 0
          },
          "opacity": 0.9,
          "size": 6
         },
         "mode": "lines+text",
         "name": "SYR",
         "showlegend": false,
         "subplot": "ternary",
         "text": [
          "",
          "",
          "",
          "",
          "",
          "",
          "",
          "",
          "",
          "",
          "",
          "",
          "",
          "",
          ""
         ],
         "textfont": {
          "color": "black",
          "size": 5.582678804248916
         },
         "type": "scatterternary"
        },
        {
         "a": [
          0,
          0,
          0,
          0,
          0
         ],
         "b": [
          0,
          0,
          0,
          0,
          0
         ],
         "c": [
          0,
          0,
          0,
          0,
          0
         ],
         "line": {
          "color": "grey",
          "width": 0.25
         },
         "marker": {
          "color": "silver",
          "line": {
           "color": "black",
           "width": 0
          },
          "opacity": 0.9,
          "size": 6
         },
         "mode": "lines+text",
         "name": "SYR",
         "showlegend": false,
         "subplot": "ternary",
         "text": [
          "",
          "",
          "",
          "",
          "",
          "",
          "",
          "",
          "",
          "",
          "",
          "",
          "",
          "",
          ""
         ],
         "textfont": {
          "color": "black",
          "size": 5.582678804248916
         },
         "type": "scatterternary"
        },
        {
         "a": [
          0.023282184291421273,
          0.057823309166659904,
          0.13549356737033816,
          0.1687539758108955,
          0.2057187916996976,
          0.2764494734260193,
          0.3810703169115694,
          0.4815370499527533,
          0.534016530422874,
          0.5395953055177117,
          0.5124460547205413,
          0.48800722803478597,
          0.471988215519295,
          0.47500315332767373,
          0.4775323650953932
         ],
         "b": [
          0.9750251800459854,
          0.937572842118126,
          0.8527053762900355,
          0.8141806667419065,
          0.7698274280693262,
          0.6825693457325845,
          0.5491659488800533,
          0.4075126898889279,
          0.3108987425235748,
          0.270472124393948,
          0.2727652223959685,
          0.292238076994341,
          0.3098101107750214,
          0.3175340260368858,
          0.32590748283302284
         ],
         "c": [
          0.0016926356625934311,
          0.004603848715213994,
          0.011801056339626085,
          0.017065357447197976,
          0.024453780230976167,
          0.04098118084139643,
          0.06976373420837723,
          0.11095026015831867,
          0.1550847270535512,
          0.18993257008834025,
          0.21478872288349027,
          0.21975469497087308,
          0.21820167370568366,
          0.20746282063544041,
          0.196560152071584
         ],
         "line": {
          "color": "grey",
          "width": 0.25
         },
         "marker": {
          "color": "silver",
          "line": {
           "color": "black",
           "width": 0
          },
          "opacity": 0.9,
          "size": 6
         },
         "mode": "lines+text",
         "name": "TJK",
         "showlegend": false,
         "subplot": "ternary",
         "text": [
          "",
          "",
          "",
          "",
          "",
          "",
          "",
          "",
          "",
          "",
          "",
          "",
          "",
          "",
          ""
         ],
         "textfont": {
          "color": "black",
          "size": 4.3618383646362515
         },
         "type": "scatterternary"
        },
        {
         "a": [
          0.023282184291421273,
          0.057823309166659904,
          0.13549356737033816,
          0.1687539758108955,
          0.2057187916996976
         ],
         "b": [
          0.9750251800459854,
          0.937572842118126,
          0.8527053762900355,
          0.8141806667419065,
          0.7698274280693262
         ],
         "c": [
          0.0016926356625934311,
          0.004603848715213994,
          0.011801056339626085,
          0.017065357447197976,
          0.024453780230976167
         ],
         "line": {
          "color": "grey",
          "width": 0.25
         },
         "marker": {
          "color": "silver",
          "line": {
           "color": "black",
           "width": 0
          },
          "opacity": 0.9,
          "size": 6
         },
         "mode": "lines+text",
         "name": "TJK",
         "showlegend": false,
         "subplot": "ternary",
         "text": [
          "",
          "",
          "",
          "",
          "",
          "",
          "",
          "",
          "",
          "",
          "",
          "",
          "",
          "",
          ""
         ],
         "textfont": {
          "color": "black",
          "size": 4.3618383646362515
         },
         "type": "scatterternary"
        },
        {
         "a": [
          0.16197230337810825,
          0.24118338999522748,
          0.39217779484629467,
          0.40377890980858877,
          0.3584166582683501,
          0.29239091971973563,
          0.22758100090768776,
          0.1730671611364666,
          0.130952872811138,
          0.10885872201541222,
          0.09057800443809608,
          0.08554148148393013,
          0.082098422931787,
          0.07663981563959979,
          0.08150961819431533
         ],
         "b": [
          0.8280742023255916,
          0.7423895533009162,
          0.5851484220930618,
          0.5696596776411957,
          0.6074189036759049,
          0.6737530959458364,
          0.7407574441069925,
          0.8007374732176649,
          0.8399725369891258,
          0.8448368719322992,
          0.8225102167958717,
          0.7964079112158724,
          0.7538052360604462,
          0.7029701301953469,
          0.6694587893201266
         ],
         "c": [
          0.009953494296300153,
          0.016427056703856368,
          0.022673783060643337,
          0.026561412550215366,
          0.034164438055744956,
          0.0338559843344281,
          0.03166155498531976,
          0.026195365645868513,
          0.029074590199736017,
          0.04630440605228875,
          0.08691177876603215,
          0.1180506073001974,
          0.16409634100776674,
          0.22039005416505322,
          0.24903159248555815
         ],
         "line": {
          "color": "grey",
          "width": 0.25
         },
         "marker": {
          "color": "silver",
          "line": {
           "color": "black",
           "width": 0
          },
          "opacity": 0.9,
          "size": 6
         },
         "mode": "lines+text",
         "name": "TZA",
         "showlegend": false,
         "subplot": "ternary",
         "text": [
          "",
          "",
          "",
          "",
          "",
          "",
          "",
          "",
          "",
          "",
          "",
          "",
          "",
          "",
          ""
         ],
         "textfont": {
          "color": "black",
          "size": 8.079744295011057
         },
         "type": "scatterternary"
        },
        {
         "a": [
          0.16197230337810825,
          0.24118338999522748,
          0.39217779484629467,
          0.40377890980858877,
          0.3584166582683501
         ],
         "b": [
          0.8280742023255916,
          0.7423895533009162,
          0.5851484220930618,
          0.5696596776411957,
          0.6074189036759049
         ],
         "c": [
          0.009953494296300153,
          0.016427056703856368,
          0.022673783060643337,
          0.026561412550215366,
          0.034164438055744956
         ],
         "line": {
          "color": "grey",
          "width": 0.25
         },
         "marker": {
          "color": "silver",
          "line": {
           "color": "black",
           "width": 0
          },
          "opacity": 0.9,
          "size": 6
         },
         "mode": "lines+text",
         "name": "TZA",
         "showlegend": false,
         "subplot": "ternary",
         "text": [
          "",
          "",
          "",
          "",
          "",
          "",
          "",
          "",
          "",
          "",
          "",
          "",
          "",
          "",
          ""
         ],
         "textfont": {
          "color": "black",
          "size": 8.079744295011057
         },
         "type": "scatterternary"
        },
        {
         "a": [
          0.7305593611338953,
          0.8350173570764485,
          0.9005978962154352,
          0.8801382672077815,
          0.8783977623903908,
          0.8592563061265538,
          0.8183171784539959,
          0.751978009231548,
          0.6549766222757816,
          0.5584167868459522,
          0.4698222745831433,
          0.39974323553142976,
          0.3435383127083687,
          0.30925407122772414,
          0.2974401603682392
         ],
         "b": [
          0.23301017080437023,
          0.12229007896816543,
          0.05105844880836962,
          0.06555566430763106,
          0.062409549966543104,
          0.065531140141166,
          0.08984601890531296,
          0.1366462096666437,
          0.2034987692596202,
          0.26905507102828846,
          0.3262852978901875,
          0.36891189851134676,
          0.3999267697313441,
          0.4140769851033672,
          0.41682879298035436
         ],
         "c": [
          0.03643046806173443,
          0.042692563955386315,
          0.04834365497619523,
          0.05430606848458722,
          0.05919268764306614,
          0.07521255373228035,
          0.09183680264069126,
          0.11137578110180832,
          0.14152460846459813,
          0.1725281421257593,
          0.20389242752666903,
          0.23134486595722337,
          0.2565349175602871,
          0.2766689436689086,
          0.2857310466514064
         ],
         "line": {
          "color": "grey",
          "width": 0.25
         },
         "marker": {
          "color": "silver",
          "line": {
           "color": "black",
           "width": 0
          },
          "opacity": 0.9,
          "size": 6
         },
         "mode": "lines+text",
         "name": "THA",
         "showlegend": false,
         "subplot": "ternary",
         "text": [
          "",
          "",
          "",
          "",
          "",
          "",
          "",
          "",
          "",
          "",
          "",
          "",
          "",
          "",
          ""
         ],
         "textfont": {
          "color": "black",
          "size": 8.550742882061813
         },
         "type": "scatterternary"
        },
        {
         "a": [
          0.7305593611338953,
          0.8350173570764485,
          0.9005978962154352,
          0.8801382672077815,
          0.8783977623903908
         ],
         "b": [
          0.23301017080437023,
          0.12229007896816543,
          0.05105844880836962,
          0.06555566430763106,
          0.062409549966543104
         ],
         "c": [
          0.03643046806173443,
          0.042692563955386315,
          0.04834365497619523,
          0.05430606848458722,
          0.05919268764306614
         ],
         "line": {
          "color": "grey",
          "width": 0.25
         },
         "marker": {
          "color": "silver",
          "line": {
           "color": "black",
           "width": 0
          },
          "opacity": 0.9,
          "size": 6
         },
         "mode": "lines+text",
         "name": "THA",
         "showlegend": false,
         "subplot": "ternary",
         "text": [
          "",
          "",
          "",
          "",
          "",
          "",
          "",
          "",
          "",
          "",
          "",
          "",
          "",
          "",
          ""
         ],
         "textfont": {
          "color": "black",
          "size": 8.550742882061813
         },
         "type": "scatterternary"
        },
        {
         "a": [
          0.24619546981074492,
          0.36310596177046867,
          0.5288138198461652,
          0.5493974985557994,
          0.5910909509062409,
          0.6198727560105463,
          0.5771598417954177,
          0.4695249230988596,
          0.3557025435975055,
          0.2636079499035051,
          0.1904537452045601,
          0.1420539977866809,
          0.11438302566657434,
          0.0934189416941246,
          0.0846229720762579
         ],
         "b": [
          0.7416319777393028,
          0.618888267514117,
          0.44363940463392393,
          0.4171533909987509,
          0.36500658436139943,
          0.3181764607801657,
          0.33334938785878526,
          0.3963865266092099,
          0.4822365980758326,
          0.5433310450509534,
          0.5830067938973605,
          0.5979753407339848,
          0.601402031491519,
          0.5839839595021296,
          0.581738195956758
         ],
         "c": [
          0.012172552449952181,
          0.01800577071541421,
          0.02754677551991095,
          0.03344911044544977,
          0.043902464732359564,
          0.06195078320928811,
          0.08949077034579697,
          0.1340885502919304,
          0.16206085832666173,
          0.19306100504554158,
          0.22653946089807933,
          0.2599706614793341,
          0.2842149428419067,
          0.3225970988037458,
          0.333638831966984
         ],
         "line": {
          "color": "grey",
          "width": 0.25
         },
         "marker": {
          "color": "silver",
          "line": {
           "color": "black",
           "width": 0
          },
          "opacity": 0.9,
          "size": 6
         },
         "mode": "lines+text",
         "name": "BHS",
         "showlegend": false,
         "subplot": "ternary",
         "text": [
          "",
          "",
          "",
          "",
          "",
          "",
          "",
          "",
          "",
          "",
          "",
          "",
          "",
          "",
          ""
         ],
         "textfont": {
          "color": "black",
          "size": 1.9546579658208776
         },
         "type": "scatterternary"
        },
        {
         "a": [
          0.24619546981074492,
          0.36310596177046867,
          0.5288138198461652,
          0.5493974985557994,
          0.5910909509062409
         ],
         "b": [
          0.7416319777393028,
          0.618888267514117,
          0.44363940463392393,
          0.4171533909987509,
          0.36500658436139943
         ],
         "c": [
          0.012172552449952181,
          0.01800577071541421,
          0.02754677551991095,
          0.03344911044544977,
          0.043902464732359564
         ],
         "line": {
          "color": "grey",
          "width": 0.25
         },
         "marker": {
          "color": "silver",
          "line": {
           "color": "black",
           "width": 0
          },
          "opacity": 0.9,
          "size": 6
         },
         "mode": "lines+text",
         "name": "BHS",
         "showlegend": false,
         "subplot": "ternary",
         "text": [
          "",
          "",
          "",
          "",
          "",
          "",
          "",
          "",
          "",
          "",
          "",
          "",
          "",
          "",
          ""
         ],
         "textfont": {
          "color": "black",
          "size": 1.9546579658208776
         },
         "type": "scatterternary"
        },
        {
         "a": [
          0.01872128202184124,
          0.05136712216615105,
          0.12773492139793702,
          0.17529437066945755,
          0.22082785147513806,
          0.3009633789801998,
          0.3897905715710636,
          0.40360246346881756,
          0.3342396616298865,
          0.26272912725659847,
          0.19418951340566115,
          0.16017188413299277,
          0.13795011390286446,
          0.127277975286425,
          0.12187866755738933
         ],
         "b": [
          0.9803595199337649,
          0.9460838078425652,
          0.8656080030906823,
          0.8143446774348629,
          0.7651709460108004,
          0.673966498562667,
          0.5618965617528474,
          0.5105946530200811,
          0.5424842680941787,
          0.581691472602365,
          0.616802889237496,
          0.6189875852852287,
          0.6182375292788918,
          0.6061341457319867,
          0.5901180749995628
         ],
         "c": [
          0.00091919804439409,
          0.00254906999128394,
          0.00665707551138073,
          0.010360951895679418,
          0.014001202514061466,
          0.025070122457133227,
          0.04831286667608911,
          0.08580288351110132,
          0.12327607027593496,
          0.15557940014103655,
          0.1890075973568428,
          0.22084053058177858,
          0.24381235681824384,
          0.2665878789815884,
          0.288003257443048
         ],
         "line": {
          "color": "grey",
          "width": 0.25
         },
         "marker": {
          "color": "silver",
          "line": {
           "color": "black",
           "width": 0
          },
          "opacity": 0.9,
          "size": 6
         },
         "mode": "lines+text",
         "name": "GMB",
         "showlegend": false,
         "subplot": "ternary",
         "text": [
          "",
          "",
          "",
          "",
          "",
          "",
          "",
          "",
          "",
          "",
          "",
          "",
          "",
          "",
          ""
         ],
         "textfont": {
          "color": "black",
          "size": 2.9885723771111956
         },
         "type": "scatterternary"
        },
        {
         "a": [
          0.01872128202184124,
          0.05136712216615105,
          0.12773492139793702,
          0.17529437066945755,
          0.22082785147513806
         ],
         "b": [
          0.9803595199337649,
          0.9460838078425652,
          0.8656080030906823,
          0.8143446774348629,
          0.7651709460108004
         ],
         "c": [
          0.00091919804439409,
          0.00254906999128394,
          0.00665707551138073,
          0.010360951895679418,
          0.014001202514061466
         ],
         "line": {
          "color": "grey",
          "width": 0.25
         },
         "marker": {
          "color": "silver",
          "line": {
           "color": "black",
           "width": 0
          },
          "opacity": 0.9,
          "size": 6
         },
         "mode": "lines+text",
         "name": "GMB",
         "showlegend": false,
         "subplot": "ternary",
         "text": [
          "",
          "",
          "",
          "",
          "",
          "",
          "",
          "",
          "",
          "",
          "",
          "",
          "",
          "",
          ""
         ],
         "textfont": {
          "color": "black",
          "size": 2.9885723771111956
         },
         "type": "scatterternary"
        },
        {
         "a": [
          0.10120519073005467,
          0.1775319742848899,
          0.3350806014516219,
          0.3644770528655843,
          0.38628206794213993,
          0.4320531993634453,
          0.4612051109890136,
          0.4482325857978874,
          0.4137952931596985,
          0.392130189660743,
          0.37971789441821807,
          0.3979459423231295,
          0.4301073198815229,
          0.478610871746178,
          0.5313035957189847
         ],
         "b": [
          0.8939173977709427,
          0.8136569261597574,
          0.6475544967105727,
          0.613853214931202,
          0.5802653177450329,
          0.5135073896370672,
          0.44345312250540553,
          0.4050048260316322,
          0.40366322332525023,
          0.39099660873574626,
          0.3811353770274369,
          0.348830234366799,
          0.3068554122720732,
          0.2563702615225736,
          0.20698096462367366
         ],
         "c": [
          0.0048774114990025735,
          0.008811099555352657,
          0.017364901837805376,
          0.02166973220321364,
          0.03345261431282726,
          0.05443941099948761,
          0.0953417665055808,
          0.14676258817048016,
          0.1825414835150511,
          0.2168732016035108,
          0.2391467285543452,
          0.2532238233100715,
          0.263037267846404,
          0.26501886673124847,
          0.2617154396573418
         ],
         "line": {
          "color": "grey",
          "width": 0.25
         },
         "marker": {
          "color": "silver",
          "line": {
           "color": "black",
           "width": 0
          },
          "opacity": 0.9,
          "size": 6
         },
         "mode": "lines+text",
         "name": "TLS",
         "showlegend": false,
         "subplot": "ternary",
         "text": [
          "",
          "",
          "",
          "",
          "",
          "",
          "",
          "",
          "",
          "",
          "",
          "",
          "",
          "",
          ""
         ],
         "textfont": {
          "color": "black",
          "size": 2.5161356697649278
         },
         "type": "scatterternary"
        },
        {
         "a": [
          0.10120519073005467,
          0.1775319742848899,
          0.3350806014516219,
          0.3644770528655843,
          0.38628206794213993
         ],
         "b": [
          0.8939173977709427,
          0.8136569261597574,
          0.6475544967105727,
          0.613853214931202,
          0.5802653177450329
         ],
         "c": [
          0.0048774114990025735,
          0.008811099555352657,
          0.017364901837805376,
          0.02166973220321364,
          0.03345261431282726
         ],
         "line": {
          "color": "grey",
          "width": 0.25
         },
         "marker": {
          "color": "silver",
          "line": {
           "color": "black",
           "width": 0
          },
          "opacity": 0.9,
          "size": 6
         },
         "mode": "lines+text",
         "name": "TLS",
         "showlegend": false,
         "subplot": "ternary",
         "text": [
          "",
          "",
          "",
          "",
          "",
          "",
          "",
          "",
          "",
          "",
          "",
          "",
          "",
          "",
          ""
         ],
         "textfont": {
          "color": "black",
          "size": 2.5161356697649278
         },
         "type": "scatterternary"
        },
        {
         "a": [
          0.014953701087353414,
          0.04422166920311497,
          0.1134318453836669,
          0.15438600454747492,
          0.19728045986949438,
          0.2772051301895712,
          0.3853926258006587,
          0.4530848406006112,
          0.4303449824205654,
          0.3641900679974829,
          0.2820310361218469,
          0.23609123648858218,
          0.20797428674912558,
          0.19770844874928617,
          0.1992057277621856
         ],
         "b": [
          0.9842809835851334,
          0.95343260075964,
          0.8802633244096183,
          0.8364157379114227,
          0.7901935994128133,
          0.701277394449814,
          0.5759944141459805,
          0.4828059170749779,
          0.4774928058407272,
          0.5156641778687834,
          0.5664474181899048,
          0.5841920500366573,
          0.5862206942045893,
          0.5768772927084401,
          0.5644798201086185
         ],
         "c": [
          0.0007653153275130693,
          0.0023457300372449366,
          0.006304830206714961,
          0.009198257541102373,
          0.012525940717692256,
          0.021517475360614737,
          0.03861296005336089,
          0.06410924232441072,
          0.09216221173870746,
          0.12014575413373367,
          0.15152154568824816,
          0.17971671347476045,
          0.20580501904628506,
          0.22541425854227373,
          0.23631445212919588
         ],
         "line": {
          "color": "grey",
          "width": 0.25
         },
         "marker": {
          "color": "silver",
          "line": {
           "color": "black",
           "width": 0
          },
          "opacity": 0.9,
          "size": 6
         },
         "mode": "lines+text",
         "name": "TGO",
         "showlegend": false,
         "subplot": "ternary",
         "text": [
          "",
          "",
          "",
          "",
          "",
          "",
          "",
          "",
          "",
          "",
          "",
          "",
          "",
          "",
          ""
         ],
         "textfont": {
          "color": "black",
          "size": 4.19925753824206
         },
         "type": "scatterternary"
        },
        {
         "a": [
          0.014953701087353414,
          0.04422166920311497,
          0.1134318453836669,
          0.15438600454747492,
          0.19728045986949438
         ],
         "b": [
          0.9842809835851334,
          0.95343260075964,
          0.8802633244096183,
          0.8364157379114227,
          0.7901935994128133
         ],
         "c": [
          0.0007653153275130693,
          0.0023457300372449366,
          0.006304830206714961,
          0.009198257541102373,
          0.012525940717692256
         ],
         "line": {
          "color": "grey",
          "width": 0.25
         },
         "marker": {
          "color": "silver",
          "line": {
           "color": "black",
           "width": 0
          },
          "opacity": 0.9,
          "size": 6
         },
         "mode": "lines+text",
         "name": "TGO",
         "showlegend": false,
         "subplot": "ternary",
         "text": [
          "",
          "",
          "",
          "",
          "",
          "",
          "",
          "",
          "",
          "",
          "",
          "",
          "",
          "",
          ""
         ],
         "textfont": {
          "color": "black",
          "size": 4.19925753824206
         },
         "type": "scatterternary"
        },
        {
         "a": [
          0.017144579568001805,
          0.03611248560671927,
          0.07805189662832403,
          0.09206294657127223,
          0.12024880229319908,
          0.17957219040592282,
          0.29031062473534497,
          0.44004893399711925,
          0.5710982657516274,
          0.6371834367938084,
          0.6540539398174083,
          0.6437202572885778,
          0.6323553898048256,
          0.6263878308693123,
          0.6174734061152574
         ],
         "b": [
          0.9819300977129498,
          0.9614707739261694,
          0.9157643109599135,
          0.8998071811464438,
          0.8687982359945429,
          0.8013291017081647,
          0.6732757329193012,
          0.4939458481249581,
          0.3257135022505631,
          0.22872792602757802,
          0.1889122075402656,
          0.18997588639011603,
          0.19536265065506722,
          0.20088797398662583,
          0.21055461054916413
         ],
         "c": [
          0.0009253227190482286,
          0.002416740467111274,
          0.006183792411762333,
          0.008129872282284057,
          0.010952961712258163,
          0.019098707885912218,
          0.03641364234535364,
          0.06600521787792257,
          0.10318823199780962,
          0.13408863717861363,
          0.15703385264232603,
          0.16630385632130612,
          0.1722819595401072,
          0.17272419514406182,
          0.1719719833355785
         ],
         "line": {
          "color": "grey",
          "width": 0.25
         },
         "marker": {
          "color": "silver",
          "line": {
           "color": "black",
           "width": 0
          },
          "opacity": 0.9,
          "size": 6
         },
         "mode": "lines+text",
         "name": "TON",
         "showlegend": false,
         "subplot": "ternary",
         "text": [
          "",
          "",
          "",
          "",
          "",
          "",
          "",
          "",
          "",
          "",
          "",
          "",
          "",
          "",
          ""
         ],
         "textfont": {
          "color": "black",
          "size": 1.5556568861136828
         },
         "type": "scatterternary"
        },
        {
         "a": [
          0.017144579568001805,
          0.03611248560671927,
          0.07805189662832403,
          0.09206294657127223,
          0.12024880229319908
         ],
         "b": [
          0.9819300977129498,
          0.9614707739261694,
          0.9157643109599135,
          0.8998071811464438,
          0.8687982359945429
         ],
         "c": [
          0.0009253227190482286,
          0.002416740467111274,
          0.006183792411762333,
          0.008129872282284057,
          0.010952961712258163
         ],
         "line": {
          "color": "grey",
          "width": 0.25
         },
         "marker": {
          "color": "silver",
          "line": {
           "color": "black",
           "width": 0
          },
          "opacity": 0.9,
          "size": 6
         },
         "mode": "lines+text",
         "name": "TON",
         "showlegend": false,
         "subplot": "ternary",
         "text": [
          "",
          "",
          "",
          "",
          "",
          "",
          "",
          "",
          "",
          "",
          "",
          "",
          "",
          "",
          ""
         ],
         "textfont": {
          "color": "black",
          "size": 1.5556568861136828
         },
         "type": "scatterternary"
        },
        {
         "a": [
          0.039060424034287604,
          0.042213343793879296,
          0.056601388695236655,
          0.054011733356991776,
          0.061231419457844265,
          0.0950380198112572,
          0.17588640290910995,
          0.30243437916466825,
          0.3690065468757472,
          0.3022037225924661,
          0.205132219422105,
          0.16488278528961578,
          0.1965920919746859,
          0.18564644515656326,
          0.14641864767776758
         ],
         "b": [
          0.9541326761024566,
          0.9488445769172741,
          0.939893456171452,
          0.9427377871825892,
          0.9346161088836535,
          0.8968400235656224,
          0.8002656370795238,
          0.6241546688457282,
          0.4686429442952395,
          0.4722093077367839,
          0.5271890734225286,
          0.5682412956647517,
          0.6308624960945489,
          0.6703307457133829,
          0.6912197305457792
         ],
         "c": [
          0.006806899863255783,
          0.00894207928884667,
          0.0035051551333112945,
          0.0032504794604189475,
          0.004152471658502335,
          0.00812195662312036,
          0.023847960011366253,
          0.07341095198960354,
          0.16235050882901336,
          0.22558696967074993,
          0.2676787071553664,
          0.2668759190456325,
          0.17254541193076497,
          0.14402280913005386,
          0.16236162177645316
         ],
         "line": {
          "color": "grey",
          "width": 0.25
         },
         "marker": {
          "color": "silver",
          "line": {
           "color": "black",
           "width": 0
          },
          "opacity": 0.9,
          "size": 6
         },
         "mode": "lines+text",
         "name": "TTO",
         "showlegend": false,
         "subplot": "ternary",
         "text": [
          "",
          "",
          "",
          "",
          "",
          "",
          "",
          "",
          "",
          "",
          "",
          "",
          "",
          "",
          ""
         ],
         "textfont": {
          "color": "black",
          "size": 2.616498273888282
         },
         "type": "scatterternary"
        },
        {
         "a": [
          0.039060424034287604,
          0.042213343793879296,
          0.056601388695236655,
          0.054011733356991776,
          0.061231419457844265
         ],
         "b": [
          0.9541326761024566,
          0.9488445769172741,
          0.939893456171452,
          0.9427377871825892,
          0.9346161088836535
         ],
         "c": [
          0.006806899863255783,
          0.00894207928884667,
          0.0035051551333112945,
          0.0032504794604189475,
          0.004152471658502335
         ],
         "line": {
          "color": "grey",
          "width": 0.25
         },
         "marker": {
          "color": "silver",
          "line": {
           "color": "black",
           "width": 0
          },
          "opacity": 0.9,
          "size": 6
         },
         "mode": "lines+text",
         "name": "TTO",
         "showlegend": false,
         "subplot": "ternary",
         "text": [
          "",
          "",
          "",
          "",
          "",
          "",
          "",
          "",
          "",
          "",
          "",
          "",
          "",
          "",
          ""
         ],
         "textfont": {
          "color": "black",
          "size": 2.616498273888282
         },
         "type": "scatterternary"
        },
        {
         "a": [
          0.049215583675600375,
          0.09244079800804667,
          0.1890004576996329,
          0.21107965467441356,
          0.2619175821414301,
          0.36310810618146433,
          0.5175392025700087,
          0.6673718481550881,
          0.7392062891482953,
          0.7503400410912279,
          0.7322782469022907,
          0.7082180861513049,
          0.6878074293372647,
          0.6767789664327191,
          0.6629754084235093
         ],
         "b": [
          0.9484299033882851,
          0.9030674207569541,
          0.8011842909586622,
          0.7764152119158388,
          0.7206799577089978,
          0.608193964124404,
          0.43074959137430135,
          0.24683922045613174,
          0.13482897063218496,
          0.09069242910652352,
          0.07857824349258481,
          0.08445011853187764,
          0.09358064221056292,
          0.10056504052862003,
          0.1095922391555345
         ],
         "c": [
          0.0023545129361144347,
          0.004491781234999197,
          0.009815251341704807,
          0.012505133409747602,
          0.017402460149572162,
          0.028697929694131614,
          0.051711206055690184,
          0.08578893138878009,
          0.12596474021951987,
          0.15896752980224882,
          0.18914350960512438,
          0.20733179531681767,
          0.21861192845217237,
          0.22265599303866096,
          0.22743235242095639
         ],
         "line": {
          "color": "grey",
          "width": 0.25
         },
         "marker": {
          "color": "silver",
          "line": {
           "color": "black",
           "width": 0
          },
          "opacity": 0.9,
          "size": 6
         },
         "mode": "lines+text",
         "name": "TUN",
         "showlegend": false,
         "subplot": "ternary",
         "text": [
          "",
          "",
          "",
          "",
          "",
          "",
          "",
          "",
          "",
          "",
          "",
          "",
          "",
          "",
          ""
         ],
         "textfont": {
          "color": "black",
          "size": 4.71312900661157
         },
         "type": "scatterternary"
        },
        {
         "a": [
          0.049215583675600375,
          0.09244079800804667,
          0.1890004576996329,
          0.21107965467441356,
          0.2619175821414301
         ],
         "b": [
          0.9484299033882851,
          0.9030674207569541,
          0.8011842909586622,
          0.7764152119158388,
          0.7206799577089978
         ],
         "c": [
          0.0023545129361144347,
          0.004491781234999197,
          0.009815251341704807,
          0.012505133409747602,
          0.017402460149572162
         ],
         "line": {
          "color": "grey",
          "width": 0.25
         },
         "marker": {
          "color": "silver",
          "line": {
           "color": "black",
           "width": 0
          },
          "opacity": 0.9,
          "size": 6
         },
         "mode": "lines+text",
         "name": "TUN",
         "showlegend": false,
         "subplot": "ternary",
         "text": [
          "",
          "",
          "",
          "",
          "",
          "",
          "",
          "",
          "",
          "",
          "",
          "",
          "",
          "",
          ""
         ],
         "textfont": {
          "color": "black",
          "size": 4.71312900661157
         },
         "type": "scatterternary"
        },
        {
         "a": [
          0.308206918231389,
          0.39448594538628323,
          0.484961278811807,
          0.4751187881927239,
          0.4781773104459455,
          0.4465216094557443,
          0.3753995522828187,
          0.28853667506570674,
          0.20156544857137768,
          0.1384653386582164,
          0.09431541570996814,
          0.0704892110935429,
          0.06057815872215594,
          0.055699741105376586,
          0.052775792913655854
         ],
         "b": [
          0.6766254861861849,
          0.5857497088416769,
          0.4904072700087453,
          0.49774065215290036,
          0.4861354864106511,
          0.49596654114499983,
          0.535287970396531,
          0.5786004724737835,
          0.6083813827386738,
          0.6107293965500178,
          0.6013279461455006,
          0.5901398498776748,
          0.5818238898669916,
          0.5685074463157103,
          0.5565360860353867
         ],
         "c": [
          0.015167595582426216,
          0.019764345772039994,
          0.024631451179447872,
          0.02714055965437588,
          0.0356872031434035,
          0.05751184939925571,
          0.08931247732065035,
          0.1328628524605097,
          0.19005316868994845,
          0.2508052647917659,
          0.30435663814453123,
          0.33937093902878235,
          0.35759795141085243,
          0.37579281257891317,
          0.3906881210509574
         ],
         "line": {
          "color": "grey",
          "width": 0.25
         },
         "marker": {
          "color": "silver",
          "line": {
           "color": "black",
           "width": 0
          },
          "opacity": 0.9,
          "size": 6
         },
         "mode": "lines+text",
         "name": "TUR",
         "showlegend": false,
         "subplot": "ternary",
         "text": [
          "",
          "",
          "",
          "",
          "",
          "",
          "",
          "",
          "",
          "",
          "",
          "",
          "",
          "",
          ""
         ],
         "textfont": {
          "color": "black",
          "size": 9.051152764076878
         },
         "type": "scatterternary"
        },
        {
         "a": [
          0.308206918231389,
          0.39448594538628323,
          0.484961278811807,
          0.4751187881927239,
          0.4781773104459455
         ],
         "b": [
          0.6766254861861849,
          0.5857497088416769,
          0.4904072700087453,
          0.49774065215290036,
          0.4861354864106511
         ],
         "c": [
          0.015167595582426216,
          0.019764345772039994,
          0.024631451179447872,
          0.02714055965437588,
          0.0356872031434035
         ],
         "line": {
          "color": "grey",
          "width": 0.25
         },
         "marker": {
          "color": "silver",
          "line": {
           "color": "black",
           "width": 0
          },
          "opacity": 0.9,
          "size": 6
         },
         "mode": "lines+text",
         "name": "TUR",
         "showlegend": false,
         "subplot": "ternary",
         "text": [
          "",
          "",
          "",
          "",
          "",
          "",
          "",
          "",
          "",
          "",
          "",
          "",
          "",
          "",
          ""
         ],
         "textfont": {
          "color": "black",
          "size": 9.051152764076878
         },
         "type": "scatterternary"
        },
        {
         "a": [
          0.061406033890160486,
          0.06572866536693535,
          0.09437763702033958,
          0.09508569444003681,
          0.10572315137398516,
          0.1293935186204591,
          0.16878810680712225,
          0.20776922655599322,
          0.2356525017972283,
          0.2533986614101187,
          0.27758640234426557,
          0.2831646165223204,
          0.2909521002464369,
          0.30176375398395033,
          0.30199952442093314
         ],
         "b": [
          0.9355304106742697,
          0.9308867033988416,
          0.9003291365213428,
          0.898929513570155,
          0.8867186417545057,
          0.8590547850912843,
          0.8104839287047544,
          0.7571616297904289,
          0.7111169099610128,
          0.6734348277921979,
          0.6209388812589068,
          0.5880063403359992,
          0.5650549508733048,
          0.5493074713333659,
          0.534698128816238
         ],
         "c": [
          0.0030635554355698236,
          0.0033846312342229587,
          0.005293226458317547,
          0.005984791989808214,
          0.007558206871509293,
          0.011551696288256376,
          0.0207279644881231,
          0.03506914365357779,
          0.05323058824175887,
          0.07316651079768356,
          0.1014747163968277,
          0.12882904314168042,
          0.14399294888025832,
          0.14892877468268376,
          0.16330234676282895
         ],
         "line": {
          "color": "grey",
          "width": 0.25
         },
         "marker": {
          "color": "silver",
          "line": {
           "color": "black",
           "width": 0
          },
          "opacity": 0.9,
          "size": 6
         },
         "mode": "lines+text",
         "name": "TKM",
         "showlegend": false,
         "subplot": "ternary",
         "text": [
          "",
          "",
          "",
          "",
          "",
          "",
          "",
          "",
          "",
          "",
          "",
          "",
          "",
          "",
          ""
         ],
         "textfont": {
          "color": "black",
          "size": 3.8419413208455575
         },
         "type": "scatterternary"
        },
        {
         "a": [
          0.061406033890160486,
          0.06572866536693535,
          0.09437763702033958,
          0.09508569444003681,
          0.10572315137398516
         ],
         "b": [
          0.9355304106742697,
          0.9308867033988416,
          0.9003291365213428,
          0.898929513570155,
          0.8867186417545057
         ],
         "c": [
          0.0030635554355698236,
          0.0033846312342229587,
          0.005293226458317547,
          0.005984791989808214,
          0.007558206871509293
         ],
         "line": {
          "color": "grey",
          "width": 0.25
         },
         "marker": {
          "color": "silver",
          "line": {
           "color": "black",
           "width": 0
          },
          "opacity": 0.9,
          "size": 6
         },
         "mode": "lines+text",
         "name": "TKM",
         "showlegend": false,
         "subplot": "ternary",
         "text": [
          "",
          "",
          "",
          "",
          "",
          "",
          "",
          "",
          "",
          "",
          "",
          "",
          "",
          "",
          ""
         ],
         "textfont": {
          "color": "black",
          "size": 3.8419413208455575
         },
         "type": "scatterternary"
        },
        {
         "a": [
          0,
          0,
          0,
          0,
          0,
          0,
          0,
          0,
          0,
          0,
          0,
          0,
          0,
          0,
          0
         ],
         "b": [
          0,
          0,
          0,
          0,
          0,
          0,
          0,
          0,
          0,
          0,
          0,
          0,
          0,
          0,
          0
         ],
         "c": [
          0,
          0,
          0,
          0,
          0,
          0,
          0,
          0,
          0,
          0,
          0,
          0,
          0,
          0,
          0
         ],
         "line": {
          "color": "grey",
          "width": 0.25
         },
         "marker": {
          "color": "silver",
          "line": {
           "color": "black",
           "width": 0
          },
          "opacity": 0.9,
          "size": 6
         },
         "mode": "lines+text",
         "name": "TUV",
         "showlegend": false,
         "subplot": "ternary",
         "text": [
          "",
          "",
          "",
          "",
          "",
          "",
          "",
          "",
          "",
          "",
          "",
          "",
          "",
          "",
          ""
         ],
         "textfont": {
          "color": "black",
          "size": 2.3694187025678044
         },
         "type": "scatterternary"
        },
        {
         "a": [
          0,
          0,
          0,
          0,
          0
         ],
         "b": [
          0,
          0,
          0,
          0,
          0
         ],
         "c": [
          0,
          0,
          0,
          0,
          0
         ],
         "line": {
          "color": "grey",
          "width": 0.25
         },
         "marker": {
          "color": "silver",
          "line": {
           "color": "black",
           "width": 0
          },
          "opacity": 0.9,
          "size": 6
         },
         "mode": "lines+text",
         "name": "TUV",
         "showlegend": false,
         "subplot": "ternary",
         "text": [
          "",
          "",
          "",
          "",
          "",
          "",
          "",
          "",
          "",
          "",
          "",
          "",
          "",
          "",
          ""
         ],
         "textfont": {
          "color": "black",
          "size": 2.3694187025678044
         },
         "type": "scatterternary"
        },
        {
         "a": [
          0.022135243821833996,
          0.05994360675654372,
          0.14825374564837412,
          0.20281082613297244,
          0.2519854511833279,
          0.3259146637774869,
          0.405640680054845,
          0.42034973028356815,
          0.3602302582352016,
          0.2889288040271096,
          0.22015072796209925,
          0.18379999043990852,
          0.16432537354379592,
          0.16503211466348536,
          0.189346206039052
         ],
         "b": [
          0.9767014402737133,
          0.9370779840465132,
          0.8441502365101812,
          0.7856278380398549,
          0.7310332255540154,
          0.6432827064875107,
          0.5381992944110532,
          0.4754747909598705,
          0.47439724146218015,
          0.5035378057766458,
          0.543216276444428,
          0.5617006496270075,
          0.5674263647819809,
          0.5583826711603515,
          0.540359737046568
         ],
         "c": [
          0.001163315904452632,
          0.002978409196943109,
          0.007596017841444705,
          0.011561335827172536,
          0.016981323262656764,
          0.030802629735002307,
          0.05616002553410206,
          0.10417547875656114,
          0.1653725003026184,
          0.20753339019624453,
          0.2366329955934727,
          0.254499359933084,
          0.26824826167422305,
          0.27658521417616316,
          0.27029405691437985
         ],
         "line": {
          "color": "grey",
          "width": 0.25
         },
         "marker": {
          "color": "silver",
          "line": {
           "color": "black",
           "width": 0
          },
          "opacity": 0.9,
          "size": 6
         },
         "mode": "lines+text",
         "name": "UGA",
         "showlegend": false,
         "subplot": "ternary",
         "text": [
          "",
          "",
          "",
          "",
          "",
          "",
          "",
          "",
          "",
          "",
          "",
          "",
          "",
          "",
          ""
         ],
         "textfont": {
          "color": "black",
          "size": 7.204011850144895
         },
         "type": "scatterternary"
        },
        {
         "a": [
          0.022135243821833996,
          0.05994360675654372,
          0.14825374564837412,
          0.20281082613297244,
          0.2519854511833279
         ],
         "b": [
          0.9767014402737133,
          0.9370779840465132,
          0.8441502365101812,
          0.7856278380398549,
          0.7310332255540154
         ],
         "c": [
          0.001163315904452632,
          0.002978409196943109,
          0.007596017841444705,
          0.011561335827172536,
          0.016981323262656764
         ],
         "line": {
          "color": "grey",
          "width": 0.25
         },
         "marker": {
          "color": "silver",
          "line": {
           "color": "black",
           "width": 0
          },
          "opacity": 0.9,
          "size": 6
         },
         "mode": "lines+text",
         "name": "UGA",
         "showlegend": false,
         "subplot": "ternary",
         "text": [
          "",
          "",
          "",
          "",
          "",
          "",
          "",
          "",
          "",
          "",
          "",
          "",
          "",
          "",
          ""
         ],
         "textfont": {
          "color": "black",
          "size": 7.204011850144895
         },
         "type": "scatterternary"
        },
        {
         "a": [
          0.03231172823572508,
          0.05002258529021449,
          0.09050133556495164,
          0.10668510989586313,
          0.1436445802752527,
          0.2072983129524694,
          0.3181302309572534,
          0.46908892854909273,
          0.5955454592813921,
          0.65745880371686,
          0.6706570685773732,
          0.6316269948276608,
          0.5914460237018734,
          0.5817722111308554,
          0.5733255323886174
         ],
         "b": [
          0.9658691637243868,
          0.9473964416982663,
          0.9046283626870829,
          0.8862006906074398,
          0.8431405258285123,
          0.7651875329136257,
          0.6251484123587671,
          0.4294024523513368,
          0.25838450794548173,
          0.17733998437592483,
          0.15659244939764308,
          0.1944522612064939,
          0.22552425905381357,
          0.22436994308039998,
          0.2216216207605161
         ],
         "c": [
          0.0018191080398880638,
          0.0025809730115192013,
          0.004870301747965363,
          0.007114199496696946,
          0.013214893896235008,
          0.02751415413390491,
          0.05672135668397971,
          0.10150861909957065,
          0.14607003277312608,
          0.16520121190721526,
          0.17275048202498405,
          0.17392074396584528,
          0.18302971724431302,
          0.19385784578874465,
          0.20505284685086644
         ],
         "line": {
          "color": "grey",
          "width": 0.25
         },
         "marker": {
          "color": "silver",
          "line": {
           "color": "black",
           "width": 0
          },
          "opacity": 0.9,
          "size": 6
         },
         "mode": "lines+text",
         "name": "UKR",
         "showlegend": false,
         "subplot": "ternary",
         "text": [
          "",
          "",
          "",
          "",
          "",
          "",
          "",
          "",
          "",
          "",
          "",
          "",
          "",
          "",
          ""
         ],
         "textfont": {
          "color": "black",
          "size": 7.2269452114303885
         },
         "type": "scatterternary"
        },
        {
         "a": [
          0.03231172823572508,
          0.05002258529021449,
          0.09050133556495164,
          0.10668510989586313,
          0.1436445802752527
         ],
         "b": [
          0.9658691637243868,
          0.9473964416982663,
          0.9046283626870829,
          0.8862006906074398,
          0.8431405258285123
         ],
         "c": [
          0.0018191080398880638,
          0.0025809730115192013,
          0.004870301747965363,
          0.007114199496696946,
          0.013214893896235008
         ],
         "line": {
          "color": "grey",
          "width": 0.25
         },
         "marker": {
          "color": "silver",
          "line": {
           "color": "black",
           "width": 0
          },
          "opacity": 0.9,
          "size": 6
         },
         "mode": "lines+text",
         "name": "UKR",
         "showlegend": false,
         "subplot": "ternary",
         "text": [
          "",
          "",
          "",
          "",
          "",
          "",
          "",
          "",
          "",
          "",
          "",
          "",
          "",
          "",
          ""
         ],
         "textfont": {
          "color": "black",
          "size": 7.2269452114303885
         },
         "type": "scatterternary"
        },
        {
         "a": [
          0.13754360878365862,
          0.17651353639261766,
          0.287797767402993,
          0.25549338271856303,
          0.21267818245429376,
          0.1723083251449668,
          0.12040288564670615,
          0.07986210412978513,
          0.05029925339888051,
          0.034397746648890525,
          0.024370638870807402,
          0.019181114120277343,
          0.01602206436183788,
          0.015272606124054454,
          0.014772953956070933
         ],
         "b": [
          0.8555801524904181,
          0.8137420054731165,
          0.6913455893472064,
          0.7011988494356114,
          0.6937258866189869,
          0.6536874429993671,
          0.6455967861328165,
          0.656843219156846,
          0.6559720546480688,
          0.650394207795632,
          0.6431346247125506,
          0.6317089943373434,
          0.619874502740044,
          0.6131990227352353,
          0.6037603263110478
         ],
         "c": [
          0.006876238725923358,
          0.009744458134265763,
          0.020856643249800577,
          0.04330776784582561,
          0.09359593092671915,
          0.17400423185566605,
          0.23400032822047742,
          0.26329467671336915,
          0.2937286919530506,
          0.31520804555547743,
          0.33249473641664207,
          0.34910989154237926,
          0.3641034328981181,
          0.37152837114071025,
          0.38146671973288115
         ],
         "line": {
          "color": "grey",
          "width": 0.25
         },
         "marker": {
          "color": "silver",
          "line": {
           "color": "black",
           "width": 0
          },
          "opacity": 0.9,
          "size": 6
         },
         "mode": "lines+text",
         "name": "ARE",
         "showlegend": false,
         "subplot": "ternary",
         "text": [
          "",
          "",
          "",
          "",
          "",
          "",
          "",
          "",
          "",
          "",
          "",
          "",
          "",
          "",
          ""
         ],
         "textfont": {
          "color": "black",
          "size": 4.333857289260985
         },
         "type": "scatterternary"
        },
        {
         "a": [
          0.13754360878365862,
          0.17651353639261766,
          0.287797767402993,
          0.25549338271856303,
          0.21267818245429376
         ],
         "b": [
          0.8555801524904181,
          0.8137420054731165,
          0.6913455893472064,
          0.7011988494356114,
          0.6937258866189869
         ],
         "c": [
          0.006876238725923358,
          0.009744458134265763,
          0.020856643249800577,
          0.04330776784582561,
          0.09359593092671915
         ],
         "line": {
          "color": "grey",
          "width": 0.25
         },
         "marker": {
          "color": "silver",
          "line": {
           "color": "black",
           "width": 0
          },
          "opacity": 0.9,
          "size": 6
         },
         "mode": "lines+text",
         "name": "ARE",
         "showlegend": false,
         "subplot": "ternary",
         "text": [
          "",
          "",
          "",
          "",
          "",
          "",
          "",
          "",
          "",
          "",
          "",
          "",
          "",
          "",
          ""
         ],
         "textfont": {
          "color": "black",
          "size": 4.333857289260985
         },
         "type": "scatterternary"
        },
        {
         "a": [
          0.018325325748805587,
          0.027829392050809906,
          0.05004951379606524,
          0.05474498154013841,
          0.0730557734058459,
          0.11693609254642624,
          0.20303114381494872,
          0.31442066329315604,
          0.3717380943344594,
          0.3799562483944004,
          0.37482579072561706,
          0.38162933108451974,
          0.39970544103736055,
          0.43084008916038563,
          0.46863855538110677
         ],
         "b": [
          0.9807995334868204,
          0.9707810900707596,
          0.9473625351587487,
          0.9421016264093615,
          0.9220684219566988,
          0.8728280047563908,
          0.7743995817662217,
          0.6413580772870944,
          0.5590971623412322,
          0.5340524519076897,
          0.5267593293081352,
          0.5057280044097225,
          0.4749328104473725,
          0.42579056920355685,
          0.37323200500644954
         ],
         "c": [
          0.0008751407643741444,
          0.0013895178784306395,
          0.0025879510451859897,
          0.0031533920505000357,
          0.004875804637455265,
          0.010235902697183056,
          0.022569274418829506,
          0.04422125941974962,
          0.06916474332430839,
          0.0859912996979099,
          0.09841487996624765,
          0.11264266450575772,
          0.12536174851526688,
          0.14336934163605747,
          0.1581294396124437
         ],
         "line": {
          "color": "grey",
          "width": 0.25
         },
         "marker": {
          "color": "silver",
          "line": {
           "color": "black",
           "width": 0
          },
          "opacity": 0.9,
          "size": 6
         },
         "mode": "lines+text",
         "name": "GBR",
         "showlegend": false,
         "subplot": "ternary",
         "text": [
          "",
          "",
          "",
          "",
          "",
          "",
          "",
          "",
          "",
          "",
          "",
          "",
          "",
          "",
          ""
         ],
         "textfont": {
          "color": "black",
          "size": 8.35935119598999
         },
         "type": "scatterternary"
        },
        {
         "a": [
          0.018325325748805587,
          0.027829392050809906,
          0.05004951379606524,
          0.05474498154013841,
          0.0730557734058459
         ],
         "b": [
          0.9807995334868204,
          0.9707810900707596,
          0.9473625351587487,
          0.9421016264093615,
          0.9220684219566988
         ],
         "c": [
          0.0008751407643741444,
          0.0013895178784306395,
          0.0025879510451859897,
          0.0031533920505000357,
          0.004875804637455265
         ],
         "line": {
          "color": "grey",
          "width": 0.25
         },
         "marker": {
          "color": "silver",
          "line": {
           "color": "black",
           "width": 0
          },
          "opacity": 0.9,
          "size": 6
         },
         "mode": "lines+text",
         "name": "GBR",
         "showlegend": false,
         "subplot": "ternary",
         "text": [
          "",
          "",
          "",
          "",
          "",
          "",
          "",
          "",
          "",
          "",
          "",
          "",
          "",
          "",
          ""
         ],
         "textfont": {
          "color": "black",
          "size": 8.35935119598999
         },
         "type": "scatterternary"
        },
        {
         "a": [
          0.02575062529925867,
          0.03079081399025711,
          0.04709278146059602,
          0.038746354530173804,
          0.041305042644517266,
          0.058000295636201626,
          0.09037608592757794,
          0.13390429120194727,
          0.14356726457273336,
          0.12275961799454596,
          0.09831719622931137,
          0.09113345300162003,
          0.08816276801565384,
          0.08990525456769123,
          0.09737494029935267
         ],
         "b": [
          0.9730058275114053,
          0.9676017558910781,
          0.9500878018572017,
          0.9578098205605856,
          0.952947540883388,
          0.9284468415022765,
          0.8746216620456101,
          0.7849517259247485,
          0.7232273389916432,
          0.7050635539249176,
          0.6977727055116756,
          0.7003290640630172,
          0.6987519621970316,
          0.688861645753865,
          0.679104893838865
         ],
         "c": [
          0.001243547189336061,
          0.0016074301186648438,
          0.002819416682202401,
          0.003443824909240642,
          0.005747416472094873,
          0.013552862861521926,
          0.03500225202681206,
          0.08114398287330424,
          0.13320539643562362,
          0.17217682808053655,
          0.20391009825901302,
          0.20853748293536267,
          0.2130852697873144,
          0.22123309967844382,
          0.22352016586178242
         ],
         "line": {
          "color": "grey",
          "width": 0.25
         },
         "marker": {
          "color": "navy",
          "line": {
           "color": "black",
           "width": 0
          },
          "opacity": 0.9,
          "size": 6
         },
         "mode": "lines+text",
         "name": "USA",
         "showlegend": false,
         "subplot": "ternary",
         "text": [
          "",
          "",
          "",
          "",
          "",
          "",
          "",
          "",
          "",
          "",
          "",
          "",
          "",
          "",
          ""
         ],
         "textfont": {
          "color": "black",
          "size": 15.02023796614745
         },
         "type": "scatterternary"
        },
        {
         "a": [
          0.02575062529925867,
          0.03079081399025711,
          0.04709278146059602,
          0.038746354530173804,
          0.041305042644517266
         ],
         "b": [
          0.9730058275114053,
          0.9676017558910781,
          0.9500878018572017,
          0.9578098205605856,
          0.952947540883388
         ],
         "c": [
          0.001243547189336061,
          0.0016074301186648438,
          0.002819416682202401,
          0.003443824909240642,
          0.005747416472094873
         ],
         "line": {
          "color": "grey",
          "width": 0.25
         },
         "marker": {
          "color": "navy",
          "line": {
           "color": "black",
           "width": 0
          },
          "opacity": 0.9,
          "size": 6
         },
         "mode": "lines+text",
         "name": "USA",
         "showlegend": false,
         "subplot": "ternary",
         "text": [
          "",
          "",
          "",
          "",
          "",
          "",
          "",
          "",
          "",
          "",
          "",
          "",
          "",
          "",
          ""
         ],
         "textfont": {
          "color": "black",
          "size": 15.02023796614745
         },
         "type": "scatterternary"
        },
        {
         "a": [
          0.04875942511933649,
          0.058363511812897166,
          0.0928478892179443,
          0.0949558047193293,
          0.1175123963118937,
          0.18566718765911572,
          0.29674060652122414,
          0.3833195401296077,
          0.34308180610585265,
          0.25240794372380904,
          0.17493739622315743,
          0.12660640336583484,
          0.09323167471423242,
          0.07334746197847214,
          0.06722557334543411
         ],
         "b": [
          0.9488191492384386,
          0.938670922618398,
          0.9021095160149148,
          0.8992550171938953,
          0.8742416983082187,
          0.7965295506371866,
          0.660698033432024,
          0.5138000990148329,
          0.4663080940429015,
          0.49146603531601185,
          0.5240886354966561,
          0.5328386341249088,
          0.5281103497127947,
          0.5095080585971713,
          0.4950826656002463
         ],
         "c": [
          0.002421425642224828,
          0.0029655655687048283,
          0.005042594767140812,
          0.005789178086775325,
          0.008245905379887534,
          0.01780326170369769,
          0.04256136004675185,
          0.10288036085555943,
          0.1906100998512458,
          0.25612602096017917,
          0.30097396828018663,
          0.3405549625092564,
          0.37865797557297287,
          0.4171444794243565,
          0.4376917610543195
         ],
         "line": {
          "color": "grey",
          "width": 0.25
         },
         "marker": {
          "color": "silver",
          "line": {
           "color": "black",
           "width": 0
          },
          "opacity": 0.9,
          "size": 6
         },
         "mode": "lines+text",
         "name": "URY",
         "showlegend": false,
         "subplot": "ternary",
         "text": [
          "",
          "",
          "",
          "",
          "",
          "",
          "",
          "",
          "",
          "",
          "",
          "",
          "",
          "",
          ""
         ],
         "textfont": {
          "color": "black",
          "size": 3.2416412520404343
         },
         "type": "scatterternary"
        },
        {
         "a": [
          0.04875942511933649,
          0.058363511812897166,
          0.0928478892179443,
          0.0949558047193293,
          0.1175123963118937
         ],
         "b": [
          0.9488191492384386,
          0.938670922618398,
          0.9021095160149148,
          0.8992550171938953,
          0.8742416983082187
         ],
         "c": [
          0.002421425642224828,
          0.0029655655687048283,
          0.005042594767140812,
          0.005789178086775325,
          0.008245905379887534
         ],
         "line": {
          "color": "grey",
          "width": 0.25
         },
         "marker": {
          "color": "silver",
          "line": {
           "color": "black",
           "width": 0
          },
          "opacity": 0.9,
          "size": 6
         },
         "mode": "lines+text",
         "name": "URY",
         "showlegend": false,
         "subplot": "ternary",
         "text": [
          "",
          "",
          "",
          "",
          "",
          "",
          "",
          "",
          "",
          "",
          "",
          "",
          "",
          "",
          ""
         ],
         "textfont": {
          "color": "black",
          "size": 3.2416412520404343
         },
         "type": "scatterternary"
        },
        {
         "a": [
          0.7540796754610927,
          0.7695430273781192,
          0.7633023334076245,
          0.7621630744498891,
          0.7609417051815264,
          0.7571417553424811,
          0.7533747987456154,
          0.7439450057866905,
          0.7372987091813015,
          0.7437534228209377,
          0.7518781127761016,
          0.7703946288428042,
          0.77616860468426,
          0.7611474519328084,
          0.737337869705131
         ],
         "b": [
          0.20386020364397123,
          0.18743720367565267,
          0.19438473647168802,
          0.18852140507255705,
          0.18266587370658308,
          0.1750696952051689,
          0.15912354207399912,
          0.14693167154941406,
          0.13039149620570128,
          0.10469194143447928,
          0.07786369651861168,
          0.04982627497487488,
          0.030439276014280137,
          0.02803113505582508,
          0.03438328807216281
         ],
         "c": [
          0.04206012089493578,
          0.043019768946228054,
          0.04231293012068752,
          0.049315520477553706,
          0.056392421111890696,
          0.0677885494523501,
          0.08750165918038531,
          0.10912332266389546,
          0.1323097946129973,
          0.15155463574458305,
          0.17025819070528672,
          0.1797790961823209,
          0.19339211930145994,
          0.21082141301136653,
          0.22827884222270595
         ],
         "line": {
          "color": "grey",
          "width": 0.25
         },
         "marker": {
          "color": "silver",
          "line": {
           "color": "black",
           "width": 0
          },
          "opacity": 0.9,
          "size": 6
         },
         "mode": "lines+text",
         "name": "UZB",
         "showlegend": false,
         "subplot": "ternary",
         "text": [
          "",
          "",
          "",
          "",
          "",
          "",
          "",
          "",
          "",
          "",
          "",
          "",
          "",
          "",
          ""
         ],
         "textfont": {
          "color": "black",
          "size": 6.561844021961204
         },
         "type": "scatterternary"
        },
        {
         "a": [
          0.7540796754610927,
          0.7695430273781192,
          0.7633023334076245,
          0.7621630744498891,
          0.7609417051815264
         ],
         "b": [
          0.20386020364397123,
          0.18743720367565267,
          0.19438473647168802,
          0.18852140507255705,
          0.18266587370658308
         ],
         "c": [
          0.04206012089493578,
          0.043019768946228054,
          0.04231293012068752,
          0.049315520477553706,
          0.056392421111890696
         ],
         "line": {
          "color": "grey",
          "width": 0.25
         },
         "marker": {
          "color": "silver",
          "line": {
           "color": "black",
           "width": 0
          },
          "opacity": 0.9,
          "size": 6
         },
         "mode": "lines+text",
         "name": "UZB",
         "showlegend": false,
         "subplot": "ternary",
         "text": [
          "",
          "",
          "",
          "",
          "",
          "",
          "",
          "",
          "",
          "",
          "",
          "",
          "",
          "",
          ""
         ],
         "textfont": {
          "color": "black",
          "size": 6.561844021961204
         },
         "type": "scatterternary"
        },
        {
         "a": [
          0.04331367202482741,
          0.1144248617051773,
          0.20721365625712154,
          0.2713609765940781,
          0.33249460529641195,
          0.38895899955645385,
          0.45572492942771115,
          0.5140334751609845,
          0.5641680794753169,
          0.5990937974069525,
          0.6249284696402578,
          0.6239888267825872,
          0.614972652294956,
          0.6063586226559976,
          0.5947411194712103
         ],
         "b": [
          0.9545371091543045,
          0.879757881409665,
          0.7817285709230072,
          0.712947285818901,
          0.6465916313423576,
          0.5820112840619758,
          0.5028412970927668,
          0.42788497285591176,
          0.3554351504815802,
          0.2970905982592998,
          0.24460941378725234,
          0.23109755101858387,
          0.23072192550429674,
          0.2368206217619967,
          0.24793533506504445
         ],
         "c": [
          0.002149218820868179,
          0.00581725688515757,
          0.011057772819871322,
          0.01569173758702117,
          0.020913763361230332,
          0.02902971638157024,
          0.04143377347952221,
          0.05808155198310359,
          0.08039677004310287,
          0.10381560433374779,
          0.13046211657248982,
          0.14491362219882892,
          0.15430542220074733,
          0.15682075558200584,
          0.15732354546374527
         ],
         "line": {
          "color": "grey",
          "width": 0.25
         },
         "marker": {
          "color": "silver",
          "line": {
           "color": "black",
           "width": 0
          },
          "opacity": 0.9,
          "size": 6
         },
         "mode": "lines+text",
         "name": "VUT",
         "showlegend": false,
         "subplot": "ternary",
         "text": [
          "",
          "",
          "",
          "",
          "",
          "",
          "",
          "",
          "",
          "",
          "",
          "",
          "",
          "",
          ""
         ],
         "textfont": {
          "color": "black",
          "size": 1.8549589454887454
         },
         "type": "scatterternary"
        },
        {
         "a": [
          0.04331367202482741,
          0.1144248617051773,
          0.20721365625712154,
          0.2713609765940781,
          0.33249460529641195
         ],
         "b": [
          0.9545371091543045,
          0.879757881409665,
          0.7817285709230072,
          0.712947285818901,
          0.6465916313423576
         ],
         "c": [
          0.002149218820868179,
          0.00581725688515757,
          0.011057772819871322,
          0.01569173758702117,
          0.020913763361230332
         ],
         "line": {
          "color": "grey",
          "width": 0.25
         },
         "marker": {
          "color": "silver",
          "line": {
           "color": "black",
           "width": 0
          },
          "opacity": 0.9,
          "size": 6
         },
         "mode": "lines+text",
         "name": "VUT",
         "showlegend": false,
         "subplot": "ternary",
         "text": [
          "",
          "",
          "",
          "",
          "",
          "",
          "",
          "",
          "",
          "",
          "",
          "",
          "",
          "",
          ""
         ],
         "textfont": {
          "color": "black",
          "size": 1.8549589454887454
         },
         "type": "scatterternary"
        },
        {
         "a": [
          0,
          0,
          0,
          0,
          0,
          0,
          0,
          0,
          0,
          0,
          0,
          0,
          0,
          0,
          0
         ],
         "b": [
          0,
          0,
          0,
          0,
          0,
          0,
          0,
          0,
          0,
          0,
          0,
          0,
          0,
          0,
          0
         ],
         "c": [
          0,
          0,
          0,
          0,
          0,
          0,
          0,
          0,
          0,
          0,
          0,
          0,
          0,
          0,
          0
         ],
         "line": {
          "color": "grey",
          "width": 0.25
         },
         "marker": {
          "color": "silver",
          "line": {
           "color": "black",
           "width": 0
          },
          "opacity": 0.9,
          "size": 6
         },
         "mode": "lines+text",
         "name": "VEN",
         "showlegend": false,
         "subplot": "ternary",
         "text": [
          "",
          "",
          "",
          "",
          "",
          "",
          "",
          "",
          "",
          "",
          "",
          "",
          "",
          "",
          ""
         ],
         "textfont": {
          "color": "black",
          "size": 6.239112071395928
         },
         "type": "scatterternary"
        },
        {
         "a": [
          0,
          0,
          0,
          0,
          0
         ],
         "b": [
          0,
          0,
          0,
          0,
          0
         ],
         "c": [
          0,
          0,
          0,
          0,
          0
         ],
         "line": {
          "color": "grey",
          "width": 0.25
         },
         "marker": {
          "color": "silver",
          "line": {
           "color": "black",
           "width": 0
          },
          "opacity": 0.9,
          "size": 6
         },
         "mode": "lines+text",
         "name": "VEN",
         "showlegend": false,
         "subplot": "ternary",
         "text": [
          "",
          "",
          "",
          "",
          "",
          "",
          "",
          "",
          "",
          "",
          "",
          "",
          "",
          "",
          ""
         ],
         "textfont": {
          "color": "black",
          "size": 6.239112071395928
         },
         "type": "scatterternary"
        },
        {
         "a": [
          0.18051526600602133,
          0.3141465156497173,
          0.49697462053209523,
          0.507328511235806,
          0.5710605545838298,
          0.6471316475698696,
          0.6862388712629421,
          0.6634552813585072,
          0.5784183546347659,
          0.48049659500285696,
          0.38654191606182325,
          0.31422847986981206,
          0.2588947561898946,
          0.22419884061603962,
          0.20178847935453836
         ],
         "b": [
          0.8105648231962359,
          0.6703575958418022,
          0.4757758191899682,
          0.460043007873453,
          0.3847094081380037,
          0.28284217794079614,
          0.21687549116763868,
          0.21586018125963816,
          0.27789207456077614,
          0.350494260812938,
          0.4146776555331949,
          0.4582378417048222,
          0.4856387776016437,
          0.4942200141653278,
          0.4968728985790611
         ],
         "c": [
          0.008919910797742774,
          0.015495888508480452,
          0.02724956027793637,
          0.032628480890740726,
          0.04423003727816654,
          0.07002617448933439,
          0.09688563756941929,
          0.12068453738185447,
          0.143689570804458,
          0.16900914418420512,
          0.198780428404982,
          0.22753367842536584,
          0.2554664662084616,
          0.28158114521863264,
          0.30133862206640055
         ],
         "line": {
          "color": "grey",
          "width": 0.25
         },
         "marker": {
          "color": "silver",
          "line": {
           "color": "black",
           "width": 0
          },
          "opacity": 0.9,
          "size": 6
         },
         "mode": "lines+text",
         "name": "VNM",
         "showlegend": false,
         "subplot": "ternary",
         "text": [
          "",
          "",
          "",
          "",
          "",
          "",
          "",
          "",
          "",
          "",
          "",
          "",
          "",
          "",
          ""
         ],
         "textfont": {
          "color": "black",
          "size": 9.507711770409312
         },
         "type": "scatterternary"
        },
        {
         "a": [
          0.18051526600602133,
          0.3141465156497173,
          0.49697462053209523,
          0.507328511235806,
          0.5710605545838298
         ],
         "b": [
          0.8105648231962359,
          0.6703575958418022,
          0.4757758191899682,
          0.460043007873453,
          0.3847094081380037
         ],
         "c": [
          0.008919910797742774,
          0.015495888508480452,
          0.02724956027793637,
          0.032628480890740726,
          0.04423003727816654
         ],
         "line": {
          "color": "grey",
          "width": 0.25
         },
         "marker": {
          "color": "silver",
          "line": {
           "color": "black",
           "width": 0
          },
          "opacity": 0.9,
          "size": 6
         },
         "mode": "lines+text",
         "name": "VNM",
         "showlegend": false,
         "subplot": "ternary",
         "text": [
          "",
          "",
          "",
          "",
          "",
          "",
          "",
          "",
          "",
          "",
          "",
          "",
          "",
          "",
          ""
         ],
         "textfont": {
          "color": "black",
          "size": 9.507711770409312
         },
         "type": "scatterternary"
        },
        {
         "a": [
          0.011190663103909225,
          0.03585572870483705,
          0.0901458916275766,
          0.12142321712295183,
          0.15584433465656866,
          0.21944826804267745,
          0.3221607626747671,
          0.44244452128183304,
          0.5362675448531533,
          0.5775253337125684,
          0.5774438397723047,
          0.5604986627043799,
          0.546138274626963,
          0.542312706728388,
          0.5309686909617921
         ],
         "b": [
          0.988215070700879,
          0.9623717081331874,
          0.9052613659293814,
          0.8717740606014521,
          0.834010064912527,
          0.7613474730194736,
          0.6404981019015797,
          0.4917654813898736,
          0.36017738863726145,
          0.28355459201038435,
          0.25488404990452995,
          0.2665106365968567,
          0.2803234356443906,
          0.28800957625163986,
          0.30218157593506856
         ],
         "c": [
          0.0005942661952118221,
          0.0017725631619755968,
          0.004592742443041888,
          0.006802722275595996,
          0.010145600430904409,
          0.019204258937848898,
          0.03734113542365343,
          0.06578999732829328,
          0.1035550665095854,
          0.1389200742770474,
          0.1676721103231653,
          0.17299070069876352,
          0.1735382897286466,
          0.16967771701997195,
          0.16684973310313927
         ],
         "line": {
          "color": "grey",
          "width": 0.25
         },
         "marker": {
          "color": "silver",
          "line": {
           "color": "black",
           "width": 0
          },
          "opacity": 0.9,
          "size": 6
         },
         "mode": "lines+text",
         "name": "YEM",
         "showlegend": false,
         "subplot": "ternary",
         "text": [
          "",
          "",
          "",
          "",
          "",
          "",
          "",
          "",
          "",
          "",
          "",
          "",
          "",
          "",
          ""
         ],
         "textfont": {
          "color": "black",
          "size": 6.472682194748737
         },
         "type": "scatterternary"
        },
        {
         "a": [
          0.011190663103909225,
          0.03585572870483705,
          0.0901458916275766,
          0.12142321712295183,
          0.15584433465656866
         ],
         "b": [
          0.988215070700879,
          0.9623717081331874,
          0.9052613659293814,
          0.8717740606014521,
          0.834010064912527
         ],
         "c": [
          0.0005942661952118221,
          0.0017725631619755968,
          0.004592742443041888,
          0.006802722275595996,
          0.010145600430904409
         ],
         "line": {
          "color": "grey",
          "width": 0.25
         },
         "marker": {
          "color": "silver",
          "line": {
           "color": "black",
           "width": 0
          },
          "opacity": 0.9,
          "size": 6
         },
         "mode": "lines+text",
         "name": "YEM",
         "showlegend": false,
         "subplot": "ternary",
         "text": [
          "",
          "",
          "",
          "",
          "",
          "",
          "",
          "",
          "",
          "",
          "",
          "",
          "",
          "",
          ""
         ],
         "textfont": {
          "color": "black",
          "size": 6.472682194748737
         },
         "type": "scatterternary"
        },
        {
         "a": [
          0.2885577371721762,
          0.3451693351937396,
          0.3835304571763338,
          0.3573360101995998,
          0.30599813378610596,
          0.23101454901632681,
          0.184258002413662,
          0.14584814016883718,
          0.11057095249716511,
          0.09053113984018601,
          0.07278379264509523,
          0.0632671664575333,
          0.05851116201458155,
          0.06030287147727175,
          0.06751312007404259
         ],
         "b": [
          0.6970077321326748,
          0.6329756879969942,
          0.5924091515653191,
          0.6211909228315218,
          0.674163326414039,
          0.7485000356040085,
          0.7944619593244231,
          0.8257428359026098,
          0.8368559452151889,
          0.819909447168155,
          0.78567250279249,
          0.7480687630914036,
          0.710338379994786,
          0.6804213973750375,
          0.6599764918341262
         ],
         "c": [
          0.014434530695149009,
          0.02185497680926637,
          0.024060391258347042,
          0.021473066968878646,
          0.019838539799855143,
          0.020485415379664515,
          0.021280038261914973,
          0.028409023928553125,
          0.052573102287646056,
          0.08955941299165898,
          0.14154370456241472,
          0.18866407045106323,
          0.23115045799063258,
          0.2592757311476908,
          0.2725103880918313
         ],
         "line": {
          "color": "grey",
          "width": 0.25
         },
         "marker": {
          "color": "silver",
          "line": {
           "color": "black",
           "width": 0
          },
          "opacity": 0.9,
          "size": 6
         },
         "mode": "lines+text",
         "name": "ZMB",
         "showlegend": false,
         "subplot": "ternary",
         "text": [
          "",
          "",
          "",
          "",
          "",
          "",
          "",
          "",
          "",
          "",
          "",
          "",
          "",
          "",
          ""
         ],
         "textfont": {
          "color": "black",
          "size": 5.414216027546614
         },
         "type": "scatterternary"
        },
        {
         "a": [
          0.2885577371721762,
          0.3451693351937396,
          0.3835304571763338,
          0.3573360101995998,
          0.30599813378610596
         ],
         "b": [
          0.6970077321326748,
          0.6329756879969942,
          0.5924091515653191,
          0.6211909228315218,
          0.674163326414039
         ],
         "c": [
          0.014434530695149009,
          0.02185497680926637,
          0.024060391258347042,
          0.021473066968878646,
          0.019838539799855143
         ],
         "line": {
          "color": "grey",
          "width": 0.25
         },
         "marker": {
          "color": "silver",
          "line": {
           "color": "black",
           "width": 0
          },
          "opacity": 0.9,
          "size": 6
         },
         "mode": "lines+text",
         "name": "ZMB",
         "showlegend": false,
         "subplot": "ternary",
         "text": [
          "",
          "",
          "",
          "",
          "",
          "",
          "",
          "",
          "",
          "",
          "",
          "",
          "",
          "",
          ""
         ],
         "textfont": {
          "color": "black",
          "size": 5.414216027546614
         },
         "type": "scatterternary"
        },
        {
         "a": [
          0.040965025910862665,
          0.09421352814905043,
          0.22030602675161712,
          0.2682881194797506,
          0.29370979775833594,
          0.3088684772474788,
          0.28503223082637286,
          0.22803163843365107,
          0.16039535216546624,
          0.12013640669904804,
          0.08561212667627592,
          0.06670514306324643,
          0.05569826841988847,
          0.052324155145897826,
          0.05101374599359271
         ],
         "b": [
          0.9569486063396685,
          0.8998137987032546,
          0.7660148233934033,
          0.7155705090633303,
          0.6887125859586325,
          0.6664618285989518,
          0.6865819066346555,
          0.744952676958767,
          0.809296707587444,
          0.8310942239541331,
          0.8242037512884706,
          0.7957458444122699,
          0.7626960992705363,
          0.7362601492448997,
          0.7222416028150117
         ],
         "c": [
          0.002086367749468909,
          0.0059726731476947605,
          0.013679149854979485,
          0.016141371456919074,
          0.017577616283031734,
          0.02466969415356948,
          0.028385862538971556,
          0.0270156846075819,
          0.030307940247089712,
          0.04876936934681873,
          0.09018412203525374,
          0.13754901252448362,
          0.18160563230957524,
          0.21141569560920245,
          0.22674465119139559
         ],
         "line": {
          "color": "grey",
          "width": 0.25
         },
         "marker": {
          "color": "silver",
          "line": {
           "color": "black",
           "width": 0
          },
          "opacity": 0.9,
          "size": 6
         },
         "mode": "lines+text",
         "name": "ZWE",
         "showlegend": false,
         "subplot": "ternary",
         "text": [
          "",
          "",
          "",
          "",
          "",
          "",
          "",
          "",
          "",
          "",
          "",
          "",
          "",
          "",
          ""
         ],
         "textfont": {
          "color": "black",
          "size": 5.09946720749132
         },
         "type": "scatterternary"
        },
        {
         "a": [
          0.040965025910862665,
          0.09421352814905043,
          0.22030602675161712,
          0.2682881194797506,
          0.29370979775833594
         ],
         "b": [
          0.9569486063396685,
          0.8998137987032546,
          0.7660148233934033,
          0.7155705090633303,
          0.6887125859586325
         ],
         "c": [
          0.002086367749468909,
          0.0059726731476947605,
          0.013679149854979485,
          0.016141371456919074,
          0.017577616283031734
         ],
         "line": {
          "color": "grey",
          "width": 0.25
         },
         "marker": {
          "color": "silver",
          "line": {
           "color": "black",
           "width": 0
          },
          "opacity": 0.9,
          "size": 6
         },
         "mode": "lines+text",
         "name": "ZWE",
         "showlegend": false,
         "subplot": "ternary",
         "text": [
          "",
          "",
          "",
          "",
          "",
          "",
          "",
          "",
          "",
          "",
          "",
          "",
          "",
          "",
          ""
         ],
         "textfont": {
          "color": "black",
          "size": 5.09946720749132
         },
         "type": "scatterternary"
        },
        {
         "a": [
          0.02575062529925867,
          0.03079081399025711,
          0.04709278146059602,
          0.038746354530173804,
          0.041305042644517266,
          0.058000295636201626,
          0.09037608592757794,
          0.13390429120194727,
          0.14356726457273336,
          0.12275961799454596,
          0.09831719622931137,
          0.09113345300162003,
          0.08816276801565384,
          0.08990525456769123,
          0.09737494029935267
         ],
         "b": [
          0.9730058275114053,
          0.9676017558910781,
          0.9500878018572017,
          0.9578098205605856,
          0.952947540883388,
          0.9284468415022765,
          0.8746216620456101,
          0.7849517259247485,
          0.7232273389916432,
          0.7050635539249176,
          0.6977727055116756,
          0.7003290640630172,
          0.6987519621970316,
          0.688861645753865,
          0.679104893838865
         ],
         "c": [
          0.001243547189336061,
          0.0016074301186648438,
          0.002819416682202401,
          0.003443824909240642,
          0.005747416472094873,
          0.013552862861521926,
          0.03500225202681206,
          0.08114398287330424,
          0.13320539643562362,
          0.17217682808053655,
          0.20391009825901302,
          0.20853748293536267,
          0.2130852697873144,
          0.22123309967844382,
          0.22352016586178242
         ],
         "line": {
          "color": "navy",
          "width": 3
         },
         "marker": {
          "color": "navy",
          "line": {
           "color": "white",
           "width": 0.5
          },
          "opacity": 0.9,
          "size": [
           8,
           8,
           8,
           8,
           8,
           8,
           8,
           8,
           8,
           8,
           8,
           8,
           8,
           8,
           8
          ]
         },
         "mode": "lines+markers",
         "name": "USA",
         "showlegend": false,
         "subplot": "ternary",
         "text": [
          "2030",
          "",
          "",
          "",
          "",
          "",
          "'60",
          "",
          "",
          "",
          "'80",
          "",
          "",
          "",
          "2100"
         ],
         "textfont": {
          "color": "navy",
          "size": 16
         },
         "textposition": "top center",
         "type": "scatterternary"
        },
        {
         "a": [
          0.09737494029935267
         ],
         "b": [
          0.679104893838865
         ],
         "c": [
          0.22352016586178242
         ],
         "line": {
          "color": "navy",
          "width": 3
         },
         "marker": {
          "color": "navy",
          "line": {
           "color": "white",
           "width": 0.5
          },
          "opacity": 0.9,
          "size": [
           20
          ]
         },
         "mode": "markers+text",
         "name": "USA",
         "showlegend": false,
         "subplot": "ternary",
         "text": [
          "<b>USA"
         ],
         "textfont": {
          "color": "navy",
          "size": 18
         },
         "textposition": "middle right",
         "type": "scatterternary"
        },
        {
         "a": [
          0.02575062529925867
         ],
         "b": [
          0.9730058275114053
         ],
         "c": [
          0.001243547189336061
         ],
         "line": {
          "color": "navy",
          "width": 3
         },
         "marker": {
          "color": "navy",
          "line": {
           "color": "white",
           "width": 0.5
          },
          "opacity": 0.9,
          "size": [
           20
          ]
         },
         "mode": "markers+text",
         "name": "USA",
         "showlegend": false,
         "subplot": "ternary",
         "text": [
          ""
         ],
         "textfont": {
          "color": "navy",
          "size": 16
         },
         "textposition": "middle right",
         "type": "scatterternary"
        },
        {
         "a": [
          0.041305042644517266
         ],
         "b": [
          0.952947540883388
         ],
         "c": [
          0.005747416472094873
         ],
         "line": {
          "color": "navy",
          "width": 3
         },
         "marker": {
          "color": "navy",
          "line": {
           "color": "white",
           "width": 0.5
          },
          "opacity": 0.9,
          "size": [
           15
          ]
         },
         "mode": "markers+text",
         "name": "USA",
         "showlegend": false,
         "subplot": "ternary",
         "text": [
          ""
         ],
         "textfont": {
          "color": "navy",
          "size": 16
         },
         "textposition": "middle right",
         "type": "scatterternary"
        },
        {
         "a": [
          0.09737494029935267
         ],
         "b": [
          0.679104893838865
         ],
         "c": [
          0.22352016586178242
         ],
         "line": {
          "color": "navy",
          "width": 3
         },
         "marker": {
          "color": "navy",
          "line": {
           "color": "white",
           "width": 0.5
          },
          "opacity": 0.9,
          "size": [
           20
          ]
         },
         "mode": "markers+text",
         "name": "USA",
         "showlegend": false,
         "subplot": "ternary",
         "text": [
          "2100"
         ],
         "textfont": {
          "color": "navy",
          "size": 16
         },
         "textposition": "bottom center",
         "type": "scatterternary"
        },
        {
         "a": [
          0.3103922891781883,
          0.38387558527515364,
          0.48064037462397846,
          0.48998789549106203,
          0.533513006036328,
          0.5742698953560356,
          0.5822860293567723,
          0.5439274160794683,
          0.4710127844352597,
          0.3983112182078407,
          0.3331055947563541,
          0.2867078152116635,
          0.25587401820593525,
          0.24603649919533377,
          0.24398566220617723
         ],
         "b": [
          0.6743355259193385,
          0.5959035209890939,
          0.4932454338380432,
          0.48081182067381134,
          0.43169726281969806,
          0.3791780811427324,
          0.35363015843749956,
          0.36872712293060916,
          0.40842582863990634,
          0.4408340136537587,
          0.45785907011693916,
          0.4603624206133684,
          0.456004521648823,
          0.44618049295476353,
          0.4299475715761103
         ],
         "c": [
          0.015272184902473307,
          0.02022089373575265,
          0.026114191537978212,
          0.029200283835126722,
          0.034789731143974,
          0.04655202350123217,
          0.06408381220572842,
          0.08734546098992248,
          0.12056138692483373,
          0.16085476813840072,
          0.2090353351267064,
          0.25292976417496815,
          0.28812146014524154,
          0.3077830078499028,
          0.32606676621771247
         ],
         "line": {
          "color": "red",
          "width": 3
         },
         "marker": {
          "color": "red",
          "line": {
           "color": "white",
           "width": 0.5
          },
          "opacity": 0.9,
          "size": [
           8,
           8,
           8,
           8,
           8,
           8,
           8,
           8,
           8,
           8,
           8,
           8,
           8,
           8,
           8
          ]
         },
         "mode": "lines+markers",
         "name": "CHN",
         "showlegend": false,
         "subplot": "ternary",
         "text": [
          "2030",
          "",
          "",
          "",
          "",
          "",
          "'60",
          "",
          "",
          "",
          "'80",
          "",
          "",
          "",
          "2100"
         ],
         "textfont": {
          "color": "red",
          "size": 16
         },
         "textposition": "top center",
         "type": "scatterternary"
        },
        {
         "a": [
          0.24398566220617723
         ],
         "b": [
          0.4299475715761103
         ],
         "c": [
          0.32606676621771247
         ],
         "line": {
          "color": "red",
          "width": 3
         },
         "marker": {
          "color": "red",
          "line": {
           "color": "white",
           "width": 0.5
          },
          "opacity": 0.9,
          "size": [
           20
          ]
         },
         "mode": "markers+text",
         "name": "CHN",
         "showlegend": false,
         "subplot": "ternary",
         "text": [
          "<b>CHN"
         ],
         "textfont": {
          "color": "red",
          "size": 18
         },
         "textposition": "middle right",
         "type": "scatterternary"
        },
        {
         "a": [
          0.3103922891781883
         ],
         "b": [
          0.6743355259193385
         ],
         "c": [
          0.015272184902473307
         ],
         "line": {
          "color": "red",
          "width": 3
         },
         "marker": {
          "color": "red",
          "line": {
           "color": "white",
           "width": 0.5
          },
          "opacity": 0.9,
          "size": [
           20
          ]
         },
         "mode": "markers+text",
         "name": "CHN",
         "showlegend": false,
         "subplot": "ternary",
         "text": [
          ""
         ],
         "textfont": {
          "color": "red",
          "size": 16
         },
         "textposition": "middle right",
         "type": "scatterternary"
        },
        {
         "a": [
          0.533513006036328
         ],
         "b": [
          0.43169726281969806
         ],
         "c": [
          0.034789731143974
         ],
         "line": {
          "color": "red",
          "width": 3
         },
         "marker": {
          "color": "red",
          "line": {
           "color": "white",
           "width": 0.5
          },
          "opacity": 0.9,
          "size": [
           15
          ]
         },
         "mode": "markers+text",
         "name": "CHN",
         "showlegend": false,
         "subplot": "ternary",
         "text": [
          ""
         ],
         "textfont": {
          "color": "red",
          "size": 16
         },
         "textposition": "middle right",
         "type": "scatterternary"
        },
        {
         "a": [
          0.24398566220617723
         ],
         "b": [
          0.4299475715761103
         ],
         "c": [
          0.32606676621771247
         ],
         "line": {
          "color": "red",
          "width": 3
         },
         "marker": {
          "color": "red",
          "line": {
           "color": "white",
           "width": 0.5
          },
          "opacity": 0.9,
          "size": [
           20
          ]
         },
         "mode": "markers+text",
         "name": "CHN",
         "showlegend": false,
         "subplot": "ternary",
         "text": [
          "2100"
         ],
         "textfont": {
          "color": "red",
          "size": 16
         },
         "textposition": "bottom center",
         "type": "scatterternary"
        },
        {
         "a": [
          0.021992637366098782,
          0.05115713865224428,
          0.120870501460451,
          0.14383379349413938,
          0.18294354015278758,
          0.2633392496722252,
          0.4035657474745721,
          0.5779334441972738,
          0.7070596574918223,
          0.7686612475124205,
          0.7906232790944109,
          0.7883776970530827,
          0.7744301179112618,
          0.762971372902641,
          0.7549872175709015
         ],
         "b": [
          0.9768994197478655,
          0.9462831582171667,
          0.8730062095445398,
          0.8481682956760619,
          0.8050432730776573,
          0.711613256733425,
          0.5440487524576326,
          0.33280543237301013,
          0.16422959484491959,
          0.07438796453070635,
          0.032020374997701155,
          0.025906164719282837,
          0.03080110455319836,
          0.03633808247923281,
          0.03976993412504199
         ],
         "c": [
          0.0011079428860357205,
          0.002559703130588911,
          0.006123288995009033,
          0.007997910829798506,
          0.012013186769555087,
          0.025047493594349903,
          0.0523855000677954,
          0.08926112342971593,
          0.12871074766325818,
          0.15695078795687287,
          0.17735634590788796,
          0.18571613822763444,
          0.1947687775355398,
          0.2006905446181263,
          0.2052428483040567
         ],
         "line": {
          "color": "orange",
          "width": 3
         },
         "marker": {
          "color": "orange",
          "line": {
           "color": "white",
           "width": 0.5
          },
          "opacity": 0.9,
          "size": [
           8,
           8,
           8,
           8,
           8,
           8,
           8,
           8,
           8,
           8,
           8,
           8,
           8,
           8,
           8
          ]
         },
         "mode": "lines+markers",
         "name": "IND",
         "showlegend": false,
         "subplot": "ternary",
         "text": [
          "2030",
          "",
          "",
          "",
          "",
          "",
          "'60",
          "",
          "",
          "",
          "'80",
          "",
          "",
          "",
          "2100"
         ],
         "textfont": {
          "color": "orange",
          "size": 16
         },
         "textposition": "top center",
         "type": "scatterternary"
        },
        {
         "a": [
          0.7549872175709015
         ],
         "b": [
          0.03976993412504199
         ],
         "c": [
          0.2052428483040567
         ],
         "line": {
          "color": "orange",
          "width": 3
         },
         "marker": {
          "color": "orange",
          "line": {
           "color": "white",
           "width": 0.5
          },
          "opacity": 0.9,
          "size": [
           20
          ]
         },
         "mode": "markers+text",
         "name": "IND",
         "showlegend": false,
         "subplot": "ternary",
         "text": [
          "<b>IND"
         ],
         "textfont": {
          "color": "orange",
          "size": 18
         },
         "textposition": "middle left",
         "type": "scatterternary"
        },
        {
         "a": [
          0.021992637366098782
         ],
         "b": [
          0.9768994197478655
         ],
         "c": [
          0.0011079428860357205
         ],
         "line": {
          "color": "orange",
          "width": 3
         },
         "marker": {
          "color": "orange",
          "line": {
           "color": "white",
           "width": 0.5
          },
          "opacity": 0.9,
          "size": [
           20
          ]
         },
         "mode": "markers+text",
         "name": "IND",
         "showlegend": false,
         "subplot": "ternary",
         "text": [
          ""
         ],
         "textfont": {
          "color": "orange",
          "size": 16
         },
         "textposition": "middle right",
         "type": "scatterternary"
        },
        {
         "a": [
          0.18294354015278758
         ],
         "b": [
          0.8050432730776573
         ],
         "c": [
          0.012013186769555087
         ],
         "line": {
          "color": "orange",
          "width": 3
         },
         "marker": {
          "color": "orange",
          "line": {
           "color": "white",
           "width": 0.5
          },
          "opacity": 0.9,
          "size": [
           15
          ]
         },
         "mode": "markers+text",
         "name": "IND",
         "showlegend": false,
         "subplot": "ternary",
         "text": [
          ""
         ],
         "textfont": {
          "color": "orange",
          "size": 16
         },
         "textposition": "middle right",
         "type": "scatterternary"
        },
        {
         "a": [
          0.7549872175709015
         ],
         "b": [
          0.03976993412504199
         ],
         "c": [
          0.2052428483040567
         ],
         "line": {
          "color": "orange",
          "width": 3
         },
         "marker": {
          "color": "orange",
          "line": {
           "color": "white",
           "width": 0.5
          },
          "opacity": 0.9,
          "size": [
           20
          ]
         },
         "mode": "markers+text",
         "name": "IND",
         "showlegend": false,
         "subplot": "ternary",
         "text": [
          "2100"
         ],
         "textfont": {
          "color": "orange",
          "size": 16
         },
         "textposition": "bottom center",
         "type": "scatterternary"
        },
        {
         "a": [
          0.0665148399729943,
          0.0832479405446553,
          0.13510448207484607,
          0.14290967449487102,
          0.1739153868033551,
          0.24995191106744283,
          0.39026056940198367,
          0.5523517841844496,
          0.59080276551594,
          0.48352171490851537,
          0.3543954863611801,
          0.2666614937152055,
          0.19529101396105333,
          0.15465041884287056,
          0.13418119674409984
         ],
         "b": [
          0.9302816507426805,
          0.9125797893346564,
          0.8577320381433486,
          0.8483631557344913,
          0.8148486475996656,
          0.7304073427853552,
          0.5708153949968197,
          0.3749495422687245,
          0.2957071044257926,
          0.3726699111161939,
          0.47659046596074867,
          0.5413519196425733,
          0.572626878776076,
          0.5799136737043699,
          0.5747302584479553
         ],
         "c": [
          0.003203509284325257,
          0.004172270120688449,
          0.007163479781805395,
          0.008727169770637595,
          0.011235965596979374,
          0.01964074614720199,
          0.038924035601196706,
          0.07269867354682595,
          0.1134901300582673,
          0.1438083739752909,
          0.16901404767807116,
          0.19198658664222124,
          0.23208210726287057,
          0.2654359074527596,
          0.2910885448079449
         ],
         "line": {
          "color": "green",
          "width": 3
         },
         "marker": {
          "color": "green",
          "line": {
           "color": "white",
           "width": 0.5
          },
          "opacity": 0.9,
          "size": [
           8,
           8,
           8,
           8,
           8,
           8,
           8,
           8,
           8,
           8,
           8,
           8,
           8,
           8,
           8
          ]
         },
         "mode": "lines+markers",
         "name": "BRA",
         "showlegend": false,
         "subplot": "ternary",
         "text": [
          "2030",
          "",
          "",
          "",
          "",
          "",
          "'60",
          "",
          "",
          "",
          "'80",
          "",
          "",
          "",
          "2100"
         ],
         "textfont": {
          "color": "green",
          "size": 16
         },
         "textposition": "top center",
         "type": "scatterternary"
        },
        {
         "a": [
          0.13418119674409984
         ],
         "b": [
          0.5747302584479553
         ],
         "c": [
          0.2910885448079449
         ],
         "line": {
          "color": "green",
          "width": 3
         },
         "marker": {
          "color": "green",
          "line": {
           "color": "white",
           "width": 0.5
          },
          "opacity": 0.9,
          "size": [
           20
          ]
         },
         "mode": "markers+text",
         "name": "BRA",
         "showlegend": false,
         "subplot": "ternary",
         "text": [
          "<b>BRA"
         ],
         "textfont": {
          "color": "green",
          "size": 18
         },
         "textposition": "middle right",
         "type": "scatterternary"
        },
        {
         "a": [
          0.0665148399729943
         ],
         "b": [
          0.9302816507426805
         ],
         "c": [
          0.003203509284325257
         ],
         "line": {
          "color": "green",
          "width": 3
         },
         "marker": {
          "color": "green",
          "line": {
           "color": "white",
           "width": 0.5
          },
          "opacity": 0.9,
          "size": [
           20
          ]
         },
         "mode": "markers+text",
         "name": "BRA",
         "showlegend": false,
         "subplot": "ternary",
         "text": [
          ""
         ],
         "textfont": {
          "color": "green",
          "size": 16
         },
         "textposition": "middle right",
         "type": "scatterternary"
        },
        {
         "a": [
          0.1739153868033551
         ],
         "b": [
          0.8148486475996656
         ],
         "c": [
          0.011235965596979374
         ],
         "line": {
          "color": "green",
          "width": 3
         },
         "marker": {
          "color": "green",
          "line": {
           "color": "white",
           "width": 0.5
          },
          "opacity": 0.9,
          "size": [
           15
          ]
         },
         "mode": "markers+text",
         "name": "BRA",
         "showlegend": false,
         "subplot": "ternary",
         "text": [
          ""
         ],
         "textfont": {
          "color": "green",
          "size": 16
         },
         "textposition": "middle right",
         "type": "scatterternary"
        },
        {
         "a": [
          0.13418119674409984
         ],
         "b": [
          0.5747302584479553
         ],
         "c": [
          0.2910885448079449
         ],
         "line": {
          "color": "green",
          "width": 3
         },
         "marker": {
          "color": "green",
          "line": {
           "color": "white",
           "width": 0.5
          },
          "opacity": 0.9,
          "size": [
           20
          ]
         },
         "mode": "markers+text",
         "name": "BRA",
         "showlegend": false,
         "subplot": "ternary",
         "text": [
          "2100"
         ],
         "textfont": {
          "color": "green",
          "size": 16
         },
         "textposition": "bottom center",
         "type": "scatterternary"
        },
        {
         "a": [
          0.033942358138708245,
          0.08177880900094549,
          0.19435582198582133,
          0.25272179154214947,
          0.30092227950947553,
          0.3639895022677007,
          0.401066769079558,
          0.38053369027414485,
          0.3284131397369044,
          0.2806045961513403,
          0.2333709758830545,
          0.2136344802013307,
          0.2000595564909775,
          0.19695531389117357,
          0.19752082141569552
         ],
         "b": [
          0.9632507681258872,
          0.9104134153677468,
          0.7874935003790422,
          0.7298092387812595,
          0.6761753831993879,
          0.6011239477201108,
          0.5502448930522551,
          0.5634372405836949,
          0.6109299723674356,
          0.6484149351755388,
          0.6715034626908798,
          0.6644078943786665,
          0.6453581148972974,
          0.6194570273620231,
          0.5909243633980719
         ],
         "c": [
          0.0028068737354047437,
          0.007807775631307511,
          0.01815067763513648,
          0.01746896967659093,
          0.02290233729113665,
          0.03488655001218867,
          0.04868833786818685,
          0.05602906914215999,
          0.06065688789566007,
          0.07098046867312086,
          0.09512556142606543,
          0.1219576254200028,
          0.15458232861172502,
          0.1835876587468034,
          0.21155481518623265
         ],
         "line": {
          "color": "purple",
          "width": 3
         },
         "marker": {
          "color": "purple",
          "line": {
           "color": "white",
           "width": 0.5
          },
          "opacity": 0.9,
          "size": [
           8,
           8,
           8,
           8,
           8,
           8,
           8,
           8,
           8,
           8,
           8,
           8,
           8,
           8,
           8
          ]
         },
         "mode": "lines+markers",
         "name": "NGA",
         "showlegend": false,
         "subplot": "ternary",
         "text": [
          "2030",
          "",
          "",
          "",
          "",
          "",
          "'60",
          "",
          "",
          "",
          "'80",
          "",
          "",
          "",
          "2100"
         ],
         "textfont": {
          "color": "purple",
          "size": 16
         },
         "textposition": "top center",
         "type": "scatterternary"
        },
        {
         "a": [
          0.19752082141569552
         ],
         "b": [
          0.5909243633980719
         ],
         "c": [
          0.21155481518623265
         ],
         "line": {
          "color": "purple",
          "width": 3
         },
         "marker": {
          "color": "purple",
          "line": {
           "color": "white",
           "width": 0.5
          },
          "opacity": 0.9,
          "size": [
           20
          ]
         },
         "mode": "markers+text",
         "name": "NGA",
         "showlegend": false,
         "subplot": "ternary",
         "text": [
          "<b>NGA"
         ],
         "textfont": {
          "color": "purple",
          "size": 18
         },
         "textposition": "middle right",
         "type": "scatterternary"
        },
        {
         "a": [
          0.033942358138708245
         ],
         "b": [
          0.9632507681258872
         ],
         "c": [
          0.0028068737354047437
         ],
         "line": {
          "color": "purple",
          "width": 3
         },
         "marker": {
          "color": "purple",
          "line": {
           "color": "white",
           "width": 0.5
          },
          "opacity": 0.9,
          "size": [
           20
          ]
         },
         "mode": "markers+text",
         "name": "NGA",
         "showlegend": false,
         "subplot": "ternary",
         "text": [
          ""
         ],
         "textfont": {
          "color": "purple",
          "size": 16
         },
         "textposition": "middle right",
         "type": "scatterternary"
        },
        {
         "a": [
          0.30092227950947553
         ],
         "b": [
          0.6761753831993879
         ],
         "c": [
          0.02290233729113665
         ],
         "line": {
          "color": "purple",
          "width": 3
         },
         "marker": {
          "color": "purple",
          "line": {
           "color": "white",
           "width": 0.5
          },
          "opacity": 0.9,
          "size": [
           15
          ]
         },
         "mode": "markers+text",
         "name": "NGA",
         "showlegend": false,
         "subplot": "ternary",
         "text": [
          ""
         ],
         "textfont": {
          "color": "purple",
          "size": 16
         },
         "textposition": "middle right",
         "type": "scatterternary"
        },
        {
         "a": [
          0.19752082141569552
         ],
         "b": [
          0.5909243633980719
         ],
         "c": [
          0.21155481518623265
         ],
         "line": {
          "color": "purple",
          "width": 3
         },
         "marker": {
          "color": "purple",
          "line": {
           "color": "white",
           "width": 0.5
          },
          "opacity": 0.9,
          "size": [
           20
          ]
         },
         "mode": "markers+text",
         "name": "NGA",
         "showlegend": false,
         "subplot": "ternary",
         "text": [
          "2100"
         ],
         "textfont": {
          "color": "purple",
          "size": 16
         },
         "textposition": "bottom center",
         "type": "scatterternary"
        },
        {
         "a": [
          0.1326641419157244,
          0.16589811304004676,
          0.25219433303199784,
          0.25924558827567307,
          0.29931218794627534,
          0.3977593169084336,
          0.5504544592987395,
          0.697712986593922,
          0.7398835118737693,
          0.6695091355775176,
          0.5335261854462101,
          0.40283151391396815,
          0.30027957954420365,
          0.23754787685443474,
          0.19603345602707914
         ],
         "b": [
          0.8606930609452657,
          0.8255693484195713,
          0.7342762500589376,
          0.725509831010053,
          0.6810113279307274,
          0.5701827888985859,
          0.3946314192261196,
          0.21536847197565434,
          0.1335198211566326,
          0.16115520465519512,
          0.2515958396717527,
          0.3434994718296675,
          0.41363855088121265,
          0.45312575851776643,
          0.4685595442477336
         ],
         "c": [
          0.006642797139009814,
          0.008532538540382216,
          0.013529416909064656,
          0.015244580714274005,
          0.019676484122997107,
          0.032057894192980566,
          0.054914121475140944,
          0.08691854143042377,
          0.12659666696959807,
          0.1693356597672872,
          0.21487797488203725,
          0.2536690142563644,
          0.2860818695745837,
          0.309326364627799,
          0.3354069997251872
         ],
         "line": {
          "color": "chocolate",
          "width": 3
         },
         "marker": {
          "color": "chocolate",
          "line": {
           "color": "white",
           "width": 0.5
          },
          "opacity": 0.9,
          "size": [
           8,
           8,
           8,
           8,
           8,
           8,
           8,
           8,
           8,
           8,
           8,
           8,
           8,
           8,
           8
          ]
         },
         "mode": "lines+markers",
         "name": "ZAF",
         "showlegend": false,
         "subplot": "ternary",
         "text": [
          "2030",
          "",
          "",
          "",
          "",
          "",
          "'60",
          "",
          "",
          "",
          "'80",
          "",
          "",
          "",
          "2100"
         ],
         "textfont": {
          "color": "chocolate",
          "size": 16
         },
         "textposition": "top center",
         "type": "scatterternary"
        },
        {
         "a": [
          0.19603345602707914
         ],
         "b": [
          0.4685595442477336
         ],
         "c": [
          0.3354069997251872
         ],
         "line": {
          "color": "chocolate",
          "width": 3
         },
         "marker": {
          "color": "chocolate",
          "line": {
           "color": "white",
           "width": 0.5
          },
          "opacity": 0.9,
          "size": [
           20
          ]
         },
         "mode": "markers+text",
         "name": "ZAF",
         "showlegend": false,
         "subplot": "ternary",
         "text": [
          "<b>ZAF"
         ],
         "textfont": {
          "color": "chocolate",
          "size": 18
         },
         "textposition": "middle right",
         "type": "scatterternary"
        },
        {
         "a": [
          0.1326641419157244
         ],
         "b": [
          0.8606930609452657
         ],
         "c": [
          0.006642797139009814
         ],
         "line": {
          "color": "chocolate",
          "width": 3
         },
         "marker": {
          "color": "chocolate",
          "line": {
           "color": "white",
           "width": 0.5
          },
          "opacity": 0.9,
          "size": [
           20
          ]
         },
         "mode": "markers+text",
         "name": "ZAF",
         "showlegend": false,
         "subplot": "ternary",
         "text": [
          ""
         ],
         "textfont": {
          "color": "chocolate",
          "size": 16
         },
         "textposition": "middle right",
         "type": "scatterternary"
        },
        {
         "a": [
          0.29931218794627534
         ],
         "b": [
          0.6810113279307274
         ],
         "c": [
          0.019676484122997107
         ],
         "line": {
          "color": "chocolate",
          "width": 3
         },
         "marker": {
          "color": "chocolate",
          "line": {
           "color": "white",
           "width": 0.5
          },
          "opacity": 0.9,
          "size": [
           15
          ]
         },
         "mode": "markers+text",
         "name": "ZAF",
         "showlegend": false,
         "subplot": "ternary",
         "text": [
          ""
         ],
         "textfont": {
          "color": "chocolate",
          "size": 16
         },
         "textposition": "middle right",
         "type": "scatterternary"
        },
        {
         "a": [
          0.19603345602707914
         ],
         "b": [
          0.4685595442477336
         ],
         "c": [
          0.3354069997251872
         ],
         "line": {
          "color": "chocolate",
          "width": 3
         },
         "marker": {
          "color": "chocolate",
          "line": {
           "color": "white",
           "width": 0.5
          },
          "opacity": 0.9,
          "size": [
           20
          ]
         },
         "mode": "markers+text",
         "name": "ZAF",
         "showlegend": false,
         "subplot": "ternary",
         "text": [
          "2100"
         ],
         "textfont": {
          "color": "chocolate",
          "size": 16
         },
         "textposition": "bottom center",
         "type": "scatterternary"
        },
        {
         "a": [
          0.9098903299797317,
          0.8916985749998594,
          0.8556539410039097,
          0.8308467969594122,
          0.8230527448108453,
          0.8083716155713133,
          0.7888322163753989,
          0.7568713966784506,
          0.721705647523642,
          0.6803689412120426,
          0.637172079998031,
          0.5989418312522394,
          0.5580177273862291,
          0.5418928095894869,
          0.5491370941090119
         ],
         "b": [
          0.045662398414260286,
          0.057566192305612975,
          0.08768936646111562,
          0.10729573177025101,
          0.10607713686720525,
          0.10570128004741527,
          0.11137749505328522,
          0.12860045955182844,
          0.14705434930404254,
          0.1685835554629178,
          0.18686063592530702,
          0.19946381206731048,
          0.20828009353181748,
          0.20053327980379532,
          0.17639783111870927
         ],
         "c": [
          0.04444727160600775,
          0.05073523269452774,
          0.05665669253497453,
          0.06185747127033689,
          0.07087011832194942,
          0.08592710438127135,
          0.09979028857131576,
          0.11452814376972105,
          0.13124000317231554,
          0.1510475033250396,
          0.17596728407666185,
          0.20159435668045017,
          0.23370217908195345,
          0.2575739106067178,
          0.27446507477227877
         ],
         "line": {
          "color": "dodgerblue",
          "width": 3
         },
         "marker": {
          "color": "dodgerblue",
          "line": {
           "color": "white",
           "width": 0.5
          },
          "opacity": 0.9,
          "size": [
           8,
           8,
           8,
           8,
           8,
           8,
           8,
           8,
           8,
           8,
           8,
           8,
           8,
           8,
           8
          ]
         },
         "mode": "lines+markers",
         "name": "MEX",
         "showlegend": false,
         "subplot": "ternary",
         "text": [
          "2030",
          "",
          "",
          "",
          "",
          "",
          "'60",
          "",
          "",
          "",
          "'80",
          "",
          "",
          "",
          "2100"
         ],
         "textfont": {
          "color": "dodgerblue",
          "size": 16
         },
         "textposition": "top center",
         "type": "scatterternary"
        },
        {
         "a": [
          0.5491370941090119
         ],
         "b": [
          0.17639783111870927
         ],
         "c": [
          0.27446507477227877
         ],
         "line": {
          "color": "dodgerblue",
          "width": 3
         },
         "marker": {
          "color": "dodgerblue",
          "line": {
           "color": "white",
           "width": 0.5
          },
          "opacity": 0.9,
          "size": [
           20
          ]
         },
         "mode": "markers+text",
         "name": "MEX",
         "showlegend": false,
         "subplot": "ternary",
         "text": [
          "<b>MEX"
         ],
         "textfont": {
          "color": "dodgerblue",
          "size": 18
         },
         "textposition": "middle right",
         "type": "scatterternary"
        },
        {
         "a": [
          0.9098903299797317
         ],
         "b": [
          0.045662398414260286
         ],
         "c": [
          0.04444727160600775
         ],
         "line": {
          "color": "dodgerblue",
          "width": 3
         },
         "marker": {
          "color": "dodgerblue",
          "line": {
           "color": "white",
           "width": 0.5
          },
          "opacity": 0.9,
          "size": [
           20
          ]
         },
         "mode": "markers+text",
         "name": "MEX",
         "showlegend": false,
         "subplot": "ternary",
         "text": [
          ""
         ],
         "textfont": {
          "color": "dodgerblue",
          "size": 16
         },
         "textposition": "middle right",
         "type": "scatterternary"
        },
        {
         "a": [
          0.8230527448108453
         ],
         "b": [
          0.10607713686720525
         ],
         "c": [
          0.07087011832194942
         ],
         "line": {
          "color": "dodgerblue",
          "width": 3
         },
         "marker": {
          "color": "dodgerblue",
          "line": {
           "color": "white",
           "width": 0.5
          },
          "opacity": 0.9,
          "size": [
           15
          ]
         },
         "mode": "markers+text",
         "name": "MEX",
         "showlegend": false,
         "subplot": "ternary",
         "text": [
          ""
         ],
         "textfont": {
          "color": "dodgerblue",
          "size": 16
         },
         "textposition": "middle right",
         "type": "scatterternary"
        },
        {
         "a": [
          0.5491370941090119
         ],
         "b": [
          0.17639783111870927
         ],
         "c": [
          0.27446507477227877
         ],
         "line": {
          "color": "dodgerblue",
          "width": 3
         },
         "marker": {
          "color": "dodgerblue",
          "line": {
           "color": "white",
           "width": 0.5
          },
          "opacity": 0.9,
          "size": [
           20
          ]
         },
         "mode": "markers+text",
         "name": "MEX",
         "showlegend": false,
         "subplot": "ternary",
         "text": [
          "2100"
         ],
         "textfont": {
          "color": "dodgerblue",
          "size": 16
         },
         "textposition": "bottom center",
         "type": "scatterternary"
        },
        {
         "fill": "tozeroy",
         "marker": {
          "color": "goldenrod"
         },
         "mode": "lines",
         "name": "Allocation rule",
         "showlegend": true,
         "stackgroup": "one",
         "type": "scatter",
         "x": [
          2030,
          2035,
          2040,
          2045,
          2050,
          2055,
          2060,
          2065,
          2070,
          2075,
          2080,
          2085,
          2090,
          2095,
          2100
         ],
         "xaxis": "x2",
         "y": [
          0.5374409025635536,
          0.6582797710848296,
          0.6901496764478833,
          0.5525437535249726,
          0.4861844878231036,
          0.4776421206708242,
          0.48479864539716705,
          0.5344234076773139,
          0.6262879243842838,
          0.6800307858076988,
          0.6974206349006757,
          0.7003290640630172,
          0.6987519621970316,
          0.688861645753865,
          0.679104893838865
         ],
         "yaxis": "y2"
        },
        {
         "fill": "tonexty",
         "marker": {
          "color": "salmon"
         },
         "mode": "lines",
         "name": "Discount factor",
         "showlegend": true,
         "stackgroup": "one",
         "type": "scatter",
         "x": [
          2030,
          2035,
          2040,
          2045,
          2050,
          2055,
          2060,
          2065,
          2070,
          2075,
          2080,
          2085,
          2090,
          2095,
          2100
         ],
         "xaxis": "x2",
         "y": [
          0.12732043843736046,
          0.13798189196100416,
          0.13307165180792,
          0.10038726205828992,
          0.08160042750325759,
          0.07175842499590548,
          0.05757037778390668,
          0.03414422739440923,
          0.011933028988741002,
          0.002746522074283365,
          0.00003909336863307664,
          0,
          0,
          0,
          0
         ],
         "yaxis": "y2"
        },
        {
         "fill": "tonexty",
         "marker": {
          "color": "tomato"
         },
         "mode": "lines",
         "name": "Historical startyear",
         "showlegend": true,
         "stackgroup": "one",
         "type": "scatter",
         "x": [
          2030,
          2035,
          2040,
          2045,
          2050,
          2055,
          2060,
          2065,
          2070,
          2075,
          2080,
          2085,
          2090,
          2095,
          2100
         ],
         "xaxis": "x2",
         "y": [
          0.08357386646412722,
          0.08918639854245305,
          0.08299036470140754,
          0.06159567433465055,
          0.04997992634594512,
          0.04395110008920827,
          0.03526110953704597,
          0.020912894782421764,
          0.0073088250469992245,
          0.001682209099016788,
          0.000023944180700672595,
          0,
          0,
          0,
          0
         ],
         "yaxis": "y2"
        },
        {
         "fill": "tonexty",
         "marker": {
          "color": "darkred"
         },
         "mode": "lines",
         "name": "Convergence year",
         "showlegend": true,
         "stackgroup": "one",
         "type": "scatter",
         "x": [
          2030,
          2035,
          2040,
          2045,
          2050,
          2055,
          2060,
          2065,
          2070,
          2075,
          2080,
          2085,
          2090,
          2095,
          2100
         ],
         "xaxis": "x2",
         "y": [
          0.22467062004636404,
          0.0821536943027913,
          0.04387610889999087,
          0.24328313064267248,
          0.33518269921108157,
          0.33509519574633856,
          0.2969915293274903,
          0.19547119607060356,
          0.077697560571619,
          0.02060403694391852,
          0.0002890330616662,
          0,
          0,
          0,
          0
         ],
         "yaxis": "y2"
        },
        {
         "fill": "tonexty",
         "marker": {
          "color": "dodgerblue"
         },
         "mode": "lines",
         "name": "Climate sensitivity",
         "showlegend": true,
         "stackgroup": "one",
         "type": "scatter",
         "x": [
          2030,
          2035,
          2040,
          2045,
          2050,
          2055,
          2060,
          2065,
          2070,
          2075,
          2080,
          2085,
          2090,
          2095,
          2100
         ],
         "xaxis": "x2",
         "y": [
          0.0012351491094311268,
          0.001505380024263538,
          0.0023601013231541114,
          0.0021329820570212253,
          0.0025301593498946967,
          0.004367386574311328,
          0.00852365685138055,
          0.015890540704505362,
          0.02155555255154613,
          0.02202454023680724,
          0.020419353881359775,
          0.020831284868546976,
          0.021741077492170077,
          0.022786080713850052,
          0.02518398485344968
         ],
         "yaxis": "y2"
        },
        {
         "fill": "tonexty",
         "marker": {
          "color": "steelblue"
         },
         "mode": "lines",
         "name": "Socio-economic scenario",
         "showlegend": true,
         "stackgroup": "one",
         "type": "scatter",
         "x": [
          2030,
          2035,
          2040,
          2045,
          2050,
          2055,
          2060,
          2065,
          2070,
          2075,
          2080,
          2085,
          2090,
          2095,
          2100
         ],
         "xaxis": "x2",
         "y": [
          0.000008398079904934084,
          0.00010205009440130586,
          0.00045931535904828954,
          0.0013108428522194163,
          0.003217257122200176,
          0.009185476287210597,
          0.026478595175431507,
          0.06525344216879887,
          0.1116498438840775,
          0.1501522878437293,
          0.18349074437765325,
          0.18770619806681568,
          0.19134419229514432,
          0.19844701896459377,
          0.19833618100833272
         ],
         "yaxis": "y2"
        },
        {
         "fill": "tonexty",
         "marker": {
          "color": "forestgreen"
         },
         "mode": "lines",
         "name": "Peak temperature",
         "showlegend": true,
         "stackgroup": "one",
         "type": "scatter",
         "x": [
          2030,
          2035,
          2040,
          2045,
          2050,
          2055,
          2060,
          2065,
          2070,
          2075,
          2080,
          2085,
          2090,
          2095,
          2100
         ],
         "xaxis": "x2",
         "y": [
          0.024034814846948093,
          0.029840928398023554,
          0.04602311816694988,
          0.03768231710798443,
          0.03984869021488159,
          0.05516511670923556,
          0.08363155421257532,
          0.11883670685598509,
          0.11871652390953086,
          0.09219441144706148,
          0.06490386515715986,
          0.05185097970310763,
          0.04152167779606851,
          0.03725913287346256,
          0.03516847427049406
         ],
         "yaxis": "y2"
        },
        {
         "fill": "tonexty",
         "marker": {
          "color": "lightgreen"
         },
         "mode": "lines",
         "name": "Non-CO<sub>2</sub> reduction",
         "showlegend": true,
         "stackgroup": "one",
         "type": "scatter",
         "x": [
          2030,
          2035,
          2040,
          2045,
          2050,
          2055,
          2060,
          2065,
          2070,
          2075,
          2080,
          2085,
          2090,
          2095,
          2100
         ],
         "xaxis": "x2",
         "y": [
          0.00041614719107231006,
          0.0004914131153553755,
          0.0007496002974108348,
          0.0006971883830655937,
          0.0008508006052449831,
          0.001482773358259528,
          0.0029225574649374463,
          0.00549926425501385,
          0.007521567243547601,
          0.007939280747059274,
          0.007594770529483387,
          0.007983170684336054,
          0.008581618498473076,
          0.009196517161512197,
          0.010387845130847902
         ],
         "yaxis": "y2"
        },
        {
         "fill": "tonexty",
         "marker": {
          "color": "yellowgreen"
         },
         "mode": "lines",
         "name": "Timing of action",
         "showlegend": true,
         "stackgroup": "one",
         "type": "scatter",
         "x": [
          2030,
          2035,
          2040,
          2045,
          2050,
          2055,
          2060,
          2065,
          2070,
          2075,
          2080,
          2085,
          2090,
          2095,
          2100
         ],
         "xaxis": "x2",
         "y": [
          0.0011264221577013394,
          0.0003185474139391357,
          0.00013204835633679615,
          0.00020247307113252527,
          0.0003389621190606623,
          0.0004792430741961801,
          0.0008082059046690581,
          0.0012413063914425131,
          0.001436805023622858,
          0.0011811607274749786,
          0.0008764274297645249,
          0.0007197373566389864,
          0.0005977401600307094,
          0.0005702944746076737,
          0.0005947814256879439
         ],
         "yaxis": "y2"
        },
        {
         "fill": "tonexty",
         "marker": {
          "color": "lawngreen"
         },
         "mode": "lines",
         "name": "Negative emissions",
         "showlegend": true,
         "stackgroup": "one",
         "type": "scatter",
         "x": [
          2030,
          2035,
          2040,
          2045,
          2050,
          2055,
          2060,
          2065,
          2070,
          2075,
          2080,
          2085,
          2090,
          2095,
          2100
         ],
         "xaxis": "x2",
         "y": [
          0.00017324110353692738,
          0.0001399250629390471,
          0.0001880146398985111,
          0.0001643759679912601,
          0.00026658970533003116,
          0.0008731624945103613,
          0.0030137683453961297,
          0.008327013699505824,
          0.01589236839603203,
          0.021444765072950227,
          0.024942133112903594,
          0.030579565257537345,
          0.03746173156108155,
          0.0428793100581088,
          0.05122383947232277
         ],
         "yaxis": "y2"
        },
        {
         "fill": "tozeroy",
         "marker": {
          "color": "goldenrod"
         },
         "mode": "lines",
         "name": "Allocation rule",
         "showlegend": false,
         "stackgroup": "one",
         "type": "scatter",
         "x": [
          2030,
          2035,
          2040,
          2045,
          2050,
          2055,
          2060,
          2065,
          2070,
          2075,
          2080,
          2085,
          2090,
          2095,
          2100
         ],
         "xaxis": "x5",
         "y": [
          0.19607967350797312,
          0.1953031377979179,
          0.18411278656544822,
          0.1775734660122478,
          0.1771430828893672,
          0.20739583561029973,
          0.26379551264065965,
          0.3315909044885186,
          0.39487943369912487,
          0.4364643153992985,
          0.45779360867333785,
          0.4603624206133684,
          0.456004521648823,
          0.44618049295476353,
          0.4299475715761103
         ],
         "yaxis": "y5"
        },
        {
         "fill": "tonexty",
         "marker": {
          "color": "salmon"
         },
         "mode": "lines",
         "name": "Discount factor",
         "showlegend": false,
         "stackgroup": "one",
         "type": "scatter",
         "x": [
          2030,
          2035,
          2040,
          2045,
          2050,
          2055,
          2060,
          2065,
          2070,
          2075,
          2080,
          2085,
          2090,
          2095,
          2100
         ],
         "xaxis": "x5",
         "y": [
          0.21690953934746307,
          0.2101009982762116,
          0.14701549034497552,
          0.12131780736670915,
          0.09899096840778439,
          0.066635885282945,
          0.03353041912963529,
          0.01247000551024356,
          0.0036639225544520863,
          0.0008378821837776213,
          0.000012460487075702424,
          0,
          0,
          0,
          0
         ],
         "yaxis": "y5"
        },
        {
         "fill": "tonexty",
         "marker": {
          "color": "tomato"
         },
         "mode": "lines",
         "name": "Historical startyear",
         "showlegend": false,
         "stackgroup": "one",
         "type": "scatter",
         "x": [
          2030,
          2035,
          2040,
          2045,
          2050,
          2055,
          2060,
          2065,
          2070,
          2075,
          2080,
          2085,
          2090,
          2095,
          2100
         ],
         "xaxis": "x5",
         "y": [
          0.1767368751673933,
          0.1692299232937171,
          0.11532429490990119,
          0.09403764921413375,
          0.07663226364349891,
          0.05158455003225739,
          0.02595675803461111,
          0.00965335138813254,
          0.0028363364961686045,
          0.0006486260885108955,
          0.000009645980771835706,
          0,
          0,
          0,
          0
         ],
         "yaxis": "y5"
        },
        {
         "fill": "tonexty",
         "marker": {
          "color": "darkred"
         },
         "mode": "lines",
         "name": "Convergence year",
         "showlegend": false,
         "stackgroup": "one",
         "type": "scatter",
         "x": [
          2030,
          2035,
          2040,
          2045,
          2050,
          2055,
          2060,
          2065,
          2070,
          2075,
          2080,
          2085,
          2090,
          2095,
          2100
         ],
         "xaxis": "x5",
         "y": [
          0.08460943789650903,
          0.02126946162124729,
          0.04679286201771827,
          0.0878828980807206,
          0.07893094787904759,
          0.053561810217230256,
          0.030347468632593497,
          0.015012861543714439,
          0.0070461358901608056,
          0.0028831899821716582,
          0.00004335497575374354,
          0,
          0,
          0,
          0
         ],
         "yaxis": "y5"
        },
        {
         "fill": "tonexty",
         "marker": {
          "color": "dodgerblue"
         },
         "mode": "lines",
         "name": "Climate sensitivity",
         "showlegend": false,
         "stackgroup": "one",
         "type": "scatter",
         "x": [
          2030,
          2035,
          2040,
          2045,
          2050,
          2055,
          2060,
          2065,
          2070,
          2075,
          2080,
          2085,
          2090,
          2095,
          2100
         ],
         "xaxis": "x5",
         "y": [
          0.014811957840632274,
          0.018728567835495973,
          0.02419816904747817,
          0.027184397021563035,
          0.03280746432778672,
          0.04334895895009315,
          0.05484251906075574,
          0.06399958025020953,
          0.069431653625279,
          0.06989235414014304,
          0.06804047168663528,
          0.06449293225519762,
          0.06219046111699094,
          0.06165211755060237,
          0.06251517063578292
         ],
         "yaxis": "y5"
        },
        {
         "fill": "tonexty",
         "marker": {
          "color": "steelblue"
         },
         "mode": "lines",
         "name": "Socio-economic scenario",
         "showlegend": false,
         "stackgroup": "one",
         "type": "scatter",
         "x": [
          2030,
          2035,
          2040,
          2045,
          2050,
          2055,
          2060,
          2065,
          2070,
          2075,
          2080,
          2085,
          2090,
          2095,
          2100
         ],
         "xaxis": "x5",
         "y": [
          0.0004602270618410322,
          0.001492325900256679,
          0.0019160224905000421,
          0.002015886813563688,
          0.001982266816187275,
          0.003203064551139021,
          0.009241293144972686,
          0.023345880739712943,
          0.05112973329955472,
          0.09096241399825769,
          0.14099486344007112,
          0.1884368319197705,
          0.22593099902825062,
          0.24613089029930046,
          0.26355159558192953
         ],
         "yaxis": "y5"
        },
        {
         "fill": "tonexty",
         "marker": {
          "color": "forestgreen"
         },
         "mode": "lines",
         "name": "Peak temperature",
         "showlegend": false,
         "stackgroup": "one",
         "type": "scatter",
         "x": [
          2030,
          2035,
          2040,
          2045,
          2050,
          2055,
          2060,
          2065,
          2070,
          2075,
          2080,
          2085,
          2090,
          2095,
          2100
         ],
         "xaxis": "x5",
         "y": [
          0.28973776716466326,
          0.3720511393848651,
          0.47036137659329635,
          0.4772988753887624,
          0.5154846562416981,
          0.5465915724799746,
          0.5389551992723479,
          0.48301498284310634,
          0.3910445866015298,
          0.3018440855654974,
          0.22200500162870265,
          0.16638310840591566,
          0.12458051409639709,
          0.1061934508141963,
          0.09275039576806979
         ],
         "yaxis": "y5"
        },
        {
         "fill": "tonexty",
         "marker": {
          "color": "lightgreen"
         },
         "mode": "lines",
         "name": "Non-CO<sub>2</sub> reduction",
         "showlegend": false,
         "stackgroup": "one",
         "type": "scatter",
         "x": [
          2030,
          2035,
          2040,
          2045,
          2050,
          2055,
          2060,
          2065,
          2070,
          2075,
          2080,
          2085,
          2090,
          2095,
          2100
         ],
         "xaxis": "x5",
         "y": [
          0.005010321330060141,
          0.006141911154490341,
          0.00771703906972868,
          0.00890006581745527,
          0.01103206609544349,
          0.014713597280300921,
          0.018782872486856683,
          0.022123198357155132,
          0.024233425057348615,
          0.025209559810301044,
          0.02531995188158243,
          0.0247814691362012,
          0.024656669207163414,
          0.025003906401849664,
          0.025942176664593863
         ],
         "yaxis": "y5"
        },
        {
         "fill": "tonexty",
         "marker": {
          "color": "yellowgreen"
         },
         "mode": "lines",
         "name": "Timing of action",
         "showlegend": false,
         "stackgroup": "one",
         "type": "scatter",
         "x": [
          2030,
          2035,
          2040,
          2045,
          2050,
          2055,
          2060,
          2065,
          2070,
          2075,
          2080,
          2085,
          2090,
          2095,
          2100
         ],
         "xaxis": "x5",
         "y": [
          0.013546100135793755,
          0.0039570820054689905,
          0.0007403034841746532,
          0.0018167372393448715,
          0.0036236976934280437,
          0.004278771594725902,
          0.00493245424550598,
          0.004909738499021109,
          0.004653224269487882,
          0.003818187182054663,
          0.002998135839154479,
          0.002303696977489093,
          0.0017750915432092865,
          0.0016034727008760255,
          0.001538436095300166
         ],
         "yaxis": "y5"
        },
        {
         "fill": "tonexty",
         "marker": {
          "color": "lawngreen"
         },
         "mode": "lines",
         "name": "Negative emissions",
         "showlegend": false,
         "stackgroup": "one",
         "type": "scatter",
         "x": [
          2030,
          2035,
          2040,
          2045,
          2050,
          2055,
          2060,
          2065,
          2070,
          2075,
          2080,
          2085,
          2090,
          2095,
          2100
         ],
         "xaxis": "x5",
         "y": [
          0.0020981005476711245,
          0.0017254527303291506,
          0.001821655476778743,
          0.0019722170454994363,
          0.0033725860057582714,
          0.008685954001034142,
          0.019615503352061612,
          0.0338794963801857,
          0.0510815485068934,
          0.0674393856499876,
          0.08278250540691454,
          0.0932395406920575,
          0.10486174335916548,
          0.11323566927841178,
          0.12375465367821344
         ],
         "yaxis": "y5"
        },
        {
         "fill": "tozeroy",
         "marker": {
          "color": "goldenrod"
         },
         "mode": "lines",
         "name": "Allocation rule",
         "showlegend": false,
         "stackgroup": "one",
         "type": "scatter",
         "x": [
          2030,
          2035,
          2040,
          2045,
          2050,
          2055,
          2060,
          2065,
          2070,
          2075,
          2080,
          2085,
          2090,
          2095,
          2100
         ],
         "xaxis": "x8",
         "y": [
          0.6235724434395769,
          0.7405587014533024,
          0.7369854524340127,
          0.5572563894506128,
          0.45552965682416985,
          0.39631961537632104,
          0.30726943894656433,
          0.19461199016898734,
          0.10433624399159518,
          0.05569556933589966,
          0.031465858592007394,
          0.025906164719282837,
          0.03080110455319836,
          0.03633808247923281,
          0.03976993412504199
         ],
         "yaxis": "y8"
        },
        {
         "fill": "tonexty",
         "marker": {
          "color": "salmon"
         },
         "mode": "lines",
         "name": "Discount factor",
         "showlegend": false,
         "stackgroup": "one",
         "type": "scatter",
         "x": [
          2030,
          2035,
          2040,
          2045,
          2050,
          2055,
          2060,
          2065,
          2070,
          2075,
          2080,
          2085,
          2090,
          2095,
          2100
         ],
         "xaxis": "x8",
         "y": [
          0.07190712848664513,
          0.07186486636104118,
          0.065063411132254,
          0.04713646114203066,
          0.035670907619305435,
          0.027697482434323205,
          0.018675677843315707,
          0.009757574483006652,
          0.003707596043549609,
          0.0010077720806082211,
          0.000017841542783990704,
          0,
          0,
          0,
          0
         ],
         "yaxis": "y8"
        },
        {
         "fill": "tonexty",
         "marker": {
          "color": "tomato"
         },
         "mode": "lines",
         "name": "Historical startyear",
         "showlegend": false,
         "stackgroup": "one",
         "type": "scatter",
         "x": [
          2030,
          2035,
          2040,
          2045,
          2050,
          2055,
          2060,
          2065,
          2070,
          2075,
          2080,
          2085,
          2090,
          2095,
          2100
         ],
         "xaxis": "x8",
         "y": [
          0.04000158552962064,
          0.039925980538879045,
          0.03603890506478939,
          0.026073702396600378,
          0.019728590422405635,
          0.015318691549313179,
          0.010328987787386916,
          0.005396637711302991,
          0.002050565990484934,
          0.0005573701319008851,
          0.000009867653274544061,
          0,
          0,
          0,
          0
         ],
         "yaxis": "y8"
        },
        {
         "fill": "tonexty",
         "marker": {
          "color": "darkred"
         },
         "mode": "lines",
         "name": "Convergence year",
         "showlegend": false,
         "stackgroup": "one",
         "type": "scatter",
         "x": [
          2030,
          2035,
          2040,
          2045,
          2050,
          2055,
          2060,
          2065,
          2070,
          2075,
          2080,
          2085,
          2090,
          2095,
          2100
         ],
         "xaxis": "x8",
         "y": [
          0.24141826229202296,
          0.09393360986394411,
          0.034918440913483735,
          0.2177017426868181,
          0.2941141182117764,
          0.27227746737346753,
          0.20777464788036573,
          0.12303923000971317,
          0.05413518881928989,
          0.01712725298229759,
          0.0005268072096352272,
          0,
          0,
          0,
          0
         ],
         "yaxis": "y8"
        },
        {
         "fill": "tonexty",
         "marker": {
          "color": "dodgerblue"
         },
         "mode": "lines",
         "name": "Climate sensitivity",
         "showlegend": false,
         "stackgroup": "one",
         "type": "scatter",
         "x": [
          2030,
          2035,
          2040,
          2045,
          2050,
          2055,
          2060,
          2065,
          2070,
          2075,
          2080,
          2085,
          2090,
          2095,
          2100
         ],
         "xaxis": "x8",
         "y": [
          0.0010459878049775874,
          0.0024598577455437485,
          0.005977585878590037,
          0.007722347470680684,
          0.010830116462410343,
          0.018800537274009346,
          0.035671618994115105,
          0.06408615748622293,
          0.09949871644277762,
          0.13108129264226856,
          0.16074937135415562,
          0.17792124048655159,
          0.1887366882182097,
          0.191661909741656,
          0.19378689192358795
         ],
         "yaxis": "y8"
        },
        {
         "fill": "tonexty",
         "marker": {
          "color": "steelblue"
         },
         "mode": "lines",
         "name": "Socio-economic scenario",
         "showlegend": false,
         "stackgroup": "one",
         "type": "scatter",
         "x": [
          2030,
          2035,
          2040,
          2045,
          2050,
          2055,
          2060,
          2065,
          2070,
          2075,
          2080,
          2085,
          2090,
          2095,
          2100
         ],
         "xaxis": "x8",
         "y": [
          0.00006195508105813316,
          0.00009984538504516276,
          0.00014570311641899587,
          0.0002755633591178226,
          0.0011830703071447428,
          0.006246956320340558,
          0.016713881073680298,
          0.025174965943493003,
          0.029212031220480567,
          0.025869495314604304,
          0.01660697455373232,
          0.007794897741082863,
          0.006032089317330109,
          0.009028634876470302,
          0.011455956380468754
         ],
         "yaxis": "y8"
        },
        {
         "fill": "tonexty",
         "marker": {
          "color": "forestgreen"
         },
         "mode": "lines",
         "name": "Peak temperature",
         "showlegend": false,
         "stackgroup": "one",
         "type": "scatter",
         "x": [
          2030,
          2035,
          2040,
          2045,
          2050,
          2055,
          2060,
          2065,
          2070,
          2075,
          2080,
          2085,
          2090,
          2095,
          2100
         ],
         "xaxis": "x8",
         "y": [
          0.02052376316926096,
          0.04934157560770995,
          0.11828149458019242,
          0.14047863033942645,
          0.17755587879510212,
          0.2524052570696003,
          0.3775452162253485,
          0.5202495300665624,
          0.5962432743134561,
          0.5906169223087949,
          0.5265715529049761,
          0.4525570880860316,
          0.3724764719713674,
          0.32476915452275235,
          0.2832742383213539
         ],
         "yaxis": "y8"
        },
        {
         "fill": "tonexty",
         "marker": {
          "color": "lightgreen"
         },
         "mode": "lines",
         "name": "Non-CO<sub>2</sub> reduction",
         "showlegend": false,
         "stackgroup": "one",
         "type": "scatter",
         "x": [
          2030,
          2035,
          2040,
          2045,
          2050,
          2055,
          2060,
          2065,
          2070,
          2075,
          2080,
          2085,
          2090,
          2095,
          2100
         ],
         "xaxis": "x8",
         "y": [
          0.0003620021696529068,
          0.0008339821633254823,
          0.0019666483915277743,
          0.002570961238043083,
          0.0036647147088094247,
          0.0064128381468559845,
          0.012271093363188025,
          0.022246767356178483,
          0.03485341609984675,
          0.047372649076837185,
          0.05994663221310318,
          0.0684508278815174,
          0.07490135377307629,
          0.07776892839112651,
          0.08047130030832701
         ],
         "yaxis": "y8"
        },
        {
         "fill": "tonexty",
         "marker": {
          "color": "yellowgreen"
         },
         "mode": "lines",
         "name": "Timing of action",
         "showlegend": false,
         "stackgroup": "one",
         "type": "scatter",
         "x": [
          2030,
          2035,
          2040,
          2045,
          2050,
          2055,
          2060,
          2065,
          2070,
          2075,
          2080,
          2085,
          2090,
          2095,
          2100
         ],
         "xaxis": "x8",
         "y": [
          0.0009534776595674527,
          0.0007292374926536871,
          0.0001552945033563703,
          0.00026202554856308226,
          0.0007634400163665653,
          0.001347216825049835,
          0.0026249713709294953,
          0.004420608539836422,
          0.006330613340212409,
          0.007004540250018105,
          0.007025866709825358,
          0.006270069662993011,
          0.005312291194199845,
          0.0049123854974432515,
          0.004700103731875571
         ],
         "yaxis": "y8"
        },
        {
         "fill": "tonexty",
         "marker": {
          "color": "lawngreen"
         },
         "mode": "lines",
         "name": "Negative emissions",
         "showlegend": false,
         "stackgroup": "one",
         "type": "scatter",
         "x": [
          2030,
          2035,
          2040,
          2045,
          2050,
          2055,
          2060,
          2065,
          2070,
          2075,
          2080,
          2085,
          2090,
          2095,
          2100
         ],
         "xaxis": "x8",
         "y": [
          0.00015339436761746238,
          0.00025234338855515483,
          0.00046706398537444256,
          0.0005221763681067396,
          0.0009595066325094647,
          0.003173937630719065,
          0.01112446651510607,
          0.031016538234696567,
          0.06963235373830699,
          0.12366713587677033,
          0.19707922726650617,
          0.26109971142254057,
          0.32174000097261835,
          0.3555209044913189,
          0.38654157520934496
         ],
         "yaxis": "y8"
        },
        {
         "fill": "tozeroy",
         "marker": {
          "color": "goldenrod"
         },
         "mode": "lines",
         "name": "Allocation rule",
         "showlegend": false,
         "stackgroup": "one",
         "type": "scatter",
         "x": [
          2030,
          2035,
          2040,
          2045,
          2050,
          2055,
          2060,
          2065,
          2070,
          2075,
          2080,
          2085,
          2090,
          2095,
          2100
         ],
         "xaxis": "x11",
         "y": [
          0.6689310584272072,
          0.7606579440310921,
          0.7559954960354023,
          0.6015401959634955,
          0.484872249870684,
          0.449604510190835,
          0.46439018168773083,
          0.5275524814058763,
          0.5982312165131174,
          0.6446594417313649,
          0.6713758254293904,
          0.6644078943786665,
          0.6453581148972974,
          0.6194570273620231,
          0.5909243633980719
         ],
         "yaxis": "y11"
        },
        {
         "fill": "tonexty",
         "marker": {
          "color": "salmon"
         },
         "mode": "lines",
         "name": "Discount factor",
         "showlegend": false,
         "stackgroup": "one",
         "type": "scatter",
         "x": [
          2030,
          2035,
          2040,
          2045,
          2050,
          2055,
          2060,
          2065,
          2070,
          2075,
          2080,
          2085,
          2090,
          2095,
          2100
         ],
         "xaxis": "x11",
         "y": [
          0.02259279722451178,
          0.01735552524607446,
          0.013214217915980275,
          0.009094589208453883,
          0.005747524674364327,
          0.00317953986134613,
          0.001321420283351261,
          0.00040000402722859354,
          0.00009495736375356298,
          0.000018019954551435655,
          2.384582084566111e-7,
          0,
          0,
          0,
          0
         ],
         "yaxis": "y11"
        },
        {
         "fill": "tonexty",
         "marker": {
          "color": "tomato"
         },
         "mode": "lines",
         "name": "Historical startyear",
         "showlegend": false,
         "stackgroup": "one",
         "type": "scatter",
         "x": [
          2030,
          2035,
          2040,
          2045,
          2050,
          2055,
          2060,
          2065,
          2070,
          2075,
          2080,
          2085,
          2090,
          2095,
          2100
         ],
         "xaxis": "x11",
         "y": [
          0.009188926349050856,
          0.007006025631287214,
          0.005241633721273945,
          0.0035787019761214624,
          0.0022596651091296434,
          0.0012500418080005201,
          0.0005195185461436419,
          0.00015726231946651043,
          0.00003733264501676471,
          0.000007084572420913973,
          9.374979031048331e-8,
          0,
          0,
          0,
          0
         ],
         "yaxis": "y11"
        },
        {
         "fill": "tonexty",
         "marker": {
          "color": "darkred"
         },
         "mode": "lines",
         "name": "Convergence year",
         "showlegend": false,
         "stackgroup": "one",
         "type": "scatter",
         "x": [
          2030,
          2035,
          2040,
          2045,
          2050,
          2055,
          2060,
          2065,
          2070,
          2075,
          2080,
          2085,
          2090,
          2095,
          2100
         ],
         "xaxis": "x11",
         "y": [
          0.26253798612511725,
          0.12539392045929312,
          0.01304215270638568,
          0.11559575163318869,
          0.18329594354520978,
          0.14708985585992915,
          0.0840137725350294,
          0.035327492831123505,
          0.012566465845547851,
          0.0037303889172015116,
          0.0001273050534907263,
          0,
          0,
          0,
          0
         ],
         "yaxis": "y11"
        },
        {
         "fill": "tonexty",
         "marker": {
          "color": "dodgerblue"
         },
         "mode": "lines",
         "name": "Climate sensitivity",
         "showlegend": false,
         "stackgroup": "one",
         "type": "scatter",
         "x": [
          2030,
          2035,
          2040,
          2045,
          2050,
          2055,
          2060,
          2065,
          2070,
          2075,
          2080,
          2085,
          2090,
          2095,
          2100
         ],
         "xaxis": "x11",
         "y": [
          0.0016176669118988555,
          0.003916042003713433,
          0.009555898197816052,
          0.013384812564199542,
          0.01751180873726479,
          0.025464304774726183,
          0.034792422265619606,
          0.041552464366268,
          0.04576144821411793,
          0.04780515400798742,
          0.04783342826923487,
          0.048693161073418874,
          0.049249761311449036,
          0.049929285545428616,
          0.05115567443417794
         ],
         "yaxis": "y11"
        },
        {
         "fill": "tonexty",
         "marker": {
          "color": "steelblue"
         },
         "mode": "lines",
         "name": "Socio-economic scenario",
         "showlegend": false,
         "stackgroup": "one",
         "type": "scatter",
         "x": [
          2030,
          2035,
          2040,
          2045,
          2050,
          2055,
          2060,
          2065,
          2070,
          2075,
          2080,
          2085,
          2090,
          2095,
          2100
         ],
         "xaxis": "x11",
         "y": [
          0.001189206823505888,
          0.0038917336275940784,
          0.008594779437320427,
          0.004084157112391389,
          0.00539052855387186,
          0.009422245237462485,
          0.013895915602567241,
          0.014476604775891992,
          0.014895439681542137,
          0.02317531466513343,
          0.047292133156830556,
          0.07326446434658392,
          0.10533256730027599,
          0.1336583732013748,
          0.1603991407520547
         ],
         "yaxis": "y11"
        },
        {
         "fill": "tonexty",
         "marker": {
          "color": "forestgreen"
         },
         "mode": "lines",
         "name": "Peak temperature",
         "showlegend": false,
         "stackgroup": "one",
         "type": "scatter",
         "x": [
          2030,
          2035,
          2040,
          2045,
          2050,
          2055,
          2060,
          2065,
          2070,
          2075,
          2080,
          2085,
          2090,
          2095,
          2100
         ],
         "xaxis": "x11",
         "y": [
          0.031667955881902014,
          0.07868135955288255,
          0.19006414128405988,
          0.24695195862269378,
          0.292467575220991,
          0.3496506337095235,
          0.3763842251804522,
          0.343902920471751,
          0.2781776979796328,
          0.2161535919608984,
          0.1548975156994368,
          0.12199828336546095,
          0.09566822197987629,
          0.08367045235555175,
          0.07376780709928686
         ],
         "yaxis": "y11"
        },
        {
         "fill": "tonexty",
         "marker": {
          "color": "lightgreen"
         },
         "mode": "lines",
         "name": "Non-CO<sub>2</sub> reduction",
         "showlegend": false,
         "stackgroup": "one",
         "type": "scatter",
         "x": [
          2030,
          2035,
          2040,
          2045,
          2050,
          2055,
          2060,
          2065,
          2070,
          2075,
          2080,
          2085,
          2090,
          2095,
          2100
         ],
         "xaxis": "x11",
         "y": [
          0.0005669134983937434,
          0.00134652593957546,
          0.0031868511289075614,
          0.00450046197481315,
          0.005969766133532432,
          0.008738212040804052,
          0.012021818147705907,
          0.01447428512379472,
          0.016072832093164752,
          0.017296669786568578,
          0.017864914695539844,
          0.018780834696039923,
          0.01958876483754922,
          0.0203231104914661,
          0.021296345663776885
         ],
         "yaxis": "y11"
        },
        {
         "fill": "tonexty",
         "marker": {
          "color": "yellowgreen"
         },
         "mode": "lines",
         "name": "Timing of action",
         "showlegend": false,
         "stackgroup": "one",
         "type": "scatter",
         "x": [
          2030,
          2035,
          2040,
          2045,
          2050,
          2055,
          2060,
          2065,
          2070,
          2075,
          2080,
          2085,
          2090,
          2095,
          2100
         ],
         "xaxis": "x11",
         "y": [
          0.0014661293911809683,
          0.0013264110741642548,
          0.00032789477804337275,
          0.00037040178041940664,
          0.0010455484402964804,
          0.0016453751616116968,
          0.002412782538782153,
          0.0027691110204736344,
          0.0028359018614141584,
          0.0024939816078448957,
          0.002037336131050109,
          0.0016694565110804162,
          0.0013478998404365151,
          0.0012456932459215257,
          0.0012056876541668114
         ],
         "yaxis": "y11"
        },
        {
         "fill": "tonexty",
         "marker": {
          "color": "lawngreen"
         },
         "mode": "lines",
         "name": "Negative emissions",
         "showlegend": false,
         "stackgroup": "one",
         "type": "scatter",
         "x": [
          2030,
          2035,
          2040,
          2045,
          2050,
          2055,
          2060,
          2065,
          2070,
          2075,
          2080,
          2085,
          2090,
          2095,
          2100
         ],
         "xaxis": "x11",
         "y": [
          0.00024135936723152122,
          0.00042451243432321784,
          0.0007769347948105103,
          0.00089896916422313,
          0.0014393897146556458,
          0.003955281355761509,
          0.010247943212617745,
          0.01938737365812556,
          0.03132670780269272,
          0.04466035279602845,
          0.05857120935702776,
          0.07118590562874942,
          0.0834546698331155,
          0.09171605779823419,
          0.10125098099846494
         ],
         "yaxis": "y11"
        }
       ],
       "layout": {
        "annotations": [
         {
          "align": "left",
          "ax": 0,
          "ay": 0,
          "font": {
           "color": "black",
           "size": 24
          },
          "showarrow": false,
          "text": "<b>(a) Relative impact of<br>the three dimensions</b>",
          "x": 0,
          "xref": "paper",
          "y": 0.98,
          "yref": "paper"
         },
         {
          "align": "left",
          "ax": 0,
          "ay": 0,
          "font": {
           "color": "black",
           "size": 17
          },
          "showarrow": false,
          "text": "Expressed in fraction of variance explained",
          "x": 0,
          "xref": "paper",
          "y": 0.88,
          "yref": "paper"
         },
         {
          "align": "left",
          "ax": 0,
          "ay": 0,
          "font": {
           "color": "black",
           "size": 24
          },
          "showarrow": false,
          "text": "<b>(b) United States</b>",
          "x": 0.85,
          "xref": "paper",
          "y": 1.04,
          "yref": "paper"
         },
         {
          "align": "left",
          "ax": 0,
          "ay": 0,
          "font": {
           "color": "black",
           "size": 24
          },
          "showarrow": false,
          "text": "<b>(c) China</b>",
          "x": 0.775,
          "xref": "paper",
          "y": 0.78,
          "yref": "paper"
         },
         {
          "align": "left",
          "ax": 0,
          "ay": 0,
          "font": {
           "color": "black",
           "size": 24
          },
          "showarrow": false,
          "text": "<b>(d) India</b>",
          "x": 0.775,
          "xref": "paper",
          "y": 0.49,
          "yref": "paper"
         },
         {
          "align": "left",
          "ax": 0,
          "ay": 0,
          "font": {
           "color": "black",
           "size": 24
          },
          "showarrow": false,
          "text": "<b>(e) Nigeria</b>",
          "x": 0.79,
          "xref": "paper",
          "y": 0.21,
          "yref": "paper"
         },
         {
          "font": {
           "color": "black",
           "size": 25
          },
          "showarrow": false,
          "text": "Global strategies dominate",
          "x": 0.215,
          "xref": "paper",
          "y": 1.12,
          "yref": "paper"
         },
         {
          "font": {
           "color": "black",
           "size": 16
          },
          "showarrow": false,
          "text": "temperature, negative emissions, timing, non-CO<sub>2",
          "x": 0.19,
          "xref": "paper",
          "y": 1.08,
          "yref": "paper"
         },
         {
          "font": {
           "color": "black",
           "size": 25
          },
          "showarrow": false,
          "text": "Equity dominates",
          "x": -0.05,
          "xref": "paper",
          "y": 0.13,
          "yref": "paper"
         },
         {
          "font": {
           "color": "black",
           "size": 16
          },
          "showarrow": false,
          "text": "allocation rule, discounting,<br>historical startyear<br>convergence year",
          "x": -0.05,
          "xref": "paper",
          "y": 0.04,
          "yref": "paper"
         },
         {
          "font": {
           "color": "black",
           "size": 25
          },
          "showarrow": false,
          "text": "Physical and social<br>uncertainties<br>dominate",
          "x": 0.54,
          "xref": "paper",
          "y": 0.08,
          "yref": "paper"
         },
         {
          "font": {
           "color": "black",
           "size": 16
          },
          "showarrow": false,
          "text": "scenario,<br>climate sensitivity",
          "x": 0.54,
          "xref": "paper",
          "y": 0.02,
          "yref": "paper"
         }
        ],
        "font": {
         "color": "black",
         "size": 20
        },
        "geo": {
         "lakecolor": "rgb(255, 255, 255)",
         "projection": {
          "type": "natural earth"
         },
         "resolution": 110,
         "showcoastlines": false,
         "showlakes": true,
         "visible": false
        },
        "height": 900,
        "legend": {
         "font": {
          "color": "black",
          "size": 17
         },
         "x": 0.44,
         "xanchor": "left",
         "y": 0.97,
         "yanchor": "top"
        },
        "paper_bgcolor": "white",
        "plot_bgcolor": "white",
        "template": {
         "data": {
          "bar": [
           {
            "error_x": {
             "color": "#2a3f5f"
            },
            "error_y": {
             "color": "#2a3f5f"
            },
            "marker": {
             "line": {
              "color": "#E5ECF6",
              "width": 0.5
             },
             "pattern": {
              "fillmode": "overlay",
              "size": 10,
              "solidity": 0.2
             }
            },
            "type": "bar"
           }
          ],
          "barpolar": [
           {
            "marker": {
             "line": {
              "color": "#E5ECF6",
              "width": 0.5
             },
             "pattern": {
              "fillmode": "overlay",
              "size": 10,
              "solidity": 0.2
             }
            },
            "type": "barpolar"
           }
          ],
          "carpet": [
           {
            "aaxis": {
             "endlinecolor": "#2a3f5f",
             "gridcolor": "white",
             "linecolor": "white",
             "minorgridcolor": "white",
             "startlinecolor": "#2a3f5f"
            },
            "baxis": {
             "endlinecolor": "#2a3f5f",
             "gridcolor": "white",
             "linecolor": "white",
             "minorgridcolor": "white",
             "startlinecolor": "#2a3f5f"
            },
            "type": "carpet"
           }
          ],
          "choropleth": [
           {
            "colorbar": {
             "outlinewidth": 0,
             "ticks": ""
            },
            "type": "choropleth"
           }
          ],
          "contour": [
           {
            "colorbar": {
             "outlinewidth": 0,
             "ticks": ""
            },
            "colorscale": [
             [
              0,
              "#0d0887"
             ],
             [
              0.1111111111111111,
              "#46039f"
             ],
             [
              0.2222222222222222,
              "#7201a8"
             ],
             [
              0.3333333333333333,
              "#9c179e"
             ],
             [
              0.4444444444444444,
              "#bd3786"
             ],
             [
              0.5555555555555556,
              "#d8576b"
             ],
             [
              0.6666666666666666,
              "#ed7953"
             ],
             [
              0.7777777777777778,
              "#fb9f3a"
             ],
             [
              0.8888888888888888,
              "#fdca26"
             ],
             [
              1,
              "#f0f921"
             ]
            ],
            "type": "contour"
           }
          ],
          "contourcarpet": [
           {
            "colorbar": {
             "outlinewidth": 0,
             "ticks": ""
            },
            "type": "contourcarpet"
           }
          ],
          "heatmap": [
           {
            "colorbar": {
             "outlinewidth": 0,
             "ticks": ""
            },
            "colorscale": [
             [
              0,
              "#0d0887"
             ],
             [
              0.1111111111111111,
              "#46039f"
             ],
             [
              0.2222222222222222,
              "#7201a8"
             ],
             [
              0.3333333333333333,
              "#9c179e"
             ],
             [
              0.4444444444444444,
              "#bd3786"
             ],
             [
              0.5555555555555556,
              "#d8576b"
             ],
             [
              0.6666666666666666,
              "#ed7953"
             ],
             [
              0.7777777777777778,
              "#fb9f3a"
             ],
             [
              0.8888888888888888,
              "#fdca26"
             ],
             [
              1,
              "#f0f921"
             ]
            ],
            "type": "heatmap"
           }
          ],
          "heatmapgl": [
           {
            "colorbar": {
             "outlinewidth": 0,
             "ticks": ""
            },
            "colorscale": [
             [
              0,
              "#0d0887"
             ],
             [
              0.1111111111111111,
              "#46039f"
             ],
             [
              0.2222222222222222,
              "#7201a8"
             ],
             [
              0.3333333333333333,
              "#9c179e"
             ],
             [
              0.4444444444444444,
              "#bd3786"
             ],
             [
              0.5555555555555556,
              "#d8576b"
             ],
             [
              0.6666666666666666,
              "#ed7953"
             ],
             [
              0.7777777777777778,
              "#fb9f3a"
             ],
             [
              0.8888888888888888,
              "#fdca26"
             ],
             [
              1,
              "#f0f921"
             ]
            ],
            "type": "heatmapgl"
           }
          ],
          "histogram": [
           {
            "marker": {
             "pattern": {
              "fillmode": "overlay",
              "size": 10,
              "solidity": 0.2
             }
            },
            "type": "histogram"
           }
          ],
          "histogram2d": [
           {
            "colorbar": {
             "outlinewidth": 0,
             "ticks": ""
            },
            "colorscale": [
             [
              0,
              "#0d0887"
             ],
             [
              0.1111111111111111,
              "#46039f"
             ],
             [
              0.2222222222222222,
              "#7201a8"
             ],
             [
              0.3333333333333333,
              "#9c179e"
             ],
             [
              0.4444444444444444,
              "#bd3786"
             ],
             [
              0.5555555555555556,
              "#d8576b"
             ],
             [
              0.6666666666666666,
              "#ed7953"
             ],
             [
              0.7777777777777778,
              "#fb9f3a"
             ],
             [
              0.8888888888888888,
              "#fdca26"
             ],
             [
              1,
              "#f0f921"
             ]
            ],
            "type": "histogram2d"
           }
          ],
          "histogram2dcontour": [
           {
            "colorbar": {
             "outlinewidth": 0,
             "ticks": ""
            },
            "colorscale": [
             [
              0,
              "#0d0887"
             ],
             [
              0.1111111111111111,
              "#46039f"
             ],
             [
              0.2222222222222222,
              "#7201a8"
             ],
             [
              0.3333333333333333,
              "#9c179e"
             ],
             [
              0.4444444444444444,
              "#bd3786"
             ],
             [
              0.5555555555555556,
              "#d8576b"
             ],
             [
              0.6666666666666666,
              "#ed7953"
             ],
             [
              0.7777777777777778,
              "#fb9f3a"
             ],
             [
              0.8888888888888888,
              "#fdca26"
             ],
             [
              1,
              "#f0f921"
             ]
            ],
            "type": "histogram2dcontour"
           }
          ],
          "mesh3d": [
           {
            "colorbar": {
             "outlinewidth": 0,
             "ticks": ""
            },
            "type": "mesh3d"
           }
          ],
          "parcoords": [
           {
            "line": {
             "colorbar": {
              "outlinewidth": 0,
              "ticks": ""
             }
            },
            "type": "parcoords"
           }
          ],
          "pie": [
           {
            "automargin": true,
            "type": "pie"
           }
          ],
          "scatter": [
           {
            "fillpattern": {
             "fillmode": "overlay",
             "size": 10,
             "solidity": 0.2
            },
            "type": "scatter"
           }
          ],
          "scatter3d": [
           {
            "line": {
             "colorbar": {
              "outlinewidth": 0,
              "ticks": ""
             }
            },
            "marker": {
             "colorbar": {
              "outlinewidth": 0,
              "ticks": ""
             }
            },
            "type": "scatter3d"
           }
          ],
          "scattercarpet": [
           {
            "marker": {
             "colorbar": {
              "outlinewidth": 0,
              "ticks": ""
             }
            },
            "type": "scattercarpet"
           }
          ],
          "scattergeo": [
           {
            "marker": {
             "colorbar": {
              "outlinewidth": 0,
              "ticks": ""
             }
            },
            "type": "scattergeo"
           }
          ],
          "scattergl": [
           {
            "marker": {
             "colorbar": {
              "outlinewidth": 0,
              "ticks": ""
             }
            },
            "type": "scattergl"
           }
          ],
          "scattermapbox": [
           {
            "marker": {
             "colorbar": {
              "outlinewidth": 0,
              "ticks": ""
             }
            },
            "type": "scattermapbox"
           }
          ],
          "scatterpolar": [
           {
            "marker": {
             "colorbar": {
              "outlinewidth": 0,
              "ticks": ""
             }
            },
            "type": "scatterpolar"
           }
          ],
          "scatterpolargl": [
           {
            "marker": {
             "colorbar": {
              "outlinewidth": 0,
              "ticks": ""
             }
            },
            "type": "scatterpolargl"
           }
          ],
          "scatterternary": [
           {
            "marker": {
             "colorbar": {
              "outlinewidth": 0,
              "ticks": ""
             }
            },
            "type": "scatterternary"
           }
          ],
          "surface": [
           {
            "colorbar": {
             "outlinewidth": 0,
             "ticks": ""
            },
            "colorscale": [
             [
              0,
              "#0d0887"
             ],
             [
              0.1111111111111111,
              "#46039f"
             ],
             [
              0.2222222222222222,
              "#7201a8"
             ],
             [
              0.3333333333333333,
              "#9c179e"
             ],
             [
              0.4444444444444444,
              "#bd3786"
             ],
             [
              0.5555555555555556,
              "#d8576b"
             ],
             [
              0.6666666666666666,
              "#ed7953"
             ],
             [
              0.7777777777777778,
              "#fb9f3a"
             ],
             [
              0.8888888888888888,
              "#fdca26"
             ],
             [
              1,
              "#f0f921"
             ]
            ],
            "type": "surface"
           }
          ],
          "table": [
           {
            "cells": {
             "fill": {
              "color": "#EBF0F8"
             },
             "line": {
              "color": "white"
             }
            },
            "header": {
             "fill": {
              "color": "#C8D4E3"
             },
             "line": {
              "color": "white"
             }
            },
            "type": "table"
           }
          ]
         },
         "layout": {
          "annotationdefaults": {
           "arrowcolor": "#2a3f5f",
           "arrowhead": 0,
           "arrowwidth": 1
          },
          "autotypenumbers": "strict",
          "coloraxis": {
           "colorbar": {
            "outlinewidth": 0,
            "ticks": ""
           }
          },
          "colorscale": {
           "diverging": [
            [
             0,
             "#8e0152"
            ],
            [
             0.1,
             "#c51b7d"
            ],
            [
             0.2,
             "#de77ae"
            ],
            [
             0.3,
             "#f1b6da"
            ],
            [
             0.4,
             "#fde0ef"
            ],
            [
             0.5,
             "#f7f7f7"
            ],
            [
             0.6,
             "#e6f5d0"
            ],
            [
             0.7,
             "#b8e186"
            ],
            [
             0.8,
             "#7fbc41"
            ],
            [
             0.9,
             "#4d9221"
            ],
            [
             1,
             "#276419"
            ]
           ],
           "sequential": [
            [
             0,
             "#0d0887"
            ],
            [
             0.1111111111111111,
             "#46039f"
            ],
            [
             0.2222222222222222,
             "#7201a8"
            ],
            [
             0.3333333333333333,
             "#9c179e"
            ],
            [
             0.4444444444444444,
             "#bd3786"
            ],
            [
             0.5555555555555556,
             "#d8576b"
            ],
            [
             0.6666666666666666,
             "#ed7953"
            ],
            [
             0.7777777777777778,
             "#fb9f3a"
            ],
            [
             0.8888888888888888,
             "#fdca26"
            ],
            [
             1,
             "#f0f921"
            ]
           ],
           "sequentialminus": [
            [
             0,
             "#0d0887"
            ],
            [
             0.1111111111111111,
             "#46039f"
            ],
            [
             0.2222222222222222,
             "#7201a8"
            ],
            [
             0.3333333333333333,
             "#9c179e"
            ],
            [
             0.4444444444444444,
             "#bd3786"
            ],
            [
             0.5555555555555556,
             "#d8576b"
            ],
            [
             0.6666666666666666,
             "#ed7953"
            ],
            [
             0.7777777777777778,
             "#fb9f3a"
            ],
            [
             0.8888888888888888,
             "#fdca26"
            ],
            [
             1,
             "#f0f921"
            ]
           ]
          },
          "colorway": [
           "#636efa",
           "#EF553B",
           "#00cc96",
           "#ab63fa",
           "#FFA15A",
           "#19d3f3",
           "#FF6692",
           "#B6E880",
           "#FF97FF",
           "#FECB52"
          ],
          "font": {
           "color": "#2a3f5f"
          },
          "geo": {
           "bgcolor": "white",
           "lakecolor": "white",
           "landcolor": "#E5ECF6",
           "showlakes": true,
           "showland": true,
           "subunitcolor": "white"
          },
          "hoverlabel": {
           "align": "left"
          },
          "hovermode": "closest",
          "mapbox": {
           "style": "light"
          },
          "paper_bgcolor": "white",
          "plot_bgcolor": "#E5ECF6",
          "polar": {
           "angularaxis": {
            "gridcolor": "white",
            "linecolor": "white",
            "ticks": ""
           },
           "bgcolor": "#E5ECF6",
           "radialaxis": {
            "gridcolor": "white",
            "linecolor": "white",
            "ticks": ""
           }
          },
          "scene": {
           "xaxis": {
            "backgroundcolor": "#E5ECF6",
            "gridcolor": "white",
            "gridwidth": 2,
            "linecolor": "white",
            "showbackground": true,
            "ticks": "",
            "zerolinecolor": "white"
           },
           "yaxis": {
            "backgroundcolor": "#E5ECF6",
            "gridcolor": "white",
            "gridwidth": 2,
            "linecolor": "white",
            "showbackground": true,
            "ticks": "",
            "zerolinecolor": "white"
           },
           "zaxis": {
            "backgroundcolor": "#E5ECF6",
            "gridcolor": "white",
            "gridwidth": 2,
            "linecolor": "white",
            "showbackground": true,
            "ticks": "",
            "zerolinecolor": "white"
           }
          },
          "shapedefaults": {
           "line": {
            "color": "#2a3f5f"
           }
          },
          "ternary": {
           "aaxis": {
            "gridcolor": "white",
            "linecolor": "white",
            "ticks": ""
           },
           "baxis": {
            "gridcolor": "white",
            "linecolor": "white",
            "ticks": ""
           },
           "bgcolor": "#E5ECF6",
           "caxis": {
            "gridcolor": "white",
            "linecolor": "white",
            "ticks": ""
           }
          },
          "title": {
           "x": 0.05
          },
          "xaxis": {
           "automargin": true,
           "gridcolor": "white",
           "linecolor": "white",
           "ticks": "",
           "title": {
            "standoff": 15
           },
           "zerolinecolor": "white",
           "zerolinewidth": 2
          },
          "yaxis": {
           "automargin": true,
           "gridcolor": "white",
           "linecolor": "white",
           "ticks": "",
           "title": {
            "standoff": 15
           },
           "zerolinecolor": "white",
           "zerolinewidth": 2
          }
         }
        },
        "ternary": {
         "aaxis": {
          "linewidth": 0,
          "min": 0,
          "tickfont": {
           "size": 20
          },
          "tickmode": "array",
          "ticks": "outside",
          "ticktext": [
           "0%",
           "25%",
           "50%",
           "75%",
           "100%"
          ],
          "tickvals": [
           0,
           0.25,
           0.5,
           0.75,
           1
          ],
          "title": {
           "font": {
            "size": 25
           },
           "text": ""
          }
         },
         "baxis": {
          "linewidth": 2,
          "min": 0,
          "tickangle": 60,
          "tickfont": {
           "size": 20
          },
          "tickmode": "array",
          "ticks": "outside",
          "ticktext": [
           "0%",
           "25%",
           "50%",
           "75%",
           "100%"
          ],
          "tickvals": [
           0,
           0.25,
           0.5,
           0.75,
           1
          ],
          "title": {
           "font": {
            "size": 25
           },
           "text": ""
          }
         },
         "bgcolor": "white",
         "caxis": {
          "linewidth": 2,
          "min": 0,
          "tickangle": -60,
          "tickfont": {
           "size": 20
          },
          "tickmode": "array",
          "ticks": "outside",
          "ticktext": [
           "0%",
           "25%",
           "50%",
           "75%",
           "100%"
          ],
          "tickvals": [
           0,
           0.25,
           0.5,
           0.75,
           1
          ],
          "title": {
           "font": {
            "size": 25
           },
           "text": ""
          }
         },
         "domain": {
          "x": [
           0,
           0.6666666666666666
          ],
          "y": [
           0,
           1
          ]
         },
         "sum": 1
        },
        "width": 1600,
        "xaxis": {
         "anchor": "y",
         "domain": [
          0.3333333333333333,
          0.6666666666666666
         ]
        },
        "xaxis10": {
         "anchor": "y10",
         "domain": [
          0.3333333333333333,
          0.6666666666666666
         ]
        },
        "xaxis11": {
         "anchor": "y11",
         "domain": [
          0.6666666666666666,
          1
         ]
        },
        "xaxis2": {
         "anchor": "y2",
         "domain": [
          0.6666666666666666,
          1
         ],
         "visible": false
        },
        "xaxis3": {
         "anchor": "y3",
         "domain": [
          0,
          0.3333333333333333
         ]
        },
        "xaxis4": {
         "anchor": "y4",
         "domain": [
          0.3333333333333333,
          0.6666666666666666
         ]
        },
        "xaxis5": {
         "anchor": "y5",
         "domain": [
          0.6666666666666666,
          1
         ],
         "visible": false
        },
        "xaxis6": {
         "anchor": "y6",
         "domain": [
          0,
          0.3333333333333333
         ]
        },
        "xaxis7": {
         "anchor": "y7",
         "domain": [
          0.3333333333333333,
          0.6666666666666666
         ]
        },
        "xaxis8": {
         "anchor": "y8",
         "domain": [
          0.6666666666666666,
          1
         ],
         "visible": false
        },
        "xaxis9": {
         "anchor": "y9",
         "domain": [
          0,
          0.3333333333333333
         ]
        },
        "yaxis": {
         "anchor": "x",
         "domain": [
          0.7875,
          1
         ]
        },
        "yaxis10": {
         "anchor": "x10",
         "domain": [
          0,
          0.2125
         ]
        },
        "yaxis11": {
         "anchor": "x11",
         "domain": [
          0,
          0.2125
         ],
         "ticktext": [
          "0%",
          "50%",
          "100%"
         ],
         "tickvals": [
          0,
          0.5,
          1
         ]
        },
        "yaxis2": {
         "anchor": "x2",
         "domain": [
          0.7875,
          1
         ],
         "ticktext": [
          "0%",
          "50%",
          "100%"
         ],
         "tickvals": [
          0,
          0.5,
          1
         ]
        },
        "yaxis3": {
         "anchor": "x3",
         "domain": [
          0.525,
          0.7375
         ]
        },
        "yaxis4": {
         "anchor": "x4",
         "domain": [
          0.525,
          0.7375
         ]
        },
        "yaxis5": {
         "anchor": "x5",
         "domain": [
          0.525,
          0.7375
         ],
         "ticktext": [
          "0%",
          "50%",
          "100%"
         ],
         "tickvals": [
          0,
          0.5,
          1
         ]
        },
        "yaxis6": {
         "anchor": "x6",
         "domain": [
          0.2625,
          0.475
         ]
        },
        "yaxis7": {
         "anchor": "x7",
         "domain": [
          0.2625,
          0.475
         ]
        },
        "yaxis8": {
         "anchor": "x8",
         "domain": [
          0.2625,
          0.475
         ],
         "ticktext": [
          "0%",
          "50%",
          "100%"
         ],
         "tickvals": [
          0,
          0.5,
          1
         ]
        },
        "yaxis9": {
         "anchor": "x9",
         "domain": [
          0,
          0.2125
         ]
        }
       }
      }
     },
     "metadata": {},
     "output_type": "display_data"
    }
   ],
   "source": [
    "fig = make_subplots(rows=4, cols=3, specs=[[{\"type\": \"scatterternary\", \"colspan\": 2, \"rowspan\": 4}, {}, {}],\n",
    "                                           [{}, {}, {}],\n",
    "                                           [{}, {}, {}],\n",
    "                                           [{}, {}, {}]],\n",
    "                    horizontal_spacing = 0, vertical_spacing=0.05)\n",
    "\n",
    "for n in range(len(conttraces)):\n",
    "        fig.add_trace(conttraces[n], 1, 1)\n",
    "\n",
    "# Panel a\n",
    "for i in np.arange(0., 1.01, 0.25):\n",
    "    args = dict(mode='lines', showlegend=False, hoverinfo='skip',\n",
    "                                                    marker={'size': 15,\n",
    "                                                            'color': 'black',\n",
    "                                                            'opacity': 1,#0.9-i*0.03,\n",
    "                                                            'line' :dict(width=0., color='silver')},\n",
    "                                                    line={'width': 0.33, #np.mean(s[i:i+2])*0.5,\n",
    "                                                            'color': 'black',\n",
    "                                                            'dash': 'dot'},\n",
    "                                                    textfont=dict(size=5,\n",
    "                                                            color='black'))\n",
    "    fig.add_trace(go.Scatterternary(a=[i, i], b=[0, 1-i], c=[1-i, 0], **args), 1, 1)\n",
    "    fig.add_trace(go.Scatterternary(b=[i, i], a=[0, 1-i], c=[1-i, 0], **args), 1, 1)\n",
    "    fig.add_trace(go.Scatterternary(c=[i, i], b=[0, 1-i], a=[1-i, 0], **args), 1, 1)\n",
    "\n",
    "wh_t0 = np.where(np.array(xr_sobol.Time) == 2030)[0][0]\n",
    "for cty_i, cty in enumerate(all_countries_iso):\n",
    "        fig.add_trace(go.Scatterternary(a=vals[0, :, cty_i],\n",
    "                                        b=vals[1, :, cty_i],\n",
    "                                        c=vals[2, :, cty_i],\n",
    "                                        name=cty,\n",
    "                                                        mode='lines+text',\n",
    "                                                        showlegend=False,\n",
    "                                                        text=['']*(len(vals[0])),\n",
    "                                                        marker={'size': 6,\n",
    "                                                                'color': bubblecolors[cty_i],\n",
    "                                                                'opacity': 0.9,#0.9-i*0.03,\n",
    "                                                                'line' :dict(width=0, color='black')},\n",
    "                                                        line={'width': 0.25, #np.mean(s[i:i+2])*0.5,\n",
    "                                                                'color': 'grey'},\n",
    "                                                        textfont=dict(size=(pops_n[cty_i])**0.4*25+1,\n",
    "                                                                color='black')), 1, 1)\n",
    "        fig.add_trace(go.Scatterternary(a=vals[0, wh_t0:(wh_t0+5), cty_i],\n",
    "                                        b=vals[1, wh_t0:(wh_t0+5), cty_i],\n",
    "                                        c=vals[2, wh_t0:(wh_t0+5), cty_i],\n",
    "                                        name=cty,\n",
    "                                                        mode='lines+text',\n",
    "                                                        showlegend=False,\n",
    "                                                        text=['']*(len(vals[0])),\n",
    "                                                        marker={'size': 6,\n",
    "                                                                'color': bubblecolors[cty_i],\n",
    "                                                                'opacity': 0.9,#0.9-i*0.03,\n",
    "                                                                'line' :dict(width=0, color='black')},\n",
    "                                                        line={'width': 0.25, #np.mean(s[i:i+2])*0.5,\n",
    "                                                                'color': 'grey'},\n",
    "                                                        textfont=dict(size=(pops_n[cty_i])**0.4*25+1,\n",
    "                                                                color='black')), 1, 1)\n",
    "for ci, cty in enumerate(regions_highlight):\n",
    "        cty_i = np.where(all_countries_iso == cty)[0][0]\n",
    "        fig.add_trace(go.Scatterternary(a=vals[0, wh_t0:(wh_t0+15), cty_i],\n",
    "                                        b=vals[1, wh_t0:(wh_t0+15), cty_i],\n",
    "                                        c=vals[2, wh_t0:(wh_t0+15), cty_i],\n",
    "                                        name=cty,\n",
    "                                                        mode='lines+markers',\n",
    "                                                        showlegend=False,\n",
    "                                                        text=['2030', '', '', '', '', '', \"'60\", '', '', '', \"'80\", '', '', '', '2100'],#[\"'., str(i-2000) for i in [2040, 2050, 2060, 2070, 2080, 2090]],\n",
    "                                                        marker={'size': [8]*15,#]*(len(vals[0])), #[(pops_n[cty_i])**0.4*60+4]+\n",
    "                                                                'color': bubblecolors[cty_i],\n",
    "                                                                'opacity': 0.9,#0.9-i*0.03,\n",
    "                                                                'line' :dict(width=0.5, color='white')},\n",
    "                                                        line={'width': 3, #np.mean(s[i:i+2])*0.5,\n",
    "                                                                'color':bubblecolors[cty_i]},\n",
    "                                                        textposition='top center',\n",
    "                                                        textfont=dict(size=16,\n",
    "                                                                color=bubblecolors[cty_i])), 1, 1)\n",
    "\n",
    "        for t_i, t in enumerate([2100, 2030, 2050, 2100]):\n",
    "                wh_t = np.where(np.array(xr_sobol.Time) == t)[0][0]\n",
    "                fig.add_trace(go.Scatterternary(a=[vals[0, wh_t, cty_i]],\n",
    "                                                b=[vals[1, wh_t, cty_i]],\n",
    "                                                c=[vals[2, wh_t, cty_i]],\n",
    "                                                name=cty,\n",
    "                                                                mode='markers+text',\n",
    "                                                                showlegend=False,\n",
    "                                                                text=[['<b>'+cty], [\"\"], [\"\"], ['2100']][t_i],#[\"'., str(i-2000) for i in [2040, 2050, 2060, 2070, 2080, 2090]],\n",
    "                                                                marker={'size': [[20], [20], [15], [20]][t_i],\n",
    "                                                                        #'symbol': 'x',\n",
    "                                                                        'color': bubblecolors[cty_i],\n",
    "                                                                        'opacity': 0.9,#0.9-i*0.03,\n",
    "                                                                        'line' :dict(width=0.5, color='white')},\n",
    "                                                                line={'width': 3, #np.mean(s[i:i+2])*0.5,\n",
    "                                                                        'color':bubblecolors[cty_i]},\n",
    "                                                                textposition=[['middle right', 'middle right', 'middle left', 'middle right', 'middle right', 'middle right', 'middle right'][ci],\n",
    "                                                                              'middle right', 'middle right', 'bottom center'][t_i],\n",
    "                                                                textfont=dict(size=[18, 16, 16, 16, 16, 16][t_i],\n",
    "                                                                        color=bubblecolors[cty_i])), 1, 1)\n",
    "fig.update_layout({\n",
    "'plot_bgcolor':'rgb(243, 243, 243)',\n",
    "'ternary':\n",
    "{'sum':1,\n",
    "'bgcolor':'white',\n",
    "    # \"paper_bgcolor\":'rgba(0,0,0,0)',\n",
    "    # \"plot_bgcolor\":'rgba(0,0,0,0)',\n",
    "'aaxis':{'title': '', 'min': 0., 'titlefont':{'size': 25},#Climate target<br>\n",
    "        'linewidth':0, 'ticks':'outside',\n",
    "        'tickmode':'array','tickvals':np.arange(0, 1.01, 0.25), 'ticktext':[str(int(i*100))+'%' for i in np.arange(0, 1.01, 0.25)], 'tickfont':{'size':20}},\n",
    "'baxis':{'title': '', 'min': 0, 'titlefont':{'size': 25},# &nbsp; &nbsp; &nbsp;#Model &nbsp; &nbsp;\n",
    "        'linewidth':2, 'ticks':'outside',\n",
    "        'tickmode':'array','tickvals':np.arange(0, 1.01, 0.25), 'ticktext':[str(int(i*100))+'%' for i in np.arange(0, 1.01, 0.25)],'tickangle':60, 'tickfont':{'size':20}},\n",
    "'caxis':{'title': '', 'min': 0, 'titlefont':{'size': 25},#Other<br>scenario assumptions\n",
    "        'linewidth':2, 'ticks':'outside',\n",
    "        'tickmode':'array','tickvals':np.arange(0, 1.01, 0.25), 'ticktext':[str(int(i*100))+'%' for i in np.arange(0, 1.01, 0.25)],'tickangle':-60, 'tickfont':{'size':20}}}})\n",
    "\n",
    "# Panel b-d\n",
    "for cty_i, cty in enumerate(['USA', 'CHN', 'IND', 'NGA']):\n",
    "        for factor_i, factor in enumerate(factors):\n",
    "                col = factor_colors[factor_i]\n",
    "                val_i = xr_sobol.sel(Region=cty, Factor=factor).Sobol_index\n",
    "                if factor_i == 0: fill='tozeroy'\n",
    "                else: fill = 'tonexty'\n",
    "                fig.add_trace(go.Scatter(x=xr_sobol.Time,\n",
    "                                        y=val_i,\n",
    "                                        mode='lines',\n",
    "                                        marker={'color':col},\n",
    "                                        fill=fill,\n",
    "                                        name=factor_names[factor_i],\n",
    "                                        showlegend=[True, False, False, False, False, False, False][cty_i],\n",
    "                                        stackgroup='one'\n",
    "                                        ), range(1, 6)[cty_i], 3)\n",
    "\n",
    "fig.update_geos(visible=False,\n",
    "                showlakes=True,\n",
    "                lakecolor='rgb(255, 255, 255)',\n",
    "                projection_type='natural earth',\n",
    "                resolution=110,\n",
    "                showcoastlines=False,)\n",
    "\n",
    "fig.update_layout(\n",
    "    legend=dict(\n",
    "        yanchor=\"top\",\n",
    "        y=0.29,\n",
    "        xanchor=\"left\",\n",
    "        x=0.08,\n",
    "        font=dict(size=15, color=\"black\"),\n",
    "    ),\n",
    "    #template='ggplot2',\n",
    "    height=900,\n",
    "    width=1600,\n",
    ")\n",
    "fig.update_xaxes(visible=False, row=1, col=3)\n",
    "fig.update_xaxes(visible=False, row=2, col=3)\n",
    "fig.update_xaxes(visible=False, row=3, col=3)\n",
    "\n",
    "args = dict(xref=\"paper\", yref=\"paper\", showarrow=False)\n",
    "annotations = [\n",
    "    dict(xref='paper', yref='paper', ax=0, align='left', ay=-0, showarrow=False, font=dict(color='black', size=24), y=0.98, x=0.0, text=\"<b>(a) Relative impact of<br>the three dimensions</b>\"),\n",
    "    dict(xref='paper', yref='paper', ax=0, align='left', ay=-0, showarrow=False, font=dict(color='black', size=17), y=0.88, x=0.0, text=\"Expressed in fraction of variance explained\"),\n",
    "    dict(xref='paper', yref='paper', ax=0, align='left', ay=-0, showarrow=False, font=dict(color='black', size=24), y=1.04, x=0.85, text=\"<b>(b) United States</b>\"),\n",
    "    dict(xref='paper', yref='paper', ax=0, align='left', ay=-0, showarrow=False, font=dict(color='black', size=24), y=0.78, x=0.775, text=\"<b>(c) China</b>\"),\n",
    "    dict(xref='paper', yref='paper', ax=0, align='left', ay=-0, showarrow=False, font=dict(color='black', size=24), y=0.49, x=0.775, text=\"<b>(d) India</b>\"),\n",
    "    dict(xref='paper', yref='paper', ax=0, align='left', ay=-0, showarrow=False, font=dict(color='black', size=24), y=0.21, x=0.79, text=\"<b>(e) Nigeria</b>\"),\n",
    "    dict(text=\"Global strategies dominate\", x=0.215, y=1.12, **args, font=dict(color='black', size=25)),\n",
    "    dict(text=\"temperature, negative emissions, timing, non-CO<sub>2\", x=0.19, y=1.08, **args, font=dict(color='black', size=16)),\n",
    "    dict(text=\"Equity dominates\", x=-0.05, y=0.13, **args, font=dict(color='black', size=25)),\n",
    "    dict(text=\"allocation rule, discounting,<br>historical startyear<br>convergence year\", x=-0.05, y=0.04, **args, font=dict(color='black', size=16)),\n",
    "    dict(text=\"Physical and social<br>uncertainties<br>dominate\", x=0.54, y=0.08, **args, font=dict(color='black', size=25)),\n",
    "    dict(text=\"scenario,<br>climate sensitivity\", x=0.54, y=0.02, **args, font=dict(color='black', size=16))\n",
    "]\n",
    "for ann in annotations:\n",
    "    fig.add_annotation(**ann)\n",
    "\n",
    "fig.update_layout(\n",
    "    legend=dict(x=0.44, y=0.97, font=dict(size=17)),\n",
    "    paper_bgcolor='white', # Set the background color\n",
    "    plot_bgcolor='white',\n",
    "    font=dict( \n",
    "        size=20,\n",
    "        color=\"black\"\n",
    "    ))\n",
    "# change ytick labels in row=1, col=3 panel\n",
    "fig.update_yaxes(tickvals=[0, 0.5, 1], ticktext=['0%', '50%', '100%'] ,row=1, col=3)\n",
    "fig.update_yaxes(tickvals=[0, 0.5, 1], ticktext=['0%', '50%', '100%'] ,row=2, col=3)\n",
    "fig.update_yaxes(tickvals=[0, 0.5, 1], ticktext=['0%', '50%', '100%'] ,row=3, col=3)\n",
    "fig.update_yaxes(tickvals=[0, 0.5, 1], ticktext=['0%', '50%', '100%'] ,row=4, col=3)\n",
    "fig.show()\n",
    "fig.write_image(\"K:/Code/effort-sharing/Figures/Paper_FairShares/V2/Figure_3.png\", scale=5)"
   ]
  }
 ],
 "metadata": {
  "kernelspec": {
   "display_name": "Python 3",
   "language": "python",
   "name": "python3"
  },
  "language_info": {
   "codemirror_mode": {
    "name": "ipython",
    "version": 3
   },
   "file_extension": ".py",
   "mimetype": "text/x-python",
   "name": "python",
   "nbconvert_exporter": "python",
   "pygments_lexer": "ipython3",
   "version": "3.12.5"
  }
 },
 "nbformat": 4,
 "nbformat_minor": 2
}
