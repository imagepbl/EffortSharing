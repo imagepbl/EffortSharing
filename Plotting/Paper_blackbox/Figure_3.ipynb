{
 "cells": [
  {
   "cell_type": "markdown",
   "metadata": {},
   "source": [
    "## Preambule"
   ]
  },
  {
   "cell_type": "code",
   "execution_count": 1,
   "metadata": {},
   "outputs": [],
   "source": [
    "import numpy as np\n",
    "from tqdm import tqdm\n",
    "from importlib import reload\n",
    "import xarray as xr\n",
    "import pandas as pd\n",
    "import scipy\n",
    "from scipy.optimize import curve_fit\n",
    "from scipy.signal import savgol_filter\n",
    "import warnings\n",
    "warnings.simplefilter(action='ignore', category=FutureWarning)\n",
    "\n",
    "# Sobol analysis\n",
    "from SALib.sample import saltelli\n",
    "from SALib.analyze import sobol\n",
    "from SALib.test_functions import Ishigami\n",
    "\n",
    "# Plotting\n",
    "import matplotlib.pyplot as plt\n",
    "import plotly.express as px\n",
    "import plotly.graph_objects as go\n",
    "from plotly.subplots import make_subplots\n",
    "from plotly.colors import n_colors"
   ]
  },
  {
   "cell_type": "markdown",
   "metadata": {},
   "source": [
    "## Read stuff"
   ]
  },
  {
   "cell_type": "code",
   "execution_count": 2,
   "metadata": {},
   "outputs": [],
   "source": [
    "path_data = \"K:/Data/Data_EffortSharing/DataUpdate_ongoing/startyear_2021/\""
   ]
  },
  {
   "cell_type": "code",
   "execution_count": 3,
   "metadata": {},
   "outputs": [],
   "source": [
    "xr_dataread = xr.open_dataset(path_data + \"xr_dataread.nc\")\n",
    "xr_sobol = xr.open_dataset(path_data + \"xr_sobol_GHG_incl.nc\").sel(Time = np.arange(2030, 2101, 5))\n",
    "all_countries_iso = np.load(path_data + \"../all_countries.npy\", allow_pickle=True)\n",
    "all_countries_name = np.load(path_data + \"../all_countries_names.npy\", allow_pickle=True)\n",
    "all_regions_iso = np.load(path_data + \"../all_regions.npy\", allow_pickle=True)"
   ]
  },
  {
   "cell_type": "markdown",
   "metadata": {},
   "source": [
    "## Process stuff"
   ]
  },
  {
   "cell_type": "code",
   "execution_count": 4,
   "metadata": {},
   "outputs": [],
   "source": [
    "dim_unc_globe = ['Temperature', 'Timing', 'NegEmis', 'NonCO2red']\n",
    "dim_unc_fairness = ['variable', 'Convergence_year', 'Historical_startyear', 'Discount_factor'] \n",
    "dim_unc_choices = ['Scenario', 'Risk']\n",
    "\n",
    "vals = np.zeros(shape=(3, len(xr_sobol.Time), len(all_countries_iso)))\n",
    "for dim_i, dim in enumerate([dim_unc_globe, dim_unc_fairness, dim_unc_choices]):\n",
    "    vals[dim_i] = np.array(xr_sobol.sel(Factor = dim, Region=all_countries_iso).sum(dim='Factor').to_array())[0]"
   ]
  },
  {
   "cell_type": "code",
   "execution_count": 5,
   "metadata": {},
   "outputs": [
    {
     "name": "stdout",
     "output_type": "stream",
     "text": [
      "variable 0.6300970118017276\n",
      "Convergence_year 0.053801881933849625\n",
      "NegEmis 8.036014857021152e-05\n",
      "NonCO2red 0.01627621685237604\n",
      "Temperature 0.06509111562945999\n",
      "Risk 0.012695073519014362\n",
      "Timing 0.0002629326247135487\n",
      "Scenario 0.001334650080508442\n",
      "Discount_factor 0.13571922553913432\n",
      "Historical_startyear 0.08464153187064571\n"
     ]
    }
   ],
   "source": [
    "for factor in np.array(xr_sobol.Factor):\n",
    "    print(factor, float(xr_sobol.sel(Time=2040, Region='USA', Factor=factor).Sobol_index))\n",
    "\n",
    "factors = ['variable', 'Discount_factor', 'Historical_startyear', 'Convergence_year',\n",
    "           'Risk', 'Scenario',\n",
    "           'Temperature', 'NonCO2red',  'Timing', 'NegEmis']\n",
    "factor_names = ['Allocation rule', 'Discount factor', 'Historical startyear', 'Convergence year', \n",
    "                 'Climate sensitivity','Socio-economic scenario', \n",
    "                'Peak temperature', 'Non-CO<sub>2</sub> reduction',  'Timing of action', 'Negative emissions']\n",
    "factor_colors = ['goldenrod', 'salmon', 'tomato', 'darkred', \n",
    "                  'dodgerblue', 'steelblue', 'forestgreen',\n",
    "                 'lightgreen', 'yellowgreen', 'lawngreen']"
   ]
  },
  {
   "cell_type": "code",
   "execution_count": 6,
   "metadata": {},
   "outputs": [],
   "source": [
    "mins = np.nanmin(vals, axis=2)\n",
    "maxs = np.nanmin(vals, axis=2)\n",
    "mins = (np.array(mins)*100).round(0).astype(int).astype(str)\n",
    "maxs = (np.array(maxs)*100).round(0).astype(int).astype(str)"
   ]
  },
  {
   "cell_type": "code",
   "execution_count": 7,
   "metadata": {},
   "outputs": [],
   "source": [
    "df_regions = pd.read_csv(\"X:/user/dekkerm/Data/AllCountries.csv\")\n",
    "continents = []\n",
    "bubblecolors = []\n",
    "texts = []\n",
    "cmap = plt.cm.PuRd\n",
    "for cty_i, cty in enumerate(all_countries_iso):\n",
    "    if cty == 'USA':\n",
    "        col = cmap(0.6)\n",
    "        #bubblecolors.append('rgba({},{},{}, {})'.format(int(col[0]*255), int(col[1]*255), int(col[2]*255), 1))\n",
    "        bubblecolors.append('navy')\n",
    "        texts.append(cty)\n",
    "    elif cty == 'IND':\n",
    "        col = cmap(0.7)\n",
    "        #bubblecolors.append('rgba({},{},{}, {})'.format(int(col[0]*255), int(col[1]*255), int(col[2]*255), 1))\n",
    "        bubblecolors.append('orange')\n",
    "        texts.append(cty)\n",
    "    elif cty == 'BRA':\n",
    "        col = cmap(0.8)\n",
    "        #bubblecolors.append('rgba({},{},{}, {})'.format(int(col[0]*255), int(col[1]*255), int(col[2]*255), 1))\n",
    "        bubblecolors.append('green')\n",
    "        texts.append(cty)\n",
    "    elif cty == 'CHN':\n",
    "        col = cmap(0.9)\n",
    "        #bubblecolors.append('rgba({},{},{}, {})'.format(int(col[0]*255), int(col[1]*255), int(col[2]*255), 1))\n",
    "        bubblecolors.append('red')\n",
    "        texts.append(cty)\n",
    "    elif cty == 'UGA':\n",
    "        col = cmap(0.99)\n",
    "        #bubblecolors.append('rgba({},{},{}, {})'.format(int(col[0]*255), int(col[1]*255), int(col[2]*255), 1))\n",
    "        bubblecolors.append('purple')\n",
    "        texts.append(cty)\n",
    "    else:\n",
    "        bubblecolors.append('silver')\n",
    "        texts.append('')\n",
    "continents = np.array(continents)\n",
    "bubblecolors = np.array(bubblecolors)\n",
    "texts = np.array(texts)\n",
    "\n",
    "pops = np.array(xr_dataread.Population.sel(Region=all_countries_iso, Time=2020, Scenario='SSP2'))\n",
    "pops[np.isnan(pops)] = 1\n",
    "pops_n = pops/np.nanmax(pops)"
   ]
  },
  {
   "cell_type": "code",
   "execution_count": 8,
   "metadata": {},
   "outputs": [],
   "source": [
    "def clean_data(data_in):\n",
    "    \"\"\"\n",
    "    Cleans data in a format which can be conveniently\n",
    "    used for drawing traces. Takes a dictionary as the\n",
    "    input, and returns a list in the following format:\n",
    "\n",
    "    input = {'key': ['a b c']}\n",
    "    output = [key, [a, b, c]]\n",
    "    \"\"\"\n",
    "    key = list(data_in.keys())[0]\n",
    "    data_out = [key]\n",
    "    for i in data_in[key]:\n",
    "        data_out.append(list(map(float, i.split(' '))))\n",
    "\n",
    "    return data_out\n",
    "conts = []\n",
    "for i in np.arange(35, 51, 5):\n",
    "    conts.append({str(i): [str(i) +' '+str(i)+' '+str(100-2*i),\n",
    "                  str(i) +' '+str(100-2*i)+' '+str(i),\n",
    "                  str(100-2*i) +' '+str(i)+' '+str(i)]})\n",
    "for i in np.arange(55, 101, 5):\n",
    "    i0 = str(i)\n",
    "    i1 = str(100-i)\n",
    "    conts.append({str(i): [i0+' '+i1+' 0',\n",
    "                            i0+' 0 '+i1,\n",
    "                            i1+' 0 '+i0,\n",
    "                            '0 '+i1+' '+i0,\n",
    "                            '0 '+i0+' '+i1,\n",
    "                            i1+' '+i0+' 0',\n",
    "                            i0+' '+i1+' 0']})\n",
    "conts2 = []\n",
    "for i in np.arange(35, 51, 5):\n",
    "    conts2.append({str(i): [str(i) +' '+str(i)+' '+str(100-2*i),\n",
    "                  str(i) +' '+str(100-2*i)+' '+str(i),\n",
    "                  str(100-2*i) +' '+str(i)+' '+str(i)]})\n",
    "for x in np.arange(55, 101, 5):\n",
    "    conts2.append({str(i): [str(x)+' '+'0'+' '+str(100-x),\n",
    "                               str(x-5)+' '+'0'+' '+str(100-(x-5)),\n",
    "                               str(x-5)+' '+str(100-(x-5))+' '+'0',\n",
    "                               str(x)+' '+str(100-x)+' '+'0',\n",
    "                               str(x)+' '+'0'+' '+str(100-x)\n",
    "                                ]})\n",
    "    conts2.append({str(i): ['0'+' '+str(100-x)+' '+str(x),\n",
    "                               '0'+' '+str(100-(x-5))+' '+str(x-5),\n",
    "                               str(100-(x-5))+' '+'0'+' '+str(x-5),\n",
    "                               str(100-x)+' '+'0'+' '+str(x),\n",
    "                               '0'+' '+str(100-x)+' '+str(x)\n",
    "                                ]})\n",
    "    conts2.append({str(i): [str(100-x)+' '+str(x)+' '+'0',\n",
    "                               str(100-(x-5))+' '+str(x-5)+' '+'0',\n",
    "                               '0'+' '+str(x-5)+' '+str(100-(x-5)),\n",
    "                               '0'+' '+str(x)+' '+str(100-x),\n",
    "                               str(100-x)+' '+str(x)+' '+'0'\n",
    "                                ]})\n",
    "bar = px.colors.sequential.Greys # px.colors.diverging.RdBu_r\n",
    "#bar = bar[2:-2]\n",
    "#bar = bar[int(len(bar)/2)-2:]\n",
    "colors = []\n",
    "for i in range(len(bar)-1):\n",
    "    colors = colors+n_colors(bar[i], bar[i+1], int(200/len(bar)), colortype='rgb')\n",
    "colors = colors+n_colors(bar[i+1], bar[i+1], int(200/len(bar)), colortype='rgb')\n",
    "conttraces = []\n",
    "n = 0\n",
    "for raw_data in conts2:\n",
    "    data = clean_data(raw_data)\n",
    "\n",
    "    a = [inner_data[0] for inner_data in data[1:]]\n",
    "    a.append(data[1][0]) # Closing the loop\n",
    "\n",
    "    b = [inner_data[1] for inner_data in data[1:]]\n",
    "    b.append(data[1][1]) # Closing the loop\n",
    "\n",
    "    c = [inner_data[2] for inner_data in data[1:]]\n",
    "    c.append(data[1][2]) # Closing the loop\n",
    "\n",
    "    conttraces.append(go.Scatterternary(\n",
    "        text = data[0],\n",
    "        a=a, b=b, c=c, mode='lines',\n",
    "        line=dict(color='black', width=0),\n",
    "        fill='toself',showlegend=False, hoverinfo='skip', opacity=0.1, \n",
    "        fillcolor = colors[int(200/len(conts2)*n)]#colors_iterator.__next__()\n",
    "    ))\n",
    "    n+=1\n",
    "conttraces = conttraces[::-1]"
   ]
  },
  {
   "cell_type": "markdown",
   "metadata": {},
   "source": [
    "## Plot"
   ]
  },
  {
   "cell_type": "code",
   "execution_count": 9,
   "metadata": {},
   "outputs": [],
   "source": [
    "val_i = xr_sobol.sel(Region='USA', Factor='variable').Sobol_index"
   ]
  },
  {
   "cell_type": "code",
   "execution_count": 10,
   "metadata": {},
   "outputs": [],
   "source": [
    "def draw_line(fig, name, x1, x2, y1, y2, color):\n",
    "    fig.add_shape(type=\"line\", xref='paper', yref='paper',\n",
    "                  x0=x1,\n",
    "                  y0=y1,\n",
    "                  x1=x2,\n",
    "                  y1=y2,\n",
    "                  line=dict(color=color, width=3))"
   ]
  },
  {
   "cell_type": "code",
   "execution_count": 11,
   "metadata": {},
   "outputs": [
    {
     "data": {
      "application/vnd.plotly.v1+json": {
       "config": {
        "plotlyServerURL": "https://plot.ly"
       },
       "data": [
        {
         "a": [
          0,
          5,
          0,
          0,
          0,
          0
         ],
         "b": [
          100,
          95,
          95,
          100,
          100,
          100
         ],
         "c": [
          0,
          0,
          5,
          0,
          0,
          0
         ],
         "fill": "toself",
         "fillcolor": "rgb(0.0, 0.0, 0.0)",
         "hoverinfo": "skip",
         "line": {
          "color": "black",
          "width": 0
         },
         "mode": "lines",
         "opacity": 0.1,
         "showlegend": false,
         "subplot": "ternary",
         "text": "50",
         "type": "scatterternary"
        },
        {
         "a": [
          0,
          0,
          5,
          0,
          0,
          0
         ],
         "b": [
          0,
          5,
          0,
          0,
          0,
          0
         ],
         "c": [
          100,
          95,
          95,
          100,
          100,
          100
         ],
         "fill": "toself",
         "fillcolor": "rgb(0.0, 0.0, 0.0)",
         "hoverinfo": "skip",
         "line": {
          "color": "black",
          "width": 0
         },
         "mode": "lines",
         "opacity": 0.1,
         "showlegend": false,
         "subplot": "ternary",
         "text": "50",
         "type": "scatterternary"
        },
        {
         "a": [
          100,
          95,
          95,
          100,
          100,
          100
         ],
         "b": [
          0,
          0,
          5,
          0,
          0,
          0
         ],
         "c": [
          0,
          5,
          0,
          0,
          0,
          0
         ],
         "fill": "toself",
         "fillcolor": "rgb(0.0, 0.0, 0.0)",
         "hoverinfo": "skip",
         "line": {
          "color": "black",
          "width": 0
         },
         "mode": "lines",
         "opacity": 0.1,
         "showlegend": false,
         "subplot": "ternary",
         "text": "50",
         "type": "scatterternary"
        },
        {
         "a": [
          5,
          10,
          0,
          0,
          5,
          5
         ],
         "b": [
          95,
          90,
          90,
          95,
          95,
          95
         ],
         "c": [
          0,
          0,
          10,
          5,
          0,
          0
         ],
         "fill": "toself",
         "fillcolor": "rgb(0.0, 0.0, 0.0)",
         "hoverinfo": "skip",
         "line": {
          "color": "black",
          "width": 0
         },
         "mode": "lines",
         "opacity": 0.1,
         "showlegend": false,
         "subplot": "ternary",
         "text": "50",
         "type": "scatterternary"
        },
        {
         "a": [
          0,
          0,
          10,
          5,
          0,
          0
         ],
         "b": [
          5,
          10,
          0,
          0,
          5,
          5
         ],
         "c": [
          95,
          90,
          90,
          95,
          95,
          95
         ],
         "fill": "toself",
         "fillcolor": "rgb(8.80952380952381, 8.80952380952381, 8.80952380952381)",
         "hoverinfo": "skip",
         "line": {
          "color": "black",
          "width": 0
         },
         "mode": "lines",
         "opacity": 0.1,
         "showlegend": false,
         "subplot": "ternary",
         "text": "50",
         "type": "scatterternary"
        },
        {
         "a": [
          95,
          90,
          90,
          95,
          95,
          95
         ],
         "b": [
          0,
          0,
          10,
          5,
          0,
          0
         ],
         "c": [
          5,
          10,
          0,
          0,
          5,
          5
         ],
         "fill": "toself",
         "fillcolor": "rgb(19.38095238095238, 19.38095238095238, 19.38095238095238)",
         "hoverinfo": "skip",
         "line": {
          "color": "black",
          "width": 0
         },
         "mode": "lines",
         "opacity": 0.1,
         "showlegend": false,
         "subplot": "ternary",
         "text": "50",
         "type": "scatterternary"
        },
        {
         "a": [
          10,
          15,
          0,
          0,
          10,
          10
         ],
         "b": [
          90,
          85,
          85,
          90,
          90,
          90
         ],
         "c": [
          0,
          0,
          15,
          10,
          0,
          0
         ],
         "fill": "toself",
         "fillcolor": "rgb(29.952380952380953, 29.952380952380953, 29.952380952380953)",
         "hoverinfo": "skip",
         "line": {
          "color": "black",
          "width": 0
         },
         "mode": "lines",
         "opacity": 0.1,
         "showlegend": false,
         "subplot": "ternary",
         "text": "50",
         "type": "scatterternary"
        },
        {
         "a": [
          0,
          0,
          15,
          10,
          0,
          0
         ],
         "b": [
          10,
          15,
          0,
          0,
          10,
          10
         ],
         "c": [
          90,
          85,
          85,
          90,
          90,
          90
         ],
         "fill": "toself",
         "fillcolor": "rgb(39.142857142857146, 39.142857142857146, 39.142857142857146)",
         "hoverinfo": "skip",
         "line": {
          "color": "black",
          "width": 0
         },
         "mode": "lines",
         "opacity": 0.1,
         "showlegend": false,
         "subplot": "ternary",
         "text": "50",
         "type": "scatterternary"
        },
        {
         "a": [
          90,
          85,
          85,
          90,
          90,
          90
         ],
         "b": [
          0,
          0,
          15,
          10,
          0,
          0
         ],
         "c": [
          10,
          15,
          0,
          0,
          10,
          10
         ],
         "fill": "toself",
         "fillcolor": "rgb(49.85714285714286, 49.85714285714286, 49.85714285714286)",
         "hoverinfo": "skip",
         "line": {
          "color": "black",
          "width": 0
         },
         "mode": "lines",
         "opacity": 0.1,
         "showlegend": false,
         "subplot": "ternary",
         "text": "50",
         "type": "scatterternary"
        },
        {
         "a": [
          15,
          20,
          0,
          0,
          15,
          15
         ],
         "b": [
          85,
          80,
          80,
          85,
          85,
          85
         ],
         "c": [
          0,
          0,
          20,
          15,
          0,
          0
         ],
         "fill": "toself",
         "fillcolor": "rgb(62.714285714285715, 62.714285714285715, 62.714285714285715)",
         "hoverinfo": "skip",
         "line": {
          "color": "black",
          "width": 0
         },
         "mode": "lines",
         "opacity": 0.1,
         "showlegend": false,
         "subplot": "ternary",
         "text": "50",
         "type": "scatterternary"
        },
        {
         "a": [
          0,
          0,
          20,
          15,
          0,
          0
         ],
         "b": [
          15,
          20,
          0,
          0,
          15,
          15
         ],
         "c": [
          85,
          80,
          80,
          85,
          85,
          85
         ],
         "fill": "toself",
         "fillcolor": "rgb(75.57142857142857, 75.57142857142857, 75.57142857142857)",
         "hoverinfo": "skip",
         "line": {
          "color": "black",
          "width": 0
         },
         "mode": "lines",
         "opacity": 0.1,
         "showlegend": false,
         "subplot": "ternary",
         "text": "50",
         "type": "scatterternary"
        },
        {
         "a": [
          85,
          80,
          80,
          85,
          85,
          85
         ],
         "b": [
          0,
          0,
          20,
          15,
          0,
          0
         ],
         "c": [
          15,
          20,
          0,
          0,
          15,
          15
         ],
         "fill": "toself",
         "fillcolor": "rgb(85.14285714285714, 85.14285714285714, 85.14285714285714)",
         "hoverinfo": "skip",
         "line": {
          "color": "black",
          "width": 0
         },
         "mode": "lines",
         "opacity": 0.1,
         "showlegend": false,
         "subplot": "ternary",
         "text": "50",
         "type": "scatterternary"
        },
        {
         "a": [
          20,
          25,
          0,
          0,
          20,
          20
         ],
         "b": [
          80,
          75,
          75,
          80,
          80,
          80
         ],
         "c": [
          0,
          0,
          25,
          20,
          0,
          0
         ],
         "fill": "toself",
         "fillcolor": "rgb(94.57142857142857, 94.57142857142857, 94.57142857142857)",
         "hoverinfo": "skip",
         "line": {
          "color": "black",
          "width": 0
         },
         "mode": "lines",
         "opacity": 0.1,
         "showlegend": false,
         "subplot": "ternary",
         "text": "50",
         "type": "scatterternary"
        },
        {
         "a": [
          0,
          0,
          25,
          20,
          0,
          0
         ],
         "b": [
          20,
          25,
          0,
          0,
          20,
          20
         ],
         "c": [
          80,
          75,
          75,
          80,
          80,
          80
         ],
         "fill": "toself",
         "fillcolor": "rgb(104.0, 104.0, 104.0)",
         "hoverinfo": "skip",
         "line": {
          "color": "black",
          "width": 0
         },
         "mode": "lines",
         "opacity": 0.1,
         "showlegend": false,
         "subplot": "ternary",
         "text": "50",
         "type": "scatterternary"
        },
        {
         "a": [
          80,
          75,
          75,
          80,
          80,
          80
         ],
         "b": [
          0,
          0,
          25,
          20,
          0,
          0
         ],
         "c": [
          20,
          25,
          0,
          0,
          20,
          20
         ],
         "fill": "toself",
         "fillcolor": "rgb(113.42857142857143, 113.42857142857143, 113.42857142857143)",
         "hoverinfo": "skip",
         "line": {
          "color": "black",
          "width": 0
         },
         "mode": "lines",
         "opacity": 0.1,
         "showlegend": false,
         "subplot": "ternary",
         "text": "50",
         "type": "scatterternary"
        },
        {
         "a": [
          25,
          30,
          0,
          0,
          25,
          25
         ],
         "b": [
          75,
          70,
          70,
          75,
          75,
          75
         ],
         "c": [
          0,
          0,
          30,
          25,
          0,
          0
         ],
         "fill": "toself",
         "fillcolor": "rgb(121.66666666666666, 121.66666666666666, 121.66666666666666)",
         "hoverinfo": "skip",
         "line": {
          "color": "black",
          "width": 0
         },
         "mode": "lines",
         "opacity": 0.1,
         "showlegend": false,
         "subplot": "ternary",
         "text": "50",
         "type": "scatterternary"
        },
        {
         "a": [
          0,
          0,
          30,
          25,
          0,
          0
         ],
         "b": [
          25,
          30,
          0,
          0,
          25,
          25
         ],
         "c": [
          75,
          70,
          70,
          75,
          75,
          75
         ],
         "fill": "toself",
         "fillcolor": "rgb(130.0, 130.0, 130.0)",
         "hoverinfo": "skip",
         "line": {
          "color": "black",
          "width": 0
         },
         "mode": "lines",
         "opacity": 0.1,
         "showlegend": false,
         "subplot": "ternary",
         "text": "50",
         "type": "scatterternary"
        },
        {
         "a": [
          75,
          70,
          70,
          75,
          75,
          75
         ],
         "b": [
          0,
          0,
          30,
          25,
          0,
          0
         ],
         "c": [
          25,
          30,
          0,
          0,
          25,
          25
         ],
         "fill": "toself",
         "fillcolor": "rgb(140.0, 140.0, 140.0)",
         "hoverinfo": "skip",
         "line": {
          "color": "black",
          "width": 0
         },
         "mode": "lines",
         "opacity": 0.1,
         "showlegend": false,
         "subplot": "ternary",
         "text": "50",
         "type": "scatterternary"
        },
        {
         "a": [
          30,
          35,
          0,
          0,
          30,
          30
         ],
         "b": [
          70,
          65,
          65,
          70,
          70,
          70
         ],
         "c": [
          0,
          0,
          35,
          30,
          0,
          0
         ],
         "fill": "toself",
         "fillcolor": "rgb(150.0, 150.0, 150.0)",
         "hoverinfo": "skip",
         "line": {
          "color": "black",
          "width": 0
         },
         "mode": "lines",
         "opacity": 0.1,
         "showlegend": false,
         "subplot": "ternary",
         "text": "50",
         "type": "scatterternary"
        },
        {
         "a": [
          0,
          0,
          35,
          30,
          0,
          0
         ],
         "b": [
          30,
          35,
          0,
          0,
          30,
          30
         ],
         "c": [
          70,
          65,
          65,
          70,
          70,
          70
         ],
         "fill": "toself",
         "fillcolor": "rgb(159.28571428571428, 159.28571428571428, 159.28571428571428)",
         "hoverinfo": "skip",
         "line": {
          "color": "black",
          "width": 0
         },
         "mode": "lines",
         "opacity": 0.1,
         "showlegend": false,
         "subplot": "ternary",
         "text": "50",
         "type": "scatterternary"
        },
        {
         "a": [
          70,
          65,
          65,
          70,
          70,
          70
         ],
         "b": [
          0,
          0,
          35,
          30,
          0,
          0
         ],
         "c": [
          30,
          35,
          0,
          0,
          30,
          30
         ],
         "fill": "toself",
         "fillcolor": "rgb(170.42857142857142, 170.42857142857142, 170.42857142857142)",
         "hoverinfo": "skip",
         "line": {
          "color": "black",
          "width": 0
         },
         "mode": "lines",
         "opacity": 0.1,
         "showlegend": false,
         "subplot": "ternary",
         "text": "50",
         "type": "scatterternary"
        },
        {
         "a": [
          35,
          40,
          0,
          0,
          35,
          35
         ],
         "b": [
          65,
          60,
          60,
          65,
          65,
          65
         ],
         "c": [
          0,
          0,
          40,
          35,
          0,
          0
         ],
         "fill": "toself",
         "fillcolor": "rgb(181.57142857142858, 181.57142857142858, 181.57142857142858)",
         "hoverinfo": "skip",
         "line": {
          "color": "black",
          "width": 0
         },
         "mode": "lines",
         "opacity": 0.1,
         "showlegend": false,
         "subplot": "ternary",
         "text": "50",
         "type": "scatterternary"
        },
        {
         "a": [
          0,
          0,
          40,
          35,
          0,
          0
         ],
         "b": [
          35,
          40,
          0,
          0,
          35,
          35
         ],
         "c": [
          65,
          60,
          60,
          65,
          65,
          65
         ],
         "fill": "toself",
         "fillcolor": "rgb(190.33333333333334, 190.33333333333334, 190.33333333333334)",
         "hoverinfo": "skip",
         "line": {
          "color": "black",
          "width": 0
         },
         "mode": "lines",
         "opacity": 0.1,
         "showlegend": false,
         "subplot": "ternary",
         "text": "50",
         "type": "scatterternary"
        },
        {
         "a": [
          65,
          60,
          60,
          65,
          65,
          65
         ],
         "b": [
          0,
          0,
          40,
          35,
          0,
          0
         ],
         "c": [
          35,
          40,
          0,
          0,
          35,
          35
         ],
         "fill": "toself",
         "fillcolor": "rgb(198.33333333333334, 198.33333333333334, 198.33333333333334)",
         "hoverinfo": "skip",
         "line": {
          "color": "black",
          "width": 0
         },
         "mode": "lines",
         "opacity": 0.1,
         "showlegend": false,
         "subplot": "ternary",
         "text": "50",
         "type": "scatterternary"
        },
        {
         "a": [
          40,
          45,
          0,
          0,
          40,
          40
         ],
         "b": [
          60,
          55,
          55,
          60,
          60,
          60
         ],
         "c": [
          0,
          0,
          45,
          40,
          0,
          0
         ],
         "fill": "toself",
         "fillcolor": "rgb(206.33333333333334, 206.33333333333334, 206.33333333333334)",
         "hoverinfo": "skip",
         "line": {
          "color": "black",
          "width": 0
         },
         "mode": "lines",
         "opacity": 0.1,
         "showlegend": false,
         "subplot": "ternary",
         "text": "50",
         "type": "scatterternary"
        },
        {
         "a": [
          0,
          0,
          45,
          40,
          0,
          0
         ],
         "b": [
          40,
          45,
          0,
          0,
          40,
          40
         ],
         "c": [
          60,
          55,
          55,
          60,
          60,
          60
         ],
         "fill": "toself",
         "fillcolor": "rgb(213.0, 213.0, 213.0)",
         "hoverinfo": "skip",
         "line": {
          "color": "black",
          "width": 0
         },
         "mode": "lines",
         "opacity": 0.1,
         "showlegend": false,
         "subplot": "ternary",
         "text": "50",
         "type": "scatterternary"
        },
        {
         "a": [
          60,
          55,
          55,
          60,
          60,
          60
         ],
         "b": [
          0,
          0,
          45,
          40,
          0,
          0
         ],
         "c": [
          40,
          45,
          0,
          0,
          40,
          40
         ],
         "fill": "toself",
         "fillcolor": "rgb(219.1904761904762, 219.1904761904762, 219.1904761904762)",
         "hoverinfo": "skip",
         "line": {
          "color": "black",
          "width": 0
         },
         "mode": "lines",
         "opacity": 0.1,
         "showlegend": false,
         "subplot": "ternary",
         "text": "50",
         "type": "scatterternary"
        },
        {
         "a": [
          45,
          50,
          0,
          0,
          45,
          45
         ],
         "b": [
          55,
          50,
          50,
          55,
          55,
          55
         ],
         "c": [
          0,
          0,
          50,
          45,
          0,
          0
         ],
         "fill": "toself",
         "fillcolor": "rgb(225.76190476190476, 225.76190476190476, 225.76190476190476)",
         "hoverinfo": "skip",
         "line": {
          "color": "black",
          "width": 0
         },
         "mode": "lines",
         "opacity": 0.1,
         "showlegend": false,
         "subplot": "ternary",
         "text": "50",
         "type": "scatterternary"
        },
        {
         "a": [
          0,
          0,
          50,
          45,
          0,
          0
         ],
         "b": [
          45,
          50,
          0,
          0,
          45,
          45
         ],
         "c": [
          55,
          50,
          50,
          55,
          55,
          55
         ],
         "fill": "toself",
         "fillcolor": "rgb(232.33333333333334, 232.33333333333334, 232.33333333333334)",
         "hoverinfo": "skip",
         "line": {
          "color": "black",
          "width": 0
         },
         "mode": "lines",
         "opacity": 0.1,
         "showlegend": false,
         "subplot": "ternary",
         "text": "50",
         "type": "scatterternary"
        },
        {
         "a": [
          55,
          50,
          50,
          55,
          55,
          55
         ],
         "b": [
          0,
          0,
          50,
          45,
          0,
          0
         ],
         "c": [
          45,
          50,
          0,
          0,
          45,
          45
         ],
         "fill": "toself",
         "fillcolor": "rgb(238.9047619047619, 238.9047619047619, 238.9047619047619)",
         "hoverinfo": "skip",
         "line": {
          "color": "black",
          "width": 0
         },
         "mode": "lines",
         "opacity": 0.1,
         "showlegend": false,
         "subplot": "ternary",
         "text": "50",
         "type": "scatterternary"
        },
        {
         "a": [
          50,
          50,
          0,
          50
         ],
         "b": [
          50,
          0,
          50,
          50
         ],
         "c": [
          0,
          50,
          50,
          0
         ],
         "fill": "toself",
         "fillcolor": "rgb(242.85714285714286, 242.85714285714286, 242.85714285714286)",
         "hoverinfo": "skip",
         "line": {
          "color": "black",
          "width": 0
         },
         "mode": "lines",
         "opacity": 0.1,
         "showlegend": false,
         "subplot": "ternary",
         "text": "50",
         "type": "scatterternary"
        },
        {
         "a": [
          45,
          45,
          10,
          45
         ],
         "b": [
          45,
          10,
          45,
          45
         ],
         "c": [
          10,
          45,
          45,
          10
         ],
         "fill": "toself",
         "fillcolor": "rgb(247.14285714285714, 247.14285714285714, 247.14285714285714)",
         "hoverinfo": "skip",
         "line": {
          "color": "black",
          "width": 0
         },
         "mode": "lines",
         "opacity": 0.1,
         "showlegend": false,
         "subplot": "ternary",
         "text": "45",
         "type": "scatterternary"
        },
        {
         "a": [
          40,
          40,
          20,
          40
         ],
         "b": [
          40,
          20,
          40,
          40
         ],
         "c": [
          20,
          40,
          40,
          20
         ],
         "fill": "toself",
         "fillcolor": "rgb(251.42857142857142, 251.42857142857142, 251.42857142857142)",
         "hoverinfo": "skip",
         "line": {
          "color": "black",
          "width": 0
         },
         "mode": "lines",
         "opacity": 0.1,
         "showlegend": false,
         "subplot": "ternary",
         "text": "40",
         "type": "scatterternary"
        },
        {
         "a": [
          35,
          35,
          30,
          35
         ],
         "b": [
          35,
          30,
          35,
          35
         ],
         "c": [
          30,
          35,
          35,
          30
         ],
         "fill": "toself",
         "fillcolor": "rgb(255.0, 255.0, 255.0)",
         "hoverinfo": "skip",
         "line": {
          "color": "black",
          "width": 0
         },
         "mode": "lines",
         "opacity": 0.1,
         "showlegend": false,
         "subplot": "ternary",
         "text": "35",
         "type": "scatterternary"
        },
        {
         "a": [
          0,
          0
         ],
         "b": [
          0,
          1
         ],
         "c": [
          1,
          0
         ],
         "hoverinfo": "skip",
         "line": {
          "color": "black",
          "dash": "dot",
          "width": 0.33
         },
         "marker": {
          "color": "black",
          "line": {
           "color": "silver",
           "width": 0
          },
          "opacity": 1,
          "size": 15
         },
         "mode": "lines",
         "showlegend": false,
         "subplot": "ternary",
         "textfont": {
          "color": "black",
          "size": 5
         },
         "type": "scatterternary"
        },
        {
         "a": [
          0,
          1
         ],
         "b": [
          0,
          0
         ],
         "c": [
          1,
          0
         ],
         "hoverinfo": "skip",
         "line": {
          "color": "black",
          "dash": "dot",
          "width": 0.33
         },
         "marker": {
          "color": "black",
          "line": {
           "color": "silver",
           "width": 0
          },
          "opacity": 1,
          "size": 15
         },
         "mode": "lines",
         "showlegend": false,
         "subplot": "ternary",
         "textfont": {
          "color": "black",
          "size": 5
         },
         "type": "scatterternary"
        },
        {
         "a": [
          1,
          0
         ],
         "b": [
          0,
          1
         ],
         "c": [
          0,
          0
         ],
         "hoverinfo": "skip",
         "line": {
          "color": "black",
          "dash": "dot",
          "width": 0.33
         },
         "marker": {
          "color": "black",
          "line": {
           "color": "silver",
           "width": 0
          },
          "opacity": 1,
          "size": 15
         },
         "mode": "lines",
         "showlegend": false,
         "subplot": "ternary",
         "textfont": {
          "color": "black",
          "size": 5
         },
         "type": "scatterternary"
        },
        {
         "a": [
          0.25,
          0.25
         ],
         "b": [
          0,
          0.75
         ],
         "c": [
          0.75,
          0
         ],
         "hoverinfo": "skip",
         "line": {
          "color": "black",
          "dash": "dot",
          "width": 0.33
         },
         "marker": {
          "color": "black",
          "line": {
           "color": "silver",
           "width": 0
          },
          "opacity": 1,
          "size": 15
         },
         "mode": "lines",
         "showlegend": false,
         "subplot": "ternary",
         "textfont": {
          "color": "black",
          "size": 5
         },
         "type": "scatterternary"
        },
        {
         "a": [
          0,
          0.75
         ],
         "b": [
          0.25,
          0.25
         ],
         "c": [
          0.75,
          0
         ],
         "hoverinfo": "skip",
         "line": {
          "color": "black",
          "dash": "dot",
          "width": 0.33
         },
         "marker": {
          "color": "black",
          "line": {
           "color": "silver",
           "width": 0
          },
          "opacity": 1,
          "size": 15
         },
         "mode": "lines",
         "showlegend": false,
         "subplot": "ternary",
         "textfont": {
          "color": "black",
          "size": 5
         },
         "type": "scatterternary"
        },
        {
         "a": [
          0.75,
          0
         ],
         "b": [
          0,
          0.75
         ],
         "c": [
          0.25,
          0.25
         ],
         "hoverinfo": "skip",
         "line": {
          "color": "black",
          "dash": "dot",
          "width": 0.33
         },
         "marker": {
          "color": "black",
          "line": {
           "color": "silver",
           "width": 0
          },
          "opacity": 1,
          "size": 15
         },
         "mode": "lines",
         "showlegend": false,
         "subplot": "ternary",
         "textfont": {
          "color": "black",
          "size": 5
         },
         "type": "scatterternary"
        },
        {
         "a": [
          0.5,
          0.5
         ],
         "b": [
          0,
          0.5
         ],
         "c": [
          0.5,
          0
         ],
         "hoverinfo": "skip",
         "line": {
          "color": "black",
          "dash": "dot",
          "width": 0.33
         },
         "marker": {
          "color": "black",
          "line": {
           "color": "silver",
           "width": 0
          },
          "opacity": 1,
          "size": 15
         },
         "mode": "lines",
         "showlegend": false,
         "subplot": "ternary",
         "textfont": {
          "color": "black",
          "size": 5
         },
         "type": "scatterternary"
        },
        {
         "a": [
          0,
          0.5
         ],
         "b": [
          0.5,
          0.5
         ],
         "c": [
          0.5,
          0
         ],
         "hoverinfo": "skip",
         "line": {
          "color": "black",
          "dash": "dot",
          "width": 0.33
         },
         "marker": {
          "color": "black",
          "line": {
           "color": "silver",
           "width": 0
          },
          "opacity": 1,
          "size": 15
         },
         "mode": "lines",
         "showlegend": false,
         "subplot": "ternary",
         "textfont": {
          "color": "black",
          "size": 5
         },
         "type": "scatterternary"
        },
        {
         "a": [
          0.5,
          0
         ],
         "b": [
          0,
          0.5
         ],
         "c": [
          0.5,
          0.5
         ],
         "hoverinfo": "skip",
         "line": {
          "color": "black",
          "dash": "dot",
          "width": 0.33
         },
         "marker": {
          "color": "black",
          "line": {
           "color": "silver",
           "width": 0
          },
          "opacity": 1,
          "size": 15
         },
         "mode": "lines",
         "showlegend": false,
         "subplot": "ternary",
         "textfont": {
          "color": "black",
          "size": 5
         },
         "type": "scatterternary"
        },
        {
         "a": [
          0.75,
          0.75
         ],
         "b": [
          0,
          0.25
         ],
         "c": [
          0.25,
          0
         ],
         "hoverinfo": "skip",
         "line": {
          "color": "black",
          "dash": "dot",
          "width": 0.33
         },
         "marker": {
          "color": "black",
          "line": {
           "color": "silver",
           "width": 0
          },
          "opacity": 1,
          "size": 15
         },
         "mode": "lines",
         "showlegend": false,
         "subplot": "ternary",
         "textfont": {
          "color": "black",
          "size": 5
         },
         "type": "scatterternary"
        },
        {
         "a": [
          0,
          0.25
         ],
         "b": [
          0.75,
          0.75
         ],
         "c": [
          0.25,
          0
         ],
         "hoverinfo": "skip",
         "line": {
          "color": "black",
          "dash": "dot",
          "width": 0.33
         },
         "marker": {
          "color": "black",
          "line": {
           "color": "silver",
           "width": 0
          },
          "opacity": 1,
          "size": 15
         },
         "mode": "lines",
         "showlegend": false,
         "subplot": "ternary",
         "textfont": {
          "color": "black",
          "size": 5
         },
         "type": "scatterternary"
        },
        {
         "a": [
          0.25,
          0
         ],
         "b": [
          0,
          0.25
         ],
         "c": [
          0.75,
          0.75
         ],
         "hoverinfo": "skip",
         "line": {
          "color": "black",
          "dash": "dot",
          "width": 0.33
         },
         "marker": {
          "color": "black",
          "line": {
           "color": "silver",
           "width": 0
          },
          "opacity": 1,
          "size": 15
         },
         "mode": "lines",
         "showlegend": false,
         "subplot": "ternary",
         "textfont": {
          "color": "black",
          "size": 5
         },
         "type": "scatterternary"
        },
        {
         "a": [
          1,
          1
         ],
         "b": [
          0,
          0
         ],
         "c": [
          0,
          0
         ],
         "hoverinfo": "skip",
         "line": {
          "color": "black",
          "dash": "dot",
          "width": 0.33
         },
         "marker": {
          "color": "black",
          "line": {
           "color": "silver",
           "width": 0
          },
          "opacity": 1,
          "size": 15
         },
         "mode": "lines",
         "showlegend": false,
         "subplot": "ternary",
         "textfont": {
          "color": "black",
          "size": 5
         },
         "type": "scatterternary"
        },
        {
         "a": [
          0,
          0
         ],
         "b": [
          1,
          1
         ],
         "c": [
          0,
          0
         ],
         "hoverinfo": "skip",
         "line": {
          "color": "black",
          "dash": "dot",
          "width": 0.33
         },
         "marker": {
          "color": "black",
          "line": {
           "color": "silver",
           "width": 0
          },
          "opacity": 1,
          "size": 15
         },
         "mode": "lines",
         "showlegend": false,
         "subplot": "ternary",
         "textfont": {
          "color": "black",
          "size": 5
         },
         "type": "scatterternary"
        },
        {
         "a": [
          0,
          0
         ],
         "b": [
          0,
          0
         ],
         "c": [
          1,
          1
         ],
         "hoverinfo": "skip",
         "line": {
          "color": "black",
          "dash": "dot",
          "width": 0.33
         },
         "marker": {
          "color": "black",
          "line": {
           "color": "silver",
           "width": 0
          },
          "opacity": 1,
          "size": 15
         },
         "mode": "lines",
         "showlegend": false,
         "subplot": "ternary",
         "textfont": {
          "color": "black",
          "size": 5
         },
         "type": "scatterternary"
        },
        {
         "a": [
          0,
          0,
          0,
          0,
          0,
          0,
          0,
          0,
          0,
          0,
          0,
          0,
          0,
          0,
          0
         ],
         "b": [
          0,
          0,
          0,
          0,
          0,
          0,
          0,
          0,
          0,
          0,
          0,
          0,
          0,
          0,
          0
         ],
         "c": [
          0,
          0,
          0,
          0,
          0,
          0,
          0,
          0,
          0,
          0,
          0,
          0,
          0,
          0,
          0
         ],
         "line": {
          "color": "grey",
          "width": 0.25
         },
         "marker": {
          "color": "silver",
          "line": {
           "color": "black",
           "width": 0
          },
          "opacity": 0.9,
          "size": 6
         },
         "mode": "lines+text",
         "name": "AFG",
         "showlegend": false,
         "subplot": "ternary",
         "text": [
          "",
          "",
          "",
          "",
          "",
          "",
          "",
          "",
          "",
          "",
          "",
          "",
          "",
          "",
          ""
         ],
         "textfont": {
          "color": "black",
          "size": 6.887538952525359
         },
         "type": "scatterternary"
        },
        {
         "a": [
          0,
          0,
          0,
          0,
          0
         ],
         "b": [
          0,
          0,
          0,
          0,
          0
         ],
         "c": [
          0,
          0,
          0,
          0,
          0
         ],
         "line": {
          "color": "grey",
          "width": 0.25
         },
         "marker": {
          "color": "silver",
          "line": {
           "color": "black",
           "width": 0
          },
          "opacity": 0.9,
          "size": 6
         },
         "mode": "lines+text",
         "name": "AFG",
         "showlegend": false,
         "subplot": "ternary",
         "text": [
          "",
          "",
          "",
          "",
          "",
          "",
          "",
          "",
          "",
          "",
          "",
          "",
          "",
          "",
          ""
         ],
         "textfont": {
          "color": "black",
          "size": 6.887538952525359
         },
         "type": "scatterternary"
        },
        {
         "a": [
          0.03694430434812752,
          0.07096705789411269,
          0.12903987217878052,
          0.13478112701905268,
          0.16268668026058566,
          0.24041813156194397,
          0.3698071079279237,
          0.5090435281064903,
          0.5792048133679011,
          0.594763310418174,
          0.5885379912361082,
          0.579073126551713,
          0.5698843768709992,
          0.5610841038598628,
          0.5524519981862597
         ],
         "b": [
          0.9590035848830397,
          0.9203430525701438,
          0.8524971343460742,
          0.8421506404144095,
          0.8037604232143947,
          0.7013925788905373,
          0.526178682343715,
          0.33457998458662425,
          0.22970257204237954,
          0.20420279655358767,
          0.2100264889357205,
          0.22328970652199345,
          0.23680675195013864,
          0.24778224265762636,
          0.2590295527360912
         ],
         "c": [
          0.004052110768832645,
          0.008689889535743515,
          0.018462993475145174,
          0.023068232566538,
          0.03355289652501982,
          0.05818928954751874,
          0.10401420972836124,
          0.1563764873068855,
          0.1910926145897195,
          0.20103389302823813,
          0.20143551982817126,
          0.19763716692629363,
          0.1933088711788622,
          0.19113365348251082,
          0.1885184490776491
         ],
         "line": {
          "color": "grey",
          "width": 0.25
         },
         "marker": {
          "color": "silver",
          "line": {
           "color": "black",
           "width": 0
          },
          "opacity": 0.9,
          "size": 6
         },
         "mode": "lines+text",
         "name": "ALB",
         "showlegend": false,
         "subplot": "ternary",
         "text": [
          "",
          "",
          "",
          "",
          "",
          "",
          "",
          "",
          "",
          "",
          "",
          "",
          "",
          "",
          ""
         ],
         "textfont": {
          "color": "black",
          "size": 3.088420233482558
         },
         "type": "scatterternary"
        },
        {
         "a": [
          0.03694430434812752,
          0.07096705789411269,
          0.12903987217878052,
          0.13478112701905268,
          0.16268668026058566
         ],
         "b": [
          0.9590035848830397,
          0.9203430525701438,
          0.8524971343460742,
          0.8421506404144095,
          0.8037604232143947
         ],
         "c": [
          0.004052110768832645,
          0.008689889535743515,
          0.018462993475145174,
          0.023068232566538,
          0.03355289652501982
         ],
         "line": {
          "color": "grey",
          "width": 0.25
         },
         "marker": {
          "color": "silver",
          "line": {
           "color": "black",
           "width": 0
          },
          "opacity": 0.9,
          "size": 6
         },
         "mode": "lines+text",
         "name": "ALB",
         "showlegend": false,
         "subplot": "ternary",
         "text": [
          "",
          "",
          "",
          "",
          "",
          "",
          "",
          "",
          "",
          "",
          "",
          "",
          "",
          "",
          ""
         ],
         "textfont": {
          "color": "black",
          "size": 3.088420233482558
         },
         "type": "scatterternary"
        },
        {
         "a": [
          0.6236931751354422,
          0.681899024572929,
          0.7059068695818983,
          0.6597678645759185,
          0.6248052059591306,
          0.6169045137196756,
          0.6097262002348378,
          0.6067340451703915,
          0.5986959423395948,
          0.6004570684871744,
          0.5986405961399148,
          0.5978242496850752,
          0.5989395733991385,
          0.5966575937823233,
          0.5904693256459519
         ],
         "b": [
          0.3070076066858192,
          0.2315900606509224,
          0.18625260394518667,
          0.21490203843091882,
          0.22878284041106617,
          0.21316054915130514,
          0.1936684699584562,
          0.17735288507960767,
          0.16564904474925443,
          0.14878481166106644,
          0.1357240582323373,
          0.1270140843850886,
          0.12268226304449799,
          0.11891685229925741,
          0.11708332292393744
         ],
         "c": [
          0.06929921817873853,
          0.0865109147761488,
          0.10784052647291505,
          0.12533009699316275,
          0.1464119536298033,
          0.1699349371290194,
          0.19660532980670614,
          0.2159130697500006,
          0.23565501291115076,
          0.25075811985175894,
          0.26563534562774777,
          0.2751616659298362,
          0.2783781635563634,
          0.2844255539184194,
          0.2924473514301107
         ],
         "line": {
          "color": "grey",
          "width": 0.25
         },
         "marker": {
          "color": "silver",
          "line": {
           "color": "black",
           "width": 0
          },
          "opacity": 0.9,
          "size": 6
         },
         "mode": "lines+text",
         "name": "DZA",
         "showlegend": false,
         "subplot": "ternary",
         "text": [
          "",
          "",
          "",
          "",
          "",
          "",
          "",
          "",
          "",
          "",
          "",
          "",
          "",
          "",
          ""
         ],
         "textfont": {
          "color": "black",
          "size": 7.170080805090006
         },
         "type": "scatterternary"
        },
        {
         "a": [
          0.6236931751354422,
          0.681899024572929,
          0.7059068695818983,
          0.6597678645759185,
          0.6248052059591306
         ],
         "b": [
          0.3070076066858192,
          0.2315900606509224,
          0.18625260394518667,
          0.21490203843091882,
          0.22878284041106617
         ],
         "c": [
          0.06929921817873853,
          0.0865109147761488,
          0.10784052647291505,
          0.12533009699316275,
          0.1464119536298033
         ],
         "line": {
          "color": "grey",
          "width": 0.25
         },
         "marker": {
          "color": "silver",
          "line": {
           "color": "black",
           "width": 0
          },
          "opacity": 0.9,
          "size": 6
         },
         "mode": "lines+text",
         "name": "DZA",
         "showlegend": false,
         "subplot": "ternary",
         "text": [
          "",
          "",
          "",
          "",
          "",
          "",
          "",
          "",
          "",
          "",
          "",
          "",
          "",
          "",
          ""
         ],
         "textfont": {
          "color": "black",
          "size": 7.170080805090006
         },
         "type": "scatterternary"
        },
        {
         "a": [
          0,
          0,
          0,
          0,
          0,
          0,
          0,
          0,
          0,
          0,
          0,
          0,
          0,
          0,
          0
         ],
         "b": [
          0,
          0,
          0,
          0,
          0,
          0,
          0,
          0,
          0,
          0,
          0,
          0,
          0,
          0,
          0
         ],
         "c": [
          0,
          0,
          0,
          0,
          0,
          0,
          0,
          0,
          0,
          0,
          0,
          0,
          0,
          0,
          0
         ],
         "line": {
          "color": "grey",
          "width": 0.25
         },
         "marker": {
          "color": "silver",
          "line": {
           "color": "black",
           "width": 0
          },
          "opacity": 0.9,
          "size": 6
         },
         "mode": "lines+text",
         "name": "AND",
         "showlegend": false,
         "subplot": "ternary",
         "text": [
          "",
          "",
          "",
          "",
          "",
          "",
          "",
          "",
          "",
          "",
          "",
          "",
          "",
          "",
          ""
         ],
         "textfont": {
          "color": "black",
          "size": 2.3694187025678044
         },
         "type": "scatterternary"
        },
        {
         "a": [
          0,
          0,
          0,
          0,
          0
         ],
         "b": [
          0,
          0,
          0,
          0,
          0
         ],
         "c": [
          0,
          0,
          0,
          0,
          0
         ],
         "line": {
          "color": "grey",
          "width": 0.25
         },
         "marker": {
          "color": "silver",
          "line": {
           "color": "black",
           "width": 0
          },
          "opacity": 0.9,
          "size": 6
         },
         "mode": "lines+text",
         "name": "AND",
         "showlegend": false,
         "subplot": "ternary",
         "text": [
          "",
          "",
          "",
          "",
          "",
          "",
          "",
          "",
          "",
          "",
          "",
          "",
          "",
          "",
          ""
         ],
         "textfont": {
          "color": "black",
          "size": 2.3694187025678044
         },
         "type": "scatterternary"
        },
        {
         "a": [
          0.49998625839209,
          0.5122640416910256,
          0.4833623459692303,
          0.4285272666306845,
          0.37139765272736014,
          0.32419316989209607,
          0.2915616372279447,
          0.27091634832236694,
          0.258711533697154,
          0.2655530331175915,
          0.2738464924514904,
          0.2958454638899425,
          0.3187202949960122,
          0.33462216182044546,
          0.35974258696971884
         ],
         "b": [
          0.44375736709025126,
          0.4201211387958187,
          0.44354197928005695,
          0.4923651805823003,
          0.5439451193286535,
          0.5865661459747584,
          0.6091317096746055,
          0.6160648746734362,
          0.6026095055190294,
          0.5598906588102353,
          0.5073442798586212,
          0.45128454726790035,
          0.397045679106356,
          0.3615228043426948,
          0.3166637061621662
         ],
         "c": [
          0.05625637451765871,
          0.0676148195131555,
          0.07309567475071263,
          0.0791075527870154,
          0.08465722794398627,
          0.08924068413314565,
          0.09930665309744989,
          0.11301877700419696,
          0.13867896078381656,
          0.17455630807217315,
          0.21880922768988845,
          0.25286998884215717,
          0.2842340258976317,
          0.30385503383685986,
          0.32359370686811484
         ],
         "line": {
          "color": "grey",
          "width": 0.25
         },
         "marker": {
          "color": "silver",
          "line": {
           "color": "black",
           "width": 0
          },
          "opacity": 0.9,
          "size": 6
         },
         "mode": "lines+text",
         "name": "AGO",
         "showlegend": false,
         "subplot": "ternary",
         "text": [
          "",
          "",
          "",
          "",
          "",
          "",
          "",
          "",
          "",
          "",
          "",
          "",
          "",
          "",
          ""
         ],
         "textfont": {
          "color": "black",
          "size": 6.538719153439127
         },
         "type": "scatterternary"
        },
        {
         "a": [
          0.49998625839209,
          0.5122640416910256,
          0.4833623459692303,
          0.4285272666306845,
          0.37139765272736014
         ],
         "b": [
          0.44375736709025126,
          0.4201211387958187,
          0.44354197928005695,
          0.4923651805823003,
          0.5439451193286535
         ],
         "c": [
          0.05625637451765871,
          0.0676148195131555,
          0.07309567475071263,
          0.0791075527870154,
          0.08465722794398627
         ],
         "line": {
          "color": "grey",
          "width": 0.25
         },
         "marker": {
          "color": "silver",
          "line": {
           "color": "black",
           "width": 0
          },
          "opacity": 0.9,
          "size": 6
         },
         "mode": "lines+text",
         "name": "AGO",
         "showlegend": false,
         "subplot": "ternary",
         "text": [
          "",
          "",
          "",
          "",
          "",
          "",
          "",
          "",
          "",
          "",
          "",
          "",
          "",
          "",
          ""
         ],
         "textfont": {
          "color": "black",
          "size": 6.538719153439127
         },
         "type": "scatterternary"
        },
        {
         "a": [
          0,
          0,
          0,
          0,
          0,
          0,
          0,
          0,
          0,
          0,
          0,
          0,
          0,
          0,
          0
         ],
         "b": [
          0,
          0,
          0,
          0,
          0,
          0,
          0,
          0,
          0,
          0,
          0,
          0,
          0,
          0,
          0
         ],
         "c": [
          0,
          0,
          0,
          0,
          0,
          0,
          0,
          0,
          0,
          0,
          0,
          0,
          0,
          0,
          0
         ],
         "line": {
          "color": "grey",
          "width": 0.25
         },
         "marker": {
          "color": "silver",
          "line": {
           "color": "black",
           "width": 0
          },
          "opacity": 0.9,
          "size": 6
         },
         "mode": "lines+text",
         "name": "ATG",
         "showlegend": false,
         "subplot": "ternary",
         "text": [
          "",
          "",
          "",
          "",
          "",
          "",
          "",
          "",
          "",
          "",
          "",
          "",
          "",
          "",
          ""
         ],
         "textfont": {
          "color": "black",
          "size": 1.5281509136631874
         },
         "type": "scatterternary"
        },
        {
         "a": [
          0,
          0,
          0,
          0,
          0
         ],
         "b": [
          0,
          0,
          0,
          0,
          0
         ],
         "c": [
          0,
          0,
          0,
          0,
          0
         ],
         "line": {
          "color": "grey",
          "width": 0.25
         },
         "marker": {
          "color": "silver",
          "line": {
           "color": "black",
           "width": 0
          },
          "opacity": 0.9,
          "size": 6
         },
         "mode": "lines+text",
         "name": "ATG",
         "showlegend": false,
         "subplot": "ternary",
         "text": [
          "",
          "",
          "",
          "",
          "",
          "",
          "",
          "",
          "",
          "",
          "",
          "",
          "",
          "",
          ""
         ],
         "textfont": {
          "color": "black",
          "size": 1.5281509136631874
         },
         "type": "scatterternary"
        },
        {
         "a": [
          0.1344926978111085,
          0.16538885312180548,
          0.23257672598999163,
          0.2313486492691549,
          0.27733780985584444,
          0.3969421086791889,
          0.5494023715748682,
          0.6457352023794993,
          0.6367916897087313,
          0.5928292462998878,
          0.5478782581676889,
          0.4989646864446309,
          0.4451212221585791,
          0.39948176398074553,
          0.3831678934953541
         ],
         "b": [
          0.8502702299293914,
          0.8129802388726484,
          0.7311455724236514,
          0.7250525977449181,
          0.6596963988308371,
          0.4980837766068715,
          0.2845420747183094,
          0.14197094773331742,
          0.12682794663303168,
          0.16827633131841993,
          0.21765288048588788,
          0.26646436739750246,
          0.3117461012705351,
          0.34334883488120904,
          0.35632560257680235
         ],
         "c": [
          0.015237072259500096,
          0.021630908005546113,
          0.03627770158635711,
          0.04359875298592672,
          0.06296579131331831,
          0.10497411471393973,
          0.16605555370682248,
          0.21229384988718317,
          0.23638036365823703,
          0.23889442238169215,
          0.23446886134642328,
          0.23457094615786672,
          0.2431326765708859,
          0.2571694011380455,
          0.26050650392784364
         ],
         "line": {
          "color": "grey",
          "width": 0.25
         },
         "marker": {
          "color": "silver",
          "line": {
           "color": "black",
           "width": 0
          },
          "opacity": 0.9,
          "size": 6
         },
         "mode": "lines+text",
         "name": "ARG",
         "showlegend": false,
         "subplot": "ternary",
         "text": [
          "",
          "",
          "",
          "",
          "",
          "",
          "",
          "",
          "",
          "",
          "",
          "",
          "",
          "",
          ""
         ],
         "textfont": {
          "color": "black",
          "size": 7.272886742243632
         },
         "type": "scatterternary"
        },
        {
         "a": [
          0.1344926978111085,
          0.16538885312180548,
          0.23257672598999163,
          0.2313486492691549,
          0.27733780985584444
         ],
         "b": [
          0.8502702299293914,
          0.8129802388726484,
          0.7311455724236514,
          0.7250525977449181,
          0.6596963988308371
         ],
         "c": [
          0.015237072259500096,
          0.021630908005546113,
          0.03627770158635711,
          0.04359875298592672,
          0.06296579131331831
         ],
         "line": {
          "color": "grey",
          "width": 0.25
         },
         "marker": {
          "color": "silver",
          "line": {
           "color": "black",
           "width": 0
          },
          "opacity": 0.9,
          "size": 6
         },
         "mode": "lines+text",
         "name": "ARG",
         "showlegend": false,
         "subplot": "ternary",
         "text": [
          "",
          "",
          "",
          "",
          "",
          "",
          "",
          "",
          "",
          "",
          "",
          "",
          "",
          "",
          ""
         ],
         "textfont": {
          "color": "black",
          "size": 7.272886742243632
         },
         "type": "scatterternary"
        },
        {
         "a": [
          0.04078344197281812,
          0.07120790202667046,
          0.12280217874530963,
          0.12400693613704752,
          0.14904315312296257,
          0.22505724646338912,
          0.3585162079652937,
          0.5131360013279922,
          0.6037974497004255,
          0.636187607230847,
          0.6458898384673766,
          0.642888617536053,
          0.6360316990749839,
          0.6250603102196981,
          0.6191289878325639
         ],
         "b": [
          0.9547053062976683,
          0.9199316497380812,
          0.8593053126326979,
          0.8544844653387071,
          0.8199245163848966,
          0.7199792526632547,
          0.5398480125946601,
          0.32799615140622257,
          0.194753813476193,
          0.1450222725188545,
          0.12545050512883033,
          0.12760066044390064,
          0.13559551154459074,
          0.14413900283475847,
          0.1482274799947748
         ],
         "c": [
          0.0045112517295137254,
          0.008860448235248343,
          0.01789250862199232,
          0.021508598524245557,
          0.031032330492140787,
          0.054963500873356316,
          0.10163577944004623,
          0.1588678472657852,
          0.2014487368233815,
          0.2187901202502985,
          0.22865965640379313,
          0.22951072202004638,
          0.22837278938042524,
          0.2308006869455434,
          0.23264353217266123
         ],
         "line": {
          "color": "grey",
          "width": 0.25
         },
         "marker": {
          "color": "silver",
          "line": {
           "color": "black",
           "width": 0
          },
          "opacity": 0.9,
          "size": 6
         },
         "mode": "lines+text",
         "name": "ARM",
         "showlegend": false,
         "subplot": "ternary",
         "text": [
          "",
          "",
          "",
          "",
          "",
          "",
          "",
          "",
          "",
          "",
          "",
          "",
          "",
          "",
          ""
         ],
         "textfont": {
          "color": "black",
          "size": 3.0709656555804554
         },
         "type": "scatterternary"
        },
        {
         "a": [
          0.04078344197281812,
          0.07120790202667046,
          0.12280217874530963,
          0.12400693613704752,
          0.14904315312296257
         ],
         "b": [
          0.9547053062976683,
          0.9199316497380812,
          0.8593053126326979,
          0.8544844653387071,
          0.8199245163848966
         ],
         "c": [
          0.0045112517295137254,
          0.008860448235248343,
          0.01789250862199232,
          0.021508598524245557,
          0.031032330492140787
         ],
         "line": {
          "color": "grey",
          "width": 0.25
         },
         "marker": {
          "color": "silver",
          "line": {
           "color": "black",
           "width": 0
          },
          "opacity": 0.9,
          "size": 6
         },
         "mode": "lines+text",
         "name": "ARM",
         "showlegend": false,
         "subplot": "ternary",
         "text": [
          "",
          "",
          "",
          "",
          "",
          "",
          "",
          "",
          "",
          "",
          "",
          "",
          "",
          "",
          ""
         ],
         "textfont": {
          "color": "black",
          "size": 3.0709656555804554
         },
         "type": "scatterternary"
        },
        {
         "a": [
          0.04805375995725493,
          0.052435400778623124,
          0.0701946002388221,
          0.05529318959718188,
          0.05967358435553943,
          0.0939017129342905,
          0.1485477568722594,
          0.2015524762304253,
          0.21176479534475773,
          0.1992533228196632,
          0.1893195673811665,
          0.19031047846223953,
          0.19395282520620066,
          0.19077046007315068,
          0.19028948951633182
         ],
         "b": [
          0.9464816103364877,
          0.9405350621181948,
          0.9179939268839231,
          0.9321046494239564,
          0.9222505789174613,
          0.870225275718779,
          0.7816183916082357,
          0.6821752522867568,
          0.6460775335573958,
          0.6552618765403857,
          0.6685388310350232,
          0.674095003982527,
          0.671955326838371,
          0.6568591283711087,
          0.6291219412798924
         ],
         "c": [
          0.005464629706257176,
          0.00702953710318187,
          0.011811472877254843,
          0.01260216097886167,
          0.018075836726999143,
          0.03587301134693037,
          0.06983385151950493,
          0.11627227148281791,
          0.14215767109784655,
          0.14548480063995112,
          0.14214160158381028,
          0.1355945175552335,
          0.13409184795542825,
          0.15237041155574063,
          0.1805885692037757
         ],
         "line": {
          "color": "grey",
          "width": 0.25
         },
         "marker": {
          "color": "silver",
          "line": {
           "color": "black",
           "width": 0
          },
          "opacity": 0.9,
          "size": 6
         },
         "mode": "lines+text",
         "name": "AUS",
         "showlegend": false,
         "subplot": "ternary",
         "text": [
          "",
          "",
          "",
          "",
          "",
          "",
          "",
          "",
          "",
          "",
          "",
          "",
          "",
          "",
          ""
         ],
         "textfont": {
          "color": "black",
          "size": 6.005564496399213
         },
         "type": "scatterternary"
        },
        {
         "a": [
          0.04805375995725493,
          0.052435400778623124,
          0.0701946002388221,
          0.05529318959718188,
          0.05967358435553943
         ],
         "b": [
          0.9464816103364877,
          0.9405350621181948,
          0.9179939268839231,
          0.9321046494239564,
          0.9222505789174613
         ],
         "c": [
          0.005464629706257176,
          0.00702953710318187,
          0.011811472877254843,
          0.01260216097886167,
          0.018075836726999143
         ],
         "line": {
          "color": "grey",
          "width": 0.25
         },
         "marker": {
          "color": "silver",
          "line": {
           "color": "black",
           "width": 0
          },
          "opacity": 0.9,
          "size": 6
         },
         "mode": "lines+text",
         "name": "AUS",
         "showlegend": false,
         "subplot": "ternary",
         "text": [
          "",
          "",
          "",
          "",
          "",
          "",
          "",
          "",
          "",
          "",
          "",
          "",
          "",
          "",
          ""
         ],
         "textfont": {
          "color": "black",
          "size": 6.005564496399213
         },
         "type": "scatterternary"
        },
        {
         "a": [
          0.5810161133376938,
          0.5972315618769016,
          0.6341528014329905,
          0.5675319903869859,
          0.5202972089785893,
          0.5131194371119903,
          0.5079552663626817,
          0.5024749825680828,
          0.484476868956519,
          0.4805073431186224,
          0.4891151112670769,
          0.5035631506958168,
          0.5275143310005805,
          0.5511096342984875,
          0.5809112307300222
         ],
         "b": [
          0.35392630671939207,
          0.3256747125858895,
          0.267069795818534,
          0.32303908137399345,
          0.3539327031723699,
          0.3378503858315483,
          0.32399911817743626,
          0.317471307003593,
          0.32713352549513947,
          0.32486478047855655,
          0.30819329860973277,
          0.28150358888595817,
          0.25202521703821046,
          0.21858266983212193,
          0.1820289272963176
         ],
         "c": [
          0.06505757994291438,
          0.07709372553720895,
          0.09877740274847562,
          0.10942892823902071,
          0.1257700878490408,
          0.14903017705646152,
          0.16804561545988195,
          0.18005371042832463,
          0.18838960554834144,
          0.19462787640282125,
          0.2026915901231904,
          0.21493326041822491,
          0.220460451961209,
          0.2303076958693906,
          0.2370598419736602
         ],
         "line": {
          "color": "grey",
          "width": 0.25
         },
         "marker": {
          "color": "silver",
          "line": {
           "color": "black",
           "width": 0
          },
          "opacity": 0.9,
          "size": 6
         },
         "mode": "lines+text",
         "name": "AUT",
         "showlegend": false,
         "subplot": "ternary",
         "text": [
          "",
          "",
          "",
          "",
          "",
          "",
          "",
          "",
          "",
          "",
          "",
          "",
          "",
          "",
          ""
         ],
         "textfont": {
          "color": "black",
          "size": 4.283323891888694
         },
         "type": "scatterternary"
        },
        {
         "a": [
          0.5810161133376938,
          0.5972315618769016,
          0.6341528014329905,
          0.5675319903869859,
          0.5202972089785893
         ],
         "b": [
          0.35392630671939207,
          0.3256747125858895,
          0.267069795818534,
          0.32303908137399345,
          0.3539327031723699
         ],
         "c": [
          0.06505757994291438,
          0.07709372553720895,
          0.09877740274847562,
          0.10942892823902071,
          0.1257700878490408
         ],
         "line": {
          "color": "grey",
          "width": 0.25
         },
         "marker": {
          "color": "silver",
          "line": {
           "color": "black",
           "width": 0
          },
          "opacity": 0.9,
          "size": 6
         },
         "mode": "lines+text",
         "name": "AUT",
         "showlegend": false,
         "subplot": "ternary",
         "text": [
          "",
          "",
          "",
          "",
          "",
          "",
          "",
          "",
          "",
          "",
          "",
          "",
          "",
          "",
          ""
         ],
         "textfont": {
          "color": "black",
          "size": 4.283323891888694
         },
         "type": "scatterternary"
        },
        {
         "a": [
          0.8340761229524429,
          0.8336843716472824,
          0.8268342418015074,
          0.7928263396697737,
          0.7639842197459165,
          0.7433452627786578,
          0.7217754823076453,
          0.7072492013446275,
          0.6926243186867537,
          0.6853721141308726,
          0.6881977913206327,
          0.6863924775794401,
          0.6812657411144791,
          0.6750138581414877,
          0.6703792057156519
         ],
         "b": [
          0.07310047215722021,
          0.05983928057596682,
          0.04831962873743745,
          0.06250443184735677,
          0.06845530105645066,
          0.06687024752269803,
          0.06590437889337757,
          0.06837647465596897,
          0.07355965668846051,
          0.07950935776419646,
          0.07241547015521282,
          0.07703580052026794,
          0.0877157114192214,
          0.09705457815345167,
          0.10256954409620918
         ],
         "c": [
          0.09282340489033673,
          0.10647634777675063,
          0.12484612946105512,
          0.1446692284828696,
          0.1675604791976328,
          0.18978448969864428,
          0.2123201387989773,
          0.22437432399940355,
          0.23381602462478576,
          0.2351185281049309,
          0.23938673852415443,
          0.23657172190029188,
          0.23101854746629946,
          0.2279315637050604,
          0.22705125018813888
         ],
         "line": {
          "color": "grey",
          "width": 0.25
         },
         "marker": {
          "color": "silver",
          "line": {
           "color": "black",
           "width": 0
          },
          "opacity": 0.9,
          "size": 6
         },
         "mode": "lines+text",
         "name": "AZE",
         "showlegend": false,
         "subplot": "ternary",
         "text": [
          "",
          "",
          "",
          "",
          "",
          "",
          "",
          "",
          "",
          "",
          "",
          "",
          "",
          "",
          ""
         ],
         "textfont": {
          "color": "black",
          "size": 4.477155248223504
         },
         "type": "scatterternary"
        },
        {
         "a": [
          0.8340761229524429,
          0.8336843716472824,
          0.8268342418015074,
          0.7928263396697737,
          0.7639842197459165
         ],
         "b": [
          0.07310047215722021,
          0.05983928057596682,
          0.04831962873743745,
          0.06250443184735677,
          0.06845530105645066
         ],
         "c": [
          0.09282340489033673,
          0.10647634777675063,
          0.12484612946105512,
          0.1446692284828696,
          0.1675604791976328
         ],
         "line": {
          "color": "grey",
          "width": 0.25
         },
         "marker": {
          "color": "silver",
          "line": {
           "color": "black",
           "width": 0
          },
          "opacity": 0.9,
          "size": 6
         },
         "mode": "lines+text",
         "name": "AZE",
         "showlegend": false,
         "subplot": "ternary",
         "text": [
          "",
          "",
          "",
          "",
          "",
          "",
          "",
          "",
          "",
          "",
          "",
          "",
          "",
          "",
          ""
         ],
         "textfont": {
          "color": "black",
          "size": 4.477155248223504
         },
         "type": "scatterternary"
        },
        {
         "a": [
          0.15621940056141315,
          0.1729440897262793,
          0.24576982910122194,
          0.20490648346530083,
          0.1901102944128378,
          0.22155948311964838,
          0.2482982375518493,
          0.24154988505722141,
          0.21455662903806755,
          0.19028253275922624,
          0.172521345727303,
          0.15473665506120904,
          0.1423819781379296,
          0.13547807097394615,
          0.12443908124608692
         ],
         "b": [
          0.8254721027126604,
          0.803059614769518,
          0.7125359131399269,
          0.749919379634843,
          0.756127491020409,
          0.7049989632102144,
          0.649908022889504,
          0.6420449311093658,
          0.6675445195878743,
          0.6880745242100794,
          0.6975755721200257,
          0.6879464880009835,
          0.6727833426519736,
          0.6621061351406594,
          0.6444647518100037
         ],
         "c": [
          0.01830849672592625,
          0.0239962955042025,
          0.04169425775885096,
          0.04517413689985617,
          0.053762214566753196,
          0.07344155367013701,
          0.10179373955864685,
          0.11640518383341278,
          0.11789885137405841,
          0.12164294303069403,
          0.12990308215267127,
          0.15731685693780756,
          0.18483467921009672,
          0.20241579388539443,
          0.23109616694390936
         ],
         "line": {
          "color": "grey",
          "width": 0.25
         },
         "marker": {
          "color": "silver",
          "line": {
           "color": "black",
           "width": 0
          },
          "opacity": 0.9,
          "size": 6
         },
         "mode": "lines+text",
         "name": "BHR",
         "showlegend": false,
         "subplot": "ternary",
         "text": [
          "",
          "",
          "",
          "",
          "",
          "",
          "",
          "",
          "",
          "",
          "",
          "",
          "",
          "",
          ""
         ],
         "textfont": {
          "color": "black",
          "size": 2.607979706744512
         },
         "type": "scatterternary"
        },
        {
         "a": [
          0.15621940056141315,
          0.1729440897262793,
          0.24576982910122194,
          0.20490648346530083,
          0.1901102944128378
         ],
         "b": [
          0.8254721027126604,
          0.803059614769518,
          0.7125359131399269,
          0.749919379634843,
          0.756127491020409
         ],
         "c": [
          0.01830849672592625,
          0.0239962955042025,
          0.04169425775885096,
          0.04517413689985617,
          0.053762214566753196
         ],
         "line": {
          "color": "grey",
          "width": 0.25
         },
         "marker": {
          "color": "silver",
          "line": {
           "color": "black",
           "width": 0
          },
          "opacity": 0.9,
          "size": 6
         },
         "mode": "lines+text",
         "name": "BHR",
         "showlegend": false,
         "subplot": "ternary",
         "text": [
          "",
          "",
          "",
          "",
          "",
          "",
          "",
          "",
          "",
          "",
          "",
          "",
          "",
          "",
          ""
         ],
         "textfont": {
          "color": "black",
          "size": 2.607979706744512
         },
         "type": "scatterternary"
        },
        {
         "a": [
          0.02184845445748123,
          0.06124109908389026,
          0.1348179813171959,
          0.15349170619507044,
          0.18852062900605776,
          0.28362903296984876,
          0.43735895664343805,
          0.5943294616487953,
          0.6763348141736054,
          0.704821488729,
          0.7097706950350364,
          0.7088689832806556,
          0.7083985260958907,
          0.7051379666026626,
          0.7010298682534499
         ],
         "b": [
          0.9757638382119265,
          0.9315007574665526,
          0.8466017706086366,
          0.8212745107461822,
          0.7738900981201425,
          0.6493535355743267,
          0.4400133081584413,
          0.2195895745836173,
          0.09191361461140579,
          0.04247144703419965,
          0.02714979053454299,
          0.02836565945736411,
          0.03220254331300052,
          0.037032306232627855,
          0.04162260596239143
         ],
         "c": [
          0.0023877073305923024,
          0.007258143449556974,
          0.01858024807416751,
          0.025233783058747388,
          0.0375892728738,
          0.06701743145582481,
          0.12262773519812051,
          0.18608096376758737,
          0.23175157121498888,
          0.25270706423680034,
          0.2630795144304205,
          0.26276535726198014,
          0.25939893059110886,
          0.2578297271647097,
          0.2573475257841587
         ],
         "line": {
          "color": "grey",
          "width": 0.25
         },
         "marker": {
          "color": "silver",
          "line": {
           "color": "black",
           "width": 0
          },
          "opacity": 0.9,
          "size": 6
         },
         "mode": "lines+text",
         "name": "BGD",
         "showlegend": false,
         "subplot": "ternary",
         "text": [
          "",
          "",
          "",
          "",
          "",
          "",
          "",
          "",
          "",
          "",
          "",
          "",
          "",
          "",
          ""
         ],
         "textfont": {
          "color": "black",
          "size": 11.593165546502235
         },
         "type": "scatterternary"
        },
        {
         "a": [
          0.02184845445748123,
          0.06124109908389026,
          0.1348179813171959,
          0.15349170619507044,
          0.18852062900605776
         ],
         "b": [
          0.9757638382119265,
          0.9315007574665526,
          0.8466017706086366,
          0.8212745107461822,
          0.7738900981201425
         ],
         "c": [
          0.0023877073305923024,
          0.007258143449556974,
          0.01858024807416751,
          0.025233783058747388,
          0.0375892728738
         ],
         "line": {
          "color": "grey",
          "width": 0.25
         },
         "marker": {
          "color": "silver",
          "line": {
           "color": "black",
           "width": 0
          },
          "opacity": 0.9,
          "size": 6
         },
         "mode": "lines+text",
         "name": "BGD",
         "showlegend": false,
         "subplot": "ternary",
         "text": [
          "",
          "",
          "",
          "",
          "",
          "",
          "",
          "",
          "",
          "",
          "",
          "",
          "",
          "",
          ""
         ],
         "textfont": {
          "color": "black",
          "size": 11.593165546502235
         },
         "type": "scatterternary"
        },
        {
         "a": [
          0.09847236865742559,
          0.14720039721162584,
          0.22773093984510867,
          0.23755595371815008,
          0.28521025128972116,
          0.39818864267118703,
          0.5425854146146887,
          0.6480941655123846,
          0.6891647898603404,
          0.6871315719803759,
          0.6661168866605292,
          0.6303766144792843,
          0.5938966152651826,
          0.5502204533580258,
          0.526781688496234
         ],
         "b": [
          0.8905099571450196,
          0.8340861554616078,
          0.7377104251279258,
          0.7175501631900724,
          0.6482065660716456,
          0.49434453082600055,
          0.290837822579866,
          0.1357284076306719,
          0.07217970450681793,
          0.07064298009284158,
          0.09204668412960847,
          0.12775340363086427,
          0.1654226464593983,
          0.1928124814145386,
          0.21192231790341576
         ],
         "c": [
          0.01101767419755494,
          0.018713447326766434,
          0.03455863502696561,
          0.04489388309177749,
          0.06658318263863336,
          0.10746682650281242,
          0.16657676280544534,
          0.21617742685694358,
          0.23865550563284194,
          0.24222544792678263,
          0.24183642920986226,
          0.24186998188985143,
          0.24068073827541922,
          0.25696706522743545,
          0.26129599360035033
         ],
         "line": {
          "color": "grey",
          "width": 0.25
         },
         "marker": {
          "color": "silver",
          "line": {
           "color": "black",
           "width": 0
          },
          "opacity": 0.9,
          "size": 6
         },
         "mode": "lines+text",
         "name": "BRB",
         "showlegend": false,
         "subplot": "ternary",
         "text": [
          "",
          "",
          "",
          "",
          "",
          "",
          "",
          "",
          "",
          "",
          "",
          "",
          "",
          "",
          ""
         ],
         "textfont": {
          "color": "black",
          "size": 1.8234999284297813
         },
         "type": "scatterternary"
        },
        {
         "a": [
          0.09847236865742559,
          0.14720039721162584,
          0.22773093984510867,
          0.23755595371815008,
          0.28521025128972116
         ],
         "b": [
          0.8905099571450196,
          0.8340861554616078,
          0.7377104251279258,
          0.7175501631900724,
          0.6482065660716456
         ],
         "c": [
          0.01101767419755494,
          0.018713447326766434,
          0.03455863502696561,
          0.04489388309177749,
          0.06658318263863336
         ],
         "line": {
          "color": "grey",
          "width": 0.25
         },
         "marker": {
          "color": "silver",
          "line": {
           "color": "black",
           "width": 0
          },
          "opacity": 0.9,
          "size": 6
         },
         "mode": "lines+text",
         "name": "BRB",
         "showlegend": false,
         "subplot": "ternary",
         "text": [
          "",
          "",
          "",
          "",
          "",
          "",
          "",
          "",
          "",
          "",
          "",
          "",
          "",
          "",
          ""
         ],
         "textfont": {
          "color": "black",
          "size": 1.8234999284297813
         },
         "type": "scatterternary"
        },
        {
         "a": [
          0.08734515754803039,
          0.09080621967245008,
          0.1158840673326278,
          0.10009126806465418,
          0.10716189440170498,
          0.1581372565809553,
          0.2669744124273495,
          0.4481197279129532,
          0.6079639473981612,
          0.6874151022620884,
          0.7159333344801299,
          0.7150497718642612,
          0.7108999488561376,
          0.7024919064816568,
          0.6989323921646915
         ],
         "b": [
          0.9028367479838502,
          0.8973609946707914,
          0.8659920127181664,
          0.8808387935764143,
          0.8683048351121905,
          0.7997638713391874,
          0.6515094307882091,
          0.40576569412800634,
          0.18318011118947772,
          0.07452344408384938,
          0.0353184619989477,
          0.038292148764587454,
          0.0456219123905514,
          0.05381757827813814,
          0.05687190244543177
         ],
         "c": [
          0.009818094468119445,
          0.011832785656758419,
          0.018123919949205678,
          0.019069938358931705,
          0.02453327048610453,
          0.04209887207985732,
          0.08151615678444138,
          0.1461145779590406,
          0.20885594141236102,
          0.23806145365406212,
          0.24874820352092225,
          0.24665807937115122,
          0.24347813875331098,
          0.24369051524020507,
          0.24419570538987653
         ],
         "line": {
          "color": "grey",
          "width": 0.25
         },
         "marker": {
          "color": "silver",
          "line": {
           "color": "black",
           "width": 0
          },
          "opacity": 0.9,
          "size": 6
         },
         "mode": "lines+text",
         "name": "BLR",
         "showlegend": false,
         "subplot": "ternary",
         "text": [
          "",
          "",
          "",
          "",
          "",
          "",
          "",
          "",
          "",
          "",
          "",
          "",
          "",
          "",
          ""
         ],
         "textfont": {
          "color": "black",
          "size": 4.392702579435516
         },
         "type": "scatterternary"
        },
        {
         "a": [
          0.08734515754803039,
          0.09080621967245008,
          0.1158840673326278,
          0.10009126806465418,
          0.10716189440170498
         ],
         "b": [
          0.9028367479838502,
          0.8973609946707914,
          0.8659920127181664,
          0.8808387935764143,
          0.8683048351121905
         ],
         "c": [
          0.009818094468119445,
          0.011832785656758419,
          0.018123919949205678,
          0.019069938358931705,
          0.02453327048610453
         ],
         "line": {
          "color": "grey",
          "width": 0.25
         },
         "marker": {
          "color": "silver",
          "line": {
           "color": "black",
           "width": 0
          },
          "opacity": 0.9,
          "size": 6
         },
         "mode": "lines+text",
         "name": "BLR",
         "showlegend": false,
         "subplot": "ternary",
         "text": [
          "",
          "",
          "",
          "",
          "",
          "",
          "",
          "",
          "",
          "",
          "",
          "",
          "",
          "",
          ""
         ],
         "textfont": {
          "color": "black",
          "size": 4.392702579435516
         },
         "type": "scatterternary"
        },
        {
         "a": [
          0.08488581892404393,
          0.09617164857804301,
          0.1323223862378448,
          0.11563316577440647,
          0.12565809577404097,
          0.18680817419829202,
          0.29881712816765793,
          0.4340079146329324,
          0.49960597260106465,
          0.5232618371583124,
          0.5391369634346326,
          0.5600825875765605,
          0.5866331309211648,
          0.6107806454243168,
          0.6372261355684783
         ],
         "b": [
          0.9055803731829265,
          0.8913029770188129,
          0.8468245548360462,
          0.8618194088813094,
          0.8439495916738577,
          0.7592107855659658,
          0.6025338318113713,
          0.41159872011152976,
          0.30851872394397145,
          0.27071634764000935,
          0.24801763455608844,
          0.21780022388447956,
          0.1854045116910794,
          0.1519476459982841,
          0.11921865457864056
         ],
         "c": [
          0.009533807893029558,
          0.012525374403144265,
          0.020853058926108965,
          0.02254742534428407,
          0.030392312552101293,
          0.053981040235742274,
          0.09864904002097077,
          0.15439336525553796,
          0.19187530345496379,
          0.20602181520167812,
          0.2128454020092787,
          0.22211718853896,
          0.2279623573877559,
          0.2372717085773991,
          0.24355520985288104
         ],
         "line": {
          "color": "grey",
          "width": 0.25
         },
         "marker": {
          "color": "silver",
          "line": {
           "color": "black",
           "width": 0
          },
          "opacity": 0.9,
          "size": 6
         },
         "mode": "lines+text",
         "name": "BEL",
         "showlegend": false,
         "subplot": "ternary",
         "text": [
          "",
          "",
          "",
          "",
          "",
          "",
          "",
          "",
          "",
          "",
          "",
          "",
          "",
          "",
          ""
         ],
         "textfont": {
          "color": "black",
          "size": 4.642819857677701
         },
         "type": "scatterternary"
        },
        {
         "a": [
          0.08488581892404393,
          0.09617164857804301,
          0.1323223862378448,
          0.11563316577440647,
          0.12565809577404097
         ],
         "b": [
          0.9055803731829265,
          0.8913029770188129,
          0.8468245548360462,
          0.8618194088813094,
          0.8439495916738577
         ],
         "c": [
          0.009533807893029558,
          0.012525374403144265,
          0.020853058926108965,
          0.02254742534428407,
          0.030392312552101293
         ],
         "line": {
          "color": "grey",
          "width": 0.25
         },
         "marker": {
          "color": "silver",
          "line": {
           "color": "black",
           "width": 0
          },
          "opacity": 0.9,
          "size": 6
         },
         "mode": "lines+text",
         "name": "BEL",
         "showlegend": false,
         "subplot": "ternary",
         "text": [
          "",
          "",
          "",
          "",
          "",
          "",
          "",
          "",
          "",
          "",
          "",
          "",
          "",
          "",
          ""
         ],
         "textfont": {
          "color": "black",
          "size": 4.642819857677701
         },
         "type": "scatterternary"
        },
        {
         "a": [
          0.10749959633052232,
          0.10407831587522867,
          0.13021161140494494,
          0.12423588938844787,
          0.14039238947031218,
          0.1977788210242553,
          0.2921616829014227,
          0.39351553956905894,
          0.492718167665748,
          0.5471228763958143,
          0.561311600095284,
          0.5469451942507263,
          0.5150293421070118,
          0.4768097504654527,
          0.43891684513673945
         ],
         "b": [
          0.8803172259587048,
          0.8819774289728322,
          0.8474486648757268,
          0.8427511770226498,
          0.8034776906178592,
          0.7071066689901573,
          0.5498697213894725,
          0.3780060257922017,
          0.25038589164651676,
          0.19511212651033816,
          0.20015002794712053,
          0.24115817769637993,
          0.2922561473698702,
          0.33117830144639304,
          0.3744709023032376
         ],
         "c": [
          0.012183177710772812,
          0.013944255151938851,
          0.02233972371932811,
          0.033012933588902366,
          0.05612991991182843,
          0.0951145099855876,
          0.1579685957091047,
          0.22847843463873935,
          0.25689594068773514,
          0.25776499709384765,
          0.23853837195759547,
          0.21189662805289378,
          0.192714510523118,
          0.19201194808815414,
          0.1866122525600229
         ],
         "line": {
          "color": "grey",
          "width": 0.25
         },
         "marker": {
          "color": "silver",
          "line": {
           "color": "black",
           "width": 0
          },
          "opacity": 0.9,
          "size": 6
         },
         "mode": "lines+text",
         "name": "BLZ",
         "showlegend": false,
         "subplot": "ternary",
         "text": [
          "",
          "",
          "",
          "",
          "",
          "",
          "",
          "",
          "",
          "",
          "",
          "",
          "",
          "",
          ""
         ],
         "textfont": {
          "color": "black",
          "size": 1.9419730526624397
         },
         "type": "scatterternary"
        },
        {
         "a": [
          0.10749959633052232,
          0.10407831587522867,
          0.13021161140494494,
          0.12423588938844787,
          0.14039238947031218
         ],
         "b": [
          0.8803172259587048,
          0.8819774289728322,
          0.8474486648757268,
          0.8427511770226498,
          0.8034776906178592
         ],
         "c": [
          0.012183177710772812,
          0.013944255151938851,
          0.02233972371932811,
          0.033012933588902366,
          0.05612991991182843
         ],
         "line": {
          "color": "grey",
          "width": 0.25
         },
         "marker": {
          "color": "silver",
          "line": {
           "color": "black",
           "width": 0
          },
          "opacity": 0.9,
          "size": 6
         },
         "mode": "lines+text",
         "name": "BLZ",
         "showlegend": false,
         "subplot": "ternary",
         "text": [
          "",
          "",
          "",
          "",
          "",
          "",
          "",
          "",
          "",
          "",
          "",
          "",
          "",
          "",
          ""
         ],
         "textfont": {
          "color": "black",
          "size": 1.9419730526624397
         },
         "type": "scatterternary"
        },
        {
         "a": [
          0.10469831906484206,
          0.21375957953730235,
          0.38528728310915156,
          0.42335190711022685,
          0.4476418935118772,
          0.493294051854472,
          0.5010983784700478,
          0.48260575553977336,
          0.45845446114093513,
          0.4503798827373069,
          0.4454189040907176,
          0.4590797379281799,
          0.48498248522574317,
          0.5140945435921593,
          0.5433082332112136
         ],
         "b": [
          0.8839038024952087,
          0.7605858831576463,
          0.561059560889188,
          0.5059125101430678,
          0.46223802584877793,
          0.3866432132848681,
          0.35046602952602424,
          0.35046033102052077,
          0.3591417293470916,
          0.35227283644143875,
          0.3411899590999576,
          0.3147857185298802,
          0.28026455243474196,
          0.2451797499754811,
          0.2132860532939212
         ],
         "c": [
          0.011397878439949391,
          0.025654537305051343,
          0.05365315600166052,
          0.07073558274670523,
          0.09012008063934504,
          0.12006273486065978,
          0.14843559200392803,
          0.16693391343970593,
          0.18240380951197338,
          0.19734728082125444,
          0.21339113680932476,
          0.22613454354193976,
          0.2347529623395149,
          0.24072570643235958,
          0.2434057134948654
         ],
         "line": {
          "color": "grey",
          "width": 0.25
         },
         "marker": {
          "color": "silver",
          "line": {
           "color": "black",
           "width": 0
          },
          "opacity": 0.9,
          "size": 6
         },
         "mode": "lines+text",
         "name": "BEN",
         "showlegend": false,
         "subplot": "ternary",
         "text": [
          "",
          "",
          "",
          "",
          "",
          "",
          "",
          "",
          "",
          "",
          "",
          "",
          "",
          "",
          ""
         ],
         "textfont": {
          "color": "black",
          "size": 4.756977190336332
         },
         "type": "scatterternary"
        },
        {
         "a": [
          0.10469831906484206,
          0.21375957953730235,
          0.38528728310915156,
          0.42335190711022685,
          0.4476418935118772
         ],
         "b": [
          0.8839038024952087,
          0.7605858831576463,
          0.561059560889188,
          0.5059125101430678,
          0.46223802584877793
         ],
         "c": [
          0.011397878439949391,
          0.025654537305051343,
          0.05365315600166052,
          0.07073558274670523,
          0.09012008063934504
         ],
         "line": {
          "color": "grey",
          "width": 0.25
         },
         "marker": {
          "color": "silver",
          "line": {
           "color": "black",
           "width": 0
          },
          "opacity": 0.9,
          "size": 6
         },
         "mode": "lines+text",
         "name": "BEN",
         "showlegend": false,
         "subplot": "ternary",
         "text": [
          "",
          "",
          "",
          "",
          "",
          "",
          "",
          "",
          "",
          "",
          "",
          "",
          "",
          "",
          ""
         ],
         "textfont": {
          "color": "black",
          "size": 4.756977190336332
         },
         "type": "scatterternary"
        },
        {
         "a": [
          0.03767709134362748,
          0.06995554628969217,
          0.12570004770449122,
          0.14848145478796537,
          0.20019601028055617,
          0.31419334068010524,
          0.47268532148695597,
          0.6055579699140119,
          0.6600175173726943,
          0.6640292717748708,
          0.6448479743616854,
          0.6212148154489677,
          0.5963530194519499,
          0.576315009239591,
          0.5722386706591411
         ],
         "b": [
          0.9581202096067545,
          0.9211625037472707,
          0.855289809598687,
          0.824141616185786,
          0.7543549527041075,
          0.6004741238021619,
          0.3770487838659483,
          0.1857484313466801,
          0.09561774072382469,
          0.08364251004494341,
          0.10908461915408378,
          0.14308905493493757,
          0.1763274270834914,
          0.1998340097842209,
          0.20735566461205124
         ],
         "c": [
          0.004202699049617992,
          0.008881949963037287,
          0.01901014269682168,
          0.027376929026248595,
          0.04544903701533645,
          0.08533253551773287,
          0.15026589464709583,
          0.2086935987393079,
          0.24436474190348118,
          0.2523282181801858,
          0.24606740648423092,
          0.2356961296160948,
          0.22731955346455868,
          0.2238509809761881,
          0.22040566472880754
         ],
         "line": {
          "color": "grey",
          "width": 0.25
         },
         "marker": {
          "color": "silver",
          "line": {
           "color": "black",
           "width": 0
          },
          "opacity": 0.9,
          "size": 6
         },
         "mode": "lines+text",
         "name": "BTN",
         "showlegend": false,
         "subplot": "ternary",
         "text": [
          "",
          "",
          "",
          "",
          "",
          "",
          "",
          "",
          "",
          "",
          "",
          "",
          "",
          "",
          ""
         ],
         "textfont": {
          "color": "black",
          "size": 2.233479306998123
         },
         "type": "scatterternary"
        },
        {
         "a": [
          0.03767709134362748,
          0.06995554628969217,
          0.12570004770449122,
          0.14848145478796537,
          0.20019601028055617
         ],
         "b": [
          0.9581202096067545,
          0.9211625037472707,
          0.855289809598687,
          0.824141616185786,
          0.7543549527041075
         ],
         "c": [
          0.004202699049617992,
          0.008881949963037287,
          0.01901014269682168,
          0.027376929026248595,
          0.04544903701533645
         ],
         "line": {
          "color": "grey",
          "width": 0.25
         },
         "marker": {
          "color": "silver",
          "line": {
           "color": "black",
           "width": 0
          },
          "opacity": 0.9,
          "size": 6
         },
         "mode": "lines+text",
         "name": "BTN",
         "showlegend": false,
         "subplot": "ternary",
         "text": [
          "",
          "",
          "",
          "",
          "",
          "",
          "",
          "",
          "",
          "",
          "",
          "",
          "",
          "",
          ""
         ],
         "textfont": {
          "color": "black",
          "size": 2.233479306998123
         },
         "type": "scatterternary"
        },
        {
         "a": [
          0.100835087493605,
          0.12316836133278482,
          0.1698121284781203,
          0.16846689138628576,
          0.1958308491630483,
          0.2760989763199207,
          0.3802196787267032,
          0.4687895914953807,
          0.5112829792037357,
          0.544984844407645,
          0.5771469111912679,
          0.5959304435059634,
          0.6122911499914547,
          0.623838630979549,
          0.6291306898935534
         ],
         "b": [
          0.8878981144333917,
          0.8609857674973012,
          0.8041358921276829,
          0.7992285346062692,
          0.7558351242231093,
          0.6398382795988535,
          0.4760813359103315,
          0.32504052570284286,
          0.23226233011455105,
          0.17078006184808656,
          0.12299859057876299,
          0.09840658894891832,
          0.08159544784250261,
          0.07098856751652907,
          0.0659999747304859
         ],
         "c": [
          0.011266798073003226,
          0.015845871169913935,
          0.026051979394196925,
          0.0323045740074451,
          0.04833402661384251,
          0.08406274408122574,
          0.14369898536296516,
          0.20616988280177634,
          0.25645469068171345,
          0.28423509374426825,
          0.29985449822996907,
          0.3056629675451184,
          0.30611340216604277,
          0.3051728015039219,
          0.3048693353759607
         ],
         "line": {
          "color": "grey",
          "width": 0.25
         },
         "marker": {
          "color": "silver",
          "line": {
           "color": "black",
           "width": 0
          },
          "opacity": 0.9,
          "size": 6
         },
         "mode": "lines+text",
         "name": "BOL",
         "showlegend": false,
         "subplot": "ternary",
         "text": [
          "",
          "",
          "",
          "",
          "",
          "",
          "",
          "",
          "",
          "",
          "",
          "",
          "",
          "",
          ""
         ],
         "textfont": {
          "color": "black",
          "size": 4.683024244039842
         },
         "type": "scatterternary"
        },
        {
         "a": [
          0.100835087493605,
          0.12316836133278482,
          0.1698121284781203,
          0.16846689138628576,
          0.1958308491630483
         ],
         "b": [
          0.8878981144333917,
          0.8609857674973012,
          0.8041358921276829,
          0.7992285346062692,
          0.7558351242231093
         ],
         "c": [
          0.011266798073003226,
          0.015845871169913935,
          0.026051979394196925,
          0.0323045740074451,
          0.04833402661384251
         ],
         "line": {
          "color": "grey",
          "width": 0.25
         },
         "marker": {
          "color": "silver",
          "line": {
           "color": "black",
           "width": 0
          },
          "opacity": 0.9,
          "size": 6
         },
         "mode": "lines+text",
         "name": "BOL",
         "showlegend": false,
         "subplot": "ternary",
         "text": [
          "",
          "",
          "",
          "",
          "",
          "",
          "",
          "",
          "",
          "",
          "",
          "",
          "",
          "",
          ""
         ],
         "textfont": {
          "color": "black",
          "size": 4.683024244039842
         },
         "type": "scatterternary"
        },
        {
         "a": [
          0.37770787509311765,
          0.4387769123727547,
          0.49777955787349715,
          0.479039914314104,
          0.5167561464482199,
          0.5868844141046509,
          0.6369797399125237,
          0.6597673066833655,
          0.6567146646262116,
          0.6476468031558781,
          0.6412281048766799,
          0.625968151211905,
          0.6110619586297272,
          0.5980263800690547,
          0.5894284639735694
         ],
         "b": [
          0.5799595735762371,
          0.5038674893244619,
          0.4250063414338209,
          0.43143296892051863,
          0.36754256745032965,
          0.2594652984906284,
          0.17063549926223875,
          0.12397034908130704,
          0.11183486999729293,
          0.11693641164479035,
          0.12079813186683731,
          0.1378748592106982,
          0.15464103110922234,
          0.1677883862537084,
          0.18002907802054668
         ],
         "c": [
          0.04233255133064526,
          0.057355598302783355,
          0.0772141006926822,
          0.08952711676537735,
          0.11570128610145046,
          0.15365028740472078,
          0.19238476082523764,
          0.2162623442353273,
          0.23145046537649533,
          0.23541678519933157,
          0.23797376325648292,
          0.2361569895773969,
          0.23429701026105043,
          0.23418523367723676,
          0.2305424580058839
         ],
         "line": {
          "color": "grey",
          "width": 0.25
         },
         "marker": {
          "color": "silver",
          "line": {
           "color": "black",
           "width": 0
          },
          "opacity": 0.9,
          "size": 6
         },
         "mode": "lines+text",
         "name": "BIH",
         "showlegend": false,
         "subplot": "ternary",
         "text": [
          "",
          "",
          "",
          "",
          "",
          "",
          "",
          "",
          "",
          "",
          "",
          "",
          "",
          "",
          ""
         ],
         "textfont": {
          "color": "black",
          "size": 3.2186339236598704
         },
         "type": "scatterternary"
        },
        {
         "a": [
          0.37770787509311765,
          0.4387769123727547,
          0.49777955787349715,
          0.479039914314104,
          0.5167561464482199
         ],
         "b": [
          0.5799595735762371,
          0.5038674893244619,
          0.4250063414338209,
          0.43143296892051863,
          0.36754256745032965
         ],
         "c": [
          0.04233255133064526,
          0.057355598302783355,
          0.0772141006926822,
          0.08952711676537735,
          0.11570128610145046
         ],
         "line": {
          "color": "grey",
          "width": 0.25
         },
         "marker": {
          "color": "silver",
          "line": {
           "color": "black",
           "width": 0
          },
          "opacity": 0.9,
          "size": 6
         },
         "mode": "lines+text",
         "name": "BIH",
         "showlegend": false,
         "subplot": "ternary",
         "text": [
          "",
          "",
          "",
          "",
          "",
          "",
          "",
          "",
          "",
          "",
          "",
          "",
          "",
          "",
          ""
         ],
         "textfont": {
          "color": "black",
          "size": 3.2186339236598704
         },
         "type": "scatterternary"
        },
        {
         "a": [
          0.28777753509653586,
          0.3173144762599315,
          0.4055506566232907,
          0.4285165516692653,
          0.47709538408942165,
          0.5343590674732597,
          0.5587634718434605,
          0.5534588553279998,
          0.5261660709572065,
          0.4953711586291716,
          0.4559013063123345,
          0.40953041633314413,
          0.3593172290282567,
          0.3232703825761034,
          0.3038922546218883
         ],
         "b": [
          0.6789589048561164,
          0.638528221801813,
          0.5289519717757201,
          0.4881497523351115,
          0.40611093113790697,
          0.3042136700184879,
          0.24275145997533232,
          0.23636978893821317,
          0.2665656092268164,
          0.3094541401868737,
          0.36249691872499984,
          0.41399509712010135,
          0.45728307446436506,
          0.48117739683067134,
          0.49795820272669
         ],
         "c": [
          0.033263560047347575,
          0.0441573019382556,
          0.06549737160098934,
          0.08333369599562303,
          0.11679368477267141,
          0.16142726250825246,
          0.19848506818120723,
          0.21017135573378715,
          0.20726831981597724,
          0.1951747011839547,
          0.18160177496266572,
          0.17647448654675457,
          0.18339969650737808,
          0.19555222059322516,
          0.19814954265142184
         ],
         "line": {
          "color": "grey",
          "width": 0.25
         },
         "marker": {
          "color": "silver",
          "line": {
           "color": "black",
           "width": 0
          },
          "opacity": 0.9,
          "size": 6
         },
         "mode": "lines+text",
         "name": "BWA",
         "showlegend": false,
         "subplot": "ternary",
         "text": [
          "",
          "",
          "",
          "",
          "",
          "",
          "",
          "",
          "",
          "",
          "",
          "",
          "",
          "",
          ""
         ],
         "textfont": {
          "color": "black",
          "size": 2.9830839029263903
         },
         "type": "scatterternary"
        },
        {
         "a": [
          0.28777753509653586,
          0.3173144762599315,
          0.4055506566232907,
          0.4285165516692653,
          0.47709538408942165
         ],
         "b": [
          0.6789589048561164,
          0.638528221801813,
          0.5289519717757201,
          0.4881497523351115,
          0.40611093113790697
         ],
         "c": [
          0.033263560047347575,
          0.0441573019382556,
          0.06549737160098934,
          0.08333369599562303,
          0.11679368477267141
         ],
         "line": {
          "color": "grey",
          "width": 0.25
         },
         "marker": {
          "color": "silver",
          "line": {
           "color": "black",
           "width": 0
          },
          "opacity": 0.9,
          "size": 6
         },
         "mode": "lines+text",
         "name": "BWA",
         "showlegend": false,
         "subplot": "ternary",
         "text": [
          "",
          "",
          "",
          "",
          "",
          "",
          "",
          "",
          "",
          "",
          "",
          "",
          "",
          "",
          ""
         ],
         "textfont": {
          "color": "black",
          "size": 2.9830839029263903
         },
         "type": "scatterternary"
        },
        {
         "a": [
          0.1398186241464581,
          0.1593244548006544,
          0.22236671643329592,
          0.2192469646160199,
          0.2515492474253902,
          0.35749110476783796,
          0.5016800467993735,
          0.6026803814694094,
          0.5970669147996814,
          0.5449851939587901,
          0.4923970242397094,
          0.44535407798124715,
          0.38830423847093043,
          0.3413000875754844,
          0.3169632912117243
         ],
         "b": [
          0.8445458443657315,
          0.8198688174532346,
          0.7425665822905443,
          0.7385220032592728,
          0.6904921383571311,
          0.5465212372016494,
          0.343830565425078,
          0.19713053924582136,
          0.18603150838689161,
          0.2386537487903377,
          0.2879288421021704,
          0.3280988035281533,
          0.3623626198318865,
          0.38599070865644003,
          0.3909900835212243
         ],
         "c": [
          0.01563553148781048,
          0.020806727746110837,
          0.0350667012761597,
          0.04223103212470742,
          0.05795861421747843,
          0.09598765803051258,
          0.1544893877755486,
          0.2001890792847692,
          0.216901576813427,
          0.21636105725087218,
          0.2196741336581202,
          0.22654711849059955,
          0.24933314169718312,
          0.27270920376807556,
          0.2920466252670514
         ],
         "line": {
          "color": "grey",
          "width": 0.25
         },
         "marker": {
          "color": "green",
          "line": {
           "color": "black",
           "width": 0
          },
          "opacity": 0.9,
          "size": 6
         },
         "mode": "lines+text",
         "name": "BRA",
         "showlegend": false,
         "subplot": "ternary",
         "text": [
          "",
          "",
          "",
          "",
          "",
          "",
          "",
          "",
          "",
          "",
          "",
          "",
          "",
          "",
          ""
         ],
         "textfont": {
          "color": "black",
          "size": 12.682422456701117
         },
         "type": "scatterternary"
        },
        {
         "a": [
          0.1398186241464581,
          0.1593244548006544,
          0.22236671643329592,
          0.2192469646160199,
          0.2515492474253902
         ],
         "b": [
          0.8445458443657315,
          0.8198688174532346,
          0.7425665822905443,
          0.7385220032592728,
          0.6904921383571311
         ],
         "c": [
          0.01563553148781048,
          0.020806727746110837,
          0.0350667012761597,
          0.04223103212470742,
          0.05795861421747843
         ],
         "line": {
          "color": "grey",
          "width": 0.25
         },
         "marker": {
          "color": "green",
          "line": {
           "color": "black",
           "width": 0
          },
          "opacity": 0.9,
          "size": 6
         },
         "mode": "lines+text",
         "name": "BRA",
         "showlegend": false,
         "subplot": "ternary",
         "text": [
          "",
          "",
          "",
          "",
          "",
          "",
          "",
          "",
          "",
          "",
          "",
          "",
          "",
          "",
          ""
         ],
         "textfont": {
          "color": "black",
          "size": 12.682422456701117
         },
         "type": "scatterternary"
        },
        {
         "a": [
          0.12001277528796164,
          0.15108406318460924,
          0.22335242343134357,
          0.20243729724254922,
          0.20514044671886827,
          0.2441211827870619,
          0.2545058406594385,
          0.23921507983926432,
          0.21226223752268872,
          0.20291393231244703,
          0.19323354077873084,
          0.1857621861860387,
          0.1867288168227976,
          0.18393501076249313,
          0.18463666353197583
         ],
         "b": [
          0.8657592907850009,
          0.8276943283458076,
          0.739451821976008,
          0.7556796581286839,
          0.743243689687952,
          0.6814904818358654,
          0.6549047502117539,
          0.6635378617897763,
          0.6803982998552619,
          0.6814304576516251,
          0.6773116374410416,
          0.666776910059494,
          0.652521639709696,
          0.6427362593404686,
          0.6342026446962332
         ],
         "c": [
          0.014227933927037244,
          0.021221608469583136,
          0.03719575459264842,
          0.0418830446287666,
          0.05161586359317977,
          0.07438833537707272,
          0.09058940912880774,
          0.09724705837095945,
          0.10733946262204934,
          0.11565561003592802,
          0.12945482178022766,
          0.14746090375446738,
          0.1607495434675064,
          0.17332872989703824,
          0.18116069177179095
         ],
         "line": {
          "color": "grey",
          "width": 0.25
         },
         "marker": {
          "color": "silver",
          "line": {
           "color": "black",
           "width": 0
          },
          "opacity": 0.9,
          "size": 6
         },
         "mode": "lines+text",
         "name": "BRN",
         "showlegend": false,
         "subplot": "ternary",
         "text": [
          "",
          "",
          "",
          "",
          "",
          "",
          "",
          "",
          "",
          "",
          "",
          "",
          "",
          "",
          ""
         ],
         "textfont": {
          "color": "black",
          "size": 1.985996719985936
         },
         "type": "scatterternary"
        },
        {
         "a": [
          0.12001277528796164,
          0.15108406318460924,
          0.22335242343134357,
          0.20243729724254922,
          0.20514044671886827
         ],
         "b": [
          0.8657592907850009,
          0.8276943283458076,
          0.739451821976008,
          0.7556796581286839,
          0.743243689687952
         ],
         "c": [
          0.014227933927037244,
          0.021221608469583136,
          0.03719575459264842,
          0.0418830446287666,
          0.05161586359317977
         ],
         "line": {
          "color": "grey",
          "width": 0.25
         },
         "marker": {
          "color": "silver",
          "line": {
           "color": "black",
           "width": 0
          },
          "opacity": 0.9,
          "size": 6
         },
         "mode": "lines+text",
         "name": "BRN",
         "showlegend": false,
         "subplot": "ternary",
         "text": [
          "",
          "",
          "",
          "",
          "",
          "",
          "",
          "",
          "",
          "",
          "",
          "",
          "",
          "",
          ""
         ],
         "textfont": {
          "color": "black",
          "size": 1.985996719985936
         },
         "type": "scatterternary"
        },
        {
         "a": [
          0.37006234740754834,
          0.4204381904683293,
          0.5171738651613085,
          0.48647795207687317,
          0.48627222662060854,
          0.5303537374374431,
          0.5581249888798845,
          0.5697663956794657,
          0.5648505285953156,
          0.5596919202789751,
          0.5577776964072558,
          0.5596388397823038,
          0.5616567319629066,
          0.5591120076635689,
          0.5614671936858956
         ],
         "b": [
          0.5885121203094663,
          0.5252180208894783,
          0.40332969906795463,
          0.4231912005575834,
          0.40455139481687735,
          0.32917654042748706,
          0.27086888382720375,
          0.23818655691748858,
          0.22841814226103985,
          0.2243826140886882,
          0.21914913515293252,
          0.21185005514059302,
          0.2064755540869176,
          0.20365893495851486,
          0.1979363968453316
         ],
         "c": [
          0.04142553228298526,
          0.054343788642192255,
          0.07949643577073698,
          0.09033084736554346,
          0.10917637856251397,
          0.14046972213506986,
          0.1710061272929118,
          0.19204704740304543,
          0.20673132914364462,
          0.21592546563233658,
          0.22307316843981173,
          0.22851110507710312,
          0.23186771395017583,
          0.23722905737791616,
          0.24059640946877275
         ],
         "line": {
          "color": "grey",
          "width": 0.25
         },
         "marker": {
          "color": "silver",
          "line": {
           "color": "black",
           "width": 0
          },
          "opacity": 0.9,
          "size": 6
         },
         "mode": "lines+text",
         "name": "BGR",
         "showlegend": false,
         "subplot": "ternary",
         "text": [
          "",
          "",
          "",
          "",
          "",
          "",
          "",
          "",
          "",
          "",
          "",
          "",
          "",
          "",
          ""
         ],
         "textfont": {
          "color": "black",
          "size": 3.985912067184488
         },
         "type": "scatterternary"
        },
        {
         "a": [
          0.37006234740754834,
          0.4204381904683293,
          0.5171738651613085,
          0.48647795207687317,
          0.48627222662060854
         ],
         "b": [
          0.5885121203094663,
          0.5252180208894783,
          0.40332969906795463,
          0.4231912005575834,
          0.40455139481687735
         ],
         "c": [
          0.04142553228298526,
          0.054343788642192255,
          0.07949643577073698,
          0.09033084736554346,
          0.10917637856251397
         ],
         "line": {
          "color": "grey",
          "width": 0.25
         },
         "marker": {
          "color": "silver",
          "line": {
           "color": "black",
           "width": 0
          },
          "opacity": 0.9,
          "size": 6
         },
         "mode": "lines+text",
         "name": "BGR",
         "showlegend": false,
         "subplot": "ternary",
         "text": [
          "",
          "",
          "",
          "",
          "",
          "",
          "",
          "",
          "",
          "",
          "",
          "",
          "",
          "",
          ""
         ],
         "textfont": {
          "color": "black",
          "size": 3.985912067184488
         },
         "type": "scatterternary"
        },
        {
         "a": [
          0.07133500841763282,
          0.16461180053427327,
          0.32232329310620134,
          0.36447017210904264,
          0.3949965191081178,
          0.4461359246521375,
          0.4482871054378067,
          0.4155713075145447,
          0.37511290495661354,
          0.35281069932967757,
          0.3295881704740828,
          0.3229371841245528,
          0.32313189734455816,
          0.3260834520741127,
          0.3331575365580713
         ],
         "b": [
          0.920864184959049,
          0.8156854574920095,
          0.6327177334224356,
          0.5746964749182304,
          0.5251536752703098,
          0.4433228040019227,
          0.4125801550154944,
          0.42580074231882703,
          0.4504090718844213,
          0.45630114002866673,
          0.4606964611905532,
          0.44809631602742495,
          0.432885959471547,
          0.4154106237844902,
          0.39849619220618576
         ],
         "c": [
          0.007800806623318466,
          0.019702741973717172,
          0.04495897347136297,
          0.0608333529727267,
          0.07984980562157246,
          0.11054127134593966,
          0.13913273954669889,
          0.15862795016662842,
          0.17447802315896507,
          0.19088816064165592,
          0.2097153683353641,
          0.22896649984802225,
          0.2439821431838948,
          0.2585059241413972,
          0.26834627123574295
         ],
         "line": {
          "color": "grey",
          "width": 0.25
         },
         "marker": {
          "color": "silver",
          "line": {
           "color": "black",
           "width": 0
          },
          "opacity": 0.9,
          "size": 6
         },
         "mode": "lines+text",
         "name": "BFA",
         "showlegend": false,
         "subplot": "ternary",
         "text": [
          "",
          "",
          "",
          "",
          "",
          "",
          "",
          "",
          "",
          "",
          "",
          "",
          "",
          "",
          ""
         ],
         "textfont": {
          "color": "black",
          "size": 5.648702106649011
         },
         "type": "scatterternary"
        },
        {
         "a": [
          0.07133500841763282,
          0.16461180053427327,
          0.32232329310620134,
          0.36447017210904264,
          0.3949965191081178
         ],
         "b": [
          0.920864184959049,
          0.8156854574920095,
          0.6327177334224356,
          0.5746964749182304,
          0.5251536752703098
         ],
         "c": [
          0.007800806623318466,
          0.019702741973717172,
          0.04495897347136297,
          0.0608333529727267,
          0.07984980562157246
         ],
         "line": {
          "color": "grey",
          "width": 0.25
         },
         "marker": {
          "color": "silver",
          "line": {
           "color": "black",
           "width": 0
          },
          "opacity": 0.9,
          "size": 6
         },
         "mode": "lines+text",
         "name": "BFA",
         "showlegend": false,
         "subplot": "ternary",
         "text": [
          "",
          "",
          "",
          "",
          "",
          "",
          "",
          "",
          "",
          "",
          "",
          "",
          "",
          "",
          ""
         ],
         "textfont": {
          "color": "black",
          "size": 5.648702106649011
         },
         "type": "scatterternary"
        },
        {
         "a": [
          0.02520403777692078,
          0.08694559593128678,
          0.20292041578374362,
          0.24629542724437004,
          0.2932139328701311,
          0.38568029784162605,
          0.45971385837365086,
          0.4688480494355137,
          0.42281965875928984,
          0.3755561864270953,
          0.3282126153325502,
          0.29938141366906046,
          0.2833659668368866,
          0.28013380860470666,
          0.28936153140540893
         ],
         "b": [
          0.9720634856536262,
          0.9028925654794335,
          0.769662734891044,
          0.7139607663351136,
          0.6495752025038186,
          0.5233315063493004,
          0.4080827723654838,
          0.36747432382570655,
          0.39144323259363595,
          0.42697252220236315,
          0.46418310793451134,
          0.4846696701816483,
          0.4921755868387515,
          0.48882646686904985,
          0.4756360482060024
         ],
         "c": [
          0.002732476569452988,
          0.010161838589279474,
          0.027416849325212458,
          0.039743806420516406,
          0.05721086462605022,
          0.09098819580907354,
          0.1322033692608654,
          0.16367762673877986,
          0.18573710864707413,
          0.1974712913705416,
          0.2076042767329385,
          0.2159489161492913,
          0.22445844632436196,
          0.23103972452624358,
          0.23500242038858868
         ],
         "line": {
          "color": "grey",
          "width": 0.25
         },
         "marker": {
          "color": "silver",
          "line": {
           "color": "black",
           "width": 0
          },
          "opacity": 0.9,
          "size": 6
         },
         "mode": "lines+text",
         "name": "BDI",
         "showlegend": false,
         "subplot": "ternary",
         "text": [
          "",
          "",
          "",
          "",
          "",
          "",
          "",
          "",
          "",
          "",
          "",
          "",
          "",
          "",
          ""
         ],
         "textfont": {
          "color": "black",
          "size": 4.706698109106254
         },
         "type": "scatterternary"
        },
        {
         "a": [
          0.02520403777692078,
          0.08694559593128678,
          0.20292041578374362,
          0.24629542724437004,
          0.2932139328701311
         ],
         "b": [
          0.9720634856536262,
          0.9028925654794335,
          0.769662734891044,
          0.7139607663351136,
          0.6495752025038186
         ],
         "c": [
          0.002732476569452988,
          0.010161838589279474,
          0.027416849325212458,
          0.039743806420516406,
          0.05721086462605022
         ],
         "line": {
          "color": "grey",
          "width": 0.25
         },
         "marker": {
          "color": "silver",
          "line": {
           "color": "black",
           "width": 0
          },
          "opacity": 0.9,
          "size": 6
         },
         "mode": "lines+text",
         "name": "BDI",
         "showlegend": false,
         "subplot": "ternary",
         "text": [
          "",
          "",
          "",
          "",
          "",
          "",
          "",
          "",
          "",
          "",
          "",
          "",
          "",
          "",
          ""
         ],
         "textfont": {
          "color": "black",
          "size": 4.706698109106254
         },
         "type": "scatterternary"
        },
        {
         "a": [
          0.4696087152952201,
          0.5774228275299031,
          0.6679510849211325,
          0.6342082422377766,
          0.6250443947120479,
          0.6508555923819469,
          0.6704623686834348,
          0.6878133520379792,
          0.6975790082049793,
          0.7091571116456558,
          0.7119647552797619,
          0.7115535578342473,
          0.7050244774658203,
          0.6920282915565535,
          0.6773655951952644
         ],
         "b": [
          0.47844381119193397,
          0.3502657932364767,
          0.23303532882287395,
          0.25082827270772123,
          0.23353626791907775,
          0.17155289074648025,
          0.11120087238647763,
          0.06774022436758152,
          0.039211703345631094,
          0.02302744699124548,
          0.020285817601904347,
          0.027973924446170615,
          0.04338717072257312,
          0.06229105463780559,
          0.07952678398936436
         ],
         "c": [
          0.051947473512846065,
          0.07231137923362023,
          0.0990135862559936,
          0.11496348505450207,
          0.14141933736887438,
          0.17759151687157299,
          0.21833675893008767,
          0.24444642359443935,
          0.26320928844938934,
          0.26781544136309876,
          0.2677494271183338,
          0.2604725177195821,
          0.25158835181160666,
          0.2456806538056408,
          0.24310762081537127
         ],
         "line": {
          "color": "grey",
          "width": 0.25
         },
         "marker": {
          "color": "silver",
          "line": {
           "color": "black",
           "width": 0
          },
          "opacity": 0.9,
          "size": 6
         },
         "mode": "lines+text",
         "name": "KHM",
         "showlegend": false,
         "subplot": "ternary",
         "text": [
          "",
          "",
          "",
          "",
          "",
          "",
          "",
          "",
          "",
          "",
          "",
          "",
          "",
          "",
          ""
         ],
         "textfont": {
          "color": "black",
          "size": 5.1818800479106875
         },
         "type": "scatterternary"
        },
        {
         "a": [
          0.4696087152952201,
          0.5774228275299031,
          0.6679510849211325,
          0.6342082422377766,
          0.6250443947120479
         ],
         "b": [
          0.47844381119193397,
          0.3502657932364767,
          0.23303532882287395,
          0.25082827270772123,
          0.23353626791907775
         ],
         "c": [
          0.051947473512846065,
          0.07231137923362023,
          0.0990135862559936,
          0.11496348505450207,
          0.14141933736887438
         ],
         "line": {
          "color": "grey",
          "width": 0.25
         },
         "marker": {
          "color": "silver",
          "line": {
           "color": "black",
           "width": 0
          },
          "opacity": 0.9,
          "size": 6
         },
         "mode": "lines+text",
         "name": "KHM",
         "showlegend": false,
         "subplot": "ternary",
         "text": [
          "",
          "",
          "",
          "",
          "",
          "",
          "",
          "",
          "",
          "",
          "",
          "",
          "",
          "",
          ""
         ],
         "textfont": {
          "color": "black",
          "size": 5.1818800479106875
         },
         "type": "scatterternary"
        },
        {
         "a": [
          0.15640058690876738,
          0.2847057038156681,
          0.4648073123570824,
          0.47976105330063595,
          0.47396132785530354,
          0.4833804103223265,
          0.46777622683099174,
          0.4446704179116212,
          0.42547187871720277,
          0.4221559497658317,
          0.42252941180882403,
          0.44107851575841817,
          0.47080946770104504,
          0.504463324342673,
          0.5404442904017487
         ],
         "b": [
          0.8256913293868866,
          0.6790193975066844,
          0.46696341776014855,
          0.43941388583893193,
          0.4306930967388411,
          0.4006681740234862,
          0.3985882295024865,
          0.4111749172170393,
          0.4179306987778775,
          0.40468452176360503,
          0.3822195944910593,
          0.34406319029052135,
          0.2971636333498852,
          0.2516465092915705,
          0.2048831767642857
         ],
         "c": [
          0.017908083704346177,
          0.03627489867764752,
          0.06822926988276903,
          0.08082506086043227,
          0.09534557540585532,
          0.11595141565418746,
          0.13363554366652164,
          0.14415466487133963,
          0.15659742250491968,
          0.17315952847056323,
          0.1952509937001166,
          0.21485829395106054,
          0.23202689894906986,
          0.24389016636575617,
          0.2546725328339656
         ],
         "line": {
          "color": "grey",
          "width": 0.25
         },
         "marker": {
          "color": "silver",
          "line": {
           "color": "black",
           "width": 0
          },
          "opacity": 0.9,
          "size": 6
         },
         "mode": "lines+text",
         "name": "CMR",
         "showlegend": false,
         "subplot": "ternary",
         "text": [
          "",
          "",
          "",
          "",
          "",
          "",
          "",
          "",
          "",
          "",
          "",
          "",
          "",
          "",
          ""
         ],
         "textfont": {
          "color": "black",
          "size": 6.051721044760024
         },
         "type": "scatterternary"
        },
        {
         "a": [
          0.15640058690876738,
          0.2847057038156681,
          0.4648073123570824,
          0.47976105330063595,
          0.47396132785530354
         ],
         "b": [
          0.8256913293868866,
          0.6790193975066844,
          0.46696341776014855,
          0.43941388583893193,
          0.4306930967388411
         ],
         "c": [
          0.017908083704346177,
          0.03627489867764752,
          0.06822926988276903,
          0.08082506086043227,
          0.09534557540585532
         ],
         "line": {
          "color": "grey",
          "width": 0.25
         },
         "marker": {
          "color": "silver",
          "line": {
           "color": "black",
           "width": 0
          },
          "opacity": 0.9,
          "size": 6
         },
         "mode": "lines+text",
         "name": "CMR",
         "showlegend": false,
         "subplot": "ternary",
         "text": [
          "",
          "",
          "",
          "",
          "",
          "",
          "",
          "",
          "",
          "",
          "",
          "",
          "",
          "",
          ""
         ],
         "textfont": {
          "color": "black",
          "size": 6.051721044760024
         },
         "type": "scatterternary"
        },
        {
         "a": [
          0.05371613345609397,
          0.056742288195477913,
          0.07343641294448768,
          0.05626502881957833,
          0.05809605996529329,
          0.08907723096065165,
          0.15112091267758268,
          0.22106906310034669,
          0.2289248340669124,
          0.21524785588557394,
          0.19701586712914704,
          0.19195288566893304,
          0.19679032226448243,
          0.2001100663190048,
          0.2154585800537749
         ],
         "b": [
          0.9401791506626395,
          0.9356431664353381,
          0.9138315650870033,
          0.9302538595998633,
          0.9230590910065687,
          0.8764313235046838,
          0.7813791695407082,
          0.6620763108141787,
          0.6156785053174895,
          0.6103839472838712,
          0.6182440957925015,
          0.6245687469579497,
          0.6263288102853879,
          0.6145751922627186,
          0.5894071874473014
         ],
         "c": [
          0.006104715881266711,
          0.0076145453691841185,
          0.01273202196850909,
          0.013481111580558381,
          0.01884484902813796,
          0.03449144553466454,
          0.06749991778170908,
          0.11685462608547456,
          0.15539666061559815,
          0.174368196830555,
          0.1847400370783515,
          0.18347836737311718,
          0.17688086745012965,
          0.18531474141827653,
          0.19513423249892378
         ],
         "line": {
          "color": "grey",
          "width": 0.25
         },
         "marker": {
          "color": "silver",
          "line": {
           "color": "black",
           "width": 0
          },
          "opacity": 0.9,
          "size": 6
         },
         "mode": "lines+text",
         "name": "CAN",
         "showlegend": false,
         "subplot": "ternary",
         "text": [
          "",
          "",
          "",
          "",
          "",
          "",
          "",
          "",
          "",
          "",
          "",
          "",
          "",
          "",
          ""
         ],
         "textfont": {
          "color": "black",
          "size": 6.8524934121553
         },
         "type": "scatterternary"
        },
        {
         "a": [
          0.05371613345609397,
          0.056742288195477913,
          0.07343641294448768,
          0.05626502881957833,
          0.05809605996529329
         ],
         "b": [
          0.9401791506626395,
          0.9356431664353381,
          0.9138315650870033,
          0.9302538595998633,
          0.9230590910065687
         ],
         "c": [
          0.006104715881266711,
          0.0076145453691841185,
          0.01273202196850909,
          0.013481111580558381,
          0.01884484902813796
         ],
         "line": {
          "color": "grey",
          "width": 0.25
         },
         "marker": {
          "color": "silver",
          "line": {
           "color": "black",
           "width": 0
          },
          "opacity": 0.9,
          "size": 6
         },
         "mode": "lines+text",
         "name": "CAN",
         "showlegend": false,
         "subplot": "ternary",
         "text": [
          "",
          "",
          "",
          "",
          "",
          "",
          "",
          "",
          "",
          "",
          "",
          "",
          "",
          "",
          ""
         ],
         "textfont": {
          "color": "black",
          "size": 6.8524934121553
         },
         "type": "scatterternary"
        },
        {
         "a": [
          0.016987530281251193,
          0.049430989837668166,
          0.11043816468860174,
          0.12970160686173396,
          0.16407058999835822,
          0.25822931223387613,
          0.41391725552346226,
          0.567494936191023,
          0.6297851645432575,
          0.6430400676304622,
          0.6390510091733888,
          0.6452076131487134,
          0.656760970698742,
          0.6629176403133605,
          0.6616640223731282
         ],
         "b": [
          0.9811666002497612,
          0.9447379495344254,
          0.8744606563369822,
          0.8490395199962282,
          0.8036522079493581,
          0.6817390824106633,
          0.47238263055695284,
          0.2584870767907524,
          0.15941761413813024,
          0.13433892714661524,
          0.1354121926063447,
          0.12912164919296626,
          0.11686821407874073,
          0.10803598321272326,
          0.10658029180838555
         ],
         "c": [
          0.0018458694689875434,
          0.005831060627906613,
          0.0151011789744162,
          0.02125887314203788,
          0.03227720205228365,
          0.06003160535546058,
          0.11370011391958491,
          0.17401798701822468,
          0.21079722131861195,
          0.22262100522292266,
          0.2255367982202665,
          0.22567073765832027,
          0.2263708152225174,
          0.22904637647391604,
          0.2317556858184863
         ],
         "line": {
          "color": "grey",
          "width": 0.25
         },
         "marker": {
          "color": "silver",
          "line": {
           "color": "black",
           "width": 0
          },
          "opacity": 0.9,
          "size": 6
         },
         "mode": "lines+text",
         "name": "CPV",
         "showlegend": false,
         "subplot": "ternary",
         "text": [
          "",
          "",
          "",
          "",
          "",
          "",
          "",
          "",
          "",
          "",
          "",
          "",
          "",
          "",
          ""
         ],
         "textfont": {
          "color": "black",
          "size": 2.1012506697175253
         },
         "type": "scatterternary"
        },
        {
         "a": [
          0.016987530281251193,
          0.049430989837668166,
          0.11043816468860174,
          0.12970160686173396,
          0.16407058999835822
         ],
         "b": [
          0.9811666002497612,
          0.9447379495344254,
          0.8744606563369822,
          0.8490395199962282,
          0.8036522079493581
         ],
         "c": [
          0.0018458694689875434,
          0.005831060627906613,
          0.0151011789744162,
          0.02125887314203788,
          0.03227720205228365
         ],
         "line": {
          "color": "grey",
          "width": 0.25
         },
         "marker": {
          "color": "silver",
          "line": {
           "color": "black",
           "width": 0
          },
          "opacity": 0.9,
          "size": 6
         },
         "mode": "lines+text",
         "name": "CPV",
         "showlegend": false,
         "subplot": "ternary",
         "text": [
          "",
          "",
          "",
          "",
          "",
          "",
          "",
          "",
          "",
          "",
          "",
          "",
          "",
          "",
          ""
         ],
         "textfont": {
          "color": "black",
          "size": 2.1012506697175253
         },
         "type": "scatterternary"
        },
        {
         "a": [
          0.4986310713150525,
          0.4552090375959615,
          0.3767417285986239,
          0.2742695551393983,
          0.20924477963236252,
          0.15559044536177558,
          0.11410535519135756,
          0.09080621392378194,
          0.07644998095271754,
          0.07039499348264938,
          0.0644562949820019,
          0.06245078800258437,
          0.06202762650659453,
          0.0627501751443368,
          0.06584917452663819
         ],
         "b": [
          0.4461750601444106,
          0.48900761493534994,
          0.5688026648440949,
          0.6772072483902956,
          0.7440412488325098,
          0.7916267593751012,
          0.8216483148464254,
          0.8218994703988174,
          0.8080862564322446,
          0.7814993779981284,
          0.7475842171718007,
          0.7093606971481349,
          0.6782506975142029,
          0.6478293258422009,
          0.618524236009714
         ],
         "c": [
          0.05519386854053666,
          0.05578334746868859,
          0.05445560655728096,
          0.04852319647030633,
          0.04671397153512777,
          0.0527827952631235,
          0.06424632996221699,
          0.08729431567740079,
          0.11546376261503782,
          0.14810562851922202,
          0.18795948784619734,
          0.22818851484928077,
          0.25972167597920254,
          0.28942049901346234,
          0.3156265894636479
         ],
         "line": {
          "color": "grey",
          "width": 0.25
         },
         "marker": {
          "color": "silver",
          "line": {
           "color": "black",
           "width": 0
          },
          "opacity": 0.9,
          "size": 6
         },
         "mode": "lines+text",
         "name": "CAF",
         "showlegend": false,
         "subplot": "ternary",
         "text": [
          "",
          "",
          "",
          "",
          "",
          "",
          "",
          "",
          "",
          "",
          "",
          "",
          "",
          "",
          ""
         ],
         "textfont": {
          "color": "black",
          "size": 3.66273045968828
         },
         "type": "scatterternary"
        },
        {
         "a": [
          0.4986310713150525,
          0.4552090375959615,
          0.3767417285986239,
          0.2742695551393983,
          0.20924477963236252
         ],
         "b": [
          0.4461750601444106,
          0.48900761493534994,
          0.5688026648440949,
          0.6772072483902956,
          0.7440412488325098
         ],
         "c": [
          0.05519386854053666,
          0.05578334746868859,
          0.05445560655728096,
          0.04852319647030633,
          0.04671397153512777
         ],
         "line": {
          "color": "grey",
          "width": 0.25
         },
         "marker": {
          "color": "silver",
          "line": {
           "color": "black",
           "width": 0
          },
          "opacity": 0.9,
          "size": 6
         },
         "mode": "lines+text",
         "name": "CAF",
         "showlegend": false,
         "subplot": "ternary",
         "text": [
          "",
          "",
          "",
          "",
          "",
          "",
          "",
          "",
          "",
          "",
          "",
          "",
          "",
          "",
          ""
         ],
         "textfont": {
          "color": "black",
          "size": 3.66273045968828
         },
         "type": "scatterternary"
        },
        {
         "a": [
          0.5232872388176086,
          0.40829400618499,
          0.2972780156983487,
          0.20164621094253396,
          0.15356513903666022,
          0.11782070567056624,
          0.09147940078482399,
          0.07667736687650385,
          0.06764187955235267,
          0.0643381191469185,
          0.06071321001490139,
          0.0592122111028853,
          0.05917168141699405,
          0.05926108004646277,
          0.06027956266703122
         ],
         "b": [
          0.4182212589138799,
          0.5401552323581527,
          0.6572630738438324,
          0.7599946644333349,
          0.8072481954095907,
          0.8330786993839846,
          0.8442271263436439,
          0.8334599909207078,
          0.8121873763796864,
          0.78083375592687,
          0.7430720654415385,
          0.703723182733082,
          0.6717761903610618,
          0.6416071635085071,
          0.6133899097618497
         ],
         "c": [
          0.05849150226851152,
          0.051550761456857296,
          0.045458910457819045,
          0.03835912462413112,
          0.0391866655537492,
          0.0491005949454492,
          0.06429347287153216,
          0.08986264220278828,
          0.12017074406796086,
          0.15482812492621167,
          0.1962147245435602,
          0.23706460616403274,
          0.2690521282219442,
          0.2991317564450301,
          0.3263305275711189
         ],
         "line": {
          "color": "grey",
          "width": 0.25
         },
         "marker": {
          "color": "silver",
          "line": {
           "color": "black",
           "width": 0
          },
          "opacity": 0.9,
          "size": 6
         },
         "mode": "lines+text",
         "name": "TCD",
         "showlegend": false,
         "subplot": "ternary",
         "text": [
          "",
          "",
          "",
          "",
          "",
          "",
          "",
          "",
          "",
          "",
          "",
          "",
          "",
          "",
          ""
         ],
         "textfont": {
          "color": "black",
          "size": 5.190378214133858
         },
         "type": "scatterternary"
        },
        {
         "a": [
          0.5232872388176086,
          0.40829400618499,
          0.2972780156983487,
          0.20164621094253396,
          0.15356513903666022
         ],
         "b": [
          0.4182212589138799,
          0.5401552323581527,
          0.6572630738438324,
          0.7599946644333349,
          0.8072481954095907
         ],
         "c": [
          0.05849150226851152,
          0.051550761456857296,
          0.045458910457819045,
          0.03835912462413112,
          0.0391866655537492
         ],
         "line": {
          "color": "grey",
          "width": 0.25
         },
         "marker": {
          "color": "silver",
          "line": {
           "color": "black",
           "width": 0
          },
          "opacity": 0.9,
          "size": 6
         },
         "mode": "lines+text",
         "name": "TCD",
         "showlegend": false,
         "subplot": "ternary",
         "text": [
          "",
          "",
          "",
          "",
          "",
          "",
          "",
          "",
          "",
          "",
          "",
          "",
          "",
          "",
          ""
         ],
         "textfont": {
          "color": "black",
          "size": 5.190378214133858
         },
         "type": "scatterternary"
        },
        {
         "a": [
          0.8441699602134111,
          0.8517706778364116,
          0.8391808611715162,
          0.8054983521261941,
          0.7601523335970759,
          0.7094927782731657,
          0.635737335669262,
          0.5594198356225447,
          0.47851799171792275,
          0.4245300420593341,
          0.38478394460416065,
          0.3535309995577718,
          0.3171586718989793,
          0.2917575802206015,
          0.28387792212021634
         ],
         "b": [
          0.06084611805513458,
          0.038311126171371494,
          0.03143892330384722,
          0.04573681783649332,
          0.07072733434143134,
          0.10412902537374097,
          0.16241530371616608,
          0.2236191716132213,
          0.2825237850947857,
          0.32925237384257855,
          0.3631860679341214,
          0.39049501564479006,
          0.413901497684525,
          0.4205769349657484,
          0.4136235664946884
         ],
         "c": [
          0.0949839217314545,
          0.10991819599221699,
          0.1293802155246364,
          0.14876483003731233,
          0.16912033206149285,
          0.18637819635309344,
          0.20184736061457192,
          0.21696099276423397,
          0.2389582231872916,
          0.24621758409808725,
          0.252029987461718,
          0.25597398479743816,
          0.26893983041649566,
          0.2876654848136501,
          0.3024985113850951
         ],
         "line": {
          "color": "grey",
          "width": 0.25
         },
         "marker": {
          "color": "silver",
          "line": {
           "color": "black",
           "width": 0
          },
          "opacity": 0.9,
          "size": 6
         },
         "mode": "lines+text",
         "name": "CHL",
         "showlegend": false,
         "subplot": "ternary",
         "text": [
          "",
          "",
          "",
          "",
          "",
          "",
          "",
          "",
          "",
          "",
          "",
          "",
          "",
          "",
          ""
         ],
         "textfont": {
          "color": "black",
          "size": 5.465985242903894
         },
         "type": "scatterternary"
        },
        {
         "a": [
          0.8441699602134111,
          0.8517706778364116,
          0.8391808611715162,
          0.8054983521261941,
          0.7601523335970759
         ],
         "b": [
          0.06084611805513458,
          0.038311126171371494,
          0.03143892330384722,
          0.04573681783649332,
          0.07072733434143134
         ],
         "c": [
          0.0949839217314545,
          0.10991819599221699,
          0.1293802155246364,
          0.14876483003731233,
          0.16912033206149285
         ],
         "line": {
          "color": "grey",
          "width": 0.25
         },
         "marker": {
          "color": "silver",
          "line": {
           "color": "black",
           "width": 0
          },
          "opacity": 0.9,
          "size": 6
         },
         "mode": "lines+text",
         "name": "CHL",
         "showlegend": false,
         "subplot": "ternary",
         "text": [
          "",
          "",
          "",
          "",
          "",
          "",
          "",
          "",
          "",
          "",
          "",
          "",
          "",
          "",
          ""
         ],
         "textfont": {
          "color": "black",
          "size": 5.465985242903894
         },
         "type": "scatterternary"
        },
        {
         "a": [
          0.47482886864976803,
          0.5135226272455429,
          0.5642369263785478,
          0.5403981252165315,
          0.5428389164393115,
          0.5720875984185636,
          0.582001210593768,
          0.5769136937435876,
          0.5533979994813297,
          0.5282408772585915,
          0.5030567143041859,
          0.47811419584435255,
          0.4636601531689475,
          0.45941466312138374,
          0.45774142466421985
         ],
         "b": [
          0.4715712727386824,
          0.41900429812032336,
          0.3473740298277107,
          0.3576626220123851,
          0.33452974276066727,
          0.2754753850917989,
          0.23446698450666018,
          0.2194575394688143,
          0.2230719133465692,
          0.2301880958765637,
          0.23345207133059898,
          0.2386360861742207,
          0.2426094417366777,
          0.24331458825662614,
          0.24030819894418984
         ],
         "c": [
          0.05359985861154964,
          0.067473074634134,
          0.08838904379374155,
          0.10193925277108327,
          0.12263134080002125,
          0.1524370164896374,
          0.18353180489957188,
          0.203628766787598,
          0.22353008717210093,
          0.24157102686484466,
          0.26349121436521517,
          0.28324971798142673,
          0.29373040509437476,
          0.2972707486219901,
          0.3019503763915904
         ],
         "line": {
          "color": "grey",
          "width": 0.25
         },
         "marker": {
          "color": "red",
          "line": {
           "color": "black",
           "width": 0
          },
          "opacity": 0.9,
          "size": 6
         },
         "mode": "lines+text",
         "name": "CHN",
         "showlegend": false,
         "subplot": "ternary",
         "text": [
          "",
          "",
          "",
          "",
          "",
          "",
          "",
          "",
          "",
          "",
          "",
          "",
          "",
          "",
          ""
         ],
         "textfont": {
          "color": "black",
          "size": 26
         },
         "type": "scatterternary"
        },
        {
         "a": [
          0.47482886864976803,
          0.5135226272455429,
          0.5642369263785478,
          0.5403981252165315,
          0.5428389164393115
         ],
         "b": [
          0.4715712727386824,
          0.41900429812032336,
          0.3473740298277107,
          0.3576626220123851,
          0.33452974276066727
         ],
         "c": [
          0.05359985861154964,
          0.067473074634134,
          0.08838904379374155,
          0.10193925277108327,
          0.12263134080002125
         ],
         "line": {
          "color": "grey",
          "width": 0.25
         },
         "marker": {
          "color": "red",
          "line": {
           "color": "black",
           "width": 0
          },
          "opacity": 0.9,
          "size": 6
         },
         "mode": "lines+text",
         "name": "CHN",
         "showlegend": false,
         "subplot": "ternary",
         "text": [
          "",
          "",
          "",
          "",
          "",
          "",
          "",
          "",
          "",
          "",
          "",
          "",
          "",
          "",
          ""
         ],
         "textfont": {
          "color": "black",
          "size": 26
         },
         "type": "scatterternary"
        },
        {
         "a": [
          0.26120666198489617,
          0.3526798123782128,
          0.47688945697647556,
          0.5097891607849887,
          0.5664119621633436,
          0.6456426985173381,
          0.6901372248315435,
          0.6876580081848289,
          0.6450548576229945,
          0.6045864787781043,
          0.5705712605463492,
          0.5405291690047289,
          0.5086245685963655,
          0.4863427761941008,
          0.48422168097583307
         ],
         "b": [
          0.7098543614348349,
          0.6028991256974809,
          0.45185370054063567,
          0.398050763258071,
          0.30961720616111904,
          0.18927419162255257,
          0.1051987817303792,
          0.08507652673389254,
          0.11041800869159474,
          0.14694411413259492,
          0.18059523944501082,
          0.2113578074318301,
          0.23868777272404793,
          0.25045310430595413,
          0.24469716429592847
         ],
         "c": [
          0.028938976580268932,
          0.04442106192430642,
          0.07125684248288894,
          0.09216007595694022,
          0.12397083167553741,
          0.16508310986010932,
          0.20466399343807723,
          0.22726546508127868,
          0.24452713368541068,
          0.24846940708930082,
          0.24883350000863966,
          0.248113023563441,
          0.25268765867958654,
          0.26320411949994504,
          0.2710811547282385
         ],
         "line": {
          "color": "grey",
          "width": 0.25
         },
         "marker": {
          "color": "silver",
          "line": {
           "color": "black",
           "width": 0
          },
          "opacity": 0.9,
          "size": 6
         },
         "mode": "lines+text",
         "name": "COL",
         "showlegend": false,
         "subplot": "ternary",
         "text": [
          "",
          "",
          "",
          "",
          "",
          "",
          "",
          "",
          "",
          "",
          "",
          "",
          "",
          "",
          ""
         ],
         "textfont": {
          "color": "black",
          "size": 7.580439562161041
         },
         "type": "scatterternary"
        },
        {
         "a": [
          0.26120666198489617,
          0.3526798123782128,
          0.47688945697647556,
          0.5097891607849887,
          0.5664119621633436
         ],
         "b": [
          0.7098543614348349,
          0.6028991256974809,
          0.45185370054063567,
          0.398050763258071,
          0.30961720616111904
         ],
         "c": [
          0.028938976580268932,
          0.04442106192430642,
          0.07125684248288894,
          0.09216007595694022,
          0.12397083167553741
         ],
         "line": {
          "color": "grey",
          "width": 0.25
         },
         "marker": {
          "color": "silver",
          "line": {
           "color": "black",
           "width": 0
          },
          "opacity": 0.9,
          "size": 6
         },
         "mode": "lines+text",
         "name": "COL",
         "showlegend": false,
         "subplot": "ternary",
         "text": [
          "",
          "",
          "",
          "",
          "",
          "",
          "",
          "",
          "",
          "",
          "",
          "",
          "",
          "",
          ""
         ],
         "textfont": {
          "color": "black",
          "size": 7.580439562161041
         },
         "type": "scatterternary"
        },
        {
         "a": [
          0.025979191438676674,
          0.07925555438715896,
          0.18323918910447284,
          0.21493262965206797,
          0.25988426023276523,
          0.36286547712026396,
          0.47217199718187575,
          0.5300026525633241,
          0.528408677905933,
          0.5229413292276412,
          0.5195268812265527,
          0.5330905058774729,
          0.5588316531647207,
          0.5849199420745401,
          0.6046776729961214
         ],
         "b": [
          0.9711892970895875,
          0.9113645575305092,
          0.7916970480065603,
          0.7494547417879904,
          0.6870939508362808,
          0.5457244804683951,
          0.38110388853459964,
          0.2747746668081761,
          0.24450097461249917,
          0.23521553923977473,
          0.23042068382090594,
          0.2132394954314722,
          0.18770640633089794,
          0.163435780510052,
          0.14748056173969357
         ],
         "c": [
          0.0028315114717359985,
          0.009379888082331866,
          0.025063762888966584,
          0.035612628559941545,
          0.053021788930954064,
          0.09141004241134103,
          0.1467241142835247,
          0.19522268062849987,
          0.22709034748156784,
          0.24184313153258374,
          0.25005243495254137,
          0.253669998691055,
          0.25346194050438126,
          0.25164427741540807,
          0.24784176526418505
         ],
         "line": {
          "color": "grey",
          "width": 0.25
         },
         "marker": {
          "color": "silver",
          "line": {
           "color": "black",
           "width": 0
          },
          "opacity": 0.9,
          "size": 6
         },
         "mode": "lines+text",
         "name": "COM",
         "showlegend": false,
         "subplot": "ternary",
         "text": [
          "",
          "",
          "",
          "",
          "",
          "",
          "",
          "",
          "",
          "",
          "",
          "",
          "",
          "",
          ""
         ],
         "textfont": {
          "color": "black",
          "size": 2.251435820721197
         },
         "type": "scatterternary"
        },
        {
         "a": [
          0.025979191438676674,
          0.07925555438715896,
          0.18323918910447284,
          0.21493262965206797,
          0.25988426023276523
         ],
         "b": [
          0.9711892970895875,
          0.9113645575305092,
          0.7916970480065603,
          0.7494547417879904,
          0.6870939508362808
         ],
         "c": [
          0.0028315114717359985,
          0.009379888082331866,
          0.025063762888966584,
          0.035612628559941545,
          0.053021788930954064
         ],
         "line": {
          "color": "grey",
          "width": 0.25
         },
         "marker": {
          "color": "silver",
          "line": {
           "color": "black",
           "width": 0
          },
          "opacity": 0.9,
          "size": 6
         },
         "mode": "lines+text",
         "name": "COM",
         "showlegend": false,
         "subplot": "ternary",
         "text": [
          "",
          "",
          "",
          "",
          "",
          "",
          "",
          "",
          "",
          "",
          "",
          "",
          "",
          "",
          ""
         ],
         "textfont": {
          "color": "black",
          "size": 2.251435820721197
         },
         "type": "scatterternary"
        },
        {
         "a": [
          0,
          0,
          0,
          0,
          0,
          0,
          0,
          0,
          0,
          0,
          0,
          0,
          0,
          0,
          0
         ],
         "b": [
          0,
          0,
          0,
          0,
          0,
          0,
          0,
          0,
          0,
          0,
          0,
          0,
          0,
          0,
          0
         ],
         "c": [
          0,
          0,
          0,
          0,
          0,
          0,
          0,
          0,
          0,
          0,
          0,
          0,
          0,
          0,
          0
         ],
         "line": {
          "color": "grey",
          "width": 0.25
         },
         "marker": {
          "color": "silver",
          "line": {
           "color": "black",
           "width": 0
          },
          "opacity": 0.9,
          "size": 6
         },
         "mode": "lines+text",
         "name": "COG",
         "showlegend": false,
         "subplot": "ternary",
         "text": [
          "",
          "",
          "",
          "",
          "",
          "",
          "",
          "",
          "",
          "",
          "",
          "",
          "",
          "",
          ""
         ],
         "textfont": {
          "color": "black",
          "size": 3.73465598970185
         },
         "type": "scatterternary"
        },
        {
         "a": [
          0,
          0,
          0,
          0,
          0
         ],
         "b": [
          0,
          0,
          0,
          0,
          0
         ],
         "c": [
          0,
          0,
          0,
          0,
          0
         ],
         "line": {
          "color": "grey",
          "width": 0.25
         },
         "marker": {
          "color": "silver",
          "line": {
           "color": "black",
           "width": 0
          },
          "opacity": 0.9,
          "size": 6
         },
         "mode": "lines+text",
         "name": "COG",
         "showlegend": false,
         "subplot": "ternary",
         "text": [
          "",
          "",
          "",
          "",
          "",
          "",
          "",
          "",
          "",
          "",
          "",
          "",
          "",
          "",
          ""
         ],
         "textfont": {
          "color": "black",
          "size": 3.73465598970185
         },
         "type": "scatterternary"
        },
        {
         "a": [
          0,
          0,
          0,
          0,
          0,
          0,
          0,
          0,
          0,
          0,
          0,
          0,
          0,
          0,
          0
         ],
         "b": [
          0,
          0,
          0,
          0,
          0,
          0,
          0,
          0,
          0,
          0,
          0,
          0,
          0,
          0,
          0
         ],
         "c": [
          0,
          0,
          0,
          0,
          0,
          0,
          0,
          0,
          0,
          0,
          0,
          0,
          0,
          0,
          0
         ],
         "line": {
          "color": "grey",
          "width": 0.25
         },
         "marker": {
          "color": "silver",
          "line": {
           "color": "black",
           "width": 0
          },
          "opacity": 0.9,
          "size": 6
         },
         "mode": "lines+text",
         "name": "COK",
         "showlegend": false,
         "subplot": "ternary",
         "text": [
          "",
          "",
          "",
          "",
          "",
          "",
          "",
          "",
          "",
          "",
          "",
          "",
          "",
          "",
          ""
         ],
         "textfont": {
          "color": "black",
          "size": 2.3694187025678044
         },
         "type": "scatterternary"
        },
        {
         "a": [
          0,
          0,
          0,
          0,
          0
         ],
         "b": [
          0,
          0,
          0,
          0,
          0
         ],
         "c": [
          0,
          0,
          0,
          0,
          0
         ],
         "line": {
          "color": "grey",
          "width": 0.25
         },
         "marker": {
          "color": "silver",
          "line": {
           "color": "black",
           "width": 0
          },
          "opacity": 0.9,
          "size": 6
         },
         "mode": "lines+text",
         "name": "COK",
         "showlegend": false,
         "subplot": "ternary",
         "text": [
          "",
          "",
          "",
          "",
          "",
          "",
          "",
          "",
          "",
          "",
          "",
          "",
          "",
          "",
          ""
         ],
         "textfont": {
          "color": "black",
          "size": 2.3694187025678044
         },
         "type": "scatterternary"
        },
        {
         "a": [
          0.15984986988341132,
          0.2555168141103392,
          0.3989744283350137,
          0.432246329828704,
          0.47095089308190924,
          0.5329685800032018,
          0.5666313213059526,
          0.5497392851847045,
          0.5097240718926714,
          0.4645984282493423,
          0.41247358060173084,
          0.35782139325009,
          0.3186016870919737,
          0.2794690301570795,
          0.2643837740363593
         ],
         "b": [
          0.8222875672743419,
          0.7129366119644939,
          0.5438492517287496,
          0.49360586577023174,
          0.4293030905965832,
          0.32784977667554155,
          0.2435412698279852,
          0.2097128330258127,
          0.2202302041904352,
          0.24454989793498672,
          0.2750162027581272,
          0.3069675214076878,
          0.3364796541523993,
          0.3502027574868275,
          0.3526926571134392
         ],
         "c": [
          0.01786256284224669,
          0.03154657392516697,
          0.05717631993623661,
          0.0741478044010643,
          0.09974601632150731,
          0.1391816433212568,
          0.1898274088660621,
          0.24054788178948283,
          0.2700457239168933,
          0.2908516738156709,
          0.31251021664014184,
          0.33521108534222216,
          0.34491865875562716,
          0.37032821235609287,
          0.3829235688502015
         ],
         "line": {
          "color": "grey",
          "width": 0.25
         },
         "marker": {
          "color": "silver",
          "line": {
           "color": "black",
           "width": 0
          },
          "opacity": 0.9,
          "size": 6
         },
         "mode": "lines+text",
         "name": "CRI",
         "showlegend": false,
         "subplot": "ternary",
         "text": [
          "",
          "",
          "",
          "",
          "",
          "",
          "",
          "",
          "",
          "",
          "",
          "",
          "",
          "",
          ""
         ],
         "textfont": {
          "color": "black",
          "size": 3.628735181011002
         },
         "type": "scatterternary"
        },
        {
         "a": [
          0.15984986988341132,
          0.2555168141103392,
          0.3989744283350137,
          0.432246329828704,
          0.47095089308190924
         ],
         "b": [
          0.8222875672743419,
          0.7129366119644939,
          0.5438492517287496,
          0.49360586577023174,
          0.4293030905965832
         ],
         "c": [
          0.01786256284224669,
          0.03154657392516697,
          0.05717631993623661,
          0.0741478044010643,
          0.09974601632150731
         ],
         "line": {
          "color": "grey",
          "width": 0.25
         },
         "marker": {
          "color": "silver",
          "line": {
           "color": "black",
           "width": 0
          },
          "opacity": 0.9,
          "size": 6
         },
         "mode": "lines+text",
         "name": "CRI",
         "showlegend": false,
         "subplot": "ternary",
         "text": [
          "",
          "",
          "",
          "",
          "",
          "",
          "",
          "",
          "",
          "",
          "",
          "",
          "",
          "",
          ""
         ],
         "textfont": {
          "color": "black",
          "size": 3.628735181011002
         },
         "type": "scatterternary"
        },
        {
         "a": [
          0,
          0,
          0,
          0,
          0,
          0,
          0,
          0,
          0,
          0,
          0,
          0,
          0,
          0,
          0
         ],
         "b": [
          0,
          0,
          0,
          0,
          0,
          0,
          0,
          0,
          0,
          0,
          0,
          0,
          0,
          0,
          0
         ],
         "c": [
          0,
          0,
          0,
          0,
          0,
          0,
          0,
          0,
          0,
          0,
          0,
          0,
          0,
          0,
          0
         ],
         "line": {
          "color": "grey",
          "width": 0.25
         },
         "marker": {
          "color": "silver",
          "line": {
           "color": "black",
           "width": 0
          },
          "opacity": 0.9,
          "size": 6
         },
         "mode": "lines+text",
         "name": "CIV",
         "showlegend": false,
         "subplot": "ternary",
         "text": [
          "",
          "",
          "",
          "",
          "",
          "",
          "",
          "",
          "",
          "",
          "",
          "",
          "",
          "",
          ""
         ],
         "textfont": {
          "color": "black",
          "size": 6.077939449418571
         },
         "type": "scatterternary"
        },
        {
         "a": [
          0,
          0,
          0,
          0,
          0
         ],
         "b": [
          0,
          0,
          0,
          0,
          0
         ],
         "c": [
          0,
          0,
          0,
          0,
          0
         ],
         "line": {
          "color": "grey",
          "width": 0.25
         },
         "marker": {
          "color": "silver",
          "line": {
           "color": "black",
           "width": 0
          },
          "opacity": 0.9,
          "size": 6
         },
         "mode": "lines+text",
         "name": "CIV",
         "showlegend": false,
         "subplot": "ternary",
         "text": [
          "",
          "",
          "",
          "",
          "",
          "",
          "",
          "",
          "",
          "",
          "",
          "",
          "",
          "",
          ""
         ],
         "textfont": {
          "color": "black",
          "size": 6.077939449418571
         },
         "type": "scatterternary"
        },
        {
         "a": [
          0.11175531149463337,
          0.1482662051916158,
          0.21264719608521288,
          0.21521185790864578,
          0.25159332499699577,
          0.3391191071267233,
          0.44678028407104664,
          0.5353400063059344,
          0.57712840272173,
          0.59795912656375,
          0.61245954417388,
          0.6182262857159335,
          0.6230257393550849,
          0.6235104239956606,
          0.6242681335146942
         ],
         "b": [
          0.8758248946173218,
          0.8330313646641772,
          0.7556521706808066,
          0.7460925898010113,
          0.6933529501393428,
          0.5731524022544082,
          0.4185444374187228,
          0.2862182226188834,
          0.21365659069706394,
          0.17747267398985248,
          0.15470531218250375,
          0.14677486260871084,
          0.14196891605296758,
          0.1401782258634949,
          0.13940854084461937
         ],
         "c": [
          0.012419793888044798,
          0.01870243014420702,
          0.031700633233980605,
          0.03869555229034266,
          0.05505372486366134,
          0.0877284906188684,
          0.13467527851023045,
          0.1784417710751821,
          0.20921500658120595,
          0.22456819944639747,
          0.23283514364361613,
          0.23499885167535564,
          0.23500534459194758,
          0.23631135014084445,
          0.2363233256406863
         ],
         "line": {
          "color": "grey",
          "width": 0.25
         },
         "marker": {
          "color": "silver",
          "line": {
           "color": "black",
           "width": 0
          },
          "opacity": 0.9,
          "size": 6
         },
         "mode": "lines+text",
         "name": "HRV",
         "showlegend": false,
         "subplot": "ternary",
         "text": [
          "",
          "",
          "",
          "",
          "",
          "",
          "",
          "",
          "",
          "",
          "",
          "",
          "",
          "",
          ""
         ],
         "textfont": {
          "color": "black",
          "size": 3.4113994705833934
         },
         "type": "scatterternary"
        },
        {
         "a": [
          0.11175531149463337,
          0.1482662051916158,
          0.21264719608521288,
          0.21521185790864578,
          0.25159332499699577
         ],
         "b": [
          0.8758248946173218,
          0.8330313646641772,
          0.7556521706808066,
          0.7460925898010113,
          0.6933529501393428
         ],
         "c": [
          0.012419793888044798,
          0.01870243014420702,
          0.031700633233980605,
          0.03869555229034266,
          0.05505372486366134
         ],
         "line": {
          "color": "grey",
          "width": 0.25
         },
         "marker": {
          "color": "silver",
          "line": {
           "color": "black",
           "width": 0
          },
          "opacity": 0.9,
          "size": 6
         },
         "mode": "lines+text",
         "name": "HRV",
         "showlegend": false,
         "subplot": "ternary",
         "text": [
          "",
          "",
          "",
          "",
          "",
          "",
          "",
          "",
          "",
          "",
          "",
          "",
          "",
          "",
          ""
         ],
         "textfont": {
          "color": "black",
          "size": 3.4113994705833934
         },
         "type": "scatterternary"
        },
        {
         "a": [
          0.17505575912768434,
          0.28187096561953207,
          0.4360243859878269,
          0.46284938572612355,
          0.5027402390302509,
          0.5833060665074974,
          0.6503568678013184,
          0.6639479947867855,
          0.6347730724719369,
          0.575980285806516,
          0.5027110244734326,
          0.4222522969861153,
          0.3614685596570921,
          0.3027684637410286,
          0.2729034034217208
         ],
         "b": [
          0.805654515965959,
          0.6835228163684699,
          0.49991548130242214,
          0.45267704886064275,
          0.385268181513536,
          0.26761728245190164,
          0.15811966718656878,
          0.11131579431056872,
          0.1193172054350213,
          0.166209484862514,
          0.22685700536531045,
          0.28995627517003353,
          0.3458322587593617,
          0.37525338357156207,
          0.39292389638410186
         ],
         "c": [
          0.019289724906356595,
          0.034606218011998036,
          0.06406013270975111,
          0.08447356541323386,
          0.11199157945621298,
          0.14907665104060072,
          0.19152346501211276,
          0.22473621090264595,
          0.24590972209304188,
          0.2578102293309701,
          0.27043197016125686,
          0.28779142784385114,
          0.2926991815835463,
          0.32197815268740926,
          0.3341727001941775
         ],
         "line": {
          "color": "grey",
          "width": 0.25
         },
         "marker": {
          "color": "silver",
          "line": {
           "color": "black",
           "width": 0
          },
          "opacity": 0.9,
          "size": 6
         },
         "mode": "lines+text",
         "name": "CUB",
         "showlegend": false,
         "subplot": "ternary",
         "text": [
          "",
          "",
          "",
          "",
          "",
          "",
          "",
          "",
          "",
          "",
          "",
          "",
          "",
          "",
          ""
         ],
         "textfont": {
          "color": "black",
          "size": 4.6133448196616405
         },
         "type": "scatterternary"
        },
        {
         "a": [
          0.17505575912768434,
          0.28187096561953207,
          0.4360243859878269,
          0.46284938572612355,
          0.5027402390302509
         ],
         "b": [
          0.805654515965959,
          0.6835228163684699,
          0.49991548130242214,
          0.45267704886064275,
          0.385268181513536
         ],
         "c": [
          0.019289724906356595,
          0.034606218011998036,
          0.06406013270975111,
          0.08447356541323386,
          0.11199157945621298
         ],
         "line": {
          "color": "grey",
          "width": 0.25
         },
         "marker": {
          "color": "silver",
          "line": {
           "color": "black",
           "width": 0
          },
          "opacity": 0.9,
          "size": 6
         },
         "mode": "lines+text",
         "name": "CUB",
         "showlegend": false,
         "subplot": "ternary",
         "text": [
          "",
          "",
          "",
          "",
          "",
          "",
          "",
          "",
          "",
          "",
          "",
          "",
          "",
          "",
          ""
         ],
         "textfont": {
          "color": "black",
          "size": 4.6133448196616405
         },
         "type": "scatterternary"
        },
        {
         "a": [
          0.4493519010952902,
          0.4681971456175418,
          0.5248575169366244,
          0.5268427336305888,
          0.5570148685184219,
          0.5983730551822316,
          0.6247777044927201,
          0.6336599223850057,
          0.6294369467253359,
          0.6269554231547325,
          0.6250504065840159,
          0.6215619340538311,
          0.6174260367664266,
          0.6126032426519532,
          0.6087184453220105
         ],
         "b": [
          0.5006356476525744,
          0.47199019842010637,
          0.39614254307534463,
          0.37796056028082053,
          0.322275640036151,
          0.24916213770082918,
          0.1888102594871746,
          0.15848656844978434,
          0.1472484236849079,
          0.14584467907819815,
          0.14691277772752565,
          0.15127449138886542,
          0.15702149651466973,
          0.1629314245215449,
          0.16962967233879622
         ],
         "c": [
          0.050012451252135326,
          0.05981265596235191,
          0.07899993998803077,
          0.09519670608859075,
          0.12070949144542693,
          0.15246480711693927,
          0.18641203602010534,
          0.20785350916521003,
          0.22331462958975623,
          0.22719989776706945,
          0.22803681568845843,
          0.22716357455730352,
          0.22555246671890372,
          0.22446533282650186,
          0.22165188233919325
         ],
         "line": {
          "color": "grey",
          "width": 0.25
         },
         "marker": {
          "color": "silver",
          "line": {
           "color": "black",
           "width": 0
          },
          "opacity": 0.9,
          "size": 6
         },
         "mode": "lines+text",
         "name": "CYP",
         "showlegend": false,
         "subplot": "ternary",
         "text": [
          "",
          "",
          "",
          "",
          "",
          "",
          "",
          "",
          "",
          "",
          "",
          "",
          "",
          "",
          ""
         ],
         "textfont": {
          "color": "black",
          "size": 2.4894671276055442
         },
         "type": "scatterternary"
        },
        {
         "a": [
          0.4493519010952902,
          0.4681971456175418,
          0.5248575169366244,
          0.5268427336305888,
          0.5570148685184219
         ],
         "b": [
          0.5006356476525744,
          0.47199019842010637,
          0.39614254307534463,
          0.37796056028082053,
          0.322275640036151
         ],
         "c": [
          0.050012451252135326,
          0.05981265596235191,
          0.07899993998803077,
          0.09519670608859075,
          0.12070949144542693
         ],
         "line": {
          "color": "grey",
          "width": 0.25
         },
         "marker": {
          "color": "silver",
          "line": {
           "color": "black",
           "width": 0
          },
          "opacity": 0.9,
          "size": 6
         },
         "mode": "lines+text",
         "name": "CYP",
         "showlegend": false,
         "subplot": "ternary",
         "text": [
          "",
          "",
          "",
          "",
          "",
          "",
          "",
          "",
          "",
          "",
          "",
          "",
          "",
          "",
          ""
         ],
         "textfont": {
          "color": "black",
          "size": 2.4894671276055442
         },
         "type": "scatterternary"
        },
        {
         "a": [
          0.09472199095428527,
          0.11476132094191213,
          0.16267894981836445,
          0.14356069732149193,
          0.1572557539354718,
          0.23111974249274245,
          0.3442956508570707,
          0.45798218438696714,
          0.5103373158891313,
          0.5228693674810437,
          0.5263283453641336,
          0.5384953936133218,
          0.5521888218877777,
          0.5600864626462578,
          0.5744932303121772
         ],
         "b": [
          0.894592713395171,
          0.8702225567477218,
          0.8119414683748856,
          0.8292755257912316,
          0.8065860550466917,
          0.7059194733324234,
          0.5468022849409926,
          0.38051853180084844,
          0.2923334974639309,
          0.2610411702350872,
          0.2470995691269417,
          0.22481907899946052,
          0.2032091983414826,
          0.18569854150926543,
          0.16464276378031348
         ],
         "c": [
          0.010685295650543639,
          0.015016122310366106,
          0.02537958180674973,
          0.027163776887276433,
          0.0361581910178366,
          0.06296078417483411,
          0.10890206420193675,
          0.16149928381218417,
          0.19732918664693777,
          0.21608946228386927,
          0.22657208550892466,
          0.2366855273872178,
          0.2446019797707396,
          0.2542149958444767,
          0.26086400590750936
         ],
         "line": {
          "color": "grey",
          "width": 0.25
         },
         "marker": {
          "color": "silver",
          "line": {
           "color": "black",
           "width": 0
          },
          "opacity": 0.9,
          "size": 6
         },
         "mode": "lines+text",
         "name": "CZE",
         "showlegend": false,
         "subplot": "ternary",
         "text": [
          "",
          "",
          "",
          "",
          "",
          "",
          "",
          "",
          "",
          "",
          "",
          "",
          "",
          "",
          ""
         ],
         "textfont": {
          "color": "black",
          "size": 4.5126753730295945
         },
         "type": "scatterternary"
        },
        {
         "a": [
          0.09472199095428527,
          0.11476132094191213,
          0.16267894981836445,
          0.14356069732149193,
          0.1572557539354718
         ],
         "b": [
          0.894592713395171,
          0.8702225567477218,
          0.8119414683748856,
          0.8292755257912316,
          0.8065860550466917
         ],
         "c": [
          0.010685295650543639,
          0.015016122310366106,
          0.02537958180674973,
          0.027163776887276433,
          0.0361581910178366
         ],
         "line": {
          "color": "grey",
          "width": 0.25
         },
         "marker": {
          "color": "silver",
          "line": {
           "color": "black",
           "width": 0
          },
          "opacity": 0.9,
          "size": 6
         },
         "mode": "lines+text",
         "name": "CZE",
         "showlegend": false,
         "subplot": "ternary",
         "text": [
          "",
          "",
          "",
          "",
          "",
          "",
          "",
          "",
          "",
          "",
          "",
          "",
          "",
          "",
          ""
         ],
         "textfont": {
          "color": "black",
          "size": 4.5126753730295945
         },
         "type": "scatterternary"
        },
        {
         "a": [
          0.5314009966509438,
          0.43447764757879453,
          0.3321853943941343,
          0.2378032937823741,
          0.18911439877808728,
          0.15117091891332465,
          0.12093928603135737,
          0.10252781175850878,
          0.089928175499728,
          0.08250503161175987,
          0.074476223400392,
          0.06916523884366206,
          0.0663418437705612,
          0.0652951841061485,
          0.06890630568128764
         ],
         "b": [
          0.4096978982734651,
          0.5106273340798934,
          0.6179069149688233,
          0.718563940796745,
          0.7643027248148769,
          0.7901256692943321,
          0.8001189675899637,
          0.7843590704447845,
          0.7562114869008708,
          0.720174694221405,
          0.6850906004577835,
          0.6489284143455187,
          0.6184599419694756,
          0.5947393022846975,
          0.5747607610201455
         ],
         "c": [
          0.05890110507559111,
          0.05489501834131196,
          0.04990769063704233,
          0.04363276542088086,
          0.046582876407035796,
          0.05870341179234312,
          0.07894174637867878,
          0.11311311779670671,
          0.15386033759940143,
          0.19732027416683495,
          0.2404331761418246,
          0.2819063468108192,
          0.3151982142599633,
          0.3399655136091539,
          0.35633293329856697
         ],
         "line": {
          "color": "grey",
          "width": 0.25
         },
         "marker": {
          "color": "silver",
          "line": {
           "color": "black",
           "width": 0
          },
          "opacity": 0.9,
          "size": 6
         },
         "mode": "lines+text",
         "name": "COD",
         "showlegend": false,
         "subplot": "ternary",
         "text": [
          "",
          "",
          "",
          "",
          "",
          "",
          "",
          "",
          "",
          "",
          "",
          "",
          "",
          "",
          ""
         ],
         "textfont": {
          "color": "black",
          "size": 9.332692520042144
         },
         "type": "scatterternary"
        },
        {
         "a": [
          0.5314009966509438,
          0.43447764757879453,
          0.3321853943941343,
          0.2378032937823741,
          0.18911439877808728
         ],
         "b": [
          0.4096978982734651,
          0.5106273340798934,
          0.6179069149688233,
          0.718563940796745,
          0.7643027248148769
         ],
         "c": [
          0.05890110507559111,
          0.05489501834131196,
          0.04990769063704233,
          0.04363276542088086,
          0.046582876407035796
         ],
         "line": {
          "color": "grey",
          "width": 0.25
         },
         "marker": {
          "color": "silver",
          "line": {
           "color": "black",
           "width": 0
          },
          "opacity": 0.9,
          "size": 6
         },
         "mode": "lines+text",
         "name": "COD",
         "showlegend": false,
         "subplot": "ternary",
         "text": [
          "",
          "",
          "",
          "",
          "",
          "",
          "",
          "",
          "",
          "",
          "",
          "",
          "",
          "",
          ""
         ],
         "textfont": {
          "color": "black",
          "size": 9.332692520042144
         },
         "type": "scatterternary"
        },
        {
         "a": [
          0.08978021595658403,
          0.1136317295759828,
          0.16634384794682658,
          0.15411272549584032,
          0.17312463516946874,
          0.24948305932967965,
          0.36933105336115324,
          0.4831946808233851,
          0.5246399342653513,
          0.5360996938923206,
          0.5469976883381453,
          0.5655044923783644,
          0.5920321704624849,
          0.6153855210197731,
          0.6406493919483871
         ],
         "b": [
          0.9001649043980101,
          0.8717331069694448,
          0.8078399039638795,
          0.8163616491864224,
          0.7854848677271983,
          0.6794519181898242,
          0.5117001880952619,
          0.3501746986144649,
          0.28148746369654776,
          0.25907523327625476,
          0.23995922946584428,
          0.20962721930662329,
          0.17655802446965413,
          0.14520273047300358,
          0.11539940800935285
         ],
         "c": [
          0.010054879645405756,
          0.014635163454572435,
          0.025816248089294124,
          0.029525625317737454,
          0.041390497103333056,
          0.07106502248049615,
          0.11896875854358488,
          0.16663062056214983,
          0.19387260203810078,
          0.20482507283142476,
          0.21304308219601054,
          0.2248682883150123,
          0.23140980506786102,
          0.23941174850722347,
          0.24395120004226017
         ],
         "line": {
          "color": "grey",
          "width": 0.25
         },
         "marker": {
          "color": "silver",
          "line": {
           "color": "black",
           "width": 0
          },
          "opacity": 0.9,
          "size": 6
         },
         "mode": "lines+text",
         "name": "DNK",
         "showlegend": false,
         "subplot": "ternary",
         "text": [
          "",
          "",
          "",
          "",
          "",
          "",
          "",
          "",
          "",
          "",
          "",
          "",
          "",
          "",
          ""
         ],
         "textfont": {
          "color": "black",
          "size": 3.768405854717044
         },
         "type": "scatterternary"
        },
        {
         "a": [
          0.08978021595658403,
          0.1136317295759828,
          0.16634384794682658,
          0.15411272549584032,
          0.17312463516946874
         ],
         "b": [
          0.9001649043980101,
          0.8717331069694448,
          0.8078399039638795,
          0.8163616491864224,
          0.7854848677271983
         ],
         "c": [
          0.010054879645405756,
          0.014635163454572435,
          0.025816248089294124,
          0.029525625317737454,
          0.041390497103333056
         ],
         "line": {
          "color": "grey",
          "width": 0.25
         },
         "marker": {
          "color": "silver",
          "line": {
           "color": "black",
           "width": 0
          },
          "opacity": 0.9,
          "size": 6
         },
         "mode": "lines+text",
         "name": "DNK",
         "showlegend": false,
         "subplot": "ternary",
         "text": [
          "",
          "",
          "",
          "",
          "",
          "",
          "",
          "",
          "",
          "",
          "",
          "",
          "",
          "",
          ""
         ],
         "textfont": {
          "color": "black",
          "size": 3.768405854717044
         },
         "type": "scatterternary"
        },
        {
         "a": [
          0.05270768058472402,
          0.1290877307897469,
          0.2695065246885417,
          0.29791049337092096,
          0.341533312720139,
          0.4450367547086669,
          0.545649437499066,
          0.5994016859817461,
          0.6083181334482037,
          0.6190931016484973,
          0.6330202579020847,
          0.65610168388775,
          0.6722772444384184,
          0.6729091239920542,
          0.673109995099362
         ],
         "b": [
          0.9414985653338417,
          0.8553460229823373,
          0.6929747683142744,
          0.652150722052503,
          0.5886205271656159,
          0.44551822879815545,
          0.2960756852775131,
          0.20529125556558098,
          0.17074610801743045,
          0.14740106648434384,
          0.12438085464029396,
          0.09572399802958834,
          0.07095985193347423,
          0.05964041454760997,
          0.05252265327693486
         ],
         "c": [
          0.00579375408143418,
          0.015566246227915853,
          0.037518706997184,
          0.04993878457657588,
          0.0698461601142452,
          0.10944501649317773,
          0.1582748772234208,
          0.1953070584526729,
          0.22093575853436584,
          0.2335058318671588,
          0.24259888745762115,
          0.24817431808266166,
          0.2567629036281074,
          0.2674504614603358,
          0.2743673516237031
         ],
         "line": {
          "color": "grey",
          "width": 0.25
         },
         "marker": {
          "color": "silver",
          "line": {
           "color": "black",
           "width": 0
          },
          "opacity": 0.9,
          "size": 6
         },
         "mode": "lines+text",
         "name": "DJI",
         "showlegend": false,
         "subplot": "ternary",
         "text": [
          "",
          "",
          "",
          "",
          "",
          "",
          "",
          "",
          "",
          "",
          "",
          "",
          "",
          "",
          ""
         ],
         "textfont": {
          "color": "black",
          "size": 2.4134547151628882
         },
         "type": "scatterternary"
        },
        {
         "a": [
          0.05270768058472402,
          0.1290877307897469,
          0.2695065246885417,
          0.29791049337092096,
          0.341533312720139
         ],
         "b": [
          0.9414985653338417,
          0.8553460229823373,
          0.6929747683142744,
          0.652150722052503,
          0.5886205271656159
         ],
         "c": [
          0.00579375408143418,
          0.015566246227915853,
          0.037518706997184,
          0.04993878457657588,
          0.0698461601142452
         ],
         "line": {
          "color": "grey",
          "width": 0.25
         },
         "marker": {
          "color": "silver",
          "line": {
           "color": "black",
           "width": 0
          },
          "opacity": 0.9,
          "size": 6
         },
         "mode": "lines+text",
         "name": "DJI",
         "showlegend": false,
         "subplot": "ternary",
         "text": [
          "",
          "",
          "",
          "",
          "",
          "",
          "",
          "",
          "",
          "",
          "",
          "",
          "",
          "",
          ""
         ],
         "textfont": {
          "color": "black",
          "size": 2.4134547151628882
         },
         "type": "scatterternary"
        },
        {
         "a": [
          0,
          0,
          0,
          0,
          0,
          0,
          0,
          0,
          0,
          0,
          0,
          0,
          0,
          0,
          0
         ],
         "b": [
          0,
          0,
          0,
          0,
          0,
          0,
          0,
          0,
          0,
          0,
          0,
          0,
          0,
          0,
          0
         ],
         "c": [
          0,
          0,
          0,
          0,
          0,
          0,
          0,
          0,
          0,
          0,
          0,
          0,
          0,
          0,
          0
         ],
         "line": {
          "color": "grey",
          "width": 0.25
         },
         "marker": {
          "color": "silver",
          "line": {
           "color": "black",
           "width": 0
          },
          "opacity": 0.9,
          "size": 6
         },
         "mode": "lines+text",
         "name": "DMA",
         "showlegend": false,
         "subplot": "ternary",
         "text": [
          "",
          "",
          "",
          "",
          "",
          "",
          "",
          "",
          "",
          "",
          "",
          "",
          "",
          "",
          ""
         ],
         "textfont": {
          "color": "black",
          "size": 2.3694187025678044
         },
         "type": "scatterternary"
        },
        {
         "a": [
          0,
          0,
          0,
          0,
          0
         ],
         "b": [
          0,
          0,
          0,
          0,
          0
         ],
         "c": [
          0,
          0,
          0,
          0,
          0
         ],
         "line": {
          "color": "grey",
          "width": 0.25
         },
         "marker": {
          "color": "silver",
          "line": {
           "color": "black",
           "width": 0
          },
          "opacity": 0.9,
          "size": 6
         },
         "mode": "lines+text",
         "name": "DMA",
         "showlegend": false,
         "subplot": "ternary",
         "text": [
          "",
          "",
          "",
          "",
          "",
          "",
          "",
          "",
          "",
          "",
          "",
          "",
          "",
          "",
          ""
         ],
         "textfont": {
          "color": "black",
          "size": 2.3694187025678044
         },
         "type": "scatterternary"
        },
        {
         "a": [
          0.18677387137055118,
          0.29831736311986545,
          0.4632327799971545,
          0.47924767095341847,
          0.4904259335490939,
          0.5046964684478094,
          0.47171694428361666,
          0.4298562430855185,
          0.376986461390206,
          0.32733822400885904,
          0.27857426618246073,
          0.2275305613183668,
          0.17871376658096755,
          0.1547857484721717,
          0.1388076297563714
         ],
         "b": [
          0.7922827289907629,
          0.663925252710894,
          0.4662574442326789,
          0.4305411552018441,
          0.39668721588344674,
          0.35824467743152183,
          0.38145348012700825,
          0.4263644999195375,
          0.48228814727628827,
          0.5297863472628385,
          0.553465210974267,
          0.558759661209874,
          0.5535109502850536,
          0.553756649393127,
          0.5385904370022138
         ],
         "c": [
          0.020943399638686078,
          0.037757384169240585,
          0.07050977577016639,
          0.09021117384473745,
          0.11288685056745935,
          0.1370588541206686,
          0.14682957558937526,
          0.14377925699494387,
          0.1407253913335056,
          0.14287542872830247,
          0.16796052284327218,
          0.2137097774717593,
          0.2677752831339789,
          0.2914576021347013,
          0.3226019332414149
         ],
         "line": {
          "color": "grey",
          "width": 0.25
         },
         "marker": {
          "color": "silver",
          "line": {
           "color": "black",
           "width": 0
          },
          "opacity": 0.9,
          "size": 6
         },
         "mode": "lines+text",
         "name": "DOM",
         "showlegend": false,
         "subplot": "ternary",
         "text": [
          "",
          "",
          "",
          "",
          "",
          "",
          "",
          "",
          "",
          "",
          "",
          "",
          "",
          "",
          ""
         ],
         "textfont": {
          "color": "black",
          "size": 4.565600803899865
         },
         "type": "scatterternary"
        },
        {
         "a": [
          0.18677387137055118,
          0.29831736311986545,
          0.4632327799971545,
          0.47924767095341847,
          0.4904259335490939
         ],
         "b": [
          0.7922827289907629,
          0.663925252710894,
          0.4662574442326789,
          0.4305411552018441,
          0.39668721588344674
         ],
         "c": [
          0.020943399638686078,
          0.037757384169240585,
          0.07050977577016639,
          0.09021117384473745,
          0.11288685056745935
         ],
         "line": {
          "color": "grey",
          "width": 0.25
         },
         "marker": {
          "color": "silver",
          "line": {
           "color": "black",
           "width": 0
          },
          "opacity": 0.9,
          "size": 6
         },
         "mode": "lines+text",
         "name": "DOM",
         "showlegend": false,
         "subplot": "ternary",
         "text": [
          "",
          "",
          "",
          "",
          "",
          "",
          "",
          "",
          "",
          "",
          "",
          "",
          "",
          "",
          ""
         ],
         "textfont": {
          "color": "black",
          "size": 4.565600803899865
         },
         "type": "scatterternary"
        },
        {
         "a": [
          0.46379918540904613,
          0.556596436990961,
          0.6492156871774192,
          0.6621621340178407,
          0.6716283626817663,
          0.6895823334373609,
          0.6918029743509471,
          0.6891486144380075,
          0.6809365404452501,
          0.682486535869173,
          0.6863052020835567,
          0.6927701815967654,
          0.6971596513234922,
          0.6905455215767228,
          0.6796983532696512
         ],
         "b": [
          0.4851276339384152,
          0.3746949753097678,
          0.2566549004659071,
          0.2222586814563478,
          0.18622549231408664,
          0.13798798219718522,
          0.10540134271048189,
          0.08952779089345844,
          0.0845648243014336,
          0.07900631992986472,
          0.0741527623170272,
          0.06979138628600279,
          0.06898886953692566,
          0.07832617690651997,
          0.09194901750524616
         ],
         "c": [
          0.05107318065253881,
          0.06870858769927114,
          0.09412941235667373,
          0.11557918452581116,
          0.142146145004147,
          0.17242968436545378,
          0.20279568293857092,
          0.22132359466853396,
          0.23449863525331618,
          0.23850714420096233,
          0.23954203559941623,
          0.2374384321172318,
          0.23385147913958215,
          0.23112830151675728,
          0.2283526292251026
         ],
         "line": {
          "color": "grey",
          "width": 0.25
         },
         "marker": {
          "color": "silver",
          "line": {
           "color": "black",
           "width": 0
          },
          "opacity": 0.9,
          "size": 6
         },
         "mode": "lines+text",
         "name": "ECU",
         "showlegend": false,
         "subplot": "ternary",
         "text": [
          "",
          "",
          "",
          "",
          "",
          "",
          "",
          "",
          "",
          "",
          "",
          "",
          "",
          "",
          ""
         ],
         "textfont": {
          "color": "black",
          "size": 5.301539828687602
         },
         "type": "scatterternary"
        },
        {
         "a": [
          0.46379918540904613,
          0.556596436990961,
          0.6492156871774192,
          0.6621621340178407,
          0.6716283626817663
         ],
         "b": [
          0.4851276339384152,
          0.3746949753097678,
          0.2566549004659071,
          0.2222586814563478,
          0.18622549231408664
         ],
         "c": [
          0.05107318065253881,
          0.06870858769927114,
          0.09412941235667373,
          0.11557918452581116,
          0.142146145004147
         ],
         "line": {
          "color": "grey",
          "width": 0.25
         },
         "marker": {
          "color": "silver",
          "line": {
           "color": "black",
           "width": 0
          },
          "opacity": 0.9,
          "size": 6
         },
         "mode": "lines+text",
         "name": "ECU",
         "showlegend": false,
         "subplot": "ternary",
         "text": [
          "",
          "",
          "",
          "",
          "",
          "",
          "",
          "",
          "",
          "",
          "",
          "",
          "",
          "",
          ""
         ],
         "textfont": {
          "color": "black",
          "size": 5.301539828687602
         },
         "type": "scatterternary"
        },
        {
         "a": [
          0.08952540195667368,
          0.16473991348014583,
          0.2874935244563401,
          0.31148227409754997,
          0.35503798598078223,
          0.4495364905088651,
          0.5486604883606515,
          0.6170934301460872,
          0.6450272945218273,
          0.6550979333889032,
          0.6584879489097526,
          0.6601712183923416,
          0.6607709354387985,
          0.6583913105183858,
          0.6611082067031744
         ],
         "b": [
          0.9006540457096219,
          0.8152256141909822,
          0.671588741004847,
          0.6354766016564549,
          0.5721612757712883,
          0.4418822507435121,
          0.29601653844714254,
          0.19052079572860883,
          0.1398605846417104,
          0.1206467253043795,
          0.11131783894394469,
          0.11101706089518588,
          0.1109251126278706,
          0.11202761138252512,
          0.10987258137746943
         ],
         "c": [
          0.009820552333704238,
          0.020034472328871896,
          0.04091773453881297,
          0.053041124245995094,
          0.07280073824792957,
          0.10858125874762259,
          0.1553229731922061,
          0.19238577412530394,
          0.21511212083646228,
          0.2242553413067174,
          0.23019421214630267,
          0.22881172071247255,
          0.2283039519333311,
          0.22958107809908898,
          0.22901921191935642
         ],
         "line": {
          "color": "grey",
          "width": 0.25
         },
         "marker": {
          "color": "silver",
          "line": {
           "color": "black",
           "width": 0
          },
          "opacity": 0.9,
          "size": 6
         },
         "mode": "lines+text",
         "name": "EGY",
         "showlegend": false,
         "subplot": "ternary",
         "text": [
          "",
          "",
          "",
          "",
          "",
          "",
          "",
          "",
          "",
          "",
          "",
          "",
          "",
          "",
          ""
         ],
         "textfont": {
          "color": "black",
          "size": 9.862152923294675
         },
         "type": "scatterternary"
        },
        {
         "a": [
          0.08952540195667368,
          0.16473991348014583,
          0.2874935244563401,
          0.31148227409754997,
          0.35503798598078223
         ],
         "b": [
          0.9006540457096219,
          0.8152256141909822,
          0.671588741004847,
          0.6354766016564549,
          0.5721612757712883
         ],
         "c": [
          0.009820552333704238,
          0.020034472328871896,
          0.04091773453881297,
          0.053041124245995094,
          0.07280073824792957
         ],
         "line": {
          "color": "grey",
          "width": 0.25
         },
         "marker": {
          "color": "silver",
          "line": {
           "color": "black",
           "width": 0
          },
          "opacity": 0.9,
          "size": 6
         },
         "mode": "lines+text",
         "name": "EGY",
         "showlegend": false,
         "subplot": "ternary",
         "text": [
          "",
          "",
          "",
          "",
          "",
          "",
          "",
          "",
          "",
          "",
          "",
          "",
          "",
          "",
          ""
         ],
         "textfont": {
          "color": "black",
          "size": 9.862152923294675
         },
         "type": "scatterternary"
        },
        {
         "a": [
          0.02616455894479614,
          0.06865797731389635,
          0.14635983374582745,
          0.16005235236466922,
          0.19164901655353556,
          0.2786375156162809,
          0.414690036255131,
          0.549733845109836,
          0.6242494009209896,
          0.6500345767102762,
          0.6560487602792817,
          0.6614329390935394,
          0.6709817173665473,
          0.6667305614470298,
          0.6634226585714461
         ],
         "b": [
          0.9709703172367988,
          0.9231452949118606,
          0.8332387053111125,
          0.8128792630763364,
          0.768575182812195,
          0.6531207293350156,
          0.4664672555927655,
          0.27621344822391114,
          0.16482691588875006,
          0.12664043795924224,
          0.11732810589698647,
          0.11258888738333205,
          0.10165429339142958,
          0.10398318471715087,
          0.10553702595071825
         ],
         "c": [
          0.0028651238184050024,
          0.008196727774242922,
          0.020401460943059786,
          0.02706838455899457,
          0.03977580063426949,
          0.06824175504870353,
          0.11884270815210338,
          0.1740527066662528,
          0.2109236831902605,
          0.22332498533048153,
          0.2266231338237318,
          0.22597817352312863,
          0.22736398924202303,
          0.22928625383581938,
          0.23104031547783574
         ],
         "line": {
          "color": "grey",
          "width": 0.25
         },
         "marker": {
          "color": "silver",
          "line": {
           "color": "black",
           "width": 0
          },
          "opacity": 0.9,
          "size": 6
         },
         "mode": "lines+text",
         "name": "SLV",
         "showlegend": false,
         "subplot": "ternary",
         "text": [
          "",
          "",
          "",
          "",
          "",
          "",
          "",
          "",
          "",
          "",
          "",
          "",
          "",
          "",
          ""
         ],
         "textfont": {
          "color": "black",
          "size": 3.8559161276842233
         },
         "type": "scatterternary"
        },
        {
         "a": [
          0.02616455894479614,
          0.06865797731389635,
          0.14635983374582745,
          0.16005235236466922,
          0.19164901655353556
         ],
         "b": [
          0.9709703172367988,
          0.9231452949118606,
          0.8332387053111125,
          0.8128792630763364,
          0.768575182812195
         ],
         "c": [
          0.0028651238184050024,
          0.008196727774242922,
          0.020401460943059786,
          0.02706838455899457,
          0.03977580063426949
         ],
         "line": {
          "color": "grey",
          "width": 0.25
         },
         "marker": {
          "color": "silver",
          "line": {
           "color": "black",
           "width": 0
          },
          "opacity": 0.9,
          "size": 6
         },
         "mode": "lines+text",
         "name": "SLV",
         "showlegend": false,
         "subplot": "ternary",
         "text": [
          "",
          "",
          "",
          "",
          "",
          "",
          "",
          "",
          "",
          "",
          "",
          "",
          "",
          "",
          ""
         ],
         "textfont": {
          "color": "black",
          "size": 3.8559161276842233
         },
         "type": "scatterternary"
        },
        {
         "a": [
          0.1838040816847419,
          0.1836027948177673,
          0.20745634595692564,
          0.22713607583299036,
          0.2452173318112172,
          0.27336648205642644,
          0.31414527253835545,
          0.3514919601242266,
          0.38868167650601476,
          0.42294228273121015,
          0.44652715172223967,
          0.45914796786624124,
          0.4660292696362979,
          0.4673322120144853,
          0.45856640205598015
         ],
         "b": [
          0.7655332275776883,
          0.7409566044579584,
          0.7000882093489684,
          0.7117271557633668,
          0.6697360414188763,
          0.6128786522998696,
          0.5336734275547977,
          0.46635163010437886,
          0.3962389707533703,
          0.3330443162450792,
          0.2883177882447571,
          0.2678889541017275,
          0.26546814331386565,
          0.2748373880342572,
          0.2873215873050427
         ],
         "c": [
          0.050662690737569765,
          0.07544060072427436,
          0.09245544469410602,
          0.06113676840364288,
          0.08504662676990626,
          0.11375486564370399,
          0.1521812999068466,
          0.1821564097713945,
          0.2150793527406149,
          0.24401340102371066,
          0.2651550600330034,
          0.27296307803203135,
          0.2685025870498363,
          0.25783039995125756,
          0.25411201063897715
         ],
         "line": {
          "color": "grey",
          "width": 0.25
         },
         "marker": {
          "color": "silver",
          "line": {
           "color": "black",
           "width": 0
          },
          "opacity": 0.9,
          "size": 6
         },
         "mode": "lines+text",
         "name": "GNQ",
         "showlegend": false,
         "subplot": "ternary",
         "text": [
          "",
          "",
          "",
          "",
          "",
          "",
          "",
          "",
          "",
          "",
          "",
          "",
          "",
          "",
          ""
         ],
         "textfont": {
          "color": "black",
          "size": 2.643687004787763
         },
         "type": "scatterternary"
        },
        {
         "a": [
          0.1838040816847419,
          0.1836027948177673,
          0.20745634595692564,
          0.22713607583299036,
          0.2452173318112172
         ],
         "b": [
          0.7655332275776883,
          0.7409566044579584,
          0.7000882093489684,
          0.7117271557633668,
          0.6697360414188763
         ],
         "c": [
          0.050662690737569765,
          0.07544060072427436,
          0.09245544469410602,
          0.06113676840364288,
          0.08504662676990626
         ],
         "line": {
          "color": "grey",
          "width": 0.25
         },
         "marker": {
          "color": "silver",
          "line": {
           "color": "black",
           "width": 0
          },
          "opacity": 0.9,
          "size": 6
         },
         "mode": "lines+text",
         "name": "GNQ",
         "showlegend": false,
         "subplot": "ternary",
         "text": [
          "",
          "",
          "",
          "",
          "",
          "",
          "",
          "",
          "",
          "",
          "",
          "",
          "",
          "",
          ""
         ],
         "textfont": {
          "color": "black",
          "size": 2.643687004787763
         },
         "type": "scatterternary"
        },
        {
         "a": [
          0.0736720037199237,
          0.16046186627800454,
          0.29907022935531385,
          0.29187584959359475,
          0.28048366031951144,
          0.2788570306561007,
          0.2535911421758612,
          0.20944446613068268,
          0.17442452732090158,
          0.1561306294382144,
          0.1432697864663126,
          0.13698358931020027,
          0.1352375088512922,
          0.13890967897441947,
          0.15879381744201007
         ],
         "b": [
          0.9179808559964668,
          0.8196964006181727,
          0.6572622358631781,
          0.6549926536259926,
          0.6520260546196693,
          0.6263967229822817,
          0.624621650671715,
          0.6341749916763332,
          0.6266023828479155,
          0.6149794317069293,
          0.6018233143237423,
          0.5819162420137773,
          0.5581461603147267,
          0.5339617068382095,
          0.5046579813060281
         ],
         "c": [
          0.008347140283609788,
          0.019841733103822767,
          0.043667534781507956,
          0.05313149678041267,
          0.06749028506081933,
          0.09474624636161746,
          0.1217872071524238,
          0.1563805421929842,
          0.1989730898311828,
          0.2288899388548562,
          0.254906899209945,
          0.2811001686760224,
          0.306616330833981,
          0.32712861418737094,
          0.3365482012519617
         ],
         "line": {
          "color": "grey",
          "width": 0.25
         },
         "marker": {
          "color": "silver",
          "line": {
           "color": "black",
           "width": 0
          },
          "opacity": 0.9,
          "size": 6
         },
         "mode": "lines+text",
         "name": "ERI",
         "showlegend": false,
         "subplot": "ternary",
         "text": [
          "",
          "",
          "",
          "",
          "",
          "",
          "",
          "",
          "",
          "",
          "",
          "",
          "",
          "",
          ""
         ],
         "textfont": {
          "color": "black",
          "size": 3.2663838095300552
         },
         "type": "scatterternary"
        },
        {
         "a": [
          0.0736720037199237,
          0.16046186627800454,
          0.29907022935531385,
          0.29187584959359475,
          0.28048366031951144
         ],
         "b": [
          0.9179808559964668,
          0.8196964006181727,
          0.6572622358631781,
          0.6549926536259926,
          0.6520260546196693
         ],
         "c": [
          0.008347140283609788,
          0.019841733103822767,
          0.043667534781507956,
          0.05313149678041267,
          0.06749028506081933
         ],
         "line": {
          "color": "grey",
          "width": 0.25
         },
         "marker": {
          "color": "silver",
          "line": {
           "color": "black",
           "width": 0
          },
          "opacity": 0.9,
          "size": 6
         },
         "mode": "lines+text",
         "name": "ERI",
         "showlegend": false,
         "subplot": "ternary",
         "text": [
          "",
          "",
          "",
          "",
          "",
          "",
          "",
          "",
          "",
          "",
          "",
          "",
          "",
          "",
          ""
         ],
         "textfont": {
          "color": "black",
          "size": 3.2663838095300552
         },
         "type": "scatterternary"
        },
        {
         "a": [
          0.033180138687566016,
          0.03530858869670264,
          0.046626688449763525,
          0.03768286487933662,
          0.0411454262464449,
          0.06778935774772671,
          0.13001309133175998,
          0.266546240488498,
          0.4380175063267796,
          0.5446373335257094,
          0.5900832927987152,
          0.6040555005997067,
          0.6184894107814098,
          0.6290512592217169,
          0.6399085428290077
         ],
         "b": [
          0.9630840425883994,
          0.9600197843944549,
          0.9459524045265326,
          0.9550310578279977,
          0.9493031370084682,
          0.9135837985132125,
          0.8272800714812759,
          0.6335240711230848,
          0.37930595228893416,
          0.22188117916001657,
          0.16074180404634203,
          0.1449272718796141,
          0.12961384823869668,
          0.11837704480824192,
          0.11036078501888809
         ],
         "c": [
          0.0037358187240345837,
          0.004671626908842403,
          0.007420907023703807,
          0.0072860772926656965,
          0.009551436745086801,
          0.018626843739060848,
          0.04270683718696408,
          0.0999296883884172,
          0.1826765413842861,
          0.23348148731427384,
          0.24917490315494276,
          0.25101722752067923,
          0.25189674097989356,
          0.25257169597004103,
          0.24973067215210415
         ],
         "line": {
          "color": "grey",
          "width": 0.25
         },
         "marker": {
          "color": "silver",
          "line": {
           "color": "black",
           "width": 0
          },
          "opacity": 0.9,
          "size": 6
         },
         "mode": "lines+text",
         "name": "EST",
         "showlegend": false,
         "subplot": "ternary",
         "text": [
          "",
          "",
          "",
          "",
          "",
          "",
          "",
          "",
          "",
          "",
          "",
          "",
          "",
          "",
          ""
         ],
         "textfont": {
          "color": "black",
          "size": 2.534469080126887
         },
         "type": "scatterternary"
        },
        {
         "a": [
          0.033180138687566016,
          0.03530858869670264,
          0.046626688449763525,
          0.03768286487933662,
          0.0411454262464449
         ],
         "b": [
          0.9630840425883994,
          0.9600197843944549,
          0.9459524045265326,
          0.9550310578279977,
          0.9493031370084682
         ],
         "c": [
          0.0037358187240345837,
          0.004671626908842403,
          0.007420907023703807,
          0.0072860772926656965,
          0.009551436745086801
         ],
         "line": {
          "color": "grey",
          "width": 0.25
         },
         "marker": {
          "color": "silver",
          "line": {
           "color": "black",
           "width": 0
          },
          "opacity": 0.9,
          "size": 6
         },
         "mode": "lines+text",
         "name": "EST",
         "showlegend": false,
         "subplot": "ternary",
         "text": [
          "",
          "",
          "",
          "",
          "",
          "",
          "",
          "",
          "",
          "",
          "",
          "",
          "",
          "",
          ""
         ],
         "textfont": {
          "color": "black",
          "size": 2.534469080126887
         },
         "type": "scatterternary"
        },
        {
         "a": [
          0,
          0,
          0,
          0,
          0,
          0,
          0,
          0,
          0,
          0,
          0,
          0,
          0,
          0,
          0
         ],
         "b": [
          0,
          0,
          0,
          0,
          0,
          0,
          0,
          0,
          0,
          0,
          0,
          0,
          0,
          0,
          0
         ],
         "c": [
          0,
          0,
          0,
          0,
          0,
          0,
          0,
          0,
          0,
          0,
          0,
          0,
          0,
          0,
          0
         ],
         "line": {
          "color": "grey",
          "width": 0.25
         },
         "marker": {
          "color": "silver",
          "line": {
           "color": "black",
           "width": 0
          },
          "opacity": 0.9,
          "size": 6
         },
         "mode": "lines+text",
         "name": "SWZ",
         "showlegend": false,
         "subplot": "ternary",
         "text": [
          "",
          "",
          "",
          "",
          "",
          "",
          "",
          "",
          "",
          "",
          "",
          "",
          "",
          "",
          ""
         ],
         "textfont": {
          "color": "black",
          "size": 2.4602796873515365
         },
         "type": "scatterternary"
        },
        {
         "a": [
          0,
          0,
          0,
          0,
          0
         ],
         "b": [
          0,
          0,
          0,
          0,
          0
         ],
         "c": [
          0,
          0,
          0,
          0,
          0
         ],
         "line": {
          "color": "grey",
          "width": 0.25
         },
         "marker": {
          "color": "silver",
          "line": {
           "color": "black",
           "width": 0
          },
          "opacity": 0.9,
          "size": 6
         },
         "mode": "lines+text",
         "name": "SWZ",
         "showlegend": false,
         "subplot": "ternary",
         "text": [
          "",
          "",
          "",
          "",
          "",
          "",
          "",
          "",
          "",
          "",
          "",
          "",
          "",
          "",
          ""
         ],
         "textfont": {
          "color": "black",
          "size": 2.4602796873515365
         },
         "type": "scatterternary"
        },
        {
         "a": [
          0.08350824445936782,
          0.18425544453912213,
          0.3508524824919327,
          0.3641460235399664,
          0.36861879850179147,
          0.383603534000099,
          0.3667077423741498,
          0.329154752969235,
          0.28787623033397314,
          0.2668415371768791,
          0.2511202679479911,
          0.24610266897076816,
          0.24904981923325537,
          0.25660106164275964,
          0.2688006250933346
         ],
         "b": [
          0.9072446833802013,
          0.7931645024239797,
          0.5993386845996242,
          0.5709256955018408,
          0.5462757285544478,
          0.4957410681993968,
          0.4761271642632231,
          0.47810319019643954,
          0.48166831417077827,
          0.47497508394191473,
          0.4654483644939573,
          0.4482980236225646,
          0.42619364817981636,
          0.40432109814322775,
          0.3819443903326441
         ],
         "c": [
          0.009247072160430879,
          0.022580053036898435,
          0.049808832908442915,
          0.0649282809581927,
          0.08510547294376083,
          0.12065539780050408,
          0.15716509336262707,
          0.1927420568343254,
          0.23045545549524848,
          0.25818337888120607,
          0.2834313675580516,
          0.3055993074066673,
          0.3247565325869282,
          0.3390778402140126,
          0.3492549845740214
         ],
         "line": {
          "color": "grey",
          "width": 0.25
         },
         "marker": {
          "color": "silver",
          "line": {
           "color": "black",
           "width": 0
          },
          "opacity": 0.9,
          "size": 6
         },
         "mode": "lines+text",
         "name": "ETH",
         "showlegend": false,
         "subplot": "ternary",
         "text": [
          "",
          "",
          "",
          "",
          "",
          "",
          "",
          "",
          "",
          "",
          "",
          "",
          "",
          "",
          ""
         ],
         "textfont": {
          "color": "black",
          "size": 10.157501856395282
         },
         "type": "scatterternary"
        },
        {
         "a": [
          0.08350824445936782,
          0.18425544453912213,
          0.3508524824919327,
          0.3641460235399664,
          0.36861879850179147
         ],
         "b": [
          0.9072446833802013,
          0.7931645024239797,
          0.5993386845996242,
          0.5709256955018408,
          0.5462757285544478
         ],
         "c": [
          0.009247072160430879,
          0.022580053036898435,
          0.049808832908442915,
          0.0649282809581927,
          0.08510547294376083
         ],
         "line": {
          "color": "grey",
          "width": 0.25
         },
         "marker": {
          "color": "silver",
          "line": {
           "color": "black",
           "width": 0
          },
          "opacity": 0.9,
          "size": 6
         },
         "mode": "lines+text",
         "name": "ETH",
         "showlegend": false,
         "subplot": "ternary",
         "text": [
          "",
          "",
          "",
          "",
          "",
          "",
          "",
          "",
          "",
          "",
          "",
          "",
          "",
          "",
          ""
         ],
         "textfont": {
          "color": "black",
          "size": 10.157501856395282
         },
         "type": "scatterternary"
        },
        {
         "a": [
          0.0953758315200117,
          0.1734580341327029,
          0.2928445419319792,
          0.3118500268901626,
          0.3467125219044851,
          0.43150778183423477,
          0.5295710013231064,
          0.599778240189123,
          0.6250106407022975,
          0.6296345116801031,
          0.6243560616988053,
          0.6213787481932405,
          0.6180747857748223,
          0.6128111915452186,
          0.6052462817975934
         ],
         "b": [
          0.8941627761370247,
          0.8054561114609848,
          0.6657354301442491,
          0.6357786533899221,
          0.5835862998092569,
          0.46696457577399786,
          0.32541886899200534,
          0.21974884514634332,
          0.17216272193163631,
          0.16032685284852194,
          0.16428202440627943,
          0.16896102516895695,
          0.1748503612208363,
          0.18130072028665445,
          0.19113595419619184
         ],
         "c": [
          0.010461392342963675,
          0.021085854406312603,
          0.04142002792377159,
          0.05237131971991509,
          0.06970117828625783,
          0.1015276423917674,
          0.14501012968488827,
          0.1804729146645339,
          0.2028266373660664,
          0.21003863547137488,
          0.21136191389491518,
          0.20966022663780276,
          0.20707485300434122,
          0.20588808816812704,
          0.20361776400621473
         ],
         "line": {
          "color": "grey",
          "width": 0.25
         },
         "marker": {
          "color": "silver",
          "line": {
           "color": "black",
           "width": 0
          },
          "opacity": 0.9,
          "size": 6
         },
         "mode": "lines+text",
         "name": "FJI",
         "showlegend": false,
         "subplot": "ternary",
         "text": [
          "",
          "",
          "",
          "",
          "",
          "",
          "",
          "",
          "",
          "",
          "",
          "",
          "",
          "",
          ""
         ],
         "textfont": {
          "color": "black",
          "size": 2.323397645575395
         },
         "type": "scatterternary"
        },
        {
         "a": [
          0.0953758315200117,
          0.1734580341327029,
          0.2928445419319792,
          0.3118500268901626,
          0.3467125219044851
         ],
         "b": [
          0.8941627761370247,
          0.8054561114609848,
          0.6657354301442491,
          0.6357786533899221,
          0.5835862998092569
         ],
         "c": [
          0.010461392342963675,
          0.021085854406312603,
          0.04142002792377159,
          0.05237131971991509,
          0.06970117828625783
         ],
         "line": {
          "color": "grey",
          "width": 0.25
         },
         "marker": {
          "color": "silver",
          "line": {
           "color": "black",
           "width": 0
          },
          "opacity": 0.9,
          "size": 6
         },
         "mode": "lines+text",
         "name": "FJI",
         "showlegend": false,
         "subplot": "ternary",
         "text": [
          "",
          "",
          "",
          "",
          "",
          "",
          "",
          "",
          "",
          "",
          "",
          "",
          "",
          "",
          ""
         ],
         "textfont": {
          "color": "black",
          "size": 2.323397645575395
         },
         "type": "scatterternary"
        },
        {
         "a": [
          0.07830608292069777,
          0.08521860031439825,
          0.12370140259642617,
          0.11476717913888593,
          0.12630613692814668,
          0.17619329341400564,
          0.25974261886946487,
          0.34635348542201544,
          0.3642051406296512,
          0.3495103817470263,
          0.33884900255905365,
          0.33667096887044434,
          0.3480021254340897,
          0.36590608078628395,
          0.39911375406776
         ],
         "b": [
          0.9128733737283362,
          0.9035815344451436,
          0.8563634566853743,
          0.8621091097787469,
          0.8412265504468401,
          0.7685471645745515,
          0.6475938152737725,
          0.5165406646512183,
          0.47664552424465567,
          0.484868776163232,
          0.4871799200711878,
          0.46808949287903,
          0.44541217469424,
          0.41281734793956,
          0.36402529613405615
         ],
         "c": [
          0.008820543350966081,
          0.011199865240457971,
          0.01993514071819945,
          0.023123711082367077,
          0.03246731262501305,
          0.05525954201144279,
          0.09266356585676269,
          0.13710584992676633,
          0.1591493351256931,
          0.16562084208974154,
          0.17397107736975864,
          0.19523953825052554,
          0.20658569987167036,
          0.22127657127415618,
          0.236860949798184
         ],
         "line": {
          "color": "grey",
          "width": 0.25
         },
         "marker": {
          "color": "silver",
          "line": {
           "color": "black",
           "width": 0
          },
          "opacity": 0.9,
          "size": 6
         },
         "mode": "lines+text",
         "name": "FIN",
         "showlegend": false,
         "subplot": "ternary",
         "text": [
          "",
          "",
          "",
          "",
          "",
          "",
          "",
          "",
          "",
          "",
          "",
          "",
          "",
          "",
          ""
         ],
         "textfont": {
          "color": "black",
          "size": 3.713162868731785
         },
         "type": "scatterternary"
        },
        {
         "a": [
          0.07830608292069777,
          0.08521860031439825,
          0.12370140259642617,
          0.11476717913888593,
          0.12630613692814668
         ],
         "b": [
          0.9128733737283362,
          0.9035815344451436,
          0.8563634566853743,
          0.8621091097787469,
          0.8412265504468401
         ],
         "c": [
          0.008820543350966081,
          0.011199865240457971,
          0.01993514071819945,
          0.023123711082367077,
          0.03246731262501305
         ],
         "line": {
          "color": "grey",
          "width": 0.25
         },
         "marker": {
          "color": "silver",
          "line": {
           "color": "black",
           "width": 0
          },
          "opacity": 0.9,
          "size": 6
         },
         "mode": "lines+text",
         "name": "FIN",
         "showlegend": false,
         "subplot": "ternary",
         "text": [
          "",
          "",
          "",
          "",
          "",
          "",
          "",
          "",
          "",
          "",
          "",
          "",
          "",
          "",
          ""
         ],
         "textfont": {
          "color": "black",
          "size": 3.713162868731785
         },
         "type": "scatterternary"
        },
        {
         "a": [
          0.3779034150153464,
          0.4504640968796179,
          0.5338786260632314,
          0.5134137263211529,
          0.529804598241849,
          0.5803686260875704,
          0.6173649160595357,
          0.6357422496112693,
          0.6376710074990822,
          0.643044416648435,
          0.6504732455576454,
          0.6584440934996563,
          0.6684945729273841,
          0.6723731422461788,
          0.6760811768981578
         ],
         "b": [
          0.5800359842789498,
          0.49246146941364005,
          0.38615499711775747,
          0.39389948971292127,
          0.35423676675419535,
          0.2701550692024801,
          0.2002139593817759,
          0.1617256864041832,
          0.14507520284305042,
          0.13295916712075828,
          0.12061021678742077,
          0.10967827119064645,
          0.09877543424750655,
          0.09345726681009363,
          0.08984152239856562
         ],
         "c": [
          0.04206060070570377,
          0.057074433706742145,
          0.07996637681901113,
          0.09268678396592585,
          0.11595863500395574,
          0.1494763047099496,
          0.1824211245586885,
          0.2025320639845473,
          0.2172537896578674,
          0.22399641623080668,
          0.22891653765493375,
          0.23187763530969718,
          0.2327299928251093,
          0.23416959094372755,
          0.23407730070327654
         ],
         "line": {
          "color": "grey",
          "width": 0.25
         },
         "marker": {
          "color": "silver",
          "line": {
           "color": "black",
           "width": 0
          },
          "opacity": 0.9,
          "size": 6
         },
         "mode": "lines+text",
         "name": "FRA",
         "showlegend": false,
         "subplot": "ternary",
         "text": [
          "",
          "",
          "",
          "",
          "",
          "",
          "",
          "",
          "",
          "",
          "",
          "",
          "",
          "",
          ""
         ],
         "textfont": {
          "color": "black",
          "size": 8.248469653389904
         },
         "type": "scatterternary"
        },
        {
         "a": [
          0.3779034150153464,
          0.4504640968796179,
          0.5338786260632314,
          0.5134137263211529,
          0.529804598241849
         ],
         "b": [
          0.5800359842789498,
          0.49246146941364005,
          0.38615499711775747,
          0.39389948971292127,
          0.35423676675419535
         ],
         "c": [
          0.04206060070570377,
          0.057074433706742145,
          0.07996637681901113,
          0.09268678396592585,
          0.11595863500395574
         ],
         "line": {
          "color": "grey",
          "width": 0.25
         },
         "marker": {
          "color": "silver",
          "line": {
           "color": "black",
           "width": 0
          },
          "opacity": 0.9,
          "size": 6
         },
         "mode": "lines+text",
         "name": "FRA",
         "showlegend": false,
         "subplot": "ternary",
         "text": [
          "",
          "",
          "",
          "",
          "",
          "",
          "",
          "",
          "",
          "",
          "",
          "",
          "",
          "",
          ""
         ],
         "textfont": {
          "color": "black",
          "size": 8.248469653389904
         },
         "type": "scatterternary"
        },
        {
         "a": [
          0.0672510285432692,
          0.09696855120266082,
          0.15886818778020634,
          0.18302921077337828,
          0.2419596653106444,
          0.34831334670930436,
          0.45224180463338504,
          0.5120360636554209,
          0.536734959119537,
          0.5413754204258839,
          0.5343157820661063,
          0.5190880715037581,
          0.4942807992838731,
          0.4666939770038865,
          0.4487711434220688
         ],
         "b": [
          0.9237192118485342,
          0.8862310617901445,
          0.8081240158849651,
          0.776818065514464,
          0.6944851674535227,
          0.5435162050864224,
          0.38482247875849157,
          0.29195329780637364,
          0.24655586697896176,
          0.2367757987861776,
          0.24851991873087095,
          0.2730840126658963,
          0.306835785166939,
          0.33705217036116525,
          0.35844391981567714
         ],
         "c": [
          0.009029759608196703,
          0.01680038700719469,
          0.03300779633482838,
          0.040152723712157695,
          0.06355516723583306,
          0.10817044820427336,
          0.16293571660812342,
          0.19601063853820536,
          0.21670917390150143,
          0.2218487807879384,
          0.21716429920302283,
          0.2078279158303455,
          0.1988834155491881,
          0.19625385263494827,
          0.192784936762254
         ],
         "line": {
          "color": "grey",
          "width": 0.25
         },
         "marker": {
          "color": "silver",
          "line": {
           "color": "black",
           "width": 0
          },
          "opacity": 0.9,
          "size": 6
         },
         "mode": "lines+text",
         "name": "GAB",
         "showlegend": false,
         "subplot": "ternary",
         "text": [
          "",
          "",
          "",
          "",
          "",
          "",
          "",
          "",
          "",
          "",
          "",
          "",
          "",
          "",
          ""
         ],
         "textfont": {
          "color": "black",
          "size": 2.9001724424648145
         },
         "type": "scatterternary"
        },
        {
         "a": [
          0.0672510285432692,
          0.09696855120266082,
          0.15886818778020634,
          0.18302921077337828,
          0.2419596653106444
         ],
         "b": [
          0.9237192118485342,
          0.8862310617901445,
          0.8081240158849651,
          0.776818065514464,
          0.6944851674535227
         ],
         "c": [
          0.009029759608196703,
          0.01680038700719469,
          0.03300779633482838,
          0.040152723712157695,
          0.06355516723583306
         ],
         "line": {
          "color": "grey",
          "width": 0.25
         },
         "marker": {
          "color": "silver",
          "line": {
           "color": "black",
           "width": 0
          },
          "opacity": 0.9,
          "size": 6
         },
         "mode": "lines+text",
         "name": "GAB",
         "showlegend": false,
         "subplot": "ternary",
         "text": [
          "",
          "",
          "",
          "",
          "",
          "",
          "",
          "",
          "",
          "",
          "",
          "",
          "",
          "",
          ""
         ],
         "textfont": {
          "color": "black",
          "size": 2.9001724424648145
         },
         "type": "scatterternary"
        },
        {
         "a": [
          0.011872657257875993,
          0.024945271306464192,
          0.048009196134373586,
          0.051262552894445416,
          0.06529148868514086,
          0.10731923447696878,
          0.20120556974926956,
          0.36577063791691145,
          0.5174277493254396,
          0.5882786692438638,
          0.6089108346332378,
          0.6048764667144839,
          0.5955512611123184,
          0.5847891646845353,
          0.5783322905694455
         ],
         "b": [
          0.9868188284481048,
          0.9719965579460811,
          0.9451090924628417,
          0.93996803093077,
          0.921254964420206,
          0.8666897566989529,
          0.7418737147446858,
          0.5205918340327216,
          0.3089017851218589,
          0.20800539686916758,
          0.17538044222616253,
          0.17991516349613562,
          0.19049705255966687,
          0.2000387905137895,
          0.2061688427152622
         ],
         "c": [
          0.0013085142940192857,
          0.0030581707474547633,
          0.006881711402784633,
          0.008769416174784462,
          0.01345354689465292,
          0.025991008824078392,
          0.05692071550604473,
          0.11363752805036698,
          0.17367046555270144,
          0.2037159338869686,
          0.21570872314059958,
          0.2152083697893806,
          0.21395168632801473,
          0.2151720448016752,
          0.21549886671529236
         ],
         "line": {
          "color": "grey",
          "width": 0.25
         },
         "marker": {
          "color": "silver",
          "line": {
           "color": "black",
           "width": 0
          },
          "opacity": 0.9,
          "size": 6
         },
         "mode": "lines+text",
         "name": "GEO",
         "showlegend": false,
         "subplot": "ternary",
         "text": [
          "",
          "",
          "",
          "",
          "",
          "",
          "",
          "",
          "",
          "",
          "",
          "",
          "",
          "",
          ""
         ],
         "textfont": {
          "color": "black",
          "size": 3.328279660982005
         },
         "type": "scatterternary"
        },
        {
         "a": [
          0.011872657257875993,
          0.024945271306464192,
          0.048009196134373586,
          0.051262552894445416,
          0.06529148868514086
         ],
         "b": [
          0.9868188284481048,
          0.9719965579460811,
          0.9451090924628417,
          0.93996803093077,
          0.921254964420206
         ],
         "c": [
          0.0013085142940192857,
          0.0030581707474547633,
          0.006881711402784633,
          0.008769416174784462,
          0.01345354689465292
         ],
         "line": {
          "color": "grey",
          "width": 0.25
         },
         "marker": {
          "color": "silver",
          "line": {
           "color": "black",
           "width": 0
          },
          "opacity": 0.9,
          "size": 6
         },
         "mode": "lines+text",
         "name": "GEO",
         "showlegend": false,
         "subplot": "ternary",
         "text": [
          "",
          "",
          "",
          "",
          "",
          "",
          "",
          "",
          "",
          "",
          "",
          "",
          "",
          "",
          ""
         ],
         "textfont": {
          "color": "black",
          "size": 3.328279660982005
         },
         "type": "scatterternary"
        },
        {
         "a": [
          0.08012292231639202,
          0.09764556683498556,
          0.14779812100768439,
          0.14482264640456455,
          0.16463681178612394,
          0.2273972899026911,
          0.31931591973980555,
          0.3980155027724545,
          0.40829189529546117,
          0.3980475718660931,
          0.3939264187788257,
          0.3987088710434106,
          0.4174140269211246,
          0.4410865699535522,
          0.47701680711242866
         ],
         "b": [
          0.910904849940145,
          0.8896781522501479,
          0.8288576936464503,
          0.8266999823837362,
          0.794407123111945,
          0.7045339443457396,
          0.572982087385191,
          0.4546421277941514,
          0.42656315399202643,
          0.430619723156252,
          0.42668475936924555,
          0.4030828956901404,
          0.3742476491266773,
          0.3356822903097492,
          0.2866138704399222
         ],
         "c": [
          0.008972227743463125,
          0.012676280914866589,
          0.02334418534586527,
          0.028477371211699166,
          0.04095606510193099,
          0.0680687657515692,
          0.10770199287500355,
          0.14734236943339418,
          0.16514495071251242,
          0.17133270497765485,
          0.17938882185192873,
          0.198208233266449,
          0.20833832395219815,
          0.22323113973669856,
          0.23636932244764902
         ],
         "line": {
          "color": "grey",
          "width": 0.25
         },
         "marker": {
          "color": "silver",
          "line": {
           "color": "black",
           "width": 0
          },
          "opacity": 0.9,
          "size": 6
         },
         "mode": "lines+text",
         "name": "DEU",
         "showlegend": false,
         "subplot": "ternary",
         "text": [
          "",
          "",
          "",
          "",
          "",
          "",
          "",
          "",
          "",
          "",
          "",
          "",
          "",
          "",
          ""
         ],
         "textfont": {
          "color": "black",
          "size": 9.03020777180467
         },
         "type": "scatterternary"
        },
        {
         "a": [
          0.08012292231639202,
          0.09764556683498556,
          0.14779812100768439,
          0.14482264640456455,
          0.16463681178612394
         ],
         "b": [
          0.910904849940145,
          0.8896781522501479,
          0.8288576936464503,
          0.8266999823837362,
          0.794407123111945
         ],
         "c": [
          0.008972227743463125,
          0.012676280914866589,
          0.02334418534586527,
          0.028477371211699166,
          0.04095606510193099
         ],
         "line": {
          "color": "grey",
          "width": 0.25
         },
         "marker": {
          "color": "silver",
          "line": {
           "color": "black",
           "width": 0
          },
          "opacity": 0.9,
          "size": 6
         },
         "mode": "lines+text",
         "name": "DEU",
         "showlegend": false,
         "subplot": "ternary",
         "text": [
          "",
          "",
          "",
          "",
          "",
          "",
          "",
          "",
          "",
          "",
          "",
          "",
          "",
          "",
          ""
         ],
         "textfont": {
          "color": "black",
          "size": 9.03020777180467
         },
         "type": "scatterternary"
        },
        {
         "a": [
          0.04680331091332668,
          0.12416921885921532,
          0.2638015242283755,
          0.3022152304032573,
          0.3488821862629399,
          0.44968317264352503,
          0.5389860872633917,
          0.5780380896249643,
          0.5741873593886384,
          0.5655031913929087,
          0.5532835730403421,
          0.5532931249460804,
          0.5576684995744374,
          0.5602521717632996,
          0.5580205754917309
         ],
         "b": [
          0.9477447445161314,
          0.8601390268602728,
          0.6980720901394828,
          0.6477990248424484,
          0.5816408543129502,
          0.4438905827033824,
          0.3096067975085583,
          0.23921374201612025,
          0.2227774710971404,
          0.21616452710542888,
          0.212135070471136,
          0.19947611477926108,
          0.18437387479498113,
          0.1730824295619143,
          0.16341341367612894
         ],
         "c": [
          0.005451944570542119,
          0.015691754280512032,
          0.038126385632141685,
          0.04998574475429411,
          0.0694769594241101,
          0.10642624465309267,
          0.15140711522804995,
          0.18274816835891552,
          0.2030351695142214,
          0.21833228150166234,
          0.23458135648852196,
          0.2472307602746585,
          0.25795762563058144,
          0.26666539867478595,
          0.2785660108321401
         ],
         "line": {
          "color": "grey",
          "width": 0.25
         },
         "marker": {
          "color": "silver",
          "line": {
           "color": "black",
           "width": 0
          },
          "opacity": 0.9,
          "size": 6
         },
         "mode": "lines+text",
         "name": "GHA",
         "showlegend": false,
         "subplot": "ternary",
         "text": [
          "",
          "",
          "",
          "",
          "",
          "",
          "",
          "",
          "",
          "",
          "",
          "",
          "",
          "",
          ""
         ],
         "textfont": {
          "color": "black",
          "size": 6.467337986160495
         },
         "type": "scatterternary"
        },
        {
         "a": [
          0.04680331091332668,
          0.12416921885921532,
          0.2638015242283755,
          0.3022152304032573,
          0.3488821862629399
         ],
         "b": [
          0.9477447445161314,
          0.8601390268602728,
          0.6980720901394828,
          0.6477990248424484,
          0.5816408543129502
         ],
         "c": [
          0.005451944570542119,
          0.015691754280512032,
          0.038126385632141685,
          0.04998574475429411,
          0.0694769594241101
         ],
         "line": {
          "color": "grey",
          "width": 0.25
         },
         "marker": {
          "color": "silver",
          "line": {
           "color": "black",
           "width": 0
          },
          "opacity": 0.9,
          "size": 6
         },
         "mode": "lines+text",
         "name": "GHA",
         "showlegend": false,
         "subplot": "ternary",
         "text": [
          "",
          "",
          "",
          "",
          "",
          "",
          "",
          "",
          "",
          "",
          "",
          "",
          "",
          "",
          ""
         ],
         "textfont": {
          "color": "black",
          "size": 6.467337986160495
         },
         "type": "scatterternary"
        },
        {
         "a": [
          0.37401933319853586,
          0.4436863233605541,
          0.5416946100534198,
          0.5357968639890398,
          0.5525794605813106,
          0.5953604430142385,
          0.6252957397646361,
          0.6378740515861256,
          0.6345799258203315,
          0.6339750094757346,
          0.6364647565273656,
          0.638948524794092,
          0.6449539900513929,
          0.6455966993867561,
          0.6465980946903664
         ],
         "b": [
          0.5844630601485008,
          0.5001235380605377,
          0.3771756484309415,
          0.367463968672463,
          0.3262036270498643,
          0.2501764187634922,
          0.18715755586561122,
          0.15408443109294967,
          0.1422591326214448,
          0.13642761627353978,
          0.12955136018609636,
          0.12442751077554837,
          0.11835090291800934,
          0.11708318712099466,
          0.11773057308084103
         ],
         "c": [
          0.04151760665296322,
          0.05619013857890814,
          0.0811297415156387,
          0.09673916733849719,
          0.12121691236882494,
          0.15446313822226926,
          0.1875467043697526,
          0.20804151732092474,
          0.22316094155822366,
          0.22959737425072557,
          0.23398388328653807,
          0.23662396443035957,
          0.23669510703059776,
          0.23732011349224905,
          0.23567133222879247
         ],
         "line": {
          "color": "grey",
          "width": 0.25
         },
         "marker": {
          "color": "silver",
          "line": {
           "color": "black",
           "width": 0
          },
          "opacity": 0.9,
          "size": 6
         },
         "mode": "lines+text",
         "name": "GRC",
         "showlegend": false,
         "subplot": "ternary",
         "text": [
          "",
          "",
          "",
          "",
          "",
          "",
          "",
          "",
          "",
          "",
          "",
          "",
          "",
          "",
          ""
         ],
         "textfont": {
          "color": "black",
          "size": 4.513400202310181
         },
         "type": "scatterternary"
        },
        {
         "a": [
          0.37401933319853586,
          0.4436863233605541,
          0.5416946100534198,
          0.5357968639890398,
          0.5525794605813106
         ],
         "b": [
          0.5844630601485008,
          0.5001235380605377,
          0.3771756484309415,
          0.367463968672463,
          0.3262036270498643
         ],
         "c": [
          0.04151760665296322,
          0.05619013857890814,
          0.0811297415156387,
          0.09673916733849719,
          0.12121691236882494
         ],
         "line": {
          "color": "grey",
          "width": 0.25
         },
         "marker": {
          "color": "silver",
          "line": {
           "color": "black",
           "width": 0
          },
          "opacity": 0.9,
          "size": 6
         },
         "mode": "lines+text",
         "name": "GRC",
         "showlegend": false,
         "subplot": "ternary",
         "text": [
          "",
          "",
          "",
          "",
          "",
          "",
          "",
          "",
          "",
          "",
          "",
          "",
          "",
          "",
          ""
         ],
         "textfont": {
          "color": "black",
          "size": 4.513400202310181
         },
         "type": "scatterternary"
        },
        {
         "a": [
          0,
          0,
          0,
          0,
          0,
          0,
          0,
          0,
          0,
          0,
          0,
          0,
          0,
          0,
          0
         ],
         "b": [
          0,
          0,
          0,
          0,
          0,
          0,
          0,
          0,
          0,
          0,
          0,
          0,
          0,
          0,
          0
         ],
         "c": [
          0,
          0,
          0,
          0,
          0,
          0,
          0,
          0,
          0,
          0,
          0,
          0,
          0,
          0,
          0
         ],
         "line": {
          "color": "grey",
          "width": 0.25
         },
         "marker": {
          "color": "silver",
          "line": {
           "color": "black",
           "width": 0
          },
          "opacity": 0.9,
          "size": 6
         },
         "mode": "lines+text",
         "name": "GRD",
         "showlegend": false,
         "subplot": "ternary",
         "text": [
          "",
          "",
          "",
          "",
          "",
          "",
          "",
          "",
          "",
          "",
          "",
          "",
          "",
          "",
          ""
         ],
         "textfont": {
          "color": "black",
          "size": 1.5925507299474955
         },
         "type": "scatterternary"
        },
        {
         "a": [
          0,
          0,
          0,
          0,
          0
         ],
         "b": [
          0,
          0,
          0,
          0,
          0
         ],
         "c": [
          0,
          0,
          0,
          0,
          0
         ],
         "line": {
          "color": "grey",
          "width": 0.25
         },
         "marker": {
          "color": "silver",
          "line": {
           "color": "black",
           "width": 0
          },
          "opacity": 0.9,
          "size": 6
         },
         "mode": "lines+text",
         "name": "GRD",
         "showlegend": false,
         "subplot": "ternary",
         "text": [
          "",
          "",
          "",
          "",
          "",
          "",
          "",
          "",
          "",
          "",
          "",
          "",
          "",
          "",
          ""
         ],
         "textfont": {
          "color": "black",
          "size": 1.5925507299474955
         },
         "type": "scatterternary"
        },
        {
         "a": [
          0.3135021002254954,
          0.440991996472634,
          0.6117574954437643,
          0.6085983298483049,
          0.5991514765751366,
          0.6228362926910239,
          0.64339209382589,
          0.6611419775214797,
          0.6755717814240021,
          0.6919413347859683,
          0.7038677596559817,
          0.7013656995521085,
          0.6686991162607581,
          0.6286662813143512,
          0.5903523926739599
         ],
         "b": [
          0.6516398135155518,
          0.504705406352816,
          0.298435064571911,
          0.2822268239502358,
          0.2670666476641772,
          0.20937964540779577,
          0.1519123562037217,
          0.11038040980745806,
          0.0792569310373135,
          0.05701838232023205,
          0.04253744291543571,
          0.04316812071181615,
          0.06630207933378125,
          0.09629780742049686,
          0.11846084906439976
         ],
         "c": [
          0.034858086258952724,
          0.05430259717455,
          0.08980743998432471,
          0.10917484620145947,
          0.1337818757606863,
          0.1677840619011802,
          0.20469554997038822,
          0.22847761267106192,
          0.24517128753868453,
          0.25104028289379965,
          0.2535947974285825,
          0.2554661797360752,
          0.26499880440546075,
          0.27503591126515203,
          0.29118675826164037
         ],
         "line": {
          "color": "grey",
          "width": 0.25
         },
         "marker": {
          "color": "silver",
          "line": {
           "color": "black",
           "width": 0
          },
          "opacity": 0.9,
          "size": 6
         },
         "mode": "lines+text",
         "name": "GTM",
         "showlegend": false,
         "subplot": "ternary",
         "text": [
          "",
          "",
          "",
          "",
          "",
          "",
          "",
          "",
          "",
          "",
          "",
          "",
          "",
          "",
          ""
         ],
         "textfont": {
          "color": "black",
          "size": 5.276241383715424
         },
         "type": "scatterternary"
        },
        {
         "a": [
          0.3135021002254954,
          0.440991996472634,
          0.6117574954437643,
          0.6085983298483049,
          0.5991514765751366
         ],
         "b": [
          0.6516398135155518,
          0.504705406352816,
          0.298435064571911,
          0.2822268239502358,
          0.2670666476641772
         ],
         "c": [
          0.034858086258952724,
          0.05430259717455,
          0.08980743998432471,
          0.10917484620145947,
          0.1337818757606863
         ],
         "line": {
          "color": "grey",
          "width": 0.25
         },
         "marker": {
          "color": "silver",
          "line": {
           "color": "black",
           "width": 0
          },
          "opacity": 0.9,
          "size": 6
         },
         "mode": "lines+text",
         "name": "GTM",
         "showlegend": false,
         "subplot": "ternary",
         "text": [
          "",
          "",
          "",
          "",
          "",
          "",
          "",
          "",
          "",
          "",
          "",
          "",
          "",
          "",
          ""
         ],
         "textfont": {
          "color": "black",
          "size": 5.276241383715424
         },
         "type": "scatterternary"
        },
        {
         "a": [
          0.15352585887133394,
          0.27061182503166586,
          0.44658918518537283,
          0.4468538111230348,
          0.43308813886943126,
          0.42656739620315276,
          0.39166353872141607,
          0.3582650053307545,
          0.33513413513723406,
          0.33129902972374314,
          0.326957462543227,
          0.33180247791215983,
          0.3437092188079047,
          0.3509486691401383,
          0.3557017743108498
         ],
         "b": [
          0.8295832902311729,
          0.6964527526370594,
          0.4896849527621364,
          0.4756899536684951,
          0.47465963448187737,
          0.4573521747945487,
          0.4687848375672014,
          0.4801854287674015,
          0.47853137279156555,
          0.4534878365079767,
          0.4262048909836557,
          0.3917818812239685,
          0.3571844264391182,
          0.32982774107259216,
          0.31035824735840617
         ],
         "c": [
          0.016890850897493058,
          0.03293542233127458,
          0.06372586205249064,
          0.07745623520846995,
          0.09225222664869139,
          0.11608042900229865,
          0.13955162371138247,
          0.161549565901844,
          0.18633449207120062,
          0.21521313376828,
          0.2468376464731174,
          0.27641564086387166,
          0.299106354752977,
          0.3192235897872695,
          0.33393997833074407
         ],
         "line": {
          "color": "grey",
          "width": 0.25
         },
         "marker": {
          "color": "silver",
          "line": {
           "color": "black",
           "width": 0
          },
          "opacity": 0.9,
          "size": 6
         },
         "mode": "lines+text",
         "name": "GIN",
         "showlegend": false,
         "subplot": "ternary",
         "text": [
          "",
          "",
          "",
          "",
          "",
          "",
          "",
          "",
          "",
          "",
          "",
          "",
          "",
          "",
          ""
         ],
         "textfont": {
          "color": "black",
          "size": 4.825326173400727
         },
         "type": "scatterternary"
        },
        {
         "a": [
          0.15352585887133394,
          0.27061182503166586,
          0.44658918518537283,
          0.4468538111230348,
          0.43308813886943126
         ],
         "b": [
          0.8295832902311729,
          0.6964527526370594,
          0.4896849527621364,
          0.4756899536684951,
          0.47465963448187737
         ],
         "c": [
          0.016890850897493058,
          0.03293542233127458,
          0.06372586205249064,
          0.07745623520846995,
          0.09225222664869139
         ],
         "line": {
          "color": "grey",
          "width": 0.25
         },
         "marker": {
          "color": "silver",
          "line": {
           "color": "black",
           "width": 0
          },
          "opacity": 0.9,
          "size": 6
         },
         "mode": "lines+text",
         "name": "GIN",
         "showlegend": false,
         "subplot": "ternary",
         "text": [
          "",
          "",
          "",
          "",
          "",
          "",
          "",
          "",
          "",
          "",
          "",
          "",
          "",
          "",
          ""
         ],
         "textfont": {
          "color": "black",
          "size": 4.825326173400727
         },
         "type": "scatterternary"
        },
        {
         "a": [
          0.07969275726530338,
          0.17654307429504737,
          0.3368376529788291,
          0.3663526455727377,
          0.38224047055243615,
          0.4113254640236433,
          0.38451153315860886,
          0.33185358915857255,
          0.2830862528424172,
          0.2567941273352471,
          0.23226990399908554,
          0.2203269100321782,
          0.21325172417978655,
          0.20736196453962602,
          0.20564433778992652
         ],
         "b": [
          0.9116445808213035,
          0.8025840576562847,
          0.6170111564695168,
          0.5734467699434092,
          0.542152663959656,
          0.4880427041169828,
          0.4941134622210707,
          0.5316218968703682,
          0.5645542169681836,
          0.569990473024297,
          0.5669456988985707,
          0.5479194304804,
          0.5284843748372866,
          0.5078952485746367,
          0.48710067789697986
         ],
         "c": [
          0.008662661913393047,
          0.020872868048668138,
          0.04615119055165404,
          0.06020058448385306,
          0.07560686548790797,
          0.10063183185937359,
          0.12137500462032044,
          0.13652451397105914,
          0.15235953018939927,
          0.17321539964045593,
          0.2007843971023438,
          0.23175365948742183,
          0.25826390098292684,
          0.28474278688573734,
          0.30725498431309356
         ],
         "line": {
          "color": "grey",
          "width": 0.25
         },
         "marker": {
          "color": "silver",
          "line": {
           "color": "black",
           "width": 0
          },
          "opacity": 0.9,
          "size": 6
         },
         "mode": "lines+text",
         "name": "GNB",
         "showlegend": false,
         "subplot": "ternary",
         "text": [
          "",
          "",
          "",
          "",
          "",
          "",
          "",
          "",
          "",
          "",
          "",
          "",
          "",
          "",
          ""
         ],
         "textfont": {
          "color": "black",
          "size": 2.8045357728429194
         },
         "type": "scatterternary"
        },
        {
         "a": [
          0.07969275726530338,
          0.17654307429504737,
          0.3368376529788291,
          0.3663526455727377,
          0.38224047055243615
         ],
         "b": [
          0.9116445808213035,
          0.8025840576562847,
          0.6170111564695168,
          0.5734467699434092,
          0.542152663959656
         ],
         "c": [
          0.008662661913393047,
          0.020872868048668138,
          0.04615119055165404,
          0.06020058448385306,
          0.07560686548790797
         ],
         "line": {
          "color": "grey",
          "width": 0.25
         },
         "marker": {
          "color": "silver",
          "line": {
           "color": "black",
           "width": 0
          },
          "opacity": 0.9,
          "size": 6
         },
         "mode": "lines+text",
         "name": "GNB",
         "showlegend": false,
         "subplot": "ternary",
         "text": [
          "",
          "",
          "",
          "",
          "",
          "",
          "",
          "",
          "",
          "",
          "",
          "",
          "",
          "",
          ""
         ],
         "textfont": {
          "color": "black",
          "size": 2.8045357728429194
         },
         "type": "scatterternary"
        },
        {
         "a": [
          0.09218478684874444,
          0.12439541290738451,
          0.16375050783127104,
          0.13139283229262086,
          0.11393137620274138,
          0.10798744750446705,
          0.09207586055046804,
          0.07812801423631138,
          0.06659818587726092,
          0.06250747909791295,
          0.061288721438852986,
          0.0612059565893687,
          0.06153706487623149,
          0.06033071621052728,
          0.06225438593203324
         ],
         "b": [
          0.8969933570060549,
          0.8583425077141109,
          0.8092149472700678,
          0.8415280336371138,
          0.851145249147283,
          0.8409484394018372,
          0.830549905052289,
          0.8021605304451825,
          0.7709087235931111,
          0.7520608399810155,
          0.7388563453033267,
          0.7172784186553353,
          0.6884325899566276,
          0.6392515349667477,
          0.6020039979535895
         ],
         "c": [
          0.010821856145200771,
          0.01726207937850453,
          0.027034544898661174,
          0.027079134070265427,
          0.03492337464997573,
          0.05106411309369575,
          0.07737423439724288,
          0.11971145531850587,
          0.16249309052962793,
          0.18543168092107168,
          0.19985493325782022,
          0.221515624755296,
          0.2500303451671409,
          0.30041774882272493,
          0.33574161611437725
         ],
         "line": {
          "color": "grey",
          "width": 0.25
         },
         "marker": {
          "color": "silver",
          "line": {
           "color": "black",
           "width": 0
          },
          "opacity": 0.9,
          "size": 6
         },
         "mode": "lines+text",
         "name": "GUY",
         "showlegend": false,
         "subplot": "ternary",
         "text": [
          "",
          "",
          "",
          "",
          "",
          "",
          "",
          "",
          "",
          "",
          "",
          "",
          "",
          "",
          ""
         ],
         "textfont": {
          "color": "black",
          "size": 2.247361474191627
         },
         "type": "scatterternary"
        },
        {
         "a": [
          0.09218478684874444,
          0.12439541290738451,
          0.16375050783127104,
          0.13139283229262086,
          0.11393137620274138
         ],
         "b": [
          0.8969933570060549,
          0.8583425077141109,
          0.8092149472700678,
          0.8415280336371138,
          0.851145249147283
         ],
         "c": [
          0.010821856145200771,
          0.01726207937850453,
          0.027034544898661174,
          0.027079134070265427,
          0.03492337464997573
         ],
         "line": {
          "color": "grey",
          "width": 0.25
         },
         "marker": {
          "color": "silver",
          "line": {
           "color": "black",
           "width": 0
          },
          "opacity": 0.9,
          "size": 6
         },
         "mode": "lines+text",
         "name": "GUY",
         "showlegend": false,
         "subplot": "ternary",
         "text": [
          "",
          "",
          "",
          "",
          "",
          "",
          "",
          "",
          "",
          "",
          "",
          "",
          "",
          "",
          ""
         ],
         "textfont": {
          "color": "black",
          "size": 2.247361474191627
         },
         "type": "scatterternary"
        },
        {
         "a": [
          0.025652856768832343,
          0.07415127320203278,
          0.1642812127184668,
          0.1851484621432414,
          0.22018135266626368,
          0.3095928665192766,
          0.42404729559675725,
          0.504213678613848,
          0.5232683637330258,
          0.5158316843227829,
          0.4938816677390251,
          0.480617260003649,
          0.471685017217393,
          0.4613964683867646,
          0.4571721789025423
         ],
         "b": [
          0.9715614040397028,
          0.9171103472933743,
          0.8130424688708158,
          0.7832023464559638,
          0.7317801007248074,
          0.6078858833864402,
          0.437948138274136,
          0.3023874362477941,
          0.25402217104291186,
          0.25083028128993806,
          0.26688767547722214,
          0.2758466976244019,
          0.27667969822506205,
          0.2794827385352284,
          0.27967892150426304
         ],
         "c": [
          0.0027857391914648815,
          0.008738379504592893,
          0.022676318410717333,
          0.03164919140079493,
          0.048038546608928846,
          0.08252125009428335,
          0.13800456612910683,
          0.19339888513835776,
          0.2227094652240624,
          0.23333803438727901,
          0.2392306567837525,
          0.24353604237194912,
          0.251635284557545,
          0.25912079307800695,
          0.26314889959319465
         ],
         "line": {
          "color": "grey",
          "width": 0.25
         },
         "marker": {
          "color": "silver",
          "line": {
           "color": "black",
           "width": 0
          },
          "opacity": 0.9,
          "size": 6
         },
         "mode": "lines+text",
         "name": "HTI",
         "showlegend": false,
         "subplot": "ternary",
         "text": [
          "",
          "",
          "",
          "",
          "",
          "",
          "",
          "",
          "",
          "",
          "",
          "",
          "",
          "",
          ""
         ],
         "textfont": {
          "color": "black",
          "size": 4.60377635612377
         },
         "type": "scatterternary"
        },
        {
         "a": [
          0.025652856768832343,
          0.07415127320203278,
          0.1642812127184668,
          0.1851484621432414,
          0.22018135266626368
         ],
         "b": [
          0.9715614040397028,
          0.9171103472933743,
          0.8130424688708158,
          0.7832023464559638,
          0.7317801007248074
         ],
         "c": [
          0.0027857391914648815,
          0.008738379504592893,
          0.022676318410717333,
          0.03164919140079493,
          0.048038546608928846
         ],
         "line": {
          "color": "grey",
          "width": 0.25
         },
         "marker": {
          "color": "silver",
          "line": {
           "color": "black",
           "width": 0
          },
          "opacity": 0.9,
          "size": 6
         },
         "mode": "lines+text",
         "name": "HTI",
         "showlegend": false,
         "subplot": "ternary",
         "text": [
          "",
          "",
          "",
          "",
          "",
          "",
          "",
          "",
          "",
          "",
          "",
          "",
          "",
          "",
          ""
         ],
         "textfont": {
          "color": "black",
          "size": 4.60377635612377
         },
         "type": "scatterternary"
        },
        {
         "a": [
          0,
          0,
          0,
          0,
          0,
          0,
          0,
          0,
          0,
          0,
          0,
          0,
          0,
          0,
          0
         ],
         "b": [
          0,
          0,
          0,
          0,
          0,
          0,
          0,
          0,
          0,
          0,
          0,
          0,
          0,
          0,
          0
         ],
         "c": [
          0,
          0,
          0,
          0,
          0,
          0,
          0,
          0,
          0,
          0,
          0,
          0,
          0,
          0,
          0
         ],
         "line": {
          "color": "grey",
          "width": 0.25
         },
         "marker": {
          "color": "silver",
          "line": {
           "color": "black",
           "width": 0
          },
          "opacity": 0.9,
          "size": 6
         },
         "mode": "lines+text",
         "name": "VAT",
         "showlegend": false,
         "subplot": "ternary",
         "text": [
          "",
          "",
          "",
          "",
          "",
          "",
          "",
          "",
          "",
          "",
          "",
          "",
          "",
          "",
          ""
         ],
         "textfont": {
          "color": "black",
          "size": 2.3694187025678044
         },
         "type": "scatterternary"
        },
        {
         "a": [
          0,
          0,
          0,
          0,
          0
         ],
         "b": [
          0,
          0,
          0,
          0,
          0
         ],
         "c": [
          0,
          0,
          0,
          0,
          0
         ],
         "line": {
          "color": "grey",
          "width": 0.25
         },
         "marker": {
          "color": "silver",
          "line": {
           "color": "black",
           "width": 0
          },
          "opacity": 0.9,
          "size": 6
         },
         "mode": "lines+text",
         "name": "VAT",
         "showlegend": false,
         "subplot": "ternary",
         "text": [
          "",
          "",
          "",
          "",
          "",
          "",
          "",
          "",
          "",
          "",
          "",
          "",
          "",
          "",
          ""
         ],
         "textfont": {
          "color": "black",
          "size": 2.3694187025678044
         },
         "type": "scatterternary"
        },
        {
         "a": [
          0.25395528857503336,
          0.37407040757832705,
          0.5352676160835645,
          0.5317481585144112,
          0.5208032057914302,
          0.5434857272793812,
          0.5522962796524767,
          0.5455284721097998,
          0.5448046144824827,
          0.5535972677280616,
          0.5616754370352728,
          0.5779514668394397,
          0.5977950724519934,
          0.6092350086233563,
          0.6195118080700764
         ],
         "b": [
          0.7179687882671184,
          0.5801001943000088,
          0.38580867592546625,
          0.36469387797445074,
          0.3412637741018294,
          0.27780650873988716,
          0.22686601620787525,
          0.20230692712012074,
          0.18834275459922709,
          0.17166413735100058,
          0.15625816905946405,
          0.13830425085466563,
          0.11270772203182435,
          0.10144305110937331,
          0.0921187162363054
         ],
         "c": [
          0.028075923157848386,
          0.04582939812166415,
          0.07892370799096925,
          0.10355796351113816,
          0.13793302010674033,
          0.1787077639807317,
          0.22083770413964776,
          0.25216460077007935,
          0.2668526309182901,
          0.2747385949209379,
          0.2820663939052633,
          0.28374428230589466,
          0.2894972055161823,
          0.2893219402672704,
          0.2883694756936181
         ],
         "line": {
          "color": "grey",
          "width": 0.25
         },
         "marker": {
          "color": "silver",
          "line": {
           "color": "black",
           "width": 0
          },
          "opacity": 0.9,
          "size": 6
         },
         "mode": "lines+text",
         "name": "HND",
         "showlegend": false,
         "subplot": "ternary",
         "text": [
          "",
          "",
          "",
          "",
          "",
          "",
          "",
          "",
          "",
          "",
          "",
          "",
          "",
          "",
          ""
         ],
         "textfont": {
          "color": "black",
          "size": 4.445566114756828
         },
         "type": "scatterternary"
        },
        {
         "a": [
          0.25395528857503336,
          0.37407040757832705,
          0.5352676160835645,
          0.5317481585144112,
          0.5208032057914302
         ],
         "b": [
          0.7179687882671184,
          0.5801001943000088,
          0.38580867592546625,
          0.36469387797445074,
          0.3412637741018294
         ],
         "c": [
          0.028075923157848386,
          0.04582939812166415,
          0.07892370799096925,
          0.10355796351113816,
          0.13793302010674033
         ],
         "line": {
          "color": "grey",
          "width": 0.25
         },
         "marker": {
          "color": "silver",
          "line": {
           "color": "black",
           "width": 0
          },
          "opacity": 0.9,
          "size": 6
         },
         "mode": "lines+text",
         "name": "HND",
         "showlegend": false,
         "subplot": "ternary",
         "text": [
          "",
          "",
          "",
          "",
          "",
          "",
          "",
          "",
          "",
          "",
          "",
          "",
          "",
          "",
          ""
         ],
         "textfont": {
          "color": "black",
          "size": 4.445566114756828
         },
         "type": "scatterternary"
        },
        {
         "a": [
          0.5855925404673228,
          0.5992063830619901,
          0.6334043519221402,
          0.6114671998858612,
          0.5966293618593259,
          0.5892898643967773,
          0.5733864815284213,
          0.5627826035321486,
          0.5545103878918564,
          0.5616616034947279,
          0.5763813234045713,
          0.5926696905982451,
          0.6086799431405243,
          0.6191010850469549,
          0.6297195635246648
         ],
         "b": [
          0.349098284244461,
          0.32452966948492634,
          0.2709787595974306,
          0.2767168975160609,
          0.2698803257176715,
          0.25493362344527276,
          0.25063122863239223,
          0.24574845806288498,
          0.23998099723841468,
          0.2218467356781359,
          0.19851546056627478,
          0.17669199466472044,
          0.1570754811793386,
          0.1417459643212022,
          0.12817857665100588
         ],
         "c": [
          0.06530917528821632,
          0.07626394745308346,
          0.0956168884804293,
          0.11181590259807783,
          0.13349031242300263,
          0.15577651215794977,
          0.1759822898391864,
          0.1914689384049664,
          0.20550861486972893,
          0.21649166082713633,
          0.22510321602915404,
          0.23063831473703453,
          0.23424457568013696,
          0.23915295063184286,
          0.2421018598243293
         ],
         "line": {
          "color": "grey",
          "width": 0.25
         },
         "marker": {
          "color": "silver",
          "line": {
           "color": "black",
           "width": 0
          },
          "opacity": 0.9,
          "size": 6
         },
         "mode": "lines+text",
         "name": "HUN",
         "showlegend": false,
         "subplot": "ternary",
         "text": [
          "",
          "",
          "",
          "",
          "",
          "",
          "",
          "",
          "",
          "",
          "",
          "",
          "",
          "",
          ""
         ],
         "textfont": {
          "color": "black",
          "size": 4.407973957354095
         },
         "type": "scatterternary"
        },
        {
         "a": [
          0.5855925404673228,
          0.5992063830619901,
          0.6334043519221402,
          0.6114671998858612,
          0.5966293618593259
         ],
         "b": [
          0.349098284244461,
          0.32452966948492634,
          0.2709787595974306,
          0.2767168975160609,
          0.2698803257176715
         ],
         "c": [
          0.06530917528821632,
          0.07626394745308346,
          0.0956168884804293,
          0.11181590259807783,
          0.13349031242300263
         ],
         "line": {
          "color": "grey",
          "width": 0.25
         },
         "marker": {
          "color": "silver",
          "line": {
           "color": "black",
           "width": 0
          },
          "opacity": 0.9,
          "size": 6
         },
         "mode": "lines+text",
         "name": "HUN",
         "showlegend": false,
         "subplot": "ternary",
         "text": [
          "",
          "",
          "",
          "",
          "",
          "",
          "",
          "",
          "",
          "",
          "",
          "",
          "",
          "",
          ""
         ],
         "textfont": {
          "color": "black",
          "size": 4.407973957354095
         },
         "type": "scatterternary"
        },
        {
         "a": [
          0.12050862138971431,
          0.12818339926190742,
          0.17337672396954826,
          0.152358416601584,
          0.15718091181846658,
          0.2049547827255171,
          0.27509258740427095,
          0.33443757701215565,
          0.3400506596667886,
          0.3289555067987675,
          0.3281743892834728,
          0.33912243622368,
          0.36360746247182535,
          0.39645488737111106,
          0.4445277855691452
         ],
         "b": [
          0.8658738099821947,
          0.8549319133822451,
          0.7982651102173807,
          0.8155527231247349,
          0.7985643469749968,
          0.7225479101969988,
          0.6157168738338293,
          0.5242821249797933,
          0.5050049761681645,
          0.5099102331757962,
          0.49874965065945087,
          0.4635102040734577,
          0.4249265613773724,
          0.3768570860876201,
          0.31096065284066926
         ],
         "c": [
          0.013617568628090937,
          0.016884687355847527,
          0.028358165813070827,
          0.032088860273681,
          0.044254741206536705,
          0.07249730707748421,
          0.10919053876189976,
          0.14128029800805117,
          0.1549443641650469,
          0.16113426002543607,
          0.17307596005707634,
          0.19736735970286223,
          0.21146597615080223,
          0.2266880265412688,
          0.2445115615901856
         ],
         "line": {
          "color": "grey",
          "width": 0.25
         },
         "marker": {
          "color": "silver",
          "line": {
           "color": "black",
           "width": 0
          },
          "opacity": 0.9,
          "size": 6
         },
         "mode": "lines+text",
         "name": "ISL",
         "showlegend": false,
         "subplot": "ternary",
         "text": [
          "",
          "",
          "",
          "",
          "",
          "",
          "",
          "",
          "",
          "",
          "",
          "",
          "",
          "",
          ""
         ],
         "textfont": {
          "color": "black",
          "size": 1.914395812190425
         },
         "type": "scatterternary"
        },
        {
         "a": [
          0.12050862138971431,
          0.12818339926190742,
          0.17337672396954826,
          0.152358416601584,
          0.15718091181846658
         ],
         "b": [
          0.8658738099821947,
          0.8549319133822451,
          0.7982651102173807,
          0.8155527231247349,
          0.7985643469749968
         ],
         "c": [
          0.013617568628090937,
          0.016884687355847527,
          0.028358165813070827,
          0.032088860273681,
          0.044254741206536705
         ],
         "line": {
          "color": "grey",
          "width": 0.25
         },
         "marker": {
          "color": "silver",
          "line": {
           "color": "black",
           "width": 0
          },
          "opacity": 0.9,
          "size": 6
         },
         "mode": "lines+text",
         "name": "ISL",
         "showlegend": false,
         "subplot": "ternary",
         "text": [
          "",
          "",
          "",
          "",
          "",
          "",
          "",
          "",
          "",
          "",
          "",
          "",
          "",
          "",
          ""
         ],
         "textfont": {
          "color": "black",
          "size": 1.914395812190425
         },
         "type": "scatterternary"
        },
        {
         "a": [
          0.05137041766056778,
          0.11020937462061375,
          0.21583964773835698,
          0.2302835937013748,
          0.27070864897779523,
          0.37642389018920824,
          0.5197280094827509,
          0.6437742442090073,
          0.6995307213281637,
          0.7213469288064054,
          0.7295233079478111,
          0.7347098826857135,
          0.7358076305281827,
          0.7337877807562097,
          0.7308265917476242
         ],
         "b": [
          0.9429438944577039,
          0.8762912394773061,
          0.7532433397254505,
          0.7299427242686236,
          0.67219195865675,
          0.5287950629830003,
          0.32746191330484314,
          0.15132525438330782,
          0.06402896682429966,
          0.032046913187561386,
          0.02082048378684169,
          0.016502947693213265,
          0.017433271125926176,
          0.018507561057883426,
          0.02163986095639084
         ],
         "c": [
          0.005685687881728023,
          0.013499385902079896,
          0.030917012536192473,
          0.0397736820300016,
          0.05709939236545461,
          0.0947810468277913,
          0.152810077212406,
          0.20490050140768493,
          0.23644031184753664,
          0.24660615800603325,
          0.24965620826534712,
          0.24878716962107333,
          0.24675909834589116,
          0.24770465818590673,
          0.24753354729598503
         ],
         "line": {
          "color": "grey",
          "width": 0.25
         },
         "marker": {
          "color": "orange",
          "line": {
           "color": "black",
           "width": 0
          },
          "opacity": 0.9,
          "size": 6
         },
         "mode": "lines+text",
         "name": "IND",
         "showlegend": false,
         "subplot": "ternary",
         "text": [
          "",
          "",
          "",
          "",
          "",
          "",
          "",
          "",
          "",
          "",
          "",
          "",
          "",
          "",
          ""
         ],
         "textfont": {
          "color": "black",
          "size": 25.759277930378307
         },
         "type": "scatterternary"
        },
        {
         "a": [
          0.05137041766056778,
          0.11020937462061375,
          0.21583964773835698,
          0.2302835937013748,
          0.27070864897779523
         ],
         "b": [
          0.9429438944577039,
          0.8762912394773061,
          0.7532433397254505,
          0.7299427242686236,
          0.67219195865675
         ],
         "c": [
          0.005685687881728023,
          0.013499385902079896,
          0.030917012536192473,
          0.0397736820300016,
          0.05709939236545461
         ],
         "line": {
          "color": "grey",
          "width": 0.25
         },
         "marker": {
          "color": "orange",
          "line": {
           "color": "black",
           "width": 0
          },
          "opacity": 0.9,
          "size": 6
         },
         "mode": "lines+text",
         "name": "IND",
         "showlegend": false,
         "subplot": "ternary",
         "text": [
          "",
          "",
          "",
          "",
          "",
          "",
          "",
          "",
          "",
          "",
          "",
          "",
          "",
          "",
          ""
         ],
         "textfont": {
          "color": "black",
          "size": 25.759277930378307
         },
         "type": "scatterternary"
        },
        {
         "a": [
          0.7436543348677204,
          0.7020150490936465,
          0.7179167349435572,
          0.7109208674296089,
          0.704950296732734,
          0.6970405906829117,
          0.67367168935737,
          0.6604267476257102,
          0.6469398738575657,
          0.6464431064600435,
          0.6557031031783019,
          0.6649174594187425,
          0.6620718577449205,
          0.6579359918871446,
          0.6542723905607799
         ],
         "b": [
          0.17159098134478257,
          0.20056428228697828,
          0.1636269406652896,
          0.1407855637170506,
          0.11234550106581216,
          0.08780206745638394,
          0.07860148778716779,
          0.08094068844402276,
          0.08742059525621329,
          0.09104436252995629,
          0.09012959579555396,
          0.08825631447556485,
          0.09432705174878123,
          0.0963398673971648,
          0.09453716653228607
         ],
         "c": [
          0.08475468378749691,
          0.0974206686193751,
          0.11845632439115307,
          0.14829356885334047,
          0.18270420220145356,
          0.21515734186070462,
          0.247726822855462,
          0.258632563930267,
          0.26563953088622094,
          0.26251253100999994,
          0.25416730102614415,
          0.24682622610569258,
          0.24360109050629825,
          0.24572414071569076,
          0.2511904429069342
         ],
         "line": {
          "color": "grey",
          "width": 0.25
         },
         "marker": {
          "color": "silver",
          "line": {
           "color": "black",
           "width": 0
          },
          "opacity": 0.9,
          "size": 6
         },
         "mode": "lines+text",
         "name": "IDN",
         "showlegend": false,
         "subplot": "ternary",
         "text": [
          "",
          "",
          "",
          "",
          "",
          "",
          "",
          "",
          "",
          "",
          "",
          "",
          "",
          "",
          ""
         ],
         "textfont": {
          "color": "black",
          "size": 13.87100023529632
         },
         "type": "scatterternary"
        },
        {
         "a": [
          0.7436543348677204,
          0.7020150490936465,
          0.7179167349435572,
          0.7109208674296089,
          0.704950296732734
         ],
         "b": [
          0.17159098134478257,
          0.20056428228697828,
          0.1636269406652896,
          0.1407855637170506,
          0.11234550106581216
         ],
         "c": [
          0.08475468378749691,
          0.0974206686193751,
          0.11845632439115307,
          0.14829356885334047,
          0.18270420220145356
         ],
         "line": {
          "color": "grey",
          "width": 0.25
         },
         "marker": {
          "color": "silver",
          "line": {
           "color": "black",
           "width": 0
          },
          "opacity": 0.9,
          "size": 6
         },
         "mode": "lines+text",
         "name": "IDN",
         "showlegend": false,
         "subplot": "ternary",
         "text": [
          "",
          "",
          "",
          "",
          "",
          "",
          "",
          "",
          "",
          "",
          "",
          "",
          "",
          "",
          ""
         ],
         "textfont": {
          "color": "black",
          "size": 13.87100023529632
         },
         "type": "scatterternary"
        },
        {
         "a": [
          0.586913649671293,
          0.5489783363834936,
          0.5799992393301582,
          0.5564213813092166,
          0.5464001192482291,
          0.5756445647716798,
          0.6084473193271275,
          0.6348251349558125,
          0.6504787160347595,
          0.6622984564157935,
          0.6743445562808763,
          0.6840778119841149,
          0.6920189343761649,
          0.6896540879223562,
          0.6826738449337244
         ],
         "b": [
          0.3462425804591503,
          0.3769598480662327,
          0.3271583165982504,
          0.3341230883742675,
          0.3251583830683478,
          0.26919739162542705,
          0.20528150302064038,
          0.1589118177693502,
          0.12771982422687517,
          0.10862533806701362,
          0.09046421400903656,
          0.07835861029719524,
          0.06846513702551639,
          0.06917277504293597,
          0.07575937972210171
         ],
         "c": [
          0.06684376986955687,
          0.07406181555027364,
          0.09284244407159128,
          0.10945553031651604,
          0.12844149768342322,
          0.15515804360289323,
          0.18627117765223208,
          0.20626304727483724,
          0.22180145973836538,
          0.22907620551719277,
          0.2351912297100873,
          0.23756357771868986,
          0.23951592859831863,
          0.2411731370347078,
          0.2415667753441739
         ],
         "line": {
          "color": "grey",
          "width": 0.25
         },
         "marker": {
          "color": "silver",
          "line": {
           "color": "black",
           "width": 0
          },
          "opacity": 0.9,
          "size": 6
         },
         "mode": "lines+text",
         "name": "IRN",
         "showlegend": false,
         "subplot": "ternary",
         "text": [
          "",
          "",
          "",
          "",
          "",
          "",
          "",
          "",
          "",
          "",
          "",
          "",
          "",
          "",
          ""
         ],
         "textfont": {
          "color": "black",
          "size": 9.171923806825387
         },
         "type": "scatterternary"
        },
        {
         "a": [
          0.586913649671293,
          0.5489783363834936,
          0.5799992393301582,
          0.5564213813092166,
          0.5464001192482291
         ],
         "b": [
          0.3462425804591503,
          0.3769598480662327,
          0.3271583165982504,
          0.3341230883742675,
          0.3251583830683478
         ],
         "c": [
          0.06684376986955687,
          0.07406181555027364,
          0.09284244407159128,
          0.10945553031651604,
          0.12844149768342322
         ],
         "line": {
          "color": "grey",
          "width": 0.25
         },
         "marker": {
          "color": "silver",
          "line": {
           "color": "black",
           "width": 0
          },
          "opacity": 0.9,
          "size": 6
         },
         "mode": "lines+text",
         "name": "IRN",
         "showlegend": false,
         "subplot": "ternary",
         "text": [
          "",
          "",
          "",
          "",
          "",
          "",
          "",
          "",
          "",
          "",
          "",
          "",
          "",
          "",
          ""
         ],
         "textfont": {
          "color": "black",
          "size": 9.171923806825387
         },
         "type": "scatterternary"
        },
        {
         "a": [
          0.812987601546295,
          0.7752529060222858,
          0.7842040490784046,
          0.796590903360386,
          0.7913994005229699,
          0.7788076168736281,
          0.7565052242223695,
          0.7342897001563629,
          0.7083234658159872,
          0.6874231064167347,
          0.672636037423534,
          0.6684417575864932,
          0.661687782752601,
          0.6463333784821201,
          0.628115965874481
         ],
         "b": [
          0.09392727870038264,
          0.12535025153351356,
          0.09627084942961603,
          0.05650552647540432,
          0.03354363112975104,
          0.021467248298922027,
          0.021878120813904403,
          0.034013850281377864,
          0.05326509799615514,
          0.07547120040826827,
          0.09186477510584716,
          0.09746102383220231,
          0.10162117274207513,
          0.1096113039945371,
          0.11853278768942983
         ],
         "c": [
          0.09308511975332248,
          0.09939684244420054,
          0.11952510149197956,
          0.1469035701642097,
          0.17505696834727918,
          0.19972513482744988,
          0.22161665496372587,
          0.23169644956225927,
          0.23841143618785768,
          0.237105693174997,
          0.23549918747061893,
          0.23409721858130453,
          0.23669104450532394,
          0.2440553175233427,
          0.2533512464360891
         ],
         "line": {
          "color": "grey",
          "width": 0.25
         },
         "marker": {
          "color": "silver",
          "line": {
           "color": "black",
           "width": 0
          },
          "opacity": 0.9,
          "size": 6
         },
         "mode": "lines+text",
         "name": "IRQ",
         "showlegend": false,
         "subplot": "ternary",
         "text": [
          "",
          "",
          "",
          "",
          "",
          "",
          "",
          "",
          "",
          "",
          "",
          "",
          "",
          "",
          ""
         ],
         "textfont": {
          "color": "black",
          "size": 7.109610896601441
         },
         "type": "scatterternary"
        },
        {
         "a": [
          0.812987601546295,
          0.7752529060222858,
          0.7842040490784046,
          0.796590903360386,
          0.7913994005229699
         ],
         "b": [
          0.09392727870038264,
          0.12535025153351356,
          0.09627084942961603,
          0.05650552647540432,
          0.03354363112975104
         ],
         "c": [
          0.09308511975332248,
          0.09939684244420054,
          0.11952510149197956,
          0.1469035701642097,
          0.17505696834727918
         ],
         "line": {
          "color": "grey",
          "width": 0.25
         },
         "marker": {
          "color": "silver",
          "line": {
           "color": "black",
           "width": 0
          },
          "opacity": 0.9,
          "size": 6
         },
         "mode": "lines+text",
         "name": "IRQ",
         "showlegend": false,
         "subplot": "ternary",
         "text": [
          "",
          "",
          "",
          "",
          "",
          "",
          "",
          "",
          "",
          "",
          "",
          "",
          "",
          "",
          ""
         ],
         "textfont": {
          "color": "black",
          "size": 7.109610896601441
         },
         "type": "scatterternary"
        },
        {
         "a": [
          0.16944037254939337,
          0.17686861412826163,
          0.22048233301596787,
          0.17559315905989792,
          0.155711539493768,
          0.1606180554969373,
          0.1578121702778073,
          0.14790728305617462,
          0.13152016070854092,
          0.12499449952097443,
          0.1268074334729672,
          0.13097304045021027,
          0.1418433166123116,
          0.15151984447365113,
          0.1677992108160425
         ],
         "b": [
          0.8111875212598781,
          0.799187297041426,
          0.7399655546302348,
          0.7801454625273494,
          0.7883176225221592,
          0.7650780356637381,
          0.7619229906189573,
          0.7708817080657512,
          0.7884452317471533,
          0.7931879910726899,
          0.7880322337440272,
          0.7706608485830397,
          0.7583347856682083,
          0.7347625469903283,
          0.7078272140904142
         ],
         "c": [
          0.019372106190728662,
          0.023944088830312175,
          0.03955211235379713,
          0.04426137841275279,
          0.055970837984072944,
          0.07430390883932453,
          0.0802648391032352,
          0.08121100887807414,
          0.08003460754430589,
          0.08181750940633556,
          0.08516033278300542,
          0.0983661109667501,
          0.09982189771947993,
          0.11371760853602063,
          0.12437357509354334
         ],
         "line": {
          "color": "grey",
          "width": 0.25
         },
         "marker": {
          "color": "silver",
          "line": {
           "color": "black",
           "width": 0
          },
          "opacity": 0.9,
          "size": 6
         },
         "mode": "lines+text",
         "name": "IRL",
         "showlegend": false,
         "subplot": "ternary",
         "text": [
          "",
          "",
          "",
          "",
          "",
          "",
          "",
          "",
          "",
          "",
          "",
          "",
          "",
          "",
          ""
         ],
         "textfont": {
          "color": "black",
          "size": 3.591202950388997
         },
         "type": "scatterternary"
        },
        {
         "a": [
          0.16944037254939337,
          0.17686861412826163,
          0.22048233301596787,
          0.17559315905989792,
          0.155711539493768
         ],
         "b": [
          0.8111875212598781,
          0.799187297041426,
          0.7399655546302348,
          0.7801454625273494,
          0.7883176225221592
         ],
         "c": [
          0.019372106190728662,
          0.023944088830312175,
          0.03955211235379713,
          0.04426137841275279,
          0.055970837984072944
         ],
         "line": {
          "color": "grey",
          "width": 0.25
         },
         "marker": {
          "color": "silver",
          "line": {
           "color": "black",
           "width": 0
          },
          "opacity": 0.9,
          "size": 6
         },
         "mode": "lines+text",
         "name": "IRL",
         "showlegend": false,
         "subplot": "ternary",
         "text": [
          "",
          "",
          "",
          "",
          "",
          "",
          "",
          "",
          "",
          "",
          "",
          "",
          "",
          "",
          ""
         ],
         "textfont": {
          "color": "black",
          "size": 3.591202950388997
         },
         "type": "scatterternary"
        },
        {
         "a": [
          0.4845814234680099,
          0.5876262243778216,
          0.616822755535481,
          0.4956937061334602,
          0.36121850552669277,
          0.262103219390192,
          0.19115539161798445,
          0.15227769129234997,
          0.12135889103952732,
          0.10197833413159182,
          0.08803552992969985,
          0.08015823255753213,
          0.07632641801579254,
          0.07839161725490551,
          0.08407484869571377
         ],
         "b": [
          0.45825122136259017,
          0.3277264496253323,
          0.264446787258653,
          0.333546908951254,
          0.38770943015421894,
          0.42047127632863907,
          0.45495737855114227,
          0.48910115127562104,
          0.5078895783790462,
          0.5171371860681567,
          0.5251323872179051,
          0.5275368742004033,
          0.5212005122668104,
          0.508677811588758,
          0.49776941490988086
         ],
         "c": [
          0.05716735516939989,
          0.08464732599684602,
          0.11873045720586596,
          0.17075938491528572,
          0.25107206431908846,
          0.31742550428116906,
          0.3538872298308733,
          0.35862115743202894,
          0.37075153058142657,
          0.3808844798002514,
          0.3868320828523953,
          0.3923048932420646,
          0.40247306971739694,
          0.4129305711563366,
          0.41815573639440534
         ],
         "line": {
          "color": "grey",
          "width": 0.25
         },
         "marker": {
          "color": "silver",
          "line": {
           "color": "black",
           "width": 0
          },
          "opacity": 0.9,
          "size": 6
         },
         "mode": "lines+text",
         "name": "ISR",
         "showlegend": false,
         "subplot": "ternary",
         "text": [
          "",
          "",
          "",
          "",
          "",
          "",
          "",
          "",
          "",
          "",
          "",
          "",
          "",
          "",
          ""
         ],
         "textfont": {
          "color": "black",
          "size": 4.251292818690169
         },
         "type": "scatterternary"
        },
        {
         "a": [
          0.4845814234680099,
          0.5876262243778216,
          0.616822755535481,
          0.4956937061334602,
          0.36121850552669277
         ],
         "b": [
          0.45825122136259017,
          0.3277264496253323,
          0.264446787258653,
          0.333546908951254,
          0.38770943015421894
         ],
         "c": [
          0.05716735516939989,
          0.08464732599684602,
          0.11873045720586596,
          0.17075938491528572,
          0.25107206431908846
         ],
         "line": {
          "color": "grey",
          "width": 0.25
         },
         "marker": {
          "color": "silver",
          "line": {
           "color": "black",
           "width": 0
          },
          "opacity": 0.9,
          "size": 6
         },
         "mode": "lines+text",
         "name": "ISR",
         "showlegend": false,
         "subplot": "ternary",
         "text": [
          "",
          "",
          "",
          "",
          "",
          "",
          "",
          "",
          "",
          "",
          "",
          "",
          "",
          "",
          ""
         ],
         "textfont": {
          "color": "black",
          "size": 4.251292818690169
         },
         "type": "scatterternary"
        },
        {
         "a": [
          0.3209254966346491,
          0.35686588318374873,
          0.43182254322131586,
          0.43133255083444894,
          0.4577484802043918,
          0.5121676836864629,
          0.5578856368383863,
          0.5861748936314352,
          0.5910178200789546,
          0.6017122956164881,
          0.6161820766290139,
          0.6284786223622056,
          0.6407995473226291,
          0.6478748261779986,
          0.6539962908264668
         ],
         "b": [
          0.6433385307316339,
          0.5976487094557464,
          0.5027702702010838,
          0.4895606281803131,
          0.44012582281408846,
          0.3523861063594101,
          0.2721687067399431,
          0.22056968286397516,
          0.1991613666688514,
          0.1801008722935435,
          0.15891981859246848,
          0.1425250859316038,
          0.12764099211762234,
          0.11755919156870229,
          0.10959976871917386
         ],
         "c": [
          0.03573597263371688,
          0.04548540736050489,
          0.06540718657760015,
          0.07910682098523814,
          0.10212569698151977,
          0.13544620995412696,
          0.16994565642167064,
          0.19325542350458969,
          0.20982081325219396,
          0.2181868320899683,
          0.22489810477851752,
          0.22899629170619068,
          0.23155946055974844,
          0.23456598225329903,
          0.2364039404543594
         ],
         "line": {
          "color": "grey",
          "width": 0.25
         },
         "marker": {
          "color": "silver",
          "line": {
           "color": "black",
           "width": 0
          },
          "opacity": 0.9,
          "size": 6
         },
         "mode": "lines+text",
         "name": "ITA",
         "showlegend": false,
         "subplot": "ternary",
         "text": [
          "",
          "",
          "",
          "",
          "",
          "",
          "",
          "",
          "",
          "",
          "",
          "",
          "",
          "",
          ""
         ],
         "textfont": {
          "color": "black",
          "size": 8.026693522291168
         },
         "type": "scatterternary"
        },
        {
         "a": [
          0.3209254966346491,
          0.35686588318374873,
          0.43182254322131586,
          0.43133255083444894,
          0.4577484802043918
         ],
         "b": [
          0.6433385307316339,
          0.5976487094557464,
          0.5027702702010838,
          0.4895606281803131,
          0.44012582281408846
         ],
         "c": [
          0.03573597263371688,
          0.04548540736050489,
          0.06540718657760015,
          0.07910682098523814,
          0.10212569698151977
         ],
         "line": {
          "color": "grey",
          "width": 0.25
         },
         "marker": {
          "color": "silver",
          "line": {
           "color": "black",
           "width": 0
          },
          "opacity": 0.9,
          "size": 6
         },
         "mode": "lines+text",
         "name": "ITA",
         "showlegend": false,
         "subplot": "ternary",
         "text": [
          "",
          "",
          "",
          "",
          "",
          "",
          "",
          "",
          "",
          "",
          "",
          "",
          "",
          "",
          ""
         ],
         "textfont": {
          "color": "black",
          "size": 8.026693522291168
         },
         "type": "scatterternary"
        },
        {
         "a": [
          0.08985779054045084,
          0.17039912900426943,
          0.3008060454854182,
          0.3095235838729221,
          0.34508412331730204,
          0.44178330648756414,
          0.5466801855070356,
          0.6131203283258623,
          0.6401149193667108,
          0.6574024059766678,
          0.670328270794515,
          0.6881725332220872,
          0.7030651219339066,
          0.7033297036758339,
          0.6899968914273145
         ],
         "b": [
          0.9002636632419089,
          0.8088055104237928,
          0.6558727085341425,
          0.6350227133979507,
          0.5761409631710465,
          0.43586198803115567,
          0.2720170474704567,
          0.15975552133424856,
          0.10635926080860532,
          0.07942662838833141,
          0.06529721242178406,
          0.05242478197812549,
          0.044699144027716194,
          0.04883957486897154,
          0.06228897820633743
         ],
         "c": [
          0.009878546217640142,
          0.020795360571937684,
          0.04332124598043929,
          0.055453702729126995,
          0.07877491351165156,
          0.12235470548128011,
          0.18130276702250767,
          0.22712415033988945,
          0.253525819824684,
          0.26317096563500075,
          0.2643745167837011,
          0.25940268479978745,
          0.25223573403837724,
          0.2478307214551944,
          0.24771413036634818
         ],
         "line": {
          "color": "grey",
          "width": 0.25
         },
         "marker": {
          "color": "silver",
          "line": {
           "color": "black",
           "width": 0
          },
          "opacity": 0.9,
          "size": 6
         },
         "mode": "lines+text",
         "name": "JAM",
         "showlegend": false,
         "subplot": "ternary",
         "text": [
          "",
          "",
          "",
          "",
          "",
          "",
          "",
          "",
          "",
          "",
          "",
          "",
          "",
          "",
          ""
         ],
         "textfont": {
          "color": "black",
          "size": 3.071549306457569
         },
         "type": "scatterternary"
        },
        {
         "a": [
          0.08985779054045084,
          0.17039912900426943,
          0.3008060454854182,
          0.3095235838729221,
          0.34508412331730204
         ],
         "b": [
          0.9002636632419089,
          0.8088055104237928,
          0.6558727085341425,
          0.6350227133979507,
          0.5761409631710465
         ],
         "c": [
          0.009878546217640142,
          0.020795360571937684,
          0.04332124598043929,
          0.055453702729126995,
          0.07877491351165156
         ],
         "line": {
          "color": "grey",
          "width": 0.25
         },
         "marker": {
          "color": "silver",
          "line": {
           "color": "black",
           "width": 0
          },
          "opacity": 0.9,
          "size": 6
         },
         "mode": "lines+text",
         "name": "JAM",
         "showlegend": false,
         "subplot": "ternary",
         "text": [
          "",
          "",
          "",
          "",
          "",
          "",
          "",
          "",
          "",
          "",
          "",
          "",
          "",
          "",
          ""
         ],
         "textfont": {
          "color": "black",
          "size": 3.071549306457569
         },
         "type": "scatterternary"
        },
        {
         "a": [
          0.447813656795499,
          0.4596075402416676,
          0.5282395393699857,
          0.4763193203972411,
          0.4596177903921251,
          0.49554013447267503,
          0.5284898715537513,
          0.5536417395287081,
          0.5635015166203436,
          0.5705781469725435,
          0.5813533867920001,
          0.5969301766263588,
          0.6075576566973546,
          0.6142171072351126,
          0.6165052133835844
         ],
         "b": [
          0.501632418970451,
          0.48060314482098154,
          0.38983489433298607,
          0.43397498120181266,
          0.4353576922156976,
          0.372302116386937,
          0.3095843811492843,
          0.263906824068483,
          0.23954781065761308,
          0.22522309543060168,
          0.20760002069712682,
          0.18660227036797655,
          0.17200404501671732,
          0.16452575904890657,
          0.16019805312317342
         ],
         "c": [
          0.05055392423404995,
          0.059789314937350825,
          0.08192556629702841,
          0.08970569840094618,
          0.10502451739217739,
          0.13215774914038814,
          0.16192574729696446,
          0.18245143640280906,
          0.1969506727220431,
          0.20419875759685507,
          0.21104659251087307,
          0.21646755300566456,
          0.22043829828592817,
          0.2212571337159808,
          0.22329673349324214
         ],
         "line": {
          "color": "grey",
          "width": 0.25
         },
         "marker": {
          "color": "silver",
          "line": {
           "color": "black",
           "width": 0
          },
          "opacity": 0.9,
          "size": 6
         },
         "mode": "lines+text",
         "name": "JPN",
         "showlegend": false,
         "subplot": "ternary",
         "text": [
          "",
          "",
          "",
          "",
          "",
          "",
          "",
          "",
          "",
          "",
          "",
          "",
          "",
          "",
          ""
         ],
         "textfont": {
          "color": "black",
          "size": 10.46352502307666
         },
         "type": "scatterternary"
        },
        {
         "a": [
          0.447813656795499,
          0.4596075402416676,
          0.5282395393699857,
          0.4763193203972411,
          0.4596177903921251
         ],
         "b": [
          0.501632418970451,
          0.48060314482098154,
          0.38983489433298607,
          0.43397498120181266,
          0.4353576922156976
         ],
         "c": [
          0.05055392423404995,
          0.059789314937350825,
          0.08192556629702841,
          0.08970569840094618,
          0.10502451739217739
         ],
         "line": {
          "color": "grey",
          "width": 0.25
         },
         "marker": {
          "color": "silver",
          "line": {
           "color": "black",
           "width": 0
          },
          "opacity": 0.9,
          "size": 6
         },
         "mode": "lines+text",
         "name": "JPN",
         "showlegend": false,
         "subplot": "ternary",
         "text": [
          "",
          "",
          "",
          "",
          "",
          "",
          "",
          "",
          "",
          "",
          "",
          "",
          "",
          "",
          ""
         ],
         "textfont": {
          "color": "black",
          "size": 10.46352502307666
         },
         "type": "scatterternary"
        },
        {
         "a": [
          0.13698914796572378,
          0.24164275685568098,
          0.40016266666608735,
          0.4263660409874255,
          0.45645467380387766,
          0.5292100977602997,
          0.5940250521325812,
          0.631896007163417,
          0.6390527840668302,
          0.6431723087756842,
          0.6464263337106615,
          0.6505715727356371,
          0.6493132124290673,
          0.6432454871972464,
          0.6367322313033628
         ],
         "b": [
          0.8479890805555994,
          0.7292780678792502,
          0.5436015716596383,
          0.5007716429092115,
          0.447352483796547,
          0.3355935932561529,
          0.2283491771382912,
          0.163142592132027,
          0.14061565863715836,
          0.1328131411000188,
          0.12985914176765836,
          0.13084447631630558,
          0.13829436049143337,
          0.14773076396711843,
          0.15636707370551473
         ],
         "c": [
          0.01502177147867672,
          0.02907917526506866,
          0.05623576167427443,
          0.07286231610336295,
          0.09619284239957542,
          0.13519630898354737,
          0.1776257707291275,
          0.2049614007045559,
          0.22033155729601134,
          0.22401455012429683,
          0.22371452452168028,
          0.21858395094805733,
          0.21239242707949949,
          0.20902374883563524,
          0.20690069499112249
         ],
         "line": {
          "color": "grey",
          "width": 0.25
         },
         "marker": {
          "color": "silver",
          "line": {
           "color": "black",
           "width": 0
          },
          "opacity": 0.9,
          "size": 6
         },
         "mode": "lines+text",
         "name": "JOR",
         "showlegend": false,
         "subplot": "ternary",
         "text": [
          "",
          "",
          "",
          "",
          "",
          "",
          "",
          "",
          "",
          "",
          "",
          "",
          "",
          "",
          ""
         ],
         "textfont": {
          "color": "black",
          "size": 4.549607257276524
         },
         "type": "scatterternary"
        },
        {
         "a": [
          0.13698914796572378,
          0.24164275685568098,
          0.40016266666608735,
          0.4263660409874255,
          0.45645467380387766
         ],
         "b": [
          0.8479890805555994,
          0.7292780678792502,
          0.5436015716596383,
          0.5007716429092115,
          0.447352483796547
         ],
         "c": [
          0.01502177147867672,
          0.02907917526506866,
          0.05623576167427443,
          0.07286231610336295,
          0.09619284239957542
         ],
         "line": {
          "color": "grey",
          "width": 0.25
         },
         "marker": {
          "color": "silver",
          "line": {
           "color": "black",
           "width": 0
          },
          "opacity": 0.9,
          "size": 6
         },
         "mode": "lines+text",
         "name": "JOR",
         "showlegend": false,
         "subplot": "ternary",
         "text": [
          "",
          "",
          "",
          "",
          "",
          "",
          "",
          "",
          "",
          "",
          "",
          "",
          "",
          "",
          ""
         ],
         "textfont": {
          "color": "black",
          "size": 4.549607257276524
         },
         "type": "scatterternary"
        },
        {
         "a": [
          0.066278336298775,
          0.09046785048589927,
          0.1422675257129671,
          0.1423981493970449,
          0.16517711183266415,
          0.24355407279233354,
          0.347242309598765,
          0.41869481924653873,
          0.41046765835539456,
          0.3708024750653527,
          0.3264057036639466,
          0.2847522575595477,
          0.24523973081244277,
          0.2296112476822355,
          0.22751147785981193
         ],
         "b": [
          0.9259122902637525,
          0.8967946964018418,
          0.8336657033959863,
          0.8285080570948414,
          0.794550717866727,
          0.6877195472660875,
          0.5392510703609998,
          0.42491018895845445,
          0.4050964195648401,
          0.4266150635655798,
          0.4576992838362315,
          0.4697987864724033,
          0.4729348842841651,
          0.4820267689762779,
          0.4844434078379197
         ],
         "c": [
          0.007809373437472663,
          0.01273745311225888,
          0.02406677089104646,
          0.02909379350811365,
          0.04027217030060884,
          0.06872637994157911,
          0.11350662004023532,
          0.1563949917950069,
          0.1844359220797654,
          0.2025824613690675,
          0.2158950124998218,
          0.24544895596804894,
          0.2818253849033921,
          0.28836198334148666,
          0.2880451143022684
         ],
         "line": {
          "color": "grey",
          "width": 0.25
         },
         "marker": {
          "color": "silver",
          "line": {
           "color": "black",
           "width": 0
          },
          "opacity": 0.9,
          "size": 6
         },
         "mode": "lines+text",
         "name": "KAZ",
         "showlegend": false,
         "subplot": "ternary",
         "text": [
          "",
          "",
          "",
          "",
          "",
          "",
          "",
          "",
          "",
          "",
          "",
          "",
          "",
          "",
          ""
         ],
         "textfont": {
          "color": "black",
          "size": 5.433662860226582
         },
         "type": "scatterternary"
        },
        {
         "a": [
          0.066278336298775,
          0.09046785048589927,
          0.1422675257129671,
          0.1423981493970449,
          0.16517711183266415
         ],
         "b": [
          0.9259122902637525,
          0.8967946964018418,
          0.8336657033959863,
          0.8285080570948414,
          0.794550717866727
         ],
         "c": [
          0.007809373437472663,
          0.01273745311225888,
          0.02406677089104646,
          0.02909379350811365,
          0.04027217030060884
         ],
         "line": {
          "color": "grey",
          "width": 0.25
         },
         "marker": {
          "color": "silver",
          "line": {
           "color": "black",
           "width": 0
          },
          "opacity": 0.9,
          "size": 6
         },
         "mode": "lines+text",
         "name": "KAZ",
         "showlegend": false,
         "subplot": "ternary",
         "text": [
          "",
          "",
          "",
          "",
          "",
          "",
          "",
          "",
          "",
          "",
          "",
          "",
          "",
          "",
          ""
         ],
         "textfont": {
          "color": "black",
          "size": 5.433662860226582
         },
         "type": "scatterternary"
        },
        {
         "a": [
          0.07995127075054728,
          0.18034674625473174,
          0.3522522345343706,
          0.3804763920673917,
          0.4075566744555352,
          0.460945364166654,
          0.4800952865266364,
          0.46649022725075784,
          0.43394580114663817,
          0.4203540903412234,
          0.4139955140738435,
          0.4231670090826083,
          0.44311903767685723,
          0.4630557659845109,
          0.4750220319306211
         ],
         "b": [
          0.9112821046399053,
          0.797605227016775,
          0.5985692617643584,
          0.5547597449461229,
          0.5056883803167226,
          0.41383293553056605,
          0.353864513633749,
          0.33426233097841257,
          0.33544296583128386,
          0.32701600699693184,
          0.31418246099748176,
          0.29190124388466065,
          0.26263379277149096,
          0.2358825058913764,
          0.21627205755174198
         ],
         "c": [
          0.008766624609547266,
          0.02204802672849323,
          0.04917850370127093,
          0.06476386298648555,
          0.08675494522774216,
          0.12522170030277985,
          0.1660401998396147,
          0.19924744177082965,
          0.2306112330220778,
          0.2526299026618448,
          0.2718220249286748,
          0.28493174703273105,
          0.29424716955165175,
          0.30106172812411275,
          0.308705910517637
         ],
         "line": {
          "color": "grey",
          "width": 0.25
         },
         "marker": {
          "color": "silver",
          "line": {
           "color": "black",
           "width": 0
          },
          "opacity": 0.9,
          "size": 6
         },
         "mode": "lines+text",
         "name": "KEN",
         "showlegend": false,
         "subplot": "ternary",
         "text": [
          "",
          "",
          "",
          "",
          "",
          "",
          "",
          "",
          "",
          "",
          "",
          "",
          "",
          "",
          ""
         ],
         "textfont": {
          "color": "black",
          "size": 7.62406974930675
         },
         "type": "scatterternary"
        },
        {
         "a": [
          0.07995127075054728,
          0.18034674625473174,
          0.3522522345343706,
          0.3804763920673917,
          0.4075566744555352
         ],
         "b": [
          0.9112821046399053,
          0.797605227016775,
          0.5985692617643584,
          0.5547597449461229,
          0.5056883803167226
         ],
         "c": [
          0.008766624609547266,
          0.02204802672849323,
          0.04917850370127093,
          0.06476386298648555,
          0.08675494522774216
         ],
         "line": {
          "color": "grey",
          "width": 0.25
         },
         "marker": {
          "color": "silver",
          "line": {
           "color": "black",
           "width": 0
          },
          "opacity": 0.9,
          "size": 6
         },
         "mode": "lines+text",
         "name": "KEN",
         "showlegend": false,
         "subplot": "ternary",
         "text": [
          "",
          "",
          "",
          "",
          "",
          "",
          "",
          "",
          "",
          "",
          "",
          "",
          "",
          "",
          ""
         ],
         "textfont": {
          "color": "black",
          "size": 7.62406974930675
         },
         "type": "scatterternary"
        },
        {
         "a": [
          0,
          0,
          0,
          0,
          0,
          0,
          0,
          0,
          0,
          0,
          0,
          0,
          0,
          0,
          0
         ],
         "b": [
          0,
          0,
          0,
          0,
          0,
          0,
          0,
          0,
          0,
          0,
          0,
          0,
          0,
          0,
          0
         ],
         "c": [
          0,
          0,
          0,
          0,
          0,
          0,
          0,
          0,
          0,
          0,
          0,
          0,
          0,
          0,
          0
         ],
         "line": {
          "color": "grey",
          "width": 0.25
         },
         "marker": {
          "color": "silver",
          "line": {
           "color": "black",
           "width": 0
          },
          "opacity": 0.9,
          "size": 6
         },
         "mode": "lines+text",
         "name": "KIR",
         "showlegend": false,
         "subplot": "ternary",
         "text": [
          "",
          "",
          "",
          "",
          "",
          "",
          "",
          "",
          "",
          "",
          "",
          "",
          "",
          "",
          ""
         ],
         "textfont": {
          "color": "black",
          "size": 1.5965659258557752
         },
         "type": "scatterternary"
        },
        {
         "a": [
          0,
          0,
          0,
          0,
          0
         ],
         "b": [
          0,
          0,
          0,
          0,
          0
         ],
         "c": [
          0,
          0,
          0,
          0,
          0
         ],
         "line": {
          "color": "grey",
          "width": 0.25
         },
         "marker": {
          "color": "silver",
          "line": {
           "color": "black",
           "width": 0
          },
          "opacity": 0.9,
          "size": 6
         },
         "mode": "lines+text",
         "name": "KIR",
         "showlegend": false,
         "subplot": "ternary",
         "text": [
          "",
          "",
          "",
          "",
          "",
          "",
          "",
          "",
          "",
          "",
          "",
          "",
          "",
          "",
          ""
         ],
         "textfont": {
          "color": "black",
          "size": 1.5965659258557752
         },
         "type": "scatterternary"
        },
        {
         "a": [
          0.14605529082366456,
          0.16801959999343027,
          0.24437122978419168,
          0.2070820679406208,
          0.1954251560237203,
          0.2259684735555606,
          0.23541133566634193,
          0.2166272192077613,
          0.1896368115995476,
          0.1704502379425763,
          0.1584613423405642,
          0.14799291651623891,
          0.1387893118657213,
          0.1312339137391547,
          0.12049999323922969
         ],
         "b": [
          0.8372005967838511,
          0.8094150919735809,
          0.7154952384127814,
          0.7486195101554107,
          0.748194786316301,
          0.6894147405299869,
          0.6521874015743941,
          0.6585268734243883,
          0.6828747900103498,
          0.6985853035700914,
          0.704928849882,
          0.6936808182494112,
          0.67285186114515,
          0.6547087996109285,
          0.6329253203794183
         ],
         "c": [
          0.016744112392484235,
          0.02256530803298904,
          0.040133531803026944,
          0.04429842190396852,
          0.05638005765997867,
          0.08461678591445272,
          0.1124012627592638,
          0.12484590736785042,
          0.12748839839010265,
          0.13096445848733224,
          0.13660980777743564,
          0.15832626523434984,
          0.18835882698912879,
          0.21405728664991666,
          0.24657468638135208
         ],
         "line": {
          "color": "grey",
          "width": 0.25
         },
         "marker": {
          "color": "silver",
          "line": {
           "color": "black",
           "width": 0
          },
          "opacity": 0.9,
          "size": 6
         },
         "mode": "lines+text",
         "name": "KWT",
         "showlegend": false,
         "subplot": "ternary",
         "text": [
          "",
          "",
          "",
          "",
          "",
          "",
          "",
          "",
          "",
          "",
          "",
          "",
          "",
          "",
          ""
         ],
         "textfont": {
          "color": "black",
          "size": 3.492272674767299
         },
         "type": "scatterternary"
        },
        {
         "a": [
          0.14605529082366456,
          0.16801959999343027,
          0.24437122978419168,
          0.2070820679406208,
          0.1954251560237203
         ],
         "b": [
          0.8372005967838511,
          0.8094150919735809,
          0.7154952384127814,
          0.7486195101554107,
          0.748194786316301
         ],
         "c": [
          0.016744112392484235,
          0.02256530803298904,
          0.040133531803026944,
          0.04429842190396852,
          0.05638005765997867
         ],
         "line": {
          "color": "grey",
          "width": 0.25
         },
         "marker": {
          "color": "silver",
          "line": {
           "color": "black",
           "width": 0
          },
          "opacity": 0.9,
          "size": 6
         },
         "mode": "lines+text",
         "name": "KWT",
         "showlegend": false,
         "subplot": "ternary",
         "text": [
          "",
          "",
          "",
          "",
          "",
          "",
          "",
          "",
          "",
          "",
          "",
          "",
          "",
          "",
          ""
         ],
         "textfont": {
          "color": "black",
          "size": 3.492272674767299
         },
         "type": "scatterternary"
        },
        {
         "a": [
          0.1703972490279053,
          0.2931865841830888,
          0.4528210773767132,
          0.44882812988961485,
          0.45300564188418785,
          0.4952304635030039,
          0.5228944732368066,
          0.5294597458798362,
          0.5173138238080123,
          0.5087284802827661,
          0.49817509869494214,
          0.49884724006647785,
          0.5034660181578002,
          0.5115653515484948,
          0.5192111444347334
         ],
         "b": [
          0.8089212881817237,
          0.6655145475996653,
          0.4709740080010511,
          0.4576904442227608,
          0.42907782845503795,
          0.34894616084594904,
          0.2835813941017136,
          0.25348496352044353,
          0.2530346397350662,
          0.25782564938959823,
          0.2689017396805429,
          0.2717657750914562,
          0.2722076581197712,
          0.26862900418546803,
          0.26546052122958
         ],
         "c": [
          0.020681462790371113,
          0.04129886821724559,
          0.07620491462223584,
          0.09348142588762438,
          0.11791652966077416,
          0.15582337565104687,
          0.19352413266147978,
          0.2170552905997203,
          0.22965153645692155,
          0.2334458703276358,
          0.23292316162451493,
          0.22938698484206604,
          0.2243263237224286,
          0.21980564426603716,
          0.21532833433568654
         ],
         "line": {
          "color": "grey",
          "width": 0.25
         },
         "marker": {
          "color": "silver",
          "line": {
           "color": "black",
           "width": 0
          },
          "opacity": 0.9,
          "size": 6
         },
         "mode": "lines+text",
         "name": "KGZ",
         "showlegend": false,
         "subplot": "ternary",
         "text": [
          "",
          "",
          "",
          "",
          "",
          "",
          "",
          "",
          "",
          "",
          "",
          "",
          "",
          "",
          ""
         ],
         "textfont": {
          "color": "black",
          "size": 3.8724709149048446
         },
         "type": "scatterternary"
        },
        {
         "a": [
          0.1703972490279053,
          0.2931865841830888,
          0.4528210773767132,
          0.44882812988961485,
          0.45300564188418785
         ],
         "b": [
          0.8089212881817237,
          0.6655145475996653,
          0.4709740080010511,
          0.4576904442227608,
          0.42907782845503795
         ],
         "c": [
          0.020681462790371113,
          0.04129886821724559,
          0.07620491462223584,
          0.09348142588762438,
          0.11791652966077416
         ],
         "line": {
          "color": "grey",
          "width": 0.25
         },
         "marker": {
          "color": "silver",
          "line": {
           "color": "black",
           "width": 0
          },
          "opacity": 0.9,
          "size": 6
         },
         "mode": "lines+text",
         "name": "KGZ",
         "showlegend": false,
         "subplot": "ternary",
         "text": [
          "",
          "",
          "",
          "",
          "",
          "",
          "",
          "",
          "",
          "",
          "",
          "",
          "",
          "",
          ""
         ],
         "textfont": {
          "color": "black",
          "size": 3.8724709149048446
         },
         "type": "scatterternary"
        },
        {
         "a": [
          0.5324480889507974,
          0.45765830410867403,
          0.44939247471748667,
          0.45176170275224414,
          0.47897035577072483,
          0.5231821603380882,
          0.559003002166671,
          0.5778835924432635,
          0.5802504210254102,
          0.5716464287425099,
          0.5589482963811967,
          0.5477927288243114,
          0.5302213835453936,
          0.5209404908011546,
          0.5138520952238869
         ],
         "b": [
          0.40671972417954716,
          0.48215975129809696,
          0.47802438634675726,
          0.4570459394513558,
          0.39884798955467937,
          0.30951168938636564,
          0.21775354104264819,
          0.15983311865413355,
          0.12904138978284146,
          0.12256515580395129,
          0.13114451205930985,
          0.1485906477806448,
          0.17490817935326206,
          0.19590899545878177,
          0.21445004857666924
         ],
         "c": [
          0.060832186869655615,
          0.06018194459322888,
          0.07258313893575613,
          0.09119235779640036,
          0.12218165467459571,
          0.16730615027554605,
          0.22324345679068064,
          0.2622832889026029,
          0.2907081891917484,
          0.30578841545353885,
          0.30990719155949353,
          0.30361662339504386,
          0.29487043710134436,
          0.28315051374006356,
          0.27169785619944387
         ],
         "line": {
          "color": "grey",
          "width": 0.25
         },
         "marker": {
          "color": "silver",
          "line": {
           "color": "black",
           "width": 0
          },
          "opacity": 0.9,
          "size": 6
         },
         "mode": "lines+text",
         "name": "LAO",
         "showlegend": false,
         "subplot": "ternary",
         "text": [
          "",
          "",
          "",
          "",
          "",
          "",
          "",
          "",
          "",
          "",
          "",
          "",
          "",
          "",
          ""
         ],
         "textfont": {
          "color": "black",
          "size": 4.027234193646413
         },
         "type": "scatterternary"
        },
        {
         "a": [
          0.5324480889507974,
          0.45765830410867403,
          0.44939247471748667,
          0.45176170275224414,
          0.47897035577072483
         ],
         "b": [
          0.40671972417954716,
          0.48215975129809696,
          0.47802438634675726,
          0.4570459394513558,
          0.39884798955467937
         ],
         "c": [
          0.060832186869655615,
          0.06018194459322888,
          0.07258313893575613,
          0.09119235779640036,
          0.12218165467459571
         ],
         "line": {
          "color": "grey",
          "width": 0.25
         },
         "marker": {
          "color": "silver",
          "line": {
           "color": "black",
           "width": 0
          },
          "opacity": 0.9,
          "size": 6
         },
         "mode": "lines+text",
         "name": "LAO",
         "showlegend": false,
         "subplot": "ternary",
         "text": [
          "",
          "",
          "",
          "",
          "",
          "",
          "",
          "",
          "",
          "",
          "",
          "",
          "",
          "",
          ""
         ],
         "textfont": {
          "color": "black",
          "size": 4.027234193646413
         },
         "type": "scatterternary"
        },
        {
         "a": [
          0.33887628532663594,
          0.35623909887780897,
          0.4290074937692435,
          0.4038106330877119,
          0.4157834362602313,
          0.47721447532243544,
          0.524784268827812,
          0.5501448382816118,
          0.5505891145472968,
          0.5588099864828218,
          0.5704820668178885,
          0.5842176055960806,
          0.5935486432411712,
          0.6018513348644344,
          0.6106073354782695
         ],
         "b": [
          0.623187151734862,
          0.5975847361964715,
          0.5045180867443614,
          0.5206693120451459,
          0.48993039456264215,
          0.39557062435657103,
          0.3144120361490875,
          0.2690005884646214,
          0.25595330425589113,
          0.2401733138976499,
          0.21969711866423264,
          0.19959230784187149,
          0.18322841690546318,
          0.167618399133188,
          0.15192507083226237
         ],
         "c": [
          0.03793656293850199,
          0.04617616492571936,
          0.06647441948639518,
          0.07552005486714207,
          0.09428616917712658,
          0.12721490032099364,
          0.16080369502310038,
          0.18085457325376694,
          0.19345758119681195,
          0.2010166996195285,
          0.2098208145178788,
          0.21619008656204808,
          0.22322293985336564,
          0.23053026600237758,
          0.237467593689468
         ],
         "line": {
          "color": "grey",
          "width": 0.25
         },
         "marker": {
          "color": "silver",
          "line": {
           "color": "black",
           "width": 0
          },
          "opacity": 0.9,
          "size": 6
         },
         "mode": "lines+text",
         "name": "LVA",
         "showlegend": false,
         "subplot": "ternary",
         "text": [
          "",
          "",
          "",
          "",
          "",
          "",
          "",
          "",
          "",
          "",
          "",
          "",
          "",
          "",
          ""
         ],
         "textfont": {
          "color": "black",
          "size": 2.7729581507200587
         },
         "type": "scatterternary"
        },
        {
         "a": [
          0.33887628532663594,
          0.35623909887780897,
          0.4290074937692435,
          0.4038106330877119,
          0.4157834362602313
         ],
         "b": [
          0.623187151734862,
          0.5975847361964715,
          0.5045180867443614,
          0.5206693120451459,
          0.48993039456264215
         ],
         "c": [
          0.03793656293850199,
          0.04617616492571936,
          0.06647441948639518,
          0.07552005486714207,
          0.09428616917712658
         ],
         "line": {
          "color": "grey",
          "width": 0.25
         },
         "marker": {
          "color": "silver",
          "line": {
           "color": "black",
           "width": 0
          },
          "opacity": 0.9,
          "size": 6
         },
         "mode": "lines+text",
         "name": "LVA",
         "showlegend": false,
         "subplot": "ternary",
         "text": [
          "",
          "",
          "",
          "",
          "",
          "",
          "",
          "",
          "",
          "",
          "",
          "",
          "",
          "",
          ""
         ],
         "textfont": {
          "color": "black",
          "size": 2.7729581507200587
         },
         "type": "scatterternary"
        },
        {
         "a": [
          0.22003567107587832,
          0.32673419544660137,
          0.46416297178335153,
          0.4586350159619708,
          0.48858782377401805,
          0.5561934375253836,
          0.6050875798530435,
          0.6348722211594353,
          0.6436048376052763,
          0.656259656734564,
          0.6732951637878437,
          0.691613812742954,
          0.700490688647709,
          0.6953042271755783,
          0.6835077060234827
         ],
         "b": [
          0.7525931359380782,
          0.6310439538491163,
          0.46637875392047823,
          0.45826063707057557,
          0.3990483042054906,
          0.27766518527032685,
          0.17788769313449757,
          0.12165830103474018,
          0.09701825615046371,
          0.0792178558017685,
          0.06341212129776827,
          0.052046300693624974,
          0.051599293611292264,
          0.06313108457141282,
          0.07978301815633003
         ],
         "c": [
          0.027371192986043322,
          0.04222185070428239,
          0.06945827429617034,
          0.08310434696745356,
          0.11236387202049143,
          0.16614137720428956,
          0.21702472701245878,
          0.24346947780582456,
          0.2593769062442598,
          0.2645224874636673,
          0.26329271491438794,
          0.25633988656342094,
          0.2479100177409987,
          0.24156468825300886,
          0.23670927582018728
         ],
         "line": {
          "color": "grey",
          "width": 0.25
         },
         "marker": {
          "color": "silver",
          "line": {
           "color": "black",
           "width": 0
          },
          "opacity": 0.9,
          "size": 6
         },
         "mode": "lines+text",
         "name": "LBN",
         "showlegend": false,
         "subplot": "ternary",
         "text": [
          "",
          "",
          "",
          "",
          "",
          "",
          "",
          "",
          "",
          "",
          "",
          "",
          "",
          "",
          ""
         ],
         "textfont": {
          "color": "black",
          "size": 3.746118968234336
         },
         "type": "scatterternary"
        },
        {
         "a": [
          0.22003567107587832,
          0.32673419544660137,
          0.46416297178335153,
          0.4586350159619708,
          0.48858782377401805
         ],
         "b": [
          0.7525931359380782,
          0.6310439538491163,
          0.46637875392047823,
          0.45826063707057557,
          0.3990483042054906
         ],
         "c": [
          0.027371192986043322,
          0.04222185070428239,
          0.06945827429617034,
          0.08310434696745356,
          0.11236387202049143
         ],
         "line": {
          "color": "grey",
          "width": 0.25
         },
         "marker": {
          "color": "silver",
          "line": {
           "color": "black",
           "width": 0
          },
          "opacity": 0.9,
          "size": 6
         },
         "mode": "lines+text",
         "name": "LBN",
         "showlegend": false,
         "subplot": "ternary",
         "text": [
          "",
          "",
          "",
          "",
          "",
          "",
          "",
          "",
          "",
          "",
          "",
          "",
          "",
          "",
          ""
         ],
         "textfont": {
          "color": "black",
          "size": 3.746118968234336
         },
         "type": "scatterternary"
        },
        {
         "a": [
          0.05323269761854573,
          0.11832041688944754,
          0.2371023732388874,
          0.23603197497241515,
          0.2439122996062772,
          0.25772686684722756,
          0.23061556507589678,
          0.18821668436860484,
          0.14824793610662645,
          0.12962365930876668,
          0.11656103212616362,
          0.1103572834661968,
          0.11039423930343906,
          0.11990969565447845,
          0.14582265719543447
         ],
         "b": [
          0.940978685694768,
          0.8673937291270225,
          0.7294735549724966,
          0.7242536074477401,
          0.7061083483390622,
          0.6776790376409908,
          0.6958776192521198,
          0.7264707823447671,
          0.7412267104367264,
          0.7306785226734901,
          0.7093212604612813,
          0.685668265912869,
          0.6563036872025604,
          0.6296844005462312,
          0.6001207729668697
         ],
         "c": [
          0.005788616686686364,
          0.014285853983530064,
          0.03342407178861626,
          0.03971441757984455,
          0.049979352054660406,
          0.06459409551178176,
          0.07350681567198343,
          0.08531253328662804,
          0.11052535345664721,
          0.139697818017743,
          0.17411770741255503,
          0.20397445062093422,
          0.23330207349400064,
          0.2504059037992903,
          0.25405656983769576
         ],
         "line": {
          "color": "grey",
          "width": 0.25
         },
         "marker": {
          "color": "silver",
          "line": {
           "color": "black",
           "width": 0
          },
          "opacity": 0.9,
          "size": 6
         },
         "mode": "lines+text",
         "name": "LSO",
         "showlegend": false,
         "subplot": "ternary",
         "text": [
          "",
          "",
          "",
          "",
          "",
          "",
          "",
          "",
          "",
          "",
          "",
          "",
          "",
          "",
          ""
         ],
         "textfont": {
          "color": "black",
          "size": 2.89062218046561
         },
         "type": "scatterternary"
        },
        {
         "a": [
          0.05323269761854573,
          0.11832041688944754,
          0.2371023732388874,
          0.23603197497241515,
          0.2439122996062772
         ],
         "b": [
          0.940978685694768,
          0.8673937291270225,
          0.7294735549724966,
          0.7242536074477401,
          0.7061083483390622
         ],
         "c": [
          0.005788616686686364,
          0.014285853983530064,
          0.03342407178861626,
          0.03971441757984455,
          0.049979352054660406
         ],
         "line": {
          "color": "grey",
          "width": 0.25
         },
         "marker": {
          "color": "silver",
          "line": {
           "color": "black",
           "width": 0
          },
          "opacity": 0.9,
          "size": 6
         },
         "mode": "lines+text",
         "name": "LSO",
         "showlegend": false,
         "subplot": "ternary",
         "text": [
          "",
          "",
          "",
          "",
          "",
          "",
          "",
          "",
          "",
          "",
          "",
          "",
          "",
          "",
          ""
         ],
         "textfont": {
          "color": "black",
          "size": 2.89062218046561
         },
         "type": "scatterternary"
        },
        {
         "a": [
          0.2907289086757996,
          0.40483724165725377,
          0.5047297628940126,
          0.4209959399637565,
          0.3420008994096795,
          0.26937755158755505,
          0.20203456938000397,
          0.1598046628371425,
          0.13327819706908506,
          0.12116532109164943,
          0.10999875529637582,
          0.10424011980979578,
          0.10103736403430982,
          0.09811987383246674,
          0.09721855746906
         ],
         "b": [
          0.6774061293988964,
          0.5463645797954507,
          0.42429152343620824,
          0.5068187361618184,
          0.5861814175525757,
          0.6533085676108789,
          0.7120883155122214,
          0.7361279802152687,
          0.738431058542531,
          0.7199270478569134,
          0.6924519293670591,
          0.657541830694262,
          0.6275278664279851,
          0.5987242755227578,
          0.5719530256657432
         ],
         "c": [
          0.031864961925304115,
          0.04879817854729583,
          0.07097871366977912,
          0.07218532387442501,
          0.07181768303774473,
          0.07731388080156608,
          0.08587711510777472,
          0.10406735694758884,
          0.12829074438838403,
          0.15890763105143735,
          0.19754931533656503,
          0.23821804949594214,
          0.2714347695377051,
          0.30315585064477546,
          0.3308284168651968
         ],
         "line": {
          "color": "grey",
          "width": 0.25
         },
         "marker": {
          "color": "silver",
          "line": {
           "color": "black",
           "width": 0
          },
          "opacity": 0.9,
          "size": 6
         },
         "mode": "lines+text",
         "name": "LBR",
         "showlegend": false,
         "subplot": "ternary",
         "text": [
          "",
          "",
          "",
          "",
          "",
          "",
          "",
          "",
          "",
          "",
          "",
          "",
          "",
          "",
          ""
         ],
         "textfont": {
          "color": "black",
          "size": 3.61401429289933
         },
         "type": "scatterternary"
        },
        {
         "a": [
          0.2907289086757996,
          0.40483724165725377,
          0.5047297628940126,
          0.4209959399637565,
          0.3420008994096795
         ],
         "b": [
          0.6774061293988964,
          0.5463645797954507,
          0.42429152343620824,
          0.5068187361618184,
          0.5861814175525757
         ],
         "c": [
          0.031864961925304115,
          0.04879817854729583,
          0.07097871366977912,
          0.07218532387442501,
          0.07181768303774473
         ],
         "line": {
          "color": "grey",
          "width": 0.25
         },
         "marker": {
          "color": "silver",
          "line": {
           "color": "black",
           "width": 0
          },
          "opacity": 0.9,
          "size": 6
         },
         "mode": "lines+text",
         "name": "LBR",
         "showlegend": false,
         "subplot": "ternary",
         "text": [
          "",
          "",
          "",
          "",
          "",
          "",
          "",
          "",
          "",
          "",
          "",
          "",
          "",
          "",
          ""
         ],
         "textfont": {
          "color": "black",
          "size": 3.61401429289933
         },
         "type": "scatterternary"
        },
        {
         "a": [
          0.12821301479073313,
          0.1403508581374045,
          0.19617664562150394,
          0.188045254161196,
          0.22225288519919673,
          0.3272070753957034,
          0.4392779890838403,
          0.469715630350799,
          0.42078431568878394,
          0.36336499748795337,
          0.31868011009168484,
          0.28844170950407355,
          0.26501418077823646,
          0.24725583350799646,
          0.24539460963109833
         ],
         "b": [
          0.8572878450291449,
          0.8410641804853385,
          0.7723642173135022,
          0.7749676520775307,
          0.7245901655555592,
          0.5799379167626296,
          0.41330424536610183,
          0.3644680801444044,
          0.4180024374374707,
          0.4786991564639556,
          0.5278163669580302,
          0.5583296483013808,
          0.5696442118484953,
          0.5673442585969027,
          0.5636781357122901
         ],
         "c": [
          0.014499140180121878,
          0.018584961377256983,
          0.03145913706499388,
          0.03698709376127353,
          0.05315694924524403,
          0.09285500784166698,
          0.14741776555005756,
          0.16581628950479677,
          0.16121324687374536,
          0.15793584604809105,
          0.15350352295028497,
          0.15322864219454563,
          0.16534160737326817,
          0.18539990789510075,
          0.19092725465661176
         ],
         "line": {
          "color": "grey",
          "width": 0.25
         },
         "marker": {
          "color": "silver",
          "line": {
           "color": "black",
           "width": 0
          },
          "opacity": 0.9,
          "size": 6
         },
         "mode": "lines+text",
         "name": "LBY",
         "showlegend": false,
         "subplot": "ternary",
         "text": [
          "",
          "",
          "",
          "",
          "",
          "",
          "",
          "",
          "",
          "",
          "",
          "",
          "",
          "",
          ""
         ],
         "textfont": {
          "color": "black",
          "size": 3.915210491595787
         },
         "type": "scatterternary"
        },
        {
         "a": [
          0.12821301479073313,
          0.1403508581374045,
          0.19617664562150394,
          0.188045254161196,
          0.22225288519919673
         ],
         "b": [
          0.8572878450291449,
          0.8410641804853385,
          0.7723642173135022,
          0.7749676520775307,
          0.7245901655555592
         ],
         "c": [
          0.014499140180121878,
          0.018584961377256983,
          0.03145913706499388,
          0.03698709376127353,
          0.05315694924524403
         ],
         "line": {
          "color": "grey",
          "width": 0.25
         },
         "marker": {
          "color": "silver",
          "line": {
           "color": "black",
           "width": 0
          },
          "opacity": 0.9,
          "size": 6
         },
         "mode": "lines+text",
         "name": "LBY",
         "showlegend": false,
         "subplot": "ternary",
         "text": [
          "",
          "",
          "",
          "",
          "",
          "",
          "",
          "",
          "",
          "",
          "",
          "",
          "",
          "",
          ""
         ],
         "textfont": {
          "color": "black",
          "size": 3.915210491595787
         },
         "type": "scatterternary"
        },
        {
         "a": [
          0,
          0,
          0,
          0,
          0,
          0,
          0,
          0,
          0,
          0,
          0,
          0,
          0,
          0,
          0
         ],
         "b": [
          0,
          0,
          0,
          0,
          0,
          0,
          0,
          0,
          0,
          0,
          0,
          0,
          0,
          0,
          0
         ],
         "c": [
          0,
          0,
          0,
          0,
          0,
          0,
          0,
          0,
          0,
          0,
          0,
          0,
          0,
          0,
          0
         ],
         "line": {
          "color": "grey",
          "width": 0.25
         },
         "marker": {
          "color": "silver",
          "line": {
           "color": "black",
           "width": 0
          },
          "opacity": 0.9,
          "size": 6
         },
         "mode": "lines+text",
         "name": "LIE",
         "showlegend": false,
         "subplot": "ternary",
         "text": [
          "",
          "",
          "",
          "",
          "",
          "",
          "",
          "",
          "",
          "",
          "",
          "",
          "",
          "",
          ""
         ],
         "textfont": {
          "color": "black",
          "size": 2.3694187025678044
         },
         "type": "scatterternary"
        },
        {
         "a": [
          0,
          0,
          0,
          0,
          0
         ],
         "b": [
          0,
          0,
          0,
          0,
          0
         ],
         "c": [
          0,
          0,
          0,
          0,
          0
         ],
         "line": {
          "color": "grey",
          "width": 0.25
         },
         "marker": {
          "color": "silver",
          "line": {
           "color": "black",
           "width": 0
          },
          "opacity": 0.9,
          "size": 6
         },
         "mode": "lines+text",
         "name": "LIE",
         "showlegend": false,
         "subplot": "ternary",
         "text": [
          "",
          "",
          "",
          "",
          "",
          "",
          "",
          "",
          "",
          "",
          "",
          "",
          "",
          "",
          ""
         ],
         "textfont": {
          "color": "black",
          "size": 2.3694187025678044
         },
         "type": "scatterternary"
        },
        {
         "a": [
          0.07724834197164669,
          0.08763497772850884,
          0.12176311096188945,
          0.11017675191220352,
          0.1247222701896108,
          0.18949810316467683,
          0.2941284770278026,
          0.4056132233916505,
          0.4606589370647124,
          0.4873349158967476,
          0.5079420427768491,
          0.5325713241889082,
          0.5566825581134296,
          0.5776120068762297,
          0.5997115157307047
         ],
         "b": [
          0.9140707837931429,
          0.9009575796016891,
          0.8592431954195635,
          0.8689206306465432,
          0.8464023271800428,
          0.7592089694080313,
          0.6146028323048275,
          0.45658796310558925,
          0.37009856978063693,
          0.3272256048162344,
          0.29659488736675743,
          0.2638151062447993,
          0.23240221461998314,
          0.2028335032143202,
          0.173578039479487
         ],
         "c": [
          0.008680874235210445,
          0.011407442669801947,
          0.018993693618547,
          0.020902617441253355,
          0.02887540263034641,
          0.05129292742729181,
          0.09126869066736994,
          0.13779881350276038,
          0.16924249315465076,
          0.18543947928701787,
          0.19546306985639364,
          0.2036135695662924,
          0.21091522726658724,
          0.21955448990945012,
          0.2267104447898084
         ],
         "line": {
          "color": "grey",
          "width": 0.25
         },
         "marker": {
          "color": "silver",
          "line": {
           "color": "black",
           "width": 0
          },
          "opacity": 0.9,
          "size": 6
         },
         "mode": "lines+text",
         "name": "LTU",
         "showlegend": false,
         "subplot": "ternary",
         "text": [
          "",
          "",
          "",
          "",
          "",
          "",
          "",
          "",
          "",
          "",
          "",
          "",
          "",
          "",
          ""
         ],
         "textfont": {
          "color": "black",
          "size": 3.077843061588359
         },
         "type": "scatterternary"
        },
        {
         "a": [
          0.07724834197164669,
          0.08763497772850884,
          0.12176311096188945,
          0.11017675191220352,
          0.1247222701896108
         ],
         "b": [
          0.9140707837931429,
          0.9009575796016891,
          0.8592431954195635,
          0.8689206306465432,
          0.8464023271800428
         ],
         "c": [
          0.008680874235210445,
          0.011407442669801947,
          0.018993693618547,
          0.020902617441253355,
          0.02887540263034641
         ],
         "line": {
          "color": "grey",
          "width": 0.25
         },
         "marker": {
          "color": "silver",
          "line": {
           "color": "black",
           "width": 0
          },
          "opacity": 0.9,
          "size": 6
         },
         "mode": "lines+text",
         "name": "LTU",
         "showlegend": false,
         "subplot": "ternary",
         "text": [
          "",
          "",
          "",
          "",
          "",
          "",
          "",
          "",
          "",
          "",
          "",
          "",
          "",
          "",
          ""
         ],
         "textfont": {
          "color": "black",
          "size": 3.077843061588359
         },
         "type": "scatterternary"
        },
        {
         "a": [
          0.06771247222239243,
          0.06978589034633935,
          0.08696041242459124,
          0.06282332531514062,
          0.05997756796808273,
          0.08890886477934816,
          0.15050641604569118,
          0.24366992837789092,
          0.3026047238743219,
          0.3312696374694106,
          0.35573583589342117,
          0.3881916914974147,
          0.42585491822981425,
          0.4618029163996269,
          0.49957106023458586
         ],
         "b": [
          0.9245105529838722,
          0.9205717566403399,
          0.8969801595043885,
          0.9213664824648212,
          0.920803259678046,
          0.8770424777507803,
          0.7844807383636376,
          0.6501588783793427,
          0.558946217514893,
          0.5175239379236103,
          0.4889533793095484,
          0.4447138806641088,
          0.3975355627620946,
          0.34421920931339767,
          0.29194545733992966
         ],
         "c": [
          0.0077769747937352736,
          0.009642353013320872,
          0.016059428071020516,
          0.01581019222003829,
          0.01921917235387116,
          0.03404865746987171,
          0.065012845590671,
          0.10617119324276628,
          0.138449058610785,
          0.15120642460697903,
          0.15531078479703048,
          0.16709442783847656,
          0.1766095190080912,
          0.19397787428697538,
          0.20848348242548445
         ],
         "line": {
          "color": "grey",
          "width": 0.25
         },
         "marker": {
          "color": "silver",
          "line": {
           "color": "black",
           "width": 0
          },
          "opacity": 0.9,
          "size": 6
         },
         "mode": "lines+text",
         "name": "LUX",
         "showlegend": false,
         "subplot": "ternary",
         "text": [
          "",
          "",
          "",
          "",
          "",
          "",
          "",
          "",
          "",
          "",
          "",
          "",
          "",
          "",
          ""
         ],
         "textfont": {
          "color": "black",
          "size": 2.1354969377085222
         },
         "type": "scatterternary"
        },
        {
         "a": [
          0.06771247222239243,
          0.06978589034633935,
          0.08696041242459124,
          0.06282332531514062,
          0.05997756796808273
         ],
         "b": [
          0.9245105529838722,
          0.9205717566403399,
          0.8969801595043885,
          0.9213664824648212,
          0.920803259678046
         ],
         "c": [
          0.0077769747937352736,
          0.009642353013320872,
          0.016059428071020516,
          0.01581019222003829,
          0.01921917235387116
         ],
         "line": {
          "color": "grey",
          "width": 0.25
         },
         "marker": {
          "color": "silver",
          "line": {
           "color": "black",
           "width": 0
          },
          "opacity": 0.9,
          "size": 6
         },
         "mode": "lines+text",
         "name": "LUX",
         "showlegend": false,
         "subplot": "ternary",
         "text": [
          "",
          "",
          "",
          "",
          "",
          "",
          "",
          "",
          "",
          "",
          "",
          "",
          "",
          "",
          ""
         ],
         "textfont": {
          "color": "black",
          "size": 2.1354969377085222
         },
         "type": "scatterternary"
        },
        {
         "a": [
          0.16773451589745475,
          0.24069457927405663,
          0.35029459697560583,
          0.3556890381368783,
          0.3956174392697447,
          0.48688544611336176,
          0.5800624772476008,
          0.637856953313447,
          0.6532405580860752,
          0.6521364612761837,
          0.6459003240374963,
          0.6397070904817346,
          0.6349585025355393,
          0.6292465916015613,
          0.624522747884771
         ],
         "b": [
          0.8138257055604399,
          0.7295396200697787,
          0.5989782818468821,
          0.5827476836914494,
          0.5221144113085424,
          0.3945481084227381,
          0.2565770612678968,
          0.16674362180959837,
          0.13184734597553893,
          0.12719886376036155,
          0.1314691409669964,
          0.13866220482807232,
          0.1447345659044904,
          0.14979222199677875,
          0.1548456821230217
         ],
         "c": [
          0.01843977854210529,
          0.02976580065616476,
          0.05072712117751219,
          0.061563278171672516,
          0.082268149421713,
          0.11856644546390015,
          0.16336046148450237,
          0.19539942487695447,
          0.21491209593838592,
          0.22066467496345463,
          0.22263053499550708,
          0.2216307046901931,
          0.22030693155997014,
          0.22096118640165993,
          0.22063156999220734
         ],
         "line": {
          "color": "grey",
          "width": 0.25
         },
         "marker": {
          "color": "silver",
          "line": {
           "color": "black",
           "width": 0
          },
          "opacity": 0.9,
          "size": 6
         },
         "mode": "lines+text",
         "name": "MKD",
         "showlegend": false,
         "subplot": "ternary",
         "text": [
          "",
          "",
          "",
          "",
          "",
          "",
          "",
          "",
          "",
          "",
          "",
          "",
          "",
          "",
          ""
         ],
         "textfont": {
          "color": "black",
          "size": 2.847482718186658
         },
         "type": "scatterternary"
        },
        {
         "a": [
          0.16773451589745475,
          0.24069457927405663,
          0.35029459697560583,
          0.3556890381368783,
          0.3956174392697447
         ],
         "b": [
          0.8138257055604399,
          0.7295396200697787,
          0.5989782818468821,
          0.5827476836914494,
          0.5221144113085424
         ],
         "c": [
          0.01843977854210529,
          0.02976580065616476,
          0.05072712117751219,
          0.061563278171672516,
          0.082268149421713
         ],
         "line": {
          "color": "grey",
          "width": 0.25
         },
         "marker": {
          "color": "silver",
          "line": {
           "color": "black",
           "width": 0
          },
          "opacity": 0.9,
          "size": 6
         },
         "mode": "lines+text",
         "name": "MKD",
         "showlegend": false,
         "subplot": "ternary",
         "text": [
          "",
          "",
          "",
          "",
          "",
          "",
          "",
          "",
          "",
          "",
          "",
          "",
          "",
          "",
          ""
         ],
         "textfont": {
          "color": "black",
          "size": 2.847482718186658
         },
         "type": "scatterternary"
        },
        {
         "a": [
          0.15683790124715857,
          0.2946343939544344,
          0.4530172328381551,
          0.43612545565639854,
          0.36390504751349434,
          0.2903206015910142,
          0.2258470922220091,
          0.18526663726613296,
          0.1463169306625846,
          0.12464316074401215,
          0.10892626998216118,
          0.10320489514743016,
          0.10453451126578361,
          0.11104398992923623,
          0.1165082753305469
         ],
         "b": [
          0.8260984507882159,
          0.667866710595191,
          0.48256439877335994,
          0.48553217775723473,
          0.549074711149464,
          0.6063330691237891,
          0.653950064453761,
          0.6660265086755772,
          0.6637293512805155,
          0.6509788689953642,
          0.6324827259645005,
          0.6186946376086652,
          0.5995407929782568,
          0.5807810621007581,
          0.5551772858003746
         ],
         "c": [
          0.017063647964625627,
          0.037498895450374395,
          0.06441836838848493,
          0.0783423665863667,
          0.08702024133704167,
          0.10334632928519667,
          0.12020284332422991,
          0.14870685405828962,
          0.1899537180568999,
          0.22437797026062378,
          0.25859100405333846,
          0.2781004672439046,
          0.2959246957559595,
          0.30817494797000566,
          0.32831443886907846
         ],
         "line": {
          "color": "grey",
          "width": 0.25
         },
         "marker": {
          "color": "silver",
          "line": {
           "color": "black",
           "width": 0
          },
          "opacity": 0.9,
          "size": 6
         },
         "mode": "lines+text",
         "name": "MDG",
         "showlegend": false,
         "subplot": "ternary",
         "text": [
          "",
          "",
          "",
          "",
          "",
          "",
          "",
          "",
          "",
          "",
          "",
          "",
          "",
          "",
          ""
         ],
         "textfont": {
          "color": "black",
          "size": 6.183796396181992
         },
         "type": "scatterternary"
        },
        {
         "a": [
          0.15683790124715857,
          0.2946343939544344,
          0.4530172328381551,
          0.43612545565639854,
          0.36390504751349434
         ],
         "b": [
          0.8260984507882159,
          0.667866710595191,
          0.48256439877335994,
          0.48553217775723473,
          0.549074711149464
         ],
         "c": [
          0.017063647964625627,
          0.037498895450374395,
          0.06441836838848493,
          0.0783423665863667,
          0.08702024133704167
         ],
         "line": {
          "color": "grey",
          "width": 0.25
         },
         "marker": {
          "color": "silver",
          "line": {
           "color": "black",
           "width": 0
          },
          "opacity": 0.9,
          "size": 6
         },
         "mode": "lines+text",
         "name": "MDG",
         "showlegend": false,
         "subplot": "ternary",
         "text": [
          "",
          "",
          "",
          "",
          "",
          "",
          "",
          "",
          "",
          "",
          "",
          "",
          "",
          "",
          ""
         ],
         "textfont": {
          "color": "black",
          "size": 6.183796396181992
         },
         "type": "scatterternary"
        },
        {
         "a": [
          0.04060080454103681,
          0.11703138321061467,
          0.25473316270708474,
          0.29903507491692094,
          0.3433991831967367,
          0.4291711796575123,
          0.4863400549519592,
          0.48640495738935824,
          0.44269338598888064,
          0.4091401797991857,
          0.37422210329775385,
          0.35768481522853546,
          0.3540470602231461,
          0.36802164241897634,
          0.4002605227651225
         ],
         "b": [
          0.9550214413389415,
          0.869315345076951,
          0.710907539646039,
          0.6531664151239643,
          0.5908630561295353,
          0.47398783164492464,
          0.383892236232258,
          0.36312759505930153,
          0.393825557797579,
          0.41817140473954245,
          0.4430729207051937,
          0.44990792178946143,
          0.44379166562469957,
          0.42524882093425315,
          0.3965259334596204
         ],
         "c": [
          0.004377754120021732,
          0.013653271712434452,
          0.03435929764687639,
          0.047798509959114735,
          0.06573776067372808,
          0.09684098869756311,
          0.12976770881578262,
          0.15046744755134006,
          0.1634810562135405,
          0.17268841546127184,
          0.1827049759970523,
          0.19240726298200314,
          0.2021612741521544,
          0.20672953664677057,
          0.20321354377525708
         ],
         "line": {
          "color": "grey",
          "width": 0.25
         },
         "marker": {
          "color": "silver",
          "line": {
           "color": "black",
           "width": 0
          },
          "opacity": 0.9,
          "size": 6
         },
         "mode": "lines+text",
         "name": "MWI",
         "showlegend": false,
         "subplot": "ternary",
         "text": [
          "",
          "",
          "",
          "",
          "",
          "",
          "",
          "",
          "",
          "",
          "",
          "",
          "",
          "",
          ""
         ],
         "textfont": {
          "color": "black",
          "size": 5.457994075687126
         },
         "type": "scatterternary"
        },
        {
         "a": [
          0.04060080454103681,
          0.11703138321061467,
          0.25473316270708474,
          0.29903507491692094,
          0.3433991831967367
         ],
         "b": [
          0.9550214413389415,
          0.869315345076951,
          0.710907539646039,
          0.6531664151239643,
          0.5908630561295353
         ],
         "c": [
          0.004377754120021732,
          0.013653271712434452,
          0.03435929764687639,
          0.047798509959114735,
          0.06573776067372808
         ],
         "line": {
          "color": "grey",
          "width": 0.25
         },
         "marker": {
          "color": "silver",
          "line": {
           "color": "black",
           "width": 0
          },
          "opacity": 0.9,
          "size": 6
         },
         "mode": "lines+text",
         "name": "MWI",
         "showlegend": false,
         "subplot": "ternary",
         "text": [
          "",
          "",
          "",
          "",
          "",
          "",
          "",
          "",
          "",
          "",
          "",
          "",
          "",
          "",
          ""
         ],
         "textfont": {
          "color": "black",
          "size": 5.457994075687126
         },
         "type": "scatterternary"
        },
        {
         "a": [
          0.2719512695595354,
          0.31634005204215265,
          0.42318342164821615,
          0.398630759325737,
          0.39738047443044205,
          0.434244414168116,
          0.43113689117812554,
          0.4031950159842008,
          0.36060232838795125,
          0.33417144940783067,
          0.3093312713309908,
          0.28848387497104533,
          0.2748778091199417,
          0.2611204048107199,
          0.2536466364275624
         ],
         "b": [
          0.696699596818848,
          0.6406050276634165,
          0.5075654348586717,
          0.5203358872735214,
          0.5040107002594326,
          0.43665921759612564,
          0.4196596127255648,
          0.4428035284473804,
          0.48016896046595137,
          0.4993750505182991,
          0.5127410630936218,
          0.5185673218260946,
          0.519812170015006,
          0.5215381784647655,
          0.5209046369875842
         ],
         "c": [
          0.03134913362161647,
          0.04305492029443098,
          0.06925114349311211,
          0.08103335340074155,
          0.09860882531012519,
          0.12909636823575854,
          0.14920349609630962,
          0.15400145556841877,
          0.1592287111460973,
          0.16645350007387005,
          0.17792766557538758,
          0.19294880320286012,
          0.20531002086505235,
          0.21734141672451465,
          0.22544872658485354
         ],
         "line": {
          "color": "grey",
          "width": 0.25
         },
         "marker": {
          "color": "silver",
          "line": {
           "color": "black",
           "width": 0
          },
          "opacity": 0.9,
          "size": 6
         },
         "mode": "lines+text",
         "name": "MYS",
         "showlegend": false,
         "subplot": "ternary",
         "text": [
          "",
          "",
          "",
          "",
          "",
          "",
          "",
          "",
          "",
          "",
          "",
          "",
          "",
          "",
          ""
         ],
         "textfont": {
          "color": "black",
          "size": 6.5457585126467706
         },
         "type": "scatterternary"
        },
        {
         "a": [
          0.2719512695595354,
          0.31634005204215265,
          0.42318342164821615,
          0.398630759325737,
          0.39738047443044205
         ],
         "b": [
          0.696699596818848,
          0.6406050276634165,
          0.5075654348586717,
          0.5203358872735214,
          0.5040107002594326
         ],
         "c": [
          0.03134913362161647,
          0.04305492029443098,
          0.06925114349311211,
          0.08103335340074155,
          0.09860882531012519
         ],
         "line": {
          "color": "grey",
          "width": 0.25
         },
         "marker": {
          "color": "silver",
          "line": {
           "color": "black",
           "width": 0
          },
          "opacity": 0.9,
          "size": 6
         },
         "mode": "lines+text",
         "name": "MYS",
         "showlegend": false,
         "subplot": "ternary",
         "text": [
          "",
          "",
          "",
          "",
          "",
          "",
          "",
          "",
          "",
          "",
          "",
          "",
          "",
          "",
          ""
         ],
         "textfont": {
          "color": "black",
          "size": 6.5457585126467706
         },
         "type": "scatterternary"
        },
        {
         "a": [
          0.13026273559220186,
          0.2207023080698418,
          0.3466442655564533,
          0.3647142337761297,
          0.3964827289437147,
          0.44987429972917603,
          0.46055576461397896,
          0.43427249013354696,
          0.38256057065668037,
          0.3316367423603677,
          0.2801307790566132,
          0.24317257266167178,
          0.2226392635435292,
          0.2037361892133463,
          0.19909690458716064
         ],
         "b": [
          0.85511832238468,
          0.7512705779009675,
          0.6011470568220152,
          0.5693083979061162,
          0.5166466833522622,
          0.43065351204678554,
          0.3881498656944309,
          0.3846666617412548,
          0.40766154443836794,
          0.4341412840653762,
          0.45938749508845417,
          0.47349526816363874,
          0.47851992772325774,
          0.4775842080978472,
          0.4684111127704469
         ],
         "c": [
          0.014618942023118173,
          0.028027114029190614,
          0.05220867762153133,
          0.06597736831775408,
          0.08687058770402313,
          0.1194721882240385,
          0.15129436969159027,
          0.18106084812519838,
          0.20977788490495167,
          0.23422197357425595,
          0.2604817258549326,
          0.28333215917468957,
          0.29884080873321317,
          0.3186796026888067,
          0.33249198264239244
         ],
         "line": {
          "color": "grey",
          "width": 0.25
         },
         "marker": {
          "color": "silver",
          "line": {
           "color": "black",
           "width": 0
          },
          "opacity": 0.9,
          "size": 6
         },
         "mode": "lines+text",
         "name": "MDV",
         "showlegend": false,
         "subplot": "ternary",
         "text": [
          "",
          "",
          "",
          "",
          "",
          "",
          "",
          "",
          "",
          "",
          "",
          "",
          "",
          "",
          ""
         ],
         "textfont": {
          "color": "black",
          "size": 2.046801063951455
         },
         "type": "scatterternary"
        },
        {
         "a": [
          0.13026273559220186,
          0.2207023080698418,
          0.3466442655564533,
          0.3647142337761297,
          0.3964827289437147
         ],
         "b": [
          0.85511832238468,
          0.7512705779009675,
          0.6011470568220152,
          0.5693083979061162,
          0.5166466833522622
         ],
         "c": [
          0.014618942023118173,
          0.028027114029190614,
          0.05220867762153133,
          0.06597736831775408,
          0.08687058770402313
         ],
         "line": {
          "color": "grey",
          "width": 0.25
         },
         "marker": {
          "color": "silver",
          "line": {
           "color": "black",
           "width": 0
          },
          "opacity": 0.9,
          "size": 6
         },
         "mode": "lines+text",
         "name": "MDV",
         "showlegend": false,
         "subplot": "ternary",
         "text": [
          "",
          "",
          "",
          "",
          "",
          "",
          "",
          "",
          "",
          "",
          "",
          "",
          "",
          "",
          ""
         ],
         "textfont": {
          "color": "black",
          "size": 2.046801063951455
         },
         "type": "scatterternary"
        },
        {
         "a": [
          0.07983923868682824,
          0.1785899861906851,
          0.34199373438908665,
          0.3829917122112507,
          0.40744073340407316,
          0.4453248751355363,
          0.43509880020316355,
          0.39879384946791413,
          0.36011730886848065,
          0.34038195962781037,
          0.31939614549442374,
          0.31494759612245044,
          0.3162956251790876,
          0.32087442099370306,
          0.3296025336219113
         ],
         "b": [
          0.911421560769943,
          0.7999891687541726,
          0.6101664909751676,
          0.552853836383287,
          0.5099895453342524,
          0.4438979665088542,
          0.4293201331454939,
          0.44824289820908714,
          0.47174177491722163,
          0.47544711768618864,
          0.47801586000178103,
          0.46403625503838597,
          0.44873814267803736,
          0.43065124511303987,
          0.4125257165914143
         ],
         "c": [
          0.008739200543228765,
          0.02142084505514236,
          0.04783977463574582,
          0.06415445140546226,
          0.08256972126167442,
          0.11077715835560957,
          0.13558106665134248,
          0.15296325232299857,
          0.16814091621429794,
          0.18417092268600108,
          0.20258799450379533,
          0.2210161488391636,
          0.2349662321428751,
          0.24847433389325707,
          0.2578717497866745
         ],
         "line": {
          "color": "grey",
          "width": 0.25
         },
         "marker": {
          "color": "silver",
          "line": {
           "color": "black",
           "width": 0
          },
          "opacity": 0.9,
          "size": 6
         },
         "mode": "lines+text",
         "name": "MLI",
         "showlegend": false,
         "subplot": "ternary",
         "text": [
          "",
          "",
          "",
          "",
          "",
          "",
          "",
          "",
          "",
          "",
          "",
          "",
          "",
          "",
          ""
         ],
         "textfont": {
          "color": "black",
          "size": 5.618329094112684
         },
         "type": "scatterternary"
        },
        {
         "a": [
          0.07983923868682824,
          0.1785899861906851,
          0.34199373438908665,
          0.3829917122112507,
          0.40744073340407316
         ],
         "b": [
          0.911421560769943,
          0.7999891687541726,
          0.6101664909751676,
          0.552853836383287,
          0.5099895453342524
         ],
         "c": [
          0.008739200543228765,
          0.02142084505514236,
          0.04783977463574582,
          0.06415445140546226,
          0.08256972126167442
         ],
         "line": {
          "color": "grey",
          "width": 0.25
         },
         "marker": {
          "color": "silver",
          "line": {
           "color": "black",
           "width": 0
          },
          "opacity": 0.9,
          "size": 6
         },
         "mode": "lines+text",
         "name": "MLI",
         "showlegend": false,
         "subplot": "ternary",
         "text": [
          "",
          "",
          "",
          "",
          "",
          "",
          "",
          "",
          "",
          "",
          "",
          "",
          "",
          "",
          ""
         ],
         "textfont": {
          "color": "black",
          "size": 5.618329094112684
         },
         "type": "scatterternary"
        },
        {
         "a": [
          0.06833038479713403,
          0.10447441721518924,
          0.1642881774952722,
          0.17577804261579733,
          0.21024328707137474,
          0.2912571397425634,
          0.40589186859646365,
          0.5153131151730006,
          0.5740899639372332,
          0.6056254211424102,
          0.6229424018226495,
          0.6287910886261006,
          0.6331982663381714,
          0.6310822380913044,
          0.6294392321750353
         ],
         "b": [
          0.9241020218474432,
          0.8826230172481138,
          0.8118808049365103,
          0.7936003434210169,
          0.74553826338719,
          0.6363544105177229,
          0.47732518192696716,
          0.3233742407422233,
          0.23184852661444053,
          0.1848986250031476,
          0.15980356889279904,
          0.15212491060973526,
          0.1472566501014647,
          0.14840198463818896,
          0.1491815776238972
         ],
         "c": [
          0.007567593355422791,
          0.012902565536696912,
          0.023831017568217476,
          0.030621613963185777,
          0.044218449541435334,
          0.07238844973971356,
          0.11678294947656888,
          0.16131264408477605,
          0.19406150944832637,
          0.20947595385444212,
          0.21725402928455137,
          0.21908400076416418,
          0.2195450835603638,
          0.22051577727050656,
          0.22137919020106775
         ],
         "line": {
          "color": "grey",
          "width": 0.25
         },
         "marker": {
          "color": "silver",
          "line": {
           "color": "black",
           "width": 0
          },
          "opacity": 0.9,
          "size": 6
         },
         "mode": "lines+text",
         "name": "MLT",
         "showlegend": false,
         "subplot": "ternary",
         "text": [
          "",
          "",
          "",
          "",
          "",
          "",
          "",
          "",
          "",
          "",
          "",
          "",
          "",
          "",
          ""
         ],
         "textfont": {
          "color": "black",
          "size": 2.045738867747767
         },
         "type": "scatterternary"
        },
        {
         "a": [
          0.06833038479713403,
          0.10447441721518924,
          0.1642881774952722,
          0.17577804261579733,
          0.21024328707137474
         ],
         "b": [
          0.9241020218474432,
          0.8826230172481138,
          0.8118808049365103,
          0.7936003434210169,
          0.74553826338719
         ],
         "c": [
          0.007567593355422791,
          0.012902565536696912,
          0.023831017568217476,
          0.030621613963185777,
          0.044218449541435334
         ],
         "line": {
          "color": "grey",
          "width": 0.25
         },
         "marker": {
          "color": "silver",
          "line": {
           "color": "black",
           "width": 0
          },
          "opacity": 0.9,
          "size": 6
         },
         "mode": "lines+text",
         "name": "MLT",
         "showlegend": false,
         "subplot": "ternary",
         "text": [
          "",
          "",
          "",
          "",
          "",
          "",
          "",
          "",
          "",
          "",
          "",
          "",
          "",
          "",
          ""
         ],
         "textfont": {
          "color": "black",
          "size": 2.045738867747767
         },
         "type": "scatterternary"
        },
        {
         "a": [
          0,
          0,
          0,
          0,
          0,
          0,
          0,
          0,
          0,
          0,
          0,
          0,
          0,
          0,
          0
         ],
         "b": [
          0,
          0,
          0,
          0,
          0,
          0,
          0,
          0,
          0,
          0,
          0,
          0,
          0,
          0,
          0
         ],
         "c": [
          0,
          0,
          0,
          0,
          0,
          0,
          0,
          0,
          0,
          0,
          0,
          0,
          0,
          0,
          0
         ],
         "line": {
          "color": "grey",
          "width": 0.25
         },
         "marker": {
          "color": "silver",
          "line": {
           "color": "black",
           "width": 0
          },
          "opacity": 0.9,
          "size": 6
         },
         "mode": "lines+text",
         "name": "MHL",
         "showlegend": false,
         "subplot": "ternary",
         "text": [
          "",
          "",
          "",
          "",
          "",
          "",
          "",
          "",
          "",
          "",
          "",
          "",
          "",
          "",
          ""
         ],
         "textfont": {
          "color": "black",
          "size": 2.3694187025678044
         },
         "type": "scatterternary"
        },
        {
         "a": [
          0,
          0,
          0,
          0,
          0
         ],
         "b": [
          0,
          0,
          0,
          0,
          0
         ],
         "c": [
          0,
          0,
          0,
          0,
          0
         ],
         "line": {
          "color": "grey",
          "width": 0.25
         },
         "marker": {
          "color": "silver",
          "line": {
           "color": "black",
           "width": 0
          },
          "opacity": 0.9,
          "size": 6
         },
         "mode": "lines+text",
         "name": "MHL",
         "showlegend": false,
         "subplot": "ternary",
         "text": [
          "",
          "",
          "",
          "",
          "",
          "",
          "",
          "",
          "",
          "",
          "",
          "",
          "",
          "",
          ""
         ],
         "textfont": {
          "color": "black",
          "size": 2.3694187025678044
         },
         "type": "scatterternary"
        },
        {
         "a": [
          0.2122153099223771,
          0.3331798183666522,
          0.5014618618132628,
          0.5019165756686202,
          0.49204473796089687,
          0.4900246366797094,
          0.4624220025502205,
          0.4347330171565055,
          0.41711135618982087,
          0.4220641009171827,
          0.4328210863269616,
          0.45841992952233757,
          0.49267936271128104,
          0.5205259002142406,
          0.540040791304174
         ],
         "b": [
          0.764344279980061,
          0.6258077460418112,
          0.42598376918941955,
          0.4093204802729335,
          0.40218666983476314,
          0.3793872812882282,
          0.383654498016684,
          0.393588919319174,
          0.3928816525332464,
          0.36911027577332955,
          0.3393773808208161,
          0.29982761053669843,
          0.2579386809432299,
          0.22379236369706976,
          0.1989601992723599
         ],
         "c": [
          0.023440410097561957,
          0.0410124355915365,
          0.07255436899731743,
          0.08876294405844623,
          0.10576859220434022,
          0.13058808203206257,
          0.15392349943309555,
          0.1716780635243206,
          0.19000699127693269,
          0.2088256233094878,
          0.22780153285222213,
          0.241752459940964,
          0.249381956345489,
          0.2556817360886895,
          0.260999009423466
         ],
         "line": {
          "color": "grey",
          "width": 0.25
         },
         "marker": {
          "color": "silver",
          "line": {
           "color": "black",
           "width": 0
          },
          "opacity": 0.9,
          "size": 6
         },
         "mode": "lines+text",
         "name": "MRT",
         "showlegend": false,
         "subplot": "ternary",
         "text": [
          "",
          "",
          "",
          "",
          "",
          "",
          "",
          "",
          "",
          "",
          "",
          "",
          "",
          "",
          ""
         ],
         "textfont": {
          "color": "black",
          "size": 3.486140953879629
         },
         "type": "scatterternary"
        },
        {
         "a": [
          0.2122153099223771,
          0.3331798183666522,
          0.5014618618132628,
          0.5019165756686202,
          0.49204473796089687
         ],
         "b": [
          0.764344279980061,
          0.6258077460418112,
          0.42598376918941955,
          0.4093204802729335,
          0.40218666983476314
         ],
         "c": [
          0.023440410097561957,
          0.0410124355915365,
          0.07255436899731743,
          0.08876294405844623,
          0.10576859220434022
         ],
         "line": {
          "color": "grey",
          "width": 0.25
         },
         "marker": {
          "color": "silver",
          "line": {
           "color": "black",
           "width": 0
          },
          "opacity": 0.9,
          "size": 6
         },
         "mode": "lines+text",
         "name": "MRT",
         "showlegend": false,
         "subplot": "ternary",
         "text": [
          "",
          "",
          "",
          "",
          "",
          "",
          "",
          "",
          "",
          "",
          "",
          "",
          "",
          "",
          ""
         ],
         "textfont": {
          "color": "black",
          "size": 3.486140953879629
         },
         "type": "scatterternary"
        },
        {
         "a": [
          0.07532457904712993,
          0.16155744491247845,
          0.292663455010782,
          0.3177510222379387,
          0.36546290149695576,
          0.378932466097615,
          0.32471227203619707,
          0.26667148027336385,
          0.20669310067269525,
          0.1673711968432132,
          0.1345166962476887,
          0.11631589031872973,
          0.1011212194057011,
          0.09280554282276487,
          0.08594267063825797
         ],
         "b": [
          0.916120524027196,
          0.8126385648421219,
          0.6551197518611843,
          0.6189153761533072,
          0.5419429054710022,
          0.5030567345864385,
          0.5465480749272642,
          0.5850748839136694,
          0.6092071521056046,
          0.6161331230996103,
          0.6081877078157641,
          0.6085908426297834,
          0.6013072775101752,
          0.5946252217704762,
          0.5763765484446506
         ],
         "c": [
          0.008554896925674182,
          0.025803990245399647,
          0.05221679312803368,
          0.06333360160875416,
          0.09259419303204212,
          0.11801079931594649,
          0.1287396530365387,
          0.14825363581296674,
          0.18409974722170022,
          0.21649568005717645,
          0.25729559593654694,
          0.27509326705148696,
          0.2975715030841237,
          0.31256923540675885,
          0.33768078091709136
         ],
         "line": {
          "color": "grey",
          "width": 0.25
         },
         "marker": {
          "color": "silver",
          "line": {
           "color": "black",
           "width": 0
          },
          "opacity": 0.9,
          "size": 6
         },
         "mode": "lines+text",
         "name": "MUS",
         "showlegend": false,
         "subplot": "ternary",
         "text": [
          "",
          "",
          "",
          "",
          "",
          "",
          "",
          "",
          "",
          "",
          "",
          "",
          "",
          "",
          ""
         ],
         "textfont": {
          "color": "black",
          "size": 2.5195267890895936
         },
         "type": "scatterternary"
        },
        {
         "a": [
          0.07532457904712993,
          0.16155744491247845,
          0.292663455010782,
          0.3177510222379387,
          0.36546290149695576
         ],
         "b": [
          0.916120524027196,
          0.8126385648421219,
          0.6551197518611843,
          0.6189153761533072,
          0.5419429054710022
         ],
         "c": [
          0.008554896925674182,
          0.025803990245399647,
          0.05221679312803368,
          0.06333360160875416,
          0.09259419303204212
         ],
         "line": {
          "color": "grey",
          "width": 0.25
         },
         "marker": {
          "color": "silver",
          "line": {
           "color": "black",
           "width": 0
          },
          "opacity": 0.9,
          "size": 6
         },
         "mode": "lines+text",
         "name": "MUS",
         "showlegend": false,
         "subplot": "ternary",
         "text": [
          "",
          "",
          "",
          "",
          "",
          "",
          "",
          "",
          "",
          "",
          "",
          "",
          "",
          "",
          ""
         ],
         "textfont": {
          "color": "black",
          "size": 2.5195267890895936
         },
         "type": "scatterternary"
        },
        {
         "a": [
          0.884635174062337,
          0.867470670046031,
          0.8410322096107615,
          0.812941641246911,
          0.788170892912955,
          0.7652465147945983,
          0.7396451396168298,
          0.7186096745528342,
          0.6987302920732823,
          0.6854337181840853,
          0.6766089807997768,
          0.6670483016879829,
          0.6536498461036677,
          0.6443219792466802,
          0.6441821866969195
         ],
         "b": [
          0.01664002842581854,
          0.019995585982592646,
          0.028641000105010844,
          0.035982312932243854,
          0.03590030253576264,
          0.034102060905480805,
          0.035471794460925445,
          0.040967808551350154,
          0.0470652622127754,
          0.053652719561788596,
          0.05802227123269626,
          0.06305077186348905,
          0.06905302559687058,
          0.07090009358176595,
          0.06700633878335499
         ],
         "c": [
          0.09872479751184438,
          0.11253374397137646,
          0.1303267902842277,
          0.15107604582084513,
          0.17592880455128235,
          0.20065142429992094,
          0.22488306592224486,
          0.24042251689581548,
          0.2542044457139424,
          0.26091356225412626,
          0.26536874796752674,
          0.2699009264485281,
          0.2772971282994617,
          0.2847779271715538,
          0.2888114745197255
         ],
         "line": {
          "color": "grey",
          "width": 0.25
         },
         "marker": {
          "color": "silver",
          "line": {
           "color": "black",
           "width": 0
          },
          "opacity": 0.9,
          "size": 6
         },
         "mode": "lines+text",
         "name": "MEX",
         "showlegend": false,
         "subplot": "ternary",
         "text": [
          "",
          "",
          "",
          "",
          "",
          "",
          "",
          "",
          "",
          "",
          "",
          "",
          "",
          "",
          ""
         ],
         "textfont": {
          "color": "black",
          "size": 10.46556588674239
         },
         "type": "scatterternary"
        },
        {
         "a": [
          0.884635174062337,
          0.867470670046031,
          0.8410322096107615,
          0.812941641246911,
          0.788170892912955
         ],
         "b": [
          0.01664002842581854,
          0.019995585982592646,
          0.028641000105010844,
          0.035982312932243854,
          0.03590030253576264
         ],
         "c": [
          0.09872479751184438,
          0.11253374397137646,
          0.1303267902842277,
          0.15107604582084513,
          0.17592880455128235
         ],
         "line": {
          "color": "grey",
          "width": 0.25
         },
         "marker": {
          "color": "silver",
          "line": {
           "color": "black",
           "width": 0
          },
          "opacity": 0.9,
          "size": 6
         },
         "mode": "lines+text",
         "name": "MEX",
         "showlegend": false,
         "subplot": "ternary",
         "text": [
          "",
          "",
          "",
          "",
          "",
          "",
          "",
          "",
          "",
          "",
          "",
          "",
          "",
          "",
          ""
         ],
         "textfont": {
          "color": "black",
          "size": 10.46556588674239
         },
         "type": "scatterternary"
        },
        {
         "a": [
          0,
          0,
          0,
          0,
          0,
          0,
          0,
          0,
          0,
          0,
          0,
          0,
          0,
          0,
          0
         ],
         "b": [
          0,
          0,
          0,
          0,
          0,
          0,
          0,
          0,
          0,
          0,
          0,
          0,
          0,
          0,
          0
         ],
         "c": [
          0,
          0,
          0,
          0,
          0,
          0,
          0,
          0,
          0,
          0,
          0,
          0,
          0,
          0,
          0
         ],
         "line": {
          "color": "grey",
          "width": 0.25
         },
         "marker": {
          "color": "silver",
          "line": {
           "color": "black",
           "width": 0
          },
          "opacity": 0.9,
          "size": 6
         },
         "mode": "lines+text",
         "name": "FSM",
         "showlegend": false,
         "subplot": "ternary",
         "text": [
          "",
          "",
          "",
          "",
          "",
          "",
          "",
          "",
          "",
          "",
          "",
          "",
          "",
          "",
          ""
         ],
         "textfont": {
          "color": "black",
          "size": 2.14616661805037
         },
         "type": "scatterternary"
        },
        {
         "a": [
          0,
          0,
          0,
          0,
          0
         ],
         "b": [
          0,
          0,
          0,
          0,
          0
         ],
         "c": [
          0,
          0,
          0,
          0,
          0
         ],
         "line": {
          "color": "grey",
          "width": 0.25
         },
         "marker": {
          "color": "silver",
          "line": {
           "color": "black",
           "width": 0
          },
          "opacity": 0.9,
          "size": 6
         },
         "mode": "lines+text",
         "name": "FSM",
         "showlegend": false,
         "subplot": "ternary",
         "text": [
          "",
          "",
          "",
          "",
          "",
          "",
          "",
          "",
          "",
          "",
          "",
          "",
          "",
          "",
          ""
         ],
         "textfont": {
          "color": "black",
          "size": 2.14616661805037
         },
         "type": "scatterternary"
        },
        {
         "a": [
          0.05840436778118187,
          0.11766814186986636,
          0.21693870054420325,
          0.23122008496905427,
          0.26674161396877444,
          0.35597813263362643,
          0.47407508486038885,
          0.5685189774989828,
          0.6022598611389192,
          0.6053677267365862,
          0.5950810998064118,
          0.5875242875269461,
          0.5786199202517066,
          0.5696214274141158,
          0.5633682579638376
         ],
         "b": [
          0.935219457684006,
          0.8681985794019325,
          0.752650567063068,
          0.7300126239394217,
          0.6792932947230343,
          0.5595830177800455,
          0.3949112028494146,
          0.25914746239451664,
          0.20122032408697607,
          0.1920569918871836,
          0.20303550777230606,
          0.21388378968729446,
          0.22712313360046615,
          0.23835180330320424,
          0.24617666541215535
         ],
         "c": [
          0.0063761745348119405,
          0.014133278728201044,
          0.030410732392728766,
          0.038767291091524034,
          0.05396509130819123,
          0.08443884958632807,
          0.13101371229019643,
          0.17233356010650058,
          0.19651981477410485,
          0.2025752813762301,
          0.20188339242128214,
          0.19859192278575943,
          0.19425694614782732,
          0.1920267692826799,
          0.19045507662400707
         ],
         "line": {
          "color": "grey",
          "width": 0.25
         },
         "marker": {
          "color": "silver",
          "line": {
           "color": "black",
           "width": 0
          },
          "opacity": 0.9,
          "size": 6
         },
         "mode": "lines+text",
         "name": "MDA",
         "showlegend": false,
         "subplot": "ternary",
         "text": [
          "",
          "",
          "",
          "",
          "",
          "",
          "",
          "",
          "",
          "",
          "",
          "",
          "",
          "",
          ""
         ],
         "textfont": {
          "color": "black",
          "size": 3.1517992461487987
         },
         "type": "scatterternary"
        },
        {
         "a": [
          0.05840436778118187,
          0.11766814186986636,
          0.21693870054420325,
          0.23122008496905427,
          0.26674161396877444
         ],
         "b": [
          0.935219457684006,
          0.8681985794019325,
          0.752650567063068,
          0.7300126239394217,
          0.6792932947230343
         ],
         "c": [
          0.0063761745348119405,
          0.014133278728201044,
          0.030410732392728766,
          0.038767291091524034,
          0.05396509130819123
         ],
         "line": {
          "color": "grey",
          "width": 0.25
         },
         "marker": {
          "color": "silver",
          "line": {
           "color": "black",
           "width": 0
          },
          "opacity": 0.9,
          "size": 6
         },
         "mode": "lines+text",
         "name": "MDA",
         "showlegend": false,
         "subplot": "ternary",
         "text": [
          "",
          "",
          "",
          "",
          "",
          "",
          "",
          "",
          "",
          "",
          "",
          "",
          "",
          "",
          ""
         ],
         "textfont": {
          "color": "black",
          "size": 3.1517992461487987
         },
         "type": "scatterternary"
        },
        {
         "a": [
          0,
          0,
          0,
          0,
          0,
          0,
          0,
          0,
          0,
          0,
          0,
          0,
          0,
          0,
          0
         ],
         "b": [
          0,
          0,
          0,
          0,
          0,
          0,
          0,
          0,
          0,
          0,
          0,
          0,
          0,
          0,
          0
         ],
         "c": [
          0,
          0,
          0,
          0,
          0,
          0,
          0,
          0,
          0,
          0,
          0,
          0,
          0,
          0,
          0
         ],
         "line": {
          "color": "grey",
          "width": 0.25
         },
         "marker": {
          "color": "silver",
          "line": {
           "color": "black",
           "width": 0
          },
          "opacity": 0.9,
          "size": 6
         },
         "mode": "lines+text",
         "name": "MCO",
         "showlegend": false,
         "subplot": "ternary",
         "text": [
          "",
          "",
          "",
          "",
          "",
          "",
          "",
          "",
          "",
          "",
          "",
          "",
          "",
          "",
          ""
         ],
         "textfont": {
          "color": "black",
          "size": 2.3694187025678044
         },
         "type": "scatterternary"
        },
        {
         "a": [
          0,
          0,
          0,
          0,
          0
         ],
         "b": [
          0,
          0,
          0,
          0,
          0
         ],
         "c": [
          0,
          0,
          0,
          0,
          0
         ],
         "line": {
          "color": "grey",
          "width": 0.25
         },
         "marker": {
          "color": "silver",
          "line": {
           "color": "black",
           "width": 0
          },
          "opacity": 0.9,
          "size": 6
         },
         "mode": "lines+text",
         "name": "MCO",
         "showlegend": false,
         "subplot": "ternary",
         "text": [
          "",
          "",
          "",
          "",
          "",
          "",
          "",
          "",
          "",
          "",
          "",
          "",
          "",
          "",
          ""
         ],
         "textfont": {
          "color": "black",
          "size": 2.3694187025678044
         },
         "type": "scatterternary"
        },
        {
         "a": [
          0.05817766624192413,
          0.05752512839914669,
          0.0714420489673974,
          0.05854914145589901,
          0.05764883395999585,
          0.08351207279247762,
          0.14649791271412613,
          0.285646507787254,
          0.4765775288628459,
          0.6287774453031428,
          0.700222103183955,
          0.6997916267438515,
          0.6958862484464123,
          0.6938591822747888,
          0.6906144764557828
         ],
         "b": [
          0.9351691696060183,
          0.9345132425761407,
          0.9161924276597478,
          0.9281892914179439,
          0.9257913726682921,
          0.8882042206779805,
          0.7971818520767189,
          0.5991494174458529,
          0.32763359514895096,
          0.1218894475924568,
          0.031748235997374266,
          0.03393626934172992,
          0.038919484648379105,
          0.04253871065003165,
          0.045439273917594836
         ],
         "c": [
          0.006653164152057512,
          0.007961629024712546,
          0.01236552337285468,
          0.013261567126156979,
          0.0165597933717119,
          0.028283706529541847,
          0.05632023520915514,
          0.11520407476689316,
          0.19578887598820327,
          0.24933310710440026,
          0.2680296608186706,
          0.26627210391441847,
          0.2651942669052087,
          0.26360210707517945,
          0.2639462496266223
         ],
         "line": {
          "color": "grey",
          "width": 0.25
         },
         "marker": {
          "color": "silver",
          "line": {
           "color": "black",
           "width": 0
          },
          "opacity": 0.9,
          "size": 6
         },
         "mode": "lines+text",
         "name": "MNG",
         "showlegend": false,
         "subplot": "ternary",
         "text": [
          "",
          "",
          "",
          "",
          "",
          "",
          "",
          "",
          "",
          "",
          "",
          "",
          "",
          "",
          ""
         ],
         "textfont": {
          "color": "black",
          "size": 3.1987061571709243
         },
         "type": "scatterternary"
        },
        {
         "a": [
          0.05817766624192413,
          0.05752512839914669,
          0.0714420489673974,
          0.05854914145589901,
          0.05764883395999585
         ],
         "b": [
          0.9351691696060183,
          0.9345132425761407,
          0.9161924276597478,
          0.9281892914179439,
          0.9257913726682921
         ],
         "c": [
          0.006653164152057512,
          0.007961629024712546,
          0.01236552337285468,
          0.013261567126156979,
          0.0165597933717119
         ],
         "line": {
          "color": "grey",
          "width": 0.25
         },
         "marker": {
          "color": "silver",
          "line": {
           "color": "black",
           "width": 0
          },
          "opacity": 0.9,
          "size": 6
         },
         "mode": "lines+text",
         "name": "MNG",
         "showlegend": false,
         "subplot": "ternary",
         "text": [
          "",
          "",
          "",
          "",
          "",
          "",
          "",
          "",
          "",
          "",
          "",
          "",
          "",
          "",
          ""
         ],
         "textfont": {
          "color": "black",
          "size": 3.1987061571709243
         },
         "type": "scatterternary"
        },
        {
         "a": [
          0.06402147952015103,
          0.11627156362407505,
          0.2025210662880776,
          0.21436583478044297,
          0.25129547660685503,
          0.34524503515937915,
          0.47269928518085585,
          0.5790252508959418,
          0.6210541182311937,
          0.62677953667103,
          0.6180698643931535,
          0.6093811849968661,
          0.6018715937568667,
          0.5948629404545449,
          0.5879403842467794
         ],
         "b": [
          0.9289693120747351,
          0.8696227231025918,
          0.7689167705524398,
          0.7496071317712092,
          0.697901358861426,
          0.5729463901961529,
          0.39716459394072123,
          0.24639954689726074,
          0.17741569802110907,
          0.16434818266366477,
          0.17280730163459182,
          0.1846575964725196,
          0.19555431524259564,
          0.20376722737102748,
          0.21255035834512995
         ],
         "c": [
          0.0070092084051139,
          0.014105713273333155,
          0.028562163159482734,
          0.03602703344834771,
          0.050803164531718945,
          0.08180857464446795,
          0.13013612087842302,
          0.17457520220679734,
          0.201530183747697,
          0.20887228066530517,
          0.20912283397225467,
          0.20596121853061436,
          0.2025740910005375,
          0.20136983217442767,
          0.19950925740809067
         ],
         "line": {
          "color": "grey",
          "width": 0.25
         },
         "marker": {
          "color": "silver",
          "line": {
           "color": "black",
           "width": 0
          },
          "opacity": 0.9,
          "size": 6
         },
         "mode": "lines+text",
         "name": "MNE",
         "showlegend": false,
         "subplot": "ternary",
         "text": [
          "",
          "",
          "",
          "",
          "",
          "",
          "",
          "",
          "",
          "",
          "",
          "",
          "",
          "",
          ""
         ],
         "textfont": {
          "color": "black",
          "size": 2.138260299613347
         },
         "type": "scatterternary"
        },
        {
         "a": [
          0.06402147952015103,
          0.11627156362407505,
          0.2025210662880776,
          0.21436583478044297,
          0.25129547660685503
         ],
         "b": [
          0.9289693120747351,
          0.8696227231025918,
          0.7689167705524398,
          0.7496071317712092,
          0.697901358861426
         ],
         "c": [
          0.0070092084051139,
          0.014105713273333155,
          0.028562163159482734,
          0.03602703344834771,
          0.050803164531718945
         ],
         "line": {
          "color": "grey",
          "width": 0.25
         },
         "marker": {
          "color": "silver",
          "line": {
           "color": "black",
           "width": 0
          },
          "opacity": 0.9,
          "size": 6
         },
         "mode": "lines+text",
         "name": "MNE",
         "showlegend": false,
         "subplot": "ternary",
         "text": [
          "",
          "",
          "",
          "",
          "",
          "",
          "",
          "",
          "",
          "",
          "",
          "",
          "",
          "",
          ""
         ],
         "textfont": {
          "color": "black",
          "size": 2.138260299613347
         },
         "type": "scatterternary"
        },
        {
         "a": [
          0.05703844748534667,
          0.11526658683141426,
          0.21337552621233719,
          0.23311707787720967,
          0.27316400311461797,
          0.379014586350797,
          0.5100531952363077,
          0.6171610253859956,
          0.653766011130541,
          0.666826715736153,
          0.6779340377743799,
          0.6852086605750524,
          0.6866852888531481,
          0.6855862110566056,
          0.6786326892637229
         ],
         "b": [
          0.9361025118139908,
          0.8701421885545452,
          0.7548298505353819,
          0.7253474880649268,
          0.6697328017234183,
          0.5290051522757283,
          0.34552412235380564,
          0.18903673156272546,
          0.1226535283324727,
          0.09751824610712348,
          0.07952928773940257,
          0.07253219995324843,
          0.07248408300371129,
          0.07366089324302195,
          0.08446361035847691
         ],
         "c": [
          0.006859040700662469,
          0.014591224614040553,
          0.031794623252280996,
          0.0415354340578636,
          0.0571031951619639,
          0.0919802613734747,
          0.14442268240988665,
          0.19380224305127883,
          0.22358046053698624,
          0.23565503815672345,
          0.24253667448621763,
          0.24225913947169925,
          0.24083062814314057,
          0.24075289570037256,
          0.23690370037780023
         ],
         "line": {
          "color": "grey",
          "width": 0.25
         },
         "marker": {
          "color": "silver",
          "line": {
           "color": "black",
           "width": 0
          },
          "opacity": 0.9,
          "size": 6
         },
         "mode": "lines+text",
         "name": "MAR",
         "showlegend": false,
         "subplot": "ternary",
         "text": [
          "",
          "",
          "",
          "",
          "",
          "",
          "",
          "",
          "",
          "",
          "",
          "",
          "",
          "",
          ""
         ],
         "textfont": {
          "color": "black",
          "size": 6.772983051365272
         },
         "type": "scatterternary"
        },
        {
         "a": [
          0.05703844748534667,
          0.11526658683141426,
          0.21337552621233719,
          0.23311707787720967,
          0.27316400311461797
         ],
         "b": [
          0.9361025118139908,
          0.8701421885545452,
          0.7548298505353819,
          0.7253474880649268,
          0.6697328017234183
         ],
         "c": [
          0.006859040700662469,
          0.014591224614040553,
          0.031794623252280996,
          0.0415354340578636,
          0.0571031951619639
         ],
         "line": {
          "color": "grey",
          "width": 0.25
         },
         "marker": {
          "color": "silver",
          "line": {
           "color": "black",
           "width": 0
          },
          "opacity": 0.9,
          "size": 6
         },
         "mode": "lines+text",
         "name": "MAR",
         "showlegend": false,
         "subplot": "ternary",
         "text": [
          "",
          "",
          "",
          "",
          "",
          "",
          "",
          "",
          "",
          "",
          "",
          "",
          "",
          "",
          ""
         ],
         "textfont": {
          "color": "black",
          "size": 6.772983051365272
         },
         "type": "scatterternary"
        },
        {
         "a": [
          0.12044662624665246,
          0.24126867182996112,
          0.4151124830316796,
          0.426051174592773,
          0.41156445557244936,
          0.3975603304716281,
          0.3463473642236514,
          0.29192229204552594,
          0.24690781508643767,
          0.22599771411881042,
          0.2070561615581624,
          0.20748628898324567,
          0.20576445132005838,
          0.1926943728638149,
          0.19856818978670815
         ],
         "b": [
          0.8659396118474554,
          0.7279831948443524,
          0.5264366263520298,
          0.5020321610685228,
          0.5023528494886617,
          0.5023740508632414,
          0.5443133264353259,
          0.5917526240514274,
          0.6181623969156798,
          0.6053441906326202,
          0.5780817814417252,
          0.541182882601082,
          0.5049367351233275,
          0.48768895081980734,
          0.4557149313302117
         ],
         "c": [
          0.013613761905892346,
          0.03074813332568647,
          0.05845089061629078,
          0.07191666433870425,
          0.08608269493888884,
          0.10006561866513053,
          0.10933930934102275,
          0.11632508390304677,
          0.13492978799788274,
          0.16865809524856928,
          0.21486205700011246,
          0.2513308284156723,
          0.2892988135566141,
          0.3196166763163777,
          0.3457168788830801
         ],
         "line": {
          "color": "grey",
          "width": 0.25
         },
         "marker": {
          "color": "silver",
          "line": {
           "color": "black",
           "width": 0
          },
          "opacity": 0.9,
          "size": 6
         },
         "mode": "lines+text",
         "name": "MOZ",
         "showlegend": false,
         "subplot": "ternary",
         "text": [
          "",
          "",
          "",
          "",
          "",
          "",
          "",
          "",
          "",
          "",
          "",
          "",
          "",
          "",
          ""
         ],
         "textfont": {
          "color": "black",
          "size": 6.389009958822078
         },
         "type": "scatterternary"
        },
        {
         "a": [
          0.12044662624665246,
          0.24126867182996112,
          0.4151124830316796,
          0.426051174592773,
          0.41156445557244936
         ],
         "b": [
          0.8659396118474554,
          0.7279831948443524,
          0.5264366263520298,
          0.5020321610685228,
          0.5023528494886617
         ],
         "c": [
          0.013613761905892346,
          0.03074813332568647,
          0.05845089061629078,
          0.07191666433870425,
          0.08608269493888884
         ],
         "line": {
          "color": "grey",
          "width": 0.25
         },
         "marker": {
          "color": "silver",
          "line": {
           "color": "black",
           "width": 0
          },
          "opacity": 0.9,
          "size": 6
         },
         "mode": "lines+text",
         "name": "MOZ",
         "showlegend": false,
         "subplot": "ternary",
         "text": [
          "",
          "",
          "",
          "",
          "",
          "",
          "",
          "",
          "",
          "",
          "",
          "",
          "",
          "",
          ""
         ],
         "textfont": {
          "color": "black",
          "size": 6.389009958822078
         },
         "type": "scatterternary"
        },
        {
         "a": [
          0.25062951831132024,
          0.3749936400695308,
          0.5195460945766408,
          0.478713659171044,
          0.4578487684005879,
          0.4678898163677966,
          0.4578333112847156,
          0.43583621926083016,
          0.41205300292081193,
          0.40857085185195585,
          0.40614281895161564,
          0.4084621500926535,
          0.4112812734647636,
          0.40791582848361885,
          0.40365109013550804
         ],
         "b": [
          0.7218324675290063,
          0.5786028989802632,
          0.4048042396203779,
          0.4366458284867768,
          0.44015146461100196,
          0.40405237289315016,
          0.3861419332609547,
          0.38713871828745083,
          0.39164449250511085,
          0.37963939120840834,
          0.3680770379144322,
          0.3547521205401243,
          0.3418123891770451,
          0.33521890668085624,
          0.32920130341428405
         ],
         "c": [
          0.02753801415967362,
          0.04640346095020602,
          0.07564966580298123,
          0.08464051234217902,
          0.10199976698841022,
          0.1280578107390533,
          0.1560247554543297,
          0.17702506245171898,
          0.19630250457407714,
          0.21178975693963575,
          0.2257801431339524,
          0.2367857293672222,
          0.24690633735819134,
          0.2568652648355249,
          0.26714760645020785
         ],
         "line": {
          "color": "grey",
          "width": 0.25
         },
         "marker": {
          "color": "silver",
          "line": {
           "color": "black",
           "width": 0
          },
          "opacity": 0.9,
          "size": 6
         },
         "mode": "lines+text",
         "name": "MMR",
         "showlegend": false,
         "subplot": "ternary",
         "text": [
          "",
          "",
          "",
          "",
          "",
          "",
          "",
          "",
          "",
          "",
          "",
          "",
          "",
          "",
          ""
         ],
         "textfont": {
          "color": "black",
          "size": 7.714168393468986
         },
         "type": "scatterternary"
        },
        {
         "a": [
          0.25062951831132024,
          0.3749936400695308,
          0.5195460945766408,
          0.478713659171044,
          0.4578487684005879
         ],
         "b": [
          0.7218324675290063,
          0.5786028989802632,
          0.4048042396203779,
          0.4366458284867768,
          0.44015146461100196
         ],
         "c": [
          0.02753801415967362,
          0.04640346095020602,
          0.07564966580298123,
          0.08464051234217902,
          0.10199976698841022
         ],
         "line": {
          "color": "grey",
          "width": 0.25
         },
         "marker": {
          "color": "silver",
          "line": {
           "color": "black",
           "width": 0
          },
          "opacity": 0.9,
          "size": 6
         },
         "mode": "lines+text",
         "name": "MMR",
         "showlegend": false,
         "subplot": "ternary",
         "text": [
          "",
          "",
          "",
          "",
          "",
          "",
          "",
          "",
          "",
          "",
          "",
          "",
          "",
          "",
          ""
         ],
         "textfont": {
          "color": "black",
          "size": 7.714168393468986
         },
         "type": "scatterternary"
        },
        {
         "a": [
          0.486969864705188,
          0.43986029794109677,
          0.42264928511651895,
          0.39962441659201464,
          0.39771905565760585,
          0.40961318306444783,
          0.43927456076210014,
          0.47032596917992814,
          0.5032196139043004,
          0.5415233562548913,
          0.5707198025890587,
          0.5811227591840153,
          0.5750292508617978,
          0.5630921248955841,
          0.5598490193447719
         ],
         "b": [
          0.4583637661756948,
          0.5023153088762022,
          0.5101061858590534,
          0.5214570290556673,
          0.5069420692459651,
          0.4738569342522449,
          0.41599804195309675,
          0.36467296531147375,
          0.30911188387001054,
          0.257282448912978,
          0.2220172132915966,
          0.21257070815602197,
          0.2198516912561298,
          0.22879671152976497,
          0.22572130029831372
         ],
         "c": [
          0.05466636911911723,
          0.057824393182700905,
          0.06724452902442753,
          0.0789185543523181,
          0.09533887509642887,
          0.1165298826833072,
          0.1447273972848032,
          0.16500106550859822,
          0.1876685022256892,
          0.20119419483213064,
          0.20726298411934457,
          0.20630653265996263,
          0.20511905788207235,
          0.2081111635746509,
          0.21442968035691443
         ],
         "line": {
          "color": "grey",
          "width": 0.25
         },
         "marker": {
          "color": "silver",
          "line": {
           "color": "black",
           "width": 0
          },
          "opacity": 0.9,
          "size": 6
         },
         "mode": "lines+text",
         "name": "NAM",
         "showlegend": false,
         "subplot": "ternary",
         "text": [
          "",
          "",
          "",
          "",
          "",
          "",
          "",
          "",
          "",
          "",
          "",
          "",
          "",
          "",
          ""
         ],
         "textfont": {
          "color": "black",
          "size": 2.9652119986605396
         },
         "type": "scatterternary"
        },
        {
         "a": [
          0.486969864705188,
          0.43986029794109677,
          0.42264928511651895,
          0.39962441659201464,
          0.39771905565760585
         ],
         "b": [
          0.4583637661756948,
          0.5023153088762022,
          0.5101061858590534,
          0.5214570290556673,
          0.5069420692459651
         ],
         "c": [
          0.05466636911911723,
          0.057824393182700905,
          0.06724452902442753,
          0.0789185543523181,
          0.09533887509642887
         ],
         "line": {
          "color": "grey",
          "width": 0.25
         },
         "marker": {
          "color": "silver",
          "line": {
           "color": "black",
           "width": 0
          },
          "opacity": 0.9,
          "size": 6
         },
         "mode": "lines+text",
         "name": "NAM",
         "showlegend": false,
         "subplot": "ternary",
         "text": [
          "",
          "",
          "",
          "",
          "",
          "",
          "",
          "",
          "",
          "",
          "",
          "",
          "",
          "",
          ""
         ],
         "textfont": {
          "color": "black",
          "size": 2.9652119986605396
         },
         "type": "scatterternary"
        },
        {
         "a": [
          0,
          0,
          0,
          0,
          0,
          0,
          0,
          0,
          0,
          0,
          0,
          0,
          0,
          0,
          0
         ],
         "b": [
          0,
          0,
          0,
          0,
          0,
          0,
          0,
          0,
          0,
          0,
          0,
          0,
          0,
          0,
          0
         ],
         "c": [
          0,
          0,
          0,
          0,
          0,
          0,
          0,
          0,
          0,
          0,
          0,
          0,
          0,
          0,
          0
         ],
         "line": {
          "color": "grey",
          "width": 0.25
         },
         "marker": {
          "color": "silver",
          "line": {
           "color": "black",
           "width": 0
          },
          "opacity": 0.9,
          "size": 6
         },
         "mode": "lines+text",
         "name": "NRU",
         "showlegend": false,
         "subplot": "ternary",
         "text": [
          "",
          "",
          "",
          "",
          "",
          "",
          "",
          "",
          "",
          "",
          "",
          "",
          "",
          "",
          ""
         ],
         "textfont": {
          "color": "black",
          "size": 2.3694187025678044
         },
         "type": "scatterternary"
        },
        {
         "a": [
          0,
          0,
          0,
          0,
          0
         ],
         "b": [
          0,
          0,
          0,
          0,
          0
         ],
         "c": [
          0,
          0,
          0,
          0,
          0
         ],
         "line": {
          "color": "grey",
          "width": 0.25
         },
         "marker": {
          "color": "silver",
          "line": {
           "color": "black",
           "width": 0
          },
          "opacity": 0.9,
          "size": 6
         },
         "mode": "lines+text",
         "name": "NRU",
         "showlegend": false,
         "subplot": "ternary",
         "text": [
          "",
          "",
          "",
          "",
          "",
          "",
          "",
          "",
          "",
          "",
          "",
          "",
          "",
          "",
          ""
         ],
         "textfont": {
          "color": "black",
          "size": 2.3694187025678044
         },
         "type": "scatterternary"
        },
        {
         "a": [
          0.03412997734428443,
          0.08817488272578877,
          0.1891266877120607,
          0.2064870950489705,
          0.24220779762699418,
          0.33833391136104374,
          0.4514990737408284,
          0.5220170436184508,
          0.5344424125254048,
          0.533706637957124,
          0.5276786917736925,
          0.5454093125711987,
          0.5769259288691373,
          0.5987388251318138,
          0.6142506751325376
         ],
         "b": [
          0.9621169619803787,
          0.9012143715224448,
          0.7843194253075962,
          0.7581770649278666,
          0.7054725575459986,
          0.5681033515445402,
          0.3942757700590529,
          0.26796279997506406,
          0.21945133618010482,
          0.19884358308909272,
          0.18769250360553624,
          0.16013023716763142,
          0.12459446174719192,
          0.09845503294279995,
          0.08094942127135836
         ],
         "c": [
          0.003753060675336856,
          0.010610745751766678,
          0.026553886980343056,
          0.03533584002316274,
          0.052319644827007135,
          0.0935627370944162,
          0.15422515620011876,
          0.21002015640648508,
          0.24610625129449032,
          0.2674497789537834,
          0.2846288046207714,
          0.2944604502611697,
          0.2984796093836708,
          0.3028061419253863,
          0.30479990359610404
         ],
         "line": {
          "color": "grey",
          "width": 0.25
         },
         "marker": {
          "color": "silver",
          "line": {
           "color": "black",
           "width": 0
          },
          "opacity": 0.9,
          "size": 6
         },
         "mode": "lines+text",
         "name": "NPL",
         "showlegend": false,
         "subplot": "ternary",
         "text": [
          "",
          "",
          "",
          "",
          "",
          "",
          "",
          "",
          "",
          "",
          "",
          "",
          "",
          "",
          ""
         ],
         "textfont": {
          "color": "black",
          "size": 6.2661205856073146
         },
         "type": "scatterternary"
        },
        {
         "a": [
          0.03412997734428443,
          0.08817488272578877,
          0.1891266877120607,
          0.2064870950489705,
          0.24220779762699418
         ],
         "b": [
          0.9621169619803787,
          0.9012143715224448,
          0.7843194253075962,
          0.7581770649278666,
          0.7054725575459986
         ],
         "c": [
          0.003753060675336856,
          0.010610745751766678,
          0.026553886980343056,
          0.03533584002316274,
          0.052319644827007135
         ],
         "line": {
          "color": "grey",
          "width": 0.25
         },
         "marker": {
          "color": "silver",
          "line": {
           "color": "black",
           "width": 0
          },
          "opacity": 0.9,
          "size": 6
         },
         "mode": "lines+text",
         "name": "NPL",
         "showlegend": false,
         "subplot": "ternary",
         "text": [
          "",
          "",
          "",
          "",
          "",
          "",
          "",
          "",
          "",
          "",
          "",
          "",
          "",
          "",
          ""
         ],
         "textfont": {
          "color": "black",
          "size": 6.2661205856073146
         },
         "type": "scatterternary"
        },
        {
         "a": [
          0.13328162516703712,
          0.15565096206891033,
          0.2194140694631169,
          0.19060842437816528,
          0.19700715959088894,
          0.25870414219828997,
          0.3393166301996082,
          0.40194520238052955,
          0.4101047378038991,
          0.4162420591045818,
          0.4306744949584915,
          0.45528927104721606,
          0.4883857072459098,
          0.523870672011117,
          0.5652936320197538
         ],
         "b": [
          0.8517353220968297,
          0.8240608636358012,
          0.7458794086321174,
          0.7718621368814669,
          0.7543016572619675,
          0.6642278255242353,
          0.5461622630586567,
          0.4513860763404461,
          0.4270531899188302,
          0.4136034590606345,
          0.3923578060708258,
          0.3546536004851076,
          0.31300476748936634,
          0.26261768563461174,
          0.20945203256834108
         ],
         "c": [
          0.014983052736133078,
          0.020288174295288376,
          0.0347065219047656,
          0.03752943874036798,
          0.048691183147143526,
          0.07706803227747475,
          0.11452110674173495,
          0.1466687212790242,
          0.1628420722772706,
          0.17015448183478357,
          0.17696769897068268,
          0.19005712846767644,
          0.1986095252647239,
          0.21351164235427125,
          0.22525433541190512
         ],
         "line": {
          "color": "grey",
          "width": 0.25
         },
         "marker": {
          "color": "silver",
          "line": {
           "color": "black",
           "width": 0
          },
          "opacity": 0.9,
          "size": 6
         },
         "mode": "lines+text",
         "name": "NLD",
         "showlegend": false,
         "subplot": "ternary",
         "text": [
          "",
          "",
          "",
          "",
          "",
          "",
          "",
          "",
          "",
          "",
          "",
          "",
          "",
          "",
          ""
         ],
         "textfont": {
          "color": "black",
          "size": 5.293176127037234
         },
         "type": "scatterternary"
        },
        {
         "a": [
          0.13328162516703712,
          0.15565096206891033,
          0.2194140694631169,
          0.19060842437816528,
          0.19700715959088894
         ],
         "b": [
          0.8517353220968297,
          0.8240608636358012,
          0.7458794086321174,
          0.7718621368814669,
          0.7543016572619675
         ],
         "c": [
          0.014983052736133078,
          0.020288174295288376,
          0.0347065219047656,
          0.03752943874036798,
          0.048691183147143526
         ],
         "line": {
          "color": "grey",
          "width": 0.25
         },
         "marker": {
          "color": "silver",
          "line": {
           "color": "black",
           "width": 0
          },
          "opacity": 0.9,
          "size": 6
         },
         "mode": "lines+text",
         "name": "NLD",
         "showlegend": false,
         "subplot": "ternary",
         "text": [
          "",
          "",
          "",
          "",
          "",
          "",
          "",
          "",
          "",
          "",
          "",
          "",
          "",
          "",
          ""
         ],
         "textfont": {
          "color": "black",
          "size": 5.293176127037234
         },
         "type": "scatterternary"
        },
        {
         "a": [
          0.02643431740416316,
          0.028294255025113447,
          0.03575775850369858,
          0.028847636092688027,
          0.03223563160529701,
          0.05531078631961177,
          0.11305200044187835,
          0.2371854714265591,
          0.37261509243210134,
          0.4272644242959279,
          0.436737234274741,
          0.4438404624668337,
          0.45519295563868345,
          0.4738920554825886,
          0.505811418202984
         ],
         "b": [
          0.9705827234226934,
          0.967978017406845,
          0.9585224785956211,
          0.9654708198601751,
          0.9601253174807451,
          0.9290769200723479,
          0.8498893424384305,
          0.677324913762413,
          0.48231009740397723,
          0.3999538713744838,
          0.3832495745841404,
          0.3728804842137239,
          0.35444531899895804,
          0.32070418528287314,
          0.269003613581056
         ],
         "c": [
          0.0029829591731434612,
          0.003727727568041579,
          0.005719762900680207,
          0.005681544047136916,
          0.007639050913957982,
          0.015612293608040418,
          0.03705865711969126,
          0.08548961481102803,
          0.14507481016392143,
          0.17278170432958828,
          0.18001319114111872,
          0.1832790533194425,
          0.1903617253623584,
          0.20540375923453832,
          0.22518496821596
         ],
         "line": {
          "color": "grey",
          "width": 0.25
         },
         "marker": {
          "color": "silver",
          "line": {
           "color": "black",
           "width": 0
          },
          "opacity": 0.9,
          "size": 6
         },
         "mode": "lines+text",
         "name": "NZL",
         "showlegend": false,
         "subplot": "ternary",
         "text": [
          "",
          "",
          "",
          "",
          "",
          "",
          "",
          "",
          "",
          "",
          "",
          "",
          "",
          "",
          ""
         ],
         "textfont": {
          "color": "black",
          "size": 3.6124140524664283
         },
         "type": "scatterternary"
        },
        {
         "a": [
          0.02643431740416316,
          0.028294255025113447,
          0.03575775850369858,
          0.028847636092688027,
          0.03223563160529701
         ],
         "b": [
          0.9705827234226934,
          0.967978017406845,
          0.9585224785956211,
          0.9654708198601751,
          0.9601253174807451
         ],
         "c": [
          0.0029829591731434612,
          0.003727727568041579,
          0.005719762900680207,
          0.005681544047136916,
          0.007639050913957982
         ],
         "line": {
          "color": "grey",
          "width": 0.25
         },
         "marker": {
          "color": "silver",
          "line": {
           "color": "black",
           "width": 0
          },
          "opacity": 0.9,
          "size": 6
         },
         "mode": "lines+text",
         "name": "NZL",
         "showlegend": false,
         "subplot": "ternary",
         "text": [
          "",
          "",
          "",
          "",
          "",
          "",
          "",
          "",
          "",
          "",
          "",
          "",
          "",
          "",
          ""
         ],
         "textfont": {
          "color": "black",
          "size": 3.6124140524664283
         },
         "type": "scatterternary"
        },
        {
         "a": [
          0.13676434446898886,
          0.19023458303474874,
          0.25923240504784106,
          0.271908707815962,
          0.2969067158503075,
          0.3498491209648051,
          0.39046748679318843,
          0.40924551182156343,
          0.434532004250972,
          0.4662154624162832,
          0.49630386995937725,
          0.5294975827313597,
          0.5549408410014232,
          0.5770661530743169,
          0.594478665949698
         ],
         "b": [
          0.8479070392966535,
          0.7854964738613354,
          0.6984757756925659,
          0.6604216041324787,
          0.5888175866961444,
          0.4752985750910251,
          0.3681280061573241,
          0.2944553902730979,
          0.24687381025339505,
          0.2011575318355324,
          0.1615905501616292,
          0.12970491947162063,
          0.10578692031007657,
          0.09136443297889774,
          0.08272192014780588
         ],
         "c": [
          0.015328616234357724,
          0.024268943103915978,
          0.04229181925959295,
          0.06766968805155911,
          0.11427569745354813,
          0.17485230394416995,
          0.24140450704948746,
          0.2962990979053387,
          0.31859418549563295,
          0.3326270057481845,
          0.3421055798789936,
          0.34079749779701973,
          0.3392722386885003,
          0.3315694139467854,
          0.3227994139024962
         ],
         "line": {
          "color": "grey",
          "width": 0.25
         },
         "marker": {
          "color": "silver",
          "line": {
           "color": "black",
           "width": 0
          },
          "opacity": 0.9,
          "size": 6
         },
         "mode": "lines+text",
         "name": "NIC",
         "showlegend": false,
         "subplot": "ternary",
         "text": [
          "",
          "",
          "",
          "",
          "",
          "",
          "",
          "",
          "",
          "",
          "",
          "",
          "",
          "",
          ""
         ],
         "textfont": {
          "color": "black",
          "size": 3.9323621119761847
         },
         "type": "scatterternary"
        },
        {
         "a": [
          0.13676434446898886,
          0.19023458303474874,
          0.25923240504784106,
          0.271908707815962,
          0.2969067158503075
         ],
         "b": [
          0.8479070392966535,
          0.7854964738613354,
          0.6984757756925659,
          0.6604216041324787,
          0.5888175866961444
         ],
         "c": [
          0.015328616234357724,
          0.024268943103915978,
          0.04229181925959295,
          0.06766968805155911,
          0.11427569745354813
         ],
         "line": {
          "color": "grey",
          "width": 0.25
         },
         "marker": {
          "color": "silver",
          "line": {
           "color": "black",
           "width": 0
          },
          "opacity": 0.9,
          "size": 6
         },
         "mode": "lines+text",
         "name": "NIC",
         "showlegend": false,
         "subplot": "ternary",
         "text": [
          "",
          "",
          "",
          "",
          "",
          "",
          "",
          "",
          "",
          "",
          "",
          "",
          "",
          "",
          ""
         ],
         "textfont": {
          "color": "black",
          "size": 3.9323621119761847
         },
         "type": "scatterternary"
        },
        {
         "a": [
          0.10126907454026805,
          0.216601809317527,
          0.3932873509792331,
          0.4339385050972212,
          0.4441091731235522,
          0.4524788468707338,
          0.4190912922560779,
          0.37733306251920623,
          0.3405867405426847,
          0.32480489005794977,
          0.3070380834379979,
          0.3072639275334118,
          0.3093853687577055,
          0.31517282741442965,
          0.3248671293206452
         ],
         "b": [
          0.8876641475062902,
          0.7572397768406041,
          0.5511871870914288,
          0.49242389171845496,
          0.4644407600529795,
          0.43276602958589994,
          0.44828914830616096,
          0.47724377251023353,
          0.5017544643658749,
          0.504057542265284,
          0.5056512060591946,
          0.49036999381573937,
          0.4772236248354116,
          0.46040273705082635,
          0.44288947894225383
         ],
         "c": [
          0.011066777953441848,
          0.026158413841868823,
          0.05552546192933811,
          0.07363760318432387,
          0.09145006682346839,
          0.11475512354336621,
          0.1326195594377611,
          0.14542316497056015,
          0.1576587950914404,
          0.17113756767676636,
          0.18731071050280754,
          0.20236607865084882,
          0.21339100640688288,
          0.22442443553474403,
          0.2322433917371009
         ],
         "line": {
          "color": "grey",
          "width": 0.25
         },
         "marker": {
          "color": "silver",
          "line": {
           "color": "black",
           "width": 0
          },
          "opacity": 0.9,
          "size": 6
         },
         "mode": "lines+text",
         "name": "NER",
         "showlegend": false,
         "subplot": "ternary",
         "text": [
          "",
          "",
          "",
          "",
          "",
          "",
          "",
          "",
          "",
          "",
          "",
          "",
          "",
          "",
          ""
         ],
         "textfont": {
          "color": "black",
          "size": 5.872617016044634
         },
         "type": "scatterternary"
        },
        {
         "a": [
          0.10126907454026805,
          0.216601809317527,
          0.3932873509792331,
          0.4339385050972212,
          0.4441091731235522
         ],
         "b": [
          0.8876641475062902,
          0.7572397768406041,
          0.5511871870914288,
          0.49242389171845496,
          0.4644407600529795
         ],
         "c": [
          0.011066777953441848,
          0.026158413841868823,
          0.05552546192933811,
          0.07363760318432387,
          0.09145006682346839
         ],
         "line": {
          "color": "grey",
          "width": 0.25
         },
         "marker": {
          "color": "silver",
          "line": {
           "color": "black",
           "width": 0
          },
          "opacity": 0.9,
          "size": 6
         },
         "mode": "lines+text",
         "name": "NER",
         "showlegend": false,
         "subplot": "ternary",
         "text": [
          "",
          "",
          "",
          "",
          "",
          "",
          "",
          "",
          "",
          "",
          "",
          "",
          "",
          "",
          ""
         ],
         "textfont": {
          "color": "black",
          "size": 5.872617016044634
         },
         "type": "scatterternary"
        },
        {
         "a": [
          0.08305577046590881,
          0.18980226171385584,
          0.36331361064497786,
          0.4009390388708826,
          0.4280488997671592,
          0.4758648399147757,
          0.4842787211536722,
          0.464316080730941,
          0.43755151718408813,
          0.4225230964507899,
          0.40664104834979964,
          0.40627428665982535,
          0.4082707202683995,
          0.4114264276473024,
          0.4161143917824104
         ],
         "b": [
          0.9069717402420738,
          0.7847330331074603,
          0.5815202435953566,
          0.5314371374193949,
          0.4848888908591137,
          0.4082491114903161,
          0.37556735557370013,
          0.38539829405010356,
          0.40494156719773705,
          0.4099467615080153,
          0.41017287345898357,
          0.39570607272366237,
          0.37809044029380123,
          0.3615980424698903,
          0.34270365176858675
         ],
         "c": [
          0.009972489292017418,
          0.025464705178683832,
          0.05516614575966564,
          0.06762382370972266,
          0.08706220937372715,
          0.11588604859490806,
          0.1401539232726278,
          0.1502856252189554,
          0.15750691561817462,
          0.1675301420411947,
          0.18318607819121682,
          0.19801964061651228,
          0.21363883943779927,
          0.22697552988280734,
          0.2411819564490028
         ],
         "line": {
          "color": "grey",
          "width": 0.25
         },
         "marker": {
          "color": "silver",
          "line": {
           "color": "black",
           "width": 0
          },
          "opacity": 0.9,
          "size": 6
         },
         "mode": "lines+text",
         "name": "NGA",
         "showlegend": false,
         "subplot": "ternary",
         "text": [
          "",
          "",
          "",
          "",
          "",
          "",
          "",
          "",
          "",
          "",
          "",
          "",
          "",
          "",
          ""
         ],
         "textfont": {
          "color": "black",
          "size": 12.531824558071703
         },
         "type": "scatterternary"
        },
        {
         "a": [
          0.08305577046590881,
          0.18980226171385584,
          0.36331361064497786,
          0.4009390388708826,
          0.4280488997671592
         ],
         "b": [
          0.9069717402420738,
          0.7847330331074603,
          0.5815202435953566,
          0.5314371374193949,
          0.4848888908591137
         ],
         "c": [
          0.009972489292017418,
          0.025464705178683832,
          0.05516614575966564,
          0.06762382370972266,
          0.08706220937372715
         ],
         "line": {
          "color": "grey",
          "width": 0.25
         },
         "marker": {
          "color": "silver",
          "line": {
           "color": "black",
           "width": 0
          },
          "opacity": 0.9,
          "size": 6
         },
         "mode": "lines+text",
         "name": "NGA",
         "showlegend": false,
         "subplot": "ternary",
         "text": [
          "",
          "",
          "",
          "",
          "",
          "",
          "",
          "",
          "",
          "",
          "",
          "",
          "",
          "",
          ""
         ],
         "textfont": {
          "color": "black",
          "size": 12.531824558071703
         },
         "type": "scatterternary"
        },
        {
         "a": [
          0,
          0,
          0,
          0,
          0,
          0,
          0,
          0,
          0,
          0,
          0,
          0,
          0,
          0,
          0
         ],
         "b": [
          0,
          0,
          0,
          0,
          0,
          0,
          0,
          0,
          0,
          0,
          0,
          0,
          0,
          0,
          0
         ],
         "c": [
          0,
          0,
          0,
          0,
          0,
          0,
          0,
          0,
          0,
          0,
          0,
          0,
          0,
          0,
          0
         ],
         "line": {
          "color": "grey",
          "width": 0.25
         },
         "marker": {
          "color": "silver",
          "line": {
           "color": "black",
           "width": 0
          },
          "opacity": 0.9,
          "size": 6
         },
         "mode": "lines+text",
         "name": "NIU",
         "showlegend": false,
         "subplot": "ternary",
         "text": [
          "",
          "",
          "",
          "",
          "",
          "",
          "",
          "",
          "",
          "",
          "",
          "",
          "",
          "",
          ""
         ],
         "textfont": {
          "color": "black",
          "size": 2.3694187025678044
         },
         "type": "scatterternary"
        },
        {
         "a": [
          0,
          0,
          0,
          0,
          0
         ],
         "b": [
          0,
          0,
          0,
          0,
          0
         ],
         "c": [
          0,
          0,
          0,
          0,
          0
         ],
         "line": {
          "color": "grey",
          "width": 0.25
         },
         "marker": {
          "color": "silver",
          "line": {
           "color": "black",
           "width": 0
          },
          "opacity": 0.9,
          "size": 6
         },
         "mode": "lines+text",
         "name": "NIU",
         "showlegend": false,
         "subplot": "ternary",
         "text": [
          "",
          "",
          "",
          "",
          "",
          "",
          "",
          "",
          "",
          "",
          "",
          "",
          "",
          "",
          ""
         ],
         "textfont": {
          "color": "black",
          "size": 2.3694187025678044
         },
         "type": "scatterternary"
        },
        {
         "a": [
          0.13850109784087028,
          0.24021020779529487,
          0.3858690806918868,
          0.37593159080899197,
          0.39319058729335804,
          0.4676838567734664,
          0.5410938310906652,
          0.5835232876256775,
          0.5889812748278318,
          0.5865784544191908,
          0.5794110277983695,
          0.5786567932631312,
          0.5764101076653828,
          0.5724339895770267,
          0.566911031182915
         ],
         "b": [
          0.8461418658486196,
          0.7300254230732205,
          0.5568701561646044,
          0.5551905801138981,
          0.5170692671508302,
          0.4086810453652408,
          0.29554648534690925,
          0.2258538285638637,
          0.20591018403300904,
          0.20516230066400584,
          0.2136656202803273,
          0.21767887691448334,
          0.22380374210487877,
          0.22979182146175484,
          0.23795072794152536
         ],
         "c": [
          0.015357036310509931,
          0.029764369131484714,
          0.05726076314350873,
          0.06887782907710996,
          0.08974014555581156,
          0.12363509786129283,
          0.1633596835624254,
          0.19062288381045883,
          0.2051085411391591,
          0.20825924491680325,
          0.20692335192130304,
          0.2036643298223854,
          0.1997861502297383,
          0.19777418896121837,
          0.19513824087555964
         ],
         "line": {
          "color": "grey",
          "width": 0.25
         },
         "marker": {
          "color": "silver",
          "line": {
           "color": "black",
           "width": 0
          },
          "opacity": 0.9,
          "size": 6
         },
         "mode": "lines+text",
         "name": "PRK",
         "showlegend": false,
         "subplot": "ternary",
         "text": [
          "",
          "",
          "",
          "",
          "",
          "",
          "",
          "",
          "",
          "",
          "",
          "",
          "",
          "",
          ""
         ],
         "textfont": {
          "color": "black",
          "size": 6.026587525616059
         },
         "type": "scatterternary"
        },
        {
         "a": [
          0.13850109784087028,
          0.24021020779529487,
          0.3858690806918868,
          0.37593159080899197,
          0.39319058729335804
         ],
         "b": [
          0.8461418658486196,
          0.7300254230732205,
          0.5568701561646044,
          0.5551905801138981,
          0.5170692671508302
         ],
         "c": [
          0.015357036310509931,
          0.029764369131484714,
          0.05726076314350873,
          0.06887782907710996,
          0.08974014555581156
         ],
         "line": {
          "color": "grey",
          "width": 0.25
         },
         "marker": {
          "color": "silver",
          "line": {
           "color": "black",
           "width": 0
          },
          "opacity": 0.9,
          "size": 6
         },
         "mode": "lines+text",
         "name": "PRK",
         "showlegend": false,
         "subplot": "ternary",
         "text": [
          "",
          "",
          "",
          "",
          "",
          "",
          "",
          "",
          "",
          "",
          "",
          "",
          "",
          "",
          ""
         ],
         "textfont": {
          "color": "black",
          "size": 6.026587525616059
         },
         "type": "scatterternary"
        },
        {
         "a": [
          0.19275166037234287,
          0.2020498926996041,
          0.26078781125077943,
          0.20703645560053105,
          0.1965507416573473,
          0.2473240635067701,
          0.3114269450672795,
          0.35703019191792607,
          0.3565207631157232,
          0.35695829605009677,
          0.36841397967354494,
          0.38982829026577454,
          0.4180542590564748,
          0.4480194694283363,
          0.4854062763151191
         ],
         "b": [
          0.7854538703788466,
          0.7712768261389182,
          0.6967861975357013,
          0.7504362740936186,
          0.7525755401021643,
          0.6753849668155558,
          0.577958999424453,
          0.5075015485279138,
          0.4968937290394367,
          0.4916998101617364,
          0.4756198937127438,
          0.44271220519310833,
          0.4079412161869936,
          0.3635163408076482,
          0.3139059326628486
         ],
         "c": [
          0.021794469248810778,
          0.02667328116147767,
          0.042425991213519205,
          0.042527270305850455,
          0.05087371824048822,
          0.07729096967767422,
          0.11061405550826749,
          0.1354682595541602,
          0.14658550784484004,
          0.1513418937881666,
          0.15596612661371145,
          0.1674595045411171,
          0.17400452475653175,
          0.1884641897640155,
          0.20068779102203227
         ],
         "line": {
          "color": "grey",
          "width": 0.25
         },
         "marker": {
          "color": "silver",
          "line": {
           "color": "black",
           "width": 0
          },
          "opacity": 0.9,
          "size": 6
         },
         "mode": "lines+text",
         "name": "NOR",
         "showlegend": false,
         "subplot": "ternary",
         "text": [
          "",
          "",
          "",
          "",
          "",
          "",
          "",
          "",
          "",
          "",
          "",
          "",
          "",
          "",
          ""
         ],
         "textfont": {
          "color": "black",
          "size": 3.6820049490403735
         },
         "type": "scatterternary"
        },
        {
         "a": [
          0.19275166037234287,
          0.2020498926996041,
          0.26078781125077943,
          0.20703645560053105,
          0.1965507416573473
         ],
         "b": [
          0.7854538703788466,
          0.7712768261389182,
          0.6967861975357013,
          0.7504362740936186,
          0.7525755401021643
         ],
         "c": [
          0.021794469248810778,
          0.02667328116147767,
          0.042425991213519205,
          0.042527270305850455,
          0.05087371824048822
         ],
         "line": {
          "color": "grey",
          "width": 0.25
         },
         "marker": {
          "color": "silver",
          "line": {
           "color": "black",
           "width": 0
          },
          "opacity": 0.9,
          "size": 6
         },
         "mode": "lines+text",
         "name": "NOR",
         "showlegend": false,
         "subplot": "ternary",
         "text": [
          "",
          "",
          "",
          "",
          "",
          "",
          "",
          "",
          "",
          "",
          "",
          "",
          "",
          "",
          ""
         ],
         "textfont": {
          "color": "black",
          "size": 3.6820049490403735
         },
         "type": "scatterternary"
        },
        {
         "a": [
          0.2598575315904514,
          0.2679580252054536,
          0.36059057250819493,
          0.3194556973482787,
          0.300252824347199,
          0.3379290946160323,
          0.35774521741372056,
          0.3358782145539254,
          0.29660189292158495,
          0.2575561299867475,
          0.23297058529718317,
          0.21140601141476378,
          0.1967617075133833,
          0.18455456974603274,
          0.16551814559330869
         ],
         "b": [
          0.7089418837372505,
          0.6941212362598151,
          0.5799880711384702,
          0.6173168227956665,
          0.6291284478023476,
          0.5679898408344498,
          0.5161485995598797,
          0.5296371753250124,
          0.5777913789649191,
          0.621118261020642,
          0.6501357512027829,
          0.6570863536617272,
          0.6502493930875531,
          0.6480623067799384,
          0.6387284372301224
         ],
         "c": [
          0.03120058467229818,
          0.03792073853473134,
          0.05942135635333499,
          0.06322747985605465,
          0.07061872785045357,
          0.09408106454951783,
          0.12610618302639975,
          0.13448461012106214,
          0.125606728113496,
          0.12132560899261044,
          0.11689366350003402,
          0.13150763492350892,
          0.15298889939906357,
          0.16738312347402878,
          0.19575341717656877
         ],
         "line": {
          "color": "grey",
          "width": 0.25
         },
         "marker": {
          "color": "silver",
          "line": {
           "color": "black",
           "width": 0
          },
          "opacity": 0.9,
          "size": 6
         },
         "mode": "lines+text",
         "name": "OMN",
         "showlegend": false,
         "subplot": "ternary",
         "text": [
          "",
          "",
          "",
          "",
          "",
          "",
          "",
          "",
          "",
          "",
          "",
          "",
          "",
          "",
          ""
         ],
         "textfont": {
          "color": "black",
          "size": 3.519002440895488
         },
         "type": "scatterternary"
        },
        {
         "a": [
          0.2598575315904514,
          0.2679580252054536,
          0.36059057250819493,
          0.3194556973482787,
          0.300252824347199
         ],
         "b": [
          0.7089418837372505,
          0.6941212362598151,
          0.5799880711384702,
          0.6173168227956665,
          0.6291284478023476
         ],
         "c": [
          0.03120058467229818,
          0.03792073853473134,
          0.05942135635333499,
          0.06322747985605465,
          0.07061872785045357
         ],
         "line": {
          "color": "grey",
          "width": 0.25
         },
         "marker": {
          "color": "silver",
          "line": {
           "color": "black",
           "width": 0
          },
          "opacity": 0.9,
          "size": 6
         },
         "mode": "lines+text",
         "name": "OMN",
         "showlegend": false,
         "subplot": "ternary",
         "text": [
          "",
          "",
          "",
          "",
          "",
          "",
          "",
          "",
          "",
          "",
          "",
          "",
          "",
          "",
          ""
         ],
         "textfont": {
          "color": "black",
          "size": 3.519002440895488
         },
         "type": "scatterternary"
        },
        {
         "a": [
          0.05601884125447015,
          0.1321357670742526,
          0.2696015936530172,
          0.30034319646063745,
          0.3432723559726719,
          0.4417906660906782,
          0.5331404806467659,
          0.5802794280577501,
          0.5863732865025375,
          0.5873824112862576,
          0.5851808513142989,
          0.5928547014776084,
          0.5997466993869749,
          0.5981800081263553,
          0.5868299607936729
         ],
         "b": [
          0.9378729990485231,
          0.8520229098342189,
          0.6927392536442608,
          0.6492040777017801,
          0.5857956033584678,
          0.4452645826004138,
          0.30221446539739166,
          0.2163548218333357,
          0.18356063253828778,
          0.16476788339142046,
          0.15028201080351553,
          0.1326970218805672,
          0.1188891927402463,
          0.11282228767755555,
          0.11619678200245935
         ],
         "c": [
          0.006108159697006833,
          0.01584132309152851,
          0.037659152702721965,
          0.050452725837582445,
          0.07093204066886026,
          0.11294475130890805,
          0.1646450539558426,
          0.20336575010891422,
          0.2300660809591745,
          0.24784970532232212,
          0.26453713788218564,
          0.27444827664182436,
          0.2813641078727789,
          0.28899770419608917,
          0.2969732572038677
         ],
         "line": {
          "color": "grey",
          "width": 0.25
         },
         "marker": {
          "color": "silver",
          "line": {
           "color": "black",
           "width": 0
          },
          "opacity": 0.9,
          "size": 6
         },
         "mode": "lines+text",
         "name": "PAK",
         "showlegend": false,
         "subplot": "ternary",
         "text": [
          "",
          "",
          "",
          "",
          "",
          "",
          "",
          "",
          "",
          "",
          "",
          "",
          "",
          "",
          ""
         ],
         "textfont": {
          "color": "black",
          "size": 12.953535518440098
         },
         "type": "scatterternary"
        },
        {
         "a": [
          0.05601884125447015,
          0.1321357670742526,
          0.2696015936530172,
          0.30034319646063745,
          0.3432723559726719
         ],
         "b": [
          0.9378729990485231,
          0.8520229098342189,
          0.6927392536442608,
          0.6492040777017801,
          0.5857956033584678
         ],
         "c": [
          0.006108159697006833,
          0.01584132309152851,
          0.037659152702721965,
          0.050452725837582445,
          0.07093204066886026
         ],
         "line": {
          "color": "grey",
          "width": 0.25
         },
         "marker": {
          "color": "silver",
          "line": {
           "color": "black",
           "width": 0
          },
          "opacity": 0.9,
          "size": 6
         },
         "mode": "lines+text",
         "name": "PAK",
         "showlegend": false,
         "subplot": "ternary",
         "text": [
          "",
          "",
          "",
          "",
          "",
          "",
          "",
          "",
          "",
          "",
          "",
          "",
          "",
          "",
          ""
         ],
         "textfont": {
          "color": "black",
          "size": 12.953535518440098
         },
         "type": "scatterternary"
        },
        {
         "a": [
          0,
          0,
          0,
          0,
          0,
          0,
          0,
          0,
          0,
          0,
          0,
          0,
          0,
          0,
          0
         ],
         "b": [
          0,
          0,
          0,
          0,
          0,
          0,
          0,
          0,
          0,
          0,
          0,
          0,
          0,
          0,
          0
         ],
         "c": [
          0,
          0,
          0,
          0,
          0,
          0,
          0,
          0,
          0,
          0,
          0,
          0,
          0,
          0,
          0
         ],
         "line": {
          "color": "grey",
          "width": 0.25
         },
         "marker": {
          "color": "silver",
          "line": {
           "color": "black",
           "width": 0
          },
          "opacity": 0.9,
          "size": 6
         },
         "mode": "lines+text",
         "name": "PLW",
         "showlegend": false,
         "subplot": "ternary",
         "text": [
          "",
          "",
          "",
          "",
          "",
          "",
          "",
          "",
          "",
          "",
          "",
          "",
          "",
          "",
          ""
         ],
         "textfont": {
          "color": "black",
          "size": 2.3694187025678044
         },
         "type": "scatterternary"
        },
        {
         "a": [
          0,
          0,
          0,
          0,
          0
         ],
         "b": [
          0,
          0,
          0,
          0,
          0
         ],
         "c": [
          0,
          0,
          0,
          0,
          0
         ],
         "line": {
          "color": "grey",
          "width": 0.25
         },
         "marker": {
          "color": "silver",
          "line": {
           "color": "black",
           "width": 0
          },
          "opacity": 0.9,
          "size": 6
         },
         "mode": "lines+text",
         "name": "PLW",
         "showlegend": false,
         "subplot": "ternary",
         "text": [
          "",
          "",
          "",
          "",
          "",
          "",
          "",
          "",
          "",
          "",
          "",
          "",
          "",
          "",
          ""
         ],
         "textfont": {
          "color": "black",
          "size": 2.3694187025678044
         },
         "type": "scatterternary"
        },
        {
         "a": [
          0,
          0,
          0,
          0,
          0,
          0,
          0,
          0,
          0,
          0,
          0,
          0,
          0,
          0,
          0
         ],
         "b": [
          0,
          0,
          0,
          0,
          0,
          0,
          0,
          0,
          0,
          0,
          0,
          0,
          0,
          0,
          0
         ],
         "c": [
          0,
          0,
          0,
          0,
          0,
          0,
          0,
          0,
          0,
          0,
          0,
          0,
          0,
          0,
          0
         ],
         "line": {
          "color": "grey",
          "width": 0.25
         },
         "marker": {
          "color": "silver",
          "line": {
           "color": "black",
           "width": 0
          },
          "opacity": 0.9,
          "size": 6
         },
         "mode": "lines+text",
         "name": "PSE",
         "showlegend": false,
         "subplot": "ternary",
         "text": [
          "",
          "",
          "",
          "",
          "",
          "",
          "",
          "",
          "",
          "",
          "",
          "",
          "",
          "",
          ""
         ],
         "textfont": {
          "color": "black",
          "size": 3.5989528383142892
         },
         "type": "scatterternary"
        },
        {
         "a": [
          0,
          0,
          0,
          0,
          0
         ],
         "b": [
          0,
          0,
          0,
          0,
          0
         ],
         "c": [
          0,
          0,
          0,
          0,
          0
         ],
         "line": {
          "color": "grey",
          "width": 0.25
         },
         "marker": {
          "color": "silver",
          "line": {
           "color": "black",
           "width": 0
          },
          "opacity": 0.9,
          "size": 6
         },
         "mode": "lines+text",
         "name": "PSE",
         "showlegend": false,
         "subplot": "ternary",
         "text": [
          "",
          "",
          "",
          "",
          "",
          "",
          "",
          "",
          "",
          "",
          "",
          "",
          "",
          "",
          ""
         ],
         "textfont": {
          "color": "black",
          "size": 3.5989528383142892
         },
         "type": "scatterternary"
        },
        {
         "a": [
          0.33169685701134993,
          0.45552911303308125,
          0.5614897404802552,
          0.5377205231467361,
          0.48568669322185165,
          0.4262075328147569,
          0.3495978766867889,
          0.29569537653619893,
          0.2400343056667949,
          0.20300683566503847,
          0.1659140297625626,
          0.13204294986328885,
          0.10548636039755376,
          0.09274873204362924,
          0.0835893572643652
         ],
         "b": [
          0.6303686207400355,
          0.4849153042160715,
          0.35023360168629064,
          0.35893285464017505,
          0.40086607543000236,
          0.45329036280940777,
          0.5305668999498204,
          0.5825899375510508,
          0.6183530782447408,
          0.6360698413485569,
          0.6304878265753866,
          0.6108904324362776,
          0.5916596875836504,
          0.5826889538465774,
          0.5642787633301403
         ],
         "c": [
          0.037934522248614724,
          0.05955558275084725,
          0.08827665783345412,
          0.10334662221308867,
          0.113447231348146,
          0.12050210437583551,
          0.11983522336339049,
          0.12171468591275003,
          0.1416126160884643,
          0.16092332298640472,
          0.20359814366205084,
          0.25706661770043354,
          0.30285395201879584,
          0.3245623141097933,
          0.3521318794054946
         ],
         "line": {
          "color": "grey",
          "width": 0.25
         },
         "marker": {
          "color": "silver",
          "line": {
           "color": "black",
           "width": 0
          },
          "opacity": 0.9,
          "size": 6
         },
         "mode": "lines+text",
         "name": "PAN",
         "showlegend": false,
         "subplot": "ternary",
         "text": [
          "",
          "",
          "",
          "",
          "",
          "",
          "",
          "",
          "",
          "",
          "",
          "",
          "",
          "",
          ""
         ],
         "textfont": {
          "color": "black",
          "size": 3.4463914141634855
         },
         "type": "scatterternary"
        },
        {
         "a": [
          0.33169685701134993,
          0.45552911303308125,
          0.5614897404802552,
          0.5377205231467361,
          0.48568669322185165
         ],
         "b": [
          0.6303686207400355,
          0.4849153042160715,
          0.35023360168629064,
          0.35893285464017505,
          0.40086607543000236
         ],
         "c": [
          0.037934522248614724,
          0.05955558275084725,
          0.08827665783345412,
          0.10334662221308867,
          0.113447231348146
         ],
         "line": {
          "color": "grey",
          "width": 0.25
         },
         "marker": {
          "color": "silver",
          "line": {
           "color": "black",
           "width": 0
          },
          "opacity": 0.9,
          "size": 6
         },
         "mode": "lines+text",
         "name": "PAN",
         "showlegend": false,
         "subplot": "ternary",
         "text": [
          "",
          "",
          "",
          "",
          "",
          "",
          "",
          "",
          "",
          "",
          "",
          "",
          "",
          "",
          ""
         ],
         "textfont": {
          "color": "black",
          "size": 3.4463914141634855
         },
         "type": "scatterternary"
        },
        {
         "a": [
          0.5674273720525417,
          0.5689029148568788,
          0.5454027134287336,
          0.4760931888199036,
          0.42519103716674866,
          0.4126006368787468,
          0.4099506356855852,
          0.4134043481897602,
          0.4248178175778039,
          0.45817699654641686,
          0.4826273808895425,
          0.5032130877580705,
          0.5163767906922112,
          0.5233198456966275,
          0.532984467493687
         ],
         "b": [
          0.3703634255728987,
          0.36100458944848873,
          0.37533382005953175,
          0.43997497652540385,
          0.4817079380655949,
          0.46697356401688567,
          0.43956603059670835,
          0.4096733051182045,
          0.3745588270601487,
          0.32183813294562813,
          0.2793713789881569,
          0.24785771248660748,
          0.22525821990082998,
          0.20889285169403327,
          0.19197783459941667
         ],
         "c": [
          0.06220920237455974,
          0.07009249569463251,
          0.07926346651173456,
          0.08393183465469277,
          0.09310102476765653,
          0.12042579910436747,
          0.15048333371770634,
          0.17692234669203544,
          0.20062335536204728,
          0.21998487050795504,
          0.2380012401223005,
          0.24892919975532202,
          0.25836498940695884,
          0.26778730260933936,
          0.27503769790689625
         ],
         "line": {
          "color": "grey",
          "width": 0.25
         },
         "marker": {
          "color": "silver",
          "line": {
           "color": "black",
           "width": 0
          },
          "opacity": 0.9,
          "size": 6
         },
         "mode": "lines+text",
         "name": "PNG",
         "showlegend": false,
         "subplot": "ternary",
         "text": [
          "",
          "",
          "",
          "",
          "",
          "",
          "",
          "",
          "",
          "",
          "",
          "",
          "",
          "",
          ""
         ],
         "textfont": {
          "color": "black",
          "size": 4.390984968977918
         },
         "type": "scatterternary"
        },
        {
         "a": [
          0.5674273720525417,
          0.5689029148568788,
          0.5454027134287336,
          0.4760931888199036,
          0.42519103716674866
         ],
         "b": [
          0.3703634255728987,
          0.36100458944848873,
          0.37533382005953175,
          0.43997497652540385,
          0.4817079380655949
         ],
         "c": [
          0.06220920237455974,
          0.07009249569463251,
          0.07926346651173456,
          0.08393183465469277,
          0.09310102476765653
         ],
         "line": {
          "color": "grey",
          "width": 0.25
         },
         "marker": {
          "color": "silver",
          "line": {
           "color": "black",
           "width": 0
          },
          "opacity": 0.9,
          "size": 6
         },
         "mode": "lines+text",
         "name": "PNG",
         "showlegend": false,
         "subplot": "ternary",
         "text": [
          "",
          "",
          "",
          "",
          "",
          "",
          "",
          "",
          "",
          "",
          "",
          "",
          "",
          "",
          ""
         ],
         "textfont": {
          "color": "black",
          "size": 4.390984968977918
         },
         "type": "scatterternary"
        },
        {
         "a": [
          0.08617150731502388,
          0.09205363190502094,
          0.1257432246120722,
          0.11554523953825849,
          0.13377215279914587,
          0.21841636154443103,
          0.36240839888140547,
          0.5278360954322392,
          0.6177598573183305,
          0.633638924623075,
          0.6172769530207467,
          0.5915086536796814,
          0.5651716145217102,
          0.5396136856111624,
          0.5295655868211686
         ],
         "b": [
          0.9041167655251447,
          0.895795580631671,
          0.854051452625843,
          0.8615197378210949,
          0.8340943109804251,
          0.7205648636261621,
          0.5218444233375829,
          0.2916031103007046,
          0.15310528159816958,
          0.12450330887549113,
          0.14534600167669975,
          0.17379656604717178,
          0.1969528865316145,
          0.20003608717527335,
          0.19049373417861679
         ],
         "c": [
          0.009711727159831419,
          0.012150787463307973,
          0.020205322762084758,
          0.022935022640646403,
          0.032133536220429,
          0.06101877482940689,
          0.11574717778101173,
          0.1805607942670563,
          0.22913486108349995,
          0.24185776650143387,
          0.23737704530255338,
          0.23469478027314666,
          0.23787549894667534,
          0.2603502272135643,
          0.27994067900021447
         ],
         "line": {
          "color": "grey",
          "width": 0.25
         },
         "marker": {
          "color": "silver",
          "line": {
           "color": "black",
           "width": 0
          },
          "opacity": 0.9,
          "size": 6
         },
         "mode": "lines+text",
         "name": "PRY",
         "showlegend": false,
         "subplot": "ternary",
         "text": [
          "",
          "",
          "",
          "",
          "",
          "",
          "",
          "",
          "",
          "",
          "",
          "",
          "",
          "",
          ""
         ],
         "textfont": {
          "color": "black",
          "size": 3.9083231430425562
         },
         "type": "scatterternary"
        },
        {
         "a": [
          0.08617150731502388,
          0.09205363190502094,
          0.1257432246120722,
          0.11554523953825849,
          0.13377215279914587
         ],
         "b": [
          0.9041167655251447,
          0.895795580631671,
          0.854051452625843,
          0.8615197378210949,
          0.8340943109804251
         ],
         "c": [
          0.009711727159831419,
          0.012150787463307973,
          0.020205322762084758,
          0.022935022640646403,
          0.032133536220429
         ],
         "line": {
          "color": "grey",
          "width": 0.25
         },
         "marker": {
          "color": "silver",
          "line": {
           "color": "black",
           "width": 0
          },
          "opacity": 0.9,
          "size": 6
         },
         "mode": "lines+text",
         "name": "PRY",
         "showlegend": false,
         "subplot": "ternary",
         "text": [
          "",
          "",
          "",
          "",
          "",
          "",
          "",
          "",
          "",
          "",
          "",
          "",
          "",
          "",
          ""
         ],
         "textfont": {
          "color": "black",
          "size": 3.9083231430425562
         },
         "type": "scatterternary"
        },
        {
         "a": [
          0.33603721421246746,
          0.43234478243202545,
          0.5753571703820494,
          0.5799465968086145,
          0.5995297911262583,
          0.6526849766042502,
          0.6957153063904931,
          0.7189065157361629,
          0.7203481292368805,
          0.7220260687509801,
          0.7225914883717051,
          0.7248177018423392,
          0.7256249044444141,
          0.7221806865050862,
          0.7200934990231914
         ],
         "b": [
          0.6268399532875965,
          0.5142835688891135,
          0.34150186468622146,
          0.3193321814818702,
          0.27425927273731904,
          0.18560325973080233,
          0.1038616326946582,
          0.05547947914313906,
          0.03683004690429921,
          0.02958496747838742,
          0.027124453958448237,
          0.025994391964983397,
          0.02671051824965985,
          0.02940127509646234,
          0.031391080506538195
         ],
         "c": [
          0.0371228324999362,
          0.05337164867886114,
          0.08314096493172939,
          0.10072122170951527,
          0.1262109361364228,
          0.1617117636649475,
          0.20042306091484852,
          0.22561400512069807,
          0.24282182385882034,
          0.2483889637706326,
          0.25028405766984685,
          0.24918790619267742,
          0.24766457730592611,
          0.24841803839845142,
          0.2485154204702704
         ],
         "line": {
          "color": "grey",
          "width": 0.25
         },
         "marker": {
          "color": "silver",
          "line": {
           "color": "black",
           "width": 0
          },
          "opacity": 0.9,
          "size": 6
         },
         "mode": "lines+text",
         "name": "PER",
         "showlegend": false,
         "subplot": "ternary",
         "text": [
          "",
          "",
          "",
          "",
          "",
          "",
          "",
          "",
          "",
          "",
          "",
          "",
          "",
          "",
          ""
         ],
         "textfont": {
          "color": "black",
          "size": 6.551577480699147
         },
         "type": "scatterternary"
        },
        {
         "a": [
          0.33603721421246746,
          0.43234478243202545,
          0.5753571703820494,
          0.5799465968086145,
          0.5995297911262583
         ],
         "b": [
          0.6268399532875965,
          0.5142835688891135,
          0.34150186468622146,
          0.3193321814818702,
          0.27425927273731904
         ],
         "c": [
          0.0371228324999362,
          0.05337164867886114,
          0.08314096493172939,
          0.10072122170951527,
          0.1262109361364228
         ],
         "line": {
          "color": "grey",
          "width": 0.25
         },
         "marker": {
          "color": "silver",
          "line": {
           "color": "black",
           "width": 0
          },
          "opacity": 0.9,
          "size": 6
         },
         "mode": "lines+text",
         "name": "PER",
         "showlegend": false,
         "subplot": "ternary",
         "text": [
          "",
          "",
          "",
          "",
          "",
          "",
          "",
          "",
          "",
          "",
          "",
          "",
          "",
          "",
          ""
         ],
         "textfont": {
          "color": "black",
          "size": 6.551577480699147
         },
         "type": "scatterternary"
        },
        {
         "a": [
          0.08426765865107477,
          0.1711740919991549,
          0.31621941657686226,
          0.3431174940106937,
          0.3811294092569363,
          0.47695705440793645,
          0.5822525401282641,
          0.6571359635048927,
          0.6842800834507531,
          0.6915365917439888,
          0.6914091276822762,
          0.6918550274727844,
          0.6931654354073138,
          0.6928281541287553,
          0.6916244141331302
         ],
         "b": [
          0.9065035295045447,
          0.8082395888641363,
          0.6394633770590786,
          0.5994138418599888,
          0.5420321643020409,
          0.41006631375380836,
          0.257013529786745,
          0.14419697839227094,
          0.09325054770069084,
          0.07751466635821587,
          0.07379077085155046,
          0.07417338991620269,
          0.07329427204642305,
          0.07302580624697191,
          0.07408860828328125
         ],
         "c": [
          0.009228811844380281,
          0.02058631913670875,
          0.04431720636405904,
          0.057468664129317525,
          0.07683842644102291,
          0.11297663183825529,
          0.1607339300849908,
          0.19866705810283644,
          0.2224693688485561,
          0.23094874189779535,
          0.23480010146617342,
          0.23397158261101303,
          0.23354029254626302,
          0.2341460396242728,
          0.2342869775835885
         ],
         "line": {
          "color": "grey",
          "width": 0.25
         },
         "marker": {
          "color": "silver",
          "line": {
           "color": "black",
           "width": 0
          },
          "opacity": 0.9,
          "size": 6
         },
         "mode": "lines+text",
         "name": "PHL",
         "showlegend": false,
         "subplot": "ternary",
         "text": [
          "",
          "",
          "",
          "",
          "",
          "",
          "",
          "",
          "",
          "",
          "",
          "",
          "",
          "",
          ""
         ],
         "textfont": {
          "color": "black",
          "size": 10.018099089927368
         },
         "type": "scatterternary"
        },
        {
         "a": [
          0.08426765865107477,
          0.1711740919991549,
          0.31621941657686226,
          0.3431174940106937,
          0.3811294092569363
         ],
         "b": [
          0.9065035295045447,
          0.8082395888641363,
          0.6394633770590786,
          0.5994138418599888,
          0.5420321643020409
         ],
         "c": [
          0.009228811844380281,
          0.02058631913670875,
          0.04431720636405904,
          0.057468664129317525,
          0.07683842644102291
         ],
         "line": {
          "color": "grey",
          "width": 0.25
         },
         "marker": {
          "color": "silver",
          "line": {
           "color": "black",
           "width": 0
          },
          "opacity": 0.9,
          "size": 6
         },
         "mode": "lines+text",
         "name": "PHL",
         "showlegend": false,
         "subplot": "ternary",
         "text": [
          "",
          "",
          "",
          "",
          "",
          "",
          "",
          "",
          "",
          "",
          "",
          "",
          "",
          "",
          ""
         ],
         "textfont": {
          "color": "black",
          "size": 10.018099089927368
         },
         "type": "scatterternary"
        },
        {
         "a": [
          0.1864078549559774,
          0.21919869316150214,
          0.2918126688652225,
          0.2546729773123071,
          0.26098588479009105,
          0.3318621816236884,
          0.4093657125219221,
          0.4663016638046086,
          0.48569365110450446,
          0.49032726859144155,
          0.49585900541856004,
          0.5080344290329022,
          0.5196294289088207,
          0.5258722072409758,
          0.5403171425986835
         ],
         "b": [
          0.7925571401183954,
          0.7520581232674136,
          0.6625091491531503,
          0.6969641850725262,
          0.6783854690678812,
          0.575733748146822,
          0.4564265715931405,
          0.3588811772345055,
          0.31132829519640043,
          0.2870016099542792,
          0.26786297026146794,
          0.2430064010538355,
          0.22214824658419616,
          0.20604037959388327,
          0.1863258373829444
         ],
         "c": [
          0.021035004925627154,
          0.028743183571084185,
          0.04567818198162723,
          0.04836283761516675,
          0.060628646142027495,
          0.0924040702294897,
          0.13420771588493746,
          0.17481715896088595,
          0.20297805369909508,
          0.22267112145427947,
          0.23627802431997208,
          0.24895916991326245,
          0.2582223245069831,
          0.26808741316514084,
          0.2733570200183723
         ],
         "line": {
          "color": "grey",
          "width": 0.25
         },
         "marker": {
          "color": "silver",
          "line": {
           "color": "black",
           "width": 0
          },
          "opacity": 0.9,
          "size": 6
         },
         "mode": "lines+text",
         "name": "POL",
         "showlegend": false,
         "subplot": "ternary",
         "text": [
          "",
          "",
          "",
          "",
          "",
          "",
          "",
          "",
          "",
          "",
          "",
          "",
          "",
          "",
          ""
         ],
         "textfont": {
          "color": "black",
          "size": 6.896863500271991
         },
         "type": "scatterternary"
        },
        {
         "a": [
          0.1864078549559774,
          0.21919869316150214,
          0.2918126688652225,
          0.2546729773123071,
          0.26098588479009105
         ],
         "b": [
          0.7925571401183954,
          0.7520581232674136,
          0.6625091491531503,
          0.6969641850725262,
          0.6783854690678812
         ],
         "c": [
          0.021035004925627154,
          0.028743183571084185,
          0.04567818198162723,
          0.04836283761516675,
          0.060628646142027495
         ],
         "line": {
          "color": "grey",
          "width": 0.25
         },
         "marker": {
          "color": "silver",
          "line": {
           "color": "black",
           "width": 0
          },
          "opacity": 0.9,
          "size": 6
         },
         "mode": "lines+text",
         "name": "POL",
         "showlegend": false,
         "subplot": "ternary",
         "text": [
          "",
          "",
          "",
          "",
          "",
          "",
          "",
          "",
          "",
          "",
          "",
          "",
          "",
          "",
          ""
         ],
         "textfont": {
          "color": "black",
          "size": 6.896863500271991
         },
         "type": "scatterternary"
        },
        {
         "a": [
          0.11253280072084657,
          0.14781609083625305,
          0.211650258571487,
          0.21870895705041982,
          0.25717401024189485,
          0.34851417508140425,
          0.46797802213274853,
          0.5680811597629603,
          0.6145547175841255,
          0.6343314373694963,
          0.6439509592899669,
          0.6463723334218294,
          0.6482429482124583,
          0.6441369395519159,
          0.64039572707136
         ],
         "b": [
          0.8749919408099965,
          0.8336270211490671,
          0.7571579046217571,
          0.7426605085393292,
          0.6880475383061005,
          0.5641123003841335,
          0.39627430300591804,
          0.25340096204243806,
          0.1785678073570945,
          0.14773410183678018,
          0.13310548309073078,
          0.13072701540510703,
          0.12986143656391266,
          0.1347830237565381,
          0.13951413964387258
         ],
         "c": [
          0.012475258469156923,
          0.018556888014679924,
          0.031191836806755652,
          0.03863053441025093,
          0.054778451452004606,
          0.08737352453446225,
          0.13574767486133335,
          0.17851787819460171,
          0.20687747505878,
          0.2179344607937237,
          0.2229435576193024,
          0.22290065117306354,
          0.22189561522362894,
          0.2210800366915461,
          0.22009013328476737
         ],
         "line": {
          "color": "grey",
          "width": 0.25
         },
         "marker": {
          "color": "silver",
          "line": {
           "color": "black",
           "width": 0
          },
          "opacity": 0.9,
          "size": 6
         },
         "mode": "lines+text",
         "name": "PRT",
         "showlegend": false,
         "subplot": "ternary",
         "text": [
          "",
          "",
          "",
          "",
          "",
          "",
          "",
          "",
          "",
          "",
          "",
          "",
          "",
          "",
          ""
         ],
         "textfont": {
          "color": "black",
          "size": 4.480520325002957
         },
         "type": "scatterternary"
        },
        {
         "a": [
          0.11253280072084657,
          0.14781609083625305,
          0.211650258571487,
          0.21870895705041982,
          0.25717401024189485
         ],
         "b": [
          0.8749919408099965,
          0.8336270211490671,
          0.7571579046217571,
          0.7426605085393292,
          0.6880475383061005
         ],
         "c": [
          0.012475258469156923,
          0.018556888014679924,
          0.031191836806755652,
          0.03863053441025093,
          0.054778451452004606
         ],
         "line": {
          "color": "grey",
          "width": 0.25
         },
         "marker": {
          "color": "silver",
          "line": {
           "color": "black",
           "width": 0
          },
          "opacity": 0.9,
          "size": 6
         },
         "mode": "lines+text",
         "name": "PRT",
         "showlegend": false,
         "subplot": "ternary",
         "text": [
          "",
          "",
          "",
          "",
          "",
          "",
          "",
          "",
          "",
          "",
          "",
          "",
          "",
          "",
          ""
         ],
         "textfont": {
          "color": "black",
          "size": 4.480520325002957
         },
         "type": "scatterternary"
        },
        {
         "a": [
          0.2535805673530255,
          0.26877192744011785,
          0.32256083867152674,
          0.24569184959713544,
          0.2002150530508476,
          0.19667912378620933,
          0.18198302369025363,
          0.15814716537121473,
          0.13438742015998803,
          0.11766061998184331,
          0.10353196630221749,
          0.08809995821580657,
          0.07852959668540582,
          0.07390480637717044,
          0.06673992500765889
         ],
         "b": [
          0.7160448516152276,
          0.6905878853381671,
          0.6095601724659666,
          0.6756174849909946,
          0.7109355407135616,
          0.7075781460672871,
          0.7115879540940259,
          0.7276069471599486,
          0.7433041825905887,
          0.7470839068968885,
          0.735544429779059,
          0.7059156019472458,
          0.6817231170530567,
          0.6672184267789149,
          0.6437428775059534
         ],
         "c": [
          0.03037458103174695,
          0.04064018722171503,
          0.06787898886250669,
          0.07869066541187006,
          0.08884940623559075,
          0.09574273014650378,
          0.1064290222157204,
          0.11424588746883678,
          0.12230839724942327,
          0.13525547312126807,
          0.16092360391872335,
          0.20598443983694764,
          0.23974728626153746,
          0.2588767668439148,
          0.2895171974863876
         ],
         "line": {
          "color": "grey",
          "width": 0.25
         },
         "marker": {
          "color": "silver",
          "line": {
           "color": "black",
           "width": 0
          },
          "opacity": 0.9,
          "size": 6
         },
         "mode": "lines+text",
         "name": "QAT",
         "showlegend": false,
         "subplot": "ternary",
         "text": [
          "",
          "",
          "",
          "",
          "",
          "",
          "",
          "",
          "",
          "",
          "",
          "",
          "",
          "",
          ""
         ],
         "textfont": {
          "color": "black",
          "size": 3.0757098714318594
         },
         "type": "scatterternary"
        },
        {
         "a": [
          0.2535805673530255,
          0.26877192744011785,
          0.32256083867152674,
          0.24569184959713544,
          0.2002150530508476
         ],
         "b": [
          0.7160448516152276,
          0.6905878853381671,
          0.6095601724659666,
          0.6756174849909946,
          0.7109355407135616
         ],
         "c": [
          0.03037458103174695,
          0.04064018722171503,
          0.06787898886250669,
          0.07869066541187006,
          0.08884940623559075
         ],
         "line": {
          "color": "grey",
          "width": 0.25
         },
         "marker": {
          "color": "silver",
          "line": {
           "color": "black",
           "width": 0
          },
          "opacity": 0.9,
          "size": 6
         },
         "mode": "lines+text",
         "name": "QAT",
         "showlegend": false,
         "subplot": "ternary",
         "text": [
          "",
          "",
          "",
          "",
          "",
          "",
          "",
          "",
          "",
          "",
          "",
          "",
          "",
          "",
          ""
         ],
         "textfont": {
          "color": "black",
          "size": 3.0757098714318594
         },
         "type": "scatterternary"
        },
        {
         "a": [
          0.4904187263269971,
          0.5300304539025884,
          0.5924869530524902,
          0.5844304213764737,
          0.5894738184756041,
          0.6036803127736996,
          0.6063296152615684,
          0.6069240623318816,
          0.6031906379189514,
          0.6061296182998543,
          0.6114976121758879,
          0.6168877895815562,
          0.621448553932378,
          0.6220922210736595,
          0.6231371597241186
         ],
         "b": [
          0.4550805210175235,
          0.40300723818465645,
          0.31907985907989833,
          0.3105251692225811,
          0.2820670789916841,
          0.2414902650137767,
          0.21412441688663358,
          0.19750546552704573,
          0.18802884237844797,
          0.17793384835076578,
          0.1675755359203744,
          0.16060774992105806,
          0.1557728309606428,
          0.15327967408598933,
          0.15131617805187278
         ],
         "c": [
          0.05450075265547933,
          0.06696230791275522,
          0.08843318786761141,
          0.10504440940094516,
          0.12845910253271178,
          0.15482942221252377,
          0.17954596785179805,
          0.19557047214107282,
          0.2087805197026007,
          0.21593653334937984,
          0.2209268519037377,
          0.2225044604973857,
          0.22277861510697927,
          0.22462810484035134,
          0.22554666222400868
         ],
         "line": {
          "color": "grey",
          "width": 0.25
         },
         "marker": {
          "color": "silver",
          "line": {
           "color": "black",
           "width": 0
          },
          "opacity": 0.9,
          "size": 6
         },
         "mode": "lines+text",
         "name": "ROU",
         "showlegend": false,
         "subplot": "ternary",
         "text": [
          "",
          "",
          "",
          "",
          "",
          "",
          "",
          "",
          "",
          "",
          "",
          "",
          "",
          "",
          ""
         ],
         "textfont": {
          "color": "black",
          "size": 5.4921943715812525
         },
         "type": "scatterternary"
        },
        {
         "a": [
          0.4904187263269971,
          0.5300304539025884,
          0.5924869530524902,
          0.5844304213764737,
          0.5894738184756041
         ],
         "b": [
          0.4550805210175235,
          0.40300723818465645,
          0.31907985907989833,
          0.3105251692225811,
          0.2820670789916841
         ],
         "c": [
          0.05450075265547933,
          0.06696230791275522,
          0.08843318786761141,
          0.10504440940094516,
          0.12845910253271178
         ],
         "line": {
          "color": "grey",
          "width": 0.25
         },
         "marker": {
          "color": "silver",
          "line": {
           "color": "black",
           "width": 0
          },
          "opacity": 0.9,
          "size": 6
         },
         "mode": "lines+text",
         "name": "ROU",
         "showlegend": false,
         "subplot": "ternary",
         "text": [
          "",
          "",
          "",
          "",
          "",
          "",
          "",
          "",
          "",
          "",
          "",
          "",
          "",
          "",
          ""
         ],
         "textfont": {
          "color": "black",
          "size": 5.4921943715812525
         },
         "type": "scatterternary"
        },
        {
         "a": [
          0.07335223198228633,
          0.07818768745993407,
          0.10872286810298468,
          0.0927852626941423,
          0.09627267894257291,
          0.14300533065606436,
          0.23890855354761692,
          0.3693304795969689,
          0.4156450716332229,
          0.3945239216147511,
          0.3594704723693689,
          0.3418985516668136,
          0.2972158110712586,
          0.25946348493404203,
          0.2407921839205538
         ],
         "b": [
          0.9183853263749266,
          0.9115094547977245,
          0.8741383839647695,
          0.889441715454762,
          0.8813618970101493,
          0.8168344175910336,
          0.6772709866091797,
          0.48224258536615966,
          0.3856666683507939,
          0.38370472184720267,
          0.407975444818218,
          0.4168033612902665,
          0.4200926098914628,
          0.41823419001879675,
          0.4236130471639345
         ],
         "c": [
          0.008262441642786934,
          0.010302857742341362,
          0.017138747932245638,
          0.017773021851095958,
          0.02236542404727766,
          0.04016025175290196,
          0.08382045984320322,
          0.14842693503687154,
          0.19868826001598322,
          0.2217713565380462,
          0.2325540828124129,
          0.24129808704291994,
          0.28269157903727854,
          0.32230232504716116,
          0.33559476891551177
         ],
         "line": {
          "color": "grey",
          "width": 0.25
         },
         "marker": {
          "color": "silver",
          "line": {
           "color": "black",
           "width": 0
          },
          "opacity": 0.9,
          "size": 6
         },
         "mode": "lines+text",
         "name": "RUS",
         "showlegend": false,
         "subplot": "ternary",
         "text": [
          "",
          "",
          "",
          "",
          "",
          "",
          "",
          "",
          "",
          "",
          "",
          "",
          "",
          "",
          ""
         ],
         "textfont": {
          "color": "black",
          "size": 11.04600935615512
         },
         "type": "scatterternary"
        },
        {
         "a": [
          0.07335223198228633,
          0.07818768745993407,
          0.10872286810298468,
          0.0927852626941423,
          0.09627267894257291
         ],
         "b": [
          0.9183853263749266,
          0.9115094547977245,
          0.8741383839647695,
          0.889441715454762,
          0.8813618970101493
         ],
         "c": [
          0.008262441642786934,
          0.010302857742341362,
          0.017138747932245638,
          0.017773021851095958,
          0.02236542404727766
         ],
         "line": {
          "color": "grey",
          "width": 0.25
         },
         "marker": {
          "color": "silver",
          "line": {
           "color": "black",
           "width": 0
          },
          "opacity": 0.9,
          "size": 6
         },
         "mode": "lines+text",
         "name": "RUS",
         "showlegend": false,
         "subplot": "ternary",
         "text": [
          "",
          "",
          "",
          "",
          "",
          "",
          "",
          "",
          "",
          "",
          "",
          "",
          "",
          "",
          ""
         ],
         "textfont": {
          "color": "black",
          "size": 11.04600935615512
         },
         "type": "scatterternary"
        },
        {
         "a": [
          0.028775918560924707,
          0.10207335288966733,
          0.21544679100972705,
          0.20447069382915306,
          0.17029906741063325,
          0.17537189246437254,
          0.15799617226912877,
          0.16202872649811617,
          0.16693245860849884,
          0.16831395652747977,
          0.17526026027788927,
          0.1922004299941465,
          0.2162699501289579,
          0.2431124335953369,
          0.2620063862273858
         ],
         "b": [
          0.9558783964338594,
          0.8168312364092767,
          0.6631882775379984,
          0.686919445018068,
          0.713248968338695,
          0.6947208523070223,
          0.6832043822134478,
          0.6959743959199161,
          0.7133469453202953,
          0.693863760974864,
          0.6431194881800852,
          0.5783161053664138,
          0.5268715771395521,
          0.48765924665103677,
          0.45555323323743013
         ],
         "c": [
          0.015345685005215888,
          0.081095410701056,
          0.12136493145227467,
          0.10860986115277912,
          0.11645196425067172,
          0.1299072552286051,
          0.1587994455174233,
          0.14199687758196783,
          0.11972059607120586,
          0.13782228249765627,
          0.18162025154202552,
          0.2294834646394398,
          0.25685847273148993,
          0.2692283197536264,
          0.28244038053518417
         ],
         "line": {
          "color": "grey",
          "width": 0.25
         },
         "marker": {
          "color": "silver",
          "line": {
           "color": "black",
           "width": 0
          },
          "opacity": 0.9,
          "size": 6
         },
         "mode": "lines+text",
         "name": "RWA",
         "showlegend": false,
         "subplot": "ternary",
         "text": [
          "",
          "",
          "",
          "",
          "",
          "",
          "",
          "",
          "",
          "",
          "",
          "",
          "",
          "",
          ""
         ],
         "textfont": {
          "color": "black",
          "size": 4.818951929754714
         },
         "type": "scatterternary"
        },
        {
         "a": [
          0.028775918560924707,
          0.10207335288966733,
          0.21544679100972705,
          0.20447069382915306,
          0.17029906741063325
         ],
         "b": [
          0.9558783964338594,
          0.8168312364092767,
          0.6631882775379984,
          0.686919445018068,
          0.713248968338695
         ],
         "c": [
          0.015345685005215888,
          0.081095410701056,
          0.12136493145227467,
          0.10860986115277912,
          0.11645196425067172
         ],
         "line": {
          "color": "grey",
          "width": 0.25
         },
         "marker": {
          "color": "silver",
          "line": {
           "color": "black",
           "width": 0
          },
          "opacity": 0.9,
          "size": 6
         },
         "mode": "lines+text",
         "name": "RWA",
         "showlegend": false,
         "subplot": "ternary",
         "text": [
          "",
          "",
          "",
          "",
          "",
          "",
          "",
          "",
          "",
          "",
          "",
          "",
          "",
          "",
          ""
         ],
         "textfont": {
          "color": "black",
          "size": 4.818951929754714
         },
         "type": "scatterternary"
        },
        {
         "a": [
          0,
          0,
          0,
          0,
          0,
          0,
          0,
          0,
          0,
          0,
          0,
          0,
          0,
          0,
          0
         ],
         "b": [
          0,
          0,
          0,
          0,
          0,
          0,
          0,
          0,
          0,
          0,
          0,
          0,
          0,
          0,
          0
         ],
         "c": [
          0,
          0,
          0,
          0,
          0,
          0,
          0,
          0,
          0,
          0,
          0,
          0,
          0,
          0,
          0
         ],
         "line": {
          "color": "grey",
          "width": 0.25
         },
         "marker": {
          "color": "silver",
          "line": {
           "color": "black",
           "width": 0
          },
          "opacity": 0.9,
          "size": 6
         },
         "mode": "lines+text",
         "name": "KNA",
         "showlegend": false,
         "subplot": "ternary",
         "text": [
          "",
          "",
          "",
          "",
          "",
          "",
          "",
          "",
          "",
          "",
          "",
          "",
          "",
          "",
          ""
         ],
         "textfont": {
          "color": "black",
          "size": 2.3694187025678044
         },
         "type": "scatterternary"
        },
        {
         "a": [
          0,
          0,
          0,
          0,
          0
         ],
         "b": [
          0,
          0,
          0,
          0,
          0
         ],
         "c": [
          0,
          0,
          0,
          0,
          0
         ],
         "line": {
          "color": "grey",
          "width": 0.25
         },
         "marker": {
          "color": "silver",
          "line": {
           "color": "black",
           "width": 0
          },
          "opacity": 0.9,
          "size": 6
         },
         "mode": "lines+text",
         "name": "KNA",
         "showlegend": false,
         "subplot": "ternary",
         "text": [
          "",
          "",
          "",
          "",
          "",
          "",
          "",
          "",
          "",
          "",
          "",
          "",
          "",
          "",
          ""
         ],
         "textfont": {
          "color": "black",
          "size": 2.3694187025678044
         },
         "type": "scatterternary"
        },
        {
         "a": [
          0.038345462173569954,
          0.07692607733521417,
          0.14442283572599204,
          0.1528601077759864,
          0.18557913642420468,
          0.2768738175981481,
          0.42456222505049557,
          0.5741814003732196,
          0.6580276394152473,
          0.6853860410050109,
          0.6919185076070514,
          0.694258815515497,
          0.6955450616710345,
          0.6925065669932524,
          0.6908708157909339
         ],
         "b": [
          0.9574229107750151,
          0.913668767140009,
          0.8348682487929189,
          0.8203620657495114,
          0.7743305461495793,
          0.6526317919898662,
          0.4493659797334864,
          0.23854105485511964,
          0.11222834492636374,
          0.069781659696949,
          0.05818401201822204,
          0.057320971667165564,
          0.056738891492917165,
          0.06036751748293914,
          0.06200442445001489
         ],
         "c": [
          0.0042316270514150996,
          0.009405155524776812,
          0.02070891548108914,
          0.026777826474502144,
          0.04009031742621596,
          0.07049439041198555,
          0.1260717952160178,
          0.1872775447716608,
          0.22974401565838895,
          0.24483229929804012,
          0.24989748037472653,
          0.2484202128173375,
          0.24771604683604848,
          0.2471259155238084,
          0.24712475975905127
         ],
         "line": {
          "color": "grey",
          "width": 0.25
         },
         "marker": {
          "color": "silver",
          "line": {
           "color": "black",
           "width": 0
          },
          "opacity": 0.9,
          "size": 6
         },
         "mode": "lines+text",
         "name": "LCA",
         "showlegend": false,
         "subplot": "ternary",
         "text": [
          "",
          "",
          "",
          "",
          "",
          "",
          "",
          "",
          "",
          "",
          "",
          "",
          "",
          "",
          ""
         ],
         "textfont": {
          "color": "black",
          "size": 1.6880149398668778
         },
         "type": "scatterternary"
        },
        {
         "a": [
          0.038345462173569954,
          0.07692607733521417,
          0.14442283572599204,
          0.1528601077759864,
          0.18557913642420468
         ],
         "b": [
          0.9574229107750151,
          0.913668767140009,
          0.8348682487929189,
          0.8203620657495114,
          0.7743305461495793
         ],
         "c": [
          0.0042316270514150996,
          0.009405155524776812,
          0.02070891548108914,
          0.026777826474502144,
          0.04009031742621596
         ],
         "line": {
          "color": "grey",
          "width": 0.25
         },
         "marker": {
          "color": "silver",
          "line": {
           "color": "black",
           "width": 0
          },
          "opacity": 0.9,
          "size": 6
         },
         "mode": "lines+text",
         "name": "LCA",
         "showlegend": false,
         "subplot": "ternary",
         "text": [
          "",
          "",
          "",
          "",
          "",
          "",
          "",
          "",
          "",
          "",
          "",
          "",
          "",
          "",
          ""
         ],
         "textfont": {
          "color": "black",
          "size": 1.6880149398668778
         },
         "type": "scatterternary"
        },
        {
         "a": [
          0.020095959413245337,
          0.041235615199294806,
          0.07881812521433801,
          0.08391257903449045,
          0.10570860833347004,
          0.16969201817570934,
          0.2970536129604944,
          0.47543560346940295,
          0.603218138328331,
          0.6513271003492831,
          0.6649118118079154,
          0.6606810314602803,
          0.6589087139424958,
          0.6537612171924645,
          0.6526714414218588
         ],
         "b": [
          0.97767356273319,
          0.9536534801514513,
          0.9096260995260538,
          0.9010258710566386,
          0.8710702193720874,
          0.7866263571997097,
          0.6143256956878226,
          0.3701046600435209,
          0.18761891399506947,
          0.11839450477384762,
          0.0983397645794908,
          0.10555373807907442,
          0.11343275233790467,
          0.1162874093250318,
          0.11750257742044641
         ],
         "c": [
          0.0022304778535648137,
          0.005110904649253902,
          0.011555775259608174,
          0.015061549908870892,
          0.023221172294442535,
          0.043681624624580945,
          0.0886206913516831,
          0.15445973648707614,
          0.2091629476765996,
          0.2302783948768692,
          0.2367484236125937,
          0.23376523046064523,
          0.22765853371959943,
          0.2299513734825038,
          0.22982598115769468
         ],
         "line": {
          "color": "grey",
          "width": 0.25
         },
         "marker": {
          "color": "silver",
          "line": {
           "color": "black",
           "width": 0
          },
          "opacity": 0.9,
          "size": 6
         },
         "mode": "lines+text",
         "name": "VCT",
         "showlegend": false,
         "subplot": "ternary",
         "text": [
          "",
          "",
          "",
          "",
          "",
          "",
          "",
          "",
          "",
          "",
          "",
          "",
          "",
          "",
          ""
         ],
         "textfont": {
          "color": "black",
          "size": 1.5553006739912374
         },
         "type": "scatterternary"
        },
        {
         "a": [
          0.020095959413245337,
          0.041235615199294806,
          0.07881812521433801,
          0.08391257903449045,
          0.10570860833347004
         ],
         "b": [
          0.97767356273319,
          0.9536534801514513,
          0.9096260995260538,
          0.9010258710566386,
          0.8710702193720874
         ],
         "c": [
          0.0022304778535648137,
          0.005110904649253902,
          0.011555775259608174,
          0.015061549908870892,
          0.023221172294442535
         ],
         "line": {
          "color": "grey",
          "width": 0.25
         },
         "marker": {
          "color": "silver",
          "line": {
           "color": "black",
           "width": 0
          },
          "opacity": 0.9,
          "size": 6
         },
         "mode": "lines+text",
         "name": "VCT",
         "showlegend": false,
         "subplot": "ternary",
         "text": [
          "",
          "",
          "",
          "",
          "",
          "",
          "",
          "",
          "",
          "",
          "",
          "",
          "",
          "",
          ""
         ],
         "textfont": {
          "color": "black",
          "size": 1.5553006739912374
         },
         "type": "scatterternary"
        },
        {
         "a": [
          0.027357931897040933,
          0.07160204200640423,
          0.15184209100764012,
          0.17255627812422153,
          0.20873836512936855,
          0.29982621666020964,
          0.4291188926969946,
          0.5444134972398728,
          0.5941317161113582,
          0.6039598214273577,
          0.596693609638878,
          0.591299302741297,
          0.5871370943048623,
          0.5832189261590603,
          0.578550101500131
         ],
         "b": [
          0.9696284667915441,
          0.9196531853960882,
          0.826465415068631,
          0.7980694203331746,
          0.7487882478296568,
          0.6286623398837982,
          0.4515322348231759,
          0.28816038713602404,
          0.2078012658062373,
          0.18802262988631954,
          0.19434996147709377,
          0.20196067260454678,
          0.20874766368118247,
          0.2135697935537445,
          0.21974766739721993
         ],
         "c": [
          0.003013601311415153,
          0.008744772597507637,
          0.021692493923728823,
          0.02937430154260406,
          0.04247338704097464,
          0.07151144345599221,
          0.11934887247982955,
          0.16742611562410326,
          0.19806701808240454,
          0.2080175486863228,
          0.20895642888402827,
          0.20674002465415625,
          0.20411524201395514,
          0.2032112802871951,
          0.20170223110264907
         ],
         "line": {
          "color": "grey",
          "width": 0.25
         },
         "marker": {
          "color": "silver",
          "line": {
           "color": "black",
           "width": 0
          },
          "opacity": 0.9,
          "size": 6
         },
         "mode": "lines+text",
         "name": "WSM",
         "showlegend": false,
         "subplot": "ternary",
         "text": [
          "",
          "",
          "",
          "",
          "",
          "",
          "",
          "",
          "",
          "",
          "",
          "",
          "",
          "",
          ""
         ],
         "textfont": {
          "color": "black",
          "size": 1.7378000063417214
         },
         "type": "scatterternary"
        },
        {
         "a": [
          0.027357931897040933,
          0.07160204200640423,
          0.15184209100764012,
          0.17255627812422153,
          0.20873836512936855
         ],
         "b": [
          0.9696284667915441,
          0.9196531853960882,
          0.826465415068631,
          0.7980694203331746,
          0.7487882478296568
         ],
         "c": [
          0.003013601311415153,
          0.008744772597507637,
          0.021692493923728823,
          0.02937430154260406,
          0.04247338704097464
         ],
         "line": {
          "color": "grey",
          "width": 0.25
         },
         "marker": {
          "color": "silver",
          "line": {
           "color": "black",
           "width": 0
          },
          "opacity": 0.9,
          "size": 6
         },
         "mode": "lines+text",
         "name": "WSM",
         "showlegend": false,
         "subplot": "ternary",
         "text": [
          "",
          "",
          "",
          "",
          "",
          "",
          "",
          "",
          "",
          "",
          "",
          "",
          "",
          "",
          ""
         ],
         "textfont": {
          "color": "black",
          "size": 1.7378000063417214
         },
         "type": "scatterternary"
        },
        {
         "a": [
          0,
          0,
          0,
          0,
          0,
          0,
          0,
          0,
          0,
          0,
          0,
          0,
          0,
          0,
          0
         ],
         "b": [
          0,
          0,
          0,
          0,
          0,
          0,
          0,
          0,
          0,
          0,
          0,
          0,
          0,
          0,
          0
         ],
         "c": [
          0,
          0,
          0,
          0,
          0,
          0,
          0,
          0,
          0,
          0,
          0,
          0,
          0,
          0,
          0
         ],
         "line": {
          "color": "grey",
          "width": 0.25
         },
         "marker": {
          "color": "silver",
          "line": {
           "color": "black",
           "width": 0
          },
          "opacity": 0.9,
          "size": 6
         },
         "mode": "lines+text",
         "name": "SMR",
         "showlegend": false,
         "subplot": "ternary",
         "text": [
          "",
          "",
          "",
          "",
          "",
          "",
          "",
          "",
          "",
          "",
          "",
          "",
          "",
          "",
          ""
         ],
         "textfont": {
          "color": "black",
          "size": 2.3694187025678044
         },
         "type": "scatterternary"
        },
        {
         "a": [
          0,
          0,
          0,
          0,
          0
         ],
         "b": [
          0,
          0,
          0,
          0,
          0
         ],
         "c": [
          0,
          0,
          0,
          0,
          0
         ],
         "line": {
          "color": "grey",
          "width": 0.25
         },
         "marker": {
          "color": "silver",
          "line": {
           "color": "black",
           "width": 0
          },
          "opacity": 0.9,
          "size": 6
         },
         "mode": "lines+text",
         "name": "SMR",
         "showlegend": false,
         "subplot": "ternary",
         "text": [
          "",
          "",
          "",
          "",
          "",
          "",
          "",
          "",
          "",
          "",
          "",
          "",
          "",
          "",
          ""
         ],
         "textfont": {
          "color": "black",
          "size": 2.3694187025678044
         },
         "type": "scatterternary"
        },
        {
         "a": [
          0.020315292521826536,
          0.06517084044355866,
          0.15085185846201493,
          0.18208560818588265,
          0.22462031347267888,
          0.32555321474514526,
          0.4434619241217127,
          0.5052999622204148,
          0.4943249082455603,
          0.47272541865954076,
          0.4461651551626832,
          0.43961763614324345,
          0.44141110140100925,
          0.4483391390456124,
          0.45945828896448804
         ],
         "b": [
          0.9774741233049322,
          0.9271401893275749,
          0.8284940951115335,
          0.788184437895759,
          0.7313647715343252,
          0.5986431818841825,
          0.4328627880166634,
          0.3315716725598271,
          0.32296188877595455,
          0.33613767549691886,
          0.35647250569849054,
          0.3560007400701707,
          0.3490826113329661,
          0.33612869975300497,
          0.3205007510199943
         ],
         "c": [
          0.002210584173241264,
          0.00768897022886639,
          0.02065404642645167,
          0.02972995391835825,
          0.04401491499299594,
          0.07580360337067234,
          0.12367528786162375,
          0.16312836521975801,
          0.18271320297848523,
          0.19113690584354046,
          0.19736233913882645,
          0.20438162378658578,
          0.2095062872660246,
          0.21553216120138247,
          0.22004096001551765
         ],
         "line": {
          "color": "grey",
          "width": 0.25
         },
         "marker": {
          "color": "silver",
          "line": {
           "color": "black",
           "width": 0
          },
          "opacity": 0.9,
          "size": 6
         },
         "mode": "lines+text",
         "name": "STP",
         "showlegend": false,
         "subplot": "ternary",
         "text": [
          "",
          "",
          "",
          "",
          "",
          "",
          "",
          "",
          "",
          "",
          "",
          "",
          "",
          "",
          ""
         ],
         "textfont": {
          "color": "black",
          "size": 1.74215496987358
         },
         "type": "scatterternary"
        },
        {
         "a": [
          0.020315292521826536,
          0.06517084044355866,
          0.15085185846201493,
          0.18208560818588265,
          0.22462031347267888
         ],
         "b": [
          0.9774741233049322,
          0.9271401893275749,
          0.8284940951115335,
          0.788184437895759,
          0.7313647715343252
         ],
         "c": [
          0.002210584173241264,
          0.00768897022886639,
          0.02065404642645167,
          0.02972995391835825,
          0.04401491499299594
         ],
         "line": {
          "color": "grey",
          "width": 0.25
         },
         "marker": {
          "color": "silver",
          "line": {
           "color": "black",
           "width": 0
          },
          "opacity": 0.9,
          "size": 6
         },
         "mode": "lines+text",
         "name": "STP",
         "showlegend": false,
         "subplot": "ternary",
         "text": [
          "",
          "",
          "",
          "",
          "",
          "",
          "",
          "",
          "",
          "",
          "",
          "",
          "",
          "",
          ""
         ],
         "textfont": {
          "color": "black",
          "size": 1.74215496987358
         },
         "type": "scatterternary"
        },
        {
         "a": [
          0.24216376695502687,
          0.28080210881296386,
          0.37207775087649325,
          0.3095468743345342,
          0.27639377935885584,
          0.2848229679597356,
          0.26302648616234875,
          0.23265817532847355,
          0.20287583029192835,
          0.18453189584492402,
          0.17522788957356394,
          0.16993870700362462,
          0.16139403986494893,
          0.1519825844578148,
          0.14233178832730334
         ],
         "b": [
          0.7289479065720904,
          0.6810535305015918,
          0.5671807536189513,
          0.6289152687182977,
          0.6533068516243873,
          0.6171086066595863,
          0.6164738959723314,
          0.6342683482336094,
          0.6556910996048478,
          0.6638508634628608,
          0.662038171664387,
          0.6423016863595775,
          0.6086961248432214,
          0.5762091365100545,
          0.546049861889544
         ],
         "c": [
          0.028888326472882857,
          0.03814436068544413,
          0.0607414955045557,
          0.061537856947167985,
          0.0702993690167569,
          0.09806842538067805,
          0.12049961786531986,
          0.13307347643791695,
          0.1414330701032238,
          0.1516172406922151,
          0.16273393876204895,
          0.1877596066367978,
          0.22990983529182965,
          0.27180827903213073,
          0.3116183497831528
         ],
         "line": {
          "color": "grey",
          "width": 0.25
         },
         "marker": {
          "color": "silver",
          "line": {
           "color": "black",
           "width": 0
          },
          "opacity": 0.9,
          "size": 6
         },
         "mode": "lines+text",
         "name": "SAU",
         "showlegend": false,
         "subplot": "ternary",
         "text": [
          "",
          "",
          "",
          "",
          "",
          "",
          "",
          "",
          "",
          "",
          "",
          "",
          "",
          "",
          ""
         ],
         "textfont": {
          "color": "black",
          "size": 6.756565357804389
         },
         "type": "scatterternary"
        },
        {
         "a": [
          0.24216376695502687,
          0.28080210881296386,
          0.37207775087649325,
          0.3095468743345342,
          0.27639377935885584
         ],
         "b": [
          0.7289479065720904,
          0.6810535305015918,
          0.5671807536189513,
          0.6289152687182977,
          0.6533068516243873
         ],
         "c": [
          0.028888326472882857,
          0.03814436068544413,
          0.0607414955045557,
          0.061537856947167985,
          0.0702993690167569
         ],
         "line": {
          "color": "grey",
          "width": 0.25
         },
         "marker": {
          "color": "silver",
          "line": {
           "color": "black",
           "width": 0
          },
          "opacity": 0.9,
          "size": 6
         },
         "mode": "lines+text",
         "name": "SAU",
         "showlegend": false,
         "subplot": "ternary",
         "text": [
          "",
          "",
          "",
          "",
          "",
          "",
          "",
          "",
          "",
          "",
          "",
          "",
          "",
          "",
          ""
         ],
         "textfont": {
          "color": "black",
          "size": 6.756565357804389
         },
         "type": "scatterternary"
        },
        {
         "a": [
          0.05179954078164164,
          0.13145160835925687,
          0.27421121795182757,
          0.32258764425111947,
          0.36887627761623676,
          0.45515071472367197,
          0.5007396942255276,
          0.490309451059486,
          0.45697010237142643,
          0.4455060921348615,
          0.437414320092673,
          0.45484199788693175,
          0.47758615943816074,
          0.5021515405240911,
          0.519052245369368
         ],
         "b": [
          0.9425474142142803,
          0.8529001358357484,
          0.6879157926264117,
          0.6239913073759661,
          0.5578708521623483,
          0.435989284081628,
          0.3530856891243716,
          0.34226786501500917,
          0.3640565927753383,
          0.3667846521328613,
          0.3639828238634849,
          0.3399092892528924,
          0.31240294579261885,
          0.2830425093552431,
          0.26079985949765183
         ],
         "c": [
          0.0056530450040782314,
          0.015648255804994852,
          0.03787298942176073,
          0.05342104837291441,
          0.07325287022141518,
          0.10886000119469995,
          0.14617461665010062,
          0.167422683925505,
          0.1789733048532353,
          0.18770925573227729,
          0.19860285604384217,
          0.20524871286017582,
          0.21001089476922036,
          0.21480595012066578,
          0.22014789513298028
         ],
         "line": {
          "color": "grey",
          "width": 0.25
         },
         "marker": {
          "color": "silver",
          "line": {
           "color": "black",
           "width": 0
          },
          "opacity": 0.9,
          "size": 6
         },
         "mode": "lines+text",
         "name": "SEN",
         "showlegend": false,
         "subplot": "ternary",
         "text": [
          "",
          "",
          "",
          "",
          "",
          "",
          "",
          "",
          "",
          "",
          "",
          "",
          "",
          "",
          ""
         ],
         "textfont": {
          "color": "black",
          "size": 5.1735733432152085
         },
         "type": "scatterternary"
        },
        {
         "a": [
          0.05179954078164164,
          0.13145160835925687,
          0.27421121795182757,
          0.32258764425111947,
          0.36887627761623676
         ],
         "b": [
          0.9425474142142803,
          0.8529001358357484,
          0.6879157926264117,
          0.6239913073759661,
          0.5578708521623483
         ],
         "c": [
          0.0056530450040782314,
          0.015648255804994852,
          0.03787298942176073,
          0.05342104837291441,
          0.07325287022141518
         ],
         "line": {
          "color": "grey",
          "width": 0.25
         },
         "marker": {
          "color": "silver",
          "line": {
           "color": "black",
           "width": 0
          },
          "opacity": 0.9,
          "size": 6
         },
         "mode": "lines+text",
         "name": "SEN",
         "showlegend": false,
         "subplot": "ternary",
         "text": [
          "",
          "",
          "",
          "",
          "",
          "",
          "",
          "",
          "",
          "",
          "",
          "",
          "",
          "",
          ""
         ],
         "textfont": {
          "color": "black",
          "size": 5.1735733432152085
         },
         "type": "scatterternary"
        },
        {
         "a": [
          0.7666182341843493,
          0.7678693415459753,
          0.7633142603986112,
          0.7334942071692216,
          0.7102957967872606,
          0.6882979615987278,
          0.6639255973676298,
          0.6497732371538083,
          0.6378153678218784,
          0.6302744519078209,
          0.6257030430445223,
          0.6215974679490752,
          0.6179516247786638,
          0.61123604472674,
          0.609356182152019
         ],
         "b": [
          0.14775450690247344,
          0.13328540999158037,
          0.12042228818190867,
          0.13210921644636675,
          0.13311642606070226,
          0.13329338432108861,
          0.13726194854402246,
          0.13787820384437494,
          0.13715798031073956,
          0.1376158751996366,
          0.13648671831307468,
          0.1371120618511037,
          0.1383750407059582,
          0.14089922464317475,
          0.1409211267601197
         ],
         "c": [
          0.08562725891317724,
          0.09884524846244433,
          0.11626345141948025,
          0.13439657638441166,
          0.15658777715203742,
          0.1784086540801835,
          0.19881245408834797,
          0.21234855900181676,
          0.22502665186738188,
          0.23210967289254264,
          0.237810238642403,
          0.24129047019982117,
          0.24367333451537793,
          0.24786473063008538,
          0.24972269108786133
         ],
         "line": {
          "color": "grey",
          "width": 0.25
         },
         "marker": {
          "color": "silver",
          "line": {
           "color": "black",
           "width": 0
          },
          "opacity": 0.9,
          "size": 6
         },
         "mode": "lines+text",
         "name": "SRB",
         "showlegend": false,
         "subplot": "ternary",
         "text": [
          "",
          "",
          "",
          "",
          "",
          "",
          "",
          "",
          "",
          "",
          "",
          "",
          "",
          "",
          ""
         ],
         "textfont": {
          "color": "black",
          "size": 4.046873420342817
         },
         "type": "scatterternary"
        },
        {
         "a": [
          0.7666182341843493,
          0.7678693415459753,
          0.7633142603986112,
          0.7334942071692216,
          0.7102957967872606
         ],
         "b": [
          0.14775450690247344,
          0.13328540999158037,
          0.12042228818190867,
          0.13210921644636675,
          0.13311642606070226
         ],
         "c": [
          0.08562725891317724,
          0.09884524846244433,
          0.11626345141948025,
          0.13439657638441166,
          0.15658777715203742
         ],
         "line": {
          "color": "grey",
          "width": 0.25
         },
         "marker": {
          "color": "silver",
          "line": {
           "color": "black",
           "width": 0
          },
          "opacity": 0.9,
          "size": 6
         },
         "mode": "lines+text",
         "name": "SRB",
         "showlegend": false,
         "subplot": "ternary",
         "text": [
          "",
          "",
          "",
          "",
          "",
          "",
          "",
          "",
          "",
          "",
          "",
          "",
          "",
          "",
          ""
         ],
         "textfont": {
          "color": "black",
          "size": 4.046873420342817
         },
         "type": "scatterternary"
        },
        {
         "a": [
          0,
          0,
          0,
          0,
          0,
          0,
          0,
          0,
          0,
          0,
          0,
          0,
          0,
          0,
          0
         ],
         "b": [
          0,
          0,
          0,
          0,
          0,
          0,
          0,
          0,
          0,
          0,
          0,
          0,
          0,
          0,
          0
         ],
         "c": [
          0,
          0,
          0,
          0,
          0,
          0,
          0,
          0,
          0,
          0,
          0,
          0,
          0,
          0,
          0
         ],
         "line": {
          "color": "grey",
          "width": 0.25
         },
         "marker": {
          "color": "silver",
          "line": {
           "color": "black",
           "width": 0
          },
          "opacity": 0.9,
          "size": 6
         },
         "mode": "lines+text",
         "name": "SYC",
         "showlegend": false,
         "subplot": "ternary",
         "text": [
          "",
          "",
          "",
          "",
          "",
          "",
          "",
          "",
          "",
          "",
          "",
          "",
          "",
          "",
          ""
         ],
         "textfont": {
          "color": "black",
          "size": 1.5559428799785833
         },
         "type": "scatterternary"
        },
        {
         "a": [
          0,
          0,
          0,
          0,
          0
         ],
         "b": [
          0,
          0,
          0,
          0,
          0
         ],
         "c": [
          0,
          0,
          0,
          0,
          0
         ],
         "line": {
          "color": "grey",
          "width": 0.25
         },
         "marker": {
          "color": "silver",
          "line": {
           "color": "black",
           "width": 0
          },
          "opacity": 0.9,
          "size": 6
         },
         "mode": "lines+text",
         "name": "SYC",
         "showlegend": false,
         "subplot": "ternary",
         "text": [
          "",
          "",
          "",
          "",
          "",
          "",
          "",
          "",
          "",
          "",
          "",
          "",
          "",
          "",
          ""
         ],
         "textfont": {
          "color": "black",
          "size": 1.5559428799785833
         },
         "type": "scatterternary"
        },
        {
         "a": [
          0.11044194458577325,
          0.2257061503470888,
          0.3997641843287782,
          0.42517743422632254,
          0.4237110509113051,
          0.4269702417762693,
          0.3799523106226079,
          0.3196724165576018,
          0.2676154664296102,
          0.2382087171511923,
          0.21018997444412196,
          0.19473839875704785,
          0.18321481267669545,
          0.1736584776219939,
          0.16865650684054995
         ],
         "b": [
          0.8775331654711306,
          0.747539630870415,
          0.5452035210911358,
          0.5047038814559404,
          0.4918246998173665,
          0.4671586451056731,
          0.49740794910294156,
          0.543812172044938,
          0.5802669643266879,
          0.5892971476130388,
          0.5907097670017414,
          0.5764207451204328,
          0.5626092775975001,
          0.5466908220792813,
          0.529877550933688
         ],
         "c": [
          0.012024889943096343,
          0.026754218782496342,
          0.05503229458008596,
          0.07011868431773713,
          0.08446424927132858,
          0.10587111311805762,
          0.12263974027445024,
          0.13651541139746026,
          0.15211756924370173,
          0.172494135235769,
          0.19910025855413654,
          0.22884085612251925,
          0.25417590972580445,
          0.27965070029872485,
          0.30146594222576195
         ],
         "line": {
          "color": "grey",
          "width": 0.25
         },
         "marker": {
          "color": "silver",
          "line": {
           "color": "black",
           "width": 0
          },
          "opacity": 0.9,
          "size": 6
         },
         "mode": "lines+text",
         "name": "SLE",
         "showlegend": false,
         "subplot": "ternary",
         "text": [
          "",
          "",
          "",
          "",
          "",
          "",
          "",
          "",
          "",
          "",
          "",
          "",
          "",
          "",
          ""
         ],
         "textfont": {
          "color": "black",
          "size": 4.1680383806054895
         },
         "type": "scatterternary"
        },
        {
         "a": [
          0.11044194458577325,
          0.2257061503470888,
          0.3997641843287782,
          0.42517743422632254,
          0.4237110509113051
         ],
         "b": [
          0.8775331654711306,
          0.747539630870415,
          0.5452035210911358,
          0.5047038814559404,
          0.4918246998173665
         ],
         "c": [
          0.012024889943096343,
          0.026754218782496342,
          0.05503229458008596,
          0.07011868431773713,
          0.08446424927132858
         ],
         "line": {
          "color": "grey",
          "width": 0.25
         },
         "marker": {
          "color": "silver",
          "line": {
           "color": "black",
           "width": 0
          },
          "opacity": 0.9,
          "size": 6
         },
         "mode": "lines+text",
         "name": "SLE",
         "showlegend": false,
         "subplot": "ternary",
         "text": [
          "",
          "",
          "",
          "",
          "",
          "",
          "",
          "",
          "",
          "",
          "",
          "",
          "",
          "",
          ""
         ],
         "textfont": {
          "color": "black",
          "size": 4.1680383806054895
         },
         "type": "scatterternary"
        },
        {
         "a": [
          0.49858393102210674,
          0.5062475862071695,
          0.4446390824589822,
          0.33813528536037296,
          0.25875439595851135,
          0.21307638821378871,
          0.16770508685392777,
          0.13362876574727972,
          0.11044452525641202,
          0.09800025540935196,
          0.09189577443230804,
          0.08596032136136732,
          0.08122563454557652,
          0.07649121462841037,
          0.07749125977158344
         ],
         "b": [
          0.4429672084174455,
          0.42504749138254194,
          0.48176767860322045,
          0.5899798944335664,
          0.6580028560077431,
          0.6843165262758647,
          0.7022958955489392,
          0.69417488530876,
          0.6816082931137729,
          0.6615215887717449,
          0.6448080619010069,
          0.6213822547324648,
          0.598631637416731,
          0.5772565867198807,
          0.5607929324016129
         ],
         "c": [
          0.058448860560447805,
          0.06870492241028851,
          0.07359323893779739,
          0.0718848202060606,
          0.08324274803374526,
          0.10260708551034661,
          0.12999901759713314,
          0.17219634894396016,
          0.20794718162981488,
          0.24047815581890297,
          0.2632961636666852,
          0.2926574239061677,
          0.32014272803769256,
          0.346252198651709,
          0.3617158078268036
         ],
         "line": {
          "color": "grey",
          "width": 0.25
         },
         "marker": {
          "color": "silver",
          "line": {
           "color": "black",
           "width": 0
          },
          "opacity": 0.9,
          "size": 6
         },
         "mode": "lines+text",
         "name": "SGP",
         "showlegend": false,
         "subplot": "ternary",
         "text": [
          "",
          "",
          "",
          "",
          "",
          "",
          "",
          "",
          "",
          "",
          "",
          "",
          "",
          "",
          ""
         ],
         "textfont": {
          "color": "black",
          "size": 3.784108710085213
         },
         "type": "scatterternary"
        },
        {
         "a": [
          0.49858393102210674,
          0.5062475862071695,
          0.4446390824589822,
          0.33813528536037296,
          0.25875439595851135
         ],
         "b": [
          0.4429672084174455,
          0.42504749138254194,
          0.48176767860322045,
          0.5899798944335664,
          0.6580028560077431
         ],
         "c": [
          0.058448860560447805,
          0.06870492241028851,
          0.07359323893779739,
          0.0718848202060606,
          0.08324274803374526
         ],
         "line": {
          "color": "grey",
          "width": 0.25
         },
         "marker": {
          "color": "silver",
          "line": {
           "color": "black",
           "width": 0
          },
          "opacity": 0.9,
          "size": 6
         },
         "mode": "lines+text",
         "name": "SGP",
         "showlegend": false,
         "subplot": "ternary",
         "text": [
          "",
          "",
          "",
          "",
          "",
          "",
          "",
          "",
          "",
          "",
          "",
          "",
          "",
          "",
          ""
         ],
         "textfont": {
          "color": "black",
          "size": 3.784108710085213
         },
         "type": "scatterternary"
        },
        {
         "a": [
          0,
          0,
          0,
          0,
          0,
          0,
          0,
          0,
          0,
          0,
          0,
          0,
          0,
          0,
          0
         ],
         "b": [
          0,
          0,
          0,
          0,
          0,
          0,
          0,
          0,
          0,
          0,
          0,
          0,
          0,
          0,
          0
         ],
         "c": [
          0,
          0,
          0,
          0,
          0,
          0,
          0,
          0,
          0,
          0,
          0,
          0,
          0,
          0,
          0
         ],
         "line": {
          "color": "grey",
          "width": 0.25
         },
         "marker": {
          "color": "silver",
          "line": {
           "color": "black",
           "width": 0
          },
          "opacity": 0.9,
          "size": 6
         },
         "mode": "lines+text",
         "name": "SVK",
         "showlegend": false,
         "subplot": "ternary",
         "text": [
          "",
          "",
          "",
          "",
          "",
          "",
          "",
          "",
          "",
          "",
          "",
          "",
          "",
          "",
          ""
         ],
         "textfont": {
          "color": "black",
          "size": 3.69982173619677
         },
         "type": "scatterternary"
        },
        {
         "a": [
          0,
          0,
          0,
          0,
          0
         ],
         "b": [
          0,
          0,
          0,
          0,
          0
         ],
         "c": [
          0,
          0,
          0,
          0,
          0
         ],
         "line": {
          "color": "grey",
          "width": 0.25
         },
         "marker": {
          "color": "silver",
          "line": {
           "color": "black",
           "width": 0
          },
          "opacity": 0.9,
          "size": 6
         },
         "mode": "lines+text",
         "name": "SVK",
         "showlegend": false,
         "subplot": "ternary",
         "text": [
          "",
          "",
          "",
          "",
          "",
          "",
          "",
          "",
          "",
          "",
          "",
          "",
          "",
          "",
          ""
         ],
         "textfont": {
          "color": "black",
          "size": 3.69982173619677
         },
         "type": "scatterternary"
        },
        {
         "a": [
          0.4241264433386115,
          0.46788079087754464,
          0.5550144261303237,
          0.49925071835357115,
          0.4837880440389118,
          0.524580035862154,
          0.5562924210405029,
          0.5754054026667699,
          0.5806523823599565,
          0.5880746563019218,
          0.59911191309451,
          0.6110978422120543,
          0.6218869412771386,
          0.6274776368182904,
          0.6353341809155613
         ],
         "b": [
          0.5283850855137062,
          0.47177588646443136,
          0.3596566293299852,
          0.40741449583871503,
          0.40569230836929526,
          0.3328643677308131,
          0.2674990869945656,
          0.22151021203735297,
          0.1962552306105369,
          0.17679772164919763,
          0.1584353798585177,
          0.14151497550148975,
          0.12819122470521235,
          0.1195653296091603,
          0.11194505999449383
         ],
         "c": [
          0.04748847114768239,
          0.060343322658024265,
          0.08532894453969138,
          0.09333478580771398,
          0.11051964759179306,
          0.14255559640703278,
          0.17620849196493135,
          0.20308438529587708,
          0.2230923870295066,
          0.2351276220488806,
          0.24245270704697208,
          0.2473871822864559,
          0.24992183401764914,
          0.2529570335725494,
          0.25272075908994485
         ],
         "line": {
          "color": "grey",
          "width": 0.25
         },
         "marker": {
          "color": "silver",
          "line": {
           "color": "black",
           "width": 0
          },
          "opacity": 0.9,
          "size": 6
         },
         "mode": "lines+text",
         "name": "SVN",
         "showlegend": false,
         "subplot": "ternary",
         "text": [
          "",
          "",
          "",
          "",
          "",
          "",
          "",
          "",
          "",
          "",
          "",
          "",
          "",
          "",
          ""
         ],
         "textfont": {
          "color": "black",
          "size": 2.8482620053712755
         },
         "type": "scatterternary"
        },
        {
         "a": [
          0.4241264433386115,
          0.46788079087754464,
          0.5550144261303237,
          0.49925071835357115,
          0.4837880440389118
         ],
         "b": [
          0.5283850855137062,
          0.47177588646443136,
          0.3596566293299852,
          0.40741449583871503,
          0.40569230836929526
         ],
         "c": [
          0.04748847114768239,
          0.060343322658024265,
          0.08532894453969138,
          0.09333478580771398,
          0.11051964759179306
         ],
         "line": {
          "color": "grey",
          "width": 0.25
         },
         "marker": {
          "color": "silver",
          "line": {
           "color": "black",
           "width": 0
          },
          "opacity": 0.9,
          "size": 6
         },
         "mode": "lines+text",
         "name": "SVN",
         "showlegend": false,
         "subplot": "ternary",
         "text": [
          "",
          "",
          "",
          "",
          "",
          "",
          "",
          "",
          "",
          "",
          "",
          "",
          "",
          "",
          ""
         ],
         "textfont": {
          "color": "black",
          "size": 2.8482620053712755
         },
         "type": "scatterternary"
        },
        {
         "a": [
          0.3444551295723592,
          0.4288466142354803,
          0.5281565472557463,
          0.5248508782665788,
          0.5374414583079863,
          0.5686370338917301,
          0.5853498981784381,
          0.5895648216372686,
          0.5810651412669966,
          0.5754884691360623,
          0.5699908472459867,
          0.5698992152011146,
          0.5710470079479484,
          0.5720454602542114,
          0.5722754768831564
         ],
         "b": [
          0.6169826477857986,
          0.5141597106273562,
          0.38576804260800207,
          0.3725776875618865,
          0.3396065434645225,
          0.2802177467153727,
          0.23556750991940975,
          0.2138596619617433,
          0.21058287453488111,
          0.21162809775362457,
          0.21506144130543298,
          0.21539003757292002,
          0.21558817452877727,
          0.21529245028933047,
          0.21753261486286582
         ],
         "c": [
          0.038562222641842295,
          0.05699367513716367,
          0.08607541013625153,
          0.10257143417153479,
          0.1229519982274913,
          0.1511452193928972,
          0.1790825919021522,
          0.19657551640098814,
          0.20835198419812226,
          0.21288343311031319,
          0.21494771144858046,
          0.21471074722596523,
          0.2133648175232745,
          0.2126620894564582,
          0.21019190825397777
         ],
         "line": {
          "color": "grey",
          "width": 0.25
         },
         "marker": {
          "color": "silver",
          "line": {
           "color": "black",
           "width": 0
          },
          "opacity": 0.9,
          "size": 6
         },
         "mode": "lines+text",
         "name": "SLB",
         "showlegend": false,
         "subplot": "ternary",
         "text": [
          "",
          "",
          "",
          "",
          "",
          "",
          "",
          "",
          "",
          "",
          "",
          "",
          "",
          "",
          ""
         ],
         "textfont": {
          "color": "black",
          "size": 2.175650781277322
         },
         "type": "scatterternary"
        },
        {
         "a": [
          0.3444551295723592,
          0.4288466142354803,
          0.5281565472557463,
          0.5248508782665788,
          0.5374414583079863
         ],
         "b": [
          0.6169826477857986,
          0.5141597106273562,
          0.38576804260800207,
          0.3725776875618865,
          0.3396065434645225
         ],
         "c": [
          0.038562222641842295,
          0.05699367513716367,
          0.08607541013625153,
          0.10257143417153479,
          0.1229519982274913
         ],
         "line": {
          "color": "grey",
          "width": 0.25
         },
         "marker": {
          "color": "silver",
          "line": {
           "color": "black",
           "width": 0
          },
          "opacity": 0.9,
          "size": 6
         },
         "mode": "lines+text",
         "name": "SLB",
         "showlegend": false,
         "subplot": "ternary",
         "text": [
          "",
          "",
          "",
          "",
          "",
          "",
          "",
          "",
          "",
          "",
          "",
          "",
          "",
          "",
          ""
         ],
         "textfont": {
          "color": "black",
          "size": 2.175650781277322
         },
         "type": "scatterternary"
        },
        {
         "a": [
          0.18632001587158864,
          0.31412133540792314,
          0.440377762886236,
          0.40559692479441034,
          0.3468552623319425,
          0.3009889915150968,
          0.2591928563225373,
          0.22558361549582967,
          0.19636188123065818,
          0.18258594002385145,
          0.17324171834911348,
          0.17743012320879725,
          0.19193429032306056,
          0.21729244365124306,
          0.2546144087153891
         ],
         "b": [
          0.7930024962440779,
          0.6466752953342405,
          0.49614923389702187,
          0.5198689053451736,
          0.5697778042696457,
          0.5973916895132404,
          0.621511203218311,
          0.628682428150851,
          0.622501173957011,
          0.6116692240245339,
          0.6000938019641299,
          0.585528442861351,
          0.5636260983432182,
          0.5363077586600645,
          0.49915795959074594
         ],
         "c": [
          0.020677487884333733,
          0.039203369257836344,
          0.06347300321674222,
          0.07453416986041594,
          0.08336693339841199,
          0.10161931897166301,
          0.11929594045915178,
          0.14573395635331954,
          0.1811369448123309,
          0.20574483595161439,
          0.2266644796867566,
          0.23704143392985172,
          0.24443961133372116,
          0.2463997976886924,
          0.24622763169386497
         ],
         "line": {
          "color": "grey",
          "width": 0.25
         },
         "marker": {
          "color": "silver",
          "line": {
           "color": "black",
           "width": 0
          },
          "opacity": 0.9,
          "size": 6
         },
         "mode": "lines+text",
         "name": "SOM",
         "showlegend": false,
         "subplot": "ternary",
         "text": [
          "",
          "",
          "",
          "",
          "",
          "",
          "",
          "",
          "",
          "",
          "",
          "",
          "",
          "",
          ""
         ],
         "textfont": {
          "color": "black",
          "size": 5.179476061819752
         },
         "type": "scatterternary"
        },
        {
         "a": [
          0.18632001587158864,
          0.31412133540792314,
          0.440377762886236,
          0.40559692479441034,
          0.3468552623319425
         ],
         "b": [
          0.7930024962440779,
          0.6466752953342405,
          0.49614923389702187,
          0.5198689053451736,
          0.5697778042696457
         ],
         "c": [
          0.020677487884333733,
          0.039203369257836344,
          0.06347300321674222,
          0.07453416986041594,
          0.08336693339841199
         ],
         "line": {
          "color": "grey",
          "width": 0.25
         },
         "marker": {
          "color": "silver",
          "line": {
           "color": "black",
           "width": 0
          },
          "opacity": 0.9,
          "size": 6
         },
         "mode": "lines+text",
         "name": "SOM",
         "showlegend": false,
         "subplot": "ternary",
         "text": [
          "",
          "",
          "",
          "",
          "",
          "",
          "",
          "",
          "",
          "",
          "",
          "",
          "",
          "",
          ""
         ],
         "textfont": {
          "color": "black",
          "size": 5.179476061819752
         },
         "type": "scatterternary"
        },
        {
         "a": [
          0.2519023653065944,
          0.28153198380861394,
          0.35689781081341476,
          0.34671011903024246,
          0.37902123384656644,
          0.4847862062316711,
          0.6085594554498566,
          0.6937121332198799,
          0.7060382385801982,
          0.6812247615267097,
          0.6357691348535845,
          0.5791293764654,
          0.5209147792533034,
          0.4671944078687971,
          0.42077475620180926
         ],
         "b": [
          0.7199222142493233,
          0.682054453732871,
          0.5879708358428531,
          0.5886492379608689,
          0.5362209556416888,
          0.3897441988599323,
          0.21138800763512797,
          0.08350470281498701,
          0.04420161809858387,
          0.056960389974897524,
          0.09507665760972625,
          0.14341357949576902,
          0.19347498755795872,
          0.2348319073716129,
          0.26127936054668843
         ],
         "c": [
          0.028175420444082278,
          0.03641356245851528,
          0.055131353343732065,
          0.06464064300888851,
          0.0847578105117448,
          0.1254695949083965,
          0.18005253691501524,
          0.22278316396513323,
          0.24976014332121788,
          0.26181484849839265,
          0.2691542075366893,
          0.2774570440388312,
          0.2856102331887379,
          0.29797368475959,
          0.31794588325150236
         ],
         "line": {
          "color": "grey",
          "width": 0.25
         },
         "marker": {
          "color": "silver",
          "line": {
           "color": "black",
           "width": 0
          },
          "opacity": 0.9,
          "size": 6
         },
         "mode": "lines+text",
         "name": "ZAF",
         "showlegend": false,
         "subplot": "ternary",
         "text": [
          "",
          "",
          "",
          "",
          "",
          "",
          "",
          "",
          "",
          "",
          "",
          "",
          "",
          "",
          ""
         ],
         "textfont": {
          "color": "black",
          "size": 7.971047493211743
         },
         "type": "scatterternary"
        },
        {
         "a": [
          0.2519023653065944,
          0.28153198380861394,
          0.35689781081341476,
          0.34671011903024246,
          0.37902123384656644
         ],
         "b": [
          0.7199222142493233,
          0.682054453732871,
          0.5879708358428531,
          0.5886492379608689,
          0.5362209556416888
         ],
         "c": [
          0.028175420444082278,
          0.03641356245851528,
          0.055131353343732065,
          0.06464064300888851,
          0.0847578105117448
         ],
         "line": {
          "color": "grey",
          "width": 0.25
         },
         "marker": {
          "color": "silver",
          "line": {
           "color": "black",
           "width": 0
          },
          "opacity": 0.9,
          "size": 6
         },
         "mode": "lines+text",
         "name": "ZAF",
         "showlegend": false,
         "subplot": "ternary",
         "text": [
          "",
          "",
          "",
          "",
          "",
          "",
          "",
          "",
          "",
          "",
          "",
          "",
          "",
          "",
          ""
         ],
         "textfont": {
          "color": "black",
          "size": 7.971047493211743
         },
         "type": "scatterternary"
        },
        {
         "a": [
          0.49067970470042793,
          0.467948756352033,
          0.5170246203042367,
          0.4434497013128169,
          0.3923929814437972,
          0.40940757657317395,
          0.4254279026248652,
          0.43656972926894067,
          0.4369020395190226,
          0.4419748039364978,
          0.4566317370430558,
          0.48083445202841935,
          0.5091553217922425,
          0.5401389689300868,
          0.5647273729094273
         ],
         "b": [
          0.4535933562663008,
          0.4704956368233579,
          0.4011200460203554,
          0.47053948369338006,
          0.5149114153360351,
          0.47531450140901654,
          0.4367636781391583,
          0.40933003095555426,
          0.39605787101640916,
          0.38340897193829626,
          0.35839121287082826,
          0.32363341053203487,
          0.28413257804178843,
          0.23985431402930332,
          0.2058471846923756
         ],
         "c": [
          0.05572693903327111,
          0.06155560682460933,
          0.08185533367540815,
          0.08601081499380306,
          0.09269560322016766,
          0.11527792201780963,
          0.1378084192359765,
          0.15410023977550502,
          0.1670400894645683,
          0.17461622412520594,
          0.1849770500861159,
          0.19553213743954562,
          0.20671210016596903,
          0.22000671704060978,
          0.22942544239819723
         ],
         "line": {
          "color": "grey",
          "width": 0.25
         },
         "marker": {
          "color": "silver",
          "line": {
           "color": "black",
           "width": 0
          },
          "opacity": 0.9,
          "size": 6
         },
         "mode": "lines+text",
         "name": "KOR",
         "showlegend": false,
         "subplot": "ternary",
         "text": [
          "",
          "",
          "",
          "",
          "",
          "",
          "",
          "",
          "",
          "",
          "",
          "",
          "",
          "",
          ""
         ],
         "textfont": {
          "color": "black",
          "size": 7.644510299531274
         },
         "type": "scatterternary"
        },
        {
         "a": [
          0.49067970470042793,
          0.467948756352033,
          0.5170246203042367,
          0.4434497013128169,
          0.3923929814437972
         ],
         "b": [
          0.4535933562663008,
          0.4704956368233579,
          0.4011200460203554,
          0.47053948369338006,
          0.5149114153360351
         ],
         "c": [
          0.05572693903327111,
          0.06155560682460933,
          0.08185533367540815,
          0.08601081499380306,
          0.09269560322016766
         ],
         "line": {
          "color": "grey",
          "width": 0.25
         },
         "marker": {
          "color": "silver",
          "line": {
           "color": "black",
           "width": 0
          },
          "opacity": 0.9,
          "size": 6
         },
         "mode": "lines+text",
         "name": "KOR",
         "showlegend": false,
         "subplot": "ternary",
         "text": [
          "",
          "",
          "",
          "",
          "",
          "",
          "",
          "",
          "",
          "",
          "",
          "",
          "",
          "",
          ""
         ],
         "textfont": {
          "color": "black",
          "size": 7.644510299531274
         },
         "type": "scatterternary"
        },
        {
         "a": [
          0,
          0,
          0,
          0,
          0,
          0,
          0,
          0,
          0,
          0,
          0,
          0,
          0,
          0,
          0
         ],
         "b": [
          0,
          0,
          0,
          0,
          0,
          0,
          0,
          0,
          0,
          0,
          0,
          0,
          0,
          0,
          0
         ],
         "c": [
          0,
          0,
          0,
          0,
          0,
          0,
          0,
          0,
          0,
          0,
          0,
          0,
          0,
          0,
          0
         ],
         "line": {
          "color": "grey",
          "width": 0.25
         },
         "marker": {
          "color": "silver",
          "line": {
           "color": "black",
           "width": 0
          },
          "opacity": 0.9,
          "size": 6
         },
         "mode": "lines+text",
         "name": "SSD",
         "showlegend": false,
         "subplot": "ternary",
         "text": [
          "",
          "",
          "",
          "",
          "",
          "",
          "",
          "",
          "",
          "",
          "",
          "",
          "",
          "",
          ""
         ],
         "textfont": {
          "color": "black",
          "size": 4.513679302414264
         },
         "type": "scatterternary"
        },
        {
         "a": [
          0,
          0,
          0,
          0,
          0
         ],
         "b": [
          0,
          0,
          0,
          0,
          0
         ],
         "c": [
          0,
          0,
          0,
          0,
          0
         ],
         "line": {
          "color": "grey",
          "width": 0.25
         },
         "marker": {
          "color": "silver",
          "line": {
           "color": "black",
           "width": 0
          },
          "opacity": 0.9,
          "size": 6
         },
         "mode": "lines+text",
         "name": "SSD",
         "showlegend": false,
         "subplot": "ternary",
         "text": [
          "",
          "",
          "",
          "",
          "",
          "",
          "",
          "",
          "",
          "",
          "",
          "",
          "",
          "",
          ""
         ],
         "textfont": {
          "color": "black",
          "size": 4.513679302414264
         },
         "type": "scatterternary"
        },
        {
         "a": [
          0.37344299290073707,
          0.4067477254381431,
          0.47416611550629556,
          0.4741816096470777,
          0.5017065585107415,
          0.5518173993767812,
          0.5919281200395704,
          0.6152994289385849,
          0.621401157697739,
          0.6297662131310944,
          0.6404081351201758,
          0.6490647287457316,
          0.6580943362702203,
          0.6606663128749994,
          0.6628611217823428
         ],
         "b": [
          0.5850272560361514,
          0.5416276239346347,
          0.45468092855807307,
          0.4401474591151214,
          0.3888596120041124,
          0.3065637051510689,
          0.23304939072238148,
          0.18806260307403497,
          0.1657402454519321,
          0.14961228200452012,
          0.13344525325373693,
          0.12218748609664261,
          0.1117590103388368,
          0.10727937911038388,
          0.10401194193258366
         ],
         "c": [
          0.04152975106311145,
          0.051624650627222164,
          0.07115295593563133,
          0.0856709312378008,
          0.10943382948514598,
          0.14161889547214998,
          0.17502248923804814,
          0.1966379679873802,
          0.2128585968503288,
          0.2206215048643854,
          0.22614661162608715,
          0.22874778515762598,
          0.23014665339094295,
          0.23205430801461668,
          0.2331269362850736
         ],
         "line": {
          "color": "grey",
          "width": 0.25
         },
         "marker": {
          "color": "silver",
          "line": {
           "color": "black",
           "width": 0
          },
          "opacity": 0.9,
          "size": 6
         },
         "mode": "lines+text",
         "name": "ESP",
         "showlegend": false,
         "subplot": "ternary",
         "text": [
          "",
          "",
          "",
          "",
          "",
          "",
          "",
          "",
          "",
          "",
          "",
          "",
          "",
          "",
          ""
         ],
         "textfont": {
          "color": "black",
          "size": 7.406055419659951
         },
         "type": "scatterternary"
        },
        {
         "a": [
          0.37344299290073707,
          0.4067477254381431,
          0.47416611550629556,
          0.4741816096470777,
          0.5017065585107415
         ],
         "b": [
          0.5850272560361514,
          0.5416276239346347,
          0.45468092855807307,
          0.4401474591151214,
          0.3888596120041124
         ],
         "c": [
          0.04152975106311145,
          0.051624650627222164,
          0.07115295593563133,
          0.0856709312378008,
          0.10943382948514598
         ],
         "line": {
          "color": "grey",
          "width": 0.25
         },
         "marker": {
          "color": "silver",
          "line": {
           "color": "black",
           "width": 0
          },
          "opacity": 0.9,
          "size": 6
         },
         "mode": "lines+text",
         "name": "ESP",
         "showlegend": false,
         "subplot": "ternary",
         "text": [
          "",
          "",
          "",
          "",
          "",
          "",
          "",
          "",
          "",
          "",
          "",
          "",
          "",
          "",
          ""
         ],
         "textfont": {
          "color": "black",
          "size": 7.406055419659951
         },
         "type": "scatterternary"
        },
        {
         "a": [
          0.02580691177126382,
          0.06635550104861891,
          0.14098872892217668,
          0.15718475577198415,
          0.19282548338964545,
          0.29226058255025644,
          0.4460975325725097,
          0.5955061727943121,
          0.6643516975572674,
          0.6833197683996166,
          0.6840174431354629,
          0.6839668908458691,
          0.6809180118396425,
          0.6720214272765183,
          0.6622341637343614
         ],
         "b": [
          0.9713637173475462,
          0.9256755838745094,
          0.8392544725265965,
          0.816247516556755,
          0.7671855822093367,
          0.6347940260293635,
          0.4212120790399147,
          0.20586932941125488,
          0.09153871219331736,
          0.052965054086946364,
          0.042544889283820664,
          0.04051397772255837,
          0.04289599032749616,
          0.04862261408672613,
          0.05529759783778602
         ],
         "c": [
          0.0028293708811899416,
          0.007968915076871566,
          0.019756798551226983,
          0.026567727671260796,
          0.03998893440101791,
          0.07294539142038009,
          0.13269038838757546,
          0.19862449779443325,
          0.24410959024941528,
          0.26371517751343715,
          0.27343766758071647,
          0.2755191314315726,
          0.27618599783286113,
          0.27935595863675566,
          0.2824682384278525
         ],
         "line": {
          "color": "grey",
          "width": 0.25
         },
         "marker": {
          "color": "silver",
          "line": {
           "color": "black",
           "width": 0
          },
          "opacity": 0.9,
          "size": 6
         },
         "mode": "lines+text",
         "name": "LKA",
         "showlegend": false,
         "subplot": "ternary",
         "text": [
          "",
          "",
          "",
          "",
          "",
          "",
          "",
          "",
          "",
          "",
          "",
          "",
          "",
          "",
          ""
         ],
         "textfont": {
          "color": "black",
          "size": 5.687974801578367
         },
         "type": "scatterternary"
        },
        {
         "a": [
          0.02580691177126382,
          0.06635550104861891,
          0.14098872892217668,
          0.15718475577198415,
          0.19282548338964545
         ],
         "b": [
          0.9713637173475462,
          0.9256755838745094,
          0.8392544725265965,
          0.816247516556755,
          0.7671855822093367
         ],
         "c": [
          0.0028293708811899416,
          0.007968915076871566,
          0.019756798551226983,
          0.026567727671260796,
          0.03998893440101791
         ],
         "line": {
          "color": "grey",
          "width": 0.25
         },
         "marker": {
          "color": "silver",
          "line": {
           "color": "black",
           "width": 0
          },
          "opacity": 0.9,
          "size": 6
         },
         "mode": "lines+text",
         "name": "LKA",
         "showlegend": false,
         "subplot": "ternary",
         "text": [
          "",
          "",
          "",
          "",
          "",
          "",
          "",
          "",
          "",
          "",
          "",
          "",
          "",
          "",
          ""
         ],
         "textfont": {
          "color": "black",
          "size": 5.687974801578367
         },
         "type": "scatterternary"
        },
        {
         "a": [
          0.19599807768692715,
          0.3203245376242513,
          0.45205917531101086,
          0.39701567190762616,
          0.32574464620329496,
          0.2689923077863299,
          0.21400083452900714,
          0.16117700157240233,
          0.12485342836869487,
          0.10387109882155666,
          0.08820992771945194,
          0.07920016804047457,
          0.07450717763579175,
          0.07468448379595174,
          0.08665357020871092
         ],
         "b": [
          0.7817511690508643,
          0.640356841053931,
          0.48242561089724195,
          0.5301101737844656,
          0.5928354179329753,
          0.632093068286227,
          0.6694197316592094,
          0.6916054454132275,
          0.685502753752354,
          0.6765466912307143,
          0.6660903702059906,
          0.6507620128105869,
          0.6327123431504966,
          0.6148567258609555,
          0.5969981926227124
         ],
         "c": [
          0.022250753262208448,
          0.03931862132181764,
          0.06551521379174731,
          0.07287415430790818,
          0.08141993586372973,
          0.09891462392744312,
          0.1165794338117834,
          0.14721755301437012,
          0.18964381787895127,
          0.2195822099477291,
          0.24569970207455727,
          0.27003781914893843,
          0.29278047921371164,
          0.3104587903430928,
          0.31634823716857674
         ],
         "line": {
          "color": "grey",
          "width": 0.25
         },
         "marker": {
          "color": "silver",
          "line": {
           "color": "black",
           "width": 0
          },
          "opacity": 0.9,
          "size": 6
         },
         "mode": "lines+text",
         "name": "SDN",
         "showlegend": false,
         "subplot": "ternary",
         "text": [
          "",
          "",
          "",
          "",
          "",
          "",
          "",
          "",
          "",
          "",
          "",
          "",
          "",
          "",
          ""
         ],
         "textfont": {
          "color": "black",
          "size": 7.212081628874308
         },
         "type": "scatterternary"
        },
        {
         "a": [
          0.19599807768692715,
          0.3203245376242513,
          0.45205917531101086,
          0.39701567190762616,
          0.32574464620329496
         ],
         "b": [
          0.7817511690508643,
          0.640356841053931,
          0.48242561089724195,
          0.5301101737844656,
          0.5928354179329753
         ],
         "c": [
          0.022250753262208448,
          0.03931862132181764,
          0.06551521379174731,
          0.07287415430790818,
          0.08141993586372973
         ],
         "line": {
          "color": "grey",
          "width": 0.25
         },
         "marker": {
          "color": "silver",
          "line": {
           "color": "black",
           "width": 0
          },
          "opacity": 0.9,
          "size": 6
         },
         "mode": "lines+text",
         "name": "SDN",
         "showlegend": false,
         "subplot": "ternary",
         "text": [
          "",
          "",
          "",
          "",
          "",
          "",
          "",
          "",
          "",
          "",
          "",
          "",
          "",
          "",
          ""
         ],
         "textfont": {
          "color": "black",
          "size": 7.212081628874308
         },
         "type": "scatterternary"
        },
        {
         "a": [
          0.34903201561239194,
          0.3370291467811698,
          0.4047206490215253,
          0.3878262608814376,
          0.4083206783209573,
          0.505039653077568,
          0.5992460183069535,
          0.6535348191197521,
          0.6488866635724313,
          0.6243377329521447,
          0.5958786226956123,
          0.5671245499810638,
          0.5388559436069994,
          0.5110210910140149,
          0.5038832048639998
         ],
         "b": [
          0.6116648384961303,
          0.6185791014589115,
          0.5301494448481819,
          0.5346727299653526,
          0.4926905190003448,
          0.3529096449799581,
          0.2096599564747225,
          0.12439236354497571,
          0.1098173155597707,
          0.13303957474266725,
          0.16620400973724056,
          0.19306713773983672,
          0.2123621385798308,
          0.21269987374267352,
          0.19922132462159015
         ],
         "c": [
          0.039303145891477737,
          0.044391751759918836,
          0.06512990613029276,
          0.07750100915320988,
          0.09898880267869808,
          0.1420507019424739,
          0.191094025218324,
          0.22207281733527212,
          0.24129602086779797,
          0.24262269230518807,
          0.23791736756714688,
          0.23980831227909954,
          0.24878191781316977,
          0.2762790352433116,
          0.29689547051441
         ],
         "line": {
          "color": "grey",
          "width": 0.25
         },
         "marker": {
          "color": "silver",
          "line": {
           "color": "black",
           "width": 0
          },
          "opacity": 0.9,
          "size": 6
         },
         "mode": "lines+text",
         "name": "SUR",
         "showlegend": false,
         "subplot": "ternary",
         "text": [
          "",
          "",
          "",
          "",
          "",
          "",
          "",
          "",
          "",
          "",
          "",
          "",
          "",
          "",
          ""
         ],
         "textfont": {
          "color": "black",
          "size": 2.1191685882121507
         },
         "type": "scatterternary"
        },
        {
         "a": [
          0.34903201561239194,
          0.3370291467811698,
          0.4047206490215253,
          0.3878262608814376,
          0.4083206783209573
         ],
         "b": [
          0.6116648384961303,
          0.6185791014589115,
          0.5301494448481819,
          0.5346727299653526,
          0.4926905190003448
         ],
         "c": [
          0.039303145891477737,
          0.044391751759918836,
          0.06512990613029276,
          0.07750100915320988,
          0.09898880267869808
         ],
         "line": {
          "color": "grey",
          "width": 0.25
         },
         "marker": {
          "color": "silver",
          "line": {
           "color": "black",
           "width": 0
          },
          "opacity": 0.9,
          "size": 6
         },
         "mode": "lines+text",
         "name": "SUR",
         "showlegend": false,
         "subplot": "ternary",
         "text": [
          "",
          "",
          "",
          "",
          "",
          "",
          "",
          "",
          "",
          "",
          "",
          "",
          "",
          "",
          ""
         ],
         "textfont": {
          "color": "black",
          "size": 2.1191685882121507
         },
         "type": "scatterternary"
        },
        {
         "a": [
          0.3626830050635249,
          0.4239184193462648,
          0.5019835415439124,
          0.4644785301219391,
          0.46764158778799386,
          0.515601795286457,
          0.5566632971849326,
          0.5776939880413795,
          0.5771265844258241,
          0.5787892272374052,
          0.586904745657989,
          0.5987848960034544,
          0.6164568663944245,
          0.6310622369223751,
          0.6460251577308318
         ],
         "b": [
          0.5967375058903114,
          0.5217650250838327,
          0.42082783032171683,
          0.4477981842553741,
          0.4226194401751026,
          0.34063082661504684,
          0.2677039363017125,
          0.2279005628539565,
          0.21547658249469712,
          0.20644918959264588,
          0.18976979873058447,
          0.16809230954672372,
          0.14599347220038836,
          0.12714518965897734,
          0.11046201374905361
         ],
         "c": [
          0.040579489046163555,
          0.054316555569902475,
          0.07718862813437072,
          0.08772328562268694,
          0.10973897203690364,
          0.14376737809849618,
          0.1756327665133548,
          0.194405449104664,
          0.20739683307947873,
          0.214761583169949,
          0.22332545561142655,
          0.23312279444982187,
          0.23754966140518705,
          0.24179257341864752,
          0.2435128285201145
         ],
         "line": {
          "color": "grey",
          "width": 0.25
         },
         "marker": {
          "color": "silver",
          "line": {
           "color": "black",
           "width": 0
          },
          "opacity": 0.9,
          "size": 6
         },
         "mode": "lines+text",
         "name": "SWE",
         "showlegend": false,
         "subplot": "ternary",
         "text": [
          "",
          "",
          "",
          "",
          "",
          "",
          "",
          "",
          "",
          "",
          "",
          "",
          "",
          "",
          ""
         ],
         "textfont": {
          "color": "black",
          "size": 4.483629296274134
         },
         "type": "scatterternary"
        },
        {
         "a": [
          0.3626830050635249,
          0.4239184193462648,
          0.5019835415439124,
          0.4644785301219391,
          0.46764158778799386
         ],
         "b": [
          0.5967375058903114,
          0.5217650250838327,
          0.42082783032171683,
          0.4477981842553741,
          0.4226194401751026
         ],
         "c": [
          0.040579489046163555,
          0.054316555569902475,
          0.07718862813437072,
          0.08772328562268694,
          0.10973897203690364
         ],
         "line": {
          "color": "grey",
          "width": 0.25
         },
         "marker": {
          "color": "silver",
          "line": {
           "color": "black",
           "width": 0
          },
          "opacity": 0.9,
          "size": 6
         },
         "mode": "lines+text",
         "name": "SWE",
         "showlegend": false,
         "subplot": "ternary",
         "text": [
          "",
          "",
          "",
          "",
          "",
          "",
          "",
          "",
          "",
          "",
          "",
          "",
          "",
          "",
          ""
         ],
         "textfont": {
          "color": "black",
          "size": 4.483629296274134
         },
         "type": "scatterternary"
        },
        {
         "a": [
          0.4486169592381207,
          0.4435863941153218,
          0.4861547322852897,
          0.49287346794054543,
          0.5194099927837335,
          0.5584912010970979,
          0.593445467556315,
          0.6183582684108465,
          0.6305663077908444,
          0.6416981955033736,
          0.6507460891756676,
          0.6558498891427316,
          0.6599388662642511,
          0.6574807678269652,
          0.65482887517692
         ],
         "b": [
          0.5012810029845562,
          0.5003472889520049,
          0.44115204027895133,
          0.41850709587285106,
          0.368544886930937,
          0.3005284008480913,
          0.23428779868130611,
          0.18845010163407944,
          0.15925850330174474,
          0.140325907641371,
          0.12674720012860508,
          0.12083176910754781,
          0.11700706390634219,
          0.11949362422718027,
          0.1223825881389994
         ],
         "c": [
          0.05010203777732319,
          0.05606631693267345,
          0.07269322743575907,
          0.08861943618660367,
          0.11204512028532951,
          0.14098039805481086,
          0.17226673376237903,
          0.19319162995507402,
          0.21017518890741066,
          0.21797589685525548,
          0.22250671069572714,
          0.22331834174972062,
          0.2230540698294066,
          0.22302560794585458,
          0.22278853668408066
         ],
         "line": {
          "color": "grey",
          "width": 0.25
         },
         "marker": {
          "color": "silver",
          "line": {
           "color": "black",
           "width": 0
          },
          "opacity": 0.9,
          "size": 6
         },
         "mode": "lines+text",
         "name": "CHE",
         "showlegend": false,
         "subplot": "ternary",
         "text": [
          "",
          "",
          "",
          "",
          "",
          "",
          "",
          "",
          "",
          "",
          "",
          "",
          "",
          "",
          ""
         ],
         "textfont": {
          "color": "black",
          "size": 4.239406061078862
         },
         "type": "scatterternary"
        },
        {
         "a": [
          0.4486169592381207,
          0.4435863941153218,
          0.4861547322852897,
          0.49287346794054543,
          0.5194099927837335
         ],
         "b": [
          0.5012810029845562,
          0.5003472889520049,
          0.44115204027895133,
          0.41850709587285106,
          0.368544886930937
         ],
         "c": [
          0.05010203777732319,
          0.05606631693267345,
          0.07269322743575907,
          0.08861943618660367,
          0.11204512028532951
         ],
         "line": {
          "color": "grey",
          "width": 0.25
         },
         "marker": {
          "color": "silver",
          "line": {
           "color": "black",
           "width": 0
          },
          "opacity": 0.9,
          "size": 6
         },
         "mode": "lines+text",
         "name": "CHE",
         "showlegend": false,
         "subplot": "ternary",
         "text": [
          "",
          "",
          "",
          "",
          "",
          "",
          "",
          "",
          "",
          "",
          "",
          "",
          "",
          "",
          ""
         ],
         "textfont": {
          "color": "black",
          "size": 4.239406061078862
         },
         "type": "scatterternary"
        },
        {
         "a": [
          0,
          0,
          0,
          0,
          0,
          0,
          0,
          0,
          0,
          0,
          0,
          0,
          0,
          0,
          0
         ],
         "b": [
          0,
          0,
          0,
          0,
          0,
          0,
          0,
          0,
          0,
          0,
          0,
          0,
          0,
          0,
          0
         ],
         "c": [
          0,
          0,
          0,
          0,
          0,
          0,
          0,
          0,
          0,
          0,
          0,
          0,
          0,
          0,
          0
         ],
         "line": {
          "color": "grey",
          "width": 0.25
         },
         "marker": {
          "color": "silver",
          "line": {
           "color": "black",
           "width": 0
          },
          "opacity": 0.9,
          "size": 6
         },
         "mode": "lines+text",
         "name": "SYR",
         "showlegend": false,
         "subplot": "ternary",
         "text": [
          "",
          "",
          "",
          "",
          "",
          "",
          "",
          "",
          "",
          "",
          "",
          "",
          "",
          "",
          ""
         ],
         "textfont": {
          "color": "black",
          "size": 5.582678804248916
         },
         "type": "scatterternary"
        },
        {
         "a": [
          0,
          0,
          0,
          0,
          0
         ],
         "b": [
          0,
          0,
          0,
          0,
          0
         ],
         "c": [
          0,
          0,
          0,
          0,
          0
         ],
         "line": {
          "color": "grey",
          "width": 0.25
         },
         "marker": {
          "color": "silver",
          "line": {
           "color": "black",
           "width": 0
          },
          "opacity": 0.9,
          "size": 6
         },
         "mode": "lines+text",
         "name": "SYR",
         "showlegend": false,
         "subplot": "ternary",
         "text": [
          "",
          "",
          "",
          "",
          "",
          "",
          "",
          "",
          "",
          "",
          "",
          "",
          "",
          "",
          ""
         ],
         "textfont": {
          "color": "black",
          "size": 5.582678804248916
         },
         "type": "scatterternary"
        },
        {
         "a": [
          0.05678311540807941,
          0.13450032592068412,
          0.2662474880828114,
          0.2914817377066115,
          0.3275298753096392,
          0.41654214587041927,
          0.5062366419202421,
          0.5582823604791828,
          0.5650450699086704,
          0.5601088997913987,
          0.5486198857702286,
          0.5459613809332885,
          0.5461567455708574,
          0.5486327496378816,
          0.550275421648364
         ],
         "b": [
          0.9365567460568849,
          0.8479484024377298,
          0.6930129666582452,
          0.6545115622894401,
          0.5983692703551932,
          0.4717255765674147,
          0.3356572170138016,
          0.24955691007573028,
          0.22518268979439893,
          0.22597113249807835,
          0.23877079803170256,
          0.2454821117345948,
          0.24996238837200557,
          0.25053899712892286,
          0.2517686841253878
         ],
         "c": [
          0.006660138535035741,
          0.01755127164158606,
          0.04073954525894332,
          0.05400670000394844,
          0.0741008543351675,
          0.11173227756216603,
          0.15810614106595633,
          0.19216072944508678,
          0.2097722402969306,
          0.21391996771052302,
          0.21260931619806892,
          0.20855650733211673,
          0.2038808660571371,
          0.2008282532331955,
          0.19795589422624824
         ],
         "line": {
          "color": "grey",
          "width": 0.25
         },
         "marker": {
          "color": "silver",
          "line": {
           "color": "black",
           "width": 0
          },
          "opacity": 0.9,
          "size": 6
         },
         "mode": "lines+text",
         "name": "TJK",
         "showlegend": false,
         "subplot": "ternary",
         "text": [
          "",
          "",
          "",
          "",
          "",
          "",
          "",
          "",
          "",
          "",
          "",
          "",
          "",
          "",
          ""
         ],
         "textfont": {
          "color": "black",
          "size": 4.3618383646362515
         },
         "type": "scatterternary"
        },
        {
         "a": [
          0.05678311540807941,
          0.13450032592068412,
          0.2662474880828114,
          0.2914817377066115,
          0.3275298753096392
         ],
         "b": [
          0.9365567460568849,
          0.8479484024377298,
          0.6930129666582452,
          0.6545115622894401,
          0.5983692703551932
         ],
         "c": [
          0.006660138535035741,
          0.01755127164158606,
          0.04073954525894332,
          0.05400670000394844,
          0.0741008543351675
         ],
         "line": {
          "color": "grey",
          "width": 0.25
         },
         "marker": {
          "color": "silver",
          "line": {
           "color": "black",
           "width": 0
          },
          "opacity": 0.9,
          "size": 6
         },
         "mode": "lines+text",
         "name": "TJK",
         "showlegend": false,
         "subplot": "ternary",
         "text": [
          "",
          "",
          "",
          "",
          "",
          "",
          "",
          "",
          "",
          "",
          "",
          "",
          "",
          "",
          ""
         ],
         "textfont": {
          "color": "black",
          "size": 4.3618383646362515
         },
         "type": "scatterternary"
        },
        {
         "a": [
          0.3280896340393367,
          0.4374679238658885,
          0.5423311730154584,
          0.49857351238648295,
          0.43079664724966504,
          0.3701655120417548,
          0.3147709095563277,
          0.2753955615827678,
          0.24654090915528587,
          0.23778665624606082,
          0.2278707424119783,
          0.2325261835432606,
          0.2365198562502575,
          0.23003841685190685,
          0.2404077750879789
         ],
         "b": [
          0.6346310394346902,
          0.5067453023505686,
          0.37976850776491755,
          0.4158340282902523,
          0.4767857748587343,
          0.5344926624071916,
          0.5877054522817409,
          0.6263995849993711,
          0.646008532678885,
          0.6313110793134409,
          0.60340603750153,
          0.5682491454359662,
          0.5301918145596329,
          0.5070860387737525,
          0.4731146215391418
         ],
         "c": [
          0.037279326525973454,
          0.05578677378354289,
          0.07790031921962384,
          0.0855924593232648,
          0.09241757789160056,
          0.09534182555105375,
          0.09752363816193144,
          0.09820485341786117,
          0.1074505581658291,
          0.13090226444049813,
          0.16872322008649163,
          0.19922467102077318,
          0.23328832919010944,
          0.2628755443743407,
          0.2864776033728793
         ],
         "line": {
          "color": "grey",
          "width": 0.25
         },
         "marker": {
          "color": "silver",
          "line": {
           "color": "black",
           "width": 0
          },
          "opacity": 0.9,
          "size": 6
         },
         "mode": "lines+text",
         "name": "TZA",
         "showlegend": false,
         "subplot": "ternary",
         "text": [
          "",
          "",
          "",
          "",
          "",
          "",
          "",
          "",
          "",
          "",
          "",
          "",
          "",
          "",
          ""
         ],
         "textfont": {
          "color": "black",
          "size": 8.079744295011057
         },
         "type": "scatterternary"
        },
        {
         "a": [
          0.3280896340393367,
          0.4374679238658885,
          0.5423311730154584,
          0.49857351238648295,
          0.43079664724966504
         ],
         "b": [
          0.6346310394346902,
          0.5067453023505686,
          0.37976850776491755,
          0.4158340282902523,
          0.4767857748587343
         ],
         "c": [
          0.037279326525973454,
          0.05578677378354289,
          0.07790031921962384,
          0.0855924593232648,
          0.09241757789160056
         ],
         "line": {
          "color": "grey",
          "width": 0.25
         },
         "marker": {
          "color": "silver",
          "line": {
           "color": "black",
           "width": 0
          },
          "opacity": 0.9,
          "size": 6
         },
         "mode": "lines+text",
         "name": "TZA",
         "showlegend": false,
         "subplot": "ternary",
         "text": [
          "",
          "",
          "",
          "",
          "",
          "",
          "",
          "",
          "",
          "",
          "",
          "",
          "",
          "",
          ""
         ],
         "textfont": {
          "color": "black",
          "size": 8.079744295011057
         },
         "type": "scatterternary"
        },
        {
         "a": [
          0.8011806248822887,
          0.8308818468838286,
          0.8370805410586554,
          0.804207819450041,
          0.7744195685228632,
          0.7423242966802922,
          0.7019988193029,
          0.6691822825518076,
          0.6320945989293247,
          0.6036721304332116,
          0.5773369811524012,
          0.5525932664889692,
          0.528304284123488,
          0.5072999879516101,
          0.4997815877719616
         ],
         "b": [
          0.10874793323787037,
          0.06194117055855834,
          0.034156735141474014,
          0.04489513929480527,
          0.050949809929956395,
          0.06024633334289581,
          0.08297310927542002,
          0.10885428729802767,
          0.13826111044858125,
          0.16331284835119786,
          0.18513283769719688,
          0.2048912414260397,
          0.22388745985456718,
          0.23776758389974748,
          0.24185443467418008
         ],
         "c": [
          0.09007144187984086,
          0.10717698255761307,
          0.12876272379987072,
          0.15089704125515363,
          0.1746306215471804,
          0.19742936997681196,
          0.21502807142168004,
          0.22196343015016476,
          0.22964429062209413,
          0.23301502121559053,
          0.23753018115040217,
          0.24251549208499107,
          0.24780825602194487,
          0.25493242814864236,
          0.2583639775538583
         ],
         "line": {
          "color": "grey",
          "width": 0.25
         },
         "marker": {
          "color": "silver",
          "line": {
           "color": "black",
           "width": 0
          },
          "opacity": 0.9,
          "size": 6
         },
         "mode": "lines+text",
         "name": "THA",
         "showlegend": false,
         "subplot": "ternary",
         "text": [
          "",
          "",
          "",
          "",
          "",
          "",
          "",
          "",
          "",
          "",
          "",
          "",
          "",
          "",
          ""
         ],
         "textfont": {
          "color": "black",
          "size": 8.550742882061813
         },
         "type": "scatterternary"
        },
        {
         "a": [
          0.8011806248822887,
          0.8308818468838286,
          0.8370805410586554,
          0.804207819450041,
          0.7744195685228632
         ],
         "b": [
          0.10874793323787037,
          0.06194117055855834,
          0.034156735141474014,
          0.04489513929480527,
          0.050949809929956395
         ],
         "c": [
          0.09007144187984086,
          0.10717698255761307,
          0.12876272379987072,
          0.15089704125515363,
          0.1746306215471804
         ],
         "line": {
          "color": "grey",
          "width": 0.25
         },
         "marker": {
          "color": "silver",
          "line": {
           "color": "black",
           "width": 0
          },
          "opacity": 0.9,
          "size": 6
         },
         "mode": "lines+text",
         "name": "THA",
         "showlegend": false,
         "subplot": "ternary",
         "text": [
          "",
          "",
          "",
          "",
          "",
          "",
          "",
          "",
          "",
          "",
          "",
          "",
          "",
          "",
          ""
         ],
         "textfont": {
          "color": "black",
          "size": 8.550742882061813
         },
         "type": "scatterternary"
        },
        {
         "a": [
          0.41301138482388416,
          0.5093681325184001,
          0.6074399090716028,
          0.5886661010573258,
          0.5807144874209971,
          0.5792361976615656,
          0.5371360641060048,
          0.4776791261870382,
          0.42528629616539143,
          0.3815560363723923,
          0.3382744861795071,
          0.2969385311807955,
          0.27210527938806917,
          0.24075706908838562,
          0.22819685497769593
         ],
         "b": [
          0.5400456484639597,
          0.4246308782890162,
          0.29958151658024107,
          0.3021997679188703,
          0.282532599126749,
          0.24993775061210427,
          0.26098008882220475,
          0.28691706077424367,
          0.34316374401831784,
          0.38352104484391386,
          0.417753555994691,
          0.44287218089823355,
          0.4594122864084396,
          0.4600130415185377,
          0.46454589387873624
         ],
         "c": [
          0.046942966712155774,
          0.06600098919258378,
          0.09297857434815598,
          0.10913413102380388,
          0.13675291345225396,
          0.17082605172632997,
          0.2018838470717904,
          0.23540381303871816,
          0.2315499598162906,
          0.23492291878369387,
          0.2439719578258019,
          0.2601892879209709,
          0.2684824342034913,
          0.29922988939307665,
          0.30725725114356783
         ],
         "line": {
          "color": "grey",
          "width": 0.25
         },
         "marker": {
          "color": "silver",
          "line": {
           "color": "black",
           "width": 0
          },
          "opacity": 0.9,
          "size": 6
         },
         "mode": "lines+text",
         "name": "BHS",
         "showlegend": false,
         "subplot": "ternary",
         "text": [
          "",
          "",
          "",
          "",
          "",
          "",
          "",
          "",
          "",
          "",
          "",
          "",
          "",
          "",
          ""
         ],
         "textfont": {
          "color": "black",
          "size": 1.9546579658208776
         },
         "type": "scatterternary"
        },
        {
         "a": [
          0.41301138482388416,
          0.5093681325184001,
          0.6074399090716028,
          0.5886661010573258,
          0.5807144874209971
         ],
         "b": [
          0.5400456484639597,
          0.4246308782890162,
          0.29958151658024107,
          0.3021997679188703,
          0.282532599126749
         ],
         "c": [
          0.046942966712155774,
          0.06600098919258378,
          0.09297857434815598,
          0.10913413102380388,
          0.13675291345225396
         ],
         "line": {
          "color": "grey",
          "width": 0.25
         },
         "marker": {
          "color": "silver",
          "line": {
           "color": "black",
           "width": 0
          },
          "opacity": 0.9,
          "size": 6
         },
         "mode": "lines+text",
         "name": "BHS",
         "showlegend": false,
         "subplot": "ternary",
         "text": [
          "",
          "",
          "",
          "",
          "",
          "",
          "",
          "",
          "",
          "",
          "",
          "",
          "",
          "",
          ""
         ],
         "textfont": {
          "color": "black",
          "size": 1.9546579658208776
         },
         "type": "scatterternary"
        },
        {
         "a": [
          0.04706425367402269,
          0.12541610048653076,
          0.2647034368026524,
          0.3094511861257406,
          0.35042923244172375,
          0.43155348149094425,
          0.4756417999828679,
          0.46038223390678384,
          0.4151213896177505,
          0.3826249744245246,
          0.3487977954822341,
          0.33322613694443304,
          0.322880016379709,
          0.3152426404665478,
          0.31268049397320796
         ],
         "b": [
          0.9478283429062151,
          0.8598258179172955,
          0.6991683172525357,
          0.6401765555995249,
          0.5810315614574967,
          0.46709790783754146,
          0.3879557700161905,
          0.38141398026206247,
          0.41406192741878534,
          0.435891767939199,
          0.4566517403914471,
          0.45691572546184556,
          0.4541866911056945,
          0.4473852908003385,
          0.43780468595654953
         ],
         "c": [
          0.005107403419761934,
          0.014758081596173617,
          0.03612824594481192,
          0.050372258274734565,
          0.06853920610077933,
          0.10134861067151431,
          0.1364024300009415,
          0.15820378583115374,
          0.1708166829634642,
          0.18148325763627648,
          0.19455046412631863,
          0.20985813759372146,
          0.22293329251459643,
          0.23737206873311373,
          0.24951482007024234
         ],
         "line": {
          "color": "grey",
          "width": 0.25
         },
         "marker": {
          "color": "silver",
          "line": {
           "color": "black",
           "width": 0
          },
          "opacity": 0.9,
          "size": 6
         },
         "mode": "lines+text",
         "name": "GMB",
         "showlegend": false,
         "subplot": "ternary",
         "text": [
          "",
          "",
          "",
          "",
          "",
          "",
          "",
          "",
          "",
          "",
          "",
          "",
          "",
          "",
          ""
         ],
         "textfont": {
          "color": "black",
          "size": 2.9885723771111956
         },
         "type": "scatterternary"
        },
        {
         "a": [
          0.04706425367402269,
          0.12541610048653076,
          0.2647034368026524,
          0.3094511861257406,
          0.35042923244172375
         ],
         "b": [
          0.9478283429062151,
          0.8598258179172955,
          0.6991683172525357,
          0.6401765555995249,
          0.5810315614574967
         ],
         "c": [
          0.005107403419761934,
          0.014758081596173617,
          0.03612824594481192,
          0.050372258274734565,
          0.06853920610077933
         ],
         "line": {
          "color": "grey",
          "width": 0.25
         },
         "marker": {
          "color": "silver",
          "line": {
           "color": "black",
           "width": 0
          },
          "opacity": 0.9,
          "size": 6
         },
         "mode": "lines+text",
         "name": "GMB",
         "showlegend": false,
         "subplot": "ternary",
         "text": [
          "",
          "",
          "",
          "",
          "",
          "",
          "",
          "",
          "",
          "",
          "",
          "",
          "",
          "",
          ""
         ],
         "textfont": {
          "color": "black",
          "size": 2.9885723771111956
         },
         "type": "scatterternary"
        },
        {
         "a": [
          0.21649002552614804,
          0.33578034186358874,
          0.4763811790810729,
          0.458064300967207,
          0.44834801183654094,
          0.473378687813887,
          0.47941886841021575,
          0.4746546908502464,
          0.4687448226475455,
          0.47978240934838434,
          0.4974783790622739,
          0.5277944627785194,
          0.5612450239524607,
          0.5921629285736416,
          0.619575227637241
         ],
         "b": [
          0.7598293775084726,
          0.623140262951942,
          0.4554091374117838,
          0.4621781624421613,
          0.45090953099101855,
          0.394829334079097,
          0.35210937471701564,
          0.3283116793951814,
          0.3160048960688361,
          0.29074290837743566,
          0.2633576356415378,
          0.22780422044784346,
          0.19180134438015123,
          0.15857674045788556,
          0.13003998312636578
         ],
         "c": [
          0.023680596965379504,
          0.04107939518446928,
          0.06820968350714336,
          0.07975753659063166,
          0.10074245717244038,
          0.13179197810701612,
          0.16847175687276864,
          0.19703362975457223,
          0.21525028128361842,
          0.22947468227418016,
          0.23916398529618832,
          0.24440131677363713,
          0.24695363166738815,
          0.24926033096847294,
          0.2503847892363932
         ],
         "line": {
          "color": "grey",
          "width": 0.25
         },
         "marker": {
          "color": "silver",
          "line": {
           "color": "black",
           "width": 0
          },
          "opacity": 0.9,
          "size": 6
         },
         "mode": "lines+text",
         "name": "TLS",
         "showlegend": false,
         "subplot": "ternary",
         "text": [
          "",
          "",
          "",
          "",
          "",
          "",
          "",
          "",
          "",
          "",
          "",
          "",
          "",
          "",
          ""
         ],
         "textfont": {
          "color": "black",
          "size": 2.5161356697649278
         },
         "type": "scatterternary"
        },
        {
         "a": [
          0.21649002552614804,
          0.33578034186358874,
          0.4763811790810729,
          0.458064300967207,
          0.44834801183654094
         ],
         "b": [
          0.7598293775084726,
          0.623140262951942,
          0.4554091374117838,
          0.4621781624421613,
          0.45090953099101855
         ],
         "c": [
          0.023680596965379504,
          0.04107939518446928,
          0.06820968350714336,
          0.07975753659063166,
          0.10074245717244038
         ],
         "line": {
          "color": "grey",
          "width": 0.25
         },
         "marker": {
          "color": "silver",
          "line": {
           "color": "black",
           "width": 0
          },
          "opacity": 0.9,
          "size": 6
         },
         "mode": "lines+text",
         "name": "TLS",
         "showlegend": false,
         "subplot": "ternary",
         "text": [
          "",
          "",
          "",
          "",
          "",
          "",
          "",
          "",
          "",
          "",
          "",
          "",
          "",
          "",
          ""
         ],
         "textfont": {
          "color": "black",
          "size": 2.5161356697649278
         },
         "type": "scatterternary"
        },
        {
         "a": [
          0.0376129109371549,
          0.10831088920676077,
          0.23741004294298507,
          0.27824885466039084,
          0.32198253432111207,
          0.41410566045983876,
          0.4866304087399879,
          0.5022500262671082,
          0.4765112020686263,
          0.4499382234570907,
          0.4194252956934156,
          0.4057903716779345,
          0.39997174336655494,
          0.3991706143190705,
          0.40739890919891264
         ],
         "b": [
          0.9582845482023001,
          0.8788577485489991,
          0.7300424478054726,
          0.6765535936550497,
          0.6153995412141486,
          0.49053073763760713,
          0.3803423372479366,
          0.34087916497531184,
          0.35414804018603224,
          0.3725854829892983,
          0.3934511818366036,
          0.3960850947275688,
          0.3904045234746305,
          0.380715322219073,
          0.3648065961016067
         ],
         "c": [
          0.004102540860544973,
          0.012831362244240004,
          0.03254750925154224,
          0.04519755168455961,
          0.06261792446473921,
          0.09536360190255407,
          0.1330272540120756,
          0.15687080875757958,
          0.1693407577453414,
          0.1774762935536112,
          0.1871235224699807,
          0.1981245335944966,
          0.2096237331588145,
          0.22011406346185652,
          0.22779449469948077
         ],
         "line": {
          "color": "grey",
          "width": 0.25
         },
         "marker": {
          "color": "silver",
          "line": {
           "color": "black",
           "width": 0
          },
          "opacity": 0.9,
          "size": 6
         },
         "mode": "lines+text",
         "name": "TGO",
         "showlegend": false,
         "subplot": "ternary",
         "text": [
          "",
          "",
          "",
          "",
          "",
          "",
          "",
          "",
          "",
          "",
          "",
          "",
          "",
          "",
          ""
         ],
         "textfont": {
          "color": "black",
          "size": 4.19925753824206
         },
         "type": "scatterternary"
        },
        {
         "a": [
          0.0376129109371549,
          0.10831088920676077,
          0.23741004294298507,
          0.27824885466039084,
          0.32198253432111207
         ],
         "b": [
          0.9582845482023001,
          0.8788577485489991,
          0.7300424478054726,
          0.6765535936550497,
          0.6153995412141486
         ],
         "c": [
          0.004102540860544973,
          0.012831362244240004,
          0.03254750925154224,
          0.04519755168455961,
          0.06261792446473921
         ],
         "line": {
          "color": "grey",
          "width": 0.25
         },
         "marker": {
          "color": "silver",
          "line": {
           "color": "black",
           "width": 0
          },
          "opacity": 0.9,
          "size": 6
         },
         "mode": "lines+text",
         "name": "TGO",
         "showlegend": false,
         "subplot": "ternary",
         "text": [
          "",
          "",
          "",
          "",
          "",
          "",
          "",
          "",
          "",
          "",
          "",
          "",
          "",
          "",
          ""
         ],
         "textfont": {
          "color": "black",
          "size": 4.19925753824206
         },
         "type": "scatterternary"
        },
        {
         "a": [
          0.04057623252459915,
          0.08036382428450153,
          0.15203658488547614,
          0.16169412737585576,
          0.1947626613976659,
          0.28489189041981244,
          0.4183794649187344,
          0.5397791608857706,
          0.590119754554767,
          0.6001178258616942,
          0.5947910535634566,
          0.5928401759141892,
          0.5921098689059365,
          0.5907130183618994,
          0.5873377801999475
         ],
         "b": [
          0.9549095462653597,
          0.9093549319619048,
          0.8247362111190967,
          0.8087225735106943,
          0.7629173392133357,
          0.6427734365956886,
          0.4586642514362308,
          0.2869462712382279,
          0.20654773527164985,
          0.18795658388215908,
          0.19317235391602783,
          0.19715384828086752,
          0.20024361591472906,
          0.2024050266914907,
          0.2073091007460184
         ],
         "c": [
          0.004514221210040953,
          0.010281243753593728,
          0.023227203995427284,
          0.02958329911344986,
          0.042319999388998226,
          0.07233467298449911,
          0.12295628364503494,
          0.17327456787600143,
          0.20333251017358317,
          0.21192559025614655,
          0.21203659252051546,
          0.21000597580494323,
          0.2076465151793342,
          0.20688195494660994,
          0.20535311905403406
         ],
         "line": {
          "color": "grey",
          "width": 0.25
         },
         "marker": {
          "color": "silver",
          "line": {
           "color": "black",
           "width": 0
          },
          "opacity": 0.9,
          "size": 6
         },
         "mode": "lines+text",
         "name": "TON",
         "showlegend": false,
         "subplot": "ternary",
         "text": [
          "",
          "",
          "",
          "",
          "",
          "",
          "",
          "",
          "",
          "",
          "",
          "",
          "",
          "",
          ""
         ],
         "textfont": {
          "color": "black",
          "size": 1.5556568861136828
         },
         "type": "scatterternary"
        },
        {
         "a": [
          0.04057623252459915,
          0.08036382428450153,
          0.15203658488547614,
          0.16169412737585576,
          0.1947626613976659
         ],
         "b": [
          0.9549095462653597,
          0.9093549319619048,
          0.8247362111190967,
          0.8087225735106943,
          0.7629173392133357
         ],
         "c": [
          0.004514221210040953,
          0.010281243753593728,
          0.023227203995427284,
          0.02958329911344986,
          0.042319999388998226
         ],
         "line": {
          "color": "grey",
          "width": 0.25
         },
         "marker": {
          "color": "silver",
          "line": {
           "color": "black",
           "width": 0
          },
          "opacity": 0.9,
          "size": 6
         },
         "mode": "lines+text",
         "name": "TON",
         "showlegend": false,
         "subplot": "ternary",
         "text": [
          "",
          "",
          "",
          "",
          "",
          "",
          "",
          "",
          "",
          "",
          "",
          "",
          "",
          "",
          ""
         ],
         "textfont": {
          "color": "black",
          "size": 1.5556568861136828
         },
         "type": "scatterternary"
        },
        {
         "a": [
          0.08936495571118122,
          0.09213798310032209,
          0.1068617713065987,
          0.09452811816022842,
          0.10497007657123654,
          0.16967199536967745,
          0.28404630455118607,
          0.35796692546429687,
          0.3344255445300035,
          0.2841622089697251,
          0.2344781291382215,
          0.2204924966751851,
          0.2786666275774734,
          0.28008268247473955,
          0.24714624172692495
         ],
         "b": [
          0.8973334212779829,
          0.8913827688736008,
          0.8757238466642563,
          0.8871480777479402,
          0.8709142644964055,
          0.7827578295130467,
          0.6082256913346704,
          0.4508110297504457,
          0.4264553773540727,
          0.4611681818173446,
          0.4951615554816139,
          0.5144423125154288,
          0.5167148244214477,
          0.536421267990949,
          0.573470223005817
         ],
         "c": [
          0.013301623010835872,
          0.016479248026077076,
          0.017414382029144995,
          0.018323804091831365,
          0.02411565893235804,
          0.04757017511727571,
          0.10772800411414347,
          0.19122204478525745,
          0.23911907811592376,
          0.25466960921293036,
          0.2703603153801646,
          0.26506519080938606,
          0.2046185480010791,
          0.18349604953431142,
          0.17938353526725792
         ],
         "line": {
          "color": "grey",
          "width": 0.25
         },
         "marker": {
          "color": "silver",
          "line": {
           "color": "black",
           "width": 0
          },
          "opacity": 0.9,
          "size": 6
         },
         "mode": "lines+text",
         "name": "TTO",
         "showlegend": false,
         "subplot": "ternary",
         "text": [
          "",
          "",
          "",
          "",
          "",
          "",
          "",
          "",
          "",
          "",
          "",
          "",
          "",
          "",
          ""
         ],
         "textfont": {
          "color": "black",
          "size": 2.616498273888282
         },
         "type": "scatterternary"
        },
        {
         "a": [
          0.08936495571118122,
          0.09213798310032209,
          0.1068617713065987,
          0.09452811816022842,
          0.10497007657123654
         ],
         "b": [
          0.8973334212779829,
          0.8913827688736008,
          0.8757238466642563,
          0.8871480777479402,
          0.8709142644964055
         ],
         "c": [
          0.013301623010835872,
          0.016479248026077076,
          0.017414382029144995,
          0.018323804091831365,
          0.02411565893235804
         ],
         "line": {
          "color": "grey",
          "width": 0.25
         },
         "marker": {
          "color": "silver",
          "line": {
           "color": "black",
           "width": 0
          },
          "opacity": 0.9,
          "size": 6
         },
         "mode": "lines+text",
         "name": "TTO",
         "showlegend": false,
         "subplot": "ternary",
         "text": [
          "",
          "",
          "",
          "",
          "",
          "",
          "",
          "",
          "",
          "",
          "",
          "",
          "",
          "",
          ""
         ],
         "textfont": {
          "color": "black",
          "size": 2.616498273888282
         },
         "type": "scatterternary"
        },
        {
         "a": [
          0.11016514048154329,
          0.18709818294416572,
          0.3130417970207693,
          0.3170786219078504,
          0.35886901027996865,
          0.46513689983873474,
          0.5819298343554112,
          0.6593555658487393,
          0.6806631904625862,
          0.6838591199502663,
          0.680463321972965,
          0.6804526943310971,
          0.6805283707501961,
          0.6785143145027568,
          0.6750629851982584
         ],
         "b": [
          0.8777065961068629,
          0.7898136608424173,
          0.6414499590113591,
          0.627328380539564,
          0.564904133234914,
          0.41854567668640613,
          0.2475578064087616,
          0.12840452840888741,
          0.08345523328400027,
          0.07234420408027999,
          0.07163987683775243,
          0.0724616389134524,
          0.0770057708221708,
          0.08079396841838225,
          0.08498040295615064
         ],
         "c": [
          0.0121282634115939,
          0.023088156213416804,
          0.045508243967871606,
          0.055592997552585594,
          0.07622685648511751,
          0.11631742347485904,
          0.17051235923582722,
          0.21223990574237336,
          0.23588157625341344,
          0.24379667596945379,
          0.2478968011892826,
          0.2470856667554504,
          0.2424658584276329,
          0.24069171707886103,
          0.23995661184559117
         ],
         "line": {
          "color": "grey",
          "width": 0.25
         },
         "marker": {
          "color": "silver",
          "line": {
           "color": "black",
           "width": 0
          },
          "opacity": 0.9,
          "size": 6
         },
         "mode": "lines+text",
         "name": "TUN",
         "showlegend": false,
         "subplot": "ternary",
         "text": [
          "",
          "",
          "",
          "",
          "",
          "",
          "",
          "",
          "",
          "",
          "",
          "",
          "",
          "",
          ""
         ],
         "textfont": {
          "color": "black",
          "size": 4.71312900661157
         },
         "type": "scatterternary"
        },
        {
         "a": [
          0.11016514048154329,
          0.18709818294416572,
          0.3130417970207693,
          0.3170786219078504,
          0.35886901027996865
         ],
         "b": [
          0.8777065961068629,
          0.7898136608424173,
          0.6414499590113591,
          0.627328380539564,
          0.564904133234914
         ],
         "c": [
          0.0121282634115939,
          0.023088156213416804,
          0.045508243967871606,
          0.055592997552585594,
          0.07622685648511751
         ],
         "line": {
          "color": "grey",
          "width": 0.25
         },
         "marker": {
          "color": "silver",
          "line": {
           "color": "black",
           "width": 0
          },
          "opacity": 0.9,
          "size": 6
         },
         "mode": "lines+text",
         "name": "TUN",
         "showlegend": false,
         "subplot": "ternary",
         "text": [
          "",
          "",
          "",
          "",
          "",
          "",
          "",
          "",
          "",
          "",
          "",
          "",
          "",
          "",
          ""
         ],
         "textfont": {
          "color": "black",
          "size": 4.71312900661157
         },
         "type": "scatterternary"
        },
        {
         "a": [
          0.4709973811008266,
          0.5177012755331472,
          0.5516998181778853,
          0.516504311894845,
          0.4894201656422965,
          0.46304131594789916,
          0.4159250396378925,
          0.3680166995547553,
          0.31000814595621584,
          0.2598328659851509,
          0.2160473362120449,
          0.18686318215855074,
          0.17936275182361786,
          0.17295741539826281,
          0.1691672917510486
         ],
         "b": [
          0.4760605907561437,
          0.4155900058456982,
          0.3641769191501831,
          0.3879254394935935,
          0.3960522111882495,
          0.3956142459195699,
          0.41477046111272453,
          0.4347332271416065,
          0.45692842794103,
          0.4675892813493838,
          0.4754339706835732,
          0.4808833177497413,
          0.4776114594326498,
          0.46977062558727095,
          0.4622112823241523
         ],
         "c": [
          0.05294202814302975,
          0.06670871862115464,
          0.08412326267193165,
          0.09557024861156141,
          0.11452762316945381,
          0.14134443813253075,
          0.16930449924938315,
          0.19725007330363825,
          0.233063426102754,
          0.27257785266546536,
          0.3085186931043821,
          0.33225350009170795,
          0.34302578874373246,
          0.35727195901446646,
          0.3686214259247991
         ],
         "line": {
          "color": "grey",
          "width": 0.25
         },
         "marker": {
          "color": "silver",
          "line": {
           "color": "black",
           "width": 0
          },
          "opacity": 0.9,
          "size": 6
         },
         "mode": "lines+text",
         "name": "TUR",
         "showlegend": false,
         "subplot": "ternary",
         "text": [
          "",
          "",
          "",
          "",
          "",
          "",
          "",
          "",
          "",
          "",
          "",
          "",
          "",
          "",
          ""
         ],
         "textfont": {
          "color": "black",
          "size": 9.051152764076878
         },
         "type": "scatterternary"
        },
        {
         "a": [
          0.4709973811008266,
          0.5177012755331472,
          0.5516998181778853,
          0.516504311894845,
          0.4894201656422965
         ],
         "b": [
          0.4760605907561437,
          0.4155900058456982,
          0.3641769191501831,
          0.3879254394935935,
          0.3960522111882495
         ],
         "c": [
          0.05294202814302975,
          0.06670871862115464,
          0.08412326267193165,
          0.09557024861156141,
          0.11452762316945381
         ],
         "line": {
          "color": "grey",
          "width": 0.25
         },
         "marker": {
          "color": "silver",
          "line": {
           "color": "black",
           "width": 0
          },
          "opacity": 0.9,
          "size": 6
         },
         "mode": "lines+text",
         "name": "TUR",
         "showlegend": false,
         "subplot": "ternary",
         "text": [
          "",
          "",
          "",
          "",
          "",
          "",
          "",
          "",
          "",
          "",
          "",
          "",
          "",
          "",
          ""
         ],
         "textfont": {
          "color": "black",
          "size": 9.051152764076878
         },
         "type": "scatterternary"
        },
        {
         "a": [
          0.1359320047498965,
          0.1382935525287045,
          0.17794118641256432,
          0.16739022289948052,
          0.1794096063424053,
          0.23161710537397454,
          0.3118957249087289,
          0.395733006400388,
          0.4546000049574434,
          0.49382640012189993,
          0.5296766554980334,
          0.5464580497079305,
          0.5597461502493579,
          0.5657809966923626,
          0.5620659770976437
         ],
         "b": [
          0.8484943087055651,
          0.8431937761326693,
          0.7932770135240792,
          0.7995258745194438,
          0.7778280829654413,
          0.7037368328871689,
          0.5872901471683482,
          0.4663891369379207,
          0.37662202034760794,
          0.3175139493081127,
          0.2618896536375209,
          0.2351478723216475,
          0.217606728567983,
          0.20940573384572117,
          0.20800538424987286
         ],
         "c": [
          0.015573686544538397,
          0.01851267133862599,
          0.0287818000633565,
          0.03308390258107567,
          0.042762310692153374,
          0.06464606173885659,
          0.10081412792292291,
          0.13787785666169117,
          0.16877797469494854,
          0.18865965056998735,
          0.2084336908644456,
          0.21839407797042185,
          0.2226471211826592,
          0.2248132694619162,
          0.22992863865248347
         ],
         "line": {
          "color": "grey",
          "width": 0.25
         },
         "marker": {
          "color": "silver",
          "line": {
           "color": "black",
           "width": 0
          },
          "opacity": 0.9,
          "size": 6
         },
         "mode": "lines+text",
         "name": "TKM",
         "showlegend": false,
         "subplot": "ternary",
         "text": [
          "",
          "",
          "",
          "",
          "",
          "",
          "",
          "",
          "",
          "",
          "",
          "",
          "",
          "",
          ""
         ],
         "textfont": {
          "color": "black",
          "size": 3.8419413208455575
         },
         "type": "scatterternary"
        },
        {
         "a": [
          0.1359320047498965,
          0.1382935525287045,
          0.17794118641256432,
          0.16739022289948052,
          0.1794096063424053
         ],
         "b": [
          0.8484943087055651,
          0.8431937761326693,
          0.7932770135240792,
          0.7995258745194438,
          0.7778280829654413
         ],
         "c": [
          0.015573686544538397,
          0.01851267133862599,
          0.0287818000633565,
          0.03308390258107567,
          0.042762310692153374
         ],
         "line": {
          "color": "grey",
          "width": 0.25
         },
         "marker": {
          "color": "silver",
          "line": {
           "color": "black",
           "width": 0
          },
          "opacity": 0.9,
          "size": 6
         },
         "mode": "lines+text",
         "name": "TKM",
         "showlegend": false,
         "subplot": "ternary",
         "text": [
          "",
          "",
          "",
          "",
          "",
          "",
          "",
          "",
          "",
          "",
          "",
          "",
          "",
          "",
          ""
         ],
         "textfont": {
          "color": "black",
          "size": 3.8419413208455575
         },
         "type": "scatterternary"
        },
        {
         "a": [
          0,
          0,
          0,
          0,
          0,
          0,
          0,
          0,
          0,
          0,
          0,
          0,
          0,
          0,
          0
         ],
         "b": [
          0,
          0,
          0,
          0,
          0,
          0,
          0,
          0,
          0,
          0,
          0,
          0,
          0,
          0,
          0
         ],
         "c": [
          0,
          0,
          0,
          0,
          0,
          0,
          0,
          0,
          0,
          0,
          0,
          0,
          0,
          0,
          0
         ],
         "line": {
          "color": "grey",
          "width": 0.25
         },
         "marker": {
          "color": "silver",
          "line": {
           "color": "black",
           "width": 0
          },
          "opacity": 0.9,
          "size": 6
         },
         "mode": "lines+text",
         "name": "TUV",
         "showlegend": false,
         "subplot": "ternary",
         "text": [
          "",
          "",
          "",
          "",
          "",
          "",
          "",
          "",
          "",
          "",
          "",
          "",
          "",
          "",
          ""
         ],
         "textfont": {
          "color": "black",
          "size": 2.3694187025678044
         },
         "type": "scatterternary"
        },
        {
         "a": [
          0,
          0,
          0,
          0,
          0
         ],
         "b": [
          0,
          0,
          0,
          0,
          0
         ],
         "c": [
          0,
          0,
          0,
          0,
          0
         ],
         "line": {
          "color": "grey",
          "width": 0.25
         },
         "marker": {
          "color": "silver",
          "line": {
           "color": "black",
           "width": 0
          },
          "opacity": 0.9,
          "size": 6
         },
         "mode": "lines+text",
         "name": "TUV",
         "showlegend": false,
         "subplot": "ternary",
         "text": [
          "",
          "",
          "",
          "",
          "",
          "",
          "",
          "",
          "",
          "",
          "",
          "",
          "",
          "",
          ""
         ],
         "textfont": {
          "color": "black",
          "size": 2.3694187025678044
         },
         "type": "scatterternary"
        },
        {
         "a": [
          0.055948279479563816,
          0.14736331666660937,
          0.3054413248903729,
          0.35480288269865146,
          0.3940437280995558,
          0.462780748327741,
          0.49863569592205537,
          0.4809286845837738,
          0.43766198584289717,
          0.40309756074390257,
          0.36995429264072,
          0.35353741583081266,
          0.3472432379165134,
          0.35275513133728953,
          0.3795017465483359
         ],
         "b": [
          0.9379221647556113,
          0.8353452190366906,
          0.6530947349400258,
          0.5876716492181737,
          0.5282468246588283,
          0.42641828862644016,
          0.35622214283430376,
          0.3485745486272599,
          0.37135454611694463,
          0.395203845316728,
          0.4204491885865042,
          0.4297749749434597,
          0.4294884751849134,
          0.4195658887117097,
          0.39796478250916967
         ],
         "c": [
          0.006129555764824738,
          0.017291464296700112,
          0.04146394016960138,
          0.05752546808317473,
          0.07770944724161576,
          0.11080096304581889,
          0.1451421612436409,
          0.17049676678896625,
          0.1909834680401582,
          0.20169859393936954,
          0.2095965187727758,
          0.21668760922572763,
          0.22326828689857314,
          0.22767897995100084,
          0.22253347094249443
         ],
         "line": {
          "color": "grey",
          "width": 0.25
         },
         "marker": {
          "color": "purple",
          "line": {
           "color": "black",
           "width": 0
          },
          "opacity": 0.9,
          "size": 6
         },
         "mode": "lines+text",
         "name": "UGA",
         "showlegend": false,
         "subplot": "ternary",
         "text": [
          "",
          "",
          "",
          "",
          "",
          "",
          "",
          "",
          "",
          "",
          "",
          "",
          "",
          "",
          ""
         ],
         "textfont": {
          "color": "black",
          "size": 7.204011850144895
         },
         "type": "scatterternary"
        },
        {
         "a": [
          0.055948279479563816,
          0.14736331666660937,
          0.3054413248903729,
          0.35480288269865146,
          0.3940437280995558
         ],
         "b": [
          0.9379221647556113,
          0.8353452190366906,
          0.6530947349400258,
          0.5876716492181737,
          0.5282468246588283
         ],
         "c": [
          0.006129555764824738,
          0.017291464296700112,
          0.04146394016960138,
          0.05752546808317473,
          0.07770944724161576
         ],
         "line": {
          "color": "grey",
          "width": 0.25
         },
         "marker": {
          "color": "purple",
          "line": {
           "color": "black",
           "width": 0
          },
          "opacity": 0.9,
          "size": 6
         },
         "mode": "lines+text",
         "name": "UGA",
         "showlegend": false,
         "subplot": "ternary",
         "text": [
          "",
          "",
          "",
          "",
          "",
          "",
          "",
          "",
          "",
          "",
          "",
          "",
          "",
          "",
          ""
         ],
         "textfont": {
          "color": "black",
          "size": 7.204011850144895
         },
         "type": "scatterternary"
        },
        {
         "a": [
          0.07038865298419493,
          0.09731317928534568,
          0.15178004749519686,
          0.1641468119200876,
          0.2038379165122729,
          0.2931916709274873,
          0.427393001587551,
          0.5692491021458184,
          0.641466202822547,
          0.6744380180408909,
          0.6818037414999427,
          0.6706185089589225,
          0.6619624685319163,
          0.6540594657190759,
          0.6450641241820554
         ],
         "b": [
          0.9215680461598308,
          0.8899456179494858,
          0.8240418832463258,
          0.8025622191224491,
          0.7437731109778255,
          0.6173429045299081,
          0.42363242197840384,
          0.22020923131015707,
          0.11071507409969261,
          0.07557517990363272,
          0.07371567890397225,
          0.09008022163818569,
          0.1002815176704802,
          0.10552422568254134,
          0.11329790402267839
         ],
         "c": [
          0.008043300855974435,
          0.012741202765168849,
          0.024178069258477115,
          0.03329096895746337,
          0.052388972509901516,
          0.08946542454260464,
          0.14897457643404516,
          0.21054166654402448,
          0.24781872307776034,
          0.24998680205547646,
          0.24448057959608493,
          0.23930126940289176,
          0.23775601379760344,
          0.2404163085983827,
          0.24163797179526622
         ],
         "line": {
          "color": "grey",
          "width": 0.25
         },
         "marker": {
          "color": "silver",
          "line": {
           "color": "black",
           "width": 0
          },
          "opacity": 0.9,
          "size": 6
         },
         "mode": "lines+text",
         "name": "UKR",
         "showlegend": false,
         "subplot": "ternary",
         "text": [
          "",
          "",
          "",
          "",
          "",
          "",
          "",
          "",
          "",
          "",
          "",
          "",
          "",
          "",
          ""
         ],
         "textfont": {
          "color": "black",
          "size": 7.2269452114303885
         },
         "type": "scatterternary"
        },
        {
         "a": [
          0.07038865298419493,
          0.09731317928534568,
          0.15178004749519686,
          0.1641468119200876,
          0.2038379165122729
         ],
         "b": [
          0.9215680461598308,
          0.8899456179494858,
          0.8240418832463258,
          0.8025622191224491,
          0.7437731109778255
         ],
         "c": [
          0.008043300855974435,
          0.012741202765168849,
          0.024178069258477115,
          0.03329096895746337,
          0.052388972509901516
         ],
         "line": {
          "color": "grey",
          "width": 0.25
         },
         "marker": {
          "color": "silver",
          "line": {
           "color": "black",
           "width": 0
          },
          "opacity": 0.9,
          "size": 6
         },
         "mode": "lines+text",
         "name": "UKR",
         "showlegend": false,
         "subplot": "ternary",
         "text": [
          "",
          "",
          "",
          "",
          "",
          "",
          "",
          "",
          "",
          "",
          "",
          "",
          "",
          "",
          ""
         ],
         "textfont": {
          "color": "black",
          "size": 7.2269452114303885
         },
         "type": "scatterternary"
        },
        {
         "a": [
          0.27716971675812274,
          0.31872351040450614,
          0.36176048314468917,
          0.2712922324902649,
          0.203716014226218,
          0.16340226068726887,
          0.12487930405580938,
          0.09993810532564776,
          0.08018221471940672,
          0.06840036952446332,
          0.05988513004422308,
          0.054489187227630465,
          0.05148336706633361,
          0.05147966519392222,
          0.051572319432429105
         ],
         "b": [
          0.6906303222357276,
          0.6367376371958411,
          0.5697779136874197,
          0.636435769382858,
          0.6563678091412831,
          0.6358644661716328,
          0.6366701451022556,
          0.6457975784462854,
          0.6434521986695239,
          0.6381701265577133,
          0.6315982013877881,
          0.6210627549328718,
          0.6101525467267803,
          0.6042854190594352,
          0.5943816959701401
         ],
         "c": [
          0.03219996100614961,
          0.044538852399652606,
          0.06846160316789097,
          0.09227199812687711,
          0.13991617663249878,
          0.20073327314109843,
          0.23845055084193514,
          0.25426431622806694,
          0.2763655866110695,
          0.29342950391782324,
          0.308516668567989,
          0.32444805783949776,
          0.3383640862068861,
          0.3442349157466425,
          0.3540459845974309
         ],
         "line": {
          "color": "grey",
          "width": 0.25
         },
         "marker": {
          "color": "silver",
          "line": {
           "color": "black",
           "width": 0
          },
          "opacity": 0.9,
          "size": 6
         },
         "mode": "lines+text",
         "name": "ARE",
         "showlegend": false,
         "subplot": "ternary",
         "text": [
          "",
          "",
          "",
          "",
          "",
          "",
          "",
          "",
          "",
          "",
          "",
          "",
          "",
          "",
          ""
         ],
         "textfont": {
          "color": "black",
          "size": 4.333857289260985
         },
         "type": "scatterternary"
        },
        {
         "a": [
          0.27716971675812274,
          0.31872351040450614,
          0.36176048314468917,
          0.2712922324902649,
          0.203716014226218
         ],
         "b": [
          0.6906303222357276,
          0.6367376371958411,
          0.5697779136874197,
          0.636435769382858,
          0.6563678091412831
         ],
         "c": [
          0.03219996100614961,
          0.044538852399652606,
          0.06846160316789097,
          0.09227199812687711,
          0.13991617663249878
         ],
         "line": {
          "color": "grey",
          "width": 0.25
         },
         "marker": {
          "color": "silver",
          "line": {
           "color": "black",
           "width": 0
          },
          "opacity": 0.9,
          "size": 6
         },
         "mode": "lines+text",
         "name": "ARE",
         "showlegend": false,
         "subplot": "ternary",
         "text": [
          "",
          "",
          "",
          "",
          "",
          "",
          "",
          "",
          "",
          "",
          "",
          "",
          "",
          "",
          ""
         ],
         "textfont": {
          "color": "black",
          "size": 4.333857289260985
         },
         "type": "scatterternary"
        },
        {
         "a": [
          0.040464490167995346,
          0.05432646958960216,
          0.0840411481641575,
          0.08447384103181725,
          0.10392911426189659,
          0.16888956070043581,
          0.29385379594515404,
          0.453683142555509,
          0.541335295174898,
          0.5764760216861795,
          0.5929655232926756,
          0.6100107912305903,
          0.6257418194593078,
          0.6398179153710457,
          0.6516887894170921
         ],
         "b": [
          0.955025757893228,
          0.938759589256412,
          0.9032832311794103,
          0.9001698265298255,
          0.8732061524218875,
          0.7872339404657253,
          0.6187278208574534,
          0.4012574322284141,
          0.2724878575584894,
          0.221520351278288,
          0.19720923597804868,
          0.17398420639939388,
          0.15196478908260075,
          0.13060608108825963,
          0.11243468199576644
         ],
         "c": [
          0.004509751938776689,
          0.006913941153985818,
          0.012675620656432022,
          0.015356332438357203,
          0.02286473331621578,
          0.043876498833838845,
          0.08741838319739237,
          0.1450594252160769,
          0.1861768472666124,
          0.20200362703553232,
          0.20982524072927566,
          0.2160050023700156,
          0.2222933914580915,
          0.22957600354069477,
          0.23587652858714156
         ],
         "line": {
          "color": "grey",
          "width": 0.25
         },
         "marker": {
          "color": "silver",
          "line": {
           "color": "black",
           "width": 0
          },
          "opacity": 0.9,
          "size": 6
         },
         "mode": "lines+text",
         "name": "GBR",
         "showlegend": false,
         "subplot": "ternary",
         "text": [
          "",
          "",
          "",
          "",
          "",
          "",
          "",
          "",
          "",
          "",
          "",
          "",
          "",
          "",
          ""
         ],
         "textfont": {
          "color": "black",
          "size": 8.35935119598999
         },
         "type": "scatterternary"
        },
        {
         "a": [
          0.040464490167995346,
          0.05432646958960216,
          0.0840411481641575,
          0.08447384103181725,
          0.10392911426189659
         ],
         "b": [
          0.955025757893228,
          0.938759589256412,
          0.9032832311794103,
          0.9001698265298255,
          0.8732061524218875
         ],
         "c": [
          0.004509751938776689,
          0.006913941153985818,
          0.012675620656432022,
          0.015356332438357203,
          0.02286473331621578
         ],
         "line": {
          "color": "grey",
          "width": 0.25
         },
         "marker": {
          "color": "silver",
          "line": {
           "color": "black",
           "width": 0
          },
          "opacity": 0.9,
          "size": 6
         },
         "mode": "lines+text",
         "name": "GBR",
         "showlegend": false,
         "subplot": "ternary",
         "text": [
          "",
          "",
          "",
          "",
          "",
          "",
          "",
          "",
          "",
          "",
          "",
          "",
          "",
          "",
          ""
         ],
         "textfont": {
          "color": "black",
          "size": 8.35935119598999
         },
         "type": "scatterternary"
        },
        {
         "a": [
          0.057738048765640135,
          0.06283371677632332,
          0.0817106252551198,
          0.06128783460653895,
          0.062320609844956174,
          0.09218997985616917,
          0.14699363927574136,
          0.21628700516875746,
          0.2401254151205922,
          0.23410514984017636,
          0.22217794131111623,
          0.23009468330228322,
          0.24119326002271932,
          0.25148676739802855,
          0.2715400274730748
         ],
         "b": [
          0.9357008243779675,
          0.9287731671792676,
          0.9042596511453572,
          0.92341705016223,
          0.9164493719047928,
          0.8677878367790228,
          0.7721289121693891,
          0.6459528128604112,
          0.5880737960259866,
          0.574238635498991,
          0.5650463353407115,
          0.5582169705009818,
          0.5476058238262435,
          0.5316252242415843,
          0.5092285828209386
         ],
         "c": [
          0.006561126856392206,
          0.008393116044409184,
          0.014029723599522804,
          0.01529511523123124,
          0.021230018250250806,
          0.04002218336480799,
          0.08087744855486961,
          0.1377601819708314,
          0.1718007888534211,
          0.1916562146608327,
          0.21277572334817224,
          0.21168834619673493,
          0.2112009161510371,
          0.21688800836038713,
          0.2192313897059866
         ],
         "line": {
          "color": "grey",
          "width": 0.25
         },
         "marker": {
          "color": "navy",
          "line": {
           "color": "black",
           "width": 0
          },
          "opacity": 0.9,
          "size": 6
         },
         "mode": "lines+text",
         "name": "USA",
         "showlegend": false,
         "subplot": "ternary",
         "text": [
          "",
          "",
          "",
          "",
          "",
          "",
          "",
          "",
          "",
          "",
          "",
          "",
          "",
          "",
          ""
         ],
         "textfont": {
          "color": "black",
          "size": 15.02023796614745
         },
         "type": "scatterternary"
        },
        {
         "a": [
          0.057738048765640135,
          0.06283371677632332,
          0.0817106252551198,
          0.06128783460653895,
          0.062320609844956174
         ],
         "b": [
          0.9357008243779675,
          0.9287731671792676,
          0.9042596511453572,
          0.92341705016223,
          0.9164493719047928
         ],
         "c": [
          0.006561126856392206,
          0.008393116044409184,
          0.014029723599522804,
          0.01529511523123124,
          0.021230018250250806
         ],
         "line": {
          "color": "grey",
          "width": 0.25
         },
         "marker": {
          "color": "navy",
          "line": {
           "color": "black",
           "width": 0
          },
          "opacity": 0.9,
          "size": 6
         },
         "mode": "lines+text",
         "name": "USA",
         "showlegend": false,
         "subplot": "ternary",
         "text": [
          "",
          "",
          "",
          "",
          "",
          "",
          "",
          "",
          "",
          "",
          "",
          "",
          "",
          "",
          ""
         ],
         "textfont": {
          "color": "black",
          "size": 15.02023796614745
         },
         "type": "scatterternary"
        },
        {
         "a": [
          0.1058460159598743,
          0.11558117558358798,
          0.15760137134766325,
          0.14848667118459571,
          0.17305125214098652,
          0.26874060027189417,
          0.3782657245837425,
          0.4204749481225153,
          0.377542514163842,
          0.3280685723951505,
          0.2868608040053152,
          0.25152246654197963,
          0.22027759827610036,
          0.19239829767198358,
          0.1853533414232299
         ],
         "b": [
          0.8821208722668217,
          0.8691198245091399,
          0.8172903887080029,
          0.8228504650851289,
          0.7866928710603612,
          0.6568100242012442,
          0.4923548580924166,
          0.39011007591808067,
          0.38540250674583865,
          0.4108868802988765,
          0.43480703318468694,
          0.4444738503522551,
          0.44610527380963466,
          0.43532675945815025,
          0.4208253809913072
         ],
         "c": [
          0.012033111773304137,
          0.015298999907272248,
          0.025108239944333866,
          0.028662863730275344,
          0.040255876798652244,
          0.07444937552686172,
          0.12937941732384095,
          0.1894149759594041,
          0.23705497909031928,
          0.2610445473059729,
          0.2783321628099978,
          0.3040036831057652,
          0.33361712791426495,
          0.3722749428698661,
          0.3938212775854629
         ],
         "line": {
          "color": "grey",
          "width": 0.25
         },
         "marker": {
          "color": "silver",
          "line": {
           "color": "black",
           "width": 0
          },
          "opacity": 0.9,
          "size": 6
         },
         "mode": "lines+text",
         "name": "URY",
         "showlegend": false,
         "subplot": "ternary",
         "text": [
          "",
          "",
          "",
          "",
          "",
          "",
          "",
          "",
          "",
          "",
          "",
          "",
          "",
          "",
          ""
         ],
         "textfont": {
          "color": "black",
          "size": 3.2416412520404343
         },
         "type": "scatterternary"
        },
        {
         "a": [
          0.1058460159598743,
          0.11558117558358798,
          0.15760137134766325,
          0.14848667118459571,
          0.17305125214098652
         ],
         "b": [
          0.8821208722668217,
          0.8691198245091399,
          0.8172903887080029,
          0.8228504650851289,
          0.7866928710603612
         ],
         "c": [
          0.012033111773304137,
          0.015298999907272248,
          0.025108239944333866,
          0.028662863730275344,
          0.040255876798652244
         ],
         "line": {
          "color": "grey",
          "width": 0.25
         },
         "marker": {
          "color": "silver",
          "line": {
           "color": "black",
           "width": 0
          },
          "opacity": 0.9,
          "size": 6
         },
         "mode": "lines+text",
         "name": "URY",
         "showlegend": false,
         "subplot": "ternary",
         "text": [
          "",
          "",
          "",
          "",
          "",
          "",
          "",
          "",
          "",
          "",
          "",
          "",
          "",
          "",
          ""
         ],
         "textfont": {
          "color": "black",
          "size": 3.2416412520404343
         },
         "type": "scatterternary"
        },
        {
         "a": [
          0.8035064470943262,
          0.7960056315061137,
          0.7694283656921993,
          0.7445880684412124,
          0.719163737384812,
          0.7046688345754353,
          0.693436466185475,
          0.692613683379169,
          0.6948754218188351,
          0.7064244607853938,
          0.7172576312291417,
          0.7270182586634375,
          0.7332857214658755,
          0.7321536598340748,
          0.7291033416699748
         ],
         "b": [
          0.10508463274659378,
          0.10113265165807826,
          0.11246639949699125,
          0.11521272406404293,
          0.11575811231887766,
          0.10569372780268975,
          0.09125784336548479,
          0.07804842943144547,
          0.06446828468624262,
          0.049362012848636956,
          0.037459930233694184,
          0.029857069083150372,
          0.02240527489344689,
          0.018924120284276837,
          0.017697737792792146
         ],
         "c": [
          0.09140892015908009,
          0.10286171683580812,
          0.11810523481080944,
          0.14019920749474465,
          0.1650781502963103,
          0.18963743762187493,
          0.21530569044904033,
          0.22933788718938555,
          0.24065629349492226,
          0.24421352636596916,
          0.24528243853716422,
          0.24312467225341217,
          0.24430900364067754,
          0.24892221988164837,
          0.253198920537233
         ],
         "line": {
          "color": "grey",
          "width": 0.25
         },
         "marker": {
          "color": "silver",
          "line": {
           "color": "black",
           "width": 0
          },
          "opacity": 0.9,
          "size": 6
         },
         "mode": "lines+text",
         "name": "UZB",
         "showlegend": false,
         "subplot": "ternary",
         "text": [
          "",
          "",
          "",
          "",
          "",
          "",
          "",
          "",
          "",
          "",
          "",
          "",
          "",
          "",
          ""
         ],
         "textfont": {
          "color": "black",
          "size": 6.561844021961204
         },
         "type": "scatterternary"
        },
        {
         "a": [
          0.8035064470943262,
          0.7960056315061137,
          0.7694283656921993,
          0.7445880684412124,
          0.719163737384812
         ],
         "b": [
          0.10508463274659378,
          0.10113265165807826,
          0.11246639949699125,
          0.11521272406404293,
          0.11575811231887766
         ],
         "c": [
          0.09140892015908009,
          0.10286171683580812,
          0.11810523481080944,
          0.14019920749474465,
          0.1650781502963103
         ],
         "line": {
          "color": "grey",
          "width": 0.25
         },
         "marker": {
          "color": "silver",
          "line": {
           "color": "black",
           "width": 0
          },
          "opacity": 0.9,
          "size": 6
         },
         "mode": "lines+text",
         "name": "UZB",
         "showlegend": false,
         "subplot": "ternary",
         "text": [
          "",
          "",
          "",
          "",
          "",
          "",
          "",
          "",
          "",
          "",
          "",
          "",
          "",
          "",
          ""
         ],
         "textfont": {
          "color": "black",
          "size": 6.561844021961204
         },
         "type": "scatterternary"
        },
        {
         "a": [
          0.09772083508846656,
          0.24113677402032982,
          0.38660479373762846,
          0.45085200292039124,
          0.49887098989773754,
          0.5506069885844467,
          0.5883189271962516,
          0.6068585916844416,
          0.6072559887771348,
          0.6032795976417236,
          0.5961259911618706,
          0.5897832598593493,
          0.5838559412159247,
          0.5784869733266254,
          0.5726695437199675
         ],
         "b": [
          0.8916926202618718,
          0.7306338535556843,
          0.5609779556177092,
          0.4766273319849027,
          0.40522727801232616,
          0.3255044034953577,
          0.25729151454108545,
          0.21673292655832696,
          0.20119270985030202,
          0.20000640190000407,
          0.20590494998316153,
          0.21482387462566147,
          0.22395563761037557,
          0.2305935858142204,
          0.23802560745040782
         ],
         "c": [
          0.01058654464966154,
          0.02822937242398599,
          0.052417250644662364,
          0.07252066509470619,
          0.09590173208993637,
          0.1238886079201955,
          0.154389558262663,
          0.17640848175723148,
          0.19155130137256313,
          0.19671400045827245,
          0.19796905885496807,
          0.19539286551498927,
          0.19218842117369972,
          0.1909194408591543,
          0.18930484882962467
         ],
         "line": {
          "color": "grey",
          "width": 0.25
         },
         "marker": {
          "color": "silver",
          "line": {
           "color": "black",
           "width": 0
          },
          "opacity": 0.9,
          "size": 6
         },
         "mode": "lines+text",
         "name": "VUT",
         "showlegend": false,
         "subplot": "ternary",
         "text": [
          "",
          "",
          "",
          "",
          "",
          "",
          "",
          "",
          "",
          "",
          "",
          "",
          "",
          "",
          ""
         ],
         "textfont": {
          "color": "black",
          "size": 1.8549589454887454
         },
         "type": "scatterternary"
        },
        {
         "a": [
          0.09772083508846656,
          0.24113677402032982,
          0.38660479373762846,
          0.45085200292039124,
          0.49887098989773754
         ],
         "b": [
          0.8916926202618718,
          0.7306338535556843,
          0.5609779556177092,
          0.4766273319849027,
          0.40522727801232616
         ],
         "c": [
          0.01058654464966154,
          0.02822937242398599,
          0.052417250644662364,
          0.07252066509470619,
          0.09590173208993637
         ],
         "line": {
          "color": "grey",
          "width": 0.25
         },
         "marker": {
          "color": "silver",
          "line": {
           "color": "black",
           "width": 0
          },
          "opacity": 0.9,
          "size": 6
         },
         "mode": "lines+text",
         "name": "VUT",
         "showlegend": false,
         "subplot": "ternary",
         "text": [
          "",
          "",
          "",
          "",
          "",
          "",
          "",
          "",
          "",
          "",
          "",
          "",
          "",
          "",
          ""
         ],
         "textfont": {
          "color": "black",
          "size": 1.8549589454887454
         },
         "type": "scatterternary"
        },
        {
         "a": [
          0,
          0,
          0,
          0,
          0,
          0,
          0,
          0,
          0,
          0,
          0,
          0,
          0,
          0,
          0
         ],
         "b": [
          0,
          0,
          0,
          0,
          0,
          0,
          0,
          0,
          0,
          0,
          0,
          0,
          0,
          0,
          0
         ],
         "c": [
          0,
          0,
          0,
          0,
          0,
          0,
          0,
          0,
          0,
          0,
          0,
          0,
          0,
          0,
          0
         ],
         "line": {
          "color": "grey",
          "width": 0.25
         },
         "marker": {
          "color": "silver",
          "line": {
           "color": "black",
           "width": 0
          },
          "opacity": 0.9,
          "size": 6
         },
         "mode": "lines+text",
         "name": "VEN",
         "showlegend": false,
         "subplot": "ternary",
         "text": [
          "",
          "",
          "",
          "",
          "",
          "",
          "",
          "",
          "",
          "",
          "",
          "",
          "",
          "",
          ""
         ],
         "textfont": {
          "color": "black",
          "size": 6.239112071395928
         },
         "type": "scatterternary"
        },
        {
         "a": [
          0,
          0,
          0,
          0,
          0
         ],
         "b": [
          0,
          0,
          0,
          0,
          0
         ],
         "c": [
          0,
          0,
          0,
          0,
          0
         ],
         "line": {
          "color": "grey",
          "width": 0.25
         },
         "marker": {
          "color": "silver",
          "line": {
           "color": "black",
           "width": 0
          },
          "opacity": 0.9,
          "size": 6
         },
         "mode": "lines+text",
         "name": "VEN",
         "showlegend": false,
         "subplot": "ternary",
         "text": [
          "",
          "",
          "",
          "",
          "",
          "",
          "",
          "",
          "",
          "",
          "",
          "",
          "",
          "",
          ""
         ],
         "textfont": {
          "color": "black",
          "size": 6.239112071395928
         },
         "type": "scatterternary"
        },
        {
         "a": [
          0.32293245884561483,
          0.45023669359237345,
          0.5717280496117554,
          0.5509983871222855,
          0.5648916227758586,
          0.6010286580822441,
          0.6084205818968371,
          0.599834306170389,
          0.5684638415480949,
          0.5361041349913086,
          0.5035718355160413,
          0.47170120119335557,
          0.44127050485068187,
          0.41603977509275797,
          0.397380173787456
         ],
         "b": [
          0.6407659005786773,
          0.4913851437320391,
          0.3381047977781471,
          0.34171438660006226,
          0.30016075092477496,
          0.22745525600147712,
          0.1902770755035396,
          0.18761718668506322,
          0.21579050521974644,
          0.24718365730587405,
          0.27431181820665324,
          0.299418261310875,
          0.3209399545552371,
          0.33464179258456805,
          0.34269975486601595
         ],
         "c": [
          0.03630164057570794,
          0.05837816267558743,
          0.09016715261009749,
          0.10728722627765226,
          0.1349476262993666,
          0.1715160859162788,
          0.2013023425996233,
          0.2125485071445475,
          0.21574565323215855,
          0.2167122077028175,
          0.22211634627730534,
          0.22888053749576942,
          0.23778954059408097,
          0.24931843232267403,
          0.2599200713465281
         ],
         "line": {
          "color": "grey",
          "width": 0.25
         },
         "marker": {
          "color": "silver",
          "line": {
           "color": "black",
           "width": 0
          },
          "opacity": 0.9,
          "size": 6
         },
         "mode": "lines+text",
         "name": "VNM",
         "showlegend": false,
         "subplot": "ternary",
         "text": [
          "",
          "",
          "",
          "",
          "",
          "",
          "",
          "",
          "",
          "",
          "",
          "",
          "",
          "",
          ""
         ],
         "textfont": {
          "color": "black",
          "size": 9.507711770409312
         },
         "type": "scatterternary"
        },
        {
         "a": [
          0.32293245884561483,
          0.45023669359237345,
          0.5717280496117554,
          0.5509983871222855,
          0.5648916227758586
         ],
         "b": [
          0.6407659005786773,
          0.4913851437320391,
          0.3381047977781471,
          0.34171438660006226,
          0.30016075092477496
         ],
         "c": [
          0.03630164057570794,
          0.05837816267558743,
          0.09016715261009749,
          0.10728722627765226,
          0.1349476262993666
         ],
         "line": {
          "color": "grey",
          "width": 0.25
         },
         "marker": {
          "color": "silver",
          "line": {
           "color": "black",
           "width": 0
          },
          "opacity": 0.9,
          "size": 6
         },
         "mode": "lines+text",
         "name": "VNM",
         "showlegend": false,
         "subplot": "ternary",
         "text": [
          "",
          "",
          "",
          "",
          "",
          "",
          "",
          "",
          "",
          "",
          "",
          "",
          "",
          "",
          ""
         ],
         "textfont": {
          "color": "black",
          "size": 9.507711770409312
         },
         "type": "scatterternary"
        },
        {
         "a": [
          0.028418456211628446,
          0.08932244433813617,
          0.19712014105329315,
          0.2339890318592132,
          0.2781142454959799,
          0.3754290159815992,
          0.4856422134048527,
          0.5594081229398153,
          0.575979151004206,
          0.5709074736968406,
          0.5583360941390891,
          0.554906080076048,
          0.5538303510698608,
          0.5531802218083285,
          0.5499029486853818
         ],
         "b": [
          0.9684694915107439,
          0.9002665905806959,
          0.7763357273810098,
          0.728513339648037,
          0.6680040988519009,
          0.5374584547202835,
          0.3808247617797705,
          0.26932138654422344,
          0.23174497929848042,
          0.23134500962400653,
          0.24489475838463262,
          0.2523829199829213,
          0.25740024234251935,
          0.25981386047295507,
          0.2647822413126248
         ],
         "c": [
          0.003112052277627915,
          0.01041096508116811,
          0.026544131565697095,
          0.037497628492749784,
          0.05388165565211925,
          0.08711252929811716,
          0.1335330248153769,
          0.17127049051596133,
          0.19227586969731356,
          0.19774751667915286,
          0.19676914747627833,
          0.19271099994103072,
          0.1887694065876199,
          0.18700591771871655,
          0.18531481000199335
         ],
         "line": {
          "color": "grey",
          "width": 0.25
         },
         "marker": {
          "color": "silver",
          "line": {
           "color": "black",
           "width": 0
          },
          "opacity": 0.9,
          "size": 6
         },
         "mode": "lines+text",
         "name": "YEM",
         "showlegend": false,
         "subplot": "ternary",
         "text": [
          "",
          "",
          "",
          "",
          "",
          "",
          "",
          "",
          "",
          "",
          "",
          "",
          "",
          "",
          ""
         ],
         "textfont": {
          "color": "black",
          "size": 6.472682194748737
         },
         "type": "scatterternary"
        },
        {
         "a": [
          0.028418456211628446,
          0.08932244433813617,
          0.19712014105329315,
          0.2339890318592132,
          0.2781142454959799
         ],
         "b": [
          0.9684694915107439,
          0.9002665905806959,
          0.7763357273810098,
          0.728513339648037,
          0.6680040988519009
         ],
         "c": [
          0.003112052277627915,
          0.01041096508116811,
          0.026544131565697095,
          0.037497628492749784,
          0.05388165565211925
         ],
         "line": {
          "color": "grey",
          "width": 0.25
         },
         "marker": {
          "color": "silver",
          "line": {
           "color": "black",
           "width": 0
          },
          "opacity": 0.9,
          "size": 6
         },
         "mode": "lines+text",
         "name": "YEM",
         "showlegend": false,
         "subplot": "ternary",
         "text": [
          "",
          "",
          "",
          "",
          "",
          "",
          "",
          "",
          "",
          "",
          "",
          "",
          "",
          "",
          ""
         ],
         "textfont": {
          "color": "black",
          "size": 6.472682194748737
         },
         "type": "scatterternary"
        },
        {
         "a": [
          0.438853476610347,
          0.47003949534538253,
          0.46344304136057834,
          0.41513223773808205,
          0.3542045900843462,
          0.29535129301927765,
          0.2595441930314815,
          0.23635418948268,
          0.21291098532469382,
          0.2048246631167962,
          0.19438256944159296,
          0.18949755630113113,
          0.19058868828917086,
          0.1989525162061922,
          0.21827192435182646
         ],
         "b": [
          0.5127421547021349,
          0.46933421094615924,
          0.46672147834962374,
          0.5112104172917127,
          0.569961563777072,
          0.6270597664457153,
          0.6578409455477451,
          0.6725676780106713,
          0.6760401299108553,
          0.6532636533961153,
          0.6231326360488337,
          0.5933532977842694,
          0.5612137352371612,
          0.5315885416298137,
          0.5015891292362447
         ],
         "c": [
          0.048404368687518136,
          0.06062629370845821,
          0.06983548028979777,
          0.07365734497020526,
          0.0758338461385817,
          0.07758894053500703,
          0.08261486142077341,
          0.09107813250664856,
          0.11104888476445082,
          0.14191168348708852,
          0.18248479450957306,
          0.21714914591459955,
          0.24819757647366794,
          0.2694589421639942,
          0.28013894641192894
         ],
         "line": {
          "color": "grey",
          "width": 0.25
         },
         "marker": {
          "color": "silver",
          "line": {
           "color": "black",
           "width": 0
          },
          "opacity": 0.9,
          "size": 6
         },
         "mode": "lines+text",
         "name": "ZMB",
         "showlegend": false,
         "subplot": "ternary",
         "text": [
          "",
          "",
          "",
          "",
          "",
          "",
          "",
          "",
          "",
          "",
          "",
          "",
          "",
          "",
          ""
         ],
         "textfont": {
          "color": "black",
          "size": 5.414216027546614
         },
         "type": "scatterternary"
        },
        {
         "a": [
          0.438853476610347,
          0.47003949534538253,
          0.46344304136057834,
          0.41513223773808205,
          0.3542045900843462
         ],
         "b": [
          0.5127421547021349,
          0.46933421094615924,
          0.46672147834962374,
          0.5112104172917127,
          0.569961563777072
         ],
         "c": [
          0.048404368687518136,
          0.06062629370845821,
          0.06983548028979777,
          0.07365734497020526,
          0.0758338461385817
         ],
         "line": {
          "color": "grey",
          "width": 0.25
         },
         "marker": {
          "color": "silver",
          "line": {
           "color": "black",
           "width": 0
          },
          "opacity": 0.9,
          "size": 6
         },
         "mode": "lines+text",
         "name": "ZMB",
         "showlegend": false,
         "subplot": "ternary",
         "text": [
          "",
          "",
          "",
          "",
          "",
          "",
          "",
          "",
          "",
          "",
          "",
          "",
          "",
          "",
          ""
         ],
         "textfont": {
          "color": "black",
          "size": 5.414216027546614
         },
         "type": "scatterternary"
        },
        {
         "a": [
          0.10018859391874622,
          0.2148102693422498,
          0.3880359305744117,
          0.39533495781132566,
          0.38466962314356895,
          0.372677705650315,
          0.33406924138253397,
          0.2912743851081149,
          0.24539785198659836,
          0.2217315997190209,
          0.19522146518717293,
          0.1771953027073356,
          0.16640585577740802,
          0.16334611652936187,
          0.16408953729990955
         ],
         "b": [
          0.8888489144540707,
          0.758420968361545,
          0.5563017993421784,
          0.5383639115175289,
          0.5393491444879018,
          0.5394825071401457,
          0.573858387873863,
          0.6200884801767685,
          0.6674650769686212,
          0.6806436877539704,
          0.6820668586989429,
          0.6698623825735979,
          0.6503759468431568,
          0.6313921155634069,
          0.6185224779621794
         ],
         "c": [
          0.010962491627183345,
          0.02676876229620536,
          0.05566227008341009,
          0.06630113067114547,
          0.075981232368529,
          0.08783978720953942,
          0.09207237074360278,
          0.08863713471511661,
          0.08713707104478054,
          0.09762471252700862,
          0.12271167611388434,
          0.15294231471906652,
          0.183218197379435,
          0.20526176790723108,
          0.21738798473791088
         ],
         "line": {
          "color": "grey",
          "width": 0.25
         },
         "marker": {
          "color": "silver",
          "line": {
           "color": "black",
           "width": 0
          },
          "opacity": 0.9,
          "size": 6
         },
         "mode": "lines+text",
         "name": "ZWE",
         "showlegend": false,
         "subplot": "ternary",
         "text": [
          "",
          "",
          "",
          "",
          "",
          "",
          "",
          "",
          "",
          "",
          "",
          "",
          "",
          "",
          ""
         ],
         "textfont": {
          "color": "black",
          "size": 5.09946720749132
         },
         "type": "scatterternary"
        },
        {
         "a": [
          0.10018859391874622,
          0.2148102693422498,
          0.3880359305744117,
          0.39533495781132566,
          0.38466962314356895
         ],
         "b": [
          0.8888489144540707,
          0.758420968361545,
          0.5563017993421784,
          0.5383639115175289,
          0.5393491444879018
         ],
         "c": [
          0.010962491627183345,
          0.02676876229620536,
          0.05566227008341009,
          0.06630113067114547,
          0.075981232368529
         ],
         "line": {
          "color": "grey",
          "width": 0.25
         },
         "marker": {
          "color": "silver",
          "line": {
           "color": "black",
           "width": 0
          },
          "opacity": 0.9,
          "size": 6
         },
         "mode": "lines+text",
         "name": "ZWE",
         "showlegend": false,
         "subplot": "ternary",
         "text": [
          "",
          "",
          "",
          "",
          "",
          "",
          "",
          "",
          "",
          "",
          "",
          "",
          "",
          "",
          ""
         ],
         "textfont": {
          "color": "black",
          "size": 5.09946720749132
         },
         "type": "scatterternary"
        },
        {
         "a": [
          0.057738048765640135,
          0.06283371677632332,
          0.0817106252551198,
          0.06128783460653895,
          0.062320609844956174,
          0.09218997985616917,
          0.14699363927574136,
          0.21628700516875746,
          0.2401254151205922,
          0.23410514984017636,
          0.22217794131111623,
          0.23009468330228322,
          0.24119326002271932,
          0.25148676739802855,
          0.2715400274730748
         ],
         "b": [
          0.9357008243779675,
          0.9287731671792676,
          0.9042596511453572,
          0.92341705016223,
          0.9164493719047928,
          0.8677878367790228,
          0.7721289121693891,
          0.6459528128604112,
          0.5880737960259866,
          0.574238635498991,
          0.5650463353407115,
          0.5582169705009818,
          0.5476058238262435,
          0.5316252242415843,
          0.5092285828209386
         ],
         "c": [
          0.006561126856392206,
          0.008393116044409184,
          0.014029723599522804,
          0.01529511523123124,
          0.021230018250250806,
          0.04002218336480799,
          0.08087744855486961,
          0.1377601819708314,
          0.1718007888534211,
          0.1916562146608327,
          0.21277572334817224,
          0.21168834619673493,
          0.2112009161510371,
          0.21688800836038713,
          0.2192313897059866
         ],
         "line": {
          "color": "navy",
          "width": 3
         },
         "marker": {
          "color": "navy",
          "line": {
           "color": "white",
           "width": 0.5
          },
          "opacity": 0.9,
          "size": [
           8,
           8,
           8,
           8,
           8,
           8,
           8,
           8,
           8,
           8,
           8,
           8,
           8,
           8,
           8
          ]
         },
         "mode": "lines+markers",
         "name": "USA",
         "showlegend": false,
         "subplot": "ternary",
         "text": [
          "2030",
          "",
          "",
          "",
          "",
          "",
          "'60",
          "",
          "",
          "",
          "'80",
          "",
          "",
          "",
          "2100"
         ],
         "textfont": {
          "color": "navy",
          "size": 16
         },
         "textposition": "top center",
         "type": "scatterternary"
        },
        {
         "a": [
          0.057738048765640135
         ],
         "b": [
          0.9357008243779675
         ],
         "c": [
          0.006561126856392206
         ],
         "line": {
          "color": "navy",
          "width": 3
         },
         "marker": {
          "color": "navy",
          "line": {
           "color": "white",
           "width": 0.5
          },
          "opacity": 0.9,
          "size": [
           20
          ]
         },
         "mode": "markers+text",
         "name": "USA",
         "showlegend": false,
         "subplot": "ternary",
         "text": [
          "<b>USA"
         ],
         "textfont": {
          "color": "navy",
          "size": 18
         },
         "textposition": "middle left",
         "type": "scatterternary"
        },
        {
         "a": [
          0.057738048765640135
         ],
         "b": [
          0.9357008243779675
         ],
         "c": [
          0.006561126856392206
         ],
         "line": {
          "color": "navy",
          "width": 3
         },
         "marker": {
          "color": "navy",
          "line": {
           "color": "white",
           "width": 0.5
          },
          "opacity": 0.9,
          "size": [
           20
          ]
         },
         "mode": "markers+text",
         "name": "USA",
         "showlegend": false,
         "subplot": "ternary",
         "text": [
          "2030"
         ],
         "textfont": {
          "color": "navy",
          "size": 16
         },
         "textposition": "middle right",
         "type": "scatterternary"
        },
        {
         "a": [
          0.062320609844956174
         ],
         "b": [
          0.9164493719047928
         ],
         "c": [
          0.021230018250250806
         ],
         "line": {
          "color": "navy",
          "width": 3
         },
         "marker": {
          "color": "navy",
          "line": {
           "color": "white",
           "width": 0.5
          },
          "opacity": 0.9,
          "size": [
           15
          ]
         },
         "mode": "markers+text",
         "name": "USA",
         "showlegend": false,
         "subplot": "ternary",
         "text": [
          "2050"
         ],
         "textfont": {
          "color": "navy",
          "size": 16
         },
         "textposition": "middle right",
         "type": "scatterternary"
        },
        {
         "a": [
          0.2715400274730748
         ],
         "b": [
          0.5092285828209386
         ],
         "c": [
          0.2192313897059866
         ],
         "line": {
          "color": "navy",
          "width": 3
         },
         "marker": {
          "color": "navy",
          "line": {
           "color": "white",
           "width": 0.5
          },
          "opacity": 0.9,
          "size": [
           20
          ]
         },
         "mode": "markers+text",
         "name": "USA",
         "showlegend": false,
         "subplot": "ternary",
         "text": [
          "2100"
         ],
         "textfont": {
          "color": "navy",
          "size": 16
         },
         "textposition": "bottom center",
         "type": "scatterternary"
        },
        {
         "a": [
          0.47482886864976803,
          0.5135226272455429,
          0.5642369263785478,
          0.5403981252165315,
          0.5428389164393115,
          0.5720875984185636,
          0.582001210593768,
          0.5769136937435876,
          0.5533979994813297,
          0.5282408772585915,
          0.5030567143041859,
          0.47811419584435255,
          0.4636601531689475,
          0.45941466312138374,
          0.45774142466421985
         ],
         "b": [
          0.4715712727386824,
          0.41900429812032336,
          0.3473740298277107,
          0.3576626220123851,
          0.33452974276066727,
          0.2754753850917989,
          0.23446698450666018,
          0.2194575394688143,
          0.2230719133465692,
          0.2301880958765637,
          0.23345207133059898,
          0.2386360861742207,
          0.2426094417366777,
          0.24331458825662614,
          0.24030819894418984
         ],
         "c": [
          0.05359985861154964,
          0.067473074634134,
          0.08838904379374155,
          0.10193925277108327,
          0.12263134080002125,
          0.1524370164896374,
          0.18353180489957188,
          0.203628766787598,
          0.22353008717210093,
          0.24157102686484466,
          0.26349121436521517,
          0.28324971798142673,
          0.29373040509437476,
          0.2972707486219901,
          0.3019503763915904
         ],
         "line": {
          "color": "red",
          "width": 3
         },
         "marker": {
          "color": "red",
          "line": {
           "color": "white",
           "width": 0.5
          },
          "opacity": 0.9,
          "size": [
           8,
           8,
           8,
           8,
           8,
           8,
           8,
           8,
           8,
           8,
           8,
           8,
           8,
           8,
           8
          ]
         },
         "mode": "lines+markers",
         "name": "CHN",
         "showlegend": false,
         "subplot": "ternary",
         "text": [
          "2030",
          "",
          "",
          "",
          "",
          "",
          "'60",
          "",
          "",
          "",
          "'80",
          "",
          "",
          "",
          "2100"
         ],
         "textfont": {
          "color": "red",
          "size": 16
         },
         "textposition": "top center",
         "type": "scatterternary"
        },
        {
         "a": [
          0.47482886864976803
         ],
         "b": [
          0.4715712727386824
         ],
         "c": [
          0.05359985861154964
         ],
         "line": {
          "color": "red",
          "width": 3
         },
         "marker": {
          "color": "red",
          "line": {
           "color": "white",
           "width": 0.5
          },
          "opacity": 0.9,
          "size": [
           20
          ]
         },
         "mode": "markers+text",
         "name": "CHN",
         "showlegend": false,
         "subplot": "ternary",
         "text": [
          "<b>CHN"
         ],
         "textfont": {
          "color": "red",
          "size": 18
         },
         "textposition": "middle left",
         "type": "scatterternary"
        },
        {
         "a": [
          0.47482886864976803
         ],
         "b": [
          0.4715712727386824
         ],
         "c": [
          0.05359985861154964
         ],
         "line": {
          "color": "red",
          "width": 3
         },
         "marker": {
          "color": "red",
          "line": {
           "color": "white",
           "width": 0.5
          },
          "opacity": 0.9,
          "size": [
           20
          ]
         },
         "mode": "markers+text",
         "name": "CHN",
         "showlegend": false,
         "subplot": "ternary",
         "text": [
          "2030"
         ],
         "textfont": {
          "color": "red",
          "size": 16
         },
         "textposition": "middle right",
         "type": "scatterternary"
        },
        {
         "a": [
          0.5428389164393115
         ],
         "b": [
          0.33452974276066727
         ],
         "c": [
          0.12263134080002125
         ],
         "line": {
          "color": "red",
          "width": 3
         },
         "marker": {
          "color": "red",
          "line": {
           "color": "white",
           "width": 0.5
          },
          "opacity": 0.9,
          "size": [
           15
          ]
         },
         "mode": "markers+text",
         "name": "CHN",
         "showlegend": false,
         "subplot": "ternary",
         "text": [
          "2050"
         ],
         "textfont": {
          "color": "red",
          "size": 16
         },
         "textposition": "middle right",
         "type": "scatterternary"
        },
        {
         "a": [
          0.45774142466421985
         ],
         "b": [
          0.24030819894418984
         ],
         "c": [
          0.3019503763915904
         ],
         "line": {
          "color": "red",
          "width": 3
         },
         "marker": {
          "color": "red",
          "line": {
           "color": "white",
           "width": 0.5
          },
          "opacity": 0.9,
          "size": [
           20
          ]
         },
         "mode": "markers+text",
         "name": "CHN",
         "showlegend": false,
         "subplot": "ternary",
         "text": [
          "2100"
         ],
         "textfont": {
          "color": "red",
          "size": 16
         },
         "textposition": "bottom center",
         "type": "scatterternary"
        },
        {
         "a": [
          0.1398186241464581,
          0.1593244548006544,
          0.22236671643329592,
          0.2192469646160199,
          0.2515492474253902,
          0.35749110476783796,
          0.5016800467993735,
          0.6026803814694094,
          0.5970669147996814,
          0.5449851939587901,
          0.4923970242397094,
          0.44535407798124715,
          0.38830423847093043,
          0.3413000875754844,
          0.3169632912117243
         ],
         "b": [
          0.8445458443657315,
          0.8198688174532346,
          0.7425665822905443,
          0.7385220032592728,
          0.6904921383571311,
          0.5465212372016494,
          0.343830565425078,
          0.19713053924582136,
          0.18603150838689161,
          0.2386537487903377,
          0.2879288421021704,
          0.3280988035281533,
          0.3623626198318865,
          0.38599070865644003,
          0.3909900835212243
         ],
         "c": [
          0.01563553148781048,
          0.020806727746110837,
          0.0350667012761597,
          0.04223103212470742,
          0.05795861421747843,
          0.09598765803051258,
          0.1544893877755486,
          0.2001890792847692,
          0.216901576813427,
          0.21636105725087218,
          0.2196741336581202,
          0.22654711849059955,
          0.24933314169718312,
          0.27270920376807556,
          0.2920466252670514
         ],
         "line": {
          "color": "green",
          "width": 3
         },
         "marker": {
          "color": "green",
          "line": {
           "color": "white",
           "width": 0.5
          },
          "opacity": 0.9,
          "size": [
           8,
           8,
           8,
           8,
           8,
           8,
           8,
           8,
           8,
           8,
           8,
           8,
           8,
           8,
           8
          ]
         },
         "mode": "lines+markers",
         "name": "BRA",
         "showlegend": false,
         "subplot": "ternary",
         "text": [
          "2030",
          "",
          "",
          "",
          "",
          "",
          "'60",
          "",
          "",
          "",
          "'80",
          "",
          "",
          "",
          "2100"
         ],
         "textfont": {
          "color": "green",
          "size": 16
         },
         "textposition": "top center",
         "type": "scatterternary"
        },
        {
         "a": [
          0.1398186241464581
         ],
         "b": [
          0.8445458443657315
         ],
         "c": [
          0.01563553148781048
         ],
         "line": {
          "color": "green",
          "width": 3
         },
         "marker": {
          "color": "green",
          "line": {
           "color": "white",
           "width": 0.5
          },
          "opacity": 0.9,
          "size": [
           20
          ]
         },
         "mode": "markers+text",
         "name": "BRA",
         "showlegend": false,
         "subplot": "ternary",
         "text": [
          "<b>BRA"
         ],
         "textfont": {
          "color": "green",
          "size": 18
         },
         "textposition": "middle left",
         "type": "scatterternary"
        },
        {
         "a": [
          0.1398186241464581
         ],
         "b": [
          0.8445458443657315
         ],
         "c": [
          0.01563553148781048
         ],
         "line": {
          "color": "green",
          "width": 3
         },
         "marker": {
          "color": "green",
          "line": {
           "color": "white",
           "width": 0.5
          },
          "opacity": 0.9,
          "size": [
           20
          ]
         },
         "mode": "markers+text",
         "name": "BRA",
         "showlegend": false,
         "subplot": "ternary",
         "text": [
          "2030"
         ],
         "textfont": {
          "color": "green",
          "size": 16
         },
         "textposition": "middle right",
         "type": "scatterternary"
        },
        {
         "a": [
          0.2515492474253902
         ],
         "b": [
          0.6904921383571311
         ],
         "c": [
          0.05795861421747843
         ],
         "line": {
          "color": "green",
          "width": 3
         },
         "marker": {
          "color": "green",
          "line": {
           "color": "white",
           "width": 0.5
          },
          "opacity": 0.9,
          "size": [
           15
          ]
         },
         "mode": "markers+text",
         "name": "BRA",
         "showlegend": false,
         "subplot": "ternary",
         "text": [
          "2050"
         ],
         "textfont": {
          "color": "green",
          "size": 16
         },
         "textposition": "middle right",
         "type": "scatterternary"
        },
        {
         "a": [
          0.3169632912117243
         ],
         "b": [
          0.3909900835212243
         ],
         "c": [
          0.2920466252670514
         ],
         "line": {
          "color": "green",
          "width": 3
         },
         "marker": {
          "color": "green",
          "line": {
           "color": "white",
           "width": 0.5
          },
          "opacity": 0.9,
          "size": [
           20
          ]
         },
         "mode": "markers+text",
         "name": "BRA",
         "showlegend": false,
         "subplot": "ternary",
         "text": [
          "2100"
         ],
         "textfont": {
          "color": "green",
          "size": 16
         },
         "textposition": "bottom center",
         "type": "scatterternary"
        },
        {
         "a": [
          0.05137041766056778,
          0.11020937462061375,
          0.21583964773835698,
          0.2302835937013748,
          0.27070864897779523,
          0.37642389018920824,
          0.5197280094827509,
          0.6437742442090073,
          0.6995307213281637,
          0.7213469288064054,
          0.7295233079478111,
          0.7347098826857135,
          0.7358076305281827,
          0.7337877807562097,
          0.7308265917476242
         ],
         "b": [
          0.9429438944577039,
          0.8762912394773061,
          0.7532433397254505,
          0.7299427242686236,
          0.67219195865675,
          0.5287950629830003,
          0.32746191330484314,
          0.15132525438330782,
          0.06402896682429966,
          0.032046913187561386,
          0.02082048378684169,
          0.016502947693213265,
          0.017433271125926176,
          0.018507561057883426,
          0.02163986095639084
         ],
         "c": [
          0.005685687881728023,
          0.013499385902079896,
          0.030917012536192473,
          0.0397736820300016,
          0.05709939236545461,
          0.0947810468277913,
          0.152810077212406,
          0.20490050140768493,
          0.23644031184753664,
          0.24660615800603325,
          0.24965620826534712,
          0.24878716962107333,
          0.24675909834589116,
          0.24770465818590673,
          0.24753354729598503
         ],
         "line": {
          "color": "orange",
          "width": 3
         },
         "marker": {
          "color": "orange",
          "line": {
           "color": "white",
           "width": 0.5
          },
          "opacity": 0.9,
          "size": [
           8,
           8,
           8,
           8,
           8,
           8,
           8,
           8,
           8,
           8,
           8,
           8,
           8,
           8,
           8
          ]
         },
         "mode": "lines+markers",
         "name": "IND",
         "showlegend": false,
         "subplot": "ternary",
         "text": [
          "2030",
          "",
          "",
          "",
          "",
          "",
          "'60",
          "",
          "",
          "",
          "'80",
          "",
          "",
          "",
          "2100"
         ],
         "textfont": {
          "color": "orange",
          "size": 16
         },
         "textposition": "top center",
         "type": "scatterternary"
        },
        {
         "a": [
          0.05137041766056778
         ],
         "b": [
          0.9429438944577039
         ],
         "c": [
          0.005685687881728023
         ],
         "line": {
          "color": "orange",
          "width": 3
         },
         "marker": {
          "color": "orange",
          "line": {
           "color": "white",
           "width": 0.5
          },
          "opacity": 0.9,
          "size": [
           20
          ]
         },
         "mode": "markers+text",
         "name": "IND",
         "showlegend": false,
         "subplot": "ternary",
         "text": [
          "<b>IND"
         ],
         "textfont": {
          "color": "orange",
          "size": 18
         },
         "textposition": "middle left",
         "type": "scatterternary"
        },
        {
         "a": [
          0.05137041766056778
         ],
         "b": [
          0.9429438944577039
         ],
         "c": [
          0.005685687881728023
         ],
         "line": {
          "color": "orange",
          "width": 3
         },
         "marker": {
          "color": "orange",
          "line": {
           "color": "white",
           "width": 0.5
          },
          "opacity": 0.9,
          "size": [
           20
          ]
         },
         "mode": "markers+text",
         "name": "IND",
         "showlegend": false,
         "subplot": "ternary",
         "text": [
          "2030"
         ],
         "textfont": {
          "color": "orange",
          "size": 16
         },
         "textposition": "middle right",
         "type": "scatterternary"
        },
        {
         "a": [
          0.27070864897779523
         ],
         "b": [
          0.67219195865675
         ],
         "c": [
          0.05709939236545461
         ],
         "line": {
          "color": "orange",
          "width": 3
         },
         "marker": {
          "color": "orange",
          "line": {
           "color": "white",
           "width": 0.5
          },
          "opacity": 0.9,
          "size": [
           15
          ]
         },
         "mode": "markers+text",
         "name": "IND",
         "showlegend": false,
         "subplot": "ternary",
         "text": [
          "2050"
         ],
         "textfont": {
          "color": "orange",
          "size": 16
         },
         "textposition": "middle right",
         "type": "scatterternary"
        },
        {
         "a": [
          0.7308265917476242
         ],
         "b": [
          0.02163986095639084
         ],
         "c": [
          0.24753354729598503
         ],
         "line": {
          "color": "orange",
          "width": 3
         },
         "marker": {
          "color": "orange",
          "line": {
           "color": "white",
           "width": 0.5
          },
          "opacity": 0.9,
          "size": [
           20
          ]
         },
         "mode": "markers+text",
         "name": "IND",
         "showlegend": false,
         "subplot": "ternary",
         "text": [
          "2100"
         ],
         "textfont": {
          "color": "orange",
          "size": 16
         },
         "textposition": "bottom center",
         "type": "scatterternary"
        },
        {
         "a": [
          0.055948279479563816,
          0.14736331666660937,
          0.3054413248903729,
          0.35480288269865146,
          0.3940437280995558,
          0.462780748327741,
          0.49863569592205537,
          0.4809286845837738,
          0.43766198584289717,
          0.40309756074390257,
          0.36995429264072,
          0.35353741583081266,
          0.3472432379165134,
          0.35275513133728953,
          0.3795017465483359
         ],
         "b": [
          0.9379221647556113,
          0.8353452190366906,
          0.6530947349400258,
          0.5876716492181737,
          0.5282468246588283,
          0.42641828862644016,
          0.35622214283430376,
          0.3485745486272599,
          0.37135454611694463,
          0.395203845316728,
          0.4204491885865042,
          0.4297749749434597,
          0.4294884751849134,
          0.4195658887117097,
          0.39796478250916967
         ],
         "c": [
          0.006129555764824738,
          0.017291464296700112,
          0.04146394016960138,
          0.05752546808317473,
          0.07770944724161576,
          0.11080096304581889,
          0.1451421612436409,
          0.17049676678896625,
          0.1909834680401582,
          0.20169859393936954,
          0.2095965187727758,
          0.21668760922572763,
          0.22326828689857314,
          0.22767897995100084,
          0.22253347094249443
         ],
         "line": {
          "color": "purple",
          "width": 3
         },
         "marker": {
          "color": "purple",
          "line": {
           "color": "white",
           "width": 0.5
          },
          "opacity": 0.9,
          "size": [
           8,
           8,
           8,
           8,
           8,
           8,
           8,
           8,
           8,
           8,
           8,
           8,
           8,
           8,
           8
          ]
         },
         "mode": "lines+markers",
         "name": "UGA",
         "showlegend": false,
         "subplot": "ternary",
         "text": [
          "2030",
          "",
          "",
          "",
          "",
          "",
          "'60",
          "",
          "",
          "",
          "'80",
          "",
          "",
          "",
          "2100"
         ],
         "textfont": {
          "color": "purple",
          "size": 16
         },
         "textposition": "top center",
         "type": "scatterternary"
        },
        {
         "a": [
          0.055948279479563816
         ],
         "b": [
          0.9379221647556113
         ],
         "c": [
          0.006129555764824738
         ],
         "line": {
          "color": "purple",
          "width": 3
         },
         "marker": {
          "color": "purple",
          "line": {
           "color": "white",
           "width": 0.5
          },
          "opacity": 0.9,
          "size": [
           20
          ]
         },
         "mode": "markers+text",
         "name": "UGA",
         "showlegend": false,
         "subplot": "ternary",
         "text": [
          "<b>UGA"
         ],
         "textfont": {
          "color": "purple",
          "size": 18
         },
         "textposition": "middle left",
         "type": "scatterternary"
        },
        {
         "a": [
          0.055948279479563816
         ],
         "b": [
          0.9379221647556113
         ],
         "c": [
          0.006129555764824738
         ],
         "line": {
          "color": "purple",
          "width": 3
         },
         "marker": {
          "color": "purple",
          "line": {
           "color": "white",
           "width": 0.5
          },
          "opacity": 0.9,
          "size": [
           20
          ]
         },
         "mode": "markers+text",
         "name": "UGA",
         "showlegend": false,
         "subplot": "ternary",
         "text": [
          "2030"
         ],
         "textfont": {
          "color": "purple",
          "size": 16
         },
         "textposition": "middle right",
         "type": "scatterternary"
        },
        {
         "a": [
          0.3940437280995558
         ],
         "b": [
          0.5282468246588283
         ],
         "c": [
          0.07770944724161576
         ],
         "line": {
          "color": "purple",
          "width": 3
         },
         "marker": {
          "color": "purple",
          "line": {
           "color": "white",
           "width": 0.5
          },
          "opacity": 0.9,
          "size": [
           15
          ]
         },
         "mode": "markers+text",
         "name": "UGA",
         "showlegend": false,
         "subplot": "ternary",
         "text": [
          "2050"
         ],
         "textfont": {
          "color": "purple",
          "size": 16
         },
         "textposition": "middle right",
         "type": "scatterternary"
        },
        {
         "a": [
          0.3795017465483359
         ],
         "b": [
          0.39796478250916967
         ],
         "c": [
          0.22253347094249443
         ],
         "line": {
          "color": "purple",
          "width": 3
         },
         "marker": {
          "color": "purple",
          "line": {
           "color": "white",
           "width": 0.5
          },
          "opacity": 0.9,
          "size": [
           20
          ]
         },
         "mode": "markers+text",
         "name": "UGA",
         "showlegend": false,
         "subplot": "ternary",
         "text": [
          "2100"
         ],
         "textfont": {
          "color": "purple",
          "size": 16
         },
         "textposition": "bottom center",
         "type": "scatterternary"
        },
        {
         "fill": "tozeroy",
         "marker": {
          "color": "goldenrod"
         },
         "mode": "lines",
         "name": "Allocation rule",
         "showlegend": true,
         "stackgroup": "one",
         "type": "scatter",
         "x": [
          2030,
          2035,
          2040,
          2045,
          2050,
          2055,
          2060,
          2065,
          2070,
          2075,
          2080,
          2085,
          2090,
          2095,
          2100
         ],
         "xaxis": "x2",
         "y": [
          0.510856736022507,
          0.6215376464652483,
          0.6300970118017276,
          0.5072116470460591,
          0.4524607983412834,
          0.4396123081838129,
          0.43906830076341513,
          0.4725477737178427,
          0.533324681382933,
          0.5616186741989325,
          0.5648692895047616,
          0.5582169705009818,
          0.5476058238262435,
          0.5316252242415843,
          0.5092285828209386
         ],
         "yaxis": "y2"
        },
        {
         "fill": "tonexty",
         "marker": {
          "color": "salmon"
         },
         "mode": "lines",
         "name": "Discount factor",
         "showlegend": true,
         "stackgroup": "one",
         "type": "scatter",
         "x": [
          2030,
          2035,
          2040,
          2045,
          2050,
          2055,
          2060,
          2065,
          2070,
          2075,
          2080,
          2085,
          2090,
          2095,
          2100
         ],
         "xaxis": "x2",
         "y": [
          0.12705143821175494,
          0.14243568602513562,
          0.13571922553913432,
          0.10226965496449804,
          0.08492545780249942,
          0.07415268865928544,
          0.055694045801505464,
          0.028117891339089145,
          0.008545990244122758,
          0.0018980473196494735,
          0.000027528579274855678,
          0,
          0,
          0,
          0
         ],
         "yaxis": "y2"
        },
        {
         "fill": "tonexty",
         "marker": {
          "color": "tomato"
         },
         "mode": "lines",
         "name": "Historical startyear",
         "showlegend": true,
         "stackgroup": "one",
         "type": "scatter",
         "x": [
          2030,
          2035,
          2040,
          2045,
          2050,
          2055,
          2060,
          2065,
          2070,
          2075,
          2080,
          2085,
          2090,
          2095,
          2100
         ],
         "xaxis": "x2",
         "y": [
          0.08339728960681271,
          0.09206516794758465,
          0.08464153187064571,
          0.0627506721264714,
          0.05201649465409535,
          0.045417556442525396,
          0.034111876379232256,
          0.017221843143050346,
          0.005234307840548638,
          0.0011625292845360066,
          0.00001686089200602435,
          0,
          0,
          0,
          0
         ],
         "yaxis": "y2"
        },
        {
         "fill": "tonexty",
         "marker": {
          "color": "darkred"
         },
         "mode": "lines",
         "name": "Convergence year",
         "showlegend": true,
         "stackgroup": "one",
         "type": "scatter",
         "x": [
          2030,
          2035,
          2040,
          2045,
          2050,
          2055,
          2060,
          2065,
          2070,
          2075,
          2080,
          2085,
          2090,
          2095,
          2100
         ],
         "xaxis": "x2",
         "y": [
          0.21439536053689293,
          0.07273466674129898,
          0.053801881933849625,
          0.25118507602520135,
          0.3270466211069148,
          0.308605283493399,
          0.2432546892252361,
          0.12806530466042906,
          0.040968816558382234,
          0.00955938469587303,
          0.00013265636466899312,
          0,
          0,
          0,
          0
         ],
         "yaxis": "y2"
        },
        {
         "fill": "tonexty",
         "marker": {
          "color": "dodgerblue"
         },
         "mode": "lines",
         "name": "Climate sensitivity",
         "showlegend": true,
         "stackgroup": "one",
         "type": "scatter",
         "x": [
          2030,
          2035,
          2040,
          2045,
          2050,
          2055,
          2060,
          2065,
          2070,
          2075,
          2080,
          2085,
          2090,
          2095,
          2100
         ],
         "xaxis": "x2",
         "y": [
          0.006546968961194071,
          0.008234278181082308,
          0.012695073519014362,
          0.011404303946002474,
          0.013803014233878832,
          0.02368211673025569,
          0.04332403950525532,
          0.0688747521891419,
          0.0814679597608577,
          0.08039552676626956,
          0.07599316907637177,
          0.0785102309372088,
          0.08201589359881853,
          0.08584430213819151,
          0.0931018414966319
         ],
         "yaxis": "y2"
        },
        {
         "fill": "tonexty",
         "marker": {
          "color": "steelblue"
         },
         "mode": "lines",
         "name": "Socio-economic scenario",
         "showlegend": true,
         "stackgroup": "one",
         "type": "scatter",
         "x": [
          2030,
          2035,
          2040,
          2045,
          2050,
          2055,
          2060,
          2065,
          2070,
          2075,
          2080,
          2085,
          2090,
          2095,
          2100
         ],
         "xaxis": "x2",
         "y": [
          0.000014157895198135182,
          0.0001588378633268749,
          0.001334650080508442,
          0.003890811285228768,
          0.007427004016371974,
          0.016340066634552303,
          0.037553409049614295,
          0.0688854297816895,
          0.09033282909256338,
          0.11126068789456316,
          0.13678255427180047,
          0.13317811525952614,
          0.12918502255221856,
          0.1310437062221956,
          0.1261295482093547
         ],
         "yaxis": "y2"
        },
        {
         "fill": "tonexty",
         "marker": {
          "color": "forestgreen"
         },
         "mode": "lines",
         "name": "Peak temperature",
         "showlegend": true,
         "stackgroup": "one",
         "type": "scatter",
         "x": [
          2030,
          2035,
          2040,
          2045,
          2050,
          2055,
          2060,
          2065,
          2070,
          2075,
          2080,
          2085,
          2090,
          2095,
          2100
         ],
         "xaxis": "x2",
         "y": [
          0.047942972095971,
          0.051895371804371426,
          0.06509111562945999,
          0.0459894203469654,
          0.04324976325758633,
          0.058923105352772884,
          0.08462755295588513,
          0.11484698665306196,
          0.11707820123731831,
          0.10767962331402463,
          0.0976023322706508,
          0.09575172730437555,
          0.09460464349403053,
          0.09423192275699688,
          0.09718933438075313
         ],
         "yaxis": "y2"
        },
        {
         "fill": "tonexty",
         "marker": {
          "color": "lightgreen"
         },
         "mode": "lines",
         "name": "Non-CO<sub>2</sub> reduction",
         "showlegend": true,
         "stackgroup": "one",
         "type": "scatter",
         "x": [
          2030,
          2035,
          2040,
          2045,
          2050,
          2055,
          2060,
          2065,
          2070,
          2075,
          2080,
          2085,
          2090,
          2095,
          2100
         ],
         "xaxis": "x2",
         "y": [
          0.008484541190893287,
          0.010585358455975108,
          0.01627621685237604,
          0.014798260028278028,
          0.018122234516706155,
          0.03121002727401066,
          0.05731139266790737,
          0.0912065886672381,
          0.10781986993173648,
          0.10719398187383244,
          0.10195436921988926,
          0.10595971515156659,
          0.11139659618976785,
          0.11715588773536524,
          0.12765980907438182
         ],
         "yaxis": "y2"
        },
        {
         "fill": "tonexty",
         "marker": {
          "color": "yellowgreen"
         },
         "mode": "lines",
         "name": "Timing of action",
         "showlegend": true,
         "stackgroup": "one",
         "type": "scatter",
         "x": [
          2030,
          2035,
          2040,
          2045,
          2050,
          2055,
          2060,
          2065,
          2070,
          2075,
          2080,
          2085,
          2090,
          2095,
          2100
         ],
         "xaxis": "x2",
         "y": [
          0.0012480331111231538,
          0.0002912260258829063,
          0.0002629326247135487,
          0.0004751564205200978,
          0.0008552329247254929,
          0.0015412382948599484,
          0.002995851765405513,
          0.005137859534671754,
          0.006578044699358157,
          0.006862990695158044,
          0.006828707049965269,
          0.007608891428667302,
          0.008571956706099552,
          0.009514693246737359,
          0.010895687093031268
         ],
         "yaxis": "y2"
        },
        {
         "fill": "tonexty",
         "marker": {
          "color": "lawngreen"
         },
         "mode": "lines",
         "name": "Negative emissions",
         "showlegend": true,
         "stackgroup": "one",
         "type": "scatter",
         "x": [
          2030,
          2035,
          2040,
          2045,
          2050,
          2055,
          2060,
          2065,
          2070,
          2075,
          2080,
          2085,
          2090,
          2095,
          2100
         ],
         "xaxis": "x2",
         "y": [
          0.00006250236765269188,
          0.00006176049009388064,
          0.00008036014857021152,
          0.000024997810775432124,
          0.00009337914593818633,
          0.0005156089345256757,
          0.002058841886543339,
          0.00509557031378562,
          0.008649299252179277,
          0.012368553957161254,
          0.01579253277061091,
          0.02077434941767377,
          0.026620063632821385,
          0.030584263658929096,
          0.03579519692490857
         ],
         "yaxis": "y2"
        },
        {
         "fill": "tozeroy",
         "marker": {
          "color": "goldenrod"
         },
         "mode": "lines",
         "name": "Allocation rule",
         "showlegend": false,
         "stackgroup": "one",
         "type": "scatter",
         "x": [
          2030,
          2035,
          2040,
          2045,
          2050,
          2055,
          2060,
          2065,
          2070,
          2075,
          2080,
          2085,
          2090,
          2095,
          2100
         ],
         "xaxis": "x5",
         "y": [
          0.14341307352090055,
          0.14983593222112251,
          0.14521408416243292,
          0.14978508806580793,
          0.1547049988204516,
          0.16150927763061387,
          0.17979301629628477,
          0.19919312863542385,
          0.2162556158292706,
          0.22792906624013326,
          0.23340002380993288,
          0.2386360861742207,
          0.2426094417366777,
          0.24331458825662614,
          0.24030819894418984
         ],
         "yaxis": "y5"
        },
        {
         "fill": "tonexty",
         "marker": {
          "color": "salmon"
         },
         "mode": "lines",
         "name": "Discount factor",
         "showlegend": false,
         "stackgroup": "one",
         "type": "scatter",
         "x": [
          2030,
          2035,
          2040,
          2045,
          2050,
          2055,
          2060,
          2065,
          2070,
          2075,
          2080,
          2085,
          2090,
          2095,
          2100
         ],
         "xaxis": "x5",
         "y": [
          0.1470778892907899,
          0.1410753210562331,
          0.10025588572361768,
          0.08517523776587103,
          0.06926831398313552,
          0.04320353716681189,
          0.019991448740392624,
          0.00676405843477027,
          0.0018548778853638443,
          0.0004062949761441912,
          0.0000059115977767691235,
          0,
          0,
          0,
          0
         ],
         "yaxis": "y5"
        },
        {
         "fill": "tonexty",
         "marker": {
          "color": "tomato"
         },
         "mode": "lines",
         "name": "Historical startyear",
         "showlegend": false,
         "stackgroup": "one",
         "type": "scatter",
         "x": [
          2030,
          2035,
          2040,
          2045,
          2050,
          2055,
          2060,
          2065,
          2070,
          2075,
          2080,
          2085,
          2090,
          2095,
          2100
         ],
         "xaxis": "x5",
         "y": [
          0.11983837493832519,
          0.11363185601150634,
          0.0786443613926029,
          0.0660222879904664,
          0.053622950217308014,
          0.033444967104001036,
          0.015475893571097672,
          0.00523623127733244,
          0.0014359086269346245,
          0.0003145233602806046,
          0.000004576319452872139,
          0,
          0,
          0,
          0
         ],
         "yaxis": "y5"
        },
        {
         "fill": "tonexty",
         "marker": {
          "color": "darkred"
         },
         "mode": "lines",
         "name": "Convergence year",
         "showlegend": false,
         "stackgroup": "one",
         "type": "scatter",
         "x": [
          2030,
          2035,
          2040,
          2045,
          2050,
          2055,
          2060,
          2065,
          2070,
          2075,
          2080,
          2085,
          2090,
          2095,
          2100
         ],
         "xaxis": "x5",
         "y": [
          0.06124193498866675,
          0.014461188831461382,
          0.02325969854905715,
          0.0566800081902397,
          0.05693347973977213,
          0.03731760319037208,
          0.019206625898885114,
          0.008264121121287755,
          0.0035255110050001117,
          0.001538211300005635,
          0.000041559603436461444,
          0,
          0,
          0,
          0
         ],
         "yaxis": "y5"
        },
        {
         "fill": "tonexty",
         "marker": {
          "color": "dodgerblue"
         },
         "mode": "lines",
         "name": "Climate sensitivity",
         "showlegend": false,
         "stackgroup": "one",
         "type": "scatter",
         "x": [
          2030,
          2035,
          2040,
          2045,
          2050,
          2055,
          2060,
          2065,
          2070,
          2075,
          2080,
          2085,
          2090,
          2095,
          2100
         ],
         "xaxis": "x5",
         "y": [
          0.053378114145781315,
          0.06682148942606018,
          0.08761987570367998,
          0.10117269228042002,
          0.12141035716677472,
          0.14847952766436812,
          0.17264237034536467,
          0.18337294299648432,
          0.18562546185198853,
          0.17884470151711837,
          0.17031346948074835,
          0.16048923644779814,
          0.15430086074815821,
          0.15341211606693617,
          0.15308791436913774
         ],
         "yaxis": "y5"
        },
        {
         "fill": "tonexty",
         "marker": {
          "color": "steelblue"
         },
         "mode": "lines",
         "name": "Socio-economic scenario",
         "showlegend": false,
         "stackgroup": "one",
         "type": "scatter",
         "x": [
          2030,
          2035,
          2040,
          2045,
          2050,
          2055,
          2060,
          2065,
          2070,
          2075,
          2080,
          2085,
          2090,
          2095,
          2100
         ],
         "xaxis": "x5",
         "y": [
          0.00022174446576831957,
          0.0006515852080738247,
          0.0007691680900615684,
          0.0007665604906632609,
          0.0012209836332465307,
          0.003957488825269268,
          0.010889434554207211,
          0.020255823791113684,
          0.03790462532011242,
          0.0627263253477263,
          0.0931777448844668,
          0.12276048153362858,
          0.13942954434621657,
          0.14385863255505393,
          0.14886246202245262
         ],
         "yaxis": "y5"
        },
        {
         "fill": "tonexty",
         "marker": {
          "color": "forestgreen"
         },
         "mode": "lines",
         "name": "Peak temperature",
         "showlegend": false,
         "stackgroup": "one",
         "type": "scatter",
         "x": [
          2030,
          2035,
          2040,
          2045,
          2050,
          2055,
          2060,
          2065,
          2070,
          2075,
          2080,
          2085,
          2090,
          2095,
          2100
         ],
         "xaxis": "x5",
         "y": [
          0.3946344704724386,
          0.4243942452755884,
          0.4498789753955283,
          0.40556894265152077,
          0.37627329912996094,
          0.3644885756451493,
          0.334417422358589,
          0.3072468687371166,
          0.27228001024124554,
          0.24553298302829416,
          0.22166537460778615,
          0.20030138526157906,
          0.18389498021195466,
          0.1739151784371513,
          0.16566634890079884
         ],
         "yaxis": "y5"
        },
        {
         "fill": "tonexty",
         "marker": {
          "color": "lightgreen"
         },
         "mode": "lines",
         "name": "Non-CO<sub>2</sub> reduction",
         "showlegend": false,
         "stackgroup": "one",
         "type": "scatter",
         "x": [
          2030,
          2035,
          2040,
          2045,
          2050,
          2055,
          2060,
          2065,
          2070,
          2075,
          2080,
          2085,
          2090,
          2095,
          2100
         ],
         "xaxis": "x5",
         "y": [
          0.06949259523776036,
          0.08629675928309477,
          0.1126384936193233,
          0.13129468963396101,
          0.15925179341316348,
          0.1955113123233119,
          0.22805192953979167,
          0.24275217419967635,
          0.24630765748763536,
          0.2394950687806582,
          0.22975003282136655,
          0.21838816975529615,
          0.2117665801246059,
          0.21173629543312655,
          0.2125560861966973
         ],
         "yaxis": "y5"
        },
        {
         "fill": "tonexty",
         "marker": {
          "color": "yellowgreen"
         },
         "mode": "lines",
         "name": "Timing of action",
         "showlegend": false,
         "stackgroup": "one",
         "type": "scatter",
         "x": [
          2030,
          2035,
          2040,
          2045,
          2050,
          2055,
          2060,
          2065,
          2070,
          2075,
          2080,
          2085,
          2090,
          2095,
          2100
         ],
         "xaxis": "x5",
         "y": [
          0.010191459264146751,
          0.0023390236399711394,
          0.001178128658084858,
          0.003344565887759832,
          0.006640262100132552,
          0.009105068531393907,
          0.01161438657620485,
          0.013573829826379677,
          0.015149034703189939,
          0.015607254099673801,
          0.015816063935827608,
          0.016228353803750636,
          0.01693018618292859,
          0.017891997014336452,
          0.01893196879927923
         ],
         "yaxis": "y5"
        },
        {
         "fill": "tonexty",
         "marker": {
          "color": "lawngreen"
         },
         "mode": "lines",
         "name": "Negative emissions",
         "showlegend": false,
         "stackgroup": "one",
         "type": "scatter",
         "x": [
          2030,
          2035,
          2040,
          2045,
          2050,
          2055,
          2060,
          2065,
          2070,
          2075,
          2080,
          2085,
          2090,
          2095,
          2100
         ],
         "xaxis": "x5",
         "y": [
          0.0005103436754223133,
          0.0004925990468885368,
          0.0005413287056114226,
          0.00018992704328993327,
          0.0006735617960544974,
          0.0029826419187084867,
          0.007917472119182459,
          0.013340820980414949,
          0.019661297049258886,
          0.027605571349965316,
          0.03582524293920553,
          0.043196287023726694,
          0.051068406649458324,
          0.05587119223676945,
          0.06058702076744446
         ],
         "yaxis": "y5"
        },
        {
         "fill": "tozeroy",
         "marker": {
          "color": "goldenrod"
         },
         "mode": "lines",
         "name": "Allocation rule",
         "showlegend": false,
         "stackgroup": "one",
         "type": "scatter",
         "x": [
          2030,
          2035,
          2040,
          2045,
          2050,
          2055,
          2060,
          2065,
          2070,
          2075,
          2080,
          2085,
          2090,
          2095,
          2100
         ],
         "xaxis": "x8",
         "y": [
          0.5992641904976386,
          0.6822793707275913,
          0.6123066092080193,
          0.45238628484768,
          0.3638263430545943,
          0.28338197925773684,
          0.1799741031468053,
          0.0901701011173213,
          0.045380845256503946,
          0.02770837260024015,
          0.02073050354340164,
          0.016502947693213265,
          0.017433271125926176,
          0.018507561057883426,
          0.02163986095639084
         ],
         "yaxis": "y8"
        },
        {
         "fill": "tonexty",
         "marker": {
          "color": "salmon"
         },
         "mode": "lines",
         "name": "Discount factor",
         "showlegend": false,
         "stackgroup": "one",
         "type": "scatter",
         "x": [
          2030,
          2035,
          2040,
          2045,
          2050,
          2055,
          2060,
          2065,
          2070,
          2075,
          2080,
          2085,
          2090,
          2095,
          2100
         ],
         "xaxis": "x8",
         "y": [
          0.07307224052679646,
          0.07392835720991003,
          0.06278973609725637,
          0.044735539523839345,
          0.0340713124290454,
          0.024734836131904008,
          0.014071979455029946,
          0.005547305895208805,
          0.001586682180784207,
          0.0003462751585611906,
          0.000005133003467584899,
          0,
          0,
          0,
          0
         ],
         "yaxis": "y8"
        },
        {
         "fill": "tonexty",
         "marker": {
          "color": "tomato"
         },
         "mode": "lines",
         "name": "Historical startyear",
         "showlegend": false,
         "stackgroup": "one",
         "type": "scatter",
         "x": [
          2030,
          2035,
          2040,
          2045,
          2050,
          2055,
          2060,
          2065,
          2070,
          2075,
          2080,
          2085,
          2090,
          2095,
          2100
         ],
         "xaxis": "x8",
         "y": [
          0.040649729571494285,
          0.04107239407266752,
          0.034779507102415924,
          0.024745622327295044,
          0.018843898348271333,
          0.013680136539062674,
          0.007782812802986303,
          0.0030680575430946885,
          0.0008775489288643757,
          0.00019151495269816382,
          0.000002838915791121429,
          0,
          0,
          0,
          0
         ],
         "yaxis": "y8"
        },
        {
         "fill": "tonexty",
         "marker": {
          "color": "darkred"
         },
         "mode": "lines",
         "name": "Convergence year",
         "showlegend": false,
         "stackgroup": "one",
         "type": "scatter",
         "x": [
          2030,
          2035,
          2040,
          2045,
          2050,
          2055,
          2060,
          2065,
          2070,
          2075,
          2080,
          2085,
          2090,
          2095,
          2100
         ],
         "xaxis": "x8",
         "y": [
          0.22995773386177457,
          0.07901111746713742,
          0.04336748731775898,
          0.20807527756980923,
          0.25545040482483894,
          0.20699811105429686,
          0.12563301790002157,
          0.05253978982768304,
          0.01618389045814713,
          0.0038007504760618764,
          0.0000820083241813432,
          0,
          0,
          0,
          0
         ],
         "yaxis": "y8"
        },
        {
         "fill": "tonexty",
         "marker": {
          "color": "dodgerblue"
         },
         "mode": "lines",
         "name": "Climate sensitivity",
         "showlegend": false,
         "stackgroup": "one",
         "type": "scatter",
         "x": [
          2030,
          2035,
          2040,
          2045,
          2050,
          2055,
          2060,
          2065,
          2070,
          2075,
          2080,
          2085,
          2090,
          2095,
          2100
         ],
         "xaxis": "x8",
         "y": [
          0.005642792422556906,
          0.013428096884349474,
          0.030683739954468412,
          0.039087830789002555,
          0.05525057313129167,
          0.08959153233481561,
          0.14318938238307122,
          0.1939228632849205,
          0.22651434760030342,
          0.2394721937944942,
          0.24574294068054664,
          0.24716765879454816,
          0.2455580681189975,
          0.24602960341947913,
          0.24520564610060983
         ],
         "yaxis": "y8"
        },
        {
         "fill": "tonexty",
         "marker": {
          "color": "steelblue"
         },
         "mode": "lines",
         "name": "Socio-economic scenario",
         "showlegend": false,
         "stackgroup": "one",
         "type": "scatter",
         "x": [
          2030,
          2035,
          2040,
          2045,
          2050,
          2055,
          2060,
          2065,
          2070,
          2075,
          2080,
          2085,
          2090,
          2095,
          2100
         ],
         "xaxis": "x8",
         "y": [
          0.00004289545917111718,
          0.00007128901773042248,
          0.00023327258172406123,
          0.0006858512409990514,
          0.0018488192341629428,
          0.0051895144929757,
          0.009620694829334784,
          0.010977638122764416,
          0.009925964247233226,
          0.007133964211539044,
          0.003913267584800482,
          0.0016195108265251816,
          0.0012010302268936539,
          0.0016750547664276109,
          0.0023279011953752015
         ],
         "yaxis": "y8"
        },
        {
         "fill": "tonexty",
         "marker": {
          "color": "forestgreen"
         },
         "mode": "lines",
         "name": "Peak temperature",
         "showlegend": false,
         "stackgroup": "one",
         "type": "scatter",
         "x": [
          2030,
          2035,
          2040,
          2045,
          2050,
          2055,
          2060,
          2065,
          2070,
          2075,
          2080,
          2085,
          2090,
          2095,
          2100
         ],
         "xaxis": "x8",
         "y": [
          0.042721507398416785,
          0.09150083118216842,
          0.1751310001517778,
          0.1783055016838731,
          0.19612533644892954,
          0.2534665710532183,
          0.3180993412985276,
          0.3629602916767651,
          0.360995998071372,
          0.34726707798218914,
          0.3261065870871728,
          0.30987378626486106,
          0.29410658801035916,
          0.2800719438457151,
          0.26735167924946135
         ],
         "yaxis": "y8"
        },
        {
         "fill": "tonexty",
         "marker": {
          "color": "lightgreen"
         },
         "mode": "lines",
         "name": "Non-CO<sub>2</sub> reduction",
         "showlegend": false,
         "stackgroup": "one",
         "type": "scatter",
         "x": [
          2030,
          2035,
          2040,
          2045,
          2050,
          2055,
          2060,
          2065,
          2070,
          2075,
          2080,
          2085,
          2090,
          2095,
          2100
         ],
         "xaxis": "x8",
         "y": [
          0.007526720200273651,
          0.017898274770435853,
          0.04036316916170094,
          0.05118715031131195,
          0.07226701175071881,
          0.11729244391393145,
          0.18793704192074057,
          0.25517394338278376,
          0.29874753139337723,
          0.3186265534060518,
          0.33004875392598737,
          0.3345179197812887,
          0.334925749034003,
          0.33711973716436816,
          0.33789655357225395
         ],
         "yaxis": "y8"
        },
        {
         "fill": "tonexty",
         "marker": {
          "color": "yellowgreen"
         },
         "mode": "lines",
         "name": "Timing of action",
         "showlegend": false,
         "stackgroup": "one",
         "type": "scatter",
         "x": [
          2030,
          2035,
          2040,
          2045,
          2050,
          2055,
          2060,
          2065,
          2070,
          2075,
          2080,
          2085,
          2090,
          2095,
          2100
         ],
         "xaxis": "x8",
         "y": [
          0.0010675454197077829,
          0.0007086832867118973,
          0.00015827972652283952,
          0.0007159300096995675,
          0.00210942094470174,
          0.004298444586469042,
          0.00823281841088885,
          0.013048095422117168,
          0.017398200564205792,
          0.02004781589984492,
          0.02229713279260373,
          0.024379387798184497,
          0.026251347533419952,
          0.027928313335094726,
          0.029528764104946075
         ],
         "yaxis": "y8"
        },
        {
         "fill": "tonexty",
         "marker": {
          "color": "lawngreen"
         },
         "mode": "lines",
         "name": "Negative emissions",
         "showlegend": false,
         "stackgroup": "one",
         "type": "scatter",
         "x": [
          2030,
          2035,
          2040,
          2045,
          2050,
          2055,
          2060,
          2065,
          2070,
          2075,
          2080,
          2085,
          2090,
          2095,
          2100
         ],
         "xaxis": "x8",
         "y": [
          0.000054644642169559506,
          0.00010158538129757221,
          0.00018719869835540873,
          0.00007501169649017409,
          0.00020687983344514236,
          0.001366430635589456,
          0.005458807852593856,
          0.012591913727341303,
          0.022388991299208735,
          0.035405481518319466,
          0.05107083414204724,
          0.06593878884137919,
          0.08052394595040059,
          0.08866778641103173,
          0.09604959482096287
         ],
         "yaxis": "y8"
        },
        {
         "fill": "tozeroy",
         "marker": {
          "color": "goldenrod"
         },
         "mode": "lines",
         "name": "Allocation rule",
         "showlegend": false,
         "stackgroup": "one",
         "type": "scatter",
         "x": [
          2030,
          2035,
          2040,
          2045,
          2050,
          2055,
          2060,
          2065,
          2070,
          2075,
          2080,
          2085,
          2090,
          2095,
          2100
         ],
         "xaxis": "x11",
         "y": [
          0.6701599088847394,
          0.7196953377722397,
          0.6187510864367216,
          0.4568413303658759,
          0.3643598431417936,
          0.31426563103081107,
          0.3013469080017157,
          0.3294866628332406,
          0.36557835167107233,
          0.39352313520369786,
          0.4204022905912703,
          0.4297749749434597,
          0.4294884751849134,
          0.4195658887117097,
          0.39796478250916967
         ],
         "yaxis": "y11"
        },
        {
         "fill": "tonexty",
         "marker": {
          "color": "salmon"
         },
         "mode": "lines",
         "name": "Discount factor",
         "showlegend": false,
         "stackgroup": "one",
         "type": "scatter",
         "x": [
          2030,
          2035,
          2040,
          2045,
          2050,
          2055,
          2060,
          2065,
          2070,
          2075,
          2080,
          2085,
          2090,
          2095,
          2100
         ],
         "xaxis": "x11",
         "y": [
          0.01694004151204011,
          0.013003700017669663,
          0.0091083848730259,
          0.005992226642233412,
          0.0038637539173101733,
          0.0020710548399540908,
          0.00082397435694795,
          0.00023252766759961592,
          0.000051843952174095536,
          0.000009479027977203614,
          1.2502729233461954e-7,
          0,
          0,
          0,
          0
         ],
         "yaxis": "y11"
        },
        {
         "fill": "tonexty",
         "marker": {
          "color": "tomato"
         },
         "mode": "lines",
         "name": "Historical startyear",
         "showlegend": false,
         "stackgroup": "one",
         "type": "scatter",
         "x": [
          2030,
          2035,
          2040,
          2045,
          2050,
          2055,
          2060,
          2065,
          2070,
          2075,
          2080,
          2085,
          2090,
          2095,
          2100
         ],
         "xaxis": "x11",
         "y": [
          0.0038547228525920543,
          0.0029798318137931887,
          0.002121528544504705,
          0.001406131813240152,
          0.0009073995892790225,
          0.0004863888456831041,
          0.00019351094072195634,
          0.00005460930294658814,
          0.000012175594615536794,
          0.0000022261593494205076,
          2.936271354603144e-8,
          0,
          0,
          0,
          0
         ],
         "yaxis": "y11"
        },
        {
         "fill": "tonexty",
         "marker": {
          "color": "darkred"
         },
         "mode": "lines",
         "name": "Convergence year",
         "showlegend": false,
         "stackgroup": "one",
         "type": "scatter",
         "x": [
          2030,
          2035,
          2040,
          2045,
          2050,
          2055,
          2060,
          2065,
          2070,
          2075,
          2080,
          2085,
          2090,
          2095,
          2100
         ],
         "xaxis": "x11",
         "y": [
          0.24696749150623973,
          0.09966634943298788,
          0.023113735085773496,
          0.12343196039682425,
          0.15911582801044558,
          0.10959521390999194,
          0.05385774953491812,
          0.018800748823473077,
          0.005712174899082649,
          0.0016690049257034683,
          0.000046743605228017296,
          0,
          0,
          0,
          0
         ],
         "yaxis": "y11"
        },
        {
         "fill": "tonexty",
         "marker": {
          "color": "dodgerblue"
         },
         "mode": "lines",
         "name": "Climate sensitivity",
         "showlegend": false,
         "stackgroup": "one",
         "type": "scatter",
         "x": [
          2030,
          2035,
          2040,
          2045,
          2050,
          2055,
          2060,
          2065,
          2070,
          2075,
          2080,
          2085,
          2090,
          2095,
          2100
         ],
         "xaxis": "x11",
         "y": [
          0.006042485276402519,
          0.017193535385274964,
          0.04115505052637928,
          0.05664200328447795,
          0.07519459181440276,
          0.1033487269421848,
          0.1295433564754222,
          0.13775157914150074,
          0.13542553325265827,
          0.12850877103656555,
          0.11976420607031434,
          0.1139510449513512,
          0.11103233317419996,
          0.11297272710311963,
          0.12161278383539863
         ],
         "yaxis": "y11"
        },
        {
         "fill": "tonexty",
         "marker": {
          "color": "steelblue"
         },
         "mode": "lines",
         "name": "Socio-economic scenario",
         "showlegend": false,
         "stackgroup": "one",
         "type": "scatter",
         "x": [
          2030,
          2035,
          2040,
          2045,
          2050,
          2055,
          2060,
          2065,
          2070,
          2075,
          2080,
          2085,
          2090,
          2095,
          2100
         ],
         "xaxis": "x11",
         "y": [
          0.0000870704884222191,
          0.0000979289114251467,
          0.0003088896432220982,
          0.0008834647986967727,
          0.002514855427212993,
          0.00745223610363409,
          0.015598804768218693,
          0.032745187647465514,
          0.055557934787499916,
          0.07318982290280399,
          0.08983231270246145,
          0.10273656427437644,
          0.1122359537243732,
          0.11470625284788122,
          0.10092068710709581
         ],
         "yaxis": "y11"
        },
        {
         "fill": "tonexty",
         "marker": {
          "color": "forestgreen"
         },
         "mode": "lines",
         "name": "Peak temperature",
         "showlegend": false,
         "stackgroup": "one",
         "type": "scatter",
         "x": [
          2030,
          2035,
          2040,
          2045,
          2050,
          2055,
          2060,
          2065,
          2070,
          2075,
          2080,
          2085,
          2090,
          2095,
          2100
         ],
         "xaxis": "x11",
         "y": [
          0.04651774039506041,
          0.12262757593849738,
          0.24989740762525803,
          0.27897641397557854,
          0.2927809182363061,
          0.32185700163825415,
          0.3178865079593707,
          0.28342240176480293,
          0.23723993515308825,
          0.20426433941432418,
          0.1742300401851664,
          0.15800079528673475,
          0.1478484015392993,
          0.14447204899439975,
          0.1496557912597885
         ],
         "yaxis": "y11"
        },
        {
         "fill": "tonexty",
         "marker": {
          "color": "lightgreen"
         },
         "mode": "lines",
         "name": "Non-CO<sub>2</sub> reduction",
         "showlegend": false,
         "stackgroup": "one",
         "type": "scatter",
         "x": [
          2030,
          2035,
          2040,
          2045,
          2050,
          2055,
          2060,
          2065,
          2070,
          2075,
          2080,
          2085,
          2090,
          2095,
          2100
         ],
         "xaxis": "x11",
         "y": [
          0.00824486056910153,
          0.02343619175716527,
          0.05508968821612053,
          0.07495980747435962,
          0.09870449009771465,
          0.13532010334395483,
          0.16974252625538633,
          0.18080505090174218,
          0.178117435226526,
          0.17047692971884904,
          0.16093130324829738,
          0.1546283805595042,
          0.15197480721164136,
          0.15558669819330356,
          0.168516591239389
         ],
         "yaxis": "y11"
        },
        {
         "fill": "tonexty",
         "marker": {
          "color": "yellowgreen"
         },
         "mode": "lines",
         "name": "Timing of action",
         "showlegend": false,
         "stackgroup": "one",
         "type": "scatter",
         "x": [
          2030,
          2035,
          2040,
          2045,
          2050,
          2055,
          2060,
          2065,
          2070,
          2075,
          2080,
          2085,
          2090,
          2095,
          2100
         ],
         "xaxis": "x11",
         "y": [
          0.0011257369650849347,
          0.0011639011322381152,
          0.000199404762763416,
          0.0007456433940157757,
          0.0023243614796219178,
          0.004281647139901176,
          0.006712308062232107,
          0.008585561907274629,
          0.009789444874041538,
          0.010223994953936583,
          0.010425333532850476,
          0.010811469796953863,
          0.011385621863701336,
          0.012288271595696622,
          0.013990251705274804
         ],
         "yaxis": "y11"
        },
        {
         "fill": "tonexty",
         "marker": {
          "color": "lawngreen"
         },
         "mode": "lines",
         "name": "Negative emissions",
         "showlegend": false,
         "stackgroup": "one",
         "type": "scatter",
         "x": [
          2030,
          2035,
          2040,
          2045,
          2050,
          2055,
          2060,
          2065,
          2070,
          2075,
          2080,
          2085,
          2090,
          2095,
          2100
         ],
         "xaxis": "x11",
         "y": [
          0.00005994155031693601,
          0.00013564783870860972,
          0.0002548242862309326,
          0.00012101785469755939,
          0.00023395828591318707,
          0.001321996205630848,
          0.004294353645066254,
          0.008115670009954138,
          0.01251517058924139,
          0.01813229665679274,
          0.02436761567440571,
          0.03009677018761984,
          0.036034407301871414,
          0.04040811255388959,
          0.04733911234388364
         ],
         "yaxis": "y11"
        }
       ],
       "layout": {
        "annotations": [
         {
          "align": "left",
          "ax": 0,
          "ay": 0,
          "font": {
           "color": "black",
           "size": 24
          },
          "showarrow": false,
          "text": "<b>(a) Relative impact of<br>the three dimensions</b>",
          "x": 0,
          "xref": "paper",
          "y": 0.98,
          "yref": "paper"
         },
         {
          "align": "left",
          "ax": 0,
          "ay": 0,
          "font": {
           "color": "black",
           "size": 17
          },
          "showarrow": false,
          "text": "Expressed in fraction of variance explained",
          "x": 0,
          "xref": "paper",
          "y": 0.88,
          "yref": "paper"
         },
         {
          "align": "left",
          "ax": 0,
          "ay": 0,
          "font": {
           "color": "black",
           "size": 24
          },
          "showarrow": false,
          "text": "<b>(b) United States</b>",
          "x": 0.85,
          "xref": "paper",
          "y": 1.04,
          "yref": "paper"
         },
         {
          "align": "left",
          "ax": 0,
          "ay": 0,
          "font": {
           "color": "black",
           "size": 24
          },
          "showarrow": false,
          "text": "<b>(c) China</b>",
          "x": 0.775,
          "xref": "paper",
          "y": 0.78,
          "yref": "paper"
         },
         {
          "align": "left",
          "ax": 0,
          "ay": 0,
          "font": {
           "color": "black",
           "size": 24
          },
          "showarrow": false,
          "text": "<b>(d) India</b>",
          "x": 0.775,
          "xref": "paper",
          "y": 0.49,
          "yref": "paper"
         },
         {
          "align": "left",
          "ax": 0,
          "ay": 0,
          "font": {
           "color": "black",
           "size": 24
          },
          "showarrow": false,
          "text": "<b>(e) Uganda</b>",
          "x": 0.79,
          "xref": "paper",
          "y": 0.21,
          "yref": "paper"
         },
         {
          "font": {
           "color": "black",
           "size": 25
          },
          "showarrow": false,
          "text": "Global strategies dominate",
          "x": 0.215,
          "xref": "paper",
          "y": 1.12,
          "yref": "paper"
         },
         {
          "font": {
           "color": "black",
           "size": 16
          },
          "showarrow": false,
          "text": "temperature, negative emissions, timing, non-CO<sub>2",
          "x": 0.19,
          "xref": "paper",
          "y": 1.08,
          "yref": "paper"
         },
         {
          "font": {
           "color": "black",
           "size": 25
          },
          "showarrow": false,
          "text": "Equity dominates",
          "x": -0.05,
          "xref": "paper",
          "y": 0.13,
          "yref": "paper"
         },
         {
          "font": {
           "color": "black",
           "size": 16
          },
          "showarrow": false,
          "text": "allocation rule, discounting,<br>historical startyear<br>convergence year",
          "x": -0.05,
          "xref": "paper",
          "y": 0.04,
          "yref": "paper"
         },
         {
          "font": {
           "color": "black",
           "size": 25
          },
          "showarrow": false,
          "text": "Physical and social<br>uncertainties<br>dominate",
          "x": 0.54,
          "xref": "paper",
          "y": 0.08,
          "yref": "paper"
         },
         {
          "font": {
           "color": "black",
           "size": 16
          },
          "showarrow": false,
          "text": "scenario,<br>climate sensitivity",
          "x": 0.54,
          "xref": "paper",
          "y": 0.02,
          "yref": "paper"
         }
        ],
        "font": {
         "color": "black",
         "size": 20
        },
        "geo": {
         "lakecolor": "rgb(255, 255, 255)",
         "projection": {
          "type": "natural earth"
         },
         "resolution": 110,
         "showcoastlines": false,
         "showlakes": true,
         "visible": false
        },
        "height": 900,
        "legend": {
         "font": {
          "color": "black",
          "size": 17
         },
         "x": 0.44,
         "xanchor": "left",
         "y": 0.97,
         "yanchor": "top"
        },
        "paper_bgcolor": "white",
        "plot_bgcolor": "white",
        "template": {
         "data": {
          "bar": [
           {
            "error_x": {
             "color": "#2a3f5f"
            },
            "error_y": {
             "color": "#2a3f5f"
            },
            "marker": {
             "line": {
              "color": "#E5ECF6",
              "width": 0.5
             },
             "pattern": {
              "fillmode": "overlay",
              "size": 10,
              "solidity": 0.2
             }
            },
            "type": "bar"
           }
          ],
          "barpolar": [
           {
            "marker": {
             "line": {
              "color": "#E5ECF6",
              "width": 0.5
             },
             "pattern": {
              "fillmode": "overlay",
              "size": 10,
              "solidity": 0.2
             }
            },
            "type": "barpolar"
           }
          ],
          "carpet": [
           {
            "aaxis": {
             "endlinecolor": "#2a3f5f",
             "gridcolor": "white",
             "linecolor": "white",
             "minorgridcolor": "white",
             "startlinecolor": "#2a3f5f"
            },
            "baxis": {
             "endlinecolor": "#2a3f5f",
             "gridcolor": "white",
             "linecolor": "white",
             "minorgridcolor": "white",
             "startlinecolor": "#2a3f5f"
            },
            "type": "carpet"
           }
          ],
          "choropleth": [
           {
            "colorbar": {
             "outlinewidth": 0,
             "ticks": ""
            },
            "type": "choropleth"
           }
          ],
          "contour": [
           {
            "colorbar": {
             "outlinewidth": 0,
             "ticks": ""
            },
            "colorscale": [
             [
              0,
              "#0d0887"
             ],
             [
              0.1111111111111111,
              "#46039f"
             ],
             [
              0.2222222222222222,
              "#7201a8"
             ],
             [
              0.3333333333333333,
              "#9c179e"
             ],
             [
              0.4444444444444444,
              "#bd3786"
             ],
             [
              0.5555555555555556,
              "#d8576b"
             ],
             [
              0.6666666666666666,
              "#ed7953"
             ],
             [
              0.7777777777777778,
              "#fb9f3a"
             ],
             [
              0.8888888888888888,
              "#fdca26"
             ],
             [
              1,
              "#f0f921"
             ]
            ],
            "type": "contour"
           }
          ],
          "contourcarpet": [
           {
            "colorbar": {
             "outlinewidth": 0,
             "ticks": ""
            },
            "type": "contourcarpet"
           }
          ],
          "heatmap": [
           {
            "colorbar": {
             "outlinewidth": 0,
             "ticks": ""
            },
            "colorscale": [
             [
              0,
              "#0d0887"
             ],
             [
              0.1111111111111111,
              "#46039f"
             ],
             [
              0.2222222222222222,
              "#7201a8"
             ],
             [
              0.3333333333333333,
              "#9c179e"
             ],
             [
              0.4444444444444444,
              "#bd3786"
             ],
             [
              0.5555555555555556,
              "#d8576b"
             ],
             [
              0.6666666666666666,
              "#ed7953"
             ],
             [
              0.7777777777777778,
              "#fb9f3a"
             ],
             [
              0.8888888888888888,
              "#fdca26"
             ],
             [
              1,
              "#f0f921"
             ]
            ],
            "type": "heatmap"
           }
          ],
          "heatmapgl": [
           {
            "colorbar": {
             "outlinewidth": 0,
             "ticks": ""
            },
            "colorscale": [
             [
              0,
              "#0d0887"
             ],
             [
              0.1111111111111111,
              "#46039f"
             ],
             [
              0.2222222222222222,
              "#7201a8"
             ],
             [
              0.3333333333333333,
              "#9c179e"
             ],
             [
              0.4444444444444444,
              "#bd3786"
             ],
             [
              0.5555555555555556,
              "#d8576b"
             ],
             [
              0.6666666666666666,
              "#ed7953"
             ],
             [
              0.7777777777777778,
              "#fb9f3a"
             ],
             [
              0.8888888888888888,
              "#fdca26"
             ],
             [
              1,
              "#f0f921"
             ]
            ],
            "type": "heatmapgl"
           }
          ],
          "histogram": [
           {
            "marker": {
             "pattern": {
              "fillmode": "overlay",
              "size": 10,
              "solidity": 0.2
             }
            },
            "type": "histogram"
           }
          ],
          "histogram2d": [
           {
            "colorbar": {
             "outlinewidth": 0,
             "ticks": ""
            },
            "colorscale": [
             [
              0,
              "#0d0887"
             ],
             [
              0.1111111111111111,
              "#46039f"
             ],
             [
              0.2222222222222222,
              "#7201a8"
             ],
             [
              0.3333333333333333,
              "#9c179e"
             ],
             [
              0.4444444444444444,
              "#bd3786"
             ],
             [
              0.5555555555555556,
              "#d8576b"
             ],
             [
              0.6666666666666666,
              "#ed7953"
             ],
             [
              0.7777777777777778,
              "#fb9f3a"
             ],
             [
              0.8888888888888888,
              "#fdca26"
             ],
             [
              1,
              "#f0f921"
             ]
            ],
            "type": "histogram2d"
           }
          ],
          "histogram2dcontour": [
           {
            "colorbar": {
             "outlinewidth": 0,
             "ticks": ""
            },
            "colorscale": [
             [
              0,
              "#0d0887"
             ],
             [
              0.1111111111111111,
              "#46039f"
             ],
             [
              0.2222222222222222,
              "#7201a8"
             ],
             [
              0.3333333333333333,
              "#9c179e"
             ],
             [
              0.4444444444444444,
              "#bd3786"
             ],
             [
              0.5555555555555556,
              "#d8576b"
             ],
             [
              0.6666666666666666,
              "#ed7953"
             ],
             [
              0.7777777777777778,
              "#fb9f3a"
             ],
             [
              0.8888888888888888,
              "#fdca26"
             ],
             [
              1,
              "#f0f921"
             ]
            ],
            "type": "histogram2dcontour"
           }
          ],
          "mesh3d": [
           {
            "colorbar": {
             "outlinewidth": 0,
             "ticks": ""
            },
            "type": "mesh3d"
           }
          ],
          "parcoords": [
           {
            "line": {
             "colorbar": {
              "outlinewidth": 0,
              "ticks": ""
             }
            },
            "type": "parcoords"
           }
          ],
          "pie": [
           {
            "automargin": true,
            "type": "pie"
           }
          ],
          "scatter": [
           {
            "fillpattern": {
             "fillmode": "overlay",
             "size": 10,
             "solidity": 0.2
            },
            "type": "scatter"
           }
          ],
          "scatter3d": [
           {
            "line": {
             "colorbar": {
              "outlinewidth": 0,
              "ticks": ""
             }
            },
            "marker": {
             "colorbar": {
              "outlinewidth": 0,
              "ticks": ""
             }
            },
            "type": "scatter3d"
           }
          ],
          "scattercarpet": [
           {
            "marker": {
             "colorbar": {
              "outlinewidth": 0,
              "ticks": ""
             }
            },
            "type": "scattercarpet"
           }
          ],
          "scattergeo": [
           {
            "marker": {
             "colorbar": {
              "outlinewidth": 0,
              "ticks": ""
             }
            },
            "type": "scattergeo"
           }
          ],
          "scattergl": [
           {
            "marker": {
             "colorbar": {
              "outlinewidth": 0,
              "ticks": ""
             }
            },
            "type": "scattergl"
           }
          ],
          "scattermapbox": [
           {
            "marker": {
             "colorbar": {
              "outlinewidth": 0,
              "ticks": ""
             }
            },
            "type": "scattermapbox"
           }
          ],
          "scatterpolar": [
           {
            "marker": {
             "colorbar": {
              "outlinewidth": 0,
              "ticks": ""
             }
            },
            "type": "scatterpolar"
           }
          ],
          "scatterpolargl": [
           {
            "marker": {
             "colorbar": {
              "outlinewidth": 0,
              "ticks": ""
             }
            },
            "type": "scatterpolargl"
           }
          ],
          "scatterternary": [
           {
            "marker": {
             "colorbar": {
              "outlinewidth": 0,
              "ticks": ""
             }
            },
            "type": "scatterternary"
           }
          ],
          "surface": [
           {
            "colorbar": {
             "outlinewidth": 0,
             "ticks": ""
            },
            "colorscale": [
             [
              0,
              "#0d0887"
             ],
             [
              0.1111111111111111,
              "#46039f"
             ],
             [
              0.2222222222222222,
              "#7201a8"
             ],
             [
              0.3333333333333333,
              "#9c179e"
             ],
             [
              0.4444444444444444,
              "#bd3786"
             ],
             [
              0.5555555555555556,
              "#d8576b"
             ],
             [
              0.6666666666666666,
              "#ed7953"
             ],
             [
              0.7777777777777778,
              "#fb9f3a"
             ],
             [
              0.8888888888888888,
              "#fdca26"
             ],
             [
              1,
              "#f0f921"
             ]
            ],
            "type": "surface"
           }
          ],
          "table": [
           {
            "cells": {
             "fill": {
              "color": "#EBF0F8"
             },
             "line": {
              "color": "white"
             }
            },
            "header": {
             "fill": {
              "color": "#C8D4E3"
             },
             "line": {
              "color": "white"
             }
            },
            "type": "table"
           }
          ]
         },
         "layout": {
          "annotationdefaults": {
           "arrowcolor": "#2a3f5f",
           "arrowhead": 0,
           "arrowwidth": 1
          },
          "autotypenumbers": "strict",
          "coloraxis": {
           "colorbar": {
            "outlinewidth": 0,
            "ticks": ""
           }
          },
          "colorscale": {
           "diverging": [
            [
             0,
             "#8e0152"
            ],
            [
             0.1,
             "#c51b7d"
            ],
            [
             0.2,
             "#de77ae"
            ],
            [
             0.3,
             "#f1b6da"
            ],
            [
             0.4,
             "#fde0ef"
            ],
            [
             0.5,
             "#f7f7f7"
            ],
            [
             0.6,
             "#e6f5d0"
            ],
            [
             0.7,
             "#b8e186"
            ],
            [
             0.8,
             "#7fbc41"
            ],
            [
             0.9,
             "#4d9221"
            ],
            [
             1,
             "#276419"
            ]
           ],
           "sequential": [
            [
             0,
             "#0d0887"
            ],
            [
             0.1111111111111111,
             "#46039f"
            ],
            [
             0.2222222222222222,
             "#7201a8"
            ],
            [
             0.3333333333333333,
             "#9c179e"
            ],
            [
             0.4444444444444444,
             "#bd3786"
            ],
            [
             0.5555555555555556,
             "#d8576b"
            ],
            [
             0.6666666666666666,
             "#ed7953"
            ],
            [
             0.7777777777777778,
             "#fb9f3a"
            ],
            [
             0.8888888888888888,
             "#fdca26"
            ],
            [
             1,
             "#f0f921"
            ]
           ],
           "sequentialminus": [
            [
             0,
             "#0d0887"
            ],
            [
             0.1111111111111111,
             "#46039f"
            ],
            [
             0.2222222222222222,
             "#7201a8"
            ],
            [
             0.3333333333333333,
             "#9c179e"
            ],
            [
             0.4444444444444444,
             "#bd3786"
            ],
            [
             0.5555555555555556,
             "#d8576b"
            ],
            [
             0.6666666666666666,
             "#ed7953"
            ],
            [
             0.7777777777777778,
             "#fb9f3a"
            ],
            [
             0.8888888888888888,
             "#fdca26"
            ],
            [
             1,
             "#f0f921"
            ]
           ]
          },
          "colorway": [
           "#636efa",
           "#EF553B",
           "#00cc96",
           "#ab63fa",
           "#FFA15A",
           "#19d3f3",
           "#FF6692",
           "#B6E880",
           "#FF97FF",
           "#FECB52"
          ],
          "font": {
           "color": "#2a3f5f"
          },
          "geo": {
           "bgcolor": "white",
           "lakecolor": "white",
           "landcolor": "#E5ECF6",
           "showlakes": true,
           "showland": true,
           "subunitcolor": "white"
          },
          "hoverlabel": {
           "align": "left"
          },
          "hovermode": "closest",
          "mapbox": {
           "style": "light"
          },
          "paper_bgcolor": "white",
          "plot_bgcolor": "#E5ECF6",
          "polar": {
           "angularaxis": {
            "gridcolor": "white",
            "linecolor": "white",
            "ticks": ""
           },
           "bgcolor": "#E5ECF6",
           "radialaxis": {
            "gridcolor": "white",
            "linecolor": "white",
            "ticks": ""
           }
          },
          "scene": {
           "xaxis": {
            "backgroundcolor": "#E5ECF6",
            "gridcolor": "white",
            "gridwidth": 2,
            "linecolor": "white",
            "showbackground": true,
            "ticks": "",
            "zerolinecolor": "white"
           },
           "yaxis": {
            "backgroundcolor": "#E5ECF6",
            "gridcolor": "white",
            "gridwidth": 2,
            "linecolor": "white",
            "showbackground": true,
            "ticks": "",
            "zerolinecolor": "white"
           },
           "zaxis": {
            "backgroundcolor": "#E5ECF6",
            "gridcolor": "white",
            "gridwidth": 2,
            "linecolor": "white",
            "showbackground": true,
            "ticks": "",
            "zerolinecolor": "white"
           }
          },
          "shapedefaults": {
           "line": {
            "color": "#2a3f5f"
           }
          },
          "ternary": {
           "aaxis": {
            "gridcolor": "white",
            "linecolor": "white",
            "ticks": ""
           },
           "baxis": {
            "gridcolor": "white",
            "linecolor": "white",
            "ticks": ""
           },
           "bgcolor": "#E5ECF6",
           "caxis": {
            "gridcolor": "white",
            "linecolor": "white",
            "ticks": ""
           }
          },
          "title": {
           "x": 0.05
          },
          "xaxis": {
           "automargin": true,
           "gridcolor": "white",
           "linecolor": "white",
           "ticks": "",
           "title": {
            "standoff": 15
           },
           "zerolinecolor": "white",
           "zerolinewidth": 2
          },
          "yaxis": {
           "automargin": true,
           "gridcolor": "white",
           "linecolor": "white",
           "ticks": "",
           "title": {
            "standoff": 15
           },
           "zerolinecolor": "white",
           "zerolinewidth": 2
          }
         }
        },
        "ternary": {
         "aaxis": {
          "linewidth": 0,
          "min": 0,
          "tickfont": {
           "size": 20
          },
          "tickmode": "array",
          "ticks": "outside",
          "ticktext": [
           "0%",
           "25%",
           "50%",
           "75%",
           "100%"
          ],
          "tickvals": [
           0,
           0.25,
           0.5,
           0.75,
           1
          ],
          "title": {
           "font": {
            "size": 25
           },
           "text": ""
          }
         },
         "baxis": {
          "linewidth": 2,
          "min": 0,
          "tickangle": 60,
          "tickfont": {
           "size": 20
          },
          "tickmode": "array",
          "ticks": "outside",
          "ticktext": [
           "0%",
           "25%",
           "50%",
           "75%",
           "100%"
          ],
          "tickvals": [
           0,
           0.25,
           0.5,
           0.75,
           1
          ],
          "title": {
           "font": {
            "size": 25
           },
           "text": ""
          }
         },
         "bgcolor": "white",
         "caxis": {
          "linewidth": 2,
          "min": 0,
          "tickangle": -60,
          "tickfont": {
           "size": 20
          },
          "tickmode": "array",
          "ticks": "outside",
          "ticktext": [
           "0%",
           "25%",
           "50%",
           "75%",
           "100%"
          ],
          "tickvals": [
           0,
           0.25,
           0.5,
           0.75,
           1
          ],
          "title": {
           "font": {
            "size": 25
           },
           "text": ""
          }
         },
         "domain": {
          "x": [
           0,
           0.6666666666666666
          ],
          "y": [
           0,
           1
          ]
         },
         "sum": 1
        },
        "width": 1600,
        "xaxis": {
         "anchor": "y",
         "domain": [
          0.3333333333333333,
          0.6666666666666666
         ]
        },
        "xaxis10": {
         "anchor": "y10",
         "domain": [
          0.3333333333333333,
          0.6666666666666666
         ]
        },
        "xaxis11": {
         "anchor": "y11",
         "domain": [
          0.6666666666666666,
          1
         ]
        },
        "xaxis2": {
         "anchor": "y2",
         "domain": [
          0.6666666666666666,
          1
         ],
         "visible": false
        },
        "xaxis3": {
         "anchor": "y3",
         "domain": [
          0,
          0.3333333333333333
         ]
        },
        "xaxis4": {
         "anchor": "y4",
         "domain": [
          0.3333333333333333,
          0.6666666666666666
         ]
        },
        "xaxis5": {
         "anchor": "y5",
         "domain": [
          0.6666666666666666,
          1
         ],
         "visible": false
        },
        "xaxis6": {
         "anchor": "y6",
         "domain": [
          0,
          0.3333333333333333
         ]
        },
        "xaxis7": {
         "anchor": "y7",
         "domain": [
          0.3333333333333333,
          0.6666666666666666
         ]
        },
        "xaxis8": {
         "anchor": "y8",
         "domain": [
          0.6666666666666666,
          1
         ],
         "visible": false
        },
        "xaxis9": {
         "anchor": "y9",
         "domain": [
          0,
          0.3333333333333333
         ]
        },
        "yaxis": {
         "anchor": "x",
         "domain": [
          0.7875,
          1
         ]
        },
        "yaxis10": {
         "anchor": "x10",
         "domain": [
          0,
          0.2125
         ]
        },
        "yaxis11": {
         "anchor": "x11",
         "domain": [
          0,
          0.2125
         ],
         "ticktext": [
          "0%",
          "50%",
          "100%"
         ],
         "tickvals": [
          0,
          0.5,
          1
         ]
        },
        "yaxis2": {
         "anchor": "x2",
         "domain": [
          0.7875,
          1
         ],
         "ticktext": [
          "0%",
          "50%",
          "100%"
         ],
         "tickvals": [
          0,
          0.5,
          1
         ]
        },
        "yaxis3": {
         "anchor": "x3",
         "domain": [
          0.525,
          0.7375
         ]
        },
        "yaxis4": {
         "anchor": "x4",
         "domain": [
          0.525,
          0.7375
         ]
        },
        "yaxis5": {
         "anchor": "x5",
         "domain": [
          0.525,
          0.7375
         ],
         "ticktext": [
          "0%",
          "50%",
          "100%"
         ],
         "tickvals": [
          0,
          0.5,
          1
         ]
        },
        "yaxis6": {
         "anchor": "x6",
         "domain": [
          0.2625,
          0.475
         ]
        },
        "yaxis7": {
         "anchor": "x7",
         "domain": [
          0.2625,
          0.475
         ]
        },
        "yaxis8": {
         "anchor": "x8",
         "domain": [
          0.2625,
          0.475
         ],
         "ticktext": [
          "0%",
          "50%",
          "100%"
         ],
         "tickvals": [
          0,
          0.5,
          1
         ]
        },
        "yaxis9": {
         "anchor": "x9",
         "domain": [
          0,
          0.2125
         ]
        }
       }
      }
     },
     "metadata": {},
     "output_type": "display_data"
    }
   ],
   "source": [
    "fig = make_subplots(rows=4, cols=3, specs=[[{\"type\": \"scatterternary\", \"colspan\": 2, \"rowspan\": 4}, {}, {}],\n",
    "                                           [{}, {}, {}],\n",
    "                                           [{}, {}, {}],\n",
    "                                           [{}, {}, {}]],\n",
    "                    horizontal_spacing = 0, vertical_spacing=0.05)\n",
    "\n",
    "for n in range(len(conttraces)):\n",
    "        fig.add_trace(conttraces[n], 1, 1)\n",
    "\n",
    "# Panel a\n",
    "for i in np.arange(0., 1.01, 0.25):\n",
    "    args = dict(mode='lines', showlegend=False, hoverinfo='skip',\n",
    "                                                    marker={'size': 15,\n",
    "                                                            'color': 'black',\n",
    "                                                            'opacity': 1,#0.9-i*0.03,\n",
    "                                                            'line' :dict(width=0., color='silver')},\n",
    "                                                    line={'width': 0.33, #np.mean(s[i:i+2])*0.5,\n",
    "                                                            'color': 'black',\n",
    "                                                            'dash': 'dot'},\n",
    "                                                    textfont=dict(size=5,\n",
    "                                                            color='black'))\n",
    "    fig.add_trace(go.Scatterternary(a=[i, i], b=[0, 1-i], c=[1-i, 0], **args), 1, 1)\n",
    "    fig.add_trace(go.Scatterternary(b=[i, i], a=[0, 1-i], c=[1-i, 0], **args), 1, 1)\n",
    "    fig.add_trace(go.Scatterternary(c=[i, i], b=[0, 1-i], a=[1-i, 0], **args), 1, 1)\n",
    "\n",
    "wh_t0 = np.where(np.array(xr_sobol.Time) == 2030)[0][0]\n",
    "for cty_i, cty in enumerate(all_countries_iso):\n",
    "        fig.add_trace(go.Scatterternary(a=vals[0, :, cty_i],\n",
    "                                        b=vals[1, :, cty_i],\n",
    "                                        c=vals[2, :, cty_i],\n",
    "                                        name=cty,\n",
    "                                                        mode='lines+text',\n",
    "                                                        showlegend=False,\n",
    "                                                        text=['']*(len(vals[0])),\n",
    "                                                        marker={'size': 6,\n",
    "                                                                'color': bubblecolors[cty_i],\n",
    "                                                                'opacity': 0.9,#0.9-i*0.03,\n",
    "                                                                'line' :dict(width=0, color='black')},\n",
    "                                                        line={'width': 0.25, #np.mean(s[i:i+2])*0.5,\n",
    "                                                                'color': 'grey'},\n",
    "                                                        textfont=dict(size=(pops_n[cty_i])**0.4*25+1,\n",
    "                                                                color='black')), 1, 1)\n",
    "        fig.add_trace(go.Scatterternary(a=vals[0, wh_t0:(wh_t0+5), cty_i],\n",
    "                                        b=vals[1, wh_t0:(wh_t0+5), cty_i],\n",
    "                                        c=vals[2, wh_t0:(wh_t0+5), cty_i],\n",
    "                                        name=cty,\n",
    "                                                        mode='lines+text',\n",
    "                                                        showlegend=False,\n",
    "                                                        text=['']*(len(vals[0])),\n",
    "                                                        marker={'size': 6,\n",
    "                                                                'color': bubblecolors[cty_i],\n",
    "                                                                'opacity': 0.9,#0.9-i*0.03,\n",
    "                                                                'line' :dict(width=0, color='black')},\n",
    "                                                        line={'width': 0.25, #np.mean(s[i:i+2])*0.5,\n",
    "                                                                'color': 'grey'},\n",
    "                                                        textfont=dict(size=(pops_n[cty_i])**0.4*25+1,\n",
    "                                                                color='black')), 1, 1)\n",
    "for cty in ['USA', 'CHN', 'BRA', 'IND', 'UGA']:\n",
    "        cty_i = np.where(all_countries_iso == cty)[0][0]\n",
    "        fig.add_trace(go.Scatterternary(a=vals[0, wh_t0:(wh_t0+15), cty_i],\n",
    "                                        b=vals[1, wh_t0:(wh_t0+15), cty_i],\n",
    "                                        c=vals[2, wh_t0:(wh_t0+15), cty_i],\n",
    "                                        name=cty,\n",
    "                                                        mode='lines+markers',\n",
    "                                                        showlegend=False,\n",
    "                                                        text=['2030', '', '', '', '', '', \"'60\", '', '', '', \"'80\", '', '', '', '2100'],#[\"'., str(i-2000) for i in [2040, 2050, 2060, 2070, 2080, 2090]],\n",
    "                                                        marker={'size': [8]*15,#]*(len(vals[0])), #[(pops_n[cty_i])**0.4*60+4]+\n",
    "                                                                'color': bubblecolors[cty_i],\n",
    "                                                                'opacity': 0.9,#0.9-i*0.03,\n",
    "                                                                'line' :dict(width=0.5, color='white')},\n",
    "                                                        line={'width': 3, #np.mean(s[i:i+2])*0.5,\n",
    "                                                                'color':bubblecolors[cty_i]},\n",
    "                                                        textposition='top center',\n",
    "                                                        textfont=dict(size=16,\n",
    "                                                                color=bubblecolors[cty_i])), 1, 1)\n",
    "\n",
    "        for t_i, t in enumerate([2030, 2030, 2050, 2100]):\n",
    "                wh_t = np.where(np.array(xr_sobol.Time) == t)[0][0]\n",
    "                fig.add_trace(go.Scatterternary(a=[vals[0, wh_t, cty_i]],\n",
    "                                                b=[vals[1, wh_t, cty_i]],\n",
    "                                                c=[vals[2, wh_t, cty_i]],\n",
    "                                                name=cty,\n",
    "                                                                mode='markers+text',\n",
    "                                                                showlegend=False,\n",
    "                                                                text=[['<b>'+cty], [\"2030\"], [\"2050\"], ['2100']][t_i],#[\"'., str(i-2000) for i in [2040, 2050, 2060, 2070, 2080, 2090]],\n",
    "                                                                marker={'size': [[20], [20], [15], [20]][t_i],\n",
    "                                                                        #'symbol': 'x',\n",
    "                                                                        'color': bubblecolors[cty_i],\n",
    "                                                                        'opacity': 0.9,#0.9-i*0.03,\n",
    "                                                                        'line' :dict(width=0.5, color='white')},\n",
    "                                                                line={'width': 3, #np.mean(s[i:i+2])*0.5,\n",
    "                                                                        'color':bubblecolors[cty_i]},\n",
    "                                                                textposition=['middle left', 'middle right', 'middle right', 'bottom center'][t_i],\n",
    "                                                                textfont=dict(size=[18, 16, 16, 16, 16, 16][t_i],\n",
    "                                                                        color=bubblecolors[cty_i])), 1, 1)\n",
    "fig.update_layout({\n",
    "'plot_bgcolor':'rgb(243, 243, 243)',\n",
    "'ternary':\n",
    "{'sum':1,\n",
    "'bgcolor':'white',\n",
    "    # \"paper_bgcolor\":'rgba(0,0,0,0)',\n",
    "    # \"plot_bgcolor\":'rgba(0,0,0,0)',\n",
    "'aaxis':{'title': '', 'min': 0., 'titlefont':{'size': 25},#Climate target<br>\n",
    "        'linewidth':0, 'ticks':'outside',\n",
    "        'tickmode':'array','tickvals':np.arange(0, 1.01, 0.25), 'ticktext':[str(int(i*100))+'%' for i in np.arange(0, 1.01, 0.25)], 'tickfont':{'size':20}},\n",
    "'baxis':{'title': '', 'min': 0, 'titlefont':{'size': 25},# &nbsp; &nbsp; &nbsp;#Model &nbsp; &nbsp;\n",
    "        'linewidth':2, 'ticks':'outside',\n",
    "        'tickmode':'array','tickvals':np.arange(0, 1.01, 0.25), 'ticktext':[str(int(i*100))+'%' for i in np.arange(0, 1.01, 0.25)],'tickangle':60, 'tickfont':{'size':20}},\n",
    "'caxis':{'title': '', 'min': 0, 'titlefont':{'size': 25},#Other<br>scenario assumptions\n",
    "        'linewidth':2, 'ticks':'outside',\n",
    "        'tickmode':'array','tickvals':np.arange(0, 1.01, 0.25), 'ticktext':[str(int(i*100))+'%' for i in np.arange(0, 1.01, 0.25)],'tickangle':-60, 'tickfont':{'size':20}}}})\n",
    "\n",
    "# Panel b-d\n",
    "for cty_i, cty in enumerate(['USA', 'CHN', 'IND', 'UGA']):\n",
    "        for factor_i, factor in enumerate(factors):\n",
    "                col = factor_colors[factor_i]\n",
    "                val_i = xr_sobol.sel(Region=cty, Factor=factor).Sobol_index\n",
    "                if factor_i == 0: fill='tozeroy'\n",
    "                else: fill = 'tonexty'\n",
    "                fig.add_trace(go.Scatter(x=xr_sobol.Time,\n",
    "                                        y=val_i,\n",
    "                                        mode='lines',\n",
    "                                        marker={'color':col},\n",
    "                                        fill=fill,\n",
    "                                        name=factor_names[factor_i],\n",
    "                                        showlegend=[True, False, False, False, False, False, False][cty_i],\n",
    "                                        stackgroup='one'\n",
    "                                        ), range(1, 6)[cty_i], 3)\n",
    "\n",
    "fig.update_geos(visible=False,\n",
    "                showlakes=True,\n",
    "                lakecolor='rgb(255, 255, 255)',\n",
    "                projection_type='natural earth',\n",
    "                resolution=110,\n",
    "                showcoastlines=False,)\n",
    "\n",
    "fig.update_layout(\n",
    "    legend=dict(\n",
    "        yanchor=\"top\",\n",
    "        y=0.29,\n",
    "        xanchor=\"left\",\n",
    "        x=0.08,\n",
    "        font=dict(size=15, color=\"black\"),\n",
    "    ),\n",
    "    #template='ggplot2',\n",
    "    height=900,\n",
    "    width=1600,\n",
    ")\n",
    "fig.update_xaxes(visible=False, row=1, col=3)\n",
    "fig.update_xaxes(visible=False, row=2, col=3)\n",
    "fig.update_xaxes(visible=False, row=3, col=3)\n",
    "\n",
    "args = dict(xref=\"paper\", yref=\"paper\", showarrow=False)\n",
    "annotations = [\n",
    "    dict(xref='paper', yref='paper', ax=0, align='left', ay=-0, showarrow=False, font=dict(color='black', size=24), y=0.98, x=0.0, text=\"<b>(a) Relative impact of<br>the three dimensions</b>\"),\n",
    "    dict(xref='paper', yref='paper', ax=0, align='left', ay=-0, showarrow=False, font=dict(color='black', size=17), y=0.88, x=0.0, text=\"Expressed in fraction of variance explained\"),\n",
    "    dict(xref='paper', yref='paper', ax=0, align='left', ay=-0, showarrow=False, font=dict(color='black', size=24), y=1.04, x=0.85, text=\"<b>(b) United States</b>\"),\n",
    "    dict(xref='paper', yref='paper', ax=0, align='left', ay=-0, showarrow=False, font=dict(color='black', size=24), y=0.78, x=0.775, text=\"<b>(c) China</b>\"),\n",
    "    dict(xref='paper', yref='paper', ax=0, align='left', ay=-0, showarrow=False, font=dict(color='black', size=24), y=0.49, x=0.775, text=\"<b>(d) India</b>\"),\n",
    "    dict(xref='paper', yref='paper', ax=0, align='left', ay=-0, showarrow=False, font=dict(color='black', size=24), y=0.21, x=0.79, text=\"<b>(e) Uganda</b>\"),\n",
    "    dict(text=\"Global strategies dominate\", x=0.215, y=1.12, **args, font=dict(color='black', size=25)),\n",
    "    dict(text=\"temperature, negative emissions, timing, non-CO<sub>2\", x=0.19, y=1.08, **args, font=dict(color='black', size=16)),\n",
    "    dict(text=\"Equity dominates\", x=-0.05, y=0.13, **args, font=dict(color='black', size=25)),\n",
    "    dict(text=\"allocation rule, discounting,<br>historical startyear<br>convergence year\", x=-0.05, y=0.04, **args, font=dict(color='black', size=16)),\n",
    "    dict(text=\"Physical and social<br>uncertainties<br>dominate\", x=0.54, y=0.08, **args, font=dict(color='black', size=25)),\n",
    "    dict(text=\"scenario,<br>climate sensitivity\", x=0.54, y=0.02, **args, font=dict(color='black', size=16))\n",
    "]\n",
    "for ann in annotations:\n",
    "    fig.add_annotation(**ann)\n",
    "\n",
    "fig.update_layout(\n",
    "    legend=dict(x=0.44, y=0.97, font=dict(size=17)),\n",
    "    paper_bgcolor='white', # Set the background color\n",
    "    plot_bgcolor='white',\n",
    "    font=dict( \n",
    "        size=20,\n",
    "        color=\"black\"\n",
    "    ))\n",
    "# change ytick labels in row=1, col=3 panel\n",
    "fig.update_yaxes(tickvals=[0, 0.5, 1], ticktext=['0%', '50%', '100%'] ,row=1, col=3)\n",
    "fig.update_yaxes(tickvals=[0, 0.5, 1], ticktext=['0%', '50%', '100%'] ,row=2, col=3)\n",
    "fig.update_yaxes(tickvals=[0, 0.5, 1], ticktext=['0%', '50%', '100%'] ,row=3, col=3)\n",
    "fig.update_yaxes(tickvals=[0, 0.5, 1], ticktext=['0%', '50%', '100%'] ,row=4, col=3)\n",
    "fig.show()\n",
    "# fig.write_image(\"K:/Code/EffortSharing/Figures/Paper_FairShares/Figure_3.png\", scale=5)"
   ]
  }
 ],
 "metadata": {
  "kernelspec": {
   "display_name": "Python 3",
   "language": "python",
   "name": "python3"
  },
  "language_info": {
   "codemirror_mode": {
    "name": "ipython",
    "version": 3
   },
   "file_extension": ".py",
   "mimetype": "text/x-python",
   "name": "python",
   "nbconvert_exporter": "python",
   "pygments_lexer": "ipython3",
   "version": "3.12.5"
  }
 },
 "nbformat": 4,
 "nbformat_minor": 2
}
