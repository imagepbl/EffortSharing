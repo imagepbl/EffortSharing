{
 "cells": [
  {
   "cell_type": "markdown",
   "metadata": {},
   "source": [
    "## Preambule"
   ]
  },
  {
   "cell_type": "code",
   "execution_count": 1,
   "metadata": {},
   "outputs": [],
   "source": [
    "import numpy as np\n",
    "from tqdm import tqdm\n",
    "from importlib import reload\n",
    "import xarray as xr\n",
    "import pandas as pd\n",
    "import scipy\n",
    "from scipy.optimize import curve_fit\n",
    "from scipy.signal import savgol_filter\n",
    "import warnings\n",
    "warnings.simplefilter(action='ignore', category=FutureWarning)\n",
    "\n",
    "# Sobol analysis\n",
    "from SALib.sample import saltelli\n",
    "from SALib.analyze import sobol\n",
    "from SALib.test_functions import Ishigami\n",
    "\n",
    "# Plotting\n",
    "import matplotlib.pyplot as plt\n",
    "import plotly.express as px\n",
    "import plotly.graph_objects as go\n",
    "from plotly.subplots import make_subplots\n",
    "from plotly.colors import n_colors"
   ]
  },
  {
   "cell_type": "markdown",
   "metadata": {},
   "source": [
    "## Read stuff"
   ]
  },
  {
   "cell_type": "code",
   "execution_count": 2,
   "metadata": {},
   "outputs": [],
   "source": [
    "path_data = \"K:/data/DataUpdate_ongoing/\""
   ]
  },
  {
   "cell_type": "code",
   "execution_count": 14,
   "metadata": {},
   "outputs": [],
   "source": [
    "xr_dataread = xr.open_dataset(path_data + \"xr_dataread.nc\")\n",
    "xr_sobol = xr.open_dataset(path_data + \"xr_sobol.nc\").sel(Time = np.arange(2030, 2101, 5))\n",
    "all_countries_iso = np.load(path_data + \"all_countries.npy\", allow_pickle=True)\n",
    "all_regions_iso = np.load(path_data + \"all_regions.npy\", allow_pickle=True)"
   ]
  },
  {
   "cell_type": "markdown",
   "metadata": {},
   "source": [
    "## Process stuff"
   ]
  },
  {
   "cell_type": "code",
   "execution_count": 15,
   "metadata": {},
   "outputs": [],
   "source": [
    "dim_unc_globe = ['Temperature', 'Timing', 'NegEmis']\n",
    "dim_unc_fairness = ['variable', 'Convergence_year', 'Historical_startyear', 'Discount_factor'] \n",
    "dim_unc_choices = ['Scenario', 'NonCO2red', 'Risk']\n",
    "\n",
    "vals = np.zeros(shape=(3, len(xr_sobol.Time), len(all_countries_iso)))\n",
    "for dim_i, dim in enumerate([dim_unc_globe, dim_unc_fairness, dim_unc_choices]):\n",
    "    vals[dim_i] = np.array(xr_sobol.sel(Factor = dim, Region=all_countries_iso).sum(dim='Factor').to_array())[0]"
   ]
  },
  {
   "cell_type": "code",
   "execution_count": 16,
   "metadata": {},
   "outputs": [
    {
     "name": "stdout",
     "output_type": "stream",
     "text": [
      "variable 0.2560505474773743\n",
      "Convergence_year 0.008800339024167785\n",
      "NegEmis 0.0015934101789112768\n",
      "NonCO2red 0.06153788769868976\n",
      "Temperature 0.4426355151205055\n",
      "Risk 0.07483548033561621\n",
      "Timing 0.0005847388454770884\n",
      "Scenario 0.009812337903578779\n",
      "Discount_factor 0.09856922144369448\n",
      "Historical_startyear 0.0455805219719849\n"
     ]
    }
   ],
   "source": [
    "for factor in np.array(xr_sobol.Factor):\n",
    "    print(factor, float(xr_sobol.sel(Time=2040, Region='USA', Factor=factor).Sobol_index))\n",
    "\n",
    "factors = ['variable', 'Discount_factor', 'Historical_startyear', 'Convergence_year',\n",
    "           'NonCO2red', 'Risk', 'Scenario', \n",
    "           'Temperature', 'Timing', 'NegEmis']\n",
    "factor_names = ['Allocation rule', 'Discount factor', 'Historical startyear', 'Convergence year', \n",
    "                 'Non-CO<sub>2</sub> reduction', 'Climate sensitivity','Socio-economic scenario',\n",
    "                'Peak temperature', 'Timing of action', 'Negative emissions']\n",
    "factor_colors = ['goldenrod', 'salmon', 'tomato', 'darkred', \n",
    "                  'dodgerblue', 'steelblue', 'navy', \n",
    "                 'lightgreen', 'yellowgreen', 'forestgreen']"
   ]
  },
  {
   "cell_type": "code",
   "execution_count": 17,
   "metadata": {},
   "outputs": [
    {
     "data": {
      "text/plain": [
       "array([0.68819912, 0.15667392, 0.15512696])"
      ]
     },
     "execution_count": 17,
     "metadata": {},
     "output_type": "execute_result"
    }
   ],
   "source": [
    "vals[:, 0, np.where(all_countries_iso == 'USA')[0][0]]"
   ]
  },
  {
   "cell_type": "code",
   "execution_count": 18,
   "metadata": {},
   "outputs": [],
   "source": [
    "mins = np.nanmin(vals, axis=2)\n",
    "maxs = np.nanmin(vals, axis=2)\n",
    "mins = (np.array(mins)*100).round(0).astype(int).astype(str)\n",
    "maxs = (np.array(maxs)*100).round(0).astype(int).astype(str)"
   ]
  },
  {
   "cell_type": "code",
   "execution_count": 56,
   "metadata": {},
   "outputs": [],
   "source": [
    "df_regions = pd.read_csv(\"X:/user/dekkerm/Data/AllCountries.csv\")\n",
    "continents = []\n",
    "bubblecolors = []\n",
    "texts = []\n",
    "for cty_i, cty in enumerate(all_countries_iso):\n",
    "    if cty == 'USA':\n",
    "        bubblecolors.append('plum')\n",
    "        texts.append(cty)\n",
    "    elif cty == 'IND':\n",
    "        bubblecolors.append('forestgreen')\n",
    "        texts.append(cty)\n",
    "    elif cty == 'BRA':\n",
    "        bubblecolors.append('goldenrod')\n",
    "        texts.append(cty)\n",
    "    elif cty == 'CHN':\n",
    "        bubblecolors.append('tomato')\n",
    "        texts.append(cty)\n",
    "    elif cty == 'ZAF':\n",
    "        bubblecolors.append('steelblue')\n",
    "        texts.append(cty)\n",
    "    elif cty == 'UGA':\n",
    "        bubblecolors.append('lightgreen')\n",
    "        texts.append(cty)\n",
    "    elif cty == 'TUR':\n",
    "        bubblecolors.append('brown')\n",
    "        texts.append(cty)\n",
    "    elif cty == 'RWA':\n",
    "        bubblecolors.append('dodgerblue')\n",
    "        texts.append(cty)\n",
    "    else:\n",
    "        bubblecolors.append('silver')\n",
    "        texts.append('')\n",
    "continents = np.array(continents)\n",
    "bubblecolors = np.array(bubblecolors)\n",
    "texts = np.array(texts)\n",
    "\n",
    "pops = np.array(xr_dataread.Population.sel(Region=all_countries_iso, Time=2020, Scenario='SSP2'))\n",
    "pops[np.isnan(pops)] = 1\n",
    "pops_n = pops/np.nanmax(pops)"
   ]
  },
  {
   "cell_type": "markdown",
   "metadata": {},
   "source": [
    "## Plot"
   ]
  },
  {
   "cell_type": "code",
   "execution_count": 20,
   "metadata": {},
   "outputs": [],
   "source": [
    "val_i = xr_sobol.sel(Region='USA', Factor='variable').Sobol_index"
   ]
  },
  {
   "cell_type": "code",
   "execution_count": 21,
   "metadata": {},
   "outputs": [],
   "source": [
    "def draw_line(fig, name, x1, x2, y1, y2, color):\n",
    "    fig.add_shape(type=\"line\", xref='paper', yref='paper',\n",
    "                  x0=x1,\n",
    "                  y0=y1,\n",
    "                  x1=x2,\n",
    "                  y1=y2,\n",
    "                  line=dict(color=color, width=3))"
   ]
  },
  {
   "cell_type": "code",
   "execution_count": 74,
   "metadata": {},
   "outputs": [],
   "source": [
    "fig = make_subplots(rows=4, cols=3, specs=[[{\"type\": \"scatterternary\", \"colspan\": 2, \"rowspan\": 4}, {}, {}],\n",
    "                                           [{}, {}, {}],\n",
    "                                           [{}, {}, {}],\n",
    "                                           [{}, {}, {}]],\n",
    "                    horizontal_spacing = 0, vertical_spacing=0.05)\n",
    "\n",
    "# Panel a\n",
    "for i in np.arange(0., 1.01, 0.25):\n",
    "    args = dict(mode='lines', showlegend=False, hoverinfo='skip',\n",
    "                                                    marker={'size': 15,\n",
    "                                                            'color': 'black',\n",
    "                                                            'opacity': 1,#0.9-i*0.03,\n",
    "                                                            'line' :dict(width=0., color='silver')},\n",
    "                                                    line={'width': 0.33, #np.mean(s[i:i+2])*0.5,\n",
    "                                                            'color': 'black',\n",
    "                                                            'dash': 'dot'},\n",
    "                                                    textfont=dict(size=5,\n",
    "                                                            color='black'))\n",
    "    fig.add_trace(go.Scatterternary(a=[i, i], b=[0, 1-i], c=[1-i, 0], **args), 1, 1)\n",
    "    fig.add_trace(go.Scatterternary(b=[i, i], a=[0, 1-i], c=[1-i, 0], **args), 1, 1)\n",
    "    fig.add_trace(go.Scatterternary(c=[i, i], b=[0, 1-i], a=[1-i, 0], **args), 1, 1)\n",
    "\n",
    "for cty_i, cty in enumerate(all_countries_iso):\n",
    "        fig.add_trace(go.Scatterternary(a=vals[0, :, cty_i],\n",
    "                                        b=vals[1, :, cty_i],\n",
    "                                        c=vals[2, :, cty_i],\n",
    "                                        name=cty,\n",
    "                                                        mode='lines+markers+text',\n",
    "                                                        showlegend=False,\n",
    "                                                        text=[texts[cty_i]]+['']*(len(vals[0])-1),\n",
    "                                                        marker={'size': 6,\n",
    "                                                                'color': bubblecolors[cty_i],\n",
    "                                                                'opacity': 0.9,#0.9-i*0.03,\n",
    "                                                                'line' :dict(width=0, color='black')},\n",
    "                                                        line={'width': 0.5, #np.mean(s[i:i+2])*0.5,\n",
    "                                                                'color': 'silver'},\n",
    "                                                        textfont=dict(size=(pops_n[cty_i])**0.4*25+1,\n",
    "                                                                color='black')), 1, 1)\n",
    "for cty in ['USA', 'CHN', 'BRA', 'ZAF', 'IND', 'UGA', 'RWA', 'TUR']:\n",
    "        cty_i = np.where(all_countries_iso == cty)[0][0]\n",
    "        fig.add_trace(go.Scatterternary(a=vals[0, :, cty_i],\n",
    "                                        b=vals[1, :, cty_i],\n",
    "                                        c=vals[2, :, cty_i],\n",
    "                                        name=cty,\n",
    "                                                        mode='lines+markers+text',\n",
    "                                                        showlegend=False,\n",
    "                                                        text=[texts[cty_i]]+['']*(len(vals[0])-1),#[\"'., str(i-2000) for i in [2040, 2050, 2060, 2070, 2080, 2090]],\n",
    "                                                        marker={'size': [(pops_n[cty_i])**0.4*60+4]+[15]*(len(vals[0])-1),\n",
    "                                                                'color': bubblecolors[cty_i],\n",
    "                                                                'opacity': 0.9,#0.9-i*0.03,\n",
    "                                                                'line' :dict(width=0.5, color='white')},\n",
    "                                                        line={'width': 3, #np.mean(s[i:i+2])*0.5,\n",
    "                                                                'color':bubblecolors[cty_i]},\n",
    "                                                        textfont=dict(size=(pops_n[cty_i])**0.4*25+4,\n",
    "                                                                color='black')), 1, 1)\n",
    "\n",
    "fig.update_layout({\n",
    "'plot_bgcolor':'rgb(243, 243, 243)',\n",
    "'ternary':\n",
    "{'sum':1,\n",
    "'bgcolor':'white',\n",
    "    # \"paper_bgcolor\":'rgba(0,0,0,0)',\n",
    "    # \"plot_bgcolor\":'rgba(0,0,0,0)',\n",
    "'aaxis':{'title': '', 'min': 0., 'titlefont':{'size': 25},#Climate target<br>\n",
    "        'linewidth':0, 'ticks':'outside',\n",
    "        'tickmode':'array','tickvals':np.arange(0, 1.01, 0.25), 'ticktext':[str(int(i*100))+'%' for i in np.arange(0, 1.01, 0.25)], 'tickfont':{'size':15}},\n",
    "'baxis':{'title': '', 'min': 0, 'titlefont':{'size': 25},# &nbsp; &nbsp; &nbsp;#Model &nbsp; &nbsp;\n",
    "        'linewidth':2, 'ticks':'outside',\n",
    "        'tickmode':'array','tickvals':np.arange(0, 1.01, 0.25), 'ticktext':[str(int(i*100))+'%' for i in np.arange(0, 1.01, 0.25)],'tickangle':60, 'tickfont':{'size':15}},\n",
    "'caxis':{'title': '', 'min': 0, 'titlefont':{'size': 25},#Other<br>scenario assumptions\n",
    "        'linewidth':2, 'ticks':'outside',\n",
    "        'tickmode':'array','tickvals':np.arange(0, 1.01, 0.25), 'ticktext':[str(int(i*100))+'%' for i in np.arange(0, 1.01, 0.25)],'tickangle':-60, 'tickfont':{'size':15}}}})\n",
    "\n",
    "# Panel b-d\n",
    "for cty_i, cty in enumerate(['USA', 'CHN', 'TUR', 'RWA']):\n",
    "        for factor_i, factor in enumerate(factors):\n",
    "                col = factor_colors[factor_i]\n",
    "                val_i = xr_sobol.sel(Region=cty, Factor=factor).Sobol_index\n",
    "                if factor_i == 0: fill='tozeroy'\n",
    "                else: fill = 'tonexty'\n",
    "                fig.add_trace(go.Scatter(x=xr_sobol.Time,\n",
    "                                        y=val_i,\n",
    "                                        mode='lines',\n",
    "                                        marker={'color':col},\n",
    "                                        fill=fill,\n",
    "                                        name=factor_names[factor_i],\n",
    "                                        showlegend=[True, False, False, False, False, False, False][cty_i],\n",
    "                                        stackgroup='one'\n",
    "                                        ), range(1, 6)[cty_i], 3)\n",
    "\n",
    "fig.update_geos(visible=False,\n",
    "                showlakes=True,\n",
    "                lakecolor='rgb(255, 255, 255)',\n",
    "                projection_type='natural earth',\n",
    "                resolution=110,\n",
    "                showcoastlines=False,)\n",
    "\n",
    "fig.update_layout(\n",
    "    legend=dict(\n",
    "        yanchor=\"top\",\n",
    "        y=0.29,\n",
    "        xanchor=\"left\",\n",
    "        x=0.08,\n",
    "        font=dict(size=15, color=\"black\"),\n",
    "    ),\n",
    "    #template='ggplot2',\n",
    "    height=900,\n",
    "    width=1600,\n",
    ")\n",
    "fig.update_xaxes(visible=False, row=1, col=3)\n",
    "fig.update_xaxes(visible=False, row=2, col=3)\n",
    "fig.update_xaxes(visible=False, row=3, col=3)\n",
    "\n",
    "args = dict(xref=\"paper\", yref=\"paper\", showarrow=False)\n",
    "annotations = [\n",
    "    dict(xref='paper', yref='paper', ax=0, align='left', ay=-0, showarrow=False, font=dict(color='black', size=24), y=0.98, x=0.0, text=\"<b>(a) Relative impact of<br>the allocation dimensions</b>\"),\n",
    "    dict(xref='paper', yref='paper', ax=0, align='left', ay=-0, showarrow=False, font=dict(color='black', size=24), y=1.04, x=0.85, text=\"<b>(b) United States</b>\"),\n",
    "    dict(xref='paper', yref='paper', ax=0, align='left', ay=-0, showarrow=False, font=dict(color='black', size=24), y=0.78, x=0.77, text=\"<b>(c) China</b>\"),\n",
    "    dict(xref='paper', yref='paper', ax=0, align='left', ay=-0, showarrow=False, font=dict(color='black', size=24), y=0.49, x=0.784, text=\"<b>(d) Turkey</b>\"),\n",
    "    dict(xref='paper', yref='paper', ax=0, align='left', ay=-0, showarrow=False, font=dict(color='black', size=24), y=0.21, x=0.79, text=\"<b>(e) Rwanda</b>\"),\n",
    "    dict(text=\"Global targets\", x=0.28, y=1.12, **args, font=dict(color='black', size=25)),\n",
    "    dict(text=\"temperature, negative emissions, timing\", x=0.23, y=1.08, **args, font=dict(color='darkgray', size=16)),\n",
    "    dict(text=\"Equity\", x=0, y=0.13, **args, font=dict(color='black', size=25)),\n",
    "    dict(text=\"allocation rule, discounting,<br>historical startyear<br>convergence year\", x=-0.05, y=0.04, **args, font=dict(color='darkgray', size=16)),\n",
    "    dict(text=\"Physical and social<br>uncertainties\", x=0.55, y=0.08, **args, font=dict(color='black', size=25)),\n",
    "    dict(text=\"scenario, non-CO2,<br>climate sensitivity\", x=0.55, y=0.02, **args, font=dict(color='darkgray', size=16))\n",
    "]\n",
    "for ann in annotations:\n",
    "    fig.add_annotation(**ann)\n",
    "\n",
    "#draw_line(fig, \"\", 0.65, 0.24, 1, 0.4, \"black\")\n",
    "\n",
    "#fig.update_layout(margin={\"r\":20,\"t\":50,\"l\":100,\"b\":50})\n",
    "fig.update_layout(\n",
    "       legend=dict(x=0.5, y=0.95),\n",
    "    paper_bgcolor='white',  # Set the background color\n",
    "    plot_bgcolor='white'\n",
    ")\n",
    "fig.write_image(\"K:/Code/EffortSharing/Figures/Paper_FairShares/Figure_3.png\", scale=3)"
   ]
  },
  {
   "cell_type": "code",
   "execution_count": 70,
   "metadata": {},
   "outputs": [
    {
     "data": {
      "text/plain": [
       "array([0.05014223, 0.34787901, 0.30074261])"
      ]
     },
     "execution_count": 70,
     "metadata": {},
     "output_type": "execute_result"
    }
   ],
   "source": [
    "np.array(xr_sobol.sel(Time=2060, Region=['USA', 'CHN', 'IND'], Factor='Temperature').Sobol_index)"
   ]
  }
 ],
 "metadata": {
  "kernelspec": {
   "display_name": "MyEnv2",
   "language": "python",
   "name": "python3"
  },
  "language_info": {
   "codemirror_mode": {
    "name": "ipython",
    "version": 3
   },
   "file_extension": ".py",
   "mimetype": "text/x-python",
   "name": "python",
   "nbconvert_exporter": "python",
   "pygments_lexer": "ipython3",
   "version": "3.12.1"
  }
 },
 "nbformat": 4,
 "nbformat_minor": 2
}
