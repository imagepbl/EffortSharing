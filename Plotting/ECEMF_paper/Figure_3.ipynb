{
 "cells": [
  {
   "attachments": {},
   "cell_type": "markdown",
   "metadata": {},
   "source": [
    "## Preambule"
   ]
  },
  {
   "cell_type": "code",
   "execution_count": 111,
   "metadata": {},
   "outputs": [],
   "source": [
    "# General packages\n",
    "import numpy as np\n",
    "import pandas as pd\n",
    "from tqdm import tqdm\n",
    "from pathlib import Path\n",
    "import xarray as xr\n",
    "import json\n",
    "import plotly\n",
    "\n",
    "# Plotting\n",
    "import matplotlib.pyplot as plt\n",
    "import plotly.express as px\n",
    "import plotly.graph_objects as go\n",
    "from plotly.subplots import make_subplots\n",
    "from plotly.colors import n_colors"
   ]
  },
  {
   "attachments": {},
   "cell_type": "markdown",
   "metadata": {},
   "source": [
    "## Parameters"
   ]
  },
  {
   "cell_type": "code",
   "execution_count": 112,
   "metadata": {},
   "outputs": [],
   "source": [
    "standard_settings = dict(Risk_of_exceedance='50%',\n",
    "                         Negative_emissions='Medium',\n",
    "                         Non_CO2_mitigation_potential='Medium',\n",
    "                         Convergence_year=2075)\n",
    "params = dict(start_year_analysis=2021)\n",
    "rules = ['GF', 'PC', 'PCC', 'ECPC', 'AP', 'GDR']\n",
    "rulecolors = ['steelblue', 'goldenrod', 'forestgreen', 'sienna', 'mediumvioletred']\n",
    "costoptimal_colors = ['orangered', 'red', 'darkred']"
   ]
  },
  {
   "attachments": {},
   "cell_type": "markdown",
   "metadata": {},
   "source": [
    "## Paths"
   ]
  },
  {
   "cell_type": "code",
   "execution_count": 113,
   "metadata": {},
   "outputs": [],
   "source": [
    "path_main = Path(\"X:/user/dekkerm/Projects/ECEMF_T5.2/\")\n",
    "path_data = path_main / \"Data\"\n",
    "path_data_ext = Path(\"X:/user/dekkerm/Data\")\n",
    "path_figs = path_main / \"Figures\" / \"ECEMF_paper\""
   ]
  },
  {
   "attachments": {},
   "cell_type": "markdown",
   "metadata": {},
   "source": [
    "## Read data files"
   ]
  },
  {
   "cell_type": "code",
   "execution_count": 114,
   "metadata": {},
   "outputs": [],
   "source": [
    "xr_total = xr.open_dataset(path_data / \"xr_total.nc\")\n",
    "all_regions_iso = np.load(path_data / \"all_regions.npy\")\n",
    "all_regions_names = np.load(path_data / \"all_regions_names.npy\")\n",
    "all_countries_iso = np.load(path_data / \"all_countries.npy\", allow_pickle=True)\n",
    "all_countries_names = np.load(path_data / \"all_countries_names.npy\", allow_pickle=True)"
   ]
  },
  {
   "cell_type": "markdown",
   "metadata": {},
   "source": [
    "## Compute fractions"
   ]
  },
  {
   "cell_type": "code",
   "execution_count": 115,
   "metadata": {},
   "outputs": [],
   "source": [
    "costopt = xr_total.sel(**standard_settings, Temperature='1.5 deg', Time=np.arange(params['start_year_analysis'], 2101), Costoptimal_range='Median').CO2_costopt.sum(dim='Time')\n",
    "costopt = costopt.where(costopt!=0, np.nan)\n",
    "rules = ['GF', 'PC', 'PCC', 'ECPC', 'AP', 'GDR']\n",
    "for rule_i, rule in enumerate(rules):\n",
    "    buds = xr_total.sel(**standard_settings, Temperature='1.5 deg', Time=np.arange(params['start_year_analysis'], 2101)).sum(dim='Time').mean(dim=['Scenario'])[rule]\n",
    "    if rule_i == 0: larger_than_costopt = costopt.where(costopt > buds, 0).where(costopt<=buds, 1).where(~np.isnan(costopt), np.nan)\n",
    "    else: larger_than_costopt += costopt.where(costopt > buds, 0).where(costopt<=buds, 1).where(~np.isnan(costopt), np.nan)"
   ]
  },
  {
   "cell_type": "markdown",
   "metadata": {},
   "source": [
    "World"
   ]
  },
  {
   "cell_type": "code",
   "execution_count": 116,
   "metadata": {},
   "outputs": [],
   "source": [
    "df_ar6 = pd.read_csv(path_data_ext/\"IPCC/AR6_Scenarios_Database_World_v1.1.csv\")\n",
    "df_ar6 = df_ar6[df_ar6.Variable.isin(['Emissions|CO2|Energy and Industrial Processes', 'Policy Cost|Consumption Loss'])]\n",
    "df_ar6 = df_ar6.reset_index(drop=True)\n",
    "\n",
    "df_ar6_meta = pd.read_excel(path_data_ext/\"IPCC/AR6_Scenarios_Database_metadata_indicators_v1.1.xlsx\", sheet_name='meta_Ch3vetted_withclimate')\n",
    "mods = np.array(df_ar6_meta.Model)\n",
    "scens = np.array(df_ar6_meta.Scenario)\n",
    "modscens_meta = np.array([mods[i]+'|'+scens[i] for i in range(len(scens))])\n",
    "df_ar6_meta['ModelScenario'] = modscens_meta\n",
    "df_ar6_meta = df_ar6_meta[['ModelScenario', 'Category', 'Policy_category']]\n",
    "df_ar6_meta = df_ar6_meta[df_ar6_meta.Category.isin(['C1', 'C2'])]\n",
    "df_ar6_meta = df_ar6_meta.reset_index(drop=True)\n",
    "ms_meta_refined = np.array(df_ar6_meta.ModelScenario)\n",
    "\n",
    "mods = np.array(df_ar6.Model)\n",
    "scens = np.array(df_ar6.Scenario)\n",
    "modscens = np.array([mods[i]+'|'+scens[i] for i in range(len(scens))])\n",
    "df_ar6['ModelScenario'] = modscens\n",
    "df_ar6['Region'] = 'WORLD'\n",
    "df_ar6 = df_ar6.drop(['Model', 'Scenario', 'Unit'], axis=1)\n",
    "df_ar6 = df_ar6[df_ar6.ModelScenario.isin(np.array(ms_meta_refined))]\n",
    "\n",
    "dummy = df_ar6.melt(id_vars=[\"Variable\", \"Region\", \"ModelScenario\"], var_name=\"Time\", value_name=\"Value\")\n",
    "dummy['Time'] = np.array(dummy['Time'].astype(int))\n",
    "dummy = dummy.set_index([\"Variable\", \"Region\", \"ModelScenario\", \"Time\"])\n",
    "xr_scen = xr.Dataset.from_dataframe(dummy)\n",
    "xr_scen = xr_scen.reindex(Time = np.arange(1850, 2101))\n",
    "xr_scen = xr_scen.interpolate_na(dim=\"Time\", method=\"linear\")"
   ]
  },
  {
   "cell_type": "markdown",
   "metadata": {},
   "source": [
    "Regional"
   ]
  },
  {
   "cell_type": "code",
   "execution_count": 117,
   "metadata": {},
   "outputs": [],
   "source": [
    "df_ar6 = pd.read_csv(path_data_ext/\"IPCC/AR6_ISO3/AR6_Scenarios_Database_ISO3_v1.1.csv\")\n",
    "df_ar6 = df_ar6[df_ar6.Variable.isin(['Emissions|CO2|Energy and Industrial Processes', 'Policy Cost|Consumption Loss'])]\n",
    "df_ar6 = df_ar6.reset_index(drop=True)\n",
    "\n",
    "df_ar6_meta = pd.read_excel(path_data_ext/\"IPCC/AR6_ISO3/AR6_Scenarios_Database_metadata_indicators_v1.1.xlsx\", sheet_name='meta_Ch3vetted_withclimate')\n",
    "mods = np.array(df_ar6_meta.Model)\n",
    "scens = np.array(df_ar6_meta.Scenario)\n",
    "modscens_meta = np.array([mods[i]+'|'+scens[i] for i in range(len(scens))])\n",
    "df_ar6_meta['ModelScenario'] = modscens_meta\n",
    "df_ar6_meta = df_ar6_meta[['ModelScenario', 'Category', 'Policy_category']]\n",
    "df_ar6_meta = df_ar6_meta[df_ar6_meta.Category.isin(['C1', 'C2'])]\n",
    "df_ar6_meta = df_ar6_meta.reset_index(drop=True)\n",
    "ms_meta_refined = np.array(df_ar6_meta.ModelScenario)\n",
    "\n",
    "mods = np.array(df_ar6.Model)\n",
    "scens = np.array(df_ar6.Scenario)\n",
    "modscens = np.array([mods[i]+'|'+scens[i] for i in range(len(scens))])\n",
    "df_ar6['ModelScenario'] = modscens\n",
    "df_ar6 = df_ar6.drop(['Model', 'Scenario', 'Unit'], axis=1)\n",
    "df_ar6 = df_ar6[df_ar6.ModelScenario.isin(np.array(ms_meta_refined))]\n",
    "\n",
    "dummy = df_ar6.melt(id_vars=[\"Variable\", \"Region\", \"ModelScenario\"], var_name=\"Time\", value_name=\"Value\")\n",
    "dummy['Time'] = np.array(dummy['Time'].astype(int))\n",
    "dummy = dummy.set_index([\"Variable\", \"Region\", \"ModelScenario\", \"Time\"])\n",
    "xr_scen_r = xr.Dataset.from_dataframe(dummy)\n",
    "xr_scen_r = xr_scen_r.reindex(Time = np.arange(1850, 2101))\n",
    "xr_scen_r = xr_scen_r.interpolate_na(dim=\"Time\", method=\"linear\")"
   ]
  },
  {
   "cell_type": "markdown",
   "metadata": {},
   "source": [
    "Concatenate"
   ]
  },
  {
   "cell_type": "code",
   "execution_count": 118,
   "metadata": {},
   "outputs": [],
   "source": [
    "xr_scen_all = xr.merge([xr_scen, xr_scen_r])"
   ]
  },
  {
   "attachments": {},
   "cell_type": "markdown",
   "metadata": {},
   "source": [
    "## Plot"
   ]
  },
  {
   "cell_type": "code",
   "execution_count": 119,
   "metadata": {},
   "outputs": [],
   "source": [
    "path_ctygroups = \"X:/user/dekkerm/Data/\" + \"UNFCCC_Parties_Groups_noeu.xlsx\"\n",
    "df = pd.read_excel(path_ctygroups, sheet_name = \"Country groups\")\n",
    "countries_iso = np.array(df[\"Country ISO Code\"])\n",
    "countries_name = np.array(df[\"Name\"])\n",
    "countries_iso = np.array(df[\"Country ISO Code\"])\n",
    "group_eu = countries_iso[np.array(df[\"EU\"]) == 1]"
   ]
  },
  {
   "cell_type": "markdown",
   "metadata": {},
   "source": [
    "Helper stuff"
   ]
  },
  {
   "cell_type": "code",
   "execution_count": 120,
   "metadata": {},
   "outputs": [],
   "source": [
    "colmap = 'Earth_r'\n",
    "colmap2 = 'terrain_r'"
   ]
  },
  {
   "cell_type": "code",
   "execution_count": 121,
   "metadata": {},
   "outputs": [],
   "source": [
    "regs = np.array(larger_than_costopt.Region)[np.where(~np.isnan(larger_than_costopt))]\n",
    "data = larger_than_costopt.sel(Region=regs)/6\n",
    "costopt2 = costopt.sel(Region=regs)"
   ]
  },
  {
   "cell_type": "markdown",
   "metadata": {},
   "source": [
    "Actual plot"
   ]
  },
  {
   "cell_type": "code",
   "execution_count": 130,
   "metadata": {},
   "outputs": [
    {
     "data": {
      "application/vnd.plotly.v1+json": {
       "config": {
        "plotlyServerURL": "https://plotly.com"
       },
       "data": [
        {
         "colorbar": {
          "len": 0.43,
          "orientation": "h",
          "thickness": 15,
          "tickfont": {
           "size": 10
          },
          "ticklabelposition": "outside",
          "ticktext": [
           "None<br>(Mitigation financed<br>by others)",
           "1 out of 6",
           "2 out of 6",
           "3 out of 6",
           "4 out of 6",
           "5 out of 6",
           "All<br>(Finances mitigation<br>abroad)"
          ],
          "tickvals": [
           0,
           0.16666666666666666,
           0.3333333333333333,
           0.5,
           0.6666666666666666,
           0.8333333333333333,
           1
          ],
          "x": 0.37,
          "y": 0.45
         },
         "colorscale": [
          [
           0,
           "rgb(40, 135, 161)"
          ],
          [
           0.16666666666666666,
           "rgb(121, 167, 172)"
          ],
          [
           0.3333333333333333,
           "rgb(181, 200, 184)"
          ],
          [
           0.5,
           "rgb(237, 234, 194)"
          ],
          [
           0.6666666666666666,
           "rgb(214, 189, 141)"
          ],
          [
           0.8333333333333334,
           "rgb(189, 146, 90)"
          ],
          [
           1,
           "rgb(161, 105, 40)"
          ]
         ],
         "geo": "geo",
         "hovertemplate": "%{text}",
         "locationmode": "ISO-3",
         "locations": [
          "ARG",
          "AUS",
          "BRA",
          "CAN",
          "CHN",
          "COL",
          "IND",
          "IDN",
          "JPN",
          "MEX",
          "PAK",
          "RUS",
          "SAU",
          "ZAF",
          "KOR",
          "TUR",
          "USA",
          "EU",
          "Northern America"
         ],
         "marker": {
          "line": {
           "color": "black",
           "width": 1
          }
         },
         "name": "",
         "showscale": true,
         "text": [
          "ARG: 4 out of 6",
          "AUS: 4 out of 6",
          "BRA: 2 out of 6",
          "CAN: 4 out of 6",
          "CHN: 3 out of 6",
          "COL: 0 out of 6",
          "IND: 4 out of 6",
          "IDN: 4 out of 6",
          "JPN: 4 out of 6",
          "MEX: 5 out of 6",
          "PAK: 3 out of 6",
          "RUS: 4 out of 6",
          "SAU: 5 out of 6",
          "ZAF: 3 out of 6",
          "KOR: 5 out of 6",
          "TUR: 6 out of 6",
          "USA: 4 out of 6",
          "EU: 4 out of 6",
          "Northern America: 4 out of 6"
         ],
         "type": "choropleth",
         "z": [
          0.6666666666666666,
          0.6666666666666666,
          0.3333333333333333,
          0.6666666666666666,
          0.5,
          0,
          0.6666666666666666,
          0.6666666666666666,
          0.6666666666666666,
          0.8333333333333334,
          0.5,
          0.6666666666666666,
          0.8333333333333334,
          0.5,
          0.8333333333333334,
          1,
          0.6666666666666666,
          0.6666666666666666,
          0.6666666666666666
         ],
         "zmax": 1,
         "zmin": 0
        },
        {
         "colorscale": [
          [
           0,
           "rgb(40, 135, 161)"
          ],
          [
           0.16666666666666666,
           "rgb(121, 167, 172)"
          ],
          [
           0.3333333333333333,
           "rgb(181, 200, 184)"
          ],
          [
           0.5,
           "rgb(237, 234, 194)"
          ],
          [
           0.6666666666666666,
           "rgb(214, 189, 141)"
          ],
          [
           0.8333333333333334,
           "rgb(189, 146, 90)"
          ],
          [
           1,
           "rgb(161, 105, 40)"
          ]
         ],
         "geo": "geo",
         "hovertemplate": "%{text}",
         "locationmode": "ISO-3",
         "locations": [
          "AUT",
          "BEL",
          "BGR",
          "HRV",
          "CYP",
          "CZE",
          "DNK",
          "EST",
          "FIN",
          "FRA",
          "DEU",
          "GRC",
          "HUN",
          "IRL",
          "ITA",
          "LVA",
          "LTU",
          "LUX",
          "MLT",
          "NLD",
          "POL",
          "PRT",
          "ROU",
          "SVK",
          "SVN",
          "ESP",
          "SWE"
         ],
         "marker": {
          "line": {
           "color": "black",
           "width": 1
          }
         },
         "name": "",
         "showscale": false,
         "text": [
          "EU: 4 out of 6",
          "EU: 4 out of 6",
          "EU: 4 out of 6",
          "EU: 4 out of 6",
          "EU: 4 out of 6",
          "EU: 4 out of 6",
          "EU: 4 out of 6",
          "EU: 4 out of 6",
          "EU: 4 out of 6",
          "EU: 4 out of 6",
          "EU: 4 out of 6",
          "EU: 4 out of 6",
          "EU: 4 out of 6",
          "EU: 4 out of 6",
          "EU: 4 out of 6",
          "EU: 4 out of 6",
          "EU: 4 out of 6",
          "EU: 4 out of 6",
          "EU: 4 out of 6",
          "EU: 4 out of 6",
          "EU: 4 out of 6",
          "EU: 4 out of 6",
          "EU: 4 out of 6",
          "EU: 4 out of 6",
          "EU: 4 out of 6",
          "EU: 4 out of 6",
          "EU: 4 out of 6"
         ],
         "type": "choropleth",
         "z": [
          0.6666666666666666,
          0.6666666666666666,
          0.6666666666666666,
          0.6666666666666666,
          0.6666666666666666,
          0.6666666666666666,
          0.6666666666666666,
          0.6666666666666666,
          0.6666666666666666,
          0.6666666666666666,
          0.6666666666666666,
          0.6666666666666666,
          0.6666666666666666,
          0.6666666666666666,
          0.6666666666666666,
          0.6666666666666666,
          0.6666666666666666,
          0.6666666666666666,
          0.6666666666666666,
          0.6666666666666666,
          0.6666666666666666,
          0.6666666666666666,
          0.6666666666666666,
          0.6666666666666666,
          0.6666666666666666,
          0.6666666666666666,
          0.6666666666666666
         ],
         "zmax": 1,
         "zmin": 0
        },
        {
         "hoverinfo": "skip",
         "line": {
          "color": "black",
          "width": 0
         },
         "mode": "lines",
         "name": "",
         "showlegend": false,
         "type": "scatter",
         "x": [
          "CP",
          "NDC",
          "NZ",
          "CO",
          "GF",
          "PC",
          "PCC",
          "AP",
          "GDR",
          "ECPC"
         ],
         "xaxis": "x12",
         "y": [
          53986.46162086323,
          53986.46162086323,
          53986.46162086323,
          53986.46162086323,
          53986.46162086323,
          53986.46162086323,
          53986.46162086323,
          53986.46162086323,
          53986.46162086323,
          53986.46162086323
         ],
         "yaxis": "y12"
        },
        {
         "hoverinfo": "skip",
         "line": {
          "color": "black",
          "width": 1
         },
         "mode": "lines",
         "name": "",
         "showlegend": false,
         "type": "scatter",
         "x": [
          "CO",
          "GF",
          "PC",
          "PCC",
          "AP",
          "GDR",
          "ECPC"
         ],
         "xaxis": "x12",
         "y": [
          53986.46162086323,
          53986.46162086323,
          53986.46162086323,
          53986.46162086323,
          53986.46162086323,
          53986.46162086323,
          53986.46162086323,
          53986.46162086323,
          53986.46162086323,
          53986.46162086323
         ],
         "yaxis": "y12"
        },
        {
         "hoverinfo": "skip",
         "line": {
          "color": "silver",
          "width": 0
         },
         "mode": "lines",
         "name": "",
         "showlegend": false,
         "type": "scatter",
         "x": [
          "GF",
          "PC",
          "PCC",
          "AP",
          "GDR",
          "ECPC"
         ],
         "xaxis": "x12",
         "y": [
          27595.297300000006,
          27595.297300000006,
          27595.297300000006,
          27595.297300000006,
          27595.297300000006,
          27595.297300000006,
          27595.297300000006,
          27595.297300000006,
          27595.297300000006,
          27595.297300000006
         ],
         "yaxis": "y12"
        },
        {
         "fill": "tonexty",
         "hoverinfo": "skip",
         "line": {
          "color": "silver",
          "width": 0
         },
         "mode": "lines",
         "name": "",
         "showlegend": false,
         "type": "scatter",
         "x": [
          "GF",
          "PC",
          "PCC",
          "AP",
          "GDR",
          "ECPC"
         ],
         "xaxis": "x12",
         "y": [
          75246.74375771606,
          75246.74375771606,
          75246.74375771606,
          75246.74375771606,
          75246.74375771606,
          75246.74375771606,
          75246.74375771606,
          75246.74375771606,
          75246.74375771606,
          75246.74375771606
         ],
         "yaxis": "y12"
        },
        {
         "boxpoints": "all",
         "fillcolor": "rgb(214, 189, 141)",
         "hovertemplate": "%{text}",
         "jitter": 0.5,
         "line": {
          "color": "black",
          "width": 1.5
         },
         "marker": {
          "color": "grey",
          "size": 3
         },
         "name": "CO",
         "pointpos": -1.8,
         "showlegend": false,
         "type": "box",
         "whiskerwidth": 0.4,
         "xaxis": "x12",
         "y": [
          [
           [
            [
             12942.133961848598
            ]
           ]
          ],
          [
           [
            [
             56431.70763170663
            ]
           ]
          ],
          [
           [
            [
             102900.58204931668
            ]
           ]
          ]
         ],
         "yaxis": "y12"
        },
        {
         "boxpoints": "all",
         "fillcolor": "rgb(214, 189, 141)",
         "hovertemplate": "%{text}",
         "jitter": 0.5,
         "line": {
          "color": "black",
          "width": 1.5
         },
         "marker": {
          "color": "grey",
          "size": 0.1
         },
         "name": "CP",
         "pointpos": 0,
         "showlegend": false,
         "type": "box",
         "whiskerwidth": 0.4,
         "xaxis": "x12",
         "y": [
          0,
          529916.2303873801,
          183714.4733674,
          397147.41714372917,
          281288.0689098835,
          452360.71187490784,
          264688.18310546875,
          174213.5693,
          269236.64057723345
         ],
         "yaxis": "y12"
        },
        {
         "boxpoints": "all",
         "fillcolor": "rgb(214, 189, 141)",
         "hovertemplate": "%{text}",
         "jitter": 0.5,
         "line": {
          "color": "black",
          "width": 1.5
         },
         "marker": {
          "color": "grey",
          "size": 0.1
         },
         "name": "NDC",
         "pointpos": 0,
         "showlegend": false,
         "type": "box",
         "whiskerwidth": 0.4,
         "xaxis": "x12",
         "y": [
          0,
          0,
          30835.6817853,
          196092.89126684115,
          9177.02476779372,
          108256.14671836374,
          127266.27899169922,
          58583.55515,
          173589.25654852518
         ],
         "yaxis": "y12"
        },
        {
         "boxpoints": "all",
         "fillcolor": "rgb(214, 189, 141)",
         "hovertemplate": "%{text}",
         "jitter": 0.5,
         "line": {
          "color": "black",
          "width": 1.5
         },
         "marker": {
          "color": "grey",
          "size": 0.1
         },
         "name": "NZ",
         "pointpos": 0,
         "showlegend": false,
         "type": "box",
         "whiskerwidth": 0.4,
         "xaxis": "x12",
         "y": [
          0,
          169337.29645814002,
          60065.686534267006,
          135097.94696341257,
          8269.827345162632,
          120420.82323163532,
          62839.93606567383,
          16895.47635,
          128580.42910455559
         ],
         "yaxis": "y12"
        },
        {
         "boxpoints": "all",
         "fillcolor": "rgb(214, 189, 141)",
         "hovertemplate": "%{text}",
         "jitter": 0,
         "line": {
          "color": "black",
          "width": 1.5
         },
         "marker": {
          "color": "grey",
          "size": 0.1
         },
         "name": "CO",
         "pointpos": 0,
         "showlegend": false,
         "type": "box",
         "whiskerwidth": 0.4,
         "xaxis": "x12",
         "y": [
          null,
          33080.8474,
          49429.5659,
          65565.3266,
          86023.84279999998,
          80053.3425,
          null,
          null,
          null,
          null,
          null,
          null,
          25060.348888,
          39584.123637,
          44276.0388385,
          39580.827973499996,
          49984.977238499996,
          null,
          -31064.0529455,
          -11207.773224000004,
          43038.35408462896,
          -29005.3324662525,
          -10953.496076541831,
          5400.019476383493,
          21575.305483815093,
          38047.50265829609,
          54422.04158833384,
          29553.315345208266,
          64589.73215549145,
          43917.48423634437,
          48170.01852930589,
          50580.67677588633,
          46252.55796952306,
          83817.35078146606,
          33440.41439999254,
          64710.87903243146,
          53550.881653392615,
          96595.12399106282,
          93416.40873443389,
          72705.04719019064,
          78196.40138096262,
          null,
          null,
          56781.92803828418,
          55060.764694212005,
          66050.3148547411,
          40365.42427921295,
          52293.99293769896,
          67118.75449228287,
          55918.825476441765,
          66826.47433420084,
          49516.77853788575,
          61194.053261435125,
          21827.16764858365,
          26067.283324897286,
          1942.0949898660192,
          -3172.3918974995568,
          null,
          null,
          null,
          null,
          null,
          null,
          null,
          null,
          null,
          null,
          null,
          null,
          null,
          null,
          54507.804473178774,
          68655.12719207446,
          60975.49305682258,
          68006.81509547323,
          76929.72971035726,
          62135.74763834987,
          32032.975905769214,
          46993.3114622025,
          60777.00472988919,
          66988.31249900656,
          67735.69266040041,
          74305.5930194507,
          78216.3202829586,
          88363.44608177133,
          92820.41526711344,
          81274.03939740639,
          87861.4008862197,
          90552.80008954884,
          90398.1796487775,
          86266.91102283349,
          94766.84690628541,
          96823.65117931433,
          86167.64383915963,
          76273.122100556,
          83001.79089681424,
          88921.37645555349,
          92220.99878467957,
          97591.35897724784,
          103742.15763369837,
          104042.68127386317,
          107761.19839759899,
          59753.66247545001,
          73685.489303345,
          null,
          null,
          null,
          null,
          null,
          null,
          null,
          null,
          null,
          null,
          null,
          null,
          null,
          null,
          null,
          null,
          null,
          null,
          null,
          null,
          71753.28747558594,
          72021.21882629395,
          58110.87619018555,
          64256.23007202148,
          75560.46067047119,
          null,
          null,
          null,
          null,
          null,
          null,
          null,
          null,
          null,
          null,
          null,
          102004.03319999999,
          30191.579149999998,
          30894.593799999995,
          81219.6283,
          37091.97170000001,
          79921.40165,
          45044.6578,
          76445.83120000002,
          -345.68295000000217,
          31578.717449999996,
          49469.43205,
          35368.2311,
          56649.05565000001,
          57061.263300000006,
          null,
          null,
          null,
          21254.06424999999,
          -19941.00900000001,
          21962.38524999999,
          -38575.5585,
          6331.724499999997,
          -4666.029800000006,
          7679.913999999997,
          null,
          null,
          null,
          -37179.508299999994,
          -50695.473000000005,
          -34329.035,
          -35317.12249999999,
          -24111.839,
          -4666.029800000006,
          6331.724499999997,
          2388.344,
          1210.21025,
          24520.474199999997,
          28063.183299999993,
          28385.619,
          27814.829350000007,
          null,
          27522.119950000008,
          57555.0632,
          57563.797999999995,
          62237.27080000001,
          77360.9236,
          80178.465,
          82925.63735,
          51670.6498,
          53375.8462,
          85109.4847,
          63519.112349999996,
          64272.0773,
          86756.8318,
          71949.928,
          76437.91245,
          53331.0644,
          79737.84015,
          59622.62955,
          83530.08425,
          71865.4932,
          61953.1318,
          87156.29765,
          71215.23295,
          38447.54205,
          22288.201600000004,
          21112.5827,
          21429.0922,
          43305.54595,
          1724.3058499999997,
          40787.3438,
          28179.9848,
          28726.5079,
          -18411.925349999998,
          -21689.09306380082,
          -18243.970330323365,
          31238.27253926722,
          -11206.643436229668,
          21947.470027092826,
          -4877.277912912571,
          null,
          null,
          null,
          null,
          null
         ],
         "yaxis": "y12"
        },
        {
         "line": {
          "color": "grey",
          "dash": "dot",
          "width": 2
         },
         "mode": "lines",
         "showlegend": false,
         "type": "scatter",
         "x": [
          "GF",
          "GF"
         ],
         "xaxis": "x12",
         "y": [
          53986.46162086323,
          55859.363271268856
         ],
         "yaxis": "y12"
        },
        {
         "marker": {
          "color": "grey",
          "line": {
           "color": "black",
           "width": 1.5
          },
          "size": 10,
          "symbol": "square"
         },
         "mode": "markers+text",
         "showlegend": false,
         "text": "~<b>$",
         "textfont": {
          "color": "grey"
         },
         "textposition": "middle left",
         "type": "scatter",
         "x": [
          "GF"
         ],
         "xaxis": "x12",
         "y": [
          55859.363271268856
         ],
         "yaxis": "y12"
        },
        {
         "line": {
          "color": "tomato",
          "dash": "dot",
          "width": 2
         },
         "mode": "lines",
         "showlegend": false,
         "type": "scatter",
         "x": [
          "PC",
          "PC"
         ],
         "xaxis": "x12",
         "y": [
          53986.46162086323,
          18588.73535463302
         ],
         "yaxis": "y12"
        },
        {
         "marker": {
          "color": "tomato",
          "line": {
           "color": "black",
           "width": 1.5
          },
          "size": 13,
          "symbol": "triangle-down"
         },
         "mode": "markers+text",
         "showlegend": false,
         "text": "-<b>$",
         "textfont": {
          "color": "tomato"
         },
         "textposition": "middle left",
         "type": "scatter",
         "x": [
          "PC"
         ],
         "xaxis": "x12",
         "y": [
          18588.73535463302
         ],
         "yaxis": "y12"
        },
        {
         "line": {
          "color": "grey",
          "dash": "dot",
          "width": 2
         },
         "mode": "lines",
         "showlegend": false,
         "type": "scatter",
         "x": [
          "PCC",
          "PCC"
         ],
         "xaxis": "x12",
         "y": [
          53986.46162086323,
          61319.45141370679
         ],
         "yaxis": "y12"
        },
        {
         "marker": {
          "color": "grey",
          "line": {
           "color": "black",
           "width": 1.5
          },
          "size": 10,
          "symbol": "square"
         },
         "mode": "markers+text",
         "showlegend": false,
         "text": "~<b>$",
         "textfont": {
          "color": "grey"
         },
         "textposition": "middle left",
         "type": "scatter",
         "x": [
          "PCC"
         ],
         "xaxis": "x12",
         "y": [
          61319.45141370679
         ],
         "yaxis": "y12"
        },
        {
         "line": {
          "color": "tomato",
          "dash": "dot",
          "width": 2
         },
         "mode": "lines",
         "showlegend": false,
         "type": "scatter",
         "x": [
          "AP",
          "AP"
         ],
         "xaxis": "x12",
         "y": [
          53986.46162086323,
          -1159.255087991498
         ],
         "yaxis": "y12"
        },
        {
         "marker": {
          "color": "tomato",
          "line": {
           "color": "black",
           "width": 1.5
          },
          "size": 13,
          "symbol": "triangle-down"
         },
         "mode": "markers+text",
         "showlegend": false,
         "text": "-<b>$",
         "textfont": {
          "color": "tomato"
         },
         "textposition": "middle left",
         "type": "scatter",
         "x": [
          "AP"
         ],
         "xaxis": "x12",
         "y": [
          -1159.255087991498
         ],
         "yaxis": "y12"
        },
        {
         "line": {
          "color": "tomato",
          "dash": "dot",
          "width": 2
         },
         "mode": "lines",
         "showlegend": false,
         "type": "scatter",
         "x": [
          "GDR",
          "GDR"
         ],
         "xaxis": "x12",
         "y": [
          53986.46162086323,
          -382965.78356607235
         ],
         "yaxis": "y12"
        },
        {
         "marker": {
          "color": "tomato",
          "line": {
           "color": "black",
           "width": 1.5
          },
          "size": 13,
          "symbol": "triangle-down"
         },
         "mode": "markers+text",
         "showlegend": false,
         "text": "-<b>$",
         "textfont": {
          "color": "tomato"
         },
         "textposition": "middle left",
         "type": "scatter",
         "x": [
          "GDR"
         ],
         "xaxis": "x12",
         "y": [
          -382965.78356607235
         ],
         "yaxis": "y12"
        },
        {
         "line": {
          "color": "tomato",
          "dash": "dot",
          "width": 2
         },
         "mode": "lines",
         "showlegend": false,
         "type": "scatter",
         "x": [
          "ECPC",
          "ECPC"
         ],
         "xaxis": "x12",
         "y": [
          53986.46162086323,
          -151544.79070272832
         ],
         "yaxis": "y12"
        },
        {
         "marker": {
          "color": "tomato",
          "line": {
           "color": "black",
           "width": 1.5
          },
          "size": 13,
          "symbol": "triangle-down"
         },
         "mode": "markers+text",
         "showlegend": false,
         "text": "-<b>$",
         "textfont": {
          "color": "tomato"
         },
         "textposition": "middle left",
         "type": "scatter",
         "x": [
          "ECPC"
         ],
         "xaxis": "x12",
         "y": [
          -151544.79070272832
         ],
         "yaxis": "y12"
        },
        {
         "hoverinfo": "skip",
         "line": {
          "color": "black",
          "width": 0
         },
         "mode": "lines",
         "name": "",
         "showlegend": false,
         "type": "scatter",
         "x": [
          "CP",
          "NDC",
          "NZ",
          "CO",
          "GF",
          "PC",
          "PCC",
          "AP",
          "GDR",
          "ECPC"
         ],
         "xaxis": "x13",
         "y": [
          -6470.3104375591065,
          -6470.3104375591065,
          -6470.3104375591065,
          -6470.3104375591065,
          -6470.3104375591065,
          -6470.3104375591065,
          -6470.3104375591065,
          -6470.3104375591065,
          -6470.3104375591065,
          -6470.3104375591065
         ],
         "yaxis": "y13"
        },
        {
         "hoverinfo": "skip",
         "line": {
          "color": "black",
          "width": 1
         },
         "mode": "lines",
         "name": "",
         "showlegend": false,
         "type": "scatter",
         "x": [
          "CO",
          "GF",
          "PC",
          "PCC",
          "AP",
          "GDR",
          "ECPC"
         ],
         "xaxis": "x13",
         "y": [
          -6470.3104375591065,
          -6470.3104375591065,
          -6470.3104375591065,
          -6470.3104375591065,
          -6470.3104375591065,
          -6470.3104375591065,
          -6470.3104375591065,
          -6470.3104375591065,
          -6470.3104375591065,
          -6470.3104375591065
         ],
         "yaxis": "y13"
        },
        {
         "hoverinfo": "skip",
         "line": {
          "color": "silver",
          "width": 0
         },
         "mode": "lines",
         "name": "",
         "showlegend": false,
         "type": "scatter",
         "x": [
          "GF",
          "PC",
          "PCC",
          "AP",
          "GDR",
          "ECPC"
         ],
         "xaxis": "x13",
         "y": [
          -17654.953356719252,
          -17654.953356719252,
          -17654.953356719252,
          -17654.953356719252,
          -17654.953356719252,
          -17654.953356719252,
          -17654.953356719252,
          -17654.953356719252,
          -17654.953356719252,
          -17654.953356719252
         ],
         "yaxis": "y13"
        },
        {
         "fill": "tonexty",
         "hoverinfo": "skip",
         "line": {
          "color": "silver",
          "width": 0
         },
         "mode": "lines",
         "name": "",
         "showlegend": false,
         "type": "scatter",
         "x": [
          "GF",
          "PC",
          "PCC",
          "AP",
          "GDR",
          "ECPC"
         ],
         "xaxis": "x13",
         "y": [
          4798.726940751076,
          4798.726940751076,
          4798.726940751076,
          4798.726940751076,
          4798.726940751076,
          4798.726940751076,
          4798.726940751076,
          4798.726940751076,
          4798.726940751076,
          4798.726940751076
         ],
         "yaxis": "y13"
        },
        {
         "boxpoints": "all",
         "fillcolor": "rgb(181, 200, 184)",
         "hovertemplate": "%{text}",
         "jitter": 0.5,
         "line": {
          "color": "black",
          "width": 1.5
         },
         "marker": {
          "color": "grey",
          "size": 3
         },
         "name": "CO",
         "pointpos": -1.8,
         "showlegend": false,
         "type": "box",
         "whiskerwidth": 0.4,
         "xaxis": "x13",
         "y": [
          [
           [
            [
             12942.133961848598
            ]
           ]
          ],
          [
           [
            [
             56431.70763170663
            ]
           ]
          ],
          [
           [
            [
             102900.58204931668
            ]
           ]
          ]
         ],
         "yaxis": "y13"
        },
        {
         "boxpoints": "all",
         "fillcolor": "rgb(181, 200, 184)",
         "hovertemplate": "%{text}",
         "jitter": 0.5,
         "line": {
          "color": "black",
          "width": 1.5
         },
         "marker": {
          "color": "grey",
          "size": 0.1
         },
         "name": "CP",
         "pointpos": 0,
         "showlegend": false,
         "type": "box",
         "whiskerwidth": 0.4,
         "xaxis": "x13",
         "y": [
          18607.500057999998,
          42406.626451000004,
          35258.72229989999,
          51223.75915870018,
          42746.08447110653,
          0,
          43184.89114379883,
          0,
          43084.30729166148
         ],
         "yaxis": "y13"
        },
        {
         "boxpoints": "all",
         "fillcolor": "rgb(181, 200, 184)",
         "hovertemplate": "%{text}",
         "jitter": 0.5,
         "line": {
          "color": "black",
          "width": 1.5
         },
         "marker": {
          "color": "grey",
          "size": 0.1
         },
         "name": "NDC",
         "pointpos": 0,
         "showlegend": false,
         "type": "box",
         "whiskerwidth": 0.4,
         "xaxis": "x13",
         "y": [
          15438.880989000001,
          0,
          19099.192063115,
          31491.36129192879,
          52929.787407159805,
          0,
          38823.23815917969,
          0,
          41497.839067602494
         ],
         "yaxis": "y13"
        },
        {
         "boxpoints": "all",
         "fillcolor": "rgb(181, 200, 184)",
         "hovertemplate": "%{text}",
         "jitter": 0.5,
         "line": {
          "color": "black",
          "width": 1.5
         },
         "marker": {
          "color": "grey",
          "size": 0.1
         },
         "name": "NZ",
         "pointpos": 0,
         "showlegend": false,
         "type": "box",
         "whiskerwidth": 0.4,
         "xaxis": "x13",
         "y": [
          0,
          9834.6607055,
          9877.301229928999,
          22381.19835303937,
          1753.9893342461437,
          0,
          35751.144927978516,
          0,
          20683.59023711778
         ],
         "yaxis": "y13"
        },
        {
         "boxpoints": "all",
         "fillcolor": "rgb(181, 200, 184)",
         "hovertemplate": "%{text}",
         "jitter": 0,
         "line": {
          "color": "black",
          "width": 1.5
         },
         "marker": {
          "color": "grey",
          "size": 0.1
         },
         "name": "CO",
         "pointpos": 0,
         "showlegend": false,
         "type": "box",
         "whiskerwidth": 0.4,
         "xaxis": "x13",
         "y": [
          null,
          -12773.4617,
          -10401.554399999999,
          -8612.2006,
          -7341.330000000001,
          -6308.027300000001,
          null,
          null,
          null,
          null,
          null,
          null,
          -77273.98286399999,
          -75468.84967687499,
          -66570.868744,
          -76614.541539,
          -74358.377924,
          null,
          5867.1138947499985,
          10233.557800135,
          -6807.43465143786,
          -21082.164846734093,
          -17790.83979372275,
          -14534.110474922098,
          -11301.182227266243,
          -8430.415244858428,
          -5724.171560692239,
          -22215.612185422753,
          -5113.483736954628,
          21398.912310281878,
          20597.140130833675,
          20825.555144230886,
          21625.87758214021,
          24259.033321328054,
          21010.60848132235,
          22832.405205582843,
          22531.786036704372,
          23181.057842651524,
          21973.73384094504,
          23898.14748044627,
          22199.19092866872,
          null,
          null,
          -21371.19821894169,
          -3091.2725639529517,
          -12156.770548723638,
          -4293.1107107028365,
          -2012.1351152181328,
          -9764.54900714755,
          -925.3378445439743,
          -4002.4430857459083,
          -657.6255618892691,
          111.96956571168238,
          -25054.145431637764,
          -23580.903789401054,
          -22971.835439497605,
          -18417.57847724855,
          null,
          null,
          null,
          null,
          null,
          null,
          null,
          null,
          null,
          null,
          null,
          null,
          null,
          null,
          null,
          null,
          null,
          null,
          null,
          null,
          null,
          null,
          null,
          null,
          null,
          null,
          null,
          null,
          null,
          null,
          null,
          null,
          null,
          null,
          null,
          null,
          null,
          null,
          null,
          null,
          null,
          null,
          null,
          null,
          null,
          null,
          null,
          null,
          null,
          null,
          null,
          null,
          null,
          null,
          null,
          null,
          null,
          null,
          null,
          null,
          null,
          null,
          null,
          null,
          null,
          null,
          null,
          3120.162376403808,
          3651.8752250671387,
          2895.2215766906747,
          3703.111961364747,
          5163.931933879852,
          null,
          null,
          null,
          null,
          null,
          null,
          null,
          null,
          null,
          null,
          null,
          null,
          null,
          null,
          null,
          null,
          null,
          null,
          null,
          null,
          null,
          null,
          null,
          null,
          null,
          null,
          null,
          null,
          null,
          null,
          null,
          null,
          null,
          null,
          null,
          null,
          null,
          null,
          null,
          null,
          null,
          null,
          null,
          null,
          null,
          null,
          null,
          null,
          null,
          null,
          null,
          null,
          null,
          null,
          null,
          null,
          null,
          null,
          null,
          null,
          null,
          null,
          null,
          null,
          null,
          null,
          null,
          null,
          null,
          null,
          null,
          null,
          null,
          null,
          null,
          null,
          null,
          null,
          null,
          null,
          null,
          null,
          null,
          null,
          null,
          -6632.593575118213,
          -17247.294045708757,
          -19411.874775676046,
          -16913.30353757283,
          -18574.585085772982,
          -15792.695540450077,
          null,
          null,
          null,
          null,
          null
         ],
         "yaxis": "y13"
        },
        {
         "line": {
          "color": "forestgreen",
          "dash": "dot",
          "width": 2
         },
         "mode": "lines",
         "showlegend": false,
         "type": "scatter",
         "x": [
          "GF",
          "GF"
         ],
         "xaxis": "x13",
         "y": [
          -6470.3104375591065,
          6015.580408692148
         ],
         "yaxis": "y13"
        },
        {
         "marker": {
          "color": "forestgreen",
          "line": {
           "color": "black",
           "width": 1.5
          },
          "size": 13,
          "symbol": "triangle-up"
         },
         "mode": "markers+text",
         "showlegend": false,
         "text": "+<b>$",
         "textfont": {
          "color": "forestgreen"
         },
         "textposition": "middle left",
         "type": "scatter",
         "x": [
          "GF"
         ],
         "xaxis": "x13",
         "y": [
          6015.580408692148
         ],
         "yaxis": "y13"
        },
        {
         "line": {
          "color": "forestgreen",
          "dash": "dot",
          "width": 2
         },
         "mode": "lines",
         "showlegend": false,
         "type": "scatter",
         "x": [
          "PC",
          "PC"
         ],
         "xaxis": "x13",
         "y": [
          -6470.3104375591065,
          11651.845967424357
         ],
         "yaxis": "y13"
        },
        {
         "marker": {
          "color": "forestgreen",
          "line": {
           "color": "black",
           "width": 1.5
          },
          "size": 13,
          "symbol": "triangle-up"
         },
         "mode": "markers+text",
         "showlegend": false,
         "text": "+<b>$",
         "textfont": {
          "color": "forestgreen"
         },
         "textposition": "middle left",
         "type": "scatter",
         "x": [
          "PC"
         ],
         "xaxis": "x13",
         "y": [
          11651.845967424357
         ],
         "yaxis": "y13"
        },
        {
         "line": {
          "color": "forestgreen",
          "dash": "dot",
          "width": 2
         },
         "mode": "lines",
         "showlegend": false,
         "type": "scatter",
         "x": [
          "PCC",
          "PCC"
         ],
         "xaxis": "x13",
         "y": [
          -6470.3104375591065,
          5189.876403551714
         ],
         "yaxis": "y13"
        },
        {
         "marker": {
          "color": "forestgreen",
          "line": {
           "color": "black",
           "width": 1.5
          },
          "size": 13,
          "symbol": "triangle-up"
         },
         "mode": "markers+text",
         "showlegend": false,
         "text": "+<b>$",
         "textfont": {
          "color": "forestgreen"
         },
         "textposition": "middle left",
         "type": "scatter",
         "x": [
          "PCC"
         ],
         "xaxis": "x13",
         "y": [
          5189.876403551714
         ],
         "yaxis": "y13"
        },
        {
         "line": {
          "color": "forestgreen",
          "dash": "dot",
          "width": 2
         },
         "mode": "lines",
         "showlegend": false,
         "type": "scatter",
         "x": [
          "AP",
          "AP"
         ],
         "xaxis": "x13",
         "y": [
          -6470.3104375591065,
          8574.353772676632
         ],
         "yaxis": "y13"
        },
        {
         "marker": {
          "color": "forestgreen",
          "line": {
           "color": "black",
           "width": 1.5
          },
          "size": 13,
          "symbol": "triangle-up"
         },
         "mode": "markers+text",
         "showlegend": false,
         "text": "+<b>$",
         "textfont": {
          "color": "forestgreen"
         },
         "textposition": "middle left",
         "type": "scatter",
         "x": [
          "AP"
         ],
         "xaxis": "x13",
         "y": [
          8574.353772676632
         ],
         "yaxis": "y13"
        },
        {
         "line": {
          "color": "grey",
          "dash": "dot",
          "width": 2
         },
         "mode": "lines",
         "showlegend": false,
         "type": "scatter",
         "x": [
          "GDR",
          "GDR"
         ],
         "xaxis": "x13",
         "y": [
          -6470.3104375591065,
          -6372.325494430541
         ],
         "yaxis": "y13"
        },
        {
         "marker": {
          "color": "grey",
          "line": {
           "color": "black",
           "width": 1.5
          },
          "size": 10,
          "symbol": "square"
         },
         "mode": "markers+text",
         "showlegend": false,
         "text": "~<b>$",
         "textfont": {
          "color": "grey"
         },
         "textposition": "middle left",
         "type": "scatter",
         "x": [
          "GDR"
         ],
         "xaxis": "x13",
         "y": [
          -6372.325494430541
         ],
         "yaxis": "y13"
        },
        {
         "line": {
          "color": "grey",
          "dash": "dot",
          "width": 2
         },
         "mode": "lines",
         "showlegend": false,
         "type": "scatter",
         "x": [
          "ECPC",
          "ECPC"
         ],
         "xaxis": "x13",
         "y": [
          -6470.3104375591065,
          -627.7662888342893
         ],
         "yaxis": "y13"
        },
        {
         "marker": {
          "color": "grey",
          "line": {
           "color": "black",
           "width": 1.5
          },
          "size": 10,
          "symbol": "square"
         },
         "mode": "markers+text",
         "showlegend": false,
         "text": "~<b>$",
         "textfont": {
          "color": "grey"
         },
         "textposition": "middle left",
         "type": "scatter",
         "x": [
          "ECPC"
         ],
         "xaxis": "x13",
         "y": [
          -627.7662888342893
         ],
         "yaxis": "y13"
        },
        {
         "hoverinfo": "skip",
         "line": {
          "color": "black",
          "width": 0
         },
         "mode": "lines",
         "name": "",
         "showlegend": false,
         "type": "scatter",
         "x": [
          "CP",
          "NDC",
          "NZ",
          "CO",
          "GF",
          "PC",
          "PCC",
          "AP",
          "GDR",
          "ECPC"
         ],
         "xaxis": "x14",
         "y": [
          5690.044714459393,
          5690.044714459393,
          5690.044714459393,
          5690.044714459393,
          5690.044714459393,
          5690.044714459393,
          5690.044714459393,
          5690.044714459393,
          5690.044714459393,
          5690.044714459393
         ],
         "yaxis": "y14"
        },
        {
         "hoverinfo": "skip",
         "line": {
          "color": "black",
          "width": 1
         },
         "mode": "lines",
         "name": "",
         "showlegend": false,
         "type": "scatter",
         "x": [
          "CO",
          "GF",
          "PC",
          "PCC",
          "AP",
          "GDR",
          "ECPC"
         ],
         "xaxis": "x14",
         "y": [
          5690.044714459393,
          5690.044714459393,
          5690.044714459393,
          5690.044714459393,
          5690.044714459393,
          5690.044714459393,
          5690.044714459393,
          5690.044714459393,
          5690.044714459393,
          5690.044714459393
         ],
         "yaxis": "y14"
        },
        {
         "hoverinfo": "skip",
         "line": {
          "color": "silver",
          "width": 0
         },
         "mode": "lines",
         "name": "",
         "showlegend": false,
         "type": "scatter",
         "x": [
          "GF",
          "PC",
          "PCC",
          "AP",
          "GDR",
          "ECPC"
         ],
         "xaxis": "x14",
         "y": [
          2934.122334274929,
          2934.122334274929,
          2934.122334274929,
          2934.122334274929,
          2934.122334274929,
          2934.122334274929,
          2934.122334274929,
          2934.122334274929,
          2934.122334274929,
          2934.122334274929
         ],
         "yaxis": "y14"
        },
        {
         "fill": "tonexty",
         "hoverinfo": "skip",
         "line": {
          "color": "silver",
          "width": 0
         },
         "mode": "lines",
         "name": "",
         "showlegend": false,
         "type": "scatter",
         "x": [
          "GF",
          "PC",
          "PCC",
          "AP",
          "GDR",
          "ECPC"
         ],
         "xaxis": "x14",
         "y": [
          7744.608385092179,
          7744.608385092179,
          7744.608385092179,
          7744.608385092179,
          7744.608385092179,
          7744.608385092179,
          7744.608385092179,
          7744.608385092179,
          7744.608385092179,
          7744.608385092179
         ],
         "yaxis": "y14"
        },
        {
         "boxpoints": "all",
         "fillcolor": "rgb(237, 234, 194)",
         "hovertemplate": "%{text}",
         "jitter": 0.5,
         "line": {
          "color": "black",
          "width": 1.5
         },
         "marker": {
          "color": "grey",
          "size": 3
         },
         "name": "CO",
         "pointpos": -1.8,
         "showlegend": false,
         "type": "box",
         "whiskerwidth": 0.4,
         "xaxis": "x14",
         "y": [
          [
           [
            [
             12942.133961848598
            ]
           ]
          ],
          [
           [
            [
             56431.70763170663
            ]
           ]
          ],
          [
           [
            [
             102900.58204931668
            ]
           ]
          ]
         ],
         "yaxis": "y14"
        },
        {
         "boxpoints": "all",
         "fillcolor": "rgb(237, 234, 194)",
         "hovertemplate": "%{text}",
         "jitter": 0.5,
         "line": {
          "color": "black",
          "width": 1.5
         },
         "marker": {
          "color": "grey",
          "size": 0.1
         },
         "name": "CP",
         "pointpos": 0,
         "showlegend": false,
         "type": "box",
         "whiskerwidth": 0.4,
         "xaxis": "x14",
         "y": [
          0,
          27637.36653654,
          14211.576933481001,
          30421.74295377425,
          29808.429534798066,
          0,
          21277.46462249756,
          0,
          28953.243672794546
         ],
         "yaxis": "y14"
        },
        {
         "boxpoints": "all",
         "fillcolor": "rgb(237, 234, 194)",
         "hovertemplate": "%{text}",
         "jitter": 0.5,
         "line": {
          "color": "black",
          "width": 1.5
         },
         "marker": {
          "color": "grey",
          "size": 0.1
         },
         "name": "NDC",
         "pointpos": 0,
         "showlegend": false,
         "type": "box",
         "whiskerwidth": 0.4,
         "xaxis": "x14",
         "y": [
          0,
          0,
          14378.646321318998,
          22938.42924668076,
          4444.105681139753,
          0,
          19367.421173095703,
          0,
          22052.150473550006
         ],
         "yaxis": "y14"
        },
        {
         "boxpoints": "all",
         "fillcolor": "rgb(237, 234, 194)",
         "hovertemplate": "%{text}",
         "jitter": 0.5,
         "line": {
          "color": "black",
          "width": 1.5
         },
         "marker": {
          "color": "grey",
          "size": 0.1
         },
         "name": "NZ",
         "pointpos": 0,
         "showlegend": false,
         "type": "box",
         "whiskerwidth": 0.4,
         "xaxis": "x14",
         "y": [
          0,
          9394.7152595,
          14575.400714328,
          8652.067116730284,
          1106.2561513372004,
          0,
          5541.286763191223,
          0,
          4894.737047357089
         ],
         "yaxis": "y14"
        },
        {
         "boxpoints": "all",
         "fillcolor": "rgb(237, 234, 194)",
         "hovertemplate": "%{text}",
         "jitter": 0,
         "line": {
          "color": "black",
          "width": 1.5
         },
         "marker": {
          "color": "grey",
          "size": 0.1
         },
         "name": "CO",
         "pointpos": 0,
         "showlegend": false,
         "type": "box",
         "whiskerwidth": 0.4,
         "xaxis": "x14",
         "y": [
          null,
          null,
          null,
          null,
          null,
          null,
          null,
          null,
          null,
          null,
          null,
          null,
          -15534.406932000002,
          -15022.154221625,
          -15214.7097315,
          -15551.077401999999,
          -14123.535822,
          null,
          4166.37387108,
          9554.245881109,
          8506.693757507168,
          6137.014468060199,
          7201.323643989383,
          8242.99245346959,
          9248.787971898391,
          10229.007298380693,
          11174.671176060394,
          12956.763949913195,
          12612.35609110318,
          8558.589474762233,
          7868.24760092257,
          7958.826649745864,
          8689.82537762575,
          10285.925545136022,
          5690.044714459393,
          6818.687841820098,
          6714.654009184824,
          7648.906772989739,
          7634.571484285472,
          7562.643845383083,
          7744.608385092179,
          null,
          null,
          6122.418547008669,
          4901.764812539477,
          5374.90496926812,
          1292.3286263043735,
          3746.8974714394008,
          6480.016847993484,
          4252.899650470888,
          5462.0399151513675,
          3391.1508926161523,
          4550.629635631318,
          4150.234872927261,
          2934.122334274929,
          4151.24803940508,
          3938.5707060897066,
          null,
          null,
          null,
          null,
          null,
          null,
          null,
          null,
          null,
          null,
          null,
          null,
          null,
          null,
          null,
          null,
          null,
          null,
          null,
          null,
          null,
          null,
          null,
          null,
          null,
          null,
          null,
          null,
          null,
          null,
          null,
          null,
          null,
          null,
          null,
          null,
          null,
          null,
          null,
          null,
          null,
          null,
          null,
          null,
          null,
          null,
          null,
          null,
          null,
          null,
          null,
          null,
          null,
          null,
          null,
          null,
          null,
          null,
          null,
          null,
          null,
          null,
          null,
          null,
          null,
          null,
          null,
          6803.723863601685,
          7042.420099258423,
          5677.3136924505225,
          5754.65022444725,
          -1338.2340908050537,
          null,
          null,
          null,
          null,
          null,
          null,
          null,
          null,
          null,
          null,
          null,
          null,
          null,
          null,
          null,
          null,
          null,
          null,
          null,
          null,
          null,
          null,
          null,
          null,
          null,
          null,
          null,
          null,
          null,
          null,
          null,
          null,
          null,
          null,
          null,
          null,
          null,
          null,
          null,
          null,
          null,
          null,
          null,
          null,
          null,
          null,
          null,
          null,
          null,
          null,
          null,
          null,
          null,
          null,
          null,
          null,
          null,
          null,
          null,
          null,
          null,
          null,
          null,
          null,
          null,
          null,
          null,
          null,
          null,
          null,
          null,
          null,
          null,
          null,
          null,
          null,
          null,
          null,
          null,
          null,
          null,
          null,
          null,
          null,
          null,
          2194.6659621987856,
          -606.549055936814,
          627.5959004309087,
          -278.7459859328129,
          1067.5154860423943,
          1.7117751963869523,
          null,
          null,
          null,
          null,
          null
         ],
         "yaxis": "y14"
        },
        {
         "line": {
          "color": "grey",
          "dash": "dot",
          "width": 2
         },
         "mode": "lines",
         "showlegend": false,
         "type": "scatter",
         "x": [
          "GF",
          "GF"
         ],
         "xaxis": "x14",
         "y": [
          5690.044714459393,
          5585.682954925899
         ],
         "yaxis": "y14"
        },
        {
         "marker": {
          "color": "grey",
          "line": {
           "color": "black",
           "width": 1.5
          },
          "size": 10,
          "symbol": "square"
         },
         "mode": "markers+text",
         "showlegend": false,
         "text": "~<b>$",
         "textfont": {
          "color": "grey"
         },
         "textposition": "middle left",
         "type": "scatter",
         "x": [
          "GF"
         ],
         "xaxis": "x14",
         "y": [
          5585.682954925899
         ],
         "yaxis": "y14"
        },
        {
         "line": {
          "color": "grey",
          "dash": "dot",
          "width": 2
         },
         "mode": "lines",
         "showlegend": false,
         "type": "scatter",
         "x": [
          "PC",
          "PC"
         ],
         "xaxis": "x14",
         "y": [
          5690.044714459393,
          3033.1179393338007
         ],
         "yaxis": "y14"
        },
        {
         "marker": {
          "color": "grey",
          "line": {
           "color": "black",
           "width": 1.5
          },
          "size": 10,
          "symbol": "square"
         },
         "mode": "markers+text",
         "showlegend": false,
         "text": "~<b>$",
         "textfont": {
          "color": "grey"
         },
         "textposition": "middle left",
         "type": "scatter",
         "x": [
          "PC"
         ],
         "xaxis": "x14",
         "y": [
          3033.1179393338007
         ],
         "yaxis": "y14"
        },
        {
         "line": {
          "color": "grey",
          "dash": "dot",
          "width": 2
         },
         "mode": "lines",
         "showlegend": false,
         "type": "scatter",
         "x": [
          "PCC",
          "PCC"
         ],
         "xaxis": "x14",
         "y": [
          5690.044714459393,
          5959.629699413545
         ],
         "yaxis": "y14"
        },
        {
         "marker": {
          "color": "grey",
          "line": {
           "color": "black",
           "width": 1.5
          },
          "size": 10,
          "symbol": "square"
         },
         "mode": "markers+text",
         "showlegend": false,
         "text": "~<b>$",
         "textfont": {
          "color": "grey"
         },
         "textposition": "middle left",
         "type": "scatter",
         "x": [
          "PCC"
         ],
         "xaxis": "x14",
         "y": [
          5959.629699413545
         ],
         "yaxis": "y14"
        },
        {
         "line": {
          "color": "grey",
          "dash": "dot",
          "width": 2
         },
         "mode": "lines",
         "showlegend": false,
         "type": "scatter",
         "x": [
          "AP",
          "AP"
         ],
         "xaxis": "x14",
         "y": [
          5690.044714459393,
          6245.149758267981
         ],
         "yaxis": "y14"
        },
        {
         "marker": {
          "color": "grey",
          "line": {
           "color": "black",
           "width": 1.5
          },
          "size": 10,
          "symbol": "square"
         },
         "mode": "markers+text",
         "showlegend": false,
         "text": "~<b>$",
         "textfont": {
          "color": "grey"
         },
         "textposition": "middle left",
         "type": "scatter",
         "x": [
          "AP"
         ],
         "xaxis": "x14",
         "y": [
          6245.149758267981
         ],
         "yaxis": "y14"
        },
        {
         "line": {
          "color": "forestgreen",
          "dash": "dot",
          "width": 2
         },
         "mode": "lines",
         "showlegend": false,
         "type": "scatter",
         "x": [
          "GDR",
          "GDR"
         ],
         "xaxis": "x14",
         "y": [
          5690.044714459393,
          11718.265580821935
         ],
         "yaxis": "y14"
        },
        {
         "marker": {
          "color": "forestgreen",
          "line": {
           "color": "black",
           "width": 1.5
          },
          "size": 13,
          "symbol": "triangle-up"
         },
         "mode": "markers+text",
         "showlegend": false,
         "text": "+<b>$",
         "textfont": {
          "color": "forestgreen"
         },
         "textposition": "middle left",
         "type": "scatter",
         "x": [
          "GDR"
         ],
         "xaxis": "x14",
         "y": [
          11718.265580821935
         ],
         "yaxis": "y14"
        },
        {
         "line": {
          "color": "tomato",
          "dash": "dot",
          "width": 2
         },
         "mode": "lines",
         "showlegend": false,
         "type": "scatter",
         "x": [
          "ECPC",
          "ECPC"
         ],
         "xaxis": "x14",
         "y": [
          5690.044714459393,
          -11890.122982915038
         ],
         "yaxis": "y14"
        },
        {
         "marker": {
          "color": "tomato",
          "line": {
           "color": "black",
           "width": 1.5
          },
          "size": 13,
          "symbol": "triangle-down"
         },
         "mode": "markers+text",
         "showlegend": false,
         "text": "-<b>$",
         "textfont": {
          "color": "tomato"
         },
         "textposition": "middle left",
         "type": "scatter",
         "x": [
          "ECPC"
         ],
         "xaxis": "x14",
         "y": [
          -11890.122982915038
         ],
         "yaxis": "y14"
        },
        {
         "hoverinfo": "skip",
         "line": {
          "color": "black",
          "width": 0
         },
         "mode": "lines",
         "name": "",
         "showlegend": false,
         "type": "scatter",
         "x": [
          "CP",
          "NDC",
          "NZ",
          "CO",
          "GF",
          "PC",
          "PCC",
          "AP",
          "GDR",
          "ECPC"
         ],
         "xaxis": "x3",
         "y": [
          33814.80421418052,
          33814.80421418052,
          33814.80421418052,
          33814.80421418052,
          33814.80421418052,
          33814.80421418052,
          33814.80421418052,
          33814.80421418052,
          33814.80421418052,
          33814.80421418052
         ],
         "yaxis": "y3"
        },
        {
         "hoverinfo": "skip",
         "line": {
          "color": "black",
          "width": 1
         },
         "mode": "lines",
         "name": "",
         "showlegend": false,
         "type": "scatter",
         "x": [
          "CO",
          "GF",
          "PC",
          "PCC",
          "AP",
          "GDR",
          "ECPC"
         ],
         "xaxis": "x3",
         "y": [
          33814.80421418052,
          33814.80421418052,
          33814.80421418052,
          33814.80421418052,
          33814.80421418052,
          33814.80421418052,
          33814.80421418052,
          33814.80421418052,
          33814.80421418052,
          33814.80421418052
         ],
         "yaxis": "y3"
        },
        {
         "hoverinfo": "skip",
         "line": {
          "color": "silver",
          "width": 0
         },
         "mode": "lines",
         "name": "",
         "showlegend": false,
         "type": "scatter",
         "x": [
          "GF",
          "PC",
          "PCC",
          "AP",
          "GDR",
          "ECPC"
         ],
         "xaxis": "x3",
         "y": [
          22883.248055128155,
          22883.248055128155,
          22883.248055128155,
          22883.248055128155,
          22883.248055128155,
          22883.248055128155,
          22883.248055128155,
          22883.248055128155,
          22883.248055128155,
          22883.248055128155
         ],
         "yaxis": "y3"
        },
        {
         "fill": "tonexty",
         "hoverinfo": "skip",
         "line": {
          "color": "silver",
          "width": 0
         },
         "mode": "lines",
         "name": "",
         "showlegend": false,
         "type": "scatter",
         "x": [
          "GF",
          "PC",
          "PCC",
          "AP",
          "GDR",
          "ECPC"
         ],
         "xaxis": "x3",
         "y": [
          53502.79208068621,
          53502.79208068621,
          53502.79208068621,
          53502.79208068621,
          53502.79208068621,
          53502.79208068621,
          53502.79208068621,
          53502.79208068621,
          53502.79208068621,
          53502.79208068621
         ],
         "yaxis": "y3"
        },
        {
         "boxpoints": "all",
         "fillcolor": "rgb(214, 189, 141)",
         "hovertemplate": "%{text}",
         "jitter": 0.5,
         "line": {
          "color": "black",
          "width": 1.5
         },
         "marker": {
          "color": "grey",
          "size": 3
         },
         "name": "CO",
         "pointpos": -1.8,
         "showlegend": false,
         "type": "box",
         "whiskerwidth": 0.4,
         "xaxis": "x3",
         "y": [
          [
           [
            [
             12942.133961848598
            ]
           ]
          ],
          [
           [
            [
             56431.70763170663
            ]
           ]
          ],
          [
           [
            [
             102900.58204931668
            ]
           ]
          ]
         ],
         "yaxis": "y3"
        },
        {
         "boxpoints": "all",
         "fillcolor": "rgb(214, 189, 141)",
         "hovertemplate": "%{text}",
         "jitter": 0.5,
         "line": {
          "color": "black",
          "width": 1.5
         },
         "marker": {
          "color": "grey",
          "size": 0.1
         },
         "name": "CP",
         "pointpos": 0,
         "showlegend": false,
         "type": "box",
         "whiskerwidth": 0.4,
         "xaxis": "x3",
         "y": [
          0,
          216160.50612000003,
          93793.65912472,
          123074.51726131036,
          185709.1157563643,
          0,
          121429.13507080078,
          123503.99995,
          167748.78724695113
         ],
         "yaxis": "y3"
        },
        {
         "boxpoints": "all",
         "fillcolor": "rgb(214, 189, 141)",
         "hovertemplate": "%{text}",
         "jitter": 0.5,
         "line": {
          "color": "black",
          "width": 1.5
         },
         "marker": {
          "color": "grey",
          "size": 0.1
         },
         "name": "NDC",
         "pointpos": 0,
         "showlegend": false,
         "type": "box",
         "whiskerwidth": 0.4,
         "xaxis": "x3",
         "y": [
          0,
          0,
          50952.055849615004,
          136528.91366923804,
          -1066.7265563056562,
          0,
          112969.73620605469,
          57423.10225000001,
          124008.04764534754
         ],
         "yaxis": "y3"
        },
        {
         "boxpoints": "all",
         "fillcolor": "rgb(214, 189, 141)",
         "hovertemplate": "%{text}",
         "jitter": 0.5,
         "line": {
          "color": "black",
          "width": 1.5
         },
         "marker": {
          "color": "grey",
          "size": 0.1
         },
         "name": "NZ",
         "pointpos": 0,
         "showlegend": false,
         "type": "box",
         "whiskerwidth": 0.4,
         "xaxis": "x3",
         "y": [
          0,
          89357.301252,
          42896.65516434,
          54731.661439211,
          3033.0967697749147,
          0,
          57245.4153213501,
          2566.398549999999,
          32347.218044164456
         ],
         "yaxis": "y3"
        },
        {
         "boxpoints": "all",
         "fillcolor": "rgb(214, 189, 141)",
         "hovertemplate": "%{text}",
         "jitter": 0,
         "line": {
          "color": "black",
          "width": 1.5
         },
         "marker": {
          "color": "grey",
          "size": 0.1
         },
         "name": "CO",
         "pointpos": 0,
         "showlegend": false,
         "type": "box",
         "whiskerwidth": 0.4,
         "xaxis": "x3",
         "y": [
          null,
          52694.5209,
          62109.50419999999,
          72125.8135,
          88208.7756,
          81436.1858,
          null,
          null,
          null,
          null,
          null,
          null,
          null,
          null,
          null,
          null,
          null,
          null,
          -51010.922690780004,
          -40229.2835118,
          20050.23744442566,
          -28646.94129121591,
          -14770.838496644441,
          -3385.0452354289787,
          7317.555798583024,
          18669.51264075246,
          30174.723596133263,
          53238.540668216054,
          22681.85312051262,
          73970.97704153192,
          74652.94471636394,
          68466.91063521583,
          67746.6257317976,
          86706.17204987761,
          71512.80195307333,
          73374.89122165002,
          79459.95292565913,
          77646.56703505524,
          77622.73215517515,
          86646.72165855498,
          84164.79479464513,
          null,
          null,
          33074.13758779038,
          50419.461396337196,
          34051.55435352796,
          44143.37474128662,
          44286.28561483405,
          27359.778240193034,
          47269.14823637343,
          54295.54631809669,
          46466.523900316766,
          46200.25780746952,
          24261.856627533794,
          41863.28263861369,
          32061.561784866262,
          -1759.5231723671895,
          null,
          null,
          null,
          null,
          null,
          null,
          null,
          null,
          null,
          null,
          null,
          null,
          null,
          null,
          null,
          null,
          null,
          null,
          null,
          null,
          null,
          null,
          null,
          null,
          null,
          null,
          null,
          null,
          null,
          null,
          null,
          null,
          null,
          null,
          null,
          null,
          null,
          null,
          null,
          null,
          null,
          null,
          null,
          null,
          null,
          null,
          null,
          null,
          null,
          null,
          null,
          null,
          null,
          null,
          null,
          null,
          null,
          null,
          null,
          null,
          null,
          null,
          null,
          null,
          null,
          null,
          null,
          50363.95278930664,
          50802.022605895996,
          40346.90353393555,
          43090.42588806152,
          -3500.194793701163,
          null,
          null,
          null,
          null,
          null,
          null,
          null,
          null,
          null,
          null,
          null,
          41258.786949999994,
          5023.668500000003,
          6340.65175,
          30759.231350000005,
          37458.8671,
          57858.1124,
          32262.910950000005,
          45921.051999999996,
          19076.26115,
          644.6057500000015,
          33958.15545,
          22496.9515,
          20410.806599999996,
          19513.697350000002,
          null,
          null,
          null,
          63519.74585,
          27164.837700000007,
          74259.4135,
          36684.5262,
          70361.34770000001,
          56282.001050000006,
          59146.76165,
          null,
          null,
          null,
          22556.854250000008,
          32610.105000000003,
          27654.294400000002,
          27660.236100000002,
          19667.193949999997,
          56282.001050000006,
          70361.34770000001,
          62613.085300000006,
          59630.0171,
          47247.217500000006,
          65368.836899999995,
          54748.121849999996,
          55653.96695,
          null,
          31258.678050000002,
          35498.219450000004,
          28587.48425,
          37527.20895,
          29273.721899999997,
          30247.725400000003,
          31513.881299999997,
          29011.5637,
          13882.342599999996,
          34956.1765,
          22957.262699999992,
          10813.0801,
          23995.6569,
          22950.379699999998,
          25483.7624,
          20330.77025,
          29055.146949999995,
          25816.363449999997,
          32006.997899999995,
          32968.317650000005,
          34076.882900000004,
          35049.4262,
          27274.811,
          24289.2,
          -860.3697000000011,
          -2981.857799999997,
          -2729.1460500000003,
          30767.727150000002,
          20500.62575,
          1075.7440999999976,
          26074.7051,
          19131.7354,
          2362.8696499999987,
          33671.452978361034,
          34534.4708586331,
          36626.40243907842,
          40320.941529747695,
          39410.935092386004,
          45937.43200172149,
          null,
          null,
          null,
          null,
          null
         ],
         "yaxis": "y3"
        },
        {
         "line": {
          "color": "grey",
          "dash": "dot",
          "width": 2
         },
         "mode": "lines",
         "showlegend": false,
         "type": "scatter",
         "x": [
          "GF",
          "GF"
         ],
         "xaxis": "x3",
         "y": [
          33814.80421418052,
          31685.515583342647
         ],
         "yaxis": "y3"
        },
        {
         "marker": {
          "color": "grey",
          "line": {
           "color": "black",
           "width": 1.5
          },
          "size": 10,
          "symbol": "square"
         },
         "mode": "markers+text",
         "showlegend": false,
         "text": "~<b>$",
         "textfont": {
          "color": "grey"
         },
         "textposition": "middle left",
         "type": "scatter",
         "x": [
          "GF"
         ],
         "xaxis": "x3",
         "y": [
          31685.515583342647
         ],
         "yaxis": "y3"
        },
        {
         "line": {
          "color": "grey",
          "dash": "dot",
          "width": 2
         },
         "mode": "lines",
         "showlegend": false,
         "type": "scatter",
         "x": [
          "PC",
          "PC"
         ],
         "xaxis": "x3",
         "y": [
          33814.80421418052,
          25066.63480424758
         ],
         "yaxis": "y3"
        },
        {
         "marker": {
          "color": "grey",
          "line": {
           "color": "black",
           "width": 1.5
          },
          "size": 10,
          "symbol": "square"
         },
         "mode": "markers+text",
         "showlegend": false,
         "text": "~<b>$",
         "textfont": {
          "color": "grey"
         },
         "textposition": "middle left",
         "type": "scatter",
         "x": [
          "PC"
         ],
         "xaxis": "x3",
         "y": [
          25066.63480424758
         ],
         "yaxis": "y3"
        },
        {
         "line": {
          "color": "grey",
          "dash": "dot",
          "width": 2
         },
         "mode": "lines",
         "showlegend": false,
         "type": "scatter",
         "x": [
          "PCC",
          "PCC"
         ],
         "xaxis": "x3",
         "y": [
          33814.80421418052,
          32655.17116679517
         ],
         "yaxis": "y3"
        },
        {
         "marker": {
          "color": "grey",
          "line": {
           "color": "black",
           "width": 1.5
          },
          "size": 10,
          "symbol": "square"
         },
         "mode": "markers+text",
         "showlegend": false,
         "text": "~<b>$",
         "textfont": {
          "color": "grey"
         },
         "textposition": "middle left",
         "type": "scatter",
         "x": [
          "PCC"
         ],
         "xaxis": "x3",
         "y": [
          32655.17116679517
         ],
         "yaxis": "y3"
        },
        {
         "line": {
          "color": "tomato",
          "dash": "dot",
          "width": 2
         },
         "mode": "lines",
         "showlegend": false,
         "type": "scatter",
         "x": [
          "AP",
          "AP"
         ],
         "xaxis": "x3",
         "y": [
          33814.80421418052,
          0
         ],
         "yaxis": "y3"
        },
        {
         "marker": {
          "color": "tomato",
          "line": {
           "color": "black",
           "width": 1.5
          },
          "size": 13,
          "symbol": "triangle-down"
         },
         "mode": "markers+text",
         "showlegend": false,
         "text": "-<b>$",
         "textfont": {
          "color": "tomato"
         },
         "textposition": "middle left",
         "type": "scatter",
         "x": [
          "AP"
         ],
         "xaxis": "x3",
         "y": [
          0
         ],
         "yaxis": "y3"
        },
        {
         "line": {
          "color": "tomato",
          "dash": "dot",
          "width": 2
         },
         "mode": "lines",
         "showlegend": false,
         "type": "scatter",
         "x": [
          "GDR",
          "GDR"
         ],
         "xaxis": "x3",
         "y": [
          33814.80421418052,
          0
         ],
         "yaxis": "y3"
        },
        {
         "marker": {
          "color": "tomato",
          "line": {
           "color": "black",
           "width": 1.5
          },
          "size": 13,
          "symbol": "triangle-down"
         },
         "mode": "markers+text",
         "showlegend": false,
         "text": "-<b>$",
         "textfont": {
          "color": "tomato"
         },
         "textposition": "middle left",
         "type": "scatter",
         "x": [
          "GDR"
         ],
         "xaxis": "x3",
         "y": [
          0
         ],
         "yaxis": "y3"
        },
        {
         "line": {
          "color": "tomato",
          "dash": "dot",
          "width": 2
         },
         "mode": "lines",
         "showlegend": false,
         "type": "scatter",
         "x": [
          "ECPC",
          "ECPC"
         ],
         "xaxis": "x3",
         "y": [
          33814.80421418052,
          -82237.2087330351
         ],
         "yaxis": "y3"
        },
        {
         "marker": {
          "color": "tomato",
          "line": {
           "color": "black",
           "width": 1.5
          },
          "size": 13,
          "symbol": "triangle-down"
         },
         "mode": "markers+text",
         "showlegend": false,
         "text": "-<b>$",
         "textfont": {
          "color": "tomato"
         },
         "textposition": "middle left",
         "type": "scatter",
         "x": [
          "ECPC"
         ],
         "xaxis": "x3",
         "y": [
          -82237.2087330351
         ],
         "yaxis": "y3"
        },
        {
         "hoverinfo": "skip",
         "line": {
          "color": "black",
          "width": 0
         },
         "mode": "lines",
         "name": "",
         "showlegend": false,
         "type": "scatter",
         "x": [
          "CP",
          "NDC",
          "NZ",
          "CO",
          "GF",
          "PC",
          "PCC",
          "AP",
          "GDR",
          "ECPC"
         ],
         "xaxis": "x7",
         "y": [
          10998.040885925293,
          10998.040885925293,
          10998.040885925293,
          10998.040885925293,
          10998.040885925293,
          10998.040885925293,
          10998.040885925293,
          10998.040885925293,
          10998.040885925293,
          10998.040885925293
         ],
         "yaxis": "y7"
        },
        {
         "hoverinfo": "skip",
         "line": {
          "color": "black",
          "width": 1
         },
         "mode": "lines",
         "name": "",
         "showlegend": false,
         "type": "scatter",
         "x": [
          "CO",
          "GF",
          "PC",
          "PCC",
          "AP",
          "GDR",
          "ECPC"
         ],
         "xaxis": "x7",
         "y": [
          10998.040885925293,
          10998.040885925293,
          10998.040885925293,
          10998.040885925293,
          10998.040885925293,
          10998.040885925293,
          10998.040885925293,
          10998.040885925293,
          10998.040885925293,
          10998.040885925293
         ],
         "yaxis": "y7"
        },
        {
         "hoverinfo": "skip",
         "line": {
          "color": "silver",
          "width": 0
         },
         "mode": "lines",
         "name": "",
         "showlegend": false,
         "type": "scatter",
         "x": [
          "GF",
          "PC",
          "PCC",
          "AP",
          "GDR",
          "ECPC"
         ],
         "xaxis": "x7",
         "y": [
          -7615.9237,
          -7615.9237,
          -7615.9237,
          -7615.9237,
          -7615.9237,
          -7615.9237,
          -7615.9237,
          -7615.9237,
          -7615.9237,
          -7615.9237
         ],
         "yaxis": "y7"
        },
        {
         "fill": "tonexty",
         "hoverinfo": "skip",
         "line": {
          "color": "silver",
          "width": 0
         },
         "mode": "lines",
         "name": "",
         "showlegend": false,
         "type": "scatter",
         "x": [
          "GF",
          "PC",
          "PCC",
          "AP",
          "GDR",
          "ECPC"
         ],
         "xaxis": "x7",
         "y": [
          25062.44581953125,
          25062.44581953125,
          25062.44581953125,
          25062.44581953125,
          25062.44581953125,
          25062.44581953125,
          25062.44581953125,
          25062.44581953125,
          25062.44581953125,
          25062.44581953125
         ],
         "yaxis": "y7"
        },
        {
         "boxpoints": "all",
         "fillcolor": "rgb(214, 189, 141)",
         "hovertemplate": "%{text}",
         "jitter": 0.5,
         "line": {
          "color": "black",
          "width": 1.5
         },
         "marker": {
          "color": "grey",
          "size": 3
         },
         "name": "CO",
         "pointpos": -1.8,
         "showlegend": false,
         "type": "box",
         "whiskerwidth": 0.4,
         "xaxis": "x7",
         "y": [
          [
           [
            [
             12942.133961848598
            ]
           ]
          ],
          [
           [
            [
             56431.70763170663
            ]
           ]
          ],
          [
           [
            [
             102900.58204931668
            ]
           ]
          ]
         ],
         "yaxis": "y7"
        },
        {
         "boxpoints": "all",
         "fillcolor": "rgb(214, 189, 141)",
         "hovertemplate": "%{text}",
         "jitter": 0.5,
         "line": {
          "color": "black",
          "width": 1.5
         },
         "marker": {
          "color": "grey",
          "size": 0.1
         },
         "name": "CP",
         "pointpos": 0,
         "showlegend": false,
         "type": "box",
         "whiskerwidth": 0.4,
         "xaxis": "x7",
         "y": [
          0,
          116351.37219746,
          70521.71064240001,
          141196.2067255025,
          130482.9875485897,
          0,
          97803.01123046875,
          205900.3751,
          0
         ],
         "yaxis": "y7"
        },
        {
         "boxpoints": "all",
         "fillcolor": "rgb(214, 189, 141)",
         "hovertemplate": "%{text}",
         "jitter": 0.5,
         "line": {
          "color": "black",
          "width": 1.5
         },
         "marker": {
          "color": "grey",
          "size": 0.1
         },
         "name": "NDC",
         "pointpos": 0,
         "showlegend": false,
         "type": "box",
         "whiskerwidth": 0.4,
         "xaxis": "x7",
         "y": [
          0,
          0,
          73339.2753532,
          85497.41746456412,
          128253.33267974854,
          0,
          97048.6716003418,
          120034.2187,
          0
         ],
         "yaxis": "y7"
        },
        {
         "boxpoints": "all",
         "fillcolor": "rgb(214, 189, 141)",
         "hovertemplate": "%{text}",
         "jitter": 0.5,
         "line": {
          "color": "black",
          "width": 1.5
         },
         "marker": {
          "color": "grey",
          "size": 0.1
         },
         "name": "NZ",
         "pointpos": 0,
         "showlegend": false,
         "type": "box",
         "whiskerwidth": 0.4,
         "xaxis": "x7",
         "y": [
          0,
          48212.28714946,
          74802.57448679999,
          86868.10602886725,
          42250.081286646426,
          0,
          40664.29864883423,
          27889.130450000004,
          0
         ],
         "yaxis": "y7"
        },
        {
         "boxpoints": "all",
         "fillcolor": "rgb(214, 189, 141)",
         "hovertemplate": "%{text}",
         "jitter": 0,
         "line": {
          "color": "black",
          "width": 1.5
         },
         "marker": {
          "color": "grey",
          "size": 0.1
         },
         "name": "CO",
         "pointpos": 0,
         "showlegend": false,
         "type": "box",
         "whiskerwidth": 0.4,
         "xaxis": "x7",
         "y": [
          null,
          27233.9026,
          31661.654599999998,
          36630.7147,
          40540.01409999999,
          42086.3234,
          null,
          null,
          null,
          null,
          null,
          null,
          -29354.403401,
          -23229.63421675,
          -25239.917661,
          -28796.642796,
          -25263.293311,
          null,
          24177.20270945,
          37702.31677515,
          -10366.000764649007,
          -30763.384246860845,
          -24545.880864143066,
          -17491.692267200466,
          -10663.01795426585,
          -4352.188373932446,
          1502.9415950916696,
          -33006.94725044088,
          -2869.8310728964416,
          2911.8162245597478,
          4240.672947667123,
          5001.390129255545,
          3704.1689809022264,
          15385.854374627863,
          -2602.19864948768,
          9606.853591200475,
          2776.0060323217654,
          11824.025119868784,
          15638.140924658957,
          8221.761570958284,
          7822.491894578645,
          null,
          null,
          27425.723148167133,
          28925.023379117258,
          28187.797754332427,
          27982.41697652638,
          26500.60856230557,
          25809.337221488357,
          27306.622091287747,
          30301.98311091121,
          27582.079501971137,
          29664.883903680256,
          32090.010640755296,
          20581.563898380846,
          27955.17185367644,
          31657.779140430415,
          null,
          null,
          null,
          null,
          null,
          null,
          null,
          null,
          null,
          null,
          null,
          null,
          null,
          null,
          null,
          null,
          null,
          null,
          null,
          null,
          null,
          null,
          null,
          null,
          null,
          null,
          null,
          null,
          null,
          null,
          null,
          null,
          null,
          null,
          null,
          null,
          null,
          null,
          null,
          null,
          null,
          null,
          null,
          null,
          null,
          null,
          null,
          null,
          null,
          null,
          null,
          null,
          null,
          null,
          null,
          null,
          null,
          null,
          null,
          null,
          null,
          null,
          null,
          null,
          null,
          null,
          null,
          30034.158660888672,
          30269.09147644043,
          25498.0400390625,
          25846.991622924805,
          10998.040885925293,
          null,
          null,
          null,
          null,
          null,
          null,
          null,
          null,
          null,
          null,
          null,
          -18258.03005,
          -39339.015499999994,
          -32349.028949999996,
          -16719.9792,
          -43.88840000000073,
          32193.38145,
          17508.7339,
          36209.6993,
          -15921.35655,
          -9970.572849999999,
          2509.9181,
          -23702.1343,
          -6925.475549999999,
          -9614.6119,
          null,
          null,
          null,
          29964.206599999998,
          -16491.584749999998,
          24626.8516,
          4508.387100000001,
          23882.04955,
          28304.2805,
          23669.01745,
          null,
          null,
          null,
          -18837.590300000003,
          2506.2234999999987,
          -12175.670850000002,
          -8306.371850000001,
          -17916.690300000002,
          28304.2805,
          23882.04955,
          26003.8814,
          23992.290399999998,
          14625.793800000001,
          17441.13035,
          17399.445900000002,
          15247.1168,
          null,
          -325.5719499999991,
          22955.576149999997,
          -3741.1985499999973,
          25829.79505,
          19382.207300000002,
          22111.4857,
          23724.14875,
          6130.1409,
          4421.173250000001,
          24509.20965,
          10777.8406,
          12451.408949999997,
          24452.695550000004,
          6469.708699999999,
          8396.27075,
          10974.901550000002,
          11140.152549999999,
          12708.357199999999,
          12857.995750000002,
          17187.12545,
          7845.966050000003,
          14769.188899999997,
          9922.27425,
          -19689.6842,
          12147.9709,
          -3052.4664000000002,
          -691.2020499999999,
          12859.367900000001,
          -14568.6337,
          -9237.969399999998,
          -21541.691799999997,
          -16682.5872,
          -56314.571500000005,
          null,
          null,
          null,
          null,
          null,
          null,
          null,
          null,
          null,
          null,
          null
         ],
         "yaxis": "y7"
        },
        {
         "line": {
          "color": "grey",
          "dash": "dot",
          "width": 2
         },
         "mode": "lines",
         "showlegend": false,
         "type": "scatter",
         "x": [
          "GF",
          "GF"
         ],
         "xaxis": "x7",
         "y": [
          10998.040885925293,
          23759.30068477594
         ],
         "yaxis": "y7"
        },
        {
         "marker": {
          "color": "grey",
          "line": {
           "color": "black",
           "width": 1.5
          },
          "size": 10,
          "symbol": "square"
         },
         "mode": "markers+text",
         "showlegend": false,
         "text": "~<b>$",
         "textfont": {
          "color": "grey"
         },
         "textposition": "middle left",
         "type": "scatter",
         "x": [
          "GF"
         ],
         "xaxis": "x7",
         "y": [
          23759.30068477594
         ],
         "yaxis": "y7"
        },
        {
         "line": {
          "color": "grey",
          "dash": "dot",
          "width": 2
         },
         "mode": "lines",
         "showlegend": false,
         "type": "scatter",
         "x": [
          "PC",
          "PC"
         ],
         "xaxis": "x7",
         "y": [
          10998.040885925293,
          7788.313468855706
         ],
         "yaxis": "y7"
        },
        {
         "marker": {
          "color": "grey",
          "line": {
           "color": "black",
           "width": 1.5
          },
          "size": 10,
          "symbol": "square"
         },
         "mode": "markers+text",
         "showlegend": false,
         "text": "~<b>$",
         "textfont": {
          "color": "grey"
         },
         "textposition": "middle left",
         "type": "scatter",
         "x": [
          "PC"
         ],
         "xaxis": "x7",
         "y": [
          7788.313468855706
         ],
         "yaxis": "y7"
        },
        {
         "line": {
          "color": "forestgreen",
          "dash": "dot",
          "width": 2
         },
         "mode": "lines",
         "showlegend": false,
         "type": "scatter",
         "x": [
          "PCC",
          "PCC"
         ],
         "xaxis": "x7",
         "y": [
          10998.040885925293,
          26099.025094993096
         ],
         "yaxis": "y7"
        },
        {
         "marker": {
          "color": "forestgreen",
          "line": {
           "color": "black",
           "width": 1.5
          },
          "size": 13,
          "symbol": "triangle-up"
         },
         "mode": "markers+text",
         "showlegend": false,
         "text": "+<b>$",
         "textfont": {
          "color": "forestgreen"
         },
         "textposition": "middle left",
         "type": "scatter",
         "x": [
          "PCC"
         ],
         "xaxis": "x7",
         "y": [
          26099.025094993096
         ],
         "yaxis": "y7"
        },
        {
         "line": {
          "color": "grey",
          "dash": "dot",
          "width": 2
         },
         "mode": "lines",
         "showlegend": false,
         "type": "scatter",
         "x": [
          "AP",
          "AP"
         ],
         "xaxis": "x7",
         "y": [
          10998.040885925293,
          12536.799764321495
         ],
         "yaxis": "y7"
        },
        {
         "marker": {
          "color": "grey",
          "line": {
           "color": "black",
           "width": 1.5
          },
          "size": 10,
          "symbol": "square"
         },
         "mode": "markers+text",
         "showlegend": false,
         "text": "~<b>$",
         "textfont": {
          "color": "grey"
         },
         "textposition": "middle left",
         "type": "scatter",
         "x": [
          "AP"
         ],
         "xaxis": "x7",
         "y": [
          12536.799764321495
         ],
         "yaxis": "y7"
        },
        {
         "line": {
          "color": "grey",
          "dash": "dot",
          "width": 2
         },
         "mode": "lines",
         "showlegend": false,
         "type": "scatter",
         "x": [
          "GDR",
          "GDR"
         ],
         "xaxis": "x7",
         "y": [
          10998.040885925293,
          6634.837842128217
         ],
         "yaxis": "y7"
        },
        {
         "marker": {
          "color": "grey",
          "line": {
           "color": "black",
           "width": 1.5
          },
          "size": 10,
          "symbol": "square"
         },
         "mode": "markers+text",
         "showlegend": false,
         "text": "~<b>$",
         "textfont": {
          "color": "grey"
         },
         "textposition": "middle left",
         "type": "scatter",
         "x": [
          "GDR"
         ],
         "xaxis": "x7",
         "y": [
          6634.837842128217
         ],
         "yaxis": "y7"
        },
        {
         "line": {
          "color": "tomato",
          "dash": "dot",
          "width": 2
         },
         "mode": "lines",
         "showlegend": false,
         "type": "scatter",
         "x": [
          "ECPC",
          "ECPC"
         ],
         "xaxis": "x7",
         "y": [
          10998.040885925293,
          -50332.388967769155
         ],
         "yaxis": "y7"
        },
        {
         "marker": {
          "color": "tomato",
          "line": {
           "color": "black",
           "width": 1.5
          },
          "size": 13,
          "symbol": "triangle-down"
         },
         "mode": "markers+text",
         "showlegend": false,
         "text": "-<b>$",
         "textfont": {
          "color": "tomato"
         },
         "textposition": "middle left",
         "type": "scatter",
         "x": [
          "ECPC"
         ],
         "xaxis": "x7",
         "y": [
          -50332.388967769155
         ],
         "yaxis": "y7"
        },
        {
         "hoverinfo": "skip",
         "line": {
          "color": "black",
          "width": 0
         },
         "mode": "lines",
         "name": "",
         "showlegend": false,
         "type": "scatter",
         "x": [
          "CP",
          "NDC",
          "NZ",
          "CO",
          "GF",
          "PC",
          "PCC",
          "AP",
          "GDR",
          "ECPC"
         ],
         "xaxis": "x11",
         "y": [
          166055.27478691778,
          166055.27478691778,
          166055.27478691778,
          166055.27478691778,
          166055.27478691778,
          166055.27478691778,
          166055.27478691778,
          166055.27478691778,
          166055.27478691778,
          166055.27478691778
         ],
         "yaxis": "y11"
        },
        {
         "hoverinfo": "skip",
         "line": {
          "color": "black",
          "width": 1
         },
         "mode": "lines",
         "name": "",
         "showlegend": false,
         "type": "scatter",
         "x": [
          "CO",
          "GF",
          "PC",
          "PCC",
          "AP",
          "GDR",
          "ECPC"
         ],
         "xaxis": "x11",
         "y": [
          166055.27478691778,
          166055.27478691778,
          166055.27478691778,
          166055.27478691778,
          166055.27478691778,
          166055.27478691778,
          166055.27478691778,
          166055.27478691778,
          166055.27478691778,
          166055.27478691778
         ],
         "yaxis": "y11"
        },
        {
         "hoverinfo": "skip",
         "line": {
          "color": "silver",
          "width": 0
         },
         "mode": "lines",
         "name": "",
         "showlegend": false,
         "type": "scatter",
         "x": [
          "GF",
          "PC",
          "PCC",
          "AP",
          "GDR",
          "ECPC"
         ],
         "xaxis": "x11",
         "y": [
          128118.37876250001,
          128118.37876250001,
          128118.37876250001,
          128118.37876250001,
          128118.37876250001,
          128118.37876250001,
          128118.37876250001,
          128118.37876250001,
          128118.37876250001,
          128118.37876250001
         ],
         "yaxis": "y11"
        },
        {
         "fill": "tonexty",
         "hoverinfo": "skip",
         "line": {
          "color": "silver",
          "width": 0
         },
         "mode": "lines",
         "name": "",
         "showlegend": false,
         "type": "scatter",
         "x": [
          "GF",
          "PC",
          "PCC",
          "AP",
          "GDR",
          "ECPC"
         ],
         "xaxis": "x11",
         "y": [
          211985.76376484972,
          211985.76376484972,
          211985.76376484972,
          211985.76376484972,
          211985.76376484972,
          211985.76376484972,
          211985.76376484972,
          211985.76376484972,
          211985.76376484972,
          211985.76376484972
         ],
         "yaxis": "y11"
        },
        {
         "boxpoints": "all",
         "fillcolor": "rgb(237, 234, 194)",
         "hovertemplate": "%{text}",
         "jitter": 0.5,
         "line": {
          "color": "black",
          "width": 1.5
         },
         "marker": {
          "color": "grey",
          "size": 3
         },
         "name": "CO",
         "pointpos": -1.8,
         "showlegend": false,
         "type": "box",
         "whiskerwidth": 0.4,
         "xaxis": "x11",
         "y": [
          [
           [
            [
             12942.133961848598
            ]
           ]
          ],
          [
           [
            [
             56431.70763170663
            ]
           ]
          ],
          [
           [
            [
             102900.58204931668
            ]
           ]
          ]
         ],
         "yaxis": "y11"
        },
        {
         "boxpoints": "all",
         "fillcolor": "rgb(237, 234, 194)",
         "hovertemplate": "%{text}",
         "jitter": 0.5,
         "line": {
          "color": "black",
          "width": 1.5
         },
         "marker": {
          "color": "grey",
          "size": 0.1
         },
         "name": "CP",
         "pointpos": 0,
         "showlegend": false,
         "type": "box",
         "whiskerwidth": 0.4,
         "xaxis": "x11",
         "y": [
          0,
          435179.93572556,
          549036.8764391,
          778936.8240111648,
          691054.7342794335,
          1028622.8675348135,
          951715.9230957031,
          571344.7758500001,
          678523.3042886022
         ],
         "yaxis": "y11"
        },
        {
         "boxpoints": "all",
         "fillcolor": "rgb(237, 234, 194)",
         "hovertemplate": "%{text}",
         "jitter": 0.5,
         "line": {
          "color": "black",
          "width": 1.5
         },
         "marker": {
          "color": "grey",
          "size": 0.1
         },
         "name": "NDC",
         "pointpos": 0,
         "showlegend": false,
         "type": "box",
         "whiskerwidth": 0.4,
         "xaxis": "x11",
         "y": [
          0,
          0,
          549914.6354809001,
          768016.7165283279,
          697395.1685018323,
          953930.8176106109,
          718329.783203125,
          323652.08295,
          650370.6902194796
         ],
         "yaxis": "y11"
        },
        {
         "boxpoints": "all",
         "fillcolor": "rgb(237, 234, 194)",
         "hovertemplate": "%{text}",
         "jitter": 0.5,
         "line": {
          "color": "black",
          "width": 1.5
         },
         "marker": {
          "color": "grey",
          "size": 0.1
         },
         "name": "NZ",
         "pointpos": 0,
         "showlegend": false,
         "type": "box",
         "whiskerwidth": 0.4,
         "xaxis": "x11",
         "y": [
          0,
          230313.2598541,
          322902.52829285996,
          303444.763833813,
          327200.84548935853,
          391958.4777618977,
          215180.1461162567,
          99862.80709999999,
          227192.38275034734
         ],
         "yaxis": "y11"
        },
        {
         "boxpoints": "all",
         "fillcolor": "rgb(237, 234, 194)",
         "hovertemplate": "%{text}",
         "jitter": 0,
         "line": {
          "color": "black",
          "width": 1.5
         },
         "marker": {
          "color": "grey",
          "size": 0.1
         },
         "name": "CO",
         "pointpos": 0,
         "showlegend": false,
         "type": "box",
         "whiskerwidth": 0.4,
         "xaxis": "x11",
         "y": [
          null,
          129039.5711,
          147366.17289999998,
          168171.68579999998,
          214813.4066,
          190810.45529999997,
          null,
          null,
          null,
          null,
          null,
          null,
          226750.825067,
          245436.11096000002,
          167516.169132,
          218052.236397,
          233890.88964700003,
          null,
          167199.62019815,
          186858.09628925,
          50842.039541250866,
          -13003.077882941045,
          13210.265690681168,
          40307.27740521938,
          66947.11439179383,
          92983.52599921572,
          118430.83406542824,
          108078.94307046058,
          143134.38706753965,
          250586.2486390059,
          255655.1878611854,
          244554.8974899011,
          241984.9597384832,
          288101.9284773363,
          217831.35785120746,
          211760.40530939883,
          238555.5206185556,
          228647.4206850152,
          235234.45380730863,
          259532.374809862,
          255288.74728343426,
          null,
          null,
          160422.59531529888,
          159734.52730783034,
          160294.98590316402,
          166798.6931937363,
          141787.71567410347,
          186109.97008428845,
          132523.1771936636,
          184804.18986199336,
          145366.1401946085,
          163053.35686720142,
          174751.56254723435,
          165681.60992038556,
          153778.9456136334,
          150485.07157864652,
          null,
          null,
          null,
          null,
          null,
          null,
          null,
          null,
          null,
          null,
          null,
          null,
          null,
          null,
          212948.77935621602,
          202592.7246692309,
          237644.64604068414,
          228769.9692474806,
          217583.75310911328,
          235230.2676723132,
          125187.61446987165,
          143878.22157706512,
          160814.47694749152,
          144326.63394146884,
          168860.6685175916,
          142015.0322564526,
          179612.62398967816,
          163101.81895112008,
          162488.66677298932,
          167794.36478254548,
          158171.82120569312,
          156265.4547270873,
          155978.11533622423,
          158384.22481463262,
          193035.42837657998,
          191518.94356463777,
          224166.94082347216,
          171972.36794353154,
          181962.41946189187,
          186441.4309856955,
          189848.19065079174,
          184402.76714431116,
          185037.55750788125,
          214878.21949073047,
          206305.84454638007,
          166428.93965344998,
          163707.575838,
          null,
          null,
          null,
          null,
          null,
          null,
          null,
          null,
          null,
          null,
          null,
          null,
          null,
          null,
          null,
          null,
          null,
          null,
          null,
          null,
          273953.94451904297,
          276645.349609375,
          233875.1441040039,
          238667.6083984375,
          295008.7947502136,
          null,
          null,
          null,
          null,
          null,
          null,
          null,
          null,
          null,
          null,
          null,
          76534.66015,
          67346.44744999998,
          66963.5691,
          88391.18535000001,
          156511.47639999999,
          216203.60234999997,
          176640.51185,
          219512.52195000002,
          126229.0736,
          101519.98735,
          163289.8017,
          96543.98939999999,
          114594.84545000001,
          109270.41744999998,
          null,
          null,
          null,
          173924.18715,
          129845.10365,
          121769.70839999999,
          68294.98365,
          152217.46899999998,
          223598.57990000004,
          200573.43465,
          null,
          null,
          null,
          194191.47315,
          118907.95349999999,
          163366.49099999998,
          142484.01925,
          122027.714,
          223598.57990000004,
          152217.46899999998,
          189829.82724999997,
          169471.92049999995,
          239456.97695,
          179709.7511,
          212060.88325,
          194496.40920000002,
          null,
          121786.45595,
          123272.1012,
          108818.2901,
          116062.10609999999,
          172495.40159999998,
          176745.02685,
          180027.5925,
          154134.7341,
          163355.24990000002,
          187580.97084999998,
          166606.06884999998,
          168095.78639999998,
          188300.79720000003,
          102052.5055,
          108831.3255,
          103695.87199999999,
          121037.51310000001,
          118366.34095,
          132234.03685,
          136261.07655,
          126882.28840000002,
          148429.8958,
          131241.74085,
          118786.3193,
          115493.87654999999,
          104249.21555000001,
          107064.85575000002,
          164634.63929999998,
          127811.31465000001,
          99413.9945,
          141678.62235,
          108330.61225,
          64961.848649999985,
          246748.20962707524,
          227055.76785835996,
          221803.4371334103,
          236501.90650758301,
          226193.58501237276,
          247062.0277986176,
          null,
          null,
          null,
          null,
          null
         ],
         "yaxis": "y11"
        },
        {
         "line": {
          "color": "grey",
          "dash": "dot",
          "width": 2
         },
         "mode": "lines",
         "showlegend": false,
         "type": "scatter",
         "x": [
          "GF",
          "GF"
         ],
         "xaxis": "x11",
         "y": [
          166055.27478691778,
          135145.55478077382
         ],
         "yaxis": "y11"
        },
        {
         "marker": {
          "color": "grey",
          "line": {
           "color": "black",
           "width": 1.5
          },
          "size": 10,
          "symbol": "square"
         },
         "mode": "markers+text",
         "showlegend": false,
         "text": "~<b>$",
         "textfont": {
          "color": "grey"
         },
         "textposition": "middle left",
         "type": "scatter",
         "x": [
          "GF"
         ],
         "xaxis": "x11",
         "y": [
          135145.55478077382
         ],
         "yaxis": "y11"
        },
        {
         "line": {
          "color": "tomato",
          "dash": "dot",
          "width": 2
         },
         "mode": "lines",
         "showlegend": false,
         "type": "scatter",
         "x": [
          "PC",
          "PC"
         ],
         "xaxis": "x11",
         "y": [
          166055.27478691778,
          75841.52995285415
         ],
         "yaxis": "y11"
        },
        {
         "marker": {
          "color": "tomato",
          "line": {
           "color": "black",
           "width": 1.5
          },
          "size": 13,
          "symbol": "triangle-down"
         },
         "mode": "markers+text",
         "showlegend": false,
         "text": "-<b>$",
         "textfont": {
          "color": "tomato"
         },
         "textposition": "middle left",
         "type": "scatter",
         "x": [
          "PC"
         ],
         "xaxis": "x11",
         "y": [
          75841.52995285415
         ],
         "yaxis": "y11"
        },
        {
         "line": {
          "color": "grey",
          "dash": "dot",
          "width": 2
         },
         "mode": "lines",
         "showlegend": false,
         "type": "scatter",
         "x": [
          "PCC",
          "PCC"
         ],
         "xaxis": "x11",
         "y": [
          166055.27478691778,
          143833.50078173826
         ],
         "yaxis": "y11"
        },
        {
         "marker": {
          "color": "grey",
          "line": {
           "color": "black",
           "width": 1.5
          },
          "size": 10,
          "symbol": "square"
         },
         "mode": "markers+text",
         "showlegend": false,
         "text": "~<b>$",
         "textfont": {
          "color": "grey"
         },
         "textposition": "middle left",
         "type": "scatter",
         "x": [
          "PCC"
         ],
         "xaxis": "x11",
         "y": [
          143833.50078173826
         ],
         "yaxis": "y11"
        },
        {
         "line": {
          "color": "tomato",
          "dash": "dot",
          "width": 2
         },
         "mode": "lines",
         "showlegend": false,
         "type": "scatter",
         "x": [
          "AP",
          "AP"
         ],
         "xaxis": "x11",
         "y": [
          166055.27478691778,
          122378.56196947444
         ],
         "yaxis": "y11"
        },
        {
         "marker": {
          "color": "tomato",
          "line": {
           "color": "black",
           "width": 1.5
          },
          "size": 13,
          "symbol": "triangle-down"
         },
         "mode": "markers+text",
         "showlegend": false,
         "text": "-<b>$",
         "textfont": {
          "color": "tomato"
         },
         "textposition": "middle left",
         "type": "scatter",
         "x": [
          "AP"
         ],
         "xaxis": "x11",
         "y": [
          122378.56196947444
         ],
         "yaxis": "y11"
        },
        {
         "line": {
          "color": "forestgreen",
          "dash": "dot",
          "width": 2
         },
         "mode": "lines",
         "showlegend": false,
         "type": "scatter",
         "x": [
          "GDR",
          "GDR"
         ],
         "xaxis": "x11",
         "y": [
          166055.27478691778,
          324804.360872281
         ],
         "yaxis": "y11"
        },
        {
         "marker": {
          "color": "forestgreen",
          "line": {
           "color": "black",
           "width": 1.5
          },
          "size": 13,
          "symbol": "triangle-up"
         },
         "mode": "markers+text",
         "showlegend": false,
         "text": "+<b>$",
         "textfont": {
          "color": "forestgreen"
         },
         "textposition": "middle left",
         "type": "scatter",
         "x": [
          "GDR"
         ],
         "xaxis": "x11",
         "y": [
          324804.360872281
         ],
         "yaxis": "y11"
        },
        {
         "line": {
          "color": "tomato",
          "dash": "dot",
          "width": 2
         },
         "mode": "lines",
         "showlegend": false,
         "type": "scatter",
         "x": [
          "ECPC",
          "ECPC"
         ],
         "xaxis": "x11",
         "y": [
          166055.27478691778,
          -146139.253054947
         ],
         "yaxis": "y11"
        },
        {
         "marker": {
          "color": "tomato",
          "line": {
           "color": "black",
           "width": 1.5
          },
          "size": 13,
          "symbol": "triangle-down"
         },
         "mode": "markers+text",
         "showlegend": false,
         "text": "-<b>$",
         "textfont": {
          "color": "tomato"
         },
         "textposition": "middle left",
         "type": "scatter",
         "x": [
          "ECPC"
         ],
         "xaxis": "x11",
         "y": [
          -146139.253054947
         ],
         "yaxis": "y11"
        },
        {
         "hoverinfo": "skip",
         "line": {
          "color": "black",
          "width": 0
         },
         "mode": "lines",
         "name": "",
         "showlegend": false,
         "type": "scatter",
         "x": [
          "CP",
          "NDC",
          "NZ",
          "CO",
          "GF",
          "PC",
          "PCC",
          "AP",
          "GDR",
          "ECPC"
         ],
         "xaxis": "x15",
         "y": [
          70555.71200287392,
          70555.71200287392,
          70555.71200287392,
          70555.71200287392,
          70555.71200287392,
          70555.71200287392,
          70555.71200287392,
          70555.71200287392,
          70555.71200287392,
          70555.71200287392
         ],
         "yaxis": "y15"
        },
        {
         "hoverinfo": "skip",
         "line": {
          "color": "black",
          "width": 1
         },
         "mode": "lines",
         "name": "",
         "showlegend": false,
         "type": "scatter",
         "x": [
          "CO",
          "GF",
          "PC",
          "PCC",
          "AP",
          "GDR",
          "ECPC"
         ],
         "xaxis": "x15",
         "y": [
          70555.71200287392,
          70555.71200287392,
          70555.71200287392,
          70555.71200287392,
          70555.71200287392,
          70555.71200287392,
          70555.71200287392,
          70555.71200287392,
          70555.71200287392,
          70555.71200287392
         ],
         "yaxis": "y15"
        },
        {
         "hoverinfo": "skip",
         "line": {
          "color": "silver",
          "width": 0
         },
         "mode": "lines",
         "name": "",
         "showlegend": false,
         "type": "scatter",
         "x": [
          "GF",
          "PC",
          "PCC",
          "AP",
          "GDR",
          "ECPC"
         ],
         "xaxis": "x15",
         "y": [
          45853.02528144828,
          45853.02528144828,
          45853.02528144828,
          45853.02528144828,
          45853.02528144828,
          45853.02528144828,
          45853.02528144828,
          45853.02528144828,
          45853.02528144828,
          45853.02528144828
         ],
         "yaxis": "y15"
        },
        {
         "fill": "tonexty",
         "hoverinfo": "skip",
         "line": {
          "color": "silver",
          "width": 0
         },
         "mode": "lines",
         "name": "",
         "showlegend": false,
         "type": "scatter",
         "x": [
          "GF",
          "PC",
          "PCC",
          "AP",
          "GDR",
          "ECPC"
         ],
         "xaxis": "x15",
         "y": [
          105406.37512784929,
          105406.37512784929,
          105406.37512784929,
          105406.37512784929,
          105406.37512784929,
          105406.37512784929,
          105406.37512784929,
          105406.37512784929,
          105406.37512784929,
          105406.37512784929
         ],
         "yaxis": "y15"
        },
        {
         "boxpoints": "all",
         "fillcolor": "rgb(214, 189, 141)",
         "hovertemplate": "%{text}",
         "jitter": 0.5,
         "line": {
          "color": "black",
          "width": 1.5
         },
         "marker": {
          "color": "grey",
          "size": 3
         },
         "name": "CO",
         "pointpos": -1.8,
         "showlegend": false,
         "type": "box",
         "whiskerwidth": 0.4,
         "xaxis": "x15",
         "y": [
          [
           [
            [
             12942.133961848598
            ]
           ]
          ],
          [
           [
            [
             56431.70763170663
            ]
           ]
          ],
          [
           [
            [
             102900.58204931668
            ]
           ]
          ]
         ],
         "yaxis": "y15"
        },
        {
         "boxpoints": "all",
         "fillcolor": "rgb(214, 189, 141)",
         "hovertemplate": "%{text}",
         "jitter": 0.5,
         "line": {
          "color": "black",
          "width": 1.5
         },
         "marker": {
          "color": "grey",
          "size": 0.1
         },
         "name": "CP",
         "pointpos": 0,
         "showlegend": false,
         "type": "box",
         "whiskerwidth": 0.4,
         "xaxis": "x15",
         "y": [
          0,
          286017.579109,
          412735.769634,
          289510.9187483787,
          502645.103015054,
          514561.5898736614,
          445885.017578125,
          494415.78145,
          253986.8445139761
         ],
         "yaxis": "y15"
        },
        {
         "boxpoints": "all",
         "fillcolor": "rgb(214, 189, 141)",
         "hovertemplate": "%{text}",
         "jitter": 0.5,
         "line": {
          "color": "black",
          "width": 1.5
         },
         "marker": {
          "color": "grey",
          "size": 0.1
         },
         "name": "NDC",
         "pointpos": 0,
         "showlegend": false,
         "type": "box",
         "whiskerwidth": 0.4,
         "xaxis": "x15",
         "y": [
          0,
          0,
          277889.770992,
          291132.3985141432,
          531790.5993322358,
          543257.1998852007,
          436604.32861328125,
          227940.37835,
          253172.59532107395
         ],
         "yaxis": "y15"
        },
        {
         "boxpoints": "all",
         "fillcolor": "rgb(214, 189, 141)",
         "hovertemplate": "%{text}",
         "jitter": 0.5,
         "line": {
          "color": "black",
          "width": 1.5
         },
         "marker": {
          "color": "grey",
          "size": 0.1
         },
         "name": "NZ",
         "pointpos": 0,
         "showlegend": false,
         "type": "box",
         "whiskerwidth": 0.4,
         "xaxis": "x15",
         "y": [
          0,
          98104.0695905,
          94106.137813174,
          99825.22687172078,
          72857.1365320675,
          113498.11414143597,
          48156.87691497802,
          94840.3964,
          60599.25523951015
         ],
         "yaxis": "y15"
        },
        {
         "boxpoints": "all",
         "fillcolor": "rgb(214, 189, 141)",
         "hovertemplate": "%{text}",
         "jitter": 0,
         "line": {
          "color": "black",
          "width": 1.5
         },
         "marker": {
          "color": "grey",
          "size": 0.1
         },
         "name": "CO",
         "pointpos": 0,
         "showlegend": false,
         "type": "box",
         "whiskerwidth": 0.4,
         "xaxis": "x15",
         "y": [
          null,
          19.576599999996688,
          5567.845900000005,
          11708.045299999998,
          15565.373199999998,
          18270.991600000005,
          null,
          null,
          null,
          null,
          null,
          null,
          126904.813704,
          131514.860811625,
          125907.0660085,
          125560.096694,
          134643.20686650003,
          null,
          21282.654969000003,
          63909.17213869999,
          8680.988313823122,
          -39928.25275300446,
          -29056.6654215291,
          -16966.459082563386,
          -4176.78883360542,
          9172.805212201281,
          22570.240379391827,
          79020.80336837513,
          25274.333010224735,
          14648.295944628233,
          16098.823493812073,
          16717.912533324845,
          16867.885986584894,
          37202.71795725074,
          -15747.566919325474,
          5675.310751212066,
          -2006.5249980746962,
          14462.943129305726,
          26101.850038221473,
          8197.876314633724,
          22741.281590203726,
          null,
          null,
          45448.309912375174,
          49392.72342510708,
          70712.5668057478,
          57269.53678395972,
          38429.21323116342,
          74952.44841258973,
          45804.05942526438,
          49716.19321009703,
          38742.69419434894,
          40177.58478798479,
          48717.68394063972,
          32369.074406209405,
          16238.436785668135,
          20108.57220887253,
          null,
          null,
          null,
          null,
          null,
          null,
          null,
          null,
          null,
          null,
          null,
          null,
          null,
          null,
          103701.4008479131,
          105825.45607853928,
          106749.77220510061,
          122056.06261045672,
          124486.48478699461,
          108628.58347734998,
          52117.25868051862,
          65498.75181589208,
          79556.17908400318,
          86152.60914196045,
          84747.57551212252,
          103878.61081970179,
          91326.13720315017,
          112532.39825832087,
          130171.54478977105,
          102033.07483621259,
          116797.80043897594,
          119297.72494587023,
          120309.05428087767,
          120538.75971359761,
          100047.25910646202,
          113273.52035529255,
          89800.0283413538,
          106800.36854638135,
          105778.07721997122,
          104291.2688514835,
          106260.33976266091,
          124066.5336441326,
          140357.40269446408,
          110787.19306463971,
          126410.96431994766,
          144858.6486885,
          150028.44722025,
          null,
          null,
          null,
          null,
          null,
          null,
          null,
          null,
          null,
          null,
          null,
          null,
          null,
          null,
          null,
          null,
          null,
          null,
          null,
          null,
          65329.07985687256,
          66756.8295173645,
          65106.66471862793,
          66060.0696105957,
          30282.607177734382,
          null,
          null,
          null,
          null,
          null,
          null,
          null,
          null,
          null,
          null,
          null,
          11369.071799999998,
          51824.55565000001,
          65767.69305,
          97674.02609999999,
          91299.99010000001,
          114258.22444999998,
          95617.03270000001,
          125337.54139999999,
          61429.595700000005,
          56670.369900000005,
          117416.42155,
          65190.39795,
          70037.0977,
          69390.16625,
          null,
          null,
          null,
          140355.49990000002,
          90691.3555,
          123602.31705,
          74128.91655,
          120251.99985000001,
          137052.08255,
          107763.00685,
          null,
          null,
          null,
          85340.5807,
          70398.85720000001,
          75888.75580000001,
          77556.67385,
          14604.037550000003,
          137052.08255,
          120251.99985000001,
          117285.4615,
          117694.1418,
          82229.61715,
          95090.66275000002,
          80793.63680000001,
          85396.76084999999,
          null,
          100662.1864,
          64789.898400000005,
          107495.93585000001,
          49461.834800000004,
          68933.4588,
          72640.1182,
          75369.04485,
          78292.13325000001,
          79053.45999999999,
          79012.26440000001,
          80621.56885000001,
          81323.12789999999,
          79593.09164999999,
          45999.92285,
          49372.41915,
          34528.8967,
          54442.77619999999,
          36256.1458,
          57452.45275,
          45331.23645,
          72374.195,
          64554.1979,
          69432.54130000001,
          56112.508449999994,
          64369.35800000001,
          61149.83455,
          59980.2923,
          86540.96405000001,
          57892.423599999995,
          53219.554650000005,
          78384.23735,
          123593.7498,
          71302.0393,
          66929.86500585295,
          64940.25121504266,
          66536.83500136185,
          70033.29510565172,
          66476.11799339157,
          75202.51440272933,
          null,
          null,
          null,
          null,
          null
         ],
         "yaxis": "y15"
        },
        {
         "line": {
          "color": "tomato",
          "dash": "dot",
          "width": 2
         },
         "mode": "lines",
         "showlegend": false,
         "type": "scatter",
         "x": [
          "GF",
          "GF"
         ],
         "xaxis": "x15",
         "y": [
          70555.71200287392,
          33016.218937163634
         ],
         "yaxis": "y15"
        },
        {
         "marker": {
          "color": "tomato",
          "line": {
           "color": "black",
           "width": 1.5
          },
          "size": 13,
          "symbol": "triangle-down"
         },
         "mode": "markers+text",
         "showlegend": false,
         "text": "-<b>$",
         "textfont": {
          "color": "tomato"
         },
         "textposition": "middle left",
         "type": "scatter",
         "x": [
          "GF"
         ],
         "xaxis": "x15",
         "y": [
          33016.218937163634
         ],
         "yaxis": "y15"
        },
        {
         "line": {
          "color": "grey",
          "dash": "dot",
          "width": 2
         },
         "mode": "lines",
         "showlegend": false,
         "type": "scatter",
         "x": [
          "PC",
          "PC"
         ],
         "xaxis": "x15",
         "y": [
          70555.71200287392,
          77072.93849817077
         ],
         "yaxis": "y15"
        },
        {
         "marker": {
          "color": "grey",
          "line": {
           "color": "black",
           "width": 1.5
          },
          "size": 10,
          "symbol": "square"
         },
         "mode": "markers+text",
         "showlegend": false,
         "text": "~<b>$",
         "textfont": {
          "color": "grey"
         },
         "textposition": "middle left",
         "type": "scatter",
         "x": [
          "PC"
         ],
         "xaxis": "x15",
         "y": [
          77072.93849817077
         ],
         "yaxis": "y15"
        },
        {
         "line": {
          "color": "tomato",
          "dash": "dot",
          "width": 2
         },
         "mode": "lines",
         "showlegend": false,
         "type": "scatter",
         "x": [
          "PCC",
          "PCC"
         ],
         "xaxis": "x15",
         "y": [
          70555.71200287392,
          26561.979083522827
         ],
         "yaxis": "y15"
        },
        {
         "marker": {
          "color": "tomato",
          "line": {
           "color": "black",
           "width": 1.5
          },
          "size": 13,
          "symbol": "triangle-down"
         },
         "mode": "markers+text",
         "showlegend": false,
         "text": "-<b>$",
         "textfont": {
          "color": "tomato"
         },
         "textposition": "middle left",
         "type": "scatter",
         "x": [
          "PCC"
         ],
         "xaxis": "x15",
         "y": [
          26561.979083522827
         ],
         "yaxis": "y15"
        },
        {
         "line": {
          "color": "grey",
          "dash": "dot",
          "width": 2
         },
         "mode": "lines",
         "showlegend": false,
         "type": "scatter",
         "x": [
          "AP",
          "AP"
         ],
         "xaxis": "x15",
         "y": [
          70555.71200287392,
          98752.8900174918
         ],
         "yaxis": "y15"
        },
        {
         "marker": {
          "color": "grey",
          "line": {
           "color": "black",
           "width": 1.5
          },
          "size": 10,
          "symbol": "square"
         },
         "mode": "markers+text",
         "showlegend": false,
         "text": "~<b>$",
         "textfont": {
          "color": "grey"
         },
         "textposition": "middle left",
         "type": "scatter",
         "x": [
          "AP"
         ],
         "xaxis": "x15",
         "y": [
          98752.8900174918
         ],
         "yaxis": "y15"
        },
        {
         "line": {
          "color": "forestgreen",
          "dash": "dot",
          "width": 2
         },
         "mode": "lines",
         "showlegend": false,
         "type": "scatter",
         "x": [
          "GDR",
          "GDR"
         ],
         "xaxis": "x15",
         "y": [
          70555.71200287392,
          343316.7212618455
         ],
         "yaxis": "y15"
        },
        {
         "marker": {
          "color": "forestgreen",
          "line": {
           "color": "black",
           "width": 1.5
          },
          "size": 13,
          "symbol": "triangle-up"
         },
         "mode": "markers+text",
         "showlegend": false,
         "text": "+<b>$",
         "textfont": {
          "color": "forestgreen"
         },
         "textposition": "middle left",
         "type": "scatter",
         "x": [
          "GDR"
         ],
         "xaxis": "x15",
         "y": [
          343316.7212618455
         ],
         "yaxis": "y15"
        },
        {
         "line": {
          "color": "tomato",
          "dash": "dot",
          "width": 2
         },
         "mode": "lines",
         "showlegend": false,
         "type": "scatter",
         "x": [
          "ECPC",
          "ECPC"
         ],
         "xaxis": "x15",
         "y": [
          70555.71200287392,
          39685.09625397835
         ],
         "yaxis": "y15"
        },
        {
         "marker": {
          "color": "tomato",
          "line": {
           "color": "black",
           "width": 1.5
          },
          "size": 13,
          "symbol": "triangle-down"
         },
         "mode": "markers+text",
         "showlegend": false,
         "text": "-<b>$",
         "textfont": {
          "color": "tomato"
         },
         "textposition": "middle left",
         "type": "scatter",
         "x": [
          "ECPC"
         ],
         "xaxis": "x15",
         "y": [
          39685.09625397835
         ],
         "yaxis": "y15"
        },
        {
         "boxpoints": "all",
         "fillcolor": "rgb(189, 146, 90)",
         "jitter": 0.5,
         "line": {
          "color": "black",
          "width": 1
         },
         "marker": {
          "color": "rgb(189, 146, 90)",
          "size": 3
         },
         "name": "KOR",
         "pointpos": -1.8,
         "showlegend": false,
         "type": "box",
         "whiskerwidth": 0.4,
         "xaxis": "x16",
         "y": [
          null,
          null,
          null,
          null,
          null,
          null,
          null,
          null,
          null,
          null,
          null,
          null,
          null,
          null,
          null,
          null,
          null,
          null,
          null,
          null,
          null,
          null,
          null,
          null,
          null,
          null,
          null,
          null,
          null,
          -0.14664548007428416,
          0.017547418221613764,
          0.017129805032798123,
          -0.1329106718038172,
          -0.06377401622820923,
          -0.0769581493809468,
          0.5997227902133079,
          -0.06550919525191093,
          0.29330836911200114,
          0.31863793800840107,
          -0.01995015818526776,
          0.03054027066331236,
          null,
          null,
          null,
          null,
          null,
          null,
          null,
          null,
          null,
          null,
          null,
          null,
          null,
          null,
          null,
          null,
          null,
          null,
          null,
          null,
          null,
          null,
          null,
          null,
          null,
          null,
          null,
          null,
          null,
          null,
          null,
          null,
          null,
          null,
          null,
          null,
          null,
          null,
          null,
          null,
          null,
          null,
          null,
          null,
          null,
          null,
          null,
          null,
          null,
          null,
          null,
          null,
          null,
          null,
          null,
          null,
          null,
          null,
          null,
          null,
          null,
          null,
          null,
          null,
          null,
          null,
          null,
          null,
          null,
          null,
          null,
          null,
          null,
          null,
          null,
          null,
          null,
          null,
          null,
          null,
          null,
          null,
          null,
          null,
          null,
          null,
          null,
          null,
          null,
          null,
          null,
          null,
          null,
          null,
          null,
          null,
          null,
          null,
          null,
          null,
          null,
          null,
          null,
          null,
          null,
          null,
          null,
          null,
          null,
          null,
          null,
          null,
          null,
          null,
          null,
          null,
          null,
          null,
          null,
          null,
          null,
          null,
          null,
          null,
          null,
          null,
          null,
          null,
          null,
          null,
          null,
          null,
          null,
          null,
          null,
          null,
          null,
          null,
          null,
          null,
          null,
          null,
          null,
          null,
          null,
          null,
          null,
          null,
          null,
          null,
          null,
          null,
          null,
          null,
          null,
          null,
          null,
          null,
          null,
          null,
          null,
          null,
          null,
          null,
          null,
          null,
          null,
          null,
          null,
          null,
          null,
          null,
          null,
          null,
          null,
          null,
          null,
          null,
          null,
          null,
          null,
          null,
          null,
          null
         ],
         "yaxis": "y16"
        },
        {
         "boxpoints": "all",
         "fillcolor": "rgb(161, 105, 40)",
         "jitter": 0.5,
         "line": {
          "color": "black",
          "width": 1
         },
         "marker": {
          "color": "rgb(161, 105, 40)",
          "size": 3
         },
         "name": "TUR",
         "pointpos": -1.8,
         "showlegend": false,
         "type": "box",
         "whiskerwidth": 0.4,
         "xaxis": "x16",
         "y": [
          null,
          null,
          null,
          null,
          null,
          null,
          null,
          null,
          null,
          null,
          null,
          null,
          null,
          null,
          null,
          null,
          null,
          null,
          null,
          null,
          null,
          null,
          null,
          null,
          null,
          null,
          null,
          null,
          null,
          1.0793051096106454,
          1.101917462986334,
          1.1083836711284285,
          1.0751929740453767,
          1.2200725697600057,
          1.53148258365089,
          2.3049373562388222,
          1.583734083756393,
          1.9593107160310816,
          1.6980600735826936,
          1.6035654947741584,
          1.4061975422982222,
          null,
          null,
          null,
          null,
          null,
          null,
          null,
          null,
          null,
          null,
          null,
          null,
          null,
          null,
          null,
          null,
          null,
          null,
          null,
          null,
          null,
          null,
          null,
          null,
          null,
          null,
          null,
          null,
          null,
          null,
          null,
          null,
          null,
          null,
          null,
          null,
          null,
          null,
          null,
          null,
          null,
          null,
          null,
          null,
          null,
          null,
          null,
          null,
          null,
          null,
          null,
          null,
          null,
          null,
          null,
          null,
          null,
          null,
          null,
          null,
          null,
          null,
          null,
          null,
          null,
          null,
          null,
          null,
          null,
          null,
          null,
          null,
          null,
          null,
          null,
          null,
          null,
          null,
          null,
          null,
          null,
          null,
          null,
          null,
          null,
          null,
          null,
          null,
          null,
          null,
          null,
          null,
          null,
          null,
          null,
          null,
          null,
          null,
          null,
          null,
          null,
          null,
          null,
          null,
          null,
          null,
          null,
          null,
          null,
          null,
          null,
          null,
          null,
          null,
          null,
          null,
          null,
          null,
          null,
          null,
          null,
          null,
          null,
          null,
          null,
          null,
          null,
          null,
          null,
          null,
          null,
          null,
          null,
          null,
          null,
          null,
          null,
          null,
          null,
          null,
          null,
          null,
          null,
          null,
          null,
          null,
          null,
          null,
          null,
          null,
          null,
          null,
          null,
          null,
          null,
          null,
          null,
          null,
          null,
          null,
          null,
          null,
          null,
          null,
          null,
          null,
          null,
          null,
          null,
          null,
          null,
          null,
          null,
          null,
          null,
          null,
          null,
          null,
          null,
          null,
          null,
          null,
          null,
          null
         ],
         "yaxis": "y16"
        },
        {
         "boxpoints": "all",
         "fillcolor": "rgb(214, 189, 141)",
         "jitter": 0.5,
         "line": {
          "color": "black",
          "width": 1
         },
         "marker": {
          "color": "rgb(214, 189, 141)",
          "size": 3
         },
         "name": "JPN",
         "pointpos": -1.8,
         "showlegend": false,
         "type": "box",
         "whiskerwidth": 0.4,
         "xaxis": "x16",
         "y": [
          null,
          1.6947138320373711,
          1.6643480462002362,
          1.6458060591610377,
          1.642265899267159,
          1.615676641214564,
          null,
          null,
          null,
          null,
          null,
          null,
          null,
          null,
          null,
          null,
          null,
          null,
          null,
          null,
          null,
          null,
          null,
          null,
          null,
          null,
          null,
          null,
          null,
          0.911810512658573,
          0.9385065601314585,
          0.9319741827585826,
          0.9012044514461478,
          0.8376483263258298,
          0.9666811471487329,
          1.2675490533482507,
          0.9319492222548144,
          0.9569635950617548,
          1.0173857021501727,
          0.8899444279857657,
          0.8914985165009863,
          null,
          null,
          null,
          null,
          null,
          null,
          null,
          null,
          null,
          null,
          null,
          null,
          null,
          null,
          null,
          null,
          null,
          null,
          null,
          null,
          null,
          null,
          null,
          null,
          null,
          null,
          null,
          null,
          null,
          null,
          null,
          null,
          null,
          null,
          null,
          null,
          null,
          null,
          null,
          null,
          null,
          null,
          null,
          null,
          null,
          null,
          null,
          null,
          null,
          null,
          null,
          null,
          null,
          null,
          null,
          null,
          null,
          null,
          null,
          null,
          null,
          null,
          null,
          null,
          null,
          null,
          null,
          null,
          null,
          null,
          null,
          null,
          null,
          null,
          null,
          null,
          null,
          null,
          null,
          null,
          null,
          null,
          null,
          null,
          null,
          null,
          null,
          null,
          null,
          null,
          null,
          null,
          null,
          null,
          null,
          null,
          null,
          null,
          null,
          null,
          null,
          null,
          null,
          null,
          null,
          null,
          null,
          null,
          null,
          null,
          null,
          null,
          null,
          null,
          null,
          null,
          1.9282907519242276,
          6.211160052022005,
          1.5555535187786989,
          5.4821192110304535,
          1.2112019808737573,
          2.4669633508860502,
          0.9955378290069523,
          null,
          null,
          null,
          4.243557830008116,
          3.183233272758242,
          3.9938245739893565,
          3.6774700135431804,
          7.2283171847333945,
          2.2403024015957813,
          1.6677682817922952,
          1.886900689350628,
          1.6441724827014312,
          4.483493336976483,
          2.4159183400919506,
          3.7155681345672957,
          3.0076456150550386,
          null,
          null,
          null,
          null,
          null,
          null,
          null,
          null,
          null,
          null,
          null,
          null,
          null,
          null,
          null,
          null,
          null,
          null,
          null,
          null,
          null,
          null,
          null,
          null,
          null,
          null,
          null,
          null,
          null,
          null,
          null,
          -1.3495996058000954,
          -0.7687724010787096,
          -1.5521069717444425,
          null,
          null,
          null,
          null,
          null,
          null,
          null,
          null,
          null,
          null,
          null
         ],
         "yaxis": "y16"
        },
        {
         "boxpoints": "all",
         "fillcolor": "rgb(214, 189, 141)",
         "jitter": 0.5,
         "line": {
          "color": "black",
          "width": 1
         },
         "marker": {
          "color": "rgb(214, 189, 141)",
          "size": 3
         },
         "name": "EU",
         "pointpos": -1.8,
         "showlegend": false,
         "type": "box",
         "whiskerwidth": 0.4,
         "xaxis": "x16",
         "y": [
          null,
          2.9558871887554425,
          2.912725846085666,
          2.83092735711287,
          2.7693106849730924,
          2.725936733106912,
          null,
          null,
          null,
          null,
          null,
          null,
          null,
          null,
          null,
          null,
          null,
          null,
          null,
          null,
          null,
          null,
          null,
          null,
          null,
          null,
          null,
          null,
          null,
          -0.3571384907116902,
          -0.1721856372109879,
          -0.3198261024911936,
          -0.5196996690268985,
          -0.40679689746189696,
          -0.5614175790708036,
          -0.552818390702219,
          -0.5478635454178213,
          -0.6683239319065742,
          -0.40416303624978517,
          -0.5589441967363781,
          -0.3103365062374251,
          null,
          null,
          null,
          null,
          null,
          null,
          null,
          null,
          null,
          null,
          null,
          null,
          null,
          null,
          null,
          null,
          null,
          null,
          null,
          null,
          null,
          null,
          null,
          null,
          null,
          null,
          null,
          null,
          null,
          null,
          null,
          null,
          null,
          null,
          null,
          null,
          null,
          null,
          null,
          null,
          null,
          null,
          null,
          null,
          null,
          null,
          null,
          null,
          null,
          null,
          null,
          null,
          null,
          null,
          null,
          null,
          null,
          null,
          null,
          null,
          null,
          null,
          null,
          null,
          null,
          null,
          null,
          null,
          null,
          null,
          null,
          null,
          null,
          null,
          null,
          null,
          null,
          null,
          null,
          null,
          null,
          null,
          null,
          null,
          null,
          null,
          null,
          null,
          null,
          null,
          null,
          null,
          null,
          null,
          null,
          null,
          null,
          null,
          null,
          null,
          null,
          null,
          null,
          null,
          null,
          null,
          null,
          null,
          null,
          null,
          null,
          null,
          null,
          null,
          null,
          null,
          1.8567787758890535,
          5.514339537405524,
          1.9834096076947332,
          5.602878892032488,
          0.637885120327816,
          2.424924051566445,
          1.0184609178061763,
          null,
          null,
          null,
          3.9217443934579146,
          3.3060098741202313,
          3.758677374891084,
          3.7987861327478223,
          6.994054420493819,
          2.3463699879057764,
          1.9547586007754227,
          2.257923033647862,
          2.297429835844974,
          5.044609061807546,
          2.8490094845914817,
          4.2123808564273215,
          3.8449312753148246,
          null,
          null,
          null,
          null,
          null,
          null,
          null,
          null,
          null,
          null,
          null,
          null,
          null,
          null,
          null,
          null,
          null,
          null,
          null,
          null,
          null,
          null,
          null,
          null,
          null,
          null,
          null,
          null,
          null,
          null,
          null,
          -0.6146589153756079,
          -0.47753447137474003,
          -0.6386236291204844,
          3.110921965828079,
          2.3964904634458013,
          2.2638086860323643,
          2.201944107347383,
          2.355490678055347,
          2.042413628220552,
          null,
          null,
          null,
          null,
          null
         ],
         "yaxis": "y16"
        },
        {
         "boxpoints": "all",
         "fillcolor": "rgb(237, 234, 194)",
         "jitter": 0.5,
         "line": {
          "color": "black",
          "width": 1
         },
         "marker": {
          "color": "rgb(237, 234, 194)",
          "size": 3
         },
         "name": "CHN",
         "pointpos": -1.8,
         "showlegend": false,
         "type": "box",
         "whiskerwidth": 0.4,
         "xaxis": "x16",
         "y": [
          null,
          5.248620188957499,
          5.027466747834537,
          4.865970022672881,
          4.9991237801842905,
          4.680039577244789,
          null,
          null,
          null,
          null,
          null,
          null,
          null,
          null,
          null,
          null,
          null,
          null,
          null,
          null,
          null,
          null,
          null,
          null,
          null,
          null,
          null,
          null,
          null,
          3.7433536539405434,
          3.6392272249728004,
          3.687461139469174,
          3.786725014602411,
          3.5186359835802565,
          3.910553166298828,
          4.11236769596706,
          3.762347783356023,
          3.9476782805796042,
          3.7855721327419163,
          3.636809014674614,
          3.6127773294811036,
          null,
          null,
          null,
          null,
          null,
          null,
          null,
          null,
          null,
          null,
          null,
          null,
          null,
          null,
          null,
          null,
          null,
          null,
          null,
          null,
          null,
          null,
          null,
          null,
          null,
          null,
          null,
          null,
          null,
          null,
          4.218568235850829,
          4.041522715715555,
          3.6882790517913238,
          2.96045665061494,
          2.8125776277426486,
          3.524801201421336,
          3.9016230017128564,
          3.2193738410809956,
          2.6995247950574397,
          4.597702536035575,
          2.4872438151957206,
          3.494836048976697,
          2.2859672208288817,
          2.5287151357220403,
          2.1215096518411625,
          null,
          null,
          null,
          null,
          null,
          2.0626086177406133,
          1.86590527573922,
          null,
          null,
          null,
          null,
          null,
          2.0663073641953025,
          1.7854461958610757,
          1.8473664609921336,
          1.715558348060745,
          null,
          null,
          null,
          null,
          null,
          null,
          null,
          null,
          null,
          null,
          null,
          null,
          null,
          null,
          null,
          null,
          null,
          null,
          null,
          null,
          null,
          null,
          null,
          null,
          null,
          null,
          null,
          null,
          null,
          null,
          null,
          null,
          null,
          null,
          null,
          null,
          null,
          null,
          null,
          null,
          null,
          null,
          null,
          null,
          null,
          null,
          null,
          null,
          null,
          null,
          null,
          null,
          null,
          null,
          null,
          1.9617095774933353,
          1.1417418514504198,
          1.661691222034833,
          0.40585786523075157,
          0.5371971936690568,
          1.1183148791643578,
          0.8144711779256422,
          null,
          null,
          null,
          1.3940779334221718,
          1.5113985815723356,
          1.2736384986698812,
          1.1225693143610986,
          2.4075445109064315,
          1.4177547691802004,
          1.4396487797679767,
          1.1837738077869007,
          1.2006370232356554,
          2.2071347700300215,
          1.701727500409623,
          1.8130927300715625,
          1.822693231636627,
          null,
          null,
          null,
          null,
          null,
          null,
          null,
          null,
          null,
          null,
          null,
          null,
          null,
          null,
          null,
          null,
          null,
          null,
          null,
          null,
          null,
          null,
          null,
          null,
          null,
          null,
          null,
          null,
          null,
          null,
          null,
          -0.5580881596433132,
          -0.45388391736600986,
          -0.7250755479941585,
          3.2689526681124956,
          2.389899904099871,
          3.5265297036295875,
          2.174483755263049,
          3.6603105756857355,
          1.9884629799441653,
          null,
          null,
          null,
          null,
          null
         ],
         "yaxis": "y16"
        },
        {
         "boxpoints": "all",
         "fillcolor": "rgb(214, 189, 141)",
         "jitter": 0.5,
         "line": {
          "color": "black",
          "width": 1
         },
         "marker": {
          "color": "rgb(214, 189, 141)",
          "size": 3
         },
         "name": "CAN",
         "pointpos": -1.8,
         "showlegend": false,
         "type": "box",
         "whiskerwidth": 0.4,
         "xaxis": "x16",
         "y": [
          null,
          null,
          null,
          null,
          null,
          null,
          null,
          null,
          null,
          null,
          null,
          null,
          null,
          null,
          null,
          null,
          null,
          null,
          null,
          null,
          null,
          null,
          null,
          null,
          null,
          null,
          null,
          null,
          null,
          2.522757942157195,
          2.4451476209081284,
          2.428138272433702,
          2.4976604884658853,
          2.249522659983588,
          2.621372845873549,
          2.239956949327724,
          2.5077563787045642,
          2.27917598998249,
          2.1952596882820297,
          2.3533141045215173,
          2.2785442528017557,
          null,
          null,
          null,
          null,
          null,
          null,
          null,
          null,
          null,
          null,
          null,
          null,
          null,
          null,
          null,
          null,
          null,
          null,
          null,
          null,
          null,
          null,
          null,
          null,
          null,
          null,
          null,
          null,
          null,
          null,
          null,
          null,
          null,
          null,
          null,
          null,
          null,
          null,
          null,
          null,
          null,
          null,
          null,
          null,
          null,
          null,
          null,
          null,
          null,
          null,
          null,
          null,
          null,
          null,
          null,
          null,
          null,
          null,
          null,
          null,
          null,
          null,
          null,
          null,
          null,
          null,
          null,
          null,
          null,
          null,
          null,
          null,
          null,
          null,
          null,
          null,
          null,
          null,
          null,
          null,
          null,
          null,
          null,
          null,
          null,
          null,
          null,
          null,
          null,
          null,
          null,
          null,
          null,
          null,
          null,
          null,
          null,
          null,
          null,
          null,
          null,
          null,
          null,
          null,
          null,
          null,
          null,
          null,
          null,
          null,
          null,
          null,
          null,
          null,
          null,
          null,
          null,
          null,
          null,
          null,
          null,
          null,
          null,
          null,
          null,
          null,
          null,
          null,
          null,
          null,
          null,
          null,
          null,
          null,
          null,
          null,
          null,
          null,
          null,
          null,
          null,
          null,
          null,
          null,
          null,
          null,
          null,
          null,
          null,
          null,
          null,
          null,
          null,
          null,
          null,
          null,
          null,
          null,
          null,
          null,
          null,
          null,
          null,
          null,
          null,
          null,
          null,
          null,
          null,
          null,
          null,
          null,
          null,
          28.058935242765358,
          29.58023868904369,
          15.543239147553734,
          29.098278581041132,
          11.242062577430772,
          28.686699117767162,
          null,
          null,
          null,
          null,
          null
         ],
         "yaxis": "y16"
        },
        {
         "boxpoints": "all",
         "fillcolor": "rgb(214, 189, 141)",
         "jitter": 0.5,
         "line": {
          "color": "black",
          "width": 1
         },
         "marker": {
          "color": "rgb(214, 189, 141)",
          "size": 3
         },
         "name": "USA",
         "pointpos": -1.8,
         "showlegend": false,
         "type": "box",
         "whiskerwidth": 0.4,
         "xaxis": "x16",
         "y": [
          null,
          2.955202144379052,
          2.8545322558115167,
          2.7511864796883794,
          2.685052381333314,
          2.6554308313341926,
          null,
          null,
          null,
          null,
          null,
          null,
          null,
          null,
          null,
          null,
          null,
          null,
          null,
          null,
          null,
          null,
          null,
          null,
          null,
          null,
          null,
          null,
          null,
          2.6756037485170885,
          2.6019881628358195,
          2.5882627916579826,
          2.6568937549102833,
          2.4272738159776743,
          2.83551432593234,
          2.7860974203744138,
          2.7108111061377866,
          2.4444775799712013,
          2.3827148834466017,
          2.5825531510006874,
          2.45917576478298,
          null,
          null,
          null,
          null,
          null,
          null,
          null,
          null,
          null,
          null,
          null,
          null,
          null,
          null,
          null,
          null,
          null,
          null,
          null,
          null,
          null,
          null,
          null,
          null,
          null,
          null,
          null,
          null,
          null,
          null,
          1.6174241813081325,
          1.858291595803061,
          1.3573881488926132,
          1.3111359124157091,
          1.3233681769126349,
          1.3229673369172865,
          2.3135871581338474,
          2.0941105315913773,
          1.775167400273542,
          2.7454569153784045,
          1.632117913295567,
          2.2592821864860118,
          1.574228689187552,
          1.6935272278939317,
          1.5832267407983016,
          null,
          null,
          null,
          null,
          null,
          1.443717631429591,
          1.4271830117893285,
          null,
          null,
          null,
          null,
          null,
          1.419306009875448,
          1.3491052645664907,
          1.323412251822096,
          1.3259895621245221,
          null,
          null,
          null,
          null,
          null,
          null,
          null,
          null,
          null,
          null,
          null,
          null,
          null,
          null,
          null,
          null,
          null,
          null,
          null,
          null,
          null,
          null,
          null,
          null,
          null,
          null,
          null,
          null,
          null,
          null,
          null,
          null,
          null,
          null,
          null,
          null,
          null,
          null,
          null,
          null,
          null,
          null,
          null,
          null,
          null,
          null,
          null,
          null,
          null,
          null,
          null,
          null,
          null,
          null,
          null,
          2.3348426866524243,
          5.15966273931117,
          2.568978465023172,
          6.059620901731328,
          1.73565117313138,
          2.850124800149439,
          1.4710840947680377,
          null,
          null,
          null,
          4.775355219277499,
          5.480686802234291,
          4.898750941372777,
          4.8321481330202865,
          3.9664185416146305,
          4.433887267881809,
          4.3549810729079645,
          4.305646105199876,
          4.208086904528512,
          5.656527320010151,
          5.162898569033119,
          5.356496911962494,
          5.158978463647297,
          null,
          null,
          null,
          null,
          null,
          null,
          null,
          null,
          null,
          null,
          null,
          null,
          null,
          null,
          null,
          null,
          null,
          null,
          null,
          null,
          null,
          null,
          null,
          null,
          null,
          null,
          null,
          null,
          null,
          null,
          null,
          -0.9679987488225207,
          -0.583818858660457,
          -1.1972745596293606,
          5.141952859492504,
          4.530179707796085,
          3.3390196580276728,
          4.345486877570687,
          3.245069717945345,
          4.18134978776866,
          null,
          null,
          null,
          null,
          null
         ],
         "yaxis": "y16"
        },
        {
         "boxpoints": "all",
         "fillcolor": "rgb(214, 189, 141)",
         "jitter": 0.5,
         "line": {
          "color": "black",
          "width": 1
         },
         "marker": {
          "color": "rgb(214, 189, 141)",
          "size": 3
         },
         "name": "ARG",
         "pointpos": -1.8,
         "showlegend": false,
         "type": "box",
         "whiskerwidth": 0.4,
         "xaxis": "x16",
         "y": [
          null,
          null,
          null,
          null,
          null,
          null,
          null,
          null,
          null,
          null,
          null,
          null,
          null,
          null,
          null,
          null,
          null,
          null,
          null,
          null,
          null,
          null,
          null,
          null,
          null,
          null,
          null,
          null,
          null,
          4.661259639171142,
          3.7871784607721626,
          3.775061214312651,
          4.634564290670291,
          4.4174462735132165,
          5.070960445418565,
          5.20377215719483,
          4.927349454595141,
          4.959328764369928,
          3.983431871827555,
          4.7628487964573285,
          3.8540991790117967,
          null,
          null,
          null,
          null,
          null,
          null,
          null,
          null,
          null,
          null,
          null,
          null,
          null,
          null,
          null,
          null,
          null,
          null,
          null,
          null,
          null,
          null,
          null,
          null,
          null,
          null,
          null,
          null,
          null,
          null,
          null,
          null,
          null,
          null,
          null,
          null,
          null,
          null,
          null,
          null,
          null,
          null,
          null,
          null,
          null,
          null,
          null,
          null,
          null,
          null,
          null,
          null,
          null,
          null,
          null,
          null,
          null,
          null,
          null,
          null,
          null,
          null,
          null,
          null,
          null,
          null,
          null,
          null,
          null,
          null,
          null,
          null,
          null,
          null,
          null,
          null,
          null,
          null,
          null,
          null,
          null,
          null,
          null,
          null,
          null,
          null,
          null,
          null,
          null,
          null,
          null,
          null,
          null,
          null,
          null,
          null,
          null,
          null,
          null,
          null,
          null,
          null,
          null,
          null,
          null,
          null,
          null,
          null,
          null,
          null,
          null,
          null,
          null,
          null,
          null,
          null,
          null,
          null,
          null,
          null,
          null,
          null,
          null,
          null,
          null,
          null,
          null,
          null,
          null,
          null,
          null,
          null,
          null,
          null,
          null,
          null,
          null,
          null,
          null,
          null,
          null,
          null,
          null,
          null,
          null,
          null,
          null,
          null,
          null,
          null,
          null,
          null,
          null,
          null,
          null,
          null,
          null,
          null,
          null,
          null,
          null,
          null,
          null,
          null,
          null,
          null,
          null,
          null,
          null,
          null,
          null,
          null,
          null,
          null,
          null,
          null,
          null,
          null,
          null,
          null,
          null,
          null,
          null,
          null
         ],
         "yaxis": "y16"
        },
        {
         "boxpoints": "all",
         "fillcolor": "rgb(237, 234, 194)",
         "jitter": 0.5,
         "line": {
          "color": "black",
          "width": 1
         },
         "marker": {
          "color": "rgb(237, 234, 194)",
          "size": 3
         },
         "name": "ZAF",
         "pointpos": -1.8,
         "showlegend": false,
         "type": "box",
         "whiskerwidth": 0.4,
         "xaxis": "x16",
         "y": [
          null,
          null,
          null,
          null,
          null,
          null,
          null,
          null,
          null,
          null,
          null,
          null,
          null,
          null,
          null,
          null,
          null,
          null,
          null,
          null,
          null,
          null,
          null,
          null,
          null,
          null,
          null,
          null,
          null,
          4.578651060781235,
          3.960924097961526,
          3.9433403346218108,
          4.531283935226126,
          4.206877916002525,
          5.3570102212987285,
          5.567592140504023,
          5.126703661767841,
          5.184842744474368,
          4.278013151640242,
          4.919083158621458,
          4.024954412770774,
          null,
          null,
          null,
          null,
          null,
          null,
          null,
          null,
          null,
          null,
          null,
          null,
          null,
          null,
          null,
          null,
          null,
          null,
          null,
          null,
          null,
          null,
          null,
          null,
          null,
          null,
          null,
          null,
          null,
          null,
          null,
          null,
          null,
          null,
          null,
          null,
          null,
          null,
          null,
          null,
          null,
          null,
          null,
          null,
          null,
          null,
          null,
          null,
          null,
          null,
          null,
          null,
          null,
          null,
          null,
          null,
          null,
          null,
          null,
          null,
          null,
          null,
          null,
          null,
          null,
          null,
          null,
          null,
          null,
          null,
          null,
          null,
          null,
          null,
          null,
          null,
          null,
          null,
          null,
          null,
          null,
          null,
          null,
          null,
          null,
          null,
          null,
          null,
          null,
          null,
          null,
          null,
          null,
          null,
          null,
          null,
          null,
          null,
          null,
          null,
          null,
          null,
          null,
          null,
          null,
          null,
          null,
          null,
          null,
          null,
          null,
          null,
          null,
          null,
          null,
          null,
          null,
          null,
          null,
          null,
          null,
          null,
          null,
          null,
          null,
          null,
          null,
          null,
          null,
          null,
          null,
          null,
          null,
          null,
          null,
          null,
          null,
          null,
          null,
          null,
          null,
          null,
          null,
          null,
          null,
          null,
          null,
          null,
          null,
          null,
          null,
          null,
          null,
          null,
          null,
          null,
          null,
          null,
          null,
          null,
          null,
          null,
          null,
          null,
          null,
          null,
          null,
          null,
          null,
          null,
          null,
          null,
          null,
          5.501396166748324,
          5.8119323914598695,
          4.968472323012245,
          5.6495800243814465,
          4.346982025781554,
          5.5538432260999375,
          null,
          null,
          null,
          null,
          null
         ],
         "yaxis": "y16"
        },
        {
         "boxpoints": "all",
         "fillcolor": "rgb(181, 200, 184)",
         "jitter": 0.5,
         "line": {
          "color": "black",
          "width": 1
         },
         "marker": {
          "color": "rgb(181, 200, 184)",
          "size": 3
         },
         "name": "BRA",
         "pointpos": -1.8,
         "showlegend": false,
         "type": "box",
         "whiskerwidth": 0.4,
         "xaxis": "x16",
         "y": [
          null,
          6.7199565924645315,
          6.466668728396458,
          6.2674505747764,
          6.164985876350032,
          6.059869955878525,
          null,
          null,
          null,
          null,
          null,
          null,
          null,
          null,
          null,
          null,
          null,
          null,
          null,
          null,
          null,
          null,
          null,
          null,
          null,
          null,
          null,
          null,
          null,
          5.51398114299547,
          4.9154000592443925,
          4.875668130301374,
          5.461692989152414,
          4.950822048637943,
          5.579080770704673,
          5.4680367950366415,
          5.295287152129067,
          5.262002783678357,
          4.766981146304741,
          5.022530271968109,
          4.650593165805453,
          null,
          null,
          null,
          null,
          null,
          null,
          null,
          null,
          null,
          null,
          null,
          null,
          null,
          null,
          null,
          null,
          null,
          null,
          null,
          null,
          null,
          null,
          null,
          null,
          null,
          null,
          null,
          null,
          null,
          null,
          null,
          null,
          null,
          null,
          null,
          null,
          null,
          null,
          null,
          null,
          null,
          null,
          null,
          null,
          null,
          null,
          null,
          null,
          null,
          null,
          null,
          null,
          null,
          null,
          null,
          null,
          null,
          null,
          null,
          null,
          null,
          null,
          null,
          null,
          null,
          null,
          null,
          null,
          null,
          null,
          null,
          null,
          null,
          null,
          null,
          null,
          null,
          null,
          null,
          null,
          null,
          null,
          null,
          null,
          null,
          null,
          null,
          null,
          null,
          null,
          null,
          null,
          null,
          null,
          null,
          null,
          null,
          null,
          null,
          null,
          null,
          null,
          null,
          null,
          null,
          null,
          null,
          null,
          null,
          null,
          null,
          null,
          null,
          null,
          null,
          null,
          null,
          null,
          null,
          null,
          null,
          null,
          null,
          null,
          null,
          null,
          null,
          null,
          null,
          null,
          null,
          null,
          null,
          null,
          null,
          null,
          null,
          null,
          null,
          null,
          null,
          null,
          null,
          null,
          null,
          null,
          null,
          null,
          null,
          null,
          null,
          null,
          null,
          null,
          null,
          null,
          null,
          null,
          null,
          null,
          null,
          null,
          null,
          null,
          null,
          null,
          null,
          null,
          null,
          null,
          null,
          null,
          null,
          4.112897063874107,
          4.05124362301802,
          0.5171962905680592,
          3.983873031015004,
          -1.451193934927911,
          3.87051888672272,
          null,
          null,
          null,
          null,
          null
         ],
         "yaxis": "y16"
        },
        {
         "boxpoints": "all",
         "fillcolor": "rgb(214, 189, 141)",
         "jitter": 0.5,
         "line": {
          "color": "black",
          "width": 1
         },
         "marker": {
          "color": "rgb(214, 189, 141)",
          "size": 3
         },
         "name": "IDN",
         "pointpos": -1.8,
         "showlegend": false,
         "type": "box",
         "whiskerwidth": 0.4,
         "xaxis": "x16",
         "y": [
          null,
          null,
          null,
          null,
          null,
          null,
          null,
          null,
          null,
          null,
          null,
          null,
          null,
          null,
          null,
          null,
          null,
          null,
          null,
          null,
          null,
          null,
          null,
          null,
          null,
          null,
          null,
          null,
          null,
          5.317436263002764,
          4.861408348174776,
          4.8311989312520245,
          5.269928260445161,
          4.8371899572786115,
          5.63613400664839,
          6.182995419234122,
          5.365936086664034,
          5.803196431570662,
          5.1917373975108845,
          5.1037337404882726,
          4.806555393945251,
          null,
          null,
          null,
          null,
          null,
          null,
          null,
          null,
          null,
          null,
          null,
          null,
          null,
          null,
          null,
          null,
          null,
          null,
          null,
          null,
          null,
          null,
          null,
          null,
          null,
          null,
          null,
          null,
          null,
          null,
          null,
          null,
          null,
          null,
          null,
          null,
          null,
          null,
          null,
          null,
          null,
          null,
          null,
          null,
          null,
          null,
          null,
          null,
          null,
          null,
          null,
          null,
          null,
          null,
          null,
          null,
          null,
          null,
          null,
          null,
          null,
          null,
          null,
          null,
          null,
          null,
          null,
          null,
          null,
          null,
          null,
          null,
          null,
          null,
          null,
          null,
          null,
          null,
          null,
          null,
          null,
          null,
          null,
          null,
          null,
          null,
          null,
          null,
          null,
          null,
          null,
          null,
          null,
          null,
          null,
          null,
          null,
          null,
          null,
          null,
          null,
          null,
          null,
          null,
          null,
          null,
          null,
          null,
          null,
          null,
          null,
          null,
          null,
          null,
          null,
          null,
          null,
          null,
          null,
          null,
          null,
          null,
          null,
          null,
          null,
          null,
          null,
          null,
          null,
          null,
          null,
          null,
          null,
          null,
          null,
          null,
          null,
          null,
          null,
          null,
          null,
          null,
          null,
          null,
          null,
          null,
          null,
          null,
          null,
          null,
          null,
          null,
          null,
          null,
          null,
          null,
          null,
          null,
          null,
          null,
          null,
          null,
          null,
          null,
          null,
          null,
          null,
          null,
          null,
          null,
          null,
          null,
          null,
          6.546191975443165,
          6.321831607230519,
          8.151671665074153,
          5.992236053998893,
          8.495353420201816,
          5.823513041107695,
          null,
          null,
          null,
          null,
          null
         ],
         "yaxis": "y16"
        },
        {
         "boxpoints": "all",
         "fillcolor": "rgb(189, 146, 90)",
         "jitter": 0.5,
         "line": {
          "color": "black",
          "width": 1
         },
         "marker": {
          "color": "rgb(189, 146, 90)",
          "size": 3
         },
         "name": "MEX",
         "pointpos": -1.8,
         "showlegend": false,
         "type": "box",
         "whiskerwidth": 0.4,
         "xaxis": "x16",
         "y": [
          null,
          null,
          null,
          null,
          null,
          null,
          null,
          null,
          null,
          null,
          null,
          null,
          null,
          null,
          null,
          null,
          null,
          null,
          null,
          null,
          null,
          null,
          null,
          null,
          null,
          null,
          null,
          null,
          null,
          5.775089430889954,
          4.769613582110991,
          4.738498393126655,
          5.730230605289031,
          5.2748781461829966,
          5.779629229319423,
          5.969160420093876,
          5.526350781788787,
          5.593153527190397,
          4.668957691632461,
          5.275323150366333,
          4.448908430530576,
          null,
          null,
          null,
          null,
          null,
          null,
          null,
          null,
          null,
          null,
          null,
          null,
          null,
          null,
          null,
          null,
          null,
          null,
          null,
          null,
          null,
          null,
          null,
          null,
          null,
          null,
          null,
          null,
          null,
          null,
          null,
          null,
          null,
          null,
          null,
          null,
          null,
          null,
          null,
          null,
          null,
          null,
          null,
          null,
          null,
          null,
          null,
          null,
          null,
          null,
          null,
          null,
          null,
          null,
          null,
          null,
          null,
          null,
          null,
          null,
          null,
          null,
          null,
          null,
          null,
          null,
          null,
          null,
          null,
          null,
          null,
          null,
          null,
          null,
          null,
          null,
          null,
          null,
          null,
          null,
          null,
          null,
          null,
          null,
          null,
          null,
          null,
          null,
          null,
          null,
          null,
          null,
          null,
          null,
          null,
          null,
          null,
          null,
          null,
          null,
          null,
          null,
          null,
          null,
          null,
          null,
          null,
          null,
          null,
          null,
          null,
          null,
          null,
          null,
          null,
          null,
          null,
          null,
          null,
          null,
          null,
          null,
          null,
          null,
          null,
          null,
          null,
          null,
          null,
          null,
          null,
          null,
          null,
          null,
          null,
          null,
          null,
          null,
          null,
          null,
          null,
          null,
          null,
          null,
          null,
          null,
          null,
          null,
          null,
          null,
          null,
          null,
          null,
          null,
          null,
          null,
          null,
          null,
          null,
          null,
          null,
          null,
          null,
          null,
          null,
          null,
          null,
          null,
          null,
          null,
          null,
          null,
          null,
          8.261671579516966,
          8.20494572378902,
          7.340359189127287,
          8.001364868881613,
          6.675302619163812,
          7.826689894997028,
          null,
          null,
          null,
          null,
          null
         ],
         "yaxis": "y16"
        },
        {
         "boxpoints": "all",
         "fillcolor": "rgb(214, 189, 141)",
         "jitter": 0.5,
         "line": {
          "color": "black",
          "width": 1
         },
         "marker": {
          "color": "rgb(214, 189, 141)",
          "size": 3
         },
         "name": "IND",
         "pointpos": -1.8,
         "showlegend": false,
         "type": "box",
         "whiskerwidth": 0.4,
         "xaxis": "x16",
         "y": [
          null,
          27.958310155049045,
          26.780245260930272,
          25.81918404108354,
          25.259650166481403,
          24.87406561033044,
          null,
          null,
          null,
          null,
          null,
          null,
          null,
          null,
          null,
          null,
          null,
          null,
          null,
          null,
          null,
          null,
          null,
          null,
          null,
          null,
          null,
          null,
          null,
          7.158310256729031,
          6.527488520106685,
          6.489430585349461,
          7.122990376542902,
          6.699507603265868,
          7.573912349476331,
          7.964122677274995,
          7.3562789760997145,
          7.525540421160404,
          6.7323344847625055,
          7.156762461198046,
          6.496315932527947,
          null,
          null,
          null,
          null,
          null,
          null,
          null,
          null,
          null,
          null,
          null,
          null,
          null,
          null,
          null,
          null,
          null,
          null,
          null,
          null,
          null,
          null,
          null,
          null,
          null,
          null,
          null,
          null,
          null,
          null,
          15.348745378565603,
          15.075407033511842,
          11.622290116571373,
          10.561368505295968,
          10.349250679200383,
          11.232526893662238,
          10.400908572785983,
          8.625801441181688,
          7.192461687911752,
          8.566375782786265,
          6.7032566272914265,
          6.507692419786396,
          6.205474564702474,
          5.07808578552216,
          5.169610002268112,
          null,
          null,
          null,
          null,
          null,
          5.597228273960881,
          5.842453010736621,
          null,
          null,
          null,
          null,
          null,
          4.352081481511734,
          4.5673207837055925,
          5.036448688278241,
          5.347492623354893,
          null,
          null,
          null,
          null,
          null,
          null,
          null,
          null,
          null,
          null,
          null,
          null,
          null,
          null,
          null,
          null,
          null,
          null,
          null,
          null,
          null,
          null,
          null,
          null,
          null,
          null,
          null,
          null,
          null,
          null,
          null,
          null,
          null,
          null,
          null,
          null,
          null,
          null,
          null,
          null,
          null,
          null,
          null,
          null,
          null,
          null,
          null,
          null,
          null,
          null,
          null,
          null,
          null,
          null,
          null,
          4.04171117067087,
          4.87267872119801,
          3.1036972617158853,
          2.59842221315948,
          -0.1318404207574595,
          3.3236888362799344,
          1.174670631932099,
          null,
          null,
          null,
          5.8166402802503985,
          3.346409939413235,
          5.248096855480029,
          4.487991078836594,
          12.553414619835557,
          3.1918891093671413,
          2.532821858411057,
          3.9955619038251213,
          3.539118490070919,
          10.739625067429767,
          4.739403818951733,
          8.881092465210854,
          7.610880161065568,
          null,
          null,
          null,
          null,
          null,
          null,
          null,
          null,
          null,
          null,
          null,
          null,
          null,
          null,
          null,
          null,
          null,
          null,
          null,
          null,
          null,
          null,
          null,
          null,
          null,
          null,
          null,
          null,
          null,
          null,
          null,
          -2.9707763489895536,
          -3.005084551753077,
          -5.129436460376182,
          5.062586721941053,
          3.5327091663828623,
          4.439526059178049,
          3.183482377629502,
          5.007110292006064,
          2.8729163563020808,
          null,
          null,
          null,
          null,
          null
         ],
         "yaxis": "y16"
        },
        {
         "boxpoints": "all",
         "fillcolor": "rgb(214, 189, 141)",
         "jitter": 0.5,
         "line": {
          "color": "black",
          "width": 1
         },
         "marker": {
          "color": "rgb(214, 189, 141)",
          "size": 3
         },
         "name": "AUS",
         "pointpos": -1.8,
         "showlegend": false,
         "type": "box",
         "whiskerwidth": 0.4,
         "xaxis": "x16",
         "y": [
          null,
          null,
          null,
          null,
          null,
          null,
          null,
          null,
          null,
          null,
          null,
          null,
          null,
          null,
          null,
          null,
          null,
          null,
          null,
          null,
          null,
          null,
          null,
          null,
          null,
          null,
          null,
          null,
          null,
          6.808767598854325,
          6.732751761264921,
          6.686095368265737,
          6.742677743969316,
          5.997578513487529,
          8.396152956368121,
          6.106394639015763,
          8.184177420019463,
          6.621534584341194,
          5.597092491161813,
          7.752153131576131,
          6.56722905920505,
          null,
          null,
          null,
          null,
          null,
          null,
          null,
          null,
          null,
          null,
          null,
          null,
          null,
          null,
          null,
          null,
          null,
          null,
          null,
          null,
          null,
          null,
          null,
          null,
          null,
          null,
          null,
          null,
          null,
          null,
          null,
          null,
          null,
          null,
          null,
          null,
          null,
          null,
          null,
          null,
          null,
          null,
          null,
          null,
          null,
          null,
          null,
          null,
          null,
          null,
          null,
          null,
          null,
          null,
          null,
          null,
          null,
          null,
          null,
          null,
          null,
          null,
          null,
          null,
          null,
          null,
          null,
          null,
          null,
          null,
          null,
          null,
          null,
          null,
          null,
          null,
          null,
          null,
          null,
          null,
          null,
          null,
          null,
          null,
          null,
          null,
          null,
          null,
          null,
          null,
          null,
          null,
          null,
          null,
          null,
          null,
          null,
          null,
          null,
          null,
          null,
          null,
          null,
          null,
          null,
          null,
          null,
          null,
          null,
          null,
          null,
          null,
          null,
          null,
          null,
          null,
          null,
          null,
          null,
          null,
          null,
          null,
          null,
          null,
          null,
          null,
          null,
          null,
          null,
          null,
          null,
          null,
          null,
          null,
          null,
          null,
          null,
          null,
          null,
          null,
          null,
          null,
          null,
          null,
          null,
          null,
          null,
          null,
          null,
          null,
          null,
          null,
          null,
          null,
          null,
          null,
          null,
          null,
          null,
          null,
          null,
          null,
          null,
          null,
          null,
          null,
          null,
          null,
          null,
          null,
          null,
          null,
          null,
          null,
          null,
          null,
          null,
          null,
          null,
          null,
          null,
          null,
          null,
          null
         ],
         "yaxis": "y16"
        },
        {
         "boxpoints": "all",
         "fillcolor": "rgb(214, 189, 141)",
         "jitter": 0.5,
         "line": {
          "color": "black",
          "width": 1
         },
         "marker": {
          "color": "rgb(214, 189, 141)",
          "size": 3
         },
         "name": "RUS",
         "pointpos": -1.8,
         "showlegend": false,
         "type": "box",
         "whiskerwidth": 0.4,
         "xaxis": "x16",
         "y": [
          null,
          12.112441298713895,
          11.815333615461503,
          11.511968031126708,
          12.285707752470886,
          11.227672028771277,
          null,
          null,
          null,
          null,
          null,
          null,
          null,
          null,
          null,
          null,
          null,
          null,
          null,
          null,
          null,
          null,
          null,
          null,
          null,
          null,
          null,
          null,
          null,
          7.978783049585291,
          7.309309750075852,
          7.311307711301423,
          7.97093129440334,
          7.4401999157002985,
          8.293798569275468,
          8.366326935513406,
          8.00672296546335,
          8.126070431589811,
          7.337231013451069,
          7.693422569164853,
          7.180450118944143,
          null,
          null,
          null,
          null,
          null,
          null,
          null,
          null,
          null,
          null,
          null,
          null,
          null,
          null,
          null,
          null,
          null,
          null,
          null,
          null,
          null,
          null,
          null,
          null,
          null,
          null,
          null,
          null,
          null,
          null,
          null,
          null,
          null,
          null,
          null,
          null,
          null,
          null,
          null,
          null,
          null,
          null,
          null,
          null,
          null,
          null,
          null,
          null,
          null,
          null,
          null,
          null,
          null,
          null,
          null,
          null,
          null,
          null,
          null,
          null,
          null,
          null,
          null,
          null,
          null,
          null,
          null,
          null,
          null,
          null,
          null,
          null,
          null,
          null,
          null,
          null,
          null,
          null,
          null,
          null,
          null,
          null,
          null,
          null,
          null,
          null,
          null,
          null,
          null,
          null,
          null,
          null,
          null,
          null,
          null,
          null,
          null,
          null,
          null,
          null,
          null,
          null,
          null,
          null,
          null,
          null,
          null,
          null,
          null,
          null,
          null,
          null,
          null,
          null,
          null,
          null,
          5.96648751615801,
          15.414517372364898,
          4.5267870416449645,
          6.937758729147468,
          1.497462428013825,
          5.564361268327348,
          2.399788608154813,
          null,
          null,
          null,
          15.120751075970587,
          7.67007646587154,
          12.08102958681886,
          10.68845188603252,
          20.68650758714782,
          6.125116868804338,
          4.814573885861714,
          5.538196132146689,
          5.343341799374977,
          12.017516778762312,
          6.141182095501483,
          8.471938538145555,
          7.871457857115745,
          null,
          null,
          null,
          null,
          null,
          null,
          null,
          null,
          null,
          null,
          null,
          null,
          null,
          null,
          null,
          null,
          null,
          null,
          null,
          null,
          null,
          null,
          null,
          null,
          null,
          null,
          null,
          null,
          null,
          null,
          null,
          -4.5090501660083975,
          -3.542276145004566,
          -5.665981362539354,
          null,
          null,
          null,
          null,
          null,
          null,
          null,
          null,
          null,
          null,
          null
         ],
         "yaxis": "y16"
        },
        {
         "boxpoints": "all",
         "fillcolor": "rgb(189, 146, 90)",
         "jitter": 0.5,
         "line": {
          "color": "black",
          "width": 1
         },
         "marker": {
          "color": "rgb(189, 146, 90)",
          "size": 3
         },
         "name": "SAU",
         "pointpos": -1.8,
         "showlegend": false,
         "type": "box",
         "whiskerwidth": 0.4,
         "xaxis": "x16",
         "y": [
          null,
          null,
          null,
          null,
          null,
          null,
          null,
          null,
          null,
          null,
          null,
          null,
          null,
          null,
          null,
          null,
          null,
          null,
          null,
          null,
          null,
          null,
          null,
          null,
          null,
          null,
          null,
          null,
          null,
          9.539632831607312,
          8.055260102604874,
          8.036007940762266,
          9.516810753597394,
          9.233427178116937,
          9.888093122813574,
          9.644900062693953,
          9.710069247880545,
          9.731839406557471,
          8.043551937621716,
          9.536031746355915,
          8.206376814931822,
          null,
          null,
          null,
          null,
          null,
          null,
          null,
          null,
          null,
          null,
          null,
          null,
          null,
          null,
          null,
          null,
          null,
          null,
          null,
          null,
          null,
          null,
          null,
          null,
          null,
          null,
          null,
          null,
          null,
          null,
          null,
          null,
          null,
          null,
          null,
          null,
          null,
          null,
          null,
          null,
          null,
          null,
          null,
          null,
          null,
          null,
          null,
          null,
          null,
          null,
          null,
          null,
          null,
          null,
          null,
          null,
          null,
          null,
          null,
          null,
          null,
          null,
          null,
          null,
          null,
          null,
          null,
          null,
          null,
          null,
          null,
          null,
          null,
          null,
          null,
          null,
          null,
          null,
          null,
          null,
          null,
          null,
          null,
          null,
          null,
          null,
          null,
          null,
          null,
          null,
          null,
          null,
          null,
          null,
          null,
          null,
          null,
          null,
          null,
          null,
          null,
          null,
          null,
          null,
          null,
          null,
          null,
          null,
          null,
          null,
          null,
          null,
          null,
          null,
          null,
          null,
          null,
          null,
          null,
          null,
          null,
          null,
          null,
          null,
          null,
          null,
          null,
          null,
          null,
          null,
          null,
          null,
          null,
          null,
          null,
          null,
          null,
          null,
          null,
          null,
          null,
          null,
          null,
          null,
          null,
          null,
          null,
          null,
          null,
          null,
          null,
          null,
          null,
          null,
          null,
          null,
          null,
          null,
          null,
          null,
          null,
          null,
          null,
          null,
          null,
          null,
          null,
          null,
          null,
          null,
          null,
          null,
          null,
          null,
          null,
          null,
          null,
          null,
          null,
          null,
          null,
          null,
          null,
          null
         ],
         "yaxis": "y16"
        }
       ],
       "layout": {
        "annotations": [
         {
          "align": "left",
          "ax": 0,
          "ay": 0,
          "font": {
           "color": "black",
           "size": 18
          },
          "showarrow": false,
          "text": "<b>(a) Fair-share allocations less than cost-optimal</b><br>          (in number of effort-sharing approaches)",
          "x": 0.2,
          "xref": "paper",
          "y": 1.04,
          "yref": "paper"
         },
         {
          "align": "right",
          "ax": 0,
          "ay": 0,
          "font": {
           "color": "black",
           "size": 16
          },
          "showarrow": false,
          "text": "<b>(b) United States of America",
          "x": 0.01,
          "xref": "paper",
          "y": 0.38,
          "yref": "paper"
         },
         {
          "align": "right",
          "ax": 0,
          "ay": 0,
          "font": {
           "color": "black",
           "size": 16
          },
          "showarrow": false,
          "text": "<b>(c) Brazil",
          "x": 0.27,
          "xref": "paper",
          "y": 0.38,
          "yref": "paper"
         },
         {
          "align": "right",
          "ax": 0,
          "ay": 0,
          "font": {
           "color": "black",
           "size": 16
          },
          "showarrow": false,
          "text": "<b>(d) South-Africa",
          "x": 0.6,
          "xref": "paper",
          "y": 0.38,
          "yref": "paper"
         },
         {
          "align": "right",
          "ax": 0,
          "ay": 0,
          "font": {
           "color": "black",
           "size": 16
          },
          "showarrow": false,
          "text": "<b>(e) European Union",
          "x": 0.94,
          "xref": "paper",
          "y": 1.02,
          "yref": "paper"
         },
         {
          "align": "right",
          "ax": 0,
          "ay": 0,
          "font": {
           "color": "black",
           "size": 16
          },
          "showarrow": false,
          "text": "<b>(f) Russia",
          "x": 0.87,
          "xref": "paper",
          "y": 0.81,
          "yref": "paper"
         },
         {
          "align": "right",
          "ax": 0,
          "ay": 0,
          "font": {
           "color": "black",
           "size": 16
          },
          "showarrow": false,
          "text": "<b>(g) China",
          "x": 0.87,
          "xref": "paper",
          "y": 0.58,
          "yref": "paper"
         },
         {
          "align": "right",
          "ax": 0,
          "ay": 0,
          "font": {
           "color": "black",
           "size": 16
          },
          "showarrow": false,
          "text": "<b>(h) India",
          "x": 0.87,
          "xref": "paper",
          "y": 0.38,
          "yref": "paper"
         },
         {
          "align": "left",
          "ax": 0,
          "ay": 0,
          "font": {
           "color": "black",
           "size": 16
          },
          "showarrow": false,
          "text": "<b>(i) Policy costs over 2020-2100 in cost-optimal scenarios</b>",
          "x": 0.01,
          "xref": "paper",
          "y": 0.14,
          "yref": "paper"
         }
        ],
        "geo": {
         "domain": {
          "x": [
           0,
           0.7375
          ],
          "y": [
           0.43199999999999994,
           0.9999999999999999
          ]
         },
         "lakecolor": "rgb(255, 255, 255)",
         "oceancolor": "aliceblue",
         "projection": {
          "type": "natural earth"
         },
         "showcoastlines": false,
         "showlakes": false,
         "showocean": true,
         "visible": true
        },
        "height": 1100,
        "template": {
         "data": {
          "bar": [
           {
            "error_x": {
             "color": "rgb(36,36,36)"
            },
            "error_y": {
             "color": "rgb(36,36,36)"
            },
            "marker": {
             "line": {
              "color": "white",
              "width": 0.5
             },
             "pattern": {
              "fillmode": "overlay",
              "size": 10,
              "solidity": 0.2
             }
            },
            "type": "bar"
           }
          ],
          "barpolar": [
           {
            "marker": {
             "line": {
              "color": "white",
              "width": 0.5
             },
             "pattern": {
              "fillmode": "overlay",
              "size": 10,
              "solidity": 0.2
             }
            },
            "type": "barpolar"
           }
          ],
          "carpet": [
           {
            "aaxis": {
             "endlinecolor": "rgb(36,36,36)",
             "gridcolor": "white",
             "linecolor": "white",
             "minorgridcolor": "white",
             "startlinecolor": "rgb(36,36,36)"
            },
            "baxis": {
             "endlinecolor": "rgb(36,36,36)",
             "gridcolor": "white",
             "linecolor": "white",
             "minorgridcolor": "white",
             "startlinecolor": "rgb(36,36,36)"
            },
            "type": "carpet"
           }
          ],
          "choropleth": [
           {
            "colorbar": {
             "outlinewidth": 1,
             "tickcolor": "rgb(36,36,36)",
             "ticks": "outside"
            },
            "type": "choropleth"
           }
          ],
          "contour": [
           {
            "colorbar": {
             "outlinewidth": 1,
             "tickcolor": "rgb(36,36,36)",
             "ticks": "outside"
            },
            "colorscale": [
             [
              0,
              "#440154"
             ],
             [
              0.1111111111111111,
              "#482878"
             ],
             [
              0.2222222222222222,
              "#3e4989"
             ],
             [
              0.3333333333333333,
              "#31688e"
             ],
             [
              0.4444444444444444,
              "#26828e"
             ],
             [
              0.5555555555555556,
              "#1f9e89"
             ],
             [
              0.6666666666666666,
              "#35b779"
             ],
             [
              0.7777777777777778,
              "#6ece58"
             ],
             [
              0.8888888888888888,
              "#b5de2b"
             ],
             [
              1,
              "#fde725"
             ]
            ],
            "type": "contour"
           }
          ],
          "contourcarpet": [
           {
            "colorbar": {
             "outlinewidth": 1,
             "tickcolor": "rgb(36,36,36)",
             "ticks": "outside"
            },
            "type": "contourcarpet"
           }
          ],
          "heatmap": [
           {
            "colorbar": {
             "outlinewidth": 1,
             "tickcolor": "rgb(36,36,36)",
             "ticks": "outside"
            },
            "colorscale": [
             [
              0,
              "#440154"
             ],
             [
              0.1111111111111111,
              "#482878"
             ],
             [
              0.2222222222222222,
              "#3e4989"
             ],
             [
              0.3333333333333333,
              "#31688e"
             ],
             [
              0.4444444444444444,
              "#26828e"
             ],
             [
              0.5555555555555556,
              "#1f9e89"
             ],
             [
              0.6666666666666666,
              "#35b779"
             ],
             [
              0.7777777777777778,
              "#6ece58"
             ],
             [
              0.8888888888888888,
              "#b5de2b"
             ],
             [
              1,
              "#fde725"
             ]
            ],
            "type": "heatmap"
           }
          ],
          "heatmapgl": [
           {
            "colorbar": {
             "outlinewidth": 1,
             "tickcolor": "rgb(36,36,36)",
             "ticks": "outside"
            },
            "colorscale": [
             [
              0,
              "#440154"
             ],
             [
              0.1111111111111111,
              "#482878"
             ],
             [
              0.2222222222222222,
              "#3e4989"
             ],
             [
              0.3333333333333333,
              "#31688e"
             ],
             [
              0.4444444444444444,
              "#26828e"
             ],
             [
              0.5555555555555556,
              "#1f9e89"
             ],
             [
              0.6666666666666666,
              "#35b779"
             ],
             [
              0.7777777777777778,
              "#6ece58"
             ],
             [
              0.8888888888888888,
              "#b5de2b"
             ],
             [
              1,
              "#fde725"
             ]
            ],
            "type": "heatmapgl"
           }
          ],
          "histogram": [
           {
            "marker": {
             "line": {
              "color": "white",
              "width": 0.6
             }
            },
            "type": "histogram"
           }
          ],
          "histogram2d": [
           {
            "colorbar": {
             "outlinewidth": 1,
             "tickcolor": "rgb(36,36,36)",
             "ticks": "outside"
            },
            "colorscale": [
             [
              0,
              "#440154"
             ],
             [
              0.1111111111111111,
              "#482878"
             ],
             [
              0.2222222222222222,
              "#3e4989"
             ],
             [
              0.3333333333333333,
              "#31688e"
             ],
             [
              0.4444444444444444,
              "#26828e"
             ],
             [
              0.5555555555555556,
              "#1f9e89"
             ],
             [
              0.6666666666666666,
              "#35b779"
             ],
             [
              0.7777777777777778,
              "#6ece58"
             ],
             [
              0.8888888888888888,
              "#b5de2b"
             ],
             [
              1,
              "#fde725"
             ]
            ],
            "type": "histogram2d"
           }
          ],
          "histogram2dcontour": [
           {
            "colorbar": {
             "outlinewidth": 1,
             "tickcolor": "rgb(36,36,36)",
             "ticks": "outside"
            },
            "colorscale": [
             [
              0,
              "#440154"
             ],
             [
              0.1111111111111111,
              "#482878"
             ],
             [
              0.2222222222222222,
              "#3e4989"
             ],
             [
              0.3333333333333333,
              "#31688e"
             ],
             [
              0.4444444444444444,
              "#26828e"
             ],
             [
              0.5555555555555556,
              "#1f9e89"
             ],
             [
              0.6666666666666666,
              "#35b779"
             ],
             [
              0.7777777777777778,
              "#6ece58"
             ],
             [
              0.8888888888888888,
              "#b5de2b"
             ],
             [
              1,
              "#fde725"
             ]
            ],
            "type": "histogram2dcontour"
           }
          ],
          "mesh3d": [
           {
            "colorbar": {
             "outlinewidth": 1,
             "tickcolor": "rgb(36,36,36)",
             "ticks": "outside"
            },
            "type": "mesh3d"
           }
          ],
          "parcoords": [
           {
            "line": {
             "colorbar": {
              "outlinewidth": 1,
              "tickcolor": "rgb(36,36,36)",
              "ticks": "outside"
             }
            },
            "type": "parcoords"
           }
          ],
          "pie": [
           {
            "automargin": true,
            "type": "pie"
           }
          ],
          "scatter": [
           {
            "fillpattern": {
             "fillmode": "overlay",
             "size": 10,
             "solidity": 0.2
            },
            "type": "scatter"
           }
          ],
          "scatter3d": [
           {
            "line": {
             "colorbar": {
              "outlinewidth": 1,
              "tickcolor": "rgb(36,36,36)",
              "ticks": "outside"
             }
            },
            "marker": {
             "colorbar": {
              "outlinewidth": 1,
              "tickcolor": "rgb(36,36,36)",
              "ticks": "outside"
             }
            },
            "type": "scatter3d"
           }
          ],
          "scattercarpet": [
           {
            "marker": {
             "colorbar": {
              "outlinewidth": 1,
              "tickcolor": "rgb(36,36,36)",
              "ticks": "outside"
             }
            },
            "type": "scattercarpet"
           }
          ],
          "scattergeo": [
           {
            "marker": {
             "colorbar": {
              "outlinewidth": 1,
              "tickcolor": "rgb(36,36,36)",
              "ticks": "outside"
             }
            },
            "type": "scattergeo"
           }
          ],
          "scattergl": [
           {
            "marker": {
             "colorbar": {
              "outlinewidth": 1,
              "tickcolor": "rgb(36,36,36)",
              "ticks": "outside"
             }
            },
            "type": "scattergl"
           }
          ],
          "scattermapbox": [
           {
            "marker": {
             "colorbar": {
              "outlinewidth": 1,
              "tickcolor": "rgb(36,36,36)",
              "ticks": "outside"
             }
            },
            "type": "scattermapbox"
           }
          ],
          "scatterpolar": [
           {
            "marker": {
             "colorbar": {
              "outlinewidth": 1,
              "tickcolor": "rgb(36,36,36)",
              "ticks": "outside"
             }
            },
            "type": "scatterpolar"
           }
          ],
          "scatterpolargl": [
           {
            "marker": {
             "colorbar": {
              "outlinewidth": 1,
              "tickcolor": "rgb(36,36,36)",
              "ticks": "outside"
             }
            },
            "type": "scatterpolargl"
           }
          ],
          "scatterternary": [
           {
            "marker": {
             "colorbar": {
              "outlinewidth": 1,
              "tickcolor": "rgb(36,36,36)",
              "ticks": "outside"
             }
            },
            "type": "scatterternary"
           }
          ],
          "surface": [
           {
            "colorbar": {
             "outlinewidth": 1,
             "tickcolor": "rgb(36,36,36)",
             "ticks": "outside"
            },
            "colorscale": [
             [
              0,
              "#440154"
             ],
             [
              0.1111111111111111,
              "#482878"
             ],
             [
              0.2222222222222222,
              "#3e4989"
             ],
             [
              0.3333333333333333,
              "#31688e"
             ],
             [
              0.4444444444444444,
              "#26828e"
             ],
             [
              0.5555555555555556,
              "#1f9e89"
             ],
             [
              0.6666666666666666,
              "#35b779"
             ],
             [
              0.7777777777777778,
              "#6ece58"
             ],
             [
              0.8888888888888888,
              "#b5de2b"
             ],
             [
              1,
              "#fde725"
             ]
            ],
            "type": "surface"
           }
          ],
          "table": [
           {
            "cells": {
             "fill": {
              "color": "rgb(237,237,237)"
             },
             "line": {
              "color": "white"
             }
            },
            "header": {
             "fill": {
              "color": "rgb(217,217,217)"
             },
             "line": {
              "color": "white"
             }
            },
            "type": "table"
           }
          ]
         },
         "layout": {
          "annotationdefaults": {
           "arrowhead": 0,
           "arrowwidth": 1
          },
          "autotypenumbers": "strict",
          "coloraxis": {
           "colorbar": {
            "outlinewidth": 1,
            "tickcolor": "rgb(36,36,36)",
            "ticks": "outside"
           }
          },
          "colorscale": {
           "diverging": [
            [
             0,
             "rgb(103,0,31)"
            ],
            [
             0.1,
             "rgb(178,24,43)"
            ],
            [
             0.2,
             "rgb(214,96,77)"
            ],
            [
             0.3,
             "rgb(244,165,130)"
            ],
            [
             0.4,
             "rgb(253,219,199)"
            ],
            [
             0.5,
             "rgb(247,247,247)"
            ],
            [
             0.6,
             "rgb(209,229,240)"
            ],
            [
             0.7,
             "rgb(146,197,222)"
            ],
            [
             0.8,
             "rgb(67,147,195)"
            ],
            [
             0.9,
             "rgb(33,102,172)"
            ],
            [
             1,
             "rgb(5,48,97)"
            ]
           ],
           "sequential": [
            [
             0,
             "#440154"
            ],
            [
             0.1111111111111111,
             "#482878"
            ],
            [
             0.2222222222222222,
             "#3e4989"
            ],
            [
             0.3333333333333333,
             "#31688e"
            ],
            [
             0.4444444444444444,
             "#26828e"
            ],
            [
             0.5555555555555556,
             "#1f9e89"
            ],
            [
             0.6666666666666666,
             "#35b779"
            ],
            [
             0.7777777777777778,
             "#6ece58"
            ],
            [
             0.8888888888888888,
             "#b5de2b"
            ],
            [
             1,
             "#fde725"
            ]
           ],
           "sequentialminus": [
            [
             0,
             "#440154"
            ],
            [
             0.1111111111111111,
             "#482878"
            ],
            [
             0.2222222222222222,
             "#3e4989"
            ],
            [
             0.3333333333333333,
             "#31688e"
            ],
            [
             0.4444444444444444,
             "#26828e"
            ],
            [
             0.5555555555555556,
             "#1f9e89"
            ],
            [
             0.6666666666666666,
             "#35b779"
            ],
            [
             0.7777777777777778,
             "#6ece58"
            ],
            [
             0.8888888888888888,
             "#b5de2b"
            ],
            [
             1,
             "#fde725"
            ]
           ]
          },
          "colorway": [
           "#1F77B4",
           "#FF7F0E",
           "#2CA02C",
           "#D62728",
           "#9467BD",
           "#8C564B",
           "#E377C2",
           "#7F7F7F",
           "#BCBD22",
           "#17BECF"
          ],
          "font": {
           "color": "rgb(36,36,36)"
          },
          "geo": {
           "bgcolor": "white",
           "lakecolor": "white",
           "landcolor": "white",
           "showlakes": true,
           "showland": true,
           "subunitcolor": "white"
          },
          "hoverlabel": {
           "align": "left"
          },
          "hovermode": "closest",
          "mapbox": {
           "style": "light"
          },
          "paper_bgcolor": "white",
          "plot_bgcolor": "white",
          "polar": {
           "angularaxis": {
            "gridcolor": "rgb(232,232,232)",
            "linecolor": "rgb(36,36,36)",
            "showgrid": false,
            "showline": true,
            "ticks": "outside"
           },
           "bgcolor": "white",
           "radialaxis": {
            "gridcolor": "rgb(232,232,232)",
            "linecolor": "rgb(36,36,36)",
            "showgrid": false,
            "showline": true,
            "ticks": "outside"
           }
          },
          "scene": {
           "xaxis": {
            "backgroundcolor": "white",
            "gridcolor": "rgb(232,232,232)",
            "gridwidth": 2,
            "linecolor": "rgb(36,36,36)",
            "showbackground": true,
            "showgrid": false,
            "showline": true,
            "ticks": "outside",
            "zeroline": false,
            "zerolinecolor": "rgb(36,36,36)"
           },
           "yaxis": {
            "backgroundcolor": "white",
            "gridcolor": "rgb(232,232,232)",
            "gridwidth": 2,
            "linecolor": "rgb(36,36,36)",
            "showbackground": true,
            "showgrid": false,
            "showline": true,
            "ticks": "outside",
            "zeroline": false,
            "zerolinecolor": "rgb(36,36,36)"
           },
           "zaxis": {
            "backgroundcolor": "white",
            "gridcolor": "rgb(232,232,232)",
            "gridwidth": 2,
            "linecolor": "rgb(36,36,36)",
            "showbackground": true,
            "showgrid": false,
            "showline": true,
            "ticks": "outside",
            "zeroline": false,
            "zerolinecolor": "rgb(36,36,36)"
           }
          },
          "shapedefaults": {
           "fillcolor": "black",
           "line": {
            "width": 0
           },
           "opacity": 0.3
          },
          "ternary": {
           "aaxis": {
            "gridcolor": "rgb(232,232,232)",
            "linecolor": "rgb(36,36,36)",
            "showgrid": false,
            "showline": true,
            "ticks": "outside"
           },
           "baxis": {
            "gridcolor": "rgb(232,232,232)",
            "linecolor": "rgb(36,36,36)",
            "showgrid": false,
            "showline": true,
            "ticks": "outside"
           },
           "bgcolor": "white",
           "caxis": {
            "gridcolor": "rgb(232,232,232)",
            "linecolor": "rgb(36,36,36)",
            "showgrid": false,
            "showline": true,
            "ticks": "outside"
           }
          },
          "title": {
           "x": 0.05
          },
          "xaxis": {
           "automargin": true,
           "gridcolor": "rgb(232,232,232)",
           "linecolor": "rgb(36,36,36)",
           "showgrid": false,
           "showline": true,
           "ticks": "outside",
           "title": {
            "standoff": 15
           },
           "zeroline": false,
           "zerolinecolor": "rgb(36,36,36)"
          },
          "yaxis": {
           "automargin": true,
           "gridcolor": "rgb(232,232,232)",
           "linecolor": "rgb(36,36,36)",
           "showgrid": false,
           "showline": true,
           "ticks": "outside",
           "title": {
            "standoff": 15
           },
           "zeroline": false,
           "zerolinecolor": "rgb(36,36,36)"
          }
         }
        },
        "width": 1400,
        "xaxis": {
         "anchor": "y",
         "domain": [
          0.2625,
          0.475
         ],
         "zeroline": true,
         "zerolinecolor": "Black",
         "zerolinewidth": 2
        },
        "xaxis10": {
         "anchor": "y10",
         "domain": [
          0.525,
          0.7375
         ],
         "zeroline": true,
         "zerolinecolor": "Black",
         "zerolinewidth": 2
        },
        "xaxis11": {
         "anchor": "y11",
         "domain": [
          0.7875,
          1
         ],
         "zeroline": true,
         "zerolinecolor": "Black",
         "zerolinewidth": 2
        },
        "xaxis12": {
         "anchor": "y12",
         "domain": [
          0,
          0.2125
         ],
         "zeroline": true,
         "zerolinecolor": "Black",
         "zerolinewidth": 2
        },
        "xaxis13": {
         "anchor": "y13",
         "domain": [
          0.2625,
          0.475
         ],
         "zeroline": true,
         "zerolinecolor": "Black",
         "zerolinewidth": 2
        },
        "xaxis14": {
         "anchor": "y14",
         "domain": [
          0.525,
          0.7375
         ],
         "zeroline": true,
         "zerolinecolor": "Black",
         "zerolinewidth": 2
        },
        "xaxis15": {
         "anchor": "y15",
         "domain": [
          0.7875,
          1
         ],
         "zeroline": true,
         "zerolinecolor": "Black",
         "zerolinewidth": 2
        },
        "xaxis16": {
         "anchor": "y16",
         "domain": [
          0,
          1
         ],
         "zeroline": true,
         "zerolinecolor": "Black",
         "zerolinewidth": 2
        },
        "xaxis17": {
         "anchor": "y17",
         "domain": [
          0.2625,
          0.475
         ],
         "zeroline": true,
         "zerolinecolor": "Black",
         "zerolinewidth": 2
        },
        "xaxis18": {
         "anchor": "y18",
         "domain": [
          0.525,
          0.7375
         ],
         "zeroline": true,
         "zerolinecolor": "Black",
         "zerolinewidth": 2
        },
        "xaxis19": {
         "anchor": "y19",
         "domain": [
          0.7875,
          1
         ],
         "zeroline": true,
         "zerolinecolor": "Black",
         "zerolinewidth": 2
        },
        "xaxis2": {
         "anchor": "y2",
         "domain": [
          0.525,
          0.7375
         ],
         "zeroline": true,
         "zerolinecolor": "Black",
         "zerolinewidth": 2
        },
        "xaxis3": {
         "anchor": "y3",
         "domain": [
          0.7875,
          1
         ],
         "zeroline": true,
         "zerolinecolor": "Black",
         "zerolinewidth": 2
        },
        "xaxis4": {
         "anchor": "y4",
         "domain": [
          0,
          0.2125
         ],
         "zeroline": true,
         "zerolinecolor": "Black",
         "zerolinewidth": 2
        },
        "xaxis5": {
         "anchor": "y5",
         "domain": [
          0.2625,
          0.475
         ],
         "zeroline": true,
         "zerolinecolor": "Black",
         "zerolinewidth": 2
        },
        "xaxis6": {
         "anchor": "y6",
         "domain": [
          0.525,
          0.7375
         ],
         "zeroline": true,
         "zerolinecolor": "Black",
         "zerolinewidth": 2
        },
        "xaxis7": {
         "anchor": "y7",
         "domain": [
          0.7875,
          1
         ],
         "zeroline": true,
         "zerolinecolor": "Black",
         "zerolinewidth": 2
        },
        "xaxis8": {
         "anchor": "y8",
         "domain": [
          0,
          0.2125
         ],
         "zeroline": true,
         "zerolinecolor": "Black",
         "zerolinewidth": 2
        },
        "xaxis9": {
         "anchor": "y9",
         "domain": [
          0.2625,
          0.475
         ],
         "zeroline": true,
         "zerolinecolor": "Black",
         "zerolinewidth": 2
        },
        "yaxis": {
         "anchor": "x",
         "domain": [
          0.8639999999999999,
          0.9999999999999999
         ],
         "rangemode": "tozero"
        },
        "yaxis10": {
         "anchor": "x10",
         "domain": [
          0.43199999999999994,
          0.568
         ],
         "rangemode": "tozero"
        },
        "yaxis11": {
         "anchor": "x11",
         "domain": [
          0.43199999999999994,
          0.568
         ],
         "rangemode": "tozero"
        },
        "yaxis12": {
         "anchor": "x12",
         "domain": [
          0.21599999999999997,
          0.352
         ],
         "rangemode": "tozero",
         "title": {
          "text": "Full-century CO2 emission<br>budget [Gt CO2]"
         }
        },
        "yaxis13": {
         "anchor": "x13",
         "domain": [
          0.21599999999999997,
          0.352
         ],
         "rangemode": "tozero"
        },
        "yaxis14": {
         "anchor": "x14",
         "domain": [
          0.21599999999999997,
          0.352
         ],
         "rangemode": "tozero"
        },
        "yaxis15": {
         "anchor": "x15",
         "domain": [
          0.21599999999999997,
          0.352
         ],
         "rangemode": "tozero"
        },
        "yaxis16": {
         "anchor": "x16",
         "domain": [
          0,
          0.13599999999999998
         ],
         "rangemode": "tozero",
         "title": {
          "text": "Cumulative consumption<br>loss as fraction<br>of GDP in 2019"
         }
        },
        "yaxis17": {
         "anchor": "x17",
         "domain": [
          0,
          0.13599999999999998
         ],
         "rangemode": "tozero"
        },
        "yaxis18": {
         "anchor": "x18",
         "domain": [
          0,
          0.13599999999999998
         ],
         "rangemode": "tozero"
        },
        "yaxis19": {
         "anchor": "x19",
         "domain": [
          0,
          0.13599999999999998
         ],
         "rangemode": "tozero"
        },
        "yaxis2": {
         "anchor": "x2",
         "domain": [
          0.8639999999999999,
          0.9999999999999999
         ],
         "rangemode": "tozero"
        },
        "yaxis3": {
         "anchor": "x3",
         "domain": [
          0.8639999999999999,
          0.9999999999999999
         ],
         "rangemode": "tozero"
        },
        "yaxis4": {
         "anchor": "x4",
         "domain": [
          0.6479999999999999,
          0.7839999999999999
         ],
         "rangemode": "tozero"
        },
        "yaxis5": {
         "anchor": "x5",
         "domain": [
          0.6479999999999999,
          0.7839999999999999
         ],
         "rangemode": "tozero"
        },
        "yaxis6": {
         "anchor": "x6",
         "domain": [
          0.6479999999999999,
          0.7839999999999999
         ],
         "rangemode": "tozero"
        },
        "yaxis7": {
         "anchor": "x7",
         "domain": [
          0.6479999999999999,
          0.7839999999999999
         ],
         "rangemode": "tozero"
        },
        "yaxis8": {
         "anchor": "x8",
         "domain": [
          0.43199999999999994,
          0.568
         ],
         "rangemode": "tozero"
        },
        "yaxis9": {
         "anchor": "x9",
         "domain": [
          0.43199999999999994,
          0.568
         ],
         "rangemode": "tozero"
        }
       }
      }
     },
     "metadata": {},
     "output_type": "display_data"
    }
   ],
   "source": [
    "fig = make_subplots(rows=5, cols=4, \n",
    "                    specs=[[{'type': 'choropleth', 'colspan': 3, 'rowspan': 3}, {}, {}, {}],\n",
    "                           [{}, {}, {}, {}],\n",
    "                           [{}, {}, {}, {}],\n",
    "                           [{}, {}, {}, {}],\n",
    "                           [{'colspan': 4}, {}, {}, {}]],\n",
    "                    horizontal_spacing = 0.05, vertical_spacing=0.08)\n",
    "\n",
    "fig.add_trace(\n",
    "    go.Choropleth(\n",
    "    locations=regs,\n",
    "    z = data,\n",
    "    locationmode = 'ISO-3',\n",
    "    colorscale = colmap,\n",
    "    zmax = 1,\n",
    "    zmin = 0,\n",
    "    text = [str(r)+\": \"+str(int(data[r_i]*6))+\" out of 6\" for r_i, r in enumerate(regs)],\n",
    "    hovertemplate  = '%{text}',\n",
    "    name=\"\",\n",
    "    marker_line_color='black', \n",
    "    marker_line_width=1.,\n",
    "    colorbar=dict(len=0.43, x=0.37, y=0.45, orientation='h',\n",
    "                  tickvals = np.arange(0, 1.1, 1/6),\n",
    "                  thickness=15,\n",
    "                  tickfont={'size': 10},\n",
    "                  ticktext=['None<br>(Mitigation financed<br>by others)', '1 out of 6', '2 out of 6', '3 out of 6', '4 out of 6', '5 out of 6', 'All<br>(Finances mitigation<br>abroad)'],\n",
    "                  ticklabelposition='outside',\n",
    "    ),\n",
    "    showscale=True\n",
    "), 1, 1)\n",
    "fig.add_trace(\n",
    "    go.Choropleth(\n",
    "    locations=group_eu,\n",
    "    z = [data[np.where(regs == \"EU\")[0][0]]]*len(group_eu),\n",
    "    locationmode = 'ISO-3',\n",
    "    colorscale = colmap,\n",
    "    zmax = 1,\n",
    "    zmin = 0,\n",
    "    text = [\"EU: \"+str(int(6*data.sel(Region='EU')))+\" out of 6\"for r_i, r in enumerate(group_eu)],\n",
    "    hovertemplate  = '%{text}',\n",
    "    name=\"\",\n",
    "    marker_line_color='black', \n",
    "    marker_line_width=1.,\n",
    "    showscale=False\n",
    "), 1, 1)\n",
    "fig.update_geos(showocean=True, oceancolor=\"aliceblue\")\n",
    "fig.update_geos(showlakes=True, lakecolor=\"aliceblue\")\n",
    "\n",
    "# limite map scope to USA 'africa', 'asia', 'europe', 'north america', 'south america', 'usa', 'world'\n",
    "fig.update_geos(visible=True,\n",
    "                showlakes=False,\n",
    "                lakecolor='rgb(255, 255, 255)',\n",
    "                projection_type='natural earth',\n",
    "                showcoastlines=False,)\n",
    "\n",
    "values = ['CP', 'NDC', 'NZ', 'CO2_costopt', 'GF', 'PC', 'PCC', 'AP', 'GDR', 'ECPC']\n",
    "for cty_i, cty in enumerate([\"USA\", \"BRA\", \"ZAF\", \"EU\", \"RUS\", \"CHN\", \"IND\"]):\n",
    "    row = [4, 4, 4, 1, 2, 3, 4][cty_i]\n",
    "    col = [1, 2, 3, 4, 4, 4, 4][cty_i]\n",
    "    values_co_emis = xr_scen_all.sel(Region=cty, Time=np.arange(params['start_year_analysis'], 2101), Variable='Emissions|CO2|Energy and Industrial Processes').Value.sum(dim='Time', skipna=False)\n",
    "    fig.add_trace(go.Scatter(x=['CP', 'NDC', 'NZ', 'CO', 'GF', 'PC', 'PCC', 'AP', 'GDR', 'ECPC'], y=[values_co_emis.median() for val in values], name='', showlegend=False, hoverinfo='skip', mode='lines', line={'color': 'black', 'width': 0}), col=col, row=row)\n",
    "    fig.add_trace(go.Scatter(x=['CO', 'GF', 'PC', 'PCC', 'AP', 'GDR', 'ECPC'], y=[values_co_emis.median() for val in values], name='', showlegend=False, hoverinfo='skip', mode='lines', line={'color': 'black', 'width': 1}), col=col, row=row)\n",
    "    fig.add_trace(go.Scatter(x=['GF', 'PC', 'PCC', 'AP', 'GDR', 'ECPC'], y=[values_co_emis.quantile(0.25) for val in values], fill=None, name='', showlegend=False, hoverinfo='skip', mode='lines', line={'color': 'silver', 'width': 0}), col=col, row=row)\n",
    "    fig.add_trace(go.Scatter(x=['GF', 'PC', 'PCC', 'AP', 'GDR', 'ECPC'], y=[values_co_emis.quantile(0.75) for val in values], fill='tonexty', name='', showlegend=False, hoverinfo='skip', mode='lines', line={'color': 'silver', 'width': 0}), col=col, row=row)\n",
    "    fig.add_trace(go.Box(y=vals,\n",
    "                        name=\"CO\",\n",
    "                        #text=[cty+\": \"+str(np.round(vals[i],1))+\"<br>\"+modscens[i] for i in range(len(vals))],\n",
    "                        fillcolor=plotly.colors.diverging.Earth_r[int(data[regs == cty][0]*6)],\n",
    "                        line_color='black', marker=dict(color='grey'),#plotly.colors.diverging.Earth_r[int(fractions[regs == cty][0]*7)]),\n",
    "                        boxpoints='all', jitter=0.5, pointpos=-1.8, whiskerwidth=0.4, marker_size=3, line_width=1.5, showlegend=False, hovertemplate='%{text}'),\n",
    "                        row=row, col=col)\n",
    "\n",
    "    # Engage results\n",
    "    for eng_i, eng in enumerate(['CurPol', 'NDC', 'NetZero']):\n",
    "        values_eng = xr_total.sel(Time=np.arange(params['start_year_analysis'], 2101), Region=cty).sum(dim='Time')[eng]\n",
    "        fig.add_trace(go.Box(y=values_eng,\n",
    "                        name=[\"CP\", \"NDC\", \"NZ\"][eng_i],\n",
    "                        fillcolor=plotly.colors.diverging.Earth_r[int(data[regs == cty][0]*6)],\n",
    "                        line_color='black', marker=dict(color='grey'),\n",
    "                        boxpoints='all', jitter=0.5, pointpos=0, whiskerwidth=0.4, marker_size=0.1, line_width=1.5, showlegend=False, hovertemplate='%{text}'),\n",
    "                        row=row, col=col)\n",
    "\n",
    "    # Full cost optimal emissions (AR6 C1-C2)\n",
    "    fig.add_trace(go.Box(y=values_co_emis,\n",
    "                    name=\"CO\",\n",
    "                    fillcolor=plotly.colors.diverging.Earth_r[int(data[regs == cty][0]*6)],\n",
    "                    line_color='black', marker=dict(color='grey'),\n",
    "                    boxpoints='all', jitter=0., pointpos=0, whiskerwidth=0.4, marker_size=0.1, line_width=1.5, showlegend=False, hovertemplate='%{text}'),\n",
    "                    row=row, col=col)\n",
    "\n",
    "    # Effort sharing\n",
    "    for alloc_i, alloc in enumerate(['GF', 'PC', 'PCC', 'AP', 'GDR', 'ECPC']):\n",
    "        ally = xr_total.sel(Time=np.arange(params['start_year_analysis'], 2101), Region=cty, Temperature='1.5 deg', **standard_settings, Scenario='SSP2').sum(dim='Time')[alloc]\n",
    "        if ally < values_co_emis.quantile(0.25):\n",
    "            colr = 'tomato'\n",
    "            marker = 'triangle-down'\n",
    "            textpos = 'middle left'\n",
    "            txt = '-<b>$'\n",
    "            size = 13\n",
    "        elif ally > values_co_emis.quantile(0.75):\n",
    "            colr = 'forestgreen'\n",
    "            marker = 'triangle-up'\n",
    "            textpos = 'middle left'\n",
    "            txt = '+<b>$'\n",
    "            size = 13\n",
    "        else:\n",
    "            colr = 'grey'\n",
    "            marker = 'square'\n",
    "            textpos = 'middle left'\n",
    "            txt = '~<b>$'\n",
    "            size = 10\n",
    "        fig.add_trace(go.Scatter(x=[alloc, alloc], y=[values_co_emis.median(), ally], mode='lines', line={'width': 2, 'color': colr, 'dash': 'dot'}, showlegend=False), row=row, col=col)\n",
    "        fig.add_trace(go.Scatter(x=[alloc], y=[ally], text=txt, textfont={'color': colr}, mode='markers+text', marker={'symbol':marker, \"color\": colr, \"size\": size, \"line\": {\"width\": 1.5, \"color\": 'black'}},\n",
    "                                 showlegend=False, textposition=textpos),\n",
    "                      row=row, col=col)\n",
    "\n",
    "y1 = xr_scen_all.sel(Time=np.arange(params['start_year_analysis'], 2101), Variable='Policy Cost|Consumption Loss').Value.sum(dim='Time', skipna=False)\n",
    "gdp1 = xr_total.sel(Time=params['start_year_analysis'], Scenario='SSP2').GDP\n",
    "ar = np.array((y1/gdp1).Region[np.array((y1/gdp1).median(dim='ModelScenario').argsort())])\n",
    "ar = ar[ar!='WORLD']\n",
    "for reg_i, reg in enumerate(ar):\n",
    "    y = xr_scen_all.sel(Region=reg, Time=np.arange(params['start_year_analysis'], 2101), Variable='Policy Cost|Consumption Loss').Value.sum(dim='Time', skipna=False)\n",
    "    gdp = xr_total.sel(Region=reg, Time=params['start_year_analysis'], Scenario='SSP2').GDP\n",
    "    try:\n",
    "        col = plotly.colors.diverging.Earth_r[int(data[regs == reg][0]*6)]\n",
    "    except:\n",
    "        col = 'silver'\n",
    "    if np.nansum(y) != 0:\n",
    "        fig.add_trace(go.Box(name=reg, y=y/gdp,\n",
    "                            line_color='black',\n",
    "                            marker=dict(color=col),\n",
    "                            fillcolor=col,\n",
    "                            boxpoints='all', jitter=0.5, pointpos=-1.8, whiskerwidth=0.4, marker_size=3, line_width=1,\n",
    "                            showlegend=False), row=5, col=1)\n",
    "\n",
    "# Panel labels\n",
    "fig.add_annotation(xref='paper', yref='paper',ax=0, align='left', ay=-0, showarrow=False, font=dict(color='black', size=18),\n",
    "                   y=1.04, x=0.20, text=\"<b>(a) Fair-share allocations less than cost-optimal</b><br>          (in number of effort-sharing approaches)\")\n",
    "fig.add_annotation(xref='paper', yref='paper',ax=0, align='right', ay=-0, showarrow=False, font=dict(color='black', size=16), y=0.38, x=0.01, text=\"<b>(b) United States of America\")\n",
    "fig.add_annotation(xref='paper', yref='paper',ax=0, align='right', ay=-0, showarrow=False, font=dict(color='black', size=16), y=0.38, x=0.27, text=\"<b>(c) Brazil\")\n",
    "fig.add_annotation(xref='paper', yref='paper',ax=0, align='right', ay=-0, showarrow=False, font=dict(color='black', size=16), y=0.38, x=0.60, text=\"<b>(d) South-Africa\")\n",
    "fig.add_annotation(xref='paper', yref='paper',ax=0, align='right', ay=-0, showarrow=False, font=dict(color='black', size=16), y=1.02, x=0.94, text=\"<b>(e) European Union\")\n",
    "fig.add_annotation(xref='paper', yref='paper',ax=0, align='right', ay=-0, showarrow=False, font=dict(color='black', size=16), y=0.81, x=0.87, text=\"<b>(f) Russia\")\n",
    "fig.add_annotation(xref='paper', yref='paper',ax=0, align='right', ay=-0, showarrow=False, font=dict(color='black', size=16), y=0.58, x=0.87, text=\"<b>(g) China\")\n",
    "fig.add_annotation(xref='paper', yref='paper',ax=0, align='right', ay=-0, showarrow=False, font=dict(color='black', size=16), y=0.38, x=0.87, text=\"<b>(h) India\")\n",
    "fig.add_annotation(xref='paper', yref='paper',ax=0, align='left', ay=-0, showarrow=False, font=dict(color='black', size=16), y=0.14, x=0.01, text=\"<b>(i) Policy costs over 2020-2100 in cost-optimal scenarios</b>\")\n",
    "\n",
    "# ADD LINES TO PATHS\n",
    "fig.update_yaxes(title_text=\"Full-century CO2 emission<br>budget [Gt CO2]\", row=4, col=1)\n",
    "fig.update_yaxes(title_text=\"Cumulative consumption<br>loss as fraction<br>of GDP in 2019\", row=5, col=1)\n",
    "\n",
    "fig.update_yaxes(rangemode=\"tozero\")\n",
    "fig.update_xaxes(zeroline=True, zerolinewidth=2, zerolinecolor='Black')\n",
    "fig.update_layout(height=1100,\n",
    "                  width=1400,\n",
    "                  template='simple_white')\n",
    "fig.show()"
   ]
  },
  {
   "cell_type": "code",
   "execution_count": 132,
   "metadata": {},
   "outputs": [],
   "source": [
    "fig.write_image(path_figs / \"Figure_3.png\", scale=3)"
   ]
  }
 ],
 "metadata": {
  "kernelspec": {
   "display_name": "MyEnv",
   "language": "python",
   "name": "python3"
  },
  "language_info": {
   "codemirror_mode": {
    "name": "ipython",
    "version": 3
   },
   "file_extension": ".py",
   "mimetype": "text/x-python",
   "name": "python",
   "nbconvert_exporter": "python",
   "pygments_lexer": "ipython3",
   "version": "3.9.16"
  },
  "orig_nbformat": 4,
  "vscode": {
   "interpreter": {
    "hash": "36d5d389870ab01fa625d0d5123f82469a3683fa0e02c4f7e9e76e9a75345aa3"
   }
  }
 },
 "nbformat": 4,
 "nbformat_minor": 2
}
