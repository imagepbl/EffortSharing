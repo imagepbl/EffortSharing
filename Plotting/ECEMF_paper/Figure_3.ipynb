{
 "cells": [
  {
   "cell_type": "markdown",
   "metadata": {},
   "source": [
    "## Preambule"
   ]
  },
  {
   "cell_type": "code",
   "execution_count": 2,
   "metadata": {},
   "outputs": [],
   "source": [
    "import numpy as np\n",
    "from tqdm import tqdm\n",
    "from importlib import reload\n",
    "import xarray as xr\n",
    "import pandas as pd\n",
    "import scipy\n",
    "from scipy.optimize import curve_fit\n",
    "from scipy.signal import savgol_filter\n",
    "import warnings\n",
    "warnings.simplefilter(action='ignore', category=FutureWarning)\n",
    "\n",
    "# Sobol analysis\n",
    "from SALib.sample import saltelli\n",
    "from SALib.analyze import sobol\n",
    "from SALib.test_functions import Ishigami\n",
    "\n",
    "# Plotting\n",
    "import matplotlib.pyplot as plt\n",
    "import plotly.express as px\n",
    "import plotly.graph_objects as go\n",
    "from plotly.subplots import make_subplots\n",
    "from plotly.colors import n_colors"
   ]
  },
  {
   "cell_type": "markdown",
   "metadata": {},
   "source": [
    "## Read stuff"
   ]
  },
  {
   "cell_type": "code",
   "execution_count": 3,
   "metadata": {},
   "outputs": [],
   "source": [
    "path_data = \"K:/Data/Data_EffortSharing/DataUpdate_ongoing/\""
   ]
  },
  {
   "cell_type": "code",
   "execution_count": 4,
   "metadata": {},
   "outputs": [],
   "source": [
    "xr_dataread = xr.open_dataset(path_data + \"xr_dataread.nc\")\n",
    "xr_sobol = xr.open_dataset(path_data + \"xr_sobol.nc\").sel(Time = np.arange(2030, 2101, 5))\n",
    "all_countries_iso = np.load(path_data + \"all_countries.npy\", allow_pickle=True)\n",
    "all_countries_name = np.load(path_data + \"all_countries_names.npy\", allow_pickle=True)\n",
    "all_regions_iso = np.load(path_data + \"all_regions.npy\", allow_pickle=True)"
   ]
  },
  {
   "cell_type": "markdown",
   "metadata": {},
   "source": [
    "## Process stuff"
   ]
  },
  {
   "cell_type": "code",
   "execution_count": 5,
   "metadata": {},
   "outputs": [],
   "source": [
    "dim_unc_globe = ['Temperature', 'Timing', 'NegEmis', 'NonCO2red']\n",
    "dim_unc_fairness = ['variable', 'Convergence_year', 'Historical_startyear', 'Discount_factor'] \n",
    "dim_unc_choices = ['Scenario', 'Risk']\n",
    "\n",
    "vals = np.zeros(shape=(3, len(xr_sobol.Time), len(all_countries_iso)))\n",
    "for dim_i, dim in enumerate([dim_unc_globe, dim_unc_fairness, dim_unc_choices]):\n",
    "    vals[dim_i] = np.array(xr_sobol.sel(Factor = dim, Region=all_countries_iso).sum(dim='Factor').to_array())[0]"
   ]
  },
  {
   "cell_type": "code",
   "execution_count": 6,
   "metadata": {},
   "outputs": [
    {
     "name": "stdout",
     "output_type": "stream",
     "text": [
      "variable 0.28562134016709306\n",
      "Convergence_year 0.008991519621776838\n",
      "NegEmis 0.0012577276761733865\n",
      "NonCO2red 0.08810328589972026\n",
      "Temperature 0.4111102665563497\n",
      "Risk 0.06808415819894914\n",
      "Timing 0.0005129142581692115\n",
      "Scenario 0.007527318756105799\n",
      "Discount_factor 0.07856951646719587\n",
      "Historical_startyear 0.05022195239846675\n"
     ]
    }
   ],
   "source": [
    "for factor in np.array(xr_sobol.Factor):\n",
    "    print(factor, float(xr_sobol.sel(Time=2040, Region='USA', Factor=factor).Sobol_index))\n",
    "\n",
    "factors = ['variable', 'Discount_factor', 'Historical_startyear', 'Convergence_year',\n",
    "           'Risk', 'Scenario',\n",
    "           'Temperature', 'NonCO2red',  'Timing', 'NegEmis']\n",
    "factor_names = ['Allocation rule', 'Discount factor', 'Historical startyear', 'Convergence year', \n",
    "                 'Climate sensitivity','Socio-economic scenario', \n",
    "                'Peak temperature', 'Non-CO<sub>2</sub> reduction',  'Timing of action', 'Negative emissions']\n",
    "factor_colors = ['goldenrod', 'salmon', 'tomato', 'darkred', \n",
    "                  'dodgerblue', 'steelblue', 'forestgreen',\n",
    "                 'lightgreen', 'yellowgreen', 'lawngreen']"
   ]
  },
  {
   "cell_type": "code",
   "execution_count": 7,
   "metadata": {},
   "outputs": [],
   "source": [
    "mins = np.nanmin(vals, axis=2)\n",
    "maxs = np.nanmin(vals, axis=2)\n",
    "mins = (np.array(mins)*100).round(0).astype(int).astype(str)\n",
    "maxs = (np.array(maxs)*100).round(0).astype(int).astype(str)"
   ]
  },
  {
   "cell_type": "code",
   "execution_count": 8,
   "metadata": {},
   "outputs": [],
   "source": [
    "df_regions = pd.read_csv(\"X:/user/dekkerm/Data/AllCountries.csv\")\n",
    "continents = []\n",
    "bubblecolors = []\n",
    "texts = []\n",
    "cmap = plt.cm.PuRd\n",
    "for cty_i, cty in enumerate(all_countries_iso):\n",
    "    if cty == 'USA':\n",
    "        col = cmap(0.6)\n",
    "        #bubblecolors.append('rgba({},{},{}, {})'.format(int(col[0]*255), int(col[1]*255), int(col[2]*255), 1))\n",
    "        bubblecolors.append('navy')\n",
    "        texts.append(cty)\n",
    "    elif cty == 'IND':\n",
    "        col = cmap(0.7)\n",
    "        #bubblecolors.append('rgba({},{},{}, {})'.format(int(col[0]*255), int(col[1]*255), int(col[2]*255), 1))\n",
    "        bubblecolors.append('orange')\n",
    "        texts.append(cty)\n",
    "    elif cty == 'BRA':\n",
    "        col = cmap(0.8)\n",
    "        #bubblecolors.append('rgba({},{},{}, {})'.format(int(col[0]*255), int(col[1]*255), int(col[2]*255), 1))\n",
    "        bubblecolors.append('green')\n",
    "        texts.append(cty)\n",
    "    elif cty == 'CHN':\n",
    "        col = cmap(0.9)\n",
    "        #bubblecolors.append('rgba({},{},{}, {})'.format(int(col[0]*255), int(col[1]*255), int(col[2]*255), 1))\n",
    "        bubblecolors.append('red')\n",
    "        texts.append(cty)\n",
    "    elif cty == 'UGA':\n",
    "        col = cmap(0.99)\n",
    "        #bubblecolors.append('rgba({},{},{}, {})'.format(int(col[0]*255), int(col[1]*255), int(col[2]*255), 1))\n",
    "        bubblecolors.append('purple')\n",
    "        texts.append(cty)\n",
    "    else:\n",
    "        bubblecolors.append('silver')\n",
    "        texts.append('')\n",
    "continents = np.array(continents)\n",
    "bubblecolors = np.array(bubblecolors)\n",
    "texts = np.array(texts)\n",
    "\n",
    "pops = np.array(xr_dataread.Population.sel(Region=all_countries_iso, Time=2020, Scenario='SSP2'))\n",
    "pops[np.isnan(pops)] = 1\n",
    "pops_n = pops/np.nanmax(pops)"
   ]
  },
  {
   "cell_type": "code",
   "execution_count": 9,
   "metadata": {},
   "outputs": [],
   "source": [
    "def clean_data(data_in):\n",
    "    \"\"\"\n",
    "    Cleans data in a format which can be conveniently\n",
    "    used for drawing traces. Takes a dictionary as the\n",
    "    input, and returns a list in the following format:\n",
    "\n",
    "    input = {'key': ['a b c']}\n",
    "    output = [key, [a, b, c]]\n",
    "    \"\"\"\n",
    "    key = list(data_in.keys())[0]\n",
    "    data_out = [key]\n",
    "    for i in data_in[key]:\n",
    "        data_out.append(list(map(float, i.split(' '))))\n",
    "\n",
    "    return data_out\n",
    "conts = []\n",
    "for i in np.arange(35, 51, 5):\n",
    "    conts.append({str(i): [str(i) +' '+str(i)+' '+str(100-2*i),\n",
    "                  str(i) +' '+str(100-2*i)+' '+str(i),\n",
    "                  str(100-2*i) +' '+str(i)+' '+str(i)]})\n",
    "for i in np.arange(55, 101, 5):\n",
    "    i0 = str(i)\n",
    "    i1 = str(100-i)\n",
    "    conts.append({str(i): [i0+' '+i1+' 0',\n",
    "                            i0+' 0 '+i1,\n",
    "                            i1+' 0 '+i0,\n",
    "                            '0 '+i1+' '+i0,\n",
    "                            '0 '+i0+' '+i1,\n",
    "                            i1+' '+i0+' 0',\n",
    "                            i0+' '+i1+' 0']})\n",
    "conts2 = []\n",
    "for i in np.arange(35, 51, 5):\n",
    "    conts2.append({str(i): [str(i) +' '+str(i)+' '+str(100-2*i),\n",
    "                  str(i) +' '+str(100-2*i)+' '+str(i),\n",
    "                  str(100-2*i) +' '+str(i)+' '+str(i)]})\n",
    "for x in np.arange(55, 101, 5):\n",
    "    conts2.append({str(i): [str(x)+' '+'0'+' '+str(100-x),\n",
    "                               str(x-5)+' '+'0'+' '+str(100-(x-5)),\n",
    "                               str(x-5)+' '+str(100-(x-5))+' '+'0',\n",
    "                               str(x)+' '+str(100-x)+' '+'0',\n",
    "                               str(x)+' '+'0'+' '+str(100-x)\n",
    "                                ]})\n",
    "    conts2.append({str(i): ['0'+' '+str(100-x)+' '+str(x),\n",
    "                               '0'+' '+str(100-(x-5))+' '+str(x-5),\n",
    "                               str(100-(x-5))+' '+'0'+' '+str(x-5),\n",
    "                               str(100-x)+' '+'0'+' '+str(x),\n",
    "                               '0'+' '+str(100-x)+' '+str(x)\n",
    "                                ]})\n",
    "    conts2.append({str(i): [str(100-x)+' '+str(x)+' '+'0',\n",
    "                               str(100-(x-5))+' '+str(x-5)+' '+'0',\n",
    "                               '0'+' '+str(x-5)+' '+str(100-(x-5)),\n",
    "                               '0'+' '+str(x)+' '+str(100-x),\n",
    "                               str(100-x)+' '+str(x)+' '+'0'\n",
    "                                ]})\n",
    "bar = px.colors.sequential.Greys # px.colors.diverging.RdBu_r\n",
    "#bar = bar[2:-2]\n",
    "#bar = bar[int(len(bar)/2)-2:]\n",
    "colors = []\n",
    "for i in range(len(bar)-1):\n",
    "    colors = colors+n_colors(bar[i], bar[i+1], int(200/len(bar)), colortype='rgb')\n",
    "colors = colors+n_colors(bar[i+1], bar[i+1], int(200/len(bar)), colortype='rgb')\n",
    "conttraces = []\n",
    "n = 0\n",
    "for raw_data in conts2:\n",
    "    data = clean_data(raw_data)\n",
    "\n",
    "    a = [inner_data[0] for inner_data in data[1:]]\n",
    "    a.append(data[1][0]) # Closing the loop\n",
    "\n",
    "    b = [inner_data[1] for inner_data in data[1:]]\n",
    "    b.append(data[1][1]) # Closing the loop\n",
    "\n",
    "    c = [inner_data[2] for inner_data in data[1:]]\n",
    "    c.append(data[1][2]) # Closing the loop\n",
    "\n",
    "    conttraces.append(go.Scatterternary(\n",
    "        text = data[0],\n",
    "        a=a, b=b, c=c, mode='lines',\n",
    "        line=dict(color='black', width=0),\n",
    "        fill='toself',showlegend=False, hoverinfo='skip', opacity=0.1, \n",
    "        fillcolor = colors[int(200/len(conts2)*n)]#colors_iterator.__next__()\n",
    "    ))\n",
    "    n+=1\n",
    "conttraces = conttraces[::-1]"
   ]
  },
  {
   "cell_type": "markdown",
   "metadata": {},
   "source": [
    "## Plot"
   ]
  },
  {
   "cell_type": "code",
   "execution_count": 10,
   "metadata": {},
   "outputs": [],
   "source": [
    "val_i = xr_sobol.sel(Region='USA', Factor='variable').Sobol_index"
   ]
  },
  {
   "cell_type": "code",
   "execution_count": 11,
   "metadata": {},
   "outputs": [],
   "source": [
    "def draw_line(fig, name, x1, x2, y1, y2, color):\n",
    "    fig.add_shape(type=\"line\", xref='paper', yref='paper',\n",
    "                  x0=x1,\n",
    "                  y0=y1,\n",
    "                  x1=x2,\n",
    "                  y1=y2,\n",
    "                  line=dict(color=color, width=3))"
   ]
  },
  {
   "cell_type": "code",
   "execution_count": 12,
   "metadata": {},
   "outputs": [
    {
     "data": {
      "application/vnd.plotly.v1+json": {
       "config": {
        "plotlyServerURL": "https://plot.ly"
       },
       "data": [
        {
         "a": [
          0,
          5,
          0,
          0,
          0,
          0
         ],
         "b": [
          100,
          95,
          95,
          100,
          100,
          100
         ],
         "c": [
          0,
          0,
          5,
          0,
          0,
          0
         ],
         "fill": "toself",
         "fillcolor": "rgb(0.0, 0.0, 0.0)",
         "hoverinfo": "skip",
         "line": {
          "color": "black",
          "width": 0
         },
         "mode": "lines",
         "opacity": 0.1,
         "showlegend": false,
         "subplot": "ternary",
         "text": "50",
         "type": "scatterternary"
        },
        {
         "a": [
          0,
          0,
          5,
          0,
          0,
          0
         ],
         "b": [
          0,
          5,
          0,
          0,
          0,
          0
         ],
         "c": [
          100,
          95,
          95,
          100,
          100,
          100
         ],
         "fill": "toself",
         "fillcolor": "rgb(0.0, 0.0, 0.0)",
         "hoverinfo": "skip",
         "line": {
          "color": "black",
          "width": 0
         },
         "mode": "lines",
         "opacity": 0.1,
         "showlegend": false,
         "subplot": "ternary",
         "text": "50",
         "type": "scatterternary"
        },
        {
         "a": [
          100,
          95,
          95,
          100,
          100,
          100
         ],
         "b": [
          0,
          0,
          5,
          0,
          0,
          0
         ],
         "c": [
          0,
          5,
          0,
          0,
          0,
          0
         ],
         "fill": "toself",
         "fillcolor": "rgb(0.0, 0.0, 0.0)",
         "hoverinfo": "skip",
         "line": {
          "color": "black",
          "width": 0
         },
         "mode": "lines",
         "opacity": 0.1,
         "showlegend": false,
         "subplot": "ternary",
         "text": "50",
         "type": "scatterternary"
        },
        {
         "a": [
          5,
          10,
          0,
          0,
          5,
          5
         ],
         "b": [
          95,
          90,
          90,
          95,
          95,
          95
         ],
         "c": [
          0,
          0,
          10,
          5,
          0,
          0
         ],
         "fill": "toself",
         "fillcolor": "rgb(0.0, 0.0, 0.0)",
         "hoverinfo": "skip",
         "line": {
          "color": "black",
          "width": 0
         },
         "mode": "lines",
         "opacity": 0.1,
         "showlegend": false,
         "subplot": "ternary",
         "text": "50",
         "type": "scatterternary"
        },
        {
         "a": [
          0,
          0,
          10,
          5,
          0,
          0
         ],
         "b": [
          5,
          10,
          0,
          0,
          5,
          5
         ],
         "c": [
          95,
          90,
          90,
          95,
          95,
          95
         ],
         "fill": "toself",
         "fillcolor": "rgb(8.80952380952381, 8.80952380952381, 8.80952380952381)",
         "hoverinfo": "skip",
         "line": {
          "color": "black",
          "width": 0
         },
         "mode": "lines",
         "opacity": 0.1,
         "showlegend": false,
         "subplot": "ternary",
         "text": "50",
         "type": "scatterternary"
        },
        {
         "a": [
          95,
          90,
          90,
          95,
          95,
          95
         ],
         "b": [
          0,
          0,
          10,
          5,
          0,
          0
         ],
         "c": [
          5,
          10,
          0,
          0,
          5,
          5
         ],
         "fill": "toself",
         "fillcolor": "rgb(19.38095238095238, 19.38095238095238, 19.38095238095238)",
         "hoverinfo": "skip",
         "line": {
          "color": "black",
          "width": 0
         },
         "mode": "lines",
         "opacity": 0.1,
         "showlegend": false,
         "subplot": "ternary",
         "text": "50",
         "type": "scatterternary"
        },
        {
         "a": [
          10,
          15,
          0,
          0,
          10,
          10
         ],
         "b": [
          90,
          85,
          85,
          90,
          90,
          90
         ],
         "c": [
          0,
          0,
          15,
          10,
          0,
          0
         ],
         "fill": "toself",
         "fillcolor": "rgb(29.952380952380953, 29.952380952380953, 29.952380952380953)",
         "hoverinfo": "skip",
         "line": {
          "color": "black",
          "width": 0
         },
         "mode": "lines",
         "opacity": 0.1,
         "showlegend": false,
         "subplot": "ternary",
         "text": "50",
         "type": "scatterternary"
        },
        {
         "a": [
          0,
          0,
          15,
          10,
          0,
          0
         ],
         "b": [
          10,
          15,
          0,
          0,
          10,
          10
         ],
         "c": [
          90,
          85,
          85,
          90,
          90,
          90
         ],
         "fill": "toself",
         "fillcolor": "rgb(39.142857142857146, 39.142857142857146, 39.142857142857146)",
         "hoverinfo": "skip",
         "line": {
          "color": "black",
          "width": 0
         },
         "mode": "lines",
         "opacity": 0.1,
         "showlegend": false,
         "subplot": "ternary",
         "text": "50",
         "type": "scatterternary"
        },
        {
         "a": [
          90,
          85,
          85,
          90,
          90,
          90
         ],
         "b": [
          0,
          0,
          15,
          10,
          0,
          0
         ],
         "c": [
          10,
          15,
          0,
          0,
          10,
          10
         ],
         "fill": "toself",
         "fillcolor": "rgb(49.85714285714286, 49.85714285714286, 49.85714285714286)",
         "hoverinfo": "skip",
         "line": {
          "color": "black",
          "width": 0
         },
         "mode": "lines",
         "opacity": 0.1,
         "showlegend": false,
         "subplot": "ternary",
         "text": "50",
         "type": "scatterternary"
        },
        {
         "a": [
          15,
          20,
          0,
          0,
          15,
          15
         ],
         "b": [
          85,
          80,
          80,
          85,
          85,
          85
         ],
         "c": [
          0,
          0,
          20,
          15,
          0,
          0
         ],
         "fill": "toself",
         "fillcolor": "rgb(62.714285714285715, 62.714285714285715, 62.714285714285715)",
         "hoverinfo": "skip",
         "line": {
          "color": "black",
          "width": 0
         },
         "mode": "lines",
         "opacity": 0.1,
         "showlegend": false,
         "subplot": "ternary",
         "text": "50",
         "type": "scatterternary"
        },
        {
         "a": [
          0,
          0,
          20,
          15,
          0,
          0
         ],
         "b": [
          15,
          20,
          0,
          0,
          15,
          15
         ],
         "c": [
          85,
          80,
          80,
          85,
          85,
          85
         ],
         "fill": "toself",
         "fillcolor": "rgb(75.57142857142857, 75.57142857142857, 75.57142857142857)",
         "hoverinfo": "skip",
         "line": {
          "color": "black",
          "width": 0
         },
         "mode": "lines",
         "opacity": 0.1,
         "showlegend": false,
         "subplot": "ternary",
         "text": "50",
         "type": "scatterternary"
        },
        {
         "a": [
          85,
          80,
          80,
          85,
          85,
          85
         ],
         "b": [
          0,
          0,
          20,
          15,
          0,
          0
         ],
         "c": [
          15,
          20,
          0,
          0,
          15,
          15
         ],
         "fill": "toself",
         "fillcolor": "rgb(85.14285714285714, 85.14285714285714, 85.14285714285714)",
         "hoverinfo": "skip",
         "line": {
          "color": "black",
          "width": 0
         },
         "mode": "lines",
         "opacity": 0.1,
         "showlegend": false,
         "subplot": "ternary",
         "text": "50",
         "type": "scatterternary"
        },
        {
         "a": [
          20,
          25,
          0,
          0,
          20,
          20
         ],
         "b": [
          80,
          75,
          75,
          80,
          80,
          80
         ],
         "c": [
          0,
          0,
          25,
          20,
          0,
          0
         ],
         "fill": "toself",
         "fillcolor": "rgb(94.57142857142857, 94.57142857142857, 94.57142857142857)",
         "hoverinfo": "skip",
         "line": {
          "color": "black",
          "width": 0
         },
         "mode": "lines",
         "opacity": 0.1,
         "showlegend": false,
         "subplot": "ternary",
         "text": "50",
         "type": "scatterternary"
        },
        {
         "a": [
          0,
          0,
          25,
          20,
          0,
          0
         ],
         "b": [
          20,
          25,
          0,
          0,
          20,
          20
         ],
         "c": [
          80,
          75,
          75,
          80,
          80,
          80
         ],
         "fill": "toself",
         "fillcolor": "rgb(104.0, 104.0, 104.0)",
         "hoverinfo": "skip",
         "line": {
          "color": "black",
          "width": 0
         },
         "mode": "lines",
         "opacity": 0.1,
         "showlegend": false,
         "subplot": "ternary",
         "text": "50",
         "type": "scatterternary"
        },
        {
         "a": [
          80,
          75,
          75,
          80,
          80,
          80
         ],
         "b": [
          0,
          0,
          25,
          20,
          0,
          0
         ],
         "c": [
          20,
          25,
          0,
          0,
          20,
          20
         ],
         "fill": "toself",
         "fillcolor": "rgb(113.42857142857143, 113.42857142857143, 113.42857142857143)",
         "hoverinfo": "skip",
         "line": {
          "color": "black",
          "width": 0
         },
         "mode": "lines",
         "opacity": 0.1,
         "showlegend": false,
         "subplot": "ternary",
         "text": "50",
         "type": "scatterternary"
        },
        {
         "a": [
          25,
          30,
          0,
          0,
          25,
          25
         ],
         "b": [
          75,
          70,
          70,
          75,
          75,
          75
         ],
         "c": [
          0,
          0,
          30,
          25,
          0,
          0
         ],
         "fill": "toself",
         "fillcolor": "rgb(121.66666666666666, 121.66666666666666, 121.66666666666666)",
         "hoverinfo": "skip",
         "line": {
          "color": "black",
          "width": 0
         },
         "mode": "lines",
         "opacity": 0.1,
         "showlegend": false,
         "subplot": "ternary",
         "text": "50",
         "type": "scatterternary"
        },
        {
         "a": [
          0,
          0,
          30,
          25,
          0,
          0
         ],
         "b": [
          25,
          30,
          0,
          0,
          25,
          25
         ],
         "c": [
          75,
          70,
          70,
          75,
          75,
          75
         ],
         "fill": "toself",
         "fillcolor": "rgb(130.0, 130.0, 130.0)",
         "hoverinfo": "skip",
         "line": {
          "color": "black",
          "width": 0
         },
         "mode": "lines",
         "opacity": 0.1,
         "showlegend": false,
         "subplot": "ternary",
         "text": "50",
         "type": "scatterternary"
        },
        {
         "a": [
          75,
          70,
          70,
          75,
          75,
          75
         ],
         "b": [
          0,
          0,
          30,
          25,
          0,
          0
         ],
         "c": [
          25,
          30,
          0,
          0,
          25,
          25
         ],
         "fill": "toself",
         "fillcolor": "rgb(140.0, 140.0, 140.0)",
         "hoverinfo": "skip",
         "line": {
          "color": "black",
          "width": 0
         },
         "mode": "lines",
         "opacity": 0.1,
         "showlegend": false,
         "subplot": "ternary",
         "text": "50",
         "type": "scatterternary"
        },
        {
         "a": [
          30,
          35,
          0,
          0,
          30,
          30
         ],
         "b": [
          70,
          65,
          65,
          70,
          70,
          70
         ],
         "c": [
          0,
          0,
          35,
          30,
          0,
          0
         ],
         "fill": "toself",
         "fillcolor": "rgb(150.0, 150.0, 150.0)",
         "hoverinfo": "skip",
         "line": {
          "color": "black",
          "width": 0
         },
         "mode": "lines",
         "opacity": 0.1,
         "showlegend": false,
         "subplot": "ternary",
         "text": "50",
         "type": "scatterternary"
        },
        {
         "a": [
          0,
          0,
          35,
          30,
          0,
          0
         ],
         "b": [
          30,
          35,
          0,
          0,
          30,
          30
         ],
         "c": [
          70,
          65,
          65,
          70,
          70,
          70
         ],
         "fill": "toself",
         "fillcolor": "rgb(159.28571428571428, 159.28571428571428, 159.28571428571428)",
         "hoverinfo": "skip",
         "line": {
          "color": "black",
          "width": 0
         },
         "mode": "lines",
         "opacity": 0.1,
         "showlegend": false,
         "subplot": "ternary",
         "text": "50",
         "type": "scatterternary"
        },
        {
         "a": [
          70,
          65,
          65,
          70,
          70,
          70
         ],
         "b": [
          0,
          0,
          35,
          30,
          0,
          0
         ],
         "c": [
          30,
          35,
          0,
          0,
          30,
          30
         ],
         "fill": "toself",
         "fillcolor": "rgb(170.42857142857142, 170.42857142857142, 170.42857142857142)",
         "hoverinfo": "skip",
         "line": {
          "color": "black",
          "width": 0
         },
         "mode": "lines",
         "opacity": 0.1,
         "showlegend": false,
         "subplot": "ternary",
         "text": "50",
         "type": "scatterternary"
        },
        {
         "a": [
          35,
          40,
          0,
          0,
          35,
          35
         ],
         "b": [
          65,
          60,
          60,
          65,
          65,
          65
         ],
         "c": [
          0,
          0,
          40,
          35,
          0,
          0
         ],
         "fill": "toself",
         "fillcolor": "rgb(181.57142857142858, 181.57142857142858, 181.57142857142858)",
         "hoverinfo": "skip",
         "line": {
          "color": "black",
          "width": 0
         },
         "mode": "lines",
         "opacity": 0.1,
         "showlegend": false,
         "subplot": "ternary",
         "text": "50",
         "type": "scatterternary"
        },
        {
         "a": [
          0,
          0,
          40,
          35,
          0,
          0
         ],
         "b": [
          35,
          40,
          0,
          0,
          35,
          35
         ],
         "c": [
          65,
          60,
          60,
          65,
          65,
          65
         ],
         "fill": "toself",
         "fillcolor": "rgb(190.33333333333334, 190.33333333333334, 190.33333333333334)",
         "hoverinfo": "skip",
         "line": {
          "color": "black",
          "width": 0
         },
         "mode": "lines",
         "opacity": 0.1,
         "showlegend": false,
         "subplot": "ternary",
         "text": "50",
         "type": "scatterternary"
        },
        {
         "a": [
          65,
          60,
          60,
          65,
          65,
          65
         ],
         "b": [
          0,
          0,
          40,
          35,
          0,
          0
         ],
         "c": [
          35,
          40,
          0,
          0,
          35,
          35
         ],
         "fill": "toself",
         "fillcolor": "rgb(198.33333333333334, 198.33333333333334, 198.33333333333334)",
         "hoverinfo": "skip",
         "line": {
          "color": "black",
          "width": 0
         },
         "mode": "lines",
         "opacity": 0.1,
         "showlegend": false,
         "subplot": "ternary",
         "text": "50",
         "type": "scatterternary"
        },
        {
         "a": [
          40,
          45,
          0,
          0,
          40,
          40
         ],
         "b": [
          60,
          55,
          55,
          60,
          60,
          60
         ],
         "c": [
          0,
          0,
          45,
          40,
          0,
          0
         ],
         "fill": "toself",
         "fillcolor": "rgb(206.33333333333334, 206.33333333333334, 206.33333333333334)",
         "hoverinfo": "skip",
         "line": {
          "color": "black",
          "width": 0
         },
         "mode": "lines",
         "opacity": 0.1,
         "showlegend": false,
         "subplot": "ternary",
         "text": "50",
         "type": "scatterternary"
        },
        {
         "a": [
          0,
          0,
          45,
          40,
          0,
          0
         ],
         "b": [
          40,
          45,
          0,
          0,
          40,
          40
         ],
         "c": [
          60,
          55,
          55,
          60,
          60,
          60
         ],
         "fill": "toself",
         "fillcolor": "rgb(213.0, 213.0, 213.0)",
         "hoverinfo": "skip",
         "line": {
          "color": "black",
          "width": 0
         },
         "mode": "lines",
         "opacity": 0.1,
         "showlegend": false,
         "subplot": "ternary",
         "text": "50",
         "type": "scatterternary"
        },
        {
         "a": [
          60,
          55,
          55,
          60,
          60,
          60
         ],
         "b": [
          0,
          0,
          45,
          40,
          0,
          0
         ],
         "c": [
          40,
          45,
          0,
          0,
          40,
          40
         ],
         "fill": "toself",
         "fillcolor": "rgb(219.1904761904762, 219.1904761904762, 219.1904761904762)",
         "hoverinfo": "skip",
         "line": {
          "color": "black",
          "width": 0
         },
         "mode": "lines",
         "opacity": 0.1,
         "showlegend": false,
         "subplot": "ternary",
         "text": "50",
         "type": "scatterternary"
        },
        {
         "a": [
          45,
          50,
          0,
          0,
          45,
          45
         ],
         "b": [
          55,
          50,
          50,
          55,
          55,
          55
         ],
         "c": [
          0,
          0,
          50,
          45,
          0,
          0
         ],
         "fill": "toself",
         "fillcolor": "rgb(225.76190476190476, 225.76190476190476, 225.76190476190476)",
         "hoverinfo": "skip",
         "line": {
          "color": "black",
          "width": 0
         },
         "mode": "lines",
         "opacity": 0.1,
         "showlegend": false,
         "subplot": "ternary",
         "text": "50",
         "type": "scatterternary"
        },
        {
         "a": [
          0,
          0,
          50,
          45,
          0,
          0
         ],
         "b": [
          45,
          50,
          0,
          0,
          45,
          45
         ],
         "c": [
          55,
          50,
          50,
          55,
          55,
          55
         ],
         "fill": "toself",
         "fillcolor": "rgb(232.33333333333334, 232.33333333333334, 232.33333333333334)",
         "hoverinfo": "skip",
         "line": {
          "color": "black",
          "width": 0
         },
         "mode": "lines",
         "opacity": 0.1,
         "showlegend": false,
         "subplot": "ternary",
         "text": "50",
         "type": "scatterternary"
        },
        {
         "a": [
          55,
          50,
          50,
          55,
          55,
          55
         ],
         "b": [
          0,
          0,
          50,
          45,
          0,
          0
         ],
         "c": [
          45,
          50,
          0,
          0,
          45,
          45
         ],
         "fill": "toself",
         "fillcolor": "rgb(238.9047619047619, 238.9047619047619, 238.9047619047619)",
         "hoverinfo": "skip",
         "line": {
          "color": "black",
          "width": 0
         },
         "mode": "lines",
         "opacity": 0.1,
         "showlegend": false,
         "subplot": "ternary",
         "text": "50",
         "type": "scatterternary"
        },
        {
         "a": [
          50,
          50,
          0,
          50
         ],
         "b": [
          50,
          0,
          50,
          50
         ],
         "c": [
          0,
          50,
          50,
          0
         ],
         "fill": "toself",
         "fillcolor": "rgb(242.85714285714286, 242.85714285714286, 242.85714285714286)",
         "hoverinfo": "skip",
         "line": {
          "color": "black",
          "width": 0
         },
         "mode": "lines",
         "opacity": 0.1,
         "showlegend": false,
         "subplot": "ternary",
         "text": "50",
         "type": "scatterternary"
        },
        {
         "a": [
          45,
          45,
          10,
          45
         ],
         "b": [
          45,
          10,
          45,
          45
         ],
         "c": [
          10,
          45,
          45,
          10
         ],
         "fill": "toself",
         "fillcolor": "rgb(247.14285714285714, 247.14285714285714, 247.14285714285714)",
         "hoverinfo": "skip",
         "line": {
          "color": "black",
          "width": 0
         },
         "mode": "lines",
         "opacity": 0.1,
         "showlegend": false,
         "subplot": "ternary",
         "text": "45",
         "type": "scatterternary"
        },
        {
         "a": [
          40,
          40,
          20,
          40
         ],
         "b": [
          40,
          20,
          40,
          40
         ],
         "c": [
          20,
          40,
          40,
          20
         ],
         "fill": "toself",
         "fillcolor": "rgb(251.42857142857142, 251.42857142857142, 251.42857142857142)",
         "hoverinfo": "skip",
         "line": {
          "color": "black",
          "width": 0
         },
         "mode": "lines",
         "opacity": 0.1,
         "showlegend": false,
         "subplot": "ternary",
         "text": "40",
         "type": "scatterternary"
        },
        {
         "a": [
          35,
          35,
          30,
          35
         ],
         "b": [
          35,
          30,
          35,
          35
         ],
         "c": [
          30,
          35,
          35,
          30
         ],
         "fill": "toself",
         "fillcolor": "rgb(255.0, 255.0, 255.0)",
         "hoverinfo": "skip",
         "line": {
          "color": "black",
          "width": 0
         },
         "mode": "lines",
         "opacity": 0.1,
         "showlegend": false,
         "subplot": "ternary",
         "text": "35",
         "type": "scatterternary"
        },
        {
         "a": [
          0,
          0
         ],
         "b": [
          0,
          1
         ],
         "c": [
          1,
          0
         ],
         "hoverinfo": "skip",
         "line": {
          "color": "black",
          "dash": "dot",
          "width": 0.33
         },
         "marker": {
          "color": "black",
          "line": {
           "color": "silver",
           "width": 0
          },
          "opacity": 1,
          "size": 15
         },
         "mode": "lines",
         "showlegend": false,
         "subplot": "ternary",
         "textfont": {
          "color": "black",
          "size": 5
         },
         "type": "scatterternary"
        },
        {
         "a": [
          0,
          1
         ],
         "b": [
          0,
          0
         ],
         "c": [
          1,
          0
         ],
         "hoverinfo": "skip",
         "line": {
          "color": "black",
          "dash": "dot",
          "width": 0.33
         },
         "marker": {
          "color": "black",
          "line": {
           "color": "silver",
           "width": 0
          },
          "opacity": 1,
          "size": 15
         },
         "mode": "lines",
         "showlegend": false,
         "subplot": "ternary",
         "textfont": {
          "color": "black",
          "size": 5
         },
         "type": "scatterternary"
        },
        {
         "a": [
          1,
          0
         ],
         "b": [
          0,
          1
         ],
         "c": [
          0,
          0
         ],
         "hoverinfo": "skip",
         "line": {
          "color": "black",
          "dash": "dot",
          "width": 0.33
         },
         "marker": {
          "color": "black",
          "line": {
           "color": "silver",
           "width": 0
          },
          "opacity": 1,
          "size": 15
         },
         "mode": "lines",
         "showlegend": false,
         "subplot": "ternary",
         "textfont": {
          "color": "black",
          "size": 5
         },
         "type": "scatterternary"
        },
        {
         "a": [
          0.25,
          0.25
         ],
         "b": [
          0,
          0.75
         ],
         "c": [
          0.75,
          0
         ],
         "hoverinfo": "skip",
         "line": {
          "color": "black",
          "dash": "dot",
          "width": 0.33
         },
         "marker": {
          "color": "black",
          "line": {
           "color": "silver",
           "width": 0
          },
          "opacity": 1,
          "size": 15
         },
         "mode": "lines",
         "showlegend": false,
         "subplot": "ternary",
         "textfont": {
          "color": "black",
          "size": 5
         },
         "type": "scatterternary"
        },
        {
         "a": [
          0,
          0.75
         ],
         "b": [
          0.25,
          0.25
         ],
         "c": [
          0.75,
          0
         ],
         "hoverinfo": "skip",
         "line": {
          "color": "black",
          "dash": "dot",
          "width": 0.33
         },
         "marker": {
          "color": "black",
          "line": {
           "color": "silver",
           "width": 0
          },
          "opacity": 1,
          "size": 15
         },
         "mode": "lines",
         "showlegend": false,
         "subplot": "ternary",
         "textfont": {
          "color": "black",
          "size": 5
         },
         "type": "scatterternary"
        },
        {
         "a": [
          0.75,
          0
         ],
         "b": [
          0,
          0.75
         ],
         "c": [
          0.25,
          0.25
         ],
         "hoverinfo": "skip",
         "line": {
          "color": "black",
          "dash": "dot",
          "width": 0.33
         },
         "marker": {
          "color": "black",
          "line": {
           "color": "silver",
           "width": 0
          },
          "opacity": 1,
          "size": 15
         },
         "mode": "lines",
         "showlegend": false,
         "subplot": "ternary",
         "textfont": {
          "color": "black",
          "size": 5
         },
         "type": "scatterternary"
        },
        {
         "a": [
          0.5,
          0.5
         ],
         "b": [
          0,
          0.5
         ],
         "c": [
          0.5,
          0
         ],
         "hoverinfo": "skip",
         "line": {
          "color": "black",
          "dash": "dot",
          "width": 0.33
         },
         "marker": {
          "color": "black",
          "line": {
           "color": "silver",
           "width": 0
          },
          "opacity": 1,
          "size": 15
         },
         "mode": "lines",
         "showlegend": false,
         "subplot": "ternary",
         "textfont": {
          "color": "black",
          "size": 5
         },
         "type": "scatterternary"
        },
        {
         "a": [
          0,
          0.5
         ],
         "b": [
          0.5,
          0.5
         ],
         "c": [
          0.5,
          0
         ],
         "hoverinfo": "skip",
         "line": {
          "color": "black",
          "dash": "dot",
          "width": 0.33
         },
         "marker": {
          "color": "black",
          "line": {
           "color": "silver",
           "width": 0
          },
          "opacity": 1,
          "size": 15
         },
         "mode": "lines",
         "showlegend": false,
         "subplot": "ternary",
         "textfont": {
          "color": "black",
          "size": 5
         },
         "type": "scatterternary"
        },
        {
         "a": [
          0.5,
          0
         ],
         "b": [
          0,
          0.5
         ],
         "c": [
          0.5,
          0.5
         ],
         "hoverinfo": "skip",
         "line": {
          "color": "black",
          "dash": "dot",
          "width": 0.33
         },
         "marker": {
          "color": "black",
          "line": {
           "color": "silver",
           "width": 0
          },
          "opacity": 1,
          "size": 15
         },
         "mode": "lines",
         "showlegend": false,
         "subplot": "ternary",
         "textfont": {
          "color": "black",
          "size": 5
         },
         "type": "scatterternary"
        },
        {
         "a": [
          0.75,
          0.75
         ],
         "b": [
          0,
          0.25
         ],
         "c": [
          0.25,
          0
         ],
         "hoverinfo": "skip",
         "line": {
          "color": "black",
          "dash": "dot",
          "width": 0.33
         },
         "marker": {
          "color": "black",
          "line": {
           "color": "silver",
           "width": 0
          },
          "opacity": 1,
          "size": 15
         },
         "mode": "lines",
         "showlegend": false,
         "subplot": "ternary",
         "textfont": {
          "color": "black",
          "size": 5
         },
         "type": "scatterternary"
        },
        {
         "a": [
          0,
          0.25
         ],
         "b": [
          0.75,
          0.75
         ],
         "c": [
          0.25,
          0
         ],
         "hoverinfo": "skip",
         "line": {
          "color": "black",
          "dash": "dot",
          "width": 0.33
         },
         "marker": {
          "color": "black",
          "line": {
           "color": "silver",
           "width": 0
          },
          "opacity": 1,
          "size": 15
         },
         "mode": "lines",
         "showlegend": false,
         "subplot": "ternary",
         "textfont": {
          "color": "black",
          "size": 5
         },
         "type": "scatterternary"
        },
        {
         "a": [
          0.25,
          0
         ],
         "b": [
          0,
          0.25
         ],
         "c": [
          0.75,
          0.75
         ],
         "hoverinfo": "skip",
         "line": {
          "color": "black",
          "dash": "dot",
          "width": 0.33
         },
         "marker": {
          "color": "black",
          "line": {
           "color": "silver",
           "width": 0
          },
          "opacity": 1,
          "size": 15
         },
         "mode": "lines",
         "showlegend": false,
         "subplot": "ternary",
         "textfont": {
          "color": "black",
          "size": 5
         },
         "type": "scatterternary"
        },
        {
         "a": [
          1,
          1
         ],
         "b": [
          0,
          0
         ],
         "c": [
          0,
          0
         ],
         "hoverinfo": "skip",
         "line": {
          "color": "black",
          "dash": "dot",
          "width": 0.33
         },
         "marker": {
          "color": "black",
          "line": {
           "color": "silver",
           "width": 0
          },
          "opacity": 1,
          "size": 15
         },
         "mode": "lines",
         "showlegend": false,
         "subplot": "ternary",
         "textfont": {
          "color": "black",
          "size": 5
         },
         "type": "scatterternary"
        },
        {
         "a": [
          0,
          0
         ],
         "b": [
          1,
          1
         ],
         "c": [
          0,
          0
         ],
         "hoverinfo": "skip",
         "line": {
          "color": "black",
          "dash": "dot",
          "width": 0.33
         },
         "marker": {
          "color": "black",
          "line": {
           "color": "silver",
           "width": 0
          },
          "opacity": 1,
          "size": 15
         },
         "mode": "lines",
         "showlegend": false,
         "subplot": "ternary",
         "textfont": {
          "color": "black",
          "size": 5
         },
         "type": "scatterternary"
        },
        {
         "a": [
          0,
          0
         ],
         "b": [
          0,
          0
         ],
         "c": [
          1,
          1
         ],
         "hoverinfo": "skip",
         "line": {
          "color": "black",
          "dash": "dot",
          "width": 0.33
         },
         "marker": {
          "color": "black",
          "line": {
           "color": "silver",
           "width": 0
          },
          "opacity": 1,
          "size": 15
         },
         "mode": "lines",
         "showlegend": false,
         "subplot": "ternary",
         "textfont": {
          "color": "black",
          "size": 5
         },
         "type": "scatterternary"
        },
        {
         "a": [
          0,
          0,
          0,
          0,
          0,
          0,
          0,
          0,
          0,
          0,
          0,
          0,
          0,
          0,
          0
         ],
         "b": [
          0,
          0,
          0,
          0,
          0,
          0,
          0,
          0,
          0,
          0,
          0,
          0,
          0,
          0,
          0
         ],
         "c": [
          0,
          0,
          0,
          0,
          0,
          0,
          0,
          0,
          0,
          0,
          0,
          0,
          0,
          0,
          0
         ],
         "line": {
          "color": "grey",
          "width": 0.25
         },
         "marker": {
          "color": "silver",
          "line": {
           "color": "black",
           "width": 0
          },
          "opacity": 0.9,
          "size": 6
         },
         "mode": "lines+text",
         "name": "AFG",
         "showlegend": false,
         "subplot": "ternary",
         "text": [
          "",
          "",
          "",
          "",
          "",
          "",
          "",
          "",
          "",
          "",
          "",
          "",
          "",
          "",
          ""
         ],
         "textfont": {
          "color": "black",
          "size": 6.887538952525359
         },
         "type": "scatterternary"
        },
        {
         "a": [
          0,
          0,
          0,
          0,
          0
         ],
         "b": [
          0,
          0,
          0,
          0,
          0
         ],
         "c": [
          0,
          0,
          0,
          0,
          0
         ],
         "line": {
          "color": "grey",
          "width": 0.25
         },
         "marker": {
          "color": "silver",
          "line": {
           "color": "black",
           "width": 0
          },
          "opacity": 0.9,
          "size": 6
         },
         "mode": "lines+text",
         "name": "AFG",
         "showlegend": false,
         "subplot": "ternary",
         "text": [
          "",
          "",
          "",
          "",
          "",
          "",
          "",
          "",
          "",
          "",
          "",
          "",
          "",
          "",
          ""
         ],
         "textfont": {
          "color": "black",
          "size": 6.887538952525359
         },
         "type": "scatterternary"
        },
        {
         "a": [
          0.7193093824028254,
          0.666222842388412,
          0.6556766382217981,
          0.6572352966419627,
          0.6558704839398768,
          0.6471355862102429,
          0.629083818273761,
          0.6139936044216305,
          0.5990589581732623,
          0.5888216995151884,
          0.579208484419169,
          0.571193123843486,
          0.5634315559478539,
          0.5563127130884364,
          0.5492133803542582
         ],
         "b": [
          0.19604288004944087,
          0.24387897002919512,
          0.2405893571407056,
          0.21954238109705848,
          0.19859220890268178,
          0.1881107408384215,
          0.18954717418131728,
          0.19654754731978608,
          0.20522950943750545,
          0.21496312432328907,
          0.2253105851851709,
          0.2356718683688241,
          0.24611194328610483,
          0.2544222024733254,
          0.26306508085053076
         ],
         "c": [
          0.08464773754773373,
          0.08989818758239279,
          0.10373400463749609,
          0.1232223222609788,
          0.1455373071574416,
          0.16475367295133553,
          0.18136900754492175,
          0.1894588482585835,
          0.1957115323892322,
          0.19621517616152245,
          0.1954809303956601,
          0.19313500778768974,
          0.1904565007660412,
          0.1892650844382381,
          0.18772153879521125
         ],
         "line": {
          "color": "grey",
          "width": 0.25
         },
         "marker": {
          "color": "silver",
          "line": {
           "color": "black",
           "width": 0
          },
          "opacity": 0.9,
          "size": 6
         },
         "mode": "lines+text",
         "name": "ALB",
         "showlegend": false,
         "subplot": "ternary",
         "text": [
          "",
          "",
          "",
          "",
          "",
          "",
          "",
          "",
          "",
          "",
          "",
          "",
          "",
          "",
          ""
         ],
         "textfont": {
          "color": "black",
          "size": 3.088420233482558
         },
         "type": "scatterternary"
        },
        {
         "a": [
          0.7193093824028254,
          0.666222842388412,
          0.6556766382217981,
          0.6572352966419627,
          0.6558704839398768
         ],
         "b": [
          0.19604288004944087,
          0.24387897002919512,
          0.2405893571407056,
          0.21954238109705848,
          0.19859220890268178
         ],
         "c": [
          0.08464773754773373,
          0.08989818758239279,
          0.10373400463749609,
          0.1232223222609788,
          0.1455373071574416
         ],
         "line": {
          "color": "grey",
          "width": 0.25
         },
         "marker": {
          "color": "silver",
          "line": {
           "color": "black",
           "width": 0
          },
          "opacity": 0.9,
          "size": 6
         },
         "mode": "lines+text",
         "name": "ALB",
         "showlegend": false,
         "subplot": "ternary",
         "text": [
          "",
          "",
          "",
          "",
          "",
          "",
          "",
          "",
          "",
          "",
          "",
          "",
          "",
          "",
          ""
         ],
         "textfont": {
          "color": "black",
          "size": 3.088420233482558
         },
         "type": "scatterternary"
        },
        {
         "a": [
          0.8457480341312101,
          0.7957256305954125,
          0.734010964114673,
          0.6793355934832032,
          0.6218109481075321,
          0.5864023497158353,
          0.5548120900293428,
          0.5335122587444757,
          0.5080984337162684,
          0.49053619318078656,
          0.4736306256370627,
          0.4576094646828568,
          0.4418874810847161,
          0.4263408860487136,
          0.41082468772664643
         ],
         "b": [
          0.05786779044868213,
          0.10017553570454395,
          0.15029499660855533,
          0.18781850497598132,
          0.22889769908334584,
          0.24975473894750214,
          0.26523218014184907,
          0.2765419205814845,
          0.2925568717617771,
          0.305102436897767,
          0.3163289942008307,
          0.3308412562243718,
          0.35043062478683223,
          0.3673717926085276,
          0.381866033935662
         ],
         "c": [
          0.09638417542010788,
          0.10409883370004357,
          0.11569403927677162,
          0.13284590154081558,
          0.14929135280912226,
          0.16384291133666257,
          0.17995572982880825,
          0.18994582067403978,
          0.19934469452195458,
          0.20436136992144635,
          0.2100403801621066,
          0.2115492790927713,
          0.20768189412845173,
          0.20628732134275873,
          0.20730927833769158
         ],
         "line": {
          "color": "grey",
          "width": 0.25
         },
         "marker": {
          "color": "silver",
          "line": {
           "color": "black",
           "width": 0
          },
          "opacity": 0.9,
          "size": 6
         },
         "mode": "lines+text",
         "name": "DZA",
         "showlegend": false,
         "subplot": "ternary",
         "text": [
          "",
          "",
          "",
          "",
          "",
          "",
          "",
          "",
          "",
          "",
          "",
          "",
          "",
          "",
          ""
         ],
         "textfont": {
          "color": "black",
          "size": 7.170080805090006
         },
         "type": "scatterternary"
        },
        {
         "a": [
          0.8457480341312101,
          0.7957256305954125,
          0.734010964114673,
          0.6793355934832032,
          0.6218109481075321
         ],
         "b": [
          0.05786779044868213,
          0.10017553570454395,
          0.15029499660855533,
          0.18781850497598132,
          0.22889769908334584
         ],
         "c": [
          0.09638417542010788,
          0.10409883370004357,
          0.11569403927677162,
          0.13284590154081558,
          0.14929135280912226
         ],
         "line": {
          "color": "grey",
          "width": 0.25
         },
         "marker": {
          "color": "silver",
          "line": {
           "color": "black",
           "width": 0
          },
          "opacity": 0.9,
          "size": 6
         },
         "mode": "lines+text",
         "name": "DZA",
         "showlegend": false,
         "subplot": "ternary",
         "text": [
          "",
          "",
          "",
          "",
          "",
          "",
          "",
          "",
          "",
          "",
          "",
          "",
          "",
          "",
          ""
         ],
         "textfont": {
          "color": "black",
          "size": 7.170080805090006
         },
         "type": "scatterternary"
        },
        {
         "a": [
          0,
          0,
          0,
          0,
          0,
          0,
          0,
          0,
          0,
          0,
          0,
          0,
          0,
          0,
          0
         ],
         "b": [
          0,
          0,
          0,
          0,
          0,
          0,
          0,
          0,
          0,
          0,
          0,
          0,
          0,
          0,
          0
         ],
         "c": [
          0,
          0,
          0,
          0,
          0,
          0,
          0,
          0,
          0,
          0,
          0,
          0,
          0,
          0,
          0
         ],
         "line": {
          "color": "grey",
          "width": 0.25
         },
         "marker": {
          "color": "silver",
          "line": {
           "color": "black",
           "width": 0
          },
          "opacity": 0.9,
          "size": 6
         },
         "mode": "lines+text",
         "name": "AND",
         "showlegend": false,
         "subplot": "ternary",
         "text": [
          "",
          "",
          "",
          "",
          "",
          "",
          "",
          "",
          "",
          "",
          "",
          "",
          "",
          "",
          ""
         ],
         "textfont": {
          "color": "black",
          "size": 2.3694187025678044
         },
         "type": "scatterternary"
        },
        {
         "a": [
          0,
          0,
          0,
          0,
          0
         ],
         "b": [
          0,
          0,
          0,
          0,
          0
         ],
         "c": [
          0,
          0,
          0,
          0,
          0
         ],
         "line": {
          "color": "grey",
          "width": 0.25
         },
         "marker": {
          "color": "silver",
          "line": {
           "color": "black",
           "width": 0
          },
          "opacity": 0.9,
          "size": 6
         },
         "mode": "lines+text",
         "name": "AND",
         "showlegend": false,
         "subplot": "ternary",
         "text": [
          "",
          "",
          "",
          "",
          "",
          "",
          "",
          "",
          "",
          "",
          "",
          "",
          "",
          "",
          ""
         ],
         "textfont": {
          "color": "black",
          "size": 2.3694187025678044
         },
         "type": "scatterternary"
        },
        {
         "a": [
          0.6972666492765858,
          0.5998635249454535,
          0.5131952579050708,
          0.4379725602025526,
          0.3805611844723495,
          0.33923916526573666,
          0.3136202807663199,
          0.2967781957284456,
          0.28648771466095385,
          0.2912256829049468,
          0.2965361843125769,
          0.3122982823174404,
          0.32550217441768947,
          0.3304577695960651,
          0.3412816235343955
         ],
         "b": [
          0.20406652176223214,
          0.29878224018233007,
          0.3871249117841345,
          0.4616946350419968,
          0.5170085590801894,
          0.5559154556134691,
          0.5716695224846403,
          0.5731752685332727,
          0.5544870846737822,
          0.5108980830754426,
          0.4597452457998703,
          0.412315016820039,
          0.3736809957230607,
          0.35804608207652655,
          0.3401730678605063
         ],
         "c": [
          0.09866682896118222,
          0.10135423487221652,
          0.09967983031079466,
          0.10033280475545057,
          0.10243025644746087,
          0.10484537912079407,
          0.11471019674904004,
          0.13004653573828162,
          0.159025200665264,
          0.19787623401961052,
          0.24371856988755297,
          0.2753867008625205,
          0.30081682985924996,
          0.31149614832740824,
          0.31854530860509817
         ],
         "line": {
          "color": "grey",
          "width": 0.25
         },
         "marker": {
          "color": "silver",
          "line": {
           "color": "black",
           "width": 0
          },
          "opacity": 0.9,
          "size": 6
         },
         "mode": "lines+text",
         "name": "AGO",
         "showlegend": false,
         "subplot": "ternary",
         "text": [
          "",
          "",
          "",
          "",
          "",
          "",
          "",
          "",
          "",
          "",
          "",
          "",
          "",
          "",
          ""
         ],
         "textfont": {
          "color": "black",
          "size": 6.538719153439127
         },
         "type": "scatterternary"
        },
        {
         "a": [
          0.6972666492765858,
          0.5998635249454535,
          0.5131952579050708,
          0.4379725602025526,
          0.3805611844723495
         ],
         "b": [
          0.20406652176223214,
          0.29878224018233007,
          0.3871249117841345,
          0.4616946350419968,
          0.5170085590801894
         ],
         "c": [
          0.09866682896118222,
          0.10135423487221652,
          0.09967983031079466,
          0.10033280475545057,
          0.10243025644746087
         ],
         "line": {
          "color": "grey",
          "width": 0.25
         },
         "marker": {
          "color": "silver",
          "line": {
           "color": "black",
           "width": 0
          },
          "opacity": 0.9,
          "size": 6
         },
         "mode": "lines+text",
         "name": "AGO",
         "showlegend": false,
         "subplot": "ternary",
         "text": [
          "",
          "",
          "",
          "",
          "",
          "",
          "",
          "",
          "",
          "",
          "",
          "",
          "",
          "",
          ""
         ],
         "textfont": {
          "color": "black",
          "size": 6.538719153439127
         },
         "type": "scatterternary"
        },
        {
         "a": [
          0,
          0,
          0,
          0,
          0,
          0,
          0,
          0,
          0,
          0,
          0,
          0,
          0,
          0,
          0
         ],
         "b": [
          0,
          0,
          0,
          0,
          0,
          0,
          0,
          0,
          0,
          0,
          0,
          0,
          0,
          0,
          0
         ],
         "c": [
          0,
          0,
          0,
          0,
          0,
          0,
          0,
          0,
          0,
          0,
          0,
          0,
          0,
          0,
          0
         ],
         "line": {
          "color": "grey",
          "width": 0.25
         },
         "marker": {
          "color": "silver",
          "line": {
           "color": "black",
           "width": 0
          },
          "opacity": 0.9,
          "size": 6
         },
         "mode": "lines+text",
         "name": "ATG",
         "showlegend": false,
         "subplot": "ternary",
         "text": [
          "",
          "",
          "",
          "",
          "",
          "",
          "",
          "",
          "",
          "",
          "",
          "",
          "",
          "",
          ""
         ],
         "textfont": {
          "color": "black",
          "size": 1.5281509136631874
         },
         "type": "scatterternary"
        },
        {
         "a": [
          0,
          0,
          0,
          0,
          0
         ],
         "b": [
          0,
          0,
          0,
          0,
          0
         ],
         "c": [
          0,
          0,
          0,
          0,
          0
         ],
         "line": {
          "color": "grey",
          "width": 0.25
         },
         "marker": {
          "color": "silver",
          "line": {
           "color": "black",
           "width": 0
          },
          "opacity": 0.9,
          "size": 6
         },
         "mode": "lines+text",
         "name": "ATG",
         "showlegend": false,
         "subplot": "ternary",
         "text": [
          "",
          "",
          "",
          "",
          "",
          "",
          "",
          "",
          "",
          "",
          "",
          "",
          "",
          "",
          ""
         ],
         "textfont": {
          "color": "black",
          "size": 1.5281509136631874
         },
         "type": "scatterternary"
        },
        {
         "a": [
          0.8251313172583853,
          0.7615429921182624,
          0.6785015668073838,
          0.5946034369888876,
          0.5153264052997345,
          0.45261780034246873,
          0.39899947820391224,
          0.3639912625432409,
          0.3298631823679763,
          0.3064002718648807,
          0.28466473810212156,
          0.26763089265183043,
          0.24920996328013273,
          0.22957912042017148,
          0.21664435135446483
         ],
         "b": [
          0.08535207420726972,
          0.1442984744110309,
          0.22165039600895448,
          0.2989431879615919,
          0.3714166935417777,
          0.42972080330609574,
          0.48026405701194985,
          0.5145880725808346,
          0.5444564355141519,
          0.565822039276172,
          0.5881915457531982,
          0.6002318141459116,
          0.6069523337576359,
          0.6135404617641509,
          0.6267847304637475
         ],
         "c": [
          0.08951660853434501,
          0.09415853347070678,
          0.09984803718366163,
          0.10645337504952054,
          0.11325690115848783,
          0.11766139635143553,
          0.12073646478413794,
          0.12142066487592452,
          0.12568038211787183,
          0.12777768885894744,
          0.12714371614468029,
          0.13213729320225792,
          0.14383770296223147,
          0.1568804178156775,
          0.1565709181817876
         ],
         "line": {
          "color": "grey",
          "width": 0.25
         },
         "marker": {
          "color": "silver",
          "line": {
           "color": "black",
           "width": 0
          },
          "opacity": 0.9,
          "size": 6
         },
         "mode": "lines+text",
         "name": "ARG",
         "showlegend": false,
         "subplot": "ternary",
         "text": [
          "",
          "",
          "",
          "",
          "",
          "",
          "",
          "",
          "",
          "",
          "",
          "",
          "",
          "",
          ""
         ],
         "textfont": {
          "color": "black",
          "size": 7.272886742243632
         },
         "type": "scatterternary"
        },
        {
         "a": [
          0.8251313172583853,
          0.7615429921182624,
          0.6785015668073838,
          0.5946034369888876,
          0.5153264052997345
         ],
         "b": [
          0.08535207420726972,
          0.1442984744110309,
          0.22165039600895448,
          0.2989431879615919,
          0.3714166935417777
         ],
         "c": [
          0.08951660853434501,
          0.09415853347070678,
          0.09984803718366163,
          0.10645337504952054,
          0.11325690115848783
         ],
         "line": {
          "color": "grey",
          "width": 0.25
         },
         "marker": {
          "color": "silver",
          "line": {
           "color": "black",
           "width": 0
          },
          "opacity": 0.9,
          "size": 6
         },
         "mode": "lines+text",
         "name": "ARG",
         "showlegend": false,
         "subplot": "ternary",
         "text": [
          "",
          "",
          "",
          "",
          "",
          "",
          "",
          "",
          "",
          "",
          "",
          "",
          "",
          "",
          ""
         ],
         "textfont": {
          "color": "black",
          "size": 7.272886742243632
         },
         "type": "scatterternary"
        },
        {
         "a": [
          0.8320447714907775,
          0.7843435773648657,
          0.7473498383931091,
          0.7111055006439699,
          0.6827039745339544,
          0.658636246263155,
          0.6342426230428738,
          0.6159993456351688,
          0.5989981648864375,
          0.5888308604934626,
          0.5793391668214597,
          0.5722318151708212,
          0.5647555645439803,
          0.5542769464186001,
          0.5467378819669398
         ],
         "b": [
          0.07146849313565624,
          0.11130102403147839,
          0.13571655981043643,
          0.1570721703018787,
          0.16716737975501023,
          0.17445069523481518,
          0.18278431509666884,
          0.19275879653970632,
          0.20272014945069128,
          0.2108332461461465,
          0.2177868017734625,
          0.22504877589220773,
          0.23318253968927938,
          0.24197060279385188,
          0.24855892206596492
         ],
         "c": [
          0.0964867353735664,
          0.10435539860365578,
          0.11693360179645437,
          0.13182232905415137,
          0.15012864571103549,
          0.16691305850202998,
          0.1829730618604573,
          0.19124185782512507,
          0.19828168566287124,
          0.2003358933603908,
          0.2028740314050777,
          0.20271940893697113,
          0.2020618957667401,
          0.2037524507875479,
          0.20470319596709544
         ],
         "line": {
          "color": "grey",
          "width": 0.25
         },
         "marker": {
          "color": "silver",
          "line": {
           "color": "black",
           "width": 0
          },
          "opacity": 0.9,
          "size": 6
         },
         "mode": "lines+text",
         "name": "ARM",
         "showlegend": false,
         "subplot": "ternary",
         "text": [
          "",
          "",
          "",
          "",
          "",
          "",
          "",
          "",
          "",
          "",
          "",
          "",
          "",
          "",
          ""
         ],
         "textfont": {
          "color": "black",
          "size": 3.0709656555804554
         },
         "type": "scatterternary"
        },
        {
         "a": [
          0.8320447714907775,
          0.7843435773648657,
          0.7473498383931091,
          0.7111055006439699,
          0.6827039745339544
         ],
         "b": [
          0.07146849313565624,
          0.11130102403147839,
          0.13571655981043643,
          0.1570721703018787,
          0.16716737975501023
         ],
         "c": [
          0.0964867353735664,
          0.10435539860365578,
          0.11693360179645437,
          0.13182232905415137,
          0.15012864571103549
         ],
         "line": {
          "color": "grey",
          "width": 0.25
         },
         "marker": {
          "color": "silver",
          "line": {
           "color": "black",
           "width": 0
          },
          "opacity": 0.9,
          "size": 6
         },
         "mode": "lines+text",
         "name": "ARM",
         "showlegend": false,
         "subplot": "ternary",
         "text": [
          "",
          "",
          "",
          "",
          "",
          "",
          "",
          "",
          "",
          "",
          "",
          "",
          "",
          "",
          ""
         ],
         "textfont": {
          "color": "black",
          "size": 3.0709656555804554
         },
         "type": "scatterternary"
        },
        {
         "a": [
          0.7902188818459682,
          0.6844177960827653,
          0.5316478145927591,
          0.38248885749767125,
          0.2540337254576157,
          0.1743709382675389,
          0.11505961132766251,
          0.08076857801675943,
          0.0625982343923345,
          0.05461280894424852,
          0.04928560524685152,
          0.04681911385669153,
          0.04511369842905234,
          0.04093499916692988,
          0.0369394776126194
         ],
         "b": [
          0.12789416595905231,
          0.23471552663879153,
          0.3903226281620914,
          0.5403542989095063,
          0.6732903770295915,
          0.75842682272897,
          0.827432405673366,
          0.8688449136517737,
          0.8925377054432309,
          0.9041575658316903,
          0.9137381533419379,
          0.9212507690908045,
          0.9267031600458571,
          0.9313675525361825,
          0.9358022160154287
         ],
         "c": [
          0.08188695219497936,
          0.08086667727844338,
          0.0780295572451495,
          0.07715684359282257,
          0.07267589751279276,
          0.06720223900349104,
          0.0575079829989716,
          0.05038650833146674,
          0.04486406016443471,
          0.04122962522406104,
          0.0369762414112105,
          0.03193011705250388,
          0.02818314152509061,
          0.027697448296887493,
          0.027258306371951684
         ],
         "line": {
          "color": "grey",
          "width": 0.25
         },
         "marker": {
          "color": "silver",
          "line": {
           "color": "black",
           "width": 0
          },
          "opacity": 0.9,
          "size": 6
         },
         "mode": "lines+text",
         "name": "AUS",
         "showlegend": false,
         "subplot": "ternary",
         "text": [
          "",
          "",
          "",
          "",
          "",
          "",
          "",
          "",
          "",
          "",
          "",
          "",
          "",
          "",
          ""
         ],
         "textfont": {
          "color": "black",
          "size": 6.005564496399213
         },
         "type": "scatterternary"
        },
        {
         "a": [
          0.7902188818459682,
          0.6844177960827653,
          0.5316478145927591,
          0.38248885749767125,
          0.2540337254576157
         ],
         "b": [
          0.12789416595905231,
          0.23471552663879153,
          0.3903226281620914,
          0.5403542989095063,
          0.6732903770295915
         ],
         "c": [
          0.08188695219497936,
          0.08086667727844338,
          0.0780295572451495,
          0.07715684359282257,
          0.07267589751279276
         ],
         "line": {
          "color": "grey",
          "width": 0.25
         },
         "marker": {
          "color": "silver",
          "line": {
           "color": "black",
           "width": 0
          },
          "opacity": 0.9,
          "size": 6
         },
         "mode": "lines+text",
         "name": "AUS",
         "showlegend": false,
         "subplot": "ternary",
         "text": [
          "",
          "",
          "",
          "",
          "",
          "",
          "",
          "",
          "",
          "",
          "",
          "",
          "",
          "",
          ""
         ],
         "textfont": {
          "color": "black",
          "size": 6.005564496399213
         },
         "type": "scatterternary"
        },
        {
         "a": [
          0.7817461475205705,
          0.7161809262894195,
          0.653797932295997,
          0.5802018569139412,
          0.497904290795651,
          0.4234714799835133,
          0.353580421690223,
          0.30496230839333205,
          0.26708693242441006,
          0.24263572919262344,
          0.2223508204951076,
          0.20267366692879074,
          0.18888549942695687,
          0.17178400682921802,
          0.15742960989849508
         ],
         "b": [
          0.13392061853423268,
          0.19552069767900598,
          0.24861498678280164,
          0.3111875641299878,
          0.382195204345221,
          0.45080627578643645,
          0.5225642305276148,
          0.5760315344231266,
          0.6173345429655503,
          0.6463764502893067,
          0.672058958624808,
          0.6972852371418916,
          0.7193415094532494,
          0.7442204658032125,
          0.7670323074613008
         ],
         "c": [
          0.08433323394519711,
          0.08829837603157453,
          0.09758708092120144,
          0.10861057895607083,
          0.11990050485912788,
          0.1257222442300502,
          0.12385534778216231,
          0.11900615718354139,
          0.11557852461003972,
          0.1109878205180699,
          0.10559022088008445,
          0.10004109592931744,
          0.09177299111979373,
          0.08399552736756943,
          0.07553808264020415
         ],
         "line": {
          "color": "grey",
          "width": 0.25
         },
         "marker": {
          "color": "silver",
          "line": {
           "color": "black",
           "width": 0
          },
          "opacity": 0.9,
          "size": 6
         },
         "mode": "lines+text",
         "name": "AUT",
         "showlegend": false,
         "subplot": "ternary",
         "text": [
          "",
          "",
          "",
          "",
          "",
          "",
          "",
          "",
          "",
          "",
          "",
          "",
          "",
          "",
          ""
         ],
         "textfont": {
          "color": "black",
          "size": 4.283323891888694
         },
         "type": "scatterternary"
        },
        {
         "a": [
          0.7817461475205705,
          0.7161809262894195,
          0.653797932295997,
          0.5802018569139412,
          0.497904290795651
         ],
         "b": [
          0.13392061853423268,
          0.19552069767900598,
          0.24861498678280164,
          0.3111875641299878,
          0.382195204345221
         ],
         "c": [
          0.08433323394519711,
          0.08829837603157453,
          0.09758708092120144,
          0.10861057895607083,
          0.11990050485912788
         ],
         "line": {
          "color": "grey",
          "width": 0.25
         },
         "marker": {
          "color": "silver",
          "line": {
           "color": "black",
           "width": 0
          },
          "opacity": 0.9,
          "size": 6
         },
         "mode": "lines+text",
         "name": "AUT",
         "showlegend": false,
         "subplot": "ternary",
         "text": [
          "",
          "",
          "",
          "",
          "",
          "",
          "",
          "",
          "",
          "",
          "",
          "",
          "",
          "",
          ""
         ],
         "textfont": {
          "color": "black",
          "size": 4.283323891888694
         },
         "type": "scatterternary"
        },
        {
         "a": [
          0.890499263886801,
          0.8681023584027673,
          0.8360806183998224,
          0.7946538918625243,
          0.7493441869162587,
          0.7120144164444305,
          0.6735441275864132,
          0.6467110233209166,
          0.6209289953703265,
          0.6050905914176845,
          0.6001042484225974,
          0.5913608367964656,
          0.578830312646691,
          0.565367792366237,
          0.5538286647065901
         ],
         "b": [
          0.012082693730533547,
          0.022861905595220174,
          0.03931445285537546,
          0.06130538329068906,
          0.08529465162011496,
          0.10341619895434144,
          0.12252754786758485,
          0.13961158382805172,
          0.15831910241877803,
          0.17426362480950025,
          0.17636370511528648,
          0.18896376647512048,
          0.20828332360885404,
          0.22665661706052087,
          0.2413153391722988
         ],
         "c": [
          0.09741804238266553,
          0.10903573600201259,
          0.12460492874480207,
          0.14404072484678665,
          0.16536116146362634,
          0.1845693846012279,
          0.20392832454600193,
          0.21367739285103174,
          0.22075190221089558,
          0.22064578377281518,
          0.2235320464621162,
          0.21967539672841402,
          0.2128863637444549,
          0.20797559057324239,
          0.20485599612111108
         ],
         "line": {
          "color": "grey",
          "width": 0.25
         },
         "marker": {
          "color": "silver",
          "line": {
           "color": "black",
           "width": 0
          },
          "opacity": 0.9,
          "size": 6
         },
         "mode": "lines+text",
         "name": "AZE",
         "showlegend": false,
         "subplot": "ternary",
         "text": [
          "",
          "",
          "",
          "",
          "",
          "",
          "",
          "",
          "",
          "",
          "",
          "",
          "",
          "",
          ""
         ],
         "textfont": {
          "color": "black",
          "size": 4.477155248223504
         },
         "type": "scatterternary"
        },
        {
         "a": [
          0.890499263886801,
          0.8681023584027673,
          0.8360806183998224,
          0.7946538918625243,
          0.7493441869162587
         ],
         "b": [
          0.012082693730533547,
          0.022861905595220174,
          0.03931445285537546,
          0.06130538329068906,
          0.08529465162011496
         ],
         "c": [
          0.09741804238266553,
          0.10903573600201259,
          0.12460492874480207,
          0.14404072484678665,
          0.16536116146362634
         ],
         "line": {
          "color": "grey",
          "width": 0.25
         },
         "marker": {
          "color": "silver",
          "line": {
           "color": "black",
           "width": 0
          },
          "opacity": 0.9,
          "size": 6
         },
         "mode": "lines+text",
         "name": "AZE",
         "showlegend": false,
         "subplot": "ternary",
         "text": [
          "",
          "",
          "",
          "",
          "",
          "",
          "",
          "",
          "",
          "",
          "",
          "",
          "",
          "",
          ""
         ],
         "textfont": {
          "color": "black",
          "size": 4.477155248223504
         },
         "type": "scatterternary"
        },
        {
         "a": [
          0.8202616247292702,
          0.7523491933244886,
          0.6479036615604447,
          0.5544139980127019,
          0.44093655886855226,
          0.35204136939924113,
          0.27005937588171514,
          0.2291346847760563,
          0.200115937592437,
          0.1830256013618591,
          0.17246477390467824,
          0.15485350974588977,
          0.14055258103312623,
          0.13600441426542317,
          0.13018312120950856
         ],
         "b": [
          0.09183060811666464,
          0.15354125148170758,
          0.25177733478954567,
          0.3312147646204345,
          0.43655228408067304,
          0.5283771821123088,
          0.6145055344031438,
          0.6578858517362561,
          0.6910516669975361,
          0.7049331764052861,
          0.7069602147499896,
          0.7047955543680642,
          0.7073325497883931,
          0.7032847433624021,
          0.6866140666572037
         ],
         "c": [
          0.08790776715406519,
          0.09410955519380397,
          0.10031900365000972,
          0.11437123736686385,
          0.12251115705077459,
          0.11958144848845015,
          0.11543508971514113,
          0.11297946348768773,
          0.10883239541002704,
          0.11204122223285495,
          0.12057501134533224,
          0.14035093588604594,
          0.15211486917848058,
          0.1607108423721747,
          0.1832028121332877
         ],
         "line": {
          "color": "grey",
          "width": 0.25
         },
         "marker": {
          "color": "silver",
          "line": {
           "color": "black",
           "width": 0
          },
          "opacity": 0.9,
          "size": 6
         },
         "mode": "lines+text",
         "name": "BHR",
         "showlegend": false,
         "subplot": "ternary",
         "text": [
          "",
          "",
          "",
          "",
          "",
          "",
          "",
          "",
          "",
          "",
          "",
          "",
          "",
          "",
          ""
         ],
         "textfont": {
          "color": "black",
          "size": 2.607979706744512
         },
         "type": "scatterternary"
        },
        {
         "a": [
          0.8202616247292702,
          0.7523491933244886,
          0.6479036615604447,
          0.5544139980127019,
          0.44093655886855226
         ],
         "b": [
          0.09183060811666464,
          0.15354125148170758,
          0.25177733478954567,
          0.3312147646204345,
          0.43655228408067304
         ],
         "c": [
          0.08790776715406519,
          0.09410955519380397,
          0.10031900365000972,
          0.11437123736686385,
          0.12251115705077459
         ],
         "line": {
          "color": "grey",
          "width": 0.25
         },
         "marker": {
          "color": "silver",
          "line": {
           "color": "black",
           "width": 0
          },
          "opacity": 0.9,
          "size": 6
         },
         "mode": "lines+text",
         "name": "BHR",
         "showlegend": false,
         "subplot": "ternary",
         "text": [
          "",
          "",
          "",
          "",
          "",
          "",
          "",
          "",
          "",
          "",
          "",
          "",
          "",
          "",
          ""
         ],
         "textfont": {
          "color": "black",
          "size": 2.607979706744512
         },
         "type": "scatterternary"
        },
        {
         "a": [
          0.6295710476395355,
          0.5922769925732986,
          0.5580436371415229,
          0.5176687118448191,
          0.4612401718969725,
          0.4092713381464468,
          0.3649907667016993,
          0.330838660379556,
          0.3017729437642568,
          0.2836324543139423,
          0.26892195447194295,
          0.2572638074988211,
          0.2472915025211363,
          0.23930669511275388,
          0.23181686302258947
         ],
         "b": [
          0.282045947217372,
          0.31646599204901055,
          0.34473441861191934,
          0.37857687371579996,
          0.43218232420419317,
          0.4847047894760854,
          0.530074521379269,
          0.5686521336263,
          0.6023426535221378,
          0.6241464418200583,
          0.6420626448221762,
          0.6577963629272896,
          0.6718808394457946,
          0.6828480054867186,
          0.6928713162735505
         ],
         "c": [
          0.08838300514309265,
          0.09125701537769082,
          0.09722194424655756,
          0.10375441443938101,
          0.10657750389883433,
          0.10602387237746783,
          0.1049347119190317,
          0.10050920599414397,
          0.09588440271360543,
          0.09222110386599947,
          0.089015400705881,
          0.08493982957388953,
          0.08082765803306911,
          0.07784529940052733,
          0.07531182070386006
         ],
         "line": {
          "color": "grey",
          "width": 0.25
         },
         "marker": {
          "color": "silver",
          "line": {
           "color": "black",
           "width": 0
          },
          "opacity": 0.9,
          "size": 6
         },
         "mode": "lines+text",
         "name": "BGD",
         "showlegend": false,
         "subplot": "ternary",
         "text": [
          "",
          "",
          "",
          "",
          "",
          "",
          "",
          "",
          "",
          "",
          "",
          "",
          "",
          "",
          ""
         ],
         "textfont": {
          "color": "black",
          "size": 11.593165546502235
         },
         "type": "scatterternary"
        },
        {
         "a": [
          0.6295710476395355,
          0.5922769925732986,
          0.5580436371415229,
          0.5176687118448191,
          0.4612401718969725
         ],
         "b": [
          0.282045947217372,
          0.31646599204901055,
          0.34473441861191934,
          0.37857687371579996,
          0.43218232420419317
         ],
         "c": [
          0.08838300514309265,
          0.09125701537769082,
          0.09722194424655756,
          0.10375441443938101,
          0.10657750389883433
         ],
         "line": {
          "color": "grey",
          "width": 0.25
         },
         "marker": {
          "color": "silver",
          "line": {
           "color": "black",
           "width": 0
          },
          "opacity": 0.9,
          "size": 6
         },
         "mode": "lines+text",
         "name": "BGD",
         "showlegend": false,
         "subplot": "ternary",
         "text": [
          "",
          "",
          "",
          "",
          "",
          "",
          "",
          "",
          "",
          "",
          "",
          "",
          "",
          "",
          ""
         ],
         "textfont": {
          "color": "black",
          "size": 11.593165546502235
         },
         "type": "scatterternary"
        },
        {
         "a": [
          0.8467508791302168,
          0.822499422384023,
          0.8034853495804047,
          0.777784261252046,
          0.7493747136547323,
          0.7321031119353445,
          0.7158897311565158,
          0.7009073442799403,
          0.6977804417247038,
          0.6900471804592656,
          0.6742786467330405,
          0.6479693631182402,
          0.6196193812807045,
          0.5777566213674556,
          0.5565626405508477
         ],
         "b": [
          0.05726586674411922,
          0.07045720343639303,
          0.07107382614026231,
          0.07087970815375078,
          0.07120409586490643,
          0.06698723371256207,
          0.06198513590010963,
          0.06342809178487344,
          0.05851990640158002,
          0.06376982244123025,
          0.07687268657169666,
          0.09849769952729656,
          0.12382256307620487,
          0.14776828373401066,
          0.16254684381798978
         ],
         "c": [
          0.09598325412566393,
          0.10704337417958396,
          0.12544082427933279,
          0.15133603059420322,
          0.1794211904803612,
          0.20090965435209318,
          0.2221251329433745,
          0.23566456393518637,
          0.24369965187371628,
          0.24618299709950425,
          0.24884866669526287,
          0.2535329373544633,
          0.2565580556430907,
          0.2744750948985336,
          0.2808905156311627
         ],
         "line": {
          "color": "grey",
          "width": 0.25
         },
         "marker": {
          "color": "silver",
          "line": {
           "color": "black",
           "width": 0
          },
          "opacity": 0.9,
          "size": 6
         },
         "mode": "lines+text",
         "name": "BRB",
         "showlegend": false,
         "subplot": "ternary",
         "text": [
          "",
          "",
          "",
          "",
          "",
          "",
          "",
          "",
          "",
          "",
          "",
          "",
          "",
          "",
          ""
         ],
         "textfont": {
          "color": "black",
          "size": 1.8234999284297813
         },
         "type": "scatterternary"
        },
        {
         "a": [
          0.8467508791302168,
          0.822499422384023,
          0.8034853495804047,
          0.777784261252046,
          0.7493747136547323
         ],
         "b": [
          0.05726586674411922,
          0.07045720343639303,
          0.07107382614026231,
          0.07087970815375078,
          0.07120409586490643
         ],
         "c": [
          0.09598325412566393,
          0.10704337417958396,
          0.12544082427933279,
          0.15133603059420322,
          0.1794211904803612
         ],
         "line": {
          "color": "grey",
          "width": 0.25
         },
         "marker": {
          "color": "silver",
          "line": {
           "color": "black",
           "width": 0
          },
          "opacity": 0.9,
          "size": 6
         },
         "mode": "lines+text",
         "name": "BRB",
         "showlegend": false,
         "subplot": "ternary",
         "text": [
          "",
          "",
          "",
          "",
          "",
          "",
          "",
          "",
          "",
          "",
          "",
          "",
          "",
          "",
          ""
         ],
         "textfont": {
          "color": "black",
          "size": 1.8234999284297813
         },
         "type": "scatterternary"
        },
        {
         "a": [
          0.7090076305342838,
          0.5680651178839675,
          0.4062782481097755,
          0.2761203552303506,
          0.1761144305896596,
          0.11420870207339792,
          0.07398216929986702,
          0.0547347557167839,
          0.04356248575129208,
          0.03849487698886586,
          0.03561235028016635,
          0.03347356538528559,
          0.03100041712310326,
          0.028795311377403873,
          0.028017693280214563
         ],
         "b": [
          0.21808503729725348,
          0.36647024410607915,
          0.5382119547826416,
          0.6772764373190958,
          0.7863307847387181,
          0.8558389518050619,
          0.9023816304781148,
          0.9260022053505972,
          0.9401498965279715,
          0.9471927219606311,
          0.9514506520295934,
          0.954879914891282,
          0.9587655548489284,
          0.9620291580921547,
          0.9634362831546415
         ],
         "c": [
          0.0729073321684627,
          0.06546463800995338,
          0.05550979710758301,
          0.046603207450553547,
          0.03755478467162249,
          0.029952346121540102,
          0.02363620022201809,
          0.019263038932618756,
          0.016287617720736412,
          0.014312401050503092,
          0.012936997690240077,
          0.011646519723432475,
          0.010234028027968483,
          0.009175530530441397,
          0.008546023565143899
         ],
         "line": {
          "color": "grey",
          "width": 0.25
         },
         "marker": {
          "color": "silver",
          "line": {
           "color": "black",
           "width": 0
          },
          "opacity": 0.9,
          "size": 6
         },
         "mode": "lines+text",
         "name": "BLR",
         "showlegend": false,
         "subplot": "ternary",
         "text": [
          "",
          "",
          "",
          "",
          "",
          "",
          "",
          "",
          "",
          "",
          "",
          "",
          "",
          "",
          ""
         ],
         "textfont": {
          "color": "black",
          "size": 4.392702579435516
         },
         "type": "scatterternary"
        },
        {
         "a": [
          0.7090076305342838,
          0.5680651178839675,
          0.4062782481097755,
          0.2761203552303506,
          0.1761144305896596
         ],
         "b": [
          0.21808503729725348,
          0.36647024410607915,
          0.5382119547826416,
          0.6772764373190958,
          0.7863307847387181
         ],
         "c": [
          0.0729073321684627,
          0.06546463800995338,
          0.05550979710758301,
          0.046603207450553547,
          0.03755478467162249
         ],
         "line": {
          "color": "grey",
          "width": 0.25
         },
         "marker": {
          "color": "silver",
          "line": {
           "color": "black",
           "width": 0
          },
          "opacity": 0.9,
          "size": 6
         },
         "mode": "lines+text",
         "name": "BLR",
         "showlegend": false,
         "subplot": "ternary",
         "text": [
          "",
          "",
          "",
          "",
          "",
          "",
          "",
          "",
          "",
          "",
          "",
          "",
          "",
          "",
          ""
         ],
         "textfont": {
          "color": "black",
          "size": 4.392702579435516
         },
         "type": "scatterternary"
        },
        {
         "a": [
          0.7316330087049222,
          0.6095904796815143,
          0.478743203633542,
          0.35906077624382465,
          0.25283656129772425,
          0.17802514406506545,
          0.12386552122137942,
          0.09467805954260473,
          0.07632398812058852,
          0.06526532055912883,
          0.05725299609409762,
          0.05048750779301239,
          0.04627661333842805,
          0.04129001304567236,
          0.03779522737795112
         ],
         "b": [
          0.1909277821612277,
          0.31729364234349017,
          0.45220285328718596,
          0.5761247805779975,
          0.6885613390102755,
          0.7707631465664738,
          0.8334363822727342,
          0.8689180893138223,
          0.8911955432143821,
          0.9058811335024646,
          0.9171444285923347,
          0.9268156111243118,
          0.9335484035321078,
          0.940865383269785,
          0.9463842511507562
         ],
         "c": [
          0.07743920913385013,
          0.0731158779749955,
          0.06905394307927203,
          0.06481444317817768,
          0.05860209969200034,
          0.051211709368460534,
          0.04269809650588654,
          0.03640385114357286,
          0.032480468665029384,
          0.02885354593840673,
          0.025602575313567598,
          0.022696881082675972,
          0.020174983129463985,
          0.017844603684542576,
          0.015820521471292582
         ],
         "line": {
          "color": "grey",
          "width": 0.25
         },
         "marker": {
          "color": "silver",
          "line": {
           "color": "black",
           "width": 0
          },
          "opacity": 0.9,
          "size": 6
         },
         "mode": "lines+text",
         "name": "BEL",
         "showlegend": false,
         "subplot": "ternary",
         "text": [
          "",
          "",
          "",
          "",
          "",
          "",
          "",
          "",
          "",
          "",
          "",
          "",
          "",
          "",
          ""
         ],
         "textfont": {
          "color": "black",
          "size": 4.642819857677701
         },
         "type": "scatterternary"
        },
        {
         "a": [
          0.7316330087049222,
          0.6095904796815143,
          0.478743203633542,
          0.35906077624382465,
          0.25283656129772425
         ],
         "b": [
          0.1909277821612277,
          0.31729364234349017,
          0.45220285328718596,
          0.5761247805779975,
          0.6885613390102755
         ],
         "c": [
          0.07743920913385013,
          0.0731158779749955,
          0.06905394307927203,
          0.06481444317817768,
          0.05860209969200034
         ],
         "line": {
          "color": "grey",
          "width": 0.25
         },
         "marker": {
          "color": "silver",
          "line": {
           "color": "black",
           "width": 0
          },
          "opacity": 0.9,
          "size": 6
         },
         "mode": "lines+text",
         "name": "BEL",
         "showlegend": false,
         "subplot": "ternary",
         "text": [
          "",
          "",
          "",
          "",
          "",
          "",
          "",
          "",
          "",
          "",
          "",
          "",
          "",
          "",
          ""
         ],
         "textfont": {
          "color": "black",
          "size": 4.642819857677701
         },
         "type": "scatterternary"
        },
        {
         "a": [
          0.6316163857286392,
          0.5095823161501611,
          0.42819042160131326,
          0.3703750545917335,
          0.31129648970248697,
          0.27973345861931725,
          0.25784713823147226,
          0.24532067190637996,
          0.25983266165834573,
          0.2761415099135667,
          0.2919187169023457,
          0.3025439183085165,
          0.32084245568651215,
          0.31290217953664573,
          0.30357647945387745
         ],
         "b": [
          0.30380241142190656,
          0.4304257418813931,
          0.5072408162042303,
          0.5415312966703442,
          0.570832657770605,
          0.5862107458656756,
          0.5981372160345559,
          0.605991908319688,
          0.6001273245545073,
          0.5910172883321912,
          0.583015791302525,
          0.5809739376221817,
          0.5613281589111153,
          0.5645006844037833,
          0.5717011450397408
         ],
         "c": [
          0.0645812028494541,
          0.0599919419684457,
          0.06456876219445658,
          0.08809364873792241,
          0.1178708525269078,
          0.13405579551500754,
          0.1440156457339716,
          0.14868741977393196,
          0.14004001378714703,
          0.13284120175424188,
          0.1250654917951292,
          0.1164821440693017,
          0.11782938540237274,
          0.12259713605957107,
          0.12472237550638163
         ],
         "line": {
          "color": "grey",
          "width": 0.25
         },
         "marker": {
          "color": "silver",
          "line": {
           "color": "black",
           "width": 0
          },
          "opacity": 0.9,
          "size": 6
         },
         "mode": "lines+text",
         "name": "BLZ",
         "showlegend": false,
         "subplot": "ternary",
         "text": [
          "",
          "",
          "",
          "",
          "",
          "",
          "",
          "",
          "",
          "",
          "",
          "",
          "",
          "",
          ""
         ],
         "textfont": {
          "color": "black",
          "size": 1.9419730526624397
         },
         "type": "scatterternary"
        },
        {
         "a": [
          0.6316163857286392,
          0.5095823161501611,
          0.42819042160131326,
          0.3703750545917335,
          0.31129648970248697
         ],
         "b": [
          0.30380241142190656,
          0.4304257418813931,
          0.5072408162042303,
          0.5415312966703442,
          0.570832657770605
         ],
         "c": [
          0.0645812028494541,
          0.0599919419684457,
          0.06456876219445658,
          0.08809364873792241,
          0.1178708525269078
         ],
         "line": {
          "color": "grey",
          "width": 0.25
         },
         "marker": {
          "color": "silver",
          "line": {
           "color": "black",
           "width": 0
          },
          "opacity": 0.9,
          "size": 6
         },
         "mode": "lines+text",
         "name": "BLZ",
         "showlegend": false,
         "subplot": "ternary",
         "text": [
          "",
          "",
          "",
          "",
          "",
          "",
          "",
          "",
          "",
          "",
          "",
          "",
          "",
          "",
          ""
         ],
         "textfont": {
          "color": "black",
          "size": 1.9419730526624397
         },
         "type": "scatterternary"
        },
        {
         "a": [
          0.5394197867265872,
          0.492103890667677,
          0.4479525227374836,
          0.4055926053066709,
          0.3644516054225001,
          0.3330139150292146,
          0.30762885534557904,
          0.29047980831182574,
          0.2765660551621972,
          0.2682766979013016,
          0.26064578132313343,
          0.2548015408859532,
          0.2512109064125337,
          0.24667954503379452,
          0.2401441080969503
         ],
         "b": [
          0.36822555741488366,
          0.41386449138796294,
          0.4570742722979281,
          0.4977543274700143,
          0.5389110915136442,
          0.5687438075127618,
          0.591124677889459,
          0.6045049413631008,
          0.6139801505529638,
          0.6173251726916171,
          0.6207015592326576,
          0.6262859650048791,
          0.6329545196982268,
          0.6431886864981071,
          0.6570417304621208
         ],
         "c": [
          0.09235465585852916,
          0.09403161794435992,
          0.09497320496458822,
          0.09665306722331478,
          0.09663730306385587,
          0.09824227745802386,
          0.10124646676496199,
          0.10501525032507343,
          0.10945379428483923,
          0.11439812940708108,
          0.11865265944420918,
          0.11891249410916763,
          0.11583457388923935,
          0.11013176846809843,
          0.10281416144092899
         ],
         "line": {
          "color": "grey",
          "width": 0.25
         },
         "marker": {
          "color": "silver",
          "line": {
           "color": "black",
           "width": 0
          },
          "opacity": 0.9,
          "size": 6
         },
         "mode": "lines+text",
         "name": "BEN",
         "showlegend": false,
         "subplot": "ternary",
         "text": [
          "",
          "",
          "",
          "",
          "",
          "",
          "",
          "",
          "",
          "",
          "",
          "",
          "",
          "",
          ""
         ],
         "textfont": {
          "color": "black",
          "size": 4.756977190336332
         },
         "type": "scatterternary"
        },
        {
         "a": [
          0.5394197867265872,
          0.492103890667677,
          0.4479525227374836,
          0.4055926053066709,
          0.3644516054225001
         ],
         "b": [
          0.36822555741488366,
          0.41386449138796294,
          0.4570742722979281,
          0.4977543274700143,
          0.5389110915136442
         ],
         "c": [
          0.09235465585852916,
          0.09403161794435992,
          0.09497320496458822,
          0.09665306722331478,
          0.09663730306385587
         ],
         "line": {
          "color": "grey",
          "width": 0.25
         },
         "marker": {
          "color": "silver",
          "line": {
           "color": "black",
           "width": 0
          },
          "opacity": 0.9,
          "size": 6
         },
         "mode": "lines+text",
         "name": "BEN",
         "showlegend": false,
         "subplot": "ternary",
         "text": [
          "",
          "",
          "",
          "",
          "",
          "",
          "",
          "",
          "",
          "",
          "",
          "",
          "",
          "",
          ""
         ],
         "textfont": {
          "color": "black",
          "size": 4.756977190336332
         },
         "type": "scatterternary"
        },
        {
         "a": [
          0.5347447679564797,
          0.44364322143689716,
          0.39030227659488165,
          0.3456253522989991,
          0.3141219174627303,
          0.29119992424916696,
          0.27411990304735223,
          0.2576434449468112,
          0.2454232141251821,
          0.24429691039361423,
          0.2491411550136557,
          0.25032687153746885,
          0.24621434876710233,
          0.24003825185247651,
          0.23185241584778069
         ],
         "b": [
          0.40291027790468376,
          0.4967101330888411,
          0.5471281618358804,
          0.5873044771930147,
          0.6116807215973744,
          0.6276981364454952,
          0.6377120895498937,
          0.6532330567918179,
          0.6638547561672307,
          0.6630082920110763,
          0.6556099764544621,
          0.6540811678184801,
          0.6589173321372798,
          0.6655796894315681,
          0.6774892739675313
         ],
         "c": [
          0.06234495413883654,
          0.059646645474261684,
          0.06256956156923803,
          0.06707017050798648,
          0.0741973609398952,
          0.08110193930533793,
          0.08816800740275425,
          0.08912349826137093,
          0.09072202970758729,
          0.09269479759530944,
          0.09524886853188225,
          0.09559196064405093,
          0.09486831909561798,
          0.0943820587159555,
          0.09065831018468815
         ],
         "line": {
          "color": "grey",
          "width": 0.25
         },
         "marker": {
          "color": "silver",
          "line": {
           "color": "black",
           "width": 0
          },
          "opacity": 0.9,
          "size": 6
         },
         "mode": "lines+text",
         "name": "BTN",
         "showlegend": false,
         "subplot": "ternary",
         "text": [
          "",
          "",
          "",
          "",
          "",
          "",
          "",
          "",
          "",
          "",
          "",
          "",
          "",
          "",
          ""
         ],
         "textfont": {
          "color": "black",
          "size": 2.233479306998123
         },
         "type": "scatterternary"
        },
        {
         "a": [
          0.5347447679564797,
          0.44364322143689716,
          0.39030227659488165,
          0.3456253522989991,
          0.3141219174627303
         ],
         "b": [
          0.40291027790468376,
          0.4967101330888411,
          0.5471281618358804,
          0.5873044771930147,
          0.6116807215973744
         ],
         "c": [
          0.06234495413883654,
          0.059646645474261684,
          0.06256956156923803,
          0.06707017050798648,
          0.0741973609398952
         ],
         "line": {
          "color": "grey",
          "width": 0.25
         },
         "marker": {
          "color": "silver",
          "line": {
           "color": "black",
           "width": 0
          },
          "opacity": 0.9,
          "size": 6
         },
         "mode": "lines+text",
         "name": "BTN",
         "showlegend": false,
         "subplot": "ternary",
         "text": [
          "",
          "",
          "",
          "",
          "",
          "",
          "",
          "",
          "",
          "",
          "",
          "",
          "",
          "",
          ""
         ],
         "textfont": {
          "color": "black",
          "size": 2.233479306998123
         },
         "type": "scatterternary"
        },
        {
         "a": [
          0.7587977414988291,
          0.6693498088221852,
          0.5635830827133543,
          0.48358103750095266,
          0.4062220031460821,
          0.3629164568654722,
          0.3270175892938914,
          0.3050665636389866,
          0.286254698357153,
          0.2823868818542047,
          0.28279528171433327,
          0.28409304068393426,
          0.28410485339388303,
          0.2782798485933707,
          0.269796515059873
         ],
         "b": [
          0.15895587393284907,
          0.24802430062182954,
          0.3536241888657923,
          0.4271361403782435,
          0.49566131033371674,
          0.527485348858621,
          0.5480186725857297,
          0.557125235652712,
          0.5642135724822708,
          0.5628450507557331,
          0.5615633952473029,
          0.5607844141586934,
          0.5641808791079321,
          0.5759846184329347,
          0.5899629702846758
         ],
         "c": [
          0.08224638456832185,
          0.08262589055598522,
          0.08279272842085314,
          0.08928282212080384,
          0.09811668652020099,
          0.10959819427590703,
          0.12496373812037906,
          0.1378082007083014,
          0.14953172916057614,
          0.1547680673900623,
          0.1556413230383638,
          0.15512254515737206,
          0.1517142674981847,
          0.1457355329736945,
          0.14024051465545095
         ],
         "line": {
          "color": "grey",
          "width": 0.25
         },
         "marker": {
          "color": "silver",
          "line": {
           "color": "black",
           "width": 0
          },
          "opacity": 0.9,
          "size": 6
         },
         "mode": "lines+text",
         "name": "BOL",
         "showlegend": false,
         "subplot": "ternary",
         "text": [
          "",
          "",
          "",
          "",
          "",
          "",
          "",
          "",
          "",
          "",
          "",
          "",
          "",
          "",
          ""
         ],
         "textfont": {
          "color": "black",
          "size": 4.683024244039842
         },
         "type": "scatterternary"
        },
        {
         "a": [
          0.7587977414988291,
          0.6693498088221852,
          0.5635830827133543,
          0.48358103750095266,
          0.4062220031460821
         ],
         "b": [
          0.15895587393284907,
          0.24802430062182954,
          0.3536241888657923,
          0.4271361403782435,
          0.49566131033371674
         ],
         "c": [
          0.08224638456832185,
          0.08262589055598522,
          0.08279272842085314,
          0.08928282212080384,
          0.09811668652020099
         ],
         "line": {
          "color": "grey",
          "width": 0.25
         },
         "marker": {
          "color": "silver",
          "line": {
           "color": "black",
           "width": 0
          },
          "opacity": 0.9,
          "size": 6
         },
         "mode": "lines+text",
         "name": "BOL",
         "showlegend": false,
         "subplot": "ternary",
         "text": [
          "",
          "",
          "",
          "",
          "",
          "",
          "",
          "",
          "",
          "",
          "",
          "",
          "",
          "",
          ""
         ],
         "textfont": {
          "color": "black",
          "size": 4.683024244039842
         },
         "type": "scatterternary"
        },
        {
         "a": [
          0.8543283779195415,
          0.7994937669242538,
          0.7170215024261911,
          0.6172172050175042,
          0.5043298557217518,
          0.40433553879762146,
          0.3096683715677302,
          0.2440432186887781,
          0.19662771013816538,
          0.16874300823358726,
          0.1491041367170975,
          0.13519566117319848,
          0.12547724183616538,
          0.11704793898992628,
          0.11009792348112649
         ],
         "b": [
          0.05683017851422146,
          0.1051827756291768,
          0.18216107227079964,
          0.2770780190251208,
          0.38875718993338526,
          0.4920729246430464,
          0.5954370992380217,
          0.6729269646385369,
          0.7305759303766346,
          0.7669111586945124,
          0.793363427695421,
          0.8127014510721113,
          0.8265312175620537,
          0.838326917116193,
          0.8491620254041268
         ],
         "c": [
          0.08884144356623712,
          0.0953234574465696,
          0.10081742530300909,
          0.10570477595737524,
          0.10691295434486286,
          0.10359153655933209,
          0.09489452919424801,
          0.08302981667268491,
          0.07279635948520013,
          0.06434583307190042,
          0.057532435587481605,
          0.05210288775469008,
          0.047991540601780736,
          0.04462514389388084,
          0.04074005111474687
         ],
         "line": {
          "color": "grey",
          "width": 0.25
         },
         "marker": {
          "color": "silver",
          "line": {
           "color": "black",
           "width": 0
          },
          "opacity": 0.9,
          "size": 6
         },
         "mode": "lines+text",
         "name": "BIH",
         "showlegend": false,
         "subplot": "ternary",
         "text": [
          "",
          "",
          "",
          "",
          "",
          "",
          "",
          "",
          "",
          "",
          "",
          "",
          "",
          "",
          ""
         ],
         "textfont": {
          "color": "black",
          "size": 3.2186339236598704
         },
         "type": "scatterternary"
        },
        {
         "a": [
          0.8543283779195415,
          0.7994937669242538,
          0.7170215024261911,
          0.6172172050175042,
          0.5043298557217518
         ],
         "b": [
          0.05683017851422146,
          0.1051827756291768,
          0.18216107227079964,
          0.2770780190251208,
          0.38875718993338526
         ],
         "c": [
          0.08884144356623712,
          0.0953234574465696,
          0.10081742530300909,
          0.10570477595737524,
          0.10691295434486286
         ],
         "line": {
          "color": "grey",
          "width": 0.25
         },
         "marker": {
          "color": "silver",
          "line": {
           "color": "black",
           "width": 0
          },
          "opacity": 0.9,
          "size": 6
         },
         "mode": "lines+text",
         "name": "BIH",
         "showlegend": false,
         "subplot": "ternary",
         "text": [
          "",
          "",
          "",
          "",
          "",
          "",
          "",
          "",
          "",
          "",
          "",
          "",
          "",
          "",
          ""
         ],
         "textfont": {
          "color": "black",
          "size": 3.2186339236598704
         },
         "type": "scatterternary"
        },
        {
         "a": [
          0.7969347050713044,
          0.6945969512017757,
          0.6589565857170371,
          0.6321480892502545,
          0.6086475991232558,
          0.5811935604218328,
          0.5623736103505684,
          0.5452636985690185,
          0.5207579632845157,
          0.49647811051356205,
          0.46325166101587795,
          0.41954123243173347,
          0.3697774399673776,
          0.3332515817241425,
          0.31370677830213445
         ],
         "b": [
          0.1154362428988665,
          0.21408649380475842,
          0.23979181662839,
          0.24934582134738456,
          0.24522293714135104,
          0.24456383420880218,
          0.23757576218732554,
          0.24612995475971294,
          0.27153818046171485,
          0.30443738647460505,
          0.34781827622220846,
          0.3942764160050985,
          0.4347623357084369,
          0.4573039859548959,
          0.47342396819226495
         ],
         "c": [
          0.0876290520298291,
          0.09131655499346579,
          0.1012515976545731,
          0.11850608940236075,
          0.14612946373539315,
          0.17424260536936512,
          0.20005062746210595,
          0.20860634667126843,
          0.20770385625376928,
          0.1990845030118329,
          0.18893006276191351,
          0.18618235156316787,
          0.19546022432418553,
          0.20944443232096172,
          0.2128692535056005
         ],
         "line": {
          "color": "grey",
          "width": 0.25
         },
         "marker": {
          "color": "silver",
          "line": {
           "color": "black",
           "width": 0
          },
          "opacity": 0.9,
          "size": 6
         },
         "mode": "lines+text",
         "name": "BWA",
         "showlegend": false,
         "subplot": "ternary",
         "text": [
          "",
          "",
          "",
          "",
          "",
          "",
          "",
          "",
          "",
          "",
          "",
          "",
          "",
          "",
          ""
         ],
         "textfont": {
          "color": "black",
          "size": 2.9830839029263903
         },
         "type": "scatterternary"
        },
        {
         "a": [
          0.7969347050713044,
          0.6945969512017757,
          0.6589565857170371,
          0.6321480892502545,
          0.6086475991232558
         ],
         "b": [
          0.1154362428988665,
          0.21408649380475842,
          0.23979181662839,
          0.24934582134738456,
          0.24522293714135104
         ],
         "c": [
          0.0876290520298291,
          0.09131655499346579,
          0.1012515976545731,
          0.11850608940236075,
          0.14612946373539315
         ],
         "line": {
          "color": "grey",
          "width": 0.25
         },
         "marker": {
          "color": "silver",
          "line": {
           "color": "black",
           "width": 0
          },
          "opacity": 0.9,
          "size": 6
         },
         "mode": "lines+text",
         "name": "BWA",
         "showlegend": false,
         "subplot": "ternary",
         "text": [
          "",
          "",
          "",
          "",
          "",
          "",
          "",
          "",
          "",
          "",
          "",
          "",
          "",
          "",
          ""
         ],
         "textfont": {
          "color": "black",
          "size": 2.9830839029263903
         },
         "type": "scatterternary"
        },
        {
         "a": [
          0.8268746523421971,
          0.7404873331488864,
          0.6400622241759742,
          0.5659292549284801,
          0.4934608092883135,
          0.42926172242476635,
          0.36276562094123577,
          0.3131087035311928,
          0.2708302620870944,
          0.23683901029030557,
          0.2026235690108651,
          0.18049146317830184,
          0.16071027607231975,
          0.14509416918975648,
          0.13207413939748208
         ],
         "b": [
          0.08750842819959001,
          0.17174707056020616,
          0.2682297967560471,
          0.3335279222102704,
          0.39836792899314855,
          0.45790183288778846,
          0.5245266980136508,
          0.5799358039408697,
          0.6266998715437179,
          0.6646399899934134,
          0.7022803665081234,
          0.7231991086235728,
          0.7317517464845531,
          0.7351916502247619,
          0.7441993433916916
         ],
         "c": [
          0.08561691945821272,
          0.0877655962909076,
          0.09170797906797863,
          0.10054282286124945,
          0.10817126171853816,
          0.11283644468744508,
          0.11270768104511338,
          0.10695549252793753,
          0.10246986636918783,
          0.09852099971628099,
          0.0950960644810114,
          0.09630942819812541,
          0.1075379774431271,
          0.11971418058548164,
          0.12372651721082625
         ],
         "line": {
          "color": "grey",
          "width": 0.25
         },
         "marker": {
          "color": "green",
          "line": {
           "color": "black",
           "width": 0
          },
          "opacity": 0.9,
          "size": 6
         },
         "mode": "lines+text",
         "name": "BRA",
         "showlegend": false,
         "subplot": "ternary",
         "text": [
          "",
          "",
          "",
          "",
          "",
          "",
          "",
          "",
          "",
          "",
          "",
          "",
          "",
          "",
          ""
         ],
         "textfont": {
          "color": "black",
          "size": 12.682422456701117
         },
         "type": "scatterternary"
        },
        {
         "a": [
          0.8268746523421971,
          0.7404873331488864,
          0.6400622241759742,
          0.5659292549284801,
          0.4934608092883135
         ],
         "b": [
          0.08750842819959001,
          0.17174707056020616,
          0.2682297967560471,
          0.3335279222102704,
          0.39836792899314855
         ],
         "c": [
          0.08561691945821272,
          0.0877655962909076,
          0.09170797906797863,
          0.10054282286124945,
          0.10817126171853816
         ],
         "line": {
          "color": "grey",
          "width": 0.25
         },
         "marker": {
          "color": "green",
          "line": {
           "color": "black",
           "width": 0
          },
          "opacity": 0.9,
          "size": 6
         },
         "mode": "lines+text",
         "name": "BRA",
         "showlegend": false,
         "subplot": "ternary",
         "text": [
          "",
          "",
          "",
          "",
          "",
          "",
          "",
          "",
          "",
          "",
          "",
          "",
          "",
          "",
          ""
         ],
         "textfont": {
          "color": "black",
          "size": 12.682422456701117
         },
         "type": "scatterternary"
        },
        {
         "a": [
          0.8027026492890521,
          0.71070474818019,
          0.5918537778045688,
          0.4949473744716185,
          0.39982183750102673,
          0.33414465815001887,
          0.27837386046862816,
          0.24405853299650163,
          0.2135008473030059,
          0.20228226590592718,
          0.19046250919642183,
          0.1779142838993581,
          0.1762516393754562,
          0.17161130573063005,
          0.17011245855283225
         ],
         "b": [
          0.110068252132881,
          0.19847719113183343,
          0.3174260121057046,
          0.4081158146930358,
          0.5014097269513084,
          0.5634386515002332,
          0.6212124416551394,
          0.6558565495381374,
          0.6787410719031748,
          0.6844162460432859,
          0.6863151196651758,
          0.6883039324945743,
          0.6823822494874036,
          0.680811358999671,
          0.6807896269577801
         ],
         "c": [
          0.08722909857806692,
          0.09081806068797663,
          0.09072021008972658,
          0.09693681083534575,
          0.09876843554766514,
          0.10241669034974804,
          0.10041369787623233,
          0.1000849174653608,
          0.10775808079381916,
          0.11330148805078682,
          0.12322237113840251,
          0.13378178360606752,
          0.14136611113714032,
          0.147577335269699,
          0.1490979144893878
         ],
         "line": {
          "color": "grey",
          "width": 0.25
         },
         "marker": {
          "color": "silver",
          "line": {
           "color": "black",
           "width": 0
          },
          "opacity": 0.9,
          "size": 6
         },
         "mode": "lines+text",
         "name": "BRN",
         "showlegend": false,
         "subplot": "ternary",
         "text": [
          "",
          "",
          "",
          "",
          "",
          "",
          "",
          "",
          "",
          "",
          "",
          "",
          "",
          "",
          ""
         ],
         "textfont": {
          "color": "black",
          "size": 1.985996719985936
         },
         "type": "scatterternary"
        },
        {
         "a": [
          0.8027026492890521,
          0.71070474818019,
          0.5918537778045688,
          0.4949473744716185,
          0.39982183750102673
         ],
         "b": [
          0.110068252132881,
          0.19847719113183343,
          0.3174260121057046,
          0.4081158146930358,
          0.5014097269513084
         ],
         "c": [
          0.08722909857806692,
          0.09081806068797663,
          0.09072021008972658,
          0.09693681083534575,
          0.09876843554766514
         ],
         "line": {
          "color": "grey",
          "width": 0.25
         },
         "marker": {
          "color": "silver",
          "line": {
           "color": "black",
           "width": 0
          },
          "opacity": 0.9,
          "size": 6
         },
         "mode": "lines+text",
         "name": "BRN",
         "showlegend": false,
         "subplot": "ternary",
         "text": [
          "",
          "",
          "",
          "",
          "",
          "",
          "",
          "",
          "",
          "",
          "",
          "",
          "",
          "",
          ""
         ],
         "textfont": {
          "color": "black",
          "size": 1.985996719985936
         },
         "type": "scatterternary"
        },
        {
         "a": [
          0.7230559169884887,
          0.6041577147536786,
          0.4784186941416161,
          0.36673840381014877,
          0.2742819959466544,
          0.20749274394367406,
          0.15310038966457046,
          0.117911302124377,
          0.09409927144695703,
          0.07962082022493464,
          0.06955581176938737,
          0.06236814461236187,
          0.057418558921611074,
          0.052841777951189106,
          0.04901643711372841
         ],
         "b": [
          0.20027599990071293,
          0.3226189225978585,
          0.4526557216666509,
          0.5687691426631367,
          0.6659025924396406,
          0.7378292788605715,
          0.7988853594117433,
          0.8405382722121331,
          0.8693319733479885,
          0.8875343111311949,
          0.9005673887585858,
          0.9103483519656359,
          0.9173630511020121,
          0.9234889031957946,
          0.9290308427912156
         ],
         "c": [
          0.07666808311079845,
          0.07322336264846306,
          0.06892558419173309,
          0.06449245352671457,
          0.059815411613705044,
          0.05467797719575473,
          0.04801425092368635,
          0.04155042566349004,
          0.03656875520505456,
          0.03284486864387064,
          0.029876799472026958,
          0.02728350342200239,
          0.025218389976376862,
          0.023669318853016104,
          0.021952720095056135
         ],
         "line": {
          "color": "grey",
          "width": 0.25
         },
         "marker": {
          "color": "silver",
          "line": {
           "color": "black",
           "width": 0
          },
          "opacity": 0.9,
          "size": 6
         },
         "mode": "lines+text",
         "name": "BGR",
         "showlegend": false,
         "subplot": "ternary",
         "text": [
          "",
          "",
          "",
          "",
          "",
          "",
          "",
          "",
          "",
          "",
          "",
          "",
          "",
          "",
          ""
         ],
         "textfont": {
          "color": "black",
          "size": 3.985912067184488
         },
         "type": "scatterternary"
        },
        {
         "a": [
          0.7230559169884887,
          0.6041577147536786,
          0.4784186941416161,
          0.36673840381014877,
          0.2742819959466544
         ],
         "b": [
          0.20027599990071293,
          0.3226189225978585,
          0.4526557216666509,
          0.5687691426631367,
          0.6659025924396406
         ],
         "c": [
          0.07666808311079845,
          0.07322336264846306,
          0.06892558419173309,
          0.06449245352671457,
          0.059815411613705044
         ],
         "line": {
          "color": "grey",
          "width": 0.25
         },
         "marker": {
          "color": "silver",
          "line": {
           "color": "black",
           "width": 0
          },
          "opacity": 0.9,
          "size": 6
         },
         "mode": "lines+text",
         "name": "BGR",
         "showlegend": false,
         "subplot": "ternary",
         "text": [
          "",
          "",
          "",
          "",
          "",
          "",
          "",
          "",
          "",
          "",
          "",
          "",
          "",
          "",
          ""
         ],
         "textfont": {
          "color": "black",
          "size": 3.985912067184488
         },
         "type": "scatterternary"
        },
        {
         "a": [
          0.4902219164805447,
          0.4497001764068223,
          0.4118048472261644,
          0.3735550466469765,
          0.33525689290548355,
          0.30447220944154596,
          0.27858327103939595,
          0.2599525126734054,
          0.2446964466406089,
          0.23478014571043182,
          0.22544986204976628,
          0.2178497715071544,
          0.21285772109462142,
          0.20808190764494494,
          0.20307129329046386
         ],
         "b": [
          0.41780684218255015,
          0.4570207622586676,
          0.4937867324218509,
          0.5307244179991499,
          0.5691865397764335,
          0.5982523344592392,
          0.6202929381798277,
          0.6322208222029855,
          0.6390724995823656,
          0.639585266796206,
          0.6384539468852104,
          0.6378705587848535,
          0.6377727753966778,
          0.6403071633708668,
          0.6479179367045158
         ],
         "c": [
          0.09197124133690511,
          0.09327906133451018,
          0.09440842035198473,
          0.09572053535387338,
          0.09555656731808304,
          0.09727545609921463,
          0.10112379078077659,
          0.10782666512360915,
          0.11623105377702544,
          0.12563458749336237,
          0.13609619106502324,
          0.14427966970799205,
          0.14936950350870087,
          0.15161092898418826,
          0.1490107700050204
         ],
         "line": {
          "color": "grey",
          "width": 0.25
         },
         "marker": {
          "color": "silver",
          "line": {
           "color": "black",
           "width": 0
          },
          "opacity": 0.9,
          "size": 6
         },
         "mode": "lines+text",
         "name": "BFA",
         "showlegend": false,
         "subplot": "ternary",
         "text": [
          "",
          "",
          "",
          "",
          "",
          "",
          "",
          "",
          "",
          "",
          "",
          "",
          "",
          "",
          ""
         ],
         "textfont": {
          "color": "black",
          "size": 5.648702106649011
         },
         "type": "scatterternary"
        },
        {
         "a": [
          0.4902219164805447,
          0.4497001764068223,
          0.4118048472261644,
          0.3735550466469765,
          0.33525689290548355
         ],
         "b": [
          0.41780684218255015,
          0.4570207622586676,
          0.4937867324218509,
          0.5307244179991499,
          0.5691865397764335
         ],
         "c": [
          0.09197124133690511,
          0.09327906133451018,
          0.09440842035198473,
          0.09572053535387338,
          0.09555656731808304
         ],
         "line": {
          "color": "grey",
          "width": 0.25
         },
         "marker": {
          "color": "silver",
          "line": {
           "color": "black",
           "width": 0
          },
          "opacity": 0.9,
          "size": 6
         },
         "mode": "lines+text",
         "name": "BFA",
         "showlegend": false,
         "subplot": "ternary",
         "text": [
          "",
          "",
          "",
          "",
          "",
          "",
          "",
          "",
          "",
          "",
          "",
          "",
          "",
          "",
          ""
         ],
         "textfont": {
          "color": "black",
          "size": 5.648702106649011
         },
         "type": "scatterternary"
        },
        {
         "a": [
          0.35007607361228354,
          0.3494234190874985,
          0.3413042410238834,
          0.31608148028481686,
          0.2901684174525083,
          0.2657922810972253,
          0.24497377761024097,
          0.2290755723366034,
          0.21470913902104763,
          0.20476519064403254,
          0.196019552114908,
          0.18954618908306176,
          0.1841756416903496,
          0.18094539447970248,
          0.17873760931460092
         ],
         "b": [
          0.5778813117242293,
          0.5765292191851465,
          0.582661347739077,
          0.606780254894555,
          0.632713431516946,
          0.6568824188373287,
          0.6772549639638666,
          0.6898910925740468,
          0.6969758331208028,
          0.6991481707078947,
          0.7002623371371801,
          0.7000378863817115,
          0.7008339581835272,
          0.7046060505978468,
          0.7122056247308851
         ],
         "c": [
          0.07204261466348699,
          0.07404736172735497,
          0.07603441123703969,
          0.07713826482062813,
          0.07711815103054587,
          0.07732530006544601,
          0.0777712584258922,
          0.08103333508934973,
          0.08831502785814964,
          0.0960866386480729,
          0.1037181107479119,
          0.11041592453522683,
          0.11499040012612324,
          0.11444855492245064,
          0.10905676595451388
         ],
         "line": {
          "color": "grey",
          "width": 0.25
         },
         "marker": {
          "color": "silver",
          "line": {
           "color": "black",
           "width": 0
          },
          "opacity": 0.9,
          "size": 6
         },
         "mode": "lines+text",
         "name": "BDI",
         "showlegend": false,
         "subplot": "ternary",
         "text": [
          "",
          "",
          "",
          "",
          "",
          "",
          "",
          "",
          "",
          "",
          "",
          "",
          "",
          "",
          ""
         ],
         "textfont": {
          "color": "black",
          "size": 4.706698109106254
         },
         "type": "scatterternary"
        },
        {
         "a": [
          0.35007607361228354,
          0.3494234190874985,
          0.3413042410238834,
          0.31608148028481686,
          0.2901684174525083
         ],
         "b": [
          0.5778813117242293,
          0.5765292191851465,
          0.582661347739077,
          0.606780254894555,
          0.632713431516946
         ],
         "c": [
          0.07204261466348699,
          0.07404736172735497,
          0.07603441123703969,
          0.07713826482062813,
          0.07711815103054587
         ],
         "line": {
          "color": "grey",
          "width": 0.25
         },
         "marker": {
          "color": "silver",
          "line": {
           "color": "black",
           "width": 0
          },
          "opacity": 0.9,
          "size": 6
         },
         "mode": "lines+text",
         "name": "BDI",
         "showlegend": false,
         "subplot": "ternary",
         "text": [
          "",
          "",
          "",
          "",
          "",
          "",
          "",
          "",
          "",
          "",
          "",
          "",
          "",
          "",
          ""
         ],
         "textfont": {
          "color": "black",
          "size": 4.706698109106254
         },
         "type": "scatterternary"
        },
        {
         "a": [
          0.7923350184271172,
          0.7485180781761769,
          0.7105488839209402,
          0.6980292901894971,
          0.6899631977206477,
          0.6847773168429873,
          0.6653204064759077,
          0.6477664695416854,
          0.6250212186040195,
          0.6036755126460002,
          0.5781214935306148,
          0.553774992137503,
          0.5295135005305266,
          0.5058993146072825,
          0.4858245245301374
         ],
         "b": [
          0.11531510916021513,
          0.15137966008741086,
          0.17693580276395102,
          0.167607049206716,
          0.14602557388210283,
          0.12248079725696853,
          0.11548424921837566,
          0.1228237283232067,
          0.14267711800880506,
          0.17253753114778972,
          0.2086043980347458,
          0.24658054326103726,
          0.2832654866411784,
          0.3157338030130827,
          0.3409373262380319
         ],
         "c": [
          0.09234987241266791,
          0.10010226173641225,
          0.11251531331510888,
          0.13436366060378696,
          0.16401122839724946,
          0.1927418859000442,
          0.2191953443057167,
          0.22940980213510803,
          0.2323016633871754,
          0.22378695620620997,
          0.2132741084346395,
          0.19964446460145968,
          0.18722101282829517,
          0.1783668823796349,
          0.17323814923183084
         ],
         "line": {
          "color": "grey",
          "width": 0.25
         },
         "marker": {
          "color": "silver",
          "line": {
           "color": "black",
           "width": 0
          },
          "opacity": 0.9,
          "size": 6
         },
         "mode": "lines+text",
         "name": "KHM",
         "showlegend": false,
         "subplot": "ternary",
         "text": [
          "",
          "",
          "",
          "",
          "",
          "",
          "",
          "",
          "",
          "",
          "",
          "",
          "",
          "",
          ""
         ],
         "textfont": {
          "color": "black",
          "size": 5.1818800479106875
         },
         "type": "scatterternary"
        },
        {
         "a": [
          0.7923350184271172,
          0.7485180781761769,
          0.7105488839209402,
          0.6980292901894971,
          0.6899631977206477
         ],
         "b": [
          0.11531510916021513,
          0.15137966008741086,
          0.17693580276395102,
          0.167607049206716,
          0.14602557388210283
         ],
         "c": [
          0.09234987241266791,
          0.10010226173641225,
          0.11251531331510888,
          0.13436366060378696,
          0.16401122839724946
         ],
         "line": {
          "color": "grey",
          "width": 0.25
         },
         "marker": {
          "color": "silver",
          "line": {
           "color": "black",
           "width": 0
          },
          "opacity": 0.9,
          "size": 6
         },
         "mode": "lines+text",
         "name": "KHM",
         "showlegend": false,
         "subplot": "ternary",
         "text": [
          "",
          "",
          "",
          "",
          "",
          "",
          "",
          "",
          "",
          "",
          "",
          "",
          "",
          "",
          ""
         ],
         "textfont": {
          "color": "black",
          "size": 5.1818800479106875
         },
         "type": "scatterternary"
        },
        {
         "a": [
          0.6464996426447609,
          0.596527238153072,
          0.5408921072148565,
          0.48960729124137103,
          0.43865400886631684,
          0.39899801527719087,
          0.36834451104103744,
          0.3498128654150967,
          0.3360827362989566,
          0.3301667772992333,
          0.32425919939855186,
          0.3212594657854326,
          0.3192107055765445,
          0.31657745015095795,
          0.31298839117394617
         ],
         "b": [
          0.25417250792458973,
          0.2993298851584975,
          0.3539066555523445,
          0.40694591204201885,
          0.45841533397574385,
          0.4971255128359495,
          0.5255619310834382,
          0.5415048209360067,
          0.5498600078064155,
          0.5465849325616263,
          0.5414495274600994,
          0.5386761026852013,
          0.5394052437270798,
          0.5460064294102328,
          0.5545391401807108
         ],
         "c": [
          0.09932784943064923,
          0.1041428766884304,
          0.10520123723279907,
          0.10344679671661017,
          0.10293065715793943,
          0.10387647188685944,
          0.10609355787552456,
          0.10868231364889655,
          0.11405725589462787,
          0.12324829013914033,
          0.1342912731413487,
          0.1400644315293663,
          0.14138405069637558,
          0.13741612043880944,
          0.13247246864534293
         ],
         "line": {
          "color": "grey",
          "width": 0.25
         },
         "marker": {
          "color": "silver",
          "line": {
           "color": "black",
           "width": 0
          },
          "opacity": 0.9,
          "size": 6
         },
         "mode": "lines+text",
         "name": "CMR",
         "showlegend": false,
         "subplot": "ternary",
         "text": [
          "",
          "",
          "",
          "",
          "",
          "",
          "",
          "",
          "",
          "",
          "",
          "",
          "",
          "",
          ""
         ],
         "textfont": {
          "color": "black",
          "size": 6.051721044760024
         },
         "type": "scatterternary"
        },
        {
         "a": [
          0.6464996426447609,
          0.596527238153072,
          0.5408921072148565,
          0.48960729124137103,
          0.43865400886631684
         ],
         "b": [
          0.25417250792458973,
          0.2993298851584975,
          0.3539066555523445,
          0.40694591204201885,
          0.45841533397574385
         ],
         "c": [
          0.09932784943064923,
          0.1041428766884304,
          0.10520123723279907,
          0.10344679671661017,
          0.10293065715793943
         ],
         "line": {
          "color": "grey",
          "width": 0.25
         },
         "marker": {
          "color": "silver",
          "line": {
           "color": "black",
           "width": 0
          },
          "opacity": 0.9,
          "size": 6
         },
         "mode": "lines+text",
         "name": "CMR",
         "showlegend": false,
         "subplot": "ternary",
         "text": [
          "",
          "",
          "",
          "",
          "",
          "",
          "",
          "",
          "",
          "",
          "",
          "",
          "",
          "",
          ""
         ],
         "textfont": {
          "color": "black",
          "size": 6.051721044760024
         },
         "type": "scatterternary"
        },
        {
         "a": [
          0.7897804017472998,
          0.6809986456513802,
          0.5222804236096003,
          0.3669394524230013,
          0.23349138322742763,
          0.152553652508115,
          0.10123102062157902,
          0.07830810457063672,
          0.06127846704222578,
          0.05105845039531652,
          0.04679330725397846,
          0.04647459154516335,
          0.04601101038426302,
          0.04335964578236258,
          0.04032981506932372
         ],
         "b": [
          0.12836250988434095,
          0.23855548282753072,
          0.399049050424708,
          0.5558635424032233,
          0.695386858302977,
          0.7876017566233047,
          0.8501579436729575,
          0.8768038010728032,
          0.8942027960610196,
          0.9060932203011465,
          0.9093469773939908,
          0.9107448415736729,
          0.9162275019850199,
          0.9221795015126864,
          0.930808607330704
         ],
         "c": [
          0.08185708836835918,
          0.08044587152108904,
          0.07867052596569175,
          0.07719700517377524,
          0.0711217584695954,
          0.05984459086858026,
          0.048611035705463435,
          0.04488809435656001,
          0.044518736896754604,
          0.04284832930353698,
          0.043859715352030745,
          0.042780566881163745,
          0.037761487630717135,
          0.034460852704951236,
          0.028861577599972255
         ],
         "line": {
          "color": "grey",
          "width": 0.25
         },
         "marker": {
          "color": "silver",
          "line": {
           "color": "black",
           "width": 0
          },
          "opacity": 0.9,
          "size": 6
         },
         "mode": "lines+text",
         "name": "CAN",
         "showlegend": false,
         "subplot": "ternary",
         "text": [
          "",
          "",
          "",
          "",
          "",
          "",
          "",
          "",
          "",
          "",
          "",
          "",
          "",
          "",
          ""
         ],
         "textfont": {
          "color": "black",
          "size": 6.8524934121553
         },
         "type": "scatterternary"
        },
        {
         "a": [
          0.7897804017472998,
          0.6809986456513802,
          0.5222804236096003,
          0.3669394524230013,
          0.23349138322742763
         ],
         "b": [
          0.12836250988434095,
          0.23855548282753072,
          0.399049050424708,
          0.5558635424032233,
          0.695386858302977
         ],
         "c": [
          0.08185708836835918,
          0.08044587152108904,
          0.07867052596569175,
          0.07719700517377524,
          0.0711217584695954
         ],
         "line": {
          "color": "grey",
          "width": 0.25
         },
         "marker": {
          "color": "silver",
          "line": {
           "color": "black",
           "width": 0
          },
          "opacity": 0.9,
          "size": 6
         },
         "mode": "lines+text",
         "name": "CAN",
         "showlegend": false,
         "subplot": "ternary",
         "text": [
          "",
          "",
          "",
          "",
          "",
          "",
          "",
          "",
          "",
          "",
          "",
          "",
          "",
          "",
          ""
         ],
         "textfont": {
          "color": "black",
          "size": 6.8524934121553
         },
         "type": "scatterternary"
        },
        {
         "a": [
          0.570707297970274,
          0.5398658678433574,
          0.5178702065992169,
          0.4945869244326005,
          0.44775222412807314,
          0.4060414593715058,
          0.36831723996350574,
          0.340767280212022,
          0.3169554680568363,
          0.3013124684243262,
          0.2874002749776827,
          0.27619988053109623,
          0.26789300462316457,
          0.2593603706557468,
          0.24918305435724517
         ],
         "b": [
          0.3481138172142792,
          0.3761596788902988,
          0.3917530546358981,
          0.40601386163217007,
          0.4500375370753519,
          0.49062235231611456,
          0.5282178673450664,
          0.5581124921910465,
          0.5848410538876038,
          0.6041221831587841,
          0.6218877966495955,
          0.6374228024223069,
          0.649165630881837,
          0.6604164880721042,
          0.6732883888455435
         ],
         "c": [
          0.08117888481544694,
          0.08397445326634373,
          0.09037673876488485,
          0.09939921393522944,
          0.10221023879657484,
          0.10333618831237965,
          0.10346489269142806,
          0.1011202275969314,
          0.09820347805555998,
          0.09456534841688977,
          0.09071192837272171,
          0.08637731704659664,
          0.08294136449499866,
          0.08022314127214909,
          0.07752855679721134
         ],
         "line": {
          "color": "grey",
          "width": 0.25
         },
         "marker": {
          "color": "silver",
          "line": {
           "color": "black",
           "width": 0
          },
          "opacity": 0.9,
          "size": 6
         },
         "mode": "lines+text",
         "name": "CPV",
         "showlegend": false,
         "subplot": "ternary",
         "text": [
          "",
          "",
          "",
          "",
          "",
          "",
          "",
          "",
          "",
          "",
          "",
          "",
          "",
          "",
          ""
         ],
         "textfont": {
          "color": "black",
          "size": 2.1012506697175253
         },
         "type": "scatterternary"
        },
        {
         "a": [
          0.570707297970274,
          0.5398658678433574,
          0.5178702065992169,
          0.4945869244326005,
          0.44775222412807314
         ],
         "b": [
          0.3481138172142792,
          0.3761596788902988,
          0.3917530546358981,
          0.40601386163217007,
          0.4500375370753519
         ],
         "c": [
          0.08117888481544694,
          0.08397445326634373,
          0.09037673876488485,
          0.09939921393522944,
          0.10221023879657484
         ],
         "line": {
          "color": "grey",
          "width": 0.25
         },
         "marker": {
          "color": "silver",
          "line": {
           "color": "black",
           "width": 0
          },
          "opacity": 0.9,
          "size": 6
         },
         "mode": "lines+text",
         "name": "CPV",
         "showlegend": false,
         "subplot": "ternary",
         "text": [
          "",
          "",
          "",
          "",
          "",
          "",
          "",
          "",
          "",
          "",
          "",
          "",
          "",
          "",
          ""
         ],
         "textfont": {
          "color": "black",
          "size": 2.1012506697175253
         },
         "type": "scatterternary"
        },
        {
         "a": [
          0.5970130476762708,
          0.496256098358428,
          0.38819931735400015,
          0.2795282117820369,
          0.22162901685407693,
          0.1707185149413994,
          0.13053571608373465,
          0.1060066675300147,
          0.09056238107583534,
          0.08302290324816052,
          0.07712623789486162,
          0.0735308523323226,
          0.0715444170730218,
          0.07145468888992744,
          0.07417866303602783
         ],
         "b": [
          0.31582421659553833,
          0.4212253153262881,
          0.5370568293213438,
          0.6577203670473408,
          0.7190272302125954,
          0.7646542260230955,
          0.7922172905527375,
          0.7899429033899726,
          0.7720585374392912,
          0.7408905437591096,
          0.7000828572803872,
          0.6576326806957886,
          0.6241897535817584,
          0.5919652925817622,
          0.5610303424219338
         ],
         "c": [
          0.08716273572819083,
          0.08251858631528407,
          0.07474385332465612,
          0.06275142117062228,
          0.05934375293332749,
          0.06462725903550501,
          0.07724699336352797,
          0.10405042908001261,
          0.13737908148487352,
          0.17608655299272966,
          0.22279090482475095,
          0.26883646697188907,
          0.3042658293452196,
          0.3365800185283103,
          0.36479099454203834
         ],
         "line": {
          "color": "grey",
          "width": 0.25
         },
         "marker": {
          "color": "silver",
          "line": {
           "color": "black",
           "width": 0
          },
          "opacity": 0.9,
          "size": 6
         },
         "mode": "lines+text",
         "name": "CAF",
         "showlegend": false,
         "subplot": "ternary",
         "text": [
          "",
          "",
          "",
          "",
          "",
          "",
          "",
          "",
          "",
          "",
          "",
          "",
          "",
          "",
          ""
         ],
         "textfont": {
          "color": "black",
          "size": 3.66273045968828
         },
         "type": "scatterternary"
        },
        {
         "a": [
          0.5970130476762708,
          0.496256098358428,
          0.38819931735400015,
          0.2795282117820369,
          0.22162901685407693
         ],
         "b": [
          0.31582421659553833,
          0.4212253153262881,
          0.5370568293213438,
          0.6577203670473408,
          0.7190272302125954
         ],
         "c": [
          0.08716273572819083,
          0.08251858631528407,
          0.07474385332465612,
          0.06275142117062228,
          0.05934375293332749
         ],
         "line": {
          "color": "grey",
          "width": 0.25
         },
         "marker": {
          "color": "silver",
          "line": {
           "color": "black",
           "width": 0
          },
          "opacity": 0.9,
          "size": 6
         },
         "mode": "lines+text",
         "name": "CAF",
         "showlegend": false,
         "subplot": "ternary",
         "text": [
          "",
          "",
          "",
          "",
          "",
          "",
          "",
          "",
          "",
          "",
          "",
          "",
          "",
          "",
          ""
         ],
         "textfont": {
          "color": "black",
          "size": 3.66273045968828
         },
         "type": "scatterternary"
        },
        {
         "a": [
          0.5458495724019787,
          0.42401533162014027,
          0.3161306380949179,
          0.22215761574338935,
          0.17372891097550455,
          0.13479102827091835,
          0.10540462169919221,
          0.0875487551254786,
          0.07640652329169213,
          0.07118218523360098,
          0.0667534786467451,
          0.06351955893297713,
          0.062044176836273744,
          0.061130211494827086,
          0.061246234123409383
         ],
         "b": [
          0.37582567689834523,
          0.5041321133303628,
          0.6189705415709992,
          0.7230407830384799,
          0.7715047565998306,
          0.8014269787884784,
          0.8147369747193799,
          0.8037242656808876,
          0.7797931082929555,
          0.7447212007342414,
          0.701431849389549,
          0.658451337348139,
          0.6244722051652696,
          0.5930392952994106,
          0.5640098896417981
         ],
         "c": [
          0.078324750699676,
          0.07185255504949714,
          0.06489882033408283,
          0.0548016012181306,
          0.054766332424665054,
          0.06378199294060326,
          0.07985840358142779,
          0.10872697919363365,
          0.14380036841535243,
          0.18409661403215768,
          0.2318146719637061,
          0.27802910371888395,
          0.3134836179984568,
          0.34583049320576226,
          0.37474387623479255
         ],
         "line": {
          "color": "grey",
          "width": 0.25
         },
         "marker": {
          "color": "silver",
          "line": {
           "color": "black",
           "width": 0
          },
          "opacity": 0.9,
          "size": 6
         },
         "mode": "lines+text",
         "name": "TCD",
         "showlegend": false,
         "subplot": "ternary",
         "text": [
          "",
          "",
          "",
          "",
          "",
          "",
          "",
          "",
          "",
          "",
          "",
          "",
          "",
          "",
          ""
         ],
         "textfont": {
          "color": "black",
          "size": 5.190378214133858
         },
         "type": "scatterternary"
        },
        {
         "a": [
          0.5458495724019787,
          0.42401533162014027,
          0.3161306380949179,
          0.22215761574338935,
          0.17372891097550455
         ],
         "b": [
          0.37582567689834523,
          0.5041321133303628,
          0.6189705415709992,
          0.7230407830384799,
          0.7715047565998306
         ],
         "c": [
          0.078324750699676,
          0.07185255504949714,
          0.06489882033408283,
          0.0548016012181306,
          0.054766332424665054
         ],
         "line": {
          "color": "grey",
          "width": 0.25
         },
         "marker": {
          "color": "silver",
          "line": {
           "color": "black",
           "width": 0
          },
          "opacity": 0.9,
          "size": 6
         },
         "mode": "lines+text",
         "name": "TCD",
         "showlegend": false,
         "subplot": "ternary",
         "text": [
          "",
          "",
          "",
          "",
          "",
          "",
          "",
          "",
          "",
          "",
          "",
          "",
          "",
          "",
          ""
         ],
         "textfont": {
          "color": "black",
          "size": 5.190378214133858
         },
         "type": "scatterternary"
        },
        {
         "a": [
          0.8919890266224803,
          0.8689201680683638,
          0.8444378825221062,
          0.8098031394402259,
          0.7648321889069467,
          0.7158040364469632,
          0.6468224087200198,
          0.5745313479688567,
          0.4963239540974807,
          0.44433999836269905,
          0.4052506527648173,
          0.37483063432799946,
          0.33792320012472377,
          0.3119009628608113,
          0.30451306071824646
         ],
         "b": [
          0.009186228538320481,
          0.02044382109212415,
          0.02665732179789148,
          0.04158248556875471,
          0.06495202301129015,
          0.09501798431835161,
          0.14510761150873186,
          0.1987452206777854,
          0.25093801766237855,
          0.2922016548533832,
          0.3220948559645003,
          0.34566333804217836,
          0.36667198793684963,
          0.3715382229125672,
          0.3619361565206209
         ],
         "c": [
          0.09882474483919923,
          0.110636010839512,
          0.12890479568000232,
          0.14861437499101954,
          0.17021578808176321,
          0.18917797923468516,
          0.2080699797712484,
          0.22672343135335782,
          0.25273802824014074,
          0.2634583467839176,
          0.27265449127068236,
          0.279506027629822,
          0.2954048119384266,
          0.3165608142266214,
          0.33355078276113276
         ],
         "line": {
          "color": "grey",
          "width": 0.25
         },
         "marker": {
          "color": "silver",
          "line": {
           "color": "black",
           "width": 0
          },
          "opacity": 0.9,
          "size": 6
         },
         "mode": "lines+text",
         "name": "CHL",
         "showlegend": false,
         "subplot": "ternary",
         "text": [
          "",
          "",
          "",
          "",
          "",
          "",
          "",
          "",
          "",
          "",
          "",
          "",
          "",
          "",
          ""
         ],
         "textfont": {
          "color": "black",
          "size": 5.465985242903894
         },
         "type": "scatterternary"
        },
        {
         "a": [
          0.8919890266224803,
          0.8689201680683638,
          0.8444378825221062,
          0.8098031394402259,
          0.7648321889069467
         ],
         "b": [
          0.009186228538320481,
          0.02044382109212415,
          0.02665732179789148,
          0.04158248556875471,
          0.06495202301129015
         ],
         "c": [
          0.09882474483919923,
          0.110636010839512,
          0.12890479568000232,
          0.14861437499101954,
          0.17021578808176321
         ],
         "line": {
          "color": "grey",
          "width": 0.25
         },
         "marker": {
          "color": "silver",
          "line": {
           "color": "black",
           "width": 0
          },
          "opacity": 0.9,
          "size": 6
         },
         "mode": "lines+text",
         "name": "CHL",
         "showlegend": false,
         "subplot": "ternary",
         "text": [
          "",
          "",
          "",
          "",
          "",
          "",
          "",
          "",
          "",
          "",
          "",
          "",
          "",
          "",
          ""
         ],
         "textfont": {
          "color": "black",
          "size": 5.465985242903894
         },
         "type": "scatterternary"
        },
        {
         "a": [
          0.8869105408936695,
          0.87400650982277,
          0.8480320002490578,
          0.8103626962936339,
          0.7551859779255587,
          0.6912733983876193,
          0.613951493467488,
          0.5545055613938801,
          0.4951691697605183,
          0.44777536590589967,
          0.40368553043156163,
          0.3677940527639616,
          0.34443119982164705,
          0.32938241800574053,
          0.31565357484738527
         ],
         "b": [
          0.019362236536862493,
          0.02008643071276007,
          0.02979063461822583,
          0.0475913563426789,
          0.08137178951895796,
          0.12590025782373615,
          0.1858339499929446,
          0.23798033052120432,
          0.2898239614417805,
          0.3325157390138497,
          0.3714703549247501,
          0.40473026911178633,
          0.43393097912050976,
          0.460058366416321,
          0.48537078970226194
         ],
         "c": [
          0.09372722256946825,
          0.10590705946447003,
          0.12217736513271646,
          0.14204594736368736,
          0.16344223255548324,
          0.18282634378864476,
          0.20021455653956743,
          0.2075141080849157,
          0.21500686879770126,
          0.21970889508025077,
          0.22484411464368836,
          0.22747567812425196,
          0.22163782105784327,
          0.21055921557793866,
          0.19897563545035282
         ],
         "line": {
          "color": "grey",
          "width": 0.25
         },
         "marker": {
          "color": "red",
          "line": {
           "color": "black",
           "width": 0
          },
          "opacity": 0.9,
          "size": 6
         },
         "mode": "lines+text",
         "name": "CHN",
         "showlegend": false,
         "subplot": "ternary",
         "text": [
          "",
          "",
          "",
          "",
          "",
          "",
          "",
          "",
          "",
          "",
          "",
          "",
          "",
          "",
          ""
         ],
         "textfont": {
          "color": "black",
          "size": 26
         },
         "type": "scatterternary"
        },
        {
         "a": [
          0.8869105408936695,
          0.87400650982277,
          0.8480320002490578,
          0.8103626962936339,
          0.7551859779255587
         ],
         "b": [
          0.019362236536862493,
          0.02008643071276007,
          0.02979063461822583,
          0.0475913563426789,
          0.08137178951895796
         ],
         "c": [
          0.09372722256946825,
          0.10590705946447003,
          0.12217736513271646,
          0.14204594736368736,
          0.16344223255548324
         ],
         "line": {
          "color": "grey",
          "width": 0.25
         },
         "marker": {
          "color": "red",
          "line": {
           "color": "black",
           "width": 0
          },
          "opacity": 0.9,
          "size": 6
         },
         "mode": "lines+text",
         "name": "CHN",
         "showlegend": false,
         "subplot": "ternary",
         "text": [
          "",
          "",
          "",
          "",
          "",
          "",
          "",
          "",
          "",
          "",
          "",
          "",
          "",
          "",
          ""
         ],
         "textfont": {
          "color": "black",
          "size": 26
         },
         "type": "scatterternary"
        },
        {
         "a": [
          0.859239770713669,
          0.827388412191728,
          0.7959704180676496,
          0.7659082176514559,
          0.7329354403730721,
          0.6987185729303274,
          0.6578423583897606,
          0.6183516038495156,
          0.5707658170758976,
          0.5354917393167873,
          0.5069287180092449,
          0.48326929283867315,
          0.45845168099963096,
          0.43884417112771795,
          0.43244606664797797
         ],
         "b": [
          0.043550165190806754,
          0.0650484712014889,
          0.08077957054930093,
          0.09103099151163974,
          0.10238264480148222,
          0.11972482855791208,
          0.14556748464116037,
          0.17686484847678013,
          0.2135160684235735,
          0.24544035916240667,
          0.27306760233435,
          0.29596650334126656,
          0.3150668541065172,
          0.3261193974686132,
          0.3287438877751919
         ],
         "c": [
          0.09721006409552421,
          0.10756311660678332,
          0.12325001138304939,
          0.14306079083690448,
          0.1646819148254458,
          0.18155659851176048,
          0.196590156969079,
          0.20478354767370416,
          0.21571811450052897,
          0.21906790152080624,
          0.2200036796564052,
          0.22076420382006023,
          0.22648146489385187,
          0.2350364314036688,
          0.23881004557683017
         ],
         "line": {
          "color": "grey",
          "width": 0.25
         },
         "marker": {
          "color": "silver",
          "line": {
           "color": "black",
           "width": 0
          },
          "opacity": 0.9,
          "size": 6
         },
         "mode": "lines+text",
         "name": "COL",
         "showlegend": false,
         "subplot": "ternary",
         "text": [
          "",
          "",
          "",
          "",
          "",
          "",
          "",
          "",
          "",
          "",
          "",
          "",
          "",
          "",
          ""
         ],
         "textfont": {
          "color": "black",
          "size": 7.580439562161041
         },
         "type": "scatterternary"
        },
        {
         "a": [
          0.859239770713669,
          0.827388412191728,
          0.7959704180676496,
          0.7659082176514559,
          0.7329354403730721
         ],
         "b": [
          0.043550165190806754,
          0.0650484712014889,
          0.08077957054930093,
          0.09103099151163974,
          0.10238264480148222
         ],
         "c": [
          0.09721006409552421,
          0.10756311660678332,
          0.12325001138304939,
          0.14306079083690448,
          0.1646819148254458
         ],
         "line": {
          "color": "grey",
          "width": 0.25
         },
         "marker": {
          "color": "silver",
          "line": {
           "color": "black",
           "width": 0
          },
          "opacity": 0.9,
          "size": 6
         },
         "mode": "lines+text",
         "name": "COL",
         "showlegend": false,
         "subplot": "ternary",
         "text": [
          "",
          "",
          "",
          "",
          "",
          "",
          "",
          "",
          "",
          "",
          "",
          "",
          "",
          "",
          ""
         ],
         "textfont": {
          "color": "black",
          "size": 7.580439562161041
         },
         "type": "scatterternary"
        },
        {
         "a": [
          0.49018996094031203,
          0.4653897081400629,
          0.4366961793263697,
          0.3951172594458443,
          0.35354898713295846,
          0.317567366859096,
          0.2867781325520645,
          0.26472186539772147,
          0.2464557410157057,
          0.23639847284414267,
          0.2279078100831799,
          0.22284754544233643,
          0.2176189775762961,
          0.21122485819322256,
          0.20305239509528952
         ],
         "b": [
          0.4259679547307921,
          0.4488810346595253,
          0.47579221416635875,
          0.5145639766602642,
          0.5546330168530931,
          0.5883410035695212,
          0.6175579706175982,
          0.6378521110219978,
          0.6542149476331307,
          0.6644828807377199,
          0.6758862484303889,
          0.684790863531553,
          0.6960393945728293,
          0.7092466432480217,
          0.7240778107660601
         ],
         "c": [
          0.083842084328896,
          0.08572925720041173,
          0.08751160650727163,
          0.09031876389389162,
          0.09181799601394848,
          0.09409162957138273,
          0.09566389683033738,
          0.09742602358028088,
          0.09932931135116363,
          0.09911864641813736,
          0.09620594148643134,
          0.09236159102611043,
          0.0863416278508747,
          0.07952849855875592,
          0.07286979413865043
         ],
         "line": {
          "color": "grey",
          "width": 0.25
         },
         "marker": {
          "color": "silver",
          "line": {
           "color": "black",
           "width": 0
          },
          "opacity": 0.9,
          "size": 6
         },
         "mode": "lines+text",
         "name": "COM",
         "showlegend": false,
         "subplot": "ternary",
         "text": [
          "",
          "",
          "",
          "",
          "",
          "",
          "",
          "",
          "",
          "",
          "",
          "",
          "",
          "",
          ""
         ],
         "textfont": {
          "color": "black",
          "size": 2.251435820721197
         },
         "type": "scatterternary"
        },
        {
         "a": [
          0.49018996094031203,
          0.4653897081400629,
          0.4366961793263697,
          0.3951172594458443,
          0.35354898713295846
         ],
         "b": [
          0.4259679547307921,
          0.4488810346595253,
          0.47579221416635875,
          0.5145639766602642,
          0.5546330168530931
         ],
         "c": [
          0.083842084328896,
          0.08572925720041173,
          0.08751160650727163,
          0.09031876389389162,
          0.09181799601394848
         ],
         "line": {
          "color": "grey",
          "width": 0.25
         },
         "marker": {
          "color": "silver",
          "line": {
           "color": "black",
           "width": 0
          },
          "opacity": 0.9,
          "size": 6
         },
         "mode": "lines+text",
         "name": "COM",
         "showlegend": false,
         "subplot": "ternary",
         "text": [
          "",
          "",
          "",
          "",
          "",
          "",
          "",
          "",
          "",
          "",
          "",
          "",
          "",
          "",
          ""
         ],
         "textfont": {
          "color": "black",
          "size": 2.251435820721197
         },
         "type": "scatterternary"
        },
        {
         "a": [
          0,
          0,
          0,
          0,
          0,
          0,
          0,
          0,
          0,
          0,
          0,
          0,
          0,
          0,
          0
         ],
         "b": [
          0,
          0,
          0,
          0,
          0,
          0,
          0,
          0,
          0,
          0,
          0,
          0,
          0,
          0,
          0
         ],
         "c": [
          0,
          0,
          0,
          0,
          0,
          0,
          0,
          0,
          0,
          0,
          0,
          0,
          0,
          0,
          0
         ],
         "line": {
          "color": "grey",
          "width": 0.25
         },
         "marker": {
          "color": "silver",
          "line": {
           "color": "black",
           "width": 0
          },
          "opacity": 0.9,
          "size": 6
         },
         "mode": "lines+text",
         "name": "COG",
         "showlegend": false,
         "subplot": "ternary",
         "text": [
          "",
          "",
          "",
          "",
          "",
          "",
          "",
          "",
          "",
          "",
          "",
          "",
          "",
          "",
          ""
         ],
         "textfont": {
          "color": "black",
          "size": 3.73465598970185
         },
         "type": "scatterternary"
        },
        {
         "a": [
          0,
          0,
          0,
          0,
          0
         ],
         "b": [
          0,
          0,
          0,
          0,
          0
         ],
         "c": [
          0,
          0,
          0,
          0,
          0
         ],
         "line": {
          "color": "grey",
          "width": 0.25
         },
         "marker": {
          "color": "silver",
          "line": {
           "color": "black",
           "width": 0
          },
          "opacity": 0.9,
          "size": 6
         },
         "mode": "lines+text",
         "name": "COG",
         "showlegend": false,
         "subplot": "ternary",
         "text": [
          "",
          "",
          "",
          "",
          "",
          "",
          "",
          "",
          "",
          "",
          "",
          "",
          "",
          "",
          ""
         ],
         "textfont": {
          "color": "black",
          "size": 3.73465598970185
         },
         "type": "scatterternary"
        },
        {
         "a": [
          0,
          0,
          0,
          0,
          0,
          0,
          0,
          0,
          0,
          0,
          0,
          0,
          0,
          0,
          0
         ],
         "b": [
          0,
          0,
          0,
          0,
          0,
          0,
          0,
          0,
          0,
          0,
          0,
          0,
          0,
          0,
          0
         ],
         "c": [
          0,
          0,
          0,
          0,
          0,
          0,
          0,
          0,
          0,
          0,
          0,
          0,
          0,
          0,
          0
         ],
         "line": {
          "color": "grey",
          "width": 0.25
         },
         "marker": {
          "color": "silver",
          "line": {
           "color": "black",
           "width": 0
          },
          "opacity": 0.9,
          "size": 6
         },
         "mode": "lines+text",
         "name": "COK",
         "showlegend": false,
         "subplot": "ternary",
         "text": [
          "",
          "",
          "",
          "",
          "",
          "",
          "",
          "",
          "",
          "",
          "",
          "",
          "",
          "",
          ""
         ],
         "textfont": {
          "color": "black",
          "size": 2.3694187025678044
         },
         "type": "scatterternary"
        },
        {
         "a": [
          0,
          0,
          0,
          0,
          0
         ],
         "b": [
          0,
          0,
          0,
          0,
          0
         ],
         "c": [
          0,
          0,
          0,
          0,
          0
         ],
         "line": {
          "color": "grey",
          "width": 0.25
         },
         "marker": {
          "color": "silver",
          "line": {
           "color": "black",
           "width": 0
          },
          "opacity": 0.9,
          "size": 6
         },
         "mode": "lines+text",
         "name": "COK",
         "showlegend": false,
         "subplot": "ternary",
         "text": [
          "",
          "",
          "",
          "",
          "",
          "",
          "",
          "",
          "",
          "",
          "",
          "",
          "",
          "",
          ""
         ],
         "textfont": {
          "color": "black",
          "size": 2.3694187025678044
         },
         "type": "scatterternary"
        },
        {
         "a": [
          0.8342488129638295,
          0.7947473119389187,
          0.7589412694956155,
          0.7208713877013792,
          0.6722073211847712,
          0.6180866320010636,
          0.5550057200682147,
          0.49350376867487566,
          0.44337757885575535,
          0.40250579405745557,
          0.3625008057272678,
          0.3239274979022243,
          0.29502646251089176,
          0.2678598871884165,
          0.258077502879889
         ],
         "b": [
          0.06223986928840272,
          0.09321884546072866,
          0.11697663163636195,
          0.13955623893167893,
          0.17068273794349537,
          0.2088227253906775,
          0.2532926222427637,
          0.2923142636957698,
          0.3316572684659895,
          0.36190700353820393,
          0.3875814715823209,
          0.4072438002208206,
          0.4261560640443861,
          0.4307676182685081,
          0.4316383426514856
         ],
         "c": [
          0.10351131774776792,
          0.11203384260035278,
          0.1240820988680225,
          0.13957237336694178,
          0.15710994087173333,
          0.17309064260825893,
          0.19170165768902167,
          0.21418196762935465,
          0.2249651526782551,
          0.23558720240434045,
          0.24991772269041118,
          0.2688287018769553,
          0.2788174734447222,
          0.30137249454307535,
          0.31028415446862534
         ],
         "line": {
          "color": "grey",
          "width": 0.25
         },
         "marker": {
          "color": "silver",
          "line": {
           "color": "black",
           "width": 0
          },
          "opacity": 0.9,
          "size": 6
         },
         "mode": "lines+text",
         "name": "CRI",
         "showlegend": false,
         "subplot": "ternary",
         "text": [
          "",
          "",
          "",
          "",
          "",
          "",
          "",
          "",
          "",
          "",
          "",
          "",
          "",
          "",
          ""
         ],
         "textfont": {
          "color": "black",
          "size": 3.628735181011002
         },
         "type": "scatterternary"
        },
        {
         "a": [
          0.8342488129638295,
          0.7947473119389187,
          0.7589412694956155,
          0.7208713877013792,
          0.6722073211847712
         ],
         "b": [
          0.06223986928840272,
          0.09321884546072866,
          0.11697663163636195,
          0.13955623893167893,
          0.17068273794349537
         ],
         "c": [
          0.10351131774776792,
          0.11203384260035278,
          0.1240820988680225,
          0.13957237336694178,
          0.15710994087173333
         ],
         "line": {
          "color": "grey",
          "width": 0.25
         },
         "marker": {
          "color": "silver",
          "line": {
           "color": "black",
           "width": 0
          },
          "opacity": 0.9,
          "size": 6
         },
         "mode": "lines+text",
         "name": "CRI",
         "showlegend": false,
         "subplot": "ternary",
         "text": [
          "",
          "",
          "",
          "",
          "",
          "",
          "",
          "",
          "",
          "",
          "",
          "",
          "",
          "",
          ""
         ],
         "textfont": {
          "color": "black",
          "size": 3.628735181011002
         },
         "type": "scatterternary"
        },
        {
         "a": [
          0,
          0,
          0,
          0,
          0,
          0,
          0,
          0,
          0,
          0,
          0,
          0,
          0,
          0,
          0
         ],
         "b": [
          0,
          0,
          0,
          0,
          0,
          0,
          0,
          0,
          0,
          0,
          0,
          0,
          0,
          0,
          0
         ],
         "c": [
          0,
          0,
          0,
          0,
          0,
          0,
          0,
          0,
          0,
          0,
          0,
          0,
          0,
          0,
          0
         ],
         "line": {
          "color": "grey",
          "width": 0.25
         },
         "marker": {
          "color": "silver",
          "line": {
           "color": "black",
           "width": 0
          },
          "opacity": 0.9,
          "size": 6
         },
         "mode": "lines+text",
         "name": "CIV",
         "showlegend": false,
         "subplot": "ternary",
         "text": [
          "",
          "",
          "",
          "",
          "",
          "",
          "",
          "",
          "",
          "",
          "",
          "",
          "",
          "",
          ""
         ],
         "textfont": {
          "color": "black",
          "size": 6.077939449418571
         },
         "type": "scatterternary"
        },
        {
         "a": [
          0,
          0,
          0,
          0,
          0
         ],
         "b": [
          0,
          0,
          0,
          0,
          0
         ],
         "c": [
          0,
          0,
          0,
          0,
          0
         ],
         "line": {
          "color": "grey",
          "width": 0.25
         },
         "marker": {
          "color": "silver",
          "line": {
           "color": "black",
           "width": 0
          },
          "opacity": 0.9,
          "size": 6
         },
         "mode": "lines+text",
         "name": "CIV",
         "showlegend": false,
         "subplot": "ternary",
         "text": [
          "",
          "",
          "",
          "",
          "",
          "",
          "",
          "",
          "",
          "",
          "",
          "",
          "",
          "",
          ""
         ],
         "textfont": {
          "color": "black",
          "size": 6.077939449418571
         },
         "type": "scatterternary"
        },
        {
         "a": [
          0.7892455957951242,
          0.7192975259197084,
          0.6746221633113574,
          0.6277117593521417,
          0.5813163453159472,
          0.5358592534373483,
          0.48869145323257507,
          0.4490869165322212,
          0.4138378597498039,
          0.3867811927816093,
          0.36390784194484516,
          0.34448910093819585,
          0.3282261411274602,
          0.31029583188423077,
          0.29393409145200877
         ],
         "b": [
          0.12368787144982096,
          0.18984254494857244,
          0.2239739325733953,
          0.25800416974397383,
          0.28911486724648977,
          0.3226529706883156,
          0.3601778475209948,
          0.39649487201232836,
          0.43047739796647466,
          0.46144450427744166,
          0.49024164344042165,
          0.5165785196219038,
          0.5396280046452642,
          0.5636436627485063,
          0.5862846595257547
         ],
         "c": [
          0.0870665327550549,
          0.09085992913171924,
          0.10140390411524745,
          0.11428407090388444,
          0.12956878743756295,
          0.14148777587433606,
          0.15113069924643005,
          0.1544182114554503,
          0.15568474228372156,
          0.151774302940949,
          0.1458505146147332,
          0.13893237943990056,
          0.13214585422727548,
          0.126060505367263,
          0.11978124902223658
         ],
         "line": {
          "color": "grey",
          "width": 0.25
         },
         "marker": {
          "color": "silver",
          "line": {
           "color": "black",
           "width": 0
          },
          "opacity": 0.9,
          "size": 6
         },
         "mode": "lines+text",
         "name": "HRV",
         "showlegend": false,
         "subplot": "ternary",
         "text": [
          "",
          "",
          "",
          "",
          "",
          "",
          "",
          "",
          "",
          "",
          "",
          "",
          "",
          "",
          ""
         ],
         "textfont": {
          "color": "black",
          "size": 3.4113994705833934
         },
         "type": "scatterternary"
        },
        {
         "a": [
          0.7892455957951242,
          0.7192975259197084,
          0.6746221633113574,
          0.6277117593521417,
          0.5813163453159472
         ],
         "b": [
          0.12368787144982096,
          0.18984254494857244,
          0.2239739325733953,
          0.25800416974397383,
          0.28911486724648977
         ],
         "c": [
          0.0870665327550549,
          0.09085992913171924,
          0.10140390411524745,
          0.11428407090388444,
          0.12956878743756295
         ],
         "line": {
          "color": "grey",
          "width": 0.25
         },
         "marker": {
          "color": "silver",
          "line": {
           "color": "black",
           "width": 0
          },
          "opacity": 0.9,
          "size": 6
         },
         "mode": "lines+text",
         "name": "HRV",
         "showlegend": false,
         "subplot": "ternary",
         "text": [
          "",
          "",
          "",
          "",
          "",
          "",
          "",
          "",
          "",
          "",
          "",
          "",
          "",
          "",
          ""
         ],
         "textfont": {
          "color": "black",
          "size": 3.4113994705833934
         },
         "type": "scatterternary"
        },
        {
         "a": [
          0.5891535967294516,
          0.5293543863051432,
          0.4959295773241905,
          0.4636945494881242,
          0.43388611850517056,
          0.405086752002643,
          0.3775890323746134,
          0.3495039010281653,
          0.329356202244956,
          0.3100057739737359,
          0.28901277934277547,
          0.2647205218931942,
          0.2467834828292699,
          0.22053890966274792,
          0.20498138963250817
         ],
         "b": [
          0.3407013889658801,
          0.3986707743635957,
          0.42297809658939634,
          0.4427031898063976,
          0.4615693604336927,
          0.486039746138753,
          0.5088260299867483,
          0.5326788850654997,
          0.5462401026081252,
          0.5567753031087562,
          0.5638896672188267,
          0.5678770776222297,
          0.5693961767311557,
          0.5683073729969239,
          0.5720202101387575
         ],
         "c": [
          0.0701450143046684,
          0.07197483933126118,
          0.08109232608641315,
          0.09360226070547811,
          0.10454452106113685,
          0.10887350185860413,
          0.11358493763863814,
          0.11781721390633504,
          0.12440369514691901,
          0.13321892291750798,
          0.1470975534383977,
          0.1674024004845761,
          0.18382034043957451,
          0.2111537173403282,
          0.2229984002287343
         ],
         "line": {
          "color": "grey",
          "width": 0.25
         },
         "marker": {
          "color": "silver",
          "line": {
           "color": "black",
           "width": 0
          },
          "opacity": 0.9,
          "size": 6
         },
         "mode": "lines+text",
         "name": "CUB",
         "showlegend": false,
         "subplot": "ternary",
         "text": [
          "",
          "",
          "",
          "",
          "",
          "",
          "",
          "",
          "",
          "",
          "",
          "",
          "",
          "",
          ""
         ],
         "textfont": {
          "color": "black",
          "size": 4.6133448196616405
         },
         "type": "scatterternary"
        },
        {
         "a": [
          0.5891535967294516,
          0.5293543863051432,
          0.4959295773241905,
          0.4636945494881242,
          0.43388611850517056
         ],
         "b": [
          0.3407013889658801,
          0.3986707743635957,
          0.42297809658939634,
          0.4427031898063976,
          0.4615693604336927
         ],
         "c": [
          0.0701450143046684,
          0.07197483933126118,
          0.08109232608641315,
          0.09360226070547811,
          0.10454452106113685
         ],
         "line": {
          "color": "grey",
          "width": 0.25
         },
         "marker": {
          "color": "silver",
          "line": {
           "color": "black",
           "width": 0
          },
          "opacity": 0.9,
          "size": 6
         },
         "mode": "lines+text",
         "name": "CUB",
         "showlegend": false,
         "subplot": "ternary",
         "text": [
          "",
          "",
          "",
          "",
          "",
          "",
          "",
          "",
          "",
          "",
          "",
          "",
          "",
          "",
          ""
         ],
         "textfont": {
          "color": "black",
          "size": 4.6133448196616405
         },
         "type": "scatterternary"
        },
        {
         "a": [
          0.7763022150591015,
          0.7160785637867172,
          0.6959166453601107,
          0.6741422982938214,
          0.6610995128569886,
          0.6414345120842306,
          0.6163352093548122,
          0.5954900365742034,
          0.5763795036490664,
          0.5656864465458615,
          0.5571218776051559,
          0.549455034787481,
          0.541708567036782,
          0.5326421527108202,
          0.5238954930004145
         ],
         "b": [
          0.13619302943428516,
          0.19000851838689586,
          0.19503137383570987,
          0.197081633584962,
          0.18436136189817628,
          0.17961640621320774,
          0.17844942350307166,
          0.1827082553045243,
          0.18770912125982853,
          0.19408875051207766,
          0.2005890629714281,
          0.2079857384490704,
          0.21626132384626168,
          0.2257112351760978,
          0.23670296508068422
         ],
         "c": [
          0.08750475550661316,
          0.09391291782638712,
          0.10905198080417917,
          0.12877606812121664,
          0.15453912524483499,
          0.17894908170256163,
          0.2052153671421161,
          0.22180170812127242,
          0.23591137509110502,
          0.24022480294206078,
          0.24228905942341583,
          0.2425592267634486,
          0.24203010911695613,
          0.24164661211308192,
          0.23940154191890123
         ],
         "line": {
          "color": "grey",
          "width": 0.25
         },
         "marker": {
          "color": "silver",
          "line": {
           "color": "black",
           "width": 0
          },
          "opacity": 0.9,
          "size": 6
         },
         "mode": "lines+text",
         "name": "CYP",
         "showlegend": false,
         "subplot": "ternary",
         "text": [
          "",
          "",
          "",
          "",
          "",
          "",
          "",
          "",
          "",
          "",
          "",
          "",
          "",
          "",
          ""
         ],
         "textfont": {
          "color": "black",
          "size": 2.4894671276055442
         },
         "type": "scatterternary"
        },
        {
         "a": [
          0.7763022150591015,
          0.7160785637867172,
          0.6959166453601107,
          0.6741422982938214,
          0.6610995128569886
         ],
         "b": [
          0.13619302943428516,
          0.19000851838689586,
          0.19503137383570987,
          0.197081633584962,
          0.18436136189817628
         ],
         "c": [
          0.08750475550661316,
          0.09391291782638712,
          0.10905198080417917,
          0.12877606812121664,
          0.15453912524483499
         ],
         "line": {
          "color": "grey",
          "width": 0.25
         },
         "marker": {
          "color": "silver",
          "line": {
           "color": "black",
           "width": 0
          },
          "opacity": 0.9,
          "size": 6
         },
         "mode": "lines+text",
         "name": "CYP",
         "showlegend": false,
         "subplot": "ternary",
         "text": [
          "",
          "",
          "",
          "",
          "",
          "",
          "",
          "",
          "",
          "",
          "",
          "",
          "",
          "",
          ""
         ],
         "textfont": {
          "color": "black",
          "size": 2.4894671276055442
         },
         "type": "scatterternary"
        },
        {
         "a": [
          0.7188765101388765,
          0.5887787828010715,
          0.4455238611827464,
          0.3237941719990879,
          0.22683097663176544,
          0.16218987801271972,
          0.1121019494730256,
          0.08172201063160117,
          0.0625247102770784,
          0.051151612689750124,
          0.0436365757975934,
          0.038412498815224475,
          0.03507587650458001,
          0.03207918324039569,
          0.029652829669989025
         ],
         "b": [
          0.20493959872336445,
          0.3401778049421102,
          0.49071418271990525,
          0.6193424466065324,
          0.7231180666135368,
          0.7939386998126795,
          0.8512755373931742,
          0.8876234876708872,
          0.9112095886487902,
          0.9256720665241889,
          0.9356755558382875,
          0.9430846545271149,
          0.9481321164483835,
          0.9524113944090804,
          0.9562870443971516
         ],
         "c": [
          0.07618389113775875,
          0.07104341225681836,
          0.06376195609734854,
          0.056863381394379964,
          0.050050956754697694,
          0.043871422174600896,
          0.036622513133800286,
          0.030654501697511764,
          0.026265701074131592,
          0.023176320786060946,
          0.020687868364118917,
          0.018502846657660773,
          0.016792007047036428,
          0.015509422350523997,
          0.014060125932859272
         ],
         "line": {
          "color": "grey",
          "width": 0.25
         },
         "marker": {
          "color": "silver",
          "line": {
           "color": "black",
           "width": 0
          },
          "opacity": 0.9,
          "size": 6
         },
         "mode": "lines+text",
         "name": "CZE",
         "showlegend": false,
         "subplot": "ternary",
         "text": [
          "",
          "",
          "",
          "",
          "",
          "",
          "",
          "",
          "",
          "",
          "",
          "",
          "",
          "",
          ""
         ],
         "textfont": {
          "color": "black",
          "size": 4.5126753730295945
         },
         "type": "scatterternary"
        },
        {
         "a": [
          0.7188765101388765,
          0.5887787828010715,
          0.4455238611827464,
          0.3237941719990879,
          0.22683097663176544
         ],
         "b": [
          0.20493959872336445,
          0.3401778049421102,
          0.49071418271990525,
          0.6193424466065324,
          0.7231180666135368
         ],
         "c": [
          0.07618389113775875,
          0.07104341225681836,
          0.06376195609734854,
          0.056863381394379964,
          0.050050956754697694
         ],
         "line": {
          "color": "grey",
          "width": 0.25
         },
         "marker": {
          "color": "silver",
          "line": {
           "color": "black",
           "width": 0
          },
          "opacity": 0.9,
          "size": 6
         },
         "mode": "lines+text",
         "name": "CZE",
         "showlegend": false,
         "subplot": "ternary",
         "text": [
          "",
          "",
          "",
          "",
          "",
          "",
          "",
          "",
          "",
          "",
          "",
          "",
          "",
          "",
          ""
         ],
         "textfont": {
          "color": "black",
          "size": 4.5126753730295945
         },
         "type": "scatterternary"
        },
        {
         "a": [
          0.5425917981789213,
          0.4393768886182768,
          0.34016579906164185,
          0.25094989656797373,
          0.20554474454114763,
          0.1677396653659804,
          0.13692505933499183,
          0.11593992108919401,
          0.1009622637825613,
          0.09048644355946403,
          0.08141895439397584,
          0.07348018867878245,
          0.06855120885087979,
          0.06631632382939398,
          0.06907525345455903
         ],
         "b": [
          0.37501981175600585,
          0.48088026253067623,
          0.5861224966738826,
          0.6856584283074905,
          0.7276405682309574,
          0.7535939083196401,
          0.762352096867723,
          0.7446327406388153,
          0.712812937391857,
          0.6736372693769983,
          0.6341649545595206,
          0.5969024297417833,
          0.566507273639771,
          0.5436274290558304,
          0.5251456350198173
         ],
         "c": [
          0.08238839006507287,
          0.07974284885104699,
          0.07371170426447556,
          0.06339167512453588,
          0.06681468722789508,
          0.07866642631437938,
          0.10072284379728536,
          0.13942733827199044,
          0.18622479882558166,
          0.2358762870635377,
          0.28441609104650356,
          0.3296173815794343,
          0.3649415175093494,
          0.3900562471147757,
          0.40577911152562374
         ],
         "line": {
          "color": "grey",
          "width": 0.25
         },
         "marker": {
          "color": "silver",
          "line": {
           "color": "black",
           "width": 0
          },
          "opacity": 0.9,
          "size": 6
         },
         "mode": "lines+text",
         "name": "COD",
         "showlegend": false,
         "subplot": "ternary",
         "text": [
          "",
          "",
          "",
          "",
          "",
          "",
          "",
          "",
          "",
          "",
          "",
          "",
          "",
          "",
          ""
         ],
         "textfont": {
          "color": "black",
          "size": 9.332692520042144
         },
         "type": "scatterternary"
        },
        {
         "a": [
          0.5425917981789213,
          0.4393768886182768,
          0.34016579906164185,
          0.25094989656797373,
          0.20554474454114763
         ],
         "b": [
          0.37501981175600585,
          0.48088026253067623,
          0.5861224966738826,
          0.6856584283074905,
          0.7276405682309574
         ],
         "c": [
          0.08238839006507287,
          0.07974284885104699,
          0.07371170426447556,
          0.06339167512453588,
          0.06681468722789508
         ],
         "line": {
          "color": "grey",
          "width": 0.25
         },
         "marker": {
          "color": "silver",
          "line": {
           "color": "black",
           "width": 0
          },
          "opacity": 0.9,
          "size": 6
         },
         "mode": "lines+text",
         "name": "COD",
         "showlegend": false,
         "subplot": "ternary",
         "text": [
          "",
          "",
          "",
          "",
          "",
          "",
          "",
          "",
          "",
          "",
          "",
          "",
          "",
          "",
          ""
         ],
         "textfont": {
          "color": "black",
          "size": 9.332692520042144
         },
         "type": "scatterternary"
        },
        {
         "a": [
          0.7035728972635136,
          0.587130383156969,
          0.4778672001437165,
          0.3796682905927938,
          0.28983652448647446,
          0.21946934857767078,
          0.16510554558956228,
          0.13330342796264077,
          0.11176796962876984,
          0.09846323951387526,
          0.08756564973608591,
          0.07801970719217792,
          0.07102328220437204,
          0.0636744248977295,
          0.057487909140630004
         ],
         "b": [
          0.2198716331879024,
          0.33997380907605024,
          0.4506057235280437,
          0.5496396281541481,
          0.641595600215459,
          0.717576398467157,
          0.7798998769940995,
          0.8180737909014026,
          0.84369606257947,
          0.8603778518215881,
          0.874560736302513,
          0.8871428919810298,
          0.89756977757623,
          0.9080909943171888,
          0.9174217365504537
         ],
         "c": [
          0.07655546954858408,
          0.07289580776698074,
          0.07152707632823987,
          0.07069208125305798,
          0.06856787529806642,
          0.06295425295517229,
          0.054994577416338085,
          0.048622781135956604,
          0.044535967791760146,
          0.04115890866453663,
          0.03787361396140136,
          0.0348374008267921,
          0.03140694021939805,
          0.028234580785081814,
          0.02509035430891638
         ],
         "line": {
          "color": "grey",
          "width": 0.25
         },
         "marker": {
          "color": "silver",
          "line": {
           "color": "black",
           "width": 0
          },
          "opacity": 0.9,
          "size": 6
         },
         "mode": "lines+text",
         "name": "DNK",
         "showlegend": false,
         "subplot": "ternary",
         "text": [
          "",
          "",
          "",
          "",
          "",
          "",
          "",
          "",
          "",
          "",
          "",
          "",
          "",
          "",
          ""
         ],
         "textfont": {
          "color": "black",
          "size": 3.768405854717044
         },
         "type": "scatterternary"
        },
        {
         "a": [
          0.7035728972635136,
          0.587130383156969,
          0.4778672001437165,
          0.3796682905927938,
          0.28983652448647446
         ],
         "b": [
          0.2198716331879024,
          0.33997380907605024,
          0.4506057235280437,
          0.5496396281541481,
          0.641595600215459
         ],
         "c": [
          0.07655546954858408,
          0.07289580776698074,
          0.07152707632823987,
          0.07069208125305798,
          0.06856787529806642
         ],
         "line": {
          "color": "grey",
          "width": 0.25
         },
         "marker": {
          "color": "silver",
          "line": {
           "color": "black",
           "width": 0
          },
          "opacity": 0.9,
          "size": 6
         },
         "mode": "lines+text",
         "name": "DNK",
         "showlegend": false,
         "subplot": "ternary",
         "text": [
          "",
          "",
          "",
          "",
          "",
          "",
          "",
          "",
          "",
          "",
          "",
          "",
          "",
          "",
          ""
         ],
         "textfont": {
          "color": "black",
          "size": 3.768405854717044
         },
         "type": "scatterternary"
        },
        {
         "a": [
          0.6815647476164894,
          0.642839940983815,
          0.6019824145581292,
          0.555530754734934,
          0.5008778570680055,
          0.4545230522699606,
          0.41392438690928457,
          0.3852582558063721,
          0.35986147999365997,
          0.34716145648080876,
          0.33449672807670017,
          0.3266385032309801,
          0.31414360172858097,
          0.29719141429173745,
          0.27804605265273763
         ],
         "b": [
          0.22272389132777115,
          0.2567067389345813,
          0.29273315976563363,
          0.3316440102577624,
          0.3814180566728404,
          0.4238910216494212,
          0.46335685724839154,
          0.49235057280761385,
          0.5173989166228011,
          0.5317782749232769,
          0.5481827715996845,
          0.5599407226865646,
          0.5755780655888532,
          0.5953544702544175,
          0.6202957354258558
         ],
         "c": [
          0.09571136105573946,
          0.10045332008160371,
          0.10528442567623729,
          0.11282523500730349,
          0.11770408625915435,
          0.12158592608061805,
          0.12271875584232408,
          0.12239117138601403,
          0.1227396033835389,
          0.12106026859591454,
          0.1173205003236153,
          0.1134207740824553,
          0.1102783326825659,
          0.10745411545384498,
          0.1016582119214067
         ],
         "line": {
          "color": "grey",
          "width": 0.25
         },
         "marker": {
          "color": "silver",
          "line": {
           "color": "black",
           "width": 0
          },
          "opacity": 0.9,
          "size": 6
         },
         "mode": "lines+text",
         "name": "DJI",
         "showlegend": false,
         "subplot": "ternary",
         "text": [
          "",
          "",
          "",
          "",
          "",
          "",
          "",
          "",
          "",
          "",
          "",
          "",
          "",
          "",
          ""
         ],
         "textfont": {
          "color": "black",
          "size": 2.4134547151628882
         },
         "type": "scatterternary"
        },
        {
         "a": [
          0.6815647476164894,
          0.642839940983815,
          0.6019824145581292,
          0.555530754734934,
          0.5008778570680055
         ],
         "b": [
          0.22272389132777115,
          0.2567067389345813,
          0.29273315976563363,
          0.3316440102577624,
          0.3814180566728404
         ],
         "c": [
          0.09571136105573946,
          0.10045332008160371,
          0.10528442567623729,
          0.11282523500730349,
          0.11770408625915435
         ],
         "line": {
          "color": "grey",
          "width": 0.25
         },
         "marker": {
          "color": "silver",
          "line": {
           "color": "black",
           "width": 0
          },
          "opacity": 0.9,
          "size": 6
         },
         "mode": "lines+text",
         "name": "DJI",
         "showlegend": false,
         "subplot": "ternary",
         "text": [
          "",
          "",
          "",
          "",
          "",
          "",
          "",
          "",
          "",
          "",
          "",
          "",
          "",
          "",
          ""
         ],
         "textfont": {
          "color": "black",
          "size": 2.4134547151628882
         },
         "type": "scatterternary"
        },
        {
         "a": [
          0,
          0,
          0,
          0,
          0,
          0,
          0,
          0,
          0,
          0,
          0,
          0,
          0,
          0,
          0
         ],
         "b": [
          0,
          0,
          0,
          0,
          0,
          0,
          0,
          0,
          0,
          0,
          0,
          0,
          0,
          0,
          0
         ],
         "c": [
          0,
          0,
          0,
          0,
          0,
          0,
          0,
          0,
          0,
          0,
          0,
          0,
          0,
          0,
          0
         ],
         "line": {
          "color": "grey",
          "width": 0.25
         },
         "marker": {
          "color": "silver",
          "line": {
           "color": "black",
           "width": 0
          },
          "opacity": 0.9,
          "size": 6
         },
         "mode": "lines+text",
         "name": "DMA",
         "showlegend": false,
         "subplot": "ternary",
         "text": [
          "",
          "",
          "",
          "",
          "",
          "",
          "",
          "",
          "",
          "",
          "",
          "",
          "",
          "",
          ""
         ],
         "textfont": {
          "color": "black",
          "size": 2.3694187025678044
         },
         "type": "scatterternary"
        },
        {
         "a": [
          0,
          0,
          0,
          0,
          0
         ],
         "b": [
          0,
          0,
          0,
          0,
          0
         ],
         "c": [
          0,
          0,
          0,
          0,
          0
         ],
         "line": {
          "color": "grey",
          "width": 0.25
         },
         "marker": {
          "color": "silver",
          "line": {
           "color": "black",
           "width": 0
          },
          "opacity": 0.9,
          "size": 6
         },
         "mode": "lines+text",
         "name": "DMA",
         "showlegend": false,
         "subplot": "ternary",
         "text": [
          "",
          "",
          "",
          "",
          "",
          "",
          "",
          "",
          "",
          "",
          "",
          "",
          "",
          "",
          ""
         ],
         "textfont": {
          "color": "black",
          "size": 2.3694187025678044
         },
         "type": "scatterternary"
        },
        {
         "a": [
          0.8655816445352249,
          0.8330305925267947,
          0.7743468195688866,
          0.6989408206654417,
          0.6022779737906105,
          0.5138898393172998,
          0.4250746753802511,
          0.36420278909490095,
          0.30838355639798976,
          0.2669595664645717,
          0.2281301689489337,
          0.19026549425708567,
          0.15387848128170162,
          0.13553243683273616,
          0.12313303194663573
         ],
         "b": [
          0.02898842477656758,
          0.0508735075626593,
          0.09736568968561587,
          0.16080104339605306,
          0.25348269625632397,
          0.3440003885039347,
          0.4424164057559643,
          0.5147876896563541,
          0.577583244694069,
          0.6174208983023468,
          0.6356930597092467,
          0.6336965079338832,
          0.6196132434055854,
          0.6134408317273217,
          0.5954872952909294
         ],
         "c": [
          0.10542993068820762,
          0.11609589991054596,
          0.12828749074549767,
          0.1402581359385053,
          0.14423932995306554,
          0.14210977217876547,
          0.1325089188637846,
          0.12100952124874476,
          0.11403319890794143,
          0.11561953523308166,
          0.13617677134181966,
          0.1760379978090313,
          0.22650827531271306,
          0.2510267314399419,
          0.28137967276243486
         ],
         "line": {
          "color": "grey",
          "width": 0.25
         },
         "marker": {
          "color": "silver",
          "line": {
           "color": "black",
           "width": 0
          },
          "opacity": 0.9,
          "size": 6
         },
         "mode": "lines+text",
         "name": "DOM",
         "showlegend": false,
         "subplot": "ternary",
         "text": [
          "",
          "",
          "",
          "",
          "",
          "",
          "",
          "",
          "",
          "",
          "",
          "",
          "",
          "",
          ""
         ],
         "textfont": {
          "color": "black",
          "size": 4.565600803899865
         },
         "type": "scatterternary"
        },
        {
         "a": [
          0.8655816445352249,
          0.8330305925267947,
          0.7743468195688866,
          0.6989408206654417,
          0.6022779737906105
         ],
         "b": [
          0.02898842477656758,
          0.0508735075626593,
          0.09736568968561587,
          0.16080104339605306,
          0.25348269625632397
         ],
         "c": [
          0.10542993068820762,
          0.11609589991054596,
          0.12828749074549767,
          0.1402581359385053,
          0.14423932995306554
         ],
         "line": {
          "color": "grey",
          "width": 0.25
         },
         "marker": {
          "color": "silver",
          "line": {
           "color": "black",
           "width": 0
          },
          "opacity": 0.9,
          "size": 6
         },
         "mode": "lines+text",
         "name": "DOM",
         "showlegend": false,
         "subplot": "ternary",
         "text": [
          "",
          "",
          "",
          "",
          "",
          "",
          "",
          "",
          "",
          "",
          "",
          "",
          "",
          "",
          ""
         ],
         "textfont": {
          "color": "black",
          "size": 4.565600803899865
         },
         "type": "scatterternary"
        },
        {
         "a": [
          0.8599626685650549,
          0.831190022686291,
          0.8028642135928105,
          0.7806181362270405,
          0.7531792452795467,
          0.7326927894389367,
          0.7092283855122031,
          0.6942558249022304,
          0.6810873259772361,
          0.6782762940534648,
          0.6772485229080387,
          0.6771563157558911,
          0.6747767972207807,
          0.6651313609679395,
          0.6534571849433615
         ],
         "b": [
          0.03843227703265223,
          0.05644731923598335,
          0.06941889565901249,
          0.07135168906143184,
          0.07698214144659433,
          0.07719004672702334,
          0.08081293669569073,
          0.08527194681743118,
          0.09088977160110455,
          0.09268428284321739,
          0.09471632715615237,
          0.09789233494924798,
          0.10428764036744627,
          0.11723867546389256,
          0.13175703698060096
         ],
         "c": [
          0.10160505440229296,
          0.11236265807772558,
          0.12771689074817705,
          0.1480301747115276,
          0.16983861327385885,
          0.19011716383404012,
          0.2099586777921062,
          0.22047222828033838,
          0.22802290242165946,
          0.22903942310331796,
          0.2280351499358088,
          0.22495134929486088,
          0.22093556241177323,
          0.21762996356816827,
          0.2147857780760374
         ],
         "line": {
          "color": "grey",
          "width": 0.25
         },
         "marker": {
          "color": "silver",
          "line": {
           "color": "black",
           "width": 0
          },
          "opacity": 0.9,
          "size": 6
         },
         "mode": "lines+text",
         "name": "ECU",
         "showlegend": false,
         "subplot": "ternary",
         "text": [
          "",
          "",
          "",
          "",
          "",
          "",
          "",
          "",
          "",
          "",
          "",
          "",
          "",
          "",
          ""
         ],
         "textfont": {
          "color": "black",
          "size": 5.301539828687602
         },
         "type": "scatterternary"
        },
        {
         "a": [
          0.8599626685650549,
          0.831190022686291,
          0.8028642135928105,
          0.7806181362270405,
          0.7531792452795467
         ],
         "b": [
          0.03843227703265223,
          0.05644731923598335,
          0.06941889565901249,
          0.07135168906143184,
          0.07698214144659433
         ],
         "c": [
          0.10160505440229296,
          0.11236265807772558,
          0.12771689074817705,
          0.1480301747115276,
          0.16983861327385885
         ],
         "line": {
          "color": "grey",
          "width": 0.25
         },
         "marker": {
          "color": "silver",
          "line": {
           "color": "black",
           "width": 0
          },
          "opacity": 0.9,
          "size": 6
         },
         "mode": "lines+text",
         "name": "ECU",
         "showlegend": false,
         "subplot": "ternary",
         "text": [
          "",
          "",
          "",
          "",
          "",
          "",
          "",
          "",
          "",
          "",
          "",
          "",
          "",
          "",
          ""
         ],
         "textfont": {
          "color": "black",
          "size": 5.301539828687602
         },
         "type": "scatterternary"
        },
        {
         "a": [
          0.6722050475742183,
          0.601665229386309,
          0.5297914188480082,
          0.45772904502195566,
          0.3959933630570836,
          0.3440174973835633,
          0.300420398709664,
          0.2711244770211979,
          0.24824071286254293,
          0.23374982344025608,
          0.22222288904188067,
          0.21385948014977418,
          0.20701833939279546,
          0.20099595763871547,
          0.196655294140418
         ],
         "b": [
          0.2376478115568431,
          0.30686812624906756,
          0.37728419470614655,
          0.44911294435441934,
          0.5116311558415287,
          0.5664333858810457,
          0.6132557498247455,
          0.6469592811278496,
          0.6745843898729958,
          0.6929185497060205,
          0.7073260124538668,
          0.7187656307939068,
          0.727669043130335,
          0.7351165467123701,
          0.7411873981644026
         ],
         "c": [
          0.09014714086893873,
          0.0914666443646236,
          0.09292438644584534,
          0.093158010623625,
          0.09237548110138749,
          0.08954911673539093,
          0.08632385146559021,
          0.08191624185095243,
          0.07717489726446129,
          0.07333162685372348,
          0.07045109850425249,
          0.06737488905631901,
          0.06531261747686934,
          0.06388749564891427,
          0.06215730769517938
         ],
         "line": {
          "color": "grey",
          "width": 0.25
         },
         "marker": {
          "color": "silver",
          "line": {
           "color": "black",
           "width": 0
          },
          "opacity": 0.9,
          "size": 6
         },
         "mode": "lines+text",
         "name": "EGY",
         "showlegend": false,
         "subplot": "ternary",
         "text": [
          "",
          "",
          "",
          "",
          "",
          "",
          "",
          "",
          "",
          "",
          "",
          "",
          "",
          "",
          ""
         ],
         "textfont": {
          "color": "black",
          "size": 9.862152923294675
         },
         "type": "scatterternary"
        },
        {
         "a": [
          0.6722050475742183,
          0.601665229386309,
          0.5297914188480082,
          0.45772904502195566,
          0.3959933630570836
         ],
         "b": [
          0.2376478115568431,
          0.30686812624906756,
          0.37728419470614655,
          0.44911294435441934,
          0.5116311558415287
         ],
         "c": [
          0.09014714086893873,
          0.0914666443646236,
          0.09292438644584534,
          0.093158010623625,
          0.09237548110138749
         ],
         "line": {
          "color": "grey",
          "width": 0.25
         },
         "marker": {
          "color": "silver",
          "line": {
           "color": "black",
           "width": 0
          },
          "opacity": 0.9,
          "size": 6
         },
         "mode": "lines+text",
         "name": "EGY",
         "showlegend": false,
         "subplot": "ternary",
         "text": [
          "",
          "",
          "",
          "",
          "",
          "",
          "",
          "",
          "",
          "",
          "",
          "",
          "",
          "",
          ""
         ],
         "textfont": {
          "color": "black",
          "size": 9.862152923294675
         },
         "type": "scatterternary"
        },
        {
         "a": [
          0.7311321900923625,
          0.6939973981615442,
          0.6735025015793088,
          0.65168173766561,
          0.6074076325372432,
          0.5603316271592149,
          0.5117868209315658,
          0.4734154540501283,
          0.44477041861737376,
          0.4233090220010574,
          0.4042850682849161,
          0.3887995140411204,
          0.375544599905649,
          0.36284051474996365,
          0.35184162932097107
         ],
         "b": [
          0.16908639912869586,
          0.20104060383243505,
          0.20986933601731933,
          0.21458677775231288,
          0.24601672932159252,
          0.2880192860166484,
          0.3360425297226529,
          0.37898655991107294,
          0.4131734917228235,
          0.4417248251299551,
          0.4673607337305866,
          0.4888701060584108,
          0.5067749110900263,
          0.5224504856434611,
          0.5361232064190482
         ],
         "c": [
          0.0997814107789415,
          0.10496199800602082,
          0.11662816240337205,
          0.13373148458207723,
          0.14657563814116423,
          0.1516490868241366,
          0.15217064934578142,
          0.1475979860387987,
          0.1420560896598027,
          0.13496615286898742,
          0.12835419798449713,
          0.12233037990046858,
          0.11768048900432469,
          0.11470899960657537,
          0.11203516425998078
         ],
         "line": {
          "color": "grey",
          "width": 0.25
         },
         "marker": {
          "color": "silver",
          "line": {
           "color": "black",
           "width": 0
          },
          "opacity": 0.9,
          "size": 6
         },
         "mode": "lines+text",
         "name": "SLV",
         "showlegend": false,
         "subplot": "ternary",
         "text": [
          "",
          "",
          "",
          "",
          "",
          "",
          "",
          "",
          "",
          "",
          "",
          "",
          "",
          "",
          ""
         ],
         "textfont": {
          "color": "black",
          "size": 3.8559161276842233
         },
         "type": "scatterternary"
        },
        {
         "a": [
          0.7311321900923625,
          0.6939973981615442,
          0.6735025015793088,
          0.65168173766561,
          0.6074076325372432
         ],
         "b": [
          0.16908639912869586,
          0.20104060383243505,
          0.20986933601731933,
          0.21458677775231288,
          0.24601672932159252
         ],
         "c": [
          0.0997814107789415,
          0.10496199800602082,
          0.11662816240337205,
          0.13373148458207723,
          0.14657563814116423
         ],
         "line": {
          "color": "grey",
          "width": 0.25
         },
         "marker": {
          "color": "silver",
          "line": {
           "color": "black",
           "width": 0
          },
          "opacity": 0.9,
          "size": 6
         },
         "mode": "lines+text",
         "name": "SLV",
         "showlegend": false,
         "subplot": "ternary",
         "text": [
          "",
          "",
          "",
          "",
          "",
          "",
          "",
          "",
          "",
          "",
          "",
          "",
          "",
          "",
          ""
         ],
         "textfont": {
          "color": "black",
          "size": 3.8559161276842233
         },
         "type": "scatterternary"
        },
        {
         "a": [
          0.44078371312319026,
          0.31445389706418453,
          0.28255525038981166,
          0.29571018808095295,
          0.2880309424192312,
          0.29680712374163787,
          0.3255262440597452,
          0.3556942579253244,
          0.38885938198407777,
          0.42044208040352277,
          0.44198011239933943,
          0.4529754760534679,
          0.45826358738938816,
          0.45858775303653787,
          0.4492855582256323
         ],
         "b": [
          0.44033313189941087,
          0.5603857130520725,
          0.5941902960930223,
          0.6255576785055124,
          0.6126900754951717,
          0.5800001721555035,
          0.5165201396316912,
          0.45901923793080507,
          0.39415106082554074,
          0.3339639693197454,
          0.2910340678826107,
          0.27168597384825355,
          0.2703098904283124,
          0.2805007700753865,
          0.2933410554797852
         ],
         "c": [
          0.11888315497739897,
          0.1251603898837429,
          0.12325445351716614,
          0.07873213341353484,
          0.09927898208559727,
          0.12319270410285857,
          0.15795361630856372,
          0.18528650414387057,
          0.21698955719038154,
          0.24559395027673186,
          0.26698581971804974,
          0.2753385500982787,
          0.2714265221822995,
          0.26091147688807564,
          0.2573733862945826
         ],
         "line": {
          "color": "grey",
          "width": 0.25
         },
         "marker": {
          "color": "silver",
          "line": {
           "color": "black",
           "width": 0
          },
          "opacity": 0.9,
          "size": 6
         },
         "mode": "lines+text",
         "name": "GNQ",
         "showlegend": false,
         "subplot": "ternary",
         "text": [
          "",
          "",
          "",
          "",
          "",
          "",
          "",
          "",
          "",
          "",
          "",
          "",
          "",
          "",
          ""
         ],
         "textfont": {
          "color": "black",
          "size": 2.643687004787763
         },
         "type": "scatterternary"
        },
        {
         "a": [
          0.44078371312319026,
          0.31445389706418453,
          0.28255525038981166,
          0.29571018808095295,
          0.2880309424192312
         ],
         "b": [
          0.44033313189941087,
          0.5603857130520725,
          0.5941902960930223,
          0.6255576785055124,
          0.6126900754951717
         ],
         "c": [
          0.11888315497739897,
          0.1251603898837429,
          0.12325445351716614,
          0.07873213341353484,
          0.09927898208559727
         ],
         "line": {
          "color": "grey",
          "width": 0.25
         },
         "marker": {
          "color": "silver",
          "line": {
           "color": "black",
           "width": 0
          },
          "opacity": 0.9,
          "size": 6
         },
         "mode": "lines+text",
         "name": "GNQ",
         "showlegend": false,
         "subplot": "ternary",
         "text": [
          "",
          "",
          "",
          "",
          "",
          "",
          "",
          "",
          "",
          "",
          "",
          "",
          "",
          "",
          ""
         ],
         "textfont": {
          "color": "black",
          "size": 2.643687004787763
         },
         "type": "scatterternary"
        },
        {
         "a": [
          0.6093000722889698,
          0.5415499719540261,
          0.45425934536976503,
          0.38086090378422216,
          0.32029532497363455,
          0.27688443954731995,
          0.24573419631549678,
          0.21306645130945545,
          0.18762956288422578,
          0.1742044743111133,
          0.16633180139424547,
          0.16026218979053475,
          0.15667855631826624,
          0.1579573577570751,
          0.17036765615695726
         ],
         "b": [
          0.29414485288288883,
          0.36120180747596087,
          0.4513645768617407,
          0.523674514514506,
          0.5792167888486627,
          0.6081119414755058,
          0.6210231001361612,
          0.6198615179532916,
          0.6020517376929667,
          0.5846393199856488,
          0.567169218025187,
          0.5499527964890243,
          0.5337118537957407,
          0.523465461504674,
          0.5261849229743641
         ],
         "c": [
          0.09655507482814135,
          0.09724822057001277,
          0.09437607776849413,
          0.09546458170127187,
          0.10048788617770257,
          0.11500361897717436,
          0.13324270354834195,
          0.1670720307372529,
          0.2103186994228076,
          0.24115620570323798,
          0.2664989805805674,
          0.28978501372044113,
          0.30960958988599313,
          0.3185771807382508,
          0.3034474208686788
         ],
         "line": {
          "color": "grey",
          "width": 0.25
         },
         "marker": {
          "color": "silver",
          "line": {
           "color": "black",
           "width": 0
          },
          "opacity": 0.9,
          "size": 6
         },
         "mode": "lines+text",
         "name": "ERI",
         "showlegend": false,
         "subplot": "ternary",
         "text": [
          "",
          "",
          "",
          "",
          "",
          "",
          "",
          "",
          "",
          "",
          "",
          "",
          "",
          "",
          ""
         ],
         "textfont": {
          "color": "black",
          "size": 3.2663838095300552
         },
         "type": "scatterternary"
        },
        {
         "a": [
          0.6093000722889698,
          0.5415499719540261,
          0.45425934536976503,
          0.38086090378422216,
          0.32029532497363455
         ],
         "b": [
          0.29414485288288883,
          0.36120180747596087,
          0.4513645768617407,
          0.523674514514506,
          0.5792167888486627
         ],
         "c": [
          0.09655507482814135,
          0.09724822057001277,
          0.09437607776849413,
          0.09546458170127187,
          0.10048788617770257
         ],
         "line": {
          "color": "grey",
          "width": 0.25
         },
         "marker": {
          "color": "silver",
          "line": {
           "color": "black",
           "width": 0
          },
          "opacity": 0.9,
          "size": 6
         },
         "mode": "lines+text",
         "name": "ERI",
         "showlegend": false,
         "subplot": "ternary",
         "text": [
          "",
          "",
          "",
          "",
          "",
          "",
          "",
          "",
          "",
          "",
          "",
          "",
          "",
          "",
          ""
         ],
         "textfont": {
          "color": "black",
          "size": 3.2663838095300552
         },
         "type": "scatterternary"
        },
        {
         "a": [
          0.6171765582282966,
          0.4350866385782958,
          0.2762943626355078,
          0.16797025823281955,
          0.09940723183313421,
          0.06269298244153033,
          0.038450120188388406,
          0.026991132391246404,
          0.020412337004691035,
          0.016907834287392422,
          0.014894652374298888,
          0.01371176198748466,
          0.01301619902111037,
          0.012350455205226547,
          0.011936522641783352
         ],
         "b": [
          0.319495238850939,
          0.5144934610602819,
          0.685849317439168,
          0.8037304938167891,
          0.8792998948884543,
          0.9203614870791357,
          0.9482735079812813,
          0.9619965445039781,
          0.9702474135029996,
          0.975287448707939,
          0.9785623260987901,
          0.9806423898888819,
          0.9820543515872754,
          0.9833331354294907,
          0.9843043856639963
         ],
         "c": [
          0.06332820292076424,
          0.05041990036142213,
          0.03785631992532414,
          0.02829924795039121,
          0.021292873278411364,
          0.016945530479333913,
          0.013276371830330216,
          0.011012323104775531,
          0.009340249492309289,
          0.007804717004668636,
          0.00654302152691088,
          0.0056458481236335905,
          0.004929449391614374,
          0.004316409365282785,
          0.0037590916942203292
         ],
         "line": {
          "color": "grey",
          "width": 0.25
         },
         "marker": {
          "color": "silver",
          "line": {
           "color": "black",
           "width": 0
          },
          "opacity": 0.9,
          "size": 6
         },
         "mode": "lines+text",
         "name": "EST",
         "showlegend": false,
         "subplot": "ternary",
         "text": [
          "",
          "",
          "",
          "",
          "",
          "",
          "",
          "",
          "",
          "",
          "",
          "",
          "",
          "",
          ""
         ],
         "textfont": {
          "color": "black",
          "size": 2.534469080126887
         },
         "type": "scatterternary"
        },
        {
         "a": [
          0.6171765582282966,
          0.4350866385782958,
          0.2762943626355078,
          0.16797025823281955,
          0.09940723183313421
         ],
         "b": [
          0.319495238850939,
          0.5144934610602819,
          0.685849317439168,
          0.8037304938167891,
          0.8792998948884543
         ],
         "c": [
          0.06332820292076424,
          0.05041990036142213,
          0.03785631992532414,
          0.02829924795039121,
          0.021292873278411364
         ],
         "line": {
          "color": "grey",
          "width": 0.25
         },
         "marker": {
          "color": "silver",
          "line": {
           "color": "black",
           "width": 0
          },
          "opacity": 0.9,
          "size": 6
         },
         "mode": "lines+text",
         "name": "EST",
         "showlegend": false,
         "subplot": "ternary",
         "text": [
          "",
          "",
          "",
          "",
          "",
          "",
          "",
          "",
          "",
          "",
          "",
          "",
          "",
          "",
          ""
         ],
         "textfont": {
          "color": "black",
          "size": 2.534469080126887
         },
         "type": "scatterternary"
        },
        {
         "a": [
          0.6725417297249223,
          0.6600879866859637,
          0.6478310761204289,
          0.6326444035391168,
          0.590366466787263,
          0.5496580586586027,
          0.5019350739653367,
          0.46601503964838753,
          0.43426741671281543,
          0.4110949454259829,
          0.38967065663350964,
          0.3719277386430665,
          0.3539443562290441,
          0.3376863849351783,
          0.324478642020929
         ],
         "b": [
          0.2315064336572733,
          0.23693391772004793,
          0.23890431546879656,
          0.2406613277439513,
          0.2746957900356488,
          0.3104575485208689,
          0.35780265800727906,
          0.39789045663904177,
          0.4344083279707561,
          0.46359288358193085,
          0.4914744282562471,
          0.5151602001508824,
          0.5384594249232921,
          0.5590867272917115,
          0.5770292577839345
         ],
         "c": [
          0.09595183661780435,
          0.10297809559398825,
          0.11326460841077446,
          0.12669426871693196,
          0.13493774317708826,
          0.1398843928205285,
          0.14026226802738437,
          0.13609450371257062,
          0.1313242553164285,
          0.12531217099208636,
          0.11885491511024344,
          0.1129120612060511,
          0.10759621884766374,
          0.10322688777311004,
          0.09849210019513649
         ],
         "line": {
          "color": "grey",
          "width": 0.25
         },
         "marker": {
          "color": "silver",
          "line": {
           "color": "black",
           "width": 0
          },
          "opacity": 0.9,
          "size": 6
         },
         "mode": "lines+text",
         "name": "SWZ",
         "showlegend": false,
         "subplot": "ternary",
         "text": [
          "",
          "",
          "",
          "",
          "",
          "",
          "",
          "",
          "",
          "",
          "",
          "",
          "",
          "",
          ""
         ],
         "textfont": {
          "color": "black",
          "size": 2.4602796873515365
         },
         "type": "scatterternary"
        },
        {
         "a": [
          0.6725417297249223,
          0.6600879866859637,
          0.6478310761204289,
          0.6326444035391168,
          0.590366466787263
         ],
         "b": [
          0.2315064336572733,
          0.23693391772004793,
          0.23890431546879656,
          0.2406613277439513,
          0.2746957900356488
         ],
         "c": [
          0.09595183661780435,
          0.10297809559398825,
          0.11326460841077446,
          0.12669426871693196,
          0.13493774317708826
         ],
         "line": {
          "color": "grey",
          "width": 0.25
         },
         "marker": {
          "color": "silver",
          "line": {
           "color": "black",
           "width": 0
          },
          "opacity": 0.9,
          "size": 6
         },
         "mode": "lines+text",
         "name": "SWZ",
         "showlegend": false,
         "subplot": "ternary",
         "text": [
          "",
          "",
          "",
          "",
          "",
          "",
          "",
          "",
          "",
          "",
          "",
          "",
          "",
          "",
          ""
         ],
         "textfont": {
          "color": "black",
          "size": 2.4602796873515365
         },
         "type": "scatterternary"
        },
        {
         "a": [
          0.5821490617125195,
          0.5268463327142718,
          0.46909112441638345,
          0.41224547518681914,
          0.3611476552668247,
          0.32001650535287673,
          0.2881375848573626,
          0.2622253461565679,
          0.23831876067851787,
          0.22595521181126937,
          0.21724464734125187,
          0.21168557133290994,
          0.2079702653930745,
          0.205061131666464,
          0.2011276007196614
         ],
         "b": [
          0.32081592883106463,
          0.3741545464142868,
          0.43236970067847424,
          0.48456617091205684,
          0.5303305020435645,
          0.5586539054376324,
          0.5746219936155356,
          0.5772889441003703,
          0.5727272822727267,
          0.5636957330288505,
          0.5564831202279528,
          0.5488585242019527,
          0.5460383343410717,
          0.5520989187065194,
          0.5685139487776067
         ],
         "c": [
          0.09703500945641601,
          0.09899912087144125,
          0.09853917490514229,
          0.1031883539011241,
          0.10852184268961072,
          0.12132958920949097,
          0.13724042152710186,
          0.16048570974306184,
          0.18895395704875556,
          0.21034905515988017,
          0.22627223243079528,
          0.23945590446513748,
          0.24599140026585373,
          0.24283994962701647,
          0.2303584505027319
         ],
         "line": {
          "color": "grey",
          "width": 0.25
         },
         "marker": {
          "color": "silver",
          "line": {
           "color": "black",
           "width": 0
          },
          "opacity": 0.9,
          "size": 6
         },
         "mode": "lines+text",
         "name": "ETH",
         "showlegend": false,
         "subplot": "ternary",
         "text": [
          "",
          "",
          "",
          "",
          "",
          "",
          "",
          "",
          "",
          "",
          "",
          "",
          "",
          "",
          ""
         ],
         "textfont": {
          "color": "black",
          "size": 10.157501856395282
         },
         "type": "scatterternary"
        },
        {
         "a": [
          0.5821490617125195,
          0.5268463327142718,
          0.46909112441638345,
          0.41224547518681914,
          0.3611476552668247
         ],
         "b": [
          0.32081592883106463,
          0.3741545464142868,
          0.43236970067847424,
          0.48456617091205684,
          0.5303305020435645
         ],
         "c": [
          0.09703500945641601,
          0.09899912087144125,
          0.09853917490514229,
          0.1031883539011241,
          0.10852184268961072
         ],
         "line": {
          "color": "grey",
          "width": 0.25
         },
         "marker": {
          "color": "silver",
          "line": {
           "color": "black",
           "width": 0
          },
          "opacity": 0.9,
          "size": 6
         },
         "mode": "lines+text",
         "name": "ETH",
         "showlegend": false,
         "subplot": "ternary",
         "text": [
          "",
          "",
          "",
          "",
          "",
          "",
          "",
          "",
          "",
          "",
          "",
          "",
          "",
          "",
          ""
         ],
         "textfont": {
          "color": "black",
          "size": 10.157501856395282
         },
         "type": "scatterternary"
        },
        {
         "a": [
          0.7203070361480962,
          0.666337720566178,
          0.6495931722006856,
          0.644965797082549,
          0.6372349633791059,
          0.6234853155738189,
          0.6024493495716489,
          0.584234044762233,
          0.566356462797016,
          0.5539686845168419,
          0.5423349135135401,
          0.5331646391742431,
          0.5245084186764325,
          0.5167239877220106,
          0.5092805584868088
         ],
         "b": [
          0.1849856149037447,
          0.23380705699444193,
          0.2383581328791508,
          0.22601011947932886,
          0.2158819891167571,
          0.2153200813853645,
          0.2251917133646072,
          0.23948110825259433,
          0.25532263288486345,
          0.2692958072606968,
          0.28322324033669016,
          0.2953022578375957,
          0.30688522721494554,
          0.31651451885474563,
          0.325815927379847
         ],
         "c": [
          0.09470734894815877,
          0.09985522243938,
          0.11204869492016366,
          0.12902408343812205,
          0.1468830475041369,
          0.16119460304081648,
          0.17235893706374403,
          0.1762848469851728,
          0.17832090431812048,
          0.17673550822246142,
          0.17444184614976974,
          0.17153310298816124,
          0.16860635410862201,
          0.1667614934232436,
          0.16490351413334428
         ],
         "line": {
          "color": "grey",
          "width": 0.25
         },
         "marker": {
          "color": "silver",
          "line": {
           "color": "black",
           "width": 0
          },
          "opacity": 0.9,
          "size": 6
         },
         "mode": "lines+text",
         "name": "FJI",
         "showlegend": false,
         "subplot": "ternary",
         "text": [
          "",
          "",
          "",
          "",
          "",
          "",
          "",
          "",
          "",
          "",
          "",
          "",
          "",
          "",
          ""
         ],
         "textfont": {
          "color": "black",
          "size": 2.323397645575395
         },
         "type": "scatterternary"
        },
        {
         "a": [
          0.7203070361480962,
          0.666337720566178,
          0.6495931722006856,
          0.644965797082549,
          0.6372349633791059
         ],
         "b": [
          0.1849856149037447,
          0.23380705699444193,
          0.2383581328791508,
          0.22601011947932886,
          0.2158819891167571
         ],
         "c": [
          0.09470734894815877,
          0.09985522243938,
          0.11204869492016366,
          0.12902408343812205,
          0.1468830475041369
         ],
         "line": {
          "color": "grey",
          "width": 0.25
         },
         "marker": {
          "color": "silver",
          "line": {
           "color": "black",
           "width": 0
          },
          "opacity": 0.9,
          "size": 6
         },
         "mode": "lines+text",
         "name": "FJI",
         "showlegend": false,
         "subplot": "ternary",
         "text": [
          "",
          "",
          "",
          "",
          "",
          "",
          "",
          "",
          "",
          "",
          "",
          "",
          "",
          "",
          ""
         ],
         "textfont": {
          "color": "black",
          "size": 2.323397645575395
         },
         "type": "scatterternary"
        },
        {
         "a": [
          0.7675774421467012,
          0.6658508836766709,
          0.5346041316774779,
          0.4160561838586657,
          0.299692636712271,
          0.20581585080782744,
          0.13614318640325662,
          0.10120800228509003,
          0.08343374013078259,
          0.07364666749075474,
          0.06498643925517072,
          0.0557311296028104,
          0.05026259310653808,
          0.04436838155066302,
          0.039427928331228615
         ],
         "b": [
          0.1536170832289302,
          0.25721176476332475,
          0.38990385533691446,
          0.5083952979610891,
          0.627480571136439,
          0.7303471840992795,
          0.8134371217893651,
          0.8561537493393622,
          0.8775197837890982,
          0.8892185232639028,
          0.8997841888852379,
          0.9105272423404049,
          0.9194800240790626,
          0.9293844336767592,
          0.9388140229510656
         ],
         "c": [
          0.0788054746243685,
          0.07693735156000436,
          0.0754920129856078,
          0.07554851818024516,
          0.07282679215128997,
          0.06383696509289301,
          0.05041969180737844,
          0.042638248375547756,
          0.039046476080119186,
          0.03713480924534258,
          0.03522937185959124,
          0.03374162805678483,
          0.030257382814399394,
          0.026247184772577647,
          0.021758048717705807
         ],
         "line": {
          "color": "grey",
          "width": 0.25
         },
         "marker": {
          "color": "silver",
          "line": {
           "color": "black",
           "width": 0
          },
          "opacity": 0.9,
          "size": 6
         },
         "mode": "lines+text",
         "name": "FIN",
         "showlegend": false,
         "subplot": "ternary",
         "text": [
          "",
          "",
          "",
          "",
          "",
          "",
          "",
          "",
          "",
          "",
          "",
          "",
          "",
          "",
          ""
         ],
         "textfont": {
          "color": "black",
          "size": 3.713162868731785
         },
         "type": "scatterternary"
        },
        {
         "a": [
          0.7675774421467012,
          0.6658508836766709,
          0.5346041316774779,
          0.4160561838586657,
          0.299692636712271
         ],
         "b": [
          0.1536170832289302,
          0.25721176476332475,
          0.38990385533691446,
          0.5083952979610891,
          0.627480571136439
         ],
         "c": [
          0.0788054746243685,
          0.07693735156000436,
          0.0754920129856078,
          0.07554851818024516,
          0.07282679215128997
         ],
         "line": {
          "color": "grey",
          "width": 0.25
         },
         "marker": {
          "color": "silver",
          "line": {
           "color": "black",
           "width": 0
          },
          "opacity": 0.9,
          "size": 6
         },
         "mode": "lines+text",
         "name": "FIN",
         "showlegend": false,
         "subplot": "ternary",
         "text": [
          "",
          "",
          "",
          "",
          "",
          "",
          "",
          "",
          "",
          "",
          "",
          "",
          "",
          "",
          ""
         ],
         "textfont": {
          "color": "black",
          "size": 3.713162868731785
         },
         "type": "scatterternary"
        },
        {
         "a": [
          0.7384394141461875,
          0.6473759714515226,
          0.5743703587536515,
          0.5001747887418392,
          0.4262046089640616,
          0.36030919672943124,
          0.3027409454115334,
          0.26352202790264956,
          0.2331355936279474,
          0.21304423647225607,
          0.19629805962553554,
          0.18190578099209778,
          0.17060567294211737,
          0.15806452805235227,
          0.14734391771558966
         ],
         "b": [
          0.17915804206461083,
          0.2698525076941803,
          0.33836499730999703,
          0.4079176741690507,
          0.47830617403247266,
          0.5445497452892518,
          0.6050385869595992,
          0.6493369779362129,
          0.6838144342114576,
          0.7086689960380919,
          0.7300783622001352,
          0.7491647824846541,
          0.7648823549049519,
          0.78167924449481,
          0.7964042591337679
         ],
         "c": [
          0.08240254378920163,
          0.08277152085429702,
          0.08726464393635125,
          0.09190753708911012,
          0.09548921700346605,
          0.09514105798131701,
          0.09222046762886732,
          0.08714099416113773,
          0.08304997216059494,
          0.07828676748965216,
          0.07362357817432919,
          0.06892943652324801,
          0.06451197215293078,
          0.060256227452837735,
          0.05625182315064237
         ],
         "line": {
          "color": "grey",
          "width": 0.25
         },
         "marker": {
          "color": "silver",
          "line": {
           "color": "black",
           "width": 0
          },
          "opacity": 0.9,
          "size": 6
         },
         "mode": "lines+text",
         "name": "FRA",
         "showlegend": false,
         "subplot": "ternary",
         "text": [
          "",
          "",
          "",
          "",
          "",
          "",
          "",
          "",
          "",
          "",
          "",
          "",
          "",
          "",
          ""
         ],
         "textfont": {
          "color": "black",
          "size": 8.248469653389904
         },
         "type": "scatterternary"
        },
        {
         "a": [
          0.7384394141461875,
          0.6473759714515226,
          0.5743703587536515,
          0.5001747887418392,
          0.4262046089640616
         ],
         "b": [
          0.17915804206461083,
          0.2698525076941803,
          0.33836499730999703,
          0.4079176741690507,
          0.47830617403247266
         ],
         "c": [
          0.08240254378920163,
          0.08277152085429702,
          0.08726464393635125,
          0.09190753708911012,
          0.09548921700346605
         ],
         "line": {
          "color": "grey",
          "width": 0.25
         },
         "marker": {
          "color": "silver",
          "line": {
           "color": "black",
           "width": 0
          },
          "opacity": 0.9,
          "size": 6
         },
         "mode": "lines+text",
         "name": "FRA",
         "showlegend": false,
         "subplot": "ternary",
         "text": [
          "",
          "",
          "",
          "",
          "",
          "",
          "",
          "",
          "",
          "",
          "",
          "",
          "",
          "",
          ""
         ],
         "textfont": {
          "color": "black",
          "size": 8.248469653389904
         },
         "type": "scatterternary"
        },
        {
         "a": [
          0.6389981248775826,
          0.5343539640907508,
          0.4829584642422287,
          0.4562595699228681,
          0.43915159878641924,
          0.43549728792816256,
          0.4479508266343446,
          0.462558177880788,
          0.47725388701980676,
          0.4911131532627296,
          0.49724878205438633,
          0.493429100021929,
          0.47854048810661964,
          0.45696178865912546,
          0.44282835939518783
         ],
         "b": [
          0.27740150503349265,
          0.3764992523011502,
          0.42010996638630627,
          0.4461687853754407,
          0.4473592087157004,
          0.4305969142014069,
          0.3912407507689838,
          0.36012879448237567,
          0.32886216999338636,
          0.30533570692151046,
          0.29715047719146365,
          0.3043860277275548,
          0.3230546489845205,
          0.34404997463676745,
          0.35951243234634606
         ],
         "c": [
          0.08360037008892472,
          0.0891467836080989,
          0.09693156937146495,
          0.09757164470169126,
          0.11348919249788035,
          0.1339057978704304,
          0.16080842259667158,
          0.17731302763683637,
          0.19388394298680695,
          0.2035511398157599,
          0.20560074075415008,
          0.20218487225051612,
          0.19840486290885984,
          0.198988236704107,
          0.19765920825846622
         ],
         "line": {
          "color": "grey",
          "width": 0.25
         },
         "marker": {
          "color": "silver",
          "line": {
           "color": "black",
           "width": 0
          },
          "opacity": 0.9,
          "size": 6
         },
         "mode": "lines+text",
         "name": "GAB",
         "showlegend": false,
         "subplot": "ternary",
         "text": [
          "",
          "",
          "",
          "",
          "",
          "",
          "",
          "",
          "",
          "",
          "",
          "",
          "",
          "",
          ""
         ],
         "textfont": {
          "color": "black",
          "size": 2.9001724424648145
         },
         "type": "scatterternary"
        },
        {
         "a": [
          0.6389981248775826,
          0.5343539640907508,
          0.4829584642422287,
          0.4562595699228681,
          0.43915159878641924
         ],
         "b": [
          0.27740150503349265,
          0.3764992523011502,
          0.42010996638630627,
          0.4461687853754407,
          0.4473592087157004
         ],
         "c": [
          0.08360037008892472,
          0.0891467836080989,
          0.09693156937146495,
          0.09757164470169126,
          0.11348919249788035
         ],
         "line": {
          "color": "grey",
          "width": 0.25
         },
         "marker": {
          "color": "silver",
          "line": {
           "color": "black",
           "width": 0
          },
          "opacity": 0.9,
          "size": 6
         },
         "mode": "lines+text",
         "name": "GAB",
         "showlegend": false,
         "subplot": "ternary",
         "text": [
          "",
          "",
          "",
          "",
          "",
          "",
          "",
          "",
          "",
          "",
          "",
          "",
          "",
          "",
          ""
         ],
         "textfont": {
          "color": "black",
          "size": 2.9001724424648145
         },
         "type": "scatterternary"
        },
        {
         "a": [
          0.730071428873714,
          0.6568179717907107,
          0.6302914495798235,
          0.6139282237756923,
          0.597635872069405,
          0.5776200657393648,
          0.5533635133601749,
          0.5328122333674407,
          0.5129602152632177,
          0.4995818041657297,
          0.4868219460185333,
          0.4767453579760381,
          0.4658132895795861,
          0.45460438926148866,
          0.4455052210736845
         ],
         "b": [
          0.18215203514955863,
          0.25298785211723274,
          0.2684325709964741,
          0.26961903767499,
          0.2686139930013209,
          0.27428559279192666,
          0.28594920812062247,
          0.30139214335545816,
          0.31772427315471163,
          0.3314973885360388,
          0.34519032135533456,
          0.3576187726860002,
          0.3703855553547367,
          0.382060100342184,
          0.39239950426707915
         ],
         "c": [
          0.08777653597672751,
          0.09019417609205625,
          0.10127597942370244,
          0.11645273854931762,
          0.13375013492927415,
          0.14809434146870865,
          0.16068727851920245,
          0.16579562327710118,
          0.16931551158207062,
          0.16892080729823145,
          0.16798773262613217,
          0.1656358693379618,
          0.16380115506567713,
          0.16333551039632727,
          0.16209527465923634
         ],
         "line": {
          "color": "grey",
          "width": 0.25
         },
         "marker": {
          "color": "silver",
          "line": {
           "color": "black",
           "width": 0
          },
          "opacity": 0.9,
          "size": 6
         },
         "mode": "lines+text",
         "name": "GEO",
         "showlegend": false,
         "subplot": "ternary",
         "text": [
          "",
          "",
          "",
          "",
          "",
          "",
          "",
          "",
          "",
          "",
          "",
          "",
          "",
          "",
          ""
         ],
         "textfont": {
          "color": "black",
          "size": 3.328279660982005
         },
         "type": "scatterternary"
        },
        {
         "a": [
          0.730071428873714,
          0.6568179717907107,
          0.6302914495798235,
          0.6139282237756923,
          0.597635872069405
         ],
         "b": [
          0.18215203514955863,
          0.25298785211723274,
          0.2684325709964741,
          0.26961903767499,
          0.2686139930013209
         ],
         "c": [
          0.08777653597672751,
          0.09019417609205625,
          0.10127597942370244,
          0.11645273854931762,
          0.13375013492927415
         ],
         "line": {
          "color": "grey",
          "width": 0.25
         },
         "marker": {
          "color": "silver",
          "line": {
           "color": "black",
           "width": 0
          },
          "opacity": 0.9,
          "size": 6
         },
         "mode": "lines+text",
         "name": "GEO",
         "showlegend": false,
         "subplot": "ternary",
         "text": [
          "",
          "",
          "",
          "",
          "",
          "",
          "",
          "",
          "",
          "",
          "",
          "",
          "",
          "",
          ""
         ],
         "textfont": {
          "color": "black",
          "size": 3.328279660982005
         },
         "type": "scatterternary"
        },
        {
         "a": [
          0.6722549245061644,
          0.5436903167826095,
          0.424581331780392,
          0.3304558841922819,
          0.24531919758846749,
          0.17606829976874347,
          0.12410282482697417,
          0.09580120923661453,
          0.07985529359097804,
          0.07026018167200097,
          0.0620002280524147,
          0.05360584747724988,
          0.04818792682920401,
          0.042146405682067865,
          0.037216582347692255
         ],
         "b": [
          0.2566992042789748,
          0.3907317673927958,
          0.5129055222947312,
          0.6078993711855981,
          0.6950998583958425,
          0.7710478093320288,
          0.8323541068897883,
          0.8663213748822992,
          0.8850427143648072,
          0.8965820360265194,
          0.9067637733146479,
          0.9167644512593521,
          0.9251109222713962,
          0.934206752264507,
          0.942447861311053
         ],
         "c": [
          0.07104587121486074,
          0.06557791582459495,
          0.06251314592487658,
          0.06164474462212017,
          0.059580944015689905,
          0.05288389089922794,
          0.04354306828323755,
          0.03787741588108621,
          0.0351019920442147,
          0.03315778230147954,
          0.031235998632937634,
          0.029629701263398006,
          0.026701150899399735,
          0.02364684205342517,
          0.020335556341254765
         ],
         "line": {
          "color": "grey",
          "width": 0.25
         },
         "marker": {
          "color": "silver",
          "line": {
           "color": "black",
           "width": 0
          },
          "opacity": 0.9,
          "size": 6
         },
         "mode": "lines+text",
         "name": "DEU",
         "showlegend": false,
         "subplot": "ternary",
         "text": [
          "",
          "",
          "",
          "",
          "",
          "",
          "",
          "",
          "",
          "",
          "",
          "",
          "",
          "",
          ""
         ],
         "textfont": {
          "color": "black",
          "size": 9.03020777180467
         },
         "type": "scatterternary"
        },
        {
         "a": [
          0.6722549245061644,
          0.5436903167826095,
          0.424581331780392,
          0.3304558841922819,
          0.24531919758846749
         ],
         "b": [
          0.2566992042789748,
          0.3907317673927958,
          0.5129055222947312,
          0.6078993711855981,
          0.6950998583958425
         ],
         "c": [
          0.07104587121486074,
          0.06557791582459495,
          0.06251314592487658,
          0.06164474462212017,
          0.059580944015689905
         ],
         "line": {
          "color": "grey",
          "width": 0.25
         },
         "marker": {
          "color": "silver",
          "line": {
           "color": "black",
           "width": 0
          },
          "opacity": 0.9,
          "size": 6
         },
         "mode": "lines+text",
         "name": "DEU",
         "showlegend": false,
         "subplot": "ternary",
         "text": [
          "",
          "",
          "",
          "",
          "",
          "",
          "",
          "",
          "",
          "",
          "",
          "",
          "",
          "",
          ""
         ],
         "textfont": {
          "color": "black",
          "size": 9.03020777180467
         },
         "type": "scatterternary"
        },
        {
         "a": [
          0.528941225896178,
          0.5000864700971013,
          0.46535639095700726,
          0.42332207680301737,
          0.380505803329406,
          0.3466759509742299,
          0.3186036050423611,
          0.3001329933512224,
          0.2845195863700817,
          0.2762159969473951,
          0.2678097869860091,
          0.26110060346834857,
          0.2549328118939993,
          0.24900922849769924,
          0.24407999380533496
         ],
         "b": [
          0.37840147150590386,
          0.4032046925789371,
          0.43687858824071485,
          0.48100334754071605,
          0.5240909259518826,
          0.5581159229756378,
          0.5862808641864268,
          0.6053147537065016,
          0.620318088939328,
          0.6253058632239513,
          0.6296860637958751,
          0.634201262781107,
          0.6392687868066982,
          0.6452765765166462,
          0.6479293665691208
         ],
         "c": [
          0.09265730259791818,
          0.09670883732396177,
          0.09776502080227788,
          0.09567457565626661,
          0.09540327071871144,
          0.09520812605013239,
          0.09511553077121211,
          0.09455225294227622,
          0.09516232469059034,
          0.09847813982865342,
          0.10250414921811567,
          0.10469813375054442,
          0.1057984012993026,
          0.1057141949856546,
          0.10799063962554412
         ],
         "line": {
          "color": "grey",
          "width": 0.25
         },
         "marker": {
          "color": "silver",
          "line": {
           "color": "black",
           "width": 0
          },
          "opacity": 0.9,
          "size": 6
         },
         "mode": "lines+text",
         "name": "GHA",
         "showlegend": false,
         "subplot": "ternary",
         "text": [
          "",
          "",
          "",
          "",
          "",
          "",
          "",
          "",
          "",
          "",
          "",
          "",
          "",
          "",
          ""
         ],
         "textfont": {
          "color": "black",
          "size": 6.467337986160495
         },
         "type": "scatterternary"
        },
        {
         "a": [
          0.528941225896178,
          0.5000864700971013,
          0.46535639095700726,
          0.42332207680301737,
          0.380505803329406
         ],
         "b": [
          0.37840147150590386,
          0.4032046925789371,
          0.43687858824071485,
          0.48100334754071605,
          0.5240909259518826
         ],
         "c": [
          0.09265730259791818,
          0.09670883732396177,
          0.09776502080227788,
          0.09567457565626661,
          0.09540327071871144
         ],
         "line": {
          "color": "grey",
          "width": 0.25
         },
         "marker": {
          "color": "silver",
          "line": {
           "color": "black",
           "width": 0
          },
          "opacity": 0.9,
          "size": 6
         },
         "mode": "lines+text",
         "name": "GHA",
         "showlegend": false,
         "subplot": "ternary",
         "text": [
          "",
          "",
          "",
          "",
          "",
          "",
          "",
          "",
          "",
          "",
          "",
          "",
          "",
          "",
          ""
         ],
         "textfont": {
          "color": "black",
          "size": 6.467337986160495
         },
         "type": "scatterternary"
        },
        {
         "a": [
          0.7788737061316884,
          0.701046726294092,
          0.6362166932507834,
          0.5674824382013558,
          0.49333297383008823,
          0.42214037509485525,
          0.35728217693811726,
          0.31174815830298974,
          0.276595800972203,
          0.2527380288315024,
          0.23193005233518238,
          0.2131790973496099,
          0.1984209021716367,
          0.18210749979788665,
          0.16802878491440787
         ],
         "b": [
          0.13532167272760898,
          0.21014072192579994,
          0.2676123028580375,
          0.3281792612148285,
          0.3949716927328897,
          0.4636997647441949,
          0.5294589087762003,
          0.579413739947217,
          0.6180960995636176,
          0.64711674448617,
          0.6736451885931128,
          0.698556152907964,
          0.7194147273735741,
          0.7417379989912706,
          0.7617152961597441
         ],
         "c": [
          0.08580462114070253,
          0.08881255178010787,
          0.09617100389117901,
          0.10433830058381556,
          0.11169533343702208,
          0.11415986016094976,
          0.11325891428568255,
          0.10883810174979339,
          0.10530809946417956,
          0.10014522668232753,
          0.09442475907170465,
          0.08826474974242622,
          0.0821643704547893,
          0.07615450121084291,
          0.07025591892584811
         ],
         "line": {
          "color": "grey",
          "width": 0.25
         },
         "marker": {
          "color": "silver",
          "line": {
           "color": "black",
           "width": 0
          },
          "opacity": 0.9,
          "size": 6
         },
         "mode": "lines+text",
         "name": "GRC",
         "showlegend": false,
         "subplot": "ternary",
         "text": [
          "",
          "",
          "",
          "",
          "",
          "",
          "",
          "",
          "",
          "",
          "",
          "",
          "",
          "",
          ""
         ],
         "textfont": {
          "color": "black",
          "size": 4.513400202310181
         },
         "type": "scatterternary"
        },
        {
         "a": [
          0.7788737061316884,
          0.701046726294092,
          0.6362166932507834,
          0.5674824382013558,
          0.49333297383008823
         ],
         "b": [
          0.13532167272760898,
          0.21014072192579994,
          0.2676123028580375,
          0.3281792612148285,
          0.3949716927328897
         ],
         "c": [
          0.08580462114070253,
          0.08881255178010787,
          0.09617100389117901,
          0.10433830058381556,
          0.11169533343702208
         ],
         "line": {
          "color": "grey",
          "width": 0.25
         },
         "marker": {
          "color": "silver",
          "line": {
           "color": "black",
           "width": 0
          },
          "opacity": 0.9,
          "size": 6
         },
         "mode": "lines+text",
         "name": "GRC",
         "showlegend": false,
         "subplot": "ternary",
         "text": [
          "",
          "",
          "",
          "",
          "",
          "",
          "",
          "",
          "",
          "",
          "",
          "",
          "",
          "",
          ""
         ],
         "textfont": {
          "color": "black",
          "size": 4.513400202310181
         },
         "type": "scatterternary"
        },
        {
         "a": [
          0,
          0,
          0,
          0,
          0,
          0,
          0,
          0,
          0,
          0,
          0,
          0,
          0,
          0,
          0
         ],
         "b": [
          0,
          0,
          0,
          0,
          0,
          0,
          0,
          0,
          0,
          0,
          0,
          0,
          0,
          0,
          0
         ],
         "c": [
          0,
          0,
          0,
          0,
          0,
          0,
          0,
          0,
          0,
          0,
          0,
          0,
          0,
          0,
          0
         ],
         "line": {
          "color": "grey",
          "width": 0.25
         },
         "marker": {
          "color": "silver",
          "line": {
           "color": "black",
           "width": 0
          },
          "opacity": 0.9,
          "size": 6
         },
         "mode": "lines+text",
         "name": "GRD",
         "showlegend": false,
         "subplot": "ternary",
         "text": [
          "",
          "",
          "",
          "",
          "",
          "",
          "",
          "",
          "",
          "",
          "",
          "",
          "",
          "",
          ""
         ],
         "textfont": {
          "color": "black",
          "size": 1.5925507299474955
         },
         "type": "scatterternary"
        },
        {
         "a": [
          0,
          0,
          0,
          0,
          0
         ],
         "b": [
          0,
          0,
          0,
          0,
          0
         ],
         "c": [
          0,
          0,
          0,
          0,
          0
         ],
         "line": {
          "color": "grey",
          "width": 0.25
         },
         "marker": {
          "color": "silver",
          "line": {
           "color": "black",
           "width": 0
          },
          "opacity": 0.9,
          "size": 6
         },
         "mode": "lines+text",
         "name": "GRD",
         "showlegend": false,
         "subplot": "ternary",
         "text": [
          "",
          "",
          "",
          "",
          "",
          "",
          "",
          "",
          "",
          "",
          "",
          "",
          "",
          "",
          ""
         ],
         "textfont": {
          "color": "black",
          "size": 1.5925507299474955
         },
         "type": "scatterternary"
        },
        {
         "a": [
          0.8147132172796556,
          0.7823055914545525,
          0.7346374228538898,
          0.6965916830637295,
          0.6589032164193421,
          0.6309451170420046,
          0.6038758523628611,
          0.5837136939086689,
          0.5590578183610826,
          0.5424152935136014,
          0.518394641657584,
          0.4914930015828948,
          0.45874174576331467,
          0.4314589263500857,
          0.40829018784440735
         ],
         "b": [
          0.07915212024172837,
          0.10246911749627736,
          0.13830494520339612,
          0.16017971357578323,
          0.17878141728955999,
          0.18895668806205682,
          0.2007376072823381,
          0.21689872379617237,
          0.24457714551892956,
          0.2681715425531845,
          0.3022351412473205,
          0.3362230007011794,
          0.3665693443213594,
          0.38818745051087605,
          0.4011287140217466
         ],
         "c": [
          0.10613466247861618,
          0.11522529104917038,
          0.12705763194271422,
          0.14322860336048707,
          0.16231536629109788,
          0.1800981948959386,
          0.19538654035480077,
          0.19938758229515874,
          0.19636503611998776,
          0.18941316393321403,
          0.1793702170950953,
          0.17228399771592603,
          0.17468890991532599,
          0.1803536231390382,
          0.19058109813384616
         ],
         "line": {
          "color": "grey",
          "width": 0.25
         },
         "marker": {
          "color": "silver",
          "line": {
           "color": "black",
           "width": 0
          },
          "opacity": 0.9,
          "size": 6
         },
         "mode": "lines+text",
         "name": "GTM",
         "showlegend": false,
         "subplot": "ternary",
         "text": [
          "",
          "",
          "",
          "",
          "",
          "",
          "",
          "",
          "",
          "",
          "",
          "",
          "",
          "",
          ""
         ],
         "textfont": {
          "color": "black",
          "size": 5.276241383715424
         },
         "type": "scatterternary"
        },
        {
         "a": [
          0.8147132172796556,
          0.7823055914545525,
          0.7346374228538898,
          0.6965916830637295,
          0.6589032164193421
         ],
         "b": [
          0.07915212024172837,
          0.10246911749627736,
          0.13830494520339612,
          0.16017971357578323,
          0.17878141728955999
         ],
         "c": [
          0.10613466247861618,
          0.11522529104917038,
          0.12705763194271422,
          0.14322860336048707,
          0.16231536629109788
         ],
         "line": {
          "color": "grey",
          "width": 0.25
         },
         "marker": {
          "color": "silver",
          "line": {
           "color": "black",
           "width": 0
          },
          "opacity": 0.9,
          "size": 6
         },
         "mode": "lines+text",
         "name": "GTM",
         "showlegend": false,
         "subplot": "ternary",
         "text": [
          "",
          "",
          "",
          "",
          "",
          "",
          "",
          "",
          "",
          "",
          "",
          "",
          "",
          "",
          ""
         ],
         "textfont": {
          "color": "black",
          "size": 5.276241383715424
         },
         "type": "scatterternary"
        },
        {
         "a": [
          0.6999126723217448,
          0.6449034781016711,
          0.5789859389640744,
          0.5073321689956312,
          0.45236232052942715,
          0.40452350246490915,
          0.36556953697905936,
          0.34145217243540826,
          0.32558822985762975,
          0.31894665816866474,
          0.3111049218315506,
          0.30408328831209724,
          0.3014003482091469,
          0.29556604579502554,
          0.28688931152268315
         ],
         "b": [
          0.19767686626447367,
          0.24801272214094575,
          0.31059217792724364,
          0.3803029288056595,
          0.43080051535856234,
          0.46959289785183167,
          0.4943898293935869,
          0.5000186556588461,
          0.4944548652263449,
          0.4786990004736147,
          0.4650040335393974,
          0.45678770271618946,
          0.4512021622629136,
          0.4525695498465935,
          0.4631865041610572
         ],
         "c": [
          0.10241046141378181,
          0.1070837997573833,
          0.11042188310868195,
          0.11236490219870937,
          0.1168371641120103,
          0.12588359968325918,
          0.1400406336273538,
          0.15852917190574556,
          0.17995690491602537,
          0.2023543413577206,
          0.22389104462905202,
          0.2391290089717133,
          0.24739748952793966,
          0.25186440435838087,
          0.2499241843162596
         ],
         "line": {
          "color": "grey",
          "width": 0.25
         },
         "marker": {
          "color": "silver",
          "line": {
           "color": "black",
           "width": 0
          },
          "opacity": 0.9,
          "size": 6
         },
         "mode": "lines+text",
         "name": "GIN",
         "showlegend": false,
         "subplot": "ternary",
         "text": [
          "",
          "",
          "",
          "",
          "",
          "",
          "",
          "",
          "",
          "",
          "",
          "",
          "",
          "",
          ""
         ],
         "textfont": {
          "color": "black",
          "size": 4.825326173400727
         },
         "type": "scatterternary"
        },
        {
         "a": [
          0.6999126723217448,
          0.6449034781016711,
          0.5789859389640744,
          0.5073321689956312,
          0.45236232052942715
         ],
         "b": [
          0.19767686626447367,
          0.24801272214094575,
          0.31059217792724364,
          0.3803029288056595,
          0.43080051535856234
         ],
         "c": [
          0.10241046141378181,
          0.1070837997573833,
          0.11042188310868195,
          0.11236490219870937,
          0.1168371641120103
         ],
         "line": {
          "color": "grey",
          "width": 0.25
         },
         "marker": {
          "color": "silver",
          "line": {
           "color": "black",
           "width": 0
          },
          "opacity": 0.9,
          "size": 6
         },
         "mode": "lines+text",
         "name": "GIN",
         "showlegend": false,
         "subplot": "ternary",
         "text": [
          "",
          "",
          "",
          "",
          "",
          "",
          "",
          "",
          "",
          "",
          "",
          "",
          "",
          "",
          ""
         ],
         "textfont": {
          "color": "black",
          "size": 4.825326173400727
         },
         "type": "scatterternary"
        },
        {
         "a": [
          0.6489666047477483,
          0.6104226981634822,
          0.5621034944744643,
          0.5059463225604923,
          0.4448266953834379,
          0.3888172286820617,
          0.338052680972328,
          0.3016866180452299,
          0.2744899220354574,
          0.25856907661281486,
          0.24395529706836938,
          0.2322106741674731,
          0.2235909355016667,
          0.21614218286062442,
          0.2108975451334268
         ],
         "b": [
          0.2559066952221612,
          0.29115554468846017,
          0.33658134518337096,
          0.39007013346073205,
          0.4519957079349977,
          0.506297499391709,
          0.5520956014425961,
          0.5772672547459329,
          0.5888831545432401,
          0.5857762286514847,
          0.5773325090618544,
          0.5674081414721208,
          0.5588472599156007,
          0.5523077376451317,
          0.5513174217863683
         ],
         "c": [
          0.09512670003009065,
          0.09842175714805762,
          0.10131516034216449,
          0.10398354397877571,
          0.10317759668156419,
          0.10488527192622947,
          0.10985171758507606,
          0.12104612720883745,
          0.13662692342130245,
          0.15565469473570034,
          0.17871219386977633,
          0.20038118436040603,
          0.21756180458273258,
          0.2315500794942437,
          0.23778503308020488
         ],
         "line": {
          "color": "grey",
          "width": 0.25
         },
         "marker": {
          "color": "silver",
          "line": {
           "color": "black",
           "width": 0
          },
          "opacity": 0.9,
          "size": 6
         },
         "mode": "lines+text",
         "name": "GNB",
         "showlegend": false,
         "subplot": "ternary",
         "text": [
          "",
          "",
          "",
          "",
          "",
          "",
          "",
          "",
          "",
          "",
          "",
          "",
          "",
          "",
          ""
         ],
         "textfont": {
          "color": "black",
          "size": 2.8045357728429194
         },
         "type": "scatterternary"
        },
        {
         "a": [
          0.6489666047477483,
          0.6104226981634822,
          0.5621034944744643,
          0.5059463225604923,
          0.4448266953834379
         ],
         "b": [
          0.2559066952221612,
          0.29115554468846017,
          0.33658134518337096,
          0.39007013346073205,
          0.4519957079349977
         ],
         "c": [
          0.09512670003009065,
          0.09842175714805762,
          0.10131516034216449,
          0.10398354397877571,
          0.10317759668156419
         ],
         "line": {
          "color": "grey",
          "width": 0.25
         },
         "marker": {
          "color": "silver",
          "line": {
           "color": "black",
           "width": 0
          },
          "opacity": 0.9,
          "size": 6
         },
         "mode": "lines+text",
         "name": "GNB",
         "showlegend": false,
         "subplot": "ternary",
         "text": [
          "",
          "",
          "",
          "",
          "",
          "",
          "",
          "",
          "",
          "",
          "",
          "",
          "",
          "",
          ""
         ],
         "textfont": {
          "color": "black",
          "size": 2.8045357728429194
         },
         "type": "scatterternary"
        },
        {
         "a": [
          0.6431669773013773,
          0.44891364418272117,
          0.29133883433805446,
          0.20763697454796515,
          0.1525659619201216,
          0.12132490572883706,
          0.09567221446286459,
          0.07864052018728557,
          0.06556591956055295,
          0.060105716234503156,
          0.057114527341194724,
          0.05433936885320672,
          0.051409450485991964,
          0.046222630158441275,
          0.04243307967187498
         ],
         "b": [
          0.285206797922972,
          0.4925291781793272,
          0.6631425084146965,
          0.7509463512387267,
          0.8008151414610001,
          0.8203908221256407,
          0.8214636649117834,
          0.796535204487566,
          0.7686997361280469,
          0.7557255068823108,
          0.751006485861526,
          0.7440926465117639,
          0.737337597324496,
          0.7264702162836677,
          0.7394817563384551
         ],
         "c": [
          0.07162622477565066,
          0.058557177637951804,
          0.045518657247249135,
          0.04141667421330807,
          0.046618896618878324,
          0.058284272145522134,
          0.08286412062535213,
          0.12482427532514859,
          0.16573434431140033,
          0.18416877688318595,
          0.19187898679727944,
          0.2015679846350294,
          0.21125295218951193,
          0.227307153557891,
          0.21808516398966993
         ],
         "line": {
          "color": "grey",
          "width": 0.25
         },
         "marker": {
          "color": "silver",
          "line": {
           "color": "black",
           "width": 0
          },
          "opacity": 0.9,
          "size": 6
         },
         "mode": "lines+text",
         "name": "GUY",
         "showlegend": false,
         "subplot": "ternary",
         "text": [
          "",
          "",
          "",
          "",
          "",
          "",
          "",
          "",
          "",
          "",
          "",
          "",
          "",
          "",
          ""
         ],
         "textfont": {
          "color": "black",
          "size": 2.247361474191627
         },
         "type": "scatterternary"
        },
        {
         "a": [
          0.6431669773013773,
          0.44891364418272117,
          0.29133883433805446,
          0.20763697454796515,
          0.1525659619201216
         ],
         "b": [
          0.285206797922972,
          0.4925291781793272,
          0.6631425084146965,
          0.7509463512387267,
          0.8008151414610001
         ],
         "c": [
          0.07162622477565066,
          0.058557177637951804,
          0.045518657247249135,
          0.04141667421330807,
          0.046618896618878324
         ],
         "line": {
          "color": "grey",
          "width": 0.25
         },
         "marker": {
          "color": "silver",
          "line": {
           "color": "black",
           "width": 0
          },
          "opacity": 0.9,
          "size": 6
         },
         "mode": "lines+text",
         "name": "GUY",
         "showlegend": false,
         "subplot": "ternary",
         "text": [
          "",
          "",
          "",
          "",
          "",
          "",
          "",
          "",
          "",
          "",
          "",
          "",
          "",
          "",
          ""
         ],
         "textfont": {
          "color": "black",
          "size": 2.247361474191627
         },
         "type": "scatterternary"
        },
        {
         "a": [
          0.6018051173359369,
          0.5678621055297148,
          0.5308519649697384,
          0.4790964635587328,
          0.4214853345328948,
          0.3713213902675363,
          0.32951749295617194,
          0.2983536828535335,
          0.2779461441001936,
          0.26378434190296063,
          0.2517092766522069,
          0.24244865103039434,
          0.23478274397091453,
          0.22748835892672448,
          0.22160452980546125
         ],
         "b": [
          0.3078822760610887,
          0.3394825937553853,
          0.3714611066013449,
          0.41533133725102345,
          0.4662612168168669,
          0.5158084966856165,
          0.5584869747064019,
          0.5908637941100793,
          0.6150519365546449,
          0.6325530299740588,
          0.6466722553965004,
          0.6576556167047547,
          0.6654418650046822,
          0.6735254572808846,
          0.6817427633474239
         ],
         "c": [
          0.0903126066029744,
          0.0926553007148998,
          0.09768692842891669,
          0.10557219919024376,
          0.1122534486502384,
          0.11287011304684702,
          0.11199553233742619,
          0.11078252303638736,
          0.10700191934516176,
          0.10366262812298074,
          0.10161846795129273,
          0.09989573226485068,
          0.09977539102440339,
          0.09898618379239105,
          0.0966527068471149
         ],
         "line": {
          "color": "grey",
          "width": 0.25
         },
         "marker": {
          "color": "silver",
          "line": {
           "color": "black",
           "width": 0
          },
          "opacity": 0.9,
          "size": 6
         },
         "mode": "lines+text",
         "name": "HTI",
         "showlegend": false,
         "subplot": "ternary",
         "text": [
          "",
          "",
          "",
          "",
          "",
          "",
          "",
          "",
          "",
          "",
          "",
          "",
          "",
          "",
          ""
         ],
         "textfont": {
          "color": "black",
          "size": 4.60377635612377
         },
         "type": "scatterternary"
        },
        {
         "a": [
          0.6018051173359369,
          0.5678621055297148,
          0.5308519649697384,
          0.4790964635587328,
          0.4214853345328948
         ],
         "b": [
          0.3078822760610887,
          0.3394825937553853,
          0.3714611066013449,
          0.41533133725102345,
          0.4662612168168669
         ],
         "c": [
          0.0903126066029744,
          0.0926553007148998,
          0.09768692842891669,
          0.10557219919024376,
          0.1122534486502384
         ],
         "line": {
          "color": "grey",
          "width": 0.25
         },
         "marker": {
          "color": "silver",
          "line": {
           "color": "black",
           "width": 0
          },
          "opacity": 0.9,
          "size": 6
         },
         "mode": "lines+text",
         "name": "HTI",
         "showlegend": false,
         "subplot": "ternary",
         "text": [
          "",
          "",
          "",
          "",
          "",
          "",
          "",
          "",
          "",
          "",
          "",
          "",
          "",
          "",
          ""
         ],
         "textfont": {
          "color": "black",
          "size": 4.60377635612377
         },
         "type": "scatterternary"
        },
        {
         "a": [
          0,
          0,
          0,
          0,
          0,
          0,
          0,
          0,
          0,
          0,
          0,
          0,
          0,
          0,
          0
         ],
         "b": [
          0,
          0,
          0,
          0,
          0,
          0,
          0,
          0,
          0,
          0,
          0,
          0,
          0,
          0,
          0
         ],
         "c": [
          0,
          0,
          0,
          0,
          0,
          0,
          0,
          0,
          0,
          0,
          0,
          0,
          0,
          0,
          0
         ],
         "line": {
          "color": "grey",
          "width": 0.25
         },
         "marker": {
          "color": "silver",
          "line": {
           "color": "black",
           "width": 0
          },
          "opacity": 0.9,
          "size": 6
         },
         "mode": "lines+text",
         "name": "VAT",
         "showlegend": false,
         "subplot": "ternary",
         "text": [
          "",
          "",
          "",
          "",
          "",
          "",
          "",
          "",
          "",
          "",
          "",
          "",
          "",
          "",
          ""
         ],
         "textfont": {
          "color": "black",
          "size": 2.3694187025678044
         },
         "type": "scatterternary"
        },
        {
         "a": [
          0,
          0,
          0,
          0,
          0
         ],
         "b": [
          0,
          0,
          0,
          0,
          0
         ],
         "c": [
          0,
          0,
          0,
          0,
          0
         ],
         "line": {
          "color": "grey",
          "width": 0.25
         },
         "marker": {
          "color": "silver",
          "line": {
           "color": "black",
           "width": 0
          },
          "opacity": 0.9,
          "size": 6
         },
         "mode": "lines+text",
         "name": "VAT",
         "showlegend": false,
         "subplot": "ternary",
         "text": [
          "",
          "",
          "",
          "",
          "",
          "",
          "",
          "",
          "",
          "",
          "",
          "",
          "",
          "",
          ""
         ],
         "textfont": {
          "color": "black",
          "size": 2.3694187025678044
         },
         "type": "scatterternary"
        },
        {
         "a": [
          0.8028792634162502,
          0.7693124179043336,
          0.7221332138542391,
          0.6726152787432336,
          0.6044800681434324,
          0.5549709896198548,
          0.5080267802342479,
          0.47037606598230813,
          0.45300356098235117,
          0.44142663892601597,
          0.42997849055767234,
          0.4212785163022314,
          0.41432398216448574,
          0.40532568157931126,
          0.3963692177916367
         ],
         "b": [
          0.09464080587542911,
          0.11914691189599101,
          0.1520128001837655,
          0.1735501650194951,
          0.21290041596799295,
          0.24614004277127657,
          0.2827849754255207,
          0.3156973728946332,
          0.3371740226055407,
          0.35567075222986555,
          0.3739021127303026,
          0.39186197502174647,
          0.4041050402997983,
          0.42123761009388927,
          0.4378884961705622
         ],
         "c": [
          0.1024799307083207,
          0.1115406701996752,
          0.1258539859619954,
          0.15383455623727124,
          0.1826195158885747,
          0.1988889676088688,
          0.20918824434023148,
          0.21392656112305872,
          0.20982241641210816,
          0.20290260884411843,
          0.196119396712025,
          0.18685950867602225,
          0.18157097753571597,
          0.17343670832679958,
          0.16574228603780106
         ],
         "line": {
          "color": "grey",
          "width": 0.25
         },
         "marker": {
          "color": "silver",
          "line": {
           "color": "black",
           "width": 0
          },
          "opacity": 0.9,
          "size": 6
         },
         "mode": "lines+text",
         "name": "HND",
         "showlegend": false,
         "subplot": "ternary",
         "text": [
          "",
          "",
          "",
          "",
          "",
          "",
          "",
          "",
          "",
          "",
          "",
          "",
          "",
          "",
          ""
         ],
         "textfont": {
          "color": "black",
          "size": 4.445566114756828
         },
         "type": "scatterternary"
        },
        {
         "a": [
          0.8028792634162502,
          0.7693124179043336,
          0.7221332138542391,
          0.6726152787432336,
          0.6044800681434324
         ],
         "b": [
          0.09464080587542911,
          0.11914691189599101,
          0.1520128001837655,
          0.1735501650194951,
          0.21290041596799295
         ],
         "c": [
          0.1024799307083207,
          0.1115406701996752,
          0.1258539859619954,
          0.15383455623727124,
          0.1826195158885747
         ],
         "line": {
          "color": "grey",
          "width": 0.25
         },
         "marker": {
          "color": "silver",
          "line": {
           "color": "black",
           "width": 0
          },
          "opacity": 0.9,
          "size": 6
         },
         "mode": "lines+text",
         "name": "HND",
         "showlegend": false,
         "subplot": "ternary",
         "text": [
          "",
          "",
          "",
          "",
          "",
          "",
          "",
          "",
          "",
          "",
          "",
          "",
          "",
          "",
          ""
         ],
         "textfont": {
          "color": "black",
          "size": 4.445566114756828
         },
         "type": "scatterternary"
        },
        {
         "a": [
          0.7461589156672086,
          0.6461302152233666,
          0.5593669755711362,
          0.472145383344177,
          0.3926257032422209,
          0.3279818702305689,
          0.2704957591422301,
          0.22860126458896105,
          0.19606005112154745,
          0.17263598930785806,
          0.15458450128067996,
          0.1406005245739336,
          0.12982885689184717,
          0.11886883831200248,
          0.10945124810102085
         ],
         "b": [
          0.172180365961167,
          0.27288183314660436,
          0.35689904930500893,
          0.44152409625681555,
          0.5183542299399148,
          0.5832709341661675,
          0.6432859618069072,
          0.6895863998117993,
          0.7266212176260987,
          0.7558236203081018,
          0.7797442134648301,
          0.7993943296972778,
          0.8150253621609442,
          0.8301918065799694,
          0.8436452921959163
         ],
         "c": [
          0.08166071837162449,
          0.08098795163002893,
          0.08373397512385486,
          0.08633052039900747,
          0.0890200668178642,
          0.08874719560326383,
          0.08621827905086257,
          0.08181233559923962,
          0.07731873125235397,
          0.07154039038404014,
          0.06567128525449008,
          0.060005145728788546,
          0.05514578094720881,
          0.050939355108028175,
          0.046903459703062804
         ],
         "line": {
          "color": "grey",
          "width": 0.25
         },
         "marker": {
          "color": "silver",
          "line": {
           "color": "black",
           "width": 0
          },
          "opacity": 0.9,
          "size": 6
         },
         "mode": "lines+text",
         "name": "HUN",
         "showlegend": false,
         "subplot": "ternary",
         "text": [
          "",
          "",
          "",
          "",
          "",
          "",
          "",
          "",
          "",
          "",
          "",
          "",
          "",
          "",
          ""
         ],
         "textfont": {
          "color": "black",
          "size": 4.407973957354095
         },
         "type": "scatterternary"
        },
        {
         "a": [
          0.7461589156672086,
          0.6461302152233666,
          0.5593669755711362,
          0.472145383344177,
          0.3926257032422209
         ],
         "b": [
          0.172180365961167,
          0.27288183314660436,
          0.35689904930500893,
          0.44152409625681555,
          0.5183542299399148
         ],
         "c": [
          0.08166071837162449,
          0.08098795163002893,
          0.08373397512385486,
          0.08633052039900747,
          0.0890200668178642
         ],
         "line": {
          "color": "grey",
          "width": 0.25
         },
         "marker": {
          "color": "silver",
          "line": {
           "color": "black",
           "width": 0
          },
          "opacity": 0.9,
          "size": 6
         },
         "mode": "lines+text",
         "name": "HUN",
         "showlegend": false,
         "subplot": "ternary",
         "text": [
          "",
          "",
          "",
          "",
          "",
          "",
          "",
          "",
          "",
          "",
          "",
          "",
          "",
          "",
          ""
         ],
         "textfont": {
          "color": "black",
          "size": 4.407973957354095
         },
         "type": "scatterternary"
        },
        {
         "a": [
          0.7810304801157508,
          0.7069130088328365,
          0.6195414067417114,
          0.5186379197341958,
          0.40591362511653567,
          0.3132508127122352,
          0.23212090330148677,
          0.18401135698446813,
          0.15273926930304543,
          0.13477394308000443,
          0.11933366838454107,
          0.10388234039424794,
          0.09378249455943273,
          0.08347629236272638,
          0.07402435862017406
         ],
         "b": [
          0.13719805207870883,
          0.20976157224349146,
          0.29075985209351535,
          0.38299194240749396,
          0.4867884322174901,
          0.5779666973151273,
          0.6723106842497063,
          0.7325361927332981,
          0.7709985480887509,
          0.792438273472833,
          0.8107319088242695,
          0.8286507388586787,
          0.8463770475244512,
          0.8653276444944847,
          0.8838064727971111
         ],
         "c": [
          0.08177146780554041,
          0.08332541892367216,
          0.08969874116477333,
          0.09837013785831025,
          0.10729794266597432,
          0.10878248997263756,
          0.09556841244880707,
          0.08345245028223355,
          0.07626218260820364,
          0.07278778344716245,
          0.06993442279118947,
          0.06746692074707353,
          0.05984045791611598,
          0.05119606314278903,
          0.04216916858271488
         ],
         "line": {
          "color": "grey",
          "width": 0.25
         },
         "marker": {
          "color": "silver",
          "line": {
           "color": "black",
           "width": 0
          },
          "opacity": 0.9,
          "size": 6
         },
         "mode": "lines+text",
         "name": "ISL",
         "showlegend": false,
         "subplot": "ternary",
         "text": [
          "",
          "",
          "",
          "",
          "",
          "",
          "",
          "",
          "",
          "",
          "",
          "",
          "",
          "",
          ""
         ],
         "textfont": {
          "color": "black",
          "size": 1.914395812190425
         },
         "type": "scatterternary"
        },
        {
         "a": [
          0.7810304801157508,
          0.7069130088328365,
          0.6195414067417114,
          0.5186379197341958,
          0.40591362511653567
         ],
         "b": [
          0.13719805207870883,
          0.20976157224349146,
          0.29075985209351535,
          0.38299194240749396,
          0.4867884322174901
         ],
         "c": [
          0.08177146780554041,
          0.08332541892367216,
          0.08969874116477333,
          0.09837013785831025,
          0.10729794266597432
         ],
         "line": {
          "color": "grey",
          "width": 0.25
         },
         "marker": {
          "color": "silver",
          "line": {
           "color": "black",
           "width": 0
          },
          "opacity": 0.9,
          "size": 6
         },
         "mode": "lines+text",
         "name": "ISL",
         "showlegend": false,
         "subplot": "ternary",
         "text": [
          "",
          "",
          "",
          "",
          "",
          "",
          "",
          "",
          "",
          "",
          "",
          "",
          "",
          "",
          ""
         ],
         "textfont": {
          "color": "black",
          "size": 1.914395812190425
         },
         "type": "scatterternary"
        },
        {
         "a": [
          0.8007871913463673,
          0.7643590282168646,
          0.7181986414693484,
          0.6698257426176267,
          0.6031199544186816,
          0.5333917715195403,
          0.4691446269250963,
          0.42537901737623207,
          0.38793043840985597,
          0.36184719309457414,
          0.33959389966524656,
          0.32304948555601126,
          0.30698623522514473,
          0.2945860483248047,
          0.283103756140153
         ],
         "b": [
          0.09820476357083861,
          0.12662776806611517,
          0.1629384172076751,
          0.19899386266145,
          0.25695293134957864,
          0.3239628182590649,
          0.39058955888330466,
          0.44171890495809824,
          0.4868701645487347,
          0.5214111103839405,
          0.5513674789693078,
          0.5740220149029878,
          0.595781294530172,
          0.6116551356129183,
          0.6266586009584246
         ],
         "c": [
          0.10100804508279392,
          0.10901320371702022,
          0.11886294132297646,
          0.13118039472092327,
          0.13992711423173962,
          0.1426454102213947,
          0.14026581419159911,
          0.1329020776656698,
          0.1251993970414092,
          0.11674169652148515,
          0.10903862136544551,
          0.10292849954100082,
          0.0972324702446833,
          0.0937588160622771,
          0.09023764290142235
         ],
         "line": {
          "color": "grey",
          "width": 0.25
         },
         "marker": {
          "color": "orange",
          "line": {
           "color": "black",
           "width": 0
          },
          "opacity": 0.9,
          "size": 6
         },
         "mode": "lines+text",
         "name": "IND",
         "showlegend": false,
         "subplot": "ternary",
         "text": [
          "",
          "",
          "",
          "",
          "",
          "",
          "",
          "",
          "",
          "",
          "",
          "",
          "",
          "",
          ""
         ],
         "textfont": {
          "color": "black",
          "size": 25.759277930378307
         },
         "type": "scatterternary"
        },
        {
         "a": [
          0.8007871913463673,
          0.7643590282168646,
          0.7181986414693484,
          0.6698257426176267,
          0.6031199544186816
         ],
         "b": [
          0.09820476357083861,
          0.12662776806611517,
          0.1629384172076751,
          0.19899386266145,
          0.25695293134957864
         ],
         "c": [
          0.10100804508279392,
          0.10901320371702022,
          0.11886294132297646,
          0.13118039472092327,
          0.13992711423173962
         ],
         "line": {
          "color": "grey",
          "width": 0.25
         },
         "marker": {
          "color": "orange",
          "line": {
           "color": "black",
           "width": 0
          },
          "opacity": 0.9,
          "size": 6
         },
         "mode": "lines+text",
         "name": "IND",
         "showlegend": false,
         "subplot": "ternary",
         "text": [
          "",
          "",
          "",
          "",
          "",
          "",
          "",
          "",
          "",
          "",
          "",
          "",
          "",
          "",
          ""
         ],
         "textfont": {
          "color": "black",
          "size": 25.759277930378307
         },
         "type": "scatterternary"
        },
        {
         "a": [
          0.7960842494151374,
          0.7364838867018639,
          0.733822577289203,
          0.7186727425665027,
          0.7044459828468361,
          0.691300296382378,
          0.666188601627328,
          0.6533727633108088,
          0.641703743996864,
          0.6431085446858769,
          0.6529666653216963,
          0.6617942900217304,
          0.660104889280627,
          0.6554080760362289,
          0.6499122313608932
         ],
         "b": [
          0.11513493757810722,
          0.16355086118655696,
          0.14757581771171305,
          0.13401265557847747,
          0.11505856243303941,
          0.09687030445839528,
          0.08889902592173095,
          0.08922736603463446,
          0.09153955477047447,
          0.09078226991546179,
          0.08700821058602468,
          0.08417942081886161,
          0.08771341179982346,
          0.09004742313077142,
          0.09096879675753729
         ],
         "c": [
          0.08878081300675532,
          0.0999652521115791,
          0.1186016049990839,
          0.14731460185501977,
          0.1804954547201244,
          0.2118293991592267,
          0.24491237245094102,
          0.2573998706545568,
          0.26675670123266143,
          0.2661091853986614,
          0.260025124092279,
          0.25402628915940795,
          0.2521816989195494,
          0.25454450083299995,
          0.2591189718815695
         ],
         "line": {
          "color": "grey",
          "width": 0.25
         },
         "marker": {
          "color": "silver",
          "line": {
           "color": "black",
           "width": 0
          },
          "opacity": 0.9,
          "size": 6
         },
         "mode": "lines+text",
         "name": "IDN",
         "showlegend": false,
         "subplot": "ternary",
         "text": [
          "",
          "",
          "",
          "",
          "",
          "",
          "",
          "",
          "",
          "",
          "",
          "",
          "",
          "",
          ""
         ],
         "textfont": {
          "color": "black",
          "size": 13.87100023529632
         },
         "type": "scatterternary"
        },
        {
         "a": [
          0.7960842494151374,
          0.7364838867018639,
          0.733822577289203,
          0.7186727425665027,
          0.7044459828468361
         ],
         "b": [
          0.11513493757810722,
          0.16355086118655696,
          0.14757581771171305,
          0.13401265557847747,
          0.11505856243303941
         ],
         "c": [
          0.08878081300675532,
          0.0999652521115791,
          0.1186016049990839,
          0.14731460185501977,
          0.1804954547201244
         ],
         "line": {
          "color": "grey",
          "width": 0.25
         },
         "marker": {
          "color": "silver",
          "line": {
           "color": "black",
           "width": 0
          },
          "opacity": 0.9,
          "size": 6
         },
         "mode": "lines+text",
         "name": "IDN",
         "showlegend": false,
         "subplot": "ternary",
         "text": [
          "",
          "",
          "",
          "",
          "",
          "",
          "",
          "",
          "",
          "",
          "",
          "",
          "",
          "",
          ""
         ],
         "textfont": {
          "color": "black",
          "size": 13.87100023529632
         },
         "type": "scatterternary"
        },
        {
         "a": [
          0.8617824030020914,
          0.8164901547464256,
          0.7659932772464833,
          0.7180337035860611,
          0.6590649669789861,
          0.6061427073871835,
          0.5509264506396615,
          0.5150239692959024,
          0.48456138120005987,
          0.46718277741681896,
          0.45339802255222844,
          0.43646963430183955,
          0.41533782602334096,
          0.3951630072953577,
          0.37750990119372596
         ],
         "b": [
          0.045869364408058805,
          0.08150151971747777,
          0.12074594572491179,
          0.15030195137588998,
          0.1923115582433353,
          0.23244484465111684,
          0.2768875192088559,
          0.31060804956130467,
          0.3406700071704295,
          0.3607953081393961,
          0.37780742528148514,
          0.4018822618874752,
          0.43206259574160405,
          0.45933852208338155,
          0.48349297546157316
         ],
         "c": [
          0.09234823258984969,
          0.10200832553609658,
          0.11326077702860485,
          0.1316643450380489,
          0.14862347477767854,
          0.16141244796169954,
          0.17218603015148262,
          0.17436798114279284,
          0.1747686116295108,
          0.17202191444378492,
          0.16879455216628647,
          0.16164810381068506,
          0.15259957823505477,
          0.14549847062126076,
          0.13899712334470093
         ],
         "line": {
          "color": "grey",
          "width": 0.25
         },
         "marker": {
          "color": "silver",
          "line": {
           "color": "black",
           "width": 0
          },
          "opacity": 0.9,
          "size": 6
         },
         "mode": "lines+text",
         "name": "IRN",
         "showlegend": false,
         "subplot": "ternary",
         "text": [
          "",
          "",
          "",
          "",
          "",
          "",
          "",
          "",
          "",
          "",
          "",
          "",
          "",
          "",
          ""
         ],
         "textfont": {
          "color": "black",
          "size": 9.171923806825387
         },
         "type": "scatterternary"
        },
        {
         "a": [
          0.8617824030020914,
          0.8164901547464256,
          0.7659932772464833,
          0.7180337035860611,
          0.6590649669789861
         ],
         "b": [
          0.045869364408058805,
          0.08150151971747777,
          0.12074594572491179,
          0.15030195137588998,
          0.1923115582433353
         ],
         "c": [
          0.09234823258984969,
          0.10200832553609658,
          0.11326077702860485,
          0.1316643450380489,
          0.14862347477767854
         ],
         "line": {
          "color": "grey",
          "width": 0.25
         },
         "marker": {
          "color": "silver",
          "line": {
           "color": "black",
           "width": 0
          },
          "opacity": 0.9,
          "size": 6
         },
         "mode": "lines+text",
         "name": "IRN",
         "showlegend": false,
         "subplot": "ternary",
         "text": [
          "",
          "",
          "",
          "",
          "",
          "",
          "",
          "",
          "",
          "",
          "",
          "",
          "",
          "",
          ""
         ],
         "textfont": {
          "color": "black",
          "size": 9.171923806825387
         },
         "type": "scatterternary"
        },
        {
         "a": [
          0.808719017412449,
          0.7574407917906018,
          0.724412835154388,
          0.6815425436500124,
          0.622139666826647,
          0.564326000263391,
          0.5043005459087619,
          0.45626648777086737,
          0.41228189920214275,
          0.38051707697416987,
          0.3547524369917877,
          0.3355856587173094,
          0.31995788129061714,
          0.3043012023786054,
          0.2901107551753485
         ],
         "b": [
          0.0939058101353819,
          0.13962975931571114,
          0.15864536128808523,
          0.18591389611345036,
          0.233531645386772,
          0.2855792083961572,
          0.3438221023960092,
          0.3962159860482428,
          0.44567996786962477,
          0.48442485149715986,
          0.5163859974189418,
          0.5410960269051074,
          0.558352919164377,
          0.5722800129275275,
          0.5829316809536427
         ],
         "c": [
          0.09737517245216921,
          0.1029294488936871,
          0.11694180355752673,
          0.13254356023653716,
          0.14432868778658114,
          0.15009479134045184,
          0.15187735169522867,
          0.1475175261808899,
          0.1420381329282325,
          0.13505807152867025,
          0.1288615655892706,
          0.12331831437758317,
          0.12168919954500576,
          0.12341878469386715,
          0.12695756387100882
         ],
         "line": {
          "color": "grey",
          "width": 0.25
         },
         "marker": {
          "color": "silver",
          "line": {
           "color": "black",
           "width": 0
          },
          "opacity": 0.9,
          "size": 6
         },
         "mode": "lines+text",
         "name": "IRQ",
         "showlegend": false,
         "subplot": "ternary",
         "text": [
          "",
          "",
          "",
          "",
          "",
          "",
          "",
          "",
          "",
          "",
          "",
          "",
          "",
          "",
          ""
         ],
         "textfont": {
          "color": "black",
          "size": 7.109610896601441
         },
         "type": "scatterternary"
        },
        {
         "a": [
          0.808719017412449,
          0.7574407917906018,
          0.724412835154388,
          0.6815425436500124,
          0.622139666826647
         ],
         "b": [
          0.0939058101353819,
          0.13962975931571114,
          0.15864536128808523,
          0.18591389611345036,
          0.233531645386772
         ],
         "c": [
          0.09737517245216921,
          0.1029294488936871,
          0.11694180355752673,
          0.13254356023653716,
          0.14432868778658114
         ],
         "line": {
          "color": "grey",
          "width": 0.25
         },
         "marker": {
          "color": "silver",
          "line": {
           "color": "black",
           "width": 0
          },
          "opacity": 0.9,
          "size": 6
         },
         "mode": "lines+text",
         "name": "IRQ",
         "showlegend": false,
         "subplot": "ternary",
         "text": [
          "",
          "",
          "",
          "",
          "",
          "",
          "",
          "",
          "",
          "",
          "",
          "",
          "",
          "",
          ""
         ],
         "textfont": {
          "color": "black",
          "size": 7.109610896601441
         },
         "type": "scatterternary"
        },
        {
         "a": [
          0.6739801975811582,
          0.5601093142554886,
          0.4374856822491026,
          0.33227191544310253,
          0.24310003072791583,
          0.1868175550720906,
          0.14392022381382125,
          0.11864333744712166,
          0.10115199706512401,
          0.09242948415979778,
          0.08730329943848611,
          0.0803021238600147,
          0.07807476144090822,
          0.07194534615703996,
          0.06794173902098435
         ],
         "b": [
          0.2538692570593871,
          0.3709079423708508,
          0.49156665083265355,
          0.5909432559642288,
          0.673601886552419,
          0.7272437219816695,
          0.7798354823480067,
          0.8116932547681309,
          0.8321185479874119,
          0.8417331415249537,
          0.8485824442988729,
          0.8534826882045664,
          0.862724933491334,
          0.8707674943326003,
          0.8802328039249903
         ],
         "c": [
          0.07215054535945466,
          0.06898274337366066,
          0.07094766691824396,
          0.07678482859266895,
          0.08329808271966518,
          0.08593872294623982,
          0.076244293838172,
          0.06966340778474744,
          0.06672945494746389,
          0.06583737431524866,
          0.06411425626264108,
          0.06621518793541872,
          0.059200305067757676,
          0.05728715951035971,
          0.0518254570540255
         ],
         "line": {
          "color": "grey",
          "width": 0.25
         },
         "marker": {
          "color": "silver",
          "line": {
           "color": "black",
           "width": 0
          },
          "opacity": 0.9,
          "size": 6
         },
         "mode": "lines+text",
         "name": "IRL",
         "showlegend": false,
         "subplot": "ternary",
         "text": [
          "",
          "",
          "",
          "",
          "",
          "",
          "",
          "",
          "",
          "",
          "",
          "",
          "",
          "",
          ""
         ],
         "textfont": {
          "color": "black",
          "size": 3.591202950388997
         },
         "type": "scatterternary"
        },
        {
         "a": [
          0.6739801975811582,
          0.5601093142554886,
          0.4374856822491026,
          0.33227191544310253,
          0.24310003072791583
         ],
         "b": [
          0.2538692570593871,
          0.3709079423708508,
          0.49156665083265355,
          0.5909432559642288,
          0.673601886552419
         ],
         "c": [
          0.07215054535945466,
          0.06898274337366066,
          0.07094766691824396,
          0.07678482859266895,
          0.08329808271966518
         ],
         "line": {
          "color": "grey",
          "width": 0.25
         },
         "marker": {
          "color": "silver",
          "line": {
           "color": "black",
           "width": 0
          },
          "opacity": 0.9,
          "size": 6
         },
         "mode": "lines+text",
         "name": "IRL",
         "showlegend": false,
         "subplot": "ternary",
         "text": [
          "",
          "",
          "",
          "",
          "",
          "",
          "",
          "",
          "",
          "",
          "",
          "",
          "",
          "",
          ""
         ],
         "textfont": {
          "color": "black",
          "size": 3.591202950388997
         },
         "type": "scatterternary"
        },
        {
         "a": [
          0.8336632828365736,
          0.7599686214628687,
          0.6447702729153393,
          0.5065973633211461,
          0.3599761577649183,
          0.258110997849879,
          0.18798562238810887,
          0.1495684705057672,
          0.11889108446657996,
          0.09939645832480322,
          0.08523668821095373,
          0.07669449540868266,
          0.07159195480952664,
          0.07125501728637133,
          0.07387495196752664
         ],
         "b": [
          0.06807584404504093,
          0.13152015245003945,
          0.2330945304861861,
          0.322811861558232,
          0.39418719541987846,
          0.4319609190747624,
          0.4644169462769324,
          0.4965836427002948,
          0.5141427618926175,
          0.5229569986158218,
          0.530861232497284,
          0.5344048370596738,
          0.5304350786632702,
          0.5220533207036083,
          0.5156131102404014
         ],
         "c": [
          0.09826087311838548,
          0.10851122608709203,
          0.12213519659847462,
          0.17059077512062185,
          0.24583664681520329,
          0.30992808307535863,
          0.34759743133495863,
          0.3538478867939378,
          0.3669661536408025,
          0.37764654305937484,
          0.38390207929176223,
          0.3889006675316436,
          0.39797296652720315,
          0.4066916620100203,
          0.41051193779207207
         ],
         "line": {
          "color": "grey",
          "width": 0.25
         },
         "marker": {
          "color": "silver",
          "line": {
           "color": "black",
           "width": 0
          },
          "opacity": 0.9,
          "size": 6
         },
         "mode": "lines+text",
         "name": "ISR",
         "showlegend": false,
         "subplot": "ternary",
         "text": [
          "",
          "",
          "",
          "",
          "",
          "",
          "",
          "",
          "",
          "",
          "",
          "",
          "",
          "",
          ""
         ],
         "textfont": {
          "color": "black",
          "size": 4.251292818690169
         },
         "type": "scatterternary"
        },
        {
         "a": [
          0.8336632828365736,
          0.7599686214628687,
          0.6447702729153393,
          0.5065973633211461,
          0.3599761577649183
         ],
         "b": [
          0.06807584404504093,
          0.13152015245003945,
          0.2330945304861861,
          0.322811861558232,
          0.39418719541987846
         ],
         "c": [
          0.09826087311838548,
          0.10851122608709203,
          0.12213519659847462,
          0.17059077512062185,
          0.24583664681520329
         ],
         "line": {
          "color": "grey",
          "width": 0.25
         },
         "marker": {
          "color": "silver",
          "line": {
           "color": "black",
           "width": 0
          },
          "opacity": 0.9,
          "size": 6
         },
         "mode": "lines+text",
         "name": "ISR",
         "showlegend": false,
         "subplot": "ternary",
         "text": [
          "",
          "",
          "",
          "",
          "",
          "",
          "",
          "",
          "",
          "",
          "",
          "",
          "",
          "",
          ""
         ],
         "textfont": {
          "color": "black",
          "size": 4.251292818690169
         },
         "type": "scatterternary"
        },
        {
         "a": [
          0.8104725069300871,
          0.7508719710840274,
          0.7020605906449487,
          0.6439109054752511,
          0.5793460864778722,
          0.5150872901578382,
          0.452011624154386,
          0.40462192238583167,
          0.36512871042261474,
          0.3369978163469523,
          0.3128235319776157,
          0.2902500690268053,
          0.2728979364015959,
          0.2511007766908751,
          0.23386170549626548
         ],
         "b": [
          0.10108011000259741,
          0.15510677652814645,
          0.1926353817533601,
          0.2377570123367887,
          0.2885343097756878,
          0.3433128734244085,
          0.4016047636394632,
          0.4507609582282618,
          0.49202689854057247,
          0.5263893311583956,
          0.5576483935387091,
          0.5884077200857757,
          0.6130407491958288,
          0.6427588412397649,
          0.6667301070241896
         ],
         "c": [
          0.08844738306731548,
          0.0940212523878262,
          0.10530402760169123,
          0.11833208218795989,
          0.13211960374644022,
          0.14159983641775326,
          0.14638361220615073,
          0.1446171193859065,
          0.14284439103681298,
          0.13661285249465216,
          0.1295280744836751,
          0.12134221088741892,
          0.11406131440257539,
          0.10614038206936004,
          0.09940818747954476
         ],
         "line": {
          "color": "grey",
          "width": 0.25
         },
         "marker": {
          "color": "silver",
          "line": {
           "color": "black",
           "width": 0
          },
          "opacity": 0.9,
          "size": 6
         },
         "mode": "lines+text",
         "name": "ITA",
         "showlegend": false,
         "subplot": "ternary",
         "text": [
          "",
          "",
          "",
          "",
          "",
          "",
          "",
          "",
          "",
          "",
          "",
          "",
          "",
          "",
          ""
         ],
         "textfont": {
          "color": "black",
          "size": 8.026693522291168
         },
         "type": "scatterternary"
        },
        {
         "a": [
          0.8104725069300871,
          0.7508719710840274,
          0.7020605906449487,
          0.6439109054752511,
          0.5793460864778722
         ],
         "b": [
          0.10108011000259741,
          0.15510677652814645,
          0.1926353817533601,
          0.2377570123367887,
          0.2885343097756878
         ],
         "c": [
          0.08844738306731548,
          0.0940212523878262,
          0.10530402760169123,
          0.11833208218795989,
          0.13211960374644022
         ],
         "line": {
          "color": "grey",
          "width": 0.25
         },
         "marker": {
          "color": "silver",
          "line": {
           "color": "black",
           "width": 0
          },
          "opacity": 0.9,
          "size": 6
         },
         "mode": "lines+text",
         "name": "ITA",
         "showlegend": false,
         "subplot": "ternary",
         "text": [
          "",
          "",
          "",
          "",
          "",
          "",
          "",
          "",
          "",
          "",
          "",
          "",
          "",
          "",
          ""
         ],
         "textfont": {
          "color": "black",
          "size": 8.026693522291168
         },
         "type": "scatterternary"
        },
        {
         "a": [
          0.800936761159993,
          0.7641451487065334,
          0.7415285637381429,
          0.7293726694370528,
          0.7007398648389156,
          0.6819060170445734,
          0.6622416047033988,
          0.65147518599713,
          0.6501885357380202,
          0.6562708082925686,
          0.6609334947472526,
          0.6662546831368487,
          0.6674779484538008,
          0.6596878435592687,
          0.6434059835276196
         ],
         "b": [
          0.10132098055043814,
          0.12948933116335565,
          0.13652837242317095,
          0.12255770711869715,
          0.12222515236069074,
          0.11651058553224519,
          0.113604581224427,
          0.11068494419750759,
          0.10248888932192485,
          0.09395933608670187,
          0.09209848701935872,
          0.09453716400702476,
          0.10198008739520079,
          0.11559562015726063,
          0.1337054509734415
         ],
         "c": [
          0.09774225828956884,
          0.1063655201301108,
          0.12194306383868626,
          0.14806962344425006,
          0.1770349828003937,
          0.20158339742318138,
          0.22415381407217413,
          0.23783986980536245,
          0.2473225749400552,
          0.24976985562072948,
          0.2469680182333886,
          0.23920815285612657,
          0.23054196415099848,
          0.22471653628347069,
          0.222888565498939
         ],
         "line": {
          "color": "grey",
          "width": 0.25
         },
         "marker": {
          "color": "silver",
          "line": {
           "color": "black",
           "width": 0
          },
          "opacity": 0.9,
          "size": 6
         },
         "mode": "lines+text",
         "name": "JAM",
         "showlegend": false,
         "subplot": "ternary",
         "text": [
          "",
          "",
          "",
          "",
          "",
          "",
          "",
          "",
          "",
          "",
          "",
          "",
          "",
          "",
          ""
         ],
         "textfont": {
          "color": "black",
          "size": 3.071549306457569
         },
         "type": "scatterternary"
        },
        {
         "a": [
          0.800936761159993,
          0.7641451487065334,
          0.7415285637381429,
          0.7293726694370528,
          0.7007398648389156
         ],
         "b": [
          0.10132098055043814,
          0.12948933116335565,
          0.13652837242317095,
          0.12255770711869715,
          0.12222515236069074
         ],
         "c": [
          0.09774225828956884,
          0.1063655201301108,
          0.12194306383868626,
          0.14806962344425006,
          0.1770349828003937
         ],
         "line": {
          "color": "grey",
          "width": 0.25
         },
         "marker": {
          "color": "silver",
          "line": {
           "color": "black",
           "width": 0
          },
          "opacity": 0.9,
          "size": 6
         },
         "mode": "lines+text",
         "name": "JAM",
         "showlegend": false,
         "subplot": "ternary",
         "text": [
          "",
          "",
          "",
          "",
          "",
          "",
          "",
          "",
          "",
          "",
          "",
          "",
          "",
          "",
          ""
         ],
         "textfont": {
          "color": "black",
          "size": 3.071549306457569
         },
         "type": "scatterternary"
        },
        {
         "a": [
          0.8237217492499728,
          0.7610790003487117,
          0.6823952045730022,
          0.5855416402910596,
          0.478112448177877,
          0.3789719710281526,
          0.2905940365378561,
          0.23141530765513385,
          0.18605232159273494,
          0.1598909929087876,
          0.1408593758812064,
          0.12530001842072297,
          0.1141134201686913,
          0.10363025582531785,
          0.09724743722898196
         ],
         "b": [
          0.0890516936584286,
          0.14796124778969566,
          0.22089307320611354,
          0.3123175218372922,
          0.4166759523021997,
          0.5197017305117082,
          0.6160687713190499,
          0.6862011603610764,
          0.7422666259355055,
          0.776715348726699,
          0.8026322918804049,
          0.8250219087631908,
          0.8414470121370792,
          0.8569982827563479,
          0.8664708181815628
         ],
         "c": [
          0.08722655709159852,
          0.0909597518615929,
          0.09671172222088437,
          0.10214083787164824,
          0.1052115995199234,
          0.1013262984601394,
          0.09333719214309406,
          0.08238353198378995,
          0.07168105247175952,
          0.06339365836451331,
          0.05650833223838879,
          0.049678072816086306,
          0.04443956769422953,
          0.03937146141833419,
          0.03628174458945509
         ],
         "line": {
          "color": "grey",
          "width": 0.25
         },
         "marker": {
          "color": "silver",
          "line": {
           "color": "black",
           "width": 0
          },
          "opacity": 0.9,
          "size": 6
         },
         "mode": "lines+text",
         "name": "JPN",
         "showlegend": false,
         "subplot": "ternary",
         "text": [
          "",
          "",
          "",
          "",
          "",
          "",
          "",
          "",
          "",
          "",
          "",
          "",
          "",
          "",
          ""
         ],
         "textfont": {
          "color": "black",
          "size": 10.46352502307666
         },
         "type": "scatterternary"
        },
        {
         "a": [
          0.8237217492499728,
          0.7610790003487117,
          0.6823952045730022,
          0.5855416402910596,
          0.478112448177877
         ],
         "b": [
          0.0890516936584286,
          0.14796124778969566,
          0.22089307320611354,
          0.3123175218372922,
          0.4166759523021997
         ],
         "c": [
          0.08722655709159852,
          0.0909597518615929,
          0.09671172222088437,
          0.10214083787164824,
          0.1052115995199234
         ],
         "line": {
          "color": "grey",
          "width": 0.25
         },
         "marker": {
          "color": "silver",
          "line": {
           "color": "black",
           "width": 0
          },
          "opacity": 0.9,
          "size": 6
         },
         "mode": "lines+text",
         "name": "JPN",
         "showlegend": false,
         "subplot": "ternary",
         "text": [
          "",
          "",
          "",
          "",
          "",
          "",
          "",
          "",
          "",
          "",
          "",
          "",
          "",
          "",
          ""
         ],
         "textfont": {
          "color": "black",
          "size": 10.46352502307666
         },
         "type": "scatterternary"
        },
        {
         "a": [
          0.6490276049180895,
          0.5963121190065714,
          0.5353378319658278,
          0.47251143215642244,
          0.41347746687155845,
          0.3661886980589362,
          0.32767131253030857,
          0.30200584668399894,
          0.27990088175608036,
          0.2651569548172253,
          0.2519475828177036,
          0.23985600701419513,
          0.22856285571604656,
          0.21925441033022608,
          0.21221673002155214
         ],
         "b": [
          0.26234477195612543,
          0.31231280536972916,
          0.370518294619432,
          0.42960946142231704,
          0.4861215297623177,
          0.5319886020428881,
          0.5727428244847876,
          0.603686852335131,
          0.6312357263777978,
          0.6515102501853397,
          0.6703813484718487,
          0.6882210699161897,
          0.7043542874726678,
          0.7169285221498783,
          0.7261091371536208
         ],
         "c": [
          0.08862762312578518,
          0.09137507562369925,
          0.09414387341474008,
          0.09787910642126062,
          0.10040100336612384,
          0.10182269989817566,
          0.0995858629849039,
          0.09430730098087009,
          0.08886339186612167,
          0.08333279499743503,
          0.07767106871044761,
          0.07192292306961527,
          0.06708285681128558,
          0.0638170675198957,
          0.061674132824826845
         ],
         "line": {
          "color": "grey",
          "width": 0.25
         },
         "marker": {
          "color": "silver",
          "line": {
           "color": "black",
           "width": 0
          },
          "opacity": 0.9,
          "size": 6
         },
         "mode": "lines+text",
         "name": "JOR",
         "showlegend": false,
         "subplot": "ternary",
         "text": [
          "",
          "",
          "",
          "",
          "",
          "",
          "",
          "",
          "",
          "",
          "",
          "",
          "",
          "",
          ""
         ],
         "textfont": {
          "color": "black",
          "size": 4.549607257276524
         },
         "type": "scatterternary"
        },
        {
         "a": [
          0.6490276049180895,
          0.5963121190065714,
          0.5353378319658278,
          0.47251143215642244,
          0.41347746687155845
         ],
         "b": [
          0.26234477195612543,
          0.31231280536972916,
          0.370518294619432,
          0.42960946142231704,
          0.4861215297623177
         ],
         "c": [
          0.08862762312578518,
          0.09137507562369925,
          0.09414387341474008,
          0.09787910642126062,
          0.10040100336612384
         ],
         "line": {
          "color": "grey",
          "width": 0.25
         },
         "marker": {
          "color": "silver",
          "line": {
           "color": "black",
           "width": 0
          },
          "opacity": 0.9,
          "size": 6
         },
         "mode": "lines+text",
         "name": "JOR",
         "showlegend": false,
         "subplot": "ternary",
         "text": [
          "",
          "",
          "",
          "",
          "",
          "",
          "",
          "",
          "",
          "",
          "",
          "",
          "",
          "",
          ""
         ],
         "textfont": {
          "color": "black",
          "size": 4.549607257276524
         },
         "type": "scatterternary"
        },
        {
         "a": [
          0.7536351299672945,
          0.6671706306671042,
          0.5917579943775391,
          0.5094743426287256,
          0.41830617878018794,
          0.3424434556025291,
          0.27058792308187063,
          0.21700027296598162,
          0.17250243958238615,
          0.14455292402114556,
          0.12632823022914527,
          0.10835302346406919,
          0.09339319799435208,
          0.08565975588352497,
          0.0801554735861775
         ],
         "b": [
          0.16396034765502754,
          0.24633421956752463,
          0.31556983994169985,
          0.3926344941241872,
          0.48322534288933133,
          0.5621825829513798,
          0.6405325963130022,
          0.7007949429737935,
          0.7484613464075895,
          0.7748504109038366,
          0.7883657309656367,
          0.7962337697613339,
          0.7975561453615139,
          0.8064394664361393,
          0.8200357168831209
         ],
         "c": [
          0.0824045223776779,
          0.08649514976537113,
          0.09267216568076106,
          0.09789116324708728,
          0.0984684783304808,
          0.09537396144609102,
          0.08887948060512707,
          0.08220478406022493,
          0.07903621401002442,
          0.08059666507501789,
          0.08530603880521814,
          0.09541320677459697,
          0.10905065664413419,
          0.10790077768033554,
          0.09980880953070159
         ],
         "line": {
          "color": "grey",
          "width": 0.25
         },
         "marker": {
          "color": "silver",
          "line": {
           "color": "black",
           "width": 0
          },
          "opacity": 0.9,
          "size": 6
         },
         "mode": "lines+text",
         "name": "KAZ",
         "showlegend": false,
         "subplot": "ternary",
         "text": [
          "",
          "",
          "",
          "",
          "",
          "",
          "",
          "",
          "",
          "",
          "",
          "",
          "",
          "",
          ""
         ],
         "textfont": {
          "color": "black",
          "size": 5.433662860226582
         },
         "type": "scatterternary"
        },
        {
         "a": [
          0.7536351299672945,
          0.6671706306671042,
          0.5917579943775391,
          0.5094743426287256,
          0.41830617878018794
         ],
         "b": [
          0.16396034765502754,
          0.24633421956752463,
          0.31556983994169985,
          0.3926344941241872,
          0.48322534288933133
         ],
         "c": [
          0.0824045223776779,
          0.08649514976537113,
          0.09267216568076106,
          0.09789116324708728,
          0.0984684783304808
         ],
         "line": {
          "color": "grey",
          "width": 0.25
         },
         "marker": {
          "color": "silver",
          "line": {
           "color": "black",
           "width": 0
          },
          "opacity": 0.9,
          "size": 6
         },
         "mode": "lines+text",
         "name": "KAZ",
         "showlegend": false,
         "subplot": "ternary",
         "text": [
          "",
          "",
          "",
          "",
          "",
          "",
          "",
          "",
          "",
          "",
          "",
          "",
          "",
          "",
          ""
         ],
         "textfont": {
          "color": "black",
          "size": 5.433662860226582
         },
         "type": "scatterternary"
        },
        {
         "a": [
          0.6440487633908285,
          0.5986805665338444,
          0.5489386287768714,
          0.4936276860289308,
          0.4398296853965321,
          0.39563913945444984,
          0.35982693874579297,
          0.3329911972182037,
          0.3090598788037899,
          0.2978295006526373,
          0.28880649545342957,
          0.28594000867951574,
          0.28263240680837665,
          0.27617804042696203,
          0.2646337930404294
         ],
         "b": [
          0.26157517498539506,
          0.3025076979983276,
          0.3514167112744525,
          0.40200704318875613,
          0.45110225139056637,
          0.48654755360867324,
          0.512672887696295,
          0.5284287618507427,
          0.5376836884106696,
          0.5387652674791151,
          0.542702256524271,
          0.5438099347998199,
          0.551401691535225,
          0.5664512768501818,
          0.5869188477312142
         ],
         "c": [
          0.09437606162377637,
          0.09881173546782775,
          0.09964465994867619,
          0.10436527078231321,
          0.10906806321290154,
          0.11781330693687683,
          0.12750017355791193,
          0.13858004093105358,
          0.15325643278554063,
          0.16340523186824762,
          0.1684912480222996,
          0.17025005652066436,
          0.1659659016563983,
          0.15737068272285612,
          0.14844735922835656
         ],
         "line": {
          "color": "grey",
          "width": 0.25
         },
         "marker": {
          "color": "silver",
          "line": {
           "color": "black",
           "width": 0
          },
          "opacity": 0.9,
          "size": 6
         },
         "mode": "lines+text",
         "name": "KEN",
         "showlegend": false,
         "subplot": "ternary",
         "text": [
          "",
          "",
          "",
          "",
          "",
          "",
          "",
          "",
          "",
          "",
          "",
          "",
          "",
          "",
          ""
         ],
         "textfont": {
          "color": "black",
          "size": 7.62406974930675
         },
         "type": "scatterternary"
        },
        {
         "a": [
          0.6440487633908285,
          0.5986805665338444,
          0.5489386287768714,
          0.4936276860289308,
          0.4398296853965321
         ],
         "b": [
          0.26157517498539506,
          0.3025076979983276,
          0.3514167112744525,
          0.40200704318875613,
          0.45110225139056637
         ],
         "c": [
          0.09437606162377637,
          0.09881173546782775,
          0.09964465994867619,
          0.10436527078231321,
          0.10906806321290154
         ],
         "line": {
          "color": "grey",
          "width": 0.25
         },
         "marker": {
          "color": "silver",
          "line": {
           "color": "black",
           "width": 0
          },
          "opacity": 0.9,
          "size": 6
         },
         "mode": "lines+text",
         "name": "KEN",
         "showlegend": false,
         "subplot": "ternary",
         "text": [
          "",
          "",
          "",
          "",
          "",
          "",
          "",
          "",
          "",
          "",
          "",
          "",
          "",
          "",
          ""
         ],
         "textfont": {
          "color": "black",
          "size": 7.62406974930675
         },
         "type": "scatterternary"
        },
        {
         "a": [
          0,
          0,
          0,
          0,
          0,
          0,
          0,
          0,
          0,
          0,
          0,
          0,
          0,
          0,
          0
         ],
         "b": [
          0,
          0,
          0,
          0,
          0,
          0,
          0,
          0,
          0,
          0,
          0,
          0,
          0,
          0,
          0
         ],
         "c": [
          0,
          0,
          0,
          0,
          0,
          0,
          0,
          0,
          0,
          0,
          0,
          0,
          0,
          0,
          0
         ],
         "line": {
          "color": "grey",
          "width": 0.25
         },
         "marker": {
          "color": "silver",
          "line": {
           "color": "black",
           "width": 0
          },
          "opacity": 0.9,
          "size": 6
         },
         "mode": "lines+text",
         "name": "KIR",
         "showlegend": false,
         "subplot": "ternary",
         "text": [
          "",
          "",
          "",
          "",
          "",
          "",
          "",
          "",
          "",
          "",
          "",
          "",
          "",
          "",
          ""
         ],
         "textfont": {
          "color": "black",
          "size": 1.5965659258557752
         },
         "type": "scatterternary"
        },
        {
         "a": [
          0,
          0,
          0,
          0,
          0
         ],
         "b": [
          0,
          0,
          0,
          0,
          0
         ],
         "c": [
          0,
          0,
          0,
          0,
          0
         ],
         "line": {
          "color": "grey",
          "width": 0.25
         },
         "marker": {
          "color": "silver",
          "line": {
           "color": "black",
           "width": 0
          },
          "opacity": 0.9,
          "size": 6
         },
         "mode": "lines+text",
         "name": "KIR",
         "showlegend": false,
         "subplot": "ternary",
         "text": [
          "",
          "",
          "",
          "",
          "",
          "",
          "",
          "",
          "",
          "",
          "",
          "",
          "",
          "",
          ""
         ],
         "textfont": {
          "color": "black",
          "size": 1.5965659258557752
         },
         "type": "scatterternary"
        },
        {
         "a": [
          0.8349700805802707,
          0.7682884183135767,
          0.6597430958115454,
          0.5552089840102392,
          0.4305982965716407,
          0.33649804249802384,
          0.2583886872299602,
          0.21720168378015428,
          0.18961524982213737,
          0.17403960605976176,
          0.16391405903914535,
          0.14936255905856938,
          0.13563049555667767,
          0.12782995770400327,
          0.12011264343817116
         ],
         "b": [
          0.07753080684602115,
          0.13871145192510148,
          0.24153914383076003,
          0.33404688685335937,
          0.44818055620570535,
          0.535484857154122,
          0.6137920529529994,
          0.6542424091946109,
          0.6821824740363222,
          0.6946553552730518,
          0.7009322377478381,
          0.7030914530685647,
          0.7036747057876277,
          0.6999180242110515,
          0.6875030357010633
         ],
         "c": [
          0.08749911257370793,
          0.09300012976132177,
          0.09871776035769461,
          0.1107441291364014,
          0.12122114722265409,
          0.12801710034785413,
          0.12781925981704034,
          0.1285559070252349,
          0.12820227614154048,
          0.13130503866718632,
          0.1351537032130166,
          0.14754598787286582,
          0.1606947986556947,
          0.17225201808494528,
          0.19238432086076568
         ],
         "line": {
          "color": "grey",
          "width": 0.25
         },
         "marker": {
          "color": "silver",
          "line": {
           "color": "black",
           "width": 0
          },
          "opacity": 0.9,
          "size": 6
         },
         "mode": "lines+text",
         "name": "KWT",
         "showlegend": false,
         "subplot": "ternary",
         "text": [
          "",
          "",
          "",
          "",
          "",
          "",
          "",
          "",
          "",
          "",
          "",
          "",
          "",
          "",
          ""
         ],
         "textfont": {
          "color": "black",
          "size": 3.492272674767299
         },
         "type": "scatterternary"
        },
        {
         "a": [
          0.8349700805802707,
          0.7682884183135767,
          0.6597430958115454,
          0.5552089840102392,
          0.4305982965716407
         ],
         "b": [
          0.07753080684602115,
          0.13871145192510148,
          0.24153914383076003,
          0.33404688685335937,
          0.44818055620570535
         ],
         "c": [
          0.08749911257370793,
          0.09300012976132177,
          0.09871776035769461,
          0.1107441291364014,
          0.12122114722265409
         ],
         "line": {
          "color": "grey",
          "width": 0.25
         },
         "marker": {
          "color": "silver",
          "line": {
           "color": "black",
           "width": 0
          },
          "opacity": 0.9,
          "size": 6
         },
         "mode": "lines+text",
         "name": "KWT",
         "showlegend": false,
         "subplot": "ternary",
         "text": [
          "",
          "",
          "",
          "",
          "",
          "",
          "",
          "",
          "",
          "",
          "",
          "",
          "",
          "",
          ""
         ],
         "textfont": {
          "color": "black",
          "size": 3.492272674767299
         },
         "type": "scatterternary"
        },
        {
         "a": [
          0.787928849266484,
          0.7325215928120518,
          0.6865715357300668,
          0.6383310301192958,
          0.5822589957256987,
          0.5356405382519509,
          0.4934725491153797,
          0.46366585913971603,
          0.4375547170127897,
          0.42034255200524684,
          0.40675046975395335,
          0.3969342582593241,
          0.38826535518396244,
          0.38199598372937515,
          0.3753579956837586
         ],
         "b": [
          0.09893445791101022,
          0.14053892467553694,
          0.17125570974181217,
          0.2010660525081919,
          0.24244132370976473,
          0.2792632011617943,
          0.3182850085213657,
          0.3501198154760604,
          0.380308791350587,
          0.40284120330776924,
          0.42256220554646634,
          0.4398996743454667,
          0.45654936026598025,
          0.4705903285332221,
          0.484335196364479
         ],
         "c": [
          0.11313669282250584,
          0.12693948251241127,
          0.1421727545281209,
          0.1606029173725123,
          0.17529968056453651,
          0.18509626058625478,
          0.1882424423632546,
          0.18621432538422336,
          0.1821364916366235,
          0.17681624468698404,
          0.17068732469958034,
          0.16316606739520909,
          0.1551852845500574,
          0.1474136877374028,
          0.14030680795176223
         ],
         "line": {
          "color": "grey",
          "width": 0.25
         },
         "marker": {
          "color": "silver",
          "line": {
           "color": "black",
           "width": 0
          },
          "opacity": 0.9,
          "size": 6
         },
         "mode": "lines+text",
         "name": "KGZ",
         "showlegend": false,
         "subplot": "ternary",
         "text": [
          "",
          "",
          "",
          "",
          "",
          "",
          "",
          "",
          "",
          "",
          "",
          "",
          "",
          "",
          ""
         ],
         "textfont": {
          "color": "black",
          "size": 3.8724709149048446
         },
         "type": "scatterternary"
        },
        {
         "a": [
          0.787928849266484,
          0.7325215928120518,
          0.6865715357300668,
          0.6383310301192958,
          0.5822589957256987
         ],
         "b": [
          0.09893445791101022,
          0.14053892467553694,
          0.17125570974181217,
          0.2010660525081919,
          0.24244132370976473
         ],
         "c": [
          0.11313669282250584,
          0.12693948251241127,
          0.1421727545281209,
          0.1606029173725123,
          0.17529968056453651
         ],
         "line": {
          "color": "grey",
          "width": 0.25
         },
         "marker": {
          "color": "silver",
          "line": {
           "color": "black",
           "width": 0
          },
          "opacity": 0.9,
          "size": 6
         },
         "mode": "lines+text",
         "name": "KGZ",
         "showlegend": false,
         "subplot": "ternary",
         "text": [
          "",
          "",
          "",
          "",
          "",
          "",
          "",
          "",
          "",
          "",
          "",
          "",
          "",
          "",
          ""
         ],
         "textfont": {
          "color": "black",
          "size": 3.8724709149048446
         },
         "type": "scatterternary"
        },
        {
         "a": [
          0.7215136509817937,
          0.6130677419248596,
          0.5501877075675665,
          0.5313273640360903,
          0.5329565163827644,
          0.5461719046314145,
          0.552452020553633,
          0.5554088909104633,
          0.552604435925103,
          0.547508830134033,
          0.5395877833160239,
          0.5337298784322346,
          0.5218876842572164,
          0.5160767359409738,
          0.5115582181301165
         ],
         "b": [
          0.19926219547126947,
          0.31006334849074446,
          0.3649020193276417,
          0.3653710836535663,
          0.33392705729677563,
          0.2803590611693216,
          0.2246508767942718,
          0.18704526017707224,
          0.16215859291254545,
          0.14946117323985167,
          0.14948673020002942,
          0.15820490279757146,
          0.17585848361845968,
          0.19177150730788423,
          0.20672046329177307
         ],
         "c": [
          0.07922415354693682,
          0.07686890958439585,
          0.08491027310479167,
          0.10330155231034346,
          0.1331164263204599,
          0.17346903419926388,
          0.2228971026520952,
          0.25754584891246435,
          0.28523697116235136,
          0.3030299966261153,
          0.3109254864839467,
          0.3080652187701937,
          0.30225383212432383,
          0.292151756751142,
          0.28172131857811034
         ],
         "line": {
          "color": "grey",
          "width": 0.25
         },
         "marker": {
          "color": "silver",
          "line": {
           "color": "black",
           "width": 0
          },
          "opacity": 0.9,
          "size": 6
         },
         "mode": "lines+text",
         "name": "LAO",
         "showlegend": false,
         "subplot": "ternary",
         "text": [
          "",
          "",
          "",
          "",
          "",
          "",
          "",
          "",
          "",
          "",
          "",
          "",
          "",
          "",
          ""
         ],
         "textfont": {
          "color": "black",
          "size": 4.027234193646413
         },
         "type": "scatterternary"
        },
        {
         "a": [
          0.7215136509817937,
          0.6130677419248596,
          0.5501877075675665,
          0.5313273640360903,
          0.5329565163827644
         ],
         "b": [
          0.19926219547126947,
          0.31006334849074446,
          0.3649020193276417,
          0.3653710836535663,
          0.33392705729677563
         ],
         "c": [
          0.07922415354693682,
          0.07686890958439585,
          0.08491027310479167,
          0.10330155231034346,
          0.1331164263204599
         ],
         "line": {
          "color": "grey",
          "width": 0.25
         },
         "marker": {
          "color": "silver",
          "line": {
           "color": "black",
           "width": 0
          },
          "opacity": 0.9,
          "size": 6
         },
         "mode": "lines+text",
         "name": "LAO",
         "showlegend": false,
         "subplot": "ternary",
         "text": [
          "",
          "",
          "",
          "",
          "",
          "",
          "",
          "",
          "",
          "",
          "",
          "",
          "",
          "",
          ""
         ],
         "textfont": {
          "color": "black",
          "size": 4.027234193646413
         },
         "type": "scatterternary"
        },
        {
         "a": [
          0.6616070094155092,
          0.5118806539256204,
          0.38144419264180257,
          0.274000545207004,
          0.19362856598761602,
          0.14193829289374968,
          0.10290826422757134,
          0.07966677638801925,
          0.06406386156127497,
          0.05377660305256392,
          0.04685139192223407,
          0.04200595933151733,
          0.038748578692137325,
          0.03543524877192389,
          0.03283831428381548
         ],
         "b": [
          0.2692255130736908,
          0.42736872333060516,
          0.5645476662913657,
          0.6786337800073352,
          0.7645057541856151,
          0.8208830473346986,
          0.8651053221442434,
          0.8932007726116101,
          0.9123422926776645,
          0.9258897627519425,
          0.9351080520168499,
          0.941903372325555,
          0.9464207893397044,
          0.9509900853119357,
          0.9546608192832815
         ],
         "c": [
          0.06916747751079998,
          0.0607506227437742,
          0.054008141066831765,
          0.04736567478566067,
          0.04186567982676892,
          0.0371786597715517,
          0.03198641362818516,
          0.02713245100037067,
          0.02359384576106035,
          0.020333634195493555,
          0.018040556060916133,
          0.016090668342927786,
          0.01483063196815811,
          0.013574665916140422,
          0.012500866432903157
         ],
         "line": {
          "color": "grey",
          "width": 0.25
         },
         "marker": {
          "color": "silver",
          "line": {
           "color": "black",
           "width": 0
          },
          "opacity": 0.9,
          "size": 6
         },
         "mode": "lines+text",
         "name": "LVA",
         "showlegend": false,
         "subplot": "ternary",
         "text": [
          "",
          "",
          "",
          "",
          "",
          "",
          "",
          "",
          "",
          "",
          "",
          "",
          "",
          "",
          ""
         ],
         "textfont": {
          "color": "black",
          "size": 2.7729581507200587
         },
         "type": "scatterternary"
        },
        {
         "a": [
          0.6616070094155092,
          0.5118806539256204,
          0.38144419264180257,
          0.274000545207004,
          0.19362856598761602
         ],
         "b": [
          0.2692255130736908,
          0.42736872333060516,
          0.5645476662913657,
          0.6786337800073352,
          0.7645057541856151
         ],
         "c": [
          0.06916747751079998,
          0.0607506227437742,
          0.054008141066831765,
          0.04736567478566067,
          0.04186567982676892
         ],
         "line": {
          "color": "grey",
          "width": 0.25
         },
         "marker": {
          "color": "silver",
          "line": {
           "color": "black",
           "width": 0
          },
          "opacity": 0.9,
          "size": 6
         },
         "mode": "lines+text",
         "name": "LVA",
         "showlegend": false,
         "subplot": "ternary",
         "text": [
          "",
          "",
          "",
          "",
          "",
          "",
          "",
          "",
          "",
          "",
          "",
          "",
          "",
          "",
          ""
         ],
         "textfont": {
          "color": "black",
          "size": 2.7729581507200587
         },
         "type": "scatterternary"
        },
        {
         "a": [
          0.8334352388165083,
          0.8054119778892762,
          0.7592582132872006,
          0.7090644995620896,
          0.6474172856454004,
          0.5867531159151115,
          0.5402999412975998,
          0.5144270612321762,
          0.4898154464145692,
          0.47369545224307896,
          0.45654977606724834,
          0.4372339285440212,
          0.4164129121559081,
          0.39453339772297513,
          0.3762982129145033
         ],
         "b": [
          0.05842441049816155,
          0.08464334787965616,
          0.12055250500194142,
          0.15576345571395814,
          0.19743382603878168,
          0.2334987750484582,
          0.264454398263475,
          0.28919300635528855,
          0.31529098294964963,
          0.33800449725102677,
          0.36724728745038027,
          0.4021207100193288,
          0.4365814162829003,
          0.4684361518208591,
          0.49317738194771954
         ],
         "c": [
          0.10814035068533015,
          0.10994467423106771,
          0.12018928171085812,
          0.13517204472395233,
          0.15514888831581794,
          0.1797481090364303,
          0.19524566043892497,
          0.19637993241253526,
          0.19489357063578117,
          0.18830005050589418,
          0.17620293648237134,
          0.1606453614366501,
          0.1470056715611917,
          0.13703045045616574,
          0.13052440513777727
         ],
         "line": {
          "color": "grey",
          "width": 0.25
         },
         "marker": {
          "color": "silver",
          "line": {
           "color": "black",
           "width": 0
          },
          "opacity": 0.9,
          "size": 6
         },
         "mode": "lines+text",
         "name": "LBN",
         "showlegend": false,
         "subplot": "ternary",
         "text": [
          "",
          "",
          "",
          "",
          "",
          "",
          "",
          "",
          "",
          "",
          "",
          "",
          "",
          "",
          ""
         ],
         "textfont": {
          "color": "black",
          "size": 3.746118968234336
         },
         "type": "scatterternary"
        },
        {
         "a": [
          0.8334352388165083,
          0.8054119778892762,
          0.7592582132872006,
          0.7090644995620896,
          0.6474172856454004
         ],
         "b": [
          0.05842441049816155,
          0.08464334787965616,
          0.12055250500194142,
          0.15576345571395814,
          0.19743382603878168
         ],
         "c": [
          0.10814035068533015,
          0.10994467423106771,
          0.12018928171085812,
          0.13517204472395233,
          0.15514888831581794
         ],
         "line": {
          "color": "grey",
          "width": 0.25
         },
         "marker": {
          "color": "silver",
          "line": {
           "color": "black",
           "width": 0
          },
          "opacity": 0.9,
          "size": 6
         },
         "mode": "lines+text",
         "name": "LBN",
         "showlegend": false,
         "subplot": "ternary",
         "text": [
          "",
          "",
          "",
          "",
          "",
          "",
          "",
          "",
          "",
          "",
          "",
          "",
          "",
          "",
          ""
         ],
         "textfont": {
          "color": "black",
          "size": 3.746118968234336
         },
         "type": "scatterternary"
        },
        {
         "a": [
          0.7295748714636601,
          0.6488752632278403,
          0.549343649197317,
          0.4655604637045419,
          0.38158872841604896,
          0.3057606570152406,
          0.25227005620101783,
          0.21303712694547022,
          0.17793524187462118,
          0.160868486201008,
          0.14869024788598534,
          0.141704294046103,
          0.1411577789654938,
          0.1530905189515181,
          0.18280046019689
         ],
         "b": [
          0.17776527670292802,
          0.25757865074047487,
          0.35906407608401536,
          0.4440127966215293,
          0.5312083149829999,
          0.6118865007577912,
          0.6648653044944486,
          0.6909429292531508,
          0.6956548787587306,
          0.6787315615869703,
          0.6521138887731193,
          0.6278812451655766,
          0.5998998719272945,
          0.5748444799485266,
          0.5513092058140455
         ],
         "c": [
          0.09265985183341187,
          0.09354608603168452,
          0.09159227471866772,
          0.09042673967392882,
          0.08720295660095083,
          0.08235284222696822,
          0.08286463930453344,
          0.09601994380137902,
          0.12640987936664821,
          0.16039995221202166,
          0.1991958633408953,
          0.2304144607883204,
          0.2589423491072117,
          0.2720650010999553,
          0.26589033398906464
         ],
         "line": {
          "color": "grey",
          "width": 0.25
         },
         "marker": {
          "color": "silver",
          "line": {
           "color": "black",
           "width": 0
          },
          "opacity": 0.9,
          "size": 6
         },
         "mode": "lines+text",
         "name": "LSO",
         "showlegend": false,
         "subplot": "ternary",
         "text": [
          "",
          "",
          "",
          "",
          "",
          "",
          "",
          "",
          "",
          "",
          "",
          "",
          "",
          "",
          ""
         ],
         "textfont": {
          "color": "black",
          "size": 2.89062218046561
         },
         "type": "scatterternary"
        },
        {
         "a": [
          0.7295748714636601,
          0.6488752632278403,
          0.549343649197317,
          0.4655604637045419,
          0.38158872841604896
         ],
         "b": [
          0.17776527670292802,
          0.25757865074047487,
          0.35906407608401536,
          0.4440127966215293,
          0.5312083149829999
         ],
         "c": [
          0.09265985183341187,
          0.09354608603168452,
          0.09159227471866772,
          0.09042673967392882,
          0.08720295660095083
         ],
         "line": {
          "color": "grey",
          "width": 0.25
         },
         "marker": {
          "color": "silver",
          "line": {
           "color": "black",
           "width": 0
          },
          "opacity": 0.9,
          "size": 6
         },
         "mode": "lines+text",
         "name": "LSO",
         "showlegend": false,
         "subplot": "ternary",
         "text": [
          "",
          "",
          "",
          "",
          "",
          "",
          "",
          "",
          "",
          "",
          "",
          "",
          "",
          "",
          ""
         ],
         "textfont": {
          "color": "black",
          "size": 2.89062218046561
         },
         "type": "scatterternary"
        },
        {
         "a": [
          0.6723421183385775,
          0.6002167670535694,
          0.5075483434400744,
          0.4008314375181213,
          0.33065310206344434,
          0.26652725439029123,
          0.21378054931199295,
          0.179358433084282,
          0.15695816830933473,
          0.14562502396867114,
          0.1359120414944919,
          0.12838318308409558,
          0.12302699204572362,
          0.11864938269204073,
          0.11692954923149207
         ],
         "b": [
          0.23540358056288285,
          0.3075811363133318,
          0.40321490895069834,
          0.5173301812123068,
          0.5899762097209338,
          0.6496095857485443,
          0.691049059831168,
          0.702149738872625,
          0.6946541138454823,
          0.6701916513153063,
          0.636833451964597,
          0.602218411552319,
          0.5746264745107151,
          0.5498161662895137,
          0.5289665751447266
         ],
         "c": [
          0.0922543010985398,
          0.09220209663309882,
          0.08923674760922734,
          0.0818383812695718,
          0.07937068821562174,
          0.08386315986116438,
          0.09517039085683895,
          0.11849182804309297,
          0.14838771784518306,
          0.18418332471602275,
          0.22725450654091112,
          0.26939840536358545,
          0.30234653344356127,
          0.33153445101844564,
          0.35410387562378143
         ],
         "line": {
          "color": "grey",
          "width": 0.25
         },
         "marker": {
          "color": "silver",
          "line": {
           "color": "black",
           "width": 0
          },
          "opacity": 0.9,
          "size": 6
         },
         "mode": "lines+text",
         "name": "LBR",
         "showlegend": false,
         "subplot": "ternary",
         "text": [
          "",
          "",
          "",
          "",
          "",
          "",
          "",
          "",
          "",
          "",
          "",
          "",
          "",
          "",
          ""
         ],
         "textfont": {
          "color": "black",
          "size": 3.61401429289933
         },
         "type": "scatterternary"
        },
        {
         "a": [
          0.6723421183385775,
          0.6002167670535694,
          0.5075483434400744,
          0.4008314375181213,
          0.33065310206344434
         ],
         "b": [
          0.23540358056288285,
          0.3075811363133318,
          0.40321490895069834,
          0.5173301812123068,
          0.5899762097209338
         ],
         "c": [
          0.0922543010985398,
          0.09220209663309882,
          0.08923674760922734,
          0.0818383812695718,
          0.07937068821562174
         ],
         "line": {
          "color": "grey",
          "width": 0.25
         },
         "marker": {
          "color": "silver",
          "line": {
           "color": "black",
           "width": 0
          },
          "opacity": 0.9,
          "size": 6
         },
         "mode": "lines+text",
         "name": "LBR",
         "showlegend": false,
         "subplot": "ternary",
         "text": [
          "",
          "",
          "",
          "",
          "",
          "",
          "",
          "",
          "",
          "",
          "",
          "",
          "",
          "",
          ""
         ],
         "textfont": {
          "color": "black",
          "size": 3.61401429289933
         },
         "type": "scatterternary"
        },
        {
         "a": [
          0.8574376959062618,
          0.7949130581625559,
          0.7254759435797595,
          0.6680918671965997,
          0.5950236528003437,
          0.5251341942622897,
          0.4440809024781245,
          0.38203316214139094,
          0.31792978633150215,
          0.271932685464243,
          0.24066325983232084,
          0.2178787556936776,
          0.1949278688998697,
          0.17439633025230977,
          0.1657355644827972
         ],
         "b": [
          0.052633529529064714,
          0.10992733935000858,
          0.17001873295904885,
          0.21247273864369243,
          0.27074071907256914,
          0.3297228008550594,
          0.40635820250793653,
          0.48029360396478926,
          0.5557838367310884,
          0.6041077601115655,
          0.6366241445864419,
          0.6589510110227689,
          0.6747898069007683,
          0.6846057491381874,
          0.6964306860912967
         ],
         "c": [
          0.08992877456467352,
          0.09515960248743573,
          0.10450532346119165,
          0.11943539415970776,
          0.13423562812708706,
          0.1451430048826509,
          0.14956089501393896,
          0.13767323389381964,
          0.12628637693740952,
          0.12395955442419146,
          0.12271259558123732,
          0.12317023328355343,
          0.13028232419936212,
          0.14099792060950259,
          0.1378337494259061
         ],
         "line": {
          "color": "grey",
          "width": 0.25
         },
         "marker": {
          "color": "silver",
          "line": {
           "color": "black",
           "width": 0
          },
          "opacity": 0.9,
          "size": 6
         },
         "mode": "lines+text",
         "name": "LBY",
         "showlegend": false,
         "subplot": "ternary",
         "text": [
          "",
          "",
          "",
          "",
          "",
          "",
          "",
          "",
          "",
          "",
          "",
          "",
          "",
          "",
          ""
         ],
         "textfont": {
          "color": "black",
          "size": 3.915210491595787
         },
         "type": "scatterternary"
        },
        {
         "a": [
          0.8574376959062618,
          0.7949130581625559,
          0.7254759435797595,
          0.6680918671965997,
          0.5950236528003437
         ],
         "b": [
          0.052633529529064714,
          0.10992733935000858,
          0.17001873295904885,
          0.21247273864369243,
          0.27074071907256914
         ],
         "c": [
          0.08992877456467352,
          0.09515960248743573,
          0.10450532346119165,
          0.11943539415970776,
          0.13423562812708706
         ],
         "line": {
          "color": "grey",
          "width": 0.25
         },
         "marker": {
          "color": "silver",
          "line": {
           "color": "black",
           "width": 0
          },
          "opacity": 0.9,
          "size": 6
         },
         "mode": "lines+text",
         "name": "LBY",
         "showlegend": false,
         "subplot": "ternary",
         "text": [
          "",
          "",
          "",
          "",
          "",
          "",
          "",
          "",
          "",
          "",
          "",
          "",
          "",
          "",
          ""
         ],
         "textfont": {
          "color": "black",
          "size": 3.915210491595787
         },
         "type": "scatterternary"
        },
        {
         "a": [
          0,
          0,
          0,
          0,
          0,
          0,
          0,
          0,
          0,
          0,
          0,
          0,
          0,
          0,
          0
         ],
         "b": [
          0,
          0,
          0,
          0,
          0,
          0,
          0,
          0,
          0,
          0,
          0,
          0,
          0,
          0,
          0
         ],
         "c": [
          0,
          0,
          0,
          0,
          0,
          0,
          0,
          0,
          0,
          0,
          0,
          0,
          0,
          0,
          0
         ],
         "line": {
          "color": "grey",
          "width": 0.25
         },
         "marker": {
          "color": "silver",
          "line": {
           "color": "black",
           "width": 0
          },
          "opacity": 0.9,
          "size": 6
         },
         "mode": "lines+text",
         "name": "LIE",
         "showlegend": false,
         "subplot": "ternary",
         "text": [
          "",
          "",
          "",
          "",
          "",
          "",
          "",
          "",
          "",
          "",
          "",
          "",
          "",
          "",
          ""
         ],
         "textfont": {
          "color": "black",
          "size": 2.3694187025678044
         },
         "type": "scatterternary"
        },
        {
         "a": [
          0,
          0,
          0,
          0,
          0
         ],
         "b": [
          0,
          0,
          0,
          0,
          0
         ],
         "c": [
          0,
          0,
          0,
          0,
          0
         ],
         "line": {
          "color": "grey",
          "width": 0.25
         },
         "marker": {
          "color": "silver",
          "line": {
           "color": "black",
           "width": 0
          },
          "opacity": 0.9,
          "size": 6
         },
         "mode": "lines+text",
         "name": "LIE",
         "showlegend": false,
         "subplot": "ternary",
         "text": [
          "",
          "",
          "",
          "",
          "",
          "",
          "",
          "",
          "",
          "",
          "",
          "",
          "",
          "",
          ""
         ],
         "textfont": {
          "color": "black",
          "size": 2.3694187025678044
         },
         "type": "scatterternary"
        },
        {
         "a": [
          0.6056741566642984,
          0.4421276204270804,
          0.308738466870615,
          0.20987608382310358,
          0.14127279634446122,
          0.09988728684376208,
          0.06959347580381439,
          0.052069517962749466,
          0.040863582970844456,
          0.03364700399144425,
          0.0289644752388125,
          0.02576310098805222,
          0.023701565641265326,
          0.021673741438794566,
          0.02014178500020424
         ],
         "b": [
          0.3311100209115331,
          0.5056895430218135,
          0.647766370838207,
          0.7537252718152506,
          0.8277892503134864,
          0.8736548994936183,
          0.9085456212561588,
          0.9296646520470571,
          0.943508396560531,
          0.9530628618096016,
          0.9595918656842165,
          0.9643201525137459,
          0.9674989321256418,
          0.970482601829445,
          0.9728529666399921
         ],
         "c": [
          0.06321582242416847,
          0.05218283655110607,
          0.04349516229117815,
          0.03639864436164577,
          0.03093795334205233,
          0.026457813662619598,
          0.021860902940026808,
          0.01826582999019351,
          0.01562802046862441,
          0.013290134198954045,
          0.011443659076970958,
          0.009916746498201805,
          0.008799502233093049,
          0.00784365673176037,
          0.007005248359803563
         ],
         "line": {
          "color": "grey",
          "width": 0.25
         },
         "marker": {
          "color": "silver",
          "line": {
           "color": "black",
           "width": 0
          },
          "opacity": 0.9,
          "size": 6
         },
         "mode": "lines+text",
         "name": "LTU",
         "showlegend": false,
         "subplot": "ternary",
         "text": [
          "",
          "",
          "",
          "",
          "",
          "",
          "",
          "",
          "",
          "",
          "",
          "",
          "",
          "",
          ""
         ],
         "textfont": {
          "color": "black",
          "size": 3.077843061588359
         },
         "type": "scatterternary"
        },
        {
         "a": [
          0.6056741566642984,
          0.4421276204270804,
          0.308738466870615,
          0.20987608382310358,
          0.14127279634446122
         ],
         "b": [
          0.3311100209115331,
          0.5056895430218135,
          0.647766370838207,
          0.7537252718152506,
          0.8277892503134864
         ],
         "c": [
          0.06321582242416847,
          0.05218283655110607,
          0.04349516229117815,
          0.03639864436164577,
          0.03093795334205233
         ],
         "line": {
          "color": "grey",
          "width": 0.25
         },
         "marker": {
          "color": "silver",
          "line": {
           "color": "black",
           "width": 0
          },
          "opacity": 0.9,
          "size": 6
         },
         "mode": "lines+text",
         "name": "LTU",
         "showlegend": false,
         "subplot": "ternary",
         "text": [
          "",
          "",
          "",
          "",
          "",
          "",
          "",
          "",
          "",
          "",
          "",
          "",
          "",
          "",
          ""
         ],
         "textfont": {
          "color": "black",
          "size": 3.077843061588359
         },
         "type": "scatterternary"
        },
        {
         "a": [
          0.6834348676922191,
          0.568440770291134,
          0.45073730690817304,
          0.3420940853635023,
          0.23269672131216085,
          0.15556421215555616,
          0.10079875738214225,
          0.07342866657695858,
          0.056190083796731925,
          0.04667993405266681,
          0.0407234020391053,
          0.036195811802445715,
          0.03380098755513406,
          0.030781118339920137,
          0.029087146218067222
         ],
         "b": [
          0.24251698629789606,
          0.3596952539216234,
          0.47460201159189863,
          0.5809004227078032,
          0.6973282492441902,
          0.7844743321720105,
          0.8516196469765278,
          0.8898628636019883,
          0.9134694684974793,
          0.9280669877984459,
          0.9383725710024584,
          0.9459147486803938,
          0.9508159248587906,
          0.9556075102335477,
          0.9587985581688911
         ],
         "c": [
          0.07404814600988491,
          0.07186397578724268,
          0.07466068149992845,
          0.07700549192869469,
          0.06997502944364879,
          0.05996145567243332,
          0.04758159564132979,
          0.036708469821053163,
          0.030340447705788684,
          0.02525307814888729,
          0.020904026958436277,
          0.017889439517160457,
          0.015383087586075437,
          0.013611371426532112,
          0.0121142956130417
         ],
         "line": {
          "color": "grey",
          "width": 0.25
         },
         "marker": {
          "color": "silver",
          "line": {
           "color": "black",
           "width": 0
          },
          "opacity": 0.9,
          "size": 6
         },
         "mode": "lines+text",
         "name": "LUX",
         "showlegend": false,
         "subplot": "ternary",
         "text": [
          "",
          "",
          "",
          "",
          "",
          "",
          "",
          "",
          "",
          "",
          "",
          "",
          "",
          "",
          ""
         ],
         "textfont": {
          "color": "black",
          "size": 2.1354969377085222
         },
         "type": "scatterternary"
        },
        {
         "a": [
          0.6834348676922191,
          0.568440770291134,
          0.45073730690817304,
          0.3420940853635023,
          0.23269672131216085
         ],
         "b": [
          0.24251698629789606,
          0.3596952539216234,
          0.47460201159189863,
          0.5809004227078032,
          0.6973282492441902
         ],
         "c": [
          0.07404814600988491,
          0.07186397578724268,
          0.07466068149992845,
          0.07700549192869469,
          0.06997502944364879
         ],
         "line": {
          "color": "grey",
          "width": 0.25
         },
         "marker": {
          "color": "silver",
          "line": {
           "color": "black",
           "width": 0
          },
          "opacity": 0.9,
          "size": 6
         },
         "mode": "lines+text",
         "name": "LUX",
         "showlegend": false,
         "subplot": "ternary",
         "text": [
          "",
          "",
          "",
          "",
          "",
          "",
          "",
          "",
          "",
          "",
          "",
          "",
          "",
          "",
          ""
         ],
         "textfont": {
          "color": "black",
          "size": 2.1354969377085222
         },
         "type": "scatterternary"
        },
        {
         "a": [
          0.8043423195355647,
          0.7557524769985535,
          0.7237814083320007,
          0.6987782007975304,
          0.6741759799546,
          0.6476049748712618,
          0.6157094441108071,
          0.5894632687694286,
          0.5666273067053376,
          0.551248601840302,
          0.5383512551267193,
          0.5275404598476866,
          0.5183472763754338,
          0.5082231506847438,
          0.49842748056741043
         ],
         "b": [
          0.10296763344979573,
          0.14401494829080183,
          0.1628379300734059,
          0.17059234016418445,
          0.17553895383993096,
          0.18540435769986738,
          0.20293793113433528,
          0.22324225677391596,
          0.2410704919116762,
          0.25619494148852356,
          0.26939752500148284,
          0.28194050034289686,
          0.29288501017038626,
          0.3038195386071413,
          0.3152982780328924
         ],
         "c": [
          0.09269004701463969,
          0.10023257471064476,
          0.11338066159459345,
          0.13062945903828513,
          0.15028506620546916,
          0.16699066742887086,
          0.18135262475485772,
          0.18729447445665542,
          0.19230220138298623,
          0.19255645667117444,
          0.1922512198717976,
          0.19051903980941645,
          0.18876771345418,
          0.18795731070811492,
          0.18627424139969714
         ],
         "line": {
          "color": "grey",
          "width": 0.25
         },
         "marker": {
          "color": "silver",
          "line": {
           "color": "black",
           "width": 0
          },
          "opacity": 0.9,
          "size": 6
         },
         "mode": "lines+text",
         "name": "MKD",
         "showlegend": false,
         "subplot": "ternary",
         "text": [
          "",
          "",
          "",
          "",
          "",
          "",
          "",
          "",
          "",
          "",
          "",
          "",
          "",
          "",
          ""
         ],
         "textfont": {
          "color": "black",
          "size": 2.847482718186658
         },
         "type": "scatterternary"
        },
        {
         "a": [
          0.8043423195355647,
          0.7557524769985535,
          0.7237814083320007,
          0.6987782007975304,
          0.6741759799546
         ],
         "b": [
          0.10296763344979573,
          0.14401494829080183,
          0.1628379300734059,
          0.17059234016418445,
          0.17553895383993096
         ],
         "c": [
          0.09269004701463969,
          0.10023257471064476,
          0.11338066159459345,
          0.13062945903828513,
          0.15028506620546916
         ],
         "line": {
          "color": "grey",
          "width": 0.25
         },
         "marker": {
          "color": "silver",
          "line": {
           "color": "black",
           "width": 0
          },
          "opacity": 0.9,
          "size": 6
         },
         "mode": "lines+text",
         "name": "MKD",
         "showlegend": false,
         "subplot": "ternary",
         "text": [
          "",
          "",
          "",
          "",
          "",
          "",
          "",
          "",
          "",
          "",
          "",
          "",
          "",
          "",
          ""
         ],
         "textfont": {
          "color": "black",
          "size": 2.847482718186658
         },
         "type": "scatterternary"
        },
        {
         "a": [
          0.6407623691647609,
          0.5782530263447498,
          0.506516389426743,
          0.4351258096536907,
          0.3538057796023271,
          0.28334198947376715,
          0.23653925407716597,
          0.2076696194369987,
          0.17534321190345148,
          0.15499504934614167,
          0.14204513453729437,
          0.13586947734514615,
          0.13647488853617404,
          0.14384208720654795,
          0.14885608370667874
         ],
         "b": [
          0.24839301400088237,
          0.30598657025262666,
          0.3851246777854841,
          0.45354466901542456,
          0.5352489576776571,
          0.5948927498235487,
          0.6253437660594715,
          0.6227433778076185,
          0.6084351192728225,
          0.5897422026105725,
          0.5661110100168675,
          0.5516332748323344,
          0.5348140643612309,
          0.520211670719653,
          0.5033708775726683
         ],
         "c": [
          0.11084461683435681,
          0.11576040340262353,
          0.10835893278777295,
          0.11132952133088461,
          0.11094526272001586,
          0.12176526070268388,
          0.13811697986336263,
          0.169587002755383,
          0.2162216688237261,
          0.25526274804328586,
          0.2918438554458383,
          0.3124972478225195,
          0.32871104710259497,
          0.33594624207379903,
          0.34777303872065285
         ],
         "line": {
          "color": "grey",
          "width": 0.25
         },
         "marker": {
          "color": "silver",
          "line": {
           "color": "black",
           "width": 0
          },
          "opacity": 0.9,
          "size": 6
         },
         "mode": "lines+text",
         "name": "MDG",
         "showlegend": false,
         "subplot": "ternary",
         "text": [
          "",
          "",
          "",
          "",
          "",
          "",
          "",
          "",
          "",
          "",
          "",
          "",
          "",
          "",
          ""
         ],
         "textfont": {
          "color": "black",
          "size": 6.183796396181992
         },
         "type": "scatterternary"
        },
        {
         "a": [
          0.6407623691647609,
          0.5782530263447498,
          0.506516389426743,
          0.4351258096536907,
          0.3538057796023271
         ],
         "b": [
          0.24839301400088237,
          0.30598657025262666,
          0.3851246777854841,
          0.45354466901542456,
          0.5352489576776571
         ],
         "c": [
          0.11084461683435681,
          0.11576040340262353,
          0.10835893278777295,
          0.11132952133088461,
          0.11094526272001586
         ],
         "line": {
          "color": "grey",
          "width": 0.25
         },
         "marker": {
          "color": "silver",
          "line": {
           "color": "black",
           "width": 0
          },
          "opacity": 0.9,
          "size": 6
         },
         "mode": "lines+text",
         "name": "MDG",
         "showlegend": false,
         "subplot": "ternary",
         "text": [
          "",
          "",
          "",
          "",
          "",
          "",
          "",
          "",
          "",
          "",
          "",
          "",
          "",
          "",
          ""
         ],
         "textfont": {
          "color": "black",
          "size": 6.183796396181992
         },
         "type": "scatterternary"
        },
        {
         "a": [
          0.4161600496428823,
          0.40030051836794667,
          0.37783136947107576,
          0.3443424980044963,
          0.31245848583799296,
          0.2864799655162467,
          0.2644156652457363,
          0.24837104158158096,
          0.23429578601274748,
          0.22459410620738457,
          0.21585902456822503,
          0.20937315112764568,
          0.20369872821518864,
          0.1998047596630122,
          0.19670836723560736
         ],
         "b": [
          0.5085402907377612,
          0.5227372227843854,
          0.5441350664011122,
          0.5778909736798179,
          0.6110180738541772,
          0.6384920508249489,
          0.6617499574824208,
          0.6770130806701912,
          0.6867078796344245,
          0.6914742920455478,
          0.6943711843541877,
          0.6962518592046615,
          0.6996772022046946,
          0.7079899662758632,
          0.7213260251223935
         ],
         "c": [
          0.07529965961935661,
          0.07696225884766791,
          0.07803356412781198,
          0.07776652831568566,
          0.07652344030782972,
          0.07502798365880432,
          0.07383437727184301,
          0.07461587774822802,
          0.07899633435282812,
          0.08393160174706774,
          0.08976979107758742,
          0.09437498966769285,
          0.09662406958011671,
          0.09220527406112475,
          0.08196560764199907
         ],
         "line": {
          "color": "grey",
          "width": 0.25
         },
         "marker": {
          "color": "silver",
          "line": {
           "color": "black",
           "width": 0
          },
          "opacity": 0.9,
          "size": 6
         },
         "mode": "lines+text",
         "name": "MWI",
         "showlegend": false,
         "subplot": "ternary",
         "text": [
          "",
          "",
          "",
          "",
          "",
          "",
          "",
          "",
          "",
          "",
          "",
          "",
          "",
          "",
          ""
         ],
         "textfont": {
          "color": "black",
          "size": 5.457994075687126
         },
         "type": "scatterternary"
        },
        {
         "a": [
          0.4161600496428823,
          0.40030051836794667,
          0.37783136947107576,
          0.3443424980044963,
          0.31245848583799296
         ],
         "b": [
          0.5085402907377612,
          0.5227372227843854,
          0.5441350664011122,
          0.5778909736798179,
          0.6110180738541772
         ],
         "c": [
          0.07529965961935661,
          0.07696225884766791,
          0.07803356412781198,
          0.07776652831568566,
          0.07652344030782972
         ],
         "line": {
          "color": "grey",
          "width": 0.25
         },
         "marker": {
          "color": "silver",
          "line": {
           "color": "black",
           "width": 0
          },
          "opacity": 0.9,
          "size": 6
         },
         "mode": "lines+text",
         "name": "MWI",
         "showlegend": false,
         "subplot": "ternary",
         "text": [
          "",
          "",
          "",
          "",
          "",
          "",
          "",
          "",
          "",
          "",
          "",
          "",
          "",
          "",
          ""
         ],
         "textfont": {
          "color": "black",
          "size": 5.457994075687126
         },
         "type": "scatterternary"
        },
        {
         "a": [
          0.8746072002493492,
          0.8288408564323574,
          0.7677330552219701,
          0.697111303135314,
          0.6118828633671308,
          0.5367324771881911,
          0.4635324099318427,
          0.41522131406575896,
          0.3698288132836538,
          0.34399967099346324,
          0.3186741634101091,
          0.2946888169929104,
          0.28042436247300795,
          0.2656063942317425,
          0.2572568226039875
         ],
         "b": [
          0.031222599766872704,
          0.06705380746244352,
          0.11607706288550633,
          0.1698488583007286,
          0.24167367846704363,
          0.30575046117922344,
          0.3748761557824946,
          0.4230577610674224,
          0.4619860685617082,
          0.4787222702889514,
          0.49068948670864243,
          0.4996357025963253,
          0.5014767595905202,
          0.5047732705414913,
          0.5063954779507961
         ],
         "c": [
          0.09417019998377812,
          0.10410533610519897,
          0.11618988189252347,
          0.1330398385639572,
          0.1464434581658255,
          0.1575170616325854,
          0.1615914342856628,
          0.1617209248668186,
          0.16818511815463802,
          0.1772780587175853,
          0.19063634988124847,
          0.20567548041076433,
          0.21809887793647192,
          0.22962033522676617,
          0.23634769944521644
         ],
         "line": {
          "color": "grey",
          "width": 0.25
         },
         "marker": {
          "color": "silver",
          "line": {
           "color": "black",
           "width": 0
          },
          "opacity": 0.9,
          "size": 6
         },
         "mode": "lines+text",
         "name": "MYS",
         "showlegend": false,
         "subplot": "ternary",
         "text": [
          "",
          "",
          "",
          "",
          "",
          "",
          "",
          "",
          "",
          "",
          "",
          "",
          "",
          "",
          ""
         ],
         "textfont": {
          "color": "black",
          "size": 6.5457585126467706
         },
         "type": "scatterternary"
        },
        {
         "a": [
          0.8746072002493492,
          0.8288408564323574,
          0.7677330552219701,
          0.697111303135314,
          0.6118828633671308
         ],
         "b": [
          0.031222599766872704,
          0.06705380746244352,
          0.11607706288550633,
          0.1698488583007286,
          0.24167367846704363
         ],
         "c": [
          0.09417019998377812,
          0.10410533610519897,
          0.11618988189252347,
          0.1330398385639572,
          0.1464434581658255
         ],
         "line": {
          "color": "grey",
          "width": 0.25
         },
         "marker": {
          "color": "silver",
          "line": {
           "color": "black",
           "width": 0
          },
          "opacity": 0.9,
          "size": 6
         },
         "mode": "lines+text",
         "name": "MYS",
         "showlegend": false,
         "subplot": "ternary",
         "text": [
          "",
          "",
          "",
          "",
          "",
          "",
          "",
          "",
          "",
          "",
          "",
          "",
          "",
          "",
          ""
         ],
         "textfont": {
          "color": "black",
          "size": 6.5457585126467706
         },
         "type": "scatterternary"
        },
        {
         "a": [
          0.7932031563541415,
          0.7290462072143862,
          0.6365998653144748,
          0.5511157530254545,
          0.46446339030480777,
          0.3919716142111612,
          0.3228256605362879,
          0.2713529233117009,
          0.23044138097625227,
          0.2027886309607989,
          0.17945631945891294,
          0.1622521606903246,
          0.15132947624971219,
          0.14197411135742405,
          0.1391803369668167
         ],
         "b": [
          0.10929415610790785,
          0.1681640102326271,
          0.257339469543352,
          0.34015504737807545,
          0.42660998794434557,
          0.4986533782493636,
          0.5677770916943985,
          0.6134419782072932,
          0.6427955719032187,
          0.6550097576638358,
          0.6570616599672984,
          0.654495145094595,
          0.6536389759961846,
          0.6477337417583625,
          0.6436524199139757
         ],
         "c": [
          0.09750268753795056,
          0.10278978255298665,
          0.10606066514217322,
          0.10872919959647036,
          0.10892662175084664,
          0.10937500753947492,
          0.10939724776931371,
          0.115205098481006,
          0.12676304712052905,
          0.14220161137536522,
          0.1634820205737887,
          0.18325269421508028,
          0.19503154775410306,
          0.21029214688421338,
          0.21716724311920751
         ],
         "line": {
          "color": "grey",
          "width": 0.25
         },
         "marker": {
          "color": "silver",
          "line": {
           "color": "black",
           "width": 0
          },
          "opacity": 0.9,
          "size": 6
         },
         "mode": "lines+text",
         "name": "MDV",
         "showlegend": false,
         "subplot": "ternary",
         "text": [
          "",
          "",
          "",
          "",
          "",
          "",
          "",
          "",
          "",
          "",
          "",
          "",
          "",
          "",
          ""
         ],
         "textfont": {
          "color": "black",
          "size": 2.046801063951455
         },
         "type": "scatterternary"
        },
        {
         "a": [
          0.7932031563541415,
          0.7290462072143862,
          0.6365998653144748,
          0.5511157530254545,
          0.46446339030480777
         ],
         "b": [
          0.10929415610790785,
          0.1681640102326271,
          0.257339469543352,
          0.34015504737807545,
          0.42660998794434557
         ],
         "c": [
          0.09750268753795056,
          0.10278978255298665,
          0.10606066514217322,
          0.10872919959647036,
          0.10892662175084664
         ],
         "line": {
          "color": "grey",
          "width": 0.25
         },
         "marker": {
          "color": "silver",
          "line": {
           "color": "black",
           "width": 0
          },
          "opacity": 0.9,
          "size": 6
         },
         "mode": "lines+text",
         "name": "MDV",
         "showlegend": false,
         "subplot": "ternary",
         "text": [
          "",
          "",
          "",
          "",
          "",
          "",
          "",
          "",
          "",
          "",
          "",
          "",
          "",
          "",
          ""
         ],
         "textfont": {
          "color": "black",
          "size": 2.046801063951455
         },
         "type": "scatterternary"
        },
        {
         "a": [
          0.4674315810633828,
          0.42481225279493423,
          0.38666304197488655,
          0.3498722639857153,
          0.3153109664373467,
          0.2880080424744459,
          0.26510769075067003,
          0.24854833281482092,
          0.23507696196515782,
          0.22651542300061528,
          0.21836174194945246,
          0.21182465126110195,
          0.2075837378689532,
          0.2035865614725397,
          0.19921496886078688
         ],
         "b": [
          0.4422113121712804,
          0.48401936674047796,
          0.5216829932153011,
          0.5578727446665768,
          0.5928861037056421,
          0.6184819237274052,
          0.6374599488009094,
          0.647007238530621,
          0.651706538383103,
          0.6506351038246307,
          0.6480101875950603,
          0.646311476950058,
          0.6454456866306186,
          0.647558886033112,
          0.6548289041803519
         ],
         "c": [
          0.09035710676533673,
          0.0911683804645877,
          0.09165396480981251,
          0.09225499134770783,
          0.09180292985701127,
          0.09351003379814898,
          0.09743236044842063,
          0.10444442865455789,
          0.11321649965173931,
          0.1228494731747541,
          0.13362807045548722,
          0.1418638717888399,
          0.14697057550042825,
          0.1488545524943483,
          0.14595612695886107
         ],
         "line": {
          "color": "grey",
          "width": 0.25
         },
         "marker": {
          "color": "silver",
          "line": {
           "color": "black",
           "width": 0
          },
          "opacity": 0.9,
          "size": 6
         },
         "mode": "lines+text",
         "name": "MLI",
         "showlegend": false,
         "subplot": "ternary",
         "text": [
          "",
          "",
          "",
          "",
          "",
          "",
          "",
          "",
          "",
          "",
          "",
          "",
          "",
          "",
          ""
         ],
         "textfont": {
          "color": "black",
          "size": 5.618329094112684
         },
         "type": "scatterternary"
        },
        {
         "a": [
          0.4674315810633828,
          0.42481225279493423,
          0.38666304197488655,
          0.3498722639857153,
          0.3153109664373467
         ],
         "b": [
          0.4422113121712804,
          0.48401936674047796,
          0.5216829932153011,
          0.5578727446665768,
          0.5928861037056421
         ],
         "c": [
          0.09035710676533673,
          0.0911683804645877,
          0.09165396480981251,
          0.09225499134770783,
          0.09180292985701127
         ],
         "line": {
          "color": "grey",
          "width": 0.25
         },
         "marker": {
          "color": "silver",
          "line": {
           "color": "black",
           "width": 0
          },
          "opacity": 0.9,
          "size": 6
         },
         "mode": "lines+text",
         "name": "MLI",
         "showlegend": false,
         "subplot": "ternary",
         "text": [
          "",
          "",
          "",
          "",
          "",
          "",
          "",
          "",
          "",
          "",
          "",
          "",
          "",
          "",
          ""
         ],
         "textfont": {
          "color": "black",
          "size": 5.618329094112684
         },
         "type": "scatterternary"
        },
        {
         "a": [
          0.6941901217738411,
          0.6100539766610481,
          0.5787549502374256,
          0.5610544150377386,
          0.5517212140193785,
          0.5381633510489782,
          0.5257179784657344,
          0.517729992104117,
          0.5075845928573921,
          0.5063580568327535,
          0.5055630052619744,
          0.5040297982036926,
          0.501800708418529,
          0.4971766114099593,
          0.49213030457312246
         ],
         "b": [
          0.22205876518155726,
          0.30463507397116973,
          0.3247702386047281,
          0.3264303747500143,
          0.31599047116338286,
          0.31188053568783947,
          0.30813053294021087,
          0.30670920241988925,
          0.30862009979002797,
          0.30617407917356615,
          0.30492892114619025,
          0.3057317114164013,
          0.30793662739240835,
          0.3117049897428174,
          0.3162686354925376
         ],
         "c": [
          0.08375111304460194,
          0.08531094936778222,
          0.0964748111578462,
          0.11251521021224702,
          0.13228831481723846,
          0.14995611326318223,
          0.1661514885940545,
          0.17556080547599373,
          0.18379530735257965,
          0.18746786399368037,
          0.1895080735918353,
          0.19023849037990587,
          0.1902626641890626,
          0.19111839884722323,
          0.1916010599343399
         ],
         "line": {
          "color": "grey",
          "width": 0.25
         },
         "marker": {
          "color": "silver",
          "line": {
           "color": "black",
           "width": 0
          },
          "opacity": 0.9,
          "size": 6
         },
         "mode": "lines+text",
         "name": "MLT",
         "showlegend": false,
         "subplot": "ternary",
         "text": [
          "",
          "",
          "",
          "",
          "",
          "",
          "",
          "",
          "",
          "",
          "",
          "",
          "",
          "",
          ""
         ],
         "textfont": {
          "color": "black",
          "size": 2.045738867747767
         },
         "type": "scatterternary"
        },
        {
         "a": [
          0.6941901217738411,
          0.6100539766610481,
          0.5787549502374256,
          0.5610544150377386,
          0.5517212140193785
         ],
         "b": [
          0.22205876518155726,
          0.30463507397116973,
          0.3247702386047281,
          0.3264303747500143,
          0.31599047116338286
         ],
         "c": [
          0.08375111304460194,
          0.08531094936778222,
          0.0964748111578462,
          0.11251521021224702,
          0.13228831481723846
         ],
         "line": {
          "color": "grey",
          "width": 0.25
         },
         "marker": {
          "color": "silver",
          "line": {
           "color": "black",
           "width": 0
          },
          "opacity": 0.9,
          "size": 6
         },
         "mode": "lines+text",
         "name": "MLT",
         "showlegend": false,
         "subplot": "ternary",
         "text": [
          "",
          "",
          "",
          "",
          "",
          "",
          "",
          "",
          "",
          "",
          "",
          "",
          "",
          "",
          ""
         ],
         "textfont": {
          "color": "black",
          "size": 2.045738867747767
         },
         "type": "scatterternary"
        },
        {
         "a": [
          0,
          0,
          0,
          0,
          0,
          0,
          0,
          0,
          0,
          0,
          0,
          0,
          0,
          0,
          0
         ],
         "b": [
          0,
          0,
          0,
          0,
          0,
          0,
          0,
          0,
          0,
          0,
          0,
          0,
          0,
          0,
          0
         ],
         "c": [
          0,
          0,
          0,
          0,
          0,
          0,
          0,
          0,
          0,
          0,
          0,
          0,
          0,
          0,
          0
         ],
         "line": {
          "color": "grey",
          "width": 0.25
         },
         "marker": {
          "color": "silver",
          "line": {
           "color": "black",
           "width": 0
          },
          "opacity": 0.9,
          "size": 6
         },
         "mode": "lines+text",
         "name": "MHL",
         "showlegend": false,
         "subplot": "ternary",
         "text": [
          "",
          "",
          "",
          "",
          "",
          "",
          "",
          "",
          "",
          "",
          "",
          "",
          "",
          "",
          ""
         ],
         "textfont": {
          "color": "black",
          "size": 2.3694187025678044
         },
         "type": "scatterternary"
        },
        {
         "a": [
          0,
          0,
          0,
          0,
          0
         ],
         "b": [
          0,
          0,
          0,
          0,
          0
         ],
         "c": [
          0,
          0,
          0,
          0,
          0
         ],
         "line": {
          "color": "grey",
          "width": 0.25
         },
         "marker": {
          "color": "silver",
          "line": {
           "color": "black",
           "width": 0
          },
          "opacity": 0.9,
          "size": 6
         },
         "mode": "lines+text",
         "name": "MHL",
         "showlegend": false,
         "subplot": "ternary",
         "text": [
          "",
          "",
          "",
          "",
          "",
          "",
          "",
          "",
          "",
          "",
          "",
          "",
          "",
          "",
          ""
         ],
         "textfont": {
          "color": "black",
          "size": 2.3694187025678044
         },
         "type": "scatterternary"
        },
        {
         "a": [
          0.6732170263542404,
          0.6078336543307641,
          0.5434227220455367,
          0.48276344165604645,
          0.43170389143204035,
          0.3925165918616821,
          0.3626309067040095,
          0.3442597722049685,
          0.33171191827864166,
          0.32762406282648376,
          0.3240902882679835,
          0.3216939463272645,
          0.3228367606078007,
          0.3188834830951077,
          0.3079682676871256
         ],
         "b": [
          0.22753465863704955,
          0.2890744884877545,
          0.349903923723363,
          0.40652613018138645,
          0.4539604703332971,
          0.4861080725131064,
          0.5054261259301822,
          0.5127281599690173,
          0.5137530366174049,
          0.5082919849673896,
          0.5051995342006363,
          0.5081437597865347,
          0.5119014772952484,
          0.5221928297280327,
          0.5407094568035016
         ],
         "c": [
          0.09924831500870991,
          0.1030918571814815,
          0.1066733542311004,
          0.11071042816256682,
          0.11433563823466257,
          0.12137533562521158,
          0.13194296736580838,
          0.14301206782601422,
          0.1545350451039535,
          0.16408395220612654,
          0.17071017753138013,
          0.1701622938862007,
          0.16526176209695098,
          0.15892368717685965,
          0.15132227550937283
         ],
         "line": {
          "color": "grey",
          "width": 0.25
         },
         "marker": {
          "color": "silver",
          "line": {
           "color": "black",
           "width": 0
          },
          "opacity": 0.9,
          "size": 6
         },
         "mode": "lines+text",
         "name": "MRT",
         "showlegend": false,
         "subplot": "ternary",
         "text": [
          "",
          "",
          "",
          "",
          "",
          "",
          "",
          "",
          "",
          "",
          "",
          "",
          "",
          "",
          ""
         ],
         "textfont": {
          "color": "black",
          "size": 3.486140953879629
         },
         "type": "scatterternary"
        },
        {
         "a": [
          0.6732170263542404,
          0.6078336543307641,
          0.5434227220455367,
          0.48276344165604645,
          0.43170389143204035
         ],
         "b": [
          0.22753465863704955,
          0.2890744884877545,
          0.349903923723363,
          0.40652613018138645,
          0.4539604703332971
         ],
         "c": [
          0.09924831500870991,
          0.1030918571814815,
          0.1066733542311004,
          0.11071042816256682,
          0.11433563823466257
         ],
         "line": {
          "color": "grey",
          "width": 0.25
         },
         "marker": {
          "color": "silver",
          "line": {
           "color": "black",
           "width": 0
          },
          "opacity": 0.9,
          "size": 6
         },
         "mode": "lines+text",
         "name": "MRT",
         "showlegend": false,
         "subplot": "ternary",
         "text": [
          "",
          "",
          "",
          "",
          "",
          "",
          "",
          "",
          "",
          "",
          "",
          "",
          "",
          "",
          ""
         ],
         "textfont": {
          "color": "black",
          "size": 3.486140953879629
         },
         "type": "scatterternary"
        },
        {
         "a": [
          0.8340458779680731,
          0.7541754760066638,
          0.7206564536688378,
          0.6546339475463053,
          0.5374333716867417,
          0.4299957698422705,
          0.331352158585571,
          0.2617721136349175,
          0.20022928469285822,
          0.1614164654547421,
          0.12938590860535504,
          0.11172945165825582,
          0.09693227050975319,
          0.08879737388057932,
          0.0822060609699369
         ],
         "b": [
          0.06882988369785639,
          0.1214023962733641,
          0.1480553929050542,
          0.2131654142695858,
          0.325831819740639,
          0.4358469034180656,
          0.5365807018556883,
          0.5912112912485438,
          0.6189636387025265,
          0.6260029090783062,
          0.6177418833468232,
          0.6169015805092969,
          0.608943936555521,
          0.6020575377305855,
          0.5835241441187925
         ],
         "c": [
          0.09712423833407081,
          0.12442212771997213,
          0.13128815342610797,
          0.13220063818410885,
          0.13673480857261924,
          0.13415732673966393,
          0.13206713955874097,
          0.14701659511653883,
          0.18080707660461534,
          0.21258062546695164,
          0.25287220804782173,
          0.2713689678324471,
          0.29412379293472574,
          0.3091450883888353,
          0.33426979491127073
         ],
         "line": {
          "color": "grey",
          "width": 0.25
         },
         "marker": {
          "color": "silver",
          "line": {
           "color": "black",
           "width": 0
          },
          "opacity": 0.9,
          "size": 6
         },
         "mode": "lines+text",
         "name": "MUS",
         "showlegend": false,
         "subplot": "ternary",
         "text": [
          "",
          "",
          "",
          "",
          "",
          "",
          "",
          "",
          "",
          "",
          "",
          "",
          "",
          "",
          ""
         ],
         "textfont": {
          "color": "black",
          "size": 2.5195267890895936
         },
         "type": "scatterternary"
        },
        {
         "a": [
          0.8340458779680731,
          0.7541754760066638,
          0.7206564536688378,
          0.6546339475463053,
          0.5374333716867417
         ],
         "b": [
          0.06882988369785639,
          0.1214023962733641,
          0.1480553929050542,
          0.2131654142695858,
          0.325831819740639
         ],
         "c": [
          0.09712423833407081,
          0.12442212771997213,
          0.13128815342610797,
          0.13220063818410885,
          0.13673480857261924
         ],
         "line": {
          "color": "grey",
          "width": 0.25
         },
         "marker": {
          "color": "silver",
          "line": {
           "color": "black",
           "width": 0
          },
          "opacity": 0.9,
          "size": 6
         },
         "mode": "lines+text",
         "name": "MUS",
         "showlegend": false,
         "subplot": "ternary",
         "text": [
          "",
          "",
          "",
          "",
          "",
          "",
          "",
          "",
          "",
          "",
          "",
          "",
          "",
          "",
          ""
         ],
         "textfont": {
          "color": "black",
          "size": 2.5195267890895936
         },
         "type": "scatterternary"
        },
        {
         "a": [
          0.8940243526018019,
          0.8728001036355125,
          0.8416149879212947,
          0.8106594530693464,
          0.7822370818457781,
          0.7546960810509786,
          0.7244397101213028,
          0.6994194010989472,
          0.6759266283238445,
          0.659774623294436,
          0.6479657055320897,
          0.6361828194579449,
          0.6206389790226572,
          0.6085914126124865,
          0.6049832631511521
         ],
         "b": [
          0.007684894254773182,
          0.015986792947410025,
          0.030347201044270168,
          0.04117626114465801,
          0.04475192220529674,
          0.04845330386784871,
          0.054661272875990756,
          0.06420999572235092,
          0.07397527722291658,
          0.08327637613649572,
          0.09034585117932907,
          0.09755709736323821,
          0.1059122948984329,
          0.11133588182718457,
          0.11211700504220128
         ],
         "c": [
          0.0982907531434249,
          0.11121310341707767,
          0.12803781103443512,
          0.1481642857859954,
          0.17301099594892522,
          0.1968506150811727,
          0.22089901700270648,
          0.23637060317870195,
          0.25009809445323866,
          0.2569490005690682,
          0.26168844328858143,
          0.266260083178817,
          0.27344872607890985,
          0.2800727055603288,
          0.2828997318066466
         ],
         "line": {
          "color": "grey",
          "width": 0.25
         },
         "marker": {
          "color": "silver",
          "line": {
           "color": "black",
           "width": 0
          },
          "opacity": 0.9,
          "size": 6
         },
         "mode": "lines+text",
         "name": "MEX",
         "showlegend": false,
         "subplot": "ternary",
         "text": [
          "",
          "",
          "",
          "",
          "",
          "",
          "",
          "",
          "",
          "",
          "",
          "",
          "",
          "",
          ""
         ],
         "textfont": {
          "color": "black",
          "size": 10.46556588674239
         },
         "type": "scatterternary"
        },
        {
         "a": [
          0.8940243526018019,
          0.8728001036355125,
          0.8416149879212947,
          0.8106594530693464,
          0.7822370818457781
         ],
         "b": [
          0.007684894254773182,
          0.015986792947410025,
          0.030347201044270168,
          0.04117626114465801,
          0.04475192220529674
         ],
         "c": [
          0.0982907531434249,
          0.11121310341707767,
          0.12803781103443512,
          0.1481642857859954,
          0.17301099594892522
         ],
         "line": {
          "color": "grey",
          "width": 0.25
         },
         "marker": {
          "color": "silver",
          "line": {
           "color": "black",
           "width": 0
          },
          "opacity": 0.9,
          "size": 6
         },
         "mode": "lines+text",
         "name": "MEX",
         "showlegend": false,
         "subplot": "ternary",
         "text": [
          "",
          "",
          "",
          "",
          "",
          "",
          "",
          "",
          "",
          "",
          "",
          "",
          "",
          "",
          ""
         ],
         "textfont": {
          "color": "black",
          "size": 10.46556588674239
         },
         "type": "scatterternary"
        },
        {
         "a": [
          0,
          0,
          0,
          0,
          0,
          0,
          0,
          0,
          0,
          0,
          0,
          0,
          0,
          0,
          0
         ],
         "b": [
          0,
          0,
          0,
          0,
          0,
          0,
          0,
          0,
          0,
          0,
          0,
          0,
          0,
          0,
          0
         ],
         "c": [
          0,
          0,
          0,
          0,
          0,
          0,
          0,
          0,
          0,
          0,
          0,
          0,
          0,
          0,
          0
         ],
         "line": {
          "color": "grey",
          "width": 0.25
         },
         "marker": {
          "color": "silver",
          "line": {
           "color": "black",
           "width": 0
          },
          "opacity": 0.9,
          "size": 6
         },
         "mode": "lines+text",
         "name": "FSM",
         "showlegend": false,
         "subplot": "ternary",
         "text": [
          "",
          "",
          "",
          "",
          "",
          "",
          "",
          "",
          "",
          "",
          "",
          "",
          "",
          "",
          ""
         ],
         "textfont": {
          "color": "black",
          "size": 2.14616661805037
         },
         "type": "scatterternary"
        },
        {
         "a": [
          0,
          0,
          0,
          0,
          0
         ],
         "b": [
          0,
          0,
          0,
          0,
          0
         ],
         "c": [
          0,
          0,
          0,
          0,
          0
         ],
         "line": {
          "color": "grey",
          "width": 0.25
         },
         "marker": {
          "color": "silver",
          "line": {
           "color": "black",
           "width": 0
          },
          "opacity": 0.9,
          "size": 6
         },
         "mode": "lines+text",
         "name": "FSM",
         "showlegend": false,
         "subplot": "ternary",
         "text": [
          "",
          "",
          "",
          "",
          "",
          "",
          "",
          "",
          "",
          "",
          "",
          "",
          "",
          "",
          ""
         ],
         "textfont": {
          "color": "black",
          "size": 2.14616661805037
         },
         "type": "scatterternary"
        },
        {
         "a": [
          0.4208155786577409,
          0.3639252032850864,
          0.34059127674758694,
          0.30734833345139345,
          0.2770064541561813,
          0.24383197801885617,
          0.2164354243817571,
          0.19438538091154567,
          0.17680175444102975,
          0.16578781736193973,
          0.15683873608106544,
          0.14984740032236976,
          0.14355825117917959,
          0.13718237748285067,
          0.13172977036543412
         ],
         "b": [
          0.5271555510268273,
          0.5851630200321084,
          0.6040135085972891,
          0.6338523332536138,
          0.6608451540862392,
          0.6940582131163093,
          0.7218130753677305,
          0.7467319851174561,
          0.7669784652118286,
          0.7807276174771783,
          0.7921203428504157,
          0.8014239180743111,
          0.8098560668453163,
          0.8181184033467803,
          0.8252102759250803
         ],
         "c": [
          0.052028870315432,
          0.05091177668280528,
          0.055395214655123926,
          0.05879933329499282,
          0.06214839175757951,
          0.06210980886483453,
          0.0617515002505125,
          0.058882633970998174,
          0.05621978034714183,
          0.05348456516088197,
          0.051040921068518805,
          0.04872868160331911,
          0.046585681975504105,
          0.044699219170369134,
          0.043059953709485586
         ],
         "line": {
          "color": "grey",
          "width": 0.25
         },
         "marker": {
          "color": "silver",
          "line": {
           "color": "black",
           "width": 0
          },
          "opacity": 0.9,
          "size": 6
         },
         "mode": "lines+text",
         "name": "MDA",
         "showlegend": false,
         "subplot": "ternary",
         "text": [
          "",
          "",
          "",
          "",
          "",
          "",
          "",
          "",
          "",
          "",
          "",
          "",
          "",
          "",
          ""
         ],
         "textfont": {
          "color": "black",
          "size": 3.1517992461487987
         },
         "type": "scatterternary"
        },
        {
         "a": [
          0.4208155786577409,
          0.3639252032850864,
          0.34059127674758694,
          0.30734833345139345,
          0.2770064541561813
         ],
         "b": [
          0.5271555510268273,
          0.5851630200321084,
          0.6040135085972891,
          0.6338523332536138,
          0.6608451540862392
         ],
         "c": [
          0.052028870315432,
          0.05091177668280528,
          0.055395214655123926,
          0.05879933329499282,
          0.06214839175757951
         ],
         "line": {
          "color": "grey",
          "width": 0.25
         },
         "marker": {
          "color": "silver",
          "line": {
           "color": "black",
           "width": 0
          },
          "opacity": 0.9,
          "size": 6
         },
         "mode": "lines+text",
         "name": "MDA",
         "showlegend": false,
         "subplot": "ternary",
         "text": [
          "",
          "",
          "",
          "",
          "",
          "",
          "",
          "",
          "",
          "",
          "",
          "",
          "",
          "",
          ""
         ],
         "textfont": {
          "color": "black",
          "size": 3.1517992461487987
         },
         "type": "scatterternary"
        },
        {
         "a": [
          0,
          0,
          0,
          0,
          0,
          0,
          0,
          0,
          0,
          0,
          0,
          0,
          0,
          0,
          0
         ],
         "b": [
          0,
          0,
          0,
          0,
          0,
          0,
          0,
          0,
          0,
          0,
          0,
          0,
          0,
          0,
          0
         ],
         "c": [
          0,
          0,
          0,
          0,
          0,
          0,
          0,
          0,
          0,
          0,
          0,
          0,
          0,
          0,
          0
         ],
         "line": {
          "color": "grey",
          "width": 0.25
         },
         "marker": {
          "color": "silver",
          "line": {
           "color": "black",
           "width": 0
          },
          "opacity": 0.9,
          "size": 6
         },
         "mode": "lines+text",
         "name": "MCO",
         "showlegend": false,
         "subplot": "ternary",
         "text": [
          "",
          "",
          "",
          "",
          "",
          "",
          "",
          "",
          "",
          "",
          "",
          "",
          "",
          "",
          ""
         ],
         "textfont": {
          "color": "black",
          "size": 2.3694187025678044
         },
         "type": "scatterternary"
        },
        {
         "a": [
          0,
          0,
          0,
          0,
          0
         ],
         "b": [
          0,
          0,
          0,
          0,
          0
         ],
         "c": [
          0,
          0,
          0,
          0,
          0
         ],
         "line": {
          "color": "grey",
          "width": 0.25
         },
         "marker": {
          "color": "silver",
          "line": {
           "color": "black",
           "width": 0
          },
          "opacity": 0.9,
          "size": 6
         },
         "mode": "lines+text",
         "name": "MCO",
         "showlegend": false,
         "subplot": "ternary",
         "text": [
          "",
          "",
          "",
          "",
          "",
          "",
          "",
          "",
          "",
          "",
          "",
          "",
          "",
          "",
          ""
         ],
         "textfont": {
          "color": "black",
          "size": 2.3694187025678044
         },
         "type": "scatterternary"
        },
        {
         "a": [
          0.7168453912381909,
          0.609777795873925,
          0.4836718029952892,
          0.36556567179578814,
          0.23821866404848363,
          0.15013218768806352,
          0.09090593319260709,
          0.06422116236415086,
          0.04794558709153905,
          0.03986428059639281,
          0.03588629232330362,
          0.03391181438218595,
          0.03334622686689199,
          0.03347232366486852,
          0.03416050395208814
         ],
         "b": [
          0.21003329227586165,
          0.3179934389207219,
          0.44581735102167075,
          0.5640765824647626,
          0.6996401481576933,
          0.7993296515088417,
          0.8712323306202308,
          0.9072577199629586,
          0.9310955589799992,
          0.9446467678235468,
          0.9521695092128414,
          0.9563077431711176,
          0.9584034637481422,
          0.9594330025277009,
          0.9595479733811509
         ],
         "c": [
          0.07312131648594737,
          0.07222876520535293,
          0.07051084598304004,
          0.07035774573944922,
          0.06214118779382316,
          0.050538160803094666,
          0.03786173618716214,
          0.02852111767289044,
          0.02095885392846191,
          0.015488951580060329,
          0.011944198463854899,
          0.0097804424466965,
          0.008250309384965984,
          0.007094673807430619,
          0.006291522666760939
         ],
         "line": {
          "color": "grey",
          "width": 0.25
         },
         "marker": {
          "color": "silver",
          "line": {
           "color": "black",
           "width": 0
          },
          "opacity": 0.9,
          "size": 6
         },
         "mode": "lines+text",
         "name": "MNG",
         "showlegend": false,
         "subplot": "ternary",
         "text": [
          "",
          "",
          "",
          "",
          "",
          "",
          "",
          "",
          "",
          "",
          "",
          "",
          "",
          "",
          ""
         ],
         "textfont": {
          "color": "black",
          "size": 3.1987061571709243
         },
         "type": "scatterternary"
        },
        {
         "a": [
          0.7168453912381909,
          0.609777795873925,
          0.4836718029952892,
          0.36556567179578814,
          0.23821866404848363
         ],
         "b": [
          0.21003329227586165,
          0.3179934389207219,
          0.44581735102167075,
          0.5640765824647626,
          0.6996401481576933
         ],
         "c": [
          0.07312131648594737,
          0.07222876520535293,
          0.07051084598304004,
          0.07035774573944922,
          0.06214118779382316
         ],
         "line": {
          "color": "grey",
          "width": 0.25
         },
         "marker": {
          "color": "silver",
          "line": {
           "color": "black",
           "width": 0
          },
          "opacity": 0.9,
          "size": 6
         },
         "mode": "lines+text",
         "name": "MNG",
         "showlegend": false,
         "subplot": "ternary",
         "text": [
          "",
          "",
          "",
          "",
          "",
          "",
          "",
          "",
          "",
          "",
          "",
          "",
          "",
          "",
          ""
         ],
         "textfont": {
          "color": "black",
          "size": 3.1987061571709243
         },
         "type": "scatterternary"
        },
        {
         "a": [
          0.6931672564989914,
          0.6347710686614042,
          0.6056878669130331,
          0.5835831578315174,
          0.5586568974857614,
          0.5276580014447484,
          0.4927193688857763,
          0.46332915455016266,
          0.43765569388557235,
          0.4203824712469779,
          0.40554544297877226,
          0.39364794852874113,
          0.3831477722553899,
          0.37300882487184406,
          0.3635527755829839
         ],
         "b": [
          0.22197229446514227,
          0.27646131234207755,
          0.2956634120640484,
          0.3045649951612992,
          0.3156470081659499,
          0.3371806177000613,
          0.36558548770567545,
          0.39471586014718074,
          0.42112336290109875,
          0.4414673635156499,
          0.45955130060870575,
          0.47499775292915825,
          0.48878704918705285,
          0.5014654557058553,
          0.5135783789910121
         ],
         "c": [
          0.08486044903586636,
          0.08876761899651812,
          0.09864872102291854,
          0.11185184700718344,
          0.12569609434828863,
          0.13516138085519033,
          0.14169514340854805,
          0.1419549853026566,
          0.14122094321332884,
          0.13815016523737222,
          0.1349032564125221,
          0.1313542985421006,
          0.1280651785575572,
          0.1255257194223006,
          0.12286884542600406
         ],
         "line": {
          "color": "grey",
          "width": 0.25
         },
         "marker": {
          "color": "silver",
          "line": {
           "color": "black",
           "width": 0
          },
          "opacity": 0.9,
          "size": 6
         },
         "mode": "lines+text",
         "name": "MNE",
         "showlegend": false,
         "subplot": "ternary",
         "text": [
          "",
          "",
          "",
          "",
          "",
          "",
          "",
          "",
          "",
          "",
          "",
          "",
          "",
          "",
          ""
         ],
         "textfont": {
          "color": "black",
          "size": 2.138260299613347
         },
         "type": "scatterternary"
        },
        {
         "a": [
          0.6931672564989914,
          0.6347710686614042,
          0.6056878669130331,
          0.5835831578315174,
          0.5586568974857614
         ],
         "b": [
          0.22197229446514227,
          0.27646131234207755,
          0.2956634120640484,
          0.3045649951612992,
          0.3156470081659499
         ],
         "c": [
          0.08486044903586636,
          0.08876761899651812,
          0.09864872102291854,
          0.11185184700718344,
          0.12569609434828863
         ],
         "line": {
          "color": "grey",
          "width": 0.25
         },
         "marker": {
          "color": "silver",
          "line": {
           "color": "black",
           "width": 0
          },
          "opacity": 0.9,
          "size": 6
         },
         "mode": "lines+text",
         "name": "MNE",
         "showlegend": false,
         "subplot": "ternary",
         "text": [
          "",
          "",
          "",
          "",
          "",
          "",
          "",
          "",
          "",
          "",
          "",
          "",
          "",
          "",
          ""
         ],
         "textfont": {
          "color": "black",
          "size": 2.138260299613347
         },
         "type": "scatterternary"
        },
        {
         "a": [
          0.6815084354738253,
          0.665325748136306,
          0.6157746743025647,
          0.5797361620791013,
          0.529457331668573,
          0.48475084204350105,
          0.4342323794110993,
          0.4031564339951832,
          0.37202079621208795,
          0.35293715946028315,
          0.337796890449179,
          0.3217427360602738,
          0.3061001788131762,
          0.29256458205534785,
          0.2809217771150156
         ],
         "b": [
          0.22363227626444893,
          0.23377384138142895,
          0.2747714077425383,
          0.29980769135399493,
          0.34672013529645307,
          0.38938737250546224,
          0.4404825336039876,
          0.4728109409225552,
          0.5072867804750909,
          0.5304508905349203,
          0.5500649903422795,
          0.57256026503773,
          0.5938892314822266,
          0.611929398915911,
          0.6279779320522663
         ],
         "c": [
          0.0948592882617256,
          0.10090041048226513,
          0.10945391795489712,
          0.12045614656690361,
          0.12382253303497402,
          0.12586178545103663,
          0.12528508698491314,
          0.1240326250822615,
          0.12069242331282123,
          0.11661195000479661,
          0.11213811920854166,
          0.1056969989019961,
          0.10001058970459707,
          0.09550601902874103,
          0.09110029083271794
         ],
         "line": {
          "color": "grey",
          "width": 0.25
         },
         "marker": {
          "color": "silver",
          "line": {
           "color": "black",
           "width": 0
          },
          "opacity": 0.9,
          "size": 6
         },
         "mode": "lines+text",
         "name": "MAR",
         "showlegend": false,
         "subplot": "ternary",
         "text": [
          "",
          "",
          "",
          "",
          "",
          "",
          "",
          "",
          "",
          "",
          "",
          "",
          "",
          "",
          ""
         ],
         "textfont": {
          "color": "black",
          "size": 6.772983051365272
         },
         "type": "scatterternary"
        },
        {
         "a": [
          0.6815084354738253,
          0.665325748136306,
          0.6157746743025647,
          0.5797361620791013,
          0.529457331668573
         ],
         "b": [
          0.22363227626444893,
          0.23377384138142895,
          0.2747714077425383,
          0.29980769135399493,
          0.34672013529645307
         ],
         "c": [
          0.0948592882617256,
          0.10090041048226513,
          0.10945391795489712,
          0.12045614656690361,
          0.12382253303497402
         ],
         "line": {
          "color": "grey",
          "width": 0.25
         },
         "marker": {
          "color": "silver",
          "line": {
           "color": "black",
           "width": 0
          },
          "opacity": 0.9,
          "size": 6
         },
         "mode": "lines+text",
         "name": "MAR",
         "showlegend": false,
         "subplot": "ternary",
         "text": [
          "",
          "",
          "",
          "",
          "",
          "",
          "",
          "",
          "",
          "",
          "",
          "",
          "",
          "",
          ""
         ],
         "textfont": {
          "color": "black",
          "size": 6.772983051365272
         },
         "type": "scatterternary"
        },
        {
         "a": [
          0.5897167093671298,
          0.5398335650404937,
          0.48949424981957096,
          0.4346517266012829,
          0.3822538367257695,
          0.34038492787473995,
          0.30503081976036184,
          0.2782829249067421,
          0.2552540379160837,
          0.24224894100963906,
          0.2278453533045486,
          0.22608320977432056,
          0.21964743841183929,
          0.20383268112539266,
          0.2055171531280212
         ],
         "b": [
          0.31402666952099045,
          0.3594078025623971,
          0.412722614448294,
          0.46733042844031714,
          0.5190983038842847,
          0.5618477088346491,
          0.5932741202507209,
          0.6102047266746865,
          0.6093570264717807,
          0.5846053485643445,
          0.5511866346421388,
          0.5179940091685589,
          0.4909867812384713,
          0.48324117312085524,
          0.46189942974626513
         ],
         "c": [
          0.09625662111187987,
          0.10075863239710932,
          0.09778313573213497,
          0.09801784495839991,
          0.09864785938994573,
          0.09776736329061109,
          0.10169505998891715,
          0.11151234841857138,
          0.13538893561213575,
          0.17314571042601623,
          0.22096801205331257,
          0.25592278105712063,
          0.2893657803496895,
          0.312926145753752,
          0.33258341712571354
         ],
         "line": {
          "color": "grey",
          "width": 0.25
         },
         "marker": {
          "color": "silver",
          "line": {
           "color": "black",
           "width": 0
          },
          "opacity": 0.9,
          "size": 6
         },
         "mode": "lines+text",
         "name": "MOZ",
         "showlegend": false,
         "subplot": "ternary",
         "text": [
          "",
          "",
          "",
          "",
          "",
          "",
          "",
          "",
          "",
          "",
          "",
          "",
          "",
          "",
          ""
         ],
         "textfont": {
          "color": "black",
          "size": 6.389009958822078
         },
         "type": "scatterternary"
        },
        {
         "a": [
          0.5897167093671298,
          0.5398335650404937,
          0.48949424981957096,
          0.4346517266012829,
          0.3822538367257695
         ],
         "b": [
          0.31402666952099045,
          0.3594078025623971,
          0.412722614448294,
          0.46733042844031714,
          0.5190983038842847
         ],
         "c": [
          0.09625662111187987,
          0.10075863239710932,
          0.09778313573213497,
          0.09801784495839991,
          0.09864785938994573
         ],
         "line": {
          "color": "grey",
          "width": 0.25
         },
         "marker": {
          "color": "silver",
          "line": {
           "color": "black",
           "width": 0
          },
          "opacity": 0.9,
          "size": 6
         },
         "mode": "lines+text",
         "name": "MOZ",
         "showlegend": false,
         "subplot": "ternary",
         "text": [
          "",
          "",
          "",
          "",
          "",
          "",
          "",
          "",
          "",
          "",
          "",
          "",
          "",
          "",
          ""
         ],
         "textfont": {
          "color": "black",
          "size": 6.389009958822078
         },
         "type": "scatterternary"
        },
        {
         "a": [
          0.7794189181484321,
          0.7037503629251946,
          0.6314216728853104,
          0.5756162149466535,
          0.5267847803062133,
          0.4960268476741829,
          0.46831983481803463,
          0.44818564634022234,
          0.43274596784383007,
          0.4348365920621876,
          0.4365563757594579,
          0.43975024059532547,
          0.44167001638366,
          0.43843074030216245,
          0.4340330182237714
         ],
         "b": [
          0.1311603614242408,
          0.20379413646621786,
          0.27058562025083766,
          0.316418007981694,
          0.349733002923282,
          0.3636788217482479,
          0.37030289330469346,
          0.3713378699879836,
          0.3665904089101528,
          0.3481754741386761,
          0.3318571333625188,
          0.3189020417417094,
          0.3085850160377782,
          0.3037437997513195,
          0.2999541349734179
         ],
         "c": [
          0.08942072042732685,
          0.0924555006085876,
          0.09799270686385204,
          0.10796577707165252,
          0.12348221677050458,
          0.14029433057756918,
          0.16137727187727194,
          0.18047648367179403,
          0.20066362324601694,
          0.2169879337991361,
          0.2315864908780232,
          0.2413477176629653,
          0.24974496757856168,
          0.25782545994651807,
          0.2660128468028108
         ],
         "line": {
          "color": "grey",
          "width": 0.25
         },
         "marker": {
          "color": "silver",
          "line": {
           "color": "black",
           "width": 0
          },
          "opacity": 0.9,
          "size": 6
         },
         "mode": "lines+text",
         "name": "MMR",
         "showlegend": false,
         "subplot": "ternary",
         "text": [
          "",
          "",
          "",
          "",
          "",
          "",
          "",
          "",
          "",
          "",
          "",
          "",
          "",
          "",
          ""
         ],
         "textfont": {
          "color": "black",
          "size": 7.714168393468986
         },
         "type": "scatterternary"
        },
        {
         "a": [
          0.7794189181484321,
          0.7037503629251946,
          0.6314216728853104,
          0.5756162149466535,
          0.5267847803062133
         ],
         "b": [
          0.1311603614242408,
          0.20379413646621786,
          0.27058562025083766,
          0.316418007981694,
          0.349733002923282
         ],
         "c": [
          0.08942072042732685,
          0.0924555006085876,
          0.09799270686385204,
          0.10796577707165252,
          0.12348221677050458
         ],
         "line": {
          "color": "grey",
          "width": 0.25
         },
         "marker": {
          "color": "silver",
          "line": {
           "color": "black",
           "width": 0
          },
          "opacity": 0.9,
          "size": 6
         },
         "mode": "lines+text",
         "name": "MMR",
         "showlegend": false,
         "subplot": "ternary",
         "text": [
          "",
          "",
          "",
          "",
          "",
          "",
          "",
          "",
          "",
          "",
          "",
          "",
          "",
          "",
          ""
         ],
         "textfont": {
          "color": "black",
          "size": 7.714168393468986
         },
         "type": "scatterternary"
        },
        {
         "a": [
          0.7492867821348861,
          0.6376916534354797,
          0.5424858191096655,
          0.48414356359808486,
          0.451020498047479,
          0.43732229058344396,
          0.4504338923125945,
          0.47198297202899975,
          0.49925456490995707,
          0.5340815613750853,
          0.5607204564334238,
          0.5693760859511527,
          0.5613551438001643,
          0.5471087117190223,
          0.5408157936936095
         ],
         "b": [
          0.16804328196266435,
          0.2806370650667578,
          0.3735563772209196,
          0.4226099212454746,
          0.44254648788871426,
          0.4394524905024777,
          0.40153487372524066,
          0.36179804519166975,
          0.3128370803193299,
          0.26471946617845066,
          0.23178168650107017,
          0.22368834614714728,
          0.23257906026887948,
          0.24416524856282182,
          0.24512169414228394
         ],
         "c": [
          0.08266993590244945,
          0.08167128149776258,
          0.08395780366941488,
          0.09324651515644058,
          0.10643301406380676,
          0.12322521891407844,
          0.14803123396216472,
          0.16621898277933042,
          0.18790835477071294,
          0.20119897244646384,
          0.20749785706550591,
          0.20693556790169992,
          0.20606579593095628,
          0.20872603971815584,
          0.2140625121641064
         ],
         "line": {
          "color": "grey",
          "width": 0.25
         },
         "marker": {
          "color": "silver",
          "line": {
           "color": "black",
           "width": 0
          },
          "opacity": 0.9,
          "size": 6
         },
         "mode": "lines+text",
         "name": "NAM",
         "showlegend": false,
         "subplot": "ternary",
         "text": [
          "",
          "",
          "",
          "",
          "",
          "",
          "",
          "",
          "",
          "",
          "",
          "",
          "",
          "",
          ""
         ],
         "textfont": {
          "color": "black",
          "size": 2.9652119986605396
         },
         "type": "scatterternary"
        },
        {
         "a": [
          0.7492867821348861,
          0.6376916534354797,
          0.5424858191096655,
          0.48414356359808486,
          0.451020498047479
         ],
         "b": [
          0.16804328196266435,
          0.2806370650667578,
          0.3735563772209196,
          0.4226099212454746,
          0.44254648788871426
         ],
         "c": [
          0.08266993590244945,
          0.08167128149776258,
          0.08395780366941488,
          0.09324651515644058,
          0.10643301406380676
         ],
         "line": {
          "color": "grey",
          "width": 0.25
         },
         "marker": {
          "color": "silver",
          "line": {
           "color": "black",
           "width": 0
          },
          "opacity": 0.9,
          "size": 6
         },
         "mode": "lines+text",
         "name": "NAM",
         "showlegend": false,
         "subplot": "ternary",
         "text": [
          "",
          "",
          "",
          "",
          "",
          "",
          "",
          "",
          "",
          "",
          "",
          "",
          "",
          "",
          ""
         ],
         "textfont": {
          "color": "black",
          "size": 2.9652119986605396
         },
         "type": "scatterternary"
        },
        {
         "a": [
          0,
          0,
          0,
          0,
          0,
          0,
          0,
          0,
          0,
          0,
          0,
          0,
          0,
          0,
          0
         ],
         "b": [
          0,
          0,
          0,
          0,
          0,
          0,
          0,
          0,
          0,
          0,
          0,
          0,
          0,
          0,
          0
         ],
         "c": [
          0,
          0,
          0,
          0,
          0,
          0,
          0,
          0,
          0,
          0,
          0,
          0,
          0,
          0,
          0
         ],
         "line": {
          "color": "grey",
          "width": 0.25
         },
         "marker": {
          "color": "silver",
          "line": {
           "color": "black",
           "width": 0
          },
          "opacity": 0.9,
          "size": 6
         },
         "mode": "lines+text",
         "name": "NRU",
         "showlegend": false,
         "subplot": "ternary",
         "text": [
          "",
          "",
          "",
          "",
          "",
          "",
          "",
          "",
          "",
          "",
          "",
          "",
          "",
          "",
          ""
         ],
         "textfont": {
          "color": "black",
          "size": 2.3694187025678044
         },
         "type": "scatterternary"
        },
        {
         "a": [
          0,
          0,
          0,
          0,
          0
         ],
         "b": [
          0,
          0,
          0,
          0,
          0
         ],
         "c": [
          0,
          0,
          0,
          0,
          0
         ],
         "line": {
          "color": "grey",
          "width": 0.25
         },
         "marker": {
          "color": "silver",
          "line": {
           "color": "black",
           "width": 0
          },
          "opacity": 0.9,
          "size": 6
         },
         "mode": "lines+text",
         "name": "NRU",
         "showlegend": false,
         "subplot": "ternary",
         "text": [
          "",
          "",
          "",
          "",
          "",
          "",
          "",
          "",
          "",
          "",
          "",
          "",
          "",
          "",
          ""
         ],
         "textfont": {
          "color": "black",
          "size": 2.3694187025678044
         },
         "type": "scatterternary"
        },
        {
         "a": [
          0.7332047222384901,
          0.7012750676275685,
          0.6542832110718881,
          0.6093310686176948,
          0.5458403837164337,
          0.4864662703143564,
          0.4357795909938333,
          0.3974358617757434,
          0.3656886870445122,
          0.3461876161888128,
          0.3311631933663014,
          0.3216015083101186,
          0.3126815508447136,
          0.3033844125136443,
          0.2936043834658007
         ],
         "b": [
          0.16597109584187178,
          0.19163654333698793,
          0.23169003739779756,
          0.2649184202248666,
          0.3179184985183311,
          0.3656334334803856,
          0.4113609282156224,
          0.4474532366419366,
          0.4788977650741013,
          0.49810887134114556,
          0.5124427194709068,
          0.5276290517724471,
          0.5465967143688862,
          0.5634892038981437,
          0.5801393842176114
         ],
         "c": [
          0.10082418191963827,
          0.10708838903544343,
          0.11402675153031444,
          0.12575051115743857,
          0.1362411177652353,
          0.14790029620525819,
          0.15285948079054423,
          0.15511090158231988,
          0.15541354788138656,
          0.15570351247004155,
          0.15639408716279182,
          0.15076943991743436,
          0.14072173478640004,
          0.1331263835882121,
          0.12625623231658809
         ],
         "line": {
          "color": "grey",
          "width": 0.25
         },
         "marker": {
          "color": "silver",
          "line": {
           "color": "black",
           "width": 0
          },
          "opacity": 0.9,
          "size": 6
         },
         "mode": "lines+text",
         "name": "NPL",
         "showlegend": false,
         "subplot": "ternary",
         "text": [
          "",
          "",
          "",
          "",
          "",
          "",
          "",
          "",
          "",
          "",
          "",
          "",
          "",
          "",
          ""
         ],
         "textfont": {
          "color": "black",
          "size": 6.2661205856073146
         },
         "type": "scatterternary"
        },
        {
         "a": [
          0.7332047222384901,
          0.7012750676275685,
          0.6542832110718881,
          0.6093310686176948,
          0.5458403837164337
         ],
         "b": [
          0.16597109584187178,
          0.19163654333698793,
          0.23169003739779756,
          0.2649184202248666,
          0.3179184985183311
         ],
         "c": [
          0.10082418191963827,
          0.10708838903544343,
          0.11402675153031444,
          0.12575051115743857,
          0.1362411177652353
         ],
         "line": {
          "color": "grey",
          "width": 0.25
         },
         "marker": {
          "color": "silver",
          "line": {
           "color": "black",
           "width": 0
          },
          "opacity": 0.9,
          "size": 6
         },
         "mode": "lines+text",
         "name": "NPL",
         "showlegend": false,
         "subplot": "ternary",
         "text": [
          "",
          "",
          "",
          "",
          "",
          "",
          "",
          "",
          "",
          "",
          "",
          "",
          "",
          "",
          ""
         ],
         "textfont": {
          "color": "black",
          "size": 6.2661205856073146
         },
         "type": "scatterternary"
        },
        {
         "a": [
          0.776948367664251,
          0.6938565702199766,
          0.5940799122028775,
          0.4879761997226495,
          0.37840882936438835,
          0.2890336847948993,
          0.21444632097589802,
          0.1692806156435959,
          0.1396351528170508,
          0.12092215365841827,
          0.10668821192251922,
          0.09335972969433122,
          0.08518376161641301,
          0.07490630785180542,
          0.06769163778488983
         ],
         "b": [
          0.1408618666548601,
          0.22288223983576688,
          0.31972745411862064,
          0.42278566084263697,
          0.5319760394111579,
          0.6257322057293162,
          0.7109340288736853,
          0.7651654087460225,
          0.8003444731218766,
          0.8250323705716006,
          0.8450779749445276,
          0.8637571162830341,
          0.8771325491434221,
          0.8922126854415794,
          0.9037664065271733
         ],
         "c": [
          0.08218976568088915,
          0.08326118994425677,
          0.08619263367850176,
          0.08923813943471358,
          0.08961513122445361,
          0.08523410947578434,
          0.07461965015041686,
          0.06555397561038159,
          0.06002037406107262,
          0.05404547576998099,
          0.04823381313295324,
          0.04288315402263476,
          0.03768368924016485,
          0.03288100670661515,
          0.02854195568793661
         ],
         "line": {
          "color": "grey",
          "width": 0.25
         },
         "marker": {
          "color": "silver",
          "line": {
           "color": "black",
           "width": 0
          },
          "opacity": 0.9,
          "size": 6
         },
         "mode": "lines+text",
         "name": "NLD",
         "showlegend": false,
         "subplot": "ternary",
         "text": [
          "",
          "",
          "",
          "",
          "",
          "",
          "",
          "",
          "",
          "",
          "",
          "",
          "",
          "",
          ""
         ],
         "textfont": {
          "color": "black",
          "size": 5.293176127037234
         },
         "type": "scatterternary"
        },
        {
         "a": [
          0.776948367664251,
          0.6938565702199766,
          0.5940799122028775,
          0.4879761997226495,
          0.37840882936438835
         ],
         "b": [
          0.1408618666548601,
          0.22288223983576688,
          0.31972745411862064,
          0.42278566084263697,
          0.5319760394111579
         ],
         "c": [
          0.08218976568088915,
          0.08326118994425677,
          0.08619263367850176,
          0.08923813943471358,
          0.08961513122445361
         ],
         "line": {
          "color": "grey",
          "width": 0.25
         },
         "marker": {
          "color": "silver",
          "line": {
           "color": "black",
           "width": 0
          },
          "opacity": 0.9,
          "size": 6
         },
         "mode": "lines+text",
         "name": "NLD",
         "showlegend": false,
         "subplot": "ternary",
         "text": [
          "",
          "",
          "",
          "",
          "",
          "",
          "",
          "",
          "",
          "",
          "",
          "",
          "",
          "",
          ""
         ],
         "textfont": {
          "color": "black",
          "size": 5.293176127037234
         },
         "type": "scatterternary"
        },
        {
         "a": [
          0.670106862371863,
          0.5071921987247425,
          0.341862565772177,
          0.21566390204128366,
          0.13296264815192751,
          0.08826427514176002,
          0.058697517060036876,
          0.04341383875944088,
          0.03457936982522983,
          0.030027023149979,
          0.02690067769428698,
          0.024999322178922194,
          0.023554859396584558,
          0.02105775940885081,
          0.01862521682154456
         ],
         "b": [
          0.25980502315431486,
          0.432849698689004,
          0.609943802267392,
          0.7467603060566058,
          0.837757888311868,
          0.8872454600646846,
          0.9212431100884297,
          0.9396946536300795,
          0.9506238277675996,
          0.9566305232337673,
          0.9610074777774247,
          0.9639669306717223,
          0.9662077924710399,
          0.9697116588899535,
          0.9733053888837009
         ],
         "c": [
          0.07008811447382217,
          0.05995810258625338,
          0.04819363196043103,
          0.03757579190211053,
          0.029279463536204413,
          0.024490264793555216,
          0.020059372851533426,
          0.01689150761047977,
          0.014796802407170568,
          0.01334245361625382,
          0.012091844528288436,
          0.011033747149355502,
          0.010237348132375486,
          0.00923058170119556,
          0.008069394294754478
         ],
         "line": {
          "color": "grey",
          "width": 0.25
         },
         "marker": {
          "color": "silver",
          "line": {
           "color": "black",
           "width": 0
          },
          "opacity": 0.9,
          "size": 6
         },
         "mode": "lines+text",
         "name": "NZL",
         "showlegend": false,
         "subplot": "ternary",
         "text": [
          "",
          "",
          "",
          "",
          "",
          "",
          "",
          "",
          "",
          "",
          "",
          "",
          "",
          "",
          ""
         ],
         "textfont": {
          "color": "black",
          "size": 3.6124140524664283
         },
         "type": "scatterternary"
        },
        {
         "a": [
          0.670106862371863,
          0.5071921987247425,
          0.341862565772177,
          0.21566390204128366,
          0.13296264815192751
         ],
         "b": [
          0.25980502315431486,
          0.432849698689004,
          0.609943802267392,
          0.7467603060566058,
          0.837757888311868
         ],
         "c": [
          0.07008811447382217,
          0.05995810258625338,
          0.04819363196043103,
          0.03757579190211053,
          0.029279463536204413
         ],
         "line": {
          "color": "grey",
          "width": 0.25
         },
         "marker": {
          "color": "silver",
          "line": {
           "color": "black",
           "width": 0
          },
          "opacity": 0.9,
          "size": 6
         },
         "mode": "lines+text",
         "name": "NZL",
         "showlegend": false,
         "subplot": "ternary",
         "text": [
          "",
          "",
          "",
          "",
          "",
          "",
          "",
          "",
          "",
          "",
          "",
          "",
          "",
          "",
          ""
         ],
         "textfont": {
          "color": "black",
          "size": 3.6124140524664283
         },
         "type": "scatterternary"
        },
        {
         "a": [
          0.6512316281927024,
          0.5734518709717681,
          0.5097570095652286,
          0.4687936881849667,
          0.4160416329568257,
          0.3910536346639693,
          0.37034610670249224,
          0.35688456412393577,
          0.3653202853314035,
          0.3861073449762216,
          0.4095129096345097,
          0.43584386824778265,
          0.4647263829351187,
          0.48112056231800404,
          0.49312133640950717
         ],
         "b": [
          0.2735975426511749,
          0.35044594443750526,
          0.40287503144884285,
          0.40757044950994936,
          0.41478381772424255,
          0.40540815562153903,
          0.39503175865947887,
          0.3815001461278552,
          0.3661751369847384,
          0.3387761762985865,
          0.30922932708225626,
          0.2840606930695349,
          0.25032975680335834,
          0.24124250920147305,
          0.23713830043628437
         ],
         "c": [
          0.07517082915612246,
          0.07610218459072654,
          0.0873679589859286,
          0.12363586230508392,
          0.16917454931893172,
          0.20353820971449185,
          0.23462213463802897,
          0.26161528974820897,
          0.2685045776838582,
          0.2751164787251918,
          0.28125776328323393,
          0.2800954386826825,
          0.28494386026152296,
          0.277636928480523,
          0.2697403631542085
         ],
         "line": {
          "color": "grey",
          "width": 0.25
         },
         "marker": {
          "color": "silver",
          "line": {
           "color": "black",
           "width": 0
          },
          "opacity": 0.9,
          "size": 6
         },
         "mode": "lines+text",
         "name": "NIC",
         "showlegend": false,
         "subplot": "ternary",
         "text": [
          "",
          "",
          "",
          "",
          "",
          "",
          "",
          "",
          "",
          "",
          "",
          "",
          "",
          "",
          ""
         ],
         "textfont": {
          "color": "black",
          "size": 3.9323621119761847
         },
         "type": "scatterternary"
        },
        {
         "a": [
          0.6512316281927024,
          0.5734518709717681,
          0.5097570095652286,
          0.4687936881849667,
          0.4160416329568257
         ],
         "b": [
          0.2735975426511749,
          0.35044594443750526,
          0.40287503144884285,
          0.40757044950994936,
          0.41478381772424255
         ],
         "c": [
          0.07517082915612246,
          0.07610218459072654,
          0.0873679589859286,
          0.12363586230508392,
          0.16917454931893172
         ],
         "line": {
          "color": "grey",
          "width": 0.25
         },
         "marker": {
          "color": "silver",
          "line": {
           "color": "black",
           "width": 0
          },
          "opacity": 0.9,
          "size": 6
         },
         "mode": "lines+text",
         "name": "NIC",
         "showlegend": false,
         "subplot": "ternary",
         "text": [
          "",
          "",
          "",
          "",
          "",
          "",
          "",
          "",
          "",
          "",
          "",
          "",
          "",
          "",
          ""
         ],
         "textfont": {
          "color": "black",
          "size": 3.9323621119761847
         },
         "type": "scatterternary"
        },
        {
         "a": [
          0.335786787449224,
          0.306791555379552,
          0.28330105619420587,
          0.26146211008078746,
          0.2423578487003641,
          0.22765124302896453,
          0.21517283282547703,
          0.20584978761196643,
          0.1978908578284237,
          0.19270453359352416,
          0.18737600764708912,
          0.18311606232373556,
          0.17994051844690845,
          0.1768978445347065,
          0.17384327921905116
         ],
         "b": [
          0.5666864408330448,
          0.5944573983948236,
          0.6177021229663577,
          0.639142911710899,
          0.6584926489059097,
          0.671822712337794,
          0.6814896461197316,
          0.6855422004541221,
          0.6864559674194995,
          0.6835722185360477,
          0.6787736238531132,
          0.6755073833716744,
          0.6727382403182958,
          0.6724293285608902,
          0.6762798892689467
         ],
         "c": [
          0.09752677171773123,
          0.09875104622562453,
          0.09899682083943634,
          0.09939497820831353,
          0.09914950239372611,
          0.10052604463324116,
          0.10333752105479127,
          0.10860801193391147,
          0.11565317475207675,
          0.12372324787042838,
          0.13385036849979765,
          0.14137655430459006,
          0.14732124123479606,
          0.1506728269044033,
          0.14987683151200198
         ],
         "line": {
          "color": "grey",
          "width": 0.25
         },
         "marker": {
          "color": "silver",
          "line": {
           "color": "black",
           "width": 0
          },
          "opacity": 0.9,
          "size": 6
         },
         "mode": "lines+text",
         "name": "NER",
         "showlegend": false,
         "subplot": "ternary",
         "text": [
          "",
          "",
          "",
          "",
          "",
          "",
          "",
          "",
          "",
          "",
          "",
          "",
          "",
          "",
          ""
         ],
         "textfont": {
          "color": "black",
          "size": 5.872617016044634
         },
         "type": "scatterternary"
        },
        {
         "a": [
          0.335786787449224,
          0.306791555379552,
          0.28330105619420587,
          0.26146211008078746,
          0.2423578487003641
         ],
         "b": [
          0.5666864408330448,
          0.5944573983948236,
          0.6177021229663577,
          0.639142911710899,
          0.6584926489059097
         ],
         "c": [
          0.09752677171773123,
          0.09875104622562453,
          0.09899682083943634,
          0.09939497820831353,
          0.09914950239372611
         ],
         "line": {
          "color": "grey",
          "width": 0.25
         },
         "marker": {
          "color": "silver",
          "line": {
           "color": "black",
           "width": 0
          },
          "opacity": 0.9,
          "size": 6
         },
         "mode": "lines+text",
         "name": "NER",
         "showlegend": false,
         "subplot": "ternary",
         "text": [
          "",
          "",
          "",
          "",
          "",
          "",
          "",
          "",
          "",
          "",
          "",
          "",
          "",
          "",
          ""
         ],
         "textfont": {
          "color": "black",
          "size": 5.872617016044634
         },
         "type": "scatterternary"
        },
        {
         "a": [
          0.4990217915179863,
          0.4629640898901262,
          0.4249466977083437,
          0.38624988299067325,
          0.34919267631616435,
          0.32129689864913485,
          0.2995838170819203,
          0.28655779993576647,
          0.27678062153662686,
          0.2724539506498829,
          0.2667936404030478,
          0.2621300867997842,
          0.2578606221687143,
          0.25328312462605834,
          0.24936598940792626
         ],
         "b": [
          0.4046225584132198,
          0.43570586345817275,
          0.47432921391070526,
          0.517554952789623,
          0.5553121831435978,
          0.582874613413642,
          0.603864130403974,
          0.616550543721682,
          0.6242201806051294,
          0.622355801929544,
          0.6183774847308201,
          0.6157143076522404,
          0.6122277317062705,
          0.6120650235723019,
          0.6112362816308999
         ],
         "c": [
          0.09635565006879394,
          0.1013300466517008,
          0.10072408838095087,
          0.09619516421970381,
          0.09549514054023793,
          0.0958284879372231,
          0.09655205251410577,
          0.0968916563425515,
          0.09899919785824378,
          0.10519024742057308,
          0.11482887486613202,
          0.12215560554797528,
          0.1299116461250151,
          0.13465185180163955,
          0.13939772896117375
         ],
         "line": {
          "color": "grey",
          "width": 0.25
         },
         "marker": {
          "color": "silver",
          "line": {
           "color": "black",
           "width": 0
          },
          "opacity": 0.9,
          "size": 6
         },
         "mode": "lines+text",
         "name": "NGA",
         "showlegend": false,
         "subplot": "ternary",
         "text": [
          "",
          "",
          "",
          "",
          "",
          "",
          "",
          "",
          "",
          "",
          "",
          "",
          "",
          "",
          ""
         ],
         "textfont": {
          "color": "black",
          "size": 12.531824558071703
         },
         "type": "scatterternary"
        },
        {
         "a": [
          0.4990217915179863,
          0.4629640898901262,
          0.4249466977083437,
          0.38624988299067325,
          0.34919267631616435
         ],
         "b": [
          0.4046225584132198,
          0.43570586345817275,
          0.47432921391070526,
          0.517554952789623,
          0.5553121831435978
         ],
         "c": [
          0.09635565006879394,
          0.1013300466517008,
          0.10072408838095087,
          0.09619516421970381,
          0.09549514054023793
         ],
         "line": {
          "color": "grey",
          "width": 0.25
         },
         "marker": {
          "color": "silver",
          "line": {
           "color": "black",
           "width": 0
          },
          "opacity": 0.9,
          "size": 6
         },
         "mode": "lines+text",
         "name": "NGA",
         "showlegend": false,
         "subplot": "ternary",
         "text": [
          "",
          "",
          "",
          "",
          "",
          "",
          "",
          "",
          "",
          "",
          "",
          "",
          "",
          "",
          ""
         ],
         "textfont": {
          "color": "black",
          "size": 12.531824558071703
         },
         "type": "scatterternary"
        },
        {
         "a": [
          0,
          0,
          0,
          0,
          0,
          0,
          0,
          0,
          0,
          0,
          0,
          0,
          0,
          0,
          0
         ],
         "b": [
          0,
          0,
          0,
          0,
          0,
          0,
          0,
          0,
          0,
          0,
          0,
          0,
          0,
          0,
          0
         ],
         "c": [
          0,
          0,
          0,
          0,
          0,
          0,
          0,
          0,
          0,
          0,
          0,
          0,
          0,
          0,
          0
         ],
         "line": {
          "color": "grey",
          "width": 0.25
         },
         "marker": {
          "color": "silver",
          "line": {
           "color": "black",
           "width": 0
          },
          "opacity": 0.9,
          "size": 6
         },
         "mode": "lines+text",
         "name": "NIU",
         "showlegend": false,
         "subplot": "ternary",
         "text": [
          "",
          "",
          "",
          "",
          "",
          "",
          "",
          "",
          "",
          "",
          "",
          "",
          "",
          "",
          ""
         ],
         "textfont": {
          "color": "black",
          "size": 2.3694187025678044
         },
         "type": "scatterternary"
        },
        {
         "a": [
          0,
          0,
          0,
          0,
          0
         ],
         "b": [
          0,
          0,
          0,
          0,
          0
         ],
         "c": [
          0,
          0,
          0,
          0,
          0
         ],
         "line": {
          "color": "grey",
          "width": 0.25
         },
         "marker": {
          "color": "silver",
          "line": {
           "color": "black",
           "width": 0
          },
          "opacity": 0.9,
          "size": 6
         },
         "mode": "lines+text",
         "name": "NIU",
         "showlegend": false,
         "subplot": "ternary",
         "text": [
          "",
          "",
          "",
          "",
          "",
          "",
          "",
          "",
          "",
          "",
          "",
          "",
          "",
          "",
          ""
         ],
         "textfont": {
          "color": "black",
          "size": 2.3694187025678044
         },
         "type": "scatterternary"
        },
        {
         "a": [
          0.7195079139220524,
          0.6787472327824635,
          0.645653821021225,
          0.6294913384755183,
          0.6079293620622002,
          0.60074273510095,
          0.5888811454768157,
          0.5826369572244202,
          0.5738825739808355,
          0.5701487879970675,
          0.5660155112580292,
          0.5640697076198649,
          0.5603279980641684,
          0.5559147057685845,
          0.5506459947913543
         ],
         "b": [
          0.19207591183518702,
          0.22494463444027207,
          0.24386428056458384,
          0.23830538852246677,
          0.23633289122823606,
          0.2263955171782554,
          0.2240694683318673,
          0.22204760636667897,
          0.22472400194774128,
          0.2270852688274463,
          0.23159474407796402,
          0.2358869869517335,
          0.24240028215816156,
          0.24826758096267135,
          0.2552901738530308
         ],
         "c": [
          0.08841617424276081,
          0.09630813277726426,
          0.11048189841419123,
          0.13220327300201504,
          0.15573774670956383,
          0.17286174772079466,
          0.18704938619131706,
          0.19531543640890092,
          0.20139342407142322,
          0.20276594317548624,
          0.20238974466400672,
          0.2000433054284017,
          0.19727171977766994,
          0.19581771326874425,
          0.19406383135561495
         ],
         "line": {
          "color": "grey",
          "width": 0.25
         },
         "marker": {
          "color": "silver",
          "line": {
           "color": "black",
           "width": 0
          },
          "opacity": 0.9,
          "size": 6
         },
         "mode": "lines+text",
         "name": "PRK",
         "showlegend": false,
         "subplot": "ternary",
         "text": [
          "",
          "",
          "",
          "",
          "",
          "",
          "",
          "",
          "",
          "",
          "",
          "",
          "",
          "",
          ""
         ],
         "textfont": {
          "color": "black",
          "size": 6.026587525616059
         },
         "type": "scatterternary"
        },
        {
         "a": [
          0.7195079139220524,
          0.6787472327824635,
          0.645653821021225,
          0.6294913384755183,
          0.6079293620622002
         ],
         "b": [
          0.19207591183518702,
          0.22494463444027207,
          0.24386428056458384,
          0.23830538852246677,
          0.23633289122823606
         ],
         "c": [
          0.08841617424276081,
          0.09630813277726426,
          0.11048189841419123,
          0.13220327300201504,
          0.15573774670956383
         ],
         "line": {
          "color": "grey",
          "width": 0.25
         },
         "marker": {
          "color": "silver",
          "line": {
           "color": "black",
           "width": 0
          },
          "opacity": 0.9,
          "size": 6
         },
         "mode": "lines+text",
         "name": "PRK",
         "showlegend": false,
         "subplot": "ternary",
         "text": [
          "",
          "",
          "",
          "",
          "",
          "",
          "",
          "",
          "",
          "",
          "",
          "",
          "",
          "",
          ""
         ],
         "textfont": {
          "color": "black",
          "size": 6.026587525616059
         },
         "type": "scatterternary"
        },
        {
         "a": [
          0.7888393699875731,
          0.7171043465989759,
          0.6340999921351737,
          0.5414893042112399,
          0.4303992027772802,
          0.3333716520324151,
          0.2468167454662359,
          0.1951259588134195,
          0.15921771994067038,
          0.13789726793272777,
          0.12269684942730462,
          0.10893447734859743,
          0.10112969892813065,
          0.0907344236804859,
          0.0838114703070009
         ],
         "b": [
          0.1280384438159279,
          0.19747753914946226,
          0.2740047379018108,
          0.3584135016502982,
          0.4648832915042723,
          0.5634774206614994,
          0.660967735996961,
          0.724005992338277,
          0.7676583538509809,
          0.7964057657895511,
          0.8190279572835402,
          0.8391276760017895,
          0.8535393857128413,
          0.8692569059997421,
          0.8812669377224259
         ],
         "c": [
          0.08312218619649896,
          0.08541811425156179,
          0.09189526996301528,
          0.1000971941384619,
          0.10471750571844754,
          0.10315092730608562,
          0.09221551853680307,
          0.08086804884830345,
          0.07312392620834861,
          0.06569696627772104,
          0.0582751932891552,
          0.05193784664961307,
          0.04533091535902826,
          0.040008670319771795,
          0.034921591970573165
         ],
         "line": {
          "color": "grey",
          "width": 0.25
         },
         "marker": {
          "color": "silver",
          "line": {
           "color": "black",
           "width": 0
          },
          "opacity": 0.9,
          "size": 6
         },
         "mode": "lines+text",
         "name": "NOR",
         "showlegend": false,
         "subplot": "ternary",
         "text": [
          "",
          "",
          "",
          "",
          "",
          "",
          "",
          "",
          "",
          "",
          "",
          "",
          "",
          "",
          ""
         ],
         "textfont": {
          "color": "black",
          "size": 3.6820049490403735
         },
         "type": "scatterternary"
        },
        {
         "a": [
          0.7888393699875731,
          0.7171043465989759,
          0.6340999921351737,
          0.5414893042112399,
          0.4303992027772802
         ],
         "b": [
          0.1280384438159279,
          0.19747753914946226,
          0.2740047379018108,
          0.3584135016502982,
          0.4648832915042723
         ],
         "c": [
          0.08312218619649896,
          0.08541811425156179,
          0.09189526996301528,
          0.1000971941384619,
          0.10471750571844754
         ],
         "line": {
          "color": "grey",
          "width": 0.25
         },
         "marker": {
          "color": "silver",
          "line": {
           "color": "black",
           "width": 0
          },
          "opacity": 0.9,
          "size": 6
         },
         "mode": "lines+text",
         "name": "NOR",
         "showlegend": false,
         "subplot": "ternary",
         "text": [
          "",
          "",
          "",
          "",
          "",
          "",
          "",
          "",
          "",
          "",
          "",
          "",
          "",
          "",
          ""
         ],
         "textfont": {
          "color": "black",
          "size": 3.6820049490403735
         },
         "type": "scatterternary"
        },
        {
         "a": [
          0.8520148288660923,
          0.8109286739413523,
          0.7490658248077,
          0.6894049984779339,
          0.5974680516600419,
          0.5051928884380487,
          0.3952224271599489,
          0.33277070837504763,
          0.2911684008300155,
          0.2606293216710434,
          0.2435096450818805,
          0.22090322866852516,
          0.20304494868249262,
          0.19310558170673525,
          0.17775560342851227
         ],
         "b": [
          0.05416262312212059,
          0.08618748720293103,
          0.13994268638983628,
          0.18586970193764293,
          0.2688415292766765,
          0.3557127637134193,
          0.4622685430364066,
          0.5303559048858225,
          0.5833462896666288,
          0.6159747517096373,
          0.6353577074821245,
          0.6446373748955168,
          0.6466361807891517,
          0.6443231371736214,
          0.6309987477259722
         ],
         "c": [
          0.09382254801178716,
          0.10288383885571661,
          0.11099148880246373,
          0.12472529958442323,
          0.13369041906328158,
          0.13909434784853203,
          0.14250902980364455,
          0.1368733867391299,
          0.12548530950335604,
          0.1233959266193194,
          0.12113264743599489,
          0.13445939643595797,
          0.15031887052835557,
          0.16257128111964325,
          0.19124564884551543
         ],
         "line": {
          "color": "grey",
          "width": 0.25
         },
         "marker": {
          "color": "silver",
          "line": {
           "color": "black",
           "width": 0
          },
          "opacity": 0.9,
          "size": 6
         },
         "mode": "lines+text",
         "name": "OMN",
         "showlegend": false,
         "subplot": "ternary",
         "text": [
          "",
          "",
          "",
          "",
          "",
          "",
          "",
          "",
          "",
          "",
          "",
          "",
          "",
          "",
          ""
         ],
         "textfont": {
          "color": "black",
          "size": 3.519002440895488
         },
         "type": "scatterternary"
        },
        {
         "a": [
          0.8520148288660923,
          0.8109286739413523,
          0.7490658248077,
          0.6894049984779339,
          0.5974680516600419
         ],
         "b": [
          0.05416262312212059,
          0.08618748720293103,
          0.13994268638983628,
          0.18586970193764293,
          0.2688415292766765
         ],
         "c": [
          0.09382254801178716,
          0.10288383885571661,
          0.11099148880246373,
          0.12472529958442323,
          0.13369041906328158
         ],
         "line": {
          "color": "grey",
          "width": 0.25
         },
         "marker": {
          "color": "silver",
          "line": {
           "color": "black",
           "width": 0
          },
          "opacity": 0.9,
          "size": 6
         },
         "mode": "lines+text",
         "name": "OMN",
         "showlegend": false,
         "subplot": "ternary",
         "text": [
          "",
          "",
          "",
          "",
          "",
          "",
          "",
          "",
          "",
          "",
          "",
          "",
          "",
          "",
          ""
         ],
         "textfont": {
          "color": "black",
          "size": 3.519002440895488
         },
         "type": "scatterternary"
        },
        {
         "a": [
          0.5879481038938601,
          0.5416964892471028,
          0.4873308132952584,
          0.43333875596035465,
          0.3807928380627124,
          0.33924290737631896,
          0.30744738921826276,
          0.2847916080631282,
          0.26513532433334175,
          0.25356670569244333,
          0.24428718184899495,
          0.23614224927366392,
          0.2283937140702385,
          0.2211922623702376,
          0.21409613700647154
         ],
         "b": [
          0.32082925241308463,
          0.36460856425275573,
          0.4178799603592557,
          0.4701939544236843,
          0.5217484532851413,
          0.560637453424239,
          0.5911956219267778,
          0.6145790705910815,
          0.6348221534994836,
          0.6457389957988275,
          0.6538918658188829,
          0.6633336296724284,
          0.6728097812326135,
          0.680669033258395,
          0.6869573793265116
         ],
         "c": [
          0.09122264369305527,
          0.09369494650014132,
          0.09478922634548594,
          0.09646728961596121,
          0.09745870865214637,
          0.10011963919944199,
          0.10135698885495951,
          0.10062932134579033,
          0.10004252216717466,
          0.10069429850872913,
          0.10182095233212236,
          0.10052412105390751,
          0.09879650469714811,
          0.0981387043713672,
          0.09894648366701687
         ],
         "line": {
          "color": "grey",
          "width": 0.25
         },
         "marker": {
          "color": "silver",
          "line": {
           "color": "black",
           "width": 0
          },
          "opacity": 0.9,
          "size": 6
         },
         "mode": "lines+text",
         "name": "PAK",
         "showlegend": false,
         "subplot": "ternary",
         "text": [
          "",
          "",
          "",
          "",
          "",
          "",
          "",
          "",
          "",
          "",
          "",
          "",
          "",
          "",
          ""
         ],
         "textfont": {
          "color": "black",
          "size": 12.953535518440098
         },
         "type": "scatterternary"
        },
        {
         "a": [
          0.5879481038938601,
          0.5416964892471028,
          0.4873308132952584,
          0.43333875596035465,
          0.3807928380627124
         ],
         "b": [
          0.32082925241308463,
          0.36460856425275573,
          0.4178799603592557,
          0.4701939544236843,
          0.5217484532851413
         ],
         "c": [
          0.09122264369305527,
          0.09369494650014132,
          0.09478922634548594,
          0.09646728961596121,
          0.09745870865214637
         ],
         "line": {
          "color": "grey",
          "width": 0.25
         },
         "marker": {
          "color": "silver",
          "line": {
           "color": "black",
           "width": 0
          },
          "opacity": 0.9,
          "size": 6
         },
         "mode": "lines+text",
         "name": "PAK",
         "showlegend": false,
         "subplot": "ternary",
         "text": [
          "",
          "",
          "",
          "",
          "",
          "",
          "",
          "",
          "",
          "",
          "",
          "",
          "",
          "",
          ""
         ],
         "textfont": {
          "color": "black",
          "size": 12.953535518440098
         },
         "type": "scatterternary"
        },
        {
         "a": [
          0,
          0,
          0,
          0,
          0,
          0,
          0,
          0,
          0,
          0,
          0,
          0,
          0,
          0,
          0
         ],
         "b": [
          0,
          0,
          0,
          0,
          0,
          0,
          0,
          0,
          0,
          0,
          0,
          0,
          0,
          0,
          0
         ],
         "c": [
          0,
          0,
          0,
          0,
          0,
          0,
          0,
          0,
          0,
          0,
          0,
          0,
          0,
          0,
          0
         ],
         "line": {
          "color": "grey",
          "width": 0.25
         },
         "marker": {
          "color": "silver",
          "line": {
           "color": "black",
           "width": 0
          },
          "opacity": 0.9,
          "size": 6
         },
         "mode": "lines+text",
         "name": "PLW",
         "showlegend": false,
         "subplot": "ternary",
         "text": [
          "",
          "",
          "",
          "",
          "",
          "",
          "",
          "",
          "",
          "",
          "",
          "",
          "",
          "",
          ""
         ],
         "textfont": {
          "color": "black",
          "size": 2.3694187025678044
         },
         "type": "scatterternary"
        },
        {
         "a": [
          0,
          0,
          0,
          0,
          0
         ],
         "b": [
          0,
          0,
          0,
          0,
          0
         ],
         "c": [
          0,
          0,
          0,
          0,
          0
         ],
         "line": {
          "color": "grey",
          "width": 0.25
         },
         "marker": {
          "color": "silver",
          "line": {
           "color": "black",
           "width": 0
          },
          "opacity": 0.9,
          "size": 6
         },
         "mode": "lines+text",
         "name": "PLW",
         "showlegend": false,
         "subplot": "ternary",
         "text": [
          "",
          "",
          "",
          "",
          "",
          "",
          "",
          "",
          "",
          "",
          "",
          "",
          "",
          "",
          ""
         ],
         "textfont": {
          "color": "black",
          "size": 2.3694187025678044
         },
         "type": "scatterternary"
        },
        {
         "a": [
          0,
          0,
          0,
          0,
          0,
          0,
          0,
          0,
          0,
          0,
          0,
          0,
          0,
          0,
          0
         ],
         "b": [
          0,
          0,
          0,
          0,
          0,
          0,
          0,
          0,
          0,
          0,
          0,
          0,
          0,
          0,
          0
         ],
         "c": [
          0,
          0,
          0,
          0,
          0,
          0,
          0,
          0,
          0,
          0,
          0,
          0,
          0,
          0,
          0
         ],
         "line": {
          "color": "grey",
          "width": 0.25
         },
         "marker": {
          "color": "silver",
          "line": {
           "color": "black",
           "width": 0
          },
          "opacity": 0.9,
          "size": 6
         },
         "mode": "lines+text",
         "name": "PSE",
         "showlegend": false,
         "subplot": "ternary",
         "text": [
          "",
          "",
          "",
          "",
          "",
          "",
          "",
          "",
          "",
          "",
          "",
          "",
          "",
          "",
          ""
         ],
         "textfont": {
          "color": "black",
          "size": 3.5989528383142892
         },
         "type": "scatterternary"
        },
        {
         "a": [
          0,
          0,
          0,
          0,
          0
         ],
         "b": [
          0,
          0,
          0,
          0,
          0
         ],
         "c": [
          0,
          0,
          0,
          0,
          0
         ],
         "line": {
          "color": "grey",
          "width": 0.25
         },
         "marker": {
          "color": "silver",
          "line": {
           "color": "black",
           "width": 0
          },
          "opacity": 0.9,
          "size": 6
         },
         "mode": "lines+text",
         "name": "PSE",
         "showlegend": false,
         "subplot": "ternary",
         "text": [
          "",
          "",
          "",
          "",
          "",
          "",
          "",
          "",
          "",
          "",
          "",
          "",
          "",
          "",
          ""
         ],
         "textfont": {
          "color": "black",
          "size": 3.5989528383142892
         },
         "type": "scatterternary"
        },
        {
         "a": [
          0.8491259454041828,
          0.8073952073274077,
          0.7195185722277515,
          0.6230805487976063,
          0.5166649889330837,
          0.43092146068872605,
          0.3476503417219464,
          0.2931058932249771,
          0.23758856447630533,
          0.2004274898192273,
          0.16343996481392614,
          0.12973051422260298,
          0.10329137288308249,
          0.09059410492559156,
          0.08152128506717321
         ],
         "b": [
          0.05196187908257166,
          0.08471444521620095,
          0.16536440540667446,
          0.2558731085676868,
          0.36198190668618957,
          0.4469560160907093,
          0.5328655101505565,
          0.5855116168878325,
          0.6205762034805475,
          0.637992828918973,
          0.6319447074385242,
          0.6121545339947163,
          0.5929083888602742,
          0.583892033749109,
          0.5654890402992238
         ],
         "c": [
          0.09891217551324545,
          0.10789034745639144,
          0.11511702236557415,
          0.12104634263470666,
          0.12135310438072659,
          0.12212252322056465,
          0.11948414812749718,
          0.12138248988719041,
          0.14183523204314724,
          0.16157968126179956,
          0.20461532774754956,
          0.25811495178268073,
          0.3038002382566435,
          0.32551386132529936,
          0.35298967463360287
         ],
         "line": {
          "color": "grey",
          "width": 0.25
         },
         "marker": {
          "color": "silver",
          "line": {
           "color": "black",
           "width": 0
          },
          "opacity": 0.9,
          "size": 6
         },
         "mode": "lines+text",
         "name": "PAN",
         "showlegend": false,
         "subplot": "ternary",
         "text": [
          "",
          "",
          "",
          "",
          "",
          "",
          "",
          "",
          "",
          "",
          "",
          "",
          "",
          "",
          ""
         ],
         "textfont": {
          "color": "black",
          "size": 3.4463914141634855
         },
         "type": "scatterternary"
        },
        {
         "a": [
          0.8491259454041828,
          0.8073952073274077,
          0.7195185722277515,
          0.6230805487976063,
          0.5166649889330837
         ],
         "b": [
          0.05196187908257166,
          0.08471444521620095,
          0.16536440540667446,
          0.2558731085676868,
          0.36198190668618957
         ],
         "c": [
          0.09891217551324545,
          0.10789034745639144,
          0.11511702236557415,
          0.12104634263470666,
          0.12135310438072659
         ],
         "line": {
          "color": "grey",
          "width": 0.25
         },
         "marker": {
          "color": "silver",
          "line": {
           "color": "black",
           "width": 0
          },
          "opacity": 0.9,
          "size": 6
         },
         "mode": "lines+text",
         "name": "PAN",
         "showlegend": false,
         "subplot": "ternary",
         "text": [
          "",
          "",
          "",
          "",
          "",
          "",
          "",
          "",
          "",
          "",
          "",
          "",
          "",
          "",
          ""
         ],
         "textfont": {
          "color": "black",
          "size": 3.4463914141634855
         },
         "type": "scatterternary"
        },
        {
         "a": [
          0.6857345420394797,
          0.5874868813179173,
          0.4997203279062977,
          0.4395560256909746,
          0.4059070998459591,
          0.3974454791355087,
          0.39339435826363156,
          0.3896771236118195,
          0.3864813884879472,
          0.3890890895690501,
          0.38149032814937406,
          0.36969866710910393,
          0.35711957622364,
          0.34471128133433515,
          0.33404061006632824
         ],
         "b": [
          0.22820067414982687,
          0.3281846511291807,
          0.41641492550604975,
          0.4729949123848091,
          0.49618565297913275,
          0.4779221879519339,
          0.4575669073877017,
          0.44407870931627447,
          0.43755016698826976,
          0.4342746239315155,
          0.44435561007593105,
          0.46254683103773875,
          0.47982445061020984,
          0.49618516452921835,
          0.5121527911885804
         ],
         "c": [
          0.08606478381069348,
          0.08432846755290205,
          0.08386474658765257,
          0.08744906192421611,
          0.0979072471749082,
          0.12463233291255729,
          0.14903873434866688,
          0.16624416707190595,
          0.17596844452378302,
          0.17663628649943441,
          0.17415406177469486,
          0.16775450185315713,
          0.16305597316615014,
          0.15910355413644664,
          0.15380659874509137
         ],
         "line": {
          "color": "grey",
          "width": 0.25
         },
         "marker": {
          "color": "silver",
          "line": {
           "color": "black",
           "width": 0
          },
          "opacity": 0.9,
          "size": 6
         },
         "mode": "lines+text",
         "name": "PNG",
         "showlegend": false,
         "subplot": "ternary",
         "text": [
          "",
          "",
          "",
          "",
          "",
          "",
          "",
          "",
          "",
          "",
          "",
          "",
          "",
          "",
          ""
         ],
         "textfont": {
          "color": "black",
          "size": 4.390984968977918
         },
         "type": "scatterternary"
        },
        {
         "a": [
          0.6857345420394797,
          0.5874868813179173,
          0.4997203279062977,
          0.4395560256909746,
          0.4059070998459591
         ],
         "b": [
          0.22820067414982687,
          0.3281846511291807,
          0.41641492550604975,
          0.4729949123848091,
          0.49618565297913275
         ],
         "c": [
          0.08606478381069348,
          0.08432846755290205,
          0.08386474658765257,
          0.08744906192421611,
          0.0979072471749082
         ],
         "line": {
          "color": "grey",
          "width": 0.25
         },
         "marker": {
          "color": "silver",
          "line": {
           "color": "black",
           "width": 0
          },
          "opacity": 0.9,
          "size": 6
         },
         "mode": "lines+text",
         "name": "PNG",
         "showlegend": false,
         "subplot": "ternary",
         "text": [
          "",
          "",
          "",
          "",
          "",
          "",
          "",
          "",
          "",
          "",
          "",
          "",
          "",
          "",
          ""
         ],
         "textfont": {
          "color": "black",
          "size": 4.390984968977918
         },
         "type": "scatterternary"
        },
        {
         "a": [
          0.8104346246779217,
          0.7363452354917225,
          0.6247970397952589,
          0.5226696689389801,
          0.41714225733172516,
          0.3490166468839431,
          0.29113247000852105,
          0.24917953843565863,
          0.2134430095453182,
          0.19375572359642002,
          0.17954251030689225,
          0.1675109872117237,
          0.15462221340058674,
          0.13587218436691695,
          0.11844247900766999
         ],
         "b": [
          0.10623673088933512,
          0.1779057137255735,
          0.2874677768080287,
          0.3852200165976167,
          0.48953210853212703,
          0.5560126765476094,
          0.6149609750865651,
          0.6631351428222401,
          0.7043090464992549,
          0.7295134242361705,
          0.7493177858843265,
          0.764744740454188,
          0.7799358323160016,
          0.7989757002006724,
          0.820787084620974
         ],
         "c": [
          0.0833286444327433,
          0.08574905078270408,
          0.08773518339671249,
          0.0921103144634031,
          0.09332563413614763,
          0.09497067656844742,
          0.09390655490491373,
          0.08768531874210132,
          0.08224794395542698,
          0.07673085216740959,
          0.07113970380878112,
          0.06774427233408835,
          0.06544195428341164,
          0.06515211543241045,
          0.06077043637135598
         ],
         "line": {
          "color": "grey",
          "width": 0.25
         },
         "marker": {
          "color": "silver",
          "line": {
           "color": "black",
           "width": 0
          },
          "opacity": 0.9,
          "size": 6
         },
         "mode": "lines+text",
         "name": "PRY",
         "showlegend": false,
         "subplot": "ternary",
         "text": [
          "",
          "",
          "",
          "",
          "",
          "",
          "",
          "",
          "",
          "",
          "",
          "",
          "",
          "",
          ""
         ],
         "textfont": {
          "color": "black",
          "size": 3.9083231430425562
         },
         "type": "scatterternary"
        },
        {
         "a": [
          0.8104346246779217,
          0.7363452354917225,
          0.6247970397952589,
          0.5226696689389801,
          0.41714225733172516
         ],
         "b": [
          0.10623673088933512,
          0.1779057137255735,
          0.2874677768080287,
          0.3852200165976167,
          0.48953210853212703
         ],
         "c": [
          0.0833286444327433,
          0.08574905078270408,
          0.08773518339671249,
          0.0921103144634031,
          0.09332563413614763
         ],
         "line": {
          "color": "grey",
          "width": 0.25
         },
         "marker": {
          "color": "silver",
          "line": {
           "color": "black",
           "width": 0
          },
          "opacity": 0.9,
          "size": 6
         },
         "mode": "lines+text",
         "name": "PRY",
         "showlegend": false,
         "subplot": "ternary",
         "text": [
          "",
          "",
          "",
          "",
          "",
          "",
          "",
          "",
          "",
          "",
          "",
          "",
          "",
          "",
          ""
         ],
         "textfont": {
          "color": "black",
          "size": 3.9083231430425562
         },
         "type": "scatterternary"
        },
        {
         "a": [
          0.8644853900727674,
          0.8366684847476709,
          0.8105985627867961,
          0.7882349495338308,
          0.7587965797671953,
          0.7268068958497439,
          0.689731879758362,
          0.6619483558502248,
          0.6331846629171196,
          0.6132292649757802,
          0.5946667221997026,
          0.5798513227934932,
          0.5656989022976582,
          0.5521842529349925,
          0.5417536991729542
         ],
         "b": [
          0.032380800716251004,
          0.04934727356469393,
          0.05997230327962984,
          0.062191595931336635,
          0.07041104698406295,
          0.08583641171625096,
          0.1095401240599764,
          0.13290078885897685,
          0.15976480026940695,
          0.18347567298598305,
          0.20729288350265873,
          0.22770769769860044,
          0.2468373675804627,
          0.26328982302647724,
          0.2764245211860327
         ],
         "c": [
          0.10313380921098177,
          0.11398424168763543,
          0.1294291339335739,
          0.1495734545348327,
          0.1707923732487419,
          0.18735669243400505,
          0.2007279961816617,
          0.20515085529079827,
          0.20705053681347324,
          0.20329506203823675,
          0.19804039429763873,
          0.1924409795079063,
          0.18746373012187917,
          0.18452592403853027,
          0.1818217796410131
         ],
         "line": {
          "color": "grey",
          "width": 0.25
         },
         "marker": {
          "color": "silver",
          "line": {
           "color": "black",
           "width": 0
          },
          "opacity": 0.9,
          "size": 6
         },
         "mode": "lines+text",
         "name": "PER",
         "showlegend": false,
         "subplot": "ternary",
         "text": [
          "",
          "",
          "",
          "",
          "",
          "",
          "",
          "",
          "",
          "",
          "",
          "",
          "",
          "",
          ""
         ],
         "textfont": {
          "color": "black",
          "size": 6.551577480699147
         },
         "type": "scatterternary"
        },
        {
         "a": [
          0.8644853900727674,
          0.8366684847476709,
          0.8105985627867961,
          0.7882349495338308,
          0.7587965797671953
         ],
         "b": [
          0.032380800716251004,
          0.04934727356469393,
          0.05997230327962984,
          0.062191595931336635,
          0.07041104698406295
         ],
         "c": [
          0.10313380921098177,
          0.11398424168763543,
          0.1294291339335739,
          0.1495734545348327,
          0.1707923732487419
         ],
         "line": {
          "color": "grey",
          "width": 0.25
         },
         "marker": {
          "color": "silver",
          "line": {
           "color": "black",
           "width": 0
          },
          "opacity": 0.9,
          "size": 6
         },
         "mode": "lines+text",
         "name": "PER",
         "showlegend": false,
         "subplot": "ternary",
         "text": [
          "",
          "",
          "",
          "",
          "",
          "",
          "",
          "",
          "",
          "",
          "",
          "",
          "",
          "",
          ""
         ],
         "textfont": {
          "color": "black",
          "size": 6.551577480699147
         },
         "type": "scatterternary"
        },
        {
         "a": [
          0.7332938031147049,
          0.6907001675409792,
          0.639167579750575,
          0.5825077864312688,
          0.5164399007047088,
          0.4583391142696473,
          0.4075518081993557,
          0.3735001139991879,
          0.3460995498924375,
          0.32805426868158655,
          0.3130066366494431,
          0.3014766938092343,
          0.2918043750800447,
          0.283241825367283,
          0.2758767391404872
         ],
         "b": [
          0.16654782213970248,
          0.2037606720286175,
          0.2493164178546441,
          0.300002107777853,
          0.3642505613968615,
          0.423919079940863,
          0.4779598696508693,
          0.5173356804297423,
          0.5496251133507623,
          0.5723775641342039,
          0.5915448742768398,
          0.6068979315317233,
          0.6195266953261174,
          0.6306401413797461,
          0.6402099764172519
         ],
         "c": [
          0.1001583747455925,
          0.10553916043040337,
          0.11151600239478092,
          0.11749010579087843,
          0.1193095378984296,
          0.1177418057894898,
          0.114488322149775,
          0.10916420557106983,
          0.10427533675680023,
          0.09956816718420962,
          0.09544848907371722,
          0.09162537465904229,
          0.08866892959383788,
          0.08611803325297088,
          0.08391328444226083
         ],
         "line": {
          "color": "grey",
          "width": 0.25
         },
         "marker": {
          "color": "silver",
          "line": {
           "color": "black",
           "width": 0
          },
          "opacity": 0.9,
          "size": 6
         },
         "mode": "lines+text",
         "name": "PHL",
         "showlegend": false,
         "subplot": "ternary",
         "text": [
          "",
          "",
          "",
          "",
          "",
          "",
          "",
          "",
          "",
          "",
          "",
          "",
          "",
          "",
          ""
         ],
         "textfont": {
          "color": "black",
          "size": 10.018099089927368
         },
         "type": "scatterternary"
        },
        {
         "a": [
          0.7332938031147049,
          0.6907001675409792,
          0.639167579750575,
          0.5825077864312688,
          0.5164399007047088
         ],
         "b": [
          0.16654782213970248,
          0.2037606720286175,
          0.2493164178546441,
          0.300002107777853,
          0.3642505613968615
         ],
         "c": [
          0.1001583747455925,
          0.10553916043040337,
          0.11151600239478092,
          0.11749010579087843,
          0.1193095378984296
         ],
         "line": {
          "color": "grey",
          "width": 0.25
         },
         "marker": {
          "color": "silver",
          "line": {
           "color": "black",
           "width": 0
          },
          "opacity": 0.9,
          "size": 6
         },
         "mode": "lines+text",
         "name": "PHL",
         "showlegend": false,
         "subplot": "ternary",
         "text": [
          "",
          "",
          "",
          "",
          "",
          "",
          "",
          "",
          "",
          "",
          "",
          "",
          "",
          "",
          ""
         ],
         "textfont": {
          "color": "black",
          "size": 10.018099089927368
         },
         "type": "scatterternary"
        },
        {
         "a": [
          0.7849522703378745,
          0.6863209110868843,
          0.5614550827069056,
          0.43984469854516206,
          0.3276744000894334,
          0.24366471833944447,
          0.172969581630156,
          0.12743113971698872,
          0.09768742198649713,
          0.08001895808687726,
          0.06831986845069563,
          0.060215477398321324,
          0.055024849518269615,
          0.05049369281534165,
          0.04684996488081436
         ],
         "b": [
          0.13213862093337228,
          0.23095136380814735,
          0.35818582694403067,
          0.4828769839405808,
          0.5994901449704231,
          0.6891500353638882,
          0.7686467666816466,
          0.8220176268926473,
          0.8583521948447785,
          0.8807082166173196,
          0.8965321336843025,
          0.9082684047465461,
          0.9163552499032732,
          0.9231190573201125,
          0.9294794093624908
         ],
         "c": [
          0.08290910872875311,
          0.08272772510496827,
          0.08035909034906376,
          0.07727831751425711,
          0.07283545494014372,
          0.06718524629666726,
          0.05838365168819747,
          0.05055123339036396,
          0.04396038316872415,
          0.03927282529580313,
          0.03514799786500189,
          0.03151611785513241,
          0.028619900578457258,
          0.026387249864545874,
          0.023670625756694784
         ],
         "line": {
          "color": "grey",
          "width": 0.25
         },
         "marker": {
          "color": "silver",
          "line": {
           "color": "black",
           "width": 0
          },
          "opacity": 0.9,
          "size": 6
         },
         "mode": "lines+text",
         "name": "POL",
         "showlegend": false,
         "subplot": "ternary",
         "text": [
          "",
          "",
          "",
          "",
          "",
          "",
          "",
          "",
          "",
          "",
          "",
          "",
          "",
          "",
          ""
         ],
         "textfont": {
          "color": "black",
          "size": 6.896863500271991
         },
         "type": "scatterternary"
        },
        {
         "a": [
          0.7849522703378745,
          0.6863209110868843,
          0.5614550827069056,
          0.43984469854516206,
          0.3276744000894334
         ],
         "b": [
          0.13213862093337228,
          0.23095136380814735,
          0.35818582694403067,
          0.4828769839405808,
          0.5994901449704231
         ],
         "c": [
          0.08290910872875311,
          0.08272772510496827,
          0.08035909034906376,
          0.07727831751425711,
          0.07283545494014372
         ],
         "line": {
          "color": "grey",
          "width": 0.25
         },
         "marker": {
          "color": "silver",
          "line": {
           "color": "black",
           "width": 0
          },
          "opacity": 0.9,
          "size": 6
         },
         "mode": "lines+text",
         "name": "POL",
         "showlegend": false,
         "subplot": "ternary",
         "text": [
          "",
          "",
          "",
          "",
          "",
          "",
          "",
          "",
          "",
          "",
          "",
          "",
          "",
          "",
          ""
         ],
         "textfont": {
          "color": "black",
          "size": 6.896863500271991
         },
         "type": "scatterternary"
        },
        {
         "a": [
          0.7992100511075909,
          0.7317264070665195,
          0.7011630113068443,
          0.6765718418146234,
          0.6569217807641227,
          0.635954926923226,
          0.6139554519778443,
          0.5963613643190189,
          0.5793539819016524,
          0.5668480833397809,
          0.554295634433912,
          0.540689645048202,
          0.5280396755805211,
          0.5096588658415122,
          0.49302643501917565
         ],
         "b": [
          0.11054407682008724,
          0.17302644870253073,
          0.1905194281458077,
          0.1974826365241801,
          0.19502792435308985,
          0.19561764080806196,
          0.19791179847523005,
          0.20515511917598334,
          0.21322577563546685,
          0.22442236613600183,
          0.2379237143391449,
          0.25530597791905724,
          0.27214065723167363,
          0.2953037884520527,
          0.31646857357564284
         ],
         "c": [
          0.09024587207232204,
          0.09524714423094989,
          0.1083175605473479,
          0.12594552166119646,
          0.14805029488278734,
          0.16842743226871207,
          0.18813274954692577,
          0.19848351650499774,
          0.20742024246288066,
          0.20872955052421716,
          0.20778065122694295,
          0.20400437703274069,
          0.1998196671878053,
          0.19503734570643513,
          0.19050499140518143
         ],
         "line": {
          "color": "grey",
          "width": 0.25
         },
         "marker": {
          "color": "silver",
          "line": {
           "color": "black",
           "width": 0
          },
          "opacity": 0.9,
          "size": 6
         },
         "mode": "lines+text",
         "name": "PRT",
         "showlegend": false,
         "subplot": "ternary",
         "text": [
          "",
          "",
          "",
          "",
          "",
          "",
          "",
          "",
          "",
          "",
          "",
          "",
          "",
          "",
          ""
         ],
         "textfont": {
          "color": "black",
          "size": 4.480520325002957
         },
         "type": "scatterternary"
        },
        {
         "a": [
          0.7992100511075909,
          0.7317264070665195,
          0.7011630113068443,
          0.6765718418146234,
          0.6569217807641227
         ],
         "b": [
          0.11054407682008724,
          0.17302644870253073,
          0.1905194281458077,
          0.1974826365241801,
          0.19502792435308985
         ],
         "c": [
          0.09024587207232204,
          0.09524714423094989,
          0.1083175605473479,
          0.12594552166119646,
          0.14805029488278734
         ],
         "line": {
          "color": "grey",
          "width": 0.25
         },
         "marker": {
          "color": "silver",
          "line": {
           "color": "black",
           "width": 0
          },
          "opacity": 0.9,
          "size": 6
         },
         "mode": "lines+text",
         "name": "PRT",
         "showlegend": false,
         "subplot": "ternary",
         "text": [
          "",
          "",
          "",
          "",
          "",
          "",
          "",
          "",
          "",
          "",
          "",
          "",
          "",
          "",
          ""
         ],
         "textfont": {
          "color": "black",
          "size": 4.480520325002957
         },
         "type": "scatterternary"
        },
        {
         "a": [
          0.7258168951837155,
          0.6114264388994533,
          0.4757794024331551,
          0.3806067762605206,
          0.2955745408164002,
          0.2481983659667984,
          0.1989757604849149,
          0.1706044099676936,
          0.15085974065306063,
          0.1380729033232177,
          0.12613683681875962,
          0.10955607564155888,
          0.101077763408554,
          0.09821040970455291,
          0.09109138391566567
         ],
         "b": [
          0.19313344830993964,
          0.3029406740591634,
          0.4300921332989775,
          0.5020327507946893,
          0.5723775987340303,
          0.6254991133340665,
          0.6784210946969684,
          0.7029872273189283,
          0.7137499780411077,
          0.711271388860782,
          0.6938422859232455,
          0.6650862264775851,
          0.6458121586245136,
          0.6334318079826698,
          0.6110011343521624
         ],
         "c": [
          0.08104965650634473,
          0.08563288704138346,
          0.09412846426786728,
          0.11736047294479021,
          0.13204786044956945,
          0.12630252069913514,
          0.12260314481811657,
          0.1264083627133783,
          0.1353902813058317,
          0.1506557078160002,
          0.18002087725799498,
          0.22535769788085616,
          0.25311007796693263,
          0.26835778231277724,
          0.29790748173217185
         ],
         "line": {
          "color": "grey",
          "width": 0.25
         },
         "marker": {
          "color": "silver",
          "line": {
           "color": "black",
           "width": 0
          },
          "opacity": 0.9,
          "size": 6
         },
         "mode": "lines+text",
         "name": "QAT",
         "showlegend": false,
         "subplot": "ternary",
         "text": [
          "",
          "",
          "",
          "",
          "",
          "",
          "",
          "",
          "",
          "",
          "",
          "",
          "",
          "",
          ""
         ],
         "textfont": {
          "color": "black",
          "size": 3.0757098714318594
         },
         "type": "scatterternary"
        },
        {
         "a": [
          0.7258168951837155,
          0.6114264388994533,
          0.4757794024331551,
          0.3806067762605206,
          0.2955745408164002
         ],
         "b": [
          0.19313344830993964,
          0.3029406740591634,
          0.4300921332989775,
          0.5020327507946893,
          0.5723775987340303
         ],
         "c": [
          0.08104965650634473,
          0.08563288704138346,
          0.09412846426786728,
          0.11736047294479021,
          0.13204786044956945
         ],
         "line": {
          "color": "grey",
          "width": 0.25
         },
         "marker": {
          "color": "silver",
          "line": {
           "color": "black",
           "width": 0
          },
          "opacity": 0.9,
          "size": 6
         },
         "mode": "lines+text",
         "name": "QAT",
         "showlegend": false,
         "subplot": "ternary",
         "text": [
          "",
          "",
          "",
          "",
          "",
          "",
          "",
          "",
          "",
          "",
          "",
          "",
          "",
          "",
          ""
         ],
         "textfont": {
          "color": "black",
          "size": 3.0757098714318594
         },
         "type": "scatterternary"
        },
        {
         "a": [
          0.7121304482639008,
          0.6074417882876618,
          0.520317781344906,
          0.4371494746790408,
          0.36374555855036894,
          0.3027954793065476,
          0.24922394143043433,
          0.2101192264796879,
          0.18001179528478697,
          0.1592814507186323,
          0.1433382073417946,
          0.1311447626842479,
          0.12172798944173055,
          0.11234339348444902,
          0.10418334326491556
         ],
         "b": [
          0.20990646077669226,
          0.3164577010772148,
          0.40219447737317415,
          0.4840988567886466,
          0.5562277299101692,
          0.6185272704242186,
          0.6754894586405035,
          0.7203254776459171,
          0.7555437650975967,
          0.7816513571851926,
          0.8023644510089138,
          0.8189978040559007,
          0.8320754703402624,
          0.8445961535403002,
          0.8556957700198939
         ],
         "c": [
          0.07796309095940714,
          0.07610051063512346,
          0.07748774128191989,
          0.07875166853231247,
          0.08002671153946171,
          0.07867725026923368,
          0.07528659992906214,
          0.069555295874395,
          0.06444443961761619,
          0.05906719209617523,
          0.05429734164929158,
          0.04985743325985146,
          0.04619654021800705,
          0.04306045297525071,
          0.04012088671519037
         ],
         "line": {
          "color": "grey",
          "width": 0.25
         },
         "marker": {
          "color": "silver",
          "line": {
           "color": "black",
           "width": 0
          },
          "opacity": 0.9,
          "size": 6
         },
         "mode": "lines+text",
         "name": "ROU",
         "showlegend": false,
         "subplot": "ternary",
         "text": [
          "",
          "",
          "",
          "",
          "",
          "",
          "",
          "",
          "",
          "",
          "",
          "",
          "",
          "",
          ""
         ],
         "textfont": {
          "color": "black",
          "size": 5.4921943715812525
         },
         "type": "scatterternary"
        },
        {
         "a": [
          0.7121304482639008,
          0.6074417882876618,
          0.520317781344906,
          0.4371494746790408,
          0.36374555855036894
         ],
         "b": [
          0.20990646077669226,
          0.3164577010772148,
          0.40219447737317415,
          0.4840988567886466,
          0.5562277299101692
         ],
         "c": [
          0.07796309095940714,
          0.07610051063512346,
          0.07748774128191989,
          0.07875166853231247,
          0.08002671153946171
         ],
         "line": {
          "color": "grey",
          "width": 0.25
         },
         "marker": {
          "color": "silver",
          "line": {
           "color": "black",
           "width": 0
          },
          "opacity": 0.9,
          "size": 6
         },
         "mode": "lines+text",
         "name": "ROU",
         "showlegend": false,
         "subplot": "ternary",
         "text": [
          "",
          "",
          "",
          "",
          "",
          "",
          "",
          "",
          "",
          "",
          "",
          "",
          "",
          "",
          ""
         ],
         "textfont": {
          "color": "black",
          "size": 5.4921943715812525
         },
         "type": "scatterternary"
        },
        {
         "a": [
          0.7787065356894993,
          0.6561949881551925,
          0.5054031985553469,
          0.36343146625026895,
          0.23435335233662363,
          0.15177860889970918,
          0.09905304023277384,
          0.07577624360373657,
          0.05986178277992529,
          0.04978972008290798,
          0.04380310309407544,
          0.040090819142948715,
          0.03625016705998281,
          0.03375488224810873,
          0.0335501075852704
         ],
         "b": [
          0.14246544977048173,
          0.2686645697140929,
          0.42548577198498416,
          0.5749839926809035,
          0.7147735690847142,
          0.8058792663869163,
          0.8644165227721728,
          0.8918019380869635,
          0.910001328672285,
          0.9215895624324626,
          0.9283304870646523,
          0.933312533415073,
          0.933191251374112,
          0.931451818266966,
          0.9301816230832511
         ],
         "c": [
          0.0788280145400189,
          0.07514044213071443,
          0.06911102945966892,
          0.06158454106882748,
          0.050873078578662,
          0.042342124713374445,
          0.036530436995053116,
          0.03242181830929991,
          0.030136888547789474,
          0.02862071748462955,
          0.027866409841272276,
          0.026596647441978247,
          0.030558581565905293,
          0.03479329948492528,
          0.03626826933147849
         ],
         "line": {
          "color": "grey",
          "width": 0.25
         },
         "marker": {
          "color": "silver",
          "line": {
           "color": "black",
           "width": 0
          },
          "opacity": 0.9,
          "size": 6
         },
         "mode": "lines+text",
         "name": "RUS",
         "showlegend": false,
         "subplot": "ternary",
         "text": [
          "",
          "",
          "",
          "",
          "",
          "",
          "",
          "",
          "",
          "",
          "",
          "",
          "",
          "",
          ""
         ],
         "textfont": {
          "color": "black",
          "size": 11.04600935615512
         },
         "type": "scatterternary"
        },
        {
         "a": [
          0.7787065356894993,
          0.6561949881551925,
          0.5054031985553469,
          0.36343146625026895,
          0.23435335233662363
         ],
         "b": [
          0.14246544977048173,
          0.2686645697140929,
          0.42548577198498416,
          0.5749839926809035,
          0.7147735690847142
         ],
         "c": [
          0.0788280145400189,
          0.07514044213071443,
          0.06911102945966892,
          0.06158454106882748,
          0.050873078578662
         ],
         "line": {
          "color": "grey",
          "width": 0.25
         },
         "marker": {
          "color": "silver",
          "line": {
           "color": "black",
           "width": 0
          },
          "opacity": 0.9,
          "size": 6
         },
         "mode": "lines+text",
         "name": "RUS",
         "showlegend": false,
         "subplot": "ternary",
         "text": [
          "",
          "",
          "",
          "",
          "",
          "",
          "",
          "",
          "",
          "",
          "",
          "",
          "",
          "",
          ""
         ],
         "textfont": {
          "color": "black",
          "size": 11.04600935615512
         },
         "type": "scatterternary"
        },
        {
         "a": [
          0.35892197373876916,
          0.2327988920940235,
          0.23790927244980956,
          0.20420718309226243,
          0.1678248211849938,
          0.17746162271723445,
          0.16878162883149717,
          0.18067858078834675,
          0.19178320336229282,
          0.1928425372523918,
          0.19602115854655108,
          0.20799735808636477,
          0.22878187283990298,
          0.25264947855669895,
          0.2684595535495209
         ],
         "b": [
          0.42500741165178846,
          0.4870599477837956,
          0.5662693471625005,
          0.6475249255587385,
          0.6952529262035699,
          0.6785983675964817,
          0.6576229403163945,
          0.6614752020413572,
          0.6724194224893646,
          0.6502207657111071,
          0.6000581017028748,
          0.5396097393653728,
          0.4924757248616645,
          0.45862632161734096,
          0.43166768526289695
         ],
         "c": [
          0.21607061460944257,
          0.28014116012218093,
          0.19582138038769017,
          0.14826789134899923,
          0.13692225261143642,
          0.14394000968628382,
          0.17359543085210824,
          0.157846217170296,
          0.13579737414834248,
          0.15693669703650115,
          0.20392073975057406,
          0.2523929025482623,
          0.27874240229843267,
          0.28872419982596015,
          0.2998727611875822
         ],
         "line": {
          "color": "grey",
          "width": 0.25
         },
         "marker": {
          "color": "silver",
          "line": {
           "color": "black",
           "width": 0
          },
          "opacity": 0.9,
          "size": 6
         },
         "mode": "lines+text",
         "name": "RWA",
         "showlegend": false,
         "subplot": "ternary",
         "text": [
          "",
          "",
          "",
          "",
          "",
          "",
          "",
          "",
          "",
          "",
          "",
          "",
          "",
          "",
          ""
         ],
         "textfont": {
          "color": "black",
          "size": 4.818951929754714
         },
         "type": "scatterternary"
        },
        {
         "a": [
          0.35892197373876916,
          0.2327988920940235,
          0.23790927244980956,
          0.20420718309226243,
          0.1678248211849938
         ],
         "b": [
          0.42500741165178846,
          0.4870599477837956,
          0.5662693471625005,
          0.6475249255587385,
          0.6952529262035699
         ],
         "c": [
          0.21607061460944257,
          0.28014116012218093,
          0.19582138038769017,
          0.14826789134899923,
          0.13692225261143642
         ],
         "line": {
          "color": "grey",
          "width": 0.25
         },
         "marker": {
          "color": "silver",
          "line": {
           "color": "black",
           "width": 0
          },
          "opacity": 0.9,
          "size": 6
         },
         "mode": "lines+text",
         "name": "RWA",
         "showlegend": false,
         "subplot": "ternary",
         "text": [
          "",
          "",
          "",
          "",
          "",
          "",
          "",
          "",
          "",
          "",
          "",
          "",
          "",
          "",
          ""
         ],
         "textfont": {
          "color": "black",
          "size": 4.818951929754714
         },
         "type": "scatterternary"
        },
        {
         "a": [
          0,
          0,
          0,
          0,
          0,
          0,
          0,
          0,
          0,
          0,
          0,
          0,
          0,
          0,
          0
         ],
         "b": [
          0,
          0,
          0,
          0,
          0,
          0,
          0,
          0,
          0,
          0,
          0,
          0,
          0,
          0,
          0
         ],
         "c": [
          0,
          0,
          0,
          0,
          0,
          0,
          0,
          0,
          0,
          0,
          0,
          0,
          0,
          0,
          0
         ],
         "line": {
          "color": "grey",
          "width": 0.25
         },
         "marker": {
          "color": "silver",
          "line": {
           "color": "black",
           "width": 0
          },
          "opacity": 0.9,
          "size": 6
         },
         "mode": "lines+text",
         "name": "KNA",
         "showlegend": false,
         "subplot": "ternary",
         "text": [
          "",
          "",
          "",
          "",
          "",
          "",
          "",
          "",
          "",
          "",
          "",
          "",
          "",
          "",
          ""
         ],
         "textfont": {
          "color": "black",
          "size": 2.3694187025678044
         },
         "type": "scatterternary"
        },
        {
         "a": [
          0,
          0,
          0,
          0,
          0
         ],
         "b": [
          0,
          0,
          0,
          0,
          0
         ],
         "c": [
          0,
          0,
          0,
          0,
          0
         ],
         "line": {
          "color": "grey",
          "width": 0.25
         },
         "marker": {
          "color": "silver",
          "line": {
           "color": "black",
           "width": 0
          },
          "opacity": 0.9,
          "size": 6
         },
         "mode": "lines+text",
         "name": "KNA",
         "showlegend": false,
         "subplot": "ternary",
         "text": [
          "",
          "",
          "",
          "",
          "",
          "",
          "",
          "",
          "",
          "",
          "",
          "",
          "",
          "",
          ""
         ],
         "textfont": {
          "color": "black",
          "size": 2.3694187025678044
         },
         "type": "scatterternary"
        },
        {
         "a": [
          0.8328306455385561,
          0.7904375177200904,
          0.7440965636570337,
          0.6985266977921025,
          0.6418531521162141,
          0.5887695634189131,
          0.5358739392805194,
          0.4942523519878421,
          0.46364544272114616,
          0.44001623613066443,
          0.41950293767093894,
          0.40349692147863736,
          0.39149106308979076,
          0.38001087147098717,
          0.3693665359957362
         ],
         "b": [
          0.06564030427566366,
          0.0997639126947163,
          0.1343631628433728,
          0.16324426880644838,
          0.2051950980822878,
          0.25115174894466097,
          0.3006284814044894,
          0.3450905268290537,
          0.3787586025155664,
          0.4084436832786329,
          0.43509565526979654,
          0.45757000927218416,
          0.47381785395607984,
          0.48905863512595044,
          0.5029870660508133
         ],
         "c": [
          0.10152905018578001,
          0.1097985695851931,
          0.12154027349959354,
          0.13822903340144918,
          0.15295174980149814,
          0.16007868763642596,
          0.16349757931499123,
          0.16065712118310416,
          0.1575959547632873,
          0.15154008059070279,
          0.1454014070592644,
          0.13893306924917836,
          0.13469108295412938,
          0.13093049340306237,
          0.12764639795345042
         ],
         "line": {
          "color": "grey",
          "width": 0.25
         },
         "marker": {
          "color": "silver",
          "line": {
           "color": "black",
           "width": 0
          },
          "opacity": 0.9,
          "size": 6
         },
         "mode": "lines+text",
         "name": "LCA",
         "showlegend": false,
         "subplot": "ternary",
         "text": [
          "",
          "",
          "",
          "",
          "",
          "",
          "",
          "",
          "",
          "",
          "",
          "",
          "",
          "",
          ""
         ],
         "textfont": {
          "color": "black",
          "size": 1.6880149398668778
         },
         "type": "scatterternary"
        },
        {
         "a": [
          0.8328306455385561,
          0.7904375177200904,
          0.7440965636570337,
          0.6985266977921025,
          0.6418531521162141
         ],
         "b": [
          0.06564030427566366,
          0.0997639126947163,
          0.1343631628433728,
          0.16324426880644838,
          0.2051950980822878
         ],
         "c": [
          0.10152905018578001,
          0.1097985695851931,
          0.12154027349959354,
          0.13822903340144918,
          0.15295174980149814
         ],
         "line": {
          "color": "grey",
          "width": 0.25
         },
         "marker": {
          "color": "silver",
          "line": {
           "color": "black",
           "width": 0
          },
          "opacity": 0.9,
          "size": 6
         },
         "mode": "lines+text",
         "name": "LCA",
         "showlegend": false,
         "subplot": "ternary",
         "text": [
          "",
          "",
          "",
          "",
          "",
          "",
          "",
          "",
          "",
          "",
          "",
          "",
          "",
          "",
          ""
         ],
         "textfont": {
          "color": "black",
          "size": 1.6880149398668778
         },
         "type": "scatterternary"
        },
        {
         "a": [
          0.8389237691163087,
          0.7957033870048561,
          0.7518133193708355,
          0.7141292924432694,
          0.6665217654473495,
          0.619257116742486,
          0.5685820527797674,
          0.5291207972459366,
          0.4940236487655547,
          0.4677326383154068,
          0.44521437652198526,
          0.4271424681340841,
          0.41482502287738254,
          0.40338178431632093,
          0.3935936860639112
         ],
         "b": [
          0.060010594359624164,
          0.0946609231872516,
          0.1253432997570132,
          0.14418341392859904,
          0.1751553126355528,
          0.21330576206574683,
          0.25900651288771903,
          0.30037159564718147,
          0.3389952786963923,
          0.3719736345707747,
          0.4011921600468449,
          0.4258040840839903,
          0.4445959303617376,
          0.4576430354945719,
          0.4703338892231551
         ],
         "c": [
          0.10106563652406729,
          0.10963568980789228,
          0.12284338087215105,
          0.14168729362813162,
          0.1583229219170977,
          0.16743712119176726,
          0.17241143433251369,
          0.17050760710688204,
          0.16698107253805305,
          0.16029372711381829,
          0.15359346343116978,
          0.14705344778192547,
          0.14057904676088004,
          0.13897518018910715,
          0.13607242471293382
         ],
         "line": {
          "color": "grey",
          "width": 0.25
         },
         "marker": {
          "color": "silver",
          "line": {
           "color": "black",
           "width": 0
          },
          "opacity": 0.9,
          "size": 6
         },
         "mode": "lines+text",
         "name": "VCT",
         "showlegend": false,
         "subplot": "ternary",
         "text": [
          "",
          "",
          "",
          "",
          "",
          "",
          "",
          "",
          "",
          "",
          "",
          "",
          "",
          "",
          ""
         ],
         "textfont": {
          "color": "black",
          "size": 1.5553006739912374
         },
         "type": "scatterternary"
        },
        {
         "a": [
          0.8389237691163087,
          0.7957033870048561,
          0.7518133193708355,
          0.7141292924432694,
          0.6665217654473495
         ],
         "b": [
          0.060010594359624164,
          0.0946609231872516,
          0.1253432997570132,
          0.14418341392859904,
          0.1751553126355528
         ],
         "c": [
          0.10106563652406729,
          0.10963568980789228,
          0.12284338087215105,
          0.14168729362813162,
          0.1583229219170977
         ],
         "line": {
          "color": "grey",
          "width": 0.25
         },
         "marker": {
          "color": "silver",
          "line": {
           "color": "black",
           "width": 0
          },
          "opacity": 0.9,
          "size": 6
         },
         "mode": "lines+text",
         "name": "VCT",
         "showlegend": false,
         "subplot": "ternary",
         "text": [
          "",
          "",
          "",
          "",
          "",
          "",
          "",
          "",
          "",
          "",
          "",
          "",
          "",
          "",
          ""
         ],
         "textfont": {
          "color": "black",
          "size": 1.5553006739912374
         },
         "type": "scatterternary"
        },
        {
         "a": [
          0.5951917917188518,
          0.5487491722036716,
          0.5163687625453174,
          0.4786967911641796,
          0.4405599423620121,
          0.40299406687483563,
          0.3684535503591147,
          0.342391453737648,
          0.3209699432360017,
          0.30687319450085787,
          0.29496236628596706,
          0.2859217964025883,
          0.27800331723027777,
          0.2711429611536869,
          0.2650021011100213
         ],
         "b": [
          0.3051444066850915,
          0.34812207655252997,
          0.37432532549527936,
          0.405062220594853,
          0.4386563803036436,
          0.47480842303706455,
          0.509985601148085,
          0.5391330655422042,
          0.5637416658665275,
          0.5812703239382936,
          0.5964177176218137,
          0.6083555413349908,
          0.6188864374061619,
          0.627692355574043,
          0.6355723548996144
         ],
         "c": [
          0.09966380159605674,
          0.10312875124379842,
          0.10930591195940334,
          0.1162409882409675,
          0.1207836773343442,
          0.12219751008809976,
          0.12156084849280056,
          0.11847548072014798,
          0.11528839089747081,
          0.11185648156084853,
          0.10861991609221915,
          0.10572266226242077,
          0.10311024536356034,
          0.10116468327227016,
          0.09942554399036414
         ],
         "line": {
          "color": "grey",
          "width": 0.25
         },
         "marker": {
          "color": "silver",
          "line": {
           "color": "black",
           "width": 0
          },
          "opacity": 0.9,
          "size": 6
         },
         "mode": "lines+text",
         "name": "WSM",
         "showlegend": false,
         "subplot": "ternary",
         "text": [
          "",
          "",
          "",
          "",
          "",
          "",
          "",
          "",
          "",
          "",
          "",
          "",
          "",
          "",
          ""
         ],
         "textfont": {
          "color": "black",
          "size": 1.7378000063417214
         },
         "type": "scatterternary"
        },
        {
         "a": [
          0.5951917917188518,
          0.5487491722036716,
          0.5163687625453174,
          0.4786967911641796,
          0.4405599423620121
         ],
         "b": [
          0.3051444066850915,
          0.34812207655252997,
          0.37432532549527936,
          0.405062220594853,
          0.4386563803036436
         ],
         "c": [
          0.09966380159605674,
          0.10312875124379842,
          0.10930591195940334,
          0.1162409882409675,
          0.1207836773343442
         ],
         "line": {
          "color": "grey",
          "width": 0.25
         },
         "marker": {
          "color": "silver",
          "line": {
           "color": "black",
           "width": 0
          },
          "opacity": 0.9,
          "size": 6
         },
         "mode": "lines+text",
         "name": "WSM",
         "showlegend": false,
         "subplot": "ternary",
         "text": [
          "",
          "",
          "",
          "",
          "",
          "",
          "",
          "",
          "",
          "",
          "",
          "",
          "",
          "",
          ""
         ],
         "textfont": {
          "color": "black",
          "size": 1.7378000063417214
         },
         "type": "scatterternary"
        },
        {
         "a": [
          0,
          0,
          0,
          0,
          0,
          0,
          0,
          0,
          0,
          0,
          0,
          0,
          0,
          0,
          0
         ],
         "b": [
          0,
          0,
          0,
          0,
          0,
          0,
          0,
          0,
          0,
          0,
          0,
          0,
          0,
          0,
          0
         ],
         "c": [
          0,
          0,
          0,
          0,
          0,
          0,
          0,
          0,
          0,
          0,
          0,
          0,
          0,
          0,
          0
         ],
         "line": {
          "color": "grey",
          "width": 0.25
         },
         "marker": {
          "color": "silver",
          "line": {
           "color": "black",
           "width": 0
          },
          "opacity": 0.9,
          "size": 6
         },
         "mode": "lines+text",
         "name": "SMR",
         "showlegend": false,
         "subplot": "ternary",
         "text": [
          "",
          "",
          "",
          "",
          "",
          "",
          "",
          "",
          "",
          "",
          "",
          "",
          "",
          "",
          ""
         ],
         "textfont": {
          "color": "black",
          "size": 2.3694187025678044
         },
         "type": "scatterternary"
        },
        {
         "a": [
          0,
          0,
          0,
          0,
          0
         ],
         "b": [
          0,
          0,
          0,
          0,
          0
         ],
         "c": [
          0,
          0,
          0,
          0,
          0
         ],
         "line": {
          "color": "grey",
          "width": 0.25
         },
         "marker": {
          "color": "silver",
          "line": {
           "color": "black",
           "width": 0
          },
          "opacity": 0.9,
          "size": 6
         },
         "mode": "lines+text",
         "name": "SMR",
         "showlegend": false,
         "subplot": "ternary",
         "text": [
          "",
          "",
          "",
          "",
          "",
          "",
          "",
          "",
          "",
          "",
          "",
          "",
          "",
          "",
          ""
         ],
         "textfont": {
          "color": "black",
          "size": 2.3694187025678044
         },
         "type": "scatterternary"
        },
        {
         "a": [
          0.43568289023600265,
          0.41991801433259096,
          0.4028635613588103,
          0.37553444474411046,
          0.33917900324702005,
          0.3072624868419847,
          0.2803300681873747,
          0.2606149510789791,
          0.24429260835619732,
          0.2336008353955477,
          0.2241880648687199,
          0.21689285846499273,
          0.21141953945584316,
          0.20642988501487702,
          0.2009729978149142
         ],
         "b": [
          0.4839440738977262,
          0.49767059258257096,
          0.5114159481636786,
          0.5350593701183434,
          0.5714280894384485,
          0.6039157225480905,
          0.631192101754402,
          0.6509495815278162,
          0.6668737156526215,
          0.6770053246445824,
          0.6856074932875033,
          0.6931669568987873,
          0.699899589313013,
          0.7069826348842254,
          0.7157789709883389
         ],
         "c": [
          0.08037303586627095,
          0.08241139308483822,
          0.08572049047751093,
          0.08940618513754614,
          0.08939290731453137,
          0.08882179060992498,
          0.08847783005822331,
          0.08843546739320458,
          0.08883367599118114,
          0.08939383995987003,
          0.09020444184377684,
          0.0899401846362201,
          0.08868087123114375,
          0.08658748010089756,
          0.08324803119674694
         ],
         "line": {
          "color": "grey",
          "width": 0.25
         },
         "marker": {
          "color": "silver",
          "line": {
           "color": "black",
           "width": 0
          },
          "opacity": 0.9,
          "size": 6
         },
         "mode": "lines+text",
         "name": "STP",
         "showlegend": false,
         "subplot": "ternary",
         "text": [
          "",
          "",
          "",
          "",
          "",
          "",
          "",
          "",
          "",
          "",
          "",
          "",
          "",
          "",
          ""
         ],
         "textfont": {
          "color": "black",
          "size": 1.74215496987358
         },
         "type": "scatterternary"
        },
        {
         "a": [
          0.43568289023600265,
          0.41991801433259096,
          0.4028635613588103,
          0.37553444474411046,
          0.33917900324702005
         ],
         "b": [
          0.4839440738977262,
          0.49767059258257096,
          0.5114159481636786,
          0.5350593701183434,
          0.5714280894384485
         ],
         "c": [
          0.08037303586627095,
          0.08241139308483822,
          0.08572049047751093,
          0.08940618513754614,
          0.08939290731453137
         ],
         "line": {
          "color": "grey",
          "width": 0.25
         },
         "marker": {
          "color": "silver",
          "line": {
           "color": "black",
           "width": 0
          },
          "opacity": 0.9,
          "size": 6
         },
         "mode": "lines+text",
         "name": "STP",
         "showlegend": false,
         "subplot": "ternary",
         "text": [
          "",
          "",
          "",
          "",
          "",
          "",
          "",
          "",
          "",
          "",
          "",
          "",
          "",
          "",
          ""
         ],
         "textfont": {
          "color": "black",
          "size": 1.74215496987358
         },
         "type": "scatterternary"
        },
        {
         "a": [
          0.8264211752708066,
          0.7521590685601418,
          0.641214932721055,
          0.550117290724958,
          0.4476956497855804,
          0.3632789415026725,
          0.28857577647136773,
          0.2464151425305338,
          0.21614170834663016,
          0.1989062922496232,
          0.1887928007434384,
          0.1777313506267706,
          0.16267143130601902,
          0.14879641763731452,
          0.13686875661363868
         ],
         "b": [
          0.0817478306422662,
          0.15424927699634813,
          0.26269945396254063,
          0.34814058231225603,
          0.4428607411184426,
          0.512421313008706,
          0.5765717706587833,
          0.6084797641204289,
          0.6284606108111844,
          0.6331567768200658,
          0.6316719607384647,
          0.6229010736657238,
          0.6069575157310322,
          0.5945933699162442,
          0.5857038285990309
         ],
         "c": [
          0.09183099408692749,
          0.09359165444351022,
          0.09608561331640439,
          0.10174212696278588,
          0.10944360909597696,
          0.12429974548862154,
          0.13485245286984895,
          0.14510509334903723,
          0.15539768084218553,
          0.1679369309303109,
          0.17953523851809705,
          0.19936757570750538,
          0.2303710529629487,
          0.25661021244644133,
          0.27742741478733024
         ],
         "line": {
          "color": "grey",
          "width": 0.25
         },
         "marker": {
          "color": "silver",
          "line": {
           "color": "black",
           "width": 0
          },
          "opacity": 0.9,
          "size": 6
         },
         "mode": "lines+text",
         "name": "SAU",
         "showlegend": false,
         "subplot": "ternary",
         "text": [
          "",
          "",
          "",
          "",
          "",
          "",
          "",
          "",
          "",
          "",
          "",
          "",
          "",
          "",
          ""
         ],
         "textfont": {
          "color": "black",
          "size": 6.756565357804389
         },
         "type": "scatterternary"
        },
        {
         "a": [
          0.8264211752708066,
          0.7521590685601418,
          0.641214932721055,
          0.550117290724958,
          0.4476956497855804
         ],
         "b": [
          0.0817478306422662,
          0.15424927699634813,
          0.26269945396254063,
          0.34814058231225603,
          0.4428607411184426
         ],
         "c": [
          0.09183099408692749,
          0.09359165444351022,
          0.09608561331640439,
          0.10174212696278588,
          0.10944360909597696
         ],
         "line": {
          "color": "grey",
          "width": 0.25
         },
         "marker": {
          "color": "silver",
          "line": {
           "color": "black",
           "width": 0
          },
          "opacity": 0.9,
          "size": 6
         },
         "mode": "lines+text",
         "name": "SAU",
         "showlegend": false,
         "subplot": "ternary",
         "text": [
          "",
          "",
          "",
          "",
          "",
          "",
          "",
          "",
          "",
          "",
          "",
          "",
          "",
          "",
          ""
         ],
         "textfont": {
          "color": "black",
          "size": 6.756565357804389
         },
         "type": "scatterternary"
        },
        {
         "a": [
          0.4621412357386451,
          0.43307542533952725,
          0.4023927659245059,
          0.3709949906546449,
          0.33629795601903806,
          0.30935446793697596,
          0.2876354860459621,
          0.2729510890448212,
          0.2613917162157496,
          0.254654066996053,
          0.24720104799702386,
          0.24089496417831943,
          0.23767063422776052,
          0.2326927504461419,
          0.22463442472612785
         ],
         "b": [
          0.45178653261658885,
          0.47883444451646806,
          0.5080322822412702,
          0.5368395311432457,
          0.571938611107906,
          0.5977100542280347,
          0.6166576305628474,
          0.6280180520189396,
          0.635831924305359,
          0.6403306734467972,
          0.6457429197721253,
          0.6555846328044479,
          0.6621215060337414,
          0.6717351762442945,
          0.6840451481903269
         ],
         "c": [
          0.08607223164476599,
          0.08809013014400494,
          0.08957495183422395,
          0.09216547820210932,
          0.09176343287305581,
          0.09293547783498936,
          0.09570688339119052,
          0.09903085893623942,
          0.10277635947889122,
          0.10501525955714971,
          0.10705603223085093,
          0.10352040301723271,
          0.100207859738498,
          0.09557207330956378,
          0.09132042708354532
         ],
         "line": {
          "color": "grey",
          "width": 0.25
         },
         "marker": {
          "color": "silver",
          "line": {
           "color": "black",
           "width": 0
          },
          "opacity": 0.9,
          "size": 6
         },
         "mode": "lines+text",
         "name": "SEN",
         "showlegend": false,
         "subplot": "ternary",
         "text": [
          "",
          "",
          "",
          "",
          "",
          "",
          "",
          "",
          "",
          "",
          "",
          "",
          "",
          "",
          ""
         ],
         "textfont": {
          "color": "black",
          "size": 5.1735733432152085
         },
         "type": "scatterternary"
        },
        {
         "a": [
          0.4621412357386451,
          0.43307542533952725,
          0.4023927659245059,
          0.3709949906546449,
          0.33629795601903806
         ],
         "b": [
          0.45178653261658885,
          0.47883444451646806,
          0.5080322822412702,
          0.5368395311432457,
          0.571938611107906
         ],
         "c": [
          0.08607223164476599,
          0.08809013014400494,
          0.08957495183422395,
          0.09216547820210932,
          0.09176343287305581
         ],
         "line": {
          "color": "grey",
          "width": 0.25
         },
         "marker": {
          "color": "silver",
          "line": {
           "color": "black",
           "width": 0
          },
          "opacity": 0.9,
          "size": 6
         },
         "mode": "lines+text",
         "name": "SEN",
         "showlegend": false,
         "subplot": "ternary",
         "text": [
          "",
          "",
          "",
          "",
          "",
          "",
          "",
          "",
          "",
          "",
          "",
          "",
          "",
          "",
          ""
         ],
         "textfont": {
          "color": "black",
          "size": 5.1735733432152085
         },
         "type": "scatterternary"
        },
        {
         "a": [
          0.8335930590707105,
          0.7736970261978843,
          0.6984956441081859,
          0.6162820810727301,
          0.5313267511156377,
          0.45386719389482844,
          0.3773724936616989,
          0.31867696833005377,
          0.272167647557493,
          0.2411152289630792,
          0.2172369805131667,
          0.1988576171071205,
          0.18502964765133575,
          0.17201703906985716,
          0.1606318085517116
         ],
         "b": [
          0.07637091929963521,
          0.13024650600235022,
          0.19855236552179975,
          0.27335850980273235,
          0.3518227625810506,
          0.42659379441686135,
          0.5049793362159669,
          0.5705807312646894,
          0.6238552635014762,
          0.6615515284386618,
          0.6912534235502602,
          0.7151303595757246,
          0.7334960668417607,
          0.7500034216065021,
          0.7657301847935262
         ],
         "c": [
          0.09003602162965456,
          0.09605646779976555,
          0.10295199037001421,
          0.11035940912453757,
          0.11685048630331149,
          0.11953901168830998,
          0.11764817012233413,
          0.11074230040525654,
          0.10397708894103083,
          0.0973332425982587,
          0.09150959593657308,
          0.08601202331715502,
          0.08147428550690375,
          0.07797953932364084,
          0.07363800665476236
         ],
         "line": {
          "color": "grey",
          "width": 0.25
         },
         "marker": {
          "color": "silver",
          "line": {
           "color": "black",
           "width": 0
          },
          "opacity": 0.9,
          "size": 6
         },
         "mode": "lines+text",
         "name": "SRB",
         "showlegend": false,
         "subplot": "ternary",
         "text": [
          "",
          "",
          "",
          "",
          "",
          "",
          "",
          "",
          "",
          "",
          "",
          "",
          "",
          "",
          ""
         ],
         "textfont": {
          "color": "black",
          "size": 4.046873420342817
         },
         "type": "scatterternary"
        },
        {
         "a": [
          0.8335930590707105,
          0.7736970261978843,
          0.6984956441081859,
          0.6162820810727301,
          0.5313267511156377
         ],
         "b": [
          0.07637091929963521,
          0.13024650600235022,
          0.19855236552179975,
          0.27335850980273235,
          0.3518227625810506
         ],
         "c": [
          0.09003602162965456,
          0.09605646779976555,
          0.10295199037001421,
          0.11035940912453757,
          0.11685048630331149
         ],
         "line": {
          "color": "grey",
          "width": 0.25
         },
         "marker": {
          "color": "silver",
          "line": {
           "color": "black",
           "width": 0
          },
          "opacity": 0.9,
          "size": 6
         },
         "mode": "lines+text",
         "name": "SRB",
         "showlegend": false,
         "subplot": "ternary",
         "text": [
          "",
          "",
          "",
          "",
          "",
          "",
          "",
          "",
          "",
          "",
          "",
          "",
          "",
          "",
          ""
         ],
         "textfont": {
          "color": "black",
          "size": 4.046873420342817
         },
         "type": "scatterternary"
        },
        {
         "a": [
          0,
          0,
          0,
          0,
          0,
          0,
          0,
          0,
          0,
          0,
          0,
          0,
          0,
          0,
          0
         ],
         "b": [
          0,
          0,
          0,
          0,
          0,
          0,
          0,
          0,
          0,
          0,
          0,
          0,
          0,
          0,
          0
         ],
         "c": [
          0,
          0,
          0,
          0,
          0,
          0,
          0,
          0,
          0,
          0,
          0,
          0,
          0,
          0,
          0
         ],
         "line": {
          "color": "grey",
          "width": 0.25
         },
         "marker": {
          "color": "silver",
          "line": {
           "color": "black",
           "width": 0
          },
          "opacity": 0.9,
          "size": 6
         },
         "mode": "lines+text",
         "name": "SYC",
         "showlegend": false,
         "subplot": "ternary",
         "text": [
          "",
          "",
          "",
          "",
          "",
          "",
          "",
          "",
          "",
          "",
          "",
          "",
          "",
          "",
          ""
         ],
         "textfont": {
          "color": "black",
          "size": 1.5559428799785833
         },
         "type": "scatterternary"
        },
        {
         "a": [
          0,
          0,
          0,
          0,
          0
         ],
         "b": [
          0,
          0,
          0,
          0,
          0
         ],
         "c": [
          0,
          0,
          0,
          0,
          0
         ],
         "line": {
          "color": "grey",
          "width": 0.25
         },
         "marker": {
          "color": "silver",
          "line": {
           "color": "black",
           "width": 0
          },
          "opacity": 0.9,
          "size": 6
         },
         "mode": "lines+text",
         "name": "SYC",
         "showlegend": false,
         "subplot": "ternary",
         "text": [
          "",
          "",
          "",
          "",
          "",
          "",
          "",
          "",
          "",
          "",
          "",
          "",
          "",
          "",
          ""
         ],
         "textfont": {
          "color": "black",
          "size": 1.5559428799785833
         },
         "type": "scatterternary"
        },
        {
         "a": [
          0.6447337386091556,
          0.6095216023068332,
          0.5635861828044968,
          0.5074184777228001,
          0.4482097427988813,
          0.39184732079159396,
          0.33935598805711964,
          0.3010748981219635,
          0.27203151212106935,
          0.2546299053574224,
          0.238501567461246,
          0.22555133830726734,
          0.21477936802835051,
          0.2059543860267422,
          0.20056578370996436
         ],
         "b": [
          0.25421086900396683,
          0.2854774986837153,
          0.32815041898533537,
          0.38194929690393675,
          0.44117770062964806,
          0.49550384431234806,
          0.5429216277813829,
          0.5690850712980884,
          0.5812659829230331,
          0.5780499165255717,
          0.5690345084074816,
          0.557740491068149,
          0.5484924254966567,
          0.5400571550453479,
          0.535555195391754
         ],
         "c": [
          0.10105539238687784,
          0.10500089900945157,
          0.10826339821016784,
          0.11063222537326295,
          0.11061255657147083,
          0.11264883489605794,
          0.11772238416149731,
          0.1298400305799481,
          0.14670250495589743,
          0.1673201781170059,
          0.19246392413127245,
          0.21670817062458375,
          0.23672820647499285,
          0.2539884589279098,
          0.2638790208982814
         ],
         "line": {
          "color": "grey",
          "width": 0.25
         },
         "marker": {
          "color": "silver",
          "line": {
           "color": "black",
           "width": 0
          },
          "opacity": 0.9,
          "size": 6
         },
         "mode": "lines+text",
         "name": "SLE",
         "showlegend": false,
         "subplot": "ternary",
         "text": [
          "",
          "",
          "",
          "",
          "",
          "",
          "",
          "",
          "",
          "",
          "",
          "",
          "",
          "",
          ""
         ],
         "textfont": {
          "color": "black",
          "size": 4.1680383806054895
         },
         "type": "scatterternary"
        },
        {
         "a": [
          0.6447337386091556,
          0.6095216023068332,
          0.5635861828044968,
          0.5074184777228001,
          0.4482097427988813
         ],
         "b": [
          0.25421086900396683,
          0.2854774986837153,
          0.32815041898533537,
          0.38194929690393675,
          0.44117770062964806
         ],
         "c": [
          0.10105539238687784,
          0.10500089900945157,
          0.10826339821016784,
          0.11063222537326295,
          0.11061255657147083
         ],
         "line": {
          "color": "grey",
          "width": 0.25
         },
         "marker": {
          "color": "silver",
          "line": {
           "color": "black",
           "width": 0
          },
          "opacity": 0.9,
          "size": 6
         },
         "mode": "lines+text",
         "name": "SLE",
         "showlegend": false,
         "subplot": "ternary",
         "text": [
          "",
          "",
          "",
          "",
          "",
          "",
          "",
          "",
          "",
          "",
          "",
          "",
          "",
          "",
          ""
         ],
         "textfont": {
          "color": "black",
          "size": 4.1680383806054895
         },
         "type": "scatterternary"
        },
        {
         "a": [
          0.7093042135024996,
          0.5820552167875154,
          0.4460621216395727,
          0.35564682599191366,
          0.2764342474881855,
          0.22523500433500918,
          0.17716108465177371,
          0.1419516303856253,
          0.11782659061634476,
          0.10478618902106213,
          0.09814656568237953,
          0.09122531284084531,
          0.08589980777413755,
          0.08071943932276678,
          0.08203294230930198
         ],
         "b": [
          0.21023593427321915,
          0.34178858107841487,
          0.4823278034226618,
          0.5700899046221588,
          0.6344016009486695,
          0.6643186771192309,
          0.6807576852601024,
          0.6672150998288727,
          0.6491623229765072,
          0.6237569968125256,
          0.6025807105377988,
          0.5766214876300003,
          0.5521723908872401,
          0.5303415383557074,
          0.5131745080772786
         ],
         "c": [
          0.08045985222428152,
          0.07615620213406987,
          0.07161007493776553,
          0.07426326938592756,
          0.08916415156314508,
          0.11044631854575993,
          0.14208123008812376,
          0.19083326978550208,
          0.23301108640714796,
          0.27145681416641226,
          0.29927272377982156,
          0.33215319952915445,
          0.3619278013386221,
          0.3889390223215257,
          0.4047925496134195
         ],
         "line": {
          "color": "grey",
          "width": 0.25
         },
         "marker": {
          "color": "silver",
          "line": {
           "color": "black",
           "width": 0
          },
          "opacity": 0.9,
          "size": 6
         },
         "mode": "lines+text",
         "name": "SGP",
         "showlegend": false,
         "subplot": "ternary",
         "text": [
          "",
          "",
          "",
          "",
          "",
          "",
          "",
          "",
          "",
          "",
          "",
          "",
          "",
          "",
          ""
         ],
         "textfont": {
          "color": "black",
          "size": 3.784108710085213
         },
         "type": "scatterternary"
        },
        {
         "a": [
          0.7093042135024996,
          0.5820552167875154,
          0.4460621216395727,
          0.35564682599191366,
          0.2764342474881855
         ],
         "b": [
          0.21023593427321915,
          0.34178858107841487,
          0.4823278034226618,
          0.5700899046221588,
          0.6344016009486695
         ],
         "c": [
          0.08045985222428152,
          0.07615620213406987,
          0.07161007493776553,
          0.07426326938592756,
          0.08916415156314508
         ],
         "line": {
          "color": "grey",
          "width": 0.25
         },
         "marker": {
          "color": "silver",
          "line": {
           "color": "black",
           "width": 0
          },
          "opacity": 0.9,
          "size": 6
         },
         "mode": "lines+text",
         "name": "SGP",
         "showlegend": false,
         "subplot": "ternary",
         "text": [
          "",
          "",
          "",
          "",
          "",
          "",
          "",
          "",
          "",
          "",
          "",
          "",
          "",
          "",
          ""
         ],
         "textfont": {
          "color": "black",
          "size": 3.784108710085213
         },
         "type": "scatterternary"
        },
        {
         "a": [
          0,
          0,
          0,
          0,
          0,
          0,
          0,
          0,
          0,
          0,
          0,
          0,
          0,
          0,
          0
         ],
         "b": [
          0,
          0,
          0,
          0,
          0,
          0,
          0,
          0,
          0,
          0,
          0,
          0,
          0,
          0,
          0
         ],
         "c": [
          0,
          0,
          0,
          0,
          0,
          0,
          0,
          0,
          0,
          0,
          0,
          0,
          0,
          0,
          0
         ],
         "line": {
          "color": "grey",
          "width": 0.25
         },
         "marker": {
          "color": "silver",
          "line": {
           "color": "black",
           "width": 0
          },
          "opacity": 0.9,
          "size": 6
         },
         "mode": "lines+text",
         "name": "SVK",
         "showlegend": false,
         "subplot": "ternary",
         "text": [
          "",
          "",
          "",
          "",
          "",
          "",
          "",
          "",
          "",
          "",
          "",
          "",
          "",
          "",
          ""
         ],
         "textfont": {
          "color": "black",
          "size": 3.69982173619677
         },
         "type": "scatterternary"
        },
        {
         "a": [
          0,
          0,
          0,
          0,
          0
         ],
         "b": [
          0,
          0,
          0,
          0,
          0
         ],
         "c": [
          0,
          0,
          0,
          0,
          0
         ],
         "line": {
          "color": "grey",
          "width": 0.25
         },
         "marker": {
          "color": "silver",
          "line": {
           "color": "black",
           "width": 0
          },
          "opacity": 0.9,
          "size": 6
         },
         "mode": "lines+text",
         "name": "SVK",
         "showlegend": false,
         "subplot": "ternary",
         "text": [
          "",
          "",
          "",
          "",
          "",
          "",
          "",
          "",
          "",
          "",
          "",
          "",
          "",
          "",
          ""
         ],
         "textfont": {
          "color": "black",
          "size": 3.69982173619677
         },
         "type": "scatterternary"
        },
        {
         "a": [
          0.8250625887977726,
          0.7636718945882541,
          0.6898221083200538,
          0.6036856947316663,
          0.5067122785725071,
          0.41842944023664164,
          0.33155630985693396,
          0.2678397776355247,
          0.21914573004971682,
          0.18699938634072255,
          0.1633843308533225,
          0.1460046984619174,
          0.13314838876322052,
          0.12136427243748163,
          0.11141784030071522
         ],
         "b": [
          0.08699828368157941,
          0.14375965311503716,
          0.21062420429658346,
          0.28915887293807696,
          0.3801477162231226,
          0.46721429680775073,
          0.5589911491749174,
          0.6308268450075223,
          0.6885095093635408,
          0.7298518066682159,
          0.7622165694827148,
          0.7872866805725646,
          0.8066375191886324,
          0.8237706469876274,
          0.8392092784089562
         ],
         "c": [
          0.08793912752064809,
          0.09256845229670861,
          0.09955368738336272,
          0.10715543233025672,
          0.11314000520437027,
          0.11435626295560766,
          0.10945254096814853,
          0.10133337735695293,
          0.09234476058674242,
          0.08314880699106153,
          0.07439909966396269,
          0.06670862096551801,
          0.060214092048146824,
          0.054865080574890965,
          0.04937288129032831
         ],
         "line": {
          "color": "grey",
          "width": 0.25
         },
         "marker": {
          "color": "silver",
          "line": {
           "color": "black",
           "width": 0
          },
          "opacity": 0.9,
          "size": 6
         },
         "mode": "lines+text",
         "name": "SVN",
         "showlegend": false,
         "subplot": "ternary",
         "text": [
          "",
          "",
          "",
          "",
          "",
          "",
          "",
          "",
          "",
          "",
          "",
          "",
          "",
          "",
          ""
         ],
         "textfont": {
          "color": "black",
          "size": 2.8482620053712755
         },
         "type": "scatterternary"
        },
        {
         "a": [
          0.8250625887977726,
          0.7636718945882541,
          0.6898221083200538,
          0.6036856947316663,
          0.5067122785725071
         ],
         "b": [
          0.08699828368157941,
          0.14375965311503716,
          0.21062420429658346,
          0.28915887293807696,
          0.3801477162231226
         ],
         "c": [
          0.08793912752064809,
          0.09256845229670861,
          0.09955368738336272,
          0.10715543233025672,
          0.11314000520437027
         ],
         "line": {
          "color": "grey",
          "width": 0.25
         },
         "marker": {
          "color": "silver",
          "line": {
           "color": "black",
           "width": 0
          },
          "opacity": 0.9,
          "size": 6
         },
         "mode": "lines+text",
         "name": "SVN",
         "showlegend": false,
         "subplot": "ternary",
         "text": [
          "",
          "",
          "",
          "",
          "",
          "",
          "",
          "",
          "",
          "",
          "",
          "",
          "",
          "",
          ""
         ],
         "textfont": {
          "color": "black",
          "size": 2.8482620053712755
         },
         "type": "scatterternary"
        },
        {
         "a": [
          0.6851883117074634,
          0.6143631970844222,
          0.5442642220834552,
          0.48000848703090926,
          0.4287795546175609,
          0.38703255154897315,
          0.35075304686087083,
          0.32492948494006,
          0.30372010448591735,
          0.28946680637256245,
          0.27738933492927487,
          0.2677671694220738,
          0.2592048282508227,
          0.25086404137982093,
          0.2434166482970761
         ],
         "b": [
          0.21981961600101713,
          0.2814905285411892,
          0.3424733797567822,
          0.4017938680344557,
          0.4514764284622206,
          0.4923535399395061,
          0.5289132533253833,
          0.5572993882361832,
          0.5808840346081583,
          0.597966512489941,
          0.6130260046054913,
          0.6258303829325172,
          0.6376171672954485,
          0.6492567304821021,
          0.660175725843073
         ],
         "c": [
          0.09499207229151935,
          0.1041462743743887,
          0.11326239815976263,
          0.11819764493463514,
          0.11974401692021858,
          0.12061390851152068,
          0.12033369981374577,
          0.11777112682375696,
          0.11539586090592416,
          0.11256668113749653,
          0.10958466046523394,
          0.10640244764540903,
          0.1031780044537289,
          0.09987922813807687,
          0.09640762585985094
         ],
         "line": {
          "color": "grey",
          "width": 0.25
         },
         "marker": {
          "color": "silver",
          "line": {
           "color": "black",
           "width": 0
          },
          "opacity": 0.9,
          "size": 6
         },
         "mode": "lines+text",
         "name": "SLB",
         "showlegend": false,
         "subplot": "ternary",
         "text": [
          "",
          "",
          "",
          "",
          "",
          "",
          "",
          "",
          "",
          "",
          "",
          "",
          "",
          "",
          ""
         ],
         "textfont": {
          "color": "black",
          "size": 2.175650781277322
         },
         "type": "scatterternary"
        },
        {
         "a": [
          0.6851883117074634,
          0.6143631970844222,
          0.5442642220834552,
          0.48000848703090926,
          0.4287795546175609
         ],
         "b": [
          0.21981961600101713,
          0.2814905285411892,
          0.3424733797567822,
          0.4017938680344557,
          0.4514764284622206
         ],
         "c": [
          0.09499207229151935,
          0.1041462743743887,
          0.11326239815976263,
          0.11819764493463514,
          0.11974401692021858
         ],
         "line": {
          "color": "grey",
          "width": 0.25
         },
         "marker": {
          "color": "silver",
          "line": {
           "color": "black",
           "width": 0
          },
          "opacity": 0.9,
          "size": 6
         },
         "mode": "lines+text",
         "name": "SLB",
         "showlegend": false,
         "subplot": "ternary",
         "text": [
          "",
          "",
          "",
          "",
          "",
          "",
          "",
          "",
          "",
          "",
          "",
          "",
          "",
          "",
          ""
         ],
         "textfont": {
          "color": "black",
          "size": 2.175650781277322
         },
         "type": "scatterternary"
        },
        {
         "a": [
          0.47203036994709024,
          0.41502118787511566,
          0.36231339502788756,
          0.3160626518783521,
          0.27593018414270404,
          0.24437165975639738,
          0.22198820252284673,
          0.20368149413593925,
          0.185890446583084,
          0.1757992989649519,
          0.17071044587129264,
          0.1713773151147787,
          0.1766923452558783,
          0.1862943828080617,
          0.19587515105013525
         ],
         "b": [
          0.42243618780932773,
          0.4786075277284471,
          0.5345148105929788,
          0.5790804401229572,
          0.6176222686219021,
          0.6396894239141123,
          0.650241949706837,
          0.6459613286783873,
          0.6312509101415011,
          0.6168973260743272,
          0.6027116338717943,
          0.5934642942469527,
          0.58693940101779,
          0.5882508849197865,
          0.598443692426751
         ],
         "c": [
          0.10553344224358202,
          0.10637128439643714,
          0.10317179437913361,
          0.10485690799869096,
          0.10644754723539396,
          0.11593891632949041,
          0.12776984777031627,
          0.1503571771856734,
          0.1828586432754147,
          0.20730337496072102,
          0.22657792025691315,
          0.23515839063826866,
          0.2363682537263317,
          0.22545473227215176,
          0.20568115652311358
         ],
         "line": {
          "color": "grey",
          "width": 0.25
         },
         "marker": {
          "color": "silver",
          "line": {
           "color": "black",
           "width": 0
          },
          "opacity": 0.9,
          "size": 6
         },
         "mode": "lines+text",
         "name": "SOM",
         "showlegend": false,
         "subplot": "ternary",
         "text": [
          "",
          "",
          "",
          "",
          "",
          "",
          "",
          "",
          "",
          "",
          "",
          "",
          "",
          "",
          ""
         ],
         "textfont": {
          "color": "black",
          "size": 5.179476061819752
         },
         "type": "scatterternary"
        },
        {
         "a": [
          0.47203036994709024,
          0.41502118787511566,
          0.36231339502788756,
          0.3160626518783521,
          0.27593018414270404
         ],
         "b": [
          0.42243618780932773,
          0.4786075277284471,
          0.5345148105929788,
          0.5790804401229572,
          0.6176222686219021
         ],
         "c": [
          0.10553344224358202,
          0.10637128439643714,
          0.10317179437913361,
          0.10485690799869096,
          0.10644754723539396
         ],
         "line": {
          "color": "grey",
          "width": 0.25
         },
         "marker": {
          "color": "silver",
          "line": {
           "color": "black",
           "width": 0
          },
          "opacity": 0.9,
          "size": 6
         },
         "mode": "lines+text",
         "name": "SOM",
         "showlegend": false,
         "subplot": "ternary",
         "text": [
          "",
          "",
          "",
          "",
          "",
          "",
          "",
          "",
          "",
          "",
          "",
          "",
          "",
          "",
          ""
         ],
         "textfont": {
          "color": "black",
          "size": 5.179476061819752
         },
         "type": "scatterternary"
        },
        {
         "a": [
          0.8587591875397181,
          0.8006867524633939,
          0.7284472853742374,
          0.6708794902214739,
          0.6057890263793984,
          0.554744366439959,
          0.49537064931613894,
          0.44769612554202864,
          0.400187203666592,
          0.37079202973413095,
          0.34842013744685313,
          0.32826548176151554,
          0.30953054851374867,
          0.28636440766089505,
          0.2597337047339452
         ],
         "b": [
          0.0500635016982593,
          0.10231738316071529,
          0.16619511994079497,
          0.21065328843832035,
          0.2622434306101634,
          0.3016548375640885,
          0.35311285036453605,
          0.3997195752239777,
          0.4463431381354252,
          0.4731398071973335,
          0.48910501267926904,
          0.49866191189807757,
          0.5046512778566984,
          0.5146269363404281,
          0.527852560532351
         ],
         "c": [
          0.09117731076202264,
          0.09699586437589085,
          0.10535759468496753,
          0.11846722134020593,
          0.13196754301043812,
          0.14360079599595238,
          0.15151650031932493,
          0.1525842992339937,
          0.15346965819798303,
          0.15606816306853533,
          0.1624748498738779,
          0.17307260634040683,
          0.185818173629553,
          0.199008655998677,
          0.21241373473370379
         ],
         "line": {
          "color": "grey",
          "width": 0.25
         },
         "marker": {
          "color": "silver",
          "line": {
           "color": "black",
           "width": 0
          },
          "opacity": 0.9,
          "size": 6
         },
         "mode": "lines+text",
         "name": "ZAF",
         "showlegend": false,
         "subplot": "ternary",
         "text": [
          "",
          "",
          "",
          "",
          "",
          "",
          "",
          "",
          "",
          "",
          "",
          "",
          "",
          "",
          ""
         ],
         "textfont": {
          "color": "black",
          "size": 7.971047493211743
         },
         "type": "scatterternary"
        },
        {
         "a": [
          0.8587591875397181,
          0.8006867524633939,
          0.7284472853742374,
          0.6708794902214739,
          0.6057890263793984
         ],
         "b": [
          0.0500635016982593,
          0.10231738316071529,
          0.16619511994079497,
          0.21065328843832035,
          0.2622434306101634
         ],
         "c": [
          0.09117731076202264,
          0.09699586437589085,
          0.10535759468496753,
          0.11846722134020593,
          0.13196754301043812
         ],
         "line": {
          "color": "grey",
          "width": 0.25
         },
         "marker": {
          "color": "silver",
          "line": {
           "color": "black",
           "width": 0
          },
          "opacity": 0.9,
          "size": 6
         },
         "mode": "lines+text",
         "name": "ZAF",
         "showlegend": false,
         "subplot": "ternary",
         "text": [
          "",
          "",
          "",
          "",
          "",
          "",
          "",
          "",
          "",
          "",
          "",
          "",
          "",
          "",
          ""
         ],
         "textfont": {
          "color": "black",
          "size": 7.971047493211743
         },
         "type": "scatterternary"
        },
        {
         "a": [
          0.8488806680523981,
          0.7992480769310671,
          0.7326326004442603,
          0.6629977536101108,
          0.5688184144900661,
          0.46972690339640333,
          0.36803904221454975,
          0.2983930258487496,
          0.2420592601527402,
          0.20945898218600376,
          0.18505265438423102,
          0.16666076626437765,
          0.15322446993598565,
          0.14011263870686574,
          0.13065156557657026
         ],
         "b": [
          0.062099320688251594,
          0.10641907799529693,
          0.16435739300425123,
          0.22141002339790564,
          0.30463196232282497,
          0.3984692277220672,
          0.5065047856908536,
          0.5882174895615138,
          0.6585782593651981,
          0.704029604200241,
          0.7398102337563889,
          0.7689014668659236,
          0.791422104498202,
          0.8126395716259656,
          0.8287265577148154
         ],
         "c": [
          0.08902001125935002,
          0.09433284507363585,
          0.10301000655148868,
          0.11559222299198368,
          0.12654962318710886,
          0.13180386888152937,
          0.1254561720945968,
          0.11338948458973645,
          0.0993624804820619,
          0.08651141361375539,
          0.0751371118593798,
          0.06443776686969867,
          0.05535342556581215,
          0.04724778966716888,
          0.04062187670861428
         ],
         "line": {
          "color": "grey",
          "width": 0.25
         },
         "marker": {
          "color": "silver",
          "line": {
           "color": "black",
           "width": 0
          },
          "opacity": 0.9,
          "size": 6
         },
         "mode": "lines+text",
         "name": "KOR",
         "showlegend": false,
         "subplot": "ternary",
         "text": [
          "",
          "",
          "",
          "",
          "",
          "",
          "",
          "",
          "",
          "",
          "",
          "",
          "",
          "",
          ""
         ],
         "textfont": {
          "color": "black",
          "size": 7.644510299531274
         },
         "type": "scatterternary"
        },
        {
         "a": [
          0.8488806680523981,
          0.7992480769310671,
          0.7326326004442603,
          0.6629977536101108,
          0.5688184144900661
         ],
         "b": [
          0.062099320688251594,
          0.10641907799529693,
          0.16435739300425123,
          0.22141002339790564,
          0.30463196232282497
         ],
         "c": [
          0.08902001125935002,
          0.09433284507363585,
          0.10301000655148868,
          0.11559222299198368,
          0.12654962318710886
         ],
         "line": {
          "color": "grey",
          "width": 0.25
         },
         "marker": {
          "color": "silver",
          "line": {
           "color": "black",
           "width": 0
          },
          "opacity": 0.9,
          "size": 6
         },
         "mode": "lines+text",
         "name": "KOR",
         "showlegend": false,
         "subplot": "ternary",
         "text": [
          "",
          "",
          "",
          "",
          "",
          "",
          "",
          "",
          "",
          "",
          "",
          "",
          "",
          "",
          ""
         ],
         "textfont": {
          "color": "black",
          "size": 7.644510299531274
         },
         "type": "scatterternary"
        },
        {
         "a": [
          0,
          0,
          0,
          0,
          0,
          0,
          0,
          0,
          0,
          0,
          0,
          0,
          0,
          0,
          0
         ],
         "b": [
          0,
          0,
          0,
          0,
          0,
          0,
          0,
          0,
          0,
          0,
          0,
          0,
          0,
          0,
          0
         ],
         "c": [
          0,
          0,
          0,
          0,
          0,
          0,
          0,
          0,
          0,
          0,
          0,
          0,
          0,
          0,
          0
         ],
         "line": {
          "color": "grey",
          "width": 0.25
         },
         "marker": {
          "color": "silver",
          "line": {
           "color": "black",
           "width": 0
          },
          "opacity": 0.9,
          "size": 6
         },
         "mode": "lines+text",
         "name": "SSD",
         "showlegend": false,
         "subplot": "ternary",
         "text": [
          "",
          "",
          "",
          "",
          "",
          "",
          "",
          "",
          "",
          "",
          "",
          "",
          "",
          "",
          ""
         ],
         "textfont": {
          "color": "black",
          "size": 4.513679302414264
         },
         "type": "scatterternary"
        },
        {
         "a": [
          0,
          0,
          0,
          0,
          0
         ],
         "b": [
          0,
          0,
          0,
          0,
          0
         ],
         "c": [
          0,
          0,
          0,
          0,
          0
         ],
         "line": {
          "color": "grey",
          "width": 0.25
         },
         "marker": {
          "color": "silver",
          "line": {
           "color": "black",
           "width": 0
          },
          "opacity": 0.9,
          "size": 6
         },
         "mode": "lines+text",
         "name": "SSD",
         "showlegend": false,
         "subplot": "ternary",
         "text": [
          "",
          "",
          "",
          "",
          "",
          "",
          "",
          "",
          "",
          "",
          "",
          "",
          "",
          "",
          ""
         ],
         "textfont": {
          "color": "black",
          "size": 4.513679302414264
         },
         "type": "scatterternary"
        },
        {
         "a": [
          0.8165556999234296,
          0.7594576152974322,
          0.7289902822541388,
          0.6982145118744141,
          0.6695536869708211,
          0.6391337901640358,
          0.6080046335338183,
          0.5845637607512724,
          0.5629204776573233,
          0.5488613461123752,
          0.5356186967871437,
          0.5209674756987469,
          0.5076641623697454,
          0.48755116863196457,
          0.468893661490391
         ],
         "b": [
          0.0919645055907267,
          0.14216822786428707,
          0.15787761730483788,
          0.16960041361917633,
          0.1747307477677148,
          0.18377780699006058,
          0.19471046424808455,
          0.20718583245820865,
          0.21900996265172734,
          0.2304888236668189,
          0.2436624488952083,
          0.2614636478393626,
          0.27902749386177,
          0.30398891755704993,
          0.3279427038332926
         ],
         "c": [
          0.09147979448584379,
          0.09837415683828048,
          0.11313210044102343,
          0.13218507450640954,
          0.15571556526146416,
          0.17708840284590366,
          0.1972849022180972,
          0.20825040679051884,
          0.21806955969094943,
          0.2206498302208058,
          0.22071885431764793,
          0.21756887646189038,
          0.21330834376848457,
          0.2084599138109856,
          0.20316363467631646
         ],
         "line": {
          "color": "grey",
          "width": 0.25
         },
         "marker": {
          "color": "silver",
          "line": {
           "color": "black",
           "width": 0
          },
          "opacity": 0.9,
          "size": 6
         },
         "mode": "lines+text",
         "name": "ESP",
         "showlegend": false,
         "subplot": "ternary",
         "text": [
          "",
          "",
          "",
          "",
          "",
          "",
          "",
          "",
          "",
          "",
          "",
          "",
          "",
          "",
          ""
         ],
         "textfont": {
          "color": "black",
          "size": 7.406055419659951
         },
         "type": "scatterternary"
        },
        {
         "a": [
          0.8165556999234296,
          0.7594576152974322,
          0.7289902822541388,
          0.6982145118744141,
          0.6695536869708211
         ],
         "b": [
          0.0919645055907267,
          0.14216822786428707,
          0.15787761730483788,
          0.16960041361917633,
          0.1747307477677148
         ],
         "c": [
          0.09147979448584379,
          0.09837415683828048,
          0.11313210044102343,
          0.13218507450640954,
          0.15571556526146416
         ],
         "line": {
          "color": "grey",
          "width": 0.25
         },
         "marker": {
          "color": "silver",
          "line": {
           "color": "black",
           "width": 0
          },
          "opacity": 0.9,
          "size": 6
         },
         "mode": "lines+text",
         "name": "ESP",
         "showlegend": false,
         "subplot": "ternary",
         "text": [
          "",
          "",
          "",
          "",
          "",
          "",
          "",
          "",
          "",
          "",
          "",
          "",
          "",
          "",
          ""
         ],
         "textfont": {
          "color": "black",
          "size": 7.406055419659951
         },
         "type": "scatterternary"
        },
        {
         "a": [
          0.7540236558603975,
          0.73271878318431,
          0.6969425430308389,
          0.6666044317879222,
          0.6070140391820555,
          0.551106104749661,
          0.492097504012886,
          0.4472356199084937,
          0.4092420824665567,
          0.38556783712096865,
          0.36730819731423925,
          0.35267278535673874,
          0.33800473357105876,
          0.3261854924692901,
          0.31614336162616963
         ],
         "b": [
          0.14621315921335606,
          0.15928471594161325,
          0.18513780859370746,
          0.20088573268461352,
          0.2507475658250997,
          0.30051701079202564,
          0.3586996622917076,
          0.40761680417811413,
          0.44998288683757925,
          0.4777517611545543,
          0.49946550528090583,
          0.5187511518973733,
          0.5379974408291314,
          0.5520030061488856,
          0.5635767923052079
         ],
         "c": [
          0.09976318492624654,
          0.10799650087407671,
          0.11791964837545346,
          0.1325098355274644,
          0.1422383949928448,
          0.14837688445831326,
          0.14920283369540632,
          0.14514757591339214,
          0.14077503069586406,
          0.13668040172447718,
          0.1332262974048549,
          0.12857606274588815,
          0.1239978255998101,
          0.1218115013818243,
          0.12027984606862255
         ],
         "line": {
          "color": "grey",
          "width": 0.25
         },
         "marker": {
          "color": "silver",
          "line": {
           "color": "black",
           "width": 0
          },
          "opacity": 0.9,
          "size": 6
         },
         "mode": "lines+text",
         "name": "LKA",
         "showlegend": false,
         "subplot": "ternary",
         "text": [
          "",
          "",
          "",
          "",
          "",
          "",
          "",
          "",
          "",
          "",
          "",
          "",
          "",
          "",
          ""
         ],
         "textfont": {
          "color": "black",
          "size": 5.687974801578367
         },
         "type": "scatterternary"
        },
        {
         "a": [
          0.7540236558603975,
          0.73271878318431,
          0.6969425430308389,
          0.6666044317879222,
          0.6070140391820555
         ],
         "b": [
          0.14621315921335606,
          0.15928471594161325,
          0.18513780859370746,
          0.20088573268461352,
          0.2507475658250997
         ],
         "c": [
          0.09976318492624654,
          0.10799650087407671,
          0.11791964837545346,
          0.1325098355274644,
          0.1422383949928448
         ],
         "line": {
          "color": "grey",
          "width": 0.25
         },
         "marker": {
          "color": "silver",
          "line": {
           "color": "black",
           "width": 0
          },
          "opacity": 0.9,
          "size": 6
         },
         "mode": "lines+text",
         "name": "LKA",
         "showlegend": false,
         "subplot": "ternary",
         "text": [
          "",
          "",
          "",
          "",
          "",
          "",
          "",
          "",
          "",
          "",
          "",
          "",
          "",
          "",
          ""
         ],
         "textfont": {
          "color": "black",
          "size": 5.687974801578367
         },
         "type": "scatterternary"
        },
        {
         "a": [
          0.63379776526047,
          0.5633109926147225,
          0.470941602394077,
          0.38605158988992594,
          0.3123407882423497,
          0.2562314263744623,
          0.2145149540307134,
          0.17269146627770465,
          0.14110191381278311,
          0.1212931978879413,
          0.10799797170479418,
          0.09818820532410938,
          0.09223812964091861,
          0.09248128460660421,
          0.10595011878365901
         ],
         "b": [
          0.27410633970522186,
          0.3453451448344783,
          0.44091355045384906,
          0.5259383016181455,
          0.5958405729324671,
          0.6384920545535597,
          0.6624445742168695,
          0.6680447975620686,
          0.651159999391357,
          0.6358083208218227,
          0.6192100893179527,
          0.6024625640161438,
          0.5850812111252598,
          0.5698988446969487,
          0.5604971241693413
         ],
         "c": [
          0.09209589503430803,
          0.0913438625507991,
          0.0881448471520738,
          0.08801010849192843,
          0.09181863882518326,
          0.10527651907197808,
          0.12304047175241695,
          0.15926373616022693,
          0.20773808679585992,
          0.24289848129023597,
          0.2727919389772531,
          0.299349230659747,
          0.32268065923382167,
          0.337619870696447,
          0.33355275704699966
         ],
         "line": {
          "color": "grey",
          "width": 0.25
         },
         "marker": {
          "color": "silver",
          "line": {
           "color": "black",
           "width": 0
          },
          "opacity": 0.9,
          "size": 6
         },
         "mode": "lines+text",
         "name": "SDN",
         "showlegend": false,
         "subplot": "ternary",
         "text": [
          "",
          "",
          "",
          "",
          "",
          "",
          "",
          "",
          "",
          "",
          "",
          "",
          "",
          "",
          ""
         ],
         "textfont": {
          "color": "black",
          "size": 7.212081628874308
         },
         "type": "scatterternary"
        },
        {
         "a": [
          0.63379776526047,
          0.5633109926147225,
          0.470941602394077,
          0.38605158988992594,
          0.3123407882423497
         ],
         "b": [
          0.27410633970522186,
          0.3453451448344783,
          0.44091355045384906,
          0.5259383016181455,
          0.5958405729324671
         ],
         "c": [
          0.09209589503430803,
          0.0913438625507991,
          0.0881448471520738,
          0.08801010849192843,
          0.09181863882518326
         ],
         "line": {
          "color": "grey",
          "width": 0.25
         },
         "marker": {
          "color": "silver",
          "line": {
           "color": "black",
           "width": 0
          },
          "opacity": 0.9,
          "size": 6
         },
         "mode": "lines+text",
         "name": "SDN",
         "showlegend": false,
         "subplot": "ternary",
         "text": [
          "",
          "",
          "",
          "",
          "",
          "",
          "",
          "",
          "",
          "",
          "",
          "",
          "",
          "",
          ""
         ],
         "textfont": {
          "color": "black",
          "size": 7.212081628874308
         },
         "type": "scatterternary"
        },
        {
         "a": [
          0.8660068842944828,
          0.8330539395831844,
          0.7789930379162694,
          0.7296793095241425,
          0.6638189500811142,
          0.6076565679951689,
          0.5546600893587423,
          0.513037577388889,
          0.4655051094940045,
          0.43407383887957,
          0.4078211097336596,
          0.3820628561301068,
          0.35417649522658745,
          0.31687749675130417,
          0.2865125970309794
         ],
         "b": [
          0.043943239304177414,
          0.06845711847201157,
          0.10940501735607801,
          0.13886541450338435,
          0.18524113309532672,
          0.2258958468654329,
          0.26727938898830605,
          0.30797657185384114,
          0.35428919924332164,
          0.3894838081498361,
          0.421590095912565,
          0.44884150953384616,
          0.47502157343514817,
          0.5039694654179944,
          0.5384989310675306
         ],
         "c": [
          0.0900498764013396,
          0.09848894194480395,
          0.1116019447276524,
          0.13145527597247303,
          0.150939916823559,
          0.16644758513939828,
          0.1780605216529519,
          0.17898585075726978,
          0.1802056912626738,
          0.1764423529705939,
          0.17058879435377552,
          0.16909563433604696,
          0.17080193133826443,
          0.17915303783070147,
          0.17498847190149008
         ],
         "line": {
          "color": "grey",
          "width": 0.25
         },
         "marker": {
          "color": "silver",
          "line": {
           "color": "black",
           "width": 0
          },
          "opacity": 0.9,
          "size": 6
         },
         "mode": "lines+text",
         "name": "SUR",
         "showlegend": false,
         "subplot": "ternary",
         "text": [
          "",
          "",
          "",
          "",
          "",
          "",
          "",
          "",
          "",
          "",
          "",
          "",
          "",
          "",
          ""
         ],
         "textfont": {
          "color": "black",
          "size": 2.1191685882121507
         },
         "type": "scatterternary"
        },
        {
         "a": [
          0.8660068842944828,
          0.8330539395831844,
          0.7789930379162694,
          0.7296793095241425,
          0.6638189500811142
         ],
         "b": [
          0.043943239304177414,
          0.06845711847201157,
          0.10940501735607801,
          0.13886541450338435,
          0.18524113309532672
         ],
         "c": [
          0.0900498764013396,
          0.09848894194480395,
          0.1116019447276524,
          0.13145527597247303,
          0.150939916823559
         ],
         "line": {
          "color": "grey",
          "width": 0.25
         },
         "marker": {
          "color": "silver",
          "line": {
           "color": "black",
           "width": 0
          },
          "opacity": 0.9,
          "size": 6
         },
         "mode": "lines+text",
         "name": "SUR",
         "showlegend": false,
         "subplot": "ternary",
         "text": [
          "",
          "",
          "",
          "",
          "",
          "",
          "",
          "",
          "",
          "",
          "",
          "",
          "",
          "",
          ""
         ],
         "textfont": {
          "color": "black",
          "size": 2.1191685882121507
         },
         "type": "scatterternary"
        },
        {
         "a": [
          0.750097294924945,
          0.670972326684317,
          0.61144173880468,
          0.548350958371067,
          0.48083003651556244,
          0.4177046469653074,
          0.35878898247726076,
          0.31755532192285835,
          0.28434967793140226,
          0.2625705612830981,
          0.24316721411292838,
          0.22508952003372296,
          0.21071657081842926,
          0.19510811385978566,
          0.1803376971949125
         ],
         "b": [
          0.16641645284898268,
          0.24331827685841376,
          0.2943943304036304,
          0.3472785535699463,
          0.4040507437872447,
          0.46220622314661264,
          0.5223854305370852,
          0.5683401945047587,
          0.6048601403256233,
          0.630329914694806,
          0.6535881945784598,
          0.6758616431894456,
          0.6963761122218323,
          0.7183661439690021,
          0.7400702210866638
         ],
         "c": [
          0.0834862522260722,
          0.08570939645726904,
          0.0941639307916895,
          0.10437048805898708,
          0.11511921969719299,
          0.12008912988808,
          0.11882558698565424,
          0.11410448357238301,
          0.11079018174297439,
          0.10709952402209579,
          0.10324459130861184,
          0.09904883677683152,
          0.09290731695973847,
          0.08652574217121206,
          0.07959208171842377
         ],
         "line": {
          "color": "grey",
          "width": 0.25
         },
         "marker": {
          "color": "silver",
          "line": {
           "color": "black",
           "width": 0
          },
          "opacity": 0.9,
          "size": 6
         },
         "mode": "lines+text",
         "name": "SWE",
         "showlegend": false,
         "subplot": "ternary",
         "text": [
          "",
          "",
          "",
          "",
          "",
          "",
          "",
          "",
          "",
          "",
          "",
          "",
          "",
          "",
          ""
         ],
         "textfont": {
          "color": "black",
          "size": 4.483629296274134
         },
         "type": "scatterternary"
        },
        {
         "a": [
          0.750097294924945,
          0.670972326684317,
          0.61144173880468,
          0.548350958371067,
          0.48083003651556244
         ],
         "b": [
          0.16641645284898268,
          0.24331827685841376,
          0.2943943304036304,
          0.3472785535699463,
          0.4040507437872447
         ],
         "c": [
          0.0834862522260722,
          0.08570939645726904,
          0.0941639307916895,
          0.10437048805898708,
          0.11511921969719299
         ],
         "line": {
          "color": "grey",
          "width": 0.25
         },
         "marker": {
          "color": "silver",
          "line": {
           "color": "black",
           "width": 0
          },
          "opacity": 0.9,
          "size": 6
         },
         "mode": "lines+text",
         "name": "SWE",
         "showlegend": false,
         "subplot": "ternary",
         "text": [
          "",
          "",
          "",
          "",
          "",
          "",
          "",
          "",
          "",
          "",
          "",
          "",
          "",
          "",
          ""
         ],
         "textfont": {
          "color": "black",
          "size": 4.483629296274134
         },
         "type": "scatterternary"
        },
        {
         "a": [
          0.7321541051958198,
          0.6583015555505506,
          0.6332948158284335,
          0.6219019515135892,
          0.6207174406685544,
          0.6151403130757171,
          0.6078785288090809,
          0.6026161606277506,
          0.595769962028283,
          0.5929044270355126,
          0.5895365138963005,
          0.5845612171615525,
          0.5790272539547521,
          0.5688828086387155,
          0.5589049572590902
         ],
         "b": [
          0.1822621860539979,
          0.2521132603320126,
          0.26300348513017713,
          0.2547335477559327,
          0.23132436642638404,
          0.2142556831302896,
          0.19929870840367728,
          0.1917555306766528,
          0.18703531433714643,
          0.18514706931442113,
          0.18586353250502033,
          0.19079084656936177,
          0.19709602747957075,
          0.20799071797013458,
          0.21895530672432334
         ],
         "c": [
          0.08558370875018227,
          0.08958518411743696,
          0.10370169904138939,
          0.12336450073047799,
          0.14795819290506176,
          0.17060400379399324,
          0.19282276278724192,
          0.20562830869559645,
          0.21719472363457076,
          0.22194850365006633,
          0.2245999535986793,
          0.22464793626908597,
          0.22387671856567715,
          0.22312647339114985,
          0.22213973601658646
         ],
         "line": {
          "color": "grey",
          "width": 0.25
         },
         "marker": {
          "color": "silver",
          "line": {
           "color": "black",
           "width": 0
          },
          "opacity": 0.9,
          "size": 6
         },
         "mode": "lines+text",
         "name": "CHE",
         "showlegend": false,
         "subplot": "ternary",
         "text": [
          "",
          "",
          "",
          "",
          "",
          "",
          "",
          "",
          "",
          "",
          "",
          "",
          "",
          "",
          ""
         ],
         "textfont": {
          "color": "black",
          "size": 4.239406061078862
         },
         "type": "scatterternary"
        },
        {
         "a": [
          0.7321541051958198,
          0.6583015555505506,
          0.6332948158284335,
          0.6219019515135892,
          0.6207174406685544
         ],
         "b": [
          0.1822621860539979,
          0.2521132603320126,
          0.26300348513017713,
          0.2547335477559327,
          0.23132436642638404
         ],
         "c": [
          0.08558370875018227,
          0.08958518411743696,
          0.10370169904138939,
          0.12336450073047799,
          0.14795819290506176
         ],
         "line": {
          "color": "grey",
          "width": 0.25
         },
         "marker": {
          "color": "silver",
          "line": {
           "color": "black",
           "width": 0
          },
          "opacity": 0.9,
          "size": 6
         },
         "mode": "lines+text",
         "name": "CHE",
         "showlegend": false,
         "subplot": "ternary",
         "text": [
          "",
          "",
          "",
          "",
          "",
          "",
          "",
          "",
          "",
          "",
          "",
          "",
          "",
          "",
          ""
         ],
         "textfont": {
          "color": "black",
          "size": 4.239406061078862
         },
         "type": "scatterternary"
        },
        {
         "a": [
          0,
          0,
          0,
          0,
          0,
          0,
          0,
          0,
          0,
          0,
          0,
          0,
          0,
          0,
          0
         ],
         "b": [
          0,
          0,
          0,
          0,
          0,
          0,
          0,
          0,
          0,
          0,
          0,
          0,
          0,
          0,
          0
         ],
         "c": [
          0,
          0,
          0,
          0,
          0,
          0,
          0,
          0,
          0,
          0,
          0,
          0,
          0,
          0,
          0
         ],
         "line": {
          "color": "grey",
          "width": 0.25
         },
         "marker": {
          "color": "silver",
          "line": {
           "color": "black",
           "width": 0
          },
          "opacity": 0.9,
          "size": 6
         },
         "mode": "lines+text",
         "name": "SYR",
         "showlegend": false,
         "subplot": "ternary",
         "text": [
          "",
          "",
          "",
          "",
          "",
          "",
          "",
          "",
          "",
          "",
          "",
          "",
          "",
          "",
          ""
         ],
         "textfont": {
          "color": "black",
          "size": 5.582678804248916
         },
         "type": "scatterternary"
        },
        {
         "a": [
          0,
          0,
          0,
          0,
          0
         ],
         "b": [
          0,
          0,
          0,
          0,
          0
         ],
         "c": [
          0,
          0,
          0,
          0,
          0
         ],
         "line": {
          "color": "grey",
          "width": 0.25
         },
         "marker": {
          "color": "silver",
          "line": {
           "color": "black",
           "width": 0
          },
          "opacity": 0.9,
          "size": 6
         },
         "mode": "lines+text",
         "name": "SYR",
         "showlegend": false,
         "subplot": "ternary",
         "text": [
          "",
          "",
          "",
          "",
          "",
          "",
          "",
          "",
          "",
          "",
          "",
          "",
          "",
          "",
          ""
         ],
         "textfont": {
          "color": "black",
          "size": 5.582678804248916
         },
         "type": "scatterternary"
        },
        {
         "a": [
          0.6327960755329045,
          0.588776905211779,
          0.5254849622744149,
          0.46556058091428243,
          0.407311864510238,
          0.35945884317793053,
          0.3198250490680385,
          0.29240382765249007,
          0.27068337727975034,
          0.25664432451054003,
          0.24570453260188913,
          0.2372745334336453,
          0.22989261611441608,
          0.22382973631511177,
          0.21822895461377262
         ],
         "b": [
          0.2672130243706179,
          0.3041331370209972,
          0.3648990530402746,
          0.4212846194000243,
          0.47947081945059944,
          0.5301337476962638,
          0.5748863379008156,
          0.6081662604951414,
          0.6353435698316454,
          0.6541567435789221,
          0.6694827529992425,
          0.682145995481611,
          0.6934524091486421,
          0.702950249424055,
          0.7114827819694889
         ],
         "c": [
          0.09999090009647753,
          0.10708995776722398,
          0.10961598468531072,
          0.11315479968569331,
          0.11321731603916266,
          0.11040740912580582,
          0.10528861303114605,
          0.09942991185236848,
          0.0939730528886041,
          0.08919893191053797,
          0.08481271439886838,
          0.08057947108474374,
          0.07665497473694191,
          0.07322001426083322,
          0.07028826341673829
         ],
         "line": {
          "color": "grey",
          "width": 0.25
         },
         "marker": {
          "color": "silver",
          "line": {
           "color": "black",
           "width": 0
          },
          "opacity": 0.9,
          "size": 6
         },
         "mode": "lines+text",
         "name": "TJK",
         "showlegend": false,
         "subplot": "ternary",
         "text": [
          "",
          "",
          "",
          "",
          "",
          "",
          "",
          "",
          "",
          "",
          "",
          "",
          "",
          "",
          ""
         ],
         "textfont": {
          "color": "black",
          "size": 4.3618383646362515
         },
         "type": "scatterternary"
        },
        {
         "a": [
          0.6327960755329045,
          0.588776905211779,
          0.5254849622744149,
          0.46556058091428243,
          0.407311864510238
         ],
         "b": [
          0.2672130243706179,
          0.3041331370209972,
          0.3648990530402746,
          0.4212846194000243,
          0.47947081945059944
         ],
         "c": [
          0.09999090009647753,
          0.10708995776722398,
          0.10961598468531072,
          0.11315479968569331,
          0.11321731603916266
         ],
         "line": {
          "color": "grey",
          "width": 0.25
         },
         "marker": {
          "color": "silver",
          "line": {
           "color": "black",
           "width": 0
          },
          "opacity": 0.9,
          "size": 6
         },
         "mode": "lines+text",
         "name": "TJK",
         "showlegend": false,
         "subplot": "ternary",
         "text": [
          "",
          "",
          "",
          "",
          "",
          "",
          "",
          "",
          "",
          "",
          "",
          "",
          "",
          "",
          ""
         ],
         "textfont": {
          "color": "black",
          "size": 4.3618383646362515
         },
         "type": "scatterternary"
        },
        {
         "a": [
          0.6065248434069629,
          0.5378489812202779,
          0.47553988853559104,
          0.41584979142505263,
          0.36320444730116724,
          0.32227309109023183,
          0.29290602183194986,
          0.2738295658327485,
          0.2597051043404568,
          0.2550861048186276,
          0.24746915528853725,
          0.2490860005737357,
          0.24698876507047424,
          0.2347779285346106,
          0.23982740672595199
         ],
         "b": [
          0.2966705319779914,
          0.3636099740521732,
          0.4279673924002535,
          0.48862128163206264,
          0.5404281257071335,
          0.5825083299437152,
          0.6101343824879506,
          0.626165195683812,
          0.6276737499919315,
          0.6059301277156413,
          0.5729960814542356,
          0.5405001837366151,
          0.5107487094271883,
          0.49825571646738437,
          0.4743641396405298
         ],
         "c": [
          0.0968046246150458,
          0.09854104472754893,
          0.09649271906415548,
          0.09552892694288474,
          0.09636742699169906,
          0.09521857896605293,
          0.09695959568009951,
          0.10000523848343927,
          0.11262114566761174,
          0.13898376746573124,
          0.179534763257227,
          0.21041381568964915,
          0.2422625255023374,
          0.26696635499800514,
          0.28580845363351826
         ],
         "line": {
          "color": "grey",
          "width": 0.25
         },
         "marker": {
          "color": "silver",
          "line": {
           "color": "black",
           "width": 0
          },
          "opacity": 0.9,
          "size": 6
         },
         "mode": "lines+text",
         "name": "TZA",
         "showlegend": false,
         "subplot": "ternary",
         "text": [
          "",
          "",
          "",
          "",
          "",
          "",
          "",
          "",
          "",
          "",
          "",
          "",
          "",
          "",
          ""
         ],
         "textfont": {
          "color": "black",
          "size": 8.079744295011057
         },
         "type": "scatterternary"
        },
        {
         "a": [
          0.6065248434069629,
          0.5378489812202779,
          0.47553988853559104,
          0.41584979142505263,
          0.36320444730116724
         ],
         "b": [
          0.2966705319779914,
          0.3636099740521732,
          0.4279673924002535,
          0.48862128163206264,
          0.5404281257071335
         ],
         "c": [
          0.0968046246150458,
          0.09854104472754893,
          0.09649271906415548,
          0.09552892694288474,
          0.09636742699169906
         ],
         "line": {
          "color": "grey",
          "width": 0.25
         },
         "marker": {
          "color": "silver",
          "line": {
           "color": "black",
           "width": 0
          },
          "opacity": 0.9,
          "size": 6
         },
         "mode": "lines+text",
         "name": "TZA",
         "showlegend": false,
         "subplot": "ternary",
         "text": [
          "",
          "",
          "",
          "",
          "",
          "",
          "",
          "",
          "",
          "",
          "",
          "",
          "",
          "",
          ""
         ],
         "textfont": {
          "color": "black",
          "size": 8.079744295011057
         },
         "type": "scatterternary"
        },
        {
         "a": [
          0.8775235090438139,
          0.8505348838156482,
          0.8235718206066769,
          0.7904893364832503,
          0.7561547608685085,
          0.7196082385486111,
          0.6820516789829523,
          0.6539496833667939,
          0.6236450346541058,
          0.6014991350892553,
          0.5801370187341456,
          0.5600402863468616,
          0.5409607287573579,
          0.5222866923234147,
          0.5143499613220346
         ],
         "b": [
          0.02562260529627484,
          0.041179679160501644,
          0.050681620553383475,
          0.06152614076456864,
          0.0724630463876212,
          0.08719771587203005,
          0.10553124577169025,
          0.12394068606961182,
          0.14296869473021817,
          0.15836003144820288,
          0.17213375642131457,
          0.18471604867966437,
          0.19590048786521133,
          0.20617940795578066,
          0.21083711105741282
         ],
         "c": [
          0.09685388565991118,
          0.10828543702385013,
          0.1257465588399397,
          0.14798452275218105,
          0.17138219274387015,
          0.193194045579359,
          0.21241707524535738,
          0.22210963056359437,
          0.2333862706156761,
          0.2401408334625418,
          0.24772922484454002,
          0.25524366497347417,
          0.2631387833774309,
          0.27153389972080466,
          0.2748129276205525
         ],
         "line": {
          "color": "grey",
          "width": 0.25
         },
         "marker": {
          "color": "silver",
          "line": {
           "color": "black",
           "width": 0
          },
          "opacity": 0.9,
          "size": 6
         },
         "mode": "lines+text",
         "name": "THA",
         "showlegend": false,
         "subplot": "ternary",
         "text": [
          "",
          "",
          "",
          "",
          "",
          "",
          "",
          "",
          "",
          "",
          "",
          "",
          "",
          "",
          ""
         ],
         "textfont": {
          "color": "black",
          "size": 8.550742882061813
         },
         "type": "scatterternary"
        },
        {
         "a": [
          0.8775235090438139,
          0.8505348838156482,
          0.8235718206066769,
          0.7904893364832503,
          0.7561547608685085
         ],
         "b": [
          0.02562260529627484,
          0.041179679160501644,
          0.050681620553383475,
          0.06152614076456864,
          0.0724630463876212
         ],
         "c": [
          0.09685388565991118,
          0.10828543702385013,
          0.1257465588399397,
          0.14798452275218105,
          0.17138219274387015
         ],
         "line": {
          "color": "grey",
          "width": 0.25
         },
         "marker": {
          "color": "silver",
          "line": {
           "color": "black",
           "width": 0
          },
          "opacity": 0.9,
          "size": 6
         },
         "mode": "lines+text",
         "name": "THA",
         "showlegend": false,
         "subplot": "ternary",
         "text": [
          "",
          "",
          "",
          "",
          "",
          "",
          "",
          "",
          "",
          "",
          "",
          "",
          "",
          "",
          ""
         ],
         "textfont": {
          "color": "black",
          "size": 8.550742882061813
         },
         "type": "scatterternary"
        },
        {
         "a": [
          0.8578672611511328,
          0.8269554519092418,
          0.7814146990174569,
          0.7291633179675354,
          0.6639101850755108,
          0.6006002111505356,
          0.530258848096814,
          0.46533621154324517,
          0.4210708424308993,
          0.3828273036074995,
          0.34349016374765556,
          0.30404770337599796,
          0.28020285661425204,
          0.2477277618789876,
          0.23508304749312853
         ],
         "b": [
          0.045076654981055383,
          0.06600470465173418,
          0.09863844186518596,
          0.13465131648875078,
          0.1775505919838284,
          0.21935749196193893,
          0.26653573297504257,
          0.30060991906598133,
          0.34425529143222183,
          0.3752132357377995,
          0.40135629651308125,
          0.42147193991258153,
          0.4346625279447969,
          0.4359086320279452,
          0.43993835937641607
         ],
         "c": [
          0.09705608386781177,
          0.1070398434390239,
          0.11994685911735711,
          0.13618536554371366,
          0.15853922294066086,
          0.1800422968875253,
          0.20320541892814353,
          0.23405386939077355,
          0.2346738661368788,
          0.241959460654701,
          0.2551535397392632,
          0.2744803567114206,
          0.2851346154409511,
          0.31636360609306713,
          0.3249785931304552
         ],
         "line": {
          "color": "grey",
          "width": 0.25
         },
         "marker": {
          "color": "silver",
          "line": {
           "color": "black",
           "width": 0
          },
          "opacity": 0.9,
          "size": 6
         },
         "mode": "lines+text",
         "name": "BHS",
         "showlegend": false,
         "subplot": "ternary",
         "text": [
          "",
          "",
          "",
          "",
          "",
          "",
          "",
          "",
          "",
          "",
          "",
          "",
          "",
          "",
          ""
         ],
         "textfont": {
          "color": "black",
          "size": 1.9546579658208776
         },
         "type": "scatterternary"
        },
        {
         "a": [
          0.8578672611511328,
          0.8269554519092418,
          0.7814146990174569,
          0.7291633179675354,
          0.6639101850755108
         ],
         "b": [
          0.045076654981055383,
          0.06600470465173418,
          0.09863844186518596,
          0.13465131648875078,
          0.1775505919838284
         ],
         "c": [
          0.09705608386781177,
          0.1070398434390239,
          0.11994685911735711,
          0.13618536554371366,
          0.15853922294066086
         ],
         "line": {
          "color": "grey",
          "width": 0.25
         },
         "marker": {
          "color": "silver",
          "line": {
           "color": "black",
           "width": 0
          },
          "opacity": 0.9,
          "size": 6
         },
         "mode": "lines+text",
         "name": "BHS",
         "showlegend": false,
         "subplot": "ternary",
         "text": [
          "",
          "",
          "",
          "",
          "",
          "",
          "",
          "",
          "",
          "",
          "",
          "",
          "",
          "",
          ""
         ],
         "textfont": {
          "color": "black",
          "size": 1.9546579658208776
         },
         "type": "scatterternary"
        },
        {
         "a": [
          0.4695042321982894,
          0.4425995644852428,
          0.4152365137032415,
          0.3825754047124325,
          0.3437879724173427,
          0.31129622999857604,
          0.28362375974857856,
          0.26322434453826615,
          0.24620080257547394,
          0.23485965477481352,
          0.2244711525384171,
          0.21610729564153106,
          0.20968049687024698,
          0.2037898080360135,
          0.1981101095610873
         ],
         "b": [
          0.4491603043649821,
          0.4748200356555283,
          0.5002200172325635,
          0.5306361429665245,
          0.5700161558474584,
          0.6024303855381496,
          0.6287821039138766,
          0.6459959160333859,
          0.658364888435763,
          0.6640527461414374,
          0.6673478969233299,
          0.6695401276220135,
          0.6709235516509733,
          0.6729799800411427,
          0.6781915086744478
         ],
         "c": [
          0.08133546343672876,
          0.08258039985922869,
          0.084543469064195,
          0.08678845232104301,
          0.08619587173519883,
          0.08627338446327443,
          0.08759413633754481,
          0.09077973942834783,
          0.09543430898876318,
          0.10108759908374917,
          0.10818095053825304,
          0.11435257673645527,
          0.11939595147877971,
          0.12323021192284375,
          0.12369838176446499
         ],
         "line": {
          "color": "grey",
          "width": 0.25
         },
         "marker": {
          "color": "silver",
          "line": {
           "color": "black",
           "width": 0
          },
          "opacity": 0.9,
          "size": 6
         },
         "mode": "lines+text",
         "name": "GMB",
         "showlegend": false,
         "subplot": "ternary",
         "text": [
          "",
          "",
          "",
          "",
          "",
          "",
          "",
          "",
          "",
          "",
          "",
          "",
          "",
          "",
          ""
         ],
         "textfont": {
          "color": "black",
          "size": 2.9885723771111956
         },
         "type": "scatterternary"
        },
        {
         "a": [
          0.4695042321982894,
          0.4425995644852428,
          0.4152365137032415,
          0.3825754047124325,
          0.3437879724173427
         ],
         "b": [
          0.4491603043649821,
          0.4748200356555283,
          0.5002200172325635,
          0.5306361429665245,
          0.5700161558474584
         ],
         "c": [
          0.08133546343672876,
          0.08258039985922869,
          0.084543469064195,
          0.08678845232104301,
          0.08619587173519883
         ],
         "line": {
          "color": "grey",
          "width": 0.25
         },
         "marker": {
          "color": "silver",
          "line": {
           "color": "black",
           "width": 0
          },
          "opacity": 0.9,
          "size": 6
         },
         "mode": "lines+text",
         "name": "GMB",
         "showlegend": false,
         "subplot": "ternary",
         "text": [
          "",
          "",
          "",
          "",
          "",
          "",
          "",
          "",
          "",
          "",
          "",
          "",
          "",
          "",
          ""
         ],
         "textfont": {
          "color": "black",
          "size": 2.9885723771111956
         },
         "type": "scatterternary"
        },
        {
         "a": [
          0.7474266846578549,
          0.682876634849119,
          0.6122367960527706,
          0.5656915070027271,
          0.5229408348569446,
          0.49590415242456454,
          0.46356404104835675,
          0.44045774902760537,
          0.4249607772622434,
          0.417781541390674,
          0.4130435346875423,
          0.4088102223217438,
          0.40232640487627935,
          0.39394248144253724,
          0.38388967860725587
         ],
         "b": [
          0.15706444923899315,
          0.21722857225493453,
          0.28368333058259737,
          0.319487669970476,
          0.3436445946574481,
          0.35325348859823774,
          0.36653492218384537,
          0.37637329765292205,
          0.38671504841745563,
          0.393437549180792,
          0.40298417169061296,
          0.41654704748374966,
          0.43382309653040624,
          0.4524194277018593,
          0.47185401598109383
         ],
         "c": [
          0.09550886610315189,
          0.09989479289594656,
          0.10407987336463187,
          0.11482082302679687,
          0.13341457048560723,
          0.15084235897719775,
          0.16990103676779772,
          0.18316895331947258,
          0.18832417432030113,
          0.18878090942853398,
          0.1839722936218447,
          0.17464273019450663,
          0.1638504985933144,
          0.1536380908556034,
          0.1442563054116502
         ],
         "line": {
          "color": "grey",
          "width": 0.25
         },
         "marker": {
          "color": "silver",
          "line": {
           "color": "black",
           "width": 0
          },
          "opacity": 0.9,
          "size": 6
         },
         "mode": "lines+text",
         "name": "TLS",
         "showlegend": false,
         "subplot": "ternary",
         "text": [
          "",
          "",
          "",
          "",
          "",
          "",
          "",
          "",
          "",
          "",
          "",
          "",
          "",
          "",
          ""
         ],
         "textfont": {
          "color": "black",
          "size": 2.5161356697649278
         },
         "type": "scatterternary"
        },
        {
         "a": [
          0.7474266846578549,
          0.682876634849119,
          0.6122367960527706,
          0.5656915070027271,
          0.5229408348569446
         ],
         "b": [
          0.15706444923899315,
          0.21722857225493453,
          0.28368333058259737,
          0.319487669970476,
          0.3436445946574481
         ],
         "c": [
          0.09550886610315189,
          0.09989479289594656,
          0.10407987336463187,
          0.11482082302679687,
          0.13341457048560723
         ],
         "line": {
          "color": "grey",
          "width": 0.25
         },
         "marker": {
          "color": "silver",
          "line": {
           "color": "black",
           "width": 0
          },
          "opacity": 0.9,
          "size": 6
         },
         "mode": "lines+text",
         "name": "TLS",
         "showlegend": false,
         "subplot": "ternary",
         "text": [
          "",
          "",
          "",
          "",
          "",
          "",
          "",
          "",
          "",
          "",
          "",
          "",
          "",
          "",
          ""
         ],
         "textfont": {
          "color": "black",
          "size": 2.5161356697649278
         },
         "type": "scatterternary"
        },
        {
         "a": [
          0.4587170952472063,
          0.4370799561122698,
          0.4118703370853043,
          0.37726041341743716,
          0.33988492586996855,
          0.3086224517284274,
          0.2825437188733826,
          0.26422249055628116,
          0.24895853947096175,
          0.23915399028509438,
          0.23026767892314098,
          0.22344680751341417,
          0.21759279228181266,
          0.2128166147077159,
          0.2089407148031796
         ],
         "b": [
          0.45739087216307517,
          0.47709067299793606,
          0.5006050297502017,
          0.5341479170843468,
          0.5726561078138904,
          0.6052286161326638,
          0.632457696921645,
          0.6513854080556409,
          0.6661107904912531,
          0.6733915681086663,
          0.6781485500926125,
          0.6813002013259778,
          0.6842216390215834,
          0.6879682581514758,
          0.693519322887191
         ],
         "c": [
          0.08389203258971864,
          0.08582937088979417,
          0.08752463316449406,
          0.08859166949821606,
          0.08745896631614103,
          0.08614893213890878,
          0.0849985842049724,
          0.08439210138807791,
          0.08493067003778498,
          0.08745444160623951,
          0.09158377098424633,
          0.09525299116060817,
          0.0981855686966041,
          0.09921512714080827,
          0.0975399623096295
         ],
         "line": {
          "color": "grey",
          "width": 0.25
         },
         "marker": {
          "color": "silver",
          "line": {
           "color": "black",
           "width": 0
          },
          "opacity": 0.9,
          "size": 6
         },
         "mode": "lines+text",
         "name": "TGO",
         "showlegend": false,
         "subplot": "ternary",
         "text": [
          "",
          "",
          "",
          "",
          "",
          "",
          "",
          "",
          "",
          "",
          "",
          "",
          "",
          "",
          ""
         ],
         "textfont": {
          "color": "black",
          "size": 4.19925753824206
         },
         "type": "scatterternary"
        },
        {
         "a": [
          0.4587170952472063,
          0.4370799561122698,
          0.4118703370853043,
          0.37726041341743716,
          0.33988492586996855
         ],
         "b": [
          0.45739087216307517,
          0.47709067299793606,
          0.5006050297502017,
          0.5341479170843468,
          0.5726561078138904
         ],
         "c": [
          0.08389203258971864,
          0.08582937088979417,
          0.08752463316449406,
          0.08859166949821606,
          0.08745896631614103
         ],
         "line": {
          "color": "grey",
          "width": 0.25
         },
         "marker": {
          "color": "silver",
          "line": {
           "color": "black",
           "width": 0
          },
          "opacity": 0.9,
          "size": 6
         },
         "mode": "lines+text",
         "name": "TGO",
         "showlegend": false,
         "subplot": "ternary",
         "text": [
          "",
          "",
          "",
          "",
          "",
          "",
          "",
          "",
          "",
          "",
          "",
          "",
          "",
          "",
          ""
         ],
         "textfont": {
          "color": "black",
          "size": 4.19925753824206
         },
         "type": "scatterternary"
        },
        {
         "a": [
          0.7697207362808872,
          0.712606765268675,
          0.6630402987782089,
          0.6199617391544793,
          0.5807685161441397,
          0.542903111493907,
          0.5033337662679022,
          0.47263531511068646,
          0.44565428857558453,
          0.4274086399050957,
          0.4113635889038152,
          0.3987698720893492,
          0.3872034092270878,
          0.3761733478638347,
          0.3658002769315423
         ],
         "b": [
          0.1269210957254212,
          0.1735138417604194,
          0.21028457117953145,
          0.2396864582111887,
          0.2668490940291914,
          0.29546073165279346,
          0.32905195430500583,
          0.3594774921483335,
          0.3873200330874578,
          0.4087919599262368,
          0.42849121860196004,
          0.4450323188222451,
          0.4604153269172985,
          0.4743441071270461,
          0.487413735670943
         ],
         "c": [
          0.10335816799369138,
          0.11387939297090566,
          0.12667513004225953,
          0.1403518026343321,
          0.15238238982666893,
          0.16163615685329938,
          0.16761427942709212,
          0.16788719274097993,
          0.16702567833695778,
          0.16379940016866754,
          0.16014519249422468,
          0.15619780908840583,
          0.15238126385561387,
          0.14948254500911923,
          0.1467859873975148
         ],
         "line": {
          "color": "grey",
          "width": 0.25
         },
         "marker": {
          "color": "silver",
          "line": {
           "color": "black",
           "width": 0
          },
          "opacity": 0.9,
          "size": 6
         },
         "mode": "lines+text",
         "name": "TON",
         "showlegend": false,
         "subplot": "ternary",
         "text": [
          "",
          "",
          "",
          "",
          "",
          "",
          "",
          "",
          "",
          "",
          "",
          "",
          "",
          "",
          ""
         ],
         "textfont": {
          "color": "black",
          "size": 1.5556568861136828
         },
         "type": "scatterternary"
        },
        {
         "a": [
          0.7697207362808872,
          0.712606765268675,
          0.6630402987782089,
          0.6199617391544793,
          0.5807685161441397
         ],
         "b": [
          0.1269210957254212,
          0.1735138417604194,
          0.21028457117953145,
          0.2396864582111887,
          0.2668490940291914
         ],
         "c": [
          0.10335816799369138,
          0.11387939297090566,
          0.12667513004225953,
          0.1403518026343321,
          0.15238238982666893
         ],
         "line": {
          "color": "grey",
          "width": 0.25
         },
         "marker": {
          "color": "silver",
          "line": {
           "color": "black",
           "width": 0
          },
          "opacity": 0.9,
          "size": 6
         },
         "mode": "lines+text",
         "name": "TON",
         "showlegend": false,
         "subplot": "ternary",
         "text": [
          "",
          "",
          "",
          "",
          "",
          "",
          "",
          "",
          "",
          "",
          "",
          "",
          "",
          "",
          ""
         ],
         "textfont": {
          "color": "black",
          "size": 1.5556568861136828
         },
         "type": "scatterternary"
        },
        {
         "a": [
          0.7931524760699751,
          0.7002704740668372,
          0.6114638798171578,
          0.4734926349619416,
          0.3348438826346322,
          0.25206548817366514,
          0.20167611086038045,
          0.1765515942071707,
          0.17458279338489643,
          0.1610377864760509,
          0.14124450254092236,
          0.13487122209810792,
          0.12560502064051177,
          0.12382810807383116,
          0.13024657585327712
         ],
         "b": [
          0.10018320711263656,
          0.19108478455221362,
          0.3055134797460019,
          0.44628522476079635,
          0.5917256958073241,
          0.6757653689470952,
          0.7183506044899851,
          0.7269763517872103,
          0.7023689338898987,
          0.7011690045515727,
          0.7092691379381431,
          0.7211790994901405,
          0.7996602261417485,
          0.8138679398991228,
          0.7978094965974574
         ],
         "c": [
          0.10666431681738826,
          0.10864474138094915,
          0.08302264043684052,
          0.08022214027726209,
          0.07343042155804333,
          0.07216914287923959,
          0.07997328464963432,
          0.09647205400561912,
          0.12304827272520497,
          0.13779320897237624,
          0.14948635952093436,
          0.14394967841175152,
          0.07473475321773977,
          0.062303952027046194,
          0.0719439275492654
         ],
         "line": {
          "color": "grey",
          "width": 0.25
         },
         "marker": {
          "color": "silver",
          "line": {
           "color": "black",
           "width": 0
          },
          "opacity": 0.9,
          "size": 6
         },
         "mode": "lines+text",
         "name": "TTO",
         "showlegend": false,
         "subplot": "ternary",
         "text": [
          "",
          "",
          "",
          "",
          "",
          "",
          "",
          "",
          "",
          "",
          "",
          "",
          "",
          "",
          ""
         ],
         "textfont": {
          "color": "black",
          "size": 2.616498273888282
         },
         "type": "scatterternary"
        },
        {
         "a": [
          0.7931524760699751,
          0.7002704740668372,
          0.6114638798171578,
          0.4734926349619416,
          0.3348438826346322
         ],
         "b": [
          0.10018320711263656,
          0.19108478455221362,
          0.3055134797460019,
          0.44628522476079635,
          0.5917256958073241
         ],
         "c": [
          0.10666431681738826,
          0.10864474138094915,
          0.08302264043684052,
          0.08022214027726209,
          0.07343042155804333
         ],
         "line": {
          "color": "grey",
          "width": 0.25
         },
         "marker": {
          "color": "silver",
          "line": {
           "color": "black",
           "width": 0
          },
          "opacity": 0.9,
          "size": 6
         },
         "mode": "lines+text",
         "name": "TTO",
         "showlegend": false,
         "subplot": "ternary",
         "text": [
          "",
          "",
          "",
          "",
          "",
          "",
          "",
          "",
          "",
          "",
          "",
          "",
          "",
          "",
          ""
         ],
         "textfont": {
          "color": "black",
          "size": 2.616498273888282
         },
         "type": "scatterternary"
        },
        {
         "a": [
          0.8446791321007704,
          0.8103850255514335,
          0.7664731104861332,
          0.7198972270431884,
          0.6666391393770068,
          0.6148504597267013,
          0.5603057219380462,
          0.5191101524144321,
          0.4800891814519833,
          0.4529310897554424,
          0.43129123970318284,
          0.41488996099249825,
          0.40006023745844316,
          0.3868393764722646,
          0.3754494810674776
         ],
         "b": [
          0.05501535970877312,
          0.07952570708649728,
          0.11066826516807188,
          0.1422670318764984,
          0.1818968078291165,
          0.22502237701263705,
          0.27368824218075327,
          0.31584784973717195,
          0.3586574308660588,
          0.39183089993201714,
          0.41831264128247875,
          0.4406008576833798,
          0.46245034692440556,
          0.48060587931864374,
          0.49546737597812973
         ],
         "c": [
          0.10030550819045658,
          0.11008926736206912,
          0.12285862434579486,
          0.1378357410803133,
          0.15146405279387673,
          0.16012716326066168,
          0.16600603588120047,
          0.16504199784839566,
          0.16125338768195782,
          0.15523801031254067,
          0.15039611901433833,
          0.14450918132412197,
          0.1374894156171513,
          0.13255474420909164,
          0.12908314295439272
         ],
         "line": {
          "color": "grey",
          "width": 0.25
         },
         "marker": {
          "color": "silver",
          "line": {
           "color": "black",
           "width": 0
          },
          "opacity": 0.9,
          "size": 6
         },
         "mode": "lines+text",
         "name": "TUN",
         "showlegend": false,
         "subplot": "ternary",
         "text": [
          "",
          "",
          "",
          "",
          "",
          "",
          "",
          "",
          "",
          "",
          "",
          "",
          "",
          "",
          ""
         ],
         "textfont": {
          "color": "black",
          "size": 4.71312900661157
         },
         "type": "scatterternary"
        },
        {
         "a": [
          0.8446791321007704,
          0.8103850255514335,
          0.7664731104861332,
          0.7198972270431884,
          0.6666391393770068
         ],
         "b": [
          0.05501535970877312,
          0.07952570708649728,
          0.11066826516807188,
          0.1422670318764984,
          0.1818968078291165
         ],
         "c": [
          0.10030550819045658,
          0.11008926736206912,
          0.12285862434579486,
          0.1378357410803133,
          0.15146405279387673
         ],
         "line": {
          "color": "grey",
          "width": 0.25
         },
         "marker": {
          "color": "silver",
          "line": {
           "color": "black",
           "width": 0
          },
          "opacity": 0.9,
          "size": 6
         },
         "mode": "lines+text",
         "name": "TUN",
         "showlegend": false,
         "subplot": "ternary",
         "text": [
          "",
          "",
          "",
          "",
          "",
          "",
          "",
          "",
          "",
          "",
          "",
          "",
          "",
          "",
          ""
         ],
         "textfont": {
          "color": "black",
          "size": 4.71312900661157
         },
         "type": "scatterternary"
        },
        {
         "a": [
          0.8452137789778444,
          0.7902236121377209,
          0.7167135024303314,
          0.638857408291112,
          0.5546830279171377,
          0.47654183665772337,
          0.39937181507162467,
          0.3407272497016849,
          0.28323331346087083,
          0.2373274455672934,
          0.1977575164257025,
          0.1716682777297072,
          0.16446022557075035,
          0.1583202268810549,
          0.1545987044378081
         ],
         "b": [
          0.06116785216754033,
          0.10949204488796484,
          0.17542717152916287,
          0.24389538503468478,
          0.3152648099877382,
          0.37662996258548154,
          0.4350109768042038,
          0.4720848365297939,
          0.497744150748464,
          0.5062886885173028,
          0.5104931639500445,
          0.5125014305466661,
          0.5093409586468366,
          0.5022488039332479,
          0.4954239261244078
         ],
         "c": [
          0.09361836885461536,
          0.10028434297431456,
          0.1078593260405061,
          0.11724720667420298,
          0.1300521620951241,
          0.1468282007567949,
          0.16561720812417152,
          0.18718791376852129,
          0.21902253579066513,
          0.2563838659154039,
          0.29174931962425316,
          0.31583029172362675,
          0.3261988157824131,
          0.3394309691856973,
          0.349977369437784
         ],
         "line": {
          "color": "grey",
          "width": 0.25
         },
         "marker": {
          "color": "silver",
          "line": {
           "color": "black",
           "width": 0
          },
          "opacity": 0.9,
          "size": 6
         },
         "mode": "lines+text",
         "name": "TUR",
         "showlegend": false,
         "subplot": "ternary",
         "text": [
          "",
          "",
          "",
          "",
          "",
          "",
          "",
          "",
          "",
          "",
          "",
          "",
          "",
          "",
          ""
         ],
         "textfont": {
          "color": "black",
          "size": 9.051152764076878
         },
         "type": "scatterternary"
        },
        {
         "a": [
          0.8452137789778444,
          0.7902236121377209,
          0.7167135024303314,
          0.638857408291112,
          0.5546830279171377
         ],
         "b": [
          0.06116785216754033,
          0.10949204488796484,
          0.17542717152916287,
          0.24389538503468478,
          0.3152648099877382
         ],
         "c": [
          0.09361836885461536,
          0.10028434297431456,
          0.1078593260405061,
          0.11724720667420298,
          0.1300521620951241
         ],
         "line": {
          "color": "grey",
          "width": 0.25
         },
         "marker": {
          "color": "silver",
          "line": {
           "color": "black",
           "width": 0
          },
          "opacity": 0.9,
          "size": 6
         },
         "mode": "lines+text",
         "name": "TUR",
         "showlegend": false,
         "subplot": "ternary",
         "text": [
          "",
          "",
          "",
          "",
          "",
          "",
          "",
          "",
          "",
          "",
          "",
          "",
          "",
          "",
          ""
         ],
         "textfont": {
          "color": "black",
          "size": 9.051152764076878
         },
         "type": "scatterternary"
        },
        {
         "a": [
          0.6801684726789993,
          0.590646078680598,
          0.509048955588496,
          0.438064824253831,
          0.36743141456075845,
          0.3101448468994997,
          0.2612075045007549,
          0.2278984398674371,
          0.19964142132542684,
          0.18132604610437542,
          0.16613420705485382,
          0.15212942083993558,
          0.14711499139720394,
          0.14176614763314882,
          0.13811240165019814
         ],
         "b": [
          0.24839837643162152,
          0.3383973247991077,
          0.41683597135612294,
          0.48268949949511236,
          0.5493047876631195,
          0.6047228332576098,
          0.653385040021091,
          0.6910114603483819,
          0.7247295075684378,
          0.748655308126486,
          0.7688595103904907,
          0.7889072339685522,
          0.7978821317945928,
          0.8070396300365942,
          0.8121142623466107
         ],
         "c": [
          0.0714331508893793,
          0.07095659652029429,
          0.0741150730553811,
          0.07924567625105672,
          0.08326379777612222,
          0.08513231984289056,
          0.08540745547815407,
          0.081090099784181,
          0.07562907110613556,
          0.07001864576913863,
          0.0650062825546556,
          0.05896334519151231,
          0.05500287680820306,
          0.05119422233025706,
          0.049773336003191046
         ],
         "line": {
          "color": "grey",
          "width": 0.25
         },
         "marker": {
          "color": "silver",
          "line": {
           "color": "black",
           "width": 0
          },
          "opacity": 0.9,
          "size": 6
         },
         "mode": "lines+text",
         "name": "TKM",
         "showlegend": false,
         "subplot": "ternary",
         "text": [
          "",
          "",
          "",
          "",
          "",
          "",
          "",
          "",
          "",
          "",
          "",
          "",
          "",
          "",
          ""
         ],
         "textfont": {
          "color": "black",
          "size": 3.8419413208455575
         },
         "type": "scatterternary"
        },
        {
         "a": [
          0.6801684726789993,
          0.590646078680598,
          0.509048955588496,
          0.438064824253831,
          0.36743141456075845
         ],
         "b": [
          0.24839837643162152,
          0.3383973247991077,
          0.41683597135612294,
          0.48268949949511236,
          0.5493047876631195
         ],
         "c": [
          0.0714331508893793,
          0.07095659652029429,
          0.0741150730553811,
          0.07924567625105672,
          0.08326379777612222
         ],
         "line": {
          "color": "grey",
          "width": 0.25
         },
         "marker": {
          "color": "silver",
          "line": {
           "color": "black",
           "width": 0
          },
          "opacity": 0.9,
          "size": 6
         },
         "mode": "lines+text",
         "name": "TKM",
         "showlegend": false,
         "subplot": "ternary",
         "text": [
          "",
          "",
          "",
          "",
          "",
          "",
          "",
          "",
          "",
          "",
          "",
          "",
          "",
          "",
          ""
         ],
         "textfont": {
          "color": "black",
          "size": 3.8419413208455575
         },
         "type": "scatterternary"
        },
        {
         "a": [
          0,
          0,
          0,
          0,
          0,
          0,
          0,
          0,
          0,
          0,
          0,
          0,
          0,
          0,
          0
         ],
         "b": [
          0,
          0,
          0,
          0,
          0,
          0,
          0,
          0,
          0,
          0,
          0,
          0,
          0,
          0,
          0
         ],
         "c": [
          0,
          0,
          0,
          0,
          0,
          0,
          0,
          0,
          0,
          0,
          0,
          0,
          0,
          0,
          0
         ],
         "line": {
          "color": "grey",
          "width": 0.25
         },
         "marker": {
          "color": "silver",
          "line": {
           "color": "black",
           "width": 0
          },
          "opacity": 0.9,
          "size": 6
         },
         "mode": "lines+text",
         "name": "TUV",
         "showlegend": false,
         "subplot": "ternary",
         "text": [
          "",
          "",
          "",
          "",
          "",
          "",
          "",
          "",
          "",
          "",
          "",
          "",
          "",
          "",
          ""
         ],
         "textfont": {
          "color": "black",
          "size": 2.3694187025678044
         },
         "type": "scatterternary"
        },
        {
         "a": [
          0,
          0,
          0,
          0,
          0
         ],
         "b": [
          0,
          0,
          0,
          0,
          0
         ],
         "c": [
          0,
          0,
          0,
          0,
          0
         ],
         "line": {
          "color": "grey",
          "width": 0.25
         },
         "marker": {
          "color": "silver",
          "line": {
           "color": "black",
           "width": 0
          },
          "opacity": 0.9,
          "size": 6
         },
         "mode": "lines+text",
         "name": "TUV",
         "showlegend": false,
         "subplot": "ternary",
         "text": [
          "",
          "",
          "",
          "",
          "",
          "",
          "",
          "",
          "",
          "",
          "",
          "",
          "",
          "",
          ""
         ],
         "textfont": {
          "color": "black",
          "size": 2.3694187025678044
         },
         "type": "scatterternary"
        },
        {
         "a": [
          0.4177677826266421,
          0.3898861146091943,
          0.36495142619861143,
          0.33290229727256493,
          0.3025938692854019,
          0.2767045210733577,
          0.25512259335866866,
          0.23946661945892084,
          0.22488035036165693,
          0.215641965559044,
          0.208017577424066,
          0.20227969979575333,
          0.19742756713265236,
          0.19367921368278465,
          0.19091759523769475
         ],
         "b": [
          0.5042449353699524,
          0.5327749639870822,
          0.5573493056572922,
          0.5893996223212274,
          0.6200382571580253,
          0.6456008033096534,
          0.6665086293527798,
          0.677378181313839,
          0.6847171903692502,
          0.6876637699537116,
          0.6903825337482645,
          0.6918203666113967,
          0.6942529007473273,
          0.7005275102271492,
          0.7146338313224037
         ],
         "c": [
          0.07798728200340567,
          0.07733892140372345,
          0.07769926814409653,
          0.07769808040620753,
          0.0773678735565727,
          0.07769467561698867,
          0.07836877728855149,
          0.08315519922724016,
          0.09040245926909285,
          0.09669426448724441,
          0.10159988882766943,
          0.10589993359284999,
          0.10831953212002049,
          0.10579327609006631,
          0.09444857343990162
         ],
         "line": {
          "color": "grey",
          "width": 0.25
         },
         "marker": {
          "color": "purple",
          "line": {
           "color": "black",
           "width": 0
          },
          "opacity": 0.9,
          "size": 6
         },
         "mode": "lines+text",
         "name": "UGA",
         "showlegend": false,
         "subplot": "ternary",
         "text": [
          "",
          "",
          "",
          "",
          "",
          "",
          "",
          "",
          "",
          "",
          "",
          "",
          "",
          "",
          ""
         ],
         "textfont": {
          "color": "black",
          "size": 7.204011850144895
         },
         "type": "scatterternary"
        },
        {
         "a": [
          0.4177677826266421,
          0.3898861146091943,
          0.36495142619861143,
          0.33290229727256493,
          0.3025938692854019
         ],
         "b": [
          0.5042449353699524,
          0.5327749639870822,
          0.5573493056572922,
          0.5893996223212274,
          0.6200382571580253
         ],
         "c": [
          0.07798728200340567,
          0.07733892140372345,
          0.07769926814409653,
          0.07769808040620753,
          0.0773678735565727
         ],
         "line": {
          "color": "grey",
          "width": 0.25
         },
         "marker": {
          "color": "purple",
          "line": {
           "color": "black",
           "width": 0
          },
          "opacity": 0.9,
          "size": 6
         },
         "mode": "lines+text",
         "name": "UGA",
         "showlegend": false,
         "subplot": "ternary",
         "text": [
          "",
          "",
          "",
          "",
          "",
          "",
          "",
          "",
          "",
          "",
          "",
          "",
          "",
          "",
          ""
         ],
         "textfont": {
          "color": "black",
          "size": 7.204011850144895
         },
         "type": "scatterternary"
        },
        {
         "a": [
          0.49207798335772923,
          0.37244621372454906,
          0.29122618556919955,
          0.23093649706004896,
          0.18283274690041762,
          0.13963093193697418,
          0.10222128991158698,
          0.07917837178533525,
          0.06306397560143373,
          0.05198697039083619,
          0.045180576612584164,
          0.041891262088125575,
          0.03678729608598408,
          0.03147448600097254,
          0.028321323257210308
         ],
         "b": [
          0.45412996471773215,
          0.5809681817944629,
          0.6641901160878289,
          0.7236265080088348,
          0.7708508735154911,
          0.8177824033519814,
          0.8614409277326616,
          0.8903972418656371,
          0.9111877039536437,
          0.9272969861549267,
          0.9371765022455745,
          0.9417806852283743,
          0.9487295350392667,
          0.9558141265883409,
          0.9600481821474667
         ],
         "c": [
          0.05379205192453877,
          0.04658560448098812,
          0.04458369834297169,
          0.04543699493111617,
          0.04631637958409137,
          0.04258666471104437,
          0.03633778235575137,
          0.030424386349027756,
          0.02574832044492268,
          0.020716043454237144,
          0.017642921141841184,
          0.016328052683500113,
          0.01448316887474929,
          0.012711387410686807,
          0.011630494595323008
         ],
         "line": {
          "color": "grey",
          "width": 0.25
         },
         "marker": {
          "color": "silver",
          "line": {
           "color": "black",
           "width": 0
          },
          "opacity": 0.9,
          "size": 6
         },
         "mode": "lines+text",
         "name": "UKR",
         "showlegend": false,
         "subplot": "ternary",
         "text": [
          "",
          "",
          "",
          "",
          "",
          "",
          "",
          "",
          "",
          "",
          "",
          "",
          "",
          "",
          ""
         ],
         "textfont": {
          "color": "black",
          "size": 7.2269452114303885
         },
         "type": "scatterternary"
        },
        {
         "a": [
          0.49207798335772923,
          0.37244621372454906,
          0.29122618556919955,
          0.23093649706004896,
          0.18283274690041762
         ],
         "b": [
          0.45412996471773215,
          0.5809681817944629,
          0.6641901160878289,
          0.7236265080088348,
          0.7708508735154911
         ],
         "c": [
          0.05379205192453877,
          0.04658560448098812,
          0.04458369834297169,
          0.04543699493111617,
          0.04631637958409137
         ],
         "line": {
          "color": "grey",
          "width": 0.25
         },
         "marker": {
          "color": "silver",
          "line": {
           "color": "black",
           "width": 0
          },
          "opacity": 0.9,
          "size": 6
         },
         "mode": "lines+text",
         "name": "UKR",
         "showlegend": false,
         "subplot": "ternary",
         "text": [
          "",
          "",
          "",
          "",
          "",
          "",
          "",
          "",
          "",
          "",
          "",
          "",
          "",
          "",
          ""
         ],
         "textfont": {
          "color": "black",
          "size": 7.2269452114303885
         },
         "type": "scatterternary"
        },
        {
         "a": [
          0.742153665001222,
          0.6087119734674283,
          0.45261241576312533,
          0.3377132072078171,
          0.23762073725943264,
          0.17462957956742226,
          0.12993451283621696,
          0.10495792427650252,
          0.08534203853227083,
          0.07353680894823811,
          0.06492943579616334,
          0.05964639620384368,
          0.057683273384428344,
          0.059752546139679855,
          0.0616539502797133
         ],
         "b": [
          0.17713274468366014,
          0.31186906140848486,
          0.46642926966015164,
          0.5513960566123288,
          0.5999475481584299,
          0.6074509753296333,
          0.6162906710841826,
          0.6229311013775869,
          0.616597748625597,
          0.6084282644444531,
          0.599381008484329,
          0.586845058433396,
          0.5729280612977885,
          0.5648510824279994,
          0.5552343998262715
         ],
         "c": [
          0.08071359031511795,
          0.07941896512408672,
          0.08095831457672316,
          0.1108907361798541,
          0.1624317145821375,
          0.21791944510294453,
          0.2537748160796006,
          0.27211097434591064,
          0.2980602128421322,
          0.3180349266073089,
          0.3356895557195074,
          0.3535085453627602,
          0.3693886653177833,
          0.37539637143232085,
          0.38311164989401514
         ],
         "line": {
          "color": "grey",
          "width": 0.25
         },
         "marker": {
          "color": "silver",
          "line": {
           "color": "black",
           "width": 0
          },
          "opacity": 0.9,
          "size": 6
         },
         "mode": "lines+text",
         "name": "ARE",
         "showlegend": false,
         "subplot": "ternary",
         "text": [
          "",
          "",
          "",
          "",
          "",
          "",
          "",
          "",
          "",
          "",
          "",
          "",
          "",
          "",
          ""
         ],
         "textfont": {
          "color": "black",
          "size": 4.333857289260985
         },
         "type": "scatterternary"
        },
        {
         "a": [
          0.742153665001222,
          0.6087119734674283,
          0.45261241576312533,
          0.3377132072078171,
          0.23762073725943264
         ],
         "b": [
          0.17713274468366014,
          0.31186906140848486,
          0.46642926966015164,
          0.5513960566123288,
          0.5999475481584299
         ],
         "c": [
          0.08071359031511795,
          0.07941896512408672,
          0.08095831457672316,
          0.1108907361798541,
          0.1624317145821375
         ],
         "line": {
          "color": "grey",
          "width": 0.25
         },
         "marker": {
          "color": "silver",
          "line": {
           "color": "black",
           "width": 0
          },
          "opacity": 0.9,
          "size": 6
         },
         "mode": "lines+text",
         "name": "ARE",
         "showlegend": false,
         "subplot": "ternary",
         "text": [
          "",
          "",
          "",
          "",
          "",
          "",
          "",
          "",
          "",
          "",
          "",
          "",
          "",
          "",
          ""
         ],
         "textfont": {
          "color": "black",
          "size": 4.333857289260985
         },
         "type": "scatterternary"
        },
        {
         "a": [
          0.5731080924608816,
          0.43045628317292617,
          0.32328966833385725,
          0.24076326149113322,
          0.17802086298576744,
          0.13484825977742737,
          0.10323325808279371,
          0.08439201474837607,
          0.0713715783184459,
          0.06309220573138463,
          0.056837266554853424,
          0.051641908052455415,
          0.047981553498486394,
          0.043683337423720145,
          0.04046349864568461
         ],
         "b": [
          0.3632247575658874,
          0.5147108094127928,
          0.6276359874254581,
          0.7149029613392643,
          0.7818591967426712,
          0.8289896441151969,
          0.8646522927360665,
          0.8870144086646917,
          0.9023072182787875,
          0.9129014995130154,
          0.9210469239573194,
          0.9280242025937474,
          0.9329049384175914,
          0.9385816780761548,
          0.9428413576913621
         ],
         "c": [
          0.06366714997323081,
          0.05483290741428118,
          0.04907434424068473,
          0.0443337771696025,
          0.04011994027156134,
          0.036162096107375696,
          0.032114449181139815,
          0.028593576586932165,
          0.02632120340276652,
          0.024006294755600014,
          0.02211580948782744,
          0.020333889353797034,
          0.019113508083922287,
          0.01773498450012487,
          0.016695143662953195
         ],
         "line": {
          "color": "grey",
          "width": 0.25
         },
         "marker": {
          "color": "silver",
          "line": {
           "color": "black",
           "width": 0
          },
          "opacity": 0.9,
          "size": 6
         },
         "mode": "lines+text",
         "name": "GBR",
         "showlegend": false,
         "subplot": "ternary",
         "text": [
          "",
          "",
          "",
          "",
          "",
          "",
          "",
          "",
          "",
          "",
          "",
          "",
          "",
          "",
          ""
         ],
         "textfont": {
          "color": "black",
          "size": 8.35935119598999
         },
         "type": "scatterternary"
        },
        {
         "a": [
          0.5731080924608816,
          0.43045628317292617,
          0.32328966833385725,
          0.24076326149113322,
          0.17802086298576744
         ],
         "b": [
          0.3632247575658874,
          0.5147108094127928,
          0.6276359874254581,
          0.7149029613392643,
          0.7818591967426712
         ],
         "c": [
          0.06366714997323081,
          0.05483290741428118,
          0.04907434424068473,
          0.0443337771696025,
          0.04011994027156134
         ],
         "line": {
          "color": "grey",
          "width": 0.25
         },
         "marker": {
          "color": "silver",
          "line": {
           "color": "black",
           "width": 0
          },
          "opacity": 0.9,
          "size": 6
         },
         "mode": "lines+text",
         "name": "GBR",
         "showlegend": false,
         "subplot": "ternary",
         "text": [
          "",
          "",
          "",
          "",
          "",
          "",
          "",
          "",
          "",
          "",
          "",
          "",
          "",
          "",
          ""
         ],
         "textfont": {
          "color": "black",
          "size": 8.35935119598999
         },
         "type": "scatterternary"
        },
        {
         "a": [
          0.7570328871476806,
          0.6470359157357657,
          0.5009841943904125,
          0.3554785506032928,
          0.23132478566728992,
          0.15107516008023467,
          0.09504867481255042,
          0.0699016274145873,
          0.055744037453533665,
          0.04616312480768439,
          0.03908149264408285,
          0.036567912812932514,
          0.03543895569379102,
          0.03407772238017203,
          0.033533470719818714
         ],
         "b": [
          0.16385437285154,
          0.2759681274388884,
          0.4234043286545326,
          0.566475622028852,
          0.6953919041840615,
          0.783562870911076,
          0.849042115839431,
          0.8813207310571736,
          0.9006567117434803,
          0.9132341686661735,
          0.9213447828368927,
          0.9290625893257404,
          0.9345586551672151,
          0.9390875564191004,
          0.9433606537439663
         ],
         "c": [
          0.07911274000077934,
          0.07699595682534595,
          0.07561147695505493,
          0.07804582736785504,
          0.07328331014864856,
          0.06536196900868962,
          0.05590920934801853,
          0.04877764152823917,
          0.04359925080298589,
          0.04060270652614216,
          0.03957372451902433,
          0.034369497861327016,
          0.030002389138993717,
          0.026834721200727454,
          0.02310587553621496
         ],
         "line": {
          "color": "grey",
          "width": 0.25
         },
         "marker": {
          "color": "navy",
          "line": {
           "color": "black",
           "width": 0
          },
          "opacity": 0.9,
          "size": 6
         },
         "mode": "lines+text",
         "name": "USA",
         "showlegend": false,
         "subplot": "ternary",
         "text": [
          "",
          "",
          "",
          "",
          "",
          "",
          "",
          "",
          "",
          "",
          "",
          "",
          "",
          "",
          ""
         ],
         "textfont": {
          "color": "black",
          "size": 15.02023796614745
         },
         "type": "scatterternary"
        },
        {
         "a": [
          0.7570328871476806,
          0.6470359157357657,
          0.5009841943904125,
          0.3554785506032928,
          0.23132478566728992
         ],
         "b": [
          0.16385437285154,
          0.2759681274388884,
          0.4234043286545326,
          0.566475622028852,
          0.6953919041840615
         ],
         "c": [
          0.07911274000077934,
          0.07699595682534595,
          0.07561147695505493,
          0.07804582736785504,
          0.07328331014864856
         ],
         "line": {
          "color": "grey",
          "width": 0.25
         },
         "marker": {
          "color": "navy",
          "line": {
           "color": "black",
           "width": 0
          },
          "opacity": 0.9,
          "size": 6
         },
         "mode": "lines+text",
         "name": "USA",
         "showlegend": false,
         "subplot": "ternary",
         "text": [
          "",
          "",
          "",
          "",
          "",
          "",
          "",
          "",
          "",
          "",
          "",
          "",
          "",
          "",
          ""
         ],
         "textfont": {
          "color": "black",
          "size": 15.02023796614745
         },
         "type": "scatterternary"
        },
        {
         "a": [
          0.7879552178987471,
          0.6908240793267871,
          0.5640925157194427,
          0.4439355093629559,
          0.3369562323792898,
          0.27119489812362185,
          0.21247475315823422,
          0.16937865785880873,
          0.1362713286918661,
          0.1175269191401043,
          0.10414734008437541,
          0.09333368226918033,
          0.08336930018509103,
          0.07217679393966035,
          0.06391880345672517
         ],
         "b": [
          0.12976767778398052,
          0.22749224604761503,
          0.3559260666650891,
          0.47838080793771826,
          0.588879645540465,
          0.6549297112744492,
          0.7138940635916615,
          0.7521011328007768,
          0.7751740230708011,
          0.7861694807017789,
          0.7924155849844382,
          0.7922150589230109,
          0.7907772349914379,
          0.7920993186455902,
          0.8088925019715728
         ],
         "c": [
          0.08227710431727235,
          0.08168367462559781,
          0.0799814176154681,
          0.07768368269932585,
          0.07416412208024524,
          0.07387539060192887,
          0.07363118325010426,
          0.07852020934041432,
          0.0885546482373327,
          0.09630360015811673,
          0.10343707493118645,
          0.1144512588078087,
          0.12585346482347093,
          0.13572388741474958,
          0.127188694571702
         ],
         "line": {
          "color": "grey",
          "width": 0.25
         },
         "marker": {
          "color": "silver",
          "line": {
           "color": "black",
           "width": 0
          },
          "opacity": 0.9,
          "size": 6
         },
         "mode": "lines+text",
         "name": "URY",
         "showlegend": false,
         "subplot": "ternary",
         "text": [
          "",
          "",
          "",
          "",
          "",
          "",
          "",
          "",
          "",
          "",
          "",
          "",
          "",
          "",
          ""
         ],
         "textfont": {
          "color": "black",
          "size": 3.2416412520404343
         },
         "type": "scatterternary"
        },
        {
         "a": [
          0.7879552178987471,
          0.6908240793267871,
          0.5640925157194427,
          0.4439355093629559,
          0.3369562323792898
         ],
         "b": [
          0.12976767778398052,
          0.22749224604761503,
          0.3559260666650891,
          0.47838080793771826,
          0.588879645540465
         ],
         "c": [
          0.08227710431727235,
          0.08168367462559781,
          0.0799814176154681,
          0.07768368269932585,
          0.07416412208024524
         ],
         "line": {
          "color": "grey",
          "width": 0.25
         },
         "marker": {
          "color": "silver",
          "line": {
           "color": "black",
           "width": 0
          },
          "opacity": 0.9,
          "size": 6
         },
         "mode": "lines+text",
         "name": "URY",
         "showlegend": false,
         "subplot": "ternary",
         "text": [
          "",
          "",
          "",
          "",
          "",
          "",
          "",
          "",
          "",
          "",
          "",
          "",
          "",
          "",
          ""
         ],
         "textfont": {
          "color": "black",
          "size": 3.2416412520404343
         },
         "type": "scatterternary"
        },
        {
         "a": [
          0.81421922300466,
          0.7962402152343715,
          0.7592757453696781,
          0.7336490431895464,
          0.7071012858922175,
          0.687976582378335,
          0.6667797050242512,
          0.6535774155544687,
          0.6397147418104108,
          0.6317059041768069,
          0.6209265552947798,
          0.6085480551063576,
          0.5951633636770919,
          0.578716116039758,
          0.563819202676601
         ],
         "b": [
          0.08950681524660362,
          0.09583979177408836,
          0.11857534962047132,
          0.12227667029044728,
          0.1251001146425006,
          0.12322063858008862,
          0.12483747940962664,
          0.13058579375427176,
          0.1408306663587725,
          0.1520129007785088,
          0.1682385623345135,
          0.18817394282730388,
          0.20527948625648146,
          0.22251052707876295,
          0.23754559403847145
         ],
         "c": [
          0.09627396174873631,
          0.10791999299153995,
          0.12214890500985062,
          0.14407428652000628,
          0.167798599465282,
          0.18880277904157644,
          0.2083828155661222,
          0.21583679069125944,
          0.21945459183081664,
          0.21628119504468432,
          0.2108348823707068,
          0.2032780020663384,
          0.19955715006642663,
          0.19877335688147896,
          0.1986352032849275
         ],
         "line": {
          "color": "grey",
          "width": 0.25
         },
         "marker": {
          "color": "silver",
          "line": {
           "color": "black",
           "width": 0
          },
          "opacity": 0.9,
          "size": 6
         },
         "mode": "lines+text",
         "name": "UZB",
         "showlegend": false,
         "subplot": "ternary",
         "text": [
          "",
          "",
          "",
          "",
          "",
          "",
          "",
          "",
          "",
          "",
          "",
          "",
          "",
          "",
          ""
         ],
         "textfont": {
          "color": "black",
          "size": 6.561844021961204
         },
         "type": "scatterternary"
        },
        {
         "a": [
          0.81421922300466,
          0.7962402152343715,
          0.7592757453696781,
          0.7336490431895464,
          0.7071012858922175
         ],
         "b": [
          0.08950681524660362,
          0.09583979177408836,
          0.11857534962047132,
          0.12227667029044728,
          0.1251001146425006
         ],
         "c": [
          0.09627396174873631,
          0.10791999299153995,
          0.12214890500985062,
          0.14407428652000628,
          0.167798599465282
         ],
         "line": {
          "color": "grey",
          "width": 0.25
         },
         "marker": {
          "color": "silver",
          "line": {
           "color": "black",
           "width": 0
          },
          "opacity": 0.9,
          "size": 6
         },
         "mode": "lines+text",
         "name": "UZB",
         "showlegend": false,
         "subplot": "ternary",
         "text": [
          "",
          "",
          "",
          "",
          "",
          "",
          "",
          "",
          "",
          "",
          "",
          "",
          "",
          "",
          ""
         ],
         "textfont": {
          "color": "black",
          "size": 6.561844021961204
         },
         "type": "scatterternary"
        },
        {
         "a": [
          0.5551688746263717,
          0.5459611352305584,
          0.5445660376245864,
          0.5332105318610914,
          0.5113419326489856,
          0.4856049111243885,
          0.45964883611831314,
          0.43967273551899333,
          0.4227468726259702,
          0.4114170886409605,
          0.40159731991369185,
          0.3941766811496507,
          0.38761051015516307,
          0.38243830811838075,
          0.3778181761812691
         ],
         "b": [
          0.33955574946037487,
          0.3454514478787037,
          0.33957505369173585,
          0.341978102842289,
          0.358595080333166,
          0.38264943567762044,
          0.4091443336671791,
          0.43177322362572346,
          0.45154400389255817,
          0.46581684866125334,
          0.4784232246018771,
          0.4882798616337144,
          0.49705175401598783,
          0.5037994545691498,
          0.5098334601540614
         ],
         "c": [
          0.10527537591325355,
          0.10858741689073782,
          0.11585890868367783,
          0.12481136529661985,
          0.13006298701784838,
          0.13174565319799114,
          0.1312068302145076,
          0.12855404085528316,
          0.12570912348147167,
          0.12276606269778627,
          0.1199794554844311,
          0.11754345721663503,
          0.11533773582884907,
          0.1137622373124694,
          0.11234836366466941
         ],
         "line": {
          "color": "grey",
          "width": 0.25
         },
         "marker": {
          "color": "silver",
          "line": {
           "color": "black",
           "width": 0
          },
          "opacity": 0.9,
          "size": 6
         },
         "mode": "lines+text",
         "name": "VUT",
         "showlegend": false,
         "subplot": "ternary",
         "text": [
          "",
          "",
          "",
          "",
          "",
          "",
          "",
          "",
          "",
          "",
          "",
          "",
          "",
          "",
          ""
         ],
         "textfont": {
          "color": "black",
          "size": 1.8549589454887454
         },
         "type": "scatterternary"
        },
        {
         "a": [
          0.5551688746263717,
          0.5459611352305584,
          0.5445660376245864,
          0.5332105318610914,
          0.5113419326489856
         ],
         "b": [
          0.33955574946037487,
          0.3454514478787037,
          0.33957505369173585,
          0.341978102842289,
          0.358595080333166
         ],
         "c": [
          0.10527537591325355,
          0.10858741689073782,
          0.11585890868367783,
          0.12481136529661985,
          0.13006298701784838
         ],
         "line": {
          "color": "grey",
          "width": 0.25
         },
         "marker": {
          "color": "silver",
          "line": {
           "color": "black",
           "width": 0
          },
          "opacity": 0.9,
          "size": 6
         },
         "mode": "lines+text",
         "name": "VUT",
         "showlegend": false,
         "subplot": "ternary",
         "text": [
          "",
          "",
          "",
          "",
          "",
          "",
          "",
          "",
          "",
          "",
          "",
          "",
          "",
          "",
          ""
         ],
         "textfont": {
          "color": "black",
          "size": 1.8549589454887454
         },
         "type": "scatterternary"
        },
        {
         "a": [
          0,
          0,
          0,
          0,
          0,
          0,
          0,
          0,
          0,
          0,
          0,
          0,
          0,
          0,
          0
         ],
         "b": [
          0,
          0,
          0,
          0,
          0,
          0,
          0,
          0,
          0,
          0,
          0,
          0,
          0,
          0,
          0
         ],
         "c": [
          0,
          0,
          0,
          0,
          0,
          0,
          0,
          0,
          0,
          0,
          0,
          0,
          0,
          0,
          0
         ],
         "line": {
          "color": "grey",
          "width": 0.25
         },
         "marker": {
          "color": "silver",
          "line": {
           "color": "black",
           "width": 0
          },
          "opacity": 0.9,
          "size": 6
         },
         "mode": "lines+text",
         "name": "VEN",
         "showlegend": false,
         "subplot": "ternary",
         "text": [
          "",
          "",
          "",
          "",
          "",
          "",
          "",
          "",
          "",
          "",
          "",
          "",
          "",
          "",
          ""
         ],
         "textfont": {
          "color": "black",
          "size": 6.239112071395928
         },
         "type": "scatterternary"
        },
        {
         "a": [
          0,
          0,
          0,
          0,
          0
         ],
         "b": [
          0,
          0,
          0,
          0,
          0
         ],
         "c": [
          0,
          0,
          0,
          0,
          0
         ],
         "line": {
          "color": "grey",
          "width": 0.25
         },
         "marker": {
          "color": "silver",
          "line": {
           "color": "black",
           "width": 0
          },
          "opacity": 0.9,
          "size": 6
         },
         "mode": "lines+text",
         "name": "VEN",
         "showlegend": false,
         "subplot": "ternary",
         "text": [
          "",
          "",
          "",
          "",
          "",
          "",
          "",
          "",
          "",
          "",
          "",
          "",
          "",
          "",
          ""
         ],
         "textfont": {
          "color": "black",
          "size": 6.239112071395928
         },
         "type": "scatterternary"
        },
        {
         "a": [
          0.869293599396156,
          0.8497828149304861,
          0.8259031469281536,
          0.7836387214767798,
          0.7235682708014044,
          0.6580960300919991,
          0.5887463138711425,
          0.5398941046651207,
          0.49222359563035545,
          0.45655527371182036,
          0.42472687829859246,
          0.3971288191537048,
          0.37299659863832996,
          0.35188299858203115,
          0.3361283035678829
         ],
         "b": [
          0.03418586911189543,
          0.04120665829216021,
          0.04492849677911198,
          0.06475953767330446,
          0.10403473097960844,
          0.15432620006311273,
          0.21596614259084013,
          0.2675550044285415,
          0.31891773451488437,
          0.35611845314955937,
          0.3843419970580652,
          0.40593074217361474,
          0.4211270541895053,
          0.4318824571178672,
          0.43821270205346624
         ],
         "c": [
          0.09652053149194864,
          0.10901052677735368,
          0.1291683562927345,
          0.15160174084991565,
          0.1723969982189872,
          0.18757776984488814,
          0.19528754353801733,
          0.1925508909063379,
          0.1888586698547601,
          0.18732627313862024,
          0.19093112464334255,
          0.19694043867268038,
          0.20587634717216471,
          0.2162345443001017,
          0.22565899437865086
         ],
         "line": {
          "color": "grey",
          "width": 0.25
         },
         "marker": {
          "color": "silver",
          "line": {
           "color": "black",
           "width": 0
          },
          "opacity": 0.9,
          "size": 6
         },
         "mode": "lines+text",
         "name": "VNM",
         "showlegend": false,
         "subplot": "ternary",
         "text": [
          "",
          "",
          "",
          "",
          "",
          "",
          "",
          "",
          "",
          "",
          "",
          "",
          "",
          "",
          ""
         ],
         "textfont": {
          "color": "black",
          "size": 9.507711770409312
         },
         "type": "scatterternary"
        },
        {
         "a": [
          0.869293599396156,
          0.8497828149304861,
          0.8259031469281536,
          0.7836387214767798,
          0.7235682708014044
         ],
         "b": [
          0.03418586911189543,
          0.04120665829216021,
          0.04492849677911198,
          0.06475953767330446,
          0.10403473097960844
         ],
         "c": [
          0.09652053149194864,
          0.10901052677735368,
          0.1291683562927345,
          0.15160174084991565,
          0.1723969982189872
         ],
         "line": {
          "color": "grey",
          "width": 0.25
         },
         "marker": {
          "color": "silver",
          "line": {
           "color": "black",
           "width": 0
          },
          "opacity": 0.9,
          "size": 6
         },
         "mode": "lines+text",
         "name": "VNM",
         "showlegend": false,
         "subplot": "ternary",
         "text": [
          "",
          "",
          "",
          "",
          "",
          "",
          "",
          "",
          "",
          "",
          "",
          "",
          "",
          "",
          ""
         ],
         "textfont": {
          "color": "black",
          "size": 9.507711770409312
         },
         "type": "scatterternary"
        },
        {
         "a": [
          0.3763520755824351,
          0.37083902741654196,
          0.354160251142298,
          0.32239150929250215,
          0.29146506095139013,
          0.26404388664933115,
          0.24173198225593892,
          0.22589726452985626,
          0.2132155860195737,
          0.2048814153141696,
          0.19770922288187115,
          0.1919414781226847,
          0.18683611536638556,
          0.18264059099286872,
          0.17921097922572365
         ],
         "b": [
          0.5563580226934364,
          0.5600747735669441,
          0.5750490942534677,
          0.6062801598697554,
          0.6372948226613919,
          0.6652033490301247,
          0.6889334065195833,
          0.7075178526625653,
          0.7227306663872757,
          0.7333357577755686,
          0.7430365051823176,
          0.7514125138022918,
          0.7587774235311349,
          0.764736011116994,
          0.769426073992887
         ],
         "c": [
          0.06728990172412859,
          0.06908619901651387,
          0.07079065460423423,
          0.0713283308377426,
          0.07124011638721786,
          0.07075276432054406,
          0.06933461122447761,
          0.0665848828075783,
          0.06405374759315079,
          0.06178282691026171,
          0.059254271935811266,
          0.056646008075023284,
          0.054386461102479425,
          0.05262339789013714,
          0.051362946781389314
         ],
         "line": {
          "color": "grey",
          "width": 0.25
         },
         "marker": {
          "color": "silver",
          "line": {
           "color": "black",
           "width": 0
          },
          "opacity": 0.9,
          "size": 6
         },
         "mode": "lines+text",
         "name": "YEM",
         "showlegend": false,
         "subplot": "ternary",
         "text": [
          "",
          "",
          "",
          "",
          "",
          "",
          "",
          "",
          "",
          "",
          "",
          "",
          "",
          "",
          ""
         ],
         "textfont": {
          "color": "black",
          "size": 6.472682194748737
         },
         "type": "scatterternary"
        },
        {
         "a": [
          0.3763520755824351,
          0.37083902741654196,
          0.354160251142298,
          0.32239150929250215,
          0.29146506095139013
         ],
         "b": [
          0.5563580226934364,
          0.5600747735669441,
          0.5750490942534677,
          0.6062801598697554,
          0.6372948226613919
         ],
         "c": [
          0.06728990172412859,
          0.06908619901651387,
          0.07079065460423423,
          0.0713283308377426,
          0.07124011638721786
         ],
         "line": {
          "color": "grey",
          "width": 0.25
         },
         "marker": {
          "color": "silver",
          "line": {
           "color": "black",
           "width": 0
          },
          "opacity": 0.9,
          "size": 6
         },
         "mode": "lines+text",
         "name": "YEM",
         "showlegend": false,
         "subplot": "ternary",
         "text": [
          "",
          "",
          "",
          "",
          "",
          "",
          "",
          "",
          "",
          "",
          "",
          "",
          "",
          "",
          ""
         ],
         "textfont": {
          "color": "black",
          "size": 6.472682194748737
         },
         "type": "scatterternary"
        },
        {
         "a": [
          0.7110652856006545,
          0.597234694514587,
          0.49926276629836797,
          0.42805206706004684,
          0.3676594315598342,
          0.31384100521544317,
          0.28620431961304105,
          0.26863953970281507,
          0.24847630570268447,
          0.2402360372071962,
          0.23009342897065233,
          0.2223060496359383,
          0.21968653928546866,
          0.2254997218224868,
          0.2415050516055119
         ],
         "b": [
          0.19543754364378582,
          0.3098789213342774,
          0.41095552975700184,
          0.4839501311045429,
          0.5452068770523032,
          0.5990500566804697,
          0.6214450032276579,
          0.6287332332391116,
          0.6245606585875338,
          0.5969336297119122,
          0.5616675897911533,
          0.5328474069293555,
          0.5053578120625796,
          0.4834600035494965,
          0.4659481154590878
         ],
         "c": [
          0.09349717075555958,
          0.09288638415113583,
          0.08978170394463009,
          0.08799780183541017,
          0.08713369138786281,
          0.08710893810408732,
          0.0923506771593011,
          0.10262722705807321,
          0.12696303570978196,
          0.16283033308089162,
          0.20823898123819456,
          0.24484654343470605,
          0.2749556486519517,
          0.29104027462801674,
          0.29254683293540007
         ],
         "line": {
          "color": "grey",
          "width": 0.25
         },
         "marker": {
          "color": "silver",
          "line": {
           "color": "black",
           "width": 0
          },
          "opacity": 0.9,
          "size": 6
         },
         "mode": "lines+text",
         "name": "ZMB",
         "showlegend": false,
         "subplot": "ternary",
         "text": [
          "",
          "",
          "",
          "",
          "",
          "",
          "",
          "",
          "",
          "",
          "",
          "",
          "",
          "",
          ""
         ],
         "textfont": {
          "color": "black",
          "size": 5.414216027546614
         },
         "type": "scatterternary"
        },
        {
         "a": [
          0.7110652856006545,
          0.597234694514587,
          0.49926276629836797,
          0.42805206706004684,
          0.3676594315598342
         ],
         "b": [
          0.19543754364378582,
          0.3098789213342774,
          0.41095552975700184,
          0.4839501311045429,
          0.5452068770523032
         ],
         "c": [
          0.09349717075555958,
          0.09288638415113583,
          0.08978170394463009,
          0.08799780183541017,
          0.08713369138786281
         ],
         "line": {
          "color": "grey",
          "width": 0.25
         },
         "marker": {
          "color": "silver",
          "line": {
           "color": "black",
           "width": 0
          },
          "opacity": 0.9,
          "size": 6
         },
         "mode": "lines+text",
         "name": "ZMB",
         "showlegend": false,
         "subplot": "ternary",
         "text": [
          "",
          "",
          "",
          "",
          "",
          "",
          "",
          "",
          "",
          "",
          "",
          "",
          "",
          "",
          ""
         ],
         "textfont": {
          "color": "black",
          "size": 5.414216027546614
         },
         "type": "scatterternary"
        },
        {
         "a": [
          0.7019569623698231,
          0.6500640989751691,
          0.5830029146116017,
          0.5207438230840848,
          0.45070402266814324,
          0.37891792084430087,
          0.3332003127239861,
          0.30574277319656645,
          0.27939379799351916,
          0.26529753077535356,
          0.24730110453178106,
          0.23002226112513338,
          0.21741946434412257,
          0.213690180489634,
          0.21429672023898183
         ],
         "b": [
          0.196939531843654,
          0.24133476489103112,
          0.3081315118921678,
          0.3707045624830112,
          0.44569791253640906,
          0.5235258869124574,
          0.5735355751270697,
          0.6050458146365845,
          0.6299454277412208,
          0.6313845680905141,
          0.6223379077869426,
          0.6104483435408534,
          0.5964737355964624,
          0.5845381796516387,
          0.5779420125595374
         ],
         "c": [
          0.10110350578652284,
          0.10860113613379978,
          0.10886557349623066,
          0.1085516144329039,
          0.1035980647954477,
          0.09755619224324175,
          0.0932641121489442,
          0.08921141216684911,
          0.09066077426526027,
          0.10331790113413228,
          0.13036098768127655,
          0.15952939533401317,
          0.18610680005941488,
          0.20177163985872737,
          0.20776126720148086
         ],
         "line": {
          "color": "grey",
          "width": 0.25
         },
         "marker": {
          "color": "silver",
          "line": {
           "color": "black",
           "width": 0
          },
          "opacity": 0.9,
          "size": 6
         },
         "mode": "lines+text",
         "name": "ZWE",
         "showlegend": false,
         "subplot": "ternary",
         "text": [
          "",
          "",
          "",
          "",
          "",
          "",
          "",
          "",
          "",
          "",
          "",
          "",
          "",
          "",
          ""
         ],
         "textfont": {
          "color": "black",
          "size": 5.09946720749132
         },
         "type": "scatterternary"
        },
        {
         "a": [
          0.7019569623698231,
          0.6500640989751691,
          0.5830029146116017,
          0.5207438230840848,
          0.45070402266814324
         ],
         "b": [
          0.196939531843654,
          0.24133476489103112,
          0.3081315118921678,
          0.3707045624830112,
          0.44569791253640906
         ],
         "c": [
          0.10110350578652284,
          0.10860113613379978,
          0.10886557349623066,
          0.1085516144329039,
          0.1035980647954477
         ],
         "line": {
          "color": "grey",
          "width": 0.25
         },
         "marker": {
          "color": "silver",
          "line": {
           "color": "black",
           "width": 0
          },
          "opacity": 0.9,
          "size": 6
         },
         "mode": "lines+text",
         "name": "ZWE",
         "showlegend": false,
         "subplot": "ternary",
         "text": [
          "",
          "",
          "",
          "",
          "",
          "",
          "",
          "",
          "",
          "",
          "",
          "",
          "",
          "",
          ""
         ],
         "textfont": {
          "color": "black",
          "size": 5.09946720749132
         },
         "type": "scatterternary"
        },
        {
         "a": [
          0.7570328871476806,
          0.6470359157357657,
          0.5009841943904125,
          0.3554785506032928,
          0.23132478566728992,
          0.15107516008023467,
          0.09504867481255042,
          0.0699016274145873,
          0.055744037453533665,
          0.04616312480768439,
          0.03908149264408285,
          0.036567912812932514,
          0.03543895569379102,
          0.03407772238017203,
          0.033533470719818714
         ],
         "b": [
          0.16385437285154,
          0.2759681274388884,
          0.4234043286545326,
          0.566475622028852,
          0.6953919041840615,
          0.783562870911076,
          0.849042115839431,
          0.8813207310571736,
          0.9006567117434803,
          0.9132341686661735,
          0.9213447828368927,
          0.9290625893257404,
          0.9345586551672151,
          0.9390875564191004,
          0.9433606537439663
         ],
         "c": [
          0.07911274000077934,
          0.07699595682534595,
          0.07561147695505493,
          0.07804582736785504,
          0.07328331014864856,
          0.06536196900868962,
          0.05590920934801853,
          0.04877764152823917,
          0.04359925080298589,
          0.04060270652614216,
          0.03957372451902433,
          0.034369497861327016,
          0.030002389138993717,
          0.026834721200727454,
          0.02310587553621496
         ],
         "line": {
          "color": "navy",
          "width": 3
         },
         "marker": {
          "color": "navy",
          "line": {
           "color": "white",
           "width": 0.5
          },
          "opacity": 0.9,
          "size": [
           8,
           8,
           8,
           8,
           8,
           8,
           8,
           8,
           8,
           8,
           8,
           8,
           8,
           8,
           8
          ]
         },
         "mode": "lines+markers",
         "name": "USA",
         "showlegend": false,
         "subplot": "ternary",
         "text": [
          "2030",
          "",
          "",
          "",
          "",
          "",
          "'60",
          "",
          "",
          "",
          "'80",
          "",
          "",
          "",
          "2100"
         ],
         "textfont": {
          "color": "navy",
          "size": 16
         },
         "textposition": "top center",
         "type": "scatterternary"
        },
        {
         "a": [
          0.7570328871476806
         ],
         "b": [
          0.16385437285154
         ],
         "c": [
          0.07911274000077934
         ],
         "line": {
          "color": "navy",
          "width": 3
         },
         "marker": {
          "color": "navy",
          "line": {
           "color": "white",
           "width": 0.5
          },
          "opacity": 0.9,
          "size": [
           20
          ]
         },
         "mode": "markers+text",
         "name": "USA",
         "showlegend": false,
         "subplot": "ternary",
         "text": [
          "<b>USA"
         ],
         "textfont": {
          "color": "navy",
          "size": 18
         },
         "textposition": "middle left",
         "type": "scatterternary"
        },
        {
         "a": [
          0.7570328871476806
         ],
         "b": [
          0.16385437285154
         ],
         "c": [
          0.07911274000077934
         ],
         "line": {
          "color": "navy",
          "width": 3
         },
         "marker": {
          "color": "navy",
          "line": {
           "color": "white",
           "width": 0.5
          },
          "opacity": 0.9,
          "size": [
           20
          ]
         },
         "mode": "markers+text",
         "name": "USA",
         "showlegend": false,
         "subplot": "ternary",
         "text": [
          "2030"
         ],
         "textfont": {
          "color": "navy",
          "size": 16
         },
         "textposition": "middle right",
         "type": "scatterternary"
        },
        {
         "a": [
          0.23132478566728992
         ],
         "b": [
          0.6953919041840615
         ],
         "c": [
          0.07328331014864856
         ],
         "line": {
          "color": "navy",
          "width": 3
         },
         "marker": {
          "color": "navy",
          "line": {
           "color": "white",
           "width": 0.5
          },
          "opacity": 0.9,
          "size": [
           15
          ]
         },
         "mode": "markers+text",
         "name": "USA",
         "showlegend": false,
         "subplot": "ternary",
         "text": [
          "2050"
         ],
         "textfont": {
          "color": "navy",
          "size": 16
         },
         "textposition": "middle right",
         "type": "scatterternary"
        },
        {
         "a": [
          0.033533470719818714
         ],
         "b": [
          0.9433606537439663
         ],
         "c": [
          0.02310587553621496
         ],
         "line": {
          "color": "navy",
          "width": 3
         },
         "marker": {
          "color": "navy",
          "line": {
           "color": "white",
           "width": 0.5
          },
          "opacity": 0.9,
          "size": [
           20
          ]
         },
         "mode": "markers+text",
         "name": "USA",
         "showlegend": false,
         "subplot": "ternary",
         "text": [
          "2100"
         ],
         "textfont": {
          "color": "navy",
          "size": 16
         },
         "textposition": "bottom center",
         "type": "scatterternary"
        },
        {
         "a": [
          0.8869105408936695,
          0.87400650982277,
          0.8480320002490578,
          0.8103626962936339,
          0.7551859779255587,
          0.6912733983876193,
          0.613951493467488,
          0.5545055613938801,
          0.4951691697605183,
          0.44777536590589967,
          0.40368553043156163,
          0.3677940527639616,
          0.34443119982164705,
          0.32938241800574053,
          0.31565357484738527
         ],
         "b": [
          0.019362236536862493,
          0.02008643071276007,
          0.02979063461822583,
          0.0475913563426789,
          0.08137178951895796,
          0.12590025782373615,
          0.1858339499929446,
          0.23798033052120432,
          0.2898239614417805,
          0.3325157390138497,
          0.3714703549247501,
          0.40473026911178633,
          0.43393097912050976,
          0.460058366416321,
          0.48537078970226194
         ],
         "c": [
          0.09372722256946825,
          0.10590705946447003,
          0.12217736513271646,
          0.14204594736368736,
          0.16344223255548324,
          0.18282634378864476,
          0.20021455653956743,
          0.2075141080849157,
          0.21500686879770126,
          0.21970889508025077,
          0.22484411464368836,
          0.22747567812425196,
          0.22163782105784327,
          0.21055921557793866,
          0.19897563545035282
         ],
         "line": {
          "color": "red",
          "width": 3
         },
         "marker": {
          "color": "red",
          "line": {
           "color": "white",
           "width": 0.5
          },
          "opacity": 0.9,
          "size": [
           8,
           8,
           8,
           8,
           8,
           8,
           8,
           8,
           8,
           8,
           8,
           8,
           8,
           8,
           8
          ]
         },
         "mode": "lines+markers",
         "name": "CHN",
         "showlegend": false,
         "subplot": "ternary",
         "text": [
          "2030",
          "",
          "",
          "",
          "",
          "",
          "'60",
          "",
          "",
          "",
          "'80",
          "",
          "",
          "",
          "2100"
         ],
         "textfont": {
          "color": "red",
          "size": 16
         },
         "textposition": "top center",
         "type": "scatterternary"
        },
        {
         "a": [
          0.8869105408936695
         ],
         "b": [
          0.019362236536862493
         ],
         "c": [
          0.09372722256946825
         ],
         "line": {
          "color": "red",
          "width": 3
         },
         "marker": {
          "color": "red",
          "line": {
           "color": "white",
           "width": 0.5
          },
          "opacity": 0.9,
          "size": [
           20
          ]
         },
         "mode": "markers+text",
         "name": "CHN",
         "showlegend": false,
         "subplot": "ternary",
         "text": [
          "<b>CHN"
         ],
         "textfont": {
          "color": "red",
          "size": 18
         },
         "textposition": "middle left",
         "type": "scatterternary"
        },
        {
         "a": [
          0.8869105408936695
         ],
         "b": [
          0.019362236536862493
         ],
         "c": [
          0.09372722256946825
         ],
         "line": {
          "color": "red",
          "width": 3
         },
         "marker": {
          "color": "red",
          "line": {
           "color": "white",
           "width": 0.5
          },
          "opacity": 0.9,
          "size": [
           20
          ]
         },
         "mode": "markers+text",
         "name": "CHN",
         "showlegend": false,
         "subplot": "ternary",
         "text": [
          "2030"
         ],
         "textfont": {
          "color": "red",
          "size": 16
         },
         "textposition": "middle right",
         "type": "scatterternary"
        },
        {
         "a": [
          0.7551859779255587
         ],
         "b": [
          0.08137178951895796
         ],
         "c": [
          0.16344223255548324
         ],
         "line": {
          "color": "red",
          "width": 3
         },
         "marker": {
          "color": "red",
          "line": {
           "color": "white",
           "width": 0.5
          },
          "opacity": 0.9,
          "size": [
           15
          ]
         },
         "mode": "markers+text",
         "name": "CHN",
         "showlegend": false,
         "subplot": "ternary",
         "text": [
          "2050"
         ],
         "textfont": {
          "color": "red",
          "size": 16
         },
         "textposition": "middle right",
         "type": "scatterternary"
        },
        {
         "a": [
          0.31565357484738527
         ],
         "b": [
          0.48537078970226194
         ],
         "c": [
          0.19897563545035282
         ],
         "line": {
          "color": "red",
          "width": 3
         },
         "marker": {
          "color": "red",
          "line": {
           "color": "white",
           "width": 0.5
          },
          "opacity": 0.9,
          "size": [
           20
          ]
         },
         "mode": "markers+text",
         "name": "CHN",
         "showlegend": false,
         "subplot": "ternary",
         "text": [
          "2100"
         ],
         "textfont": {
          "color": "red",
          "size": 16
         },
         "textposition": "bottom center",
         "type": "scatterternary"
        },
        {
         "a": [
          0.8268746523421971,
          0.7404873331488864,
          0.6400622241759742,
          0.5659292549284801,
          0.4934608092883135,
          0.42926172242476635,
          0.36276562094123577,
          0.3131087035311928,
          0.2708302620870944,
          0.23683901029030557,
          0.2026235690108651,
          0.18049146317830184,
          0.16071027607231975,
          0.14509416918975648,
          0.13207413939748208
         ],
         "b": [
          0.08750842819959001,
          0.17174707056020616,
          0.2682297967560471,
          0.3335279222102704,
          0.39836792899314855,
          0.45790183288778846,
          0.5245266980136508,
          0.5799358039408697,
          0.6266998715437179,
          0.6646399899934134,
          0.7022803665081234,
          0.7231991086235728,
          0.7317517464845531,
          0.7351916502247619,
          0.7441993433916916
         ],
         "c": [
          0.08561691945821272,
          0.0877655962909076,
          0.09170797906797863,
          0.10054282286124945,
          0.10817126171853816,
          0.11283644468744508,
          0.11270768104511338,
          0.10695549252793753,
          0.10246986636918783,
          0.09852099971628099,
          0.0950960644810114,
          0.09630942819812541,
          0.1075379774431271,
          0.11971418058548164,
          0.12372651721082625
         ],
         "line": {
          "color": "green",
          "width": 3
         },
         "marker": {
          "color": "green",
          "line": {
           "color": "white",
           "width": 0.5
          },
          "opacity": 0.9,
          "size": [
           8,
           8,
           8,
           8,
           8,
           8,
           8,
           8,
           8,
           8,
           8,
           8,
           8,
           8,
           8
          ]
         },
         "mode": "lines+markers",
         "name": "BRA",
         "showlegend": false,
         "subplot": "ternary",
         "text": [
          "2030",
          "",
          "",
          "",
          "",
          "",
          "'60",
          "",
          "",
          "",
          "'80",
          "",
          "",
          "",
          "2100"
         ],
         "textfont": {
          "color": "green",
          "size": 16
         },
         "textposition": "top center",
         "type": "scatterternary"
        },
        {
         "a": [
          0.8268746523421971
         ],
         "b": [
          0.08750842819959001
         ],
         "c": [
          0.08561691945821272
         ],
         "line": {
          "color": "green",
          "width": 3
         },
         "marker": {
          "color": "green",
          "line": {
           "color": "white",
           "width": 0.5
          },
          "opacity": 0.9,
          "size": [
           20
          ]
         },
         "mode": "markers+text",
         "name": "BRA",
         "showlegend": false,
         "subplot": "ternary",
         "text": [
          "<b>BRA"
         ],
         "textfont": {
          "color": "green",
          "size": 18
         },
         "textposition": "middle left",
         "type": "scatterternary"
        },
        {
         "a": [
          0.8268746523421971
         ],
         "b": [
          0.08750842819959001
         ],
         "c": [
          0.08561691945821272
         ],
         "line": {
          "color": "green",
          "width": 3
         },
         "marker": {
          "color": "green",
          "line": {
           "color": "white",
           "width": 0.5
          },
          "opacity": 0.9,
          "size": [
           20
          ]
         },
         "mode": "markers+text",
         "name": "BRA",
         "showlegend": false,
         "subplot": "ternary",
         "text": [
          "2030"
         ],
         "textfont": {
          "color": "green",
          "size": 16
         },
         "textposition": "middle right",
         "type": "scatterternary"
        },
        {
         "a": [
          0.4934608092883135
         ],
         "b": [
          0.39836792899314855
         ],
         "c": [
          0.10817126171853816
         ],
         "line": {
          "color": "green",
          "width": 3
         },
         "marker": {
          "color": "green",
          "line": {
           "color": "white",
           "width": 0.5
          },
          "opacity": 0.9,
          "size": [
           15
          ]
         },
         "mode": "markers+text",
         "name": "BRA",
         "showlegend": false,
         "subplot": "ternary",
         "text": [
          "2050"
         ],
         "textfont": {
          "color": "green",
          "size": 16
         },
         "textposition": "middle right",
         "type": "scatterternary"
        },
        {
         "a": [
          0.13207413939748208
         ],
         "b": [
          0.7441993433916916
         ],
         "c": [
          0.12372651721082625
         ],
         "line": {
          "color": "green",
          "width": 3
         },
         "marker": {
          "color": "green",
          "line": {
           "color": "white",
           "width": 0.5
          },
          "opacity": 0.9,
          "size": [
           20
          ]
         },
         "mode": "markers+text",
         "name": "BRA",
         "showlegend": false,
         "subplot": "ternary",
         "text": [
          "2100"
         ],
         "textfont": {
          "color": "green",
          "size": 16
         },
         "textposition": "bottom center",
         "type": "scatterternary"
        },
        {
         "a": [
          0.8007871913463673,
          0.7643590282168646,
          0.7181986414693484,
          0.6698257426176267,
          0.6031199544186816,
          0.5333917715195403,
          0.4691446269250963,
          0.42537901737623207,
          0.38793043840985597,
          0.36184719309457414,
          0.33959389966524656,
          0.32304948555601126,
          0.30698623522514473,
          0.2945860483248047,
          0.283103756140153
         ],
         "b": [
          0.09820476357083861,
          0.12662776806611517,
          0.1629384172076751,
          0.19899386266145,
          0.25695293134957864,
          0.3239628182590649,
          0.39058955888330466,
          0.44171890495809824,
          0.4868701645487347,
          0.5214111103839405,
          0.5513674789693078,
          0.5740220149029878,
          0.595781294530172,
          0.6116551356129183,
          0.6266586009584246
         ],
         "c": [
          0.10100804508279392,
          0.10901320371702022,
          0.11886294132297646,
          0.13118039472092327,
          0.13992711423173962,
          0.1426454102213947,
          0.14026581419159911,
          0.1329020776656698,
          0.1251993970414092,
          0.11674169652148515,
          0.10903862136544551,
          0.10292849954100082,
          0.0972324702446833,
          0.0937588160622771,
          0.09023764290142235
         ],
         "line": {
          "color": "orange",
          "width": 3
         },
         "marker": {
          "color": "orange",
          "line": {
           "color": "white",
           "width": 0.5
          },
          "opacity": 0.9,
          "size": [
           8,
           8,
           8,
           8,
           8,
           8,
           8,
           8,
           8,
           8,
           8,
           8,
           8,
           8,
           8
          ]
         },
         "mode": "lines+markers",
         "name": "IND",
         "showlegend": false,
         "subplot": "ternary",
         "text": [
          "2030",
          "",
          "",
          "",
          "",
          "",
          "'60",
          "",
          "",
          "",
          "'80",
          "",
          "",
          "",
          "2100"
         ],
         "textfont": {
          "color": "orange",
          "size": 16
         },
         "textposition": "top center",
         "type": "scatterternary"
        },
        {
         "a": [
          0.8007871913463673
         ],
         "b": [
          0.09820476357083861
         ],
         "c": [
          0.10100804508279392
         ],
         "line": {
          "color": "orange",
          "width": 3
         },
         "marker": {
          "color": "orange",
          "line": {
           "color": "white",
           "width": 0.5
          },
          "opacity": 0.9,
          "size": [
           20
          ]
         },
         "mode": "markers+text",
         "name": "IND",
         "showlegend": false,
         "subplot": "ternary",
         "text": [
          "<b>IND"
         ],
         "textfont": {
          "color": "orange",
          "size": 18
         },
         "textposition": "middle left",
         "type": "scatterternary"
        },
        {
         "a": [
          0.8007871913463673
         ],
         "b": [
          0.09820476357083861
         ],
         "c": [
          0.10100804508279392
         ],
         "line": {
          "color": "orange",
          "width": 3
         },
         "marker": {
          "color": "orange",
          "line": {
           "color": "white",
           "width": 0.5
          },
          "opacity": 0.9,
          "size": [
           20
          ]
         },
         "mode": "markers+text",
         "name": "IND",
         "showlegend": false,
         "subplot": "ternary",
         "text": [
          "2030"
         ],
         "textfont": {
          "color": "orange",
          "size": 16
         },
         "textposition": "middle right",
         "type": "scatterternary"
        },
        {
         "a": [
          0.6031199544186816
         ],
         "b": [
          0.25695293134957864
         ],
         "c": [
          0.13992711423173962
         ],
         "line": {
          "color": "orange",
          "width": 3
         },
         "marker": {
          "color": "orange",
          "line": {
           "color": "white",
           "width": 0.5
          },
          "opacity": 0.9,
          "size": [
           15
          ]
         },
         "mode": "markers+text",
         "name": "IND",
         "showlegend": false,
         "subplot": "ternary",
         "text": [
          "2050"
         ],
         "textfont": {
          "color": "orange",
          "size": 16
         },
         "textposition": "middle right",
         "type": "scatterternary"
        },
        {
         "a": [
          0.283103756140153
         ],
         "b": [
          0.6266586009584246
         ],
         "c": [
          0.09023764290142235
         ],
         "line": {
          "color": "orange",
          "width": 3
         },
         "marker": {
          "color": "orange",
          "line": {
           "color": "white",
           "width": 0.5
          },
          "opacity": 0.9,
          "size": [
           20
          ]
         },
         "mode": "markers+text",
         "name": "IND",
         "showlegend": false,
         "subplot": "ternary",
         "text": [
          "2100"
         ],
         "textfont": {
          "color": "orange",
          "size": 16
         },
         "textposition": "bottom center",
         "type": "scatterternary"
        },
        {
         "a": [
          0.4177677826266421,
          0.3898861146091943,
          0.36495142619861143,
          0.33290229727256493,
          0.3025938692854019,
          0.2767045210733577,
          0.25512259335866866,
          0.23946661945892084,
          0.22488035036165693,
          0.215641965559044,
          0.208017577424066,
          0.20227969979575333,
          0.19742756713265236,
          0.19367921368278465,
          0.19091759523769475
         ],
         "b": [
          0.5042449353699524,
          0.5327749639870822,
          0.5573493056572922,
          0.5893996223212274,
          0.6200382571580253,
          0.6456008033096534,
          0.6665086293527798,
          0.677378181313839,
          0.6847171903692502,
          0.6876637699537116,
          0.6903825337482645,
          0.6918203666113967,
          0.6942529007473273,
          0.7005275102271492,
          0.7146338313224037
         ],
         "c": [
          0.07798728200340567,
          0.07733892140372345,
          0.07769926814409653,
          0.07769808040620753,
          0.0773678735565727,
          0.07769467561698867,
          0.07836877728855149,
          0.08315519922724016,
          0.09040245926909285,
          0.09669426448724441,
          0.10159988882766943,
          0.10589993359284999,
          0.10831953212002049,
          0.10579327609006631,
          0.09444857343990162
         ],
         "line": {
          "color": "purple",
          "width": 3
         },
         "marker": {
          "color": "purple",
          "line": {
           "color": "white",
           "width": 0.5
          },
          "opacity": 0.9,
          "size": [
           8,
           8,
           8,
           8,
           8,
           8,
           8,
           8,
           8,
           8,
           8,
           8,
           8,
           8,
           8
          ]
         },
         "mode": "lines+markers",
         "name": "UGA",
         "showlegend": false,
         "subplot": "ternary",
         "text": [
          "2030",
          "",
          "",
          "",
          "",
          "",
          "'60",
          "",
          "",
          "",
          "'80",
          "",
          "",
          "",
          "2100"
         ],
         "textfont": {
          "color": "purple",
          "size": 16
         },
         "textposition": "top center",
         "type": "scatterternary"
        },
        {
         "a": [
          0.4177677826266421
         ],
         "b": [
          0.5042449353699524
         ],
         "c": [
          0.07798728200340567
         ],
         "line": {
          "color": "purple",
          "width": 3
         },
         "marker": {
          "color": "purple",
          "line": {
           "color": "white",
           "width": 0.5
          },
          "opacity": 0.9,
          "size": [
           20
          ]
         },
         "mode": "markers+text",
         "name": "UGA",
         "showlegend": false,
         "subplot": "ternary",
         "text": [
          "<b>UGA"
         ],
         "textfont": {
          "color": "purple",
          "size": 18
         },
         "textposition": "middle left",
         "type": "scatterternary"
        },
        {
         "a": [
          0.4177677826266421
         ],
         "b": [
          0.5042449353699524
         ],
         "c": [
          0.07798728200340567
         ],
         "line": {
          "color": "purple",
          "width": 3
         },
         "marker": {
          "color": "purple",
          "line": {
           "color": "white",
           "width": 0.5
          },
          "opacity": 0.9,
          "size": [
           20
          ]
         },
         "mode": "markers+text",
         "name": "UGA",
         "showlegend": false,
         "subplot": "ternary",
         "text": [
          "2030"
         ],
         "textfont": {
          "color": "purple",
          "size": 16
         },
         "textposition": "middle right",
         "type": "scatterternary"
        },
        {
         "a": [
          0.3025938692854019
         ],
         "b": [
          0.6200382571580253
         ],
         "c": [
          0.0773678735565727
         ],
         "line": {
          "color": "purple",
          "width": 3
         },
         "marker": {
          "color": "purple",
          "line": {
           "color": "white",
           "width": 0.5
          },
          "opacity": 0.9,
          "size": [
           15
          ]
         },
         "mode": "markers+text",
         "name": "UGA",
         "showlegend": false,
         "subplot": "ternary",
         "text": [
          "2050"
         ],
         "textfont": {
          "color": "purple",
          "size": 16
         },
         "textposition": "middle right",
         "type": "scatterternary"
        },
        {
         "a": [
          0.19091759523769475
         ],
         "b": [
          0.7146338313224037
         ],
         "c": [
          0.09444857343990162
         ],
         "line": {
          "color": "purple",
          "width": 3
         },
         "marker": {
          "color": "purple",
          "line": {
           "color": "white",
           "width": 0.5
          },
          "opacity": 0.9,
          "size": [
           20
          ]
         },
         "mode": "markers+text",
         "name": "UGA",
         "showlegend": false,
         "subplot": "ternary",
         "text": [
          "2100"
         ],
         "textfont": {
          "color": "purple",
          "size": 16
         },
         "textposition": "bottom center",
         "type": "scatterternary"
        },
        {
         "fill": "tozeroy",
         "marker": {
          "color": "goldenrod"
         },
         "mode": "lines",
         "name": "Allocation rule",
         "showlegend": true,
         "stackgroup": "one",
         "type": "scatter",
         "x": [
          2030,
          2035,
          2040,
          2045,
          2050,
          2055,
          2060,
          2065,
          2070,
          2075,
          2080,
          2085,
          2090,
          2095,
          2100
         ],
         "xaxis": "x2",
         "y": [
          0.11649513016175113,
          0.18684695632457468,
          0.28562134016709306,
          0.3843694652335747,
          0.48242039193921676,
          0.5527710878746646,
          0.6093716012518988,
          0.6398073692004557,
          0.6607620910154178,
          0.6756682327308384,
          0.6876993443985316,
          0.6973395572148168,
          0.7051623705080433,
          0.7114861001531735,
          0.7177004016418453
         ],
         "yaxis": "y2"
        },
        {
         "fill": "tonexty",
         "marker": {
          "color": "salmon"
         },
         "mode": "lines",
         "name": "Discount factor",
         "showlegend": true,
         "stackgroup": "one",
         "type": "scatter",
         "x": [
          2030,
          2035,
          2040,
          2045,
          2050,
          2055,
          2060,
          2065,
          2070,
          2075,
          2080,
          2085,
          2090,
          2095,
          2100
         ],
         "xaxis": "x2",
         "y": [
          0.026394872842277834,
          0.049856918929973223,
          0.07856951646719587,
          0.10888480526151943,
          0.1290532584416855,
          0.14063811101228413,
          0.1462115201708995,
          0.14733575286072867,
          0.14634823646316056,
          0.14492761803907636,
          0.14253590797089033,
          0.14136314048904483,
          0.1399437020194063,
          0.13884876465177434,
          0.13766452923009237
         ],
         "yaxis": "y2"
        },
        {
         "fill": "tonexty",
         "marker": {
          "color": "tomato"
         },
         "mode": "lines",
         "name": "Historical startyear",
         "showlegend": true,
         "stackgroup": "one",
         "type": "scatter",
         "x": [
          2030,
          2035,
          2040,
          2045,
          2050,
          2055,
          2060,
          2065,
          2070,
          2075,
          2080,
          2085,
          2090,
          2095,
          2100
         ],
         "xaxis": "x2",
         "y": [
          0.016871709448473035,
          0.03186874402381799,
          0.05022195239846675,
          0.06959960552100981,
          0.08249136407343093,
          0.0898964482643856,
          0.09345899441663277,
          0.09417760899598923,
          0.09354638426490196,
          0.09263831789625863,
          0.09110953046747076,
          0.0903598916218788,
          0.08945258263976558,
          0.08875269161415253,
          0.08799572287202849
         ],
         "yaxis": "y2"
        },
        {
         "fill": "tonexty",
         "marker": {
          "color": "darkred"
         },
         "mode": "lines",
         "name": "Convergence year",
         "showlegend": true,
         "stackgroup": "one",
         "type": "scatter",
         "x": [
          2030,
          2035,
          2040,
          2045,
          2050,
          2055,
          2060,
          2065,
          2070,
          2075,
          2080,
          2085,
          2090,
          2095,
          2100
         ],
         "xaxis": "x2",
         "y": [
          0.004092660399038001,
          0.007395508160522497,
          0.008991519621776838,
          0.003621746012748167,
          0.0014268897297283873,
          0.00025722375974167734,
          0,
          0,
          0,
          0,
          0,
          0,
          0,
          0,
          0
         ],
         "yaxis": "y2"
        },
        {
         "fill": "tonexty",
         "marker": {
          "color": "dodgerblue"
         },
         "mode": "lines",
         "name": "Climate sensitivity",
         "showlegend": true,
         "stackgroup": "one",
         "type": "scatter",
         "x": [
          2030,
          2035,
          2040,
          2045,
          2050,
          2055,
          2060,
          2065,
          2070,
          2075,
          2080,
          2085,
          2090,
          2095,
          2100
         ],
         "xaxis": "x2",
         "y": [
          0.07880551795066555,
          0.07529773209937651,
          0.06808415819894914,
          0.05813449976241885,
          0.047252099676363075,
          0.037759207019363285,
          0.02862466241213818,
          0.023051608541797466,
          0.019340016196287398,
          0.01568586150090139,
          0.012510795913607608,
          0.010940214504488307,
          0.009836560163612564,
          0.008817495843643558,
          0.008091942107481325
         ],
         "yaxis": "y2"
        },
        {
         "fill": "tonexty",
         "marker": {
          "color": "steelblue"
         },
         "mode": "lines",
         "name": "Socio-economic scenario",
         "showlegend": true,
         "stackgroup": "one",
         "type": "scatter",
         "x": [
          2030,
          2035,
          2040,
          2045,
          2050,
          2055,
          2060,
          2065,
          2070,
          2075,
          2080,
          2085,
          2090,
          2095,
          2100
         ],
         "xaxis": "x2",
         "y": [
          0.00030722205011378086,
          0.0016982247259694381,
          0.007527318756105799,
          0.019911327605436187,
          0.026031210472285477,
          0.027602761989326347,
          0.027284546935880352,
          0.02572603298644171,
          0.02425923460669849,
          0.024916845025240768,
          0.027062928605416724,
          0.02342928335683871,
          0.020165828975381155,
          0.018017225357083895,
          0.015013933428733636
         ],
         "yaxis": "y2"
        },
        {
         "fill": "tonexty",
         "marker": {
          "color": "forestgreen"
         },
         "mode": "lines",
         "name": "Peak temperature",
         "showlegend": true,
         "stackgroup": "one",
         "type": "scatter",
         "x": [
          2030,
          2035,
          2040,
          2045,
          2050,
          2055,
          2060,
          2065,
          2070,
          2075,
          2080,
          2085,
          2090,
          2095,
          2100
         ],
         "xaxis": "x2",
         "y": [
          0.6336123672233066,
          0.5433316466493437,
          0.4111102665563497,
          0.2773784485471826,
          0.16625108693489127,
          0.09842707271868886,
          0.05421324728577598,
          0.03605918782139574,
          0.02633160736624616,
          0.02085943640339827,
          0.01733239915435704,
          0.01616535565561435,
          0.015794971571372735,
          0.015762921095471474,
          0.016169559470737716
         ],
         "yaxis": "y2"
        },
        {
         "fill": "tonexty",
         "marker": {
          "color": "lightgreen"
         },
         "mode": "lines",
         "name": "Non-CO<sub>2</sub> reduction",
         "showlegend": true,
         "stackgroup": "one",
         "type": "scatter",
         "x": [
          2030,
          2035,
          2040,
          2045,
          2050,
          2055,
          2060,
          2065,
          2070,
          2075,
          2080,
          2085,
          2090,
          2095,
          2100
         ],
         "xaxis": "x2",
         "y": [
          0.10302575375835282,
          0.09794498370541987,
          0.08810328589972026,
          0.07580341292933193,
          0.0620535018724755,
          0.04964033881725999,
          0.03769955146298413,
          0.03038754591767509,
          0.025488387038619647,
          0.020873713136200896,
          0.016826361623272282,
          0.01483264682061172,
          0.013428947007115697,
          0.012085721792605432,
          0.011127861747111143
         ],
         "yaxis": "y2"
        },
        {
         "fill": "tonexty",
         "marker": {
          "color": "yellowgreen"
         },
         "mode": "lines",
         "name": "Timing of action",
         "showlegend": true,
         "stackgroup": "one",
         "type": "scatter",
         "x": [
          2030,
          2035,
          2040,
          2045,
          2050,
          2055,
          2060,
          2065,
          2070,
          2075,
          2080,
          2085,
          2090,
          2095,
          2100
         ],
         "xaxis": "x2",
         "y": [
          0.0194631521428894,
          0.004679206272826432,
          0.0005129142581692115,
          0.0015834477757538396,
          0.0026198704922666886,
          0.002580094115506885,
          0.0023479261563556244,
          0.0022319544107731164,
          0.002165930269633953,
          0.0019724008309099724,
          0.0017788854304773955,
          0.0017389682747805865,
          0.0017243347058376918,
          0.0016720502543129023,
          0.0016369572301133913
         ],
         "yaxis": "y2"
        },
        {
         "fill": "tonexty",
         "marker": {
          "color": "lawngreen"
         },
         "mode": "lines",
         "name": "Negative emissions",
         "showlegend": true,
         "stackgroup": "one",
         "type": "scatter",
         "x": [
          2030,
          2035,
          2040,
          2045,
          2050,
          2055,
          2060,
          2065,
          2070,
          2075,
          2080,
          2085,
          2090,
          2095,
          2100
         ],
         "xaxis": "x2",
         "y": [
          0.0009316140231318418,
          0.001080079108175629,
          0.0012577276761733865,
          0.0007132413510244399,
          0.00040032636765645894,
          0.0004276544287789262,
          0.0007879499074346934,
          0.0012229392647433491,
          0.0017581127790339093,
          0.0024575744371752467,
          0.003143846435976134,
          0.003830942061925853,
          0.0044907024094649,
          0.004557029237782224,
          0.004599092271856469
         ],
         "yaxis": "y2"
        },
        {
         "fill": "tozeroy",
         "marker": {
          "color": "goldenrod"
         },
         "mode": "lines",
         "name": "Allocation rule",
         "showlegend": false,
         "stackgroup": "one",
         "type": "scatter",
         "x": [
          2030,
          2035,
          2040,
          2045,
          2050,
          2055,
          2060,
          2065,
          2070,
          2075,
          2080,
          2085,
          2090,
          2095,
          2100
         ],
         "xaxis": "x5",
         "y": [
          0.017650367522331088,
          0.016869684176609372,
          0.0249235831166243,
          0.04273485503306046,
          0.07495404637566,
          0.11743575515530746,
          0.17458883319738422,
          0.22429227054927772,
          0.27384696451819535,
          0.314992076513763,
          0.3530636225203975,
          0.38584970145879416,
          0.414651439294918,
          0.4401658705220057,
          0.46509044453602855
         ],
         "yaxis": "y5"
        },
        {
         "fill": "tonexty",
         "marker": {
          "color": "salmon"
         },
         "mode": "lines",
         "name": "Discount factor",
         "showlegend": false,
         "stackgroup": "one",
         "type": "scatter",
         "x": [
          2030,
          2035,
          2040,
          2045,
          2050,
          2055,
          2060,
          2065,
          2070,
          2075,
          2080,
          2085,
          2090,
          2095,
          2100
         ],
         "xaxis": "x5",
         "y": [
          0.0002622277398430386,
          0.000506642588521993,
          0.0008936702717190524,
          0.0014791406321126843,
          0.002384234432568928,
          0.003460682155404555,
          0.004690984499618566,
          0.005710076561038609,
          0.006664923704038461,
          0.007310126675406715,
          0.0076785059632448124,
          0.007876169938106335,
          0.00804260422394087,
          0.008298303436965785,
          0.008460097388591619
         ],
         "yaxis": "y5"
        },
        {
         "fill": "tonexty",
         "marker": {
          "color": "tomato"
         },
         "mode": "lines",
         "name": "Historical startyear",
         "showlegend": false,
         "stackgroup": "one",
         "type": "scatter",
         "x": [
          2030,
          2035,
          2040,
          2045,
          2050,
          2055,
          2060,
          2065,
          2070,
          2075,
          2080,
          2085,
          2090,
          2095,
          2100
         ],
         "xaxis": "x5",
         "y": [
          0.0003663785443006036,
          0.000707869066679814,
          0.001248614787803535,
          0.0020666201294169784,
          0.0033311958327161507,
          0.004835183232655102,
          0.00655413229594181,
          0.007977983410887981,
          0.009312073219546673,
          0.010213535824680004,
          0.010728226441107797,
          0.011004397714885818,
          0.011236935601650894,
          0.0115941924573495,
          0.011820247777641789
         ],
         "yaxis": "y5"
        },
        {
         "fill": "tonexty",
         "marker": {
          "color": "darkred"
         },
         "mode": "lines",
         "name": "Convergence year",
         "showlegend": false,
         "stackgroup": "one",
         "type": "scatter",
         "x": [
          2030,
          2035,
          2040,
          2045,
          2050,
          2055,
          2060,
          2065,
          2070,
          2075,
          2080,
          2085,
          2090,
          2095,
          2100
         ],
         "xaxis": "x5",
         "y": [
          0.001083262730387763,
          0.0020022348809488884,
          0.002724766442078943,
          0.0013107405480887828,
          0.0007023128780128757,
          0.00016863728036903478,
          0,
          0,
          0,
          0,
          0,
          0,
          0,
          0,
          0
         ],
         "yaxis": "y5"
        },
        {
         "fill": "tonexty",
         "marker": {
          "color": "dodgerblue"
         },
         "mode": "lines",
         "name": "Climate sensitivity",
         "showlegend": false,
         "stackgroup": "one",
         "type": "scatter",
         "x": [
          2030,
          2035,
          2040,
          2045,
          2050,
          2055,
          2060,
          2065,
          2070,
          2075,
          2080,
          2085,
          2090,
          2095,
          2100
         ],
         "xaxis": "x5",
         "y": [
          0.09299575961908967,
          0.1042866182523058,
          0.12017131648397476,
          0.13948494757927302,
          0.1593637693640083,
          0.17447543670125085,
          0.18337892562737546,
          0.18100090214825135,
          0.17211486855543018,
          0.15640221459727566,
          0.13886459647620122,
          0.12216524816985774,
          0.10956416138638873,
          0.10142640373462693,
          0.0934274677238525
         ],
         "yaxis": "y5"
        },
        {
         "fill": "tonexty",
         "marker": {
          "color": "steelblue"
         },
         "mode": "lines",
         "name": "Socio-economic scenario",
         "showlegend": false,
         "stackgroup": "one",
         "type": "scatter",
         "x": [
          2030,
          2035,
          2040,
          2045,
          2050,
          2055,
          2060,
          2065,
          2070,
          2075,
          2080,
          2085,
          2090,
          2095,
          2100
         ],
         "xaxis": "x5",
         "y": [
          0.0007314629503785808,
          0.0016204412121642309,
          0.002006048648741701,
          0.0025609997844143395,
          0.004078463191474924,
          0.008350907087393913,
          0.01683563091219198,
          0.02651320593666435,
          0.04289200024227107,
          0.06330668048297511,
          0.08597951816748714,
          0.10531042995439421,
          0.11207365967145454,
          0.10913281184331174,
          0.10554816772650032
         ],
         "yaxis": "y5"
        },
        {
         "fill": "tonexty",
         "marker": {
          "color": "forestgreen"
         },
         "mode": "lines",
         "name": "Peak temperature",
         "showlegend": false,
         "stackgroup": "one",
         "type": "scatter",
         "x": [
          2030,
          2035,
          2040,
          2045,
          2050,
          2055,
          2060,
          2065,
          2070,
          2075,
          2080,
          2085,
          2090,
          2095,
          2100
         ],
         "xaxis": "x5",
         "y": [
          0.7421589269876065,
          0.7314233141279644,
          0.6901473449382034,
          0.6240423215618613,
          0.5368593442636594,
          0.4486901226548364,
          0.3531065466735937,
          0.28996654303561625,
          0.23487031553793433,
          0.19851976744930316,
          0.16841936604888808,
          0.1471352853649797,
          0.1332548097316416,
          0.12624370061156284,
          0.12147385455534267
         ],
         "yaxis": "y5"
        },
        {
         "fill": "tonexty",
         "marker": {
          "color": "lightgreen"
         },
         "mode": "lines",
         "name": "Non-CO<sub>2</sub> reduction",
         "showlegend": false,
         "stackgroup": "one",
         "type": "scatter",
         "x": [
          2030,
          2035,
          2040,
          2045,
          2050,
          2055,
          2060,
          2065,
          2070,
          2075,
          2080,
          2085,
          2090,
          2095,
          2100
         ],
         "xaxis": "x5",
         "y": [
          0.12169932671145128,
          0.135722525000708,
          0.1554896507869501,
          0.1816777907442892,
          0.2091377482738395,
          0.22945910827005597,
          0.24172272332198474,
          0.23912806963952513,
          0.2279521322405915,
          0.20947013703942832,
          0.18807902318363245,
          0.1673813156814834,
          0.1517887522333736,
          0.14154565811214279,
          0.1313632609837067
         ],
         "yaxis": "y5"
        },
        {
         "fill": "tonexty",
         "marker": {
          "color": "yellowgreen"
         },
         "mode": "lines",
         "name": "Timing of action",
         "showlegend": false,
         "stackgroup": "one",
         "type": "scatter",
         "x": [
          2030,
          2035,
          2040,
          2045,
          2050,
          2055,
          2060,
          2065,
          2070,
          2075,
          2080,
          2085,
          2090,
          2095,
          2100
         ],
         "xaxis": "x5",
         "y": [
          0.022070638436524216,
          0.005710304910232051,
          0.0009327297250171649,
          0.003792837839416704,
          0.008443632736014301,
          0.011202192284793985,
          0.013783872528890986,
          0.015787889789932785,
          0.017363473338044586,
          0.017532859745484575,
          0.017230772437663213,
          0.01706193038876799,
          0.01708168268871072,
          0.01717738759955724,
          0.017125746330262516
         ],
         "yaxis": "y5"
        },
        {
         "fill": "tonexty",
         "marker": {
          "color": "lawngreen"
         },
         "mode": "lines",
         "name": "Negative emissions",
         "showlegend": false,
         "stackgroup": "one",
         "type": "scatter",
         "x": [
          2030,
          2035,
          2040,
          2045,
          2050,
          2055,
          2060,
          2065,
          2070,
          2075,
          2080,
          2085,
          2090,
          2095,
          2100
         ],
         "xaxis": "x5",
         "y": [
          0.0009816487580873482,
          0.0011503657838654751,
          0.0014622747988871647,
          0.0008497461480665569,
          0.0007452526520455565,
          0.0019219751779329334,
          0.005338350943018574,
          0.009623058928805876,
          0.014983248643947853,
          0.022252601671683605,
          0.029956368761377902,
          0.03621552132873055,
          0.042305955167921135,
          0.04441567168247768,
          0.045690712978073374
         ],
         "yaxis": "y5"
        },
        {
         "fill": "tozeroy",
         "marker": {
          "color": "goldenrod"
         },
         "mode": "lines",
         "name": "Allocation rule",
         "showlegend": false,
         "stackgroup": "one",
         "type": "scatter",
         "x": [
          2030,
          2035,
          2040,
          2045,
          2050,
          2055,
          2060,
          2065,
          2070,
          2075,
          2080,
          2085,
          2090,
          2095,
          2100
         ],
         "xaxis": "x8",
         "y": [
          0.05668959097347467,
          0.07378292164819786,
          0.10472345140464219,
          0.14086812279034075,
          0.19513067826881147,
          0.2573087151765728,
          0.320129942549046,
          0.36801239343422465,
          0.41105770362659794,
          0.44470940939987585,
          0.47426288405048234,
          0.49687903454703986,
          0.5181910544562268,
          0.5333343307931658,
          0.5469603455178143
         ],
         "yaxis": "y8"
        },
        {
         "fill": "tonexty",
         "marker": {
          "color": "salmon"
         },
         "mode": "lines",
         "name": "Discount factor",
         "showlegend": false,
         "stackgroup": "one",
         "type": "scatter",
         "x": [
          2030,
          2035,
          2040,
          2045,
          2050,
          2055,
          2060,
          2065,
          2070,
          2075,
          2080,
          2085,
          2090,
          2095,
          2100
         ],
         "xaxis": "x8",
         "y": [
          0.018084337140627932,
          0.023325039956146976,
          0.027538070718805645,
          0.03319811869020011,
          0.037433011863930596,
          0.04139320763667793,
          0.04397994217874053,
          0.046006610481174506,
          0.047321115752319176,
          0.04787616773619723,
          0.048127648199030905,
          0.048151607961644666,
          0.04843078198733327,
          0.04888679036604653,
          0.04974657584391465
         ],
         "yaxis": "y8"
        },
        {
         "fill": "tonexty",
         "marker": {
          "color": "tomato"
         },
         "mode": "lines",
         "name": "Historical startyear",
         "showlegend": false,
         "stackgroup": "one",
         "type": "scatter",
         "x": [
          2030,
          2035,
          2040,
          2045,
          2050,
          2055,
          2060,
          2065,
          2070,
          2075,
          2080,
          2085,
          2090,
          2095,
          2100
         ],
         "xaxis": "x8",
         "y": [
          0.010888312051918828,
          0.014043662536246553,
          0.016580265906415523,
          0.019988096592447647,
          0.0225378640615006,
          0.024922238100356882,
          0.026479674155518156,
          0.027699901042699114,
          0.028491345169817626,
          0.028825533247867425,
          0.02897694671979459,
          0.028991372394303324,
          0.029159458086611953,
          0.029434014453705956,
          0.029951679596695806
         ],
         "yaxis": "y8"
        },
        {
         "fill": "tonexty",
         "marker": {
          "color": "darkred"
         },
         "mode": "lines",
         "name": "Convergence year",
         "showlegend": false,
         "stackgroup": "one",
         "type": "scatter",
         "x": [
          2030,
          2035,
          2040,
          2045,
          2050,
          2055,
          2060,
          2065,
          2070,
          2075,
          2080,
          2085,
          2090,
          2095,
          2100
         ],
         "xaxis": "x8",
         "y": [
          0.012542523404817194,
          0.01547614392552376,
          0.01409662917781173,
          0.004939524588461468,
          0.0018513771553359674,
          0.0003386573454573738,
          0,
          0,
          0,
          0,
          0,
          0,
          0,
          0,
          0
         ],
         "yaxis": "y8"
        },
        {
         "fill": "tonexty",
         "marker": {
          "color": "dodgerblue"
         },
         "mode": "lines",
         "name": "Climate sensitivity",
         "showlegend": false,
         "stackgroup": "one",
         "type": "scatter",
         "x": [
          2030,
          2035,
          2040,
          2045,
          2050,
          2055,
          2060,
          2065,
          2070,
          2075,
          2080,
          2085,
          2090,
          2095,
          2100
         ],
         "xaxis": "x8",
         "y": [
          0.10017798220106805,
          0.10826020432512183,
          0.11773406136842726,
          0.12847371119062456,
          0.1348162524637737,
          0.13426600420267037,
          0.13126060691335037,
          0.12586950176956685,
          0.12014706319013634,
          0.11355566564183388,
          0.10744511036159843,
          0.10227284761637982,
          0.0967501477117122,
          0.09315171573052533,
          0.08947681100806024
         ],
         "yaxis": "y8"
        },
        {
         "fill": "tonexty",
         "marker": {
          "color": "steelblue"
         },
         "mode": "lines",
         "name": "Socio-economic scenario",
         "showlegend": false,
         "stackgroup": "one",
         "type": "scatter",
         "x": [
          2030,
          2035,
          2040,
          2045,
          2050,
          2055,
          2060,
          2065,
          2070,
          2075,
          2080,
          2085,
          2090,
          2095,
          2100
         ],
         "xaxis": "x8",
         "y": [
          0.0008300628817258592,
          0.0007529993918983891,
          0.0011288799545492044,
          0.0027066835302987017,
          0.005110861767965901,
          0.008379406018724347,
          0.009005207278248743,
          0.0070325758961029446,
          0.005052333851272863,
          0.0031860308796512814,
          0.0015935110038470764,
          0.0006556519246209946,
          0.00048232253297110885,
          0.0006071003317517587,
          0.0007608318933621096
         ],
         "yaxis": "y8"
        },
        {
         "fill": "tonexty",
         "marker": {
          "color": "forestgreen"
         },
         "mode": "lines",
         "name": "Peak temperature",
         "showlegend": false,
         "stackgroup": "one",
         "type": "scatter",
         "x": [
          2030,
          2035,
          2040,
          2045,
          2050,
          2055,
          2060,
          2065,
          2070,
          2075,
          2080,
          2085,
          2090,
          2095,
          2100
         ],
         "xaxis": "x8",
         "y": [
          0.6556417811291536,
          0.6200246742878301,
          0.5637932574526652,
          0.4980934618431277,
          0.4187366351479188,
          0.3469918885533511,
          0.2836642878115121,
          0.24459838412068813,
          0.21229075794392008,
          0.19152378714513874,
          0.17398960138443056,
          0.1612277040625013,
          0.14991076463051567,
          0.1413067854775576,
          0.13405724707856262
         ],
         "yaxis": "y8"
        },
        {
         "fill": "tonexty",
         "marker": {
          "color": "lightgreen"
         },
         "mode": "lines",
         "name": "Non-CO<sub>2</sub> reduction",
         "showlegend": false,
         "stackgroup": "one",
         "type": "scatter",
         "x": [
          2030,
          2035,
          2040,
          2045,
          2050,
          2055,
          2060,
          2065,
          2070,
          2075,
          2080,
          2085,
          2090,
          2095,
          2100
         ],
         "xaxis": "x8",
         "y": [
          0.13143157375779482,
          0.14113196765362868,
          0.15252561628423603,
          0.1676305651053299,
          0.1771589017547292,
          0.17701718130328495,
          0.17354534202262153,
          0.16665265527356957,
          0.1592663224855696,
          0.1514876447186227,
          0.1441778035150387,
          0.13798940532140883,
          0.1312855157894005,
          0.12683297964852988,
          0.12230909873923995
         ],
         "yaxis": "y8"
        },
        {
         "fill": "tonexty",
         "marker": {
          "color": "yellowgreen"
         },
         "mode": "lines",
         "name": "Timing of action",
         "showlegend": false,
         "stackgroup": "one",
         "type": "scatter",
         "x": [
          2030,
          2035,
          2040,
          2045,
          2050,
          2055,
          2060,
          2065,
          2070,
          2075,
          2080,
          2085,
          2090,
          2095,
          2100
         ],
         "xaxis": "x8",
         "y": [
          0.013110731031714649,
          0.002677309900734298,
          0.0013464858355310973,
          0.0035216054278775755,
          0.006071291552565383,
          0.006885804972852114,
          0.007447478837662189,
          0.007804428799556679,
          0.008080822572197104,
          0.008026397255941257,
          0.007960978852395597,
          0.008050439125960276,
          0.008057412984547815,
          0.008085366700903195,
          0.008052747089832965
         ],
         "yaxis": "y8"
        },
        {
         "fill": "tonexty",
         "marker": {
          "color": "lawngreen"
         },
         "mode": "lines",
         "name": "Negative emissions",
         "showlegend": false,
         "stackgroup": "one",
         "type": "scatter",
         "x": [
          2030,
          2035,
          2040,
          2045,
          2050,
          2055,
          2060,
          2065,
          2070,
          2075,
          2080,
          2085,
          2090,
          2095,
          2100
         ],
         "xaxis": "x8",
         "y": [
          0.0006031054277042717,
          0.0005250763746715,
          0.0005332818969161833,
          0.0005801102412915939,
          0.0011531259634682347,
          0.002496896690052083,
          0.004487518253300481,
          0.006323549182417667,
          0.008292535408169197,
          0.010809363974871478,
          0.013465515913381725,
          0.01578193704614086,
          0.017732541820680736,
          0.018360916497813982,
          0.01868466323251744
         ],
         "yaxis": "y8"
        },
        {
         "fill": "tozeroy",
         "marker": {
          "color": "goldenrod"
         },
         "mode": "lines",
         "name": "Allocation rule",
         "showlegend": false,
         "stackgroup": "one",
         "type": "scatter",
         "x": [
          2030,
          2035,
          2040,
          2045,
          2050,
          2055,
          2060,
          2065,
          2070,
          2075,
          2080,
          2085,
          2090,
          2095,
          2100
         ],
         "xaxis": "x11",
         "y": [
          0.40024261095790115,
          0.42459913153828044,
          0.4505337101977863,
          0.48627129751912757,
          0.5189812331421033,
          0.5456037096270486,
          0.5680220616884968,
          0.5802100883366322,
          0.5896575207257327,
          0.5943461713096546,
          0.5986388818679143,
          0.6013877234853419,
          0.604920819289698,
          0.6114677706364786,
          0.6250373673147945
         ],
         "yaxis": "y11"
        },
        {
         "fill": "tonexty",
         "marker": {
          "color": "salmon"
         },
         "mode": "lines",
         "name": "Discount factor",
         "showlegend": false,
         "stackgroup": "one",
         "type": "scatter",
         "x": [
          2030,
          2035,
          2040,
          2045,
          2050,
          2055,
          2060,
          2065,
          2070,
          2075,
          2080,
          2085,
          2090,
          2095,
          2100
         ],
         "xaxis": "x11",
         "y": [
          0.059786361501286474,
          0.062498133304922966,
          0.06331764168594636,
          0.06519386597729296,
          0.06506705214612032,
          0.06488371597672064,
          0.06400194627671267,
          0.06314513004263077,
          0.061774962146531665,
          0.06064286856844892,
          0.0596200326989964,
          0.05876806746782854,
          0.05805286205015797,
          0.05787587910629055,
          0.0582246721766537
         ],
         "yaxis": "y11"
        },
        {
         "fill": "tonexty",
         "marker": {
          "color": "tomato"
         },
         "mode": "lines",
         "name": "Historical startyear",
         "showlegend": false,
         "stackgroup": "one",
         "type": "scatter",
         "x": [
          2030,
          2035,
          2040,
          2045,
          2050,
          2055,
          2060,
          2065,
          2070,
          2075,
          2080,
          2085,
          2090,
          2095,
          2100
         ],
         "xaxis": "x11",
         "y": [
          0.0322132380679113,
          0.03367435632619522,
          0.03411591338861646,
          0.035126833804536094,
          0.035058506500996116,
          0.034959724307561446,
          0.034484621387570406,
          0.03402296293457602,
          0.033284707496985706,
          0.03267473007560809,
          0.0321236191813539,
          0.03166457565822623,
          0.03127921940747131,
          0.031183860484379995,
          0.03137179183095536
         ],
         "yaxis": "y11"
        },
        {
         "fill": "tonexty",
         "marker": {
          "color": "darkred"
         },
         "mode": "lines",
         "name": "Convergence year",
         "showlegend": false,
         "stackgroup": "one",
         "type": "scatter",
         "x": [
          2030,
          2035,
          2040,
          2045,
          2050,
          2055,
          2060,
          2065,
          2070,
          2075,
          2080,
          2085,
          2090,
          2095,
          2100
         ],
         "xaxis": "x11",
         "y": [
          0.012002724842853406,
          0.01200334281768361,
          0.00938204038494307,
          0.0028076250202708052,
          0.0009314653688055751,
          0.000153653398322752,
          0,
          0,
          0,
          0,
          0,
          0,
          0,
          0,
          0
         ],
         "yaxis": "y11"
        },
        {
         "fill": "tonexty",
         "marker": {
          "color": "dodgerblue"
         },
         "mode": "lines",
         "name": "Climate sensitivity",
         "showlegend": false,
         "stackgroup": "one",
         "type": "scatter",
         "x": [
          2030,
          2035,
          2040,
          2045,
          2050,
          2055,
          2060,
          2065,
          2070,
          2075,
          2080,
          2085,
          2090,
          2095,
          2100
         ],
         "xaxis": "x11",
         "y": [
          0.0735364667271764,
          0.07294024737550808,
          0.0731152911903632,
          0.07237737791743222,
          0.07071743440741887,
          0.06821997202151929,
          0.06567880834263527,
          0.06285592474572664,
          0.05984258431195461,
          0.0575580215345297,
          0.05559261543539898,
          0.053974546530847094,
          0.05258538170030276,
          0.05152745437136876,
          0.05065257975664993
         ],
         "yaxis": "y11"
        },
        {
         "fill": "tonexty",
         "marker": {
          "color": "steelblue"
         },
         "mode": "lines",
         "name": "Socio-economic scenario",
         "showlegend": false,
         "stackgroup": "one",
         "type": "scatter",
         "x": [
          2030,
          2035,
          2040,
          2045,
          2050,
          2055,
          2060,
          2065,
          2070,
          2075,
          2080,
          2085,
          2090,
          2095,
          2100
         ],
         "xaxis": "x11",
         "y": [
          0.0044508152762292785,
          0.004398674028215359,
          0.00458397695373333,
          0.005320702488775304,
          0.006650439149153823,
          0.009474703595469388,
          0.012689968945916216,
          0.02029927448151351,
          0.03055987495713824,
          0.03913624295271472,
          0.046007273392270454,
          0.05192538706200289,
          0.05573415041971773,
          0.054265821718697545,
          0.0437959936832517
         ],
         "yaxis": "y11"
        },
        {
         "fill": "tonexty",
         "marker": {
          "color": "forestgreen"
         },
         "mode": "lines",
         "name": "Peak temperature",
         "showlegend": false,
         "stackgroup": "one",
         "type": "scatter",
         "x": [
          2030,
          2035,
          2040,
          2045,
          2050,
          2055,
          2060,
          2065,
          2070,
          2075,
          2080,
          2085,
          2090,
          2095,
          2100
         ],
         "xaxis": "x11",
         "y": [
          0.3161324829511449,
          0.29117682402065503,
          0.2661637076666571,
          0.23402256481858408,
          0.20490102138653551,
          0.18182813183796712,
          0.16309642850290543,
          0.15084383872355353,
          0.13995543954684012,
          0.13318489619088186,
          0.12758062823251579,
          0.12343167848975632,
          0.11989985964271083,
          0.11743356277374711,
          0.1158534685231772
         ],
         "yaxis": "y11"
        },
        {
         "fill": "tonexty",
         "marker": {
          "color": "lightgreen"
         },
         "mode": "lines",
         "name": "Non-CO<sub>2</sub> reduction",
         "showlegend": false,
         "stackgroup": "one",
         "type": "scatter",
         "x": [
          2030,
          2035,
          2040,
          2045,
          2050,
          2055,
          2060,
          2065,
          2070,
          2075,
          2080,
          2085,
          2090,
          2095,
          2100
         ],
         "xaxis": "x11",
         "y": [
          0.09695386481969996,
          0.09587757774950316,
          0.0958039109591432,
          0.09523141151853477,
          0.09336940226920164,
          0.09017476861120324,
          0.08690693175251663,
          0.08320114217207394,
          0.07923998325186753,
          0.07638559515497897,
          0.07393948578889435,
          0.07195447986025348,
          0.070260270272381,
          0.06893672770588563,
          0.06782464173174296
         ],
         "yaxis": "y11"
        },
        {
         "fill": "tonexty",
         "marker": {
          "color": "yellowgreen"
         },
         "mode": "lines",
         "name": "Timing of action",
         "showlegend": false,
         "stackgroup": "one",
         "type": "scatter",
         "x": [
          2030,
          2035,
          2040,
          2045,
          2050,
          2055,
          2060,
          2065,
          2070,
          2075,
          2080,
          2085,
          2090,
          2095,
          2100
         ],
         "xaxis": "x11",
         "y": [
          0.0031686891312874776,
          0.0012890727820836472,
          0.0014136789544205682,
          0.0019501340705758163,
          0.002446143633310188,
          0.0025185037673504224,
          0.0025542468918343044,
          0.002547372464201136,
          0.0025175184702796133,
          0.002474965195069813,
          0.0024411530815362714,
          0.0024410013150860353,
          0.0024458174940694623,
          0.002426509093534044,
          0.0023857562980124777
         ],
         "yaxis": "y11"
        },
        {
         "fill": "tonexty",
         "marker": {
          "color": "lawngreen"
         },
         "mode": "lines",
         "name": "Negative emissions",
         "showlegend": false,
         "stackgroup": "one",
         "type": "scatter",
         "x": [
          2030,
          2035,
          2040,
          2045,
          2050,
          2055,
          2060,
          2065,
          2070,
          2075,
          2080,
          2085,
          2090,
          2095,
          2100
         ],
         "xaxis": "x11",
         "y": [
          0.0015127457245097805,
          0.0015426400569524578,
          0.001570128618390558,
          0.001698186864870279,
          0.0018773019963545634,
          0.0021831168568369275,
          0.0025649862114122857,
          0.002874266099092231,
          0.0031674090926696705,
          0.0035965090181133397,
          0.004056310321119577,
          0.004452540130657497,
          0.004821619723491041,
          0.004882414109617859,
          0.004853728684762121
         ],
         "yaxis": "y11"
        }
       ],
       "layout": {
        "annotations": [
         {
          "align": "left",
          "ax": 0,
          "ay": 0,
          "font": {
           "color": "black",
           "size": 24
          },
          "showarrow": false,
          "text": "<b>(a) Relative impact of<br>the three dimensions</b>",
          "x": 0,
          "xref": "paper",
          "y": 0.98,
          "yref": "paper"
         },
         {
          "align": "left",
          "ax": 0,
          "ay": 0,
          "font": {
           "color": "black",
           "size": 17
          },
          "showarrow": false,
          "text": "Expressed in fraction of variance explained",
          "x": 0,
          "xref": "paper",
          "y": 0.88,
          "yref": "paper"
         },
         {
          "align": "left",
          "ax": 0,
          "ay": 0,
          "font": {
           "color": "black",
           "size": 24
          },
          "showarrow": false,
          "text": "<b>(b) United States</b>",
          "x": 0.85,
          "xref": "paper",
          "y": 1.04,
          "yref": "paper"
         },
         {
          "align": "left",
          "ax": 0,
          "ay": 0,
          "font": {
           "color": "black",
           "size": 24
          },
          "showarrow": false,
          "text": "<b>(c) China</b>",
          "x": 0.775,
          "xref": "paper",
          "y": 0.78,
          "yref": "paper"
         },
         {
          "align": "left",
          "ax": 0,
          "ay": 0,
          "font": {
           "color": "black",
           "size": 24
          },
          "showarrow": false,
          "text": "<b>(d) India</b>",
          "x": 0.775,
          "xref": "paper",
          "y": 0.49,
          "yref": "paper"
         },
         {
          "align": "left",
          "ax": 0,
          "ay": 0,
          "font": {
           "color": "black",
           "size": 24
          },
          "showarrow": false,
          "text": "<b>(e) Uganda</b>",
          "x": 0.79,
          "xref": "paper",
          "y": 0.21,
          "yref": "paper"
         },
         {
          "font": {
           "color": "black",
           "size": 25
          },
          "showarrow": false,
          "text": "Global strategies dominate",
          "x": 0.215,
          "xref": "paper",
          "y": 1.12,
          "yref": "paper"
         },
         {
          "font": {
           "color": "black",
           "size": 16
          },
          "showarrow": false,
          "text": "temperature, negative emissions, timing, non-CO<sub>2",
          "x": 0.19,
          "xref": "paper",
          "y": 1.08,
          "yref": "paper"
         },
         {
          "font": {
           "color": "black",
           "size": 25
          },
          "showarrow": false,
          "text": "Equity dominates",
          "x": -0.05,
          "xref": "paper",
          "y": 0.13,
          "yref": "paper"
         },
         {
          "font": {
           "color": "black",
           "size": 16
          },
          "showarrow": false,
          "text": "allocation rule, discounting,<br>historical startyear<br>convergence year",
          "x": -0.05,
          "xref": "paper",
          "y": 0.04,
          "yref": "paper"
         },
         {
          "font": {
           "color": "black",
           "size": 25
          },
          "showarrow": false,
          "text": "Physical and social<br>uncertainties<br>dominate",
          "x": 0.54,
          "xref": "paper",
          "y": 0.08,
          "yref": "paper"
         },
         {
          "font": {
           "color": "black",
           "size": 16
          },
          "showarrow": false,
          "text": "scenario,<br>climate sensitivity",
          "x": 0.54,
          "xref": "paper",
          "y": 0.02,
          "yref": "paper"
         }
        ],
        "font": {
         "color": "black",
         "size": 20
        },
        "geo": {
         "lakecolor": "rgb(255, 255, 255)",
         "projection": {
          "type": "natural earth"
         },
         "resolution": 110,
         "showcoastlines": false,
         "showlakes": true,
         "visible": false
        },
        "height": 900,
        "legend": {
         "font": {
          "color": "black",
          "size": 17
         },
         "x": 0.44,
         "xanchor": "left",
         "y": 0.97,
         "yanchor": "top"
        },
        "paper_bgcolor": "white",
        "plot_bgcolor": "white",
        "template": {
         "data": {
          "bar": [
           {
            "error_x": {
             "color": "#2a3f5f"
            },
            "error_y": {
             "color": "#2a3f5f"
            },
            "marker": {
             "line": {
              "color": "#E5ECF6",
              "width": 0.5
             },
             "pattern": {
              "fillmode": "overlay",
              "size": 10,
              "solidity": 0.2
             }
            },
            "type": "bar"
           }
          ],
          "barpolar": [
           {
            "marker": {
             "line": {
              "color": "#E5ECF6",
              "width": 0.5
             },
             "pattern": {
              "fillmode": "overlay",
              "size": 10,
              "solidity": 0.2
             }
            },
            "type": "barpolar"
           }
          ],
          "carpet": [
           {
            "aaxis": {
             "endlinecolor": "#2a3f5f",
             "gridcolor": "white",
             "linecolor": "white",
             "minorgridcolor": "white",
             "startlinecolor": "#2a3f5f"
            },
            "baxis": {
             "endlinecolor": "#2a3f5f",
             "gridcolor": "white",
             "linecolor": "white",
             "minorgridcolor": "white",
             "startlinecolor": "#2a3f5f"
            },
            "type": "carpet"
           }
          ],
          "choropleth": [
           {
            "colorbar": {
             "outlinewidth": 0,
             "ticks": ""
            },
            "type": "choropleth"
           }
          ],
          "contour": [
           {
            "colorbar": {
             "outlinewidth": 0,
             "ticks": ""
            },
            "colorscale": [
             [
              0,
              "#0d0887"
             ],
             [
              0.1111111111111111,
              "#46039f"
             ],
             [
              0.2222222222222222,
              "#7201a8"
             ],
             [
              0.3333333333333333,
              "#9c179e"
             ],
             [
              0.4444444444444444,
              "#bd3786"
             ],
             [
              0.5555555555555556,
              "#d8576b"
             ],
             [
              0.6666666666666666,
              "#ed7953"
             ],
             [
              0.7777777777777778,
              "#fb9f3a"
             ],
             [
              0.8888888888888888,
              "#fdca26"
             ],
             [
              1,
              "#f0f921"
             ]
            ],
            "type": "contour"
           }
          ],
          "contourcarpet": [
           {
            "colorbar": {
             "outlinewidth": 0,
             "ticks": ""
            },
            "type": "contourcarpet"
           }
          ],
          "heatmap": [
           {
            "colorbar": {
             "outlinewidth": 0,
             "ticks": ""
            },
            "colorscale": [
             [
              0,
              "#0d0887"
             ],
             [
              0.1111111111111111,
              "#46039f"
             ],
             [
              0.2222222222222222,
              "#7201a8"
             ],
             [
              0.3333333333333333,
              "#9c179e"
             ],
             [
              0.4444444444444444,
              "#bd3786"
             ],
             [
              0.5555555555555556,
              "#d8576b"
             ],
             [
              0.6666666666666666,
              "#ed7953"
             ],
             [
              0.7777777777777778,
              "#fb9f3a"
             ],
             [
              0.8888888888888888,
              "#fdca26"
             ],
             [
              1,
              "#f0f921"
             ]
            ],
            "type": "heatmap"
           }
          ],
          "heatmapgl": [
           {
            "colorbar": {
             "outlinewidth": 0,
             "ticks": ""
            },
            "colorscale": [
             [
              0,
              "#0d0887"
             ],
             [
              0.1111111111111111,
              "#46039f"
             ],
             [
              0.2222222222222222,
              "#7201a8"
             ],
             [
              0.3333333333333333,
              "#9c179e"
             ],
             [
              0.4444444444444444,
              "#bd3786"
             ],
             [
              0.5555555555555556,
              "#d8576b"
             ],
             [
              0.6666666666666666,
              "#ed7953"
             ],
             [
              0.7777777777777778,
              "#fb9f3a"
             ],
             [
              0.8888888888888888,
              "#fdca26"
             ],
             [
              1,
              "#f0f921"
             ]
            ],
            "type": "heatmapgl"
           }
          ],
          "histogram": [
           {
            "marker": {
             "pattern": {
              "fillmode": "overlay",
              "size": 10,
              "solidity": 0.2
             }
            },
            "type": "histogram"
           }
          ],
          "histogram2d": [
           {
            "colorbar": {
             "outlinewidth": 0,
             "ticks": ""
            },
            "colorscale": [
             [
              0,
              "#0d0887"
             ],
             [
              0.1111111111111111,
              "#46039f"
             ],
             [
              0.2222222222222222,
              "#7201a8"
             ],
             [
              0.3333333333333333,
              "#9c179e"
             ],
             [
              0.4444444444444444,
              "#bd3786"
             ],
             [
              0.5555555555555556,
              "#d8576b"
             ],
             [
              0.6666666666666666,
              "#ed7953"
             ],
             [
              0.7777777777777778,
              "#fb9f3a"
             ],
             [
              0.8888888888888888,
              "#fdca26"
             ],
             [
              1,
              "#f0f921"
             ]
            ],
            "type": "histogram2d"
           }
          ],
          "histogram2dcontour": [
           {
            "colorbar": {
             "outlinewidth": 0,
             "ticks": ""
            },
            "colorscale": [
             [
              0,
              "#0d0887"
             ],
             [
              0.1111111111111111,
              "#46039f"
             ],
             [
              0.2222222222222222,
              "#7201a8"
             ],
             [
              0.3333333333333333,
              "#9c179e"
             ],
             [
              0.4444444444444444,
              "#bd3786"
             ],
             [
              0.5555555555555556,
              "#d8576b"
             ],
             [
              0.6666666666666666,
              "#ed7953"
             ],
             [
              0.7777777777777778,
              "#fb9f3a"
             ],
             [
              0.8888888888888888,
              "#fdca26"
             ],
             [
              1,
              "#f0f921"
             ]
            ],
            "type": "histogram2dcontour"
           }
          ],
          "mesh3d": [
           {
            "colorbar": {
             "outlinewidth": 0,
             "ticks": ""
            },
            "type": "mesh3d"
           }
          ],
          "parcoords": [
           {
            "line": {
             "colorbar": {
              "outlinewidth": 0,
              "ticks": ""
             }
            },
            "type": "parcoords"
           }
          ],
          "pie": [
           {
            "automargin": true,
            "type": "pie"
           }
          ],
          "scatter": [
           {
            "fillpattern": {
             "fillmode": "overlay",
             "size": 10,
             "solidity": 0.2
            },
            "type": "scatter"
           }
          ],
          "scatter3d": [
           {
            "line": {
             "colorbar": {
              "outlinewidth": 0,
              "ticks": ""
             }
            },
            "marker": {
             "colorbar": {
              "outlinewidth": 0,
              "ticks": ""
             }
            },
            "type": "scatter3d"
           }
          ],
          "scattercarpet": [
           {
            "marker": {
             "colorbar": {
              "outlinewidth": 0,
              "ticks": ""
             }
            },
            "type": "scattercarpet"
           }
          ],
          "scattergeo": [
           {
            "marker": {
             "colorbar": {
              "outlinewidth": 0,
              "ticks": ""
             }
            },
            "type": "scattergeo"
           }
          ],
          "scattergl": [
           {
            "marker": {
             "colorbar": {
              "outlinewidth": 0,
              "ticks": ""
             }
            },
            "type": "scattergl"
           }
          ],
          "scattermapbox": [
           {
            "marker": {
             "colorbar": {
              "outlinewidth": 0,
              "ticks": ""
             }
            },
            "type": "scattermapbox"
           }
          ],
          "scatterpolar": [
           {
            "marker": {
             "colorbar": {
              "outlinewidth": 0,
              "ticks": ""
             }
            },
            "type": "scatterpolar"
           }
          ],
          "scatterpolargl": [
           {
            "marker": {
             "colorbar": {
              "outlinewidth": 0,
              "ticks": ""
             }
            },
            "type": "scatterpolargl"
           }
          ],
          "scatterternary": [
           {
            "marker": {
             "colorbar": {
              "outlinewidth": 0,
              "ticks": ""
             }
            },
            "type": "scatterternary"
           }
          ],
          "surface": [
           {
            "colorbar": {
             "outlinewidth": 0,
             "ticks": ""
            },
            "colorscale": [
             [
              0,
              "#0d0887"
             ],
             [
              0.1111111111111111,
              "#46039f"
             ],
             [
              0.2222222222222222,
              "#7201a8"
             ],
             [
              0.3333333333333333,
              "#9c179e"
             ],
             [
              0.4444444444444444,
              "#bd3786"
             ],
             [
              0.5555555555555556,
              "#d8576b"
             ],
             [
              0.6666666666666666,
              "#ed7953"
             ],
             [
              0.7777777777777778,
              "#fb9f3a"
             ],
             [
              0.8888888888888888,
              "#fdca26"
             ],
             [
              1,
              "#f0f921"
             ]
            ],
            "type": "surface"
           }
          ],
          "table": [
           {
            "cells": {
             "fill": {
              "color": "#EBF0F8"
             },
             "line": {
              "color": "white"
             }
            },
            "header": {
             "fill": {
              "color": "#C8D4E3"
             },
             "line": {
              "color": "white"
             }
            },
            "type": "table"
           }
          ]
         },
         "layout": {
          "annotationdefaults": {
           "arrowcolor": "#2a3f5f",
           "arrowhead": 0,
           "arrowwidth": 1
          },
          "autotypenumbers": "strict",
          "coloraxis": {
           "colorbar": {
            "outlinewidth": 0,
            "ticks": ""
           }
          },
          "colorscale": {
           "diverging": [
            [
             0,
             "#8e0152"
            ],
            [
             0.1,
             "#c51b7d"
            ],
            [
             0.2,
             "#de77ae"
            ],
            [
             0.3,
             "#f1b6da"
            ],
            [
             0.4,
             "#fde0ef"
            ],
            [
             0.5,
             "#f7f7f7"
            ],
            [
             0.6,
             "#e6f5d0"
            ],
            [
             0.7,
             "#b8e186"
            ],
            [
             0.8,
             "#7fbc41"
            ],
            [
             0.9,
             "#4d9221"
            ],
            [
             1,
             "#276419"
            ]
           ],
           "sequential": [
            [
             0,
             "#0d0887"
            ],
            [
             0.1111111111111111,
             "#46039f"
            ],
            [
             0.2222222222222222,
             "#7201a8"
            ],
            [
             0.3333333333333333,
             "#9c179e"
            ],
            [
             0.4444444444444444,
             "#bd3786"
            ],
            [
             0.5555555555555556,
             "#d8576b"
            ],
            [
             0.6666666666666666,
             "#ed7953"
            ],
            [
             0.7777777777777778,
             "#fb9f3a"
            ],
            [
             0.8888888888888888,
             "#fdca26"
            ],
            [
             1,
             "#f0f921"
            ]
           ],
           "sequentialminus": [
            [
             0,
             "#0d0887"
            ],
            [
             0.1111111111111111,
             "#46039f"
            ],
            [
             0.2222222222222222,
             "#7201a8"
            ],
            [
             0.3333333333333333,
             "#9c179e"
            ],
            [
             0.4444444444444444,
             "#bd3786"
            ],
            [
             0.5555555555555556,
             "#d8576b"
            ],
            [
             0.6666666666666666,
             "#ed7953"
            ],
            [
             0.7777777777777778,
             "#fb9f3a"
            ],
            [
             0.8888888888888888,
             "#fdca26"
            ],
            [
             1,
             "#f0f921"
            ]
           ]
          },
          "colorway": [
           "#636efa",
           "#EF553B",
           "#00cc96",
           "#ab63fa",
           "#FFA15A",
           "#19d3f3",
           "#FF6692",
           "#B6E880",
           "#FF97FF",
           "#FECB52"
          ],
          "font": {
           "color": "#2a3f5f"
          },
          "geo": {
           "bgcolor": "white",
           "lakecolor": "white",
           "landcolor": "#E5ECF6",
           "showlakes": true,
           "showland": true,
           "subunitcolor": "white"
          },
          "hoverlabel": {
           "align": "left"
          },
          "hovermode": "closest",
          "mapbox": {
           "style": "light"
          },
          "paper_bgcolor": "white",
          "plot_bgcolor": "#E5ECF6",
          "polar": {
           "angularaxis": {
            "gridcolor": "white",
            "linecolor": "white",
            "ticks": ""
           },
           "bgcolor": "#E5ECF6",
           "radialaxis": {
            "gridcolor": "white",
            "linecolor": "white",
            "ticks": ""
           }
          },
          "scene": {
           "xaxis": {
            "backgroundcolor": "#E5ECF6",
            "gridcolor": "white",
            "gridwidth": 2,
            "linecolor": "white",
            "showbackground": true,
            "ticks": "",
            "zerolinecolor": "white"
           },
           "yaxis": {
            "backgroundcolor": "#E5ECF6",
            "gridcolor": "white",
            "gridwidth": 2,
            "linecolor": "white",
            "showbackground": true,
            "ticks": "",
            "zerolinecolor": "white"
           },
           "zaxis": {
            "backgroundcolor": "#E5ECF6",
            "gridcolor": "white",
            "gridwidth": 2,
            "linecolor": "white",
            "showbackground": true,
            "ticks": "",
            "zerolinecolor": "white"
           }
          },
          "shapedefaults": {
           "line": {
            "color": "#2a3f5f"
           }
          },
          "ternary": {
           "aaxis": {
            "gridcolor": "white",
            "linecolor": "white",
            "ticks": ""
           },
           "baxis": {
            "gridcolor": "white",
            "linecolor": "white",
            "ticks": ""
           },
           "bgcolor": "#E5ECF6",
           "caxis": {
            "gridcolor": "white",
            "linecolor": "white",
            "ticks": ""
           }
          },
          "title": {
           "x": 0.05
          },
          "xaxis": {
           "automargin": true,
           "gridcolor": "white",
           "linecolor": "white",
           "ticks": "",
           "title": {
            "standoff": 15
           },
           "zerolinecolor": "white",
           "zerolinewidth": 2
          },
          "yaxis": {
           "automargin": true,
           "gridcolor": "white",
           "linecolor": "white",
           "ticks": "",
           "title": {
            "standoff": 15
           },
           "zerolinecolor": "white",
           "zerolinewidth": 2
          }
         }
        },
        "ternary": {
         "aaxis": {
          "linewidth": 0,
          "min": 0,
          "tickfont": {
           "size": 20
          },
          "tickmode": "array",
          "ticks": "outside",
          "ticktext": [
           "0%",
           "25%",
           "50%",
           "75%",
           "100%"
          ],
          "tickvals": [
           0,
           0.25,
           0.5,
           0.75,
           1
          ],
          "title": {
           "font": {
            "size": 25
           },
           "text": ""
          }
         },
         "baxis": {
          "linewidth": 2,
          "min": 0,
          "tickangle": 60,
          "tickfont": {
           "size": 20
          },
          "tickmode": "array",
          "ticks": "outside",
          "ticktext": [
           "0%",
           "25%",
           "50%",
           "75%",
           "100%"
          ],
          "tickvals": [
           0,
           0.25,
           0.5,
           0.75,
           1
          ],
          "title": {
           "font": {
            "size": 25
           },
           "text": ""
          }
         },
         "bgcolor": "white",
         "caxis": {
          "linewidth": 2,
          "min": 0,
          "tickangle": -60,
          "tickfont": {
           "size": 20
          },
          "tickmode": "array",
          "ticks": "outside",
          "ticktext": [
           "0%",
           "25%",
           "50%",
           "75%",
           "100%"
          ],
          "tickvals": [
           0,
           0.25,
           0.5,
           0.75,
           1
          ],
          "title": {
           "font": {
            "size": 25
           },
           "text": ""
          }
         },
         "domain": {
          "x": [
           0,
           0.6666666666666666
          ],
          "y": [
           0,
           1
          ]
         },
         "sum": 1
        },
        "width": 1600,
        "xaxis": {
         "anchor": "y",
         "domain": [
          0.3333333333333333,
          0.6666666666666666
         ]
        },
        "xaxis10": {
         "anchor": "y10",
         "domain": [
          0.3333333333333333,
          0.6666666666666666
         ]
        },
        "xaxis11": {
         "anchor": "y11",
         "domain": [
          0.6666666666666666,
          1
         ]
        },
        "xaxis2": {
         "anchor": "y2",
         "domain": [
          0.6666666666666666,
          1
         ],
         "visible": false
        },
        "xaxis3": {
         "anchor": "y3",
         "domain": [
          0,
          0.3333333333333333
         ]
        },
        "xaxis4": {
         "anchor": "y4",
         "domain": [
          0.3333333333333333,
          0.6666666666666666
         ]
        },
        "xaxis5": {
         "anchor": "y5",
         "domain": [
          0.6666666666666666,
          1
         ],
         "visible": false
        },
        "xaxis6": {
         "anchor": "y6",
         "domain": [
          0,
          0.3333333333333333
         ]
        },
        "xaxis7": {
         "anchor": "y7",
         "domain": [
          0.3333333333333333,
          0.6666666666666666
         ]
        },
        "xaxis8": {
         "anchor": "y8",
         "domain": [
          0.6666666666666666,
          1
         ],
         "visible": false
        },
        "xaxis9": {
         "anchor": "y9",
         "domain": [
          0,
          0.3333333333333333
         ]
        },
        "yaxis": {
         "anchor": "x",
         "domain": [
          0.7875,
          1
         ]
        },
        "yaxis10": {
         "anchor": "x10",
         "domain": [
          0,
          0.2125
         ]
        },
        "yaxis11": {
         "anchor": "x11",
         "domain": [
          0,
          0.2125
         ],
         "ticktext": [
          "0%",
          "50%",
          "100%"
         ],
         "tickvals": [
          0,
          0.5,
          1
         ]
        },
        "yaxis2": {
         "anchor": "x2",
         "domain": [
          0.7875,
          1
         ],
         "ticktext": [
          "0%",
          "50%",
          "100%"
         ],
         "tickvals": [
          0,
          0.5,
          1
         ]
        },
        "yaxis3": {
         "anchor": "x3",
         "domain": [
          0.525,
          0.7375
         ]
        },
        "yaxis4": {
         "anchor": "x4",
         "domain": [
          0.525,
          0.7375
         ]
        },
        "yaxis5": {
         "anchor": "x5",
         "domain": [
          0.525,
          0.7375
         ],
         "ticktext": [
          "0%",
          "50%",
          "100%"
         ],
         "tickvals": [
          0,
          0.5,
          1
         ]
        },
        "yaxis6": {
         "anchor": "x6",
         "domain": [
          0.2625,
          0.475
         ]
        },
        "yaxis7": {
         "anchor": "x7",
         "domain": [
          0.2625,
          0.475
         ]
        },
        "yaxis8": {
         "anchor": "x8",
         "domain": [
          0.2625,
          0.475
         ],
         "ticktext": [
          "0%",
          "50%",
          "100%"
         ],
         "tickvals": [
          0,
          0.5,
          1
         ]
        },
        "yaxis9": {
         "anchor": "x9",
         "domain": [
          0,
          0.2125
         ]
        }
       }
      }
     },
     "metadata": {},
     "output_type": "display_data"
    }
   ],
   "source": [
    "fig = make_subplots(rows=4, cols=3, specs=[[{\"type\": \"scatterternary\", \"colspan\": 2, \"rowspan\": 4}, {}, {}],\n",
    "                                           [{}, {}, {}],\n",
    "                                           [{}, {}, {}],\n",
    "                                           [{}, {}, {}]],\n",
    "                    horizontal_spacing = 0, vertical_spacing=0.05)\n",
    "\n",
    "for n in range(len(conttraces)):\n",
    "        fig.add_trace(conttraces[n], 1, 1)\n",
    "\n",
    "# Panel a\n",
    "for i in np.arange(0., 1.01, 0.25):\n",
    "    args = dict(mode='lines', showlegend=False, hoverinfo='skip',\n",
    "                                                    marker={'size': 15,\n",
    "                                                            'color': 'black',\n",
    "                                                            'opacity': 1,#0.9-i*0.03,\n",
    "                                                            'line' :dict(width=0., color='silver')},\n",
    "                                                    line={'width': 0.33, #np.mean(s[i:i+2])*0.5,\n",
    "                                                            'color': 'black',\n",
    "                                                            'dash': 'dot'},\n",
    "                                                    textfont=dict(size=5,\n",
    "                                                            color='black'))\n",
    "    fig.add_trace(go.Scatterternary(a=[i, i], b=[0, 1-i], c=[1-i, 0], **args), 1, 1)\n",
    "    fig.add_trace(go.Scatterternary(b=[i, i], a=[0, 1-i], c=[1-i, 0], **args), 1, 1)\n",
    "    fig.add_trace(go.Scatterternary(c=[i, i], b=[0, 1-i], a=[1-i, 0], **args), 1, 1)\n",
    "\n",
    "wh_t0 = np.where(np.array(xr_sobol.Time) == 2030)[0][0]\n",
    "for cty_i, cty in enumerate(all_countries_iso):\n",
    "        fig.add_trace(go.Scatterternary(a=vals[0, :, cty_i],\n",
    "                                        b=vals[1, :, cty_i],\n",
    "                                        c=vals[2, :, cty_i],\n",
    "                                        name=cty,\n",
    "                                                        mode='lines+text',\n",
    "                                                        showlegend=False,\n",
    "                                                        text=['']*(len(vals[0])),\n",
    "                                                        marker={'size': 6,\n",
    "                                                                'color': bubblecolors[cty_i],\n",
    "                                                                'opacity': 0.9,#0.9-i*0.03,\n",
    "                                                                'line' :dict(width=0, color='black')},\n",
    "                                                        line={'width': 0.25, #np.mean(s[i:i+2])*0.5,\n",
    "                                                                'color': 'grey'},\n",
    "                                                        textfont=dict(size=(pops_n[cty_i])**0.4*25+1,\n",
    "                                                                color='black')), 1, 1)\n",
    "        fig.add_trace(go.Scatterternary(a=vals[0, wh_t0:(wh_t0+5), cty_i],\n",
    "                                        b=vals[1, wh_t0:(wh_t0+5), cty_i],\n",
    "                                        c=vals[2, wh_t0:(wh_t0+5), cty_i],\n",
    "                                        name=cty,\n",
    "                                                        mode='lines+text',\n",
    "                                                        showlegend=False,\n",
    "                                                        text=['']*(len(vals[0])),\n",
    "                                                        marker={'size': 6,\n",
    "                                                                'color': bubblecolors[cty_i],\n",
    "                                                                'opacity': 0.9,#0.9-i*0.03,\n",
    "                                                                'line' :dict(width=0, color='black')},\n",
    "                                                        line={'width': 0.25, #np.mean(s[i:i+2])*0.5,\n",
    "                                                                'color': 'grey'},\n",
    "                                                        textfont=dict(size=(pops_n[cty_i])**0.4*25+1,\n",
    "                                                                color='black')), 1, 1)\n",
    "for cty in ['USA', 'CHN', 'BRA', 'IND', 'UGA']:\n",
    "        cty_i = np.where(all_countries_iso == cty)[0][0]\n",
    "        fig.add_trace(go.Scatterternary(a=vals[0, wh_t0:(wh_t0+15), cty_i],\n",
    "                                        b=vals[1, wh_t0:(wh_t0+15), cty_i],\n",
    "                                        c=vals[2, wh_t0:(wh_t0+15), cty_i],\n",
    "                                        name=cty,\n",
    "                                                        mode='lines+markers',\n",
    "                                                        showlegend=False,\n",
    "                                                        text=['2030', '', '', '', '', '', \"'60\", '', '', '', \"'80\", '', '', '', '2100'],#[\"'., str(i-2000) for i in [2040, 2050, 2060, 2070, 2080, 2090]],\n",
    "                                                        marker={'size': [8]*15,#]*(len(vals[0])), #[(pops_n[cty_i])**0.4*60+4]+\n",
    "                                                                'color': bubblecolors[cty_i],\n",
    "                                                                'opacity': 0.9,#0.9-i*0.03,\n",
    "                                                                'line' :dict(width=0.5, color='white')},\n",
    "                                                        line={'width': 3, #np.mean(s[i:i+2])*0.5,\n",
    "                                                                'color':bubblecolors[cty_i]},\n",
    "                                                        textposition='top center',\n",
    "                                                        textfont=dict(size=16,\n",
    "                                                                color=bubblecolors[cty_i])), 1, 1)\n",
    "\n",
    "        for t_i, t in enumerate([2030, 2030, 2050, 2100]):\n",
    "                wh_t = np.where(np.array(xr_sobol.Time) == t)[0][0]\n",
    "                fig.add_trace(go.Scatterternary(a=[vals[0, wh_t, cty_i]],\n",
    "                                                b=[vals[1, wh_t, cty_i]],\n",
    "                                                c=[vals[2, wh_t, cty_i]],\n",
    "                                                name=cty,\n",
    "                                                                mode='markers+text',\n",
    "                                                                showlegend=False,\n",
    "                                                                text=[['<b>'+cty], [\"2030\"], [\"2050\"], ['2100']][t_i],#[\"'., str(i-2000) for i in [2040, 2050, 2060, 2070, 2080, 2090]],\n",
    "                                                                marker={'size': [[20], [20], [15], [20]][t_i],\n",
    "                                                                        #'symbol': 'x',\n",
    "                                                                        'color': bubblecolors[cty_i],\n",
    "                                                                        'opacity': 0.9,#0.9-i*0.03,\n",
    "                                                                        'line' :dict(width=0.5, color='white')},\n",
    "                                                                line={'width': 3, #np.mean(s[i:i+2])*0.5,\n",
    "                                                                        'color':bubblecolors[cty_i]},\n",
    "                                                                textposition=['middle left', 'middle right', 'middle right', 'bottom center'][t_i],\n",
    "                                                                textfont=dict(size=[18, 16, 16, 16, 16, 16][t_i],\n",
    "                                                                        color=bubblecolors[cty_i])), 1, 1)\n",
    "fig.update_layout({\n",
    "'plot_bgcolor':'rgb(243, 243, 243)',\n",
    "'ternary':\n",
    "{'sum':1,\n",
    "'bgcolor':'white',\n",
    "    # \"paper_bgcolor\":'rgba(0,0,0,0)',\n",
    "    # \"plot_bgcolor\":'rgba(0,0,0,0)',\n",
    "'aaxis':{'title': '', 'min': 0., 'titlefont':{'size': 25},#Climate target<br>\n",
    "        'linewidth':0, 'ticks':'outside',\n",
    "        'tickmode':'array','tickvals':np.arange(0, 1.01, 0.25), 'ticktext':[str(int(i*100))+'%' for i in np.arange(0, 1.01, 0.25)], 'tickfont':{'size':20}},\n",
    "'baxis':{'title': '', 'min': 0, 'titlefont':{'size': 25},# &nbsp; &nbsp; &nbsp;#Model &nbsp; &nbsp;\n",
    "        'linewidth':2, 'ticks':'outside',\n",
    "        'tickmode':'array','tickvals':np.arange(0, 1.01, 0.25), 'ticktext':[str(int(i*100))+'%' for i in np.arange(0, 1.01, 0.25)],'tickangle':60, 'tickfont':{'size':20}},\n",
    "'caxis':{'title': '', 'min': 0, 'titlefont':{'size': 25},#Other<br>scenario assumptions\n",
    "        'linewidth':2, 'ticks':'outside',\n",
    "        'tickmode':'array','tickvals':np.arange(0, 1.01, 0.25), 'ticktext':[str(int(i*100))+'%' for i in np.arange(0, 1.01, 0.25)],'tickangle':-60, 'tickfont':{'size':20}}}})\n",
    "\n",
    "# Panel b-d\n",
    "for cty_i, cty in enumerate(['USA', 'CHN', 'IND', 'UGA']):\n",
    "        for factor_i, factor in enumerate(factors):\n",
    "                col = factor_colors[factor_i]\n",
    "                val_i = xr_sobol.sel(Region=cty, Factor=factor).Sobol_index\n",
    "                if factor_i == 0: fill='tozeroy'\n",
    "                else: fill = 'tonexty'\n",
    "                fig.add_trace(go.Scatter(x=xr_sobol.Time,\n",
    "                                        y=val_i,\n",
    "                                        mode='lines',\n",
    "                                        marker={'color':col},\n",
    "                                        fill=fill,\n",
    "                                        name=factor_names[factor_i],\n",
    "                                        showlegend=[True, False, False, False, False, False, False][cty_i],\n",
    "                                        stackgroup='one'\n",
    "                                        ), range(1, 6)[cty_i], 3)\n",
    "\n",
    "fig.update_geos(visible=False,\n",
    "                showlakes=True,\n",
    "                lakecolor='rgb(255, 255, 255)',\n",
    "                projection_type='natural earth',\n",
    "                resolution=110,\n",
    "                showcoastlines=False,)\n",
    "\n",
    "fig.update_layout(\n",
    "    legend=dict(\n",
    "        yanchor=\"top\",\n",
    "        y=0.29,\n",
    "        xanchor=\"left\",\n",
    "        x=0.08,\n",
    "        font=dict(size=15, color=\"black\"),\n",
    "    ),\n",
    "    #template='ggplot2',\n",
    "    height=900,\n",
    "    width=1600,\n",
    ")\n",
    "fig.update_xaxes(visible=False, row=1, col=3)\n",
    "fig.update_xaxes(visible=False, row=2, col=3)\n",
    "fig.update_xaxes(visible=False, row=3, col=3)\n",
    "\n",
    "args = dict(xref=\"paper\", yref=\"paper\", showarrow=False)\n",
    "annotations = [\n",
    "    dict(xref='paper', yref='paper', ax=0, align='left', ay=-0, showarrow=False, font=dict(color='black', size=24), y=0.98, x=0.0, text=\"<b>(a) Relative impact of<br>the three dimensions</b>\"),\n",
    "    dict(xref='paper', yref='paper', ax=0, align='left', ay=-0, showarrow=False, font=dict(color='black', size=17), y=0.88, x=0.0, text=\"Expressed in fraction of variance explained\"),\n",
    "    dict(xref='paper', yref='paper', ax=0, align='left', ay=-0, showarrow=False, font=dict(color='black', size=24), y=1.04, x=0.85, text=\"<b>(b) United States</b>\"),\n",
    "    dict(xref='paper', yref='paper', ax=0, align='left', ay=-0, showarrow=False, font=dict(color='black', size=24), y=0.78, x=0.775, text=\"<b>(c) China</b>\"),\n",
    "    dict(xref='paper', yref='paper', ax=0, align='left', ay=-0, showarrow=False, font=dict(color='black', size=24), y=0.49, x=0.775, text=\"<b>(d) India</b>\"),\n",
    "    dict(xref='paper', yref='paper', ax=0, align='left', ay=-0, showarrow=False, font=dict(color='black', size=24), y=0.21, x=0.79, text=\"<b>(e) Uganda</b>\"),\n",
    "    dict(text=\"Global strategies dominate\", x=0.215, y=1.12, **args, font=dict(color='black', size=25)),\n",
    "    dict(text=\"temperature, negative emissions, timing, non-CO<sub>2\", x=0.19, y=1.08, **args, font=dict(color='black', size=16)),\n",
    "    dict(text=\"Equity dominates\", x=-0.05, y=0.13, **args, font=dict(color='black', size=25)),\n",
    "    dict(text=\"allocation rule, discounting,<br>historical startyear<br>convergence year\", x=-0.05, y=0.04, **args, font=dict(color='black', size=16)),\n",
    "    dict(text=\"Physical and social<br>uncertainties<br>dominate\", x=0.54, y=0.08, **args, font=dict(color='black', size=25)),\n",
    "    dict(text=\"scenario,<br>climate sensitivity\", x=0.54, y=0.02, **args, font=dict(color='black', size=16))\n",
    "]\n",
    "for ann in annotations:\n",
    "    fig.add_annotation(**ann)\n",
    "\n",
    "fig.update_layout(\n",
    "    legend=dict(x=0.44, y=0.97, font=dict(size=17)),\n",
    "    paper_bgcolor='white', # Set the background color\n",
    "    plot_bgcolor='white',\n",
    "    font=dict( \n",
    "        size=20,\n",
    "        color=\"black\"\n",
    "    ))\n",
    "# change ytick labels in row=1, col=3 panel\n",
    "fig.update_yaxes(tickvals=[0, 0.5, 1], ticktext=['0%', '50%', '100%'] ,row=1, col=3)\n",
    "fig.update_yaxes(tickvals=[0, 0.5, 1], ticktext=['0%', '50%', '100%'] ,row=2, col=3)\n",
    "fig.update_yaxes(tickvals=[0, 0.5, 1], ticktext=['0%', '50%', '100%'] ,row=3, col=3)\n",
    "fig.update_yaxes(tickvals=[0, 0.5, 1], ticktext=['0%', '50%', '100%'] ,row=4, col=3)\n",
    "fig.show()\n",
    "fig.write_image(\"K:/Code/EffortSharing/Figures/Paper_FairShares/Figure_3.png\", scale=5)"
   ]
  }
 ],
 "metadata": {
  "kernelspec": {
   "display_name": "MyEnv2",
   "language": "python",
   "name": "python3"
  },
  "language_info": {
   "codemirror_mode": {
    "name": "ipython",
    "version": 3
   },
   "file_extension": ".py",
   "mimetype": "text/x-python",
   "name": "python",
   "nbconvert_exporter": "python",
   "pygments_lexer": "ipython3",
   "version": "3.12.5"
  }
 },
 "nbformat": 4,
 "nbformat_minor": 2
}
