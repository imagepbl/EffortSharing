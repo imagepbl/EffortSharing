{
 "cells": [
  {
   "attachments": {},
   "cell_type": "markdown",
   "metadata": {},
   "source": [
    "## Preambule"
   ]
  },
  {
   "cell_type": "code",
   "execution_count": 1,
   "metadata": {},
   "outputs": [],
   "source": [
    "# General packages\n",
    "import numpy as np\n",
    "import pandas as pd\n",
    "from tqdm import tqdm\n",
    "from pathlib import Path\n",
    "import xarray as xr\n",
    "import pandas as pd\n",
    "import json\n",
    "import plotly\n",
    "\n",
    "# Plotting\n",
    "import matplotlib.pyplot as plt\n",
    "import plotly.express as px\n",
    "import plotly.graph_objects as go\n",
    "from plotly.subplots import make_subplots\n",
    "from plotly.colors import n_colors"
   ]
  },
  {
   "attachments": {},
   "cell_type": "markdown",
   "metadata": {},
   "source": [
    "## Parameters"
   ]
  },
  {
   "cell_type": "code",
   "execution_count": 3,
   "metadata": {},
   "outputs": [],
   "source": [
    "standard_settings = dict(Risk=0.5,\n",
    "                         Convergence_year=2050)\n",
    "params = dict(start_year_analysis=2021)\n",
    "rules = ['GF', 'PC', 'PCC', 'ECPC', 'AP', 'GDR']\n",
    "rulecolors = ['steelblue', 'goldenrod', 'forestgreen', 'sienna', 'mediumvioletred']\n",
    "costoptimal_colors = ['orangered', 'red', 'darkred']"
   ]
  },
  {
   "attachments": {},
   "cell_type": "markdown",
   "metadata": {},
   "source": [
    "## Paths"
   ]
  },
  {
   "cell_type": "code",
   "execution_count": 4,
   "metadata": {},
   "outputs": [],
   "source": [
    "path_main = Path(\"X:/user/dekkerm/Projects/EffortSharing/\")\n",
    "path_data = Path(\"K:/ECEMF/T5.2/\")\n",
    "path_data_ext = Path(\"K:/ECEMF/T5.2/\")\n",
    "path_figs = path_main / \"Figures\" / \"ECEMF_paper\""
   ]
  },
  {
   "attachments": {},
   "cell_type": "markdown",
   "metadata": {},
   "source": [
    "## Read data files"
   ]
  },
  {
   "cell_type": "code",
   "execution_count": 5,
   "metadata": {},
   "outputs": [],
   "source": [
    "xr_dataread = xr.open_dataset(path_data / \"xr_dataread.nc\")\n",
    "xr_traj_2030 = xr.open_dataset(path_data / \"xr_alloc_2030.nc\")\n",
    "xr_traj_2040 = xr.open_dataset(path_data / \"xr_alloc_2040.nc\")\n",
    "xr_total = xr.open_dataset(path_data / \"xr_policyscen.nc\")\n",
    "\n",
    "all_regions_iso = np.load(path_data / \"all_regions.npy\")\n",
    "all_regions_names = np.load(path_data / \"all_regions_names.npy\")\n",
    "all_countries_iso = np.load(path_data / \"all_countries.npy\", allow_pickle=True)\n",
    "all_countries_names = np.load(path_data / \"all_countries_names.npy\", allow_pickle=True)"
   ]
  },
  {
   "cell_type": "markdown",
   "metadata": {},
   "source": [
    "## Get Cost-optimal output"
   ]
  },
  {
   "cell_type": "code",
   "execution_count": null,
   "metadata": {},
   "outputs": [],
   "source": [
    "df_ar6 = pd.read_csv(\"X:/user/dekkerm/Data/IPCC/AR6_ISO3/AR6_Scenarios_Database_ISO3_v1.1.csv\")\n",
    "df_ar6 = df_ar6[df_ar6.Variable.isin(['Emissions|Kyoto Gases', 'Policy Cost|Consumption Loss'])]\n",
    "df_ar6 = df_ar6.reset_index(drop=True)\n",
    "\n",
    "df_ar6_meta = pd.read_excel(\"X:/user/dekkerm/Data/IPCC/AR6_ISO3/AR6_Scenarios_Database_metadata_indicators_v1.1.xlsx\", sheet_name='meta_Ch3vetted_withclimate')\n",
    "mods = np.array(df_ar6_meta.Model)\n",
    "scens = np.array(df_ar6_meta.Scenario)\n",
    "modscens_meta = np.array([mods[i]+'|'+scens[i] for i in range(len(scens))])\n",
    "df_ar6_meta['ModelScenario'] = modscens_meta\n",
    "df_ar6_meta = df_ar6_meta[['ModelScenario', 'Category', 'Policy_category']]\n",
    "df_ar6_meta = df_ar6_meta[df_ar6_meta.Category.isin(['C1', 'C2'])]\n",
    "df_ar6_meta = df_ar6_meta.reset_index(drop=True)\n",
    "ms_meta_refined = np.array(df_ar6_meta.ModelScenario)\n",
    "\n",
    "mods = np.array(df_ar6.Model)\n",
    "scens = np.array(df_ar6.Scenario)\n",
    "modscens = np.array([mods[i]+'|'+scens[i] for i in range(len(scens))])\n",
    "df_ar6['ModelScenario'] = modscens\n",
    "df_ar6 = df_ar6.drop(['Model', 'Scenario', 'Unit'], axis=1)\n",
    "df_ar6 = df_ar6[df_ar6.ModelScenario.isin(np.array(ms_meta_refined))]\n",
    "\n",
    "dummy = df_ar6.melt(id_vars=[\"Variable\", \"Region\", \"ModelScenario\"], var_name=\"Time\", value_name=\"Value\")\n",
    "dummy['Time'] = np.array(dummy['Time'].astype(int))\n",
    "dummy = dummy.set_index([\"Variable\", \"Region\", \"ModelScenario\", \"Time\"])\n",
    "xr_scen_r = xr.Dataset.from_dataframe(dummy)\n",
    "xr_scen_r = xr_scen_r.reindex(Time = np.arange(1850, 2101))\n",
    "xr_scen_r = xr_scen_r.interpolate_na(dim=\"Time\", method=\"linear\")"
   ]
  },
  {
   "cell_type": "code",
   "execution_count": null,
   "metadata": {},
   "outputs": [],
   "source": [
    "cost_opt = xr_scen_r.sel(Variable='Emissions|Kyoto Gases', Time=2040)/xr_scen_r.sel(Variable='Emissions|Kyoto Gases', Time=2040)*xr_scen_r.sel(Variable='Emissions|Kyoto Gases', Time=2040)"
   ]
  },
  {
   "cell_type": "markdown",
   "metadata": {},
   "source": [
    "## Compute fractions"
   ]
  },
  {
   "cell_type": "code",
   "execution_count": null,
   "metadata": {},
   "outputs": [
    {
     "name": "stderr",
     "output_type": "stream",
     "text": [
      "x:\\user\\dekkerm\\environments\\MyEnv2\\lib\\site-packages\\numpy\\lib\\nanfunctions.py:1217: RuntimeWarning: All-NaN slice encountered\n",
      "  return function_base._ureduce(a, func=_nanmedian, keepdims=keepdims,\n",
      "x:\\user\\dekkerm\\environments\\MyEnv2\\lib\\site-packages\\numpy\\lib\\nanfunctions.py:1217: RuntimeWarning: All-NaN slice encountered\n",
      "  return function_base._ureduce(a, func=_nanmedian, keepdims=keepdims,\n",
      "x:\\user\\dekkerm\\environments\\MyEnv2\\lib\\site-packages\\numpy\\lib\\nanfunctions.py:1217: RuntimeWarning: All-NaN slice encountered\n",
      "  return function_base._ureduce(a, func=_nanmedian, keepdims=keepdims,\n",
      "x:\\user\\dekkerm\\environments\\MyEnv2\\lib\\site-packages\\xarray\\core\\alignment.py:307: FutureWarning: Index.__and__ operating as a set operation is deprecated, in the future this will be a logical operation matching Series.__and__.  Use index.intersection(other) instead.\n",
      "  index = joiner(matching_indexes)\n"
     ]
    }
   ],
   "source": [
    "xr_larger_than_costopt = xr_traj_2040.sel(Temperature=1.5, Convergence_year=2050, Risk=0.5, NegEmis=0.5, NonCO2red=0.5, Timing='Immediate').median(dim=['Scenario']) > cost_opt.mean(dim='ModelScenario').Value"
   ]
  },
  {
   "cell_type": "code",
   "execution_count": null,
   "metadata": {},
   "outputs": [],
   "source": [
    "# costopt = budgets.mean(dim='ModelScenario').Value\n",
    "# rules = ['GF', 'PC', 'PCC', 'ECPC', 'AP', 'GDR']\n",
    "# for rule_i, rule in enumerate(rules):\n",
    "#     buds = xr_bud15.sum(dim='Time').sel(Risk=0.5, Convergence_year=2050).mean(dim='Scenario')\n",
    "#     if rule_i == 0: larger_than_costopt = costopt.where(costopt > buds, 0).where(costopt<=buds, 1).where(~np.isnan(costopt), np.nan)\n",
    "#     else: larger_than_costopt += costopt.where(costopt > buds, 0).where(costopt<=buds, 1).where(~np.isnan(costopt), np.nan)"
   ]
  },
  {
   "cell_type": "markdown",
   "metadata": {},
   "source": [
    "World"
   ]
  },
  {
   "cell_type": "code",
   "execution_count": null,
   "metadata": {},
   "outputs": [],
   "source": [
    "df_ar6 = pd.read_csv(\"X:/user/dekkerm/Data/IPCC/AR6_Scenarios_Database_World_v1.1.csv\")\n",
    "df_ar6 = df_ar6[df_ar6.Variable.isin(['Emissions|Kyoto Gases', 'Policy Cost|Consumption Loss'])]\n",
    "df_ar6 = df_ar6.reset_index(drop=True)\n",
    "\n",
    "df_ar6_meta = pd.read_excel(\"X:/user/dekkerm/Data/IPCC/AR6_Scenarios_Database_metadata_indicators_v1.1.xlsx\", sheet_name='meta_Ch3vetted_withclimate')\n",
    "mods = np.array(df_ar6_meta.Model)\n",
    "scens = np.array(df_ar6_meta.Scenario)\n",
    "modscens_meta = np.array([mods[i]+'|'+scens[i] for i in range(len(scens))])\n",
    "df_ar6_meta['ModelScenario'] = modscens_meta\n",
    "df_ar6_meta = df_ar6_meta[['ModelScenario', 'Category', 'Policy_category']]\n",
    "df_ar6_meta = df_ar6_meta[df_ar6_meta.Category.isin(['C1', 'C2'])]\n",
    "df_ar6_meta = df_ar6_meta.reset_index(drop=True)\n",
    "ms_meta_refined = np.array(df_ar6_meta.ModelScenario)\n",
    "\n",
    "mods = np.array(df_ar6.Model)\n",
    "scens = np.array(df_ar6.Scenario)\n",
    "modscens = np.array([mods[i]+'|'+scens[i] for i in range(len(scens))])\n",
    "df_ar6['ModelScenario'] = modscens\n",
    "df_ar6['Region'] = 'WORLD'\n",
    "df_ar6 = df_ar6.drop(['Model', 'Scenario', 'Unit'], axis=1)\n",
    "df_ar6 = df_ar6[df_ar6.ModelScenario.isin(np.array(ms_meta_refined))]\n",
    "\n",
    "dummy = df_ar6.melt(id_vars=[\"Variable\", \"Region\", \"ModelScenario\"], var_name=\"Time\", value_name=\"Value\")\n",
    "dummy['Time'] = np.array(dummy['Time'].astype(int))\n",
    "dummy = dummy.set_index([\"Variable\", \"Region\", \"ModelScenario\", \"Time\"])\n",
    "xr_scen = xr.Dataset.from_dataframe(dummy)\n",
    "xr_scen = xr_scen.reindex(Time = np.arange(1850, 2101))\n",
    "xr_scen = xr_scen.interpolate_na(dim=\"Time\", method=\"linear\")"
   ]
  },
  {
   "cell_type": "markdown",
   "metadata": {},
   "source": [
    "Regional"
   ]
  },
  {
   "cell_type": "code",
   "execution_count": null,
   "metadata": {},
   "outputs": [],
   "source": [
    "df_ar6 = pd.read_csv(\"X:/user/dekkerm/Data/IPCC/AR6_ISO3/AR6_Scenarios_Database_ISO3_v1.1.csv\")\n",
    "df_ar6 = df_ar6[df_ar6.Variable.isin(['Emissions|Kyoto Gases', 'Policy Cost|Consumption Loss'])]\n",
    "df_ar6 = df_ar6.reset_index(drop=True)\n",
    "\n",
    "df_ar6_meta = pd.read_excel(\"X:/user/dekkerm/Data/IPCC/AR6_ISO3/AR6_Scenarios_Database_metadata_indicators_v1.1.xlsx\", sheet_name='meta_Ch3vetted_withclimate')\n",
    "mods = np.array(df_ar6_meta.Model)\n",
    "scens = np.array(df_ar6_meta.Scenario)\n",
    "modscens_meta = np.array([mods[i]+'|'+scens[i] for i in range(len(scens))])\n",
    "df_ar6_meta['ModelScenario'] = modscens_meta\n",
    "df_ar6_meta = df_ar6_meta[['ModelScenario', 'Category', 'Policy_category']]\n",
    "df_ar6_meta = df_ar6_meta[df_ar6_meta.Category.isin(['C1', 'C2'])]\n",
    "df_ar6_meta = df_ar6_meta.reset_index(drop=True)\n",
    "ms_meta_refined = np.array(df_ar6_meta.ModelScenario)\n",
    "\n",
    "mods = np.array(df_ar6.Model)\n",
    "scens = np.array(df_ar6.Scenario)\n",
    "modscens = np.array([mods[i]+'|'+scens[i] for i in range(len(scens))])\n",
    "df_ar6['ModelScenario'] = modscens\n",
    "df_ar6 = df_ar6.drop(['Model', 'Scenario', 'Unit'], axis=1)\n",
    "df_ar6 = df_ar6[df_ar6.ModelScenario.isin(np.array(ms_meta_refined))]\n",
    "\n",
    "dummy = df_ar6.melt(id_vars=[\"Variable\", \"Region\", \"ModelScenario\"], var_name=\"Time\", value_name=\"Value\")\n",
    "dummy['Time'] = np.array(dummy['Time'].astype(int))\n",
    "dummy = dummy.set_index([\"Variable\", \"Region\", \"ModelScenario\", \"Time\"])\n",
    "xr_scen_r = xr.Dataset.from_dataframe(dummy)\n",
    "xr_scen_r = xr_scen_r.reindex(Time = np.arange(1850, 2101))\n",
    "xr_scen_r = xr_scen_r.interpolate_na(dim=\"Time\", method=\"linear\")"
   ]
  },
  {
   "cell_type": "markdown",
   "metadata": {},
   "source": [
    "Concatenate"
   ]
  },
  {
   "cell_type": "code",
   "execution_count": null,
   "metadata": {},
   "outputs": [
    {
     "name": "stderr",
     "output_type": "stream",
     "text": [
      "x:\\user\\dekkerm\\environments\\MyEnv2\\lib\\site-packages\\xarray\\core\\alignment.py:307: FutureWarning: Index.__or__ operating as a set operation is deprecated, in the future this will be a logical operation matching Series.__or__.  Use index.union(other) instead.\n",
      "  index = joiner(matching_indexes)\n"
     ]
    }
   ],
   "source": [
    "xr_scen_all = xr.merge([xr_scen, xr_scen_r])"
   ]
  },
  {
   "attachments": {},
   "cell_type": "markdown",
   "metadata": {},
   "source": [
    "## Plot"
   ]
  },
  {
   "cell_type": "code",
   "execution_count": null,
   "metadata": {},
   "outputs": [],
   "source": [
    "path_ctygroups = \"X:/user/dekkerm/Data/\" + \"UNFCCC_Parties_Groups_noeu.xlsx\"\n",
    "df = pd.read_excel(path_ctygroups, sheet_name = \"Country groups\")\n",
    "countries_iso = np.array(df[\"Country ISO Code\"])\n",
    "countries_name = np.array(df[\"Name\"])\n",
    "countries_iso = np.array(df[\"Country ISO Code\"])\n",
    "group_eu = countries_iso[np.array(df[\"EU\"]) == 1]"
   ]
  },
  {
   "cell_type": "markdown",
   "metadata": {},
   "source": [
    "Helper stuff"
   ]
  },
  {
   "cell_type": "code",
   "execution_count": null,
   "metadata": {},
   "outputs": [],
   "source": [
    "colmap = 'Earth_r'\n",
    "colmap2 = 'terrain_r'"
   ]
  },
  {
   "cell_type": "code",
   "execution_count": null,
   "metadata": {},
   "outputs": [],
   "source": [
    "regs = xr_larger_than_costopt.Region#np.array(larger_than_costopt.Region)[np.where(~np.isnan(larger_than_costopt))]\n",
    "data = []\n",
    "for cty_i, cty in enumerate(regs):\n",
    "    data.append(np.sum([float(xr_larger_than_costopt.sel(Region=cty)[i]) for i in rules]))\n",
    "    #larger_than_costopt.sel(Region=regs)/6\n",
    "data = (6-np.array(data))/6"
   ]
  },
  {
   "cell_type": "markdown",
   "metadata": {},
   "source": [
    "Actual plot"
   ]
  },
  {
   "cell_type": "code",
   "execution_count": null,
   "metadata": {},
   "outputs": [
    {
     "ename": "ValueError",
     "evalue": "Invalid property specified for object of type plotly.graph_objs.choropleth.ColorBar: 'orientation'\n\nDid you mean \"bordercolor\"?\n\n    Valid properties:\n        bgcolor\n            Sets the color of padded area.\n        bordercolor\n            Sets the axis line color.\n        borderwidth\n            Sets the width (in px) or the border enclosing this\n            color bar.\n        dtick\n            Sets the step in-between ticks on this axis. Use with\n            `tick0`. Must be a positive number, or special strings\n            available to \"log\" and \"date\" axes. If the axis `type`\n            is \"log\", then ticks are set every 10^(n*dtick) where n\n            is the tick number. For example, to set a tick mark at\n            1, 10, 100, 1000, ... set dtick to 1. To set tick marks\n            at 1, 100, 10000, ... set dtick to 2. To set tick marks\n            at 1, 5, 25, 125, 625, 3125, ... set dtick to\n            log_10(5), or 0.69897000433. \"log\" has several special\n            values; \"L<f>\", where `f` is a positive number, gives\n            ticks linearly spaced in value (but not position). For\n            example `tick0` = 0.1, `dtick` = \"L0.5\" will put ticks\n            at 0.1, 0.6, 1.1, 1.6 etc. To show powers of 10 plus\n            small digits between, use \"D1\" (all digits) or \"D2\"\n            (only 2 and 5). `tick0` is ignored for \"D1\" and \"D2\".\n            If the axis `type` is \"date\", then you must convert the\n            time to milliseconds. For example, to set the interval\n            between ticks to one day, set `dtick` to 86400000.0.\n            \"date\" also has special values \"M<n>\" gives ticks\n            spaced by a number of months. `n` must be a positive\n            integer. To set ticks on the 15th of every third month,\n            set `tick0` to \"2000-01-15\" and `dtick` to \"M3\". To set\n            ticks every 4 years, set `dtick` to \"M48\"\n        exponentformat\n            Determines a formatting rule for the tick exponents.\n            For example, consider the number 1,000,000,000. If\n            \"none\", it appears as 1,000,000,000. If \"e\", 1e+9. If\n            \"E\", 1E+9. If \"power\", 1x10^9 (with 9 in a super\n            script). If \"SI\", 1G. If \"B\", 1B.\n        len\n            Sets the length of the color bar This measure excludes\n            the padding of both ends. That is, the color bar length\n            is this length minus the padding on both ends.\n        lenmode\n            Determines whether this color bar's length (i.e. the\n            measure in the color variation direction) is set in\n            units of plot \"fraction\" or in *pixels. Use `len` to\n            set the value.\n        minexponent\n            Hide SI prefix for 10^n if |n| is below this number.\n            This only has an effect when `tickformat` is \"SI\" or\n            \"B\".\n        nticks\n            Specifies the maximum number of ticks for the\n            particular axis. The actual number of ticks will be\n            chosen automatically to be less than or equal to\n            `nticks`. Has an effect only if `tickmode` is set to\n            \"auto\".\n        outlinecolor\n            Sets the axis line color.\n        outlinewidth\n            Sets the width (in px) of the axis line.\n        separatethousands\n            If \"true\", even 4-digit integers are separated\n        showexponent\n            If \"all\", all exponents are shown besides their\n            significands. If \"first\", only the exponent of the\n            first tick is shown. If \"last\", only the exponent of\n            the last tick is shown. If \"none\", no exponents appear.\n        showticklabels\n            Determines whether or not the tick labels are drawn.\n        showtickprefix\n            If \"all\", all tick labels are displayed with a prefix.\n            If \"first\", only the first tick is displayed with a\n            prefix. If \"last\", only the last tick is displayed with\n            a suffix. If \"none\", tick prefixes are hidden.\n        showticksuffix\n            Same as `showtickprefix` but for tick suffixes.\n        thickness\n            Sets the thickness of the color bar This measure\n            excludes the size of the padding, ticks and labels.\n        thicknessmode\n            Determines whether this color bar's thickness (i.e. the\n            measure in the constant color direction) is set in\n            units of plot \"fraction\" or in \"pixels\". Use\n            `thickness` to set the value.\n        tick0\n            Sets the placement of the first tick on this axis. Use\n            with `dtick`. If the axis `type` is \"log\", then you\n            must take the log of your starting tick (e.g. to set\n            the starting tick to 100, set the `tick0` to 2) except\n            when `dtick`=*L<f>* (see `dtick` for more info). If the\n            axis `type` is \"date\", it should be a date string, like\n            date data. If the axis `type` is \"category\", it should\n            be a number, using the scale where each category is\n            assigned a serial number from zero in the order it\n            appears.\n        tickangle\n            Sets the angle of the tick labels with respect to the\n            horizontal. For example, a `tickangle` of -90 draws the\n            tick labels vertically.\n        tickcolor\n            Sets the tick color.\n        tickfont\n            Sets the color bar's tick label font\n        tickformat\n            Sets the tick label formatting rule using d3 formatting\n            mini-languages which are very similar to those in\n            Python. For numbers, see:\n            https://github.com/d3/d3-3.x-api-\n            reference/blob/master/Formatting.md#d3_format And for\n            dates see: https://github.com/d3/d3-time-\n            format#locale_format We add one item to d3's date\n            formatter: \"%{n}f\" for fractional seconds with n\n            digits. For example, *2016-10-13 09:15:23.456* with\n            tickformat \"%H~%M~%S.%2f\" would display \"09~15~23.46\"\n        tickformatstops\n            A tuple of :class:`plotly.graph_objects.choropleth.colo\n            rbar.Tickformatstop` instances or dicts with compatible\n            properties\n        tickformatstopdefaults\n            When used in a template (as layout.template.data.chorop\n            leth.colorbar.tickformatstopdefaults), sets the default\n            property values to use for elements of\n            choropleth.colorbar.tickformatstops\n        ticklen\n            Sets the tick length (in px).\n        tickmode\n            Sets the tick mode for this axis. If \"auto\", the number\n            of ticks is set via `nticks`. If \"linear\", the\n            placement of the ticks is determined by a starting\n            position `tick0` and a tick step `dtick` (\"linear\" is\n            the default value if `tick0` and `dtick` are provided).\n            If \"array\", the placement of the ticks is set via\n            `tickvals` and the tick text is `ticktext`. (\"array\" is\n            the default value if `tickvals` is provided).\n        tickprefix\n            Sets a tick label prefix.\n        ticks\n            Determines whether ticks are drawn or not. If \"\", this\n            axis' ticks are not drawn. If \"outside\" (\"inside\"),\n            this axis' are drawn outside (inside) the axis lines.\n        ticksuffix\n            Sets a tick label suffix.\n        ticktext\n            Sets the text displayed at the ticks position via\n            `tickvals`. Only has an effect if `tickmode` is set to\n            \"array\". Used with `tickvals`.\n        ticktextsrc\n            Sets the source reference on Chart Studio Cloud for\n            ticktext .\n        tickvals\n            Sets the values at which ticks on this axis appear.\n            Only has an effect if `tickmode` is set to \"array\".\n            Used with `ticktext`.\n        tickvalssrc\n            Sets the source reference on Chart Studio Cloud for\n            tickvals .\n        tickwidth\n            Sets the tick width (in px).\n        title\n            :class:`plotly.graph_objects.choropleth.colorbar.Title`\n            instance or dict with compatible properties\n        titlefont\n            Deprecated: Please use choropleth.colorbar.title.font\n            instead. Sets this color bar's title font. Note that\n            the title's font used to be set by the now deprecated\n            `titlefont` attribute.\n        titleside\n            Deprecated: Please use choropleth.colorbar.title.side\n            instead. Determines the location of color bar's title\n            with respect to the color bar. Note that the title's\n            location used to be set by the now deprecated\n            `titleside` attribute.\n        x\n            Sets the x position of the color bar (in plot\n            fraction).\n        xanchor\n            Sets this color bar's horizontal position anchor. This\n            anchor binds the `x` position to the \"left\", \"center\"\n            or \"right\" of the color bar.\n        xpad\n            Sets the amount of padding (in px) along the x\n            direction.\n        y\n            Sets the y position of the color bar (in plot\n            fraction).\n        yanchor\n            Sets this color bar's vertical position anchor This\n            anchor binds the `y` position to the \"top\", \"middle\" or\n            \"bottom\" of the color bar.\n        ypad\n            Sets the amount of padding (in px) along the y\n            direction.\n        \nDid you mean \"bordercolor\"?\n\nBad property path:\norientation\n^^^^^^^^^^^",
     "output_type": "error",
     "traceback": [
      "\u001b[1;31m---------------------------------------------------------------------------\u001b[0m",
      "\u001b[1;31mValueError\u001b[0m                                Traceback (most recent call last)",
      "\u001b[1;32m<ipython-input-29-100c2c192498>\u001b[0m in \u001b[0;36m<module>\u001b[1;34m\u001b[0m\n\u001b[0;32m      8\u001b[0m \u001b[1;33m\u001b[0m\u001b[0m\n\u001b[0;32m      9\u001b[0m fig.add_trace(\n\u001b[1;32m---> 10\u001b[1;33m     go.Choropleth(\n\u001b[0m\u001b[0;32m     11\u001b[0m     \u001b[0mlocations\u001b[0m\u001b[1;33m=\u001b[0m\u001b[0mregs\u001b[0m\u001b[1;33m,\u001b[0m\u001b[1;33m\u001b[0m\u001b[1;33m\u001b[0m\u001b[0m\n\u001b[0;32m     12\u001b[0m     \u001b[0mz\u001b[0m \u001b[1;33m=\u001b[0m \u001b[0mdata\u001b[0m\u001b[1;33m,\u001b[0m\u001b[1;33m\u001b[0m\u001b[1;33m\u001b[0m\u001b[0m\n",
      "\u001b[1;32mx:\\user\\dekkerm\\environments\\MyEnv2\\lib\\site-packages\\plotly\\graph_objs\\_choropleth.py\u001b[0m in \u001b[0;36m__init__\u001b[1;34m(self, arg, autocolorscale, coloraxis, colorbar, colorscale, customdata, customdatasrc, featureidkey, geo, geojson, hoverinfo, hoverinfosrc, hoverlabel, hovertemplate, hovertemplatesrc, hovertext, hovertextsrc, ids, idssrc, legendgroup, locationmode, locations, locationssrc, marker, meta, metasrc, name, reversescale, selected, selectedpoints, showlegend, showscale, stream, text, textsrc, uid, uirevision, unselected, visible, z, zauto, zmax, zmid, zmin, zsrc, **kwargs)\u001b[0m\n\u001b[0;32m   1949\u001b[0m         \u001b[0m_v\u001b[0m \u001b[1;33m=\u001b[0m \u001b[0mcolorbar\u001b[0m \u001b[1;32mif\u001b[0m \u001b[0mcolorbar\u001b[0m \u001b[1;32mis\u001b[0m \u001b[1;32mnot\u001b[0m \u001b[1;32mNone\u001b[0m \u001b[1;32melse\u001b[0m \u001b[0m_v\u001b[0m\u001b[1;33m\u001b[0m\u001b[1;33m\u001b[0m\u001b[0m\n\u001b[0;32m   1950\u001b[0m         \u001b[1;32mif\u001b[0m \u001b[0m_v\u001b[0m \u001b[1;32mis\u001b[0m \u001b[1;32mnot\u001b[0m \u001b[1;32mNone\u001b[0m\u001b[1;33m:\u001b[0m\u001b[1;33m\u001b[0m\u001b[1;33m\u001b[0m\u001b[0m\n\u001b[1;32m-> 1951\u001b[1;33m             \u001b[0mself\u001b[0m\u001b[1;33m[\u001b[0m\u001b[1;34m\"colorbar\"\u001b[0m\u001b[1;33m]\u001b[0m \u001b[1;33m=\u001b[0m \u001b[0m_v\u001b[0m\u001b[1;33m\u001b[0m\u001b[1;33m\u001b[0m\u001b[0m\n\u001b[0m\u001b[0;32m   1952\u001b[0m         \u001b[0m_v\u001b[0m \u001b[1;33m=\u001b[0m \u001b[0marg\u001b[0m\u001b[1;33m.\u001b[0m\u001b[0mpop\u001b[0m\u001b[1;33m(\u001b[0m\u001b[1;34m\"colorscale\"\u001b[0m\u001b[1;33m,\u001b[0m \u001b[1;32mNone\u001b[0m\u001b[1;33m)\u001b[0m\u001b[1;33m\u001b[0m\u001b[1;33m\u001b[0m\u001b[0m\n\u001b[0;32m   1953\u001b[0m         \u001b[0m_v\u001b[0m \u001b[1;33m=\u001b[0m \u001b[0mcolorscale\u001b[0m \u001b[1;32mif\u001b[0m \u001b[0mcolorscale\u001b[0m \u001b[1;32mis\u001b[0m \u001b[1;32mnot\u001b[0m \u001b[1;32mNone\u001b[0m \u001b[1;32melse\u001b[0m \u001b[0m_v\u001b[0m\u001b[1;33m\u001b[0m\u001b[1;33m\u001b[0m\u001b[0m\n",
      "\u001b[1;32mx:\\user\\dekkerm\\environments\\MyEnv2\\lib\\site-packages\\plotly\\basedatatypes.py\u001b[0m in \u001b[0;36m__setitem__\u001b[1;34m(self, prop, value)\u001b[0m\n\u001b[0;32m   4794\u001b[0m                 \u001b[1;31m# ### Handle compound property ###\u001b[0m\u001b[1;33m\u001b[0m\u001b[1;33m\u001b[0m\u001b[1;33m\u001b[0m\u001b[0m\n\u001b[0;32m   4795\u001b[0m                 \u001b[1;32mif\u001b[0m \u001b[0misinstance\u001b[0m\u001b[1;33m(\u001b[0m\u001b[0mvalidator\u001b[0m\u001b[1;33m,\u001b[0m \u001b[0mCompoundValidator\u001b[0m\u001b[1;33m)\u001b[0m\u001b[1;33m:\u001b[0m\u001b[1;33m\u001b[0m\u001b[1;33m\u001b[0m\u001b[0m\n\u001b[1;32m-> 4796\u001b[1;33m                     \u001b[0mself\u001b[0m\u001b[1;33m.\u001b[0m\u001b[0m_set_compound_prop\u001b[0m\u001b[1;33m(\u001b[0m\u001b[0mprop\u001b[0m\u001b[1;33m,\u001b[0m \u001b[0mvalue\u001b[0m\u001b[1;33m)\u001b[0m\u001b[1;33m\u001b[0m\u001b[1;33m\u001b[0m\u001b[0m\n\u001b[0m\u001b[0;32m   4797\u001b[0m \u001b[1;33m\u001b[0m\u001b[0m\n\u001b[0;32m   4798\u001b[0m                 \u001b[1;31m# ### Handle compound array property ###\u001b[0m\u001b[1;33m\u001b[0m\u001b[1;33m\u001b[0m\u001b[1;33m\u001b[0m\u001b[0m\n",
      "\u001b[1;32mx:\\user\\dekkerm\\environments\\MyEnv2\\lib\\site-packages\\plotly\\basedatatypes.py\u001b[0m in \u001b[0;36m_set_compound_prop\u001b[1;34m(self, prop, val)\u001b[0m\n\u001b[0;32m   5205\u001b[0m         \u001b[1;31m# ------------\u001b[0m\u001b[1;33m\u001b[0m\u001b[1;33m\u001b[0m\u001b[1;33m\u001b[0m\u001b[0m\n\u001b[0;32m   5206\u001b[0m         \u001b[0mvalidator\u001b[0m \u001b[1;33m=\u001b[0m \u001b[0mself\u001b[0m\u001b[1;33m.\u001b[0m\u001b[0m_get_validator\u001b[0m\u001b[1;33m(\u001b[0m\u001b[0mprop\u001b[0m\u001b[1;33m)\u001b[0m\u001b[1;33m\u001b[0m\u001b[1;33m\u001b[0m\u001b[0m\n\u001b[1;32m-> 5207\u001b[1;33m         \u001b[0mval\u001b[0m \u001b[1;33m=\u001b[0m \u001b[0mvalidator\u001b[0m\u001b[1;33m.\u001b[0m\u001b[0mvalidate_coerce\u001b[0m\u001b[1;33m(\u001b[0m\u001b[0mval\u001b[0m\u001b[1;33m,\u001b[0m \u001b[0mskip_invalid\u001b[0m\u001b[1;33m=\u001b[0m\u001b[0mself\u001b[0m\u001b[1;33m.\u001b[0m\u001b[0m_skip_invalid\u001b[0m\u001b[1;33m)\u001b[0m\u001b[1;33m\u001b[0m\u001b[1;33m\u001b[0m\u001b[0m\n\u001b[0m\u001b[0;32m   5208\u001b[0m \u001b[1;33m\u001b[0m\u001b[0m\n\u001b[0;32m   5209\u001b[0m         \u001b[1;31m# Save deep copies of current and new states\u001b[0m\u001b[1;33m\u001b[0m\u001b[1;33m\u001b[0m\u001b[1;33m\u001b[0m\u001b[0m\n",
      "\u001b[1;32mx:\\user\\dekkerm\\environments\\MyEnv2\\lib\\site-packages\\_plotly_utils\\basevalidators.py\u001b[0m in \u001b[0;36mvalidate_coerce\u001b[1;34m(self, v, skip_invalid, _validate)\u001b[0m\n\u001b[0;32m   2446\u001b[0m \u001b[1;33m\u001b[0m\u001b[0m\n\u001b[0;32m   2447\u001b[0m         \u001b[1;32melif\u001b[0m \u001b[0misinstance\u001b[0m\u001b[1;33m(\u001b[0m\u001b[0mv\u001b[0m\u001b[1;33m,\u001b[0m \u001b[0mdict\u001b[0m\u001b[1;33m)\u001b[0m\u001b[1;33m:\u001b[0m\u001b[1;33m\u001b[0m\u001b[1;33m\u001b[0m\u001b[0m\n\u001b[1;32m-> 2448\u001b[1;33m             \u001b[0mv\u001b[0m \u001b[1;33m=\u001b[0m \u001b[0mself\u001b[0m\u001b[1;33m.\u001b[0m\u001b[0mdata_class\u001b[0m\u001b[1;33m(\u001b[0m\u001b[0mv\u001b[0m\u001b[1;33m,\u001b[0m \u001b[0mskip_invalid\u001b[0m\u001b[1;33m=\u001b[0m\u001b[0mskip_invalid\u001b[0m\u001b[1;33m,\u001b[0m \u001b[0m_validate\u001b[0m\u001b[1;33m=\u001b[0m\u001b[0m_validate\u001b[0m\u001b[1;33m)\u001b[0m\u001b[1;33m\u001b[0m\u001b[1;33m\u001b[0m\u001b[0m\n\u001b[0m\u001b[0;32m   2449\u001b[0m \u001b[1;33m\u001b[0m\u001b[0m\n\u001b[0;32m   2450\u001b[0m         \u001b[1;32melif\u001b[0m \u001b[0misinstance\u001b[0m\u001b[1;33m(\u001b[0m\u001b[0mv\u001b[0m\u001b[1;33m,\u001b[0m \u001b[0mself\u001b[0m\u001b[1;33m.\u001b[0m\u001b[0mdata_class\u001b[0m\u001b[1;33m)\u001b[0m\u001b[1;33m:\u001b[0m\u001b[1;33m\u001b[0m\u001b[1;33m\u001b[0m\u001b[0m\n",
      "\u001b[1;32mx:\\user\\dekkerm\\environments\\MyEnv2\\lib\\site-packages\\plotly\\graph_objs\\choropleth\\_colorbar.py\u001b[0m in \u001b[0;36m__init__\u001b[1;34m(self, arg, bgcolor, bordercolor, borderwidth, dtick, exponentformat, len, lenmode, minexponent, nticks, outlinecolor, outlinewidth, separatethousands, showexponent, showticklabels, showtickprefix, showticksuffix, thickness, thicknessmode, tick0, tickangle, tickcolor, tickfont, tickformat, tickformatstops, tickformatstopdefaults, ticklen, tickmode, tickprefix, ticks, ticksuffix, ticktext, ticktextsrc, tickvals, tickvalssrc, tickwidth, title, titlefont, titleside, x, xanchor, xpad, y, yanchor, ypad, **kwargs)\u001b[0m\n\u001b[0;32m   1966\u001b[0m         \u001b[1;31m# Process unknown kwargs\u001b[0m\u001b[1;33m\u001b[0m\u001b[1;33m\u001b[0m\u001b[1;33m\u001b[0m\u001b[0m\n\u001b[0;32m   1967\u001b[0m         \u001b[1;31m# ----------------------\u001b[0m\u001b[1;33m\u001b[0m\u001b[1;33m\u001b[0m\u001b[1;33m\u001b[0m\u001b[0m\n\u001b[1;32m-> 1968\u001b[1;33m         \u001b[0mself\u001b[0m\u001b[1;33m.\u001b[0m\u001b[0m_process_kwargs\u001b[0m\u001b[1;33m(\u001b[0m\u001b[1;33m**\u001b[0m\u001b[0mdict\u001b[0m\u001b[1;33m(\u001b[0m\u001b[0marg\u001b[0m\u001b[1;33m,\u001b[0m \u001b[1;33m**\u001b[0m\u001b[0mkwargs\u001b[0m\u001b[1;33m)\u001b[0m\u001b[1;33m)\u001b[0m\u001b[1;33m\u001b[0m\u001b[1;33m\u001b[0m\u001b[0m\n\u001b[0m\u001b[0;32m   1969\u001b[0m \u001b[1;33m\u001b[0m\u001b[0m\n\u001b[0;32m   1970\u001b[0m         \u001b[1;31m# Reset skip_invalid\u001b[0m\u001b[1;33m\u001b[0m\u001b[1;33m\u001b[0m\u001b[1;33m\u001b[0m\u001b[0m\n",
      "\u001b[1;32mx:\\user\\dekkerm\\environments\\MyEnv2\\lib\\site-packages\\plotly\\basedatatypes.py\u001b[0m in \u001b[0;36m_process_kwargs\u001b[1;34m(self, **kwargs)\u001b[0m\n\u001b[0;32m   4320\u001b[0m                 \u001b[0mself\u001b[0m\u001b[1;33m[\u001b[0m\u001b[0mk\u001b[0m\u001b[1;33m]\u001b[0m \u001b[1;33m=\u001b[0m \u001b[0mv\u001b[0m\u001b[1;33m\u001b[0m\u001b[1;33m\u001b[0m\u001b[0m\n\u001b[0;32m   4321\u001b[0m             \u001b[1;32melif\u001b[0m \u001b[1;32mnot\u001b[0m \u001b[0mself\u001b[0m\u001b[1;33m.\u001b[0m\u001b[0m_skip_invalid\u001b[0m\u001b[1;33m:\u001b[0m\u001b[1;33m\u001b[0m\u001b[1;33m\u001b[0m\u001b[0m\n\u001b[1;32m-> 4322\u001b[1;33m                 \u001b[1;32mraise\u001b[0m \u001b[0merr\u001b[0m\u001b[1;33m\u001b[0m\u001b[1;33m\u001b[0m\u001b[0m\n\u001b[0m\u001b[0;32m   4323\u001b[0m         \u001b[1;31m# No need to call _raise_on_invalid_property_error here,\u001b[0m\u001b[1;33m\u001b[0m\u001b[1;33m\u001b[0m\u001b[1;33m\u001b[0m\u001b[0m\n\u001b[0;32m   4324\u001b[0m         \u001b[1;31m# because we have it set up so that the singular case of calling\u001b[0m\u001b[1;33m\u001b[0m\u001b[1;33m\u001b[0m\u001b[1;33m\u001b[0m\u001b[0m\n",
      "\u001b[1;31mValueError\u001b[0m: Invalid property specified for object of type plotly.graph_objs.choropleth.ColorBar: 'orientation'\n\nDid you mean \"bordercolor\"?\n\n    Valid properties:\n        bgcolor\n            Sets the color of padded area.\n        bordercolor\n            Sets the axis line color.\n        borderwidth\n            Sets the width (in px) or the border enclosing this\n            color bar.\n        dtick\n            Sets the step in-between ticks on this axis. Use with\n            `tick0`. Must be a positive number, or special strings\n            available to \"log\" and \"date\" axes. If the axis `type`\n            is \"log\", then ticks are set every 10^(n*dtick) where n\n            is the tick number. For example, to set a tick mark at\n            1, 10, 100, 1000, ... set dtick to 1. To set tick marks\n            at 1, 100, 10000, ... set dtick to 2. To set tick marks\n            at 1, 5, 25, 125, 625, 3125, ... set dtick to\n            log_10(5), or 0.69897000433. \"log\" has several special\n            values; \"L<f>\", where `f` is a positive number, gives\n            ticks linearly spaced in value (but not position). For\n            example `tick0` = 0.1, `dtick` = \"L0.5\" will put ticks\n            at 0.1, 0.6, 1.1, 1.6 etc. To show powers of 10 plus\n            small digits between, use \"D1\" (all digits) or \"D2\"\n            (only 2 and 5). `tick0` is ignored for \"D1\" and \"D2\".\n            If the axis `type` is \"date\", then you must convert the\n            time to milliseconds. For example, to set the interval\n            between ticks to one day, set `dtick` to 86400000.0.\n            \"date\" also has special values \"M<n>\" gives ticks\n            spaced by a number of months. `n` must be a positive\n            integer. To set ticks on the 15th of every third month,\n            set `tick0` to \"2000-01-15\" and `dtick` to \"M3\". To set\n            ticks every 4 years, set `dtick` to \"M48\"\n        exponentformat\n            Determines a formatting rule for the tick exponents.\n            For example, consider the number 1,000,000,000. If\n            \"none\", it appears as 1,000,000,000. If \"e\", 1e+9. If\n            \"E\", 1E+9. If \"power\", 1x10^9 (with 9 in a super\n            script). If \"SI\", 1G. If \"B\", 1B.\n        len\n            Sets the length of the color bar This measure excludes\n            the padding of both ends. That is, the color bar length\n            is this length minus the padding on both ends.\n        lenmode\n            Determines whether this color bar's length (i.e. the\n            measure in the color variation direction) is set in\n            units of plot \"fraction\" or in *pixels. Use `len` to\n            set the value.\n        minexponent\n            Hide SI prefix for 10^n if |n| is below this number.\n            This only has an effect when `tickformat` is \"SI\" or\n            \"B\".\n        nticks\n            Specifies the maximum number of ticks for the\n            particular axis. The actual number of ticks will be\n            chosen automatically to be less than or equal to\n            `nticks`. Has an effect only if `tickmode` is set to\n            \"auto\".\n        outlinecolor\n            Sets the axis line color.\n        outlinewidth\n            Sets the width (in px) of the axis line.\n        separatethousands\n            If \"true\", even 4-digit integers are separated\n        showexponent\n            If \"all\", all exponents are shown besides their\n            significands. If \"first\", only the exponent of the\n            first tick is shown. If \"last\", only the exponent of\n            the last tick is shown. If \"none\", no exponents appear.\n        showticklabels\n            Determines whether or not the tick labels are drawn.\n        showtickprefix\n            If \"all\", all tick labels are displayed with a prefix.\n            If \"first\", only the first tick is displayed with a\n            prefix. If \"last\", only the last tick is displayed with\n            a suffix. If \"none\", tick prefixes are hidden.\n        showticksuffix\n            Same as `showtickprefix` but for tick suffixes.\n        thickness\n            Sets the thickness of the color bar This measure\n            excludes the size of the padding, ticks and labels.\n        thicknessmode\n            Determines whether this color bar's thickness (i.e. the\n            measure in the constant color direction) is set in\n            units of plot \"fraction\" or in \"pixels\". Use\n            `thickness` to set the value.\n        tick0\n            Sets the placement of the first tick on this axis. Use\n            with `dtick`. If the axis `type` is \"log\", then you\n            must take the log of your starting tick (e.g. to set\n            the starting tick to 100, set the `tick0` to 2) except\n            when `dtick`=*L<f>* (see `dtick` for more info). If the\n            axis `type` is \"date\", it should be a date string, like\n            date data. If the axis `type` is \"category\", it should\n            be a number, using the scale where each category is\n            assigned a serial number from zero in the order it\n            appears.\n        tickangle\n            Sets the angle of the tick labels with respect to the\n            horizontal. For example, a `tickangle` of -90 draws the\n            tick labels vertically.\n        tickcolor\n            Sets the tick color.\n        tickfont\n            Sets the color bar's tick label font\n        tickformat\n            Sets the tick label formatting rule using d3 formatting\n            mini-languages which are very similar to those in\n            Python. For numbers, see:\n            https://github.com/d3/d3-3.x-api-\n            reference/blob/master/Formatting.md#d3_format And for\n            dates see: https://github.com/d3/d3-time-\n            format#locale_format We add one item to d3's date\n            formatter: \"%{n}f\" for fractional seconds with n\n            digits. For example, *2016-10-13 09:15:23.456* with\n            tickformat \"%H~%M~%S.%2f\" would display \"09~15~23.46\"\n        tickformatstops\n            A tuple of :class:`plotly.graph_objects.choropleth.colo\n            rbar.Tickformatstop` instances or dicts with compatible\n            properties\n        tickformatstopdefaults\n            When used in a template (as layout.template.data.chorop\n            leth.colorbar.tickformatstopdefaults), sets the default\n            property values to use for elements of\n            choropleth.colorbar.tickformatstops\n        ticklen\n            Sets the tick length (in px).\n        tickmode\n            Sets the tick mode for this axis. If \"auto\", the number\n            of ticks is set via `nticks`. If \"linear\", the\n            placement of the ticks is determined by a starting\n            position `tick0` and a tick step `dtick` (\"linear\" is\n            the default value if `tick0` and `dtick` are provided).\n            If \"array\", the placement of the ticks is set via\n            `tickvals` and the tick text is `ticktext`. (\"array\" is\n            the default value if `tickvals` is provided).\n        tickprefix\n            Sets a tick label prefix.\n        ticks\n            Determines whether ticks are drawn or not. If \"\", this\n            axis' ticks are not drawn. If \"outside\" (\"inside\"),\n            this axis' are drawn outside (inside) the axis lines.\n        ticksuffix\n            Sets a tick label suffix.\n        ticktext\n            Sets the text displayed at the ticks position via\n            `tickvals`. Only has an effect if `tickmode` is set to\n            \"array\". Used with `tickvals`.\n        ticktextsrc\n            Sets the source reference on Chart Studio Cloud for\n            ticktext .\n        tickvals\n            Sets the values at which ticks on this axis appear.\n            Only has an effect if `tickmode` is set to \"array\".\n            Used with `ticktext`.\n        tickvalssrc\n            Sets the source reference on Chart Studio Cloud for\n            tickvals .\n        tickwidth\n            Sets the tick width (in px).\n        title\n            :class:`plotly.graph_objects.choropleth.colorbar.Title`\n            instance or dict with compatible properties\n        titlefont\n            Deprecated: Please use choropleth.colorbar.title.font\n            instead. Sets this color bar's title font. Note that\n            the title's font used to be set by the now deprecated\n            `titlefont` attribute.\n        titleside\n            Deprecated: Please use choropleth.colorbar.title.side\n            instead. Determines the location of color bar's title\n            with respect to the color bar. Note that the title's\n            location used to be set by the now deprecated\n            `titleside` attribute.\n        x\n            Sets the x position of the color bar (in plot\n            fraction).\n        xanchor\n            Sets this color bar's horizontal position anchor. This\n            anchor binds the `x` position to the \"left\", \"center\"\n            or \"right\" of the color bar.\n        xpad\n            Sets the amount of padding (in px) along the x\n            direction.\n        y\n            Sets the y position of the color bar (in plot\n            fraction).\n        yanchor\n            Sets this color bar's vertical position anchor This\n            anchor binds the `y` position to the \"top\", \"middle\" or\n            \"bottom\" of the color bar.\n        ypad\n            Sets the amount of padding (in px) along the y\n            direction.\n        \nDid you mean \"bordercolor\"?\n\nBad property path:\norientation\n^^^^^^^^^^^"
     ]
    }
   ],
   "source": [
    "fig = make_subplots(rows=5, cols=4, \n",
    "                    specs=[[{'type': 'choropleth', 'colspan': 3, 'rowspan': 3}, {}, {}, {}],\n",
    "                           [{}, {}, {}, {}],\n",
    "                           [{}, {}, {}, {}],\n",
    "                           [{}, {}, {}, {}],\n",
    "                           [{'colspan': 4}, {}, {}, {}]],\n",
    "                    horizontal_spacing = 0.05, vertical_spacing=0.08)\n",
    "\n",
    "fig.add_trace(\n",
    "    go.Choropleth(\n",
    "    locations=regs,\n",
    "    z = data,\n",
    "    locationmode = 'ISO-3',\n",
    "    colorscale = colmap,\n",
    "    zmax = 1,\n",
    "    zmin = 0,\n",
    "    text = [str(r)+\": \"+str(int(data[r_i]*6))+\" out of 6\" for r_i, r in enumerate(np.array(regs))],\n",
    "    hovertemplate  = '%{text}',\n",
    "    name=\"\",\n",
    "    marker_line_color='black', \n",
    "    marker_line_width=1.,\n",
    "    colorbar=dict(len=0.43, x=0.37, y=0.45, orientation='h',\n",
    "                  tickvals = np.arange(0, 1.1, 1/6),\n",
    "                  thickness=15,\n",
    "                  tickfont={'size': 10},\n",
    "                  ticktext=['None<br>(Mitigation financed<br>by others)', '1 out of 6', '2 out of 6', '3 out of 6', '4 out of 6', '5 out of 6', 'All<br>(Finances mitigation<br>abroad)'],\n",
    "                  ticklabelposition='outside',\n",
    "    ),\n",
    "    showscale=True\n",
    "), 1, 1)\n",
    "fig.add_trace(\n",
    "    go.Choropleth(\n",
    "    locations=group_eu,\n",
    "    z = [data[np.where(regs == \"EU\")[0][0]]]*len(group_eu),\n",
    "    locationmode = 'ISO-3',\n",
    "    colorscale = colmap,\n",
    "    zmax = 1,\n",
    "    zmin = 0,\n",
    "    text = [\"EU: \"+str(int(6*data[regs == 'EU']))+\" out of 6\"for r_i, r in enumerate(group_eu)],\n",
    "    hovertemplate  = '%{text}',\n",
    "    name=\"\",\n",
    "    marker_line_color='black', \n",
    "    marker_line_width=1.,\n",
    "    showscale=False\n",
    "), 1, 1)\n",
    "fig.update_geos(showocean=True, oceancolor=\"aliceblue\")\n",
    "fig.update_geos(showlakes=True, lakecolor=\"aliceblue\")\n",
    "\n",
    "# limite map scope to USA 'africa', 'asia', 'europe', 'north america', 'south america', 'usa', 'world'\n",
    "fig.update_geos(visible=True,\n",
    "                showlakes=False,\n",
    "                lakecolor='rgb(255, 255, 255)',\n",
    "                projection_type='natural earth',\n",
    "                showcoastlines=False,)\n",
    "\n",
    "values = ['CP', 'NDC', 'NZ', 'CO2_costopt', 'GF', 'PC', 'PCC', 'AP', 'GDR', 'ECPC']\n",
    "for cty_i, cty in enumerate([\"USA\", \"BRA\", \"ZAF\", \"EU\", \"RUS\", \"CHN\", \"IND\"]):\n",
    "    row = [4, 4, 4, 1, 2, 3, 4][cty_i]\n",
    "    col = [1, 2, 3, 4, 4, 4, 4][cty_i]\n",
    "    # !!!!! values_co_emis = xr_scen_all.sel(Region=cty, Time=np.arange(params['start_year_analysis'], 2101), Variable='Emissions|Kyoto Gases').Value.sum(dim='Time', skipna=False)\n",
    "    values_co_emis = xr_scen_all.sel(Region=cty, Time=2040, Variable='Emissions|Kyoto Gases').Value/1e3\n",
    "    fig.add_trace(go.Scatter(x=['CP', 'NDC', 'NZ', 'CO', 'GF', 'PC', 'PCC', 'AP', 'GDR', 'ECPC'], y=[values_co_emis.median() for val in values], name='', showlegend=False, hoverinfo='skip', mode='lines', line={'color': 'black', 'width': 0}), col=col, row=row)\n",
    "    fig.add_trace(go.Scatter(x=['CO', 'GF', 'PC', 'PCC', 'AP', 'GDR', 'ECPC'], y=[values_co_emis.median() for val in values], name='', showlegend=False, hoverinfo='skip', mode='lines', line={'color': 'black', 'width': 1}), col=col, row=row)\n",
    "    fig.add_trace(go.Scatter(x=['GF', 'PC', 'PCC', 'AP', 'GDR', 'ECPC'], y=[values_co_emis.quantile(0.25) for val in values], fill=None, name='', showlegend=False, hoverinfo='skip', mode='lines', line={'color': 'silver', 'width': 0}), col=col, row=row)\n",
    "    fig.add_trace(go.Scatter(x=['GF', 'PC', 'PCC', 'AP', 'GDR', 'ECPC'], y=[values_co_emis.quantile(0.75) for val in values], fill='tonexty', name='', showlegend=False, hoverinfo='skip', mode='lines', line={'color': 'silver', 'width': 0}), col=col, row=row)\n",
    "    fig.add_trace(go.Box(y=values_co_emis,\n",
    "                        name=\"CO\",\n",
    "                        #text=[cty+\": \"+str(np.round(vals[i],1))+\"<br>\"+modscens[i] for i in range(len(vals))],\n",
    "                        fillcolor=plotly.colors.diverging.Earth_r[int(data[regs == cty][0]*6)],\n",
    "                        line_color='black', marker=dict(color='grey'),#plotly.colors.diverging.Earth_r[int(fractions[regs == cty][0]*7)]),\n",
    "                        boxpoints='all', jitter=0.5, pointpos=0, whiskerwidth=0.4, marker_size=0.1, line_width=1.5, showlegend=False, hovertemplate='%{text}'),\n",
    "                        row=row, col=col)\n",
    "\n",
    "    # Engage results\n",
    "    for eng_i, eng in enumerate(['CurPol', 'NDC', 'NetZero']):\n",
    "        # !!!!! values_eng = xr_total.sel(Time=np.arange(params['start_year_analysis'], 2101), Region=cty).sum(dim='Time', skipna=False)[eng]\n",
    "        values_eng = xr_total.sel(Time=2040, Region=cty)[eng]/1e3\n",
    "        fig.add_trace(go.Box(y=values_eng,\n",
    "                        name=[\"CP\", \"NDC\", \"NZ\"][eng_i],\n",
    "                        fillcolor=plotly.colors.diverging.Earth_r[int(data[regs == cty][0]*6)],\n",
    "                        line_color='black', marker=dict(color='grey'),\n",
    "                        boxpoints='all', jitter=0.5, pointpos=0, whiskerwidth=0.4, marker_size=0.1, line_width=1.5, showlegend=False, hovertemplate='%{text}'),\n",
    "                        row=row, col=col)\n",
    "\n",
    "    # Full cost optimal emissions (AR6 C1-C2)\n",
    "    fig.add_trace(go.Box(y=values_co_emis,\n",
    "                    name=\"CO\",\n",
    "                    fillcolor=plotly.colors.diverging.Earth_r[int(data[regs == cty][0]*6)],\n",
    "                    line_color='black', marker=dict(color='grey'),\n",
    "                    boxpoints='all', jitter=0., pointpos=0, whiskerwidth=0.4, marker_size=0.1, line_width=1.5, showlegend=False, hovertemplate='%{text}'),\n",
    "                    row=row, col=col)\n",
    "\n",
    "    # Effort sharing\n",
    "    for alloc_i, alloc in enumerate(['GF', 'PC', 'PCC', 'AP', 'GDR', 'ECPC']):\n",
    "        # !!!!! ally = xr_bud15.sel(Region=cty, Risk=0.5, Convergence_year=2050).sum(dim='Time').mean(dim='Scenario')[alloc]\n",
    "        ally = xr_traj_2040.sel(Region=cty, Risk=0.5, Convergence_year=2050, Temperature=1.5).mean(dim='Scenario')[alloc].median()/1e3\n",
    "        if ally < values_co_emis.quantile(0.40):\n",
    "            colr = 'tomato'\n",
    "            marker = 'triangle-down'\n",
    "            textpos = 'middle left'\n",
    "            txt = '-<b>$'\n",
    "            size = 13\n",
    "        elif ally > values_co_emis.quantile(0.60):\n",
    "            colr = 'forestgreen'\n",
    "            marker = 'triangle-up'\n",
    "            textpos = 'middle left'\n",
    "            txt = '+<b>$'\n",
    "            size = 13\n",
    "        else:\n",
    "            colr = 'grey'\n",
    "            marker = 'square'\n",
    "            textpos = 'middle left'\n",
    "            txt = '~<b>$'\n",
    "            size = 10\n",
    "        fig.add_trace(go.Scatter(x=[alloc, alloc], y=[values_co_emis.median(), ally], mode='lines', line={'width': 2, 'color': colr, 'dash': 'dot'}, showlegend=False), row=row, col=col)\n",
    "        fig.add_trace(go.Scatter(x=[alloc], y=[ally], text=txt, textfont={'color': colr}, mode='markers+text', marker={'symbol':marker, \"color\": colr, \"size\": size, \"line\": {\"width\": 1.5, \"color\": 'black'}},\n",
    "                                 showlegend=False, textposition=textpos),\n",
    "                      row=row, col=col)\n",
    "\n",
    "y1 = xr_scen_all.sel(Time=np.arange(params['start_year_analysis'], 2101), Variable='Policy Cost|Consumption Loss').Value.sum(dim='Time', skipna=False)\n",
    "gdp1 = xr_dataread.sel(Time=params['start_year_analysis']).GDP.mean(dim='Scenario')\n",
    "ar = np.array((y1/gdp1).Region[np.array((y1/gdp1).median(dim='ModelScenario').argsort())])\n",
    "ar = ar[ar!='WORLD']\n",
    "for reg_i, reg in enumerate(ar):\n",
    "    y = xr_scen_all.sel(Region=reg, Time=np.arange(params['start_year_analysis'], 2101), Variable='Policy Cost|Consumption Loss').Value.sum(dim='Time', skipna=False)\n",
    "    gdp = xr_dataread.sel(Region=reg, Time=params['start_year_analysis']).GDP.mean(dim='Scenario')\n",
    "    try:\n",
    "        col = plotly.colors.diverging.Earth_r[int(data[regs == reg][0]*6)]\n",
    "    except:\n",
    "        col = 'silver'\n",
    "    if np.nansum(y) != 0:\n",
    "        fig.add_trace(go.Box(name=reg, y=y/gdp,\n",
    "                            line_color='black',\n",
    "                            marker=dict(color=col),\n",
    "                            fillcolor=col,\n",
    "                            boxpoints='all', jitter=0.5, pointpos=-1.8, whiskerwidth=0.4, marker_size=3, line_width=1,\n",
    "                            showlegend=False), row=5, col=1)\n",
    "\n",
    "# Panel labels\n",
    "fig.add_annotation(xref='paper', yref='paper',ax=0, align='left', ay=-0, showarrow=False, font=dict(color='black', size=18),\n",
    "                   y=1.04, x=0.20, text=\"<b>(a) Allocations less than cost-optimal</b><br>          (in number of effort-sharing approaches)\")\n",
    "fig.add_annotation(xref='paper', yref='paper',ax=0, align='right', ay=-0, showarrow=False, font=dict(color='black', size=16), y=0.38, x=0.01, text=\"<b>(b) United States of America\")\n",
    "fig.add_annotation(xref='paper', yref='paper',ax=0, align='right', ay=-0, showarrow=False, font=dict(color='black', size=16), y=0.38, x=0.27, text=\"<b>(c) Brazil\")\n",
    "fig.add_annotation(xref='paper', yref='paper',ax=0, align='right', ay=-0, showarrow=False, font=dict(color='black', size=16), y=0.38, x=0.60, text=\"<b>(d) South-Africa\")\n",
    "fig.add_annotation(xref='paper', yref='paper',ax=0, align='right', ay=-0, showarrow=False, font=dict(color='black', size=16), y=1.02, x=0.94, text=\"<b>(e) European Union\")\n",
    "fig.add_annotation(xref='paper', yref='paper',ax=0, align='right', ay=-0, showarrow=False, font=dict(color='black', size=16), y=0.81, x=0.87, text=\"<b>(f) Russia\")\n",
    "fig.add_annotation(xref='paper', yref='paper',ax=0, align='right', ay=-0, showarrow=False, font=dict(color='black', size=16), y=0.58, x=0.87, text=\"<b>(g) China\")\n",
    "fig.add_annotation(xref='paper', yref='paper',ax=0, align='right', ay=-0, showarrow=False, font=dict(color='black', size=16), y=0.38, x=0.87, text=\"<b>(h) India\")\n",
    "fig.add_annotation(xref='paper', yref='paper',ax=0, align='left', ay=-0, showarrow=False, font=dict(color='black', size=16), y=0.14, x=0.01, text=\"<b>(i) Policy costs over 2020-2100 in cost-optimal scenarios</b>\")\n",
    "\n",
    "# ADD LINES TO PATHS\n",
    "fig.update_yaxes(title_text=\"GHG emission allocations in 2040<br>[Gt CO<sub>2</sub>e]\", row=4, col=1)\n",
    "fig.update_yaxes(title_text=\"Cumulative consumption<br>loss as fraction<br>of GDP in 2019\", row=5, col=1)\n",
    "\n",
    "fig.update_yaxes(rangemode=\"tozero\")\n",
    "fig.update_xaxes(zeroline=True, zerolinewidth=2, zerolinecolor='Black')\n",
    "fig.update_layout(height=1100,\n",
    "                  width=1400,\n",
    "                  template='simple_white')\n",
    "fig.show()"
   ]
  },
  {
   "cell_type": "code",
   "execution_count": null,
   "metadata": {},
   "outputs": [],
   "source": [
    "fig.write_image(path_figs / \"Figure_4.svg\")"
   ]
  }
 ],
 "metadata": {
  "kernelspec": {
   "display_name": "MyEnv",
   "language": "python",
   "name": "python3"
  },
  "language_info": {
   "codemirror_mode": {
    "name": "ipython",
    "version": 3
   },
   "file_extension": ".py",
   "mimetype": "text/x-python",
   "name": "python",
   "nbconvert_exporter": "python",
   "pygments_lexer": "ipython3",
   "version": "3.8.6"
  },
  "orig_nbformat": 4,
  "vscode": {
   "interpreter": {
    "hash": "36d5d389870ab01fa625d0d5123f82469a3683fa0e02c4f7e9e76e9a75345aa3"
   }
  }
 },
 "nbformat": 4,
 "nbformat_minor": 2
}
