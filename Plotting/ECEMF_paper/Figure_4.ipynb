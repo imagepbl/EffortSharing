{
 "cells": [
  {
   "attachments": {},
   "cell_type": "markdown",
   "metadata": {},
   "source": [
    "## Preambule"
   ]
  },
  {
   "cell_type": "code",
   "execution_count": 54,
   "metadata": {},
   "outputs": [],
   "source": [
    "# General packages\n",
    "import numpy as np\n",
    "import pandas as pd\n",
    "from tqdm import tqdm\n",
    "from pathlib import Path\n",
    "import xarray as xr\n",
    "import json\n",
    "from tqdm import tqdm\n",
    "import plotly\n",
    "\n",
    "# Sobol analysis\n",
    "from SALib.sample import saltelli\n",
    "from SALib.analyze import sobol\n",
    "from SALib.test_functions import Ishigami\n",
    "\n",
    "# Plotting\n",
    "import matplotlib.pyplot as plt\n",
    "import plotly.express as px\n",
    "import plotly.graph_objects as go\n",
    "from plotly.subplots import make_subplots\n",
    "from plotly.colors import n_colors"
   ]
  },
  {
   "attachments": {},
   "cell_type": "markdown",
   "metadata": {},
   "source": [
    "## Parameters"
   ]
  },
  {
   "cell_type": "code",
   "execution_count": 55,
   "metadata": {},
   "outputs": [],
   "source": [
    "standard_settings = dict(Risk_of_exceedance='50%',\n",
    "                         Negative_emissions='Medium',\n",
    "                         Non_CO2_mitigation_potential='Medium')\n",
    "params = dict(start_year_analysis=2021)\n",
    "rules = ['GF', 'PC', 'PCC', 'ECPC', 'AP', 'GDR']\n",
    "rulecolors = ['steelblue', 'goldenrod', 'forestgreen', 'sienna', 'mediumvioletred']\n",
    "costoptimal_colors = ['orangered', 'red', 'darkred']"
   ]
  },
  {
   "attachments": {},
   "cell_type": "markdown",
   "metadata": {},
   "source": [
    "## Paths"
   ]
  },
  {
   "cell_type": "code",
   "execution_count": 56,
   "metadata": {},
   "outputs": [],
   "source": [
    "path_main = Path(\"X:/user/dekkerm/Projects/ECEMF_T5.2/\")\n",
    "path_data = path_main / \"Data\"\n",
    "path_data_ext = Path(\"X:/user/dekkerm/Data\")\n",
    "path_figs = path_main / \"Figures\" / \"ECEMF_paper\""
   ]
  },
  {
   "attachments": {},
   "cell_type": "markdown",
   "metadata": {},
   "source": [
    "## Read data files"
   ]
  },
  {
   "cell_type": "code",
   "execution_count": 57,
   "metadata": {},
   "outputs": [],
   "source": [
    "xr_total = xr.open_dataset(path_data / \"xr_total.nc\")\n",
    "all_regions_iso = np.load(path_data / \"all_regions.npy\")\n",
    "all_regions_names = np.load(path_data / \"all_regions_names.npy\")\n",
    "all_countries_iso = np.load(path_data / \"all_countries.npy\", allow_pickle=True)\n",
    "all_countries_names = np.load(path_data / \"all_countries_names.npy\", allow_pickle=True)"
   ]
  },
  {
   "cell_type": "markdown",
   "metadata": {},
   "source": [
    "## Uncertainty decomposition of budgets"
   ]
  },
  {
   "cell_type": "code",
   "execution_count": 58,
   "metadata": {},
   "outputs": [],
   "source": [
    "problem = {\n",
    "    'num_vars': 4,\n",
    "    'names': ['Temperature', 'Convergence_year', 'Scenario', 'EffortSharing'],\n",
    "    'bounds': [[1.5, 3.0],\n",
    "               [np.min(xr_total.Convergence_year), np.max(xr_total.Convergence_year)],\n",
    "               [0, 1],\n",
    "               [0, 6]]\n",
    "}"
   ]
  },
  {
   "cell_type": "code",
   "execution_count": 59,
   "metadata": {},
   "outputs": [
    {
     "name": "stderr",
     "output_type": "stream",
     "text": [
      "C:\\Users\\dekkerm\\AppData\\Local\\Temp\\2\\ipykernel_9708\\357594605.py:1: DeprecationWarning:\n",
      "\n",
      "`salib.sample.saltelli` will be removed in SALib 1.5. Please use `salib.sample.sobol`\n",
      "\n"
     ]
    }
   ],
   "source": [
    "param_values = saltelli.sample(problem, 64)"
   ]
  },
  {
   "cell_type": "code",
   "execution_count": 60,
   "metadata": {},
   "outputs": [],
   "source": [
    "def refine_sample(pars):\n",
    "    v1 = pars.copy()[:, 0]\n",
    "    v1s = v1.astype(str)\n",
    "    v1s[v1 < 1.6] = '1.5 deg'\n",
    "    v1s[(v1 < 1.85) & (v1 >= 1.6)] = '1.7 deg'\n",
    "    v1s[(v1 < 2.25) & (v1 >= 1.85)] = '2.0 deg'\n",
    "    v1s[(v1 < 2.75) & (v1 >= 2.25)] = '2.5 deg'\n",
    "    v1s[(v1 >= 2.75)] = '3.0 deg'\n",
    "    \n",
    "    v2 = pars.copy()[:, 1]\n",
    "    v2s = (np.round(v2 / 5) * 5).astype(int)\n",
    "    \n",
    "    v3 = pars.copy()[:, 2]\n",
    "    v3s = v3.astype(str)\n",
    "    v3s[v3 < 0.2] = 'SSP1'\n",
    "    v3s[(v3 >= 0.2) & (v3 < 0.4)] = 'SSP2'\n",
    "    v3s[(v3 >= 0.4) & (v3 < 0.6)] = 'SSP3'\n",
    "    v3s[(v3 >= 0.6) & (v3 < 0.8)] = 'SSP4'\n",
    "    v3s[(v3 >= 0.8) & (v3 < 1.0)] = 'SSP5'\n",
    "    \n",
    "    v4 = pars.copy()[:, 3]\n",
    "    v4s = v4.astype(str)\n",
    "    v4s[v4 < 1] = 'GF'\n",
    "    v4s[(v4 >= 1) & (v4 < 2)] = 'PC'\n",
    "    v4s[(v4 >= 2) & (v4 < 3)] = 'PCC'\n",
    "    v4s[(v4 >= 3) & (v4 < 4)] = 'AP'\n",
    "    v4s[(v4 >= 4) & (v4 < 5)] = 'GDR'\n",
    "    v4s[(v4 >= 5) & (v4 < 6)] = 'ECPC'\n",
    "    return np.array([v1s, v2s, v3s, v4s]).T"
   ]
  },
  {
   "cell_type": "code",
   "execution_count": 61,
   "metadata": {},
   "outputs": [],
   "source": [
    "def func(pars, reg, xrt):\n",
    "    xrt2 = xrt.sel(Region=reg)\n",
    "    vec = np.zeros(len(pars))\n",
    "    for i in range(len(pars)):\n",
    "        vec[i] = float(xrt2.sel(Temperature=pars[i, 0],\n",
    "                               Convergence_year=np.array(pars[i, 1]).astype(int),\n",
    "                               Scenario=pars[i, 2])[pars[i, 3]])\n",
    "    return vec"
   ]
  },
  {
   "cell_type": "code",
   "execution_count": 62,
   "metadata": {},
   "outputs": [],
   "source": [
    "xrt = xr_total.sel(**standard_settings, Time=np.arange(params['start_year_analysis'], 2101)).sum(dim='Time')\n",
    "#xrt = xr_total.sel(**standard_settings, Time=np.arange(params['start_year_analysis'], 2101)).sum(dim='Time')"
   ]
  },
  {
   "cell_type": "code",
   "execution_count": 63,
   "metadata": {},
   "outputs": [
    {
     "name": "stderr",
     "output_type": "stream",
     "text": [
      "197it [02:44,  1.20it/s]\n"
     ]
    }
   ],
   "source": [
    "Sis = np.zeros(shape=(len(all_countries_iso), 4))\n",
    "for reg_i, reg in tqdm(enumerate(all_countries_iso)):\n",
    "    Y = func(refine_sample(param_values), reg, xrt)\n",
    "    Si = sobol.analyze(problem, Y)\n",
    "    Sis[reg_i, :] = Si['ST']"
   ]
  },
  {
   "cell_type": "code",
   "execution_count": 64,
   "metadata": {},
   "outputs": [],
   "source": [
    "Si_norm = (Sis.T / Sis.sum(axis=1)).T"
   ]
  },
  {
   "cell_type": "markdown",
   "metadata": {},
   "source": [
    "## Plot"
   ]
  },
  {
   "cell_type": "code",
   "execution_count": 65,
   "metadata": {},
   "outputs": [],
   "source": [
    "mins = [np.min(Si_norm[:, 0]),\n",
    "        np.min(Si_norm[:, 3]),\n",
    "        np.min(Si_norm[:, 1]+Si_norm[:, 2])]\n",
    "maxs = [np.max(Si_norm[:, 0]),\n",
    "        np.max(Si_norm[:, 3]),\n",
    "        np.max(Si_norm[:, 1]+Si_norm[:, 2])]\n",
    "mins = (np.array(mins)*100).round(0).astype(int).astype(str)\n",
    "maxs = (np.array(maxs)*100).round(0).astype(int).astype(str)"
   ]
  },
  {
   "cell_type": "code",
   "execution_count": 66,
   "metadata": {},
   "outputs": [],
   "source": [
    "def clean_data(data_in):\n",
    "    \"\"\"\n",
    "    Cleans data in a format which can be conveniently\n",
    "    used for drawing traces. Takes a dictionary as the\n",
    "    input, and returns a list in the following format:\n",
    "\n",
    "    input = {'key': ['a b c']}\n",
    "    output = [key, [a, b, c]]\n",
    "    \"\"\"\n",
    "    key = list(data_in.keys())[0]\n",
    "    data_out = [key]\n",
    "    for i in data_in[key]:\n",
    "        data_out.append(list(map(float, i.split(' '))))\n",
    "\n",
    "    return data_out\n",
    "\n",
    "conts2 = []\n",
    "for i in np.arange(35, 51, 5):\n",
    "    conts2.append({str(i): [str(i) +' '+str(i)+' '+str(100-2*i),\n",
    "                  str(i) +' '+str(100-2*i)+' '+str(i),\n",
    "                  str(100-2*i) +' '+str(i)+' '+str(i)]})\n",
    "for x in np.arange(55, 101, 5):\n",
    "    conts2.append({str(i): [str(x)+' '+'0'+' '+str(100-x),\n",
    "                               str(x-5)+' '+'0'+' '+str(100-(x-5)),\n",
    "                               str(x-5)+' '+str(100-(x-5))+' '+'0',\n",
    "                               str(x)+' '+str(100-x)+' '+'0',\n",
    "                               str(x)+' '+'0'+' '+str(100-x)\n",
    "                                ]})\n",
    "    conts2.append({str(i): ['0'+' '+str(100-x)+' '+str(x),\n",
    "                               '0'+' '+str(100-(x-5))+' '+str(x-5),\n",
    "                               str(100-(x-5))+' '+'0'+' '+str(x-5),\n",
    "                               str(100-x)+' '+'0'+' '+str(x),\n",
    "                               '0'+' '+str(100-x)+' '+str(x)\n",
    "                                ]})\n",
    "    conts2.append({str(i): [str(100-x)+' '+str(x)+' '+'0',\n",
    "                               str(100-(x-5))+' '+str(x-5)+' '+'0',\n",
    "                               '0'+' '+str(x-5)+' '+str(100-(x-5)),\n",
    "                               '0'+' '+str(x)+' '+str(100-x),\n",
    "                               str(100-x)+' '+str(x)+' '+'0'\n",
    "                                ]})\n",
    "\n",
    "bar = px.colors.sequential.Greys\n",
    "colors = []\n",
    "for i in range(len(bar)-1):\n",
    "    colors = colors+n_colors(bar[i], bar[i+1], int(200/len(bar)), colortype='rgb')\n",
    "colors = colors+n_colors(bar[i+1], bar[i+1], int(200/len(bar)), colortype='rgb')\n",
    "\n",
    "conttraces = []\n",
    "n = 0\n",
    "for raw_data in conts2:\n",
    "    data = clean_data(raw_data)\n",
    "\n",
    "    a = [inner_data[0] for inner_data in data[1:]]\n",
    "    a.append(data[1][0]) # Closing the loop\n",
    "\n",
    "    b = [inner_data[1] for inner_data in data[1:]]\n",
    "    b.append(data[1][1]) # Closing the loop\n",
    "\n",
    "    c = [inner_data[2] for inner_data in data[1:]]\n",
    "    c.append(data[1][2]) # Closing the loop\n",
    "\n",
    "    conttraces.append(go.Scatterternary(\n",
    "        text = data[0],\n",
    "        a=a, b=b, c=c, mode='lines',\n",
    "        line=dict(color='black', width=0),\n",
    "        fill='toself',showlegend=False, hoverinfo='skip', opacity=0.2, \n",
    "        fillcolor = colors[int(200/len(conts2)*n)]#colors_iterator.__next__()\n",
    "    ))\n",
    "    n+=1\n",
    "conttraces = conttraces[::-1]"
   ]
  },
  {
   "cell_type": "code",
   "execution_count": 67,
   "metadata": {},
   "outputs": [],
   "source": [
    "args = dict(xref=\"paper\", yref=\"paper\", showarrow=False)\n",
    "annotations = [\n",
    "    dict(xref='paper', yref='paper', ax=0, align='left', ay=-0, showarrow=False, font=dict(color='black', size=18), y=1.005, x=0.05, text=\"<b>(a) Drivers of fair shares</b>\"),\n",
    "    dict(xref='paper', yref='paper', ax=0, align='left', ay=-0, showarrow=False, font=dict(color='black', size=18), y=1.005, x=0.92, text=\"<b>(b) Temperature goal (\"+mins[0]+\"%-\"+maxs[0]+\"%)</b>\"),\n",
    "    dict(xref='paper', yref='paper', ax=0, align='left', ay=-0, showarrow=False, font=dict(color='black', size=18), y=0.67, x=0.95, text=\"<b>(c) Effort sharing method (\"+mins[1]+\"%-\"+maxs[1]+\"%)</b>\"),\n",
    "    dict(xref='paper', yref='paper', ax=0, align='left', ay=-0, showarrow=False, font=dict(color='black', size=18), y=0.315, x=0.97, text=\"<b>(d) Scenario and parameters (\"+mins[2]+\"%-\"+maxs[2]+\"%)</b>\"),\n",
    "    dict(text=\"Temperature\", x=0.27, y=1.03, **args, font=dict(color='darkgray', size=25)),\n",
    "    dict(text=\"main driver\", x=0.29, y=1.00, **args, font=dict(color='darkgray', size=16)),\n",
    "    dict(text=\"Effort sharing\", x=-0.11, y=0.03, **args, font=dict(color='darkgray', size=25)),\n",
    "    dict(text=\"method\", x=-0.08, y=0.0, **args, font=dict(color='darkgray', size=25)),\n",
    "    dict(text=\"main driver\", x=-0.08, y=-0.02, **args, font=dict(color='darkgray', size=16)),\n",
    "    dict(text=\"Scenario and\", x=0.78, y=0.0, **args, font=dict(color='darkgray', size=25)),\n",
    "    dict(text=\"parameters\", x=0.77, y=-0.03, **args, font=dict(color='darkgray', size=25)),\n",
    "    dict(text=\"main driver\", x=0.75, y=-0.04, **args, font=dict(color='darkgray', size=16))\n",
    "]"
   ]
  },
  {
   "cell_type": "code",
   "execution_count": 68,
   "metadata": {},
   "outputs": [],
   "source": [
    "df_regions = pd.read_csv(path_data_ext / \"AllCountries.csv\")"
   ]
  },
  {
   "cell_type": "code",
   "execution_count": 69,
   "metadata": {},
   "outputs": [],
   "source": [
    "continents = []\n",
    "bubblecolors = []\n",
    "for cty_i, cty in enumerate(all_countries_iso):\n",
    "    cont = np.array(df_regions.region[df_regions['alpha-3'] == cty])[0]\n",
    "    continents.append(cont)\n",
    "    if cont == 'Africa':\n",
    "        bubblecolors.append('forestgreen')\n",
    "    elif cont == 'Europe':\n",
    "        bubblecolors.append('steelblue')\n",
    "    elif cont == 'Asia':\n",
    "        bubblecolors.append('orange')\n",
    "    elif cont == 'Americas':\n",
    "        bubblecolors.append('plum')\n",
    "    elif cont == 'Oceania':\n",
    "        bubblecolors.append('goldenrod')\n",
    "    else:\n",
    "        bubblecolors.append('silver')\n",
    "continents = np.array(continents)\n",
    "bubblecolors = np.array(bubblecolors)"
   ]
  },
  {
   "cell_type": "code",
   "execution_count": 70,
   "metadata": {},
   "outputs": [],
   "source": [
    "pops = np.array(xr_total.Population.sel(Region=all_countries_iso, Time=2020, Scenario='SSP2'))\n",
    "pops[np.isnan(pops)] = 1\n",
    "pops_n = pops/np.nanmax(pops)"
   ]
  },
  {
   "cell_type": "code",
   "execution_count": 71,
   "metadata": {},
   "outputs": [
    {
     "ename": "ValueError",
     "evalue": "cannot convert float NaN to integer",
     "output_type": "error",
     "traceback": [
      "\u001b[1;31m---------------------------------------------------------------------------\u001b[0m",
      "\u001b[1;31mValueError\u001b[0m                                Traceback (most recent call last)",
      "Cell \u001b[1;32mIn[71], line 72\u001b[0m\n\u001b[0;32m     62\u001b[0m     \u001b[39mif\u001b[39;00m frac_i \u001b[39m==\u001b[39m \u001b[39m2\u001b[39m:\n\u001b[0;32m     63\u001b[0m         t \u001b[39m=\u001b[39m Si_norm[:, \u001b[39m1\u001b[39m]\u001b[39m+\u001b[39mSi_norm[:, \u001b[39m2\u001b[39m]\n\u001b[0;32m     64\u001b[0m     fig\u001b[39m.\u001b[39madd_trace(\n\u001b[0;32m     65\u001b[0m         go\u001b[39m.\u001b[39mChoropleth(\n\u001b[0;32m     66\u001b[0m         locations\u001b[39m=\u001b[39mall_countries_iso,\n\u001b[0;32m     67\u001b[0m         z \u001b[39m=\u001b[39m t,\n\u001b[0;32m     68\u001b[0m         locationmode \u001b[39m=\u001b[39m \u001b[39m'\u001b[39m\u001b[39mISO-3\u001b[39m\u001b[39m'\u001b[39m,\n\u001b[0;32m     69\u001b[0m         colorscale \u001b[39m=\u001b[39m \u001b[39m'\u001b[39m\u001b[39mSpectral_r\u001b[39m\u001b[39m'\u001b[39m,\u001b[39m#'RdYlGn_r',\u001b[39;00m\n\u001b[0;32m     70\u001b[0m         zmax \u001b[39m=\u001b[39m \u001b[39m1\u001b[39m,\n\u001b[0;32m     71\u001b[0m         zmin \u001b[39m=\u001b[39m \u001b[39m0\u001b[39m,\n\u001b[1;32m---> 72\u001b[0m         text \u001b[39m=\u001b[39m [\u001b[39mstr\u001b[39m(r)\u001b[39m+\u001b[39m\u001b[39m\"\u001b[39m\u001b[39m: \u001b[39m\u001b[39m\"\u001b[39m\u001b[39m+\u001b[39m\u001b[39mstr\u001b[39m(np\u001b[39m.\u001b[39mround(\u001b[39mint\u001b[39m(\u001b[39m100\u001b[39m\u001b[39m*\u001b[39mt[r_i])))\u001b[39m+\u001b[39m\u001b[39m\"\u001b[39m\u001b[39m%\u001b[39m\u001b[39m\"\u001b[39m \u001b[39mfor\u001b[39;00m r_i, r \u001b[39min\u001b[39;00m \u001b[39menumerate\u001b[39m(all_countries_iso)],\n\u001b[0;32m     73\u001b[0m         hovertemplate  \u001b[39m=\u001b[39m \u001b[39m'\u001b[39m\u001b[39m%\u001b[39m\u001b[39m{text}\u001b[39;00m\u001b[39m'\u001b[39m,\n\u001b[0;32m     74\u001b[0m         name\u001b[39m=\u001b[39m\u001b[39m\"\u001b[39m\u001b[39m\"\u001b[39m,\n\u001b[0;32m     75\u001b[0m         marker_line_color\u001b[39m=\u001b[39m\u001b[39m'\u001b[39m\u001b[39mwhite\u001b[39m\u001b[39m'\u001b[39m, \n\u001b[0;32m     76\u001b[0m         marker_line_width\u001b[39m=\u001b[39m\u001b[39m0.2\u001b[39m,\n\u001b[0;32m     77\u001b[0m         colorbar\u001b[39m=\u001b[39m\u001b[39mdict\u001b[39m(\u001b[39mlen\u001b[39m\u001b[39m=\u001b[39m\u001b[39m1\u001b[39m, x\u001b[39m=\u001b[39m\u001b[39m1\u001b[39m, tickvals \u001b[39m=\u001b[39m np\u001b[39m.\u001b[39marange(\u001b[39m0\u001b[39m, \u001b[39m1.01\u001b[39m, \u001b[39m0.1\u001b[39m), ticktext\u001b[39m=\u001b[39m[\u001b[39mstr\u001b[39m(\u001b[39mint\u001b[39m(\u001b[39m100\u001b[39m\u001b[39m*\u001b[39mi))\u001b[39m+\u001b[39m\u001b[39m'\u001b[39m\u001b[39m%\u001b[39m\u001b[39m'\u001b[39m \u001b[39mfor\u001b[39;00m i \u001b[39min\u001b[39;00m np\u001b[39m.\u001b[39marange(\u001b[39m0\u001b[39m, \u001b[39m1.01\u001b[39m, \u001b[39m0.1\u001b[39m)],\n\u001b[0;32m     78\u001b[0m                       tickfont\u001b[39m=\u001b[39m{\u001b[39m'\u001b[39m\u001b[39msize\u001b[39m\u001b[39m'\u001b[39m:\u001b[39m17\u001b[39m}, title\u001b[39m=\u001b[39m{\u001b[39m\"\u001b[39m\u001b[39mtext\u001b[39m\u001b[39m\"\u001b[39m:\u001b[39m\"\u001b[39m\u001b[39m<b>Percentage<br>variance<br>explained\u001b[39m\u001b[39m\"\u001b[39m, \u001b[39m'\u001b[39m\u001b[39mfont\u001b[39m\u001b[39m'\u001b[39m: {\u001b[39m'\u001b[39m\u001b[39msize\u001b[39m\u001b[39m'\u001b[39m:\u001b[39m17\u001b[39m}}),\n\u001b[0;32m     79\u001b[0m         showscale\u001b[39m=\u001b[39m[\u001b[39mTrue\u001b[39;00m, \u001b[39mFalse\u001b[39;00m, \u001b[39mFalse\u001b[39;00m][frac_i]\n\u001b[0;32m     80\u001b[0m     ), [\u001b[39m1\u001b[39m, \u001b[39m2\u001b[39m, \u001b[39m3\u001b[39m][frac_i], [\u001b[39m3\u001b[39m, \u001b[39m3\u001b[39m, \u001b[39m3\u001b[39m][frac_i])\n\u001b[0;32m     82\u001b[0m fig\u001b[39m.\u001b[39mupdate_geos(visible\u001b[39m=\u001b[39m\u001b[39mFalse\u001b[39;00m,\n\u001b[0;32m     83\u001b[0m                 showlakes\u001b[39m=\u001b[39m\u001b[39mTrue\u001b[39;00m,\n\u001b[0;32m     84\u001b[0m                 lakecolor\u001b[39m=\u001b[39m\u001b[39m'\u001b[39m\u001b[39mrgb(255, 255, 255)\u001b[39m\u001b[39m'\u001b[39m,\n\u001b[0;32m     85\u001b[0m                 projection_type\u001b[39m=\u001b[39m\u001b[39m'\u001b[39m\u001b[39mnatural earth\u001b[39m\u001b[39m'\u001b[39m,\n\u001b[0;32m     86\u001b[0m                 resolution\u001b[39m=\u001b[39m\u001b[39m110\u001b[39m,\n\u001b[0;32m     87\u001b[0m                 showcoastlines\u001b[39m=\u001b[39m\u001b[39mFalse\u001b[39;00m,)\n\u001b[0;32m     89\u001b[0m fig\u001b[39m.\u001b[39mupdate_geos(visible\u001b[39m=\u001b[39m\u001b[39mTrue\u001b[39;00m, showcountries\u001b[39m=\u001b[39m\u001b[39mFalse\u001b[39;00m)\n",
      "Cell \u001b[1;32mIn[71], line 72\u001b[0m, in \u001b[0;36m<listcomp>\u001b[1;34m(.0)\u001b[0m\n\u001b[0;32m     62\u001b[0m     \u001b[39mif\u001b[39;00m frac_i \u001b[39m==\u001b[39m \u001b[39m2\u001b[39m:\n\u001b[0;32m     63\u001b[0m         t \u001b[39m=\u001b[39m Si_norm[:, \u001b[39m1\u001b[39m]\u001b[39m+\u001b[39mSi_norm[:, \u001b[39m2\u001b[39m]\n\u001b[0;32m     64\u001b[0m     fig\u001b[39m.\u001b[39madd_trace(\n\u001b[0;32m     65\u001b[0m         go\u001b[39m.\u001b[39mChoropleth(\n\u001b[0;32m     66\u001b[0m         locations\u001b[39m=\u001b[39mall_countries_iso,\n\u001b[0;32m     67\u001b[0m         z \u001b[39m=\u001b[39m t,\n\u001b[0;32m     68\u001b[0m         locationmode \u001b[39m=\u001b[39m \u001b[39m'\u001b[39m\u001b[39mISO-3\u001b[39m\u001b[39m'\u001b[39m,\n\u001b[0;32m     69\u001b[0m         colorscale \u001b[39m=\u001b[39m \u001b[39m'\u001b[39m\u001b[39mSpectral_r\u001b[39m\u001b[39m'\u001b[39m,\u001b[39m#'RdYlGn_r',\u001b[39;00m\n\u001b[0;32m     70\u001b[0m         zmax \u001b[39m=\u001b[39m \u001b[39m1\u001b[39m,\n\u001b[0;32m     71\u001b[0m         zmin \u001b[39m=\u001b[39m \u001b[39m0\u001b[39m,\n\u001b[1;32m---> 72\u001b[0m         text \u001b[39m=\u001b[39m [\u001b[39mstr\u001b[39m(r)\u001b[39m+\u001b[39m\u001b[39m\"\u001b[39m\u001b[39m: \u001b[39m\u001b[39m\"\u001b[39m\u001b[39m+\u001b[39m\u001b[39mstr\u001b[39m(np\u001b[39m.\u001b[39mround(\u001b[39mint\u001b[39;49m(\u001b[39m100\u001b[39;49m\u001b[39m*\u001b[39;49mt[r_i])))\u001b[39m+\u001b[39m\u001b[39m\"\u001b[39m\u001b[39m%\u001b[39m\u001b[39m\"\u001b[39m \u001b[39mfor\u001b[39;00m r_i, r \u001b[39min\u001b[39;00m \u001b[39menumerate\u001b[39m(all_countries_iso)],\n\u001b[0;32m     73\u001b[0m         hovertemplate  \u001b[39m=\u001b[39m \u001b[39m'\u001b[39m\u001b[39m%\u001b[39m\u001b[39m{text}\u001b[39;00m\u001b[39m'\u001b[39m,\n\u001b[0;32m     74\u001b[0m         name\u001b[39m=\u001b[39m\u001b[39m\"\u001b[39m\u001b[39m\"\u001b[39m,\n\u001b[0;32m     75\u001b[0m         marker_line_color\u001b[39m=\u001b[39m\u001b[39m'\u001b[39m\u001b[39mwhite\u001b[39m\u001b[39m'\u001b[39m, \n\u001b[0;32m     76\u001b[0m         marker_line_width\u001b[39m=\u001b[39m\u001b[39m0.2\u001b[39m,\n\u001b[0;32m     77\u001b[0m         colorbar\u001b[39m=\u001b[39m\u001b[39mdict\u001b[39m(\u001b[39mlen\u001b[39m\u001b[39m=\u001b[39m\u001b[39m1\u001b[39m, x\u001b[39m=\u001b[39m\u001b[39m1\u001b[39m, tickvals \u001b[39m=\u001b[39m np\u001b[39m.\u001b[39marange(\u001b[39m0\u001b[39m, \u001b[39m1.01\u001b[39m, \u001b[39m0.1\u001b[39m), ticktext\u001b[39m=\u001b[39m[\u001b[39mstr\u001b[39m(\u001b[39mint\u001b[39m(\u001b[39m100\u001b[39m\u001b[39m*\u001b[39mi))\u001b[39m+\u001b[39m\u001b[39m'\u001b[39m\u001b[39m%\u001b[39m\u001b[39m'\u001b[39m \u001b[39mfor\u001b[39;00m i \u001b[39min\u001b[39;00m np\u001b[39m.\u001b[39marange(\u001b[39m0\u001b[39m, \u001b[39m1.01\u001b[39m, \u001b[39m0.1\u001b[39m)],\n\u001b[0;32m     78\u001b[0m                       tickfont\u001b[39m=\u001b[39m{\u001b[39m'\u001b[39m\u001b[39msize\u001b[39m\u001b[39m'\u001b[39m:\u001b[39m17\u001b[39m}, title\u001b[39m=\u001b[39m{\u001b[39m\"\u001b[39m\u001b[39mtext\u001b[39m\u001b[39m\"\u001b[39m:\u001b[39m\"\u001b[39m\u001b[39m<b>Percentage<br>variance<br>explained\u001b[39m\u001b[39m\"\u001b[39m, \u001b[39m'\u001b[39m\u001b[39mfont\u001b[39m\u001b[39m'\u001b[39m: {\u001b[39m'\u001b[39m\u001b[39msize\u001b[39m\u001b[39m'\u001b[39m:\u001b[39m17\u001b[39m}}),\n\u001b[0;32m     79\u001b[0m         showscale\u001b[39m=\u001b[39m[\u001b[39mTrue\u001b[39;00m, \u001b[39mFalse\u001b[39;00m, \u001b[39mFalse\u001b[39;00m][frac_i]\n\u001b[0;32m     80\u001b[0m     ), [\u001b[39m1\u001b[39m, \u001b[39m2\u001b[39m, \u001b[39m3\u001b[39m][frac_i], [\u001b[39m3\u001b[39m, \u001b[39m3\u001b[39m, \u001b[39m3\u001b[39m][frac_i])\n\u001b[0;32m     82\u001b[0m fig\u001b[39m.\u001b[39mupdate_geos(visible\u001b[39m=\u001b[39m\u001b[39mFalse\u001b[39;00m,\n\u001b[0;32m     83\u001b[0m                 showlakes\u001b[39m=\u001b[39m\u001b[39mTrue\u001b[39;00m,\n\u001b[0;32m     84\u001b[0m                 lakecolor\u001b[39m=\u001b[39m\u001b[39m'\u001b[39m\u001b[39mrgb(255, 255, 255)\u001b[39m\u001b[39m'\u001b[39m,\n\u001b[0;32m     85\u001b[0m                 projection_type\u001b[39m=\u001b[39m\u001b[39m'\u001b[39m\u001b[39mnatural earth\u001b[39m\u001b[39m'\u001b[39m,\n\u001b[0;32m     86\u001b[0m                 resolution\u001b[39m=\u001b[39m\u001b[39m110\u001b[39m,\n\u001b[0;32m     87\u001b[0m                 showcoastlines\u001b[39m=\u001b[39m\u001b[39mFalse\u001b[39;00m,)\n\u001b[0;32m     89\u001b[0m fig\u001b[39m.\u001b[39mupdate_geos(visible\u001b[39m=\u001b[39m\u001b[39mTrue\u001b[39;00m, showcountries\u001b[39m=\u001b[39m\u001b[39mFalse\u001b[39;00m)\n",
      "\u001b[1;31mValueError\u001b[0m: cannot convert float NaN to integer"
     ]
    }
   ],
   "source": [
    "fig = make_subplots(rows=3, cols=3, specs=[[{\"type\": \"scatterternary\", \"colspan\": 2, \"rowspan\": 3}, {}, {'type': 'choropleth'}],\n",
    "                                           [{}, {}, {'type': 'choropleth'}],\n",
    "                                           [{}, {}, {'type': 'choropleth'}]],\n",
    "                    horizontal_spacing = 0, vertical_spacing=0.0)\n",
    "\n",
    "# Panel a\n",
    "fig.add_trace(go.Scatterternary(a=[0.5, 0.5, 0, 0.5], b=[0, 0.5, 0.5, 0], c=[0.5, 0, 0.5, 0.5],\n",
    "                                                mode='lines',\n",
    "                                                showlegend=False,\n",
    "                                                hoverinfo='skip',\n",
    "                                                marker={'size': 15,\n",
    "                                                        'color': 'black',\n",
    "                                                        'opacity': 1,#0.9-i*0.03,\n",
    "                                                        'line' :dict(width=0., color='silver')},\n",
    "                                                line={'width': 1, #np.mean(s[i:i+2])*0.5,\n",
    "                                                        'color': 'black',\n",
    "                                                        'dash': 'dot'},\n",
    "                                                textfont=dict(size=5,\n",
    "                                                        color='black')), 1, 1)\n",
    "\n",
    "for cont_i, cont in enumerate(np.unique(continents)):\n",
    "    fig.add_trace(go.Scatterternary(a=Si_norm[:, 0], b=Si_norm[continents == cont, 3], c=Si_norm[continents == cont, 1]+Si_norm[continents == cont, 2],\n",
    "                                                    mode='markers+text',\n",
    "                                                    showlegend=False,\n",
    "                                                    text=all_countries_iso[continents == cont],\n",
    "                                                    marker={'size': (pops_n[continents == cont])**0.4*60,\n",
    "                                                            'color': bubblecolors[continents == cont],\n",
    "                                                            'opacity': 0.7,#0.9-i*0.03,\n",
    "                                                            'line' :dict(width=0., color='silver')},\n",
    "                                                    line={'width': 1, #np.mean(s[i:i+2])*0.5,\n",
    "                                                            'color': 'black',\n",
    "                                                            'dash': 'dot'},\n",
    "                                                    textfont=dict(size=(pops_n[continents == cont])**0.4*25+1,\n",
    "                                                            color='black')), 1, 1)\n",
    "for n in range(len(conttraces)):\n",
    "        fig.add_trace(conttraces[n], 1, 1)\n",
    "\n",
    "fig.update_layout({\n",
    "'plot_bgcolor':'rgb(243, 243, 243)',\n",
    "'ternary':\n",
    "{'sum':1,\n",
    "'bgcolor':'rgba(0,0,0,0)',#'whitesmoke',\n",
    "    # \"paper_bgcolor\":'rgba(0,0,0,0)',\n",
    "    # \"plot_bgcolor\":'rgba(0,0,0,0)',\n",
    "'aaxis':{'title': '', 'min': 0, 'titlefont':{'size': 25},#Climate target<br>\n",
    "        'linewidth':0, 'ticks':'outside',\n",
    "        'tickmode':'array','tickvals':[0.5, 0.6, 0.7, 0.8, 0.9, 1.0], 'ticktext':['50%', '60%', '70%', '80%', '90%', '100%'], 'tickfont':{'size':15}},\n",
    "'baxis':{'title': '', 'min': 0, 'titlefont':{'size': 25},# &nbsp; &nbsp; &nbsp;#Model &nbsp; &nbsp;\n",
    "        'linewidth':2, 'ticks':'outside',\n",
    "        'tickmode':'array','tickvals':[0.5, 0.6, 0.7, 0.8, 0.9, 1.0], 'ticktext':['50%', '60%', '70%', '80%', '90%', '100%'],'tickangle':60, 'tickfont':{'size':15}},\n",
    "'caxis':{'title': '', 'min': 0, 'titlefont':{'size': 25},#Other<br>scenario assumptions\n",
    "        'linewidth':2, 'ticks':'outside',\n",
    "        'tickmode':'array','tickvals':[0.5, 0.6, 0.7, 0.8, 0.9, 1.0], 'ticktext':['50%', '60%', '70%', '80%', '90%', '100%'],'tickangle':-60, 'tickfont':{'size':15}}}})\n",
    "\n",
    "\n",
    "# Panel b-d\n",
    "for frac_i, frac in enumerate(['Temperature', 'EffortSharing', 'Parameters']):\n",
    "    if frac_i == 0:\n",
    "        t = Si_norm[:, 0]\n",
    "    if frac_i == 1:\n",
    "        t = Si_norm[:, 3]\n",
    "    if frac_i == 2:\n",
    "        t = Si_norm[:, 1]+Si_norm[:, 2]\n",
    "    fig.add_trace(\n",
    "        go.Choropleth(\n",
    "        locations=all_countries_iso,\n",
    "        z = t,\n",
    "        locationmode = 'ISO-3',\n",
    "        colorscale = 'Spectral_r',#'RdYlGn_r',\n",
    "        zmax = 1,\n",
    "        zmin = 0,\n",
    "        text = [str(r)+\": \"+str(np.round(int(100*t[r_i])))+\"%\" for r_i, r in enumerate(all_countries_iso)],\n",
    "        hovertemplate  = '%{text}',\n",
    "        name=\"\",\n",
    "        marker_line_color='white', \n",
    "        marker_line_width=0.2,\n",
    "        colorbar=dict(len=1, x=1, tickvals = np.arange(0, 1.01, 0.1), ticktext=[str(int(100*i))+'%' for i in np.arange(0, 1.01, 0.1)],\n",
    "                      tickfont={'size':17}, title={\"text\":\"<b>Percentage<br>variance<br>explained\", 'font': {'size':17}}),\n",
    "        showscale=[True, False, False][frac_i]\n",
    "    ), [1, 2, 3][frac_i], [3, 3, 3][frac_i])\n",
    "\n",
    "fig.update_geos(visible=False,\n",
    "                showlakes=True,\n",
    "                lakecolor='rgb(255, 255, 255)',\n",
    "                projection_type='natural earth',\n",
    "                resolution=110,\n",
    "                showcoastlines=False,)\n",
    "\n",
    "fig.update_geos(visible=True, showcountries=False)\n",
    "\n",
    "fig.update_layout(\n",
    "    legend=dict(\n",
    "        yanchor=\"top\",\n",
    "        y=0.29,\n",
    "        xanchor=\"left\",\n",
    "        x=0.08,\n",
    "        font=dict(size=15, color=\"black\"),\n",
    "    ),\n",
    "    template='ggplot2',\n",
    "    height=900,\n",
    "    width=1600,\n",
    ")\n",
    "fig.update_xaxes(visible=False)\n",
    "\n",
    "for ann in annotations:\n",
    "    fig.add_annotation(**ann)\n",
    "fig.update_layout(margin={\"r\":0,\"t\":30,\"l\":150,\"b\":50})\n",
    "fig.show()"
   ]
  },
  {
   "cell_type": "code",
   "execution_count": null,
   "metadata": {},
   "outputs": [],
   "source": [
    "fig.write_image(path_figs / \"Figure_4.png\", scale=3)"
   ]
  }
 ],
 "metadata": {
  "kernelspec": {
   "display_name": "MyEnv",
   "language": "python",
   "name": "python3"
  },
  "language_info": {
   "codemirror_mode": {
    "name": "ipython",
    "version": 3
   },
   "file_extension": ".py",
   "mimetype": "text/x-python",
   "name": "python",
   "nbconvert_exporter": "python",
   "pygments_lexer": "ipython3",
   "version": "3.9.16"
  },
  "orig_nbformat": 4,
  "vscode": {
   "interpreter": {
    "hash": "36d5d389870ab01fa625d0d5123f82469a3683fa0e02c4f7e9e76e9a75345aa3"
   }
  }
 },
 "nbformat": 4,
 "nbformat_minor": 2
}
