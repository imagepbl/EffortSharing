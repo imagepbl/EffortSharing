{
 "cells": [
  {
   "attachments": {},
   "cell_type": "markdown",
   "metadata": {},
   "source": [
    "## Preambule"
   ]
  },
  {
   "cell_type": "code",
   "execution_count": 5,
   "metadata": {},
   "outputs": [],
   "source": [
    "# General packages\n",
    "import numpy as np\n",
    "import pandas as pd\n",
    "from tqdm import tqdm\n",
    "from pathlib import Path\n",
    "import xarray as xr\n",
    "import pandas as pd\n",
    "import json\n",
    "import plotly\n",
    "\n",
    "# Plotting\n",
    "import matplotlib.pyplot as plt\n",
    "import plotly.express as px\n",
    "import plotly.graph_objects as go\n",
    "from plotly.subplots import make_subplots\n",
    "from plotly.colors import n_colors"
   ]
  },
  {
   "attachments": {},
   "cell_type": "markdown",
   "metadata": {},
   "source": [
    "## Parameters"
   ]
  },
  {
   "cell_type": "code",
   "execution_count": 6,
   "metadata": {},
   "outputs": [],
   "source": [
    "rules = ['PCC', 'ECPC', 'AP']\n",
    "rulecolors = ['goldenrod', 'tomato', 'forestgreen']"
   ]
  },
  {
   "attachments": {},
   "cell_type": "markdown",
   "metadata": {},
   "source": [
    "## Paths"
   ]
  },
  {
   "cell_type": "code",
   "execution_count": 7,
   "metadata": {},
   "outputs": [],
   "source": [
    "path_main = Path(\"K:/Code/EffortSharing/\")\n",
    "path_data = Path(\"K:/Data/Data_effortsharing/DataUpdate_ongoing/\")\n",
    "path_figs = path_main / \"Figures\" / \"Paper_FairShares\""
   ]
  },
  {
   "attachments": {},
   "cell_type": "markdown",
   "metadata": {},
   "source": [
    "## Read data files"
   ]
  },
  {
   "cell_type": "code",
   "execution_count": 8,
   "metadata": {},
   "outputs": [],
   "source": [
    "xr_dataread = xr.open_dataset(path_data / \"xr_dataread.nc\")\n",
    "xr_traj_2030 = xr.open_dataset(path_data / \"xr_alloc_2030.nc\")\n",
    "xr_traj_2040 = xr.open_dataset(path_data / \"xr_alloc_2040.nc\")\n",
    "xr_total = xr.open_dataset(path_data / \"xr_policyscen.nc\")\n",
    "\n",
    "all_regions_iso = np.load(path_data / \"all_regions.npy\")\n",
    "all_regions_names = np.load(path_data / \"all_regions_names.npy\")\n",
    "all_countries_iso = np.load(path_data / \"all_countries.npy\", allow_pickle=True)\n",
    "all_countries_names = np.load(path_data / \"all_countries_names.npy\", allow_pickle=True)"
   ]
  },
  {
   "cell_type": "markdown",
   "metadata": {},
   "source": [
    "## Get Cost-optimal output"
   ]
  },
  {
   "cell_type": "code",
   "execution_count": 9,
   "metadata": {},
   "outputs": [],
   "source": [
    "df_ar6 = pd.read_csv(\"X:/user/dekkerm/Data/IPCC/AR6_ISO3/AR6_Scenarios_Database_ISO3_v1.1.csv\")\n",
    "df_ar6 = df_ar6[df_ar6.Variable.isin(['Emissions|Kyoto Gases', 'Policy Cost|Consumption Loss'])]\n",
    "df_ar6 = df_ar6.reset_index(drop=True)\n",
    "\n",
    "df_ar6_meta = pd.read_excel(\"X:/user/dekkerm/Data/IPCC/AR6_ISO3/AR6_Scenarios_Database_metadata_indicators_v1.1.xlsx\", sheet_name='meta_Ch3vetted_withclimate')\n",
    "mods = np.array(df_ar6_meta.Model)\n",
    "scens = np.array(df_ar6_meta.Scenario)\n",
    "modscens_meta = np.array([mods[i]+'|'+scens[i] for i in range(len(scens))])\n",
    "df_ar6_meta['ModelScenario'] = modscens_meta\n",
    "df_ar6_meta = df_ar6_meta[['ModelScenario', 'Category', 'Policy_category']]\n",
    "df_ar6_meta = df_ar6_meta[df_ar6_meta.Category.isin(['C1', 'C2'])]\n",
    "df_ar6_meta = df_ar6_meta.reset_index(drop=True)\n",
    "ms_meta_refined = np.array(df_ar6_meta.ModelScenario)\n",
    "\n",
    "mods = np.array(df_ar6.Model)\n",
    "scens = np.array(df_ar6.Scenario)\n",
    "modscens = np.array([mods[i]+'|'+scens[i] for i in range(len(scens))])\n",
    "df_ar6['ModelScenario'] = modscens\n",
    "df_ar6 = df_ar6.drop(['Model', 'Scenario', 'Unit'], axis=1)\n",
    "df_ar6 = df_ar6[df_ar6.ModelScenario.isin(np.array(ms_meta_refined))]\n",
    "\n",
    "dummy = df_ar6.melt(id_vars=[\"Variable\", \"Region\", \"ModelScenario\"], var_name=\"Time\", value_name=\"Value\")\n",
    "dummy['Time'] = np.array(dummy['Time'].astype(int))\n",
    "dummy = dummy.set_index([\"Variable\", \"Region\", \"ModelScenario\", \"Time\"])\n",
    "xr_scen_r = xr.Dataset.from_dataframe(dummy)\n",
    "xr_scen_r = xr_scen_r.reindex(Time = np.arange(1850, 2101))\n",
    "xr_scen_r = xr_scen_r.interpolate_na(dim=\"Time\", method=\"linear\")"
   ]
  },
  {
   "cell_type": "code",
   "execution_count": 10,
   "metadata": {},
   "outputs": [],
   "source": [
    "cost_opt = xr_scen_r.sel(Variable='Emissions|Kyoto Gases', Time=2040)/xr_scen_r.sel(Variable='Emissions|Kyoto Gases', Time=2040)*xr_scen_r.sel(Variable='Emissions|Kyoto Gases', Time=2040)"
   ]
  },
  {
   "cell_type": "markdown",
   "metadata": {},
   "source": [
    "## Compute fractions"
   ]
  },
  {
   "cell_type": "code",
   "execution_count": 11,
   "metadata": {},
   "outputs": [],
   "source": [
    "xr_larger_than_costopt = xr_traj_2040.sel(Temperature=1.5, Convergence_year=2050, Risk=0.5, NegEmis=0.5, NonCO2red=0.5, Timing='Immediate').median(dim=['Scenario']) > cost_opt.mean(dim='ModelScenario').Value"
   ]
  },
  {
   "cell_type": "markdown",
   "metadata": {},
   "source": [
    "World"
   ]
  },
  {
   "cell_type": "code",
   "execution_count": 12,
   "metadata": {},
   "outputs": [],
   "source": [
    "df_ar6 = pd.read_csv(\"X:/user/dekkerm/Data/IPCC/AR6_Scenarios_Database_World_v1.1.csv\")\n",
    "df_ar6 = df_ar6[df_ar6.Variable.isin(['Emissions|Kyoto Gases', 'Policy Cost|Consumption Loss'])]\n",
    "df_ar6 = df_ar6.reset_index(drop=True)\n",
    "\n",
    "df_ar6_meta = pd.read_excel(\"X:/user/dekkerm/Data/IPCC/AR6_Scenarios_Database_metadata_indicators_v1.1.xlsx\", sheet_name='meta_Ch3vetted_withclimate')\n",
    "mods = np.array(df_ar6_meta.Model)\n",
    "scens = np.array(df_ar6_meta.Scenario)\n",
    "modscens_meta = np.array([mods[i]+'|'+scens[i] for i in range(len(scens))])\n",
    "df_ar6_meta['ModelScenario'] = modscens_meta\n",
    "df_ar6_meta = df_ar6_meta[['ModelScenario', 'Category', 'Policy_category']]\n",
    "df_ar6_meta = df_ar6_meta[df_ar6_meta.Category.isin(['C1', 'C2'])]\n",
    "df_ar6_meta = df_ar6_meta.reset_index(drop=True)\n",
    "ms_meta_refined = np.array(df_ar6_meta.ModelScenario)\n",
    "\n",
    "mods = np.array(df_ar6.Model)\n",
    "scens = np.array(df_ar6.Scenario)\n",
    "modscens = np.array([mods[i]+'|'+scens[i] for i in range(len(scens))])\n",
    "df_ar6['ModelScenario'] = modscens\n",
    "df_ar6['Region'] = 'WORLD'\n",
    "df_ar6 = df_ar6.drop(['Model', 'Scenario', 'Unit'], axis=1)\n",
    "df_ar6 = df_ar6[df_ar6.ModelScenario.isin(np.array(ms_meta_refined))]\n",
    "\n",
    "dummy = df_ar6.melt(id_vars=[\"Variable\", \"Region\", \"ModelScenario\"], var_name=\"Time\", value_name=\"Value\")\n",
    "dummy['Time'] = np.array(dummy['Time'].astype(int))\n",
    "dummy = dummy.set_index([\"Variable\", \"Region\", \"ModelScenario\", \"Time\"])\n",
    "xr_scen = xr.Dataset.from_dataframe(dummy)\n",
    "xr_scen = xr_scen.reindex(Time = np.arange(1850, 2101))\n",
    "xr_scen = xr_scen.interpolate_na(dim=\"Time\", method=\"linear\")"
   ]
  },
  {
   "cell_type": "markdown",
   "metadata": {},
   "source": [
    "Regional"
   ]
  },
  {
   "cell_type": "code",
   "execution_count": 13,
   "metadata": {},
   "outputs": [],
   "source": [
    "df_ar6 = pd.read_csv(\"X:/user/dekkerm/Data/IPCC/AR6_ISO3/AR6_Scenarios_Database_ISO3_v1.1.csv\")\n",
    "df_ar6 = df_ar6[df_ar6.Variable.isin(['Emissions|Kyoto Gases', 'Policy Cost|Consumption Loss'])]\n",
    "df_ar6 = df_ar6.reset_index(drop=True)\n",
    "\n",
    "df_ar6_meta = pd.read_excel(\"X:/user/dekkerm/Data/IPCC/AR6_ISO3/AR6_Scenarios_Database_metadata_indicators_v1.1.xlsx\", sheet_name='meta_Ch3vetted_withclimate')\n",
    "mods = np.array(df_ar6_meta.Model)\n",
    "scens = np.array(df_ar6_meta.Scenario)\n",
    "modscens_meta = np.array([mods[i]+'|'+scens[i] for i in range(len(scens))])\n",
    "df_ar6_meta['ModelScenario'] = modscens_meta\n",
    "df_ar6_meta = df_ar6_meta[['ModelScenario', 'Category', 'Policy_category']]\n",
    "df_ar6_meta = df_ar6_meta[df_ar6_meta.Category.isin(['C1', 'C2'])]\n",
    "df_ar6_meta = df_ar6_meta.reset_index(drop=True)\n",
    "ms_meta_refined = np.array(df_ar6_meta.ModelScenario)\n",
    "\n",
    "mods = np.array(df_ar6.Model)\n",
    "scens = np.array(df_ar6.Scenario)\n",
    "modscens = np.array([mods[i]+'|'+scens[i] for i in range(len(scens))])\n",
    "df_ar6['ModelScenario'] = modscens\n",
    "df_ar6 = df_ar6.drop(['Model', 'Scenario', 'Unit'], axis=1)\n",
    "df_ar6 = df_ar6[df_ar6.ModelScenario.isin(np.array(ms_meta_refined))]\n",
    "\n",
    "dummy = df_ar6.melt(id_vars=[\"Variable\", \"Region\", \"ModelScenario\"], var_name=\"Time\", value_name=\"Value\")\n",
    "dummy['Time'] = np.array(dummy['Time'].astype(int))\n",
    "dummy = dummy.set_index([\"Variable\", \"Region\", \"ModelScenario\", \"Time\"])\n",
    "xr_scen_r = xr.Dataset.from_dataframe(dummy)\n",
    "xr_scen_r = xr_scen_r.reindex(Time = np.arange(1850, 2101))\n",
    "xr_scen_r = xr_scen_r.interpolate_na(dim=\"Time\", method=\"linear\")"
   ]
  },
  {
   "cell_type": "markdown",
   "metadata": {},
   "source": [
    "Concatenate"
   ]
  },
  {
   "cell_type": "code",
   "execution_count": 14,
   "metadata": {},
   "outputs": [],
   "source": [
    "xr_scen_all = xr.merge([xr_scen, xr_scen_r])"
   ]
  },
  {
   "cell_type": "markdown",
   "metadata": {},
   "source": [
    "## Data for plots"
   ]
  },
  {
   "cell_type": "code",
   "execution_count": 143,
   "metadata": {},
   "outputs": [],
   "source": [
    "settings_default = {'Temperature': 1.6,\n",
    "                   'Risk': 0.5,\n",
    "                   'NegEmis': 0.5,\n",
    "                   'NonCO2red': 0.5,\n",
    "                   'Timing': \"Immediate\",\n",
    "                   'Convergence_year': 2050,\n",
    "                   'Scenario': 'SSP2',\n",
    "                   'Discount_factor': 0,\n",
    "                   'Historical_startyear': 1950,}\n",
    "                   #'Capability_threshold': \"Th\",\n",
    "                   #'RCI_weight': \"Half\"}\n",
    "settings_ranges = {'Temperature': [1.6, 2.0],\n",
    "                   'Risk': [0.5, 0.33],\n",
    "                   'Convergence_year': [2040, 2050, 2060],\n",
    "                    'NonCO2red':[0.33, 0.5, 0.67],\n",
    "                   'Timing': [\"Immediate\"],\n",
    "                   }\n",
    "                   #'Capability_threshold': \"Th\",\n",
    "                   #'RCI_weight': \"Half\"}"
   ]
  },
  {
   "cell_type": "code",
   "execution_count": 144,
   "metadata": {},
   "outputs": [],
   "source": [
    "ndcs = xr_dataread.GHG_ndc.mean(dim=['Conditionality', 'Ambition'])\n",
    "data = xr_traj_2030.sel(**settings_ranges)[['ECPC', 'AP', 'PCC']]\n",
    "data_max = xr.concat([data.ECPC, data.AP, data.PCC], dim='variable2').max(dim=list(settings_default.keys())+['variable2'])\n",
    "data = xr_traj_2030.sel(**settings_default)[['ECPC', 'AP', 'PCC']]\n",
    "data_def = xr.concat([data.ECPC, data.AP, data.PCC], dim='variable2').max(dim='variable2')"
   ]
  },
  {
   "cell_type": "code",
   "execution_count": 146,
   "metadata": {},
   "outputs": [
    {
     "name": "stdout",
     "output_type": "stream",
     "text": [
      "Preferences on default settings\n",
      "-----\n"
     ]
    }
   ],
   "source": [
    "print(\"Preferences on default settings\")\n",
    "print('-----')\n",
    "data = xr_traj_2030.sel(**settings_default)[['ECPC', 'AP', 'PCC']]\n",
    "data_def = xr.concat([data.ECPC, data.AP, data.PCC], dim='variable2').max(dim='variable2')\n",
    "argmax_default = xr.concat([data.ECPC, data.AP, data.PCC], dim='variable2').fillna(-9e99).argmax(dim='variable2')\n",
    "\n",
    "data = xr_traj_2030.sel(**settings_ranges)[['ECPC', 'AP', 'PCC']]\n",
    "data_max = xr.concat([data.ECPC, data.AP, data.PCC], dim='variable2').max(dim=list(settings_default.keys())+['variable2'])\n",
    "argmax_maximum = xr.concat([data.ECPC, data.AP, data.PCC], dim='variable2').fillna(-9e99).argmax(dim=list(settings_default.keys())+['variable2'])\n",
    "x = xr.concat([data.ECPC, data.AP, data.PCC], dim='variable2').fillna(-9e99)\n",
    "argmax_max = []\n",
    "maxs = x.max(dim=list(settings_default.keys())+['variable2'])\n",
    "for cty in x.Region:\n",
    "    mx = float(maxs.sel(Region=cty).values)\n",
    "    wh = np.where(x.sel(Region=cty).values == mx)\n",
    "    wh = np.array(wh)[:, 0]\n",
    "    argmax_max.append(wh[0])\n",
    "argmax_max = np.array(argmax_max)\n",
    "\n",
    "df_c = []\n",
    "df_r_d = []\n",
    "df_r_m = []\n",
    "for cty_i, cty in enumerate(all_countries_iso):\n",
    "    df_c.append(all_countries_names[cty_i])\n",
    "    df_r_d.append(['ECPC', 'AP', 'PCC'][argmax_default.sel(Region=cty).values])\n",
    "    df_r_m.append(['ECPC', 'AP', 'PCC'][argmax_max[cty_i]])\n",
    "df_dict = {'Region': df_c, 'Default': df_r_d, 'Maximum': df_r_m}\n",
    "df = pd.DataFrame(df_dict)\n",
    "df.to_csv(path_data / \"preferences_default_max.csv\")"
   ]
  },
  {
   "cell_type": "code",
   "execution_count": 17,
   "metadata": {},
   "outputs": [],
   "source": [
    "xr_policyscen = xr.open_dataset(path_data / \"xr_policyscen.nc\")\n",
    "curpols = xr_policyscen.CurPol.sel(Time=2030).mean(dim='Model')\n",
    "nzs = xr_policyscen.NetZero.sel(Time=2030).mean(dim='Model')"
   ]
  },
  {
   "cell_type": "code",
   "execution_count": 18,
   "metadata": {},
   "outputs": [],
   "source": [
    "path_ctygroups = \"X:/user/dekkerm/Data/\" + \"UNFCCC_Parties_Groups_noeu.xlsx\"\n",
    "df = pd.read_excel(path_ctygroups, sheet_name = \"Country groups\")\n",
    "countries_iso = np.array(df[\"Country ISO Code\"])\n",
    "countries_name = np.array(df[\"Name\"])\n",
    "countries_iso = np.array(df[\"Country ISO Code\"])\n",
    "group_eu = countries_iso[np.array(df[\"EU\"]) == 1]"
   ]
  },
  {
   "cell_type": "code",
   "execution_count": 19,
   "metadata": {},
   "outputs": [],
   "source": [
    "costopts = xr_scen_all.sel(Time=2030, Variable='Emissions|Kyoto Gases').mean(dim='ModelScenario')"
   ]
  },
  {
   "cell_type": "markdown",
   "metadata": {},
   "source": [
    "## New plot"
   ]
  },
  {
   "cell_type": "code",
   "execution_count": 183,
   "metadata": {},
   "outputs": [
    {
     "data": {
      "application/vnd.plotly.v1+json": {
       "config": {
        "plotlyServerURL": "https://plot.ly"
       },
       "data": [
        {
         "colorbar": {
          "title": {
           "side": "bottom"
          }
         },
         "colorscale": [
          [
           0,
           "rgb(255,255,255)"
          ],
          [
           0.125,
           "rgb(240,240,240)"
          ],
          [
           0.25,
           "rgb(217,217,217)"
          ],
          [
           0.375,
           "rgb(189,189,189)"
          ],
          [
           0.5,
           "rgb(150,150,150)"
          ],
          [
           0.625,
           "rgb(115,115,115)"
          ],
          [
           0.75,
           "rgb(82,82,82)"
          ],
          [
           0.875,
           "rgb(37,37,37)"
          ],
          [
           1,
           "rgb(0,0,0)"
          ]
         ],
         "geo": "geo",
         "hovertemplate": "%{text}",
         "locationmode": "ISO-3",
         "locations": [
          "ATG",
          "ARM",
          "AUT",
          "BHR",
          "BEL",
          "BLZ",
          "BTN",
          "BOL",
          "BRN",
          "BGR",
          "CPV",
          "COK",
          "HRV",
          "CUB",
          "CYP",
          "CZE",
          "DNK",
          "ECU",
          "SLV",
          "ERI",
          "EST",
          "SWZ",
          "FJI",
          "FIN",
          "FRA",
          "GAB",
          "DEU",
          "GRC",
          "GNB",
          "GUY",
          "VAT",
          "HUN",
          "IRQ",
          "IRL",
          "ITA",
          "LAO",
          "LVA",
          "LBY",
          "LTU",
          "LUX",
          "MDG",
          "MWI",
          "MLI",
          "MLT",
          "MCO",
          "MNE",
          "MOZ",
          "MMR",
          "NRU",
          "NPL",
          "NLD",
          "NIC",
          "NIU",
          "PLW",
          "PSE",
          "PAN",
          "PNG",
          "POL",
          "PRT",
          "QAT",
          "ROU",
          "RWA",
          "VCT",
          "WSM",
          "SMR",
          "SRB",
          "SLE",
          "SVK",
          "SVN",
          "SOM",
          "SSD",
          "ESP",
          "LKA",
          "SDN",
          "SUR",
          "SWE",
          "SYR",
          "TLS",
          "TON",
          "TKM",
          "TUV",
          "URY",
          "VUT",
          "ZWE",
          "G20",
          "G7",
          "SIDS",
          "LDC",
          "Northern America",
          "Australasia",
          "African Group",
          "Umbrella",
          "GRL"
         ],
         "marker": {
          "line": {
           "color": "black",
           "width": 0
          }
         },
         "name": "",
         "showscale": false,
         "type": "choropleth",
         "z": [
          -0.5,
          -0.5,
          -0.5,
          -0.5,
          -0.5,
          -0.5,
          -0.5,
          -0.5,
          -0.5,
          -0.5,
          -0.5,
          -0.5,
          -0.5,
          -0.5,
          -0.5,
          -0.5,
          -0.5,
          -0.5,
          -0.5,
          -0.5,
          -0.5,
          -0.5,
          -0.5,
          -0.5,
          -0.5,
          -0.5,
          -0.5,
          -0.5,
          -0.5,
          -0.5,
          -0.5,
          -0.5,
          -0.5,
          -0.5,
          -0.5,
          -0.5,
          -0.5,
          -0.5,
          -0.5,
          -0.5,
          -0.5,
          -0.5,
          -0.5,
          -0.5,
          -0.5,
          -0.5,
          -0.5,
          -0.5,
          -0.5,
          -0.5,
          -0.5,
          -0.5,
          -0.5,
          -0.5,
          -0.5,
          -0.5,
          -0.5,
          -0.5,
          -0.5,
          -0.5,
          -0.5,
          -0.5,
          -0.5,
          -0.5,
          -0.5,
          -0.5,
          -0.5,
          -0.5,
          -0.5,
          -0.5,
          -0.5,
          -0.5,
          -0.5,
          -0.5,
          -0.5,
          -0.5,
          -0.5,
          -0.5,
          -0.5,
          -0.5,
          -0.5,
          -0.5,
          -0.5,
          -0.5,
          -0.5,
          -0.5,
          -0.5,
          -0.5,
          -0.5,
          -0.5,
          -0.5,
          -0.5,
          -0.5
         ],
         "zmax": 1,
         "zmin": -1
        },
        {
         "colorbar": {
          "len": 0.5,
          "lenmode": "fraction",
          "orientation": "h",
          "thickness": 20,
          "thicknessmode": "pixels",
          "tickfont": {
           "size": 14
          },
          "ticktext": [
           "100%<br>NDC sufficient <",
           "50%",
           "0%",
           "50%",
           "100%<br>> NDC insufficient"
          ],
          "tickvals": [
           -1,
           -0.5,
           0,
           0.5,
           1
          ],
          "title": {
           "font": {
            "size": 14
           },
           "side": "bottom",
           "text": "NDC deviation from emission allocation in 2030"
          },
          "x": 0.25,
          "xanchor": "left",
          "y": 0.52,
          "yanchor": "bottom"
         },
         "colorscale": [
          [
           0,
           "rgb(49,54,149)"
          ],
          [
           0.1,
           "rgb(69,117,180)"
          ],
          [
           0.2,
           "rgb(116,173,209)"
          ],
          [
           0.3,
           "rgb(171,217,233)"
          ],
          [
           0.4,
           "rgb(224,243,248)"
          ],
          [
           0.5,
           "rgb(255,255,191)"
          ],
          [
           0.6,
           "rgb(254,224,144)"
          ],
          [
           0.7,
           "rgb(253,174,97)"
          ],
          [
           0.8,
           "rgb(244,109,67)"
          ],
          [
           0.9,
           "rgb(215,48,39)"
          ],
          [
           1,
           "rgb(165,0,38)"
          ]
         ],
         "geo": "geo",
         "hovertemplate": "%{text}",
         "locationmode": "ISO-3",
         "locations": [
          "AFG",
          "ALB",
          "DZA",
          "AND",
          "AGO",
          "ATG",
          "ARG",
          "ARM",
          "AUS",
          "AUT",
          "AZE",
          "BHR",
          "BGD",
          "BRB",
          "BLR",
          "BEL",
          "BLZ",
          "BEN",
          "BTN",
          "BOL",
          "BIH",
          "BWA",
          "BRA",
          "BRN",
          "BGR",
          "BFA",
          "BDI",
          "KHM",
          "CMR",
          "CAN",
          "CPV",
          "CAF",
          "TCD",
          "CHL",
          "CHN",
          "COL",
          "COM",
          "COG",
          "COK",
          "CRI",
          "CIV",
          "HRV",
          "CUB",
          "CYP",
          "CZE",
          "COD",
          "DNK",
          "DJI",
          "DMA",
          "DOM",
          "ECU",
          "EGY",
          "SLV",
          "GNQ",
          "ERI",
          "EST",
          "SWZ",
          "ETH",
          "FJI",
          "FIN",
          "FRA",
          "GAB",
          "GEO",
          "DEU",
          "GHA",
          "GRC",
          "GRD",
          "GTM",
          "GIN",
          "GNB",
          "GUY",
          "HTI",
          "VAT",
          "HND",
          "HUN",
          "ISL",
          "IND",
          "IDN",
          "IRN",
          "IRQ",
          "IRL",
          "ISR",
          "ITA",
          "JAM",
          "JPN",
          "JOR",
          "KAZ",
          "KEN",
          "KIR",
          "KWT",
          "KGZ",
          "LAO",
          "LVA",
          "LBN",
          "LSO",
          "LBR",
          "LBY",
          "LIE",
          "LTU",
          "LUX",
          "MKD",
          "MDG",
          "MWI",
          "MYS",
          "MDV",
          "MLI",
          "MLT",
          "MHL",
          "MRT",
          "MUS",
          "MEX",
          "FSM",
          "MDA",
          "MCO",
          "MNG",
          "MNE",
          "MAR",
          "MOZ",
          "MMR",
          "NAM",
          "NRU",
          "NPL",
          "NLD",
          "NZL",
          "NIC",
          "NER",
          "NGA",
          "NIU",
          "PRK",
          "NOR",
          "OMN",
          "PAK",
          "PLW",
          "PSE",
          "PAN",
          "PNG",
          "PRY",
          "PER",
          "PHL",
          "POL",
          "PRT",
          "QAT",
          "ROU",
          "RUS",
          "RWA",
          "KNA",
          "LCA",
          "VCT",
          "WSM",
          "SMR",
          "STP",
          "SAU",
          "SEN",
          "SRB",
          "SYC",
          "SLE",
          "SGP",
          "SVK",
          "SVN",
          "SLB",
          "SOM",
          "ZAF",
          "KOR",
          "SSD",
          "ESP",
          "LKA",
          "SDN",
          "SUR",
          "SWE",
          "CHE",
          "SYR",
          "TJK",
          "TZA",
          "THA",
          "BHS",
          "GMB",
          "TLS",
          "TGO",
          "TON",
          "TTO",
          "TUN",
          "TUR",
          "TKM",
          "TUV",
          "UGA",
          "UKR",
          "ARE",
          "GBR",
          "USA",
          "URY",
          "UZB",
          "VUT",
          "VEN",
          "VNM",
          "YEM",
          "ZMB",
          "ZWE",
          "EU",
          "EARTH",
          "G20",
          "G7",
          "SIDS",
          "LDC",
          "Northern America",
          "Australasia",
          "African Group",
          "Umbrella"
         ],
         "marker": {
          "line": {
           "color": "black",
           "width": 0.1
          }
         },
         "name": "",
         "showscale": true,
         "text": [
          "AFG: -77.2 %",
          "ALB: 81.0 %",
          "DZA: 6.7 %",
          "AND: 350.5 %",
          "AGO: -56.1 %",
          "ATG: nan %",
          "ARG: 58.2 %",
          "ARM: nan %",
          "AUS: 39.0 %",
          "AUT: nan %",
          "AZE: 17.8 %",
          "BHR: nan %",
          "BGD: -17.7 %",
          "BRB: 44.4 %",
          "BLR: 24.5 %",
          "BEL: nan %",
          "BLZ: nan %",
          "BEN: -55.1 %",
          "BTN: nan %",
          "BOL: nan %",
          "BIH: 52.8 %",
          "BWA: 174.5 %",
          "BRA: -7.0 %",
          "BRN: nan %",
          "BGR: nan %",
          "BFA: -25.0 %",
          "BDI: 26.5 %",
          "KHM: 31.2 %",
          "CMR: -29.7 %",
          "CAN: 36.5 %",
          "CPV: nan %",
          "CAF: 35.4 %",
          "TCD: -41.9 %",
          "CHL: -47.5 %",
          "CHN: 78.0 %",
          "COL: 2.8 %",
          "COM: -97.3 %",
          "COG: -7.5 %",
          "COK: nan %",
          "CRI: -23.0 %",
          "CIV: -44.0 %",
          "HRV: nan %",
          "CUB: nan %",
          "CYP: nan %",
          "CZE: nan %",
          "COD: -45.1 %",
          "DNK: nan %",
          "DJI: -35.6 %",
          "DMA: 1063.7 %",
          "DOM: -10.9 %",
          "ECU: nan %",
          "EGY: 10.1 %",
          "SLV: nan %",
          "GNQ: 7.2 %",
          "ERI: nan %",
          "EST: nan %",
          "SWZ: nan %",
          "ETH: -58.2 %",
          "FJI: nan %",
          "FIN: nan %",
          "FRA: nan %",
          "GAB: nan %",
          "GEO: 284.5 %",
          "DEU: nan %",
          "GHA: -59.9 %",
          "GRC: nan %",
          "GRD: -60.0 %",
          "GTM: -18.7 %",
          "GIN: -46.2 %",
          "GNB: nan %",
          "GUY: nan %",
          "HTI: -66.4 %",
          "VAT: nan %",
          "HND: -9.1 %",
          "HUN: nan %",
          "ISL: 161.4 %",
          "IND: -1.8 %",
          "IDN: 14.5 %",
          "IRN: 223.5 %",
          "IRQ: nan %",
          "IRL: nan %",
          "ISR: 39.9 %",
          "ITA: nan %",
          "JAM: 111.6 %",
          "JPN: 41.4 %",
          "JOR: -15.6 %",
          "KAZ: 58.9 %",
          "KEN: -52.8 %",
          "KIR: -81.2 %",
          "KWT: 120.7 %",
          "KGZ: -61.1 %",
          "LAO: nan %",
          "LVA: nan %",
          "LBN: 25.4 %",
          "LSO: -65.8 %",
          "LBR: -23.9 %",
          "LBY: nan %",
          "LIE: 7990.5 %",
          "LTU: nan %",
          "LUX: nan %",
          "MKD: 42.5 %",
          "MDG: nan %",
          "MWI: nan %",
          "MYS: 147.9 %",
          "MDV: 11.9 %",
          "MLI: nan %",
          "MLT: nan %",
          "MHL: 95.3 %",
          "MRT: -29.9 %",
          "MUS: 17.1 %",
          "MEX: 21.9 %",
          "FSM: -95.8 %",
          "MDA: 30.2 %",
          "MCO: nan %",
          "MNG: 10.9 %",
          "MNE: nan %",
          "MAR: -17.9 %",
          "MOZ: nan %",
          "MMR: nan %",
          "NAM: -667.2 %",
          "NRU: nan %",
          "NPL: nan %",
          "NLD: nan %",
          "NZL: 42.7 %",
          "NIC: nan %",
          "NER: -77.8 %",
          "NGA: -71.5 %",
          "NIU: nan %",
          "PRK: 79.6 %",
          "NOR: -80.9 %",
          "OMN: 62.3 %",
          "PAK: -20.9 %",
          "PLW: nan %",
          "PSE: nan %",
          "PAN: nan %",
          "PNG: nan %",
          "PRY: 47.6 %",
          "PER: 106.5 %",
          "PHL: -72.8 %",
          "POL: nan %",
          "PRT: nan %",
          "QAT: nan %",
          "ROU: nan %",
          "RUS: 101.6 %",
          "RWA: nan %",
          "KNA: 872.5 %",
          "LCA: 33.9 %",
          "VCT: nan %",
          "WSM: nan %",
          "SMR: nan %",
          "STP: -48.9 %",
          "SAU: 147.3 %",
          "SEN: -55.0 %",
          "SRB: nan %",
          "SYC: 29.2 %",
          "SLE: nan %",
          "SGP: 108.7 %",
          "SVK: nan %",
          "SVN: nan %",
          "SLB: 9.5 %",
          "SOM: nan %",
          "ZAF: 24.3 %",
          "KOR: 38.6 %",
          "SSD: nan %",
          "ESP: nan %",
          "LKA: nan %",
          "SDN: nan %",
          "SUR: nan %",
          "SWE: nan %",
          "CHE: -8.6 %",
          "SYR: nan %",
          "TJK: -33.6 %",
          "TZA: -51.5 %",
          "THA: 52.7 %",
          "BHS: 160.6 %",
          "GMB: -79.7 %",
          "TLS: nan %",
          "TGO: -11.7 %",
          "TON: nan %",
          "TTO: 314.1 %",
          "TUN: -19.9 %",
          "TUR: 93.7 %",
          "TKM: nan %",
          "TUV: nan %",
          "UGA: -66.4 %",
          "UKR: 57.6 %",
          "ARE: 48.6 %",
          "GBR: 5.7 %",
          "USA: 22.1 %",
          "URY: nan %",
          "UZB: 128.7 %",
          "VUT: nan %",
          "VEN: 305.6 %",
          "VNM: 48.9 %",
          "YEM: -67.8 %",
          "ZMB: -16.5 %",
          "ZWE: nan %",
          "EU: 13.5 %",
          "EARTH: 61.7 %",
          "G20: nan %",
          "G7: nan %",
          "SIDS: nan %",
          "LDC: nan %",
          "Northern America: nan %",
          "Australasia: nan %",
          "African Group: nan %",
          "Umbrella: nan %"
         ],
         "type": "choropleth",
         "z": [
          -0.7716153497383119,
          0.8098303062444182,
          0.06712903403438976,
          3.5050044383793257,
          -0.5614678591390647,
          null,
          0.5819422270394752,
          null,
          0.38970903227380843,
          null,
          0.17759233745066896,
          null,
          -0.17682919626063145,
          0.44441125316223856,
          0.2448311307358553,
          null,
          null,
          -0.5508041089393647,
          null,
          null,
          0.5280316479706593,
          1.7449296704849802,
          -0.06997604425836217,
          null,
          null,
          -0.2504310472053543,
          0.2654191140111373,
          0.3117710218765938,
          -0.2974118893058615,
          0.36507726867787477,
          null,
          0.35384659940461866,
          -0.4189225228245529,
          -0.4746130807717256,
          0.7798997657843372,
          0.028137470270302344,
          -0.9731021732484384,
          -0.07540606883006122,
          null,
          -0.23026259875817404,
          -0.4395935329327971,
          null,
          null,
          null,
          null,
          -0.4508958818410014,
          null,
          -0.35611948874801175,
          10.637037058345303,
          -0.1091252860967841,
          null,
          0.10064692627429658,
          null,
          0.07191247292093933,
          null,
          null,
          null,
          -0.581662412311463,
          null,
          null,
          null,
          null,
          2.8448099033199634,
          null,
          -0.5991159275644451,
          null,
          -0.5995352574954649,
          -0.18704361840833209,
          -0.4622059849981288,
          null,
          null,
          -0.6635618256362662,
          null,
          -0.0905529843940848,
          null,
          1.6135740566676404,
          -0.01800117916265365,
          0.14513296717047602,
          2.235361356341232,
          null,
          null,
          0.3994509150653747,
          null,
          1.1155828502764726,
          0.4141325323340784,
          -0.15590532640594493,
          0.5886202998801092,
          -0.5276856918436867,
          -0.8116841837836895,
          1.2068212613375293,
          -0.6114522780639466,
          null,
          null,
          0.2542545041312843,
          -0.6583823395287733,
          -0.23906251370392487,
          null,
          79.90539522653683,
          null,
          null,
          0.4252581453786358,
          null,
          null,
          1.4793072281571988,
          0.11909465927209435,
          null,
          null,
          0.9534979413553409,
          -0.2989143341960439,
          0.1708996471819908,
          0.21921887086121744,
          -0.9584646892190876,
          0.3020511295865172,
          null,
          0.10850994709557668,
          null,
          -0.17923593744781893,
          null,
          null,
          -6.6716696082844615,
          null,
          null,
          null,
          0.4268495872986963,
          null,
          -0.7775575485897553,
          -0.7146981230278404,
          null,
          0.7960000815249418,
          -0.809468517551537,
          0.6232636835105843,
          -0.20871179070877302,
          null,
          null,
          null,
          null,
          0.475937484076713,
          1.0654708515077205,
          -0.7282217305490156,
          null,
          null,
          null,
          null,
          1.016115609841389,
          null,
          8.725352331115744,
          0.3394818605724875,
          null,
          null,
          null,
          -0.48926247363681397,
          1.4725497630006845,
          -0.5495304228712801,
          null,
          0.2922855432690381,
          null,
          1.0874070845386297,
          null,
          null,
          0.0949341778157815,
          null,
          0.24306057527880418,
          0.38583669131300224,
          null,
          null,
          null,
          null,
          null,
          null,
          -0.08640885326583114,
          null,
          -0.3356652793209007,
          -0.514731940010648,
          0.52650127025612,
          1.6064274412528698,
          -0.7973673661005412,
          null,
          -0.11660678952898862,
          null,
          3.1409798571405907,
          -0.19861459622263622,
          0.9366114915275654,
          null,
          null,
          -0.6637231148330549,
          0.57613817002184,
          0.4856522663165019,
          0.057103936599170124,
          0.2207768604729359,
          null,
          1.2873445323844093,
          null,
          3.0558588484409057,
          0.48933114877449946,
          -0.6776764562723993,
          -0.16511914487908433,
          null,
          0.13545672609969203,
          0.6171744023586507,
          null,
          null,
          null,
          null,
          null,
          null,
          null,
          null
         ],
         "zmax": 1,
         "zmin": -1
        },
        {
         "colorbar": {
          "title": {
           "side": "bottom"
          }
         },
         "colorscale": [
          [
           0,
           "rgb(49,54,149)"
          ],
          [
           0.1,
           "rgb(69,117,180)"
          ],
          [
           0.2,
           "rgb(116,173,209)"
          ],
          [
           0.3,
           "rgb(171,217,233)"
          ],
          [
           0.4,
           "rgb(224,243,248)"
          ],
          [
           0.5,
           "rgb(255,255,191)"
          ],
          [
           0.6,
           "rgb(254,224,144)"
          ],
          [
           0.7,
           "rgb(253,174,97)"
          ],
          [
           0.8,
           "rgb(244,109,67)"
          ],
          [
           0.9,
           "rgb(215,48,39)"
          ],
          [
           1,
           "rgb(165,0,38)"
          ]
         ],
         "geo": "geo",
         "hovertemplate": "%{text}",
         "locationmode": "ISO-3",
         "locations": [
          "AUT",
          "BEL",
          "BGR",
          "HRV",
          "CYP",
          "CZE",
          "DNK",
          "EST",
          "FIN",
          "FRA",
          "DEU",
          "GRC",
          "HUN",
          "IRL",
          "ITA",
          "LVA",
          "LTU",
          "LUX",
          "MLT",
          "NLD",
          "POL",
          "PRT",
          "ROU",
          "SVK",
          "SVN",
          "ESP",
          "SWE"
         ],
         "marker": {
          "line": {
           "color": "black",
           "width": 0.1
          }
         },
         "name": "",
         "showscale": false,
         "type": "choropleth",
         "z": [
          0.13545672609969203,
          0.13545672609969203,
          0.13545672609969203,
          0.13545672609969203,
          0.13545672609969203,
          0.13545672609969203,
          0.13545672609969203,
          0.13545672609969203,
          0.13545672609969203,
          0.13545672609969203,
          0.13545672609969203,
          0.13545672609969203,
          0.13545672609969203,
          0.13545672609969203,
          0.13545672609969203,
          0.13545672609969203,
          0.13545672609969203,
          0.13545672609969203,
          0.13545672609969203,
          0.13545672609969203,
          0.13545672609969203,
          0.13545672609969203,
          0.13545672609969203,
          0.13545672609969203,
          0.13545672609969203,
          0.13545672609969203,
          0.13545672609969203
         ],
         "zmax": 1,
         "zmin": -1
        },
        {
         "colorbar": {
          "title": {
           "side": "bottom"
          }
         },
         "colorscale": [
          [
           0,
           "rgb(49,54,149)"
          ],
          [
           0.1,
           "rgb(69,117,180)"
          ],
          [
           0.2,
           "rgb(116,173,209)"
          ],
          [
           0.3,
           "rgb(171,217,233)"
          ],
          [
           0.4,
           "rgb(224,243,248)"
          ],
          [
           0.5,
           "rgb(255,255,191)"
          ],
          [
           0.6,
           "rgb(254,224,144)"
          ],
          [
           0.7,
           "rgb(253,174,97)"
          ],
          [
           0.8,
           "rgb(244,109,67)"
          ],
          [
           0.9,
           "rgb(215,48,39)"
          ],
          [
           1,
           "rgb(165,0,38)"
          ]
         ],
         "geo": "geo",
         "hovertemplate": "%{text}",
         "locationmode": "ISO-3",
         "locations": [
          "ALB",
          "DZA",
          "AND",
          "ARG",
          "AUS",
          "AZE",
          "BRB",
          "BLR",
          "BIH",
          "BWA",
          "BDI",
          "KHM",
          "CAN",
          "CAF",
          "CHN",
          "COL",
          "DMA",
          "EGY",
          "GNQ",
          "GEO",
          "ISL",
          "IDN",
          "IRN",
          "ISR",
          "JAM",
          "JPN",
          "KAZ",
          "KWT",
          "LBN",
          "LIE",
          "MKD",
          "MYS",
          "MDV",
          "MHL",
          "MUS",
          "MEX",
          "MDA",
          "MNG",
          "NZL",
          "PRK",
          "OMN",
          "PRY",
          "PER",
          "RUS",
          "KNA",
          "LCA",
          "SAU",
          "SYC",
          "SGP",
          "SLB",
          "ZAF",
          "KOR",
          "THA",
          "BHS",
          "TTO",
          "TUR",
          "UKR",
          "ARE",
          "GBR",
          "USA",
          "UZB",
          "VEN",
          "VNM",
          "EU",
          "EARTH"
         ],
         "marker": {
          "line": {
           "color": "black",
           "width": 2
          }
         },
         "name": "",
         "showscale": false,
         "text": [
          "ALB: 81.0 %",
          "DZA: 6.7 %",
          "AND: 350.5 %",
          "ARG: 58.2 %",
          "AUS: 39.0 %",
          "AZE: 17.8 %",
          "BRB: 44.4 %",
          "BLR: 24.5 %",
          "BIH: 52.8 %",
          "BWA: 174.5 %",
          "BDI: 26.5 %",
          "KHM: 31.2 %",
          "CAN: 36.5 %",
          "CAF: 35.4 %",
          "CHN: 78.0 %",
          "COL: 2.8 %",
          "DMA: 1063.7 %",
          "EGY: 10.1 %",
          "GNQ: 7.2 %",
          "GEO: 284.5 %",
          "ISL: 161.4 %",
          "IDN: 14.5 %",
          "IRN: 223.5 %",
          "ISR: 39.9 %",
          "JAM: 111.6 %",
          "JPN: 41.4 %",
          "KAZ: 58.9 %",
          "KWT: 120.7 %",
          "LBN: 25.4 %",
          "LIE: 7990.5 %",
          "MKD: 42.5 %",
          "MYS: 147.9 %",
          "MDV: 11.9 %",
          "MHL: 95.3 %",
          "MUS: 17.1 %",
          "MEX: 21.9 %",
          "MDA: 30.2 %",
          "MNG: 10.9 %",
          "NZL: 42.7 %",
          "PRK: 79.6 %",
          "OMN: 62.3 %",
          "PRY: 47.6 %",
          "PER: 106.5 %",
          "RUS: 101.6 %",
          "KNA: 872.5 %",
          "LCA: 33.9 %",
          "SAU: 147.3 %",
          "SYC: 29.2 %",
          "SGP: 108.7 %",
          "SLB: 9.5 %",
          "ZAF: 24.3 %",
          "KOR: 38.6 %",
          "THA: 52.7 %",
          "BHS: 160.6 %",
          "TTO: 314.1 %",
          "TUR: 93.7 %",
          "UKR: 57.6 %",
          "ARE: 48.6 %",
          "GBR: 5.7 %",
          "USA: 22.1 %",
          "UZB: 128.7 %",
          "VEN: 305.6 %",
          "VNM: 48.9 %",
          "EU: 13.5 %",
          "EARTH: 61.7 %"
         ],
         "type": "choropleth",
         "z": [
          0.8098303062444182,
          0.06712903403438976,
          3.5050044383793257,
          0.5819422270394752,
          0.38970903227380843,
          0.17759233745066896,
          0.44441125316223856,
          0.2448311307358553,
          0.5280316479706593,
          1.7449296704849802,
          0.2654191140111373,
          0.3117710218765938,
          0.36507726867787477,
          0.35384659940461866,
          0.7798997657843372,
          0.028137470270302344,
          10.637037058345303,
          0.10064692627429658,
          0.07191247292093933,
          2.8448099033199634,
          1.6135740566676404,
          0.14513296717047602,
          2.235361356341232,
          0.3994509150653747,
          1.1155828502764726,
          0.4141325323340784,
          0.5886202998801092,
          1.2068212613375293,
          0.2542545041312843,
          79.90539522653683,
          0.4252581453786358,
          1.4793072281571988,
          0.11909465927209435,
          0.9534979413553409,
          0.1708996471819908,
          0.21921887086121744,
          0.3020511295865172,
          0.10850994709557668,
          0.4268495872986963,
          0.7960000815249418,
          0.6232636835105843,
          0.475937484076713,
          1.0654708515077205,
          1.016115609841389,
          8.725352331115744,
          0.3394818605724875,
          1.4725497630006845,
          0.2922855432690381,
          1.0874070845386297,
          0.0949341778157815,
          0.24306057527880418,
          0.38583669131300224,
          0.52650127025612,
          1.6064274412528698,
          3.1409798571405907,
          0.9366114915275654,
          0.57613817002184,
          0.4856522663165019,
          0.057103936599170124,
          0.2207768604729359,
          1.2873445323844093,
          3.0558588484409057,
          0.48933114877449946,
          0.13545672609969203,
          0.6171744023586507
         ],
         "zmax": 1,
         "zmin": -1
        },
        {
         "colorbar": {
          "title": {
           "side": "bottom"
          }
         },
         "colorscale": [
          [
           0,
           "rgb(49,54,149)"
          ],
          [
           0.1,
           "rgb(69,117,180)"
          ],
          [
           0.2,
           "rgb(116,173,209)"
          ],
          [
           0.3,
           "rgb(171,217,233)"
          ],
          [
           0.4,
           "rgb(224,243,248)"
          ],
          [
           0.5,
           "rgb(255,255,191)"
          ],
          [
           0.6,
           "rgb(254,224,144)"
          ],
          [
           0.7,
           "rgb(253,174,97)"
          ],
          [
           0.8,
           "rgb(244,109,67)"
          ],
          [
           0.9,
           "rgb(215,48,39)"
          ],
          [
           1,
           "rgb(165,0,38)"
          ]
         ],
         "geo": "geo",
         "hovertemplate": "%{text}",
         "locationmode": "ISO-3",
         "locations": [
          "AUT",
          "BEL",
          "BGR",
          "HRV",
          "CYP",
          "CZE",
          "DNK",
          "EST",
          "FIN",
          "FRA",
          "DEU",
          "GRC",
          "HUN",
          "IRL",
          "ITA",
          "LVA",
          "LTU",
          "LUX",
          "MLT",
          "NLD",
          "POL",
          "PRT",
          "ROU",
          "SVK",
          "SVN",
          "ESP",
          "SWE"
         ],
         "marker": {
          "line": {
           "color": "black",
           "width": 2
          }
         },
         "name": "",
         "showscale": false,
         "type": "choropleth",
         "z": [
          0.13545672609969203,
          0.13545672609969203,
          0.13545672609969203,
          0.13545672609969203,
          0.13545672609969203,
          0.13545672609969203,
          0.13545672609969203,
          0.13545672609969203,
          0.13545672609969203,
          0.13545672609969203,
          0.13545672609969203,
          0.13545672609969203,
          0.13545672609969203,
          0.13545672609969203,
          0.13545672609969203,
          0.13545672609969203,
          0.13545672609969203,
          0.13545672609969203,
          0.13545672609969203,
          0.13545672609969203,
          0.13545672609969203,
          0.13545672609969203,
          0.13545672609969203,
          0.13545672609969203,
          0.13545672609969203,
          0.13545672609969203,
          0.13545672609969203
         ],
         "zmax": 1,
         "zmin": -1
        },
        {
         "colorbar": {
          "title": {
           "side": "bottom"
          }
         },
         "colorscale": [
          [
           0,
           "rgb(255,255,255)"
          ],
          [
           0.125,
           "rgb(240,240,240)"
          ],
          [
           0.25,
           "rgb(217,217,217)"
          ],
          [
           0.375,
           "rgb(189,189,189)"
          ],
          [
           0.5,
           "rgb(150,150,150)"
          ],
          [
           0.625,
           "rgb(115,115,115)"
          ],
          [
           0.75,
           "rgb(82,82,82)"
          ],
          [
           0.875,
           "rgb(37,37,37)"
          ],
          [
           1,
           "rgb(0,0,0)"
          ]
         ],
         "geo": "geo2",
         "hovertemplate": "%{text}",
         "locationmode": "ISO-3",
         "locations": [
          "ATG",
          "ARM",
          "AUT",
          "BHR",
          "BEL",
          "BLZ",
          "BTN",
          "BOL",
          "BRN",
          "BGR",
          "CPV",
          "COK",
          "HRV",
          "CUB",
          "CYP",
          "CZE",
          "DNK",
          "ECU",
          "SLV",
          "ERI",
          "EST",
          "SWZ",
          "FJI",
          "FIN",
          "FRA",
          "GAB",
          "DEU",
          "GRC",
          "GNB",
          "GUY",
          "VAT",
          "HUN",
          "IRQ",
          "IRL",
          "ITA",
          "LAO",
          "LVA",
          "LBY",
          "LTU",
          "LUX",
          "MDG",
          "MWI",
          "MLI",
          "MLT",
          "MCO",
          "MNE",
          "MOZ",
          "MMR",
          "NRU",
          "NPL",
          "NLD",
          "NIC",
          "NIU",
          "PLW",
          "PSE",
          "PAN",
          "PNG",
          "POL",
          "PRT",
          "QAT",
          "ROU",
          "RWA",
          "VCT",
          "WSM",
          "SMR",
          "SRB",
          "SLE",
          "SVK",
          "SVN",
          "SOM",
          "SSD",
          "ESP",
          "LKA",
          "SDN",
          "SUR",
          "SWE",
          "SYR",
          "TLS",
          "TON",
          "TKM",
          "TUV",
          "URY",
          "VUT",
          "ZWE",
          "G20",
          "G7",
          "SIDS",
          "LDC",
          "Northern America",
          "Australasia",
          "African Group",
          "Umbrella",
          "GRL"
         ],
         "marker": {
          "line": {
           "color": "black",
           "width": 0
          }
         },
         "name": "",
         "showscale": false,
         "type": "choropleth",
         "z": [
          -0.5,
          -0.5,
          -0.5,
          -0.5,
          -0.5,
          -0.5,
          -0.5,
          -0.5,
          -0.5,
          -0.5,
          -0.5,
          -0.5,
          -0.5,
          -0.5,
          -0.5,
          -0.5,
          -0.5,
          -0.5,
          -0.5,
          -0.5,
          -0.5,
          -0.5,
          -0.5,
          -0.5,
          -0.5,
          -0.5,
          -0.5,
          -0.5,
          -0.5,
          -0.5,
          -0.5,
          -0.5,
          -0.5,
          -0.5,
          -0.5,
          -0.5,
          -0.5,
          -0.5,
          -0.5,
          -0.5,
          -0.5,
          -0.5,
          -0.5,
          -0.5,
          -0.5,
          -0.5,
          -0.5,
          -0.5,
          -0.5,
          -0.5,
          -0.5,
          -0.5,
          -0.5,
          -0.5,
          -0.5,
          -0.5,
          -0.5,
          -0.5,
          -0.5,
          -0.5,
          -0.5,
          -0.5,
          -0.5,
          -0.5,
          -0.5,
          -0.5,
          -0.5,
          -0.5,
          -0.5,
          -0.5,
          -0.5,
          -0.5,
          -0.5,
          -0.5,
          -0.5,
          -0.5,
          -0.5,
          -0.5,
          -0.5,
          -0.5,
          -0.5,
          -0.5,
          -0.5,
          -0.5,
          -0.5,
          -0.5,
          -0.5,
          -0.5,
          -0.5,
          -0.5,
          -0.5,
          -0.5,
          -0.5
         ],
         "zmax": 1,
         "zmin": -1
        },
        {
         "colorbar": {
          "len": 0.5,
          "lenmode": "fraction",
          "orientation": "h",
          "thickness": 20,
          "thicknessmode": "pixels",
          "tickfont": {
           "size": 14
          },
          "ticktext": [
           "100%<br>NDC sufficient <",
           "50%",
           "0%",
           "50%",
           "100%<br>> NDC insufficient"
          ],
          "tickvals": [
           -1,
           -0.5,
           0,
           0.5,
           1
          ],
          "title": {
           "font": {
            "size": 14
           },
           "side": "bottom",
           "text": "NDC deviation from emission allocation in 2030"
          },
          "x": 0.25,
          "xanchor": "left",
          "y": 0.52,
          "yanchor": "bottom"
         },
         "colorscale": [
          [
           0,
           "rgb(49,54,149)"
          ],
          [
           0.1,
           "rgb(69,117,180)"
          ],
          [
           0.2,
           "rgb(116,173,209)"
          ],
          [
           0.3,
           "rgb(171,217,233)"
          ],
          [
           0.4,
           "rgb(224,243,248)"
          ],
          [
           0.5,
           "rgb(255,255,191)"
          ],
          [
           0.6,
           "rgb(254,224,144)"
          ],
          [
           0.7,
           "rgb(253,174,97)"
          ],
          [
           0.8,
           "rgb(244,109,67)"
          ],
          [
           0.9,
           "rgb(215,48,39)"
          ],
          [
           1,
           "rgb(165,0,38)"
          ]
         ],
         "geo": "geo2",
         "hovertemplate": "%{text}",
         "locationmode": "ISO-3",
         "locations": [
          "AFG",
          "ALB",
          "DZA",
          "AND",
          "AGO",
          "ATG",
          "ARG",
          "ARM",
          "AUS",
          "AUT",
          "AZE",
          "BHR",
          "BGD",
          "BRB",
          "BLR",
          "BEL",
          "BLZ",
          "BEN",
          "BTN",
          "BOL",
          "BIH",
          "BWA",
          "BRA",
          "BRN",
          "BGR",
          "BFA",
          "BDI",
          "KHM",
          "CMR",
          "CAN",
          "CPV",
          "CAF",
          "TCD",
          "CHL",
          "CHN",
          "COL",
          "COM",
          "COG",
          "COK",
          "CRI",
          "CIV",
          "HRV",
          "CUB",
          "CYP",
          "CZE",
          "COD",
          "DNK",
          "DJI",
          "DMA",
          "DOM",
          "ECU",
          "EGY",
          "SLV",
          "GNQ",
          "ERI",
          "EST",
          "SWZ",
          "ETH",
          "FJI",
          "FIN",
          "FRA",
          "GAB",
          "GEO",
          "DEU",
          "GHA",
          "GRC",
          "GRD",
          "GTM",
          "GIN",
          "GNB",
          "GUY",
          "HTI",
          "VAT",
          "HND",
          "HUN",
          "ISL",
          "IND",
          "IDN",
          "IRN",
          "IRQ",
          "IRL",
          "ISR",
          "ITA",
          "JAM",
          "JPN",
          "JOR",
          "KAZ",
          "KEN",
          "KIR",
          "KWT",
          "KGZ",
          "LAO",
          "LVA",
          "LBN",
          "LSO",
          "LBR",
          "LBY",
          "LIE",
          "LTU",
          "LUX",
          "MKD",
          "MDG",
          "MWI",
          "MYS",
          "MDV",
          "MLI",
          "MLT",
          "MHL",
          "MRT",
          "MUS",
          "MEX",
          "FSM",
          "MDA",
          "MCO",
          "MNG",
          "MNE",
          "MAR",
          "MOZ",
          "MMR",
          "NAM",
          "NRU",
          "NPL",
          "NLD",
          "NZL",
          "NIC",
          "NER",
          "NGA",
          "NIU",
          "PRK",
          "NOR",
          "OMN",
          "PAK",
          "PLW",
          "PSE",
          "PAN",
          "PNG",
          "PRY",
          "PER",
          "PHL",
          "POL",
          "PRT",
          "QAT",
          "ROU",
          "RUS",
          "RWA",
          "KNA",
          "LCA",
          "VCT",
          "WSM",
          "SMR",
          "STP",
          "SAU",
          "SEN",
          "SRB",
          "SYC",
          "SLE",
          "SGP",
          "SVK",
          "SVN",
          "SLB",
          "SOM",
          "ZAF",
          "KOR",
          "SSD",
          "ESP",
          "LKA",
          "SDN",
          "SUR",
          "SWE",
          "CHE",
          "SYR",
          "TJK",
          "TZA",
          "THA",
          "BHS",
          "GMB",
          "TLS",
          "TGO",
          "TON",
          "TTO",
          "TUN",
          "TUR",
          "TKM",
          "TUV",
          "UGA",
          "UKR",
          "ARE",
          "GBR",
          "USA",
          "URY",
          "UZB",
          "VUT",
          "VEN",
          "VNM",
          "YEM",
          "ZMB",
          "ZWE",
          "EU",
          "EARTH",
          "G20",
          "G7",
          "SIDS",
          "LDC",
          "Northern America",
          "Australasia",
          "African Group",
          "Umbrella"
         ],
         "marker": {
          "line": {
           "color": "black",
           "width": 0.1
          }
         },
         "name": "",
         "showscale": true,
         "text": [
          "AFG: -86.5 %",
          "ALB: -5.0 %",
          "DZA: -37.6 %",
          "AND: 28.0 %",
          "AGO: -75.7 %",
          "ATG: nan %",
          "ARG: -4.5 %",
          "ARM: nan %",
          "AUS: -20.9 %",
          "AUT: nan %",
          "AZE: -28.4 %",
          "BHR: nan %",
          "BGD: -47.7 %",
          "BRB: -9.6 %",
          "BLR: -24.1 %",
          "BEL: nan %",
          "BLZ: nan %",
          "BEN: -75.1 %",
          "BTN: nan %",
          "BOL: nan %",
          "BIH: -8.3 %",
          "BWA: 72.7 %",
          "BRA: -38.9 %",
          "BRN: nan %",
          "BGR: nan %",
          "BFA: -57.8 %",
          "BDI: -25.6 %",
          "KHM: -3.0 %",
          "CMR: -57.9 %",
          "CAN: -22.0 %",
          "CPV: nan %",
          "CAF: -21.3 %",
          "TCD: -67.0 %",
          "CHL: -69.3 %",
          "CHN: 4.4 %",
          "COL: -39.2 %",
          "COM: -98.4 %",
          "COG: -43.7 %",
          "COK: nan %",
          "CRI: -59.4 %",
          "CIV: -68.7 %",
          "HRV: nan %",
          "CUB: nan %",
          "CYP: nan %",
          "CZE: nan %",
          "COD: -69.5 %",
          "DNK: nan %",
          "DJI: -61.1 %",
          "DMA: -5.4 %",
          "DOM: -46.9 %",
          "ECU: nan %",
          "EGY: -35.2 %",
          "SLV: nan %",
          "GNQ: -37.7 %",
          "ERI: nan %",
          "EST: nan %",
          "SWZ: nan %",
          "ETH: -76.3 %",
          "FJI: nan %",
          "FIN: nan %",
          "FRA: nan %",
          "GAB: nan %",
          "GEO: 97.4 %",
          "DEU: nan %",
          "GHA: -76.9 %",
          "GRC: nan %",
          "GRD: -75.2 %",
          "GTM: -51.3 %",
          "GIN: -65.6 %",
          "GNB: nan %",
          "GUY: nan %",
          "HTI: -79.3 %",
          "VAT: nan %",
          "HND: -42.0 %",
          "HUN: nan %",
          "ISL: 52.4 %",
          "IND: -39.1 %",
          "IDN: -27.1 %",
          "IRN: 105.7 %",
          "IRQ: nan %",
          "IRL: nan %",
          "ISR: -26.5 %",
          "ITA: nan %",
          "JAM: 10.1 %",
          "JPN: -15.5 %",
          "JOR: -48.9 %",
          "KAZ: -21.5 %",
          "KEN: -71.1 %",
          "KIR: -88.8 %",
          "KWT: 6.5 %",
          "KGZ: -78.1 %",
          "LAO: nan %",
          "LVA: nan %",
          "LBN: -25.9 %",
          "LSO: -79.5 %",
          "LBR: -51.1 %",
          "LBY: nan %",
          "LIE: 68.6 %",
          "LTU: nan %",
          "LUX: nan %",
          "MKD: -20.2 %",
          "MDG: nan %",
          "MWI: nan %",
          "MYS: 23.8 %",
          "MDV: -35.8 %",
          "MLI: nan %",
          "MLT: nan %",
          "MHL: 2.3 %",
          "MRT: -59.8 %",
          "MUS: -35.0 %",
          "MEX: -28.9 %",
          "FSM: -97.6 %",
          "MDA: -35.2 %",
          "MCO: nan %",
          "MNG: -26.8 %",
          "MNE: nan %",
          "MAR: -50.3 %",
          "MOZ: nan %",
          "MMR: nan %",
          "NAM: -495.2 %",
          "NRU: nan %",
          "NPL: nan %",
          "NLD: nan %",
          "NZL: -17.0 %",
          "NIC: nan %",
          "NER: -88.2 %",
          "NGA: -84.2 %",
          "NIU: nan %",
          "PRK: 6.7 %",
          "NOR: -88.9 %",
          "OMN: -17.6 %",
          "PAK: -53.6 %",
          "PLW: nan %",
          "PSE: nan %",
          "PAN: nan %",
          "PNG: nan %",
          "PRY: -5.9 %",
          "PER: 19.0 %",
          "PHL: -83.7 %",
          "POL: nan %",
          "PRT: nan %",
          "QAT: nan %",
          "ROU: nan %",
          "RUS: 16.4 %",
          "RWA: nan %",
          "KNA: 275.7 %",
          "LCA: -22.7 %",
          "VCT: nan %",
          "WSM: nan %",
          "SMR: nan %",
          "STP: -71.3 %",
          "SAU: 19.3 %",
          "SEN: -74.6 %",
          "SRB: nan %",
          "SYC: -23.5 %",
          "SLE: nan %",
          "SGP: 16.1 %",
          "SVK: nan %",
          "SVN: nan %",
          "SLB: -37.8 %",
          "SOM: nan %",
          "ZAF: -15.6 %",
          "KOR: -19.0 %",
          "SSD: nan %",
          "ESP: nan %",
          "LKA: nan %",
          "SDN: nan %",
          "SUR: nan %",
          "SWE: nan %",
          "CHE: -47.3 %",
          "SYR: nan %",
          "TJK: -61.3 %",
          "TZA: -72.8 %",
          "THA: -9.8 %",
          "BHS: 42.2 %",
          "GMB: -88.2 %",
          "TLS: nan %",
          "TGO: -49.6 %",
          "TON: nan %",
          "TTO: 67.1 %",
          "TUN: -51.4 %",
          "TUR: 12.1 %",
          "TKM: nan %",
          "TUV: nan %",
          "UGA: -80.2 %",
          "UKR: -1.3 %",
          "ARE: -26.4 %",
          "GBR: -36.1 %",
          "USA: -29.9 %",
          "URY: nan %",
          "UZB: 56.8 %",
          "VUT: nan %",
          "VEN: 137.2 %",
          "VNM: -6.4 %",
          "YEM: -81.2 %",
          "ZMB: -49.0 %",
          "ZWE: nan %",
          "EU: -31.4 %",
          "EARTH: 1.9 %",
          "G20: nan %",
          "G7: nan %",
          "SIDS: nan %",
          "LDC: nan %",
          "Northern America: nan %",
          "Australasia: nan %",
          "African Group: nan %",
          "Umbrella: nan %"
         ],
         "type": "choropleth",
         "z": [
          -0.865485492305558,
          -0.05036307532432644,
          -0.3764453536856736,
          0.2801569145376626,
          -0.7566419711410938,
          null,
          -0.0450425354033039,
          null,
          -0.20867969970358768,
          null,
          -0.2840049496141611,
          null,
          -0.477133526149879,
          -0.09581572508135201,
          -0.2409442247590077,
          null,
          null,
          -0.7508959456053704,
          null,
          null,
          -0.08289390308762451,
          0.7272030546784124,
          -0.38889878214721035,
          null,
          null,
          -0.5777425130619026,
          -0.2559481327194449,
          -0.030385440656660764,
          -0.5785706622500955,
          -0.21996511635367277,
          null,
          -0.21261250994808611,
          -0.6701240651433465,
          -0.6931275299469929,
          0.043888221029960324,
          -0.3915603952644882,
          -0.984285113342786,
          -0.43708233982125266,
          null,
          -0.5936041729169833,
          -0.6866619863647577,
          null,
          null,
          null,
          null,
          -0.6948728978663966,
          null,
          -0.6112869529851377,
          -0.0540093917122338,
          -0.4694476652664693,
          null,
          -0.35177801620444454,
          null,
          -0.3771830133755362,
          null,
          null,
          null,
          -0.7629300041841012,
          null,
          null,
          null,
          null,
          0.973995748865954,
          null,
          -0.7691217302032529,
          null,
          -0.7516201355519035,
          -0.5132282553981418,
          -0.6557798217699835,
          null,
          null,
          -0.7926068790723564,
          null,
          -0.41972992142807203,
          null,
          0.5240915117247289,
          -0.3907852132313728,
          -0.27069205420369385,
          1.057314643982588,
          null,
          null,
          -0.26459948656458626,
          null,
          0.10146262716106051,
          -0.15474595034833058,
          -0.4889811069458671,
          -0.21520570529126248,
          -0.7112173901064441,
          -0.8881018435465377,
          0.06504985903511093,
          -0.7808296620270349,
          null,
          null,
          -0.2593614401289268,
          -0.7948298292025493,
          -0.5111424920741522,
          null,
          0.6861903389899304,
          null,
          null,
          -0.2019039216079786,
          null,
          null,
          0.2379449889700884,
          -0.3583630529030083,
          null,
          null,
          0.0228815441025449,
          -0.5980196113876023,
          -0.3503595291682306,
          -0.288720560114734,
          -0.9757535919230003,
          -0.35182949693161386,
          null,
          -0.2675379531472547,
          null,
          -0.5029034910931061,
          null,
          null,
          -4.951961110216979,
          null,
          null,
          null,
          -0.16981385171387356,
          null,
          -0.8820275285092894,
          -0.8424939350759212,
          null,
          0.06721397447974567,
          -0.8889798674168151,
          -0.17553959100213537,
          -0.5358584778245289,
          null,
          null,
          null,
          null,
          -0.05922601888250506,
          0.1896486194523756,
          -0.836669832033903,
          null,
          null,
          null,
          null,
          0.16370871439145543,
          null,
          2.757307031459125,
          -0.2273140808605824,
          null,
          null,
          null,
          -0.7131769824170706,
          0.19308462314441485,
          -0.7457236739941848,
          null,
          -0.23453619817781857,
          null,
          0.1611647492304439,
          null,
          null,
          -0.37751564364470613,
          null,
          -0.15644963520225827,
          -0.19041640147818126,
          null,
          null,
          null,
          null,
          null,
          null,
          -0.472987313276447,
          null,
          -0.6129021032898189,
          -0.7276136345708696,
          -0.09800761210013416,
          0.42166667753073883,
          -0.8815633513185201,
          null,
          -0.49625035452824634,
          null,
          0.6708195893057889,
          -0.5136576219695855,
          0.12071479731842487,
          null,
          null,
          -0.8020246682502009,
          -0.013493710731286437,
          -0.26360182991896103,
          -0.36116524787134296,
          -0.29850301954098607,
          null,
          0.5683272943953744,
          null,
          1.3721837774067558,
          -0.06400622907169652,
          -0.8118559596411559,
          -0.4904903157182227,
          null,
          -0.31431899068026514,
          0.019130292796691154,
          null,
          null,
          null,
          null,
          null,
          null,
          null,
          null
         ],
         "zmax": 1,
         "zmin": -1
        },
        {
         "colorbar": {
          "title": {
           "side": "bottom"
          }
         },
         "colorscale": [
          [
           0,
           "rgb(49,54,149)"
          ],
          [
           0.1,
           "rgb(69,117,180)"
          ],
          [
           0.2,
           "rgb(116,173,209)"
          ],
          [
           0.3,
           "rgb(171,217,233)"
          ],
          [
           0.4,
           "rgb(224,243,248)"
          ],
          [
           0.5,
           "rgb(255,255,191)"
          ],
          [
           0.6,
           "rgb(254,224,144)"
          ],
          [
           0.7,
           "rgb(253,174,97)"
          ],
          [
           0.8,
           "rgb(244,109,67)"
          ],
          [
           0.9,
           "rgb(215,48,39)"
          ],
          [
           1,
           "rgb(165,0,38)"
          ]
         ],
         "geo": "geo2",
         "hovertemplate": "%{text}",
         "locationmode": "ISO-3",
         "locations": [
          "AUT",
          "BEL",
          "BGR",
          "HRV",
          "CYP",
          "CZE",
          "DNK",
          "EST",
          "FIN",
          "FRA",
          "DEU",
          "GRC",
          "HUN",
          "IRL",
          "ITA",
          "LVA",
          "LTU",
          "LUX",
          "MLT",
          "NLD",
          "POL",
          "PRT",
          "ROU",
          "SVK",
          "SVN",
          "ESP",
          "SWE"
         ],
         "marker": {
          "line": {
           "color": "black",
           "width": 0.1
          }
         },
         "name": "",
         "showscale": false,
         "type": "choropleth",
         "z": [
          -0.31431899068026514,
          -0.31431899068026514,
          -0.31431899068026514,
          -0.31431899068026514,
          -0.31431899068026514,
          -0.31431899068026514,
          -0.31431899068026514,
          -0.31431899068026514,
          -0.31431899068026514,
          -0.31431899068026514,
          -0.31431899068026514,
          -0.31431899068026514,
          -0.31431899068026514,
          -0.31431899068026514,
          -0.31431899068026514,
          -0.31431899068026514,
          -0.31431899068026514,
          -0.31431899068026514,
          -0.31431899068026514,
          -0.31431899068026514,
          -0.31431899068026514,
          -0.31431899068026514,
          -0.31431899068026514,
          -0.31431899068026514,
          -0.31431899068026514,
          -0.31431899068026514,
          -0.31431899068026514
         ],
         "zmax": 1,
         "zmin": -1
        },
        {
         "colorbar": {
          "title": {
           "side": "bottom"
          }
         },
         "colorscale": [
          [
           0,
           "rgb(49,54,149)"
          ],
          [
           0.1,
           "rgb(69,117,180)"
          ],
          [
           0.2,
           "rgb(116,173,209)"
          ],
          [
           0.3,
           "rgb(171,217,233)"
          ],
          [
           0.4,
           "rgb(224,243,248)"
          ],
          [
           0.5,
           "rgb(255,255,191)"
          ],
          [
           0.6,
           "rgb(254,224,144)"
          ],
          [
           0.7,
           "rgb(253,174,97)"
          ],
          [
           0.8,
           "rgb(244,109,67)"
          ],
          [
           0.9,
           "rgb(215,48,39)"
          ],
          [
           1,
           "rgb(165,0,38)"
          ]
         ],
         "geo": "geo2",
         "hovertemplate": "%{text}",
         "locationmode": "ISO-3",
         "locations": [
          "AND",
          "BWA",
          "CHN",
          "GEO",
          "ISL",
          "IRN",
          "JAM",
          "KWT",
          "LIE",
          "MYS",
          "MHL",
          "PRK",
          "PER",
          "RUS",
          "KNA",
          "SAU",
          "SGP",
          "BHS",
          "TTO",
          "TUR",
          "UZB",
          "VEN",
          "EARTH"
         ],
         "marker": {
          "line": {
           "color": "black",
           "width": 2
          }
         },
         "name": "",
         "showscale": false,
         "text": [
          "AND: 28.0 %",
          "BWA: 72.7 %",
          "CHN: 4.4 %",
          "GEO: 97.4 %",
          "ISL: 52.4 %",
          "IRN: 105.7 %",
          "JAM: 10.1 %",
          "KWT: 6.5 %",
          "LIE: 68.6 %",
          "MYS: 23.8 %",
          "MHL: 2.3 %",
          "PRK: 6.7 %",
          "PER: 19.0 %",
          "RUS: 16.4 %",
          "KNA: 275.7 %",
          "SAU: 19.3 %",
          "SGP: 16.1 %",
          "BHS: 42.2 %",
          "TTO: 67.1 %",
          "TUR: 12.1 %",
          "UZB: 56.8 %",
          "VEN: 137.2 %",
          "EARTH: 1.9 %"
         ],
         "type": "choropleth",
         "z": [
          0.2801569145376626,
          0.7272030546784124,
          0.043888221029960324,
          0.973995748865954,
          0.5240915117247289,
          1.057314643982588,
          0.10146262716106051,
          0.06504985903511093,
          0.6861903389899304,
          0.2379449889700884,
          0.0228815441025449,
          0.06721397447974567,
          0.1896486194523756,
          0.16370871439145543,
          2.757307031459125,
          0.19308462314441485,
          0.1611647492304439,
          0.42166667753073883,
          0.6708195893057889,
          0.12071479731842487,
          0.5683272943953744,
          1.3721837774067558,
          0.019130292796691154
         ],
         "zmax": 1,
         "zmin": -1
        },
        {
         "colorbar": {
          "title": {
           "side": "bottom"
          }
         },
         "colorscale": [
          [
           0,
           "rgb(255,255,255)"
          ],
          [
           0.125,
           "rgb(240,240,240)"
          ],
          [
           0.25,
           "rgb(217,217,217)"
          ],
          [
           0.375,
           "rgb(189,189,189)"
          ],
          [
           0.5,
           "rgb(150,150,150)"
          ],
          [
           0.625,
           "rgb(115,115,115)"
          ],
          [
           0.75,
           "rgb(82,82,82)"
          ],
          [
           0.875,
           "rgb(37,37,37)"
          ],
          [
           1,
           "rgb(0,0,0)"
          ]
         ],
         "geo": "geo3",
         "hovertemplate": "%{text}",
         "locationmode": "ISO-3",
         "locations": [
          "AFG",
          "AGO",
          "ALB",
          "AND",
          "ARE",
          "ARG",
          "ARM",
          "ATG",
          "AUS",
          "AUT",
          "AZE",
          "African Group",
          "Australasia",
          "BDI",
          "BEL",
          "BEN",
          "BFA",
          "BGD",
          "BGR",
          "BHR",
          "BHS",
          "BIH",
          "BLR",
          "BLZ",
          "BOL",
          "BRA",
          "BRB",
          "BRN",
          "BTN",
          "BWA",
          "CAF",
          "CAN",
          "CHE",
          "CHL",
          "CHN",
          "CIV",
          "CMR",
          "COD",
          "COG",
          "COK",
          "COL",
          "COM",
          "CPV",
          "CRI",
          "CUB",
          "CYP",
          "CZE",
          "DEU",
          "DJI",
          "DMA",
          "DNK",
          "DOM",
          "DZA",
          "EARTH",
          "ECU",
          "EGY",
          "ERI",
          "ESP",
          "EST",
          "ETH",
          "EU",
          "FIN",
          "FJI",
          "FRA",
          "FSM",
          "G20",
          "G7",
          "GAB",
          "GBR",
          "GEO",
          "GHA",
          "GIN",
          "GMB",
          "GNB",
          "GNQ",
          "GRC",
          "GRD",
          "GTM",
          "GUY",
          "HND",
          "HRV",
          "HTI",
          "HUN",
          "IDN",
          "IND",
          "IRL",
          "IRN",
          "IRQ",
          "ISL",
          "ISR",
          "ITA",
          "JAM",
          "JOR",
          "JPN",
          "KAZ",
          "KEN",
          "KGZ",
          "KHM",
          "KIR",
          "KNA",
          "KOR",
          "KWT",
          "LAO",
          "LBN",
          "LBR",
          "LBY",
          "LCA",
          "LDC",
          "LIE",
          "LKA",
          "LSO",
          "LTU",
          "LUX",
          "LVA",
          "MAR",
          "MCO",
          "MDA",
          "MDG",
          "MDV",
          "MEX",
          "MHL",
          "MKD",
          "MLI",
          "MLT",
          "MMR",
          "MNE",
          "MNG",
          "MOZ",
          "MRT",
          "MUS",
          "MWI",
          "MYS",
          "NAM",
          "NER",
          "NGA",
          "NIC",
          "NIU",
          "NLD",
          "NOR",
          "NPL",
          "NRU",
          "NZL",
          "Northern America",
          "OMN",
          "PAK",
          "PAN",
          "PER",
          "PHL",
          "PLW",
          "PNG",
          "POL",
          "PRK",
          "PRT",
          "PRY",
          "PSE",
          "QAT",
          "ROU",
          "RUS",
          "RWA",
          "SAU",
          "SDN",
          "SEN",
          "SGP",
          "SIDS",
          "SLB",
          "SLE",
          "SLV",
          "SMR",
          "SOM",
          "SRB",
          "SSD",
          "STP",
          "SUR",
          "SVK",
          "SVN",
          "SWE",
          "SWZ",
          "SYC",
          "SYR",
          "TCD",
          "TGO",
          "THA",
          "TJK",
          "TKM",
          "TLS",
          "TON",
          "TTO",
          "TUN",
          "TUR",
          "TUV",
          "TZA",
          "UGA",
          "UKR",
          "URY",
          "USA",
          "UZB",
          "Umbrella",
          "VAT",
          "VCT",
          "VEN",
          "VNM",
          "VUT",
          "WSM",
          "YEM",
          "ZAF",
          "ZMB",
          "ZWE",
          "GRL"
         ],
         "marker": {
          "line": {
           "color": "black",
           "width": 0
          }
         },
         "name": "",
         "showscale": false,
         "type": "choropleth",
         "z": [
          -0.5,
          -0.5,
          -0.5,
          -0.5,
          -0.5,
          -0.5,
          -0.5,
          -0.5,
          -0.5,
          -0.5,
          -0.5,
          -0.5,
          -0.5,
          -0.5,
          -0.5,
          -0.5,
          -0.5,
          -0.5,
          -0.5,
          -0.5,
          -0.5,
          -0.5,
          -0.5,
          -0.5,
          -0.5,
          -0.5,
          -0.5,
          -0.5,
          -0.5,
          -0.5,
          -0.5,
          -0.5,
          -0.5,
          -0.5,
          -0.5,
          -0.5,
          -0.5,
          -0.5,
          -0.5,
          -0.5,
          -0.5,
          -0.5,
          -0.5,
          -0.5,
          -0.5,
          -0.5,
          -0.5,
          -0.5,
          -0.5,
          -0.5,
          -0.5,
          -0.5,
          -0.5,
          -0.5,
          -0.5,
          -0.5,
          -0.5,
          -0.5,
          -0.5,
          -0.5,
          -0.5,
          -0.5,
          -0.5,
          -0.5,
          -0.5,
          -0.5,
          -0.5,
          -0.5,
          -0.5,
          -0.5,
          -0.5,
          -0.5,
          -0.5,
          -0.5,
          -0.5,
          -0.5,
          -0.5,
          -0.5,
          -0.5,
          -0.5,
          -0.5,
          -0.5,
          -0.5,
          -0.5,
          -0.5,
          -0.5,
          -0.5,
          -0.5,
          -0.5,
          -0.5,
          -0.5,
          -0.5,
          -0.5,
          -0.5,
          -0.5,
          -0.5,
          -0.5,
          -0.5,
          -0.5,
          -0.5,
          -0.5,
          -0.5,
          -0.5,
          -0.5,
          -0.5,
          -0.5,
          -0.5,
          -0.5,
          -0.5,
          -0.5,
          -0.5,
          -0.5,
          -0.5,
          -0.5,
          -0.5,
          -0.5,
          -0.5,
          -0.5,
          -0.5,
          -0.5,
          -0.5,
          -0.5,
          -0.5,
          -0.5,
          -0.5,
          -0.5,
          -0.5,
          -0.5,
          -0.5,
          -0.5,
          -0.5,
          -0.5,
          -0.5,
          -0.5,
          -0.5,
          -0.5,
          -0.5,
          -0.5,
          -0.5,
          -0.5,
          -0.5,
          -0.5,
          -0.5,
          -0.5,
          -0.5,
          -0.5,
          -0.5,
          -0.5,
          -0.5,
          -0.5,
          -0.5,
          -0.5,
          -0.5,
          -0.5,
          -0.5,
          -0.5,
          -0.5,
          -0.5,
          -0.5,
          -0.5,
          -0.5,
          -0.5,
          -0.5,
          -0.5,
          -0.5,
          -0.5,
          -0.5,
          -0.5,
          -0.5,
          -0.5,
          -0.5,
          -0.5,
          -0.5,
          -0.5,
          -0.5,
          -0.5,
          -0.5,
          -0.5,
          -0.5,
          -0.5,
          -0.5,
          -0.5,
          -0.5,
          -0.5,
          -0.5,
          -0.5,
          -0.5,
          -0.5,
          -0.5,
          -0.5,
          -0.5,
          -0.5,
          -0.5,
          -0.5,
          -0.5,
          -0.5,
          -0.5,
          -0.5,
          -0.5,
          -0.5,
          -0.5,
          -0.5,
          -0.5,
          -0.5,
          -0.5,
          -0.5,
          -0.5,
          -0.5
         ],
         "zmax": 1,
         "zmin": -1
        },
        {
         "colorbar": {
          "len": 0.5,
          "lenmode": "fraction",
          "orientation": "h",
          "thickness": 20,
          "thicknessmode": "pixels",
          "tickfont": {
           "size": 14
          },
          "ticktext": [
           "100%<br>More allocated than cost-optimal",
           "50%",
           "0%",
           "50%",
           "100%<br>Less allocated than cost-optimal"
          ],
          "tickvals": [
           -1,
           -0.5,
           0,
           0.5,
           1
          ],
          "title": {
           "font": {
            "size": 14
           },
           "side": "bottom",
           "text": "Fraction of mitigation in 2030 non-domestic"
          },
          "x": 0.25,
          "xanchor": "left",
          "y": 0.02,
          "yanchor": "bottom"
         },
         "colorscale": [
          [
           0,
           "rgb(40, 135, 161)"
          ],
          [
           0.16666666666666666,
           "rgb(121, 167, 172)"
          ],
          [
           0.3333333333333333,
           "rgb(181, 200, 184)"
          ],
          [
           0.5,
           "rgb(237, 234, 194)"
          ],
          [
           0.6666666666666666,
           "rgb(214, 189, 141)"
          ],
          [
           0.8333333333333334,
           "rgb(189, 146, 90)"
          ],
          [
           1,
           "rgb(161, 105, 40)"
          ]
         ],
         "geo": "geo3",
         "hovertemplate": "%{text}",
         "locationmode": "ISO-3",
         "locations": [
          "ARG",
          "AUS",
          "BRA",
          "CAN",
          "CHN",
          "COL",
          "EU",
          "IDN",
          "IND",
          "JPN",
          "KOR",
          "MEX",
          "PAK",
          "RUS",
          "SAU",
          "TUR",
          "USA",
          "ZAF"
         ],
         "marker": {
          "line": {
           "color": "black",
           "width": 0.1
          }
         },
         "name": "",
         "showscale": true,
         "text": [
          "ARG: 70.2 %",
          "AUS: 75.5 %",
          "BRA: -28.3 %",
          "CAN: 42.5 %",
          "CHN: 14.6 %",
          "COL: 26.8 %",
          "EU: 46.0 %",
          "IDN: -29.2 %",
          "IND: -12.0 %",
          "JPN: 37.9 %",
          "KOR: 66.9 %",
          "MEX: 20.3 %",
          "PAK: -64.6 %",
          "RUS: 98.6 %",
          "SAU: 110.1 %",
          "TUR: 29.0 %",
          "USA: 53.7 %",
          "ZAF: 3.9 %"
         ],
         "type": "choropleth",
         "z": [
          0.7020014486071238,
          0.7550782130670932,
          -0.28253017655031387,
          0.424907240651184,
          0.14616649717842445,
          0.2678213060518091,
          0.45974714196333766,
          -0.2915623069794522,
          -0.11998111895211083,
          0.3787998361368463,
          0.6686786749284945,
          0.20287369310811232,
          -0.6459013512727472,
          0.9855172111718,
          1.1012870560637515,
          0.29031883180501805,
          0.5372924077290409,
          0.039132780007046675
         ],
         "zmax": 1,
         "zmin": -1
        },
        {
         "colorbar": {
          "title": {
           "side": "bottom"
          }
         },
         "colorscale": [
          [
           0,
           "rgb(40, 135, 161)"
          ],
          [
           0.16666666666666666,
           "rgb(121, 167, 172)"
          ],
          [
           0.3333333333333333,
           "rgb(181, 200, 184)"
          ],
          [
           0.5,
           "rgb(237, 234, 194)"
          ],
          [
           0.6666666666666666,
           "rgb(214, 189, 141)"
          ],
          [
           0.8333333333333334,
           "rgb(189, 146, 90)"
          ],
          [
           1,
           "rgb(161, 105, 40)"
          ]
         ],
         "geo": "geo3",
         "hovertemplate": "%{text}",
         "locationmode": "ISO-3",
         "locations": [
          "AUT",
          "BEL",
          "BGR",
          "HRV",
          "CYP",
          "CZE",
          "DNK",
          "EST",
          "FIN",
          "FRA",
          "DEU",
          "GRC",
          "HUN",
          "IRL",
          "ITA",
          "LVA",
          "LTU",
          "LUX",
          "MLT",
          "NLD",
          "POL",
          "PRT",
          "ROU",
          "SVK",
          "SVN",
          "ESP",
          "SWE"
         ],
         "marker": {
          "line": {
           "color": "black",
           "width": 0.1
          }
         },
         "name": "",
         "showscale": false,
         "type": "choropleth",
         "z": [
          0.45974714196333766,
          0.45974714196333766,
          0.45974714196333766,
          0.45974714196333766,
          0.45974714196333766,
          0.45974714196333766,
          0.45974714196333766,
          0.45974714196333766,
          0.45974714196333766,
          0.45974714196333766,
          0.45974714196333766,
          0.45974714196333766,
          0.45974714196333766,
          0.45974714196333766,
          0.45974714196333766,
          0.45974714196333766,
          0.45974714196333766,
          0.45974714196333766,
          0.45974714196333766,
          0.45974714196333766,
          0.45974714196333766,
          0.45974714196333766,
          0.45974714196333766,
          0.45974714196333766,
          0.45974714196333766,
          0.45974714196333766,
          0.45974714196333766
         ],
         "zmax": 1,
         "zmin": -1
        },
        {
         "colorbar": {
          "title": {
           "side": "bottom"
          }
         },
         "colorscale": [
          [
           0,
           "rgb(40, 135, 161)"
          ],
          [
           0.16666666666666666,
           "rgb(121, 167, 172)"
          ],
          [
           0.3333333333333333,
           "rgb(181, 200, 184)"
          ],
          [
           0.5,
           "rgb(237, 234, 194)"
          ],
          [
           0.6666666666666666,
           "rgb(214, 189, 141)"
          ],
          [
           0.8333333333333334,
           "rgb(189, 146, 90)"
          ],
          [
           1,
           "rgb(161, 105, 40)"
          ]
         ],
         "geo": "geo3",
         "hovertemplate": "%{text}",
         "locationmode": "ISO-3",
         "locations": [
          "ARG",
          "AUS",
          "CAN",
          "CHN",
          "COL",
          "EU",
          "JPN",
          "KOR",
          "MEX",
          "RUS",
          "SAU",
          "TUR",
          "USA",
          "ZAF"
         ],
         "marker": {
          "line": {
           "color": "black",
           "width": 2
          }
         },
         "name": "",
         "showscale": false,
         "text": [
          "ARG: 70.2 %",
          "AUS: 75.5 %",
          "CAN: 42.5 %",
          "CHN: 14.6 %",
          "COL: 26.8 %",
          "EU: 46.0 %",
          "JPN: 37.9 %",
          "KOR: 66.9 %",
          "MEX: 20.3 %",
          "RUS: 98.6 %",
          "SAU: 110.1 %",
          "TUR: 29.0 %",
          "USA: 53.7 %",
          "ZAF: 3.9 %"
         ],
         "type": "choropleth",
         "z": [
          0.7020014486071238,
          0.7550782130670932,
          0.424907240651184,
          0.14616649717842445,
          0.2678213060518091,
          0.45974714196333766,
          0.3787998361368463,
          0.6686786749284945,
          0.20287369310811232,
          0.9855172111718,
          1.1012870560637515,
          0.29031883180501805,
          0.5372924077290409,
          0.039132780007046675
         ],
         "zmax": 1,
         "zmin": -1
        },
        {
         "colorbar": {
          "title": {
           "side": "bottom"
          }
         },
         "colorscale": [
          [
           0,
           "rgb(40, 135, 161)"
          ],
          [
           0.16666666666666666,
           "rgb(121, 167, 172)"
          ],
          [
           0.3333333333333333,
           "rgb(181, 200, 184)"
          ],
          [
           0.5,
           "rgb(237, 234, 194)"
          ],
          [
           0.6666666666666666,
           "rgb(214, 189, 141)"
          ],
          [
           0.8333333333333334,
           "rgb(189, 146, 90)"
          ],
          [
           1,
           "rgb(161, 105, 40)"
          ]
         ],
         "geo": "geo3",
         "hovertemplate": "%{text}",
         "locationmode": "ISO-3",
         "locations": [
          "AUT",
          "BEL",
          "BGR",
          "HRV",
          "CYP",
          "CZE",
          "DNK",
          "EST",
          "FIN",
          "FRA",
          "DEU",
          "GRC",
          "HUN",
          "IRL",
          "ITA",
          "LVA",
          "LTU",
          "LUX",
          "MLT",
          "NLD",
          "POL",
          "PRT",
          "ROU",
          "SVK",
          "SVN",
          "ESP",
          "SWE"
         ],
         "marker": {
          "line": {
           "color": "black",
           "width": 2
          }
         },
         "name": "",
         "showscale": false,
         "type": "choropleth",
         "z": [
          0.45974714196333766,
          0.45974714196333766,
          0.45974714196333766,
          0.45974714196333766,
          0.45974714196333766,
          0.45974714196333766,
          0.45974714196333766,
          0.45974714196333766,
          0.45974714196333766,
          0.45974714196333766,
          0.45974714196333766,
          0.45974714196333766,
          0.45974714196333766,
          0.45974714196333766,
          0.45974714196333766,
          0.45974714196333766,
          0.45974714196333766,
          0.45974714196333766,
          0.45974714196333766,
          0.45974714196333766,
          0.45974714196333766,
          0.45974714196333766,
          0.45974714196333766,
          0.45974714196333766,
          0.45974714196333766,
          0.45974714196333766,
          0.45974714196333766
         ],
         "zmax": 1,
         "zmin": -1
        },
        {
         "colorbar": {
          "title": {
           "side": "bottom"
          }
         },
         "colorscale": [
          [
           0,
           "rgb(255,255,255)"
          ],
          [
           0.125,
           "rgb(240,240,240)"
          ],
          [
           0.25,
           "rgb(217,217,217)"
          ],
          [
           0.375,
           "rgb(189,189,189)"
          ],
          [
           0.5,
           "rgb(150,150,150)"
          ],
          [
           0.625,
           "rgb(115,115,115)"
          ],
          [
           0.75,
           "rgb(82,82,82)"
          ],
          [
           0.875,
           "rgb(37,37,37)"
          ],
          [
           1,
           "rgb(0,0,0)"
          ]
         ],
         "geo": "geo4",
         "hovertemplate": "%{text}",
         "locationmode": "ISO-3",
         "locations": [
          "AFG",
          "AGO",
          "ALB",
          "AND",
          "ARE",
          "ARG",
          "ARM",
          "ATG",
          "AUS",
          "AUT",
          "AZE",
          "African Group",
          "Australasia",
          "BDI",
          "BEL",
          "BEN",
          "BFA",
          "BGD",
          "BGR",
          "BHR",
          "BHS",
          "BIH",
          "BLR",
          "BLZ",
          "BOL",
          "BRA",
          "BRB",
          "BRN",
          "BTN",
          "BWA",
          "CAF",
          "CAN",
          "CHE",
          "CHL",
          "CHN",
          "CIV",
          "CMR",
          "COD",
          "COG",
          "COK",
          "COL",
          "COM",
          "CPV",
          "CRI",
          "CUB",
          "CYP",
          "CZE",
          "DEU",
          "DJI",
          "DMA",
          "DNK",
          "DOM",
          "DZA",
          "EARTH",
          "ECU",
          "EGY",
          "ERI",
          "ESP",
          "EST",
          "ETH",
          "EU",
          "FIN",
          "FJI",
          "FRA",
          "FSM",
          "G20",
          "G7",
          "GAB",
          "GBR",
          "GEO",
          "GHA",
          "GIN",
          "GMB",
          "GNB",
          "GNQ",
          "GRC",
          "GRD",
          "GTM",
          "GUY",
          "HND",
          "HRV",
          "HTI",
          "HUN",
          "IDN",
          "IND",
          "IRL",
          "IRN",
          "IRQ",
          "ISL",
          "ISR",
          "ITA",
          "JAM",
          "JOR",
          "JPN",
          "KAZ",
          "KEN",
          "KGZ",
          "KHM",
          "KIR",
          "KNA",
          "KOR",
          "KWT",
          "LAO",
          "LBN",
          "LBR",
          "LBY",
          "LCA",
          "LDC",
          "LIE",
          "LKA",
          "LSO",
          "LTU",
          "LUX",
          "LVA",
          "MAR",
          "MCO",
          "MDA",
          "MDG",
          "MDV",
          "MEX",
          "MHL",
          "MKD",
          "MLI",
          "MLT",
          "MMR",
          "MNE",
          "MNG",
          "MOZ",
          "MRT",
          "MUS",
          "MWI",
          "MYS",
          "NAM",
          "NER",
          "NGA",
          "NIC",
          "NIU",
          "NLD",
          "NOR",
          "NPL",
          "NRU",
          "NZL",
          "Northern America",
          "OMN",
          "PAK",
          "PAN",
          "PER",
          "PHL",
          "PLW",
          "PNG",
          "POL",
          "PRK",
          "PRT",
          "PRY",
          "PSE",
          "QAT",
          "ROU",
          "RUS",
          "RWA",
          "SAU",
          "SDN",
          "SEN",
          "SGP",
          "SIDS",
          "SLB",
          "SLE",
          "SLV",
          "SMR",
          "SOM",
          "SRB",
          "SSD",
          "STP",
          "SUR",
          "SVK",
          "SVN",
          "SWE",
          "SWZ",
          "SYC",
          "SYR",
          "TCD",
          "TGO",
          "THA",
          "TJK",
          "TKM",
          "TLS",
          "TON",
          "TTO",
          "TUN",
          "TUR",
          "TUV",
          "TZA",
          "UGA",
          "UKR",
          "URY",
          "USA",
          "UZB",
          "Umbrella",
          "VAT",
          "VCT",
          "VEN",
          "VNM",
          "VUT",
          "WSM",
          "YEM",
          "ZAF",
          "ZMB",
          "ZWE",
          "GRL"
         ],
         "marker": {
          "line": {
           "color": "black",
           "width": 0
          }
         },
         "name": "",
         "showscale": false,
         "type": "choropleth",
         "z": [
          -0.5,
          -0.5,
          -0.5,
          -0.5,
          -0.5,
          -0.5,
          -0.5,
          -0.5,
          -0.5,
          -0.5,
          -0.5,
          -0.5,
          -0.5,
          -0.5,
          -0.5,
          -0.5,
          -0.5,
          -0.5,
          -0.5,
          -0.5,
          -0.5,
          -0.5,
          -0.5,
          -0.5,
          -0.5,
          -0.5,
          -0.5,
          -0.5,
          -0.5,
          -0.5,
          -0.5,
          -0.5,
          -0.5,
          -0.5,
          -0.5,
          -0.5,
          -0.5,
          -0.5,
          -0.5,
          -0.5,
          -0.5,
          -0.5,
          -0.5,
          -0.5,
          -0.5,
          -0.5,
          -0.5,
          -0.5,
          -0.5,
          -0.5,
          -0.5,
          -0.5,
          -0.5,
          -0.5,
          -0.5,
          -0.5,
          -0.5,
          -0.5,
          -0.5,
          -0.5,
          -0.5,
          -0.5,
          -0.5,
          -0.5,
          -0.5,
          -0.5,
          -0.5,
          -0.5,
          -0.5,
          -0.5,
          -0.5,
          -0.5,
          -0.5,
          -0.5,
          -0.5,
          -0.5,
          -0.5,
          -0.5,
          -0.5,
          -0.5,
          -0.5,
          -0.5,
          -0.5,
          -0.5,
          -0.5,
          -0.5,
          -0.5,
          -0.5,
          -0.5,
          -0.5,
          -0.5,
          -0.5,
          -0.5,
          -0.5,
          -0.5,
          -0.5,
          -0.5,
          -0.5,
          -0.5,
          -0.5,
          -0.5,
          -0.5,
          -0.5,
          -0.5,
          -0.5,
          -0.5,
          -0.5,
          -0.5,
          -0.5,
          -0.5,
          -0.5,
          -0.5,
          -0.5,
          -0.5,
          -0.5,
          -0.5,
          -0.5,
          -0.5,
          -0.5,
          -0.5,
          -0.5,
          -0.5,
          -0.5,
          -0.5,
          -0.5,
          -0.5,
          -0.5,
          -0.5,
          -0.5,
          -0.5,
          -0.5,
          -0.5,
          -0.5,
          -0.5,
          -0.5,
          -0.5,
          -0.5,
          -0.5,
          -0.5,
          -0.5,
          -0.5,
          -0.5,
          -0.5,
          -0.5,
          -0.5,
          -0.5,
          -0.5,
          -0.5,
          -0.5,
          -0.5,
          -0.5,
          -0.5,
          -0.5,
          -0.5,
          -0.5,
          -0.5,
          -0.5,
          -0.5,
          -0.5,
          -0.5,
          -0.5,
          -0.5,
          -0.5,
          -0.5,
          -0.5,
          -0.5,
          -0.5,
          -0.5,
          -0.5,
          -0.5,
          -0.5,
          -0.5,
          -0.5,
          -0.5,
          -0.5,
          -0.5,
          -0.5,
          -0.5,
          -0.5,
          -0.5,
          -0.5,
          -0.5,
          -0.5,
          -0.5,
          -0.5,
          -0.5,
          -0.5,
          -0.5,
          -0.5,
          -0.5,
          -0.5,
          -0.5,
          -0.5,
          -0.5,
          -0.5,
          -0.5,
          -0.5,
          -0.5,
          -0.5,
          -0.5,
          -0.5,
          -0.5,
          -0.5,
          -0.5,
          -0.5,
          -0.5,
          -0.5,
          -0.5
         ],
         "zmax": 1,
         "zmin": -1
        },
        {
         "colorbar": {
          "len": 0.5,
          "lenmode": "fraction",
          "orientation": "h",
          "thickness": 20,
          "thicknessmode": "pixels",
          "tickfont": {
           "size": 14
          },
          "ticktext": [
           "100%<br>More allocated than cost-optimal",
           "50%",
           "0%",
           "50%",
           "100%<br>Less allocated than cost-optimal"
          ],
          "tickvals": [
           -1,
           -0.5,
           0,
           0.5,
           1
          ],
          "title": {
           "font": {
            "size": 14
           },
           "side": "bottom",
           "text": "Fraction of mitigation in 2030 non-domestic"
          },
          "x": 0.25,
          "xanchor": "left",
          "y": 0.02,
          "yanchor": "bottom"
         },
         "colorscale": [
          [
           0,
           "rgb(40, 135, 161)"
          ],
          [
           0.16666666666666666,
           "rgb(121, 167, 172)"
          ],
          [
           0.3333333333333333,
           "rgb(181, 200, 184)"
          ],
          [
           0.5,
           "rgb(237, 234, 194)"
          ],
          [
           0.6666666666666666,
           "rgb(214, 189, 141)"
          ],
          [
           0.8333333333333334,
           "rgb(189, 146, 90)"
          ],
          [
           1,
           "rgb(161, 105, 40)"
          ]
         ],
         "geo": "geo4",
         "hovertemplate": "%{text}",
         "locationmode": "ISO-3",
         "locations": [
          "ARG",
          "AUS",
          "BRA",
          "CAN",
          "CHN",
          "COL",
          "EU",
          "IDN",
          "IND",
          "JPN",
          "KOR",
          "MEX",
          "PAK",
          "RUS",
          "SAU",
          "TUR",
          "USA",
          "ZAF"
         ],
         "marker": {
          "line": {
           "color": "black",
           "width": 0.1
          }
         },
         "name": "",
         "showscale": true,
         "text": [
          "ARG: 2.7 %",
          "AUS: -0.1 %",
          "BRA: -52.9 %",
          "CAN: -18.6 %",
          "CHN: -32.8 %",
          "COL: -25.0 %",
          "EU: -11.8 %",
          "IDN: -54.9 %",
          "IND: -45.4 %",
          "JPN: -17.6 %",
          "KOR: -2.5 %",
          "MEX: -29.8 %",
          "PAK: -79.2 %",
          "RUS: 14.6 %",
          "SAU: 1.4 %",
          "TUR: -25.3 %",
          "USA: -11.7 %",
          "ZAF: -29.5 %"
         ],
         "type": "choropleth",
         "z": [
          0.027432582758412316,
          -0.0006332359115674979,
          -0.5285640975418806,
          -0.1857769672300965,
          -0.3277881548478738,
          -0.2497183337490656,
          -0.11848609405732669,
          -0.5488128859846428,
          -0.4540517731856256,
          -0.17586497834815262,
          -0.025184644847802362,
          -0.29825616455369874,
          -0.7922983258302838,
          0.14604721571329882,
          0.013938450468049757,
          -0.2532940063668293,
          -0.1166231790413288,
          -0.29483658875462826
         ],
         "zmax": 1,
         "zmin": -1
        },
        {
         "colorbar": {
          "title": {
           "side": "bottom"
          }
         },
         "colorscale": [
          [
           0,
           "rgb(40, 135, 161)"
          ],
          [
           0.16666666666666666,
           "rgb(121, 167, 172)"
          ],
          [
           0.3333333333333333,
           "rgb(181, 200, 184)"
          ],
          [
           0.5,
           "rgb(237, 234, 194)"
          ],
          [
           0.6666666666666666,
           "rgb(214, 189, 141)"
          ],
          [
           0.8333333333333334,
           "rgb(189, 146, 90)"
          ],
          [
           1,
           "rgb(161, 105, 40)"
          ]
         ],
         "geo": "geo4",
         "hovertemplate": "%{text}",
         "locationmode": "ISO-3",
         "locations": [
          "AUT",
          "BEL",
          "BGR",
          "HRV",
          "CYP",
          "CZE",
          "DNK",
          "EST",
          "FIN",
          "FRA",
          "DEU",
          "GRC",
          "HUN",
          "IRL",
          "ITA",
          "LVA",
          "LTU",
          "LUX",
          "MLT",
          "NLD",
          "POL",
          "PRT",
          "ROU",
          "SVK",
          "SVN",
          "ESP",
          "SWE"
         ],
         "marker": {
          "line": {
           "color": "black",
           "width": 0.1
          }
         },
         "name": "",
         "showscale": false,
         "type": "choropleth",
         "z": [
          -0.11848609405732669,
          -0.11848609405732669,
          -0.11848609405732669,
          -0.11848609405732669,
          -0.11848609405732669,
          -0.11848609405732669,
          -0.11848609405732669,
          -0.11848609405732669,
          -0.11848609405732669,
          -0.11848609405732669,
          -0.11848609405732669,
          -0.11848609405732669,
          -0.11848609405732669,
          -0.11848609405732669,
          -0.11848609405732669,
          -0.11848609405732669,
          -0.11848609405732669,
          -0.11848609405732669,
          -0.11848609405732669,
          -0.11848609405732669,
          -0.11848609405732669,
          -0.11848609405732669,
          -0.11848609405732669,
          -0.11848609405732669,
          -0.11848609405732669,
          -0.11848609405732669,
          -0.11848609405732669
         ],
         "zmax": 1,
         "zmin": -1
        },
        {
         "colorbar": {
          "title": {
           "side": "bottom"
          }
         },
         "colorscale": [
          [
           0,
           "rgb(40, 135, 161)"
          ],
          [
           0.16666666666666666,
           "rgb(121, 167, 172)"
          ],
          [
           0.3333333333333333,
           "rgb(181, 200, 184)"
          ],
          [
           0.5,
           "rgb(237, 234, 194)"
          ],
          [
           0.6666666666666666,
           "rgb(214, 189, 141)"
          ],
          [
           0.8333333333333334,
           "rgb(189, 146, 90)"
          ],
          [
           1,
           "rgb(161, 105, 40)"
          ]
         ],
         "geo": "geo4",
         "hovertemplate": "%{text}",
         "locationmode": "ISO-3",
         "locations": [
          "ARG",
          "RUS",
          "SAU"
         ],
         "marker": {
          "line": {
           "color": "black",
           "width": 2
          }
         },
         "name": "",
         "showscale": false,
         "text": [
          "ARG: 2.7 %",
          "RUS: 14.6 %",
          "SAU: 1.4 %"
         ],
         "type": "choropleth",
         "z": [
          0.027432582758412316,
          0.14604721571329882,
          0.013938450468049757
         ],
         "zmax": 1,
         "zmin": -1
        }
       ],
       "layout": {
        "annotations": [
         {
          "font": {
           "color": "black",
           "size": 20
          },
          "showarrow": false,
          "text": "<b>(a) Evaluation NDCs in light of default allocations</b>",
          "x": 0.01,
          "xref": "paper",
          "y": 1.02,
          "yref": "paper"
         },
         {
          "font": {
           "color": "black",
           "size": 20
          },
          "showarrow": false,
          "text": "<b>(b) Evaluation NDCs in light of maximum allocations",
          "x": 0.895,
          "xanchor": "right",
          "xref": "paper",
          "y": 1.02,
          "yref": "paper"
         },
         {
          "font": {
           "color": "black",
           "size": 20
          },
          "showarrow": false,
          "text": "<b>(c) Comparison cost-optimal pathways to default allocations",
          "x": 0.01,
          "xanchor": "left",
          "xref": "paper",
          "y": 0.5,
          "yref": "paper"
         },
         {
          "font": {
           "color": "black",
           "size": 20
          },
          "showarrow": false,
          "text": "<b>(d) Comparison cost-optimal pathways to maximum allocations",
          "x": 0.98,
          "xanchor": "right",
          "xref": "paper",
          "y": 0.5,
          "yref": "paper"
         },
         {
          "font": {
           "color": "black",
           "size": 14
          },
          "showarrow": false,
          "text": "<b>United States</b> has 53% more<br>cost-optimal emissions (in 2030)<br>than would be fair to emit<br>on default settings",
          "x": 0,
          "xanchor": "left",
          "xref": "paper",
          "y": 0.12,
          "yref": "paper"
         },
         {
          "font": {
           "color": "black",
           "size": 14
          },
          "showarrow": false,
          "text": "When looking at the highest potentially<br>fair allocation for <b>Australia</b>,<br>this country is allocated equal emissions<br>as would be cost-optimal to emit here",
          "x": 0.99,
          "xanchor": "right",
          "xref": "paper",
          "y": 0.04,
          "yref": "paper"
         },
         {
          "font": {
           "color": "black",
           "size": 14
          },
          "showarrow": false,
          "text": "<b>Russia</b> is always allocated less<br>than is cost-optimal to emit there",
          "x": 0.83,
          "xanchor": "right",
          "xref": "paper",
          "y": 0.25,
          "yref": "paper"
         },
         {
          "font": {
           "color": "black",
           "size": 14
          },
          "showarrow": false,
          "text": "All reddish/bold countries here have<br>insufficient NDCs, even when looking<br>at the highest potentially fair allocation",
          "x": 0.95,
          "xanchor": "right",
          "xref": "paper",
          "y": 0.59,
          "yref": "paper"
         },
         {
          "font": {
           "color": "black",
           "size": 14
          },
          "showarrow": false,
          "text": "Most of the Global North together<br>with countries like Australia and Argentina<br>have insufficient NDCs when compared<br>to default fair share allocations",
          "x": 0,
          "xanchor": "left",
          "xref": "paper",
          "y": 0.59,
          "yref": "paper"
         }
        ],
        "geo": {
         "domain": {
          "x": [
           0,
           0.5
          ],
          "y": [
           0.5,
           1
          ]
         },
         "lakecolor": "rgb(255, 255, 255)",
         "landcolor": "grey",
         "projection": {
          "type": "natural earth"
         },
         "resolution": 110,
         "showcoastlines": false,
         "showlakes": false,
         "visible": false
        },
        "geo2": {
         "domain": {
          "x": [
           0.5,
           1
          ],
          "y": [
           0.5,
           1
          ]
         },
         "lakecolor": "rgb(255, 255, 255)",
         "landcolor": "grey",
         "projection": {
          "type": "natural earth"
         },
         "resolution": 110,
         "showcoastlines": false,
         "showlakes": false,
         "visible": false
        },
        "geo3": {
         "domain": {
          "x": [
           0,
           0.5
          ],
          "y": [
           0,
           0.5
          ]
         },
         "lakecolor": "rgb(255, 255, 255)",
         "landcolor": "grey",
         "projection": {
          "type": "natural earth"
         },
         "resolution": 110,
         "showcoastlines": false,
         "showlakes": false,
         "visible": false
        },
        "geo4": {
         "domain": {
          "x": [
           0.5,
           1
          ],
          "y": [
           0,
           0.5
          ]
         },
         "lakecolor": "rgb(255, 255, 255)",
         "landcolor": "grey",
         "projection": {
          "type": "natural earth"
         },
         "resolution": 110,
         "showcoastlines": false,
         "showlakes": false,
         "visible": false
        },
        "height": 1100,
        "shapes": [
         {
          "line": {
           "color": "black",
           "width": 2
          },
          "type": "line",
          "x0": 0.08,
          "x1": 0.12,
          "xref": "paper",
          "y0": 0.2,
          "y1": 0.35,
          "yref": "paper"
         },
         {
          "line": {
           "color": "black",
           "width": 2
          },
          "type": "line",
          "x0": 0.75,
          "x1": 0.85,
          "xref": "paper",
          "y0": 0.29,
          "y1": 0.4,
          "yref": "paper"
         },
         {
          "line": {
           "color": "black",
           "width": 2
          },
          "type": "line",
          "x0": 0.9,
          "x1": 0.93,
          "xref": "paper",
          "y0": 0.12,
          "y1": 0.18,
          "yref": "paper"
         },
         {
          "line": {
           "color": "black",
           "width": 2
          },
          "type": "line",
          "x0": 0.08,
          "x1": 0.12,
          "xref": "paper",
          "y0": 0.63,
          "y1": 0.85,
          "yref": "paper"
         },
         {
          "line": {
           "color": "black",
           "width": 2
          },
          "type": "line",
          "x0": 0.87,
          "x1": 0.85,
          "xref": "paper",
          "y0": 0.62,
          "y1": 0.9,
          "yref": "paper"
         }
        ],
        "template": {
         "data": {
          "bar": [
           {
            "error_x": {
             "color": "#2a3f5f"
            },
            "error_y": {
             "color": "#2a3f5f"
            },
            "marker": {
             "line": {
              "color": "#E5ECF6",
              "width": 0.5
             },
             "pattern": {
              "fillmode": "overlay",
              "size": 10,
              "solidity": 0.2
             }
            },
            "type": "bar"
           }
          ],
          "barpolar": [
           {
            "marker": {
             "line": {
              "color": "#E5ECF6",
              "width": 0.5
             },
             "pattern": {
              "fillmode": "overlay",
              "size": 10,
              "solidity": 0.2
             }
            },
            "type": "barpolar"
           }
          ],
          "carpet": [
           {
            "aaxis": {
             "endlinecolor": "#2a3f5f",
             "gridcolor": "white",
             "linecolor": "white",
             "minorgridcolor": "white",
             "startlinecolor": "#2a3f5f"
            },
            "baxis": {
             "endlinecolor": "#2a3f5f",
             "gridcolor": "white",
             "linecolor": "white",
             "minorgridcolor": "white",
             "startlinecolor": "#2a3f5f"
            },
            "type": "carpet"
           }
          ],
          "choropleth": [
           {
            "colorbar": {
             "outlinewidth": 0,
             "ticks": ""
            },
            "type": "choropleth"
           }
          ],
          "contour": [
           {
            "colorbar": {
             "outlinewidth": 0,
             "ticks": ""
            },
            "colorscale": [
             [
              0,
              "#0d0887"
             ],
             [
              0.1111111111111111,
              "#46039f"
             ],
             [
              0.2222222222222222,
              "#7201a8"
             ],
             [
              0.3333333333333333,
              "#9c179e"
             ],
             [
              0.4444444444444444,
              "#bd3786"
             ],
             [
              0.5555555555555556,
              "#d8576b"
             ],
             [
              0.6666666666666666,
              "#ed7953"
             ],
             [
              0.7777777777777778,
              "#fb9f3a"
             ],
             [
              0.8888888888888888,
              "#fdca26"
             ],
             [
              1,
              "#f0f921"
             ]
            ],
            "type": "contour"
           }
          ],
          "contourcarpet": [
           {
            "colorbar": {
             "outlinewidth": 0,
             "ticks": ""
            },
            "type": "contourcarpet"
           }
          ],
          "heatmap": [
           {
            "colorbar": {
             "outlinewidth": 0,
             "ticks": ""
            },
            "colorscale": [
             [
              0,
              "#0d0887"
             ],
             [
              0.1111111111111111,
              "#46039f"
             ],
             [
              0.2222222222222222,
              "#7201a8"
             ],
             [
              0.3333333333333333,
              "#9c179e"
             ],
             [
              0.4444444444444444,
              "#bd3786"
             ],
             [
              0.5555555555555556,
              "#d8576b"
             ],
             [
              0.6666666666666666,
              "#ed7953"
             ],
             [
              0.7777777777777778,
              "#fb9f3a"
             ],
             [
              0.8888888888888888,
              "#fdca26"
             ],
             [
              1,
              "#f0f921"
             ]
            ],
            "type": "heatmap"
           }
          ],
          "heatmapgl": [
           {
            "colorbar": {
             "outlinewidth": 0,
             "ticks": ""
            },
            "colorscale": [
             [
              0,
              "#0d0887"
             ],
             [
              0.1111111111111111,
              "#46039f"
             ],
             [
              0.2222222222222222,
              "#7201a8"
             ],
             [
              0.3333333333333333,
              "#9c179e"
             ],
             [
              0.4444444444444444,
              "#bd3786"
             ],
             [
              0.5555555555555556,
              "#d8576b"
             ],
             [
              0.6666666666666666,
              "#ed7953"
             ],
             [
              0.7777777777777778,
              "#fb9f3a"
             ],
             [
              0.8888888888888888,
              "#fdca26"
             ],
             [
              1,
              "#f0f921"
             ]
            ],
            "type": "heatmapgl"
           }
          ],
          "histogram": [
           {
            "marker": {
             "pattern": {
              "fillmode": "overlay",
              "size": 10,
              "solidity": 0.2
             }
            },
            "type": "histogram"
           }
          ],
          "histogram2d": [
           {
            "colorbar": {
             "outlinewidth": 0,
             "ticks": ""
            },
            "colorscale": [
             [
              0,
              "#0d0887"
             ],
             [
              0.1111111111111111,
              "#46039f"
             ],
             [
              0.2222222222222222,
              "#7201a8"
             ],
             [
              0.3333333333333333,
              "#9c179e"
             ],
             [
              0.4444444444444444,
              "#bd3786"
             ],
             [
              0.5555555555555556,
              "#d8576b"
             ],
             [
              0.6666666666666666,
              "#ed7953"
             ],
             [
              0.7777777777777778,
              "#fb9f3a"
             ],
             [
              0.8888888888888888,
              "#fdca26"
             ],
             [
              1,
              "#f0f921"
             ]
            ],
            "type": "histogram2d"
           }
          ],
          "histogram2dcontour": [
           {
            "colorbar": {
             "outlinewidth": 0,
             "ticks": ""
            },
            "colorscale": [
             [
              0,
              "#0d0887"
             ],
             [
              0.1111111111111111,
              "#46039f"
             ],
             [
              0.2222222222222222,
              "#7201a8"
             ],
             [
              0.3333333333333333,
              "#9c179e"
             ],
             [
              0.4444444444444444,
              "#bd3786"
             ],
             [
              0.5555555555555556,
              "#d8576b"
             ],
             [
              0.6666666666666666,
              "#ed7953"
             ],
             [
              0.7777777777777778,
              "#fb9f3a"
             ],
             [
              0.8888888888888888,
              "#fdca26"
             ],
             [
              1,
              "#f0f921"
             ]
            ],
            "type": "histogram2dcontour"
           }
          ],
          "mesh3d": [
           {
            "colorbar": {
             "outlinewidth": 0,
             "ticks": ""
            },
            "type": "mesh3d"
           }
          ],
          "parcoords": [
           {
            "line": {
             "colorbar": {
              "outlinewidth": 0,
              "ticks": ""
             }
            },
            "type": "parcoords"
           }
          ],
          "pie": [
           {
            "automargin": true,
            "type": "pie"
           }
          ],
          "scatter": [
           {
            "fillpattern": {
             "fillmode": "overlay",
             "size": 10,
             "solidity": 0.2
            },
            "type": "scatter"
           }
          ],
          "scatter3d": [
           {
            "line": {
             "colorbar": {
              "outlinewidth": 0,
              "ticks": ""
             }
            },
            "marker": {
             "colorbar": {
              "outlinewidth": 0,
              "ticks": ""
             }
            },
            "type": "scatter3d"
           }
          ],
          "scattercarpet": [
           {
            "marker": {
             "colorbar": {
              "outlinewidth": 0,
              "ticks": ""
             }
            },
            "type": "scattercarpet"
           }
          ],
          "scattergeo": [
           {
            "marker": {
             "colorbar": {
              "outlinewidth": 0,
              "ticks": ""
             }
            },
            "type": "scattergeo"
           }
          ],
          "scattergl": [
           {
            "marker": {
             "colorbar": {
              "outlinewidth": 0,
              "ticks": ""
             }
            },
            "type": "scattergl"
           }
          ],
          "scattermapbox": [
           {
            "marker": {
             "colorbar": {
              "outlinewidth": 0,
              "ticks": ""
             }
            },
            "type": "scattermapbox"
           }
          ],
          "scatterpolar": [
           {
            "marker": {
             "colorbar": {
              "outlinewidth": 0,
              "ticks": ""
             }
            },
            "type": "scatterpolar"
           }
          ],
          "scatterpolargl": [
           {
            "marker": {
             "colorbar": {
              "outlinewidth": 0,
              "ticks": ""
             }
            },
            "type": "scatterpolargl"
           }
          ],
          "scatterternary": [
           {
            "marker": {
             "colorbar": {
              "outlinewidth": 0,
              "ticks": ""
             }
            },
            "type": "scatterternary"
           }
          ],
          "surface": [
           {
            "colorbar": {
             "outlinewidth": 0,
             "ticks": ""
            },
            "colorscale": [
             [
              0,
              "#0d0887"
             ],
             [
              0.1111111111111111,
              "#46039f"
             ],
             [
              0.2222222222222222,
              "#7201a8"
             ],
             [
              0.3333333333333333,
              "#9c179e"
             ],
             [
              0.4444444444444444,
              "#bd3786"
             ],
             [
              0.5555555555555556,
              "#d8576b"
             ],
             [
              0.6666666666666666,
              "#ed7953"
             ],
             [
              0.7777777777777778,
              "#fb9f3a"
             ],
             [
              0.8888888888888888,
              "#fdca26"
             ],
             [
              1,
              "#f0f921"
             ]
            ],
            "type": "surface"
           }
          ],
          "table": [
           {
            "cells": {
             "fill": {
              "color": "#EBF0F8"
             },
             "line": {
              "color": "white"
             }
            },
            "header": {
             "fill": {
              "color": "#C8D4E3"
             },
             "line": {
              "color": "white"
             }
            },
            "type": "table"
           }
          ]
         },
         "layout": {
          "annotationdefaults": {
           "arrowcolor": "#2a3f5f",
           "arrowhead": 0,
           "arrowwidth": 1
          },
          "autotypenumbers": "strict",
          "coloraxis": {
           "colorbar": {
            "outlinewidth": 0,
            "ticks": ""
           }
          },
          "colorscale": {
           "diverging": [
            [
             0,
             "#8e0152"
            ],
            [
             0.1,
             "#c51b7d"
            ],
            [
             0.2,
             "#de77ae"
            ],
            [
             0.3,
             "#f1b6da"
            ],
            [
             0.4,
             "#fde0ef"
            ],
            [
             0.5,
             "#f7f7f7"
            ],
            [
             0.6,
             "#e6f5d0"
            ],
            [
             0.7,
             "#b8e186"
            ],
            [
             0.8,
             "#7fbc41"
            ],
            [
             0.9,
             "#4d9221"
            ],
            [
             1,
             "#276419"
            ]
           ],
           "sequential": [
            [
             0,
             "#0d0887"
            ],
            [
             0.1111111111111111,
             "#46039f"
            ],
            [
             0.2222222222222222,
             "#7201a8"
            ],
            [
             0.3333333333333333,
             "#9c179e"
            ],
            [
             0.4444444444444444,
             "#bd3786"
            ],
            [
             0.5555555555555556,
             "#d8576b"
            ],
            [
             0.6666666666666666,
             "#ed7953"
            ],
            [
             0.7777777777777778,
             "#fb9f3a"
            ],
            [
             0.8888888888888888,
             "#fdca26"
            ],
            [
             1,
             "#f0f921"
            ]
           ],
           "sequentialminus": [
            [
             0,
             "#0d0887"
            ],
            [
             0.1111111111111111,
             "#46039f"
            ],
            [
             0.2222222222222222,
             "#7201a8"
            ],
            [
             0.3333333333333333,
             "#9c179e"
            ],
            [
             0.4444444444444444,
             "#bd3786"
            ],
            [
             0.5555555555555556,
             "#d8576b"
            ],
            [
             0.6666666666666666,
             "#ed7953"
            ],
            [
             0.7777777777777778,
             "#fb9f3a"
            ],
            [
             0.8888888888888888,
             "#fdca26"
            ],
            [
             1,
             "#f0f921"
            ]
           ]
          },
          "colorway": [
           "#636efa",
           "#EF553B",
           "#00cc96",
           "#ab63fa",
           "#FFA15A",
           "#19d3f3",
           "#FF6692",
           "#B6E880",
           "#FF97FF",
           "#FECB52"
          ],
          "font": {
           "color": "#2a3f5f"
          },
          "geo": {
           "bgcolor": "white",
           "lakecolor": "white",
           "landcolor": "#E5ECF6",
           "showlakes": true,
           "showland": true,
           "subunitcolor": "white"
          },
          "hoverlabel": {
           "align": "left"
          },
          "hovermode": "closest",
          "mapbox": {
           "style": "light"
          },
          "paper_bgcolor": "white",
          "plot_bgcolor": "#E5ECF6",
          "polar": {
           "angularaxis": {
            "gridcolor": "white",
            "linecolor": "white",
            "ticks": ""
           },
           "bgcolor": "#E5ECF6",
           "radialaxis": {
            "gridcolor": "white",
            "linecolor": "white",
            "ticks": ""
           }
          },
          "scene": {
           "xaxis": {
            "backgroundcolor": "#E5ECF6",
            "gridcolor": "white",
            "gridwidth": 2,
            "linecolor": "white",
            "showbackground": true,
            "ticks": "",
            "zerolinecolor": "white"
           },
           "yaxis": {
            "backgroundcolor": "#E5ECF6",
            "gridcolor": "white",
            "gridwidth": 2,
            "linecolor": "white",
            "showbackground": true,
            "ticks": "",
            "zerolinecolor": "white"
           },
           "zaxis": {
            "backgroundcolor": "#E5ECF6",
            "gridcolor": "white",
            "gridwidth": 2,
            "linecolor": "white",
            "showbackground": true,
            "ticks": "",
            "zerolinecolor": "white"
           }
          },
          "shapedefaults": {
           "line": {
            "color": "#2a3f5f"
           }
          },
          "ternary": {
           "aaxis": {
            "gridcolor": "white",
            "linecolor": "white",
            "ticks": ""
           },
           "baxis": {
            "gridcolor": "white",
            "linecolor": "white",
            "ticks": ""
           },
           "bgcolor": "#E5ECF6",
           "caxis": {
            "gridcolor": "white",
            "linecolor": "white",
            "ticks": ""
           }
          },
          "title": {
           "x": 0.05
          },
          "xaxis": {
           "automargin": true,
           "gridcolor": "white",
           "linecolor": "white",
           "ticks": "",
           "title": {
            "standoff": 15
           },
           "zerolinecolor": "white",
           "zerolinewidth": 2
          },
          "yaxis": {
           "automargin": true,
           "gridcolor": "white",
           "linecolor": "white",
           "ticks": "",
           "title": {
            "standoff": 15
           },
           "zerolinecolor": "white",
           "zerolinewidth": 2
          }
         }
        },
        "width": 1700
       }
      }
     },
     "metadata": {},
     "output_type": "display_data"
    }
   ],
   "source": [
    "fig = make_subplots(rows=2, cols=2,\n",
    "                    specs=[[{'type': 'choropleth'}, {'type': 'choropleth'}],\n",
    "                           [{'type': 'choropleth'}, {'type': 'choropleth'}]],\n",
    "                    horizontal_spacing = 0., vertical_spacing=0.0)\n",
    "for i in range(4):\n",
    "    dath = [(ndcs-data_def)/data_def,\n",
    "            (ndcs-data_max)/data_max,\n",
    "            (costopts.Value)/data_def-1,\n",
    "            (costopts.Value)/data_max-1][i]\n",
    "    dat = np.array(dath)\n",
    "    # if i>2:\n",
    "    #     dat[dat < 0] = 0\n",
    "    #scale = ['RdBu_r', 'RdBu_r', 'PuOr_r', 'PuOr_r'][i]\n",
    "    scale = ['RdYlBu_r', 'RdYlBu_r', 'Earth_r', 'Earth_r'][i]\n",
    "    dc = [dict(orientation='h', x=0.25, y=0.52, xanchor='left', yanchor='bottom', title='NDC deviation from emission allocation in 2030', tickvals=[-1, -0.5, 0, 0.5, 1],\n",
    "                        ticktext=['100%<br>NDC sufficient <', '50%', '0%', '50%', '100%<br>> NDC insufficient'],\n",
    "                        tickfont=dict(size=14),\n",
    "                        len=0.5, lenmode='fraction', thickness=20, thicknessmode='pixels', titlefont=dict(size=14)),\n",
    "          dict(orientation='h', x=0.25, y=0.52, xanchor='left', yanchor='bottom', title='NDC deviation from emission allocation in 2030', tickvals=[-1, -0.5, 0, 0.5, 1],\n",
    "                        ticktext=['100%<br>NDC sufficient <', '50%', '0%', '50%', '100%<br>> NDC insufficient'],\n",
    "                        tickfont=dict(size=14),\n",
    "                        len=0.5, lenmode='fraction', thickness=20, thicknessmode='pixels', titlefont=dict(size=14)),\n",
    "        dict(orientation='h', x=0.25, y=0.02, xanchor='left', yanchor='bottom', title='Fraction of mitigation in 2030 non-domestic', tickvals=[-1, -0.5, 0, 0.5, 1],\n",
    "                        ticktext=['100%<br>More allocated than cost-optimal', '50%', '0%', '50%', '100%<br>Less allocated than cost-optimal'],\n",
    "                        tickfont=dict(size=14),\n",
    "                        len=0.5, lenmode='fraction', thickness=20, thicknessmode='pixels', titlefont=dict(size=14)),\n",
    "        dict(orientation='h', x=0.25, y=0.02, xanchor='left', yanchor='bottom', title='Fraction of mitigation in 2030 non-domestic', tickvals=[-1, -0.5, 0, 0.5, 1],\n",
    "                        ticktext=['100%<br>More allocated than cost-optimal', '50%', '0%', '50%', '100%<br>Less allocated than cost-optimal'],\n",
    "                        tickfont=dict(size=14),\n",
    "                        len=0.5, lenmode='fraction', thickness=20, thicknessmode='pixels', titlefont=dict(size=14))][i]\n",
    "    \n",
    "    # Grey out nans\n",
    "    if i < 2:\n",
    "        wh = np.where(np.isnan(dat))[0]\n",
    "        fig.add_trace(go.Choropleth(\n",
    "                locations=list(np.array(dath.Region)[wh])+['GRL'],\n",
    "                z = [-0.5]*(len(dat[wh])+1),\n",
    "                locationmode = 'ISO-3',\n",
    "                colorscale ='Greys',\n",
    "                zmax = 1,\n",
    "                zmin = -1,\n",
    "                hovertemplate  = '%{text}',\n",
    "                name=\"\",\n",
    "                marker_line_color='black', \n",
    "                marker_line_width=0,\n",
    "                showscale=False,\n",
    "            ), [1, 1, 2, 2][i], [1, 2, 1, 2][i])\n",
    "    else:\n",
    "        fig.add_trace(go.Choropleth(\n",
    "                locations=list(np.array(data_def.Region))+['GRL'],\n",
    "                z = [-0.5]*(len(np.array(data_def.Region))+1),\n",
    "                locationmode = 'ISO-3',\n",
    "                colorscale ='Greys',\n",
    "                zmax = 1,\n",
    "                zmin = -1,\n",
    "                hovertemplate  = '%{text}',\n",
    "                name=\"\",\n",
    "                marker_line_color='black', \n",
    "                marker_line_width=0,\n",
    "                showscale=False,\n",
    "            ), [1, 1, 2, 2][i], [1, 2, 1, 2][i])\n",
    "    \n",
    "    fig.add_trace(go.Choropleth(\n",
    "            locations=np.array((dath).Region),\n",
    "            z = dat,\n",
    "            locationmode = 'ISO-3',\n",
    "            colorscale = scale,\n",
    "            zmax = 1,\n",
    "            zmin = -1,\n",
    "            text = [str(r)+\": \"+str(np.round(100*dat[r_i], 1))+\" %\" for r_i, r in enumerate(np.array((dath).Region))],\n",
    "            hovertemplate  = '%{text}',\n",
    "            name=\"\",\n",
    "            colorbar=dc,\n",
    "            marker_line_color='black', \n",
    "            marker_line_width=0.1,\n",
    "            showscale=True,\n",
    "        ), [1, 1, 2, 2][i], [1, 2, 1, 2][i])\n",
    "    \n",
    "    # EU\n",
    "    fig.add_trace(go.Choropleth(\n",
    "            locations=group_eu,\n",
    "            z = [dat[np.where(np.array((dath).Region) == 'EU')[0][0]]]*len(group_eu),\n",
    "            locationmode = 'ISO-3',\n",
    "            colorscale =scale,\n",
    "            zmax = 1,\n",
    "            zmin = -1,\n",
    "            #text = [str(r)+\": \"+str(np.round(100*dat[r_i], 1))+\" %\" for r_i, r in enumerate(group_eu)],\n",
    "            hovertemplate  = '%{text}',\n",
    "            name=\"\",\n",
    "            marker_line_color='black', \n",
    "            marker_line_width=0.1,\n",
    "            showscale=False,\n",
    "        ), [1, 1, 2, 2][i], [1, 2, 1, 2][i])\n",
    "    \n",
    "    # Emphasize >0\n",
    "    wh = np.where(np.array(dath) > 0)[0]\n",
    "    fig.add_trace(go.Choropleth(\n",
    "            locations=np.array((dath).Region)[wh],\n",
    "            z = dat[wh],\n",
    "            locationmode = 'ISO-3',\n",
    "            colorscale =scale,\n",
    "            zmax = 1,\n",
    "            zmin = -1,\n",
    "            text = [str(r)+\": \"+str(np.round(100*dat[wh][r_i], 1))+\" %\" for r_i, r in enumerate(np.array((dath).Region)[wh])],\n",
    "            hovertemplate  = '%{text}',\n",
    "            name=\"\",\n",
    "            marker_line_color='black', \n",
    "            marker_line_width=2,\n",
    "            showscale=False,\n",
    "        ), [1, 1, 2, 2][i], [1, 2, 1, 2][i])\n",
    "    \n",
    "    if 'EU' in np.array((dath).Region)[wh]:\n",
    "        fig.add_trace(go.Choropleth(\n",
    "                locations=group_eu,\n",
    "                z = [dat[np.where(np.array((dath).Region) == 'EU')[0][0]]]*len(group_eu),\n",
    "                locationmode = 'ISO-3',\n",
    "                colorscale =scale,\n",
    "                zmax = 1,\n",
    "                zmin = -1,\n",
    "                #text = [str(r)+\": \"+str(np.round(100*dat[r_i], 1))+\" %\" for r_i, r in enumerate(group_eu)],\n",
    "                hovertemplate  = '%{text}',\n",
    "                name=\"\",\n",
    "                marker_line_color='black', \n",
    "                marker_line_width=2,\n",
    "                showscale=False,\n",
    "        ), [1, 1, 2, 2][i], [1, 2, 1, 2][i])\n",
    "\n",
    "fs=20\n",
    "fig['layout'].update(\n",
    "    annotations=[dict(x=0.01, y=1.02, text='<b>(a) Evaluation NDCs in light of default allocations</b>', xref='paper', yref='paper', showarrow=False, font=dict(color='black', size=fs)),\n",
    "                 dict(x=0.895, y=1.02, text='<b>(b) Evaluation NDCs in light of maximum allocations', xref='paper', yref='paper', xanchor='right', showarrow=False, font=dict(color='black', size=fs)),\n",
    "                 dict(x=0.01, y=0.5, text='<b>(c) Comparison cost-optimal pathways to default allocations', xref='paper', yref='paper', xanchor='left', showarrow=False, font=dict(color='black', size=fs)),\n",
    "                 dict(x=0.98, y=0.5, text='<b>(d) Comparison cost-optimal pathways to maximum allocations', xref='paper', yref='paper', xanchor='right', showarrow=False, font=dict(color='black', size=fs)),\n",
    "\n",
    "                 dict(x=0.0, y=0.12, text='<b>United States</b> has 53% more<br>cost-optimal emissions (in 2030)<br>than would be fair to emit<br>on default settings', xref='paper', yref='paper', xanchor='left', showarrow=False, font=dict(color='black', size=14)),\n",
    "                 dict(x=0.99, y=0.04, text='When looking at the highest potentially<br>fair allocation for <b>Australia</b>,<br>this country is allocated equal emissions<br>as would be cost-optimal to emit here', xref='paper', yref='paper', xanchor='right', showarrow=False, font=dict(color='black', size=14)),\n",
    "                 dict(x=0.83, y=0.25, text='<b>Russia</b> is always allocated less<br>than is cost-optimal to emit there', xref='paper', yref='paper', xanchor='right', showarrow=False, font=dict(color='black', size=14)),\n",
    "                 dict(x=0.95, y=0.59, text='All reddish/bold countries here have<br>insufficient NDCs, even when looking<br>at the highest potentially fair allocation', xref='paper', yref='paper', xanchor='right', showarrow=False, font=dict(color='black', size=14)),\n",
    "                 dict(x=0.0, y=0.59, text='Most of the Global North together<br>with countries like Australia and Argentina<br>have insufficient NDCs when compared<br>to default fair share allocations', xref='paper', yref='paper', xanchor='left', showarrow=False, font=dict(color='black', size=14)),\n",
    "                 ])\n",
    "\n",
    "fig.update_geos(visible=False,\n",
    "                showlakes=False,\n",
    "                lakecolor='rgb(255, 255, 255)',\n",
    "                projection_type='natural earth',\n",
    "                resolution=110,\n",
    "                showcoastlines=False,)\n",
    "fig.update_traces(colorbar=dict(\n",
    "    title=dict(\n",
    "        side=\"bottom\"\n",
    "    )\n",
    "))\n",
    "fig.update_geos(landcolor=\"grey\")\n",
    "args = dict(xref=\"paper\", yref=\"paper\", type='line')\n",
    "fig.add_shape(x0=0.08, y0=0.20, x1=0.12, y1=0.35, **args, line=dict(color='black', width=2))\n",
    "fig.add_shape(x0=0.75, y0=0.29, x1=0.85, y1=0.40, **args, line=dict(color='black', width=2))\n",
    "fig.add_shape(x0=0.90, y0=0.12, x1=0.93, y1=0.18, **args, line=dict(color='black', width=2))\n",
    "\n",
    "fig.add_shape(x0=0.08, y0=0.63, x1=0.12, y1=0.85, **args, line=dict(color='black', width=2))\n",
    "fig.add_shape(x0=0.87, y0=0.62, x1=0.85, y1=0.90, **args, line=dict(color='black', width=2))\n",
    "fig.update_layout(height=1100, width=1700)\n",
    "fig.write_image(\"K:/Code/EffortSharing/Figures/Paper_FairShares/Figure_4.png\", scale=5)\n",
    "fig.show()"
   ]
  },
  {
   "cell_type": "markdown",
   "metadata": {},
   "source": [
    "## Get country list"
   ]
  },
  {
   "cell_type": "code",
   "execution_count": 153,
   "metadata": {},
   "outputs": [
    {
     "name": "stdout",
     "output_type": "stream",
     "text": [
      "['ALB' 'DZA' 'AND' 'ARG' 'AUS' 'AZE' 'BRB' 'BLR' 'BIH' 'BWA' 'BDI' 'KHM'\n",
      " 'CAN' 'CAF' 'CHN' 'COL' 'DMA' 'EGY' 'GNQ' 'GEO' 'ISL' 'IDN' 'IRN' 'ISR'\n",
      " 'JAM' 'JPN' 'KAZ' 'KWT' 'LBN' 'LIE' 'MKD' 'MYS' 'MDV' 'MHL' 'MUS' 'MEX'\n",
      " 'MDA' 'MNG' 'NZL' 'PRK' 'OMN' 'PRY' 'PER' 'RUS' 'KNA' 'LCA' 'SAU' 'SYC'\n",
      " 'SGP' 'SLB' 'ZAF' 'KOR' 'THA' 'BHS' 'TTO' 'TUR' 'UKR' 'ARE' 'GBR' 'USA'\n",
      " 'UZB' 'VEN' 'VNM' 'EU' 'EARTH']\n",
      "['AND' 'BWA' 'CHN' 'GEO' 'ISL' 'IRN' 'JAM' 'KWT' 'LIE' 'MYS' 'MHL' 'PRK'\n",
      " 'PER' 'RUS' 'KNA' 'SAU' 'SGP' 'BHS' 'TTO' 'TUR' 'UZB' 'VEN' 'EARTH']\n",
      "['ARG' 'AUS' 'CAN' 'CHN' 'COL' 'EU' 'JPN' 'KOR' 'MEX' 'RUS' 'SAU' 'TUR'\n",
      " 'USA' 'ZAF']\n",
      "['ARG' 'RUS' 'SAU']\n"
     ]
    }
   ],
   "source": [
    "for i in range(4):\n",
    "    dath = [(ndcs-data_def)/data_def,\n",
    "            (ndcs-data_max)/data_max,\n",
    "            (costopts.Value)/data_def-1,\n",
    "            (costopts.Value)/data_max-1][i]\n",
    "    wh = np.where(np.array(dath) > 0)[0]\n",
    "    print(np.array((dath).Region)[wh])"
   ]
  },
  {
   "attachments": {},
   "cell_type": "markdown",
   "metadata": {},
   "source": [
    "## Plot"
   ]
  },
  {
   "cell_type": "code",
   "execution_count": 21,
   "metadata": {},
   "outputs": [],
   "source": [
    "# path_ctygroups = \"X:/user/dekkerm/Data/\" + \"UNFCCC_Parties_Groups_noeu.xlsx\"\n",
    "# df = pd.read_excel(path_ctygroups, sheet_name = \"Country groups\")\n",
    "# countries_iso = np.array(df[\"Country ISO Code\"])\n",
    "# countries_name = np.array(df[\"Name\"])\n",
    "# countries_iso = np.array(df[\"Country ISO Code\"])\n",
    "# group_eu = countries_iso[np.array(df[\"EU\"]) == 1]"
   ]
  },
  {
   "cell_type": "markdown",
   "metadata": {},
   "source": [
    "Helper stuff"
   ]
  },
  {
   "cell_type": "code",
   "execution_count": 22,
   "metadata": {},
   "outputs": [],
   "source": [
    "# colmap = 'Earth_r'\n",
    "# colmap2 = 'terrain_r'"
   ]
  },
  {
   "cell_type": "code",
   "execution_count": 23,
   "metadata": {},
   "outputs": [],
   "source": [
    "# regs = xr_larger_than_costopt.Region#np.array(larger_than_costopt.Region)[np.where(~np.isnan(larger_than_costopt))]\n",
    "# data = []\n",
    "# for cty_i, cty in enumerate(regs):\n",
    "#     data.append(np.sum([float(xr_larger_than_costopt.sel(Region=cty)[i]) for i in rules]))\n",
    "#     #larger_than_costopt.sel(Region=regs)/6\n",
    "# data = (6-np.array(data))/6"
   ]
  },
  {
   "cell_type": "markdown",
   "metadata": {},
   "source": [
    "Actual plot"
   ]
  },
  {
   "cell_type": "code",
   "execution_count": 24,
   "metadata": {},
   "outputs": [],
   "source": [
    "# fig = make_subplots(rows=5, cols=4, \n",
    "#                     specs=[[{'type': 'choropleth', 'colspan': 3, 'rowspan': 3}, {}, {}, {}],\n",
    "#                            [{}, {}, {}, {}],\n",
    "#                            [{}, {}, {}, {}],\n",
    "#                            [{}, {}, {}, {}],\n",
    "#                            [{'colspan': 4}, {}, {}, {}]],\n",
    "#                     horizontal_spacing = 0.05, vertical_spacing=0.08)\n",
    "\n",
    "# fig.add_trace(\n",
    "#     go.Choropleth(\n",
    "#     locations=regs,\n",
    "#     z = data,\n",
    "#     locationmode = 'ISO-3',\n",
    "#     colorscale = colmap,\n",
    "#     zmax = 1,\n",
    "#     zmin = 0,\n",
    "#     text = [str(r)+\": \"+str(int(data[r_i]*6))+\" out of 6\" for r_i, r in enumerate(np.array(regs))],\n",
    "#     hovertemplate  = '%{text}',\n",
    "#     name=\"\",\n",
    "#     marker_line_color='black', \n",
    "#     marker_line_width=1.,\n",
    "#     colorbar=dict(len=0.43, x=0.37, y=0.45, orientation='h',\n",
    "#                   tickvals = np.arange(0, 1.1, 1/6),\n",
    "#                   thickness=15,\n",
    "#                   tickfont={'size': 10},\n",
    "#                   ticktext=['None<br>(Mitigation financed<br>by others)', '1 out of 6', '2 out of 6', '3 out of 6', '4 out of 6', '5 out of 6', 'All<br>(Finances mitigation<br>abroad)'],\n",
    "#                   ticklabelposition='outside',\n",
    "#     ),\n",
    "#     showscale=True\n",
    "# ), 1, 1)\n",
    "# fig.add_trace(\n",
    "#     go.Choropleth(\n",
    "#     locations=group_eu,\n",
    "#     z = [data[np.where(regs == \"EU\")[0][0]]]*len(group_eu),\n",
    "#     locationmode = 'ISO-3',\n",
    "#     colorscale = colmap,\n",
    "#     zmax = 1,\n",
    "#     zmin = 0,\n",
    "#     text = [\"EU: \"+str(int(6*data[regs == 'EU']))+\" out of 6\"for r_i, r in enumerate(group_eu)],\n",
    "#     hovertemplate  = '%{text}',\n",
    "#     name=\"\",\n",
    "#     marker_line_color='black', \n",
    "#     marker_line_width=1.,\n",
    "#     showscale=False\n",
    "# ), 1, 1)\n",
    "\n",
    "# # limite map scope to USA 'africa', 'asia', 'europe', 'north america', 'south america', 'usa', 'world'\n",
    "# fig.update_geos(showocean=True, oceancolor=\"aliceblue\")\n",
    "# fig.update_geos(showlakes=True, lakecolor=\"aliceblue\")\n",
    "# fig.update_geos(visible=True,\n",
    "#                 showlakes=False,\n",
    "#                 lakecolor='rgb(255, 255, 255)',\n",
    "#                 projection_type='natural earth',\n",
    "#                 showcoastlines=False,)\n",
    "\n",
    "# values = ['CP', 'NDC', 'NZ', 'CO2_costopt', 'GF', 'PC', 'PCC', 'AP', 'GDR', 'ECPC']\n",
    "# for cty_i, cty in enumerate([\"USA\", \"BRA\", \"ZAF\", \"EU\", \"RUS\", \"CHN\", \"IND\"]):\n",
    "#     row = [4, 4, 4, 1, 2, 3, 4][cty_i]\n",
    "#     col = [1, 2, 3, 4, 4, 4, 4][cty_i]\n",
    "#     # !!!!! values_co_emis = xr_scen_all.sel(Region=cty, Time=np.arange(params['start_year_analysis'], 2101), Variable='Emissions|Kyoto Gases').Value.sum(dim='Time', skipna=False)\n",
    "#     values_co_emis = xr_scen_all.sel(Region=cty, Time=2040, Variable='Emissions|Kyoto Gases').Value/1e3\n",
    "#     fig.add_trace(go.Scatter(x=['CP', 'NDC', 'NZ', 'CO', 'GF', 'PC', 'PCC', 'AP', 'GDR', 'ECPC'], y=[values_co_emis.median() for val in values], name='', showlegend=False, hoverinfo='skip', mode='lines', line={'color': 'black', 'width': 0}), col=col, row=row)\n",
    "#     fig.add_trace(go.Scatter(x=['CO', 'GF', 'PC', 'PCC', 'AP', 'GDR', 'ECPC'], y=[values_co_emis.median() for val in values], name='', showlegend=False, hoverinfo='skip', mode='lines', line={'color': 'black', 'width': 1}), col=col, row=row)\n",
    "#     fig.add_trace(go.Scatter(x=['GF', 'PC', 'PCC', 'AP', 'GDR', 'ECPC'], y=[values_co_emis.quantile(0.25) for val in values], fill=None, name='', showlegend=False, hoverinfo='skip', mode='lines', line={'color': 'silver', 'width': 0}), col=col, row=row)\n",
    "#     fig.add_trace(go.Scatter(x=['GF', 'PC', 'PCC', 'AP', 'GDR', 'ECPC'], y=[values_co_emis.quantile(0.75) for val in values], fill='tonexty', name='', showlegend=False, hoverinfo='skip', mode='lines', line={'color': 'silver', 'width': 0}), col=col, row=row)\n",
    "#     fig.add_trace(go.Box(y=values_co_emis,\n",
    "#                         name=\"CO\",\n",
    "#                         #text=[cty+\": \"+str(np.round(vals[i],1))+\"<br>\"+modscens[i] for i in range(len(vals))],\n",
    "#                         fillcolor=plotly.colors.diverging.Earth_r[int(data[regs == cty][0]*6)],\n",
    "#                         line_color='black', marker=dict(color='grey'),#plotly.colors.diverging.Earth_r[int(fractions[regs == cty][0]*7)]),\n",
    "#                         boxpoints='all', jitter=0.5, pointpos=0, whiskerwidth=0.4, marker_size=0.1, line_width=1.5, showlegend=False, hovertemplate='%{text}'),\n",
    "#                         row=row, col=col)\n",
    "\n",
    "#     # Engage results\n",
    "#     for eng_i, eng in enumerate(['CurPol', 'NDC', 'NetZero']):\n",
    "#         # !!!!! values_eng = xr_total.sel(Time=np.arange(params['start_year_analysis'], 2101), Region=cty).sum(dim='Time', skipna=False)[eng]\n",
    "#         values_eng = xr_total.sel(Time=2040, Region=cty)[eng]/1e3\n",
    "#         fig.add_trace(go.Box(y=values_eng,\n",
    "#                         name=[\"CP\", \"NDC\", \"NZ\"][eng_i],\n",
    "#                         fillcolor=plotly.colors.diverging.Earth_r[int(data[regs == cty][0]*6)],\n",
    "#                         line_color='black', marker=dict(color='grey'),\n",
    "#                         boxpoints='all', jitter=0.5, pointpos=0, whiskerwidth=0.4, marker_size=0.1, line_width=1.5, showlegend=False, hovertemplate='%{text}'),\n",
    "#                         row=row, col=col)\n",
    "\n",
    "#     # Full cost optimal emissions (AR6 C1-C2)\n",
    "#     fig.add_trace(go.Box(y=values_co_emis,\n",
    "#                     name=\"CO\",\n",
    "#                     fillcolor=plotly.colors.diverging.Earth_r[int(data[regs == cty][0]*6)],\n",
    "#                     line_color='black', marker=dict(color='grey'),\n",
    "#                     boxpoints='all', jitter=0., pointpos=0, whiskerwidth=0.4, marker_size=0.1, line_width=1.5, showlegend=False, hovertemplate='%{text}'),\n",
    "#                     row=row, col=col)\n",
    "\n",
    "#     # Effort sharing\n",
    "#     for alloc_i, alloc in enumerate(['GF', 'PC', 'PCC', 'AP', 'GDR', 'ECPC']):\n",
    "#         # !!!!! ally = xr_bud15.sel(Region=cty, Risk=0.5, Convergence_year=2050).sum(dim='Time').mean(dim='Scenario')[alloc]\n",
    "#         ally = xr_traj_2040.sel(Region=cty, Risk=0.5, Convergence_year=2050, Temperature=1.5).mean(dim='Scenario')[alloc].median()/1e3\n",
    "#         if ally < values_co_emis.quantile(0.40):\n",
    "#             colr = 'tomato'\n",
    "#             marker = 'triangle-down'\n",
    "#             textpos = 'middle left'\n",
    "#             txt = '-<b>$'\n",
    "#             size = 13\n",
    "#         elif ally > values_co_emis.quantile(0.60):\n",
    "#             colr = 'forestgreen'\n",
    "#             marker = 'triangle-up'\n",
    "#             textpos = 'middle left'\n",
    "#             txt = '+<b>$'\n",
    "#             size = 13\n",
    "#         else:\n",
    "#             colr = 'grey'\n",
    "#             marker = 'square'\n",
    "#             textpos = 'middle left'\n",
    "#             txt = '~<b>$'\n",
    "#             size = 10\n",
    "#         fig.add_trace(go.Scatter(x=[alloc, alloc], y=[values_co_emis.median(), ally], mode='lines', line={'width': 2, 'color': colr, 'dash': 'dot'}, showlegend=False), row=row, col=col)\n",
    "#         fig.add_trace(go.Scatter(x=[alloc], y=[ally], text=txt, textfont={'color': colr}, mode='markers+text', marker={'symbol':marker, \"color\": colr, \"size\": size, \"line\": {\"width\": 1.5, \"color\": 'black'}},\n",
    "#                                  showlegend=False, textposition=textpos),\n",
    "#                       row=row, col=col)\n",
    "\n",
    "# y1 = xr_scen_all.sel(Time=np.arange(params['start_year_analysis'], 2101), Variable='Policy Cost|Consumption Loss').Value.sum(dim='Time', skipna=False)\n",
    "# gdp1 = xr_dataread.sel(Time=params['start_year_analysis']).GDP.mean(dim='Scenario')\n",
    "# ar = np.array((y1/gdp1).Region[np.array((y1/gdp1).median(dim='ModelScenario').argsort())])\n",
    "# ar = ar[ar!='WORLD']\n",
    "# for reg_i, reg in enumerate(ar):\n",
    "#     y = xr_scen_all.sel(Region=reg, Time=np.arange(params['start_year_analysis'], 2101), Variable='Policy Cost|Consumption Loss').Value.sum(dim='Time', skipna=False)\n",
    "#     gdp = xr_dataread.sel(Region=reg, Time=params['start_year_analysis']).GDP.mean(dim='Scenario')\n",
    "#     try:\n",
    "#         col = plotly.colors.diverging.Earth_r[int(data[regs == reg][0]*6)]\n",
    "#     except:\n",
    "#         col = 'silver'\n",
    "#     if np.nansum(y) != 0:\n",
    "#         fig.add_trace(go.Box(name=reg, y=y/gdp,\n",
    "#                             line_color='black',\n",
    "#                             marker=dict(color=col),\n",
    "#                             fillcolor=col,\n",
    "#                             boxpoints='all', jitter=0.5, pointpos=-1.8, whiskerwidth=0.4, marker_size=3, line_width=1,\n",
    "#                             showlegend=False), row=5, col=1)\n",
    "\n",
    "# # Panel labels\n",
    "# fig.add_annotation(xref='paper', yref='paper',ax=0, align='left', ay=-0, showarrow=False, font=dict(color='black', size=18),\n",
    "#                    y=1.04, x=0.20, text=\"<b>(a) Allocations less than cost-optimal</b><br>          (in number of effort-sharing approaches)\")\n",
    "# fig.add_annotation(xref='paper', yref='paper',ax=0, align='right', ay=-0, showarrow=False, font=dict(color='black', size=16), y=0.38, x=0.01, text=\"<b>(b) United States of America\")\n",
    "# fig.add_annotation(xref='paper', yref='paper',ax=0, align='right', ay=-0, showarrow=False, font=dict(color='black', size=16), y=0.38, x=0.27, text=\"<b>(c) Brazil\")\n",
    "# fig.add_annotation(xref='paper', yref='paper',ax=0, align='right', ay=-0, showarrow=False, font=dict(color='black', size=16), y=0.38, x=0.60, text=\"<b>(d) South-Africa\")\n",
    "# fig.add_annotation(xref='paper', yref='paper',ax=0, align='right', ay=-0, showarrow=False, font=dict(color='black', size=16), y=1.02, x=0.94, text=\"<b>(e) European Union\")\n",
    "# fig.add_annotation(xref='paper', yref='paper',ax=0, align='right', ay=-0, showarrow=False, font=dict(color='black', size=16), y=0.81, x=0.87, text=\"<b>(f) Russia\")\n",
    "# fig.add_annotation(xref='paper', yref='paper',ax=0, align='right', ay=-0, showarrow=False, font=dict(color='black', size=16), y=0.58, x=0.87, text=\"<b>(g) China\")\n",
    "# fig.add_annotation(xref='paper', yref='paper',ax=0, align='right', ay=-0, showarrow=False, font=dict(color='black', size=16), y=0.38, x=0.87, text=\"<b>(h) India\")\n",
    "# fig.add_annotation(xref='paper', yref='paper',ax=0, align='left', ay=-0, showarrow=False, font=dict(color='black', size=16), y=0.14, x=0.01, text=\"<b>(i) Policy costs over 2020-2100 in cost-optimal scenarios</b>\")\n",
    "\n",
    "# # ADD LINES TO PATHS\n",
    "# fig.update_yaxes(title_text=\"GHG emission allocations in 2040<br>[Gt CO<sub>2</sub>e]\", row=4, col=1)\n",
    "# fig.update_yaxes(title_text=\"Cumulative consumption<br>loss as fraction<br>of GDP in 2019\", row=5, col=1)\n",
    "\n",
    "# fig.update_yaxes(rangemode=\"tozero\")\n",
    "# fig.update_xaxes(zeroline=True, zerolinewidth=2, zerolinecolor='Black')\n",
    "# fig.update_layout(height=1100,\n",
    "#                   width=1400,\n",
    "#                   template='simple_white')\n",
    "# fig.show()"
   ]
  },
  {
   "cell_type": "code",
   "execution_count": 25,
   "metadata": {},
   "outputs": [],
   "source": [
    "# fig.write_image(path_figs / \"Figure_4.svg\")"
   ]
  }
 ],
 "metadata": {
  "kernelspec": {
   "display_name": "MyEnv",
   "language": "python",
   "name": "python3"
  },
  "language_info": {
   "codemirror_mode": {
    "name": "ipython",
    "version": 3
   },
   "file_extension": ".py",
   "mimetype": "text/x-python",
   "name": "python",
   "nbconvert_exporter": "python",
   "pygments_lexer": "ipython3",
   "version": "3.12.5"
  },
  "orig_nbformat": 4,
  "vscode": {
   "interpreter": {
    "hash": "36d5d389870ab01fa625d0d5123f82469a3683fa0e02c4f7e9e76e9a75345aa3"
   }
  }
 },
 "nbformat": 4,
 "nbformat_minor": 2
}
