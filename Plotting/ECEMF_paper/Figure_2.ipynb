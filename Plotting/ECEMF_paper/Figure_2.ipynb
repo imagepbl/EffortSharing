{
 "cells": [
  {
   "cell_type": "markdown",
   "metadata": {},
   "source": [
    "## Preambule"
   ]
  },
  {
   "cell_type": "code",
   "execution_count": 1,
   "metadata": {},
   "outputs": [],
   "source": [
    "import numpy as np\n",
    "from tqdm import tqdm\n",
    "from importlib import reload\n",
    "import xarray as xr\n",
    "import pandas as pd\n",
    "import scipy\n",
    "from scipy.optimize import curve_fit\n",
    "from scipy.signal import savgol_filter\n",
    "import warnings\n",
    "warnings.simplefilter(action='ignore', category=FutureWarning)\n",
    "\n",
    "# Sobol analysis\n",
    "from SALib.sample import saltelli\n",
    "from SALib.analyze import sobol\n",
    "from SALib.test_functions import Ishigami\n",
    "\n",
    "# Plotting\n",
    "import matplotlib.pyplot as plt\n",
    "import plotly.express as px\n",
    "import plotly.graph_objects as go\n",
    "from plotly.subplots import make_subplots\n",
    "from plotly.colors import n_colors"
   ]
  },
  {
   "cell_type": "markdown",
   "metadata": {},
   "source": [
    "## Read stuff"
   ]
  },
  {
   "cell_type": "code",
   "execution_count": 2,
   "metadata": {},
   "outputs": [],
   "source": [
    "path_data = \"K:/ECEMF/T5.2/\""
   ]
  },
  {
   "cell_type": "code",
   "execution_count": 3,
   "metadata": {},
   "outputs": [],
   "source": [
    "xr_dataread = xr.open_dataset(path_data + \"xr_dataread.nc\")\n",
    "xr_sobol = xr.open_dataset(path_data + \"xr_sobol.nc\")\n",
    "all_countries_iso = np.load(path_data + \"all_countries.npy\", allow_pickle=True)\n",
    "all_regions_iso = np.load(path_data + \"all_regions.npy\", allow_pickle=True)"
   ]
  },
  {
   "cell_type": "markdown",
   "metadata": {},
   "source": [
    "## Process stuff"
   ]
  },
  {
   "cell_type": "code",
   "execution_count": 4,
   "metadata": {},
   "outputs": [],
   "source": [
    "dim_unc_globe = ['Temperature', 'Risk']\n",
    "dim_unc_fairness = ['variable', 'Convergence_year']\n",
    "dim_unc_choices = ['Timing', 'Scenario', 'NonCO2red', 'NegEmis']\n",
    "\n",
    "vals = np.zeros(shape=(3, len(xr_sobol.Time), len(all_countries_iso)))\n",
    "for dim_i, dim in enumerate([dim_unc_globe, dim_unc_fairness, dim_unc_choices]):\n",
    "    vals[dim_i] = np.array(xr_sobol.sel(Factor = dim, Region=all_countries_iso).sum(dim='Factor').to_array())[0].T"
   ]
  },
  {
   "cell_type": "code",
   "execution_count": 5,
   "metadata": {},
   "outputs": [],
   "source": [
    "mins = np.nanmin(vals, axis=2)\n",
    "maxs = np.nanmin(vals, axis=2)\n",
    "mins = (np.array(mins)*100).round(0).astype(int).astype(str)\n",
    "maxs = (np.array(maxs)*100).round(0).astype(int).astype(str)"
   ]
  },
  {
   "cell_type": "code",
   "execution_count": 6,
   "metadata": {},
   "outputs": [],
   "source": [
    "df_regions = pd.read_csv(\"X:/user/dekkerm/Data/AllCountries.csv\")\n",
    "continents = []\n",
    "bubblecolors = []\n",
    "texts = []\n",
    "for cty_i, cty in enumerate(all_countries_iso):\n",
    "    if cty == 'USA':\n",
    "        bubblecolors.append('plum')\n",
    "        texts.append(cty)\n",
    "    elif cty == 'IND':\n",
    "        bubblecolors.append('forestgreen')\n",
    "        texts.append(cty)\n",
    "    elif cty == 'BRA':\n",
    "        bubblecolors.append('goldenrod')\n",
    "        texts.append(cty)\n",
    "    elif cty == 'CHN':\n",
    "        bubblecolors.append('tomato')\n",
    "        texts.append(cty)\n",
    "    elif cty == 'ZAF':\n",
    "        bubblecolors.append('steelblue')\n",
    "        texts.append(cty)\n",
    "    elif cty == 'MEX':\n",
    "        bubblecolors.append('lightgreen')\n",
    "        texts.append(cty)\n",
    "    elif cty == 'TUR':\n",
    "        bubblecolors.append('brown')\n",
    "        texts.append(cty)\n",
    "    elif cty == 'DEU':\n",
    "        bubblecolors.append('dodgerblue')\n",
    "        texts.append(cty)\n",
    "    else:\n",
    "        bubblecolors.append('silver')\n",
    "        texts.append('')\n",
    "continents = np.array(continents)\n",
    "bubblecolors = np.array(bubblecolors)\n",
    "texts = np.array(texts)\n",
    "\n",
    "pops = np.array(xr_dataread.Population.sel(Region=all_countries_iso, Time=2020, Scenario='SSP2'))\n",
    "pops[np.isnan(pops)] = 1\n",
    "pops_n = pops/np.nanmax(pops)"
   ]
  },
  {
   "cell_type": "markdown",
   "metadata": {},
   "source": [
    "## Plot"
   ]
  },
  {
   "cell_type": "code",
   "execution_count": 9,
   "metadata": {},
   "outputs": [
    {
     "data": {
      "application/vnd.plotly.v1+json": {
       "config": {
        "plotlyServerURL": "https://plotly.com"
       },
       "data": [
        {
         "a": [
          0,
          0
         ],
         "b": [
          0,
          1
         ],
         "c": [
          1,
          0
         ],
         "hoverinfo": "skip",
         "line": {
          "color": "black",
          "dash": "dot",
          "width": 0.33
         },
         "marker": {
          "color": "black",
          "line": {
           "color": "silver",
           "width": 0
          },
          "opacity": 1,
          "size": 15
         },
         "mode": "lines",
         "showlegend": false,
         "subplot": "ternary",
         "textfont": {
          "color": "black",
          "size": 5
         },
         "type": "scatterternary"
        },
        {
         "a": [
          0,
          1
         ],
         "b": [
          0,
          0
         ],
         "c": [
          1,
          0
         ],
         "hoverinfo": "skip",
         "line": {
          "color": "black",
          "dash": "dot",
          "width": 0.33
         },
         "marker": {
          "color": "black",
          "line": {
           "color": "silver",
           "width": 0
          },
          "opacity": 1,
          "size": 15
         },
         "mode": "lines",
         "showlegend": false,
         "subplot": "ternary",
         "textfont": {
          "color": "black",
          "size": 5
         },
         "type": "scatterternary"
        },
        {
         "a": [
          1,
          0
         ],
         "b": [
          0,
          1
         ],
         "c": [
          0,
          0
         ],
         "hoverinfo": "skip",
         "line": {
          "color": "black",
          "dash": "dot",
          "width": 0.33
         },
         "marker": {
          "color": "black",
          "line": {
           "color": "silver",
           "width": 0
          },
          "opacity": 1,
          "size": 15
         },
         "mode": "lines",
         "showlegend": false,
         "subplot": "ternary",
         "textfont": {
          "color": "black",
          "size": 5
         },
         "type": "scatterternary"
        },
        {
         "a": [
          0.25,
          0.25
         ],
         "b": [
          0,
          0.75
         ],
         "c": [
          0.75,
          0
         ],
         "hoverinfo": "skip",
         "line": {
          "color": "black",
          "dash": "dot",
          "width": 0.33
         },
         "marker": {
          "color": "black",
          "line": {
           "color": "silver",
           "width": 0
          },
          "opacity": 1,
          "size": 15
         },
         "mode": "lines",
         "showlegend": false,
         "subplot": "ternary",
         "textfont": {
          "color": "black",
          "size": 5
         },
         "type": "scatterternary"
        },
        {
         "a": [
          0,
          0.75
         ],
         "b": [
          0.25,
          0.25
         ],
         "c": [
          0.75,
          0
         ],
         "hoverinfo": "skip",
         "line": {
          "color": "black",
          "dash": "dot",
          "width": 0.33
         },
         "marker": {
          "color": "black",
          "line": {
           "color": "silver",
           "width": 0
          },
          "opacity": 1,
          "size": 15
         },
         "mode": "lines",
         "showlegend": false,
         "subplot": "ternary",
         "textfont": {
          "color": "black",
          "size": 5
         },
         "type": "scatterternary"
        },
        {
         "a": [
          0.75,
          0
         ],
         "b": [
          0,
          0.75
         ],
         "c": [
          0.25,
          0.25
         ],
         "hoverinfo": "skip",
         "line": {
          "color": "black",
          "dash": "dot",
          "width": 0.33
         },
         "marker": {
          "color": "black",
          "line": {
           "color": "silver",
           "width": 0
          },
          "opacity": 1,
          "size": 15
         },
         "mode": "lines",
         "showlegend": false,
         "subplot": "ternary",
         "textfont": {
          "color": "black",
          "size": 5
         },
         "type": "scatterternary"
        },
        {
         "a": [
          0.5,
          0.5
         ],
         "b": [
          0,
          0.5
         ],
         "c": [
          0.5,
          0
         ],
         "hoverinfo": "skip",
         "line": {
          "color": "black",
          "dash": "dot",
          "width": 0.33
         },
         "marker": {
          "color": "black",
          "line": {
           "color": "silver",
           "width": 0
          },
          "opacity": 1,
          "size": 15
         },
         "mode": "lines",
         "showlegend": false,
         "subplot": "ternary",
         "textfont": {
          "color": "black",
          "size": 5
         },
         "type": "scatterternary"
        },
        {
         "a": [
          0,
          0.5
         ],
         "b": [
          0.5,
          0.5
         ],
         "c": [
          0.5,
          0
         ],
         "hoverinfo": "skip",
         "line": {
          "color": "black",
          "dash": "dot",
          "width": 0.33
         },
         "marker": {
          "color": "black",
          "line": {
           "color": "silver",
           "width": 0
          },
          "opacity": 1,
          "size": 15
         },
         "mode": "lines",
         "showlegend": false,
         "subplot": "ternary",
         "textfont": {
          "color": "black",
          "size": 5
         },
         "type": "scatterternary"
        },
        {
         "a": [
          0.5,
          0
         ],
         "b": [
          0,
          0.5
         ],
         "c": [
          0.5,
          0.5
         ],
         "hoverinfo": "skip",
         "line": {
          "color": "black",
          "dash": "dot",
          "width": 0.33
         },
         "marker": {
          "color": "black",
          "line": {
           "color": "silver",
           "width": 0
          },
          "opacity": 1,
          "size": 15
         },
         "mode": "lines",
         "showlegend": false,
         "subplot": "ternary",
         "textfont": {
          "color": "black",
          "size": 5
         },
         "type": "scatterternary"
        },
        {
         "a": [
          0.75,
          0.75
         ],
         "b": [
          0,
          0.25
         ],
         "c": [
          0.25,
          0
         ],
         "hoverinfo": "skip",
         "line": {
          "color": "black",
          "dash": "dot",
          "width": 0.33
         },
         "marker": {
          "color": "black",
          "line": {
           "color": "silver",
           "width": 0
          },
          "opacity": 1,
          "size": 15
         },
         "mode": "lines",
         "showlegend": false,
         "subplot": "ternary",
         "textfont": {
          "color": "black",
          "size": 5
         },
         "type": "scatterternary"
        },
        {
         "a": [
          0,
          0.25
         ],
         "b": [
          0.75,
          0.75
         ],
         "c": [
          0.25,
          0
         ],
         "hoverinfo": "skip",
         "line": {
          "color": "black",
          "dash": "dot",
          "width": 0.33
         },
         "marker": {
          "color": "black",
          "line": {
           "color": "silver",
           "width": 0
          },
          "opacity": 1,
          "size": 15
         },
         "mode": "lines",
         "showlegend": false,
         "subplot": "ternary",
         "textfont": {
          "color": "black",
          "size": 5
         },
         "type": "scatterternary"
        },
        {
         "a": [
          0.25,
          0
         ],
         "b": [
          0,
          0.25
         ],
         "c": [
          0.75,
          0.75
         ],
         "hoverinfo": "skip",
         "line": {
          "color": "black",
          "dash": "dot",
          "width": 0.33
         },
         "marker": {
          "color": "black",
          "line": {
           "color": "silver",
           "width": 0
          },
          "opacity": 1,
          "size": 15
         },
         "mode": "lines",
         "showlegend": false,
         "subplot": "ternary",
         "textfont": {
          "color": "black",
          "size": 5
         },
         "type": "scatterternary"
        },
        {
         "a": [
          1,
          1
         ],
         "b": [
          0,
          0
         ],
         "c": [
          0,
          0
         ],
         "hoverinfo": "skip",
         "line": {
          "color": "black",
          "dash": "dot",
          "width": 0.33
         },
         "marker": {
          "color": "black",
          "line": {
           "color": "silver",
           "width": 0
          },
          "opacity": 1,
          "size": 15
         },
         "mode": "lines",
         "showlegend": false,
         "subplot": "ternary",
         "textfont": {
          "color": "black",
          "size": 5
         },
         "type": "scatterternary"
        },
        {
         "a": [
          0,
          0
         ],
         "b": [
          1,
          1
         ],
         "c": [
          0,
          0
         ],
         "hoverinfo": "skip",
         "line": {
          "color": "black",
          "dash": "dot",
          "width": 0.33
         },
         "marker": {
          "color": "black",
          "line": {
           "color": "silver",
           "width": 0
          },
          "opacity": 1,
          "size": 15
         },
         "mode": "lines",
         "showlegend": false,
         "subplot": "ternary",
         "textfont": {
          "color": "black",
          "size": 5
         },
         "type": "scatterternary"
        },
        {
         "a": [
          0,
          0
         ],
         "b": [
          0,
          0
         ],
         "c": [
          1,
          1
         ],
         "hoverinfo": "skip",
         "line": {
          "color": "black",
          "dash": "dot",
          "width": 0.33
         },
         "marker": {
          "color": "black",
          "line": {
           "color": "silver",
           "width": 0
          },
          "opacity": 1,
          "size": 15
         },
         "mode": "lines",
         "showlegend": false,
         "subplot": "ternary",
         "textfont": {
          "color": "black",
          "size": 5
         },
         "type": "scatterternary"
        },
        {
         "a": [
          0.04830910218746794,
          0.050543664877539654,
          0.052195017727723475,
          0.055495388124022105,
          0.06247836943098518,
          0.06915199646929855,
          0.07270218850614366,
          0.07574913893269933,
          0.07706088460782612,
          0.07738463026480136,
          0.07523484230895403,
          0.07320508041429497,
          0.06988781945107395,
          0.06683730471424605,
          0.0656957139781653,
          0.06425973741404446
         ],
         "b": [
          0.9183850980436904,
          0.9154415874932099,
          0.9145248837716089,
          0.9112237042417385,
          0.9032219252020441,
          0.8951578953604031,
          0.8899163128077114,
          0.8857187224835369,
          0.882319954071381,
          0.8801277576339966,
          0.8778463010488436,
          0.8813730418503667,
          0.8860426223835007,
          0.8911632453507665,
          0.8934044094499541,
          0.8952791783808932
         ],
         "c": [
          0.03330579976884153,
          0.03401474762925044,
          0.03328009850066753,
          0.03328090763423937,
          0.03429970536697071,
          0.03569010817029838,
          0.037381498686144925,
          0.038532138583763746,
          0.04061916132079304,
          0.04248761210120216,
          0.04691885664220232,
          0.04542187773533837,
          0.044069558165425404,
          0.041999449934987415,
          0.040899876571880635,
          0.04046108420506239
         ],
         "line": {
          "color": "silver",
          "width": 0.5
         },
         "marker": {
          "color": "silver",
          "line": {
           "color": "black",
           "width": 0
          },
          "opacity": 0.9,
          "size": 6
         },
         "mode": "lines+markers+text",
         "showlegend": false,
         "subplot": "ternary",
         "text": [
          "",
          "",
          "",
          "",
          "",
          "",
          "",
          "",
          "",
          "",
          "",
          "",
          "",
          "",
          "",
          ""
         ],
         "textfont": {
          "color": "black",
          "size": 7.086842360478555
         },
         "type": "scatterternary"
        },
        {
         "a": [
          0.43893675494388773,
          0.43303439853342907,
          0.42248763703635994,
          0.3959143355216976,
          0.345557106209512,
          0.29949309783850964,
          0.24943263532047721,
          0.20881153966036708,
          0.17622977604366327,
          0.15745626112422778,
          0.14102982160355015,
          0.1342639506594538,
          0.13411869602554238,
          0.14096285296129732,
          0.15915841685623716,
          0.18796341964637975
         ],
         "b": [
          0.4315978996873765,
          0.446885565000473,
          0.5265010446661721,
          0.5568502334542264,
          0.5926571228617332,
          0.622858582487604,
          0.6662667028365649,
          0.6997577787128412,
          0.7291027890000569,
          0.7498954104745335,
          0.7704249205553795,
          0.7806735836847944,
          0.78064612205447,
          0.7537387667206086,
          0.7133338400756706,
          0.6602196934832383
         ],
         "c": [
          0.12946534536873577,
          0.12008003646609808,
          0.05101131829746815,
          0.047235431024075986,
          0.061785770928754785,
          0.07764831967388647,
          0.08430066184295791,
          0.0914306816267917,
          0.09466743495627986,
          0.09264832840123877,
          0.0885452578410704,
          0.08506246565575172,
          0.08523518191998745,
          0.10529838031809415,
          0.12750774306809234,
          0.15181688687038214
         ],
         "line": {
          "color": "silver",
          "width": 0.5
         },
         "marker": {
          "color": "silver",
          "line": {
           "color": "black",
           "width": 0
          },
          "opacity": 0.9,
          "size": 6
         },
         "mode": "lines+markers+text",
         "showlegend": false,
         "subplot": "ternary",
         "text": [
          "",
          "",
          "",
          "",
          "",
          "",
          "",
          "",
          "",
          "",
          "",
          "",
          "",
          "",
          "",
          ""
         ],
         "textfont": {
          "color": "black",
          "size": 3.2225180731442413
         },
         "type": "scatterternary"
        },
        {
         "a": [
          0.23307315102722603,
          0.23381903626844242,
          0.2390594340144171,
          0.26359699849394486,
          0.3070053776785391,
          0.34202235909090695,
          0.35269531879987864,
          0.36292863471927844,
          0.3637688887439839,
          0.3627626955011968,
          0.3487246972065864,
          0.3325621380436138,
          0.30869227999438087,
          0.2848861193693504,
          0.2741860266028361,
          0.26455392520773213
         ],
         "b": [
          0.7210739284736352,
          0.7242811116405652,
          0.7504832131855853,
          0.7290957985754244,
          0.6828526597430944,
          0.6444839575636133,
          0.6327660997932153,
          0.622445454043465,
          0.6215009299890121,
          0.6218857646716964,
          0.6343104482128454,
          0.6472463182064361,
          0.6663780319123889,
          0.6843387805104791,
          0.6923101917214434,
          0.699529157964865
         ],
         "c": [
          0.045852920499138854,
          0.0418998520909923,
          0.010457352799997632,
          0.007307202930630695,
          0.010141962578366408,
          0.01349368334547987,
          0.01453858140690588,
          0.014625911237256513,
          0.014730181267003942,
          0.01535153982710686,
          0.016964854580568303,
          0.020191543749950105,
          0.024929688093230228,
          0.030775100120170602,
          0.03350378167572049,
          0.03591691682740285
         ],
         "line": {
          "color": "silver",
          "width": 0.5
         },
         "marker": {
          "color": "silver",
          "line": {
           "color": "black",
           "width": 0
          },
          "opacity": 0.9,
          "size": 6
         },
         "mode": "lines+markers+text",
         "showlegend": false,
         "subplot": "ternary",
         "text": [
          "",
          "",
          "",
          "",
          "",
          "",
          "",
          "",
          "",
          "",
          "",
          "",
          "",
          "",
          "",
          ""
         ],
         "textfont": {
          "color": "black",
          "size": 7.082402452548374
         },
         "type": "scatterternary"
        },
        {
         "a": [
          0,
          0,
          0,
          0,
          0,
          0,
          0,
          0,
          0,
          0,
          0,
          0,
          0,
          0,
          0,
          0
         ],
         "b": [
          0,
          0,
          0,
          0,
          0,
          0,
          0,
          0,
          0,
          0,
          0,
          0,
          0,
          0,
          0,
          0
         ],
         "c": [
          0,
          0,
          0,
          0,
          0,
          0,
          0,
          0,
          0,
          0,
          0,
          0,
          0,
          0,
          0,
          0
         ],
         "line": {
          "color": "silver",
          "width": 0.5
         },
         "marker": {
          "color": "silver",
          "line": {
           "color": "black",
           "width": 0
          },
          "opacity": 0.9,
          "size": 6
         },
         "mode": "lines+markers+text",
         "showlegend": false,
         "subplot": "ternary",
         "text": [
          "",
          "",
          "",
          "",
          "",
          "",
          "",
          "",
          "",
          "",
          "",
          "",
          "",
          "",
          "",
          ""
         ],
         "textfont": {
          "color": "black",
          "size": 2.3834806319711186
         },
         "type": "scatterternary"
        },
        {
         "a": [
          0.4783505912081165,
          0.44110293812382295,
          0.43475908504384775,
          0.4406397381894598,
          0.46118113235933084,
          0.46058155571288983,
          0.44522858672191823,
          0.4384764519216351,
          0.4323627830076577,
          0.4351054199512384,
          0.42386190831941406,
          0.41103870662164604,
          0.37560193745919135,
          0.3475542268365344,
          0.3325387529386958,
          0.3030457010281308
         ],
         "b": [
          0.36605904365776976,
          0.4286467931427374,
          0.5385886379872435,
          0.5426342787852131,
          0.5129906346858726,
          0.5024168434068094,
          0.5139149086522647,
          0.5182573150378469,
          0.5229206044899896,
          0.5175160380700337,
          0.5183316500808088,
          0.5130752780398234,
          0.5163882618376927,
          0.5120826201968653,
          0.5056192133499251,
          0.5045883852509335
         ],
         "c": [
          0.15559036513411387,
          0.1302502687334396,
          0.026652276968908654,
          0.01672598302532697,
          0.0258282329547965,
          0.037001600880300856,
          0.04085650462581698,
          0.043266233040517965,
          0.04471661250235272,
          0.0473785419787281,
          0.0578064415997771,
          0.07588601533853051,
          0.10800980070311605,
          0.14036315296660026,
          0.16184203371137906,
          0.1923659137209357
         ],
         "line": {
          "color": "silver",
          "width": 0.5
         },
         "marker": {
          "color": "silver",
          "line": {
           "color": "black",
           "width": 0
          },
          "opacity": 0.9,
          "size": 6
         },
         "mode": "lines+markers+text",
         "showlegend": false,
         "subplot": "ternary",
         "text": [
          "",
          "",
          "",
          "",
          "",
          "",
          "",
          "",
          "",
          "",
          "",
          "",
          "",
          "",
          "",
          ""
         ],
         "textfont": {
          "color": "black",
          "size": 6.032710409256304
         },
         "type": "scatterternary"
        },
        {
         "a": [
          0.4711201085815306,
          0.4573372617101195,
          0.43026608764059926,
          0.43536021680505255,
          0.4815036922164784,
          0.5138974618002496,
          0.5041544102963373,
          0.48941368991627154,
          0.47251679856789675,
          0.4653510622582264,
          0.44203265774187916,
          0.4193739351691574,
          0.3912422433319962,
          0.36260578256918746,
          0.3563339413769925,
          0.35508351034728786
         ],
         "b": [
          0.37422843952273854,
          0.4068151515180013,
          0.543071345753851,
          0.5513976636949748,
          0.5017555526872216,
          0.46632455600780404,
          0.47492460173606793,
          0.49104069846930626,
          0.5120668454443954,
          0.5181895432022011,
          0.5368554650978292,
          0.5510824686533028,
          0.5644476518286604,
          0.5712148566727543,
          0.5681524861991588,
          0.5625209121735477
         ],
         "c": [
          0.15465145189573085,
          0.13584758677187925,
          0.026662566605549866,
          0.013242119499972718,
          0.01674075509630012,
          0.019777982191946375,
          0.020920987967594663,
          0.019545611614422326,
          0.015416355987707847,
          0.01645939453957251,
          0.021111877160291594,
          0.02954359617753977,
          0.044310104839343306,
          0.06617936075805822,
          0.07551357242384871,
          0.08239557747916437
         ],
         "line": {
          "color": "silver",
          "width": 0.5
         },
         "marker": {
          "color": "silver",
          "line": {
           "color": "black",
           "width": 0
          },
          "opacity": 0.9,
          "size": 6
         },
         "mode": "lines+markers+text",
         "showlegend": false,
         "subplot": "ternary",
         "text": [
          "",
          "",
          "",
          "",
          "",
          "",
          "",
          "",
          "",
          "",
          "",
          "",
          "",
          "",
          "",
          ""
         ],
         "textfont": {
          "color": "black",
          "size": 2.3834806319711186
         },
         "type": "scatterternary"
        },
        {
         "a": [
          0.3235971762237179,
          0.33336363415124853,
          0.33321276438991987,
          0.3490382911917397,
          0.39662518684758796,
          0.43248027629556374,
          0.43657828427488654,
          0.44276726213381573,
          0.4400349582791242,
          0.43165693051227405,
          0.40775818758750104,
          0.38198363202477736,
          0.34903762918041664,
          0.3166496584516817,
          0.3018121742734218,
          0.2892211516383786
         ],
         "b": [
          0.6035817536566415,
          0.5946144666159991,
          0.6485067023012794,
          0.6396802672843668,
          0.5899440011958182,
          0.551448534092123,
          0.54772634066732,
          0.5423748390781807,
          0.5460551342431729,
          0.5532037578314545,
          0.5741772234874636,
          0.5949599131315345,
          0.6217762764513545,
          0.6466049919379115,
          0.6578312036651622,
          0.6671882863540903
         ],
         "c": [
          0.07282107011964055,
          0.07202189923275229,
          0.01828053330880075,
          0.011281441523893517,
          0.013430811956593652,
          0.01607118961231315,
          0.01569537505779341,
          0.014857898788003535,
          0.013909907477702975,
          0.01513931165627157,
          0.018064588925035298,
          0.023056454843687978,
          0.02918609436822884,
          0.03674534961040671,
          0.04035662206141623,
          0.04359056200753113
         ],
         "line": {
          "color": "silver",
          "width": 0.5
         },
         "marker": {
          "color": "silver",
          "line": {
           "color": "black",
           "width": 0
          },
          "opacity": 0.9,
          "size": 6
         },
         "mode": "lines+markers+text",
         "showlegend": false,
         "subplot": "ternary",
         "text": [
          "",
          "",
          "",
          "",
          "",
          "",
          "",
          "",
          "",
          "",
          "",
          "",
          "",
          "",
          "",
          ""
         ],
         "textfont": {
          "color": "black",
          "size": 7.261063487721826
         },
         "type": "scatterternary"
        },
        {
         "a": [
          0,
          0,
          0,
          0,
          0,
          0,
          0,
          0,
          0,
          0,
          0,
          0,
          0,
          0,
          0,
          0
         ],
         "b": [
          0,
          0,
          0,
          0,
          0,
          0,
          0,
          0,
          0,
          0,
          0,
          0,
          0,
          0,
          0,
          0
         ],
         "c": [
          0,
          0,
          0,
          0,
          0,
          0,
          0,
          0,
          0,
          0,
          0,
          0,
          0,
          0,
          0,
          0
         ],
         "line": {
          "color": "silver",
          "width": 0.5
         },
         "marker": {
          "color": "silver",
          "line": {
           "color": "black",
           "width": 0
          },
          "opacity": 0.9,
          "size": 6
         },
         "mode": "lines+markers+text",
         "showlegend": false,
         "subplot": "ternary",
         "text": [
          "",
          "",
          "",
          "",
          "",
          "",
          "",
          "",
          "",
          "",
          "",
          "",
          "",
          "",
          "",
          ""
         ],
         "textfont": {
          "color": "black",
          "size": 3.1577851077424675
         },
         "type": "scatterternary"
        },
        {
         "a": [
          0.33743198246361317,
          0.31555577811769964,
          0.27353701095268107,
          0.2577966122340373,
          0.2699016083511495,
          0.2782947027940458,
          0.26190169256990914,
          0.24590689075245079,
          0.22001520298703686,
          0.19936409371364983,
          0.176796429142005,
          0.15391645853571612,
          0.13198209943204578,
          0.11477726846788712,
          0.10821591211938042,
          0.10365979406915701
         ],
         "b": [
          0.5393235964566355,
          0.5737742638039467,
          0.6971983438002102,
          0.7196525990598487,
          0.6961133408420186,
          0.6808746853467635,
          0.692819075145058,
          0.712493095934007,
          0.7368350302263486,
          0.7544120248668178,
          0.7788495920076567,
          0.7999118747136548,
          0.8163257382305433,
          0.8278446006394651,
          0.831122138507014,
          0.8327414908356254
         ],
         "c": [
          0.12324442107975121,
          0.11066995807835357,
          0.029264645247108822,
          0.02255078870611392,
          0.03398505080683213,
          0.040830611859190555,
          0.04527923228503298,
          0.04160001331354212,
          0.04314976678661445,
          0.04622388141953256,
          0.04435397885033833,
          0.046171666750629156,
          0.05169216233741086,
          0.05737813089264782,
          0.06066194937360545,
          0.06359871509521746
         ],
         "line": {
          "color": "silver",
          "width": 0.5
         },
         "marker": {
          "color": "silver",
          "line": {
           "color": "black",
           "width": 0
          },
          "opacity": 0.9,
          "size": 6
         },
         "mode": "lines+markers+text",
         "showlegend": false,
         "subplot": "ternary",
         "text": [
          "",
          "",
          "",
          "",
          "",
          "",
          "",
          "",
          "",
          "",
          "",
          "",
          "",
          "",
          "",
          ""
         ],
         "textfont": {
          "color": "black",
          "size": 6.091849306249372
         },
         "type": "scatterternary"
        },
        {
         "a": [
          0.31662370226877834,
          0.276597791636633,
          0.24813736336969822,
          0.2378016389129315,
          0.22366935876036675,
          0.21577323881203808,
          0.19268426787584295,
          0.17838483978931832,
          0.1618343444609732,
          0.14967369072596676,
          0.1365729059068903,
          0.12395257169084527,
          0.10990736667442237,
          0.09970603437194593,
          0.10034400975484929,
          0.10459662365560249
         ],
         "b": [
          0.5588602921663424,
          0.6114622573795585,
          0.6989049906500274,
          0.7065177929781082,
          0.7085390941816243,
          0.7078969514211223,
          0.7243542311009592,
          0.743375005889841,
          0.7628372397108927,
          0.7736966668539704,
          0.7911388055626218,
          0.8043507369291709,
          0.8129088326646574,
          0.8157533086555112,
          0.8076110390647891,
          0.7944140079682196
         ],
         "c": [
          0.12451600556487916,
          0.11193995098380856,
          0.052957645980274366,
          0.055680568108960195,
          0.06779154705800892,
          0.07632980976683963,
          0.08296150102319781,
          0.07824015432084078,
          0.07532841582813421,
          0.07662964242006287,
          0.07228828853048792,
          0.07169669137998384,
          0.07718380066092016,
          0.08454065697254268,
          0.0920449511803615,
          0.10098936837617796
         ],
         "line": {
          "color": "silver",
          "width": 0.5
         },
         "marker": {
          "color": "silver",
          "line": {
           "color": "black",
           "width": 0
          },
          "opacity": 0.9,
          "size": 6
         },
         "mode": "lines+markers+text",
         "showlegend": false,
         "subplot": "ternary",
         "text": [
          "",
          "",
          "",
          "",
          "",
          "",
          "",
          "",
          "",
          "",
          "",
          "",
          "",
          "",
          "",
          ""
         ],
         "textfont": {
          "color": "black",
          "size": 4.2862522468571855
         },
         "type": "scatterternary"
        },
        {
         "a": [
          0.4551984784818384,
          0.46634902677444356,
          0.47082741713352483,
          0.5084379867319652,
          0.5750737514902126,
          0.6187187081710215,
          0.6241907138133161,
          0.625819476814572,
          0.6134931419482815,
          0.6009386128417663,
          0.5695872066967201,
          0.53005416324083,
          0.4819387161951058,
          0.43521876732967324,
          0.41699732969237874,
          0.40338970325065837
         ],
         "b": [
          0.40905272840282314,
          0.40243272825004295,
          0.4999368859326853,
          0.4764853112157953,
          0.40658191382978753,
          0.3580183685801578,
          0.35154962652278565,
          0.3515410393111584,
          0.36561094092187063,
          0.3752218156072725,
          0.4013151185740235,
          0.4320268275810026,
          0.46919962960333195,
          0.5013606961640578,
          0.5113991958769132,
          0.5175300897778885
         ],
         "c": [
          0.13574879311533855,
          0.13121824497551357,
          0.029235696933789773,
          0.015076702052239713,
          0.018344334679999824,
          0.023262923248820865,
          0.024259659663898196,
          0.022639483874269634,
          0.020895917129847834,
          0.02383957155096121,
          0.029097674729256263,
          0.0379190091781674,
          0.04886165420156239,
          0.06342053650626897,
          0.071603474430708,
          0.07908020697145306
         ],
         "line": {
          "color": "silver",
          "width": 0.5
         },
         "marker": {
          "color": "silver",
          "line": {
           "color": "black",
           "width": 0
          },
          "opacity": 0.9,
          "size": 6
         },
         "mode": "lines+markers+text",
         "showlegend": false,
         "subplot": "ternary",
         "text": [
          "",
          "",
          "",
          "",
          "",
          "",
          "",
          "",
          "",
          "",
          "",
          "",
          "",
          "",
          "",
          ""
         ],
         "textfont": {
          "color": "black",
          "size": 4.493422845836124
         },
         "type": "scatterternary"
        },
        {
         "a": [
          0,
          0,
          0,
          0,
          0,
          0,
          0,
          0,
          0,
          0,
          0,
          0,
          0,
          0,
          0,
          0
         ],
         "b": [
          0,
          0,
          0,
          0,
          0,
          0,
          0,
          0,
          0,
          0,
          0,
          0,
          0,
          0,
          0,
          0
         ],
         "c": [
          0,
          0,
          0,
          0,
          0,
          0,
          0,
          0,
          0,
          0,
          0,
          0,
          0,
          0,
          0,
          0
         ],
         "line": {
          "color": "silver",
          "width": 0.5
         },
         "marker": {
          "color": "silver",
          "line": {
           "color": "black",
           "width": 0
          },
          "opacity": 0.9,
          "size": 6
         },
         "mode": "lines+markers+text",
         "showlegend": false,
         "subplot": "ternary",
         "text": [
          "",
          "",
          "",
          "",
          "",
          "",
          "",
          "",
          "",
          "",
          "",
          "",
          "",
          "",
          "",
          ""
         ],
         "textfont": {
          "color": "black",
          "size": 2.7820226166997646
         },
         "type": "scatterternary"
        },
        {
         "a": [
          0,
          0,
          0,
          0,
          0,
          0,
          0,
          0,
          0,
          0,
          0,
          0,
          0,
          0,
          0,
          0
         ],
         "b": [
          0,
          0,
          0,
          0,
          0,
          0,
          0,
          0,
          0,
          0,
          0,
          0,
          0,
          0,
          0,
          0
         ],
         "c": [
          0,
          0,
          0,
          0,
          0,
          0,
          0,
          0,
          0,
          0,
          0,
          0,
          0,
          0,
          0,
          0
         ],
         "line": {
          "color": "silver",
          "width": 0.5
         },
         "marker": {
          "color": "silver",
          "line": {
           "color": "black",
           "width": 0
          },
          "opacity": 0.9,
          "size": 6
         },
         "mode": "lines+markers+text",
         "showlegend": false,
         "subplot": "ternary",
         "text": [
          "",
          "",
          "",
          "",
          "",
          "",
          "",
          "",
          "",
          "",
          "",
          "",
          "",
          "",
          "",
          ""
         ],
         "textfont": {
          "color": "black",
          "size": 11.696770186086718
         },
         "type": "scatterternary"
        },
        {
         "a": [
          0.05460199999042162,
          0.05777370487162219,
          0.060611322523333046,
          0.06637693768505652,
          0.07790476737518433,
          0.08876872804417893,
          0.09407535751087881,
          0.09840322367995052,
          0.09991826427959051,
          0.10010422367710149,
          0.09631503419613312,
          0.09183665235098817,
          0.08565248815620105,
          0.07995180482776237,
          0.07750102787249807,
          0.07515902688470147
         ],
         "b": [
          0.9401444885567894,
          0.9361695672356075,
          0.9348337346158836,
          0.9288610340845509,
          0.9158833958114232,
          0.9026736365368391,
          0.8944844846896189,
          0.8875533410256332,
          0.8852085171404025,
          0.8855500790733326,
          0.8896491486854134,
          0.8935932382354973,
          0.8988965103705703,
          0.9040973021521217,
          0.907389603130341,
          0.9105596465778808
         ],
         "c": [
          0.005253511452789061,
          0.006056727892770401,
          0.004554942860783273,
          0.004762028230392666,
          0.006211836813392454,
          0.00855763541898194,
          0.011440157799502235,
          0.014043435294416333,
          0.014873218580006915,
          0.014345697249566029,
          0.014035817118453276,
          0.014570109413514444,
          0.015451001473228648,
          0.015950893020115833,
          0.015109368997160777,
          0.014281326537417725
         ],
         "line": {
          "color": "silver",
          "width": 0.5
         },
         "marker": {
          "color": "silver",
          "line": {
           "color": "black",
           "width": 0
          },
          "opacity": 0.9,
          "size": 6
         },
         "mode": "lines+markers+text",
         "showlegend": false,
         "subplot": "ternary",
         "text": [
          "",
          "",
          "",
          "",
          "",
          "",
          "",
          "",
          "",
          "",
          "",
          "",
          "",
          "",
          "",
          ""
         ],
         "textfont": {
          "color": "black",
          "size": 1.830261242250387
         },
         "type": "scatterternary"
        },
        {
         "a": [
          0.3423873373332378,
          0.3000606633840827,
          0.2619940296632882,
          0.2465120745490657,
          0.2347244074475304,
          0.2259544911986524,
          0.2031374682732786,
          0.1894602476730334,
          0.17226675883893433,
          0.15945137552110042,
          0.14485164041925835,
          0.1301025268037159,
          0.11390586125198993,
          0.10167325764246393,
          0.09942079542223561,
          0.09901557933541225
         ],
         "b": [
          0.5251997218781275,
          0.5833852426406171,
          0.6906263021816224,
          0.7059637944656825,
          0.7038462395880879,
          0.7026306276314123,
          0.7172015257919921,
          0.7347766126215947,
          0.7555138350684091,
          0.7682283561273742,
          0.787838909620698,
          0.8031205887169023,
          0.8142022108311261,
          0.8196402122166496,
          0.8160376114688628,
          0.811538099899335
         ],
         "c": [
          0.13241294078863472,
          0.11655409397530031,
          0.047379668155089434,
          0.04752413098525192,
          0.06142935296438162,
          0.07141488116993547,
          0.07966100593472923,
          0.07576313970537192,
          0.07221940609265667,
          0.07232026835152545,
          0.0673094499600436,
          0.06677688447938193,
          0.07189192791688404,
          0.07868653014088657,
          0.0845415931089016,
          0.08944632076525279
         ],
         "line": {
          "color": "silver",
          "width": 0.5
         },
         "marker": {
          "color": "silver",
          "line": {
           "color": "black",
           "width": 0
          },
          "opacity": 0.9,
          "size": 6
         },
         "mode": "lines+markers+text",
         "showlegend": false,
         "subplot": "ternary",
         "text": [
          "",
          "",
          "",
          "",
          "",
          "",
          "",
          "",
          "",
          "",
          "",
          "",
          "",
          "",
          "",
          ""
         ],
         "textfont": {
          "color": "black",
          "size": 4.371358816293888
         },
         "type": "scatterternary"
        },
        {
         "a": [
          0.10689582084083986,
          0.11077652385967038,
          0.10874570534269189,
          0.11716740440792847,
          0.1400151289402838,
          0.15806925018281903,
          0.15855467662932102,
          0.15512154330676872,
          0.14768310261377304,
          0.1456236197973667,
          0.14416971748285504,
          0.13715432346054868,
          0.12471610629217253,
          0.11530378003093103,
          0.11239501386290929,
          0.11291622277510308
         ],
         "b": [
          0.874947768607167,
          0.8709467616147893,
          0.8825523653403131,
          0.8741668737961835,
          0.8473118482567754,
          0.8192819100565387,
          0.7988427916938677,
          0.7785966598473836,
          0.7698409745960048,
          0.7750355039592423,
          0.8008577973301055,
          0.8121134368371784,
          0.8149493069104115,
          0.8162069289171244,
          0.8082560821865915,
          0.8033657806817449
         ],
         "c": [
          0.01815641055199319,
          0.01827671452554027,
          0.008701929316994953,
          0.008665721795888042,
          0.012673022802940803,
          0.02264883976064218,
          0.04260253167681128,
          0.06628179684584773,
          0.08247592279022237,
          0.07934087624339109,
          0.054972485187039365,
          0.050732239702273044,
          0.06033458679741604,
          0.0684892910519446,
          0.07934890395049922,
          0.08371799654315185
         ],
         "line": {
          "color": "silver",
          "width": 0.5
         },
         "marker": {
          "color": "silver",
          "line": {
           "color": "black",
           "width": 0
          },
          "opacity": 0.9,
          "size": 6
         },
         "mode": "lines+markers+text",
         "showlegend": false,
         "subplot": "ternary",
         "text": [
          "",
          "",
          "",
          "",
          "",
          "",
          "",
          "",
          "",
          "",
          "",
          "",
          "",
          "",
          "",
          ""
         ],
         "textfont": {
          "color": "black",
          "size": 4.64537868635908
         },
         "type": "scatterternary"
        },
        {
         "a": [
          0.09054488171118247,
          0.09296643647919567,
          0.09089089411126838,
          0.09745447542531016,
          0.1158801713085407,
          0.1322076470733396,
          0.1356230731026071,
          0.13633449951589907,
          0.13288056184248886,
          0.13256580896363046,
          0.13088233725459744,
          0.1241610886259796,
          0.11389462067514745,
          0.10436628974010771,
          0.10081793313075618,
          0.09940493928678212
         ],
         "b": [
          0.8697125016491132,
          0.8676455680527219,
          0.8773604864375767,
          0.8714293686355282,
          0.8516496517761502,
          0.8319818399590895,
          0.8181700776418941,
          0.8016009957411813,
          0.7929856931768182,
          0.7982136756210689,
          0.8227566563423231,
          0.8341220532427746,
          0.840599936891374,
          0.8436426808935272,
          0.8397950874108395,
          0.8362724509327525
         ],
         "c": [
          0.03974261663970442,
          0.039387995468082325,
          0.03174861945115506,
          0.031116155939161685,
          0.03247017691530927,
          0.03581051296757085,
          0.04620684925549888,
          0.06206450474291965,
          0.07413374498069292,
          0.06922051541530055,
          0.04636100640307953,
          0.041716858131245864,
          0.045505442433478704,
          0.05199102936636514,
          0.059386979458404154,
          0.0643226097804654
         ],
         "line": {
          "color": "silver",
          "width": 0.5
         },
         "marker": {
          "color": "silver",
          "line": {
           "color": "black",
           "width": 0
          },
          "opacity": 0.9,
          "size": 6
         },
         "mode": "lines+markers+text",
         "showlegend": false,
         "subplot": "ternary",
         "text": [
          "",
          "",
          "",
          "",
          "",
          "",
          "",
          "",
          "",
          "",
          "",
          "",
          "",
          "",
          "",
          ""
         ],
         "textfont": {
          "color": "black",
          "size": 1.9244644803235256
         },
         "type": "scatterternary"
        },
        {
         "a": [
          0.0901897636401191,
          0.10033420764874712,
          0.1040010982346748,
          0.11599257863270929,
          0.1427478799236,
          0.16675674683692326,
          0.17593778443133098,
          0.18204769148062686,
          0.18181692187361131,
          0.17988888384944318,
          0.17246150112701752,
          0.16474914356622972,
          0.154103833243113,
          0.14254583088957323,
          0.1376016274395187,
          0.1309597701220291
         ],
         "b": [
          0.8981030897592122,
          0.8861173378957894,
          0.88921751457088,
          0.8764257584223707,
          0.8451140200793898,
          0.8145448670207058,
          0.796539434991237,
          0.7807490721572368,
          0.7740175756437427,
          0.7731432080531107,
          0.7853689611999521,
          0.7984712806577124,
          0.8166818738501456,
          0.8280621416369363,
          0.8308551448453536,
          0.8331067441628335
         ],
         "c": [
          0.0117071466006688,
          0.013548454455463552,
          0.006781387194445103,
          0.007581662944919971,
          0.012138099997010111,
          0.018698386142370797,
          0.027522780577432054,
          0.03720323636213648,
          0.04416550248264599,
          0.04696790809744626,
          0.042169537673030305,
          0.03677957577605767,
          0.029214292906741563,
          0.029392027473490324,
          0.03154322771512774,
          0.03593348571513731
         ],
         "line": {
          "color": "silver",
          "width": 0.5
         },
         "marker": {
          "color": "silver",
          "line": {
           "color": "black",
           "width": 0
          },
          "opacity": 0.9,
          "size": 6
         },
         "mode": "lines+markers+text",
         "showlegend": false,
         "subplot": "ternary",
         "text": [
          "",
          "",
          "",
          "",
          "",
          "",
          "",
          "",
          "",
          "",
          "",
          "",
          "",
          "",
          "",
          ""
         ],
         "textfont": {
          "color": "black",
          "size": 4.676745534780816
         },
         "type": "scatterternary"
        },
        {
         "a": [
          0.27512322552453244,
          0.2730450617403904,
          0.2602065363118619,
          0.28965442046241135,
          0.3072634716112703,
          0.31460794737760694,
          0.3063030260679267,
          0.2977597151135538,
          0.2841434875707073,
          0.271229240136404,
          0.2462712045457189,
          0.22946865567230446,
          0.21364777653462094,
          0.20472018277665596,
          0.20687551016254865,
          0.21239676954947925
         ],
         "b": [
          0.6448048856856013,
          0.6552970482550942,
          0.7195058358692681,
          0.6961676104346524,
          0.6746362461535323,
          0.6619261567808501,
          0.6701660056738498,
          0.6782754886203819,
          0.6930471322244853,
          0.7067847604740701,
          0.7320317174828198,
          0.7446955239596381,
          0.753732659758006,
          0.7541647173315734,
          0.7461032448641529,
          0.7335116637781928
         ],
         "c": [
          0.08007188878986635,
          0.07165789000451553,
          0.020287627818869943,
          0.014177969102936162,
          0.018100282235197312,
          0.023465895841542902,
          0.023530968258223695,
          0.023964796266064153,
          0.0228093802048074,
          0.021985999389525883,
          0.02169707797146126,
          0.025835820368057504,
          0.03261956370737322,
          0.04111509989177066,
          0.04702124497329851,
          0.054091566672328055
         ],
         "line": {
          "color": "silver",
          "width": 0.5
         },
         "marker": {
          "color": "silver",
          "line": {
           "color": "black",
           "width": 0
          },
          "opacity": 0.9,
          "size": 6
         },
         "mode": "lines+markers+text",
         "showlegend": false,
         "subplot": "ternary",
         "text": [
          "",
          "",
          "",
          "",
          "",
          "",
          "",
          "",
          "",
          "",
          "",
          "",
          "",
          "",
          "",
          ""
         ],
         "textfont": {
          "color": "black",
          "size": 2.3079194379568975
         },
         "type": "scatterternary"
        },
        {
         "a": [
          0.3616854122291948,
          0.318439048012301,
          0.27617883390023545,
          0.2796740064496458,
          0.3218308475760306,
          0.3479000771464782,
          0.34129656949752607,
          0.34020388117322625,
          0.3326781472844976,
          0.32873637202065586,
          0.3103431372723301,
          0.29572474448416575,
          0.27187281394969254,
          0.2281314070094394,
          0.21372226759135277,
          0.19732995920565044
         ],
         "b": [
          0.5144266996889763,
          0.5803120572380667,
          0.7039614042503826,
          0.7070282408072228,
          0.661920764520919,
          0.6330878523982819,
          0.6414759694989979,
          0.641951270286055,
          0.6482355795808684,
          0.6498510486049354,
          0.6620544591056179,
          0.6698740859080207,
          0.6625806217040816,
          0.6535512693114994,
          0.6645796927567462,
          0.6771281805035338
         ],
         "c": [
          0.12388788808182896,
          0.10124889474963233,
          0.019859761849382054,
          0.013297752743131427,
          0.01624838790305062,
          0.01901207045523987,
          0.017227461003475976,
          0.017844848540718716,
          0.019086273134633812,
          0.02141257937440879,
          0.027602403622052123,
          0.03440116960781364,
          0.06554656434622594,
          0.11831732367906138,
          0.12169803965190103,
          0.12554186029081574
         ],
         "line": {
          "color": "silver",
          "width": 0.5
         },
         "marker": {
          "color": "silver",
          "line": {
           "color": "black",
           "width": 0
          },
          "opacity": 0.9,
          "size": 6
         },
         "mode": "lines+markers+text",
         "showlegend": false,
         "subplot": "ternary",
         "text": [
          "",
          "",
          "",
          "",
          "",
          "",
          "",
          "",
          "",
          "",
          "",
          "",
          "",
          "",
          "",
          ""
         ],
         "textfont": {
          "color": "black",
          "size": 4.654418707393355
         },
         "type": "scatterternary"
        },
        {
         "a": [
          0.4335700240984174,
          0.40642695929669276,
          0.39566449737731996,
          0.3727582029414265,
          0.3281835040799664,
          0.30529349480955414,
          0.2727831903537834,
          0.26103953703226085,
          0.2491854205050671,
          0.24257112145828758,
          0.23919901980928027,
          0.23932099690470998,
          0.23991168336565416,
          0.24642318211643638,
          0.26560892587282614,
          0.28503442447672866
         ],
         "b": [
          0.40399937787977036,
          0.43553884268468684,
          0.5249453200947423,
          0.54600888999458,
          0.564156117170368,
          0.5682540773733632,
          0.5784041058210246,
          0.5867960514896907,
          0.6017804462500399,
          0.6091729918433961,
          0.621608441324552,
          0.6294595353631621,
          0.6272691850403989,
          0.6174942689117082,
          0.5982248476021766,
          0.5738553503259335
         ],
         "c": [
          0.16243059802181226,
          0.1580341980186204,
          0.07939018252793784,
          0.08123290706399372,
          0.10766037874966577,
          0.12645242781708255,
          0.14881270382519202,
          0.15216441147804846,
          0.14903413324489292,
          0.1482558866983163,
          0.13919253886616775,
          0.13121946773212792,
          0.13281913159394712,
          0.13608254897185548,
          0.13616622652499724,
          0.14111022519733774
         ],
         "line": {
          "color": "silver",
          "width": 0.5
         },
         "marker": {
          "color": "silver",
          "line": {
           "color": "black",
           "width": 0
          },
          "opacity": 0.9,
          "size": 6
         },
         "mode": "lines+markers+text",
         "showlegend": false,
         "subplot": "ternary",
         "text": [
          "",
          "",
          "",
          "",
          "",
          "",
          "",
          "",
          "",
          "",
          "",
          "",
          "",
          "",
          "",
          ""
         ],
         "textfont": {
          "color": "black",
          "size": 3.3393588043101117
         },
         "type": "scatterternary"
        },
        {
         "a": [
          0.6672045147183171,
          0.6779586279624742,
          0.7766246281417127,
          0.849648625067756,
          0.8585712037103721,
          0.8462001780690043,
          0.8455132628441531,
          0.8385727307271049,
          0.8349141197999796,
          0.8357268540724635,
          0.8322838625217965,
          0.8077204914935332,
          0.7668113134621979,
          0.7190036777208498,
          0.7002036895481614,
          0.6808144353827872
         ],
         "b": [
          0.11680196735705871,
          0.12371230046003748,
          0.17512876726505894,
          0.12359265073470622,
          0.10535130141669957,
          0.10290000252575392,
          0.10172431221197886,
          0.10405993840099807,
          0.10597290563453614,
          0.10600554158746804,
          0.11723959151268791,
          0.12359213595377608,
          0.13280730199814877,
          0.14136346809373052,
          0.1468136968074109,
          0.152484170305735
         ],
         "c": [
          0.21599351792462435,
          0.19832907157748814,
          0.04824660459322831,
          0.026758724197537703,
          0.03607749487292827,
          0.05089981940524172,
          0.052762424943868014,
          0.057367330871896924,
          0.059112974565484214,
          0.058267604340068384,
          0.0504765459655156,
          0.06868737255269089,
          0.10038138453965338,
          0.1396328541854196,
          0.15298261364442764,
          0.16670139431147774
         ],
         "line": {
          "color": "silver",
          "width": 0.5
         },
         "marker": {
          "color": "silver",
          "line": {
           "color": "black",
           "width": 0
          },
          "opacity": 0.9,
          "size": 6
         },
         "mode": "lines+markers+text",
         "showlegend": false,
         "subplot": "ternary",
         "text": [
          "",
          "",
          "",
          "",
          "",
          "",
          "",
          "",
          "",
          "",
          "",
          "",
          "",
          "",
          "",
          ""
         ],
         "textfont": {
          "color": "black",
          "size": 2.9108532130339184
         },
         "type": "scatterternary"
        },
        {
         "a": [
          0.26206401540749436,
          0.2743073221142495,
          0.2352763162607157,
          0.23659861143225544,
          0.28108255496034795,
          0.3191920870174293,
          0.3225901446392759,
          0.322157385871806,
          0.30653313635758134,
          0.2885545813956444,
          0.25560772628287876,
          0.22260717683365333,
          0.18793027916992078,
          0.1590278827561409,
          0.14699546907320257,
          0.13783369815657864
         ],
         "b": [
          0.6545176893946268,
          0.6431040494210788,
          0.7497178052473543,
          0.7564795494432991,
          0.7095856080484634,
          0.6697606641337783,
          0.6683535979624665,
          0.6697200096933846,
          0.6850597097884833,
          0.701848064602225,
          0.732725590742969,
          0.7618976371536513,
          0.7915176998831784,
          0.814384522680565,
          0.8234121093158976,
          0.8293483072677645
         ],
         "c": [
          0.08341829519787886,
          0.08258862846467169,
          0.015005878491930004,
          0.006921839124445342,
          0.009331836991188617,
          0.011047248848792343,
          0.009056257398257491,
          0.008122604434809482,
          0.008407153853935307,
          0.009597354002130567,
          0.011666682974152371,
          0.01549518601269504,
          0.020552020946900756,
          0.02658759456329405,
          0.02959242161089968,
          0.03281799457565672
         ],
         "line": {
          "color": "silver",
          "width": 0.5
         },
         "marker": {
          "color": "goldenrod",
          "line": {
           "color": "black",
           "width": 0
          },
          "opacity": 0.9,
          "size": 6
         },
         "mode": "lines+markers+text",
         "showlegend": false,
         "subplot": "ternary",
         "text": [
          "BRA",
          "",
          "",
          "",
          "",
          "",
          "",
          "",
          "",
          "",
          "",
          "",
          "",
          "",
          "",
          ""
         ],
         "textfont": {
          "color": "black",
          "size": 12.761815072931304
         },
         "type": "scatterternary"
        },
        {
         "a": [
          0.228977265090081,
          0.21965234455094404,
          0.18332594611080716,
          0.18458588711614723,
          0.20864223904199952,
          0.22859258304730729,
          0.22303779256436665,
          0.21856786011934956,
          0.2068413186400049,
          0.19625084879130522,
          0.17492981797310686,
          0.15649219181004376,
          0.13797239690433694,
          0.12520507101659953,
          0.12569618062129667,
          0.12994985706236464
         ],
         "b": [
          0.6845888985473666,
          0.7009117363564095,
          0.7977614690328871,
          0.8039912707264185,
          0.7772415114897948,
          0.7542849087128878,
          0.7588300281351272,
          0.7627361621087635,
          0.7740334916891773,
          0.7835174694421289,
          0.8033141565893055,
          0.818754609797858,
          0.8331135321793536,
          0.8408673270068001,
          0.8361935059112344,
          0.8269139857554606
         ],
         "c": [
          0.0864338363625524,
          0.07943591909264654,
          0.018912584856305512,
          0.011422842157434263,
          0.014116249468205668,
          0.017122508239804993,
          0.018132179300506205,
          0.01869597777188697,
          0.019125189670817826,
          0.020231681766565947,
          0.021756025437587756,
          0.024753198392098125,
          0.02891407091630951,
          0.03392760197660037,
          0.03811031346746904,
          0.0431361571821747
         ],
         "line": {
          "color": "silver",
          "width": 0.5
         },
         "marker": {
          "color": "silver",
          "line": {
           "color": "black",
           "width": 0
          },
          "opacity": 0.9,
          "size": 6
         },
         "mode": "lines+markers+text",
         "showlegend": false,
         "subplot": "ternary",
         "text": [
          "",
          "",
          "",
          "",
          "",
          "",
          "",
          "",
          "",
          "",
          "",
          "",
          "",
          "",
          "",
          ""
         ],
         "textfont": {
          "color": "black",
          "size": 2.019359677393145
         },
         "type": "scatterternary"
        },
        {
         "a": [
          0.19722976566392406,
          0.19020467845819888,
          0.15642929611697998,
          0.15902963633964487,
          0.18696157323388346,
          0.21129312782366164,
          0.21079433477289775,
          0.20984521871031564,
          0.201784595809596,
          0.1957189212363329,
          0.17896600536192458,
          0.16419329206281927,
          0.1482848762819503,
          0.13614547651240533,
          0.13671820759128278,
          0.14085552557122816
         ],
         "b": [
          0.7286226653176332,
          0.7427353410855053,
          0.8269217180387174,
          0.830246493702665,
          0.8007027895481653,
          0.7742036408539125,
          0.7740607092357947,
          0.7758488039426263,
          0.7839222358382659,
          0.7889521556112772,
          0.8039046495932147,
          0.8153076295550709,
          0.8262018310134922,
          0.8319784643226461,
          0.8278049766957409,
          0.8194968456967466
         ],
         "c": [
          0.07414756901844267,
          0.06705998045629574,
          0.016648985844302622,
          0.010723869957690034,
          0.012335637217951034,
          0.014503231322425982,
          0.015144955991307645,
          0.014305977347058144,
          0.014293168352138183,
          0.015328923152389944,
          0.017129345044860547,
          0.02049907838210984,
          0.025513292704557437,
          0.031876059164948504,
          0.035476815712976166,
          0.03964762873202528
         ],
         "line": {
          "color": "silver",
          "width": 0.5
         },
         "marker": {
          "color": "silver",
          "line": {
           "color": "black",
           "width": 0
          },
          "opacity": 0.9,
          "size": 6
         },
         "mode": "lines+markers+text",
         "showlegend": false,
         "subplot": "ternary",
         "text": [
          "",
          "",
          "",
          "",
          "",
          "",
          "",
          "",
          "",
          "",
          "",
          "",
          "",
          "",
          "",
          ""
         ],
         "textfont": {
          "color": "black",
          "size": 4.024765423821268
         },
         "type": "scatterternary"
        },
        {
         "a": [
          0.4095426013891705,
          0.4063193859295362,
          0.3787902576560277,
          0.3844796204710512,
          0.4360052863690326,
          0.47557560053879433,
          0.47448681185691954,
          0.47151837226722115,
          0.45627199383722766,
          0.441764369870605,
          0.41141729693591056,
          0.375251716958571,
          0.33367749250247036,
          0.29668594909220136,
          0.2832498143727011,
          0.2744432351558458
         ],
         "b": [
          0.45685653476309757,
          0.4724260899127003,
          0.6007341046209069,
          0.6074643853346426,
          0.5521563183021204,
          0.5079057592548861,
          0.509133238023531,
          0.5115983574701015,
          0.5263872500013769,
          0.5403553440281127,
          0.5686821497260792,
          0.5981309183215628,
          0.6307679829815136,
          0.6560902770985083,
          0.6621339413255373,
          0.6624271713153221
         ],
         "c": [
          0.13360086384773184,
          0.12125452415776347,
          0.020475637723065394,
          0.008055994194306066,
          0.011838395328846962,
          0.01651864020631936,
          0.016379950119549378,
          0.01688327026267738,
          0.017340756161395465,
          0.017880286101282363,
          0.01990055333801038,
          0.026617364719866116,
          0.03555452451601618,
          0.04722377380929041,
          0.05461624430176175,
          0.06312959352883217
         ],
         "line": {
          "color": "silver",
          "width": 0.5
         },
         "marker": {
          "color": "silver",
          "line": {
           "color": "black",
           "width": 0
          },
          "opacity": 0.9,
          "size": 6
         },
         "mode": "lines+markers+text",
         "showlegend": false,
         "subplot": "ternary",
         "text": [
          "",
          "",
          "",
          "",
          "",
          "",
          "",
          "",
          "",
          "",
          "",
          "",
          "",
          "",
          "",
          ""
         ],
         "textfont": {
          "color": "black",
          "size": 5.725948437504052
         },
         "type": "scatterternary"
        },
        {
         "a": [
          0.35231544010711946,
          0.3113587384820546,
          0.28999635759066156,
          0.27445958567849527,
          0.24532547818289507,
          0.23050803632893796,
          0.20738710290284135,
          0.1984894670130637,
          0.1877313537733921,
          0.1806024376395457,
          0.17452562993459367,
          0.17167725108401352,
          0.16889874261013432,
          0.17172967096196257,
          0.18835089385733442,
          0.2093843123139969
         ],
         "b": [
          0.5117746641485605,
          0.5593082955474282,
          0.6383008459913002,
          0.6482382943253975,
          0.6547047172087551,
          0.6530493825301904,
          0.6584748602939592,
          0.6664983770738675,
          0.681184394853663,
          0.6899022157399082,
          0.705846447853412,
          0.7172149608343642,
          0.7201314438159665,
          0.7168274122498002,
          0.7014477496956757,
          0.6783018250180886
         ],
         "c": [
          0.13590989574432016,
          0.12933296597051736,
          0.07170279641803833,
          0.07730211999610735,
          0.09996980460834985,
          0.11644258114087165,
          0.1341380368031994,
          0.1350121559130687,
          0.13108425137294497,
          0.12949534662054596,
          0.1196279222119944,
          0.11110778808162215,
          0.11096981357389915,
          0.11144291678823727,
          0.11020135644699007,
          0.11231386266791461
         ],
         "line": {
          "color": "silver",
          "width": 0.5
         },
         "marker": {
          "color": "silver",
          "line": {
           "color": "black",
           "width": 0
          },
          "opacity": 0.9,
          "size": 6
         },
         "mode": "lines+markers+text",
         "showlegend": false,
         "subplot": "ternary",
         "text": [
          "",
          "",
          "",
          "",
          "",
          "",
          "",
          "",
          "",
          "",
          "",
          "",
          "",
          "",
          "",
          ""
         ],
         "textfont": {
          "color": "black",
          "size": 4.595970635773682
         },
         "type": "scatterternary"
        },
        {
         "a": [
          0.3280091656024379,
          0.31669978273025334,
          0.287286411238583,
          0.3012210637410429,
          0.36040201137265593,
          0.41207540886718413,
          0.415837501328276,
          0.42094542187421335,
          0.4091713422736939,
          0.3896313603642423,
          0.34645930449693296,
          0.29211628670472783,
          0.24278338724882775,
          0.21661770826209237,
          0.2037998219536863,
          0.19722069245008284
         ],
         "b": [
          0.5022135396407359,
          0.5218998904525228,
          0.6243117277727752,
          0.6209865824674111,
          0.5654327173401671,
          0.5241916333294483,
          0.5177281780473021,
          0.5150792671686181,
          0.5247053004114987,
          0.5381368160649936,
          0.578183608709779,
          0.6322289598924055,
          0.6789168179464851,
          0.6959944901420072,
          0.7129682318433723,
          0.7226732844856476
         ],
         "c": [
          0.16977729475682624,
          0.16140032681722372,
          0.0884018609886417,
          0.07779235379154595,
          0.07416527128717694,
          0.06373295780336755,
          0.06643432062442196,
          0.06397531095716859,
          0.06612335731480742,
          0.07223182357076399,
          0.07535708679328797,
          0.07565475340286668,
          0.07829979480468731,
          0.08738780159590048,
          0.08323194620294122,
          0.08010602306426957
         ],
         "line": {
          "color": "silver",
          "width": 0.5
         },
         "marker": {
          "color": "silver",
          "line": {
           "color": "black",
           "width": 0
          },
          "opacity": 0.9,
          "size": 6
         },
         "mode": "lines+markers+text",
         "showlegend": false,
         "subplot": "ternary",
         "text": [
          "",
          "",
          "",
          "",
          "",
          "",
          "",
          "",
          "",
          "",
          "",
          "",
          "",
          "",
          "",
          ""
         ],
         "textfont": {
          "color": "black",
          "size": 5.152415999792729
         },
         "type": "scatterternary"
        },
        {
         "a": [
          0.12442597040601508,
          0.13391203721980519,
          0.13016885542932605,
          0.140734792383006,
          0.1707928401867508,
          0.19186117793590352,
          0.1896749272300266,
          0.1912909311851262,
          0.1808427268196396,
          0.17177222878541956,
          0.14841665060020845,
          0.152113001508864,
          0.15272055225906125,
          0.15943293694452887,
          0.17082012238249064,
          0.1762224235977257
         ],
         "b": [
          0.8543537911860448,
          0.8430899667777171,
          0.8589673404722701,
          0.8441181687512695,
          0.7988118113428341,
          0.7523201637321263,
          0.725371301922049,
          0.7103565341275744,
          0.6968284643961509,
          0.6906769053063656,
          0.6796948705394676,
          0.6977884204861222,
          0.7134749679451798,
          0.7307899645515299,
          0.7353056559639451,
          0.7351526734652818
         ],
         "c": [
          0.02122023840794014,
          0.022997996002477757,
          0.010863804098403755,
          0.015147038865724254,
          0.03039534847041505,
          0.055818658331970084,
          0.08495377084792419,
          0.09835253468729951,
          0.12232880878420939,
          0.13755086590821491,
          0.17188847886032382,
          0.15009857800501372,
          0.13380447979575905,
          0.1097770985039412,
          0.09387422165356414,
          0.08862490293699254
         ],
         "line": {
          "color": "silver",
          "width": 0.5
         },
         "marker": {
          "color": "silver",
          "line": {
           "color": "black",
           "width": 0
          },
          "opacity": 0.9,
          "size": 6
         },
         "mode": "lines+markers+text",
         "showlegend": false,
         "subplot": "ternary",
         "text": [
          "",
          "",
          "",
          "",
          "",
          "",
          "",
          "",
          "",
          "",
          "",
          "",
          "",
          "",
          "",
          ""
         ],
         "textfont": {
          "color": "black",
          "size": 5.903824517160328
         },
         "type": "scatterternary"
        },
        {
         "a": [
          0.24347603673356757,
          0.2141610926209373,
          0.15320638702939432,
          0.128914106230604,
          0.11704072884663917,
          0.1081854409245136,
          0.08415088370687192,
          0.07223326119997953,
          0.0676719849627703,
          0.07136742401172574,
          0.07959395925085855,
          0.0852294830595408,
          0.0772192900227235,
          0.06920113132388311,
          0.08312197711952476,
          0.10395549326364936
         ],
         "b": [
          0.6710249469333118,
          0.7119053645623293,
          0.8145929570767921,
          0.809127413712022,
          0.7833959190220923,
          0.7486060845941401,
          0.7090552257346012,
          0.6780391968883525,
          0.6730289280467189,
          0.6874830313814309,
          0.717586918965616,
          0.7335082779306457,
          0.7100215927935883,
          0.6637633539232255,
          0.6672184483791359,
          0.6699097022116686
         ],
         "c": [
          0.08549901633312046,
          0.07393354281673331,
          0.03220065589381356,
          0.061958480057373984,
          0.09956335213126861,
          0.1432084744813464,
          0.2067938905585268,
          0.24972754191166818,
          0.2592990869905107,
          0.2411495446068435,
          0.20281912178352535,
          0.18126223900981356,
          0.21275911718368803,
          0.26703551475289145,
          0.24965957450133935,
          0.22613480452468193
         ],
         "line": {
          "color": "silver",
          "width": 0.5
         },
         "marker": {
          "color": "silver",
          "line": {
           "color": "black",
           "width": 0
          },
          "opacity": 0.9,
          "size": 6
         },
         "mode": "lines+markers+text",
         "showlegend": false,
         "subplot": "ternary",
         "text": [
          "",
          "",
          "",
          "",
          "",
          "",
          "",
          "",
          "",
          "",
          "",
          "",
          "",
          "",
          "",
          ""
         ],
         "textfont": {
          "color": "black",
          "size": 6.912950988281543
         },
         "type": "scatterternary"
        },
        {
         "a": [
          0.4234222785035516,
          0.4225989226981798,
          0.41496205217705817,
          0.40776452236480903,
          0.4008576481545475,
          0.3952594319168037,
          0.3691598100714128,
          0.3460143141242513,
          0.3200399094428404,
          0.30300318542737803,
          0.27658669994549406,
          0.2492725835751502,
          0.217708967126228,
          0.19413630669886336,
          0.19089641472939267,
          0.19381048006471818
         ],
         "b": [
          0.4344600083650363,
          0.44664916728118054,
          0.556934426485603,
          0.5782634451415462,
          0.583087508558267,
          0.5860914041961732,
          0.6122561382281435,
          0.6337513505566591,
          0.6568138824011386,
          0.6699684430779647,
          0.6874890706078619,
          0.6987645523868543,
          0.7171968439950247,
          0.7262452402091788,
          0.7145910296447521,
          0.6948927711364782
         ],
         "c": [
          0.14211771313141208,
          0.13075191002063957,
          0.028103521337338955,
          0.013972032493644773,
          0.016054843287185587,
          0.018649163887023118,
          0.018584051700443777,
          0.020234335319089733,
          0.023146208156021007,
          0.027028371494657314,
          0.03592422944664402,
          0.05196286403799565,
          0.06509418887874731,
          0.07961845309195781,
          0.09451255562585535,
          0.11129674879880377
         ],
         "line": {
          "color": "silver",
          "width": 0.5
         },
         "marker": {
          "color": "silver",
          "line": {
           "color": "black",
           "width": 0
          },
          "opacity": 0.9,
          "size": 6
         },
         "mode": "lines+markers+text",
         "showlegend": false,
         "subplot": "ternary",
         "text": [
          "",
          "",
          "",
          "",
          "",
          "",
          "",
          "",
          "",
          "",
          "",
          "",
          "",
          "",
          "",
          ""
         ],
         "textfont": {
          "color": "black",
          "size": 2.075632627217871
         },
         "type": "scatterternary"
        },
        {
         "a": [
          0.36295367738228834,
          0.3407012483983326,
          0.29835401036376286,
          0.2837594619337684,
          0.3019466873558655,
          0.31616074056380217,
          0.30158604927254107,
          0.2966962307231571,
          0.2856416537218338,
          0.2722475063493117,
          0.2440694150154662,
          0.21396740728330732,
          0.18470505382598118,
          0.16065668917126663,
          0.1486069799784712,
          0.14073453932969532
         ],
         "b": [
          0.5017098866637271,
          0.5403273195664454,
          0.6690360328364726,
          0.6905388495370645,
          0.6625501144463629,
          0.636930697838546,
          0.6421006839478752,
          0.6479316194175926,
          0.6644612513535881,
          0.6787850314591243,
          0.7039203834695871,
          0.7215244930082786,
          0.7325857485942094,
          0.7391400416196477,
          0.7387275926115643,
          0.7388092001346244
         ],
         "c": [
          0.13533643595398448,
          0.11897143203522198,
          0.03260995679976464,
          0.02570168852916703,
          0.03550319819777148,
          0.04690856159765173,
          0.05631326677958378,
          0.055372149859250236,
          0.04989709492457788,
          0.04896746219156397,
          0.05201020151494687,
          0.0645080997084141,
          0.08270919757980928,
          0.10020326920908566,
          0.1126654274099646,
          0.12045626053568034
         ],
         "line": {
          "color": "silver",
          "width": 0.5
         },
         "marker": {
          "color": "silver",
          "line": {
           "color": "black",
           "width": 0
          },
          "opacity": 0.9,
          "size": 6
         },
         "mode": "lines+markers+text",
         "showlegend": false,
         "subplot": "ternary",
         "text": [
          "",
          "",
          "",
          "",
          "",
          "",
          "",
          "",
          "",
          "",
          "",
          "",
          "",
          "",
          "",
          ""
         ],
         "textfont": {
          "color": "black",
          "size": 3.687412617997421
         },
         "type": "scatterternary"
        },
        {
         "a": [
          0.2051210147710632,
          0.17663181440559242,
          0.14836925404596316,
          0.13613939117123508,
          0.11920609302856494,
          0.10823778271477152,
          0.093565409267932,
          0.08479409059451078,
          0.07471018447501035,
          0.06656163289166836,
          0.058297352600333474,
          0.0515244579905217,
          0.04510357189919181,
          0.04089345979746144,
          0.04134209803866797,
          0.04294843067168472
         ],
         "b": [
          0.7061990792033651,
          0.7380604731366673,
          0.7991896184391698,
          0.8036199496000334,
          0.804686887328978,
          0.8044227262726381,
          0.808495940624322,
          0.8195489654678392,
          0.8340782893638748,
          0.8447551150290371,
          0.8625545240787759,
          0.876355824387438,
          0.8836817427871794,
          0.887446638372425,
          0.8854465587371878,
          0.8803854175493758
         ],
         "c": [
          0.08867990602557152,
          0.08530771245774034,
          0.052441127514867056,
          0.06024065922873167,
          0.07610701964245713,
          0.08733949101259052,
          0.09793865010774588,
          0.09565694393765009,
          0.09121152616111476,
          0.08868325207929459,
          0.07914812332089059,
          0.07211971762204021,
          0.07121468531362878,
          0.07165990183011361,
          0.07321134322414434,
          0.07666615177893969
         ],
         "line": {
          "color": "silver",
          "width": 0.5
         },
         "marker": {
          "color": "silver",
          "line": {
           "color": "black",
           "width": 0
          },
          "opacity": 0.9,
          "size": 6
         },
         "mode": "lines+markers+text",
         "showlegend": false,
         "subplot": "ternary",
         "text": [
          "",
          "",
          "",
          "",
          "",
          "",
          "",
          "",
          "",
          "",
          "",
          "",
          "",
          "",
          "",
          ""
         ],
         "textfont": {
          "color": "black",
          "size": 5.035554708877891
         },
         "type": "scatterternary"
        },
        {
         "a": [
          0.3543464214652471,
          0.3727991625005646,
          0.4389972276084278,
          0.47356070764632463,
          0.4555844210256789,
          0.42593784797560574,
          0.36733416971444005,
          0.502056694020473,
          0.6524433041226922,
          0.6313724216710316,
          0.5664550360625035,
          0.5059539492733856,
          0.40708978197471885,
          0.2811432599645514,
          0.2792844287437465,
          0.27641820859294464
         ],
         "b": [
          0.47472119517951183,
          0.4019064715624852,
          0.395520156740675,
          0.36555098528118063,
          0.33690295371480733,
          0.3314571643086455,
          0.3512606022286855,
          0.2933870990376216,
          0.26182127710096276,
          0.2871751773596319,
          0.3329450361498646,
          0.37917872594689644,
          0.41575559187008637,
          0.4258925814098904,
          0.44026428396098427,
          0.4454183564410327
         ],
         "c": [
          0.17093238335524105,
          0.2252943659369502,
          0.16548261565089714,
          0.16088830707249466,
          0.2075126252595136,
          0.2426049877157487,
          0.28140522805687435,
          0.20455620694190543,
          0.08573541877634491,
          0.08145240096933662,
          0.10059992778763178,
          0.11486732477971803,
          0.1771546261551946,
          0.29296415862555836,
          0.2804512872952693,
          0.2781634349660227
         ],
         "line": {
          "color": "silver",
          "width": 0.5
         },
         "marker": {
          "color": "silver",
          "line": {
           "color": "black",
           "width": 0
          },
          "opacity": 0.9,
          "size": 6
         },
         "mode": "lines+markers+text",
         "showlegend": false,
         "subplot": "ternary",
         "text": [
          "",
          "",
          "",
          "",
          "",
          "",
          "",
          "",
          "",
          "",
          "",
          "",
          "",
          "",
          "",
          ""
         ],
         "textfont": {
          "color": "black",
          "size": 5.451124876271233
         },
         "type": "scatterternary"
        },
        {
         "a": [
          0.38392754546126157,
          0.4672379646140522,
          0.5523635306811355,
          0.6304678218246237,
          0.7003660447716301,
          0.7661025186163684,
          0.7942442352646706,
          0.8013682675193959,
          0.7898821564561636,
          0.7960061772346743,
          0.7724663964157005,
          0.740663099472319,
          0.6973469631503597,
          0.6475769710998514,
          0.6208533975396406,
          0.5968504843540694
         ],
         "b": [
          0.48832627579793514,
          0.3831221132081406,
          0.393045157174753,
          0.33485369690704236,
          0.26163414825277553,
          0.19110846164410517,
          0.16160939050841916,
          0.1493146220176189,
          0.15616965197996244,
          0.1594473662950009,
          0.178169529785355,
          0.19669411681008497,
          0.2197475324990825,
          0.24368746469658747,
          0.2592275627925745,
          0.2752815570851991
         ],
         "c": [
          0.12774617874080338,
          0.1496399221778072,
          0.054591312144111614,
          0.03467848126833396,
          0.037999806975594456,
          0.04278901973952655,
          0.04414637422691019,
          0.049317110462985085,
          0.053948191563874065,
          0.04454645647032488,
          0.049364073798944454,
          0.06264278371759605,
          0.0829055043505579,
          0.10873556420356109,
          0.11991903966778489,
          0.12786795856073158
         ],
         "line": {
          "color": "silver",
          "width": 0.5
         },
         "marker": {
          "color": "tomato",
          "line": {
           "color": "black",
           "width": 0
          },
          "opacity": 0.9,
          "size": 6
         },
         "mode": "lines+markers+text",
         "showlegend": false,
         "subplot": "ternary",
         "text": [
          "CHN",
          "",
          "",
          "",
          "",
          "",
          "",
          "",
          "",
          "",
          "",
          "",
          "",
          "",
          "",
          ""
         ],
         "textfont": {
          "color": "black",
          "size": 25.93604859861441
         },
         "type": "scatterternary"
        },
        {
         "a": [
          0,
          0,
          0,
          0,
          0,
          0,
          0,
          0,
          0,
          0,
          0,
          0,
          0,
          0,
          0,
          0
         ],
         "b": [
          0,
          0,
          0,
          0,
          0,
          0,
          0,
          0,
          0,
          0,
          0,
          0,
          0,
          0,
          0,
          0
         ],
         "c": [
          0,
          0,
          0,
          0,
          0,
          0,
          0,
          0,
          0,
          0,
          0,
          0,
          0,
          0,
          0,
          0
         ],
         "line": {
          "color": "silver",
          "width": 0.5
         },
         "marker": {
          "color": "silver",
          "line": {
           "color": "black",
           "width": 0
          },
          "opacity": 0.9,
          "size": 6
         },
         "mode": "lines+markers+text",
         "showlegend": false,
         "subplot": "ternary",
         "text": [
          "",
          "",
          "",
          "",
          "",
          "",
          "",
          "",
          "",
          "",
          "",
          "",
          "",
          "",
          "",
          ""
         ],
         "textfont": {
          "color": "black",
          "size": 7.7321079561684956
         },
         "type": "scatterternary"
        },
        {
         "a": [
          0.19283079778182488,
          0.19932309097120904,
          0.19498670819721237,
          0.2093641013505208,
          0.24830548786683543,
          0.2781449857802807,
          0.2834935082742496,
          0.28505527371340433,
          0.27568182395616375,
          0.26331073828252566,
          0.24094324237264064,
          0.2225077148674003,
          0.2062745099950363,
          0.191484275030489,
          0.18733442908207454,
          0.18529424945130468
         ],
         "b": [
          0.7662139617910068,
          0.7607721617777407,
          0.7907294414761903,
          0.7785402105283377,
          0.7359009674272948,
          0.7008787880386455,
          0.6920823127708143,
          0.6866206569864827,
          0.6911372220397387,
          0.697546788859705,
          0.7137502707488181,
          0.7285371277103213,
          0.7438109473569318,
          0.7486020096088961,
          0.7378596575819008,
          0.724964569148297
         ],
         "c": [
          0.04095524042716832,
          0.03990474725105038,
          0.014283850326597285,
          0.012095688121141469,
          0.015793544705869786,
          0.02097622618107383,
          0.024424178954936086,
          0.028324069300112973,
          0.033180954004097526,
          0.03914247285776949,
          0.04530648687854138,
          0.048955157422278274,
          0.049914542648032016,
          0.059913715360614725,
          0.07480591333602482,
          0.08974118140039827
         ],
         "line": {
          "color": "silver",
          "width": 0.5
         },
         "marker": {
          "color": "silver",
          "line": {
           "color": "black",
           "width": 0
          },
          "opacity": 0.9,
          "size": 6
         },
         "mode": "lines+markers+text",
         "showlegend": false,
         "subplot": "ternary",
         "text": [
          "",
          "",
          "",
          "",
          "",
          "",
          "",
          "",
          "",
          "",
          "",
          "",
          "",
          "",
          "",
          ""
         ],
         "textfont": {
          "color": "black",
          "size": 2.3269757916923943
         },
         "type": "scatterternary"
        },
        {
         "a": [
          0.43186787104441565,
          0.4343890961816483,
          0.44360472765321135,
          0.448943176806376,
          0.45507271206969147,
          0.45847002012220256,
          0.4431734363076354,
          0.4302988038270509,
          0.41183478379420213,
          0.3944007165411806,
          0.362582831573234,
          0.33169634949116106,
          0.29849128585851986,
          0.27092181635217955,
          0.2689264724697523,
          0.2720518391643778
         ],
         "b": [
          0.42652394708827,
          0.43414804787986266,
          0.5216717855686545,
          0.5290806347403528,
          0.5204388737127454,
          0.5130867686940881,
          0.5260460429589892,
          0.5360507226712931,
          0.5501985475835026,
          0.561309478564007,
          0.5832326801336408,
          0.6002672131855105,
          0.6152129440418498,
          0.6206700857657413,
          0.603763582373465,
          0.5798200499590211
         ],
         "c": [
          0.14160818186731447,
          0.13146285593848908,
          0.03472348677813416,
          0.021976188453271112,
          0.024488414217563075,
          0.02844321118370932,
          0.03078052073337547,
          0.033650473501656,
          0.03796666862229508,
          0.04428980489481229,
          0.05418448829312524,
          0.06803643732332844,
          0.08629577009963034,
          0.1084080978820792,
          0.12730994515678284,
          0.14812811087660105
         ],
         "line": {
          "color": "silver",
          "width": 0.5
         },
         "marker": {
          "color": "silver",
          "line": {
           "color": "black",
           "width": 0
          },
          "opacity": 0.9,
          "size": 6
         },
         "mode": "lines+markers+text",
         "showlegend": false,
         "subplot": "ternary",
         "text": [
          "",
          "",
          "",
          "",
          "",
          "",
          "",
          "",
          "",
          "",
          "",
          "",
          "",
          "",
          "",
          ""
         ],
         "textfont": {
          "color": "black",
          "size": 3.6498174086681754
         },
         "type": "scatterternary"
        },
        {
         "a": [
          0,
          0,
          0,
          0,
          0,
          0,
          0,
          0,
          0,
          0,
          0,
          0,
          0,
          0,
          0,
          0
         ],
         "b": [
          0,
          0,
          0,
          0,
          0,
          0,
          0,
          0,
          0,
          0,
          0,
          0,
          0,
          0,
          0,
          0
         ],
         "c": [
          0,
          0,
          0,
          0,
          0,
          0,
          0,
          0,
          0,
          0,
          0,
          0,
          0,
          0,
          0,
          0
         ],
         "line": {
          "color": "silver",
          "width": 0.5
         },
         "marker": {
          "color": "silver",
          "line": {
           "color": "black",
           "width": 0
          },
          "opacity": 0.9,
          "size": 6
         },
         "mode": "lines+markers+text",
         "showlegend": false,
         "subplot": "ternary",
         "text": [
          "",
          "",
          "",
          "",
          "",
          "",
          "",
          "",
          "",
          "",
          "",
          "",
          "",
          "",
          "",
          ""
         ],
         "textfont": {
          "color": "black",
          "size": 2.3834806319711186
         },
         "type": "scatterternary"
        },
        {
         "a": [
          0,
          0,
          0,
          0,
          0,
          0,
          0,
          0,
          0,
          0,
          0,
          0,
          0,
          0,
          0,
          0
         ],
         "b": [
          0,
          0,
          0,
          0,
          0,
          0,
          0,
          0,
          0,
          0,
          0,
          0,
          0,
          0,
          0,
          0
         ],
         "c": [
          0,
          0,
          0,
          0,
          0,
          0,
          0,
          0,
          0,
          0,
          0,
          0,
          0,
          0,
          0,
          0
         ],
         "line": {
          "color": "silver",
          "width": 0.5
         },
         "marker": {
          "color": "silver",
          "line": {
           "color": "black",
           "width": 0
          },
          "opacity": 0.9,
          "size": 6
         },
         "mode": "lines+markers+text",
         "showlegend": false,
         "subplot": "ternary",
         "text": [
          "",
          "",
          "",
          "",
          "",
          "",
          "",
          "",
          "",
          "",
          "",
          "",
          "",
          "",
          "",
          ""
         ],
         "textfont": {
          "color": "black",
          "size": 3.701055751902878
         },
         "type": "scatterternary"
        },
        {
         "a": [
          0.6829035611700581,
          0.6809590631977935,
          0.7242991296741126,
          0.7103735173522634,
          0.6861736849660138,
          0.6708894266217882,
          0.6384713387260225,
          0.67166430133561,
          0.7041384646367559,
          0.703576284236294,
          0.6866345571212957,
          0.6722329092909132,
          0.6426806737923496,
          0.5897280537757348,
          0.6022268610433549,
          0.612256269019071
         ],
         "b": [
          0.11852069744692732,
          0.13364439073820025,
          0.23186220985529762,
          0.2639901063039687,
          0.27964791720888443,
          0.28688553209509327,
          0.3138213066153204,
          0.28685775623284365,
          0.2691746162355192,
          0.2667037696097627,
          0.27630582936944365,
          0.2793072425402053,
          0.28918785977844363,
          0.306333001546278,
          0.2806707459560365,
          0.2568601617044489
         ],
         "c": [
          0.19857574138301437,
          0.1853965460640063,
          0.04383866047058976,
          0.02563637634376802,
          0.034178397825101854,
          0.042225041283118527,
          0.04770735465865728,
          0.04147794243154643,
          0.026686919127724962,
          0.02971994615394327,
          0.03705961350926071,
          0.0484598481688816,
          0.06813146642920667,
          0.10393894467798712,
          0.1171023930006086,
          0.13088356927647998
         ],
         "line": {
          "color": "silver",
          "width": 0.5
         },
         "marker": {
          "color": "silver",
          "line": {
           "color": "black",
           "width": 0
          },
          "opacity": 0.9,
          "size": 6
         },
         "mode": "lines+markers+text",
         "showlegend": false,
         "subplot": "ternary",
         "text": [
          "",
          "",
          "",
          "",
          "",
          "",
          "",
          "",
          "",
          "",
          "",
          "",
          "",
          "",
          "",
          ""
         ],
         "textfont": {
          "color": "black",
          "size": 5.861927619509625
         },
         "type": "scatterternary"
        },
        {
         "a": [
          0.061312642074180745,
          0.06456710968321173,
          0.0676023231760424,
          0.07427987084065105,
          0.08722671210327343,
          0.09653681250111733,
          0.09664505589339871,
          0.09625873278544272,
          0.09605969300815223,
          0.09764638734839043,
          0.09601484491436027,
          0.09355483149950405,
          0.08890962379248851,
          0.08496200431133294,
          0.08556887936970173,
          0.08521952551821085
         ],
         "b": [
          0.8961471580477917,
          0.8918380895328225,
          0.8886300071178157,
          0.8767738060319973,
          0.8502194280762813,
          0.8218087514991987,
          0.7978742685751886,
          0.781524214564657,
          0.7803011039730896,
          0.787925502040835,
          0.7982917776298415,
          0.8049641495776831,
          0.8107133434684035,
          0.8183677903247351,
          0.8275546007875703,
          0.8378480921758643
         ],
         "c": [
          0.042540199878027624,
          0.04359480078396579,
          0.043767669706141904,
          0.04894632312735161,
          0.06255385982044527,
          0.08165443599968375,
          0.10548067553141269,
          0.12221705264990022,
          0.12363920301875826,
          0.11442811061077471,
          0.10569337745579829,
          0.10148101892281283,
          0.10037703273910797,
          0.09667020536393206,
          0.08687651984272808,
          0.07693238230592474
         ],
         "line": {
          "color": "silver",
          "width": 0.5
         },
         "marker": {
          "color": "silver",
          "line": {
           "color": "black",
           "width": 0
          },
          "opacity": 0.9,
          "size": 6
         },
         "mode": "lines+markers+text",
         "showlegend": false,
         "subplot": "ternary",
         "text": [
          "",
          "",
          "",
          "",
          "",
          "",
          "",
          "",
          "",
          "",
          "",
          "",
          "",
          "",
          "",
          ""
         ],
         "textfont": {
          "color": "black",
          "size": 3.4884501415574887
         },
         "type": "scatterternary"
        },
        {
         "a": [
          0.10576103240228704,
          0.11324070474076917,
          0.11442147377455396,
          0.1271949406700578,
          0.15172930715815863,
          0.14873252395668268,
          0.10551228918777278,
          0.077618416583489,
          0.06565616786786879,
          0.071603623933023,
          0.10855054422435403,
          0.1394846623806642,
          0.12319568625531771,
          0.10306065120027107,
          0.09690767889953636,
          0.10167558225859358
         ],
         "b": [
          0.8651543636374959,
          0.8557210954378465,
          0.8642440294389598,
          0.8439373783641388,
          0.795216635658018,
          0.7295747502268063,
          0.6492160202961592,
          0.6030568129728298,
          0.592466123856321,
          0.6070441664903614,
          0.6995330855845224,
          0.7710399296880908,
          0.766265055450492,
          0.7217569840697942,
          0.6826844726905009,
          0.650694598271857
         ],
         "c": [
          0.029084603960216962,
          0.03103819982138443,
          0.02133449678648628,
          0.02886768096580345,
          0.05305405718382327,
          0.121692725816511,
          0.24527169051606798,
          0.3193247704436813,
          0.34187770827581027,
          0.32135220957661564,
          0.19191637019112354,
          0.08947540793124512,
          0.11053925829419045,
          0.17518236472993493,
          0.2204078484099627,
          0.2476298194695494
         ],
         "line": {
          "color": "silver",
          "width": 0.5
         },
         "marker": {
          "color": "silver",
          "line": {
           "color": "black",
           "width": 0
          },
          "opacity": 0.9,
          "size": 6
         },
         "mode": "lines+markers+text",
         "showlegend": false,
         "subplot": "ternary",
         "text": [
          "",
          "",
          "",
          "",
          "",
          "",
          "",
          "",
          "",
          "",
          "",
          "",
          "",
          "",
          "",
          ""
         ],
         "textfont": {
          "color": "black",
          "size": 4.621062467071312
         },
         "type": "scatterternary"
        },
        {
         "a": [
          0.25192417467306627,
          0.2558813290277207,
          0.25937997785993017,
          0.2692791870346671,
          0.28520970865540685,
          0.30016257864227647,
          0.29682762443232413,
          0.3028353505684287,
          0.30326081612023736,
          0.30486022875575847,
          0.29929578479498925,
          0.29255189272415194,
          0.2784111491459913,
          0.2623862045607209,
          0.2556519699756761,
          0.24713907011162914
         ],
         "b": [
          0.699890536546183,
          0.6943301812453541,
          0.7227213048961653,
          0.7148063872938348,
          0.6864803638861178,
          0.659543877190855,
          0.654278020604059,
          0.6438346656809529,
          0.639697340963639,
          0.6345272956011684,
          0.6416810282848996,
          0.6500206852031492,
          0.6621835202904728,
          0.6745380817153152,
          0.6815602234776814,
          0.6923813653351024
         ],
         "c": [
          0.04818528878075064,
          0.04978848972692532,
          0.01789871724390453,
          0.01591442567149817,
          0.02830992745847535,
          0.04029354416686854,
          0.04889435496361695,
          0.053329983750618475,
          0.05704184291612346,
          0.060612475643073295,
          0.059023186920111305,
          0.057427422072698846,
          0.059405330563535794,
          0.06307571372396382,
          0.06278780654664264,
          0.060479564553268285
         ],
         "line": {
          "color": "silver",
          "width": 0.5
         },
         "marker": {
          "color": "silver",
          "line": {
           "color": "black",
           "width": 0
          },
          "opacity": 0.9,
          "size": 6
         },
         "mode": "lines+markers+text",
         "showlegend": false,
         "subplot": "ternary",
         "text": [
          "",
          "",
          "",
          "",
          "",
          "",
          "",
          "",
          "",
          "",
          "",
          "",
          "",
          "",
          "",
          ""
         ],
         "textfont": {
          "color": "black",
          "size": 2.511676694988793
         },
         "type": "scatterternary"
        },
        {
         "a": [
          0.39754783039484265,
          0.48204614335982066,
          0.558633598553159,
          0.6505732569597034,
          0.6959260268857281,
          0.6997665847718588,
          0.6738001668457861,
          0.6447868418183219,
          0.6134545899800367,
          0.5888917846992499,
          0.5617213506646004,
          0.5349540996671898,
          0.4989512666617382,
          0.4645767805199482,
          0.46435473434288654,
          0.4827294810840208
         ],
         "b": [
          0.49116456840341804,
          0.39690108807144175,
          0.41465416246172354,
          0.3343981885931935,
          0.25840052750480136,
          0.22202010385590715,
          0.21958405048396362,
          0.22320027904953052,
          0.23249399641604399,
          0.24257300852097302,
          0.2576391827470454,
          0.2720568184502339,
          0.29306557313925685,
          0.3068386642829767,
          0.29399811976249873,
          0.2671709535338307
         ],
         "c": [
          0.11128760120173932,
          0.12105276856873748,
          0.026712238985117518,
          0.015028554447103196,
          0.04567344560947054,
          0.07821331137223417,
          0.10661578267025017,
          0.13201287913214754,
          0.15405141360391922,
          0.168535206779777,
          0.18063946658835417,
          0.19298908188257638,
          0.20798316019900492,
          0.2285845551970751,
          0.24164714589461464,
          0.25009956538214845
         ],
         "line": {
          "color": "silver",
          "width": 0.5
         },
         "marker": {
          "color": "silver",
          "line": {
           "color": "black",
           "width": 0
          },
          "opacity": 0.9,
          "size": 6
         },
         "mode": "lines+markers+text",
         "showlegend": false,
         "subplot": "ternary",
         "text": [
          "",
          "",
          "",
          "",
          "",
          "",
          "",
          "",
          "",
          "",
          "",
          "",
          "",
          "",
          "",
          ""
         ],
         "textfont": {
          "color": "black",
          "size": 4.6065121795942305
         },
         "type": "scatterternary"
        },
        {
         "a": [
          0.396875008486372,
          0.31956851623642696,
          0.30306137301667185,
          0.3032068738363866,
          0.2827723918848106,
          0.2648489685349349,
          0.24207434942513417,
          0.23191892487197135,
          0.2200088453570857,
          0.21198378900908205,
          0.2028071092128917,
          0.19684268012383718,
          0.18801442385307215,
          0.18428294451507143,
          0.1967077470953965,
          0.21605808626803885
         ],
         "b": [
          0.4490780370377816,
          0.5664177407098256,
          0.6479940900913138,
          0.6462502185975328,
          0.6533201349372524,
          0.6596704781212899,
          0.6727997477607345,
          0.6852184734305654,
          0.699652086996067,
          0.7099273473123661,
          0.7271253123178637,
          0.7372192659139166,
          0.7420411272029409,
          0.7377349783813155,
          0.7183108686250403,
          0.6896686138038305
         ],
         "c": [
          0.1540469544758465,
          0.11401374305374748,
          0.04894453689201433,
          0.05054290756608061,
          0.0639074731779371,
          0.0754805533437752,
          0.08512590281413134,
          0.082862601697463,
          0.0803390676468475,
          0.07808886367855196,
          0.0700675784692446,
          0.06593805396224617,
          0.06994444894398699,
          0.07798207710361324,
          0.08498138427956323,
          0.09427329992813066
         ],
         "line": {
          "color": "silver",
          "width": 0.5
         },
         "marker": {
          "color": "silver",
          "line": {
           "color": "black",
           "width": 0
          },
          "opacity": 0.9,
          "size": 6
         },
         "mode": "lines+markers+text",
         "showlegend": false,
         "subplot": "ternary",
         "text": [
          "",
          "",
          "",
          "",
          "",
          "",
          "",
          "",
          "",
          "",
          "",
          "",
          "",
          "",
          "",
          ""
         ],
         "textfont": {
          "color": "black",
          "size": 9.209359472524207
         },
         "type": "scatterternary"
        },
        {
         "a": [
          0.2768172793158534,
          0.257737865796544,
          0.2172127816712813,
          0.216468371871666,
          0.23319432976220034,
          0.24043293500277407,
          0.2253878564167661,
          0.21329341833933058,
          0.19369863536734103,
          0.17410569686360428,
          0.14610087333010055,
          0.12435623814739136,
          0.10354406615817552,
          0.0884710716759208,
          0.08222158353872897,
          0.0775554042935389
         ],
         "b": [
          0.616010715386718,
          0.6478045312194401,
          0.7546946361296013,
          0.7590150315018104,
          0.7342245109530392,
          0.7208581527010872,
          0.7310897334447021,
          0.7455423579268925,
          0.7664819085042738,
          0.7841989419693736,
          0.808473520572063,
          0.8311821506873,
          0.8486383791043631,
          0.8580755177856874,
          0.860029911918752,
          0.8607973655665483
         ],
         "c": [
          0.10717200529742867,
          0.09445760298401586,
          0.028092582199117404,
          0.024516596626523585,
          0.03258115928476056,
          0.038708912296138924,
          0.04352241013853168,
          0.041164223733776734,
          0.039819456128385146,
          0.04169536116702211,
          0.04542560609783661,
          0.044461611165308675,
          0.04781755473746144,
          0.05345341053839176,
          0.057748504542519036,
          0.061647230139912766
         ],
         "line": {
          "color": "silver",
          "width": 0.5
         },
         "marker": {
          "color": "silver",
          "line": {
           "color": "black",
           "width": 0
          },
          "opacity": 0.9,
          "size": 6
         },
         "mode": "lines+markers+text",
         "showlegend": false,
         "subplot": "ternary",
         "text": [
          "",
          "",
          "",
          "",
          "",
          "",
          "",
          "",
          "",
          "",
          "",
          "",
          "",
          "",
          "",
          ""
         ],
         "textfont": {
          "color": "black",
          "size": 3.795914563145433
         },
         "type": "scatterternary"
        },
        {
         "a": [
          0.26805842781161504,
          0.243245648028735,
          0.21591895784663098,
          0.2133709847192904,
          0.22276535835903638,
          0.23336169988550848,
          0.21208981290472212,
          0.19422233880607226,
          0.1752947129543619,
          0.16148600950380304,
          0.1449791877786833,
          0.12751037040865193,
          0.10769819152823665,
          0.09111657035202936,
          0.08461243124021993,
          0.08134346171524746
         ],
         "b": [
          0.6256891751731859,
          0.6622678514093576,
          0.7472735537239966,
          0.7510212892187301,
          0.7361030076100931,
          0.7228220779769621,
          0.7450602742020195,
          0.7671038163548107,
          0.7854312904719529,
          0.7941015521322025,
          0.8086474534870183,
          0.8211347860117663,
          0.8336462177584575,
          0.8430690901076318,
          0.8440755227463032,
          0.8421495276795213
         ],
         "c": [
          0.10625239701519915,
          0.09448650056190726,
          0.03680748842937226,
          0.03560772606197938,
          0.04113163403087053,
          0.04381622213752958,
          0.04284991289325852,
          0.0386738448391171,
          0.03927399657368514,
          0.04441243836399451,
          0.04637335873429839,
          0.05135484357958185,
          0.05865559071330602,
          0.06581433954033884,
          0.07131204601347682,
          0.0765070106052312
         ],
         "line": {
          "color": "silver",
          "width": 0.5
         },
         "marker": {
          "color": "silver",
          "line": {
           "color": "black",
           "width": 0
          },
          "opacity": 0.9,
          "size": 6
         },
         "mode": "lines+markers+text",
         "showlegend": false,
         "subplot": "ternary",
         "text": [
          "",
          "",
          "",
          "",
          "",
          "",
          "",
          "",
          "",
          "",
          "",
          "",
          "",
          "",
          "",
          ""
         ],
         "textfont": {
          "color": "black",
          "size": 2.408054937401481
         },
         "type": "scatterternary"
        },
        {
         "a": [
          0.10745098586638671,
          0.1146105757232036,
          0.11576484377468196,
          0.12340932389663793,
          0.13370870020877113,
          0.1312892217255217,
          0.11527138454724026,
          0.10602740186629102,
          0.10330655755539375,
          0.10775579886266373,
          0.11045962768972742,
          0.11389010657534791,
          0.1142208588042615,
          0.11562814396228602,
          0.1275236801440251,
          0.13819304448972058
         ],
         "b": [
          0.8785834999452214,
          0.8675036117653551,
          0.8664970837636629,
          0.8381819056690171,
          0.7868241022423761,
          0.746889650745956,
          0.7213977128683942,
          0.7103912445062335,
          0.7195703863797881,
          0.7382638029944415,
          0.7580381080300588,
          0.7723272893043974,
          0.7809393584538165,
          0.7867279214141584,
          0.7924017195405749,
          0.7996732183311811
         ],
         "c": [
          0.013965514188391913,
          0.017885812511441234,
          0.017738072461655163,
          0.03840877043434504,
          0.07946719754885286,
          0.12182112752852232,
          0.1633309025843656,
          0.18358135362747555,
          0.17712305606481815,
          0.15398039814289471,
          0.13150226428021392,
          0.11378260412025464,
          0.10483978274192202,
          0.09764393462355572,
          0.08007460031540008,
          0.06213373717909831
         ],
         "line": {
          "color": "silver",
          "width": 0.5
         },
         "marker": {
          "color": "silver",
          "line": {
           "color": "black",
           "width": 0
          },
          "opacity": 0.9,
          "size": 6
         },
         "mode": "lines+markers+text",
         "showlegend": false,
         "subplot": "ternary",
         "text": [
          "",
          "",
          "",
          "",
          "",
          "",
          "",
          "",
          "",
          "",
          "",
          "",
          "",
          "",
          "",
          ""
         ],
         "textfont": {
          "color": "black",
          "size": 2.3834806319711186
         },
         "type": "scatterternary"
        },
        {
         "a": [
          0,
          0,
          0,
          0,
          0,
          0,
          0,
          0,
          0,
          0,
          0,
          0,
          0,
          0,
          0,
          0
         ],
         "b": [
          0,
          0,
          0,
          0,
          0,
          0,
          0,
          0,
          0,
          0,
          0,
          0,
          0,
          0,
          0,
          0
         ],
         "c": [
          0,
          0,
          0,
          0,
          0,
          0,
          0,
          0,
          0,
          0,
          0,
          0,
          0,
          0,
          0,
          0
         ],
         "line": {
          "color": "silver",
          "width": 0.5
         },
         "marker": {
          "color": "silver",
          "line": {
           "color": "black",
           "width": 0
          },
          "opacity": 0.9,
          "size": 6
         },
         "mode": "lines+markers+text",
         "showlegend": false,
         "subplot": "ternary",
         "text": [
          "",
          "",
          "",
          "",
          "",
          "",
          "",
          "",
          "",
          "",
          "",
          "",
          "",
          "",
          "",
          ""
         ],
         "textfont": {
          "color": "black",
          "size": 4.618839732723069
         },
         "type": "scatterternary"
        },
        {
         "a": [
          0.2567581432870807,
          0.22453184495796724,
          0.19412812275693103,
          0.18196734463289083,
          0.16709391980748337,
          0.1579378046095814,
          0.13924738646503104,
          0.1279373670706424,
          0.1147784931460778,
          0.10445082452754692,
          0.09369326598515235,
          0.08421139385483661,
          0.07423854616871223,
          0.06716469829824874,
          0.06753831754191428,
          0.07004552629345662
         ],
         "b": [
          0.636929239531822,
          0.6754579113490442,
          0.7506441224082498,
          0.7569354432767854,
          0.7575748724738018,
          0.7568739580638183,
          0.7672718690788674,
          0.7825441292545855,
          0.7993638745384649,
          0.8101200097685403,
          0.8281171331170405,
          0.8418419818986695,
          0.8496646512821653,
          0.8529956004708864,
          0.8483563346800549,
          0.840005393652818
         ],
         "c": [
          0.10631261718109723,
          0.10001024369298864,
          0.05522775483481903,
          0.061097212090323774,
          0.07533120771871481,
          0.08518823732660014,
          0.09348074445610152,
          0.08951850367477208,
          0.08585763231545716,
          0.08542916570391283,
          0.07818960089780719,
          0.07394662424649372,
          0.07609680254912238,
          0.07983970123086472,
          0.08410534777803083,
          0.08994908005372532
         ],
         "line": {
          "color": "silver",
          "width": 0.5
         },
         "marker": {
          "color": "silver",
          "line": {
           "color": "black",
           "width": 0
          },
          "opacity": 0.9,
          "size": 6
         },
         "mode": "lines+markers+text",
         "showlegend": false,
         "subplot": "ternary",
         "text": [
          "",
          "",
          "",
          "",
          "",
          "",
          "",
          "",
          "",
          "",
          "",
          "",
          "",
          "",
          "",
          ""
         ],
         "textfont": {
          "color": "black",
          "size": 5.230077348364659
         },
         "type": "scatterternary"
        },
        {
         "a": [
          0.40522261711466145,
          0.4201815457264241,
          0.3930702163616521,
          0.3692635736501823,
          0.34028608511152975,
          0.29454021063859054,
          0.23801192456566184,
          0.2177818974932768,
          0.20537107133409543,
          0.19752666858147028,
          0.18721676458832398,
          0.1828783360100612,
          0.17923768282103178,
          0.1776943324069996,
          0.18576422143791116,
          0.19439846456341014
         ],
         "b": [
          0.48233183877030456,
          0.4665858483932358,
          0.536025188517146,
          0.5291799600723837,
          0.511356064008948,
          0.5205436185019402,
          0.5495365613486738,
          0.5758279456413626,
          0.5997056560742469,
          0.6149212452516057,
          0.6259582635119854,
          0.628413739414761,
          0.6186201009689013,
          0.5923935477530001,
          0.5630463761810036,
          0.5264567391588278
         ],
         "c": [
          0.1124455441150339,
          0.11323260588034009,
          0.07090459512120198,
          0.10155646627743406,
          0.14835785087952225,
          0.18491617085946935,
          0.21245151408566446,
          0.20639015686536044,
          0.19492327259165768,
          0.18755208616692404,
          0.18682497189969066,
          0.18870792457517777,
          0.20214221621006714,
          0.22991211984000054,
          0.25118940238108517,
          0.2791447962777619
         ],
         "line": {
          "color": "silver",
          "width": 0.5
         },
         "marker": {
          "color": "silver",
          "line": {
           "color": "black",
           "width": 0
          },
          "opacity": 0.9,
          "size": 6
         },
         "mode": "lines+markers+text",
         "showlegend": false,
         "subplot": "ternary",
         "text": [
          "",
          "",
          "",
          "",
          "",
          "",
          "",
          "",
          "",
          "",
          "",
          "",
          "",
          "",
          "",
          ""
         ],
         "textfont": {
          "color": "black",
          "size": 9.542889149009223
         },
         "type": "scatterternary"
        },
        {
         "a": [
          0.5834656014414009,
          0.4877006857699733,
          0.4408129550785684,
          0.4050722327258367,
          0.3657124020790163,
          0.3401768544939723,
          0.30646682553859156,
          0.2888675849720618,
          0.28072509300807086,
          0.2870837447779102,
          0.28688332797524185,
          0.29224505796719913,
          0.3008523481783302,
          0.31801822872453656,
          0.3585210860949389,
          0.3880969401661455
         ],
         "b": [
          0.23608414992209592,
          0.37040108869885513,
          0.5108045488077829,
          0.5408103048135089,
          0.5563468213946279,
          0.5668466620323647,
          0.5899070316932868,
          0.6023080314570625,
          0.6168063195832928,
          0.6210431707505606,
          0.6296906438860252,
          0.6326448666980667,
          0.6303754759398031,
          0.6082179193417312,
          0.5279129467883219,
          0.46001649688155344
         ],
         "c": [
          0.1804502486365032,
          0.14189822553117148,
          0.048382496113648754,
          0.05411746246065434,
          0.0779407765263557,
          0.09297648347366301,
          0.10362614276812167,
          0.10882438357087572,
          0.10246858740863636,
          0.09187308447152927,
          0.083426028138733,
          0.07511007533473395,
          0.06877217588186675,
          0.07376385193373217,
          0.11356596711673911,
          0.15188656295230094
         ],
         "line": {
          "color": "silver",
          "width": 0.5
         },
         "marker": {
          "color": "silver",
          "line": {
           "color": "black",
           "width": 0
          },
          "opacity": 0.9,
          "size": 6
         },
         "mode": "lines+markers+text",
         "showlegend": false,
         "subplot": "ternary",
         "text": [
          "",
          "",
          "",
          "",
          "",
          "",
          "",
          "",
          "",
          "",
          "",
          "",
          "",
          "",
          "",
          ""
         ],
         "textfont": {
          "color": "black",
          "size": 3.903909124795317
         },
         "type": "scatterternary"
        },
        {
         "a": [
          0,
          0,
          0,
          0,
          0,
          0,
          0,
          0,
          0,
          0,
          0,
          0,
          0,
          0,
          0,
          0
         ],
         "b": [
          0,
          0,
          0,
          0,
          0,
          0,
          0,
          0,
          0,
          0,
          0,
          0,
          0,
          0,
          0,
          0
         ],
         "c": [
          0,
          0,
          0,
          0,
          0,
          0,
          0,
          0,
          0,
          0,
          0,
          0,
          0,
          0,
          0,
          0
         ],
         "line": {
          "color": "silver",
          "width": 0.5
         },
         "marker": {
          "color": "silver",
          "line": {
           "color": "black",
           "width": 0
          },
          "opacity": 0.9,
          "size": 6
         },
         "mode": "lines+markers+text",
         "showlegend": false,
         "subplot": "ternary",
         "text": [
          "",
          "",
          "",
          "",
          "",
          "",
          "",
          "",
          "",
          "",
          "",
          "",
          "",
          "",
          "",
          ""
         ],
         "textfont": {
          "color": "black",
          "size": 2.3269757916923943
         },
         "type": "scatterternary"
        },
        {
         "a": [
          0.6226148358739636,
          0.6479692403191685,
          0.728731751749532,
          0.7390150302666224,
          0.7279528169475331,
          0.7139153477353691,
          0.6932523642754196,
          0.67653783744378,
          0.6594441688719754,
          0.6488171333900932,
          0.6266117111378798,
          0.609514511376055,
          0.5890865533395534,
          0.5733000144501139,
          0.5947600828052965,
          0.625221018256228
         ],
         "b": [
          0.1866854609747184,
          0.16737801299213692,
          0.22278387554963386,
          0.2360754359674601,
          0.24628260557585135,
          0.2582635119075448,
          0.2801069863936848,
          0.2971011338130863,
          0.3098375279367313,
          0.3119740198688209,
          0.32122138004571404,
          0.32134291540419885,
          0.3153476727574953,
          0.2991243259663285,
          0.2614158637955281,
          0.21939712721224275
         ],
         "c": [
          0.19069970315131785,
          0.18465274668869483,
          0.048484372700834194,
          0.02490953376591748,
          0.025764577476615494,
          0.027821140357086147,
          0.02664064933089545,
          0.026361028743133733,
          0.03071830319129314,
          0.039208846741085865,
          0.05216690881640619,
          0.0691425732197462,
          0.09556577390295144,
          0.12757565958355763,
          0.14382405339917553,
          0.1553818545315293
         ],
         "line": {
          "color": "silver",
          "width": 0.5
         },
         "marker": {
          "color": "silver",
          "line": {
           "color": "black",
           "width": 0
          },
          "opacity": 0.9,
          "size": 6
         },
         "mode": "lines+markers+text",
         "showlegend": false,
         "subplot": "ternary",
         "text": [
          "",
          "",
          "",
          "",
          "",
          "",
          "",
          "",
          "",
          "",
          "",
          "",
          "",
          "",
          "",
          ""
         ],
         "textfont": {
          "color": "black",
          "size": 4.000309647697475
         },
         "type": "scatterternary"
        },
        {
         "a": [
          0.2490293791165014,
          0.26594617890558586,
          0.2568429409352109,
          0.2686214120699053,
          0.30276173785305077,
          0.32525317991377717,
          0.32067707623894837,
          0.3177104486367068,
          0.3137496186377286,
          0.3132072828582475,
          0.2990846422879162,
          0.2835913377975648,
          0.26272530958312584,
          0.24159796426184027,
          0.23220758814450215,
          0.22267395798013428
         ],
         "b": [
          0.6919594527781125,
          0.6745369865276883,
          0.721891667933007,
          0.7082421979160257,
          0.6601502075181676,
          0.6253768560072441,
          0.6209627761754265,
          0.619091030078615,
          0.6276198049336049,
          0.6364808910881864,
          0.6569835223400384,
          0.6768623529803832,
          0.7000741358764897,
          0.7195338591444758,
          0.7234942293744231,
          0.728366500866788
         ],
         "c": [
          0.059011168105386036,
          0.05951683456672584,
          0.02126539113178216,
          0.023136390014069166,
          0.037088054628781654,
          0.049369964078978826,
          0.05836014758562511,
          0.06319852128467822,
          0.05863057642866654,
          0.05031182605356597,
          0.0439318353720452,
          0.03954630922205207,
          0.03720055454038439,
          0.03886817659368405,
          0.04429818248107478,
          0.04895954115307778
         ],
         "line": {
          "color": "silver",
          "width": 0.5
         },
         "marker": {
          "color": "silver",
          "line": {
           "color": "black",
           "width": 0
          },
          "opacity": 0.9,
          "size": 6
         },
         "mode": "lines+markers+text",
         "showlegend": false,
         "subplot": "ternary",
         "text": [
          "",
          "",
          "",
          "",
          "",
          "",
          "",
          "",
          "",
          "",
          "",
          "",
          "",
          "",
          "",
          ""
         ],
         "textfont": {
          "color": "black",
          "size": 2.54831540532628
         },
         "type": "scatterternary"
        },
        {
         "a": [
          0.060113360432435904,
          0.06306294231658217,
          0.06540162294027488,
          0.0710747579280835,
          0.08296470763971378,
          0.09401235108406317,
          0.0990337601872304,
          0.1031469345064238,
          0.1043820842054264,
          0.1044210412425935,
          0.10049426980437176,
          0.09598004471527226,
          0.08964383726542935,
          0.08363882424179062,
          0.0809628269487365,
          0.07836864847059079
         ],
         "b": [
          0.9316345798059896,
          0.9279933707372099,
          0.927676644403425,
          0.9221236067060323,
          0.9094193267345424,
          0.896921589954871,
          0.8905624008052047,
          0.8850180427015156,
          0.8827905450450864,
          0.8822068988312,
          0.8856163624470196,
          0.8896755693018449,
          0.8956540635894874,
          0.9013288524471407,
          0.9044100531261311,
          0.9073411042231382
         ],
         "c": [
          0.008252059761574523,
          0.008943686946207903,
          0.006921732656300078,
          0.006801635365884322,
          0.007615965625743701,
          0.009066058961065875,
          0.010403839007564994,
          0.01183502279206051,
          0.012827370749487305,
          0.013372059926206655,
          0.01388936774860847,
          0.0143443859828828,
          0.014702099145083351,
          0.015032323311068806,
          0.01462711992513242,
          0.014290247306271093
         ],
         "line": {
          "color": "silver",
          "width": 0.5
         },
         "marker": {
          "color": "silver",
          "line": {
           "color": "black",
           "width": 0
          },
          "opacity": 0.9,
          "size": 6
         },
         "mode": "lines+markers+text",
         "showlegend": false,
         "subplot": "ternary",
         "text": [
          "",
          "",
          "",
          "",
          "",
          "",
          "",
          "",
          "",
          "",
          "",
          "",
          "",
          "",
          "",
          ""
         ],
         "textfont": {
          "color": "black",
          "size": 2.54831540532628
         },
         "type": "scatterternary"
        },
        {
         "a": [
          0.3472011713894576,
          0.30121195313466426,
          0.2776975340263734,
          0.272306414169867,
          0.2613957167165759,
          0.2578858010918742,
          0.23609882750016717,
          0.22316782497940574,
          0.20732678905796365,
          0.19693177253822586,
          0.18478711753578053,
          0.17230669922478217,
          0.15687181006446613,
          0.14556272155303934,
          0.14861571342219895,
          0.15698579683450795
         ],
         "b": [
          0.5179845170453626,
          0.582453857769283,
          0.6701044145628897,
          0.6758150596896896,
          0.6793805080954046,
          0.6774266065469282,
          0.6952342992906687,
          0.7126052571780077,
          0.7301855993831528,
          0.7379209149025338,
          0.7510832067695601,
          0.7599722260790784,
          0.766370045016528,
          0.7661445046500147,
          0.7516514253337161,
          0.7301369296815667
         ],
         "c": [
          0.1348143115651797,
          0.11633418909605274,
          0.05219805141073692,
          0.05187852614044329,
          0.05922377518801944,
          0.06468759236119753,
          0.06866687320916416,
          0.0642269178425866,
          0.06248761155888352,
          0.06514731255924043,
          0.06412967569465924,
          0.06772107469613943,
          0.07675814491900572,
          0.0882927737969458,
          0.09973286124408477,
          0.11287727348392533
         ],
         "line": {
          "color": "silver",
          "width": 0.5
         },
         "marker": {
          "color": "silver",
          "line": {
           "color": "black",
           "width": 0
          },
          "opacity": 0.9,
          "size": 6
         },
         "mode": "lines+markers+text",
         "showlegend": false,
         "subplot": "ternary",
         "text": [
          "",
          "",
          "",
          "",
          "",
          "",
          "",
          "",
          "",
          "",
          "",
          "",
          "",
          "",
          "",
          ""
         ],
         "textfont": {
          "color": "black",
          "size": 9.833715090884004
         },
         "type": "scatterternary"
        },
        {
         "a": [
          0.2444014777714747,
          0.23267566158465716,
          0.1877950599408167,
          0.18283250680920973,
          0.21172579003371653,
          0.23098914738628293,
          0.22147269268966707,
          0.2153554732703815,
          0.20085393395792214,
          0.18629058836112045,
          0.16414262111301875,
          0.14235236011668817,
          0.1200132713259586,
          0.10298240219737645,
          0.09616677166973808,
          0.09149514026744487
         ],
         "b": [
          0.662404332468503,
          0.6821922989226098,
          0.7854888944763894,
          0.7926692456888156,
          0.7503671011208366,
          0.7183471971701634,
          0.7197721824278007,
          0.7269466384760297,
          0.7437716320454091,
          0.7607112092309241,
          0.7897288589866953,
          0.8140163630331799,
          0.8347117957561139,
          0.8493442268901923,
          0.8553077951439892,
          0.8594495458021493
         ],
         "c": [
          0.09319418976002218,
          0.08513203949273301,
          0.026716045582793994,
          0.024498247501974782,
          0.037907108845446895,
          0.05066365544355361,
          0.058755124882532206,
          0.05769788825358879,
          0.05537443399666899,
          0.05299820240795574,
          0.04612851990028585,
          0.043631276850131843,
          0.04527493291792733,
          0.04767337091243134,
          0.04852543318627251,
          0.049055313930405894
         ],
         "line": {
          "color": "silver",
          "width": 0.5
         },
         "marker": {
          "color": "silver",
          "line": {
           "color": "black",
           "width": 0
          },
          "opacity": 0.9,
          "size": 6
         },
         "mode": "lines+markers+text",
         "showlegend": false,
         "subplot": "ternary",
         "text": [
          "",
          "",
          "",
          "",
          "",
          "",
          "",
          "",
          "",
          "",
          "",
          "",
          "",
          "",
          "",
          ""
         ],
         "textfont": {
          "color": "black",
          "size": 2.3410030842517244
         },
         "type": "scatterternary"
        },
        {
         "a": [
          0.09145060784600022,
          0.09530258708045078,
          0.09579021763834164,
          0.10435216700064144,
          0.12492720021954792,
          0.1420900987941898,
          0.1455257746286735,
          0.14735445864838584,
          0.14606308348760583,
          0.14506744452435846,
          0.13787694767322237,
          0.12964758654587505,
          0.11913332355894704,
          0.11002110452465691,
          0.1075725150978844,
          0.10508808076229682
         ],
         "b": [
          0.8844782104880665,
          0.8801866551432606,
          0.8861234977373654,
          0.876335412260143,
          0.8502303312350739,
          0.825002894448896,
          0.8106752433197879,
          0.8002606797033565,
          0.8001984574260225,
          0.8045021695989674,
          0.8131643448002577,
          0.8188290649994682,
          0.8256113261256682,
          0.8332971124975842,
          0.838409722085219,
          0.8437964963215251
         ],
         "c": [
          0.02407118166593324,
          0.02451075777628848,
          0.01808628462429291,
          0.019312420739215543,
          0.024842468545378294,
          0.0329070067569142,
          0.0437989820515387,
          0.05238486164825755,
          0.0537384590863717,
          0.050430385876674026,
          0.048958707526519825,
          0.051523348454656816,
          0.05525535031538474,
          0.056681782977758784,
          0.054017762816896644,
          0.05111542291617817
         ],
         "line": {
          "color": "silver",
          "width": 0.5
         },
         "marker": {
          "color": "silver",
          "line": {
           "color": "black",
           "width": 0
          },
          "opacity": 0.9,
          "size": 6
         },
         "mode": "lines+markers+text",
         "showlegend": false,
         "subplot": "ternary",
         "text": [
          "",
          "",
          "",
          "",
          "",
          "",
          "",
          "",
          "",
          "",
          "",
          "",
          "",
          "",
          "",
          ""
         ],
         "textfont": {
          "color": "black",
          "size": 3.759147089062818
         },
         "type": "scatterternary"
        },
        {
         "a": [
          0.3186695586241018,
          0.2897129284825291,
          0.26459151305564743,
          0.26003965287218006,
          0.25318494782557743,
          0.25009272173151736,
          0.22733357151093564,
          0.21266204379051568,
          0.19481947314530007,
          0.1812425216359329,
          0.16533330981424454,
          0.15012749429084743,
          0.13295276115861568,
          0.12011455081055888,
          0.11958873991905566,
          0.12288320652081602
         ],
         "b": [
          0.5581028080456328,
          0.598298790877257,
          0.6879916053827742,
          0.6921596668102616,
          0.6892409639620951,
          0.6857861161744823,
          0.703865162485154,
          0.723266567559146,
          0.7431043523044615,
          0.7543119414420898,
          0.7719338359418679,
          0.7860201317144085,
          0.7965341699294616,
          0.800668578347564,
          0.7932196142234105,
          0.7812516006872676
         ],
         "c": [
          0.12322763333026529,
          0.1119882806402138,
          0.047416881561578375,
          0.047800680317558165,
          0.05757408821232752,
          0.06412116209400041,
          0.06880126600391055,
          0.06407138865033822,
          0.06207617455023856,
          0.06444553692197731,
          0.06273285424388761,
          0.06385237399474403,
          0.07051306891192269,
          0.07921687084187716,
          0.08719164585753385,
          0.09586519279191631
         ],
         "line": {
          "color": "silver",
          "width": 0.5
         },
         "marker": {
          "color": "silver",
          "line": {
           "color": "black",
           "width": 0
          },
          "opacity": 0.9,
          "size": 6
         },
         "mode": "lines+markers+text",
         "showlegend": false,
         "subplot": "ternary",
         "text": [
          "",
          "",
          "",
          "",
          "",
          "",
          "",
          "",
          "",
          "",
          "",
          "",
          "",
          "",
          "",
          ""
         ],
         "textfont": {
          "color": "black",
          "size": 8.52519494583444
         },
         "type": "scatterternary"
        },
        {
         "a": [
          0.3951255678257616,
          0.3612149922139557,
          0.3330548911599524,
          0.3253793276040154,
          0.3352471302182283,
          0.34691415681226057,
          0.3223118579554576,
          0.3039722880992817,
          0.2815811043716079,
          0.2644157043209452,
          0.24320657846898117,
          0.22000761918725448,
          0.19219895081508262,
          0.16906558500410063,
          0.16240141035226383,
          0.16100652587091385
         ],
         "b": [
          0.45731866114073083,
          0.5054858301971801,
          0.6155448988438154,
          0.6264443037692878,
          0.6091695925464987,
          0.5933775630911515,
          0.6168948934902996,
          0.639447870470684,
          0.6610082464621525,
          0.672137522414179,
          0.690338833226662,
          0.7058023163599197,
          0.7218604590502122,
          0.7329836524373724,
          0.73074177649837,
          0.7239429200590296
         ],
         "c": [
          0.14755577103350762,
          0.13329917758886417,
          0.05140020999623232,
          0.04817636862669667,
          0.055583277235272975,
          0.05970828009658792,
          0.06079324855424296,
          0.056579841430034326,
          0.057410649166239454,
          0.06344677326487576,
          0.06645458830435684,
          0.07419006445282576,
          0.08594059013470522,
          0.09795076255852697,
          0.10685681314936615,
          0.11505055407005657
         ],
         "line": {
          "color": "silver",
          "width": 0.5
         },
         "marker": {
          "color": "silver",
          "line": {
           "color": "black",
           "width": 0
          },
          "opacity": 0.9,
          "size": 6
         },
         "mode": "lines+markers+text",
         "showlegend": false,
         "subplot": "ternary",
         "text": [
          "",
          "",
          "",
          "",
          "",
          "",
          "",
          "",
          "",
          "",
          "",
          "",
          "",
          "",
          "",
          ""
         ],
         "textfont": {
          "color": "black",
          "size": 2.7341210873540107
         },
         "type": "scatterternary"
        },
        {
         "a": [
          0.06275313295153874,
          0.06574902137615285,
          0.06884107462032955,
          0.07489197233110162,
          0.08624314154186863,
          0.09765265432233772,
          0.10360752883891997,
          0.1090806659233184,
          0.1115424448816747,
          0.11298230124831082,
          0.10984929234227547,
          0.1059265366076852,
          0.09955939323140058,
          0.09350852588238587,
          0.09140256876792692,
          0.08951107321164455
         ],
         "b": [
          0.9251136994384707,
          0.9217705462995553,
          0.9216966941753768,
          0.9160566188505932,
          0.9044738472396605,
          0.8927758891368012,
          0.886763141884315,
          0.8810956709962622,
          0.8786754805280729,
          0.8770577026046705,
          0.8794690232880513,
          0.8824268189885422,
          0.8877320419825657,
          0.8925927243525187,
          0.894020341151022,
          0.8952845503338666
         ],
         "c": [
          0.012133167609990565,
          0.012480432324291867,
          0.00946223120429346,
          0.009051408818305157,
          0.009283011218470897,
          0.009571456540861107,
          0.009629329276765092,
          0.009823663080419402,
          0.009782074590252281,
          0.009959996147018672,
          0.010681684369673315,
          0.011646644403772553,
          0.012708564786033676,
          0.013898749765095458,
          0.014577090081051108,
          0.015204376454488912
         ],
         "line": {
          "color": "silver",
          "width": 0.5
         },
         "marker": {
          "color": "silver",
          "line": {
           "color": "black",
           "width": 0
          },
          "opacity": 0.9,
          "size": 6
         },
         "mode": "lines+markers+text",
         "showlegend": false,
         "subplot": "ternary",
         "text": [
          "",
          "",
          "",
          "",
          "",
          "",
          "",
          "",
          "",
          "",
          "",
          "",
          "",
          "",
          "",
          ""
         ],
         "textfont": {
          "color": "black",
          "size": 3.440738616927398
         },
         "type": "scatterternary"
        },
        {
         "a": [
          0.2677879801957184,
          0.23219343293122988,
          0.20371217562187174,
          0.19210742494989347,
          0.17346253984970963,
          0.16220091344019172,
          0.14387986814720416,
          0.13352300766312888,
          0.12118657357313334,
          0.11192616771968003,
          0.10228263727099265,
          0.09394427418214803,
          0.08510294849481626,
          0.07950639648845065,
          0.08247588200282778,
          0.08825214405265688
         ],
         "b": [
          0.6225132512666566,
          0.6672518135012904,
          0.741620317113969,
          0.7481065832301256,
          0.753272383466901,
          0.7548234097877736,
          0.7642375167397228,
          0.7780517019936415,
          0.7943907044785312,
          0.8046198525281517,
          0.8215441940293887,
          0.83387613312822,
          0.8402528030923953,
          0.8411837307822185,
          0.8325185920066346,
          0.8189835708509943
         ],
         "c": [
          0.1096987685376251,
          0.10055475356747953,
          0.05466750726415933,
          0.05978599181998106,
          0.07326507668338951,
          0.08297567677203462,
          0.09188261511307298,
          0.08842529034322971,
          0.08442272194833547,
          0.08345397975216821,
          0.07617316869961861,
          0.07217959268963196,
          0.07464424841278863,
          0.07930987272933068,
          0.08500552599053762,
          0.09276428509634875
         ],
         "line": {
          "color": "silver",
          "width": 0.5
         },
         "marker": {
          "color": "dodgerblue",
          "line": {
           "color": "black",
           "width": 0
          },
          "opacity": 0.9,
          "size": 6
         },
         "mode": "lines+markers+text",
         "showlegend": false,
         "subplot": "ternary",
         "text": [
          "DEU",
          "",
          "",
          "",
          "",
          "",
          "",
          "",
          "",
          "",
          "",
          "",
          "",
          "",
          "",
          ""
         ],
         "textfont": {
          "color": "black",
          "size": 9.05949544158788
         },
         "type": "scatterternary"
        },
        {
         "a": [
          0,
          0,
          0,
          0,
          0,
          0,
          0,
          0,
          0,
          0,
          0,
          0,
          0,
          0,
          0,
          0
         ],
         "b": [
          0,
          0,
          0,
          0,
          0,
          0,
          0,
          0,
          0,
          0,
          0,
          0,
          0,
          0,
          0,
          0
         ],
         "c": [
          0,
          0,
          0,
          0,
          0,
          0,
          0,
          0,
          0,
          0,
          0,
          0,
          0,
          0,
          0,
          0
         ],
         "line": {
          "color": "silver",
          "width": 0.5
         },
         "marker": {
          "color": "silver",
          "line": {
           "color": "black",
           "width": 0
          },
          "opacity": 0.9,
          "size": 6
         },
         "mode": "lines+markers+text",
         "showlegend": false,
         "subplot": "ternary",
         "text": [
          "",
          "",
          "",
          "",
          "",
          "",
          "",
          "",
          "",
          "",
          "",
          "",
          "",
          "",
          "",
          ""
         ],
         "textfont": {
          "color": "black",
          "size": 6.40444844461355
         },
         "type": "scatterternary"
        },
        {
         "a": [
          0,
          0,
          0,
          0,
          0,
          0,
          0,
          0,
          0,
          0,
          0,
          0,
          0,
          0,
          0,
          0
         ],
         "b": [
          0,
          0,
          0,
          0,
          0,
          0,
          0,
          0,
          0,
          0,
          0,
          0,
          0,
          0,
          0,
          0
         ],
         "c": [
          0,
          0,
          0,
          0,
          0,
          0,
          0,
          0,
          0,
          0,
          0,
          0,
          0,
          0,
          0,
          0
         ],
         "line": {
          "color": "silver",
          "width": 0.5
         },
         "marker": {
          "color": "silver",
          "line": {
           "color": "black",
           "width": 0
          },
          "opacity": 0.9,
          "size": 6
         },
         "mode": "lines+markers+text",
         "showlegend": false,
         "subplot": "ternary",
         "text": [
          "",
          "",
          "",
          "",
          "",
          "",
          "",
          "",
          "",
          "",
          "",
          "",
          "",
          "",
          "",
          ""
         ],
         "textfont": {
          "color": "black",
          "size": 4.665992530730412
         },
         "type": "scatterternary"
        },
        {
         "a": [
          0,
          0,
          0,
          0,
          0,
          0,
          0,
          0,
          0,
          0,
          0,
          0,
          0,
          0,
          0,
          0
         ],
         "b": [
          0,
          0,
          0,
          0,
          0,
          0,
          0,
          0,
          0,
          0,
          0,
          0,
          0,
          0,
          0,
          0
         ],
         "c": [
          0,
          0,
          0,
          0,
          0,
          0,
          0,
          0,
          0,
          0,
          0,
          0,
          0,
          0,
          0,
          0
         ],
         "line": {
          "color": "silver",
          "width": 0.5
         },
         "marker": {
          "color": "silver",
          "line": {
           "color": "black",
           "width": 0
          },
          "opacity": 0.9,
          "size": 6
         },
         "mode": "lines+markers+text",
         "showlegend": false,
         "subplot": "ternary",
         "text": [
          "",
          "",
          "",
          "",
          "",
          "",
          "",
          "",
          "",
          "",
          "",
          "",
          "",
          "",
          "",
          ""
         ],
         "textfont": {
          "color": "black",
          "size": 2.3834806319711186
         },
         "type": "scatterternary"
        },
        {
         "a": [
          0.28925618326379016,
          0.27781271096499677,
          0.23836067542359368,
          0.2382185542212092,
          0.26610725397967866,
          0.2833403630410524,
          0.26607640598295057,
          0.24969311792417886,
          0.22705981910410405,
          0.2095999087160817,
          0.18664243186806193,
          0.17795006376239497,
          0.18544178525885055,
          0.19976646480961996,
          0.21778391680524403,
          0.2406797131156635
         ],
         "b": [
          0.6086732007959957,
          0.6314068845275891,
          0.7448261197835906,
          0.7507714555292091,
          0.7115900128606563,
          0.6837795043004825,
          0.6951291872357429,
          0.7007479781978116,
          0.7110032153470268,
          0.7158284157360583,
          0.725446460042476,
          0.734076507773538,
          0.7509443219692442,
          0.7541781045581064,
          0.7335843840527606,
          0.6994253343668487
         ],
         "c": [
          0.10207061594021402,
          0.09078040450741406,
          0.016813204792815735,
          0.011009990249581585,
          0.02230273315966503,
          0.03288013265846508,
          0.038794406781306544,
          0.049558903878009535,
          0.06193696554886918,
          0.07457167554785994,
          0.08791110808946186,
          0.08797342846406717,
          0.06361389277190534,
          0.04605543063227374,
          0.04863169914199541,
          0.05989495251748786
         ],
         "line": {
          "color": "silver",
          "width": 0.5
         },
         "marker": {
          "color": "silver",
          "line": {
           "color": "black",
           "width": 0
          },
          "opacity": 0.9,
          "size": 6
         },
         "mode": "lines+markers+text",
         "showlegend": false,
         "subplot": "ternary",
         "text": [
          "",
          "",
          "",
          "",
          "",
          "",
          "",
          "",
          "",
          "",
          "",
          "",
          "",
          "",
          "",
          ""
         ],
         "textfont": {
          "color": "black",
          "size": 5.347483372431709
         },
         "type": "scatterternary"
        },
        {
         "a": [
          0.25937126309883424,
          0.22989011888374344,
          0.20329434430563478,
          0.19570348279093147,
          0.18571920043584572,
          0.17945666587611378,
          0.15936445604347382,
          0.14646348436272214,
          0.1317125863287728,
          0.12061277038313684,
          0.10879549813103788,
          0.09763680210779896,
          0.08565319542173701,
          0.07682200758473656,
          0.07627195495464399,
          0.07810932096633386
         ],
         "b": [
          0.6340960248273203,
          0.6724021287454442,
          0.7473696144294409,
          0.7514470045947368,
          0.7494433281128103,
          0.747017940351249,
          0.7605147567005167,
          0.7780329877161828,
          0.7959303561851079,
          0.8062352026621584,
          0.8230982177315769,
          0.8363144522463041,
          0.844848339845268,
          0.8487354372763903,
          0.8441822716486901,
          0.8361554412896626
         ],
         "c": [
          0.10653271207384532,
          0.09770775237081217,
          0.049336041264924295,
          0.052849512614331885,
          0.0648374714513441,
          0.07352539377263721,
          0.08012078725600962,
          0.07550352792109519,
          0.07235705748611926,
          0.07315202695470488,
          0.06810628413738533,
          0.06604874564589698,
          0.06949846473299498,
          0.074442555138873,
          0.07954577339666588,
          0.08573523774400363
         ],
         "line": {
          "color": "silver",
          "width": 0.5
         },
         "marker": {
          "color": "silver",
          "line": {
           "color": "black",
           "width": 0
          },
          "opacity": 0.9,
          "size": 6
         },
         "mode": "lines+markers+text",
         "showlegend": false,
         "subplot": "ternary",
         "text": [
          "",
          "",
          "",
          "",
          "",
          "",
          "",
          "",
          "",
          "",
          "",
          "",
          "",
          "",
          "",
          ""
         ],
         "textfont": {
          "color": "black",
          "size": 4.710237440320201
         },
         "type": "scatterternary"
        },
        {
         "a": [
          0.4156712795653462,
          0.41968619868904405,
          0.4221163544499365,
          0.43398691723022254,
          0.4702449351253595,
          0.4978682962237254,
          0.49832181336992065,
          0.5039747358828903,
          0.5002127269514515,
          0.49308916814972914,
          0.4727956698214188,
          0.4516796361239404,
          0.42179641258196376,
          0.3906838058076313,
          0.3762710028924564,
          0.3640081638693416
         ],
         "b": [
          0.4877569959047675,
          0.4873475746600545,
          0.5545508152307744,
          0.5514873440633612,
          0.5121927484835049,
          0.48016659085570523,
          0.4787230650135935,
          0.4731565691745579,
          0.4771412479200175,
          0.48285706931664085,
          0.5013421079991068,
          0.5181254172464792,
          0.5413566185521658,
          0.5634064552999044,
          0.5736277908223725,
          0.5817018322735743
         ],
         "c": [
          0.0965717245298863,
          0.09296622665090139,
          0.023332830319288927,
          0.014525738706416342,
          0.017562316391135487,
          0.021965112920569345,
          0.022955121616485875,
          0.02286869494255169,
          0.02264602512853093,
          0.02405376253363015,
          0.025862222179474537,
          0.030194946629580513,
          0.03684696886587045,
          0.04590973889246416,
          0.05010120628517089,
          0.05429000385708392
         ],
         "line": {
          "color": "silver",
          "width": 0.5
         },
         "marker": {
          "color": "silver",
          "line": {
           "color": "black",
           "width": 0
          },
          "opacity": 0.9,
          "size": 6
         },
         "mode": "lines+markers+text",
         "showlegend": false,
         "subplot": "ternary",
         "text": [
          "",
          "",
          "",
          "",
          "",
          "",
          "",
          "",
          "",
          "",
          "",
          "",
          "",
          "",
          "",
          ""
         ],
         "textfont": {
          "color": "black",
          "size": 2.754447850662973
         },
         "type": "scatterternary"
        },
        {
         "a": [
          0.07885798173035516,
          0.08394004038249843,
          0.08615559824605118,
          0.09363185092998029,
          0.110445596421274,
          0.12526784661858054,
          0.13182243310021285,
          0.13721058011488718,
          0.13691139925325077,
          0.13370820121706506,
          0.12576276274899087,
          0.12026318783385614,
          0.11707387560872204,
          0.11305293435006139,
          0.11129250128587403,
          0.10970318512405397
         ],
         "b": [
          0.8976994086120776,
          0.8909322921349363,
          0.8909396499092339,
          0.8820190021493148,
          0.8587635679520934,
          0.8345103083231559,
          0.8198250050361895,
          0.8066060990586368,
          0.7976417627719343,
          0.791033164778268,
          0.7919767046965059,
          0.7992887802418182,
          0.8155609940445717,
          0.8217490949514763,
          0.8116390360574662,
          0.7999460723823213
         ],
         "c": [
          0.02344260965756725,
          0.0251276674825653,
          0.022904751844715025,
          0.024349146920704928,
          0.030790835626632537,
          0.04022184505826352,
          0.048352561863597744,
          0.056183320826476105,
          0.06544683797481488,
          0.07525863400466697,
          0.08226053255450322,
          0.08044803192432577,
          0.06736513034670615,
          0.06519797069846238,
          0.07706846265665959,
          0.09035074249362474
         ],
         "line": {
          "color": "silver",
          "width": 0.5
         },
         "marker": {
          "color": "silver",
          "line": {
           "color": "black",
           "width": 0
          },
          "opacity": 0.9,
          "size": 6
         },
         "mode": "lines+markers+text",
         "showlegend": false,
         "subplot": "ternary",
         "text": [
          "",
          "",
          "",
          "",
          "",
          "",
          "",
          "",
          "",
          "",
          "",
          "",
          "",
          "",
          "",
          ""
         ],
         "textfont": {
          "color": "black",
          "size": 2.2487326521248514
         },
         "type": "scatterternary"
        },
        {
         "a": [
          0.2657196955557117,
          0.26981692907891763,
          0.264756739415543,
          0.28123874258882026,
          0.32442352414639564,
          0.35197888879865546,
          0.3423122897509855,
          0.32570643543750133,
          0.30541611994477225,
          0.3037769860116176,
          0.3082312607145141,
          0.2964729481701487,
          0.2676854567798378,
          0.2416655467968326,
          0.23338560453847862,
          0.23251733719738554
         ],
         "b": [
          0.6380037465184968,
          0.6373885532253785,
          0.6817298841157624,
          0.6707184798279878,
          0.626855544728397,
          0.5964860132795621,
          0.5953008369791334,
          0.5950406281871657,
          0.6027693427916297,
          0.6087962193337976,
          0.6228356497600296,
          0.6288226793754204,
          0.6466614923562964,
          0.6586435854640329,
          0.6535834920962424,
          0.6436561375502942
         ],
         "c": [
          0.09627655792579154,
          0.09279451769570383,
          0.053513376468694585,
          0.04804277758319193,
          0.04872093112520735,
          0.05153509792178253,
          0.062386873269881224,
          0.07925293637533298,
          0.09181453726359791,
          0.08742679465458476,
          0.06893308952545642,
          0.07470437245443085,
          0.0856530508638656,
          0.09969086773913446,
          0.11303090336527902,
          0.1238265252523203
         ],
         "line": {
          "color": "silver",
          "width": 0.5
         },
         "marker": {
          "color": "silver",
          "line": {
           "color": "black",
           "width": 0
          },
          "opacity": 0.9,
          "size": 6
         },
         "mode": "lines+markers+text",
         "showlegend": false,
         "subplot": "ternary",
         "text": [
          "",
          "",
          "",
          "",
          "",
          "",
          "",
          "",
          "",
          "",
          "",
          "",
          "",
          "",
          "",
          ""
         ],
         "textfont": {
          "color": "black",
          "size": 4.618970538493192
         },
         "type": "scatterternary"
        },
        {
         "a": [
          0.06897290196254768,
          0.07315825546434454,
          0.07526120334750773,
          0.08290258357358754,
          0.10001972551244857,
          0.1147578633121866,
          0.11666225654281166,
          0.11429651990961535,
          0.10990033136905536,
          0.11265190234129026,
          0.12083623944118299,
          0.11912434301503837,
          0.11049818815243485,
          0.10149443226650484,
          0.09853750761938543,
          0.09859451880365717
         ],
         "b": [
          0.9122892010937483,
          0.9072947481786338,
          0.9088516478356687,
          0.9008909878326636,
          0.880846044768639,
          0.8563976938801704,
          0.824348981739993,
          0.7860629672746329,
          0.7635027628893599,
          0.7725997021418199,
          0.8252981633747766,
          0.8499316553143942,
          0.8532324456430777,
          0.8479207830327451,
          0.8369290686931797,
          0.8277604287737147
         ],
         "c": [
          0.01873789694370398,
          0.019546996357021767,
          0.015887148816823345,
          0.016206428593748677,
          0.019134229718912335,
          0.02884444280764294,
          0.058988761717195456,
          0.09964051281575176,
          0.1265969057415848,
          0.11474839551688985,
          0.05386559718404061,
          0.030944001670567448,
          0.03626936620448759,
          0.050584784700750125,
          0.06453342368743481,
          0.07364505242262806
         ],
         "line": {
          "color": "silver",
          "width": 0.5
         },
         "marker": {
          "color": "silver",
          "line": {
           "color": "black",
           "width": 0
          },
          "opacity": 0.9,
          "size": 6
         },
         "mode": "lines+markers+text",
         "showlegend": false,
         "subplot": "ternary",
         "text": [
          "",
          "",
          "",
          "",
          "",
          "",
          "",
          "",
          "",
          "",
          "",
          "",
          "",
          "",
          "",
          ""
         ],
         "textfont": {
          "color": "black",
          "size": 2.3834806319711186
         },
         "type": "scatterternary"
        },
        {
         "a": [
          0.14434470552158718,
          0.15019820365274572,
          0.14843927940039556,
          0.1614939541870279,
          0.19502753616548404,
          0.2214791003360529,
          0.2223652716590106,
          0.2167769807116345,
          0.2064476901061102,
          0.20720982378979882,
          0.21101975185032465,
          0.20174857145857533,
          0.1830616711396277,
          0.16599681568026248,
          0.1598392323056158,
          0.1584114342633271
         ],
         "b": [
          0.8286443108633144,
          0.8231176479889282,
          0.8419446774741706,
          0.8303198496663748,
          0.7941549359445724,
          0.7608230670403993,
          0.7411572561341272,
          0.720520284630545,
          0.7130959217581683,
          0.7210876113938912,
          0.753502694969896,
          0.7688868603296267,
          0.7805948430509596,
          0.7866895043523122,
          0.781611404640237,
          0.7753528373727703
         ],
         "c": [
          0.027010983615098343,
          0.02668414835832608,
          0.009616043125433913,
          0.008186196146597269,
          0.010817527889943583,
          0.017697832623547825,
          0.0364774722068622,
          0.06270273465782035,
          0.08045638813572158,
          0.07170256481630985,
          0.03547755317977939,
          0.029364568211797896,
          0.03634348580941271,
          0.04731367996742541,
          0.05854936305414721,
          0.06623572836390261
         ],
         "line": {
          "color": "silver",
          "width": 0.5
         },
         "marker": {
          "color": "silver",
          "line": {
           "color": "black",
           "width": 0
          },
          "opacity": 0.9,
          "size": 6
         },
         "mode": "lines+markers+text",
         "showlegend": false,
         "subplot": "ternary",
         "text": [
          "",
          "",
          "",
          "",
          "",
          "",
          "",
          "",
          "",
          "",
          "",
          "",
          "",
          "",
          "",
          ""
         ],
         "textfont": {
          "color": "black",
          "size": 4.3204497196372635
         },
         "type": "scatterternary"
        },
        {
         "a": [
          0.36454339231734173,
          0.2662558317164125,
          0.17749706663891454,
          0.1444095427162586,
          0.13107323621984984,
          0.12807548723037565,
          0.12380103318741106,
          0.12930949277090248,
          0.12660262213868,
          0.12380348324209409,
          0.11605905238962554,
          0.11719311143614725,
          0.13402887885784795,
          0.16006683602929203,
          0.1868264814747061,
          0.2183278302438006
         ],
         "b": [
          0.5106833072811128,
          0.6286607827965518,
          0.700195304308597,
          0.6786921017805883,
          0.6468464864157228,
          0.6344248903330233,
          0.6498899739738055,
          0.6562829423515665,
          0.6593834560730883,
          0.6577811698756644,
          0.6589807707472738,
          0.6655083997427819,
          0.6879573591630026,
          0.7126736886209591,
          0.713254922941396,
          0.6897731204155438
         ],
         "c": [
          0.12477330040154558,
          0.10508338548703554,
          0.12230762905248833,
          0.17689835550315325,
          0.22208027736442737,
          0.237499622436601,
          0.22630899283878342,
          0.214407564877531,
          0.2140139217882317,
          0.21841534688224137,
          0.2249601768631006,
          0.21729848882107097,
          0.1780137619791495,
          0.12725947534974896,
          0.09991859558389794,
          0.09189904934065547
         ],
         "line": {
          "color": "silver",
          "width": 0.5
         },
         "marker": {
          "color": "silver",
          "line": {
           "color": "black",
           "width": 0
          },
          "opacity": 0.9,
          "size": 6
         },
         "mode": "lines+markers+text",
         "showlegend": false,
         "subplot": "ternary",
         "text": [
          "",
          "",
          "",
          "",
          "",
          "",
          "",
          "",
          "",
          "",
          "",
          "",
          "",
          "",
          "",
          ""
         ],
         "textfont": {
          "color": "black",
          "size": 4.437164874708001
         },
         "type": "scatterternary"
        },
        {
         "a": [
          0.39343693028302507,
          0.3594265557771139,
          0.3486819738066326,
          0.3544735359781296,
          0.3651798195119272,
          0.3844138425229891,
          0.36148680375443015,
          0.3419407477478074,
          0.3216698600568651,
          0.3096961627096052,
          0.292858293392662,
          0.27185156665330845,
          0.24381730919224978,
          0.21941518906219837,
          0.21516436333980407,
          0.21948280021477376
         ],
         "b": [
          0.4545442433410019,
          0.5104960158409988,
          0.6015026859845147,
          0.6013544300975149,
          0.5888466576669904,
          0.5701095884038663,
          0.5968996804453454,
          0.6197001039846742,
          0.6380246005618085,
          0.642853605222265,
          0.6521072041002821,
          0.6602111094011548,
          0.672949335430722,
          0.6812654215609869,
          0.6717360723106056,
          0.6523986298588915
         ],
         "c": [
          0.15201882637597294,
          0.13007742838188732,
          0.04981534020885261,
          0.04417203392435562,
          0.04597352282108243,
          0.04547656907314466,
          0.04161351580022429,
          0.03835914826751854,
          0.04030553938132628,
          0.04745023206812969,
          0.055034502507055785,
          0.06793732394553689,
          0.08323335537702813,
          0.09931938937681489,
          0.11309956434959029,
          0.12811856992633458
         ],
         "line": {
          "color": "silver",
          "width": 0.5
         },
         "marker": {
          "color": "silver",
          "line": {
           "color": "black",
           "width": 0
          },
          "opacity": 0.9,
          "size": 6
         },
         "mode": "lines+markers+text",
         "showlegend": false,
         "subplot": "ternary",
         "text": [
          "",
          "",
          "",
          "",
          "",
          "",
          "",
          "",
          "",
          "",
          "",
          "",
          "",
          "",
          "",
          ""
         ],
         "textfont": {
          "color": "black",
          "size": 1.9285036815669145
         },
         "type": "scatterternary"
        },
        {
         "a": [
          0,
          0,
          0,
          0,
          0,
          0,
          0,
          0,
          0,
          0,
          0,
          0,
          0,
          0,
          0,
          0
         ],
         "b": [
          0,
          0,
          0,
          0,
          0,
          0,
          0,
          0,
          0,
          0,
          0,
          0,
          0,
          0,
          0,
          0
         ],
         "c": [
          0,
          0,
          0,
          0,
          0,
          0,
          0,
          0,
          0,
          0,
          0,
          0,
          0,
          0,
          0,
          0
         ],
         "line": {
          "color": "silver",
          "width": 0.5
         },
         "marker": {
          "color": "forestgreen",
          "line": {
           "color": "black",
           "width": 0
          },
          "opacity": 0.9,
          "size": 6
         },
         "mode": "lines+markers+text",
         "showlegend": false,
         "subplot": "ternary",
         "text": [
          "IND",
          "",
          "",
          "",
          "",
          "",
          "",
          "",
          "",
          "",
          "",
          "",
          "",
          "",
          "",
          ""
         ],
         "textfont": {
          "color": "black",
          "size": 26
         },
         "type": "scatterternary"
        },
        {
         "a": [
          0.14421213229839447,
          0.15053749219098128,
          0.14551469279117543,
          0.14967480719783943,
          0.15726684032402719,
          0.15133088599535136,
          0.13148878108025167,
          0.12625060844910369,
          0.12375397417576478,
          0.12223811033206074,
          0.11811149767346774,
          0.11642023659700648,
          0.11326412830563204,
          0.10967430443336118,
          0.11124757109065374,
          0.11218129236345917
         ],
         "b": [
          0.7720249874630113,
          0.7608116326447948,
          0.764524562161328,
          0.7427109265603806,
          0.7014824977171136,
          0.6724625751193131,
          0.66177137041378,
          0.6693146991985277,
          0.6833218004074976,
          0.6916642107976654,
          0.6973278516325587,
          0.6979339222407861,
          0.6892663444314,
          0.6700797054133238,
          0.6483318974069295,
          0.6229907242186491
         ],
         "c": [
          0.08376288023859424,
          0.08865087516422386,
          0.08996074504749647,
          0.10761426624177999,
          0.14125066195885924,
          0.17620653888533566,
          0.2067398485059684,
          0.20443469235236866,
          0.19292422541673765,
          0.1860976788702739,
          0.18456065069397348,
          0.18564584116220728,
          0.197469527262968,
          0.22024599015331492,
          0.24042053150241674,
          0.2648279834178917
         ],
         "line": {
          "color": "silver",
          "width": 0.5
         },
         "marker": {
          "color": "silver",
          "line": {
           "color": "black",
           "width": 0
          },
          "opacity": 0.9,
          "size": 6
         },
         "mode": "lines+markers+text",
         "showlegend": false,
         "subplot": "ternary",
         "text": [
          "",
          "",
          "",
          "",
          "",
          "",
          "",
          "",
          "",
          "",
          "",
          "",
          "",
          "",
          "",
          ""
         ],
         "textfont": {
          "color": "black",
          "size": 13.826196575374512
         },
         "type": "scatterternary"
        },
        {
         "a": [
          0.1472147711856802,
          0.14295980677118122,
          0.11034693795629492,
          0.11021452605537002,
          0.13214619744917624,
          0.15216153174625321,
          0.15145622734917275,
          0.15069876686457773,
          0.14289815527964542,
          0.13579365046097627,
          0.12121520136550798,
          0.10871395087507699,
          0.09619377314323026,
          0.08731289722093814,
          0.08672097049870939,
          0.08827168140527103
         ],
         "b": [
          0.7971526144226235,
          0.8052739349098763,
          0.8793517363799291,
          0.884219661858075,
          0.8602556071788052,
          0.8379859930844471,
          0.8380882844990644,
          0.8392766341925875,
          0.8476288466843809,
          0.8543561297205726,
          0.8683225209028629,
          0.8791690155506537,
          0.8890216673803629,
          0.8946828861613146,
          0.8932752944388873,
          0.8893055688913217
         ],
         "c": [
          0.05563261439169624,
          0.05176625831894246,
          0.010301325663776069,
          0.00556581208655503,
          0.0075981953720186,
          0.009852475169299713,
          0.010455488151762777,
          0.010024598942834658,
          0.009472998035973798,
          0.009850219818451205,
          0.01046227773162906,
          0.012117033574269284,
          0.014784559476406821,
          0.01800421661774714,
          0.020003735062403386,
          0.022422749703407227
         ],
         "line": {
          "color": "silver",
          "width": 0.5
         },
         "marker": {
          "color": "silver",
          "line": {
           "color": "black",
           "width": 0
          },
          "opacity": 0.9,
          "size": 6
         },
         "mode": "lines+markers+text",
         "showlegend": false,
         "subplot": "ternary",
         "text": [
          "",
          "",
          "",
          "",
          "",
          "",
          "",
          "",
          "",
          "",
          "",
          "",
          "",
          "",
          "",
          ""
         ],
         "textfont": {
          "color": "black",
          "size": 9.076353486172964
         },
         "type": "scatterternary"
        },
        {
         "a": [
          0.2765853790658177,
          0.28240681881525975,
          0.27227867881258333,
          0.2776864196455925,
          0.29307130618136695,
          0.2881237396664618,
          0.2588645688689514,
          0.24372499034185963,
          0.2299456268333412,
          0.21852802872075147,
          0.20320404404796027,
          0.19286933257317967,
          0.18224736219032056,
          0.17346116092781197,
          0.17463094610475088,
          0.17689560730846757
         ],
         "b": [
          0.6237668275322991,
          0.6201901344035735,
          0.6618782153760981,
          0.6515536513045915,
          0.6171595827569487,
          0.6004242959495665,
          0.6077371114072028,
          0.6200894129361951,
          0.6352017677421021,
          0.6448414954435432,
          0.654870572947708,
          0.6586679263706854,
          0.6540716816646196,
          0.6388934997545105,
          0.6172704624005639,
          0.5932227817303304
         ],
         "c": [
          0.09964779340188325,
          0.09740304678116679,
          0.06584310581131848,
          0.07075992904981601,
          0.08976911106168434,
          0.1114519643839718,
          0.13339831972384586,
          0.1361855967219453,
          0.13485260542455654,
          0.13663047583570556,
          0.1419253830043317,
          0.14846274105613505,
          0.16368095614505976,
          0.1876453393176774,
          0.20809859149468518,
          0.22988161096120208
         ],
         "line": {
          "color": "silver",
          "width": 0.5
         },
         "marker": {
          "color": "silver",
          "line": {
           "color": "black",
           "width": 0
          },
          "opacity": 0.9,
          "size": 6
         },
         "mode": "lines+markers+text",
         "showlegend": false,
         "subplot": "ternary",
         "text": [
          "",
          "",
          "",
          "",
          "",
          "",
          "",
          "",
          "",
          "",
          "",
          "",
          "",
          "",
          "",
          ""
         ],
         "textfont": {
          "color": "black",
          "size": 7.09702379325706
         },
         "type": "scatterternary"
        },
        {
         "a": [
          0.48197586890731603,
          0.4386794269826128,
          0.4813280321353796,
          0.5017186155673721,
          0.46973952245931905,
          0.44822228132275227,
          0.42210406955674085,
          0.4146783799908135,
          0.4004818821925838,
          0.3873047443112756,
          0.385066255422226,
          0.3708817403320306,
          0.3520180840582511,
          0.34354226624878326,
          0.3624440715979351,
          0.38875379663740994
         ],
         "b": [
          0.3562830678957591,
          0.4211114760054031,
          0.46468102585495125,
          0.44527068381830953,
          0.4602636751523556,
          0.4709259359908441,
          0.48714272417293575,
          0.4983183089575686,
          0.5167123451166318,
          0.532306181472364,
          0.544990491928757,
          0.5579553444859077,
          0.5640912040041558,
          0.5536589794551364,
          0.5195809949028118,
          0.4774819042450582
         ],
         "c": [
          0.16174106319692497,
          0.14020909701198414,
          0.05399094200966907,
          0.05301070061431829,
          0.06999680238832542,
          0.08085178268640367,
          0.09075320627032342,
          0.08700331105161795,
          0.08280577269078448,
          0.0803890742163604,
          0.069943252649017,
          0.07116291518206169,
          0.08389071193759312,
          0.10279875429608026,
          0.11797493349925305,
          0.13376429911753182
         ],
         "line": {
          "color": "silver",
          "width": 0.5
         },
         "marker": {
          "color": "silver",
          "line": {
           "color": "black",
           "width": 0
          },
          "opacity": 0.9,
          "size": 6
         },
         "mode": "lines+markers+text",
         "showlegend": false,
         "subplot": "ternary",
         "text": [
          "",
          "",
          "",
          "",
          "",
          "",
          "",
          "",
          "",
          "",
          "",
          "",
          "",
          "",
          "",
          ""
         ],
         "textfont": {
          "color": "black",
          "size": 3.641446774131509
         },
         "type": "scatterternary"
        },
        {
         "a": [
          0.08073629718977471,
          0.08674515488087474,
          0.09006278152852286,
          0.09944883940875743,
          0.11949700965476023,
          0.13789289174019945,
          0.14556589739305303,
          0.15219495887886653,
          0.153765633672684,
          0.15352547386261928,
          0.14652013264354993,
          0.1386117896550871,
          0.12768374521882758,
          0.11748446384257173,
          0.11323474997753297,
          0.10937961211596527
         ],
         "b": [
          0.9064078357815568,
          0.899269922719306,
          0.9015552949233714,
          0.8929071662298513,
          0.8720956283349666,
          0.8526085417614279,
          0.8445178168540634,
          0.8373233334972578,
          0.8351377499555444,
          0.834528481921485,
          0.8402950790255383,
          0.8465395344290015,
          0.8555551641026712,
          0.8636271635195754,
          0.8669340351991929,
          0.8701699821278578
         ],
         "c": [
          0.012855867028668595,
          0.013984922399819296,
          0.008381923548105782,
          0.007643994361391316,
          0.008407362010273204,
          0.009498566498372787,
          0.009916285752883407,
          0.010481707623875545,
          0.011096616371771775,
          0.011946044215895775,
          0.01318478833091159,
          0.014848675915911356,
          0.016761090678501307,
          0.01888837263785304,
          0.019831214823274046,
          0.02045040575617696
         ],
         "line": {
          "color": "silver",
          "width": 0.5
         },
         "marker": {
          "color": "silver",
          "line": {
           "color": "black",
           "width": 0
          },
          "opacity": 0.9,
          "size": 6
         },
         "mode": "lines+markers+text",
         "showlegend": false,
         "subplot": "ternary",
         "text": [
          "",
          "",
          "",
          "",
          "",
          "",
          "",
          "",
          "",
          "",
          "",
          "",
          "",
          "",
          "",
          ""
         ],
         "textfont": {
          "color": "black",
          "size": 4.36655303925423
         },
         "type": "scatterternary"
        },
        {
         "a": [
          0.4667630481204885,
          0.448523606507504,
          0.4495411796306813,
          0.455234544826329,
          0.4757200475540932,
          0.4868292280790806,
          0.46959824529286487,
          0.4656608359298817,
          0.44899990988078553,
          0.428875170573137,
          0.4095711002150086,
          0.3745959365472051,
          0.33268149066601505,
          0.29937788768421836,
          0.2891157773043609,
          0.2821382203922871
         ],
         "b": [
          0.3568823320634819,
          0.3887308136602654,
          0.4880021618962466,
          0.48884084625722557,
          0.45197846651292156,
          0.42944402430358125,
          0.43685591202228913,
          0.44327827290143357,
          0.46237514846544386,
          0.4826848821044365,
          0.506764019190869,
          0.5346563011659571,
          0.5608348148429605,
          0.5757847091372378,
          0.5743721922863336,
          0.5726013954871273
         ],
         "c": [
          0.17635461981602957,
          0.16274557983223065,
          0.062456658473071976,
          0.0559246089164455,
          0.07230148593298523,
          0.08372674761733835,
          0.09354584268484592,
          0.09106089116868461,
          0.08862494165377065,
          0.08843994732242655,
          0.08366488059412248,
          0.09074776228683785,
          0.10648369449102443,
          0.12483740317854375,
          0.1365120304093055,
          0.14526038412058562
         ],
         "line": {
          "color": "silver",
          "width": 0.5
         },
         "marker": {
          "color": "silver",
          "line": {
           "color": "black",
           "width": 0
          },
          "opacity": 0.9,
          "size": 6
         },
         "mode": "lines+markers+text",
         "showlegend": false,
         "subplot": "ternary",
         "text": [
          "",
          "",
          "",
          "",
          "",
          "",
          "",
          "",
          "",
          "",
          "",
          "",
          "",
          "",
          "",
          ""
         ],
         "textfont": {
          "color": "black",
          "size": 8.196026933809378
         },
         "type": "scatterternary"
        },
        {
         "a": [
          0.3759378397403956,
          0.35269468133312515,
          0.31666741702739226,
          0.3074554309862399,
          0.2922108844708782,
          0.3068300322606888,
          0.31613664974397104,
          0.33254485185250426,
          0.3411057940878577,
          0.3485595784596437,
          0.3569200803275097,
          0.36366030425132123,
          0.3641493256727662,
          0.36286081771349576,
          0.3852871439853709,
          0.4197977897249233
         ],
         "b": [
          0.5040124407987273,
          0.5430367093579718,
          0.6523420070584707,
          0.6568460184388024,
          0.6566238250700632,
          0.6388068454131162,
          0.6276084427176717,
          0.6159096701134529,
          0.6111298418563325,
          0.6045820049657217,
          0.601233545367915,
          0.5922837695474067,
          0.58143063927505,
          0.5633806520321787,
          0.5238425562790274,
          0.4679531873369898
         ],
         "c": [
          0.1200497194608772,
          0.1042686093089031,
          0.03099057591413696,
          0.03569855057495765,
          0.051165290459058675,
          0.05436312232619505,
          0.056254907538357296,
          0.051545478034042795,
          0.04776436405580981,
          0.04685841657463465,
          0.041846374304575155,
          0.04405592620127213,
          0.05442003505218383,
          0.0737585302543255,
          0.0908702997356018,
          0.11224902293808695
         ],
         "line": {
          "color": "silver",
          "width": 0.5
         },
         "marker": {
          "color": "silver",
          "line": {
           "color": "black",
           "width": 0
          },
          "opacity": 0.9,
          "size": 6
         },
         "mode": "lines+markers+text",
         "showlegend": false,
         "subplot": "ternary",
         "text": [
          "",
          "",
          "",
          "",
          "",
          "",
          "",
          "",
          "",
          "",
          "",
          "",
          "",
          "",
          "",
          ""
         ],
         "textfont": {
          "color": "black",
          "size": 3.0992084903346426
         },
         "type": "scatterternary"
        },
        {
         "a": [
          0.18228064099093863,
          0.18914475523956994,
          0.1808016299394209,
          0.19000993813015482,
          0.21069377640549952,
          0.22319371428528617,
          0.22046094436486746,
          0.22123320092783708,
          0.22062565914820126,
          0.22401696797252055,
          0.22058157629714648,
          0.2118768024459529,
          0.19392231869820847,
          0.17807632002091278,
          0.17679218754070103,
          0.17404270024512997
         ],
         "b": [
          0.7814396746473475,
          0.7699273062715105,
          0.7928684598212105,
          0.7765490779443206,
          0.7397830216798182,
          0.7152247038871541,
          0.7128661283921376,
          0.7132171814380973,
          0.7207617354881092,
          0.7263601304155908,
          0.7378097946429889,
          0.7449601845499544,
          0.7521143631523061,
          0.7580208845672618,
          0.7560234993874583,
          0.7552407444854801
         ],
         "c": [
          0.03627968436171388,
          0.04092793848891948,
          0.026329910239368832,
          0.033440983925524664,
          0.04952320191468222,
          0.06158158182755972,
          0.06667292724299502,
          0.06554961763406573,
          0.058612605363689584,
          0.049622901611888634,
          0.04160862905986474,
          0.043163013004092685,
          0.053963318149485455,
          0.0639027954118254,
          0.06718431307184074,
          0.07071655526939001
         ],
         "line": {
          "color": "silver",
          "width": 0.5
         },
         "marker": {
          "color": "silver",
          "line": {
           "color": "black",
           "width": 0
          },
          "opacity": 0.9,
          "size": 6
         },
         "mode": "lines+markers+text",
         "showlegend": false,
         "subplot": "ternary",
         "text": [
          "",
          "",
          "",
          "",
          "",
          "",
          "",
          "",
          "",
          "",
          "",
          "",
          "",
          "",
          "",
          ""
         ],
         "textfont": {
          "color": "black",
          "size": 10.538432537539107
         },
         "type": "scatterternary"
        },
        {
         "a": [
          0.2853286958986624,
          0.24575216240786307,
          0.21481380029708905,
          0.20151248080864692,
          0.1850238676525348,
          0.17493491953877652,
          0.1542642058826441,
          0.14195422414820383,
          0.127590255007675,
          0.11630941713128345,
          0.10456106752690375,
          0.09416086846554458,
          0.08322885663691437,
          0.07569853366290799,
          0.07674079796095994,
          0.0806204388302951
         ],
         "b": [
          0.5980716035078553,
          0.6458097185460487,
          0.7259883549120747,
          0.7332703678134618,
          0.7344401365298777,
          0.7341153863821359,
          0.7461059027585477,
          0.7627847809487955,
          0.7810597480868754,
          0.7927832178871087,
          0.811964957832225,
          0.8266891711676654,
          0.8351691456720455,
          0.8385857792707849,
          0.8327559191034686,
          0.8222423495311415
         ],
         "c": [
          0.11659970059348229,
          0.10843811904608816,
          0.05919784479083637,
          0.06521715137789139,
          0.0805359958175874,
          0.0909496940790877,
          0.0996298913588081,
          0.09526099490300062,
          0.09134999690544969,
          0.0909073649816078,
          0.08347397464087133,
          0.07914996036679002,
          0.08160199769104014,
          0.0857156870663073,
          0.09050328293557146,
          0.09713721163856344
         ],
         "line": {
          "color": "silver",
          "width": 0.5
         },
         "marker": {
          "color": "silver",
          "line": {
           "color": "black",
           "width": 0
          },
          "opacity": 0.9,
          "size": 6
         },
         "mode": "lines+markers+text",
         "showlegend": false,
         "subplot": "ternary",
         "text": [
          "",
          "",
          "",
          "",
          "",
          "",
          "",
          "",
          "",
          "",
          "",
          "",
          "",
          "",
          "",
          ""
         ],
         "textfont": {
          "color": "black",
          "size": 4.177291118730479
         },
         "type": "scatterternary"
        },
        {
         "a": [
          0.4184843187584597,
          0.35921056538389884,
          0.321137073849598,
          0.3172647996913671,
          0.3257314319950717,
          0.3244501347482225,
          0.30604724783447873,
          0.29753431509597444,
          0.28868400984445425,
          0.2877377069694089,
          0.27731736040117333,
          0.2753116040284975,
          0.27976218187519675,
          0.2805111311199087,
          0.29478581267120246,
          0.3087531697113461
         ],
         "b": [
          0.4385820379222221,
          0.5256202520250484,
          0.6542862284357318,
          0.6662081292102331,
          0.6517566448396808,
          0.6464998006815293,
          0.6641400284261483,
          0.6729072647947258,
          0.6825950074613845,
          0.6840807713032768,
          0.6924365234579687,
          0.6914607161167465,
          0.6773506325815721,
          0.6500530092766698,
          0.6202283172720984,
          0.5905689240531543
         ],
         "c": [
          0.14293364331931818,
          0.11516918259105269,
          0.024576697714670016,
          0.01652707109839969,
          0.022511923165247402,
          0.029050064570248137,
          0.02981272373937287,
          0.02955842010929971,
          0.028720982694161335,
          0.028181521727314335,
          0.03024611614085799,
          0.03322767985475611,
          0.04288718554323118,
          0.06943585960342169,
          0.08498587005669904,
          0.10067790623549971
         ],
         "line": {
          "color": "silver",
          "width": 0.5
         },
         "marker": {
          "color": "silver",
          "line": {
           "color": "black",
           "width": 0
          },
          "opacity": 0.9,
          "size": 6
         },
         "mode": "lines+markers+text",
         "showlegend": false,
         "subplot": "ternary",
         "text": [
          "",
          "",
          "",
          "",
          "",
          "",
          "",
          "",
          "",
          "",
          "",
          "",
          "",
          "",
          "",
          ""
         ],
         "textfont": {
          "color": "black",
          "size": 5.355915229919178
         },
         "type": "scatterternary"
        },
        {
         "a": [
          0.4306771129849411,
          0.4256191166232901,
          0.4244806147291195,
          0.4294627092372407,
          0.4346286156668866,
          0.43564905130880754,
          0.41868708460984133,
          0.4056496667273006,
          0.39046340634018784,
          0.3823813547353864,
          0.3629277205029022,
          0.34889980832753265,
          0.33376795257672376,
          0.3212405349251222,
          0.33228307500946463,
          0.34614123501780214
         ],
         "b": [
          0.38982229572413546,
          0.4058796273125965,
          0.49070885618014276,
          0.5003565477980846,
          0.5051624866980481,
          0.5093477967312213,
          0.528788107591316,
          0.5430693674037353,
          0.5573207372402519,
          0.5621105824676292,
          0.5734140741069257,
          0.5740079882460101,
          0.567388673981595,
          0.5545301986836565,
          0.5254058486297827,
          0.4936574043925795
         ],
         "c": [
          0.17950059129092358,
          0.16850125606411331,
          0.08481052909073777,
          0.07018074296467466,
          0.060208897635065255,
          0.05500315195997122,
          0.052524807798842665,
          0.05128096586896418,
          0.0522158564195604,
          0.055508062796984184,
          0.06365820539017232,
          0.07709220342645735,
          0.09884337344168129,
          0.12422926639122128,
          0.1423110763607528,
          0.16020136058961837
         ],
         "line": {
          "color": "silver",
          "width": 0.5
         },
         "marker": {
          "color": "silver",
          "line": {
           "color": "black",
           "width": 0
          },
          "opacity": 0.9,
          "size": 6
         },
         "mode": "lines+markers+text",
         "showlegend": false,
         "subplot": "ternary",
         "text": [
          "",
          "",
          "",
          "",
          "",
          "",
          "",
          "",
          "",
          "",
          "",
          "",
          "",
          "",
          "",
          ""
         ],
         "textfont": {
          "color": "black",
          "size": 7.650163140779874
         },
         "type": "scatterternary"
        },
        {
         "a": [
          0.38271374770305544,
          0.3289402169811117,
          0.28844389243103796,
          0.26636364466740886,
          0.24586313272940902,
          0.23448155496200845,
          0.21190703939907424,
          0.20001008292363914,
          0.1847233662391809,
          0.1732074932417646,
          0.16045650876764184,
          0.1485994406809531,
          0.1345031381388152,
          0.12434409465793532,
          0.12640473031949923,
          0.13168454534027557
         ],
         "b": [
          0.4701846623247764,
          0.5388460088986416,
          0.647794123635067,
          0.6674605390802498,
          0.6743759275177736,
          0.6766585889693192,
          0.6907287552802189,
          0.705840138091853,
          0.7239036326820759,
          0.735064338137377,
          0.7537686727496978,
          0.7670153821987967,
          0.775382734710218,
          0.7776219950437399,
          0.7684159838302581,
          0.755325643665418
         ],
         "c": [
          0.1471015899721681,
          0.1322137741202466,
          0.06376198393389496,
          0.0661758162523413,
          0.07976093975281727,
          0.08885985606867239,
          0.09736420532070678,
          0.09414977898450792,
          0.0913730010787433,
          0.09172816862085845,
          0.08577481848266036,
          0.0843851771202502,
          0.09011412715096666,
          0.09803391029832487,
          0.1051792858502426,
          0.11298981099430638
         ],
         "line": {
          "color": "silver",
          "width": 0.5
         },
         "marker": {
          "color": "silver",
          "line": {
           "color": "black",
           "width": 0
          },
          "opacity": 0.9,
          "size": 6
         },
         "mode": "lines+markers+text",
         "showlegend": false,
         "subplot": "ternary",
         "text": [
          "",
          "",
          "",
          "",
          "",
          "",
          "",
          "",
          "",
          "",
          "",
          "",
          "",
          "",
          "",
          ""
         ],
         "textfont": {
          "color": "black",
          "size": 2.3834806319711186
         },
         "type": "scatterternary"
        },
        {
         "a": [
          0.49432734281056495,
          0.38259440316578835,
          0.33975444267672705,
          0.35919216901563433,
          0.36180644624804187,
          0.38365924349833075,
          0.39660126080203617,
          0.38974502589891247,
          0.36727016097949794,
          0.33912904243558245,
          0.3322999405101903,
          0.3779809192775479,
          0.07203871378817633,
          0.06668309006333951,
          0.09019958871591031,
          0.12340348634188761
         ],
         "b": [
          0.30623635571638075,
          0.4507557420517602,
          0.5680186115486585,
          0.5285938894181924,
          0.44591311145565055,
          0.41373822078504685,
          0.4710444450161349,
          0.5049397315671719,
          0.5314745284461406,
          0.5578171108468114,
          0.5792507294678797,
          0.48140294276213036,
          0.3992540389091521,
          0.41704238764991963,
          0.4066485437996067,
          0.4077629693067615
         ],
         "c": [
          0.19943630147305444,
          0.16664985478245148,
          0.09222694577461438,
          0.11221394156617324,
          0.19228044229630764,
          0.2026025357166225,
          0.1323542941818288,
          0.10531524253391558,
          0.1012553105743614,
          0.10305384671760613,
          0.08844933002192985,
          0.14061613796032174,
          0.5287072473026716,
          0.5162745222867409,
          0.503151867484483,
          0.46883354435135105
         ],
         "line": {
          "color": "silver",
          "width": 0.5
         },
         "marker": {
          "color": "silver",
          "line": {
           "color": "black",
           "width": 0
          },
          "opacity": 0.9,
          "size": 6
         },
         "mode": "lines+markers+text",
         "showlegend": false,
         "subplot": "ternary",
         "text": [
          "",
          "",
          "",
          "",
          "",
          "",
          "",
          "",
          "",
          "",
          "",
          "",
          "",
          "",
          "",
          ""
         ],
         "textfont": {
          "color": "black",
          "size": 3.305261960720932
         },
         "type": "scatterternary"
        },
        {
         "a": [
          0.33323839666894256,
          0.2960667541064408,
          0.2737241865713711,
          0.2676251282572674,
          0.25217085787338805,
          0.24295684201193776,
          0.21937623481604243,
          0.20613829141127749,
          0.18980039864018164,
          0.1783317774879287,
          0.1658754553991672,
          0.15363698083238148,
          0.13964248877145555,
          0.13031791988213387,
          0.13433783045761108,
          0.1431673147324387
         ],
         "b": [
          0.5347704001291254,
          0.5858117161755486,
          0.6705165684232633,
          0.674766266565817,
          0.6771061493771272,
          0.6765465855531458,
          0.6921832364863169,
          0.7102427295276481,
          0.7304948307537396,
          0.7414769616950554,
          0.7584706839863817,
          0.7710989254713722,
          0.778981230767671,
          0.7793665597296849,
          0.7659401970714351,
          0.7460096895956583
         ],
         "c": [
          0.13199120320193206,
          0.11812152971801072,
          0.05575924500536564,
          0.05760860517691565,
          0.07072299274948475,
          0.08049657243491636,
          0.08844052869764057,
          0.08361897906107452,
          0.07970477060607885,
          0.08019126081701575,
          0.07565386061445116,
          0.0752640936962464,
          0.08137628046087333,
          0.09031552038818108,
          0.09972197247095392,
          0.11082299567190299
         ],
         "line": {
          "color": "silver",
          "width": 0.5
         },
         "marker": {
          "color": "silver",
          "line": {
           "color": "black",
           "width": 0
          },
          "opacity": 0.9,
          "size": 6
         },
         "mode": "lines+markers+text",
         "showlegend": false,
         "subplot": "ternary",
         "text": [
          "",
          "",
          "",
          "",
          "",
          "",
          "",
          "",
          "",
          "",
          "",
          "",
          "",
          "",
          "",
          ""
         ],
         "textfont": {
          "color": "black",
          "size": 3.80226029730765
         },
         "type": "scatterternary"
        },
        {
         "a": [
          0.37026580158047917,
          0.4198351678631569,
          0.4453486460054431,
          0.4766628471388281,
          0.4816700525291681,
          0.4540263893661368,
          0.4034253338696199,
          0.363812280846316,
          0.3248452196933838,
          0.2940015743003695,
          0.2632668588995979,
          0.2427236336764369,
          0.2234501722692516,
          0.20887208429036364,
          0.2109339435867066,
          0.21873915581734318
         ],
         "b": [
          0.5118089145590456,
          0.4625623045000022,
          0.506673673059731,
          0.46831143534568453,
          0.41540847224044836,
          0.4007687633170047,
          0.41960126611655435,
          0.44306355069060477,
          0.466144030028683,
          0.4844894242009879,
          0.5015255521639223,
          0.5107619441403682,
          0.5104957028450918,
          0.49718785219564005,
          0.4751096250357947,
          0.448222411295942
         ],
         "c": [
          0.11792528386047516,
          0.1176025276368409,
          0.047977680934825864,
          0.055025717515487384,
          0.10292147523038356,
          0.14520484731685854,
          0.1769734000138257,
          0.19312416846307925,
          0.20901075027793325,
          0.22150900149864253,
          0.23520758893647994,
          0.2465144221831948,
          0.26605412488565655,
          0.2939400635139962,
          0.3139564313774987,
          0.33303843288671486
         ],
         "line": {
          "color": "silver",
          "width": 0.5
         },
         "marker": {
          "color": "silver",
          "line": {
           "color": "black",
           "width": 0
          },
          "opacity": 0.9,
          "size": 6
         },
         "mode": "lines+markers+text",
         "showlegend": false,
         "subplot": "ternary",
         "text": [
          "",
          "",
          "",
          "",
          "",
          "",
          "",
          "",
          "",
          "",
          "",
          "",
          "",
          "",
          "",
          ""
         ],
         "textfont": {
          "color": "black",
          "size": 4.024423033076069
         },
         "type": "scatterternary"
        },
        {
         "a": [
          0.1647378550587709,
          0.17022117604506262,
          0.16229415178639872,
          0.17317921406526485,
          0.2034277041638064,
          0.2242707380047655,
          0.2250668359702035,
          0.2272765291831788,
          0.22403938043935012,
          0.22066604621822225,
          0.2066595778611784,
          0.19101491798718864,
          0.16740561216699631,
          0.14966204223926194,
          0.1440429642390681,
          0.13793919514152214
         ],
         "b": [
          0.7977095441724937,
          0.7922614886652171,
          0.8210532370848679,
          0.8108838636998604,
          0.7737218568328365,
          0.7409051656995507,
          0.7333100027815154,
          0.7293992538030613,
          0.7348883425449237,
          0.7424410073730455,
          0.7592631713156229,
          0.7762285545631666,
          0.785442143955527,
          0.7984776140899611,
          0.8142869053573033,
          0.8234634155348535
         ],
         "c": [
          0.03755260076873532,
          0.037517335289720274,
          0.016652611128733324,
          0.01593692223487462,
          0.02285043900335718,
          0.034824096295683754,
          0.04162316124828111,
          0.04332421701375995,
          0.04107227701572629,
          0.03689294640873223,
          0.03407725082319865,
          0.03275652744964474,
          0.04715224387747681,
          0.05186034367077688,
          0.041670130403628554,
          0.03859738932362433
         ],
         "line": {
          "color": "silver",
          "width": 0.5
         },
         "marker": {
          "color": "silver",
          "line": {
           "color": "black",
           "width": 0
          },
          "opacity": 0.9,
          "size": 6
         },
         "mode": "lines+markers+text",
         "showlegend": false,
         "subplot": "ternary",
         "text": [
          "",
          "",
          "",
          "",
          "",
          "",
          "",
          "",
          "",
          "",
          "",
          "",
          "",
          "",
          "",
          ""
         ],
         "textfont": {
          "color": "black",
          "size": 2.8699710738186104
         },
         "type": "scatterternary"
        },
        {
         "a": [
          0.3256357591124703,
          0.30409310749668206,
          0.27063455928108315,
          0.2533343878814651,
          0.22775505359005757,
          0.2079492161930362,
          0.1819687769696105,
          0.1672642001747494,
          0.14856282204364854,
          0.13300065693752672,
          0.11695568395570129,
          0.10583455725458651,
          0.09500161704870008,
          0.08697532466528735,
          0.08780238612112037,
          0.09103382444773005
         ],
         "b": [
          0.5506121442852846,
          0.5786185288565808,
          0.6830778184189006,
          0.7041609475179317,
          0.7169543934165736,
          0.7222215811559721,
          0.7378264021482412,
          0.7532713387847388,
          0.7741255863336705,
          0.7898524741243255,
          0.8135549667727939,
          0.8283517894557187,
          0.8357296697074952,
          0.8394804716930085,
          0.8334097116290811,
          0.8238195290452985
         ],
         "c": [
          0.12375209660224532,
          0.11728836364673707,
          0.04628762230001622,
          0.04250466460060317,
          0.055290552993368804,
          0.06982920265099157,
          0.08020482088214827,
          0.07946446104051176,
          0.07731159162268096,
          0.07714686893814779,
          0.06948934927150476,
          0.06581365328969462,
          0.06926871324380461,
          0.07354420364170419,
          0.07878790224979852,
          0.08514664650697157
         ],
         "line": {
          "color": "silver",
          "width": 0.5
         },
         "marker": {
          "color": "silver",
          "line": {
           "color": "black",
           "width": 0
          },
          "opacity": 0.9,
          "size": 6
         },
         "mode": "lines+markers+text",
         "showlegend": false,
         "subplot": "ternary",
         "text": [
          "",
          "",
          "",
          "",
          "",
          "",
          "",
          "",
          "",
          "",
          "",
          "",
          "",
          "",
          "",
          ""
         ],
         "textfont": {
          "color": "black",
          "size": 3.5339347345565604
         },
         "type": "scatterternary"
        },
        {
         "a": [
          0.16796822894188843,
          0.16538271513259817,
          0.1489237451732069,
          0.16665018680351798,
          0.1996701363605901,
          0.22200086396133034,
          0.21583228025351198,
          0.21612431069656232,
          0.21187972153756912,
          0.19880028292522625,
          0.17273162836655723,
          0.1500875020285239,
          0.12770867911875805,
          0.11055953406239691,
          0.10437817984020542,
          0.09874598538673643
         ],
         "b": [
          0.7737336439483103,
          0.772469660317164,
          0.8205796086565972,
          0.8059949314801115,
          0.7719516752055219,
          0.7399437767949126,
          0.743485079313136,
          0.7415534859056903,
          0.765707767224681,
          0.7793871472108729,
          0.8057696120138735,
          0.8262726250328634,
          0.844803477109298,
          0.8585223452522306,
          0.8640226795912408,
          0.869323234056891
         ],
         "c": [
          0.05829812710980106,
          0.06214762455023792,
          0.03049664617019583,
          0.027354881716370537,
          0.028378188433888122,
          0.038055359243757074,
          0.040682640433352145,
          0.04232220339774745,
          0.022412511237749833,
          0.02181256986390102,
          0.021498759619569194,
          0.02363987293861274,
          0.027487843771943854,
          0.030918120685372627,
          0.03159914056855373,
          0.03193078055637263
         ],
         "line": {
          "color": "silver",
          "width": 0.5
         },
         "marker": {
          "color": "silver",
          "line": {
           "color": "black",
           "width": 0
          },
          "opacity": 0.9,
          "size": 6
         },
         "mode": "lines+markers+text",
         "showlegend": false,
         "subplot": "ternary",
         "text": [
          "",
          "",
          "",
          "",
          "",
          "",
          "",
          "",
          "",
          "",
          "",
          "",
          "",
          "",
          "",
          ""
         ],
         "textfont": {
          "color": "black",
          "size": 2.9534356437966056
         },
         "type": "scatterternary"
        },
        {
         "a": [
          0.08620626518053875,
          0.09016981575843147,
          0.09112291543329455,
          0.09606266461570466,
          0.10305067264055727,
          0.10129964473531065,
          0.08849093876669278,
          0.08131377440100318,
          0.07997445740432503,
          0.08398467680233915,
          0.08580426243675696,
          0.08636093341843153,
          0.0846039104966764,
          0.08471963873422172,
          0.09253527201831309,
          0.09997398172501068
         ],
         "b": [
          0.8895858800045722,
          0.882659356705716,
          0.8788975017207453,
          0.8546320276579036,
          0.808771938775101,
          0.7704615212838338,
          0.7410577841725025,
          0.7293254128099677,
          0.739873562488591,
          0.7591555420654242,
          0.774221010598586,
          0.776671916442678,
          0.7740358740207381,
          0.7755104040825981,
          0.7808870447905963,
          0.7898063215384957
         ],
         "c": [
          0.024207854814888987,
          0.027170827535852572,
          0.029979582845960317,
          0.04930530772639171,
          0.0881773885843416,
          0.12823883398085556,
          0.1704512770608047,
          0.1893608127890293,
          0.180151980107084,
          0.15685978113223664,
          0.13997472696465715,
          0.1369671501388906,
          0.14136021548258557,
          0.1397699571831802,
          0.12657768319109047,
          0.11021969673649377
         ],
         "line": {
          "color": "silver",
          "width": 0.5
         },
         "marker": {
          "color": "silver",
          "line": {
           "color": "black",
           "width": 0
          },
          "opacity": 0.9,
          "size": 6
         },
         "mode": "lines+markers+text",
         "showlegend": false,
         "subplot": "ternary",
         "text": [
          "",
          "",
          "",
          "",
          "",
          "",
          "",
          "",
          "",
          "",
          "",
          "",
          "",
          "",
          "",
          ""
         ],
         "textfont": {
          "color": "black",
          "size": 3.785483784363535
         },
         "type": "scatterternary"
        },
        {
         "a": [
          0.29767967436359405,
          0.2794255136057974,
          0.28466287419875314,
          0.322054517765677,
          0.36043712764738145,
          0.379376646520842,
          0.3763194425718643,
          0.38590184218542084,
          0.39722652718863893,
          0.3882654862438425,
          0.363785426017252,
          0.34273419739588185,
          0.32091551752474756,
          0.29951515828112873,
          0.29691560799830796,
          0.29334342469232355
         ],
         "b": [
          0.6196996690819088,
          0.6224950622243169,
          0.6456792206598835,
          0.6145323691623426,
          0.5728793570677396,
          0.542935751655744,
          0.5396724194191246,
          0.5337334871053009,
          0.5405120956172779,
          0.5466485735402141,
          0.5656849814495286,
          0.5855150463217893,
          0.6054303043350618,
          0.6268250195986349,
          0.6337914455718973,
          0.6397887146471841
         ],
         "c": [
          0.08262065655449717,
          0.09807942416988558,
          0.06965790514136345,
          0.0634131130719805,
          0.06668351528487874,
          0.07768760182341415,
          0.0840081380090112,
          0.08036467070927827,
          0.06226137719408321,
          0.0650859402159434,
          0.0705295925332194,
          0.07175075628232887,
          0.07365417814019053,
          0.07365982212023632,
          0.06929294642979474,
          0.06686786066049236
         ],
         "line": {
          "color": "silver",
          "width": 0.5
         },
         "marker": {
          "color": "silver",
          "line": {
           "color": "black",
           "width": 0
          },
          "opacity": 0.9,
          "size": 6
         },
         "mode": "lines+markers+text",
         "showlegend": false,
         "subplot": "ternary",
         "text": [
          "",
          "",
          "",
          "",
          "",
          "",
          "",
          "",
          "",
          "",
          "",
          "",
          "",
          "",
          "",
          ""
         ],
         "textfont": {
          "color": "black",
          "size": 4.09094942885496
         },
         "type": "scatterternary"
        },
        {
         "a": [
          0.502392283034766,
          0.5053929210948565,
          0.5397620333488639,
          0.5492670565344383,
          0.5490668799619376,
          0.5470172472918189,
          0.5298904573303012,
          0.5175265445910628,
          0.5007778658633788,
          0.4865686965654218,
          0.45595988212883704,
          0.42621387129442123,
          0.39622718550082214,
          0.3697191538941501,
          0.3724835332686754,
          0.3795697431742094
         ],
         "b": [
          0.3454377697700961,
          0.35294491703914554,
          0.4181043100608869,
          0.42313768850719874,
          0.4222638195194381,
          0.42103331689989176,
          0.4370447645472545,
          0.4482889345310721,
          0.46279503360479707,
          0.4725804457305418,
          0.49477672686821456,
          0.5118745876338265,
          0.5248598021612969,
          0.5299699635819924,
          0.5100492036239409,
          0.48403352838552854
         ],
         "c": [
          0.15216994719513785,
          0.14166216186599806,
          0.04213365659024924,
          0.027595254958362972,
          0.028669300518624243,
          0.03194943580828933,
          0.033064778122444384,
          0.03418452087786513,
          0.03642710053182421,
          0.04085085770403639,
          0.04926339100294852,
          0.06191154107175226,
          0.0789130123378809,
          0.10031088252385742,
          0.11746726310738359,
          0.13639672844026215
         ],
         "line": {
          "color": "silver",
          "width": 0.5
         },
         "marker": {
          "color": "silver",
          "line": {
           "color": "black",
           "width": 0
          },
          "opacity": 0.9,
          "size": 6
         },
         "mode": "lines+markers+text",
         "showlegend": false,
         "subplot": "ternary",
         "text": [
          "",
          "",
          "",
          "",
          "",
          "",
          "",
          "",
          "",
          "",
          "",
          "",
          "",
          "",
          "",
          ""
         ],
         "textfont": {
          "color": "black",
          "size": 2.3834806319711186
         },
         "type": "scatterternary"
        },
        {
         "a": [
          0,
          0,
          0,
          0,
          0,
          0,
          0,
          0,
          0,
          0,
          0,
          0,
          0,
          0,
          0,
          0
         ],
         "b": [
          0,
          0,
          0,
          0,
          0,
          0,
          0,
          0,
          0,
          0,
          0,
          0,
          0,
          0,
          0,
          0
         ],
         "c": [
          0,
          0,
          0,
          0,
          0,
          0,
          0,
          0,
          0,
          0,
          0,
          0,
          0,
          0,
          0,
          0
         ],
         "line": {
          "color": "silver",
          "width": 0.5
         },
         "marker": {
          "color": "silver",
          "line": {
           "color": "black",
           "width": 0
          },
          "opacity": 0.9,
          "size": 6
         },
         "mode": "lines+markers+text",
         "showlegend": false,
         "subplot": "ternary",
         "text": [
          "",
          "",
          "",
          "",
          "",
          "",
          "",
          "",
          "",
          "",
          "",
          "",
          "",
          "",
          "",
          ""
         ],
         "textfont": {
          "color": "black",
          "size": 3.200337785776057
         },
         "type": "scatterternary"
        },
        {
         "a": [
          0,
          0,
          0,
          0,
          0,
          0,
          0,
          0,
          0,
          0,
          0,
          0,
          0,
          0,
          0,
          0
         ],
         "b": [
          0,
          0,
          0,
          0,
          0,
          0,
          0,
          0,
          0,
          0,
          0,
          0,
          0,
          0,
          0,
          0
         ],
         "c": [
          0,
          0,
          0,
          0,
          0,
          0,
          0,
          0,
          0,
          0,
          0,
          0,
          0,
          0,
          0,
          0
         ],
         "line": {
          "color": "silver",
          "width": 0.5
         },
         "marker": {
          "color": "silver",
          "line": {
           "color": "black",
           "width": 0
          },
          "opacity": 0.9,
          "size": 6
         },
         "mode": "lines+markers+text",
         "showlegend": false,
         "subplot": "ternary",
         "text": [
          "",
          "",
          "",
          "",
          "",
          "",
          "",
          "",
          "",
          "",
          "",
          "",
          "",
          "",
          "",
          ""
         ],
         "textfont": {
          "color": "black",
          "size": 2.1225222573984475
         },
         "type": "scatterternary"
        },
        {
         "a": [
          0.5924476432044113,
          0.5988349685173395,
          0.6237957404529778,
          0.593966744761455,
          0.5581384828048428,
          0.5042772100120846,
          0.4401565866731311,
          0.3897172720310595,
          0.33491259596447825,
          0.2986446454258018,
          0.26803780274274264,
          0.2441454174280937,
          0.21632976044570615,
          0.19304545235239048,
          0.18827043466029175,
          0.1890582384911927
         ],
         "b": [
          0.2056934268346045,
          0.21030132604042864,
          0.3289204684790447,
          0.3778059714058353,
          0.401366926867088,
          0.44425112762183827,
          0.5036360781818036,
          0.5457276382892194,
          0.5960739461263935,
          0.6327423652776109,
          0.6663670954545634,
          0.6863897059679552,
          0.703765564334084,
          0.7150827755048872,
          0.7114930215432292,
          0.7032910905489793
         ],
         "c": [
          0.20185892996098415,
          0.1908637054422319,
          0.04728379106797743,
          0.028227283832709817,
          0.04049459032806915,
          0.051471662366077135,
          0.05620733514506533,
          0.06455508967972125,
          0.06901345790912825,
          0.06861298929658718,
          0.06559510180269383,
          0.06946487660395094,
          0.07990467522020983,
          0.0918717721427225,
          0.10023654379647903,
          0.10765067095982815
         ],
         "line": {
          "color": "silver",
          "width": 0.5
         },
         "marker": {
          "color": "silver",
          "line": {
           "color": "black",
           "width": 0
          },
          "opacity": 0.9,
          "size": 6
         },
         "mode": "lines+markers+text",
         "showlegend": false,
         "subplot": "ternary",
         "text": [
          "",
          "",
          "",
          "",
          "",
          "",
          "",
          "",
          "",
          "",
          "",
          "",
          "",
          "",
          "",
          ""
         ],
         "textfont": {
          "color": "black",
          "size": 2.8710271073268183
         },
         "type": "scatterternary"
        },
        {
         "a": [
          0.3632802941142905,
          0.3486718952024027,
          0.3284057258823774,
          0.3435350698930615,
          0.3940228004632439,
          0.42753951630257875,
          0.4251086112874288,
          0.42316541611462966,
          0.4125257504805122,
          0.4020356009958027,
          0.37422806131910613,
          0.34014316856987115,
          0.2893246174913179,
          0.23834355171169982,
          0.21434822167208287,
          0.19247987492438556
         ],
         "b": [
          0.514328444635063,
          0.5438472835039649,
          0.6456107142773481,
          0.6379463257702256,
          0.5789561566607011,
          0.5384180123476351,
          0.5377291375724558,
          0.5376266717448182,
          0.5461853522935556,
          0.5529040339044937,
          0.5741117292822755,
          0.5955893814584656,
          0.6196275437467014,
          0.6463346011671908,
          0.6663899065449318,
          0.6834316764248805
         ],
         "c": [
          0.12239126125064657,
          0.1074808212936324,
          0.025983559840274593,
          0.018518604336713113,
          0.027021042876054873,
          0.0340424713497863,
          0.03716225114011552,
          0.03920791214055215,
          0.041288897225932125,
          0.04506036509970373,
          0.051660209398618394,
          0.06426744997166314,
          0.09104783876198061,
          0.11532184712110954,
          0.11926187178298528,
          0.12408844865073398
         ],
         "line": {
          "color": "silver",
          "width": 0.5
         },
         "marker": {
          "color": "silver",
          "line": {
           "color": "black",
           "width": 0
          },
          "opacity": 0.9,
          "size": 6
         },
         "mode": "lines+markers+text",
         "showlegend": false,
         "subplot": "ternary",
         "text": [
          "",
          "",
          "",
          "",
          "",
          "",
          "",
          "",
          "",
          "",
          "",
          "",
          "",
          "",
          "",
          ""
         ],
         "textfont": {
          "color": "black",
          "size": 6.160284961844161
         },
         "type": "scatterternary"
        },
        {
         "a": [
          0.4461829561234632,
          0.42637990386464264,
          0.4267936296654208,
          0.4282075314536508,
          0.41505556814767625,
          0.40618604899881305,
          0.3775067600760261,
          0.3640694934822601,
          0.3468718516679844,
          0.33669917988061737,
          0.3097793351800885,
          0.2859981366894815,
          0.2666422662912533,
          0.24931460426076335,
          0.25575004789219963,
          0.2655067645693425
         ],
         "b": [
          0.3956915711650835,
          0.43038318688851285,
          0.5235669049934274,
          0.5352755907709212,
          0.5463619580492267,
          0.5451112525660681,
          0.5680783832942015,
          0.5819942957352124,
          0.6009804252848385,
          0.6117092321422104,
          0.635566040815315,
          0.6505803532842495,
          0.6554978433107903,
          0.6515235046116022,
          0.6275662996103422,
          0.5955778482454664
         ],
         "c": [
          0.15812547271145327,
          0.14323690924684437,
          0.04963946534115188,
          0.036516877775427906,
          0.03858247380309696,
          0.048702698435119034,
          0.05441485662977245,
          0.0539362107825275,
          0.0521477230471771,
          0.05159158797717209,
          0.05465462400459661,
          0.06342151002626899,
          0.07785989039795649,
          0.09916189112763442,
          0.1166836524974583,
          0.13891538718519109
         ],
         "line": {
          "color": "silver",
          "width": 0.5
         },
         "marker": {
          "color": "silver",
          "line": {
           "color": "black",
           "width": 0
          },
          "opacity": 0.9,
          "size": 6
         },
         "mode": "lines+markers+text",
         "showlegend": false,
         "subplot": "ternary",
         "text": [
          "",
          "",
          "",
          "",
          "",
          "",
          "",
          "",
          "",
          "",
          "",
          "",
          "",
          "",
          "",
          ""
         ],
         "textfont": {
          "color": "black",
          "size": 5.587316581759485
         },
         "type": "scatterternary"
        },
        {
         "a": [
          0.49247761773394083,
          0.4733971725044983,
          0.48599824110900247,
          0.4765227342872579,
          0.455411745261911,
          0.4334262872445706,
          0.419103908339617,
          0.4138312251918133,
          0.41672376880408474,
          0.43723645922156146,
          0.44867177451111806,
          0.461013112324889,
          0.3804862566583056,
          0.3437233894319438,
          0.3955587897416737,
          0.4180112292403846
         ],
         "b": [
          0.37028737799572453,
          0.40723637943830837,
          0.47798166571989004,
          0.4918729918179141,
          0.5108936396147317,
          0.5167626700825081,
          0.519510868108315,
          0.5196416761673763,
          0.5176731887159386,
          0.501393690901923,
          0.4879381988383199,
          0.4679411477926715,
          0.4830841288942142,
          0.4702625968257269,
          0.43516695964003776,
          0.41749224540889673
         ],
         "c": [
          0.13723500427033464,
          0.11936644805719324,
          0.03602009317110754,
          0.03160427389482794,
          0.033694615123357335,
          0.04981104267292122,
          0.061385223552068095,
          0.06652709864081038,
          0.06560304247997686,
          0.061369849876515614,
          0.06339002665056208,
          0.07104573988243958,
          0.13642961444748025,
          0.18601401374232931,
          0.16927425061828855,
          0.16449652535071868
         ],
         "line": {
          "color": "silver",
          "width": 0.5
         },
         "marker": {
          "color": "silver",
          "line": {
           "color": "black",
           "width": 0
          },
          "opacity": 0.9,
          "size": 6
         },
         "mode": "lines+markers+text",
         "showlegend": false,
         "subplot": "ternary",
         "text": [
          "",
          "",
          "",
          "",
          "",
          "",
          "",
          "",
          "",
          "",
          "",
          "",
          "",
          "",
          "",
          ""
         ],
         "textfont": {
          "color": "black",
          "size": 6.598721805077968
         },
         "type": "scatterternary"
        },
        {
         "a": [
          0.12207172855711496,
          0.1246374421591325,
          0.12110929772626487,
          0.12908347220621377,
          0.15236440360785858,
          0.1728841209847024,
          0.17809073453837038,
          0.18077321003799945,
          0.17744461196277317,
          0.17537019703802478,
          0.16781122867699816,
          0.15671461264755332,
          0.1432383054152874,
          0.13124289734816297,
          0.12640995806272595,
          0.12369689636540648
         ],
         "b": [
          0.8489928208762647,
          0.8471420070756744,
          0.8625591074854053,
          0.8556923775589746,
          0.8312230204395493,
          0.8084709974103226,
          0.798294485408276,
          0.787553684167423,
          0.7843479709132928,
          0.7884879548649578,
          0.8053159699887661,
          0.8147900216196186,
          0.8240636028036024,
          0.8310125600669986,
          0.8301578541807139,
          0.8287043378047558
         ],
         "c": [
          0.02893545056662031,
          0.02822055076519304,
          0.016331594788329757,
          0.015224150234811605,
          0.016412575952592153,
          0.01864488160497504,
          0.02361478005335374,
          0.031673105794577515,
          0.03820741712393404,
          0.03614184809701731,
          0.026872801334235773,
          0.02849536573282828,
          0.03269809178111026,
          0.037744542584838274,
          0.04343218775656021,
          0.04759876582983778
         ],
         "line": {
          "color": "silver",
          "width": 0.5
         },
         "marker": {
          "color": "silver",
          "line": {
           "color": "black",
           "width": 0
          },
          "opacity": 0.9,
          "size": 6
         },
         "mode": "lines+markers+text",
         "showlegend": false,
         "subplot": "ternary",
         "text": [
          "",
          "",
          "",
          "",
          "",
          "",
          "",
          "",
          "",
          "",
          "",
          "",
          "",
          "",
          "",
          ""
         ],
         "textfont": {
          "color": "black",
          "size": 1.9214176177663136
         },
         "type": "scatterternary"
        },
        {
         "a": [
          0.4388947928816443,
          0.42551945993306994,
          0.40044702714080876,
          0.4090731312794299,
          0.46568188743980055,
          0.5052846284118961,
          0.5015405459268569,
          0.4986996866250993,
          0.48751428530510754,
          0.47848573381763515,
          0.44868765125018456,
          0.41411822576153273,
          0.37102304038142775,
          0.3284649966011846,
          0.2972423395128828,
          0.2797084881790236
         ],
         "b": [
          0.4053387342178447,
          0.4343197748895078,
          0.5670867728814021,
          0.574215382996038,
          0.5153367367783565,
          0.4721665252040846,
          0.47622777758747686,
          0.47791755765808924,
          0.4877406716942579,
          0.4942682364314751,
          0.5191732481440267,
          0.5473050177351125,
          0.5814634818527926,
          0.6090274254685898,
          0.6189945689378361,
          0.633178706943044
         ],
         "c": [
          0.15576647290051104,
          0.1401607651774223,
          0.0324661999777894,
          0.01671148572453216,
          0.018981375781843043,
          0.02254884638401924,
          0.022231676485666263,
          0.02338275571681133,
          0.02474504300063457,
          0.027246029750889765,
          0.03213910060578877,
          0.03857675650335467,
          0.047513477765779626,
          0.06250757793022553,
          0.08376309154928113,
          0.08711280487793246
         ],
         "line": {
          "color": "silver",
          "width": 0.5
         },
         "marker": {
          "color": "silver",
          "line": {
           "color": "black",
           "width": 0
          },
          "opacity": 0.9,
          "size": 6
         },
         "mode": "lines+markers+text",
         "showlegend": false,
         "subplot": "ternary",
         "text": [
          "",
          "",
          "",
          "",
          "",
          "",
          "",
          "",
          "",
          "",
          "",
          "",
          "",
          "",
          "",
          ""
         ],
         "textfont": {
          "color": "black",
          "size": 5.616869749673547
         },
         "type": "scatterternary"
        },
        {
         "a": [
          0.10737228841590914,
          0.11107864340009793,
          0.10932925635571644,
          0.11676001058147222,
          0.13455872201239663,
          0.15091556400372308,
          0.1543257849980549,
          0.1585153367884763,
          0.15835821469699266,
          0.15794498485639052,
          0.15193272892120335,
          0.1449260985383842,
          0.13508121797830225,
          0.12538171112022187,
          0.12102183168259516,
          0.11670298896478781
         ],
         "b": [
          0.8746101768797918,
          0.8704508438857002,
          0.8848940585849947,
          0.8783078661402245,
          0.8564058394797603,
          0.8352601562082607,
          0.8267204769068744,
          0.8195808037819015,
          0.8191231469275528,
          0.8191380833162789,
          0.8264316257654696,
          0.834518254067808,
          0.844719446046253,
          0.8543316997290985,
          0.8593396666851911,
          0.8642508484186774
         ],
         "c": [
          0.018017534704299152,
          0.01847051271420189,
          0.005776685059288777,
          0.004932123278303224,
          0.009035438507842945,
          0.013824279788016149,
          0.018953738095070567,
          0.021903859429622148,
          0.022518638375454484,
          0.022916931827330598,
          0.02163564531332701,
          0.02055564739380778,
          0.020199335975444627,
          0.020286589150679633,
          0.01963850163221363,
          0.01904616261653488
         ],
         "line": {
          "color": "silver",
          "width": 0.5
         },
         "marker": {
          "color": "silver",
          "line": {
           "color": "black",
           "width": 0
          },
          "opacity": 0.9,
          "size": 6
         },
         "mode": "lines+markers+text",
         "showlegend": false,
         "subplot": "ternary",
         "text": [
          "",
          "",
          "",
          "",
          "",
          "",
          "",
          "",
          "",
          "",
          "",
          "",
          "",
          "",
          "",
          ""
         ],
         "textfont": {
          "color": "black",
          "size": 1.9898473897111044
         },
         "type": "scatterternary"
        },
        {
         "a": [
          0,
          0,
          0,
          0,
          0,
          0,
          0,
          0,
          0,
          0,
          0,
          0,
          0,
          0,
          0,
          0
         ],
         "b": [
          0,
          0,
          0,
          0,
          0,
          0,
          0,
          0,
          0,
          0,
          0,
          0,
          0,
          0,
          0,
          0
         ],
         "c": [
          0,
          0,
          0,
          0,
          0,
          0,
          0,
          0,
          0,
          0,
          0,
          0,
          0,
          0,
          0,
          0
         ],
         "line": {
          "color": "silver",
          "width": 0.5
         },
         "marker": {
          "color": "silver",
          "line": {
           "color": "black",
           "width": 0
          },
          "opacity": 0.9,
          "size": 6
         },
         "mode": "lines+markers+text",
         "showlegend": false,
         "subplot": "ternary",
         "text": [
          "",
          "",
          "",
          "",
          "",
          "",
          "",
          "",
          "",
          "",
          "",
          "",
          "",
          "",
          "",
          ""
         ],
         "textfont": {
          "color": "black",
          "size": 2.3834806319711186
         },
         "type": "scatterternary"
        },
        {
         "a": [
          0,
          0,
          0,
          0,
          0,
          0,
          0,
          0,
          0,
          0,
          0,
          0,
          0,
          0,
          0,
          0
         ],
         "b": [
          0,
          0,
          0,
          0,
          0,
          0,
          0,
          0,
          0,
          0,
          0,
          0,
          0,
          0,
          0,
          0
         ],
         "c": [
          0,
          0,
          0,
          0,
          0,
          0,
          0,
          0,
          0,
          0,
          0,
          0,
          0,
          0,
          0,
          0
         ],
         "line": {
          "color": "silver",
          "width": 0.5
         },
         "marker": {
          "color": "silver",
          "line": {
           "color": "black",
           "width": 0
          },
          "opacity": 0.9,
          "size": 6
         },
         "mode": "lines+markers+text",
         "showlegend": false,
         "subplot": "ternary",
         "text": [
          "",
          "",
          "",
          "",
          "",
          "",
          "",
          "",
          "",
          "",
          "",
          "",
          "",
          "",
          "",
          ""
         ],
         "textfont": {
          "color": "black",
          "size": 3.4723135297081678
         },
         "type": "scatterternary"
        },
        {
         "a": [
          0.12275518460035575,
          0.13532672874159626,
          0.13385047740827713,
          0.1455489352156934,
          0.1738066716413097,
          0.18633422144584427,
          0.1705782341338922,
          0.167272852422773,
          0.14531966714426892,
          0.12897216702726963,
          0.09757108955697835,
          0.10216586812676715,
          0.10408154701209937,
          0.11764837233443878,
          0.13661970577803312,
          0.15232498387701768
         ],
         "b": [
          0.8528643085840647,
          0.8342657543575824,
          0.8405476388895828,
          0.8182965181284549,
          0.7577972077474894,
          0.6991357576103896,
          0.6579963048322194,
          0.6422112644864945,
          0.619687218560411,
          0.6068050173981867,
          0.5865685975491887,
          0.605972680679687,
          0.6197332165374951,
          0.6410693240519134,
          0.6569170662267441,
          0.660825544272082
         ],
         "c": [
          0.024380506815579336,
          0.03040751690082127,
          0.02560188370213998,
          0.036154546655851626,
          0.06839612061120076,
          0.11453002094376621,
          0.17142546103388828,
          0.19051588309073247,
          0.2349931142953201,
          0.26422281557454363,
          0.3158603128938332,
          0.29186145119354595,
          0.27618523645040555,
          0.24128230361364786,
          0.2064632279952229,
          0.18684947185090026
         ],
         "line": {
          "color": "silver",
          "width": 0.5
         },
         "marker": {
          "color": "silver",
          "line": {
           "color": "black",
           "width": 0
          },
          "opacity": 0.9,
          "size": 6
         },
         "mode": "lines+markers+text",
         "showlegend": false,
         "subplot": "ternary",
         "text": [
          "",
          "",
          "",
          "",
          "",
          "",
          "",
          "",
          "",
          "",
          "",
          "",
          "",
          "",
          "",
          ""
         ],
         "textfont": {
          "color": "black",
          "size": 2.567763284392983
         },
         "type": "scatterternary"
        },
        {
         "a": [
          0.10970606976324121,
          0.11738286009065427,
          0.1201740653505849,
          0.13369241573008042,
          0.16427674395640476,
          0.19131175962326732,
          0.20136742995927126,
          0.20838360532641645,
          0.20815786320003926,
          0.20604763842105836,
          0.19539265459008656,
          0.18338869792902035,
          0.16739659589121259,
          0.15349524151848706,
          0.1489339300583749,
          0.14447199903127056
         ],
         "b": [
          0.8762936228897168,
          0.8677627664037312,
          0.8758161216135981,
          0.8629644793343844,
          0.8297224775335142,
          0.7984111562021297,
          0.7834756399953172,
          0.770796346545779,
          0.7680225446790869,
          0.7699860355046901,
          0.7812434543648379,
          0.7916137697377646,
          0.8032545876954915,
          0.8132968412003565,
          0.8165009082887119,
          0.8201040059912172
         ],
         "c": [
          0.01400030734704188,
          0.014854373505614487,
          0.004009813035816814,
          0.003343104935535372,
          0.006000778510080987,
          0.010277084174602859,
          0.015156930045411387,
          0.020820048127804466,
          0.02381959212087368,
          0.023966326074251417,
          0.023363891045075427,
          0.024997532333215115,
          0.029348816413295765,
          0.033207917281156414,
          0.03456516165291317,
          0.03542399497751214
         ],
         "line": {
          "color": "silver",
          "width": 0.5
         },
         "marker": {
          "color": "lightgreen",
          "line": {
           "color": "black",
           "width": 0
          },
          "opacity": 0.9,
          "size": 6
         },
         "mode": "lines+markers+text",
         "showlegend": false,
         "subplot": "ternary",
         "text": [
          "MEX",
          "",
          "",
          "",
          "",
          "",
          "",
          "",
          "",
          "",
          "",
          "",
          "",
          "",
          "",
          ""
         ],
         "textfont": {
          "color": "black",
          "size": 10.580174573653252
         },
         "type": "scatterternary"
        },
        {
         "a": [
          0.38670551848079143,
          0.36928817435612327,
          0.34247100937236663,
          0.34177656792572286,
          0.36731343232082225,
          0.3812249105869925,
          0.3646091956717036,
          0.3592687416355468,
          0.34367154923280974,
          0.3271624167451811,
          0.3087665695474256,
          0.27937566810843756,
          0.24442065142137412,
          0.2163703792355322,
          0.20661184133510824,
          0.199250589109624
         ],
         "b": [
          0.4729717099516192,
          0.4996313371349908,
          0.6126847000821912,
          0.615469699137442,
          0.5673352833920251,
          0.5367358241335978,
          0.5416408775883077,
          0.5495667314868117,
          0.5696798404838951,
          0.5900181985507776,
          0.6230009156662466,
          0.6546070447461511,
          0.6833067058026054,
          0.7035490873809637,
          0.7106702271637243,
          0.7164885086789049
         ],
         "c": [
          0.14032277156758943,
          0.13108048850888596,
          0.04484429054544212,
          0.042753732936835286,
          0.06535128428715246,
          0.08203926527940986,
          0.09374992673998897,
          0.09116452687764172,
          0.08664861028329536,
          0.08281938470404114,
          0.06823251478632786,
          0.06601728714541127,
          0.07227264277602047,
          0.0800805333835043,
          0.0827179315011676,
          0.08426090221147106
         ],
         "line": {
          "color": "silver",
          "width": 0.5
         },
         "marker": {
          "color": "silver",
          "line": {
           "color": "black",
           "width": 0
          },
          "opacity": 0.9,
          "size": 6
         },
         "mode": "lines+markers+text",
         "showlegend": false,
         "subplot": "ternary",
         "text": [
          "",
          "",
          "",
          "",
          "",
          "",
          "",
          "",
          "",
          "",
          "",
          "",
          "",
          "",
          "",
          ""
         ],
         "textfont": {
          "color": "black",
          "size": 2.3834806319711186
         },
         "type": "scatterternary"
        },
        {
         "a": [
          0.27203963649841195,
          0.23004165613239638,
          0.191355736613449,
          0.17230458466335882,
          0.15135530148825624,
          0.13717026101983237,
          0.11890703297530918,
          0.10820980904895455,
          0.09569365741833505,
          0.08572866955629585,
          0.07551874765411563,
          0.06665813410837879,
          0.0579781569606464,
          0.05205586622463078,
          0.05172701876251597,
          0.052317300235590655
         ],
         "b": [
          0.6168111004824416,
          0.6675517584133179,
          0.753690335928089,
          0.7666297842682182,
          0.769938697789692,
          0.7722029615311111,
          0.7791396962805793,
          0.7926081092977604,
          0.8101075008130023,
          0.8228635138022213,
          0.843036020711937,
          0.8586644726868848,
          0.8675323199420913,
          0.8720702410590013,
          0.8703108861916193,
          0.8667659889732878
         ],
         "c": [
          0.11114926301914649,
          0.10240658545428569,
          0.05495392745846188,
          0.061065631068423214,
          0.07870600072205158,
          0.09062677744905667,
          0.10195327074411144,
          0.0991820816532851,
          0.0941988417686626,
          0.09140781664148272,
          0.08144523163394725,
          0.07467739320473638,
          0.07448952309726217,
          0.0758738927163677,
          0.07796209504586457,
          0.08091671079112144
         ],
         "line": {
          "color": "silver",
          "width": 0.5
         },
         "marker": {
          "color": "silver",
          "line": {
           "color": "black",
           "width": 0
          },
          "opacity": 0.9,
          "size": 6
         },
         "mode": "lines+markers+text",
         "showlegend": false,
         "subplot": "ternary",
         "text": [
          "",
          "",
          "",
          "",
          "",
          "",
          "",
          "",
          "",
          "",
          "",
          "",
          "",
          "",
          "",
          ""
         ],
         "textfont": {
          "color": "black",
          "size": 3.2022678468246357
         },
         "type": "scatterternary"
        },
        {
         "a": [
          0.47286772415887474,
          0.42902767031038774,
          0.48095802668025533,
          0.500201512407983,
          0.46367826769614406,
          0.43955802674678746,
          0.41230467127674786,
          0.40515316978723237,
          0.3918249961633486,
          0.37978845830907726,
          0.3848719016802014,
          0.3710858451266449,
          0.3517302446072223,
          0.3424667137363201,
          0.3612321727559056,
          0.38645984934654565
         ],
         "b": [
          0.3692531814093834,
          0.4338232944312733,
          0.4612424697066258,
          0.440523889086635,
          0.4571469860429555,
          0.4683872494026981,
          0.484422418381711,
          0.4950792739756055,
          0.5132218320197277,
          0.5292487287858965,
          0.5399359066381956,
          0.5540755933929348,
          0.5617228288716415,
          0.5540402065676089,
          0.5231770774869774,
          0.4853269949802076
         ],
         "c": [
          0.15787909443174183,
          0.13714903525833885,
          0.057799503613118704,
          0.059274598505382074,
          0.07917474626090046,
          0.09205472385051446,
          0.1032729103415411,
          0.09976755623716214,
          0.09495317181692375,
          0.09096281290502603,
          0.07519219168160304,
          0.07483856148042037,
          0.08654692652113596,
          0.10349307969607112,
          0.11559074975711697,
          0.1282131556732467
         ],
         "line": {
          "color": "silver",
          "width": 0.5
         },
         "marker": {
          "color": "silver",
          "line": {
           "color": "black",
           "width": 0
          },
          "opacity": 0.9,
          "size": 6
         },
         "mode": "lines+markers+text",
         "showlegend": false,
         "subplot": "ternary",
         "text": [
          "",
          "",
          "",
          "",
          "",
          "",
          "",
          "",
          "",
          "",
          "",
          "",
          "",
          "",
          "",
          ""
         ],
         "textfont": {
          "color": "black",
          "size": 2.3834806319711186
         },
         "type": "scatterternary"
        },
        {
         "a": [
          0.1854745054206012,
          0.19361928504951004,
          0.20304380894726973,
          0.22965672953748079,
          0.2818673695715883,
          0.3263758721607207,
          0.33352660482522023,
          0.32448119751851673,
          0.2987664424549254,
          0.27225474646688375,
          0.24520522894486907,
          0.23047776425019179,
          0.23183702197609296,
          0.22149347495900631,
          0.15405192476241958,
          0.16201780427166318
         ],
         "b": [
          0.76967540871941,
          0.7630491895696598,
          0.7828077754491053,
          0.759195549910231,
          0.7040605576976017,
          0.6535701239093912,
          0.6314152731810865,
          0.6081882635935233,
          0.596148533631752,
          0.5879615667124694,
          0.5970933841631343,
          0.6169866694370385,
          0.6666463409907157,
          0.710467981777571,
          0.6139424232480349,
          0.6128259323277123
         ],
         "c": [
          0.04485008585998888,
          0.04333152538083024,
          0.01414841560362501,
          0.011147720552288319,
          0.014072072730810119,
          0.02005400392988815,
          0.03505812199369332,
          0.06733053888795991,
          0.1050850239133226,
          0.13978368682064704,
          0.15770138689199667,
          0.15253556631276982,
          0.1015166370331912,
          0.06803854326342283,
          0.23200565198954543,
          0.2251562634006247
         ],
         "line": {
          "color": "silver",
          "width": 0.5
         },
         "marker": {
          "color": "silver",
          "line": {
           "color": "black",
           "width": 0
          },
          "opacity": 0.9,
          "size": 6
         },
         "mode": "lines+markers+text",
         "showlegend": false,
         "subplot": "ternary",
         "text": [
          "",
          "",
          "",
          "",
          "",
          "",
          "",
          "",
          "",
          "",
          "",
          "",
          "",
          "",
          "",
          ""
         ],
         "textfont": {
          "color": "black",
          "size": 3.1870341067223595
         },
         "type": "scatterternary"
        },
        {
         "a": [
          0,
          0,
          0,
          0,
          0,
          0,
          0,
          0,
          0,
          0,
          0,
          0,
          0,
          0,
          0,
          0
         ],
         "b": [
          0,
          0,
          0,
          0,
          0,
          0,
          0,
          0,
          0,
          0,
          0,
          0,
          0,
          0,
          0,
          0
         ],
         "c": [
          0,
          0,
          0,
          0,
          0,
          0,
          0,
          0,
          0,
          0,
          0,
          0,
          0,
          0,
          0,
          0
         ],
         "line": {
          "color": "silver",
          "width": 0.5
         },
         "marker": {
          "color": "silver",
          "line": {
           "color": "black",
           "width": 0
          },
          "opacity": 0.9,
          "size": 6
         },
         "mode": "lines+markers+text",
         "showlegend": false,
         "subplot": "ternary",
         "text": [
          "",
          "",
          "",
          "",
          "",
          "",
          "",
          "",
          "",
          "",
          "",
          "",
          "",
          "",
          "",
          ""
         ],
         "textfont": {
          "color": "black",
          "size": 2.165929046509523
         },
         "type": "scatterternary"
        },
        {
         "a": [
          0.49829809132463726,
          0.5122967393821659,
          0.5896868640118101,
          0.6386675376681971,
          0.6762245391772632,
          0.6987812395778492,
          0.7038487518836032,
          0.7071546026592155,
          0.7055059050339363,
          0.7069091696734184,
          0.7033455000164193,
          0.6960257442321571,
          0.6786412307603585,
          0.6533518096699529,
          0.644123615683482,
          0.6343542519198826
         ],
         "b": [
          0.3930981163016173,
          0.381176108706903,
          0.37539829566339566,
          0.33620548674849343,
          0.29812738471691486,
          0.27348567758519265,
          0.26857778438928837,
          0.2634403650362959,
          0.2622956533598056,
          0.2577219617376171,
          0.2554342979154672,
          0.25292506366695394,
          0.25650608776312755,
          0.26425418087952607,
          0.26607658472923046,
          0.26853218614502194
         ],
         "c": [
          0.10860379237374537,
          0.10652715191093116,
          0.03491484032479416,
          0.02512697558330952,
          0.025648076105821767,
          0.027733082836958113,
          0.027573463727108543,
          0.029405032304488554,
          0.03219844160625817,
          0.03536886858896448,
          0.041220202068113575,
          0.05104919210088904,
          0.06485268147651391,
          0.0823940094505212,
          0.08979979958728754,
          0.0971135619350954
         ],
         "line": {
          "color": "silver",
          "width": 0.5
         },
         "marker": {
          "color": "silver",
          "line": {
           "color": "black",
           "width": 0
          },
          "opacity": 0.9,
          "size": 6
         },
         "mode": "lines+markers+text",
         "showlegend": false,
         "subplot": "ternary",
         "text": [
          "",
          "",
          "",
          "",
          "",
          "",
          "",
          "",
          "",
          "",
          "",
          "",
          "",
          "",
          "",
          ""
         ],
         "textfont": {
          "color": "black",
          "size": 6.709637600843718
         },
         "type": "scatterternary"
        },
        {
         "a": [
          0.0986488712431904,
          0.10436268424047317,
          0.10751413630337515,
          0.11454781660389142,
          0.12643816424596654,
          0.12959501203629087,
          0.1169447714352916,
          0.10795659367525126,
          0.10523834046064587,
          0.10867752110993974,
          0.10864275780400717,
          0.10539867314913615,
          0.09964494558044126,
          0.09649713367455276,
          0.1015067199683632,
          0.10661205609660476
         ],
         "b": [
          0.8598482924769184,
          0.8516217318076528,
          0.8483159917158942,
          0.8289472271132436,
          0.7905159521732785,
          0.759361663043437,
          0.7357839974676756,
          0.7274645176417526,
          0.7390893875260094,
          0.7566202748077919,
          0.7674367301957944,
          0.762072484422691,
          0.7557741128243758,
          0.7577170741712694,
          0.7608985078076222,
          0.767142948018289
         ],
         "c": [
          0.04150283627989129,
          0.04401558395187406,
          0.0441698719807305,
          0.05650495628286501,
          0.08304588358075472,
          0.11104332492027218,
          0.14727123109703266,
          0.16457888868299628,
          0.15567227201334466,
          0.13470220408226832,
          0.12392051200019838,
          0.13252884242817278,
          0.14458094159518292,
          0.14578579215417795,
          0.13759477222401448,
          0.12624499588510626
         ],
         "line": {
          "color": "silver",
          "width": 0.5
         },
         "marker": {
          "color": "silver",
          "line": {
           "color": "black",
           "width": 0
          },
          "opacity": 0.9,
          "size": 6
         },
         "mode": "lines+markers+text",
         "showlegend": false,
         "subplot": "ternary",
         "text": [
          "",
          "",
          "",
          "",
          "",
          "",
          "",
          "",
          "",
          "",
          "",
          "",
          "",
          "",
          "",
          ""
         ],
         "textfont": {
          "color": "black",
          "size": 6.2935882483999395
         },
         "type": "scatterternary"
        },
        {
         "a": [
          0.45946136139663,
          0.44979489450146065,
          0.42966515160382546,
          0.39479470398296235,
          0.32851183838772124,
          0.2660043060577111,
          0.2042129160434401,
          0.18154874199179377,
          0.15017461963025655,
          0.13358367508056407,
          0.10430340840369137,
          0.11172100932402143,
          0.11896848057736367,
          0.13933488532992966,
          0.16612906221195403,
          0.1931371345260371
         ],
         "b": [
          0.3939819084675228,
          0.4129706063902032,
          0.5132147460015557,
          0.5296160855403148,
          0.5623768948073438,
          0.5859648606864292,
          0.610446263831645,
          0.6256602751732195,
          0.6328795989485229,
          0.6340899472498484,
          0.6264811100809622,
          0.647061885956388,
          0.6595497158729885,
          0.6714722324965372,
          0.6671541936700373,
          0.641254319296782
         ],
         "c": [
          0.1465567301358471,
          0.1372344991083362,
          0.05712010239461894,
          0.07558921047672298,
          0.10911126680493509,
          0.14803083325585975,
          0.18534082012491496,
          0.19279098283498664,
          0.21694578142122053,
          0.2323263776695875,
          0.2692154815153464,
          0.24121710471959049,
          0.2214818035496478,
          0.1891928821735331,
          0.1667167441180086,
          0.1656085461771809
         ],
         "line": {
          "color": "silver",
          "width": 0.5
         },
         "marker": {
          "color": "silver",
          "line": {
           "color": "black",
           "width": 0
          },
          "opacity": 0.9,
          "size": 6
         },
         "mode": "lines+markers+text",
         "showlegend": false,
         "subplot": "ternary",
         "text": [
          "",
          "",
          "",
          "",
          "",
          "",
          "",
          "",
          "",
          "",
          "",
          "",
          "",
          "",
          "",
          ""
         ],
         "textfont": {
          "color": "black",
          "size": 7.624093962273879
         },
         "type": "scatterternary"
        },
        {
         "a": [
          0.7041612795853484,
          0.7530665879555787,
          0.8998887269253982,
          0.9256731407359491,
          0.9215866593295656,
          0.9276210348564562,
          0.930344945187616,
          0.9242553142584262,
          0.8972088898606655,
          0.874322137461738,
          0.8562808085632406,
          0.8431363301903159,
          0.8049367204484736,
          0.7496771432124676,
          0.7191772979679392,
          0.692020734850257
         ],
         "b": [
          0.07568323129907817,
          0.030054635113097396,
          0.04120897168741535,
          0.041393038293311625,
          0.04165481450970274,
          0.03254427220433046,
          0.028767538131950113,
          0.030542113776988077,
          0.04010883472005062,
          0.04791930183525824,
          0.053374111979711286,
          0.055134562173650155,
          0.06394014674329491,
          0.07500271735771057,
          0.08246104900167626,
          0.08828683566188256
         ],
         "c": [
          0.22015548911557342,
          0.21687877693132399,
          0.05890230138718617,
          0.03293382097073928,
          0.03675852616073153,
          0.03983469293921336,
          0.0408875166804338,
          0.04520257196458578,
          0.06268227541928385,
          0.07775856070300373,
          0.09034507945704817,
          0.10172910763603386,
          0.13112313280823162,
          0.17532013942982178,
          0.1983616530303845,
          0.2196924294878606
         ],
         "line": {
          "color": "silver",
          "width": 0.5
         },
         "marker": {
          "color": "silver",
          "line": {
           "color": "black",
           "width": 0
          },
          "opacity": 0.9,
          "size": 6
         },
         "mode": "lines+markers+text",
         "showlegend": false,
         "subplot": "ternary",
         "text": [
          "",
          "",
          "",
          "",
          "",
          "",
          "",
          "",
          "",
          "",
          "",
          "",
          "",
          "",
          "",
          ""
         ],
         "textfont": {
          "color": "black",
          "size": 3.04023617696046
         },
         "type": "scatterternary"
        },
        {
         "a": [
          0,
          0,
          0,
          0,
          0,
          0,
          0,
          0,
          0,
          0,
          0,
          0,
          0,
          0,
          0,
          0
         ],
         "b": [
          0,
          0,
          0,
          0,
          0,
          0,
          0,
          0,
          0,
          0,
          0,
          0,
          0,
          0,
          0,
          0
         ],
         "c": [
          0,
          0,
          0,
          0,
          0,
          0,
          0,
          0,
          0,
          0,
          0,
          0,
          0,
          0,
          0,
          0
         ],
         "line": {
          "color": "silver",
          "width": 0.5
         },
         "marker": {
          "color": "silver",
          "line": {
           "color": "black",
           "width": 0
          },
          "opacity": 0.9,
          "size": 6
         },
         "mode": "lines+markers+text",
         "showlegend": false,
         "subplot": "ternary",
         "text": [
          "",
          "",
          "",
          "",
          "",
          "",
          "",
          "",
          "",
          "",
          "",
          "",
          "",
          "",
          "",
          ""
         ],
         "textfont": {
          "color": "black",
          "size": 2.3834806319711186
         },
         "type": "scatterternary"
        },
        {
         "a": [
          0.5218855995979993,
          0.5299792051547859,
          0.5665157725787913,
          0.6113027629942591,
          0.6512814856216393,
          0.676178857558133,
          0.67876555069789,
          0.6812202948602448,
          0.6756637174535545,
          0.6694296103274775,
          0.6432457898381644,
          0.6228764687981905,
          0.5924682216592292,
          0.5603764933969615,
          0.544970031918697,
          0.5317581606123153
         ],
         "b": [
          0.3326113699071108,
          0.3374629190212257,
          0.39993072873474955,
          0.3678759134504796,
          0.3253645497976548,
          0.296099937291209,
          0.29404328083374437,
          0.2916381941590731,
          0.2964577147206745,
          0.3001746892463094,
          0.3185386505242316,
          0.32809220800082095,
          0.3417973120292022,
          0.3521790444698173,
          0.3567108760710328,
          0.36011760218882716
         ],
         "c": [
          0.14550303049488988,
          0.1325578758239883,
          0.03355349868645933,
          0.0208213235552613,
          0.02335396458070593,
          0.027721205150657978,
          0.027191168468365497,
          0.027141510980682244,
          0.027878567825771135,
          0.030395700426213233,
          0.03821555963760396,
          0.04903132320098856,
          0.06573446631156853,
          0.08744446213322113,
          0.09831909201027014,
          0.10812423719885753
         ],
         "line": {
          "color": "silver",
          "width": 0.5
         },
         "marker": {
          "color": "silver",
          "line": {
           "color": "black",
           "width": 0
          },
          "opacity": 0.9,
          "size": 6
         },
         "mode": "lines+markers+text",
         "showlegend": false,
         "subplot": "ternary",
         "text": [
          "",
          "",
          "",
          "",
          "",
          "",
          "",
          "",
          "",
          "",
          "",
          "",
          "",
          "",
          "",
          ""
         ],
         "textfont": {
          "color": "black",
          "size": 6.785123771939278
         },
         "type": "scatterternary"
        },
        {
         "a": [
          0.08932415323231199,
          0.09241963173480555,
          0.09148847000979966,
          0.09856930664168162,
          0.11729389411450905,
          0.13346092492324016,
          0.13597008827587584,
          0.13495134569137524,
          0.13030555237860858,
          0.1307038801292243,
          0.13211639702692138,
          0.1264980015206691,
          0.11601369346668128,
          0.10615673639051801,
          0.10213687939805108,
          0.10066055117710863
         ],
         "b": [
          0.8836373980347785,
          0.8805300351587846,
          0.8884052126724646,
          0.8816676183165536,
          0.8610436606688007,
          0.8394572327695198,
          0.8205289319656819,
          0.7978283248044901,
          0.785200144389259,
          0.7919953029492763,
          0.8253971353693619,
          0.8402194953988995,
          0.8460505208805883,
          0.8472085751349934,
          0.8409057958003797,
          0.8356942143260432
         ],
         "c": [
          0.02703844873290952,
          0.027050333106409804,
          0.02010631731773582,
          0.01976307504176481,
          0.021662445216690352,
          0.0270818423072399,
          0.043500979758442276,
          0.06722032950413472,
          0.08449430323213233,
          0.07730081692149955,
          0.042486467603716785,
          0.033282503080431486,
          0.03793578565273052,
          0.0466346884744888,
          0.05695732480156936,
          0.06364523449684824
         ],
         "line": {
          "color": "silver",
          "width": 0.5
         },
         "marker": {
          "color": "silver",
          "line": {
           "color": "black",
           "width": 0
          },
          "opacity": 0.9,
          "size": 6
         },
         "mode": "lines+markers+text",
         "showlegend": false,
         "subplot": "ternary",
         "text": [
          "",
          "",
          "",
          "",
          "",
          "",
          "",
          "",
          "",
          "",
          "",
          "",
          "",
          "",
          "",
          ""
         ],
         "textfont": {
          "color": "black",
          "size": 5.3234421728683925
         },
         "type": "scatterternary"
        },
        {
         "a": [
          0.31983742211954436,
          0.22800459693440164,
          0.17644410370481667,
          0.1512335537672603,
          0.12447911047783683,
          0.11224644661251071,
          0.10158028358676639,
          0.09614746263719356,
          0.08890557117425855,
          0.08457514407015179,
          0.07903672528576446,
          0.07431720257605662,
          0.06898673968995073,
          0.0657895744054433,
          0.06857694731059356,
          0.07258239642278125
         ],
         "b": [
          0.53766001560664,
          0.6856074176102994,
          0.7978377602794465,
          0.8256689729414659,
          0.8457419421254627,
          0.853362289054899,
          0.8598608734510607,
          0.8662396920367232,
          0.8752667443476726,
          0.8801319369553566,
          0.8892395342984214,
          0.8922549370455987,
          0.8920346324629459,
          0.8874807195021924,
          0.8766550517866644,
          0.8659982412832354
         ],
         "c": [
          0.14250256227381544,
          0.08638798545529872,
          0.025718136015736713,
          0.023097473291273613,
          0.029778947396700405,
          0.034391264332590356,
          0.03855884296217297,
          0.0376128453260832,
          0.03582768447806878,
          0.03529291897449144,
          0.031723740415814224,
          0.03342786037834463,
          0.03897862784710347,
          0.046729706092364154,
          0.05476800090274209,
          0.06141936229398335
         ],
         "line": {
          "color": "silver",
          "width": 0.5
         },
         "marker": {
          "color": "silver",
          "line": {
           "color": "black",
           "width": 0
          },
          "opacity": 0.9,
          "size": 6
         },
         "mode": "lines+markers+text",
         "showlegend": false,
         "subplot": "ternary",
         "text": [
          "",
          "",
          "",
          "",
          "",
          "",
          "",
          "",
          "",
          "",
          "",
          "",
          "",
          "",
          "",
          ""
         ],
         "textfont": {
          "color": "black",
          "size": 3.6022043617963706
         },
         "type": "scatterternary"
        },
        {
         "a": [
          0.5127361082414859,
          0.5151793397440159,
          0.5514622285118773,
          0.5550852133026963,
          0.5457934314439528,
          0.5345114716896369,
          0.5132143188898419,
          0.49411851104153137,
          0.47067649580307397,
          0.44775898282965326,
          0.4101604373860144,
          0.3721671020247399,
          0.3288820422733614,
          0.2890850921605618,
          0.275847482828285,
          0.2660418353474707
         ],
         "b": [
          0.33441256846702555,
          0.34364651714899147,
          0.4166814924706648,
          0.42895873130507817,
          0.43550239366885024,
          0.44359253532600784,
          0.464486196588787,
          0.4825587006336406,
          0.5035815870220411,
          0.521772462436054,
          0.5516273399563317,
          0.5784768976263021,
          0.6076627660265043,
          0.6309821758794192,
          0.6307974435524305,
          0.6261235170243792
         ],
         "c": [
          0.15285132329148862,
          0.14117414310699272,
          0.03185627901745807,
          0.01595605539222536,
          0.018704174887196962,
          0.02189599298435531,
          0.02229948452137128,
          0.0233227883248279,
          0.025741917174884922,
          0.030468554734292667,
          0.03821222265765379,
          0.04935600034895809,
          0.06345519170013435,
          0.07993273196001903,
          0.0933550736192845,
          0.10783464762814997
         ],
         "line": {
          "color": "silver",
          "width": 0.5
         },
         "marker": {
          "color": "silver",
          "line": {
           "color": "black",
           "width": 0
          },
          "opacity": 0.9,
          "size": 6
         },
         "mode": "lines+markers+text",
         "showlegend": false,
         "subplot": "ternary",
         "text": [
          "",
          "",
          "",
          "",
          "",
          "",
          "",
          "",
          "",
          "",
          "",
          "",
          "",
          "",
          "",
          ""
         ],
         "textfont": {
          "color": "black",
          "size": 3.9008130286078053
         },
         "type": "scatterternary"
        },
        {
         "a": [
          0.5383970023255211,
          0.5204788438333862,
          0.5343030311509172,
          0.5986332355197034,
          0.6329615493974452,
          0.6454129378716126,
          0.6454396388688093,
          0.644518374339806,
          0.6380981119588705,
          0.6333658870551822,
          0.598298156070068,
          0.5854209403544337,
          0.5676840547379521,
          0.5541314599115189,
          0.5542774233456049,
          0.5600044919144949
         ],
         "b": [
          0.3051370259771476,
          0.3434710665364265,
          0.43633138842553854,
          0.3840782957433964,
          0.3449185163908617,
          0.32568779625506095,
          0.3255789614087535,
          0.3265817601717659,
          0.3331122060266572,
          0.33667628407819183,
          0.3652269173346411,
          0.36942357385113045,
          0.3716605249194003,
          0.3623511085467084,
          0.35022667407517316,
          0.33226718412838446
         ],
         "c": [
          0.15646597169733126,
          0.13605008963018747,
          0.02936558042354437,
          0.017288468736900132,
          0.022119934211693254,
          0.02889926587332653,
          0.02898139972243733,
          0.028899865488428107,
          0.028789682014472247,
          0.029957828866626016,
          0.036474926595290946,
          0.045155485794435735,
          0.06065542034264749,
          0.0835174315417727,
          0.09549590257922186,
          0.10772832395712059
         ],
         "line": {
          "color": "silver",
          "width": 0.5
         },
         "marker": {
          "color": "silver",
          "line": {
           "color": "black",
           "width": 0
          },
          "opacity": 0.9,
          "size": 6
         },
         "mode": "lines+markers+text",
         "showlegend": false,
         "subplot": "ternary",
         "text": [
          "",
          "",
          "",
          "",
          "",
          "",
          "",
          "",
          "",
          "",
          "",
          "",
          "",
          "",
          "",
          ""
         ],
         "textfont": {
          "color": "black",
          "size": 5.747698522580728
         },
         "type": "scatterternary"
        },
        {
         "a": [
          0.2007351187686703,
          0.20165256749971097,
          0.1754437142529808,
          0.18168425319856077,
          0.2108620948575097,
          0.23769608453710106,
          0.23789823813850258,
          0.23910634057605495,
          0.23036764458579345,
          0.22017045297082183,
          0.1977553118561911,
          0.17736586006239605,
          0.1569973981295666,
          0.1425681505569382,
          0.14183201205566798,
          0.14428545288620792
         ],
         "b": [
          0.7269412945745655,
          0.7292249909346508,
          0.8093143446406091,
          0.8099189247992518,
          0.7784361825568088,
          0.7489675773406526,
          0.7488407769065681,
          0.747642268297267,
          0.7568930552589977,
          0.7678145610089371,
          0.789543895252429,
          0.8070411720032282,
          0.8230115547039227,
          0.8318285958842854,
          0.8283610148849823,
          0.8211100309402087
         ],
         "c": [
          0.072323586656764,
          0.06912244156563828,
          0.015241941106409989,
          0.008396822002187408,
          0.01070172258568145,
          0.013336338122246317,
          0.013260984954929222,
          0.013251391126678155,
          0.012739300155208768,
          0.012014986020241166,
          0.012700792891379901,
          0.015592967934375878,
          0.01999104716651079,
          0.025603253558776323,
          0.02980697305934976,
          0.0346045161735834
         ],
         "line": {
          "color": "silver",
          "width": 0.5
         },
         "marker": {
          "color": "silver",
          "line": {
           "color": "black",
           "width": 0
          },
          "opacity": 0.9,
          "size": 6
         },
         "mode": "lines+markers+text",
         "showlegend": false,
         "subplot": "ternary",
         "text": [
          "",
          "",
          "",
          "",
          "",
          "",
          "",
          "",
          "",
          "",
          "",
          "",
          "",
          "",
          "",
          ""
         ],
         "textfont": {
          "color": "black",
          "size": 12.553354613207796
         },
         "type": "scatterternary"
        },
        {
         "a": [
          0.24734143958544297,
          0.2525561526822737,
          0.24649067390585144,
          0.25995697247545646,
          0.2943242781311938,
          0.3136467321354026,
          0.3070962324748137,
          0.29439347723845133,
          0.2698444142421441,
          0.247782389345593,
          0.2195054493202443,
          0.1969359307138877,
          0.1863593464247132,
          0.17940106460074506,
          0.17288517560643368,
          0.16486698492502866
         ],
         "b": [
          0.6925248209175453,
          0.6898617979429822,
          0.7331371390534793,
          0.7225367567734603,
          0.6801968936438777,
          0.6506171196300158,
          0.6519587532201336,
          0.6568164453646309,
          0.6694440670963907,
          0.6825622857649122,
          0.7023964457133341,
          0.7172564220117486,
          0.7293387996298407,
          0.7172129463201904,
          0.6905502784907815,
          0.6563088676053659
         ],
         "c": [
          0.060133739497011646,
          0.05758204937474415,
          0.020372187040669242,
          0.017506270751083165,
          0.025478828224928595,
          0.03573614823458164,
          0.040945014305052686,
          0.04879007739691767,
          0.060711518661465284,
          0.06965532488949486,
          0.07809810496642162,
          0.08580764727436392,
          0.08430185394544598,
          0.10338598907906463,
          0.13656454590278477,
          0.17882414746960543
         ],
         "line": {
          "color": "silver",
          "width": 0.5
         },
         "marker": {
          "color": "silver",
          "line": {
           "color": "black",
           "width": 0
          },
          "opacity": 0.9,
          "size": 6
         },
         "mode": "lines+markers+text",
         "showlegend": false,
         "subplot": "ternary",
         "text": [
          "",
          "",
          "",
          "",
          "",
          "",
          "",
          "",
          "",
          "",
          "",
          "",
          "",
          "",
          "",
          ""
         ],
         "textfont": {
          "color": "black",
          "size": 2.3834806319711186
         },
         "type": "scatterternary"
        },
        {
         "a": [
          0.20748818177383915,
          0.21160609648491152,
          0.2044355180118587,
          0.21653394069289536,
          0.24451246378268626,
          0.23735568729823714,
          0.17450610940714312,
          0.1271477082669875,
          0.10300587424238736,
          0.10791648464799697,
          0.1522791045472143,
          0.18329556855407322,
          0.15845221392781292,
          0.13002541582588525,
          0.11780097163116152,
          0.11649736775689576
         ],
         "b": [
          0.7338524462731371,
          0.7319290651410205,
          0.7680668533847946,
          0.7548883127752608,
          0.7132828388801308,
          0.6751080888780305,
          0.636124764183207,
          0.6071973394638431,
          0.6021188433602728,
          0.6172180324422217,
          0.6979232100030671,
          0.7503797106815776,
          0.7562416346871883,
          0.7254826892755655,
          0.6925728980788226,
          0.6616730229916677
         ],
         "c": [
          0.05865937195302373,
          0.05646483837406786,
          0.027497628603346806,
          0.028577746531843896,
          0.04220469733718294,
          0.08753622382373234,
          0.18936912640964995,
          0.26565495226916935,
          0.29487528239734,
          0.27486548290978147,
          0.14979768544971855,
          0.06632472076434925,
          0.08530615138499877,
          0.1444918948985492,
          0.1896261302900159,
          0.22182960925143652
         ],
         "line": {
          "color": "silver",
          "width": 0.5
         },
         "marker": {
          "color": "silver",
          "line": {
           "color": "black",
           "width": 0
          },
          "opacity": 0.9,
          "size": 6
         },
         "mode": "lines+markers+text",
         "showlegend": false,
         "subplot": "ternary",
         "text": [
          "",
          "",
          "",
          "",
          "",
          "",
          "",
          "",
          "",
          "",
          "",
          "",
          "",
          "",
          "",
          ""
         ],
         "textfont": {
          "color": "black",
          "size": 2.3834806319711186
         },
         "type": "scatterternary"
        },
        {
         "a": [
          0.024815544230539527,
          0.03094308338885656,
          0.033591602022858,
          0.042173450867275586,
          0.04874884386688501,
          0.05806709537263198,
          0.057040088868382084,
          0.06178267884871193,
          0.07021870840423049,
          0.0828297070429431,
          0.09256992289070679,
          0.0999861249107246,
          0.10295685974924668,
          0.10786987521486677,
          0.1269211793280316,
          0.1557503216789077
         ],
         "b": [
          0.9615420339887943,
          0.8794690690175676,
          0.8270633240926923,
          0.7768260648669897,
          0.7556547891569292,
          0.7459483325547286,
          0.7313797722441601,
          0.7306181837139812,
          0.7473747023137648,
          0.7687484868465619,
          0.7808536440414929,
          0.7701339693739525,
          0.7488641239385616,
          0.7304658576189546,
          0.7057318134350784,
          0.6738859300660398
         ],
         "c": [
          0.013642421780666198,
          0.08958784759357594,
          0.1393450738844498,
          0.18100048426573473,
          0.19559636697618576,
          0.1959845720726393,
          0.2115801388874579,
          0.20759913743730665,
          0.18240658928200468,
          0.14842180611049502,
          0.12657643306780028,
          0.12987990571532293,
          0.1481790163121918,
          0.16166426716617863,
          0.16734700723688992,
          0.17036374825505238
         ],
         "line": {
          "color": "silver",
          "width": 0.5
         },
         "marker": {
          "color": "silver",
          "line": {
           "color": "black",
           "width": 0
          },
          "opacity": 0.9,
          "size": 6
         },
         "mode": "lines+markers+text",
         "showlegend": false,
         "subplot": "ternary",
         "text": [
          "",
          "",
          "",
          "",
          "",
          "",
          "",
          "",
          "",
          "",
          "",
          "",
          "",
          "",
          "",
          ""
         ],
         "textfont": {
          "color": "black",
          "size": 3.721228428673771
         },
         "type": "scatterternary"
        },
        {
         "a": [
          0.05156671624102306,
          0.05321108801842449,
          0.054308357788117365,
          0.05728905620769245,
          0.0638788731492102,
          0.07006729887919871,
          0.07295799302977281,
          0.07538634663624937,
          0.07606223607721435,
          0.07602735759309492,
          0.07361217621355237,
          0.07083965003010054,
          0.06706951005438255,
          0.06358474769856087,
          0.06200569269623441,
          0.06051419816671978
         ],
         "b": [
          0.92109468560861,
          0.9191263045624747,
          0.9191186907481109,
          0.91625767098229,
          0.909215224861633,
          0.9025643449532216,
          0.899264343612619,
          0.8963984301180788,
          0.8954031217821234,
          0.8952288742352897,
          0.897422911546788,
          0.8998239879189786,
          0.903078142436923,
          0.9061282274879422,
          0.9076519227302202,
          0.909214913275548
         ],
         "c": [
          0.02733859815036694,
          0.027662607419100947,
          0.026572951463771848,
          0.02645327281001739,
          0.026905901989156846,
          0.027368356167579582,
          0.027777663357608322,
          0.02821522324567184,
          0.028534642140662324,
          0.028743768171615457,
          0.02896491223965954,
          0.029336362050920856,
          0.029852347508694473,
          0.030287024813496856,
          0.030342384573545406,
          0.03027088855773223
         ],
         "line": {
          "color": "silver",
          "width": 0.5
         },
         "marker": {
          "color": "silver",
          "line": {
           "color": "black",
           "width": 0
          },
          "opacity": 0.9,
          "size": 6
         },
         "mode": "lines+markers+text",
         "showlegend": false,
         "subplot": "ternary",
         "text": [
          "",
          "",
          "",
          "",
          "",
          "",
          "",
          "",
          "",
          "",
          "",
          "",
          "",
          "",
          "",
          ""
         ],
         "textfont": {
          "color": "black",
          "size": 3.2526508465691006
         },
         "type": "scatterternary"
        },
        {
         "a": [
          0.4045544868815682,
          0.38210527514599596,
          0.35043244513009325,
          0.3573327205302083,
          0.36462838394983577,
          0.36822628703560134,
          0.3540488431884905,
          0.35726555459301035,
          0.3615900965474087,
          0.3786220083234253,
          0.38038064806755073,
          0.38274068362882274,
          0.37950107344143563,
          0.37250384002240916,
          0.381117945574895,
          0.3882025700018152
         ],
         "b": [
          0.4609184708980171,
          0.5015885862301624,
          0.6185772531290361,
          0.6122833052570673,
          0.589610049079575,
          0.5757975723071366,
          0.5874952243798227,
          0.5881287543121947,
          0.5932090110790817,
          0.5842953559907051,
          0.584728859203387,
          0.5767028216082911,
          0.5673877606163181,
          0.556063616257912,
          0.5317071747702732,
          0.5049897253905282
         ],
         "c": [
          0.1345270422204148,
          0.11630613862384162,
          0.0309903017408706,
          0.030383974212724332,
          0.045761566970589154,
          0.05597614065726224,
          0.058455932431686834,
          0.054605691094794746,
          0.04520089237350956,
          0.03708263568586953,
          0.034890492729062264,
          0.04055649476288614,
          0.05311116594224628,
          0.07143254371967886,
          0.08717487965483191,
          0.10680770460765669
         ],
         "line": {
          "color": "silver",
          "width": 0.5
         },
         "marker": {
          "color": "silver",
          "line": {
           "color": "black",
           "width": 0
          },
          "opacity": 0.9,
          "size": 6
         },
         "mode": "lines+markers+text",
         "showlegend": false,
         "subplot": "ternary",
         "text": [
          "",
          "",
          "",
          "",
          "",
          "",
          "",
          "",
          "",
          "",
          "",
          "",
          "",
          "",
          "",
          ""
         ],
         "textfont": {
          "color": "black",
          "size": 12.685496216511385
         },
         "type": "scatterternary"
        },
        {
         "a": [
          0.5068276343735509,
          0.5161005326926219,
          0.5150551695836557,
          0.49725954976797015,
          0.48078025655397966,
          0.45725840195442724,
          0.4063094600622278,
          0.35787323594378173,
          0.3145707169320371,
          0.28644268187971916,
          0.2565790925765631,
          0.2434162884949586,
          0.2338513216205951,
          0.23643060160805368,
          0.2669163216886552,
          0.31067990452964556
         ],
         "b": [
          0.32197247287978636,
          0.32145929140952506,
          0.45182276402158195,
          0.4921551594708972,
          0.5075792612031738,
          0.5262574287152156,
          0.5744381427266309,
          0.6168009223311488,
          0.6573526240756913,
          0.6852751080999298,
          0.7134583746053309,
          0.7243798431687279,
          0.7231773950982624,
          0.7032309781057255,
          0.6570317947728308,
          0.592570973337822
         ],
         "c": [
          0.17119989274666267,
          0.16244017589785298,
          0.03312206639476237,
          0.01058529076113265,
          0.011640482242846714,
          0.016484169330356964,
          0.019252397211141213,
          0.025325841725069412,
          0.028076658992271682,
          0.028282210020351195,
          0.02996253281810583,
          0.03220386833631345,
          0.04297128328114252,
          0.06033842028622066,
          0.07605188353851403,
          0.09674912213253255
         ],
         "line": {
          "color": "silver",
          "width": 0.5
         },
         "marker": {
          "color": "silver",
          "line": {
           "color": "black",
           "width": 0
          },
          "opacity": 0.9,
          "size": 6
         },
         "mode": "lines+markers+text",
         "showlegend": false,
         "subplot": "ternary",
         "text": [
          "",
          "",
          "",
          "",
          "",
          "",
          "",
          "",
          "",
          "",
          "",
          "",
          "",
          "",
          "",
          ""
         ],
         "textfont": {
          "color": "black",
          "size": 2.3834806319711186
         },
         "type": "scatterternary"
        },
        {
         "a": [
          0.055040098986314796,
          0.05620951942291892,
          0.056411773831423054,
          0.05914096188390426,
          0.06604880740480709,
          0.07237749912451488,
          0.07450441883080475,
          0.07587476980516941,
          0.07553492919254423,
          0.0755103301495787,
          0.07411045209524553,
          0.07124588073476723,
          0.06756110842450562,
          0.06397973667811732,
          0.0627299154829481,
          0.062153102772912944
         ],
         "b": [
          0.881390636964368,
          0.8802209662626592,
          0.8815882826042483,
          0.878850159124068,
          0.870815472664138,
          0.8626638911156639,
          0.8551048441292218,
          0.8455369728167069,
          0.8395559651092713,
          0.8425383362932478,
          0.8559406512985172,
          0.8616212875196205,
          0.8640212095904118,
          0.8649711014448367,
          0.8630809747885679,
          0.8617554440868748
         ],
         "c": [
          0.06356926404931723,
          0.06356951431442193,
          0.06199994356432864,
          0.06200887899202769,
          0.06313571993105516,
          0.06495860975982119,
          0.07039073703997333,
          0.07858825737812375,
          0.08490910569818443,
          0.08195133355717336,
          0.06994889660623732,
          0.06713283174561238,
          0.06841768198508245,
          0.07104916187704582,
          0.07418910972848412,
          0.07609145314021228
         ],
         "line": {
          "color": "silver",
          "width": 0.5
         },
         "marker": {
          "color": "silver",
          "line": {
           "color": "black",
           "width": 0
          },
          "opacity": 0.9,
          "size": 6
         },
         "mode": "lines+markers+text",
         "showlegend": false,
         "subplot": "ternary",
         "text": [
          "",
          "",
          "",
          "",
          "",
          "",
          "",
          "",
          "",
          "",
          "",
          "",
          "",
          "",
          "",
          ""
         ],
         "textfont": {
          "color": "black",
          "size": 3.6032766620147996
         },
         "type": "scatterternary"
        },
        {
         "a": [
          0.08555792814666864,
          0.08927235494741992,
          0.08850388654068352,
          0.09469532729333072,
          0.11095838639065997,
          0.1254270925666952,
          0.13095323172872325,
          0.13598206141753771,
          0.1352269663669421,
          0.13261819566704253,
          0.1253067761406802,
          0.12129688693586771,
          0.12128525866152341,
          0.12071825941783322,
          0.12131936921034008,
          0.12168994080698801
         ],
         "b": [
          0.8914398518101342,
          0.8869252312925682,
          0.8916313611422632,
          0.8830892201345885,
          0.8589165688044319,
          0.8337653514040224,
          0.8188441024911918,
          0.803948468157828,
          0.7925282988165546,
          0.7829088601702245,
          0.7808273124975408,
          0.7877827072989269,
          0.8082342228547368,
          0.822504114745558,
          0.8180836667627742,
          0.8077404425612887
         ],
         "c": [
          0.023002220043197207,
          0.023802413760011916,
          0.019864752317053487,
          0.02221545257208084,
          0.030125044804908054,
          0.04080755602928228,
          0.05020266578008512,
          0.06006947042463433,
          0.07224473481650315,
          0.08447294416273288,
          0.09386591136177898,
          0.0909204057652054,
          0.07048051848373989,
          0.05677762583660859,
          0.06059696402688576,
          0.07056961663172322
         ],
         "line": {
          "color": "silver",
          "width": 0.5
         },
         "marker": {
          "color": "silver",
          "line": {
           "color": "black",
           "width": 0
          },
          "opacity": 0.9,
          "size": 6
         },
         "mode": "lines+markers+text",
         "showlegend": false,
         "subplot": "ternary",
         "text": [
          "",
          "",
          "",
          "",
          "",
          "",
          "",
          "",
          "",
          "",
          "",
          "",
          "",
          "",
          "",
          ""
         ],
         "textfont": {
          "color": "black",
          "size": 3.414070283941836
         },
         "type": "scatterternary"
        },
        {
         "a": [
          0.3616446696331898,
          0.37180997579038166,
          0.3634638531072449,
          0.38140746669130626,
          0.4136523103840537,
          0.4354691532391151,
          0.43004831992505865,
          0.422757529652187,
          0.4067216028684114,
          0.39047756785118093,
          0.35945280943012337,
          0.3301588428991753,
          0.29830971338215484,
          0.273627795521005,
          0.2762993728147106,
          0.28659682381129437
         ],
         "b": [
          0.5087620418739469,
          0.5036968915992217,
          0.5946251817720215,
          0.5878400877010654,
          0.5535075104334612,
          0.5283326334388667,
          0.531787916381899,
          0.5370460957203016,
          0.5497900605762525,
          0.5617671033249187,
          0.5869587601143775,
          0.6081277069540215,
          0.6285716989625107,
          0.6391759143565122,
          0.6252520688194608,
          0.6027717985177287
         ],
         "c": [
          0.1295932884928634,
          0.12449313261039671,
          0.04191096512073377,
          0.03075244560762846,
          0.03284017918248503,
          0.0361982133220181,
          0.038163763693042335,
          0.04019637462751143,
          0.04348833655533631,
          0.04775532882390019,
          0.05358843045549895,
          0.06171345014680324,
          0.0731185876553345,
          0.08719629012248271,
          0.09844855836582851,
          0.11063137767097705
         ],
         "line": {
          "color": "silver",
          "width": 0.5
         },
         "marker": {
          "color": "silver",
          "line": {
           "color": "black",
           "width": 0
          },
          "opacity": 0.9,
          "size": 6
         },
         "mode": "lines+markers+text",
         "showlegend": false,
         "subplot": "ternary",
         "text": [
          "",
          "",
          "",
          "",
          "",
          "",
          "",
          "",
          "",
          "",
          "",
          "",
          "",
          "",
          "",
          ""
         ],
         "textfont": {
          "color": "black",
          "size": 4.216206818285444
         },
         "type": "scatterternary"
        },
        {
         "a": [
          0,
          0,
          0,
          0,
          0,
          0,
          0,
          0,
          0,
          0,
          0,
          0,
          0,
          0,
          0,
          0
         ],
         "b": [
          0,
          0,
          0,
          0,
          0,
          0,
          0,
          0,
          0,
          0,
          0,
          0,
          0,
          0,
          0,
          0
         ],
         "c": [
          0,
          0,
          0,
          0,
          0,
          0,
          0,
          0,
          0,
          0,
          0,
          0,
          0,
          0,
          0,
          0
         ],
         "line": {
          "color": "silver",
          "width": 0.5
         },
         "marker": {
          "color": "silver",
          "line": {
           "color": "black",
           "width": 0
          },
          "opacity": 0.9,
          "size": 6
         },
         "mode": "lines+markers+text",
         "showlegend": false,
         "subplot": "ternary",
         "text": [
          "",
          "",
          "",
          "",
          "",
          "",
          "",
          "",
          "",
          "",
          "",
          "",
          "",
          "",
          "",
          ""
         ],
         "textfont": {
          "color": "black",
          "size": 4.097732466779027
         },
         "type": "scatterternary"
        },
        {
         "a": [
          0.3249115942026266,
          0.2858176478357621,
          0.2546236591277353,
          0.24541528080795807,
          0.23981052332150726,
          0.2364162755982203,
          0.2118094362947439,
          0.19464530489740706,
          0.17511671326729483,
          0.1610208492809107,
          0.1451356770958137,
          0.1285448023716353,
          0.1105050846147993,
          0.09647677847637298,
          0.09268512862278398,
          0.09161678612671367
         ],
         "b": [
          0.5492045201602773,
          0.6046825525552343,
          0.7038834013207456,
          0.7142007888707859,
          0.7096939256026359,
          0.7056594462001103,
          0.7253568557728893,
          0.7471736293595466,
          0.7686743039950009,
          0.7802915916071441,
          0.797919589043359,
          0.8121725387202715,
          0.8236018067277278,
          0.8300077628759949,
          0.8271252913735327,
          0.8220176981391497
         ],
         "c": [
          0.12588388563709602,
          0.1094997996090036,
          0.04149293955151915,
          0.04038393032125608,
          0.0504955510758569,
          0.05792427820166926,
          0.06283370793236684,
          0.05818106574304627,
          0.056208982737704236,
          0.058687559111945155,
          0.05694473386082741,
          0.05928265890809315,
          0.06589310865747294,
          0.07351545864763213,
          0.08018958000368323,
          0.08636551573413666
         ],
         "line": {
          "color": "silver",
          "width": 0.5
         },
         "marker": {
          "color": "silver",
          "line": {
           "color": "black",
           "width": 0
          },
          "opacity": 0.9,
          "size": 6
         },
         "mode": "lines+markers+text",
         "showlegend": false,
         "subplot": "ternary",
         "text": [
          "",
          "",
          "",
          "",
          "",
          "",
          "",
          "",
          "",
          "",
          "",
          "",
          "",
          "",
          "",
          ""
         ],
         "textfont": {
          "color": "black",
          "size": 6.494909867182611
         },
         "type": "scatterternary"
        },
        {
         "a": [
          0.29629103160232345,
          0.25575915816543804,
          0.22134926703224705,
          0.20421039225975185,
          0.18149783681134116,
          0.1668748487686425,
          0.1462181171763227,
          0.13457466805099244,
          0.12075410710126297,
          0.1100513252467859,
          0.09900691468435324,
          0.08932649086390251,
          0.07946655177995546,
          0.07309432412304084,
          0.0748214227371475,
          0.07882121642078657
         ],
         "b": [
          0.5809319639903688,
          0.6306987402436379,
          0.7167411266170406,
          0.7280591909182559,
          0.7337096871955059,
          0.7366821033735804,
          0.746438168084256,
          0.7617764472922279,
          0.7808164352227052,
          0.7938379028274262,
          0.8140901118821712,
          0.8295661774008863,
          0.8380856452118524,
          0.8409927768088828,
          0.8345709043442955,
          0.824033062987588
         ],
         "c": [
          0.12277700440730764,
          0.11354210159092398,
          0.06190960635071249,
          0.06773041682199223,
          0.08479247599315302,
          0.0964430478577769,
          0.10734371473942139,
          0.10364888465677971,
          0.09842945767603206,
          0.09611077192578786,
          0.08690297343347558,
          0.0811073317352113,
          0.08244780300819216,
          0.08591289906807635,
          0.09060767291855694,
          0.09714572059162553
         ],
         "line": {
          "color": "silver",
          "width": 0.5
         },
         "marker": {
          "color": "silver",
          "line": {
           "color": "black",
           "width": 0
          },
          "opacity": 0.9,
          "size": 6
         },
         "mode": "lines+markers+text",
         "showlegend": false,
         "subplot": "ternary",
         "text": [
          "",
          "",
          "",
          "",
          "",
          "",
          "",
          "",
          "",
          "",
          "",
          "",
          "",
          "",
          "",
          ""
         ],
         "textfont": {
          "color": "black",
          "size": 10.058653592267842
         },
         "type": "scatterternary"
        },
        {
         "a": [
          0.07018550575570981,
          0.07481275399460285,
          0.07657291912753661,
          0.08333608091257327,
          0.09925816376793112,
          0.11406609267638561,
          0.12063973151402449,
          0.12631025802563794,
          0.1272694215399221,
          0.1258558510325845,
          0.11695180793598586,
          0.11223894496228924,
          0.10501438311817725,
          0.1000009944200324,
          0.0990669504674404,
          0.09727032938069369
         ],
         "b": [
          0.9085071412742529,
          0.9028012254576817,
          0.9045230392907817,
          0.8978394269480432,
          0.8799655894437292,
          0.8623260971808968,
          0.8512053881802795,
          0.8428929185783721,
          0.8341330799487628,
          0.8267850736414691,
          0.8122787711456888,
          0.8179425590988751,
          0.8249684781824386,
          0.8380992611626059,
          0.8458409800547984,
          0.8510076670118331
         ],
         "c": [
          0.021307352970037413,
          0.022386020547715314,
          0.018904041581681612,
          0.018824492139383538,
          0.020776246788339753,
          0.02360781014271744,
          0.028154880305695972,
          0.030796823395990013,
          0.03859749851131501,
          0.04735907532594644,
          0.07076942091832544,
          0.06981849593883557,
          0.07001713869938411,
          0.06189974441736161,
          0.05509206947776131,
          0.051722003607473234
         ],
         "line": {
          "color": "silver",
          "width": 0.5
         },
         "marker": {
          "color": "silver",
          "line": {
           "color": "black",
           "width": 0
          },
          "opacity": 0.9,
          "size": 6
         },
         "mode": "lines+markers+text",
         "showlegend": false,
         "subplot": "ternary",
         "text": [
          "",
          "",
          "",
          "",
          "",
          "",
          "",
          "",
          "",
          "",
          "",
          "",
          "",
          "",
          "",
          ""
         ],
         "textfont": {
          "color": "black",
          "size": 6.953204570148618
         },
         "type": "scatterternary"
        },
        {
         "a": [
          0,
          0,
          0,
          0,
          0,
          0,
          0,
          0,
          0,
          0,
          0,
          0,
          0,
          0,
          0,
          0
         ],
         "b": [
          0,
          0,
          0,
          0,
          0,
          0,
          0,
          0,
          0,
          0,
          0,
          0,
          0,
          0,
          0,
          0
         ],
         "c": [
          0,
          0,
          0,
          0,
          0,
          0,
          0,
          0,
          0,
          0,
          0,
          0,
          0,
          0,
          0,
          0
         ],
         "line": {
          "color": "silver",
          "width": 0.5
         },
         "marker": {
          "color": "silver",
          "line": {
           "color": "black",
           "width": 0
          },
          "opacity": 0.9,
          "size": 6
         },
         "mode": "lines+markers+text",
         "showlegend": false,
         "subplot": "ternary",
         "text": [
          "",
          "",
          "",
          "",
          "",
          "",
          "",
          "",
          "",
          "",
          "",
          "",
          "",
          "",
          "",
          ""
         ],
         "textfont": {
          "color": "black",
          "size": 4.598346523005564
         },
         "type": "scatterternary"
        },
        {
         "a": [
          0.3558572354436686,
          0.32798111920671946,
          0.2847286827419586,
          0.26713303278486333,
          0.270146557610491,
          0.27265883388489354,
          0.2560829756661954,
          0.24965454674611331,
          0.23852392086231766,
          0.2281095782013374,
          0.2105694255587582,
          0.19052363146104462,
          0.16883253545363563,
          0.15148004874355825,
          0.14576175837300304,
          0.14272807172828983
         ],
         "b": [
          0.5067110452179462,
          0.5463044120456572,
          0.6690492670573522,
          0.6894146046452174,
          0.6674758899786221,
          0.6505929048291983,
          0.657573318242311,
          0.6688611128875115,
          0.6872377979842228,
          0.7015216284970283,
          0.7238769216839669,
          0.7431145768938132,
          0.7582513302630536,
          0.768295010881598,
          0.7691551072469633,
          0.7683301834299228
         ],
         "c": [
          0.13743171933838524,
          0.12571446874762351,
          0.046222050200689146,
          0.0434523625699194,
          0.0623775524108869,
          0.07674826128590816,
          0.08634370609149351,
          0.08148434036637528,
          0.07423828115345951,
          0.07036879330163417,
          0.06555365275727473,
          0.06636179164514217,
          0.07291613428331085,
          0.08022494037484378,
          0.08508313438003356,
          0.08894174484178752
         ],
         "line": {
          "color": "silver",
          "width": 0.5
         },
         "marker": {
          "color": "silver",
          "line": {
           "color": "black",
           "width": 0
          },
          "opacity": 0.9,
          "size": 6
         },
         "mode": "lines+markers+text",
         "showlegend": false,
         "subplot": "ternary",
         "text": [
          "",
          "",
          "",
          "",
          "",
          "",
          "",
          "",
          "",
          "",
          "",
          "",
          "",
          "",
          "",
          ""
         ],
         "textfont": {
          "color": "black",
          "size": 3.015601782626236
         },
         "type": "scatterternary"
        },
        {
         "a": [
          0,
          0,
          0,
          0,
          0,
          0,
          0,
          0,
          0,
          0,
          0,
          0,
          0,
          0,
          0,
          0
         ],
         "b": [
          0,
          0,
          0,
          0,
          0,
          0,
          0,
          0,
          0,
          0,
          0,
          0,
          0,
          0,
          0,
          0
         ],
         "c": [
          0,
          0,
          0,
          0,
          0,
          0,
          0,
          0,
          0,
          0,
          0,
          0,
          0,
          0,
          0,
          0
         ],
         "line": {
          "color": "silver",
          "width": 0.5
         },
         "marker": {
          "color": "silver",
          "line": {
           "color": "black",
           "width": 0
          },
          "opacity": 0.9,
          "size": 6
         },
         "mode": "lines+markers+text",
         "showlegend": false,
         "subplot": "ternary",
         "text": [
          "",
          "",
          "",
          "",
          "",
          "",
          "",
          "",
          "",
          "",
          "",
          "",
          "",
          "",
          "",
          ""
         ],
         "textfont": {
          "color": "black",
          "size": 5.654941457562477
         },
         "type": "scatterternary"
        },
        {
         "a": [
          0.36140343631615557,
          0.320633884580001,
          0.2852931815562977,
          0.2894642500560493,
          0.3180524522002214,
          0.33403736715774923,
          0.3250215860819501,
          0.32341241605074844,
          0.31762943658724335,
          0.3168324849626229,
          0.3042579741516346,
          0.29717939651497594,
          0.29032921211670615,
          0.2687368316808425,
          0.2660353882116219,
          0.261061441915525
         ],
         "b": [
          0.5178530724963898,
          0.5791921978787988,
          0.6929277374901637,
          0.6955297968609752,
          0.6626737544486678,
          0.6429217086021949,
          0.652727069573442,
          0.6548575254308312,
          0.6613094203240075,
          0.661921275467937,
          0.671865003680973,
          0.6743829331546559,
          0.659864325504029,
          0.6436934896348846,
          0.6387292077535848,
          0.634711657117517
         ],
         "c": [
          0.12074349118745457,
          0.10017391754120024,
          0.021779080953538747,
          0.015005953082975532,
          0.019273793351110714,
          0.023040924240055823,
          0.022251344344607918,
          0.021730058518420234,
          0.02106114308874914,
          0.021246239569440092,
          0.023877022167392514,
          0.02843767033036812,
          0.04980646237926499,
          0.08756967868427286,
          0.09523540403479315,
          0.10422690096695801
         ],
         "line": {
          "color": "silver",
          "width": 0.5
         },
         "marker": {
          "color": "silver",
          "line": {
           "color": "black",
           "width": 0
          },
          "opacity": 0.9,
          "size": 6
         },
         "mode": "lines+markers+text",
         "showlegend": false,
         "subplot": "ternary",
         "text": [
          "",
          "",
          "",
          "",
          "",
          "",
          "",
          "",
          "",
          "",
          "",
          "",
          "",
          "",
          "",
          ""
         ],
         "textfont": {
          "color": "black",
          "size": 11.042700080338427
         },
         "type": "scatterternary"
        },
        {
         "a": [
          0.1259329034924548,
          0.13308629476713316,
          0.12853940318426985,
          0.137400470963183,
          0.1630077259664088,
          0.1798734330112387,
          0.17598430489991074,
          0.17208898215306395,
          0.1604485889173498,
          0.15110089804733084,
          0.13442526076296818,
          0.13126270992718025,
          0.12806758277907854,
          0.1264487962847768,
          0.1294195109679786,
          0.12988942084044738
         ],
         "b": [
          0.8335319472605502,
          0.825598141301192,
          0.8434023622517386,
          0.8320209000802897,
          0.7962812399316175,
          0.7623483284359112,
          0.7452170403411675,
          0.7343695981277175,
          0.728831153128513,
          0.7277182197289533,
          0.7297387287776249,
          0.7486898965769668,
          0.7694436293183128,
          0.7853465452337379,
          0.7868947116891304,
          0.7820050581714848
         ],
         "c": [
          0.040535149246994764,
          0.041315563931674806,
          0.028058234563991594,
          0.03057862895652724,
          0.04071103410197376,
          0.057778238552850164,
          0.07879865475892162,
          0.09354141971921848,
          0.11072025795413719,
          0.12118088222371583,
          0.13583601045940683,
          0.120047393495853,
          0.10248878790260874,
          0.08820465848148512,
          0.08368577734289095,
          0.0881055209880678
         ],
         "line": {
          "color": "silver",
          "width": 0.5
         },
         "marker": {
          "color": "silver",
          "line": {
           "color": "black",
           "width": 0
          },
          "opacity": 0.9,
          "size": 6
         },
         "mode": "lines+markers+text",
         "showlegend": false,
         "subplot": "ternary",
         "text": [
          "",
          "",
          "",
          "",
          "",
          "",
          "",
          "",
          "",
          "",
          "",
          "",
          "",
          "",
          "",
          ""
         ],
         "textfont": {
          "color": "black",
          "size": 4.947130891976895
         },
         "type": "scatterternary"
        },
        {
         "a": [
          0.35129179039272174,
          0.4414287065751368,
          0.477317347436346,
          0.5153403360354665,
          0.4915849718446955,
          0.44534852115683,
          0.3852790741526253,
          0.34979257984103773,
          0.32039667830196356,
          0.2994630866006878,
          0.2762103110702337,
          0.2602006685071891,
          0.24315522468719447,
          0.2260851097834617,
          0.2249632888847674,
          0.2237569422990207
         ],
         "b": [
          0.5329980219417468,
          0.43621192032694484,
          0.48870796736100935,
          0.4389194095436023,
          0.40976573002148586,
          0.4222691716124127,
          0.45992420711959286,
          0.49048026639706166,
          0.5125499159674242,
          0.5249525726068778,
          0.5334483371155688,
          0.5331873237805753,
          0.5213484479013931,
          0.4959274126644766,
          0.4656260580803054,
          0.43104295686519883
         ],
         "c": [
          0.11571018766553152,
          0.12235937309791851,
          0.03397468520264455,
          0.04574025442093112,
          0.09864929813381858,
          0.13238230723075728,
          0.15479671872778183,
          0.15972715376190078,
          0.16705340573061225,
          0.17558434079243435,
          0.19034135181419748,
          0.20661200771223573,
          0.23549632741141258,
          0.2779874775520617,
          0.30941065303492726,
          0.3452001008357804
         ],
         "line": {
          "color": "silver",
          "width": 0.5
         },
         "marker": {
          "color": "silver",
          "line": {
           "color": "black",
           "width": 0
          },
          "opacity": 0.9,
          "size": 6
         },
         "mode": "lines+markers+text",
         "showlegend": false,
         "subplot": "ternary",
         "text": [
          "",
          "",
          "",
          "",
          "",
          "",
          "",
          "",
          "",
          "",
          "",
          "",
          "",
          "",
          "",
          ""
         ],
         "textfont": {
          "color": "black",
          "size": 2.3834806319711186
         },
         "type": "scatterternary"
        },
        {
         "a": [
          0.6360389187856779,
          0.6417225994759699,
          0.7119959550110284,
          0.7218433249431147,
          0.7184659873664898,
          0.7150500225325421,
          0.6979059239142418,
          0.6876916559634763,
          0.6765271450221103,
          0.6718111309472607,
          0.6544026356997572,
          0.6375023857820787,
          0.6167145594056354,
          0.5971664057781882,
          0.6074452415553375,
          0.6187686803805202
         ],
         "b": [
          0.16364300006805,
          0.17301445746257835,
          0.2379340387519896,
          0.24952722673375616,
          0.2507296037030418,
          0.25150461595705303,
          0.26907969279547506,
          0.2802165720690013,
          0.292287602529129,
          0.2948961991353629,
          0.3064601431798311,
          0.31170138240662865,
          0.3139197065540421,
          0.30925029375583535,
          0.28280280871498437,
          0.2549184500875709
         ],
         "c": [
          0.20031808114627217,
          0.18526294306145177,
          0.05007000623698199,
          0.02862944832312924,
          0.030804408930468465,
          0.033445361510404684,
          0.03301438329028323,
          0.032091771967522636,
          0.03118525244876071,
          0.0332926699173764,
          0.03913722112041158,
          0.05079623181129264,
          0.06936573404032263,
          0.09358330046597646,
          0.10975194972967825,
          0.12631286953190884
         ],
         "line": {
          "color": "silver",
          "width": 0.5
         },
         "marker": {
          "color": "silver",
          "line": {
           "color": "black",
           "width": 0
          },
          "opacity": 0.9,
          "size": 6
         },
         "mode": "lines+markers+text",
         "showlegend": false,
         "subplot": "ternary",
         "text": [
          "",
          "",
          "",
          "",
          "",
          "",
          "",
          "",
          "",
          "",
          "",
          "",
          "",
          "",
          "",
          ""
         ],
         "textfont": {
          "color": "black",
          "size": 1.7119910329079482
         },
         "type": "scatterternary"
        },
        {
         "a": [
          0.11387039397320464,
          0.12150394031772214,
          0.12116967046201503,
          0.13170529782201001,
          0.15945128361844024,
          0.18317233968528288,
          0.191876456868311,
          0.19964334748904705,
          0.20069098190766368,
          0.19917155937862147,
          0.18858867054425008,
          0.17734373941384216,
          0.16184976298789383,
          0.1452588958914574,
          0.1387955512641881,
          0.1325042247944537
         ],
         "b": [
          0.855461468283849,
          0.8464633175970074,
          0.8588058296517799,
          0.849393269732835,
          0.8179912171766435,
          0.7873225697812604,
          0.7739066731962801,
          0.7657642520835282,
          0.7664081052830787,
          0.7702205356885352,
          0.7813876425567031,
          0.7912313580196433,
          0.8043631898940974,
          0.8170468803699007,
          0.8216820854638797,
          0.8256065358664204
         ],
         "c": [
          0.03066813774294643,
          0.03203274208527038,
          0.020024499886205055,
          0.01890143244515489,
          0.022557499204916252,
          0.02950509053345679,
          0.03421686993540891,
          0.03459240042742494,
          0.03290091280925751,
          0.03060790493284317,
          0.030023686899046803,
          0.0314249025665144,
          0.0337870471180086,
          0.03769422373864189,
          0.03952236327193235,
          0.041889239339126055
         ],
         "line": {
          "color": "silver",
          "width": 0.5
         },
         "marker": {
          "color": "silver",
          "line": {
           "color": "black",
           "width": 0
          },
          "opacity": 0.9,
          "size": 6
         },
         "mode": "lines+markers+text",
         "showlegend": false,
         "subplot": "ternary",
         "text": [
          "",
          "",
          "",
          "",
          "",
          "",
          "",
          "",
          "",
          "",
          "",
          "",
          "",
          "",
          "",
          ""
         ],
         "textfont": {
          "color": "black",
          "size": 1.5721766855788961
         },
         "type": "scatterternary"
        },
        {
         "a": [
          0,
          0,
          0,
          0,
          0,
          0,
          0,
          0,
          0,
          0,
          0,
          0,
          0,
          0,
          0,
          0
         ],
         "b": [
          0,
          0,
          0,
          0,
          0,
          0,
          0,
          0,
          0,
          0,
          0,
          0,
          0,
          0,
          0,
          0
         ],
         "c": [
          0,
          0,
          0,
          0,
          0,
          0,
          0,
          0,
          0,
          0,
          0,
          0,
          0,
          0,
          0,
          0
         ],
         "line": {
          "color": "silver",
          "width": 0.5
         },
         "marker": {
          "color": "silver",
          "line": {
           "color": "black",
           "width": 0
          },
          "opacity": 0.9,
          "size": 6
         },
         "mode": "lines+markers+text",
         "showlegend": false,
         "subplot": "ternary",
         "text": [
          "",
          "",
          "",
          "",
          "",
          "",
          "",
          "",
          "",
          "",
          "",
          "",
          "",
          "",
          "",
          ""
         ],
         "textfont": {
          "color": "black",
          "size": 1.707472765638913
         },
         "type": "scatterternary"
        },
        {
         "a": [
          0.48554197524688725,
          0.48220287144795093,
          0.49800398158007747,
          0.5008958204409102,
          0.49550070641825406,
          0.49552697054209727,
          0.48576515106248064,
          0.48064426208541844,
          0.47084788791753707,
          0.46219566544430724,
          0.44079327496649545,
          0.4199503132167426,
          0.3948903655548568,
          0.3729405907749028,
          0.38154805106574585,
          0.39758433807484894
         ],
         "b": [
          0.3526080218421952,
          0.3683253685513941,
          0.45964329992891073,
          0.4725849962148389,
          0.47663920654319814,
          0.4726214433905669,
          0.4800448794689849,
          0.48339840649436244,
          0.4904004243807655,
          0.4940408047071048,
          0.5061654813538826,
          0.5133269844888967,
          0.5201371754533507,
          0.5191106341574829,
          0.49251310530349407,
          0.45637651474637486
         ],
         "c": [
          0.1618500029109175,
          0.14947176000065496,
          0.0423527184910118,
          0.02651918334425088,
          0.027860087038547733,
          0.03185158606733587,
          0.034189969468534386,
          0.035957331420219125,
          0.03875168770169736,
          0.04376352984858796,
          0.05304124367962193,
          0.06672270229436081,
          0.08497245899179266,
          0.10794877506761444,
          0.12593884363076013,
          0.14603914717877625
         ],
         "line": {
          "color": "silver",
          "width": 0.5
         },
         "marker": {
          "color": "silver",
          "line": {
           "color": "black",
           "width": 0
          },
          "opacity": 0.9,
          "size": 6
         },
         "mode": "lines+markers+text",
         "showlegend": false,
         "subplot": "ternary",
         "text": [
          "",
          "",
          "",
          "",
          "",
          "",
          "",
          "",
          "",
          "",
          "",
          "",
          "",
          "",
          "",
          ""
         ],
         "textfont": {
          "color": "black",
          "size": 2.3834806319711186
         },
         "type": "scatterternary"
        },
        {
         "a": [
          0.3471797567281086,
          0.3336200587317998,
          0.29057512696362553,
          0.2911667199949367,
          0.3326150270786363,
          0.35978641255175314,
          0.3504791932888081,
          0.3405635562438843,
          0.3175599890674774,
          0.29280553337122384,
          0.2508764905196598,
          0.21573277242501093,
          0.18003498469230167,
          0.15223941855045728,
          0.139404459770194,
          0.12965965524208833
         ],
         "b": [
          0.5279069759562399,
          0.5560002353624334,
          0.6849765308678247,
          0.6935218799884892,
          0.6482442238873413,
          0.6166842065452939,
          0.6248956448278913,
          0.6360797709593019,
          0.6591600882192656,
          0.6813223901173797,
          0.7165580722207187,
          0.7480525313730481,
          0.7769359785613311,
          0.79581576584655,
          0.803477727956058,
          0.8091562763029698
         ],
         "c": [
          0.12491326731565146,
          0.11037970590576694,
          0.024448342168549714,
          0.01531140001657419,
          0.01914074903402253,
          0.023529380902952972,
          0.024625161883300727,
          0.02335667279681371,
          0.023279922713256945,
          0.02587207651139633,
          0.03256543725962148,
          0.036214696201941135,
          0.043029036746367134,
          0.051944815602992606,
          0.057117812273748084,
          0.06118406845494188
         ],
         "line": {
          "color": "silver",
          "width": 0.5
         },
         "marker": {
          "color": "silver",
          "line": {
           "color": "black",
           "width": 0
          },
          "opacity": 0.9,
          "size": 6
         },
         "mode": "lines+markers+text",
         "showlegend": false,
         "subplot": "ternary",
         "text": [
          "",
          "",
          "",
          "",
          "",
          "",
          "",
          "",
          "",
          "",
          "",
          "",
          "",
          "",
          "",
          ""
         ],
         "textfont": {
          "color": "black",
          "size": 1.7044363773156723
         },
         "type": "scatterternary"
        },
        {
         "a": [
          0,
          0,
          0,
          0,
          0,
          0,
          0,
          0,
          0,
          0,
          0,
          0,
          0,
          0,
          0,
          0
         ],
         "b": [
          0,
          0,
          0,
          0,
          0,
          0,
          0,
          0,
          0,
          0,
          0,
          0,
          0,
          0,
          0,
          0
         ],
         "c": [
          0,
          0,
          0,
          0,
          0,
          0,
          0,
          0,
          0,
          0,
          0,
          0,
          0,
          0,
          0,
          0
         ],
         "line": {
          "color": "silver",
          "width": 0.5
         },
         "marker": {
          "color": "silver",
          "line": {
           "color": "black",
           "width": 0
          },
          "opacity": 0.9,
          "size": 6
         },
         "mode": "lines+markers+text",
         "showlegend": false,
         "subplot": "ternary",
         "text": [
          "",
          "",
          "",
          "",
          "",
          "",
          "",
          "",
          "",
          "",
          "",
          "",
          "",
          "",
          "",
          ""
         ],
         "textfont": {
          "color": "black",
          "size": 6.719196387565456
         },
         "type": "scatterternary"
        },
        {
         "a": [
          0.3307425585272992,
          0.2939650192821819,
          0.2782347015241396,
          0.28308495333347394,
          0.28683215012432367,
          0.29573363941629754,
          0.2771040877817326,
          0.26444183955036366,
          0.24909715234744645,
          0.24029078358199452,
          0.22808120029552661,
          0.21407016029665032,
          0.19547152107662855,
          0.18057592613766182,
          0.18165702743001944,
          0.18876606797731055
         ],
         "b": [
          0.5408586957021199,
          0.5960651745846223,
          0.672031970318664,
          0.6694419677792636,
          0.6628135854103452,
          0.6517970953186116,
          0.6702690131568164,
          0.6866663683459322,
          0.7019054061640314,
          0.7062339425076705,
          0.7148735961371204,
          0.7207158493915575,
          0.7278459296886102,
          0.7297779132722733,
          0.7168121904164586,
          0.696753240704432
         ],
         "c": [
          0.12839874577058089,
          0.10996980613319594,
          0.049733328157196485,
          0.04747307888726231,
          0.05035426446533107,
          0.05246926526509078,
          0.052626899061450884,
          0.048891792103704264,
          0.048997441488522066,
          0.05347527391033494,
          0.057045203567352896,
          0.0652139903117922,
          0.07668254923476121,
          0.08964616059006478,
          0.10153078215352182,
          0.1144806913182574
         ],
         "line": {
          "color": "silver",
          "width": 0.5
         },
         "marker": {
          "color": "silver",
          "line": {
           "color": "black",
           "width": 0
          },
          "opacity": 0.9,
          "size": 6
         },
         "mode": "lines+markers+text",
         "showlegend": false,
         "subplot": "ternary",
         "text": [
          "",
          "",
          "",
          "",
          "",
          "",
          "",
          "",
          "",
          "",
          "",
          "",
          "",
          "",
          "",
          ""
         ],
         "textfont": {
          "color": "black",
          "size": 5.157094721074522
         },
         "type": "scatterternary"
        },
        {
         "a": [
          0.24997719061118218,
          0.24630869198565175,
          0.2104892955838113,
          0.21450545680351119,
          0.24982972721466148,
          0.2795919420138089,
          0.2787493545063366,
          0.2786766098875671,
          0.2690679366967399,
          0.25970817677876445,
          0.23646603592636023,
          0.21509394359208678,
          0.19229165459514147,
          0.17497849378786573,
          0.1740558502940914,
          0.17708041385625586
         ],
         "b": [
          0.6594362780285731,
          0.6686975016048353,
          0.7690801005342566,
          0.7727186162738313,
          0.7336262422603749,
          0.7000708864198606,
          0.6998719598173625,
          0.7004840436150946,
          0.7108687126601018,
          0.7197342801503877,
          0.7421559024152349,
          0.7608165101051027,
          0.7792036246997708,
          0.7910367233093882,
          0.7883625442623896,
          0.7808205243307581
         ],
         "c": [
          0.09058653136024482,
          0.08499380640951312,
          0.020430603881932127,
          0.012775926922657593,
          0.01654403052496372,
          0.020337171566330626,
          0.02137868567630086,
          0.0208393464973383,
          0.020063350643158392,
          0.020557543070847728,
          0.021378061658404807,
          0.024089546302810527,
          0.02850472070508782,
          0.033984782902746175,
          0.03758160544351907,
          0.042099061812986116
         ],
         "line": {
          "color": "silver",
          "width": 0.5
         },
         "marker": {
          "color": "silver",
          "line": {
           "color": "black",
           "width": 0
          },
          "opacity": 0.9,
          "size": 6
         },
         "mode": "lines+markers+text",
         "showlegend": false,
         "subplot": "ternary",
         "text": [
          "",
          "",
          "",
          "",
          "",
          "",
          "",
          "",
          "",
          "",
          "",
          "",
          "",
          "",
          "",
          ""
         ],
         "textfont": {
          "color": "black",
          "size": 4.437588784293618
         },
         "type": "scatterternary"
        },
        {
         "a": [
          0,
          0,
          0,
          0,
          0,
          0,
          0,
          0,
          0,
          0,
          0,
          0,
          0,
          0,
          0,
          0
         ],
         "b": [
          0,
          0,
          0,
          0,
          0,
          0,
          0,
          0,
          0,
          0,
          0,
          0,
          0,
          0,
          0,
          0
         ],
         "c": [
          0,
          0,
          0,
          0,
          0,
          0,
          0,
          0,
          0,
          0,
          0,
          0,
          0,
          0,
          0,
          0
         ],
         "line": {
          "color": "silver",
          "width": 0.5
         },
         "marker": {
          "color": "silver",
          "line": {
           "color": "black",
           "width": 0
          },
          "opacity": 0.9,
          "size": 6
         },
         "mode": "lines+markers+text",
         "showlegend": false,
         "subplot": "ternary",
         "text": [
          "",
          "",
          "",
          "",
          "",
          "",
          "",
          "",
          "",
          "",
          "",
          "",
          "",
          "",
          "",
          ""
         ],
         "textfont": {
          "color": "black",
          "size": 2.3834806319711186
         },
         "type": "scatterternary"
        },
        {
         "a": [
          0.4011080633838113,
          0.3864784093233196,
          0.36429055377893094,
          0.36794763452079393,
          0.40352558311377773,
          0.4241873539736531,
          0.4119377145098235,
          0.40365491492030625,
          0.38692583347311393,
          0.3696762975845993,
          0.3366738304376038,
          0.30173025930726627,
          0.2590488453319763,
          0.21348472209091082,
          0.19234772934979266,
          0.169110371741162
         ],
         "b": [
          0.4699653274082142,
          0.4947191823693866,
          0.5978262312191733,
          0.5987447449257811,
          0.5505301458305663,
          0.519752725589771,
          0.5241986133352625,
          0.5277104968645159,
          0.5381051518112318,
          0.545145952000408,
          0.5613422285777325,
          0.5728158321467892,
          0.5790952117127104,
          0.5870566889672184,
          0.5878002444587431,
          0.5814612731323613
         ],
         "c": [
          0.1289266092079744,
          0.11880240830729379,
          0.03788321500189565,
          0.03330762055342495,
          0.04594427105565583,
          0.056059920436576094,
          0.06386367215491405,
          0.06863458821517784,
          0.07496901471565438,
          0.08517775041499272,
          0.1019839409846636,
          0.12545390854594451,
          0.1618559429553134,
          0.1994585889418708,
          0.21985202619146432,
          0.2494283551264767
         ],
         "line": {
          "color": "silver",
          "width": 0.5
         },
         "marker": {
          "color": "silver",
          "line": {
           "color": "black",
           "width": 0
          },
          "opacity": 0.9,
          "size": 6
         },
         "mode": "lines+markers+text",
         "showlegend": false,
         "subplot": "ternary",
         "text": [
          "",
          "",
          "",
          "",
          "",
          "",
          "",
          "",
          "",
          "",
          "",
          "",
          "",
          "",
          "",
          ""
         ],
         "textfont": {
          "color": "black",
          "size": 4.067952966004089
         },
         "type": "scatterternary"
        },
        {
         "a": [
          0.4903814752598644,
          0.48327076230876165,
          0.5249464747895685,
          0.5598147944438158,
          0.5772247130821079,
          0.588771306948761,
          0.577771215921152,
          0.5788686933046284,
          0.5685108712210948,
          0.5554528698620781,
          0.5428861893574194,
          0.5216990887432096,
          0.49289270292198917,
          0.4717890189385465,
          0.47366042694413846,
          0.47914963409779043
         ],
         "b": [
          0.3606326116713762,
          0.38038434745449057,
          0.43840519726864824,
          0.411996074143496,
          0.38287821182550086,
          0.363228205029841,
          0.36807996234826096,
          0.36953614140856,
          0.3818402806240885,
          0.39399682496340016,
          0.4081791755446416,
          0.42462370539343225,
          0.43993701960411713,
          0.44219729928593277,
          0.4296529440858263,
          0.4150563664916294
         ],
         "c": [
          0.14898591306875944,
          0.1363448902367478,
          0.03664832794178338,
          0.028189131412688175,
          0.03989707509239135,
          0.048000488021397995,
          0.05414882173058719,
          0.051595165286811434,
          0.04964884815481673,
          0.05055030517452185,
          0.048934635097939036,
          0.05367720586335806,
          0.06717027747389362,
          0.08601368177552068,
          0.0966866289700351,
          0.10579399941058021
         ],
         "line": {
          "color": "silver",
          "width": 0.5
         },
         "marker": {
          "color": "silver",
          "line": {
           "color": "black",
           "width": 0
          },
          "opacity": 0.9,
          "size": 6
         },
         "mode": "lines+markers+text",
         "showlegend": false,
         "subplot": "ternary",
         "text": [
          "",
          "",
          "",
          "",
          "",
          "",
          "",
          "",
          "",
          "",
          "",
          "",
          "",
          "",
          "",
          ""
         ],
         "textfont": {
          "color": "black",
          "size": 3.779080470060469
         },
         "type": "scatterternary"
        },
        {
         "a": [
          0.2824934989843467,
          0.2712046664692169,
          0.23507699673067342,
          0.23416872898337,
          0.2755478649413257,
          0.3046501398330551,
          0.29663371959701373,
          0.288566999219913,
          0.26803013195542286,
          0.2478490049003012,
          0.2157912180089494,
          0.1848535445462356,
          0.1524841832368446,
          0.12619426174471024,
          0.11413465158076881,
          0.10557803310435462
         ],
         "b": [
          0.6197153461326979,
          0.6372340361049085,
          0.7430297579498807,
          0.7532786963192712,
          0.7085155594424125,
          0.6736171580173542,
          0.6799475575620183,
          0.6864134444204608,
          0.707185701363359,
          0.7277529633299763,
          0.7634847276749831,
          0.7953500032483272,
          0.8256873482806297,
          0.8479205143843439,
          0.8580840877907477,
          0.8647922344784962
         ],
         "c": [
          0.0977911548829555,
          0.09156129742587445,
          0.02189324531944587,
          0.01255257469735892,
          0.01593657561626176,
          0.021732702149590652,
          0.02341872284096804,
          0.02501955635962616,
          0.024784166681218134,
          0.02439803176972266,
          0.020724054316067463,
          0.019796452205437305,
          0.021828468482525766,
          0.02588522387094582,
          0.02778126062848356,
          0.02962973241714928
         ],
         "line": {
          "color": "silver",
          "width": 0.5
         },
         "marker": {
          "color": "silver",
          "line": {
           "color": "black",
           "width": 0
          },
          "opacity": 0.9,
          "size": 6
         },
         "mode": "lines+markers+text",
         "showlegend": false,
         "subplot": "ternary",
         "text": [
          "",
          "",
          "",
          "",
          "",
          "",
          "",
          "",
          "",
          "",
          "",
          "",
          "",
          "",
          "",
          ""
         ],
         "textfont": {
          "color": "black",
          "size": 3.7571811840381697
         },
         "type": "scatterternary"
        },
        {
         "a": [
          0.0580549889735899,
          0.05764025107940349,
          0.04868731856415927,
          0.03870910150883585,
          0.03702105876591399,
          0.0372859424462612,
          0.04386438426665386,
          0.05002427022599966,
          0.049458244910204535,
          0.04989569635210331,
          0.04948157608690526,
          0.0489256743013128,
          0.05094059205955452,
          0.052246321640373614,
          0.056250033311847726,
          0.06551143745534818
         ],
         "b": [
          0.9290397434648625,
          0.8848245256105172,
          0.7760536100819413,
          0.6801736304184088,
          0.650551390091566,
          0.6272620932645165,
          0.6425232199887241,
          0.6543279389948263,
          0.6633753717629854,
          0.6817230678613636,
          0.713512437359736,
          0.7303382464786047,
          0.7614117170097393,
          0.7821235321380374,
          0.7766625486634376,
          0.7617453197991436
         ],
         "c": [
          0.012905267561547668,
          0.05753522331007916,
          0.1752590713538994,
          0.2811172680727552,
          0.31242755114252,
          0.33545196428922225,
          0.313612395744622,
          0.2956477907791739,
          0.28716638332681,
          0.2683812357865331,
          0.23700598655335872,
          0.22073607922008248,
          0.1876476909307062,
          0.16563014622158898,
          0.1670874180247146,
          0.17274324274550812
         ],
         "line": {
          "color": "silver",
          "width": 0.5
         },
         "marker": {
          "color": "silver",
          "line": {
           "color": "black",
           "width": 0
          },
          "opacity": 0.9,
          "size": 6
         },
         "mode": "lines+markers+text",
         "showlegend": false,
         "subplot": "ternary",
         "text": [
          "",
          "",
          "",
          "",
          "",
          "",
          "",
          "",
          "",
          "",
          "",
          "",
          "",
          "",
          "",
          ""
         ],
         "textfont": {
          "color": "black",
          "size": 2.859361159005815
         },
         "type": "scatterternary"
        },
        {
         "a": [
          0.37664303662960624,
          0.3506378656983887,
          0.33408869333119984,
          0.3437491151620426,
          0.36115151452779015,
          0.36717926377818483,
          0.35581242416516345,
          0.3511339107087035,
          0.34727415252312854,
          0.35481154666489845,
          0.3529604637514546,
          0.359301536323833,
          0.3605245169412176,
          0.3416710860871313,
          0.33652579000472227,
          0.3250688527232617
         ],
         "b": [
          0.4966648492144257,
          0.5424535270628539,
          0.643539220012906,
          0.6429894615948606,
          0.61956253815016,
          0.6037067491693342,
          0.611946896844935,
          0.6143909121668814,
          0.6183072321296773,
          0.6117302457148115,
          0.6103175875497789,
          0.5966433302535851,
          0.5686657736427939,
          0.5462820652966649,
          0.5384740640207882,
          0.5437933679779071
         ],
         "c": [
          0.12669211415596793,
          0.10690860723875747,
          0.02237208665589402,
          0.01326142324309693,
          0.01928594732204981,
          0.029113987052480993,
          0.03224067898990154,
          0.03447517712441516,
          0.03441861534719411,
          0.033458207620289976,
          0.03672194869876629,
          0.04405513342258198,
          0.07080970941598853,
          0.11204684861620381,
          0.12500014597448955,
          0.1311377792988313
         ],
         "line": {
          "color": "silver",
          "width": 0.5
         },
         "marker": {
          "color": "silver",
          "line": {
           "color": "black",
           "width": 0
          },
          "opacity": 0.9,
          "size": 6
         },
         "mode": "lines+markers+text",
         "showlegend": false,
         "subplot": "ternary",
         "text": [
          "",
          "",
          "",
          "",
          "",
          "",
          "",
          "",
          "",
          "",
          "",
          "",
          "",
          "",
          "",
          ""
         ],
         "textfont": {
          "color": "black",
          "size": 2.17446563924803
         },
         "type": "scatterternary"
        },
        {
         "a": [
          0.0989007927041698,
          0.10058949702028307,
          0.09823601336436269,
          0.10529850198935053,
          0.12364032863150712,
          0.13625187491886498,
          0.13580300190010258,
          0.13455040179037292,
          0.13111921822618278,
          0.12938968109186294,
          0.12374825836640718,
          0.11932711406548545,
          0.11362626502264975,
          0.1085074897065458,
          0.10835900413475583,
          0.1062932741560729
         ],
         "b": [
          0.8488642961090755,
          0.8480839713574724,
          0.8574954331352882,
          0.8490335783471649,
          0.8236619052732248,
          0.7980606646309321,
          0.7840930273120659,
          0.7728784592540483,
          0.7709193229775791,
          0.7743252102723044,
          0.783164203006548,
          0.7925844834966557,
          0.8034273124494201,
          0.8127543215331607,
          0.8178584129146775,
          0.8237355845014964
         ],
         "c": [
          0.05223491118675463,
          0.05132653162224459,
          0.04426855350034911,
          0.045667919663484616,
          0.05269776609526814,
          0.0656874604502029,
          0.08010397078783166,
          0.09257113895557877,
          0.0979614587962381,
          0.09628510863583273,
          0.0930875386270449,
          0.08808840243785898,
          0.08294642252793025,
          0.07873818876029345,
          0.07378258295056658,
          0.06997114134243079
         ],
         "line": {
          "color": "silver",
          "width": 0.5
         },
         "marker": {
          "color": "silver",
          "line": {
           "color": "black",
           "width": 0
          },
          "opacity": 0.9,
          "size": 6
         },
         "mode": "lines+markers+text",
         "showlegend": false,
         "subplot": "ternary",
         "text": [
          "",
          "",
          "",
          "",
          "",
          "",
          "",
          "",
          "",
          "",
          "",
          "",
          "",
          "",
          "",
          ""
         ],
         "textfont": {
          "color": "black",
          "size": 4.640846039602989
         },
         "type": "scatterternary"
        },
        {
         "a": [
          0.08921277557186165,
          0.09323951892726887,
          0.09348243053532701,
          0.09834074258885706,
          0.10386334285215709,
          0.0834746140109596,
          0.04738834124981408,
          0.033621030697137066,
          0.03053100828616177,
          0.03706694739262377,
          0.06786676507530207,
          0.10269071029747506,
          0.0906064576106432,
          0.07473832539327835,
          0.07368703633753264,
          0.08524992812700105
         ],
         "b": [
          0.8467521994610971,
          0.8383946594190422,
          0.8413400933051969,
          0.8184994933188775,
          0.7737552516142769,
          0.6956915593168896,
          0.5998952538179331,
          0.561801098837383,
          0.5577771557215971,
          0.5733705707537307,
          0.6825869774746907,
          0.7778899625695186,
          0.7608179688263641,
          0.6831157108054617,
          0.6394085450004718,
          0.6078500156867294
         ],
         "c": [
          0.06403502496704118,
          0.06836582165368878,
          0.06517747615947597,
          0.08315976409226547,
          0.12238140553356591,
          0.22083382667215065,
          0.3527164049322529,
          0.4045778704654798,
          0.41169183599224113,
          0.38956248185364545,
          0.24954625745000739,
          0.11941932713300643,
          0.14857557356299259,
          0.24214596380125994,
          0.28690441866199556,
          0.30690005618626975
         ],
         "line": {
          "color": "silver",
          "width": 0.5
         },
         "marker": {
          "color": "steelblue",
          "line": {
           "color": "black",
           "width": 0
          },
          "opacity": 0.9,
          "size": 6
         },
         "mode": "lines+markers+text",
         "showlegend": false,
         "subplot": "ternary",
         "text": [
          "ZAF",
          "",
          "",
          "",
          "",
          "",
          "",
          "",
          "",
          "",
          "",
          "",
          "",
          "",
          "",
          ""
         ],
         "textfont": {
          "color": "black",
          "size": 7.862396330265722
         },
         "type": "scatterternary"
        },
        {
         "a": [
          0.2551267618284501,
          0.38120162270186453,
          0.475625424304987,
          0.5408046924218041,
          0.5832204269718008,
          0.5926603270775579,
          0.5714633644055284,
          0.5333322211903131,
          0.5000945005165449,
          0.4849201150123237,
          0.4637582848443451,
          0.4201097582226768,
          0.3451742625953741,
          0.2637312470987411,
          0.20277600441382176,
          0.15303124208963242
         ],
         "b": [
          0.6495222795191521,
          0.4941253123167025,
          0.4668435046672541,
          0.39416211942301427,
          0.3497391187657491,
          0.34053054695463936,
          0.3564241074158209,
          0.37040108156157026,
          0.37279844965186815,
          0.36318201729292554,
          0.36020109116100746,
          0.38014840137792455,
          0.43608462596124364,
          0.5009951792908546,
          0.5508416037590647,
          0.5999579148973483
         ],
         "c": [
          0.09535095865239798,
          0.12467306498143294,
          0.05753107102775903,
          0.06503318815518187,
          0.06704045426245013,
          0.06680912596780271,
          0.0721125281786506,
          0.09626669724811661,
          0.12710704983158713,
          0.15189786769475072,
          0.17604062399464743,
          0.19974184039939857,
          0.2187411114433822,
          0.2352735736104044,
          0.24638239182711344,
          0.24701084301301912
         ],
         "line": {
          "color": "silver",
          "width": 0.5
         },
         "marker": {
          "color": "silver",
          "line": {
           "color": "black",
           "width": 0
          },
          "opacity": 0.9,
          "size": 6
         },
         "mode": "lines+markers+text",
         "showlegend": false,
         "subplot": "ternary",
         "text": [
          "",
          "",
          "",
          "",
          "",
          "",
          "",
          "",
          "",
          "",
          "",
          "",
          "",
          "",
          "",
          ""
         ],
         "textfont": {
          "color": "black",
          "size": 7.582433522405158
         },
         "type": "scatterternary"
        },
        {
         "a": [
          0,
          0,
          0,
          0,
          0,
          0,
          0,
          0,
          0,
          0,
          0,
          0,
          0,
          0,
          0,
          0
         ],
         "b": [
          0,
          0,
          0,
          0,
          0,
          0,
          0,
          0,
          0,
          0,
          0,
          0,
          0,
          0,
          0,
          0
         ],
         "c": [
          0,
          0,
          0,
          0,
          0,
          0,
          0,
          0,
          0,
          0,
          0,
          0,
          0,
          0,
          0,
          0
         ],
         "line": {
          "color": "silver",
          "width": 0.5
         },
         "marker": {
          "color": "silver",
          "line": {
           "color": "black",
           "width": 0
          },
          "opacity": 0.9,
          "size": 6
         },
         "mode": "lines+markers+text",
         "showlegend": false,
         "subplot": "ternary",
         "text": [
          "",
          "",
          "",
          "",
          "",
          "",
          "",
          "",
          "",
          "",
          "",
          "",
          "",
          "",
          "",
          ""
         ],
         "textfont": {
          "color": "black",
          "size": 2.3834806319711186
         },
         "type": "scatterternary"
        },
        {
         "a": [
          0.23686287959547486,
          0.23014176638155387,
          0.19526425814128798,
          0.19616756003819807,
          0.212590664361379,
          0.22753677509760312,
          0.21938066327485656,
          0.21428648513024837,
          0.20347234276535925,
          0.19475566853162724,
          0.17617070952742978,
          0.16098300375436592,
          0.14644969147649534,
          0.13785828847193604,
          0.14220395345430087,
          0.15067235197852458
         ],
         "b": [
          0.6708220648705736,
          0.6838058410016565,
          0.7857898275953956,
          0.793433632790111,
          0.7743212006828085,
          0.755962257607432,
          0.7628612319124517,
          0.766906023024379,
          0.7765715391465087,
          0.7832280013537698,
          0.7991571965666229,
          0.8098502110695099,
          0.8183386914995548,
          0.8193269836215253,
          0.8083268175217153,
          0.7918200495873473
         ],
         "c": [
          0.09231505553395145,
          0.0860523926167897,
          0.01894591426331633,
          0.010398807171690972,
          0.01308813495581254,
          0.016500967294965006,
          0.01775810481269159,
          0.018807491845372514,
          0.019956118088132208,
          0.022016330114602918,
          0.024672093905947448,
          0.029166785176124296,
          0.03521161702394973,
          0.04281472790653863,
          0.0494692290239838,
          0.057507598434128046
         ],
         "line": {
          "color": "silver",
          "width": 0.5
         },
         "marker": {
          "color": "silver",
          "line": {
           "color": "black",
           "width": 0
          },
          "opacity": 0.9,
          "size": 6
         },
         "mode": "lines+markers+text",
         "showlegend": false,
         "subplot": "ternary",
         "text": [
          "",
          "",
          "",
          "",
          "",
          "",
          "",
          "",
          "",
          "",
          "",
          "",
          "",
          "",
          "",
          ""
         ],
         "textfont": {
          "color": "black",
          "size": 7.549838984920356
         },
         "type": "scatterternary"
        },
        {
         "a": [
          0.07508232526275987,
          0.07928523572755096,
          0.08141648537125072,
          0.08885606510423433,
          0.10547407225934345,
          0.12060270216819678,
          0.12594494085908428,
          0.12859879069432748,
          0.12732656790690447,
          0.12814070444898695,
          0.12764414012004127,
          0.12197817398818811,
          0.11336934893547487,
          0.10503339558134536,
          0.10163332789026346,
          0.09984589452824928
         ],
         "b": [
          0.9169521986403154,
          0.9119892473757756,
          0.9137486951344227,
          0.906455897446487,
          0.888404743147427,
          0.868963385115556,
          0.8509074111940427,
          0.8291920164304779,
          0.8159522717531568,
          0.8207218208188095,
          0.8496330685854335,
          0.8635894209605873,
          0.8687618239319428,
          0.8700253234172287,
          0.8657675955552244,
          0.862558232133477
         ],
         "c": [
          0.007965476096924754,
          0.008725516896673557,
          0.004834819494326587,
          0.004688037449278594,
          0.006121184593229568,
          0.010433912716247232,
          0.023147647946873056,
          0.04220919287519474,
          0.05672116033993872,
          0.05113747473220355,
          0.022722791294525178,
          0.014432405051224475,
          0.017868827132582307,
          0.024941281001425782,
          0.03259907655451223,
          0.037595873338273765
         ],
         "line": {
          "color": "silver",
          "width": 0.5
         },
         "marker": {
          "color": "silver",
          "line": {
           "color": "black",
           "width": 0
          },
          "opacity": 0.9,
          "size": 6
         },
         "mode": "lines+markers+text",
         "showlegend": false,
         "subplot": "ternary",
         "text": [
          "",
          "",
          "",
          "",
          "",
          "",
          "",
          "",
          "",
          "",
          "",
          "",
          "",
          "",
          "",
          ""
         ],
         "textfont": {
          "color": "black",
          "size": 5.801387318769522
         },
         "type": "scatterternary"
        },
        {
         "a": [
          0.200677882186994,
          0.211129502935021,
          0.21310411283009745,
          0.22925541972564223,
          0.26933777008541543,
          0.3020449223886318,
          0.3101060852781056,
          0.3178790656608811,
          0.3164688597123341,
          0.31288552510352985,
          0.29626161181324706,
          0.2775694603631728,
          0.2532249718069771,
          0.229849699797034,
          0.21993605283836692,
          0.21130366006008772
         ],
         "b": [
          0.7373527238060411,
          0.7273206336939525,
          0.7497690382588017,
          0.7375666441102179,
          0.6941196372308418,
          0.6562252111625073,
          0.6441748041677148,
          0.6312785803481512,
          0.6270743365500824,
          0.6255561879772734,
          0.6371949389567836,
          0.6512001454907999,
          0.6699853292572358,
          0.6874447263668171,
          0.6958996592198508,
          0.7061952069439088
         ],
         "c": [
          0.06196939400696485,
          0.06154986337102661,
          0.0371268489111009,
          0.033177936164139915,
          0.0365425926837428,
          0.04172986644886097,
          0.04571911055417976,
          0.050842353990967516,
          0.056456803737583466,
          0.061558286919196584,
          0.06654344922996927,
          0.07123039414602733,
          0.07678969893578703,
          0.08270557383614902,
          0.08416428794178221,
          0.08250113299600352
         ],
         "line": {
          "color": "silver",
          "width": 0.5
         },
         "marker": {
          "color": "silver",
          "line": {
           "color": "black",
           "width": 0
          },
          "opacity": 0.9,
          "size": 6
         },
         "mode": "lines+markers+text",
         "showlegend": false,
         "subplot": "ternary",
         "text": [
          "",
          "",
          "",
          "",
          "",
          "",
          "",
          "",
          "",
          "",
          "",
          "",
          "",
          "",
          "",
          ""
         ],
         "textfont": {
          "color": "black",
          "size": 7.880045182369697
         },
         "type": "scatterternary"
        },
        {
         "a": [
          0,
          0,
          0,
          0,
          0,
          0,
          0,
          0,
          0,
          0,
          0,
          0,
          0,
          0,
          0,
          0
         ],
         "b": [
          0,
          0,
          0,
          0,
          0,
          0,
          0,
          0,
          0,
          0,
          0,
          0,
          0,
          0,
          0,
          0
         ],
         "c": [
          0,
          0,
          0,
          0,
          0,
          0,
          0,
          0,
          0,
          0,
          0,
          0,
          0,
          0,
          0,
          0
         ],
         "line": {
          "color": "silver",
          "width": 0.5
         },
         "marker": {
          "color": "silver",
          "line": {
           "color": "black",
           "width": 0
          },
          "opacity": 0.9,
          "size": 6
         },
         "mode": "lines+markers+text",
         "showlegend": false,
         "subplot": "ternary",
         "text": [
          "",
          "",
          "",
          "",
          "",
          "",
          "",
          "",
          "",
          "",
          "",
          "",
          "",
          "",
          "",
          ""
         ],
         "textfont": {
          "color": "black",
          "size": 2.1064492408074993
         },
         "type": "scatterternary"
        },
        {
         "a": [
          0.2342560011714141,
          0.23545858398985928,
          0.21005531318725776,
          0.19165797218477176,
          0.16980828615618393,
          0.14411232806772545,
          0.11364910285614643,
          0.09371903694497442,
          0.08063386660819166,
          0.07397927566331093,
          0.06654486699980389,
          0.060371365909064126,
          0.05392604580965785,
          0.0501540404247484,
          0.05457159560731487,
          0.061629357980311154
         ],
         "b": [
          0.6141996064026979,
          0.616133312448209,
          0.6726996818124205,
          0.6932361358091756,
          0.7119766735433412,
          0.7252273748262672,
          0.732282868717228,
          0.739095464523673,
          0.7547605396701492,
          0.7727457566396312,
          0.7864854934852653,
          0.7900165933753087,
          0.7878304133367044,
          0.783816928923269,
          0.7784644081608787,
          0.7704578613735723
         ],
         "c": [
          0.1515443924258882,
          0.14840810356193174,
          0.11724500500032176,
          0.11510589200605253,
          0.11821504030047505,
          0.13066029710600727,
          0.15406802842662554,
          0.1671854985313525,
          0.164605593721659,
          0.15327496769705773,
          0.14696963951493094,
          0.14961204071562725,
          0.15824354085363765,
          0.16602903065198235,
          0.1669639962318064,
          0.1679127806461164
         ],
         "line": {
          "color": "silver",
          "width": 0.5
         },
         "marker": {
          "color": "silver",
          "line": {
           "color": "black",
           "width": 0
          },
          "opacity": 0.9,
          "size": 6
         },
         "mode": "lines+markers+text",
         "showlegend": false,
         "subplot": "ternary",
         "text": [
          "",
          "",
          "",
          "",
          "",
          "",
          "",
          "",
          "",
          "",
          "",
          "",
          "",
          "",
          "",
          ""
         ],
         "textfont": {
          "color": "black",
          "size": 4.500858458345789
         },
         "type": "scatterternary"
        },
        {
         "a": [
          0.6456389922686191,
          0.663423727674073,
          0.7614189039624654,
          0.7855702288831345,
          0.7994966878572054,
          0.798916909631387,
          0.7924962881865634,
          0.7824924460237018,
          0.770425860434307,
          0.7590623416551446,
          0.747310744166791,
          0.7050128379872127,
          0.6454510652800367,
          0.5816832000193276,
          0.5558002811175508,
          0.5301421945324529
         ],
         "b": [
          0.14737705370720727,
          0.14457294563853867,
          0.19348025754346143,
          0.1917796596890655,
          0.17014988608412512,
          0.15804546498362143,
          0.16244704851827846,
          0.16778154739482884,
          0.17789108405417503,
          0.18931236030534768,
          0.20677267669413615,
          0.23321988003893032,
          0.26838092259103835,
          0.30596086897862834,
          0.3245349059628226,
          0.3427313277743611
         ],
         "c": [
          0.2069839540241736,
          0.19200332668738831,
          0.045100838494073196,
          0.02265011142779985,
          0.030353426058669405,
          0.043037625384991486,
          0.045056663295158214,
          0.04972600658146943,
          0.0516830555115178,
          0.051625298039507744,
          0.045916579139072974,
          0.061767281973856974,
          0.08616801212892507,
          0.11235593100204411,
          0.1196648129196266,
          0.12712647769318616
         ],
         "line": {
          "color": "silver",
          "width": 0.5
         },
         "marker": {
          "color": "silver",
          "line": {
           "color": "black",
           "width": 0
          },
          "opacity": 0.9,
          "size": 6
         },
         "mode": "lines+markers+text",
         "showlegend": false,
         "subplot": "ternary",
         "text": [
          "",
          "",
          "",
          "",
          "",
          "",
          "",
          "",
          "",
          "",
          "",
          "",
          "",
          "",
          "",
          ""
         ],
         "textfont": {
          "color": "black",
          "size": 4.194394404761737
         },
         "type": "scatterternary"
        },
        {
         "a": [
          0,
          0,
          0,
          0,
          0,
          0,
          0,
          0,
          0,
          0,
          0,
          0,
          0,
          0,
          0,
          0
         ],
         "b": [
          0,
          0,
          0,
          0,
          0,
          0,
          0,
          0,
          0,
          0,
          0,
          0,
          0,
          0,
          0,
          0
         ],
         "c": [
          0,
          0,
          0,
          0,
          0,
          0,
          0,
          0,
          0,
          0,
          0,
          0,
          0,
          0,
          0,
          0
         ],
         "line": {
          "color": "silver",
          "width": 0.5
         },
         "marker": {
          "color": "silver",
          "line": {
           "color": "black",
           "width": 0
          },
          "opacity": 0.9,
          "size": 6
         },
         "mode": "lines+markers+text",
         "showlegend": false,
         "subplot": "ternary",
         "text": [
          "",
          "",
          "",
          "",
          "",
          "",
          "",
          "",
          "",
          "",
          "",
          "",
          "",
          "",
          "",
          ""
         ],
         "textfont": {
          "color": "black",
          "size": 5.9469104393699395
         },
         "type": "scatterternary"
        },
        {
         "a": [
          0.11466055490413063,
          0.12106679998690512,
          0.11998987154935661,
          0.13275434011989184,
          0.16274890800227193,
          0.17721308744532852,
          0.15391259248024716,
          0.13066334206441052,
          0.11671551058971816,
          0.12363838919426318,
          0.15728196265365676,
          0.1731042831827697,
          0.1571861656184621,
          0.13964568283089213,
          0.1371150804781813,
          0.14327593354611717
         ],
         "b": [
          0.8397199189373629,
          0.8327805417878301,
          0.8464205007190336,
          0.8322863935560718,
          0.7931280877214226,
          0.7503416972640693,
          0.703071792083624,
          0.6634087570489686,
          0.6502696980969856,
          0.6626473828285102,
          0.7295814713411167,
          0.7665990258757021,
          0.7717084535608595,
          0.7560892857809888,
          0.7338352902370537,
          0.7103437923236997
         ],
         "c": [
          0.04561952615850655,
          0.04615265822526477,
          0.03358962773160973,
          0.03495926632403628,
          0.0441230042763056,
          0.07244521529060222,
          0.14301561543612876,
          0.20592790088662083,
          0.23301479131329614,
          0.21371422797722667,
          0.11313656600522648,
          0.06029669094152811,
          0.07110538082067842,
          0.10426503138811907,
          0.12904962928476488,
          0.14638027413018312
         ],
         "line": {
          "color": "silver",
          "width": 0.5
         },
         "marker": {
          "color": "silver",
          "line": {
           "color": "black",
           "width": 0
          },
          "opacity": 0.9,
          "size": 6
         },
         "mode": "lines+markers+text",
         "showlegend": false,
         "subplot": "ternary",
         "text": [
          "",
          "",
          "",
          "",
          "",
          "",
          "",
          "",
          "",
          "",
          "",
          "",
          "",
          "",
          "",
          ""
         ],
         "textfont": {
          "color": "black",
          "size": 4.104657921109823
         },
         "type": "scatterternary"
        },
        {
         "a": [
          0.24222371186482278,
          0.2373250353336798,
          0.20488099790521488,
          0.20822604767093453,
          0.23199795918457083,
          0.2521977695026084,
          0.24761807982652978,
          0.2451215632970758,
          0.23547491642124901,
          0.22818940022798692,
          0.2100306546093464,
          0.19486823488316235,
          0.17935900256529907,
          0.16866492242656264,
          0.1729345127361429,
          0.1805830893985023
         ],
         "b": [
          0.6704477417164537,
          0.6806900986858399,
          0.7772135500865509,
          0.7826490342840025,
          0.7567598539503158,
          0.7342445455948967,
          0.739186457341181,
          0.7425910145712478,
          0.7530488914194816,
          0.7598981994412269,
          0.7766304378390478,
          0.7881635873594253,
          0.7979725332162133,
          0.801413261306134,
          0.7917917130860113,
          0.7783025261385318
         ],
         "c": [
          0.08732854641872355,
          0.08198486598048024,
          0.017905452008234148,
          0.009124918045062949,
          0.01124218686511348,
          0.013557684902494671,
          0.013195462832289258,
          0.012287422131676391,
          0.011476192159269386,
          0.011912400330786029,
          0.013338907551605841,
          0.01696817775741221,
          0.022668464218487554,
          0.02992181626730348,
          0.03527377417784579,
          0.04111438446296589
         ],
         "line": {
          "color": "silver",
          "width": 0.5
         },
         "marker": {
          "color": "silver",
          "line": {
           "color": "black",
           "width": 0
          },
          "opacity": 0.9,
          "size": 6
         },
         "mode": "lines+markers+text",
         "showlegend": false,
         "subplot": "ternary",
         "text": [
          "",
          "",
          "",
          "",
          "",
          "",
          "",
          "",
          "",
          "",
          "",
          "",
          "",
          "",
          "",
          ""
         ],
         "textfont": {
          "color": "black",
          "size": 8.037609255425476
         },
         "type": "scatterternary"
        },
        {
         "a": [
          0,
          0,
          0,
          0,
          0,
          0,
          0,
          0,
          0,
          0,
          0,
          0,
          0,
          0,
          0,
          0
         ],
         "b": [
          0,
          0,
          0,
          0,
          0,
          0,
          0,
          0,
          0,
          0,
          0,
          0,
          0,
          0,
          0,
          0
         ],
         "c": [
          0,
          0,
          0,
          0,
          0,
          0,
          0,
          0,
          0,
          0,
          0,
          0,
          0,
          0,
          0,
          0
         ],
         "line": {
          "color": "silver",
          "width": 0.5
         },
         "marker": {
          "color": "silver",
          "line": {
           "color": "black",
           "width": 0
          },
          "opacity": 0.9,
          "size": 6
         },
         "mode": "lines+markers+text",
         "showlegend": false,
         "subplot": "ternary",
         "text": [
          "",
          "",
          "",
          "",
          "",
          "",
          "",
          "",
          "",
          "",
          "",
          "",
          "",
          "",
          "",
          ""
         ],
         "textfont": {
          "color": "black",
          "size": 8.69015985251627
         },
         "type": "scatterternary"
        },
        {
         "a": [
          0.42696794593050436,
          0.3778172249693046,
          0.35735988408838326,
          0.3541600773267243,
          0.3323376829913818,
          0.3142733045575881,
          0.2871360290654652,
          0.27322934904045965,
          0.25389078493195216,
          0.23639642898788793,
          0.2149510828630613,
          0.19858757508514197,
          0.18089083270658016,
          0.17017547123128116,
          0.17569114190864885,
          0.18631351248047898
         ],
         "b": [
          0.4039474690680117,
          0.47479602347969035,
          0.5767853666648003,
          0.5794943136682812,
          0.5885979060642158,
          0.5980644683124519,
          0.6159742356862403,
          0.6338473316621994,
          0.6565441078482761,
          0.6744914074946823,
          0.6986610478509595,
          0.7170988083517799,
          0.7278396088656739,
          0.7265609282031397,
          0.709260286081256,
          0.6847721360438688
         ],
         "c": [
          0.16908458500148396,
          0.14738675155100492,
          0.06585474924681657,
          0.0663456090049945,
          0.07906441094440246,
          0.08766222712995998,
          0.09688973524829463,
          0.09292331929734109,
          0.08956510721977165,
          0.08911216351742987,
          0.08638786928597927,
          0.08431361656307812,
          0.09126955842774609,
          0.10326360056557927,
          0.11504857201009518,
          0.12891435147565214
         ],
         "line": {
          "color": "silver",
          "width": 0.5
         },
         "marker": {
          "color": "silver",
          "line": {
           "color": "black",
           "width": 0
          },
          "opacity": 0.9,
          "size": 6
         },
         "mode": "lines+markers+text",
         "showlegend": false,
         "subplot": "ternary",
         "text": [
          "",
          "",
          "",
          "",
          "",
          "",
          "",
          "",
          "",
          "",
          "",
          "",
          "",
          "",
          "",
          ""
         ],
         "textfont": {
          "color": "black",
          "size": 1.9463623839840514
         },
         "type": "scatterternary"
        },
        {
         "a": [
          0.220076517266874,
          0.19112215604479676,
          0.16374935217773445,
          0.1527546695302861,
          0.13740251771232198,
          0.1281937685653905,
          0.11234596359261304,
          0.10270003617197623,
          0.09178109703909815,
          0.08317750922593502,
          0.0743762199133021,
          0.0670542589241781,
          0.05962451164378102,
          0.05460994773568838,
          0.055678780305045764,
          0.05868022611059888
         ],
         "b": [
          0.6858055046923108,
          0.7193959912786383,
          0.7822041445164731,
          0.7866462124612597,
          0.7897308078498445,
          0.7901631372392818,
          0.7982111047381889,
          0.8110092176048287,
          0.82516204055686,
          0.8343360377862702,
          0.8503379114691269,
          0.8621590496045084,
          0.8680610435233085,
          0.8699593408252141,
          0.8648178344773392,
          0.8555072973204899
         ],
         "c": [
          0.09411797804081543,
          0.0894818526765649,
          0.05404650330579221,
          0.06059911800845434,
          0.07286667443783344,
          0.08164309419532784,
          0.08944293166919798,
          0.08629074622319513,
          0.08305686240404167,
          0.08248645298779496,
          0.07528586861757103,
          0.07078669147131375,
          0.07231444483291055,
          0.07543071143909767,
          0.07950338521761498,
          0.08581247656891117
         ],
         "line": {
          "color": "silver",
          "width": 0.5
         },
         "marker": {
          "color": "silver",
          "line": {
           "color": "black",
           "width": 0
          },
          "opacity": 0.9,
          "size": 6
         },
         "mode": "lines+markers+text",
         "showlegend": false,
         "subplot": "ternary",
         "text": [
          "",
          "",
          "",
          "",
          "",
          "",
          "",
          "",
          "",
          "",
          "",
          "",
          "",
          "",
          "",
          ""
         ],
         "textfont": {
          "color": "black",
          "size": 2.891270550712875
         },
         "type": "scatterternary"
        },
        {
         "a": [
          0.11752155677849394,
          0.12896039847230273,
          0.1371567508598805,
          0.15369871147962277,
          0.17942894485267508,
          0.1833886090867876,
          0.15624980369737373,
          0.13460193975610557,
          0.1243683557712312,
          0.12712788360318036,
          0.13639183606105687,
          0.1442440360320802,
          0.1368807667792348,
          0.12810460828456544,
          0.14590422130073633,
          0.16436736507752
         ],
         "b": [
          0.8679560995627025,
          0.8533863676857762,
          0.8509710994621615,
          0.8170830543885843,
          0.7478162438466877,
          0.6870802511362589,
          0.6441708207540949,
          0.620688122130191,
          0.6258619095964517,
          0.6501467943238318,
          0.6874261995122163,
          0.7146259296888632,
          0.7222287736636221,
          0.7156699661576218,
          0.7273889358415666,
          0.7351515148930168
         ],
         "c": [
          0.014522343658803522,
          0.01765323384192115,
          0.011872149677958133,
          0.029218234131792777,
          0.07275481130063727,
          0.12953113977695346,
          0.1995793755485315,
          0.2447099381137034,
          0.24976973463231694,
          0.22272532207298776,
          0.17618196442672696,
          0.14113003427905665,
          0.1408904595571431,
          0.15622542555781288,
          0.12670684285769698,
          0.10048112002946329
         ],
         "line": {
          "color": "silver",
          "width": 0.5
         },
         "marker": {
          "color": "silver",
          "line": {
           "color": "black",
           "width": 0
          },
          "opacity": 0.9,
          "size": 6
         },
         "mode": "lines+markers+text",
         "showlegend": false,
         "subplot": "ternary",
         "text": [
          "",
          "",
          "",
          "",
          "",
          "",
          "",
          "",
          "",
          "",
          "",
          "",
          "",
          "",
          "",
          ""
         ],
         "textfont": {
          "color": "black",
          "size": 2.5723407124892432
         },
         "type": "scatterternary"
        },
        {
         "a": [
          0,
          0,
          0,
          0,
          0,
          0,
          0,
          0,
          0,
          0,
          0,
          0,
          0,
          0,
          0,
          0
         ],
         "b": [
          0,
          0,
          0,
          0,
          0,
          0,
          0,
          0,
          0,
          0,
          0,
          0,
          0,
          0,
          0,
          0
         ],
         "c": [
          0,
          0,
          0,
          0,
          0,
          0,
          0,
          0,
          0,
          0,
          0,
          0,
          0,
          0,
          0,
          0
         ],
         "line": {
          "color": "silver",
          "width": 0.5
         },
         "marker": {
          "color": "silver",
          "line": {
           "color": "black",
           "width": 0
          },
          "opacity": 0.9,
          "size": 6
         },
         "mode": "lines+markers+text",
         "showlegend": false,
         "subplot": "ternary",
         "text": [
          "",
          "",
          "",
          "",
          "",
          "",
          "",
          "",
          "",
          "",
          "",
          "",
          "",
          "",
          "",
          ""
         ],
         "textfont": {
          "color": "black",
          "size": 4.060229755354225
         },
         "type": "scatterternary"
        },
        {
         "a": [
          0.12348883697280816,
          0.13240303273340465,
          0.13294738974496118,
          0.14485534647398005,
          0.1738716788058831,
          0.19908082042576675,
          0.2068541648270252,
          0.21313580640575375,
          0.2120494472280766,
          0.20853307065033885,
          0.19557945490970396,
          0.18150724533796125,
          0.16377466792023593,
          0.1475124933944652,
          0.1402798699328273,
          0.13410305976484774
         ],
         "b": [
          0.8443722916106216,
          0.8341307832212623,
          0.8448136871004804,
          0.833908969504738,
          0.8027364587629703,
          0.77434496794963,
          0.7651387596663011,
          0.7581417286077454,
          0.7591142342632647,
          0.7626416777252407,
          0.7749452344738019,
          0.7879156077209792,
          0.8035904034967909,
          0.8173310914320251,
          0.8242419718782804,
          0.8303491827756104
         ],
         "c": [
          0.032138871416570465,
          0.03346618404533314,
          0.022238923154558356,
          0.021235684021281894,
          0.02339186243114669,
          0.026574211624603272,
          0.02800707550667374,
          0.02872246498650085,
          0.028836318508658802,
          0.028825251624420456,
          0.029475310616494048,
          0.030577146941059567,
          0.0326349285829733,
          0.03515641517350972,
          0.035478158188892196,
          0.03554775745954196
         ],
         "line": {
          "color": "silver",
          "width": 0.5
         },
         "marker": {
          "color": "silver",
          "line": {
           "color": "black",
           "width": 0
          },
          "opacity": 0.9,
          "size": 6
         },
         "mode": "lines+markers+text",
         "showlegend": false,
         "subplot": "ternary",
         "text": [
          "",
          "",
          "",
          "",
          "",
          "",
          "",
          "",
          "",
          "",
          "",
          "",
          "",
          "",
          "",
          ""
         ],
         "textfont": {
          "color": "black",
          "size": 1.5679924799380105
         },
         "type": "scatterternary"
        },
        {
         "a": [
          0.3907185147674118,
          0.38794442805080537,
          0.3819363981303257,
          0.3828564105486764,
          0.38636312894052866,
          0.37998966407735646,
          0.3392707346623195,
          0.2996987105826661,
          0.266157527317033,
          0.2609541803987271,
          0.2676278356214792,
          0.2595006383918085,
          0.23017217320299696,
          0.20773542091100677,
          0.20386968118949533,
          0.21057964759885273
         ],
         "b": [
          0.4763547494594678,
          0.4895944238367244,
          0.5810143791291535,
          0.5921755003696006,
          0.5884814783510215,
          0.5903347907239188,
          0.6165410229326046,
          0.6350342443829448,
          0.6539136491958206,
          0.6653224009859762,
          0.6857276471800867,
          0.6890454237802744,
          0.7056718081119804,
          0.7101954009309858,
          0.6940796634455834,
          0.6692310219741422
         ],
         "c": [
          0.13292673577312045,
          0.1224611481124701,
          0.03704922274052078,
          0.02496808908172304,
          0.025155392708449895,
          0.0296755451987245,
          0.04418824240507584,
          0.06526704503438902,
          0.07992882348714635,
          0.07372341861529656,
          0.04664451719843409,
          0.05145393782791727,
          0.06415601868502263,
          0.08206917815800742,
          0.10205065536492128,
          0.1201893304270051
         ],
         "line": {
          "color": "silver",
          "width": 0.5
         },
         "marker": {
          "color": "silver",
          "line": {
           "color": "black",
           "width": 0
          },
          "opacity": 0.9,
          "size": 6
         },
         "mode": "lines+markers+text",
         "showlegend": false,
         "subplot": "ternary",
         "text": [
          "",
          "",
          "",
          "",
          "",
          "",
          "",
          "",
          "",
          "",
          "",
          "",
          "",
          "",
          "",
          ""
         ],
         "textfont": {
          "color": "black",
          "size": 2.570054500685708
         },
         "type": "scatterternary"
        },
        {
         "a": [
          0.08833504683958004,
          0.09387901494160736,
          0.09594127181143389,
          0.10495399529110513,
          0.12570739462320935,
          0.1449241184860423,
          0.15331678215055694,
          0.16047029356836526,
          0.1621175964820888,
          0.16124063876469993,
          0.1531458043866817,
          0.1439853511957352,
          0.1320153547090639,
          0.12076193171780877,
          0.1159061135970382,
          0.1117868900479308
         ],
         "b": [
          0.9021260792191481,
          0.8957075858711563,
          0.8998005523069869,
          0.8914195462705774,
          0.8697443751805689,
          0.849122594325729,
          0.8399729304587981,
          0.8318399961291958,
          0.8289839420880175,
          0.8280028687380029,
          0.8334585752168759,
          0.8391007294106742,
          0.8465565441071744,
          0.8514666310676137,
          0.8510482705985287,
          0.8510768018279331
         ],
         "c": [
          0.009538873941271765,
          0.010413399187236312,
          0.004258175881579258,
          0.003626458438317462,
          0.004548230196221783,
          0.005953287188228739,
          0.006710287390644963,
          0.007689710302438989,
          0.008898461429893716,
          0.010756492497297335,
          0.013395620396442277,
          0.0169139193935907,
          0.02142810118376167,
          0.02777143721457762,
          0.03304561580443303,
          0.0371363081241362
         ],
         "line": {
          "color": "silver",
          "width": 0.5
         },
         "marker": {
          "color": "silver",
          "line": {
           "color": "black",
           "width": 0
          },
          "opacity": 0.9,
          "size": 6
         },
         "mode": "lines+markers+text",
         "showlegend": false,
         "subplot": "ternary",
         "text": [
          "",
          "",
          "",
          "",
          "",
          "",
          "",
          "",
          "",
          "",
          "",
          "",
          "",
          "",
          "",
          ""
         ],
         "textfont": {
          "color": "black",
          "size": 4.671758942835564
         },
         "type": "scatterternary"
        },
        {
         "a": [
          0.4661399156427074,
          0.4503532413850635,
          0.43326010541529747,
          0.4341953346854427,
          0.41698148816397973,
          0.4039533809450864,
          0.3828403356191098,
          0.382741956810154,
          0.387296683398478,
          0.4082381143849532,
          0.41747828270887366,
          0.4322959802720796,
          0.4439814665361105,
          0.45044138737952644,
          0.4762196132121678,
          0.5018780435094966
         ],
         "b": [
          0.3910685778225972,
          0.42244847798074403,
          0.5238256682076524,
          0.5187199285531345,
          0.5189584491754089,
          0.523021487212913,
          0.5428170122534041,
          0.5495215761644224,
          0.5566206738044456,
          0.5459602593076727,
          0.5408234106874675,
          0.5234606637678325,
          0.5019075704926157,
          0.4766429949271911,
          0.4340943479565512,
          0.38755459617720894
         ],
         "c": [
          0.1427915065346953,
          0.12719828063419245,
          0.042914226377050016,
          0.04708473676142271,
          0.0640600626606114,
          0.0730251318420005,
          0.07434265212748607,
          0.06773646702542381,
          0.056082642797076455,
          0.045801626307374006,
          0.0416983066036589,
          0.04424335596008794,
          0.054110962971273886,
          0.0729156176932825,
          0.08968603883128112,
          0.1105673603132945
         ],
         "line": {
          "color": "silver",
          "width": 0.5
         },
         "marker": {
          "color": "brown",
          "line": {
           "color": "black",
           "width": 0
          },
          "opacity": 0.9,
          "size": 6
         },
         "mode": "lines+markers+text",
         "showlegend": false,
         "subplot": "ternary",
         "text": [
          "TUR",
          "",
          "",
          "",
          "",
          "",
          "",
          "",
          "",
          "",
          "",
          "",
          "",
          "",
          "",
          ""
         ],
         "textfont": {
          "color": "black",
          "size": 9.024035200789415
         },
         "type": "scatterternary"
        },
        {
         "a": [
          0.14041930908936903,
          0.15040058743984158,
          0.1483895119177001,
          0.15800484368382983,
          0.19060316094283766,
          0.21920413461944774,
          0.22849431255836888,
          0.23556866720301145,
          0.23506095553000644,
          0.2317721965172618,
          0.21785457006881243,
          0.203370435811864,
          0.18425574837375208,
          0.16701003518148644,
          0.15987892035480672,
          0.15339799331413656
         ],
         "b": [
          0.8015971737308378,
          0.7882522418291537,
          0.8058550592804448,
          0.8000507386769552,
          0.7668245473893528,
          0.7362644149415035,
          0.7258767619932057,
          0.7183634963380425,
          0.7204420655108055,
          0.7227466678889031,
          0.7352475609050411,
          0.7481084015141566,
          0.7653683511109278,
          0.7804156452370261,
          0.7871569730587913,
          0.7934477813650747
         ],
         "c": [
          0.05798351717979311,
          0.06134717073100482,
          0.04575542880185517,
          0.04194441763921484,
          0.042572291667809646,
          0.0445314504390488,
          0.04562892544842533,
          0.04606783645894594,
          0.044496978959187944,
          0.045481135593835105,
          0.0468978690261465,
          0.04852116267397944,
          0.05037590051532006,
          0.05257431958148749,
          0.05296410658640195,
          0.05315422532078873
         ],
         "line": {
          "color": "silver",
          "width": 0.5
         },
         "marker": {
          "color": "silver",
          "line": {
           "color": "black",
           "width": 0
          },
          "opacity": 0.9,
          "size": 6
         },
         "mode": "lines+markers+text",
         "showlegend": false,
         "subplot": "ternary",
         "text": [
          "",
          "",
          "",
          "",
          "",
          "",
          "",
          "",
          "",
          "",
          "",
          "",
          "",
          "",
          "",
          ""
         ],
         "textfont": {
          "color": "black",
          "size": 3.754819319110807
         },
         "type": "scatterternary"
        },
        {
         "a": [
          0.17079578852484034,
          0.16987008456992053,
          0.1465121503854608,
          0.1613625162404803,
          0.19092908711221204,
          0.22051361789217613,
          0.22674898043681335,
          0.22896245560018197,
          0.22354714517615892,
          0.22014037471349573,
          0.20479642296470682,
          0.1882044117916924,
          0.17124048456013063,
          0.1602144792689651,
          0.16215905932234226,
          0.16442332496520598
         ],
         "b": [
          0.7708001513131233,
          0.7746761255074878,
          0.8366365523092905,
          0.8276369374798096,
          0.7967895692740123,
          0.7635348948387713,
          0.7557341229335633,
          0.7537026120568082,
          0.7575245449715561,
          0.7557733656257277,
          0.7629343731691296,
          0.7665691708650814,
          0.769349521455992,
          0.7670925655778971,
          0.7560812196409404,
          0.7459589334644373
         ],
         "c": [
          0.05840406016203623,
          0.05545378992259161,
          0.016851297305248716,
          0.011000546279710104,
          0.012281343613775513,
          0.015951487269052433,
          0.017516896629623288,
          0.017334932343009847,
          0.01892830985228501,
          0.024086259660776436,
          0.03226920386616345,
          0.04522641734322637,
          0.05940999398387741,
          0.07269295515313774,
          0.08175972103671719,
          0.08961774157035664
         ],
         "line": {
          "color": "silver",
          "width": 0.5
         },
         "marker": {
          "color": "silver",
          "line": {
           "color": "black",
           "width": 0
          },
          "opacity": 0.9,
          "size": 6
         },
         "mode": "lines+markers+text",
         "showlegend": false,
         "subplot": "ternary",
         "text": [
          "",
          "",
          "",
          "",
          "",
          "",
          "",
          "",
          "",
          "",
          "",
          "",
          "",
          "",
          "",
          ""
         ],
         "textfont": {
          "color": "black",
          "size": 2.3834806319711186
         },
         "type": "scatterternary"
        },
        {
         "a": [
          0.0967161091711779,
          0.1006087706966861,
          0.10081125626108985,
          0.10821512189570248,
          0.12678277636844804,
          0.1437543608472196,
          0.15004951351363272,
          0.15512481410681234,
          0.1551129983193029,
          0.1535769190053042,
          0.14562697669562236,
          0.13715693232484377,
          0.12625368405242787,
          0.11614131869860912,
          0.11194225566666618,
          0.10829279181495248
         ],
         "b": [
          0.793140214688979,
          0.7891880991241805,
          0.7947012420332847,
          0.7887070950700925,
          0.7702150367393918,
          0.7536523022238368,
          0.7469289352100857,
          0.741331552212929,
          0.7402465104881791,
          0.740448855776798,
          0.7462143051291699,
          0.7522517649041283,
          0.7604631173069972,
          0.7679712829779948,
          0.7707939420265659,
          0.7732995254626012
         ],
         "c": [
          0.11014367613984308,
          0.1102031301791336,
          0.1044875017056254,
          0.103077783034205,
          0.10300218689216009,
          0.10259333692894336,
          0.10302155127628165,
          0.10354363368025861,
          0.10464049119251799,
          0.10597422521789782,
          0.1081587181752077,
          0.11059130277102792,
          0.11328319864057483,
          0.11588739832339603,
          0.11726380230676779,
          0.11840768272244631
         ],
         "line": {
          "color": "silver",
          "width": 0.5
         },
         "marker": {
          "color": "silver",
          "line": {
           "color": "black",
           "width": 0
          },
          "opacity": 0.9,
          "size": 6
         },
         "mode": "lines+markers+text",
         "showlegend": false,
         "subplot": "ternary",
         "text": [
          "",
          "",
          "",
          "",
          "",
          "",
          "",
          "",
          "",
          "",
          "",
          "",
          "",
          "",
          "",
          ""
         ],
         "textfont": {
          "color": "black",
          "size": 7.368375713682789
         },
         "type": "scatterternary"
        },
        {
         "a": [
          0.17507358164468234,
          0.17758577691649424,
          0.17255892243178958,
          0.1843965423779413,
          0.21948997235858192,
          0.25066535762749254,
          0.2605580734461709,
          0.2684631752928816,
          0.26721715491327847,
          0.2638319520592044,
          0.24842886381039045,
          0.23141134782942474,
          0.209750760343398,
          0.18969945928383414,
          0.18112371059427274,
          0.17388613831730684
         ],
         "b": [
          0.7520719501296027,
          0.7521572005656609,
          0.7795756669342958,
          0.771087719748367,
          0.7363155460727836,
          0.704973724978579,
          0.6949210787634457,
          0.6866545428040985,
          0.6869306251498317,
          0.6887177895439308,
          0.7013514521202783,
          0.7147579862709291,
          0.7322182554418115,
          0.7479581392388039,
          0.7547309071570218,
          0.760333103540703
         ],
         "c": [
          0.07285446822571502,
          0.07025702251784469,
          0.04786541063391474,
          0.04451573787369158,
          0.04419448156863458,
          0.04436091739392857,
          0.044520847790383344,
          0.04488228190301992,
          0.04585221993688985,
          0.04745025839686495,
          0.05021968406933129,
          0.05383066589964612,
          0.058030984214790464,
          0.0623424014773618,
          0.06414538224870525,
          0.06578075814199005
         ],
         "line": {
          "color": "silver",
          "width": 0.5
         },
         "marker": {
          "color": "silver",
          "line": {
           "color": "black",
           "width": 0
          },
          "opacity": 0.9,
          "size": 6
         },
         "mode": "lines+markers+text",
         "showlegend": false,
         "subplot": "ternary",
         "text": [
          "",
          "",
          "",
          "",
          "",
          "",
          "",
          "",
          "",
          "",
          "",
          "",
          "",
          "",
          "",
          ""
         ],
         "textfont": {
          "color": "black",
          "size": 7.224634479018678
         },
         "type": "scatterternary"
        },
        {
         "a": [
          0.23126862060924586,
          0.21030582138422016,
          0.1746437316130808,
          0.18091937615237258,
          0.22244189090742558,
          0.25673177717965406,
          0.25413866463364354,
          0.2498088633719956,
          0.24545873468208262,
          0.2436072660492679,
          0.2334270061488749,
          0.22935194763236744,
          0.22213331553726257,
          0.21665022589605176,
          0.22269646774353571,
          0.23280493765598215
         ],
         "b": [
          0.6905920778339703,
          0.7189483479201009,
          0.7962714172921697,
          0.7894636465344477,
          0.7404577388156213,
          0.6869982778843218,
          0.6390131468976711,
          0.5916058615894373,
          0.5769805726238799,
          0.5654275099950516,
          0.5665859300820456,
          0.5754398687155664,
          0.6050527520964092,
          0.6294265705400507,
          0.6400500126291998,
          0.6386090580686842
         ],
         "c": [
          0.07813930155678402,
          0.07074583069567895,
          0.029084851094749512,
          0.029616977313179717,
          0.03710037027695322,
          0.05626994493602413,
          0.10684818846868523,
          0.15858527503856717,
          0.1775606926940375,
          0.1909652239556805,
          0.19998706376907968,
          0.19520818365206605,
          0.17281393236632817,
          0.1539232035638976,
          0.13725351962726448,
          0.12858600427533362
         ],
         "line": {
          "color": "silver",
          "width": 0.5
         },
         "marker": {
          "color": "silver",
          "line": {
           "color": "black",
           "width": 0
          },
          "opacity": 0.9,
          "size": 6
         },
         "mode": "lines+markers+text",
         "showlegend": false,
         "subplot": "ternary",
         "text": [
          "",
          "",
          "",
          "",
          "",
          "",
          "",
          "",
          "",
          "",
          "",
          "",
          "",
          "",
          "",
          ""
         ],
         "textfont": {
          "color": "black",
          "size": 4.6158292404022205
         },
         "type": "scatterternary"
        },
        {
         "a": [
          0.2760416088904948,
          0.3024440365284175,
          0.2984167220642697,
          0.31171001880798677,
          0.34436247387969593,
          0.3629243793971693,
          0.35365832725714014,
          0.3470911487629277,
          0.342578499261985,
          0.34393676125017,
          0.33191544398305506,
          0.3187490797196245,
          0.29980618420628724,
          0.27913126551631406,
          0.2670075376846845,
          0.2539749134409107
         ],
         "b": [
          0.6623756821642048,
          0.6335056293483645,
          0.6782032836676317,
          0.6605062389543875,
          0.6087057216686774,
          0.5739022793796498,
          0.570393798542606,
          0.5687630111635676,
          0.5766894554599178,
          0.5843992237974444,
          0.6043763389249024,
          0.6249262012504899,
          0.6504202071842651,
          0.6734674854837561,
          0.6784598723523495,
          0.6841041942932141
         ],
         "c": [
          0.061582708945300525,
          0.06405033412321799,
          0.023379994268098458,
          0.027783742237625735,
          0.04693180445162651,
          0.0631733412231808,
          0.07594787420025399,
          0.08414584007350467,
          0.08073204527809716,
          0.07166401495238556,
          0.06370821709204254,
          0.05632471902988549,
          0.04977360860944782,
          0.04740124899992991,
          0.0545325899629661,
          0.06192089226587508
         ],
         "line": {
          "color": "silver",
          "width": 0.5
         },
         "marker": {
          "color": "silver",
          "line": {
           "color": "black",
           "width": 0
          },
          "opacity": 0.9,
          "size": 6
         },
         "mode": "lines+markers+text",
         "showlegend": false,
         "subplot": "ternary",
         "text": [
          "",
          "",
          "",
          "",
          "",
          "",
          "",
          "",
          "",
          "",
          "",
          "",
          "",
          "",
          "",
          ""
         ],
         "textfont": {
          "color": "black",
          "size": 8.40184344217884
         },
         "type": "scatterternary"
        },
        {
         "a": [
          0.7065586791968421,
          0.7092451706856584,
          0.8335267399838991,
          0.8498206672141823,
          0.8378445418263514,
          0.8265597188016781,
          0.7778393121260337,
          0.728391784219165,
          0.7105926565001057,
          0.673725324819974,
          0.6010856599762251,
          0.5703791919360344,
          0.555900840842191,
          0.5757946810585387,
          0.607720673278269,
          0.623010300647735
         ],
         "b": [
          0.06634318571072738,
          0.07610538614733482,
          0.10433326415435341,
          0.11823046866948726,
          0.12540925216534018,
          0.12573213021365523,
          0.15428579238298631,
          0.1804635127571925,
          0.1892911482393114,
          0.20708690607868643,
          0.24546548324524786,
          0.25887076561777783,
          0.2648978801183961,
          0.26853827819320253,
          0.27095503648584096,
          0.2529791450998193
         ],
         "c": [
          0.2270981350924304,
          0.2146494431670068,
          0.06213999586174751,
          0.031948864116330446,
          0.03674620600830832,
          0.04770815098466667,
          0.06787489549097984,
          0.09114470302364262,
          0.10011619526058275,
          0.11918776910133949,
          0.15344885677852702,
          0.17075004244618783,
          0.1792012790394129,
          0.15566704074825882,
          0.12132429023589016,
          0.1240105542524457
         ],
         "line": {
          "color": "silver",
          "width": 0.5
         },
         "marker": {
          "color": "plum",
          "line": {
           "color": "black",
           "width": 0
          },
          "opacity": 0.9,
          "size": 6
         },
         "mode": "lines+markers+text",
         "showlegend": false,
         "subplot": "ternary",
         "text": [
          "USA",
          "",
          "",
          "",
          "",
          "",
          "",
          "",
          "",
          "",
          "",
          "",
          "",
          "",
          "",
          ""
         ],
         "textfont": {
          "color": "black",
          "size": 15.170331477987979
         },
         "type": "scatterternary"
        },
        {
         "a": [
          0,
          0,
          0,
          0,
          0,
          0,
          0,
          0,
          0,
          0,
          0,
          0,
          0,
          0,
          0,
          0
         ],
         "b": [
          0,
          0,
          0,
          0,
          0,
          0,
          0,
          0,
          0,
          0,
          0,
          0,
          0,
          0,
          0,
          0
         ],
         "c": [
          0,
          0,
          0,
          0,
          0,
          0,
          0,
          0,
          0,
          0,
          0,
          0,
          0,
          0,
          0,
          0
         ],
         "line": {
          "color": "silver",
          "width": 0.5
         },
         "marker": {
          "color": "silver",
          "line": {
           "color": "black",
           "width": 0
          },
          "opacity": 0.9,
          "size": 6
         },
         "mode": "lines+markers+text",
         "showlegend": false,
         "subplot": "ternary",
         "text": [
          "",
          "",
          "",
          "",
          "",
          "",
          "",
          "",
          "",
          "",
          "",
          "",
          "",
          "",
          "",
          ""
         ],
         "textfont": {
          "color": "black",
          "size": 3.2640604959491837
         },
         "type": "scatterternary"
        },
        {
         "a": [
          0.10577103268174648,
          0.10915078240298304,
          0.106955084555066,
          0.11479962746886335,
          0.13665172579793478,
          0.15587790931930917,
          0.16235628889841772,
          0.16710510060957592,
          0.16598487740959553,
          0.16349503528113601,
          0.15475151787126115,
          0.14543215205853632,
          0.135156408713081,
          0.12686949108157491,
          0.1242480547813174,
          0.121352473576602
         ],
         "b": [
          0.8503571521492592,
          0.8472020621897808,
          0.8588397231751875,
          0.8517488982277024,
          0.8278914560728147,
          0.8059207266046093,
          0.7967629637599872,
          0.7885081766860481,
          0.7853418208315427,
          0.7849229947405935,
          0.7913776260369784,
          0.7987649822908699,
          0.8103306812174011,
          0.8174792099550288,
          0.8139807021362739,
          0.8083911300685117
         ],
         "c": [
          0.04387181516899438,
          0.04364715540723617,
          0.03420519226974637,
          0.03345147430343419,
          0.03545681812925062,
          0.038201364076081414,
          0.040880747341595074,
          0.04438672270437587,
          0.0486733017588616,
          0.05158196997827059,
          0.053870856091760615,
          0.055802865650593725,
          0.05451291006951796,
          0.055651298963396316,
          0.06177124308240865,
          0.07025639635488616
         ],
         "line": {
          "color": "silver",
          "width": 0.5
         },
         "marker": {
          "color": "silver",
          "line": {
           "color": "black",
           "width": 0
          },
          "opacity": 0.9,
          "size": 6
         },
         "mode": "lines+markers+text",
         "showlegend": false,
         "subplot": "ternary",
         "text": [
          "",
          "",
          "",
          "",
          "",
          "",
          "",
          "",
          "",
          "",
          "",
          "",
          "",
          "",
          "",
          ""
         ],
         "textfont": {
          "color": "black",
          "size": 6.404591791079156
         },
         "type": "scatterternary"
        },
        {
         "a": [
          0.05580767469516837,
          0.05705850906512293,
          0.057754977214893026,
          0.061035145925188924,
          0.0688325180581772,
          0.07605283323426619,
          0.07898594345213644,
          0.08133677778528177,
          0.08173743366749613,
          0.08149528594429284,
          0.0785540025924513,
          0.07527595134872009,
          0.07085843475571826,
          0.06662372403171479,
          0.06459784189507656,
          0.06264836309239642
         ],
         "b": [
          0.9100351179844108,
          0.9088126747853936,
          0.9096911198151965,
          0.9065115274577656,
          0.8979067180740469,
          0.889675851455573,
          0.8858161200219707,
          0.8825624818726477,
          0.881588382727862,
          0.8816484710650165,
          0.8844914342643329,
          0.8877936384908292,
          0.8922799204560204,
          0.8966189986004593,
          0.8991128149655602,
          0.9015012734484961
         ],
         "c": [
          0.03415720732042084,
          0.03412881614948351,
          0.0325539029699105,
          0.032453326617045294,
          0.033260763867775836,
          0.034271315310160665,
          0.03519793652589291,
          0.03610074034207052,
          0.03667418360464194,
          0.036856242990690666,
          0.036954563143215866,
          0.036930410160450934,
          0.036861644788261226,
          0.03675727736782589,
          0.03628934313936334,
          0.03585036345910738
         ],
         "line": {
          "color": "silver",
          "width": 0.5
         },
         "marker": {
          "color": "silver",
          "line": {
           "color": "black",
           "width": 0
          },
          "opacity": 0.9,
          "size": 6
         },
         "mode": "lines+markers+text",
         "showlegend": false,
         "subplot": "ternary",
         "text": [
          "",
          "",
          "",
          "",
          "",
          "",
          "",
          "",
          "",
          "",
          "",
          "",
          "",
          "",
          "",
          ""
         ],
         "textfont": {
          "color": "black",
          "size": 1.8478363173548327
         },
         "type": "scatterternary"
        },
        {
         "a": [
          0.09659368377933253,
          0.08443421386986587,
          0.07725914850918522,
          0.08772507504538714,
          0.10841541574679438,
          0.1298009019516719,
          0.13567068813315622,
          0.14019784805682875,
          0.13882332089411095,
          0.13684120106635592,
          0.12604923509786792,
          0.11536394876279078,
          0.10062862090306889,
          0.08592338333621258,
          0.07804928077829267,
          0.07226343161084303
         ],
         "b": [
          0.8409721548281587,
          0.8777107926352871,
          0.9025649445026894,
          0.8923067233230606,
          0.870692320663435,
          0.8521614157170991,
          0.8470973744927938,
          0.8378912378639383,
          0.8375877624771183,
          0.8401546519301054,
          0.8554916891090679,
          0.8695673816332566,
          0.8843345435265041,
          0.8963416180303905,
          0.9024739442896417,
          0.9082218314471179
         ],
         "c": [
          0.06243416139250886,
          0.03785499349484704,
          0.02017590698812543,
          0.01996820163155231,
          0.020892263589770487,
          0.018037682331228932,
          0.017231937374050023,
          0.02191091407923288,
          0.02358891662877074,
          0.023004147003538578,
          0.018459075793064102,
          0.01506866960395247,
          0.015036835570427086,
          0.017734998633396948,
          0.019476774932065722,
          0.019514736942039146
         ],
         "line": {
          "color": "silver",
          "width": 0.5
         },
         "marker": {
          "color": "silver",
          "line": {
           "color": "black",
           "width": 0
          },
          "opacity": 0.9,
          "size": 6
         },
         "mode": "lines+markers+text",
         "showlegend": false,
         "subplot": "ternary",
         "text": [
          "",
          "",
          "",
          "",
          "",
          "",
          "",
          "",
          "",
          "",
          "",
          "",
          "",
          "",
          "",
          ""
         ],
         "textfont": {
          "color": "black",
          "size": 6.616218733080437
         },
         "type": "scatterternary"
        },
        {
         "a": [
          0.4483043074453776,
          0.44721581431766877,
          0.42795257799948594,
          0.43458504181847374,
          0.4853989543193772,
          0.5225297379147547,
          0.5180945805089783,
          0.5218169908783177,
          0.5116035846832503,
          0.4956081520368754,
          0.4621320348758129,
          0.4255541625895851,
          0.381032263645994,
          0.3427579121332393,
          0.32867770463151846,
          0.31910024215680327
         ],
         "b": [
          0.3943145109586963,
          0.39757123060811406,
          0.5207376445378166,
          0.5255076818426564,
          0.4600514115345535,
          0.41248834018229924,
          0.41072590014856997,
          0.41181390309577526,
          0.4264991240586096,
          0.4423561816300055,
          0.4770940019866995,
          0.5113211222354489,
          0.54812975016958,
          0.5790575197870984,
          0.5926997702514276,
          0.6012896584704176
         ],
         "c": [
          0.15738118159592607,
          0.15521295507421723,
          0.0513097774626977,
          0.03990727633886996,
          0.054549634146069455,
          0.06498192190294606,
          0.07117951934245172,
          0.06636910602590713,
          0.061897291258140044,
          0.06203566633311903,
          0.06077396313748743,
          0.06312471517496614,
          0.07083798618442609,
          0.07818456807966222,
          0.07862252511705389,
          0.0796100993727791
         ],
         "line": {
          "color": "silver",
          "width": 0.5
         },
         "marker": {
          "color": "silver",
          "line": {
           "color": "black",
           "width": 0
          },
          "opacity": 0.9,
          "size": 6
         },
         "mode": "lines+markers+text",
         "showlegend": false,
         "subplot": "ternary",
         "text": [
          "",
          "",
          "",
          "",
          "",
          "",
          "",
          "",
          "",
          "",
          "",
          "",
          "",
          "",
          "",
          ""
         ],
         "textfont": {
          "color": "black",
          "size": 9.60237385773012
         },
         "type": "scatterternary"
        },
        {
         "a": [
          0.34669366266331386,
          0.311084022608763,
          0.27536895578152787,
          0.25828146973449806,
          0.24631200346146917,
          0.2399198176353043,
          0.21718637629462872,
          0.2022051822657412,
          0.18308874177009563,
          0.1668516527929279,
          0.14748564831839345,
          0.12838168541509026,
          0.11201686451846639,
          0.10060767415217788,
          0.09901282644300527,
          0.10008102500867641
         ],
         "b": [
          0.5227222197848135,
          0.5715617036740226,
          0.6779926450468137,
          0.6958470875832947,
          0.6952804468534568,
          0.6942673308452565,
          0.7108168757516872,
          0.7307359592053104,
          0.7538269531485536,
          0.7707503918429743,
          0.7948435257472698,
          0.8138253541777116,
          0.8252696832356605,
          0.8293239000377016,
          0.8243630813697924,
          0.8167907692258374
         ],
         "c": [
          0.13058411755187266,
          0.11735427371721449,
          0.04663839917165858,
          0.04587144268220709,
          0.05840754968507398,
          0.0658128515194393,
          0.0719967479536841,
          0.06705885852894841,
          0.0630843050813507,
          0.06239795536409785,
          0.05767082593433659,
          0.05779296040719805,
          0.06271345224587287,
          0.07006842581012054,
          0.07662409218720234,
          0.08312820576548632
         ],
         "line": {
          "color": "silver",
          "width": 0.5
         },
         "marker": {
          "color": "silver",
          "line": {
           "color": "black",
           "width": 0
          },
          "opacity": 0.9,
          "size": 6
         },
         "mode": "lines+markers+text",
         "showlegend": false,
         "subplot": "ternary",
         "text": [
          "",
          "",
          "",
          "",
          "",
          "",
          "",
          "",
          "",
          "",
          "",
          "",
          "",
          "",
          "",
          ""
         ],
         "textfont": {
          "color": "black",
          "size": 6.532261977436851
         },
         "type": "scatterternary"
        },
        {
         "a": [
          0.26319008899631574,
          0.26754900404026527,
          0.21678112671628402,
          0.2108344139556716,
          0.23226910694561026,
          0.25998854618087797,
          0.2671587698961677,
          0.2691222336666287,
          0.26533335768535327,
          0.2693185291154499,
          0.26191395422217134,
          0.2505047342068531,
          0.23877181828775268,
          0.23438567328726498,
          0.2546677356859619,
          0.28332920294908676
         ],
         "b": [
          0.6518714605589742,
          0.6429738028647756,
          0.7467804312203598,
          0.7663794116120748,
          0.7495130421991391,
          0.7217256492489307,
          0.7153492873306194,
          0.7129529388975667,
          0.7163984455004256,
          0.7065690151629145,
          0.7034761118250628,
          0.6970556958351907,
          0.6888478735158006,
          0.6756504078810152,
          0.6384507636563719,
          0.5897267797129228
         ],
         "c": [
          0.08493845044471017,
          0.08947719309495906,
          0.03643844206335617,
          0.022786174432253593,
          0.018217850855250756,
          0.018285804570191265,
          0.017491942773212893,
          0.01792482743580456,
          0.018268196814221174,
          0.024112455721635614,
          0.034609933952765945,
          0.05243956995795636,
          0.07238030819644682,
          0.08996391883171984,
          0.106881500657666,
          0.12694401733799052
         ],
         "line": {
          "color": "silver",
          "width": 0.5
         },
         "marker": {
          "color": "silver",
          "line": {
           "color": "black",
           "width": 0
          },
          "opacity": 0.9,
          "size": 6
         },
         "mode": "lines+markers+text",
         "showlegend": false,
         "subplot": "ternary",
         "text": [
          "",
          "",
          "",
          "",
          "",
          "",
          "",
          "",
          "",
          "",
          "",
          "",
          "",
          "",
          "",
          ""
         ],
         "textfont": {
          "color": "black",
          "size": 5.293637207954614
         },
         "type": "scatterternary"
        },
        {
         "a": [
          0,
          0,
          0,
          0,
          0,
          0,
          0,
          0,
          0,
          0,
          0,
          0,
          0,
          0,
          0,
          0
         ],
         "b": [
          0,
          0,
          0,
          0,
          0,
          0,
          0,
          0,
          0,
          0,
          0,
          0,
          0,
          0,
          0,
          0
         ],
         "c": [
          0,
          0,
          0,
          0,
          0,
          0,
          0,
          0,
          0,
          0,
          0,
          0,
          0,
          0,
          0,
          0
         ],
         "line": {
          "color": "silver",
          "width": 0.5
         },
         "marker": {
          "color": "silver",
          "line": {
           "color": "black",
           "width": 0
          },
          "opacity": 0.9,
          "size": 6
         },
         "mode": "lines+markers+text",
         "showlegend": false,
         "subplot": "ternary",
         "text": [
          "",
          "",
          "",
          "",
          "",
          "",
          "",
          "",
          "",
          "",
          "",
          "",
          "",
          "",
          "",
          ""
         ],
         "textfont": {
          "color": "black",
          "size": 4.868563791401602
         },
         "type": "scatterternary"
        },
        {
         "a": [
          0.7065586791968421,
          0.7092451706856584,
          0.8335267399838991,
          0.8498206672141823,
          0.8378445418263514,
          0.8265597188016781,
          0.7778393121260337,
          0.728391784219165,
          0.7105926565001057,
          0.673725324819974,
          0.6010856599762251,
          0.5703791919360344,
          0.555900840842191,
          0.5757946810585387,
          0.607720673278269,
          0.623010300647735
         ],
         "b": [
          0.06634318571072738,
          0.07610538614733482,
          0.10433326415435341,
          0.11823046866948726,
          0.12540925216534018,
          0.12573213021365523,
          0.15428579238298631,
          0.1804635127571925,
          0.1892911482393114,
          0.20708690607868643,
          0.24546548324524786,
          0.25887076561777783,
          0.2648978801183961,
          0.26853827819320253,
          0.27095503648584096,
          0.2529791450998193
         ],
         "c": [
          0.2270981350924304,
          0.2146494431670068,
          0.06213999586174751,
          0.031948864116330446,
          0.03674620600830832,
          0.04770815098466667,
          0.06787489549097984,
          0.09114470302364262,
          0.10011619526058275,
          0.11918776910133949,
          0.15344885677852702,
          0.17075004244618783,
          0.1792012790394129,
          0.15566704074825882,
          0.12132429023589016,
          0.1240105542524457
         ],
         "line": {
          "color": "plum",
          "width": 3
         },
         "marker": {
          "color": "plum",
          "line": {
           "color": "white",
           "width": 0.5
          },
          "opacity": 0.9,
          "size": [
           38.008795547171154,
           15,
           15,
           15,
           15,
           15,
           15,
           15,
           15,
           15,
           15,
           15,
           15,
           15,
           15,
           15
          ]
         },
         "mode": "lines+markers+text",
         "showlegend": false,
         "subplot": "ternary",
         "text": [
          "USA",
          "",
          "",
          "",
          "",
          "",
          "",
          "",
          "",
          "",
          "",
          "",
          "",
          "",
          "",
          ""
         ],
         "textfont": {
          "color": "black",
          "size": 18.17033147798798
         },
         "type": "scatterternary"
        },
        {
         "a": [
          0.38392754546126157,
          0.4672379646140522,
          0.5523635306811355,
          0.6304678218246237,
          0.7003660447716301,
          0.7661025186163684,
          0.7942442352646706,
          0.8013682675193959,
          0.7898821564561636,
          0.7960061772346743,
          0.7724663964157005,
          0.740663099472319,
          0.6973469631503597,
          0.6475769710998514,
          0.6208533975396406,
          0.5968504843540694
         ],
         "b": [
          0.48832627579793514,
          0.3831221132081406,
          0.393045157174753,
          0.33485369690704236,
          0.26163414825277553,
          0.19110846164410517,
          0.16160939050841916,
          0.1493146220176189,
          0.15616965197996244,
          0.1594473662950009,
          0.178169529785355,
          0.19669411681008497,
          0.2197475324990825,
          0.24368746469658747,
          0.2592275627925745,
          0.2752815570851991
         ],
         "c": [
          0.12774617874080338,
          0.1496399221778072,
          0.054591312144111614,
          0.03467848126833396,
          0.037999806975594456,
          0.04278901973952655,
          0.04414637422691019,
          0.049317110462985085,
          0.053948191563874065,
          0.04454645647032488,
          0.049364073798944454,
          0.06264278371759605,
          0.0829055043505579,
          0.10873556420356109,
          0.11991903966778489,
          0.12786795856073158
         ],
         "line": {
          "color": "tomato",
          "width": 3
         },
         "marker": {
          "color": "tomato",
          "line": {
           "color": "white",
           "width": 0.5
          },
          "opacity": 0.9,
          "size": [
           63.846516636674586,
           15,
           15,
           15,
           15,
           15,
           15,
           15,
           15,
           15,
           15,
           15,
           15,
           15,
           15,
           15
          ]
         },
         "mode": "lines+markers+text",
         "showlegend": false,
         "subplot": "ternary",
         "text": [
          "CHN",
          "",
          "",
          "",
          "",
          "",
          "",
          "",
          "",
          "",
          "",
          "",
          "",
          "",
          "",
          ""
         ],
         "textfont": {
          "color": "black",
          "size": 28.93604859861441
         },
         "type": "scatterternary"
        },
        {
         "a": [
          0.26206401540749436,
          0.2743073221142495,
          0.2352763162607157,
          0.23659861143225544,
          0.28108255496034795,
          0.3191920870174293,
          0.3225901446392759,
          0.322157385871806,
          0.30653313635758134,
          0.2885545813956444,
          0.25560772628287876,
          0.22260717683365333,
          0.18793027916992078,
          0.1590278827561409,
          0.14699546907320257,
          0.13783369815657864
         ],
         "b": [
          0.6545176893946268,
          0.6431040494210788,
          0.7497178052473543,
          0.7564795494432991,
          0.7095856080484634,
          0.6697606641337783,
          0.6683535979624665,
          0.6697200096933846,
          0.6850597097884833,
          0.701848064602225,
          0.732725590742969,
          0.7618976371536513,
          0.7915176998831784,
          0.814384522680565,
          0.8234121093158976,
          0.8293483072677645
         ],
         "c": [
          0.08341829519787886,
          0.08258862846467169,
          0.015005878491930004,
          0.006921839124445342,
          0.009331836991188617,
          0.011047248848792343,
          0.009056257398257491,
          0.008122604434809482,
          0.008407153853935307,
          0.009597354002130567,
          0.011666682974152371,
          0.01549518601269504,
          0.020552020946900756,
          0.02658759456329405,
          0.02959242161089968,
          0.03281799457565672
         ],
         "line": {
          "color": "goldenrod",
          "width": 3
         },
         "marker": {
          "color": "goldenrod",
          "line": {
           "color": "white",
           "width": 0.5
          },
          "opacity": 0.9,
          "size": [
           32.22835617503513,
           15,
           15,
           15,
           15,
           15,
           15,
           15,
           15,
           15,
           15,
           15,
           15,
           15,
           15,
           15
          ]
         },
         "mode": "lines+markers+text",
         "showlegend": false,
         "subplot": "ternary",
         "text": [
          "BRA",
          "",
          "",
          "",
          "",
          "",
          "",
          "",
          "",
          "",
          "",
          "",
          "",
          "",
          "",
          ""
         ],
         "textfont": {
          "color": "black",
          "size": 15.761815072931304
         },
         "type": "scatterternary"
        },
        {
         "a": [
          0.08921277557186165,
          0.09323951892726887,
          0.09348243053532701,
          0.09834074258885706,
          0.10386334285215709,
          0.0834746140109596,
          0.04738834124981408,
          0.033621030697137066,
          0.03053100828616177,
          0.03706694739262377,
          0.06786676507530207,
          0.10269071029747506,
          0.0906064576106432,
          0.07473832539327835,
          0.07368703633753264,
          0.08524992812700105
         ],
         "b": [
          0.8467521994610971,
          0.8383946594190422,
          0.8413400933051969,
          0.8184994933188775,
          0.7737552516142769,
          0.6956915593168896,
          0.5998952538179331,
          0.561801098837383,
          0.5577771557215971,
          0.5733705707537307,
          0.6825869774746907,
          0.7778899625695186,
          0.7608179688263641,
          0.6831157108054617,
          0.6394085450004718,
          0.6078500156867294
         ],
         "c": [
          0.06403502496704118,
          0.06836582165368878,
          0.06517747615947597,
          0.08315976409226547,
          0.12238140553356591,
          0.22083382667215065,
          0.3527164049322529,
          0.4045778704654798,
          0.41169183599224113,
          0.38956248185364545,
          0.24954625745000739,
          0.11941932713300643,
          0.14857557356299259,
          0.24214596380125994,
          0.28690441866199556,
          0.30690005618626975
         ],
         "line": {
          "color": "steelblue",
          "width": 3
         },
         "marker": {
          "color": "steelblue",
          "line": {
           "color": "white",
           "width": 0.5
          },
          "opacity": 0.9,
          "size": [
           20.46975119263773,
           15,
           15,
           15,
           15,
           15,
           15,
           15,
           15,
           15,
           15,
           15,
           15,
           15,
           15,
           15
          ]
         },
         "mode": "lines+markers+text",
         "showlegend": false,
         "subplot": "ternary",
         "text": [
          "ZAF",
          "",
          "",
          "",
          "",
          "",
          "",
          "",
          "",
          "",
          "",
          "",
          "",
          "",
          "",
          ""
         ],
         "textfont": {
          "color": "black",
          "size": 10.862396330265721
         },
         "type": "scatterternary"
        },
        {
         "a": [
          0,
          0,
          0,
          0,
          0,
          0,
          0,
          0,
          0,
          0,
          0,
          0,
          0,
          0,
          0,
          0
         ],
         "b": [
          0,
          0,
          0,
          0,
          0,
          0,
          0,
          0,
          0,
          0,
          0,
          0,
          0,
          0,
          0,
          0
         ],
         "c": [
          0,
          0,
          0,
          0,
          0,
          0,
          0,
          0,
          0,
          0,
          0,
          0,
          0,
          0,
          0,
          0
         ],
         "line": {
          "color": "forestgreen",
          "width": 3
         },
         "marker": {
          "color": "forestgreen",
          "line": {
           "color": "white",
           "width": 0.5
          },
          "opacity": 0.9,
          "size": [
           64,
           15,
           15,
           15,
           15,
           15,
           15,
           15,
           15,
           15,
           15,
           15,
           15,
           15,
           15,
           15
          ]
         },
         "mode": "lines+markers+text",
         "showlegend": false,
         "subplot": "ternary",
         "text": [
          "IND",
          "",
          "",
          "",
          "",
          "",
          "",
          "",
          "",
          "",
          "",
          "",
          "",
          "",
          "",
          ""
         ],
         "textfont": {
          "color": "black",
          "size": 29
         },
         "type": "scatterternary"
        },
        {
         "a": [
          0.10970606976324121,
          0.11738286009065427,
          0.1201740653505849,
          0.13369241573008042,
          0.16427674395640476,
          0.19131175962326732,
          0.20136742995927126,
          0.20838360532641645,
          0.20815786320003926,
          0.20604763842105836,
          0.19539265459008656,
          0.18338869792902035,
          0.16739659589121259,
          0.15349524151848706,
          0.1489339300583749,
          0.14447199903127056
         ],
         "b": [
          0.8762936228897168,
          0.8677627664037312,
          0.8758161216135981,
          0.8629644793343844,
          0.8297224775335142,
          0.7984111562021297,
          0.7834756399953172,
          0.770796346545779,
          0.7680225446790869,
          0.7699860355046901,
          0.7812434543648379,
          0.7916137697377646,
          0.8032545876954915,
          0.8132968412003565,
          0.8165009082887119,
          0.8201040059912172
         ],
         "c": [
          0.01400030734704188,
          0.014854373505614487,
          0.004009813035816814,
          0.003343104935535372,
          0.006000778510080987,
          0.010277084174602859,
          0.015156930045411387,
          0.020820048127804466,
          0.02381959212087368,
          0.023966326074251417,
          0.023363891045075427,
          0.024997532333215115,
          0.029348816413295765,
          0.033207917281156414,
          0.03456516165291317,
          0.03542399497751214
         ],
         "line": {
          "color": "lightgreen",
          "width": 3
         },
         "marker": {
          "color": "lightgreen",
          "line": {
           "color": "white",
           "width": 0.5
          },
          "opacity": 0.9,
          "size": [
           26.992418976767805,
           15,
           15,
           15,
           15,
           15,
           15,
           15,
           15,
           15,
           15,
           15,
           15,
           15,
           15,
           15
          ]
         },
         "mode": "lines+markers+text",
         "showlegend": false,
         "subplot": "ternary",
         "text": [
          "MEX",
          "",
          "",
          "",
          "",
          "",
          "",
          "",
          "",
          "",
          "",
          "",
          "",
          "",
          "",
          ""
         ],
         "textfont": {
          "color": "black",
          "size": 13.580174573653252
         },
         "type": "scatterternary"
        },
        {
         "a": [
          0.2677879801957184,
          0.23219343293122988,
          0.20371217562187174,
          0.19210742494989347,
          0.17346253984970963,
          0.16220091344019172,
          0.14387986814720416,
          0.13352300766312888,
          0.12118657357313334,
          0.11192616771968003,
          0.10228263727099265,
          0.09394427418214803,
          0.08510294849481626,
          0.07950639648845065,
          0.08247588200282778,
          0.08825214405265688
         ],
         "b": [
          0.6225132512666566,
          0.6672518135012904,
          0.741620317113969,
          0.7481065832301256,
          0.753272383466901,
          0.7548234097877736,
          0.7642375167397228,
          0.7780517019936415,
          0.7943907044785312,
          0.8046198525281517,
          0.8215441940293887,
          0.83387613312822,
          0.8402528030923953,
          0.8411837307822185,
          0.8325185920066346,
          0.8189835708509943
         ],
         "c": [
          0.1096987685376251,
          0.10055475356747953,
          0.05466750726415933,
          0.05978599181998106,
          0.07326507668338951,
          0.08297567677203462,
          0.09188261511307298,
          0.08842529034322971,
          0.08442272194833547,
          0.08345397975216821,
          0.07617316869961861,
          0.07217959268963196,
          0.07464424841278863,
          0.07930987272933068,
          0.08500552599053762,
          0.09276428509634875
         ],
         "line": {
          "color": "dodgerblue",
          "width": 3
         },
         "marker": {
          "color": "dodgerblue",
          "line": {
           "color": "white",
           "width": 0.5
          },
          "opacity": 0.9,
          "size": [
           23.342789059810908,
           15,
           15,
           15,
           15,
           15,
           15,
           15,
           15,
           15,
           15,
           15,
           15,
           15,
           15,
           15
          ]
         },
         "mode": "lines+markers+text",
         "showlegend": false,
         "subplot": "ternary",
         "text": [
          "DEU",
          "",
          "",
          "",
          "",
          "",
          "",
          "",
          "",
          "",
          "",
          "",
          "",
          "",
          "",
          ""
         ],
         "textfont": {
          "color": "black",
          "size": 12.05949544158788
         },
         "type": "scatterternary"
        },
        {
         "a": [
          0.4661399156427074,
          0.4503532413850635,
          0.43326010541529747,
          0.4341953346854427,
          0.41698148816397973,
          0.4039533809450864,
          0.3828403356191098,
          0.382741956810154,
          0.387296683398478,
          0.4082381143849532,
          0.41747828270887366,
          0.4322959802720796,
          0.4439814665361105,
          0.45044138737952644,
          0.4762196132121678,
          0.5018780435094966
         ],
         "b": [
          0.3910685778225972,
          0.42244847798074403,
          0.5238256682076524,
          0.5187199285531345,
          0.5189584491754089,
          0.523021487212913,
          0.5428170122534041,
          0.5495215761644224,
          0.5566206738044456,
          0.5459602593076727,
          0.5408234106874675,
          0.5234606637678325,
          0.5019075704926157,
          0.4766429949271911,
          0.4340943479565512,
          0.38755459617720894
         ],
         "c": [
          0.1427915065346953,
          0.12719828063419245,
          0.042914226377050016,
          0.04708473676142271,
          0.0640600626606114,
          0.0730251318420005,
          0.07434265212748607,
          0.06773646702542381,
          0.056082642797076455,
          0.045801626307374006,
          0.0416983066036589,
          0.04424335596008794,
          0.054110962971273886,
          0.0729156176932825,
          0.08968603883128112,
          0.1105673603132945
         ],
         "line": {
          "color": "brown",
          "width": 3
         },
         "marker": {
          "color": "brown",
          "line": {
           "color": "white",
           "width": 0.5
          },
          "opacity": 0.9,
          "size": [
           23.257684481894593,
           15,
           15,
           15,
           15,
           15,
           15,
           15,
           15,
           15,
           15,
           15,
           15,
           15,
           15,
           15
          ]
         },
         "mode": "lines+markers+text",
         "showlegend": false,
         "subplot": "ternary",
         "text": [
          "TUR",
          "",
          "",
          "",
          "",
          "",
          "",
          "",
          "",
          "",
          "",
          "",
          "",
          "",
          "",
          ""
         ],
         "textfont": {
          "color": "black",
          "size": 12.024035200789415
         },
         "type": "scatterternary"
        }
       ],
       "layout": {
        "annotations": [
         {
          "align": "left",
          "ax": 0,
          "ay": 0,
          "font": {
           "color": "black",
           "size": 24
          },
          "showarrow": false,
          "text": "<b>(a) Factors influencing<br>   fair emissions allocations</b>",
          "x": 0,
          "xref": "paper",
          "y": 0.98,
          "yref": "paper"
         },
         {
          "align": "left",
          "ax": 0,
          "ay": 0,
          "font": {
           "color": "black",
           "size": 18
          },
          "showarrow": false,
          "text": "<b>(b) United States</b>",
          "x": 0.99,
          "xref": "paper",
          "y": 1.005,
          "yref": "paper"
         },
         {
          "align": "left",
          "ax": 0,
          "ay": 0,
          "font": {
           "color": "black",
           "size": 18
          },
          "showarrow": false,
          "text": "<b>(c) China</b>",
          "x": 0.98,
          "xref": "paper",
          "y": 0.67,
          "yref": "paper"
         },
         {
          "align": "left",
          "ax": 0,
          "ay": 0,
          "font": {
           "color": "black",
           "size": 18
          },
          "showarrow": false,
          "text": "<b>(d) India</b>",
          "x": 1,
          "xref": "paper",
          "y": 0.315,
          "yref": "paper"
         },
         {
          "font": {
           "color": "black",
           "size": 25
          },
          "showarrow": false,
          "text": "Normative",
          "x": 0.28,
          "xref": "paper",
          "y": 1.1,
          "yref": "paper"
         },
         {
          "font": {
           "color": "darkgray",
           "size": 16
          },
          "showarrow": false,
          "text": "allocation method, parameters",
          "x": 0.25,
          "xref": "paper",
          "y": 1.07,
          "yref": "paper"
         },
         {
          "font": {
           "color": "black",
           "size": 25
          },
          "showarrow": false,
          "text": "Climatological",
          "x": -0.13,
          "xref": "paper",
          "y": 0,
          "yref": "paper"
         },
         {
          "font": {
           "color": "darkgray",
           "size": 16
          },
          "showarrow": false,
          "text": "temperature targets,<br>climate sensitivity ",
          "x": -0.125,
          "xref": "paper",
          "y": -0.05,
          "yref": "paper"
         },
         {
          "font": {
           "color": "black",
           "size": 25
          },
          "showarrow": false,
          "text": "Technological,<br>socio-economic",
          "x": 0.83,
          "xref": "paper",
          "y": 0,
          "yref": "paper"
         },
         {
          "font": {
           "color": "darkgray",
           "size": 16
          },
          "showarrow": false,
          "text": "scenario, non-CO2,<br>negative emissions, policy",
          "x": 0.84,
          "xref": "paper",
          "y": -0.05,
          "yref": "paper"
         }
        ],
        "geo": {
         "lakecolor": "rgb(255, 255, 255)",
         "projection": {
          "type": "natural earth"
         },
         "resolution": 110,
         "showcoastlines": false,
         "showlakes": true,
         "visible": false
        },
        "height": 900,
        "legend": {
         "font": {
          "color": "black",
          "size": 15
         },
         "x": 0.08,
         "xanchor": "left",
         "y": 0.29,
         "yanchor": "top"
        },
        "margin": {
         "b": 50,
         "l": 200,
         "r": 0,
         "t": 75
        },
        "plot_bgcolor": "rgb(243, 243, 243)",
        "template": {
         "data": {
          "bar": [
           {
            "error_x": {
             "color": "#2a3f5f"
            },
            "error_y": {
             "color": "#2a3f5f"
            },
            "marker": {
             "line": {
              "color": "#E5ECF6",
              "width": 0.5
             }
            },
            "type": "bar"
           }
          ],
          "barpolar": [
           {
            "marker": {
             "line": {
              "color": "#E5ECF6",
              "width": 0.5
             }
            },
            "type": "barpolar"
           }
          ],
          "carpet": [
           {
            "aaxis": {
             "endlinecolor": "#2a3f5f",
             "gridcolor": "white",
             "linecolor": "white",
             "minorgridcolor": "white",
             "startlinecolor": "#2a3f5f"
            },
            "baxis": {
             "endlinecolor": "#2a3f5f",
             "gridcolor": "white",
             "linecolor": "white",
             "minorgridcolor": "white",
             "startlinecolor": "#2a3f5f"
            },
            "type": "carpet"
           }
          ],
          "choropleth": [
           {
            "colorbar": {
             "outlinewidth": 0,
             "ticks": ""
            },
            "type": "choropleth"
           }
          ],
          "contour": [
           {
            "colorbar": {
             "outlinewidth": 0,
             "ticks": ""
            },
            "colorscale": [
             [
              0,
              "#0d0887"
             ],
             [
              0.1111111111111111,
              "#46039f"
             ],
             [
              0.2222222222222222,
              "#7201a8"
             ],
             [
              0.3333333333333333,
              "#9c179e"
             ],
             [
              0.4444444444444444,
              "#bd3786"
             ],
             [
              0.5555555555555556,
              "#d8576b"
             ],
             [
              0.6666666666666666,
              "#ed7953"
             ],
             [
              0.7777777777777778,
              "#fb9f3a"
             ],
             [
              0.8888888888888888,
              "#fdca26"
             ],
             [
              1,
              "#f0f921"
             ]
            ],
            "type": "contour"
           }
          ],
          "contourcarpet": [
           {
            "colorbar": {
             "outlinewidth": 0,
             "ticks": ""
            },
            "type": "contourcarpet"
           }
          ],
          "heatmap": [
           {
            "colorbar": {
             "outlinewidth": 0,
             "ticks": ""
            },
            "colorscale": [
             [
              0,
              "#0d0887"
             ],
             [
              0.1111111111111111,
              "#46039f"
             ],
             [
              0.2222222222222222,
              "#7201a8"
             ],
             [
              0.3333333333333333,
              "#9c179e"
             ],
             [
              0.4444444444444444,
              "#bd3786"
             ],
             [
              0.5555555555555556,
              "#d8576b"
             ],
             [
              0.6666666666666666,
              "#ed7953"
             ],
             [
              0.7777777777777778,
              "#fb9f3a"
             ],
             [
              0.8888888888888888,
              "#fdca26"
             ],
             [
              1,
              "#f0f921"
             ]
            ],
            "type": "heatmap"
           }
          ],
          "heatmapgl": [
           {
            "colorbar": {
             "outlinewidth": 0,
             "ticks": ""
            },
            "colorscale": [
             [
              0,
              "#0d0887"
             ],
             [
              0.1111111111111111,
              "#46039f"
             ],
             [
              0.2222222222222222,
              "#7201a8"
             ],
             [
              0.3333333333333333,
              "#9c179e"
             ],
             [
              0.4444444444444444,
              "#bd3786"
             ],
             [
              0.5555555555555556,
              "#d8576b"
             ],
             [
              0.6666666666666666,
              "#ed7953"
             ],
             [
              0.7777777777777778,
              "#fb9f3a"
             ],
             [
              0.8888888888888888,
              "#fdca26"
             ],
             [
              1,
              "#f0f921"
             ]
            ],
            "type": "heatmapgl"
           }
          ],
          "histogram": [
           {
            "marker": {
             "colorbar": {
              "outlinewidth": 0,
              "ticks": ""
             }
            },
            "type": "histogram"
           }
          ],
          "histogram2d": [
           {
            "colorbar": {
             "outlinewidth": 0,
             "ticks": ""
            },
            "colorscale": [
             [
              0,
              "#0d0887"
             ],
             [
              0.1111111111111111,
              "#46039f"
             ],
             [
              0.2222222222222222,
              "#7201a8"
             ],
             [
              0.3333333333333333,
              "#9c179e"
             ],
             [
              0.4444444444444444,
              "#bd3786"
             ],
             [
              0.5555555555555556,
              "#d8576b"
             ],
             [
              0.6666666666666666,
              "#ed7953"
             ],
             [
              0.7777777777777778,
              "#fb9f3a"
             ],
             [
              0.8888888888888888,
              "#fdca26"
             ],
             [
              1,
              "#f0f921"
             ]
            ],
            "type": "histogram2d"
           }
          ],
          "histogram2dcontour": [
           {
            "colorbar": {
             "outlinewidth": 0,
             "ticks": ""
            },
            "colorscale": [
             [
              0,
              "#0d0887"
             ],
             [
              0.1111111111111111,
              "#46039f"
             ],
             [
              0.2222222222222222,
              "#7201a8"
             ],
             [
              0.3333333333333333,
              "#9c179e"
             ],
             [
              0.4444444444444444,
              "#bd3786"
             ],
             [
              0.5555555555555556,
              "#d8576b"
             ],
             [
              0.6666666666666666,
              "#ed7953"
             ],
             [
              0.7777777777777778,
              "#fb9f3a"
             ],
             [
              0.8888888888888888,
              "#fdca26"
             ],
             [
              1,
              "#f0f921"
             ]
            ],
            "type": "histogram2dcontour"
           }
          ],
          "mesh3d": [
           {
            "colorbar": {
             "outlinewidth": 0,
             "ticks": ""
            },
            "type": "mesh3d"
           }
          ],
          "parcoords": [
           {
            "line": {
             "colorbar": {
              "outlinewidth": 0,
              "ticks": ""
             }
            },
            "type": "parcoords"
           }
          ],
          "pie": [
           {
            "automargin": true,
            "type": "pie"
           }
          ],
          "scatter": [
           {
            "marker": {
             "colorbar": {
              "outlinewidth": 0,
              "ticks": ""
             }
            },
            "type": "scatter"
           }
          ],
          "scatter3d": [
           {
            "line": {
             "colorbar": {
              "outlinewidth": 0,
              "ticks": ""
             }
            },
            "marker": {
             "colorbar": {
              "outlinewidth": 0,
              "ticks": ""
             }
            },
            "type": "scatter3d"
           }
          ],
          "scattercarpet": [
           {
            "marker": {
             "colorbar": {
              "outlinewidth": 0,
              "ticks": ""
             }
            },
            "type": "scattercarpet"
           }
          ],
          "scattergeo": [
           {
            "marker": {
             "colorbar": {
              "outlinewidth": 0,
              "ticks": ""
             }
            },
            "type": "scattergeo"
           }
          ],
          "scattergl": [
           {
            "marker": {
             "colorbar": {
              "outlinewidth": 0,
              "ticks": ""
             }
            },
            "type": "scattergl"
           }
          ],
          "scattermapbox": [
           {
            "marker": {
             "colorbar": {
              "outlinewidth": 0,
              "ticks": ""
             }
            },
            "type": "scattermapbox"
           }
          ],
          "scatterpolar": [
           {
            "marker": {
             "colorbar": {
              "outlinewidth": 0,
              "ticks": ""
             }
            },
            "type": "scatterpolar"
           }
          ],
          "scatterpolargl": [
           {
            "marker": {
             "colorbar": {
              "outlinewidth": 0,
              "ticks": ""
             }
            },
            "type": "scatterpolargl"
           }
          ],
          "scatterternary": [
           {
            "marker": {
             "colorbar": {
              "outlinewidth": 0,
              "ticks": ""
             }
            },
            "type": "scatterternary"
           }
          ],
          "surface": [
           {
            "colorbar": {
             "outlinewidth": 0,
             "ticks": ""
            },
            "colorscale": [
             [
              0,
              "#0d0887"
             ],
             [
              0.1111111111111111,
              "#46039f"
             ],
             [
              0.2222222222222222,
              "#7201a8"
             ],
             [
              0.3333333333333333,
              "#9c179e"
             ],
             [
              0.4444444444444444,
              "#bd3786"
             ],
             [
              0.5555555555555556,
              "#d8576b"
             ],
             [
              0.6666666666666666,
              "#ed7953"
             ],
             [
              0.7777777777777778,
              "#fb9f3a"
             ],
             [
              0.8888888888888888,
              "#fdca26"
             ],
             [
              1,
              "#f0f921"
             ]
            ],
            "type": "surface"
           }
          ],
          "table": [
           {
            "cells": {
             "fill": {
              "color": "#EBF0F8"
             },
             "line": {
              "color": "white"
             }
            },
            "header": {
             "fill": {
              "color": "#C8D4E3"
             },
             "line": {
              "color": "white"
             }
            },
            "type": "table"
           }
          ]
         },
         "layout": {
          "annotationdefaults": {
           "arrowcolor": "#2a3f5f",
           "arrowhead": 0,
           "arrowwidth": 1
          },
          "coloraxis": {
           "colorbar": {
            "outlinewidth": 0,
            "ticks": ""
           }
          },
          "colorscale": {
           "diverging": [
            [
             0,
             "#8e0152"
            ],
            [
             0.1,
             "#c51b7d"
            ],
            [
             0.2,
             "#de77ae"
            ],
            [
             0.3,
             "#f1b6da"
            ],
            [
             0.4,
             "#fde0ef"
            ],
            [
             0.5,
             "#f7f7f7"
            ],
            [
             0.6,
             "#e6f5d0"
            ],
            [
             0.7,
             "#b8e186"
            ],
            [
             0.8,
             "#7fbc41"
            ],
            [
             0.9,
             "#4d9221"
            ],
            [
             1,
             "#276419"
            ]
           ],
           "sequential": [
            [
             0,
             "#0d0887"
            ],
            [
             0.1111111111111111,
             "#46039f"
            ],
            [
             0.2222222222222222,
             "#7201a8"
            ],
            [
             0.3333333333333333,
             "#9c179e"
            ],
            [
             0.4444444444444444,
             "#bd3786"
            ],
            [
             0.5555555555555556,
             "#d8576b"
            ],
            [
             0.6666666666666666,
             "#ed7953"
            ],
            [
             0.7777777777777778,
             "#fb9f3a"
            ],
            [
             0.8888888888888888,
             "#fdca26"
            ],
            [
             1,
             "#f0f921"
            ]
           ],
           "sequentialminus": [
            [
             0,
             "#0d0887"
            ],
            [
             0.1111111111111111,
             "#46039f"
            ],
            [
             0.2222222222222222,
             "#7201a8"
            ],
            [
             0.3333333333333333,
             "#9c179e"
            ],
            [
             0.4444444444444444,
             "#bd3786"
            ],
            [
             0.5555555555555556,
             "#d8576b"
            ],
            [
             0.6666666666666666,
             "#ed7953"
            ],
            [
             0.7777777777777778,
             "#fb9f3a"
            ],
            [
             0.8888888888888888,
             "#fdca26"
            ],
            [
             1,
             "#f0f921"
            ]
           ]
          },
          "colorway": [
           "#636efa",
           "#EF553B",
           "#00cc96",
           "#ab63fa",
           "#FFA15A",
           "#19d3f3",
           "#FF6692",
           "#B6E880",
           "#FF97FF",
           "#FECB52"
          ],
          "font": {
           "color": "#2a3f5f"
          },
          "geo": {
           "bgcolor": "white",
           "lakecolor": "white",
           "landcolor": "#E5ECF6",
           "showlakes": true,
           "showland": true,
           "subunitcolor": "white"
          },
          "hoverlabel": {
           "align": "left"
          },
          "hovermode": "closest",
          "mapbox": {
           "style": "light"
          },
          "paper_bgcolor": "white",
          "plot_bgcolor": "#E5ECF6",
          "polar": {
           "angularaxis": {
            "gridcolor": "white",
            "linecolor": "white",
            "ticks": ""
           },
           "bgcolor": "#E5ECF6",
           "radialaxis": {
            "gridcolor": "white",
            "linecolor": "white",
            "ticks": ""
           }
          },
          "scene": {
           "xaxis": {
            "backgroundcolor": "#E5ECF6",
            "gridcolor": "white",
            "gridwidth": 2,
            "linecolor": "white",
            "showbackground": true,
            "ticks": "",
            "zerolinecolor": "white"
           },
           "yaxis": {
            "backgroundcolor": "#E5ECF6",
            "gridcolor": "white",
            "gridwidth": 2,
            "linecolor": "white",
            "showbackground": true,
            "ticks": "",
            "zerolinecolor": "white"
           },
           "zaxis": {
            "backgroundcolor": "#E5ECF6",
            "gridcolor": "white",
            "gridwidth": 2,
            "linecolor": "white",
            "showbackground": true,
            "ticks": "",
            "zerolinecolor": "white"
           }
          },
          "shapedefaults": {
           "line": {
            "color": "#2a3f5f"
           }
          },
          "ternary": {
           "aaxis": {
            "gridcolor": "white",
            "linecolor": "white",
            "ticks": ""
           },
           "baxis": {
            "gridcolor": "white",
            "linecolor": "white",
            "ticks": ""
           },
           "bgcolor": "#E5ECF6",
           "caxis": {
            "gridcolor": "white",
            "linecolor": "white",
            "ticks": ""
           }
          },
          "title": {
           "x": 0.05
          },
          "xaxis": {
           "automargin": true,
           "gridcolor": "white",
           "linecolor": "white",
           "ticks": "",
           "title": {
            "standoff": 15
           },
           "zerolinecolor": "white",
           "zerolinewidth": 2
          },
          "yaxis": {
           "automargin": true,
           "gridcolor": "white",
           "linecolor": "white",
           "ticks": "",
           "title": {
            "standoff": 15
           },
           "zerolinecolor": "white",
           "zerolinewidth": 2
          }
         }
        },
        "ternary": {
         "aaxis": {
          "linewidth": 0,
          "min": 0,
          "tickfont": {
           "size": 15
          },
          "tickmode": "array",
          "ticks": "outside",
          "ticktext": [
           "0%",
           "25%",
           "50%",
           "75%",
           "100%"
          ],
          "tickvals": [
           0,
           0.25,
           0.5,
           0.75,
           1
          ],
          "title": {
           "font": {
            "size": 25
           },
           "text": ""
          }
         },
         "baxis": {
          "linewidth": 2,
          "min": 0,
          "tickangle": 60,
          "tickfont": {
           "size": 15
          },
          "tickmode": "array",
          "ticks": "outside",
          "ticktext": [
           "0%",
           "25%",
           "50%",
           "75%",
           "100%"
          ],
          "tickvals": [
           0,
           0.25,
           0.5,
           0.75,
           1
          ],
          "title": {
           "font": {
            "size": 25
           },
           "text": ""
          }
         },
         "bgcolor": "white",
         "caxis": {
          "linewidth": 2,
          "min": 0,
          "tickangle": -60,
          "tickfont": {
           "size": 15
          },
          "tickmode": "array",
          "ticks": "outside",
          "ticktext": [
           "0%",
           "25%",
           "50%",
           "75%",
           "100%"
          ],
          "tickvals": [
           0,
           0.25,
           0.5,
           0.75,
           1
          ],
          "title": {
           "font": {
            "size": 25
           },
           "text": ""
          }
         },
         "domain": {
          "x": [
           0,
           0.6666666666666666
          ],
          "y": [
           0,
           1
          ]
         },
         "sum": 1
        },
        "width": 1600,
        "xaxis": {
         "anchor": "y",
         "domain": [
          0.3333333333333333,
          0.6666666666666666
         ],
         "visible": false
        },
        "xaxis2": {
         "anchor": "y2",
         "domain": [
          0.6666666666666666,
          1
         ],
         "visible": false
        },
        "xaxis3": {
         "anchor": "y3",
         "domain": [
          0,
          0.3333333333333333
         ],
         "visible": false
        },
        "xaxis4": {
         "anchor": "y4",
         "domain": [
          0.3333333333333333,
          0.6666666666666666
         ],
         "visible": false
        },
        "xaxis5": {
         "anchor": "y5",
         "domain": [
          0.6666666666666666,
          1
         ],
         "visible": false
        },
        "xaxis6": {
         "anchor": "y6",
         "domain": [
          0,
          0.3333333333333333
         ],
         "visible": false
        },
        "xaxis7": {
         "anchor": "y7",
         "domain": [
          0.3333333333333333,
          0.6666666666666666
         ],
         "visible": false
        },
        "xaxis8": {
         "anchor": "y8",
         "domain": [
          0.6666666666666666,
          1
         ],
         "visible": false
        },
        "yaxis": {
         "anchor": "x",
         "domain": [
          0.6666666666666666,
          1
         ]
        },
        "yaxis2": {
         "anchor": "x2",
         "domain": [
          0.6666666666666666,
          1
         ]
        },
        "yaxis3": {
         "anchor": "x3",
         "domain": [
          0.3333333333333333,
          0.6666666666666666
         ]
        },
        "yaxis4": {
         "anchor": "x4",
         "domain": [
          0.3333333333333333,
          0.6666666666666666
         ]
        },
        "yaxis5": {
         "anchor": "x5",
         "domain": [
          0.3333333333333333,
          0.6666666666666666
         ]
        },
        "yaxis6": {
         "anchor": "x6",
         "domain": [
          0,
          0.3333333333333333
         ]
        },
        "yaxis7": {
         "anchor": "x7",
         "domain": [
          0,
          0.3333333333333333
         ]
        },
        "yaxis8": {
         "anchor": "x8",
         "domain": [
          0,
          0.3333333333333333
         ]
        }
       }
      }
     },
     "metadata": {},
     "output_type": "display_data"
    }
   ],
   "source": [
    "fig = make_subplots(rows=3, cols=3, specs=[[{\"type\": \"scatterternary\", \"colspan\": 2, \"rowspan\": 3}, {}, {}],\n",
    "                                           [{}, {}, {}],\n",
    "                                           [{}, {}, {}]],\n",
    "                    horizontal_spacing = 0, vertical_spacing=0.0)\n",
    "\n",
    "# Panel a\n",
    "for i in np.arange(0., 1.01, 0.25):\n",
    "    args = dict(mode='lines', showlegend=False, hoverinfo='skip',\n",
    "                                                    marker={'size': 15,\n",
    "                                                            'color': 'black',\n",
    "                                                            'opacity': 1,#0.9-i*0.03,\n",
    "                                                            'line' :dict(width=0., color='silver')},\n",
    "                                                    line={'width': 0.33, #np.mean(s[i:i+2])*0.5,\n",
    "                                                            'color': 'black',\n",
    "                                                            'dash': 'dot'},\n",
    "                                                    textfont=dict(size=5,\n",
    "                                                            color='black'))\n",
    "    fig.add_trace(go.Scatterternary(a=[i, i], b=[0, 1-i], c=[1-i, 0], **args), 1, 1)\n",
    "    fig.add_trace(go.Scatterternary(b=[i, i], a=[0, 1-i], c=[1-i, 0], **args), 1, 1)\n",
    "    fig.add_trace(go.Scatterternary(c=[i, i], b=[0, 1-i], a=[1-i, 0], **args), 1, 1)\n",
    "\n",
    "for cty_i, cty in enumerate(all_countries_iso):\n",
    "        fig.add_trace(go.Scatterternary(a=vals[0, :, cty_i],\n",
    "                                        b=vals[1, :, cty_i],\n",
    "                                        c=vals[2, :, cty_i],\n",
    "                                                        mode='lines+markers+text',\n",
    "                                                        showlegend=False,\n",
    "                                                        text=[texts[cty_i]]+['']*(len(vals[0])-1),\n",
    "                                                        marker={'size': 6,\n",
    "                                                                'color': bubblecolors[cty_i],\n",
    "                                                                'opacity': 0.9,#0.9-i*0.03,\n",
    "                                                                'line' :dict(width=0, color='black')},\n",
    "                                                        line={'width': 0.5, #np.mean(s[i:i+2])*0.5,\n",
    "                                                                'color': 'silver'},\n",
    "                                                        textfont=dict(size=(pops_n[cty_i])**0.4*25+1,\n",
    "                                                                color='black')), 1, 1)\n",
    "for cty in ['USA', 'CHN', 'BRA', 'ZAF', 'IND', 'MEX', 'DEU', 'TUR']:\n",
    "        cty_i = np.where(all_countries_iso == cty)[0][0]\n",
    "        fig.add_trace(go.Scatterternary(a=vals[0, :, cty_i],\n",
    "                                        b=vals[1, :, cty_i],\n",
    "                                        c=vals[2, :, cty_i],\n",
    "                                                        mode='lines+markers+text',\n",
    "                                                        showlegend=False,\n",
    "                                                        text=[texts[cty_i]]+['']*(len(vals[0])-1),#[\"'., str(i-2000) for i in [2040, 2050, 2060, 2070, 2080, 2090]],\n",
    "                                                        marker={'size': [(pops_n[cty_i])**0.4*60+4]+[15]*(len(vals[0])-1),\n",
    "                                                                'color': bubblecolors[cty_i],\n",
    "                                                                'opacity': 0.9,#0.9-i*0.03,\n",
    "                                                                'line' :dict(width=0.5, color='white')},\n",
    "                                                        line={'width': 3, #np.mean(s[i:i+2])*0.5,\n",
    "                                                                'color':bubblecolors[cty_i]},\n",
    "                                                        textfont=dict(size=(pops_n[cty_i])**0.4*25+4,\n",
    "                                                                color='black')), 1, 1)\n",
    "\n",
    "fig.update_layout({\n",
    "'plot_bgcolor':'rgb(243, 243, 243)',\n",
    "'ternary':\n",
    "{'sum':1,\n",
    "'bgcolor':'white',\n",
    "    # \"paper_bgcolor\":'rgba(0,0,0,0)',\n",
    "    # \"plot_bgcolor\":'rgba(0,0,0,0)',\n",
    "'aaxis':{'title': '', 'min': 0., 'titlefont':{'size': 25},#Climate target<br>\n",
    "        'linewidth':0, 'ticks':'outside',\n",
    "        'tickmode':'array','tickvals':np.arange(0, 1.01, 0.25), 'ticktext':[str(int(i*100))+'%' for i in np.arange(0, 1.01, 0.25)], 'tickfont':{'size':15}},\n",
    "'baxis':{'title': '', 'min': 0, 'titlefont':{'size': 25},# &nbsp; &nbsp; &nbsp;#Model &nbsp; &nbsp;\n",
    "        'linewidth':2, 'ticks':'outside',\n",
    "        'tickmode':'array','tickvals':np.arange(0, 1.01, 0.25), 'ticktext':[str(int(i*100))+'%' for i in np.arange(0, 1.01, 0.25)],'tickangle':60, 'tickfont':{'size':15}},\n",
    "'caxis':{'title': '', 'min': 0, 'titlefont':{'size': 25},#Other<br>scenario assumptions\n",
    "        'linewidth':2, 'ticks':'outside',\n",
    "        'tickmode':'array','tickvals':np.arange(0, 1.01, 0.25), 'ticktext':[str(int(i*100))+'%' for i in np.arange(0, 1.01, 0.25)],'tickangle':-60, 'tickfont':{'size':15}}}})\n",
    "\n",
    "# # Panel b-d\n",
    "# for frac_i, frac in enumerate(['Temperature', 'EffortSharing', 'Parameters']):\n",
    "#     if frac_i == 0:\n",
    "#         t = a\n",
    "#     if frac_i == 1:\n",
    "#         t = b\n",
    "#     if frac_i == 2:\n",
    "#         t = c\n",
    "#     #t[np.isnan(t)] = 0\n",
    "#     fig.add_trace(\n",
    "#         go.Choropleth(\n",
    "#         locations=all_countries_iso[~np.isnan(t)],\n",
    "#         z = t[~np.isnan(t)],\n",
    "#         locationmode = 'ISO-3',\n",
    "#         colorscale = 'Spectral_r',#'RdYlGn_r',\n",
    "#         zmax = 1,\n",
    "#         zmin = 0,\n",
    "#         text = [str(r)+\": \"+str(np.round(int(100*t[~np.isnan(t)][r_i])))+\"%\" for r_i, r in enumerate(all_countries_iso[~np.isnan(t)])],\n",
    "#         hovertemplate  = '%{text}',\n",
    "#         name=\"\",\n",
    "#         marker_line_color='black', \n",
    "#         marker_line_width=0.5,\n",
    "#         colorbar=dict(len=1, x=1, tickvals = np.arange(0, 1.01, 0.1), ticktext=[str(int(100*i))+'%' for i in np.arange(0, 1.01, 0.1)],\n",
    "#                       tickfont={'size':17}, title={\"text\":\"<b>Percentage<br>variance<br>explained\", 'font': {'size':17}}),\n",
    "#         showscale=[True, False, False][frac_i]\n",
    "#     ), [1, 2, 3][frac_i], [3, 3, 3][frac_i])\n",
    "\n",
    "fig.update_geos(visible=False,\n",
    "                showlakes=True,\n",
    "                lakecolor='rgb(255, 255, 255)',\n",
    "                projection_type='natural earth',\n",
    "                resolution=110,\n",
    "                showcoastlines=False,)\n",
    "\n",
    "fig.update_layout(\n",
    "    legend=dict(\n",
    "        yanchor=\"top\",\n",
    "        y=0.29,\n",
    "        xanchor=\"left\",\n",
    "        x=0.08,\n",
    "        font=dict(size=15, color=\"black\"),\n",
    "    ),\n",
    "    #template='ggplot2',\n",
    "    height=900,\n",
    "    width=1600,\n",
    ")\n",
    "fig.update_xaxes(visible=False)\n",
    "\n",
    "args = dict(xref=\"paper\", yref=\"paper\", showarrow=False)\n",
    "annotations = [\n",
    "    dict(xref='paper', yref='paper', ax=0, align='left', ay=-0, showarrow=False, font=dict(color='black', size=24), y=0.98, x=0.0, text=\"<b>(a) Factors influencing<br>   fair emissions allocations</b>\"),\n",
    "    dict(xref='paper', yref='paper', ax=0, align='left', ay=-0, showarrow=False, font=dict(color='black', size=18), y=1.005, x=0.99, text=\"<b>(b) United States</b>\"),\n",
    "    dict(xref='paper', yref='paper', ax=0, align='left', ay=-0, showarrow=False, font=dict(color='black', size=18), y=0.67, x=0.98, text=\"<b>(c) China</b>\"),\n",
    "    dict(xref='paper', yref='paper', ax=0, align='left', ay=-0, showarrow=False, font=dict(color='black', size=18), y=0.315, x=1, text=\"<b>(d) India</b>\"),\n",
    "    dict(text=\"Normative\", x=0.28, y=1.10, **args, font=dict(color='black', size=25)),\n",
    "    dict(text=\"allocation method, parameters\", x=0.25, y=1.07, **args, font=dict(color='darkgray', size=16)),\n",
    "    dict(text=\"Climatological\", x=-0.13, y=0.0, **args, font=dict(color='black', size=25)),\n",
    "    dict(text=\"temperature targets,<br>climate sensitivity \", x=-0.125, y=-0.05, **args, font=dict(color='darkgray', size=16)),\n",
    "    dict(text=\"Technological,<br>socio-economic\", x=0.83, y=0.0, **args, font=dict(color='black', size=25)),\n",
    "    dict(text=\"scenario, non-CO2,<br>negative emissions, policy\", x=0.84, y=-0.05, **args, font=dict(color='darkgray', size=16))\n",
    "]\n",
    "for ann in annotations:\n",
    "    fig.add_annotation(**ann)\n",
    "fig.update_layout(margin={\"r\":0,\"t\":75,\"l\":200,\"b\":50})"
   ]
  },
  {
   "cell_type": "code",
   "execution_count": null,
   "metadata": {},
   "outputs": [],
   "source": []
  }
 ],
 "metadata": {
  "kernelspec": {
   "display_name": "MyEnv2",
   "language": "python",
   "name": "python3"
  },
  "language_info": {
   "codemirror_mode": {
    "name": "ipython",
    "version": 3
   },
   "file_extension": ".py",
   "mimetype": "text/x-python",
   "name": "python",
   "nbconvert_exporter": "python",
   "pygments_lexer": "ipython3",
   "version": "3.8.6"
  }
 },
 "nbformat": 4,
 "nbformat_minor": 2
}
