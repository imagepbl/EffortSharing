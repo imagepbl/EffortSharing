{
 "cells": [
  {
   "attachments": {},
   "cell_type": "markdown",
   "metadata": {},
   "source": [
    "## Preambule"
   ]
  },
  {
   "cell_type": "code",
   "execution_count": 27,
   "metadata": {},
   "outputs": [],
   "source": [
    "# General packages\n",
    "import numpy as np\n",
    "import pandas as pd\n",
    "from tqdm import tqdm\n",
    "from pathlib import Path\n",
    "import xarray as xr\n",
    "import json\n",
    "\n",
    "# Plotting\n",
    "import matplotlib.pyplot as plt\n",
    "import plotly.express as px\n",
    "import plotly.graph_objects as go\n",
    "from plotly.subplots import make_subplots\n",
    "from plotly.colors import n_colors"
   ]
  },
  {
   "attachments": {},
   "cell_type": "markdown",
   "metadata": {},
   "source": [
    "## Parameter"
   ]
  },
  {
   "cell_type": "code",
   "execution_count": 28,
   "metadata": {},
   "outputs": [],
   "source": [
    "hist_startyear = 1990"
   ]
  },
  {
   "attachments": {},
   "cell_type": "markdown",
   "metadata": {},
   "source": [
    "## Paths"
   ]
  },
  {
   "cell_type": "code",
   "execution_count": 29,
   "metadata": {},
   "outputs": [],
   "source": [
    "path_main = Path(\"X:/user/dekkerm/Projects/ECEMF_T5.2/\")\n",
    "path_data = path_main / \"Data\" / str(hist_startyear)\n",
    "path_figs = path_main / \"Figures\""
   ]
  },
  {
   "attachments": {},
   "cell_type": "markdown",
   "metadata": {},
   "source": [
    "## Read data files"
   ]
  },
  {
   "cell_type": "code",
   "execution_count": 30,
   "metadata": {},
   "outputs": [],
   "source": [
    "xr_total = xr.open_dataset(path_data / \"xr_total.nc\")\n",
    "all_regions_iso = np.load(path_data / \"all_regions.npy\")\n",
    "all_regions_names = np.load(path_data / \"all_regions_names.npy\")\n",
    "all_countries_iso = np.load(path_data / \"all_countries.npy\", allow_pickle=True)\n",
    "all_countries_names = np.load(path_data / \"all_countries_names.npy\", allow_pickle=True)\n",
    "only_regions_iso = ['CVF', 'G20', \"EU\", \"G7\", \"NA\", \"AU\", \"AF\", \"SIDS\", \"LDC\", \"WORLD\"]\n",
    "all_categories = ['C1+C2', 'C3', 'C6', 'C7']\n",
    "only_regions_names = ['Climate Vulnerability Forum','G20',\"European Union\",\"G7\",\"Northern America\",\"Australasia\",\"African Group\",\"Small Island Developing States\",\"Least Developed Countries\"]"
   ]
  },
  {
   "cell_type": "code",
   "execution_count": 31,
   "metadata": {},
   "outputs": [],
   "source": [
    "xr_budgets_static = xr.open_dataset(path_data / \"xr_budgets_static.nc\")\n",
    "#xr_budgets_linear = xr.open_dataset(path_data / \"xr_budgets_linear.nc\")\n",
    "xr_budgets_scenario = xr.open_dataset(path_data / \"xr_budgets_scenario.nc\")\n",
    "df_michel = pd.read_excel(Path(\"X:/user/dekkerm/Data/\") / \"NDC\" / \"NDC_comparison.xlsx\", sheet_name=\"Michel\")"
   ]
  },
  {
   "cell_type": "code",
   "execution_count": 32,
   "metadata": {},
   "outputs": [],
   "source": [
    "df_g = pd.read_excel(Path(\"X:/user/dekkerm/Data/\") / \"UNFCCC_Parties_Groups_noeu.xlsx\", sheet_name = \"Country groups\")\n",
    "countries_iso = np.array(df_g[\"Country ISO Code\"])\n",
    "countries_name = np.array(df_g[\"Name\"])\n",
    "countries_iso = np.array(df_g[\"Country ISO Code\"])\n",
    "group_cvf = countries_iso[np.array(df_g[\"CVF (24/10/22)\"]) == 1]\n",
    "group_g20 = countries_iso[np.array(df_g[\"G20\"]) == 1]\n",
    "group_eu = countries_iso[np.array(df_g[\"EU\"]) == 1]\n",
    "group_g7 = countries_iso[np.array(df_g[\"G7\"]) == 1]\n",
    "group_na = countries_iso[np.array(df_g[\"Northern America\"]) == 1]\n",
    "group_um = countries_iso[np.array(df_g[\"Umbrella\"]) == 1]\n",
    "group_au = countries_iso[np.array(df_g[\"Australasia\"]) == 1]\n",
    "group_af = countries_iso[np.array(df_g[\"African Group\"]) == 1]\n",
    "group_sids = countries_iso[np.array(df_g[\"SIDS\"]) == 1]\n",
    "group_ldc = countries_iso[np.array(df_g[\"LDC\"]) == 1]\n",
    "group_eg = countries_iso[np.array(df_g[\"European Group\"]) == 1]\n",
    "group_world = np.copy(countries_iso)"
   ]
  },
  {
   "attachments": {},
   "cell_type": "markdown",
   "metadata": {},
   "source": [
    "## Preprocess"
   ]
  },
  {
   "cell_type": "code",
   "execution_count": 33,
   "metadata": {},
   "outputs": [],
   "source": [
    "R = [[\"GF\", \"Grandfathering\", \"navy\"],\n",
    "     [\"PC\", \"Per Capita (immediate)\", \"forestgreen\"],\n",
    "     [\"PCC\", \"Per Capita Convergence\", \"red\"],\n",
    "     [\"F1g\", \"Approach 1 - GDP (net)\", \"orange\"],\n",
    "     [\"F1h\", \"Approach 1 - GDP (HDI)\", \"purple\"],\n",
    "     [\"F2\", \"Approach 2 - GDP (net)\", \"silver\"],\n",
    "     [\"F2C\", \"Approach 2 - transition\", \"goldenrod\"],\n",
    "     ]\n",
    "R = np.array(R).T\n",
    "colors = R[2]\n",
    "rules = R[0]\n",
    "rulenames = R[1]"
   ]
  },
  {
   "cell_type": "code",
   "execution_count": 34,
   "metadata": {},
   "outputs": [
    {
     "name": "stderr",
     "output_type": "stream",
     "text": [
      "  0%|          | 0/4 [00:00<?, ?it/s]C:\\Users\\dekkerm\\AppData\\Local\\Temp\\2\\ipykernel_4128\\3919548340.py:23: RuntimeWarning:\n",
      "\n",
      "Mean of empty slice\n",
      "\n",
      "100%|██████████| 4/4 [00:12<00:00,  3.14s/it]\n"
     ]
    }
   ],
   "source": [
    "ar_gig = np.zeros(shape=(len(all_categories), len(rules)+5, len(all_regions_iso)))+np.nan\n",
    "\n",
    "for c in tqdm(range(len(all_categories))):\n",
    "    ccat = all_categories[c]\n",
    "    for cty_i, cty in enumerate(all_regions_iso):\n",
    "        ar_gig[c, 0, cty_i] = float(xr_total.sel(Time=2019, ISO=cty).GHG_p)\n",
    "\n",
    "        # # Ratios\n",
    "        # if total_kyoto_2020 > 0:\n",
    "        #     ratio = total_co2_2020/total_kyoto_2020\n",
    "        #     if cty == \"CHN\":\n",
    "        #         ratio = 1\n",
    "        #     ar_gig[c, 1, cty_i] = ratio\n",
    "        \n",
    "        # Curpol\n",
    "        df = df_michel[df_michel.ISO == cty]['curpol_2030']\n",
    "        if len(df) > 0:\n",
    "            em_curpol = float(df_michel[df_michel.ISO == cty]['curpol_2030'])/1e3\n",
    "            ar_gig[c, 2, cty_i] = em_curpol\n",
    "\n",
    "        # NDC\n",
    "        ndc_malte = [float(xr_total.sel(ISO=cty, Time=2030).NDC_l), float(xr_total.sel(ISO=cty, Time=2030).NDC_h)]\n",
    "        ar_gig[c, 3, cty_i] = np.nanmean(ndc_malte)\n",
    "        \n",
    "        # Effort sharing rules\n",
    "        for es_i, es in enumerate(rules):\n",
    "            try:\n",
    "                ar_gig[c, es_i+4, cty_i] = float(xr_budgets_scenario.sel(ISO=cty, Time=2030, Category=ccat)[es])\n",
    "            except:\n",
    "                ar_gig[c, es_i+4,cty_i] = np.nan\n",
    "        \n",
    "        # Scenarios\n",
    "        # spendsw = []\n",
    "        # for c in range(8):\n",
    "        #     spent = float(xr_total.sel(Category=\"C\"+str(c+1), Time=2030).GHG_f)\n",
    "        #     spendsw.append(spent)\n",
    "        # spendsw = np.array(spendsw)\n",
    "        # spends = np.zeros(8)\n",
    "        # for k in range(8):\n",
    "        #     try:\n",
    "        #         spends[k] = float(xr_ar6_iso3.sel(Region=cty, Variable='Emissions|Kyoto Gases|w/o LULUCF', Category=\"C\"+str(k+1), Time=2030).Mean/1e3)\n",
    "        #     except:\n",
    "        #         spends[k] = np.nan\n",
    "        # spends_new = fill_scenemissions(spends, spendsw)\n",
    "        ar_gig[c, len(rules)+4, cty_i] = np.nan#float(xr_total.sel(Time=2030, ISO=cty, Category=ccat).GHG_f)\n",
    "xr_preprocess = xr.DataArray(data=ar_gig*1e3,\n",
    "                            dims=[\"Ccat\", \"Variable\", \"Region\"],\n",
    "                            coords=dict(Ccat=all_categories,\n",
    "                                        Variable=[\"Emissions\", \"Ratio\", \"CurPol\", \"NDC\"]+list(rules)+[\"Scenario\"],\n",
    "                                        Region=all_regions_iso))"
   ]
  },
  {
   "cell_type": "code",
   "execution_count": 35,
   "metadata": {},
   "outputs": [],
   "source": [
    "cs = np.zeros(shape=(len(rules), len(all_countries_iso)))\n",
    "for r_i, r in enumerate(all_countries_iso):\n",
    "    ndc = float((xr_total.NDC_l.sel(Time=2030, ISO=r) + xr_total.NDC_h.sel(Time=2030, ISO=r))/2)\n",
    "    for es_i, es in enumerate(rules):\n",
    "        if not np.isnan(ndc):\n",
    "            wh = np.where(ndc <= xr_budgets_scenario.sel(Time=2030, ISO=r, Category=all_categories)[es])[0]\n",
    "            if len(wh) > 0:\n",
    "                cs[es_i, r_i] = int(wh[0])\n",
    "            else:\n",
    "                cs[es_i, r_i] = int(3)\n",
    "        else:\n",
    "            cs[es_i, r_i] = np.nan\n",
    "dicty = {}\n",
    "dicty[\"Region\"] = all_countries_iso\n",
    "dicty[\"C_GF\"] = cs[0]\n",
    "dicty[\"C_PC\"] = cs[1]\n",
    "dicty[\"C_PCC\"] = cs[2]\n",
    "dicty[\"C_F1g\"] = cs[3]\n",
    "dicty[\"C_F1h\"] = cs[4]\n",
    "dicty[\"C_F2\"] = cs[5]\n",
    "dicty[\"C_F2C\"] = cs[6]\n",
    "df_ndc = pd.DataFrame(dicty)\n",
    "\n",
    "eu_assessment = np.zeros(len(rules))+np.nan\n",
    "eu_ndc = float((xr_total.NDC_l.sel(Time=2030, ISO='EU') + xr_total.NDC_h.sel(Time=2030, ISO='EU'))/2)\n",
    "for es_i, es in enumerate(rules):\n",
    "    wh = np.where(eu_ndc <= xr_budgets_scenario.sel(Time=2030, ISO='EU', Category=all_categories)[es])[0]\n",
    "    if len(wh) > 0:\n",
    "        eu_assessment[es_i] = int(wh[0])\n",
    "    else:\n",
    "        eu_assessment[es_i] = int(3)\n",
    "\n",
    "# cs = np.zeros(shape=(len(rules), len(all_countries_iso)))\n",
    "# for r_i, r in enumerate(all_countries_iso):\n",
    "#     curpol = float(xr_preprocess.sel(Variable=\"CurPol\", Region=r, Ccat=\"C1+C2\"))\n",
    "#     for es_i, es in enumerate(rules):\n",
    "#         ess = np.array(xr_preprocess.sel(Variable=es, Region=r)).astype(float)\n",
    "#         if not np.isnan(curpol):\n",
    "#             error = ess-curpol\n",
    "#             wh = np.where(error >= 0)[0]\n",
    "#             if len(wh) > 0:\n",
    "#                 cs[es_i, r_i] = int(wh[0])\n",
    "#             else:\n",
    "#                 cs[es_i, r_i] = int(7)\n",
    "#         else:\n",
    "#             cs[es_i, r_i] = np.nan\n",
    "# dicty = {}\n",
    "# dicty[\"Region\"] = all_countries_iso\n",
    "# dicty[\"C_GF\"] = cs[0]\n",
    "# dicty[\"C_PC\"] = cs[1]\n",
    "# dicty[\"C_PCC\"] = cs[2]\n",
    "# dicty[\"C_F1g\"] = cs[3]\n",
    "# dicty[\"C_F1h\"] = cs[4]\n",
    "# dicty[\"C_F2\"] = cs[5]\n",
    "# dicty[\"C_F2C\"] = cs[6]\n",
    "# df_curpol = pd.DataFrame(dicty)"
   ]
  },
  {
   "attachments": {},
   "cell_type": "markdown",
   "metadata": {},
   "source": [
    "## Plot"
   ]
  },
  {
   "cell_type": "code",
   "execution_count": 36,
   "metadata": {},
   "outputs": [],
   "source": [
    "gf = np.array([df_ndc.iloc[c]['C_GF'] for c in range(len(df_ndc))])\n",
    "gf[np.isnan(gf)] = 3\n",
    "gf = gf.astype(int)\n",
    "\n",
    "a1g = np.array([df_ndc.iloc[c]['C_F1g'] for c in range(len(df_ndc))])\n",
    "a1g[np.isnan(a1g)] = 3\n",
    "a1g = a1g.astype(int)\n",
    "\n",
    "a1h = np.array([df_ndc.iloc[c]['C_F1h'] for c in range(len(df_ndc))])\n",
    "a1h[np.isnan(a1h)] = 3\n",
    "a1h = a1h.astype(int)\n",
    "\n",
    "a2g = np.array([df_ndc.iloc[c]['C_F2'] for c in range(len(df_ndc))])\n",
    "a2g[np.isnan(a2g)] = 3\n",
    "a2g = a2g.astype(int)\n",
    "\n",
    "pc = np.array([df_ndc.iloc[c]['C_PC'] for c in range(len(df_ndc))])\n",
    "pc[np.isnan(pc)] = 3\n",
    "pc = pc.astype(int)\n",
    "\n",
    "a2t = np.array([df_ndc.iloc[c]['C_F2C'] for c in range(len(df_ndc))])\n",
    "a2t[np.isnan(a2t)] = 3\n",
    "a2t = a2t.astype(int)"
   ]
  },
  {
   "cell_type": "code",
   "execution_count": 37,
   "metadata": {},
   "outputs": [
    {
     "data": {
      "application/vnd.plotly.v1+json": {
       "config": {
        "plotlyServerURL": "https://plotly.com"
       },
       "data": [
        {
         "colorbar": {
          "len": 0.6,
          "tickfont": {
           "size": 15
          },
          "ticktext": [
           "C1+C2<br>(Below 1.5 degrees)",
           "C3<br>(Well below 2 degrees)",
           "C6<br>(Below 3 degrees)",
           "C7<br>(Below 4 degrees)"
          ],
          "tickvals": [
           0,
           1,
           2,
           3
          ],
          "x": 0,
          "y": 0.4
         },
         "colorscale": [
          [
           0,
           "rgb(0,104,55)"
          ],
          [
           0.1,
           "rgb(26,152,80)"
          ],
          [
           0.2,
           "rgb(102,189,99)"
          ],
          [
           0.3,
           "rgb(166,217,106)"
          ],
          [
           0.4,
           "rgb(217,239,139)"
          ],
          [
           0.5,
           "rgb(255,255,191)"
          ],
          [
           0.6,
           "rgb(254,224,139)"
          ],
          [
           0.7,
           "rgb(253,174,97)"
          ],
          [
           0.8,
           "rgb(244,109,67)"
          ],
          [
           0.9,
           "rgb(215,48,39)"
          ],
          [
           1,
           "rgb(165,0,38)"
          ]
         ],
         "geo": "geo",
         "hovertemplate": "%{text}",
         "locationmode": "ISO-3",
         "locations": [
          "AFG",
          "ALB",
          "DZA",
          "AND",
          "AGO",
          "ATG",
          "ARG",
          "ARM",
          "AUS",
          "AUT",
          "AZE",
          "BHR",
          "BGD",
          "BRB",
          "BLR",
          "BEL",
          "BLZ",
          "BEN",
          "BTN",
          "BOL",
          "BIH",
          "BWA",
          "BRA",
          "BRN",
          "BGR",
          "BFA",
          "BDI",
          "KHM",
          "CMR",
          "CAN",
          "CPV",
          "CAF",
          "TCD",
          "CHL",
          "CHN",
          "COL",
          "COM",
          "COG",
          "COK",
          "CRI",
          "CIV",
          "HRV",
          "CUB",
          "CYP",
          "CZE",
          "COD",
          "DNK",
          "DJI",
          "DMA",
          "DOM",
          "ECU",
          "EGY",
          "SLV",
          "GNQ",
          "ERI",
          "EST",
          "SWZ",
          "ETH",
          "FJI",
          "FIN",
          "FRA",
          "GAB",
          "GEO",
          "DEU",
          "GHA",
          "GRC",
          "GRD",
          "GTM",
          "GIN",
          "GNB",
          "GUY",
          "HTI",
          "VAT",
          "HND",
          "HUN",
          "ISL",
          "IND",
          "IDN",
          "IRN",
          "IRQ",
          "IRL",
          "ISR",
          "ITA",
          "JAM",
          "JPN",
          "JOR",
          "KAZ",
          "KEN",
          "KIR",
          "KWT",
          "KGZ",
          "LAO",
          "LVA",
          "LBN",
          "LSO",
          "LBR",
          "LBY",
          "LIE",
          "LTU",
          "LUX",
          "MKD",
          "MDG",
          "MWI",
          "MYS",
          "MDV",
          "MLI",
          "MLT",
          "MHL",
          "MRT",
          "MUS",
          "MEX",
          "FSM",
          "MDA",
          "MCO",
          "MNG",
          "MNE",
          "MAR",
          "MOZ",
          "MMR",
          "NAM",
          "NRU",
          "NPL",
          "NLD",
          "NZL",
          "NIC",
          "NER",
          "NGA",
          "NIU",
          "PRK",
          "NOR",
          "OMN",
          "PAK",
          "PLW",
          "PSE",
          "PAN",
          "PNG",
          "PRY",
          "PER",
          "PHL",
          "POL",
          "PRT",
          "QAT",
          "ROU",
          "RUS",
          "RWA",
          "KNA",
          "LCA",
          "VCT",
          "WSM",
          "SMR",
          "STP",
          "SAU",
          "SEN",
          "SRB",
          "SYC",
          "SLE",
          "SGP",
          "SVK",
          "SVN",
          "SLB",
          "SOM",
          "ZAF",
          "KOR",
          "SSD",
          "ESP",
          "LKA",
          "SDN",
          "SUR",
          "SWE",
          "CHE",
          "SYR",
          "TJK",
          "TZA",
          "THA",
          "BHS",
          "GMB",
          "TLS",
          "TGO",
          "TON",
          "TTO",
          "TUN",
          "TUR",
          "TKM",
          "TUV",
          "UGA",
          "UKR",
          "ARE",
          "GBR",
          "USA",
          "URY",
          "UZB",
          "VUT",
          "VEN",
          "VNM",
          "YEM",
          "ZMB",
          "ZWE"
         ],
         "marker": {
          "line": {
           "color": "white",
           "width": 0.4
          }
         },
         "name": "",
         "showscale": true,
         "text": [
          "AFG: Below 1.5 degrees",
          "ALB: Below 1.5 degrees",
          "DZA: Below 3 degrees",
          "AND: Below 3 degrees",
          "AGO: Below 1.5 degrees",
          "ATG: Below 4 degrees",
          "ARG: Below 4 degrees",
          "ARM: Below 4 degrees",
          "AUS: Below 4 degrees",
          "AUT: Below 4 degrees",
          "AZE: Below 4 degrees",
          "BHR: Below 4 degrees",
          "BGD: Below 1.5 degrees",
          "BRB: Well below 2 degrees",
          "BLR: Below 4 degrees",
          "BEL: Below 4 degrees",
          "BLZ: Well below 2 degrees",
          "BEN: Below 1.5 degrees",
          "BTN: Below 3 degrees",
          "BOL: Below 4 degrees",
          "BIH: Below 4 degrees",
          "BWA: Below 4 degrees",
          "BRA: Below 1.5 degrees",
          "BRN: Below 4 degrees",
          "BGR: Below 4 degrees",
          "BFA: Below 1.5 degrees",
          "BDI: Below 1.5 degrees",
          "KHM: Well below 2 degrees",
          "CMR: Below 1.5 degrees",
          "CAN: Below 4 degrees",
          "CPV: Below 1.5 degrees",
          "CAF: Below 1.5 degrees",
          "TCD: Below 1.5 degrees",
          "CHL: Below 3 degrees",
          "CHN: Below 4 degrees",
          "COL: Below 1.5 degrees",
          "COM: Below 1.5 degrees",
          "COG: Below 1.5 degrees",
          "COK: Below 4 degrees",
          "CRI: Below 1.5 degrees",
          "CIV: Below 1.5 degrees",
          "HRV: Below 4 degrees",
          "CUB: Below 3 degrees",
          "CYP: Below 1.5 degrees",
          "CZE: Below 4 degrees",
          "COD: Below 1.5 degrees",
          "DNK: Below 4 degrees",
          "DJI: Below 1.5 degrees",
          "DMA: Below 1.5 degrees",
          "DOM: Below 1.5 degrees",
          "ECU: Below 1.5 degrees",
          "EGY: Below 4 degrees",
          "SLV: Below 1.5 degrees",
          "GNQ: Below 4 degrees",
          "ERI: Below 1.5 degrees",
          "EST: Below 4 degrees",
          "SWZ: Below 4 degrees",
          "ETH: Below 1.5 degrees",
          "FJI: Below 1.5 degrees",
          "FIN: Below 4 degrees",
          "FRA: Below 3 degrees",
          "GAB: Below 1.5 degrees",
          "GEO: Below 1.5 degrees",
          "DEU: Below 4 degrees",
          "GHA: Below 1.5 degrees",
          "GRC: Below 4 degrees",
          "GRD: Below 3 degrees",
          "GTM: Below 1.5 degrees",
          "GIN: Below 1.5 degrees",
          "GNB: Below 3 degrees",
          "GUY: Below 4 degrees",
          "HTI: Below 1.5 degrees",
          "VAT: Below 4 degrees",
          "HND: Below 1.5 degrees",
          "HUN: Below 4 degrees",
          "ISL: Below 3 degrees",
          "IND: Below 1.5 degrees",
          "IDN: Below 1.5 degrees",
          "IRN: Below 4 degrees",
          "IRQ: Below 4 degrees",
          "IRL: Below 4 degrees",
          "ISR: Below 4 degrees",
          "ITA: Below 3 degrees",
          "JAM: Below 1.5 degrees",
          "JPN: Below 4 degrees",
          "JOR: Below 1.5 degrees",
          "KAZ: Below 4 degrees",
          "KEN: Below 1.5 degrees",
          "KIR: Below 1.5 degrees",
          "KWT: Below 4 degrees",
          "KGZ: Below 1.5 degrees",
          "LAO: Below 1.5 degrees",
          "LVA: Below 4 degrees",
          "LBN: Below 4 degrees",
          "LSO: Below 1.5 degrees",
          "LBR: Below 1.5 degrees",
          "LBY: Below 4 degrees",
          "LIE: Below 1.5 degrees",
          "LTU: Below 4 degrees",
          "LUX: Below 4 degrees",
          "MKD: Below 1.5 degrees",
          "MDG: Below 1.5 degrees",
          "MWI: Below 1.5 degrees",
          "MYS: Below 4 degrees",
          "MDV: Below 4 degrees",
          "MLI: Below 1.5 degrees",
          "MLT: Below 1.5 degrees",
          "MHL: Below 1.5 degrees",
          "MRT: Below 1.5 degrees",
          "MUS: Below 3 degrees",
          "MEX: Below 4 degrees",
          "FSM: Below 1.5 degrees",
          "MDA: Well below 2 degrees",
          "MCO: Below 1.5 degrees",
          "MNG: Below 4 degrees",
          "MNE: Below 3 degrees",
          "MAR: Below 1.5 degrees",
          "MOZ: Below 1.5 degrees",
          "MMR: Below 1.5 degrees",
          "NAM: Below 1.5 degrees",
          "NRU: Below 3 degrees",
          "NPL: Below 1.5 degrees",
          "NLD: Below 4 degrees",
          "NZL: Below 4 degrees",
          "NIC: Below 4 degrees",
          "NER: Below 1.5 degrees",
          "NGA: Below 1.5 degrees",
          "NIU: Well below 2 degrees",
          "PRK: Below 4 degrees",
          "NOR: Well below 2 degrees",
          "OMN: Below 4 degrees",
          "PAK: Below 3 degrees",
          "PLW: Below 4 degrees",
          "PSE: Below 1.5 degrees",
          "PAN: Below 4 degrees",
          "PNG: Below 1.5 degrees",
          "PRY: Below 4 degrees",
          "PER: Below 1.5 degrees",
          "PHL: Below 1.5 degrees",
          "POL: Below 4 degrees",
          "PRT: Below 4 degrees",
          "QAT: Below 4 degrees",
          "ROU: Below 3 degrees",
          "RUS: Below 4 degrees",
          "RWA: Below 1.5 degrees",
          "KNA: Below 4 degrees",
          "LCA: Below 1.5 degrees",
          "VCT: Well below 2 degrees",
          "WSM: Below 1.5 degrees",
          "SMR: Below 4 degrees",
          "STP: Below 1.5 degrees",
          "SAU: Below 4 degrees",
          "SEN: Below 1.5 degrees",
          "SRB: Below 4 degrees",
          "SYC: Below 4 degrees",
          "SLE: Below 1.5 degrees",
          "SGP: Below 4 degrees",
          "SVK: Below 3 degrees",
          "SVN: Below 4 degrees",
          "SLB: Below 1.5 degrees",
          "SOM: Below 3 degrees",
          "ZAF: Below 4 degrees",
          "KOR: Below 4 degrees",
          "SSD: Well below 2 degrees",
          "ESP: Below 3 degrees",
          "LKA: Below 1.5 degrees",
          "SDN: Below 1.5 degrees",
          "SUR: Below 4 degrees",
          "SWE: Below 3 degrees",
          "CHE: Below 1.5 degrees",
          "SYR: Below 1.5 degrees",
          "TJK: Below 1.5 degrees",
          "TZA: Below 1.5 degrees",
          "THA: Below 3 degrees",
          "BHS: Below 4 degrees",
          "GMB: Below 1.5 degrees",
          "TLS: Below 1.5 degrees",
          "TGO: Below 1.5 degrees",
          "TON: Below 1.5 degrees",
          "TTO: Below 4 degrees",
          "TUN: Well below 2 degrees",
          "TUR: Below 4 degrees",
          "TKM: Below 4 degrees",
          "TUV: Below 1.5 degrees",
          "UGA: Below 1.5 degrees",
          "UKR: Below 4 degrees",
          "ARE: Below 4 degrees",
          "GBR: Below 1.5 degrees",
          "USA: Below 4 degrees",
          "URY: Below 4 degrees",
          "UZB: Below 4 degrees",
          "VUT: Below 1.5 degrees",
          "VEN: Below 4 degrees",
          "VNM: Below 4 degrees",
          "YEM: Below 1.5 degrees",
          "ZMB: Below 1.5 degrees",
          "ZWE: Below 1.5 degrees"
         ],
         "type": "choropleth",
         "z": [
          0,
          0,
          2,
          2,
          0,
          3,
          3,
          3,
          3,
          3,
          3,
          3,
          0,
          1,
          3,
          3,
          1,
          0,
          2,
          3,
          3,
          3,
          0,
          3,
          3,
          0,
          0,
          1,
          0,
          3,
          0,
          0,
          0,
          2,
          3,
          0,
          0,
          0,
          3,
          0,
          0,
          3,
          2,
          0,
          3,
          0,
          3,
          0,
          0,
          0,
          0,
          3,
          0,
          3,
          0,
          3,
          3,
          0,
          0,
          3,
          2,
          0,
          0,
          3,
          0,
          3,
          2,
          0,
          0,
          2,
          3,
          0,
          3,
          0,
          3,
          2,
          0,
          0,
          3,
          3,
          3,
          3,
          2,
          0,
          3,
          0,
          3,
          0,
          0,
          3,
          0,
          0,
          3,
          3,
          0,
          0,
          3,
          0,
          3,
          3,
          0,
          0,
          0,
          3,
          3,
          0,
          0,
          0,
          0,
          2,
          3,
          0,
          1,
          0,
          3,
          2,
          0,
          0,
          0,
          0,
          2,
          0,
          3,
          3,
          3,
          0,
          0,
          1,
          3,
          1,
          3,
          2,
          3,
          0,
          3,
          0,
          3,
          0,
          0,
          3,
          3,
          3,
          2,
          3,
          0,
          3,
          0,
          1,
          0,
          3,
          0,
          3,
          0,
          3,
          3,
          0,
          3,
          2,
          3,
          0,
          2,
          3,
          3,
          1,
          2,
          0,
          0,
          3,
          2,
          0,
          0,
          0,
          0,
          2,
          3,
          0,
          0,
          0,
          0,
          3,
          1,
          3,
          3,
          0,
          0,
          3,
          3,
          0,
          3,
          3,
          3,
          0,
          3,
          3,
          0,
          0,
          0
         ],
         "zmax": 3,
         "zmin": 0
        },
        {
         "colorscale": [
          [
           0,
           "rgb(0,104,55)"
          ],
          [
           0.1,
           "rgb(26,152,80)"
          ],
          [
           0.2,
           "rgb(102,189,99)"
          ],
          [
           0.3,
           "rgb(166,217,106)"
          ],
          [
           0.4,
           "rgb(217,239,139)"
          ],
          [
           0.5,
           "rgb(255,255,191)"
          ],
          [
           0.6,
           "rgb(254,224,139)"
          ],
          [
           0.7,
           "rgb(253,174,97)"
          ],
          [
           0.8,
           "rgb(244,109,67)"
          ],
          [
           0.9,
           "rgb(215,48,39)"
          ],
          [
           1,
           "rgb(165,0,38)"
          ]
         ],
         "geo": "geo",
         "hovertemplate": "%{text}",
         "locationmode": "ISO-3",
         "locations": [
          "AUT",
          "BEL",
          "BGR",
          "HRV",
          "CYP",
          "CZE",
          "DNK",
          "EST",
          "FIN",
          "FRA",
          "DEU",
          "GRC",
          "HUN",
          "IRL",
          "ITA",
          "LVA",
          "LTU",
          "LUX",
          "MLT",
          "NLD",
          "POL",
          "PRT",
          "ROU",
          "SVK",
          "SVN",
          "ESP",
          "SWE"
         ],
         "marker": {
          "line": {
           "color": "white",
           "width": 0.4
          }
         },
         "name": "",
         "showscale": false,
         "text": [
          "EU : Below 4 degrees",
          "EU : Below 4 degrees",
          "EU : Below 4 degrees",
          "EU : Below 4 degrees",
          "EU : Below 4 degrees",
          "EU : Below 4 degrees",
          "EU : Below 4 degrees",
          "EU : Below 4 degrees",
          "EU : Below 4 degrees",
          "EU : Below 4 degrees",
          "EU : Below 4 degrees",
          "EU : Below 4 degrees",
          "EU : Below 4 degrees",
          "EU : Below 4 degrees",
          "EU : Below 4 degrees",
          "EU : Below 4 degrees",
          "EU : Below 4 degrees",
          "EU : Below 4 degrees",
          "EU : Below 4 degrees",
          "EU : Below 4 degrees",
          "EU : Below 4 degrees",
          "EU : Below 4 degrees",
          "EU : Below 4 degrees",
          "EU : Below 4 degrees",
          "EU : Below 4 degrees",
          "EU : Below 4 degrees",
          "EU : Below 4 degrees"
         ],
         "type": "choropleth",
         "z": [
          3,
          3,
          3,
          3,
          3,
          3,
          3,
          3,
          3,
          3,
          3,
          3,
          3,
          3,
          3,
          3,
          3,
          3,
          3,
          3,
          3,
          3,
          3,
          3,
          3,
          3,
          3
         ],
         "zmax": 3,
         "zmin": 0
        }
       ],
       "layout": {
        "annotations": [
         {
          "align": "left",
          "ax": 0,
          "ay": 0,
          "font": {
           "color": "black",
           "size": 18
          },
          "showarrow": false,
          "text": "<b>NDC alignment of an equal per capita approach</b>",
          "x": 0.5,
          "xref": "paper",
          "y": 1.05,
          "yref": "paper"
         },
         {
          "align": "left",
          "ax": 0,
          "ay": 0,
          "font": {
           "color": "black",
           "size": 18
          },
          "showarrow": false,
          "text": "<b>Climate target",
          "x": 0,
          "xref": "paper",
          "y": 0.77,
          "yref": "paper"
         }
        ],
        "geo": {
         "domain": {
          "x": [
           0,
           1
          ],
          "y": [
           0,
           1
          ]
         },
         "lakecolor": "rgb(255, 255, 255)",
         "oceancolor": "aliceblue",
         "projection": {
          "type": "natural earth"
         },
         "showcoastlines": false,
         "showlakes": true,
         "showocean": true,
         "visible": false
        },
        "height": 800,
        "template": {
         "data": {
          "bar": [
           {
            "error_x": {
             "color": "#2a3f5f"
            },
            "error_y": {
             "color": "#2a3f5f"
            },
            "marker": {
             "line": {
              "color": "#E5ECF6",
              "width": 0.5
             },
             "pattern": {
              "fillmode": "overlay",
              "size": 10,
              "solidity": 0.2
             }
            },
            "type": "bar"
           }
          ],
          "barpolar": [
           {
            "marker": {
             "line": {
              "color": "#E5ECF6",
              "width": 0.5
             },
             "pattern": {
              "fillmode": "overlay",
              "size": 10,
              "solidity": 0.2
             }
            },
            "type": "barpolar"
           }
          ],
          "carpet": [
           {
            "aaxis": {
             "endlinecolor": "#2a3f5f",
             "gridcolor": "white",
             "linecolor": "white",
             "minorgridcolor": "white",
             "startlinecolor": "#2a3f5f"
            },
            "baxis": {
             "endlinecolor": "#2a3f5f",
             "gridcolor": "white",
             "linecolor": "white",
             "minorgridcolor": "white",
             "startlinecolor": "#2a3f5f"
            },
            "type": "carpet"
           }
          ],
          "choropleth": [
           {
            "colorbar": {
             "outlinewidth": 0,
             "ticks": ""
            },
            "type": "choropleth"
           }
          ],
          "contour": [
           {
            "colorbar": {
             "outlinewidth": 0,
             "ticks": ""
            },
            "colorscale": [
             [
              0,
              "#0d0887"
             ],
             [
              0.1111111111111111,
              "#46039f"
             ],
             [
              0.2222222222222222,
              "#7201a8"
             ],
             [
              0.3333333333333333,
              "#9c179e"
             ],
             [
              0.4444444444444444,
              "#bd3786"
             ],
             [
              0.5555555555555556,
              "#d8576b"
             ],
             [
              0.6666666666666666,
              "#ed7953"
             ],
             [
              0.7777777777777778,
              "#fb9f3a"
             ],
             [
              0.8888888888888888,
              "#fdca26"
             ],
             [
              1,
              "#f0f921"
             ]
            ],
            "type": "contour"
           }
          ],
          "contourcarpet": [
           {
            "colorbar": {
             "outlinewidth": 0,
             "ticks": ""
            },
            "type": "contourcarpet"
           }
          ],
          "heatmap": [
           {
            "colorbar": {
             "outlinewidth": 0,
             "ticks": ""
            },
            "colorscale": [
             [
              0,
              "#0d0887"
             ],
             [
              0.1111111111111111,
              "#46039f"
             ],
             [
              0.2222222222222222,
              "#7201a8"
             ],
             [
              0.3333333333333333,
              "#9c179e"
             ],
             [
              0.4444444444444444,
              "#bd3786"
             ],
             [
              0.5555555555555556,
              "#d8576b"
             ],
             [
              0.6666666666666666,
              "#ed7953"
             ],
             [
              0.7777777777777778,
              "#fb9f3a"
             ],
             [
              0.8888888888888888,
              "#fdca26"
             ],
             [
              1,
              "#f0f921"
             ]
            ],
            "type": "heatmap"
           }
          ],
          "heatmapgl": [
           {
            "colorbar": {
             "outlinewidth": 0,
             "ticks": ""
            },
            "colorscale": [
             [
              0,
              "#0d0887"
             ],
             [
              0.1111111111111111,
              "#46039f"
             ],
             [
              0.2222222222222222,
              "#7201a8"
             ],
             [
              0.3333333333333333,
              "#9c179e"
             ],
             [
              0.4444444444444444,
              "#bd3786"
             ],
             [
              0.5555555555555556,
              "#d8576b"
             ],
             [
              0.6666666666666666,
              "#ed7953"
             ],
             [
              0.7777777777777778,
              "#fb9f3a"
             ],
             [
              0.8888888888888888,
              "#fdca26"
             ],
             [
              1,
              "#f0f921"
             ]
            ],
            "type": "heatmapgl"
           }
          ],
          "histogram": [
           {
            "marker": {
             "pattern": {
              "fillmode": "overlay",
              "size": 10,
              "solidity": 0.2
             }
            },
            "type": "histogram"
           }
          ],
          "histogram2d": [
           {
            "colorbar": {
             "outlinewidth": 0,
             "ticks": ""
            },
            "colorscale": [
             [
              0,
              "#0d0887"
             ],
             [
              0.1111111111111111,
              "#46039f"
             ],
             [
              0.2222222222222222,
              "#7201a8"
             ],
             [
              0.3333333333333333,
              "#9c179e"
             ],
             [
              0.4444444444444444,
              "#bd3786"
             ],
             [
              0.5555555555555556,
              "#d8576b"
             ],
             [
              0.6666666666666666,
              "#ed7953"
             ],
             [
              0.7777777777777778,
              "#fb9f3a"
             ],
             [
              0.8888888888888888,
              "#fdca26"
             ],
             [
              1,
              "#f0f921"
             ]
            ],
            "type": "histogram2d"
           }
          ],
          "histogram2dcontour": [
           {
            "colorbar": {
             "outlinewidth": 0,
             "ticks": ""
            },
            "colorscale": [
             [
              0,
              "#0d0887"
             ],
             [
              0.1111111111111111,
              "#46039f"
             ],
             [
              0.2222222222222222,
              "#7201a8"
             ],
             [
              0.3333333333333333,
              "#9c179e"
             ],
             [
              0.4444444444444444,
              "#bd3786"
             ],
             [
              0.5555555555555556,
              "#d8576b"
             ],
             [
              0.6666666666666666,
              "#ed7953"
             ],
             [
              0.7777777777777778,
              "#fb9f3a"
             ],
             [
              0.8888888888888888,
              "#fdca26"
             ],
             [
              1,
              "#f0f921"
             ]
            ],
            "type": "histogram2dcontour"
           }
          ],
          "mesh3d": [
           {
            "colorbar": {
             "outlinewidth": 0,
             "ticks": ""
            },
            "type": "mesh3d"
           }
          ],
          "parcoords": [
           {
            "line": {
             "colorbar": {
              "outlinewidth": 0,
              "ticks": ""
             }
            },
            "type": "parcoords"
           }
          ],
          "pie": [
           {
            "automargin": true,
            "type": "pie"
           }
          ],
          "scatter": [
           {
            "fillpattern": {
             "fillmode": "overlay",
             "size": 10,
             "solidity": 0.2
            },
            "type": "scatter"
           }
          ],
          "scatter3d": [
           {
            "line": {
             "colorbar": {
              "outlinewidth": 0,
              "ticks": ""
             }
            },
            "marker": {
             "colorbar": {
              "outlinewidth": 0,
              "ticks": ""
             }
            },
            "type": "scatter3d"
           }
          ],
          "scattercarpet": [
           {
            "marker": {
             "colorbar": {
              "outlinewidth": 0,
              "ticks": ""
             }
            },
            "type": "scattercarpet"
           }
          ],
          "scattergeo": [
           {
            "marker": {
             "colorbar": {
              "outlinewidth": 0,
              "ticks": ""
             }
            },
            "type": "scattergeo"
           }
          ],
          "scattergl": [
           {
            "marker": {
             "colorbar": {
              "outlinewidth": 0,
              "ticks": ""
             }
            },
            "type": "scattergl"
           }
          ],
          "scattermapbox": [
           {
            "marker": {
             "colorbar": {
              "outlinewidth": 0,
              "ticks": ""
             }
            },
            "type": "scattermapbox"
           }
          ],
          "scatterpolar": [
           {
            "marker": {
             "colorbar": {
              "outlinewidth": 0,
              "ticks": ""
             }
            },
            "type": "scatterpolar"
           }
          ],
          "scatterpolargl": [
           {
            "marker": {
             "colorbar": {
              "outlinewidth": 0,
              "ticks": ""
             }
            },
            "type": "scatterpolargl"
           }
          ],
          "scatterternary": [
           {
            "marker": {
             "colorbar": {
              "outlinewidth": 0,
              "ticks": ""
             }
            },
            "type": "scatterternary"
           }
          ],
          "surface": [
           {
            "colorbar": {
             "outlinewidth": 0,
             "ticks": ""
            },
            "colorscale": [
             [
              0,
              "#0d0887"
             ],
             [
              0.1111111111111111,
              "#46039f"
             ],
             [
              0.2222222222222222,
              "#7201a8"
             ],
             [
              0.3333333333333333,
              "#9c179e"
             ],
             [
              0.4444444444444444,
              "#bd3786"
             ],
             [
              0.5555555555555556,
              "#d8576b"
             ],
             [
              0.6666666666666666,
              "#ed7953"
             ],
             [
              0.7777777777777778,
              "#fb9f3a"
             ],
             [
              0.8888888888888888,
              "#fdca26"
             ],
             [
              1,
              "#f0f921"
             ]
            ],
            "type": "surface"
           }
          ],
          "table": [
           {
            "cells": {
             "fill": {
              "color": "#EBF0F8"
             },
             "line": {
              "color": "white"
             }
            },
            "header": {
             "fill": {
              "color": "#C8D4E3"
             },
             "line": {
              "color": "white"
             }
            },
            "type": "table"
           }
          ]
         },
         "layout": {
          "annotationdefaults": {
           "arrowcolor": "#2a3f5f",
           "arrowhead": 0,
           "arrowwidth": 1
          },
          "autotypenumbers": "strict",
          "coloraxis": {
           "colorbar": {
            "outlinewidth": 0,
            "ticks": ""
           }
          },
          "colorscale": {
           "diverging": [
            [
             0,
             "#8e0152"
            ],
            [
             0.1,
             "#c51b7d"
            ],
            [
             0.2,
             "#de77ae"
            ],
            [
             0.3,
             "#f1b6da"
            ],
            [
             0.4,
             "#fde0ef"
            ],
            [
             0.5,
             "#f7f7f7"
            ],
            [
             0.6,
             "#e6f5d0"
            ],
            [
             0.7,
             "#b8e186"
            ],
            [
             0.8,
             "#7fbc41"
            ],
            [
             0.9,
             "#4d9221"
            ],
            [
             1,
             "#276419"
            ]
           ],
           "sequential": [
            [
             0,
             "#0d0887"
            ],
            [
             0.1111111111111111,
             "#46039f"
            ],
            [
             0.2222222222222222,
             "#7201a8"
            ],
            [
             0.3333333333333333,
             "#9c179e"
            ],
            [
             0.4444444444444444,
             "#bd3786"
            ],
            [
             0.5555555555555556,
             "#d8576b"
            ],
            [
             0.6666666666666666,
             "#ed7953"
            ],
            [
             0.7777777777777778,
             "#fb9f3a"
            ],
            [
             0.8888888888888888,
             "#fdca26"
            ],
            [
             1,
             "#f0f921"
            ]
           ],
           "sequentialminus": [
            [
             0,
             "#0d0887"
            ],
            [
             0.1111111111111111,
             "#46039f"
            ],
            [
             0.2222222222222222,
             "#7201a8"
            ],
            [
             0.3333333333333333,
             "#9c179e"
            ],
            [
             0.4444444444444444,
             "#bd3786"
            ],
            [
             0.5555555555555556,
             "#d8576b"
            ],
            [
             0.6666666666666666,
             "#ed7953"
            ],
            [
             0.7777777777777778,
             "#fb9f3a"
            ],
            [
             0.8888888888888888,
             "#fdca26"
            ],
            [
             1,
             "#f0f921"
            ]
           ]
          },
          "colorway": [
           "#636efa",
           "#EF553B",
           "#00cc96",
           "#ab63fa",
           "#FFA15A",
           "#19d3f3",
           "#FF6692",
           "#B6E880",
           "#FF97FF",
           "#FECB52"
          ],
          "font": {
           "color": "#2a3f5f"
          },
          "geo": {
           "bgcolor": "white",
           "lakecolor": "white",
           "landcolor": "#E5ECF6",
           "showlakes": true,
           "showland": true,
           "subunitcolor": "white"
          },
          "hoverlabel": {
           "align": "left"
          },
          "hovermode": "closest",
          "mapbox": {
           "style": "light"
          },
          "paper_bgcolor": "white",
          "plot_bgcolor": "#E5ECF6",
          "polar": {
           "angularaxis": {
            "gridcolor": "white",
            "linecolor": "white",
            "ticks": ""
           },
           "bgcolor": "#E5ECF6",
           "radialaxis": {
            "gridcolor": "white",
            "linecolor": "white",
            "ticks": ""
           }
          },
          "scene": {
           "xaxis": {
            "backgroundcolor": "#E5ECF6",
            "gridcolor": "white",
            "gridwidth": 2,
            "linecolor": "white",
            "showbackground": true,
            "ticks": "",
            "zerolinecolor": "white"
           },
           "yaxis": {
            "backgroundcolor": "#E5ECF6",
            "gridcolor": "white",
            "gridwidth": 2,
            "linecolor": "white",
            "showbackground": true,
            "ticks": "",
            "zerolinecolor": "white"
           },
           "zaxis": {
            "backgroundcolor": "#E5ECF6",
            "gridcolor": "white",
            "gridwidth": 2,
            "linecolor": "white",
            "showbackground": true,
            "ticks": "",
            "zerolinecolor": "white"
           }
          },
          "shapedefaults": {
           "line": {
            "color": "#2a3f5f"
           }
          },
          "ternary": {
           "aaxis": {
            "gridcolor": "white",
            "linecolor": "white",
            "ticks": ""
           },
           "baxis": {
            "gridcolor": "white",
            "linecolor": "white",
            "ticks": ""
           },
           "bgcolor": "#E5ECF6",
           "caxis": {
            "gridcolor": "white",
            "linecolor": "white",
            "ticks": ""
           }
          },
          "title": {
           "x": 0.05
          },
          "xaxis": {
           "automargin": true,
           "gridcolor": "white",
           "linecolor": "white",
           "ticks": "",
           "title": {
            "standoff": 15
           },
           "zerolinecolor": "white",
           "zerolinewidth": 2
          },
          "yaxis": {
           "automargin": true,
           "gridcolor": "white",
           "linecolor": "white",
           "ticks": "",
           "title": {
            "standoff": 15
           },
           "zerolinecolor": "white",
           "zerolinewidth": 2
          }
         }
        },
        "width": 1500
       }
      }
     },
     "metadata": {},
     "output_type": "display_data"
    }
   ],
   "source": [
    "fig = make_subplots(rows=1, cols=1, subplot_titles=(''), \n",
    "                                                    specs=[[{'type': 'choropleth'}]],\n",
    "                                                    horizontal_spacing = 0, vertical_spacing=0.03)\n",
    "\n",
    "colorbar_abs = dict(len=1, x=1, tickvals = [0, 1, 2, 3], ticktext = ['1', '10', '100', '1000'])\n",
    "ts = ['Below 1.5 degrees', 'Well below 2 degrees', 'Below 3 degrees', 'Below 4 degrees']\n",
    "colorbar_pc = dict(len=1, x=1)\n",
    "\n",
    "cm = True\n",
    "t = pc\n",
    "#t[t >= 4] = np.nan\n",
    "fig.add_trace(\n",
    "    go.Choropleth(\n",
    "    locations=all_countries_iso,\n",
    "    z = t,\n",
    "    locationmode = 'ISO-3',\n",
    "    colorscale = 'RdYlGn_r',\n",
    "    zmax = 3,\n",
    "    zmin = 0,\n",
    "    text = [cty+\": \"+ts[t[cty_i]] for cty_i, cty in enumerate(all_countries_iso)],\n",
    "    hovertemplate  = '%{text}',\n",
    "    name=\"\",\n",
    "    marker_line_color='white', \n",
    "    marker_line_width=0.4,\n",
    "    colorbar=dict(len=0.6, x=0., y=0.40, tickvals = [0, 1, 2, 3], ticktext = [all_categories[c]+\"<br>(\"+ts[c]+\")\" for c in range(len(all_categories))], tickfont={'size': 15}),\n",
    "    showscale=cm\n",
    "), 1, 1)\n",
    "\n",
    "euval = eu_assessment[rules == \"PC\"][0]\n",
    "fig.add_trace(\n",
    "    go.Choropleth(\n",
    "    locations=group_eu,\n",
    "    z = np.array([euval]*len(group_eu)),\n",
    "    locationmode = 'ISO-3',\n",
    "    colorscale = 'RdYlGn_r',\n",
    "    zmax = 3,\n",
    "    zmin = 0,\n",
    "    text = [\"EU : \"+ts[int(euval)]]*len(group_eu),\n",
    "    hovertemplate  = '%{text}',\n",
    "    name=\"\",\n",
    "    marker_line_color='white', \n",
    "    marker_line_width=0.4,\n",
    "    showscale=False\n",
    "), 1, 1)\n",
    "\n",
    "    # euval = eu_assessment[rules == ['F1g', 'F2'][var_i]][0]\n",
    "    # fig.add_trace(\n",
    "    #     go.Choropleth(\n",
    "    #     locations=np.array([\"SO\"]),\n",
    "    #     z = np.array([euval]),\n",
    "    #     locationmode = 'ISO-3',\n",
    "    #     colorscale = 'RdYlGn_r',\n",
    "    #     zmax = 3,\n",
    "    #     zmin = 0,\n",
    "    #     text = [\"Somaliland : \"+ts[int(euval)]],\n",
    "    #     hovertemplate  = '%{text}',\n",
    "    #     name=\"\",\n",
    "    #     marker_line_color='white', \n",
    "    #     marker_line_width=0.4,\n",
    "    #     showscale=False\n",
    "    # ), [1, 2][var_i], [1, 1][var_i])\n",
    "\n",
    "fig.update_geos(showocean=True, oceancolor=\"aliceblue\")\n",
    "fig.update_geos(showlakes=True, lakecolor=\"aliceblue\")\n",
    "\n",
    "fig.add_annotation(xref='paper', yref='paper',ax=0, align='left', ay=-0, showarrow=False, font=dict(color='black', size=18),\n",
    "                   y=1.05, x=0.5, text=\"<b>NDC alignment of an equal per capita approach</b>\")\n",
    "fig.add_annotation(xref='paper', yref='paper',ax=0, align='left', ay=-0, showarrow=False, font=dict(color='black', size=18),\n",
    "                   y=0.77, x=0, text=\"<b>Climate target\")\n",
    "\n",
    "# limite map scope to USA 'africa', 'asia', 'europe', 'north america', 'south america', 'usa', 'world'\n",
    "fig.update_geos(visible=False,\n",
    "                showlakes=True,\n",
    "                lakecolor='rgb(255, 255, 255)',\n",
    "                projection_type='natural earth',\n",
    "                showcoastlines=False,)\n",
    "#fig.update_traces(showscale=False)\n",
    "fig.update_layout(height=800, width=1500)"
   ]
  },
  {
   "cell_type": "code",
   "execution_count": 38,
   "metadata": {},
   "outputs": [],
   "source": [
    "fig.write_image(\"X:/user/dekkerm/Projects/ECEMF_T5.2/Figures/Figure_NDCperf/Figure_NDC_yann_PC.svg\")\n",
    "fig.write_image(\"X:/user/dekkerm/Projects/ECEMF_T5.2/Figures/Figure_NDCperf/Figure_NDC_yann_PC.png\", scale=3)\n",
    "\n",
    "import os\n",
    "from datetime import date\n",
    "try:\n",
    "    os.remove('X:/user/dekkerm/Projects/ECEMF_T5.2/Figures/Figure_NDCperf/Figure_NDC_yann_PC.html')\n",
    "except:\n",
    "    3\n",
    "def html_w(typ):\n",
    "    return '<html> '+typ+' <p style=\"font-family: Arial\">'\n",
    "\n",
    "today = date.today()\n",
    "td = today.strftime(\"%B %d, %Y\")\n",
    "\n",
    "with open('X:/user/dekkerm/Projects/ECEMF_T5.2/Figures/Figure_NDCperf/Figure_NDC_yann_PC.html', 'a') as f:\n",
    "    #f.write(html_w('<h1>')+'Figure 1 - Electricity Generation</p></h1>')\n",
    "    f.write(html_w('<body>')+'Version: '+td+'</p></body>')\n",
    "    f.write(fig.to_html(full_html=False, include_plotlyjs='cdn'))"
   ]
  }
 ],
 "metadata": {
  "kernelspec": {
   "display_name": "Python 3.9.11 ('MyEnv')",
   "language": "python",
   "name": "python3"
  },
  "language_info": {
   "codemirror_mode": {
    "name": "ipython",
    "version": 3
   },
   "file_extension": ".py",
   "mimetype": "text/x-python",
   "name": "python",
   "nbconvert_exporter": "python",
   "pygments_lexer": "ipython3",
   "version": "3.9.16"
  },
  "orig_nbformat": 4,
  "vscode": {
   "interpreter": {
    "hash": "36d5d389870ab01fa625d0d5123f82469a3683fa0e02c4f7e9e76e9a75345aa3"
   }
  }
 },
 "nbformat": 4,
 "nbformat_minor": 2
}
