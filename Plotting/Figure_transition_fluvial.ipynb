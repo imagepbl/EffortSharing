{
 "cells": [
  {
   "attachments": {},
   "cell_type": "markdown",
   "metadata": {},
   "source": [
    "## Preambule"
   ]
  },
  {
   "cell_type": "code",
   "execution_count": 6,
   "metadata": {},
   "outputs": [],
   "source": [
    "# General packages\n",
    "import numpy as np\n",
    "import pandas as pd\n",
    "from tqdm import tqdm\n",
    "from pathlib import Path\n",
    "import xarray as xr\n",
    "import json\n",
    "\n",
    "# Plotting\n",
    "import matplotlib.pyplot as plt\n",
    "import plotly.express as px\n",
    "import plotly.graph_objects as go\n",
    "from plotly.subplots import make_subplots\n",
    "from plotly.colors import n_colors"
   ]
  },
  {
   "attachments": {},
   "cell_type": "markdown",
   "metadata": {},
   "source": [
    "## Parameter"
   ]
  },
  {
   "cell_type": "code",
   "execution_count": 7,
   "metadata": {},
   "outputs": [],
   "source": [
    "hist_startyear = 1990"
   ]
  },
  {
   "attachments": {},
   "cell_type": "markdown",
   "metadata": {},
   "source": [
    "## Paths"
   ]
  },
  {
   "cell_type": "code",
   "execution_count": 8,
   "metadata": {},
   "outputs": [],
   "source": [
    "path_main = Path(\"X:/user/dekkerm/Projects/ECEMF_T5.2/\")\n",
    "path_data = path_main / \"Data\" / str(hist_startyear)\n",
    "path_figs = path_main / \"Figures\""
   ]
  },
  {
   "attachments": {},
   "cell_type": "markdown",
   "metadata": {},
   "source": [
    "## Read data files"
   ]
  },
  {
   "cell_type": "code",
   "execution_count": 9,
   "metadata": {},
   "outputs": [],
   "source": [
    "xr_total = xr.open_dataset(path_data / \"xr_total.nc\")\n",
    "all_regions_iso = np.load(path_data / \"all_regions.npy\")\n",
    "all_regions_names = np.load(path_data / \"all_regions_names.npy\")\n",
    "all_countries_iso = np.load(path_data / \"all_countries.npy\", allow_pickle=True)\n",
    "all_countries_names = np.load(path_data / \"all_countries_names.npy\", allow_pickle=True)\n",
    "only_regions_iso = ['CVF', 'G20', \"EU\", \"G7\", \"NA\", \"AU\", \"AF\", \"SIDS\", \"LDC\", \"WORLD\"]\n",
    "only_regions_names = ['Climate Vulnerability Forum','G20',\"European Union\",\"G7\",\"Northern America\",\"Australasia\",\"African Group\",\"Small Island Developing States\",\"Least Developed Countries\"]"
   ]
  },
  {
   "cell_type": "code",
   "execution_count": 10,
   "metadata": {},
   "outputs": [],
   "source": [
    "xr_budgets_static = xr.open_dataset(path_data / \"xr_budgets_static.nc\")\n",
    "#xr_budgets_linear = xr.open_dataset(path_data / \"xr_budgets_linear.nc\")\n",
    "xr_budgets_scenario = xr.open_dataset(path_data / \"xr_budgets_scenario.nc\")\n",
    "df_michel = pd.read_excel(Path(\"X:/user/dekkerm/Data/\") / \"NDC\" / \"NDC_comparison.xlsx\", sheet_name=\"Michel\")"
   ]
  },
  {
   "cell_type": "code",
   "execution_count": 11,
   "metadata": {},
   "outputs": [],
   "source": [
    "df_g = pd.read_excel(Path(\"X:/user/dekkerm/Data/\") / \"UNFCCC_Parties_Groups_noeu.xlsx\", sheet_name = \"Country groups\")\n",
    "countries_iso = np.array(df_g[\"Country ISO Code\"])\n",
    "countries_name = np.array(df_g[\"Name\"])\n",
    "countries_iso = np.array(df_g[\"Country ISO Code\"])\n",
    "group_cvf = countries_iso[np.array(df_g[\"CVF (24/10/22)\"]) == 1]\n",
    "group_g20 = countries_iso[np.array(df_g[\"G20\"]) == 1]\n",
    "group_eu = countries_iso[np.array(df_g[\"EU\"]) == 1]\n",
    "group_g7 = countries_iso[np.array(df_g[\"G7\"]) == 1]\n",
    "group_na = countries_iso[np.array(df_g[\"Northern America\"]) == 1]\n",
    "group_um = countries_iso[np.array(df_g[\"Umbrella\"]) == 1]\n",
    "group_au = countries_iso[np.array(df_g[\"Australasia\"]) == 1]\n",
    "group_af = countries_iso[np.array(df_g[\"African Group\"]) == 1]\n",
    "group_sids = countries_iso[np.array(df_g[\"SIDS\"]) == 1]\n",
    "group_ldc = countries_iso[np.array(df_g[\"LDC\"]) == 1]\n",
    "group_eg = countries_iso[np.array(df_g[\"European Group\"]) == 1]\n",
    "group_world = np.copy(countries_iso)"
   ]
  },
  {
   "attachments": {},
   "cell_type": "markdown",
   "metadata": {},
   "source": [
    "## Preprocess"
   ]
  },
  {
   "cell_type": "code",
   "execution_count": 12,
   "metadata": {},
   "outputs": [],
   "source": [
    "ndc_deviations = []\n",
    "for c_i, c in enumerate([\"C1+C2\"]):\n",
    "    li = []\n",
    "    for a_i, approach in enumerate([\"F2\", 'F2C']):\n",
    "        li.append([float((xr_budgets_scenario.sel(Category = c, ISO=r, Time=2030)[approach] - ((xr_total.NDC_l.sel(Time=2030, ISO=r)+xr_total.NDC_h.sel(Time=2030, ISO=r))/2)) / ((xr_total.NDC_l.sel(Time=2030, ISO=r)+xr_total.NDC_h.sel(Time=2030, ISO=r))/2)) for r in xr_budgets_scenario.ISO])\n",
    "    ndc_deviations.append(li)"
   ]
  },
  {
   "cell_type": "code",
   "execution_count": 13,
   "metadata": {},
   "outputs": [],
   "source": [
    "#regs_onlyfew = np.array(['USA', 'CHN', 'TUR', 'AUS', 'IND', 'RUS', 'IDN', 'BRA', 'DEU', 'FRA', 'ESP', 'VEN', 'MEX', 'ZAF'])#np.array(xr_total.ISO.sel(ISO=all_countries_iso))[xr_total.Population.sel(Time=2020, ISO=all_countries_iso) > 5e6]\n",
    "\n",
    "regs_onlyfew = ['EU', 'ARG', 'AUS', 'BRA', 'CAN', 'CHN', 'IND', 'IDN', 'JPN', 'MEX', 'RUS', 'SAU', 'ZAF', 'KOR', 'TUR', 'GBR', 'USA', 'ARE']\n",
    "regs_onlyfew = np.array(regs_onlyfew)\n",
    "\n",
    "ndc_deviations_onlyfew = []\n",
    "for c_i, c in enumerate([\"C1+C2\"]):\n",
    "    li = []\n",
    "    for a_i, approach in enumerate([\"F2\", 'F2C']):\n",
    "        li.append([float((xr_budgets_scenario.sel(Category = c, ISO=r, Time=2030)[approach] - ((xr_total.NDC_l.sel(Time=2030, ISO=r)+xr_total.NDC_h.sel(Time=2030, ISO=r))/2)) / ((xr_total.NDC_l.sel(Time=2030, ISO=r)+xr_total.NDC_h.sel(Time=2030, ISO=r))/2)) for r in regs_onlyfew])\n",
    "    ndc_deviations_onlyfew.append(li)"
   ]
  },
  {
   "cell_type": "code",
   "execution_count": 14,
   "metadata": {},
   "outputs": [],
   "source": [
    "amount = len(regs_onlyfew)\n",
    "sources = regs_onlyfew[np.argsort(ndc_deviations_onlyfew[0])[0][:amount]]\n",
    "targets = regs_onlyfew[np.argsort(ndc_deviations_onlyfew[0])[1][:amount]]\n",
    "\n",
    "targets_numeric = []\n",
    "sources_numeric = []\n",
    "for t_i in range(amount):\n",
    "    s = sources[t_i]\n",
    "    try:\n",
    "        wh = np.where(targets == s)[0][0]\n",
    "    except:\n",
    "        wh = amount\n",
    "    sources_numeric.append(t_i)\n",
    "    targets_numeric.append(wh+amount)\n",
    "\n",
    "for t_i in range(amount):\n",
    "    t = targets[t_i]\n",
    "    try:\n",
    "        wh = np.where(sources == t)[0][0]\n",
    "    except:\n",
    "        sources_numeric.append(amount)\n",
    "        targets_numeric.append(t_i)"
   ]
  },
  {
   "attachments": {},
   "cell_type": "markdown",
   "metadata": {},
   "source": [
    "## Plot"
   ]
  },
  {
   "cell_type": "code",
   "execution_count": 15,
   "metadata": {},
   "outputs": [
    {
     "data": {
      "application/vnd.plotly.v1+json": {
       "config": {
        "plotlyServerURL": "https://plotly.com"
       },
       "data": [
        {
         "colorbar": {
          "len": 1,
          "ticktext": [
           "-100%",
           "-75",
           "-50%",
           "-25%",
           "0%",
           "+25%",
           "+50%",
           "+75%",
           "+100%"
          ],
          "tickvals": [
           -1,
           -0.75,
           -0.5,
           -0.25,
           0,
           0.25,
           0.5,
           0.75,
           1
          ],
          "title": {
           "text": "Allocation<br>compared<br>to NDC"
          },
          "x": 1
         },
         "colorscale": [
          [
           0,
           "rgb(165,0,38)"
          ],
          [
           0.1,
           "rgb(215,48,39)"
          ],
          [
           0.2,
           "rgb(244,109,67)"
          ],
          [
           0.3,
           "rgb(253,174,97)"
          ],
          [
           0.4,
           "rgb(254,224,139)"
          ],
          [
           0.5,
           "rgb(255,255,191)"
          ],
          [
           0.6,
           "rgb(217,239,139)"
          ],
          [
           0.7,
           "rgb(166,217,106)"
          ],
          [
           0.8,
           "rgb(102,189,99)"
          ],
          [
           0.9,
           "rgb(26,152,80)"
          ],
          [
           1,
           "rgb(0,104,55)"
          ]
         ],
         "geo": "geo",
         "hovertemplate": "%{text}",
         "locationmode": "ISO-3",
         "locations": [
          "AFG",
          "ALB",
          "DZA",
          "AND",
          "AGO",
          "ATG",
          "ARG",
          "ARM",
          "AUS",
          "AUT",
          "AZE",
          "BHR",
          "BGD",
          "BRB",
          "BLR",
          "BEL",
          "BLZ",
          "BEN",
          "BTN",
          "BOL",
          "BIH",
          "BWA",
          "BRA",
          "BRN",
          "BGR",
          "BFA",
          "BDI",
          "KHM",
          "CMR",
          "CAN",
          "CPV",
          "CAF",
          "TCD",
          "CHL",
          "CHN",
          "COL",
          "COM",
          "COG",
          "COK",
          "CRI",
          "CIV",
          "HRV",
          "CUB",
          "CYP",
          "CZE",
          "COD",
          "DNK",
          "DJI",
          "DMA",
          "DOM",
          "ECU",
          "EGY",
          "SLV",
          "GNQ",
          "ERI",
          "EST",
          "SWZ",
          "ETH",
          "FJI",
          "FIN",
          "FRA",
          "GAB",
          "GEO",
          "DEU",
          "GHA",
          "GRC",
          "GRD",
          "GTM",
          "GIN",
          "GNB",
          "GUY",
          "HTI",
          "VAT",
          "HND",
          "HUN",
          "ISL",
          "IND",
          "IDN",
          "IRN",
          "IRQ",
          "IRL",
          "ISR",
          "ITA",
          "JAM",
          "JPN",
          "JOR",
          "KAZ",
          "KEN",
          "KIR",
          "KWT",
          "KGZ",
          "LAO",
          "LVA",
          "LBN",
          "LSO",
          "LBR",
          "LBY",
          "LIE",
          "LTU",
          "LUX",
          "MKD",
          "MDG",
          "MWI",
          "MYS",
          "MDV",
          "MLI",
          "MLT",
          "MHL",
          "MRT",
          "MUS",
          "MEX",
          "FSM",
          "MDA",
          "MCO",
          "MNG",
          "MNE",
          "MAR",
          "MOZ",
          "MMR",
          "NAM",
          "NRU",
          "NPL",
          "NLD",
          "NZL",
          "NIC",
          "NER",
          "NGA",
          "NIU",
          "PRK",
          "NOR",
          "OMN",
          "PAK",
          "PLW",
          "PSE",
          "PAN",
          "PNG",
          "PRY",
          "PER",
          "PHL",
          "POL",
          "PRT",
          "QAT",
          "ROU",
          "RUS",
          "RWA",
          "KNA",
          "LCA",
          "VCT",
          "WSM",
          "SMR",
          "STP",
          "SAU",
          "SEN",
          "SRB",
          "SYC",
          "SLE",
          "SGP",
          "SVK",
          "SVN",
          "SLB",
          "SOM",
          "ZAF",
          "KOR",
          "SSD",
          "ESP",
          "LKA",
          "SDN",
          "SUR",
          "SWE",
          "CHE",
          "SYR",
          "TJK",
          "TZA",
          "THA",
          "BHS",
          "GMB",
          "TLS",
          "TGO",
          "TON",
          "TTO",
          "TUN",
          "TUR",
          "TKM",
          "TUV",
          "UGA",
          "UKR",
          "ARE",
          "GBR",
          "USA",
          "URY",
          "UZB",
          "VUT",
          "VEN",
          "VNM",
          "YEM",
          "ZMB",
          "ZWE",
          "CVF",
          "G20",
          "EU",
          "G7",
          "NA",
          "AU",
          "AF",
          "SIDS",
          "LDC",
          "UM",
          "EG",
          "WORLD"
         ],
         "marker": {
          "line": {
           "color": "white",
           "width": 0.3
          }
         },
         "name": "",
         "showscale": true,
         "text": [
          "AFG: 1615.06%",
          "ALB: -45.11%",
          "DZA: -54.15%",
          "AND: nan%",
          "AGO: 204.22%",
          "ATG: nan%",
          "ARG: -79.14%",
          "ARM: -65.42%",
          "AUS: -99.13%",
          "AUT: -93.28%",
          "AZE: -65.52%",
          "BHR: -100.8%",
          "BGD: 145.56%",
          "BRB: -61.56%",
          "BLR: -88.58%",
          "BEL: -93.68%",
          "BLZ: -10.07%",
          "BEN: 365.5%",
          "BTN: -56.81%",
          "BOL: -64.55%",
          "BIH: -72.1%",
          "BWA: -74.17%",
          "BRA: -52.05%",
          "BRN: -100.6%",
          "BGR: -83.35%",
          "BFA: 259.68%",
          "BDI: 8348.6%",
          "KHM: 21.53%",
          "CMR: 150.65%",
          "CAN: -98.26%",
          "CPV: 222.61%",
          "CAF: 1648.3%",
          "TCD: 386.53%",
          "CHL: -71.37%",
          "CHN: -90.37%",
          "COL: -25.93%",
          "COM: 1443.55%",
          "COG: 365.65%",
          "COK: nan%",
          "CRI: -27.5%",
          "CIV: 371.71%",
          "HRV: -82.51%",
          "CUB: -48.54%",
          "CYP: -68.46%",
          "CZE: -94.73%",
          "COD: 1039.86%",
          "DNK: -92.92%",
          "DJI: 172.8%",
          "DMA: nan%",
          "DOM: -61.88%",
          "ECU: -25.17%",
          "EGY: -61.19%",
          "SLV: 42.32%",
          "GNQ: -77.51%",
          "ERI: 443.78%",
          "EST: -94.92%",
          "SWZ: -44.95%",
          "ETH: 792.33%",
          "FJI: 10.05%",
          "FIN: -96.02%",
          "FRA: -88.69%",
          "GAB: -6.83%",
          "GEO: -41.03%",
          "DEU: -93.32%",
          "GHA: 375.55%",
          "GRC: -88.52%",
          "GRD: nan%",
          "GTM: -7.51%",
          "GIN: 238.36%",
          "GNB: 249.09%",
          "GUY: -80.94%",
          "HTI: 612.54%",
          "VAT: nan%",
          "HND: 160.41%",
          "HUN: -85.97%",
          "ISL: -94.18%",
          "IND: -7.01%",
          "IDN: -52.52%",
          "IRN: -86.8%",
          "IRQ: -82.27%",
          "IRL: -99.74%",
          "ISR: -91.1%",
          "ITA: -87.52%",
          "JAM: 12.67%",
          "JPN: -93.49%",
          "JOR: -13.92%",
          "KAZ: -94.71%",
          "KEN: 266.76%",
          "KIR: nan%",
          "KWT: -100.81%",
          "KGZ: 105.97%",
          "LAO: 5.84%",
          "LVA: -88.91%",
          "LBN: -70.04%",
          "LSO: 518.93%",
          "LBR: 1025.44%",
          "LBY: nan%",
          "LIE: nan%",
          "LTU: -91.43%",
          "LUX: -100.46%",
          "MKD: -42.61%",
          "MDG: 1568.81%",
          "MWI: 2105.18%",
          "MYS: -91.52%",
          "MDV: -73.3%",
          "MLI: 320.87%",
          "MLT: -76.69%",
          "MHL: nan%",
          "MRT: 90.69%",
          "MUS: -77.46%",
          "MEX: -74.44%",
          "FSM: nan%",
          "MDA: -38.54%",
          "MCO: nan%",
          "MNG: -90.32%",
          "MNE: -66.23%",
          "MAR: 19.43%",
          "MOZ: 770.9%",
          "MMR: 189.61%",
          "NAM: 10.36%",
          "NRU: nan%",
          "NPL: 330.94%",
          "NLD: -95.93%",
          "NZL: -95.04%",
          "NIC: -42.7%",
          "NER: 812.17%",
          "NGA: 293.05%",
          "NIU: nan%",
          "PRK: nan%",
          "NOR: -96.4%",
          "OMN: -98.54%",
          "PAK: 16.99%",
          "PLW: nan%",
          "PSE: nan%",
          "PAN: -82.26%",
          "PNG: 420.21%",
          "PRY: -67.95%",
          "PER: -34.59%",
          "PHL: 11.56%",
          "POL: -90.35%",
          "PRT: -85.93%",
          "QAT: -102.0%",
          "ROU: -77.94%",
          "RUS: -94.87%",
          "RWA: 1649.26%",
          "KNA: nan%",
          "LCA: -35.48%",
          "VCT: -47.2%",
          "WSM: 89.49%",
          "SMR: nan%",
          "STP: 268.93%",
          "SAU: -98.32%",
          "SEN: 289.49%",
          "SRB: -88.27%",
          "SYC: nan%",
          "SLE: 1216.4%",
          "SGP: -99.64%",
          "SVK: -87.43%",
          "SVN: -91.96%",
          "SLB: 1303.14%",
          "SOM: nan%",
          "ZAF: -79.74%",
          "KOR: -96.22%",
          "SSD: nan%",
          "ESP: -86.53%",
          "LKA: 1.86%",
          "SDN: 119.47%",
          "SUR: -72.21%",
          "SWE: -89.11%",
          "CHE: -85.5%",
          "SYR: 110.87%",
          "TJK: 198.47%",
          "TZA: 441.9%",
          "THA: -73.24%",
          "BHS: -84.05%",
          "GMB: nan%",
          "TLS: -820.61%",
          "TGO: 912.37%",
          "TON: 88.5%",
          "TTO: -99.7%",
          "TUN: -46.6%",
          "TUR: -90.04%",
          "TKM: -94.28%",
          "TUV: nan%",
          "UGA: 887.77%",
          "UKR: -71.68%",
          "ARE: -100.67%",
          "GBR: -86.17%",
          "USA: -100.03%",
          "URY: -91.22%",
          "UZB: -68.05%",
          "VUT: 569.37%",
          "VEN: -83.54%",
          "VNM: -60.99%",
          "YEM: 963.9%",
          "ZMB: 249.82%",
          "ZWE: 908.96%",
          "CVF: 282.51%",
          "G20: -77.73%",
          "EU: -89.9%",
          "G7: -95.69%",
          "NA: -99.86%",
          "AU: -98.58%",
          "AF: 287.01%",
          "SIDS: 12.71%",
          "LDC: 518.22%",
          "UM: -97.43%",
          "EG: -89.59%",
          "WORLD: -34.38%"
         ],
         "type": "choropleth",
         "z": [
          16.15063682152366,
          -0.4510821111676169,
          -0.5414599734976717,
          null,
          2.0421504022803925,
          null,
          -0.7914043992067867,
          -0.6542104538915219,
          -0.9913050122263484,
          -0.9327955383267105,
          -0.6552263556102375,
          -1.0079952704224495,
          1.4555940147585495,
          -0.6155972659034658,
          -0.8858250595652556,
          -0.9368392633674639,
          -0.10067587300515618,
          3.65497610013345,
          -0.5681119506349147,
          -0.6455044234369197,
          -0.7209718110130198,
          -0.7416703007187113,
          -0.520546688503299,
          -1.0060122819451276,
          -0.8335425507446413,
          2.596809593548345,
          83.48600578185652,
          0.2153026711678589,
          1.5065259571929503,
          -0.9826361165619427,
          2.226108375515765,
          16.48302962463614,
          3.865339702578008,
          -0.7136883118963165,
          -0.9036517006682299,
          -0.2593121208614531,
          14.435539396146066,
          3.6564861498538,
          null,
          -0.27496582021945665,
          3.717068251122149,
          -0.8251015539226919,
          -0.4853868846123262,
          -0.6845912756219743,
          -0.9472568316375082,
          10.398645146762263,
          -0.9291978082941061,
          1.7280367384511741,
          null,
          -0.6187598281187164,
          -0.2517060824093979,
          -0.6118521183702497,
          0.42320030936040265,
          -0.7751150362934662,
          4.43775465276803,
          -0.9491611976317017,
          -0.4494886373749554,
          7.923292015581444,
          0.10053817575731232,
          -0.9601622480143418,
          -0.8869338190935921,
          -0.06830977179240251,
          -0.41026402700552234,
          -0.9332287346521545,
          3.7554889600083516,
          -0.8852421678360851,
          null,
          -0.07510780902575713,
          2.383643470635184,
          2.4908652369908095,
          -0.809434440255222,
          6.125395161241868,
          null,
          1.6041352100865418,
          -0.8597116765000867,
          -0.9418270244161648,
          -0.07009987906594825,
          -0.5251797649247699,
          -0.8679593584676152,
          -0.8227033265747691,
          -0.997440341319846,
          -0.9110170735040368,
          -0.8752473152360056,
          0.1266670641947828,
          -0.9349495424413393,
          -0.13923722107121125,
          -0.9470602220127315,
          2.6675654060759606,
          null,
          -1.008096279458641,
          1.0597037933015734,
          0.058409063583766435,
          -0.8891437734964613,
          -0.7004039055861151,
          5.189341699479396,
          10.25439442742567,
          null,
          null,
          -0.9143012157861565,
          -1.0045852429162991,
          -0.4261171708242456,
          15.688100361302215,
          21.051838247726423,
          -0.9152313657545879,
          -0.7329701932218253,
          3.208687658524052,
          -0.766904398797881,
          null,
          0.9068808716398931,
          -0.7746445939578576,
          -0.7443920289902188,
          null,
          -0.3854326244080501,
          null,
          -0.9031751894268698,
          -0.6622684297374144,
          0.1942677128724471,
          7.708966548960517,
          1.896122324818813,
          0.10357514709053142,
          null,
          3.309381870017055,
          -0.9592589794350963,
          -0.9504459674830045,
          -0.4269952592946995,
          8.121681529266127,
          2.9304675648063956,
          null,
          null,
          -0.9640040894235966,
          -0.9854249257159874,
          0.16986190667809728,
          null,
          null,
          -0.8225901728265902,
          4.202110544966651,
          -0.6795331300642038,
          -0.34594869950796503,
          0.11562675011289608,
          -0.9034694092332476,
          -0.8592561122647598,
          -1.0200473674474946,
          -0.7793985296559944,
          -0.9486934721474981,
          16.49263748894235,
          null,
          -0.35475262354424075,
          -0.47198032276602636,
          0.894935010351594,
          null,
          2.689290829508179,
          -0.9832450589217709,
          2.894856218279747,
          -0.882665333798788,
          null,
          12.163970823656449,
          -0.9963657092297701,
          -0.8743139816555935,
          -0.9195740709786304,
          13.031366522492469,
          null,
          -0.7973734233281026,
          -0.9622097150186144,
          null,
          -0.8653364257932263,
          0.018584838407786613,
          1.194717403236128,
          -0.7220916169298511,
          -0.8911034276829511,
          -0.8550105683186312,
          1.1087338163606628,
          1.9847448774103478,
          4.418998874476598,
          -0.7324346220213164,
          -0.8405134107128164,
          null,
          -8.206143176156703,
          9.12368222207612,
          0.8850048696116741,
          -0.9970008183895543,
          -0.4660431084011746,
          -0.9004417926765289,
          -0.9428117604790193,
          null,
          8.877689722839579,
          -0.7168019813356924,
          -1.0067437279298723,
          -0.861668649889554,
          -1.0002832912145132,
          -0.9122248038625268,
          -0.6804731098441291,
          5.693690874046695,
          -0.8354468128878401,
          -0.6099103510741373,
          9.638953133841225,
          2.4982201027870103,
          9.089613399889009,
          2.8250616455807633,
          -0.7772826766247662,
          -0.8990105229099538,
          -0.9569262732964947,
          -0.9986323018338421,
          -0.9857839211581023,
          2.8700675487421248,
          0.1270652010707239,
          5.182235297435607,
          -0.9742946661041451,
          -0.8959359873578864,
          -0.34377746269369663
         ],
         "zmax": 1,
         "zmin": -1
        },
        {
         "colorbar": {
          "len": 1,
          "ticktext": [
           "-100%",
           "-75",
           "-50%",
           "-25%",
           "0%",
           "+25%",
           "+50%",
           "+75%",
           "+100%"
          ],
          "tickvals": [
           -1,
           -0.75,
           -0.5,
           -0.25,
           0,
           0.25,
           0.5,
           0.75,
           1
          ],
          "title": {
           "text": "Allocation<br>compared<br>to NDC"
          },
          "x": 1
         },
         "colorscale": [
          [
           0,
           "rgb(165,0,38)"
          ],
          [
           0.1,
           "rgb(215,48,39)"
          ],
          [
           0.2,
           "rgb(244,109,67)"
          ],
          [
           0.3,
           "rgb(253,174,97)"
          ],
          [
           0.4,
           "rgb(254,224,139)"
          ],
          [
           0.5,
           "rgb(255,255,191)"
          ],
          [
           0.6,
           "rgb(217,239,139)"
          ],
          [
           0.7,
           "rgb(166,217,106)"
          ],
          [
           0.8,
           "rgb(102,189,99)"
          ],
          [
           0.9,
           "rgb(26,152,80)"
          ],
          [
           1,
           "rgb(0,104,55)"
          ]
         ],
         "geo": "geo",
         "hovertemplate": "%{text}",
         "locationmode": "ISO-3",
         "locations": [
          "AUT",
          "BEL",
          "BGR",
          "HRV",
          "CYP",
          "CZE",
          "DNK",
          "EST",
          "FIN",
          "FRA",
          "DEU",
          "GRC",
          "HUN",
          "IRL",
          "ITA",
          "LVA",
          "LTU",
          "LUX",
          "MLT",
          "NLD",
          "POL",
          "PRT",
          "ROU",
          "SVK",
          "SVN",
          "ESP",
          "SWE"
         ],
         "marker": {
          "line": {
           "color": "white",
           "width": 0.3
          }
         },
         "name": "",
         "showscale": true,
         "text": [
          "EU: -89.9%",
          "EU: -89.9%",
          "EU: -89.9%",
          "EU: -89.9%",
          "EU: -89.9%",
          "EU: -89.9%",
          "EU: -89.9%",
          "EU: -89.9%",
          "EU: -89.9%",
          "EU: -89.9%",
          "EU: -89.9%",
          "EU: -89.9%",
          "EU: -89.9%",
          "EU: -89.9%",
          "EU: -89.9%",
          "EU: -89.9%",
          "EU: -89.9%",
          "EU: -89.9%",
          "EU: -89.9%",
          "EU: -89.9%",
          "EU: -89.9%",
          "EU: -89.9%",
          "EU: -89.9%",
          "EU: -89.9%",
          "EU: -89.9%",
          "EU: -89.9%",
          "EU: -89.9%",
          "EU: -89.9%",
          "EU: -89.9%",
          "EU: -89.9%",
          "EU: -89.9%",
          "EU: -89.9%",
          "EU: -89.9%",
          "EU: -89.9%",
          "EU: -89.9%",
          "EU: -89.9%",
          "EU: -89.9%",
          "EU: -89.9%",
          "EU: -89.9%",
          "EU: -89.9%",
          "EU: -89.9%",
          "EU: -89.9%",
          "EU: -89.9%",
          "EU: -89.9%",
          "EU: -89.9%",
          "EU: -89.9%",
          "EU: -89.9%",
          "EU: -89.9%",
          "EU: -89.9%",
          "EU: -89.9%",
          "EU: -89.9%",
          "EU: -89.9%",
          "EU: -89.9%",
          "EU: -89.9%",
          "EU: -89.9%",
          "EU: -89.9%",
          "EU: -89.9%",
          "EU: -89.9%",
          "EU: -89.9%",
          "EU: -89.9%",
          "EU: -89.9%",
          "EU: -89.9%",
          "EU: -89.9%",
          "EU: -89.9%",
          "EU: -89.9%",
          "EU: -89.9%",
          "EU: -89.9%",
          "EU: -89.9%",
          "EU: -89.9%",
          "EU: -89.9%",
          "EU: -89.9%",
          "EU: -89.9%",
          "EU: -89.9%",
          "EU: -89.9%",
          "EU: -89.9%",
          "EU: -89.9%",
          "EU: -89.9%",
          "EU: -89.9%",
          "EU: -89.9%",
          "EU: -89.9%",
          "EU: -89.9%",
          "EU: -89.9%",
          "EU: -89.9%",
          "EU: -89.9%",
          "EU: -89.9%",
          "EU: -89.9%",
          "EU: -89.9%",
          "EU: -89.9%",
          "EU: -89.9%",
          "EU: -89.9%",
          "EU: -89.9%",
          "EU: -89.9%",
          "EU: -89.9%",
          "EU: -89.9%",
          "EU: -89.9%",
          "EU: -89.9%",
          "EU: -89.9%",
          "EU: -89.9%",
          "EU: -89.9%",
          "EU: -89.9%",
          "EU: -89.9%",
          "EU: -89.9%",
          "EU: -89.9%",
          "EU: -89.9%",
          "EU: -89.9%",
          "EU: -89.9%",
          "EU: -89.9%",
          "EU: -89.9%",
          "EU: -89.9%",
          "EU: -89.9%",
          "EU: -89.9%",
          "EU: -89.9%",
          "EU: -89.9%",
          "EU: -89.9%",
          "EU: -89.9%",
          "EU: -89.9%",
          "EU: -89.9%",
          "EU: -89.9%",
          "EU: -89.9%",
          "EU: -89.9%",
          "EU: -89.9%",
          "EU: -89.9%",
          "EU: -89.9%",
          "EU: -89.9%",
          "EU: -89.9%",
          "EU: -89.9%",
          "EU: -89.9%",
          "EU: -89.9%",
          "EU: -89.9%",
          "EU: -89.9%",
          "EU: -89.9%",
          "EU: -89.9%",
          "EU: -89.9%",
          "EU: -89.9%",
          "EU: -89.9%",
          "EU: -89.9%",
          "EU: -89.9%",
          "EU: -89.9%",
          "EU: -89.9%",
          "EU: -89.9%",
          "EU: -89.9%",
          "EU: -89.9%",
          "EU: -89.9%",
          "EU: -89.9%",
          "EU: -89.9%",
          "EU: -89.9%",
          "EU: -89.9%",
          "EU: -89.9%",
          "EU: -89.9%",
          "EU: -89.9%",
          "EU: -89.9%",
          "EU: -89.9%",
          "EU: -89.9%",
          "EU: -89.9%",
          "EU: -89.9%",
          "EU: -89.9%",
          "EU: -89.9%",
          "EU: -89.9%",
          "EU: -89.9%",
          "EU: -89.9%",
          "EU: -89.9%",
          "EU: -89.9%",
          "EU: -89.9%",
          "EU: -89.9%",
          "EU: -89.9%",
          "EU: -89.9%",
          "EU: -89.9%",
          "EU: -89.9%",
          "EU: -89.9%",
          "EU: -89.9%",
          "EU: -89.9%",
          "EU: -89.9%",
          "EU: -89.9%",
          "EU: -89.9%",
          "EU: -89.9%",
          "EU: -89.9%",
          "EU: -89.9%",
          "EU: -89.9%",
          "EU: -89.9%",
          "EU: -89.9%",
          "EU: -89.9%",
          "EU: -89.9%",
          "EU: -89.9%",
          "EU: -89.9%",
          "EU: -89.9%",
          "EU: -89.9%",
          "EU: -89.9%",
          "EU: -89.9%",
          "EU: -89.9%",
          "EU: -89.9%",
          "EU: -89.9%",
          "EU: -89.9%",
          "EU: -89.9%",
          "EU: -89.9%",
          "EU: -89.9%",
          "EU: -89.9%",
          "EU: -89.9%",
          "EU: -89.9%",
          "EU: -89.9%",
          "EU: -89.9%",
          "EU: -89.9%",
          "EU: -89.9%",
          "EU: -89.9%",
          "EU: -89.9%",
          "EU: -89.9%",
          "EU: -89.9%",
          "EU: -89.9%",
          "EU: -89.9%",
          "EU: -89.9%"
         ],
         "type": "choropleth",
         "z": [
          -0.8990105229099538,
          -0.8990105229099538,
          -0.8990105229099538,
          -0.8990105229099538,
          -0.8990105229099538,
          -0.8990105229099538,
          -0.8990105229099538,
          -0.8990105229099538,
          -0.8990105229099538,
          -0.8990105229099538,
          -0.8990105229099538,
          -0.8990105229099538,
          -0.8990105229099538,
          -0.8990105229099538,
          -0.8990105229099538,
          -0.8990105229099538,
          -0.8990105229099538,
          -0.8990105229099538,
          -0.8990105229099538,
          -0.8990105229099538,
          -0.8990105229099538,
          -0.8990105229099538,
          -0.8990105229099538,
          -0.8990105229099538,
          -0.8990105229099538,
          -0.8990105229099538,
          -0.8990105229099538
         ],
         "zmax": 1,
         "zmin": -1
        },
        {
         "colorbar": {
          "len": 1,
          "ticktext": [
           "-100%",
           "-75",
           "-50%",
           "-25%",
           "0%",
           "+25%",
           "+50%",
           "+75%",
           "+100%"
          ],
          "tickvals": [
           -1,
           -0.75,
           -0.5,
           -0.25,
           0,
           0.25,
           0.5,
           0.75,
           1
          ],
          "title": {
           "text": "Allocation<br>compared<br>to NDC"
          },
          "x": 1
         },
         "colorscale": [
          [
           0,
           "rgb(165,0,38)"
          ],
          [
           0.1,
           "rgb(215,48,39)"
          ],
          [
           0.2,
           "rgb(244,109,67)"
          ],
          [
           0.3,
           "rgb(253,174,97)"
          ],
          [
           0.4,
           "rgb(254,224,139)"
          ],
          [
           0.5,
           "rgb(255,255,191)"
          ],
          [
           0.6,
           "rgb(217,239,139)"
          ],
          [
           0.7,
           "rgb(166,217,106)"
          ],
          [
           0.8,
           "rgb(102,189,99)"
          ],
          [
           0.9,
           "rgb(26,152,80)"
          ],
          [
           1,
           "rgb(0,104,55)"
          ]
         ],
         "geo": "geo2",
         "hovertemplate": "%{text}",
         "locationmode": "ISO-3",
         "locations": [
          "AFG",
          "ALB",
          "DZA",
          "AND",
          "AGO",
          "ATG",
          "ARG",
          "ARM",
          "AUS",
          "AUT",
          "AZE",
          "BHR",
          "BGD",
          "BRB",
          "BLR",
          "BEL",
          "BLZ",
          "BEN",
          "BTN",
          "BOL",
          "BIH",
          "BWA",
          "BRA",
          "BRN",
          "BGR",
          "BFA",
          "BDI",
          "KHM",
          "CMR",
          "CAN",
          "CPV",
          "CAF",
          "TCD",
          "CHL",
          "CHN",
          "COL",
          "COM",
          "COG",
          "COK",
          "CRI",
          "CIV",
          "HRV",
          "CUB",
          "CYP",
          "CZE",
          "COD",
          "DNK",
          "DJI",
          "DMA",
          "DOM",
          "ECU",
          "EGY",
          "SLV",
          "GNQ",
          "ERI",
          "EST",
          "SWZ",
          "ETH",
          "FJI",
          "FIN",
          "FRA",
          "GAB",
          "GEO",
          "DEU",
          "GHA",
          "GRC",
          "GRD",
          "GTM",
          "GIN",
          "GNB",
          "GUY",
          "HTI",
          "VAT",
          "HND",
          "HUN",
          "ISL",
          "IND",
          "IDN",
          "IRN",
          "IRQ",
          "IRL",
          "ISR",
          "ITA",
          "JAM",
          "JPN",
          "JOR",
          "KAZ",
          "KEN",
          "KIR",
          "KWT",
          "KGZ",
          "LAO",
          "LVA",
          "LBN",
          "LSO",
          "LBR",
          "LBY",
          "LIE",
          "LTU",
          "LUX",
          "MKD",
          "MDG",
          "MWI",
          "MYS",
          "MDV",
          "MLI",
          "MLT",
          "MHL",
          "MRT",
          "MUS",
          "MEX",
          "FSM",
          "MDA",
          "MCO",
          "MNG",
          "MNE",
          "MAR",
          "MOZ",
          "MMR",
          "NAM",
          "NRU",
          "NPL",
          "NLD",
          "NZL",
          "NIC",
          "NER",
          "NGA",
          "NIU",
          "PRK",
          "NOR",
          "OMN",
          "PAK",
          "PLW",
          "PSE",
          "PAN",
          "PNG",
          "PRY",
          "PER",
          "PHL",
          "POL",
          "PRT",
          "QAT",
          "ROU",
          "RUS",
          "RWA",
          "KNA",
          "LCA",
          "VCT",
          "WSM",
          "SMR",
          "STP",
          "SAU",
          "SEN",
          "SRB",
          "SYC",
          "SLE",
          "SGP",
          "SVK",
          "SVN",
          "SLB",
          "SOM",
          "ZAF",
          "KOR",
          "SSD",
          "ESP",
          "LKA",
          "SDN",
          "SUR",
          "SWE",
          "CHE",
          "SYR",
          "TJK",
          "TZA",
          "THA",
          "BHS",
          "GMB",
          "TLS",
          "TGO",
          "TON",
          "TTO",
          "TUN",
          "TUR",
          "TKM",
          "TUV",
          "UGA",
          "UKR",
          "ARE",
          "GBR",
          "USA",
          "URY",
          "UZB",
          "VUT",
          "VEN",
          "VNM",
          "YEM",
          "ZMB",
          "ZWE",
          "CVF",
          "G20",
          "EU",
          "G7",
          "NA",
          "AU",
          "AF",
          "SIDS",
          "LDC",
          "UM",
          "EG",
          "WORLD"
         ],
         "marker": {
          "line": {
           "color": "white",
           "width": 0.3
          }
         },
         "name": "",
         "showscale": false,
         "text": [
          "AFG: 777.69%",
          "ALB: -44.52%",
          "DZA: -39.48%",
          "AND: nan%",
          "AGO: 85.67%",
          "ATG: nan%",
          "ARG: -52.42%",
          "ARM: -61.56%",
          "AUS: -44.31%",
          "AUT: -32.14%",
          "AZE: -49.53%",
          "BHR: -59.38%",
          "BGD: 43.1%",
          "BRB: -39.42%",
          "BLR: -55.98%",
          "BEL: -37.77%",
          "BLZ: -31.82%",
          "BEN: 151.68%",
          "BTN: -50.11%",
          "BOL: -55.84%",
          "BIH: -40.29%",
          "BWA: -66.55%",
          "BRA: -28.34%",
          "BRN: -77.08%",
          "BGR: -34.71%",
          "BFA: 92.02%",
          "BDI: 4152.7%",
          "KHM: -20.72%",
          "CMR: 37.81%",
          "CAN: -36.78%",
          "CPV: 100.72%",
          "CAF: 814.7%",
          "TCD: 176.75%",
          "CHL: -41.94%",
          "CHN: -65.52%",
          "COL: -14.41%",
          "COM: 716.71%",
          "COG: 216.89%",
          "COK: nan%",
          "CRI: -18.5%",
          "CIV: 160.19%",
          "HRV: -54.68%",
          "CUB: -47.94%",
          "CYP: -21.87%",
          "CZE: -47.3%",
          "COD: 476.88%",
          "DNK: -51.46%",
          "DJI: 55.75%",
          "DMA: nan%",
          "DOM: -51.47%",
          "ECU: -30.95%",
          "EGY: -63.39%",
          "SLV: -2.88%",
          "GNQ: -64.52%",
          "ERI: 192.36%",
          "EST: -26.11%",
          "SWZ: -61.84%",
          "ETH: 370.27%",
          "FJI: -5.18%",
          "FIN: -49.79%",
          "FRA: -46.03%",
          "GAB: 75.73%",
          "GEO: -29.45%",
          "DEU: -39.3%",
          "GHA: 158.78%",
          "GRC: -45.71%",
          "GRD: nan%",
          "GTM: -36.02%",
          "GIN: 88.77%",
          "GNB: 83.68%",
          "GUY: -66.68%",
          "HTI: 283.01%",
          "VAT: nan%",
          "HND: 57.42%",
          "HUN: -49.68%",
          "ISL: -13.55%",
          "IND: -28.62%",
          "IDN: -43.4%",
          "IRN: -65.06%",
          "IRQ: -69.51%",
          "IRL: -51.34%",
          "ISR: -48.97%",
          "ITA: -49.33%",
          "JAM: -2.94%",
          "JPN: -36.62%",
          "JOR: -35.17%",
          "KAZ: -58.47%",
          "KEN: 104.09%",
          "KIR: nan%",
          "KWT: -65.23%",
          "KGZ: 30.35%",
          "LAO: -8.28%",
          "LVA: -56.49%",
          "LBN: -58.09%",
          "LSO: 237.82%",
          "LBR: 475.24%",
          "LBY: nan%",
          "LIE: nan%",
          "LTU: -45.3%",
          "LUX: -52.96%",
          "MKD: -14.57%",
          "MDG: 768.99%",
          "MWI: 1022.91%",
          "MYS: -60.17%",
          "MDV: -64.34%",
          "MLI: 125.33%",
          "MLT: -25.91%",
          "MHL: nan%",
          "MRT: 25.09%",
          "MUS: -62.43%",
          "MEX: -56.53%",
          "FSM: nan%",
          "MDA: -44.72%",
          "MCO: nan%",
          "MNG: -45.93%",
          "MNE: -40.44%",
          "MAR: -6.54%",
          "MOZ: 353.45%",
          "MMR: 78.89%",
          "NAM: -2.95%",
          "NRU: nan%",
          "NPL: 142.06%",
          "NLD: -40.09%",
          "NZL: -43.76%",
          "NIC: -62.64%",
          "NER: 374.09%",
          "NGA: 135.51%",
          "NIU: nan%",
          "PRK: nan%",
          "NOR: 3.92%",
          "OMN: -71.37%",
          "PAK: -27.79%",
          "PLW: nan%",
          "PSE: nan%",
          "PAN: -72.07%",
          "PNG: 182.32%",
          "PRY: -52.8%",
          "PER: -36.72%",
          "PHL: -21.22%",
          "POL: -40.93%",
          "PRT: -38.76%",
          "QAT: -44.73%",
          "ROU: -51.58%",
          "RUS: -62.84%",
          "RWA: 798.48%",
          "KNA: nan%",
          "LCA: -37.27%",
          "VCT: -46.98%",
          "WSM: 16.14%",
          "SMR: nan%",
          "STP: 101.31%",
          "SAU: -51.55%",
          "SEN: 117.85%",
          "SRB: -53.69%",
          "SYC: nan%",
          "SLE: 575.05%",
          "SGP: -66.5%",
          "SVK: -43.08%",
          "SVN: -54.42%",
          "SLB: 630.92%",
          "SOM: nan%",
          "ZAF: -60.27%",
          "KOR: -41.78%",
          "SSD: nan%",
          "ESP: -49.23%",
          "LKA: -22.45%",
          "SDN: 33.74%",
          "SUR: -65.63%",
          "SWE: -49.37%",
          "CHE: -35.94%",
          "SYR: 26.69%",
          "TJK: 71.56%",
          "TZA: 192.55%",
          "THA: -49.06%",
          "BHS: -57.12%",
          "GMB: nan%",
          "TLS: -501.81%",
          "TGO: 427.37%",
          "TON: 32.0%",
          "TTO: -78.45%",
          "TUN: -51.68%",
          "TUR: -75.74%",
          "TKM: -62.13%",
          "TUV: nan%",
          "UGA: 413.19%",
          "UKR: -52.6%",
          "ARE: -62.31%",
          "GBR: -33.13%",
          "USA: -47.49%",
          "URY: -61.69%",
          "UZB: -64.2%",
          "VUT: 268.22%",
          "VEN: -78.27%",
          "VNM: -63.28%",
          "YEM: 458.04%",
          "ZMB: 95.42%",
          "ZWE: 426.79%",
          "CVF: 112.95%",
          "G20: -53.23%",
          "EU: -44.5%",
          "G7: -44.53%",
          "NA: -46.49%",
          "AU: -44.24%",
          "AF: 117.9%",
          "SIDS: -17.17%",
          "LDC: 230.02%",
          "UM: -45.84%",
          "EG: -42.97%",
          "WORLD: -34.38%"
         ],
         "type": "choropleth",
         "z": [
          7.7768891185303,
          -0.445209588195836,
          -0.39479234957616155,
          null,
          0.8566872043420498,
          null,
          -0.5242100213863828,
          -0.6156325793101871,
          -0.44309512780166,
          -0.3214070024596983,
          -0.49534404738502996,
          -0.5937717370860277,
          0.4310086306208975,
          -0.394205987561733,
          -0.5598414704325584,
          -0.37773080181402413,
          -0.31823162097988195,
          1.5167799667016504,
          -0.501053343387714,
          -0.5584478454469697,
          -0.4029359945042282,
          -0.6655332211816742,
          -0.2834316441096064,
          -0.7707866619855658,
          -0.34705087035071225,
          0.9201768418116028,
          41.52703706449021,
          -0.20715129021777517,
          0.3780523629522054,
          -0.36783289161396615,
          1.007187602763465,
          8.146955611356384,
          1.7675185715648494,
          -0.41938383574201965,
          -0.6552464374538473,
          -0.14407919122376073,
          7.167116881159587,
          2.1689066830038897,
          null,
          -0.1849867586818691,
          1.601880157139471,
          -0.5468465959615846,
          -0.4793773281245692,
          -0.2186754890293701,
          -0.473004561880324,
          4.768820677915869,
          -0.5145604819742764,
          0.5575156969139647,
          null,
          -0.5146692041638042,
          -0.3095273546822653,
          -0.6339390793625826,
          -0.028819936594318522,
          -0.6451868644231159,
          1.9236033971257376,
          -0.26107394470488404,
          -0.6184457971166969,
          3.7026597511108057,
          -0.05184726008156117,
          -0.4978774100487555,
          -0.46031100553385557,
          0.7573320127506747,
          -0.294464008023378,
          -0.3930232151502432,
          1.5877693448987702,
          -0.4571171947377653,
          null,
          -0.3601943350850281,
          0.8877153117025257,
          0.8368198192407318,
          -0.6668254366120349,
          2.830078752340615,
          null,
          0.5741852992729036,
          -0.4967676899679862,
          -0.13551703383797029,
          -0.2861655129226495,
          -0.434039681399764,
          -0.6505593804879046,
          -0.6951038352281981,
          -0.513418426820174,
          -0.48965659532900135,
          -0.4933107875965858,
          -0.029422425294195066,
          -0.36619941178116594,
          -0.35173165732360673,
          -0.5847048714039923,
          1.0408659862400353,
          null,
          -0.6522909011876182,
          0.303498133058351,
          -0.08276956141665902,
          -0.5648615697659257,
          -0.5809125058780813,
          2.378163606145297,
          4.752435481907953,
          null,
          null,
          -0.45297461831308944,
          -0.5296462497976012,
          -0.14568820760892937,
          7.689887404683137,
          10.229108240737773,
          -0.6016986567809327,
          -0.6433636083949597,
          1.2532735635971293,
          -0.2590795508066868,
          null,
          0.25093119975368605,
          -0.6243392232232784,
          -0.565333134265768,
          null,
          -0.44715891727262186,
          null,
          -0.459285171389387,
          -0.4044414829247842,
          -0.06543953231029191,
          3.534535807409195,
          0.7888573514099966,
          -0.02954979612791135,
          null,
          1.4206220780310888,
          -0.4008721201715457,
          -0.43759152434218357,
          -0.6263806496951377,
          3.740902883077483,
          1.3551038382279184,
          null,
          null,
          0.03922255295403013,
          -0.7137310139523406,
          -0.27794291651814923,
          null,
          null,
          -0.7206969453504559,
          1.8232330985988228,
          -0.5279912898309757,
          -0.3671955307547503,
          -0.2122087441220287,
          -0.40930553604116887,
          -0.38756534888288446,
          -0.4472796529302509,
          -0.5157995800268327,
          -0.6284162917364098,
          7.984818580301615,
          null,
          -0.3726619842012793,
          -0.46979699010974685,
          0.16143332763468915,
          null,
          1.0131323409934967,
          -0.5155209381332087,
          1.1784850338467456,
          -0.5368957242509549,
          null,
          5.750462396821906,
          -0.6650359091497589,
          -0.43080665014425934,
          -0.5442150818424164,
          6.309183600130417,
          null,
          -0.6026707390716818,
          -0.4178044078791315,
          null,
          -0.4923084526580004,
          -0.22445198827127094,
          0.3373596387372967,
          -0.6563352547807884,
          -0.49373076968383245,
          -0.35939759331714294,
          0.26694993202127854,
          0.7155747540425399,
          1.9255462999476705,
          -0.4906367192677562,
          -0.5711724163181425,
          null,
          -5.01806463063192,
          4.27370630781129,
          0.31999807745682496,
          -0.7844566781503118,
          -0.5168110039453733,
          -0.7573575218562922,
          -0.6213271330884524,
          null,
          4.131893338893502,
          -0.5260419753776208,
          -0.6231049249698012,
          -0.3312795038855472,
          -0.4749497594341327,
          -0.6169165171512992,
          -0.6420344044475204,
          2.6822460608134673,
          -0.7827416322447884,
          -0.6328427256481269,
          4.580422808047222,
          0.9542176615197737,
          4.267939494306236,
          1.1294679727260497,
          -0.5323096952934592,
          -0.4450373530972415,
          -0.4453455290844835,
          -0.46492839257266205,
          -0.44235145168064083,
          1.178957076873935,
          -0.17166943301287518,
          2.3001736691520267,
          -0.45837883768387105,
          -0.4296550240021253,
          -0.34377746269369663
         ],
         "zmax": 1,
         "zmin": -1
        },
        {
         "colorbar": {
          "len": 1,
          "ticktext": [
           "-100%",
           "-75",
           "-50%",
           "-25%",
           "0%",
           "+25%",
           "+50%",
           "+75%",
           "+100%"
          ],
          "tickvals": [
           -1,
           -0.75,
           -0.5,
           -0.25,
           0,
           0.25,
           0.5,
           0.75,
           1
          ],
          "title": {
           "text": "Allocation<br>compared<br>to NDC"
          },
          "x": 1
         },
         "colorscale": [
          [
           0,
           "rgb(165,0,38)"
          ],
          [
           0.1,
           "rgb(215,48,39)"
          ],
          [
           0.2,
           "rgb(244,109,67)"
          ],
          [
           0.3,
           "rgb(253,174,97)"
          ],
          [
           0.4,
           "rgb(254,224,139)"
          ],
          [
           0.5,
           "rgb(255,255,191)"
          ],
          [
           0.6,
           "rgb(217,239,139)"
          ],
          [
           0.7,
           "rgb(166,217,106)"
          ],
          [
           0.8,
           "rgb(102,189,99)"
          ],
          [
           0.9,
           "rgb(26,152,80)"
          ],
          [
           1,
           "rgb(0,104,55)"
          ]
         ],
         "geo": "geo2",
         "hovertemplate": "%{text}",
         "locationmode": "ISO-3",
         "locations": [
          "AUT",
          "BEL",
          "BGR",
          "HRV",
          "CYP",
          "CZE",
          "DNK",
          "EST",
          "FIN",
          "FRA",
          "DEU",
          "GRC",
          "HUN",
          "IRL",
          "ITA",
          "LVA",
          "LTU",
          "LUX",
          "MLT",
          "NLD",
          "POL",
          "PRT",
          "ROU",
          "SVK",
          "SVN",
          "ESP",
          "SWE"
         ],
         "marker": {
          "line": {
           "color": "white",
           "width": 0.3
          }
         },
         "name": "",
         "showscale": false,
         "text": [
          "EU: -44.5%",
          "EU: -44.5%",
          "EU: -44.5%",
          "EU: -44.5%",
          "EU: -44.5%",
          "EU: -44.5%",
          "EU: -44.5%",
          "EU: -44.5%",
          "EU: -44.5%",
          "EU: -44.5%",
          "EU: -44.5%",
          "EU: -44.5%",
          "EU: -44.5%",
          "EU: -44.5%",
          "EU: -44.5%",
          "EU: -44.5%",
          "EU: -44.5%",
          "EU: -44.5%",
          "EU: -44.5%",
          "EU: -44.5%",
          "EU: -44.5%",
          "EU: -44.5%",
          "EU: -44.5%",
          "EU: -44.5%",
          "EU: -44.5%",
          "EU: -44.5%",
          "EU: -44.5%",
          "EU: -44.5%",
          "EU: -44.5%",
          "EU: -44.5%",
          "EU: -44.5%",
          "EU: -44.5%",
          "EU: -44.5%",
          "EU: -44.5%",
          "EU: -44.5%",
          "EU: -44.5%",
          "EU: -44.5%",
          "EU: -44.5%",
          "EU: -44.5%",
          "EU: -44.5%",
          "EU: -44.5%",
          "EU: -44.5%",
          "EU: -44.5%",
          "EU: -44.5%",
          "EU: -44.5%",
          "EU: -44.5%",
          "EU: -44.5%",
          "EU: -44.5%",
          "EU: -44.5%",
          "EU: -44.5%",
          "EU: -44.5%",
          "EU: -44.5%",
          "EU: -44.5%",
          "EU: -44.5%",
          "EU: -44.5%",
          "EU: -44.5%",
          "EU: -44.5%",
          "EU: -44.5%",
          "EU: -44.5%",
          "EU: -44.5%",
          "EU: -44.5%",
          "EU: -44.5%",
          "EU: -44.5%",
          "EU: -44.5%",
          "EU: -44.5%",
          "EU: -44.5%",
          "EU: -44.5%",
          "EU: -44.5%",
          "EU: -44.5%",
          "EU: -44.5%",
          "EU: -44.5%",
          "EU: -44.5%",
          "EU: -44.5%",
          "EU: -44.5%",
          "EU: -44.5%",
          "EU: -44.5%",
          "EU: -44.5%",
          "EU: -44.5%",
          "EU: -44.5%",
          "EU: -44.5%",
          "EU: -44.5%",
          "EU: -44.5%",
          "EU: -44.5%",
          "EU: -44.5%",
          "EU: -44.5%",
          "EU: -44.5%",
          "EU: -44.5%",
          "EU: -44.5%",
          "EU: -44.5%",
          "EU: -44.5%",
          "EU: -44.5%",
          "EU: -44.5%",
          "EU: -44.5%",
          "EU: -44.5%",
          "EU: -44.5%",
          "EU: -44.5%",
          "EU: -44.5%",
          "EU: -44.5%",
          "EU: -44.5%",
          "EU: -44.5%",
          "EU: -44.5%",
          "EU: -44.5%",
          "EU: -44.5%",
          "EU: -44.5%",
          "EU: -44.5%",
          "EU: -44.5%",
          "EU: -44.5%",
          "EU: -44.5%",
          "EU: -44.5%",
          "EU: -44.5%",
          "EU: -44.5%",
          "EU: -44.5%",
          "EU: -44.5%",
          "EU: -44.5%",
          "EU: -44.5%",
          "EU: -44.5%",
          "EU: -44.5%",
          "EU: -44.5%",
          "EU: -44.5%",
          "EU: -44.5%",
          "EU: -44.5%",
          "EU: -44.5%",
          "EU: -44.5%",
          "EU: -44.5%",
          "EU: -44.5%",
          "EU: -44.5%",
          "EU: -44.5%",
          "EU: -44.5%",
          "EU: -44.5%",
          "EU: -44.5%",
          "EU: -44.5%",
          "EU: -44.5%",
          "EU: -44.5%",
          "EU: -44.5%",
          "EU: -44.5%",
          "EU: -44.5%",
          "EU: -44.5%",
          "EU: -44.5%",
          "EU: -44.5%",
          "EU: -44.5%",
          "EU: -44.5%",
          "EU: -44.5%",
          "EU: -44.5%",
          "EU: -44.5%",
          "EU: -44.5%",
          "EU: -44.5%",
          "EU: -44.5%",
          "EU: -44.5%",
          "EU: -44.5%",
          "EU: -44.5%",
          "EU: -44.5%",
          "EU: -44.5%",
          "EU: -44.5%",
          "EU: -44.5%",
          "EU: -44.5%",
          "EU: -44.5%",
          "EU: -44.5%",
          "EU: -44.5%",
          "EU: -44.5%",
          "EU: -44.5%",
          "EU: -44.5%",
          "EU: -44.5%",
          "EU: -44.5%",
          "EU: -44.5%",
          "EU: -44.5%",
          "EU: -44.5%",
          "EU: -44.5%",
          "EU: -44.5%",
          "EU: -44.5%",
          "EU: -44.5%",
          "EU: -44.5%",
          "EU: -44.5%",
          "EU: -44.5%",
          "EU: -44.5%",
          "EU: -44.5%",
          "EU: -44.5%",
          "EU: -44.5%",
          "EU: -44.5%",
          "EU: -44.5%",
          "EU: -44.5%",
          "EU: -44.5%",
          "EU: -44.5%",
          "EU: -44.5%",
          "EU: -44.5%",
          "EU: -44.5%",
          "EU: -44.5%",
          "EU: -44.5%",
          "EU: -44.5%",
          "EU: -44.5%",
          "EU: -44.5%",
          "EU: -44.5%",
          "EU: -44.5%",
          "EU: -44.5%",
          "EU: -44.5%",
          "EU: -44.5%",
          "EU: -44.5%",
          "EU: -44.5%",
          "EU: -44.5%",
          "EU: -44.5%",
          "EU: -44.5%",
          "EU: -44.5%",
          "EU: -44.5%",
          "EU: -44.5%",
          "EU: -44.5%",
          "EU: -44.5%",
          "EU: -44.5%",
          "EU: -44.5%",
          "EU: -44.5%",
          "EU: -44.5%"
         ],
         "type": "choropleth",
         "z": [
          -0.4450373530972415,
          -0.4450373530972415,
          -0.4450373530972415,
          -0.4450373530972415,
          -0.4450373530972415,
          -0.4450373530972415,
          -0.4450373530972415,
          -0.4450373530972415,
          -0.4450373530972415,
          -0.4450373530972415,
          -0.4450373530972415,
          -0.4450373530972415,
          -0.4450373530972415,
          -0.4450373530972415,
          -0.4450373530972415,
          -0.4450373530972415,
          -0.4450373530972415,
          -0.4450373530972415,
          -0.4450373530972415,
          -0.4450373530972415,
          -0.4450373530972415,
          -0.4450373530972415,
          -0.4450373530972415,
          -0.4450373530972415,
          -0.4450373530972415,
          -0.4450373530972415,
          -0.4450373530972415
         ],
         "zmax": 1,
         "zmin": -1
        },
        {
         "arrangement": "snap",
         "domain": {
          "x": [
           0,
           1
          ],
          "y": [
           0,
           0.49
          ]
         },
         "link": {
          "color": [
           "rgba(180,0.0,0, 0.3)",
           "rgba(180,10.0,0, 0.3)",
           "rgba(180,20.0,0, 0.3)",
           "rgba(180,30.0,0, 0.3)",
           "rgba(180,40.0,0, 0.3)",
           "rgba(180,50.0,0, 0.3)",
           "rgba(180,60.0,0, 0.3)",
           "rgba(180,70.0,0, 0.3)",
           "rgba(180,80.0,0, 0.3)",
           "rgba(180,90.0,0, 0.3)",
           "rgba(180,100.0,0, 0.3)",
           "rgba(180,110.0,0, 0.3)",
           "rgba(180,120.0,0, 0.3)",
           "rgba(180,130.0,0, 0.3)",
           "rgba(180,140.0,0, 0.3)",
           "rgba(180,150.0,0, 0.3)",
           "rgba(180,160.0,0, 0.3)",
           "rgba(180,170.0,0, 0.3)"
          ],
          "source": [
           0,
           1,
           2,
           3,
           4,
           5,
           6,
           7,
           8,
           9,
           10,
           11,
           12,
           13,
           14,
           15,
           16,
           17
          ],
          "target": [
           21,
           26,
           28,
           25,
           31,
           30,
           20,
           32,
           19,
           18,
           27,
           33,
           22,
           24,
           23,
           29,
           35,
           34
          ],
          "value": [
           1,
           1,
           1,
           1,
           1,
           1,
           1,
           1,
           1,
           1,
           1,
           1,
           1,
           1,
           1,
           1,
           1,
           1
          ]
         },
         "node": {
          "color": "black",
          "label": [
           "United Arab Emirates: -100.7%",
           "United States of America: -100.0%",
           "Australia: -99.1%",
           "Saudi Arabia: -98.3%",
           "Canada: -98.3%",
           "South Korea: -96.2%",
           "Russian Federation: -94.9%",
           "Japan: -93.5%",
           "China: -90.4%",
           "Turkiye: -90.0%",
           "European Union: -89.9%",
           "United Kingdom: -86.2%",
           "South Africa: -79.7%",
           "Argentina: -79.1%",
           "Mexico: -74.4%",
           "Indonesia: -52.5%",
           "Brazil: -52.1%",
           "India: -7.0%",
           "Turkiye: -75.7%",
           "China: -65.5%",
           "Russian Federation: -62.8%",
           "United Arab Emirates: -62.3%",
           "South Africa: -60.3%",
           "Mexico: -56.5%",
           "Argentina: -52.4%",
           "Saudi Arabia: -51.6%",
           "United States of America: -47.5%",
           "European Union: -44.5%",
           "Australia: -44.3%",
           "Indonesia: -43.4%",
           "South Korea: -41.8%",
           "Canada: -36.8%",
           "Japan: -36.6%",
           "United Kingdom: -33.1%",
           "India: -28.6%",
           "Brazil: -28.3%"
          ],
          "line": {
           "color": "black",
           "width": 0.5
          },
          "pad": 10,
          "thickness": 5,
          "x": [
           0.05,
           0.05,
           0.05,
           0.05,
           0.05,
           0.05,
           0.05,
           0.05,
           0.05,
           0.05,
           0.05,
           0.05,
           0.05,
           0.05,
           0.05,
           0.05,
           0.05,
           0.05,
           0.95,
           0.95,
           0.95,
           0.95,
           0.95,
           0.95,
           0.95,
           0.95,
           0.95,
           0.95,
           0.95,
           0.95,
           0.95,
           0.95,
           0.95,
           0.95,
           0.95,
           0.95
          ],
          "y": [
           0.001,
           0.05970588235294118,
           0.11841176470588236,
           0.17711764705882355,
           0.2358235294117647,
           0.2945294117647059,
           0.3532352941176471,
           0.41194117647058826,
           0.4706470588235294,
           0.5293529411764706,
           0.5880588235294117,
           0.6467647058823529,
           0.7054705882352942,
           0.7641764705882353,
           0.8228823529411765,
           0.8815882352941177,
           0.9402941176470588,
           0.999,
           0.001,
           0.05970588235294118,
           0.11841176470588236,
           0.17711764705882355,
           0.2358235294117647,
           0.2945294117647059,
           0.3532352941176471,
           0.41194117647058826,
           0.4706470588235294,
           0.5293529411764706,
           0.5880588235294117,
           0.6467647058823529,
           0.7054705882352942,
           0.7641764705882353,
           0.8228823529411765,
           0.8815882352941177,
           0.9402941176470588,
           0.999
          ]
         },
         "type": "sankey"
        }
       ],
       "layout": {
        "annotations": [
         {
          "align": "center",
          "ax": 0,
          "ay": 0,
          "font": {
           "color": "black",
           "size": 16
          },
          "showarrow": false,
          "text": "NDC ambitious enough <<<",
          "textangle": 90,
          "x": 1.025,
          "xref": "paper",
          "y": 0.7,
          "yref": "paper"
         },
         {
          "align": "center",
          "ax": 0,
          "ay": 0,
          "font": {
           "color": "black",
           "size": 16
          },
          "showarrow": false,
          "text": ">>> NDC not ambitious enough",
          "textangle": 90,
          "x": 1.025,
          "xref": "paper",
          "y": 0.2,
          "yref": "paper"
         },
         {
          "align": "left",
          "ax": 0,
          "ay": 0,
          "font": {
           "color": "black",
           "size": 16
          },
          "showarrow": false,
          "text": "<b>(a) Allocation-NDC comparison for approach 2</b>",
          "x": 0.07,
          "xref": "paper",
          "y": 1,
          "yref": "paper"
         },
         {
          "align": "left",
          "ax": 0,
          "ay": 0,
          "font": {
           "color": "black",
           "size": 16
          },
          "showarrow": false,
          "text": "<b>(b) Allocation-NDC comparison for approach 2<br>(transitioning from current emissions in 20 years)</b>",
          "x": 0.86,
          "xref": "paper",
          "y": 1,
          "yref": "paper"
         },
         {
          "align": "left",
          "ax": 0,
          "ay": 0,
          "font": {
           "color": "black",
           "size": 16
          },
          "showarrow": false,
          "text": "<b>(c) Ordering of G20 and United Arab Emirates</b>",
          "x": 0.04,
          "xref": "paper",
          "y": 0.52,
          "yref": "paper"
         }
        ],
        "font": {
         "size": 15
        },
        "geo": {
         "domain": {
          "x": [
           0,
           0.5
          ],
          "y": [
           0.51,
           1
          ]
         },
         "lakecolor": "rgb(255, 255, 255)",
         "oceancolor": "aliceblue",
         "projection": {
          "type": "natural earth"
         },
         "showcoastlines": false,
         "showlakes": true,
         "showocean": true,
         "visible": false
        },
        "geo2": {
         "domain": {
          "x": [
           0.5,
           1
          ],
          "y": [
           0.51,
           1
          ]
         },
         "lakecolor": "rgb(255, 255, 255)",
         "oceancolor": "aliceblue",
         "projection": {
          "type": "natural earth"
         },
         "showcoastlines": false,
         "showlakes": true,
         "showocean": true,
         "visible": false
        },
        "height": 1200,
        "template": {
         "data": {
          "bar": [
           {
            "error_x": {
             "color": "#2a3f5f"
            },
            "error_y": {
             "color": "#2a3f5f"
            },
            "marker": {
             "line": {
              "color": "#E5ECF6",
              "width": 0.5
             },
             "pattern": {
              "fillmode": "overlay",
              "size": 10,
              "solidity": 0.2
             }
            },
            "type": "bar"
           }
          ],
          "barpolar": [
           {
            "marker": {
             "line": {
              "color": "#E5ECF6",
              "width": 0.5
             },
             "pattern": {
              "fillmode": "overlay",
              "size": 10,
              "solidity": 0.2
             }
            },
            "type": "barpolar"
           }
          ],
          "carpet": [
           {
            "aaxis": {
             "endlinecolor": "#2a3f5f",
             "gridcolor": "white",
             "linecolor": "white",
             "minorgridcolor": "white",
             "startlinecolor": "#2a3f5f"
            },
            "baxis": {
             "endlinecolor": "#2a3f5f",
             "gridcolor": "white",
             "linecolor": "white",
             "minorgridcolor": "white",
             "startlinecolor": "#2a3f5f"
            },
            "type": "carpet"
           }
          ],
          "choropleth": [
           {
            "colorbar": {
             "outlinewidth": 0,
             "ticks": ""
            },
            "type": "choropleth"
           }
          ],
          "contour": [
           {
            "colorbar": {
             "outlinewidth": 0,
             "ticks": ""
            },
            "colorscale": [
             [
              0,
              "#0d0887"
             ],
             [
              0.1111111111111111,
              "#46039f"
             ],
             [
              0.2222222222222222,
              "#7201a8"
             ],
             [
              0.3333333333333333,
              "#9c179e"
             ],
             [
              0.4444444444444444,
              "#bd3786"
             ],
             [
              0.5555555555555556,
              "#d8576b"
             ],
             [
              0.6666666666666666,
              "#ed7953"
             ],
             [
              0.7777777777777778,
              "#fb9f3a"
             ],
             [
              0.8888888888888888,
              "#fdca26"
             ],
             [
              1,
              "#f0f921"
             ]
            ],
            "type": "contour"
           }
          ],
          "contourcarpet": [
           {
            "colorbar": {
             "outlinewidth": 0,
             "ticks": ""
            },
            "type": "contourcarpet"
           }
          ],
          "heatmap": [
           {
            "colorbar": {
             "outlinewidth": 0,
             "ticks": ""
            },
            "colorscale": [
             [
              0,
              "#0d0887"
             ],
             [
              0.1111111111111111,
              "#46039f"
             ],
             [
              0.2222222222222222,
              "#7201a8"
             ],
             [
              0.3333333333333333,
              "#9c179e"
             ],
             [
              0.4444444444444444,
              "#bd3786"
             ],
             [
              0.5555555555555556,
              "#d8576b"
             ],
             [
              0.6666666666666666,
              "#ed7953"
             ],
             [
              0.7777777777777778,
              "#fb9f3a"
             ],
             [
              0.8888888888888888,
              "#fdca26"
             ],
             [
              1,
              "#f0f921"
             ]
            ],
            "type": "heatmap"
           }
          ],
          "heatmapgl": [
           {
            "colorbar": {
             "outlinewidth": 0,
             "ticks": ""
            },
            "colorscale": [
             [
              0,
              "#0d0887"
             ],
             [
              0.1111111111111111,
              "#46039f"
             ],
             [
              0.2222222222222222,
              "#7201a8"
             ],
             [
              0.3333333333333333,
              "#9c179e"
             ],
             [
              0.4444444444444444,
              "#bd3786"
             ],
             [
              0.5555555555555556,
              "#d8576b"
             ],
             [
              0.6666666666666666,
              "#ed7953"
             ],
             [
              0.7777777777777778,
              "#fb9f3a"
             ],
             [
              0.8888888888888888,
              "#fdca26"
             ],
             [
              1,
              "#f0f921"
             ]
            ],
            "type": "heatmapgl"
           }
          ],
          "histogram": [
           {
            "marker": {
             "pattern": {
              "fillmode": "overlay",
              "size": 10,
              "solidity": 0.2
             }
            },
            "type": "histogram"
           }
          ],
          "histogram2d": [
           {
            "colorbar": {
             "outlinewidth": 0,
             "ticks": ""
            },
            "colorscale": [
             [
              0,
              "#0d0887"
             ],
             [
              0.1111111111111111,
              "#46039f"
             ],
             [
              0.2222222222222222,
              "#7201a8"
             ],
             [
              0.3333333333333333,
              "#9c179e"
             ],
             [
              0.4444444444444444,
              "#bd3786"
             ],
             [
              0.5555555555555556,
              "#d8576b"
             ],
             [
              0.6666666666666666,
              "#ed7953"
             ],
             [
              0.7777777777777778,
              "#fb9f3a"
             ],
             [
              0.8888888888888888,
              "#fdca26"
             ],
             [
              1,
              "#f0f921"
             ]
            ],
            "type": "histogram2d"
           }
          ],
          "histogram2dcontour": [
           {
            "colorbar": {
             "outlinewidth": 0,
             "ticks": ""
            },
            "colorscale": [
             [
              0,
              "#0d0887"
             ],
             [
              0.1111111111111111,
              "#46039f"
             ],
             [
              0.2222222222222222,
              "#7201a8"
             ],
             [
              0.3333333333333333,
              "#9c179e"
             ],
             [
              0.4444444444444444,
              "#bd3786"
             ],
             [
              0.5555555555555556,
              "#d8576b"
             ],
             [
              0.6666666666666666,
              "#ed7953"
             ],
             [
              0.7777777777777778,
              "#fb9f3a"
             ],
             [
              0.8888888888888888,
              "#fdca26"
             ],
             [
              1,
              "#f0f921"
             ]
            ],
            "type": "histogram2dcontour"
           }
          ],
          "mesh3d": [
           {
            "colorbar": {
             "outlinewidth": 0,
             "ticks": ""
            },
            "type": "mesh3d"
           }
          ],
          "parcoords": [
           {
            "line": {
             "colorbar": {
              "outlinewidth": 0,
              "ticks": ""
             }
            },
            "type": "parcoords"
           }
          ],
          "pie": [
           {
            "automargin": true,
            "type": "pie"
           }
          ],
          "scatter": [
           {
            "fillpattern": {
             "fillmode": "overlay",
             "size": 10,
             "solidity": 0.2
            },
            "type": "scatter"
           }
          ],
          "scatter3d": [
           {
            "line": {
             "colorbar": {
              "outlinewidth": 0,
              "ticks": ""
             }
            },
            "marker": {
             "colorbar": {
              "outlinewidth": 0,
              "ticks": ""
             }
            },
            "type": "scatter3d"
           }
          ],
          "scattercarpet": [
           {
            "marker": {
             "colorbar": {
              "outlinewidth": 0,
              "ticks": ""
             }
            },
            "type": "scattercarpet"
           }
          ],
          "scattergeo": [
           {
            "marker": {
             "colorbar": {
              "outlinewidth": 0,
              "ticks": ""
             }
            },
            "type": "scattergeo"
           }
          ],
          "scattergl": [
           {
            "marker": {
             "colorbar": {
              "outlinewidth": 0,
              "ticks": ""
             }
            },
            "type": "scattergl"
           }
          ],
          "scattermapbox": [
           {
            "marker": {
             "colorbar": {
              "outlinewidth": 0,
              "ticks": ""
             }
            },
            "type": "scattermapbox"
           }
          ],
          "scatterpolar": [
           {
            "marker": {
             "colorbar": {
              "outlinewidth": 0,
              "ticks": ""
             }
            },
            "type": "scatterpolar"
           }
          ],
          "scatterpolargl": [
           {
            "marker": {
             "colorbar": {
              "outlinewidth": 0,
              "ticks": ""
             }
            },
            "type": "scatterpolargl"
           }
          ],
          "scatterternary": [
           {
            "marker": {
             "colorbar": {
              "outlinewidth": 0,
              "ticks": ""
             }
            },
            "type": "scatterternary"
           }
          ],
          "surface": [
           {
            "colorbar": {
             "outlinewidth": 0,
             "ticks": ""
            },
            "colorscale": [
             [
              0,
              "#0d0887"
             ],
             [
              0.1111111111111111,
              "#46039f"
             ],
             [
              0.2222222222222222,
              "#7201a8"
             ],
             [
              0.3333333333333333,
              "#9c179e"
             ],
             [
              0.4444444444444444,
              "#bd3786"
             ],
             [
              0.5555555555555556,
              "#d8576b"
             ],
             [
              0.6666666666666666,
              "#ed7953"
             ],
             [
              0.7777777777777778,
              "#fb9f3a"
             ],
             [
              0.8888888888888888,
              "#fdca26"
             ],
             [
              1,
              "#f0f921"
             ]
            ],
            "type": "surface"
           }
          ],
          "table": [
           {
            "cells": {
             "fill": {
              "color": "#EBF0F8"
             },
             "line": {
              "color": "white"
             }
            },
            "header": {
             "fill": {
              "color": "#C8D4E3"
             },
             "line": {
              "color": "white"
             }
            },
            "type": "table"
           }
          ]
         },
         "layout": {
          "annotationdefaults": {
           "arrowcolor": "#2a3f5f",
           "arrowhead": 0,
           "arrowwidth": 1
          },
          "autotypenumbers": "strict",
          "coloraxis": {
           "colorbar": {
            "outlinewidth": 0,
            "ticks": ""
           }
          },
          "colorscale": {
           "diverging": [
            [
             0,
             "#8e0152"
            ],
            [
             0.1,
             "#c51b7d"
            ],
            [
             0.2,
             "#de77ae"
            ],
            [
             0.3,
             "#f1b6da"
            ],
            [
             0.4,
             "#fde0ef"
            ],
            [
             0.5,
             "#f7f7f7"
            ],
            [
             0.6,
             "#e6f5d0"
            ],
            [
             0.7,
             "#b8e186"
            ],
            [
             0.8,
             "#7fbc41"
            ],
            [
             0.9,
             "#4d9221"
            ],
            [
             1,
             "#276419"
            ]
           ],
           "sequential": [
            [
             0,
             "#0d0887"
            ],
            [
             0.1111111111111111,
             "#46039f"
            ],
            [
             0.2222222222222222,
             "#7201a8"
            ],
            [
             0.3333333333333333,
             "#9c179e"
            ],
            [
             0.4444444444444444,
             "#bd3786"
            ],
            [
             0.5555555555555556,
             "#d8576b"
            ],
            [
             0.6666666666666666,
             "#ed7953"
            ],
            [
             0.7777777777777778,
             "#fb9f3a"
            ],
            [
             0.8888888888888888,
             "#fdca26"
            ],
            [
             1,
             "#f0f921"
            ]
           ],
           "sequentialminus": [
            [
             0,
             "#0d0887"
            ],
            [
             0.1111111111111111,
             "#46039f"
            ],
            [
             0.2222222222222222,
             "#7201a8"
            ],
            [
             0.3333333333333333,
             "#9c179e"
            ],
            [
             0.4444444444444444,
             "#bd3786"
            ],
            [
             0.5555555555555556,
             "#d8576b"
            ],
            [
             0.6666666666666666,
             "#ed7953"
            ],
            [
             0.7777777777777778,
             "#fb9f3a"
            ],
            [
             0.8888888888888888,
             "#fdca26"
            ],
            [
             1,
             "#f0f921"
            ]
           ]
          },
          "colorway": [
           "#636efa",
           "#EF553B",
           "#00cc96",
           "#ab63fa",
           "#FFA15A",
           "#19d3f3",
           "#FF6692",
           "#B6E880",
           "#FF97FF",
           "#FECB52"
          ],
          "font": {
           "color": "#2a3f5f"
          },
          "geo": {
           "bgcolor": "white",
           "lakecolor": "white",
           "landcolor": "#E5ECF6",
           "showlakes": true,
           "showland": true,
           "subunitcolor": "white"
          },
          "hoverlabel": {
           "align": "left"
          },
          "hovermode": "closest",
          "mapbox": {
           "style": "light"
          },
          "paper_bgcolor": "white",
          "plot_bgcolor": "#E5ECF6",
          "polar": {
           "angularaxis": {
            "gridcolor": "white",
            "linecolor": "white",
            "ticks": ""
           },
           "bgcolor": "#E5ECF6",
           "radialaxis": {
            "gridcolor": "white",
            "linecolor": "white",
            "ticks": ""
           }
          },
          "scene": {
           "xaxis": {
            "backgroundcolor": "#E5ECF6",
            "gridcolor": "white",
            "gridwidth": 2,
            "linecolor": "white",
            "showbackground": true,
            "ticks": "",
            "zerolinecolor": "white"
           },
           "yaxis": {
            "backgroundcolor": "#E5ECF6",
            "gridcolor": "white",
            "gridwidth": 2,
            "linecolor": "white",
            "showbackground": true,
            "ticks": "",
            "zerolinecolor": "white"
           },
           "zaxis": {
            "backgroundcolor": "#E5ECF6",
            "gridcolor": "white",
            "gridwidth": 2,
            "linecolor": "white",
            "showbackground": true,
            "ticks": "",
            "zerolinecolor": "white"
           }
          },
          "shapedefaults": {
           "line": {
            "color": "#2a3f5f"
           }
          },
          "ternary": {
           "aaxis": {
            "gridcolor": "white",
            "linecolor": "white",
            "ticks": ""
           },
           "baxis": {
            "gridcolor": "white",
            "linecolor": "white",
            "ticks": ""
           },
           "bgcolor": "#E5ECF6",
           "caxis": {
            "gridcolor": "white",
            "linecolor": "white",
            "ticks": ""
           }
          },
          "title": {
           "x": 0.05
          },
          "xaxis": {
           "automargin": true,
           "gridcolor": "white",
           "linecolor": "white",
           "ticks": "",
           "title": {
            "standoff": 15
           },
           "zerolinecolor": "white",
           "zerolinewidth": 2
          },
          "yaxis": {
           "automargin": true,
           "gridcolor": "white",
           "linecolor": "white",
           "ticks": "",
           "title": {
            "standoff": 15
           },
           "zerolinecolor": "white",
           "zerolinewidth": 2
          }
         }
        },
        "width": 1750,
        "xaxis": {
         "anchor": "y",
         "domain": [
          0.5,
          1
         ]
        },
        "yaxis": {
         "anchor": "x",
         "domain": [
          0,
          0.49
         ]
        }
       }
      }
     },
     "metadata": {},
     "output_type": "display_data"
    }
   ],
   "source": [
    "fig = make_subplots(rows=2, cols=2, \n",
    "                                                    specs=[[{'type': 'choropleth'}, {'type': 'choropleth'}],\n",
    "                                                           [{'type': 'sankey','colspan': 2}, {}]],\n",
    "                                                    horizontal_spacing = 0, vertical_spacing=0.02)\n",
    "\n",
    "colorbar_abs = dict(len=1, x=1, tickvals = [0, 1, 2, 3], ticktext = ['1', '10', '100', '1000'])\n",
    "ts = ['Below 1.5 degrees', 'Well below 2 degrees', 'Below 3 degrees', 'Below 4 degrees']\n",
    "colorbar_pc = dict(len=1, x=1)\n",
    "\n",
    "for a_i, approach in enumerate([\"A2_gdp_net\", 'A2_trans']):\n",
    "    if a_i == 0:\n",
    "        cm= True\n",
    "    else:\n",
    "        cm= False\n",
    "    #t[t >= 4] = np.nan\n",
    "    fig.add_trace(\n",
    "        go.Choropleth(\n",
    "        locations=xr_budgets_scenario.ISO,\n",
    "        z = ndc_deviations[c_i][a_i],\n",
    "        locationmode = 'ISO-3',\n",
    "        colorscale = 'RdYlGn',\n",
    "        zmax = 1,\n",
    "        zmin = -1,\n",
    "        text = [str(r)+\": \"+str(np.round(float(ndc_deviations[c_i][a_i][r_i])*100, 2))+\"%\" for r_i, r in enumerate(np.array(xr_budgets_scenario.ISO))],\n",
    "        hovertemplate  = '%{text}',\n",
    "        name=\"\",\n",
    "        marker_line_color='white', \n",
    "        marker_line_width=0.3,\n",
    "        colorbar=dict(len=1, x=1, tickvals = [-1, -0.75, -0.5, -0.25, 0, 0.25, 0.5, 0.75, 1], ticktext = [\"-100%\", \"-75\", \"-50%\", \"-25%\", \"0%\", \"+25%\", \"+50%\", \"+75%\", \"+100%\"], title={\"text\":\"Allocation<br>compared<br>to NDC\"}),\n",
    "        showscale=cm\n",
    "    ), 1, a_i+1)\n",
    "    fig.add_trace(\n",
    "        go.Choropleth(\n",
    "        locations=group_eu,\n",
    "        z = np.array([ndc_deviations[c_i][a_i][np.where(all_regions_iso == \"EU\")[0][0]]]*len(group_eu)),\n",
    "        locationmode = 'ISO-3',\n",
    "        colorscale = 'RdYlGn',\n",
    "        zmax = 1,\n",
    "        zmin = -1,\n",
    "        text = [\"EU: \"+str(np.round(float(ndc_deviations[c_i][a_i][np.where(all_regions_iso == \"EU\")[0][0]])*100, 2))+\"%\" for r_i, r in enumerate(np.array(xr_budgets_scenario.ISO))],\n",
    "        hovertemplate  = '%{text}',\n",
    "        name=\"\",\n",
    "        marker_line_color='white', \n",
    "        marker_line_width=0.3,\n",
    "        colorbar=dict(len=1, x=1, tickvals = [-1, -0.75, -0.5, -0.25, 0, 0.25, 0.5, 0.75, 1], ticktext = [\"-100%\", \"-75\", \"-50%\", \"-25%\", \"0%\", \"+25%\", \"+50%\", \"+75%\", \"+100%\"], title={\"text\":\"Allocation<br>compared<br>to NDC\"}),\n",
    "        showscale=cm\n",
    "    ), 1, a_i+1)\n",
    "fig.update_geos(showocean=True, oceancolor=\"aliceblue\")\n",
    "fig.update_geos(showlakes=True, lakecolor=\"aliceblue\")\n",
    "\n",
    "fig.add_trace(go.Sankey(\n",
    "    arrangement='snap',\n",
    "    node = dict(\n",
    "      pad = 10,\n",
    "      x = [0.05]*(amount)+[0.95]*(amount),\n",
    "      y = list(np.linspace(0.001, 0.999, (amount)))+list(np.linspace(0.001, 0.999, (amount))),\n",
    "    #   x = [0.001, 0.001, 0.001, 0.001, 0.999, 0.999, 0.999, 0.999],\n",
    "    #   y = [0.001, 75/285, 160/285, 190/285, 0.001, 75/285, 130/285, 215/285], \n",
    "      thickness = 5,\n",
    "      line = dict(color = \"black\", width = 0.5),\n",
    "      label = ([all_regions_names[all_regions_iso == r][0]+\": \"+str(np.round(float(np.array(ndc_deviations_onlyfew[0][0])[regs_onlyfew == r])*100, 1))+\"%\" for r in regs_onlyfew[np.argsort(ndc_deviations_onlyfew[0])[0][:amount]]]+#+['Below top-'+str(amount)] +\n",
    "              [all_regions_names[all_regions_iso == r][0]+\": \"+str(np.round(float(np.array(ndc_deviations_onlyfew[0][1])[regs_onlyfew == r])*100, 1))+\"%\" for r in regs_onlyfew[np.argsort(ndc_deviations_onlyfew[0])[1][:amount]]]),#+['Below top-'+str(amount)]),\n",
    "      color = 'black'\n",
    "    ),\n",
    "    link = dict(\n",
    "      source = sources_numeric, # indices correspond to labels, eg A1, A2, A1, B1, ...\n",
    "      target = targets_numeric,#np.random.choice(np.arange(amount+1), size=amount+1, replace=False)+amount+1,\n",
    "      value = [1]*len(targets_numeric),\n",
    "      color = ['rgba(180,'+str(0+i/1.5)+','+str(0)+', 0.3)' for i in np.linspace(0, 255, len(sources_numeric))]\n",
    "  )), 2, 1)\n",
    "\n",
    "# limite map scope to USA 'africa', 'asia', 'europe', 'north america', 'south america', 'usa', 'world'\n",
    "fig.update_geos(visible=False,\n",
    "                showlakes=True,\n",
    "                lakecolor='rgb(255, 255, 255)',\n",
    "                projection_type='natural earth',\n",
    "                showcoastlines=False,)\n",
    "\n",
    "fig.update_layout(\n",
    "    font_size=15,\n",
    ")\n",
    "#fig.update_traces(showscale=False)\n",
    "fig.add_annotation(xref='paper', yref='paper',ax=0, align='center', ay=-0, showarrow=False,\n",
    "                    y=0.7,\n",
    "                    x=1.025, \n",
    "                    textangle=90,\n",
    "                    text=\"NDC ambitious enough <<<\",\n",
    "                    font=dict(color='black', size=16),\n",
    "                )\n",
    "fig.add_annotation(xref='paper', yref='paper',ax=0, align='center', ay=-0, showarrow=False,\n",
    "                    y=0.2,\n",
    "                    x=1.025, \n",
    "                    textangle=90,\n",
    "                    text=\">>> NDC not ambitious enough\",\n",
    "                    font=dict(color='black', size=16),\n",
    "                )\n",
    "\n",
    "fig.add_annotation(xref='paper', yref='paper',ax=0, align='left', ay=-0, showarrow=False,\n",
    "                    y=1.0,\n",
    "                    x=0.07,\n",
    "                    text=\"<b>(a) Allocation-NDC comparison for approach 2</b>\",\n",
    "                    font=dict(color='black', size=16),\n",
    "                )\n",
    "fig.add_annotation(xref='paper', yref='paper',ax=0, align='left', ay=-0, showarrow=False,\n",
    "                    y=1.0,\n",
    "                    x=0.86,\n",
    "                    text=\"<b>(b) Allocation-NDC comparison for approach 2<br>(transitioning from current emissions in 20 years)</b>\",\n",
    "                    font=dict(color='black', size=16),\n",
    "                )\n",
    "fig.add_annotation(xref='paper', yref='paper',ax=0, align='left', ay=-0, showarrow=False,\n",
    "                    y=0.52,\n",
    "                    x=0.04,\n",
    "                    text=\"<b>(c) Ordering of G20 and United Arab Emirates</b>\",\n",
    "                    font=dict(color='black', size=16),\n",
    "                )\n",
    "\n",
    "fig.update_layout(height=1200, width=1750)"
   ]
  },
  {
   "cell_type": "code",
   "execution_count": 17,
   "metadata": {},
   "outputs": [],
   "source": [
    "fig.write_image(\"X:/user/dekkerm/Projects/ECEMF_T5.2/Figures/Figure_fluvial/Figure_fluvial.svg\")\n",
    "fig.write_image(\"X:/user/dekkerm/Projects/ECEMF_T5.2/Figures/Figure_fluvial/Figure_fluvial.png\", scale=3)\n",
    "\n",
    "import os\n",
    "from datetime import date\n",
    "try:\n",
    "    os.remove('X:/user/dekkerm/Projects/ECEMF_T5.2/Figures/Figure_fluvial/Figure_fluvial.html')\n",
    "except:\n",
    "    3\n",
    "def html_w(typ):\n",
    "    return '<html> '+typ+' <p style=\"font-family: Arial\">'\n",
    "\n",
    "today = date.today()\n",
    "td = today.strftime(\"%B %d, %Y\")\n",
    "\n",
    "with open('X:/user/dekkerm/Projects/ECEMF_T5.2/Figures/Figure_fluvial/Figure_fluvial.html', 'a') as f:\n",
    "    #f.write(html_w('<h1>')+'Figure 1 - Electricity Generation</p></h1>')\n",
    "    f.write(html_w('<body>')+'Version: '+td+'</p></body>')\n",
    "    f.write(fig.to_html(full_html=False, include_plotlyjs='cdn'))"
   ]
  },
  {
   "cell_type": "code",
   "execution_count": null,
   "metadata": {},
   "outputs": [],
   "source": []
  }
 ],
 "metadata": {
  "kernelspec": {
   "display_name": "Python 3.9.11 ('MyEnv')",
   "language": "python",
   "name": "python3"
  },
  "language_info": {
   "codemirror_mode": {
    "name": "ipython",
    "version": 3
   },
   "file_extension": ".py",
   "mimetype": "text/x-python",
   "name": "python",
   "nbconvert_exporter": "python",
   "pygments_lexer": "ipython3",
   "version": "3.9.16"
  },
  "orig_nbformat": 4,
  "vscode": {
   "interpreter": {
    "hash": "36d5d389870ab01fa625d0d5123f82469a3683fa0e02c4f7e9e76e9a75345aa3"
   }
  }
 },
 "nbformat": 4,
 "nbformat_minor": 2
}
