{
 "cells": [
  {
   "attachments": {},
   "cell_type": "markdown",
   "metadata": {},
   "source": [
    "## Preambule"
   ]
  },
  {
   "cell_type": "code",
   "execution_count": 1,
   "metadata": {},
   "outputs": [],
   "source": [
    "# General packages\n",
    "import numpy as np\n",
    "import pandas as pd\n",
    "from tqdm import tqdm\n",
    "from pathlib import Path\n",
    "import xarray as xr\n",
    "import json\n",
    "\n",
    "# Plotting\n",
    "import matplotlib.pyplot as plt\n",
    "import plotly.express as px\n",
    "import plotly.graph_objects as go\n",
    "from plotly.subplots import make_subplots\n",
    "from plotly.colors import n_colors"
   ]
  },
  {
   "attachments": {},
   "cell_type": "markdown",
   "metadata": {},
   "source": [
    "## Parameter"
   ]
  },
  {
   "cell_type": "code",
   "execution_count": 2,
   "metadata": {},
   "outputs": [],
   "source": [
    "hist_startyear = 1990"
   ]
  },
  {
   "attachments": {},
   "cell_type": "markdown",
   "metadata": {},
   "source": [
    "## Paths"
   ]
  },
  {
   "cell_type": "code",
   "execution_count": 3,
   "metadata": {},
   "outputs": [],
   "source": [
    "path_main = Path(\"X:/user/dekkerm/Projects/ECEMF_T5.2/\")\n",
    "path_data = path_main / \"Data\" / str(hist_startyear)\n",
    "path_figs = path_main / \"Figures\""
   ]
  },
  {
   "attachments": {},
   "cell_type": "markdown",
   "metadata": {},
   "source": [
    "## Read data files"
   ]
  },
  {
   "cell_type": "code",
   "execution_count": 4,
   "metadata": {},
   "outputs": [],
   "source": [
    "xr_total = xr.open_dataset(path_data / \"xr_total.nc\")\n",
    "all_regions_iso = np.load(path_data / \"all_regions.npy\")\n",
    "all_regions_names = np.load(path_data / \"all_regions_names.npy\")\n",
    "all_countries_iso = np.load(path_data / \"all_countries.npy\", allow_pickle=True)\n",
    "all_countries_names = np.load(path_data / \"all_countries_names.npy\", allow_pickle=True)\n",
    "only_regions_iso = ['CVF', 'G20', \"EU\", \"G7\", \"NA\", \"AU\", \"AF\", \"SIDS\", \"LDC\", \"WORLD\"]\n",
    "only_regions_names = ['Climate Vulnerability Forum','G20',\"European Union\",\"G7\",\"Northern America\",\"Australasia\",\"African Group\",\"Small Island Developing States\",\"Least Developed Countries\"]"
   ]
  },
  {
   "cell_type": "code",
   "execution_count": 5,
   "metadata": {},
   "outputs": [],
   "source": [
    "xr_budgets_static = xr.open_dataset(path_data / \"xr_budgets_static.nc\")\n",
    "xr_budgets_linear = xr.open_dataset(path_data / \"xr_budgets_linear.nc\")\n",
    "xr_budgets_scenario = xr.open_dataset(path_data / \"xr_budgets_scenario.nc\")\n",
    "df_michel = pd.read_excel(Path(\"X:/user/dekkerm/Data/\") / \"NDC\" / \"NDC_comparison.xlsx\", sheet_name=\"Michel\")"
   ]
  },
  {
   "cell_type": "code",
   "execution_count": 11,
   "metadata": {},
   "outputs": [],
   "source": [
    "df_g = pd.read_excel(Path(\"X:/user/dekkerm/Data/\") / \"UNFCCC_Parties_Groups_noeu.xlsx\", sheet_name = \"Country groups\")\n",
    "countries_iso = np.array(df_g[\"Country ISO Code\"])\n",
    "countries_name = np.array(df_g[\"Name\"])\n",
    "countries_iso = np.array(df_g[\"Country ISO Code\"])\n",
    "group_cvf = countries_iso[np.array(df_g[\"CVF (24/10/22)\"]) == 1]\n",
    "group_g20 = countries_iso[np.array(df_g[\"G20\"]) == 1]\n",
    "group_eu = countries_iso[np.array(df_g[\"EU\"]) == 1]\n",
    "group_g7 = countries_iso[np.array(df_g[\"G7\"]) == 1]\n",
    "group_na = countries_iso[np.array(df_g[\"Northern America\"]) == 1]\n",
    "group_um = countries_iso[np.array(df_g[\"Umbrella\"]) == 1]\n",
    "group_au = countries_iso[np.array(df_g[\"Australasia\"]) == 1]\n",
    "group_af = countries_iso[np.array(df_g[\"African Group\"]) == 1]\n",
    "group_sids = countries_iso[np.array(df_g[\"SIDS\"]) == 1]\n",
    "group_ldc = countries_iso[np.array(df_g[\"LDC\"]) == 1]\n",
    "group_eg = countries_iso[np.array(df_g[\"European Group\"]) == 1]\n",
    "group_world = np.copy(countries_iso)"
   ]
  },
  {
   "attachments": {},
   "cell_type": "markdown",
   "metadata": {},
   "source": [
    "## Preprocess"
   ]
  },
  {
   "cell_type": "code",
   "execution_count": 6,
   "metadata": {},
   "outputs": [],
   "source": [
    "ndc_deviations = []\n",
    "for c_i, c in enumerate([\"C1+C2\"]):\n",
    "    li = []\n",
    "    for a_i, approach in enumerate([\"F2\", 'F2C']):\n",
    "        li.append([float((xr_budgets_scenario.sel(Category = c, ISO=r, Time=2030)[approach] - ((xr_total.NDC_l.sel(Time=2030, ISO=r)+xr_total.NDC_h.sel(Time=2030, ISO=r))/2)) / ((xr_total.NDC_l.sel(Time=2030, ISO=r)+xr_total.NDC_h.sel(Time=2030, ISO=r))/2)) for r in xr_budgets_scenario.ISO])\n",
    "    ndc_deviations.append(li)"
   ]
  },
  {
   "cell_type": "code",
   "execution_count": 7,
   "metadata": {},
   "outputs": [],
   "source": [
    "#regs_onlyfew = np.array(['USA', 'CHN', 'TUR', 'AUS', 'IND', 'RUS', 'IDN', 'BRA', 'DEU', 'FRA', 'ESP', 'VEN', 'MEX', 'ZAF'])#np.array(xr_total.ISO.sel(ISO=all_countries_iso))[xr_total.Population.sel(Time=2020, ISO=all_countries_iso) > 5e6]\n",
    "\n",
    "regs_onlyfew = ['EU', 'ARG', 'AUS', 'BRA', 'CAN', 'CHN', 'IND', 'IDN', 'JPN', 'MEX', 'RUS', 'SAU', 'ZAF', 'KOR', 'TUR', 'GBR', 'USA', 'ARE']\n",
    "regs_onlyfew = np.array(regs_onlyfew)\n",
    "\n",
    "ndc_deviations_onlyfew = []\n",
    "for c_i, c in enumerate([\"C1+C2\"]):\n",
    "    li = []\n",
    "    for a_i, approach in enumerate([\"F2\", 'F2C']):\n",
    "        li.append([float((xr_budgets_scenario.sel(Category = c, ISO=r, Time=2030)[approach] - ((xr_total.NDC_l.sel(Time=2030, ISO=r)+xr_total.NDC_h.sel(Time=2030, ISO=r))/2)) / ((xr_total.NDC_l.sel(Time=2030, ISO=r)+xr_total.NDC_h.sel(Time=2030, ISO=r))/2)) for r in regs_onlyfew])\n",
    "    ndc_deviations_onlyfew.append(li)"
   ]
  },
  {
   "cell_type": "code",
   "execution_count": 8,
   "metadata": {},
   "outputs": [],
   "source": [
    "amount = len(regs_onlyfew)\n",
    "sources = regs_onlyfew[np.argsort(ndc_deviations_onlyfew[0])[0][:amount]]\n",
    "targets = regs_onlyfew[np.argsort(ndc_deviations_onlyfew[0])[1][:amount]]\n",
    "\n",
    "targets_numeric = []\n",
    "sources_numeric = []\n",
    "for t_i in range(amount):\n",
    "    s = sources[t_i]\n",
    "    try:\n",
    "        wh = np.where(targets == s)[0][0]\n",
    "    except:\n",
    "        wh = amount\n",
    "    sources_numeric.append(t_i)\n",
    "    targets_numeric.append(wh+amount)\n",
    "\n",
    "for t_i in range(amount):\n",
    "    t = targets[t_i]\n",
    "    try:\n",
    "        wh = np.where(sources == t)[0][0]\n",
    "    except:\n",
    "        sources_numeric.append(amount)\n",
    "        targets_numeric.append(t_i)"
   ]
  },
  {
   "attachments": {},
   "cell_type": "markdown",
   "metadata": {},
   "source": [
    "## Plot"
   ]
  },
  {
   "cell_type": "code",
   "execution_count": 20,
   "metadata": {},
   "outputs": [
    {
     "data": {
      "application/vnd.plotly.v1+json": {
       "config": {
        "plotlyServerURL": "https://plotly.com"
       },
       "data": [
        {
         "colorbar": {
          "len": 1,
          "ticktext": [
           "-100%",
           "-75",
           "-50%",
           "-25%",
           "0%",
           "+25%",
           "+50%",
           "+75%",
           "+100%"
          ],
          "tickvals": [
           -1,
           -0.75,
           -0.5,
           -0.25,
           0,
           0.25,
           0.5,
           0.75,
           1
          ],
          "title": {
           "text": "Allocation<br>compared<br>to NDC"
          },
          "x": 1
         },
         "colorscale": [
          [
           0,
           "rgb(165,0,38)"
          ],
          [
           0.1,
           "rgb(215,48,39)"
          ],
          [
           0.2,
           "rgb(244,109,67)"
          ],
          [
           0.3,
           "rgb(253,174,97)"
          ],
          [
           0.4,
           "rgb(254,224,139)"
          ],
          [
           0.5,
           "rgb(255,255,191)"
          ],
          [
           0.6,
           "rgb(217,239,139)"
          ],
          [
           0.7,
           "rgb(166,217,106)"
          ],
          [
           0.8,
           "rgb(102,189,99)"
          ],
          [
           0.9,
           "rgb(26,152,80)"
          ],
          [
           1,
           "rgb(0,104,55)"
          ]
         ],
         "geo": "geo",
         "hovertemplate": "%{text}",
         "locationmode": "ISO-3",
         "locations": [
          "AFG",
          "ALB",
          "DZA",
          "AND",
          "AGO",
          "ATG",
          "ARG",
          "ARM",
          "AUS",
          "AUT",
          "AZE",
          "BHR",
          "BGD",
          "BRB",
          "BLR",
          "BEL",
          "BLZ",
          "BEN",
          "BTN",
          "BOL",
          "BIH",
          "BWA",
          "BRA",
          "BRN",
          "BGR",
          "BFA",
          "BDI",
          "KHM",
          "CMR",
          "CAN",
          "CPV",
          "CAF",
          "TCD",
          "CHL",
          "CHN",
          "COL",
          "COM",
          "COG",
          "COK",
          "CRI",
          "CIV",
          "HRV",
          "CUB",
          "CYP",
          "CZE",
          "COD",
          "DNK",
          "DJI",
          "DMA",
          "DOM",
          "ECU",
          "EGY",
          "SLV",
          "GNQ",
          "ERI",
          "EST",
          "SWZ",
          "ETH",
          "FJI",
          "FIN",
          "FRA",
          "GAB",
          "GEO",
          "DEU",
          "GHA",
          "GRC",
          "GRD",
          "GTM",
          "GIN",
          "GNB",
          "GUY",
          "HTI",
          "VAT",
          "HND",
          "HUN",
          "ISL",
          "IND",
          "IDN",
          "IRN",
          "IRQ",
          "IRL",
          "ISR",
          "ITA",
          "JAM",
          "JPN",
          "JOR",
          "KAZ",
          "KEN",
          "KIR",
          "KWT",
          "KGZ",
          "LAO",
          "LVA",
          "LBN",
          "LSO",
          "LBR",
          "LBY",
          "LIE",
          "LTU",
          "LUX",
          "MKD",
          "MDG",
          "MWI",
          "MYS",
          "MDV",
          "MLI",
          "MLT",
          "MHL",
          "MRT",
          "MUS",
          "MEX",
          "FSM",
          "MDA",
          "MCO",
          "MNG",
          "MNE",
          "MAR",
          "MOZ",
          "MMR",
          "NAM",
          "NRU",
          "NPL",
          "NLD",
          "NZL",
          "NIC",
          "NER",
          "NGA",
          "NIU",
          "PRK",
          "NOR",
          "OMN",
          "PAK",
          "PLW",
          "PSE",
          "PAN",
          "PNG",
          "PRY",
          "PER",
          "PHL",
          "POL",
          "PRT",
          "QAT",
          "ROU",
          "RUS",
          "RWA",
          "KNA",
          "LCA",
          "VCT",
          "WSM",
          "SMR",
          "STP",
          "SAU",
          "SEN",
          "SRB",
          "SYC",
          "SLE",
          "SGP",
          "SVK",
          "SVN",
          "SLB",
          "SOM",
          "ZAF",
          "KOR",
          "SSD",
          "ESP",
          "LKA",
          "SDN",
          "SUR",
          "SWE",
          "CHE",
          "SYR",
          "TJK",
          "TZA",
          "THA",
          "BHS",
          "GMB",
          "TLS",
          "TGO",
          "TON",
          "TTO",
          "TUN",
          "TUR",
          "TKM",
          "TUV",
          "UGA",
          "UKR",
          "ARE",
          "GBR",
          "USA",
          "URY",
          "UZB",
          "VUT",
          "VEN",
          "VNM",
          "YEM",
          "ZMB",
          "ZWE",
          "CVF",
          "G20",
          "EU",
          "G7",
          "NA",
          "AU",
          "AF",
          "SIDS",
          "LDC",
          "UM",
          "EG",
          "WORLD"
         ],
         "marker": {
          "line": {
           "color": "white",
           "width": 0.3
          }
         },
         "name": "",
         "showscale": true,
         "text": [
          "AFG: 1495.19%",
          "ALB: -49.09%",
          "DZA: -57.5%",
          "AND: nan%",
          "AGO: 182.8%",
          "ATG: nan%",
          "ARG: -80.78%",
          "ARM: -67.92%",
          "AUS: -99.49%",
          "AUT: -94.08%",
          "AZE: -68.11%",
          "BHR: -100.93%",
          "BGD: 128.32%",
          "BRB: -64.47%",
          "BLR: -89.57%",
          "BEL: -94.47%",
          "BLZ: -16.44%",
          "BEN: 332.92%",
          "BTN: -59.92%",
          "BOL: -67.12%",
          "BIH: -74.23%",
          "BWA: -76.11%",
          "BRA: -55.62%",
          "BRN: -100.65%",
          "BGR: -84.86%",
          "BFA: 234.51%",
          "BDI: 7758.09%",
          "KHM: 12.97%",
          "CMR: 133.08%",
          "CAN: -98.7%",
          "CPV: 199.93%",
          "CAF: 1525.93%",
          "TCD: 352.44%",
          "CHL: -73.56%",
          "CHN: -91.14%",
          "COL: -31.32%",
          "COM: 1335.56%",
          "COG: 332.77%",
          "COK: nan%",
          "CRI: -32.75%",
          "CIV: 338.65%",
          "HRV: -83.96%",
          "CUB: -52.28%",
          "CYP: -70.98%",
          "CZE: -95.41%",
          "COD: 960.19%",
          "DNK: -93.77%",
          "DJI: 153.64%",
          "DMA: nan%",
          "DOM: -64.66%",
          "ECU: -30.54%",
          "EGY: -63.97%",
          "SLV: 32.24%",
          "GNQ: -79.21%",
          "ERI: 405.7%",
          "EST: -95.71%",
          "SWZ: -48.86%",
          "ETH: 729.91%",
          "FJI: 2.2%",
          "FIN: -96.61%",
          "FRA: -89.79%",
          "GAB: -14.11%",
          "GEO: -45.35%",
          "DEU: -94.18%",
          "GHA: 342.25%",
          "GRC: -89.61%",
          "GRD: nan%",
          "GTM: -14.04%",
          "GIN: 214.64%",
          "GNB: 224.65%",
          "GUY: -82.38%",
          "HTI: 562.64%",
          "VAT: nan%",
          "HND: 142.11%",
          "HUN: -87.2%",
          "ISL: -94.98%",
          "IND: -13.6%",
          "IDN: -55.95%",
          "IRN: -87.83%",
          "IRQ: -83.57%",
          "IRL: -100.04%",
          "ISR: -91.94%",
          "ITA: -88.69%",
          "JAM: 4.55%",
          "JPN: -94.29%",
          "JOR: -20.04%",
          "KAZ: -95.25%",
          "KEN: 241.05%",
          "KIR: nan%",
          "KWT: -100.91%",
          "KGZ: 91.47%",
          "LAO: -1.64%",
          "LVA: -89.91%",
          "LBN: -72.27%",
          "LSO: 475.54%",
          "LBR: 946.75%",
          "LBY: nan%",
          "LIE: nan%",
          "LTU: -92.29%",
          "LUX: -100.69%",
          "MKD: -47.0%",
          "MDG: 1452.06%",
          "MWI: 1951.05%",
          "MYS: -92.25%",
          "MDV: -75.22%",
          "MLI: 291.42%",
          "MLT: -78.65%",
          "MHL: nan%",
          "MRT: 77.25%",
          "MUS: -79.15%",
          "MEX: -76.38%",
          "FSM: nan%",
          "MDA: -43.0%",
          "MCO: nan%",
          "MNG: -91.13%",
          "MNE: -68.78%",
          "MAR: 10.95%",
          "MOZ: 709.97%",
          "MMR: 169.25%",
          "NAM: 2.41%",
          "NRU: nan%",
          "NPL: 300.73%",
          "NLD: -96.57%",
          "NZL: -95.67%",
          "NIC: -46.74%",
          "NER: 748.39%",
          "NGA: 265.41%",
          "NIU: nan%",
          "PRK: nan%",
          "NOR: -97.22%",
          "OMN: -98.74%",
          "PAK: 8.77%",
          "PLW: nan%",
          "PSE: 124.89%",
          "PAN: -83.57%",
          "PNG: 383.77%",
          "PRY: -70.33%",
          "PER: -39.29%",
          "PHL: 3.68%",
          "POL: -91.33%",
          "PRT: -87.17%",
          "QAT: -102.04%",
          "ROU: -79.74%",
          "RUS: -95.39%",
          "RWA: 1526.93%",
          "KNA: nan%",
          "LCA: -40.13%",
          "VCT: -51.0%",
          "WSM: 76.16%",
          "SMR: nan%",
          "STP: 243.07%",
          "SAU: -98.63%",
          "SEN: 262.19%",
          "SRB: -89.28%",
          "SYC: nan%",
          "SLE: 1124.35%",
          "SGP: -99.86%",
          "SVK: -88.62%",
          "SVN: -92.78%",
          "SLB: 1204.97%",
          "SOM: 2174.87%",
          "ZAF: -81.3%",
          "KOR: -96.73%",
          "SSD: nan%",
          "ESP: -87.74%",
          "LKA: -5.36%",
          "SDN: 104.04%",
          "SUR: -74.24%",
          "SWE: -90.15%",
          "CHE: -86.86%",
          "SYR: 95.98%",
          "TJK: 177.53%",
          "TZA: 403.96%",
          "THA: -75.28%",
          "BHS: -85.34%",
          "GMB: 493.22%",
          "TLS: -770.06%",
          "TGO: 841.56%",
          "TON: 75.17%",
          "TTO: -99.83%",
          "TUN: -50.45%",
          "TUR: -90.81%",
          "TKM: -94.81%",
          "TUV: nan%",
          "UGA: 818.68%",
          "UKR: -73.96%",
          "ARE: -100.78%",
          "GBR: -87.59%",
          "USA: -100.32%",
          "URY: -92.0%",
          "UZB: -70.38%",
          "VUT: 522.41%",
          "VEN: -84.8%",
          "VNM: -63.77%",
          "YEM: 889.42%",
          "ZMB: 225.3%",
          "ZWE: 838.36%",
          "CVF: 257.13%",
          "G20: -79.45%",
          "EU: -90.92%",
          "G7: -96.31%",
          "NA: -100.17%",
          "AU: -98.98%",
          "AF: 311.0%",
          "SIDS: 4.7%",
          "LDC: 560.33%",
          "UM: -97.91%",
          "EG: -90.65%",
          "WORLD: -34.38%"
         ],
         "type": "choropleth",
         "z": [
          14.95191743112092,
          -0.49087091521903414,
          -0.5749855431293085,
          null,
          1.8280409788035077,
          null,
          -0.8078476484349109,
          -0.6792137176367686,
          -0.9949305176034489,
          -0.9408182783855419,
          -0.6810764973885143,
          -1.0093152567409298,
          1.2831889178036486,
          -0.6447271433586491,
          -0.8957201751540202,
          -0.9446771921058572,
          -0.16441742465926132,
          3.3291780997497624,
          -0.5992061536867124,
          -0.6712261774260523,
          -0.7423379337629459,
          -0.7611144413258489,
          -0.5562412594059778,
          -1.0065250570696866,
          -0.8485775695687862,
          2.3450663808247483,
          77.58093607178706,
          0.12970818643912702,
          1.3308313392785034,
          -0.9869615804828339,
          1.999318292520811,
          15.259289932325029,
          3.524449398733653,
          -0.7356114186365984,
          -0.9114396096894137,
          -0.31316686011848177,
          13.355583953708992,
          3.327707968305253,
          null,
          -0.32752286664695396,
          3.3864653012688106,
          -0.8395680461202689,
          -0.5228426385408833,
          -0.7098416921579359,
          -0.954136349637486,
          9.601938155714409,
          -0.9376608540515291,
          1.536401194397221,
          null,
          -0.6466372437064664,
          -0.30542726522288266,
          -0.6396523039122437,
          0.32244860366915995,
          -0.7920511806774779,
          4.057014312914868,
          -0.9570972717272708,
          -0.48857433436392217,
          7.299111153080713,
          0.022028611656926586,
          -0.9660921561173608,
          -0.8978879759874817,
          -0.1410861532954331,
          -0.4535110333111464,
          -0.9417606267076476,
          3.4225000090278046,
          -0.8960557812873344,
          null,
          -0.14040167103843731,
          2.1463565127077033,
          2.24654452010361,
          -0.8237836168438171,
          5.626439445557287,
          null,
          1.4210975974440425,
          -0.8720086998891499,
          -0.9498309435503646,
          -0.1359977496133515,
          -0.5595490191416759,
          -0.8782632489361513,
          -0.8357074365134065,
          -1.0004457224816734,
          -0.9193912542579791,
          -0.8869371981952224,
          0.04549429825746028,
          -0.9429194911999599,
          -0.20040987349554978,
          -0.9524560699653805,
          2.410539845252878,
          null,
          -1.0090801125859434,
          0.9147030062985236,
          -0.01644331859692217,
          -0.899057166774947,
          -0.7226624087187843,
          4.755394250165261,
          9.467477818439852,
          null,
          null,
          -0.9229334044459945,
          -1.0069487983370227,
          -0.46996158947571104,
          14.520602532311692,
          19.510488836731568,
          -0.9224998501321517,
          -0.7521633405544987,
          2.9142063355853245,
          -0.7865100942477535,
          null,
          0.7725097137811626,
          -0.791487550461433,
          -0.7638006732447378,
          null,
          -0.42995296933930705,
          null,
          -0.9112874940531889,
          -0.6878357292345939,
          0.10950146697458656,
          7.099710056031873,
          1.6924868267076387,
          0.024106314042307394,
          null,
          3.007254437108093,
          -0.965699346190292,
          -0.9567299578768169,
          -0.46738733919072784,
          7.483936728767515,
          2.654107637749432,
          null,
          null,
          -0.9721949078799995,
          -0.9873661261212748,
          0.08765426611145459,
          null,
          1.2489151442661957,
          -0.8357441232625894,
          3.8377162785842525,
          -0.7032583565922069,
          -0.39287572061049636,
          0.03682172301237518,
          -0.9133178409187502,
          -0.8716693803537161,
          -1.0203846822993436,
          -0.7973640303177417,
          -0.9539498824426004,
          15.269339338250823,
          null,
          -0.4013107278469841,
          -0.5099980114042265,
          0.7616195749294199,
          null,
          2.430741808981264,
          -0.9863237028248176,
          2.6218671516083205,
          -0.8928488731317185,
          null,
          11.243493540753969,
          -0.9985970659340458,
          -0.8862350199598481,
          -0.9278138951120931,
          12.049660465524237,
          21.748651497950682,
          -0.8130435302185729,
          -0.9673429396591111,
          null,
          -0.8773785457375701,
          -0.05359806980376711,
          1.0403833141809424,
          -0.742430139440347,
          -0.9015459615779646,
          -0.8686051369763141,
          0.9598362962753576,
          1.7753374591535231,
          4.039583987569295,
          -0.7528155246364123,
          -0.8534104019005948,
          4.932194467725906,
          -7.700600266763881,
          8.415588920023026,
          0.7517023152796929,
          -0.9982687744382939,
          -0.5044622601192387,
          -0.9081082839368146,
          -0.948073660681646,
          null,
          8.18678889727217,
          -0.7396007214145635,
          -1.0078336130277925,
          -0.8759300770347163,
          -1.0032453806809087,
          -0.9199649213308585,
          -0.7037797326917221,
          5.224143861740708,
          -0.8479553559651803,
          -0.637686834554921,
          8.894179604690963,
          2.2529625220857583,
          8.383565228716293,
          2.571287757132814,
          -0.794474252212654,
          -0.9092141407895596,
          -0.9630684854323229,
          -1.0017219424119914,
          -0.9897686551459802,
          3.109951226294475,
          0.04700136505220565,
          5.603337822272556,
          -0.9790776720301732,
          -0.9065078646098829,
          -0.3437774626936964
         ],
         "zmax": 1,
         "zmin": -1
        },
        {
         "colorbar": {
          "len": 1,
          "ticktext": [
           "-100%",
           "-75",
           "-50%",
           "-25%",
           "0%",
           "+25%",
           "+50%",
           "+75%",
           "+100%"
          ],
          "tickvals": [
           -1,
           -0.75,
           -0.5,
           -0.25,
           0,
           0.25,
           0.5,
           0.75,
           1
          ],
          "title": {
           "text": "Allocation<br>compared<br>to NDC"
          },
          "x": 1
         },
         "colorscale": [
          [
           0,
           "rgb(165,0,38)"
          ],
          [
           0.1,
           "rgb(215,48,39)"
          ],
          [
           0.2,
           "rgb(244,109,67)"
          ],
          [
           0.3,
           "rgb(253,174,97)"
          ],
          [
           0.4,
           "rgb(254,224,139)"
          ],
          [
           0.5,
           "rgb(255,255,191)"
          ],
          [
           0.6,
           "rgb(217,239,139)"
          ],
          [
           0.7,
           "rgb(166,217,106)"
          ],
          [
           0.8,
           "rgb(102,189,99)"
          ],
          [
           0.9,
           "rgb(26,152,80)"
          ],
          [
           1,
           "rgb(0,104,55)"
          ]
         ],
         "geo": "geo",
         "hovertemplate": "%{text}",
         "locationmode": "ISO-3",
         "locations": [
          "AUT",
          "BEL",
          "BGR",
          "HRV",
          "CYP",
          "CZE",
          "DNK",
          "EST",
          "FIN",
          "FRA",
          "DEU",
          "GRC",
          "HUN",
          "IRL",
          "ITA",
          "LVA",
          "LTU",
          "LUX",
          "MLT",
          "NLD",
          "POL",
          "PRT",
          "ROU",
          "SVK",
          "SVN",
          "ESP",
          "SWE"
         ],
         "marker": {
          "line": {
           "color": "white",
           "width": 0.3
          }
         },
         "name": "",
         "showscale": true,
         "text": [
          "EU: -90.92%",
          "EU: -90.92%",
          "EU: -90.92%",
          "EU: -90.92%",
          "EU: -90.92%",
          "EU: -90.92%",
          "EU: -90.92%",
          "EU: -90.92%",
          "EU: -90.92%",
          "EU: -90.92%",
          "EU: -90.92%",
          "EU: -90.92%",
          "EU: -90.92%",
          "EU: -90.92%",
          "EU: -90.92%",
          "EU: -90.92%",
          "EU: -90.92%",
          "EU: -90.92%",
          "EU: -90.92%",
          "EU: -90.92%",
          "EU: -90.92%",
          "EU: -90.92%",
          "EU: -90.92%",
          "EU: -90.92%",
          "EU: -90.92%",
          "EU: -90.92%",
          "EU: -90.92%",
          "EU: -90.92%",
          "EU: -90.92%",
          "EU: -90.92%",
          "EU: -90.92%",
          "EU: -90.92%",
          "EU: -90.92%",
          "EU: -90.92%",
          "EU: -90.92%",
          "EU: -90.92%",
          "EU: -90.92%",
          "EU: -90.92%",
          "EU: -90.92%",
          "EU: -90.92%",
          "EU: -90.92%",
          "EU: -90.92%",
          "EU: -90.92%",
          "EU: -90.92%",
          "EU: -90.92%",
          "EU: -90.92%",
          "EU: -90.92%",
          "EU: -90.92%",
          "EU: -90.92%",
          "EU: -90.92%",
          "EU: -90.92%",
          "EU: -90.92%",
          "EU: -90.92%",
          "EU: -90.92%",
          "EU: -90.92%",
          "EU: -90.92%",
          "EU: -90.92%",
          "EU: -90.92%",
          "EU: -90.92%",
          "EU: -90.92%",
          "EU: -90.92%",
          "EU: -90.92%",
          "EU: -90.92%",
          "EU: -90.92%",
          "EU: -90.92%",
          "EU: -90.92%",
          "EU: -90.92%",
          "EU: -90.92%",
          "EU: -90.92%",
          "EU: -90.92%",
          "EU: -90.92%",
          "EU: -90.92%",
          "EU: -90.92%",
          "EU: -90.92%",
          "EU: -90.92%",
          "EU: -90.92%",
          "EU: -90.92%",
          "EU: -90.92%",
          "EU: -90.92%",
          "EU: -90.92%",
          "EU: -90.92%",
          "EU: -90.92%",
          "EU: -90.92%",
          "EU: -90.92%",
          "EU: -90.92%",
          "EU: -90.92%",
          "EU: -90.92%",
          "EU: -90.92%",
          "EU: -90.92%",
          "EU: -90.92%",
          "EU: -90.92%",
          "EU: -90.92%",
          "EU: -90.92%",
          "EU: -90.92%",
          "EU: -90.92%",
          "EU: -90.92%",
          "EU: -90.92%",
          "EU: -90.92%",
          "EU: -90.92%",
          "EU: -90.92%",
          "EU: -90.92%",
          "EU: -90.92%",
          "EU: -90.92%",
          "EU: -90.92%",
          "EU: -90.92%",
          "EU: -90.92%",
          "EU: -90.92%",
          "EU: -90.92%",
          "EU: -90.92%",
          "EU: -90.92%",
          "EU: -90.92%",
          "EU: -90.92%",
          "EU: -90.92%",
          "EU: -90.92%",
          "EU: -90.92%",
          "EU: -90.92%",
          "EU: -90.92%",
          "EU: -90.92%",
          "EU: -90.92%",
          "EU: -90.92%",
          "EU: -90.92%",
          "EU: -90.92%",
          "EU: -90.92%",
          "EU: -90.92%",
          "EU: -90.92%",
          "EU: -90.92%",
          "EU: -90.92%",
          "EU: -90.92%",
          "EU: -90.92%",
          "EU: -90.92%",
          "EU: -90.92%",
          "EU: -90.92%",
          "EU: -90.92%",
          "EU: -90.92%",
          "EU: -90.92%",
          "EU: -90.92%",
          "EU: -90.92%",
          "EU: -90.92%",
          "EU: -90.92%",
          "EU: -90.92%",
          "EU: -90.92%",
          "EU: -90.92%",
          "EU: -90.92%",
          "EU: -90.92%",
          "EU: -90.92%",
          "EU: -90.92%",
          "EU: -90.92%",
          "EU: -90.92%",
          "EU: -90.92%",
          "EU: -90.92%",
          "EU: -90.92%",
          "EU: -90.92%",
          "EU: -90.92%",
          "EU: -90.92%",
          "EU: -90.92%",
          "EU: -90.92%",
          "EU: -90.92%",
          "EU: -90.92%",
          "EU: -90.92%",
          "EU: -90.92%",
          "EU: -90.92%",
          "EU: -90.92%",
          "EU: -90.92%",
          "EU: -90.92%",
          "EU: -90.92%",
          "EU: -90.92%",
          "EU: -90.92%",
          "EU: -90.92%",
          "EU: -90.92%",
          "EU: -90.92%",
          "EU: -90.92%",
          "EU: -90.92%",
          "EU: -90.92%",
          "EU: -90.92%",
          "EU: -90.92%",
          "EU: -90.92%",
          "EU: -90.92%",
          "EU: -90.92%",
          "EU: -90.92%",
          "EU: -90.92%",
          "EU: -90.92%",
          "EU: -90.92%",
          "EU: -90.92%",
          "EU: -90.92%",
          "EU: -90.92%",
          "EU: -90.92%",
          "EU: -90.92%",
          "EU: -90.92%",
          "EU: -90.92%",
          "EU: -90.92%",
          "EU: -90.92%",
          "EU: -90.92%",
          "EU: -90.92%",
          "EU: -90.92%",
          "EU: -90.92%",
          "EU: -90.92%",
          "EU: -90.92%",
          "EU: -90.92%",
          "EU: -90.92%",
          "EU: -90.92%",
          "EU: -90.92%",
          "EU: -90.92%",
          "EU: -90.92%",
          "EU: -90.92%",
          "EU: -90.92%",
          "EU: -90.92%",
          "EU: -90.92%",
          "EU: -90.92%",
          "EU: -90.92%"
         ],
         "type": "choropleth",
         "z": [
          -0.9092141407895596,
          -0.9092141407895596,
          -0.9092141407895596,
          -0.9092141407895596,
          -0.9092141407895596,
          -0.9092141407895596,
          -0.9092141407895596,
          -0.9092141407895596,
          -0.9092141407895596,
          -0.9092141407895596,
          -0.9092141407895596,
          -0.9092141407895596,
          -0.9092141407895596,
          -0.9092141407895596,
          -0.9092141407895596,
          -0.9092141407895596,
          -0.9092141407895596,
          -0.9092141407895596,
          -0.9092141407895596,
          -0.9092141407895596,
          -0.9092141407895596,
          -0.9092141407895596,
          -0.9092141407895596,
          -0.9092141407895596,
          -0.9092141407895596,
          -0.9092141407895596,
          -0.9092141407895596
         ],
         "zmax": 1,
         "zmin": -1
        },
        {
         "colorbar": {
          "len": 1,
          "ticktext": [
           "-100%",
           "-75",
           "-50%",
           "-25%",
           "0%",
           "+25%",
           "+50%",
           "+75%",
           "+100%"
          ],
          "tickvals": [
           -1,
           -0.75,
           -0.5,
           -0.25,
           0,
           0.25,
           0.5,
           0.75,
           1
          ],
          "title": {
           "text": "Allocation<br>compared<br>to NDC"
          },
          "x": 1
         },
         "colorscale": [
          [
           0,
           "rgb(165,0,38)"
          ],
          [
           0.1,
           "rgb(215,48,39)"
          ],
          [
           0.2,
           "rgb(244,109,67)"
          ],
          [
           0.3,
           "rgb(253,174,97)"
          ],
          [
           0.4,
           "rgb(254,224,139)"
          ],
          [
           0.5,
           "rgb(255,255,191)"
          ],
          [
           0.6,
           "rgb(217,239,139)"
          ],
          [
           0.7,
           "rgb(166,217,106)"
          ],
          [
           0.8,
           "rgb(102,189,99)"
          ],
          [
           0.9,
           "rgb(26,152,80)"
          ],
          [
           1,
           "rgb(0,104,55)"
          ]
         ],
         "geo": "geo2",
         "hovertemplate": "%{text}",
         "locationmode": "ISO-3",
         "locations": [
          "AFG",
          "ALB",
          "DZA",
          "AND",
          "AGO",
          "ATG",
          "ARG",
          "ARM",
          "AUS",
          "AUT",
          "AZE",
          "BHR",
          "BGD",
          "BRB",
          "BLR",
          "BEL",
          "BLZ",
          "BEN",
          "BTN",
          "BOL",
          "BIH",
          "BWA",
          "BRA",
          "BRN",
          "BGR",
          "BFA",
          "BDI",
          "KHM",
          "CMR",
          "CAN",
          "CPV",
          "CAF",
          "TCD",
          "CHL",
          "CHN",
          "COL",
          "COM",
          "COG",
          "COK",
          "CRI",
          "CIV",
          "HRV",
          "CUB",
          "CYP",
          "CZE",
          "COD",
          "DNK",
          "DJI",
          "DMA",
          "DOM",
          "ECU",
          "EGY",
          "SLV",
          "GNQ",
          "ERI",
          "EST",
          "SWZ",
          "ETH",
          "FJI",
          "FIN",
          "FRA",
          "GAB",
          "GEO",
          "DEU",
          "GHA",
          "GRC",
          "GRD",
          "GTM",
          "GIN",
          "GNB",
          "GUY",
          "HTI",
          "VAT",
          "HND",
          "HUN",
          "ISL",
          "IND",
          "IDN",
          "IRN",
          "IRQ",
          "IRL",
          "ISR",
          "ITA",
          "JAM",
          "JPN",
          "JOR",
          "KAZ",
          "KEN",
          "KIR",
          "KWT",
          "KGZ",
          "LAO",
          "LVA",
          "LBN",
          "LSO",
          "LBR",
          "LBY",
          "LIE",
          "LTU",
          "LUX",
          "MKD",
          "MDG",
          "MWI",
          "MYS",
          "MDV",
          "MLI",
          "MLT",
          "MHL",
          "MRT",
          "MUS",
          "MEX",
          "FSM",
          "MDA",
          "MCO",
          "MNG",
          "MNE",
          "MAR",
          "MOZ",
          "MMR",
          "NAM",
          "NRU",
          "NPL",
          "NLD",
          "NZL",
          "NIC",
          "NER",
          "NGA",
          "NIU",
          "PRK",
          "NOR",
          "OMN",
          "PAK",
          "PLW",
          "PSE",
          "PAN",
          "PNG",
          "PRY",
          "PER",
          "PHL",
          "POL",
          "PRT",
          "QAT",
          "ROU",
          "RUS",
          "RWA",
          "KNA",
          "LCA",
          "VCT",
          "WSM",
          "SMR",
          "STP",
          "SAU",
          "SEN",
          "SRB",
          "SYC",
          "SLE",
          "SGP",
          "SVK",
          "SVN",
          "SLB",
          "SOM",
          "ZAF",
          "KOR",
          "SSD",
          "ESP",
          "LKA",
          "SDN",
          "SUR",
          "SWE",
          "CHE",
          "SYR",
          "TJK",
          "TZA",
          "THA",
          "BHS",
          "GMB",
          "TLS",
          "TGO",
          "TON",
          "TTO",
          "TUN",
          "TUR",
          "TKM",
          "TUV",
          "UGA",
          "UKR",
          "ARE",
          "GBR",
          "USA",
          "URY",
          "UZB",
          "VUT",
          "VEN",
          "VNM",
          "YEM",
          "ZMB",
          "ZWE",
          "CVF",
          "G20",
          "EU",
          "G7",
          "NA",
          "AU",
          "AF",
          "SIDS",
          "LDC",
          "UM",
          "EG",
          "WORLD"
         ],
         "marker": {
          "line": {
           "color": "white",
           "width": 0.3
          }
         },
         "name": "",
         "showscale": false,
         "text": [
          "AFG: 717.75%",
          "ALB: -46.51%",
          "DZA: -41.16%",
          "AND: nan%",
          "AGO: 74.96%",
          "ATG: nan%",
          "ARG: -53.24%",
          "ARM: -62.81%",
          "AUS: -44.49%",
          "AUT: -32.54%",
          "AZE: -50.83%",
          "BHR: -59.44%",
          "BGD: 34.48%",
          "BRB: -40.88%",
          "BLR: -56.48%",
          "BEL: -38.16%",
          "BLZ: -35.01%",
          "BEN: 135.39%",
          "BTN: -51.66%",
          "BOL: -57.13%",
          "BIH: -41.36%",
          "BWA: -67.53%",
          "BRA: -30.13%",
          "BRN: -77.1%",
          "BGR: -35.46%",
          "BFA: 79.43%",
          "BDI: 3857.45%",
          "KHM: -24.99%",
          "CMR: 29.02%",
          "CAN: -37.0%",
          "CPV: 89.38%",
          "CAF: 753.51%",
          "TCD: 159.71%",
          "CHL: -43.03%",
          "CHN: -65.91%",
          "COL: -17.1%",
          "COM: 662.71%",
          "COG: 200.45%",
          "COK: nan%",
          "CRI: -21.13%",
          "CIV: 143.66%",
          "HRV: -55.41%",
          "CUB: -49.81%",
          "CYP: -23.13%",
          "CZE: -47.64%",
          "COD: 437.05%",
          "DNK: -51.88%",
          "DJI: 46.17%",
          "DMA: nan%",
          "DOM: -52.86%",
          "ECU: -33.64%",
          "EGY: -64.78%",
          "SLV: -7.92%",
          "GNQ: -65.37%",
          "ERI: 173.32%",
          "EST: -26.5%",
          "SWZ: -63.8%",
          "ETH: 339.06%",
          "FJI: -9.11%",
          "FIN: -50.08%",
          "FRA: -46.58%",
          "GAB: 72.09%",
          "GEO: -31.61%",
          "DEU: -39.73%",
          "GHA: 142.13%",
          "GRC: -46.25%",
          "GRD: nan%",
          "GTM: -39.28%",
          "GIN: 76.91%",
          "GNB: 71.47%",
          "GUY: -67.4%",
          "HTI: 258.06%",
          "VAT: nan%",
          "HND: 48.27%",
          "HUN: -50.29%",
          "ISL: -13.95%",
          "IND: -31.91%",
          "IDN: -45.12%",
          "IRN: -65.57%",
          "IRQ: -70.16%",
          "IRL: -51.49%",
          "ISR: -49.38%",
          "ITA: -49.92%",
          "JAM: -7.0%",
          "JPN: -37.02%",
          "JOR: -38.23%",
          "KAZ: -58.74%",
          "KEN: 91.24%",
          "KIR: nan%",
          "KWT: -65.28%",
          "KGZ: 23.1%",
          "LAO: -12.02%",
          "LVA: -56.98%",
          "LBN: -59.2%",
          "LSO: 216.12%",
          "LBR: 435.9%",
          "LBY: nan%",
          "LIE: nan%",
          "LTU: -45.73%",
          "LUX: -53.08%",
          "MKD: -16.76%",
          "MDG: 710.61%",
          "MWI: 945.84%",
          "MYS: -60.53%",
          "MDV: -65.3%",
          "MLI: 110.6%",
          "MLT: -26.89%",
          "MHL: nan%",
          "MRT: 18.37%",
          "MUS: -63.28%",
          "MEX: -57.5%",
          "FSM: nan%",
          "MDA: -46.94%",
          "MCO: nan%",
          "MNG: -46.33%",
          "MNE: -41.72%",
          "MAR: -10.78%",
          "MOZ: 322.99%",
          "MMR: 68.7%",
          "NAM: -6.93%",
          "NRU: nan%",
          "NPL: 126.96%",
          "NLD: -40.41%",
          "NZL: -44.07%",
          "NIC: -64.66%",
          "NER: 342.2%",
          "NGA: 121.69%",
          "NIU: nan%",
          "PRK: nan%",
          "NOR: 3.51%",
          "OMN: -71.47%",
          "PAK: -31.9%",
          "PLW: nan%",
          "PSE: nan%",
          "PAN: -72.73%",
          "PNG: 164.1%",
          "PRY: -53.99%",
          "PER: -39.07%",
          "PHL: -25.16%",
          "POL: -41.42%",
          "PRT: -39.38%",
          "QAT: -44.74%",
          "ROU: -52.48%",
          "RUS: -63.1%",
          "RWA: 737.32%",
          "KNA: nan%",
          "LCA: -39.59%",
          "VCT: -48.88%",
          "WSM: 9.48%",
          "SMR: nan%",
          "STP: 88.39%",
          "SAU: -51.71%",
          "SEN: 104.2%",
          "SRB: -54.2%",
          "SYC: nan%",
          "SLE: 529.02%",
          "SGP: -66.62%",
          "SVK: -43.68%",
          "SVN: -54.83%",
          "SLB: 581.83%",
          "SOM: 1047.13%",
          "ZAF: -61.05%",
          "KOR: -42.04%",
          "SSD: nan%",
          "ESP: -49.83%",
          "LKA: -26.05%",
          "SDN: 26.02%",
          "SUR: -66.65%",
          "SWE: -49.9%",
          "CHE: -36.62%",
          "SYR: 19.25%",
          "TJK: 61.09%",
          "TZA: 173.58%",
          "THA: -50.08%",
          "BHS: -57.76%",
          "GMB: 212.61%",
          "TLS: -476.53%",
          "TGO: 391.97%",
          "TON: 25.33%",
          "TTO: -78.51%",
          "TUN: -53.6%",
          "TUR: -76.12%",
          "TKM: -62.4%",
          "TUV: nan%",
          "UGA: 378.64%",
          "UKR: -53.74%",
          "ARE: -62.36%",
          "GBR: -33.84%",
          "USA: -47.64%",
          "URY: -62.08%",
          "UZB: -65.37%",
          "VUT: 244.75%",
          "VEN: -78.9%",
          "VNM: -64.67%",
          "YEM: 420.8%",
          "ZMB: 83.16%",
          "ZWE: 391.49%",
          "CVF: 100.26%",
          "G20: -54.09%",
          "EU: -45.01%",
          "G7: -44.84%",
          "NA: -46.65%",
          "AU: -44.43%",
          "AF: 129.89%",
          "SIDS: -21.17%",
          "LDC: 251.07%",
          "UM: -46.08%",
          "EG: -43.49%",
          "WORLD: -34.38%"
         ],
         "type": "choropleth",
         "z": [
          7.177529423328929,
          -0.46510399022154464,
          -0.4115551343919799,
          null,
          0.7496324926036071,
          null,
          -0.5324316460004449,
          -0.6281342111828104,
          -0.44490788049021035,
          -0.3254183724891141,
          -0.5082691182741684,
          -0.5944317302452679,
          0.3448060821434465,
          -0.40877092628932465,
          -0.5647890282269408,
          -0.38164976618322094,
          -0.3501023968069345,
          1.3538809665098064,
          -0.516600444913613,
          -0.5713087224415359,
          -0.4136190558791912,
          -0.6752552914852432,
          -0.3012789295609459,
          -0.7710430495478453,
          -0.35456837976278466,
          0.7943052354498042,
          38.57450220945549,
          -0.24994853258214114,
          0.2902050539949819,
          -0.36999562357441174,
          0.893792561265988,
          7.53508576520083,
          1.5970734196426721,
          -0.4303453891121606,
          -0.6591403919644393,
          -0.17100656085227506,
          6.627139159941049,
          2.004517592229616,
          null,
          -0.2112652818956177,
          1.436578682212801,
          -0.554079842060373,
          -0.49810520508884776,
          -0.23130069729735078,
          -0.47644432088031285,
          4.370467182391943,
          -0.5187920048529878,
          0.46169792488698835,
          null,
          -0.5286079119576793,
          -0.3363879460890075,
          -0.6478391721335798,
          -0.07919578943993988,
          -0.6536549366151218,
          1.7332332271991564,
          -0.26504198175266863,
          -0.6379886456111801,
          3.3905693198604396,
          -0.09110204213175396,
          -0.5008423641002651,
          -0.46578808398080035,
          0.7209438219991595,
          -0.31608751117618994,
          -0.39728916117798974,
          1.4212748694084962,
          -0.46252400146338996,
          null,
          -0.3928412660913681,
          0.7690718327387855,
          0.7146594607971318,
          -0.6740000249063324,
          2.5806008944983234,
          null,
          0.48266649295165404,
          -0.5029162016625178,
          -0.13951899340507007,
          -0.3191144481963512,
          -0.45122430850821693,
          -0.6557113257221727,
          -0.7016058901975167,
          -0.5149211174010877,
          -0.4938436857059725,
          -0.4991557290761941,
          -0.07000880826285633,
          -0.3701843861604762,
          -0.38231798353577595,
          -0.5874027953803168,
          0.9123532058284939,
          null,
          -0.6527828177512695,
          0.2309977395568261,
          -0.12019575250700326,
          -0.5698182664051685,
          -0.5920417574444159,
          2.16118988148823,
          4.358977177415044,
          null,
          null,
          -0.45729071264300847,
          -0.5308280275079631,
          -0.16761041693466217,
          7.106138490187876,
          9.458433535240346,
          -0.6053328989697147,
          -0.6529601820612964,
          1.1060329021277655,
          -0.26888239853162305,
          null,
          0.18374562082432092,
          -0.6327607014750661,
          -0.5750374563930275,
          null,
          -0.46941908973825025,
          null,
          -0.46334132370254655,
          -0.41722513267337397,
          -0.10782265525922217,
          3.229907560944873,
          0.6870396023544096,
          -0.06928421265202328,
          null,
          1.2695583615766077,
          -0.4040923035491435,
          -0.4407335195390898,
          -0.6465766896431518,
          3.4220304828281773,
          1.2169238746994366,
          null,
          null,
          0.03512714372582868,
          -0.7147016141549845,
          -0.31904673680147055,
          null,
          null,
          -0.7272739205684554,
          1.641035965407623,
          -0.5398539030949772,
          -0.3906590413060161,
          -0.25161125767228915,
          -0.4142297518839203,
          -0.3937719829273626,
          -0.4474483103561756,
          -0.5247823303577064,
          -0.631044496883961,
          7.373169504955852,
          null,
          -0.3959410363526511,
          -0.4888058344288469,
          0.09477560992360211,
          null,
          0.8838578307300391,
          -0.517060260084732,
          1.041990500511032,
          -0.5419874939174201,
          null,
          5.290223755370666,
          -0.6661515875018967,
          -0.4367671692963867,
          -0.5483349939091477,
          5.8183305716463005,
          10.471301495600137,
          -0.6105057925169171,
          -0.4203710201993799,
          null,
          -0.49832951263017217,
          -0.2605434423770478,
          0.26019259420970403,
          -0.6665045160360362,
          -0.4989520366313392,
          -0.3661948776459844,
          0.19250117197862573,
          0.6108710449141277,
          1.73583885649402,
          -0.5008271705753041,
          -0.5776209119120317,
          2.126074141195426,
          -4.7652931759355095,
          3.919659656784743,
          0.2533468002908342,
          -0.7850906561746815,
          -0.5360205798044053,
          -0.7611907674864351,
          -0.6239580831897659,
          null,
          3.786442926109797,
          -0.5374413454170562,
          -0.6236498675187614,
          -0.33841021745812827,
          -0.47643080416733047,
          -0.6207865758854652,
          -0.6536877158713168,
          2.447472554660474,
          -0.7889959037834585,
          -0.6467309673885187,
          4.208036043472089,
          0.8315888711691478,
          3.9149154087198768,
          1.002581028502075,
          -0.540905483087403,
          -0.4501391620370444,
          -0.4484166351523975,
          -0.4664732128617366,
          -0.4443438186745798,
          1.29889891565011,
          -0.2117013510221344,
          2.5107249315705014,
          -0.46077034064688516,
          -0.43494096262812354,
          -0.3437774626936965
         ],
         "zmax": 1,
         "zmin": -1
        },
        {
         "colorbar": {
          "len": 1,
          "ticktext": [
           "-100%",
           "-75",
           "-50%",
           "-25%",
           "0%",
           "+25%",
           "+50%",
           "+75%",
           "+100%"
          ],
          "tickvals": [
           -1,
           -0.75,
           -0.5,
           -0.25,
           0,
           0.25,
           0.5,
           0.75,
           1
          ],
          "title": {
           "text": "Allocation<br>compared<br>to NDC"
          },
          "x": 1
         },
         "colorscale": [
          [
           0,
           "rgb(165,0,38)"
          ],
          [
           0.1,
           "rgb(215,48,39)"
          ],
          [
           0.2,
           "rgb(244,109,67)"
          ],
          [
           0.3,
           "rgb(253,174,97)"
          ],
          [
           0.4,
           "rgb(254,224,139)"
          ],
          [
           0.5,
           "rgb(255,255,191)"
          ],
          [
           0.6,
           "rgb(217,239,139)"
          ],
          [
           0.7,
           "rgb(166,217,106)"
          ],
          [
           0.8,
           "rgb(102,189,99)"
          ],
          [
           0.9,
           "rgb(26,152,80)"
          ],
          [
           1,
           "rgb(0,104,55)"
          ]
         ],
         "geo": "geo2",
         "hovertemplate": "%{text}",
         "locationmode": "ISO-3",
         "locations": [
          "AUT",
          "BEL",
          "BGR",
          "HRV",
          "CYP",
          "CZE",
          "DNK",
          "EST",
          "FIN",
          "FRA",
          "DEU",
          "GRC",
          "HUN",
          "IRL",
          "ITA",
          "LVA",
          "LTU",
          "LUX",
          "MLT",
          "NLD",
          "POL",
          "PRT",
          "ROU",
          "SVK",
          "SVN",
          "ESP",
          "SWE"
         ],
         "marker": {
          "line": {
           "color": "white",
           "width": 0.3
          }
         },
         "name": "",
         "showscale": false,
         "text": [
          "EU: -45.01%",
          "EU: -45.01%",
          "EU: -45.01%",
          "EU: -45.01%",
          "EU: -45.01%",
          "EU: -45.01%",
          "EU: -45.01%",
          "EU: -45.01%",
          "EU: -45.01%",
          "EU: -45.01%",
          "EU: -45.01%",
          "EU: -45.01%",
          "EU: -45.01%",
          "EU: -45.01%",
          "EU: -45.01%",
          "EU: -45.01%",
          "EU: -45.01%",
          "EU: -45.01%",
          "EU: -45.01%",
          "EU: -45.01%",
          "EU: -45.01%",
          "EU: -45.01%",
          "EU: -45.01%",
          "EU: -45.01%",
          "EU: -45.01%",
          "EU: -45.01%",
          "EU: -45.01%",
          "EU: -45.01%",
          "EU: -45.01%",
          "EU: -45.01%",
          "EU: -45.01%",
          "EU: -45.01%",
          "EU: -45.01%",
          "EU: -45.01%",
          "EU: -45.01%",
          "EU: -45.01%",
          "EU: -45.01%",
          "EU: -45.01%",
          "EU: -45.01%",
          "EU: -45.01%",
          "EU: -45.01%",
          "EU: -45.01%",
          "EU: -45.01%",
          "EU: -45.01%",
          "EU: -45.01%",
          "EU: -45.01%",
          "EU: -45.01%",
          "EU: -45.01%",
          "EU: -45.01%",
          "EU: -45.01%",
          "EU: -45.01%",
          "EU: -45.01%",
          "EU: -45.01%",
          "EU: -45.01%",
          "EU: -45.01%",
          "EU: -45.01%",
          "EU: -45.01%",
          "EU: -45.01%",
          "EU: -45.01%",
          "EU: -45.01%",
          "EU: -45.01%",
          "EU: -45.01%",
          "EU: -45.01%",
          "EU: -45.01%",
          "EU: -45.01%",
          "EU: -45.01%",
          "EU: -45.01%",
          "EU: -45.01%",
          "EU: -45.01%",
          "EU: -45.01%",
          "EU: -45.01%",
          "EU: -45.01%",
          "EU: -45.01%",
          "EU: -45.01%",
          "EU: -45.01%",
          "EU: -45.01%",
          "EU: -45.01%",
          "EU: -45.01%",
          "EU: -45.01%",
          "EU: -45.01%",
          "EU: -45.01%",
          "EU: -45.01%",
          "EU: -45.01%",
          "EU: -45.01%",
          "EU: -45.01%",
          "EU: -45.01%",
          "EU: -45.01%",
          "EU: -45.01%",
          "EU: -45.01%",
          "EU: -45.01%",
          "EU: -45.01%",
          "EU: -45.01%",
          "EU: -45.01%",
          "EU: -45.01%",
          "EU: -45.01%",
          "EU: -45.01%",
          "EU: -45.01%",
          "EU: -45.01%",
          "EU: -45.01%",
          "EU: -45.01%",
          "EU: -45.01%",
          "EU: -45.01%",
          "EU: -45.01%",
          "EU: -45.01%",
          "EU: -45.01%",
          "EU: -45.01%",
          "EU: -45.01%",
          "EU: -45.01%",
          "EU: -45.01%",
          "EU: -45.01%",
          "EU: -45.01%",
          "EU: -45.01%",
          "EU: -45.01%",
          "EU: -45.01%",
          "EU: -45.01%",
          "EU: -45.01%",
          "EU: -45.01%",
          "EU: -45.01%",
          "EU: -45.01%",
          "EU: -45.01%",
          "EU: -45.01%",
          "EU: -45.01%",
          "EU: -45.01%",
          "EU: -45.01%",
          "EU: -45.01%",
          "EU: -45.01%",
          "EU: -45.01%",
          "EU: -45.01%",
          "EU: -45.01%",
          "EU: -45.01%",
          "EU: -45.01%",
          "EU: -45.01%",
          "EU: -45.01%",
          "EU: -45.01%",
          "EU: -45.01%",
          "EU: -45.01%",
          "EU: -45.01%",
          "EU: -45.01%",
          "EU: -45.01%",
          "EU: -45.01%",
          "EU: -45.01%",
          "EU: -45.01%",
          "EU: -45.01%",
          "EU: -45.01%",
          "EU: -45.01%",
          "EU: -45.01%",
          "EU: -45.01%",
          "EU: -45.01%",
          "EU: -45.01%",
          "EU: -45.01%",
          "EU: -45.01%",
          "EU: -45.01%",
          "EU: -45.01%",
          "EU: -45.01%",
          "EU: -45.01%",
          "EU: -45.01%",
          "EU: -45.01%",
          "EU: -45.01%",
          "EU: -45.01%",
          "EU: -45.01%",
          "EU: -45.01%",
          "EU: -45.01%",
          "EU: -45.01%",
          "EU: -45.01%",
          "EU: -45.01%",
          "EU: -45.01%",
          "EU: -45.01%",
          "EU: -45.01%",
          "EU: -45.01%",
          "EU: -45.01%",
          "EU: -45.01%",
          "EU: -45.01%",
          "EU: -45.01%",
          "EU: -45.01%",
          "EU: -45.01%",
          "EU: -45.01%",
          "EU: -45.01%",
          "EU: -45.01%",
          "EU: -45.01%",
          "EU: -45.01%",
          "EU: -45.01%",
          "EU: -45.01%",
          "EU: -45.01%",
          "EU: -45.01%",
          "EU: -45.01%",
          "EU: -45.01%",
          "EU: -45.01%",
          "EU: -45.01%",
          "EU: -45.01%",
          "EU: -45.01%",
          "EU: -45.01%",
          "EU: -45.01%",
          "EU: -45.01%",
          "EU: -45.01%",
          "EU: -45.01%",
          "EU: -45.01%",
          "EU: -45.01%",
          "EU: -45.01%",
          "EU: -45.01%",
          "EU: -45.01%",
          "EU: -45.01%",
          "EU: -45.01%",
          "EU: -45.01%",
          "EU: -45.01%",
          "EU: -45.01%",
          "EU: -45.01%",
          "EU: -45.01%",
          "EU: -45.01%",
          "EU: -45.01%"
         ],
         "type": "choropleth",
         "z": [
          -0.4501391620370444,
          -0.4501391620370444,
          -0.4501391620370444,
          -0.4501391620370444,
          -0.4501391620370444,
          -0.4501391620370444,
          -0.4501391620370444,
          -0.4501391620370444,
          -0.4501391620370444,
          -0.4501391620370444,
          -0.4501391620370444,
          -0.4501391620370444,
          -0.4501391620370444,
          -0.4501391620370444,
          -0.4501391620370444,
          -0.4501391620370444,
          -0.4501391620370444,
          -0.4501391620370444,
          -0.4501391620370444,
          -0.4501391620370444,
          -0.4501391620370444,
          -0.4501391620370444,
          -0.4501391620370444,
          -0.4501391620370444,
          -0.4501391620370444,
          -0.4501391620370444,
          -0.4501391620370444
         ],
         "zmax": 1,
         "zmin": -1
        },
        {
         "arrangement": "snap",
         "domain": {
          "x": [
           0,
           1
          ],
          "y": [
           0,
           0.49
          ]
         },
         "link": {
          "color": [
           "rgba(180,0.0,0, 0.3)",
           "rgba(180,10.0,0, 0.3)",
           "rgba(180,20.0,0, 0.3)",
           "rgba(180,30.0,0, 0.3)",
           "rgba(180,40.0,0, 0.3)",
           "rgba(180,50.0,0, 0.3)",
           "rgba(180,60.0,0, 0.3)",
           "rgba(180,70.0,0, 0.3)",
           "rgba(180,80.0,0, 0.3)",
           "rgba(180,90.0,0, 0.3)",
           "rgba(180,100.0,0, 0.3)",
           "rgba(180,110.0,0, 0.3)",
           "rgba(180,120.0,0, 0.3)",
           "rgba(180,130.0,0, 0.3)",
           "rgba(180,140.0,0, 0.3)",
           "rgba(180,150.0,0, 0.3)",
           "rgba(180,160.0,0, 0.3)",
           "rgba(180,170.0,0, 0.3)"
          ],
          "source": [
           0,
           1,
           2,
           3,
           4,
           5,
           6,
           7,
           8,
           9,
           10,
           11,
           12,
           13,
           14,
           15,
           16,
           17
          ],
          "target": [
           21,
           26,
           29,
           32,
           25,
           30,
           20,
           31,
           19,
           28,
           18,
           33,
           22,
           24,
           23,
           27,
           35,
           34
          ],
          "value": [
           1,
           1,
           1,
           1,
           1,
           1,
           1,
           1,
           1,
           1,
           1,
           1,
           1,
           1,
           1,
           1,
           1,
           1
          ]
         },
         "node": {
          "color": "black",
          "label": [
           "United Arab Emirates: -100.8%",
           "United States of America: -100.3%",
           "Australia: -99.5%",
           "Canada: -98.7%",
           "Saudi Arabia: -98.6%",
           "South Korea: -96.7%",
           "Russian Federation: -95.4%",
           "Japan: -94.3%",
           "China: -91.1%",
           "European Union: -90.9%",
           "Turkiye: -90.8%",
           "United Kingdom: -87.6%",
           "South Africa: -81.3%",
           "Argentina: -80.8%",
           "Mexico: -76.4%",
           "Indonesia: -56.0%",
           "Brazil: -55.6%",
           "India: -13.6%",
           "Turkiye: -76.1%",
           "China: -65.9%",
           "Russian Federation: -63.1%",
           "United Arab Emirates: -62.4%",
           "South Africa: -61.1%",
           "Mexico: -57.5%",
           "Argentina: -53.2%",
           "Saudi Arabia: -51.7%",
           "United States of America: -47.6%",
           "Indonesia: -45.1%",
           "European Union: -45.0%",
           "Australia: -44.5%",
           "South Korea: -42.0%",
           "Japan: -37.0%",
           "Canada: -37.0%",
           "United Kingdom: -33.8%",
           "India: -31.9%",
           "Brazil: -30.1%"
          ],
          "line": {
           "color": "black",
           "width": 0.5
          },
          "pad": 10,
          "thickness": 5,
          "x": [
           0.05,
           0.05,
           0.05,
           0.05,
           0.05,
           0.05,
           0.05,
           0.05,
           0.05,
           0.05,
           0.05,
           0.05,
           0.05,
           0.05,
           0.05,
           0.05,
           0.05,
           0.05,
           0.95,
           0.95,
           0.95,
           0.95,
           0.95,
           0.95,
           0.95,
           0.95,
           0.95,
           0.95,
           0.95,
           0.95,
           0.95,
           0.95,
           0.95,
           0.95,
           0.95,
           0.95
          ],
          "y": [
           0.001,
           0.05970588235294118,
           0.11841176470588236,
           0.17711764705882355,
           0.2358235294117647,
           0.2945294117647059,
           0.3532352941176471,
           0.41194117647058826,
           0.4706470588235294,
           0.5293529411764706,
           0.5880588235294117,
           0.6467647058823529,
           0.7054705882352942,
           0.7641764705882353,
           0.8228823529411765,
           0.8815882352941177,
           0.9402941176470588,
           0.999,
           0.001,
           0.05970588235294118,
           0.11841176470588236,
           0.17711764705882355,
           0.2358235294117647,
           0.2945294117647059,
           0.3532352941176471,
           0.41194117647058826,
           0.4706470588235294,
           0.5293529411764706,
           0.5880588235294117,
           0.6467647058823529,
           0.7054705882352942,
           0.7641764705882353,
           0.8228823529411765,
           0.8815882352941177,
           0.9402941176470588,
           0.999
          ]
         },
         "type": "sankey"
        }
       ],
       "layout": {
        "annotations": [
         {
          "align": "center",
          "ax": 0,
          "ay": 0,
          "font": {
           "color": "black",
           "size": 16
          },
          "showarrow": false,
          "text": "NDC ambitious enough <<<",
          "textangle": 90,
          "x": 1.025,
          "xref": "paper",
          "y": 0.7,
          "yref": "paper"
         },
         {
          "align": "center",
          "ax": 0,
          "ay": 0,
          "font": {
           "color": "black",
           "size": 16
          },
          "showarrow": false,
          "text": ">>> NDC not ambitious enough",
          "textangle": 90,
          "x": 1.025,
          "xref": "paper",
          "y": 0.2,
          "yref": "paper"
         },
         {
          "align": "left",
          "ax": 0,
          "ay": 0,
          "font": {
           "color": "black",
           "size": 16
          },
          "showarrow": false,
          "text": "<b>(a) Allocation-NDC comparison for approach 2</b>",
          "x": 0.07,
          "xref": "paper",
          "y": 1,
          "yref": "paper"
         },
         {
          "align": "left",
          "ax": 0,
          "ay": 0,
          "font": {
           "color": "black",
           "size": 16
          },
          "showarrow": false,
          "text": "<b>(b) Allocation-NDC comparison for approach 2<br>(transitioning from current emissions in 20 years)</b>",
          "x": 0.86,
          "xref": "paper",
          "y": 1,
          "yref": "paper"
         },
         {
          "align": "left",
          "ax": 0,
          "ay": 0,
          "font": {
           "color": "black",
           "size": 16
          },
          "showarrow": false,
          "text": "<b>(c) Ordering of G20 and United Arab Emirates</b>",
          "x": 0.04,
          "xref": "paper",
          "y": 0.52,
          "yref": "paper"
         }
        ],
        "font": {
         "size": 15
        },
        "geo": {
         "domain": {
          "x": [
           0,
           0.5
          ],
          "y": [
           0.51,
           1
          ]
         },
         "lakecolor": "rgb(255, 255, 255)",
         "oceancolor": "aliceblue",
         "projection": {
          "type": "natural earth"
         },
         "showcoastlines": false,
         "showlakes": true,
         "showocean": true,
         "visible": false
        },
        "geo2": {
         "domain": {
          "x": [
           0.5,
           1
          ],
          "y": [
           0.51,
           1
          ]
         },
         "lakecolor": "rgb(255, 255, 255)",
         "oceancolor": "aliceblue",
         "projection": {
          "type": "natural earth"
         },
         "showcoastlines": false,
         "showlakes": true,
         "showocean": true,
         "visible": false
        },
        "height": 1200,
        "template": {
         "data": {
          "bar": [
           {
            "error_x": {
             "color": "#2a3f5f"
            },
            "error_y": {
             "color": "#2a3f5f"
            },
            "marker": {
             "line": {
              "color": "#E5ECF6",
              "width": 0.5
             },
             "pattern": {
              "fillmode": "overlay",
              "size": 10,
              "solidity": 0.2
             }
            },
            "type": "bar"
           }
          ],
          "barpolar": [
           {
            "marker": {
             "line": {
              "color": "#E5ECF6",
              "width": 0.5
             },
             "pattern": {
              "fillmode": "overlay",
              "size": 10,
              "solidity": 0.2
             }
            },
            "type": "barpolar"
           }
          ],
          "carpet": [
           {
            "aaxis": {
             "endlinecolor": "#2a3f5f",
             "gridcolor": "white",
             "linecolor": "white",
             "minorgridcolor": "white",
             "startlinecolor": "#2a3f5f"
            },
            "baxis": {
             "endlinecolor": "#2a3f5f",
             "gridcolor": "white",
             "linecolor": "white",
             "minorgridcolor": "white",
             "startlinecolor": "#2a3f5f"
            },
            "type": "carpet"
           }
          ],
          "choropleth": [
           {
            "colorbar": {
             "outlinewidth": 0,
             "ticks": ""
            },
            "type": "choropleth"
           }
          ],
          "contour": [
           {
            "colorbar": {
             "outlinewidth": 0,
             "ticks": ""
            },
            "colorscale": [
             [
              0,
              "#0d0887"
             ],
             [
              0.1111111111111111,
              "#46039f"
             ],
             [
              0.2222222222222222,
              "#7201a8"
             ],
             [
              0.3333333333333333,
              "#9c179e"
             ],
             [
              0.4444444444444444,
              "#bd3786"
             ],
             [
              0.5555555555555556,
              "#d8576b"
             ],
             [
              0.6666666666666666,
              "#ed7953"
             ],
             [
              0.7777777777777778,
              "#fb9f3a"
             ],
             [
              0.8888888888888888,
              "#fdca26"
             ],
             [
              1,
              "#f0f921"
             ]
            ],
            "type": "contour"
           }
          ],
          "contourcarpet": [
           {
            "colorbar": {
             "outlinewidth": 0,
             "ticks": ""
            },
            "type": "contourcarpet"
           }
          ],
          "heatmap": [
           {
            "colorbar": {
             "outlinewidth": 0,
             "ticks": ""
            },
            "colorscale": [
             [
              0,
              "#0d0887"
             ],
             [
              0.1111111111111111,
              "#46039f"
             ],
             [
              0.2222222222222222,
              "#7201a8"
             ],
             [
              0.3333333333333333,
              "#9c179e"
             ],
             [
              0.4444444444444444,
              "#bd3786"
             ],
             [
              0.5555555555555556,
              "#d8576b"
             ],
             [
              0.6666666666666666,
              "#ed7953"
             ],
             [
              0.7777777777777778,
              "#fb9f3a"
             ],
             [
              0.8888888888888888,
              "#fdca26"
             ],
             [
              1,
              "#f0f921"
             ]
            ],
            "type": "heatmap"
           }
          ],
          "heatmapgl": [
           {
            "colorbar": {
             "outlinewidth": 0,
             "ticks": ""
            },
            "colorscale": [
             [
              0,
              "#0d0887"
             ],
             [
              0.1111111111111111,
              "#46039f"
             ],
             [
              0.2222222222222222,
              "#7201a8"
             ],
             [
              0.3333333333333333,
              "#9c179e"
             ],
             [
              0.4444444444444444,
              "#bd3786"
             ],
             [
              0.5555555555555556,
              "#d8576b"
             ],
             [
              0.6666666666666666,
              "#ed7953"
             ],
             [
              0.7777777777777778,
              "#fb9f3a"
             ],
             [
              0.8888888888888888,
              "#fdca26"
             ],
             [
              1,
              "#f0f921"
             ]
            ],
            "type": "heatmapgl"
           }
          ],
          "histogram": [
           {
            "marker": {
             "pattern": {
              "fillmode": "overlay",
              "size": 10,
              "solidity": 0.2
             }
            },
            "type": "histogram"
           }
          ],
          "histogram2d": [
           {
            "colorbar": {
             "outlinewidth": 0,
             "ticks": ""
            },
            "colorscale": [
             [
              0,
              "#0d0887"
             ],
             [
              0.1111111111111111,
              "#46039f"
             ],
             [
              0.2222222222222222,
              "#7201a8"
             ],
             [
              0.3333333333333333,
              "#9c179e"
             ],
             [
              0.4444444444444444,
              "#bd3786"
             ],
             [
              0.5555555555555556,
              "#d8576b"
             ],
             [
              0.6666666666666666,
              "#ed7953"
             ],
             [
              0.7777777777777778,
              "#fb9f3a"
             ],
             [
              0.8888888888888888,
              "#fdca26"
             ],
             [
              1,
              "#f0f921"
             ]
            ],
            "type": "histogram2d"
           }
          ],
          "histogram2dcontour": [
           {
            "colorbar": {
             "outlinewidth": 0,
             "ticks": ""
            },
            "colorscale": [
             [
              0,
              "#0d0887"
             ],
             [
              0.1111111111111111,
              "#46039f"
             ],
             [
              0.2222222222222222,
              "#7201a8"
             ],
             [
              0.3333333333333333,
              "#9c179e"
             ],
             [
              0.4444444444444444,
              "#bd3786"
             ],
             [
              0.5555555555555556,
              "#d8576b"
             ],
             [
              0.6666666666666666,
              "#ed7953"
             ],
             [
              0.7777777777777778,
              "#fb9f3a"
             ],
             [
              0.8888888888888888,
              "#fdca26"
             ],
             [
              1,
              "#f0f921"
             ]
            ],
            "type": "histogram2dcontour"
           }
          ],
          "mesh3d": [
           {
            "colorbar": {
             "outlinewidth": 0,
             "ticks": ""
            },
            "type": "mesh3d"
           }
          ],
          "parcoords": [
           {
            "line": {
             "colorbar": {
              "outlinewidth": 0,
              "ticks": ""
             }
            },
            "type": "parcoords"
           }
          ],
          "pie": [
           {
            "automargin": true,
            "type": "pie"
           }
          ],
          "scatter": [
           {
            "fillpattern": {
             "fillmode": "overlay",
             "size": 10,
             "solidity": 0.2
            },
            "type": "scatter"
           }
          ],
          "scatter3d": [
           {
            "line": {
             "colorbar": {
              "outlinewidth": 0,
              "ticks": ""
             }
            },
            "marker": {
             "colorbar": {
              "outlinewidth": 0,
              "ticks": ""
             }
            },
            "type": "scatter3d"
           }
          ],
          "scattercarpet": [
           {
            "marker": {
             "colorbar": {
              "outlinewidth": 0,
              "ticks": ""
             }
            },
            "type": "scattercarpet"
           }
          ],
          "scattergeo": [
           {
            "marker": {
             "colorbar": {
              "outlinewidth": 0,
              "ticks": ""
             }
            },
            "type": "scattergeo"
           }
          ],
          "scattergl": [
           {
            "marker": {
             "colorbar": {
              "outlinewidth": 0,
              "ticks": ""
             }
            },
            "type": "scattergl"
           }
          ],
          "scattermapbox": [
           {
            "marker": {
             "colorbar": {
              "outlinewidth": 0,
              "ticks": ""
             }
            },
            "type": "scattermapbox"
           }
          ],
          "scatterpolar": [
           {
            "marker": {
             "colorbar": {
              "outlinewidth": 0,
              "ticks": ""
             }
            },
            "type": "scatterpolar"
           }
          ],
          "scatterpolargl": [
           {
            "marker": {
             "colorbar": {
              "outlinewidth": 0,
              "ticks": ""
             }
            },
            "type": "scatterpolargl"
           }
          ],
          "scatterternary": [
           {
            "marker": {
             "colorbar": {
              "outlinewidth": 0,
              "ticks": ""
             }
            },
            "type": "scatterternary"
           }
          ],
          "surface": [
           {
            "colorbar": {
             "outlinewidth": 0,
             "ticks": ""
            },
            "colorscale": [
             [
              0,
              "#0d0887"
             ],
             [
              0.1111111111111111,
              "#46039f"
             ],
             [
              0.2222222222222222,
              "#7201a8"
             ],
             [
              0.3333333333333333,
              "#9c179e"
             ],
             [
              0.4444444444444444,
              "#bd3786"
             ],
             [
              0.5555555555555556,
              "#d8576b"
             ],
             [
              0.6666666666666666,
              "#ed7953"
             ],
             [
              0.7777777777777778,
              "#fb9f3a"
             ],
             [
              0.8888888888888888,
              "#fdca26"
             ],
             [
              1,
              "#f0f921"
             ]
            ],
            "type": "surface"
           }
          ],
          "table": [
           {
            "cells": {
             "fill": {
              "color": "#EBF0F8"
             },
             "line": {
              "color": "white"
             }
            },
            "header": {
             "fill": {
              "color": "#C8D4E3"
             },
             "line": {
              "color": "white"
             }
            },
            "type": "table"
           }
          ]
         },
         "layout": {
          "annotationdefaults": {
           "arrowcolor": "#2a3f5f",
           "arrowhead": 0,
           "arrowwidth": 1
          },
          "autotypenumbers": "strict",
          "coloraxis": {
           "colorbar": {
            "outlinewidth": 0,
            "ticks": ""
           }
          },
          "colorscale": {
           "diverging": [
            [
             0,
             "#8e0152"
            ],
            [
             0.1,
             "#c51b7d"
            ],
            [
             0.2,
             "#de77ae"
            ],
            [
             0.3,
             "#f1b6da"
            ],
            [
             0.4,
             "#fde0ef"
            ],
            [
             0.5,
             "#f7f7f7"
            ],
            [
             0.6,
             "#e6f5d0"
            ],
            [
             0.7,
             "#b8e186"
            ],
            [
             0.8,
             "#7fbc41"
            ],
            [
             0.9,
             "#4d9221"
            ],
            [
             1,
             "#276419"
            ]
           ],
           "sequential": [
            [
             0,
             "#0d0887"
            ],
            [
             0.1111111111111111,
             "#46039f"
            ],
            [
             0.2222222222222222,
             "#7201a8"
            ],
            [
             0.3333333333333333,
             "#9c179e"
            ],
            [
             0.4444444444444444,
             "#bd3786"
            ],
            [
             0.5555555555555556,
             "#d8576b"
            ],
            [
             0.6666666666666666,
             "#ed7953"
            ],
            [
             0.7777777777777778,
             "#fb9f3a"
            ],
            [
             0.8888888888888888,
             "#fdca26"
            ],
            [
             1,
             "#f0f921"
            ]
           ],
           "sequentialminus": [
            [
             0,
             "#0d0887"
            ],
            [
             0.1111111111111111,
             "#46039f"
            ],
            [
             0.2222222222222222,
             "#7201a8"
            ],
            [
             0.3333333333333333,
             "#9c179e"
            ],
            [
             0.4444444444444444,
             "#bd3786"
            ],
            [
             0.5555555555555556,
             "#d8576b"
            ],
            [
             0.6666666666666666,
             "#ed7953"
            ],
            [
             0.7777777777777778,
             "#fb9f3a"
            ],
            [
             0.8888888888888888,
             "#fdca26"
            ],
            [
             1,
             "#f0f921"
            ]
           ]
          },
          "colorway": [
           "#636efa",
           "#EF553B",
           "#00cc96",
           "#ab63fa",
           "#FFA15A",
           "#19d3f3",
           "#FF6692",
           "#B6E880",
           "#FF97FF",
           "#FECB52"
          ],
          "font": {
           "color": "#2a3f5f"
          },
          "geo": {
           "bgcolor": "white",
           "lakecolor": "white",
           "landcolor": "#E5ECF6",
           "showlakes": true,
           "showland": true,
           "subunitcolor": "white"
          },
          "hoverlabel": {
           "align": "left"
          },
          "hovermode": "closest",
          "mapbox": {
           "style": "light"
          },
          "paper_bgcolor": "white",
          "plot_bgcolor": "#E5ECF6",
          "polar": {
           "angularaxis": {
            "gridcolor": "white",
            "linecolor": "white",
            "ticks": ""
           },
           "bgcolor": "#E5ECF6",
           "radialaxis": {
            "gridcolor": "white",
            "linecolor": "white",
            "ticks": ""
           }
          },
          "scene": {
           "xaxis": {
            "backgroundcolor": "#E5ECF6",
            "gridcolor": "white",
            "gridwidth": 2,
            "linecolor": "white",
            "showbackground": true,
            "ticks": "",
            "zerolinecolor": "white"
           },
           "yaxis": {
            "backgroundcolor": "#E5ECF6",
            "gridcolor": "white",
            "gridwidth": 2,
            "linecolor": "white",
            "showbackground": true,
            "ticks": "",
            "zerolinecolor": "white"
           },
           "zaxis": {
            "backgroundcolor": "#E5ECF6",
            "gridcolor": "white",
            "gridwidth": 2,
            "linecolor": "white",
            "showbackground": true,
            "ticks": "",
            "zerolinecolor": "white"
           }
          },
          "shapedefaults": {
           "line": {
            "color": "#2a3f5f"
           }
          },
          "ternary": {
           "aaxis": {
            "gridcolor": "white",
            "linecolor": "white",
            "ticks": ""
           },
           "baxis": {
            "gridcolor": "white",
            "linecolor": "white",
            "ticks": ""
           },
           "bgcolor": "#E5ECF6",
           "caxis": {
            "gridcolor": "white",
            "linecolor": "white",
            "ticks": ""
           }
          },
          "title": {
           "x": 0.05
          },
          "xaxis": {
           "automargin": true,
           "gridcolor": "white",
           "linecolor": "white",
           "ticks": "",
           "title": {
            "standoff": 15
           },
           "zerolinecolor": "white",
           "zerolinewidth": 2
          },
          "yaxis": {
           "automargin": true,
           "gridcolor": "white",
           "linecolor": "white",
           "ticks": "",
           "title": {
            "standoff": 15
           },
           "zerolinecolor": "white",
           "zerolinewidth": 2
          }
         }
        },
        "width": 1750,
        "xaxis": {
         "anchor": "y",
         "domain": [
          0.5,
          1
         ]
        },
        "yaxis": {
         "anchor": "x",
         "domain": [
          0,
          0.49
         ]
        }
       }
      }
     },
     "metadata": {},
     "output_type": "display_data"
    }
   ],
   "source": [
    "fig = make_subplots(rows=2, cols=2, \n",
    "                                                    specs=[[{'type': 'choropleth'}, {'type': 'choropleth'}],\n",
    "                                                           [{'type': 'sankey','colspan': 2}, {}]],\n",
    "                                                    horizontal_spacing = 0, vertical_spacing=0.02)\n",
    "\n",
    "colorbar_abs = dict(len=1, x=1, tickvals = [0, 1, 2, 3], ticktext = ['1', '10', '100', '1000'])\n",
    "ts = ['Below 1.5 degrees', 'Well below 2 degrees', 'Below 3 degrees', 'Below 4 degrees']\n",
    "colorbar_pc = dict(len=1, x=1)\n",
    "\n",
    "for a_i, approach in enumerate([\"A2_gdp_net\", 'A2_trans']):\n",
    "    if a_i == 0:\n",
    "        cm= True\n",
    "    else:\n",
    "        cm= False\n",
    "    #t[t >= 4] = np.nan\n",
    "    fig.add_trace(\n",
    "        go.Choropleth(\n",
    "        locations=xr_budgets_scenario.ISO,\n",
    "        z = ndc_deviations[c_i][a_i],\n",
    "        locationmode = 'ISO-3',\n",
    "        colorscale = 'RdYlGn',\n",
    "        zmax = 1,\n",
    "        zmin = -1,\n",
    "        text = [str(r)+\": \"+str(np.round(float(ndc_deviations[c_i][a_i][r_i])*100, 2))+\"%\" for r_i, r in enumerate(np.array(xr_budgets_scenario.ISO))],\n",
    "        hovertemplate  = '%{text}',\n",
    "        name=\"\",\n",
    "        marker_line_color='white', \n",
    "        marker_line_width=0.3,\n",
    "        colorbar=dict(len=1, x=1, tickvals = [-1, -0.75, -0.5, -0.25, 0, 0.25, 0.5, 0.75, 1], ticktext = [\"-100%\", \"-75\", \"-50%\", \"-25%\", \"0%\", \"+25%\", \"+50%\", \"+75%\", \"+100%\"], title={\"text\":\"Allocation<br>compared<br>to NDC\"}),\n",
    "        showscale=cm\n",
    "    ), 1, a_i+1)\n",
    "    fig.add_trace(\n",
    "        go.Choropleth(\n",
    "        locations=group_eu,\n",
    "        z = np.array([ndc_deviations[c_i][a_i][np.where(all_regions_iso == \"EU\")[0][0]]]*len(group_eu)),\n",
    "        locationmode = 'ISO-3',\n",
    "        colorscale = 'RdYlGn',\n",
    "        zmax = 1,\n",
    "        zmin = -1,\n",
    "        text = [\"EU: \"+str(np.round(float(ndc_deviations[c_i][a_i][np.where(all_regions_iso == \"EU\")[0][0]])*100, 2))+\"%\" for r_i, r in enumerate(np.array(xr_budgets_scenario.ISO))],\n",
    "        hovertemplate  = '%{text}',\n",
    "        name=\"\",\n",
    "        marker_line_color='white', \n",
    "        marker_line_width=0.3,\n",
    "        colorbar=dict(len=1, x=1, tickvals = [-1, -0.75, -0.5, -0.25, 0, 0.25, 0.5, 0.75, 1], ticktext = [\"-100%\", \"-75\", \"-50%\", \"-25%\", \"0%\", \"+25%\", \"+50%\", \"+75%\", \"+100%\"], title={\"text\":\"Allocation<br>compared<br>to NDC\"}),\n",
    "        showscale=cm\n",
    "    ), 1, a_i+1)\n",
    "fig.update_geos(showocean=True, oceancolor=\"aliceblue\")\n",
    "fig.update_geos(showlakes=True, lakecolor=\"aliceblue\")\n",
    "\n",
    "fig.add_trace(go.Sankey(\n",
    "    arrangement='snap',\n",
    "    node = dict(\n",
    "      pad = 10,\n",
    "      x = [0.05]*(amount)+[0.95]*(amount),\n",
    "      y = list(np.linspace(0.001, 0.999, (amount)))+list(np.linspace(0.001, 0.999, (amount))),\n",
    "    #   x = [0.001, 0.001, 0.001, 0.001, 0.999, 0.999, 0.999, 0.999],\n",
    "    #   y = [0.001, 75/285, 160/285, 190/285, 0.001, 75/285, 130/285, 215/285], \n",
    "      thickness = 5,\n",
    "      line = dict(color = \"black\", width = 0.5),\n",
    "      label = ([all_regions_names[all_regions_iso == r][0]+\": \"+str(np.round(float(np.array(ndc_deviations_onlyfew[0][0])[regs_onlyfew == r])*100, 1))+\"%\" for r in regs_onlyfew[np.argsort(ndc_deviations_onlyfew[0])[0][:amount]]]+#+['Below top-'+str(amount)] +\n",
    "              [all_regions_names[all_regions_iso == r][0]+\": \"+str(np.round(float(np.array(ndc_deviations_onlyfew[0][1])[regs_onlyfew == r])*100, 1))+\"%\" for r in regs_onlyfew[np.argsort(ndc_deviations_onlyfew[0])[1][:amount]]]),#+['Below top-'+str(amount)]),\n",
    "      color = 'black'\n",
    "    ),\n",
    "    link = dict(\n",
    "      source = sources_numeric, # indices correspond to labels, eg A1, A2, A1, B1, ...\n",
    "      target = targets_numeric,#np.random.choice(np.arange(amount+1), size=amount+1, replace=False)+amount+1,\n",
    "      value = [1]*len(targets_numeric),\n",
    "      color = ['rgba(180,'+str(0+i/1.5)+','+str(0)+', 0.3)' for i in np.linspace(0, 255, len(sources_numeric))]\n",
    "  )), 2, 1)\n",
    "\n",
    "# limite map scope to USA 'africa', 'asia', 'europe', 'north america', 'south america', 'usa', 'world'\n",
    "fig.update_geos(visible=False,\n",
    "                showlakes=True,\n",
    "                lakecolor='rgb(255, 255, 255)',\n",
    "                projection_type='natural earth',\n",
    "                showcoastlines=False,)\n",
    "\n",
    "fig.update_layout(\n",
    "    font_size=15,\n",
    ")\n",
    "#fig.update_traces(showscale=False)\n",
    "fig.add_annotation(xref='paper', yref='paper',ax=0, align='center', ay=-0, showarrow=False,\n",
    "                    y=0.7,\n",
    "                    x=1.025, \n",
    "                    textangle=90,\n",
    "                    text=\"NDC ambitious enough <<<\",\n",
    "                    font=dict(color='black', size=16),\n",
    "                )\n",
    "fig.add_annotation(xref='paper', yref='paper',ax=0, align='center', ay=-0, showarrow=False,\n",
    "                    y=0.2,\n",
    "                    x=1.025, \n",
    "                    textangle=90,\n",
    "                    text=\">>> NDC not ambitious enough\",\n",
    "                    font=dict(color='black', size=16),\n",
    "                )\n",
    "\n",
    "fig.add_annotation(xref='paper', yref='paper',ax=0, align='left', ay=-0, showarrow=False,\n",
    "                    y=1.0,\n",
    "                    x=0.07,\n",
    "                    text=\"<b>(a) Allocation-NDC comparison for approach 2</b>\",\n",
    "                    font=dict(color='black', size=16),\n",
    "                )\n",
    "fig.add_annotation(xref='paper', yref='paper',ax=0, align='left', ay=-0, showarrow=False,\n",
    "                    y=1.0,\n",
    "                    x=0.86,\n",
    "                    text=\"<b>(b) Allocation-NDC comparison for approach 2<br>(transitioning from current emissions in 20 years)</b>\",\n",
    "                    font=dict(color='black', size=16),\n",
    "                )\n",
    "fig.add_annotation(xref='paper', yref='paper',ax=0, align='left', ay=-0, showarrow=False,\n",
    "                    y=0.52,\n",
    "                    x=0.04,\n",
    "                    text=\"<b>(c) Ordering of G20 and United Arab Emirates</b>\",\n",
    "                    font=dict(color='black', size=16),\n",
    "                )\n",
    "\n",
    "fig.update_layout(height=1200, width=1750)"
   ]
  },
  {
   "cell_type": "code",
   "execution_count": 21,
   "metadata": {},
   "outputs": [],
   "source": [
    "fig.write_image(\"X:/user/dekkerm/Projects/ECEMF_T5.2/Figures/Figure_fluvial/Figure_fluvial.svg\")\n",
    "fig.write_image(\"X:/user/dekkerm/Projects/ECEMF_T5.2/Figures/Figure_fluvial/Figure_fluvial.png\", scale=3)\n",
    "\n",
    "import os\n",
    "from datetime import date\n",
    "try:\n",
    "    os.remove('X:/user/dekkerm/Projects/ECEMF_T5.2/Figures/Figure_fluvial/Figure_fluvial.html')\n",
    "except:\n",
    "    3\n",
    "def html_w(typ):\n",
    "    return '<html> '+typ+' <p style=\"font-family: Arial\">'\n",
    "\n",
    "today = date.today()\n",
    "td = today.strftime(\"%B %d, %Y\")\n",
    "\n",
    "with open('X:/user/dekkerm/Projects/ECEMF_T5.2/Figures/Figure_fluvial/Figure_fluvial.html', 'a') as f:\n",
    "    #f.write(html_w('<h1>')+'Figure 1 - Electricity Generation</p></h1>')\n",
    "    f.write(html_w('<body>')+'Version: '+td+'</p></body>')\n",
    "    f.write(fig.to_html(full_html=False, include_plotlyjs='cdn'))"
   ]
  }
 ],
 "metadata": {
  "kernelspec": {
   "display_name": "Python 3.9.11 ('MyEnv')",
   "language": "python",
   "name": "python3"
  },
  "language_info": {
   "codemirror_mode": {
    "name": "ipython",
    "version": 3
   },
   "file_extension": ".py",
   "mimetype": "text/x-python",
   "name": "python",
   "nbconvert_exporter": "python",
   "pygments_lexer": "ipython3",
   "version": "3.9.16"
  },
  "orig_nbformat": 4,
  "vscode": {
   "interpreter": {
    "hash": "36d5d389870ab01fa625d0d5123f82469a3683fa0e02c4f7e9e76e9a75345aa3"
   }
  }
 },
 "nbformat": 4,
 "nbformat_minor": 2
}
