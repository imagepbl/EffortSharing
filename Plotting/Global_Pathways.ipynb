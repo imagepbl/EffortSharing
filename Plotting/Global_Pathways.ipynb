{
 "cells": [
  {
   "cell_type": "markdown",
   "metadata": {},
   "source": [
    "## Preambule"
   ]
  },
  {
   "cell_type": "code",
   "execution_count": 2,
   "metadata": {},
   "outputs": [],
   "source": [
    "import numpy as np\n",
    "import pandas as pd\n",
    "import xarray as xr\n",
    "\n",
    "# Plotting\n",
    "import matplotlib.pyplot as plt\n",
    "import plotly.express as px\n",
    "import plotly.graph_objects as go\n",
    "from plotly.subplots import make_subplots\n",
    "from plotly.colors import n_colors"
   ]
  },
  {
   "cell_type": "markdown",
   "metadata": {},
   "source": [
    "## Input"
   ]
  },
  {
   "cell_type": "code",
   "execution_count": 3,
   "metadata": {},
   "outputs": [],
   "source": [
    "rules_b = ['GF', 'PC', 'PCC', 'AP', 'GDR', 'ECPC']"
   ]
  },
  {
   "cell_type": "markdown",
   "metadata": {},
   "source": [
    "## Read data"
   ]
  },
  {
   "cell_type": "code",
   "execution_count": 4,
   "metadata": {},
   "outputs": [],
   "source": [
    "xr_dataread = xr.open_dataset(\"K:/ECEMF/T5.2/xr_dataread.nc\")\n",
    "#xr_2030 = xr.open_dataset(\"X:/user/dekkerm/Projects/ECEMF_T5.2/Data/xr_alloc_2030.nc\")"
   ]
  },
  {
   "cell_type": "code",
   "execution_count": 5,
   "metadata": {},
   "outputs": [],
   "source": [
    "df_eng = pd.read_csv('X:/user/dekkerm/Data/ENGAGE/PolicyScenarios/engage-internal_snapshot_1695642798.csv')\n",
    "df_eng = df_eng[df_eng.Variable == 'Emissions|Kyoto Gases']\n",
    "df_eng = df_eng.reset_index(drop=True)\n",
    "regions_df = np.array(df_eng.Region)\n",
    "regions_df[regions_df == \"Argentine Republic\"] = 'ARG'\n",
    "regions_df[regions_df == \"Canada\"] = 'CAN'\n",
    "regions_df[regions_df == \"Commonwealth of Australia\"] = 'AUS'\n",
    "regions_df[regions_df == \"Federative Republic of Brazil\"] = 'BRA'\n",
    "regions_df[regions_df == \"People's Repulic of China\"] = 'CHN'\n",
    "regions_df[regions_df == \"European Union (28 member countries)\"] = 'EU'\n",
    "regions_df[regions_df == \"Republic of India\"] = 'IND'\n",
    "regions_df[regions_df == \"Republic of Indonesia\"] = 'IDN'\n",
    "regions_df[regions_df == \"State of Japan\"] = 'JPN'\n",
    "regions_df[regions_df == \"Russian Federation\"] = 'RUS'\n",
    "regions_df[regions_df == \"Kingdom of Saudi Arabia\"] = 'SAU'\n",
    "regions_df[regions_df == \"Republic of South Africa\"] = 'ZAF'\n",
    "regions_df[regions_df == \"Republic of Korea (South Korea)\"] = 'KOR'\n",
    "regions_df[regions_df == \"United Mexican States\"] = 'MEX'\n",
    "regions_df[regions_df == \"Republic of Turkey\"] = 'TUR'\n",
    "regions_df[regions_df == \"United States of America\"] = 'USA'\n",
    "regions_df[regions_df == \"Viet Nam \"] = 'VNM'\n",
    "df_eng.Region = regions_df"
   ]
  },
  {
   "cell_type": "code",
   "execution_count": 6,
   "metadata": {},
   "outputs": [],
   "source": [
    "curpol = \"GP_CurPol_T45\"\n",
    "ndc = \"GP_NDC2030_T45\"\n",
    "nz = \"GP_Glasgow\"\n",
    "df_eng_ref = df_eng[['Model', 'Scenario', 'Region']+list(df_eng.keys()[5:])]\n",
    "df_eng_ref = df_eng_ref[df_eng_ref.Scenario.isin([curpol, ndc, nz])]\n",
    "scen = np.array(df_eng_ref.Scenario)\n",
    "scen[scen == ndc] = 'NDC'\n",
    "scen[scen == curpol] = 'CurPol'\n",
    "scen[scen == nz] = 'NetZero'\n",
    "reg = np.array(df_eng_ref.Region)\n",
    "reg[reg == 'World'] = 'WORLD'\n",
    "df_eng_ref['Scenario'] = scen\n",
    "df_eng_ref['Region'] = reg\n",
    "dummy = df_eng_ref.melt(id_vars=[\"Scenario\", \"Model\", \"Region\"], var_name=\"Time\", value_name=\"Value\")\n",
    "dummy['Time'] = np.array(dummy['Time'].astype(int))\n",
    "dummy = dummy.set_index([\"Scenario\", \"Model\", \"Region\", \"Time\"])\n",
    "xr_eng = xr.Dataset.from_dataframe(dummy)\n",
    "xr_eng = xr_eng.reindex(Time = np.arange(1850, 2101))\n",
    "xr_eng = xr_eng.interpolate_na(dim=\"Time\", method=\"linear\")"
   ]
  },
  {
   "cell_type": "markdown",
   "metadata": {},
   "source": [
    "## Total budgets - globe"
   ]
  },
  {
   "cell_type": "code",
   "execution_count": 21,
   "metadata": {},
   "outputs": [],
   "source": [
    "fig = make_subplots(rows=1, cols=3, subplot_titles=(\"1.5&deg;C (50%)\", \"1.7&deg;C (50%)\", \"2.0&deg;C (50%)\"),\n",
    "                    horizontal_spacing = 0.02, vertical_spacing=0.06, shared_yaxes=True)\n",
    "\n",
    "for col_i in range(3):\n",
    "    risk = [0.5]\n",
    "    temp = [1.5, 1.7, 2.0][col_i]\n",
    "\n",
    "    col = 'silver'\n",
    "    allpars = ['Risk', 'NegEmis', 'TrajUnc']\n",
    "\n",
    "    dataset = xr_dataread.GHG_globe.sel(Temperature=temp, Risk=risk, Time=np.arange(2021, 2101))/1e3\n",
    "    fig.add_trace(go.Scatter(x=dataset.Time,\n",
    "                            y=dataset.min(dim=allpars),\n",
    "                            name='SSP-baselines',\n",
    "                            line={'color': col, 'width': 1},\n",
    "                            mode='lines',\n",
    "                            fill=None,\n",
    "                            showlegend=False), 1, 1+col_i)\n",
    "    fig.add_trace(go.Scatter(x=dataset.Time,\n",
    "                            y=dataset.max(dim=allpars),\n",
    "                            name='All pathways (1.5&deg;C, 50%)',\n",
    "                            line={'color': col, 'width': 1},\n",
    "                            mode='lines',\n",
    "                            fill='tonexty',\n",
    "                            showlegend=False), 1, 1+col_i)\n",
    "\n",
    "    allpars = ['NegEmis', 'Risk']\n",
    "    dataset = xr_dataread.GHG_globe.sel(Temperature=temp, Risk=risk, Time=np.arange(2021, 2101), TrajUnc='Earliest', NegEmis=[0.2, 0.3, 0.4, 0.5])/1e3\n",
    "    fig.add_trace(go.Scatter(x=dataset.Time,\n",
    "                            y=dataset.min(dim=allpars),\n",
    "                            name='SSP-baselines',\n",
    "                            line={'color': 'steelblue', 'width': 2},\n",
    "                            mode='lines',\n",
    "                            fill=None,\n",
    "                            showlegend=False), 1, 1+col_i)\n",
    "    fig.add_trace(go.Scatter(x=dataset.Time,\n",
    "                            y=dataset.max(dim=allpars),\n",
    "                            name='Early action, less negative emissions',\n",
    "                            line={'color': 'steelblue', 'width': 2},\n",
    "                            mode='lines',\n",
    "                            fill='tonexty',\n",
    "                            showlegend=False), 1, 1+col_i)\n",
    "\n",
    "    dataset = xr_dataread.GHG_globe.sel(Temperature=temp, Risk=risk, Time=np.arange(2021, 2101), TrajUnc='Latest', NegEmis=[0.5, 0.6, 0.7, 0.8])/1e3\n",
    "    fig.add_trace(go.Scatter(x=dataset.Time,\n",
    "                            y=dataset.min(dim=allpars),\n",
    "                            name='SSP-baselines',\n",
    "                            line={'color': 'tomato', 'width': 2},\n",
    "                            mode='lines',\n",
    "                            fill=None,\n",
    "                            showlegend=False), 1, 1+col_i)\n",
    "    fig.add_trace(go.Scatter(x=dataset.Time,\n",
    "                            y=dataset.max(dim=allpars),\n",
    "                            name='Late action, more negative emissions',\n",
    "                            line={'color': 'tomato', 'width': 2},\n",
    "                            mode='lines',\n",
    "                            fill='tonexty',\n",
    "                            showlegend=False), 1, 1+col_i)\n",
    "\n",
    "                            \n",
    "    dataset = xr_dataread.GHG_globe.sel(Temperature=temp, Risk=risk, Time=2030)/1e3\n",
    "    fig.add_trace(go.Scatter(x=[2030, 2030],\n",
    "                            y=[np.min(dataset), np.max(dataset)],\n",
    "                            line={'color': \"black\", 'width': 3},\n",
    "                            marker={'size': 17},\n",
    "                            mode='lines+markers',\n",
    "                            fill=None,\n",
    "                            showlegend=False), 1, 1+col_i)\n",
    "                            \n",
    "    dataset = xr_dataread.GHG_globe.sel(Temperature=temp, Risk=risk, Time=2040)/1e3\n",
    "    fig.add_trace(go.Scatter(x=[2040, 2040],\n",
    "                            y=[np.min(dataset), np.max(dataset)],\n",
    "                            line={'color': \"black\", 'width': 3},\n",
    "                            marker={'size': 17},\n",
    "                            mode='lines+markers',\n",
    "                            fill=None,\n",
    "                            showlegend=False), 1, 1+col_i)\n",
    "    fig.add_vline(x=2030, line_dash=\"dot\", row=1, col=1+col_i, line_color=\"black\", line_width=2)\n",
    "    fig.add_vline(x=2040, line_dash=\"dot\", row=1, col=1+col_i, line_color=\"black\", line_width=2)\n",
    "    fig.add_hline(y=0, line_dash=\"solid\", row=1, col=1+col_i, line_color=\"black\", line_width=2)\n",
    "    if col_i == 0: fig.update_yaxes(tickfont=dict(size=20), row=1, col=1+col_i, title='Global GHG emissions (Gt CO<sub>2</sub>e/yr)', titlefont=(dict(size=25)))\n",
    "    else: fig.update_yaxes(tickfont=dict(size=20), row=1, col=1+col_i)\n",
    "    fig.update_xaxes(tickfont=dict(size=20), row=1, col=1+col_i)\n",
    "fig.update_annotations(font_size=25)\n",
    "fig.update_layout(height=700, width=2000, template='simple_white')\n",
    "#fig.update_layout(legend=dict(x=1, y=1, xanchor='right', yanchor='top', font=dict(size=25)))\n",
    "#fig.write_image(\"X:/user/dekkerm/Projects/ECEMF_T5.2/Figures/Presentations/GlobalPathways_empty.png\", scale=3)\n",
    "fig.write_image(\"X:/user/dekkerm/Projects/ECEMF_T5.2/Figures/Presentations/GlobalPathways_filled.png\", scale=3)\n",
    "#fig.show()"
   ]
  }
 ],
 "metadata": {
  "kernelspec": {
   "display_name": "MyEnv",
   "language": "python",
   "name": "python3"
  },
  "language_info": {
   "codemirror_mode": {
    "name": "ipython",
    "version": 3
   },
   "file_extension": ".py",
   "mimetype": "text/x-python",
   "name": "python",
   "nbconvert_exporter": "python",
   "pygments_lexer": "ipython3",
   "version": "3.9.18"
  },
  "orig_nbformat": 4
 },
 "nbformat": 4,
 "nbformat_minor": 2
}
