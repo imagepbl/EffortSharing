{
 "cells": [
  {
   "attachments": {},
   "cell_type": "markdown",
   "metadata": {},
   "source": [
    "## Preambule"
   ]
  },
  {
   "cell_type": "code",
   "execution_count": 1,
   "metadata": {},
   "outputs": [],
   "source": [
    "# General packages\n",
    "import numpy as np\n",
    "import pandas as pd\n",
    "from tqdm import tqdm\n",
    "from pathlib import Path\n",
    "import xarray as xr\n",
    "import json\n",
    "\n",
    "# Plotting\n",
    "import matplotlib.pyplot as plt\n",
    "import plotly.express as px\n",
    "import plotly.graph_objects as go\n",
    "from plotly.subplots import make_subplots\n",
    "from plotly.colors import n_colors"
   ]
  },
  {
   "attachments": {},
   "cell_type": "markdown",
   "metadata": {},
   "source": [
    "## Parameters"
   ]
  },
  {
   "cell_type": "code",
   "execution_count": 2,
   "metadata": {},
   "outputs": [],
   "source": [
    "hist_startyear = 1990"
   ]
  },
  {
   "cell_type": "markdown",
   "metadata": {},
   "source": [
    "## Paths"
   ]
  },
  {
   "cell_type": "code",
   "execution_count": 3,
   "metadata": {},
   "outputs": [],
   "source": [
    "path_main = Path(\"X:/user/dekkerm/Projects/ECEMF_T5.2\")\n",
    "path_data = path_main / \"Data\" / str(hist_startyear)\n",
    "path_figs = path_main / \"Figures\"\n",
    "path_ar6_iso = Path(\"X:/user/dekkerm/Data/IPCC/AR6_ISO3/\")"
   ]
  },
  {
   "cell_type": "markdown",
   "metadata": {},
   "source": [
    "## Read data files"
   ]
  },
  {
   "cell_type": "code",
   "execution_count": 4,
   "metadata": {},
   "outputs": [],
   "source": [
    "xr_total = xr.open_dataset(path_data / \"xr_total.nc\")\n",
    "all_regions_iso = np.load(path_data / \"all_regions.npy\")\n",
    "all_regions_names = np.load(path_data / \"all_regions_names.npy\")\n",
    "all_countries_iso = np.load(path_data / \"all_countries.npy\", allow_pickle=True)\n",
    "all_countries_names = np.load(path_data / \"all_countries_names.npy\", allow_pickle=True)\n",
    "only_regions_iso = ['CVF', 'G20', \"EU\", \"G7\", \"NA\", \"AU\", \"AF\", \"SIDS\", \"LDC\", \"WORLD\"]\n",
    "only_regions_names = ['Climate Vulnerability Forum','G20',\"European Union\",\"G7\",\"Northern America\",\"Australasia\",\"African Group\",\"Small Island Developing States\",\"Least Developed Countries\"]"
   ]
  },
  {
   "cell_type": "code",
   "execution_count": 5,
   "metadata": {},
   "outputs": [],
   "source": [
    "xr_budgets_static = xr.open_dataset(path_data / \"xr_budgets_static.nc\")\n",
    "xr_budgets_linear = xr.open_dataset(path_data / \"xr_budgets_linear.nc\")\n",
    "xr_budgets_scenario = xr.open_dataset(path_data / \"xr_budgets_scenario.nc\")\n",
    "df_michel = pd.read_excel(Path(\"X:/user/dekkerm/Data/\") / \"NDC\" / \"NDC_comparison.xlsx\", sheet_name=\"Michel\")"
   ]
  },
  {
   "cell_type": "code",
   "execution_count": 6,
   "metadata": {},
   "outputs": [],
   "source": [
    "df_countries = pd.read_csv(\"X:/user/dekkerm/Data/AllCountries.csv\")"
   ]
  },
  {
   "cell_type": "code",
   "execution_count": 7,
   "metadata": {},
   "outputs": [],
   "source": [
    "df_data = pd.read_csv(path_ar6_iso / \"AR6_Scenarios_Database_ISO3_v1.1.csv\")"
   ]
  },
  {
   "cell_type": "code",
   "execution_count": 8,
   "metadata": {},
   "outputs": [],
   "source": [
    "df_meta = pd.read_excel(path_ar6_iso / \"AR6_Scenarios_Database_metadata_indicators_v1.1.xlsx\", sheet_name= \"meta_Ch3vetted_withclimate\")"
   ]
  },
  {
   "attachments": {},
   "cell_type": "markdown",
   "metadata": {},
   "source": [
    "## Preprocess"
   ]
  },
  {
   "cell_type": "code",
   "execution_count": 9,
   "metadata": {},
   "outputs": [],
   "source": [
    "mods = np.array(df_meta[df_meta.Category == \"C1\"].Model)\n",
    "scens = np.array(df_meta[df_meta.Category == \"C1\"].Scenario)\n",
    "modscens = [mods[i]+'|'+scens[i] for i in range(len(mods))]"
   ]
  },
  {
   "cell_type": "code",
   "execution_count": 10,
   "metadata": {},
   "outputs": [],
   "source": [
    "mods = np.array(df_data.Model)\n",
    "scens = np.array(df_data.Scenario)\n",
    "modscens_data = [mods[i]+'|'+scens[i] for i in range(len(scens))]\n",
    "modscens_data_uni = np.unique([mods[i]+'|'+scens[i] for i in range(len(scens))])\n",
    "df_data['ModelScenario'] = modscens_data"
   ]
  },
  {
   "cell_type": "code",
   "execution_count": 11,
   "metadata": {},
   "outputs": [],
   "source": [
    "df_data_small = df_data[df_data.ModelScenario.isin(modscens)]\n",
    "df_data_small = df_data_small.reset_index(drop=True)\n",
    "df_data_small = df_data_small[[\"ModelScenario\", \"Region\", \"Variable\"]+['1990', '1995',\n",
    "       '2000', '2005', '2007', '2008', '2010', '2011', '2012', '2013', '2014',\n",
    "       '2015', '2018', '2020', '2021', '2022', '2023', '2024', '2025', '2030',\n",
    "       '2035', '2040', '2045', '2050', '2055', '2060', '2065', '2070', '2075',\n",
    "       '2080', '2085', '2090', '2095', '2100']]"
   ]
  },
  {
   "cell_type": "code",
   "execution_count": 12,
   "metadata": {},
   "outputs": [],
   "source": [
    "df__ = df_data_small.melt(id_vars=[\"ModelScenario\", \"Region\", \"Variable\"], var_name=\"Time\", value_name=\"Value\")\n",
    "df__['Time'] = df__['Time'].astype(int)\n",
    "df__ = df__.set_index(['ModelScenario', 'Region', 'Variable', 'Time'])\n",
    "xr_data = xr.Dataset.from_dataframe(df__)"
   ]
  },
  {
   "cell_type": "code",
   "execution_count": 13,
   "metadata": {},
   "outputs": [
    {
     "name": "stderr",
     "output_type": "stream",
     "text": [
      "x:\\user\\dekkerm\\environments\\MyEnv\\lib\\site-packages\\xarray\\core\\missing.py:264: FutureWarning: is_monotonic is deprecated and will be removed in a future version. Use is_monotonic_increasing instead.\n",
      "  if not index.is_monotonic:\n"
     ]
    }
   ],
   "source": [
    "xr_data = xr_data.reindex(Time = np.arange(1990, 2101))\n",
    "xr_data = xr_data.interpolate_na(dim=\"Time\", method=\"linear\")"
   ]
  },
  {
   "attachments": {},
   "cell_type": "markdown",
   "metadata": {},
   "source": [
    "## Plot"
   ]
  },
  {
   "cell_type": "code",
   "execution_count": 14,
   "metadata": {},
   "outputs": [
    {
     "data": {
      "application/vnd.plotly.v1+json": {
       "config": {
        "plotlyServerURL": "https://plotly.com"
       },
       "data": [
        {
         "boxpoints": "all",
         "fillcolor": "forestgreen",
         "hovertemplate": "%{text}",
         "jitter": 0.5,
         "line": {
          "color": "black",
          "width": 0.5
         },
         "marker": {
          "color": "black",
          "size": 3
         },
         "name": "BRA",
         "pointpos": -1.8,
         "showlegend": false,
         "text": [
          "BRA<br>GHG emission reduction in 2030: 0.5<br>AIM/CGE 2.1|CD-LINKS_NPi2020_400",
          "BRA<br>GHG emission reduction in 2030: 0.5<br>AIM/CGE 2.2|EN_NPi2020_300f",
          "BRA<br>GHG emission reduction in 2030: 0.6<br>AIM/CGE 2.2|EN_NPi2020_600",
          "BRA<br>GHG emission reduction in 2030: 1.3<br>AIM/Hub-Global 2.0|1.5C",
          "BRA<br>GHG emission reduction in 2030: 1.1<br>C-ROADS-5.005|Ratchet-1.5-limCDR-noOS",
          "BRA<br>GHG emission reduction in 2030: 0.9<br>C-ROADS-5.005|Ratchet-1.5-noCDR",
          "BRA<br>GHG emission reduction in 2030: 0.8<br>C-ROADS-5.005|Ratchet-1.5-noCDR-noOS",
          "BRA<br>GHG emission reduction in 2030: 0.8<br>COFFEE 1.1|EN_NPi2020_400",
          "BRA<br>GHG emission reduction in 2030: 0.6<br>GCAM 4.2|SSP1-19",
          "BRA<br>GHG emission reduction in 2030: 0.5<br>GCAM 5.3|R_MAC_30_n0",
          "BRA<br>GHG emission reduction in 2030: 0.6<br>GCAM 5.3|R_MAC_35_n8",
          "BRA<br>GHG emission reduction in 2030: 1.0<br>GCAM 5.3|R_MAC_40_n8",
          "BRA<br>GHG emission reduction in 2030: 0.6<br>GCAM 5.3|R_MAC_45_n8",
          "BRA<br>GHG emission reduction in 2030: 0.6<br>GCAM 5.3|R_MAC_50_n8",
          "BRA<br>GHG emission reduction in 2030: 0.8<br>GEM-E3_V2021|EN_NPi2020_500",
          "BRA<br>GHG emission reduction in 2030: 0.5<br>GEM-E3_V2021|EN_NPi2020_600_COV",
          "BRA<br>GHG emission reduction in 2030: 0.7<br>IMAGE 3.2|SSP1_SPA1_19I_D_LB",
          "BRA<br>GHG emission reduction in 2030: nan<br>IMAGE 3.2|SSP1_SPA1_19I_LIRE_LB",
          "BRA<br>GHG emission reduction in 2030: nan<br>IMAGE 3.2|SSP1_SPA1_19I_RE_LB",
          "BRA<br>GHG emission reduction in 2030: nan<br>IMAGE 3.2|SSP2_SPA1_19I_D_LB",
          "BRA<br>GHG emission reduction in 2030: nan<br>IMAGE 3.2|SSP2_SPA1_19I_LIRE_LB",
          "BRA<br>GHG emission reduction in 2030: nan<br>IMAGE 3.2|SSP2_SPA1_19I_RE_LB",
          "BRA<br>GHG emission reduction in 2030: nan<br>IMAGE 3.2|SSP2_SPA2_19I_LI",
          "BRA<br>GHG emission reduction in 2030: nan<br>MESSAGE-GLOBIOM 1.0|ADVANCE_2020_1.5C-2100",
          "BRA<br>GHG emission reduction in 2030: nan<br>MESSAGE-GLOBIOM 1.0|EMF33_1.5C_cost100",
          "BRA<br>GHG emission reduction in 2030: nan<br>MESSAGE-GLOBIOM 1.0|EMF33_1.5C_full",
          "BRA<br>GHG emission reduction in 2030: nan<br>MESSAGE-GLOBIOM 1.0|SSP2-19",
          "BRA<br>GHG emission reduction in 2030: nan<br>MESSAGEix-GLOBIOM 1.0|CD-LINKS_NPi2020_400",
          "BRA<br>GHG emission reduction in 2030: nan<br>MESSAGEix-GLOBIOM 1.0|LowEnergyDemand_1.3_IPCC",
          "BRA<br>GHG emission reduction in 2030: nan<br>MESSAGEix-GLOBIOM_1.1|EN_NPi2020_450",
          "BRA<br>GHG emission reduction in 2030: nan<br>MESSAGEix-GLOBIOM_1.1|EN_NPi2020_500",
          "BRA<br>GHG emission reduction in 2030: nan<br>MESSAGEix-GLOBIOM_1.1|NGFS2_Divergent Net Zero Policies",
          "BRA<br>GHG emission reduction in 2030: nan<br>MESSAGEix-GLOBIOM_1.1|NGFS2_Net-Zero 2050",
          "BRA<br>GHG emission reduction in 2030: nan<br>MESSAGEix-GLOBIOM_1.1|EN_NPi2020_600_COV",
          "BRA<br>GHG emission reduction in 2030: nan<br>MESSAGEix-GLOBIOM_1.1|EN_NPi2020_600_DR4p",
          "BRA<br>GHG emission reduction in 2030: nan<br>MESSAGEix-GLOBIOM_1.1|EN_NPi2020_600_DR3p",
          "BRA<br>GHG emission reduction in 2030: nan<br>MESSAGEix-GLOBIOM_1.1|EN_NPi2020_600_DR2p",
          "BRA<br>GHG emission reduction in 2030: nan<br>MESSAGEix-GLOBIOM_1.1|EN_NPi2020_600_DR1p",
          "BRA<br>GHG emission reduction in 2030: nan<br>MESSAGEix-GLOBIOM_1.2|COV_GreenPush_550",
          "BRA<br>GHG emission reduction in 2030: nan<br>MESSAGEix-GLOBIOM_1.2|COV_NoPolicyNoCOVID_550",
          "BRA<br>GHG emission reduction in 2030: nan<br>MESSAGEix-GLOBIOM_1.2|COV_Restore_550",
          "BRA<br>GHG emission reduction in 2030: nan<br>MESSAGEix-GLOBIOM_1.2|COV_SelfReliance_550",
          "BRA<br>GHG emission reduction in 2030: nan<br>MESSAGEix-GLOBIOM_1.2|COV_SmartUse_550",
          "BRA<br>GHG emission reduction in 2030: nan<br>POLES ADVANCE|ADVANCE_2020_1.5C-2100",
          "BRA<br>GHG emission reduction in 2030: nan<br>POLES EMF33|EMF33_WB2C_cost100",
          "BRA<br>GHG emission reduction in 2030: nan<br>POLES EMF33|EMF33_WB2C_full",
          "BRA<br>GHG emission reduction in 2030: nan<br>POLES EMF33|EMF33_WB2C_nofuel",
          "BRA<br>GHG emission reduction in 2030: nan<br>REMIND 1.7|ADVANCE_2020_1.5C-2100",
          "BRA<br>GHG emission reduction in 2030: nan<br>REMIND 1.7|CEMICS-1.5-CDR12",
          "BRA<br>GHG emission reduction in 2030: nan<br>REMIND 1.7|CEMICS-1.5-CDR20",
          "BRA<br>GHG emission reduction in 2030: nan<br>REMIND 1.7|CEMICS-1.5-CDR8",
          "BRA<br>GHG emission reduction in 2030: nan<br>REMIND 1.7|CEMICS-2.0-CDR8",
          "BRA<br>GHG emission reduction in 2030: nan<br>REMIND 2.1|CEMICS_GDPgrowth_1p5",
          "BRA<br>GHG emission reduction in 2030: nan<br>REMIND 2.1|CEMICS_HotellingConst_1p5",
          "BRA<br>GHG emission reduction in 2030: nan<br>REMIND 2.1|CEMICS_Linear_1p5",
          "BRA<br>GHG emission reduction in 2030: nan<br>REMIND 2.1|CEMICS_opt_1p5",
          "BRA<br>GHG emission reduction in 2030: nan<br>REMIND 2.1|LeastTotalCost_LTC_brkLR15_SSP1_P50",
          "BRA<br>GHG emission reduction in 2030: nan<br>REMIND 2.1|R2p1_SSP1-PkBudg900",
          "BRA<br>GHG emission reduction in 2030: nan<br>REMIND 2.1|R2p1_SSP2-PkBudg900",
          "BRA<br>GHG emission reduction in 2030: nan<br>REMIND 2.1|R2p1_SSP5-PkBudg900",
          "BRA<br>GHG emission reduction in 2030: nan<br>REMIND-MAgPIE 1.5|SSP2-19",
          "BRA<br>GHG emission reduction in 2030: nan<br>REMIND-MAgPIE 1.7-3.0|CD-LINKS_NPi2020_400",
          "BRA<br>GHG emission reduction in 2030: nan<br>REMIND-MAgPIE 1.7-3.0|EMF33_1.5C_nofuel",
          "BRA<br>GHG emission reduction in 2030: nan<br>REMIND-MAgPIE 1.7-3.0|PEP_1p5C_full_eff",
          "BRA<br>GHG emission reduction in 2030: nan<br>REMIND-MAgPIE 1.7-3.0|PEP_1p5C_red_eff",
          "BRA<br>GHG emission reduction in 2030: 0.7<br>REMIND-MAgPIE 1.7-3.0|PEP_2C_red_eff",
          "BRA<br>GHG emission reduction in 2030: 0.9<br>REMIND-MAgPIE 1.7-3.0|SMP_2C_lifesty",
          "BRA<br>GHG emission reduction in 2030: 0.7<br>REMIND-MAgPIE 2.1-4.2|CEMICS_SSP1-1p5C-fullCDR",
          "BRA<br>GHG emission reduction in 2030: 0.8<br>REMIND-MAgPIE 2.1-4.2|CEMICS_SSP1-1p5C-minCDR",
          "BRA<br>GHG emission reduction in 2030: 0.7<br>REMIND-MAgPIE 2.1-4.2|CEMICS_SSP2-1p5C-fullCDR"
         ],
         "type": "box",
         "whiskerwidth": 0.2,
         "xaxis": "x",
         "y": [
          0.4664714474599759,
          0.4664714474599759,
          0.604130154734583,
          1.3100395510466576,
          1.1254460256866108,
          0.9377005154439478,
          0.8489957144820384,
          0.7974153689378386,
          0.6121825941444484,
          0.5283710995135905,
          0.6324259379625622,
          0.9669340655091129,
          0.6338763539122544,
          0.5516266110448395,
          0.8345586976898682,
          0.5488099749563862,
          0.6618670148094681,
          null,
          null,
          null,
          null,
          null,
          null,
          null,
          null,
          null,
          null,
          null,
          null,
          null,
          null,
          null,
          null,
          null,
          null,
          null,
          null,
          null,
          null,
          null,
          null,
          null,
          null,
          null,
          null,
          null,
          null,
          null,
          null,
          null,
          null,
          null,
          null,
          null,
          null,
          null,
          null,
          null,
          null,
          null,
          null,
          null,
          null,
          null,
          null,
          0.707975670853777,
          0.8826292034142871,
          0.7033128957415438,
          0.8102676972058009,
          0.6903147719928939
         ],
         "yaxis": "y"
        },
        {
         "marker": {
          "color": "forestgreen",
          "colorscale": [
           [
            0,
            "rgb(158,1,66)"
           ],
           [
            0.1,
            "rgb(213,62,79)"
           ],
           [
            0.2,
            "rgb(244,109,67)"
           ],
           [
            0.3,
            "rgb(253,174,97)"
           ],
           [
            0.4,
            "rgb(254,224,139)"
           ],
           [
            0.5,
            "rgb(255,255,191)"
           ],
           [
            0.6,
            "rgb(230,245,152)"
           ],
           [
            0.7,
            "rgb(171,221,164)"
           ],
           [
            0.8,
            "rgb(102,194,165)"
           ],
           [
            0.9,
            "rgb(50,136,189)"
           ],
           [
            1,
            "rgb(94,79,162)"
           ]
          ],
          "line": {
           "color": "black",
           "width": 0.2
          },
          "size": 25,
          "symbol": "circle"
         },
         "mode": "markers+text",
         "showlegend": false,
         "text": "GF",
         "textfont": {
          "color": "black",
          "family": "Arial black",
          "size": 13
         },
         "type": "scatter",
         "x": [
          "BRA"
         ],
         "xaxis": "x",
         "y": [
          0.4426261239168183
         ],
         "yaxis": "y"
        },
        {
         "marker": {
          "color": "forestgreen",
          "colorscale": [
           [
            0,
            "rgb(158,1,66)"
           ],
           [
            0.1,
            "rgb(213,62,79)"
           ],
           [
            0.2,
            "rgb(244,109,67)"
           ],
           [
            0.3,
            "rgb(253,174,97)"
           ],
           [
            0.4,
            "rgb(254,224,139)"
           ],
           [
            0.5,
            "rgb(255,255,191)"
           ],
           [
            0.6,
            "rgb(230,245,152)"
           ],
           [
            0.7,
            "rgb(171,221,164)"
           ],
           [
            0.8,
            "rgb(102,194,165)"
           ],
           [
            0.9,
            "rgb(50,136,189)"
           ],
           [
            1,
            "rgb(94,79,162)"
           ]
          ],
          "line": {
           "color": "black",
           "width": 0.2
          },
          "size": 25,
          "symbol": "square"
         },
         "mode": "markers+text",
         "showlegend": false,
         "text": "PC",
         "textfont": {
          "color": "black",
          "family": "Arial black",
          "size": 13
         },
         "type": "scatter",
         "x": [
          "BRA"
         ],
         "xaxis": "x",
         "y": [
          0.3969329706709244
         ],
         "yaxis": "y"
        },
        {
         "marker": {
          "color": "forestgreen",
          "colorscale": [
           [
            0,
            "rgb(158,1,66)"
           ],
           [
            0.1,
            "rgb(213,62,79)"
           ],
           [
            0.2,
            "rgb(244,109,67)"
           ],
           [
            0.3,
            "rgb(253,174,97)"
           ],
           [
            0.4,
            "rgb(254,224,139)"
           ],
           [
            0.5,
            "rgb(255,255,191)"
           ],
           [
            0.6,
            "rgb(230,245,152)"
           ],
           [
            0.7,
            "rgb(171,221,164)"
           ],
           [
            0.8,
            "rgb(102,194,165)"
           ],
           [
            0.9,
            "rgb(50,136,189)"
           ],
           [
            1,
            "rgb(94,79,162)"
           ]
          ],
          "line": {
           "color": "black",
           "width": 0.2
          },
          "size": 25,
          "symbol": "diamond"
         },
         "mode": "markers+text",
         "showlegend": false,
         "text": "PCC",
         "textfont": {
          "color": "black",
          "family": "Arial black",
          "size": 13
         },
         "type": "scatter",
         "x": [
          "BRA"
         ],
         "xaxis": "x",
         "y": [
          0.4197795472938713
         ],
         "yaxis": "y"
        },
        {
         "marker": {
          "color": "forestgreen",
          "colorscale": [
           [
            0,
            "rgb(158,1,66)"
           ],
           [
            0.1,
            "rgb(213,62,79)"
           ],
           [
            0.2,
            "rgb(244,109,67)"
           ],
           [
            0.3,
            "rgb(253,174,97)"
           ],
           [
            0.4,
            "rgb(254,224,139)"
           ],
           [
            0.5,
            "rgb(255,255,191)"
           ],
           [
            0.6,
            "rgb(230,245,152)"
           ],
           [
            0.7,
            "rgb(171,221,164)"
           ],
           [
            0.8,
            "rgb(102,194,165)"
           ],
           [
            0.9,
            "rgb(50,136,189)"
           ],
           [
            1,
            "rgb(94,79,162)"
           ]
          ],
          "line": {
           "color": "black",
           "width": 0.2
          },
          "size": 25,
          "symbol": "triangle-up"
         },
         "mode": "markers+text",
         "showlegend": false,
         "text": "NDC",
         "textfont": {
          "color": "black",
          "family": "Arial black",
          "size": 13
         },
         "type": "scatter",
         "x": [
          "BRA"
         ],
         "xaxis": "x",
         "y": [
          0.13296060855092537
         ],
         "yaxis": "y"
        },
        {
         "boxpoints": "all",
         "fillcolor": "forestgreen",
         "hovertemplate": "%{text}",
         "jitter": 0.5,
         "line": {
          "color": "black",
          "width": 0.5
         },
         "marker": {
          "color": "black",
          "size": 3
         },
         "name": "BRA",
         "pointpos": -1.8,
         "showlegend": false,
         "text": [
          "BRA<br>Policy costs in 2030: 139.2<br>AIM/CGE 2.1|CD-LINKS_NPi2020_400",
          "BRA<br>Policy costs in 2030: 139.2<br>AIM/CGE 2.2|EN_NPi2020_300f",
          "BRA<br>Policy costs in 2030: nan<br>AIM/CGE 2.2|EN_NPi2020_600",
          "BRA<br>Policy costs in 2030: nan<br>AIM/Hub-Global 2.0|1.5C",
          "BRA<br>Policy costs in 2030: nan<br>C-ROADS-5.005|Ratchet-1.5-limCDR-noOS",
          "BRA<br>Policy costs in 2030: nan<br>C-ROADS-5.005|Ratchet-1.5-noCDR",
          "BRA<br>Policy costs in 2030: nan<br>C-ROADS-5.005|Ratchet-1.5-noCDR-noOS",
          "BRA<br>Policy costs in 2030: nan<br>COFFEE 1.1|EN_NPi2020_400",
          "BRA<br>Policy costs in 2030: 72.0<br>GCAM 4.2|SSP1-19",
          "BRA<br>Policy costs in 2030: 40.6<br>GCAM 5.3|R_MAC_30_n0",
          "BRA<br>Policy costs in 2030: nan<br>GCAM 5.3|R_MAC_35_n8",
          "BRA<br>Policy costs in 2030: nan<br>GCAM 5.3|R_MAC_40_n8",
          "BRA<br>Policy costs in 2030: nan<br>GCAM 5.3|R_MAC_45_n8",
          "BRA<br>Policy costs in 2030: nan<br>GCAM 5.3|R_MAC_50_n8",
          "BRA<br>Policy costs in 2030: nan<br>GEM-E3_V2021|EN_NPi2020_500",
          "BRA<br>Policy costs in 2030: nan<br>GEM-E3_V2021|EN_NPi2020_600_COV",
          "BRA<br>Policy costs in 2030: nan<br>IMAGE 3.2|SSP1_SPA1_19I_D_LB",
          "BRA<br>Policy costs in 2030: nan<br>IMAGE 3.2|SSP1_SPA1_19I_LIRE_LB",
          "BRA<br>Policy costs in 2030: nan<br>IMAGE 3.2|SSP1_SPA1_19I_RE_LB",
          "BRA<br>Policy costs in 2030: nan<br>IMAGE 3.2|SSP2_SPA1_19I_D_LB",
          "BRA<br>Policy costs in 2030: nan<br>IMAGE 3.2|SSP2_SPA1_19I_LIRE_LB",
          "BRA<br>Policy costs in 2030: nan<br>IMAGE 3.2|SSP2_SPA1_19I_RE_LB",
          "BRA<br>Policy costs in 2030: nan<br>IMAGE 3.2|SSP2_SPA2_19I_LI",
          "BRA<br>Policy costs in 2030: nan<br>MESSAGE-GLOBIOM 1.0|ADVANCE_2020_1.5C-2100",
          "BRA<br>Policy costs in 2030: nan<br>MESSAGE-GLOBIOM 1.0|EMF33_1.5C_cost100",
          "BRA<br>Policy costs in 2030: nan<br>MESSAGE-GLOBIOM 1.0|EMF33_1.5C_full",
          "BRA<br>Policy costs in 2030: nan<br>MESSAGE-GLOBIOM 1.0|SSP2-19",
          "BRA<br>Policy costs in 2030: nan<br>MESSAGEix-GLOBIOM 1.0|CD-LINKS_NPi2020_400",
          "BRA<br>Policy costs in 2030: nan<br>MESSAGEix-GLOBIOM 1.0|LowEnergyDemand_1.3_IPCC",
          "BRA<br>Policy costs in 2030: nan<br>MESSAGEix-GLOBIOM_1.1|EN_NPi2020_450",
          "BRA<br>Policy costs in 2030: nan<br>MESSAGEix-GLOBIOM_1.1|EN_NPi2020_500",
          "BRA<br>Policy costs in 2030: nan<br>MESSAGEix-GLOBIOM_1.1|NGFS2_Divergent Net Zero Policies",
          "BRA<br>Policy costs in 2030: nan<br>MESSAGEix-GLOBIOM_1.1|NGFS2_Net-Zero 2050",
          "BRA<br>Policy costs in 2030: nan<br>MESSAGEix-GLOBIOM_1.1|EN_NPi2020_600_COV",
          "BRA<br>Policy costs in 2030: nan<br>MESSAGEix-GLOBIOM_1.1|EN_NPi2020_600_DR4p",
          "BRA<br>Policy costs in 2030: nan<br>MESSAGEix-GLOBIOM_1.1|EN_NPi2020_600_DR3p",
          "BRA<br>Policy costs in 2030: nan<br>MESSAGEix-GLOBIOM_1.1|EN_NPi2020_600_DR2p",
          "BRA<br>Policy costs in 2030: nan<br>MESSAGEix-GLOBIOM_1.1|EN_NPi2020_600_DR1p",
          "BRA<br>Policy costs in 2030: nan<br>MESSAGEix-GLOBIOM_1.2|COV_GreenPush_550",
          "BRA<br>Policy costs in 2030: nan<br>MESSAGEix-GLOBIOM_1.2|COV_NoPolicyNoCOVID_550",
          "BRA<br>Policy costs in 2030: nan<br>MESSAGEix-GLOBIOM_1.2|COV_Restore_550",
          "BRA<br>Policy costs in 2030: nan<br>MESSAGEix-GLOBIOM_1.2|COV_SelfReliance_550",
          "BRA<br>Policy costs in 2030: nan<br>MESSAGEix-GLOBIOM_1.2|COV_SmartUse_550",
          "BRA<br>Policy costs in 2030: nan<br>POLES ADVANCE|ADVANCE_2020_1.5C-2100",
          "BRA<br>Policy costs in 2030: nan<br>POLES EMF33|EMF33_WB2C_cost100",
          "BRA<br>Policy costs in 2030: nan<br>POLES EMF33|EMF33_WB2C_full",
          "BRA<br>Policy costs in 2030: nan<br>POLES EMF33|EMF33_WB2C_nofuel",
          "BRA<br>Policy costs in 2030: nan<br>REMIND 1.7|ADVANCE_2020_1.5C-2100",
          "BRA<br>Policy costs in 2030: nan<br>REMIND 1.7|CEMICS-1.5-CDR12",
          "BRA<br>Policy costs in 2030: nan<br>REMIND 1.7|CEMICS-1.5-CDR20",
          "BRA<br>Policy costs in 2030: nan<br>REMIND 1.7|CEMICS-1.5-CDR8",
          "BRA<br>Policy costs in 2030: nan<br>REMIND 1.7|CEMICS-2.0-CDR8",
          "BRA<br>Policy costs in 2030: nan<br>REMIND 2.1|CEMICS_GDPgrowth_1p5",
          "BRA<br>Policy costs in 2030: nan<br>REMIND 2.1|CEMICS_HotellingConst_1p5",
          "BRA<br>Policy costs in 2030: nan<br>REMIND 2.1|CEMICS_Linear_1p5",
          "BRA<br>Policy costs in 2030: nan<br>REMIND 2.1|CEMICS_opt_1p5",
          "BRA<br>Policy costs in 2030: nan<br>REMIND 2.1|LeastTotalCost_LTC_brkLR15_SSP1_P50",
          "BRA<br>Policy costs in 2030: nan<br>REMIND 2.1|R2p1_SSP1-PkBudg900",
          "BRA<br>Policy costs in 2030: nan<br>REMIND 2.1|R2p1_SSP2-PkBudg900",
          "BRA<br>Policy costs in 2030: nan<br>REMIND 2.1|R2p1_SSP5-PkBudg900",
          "BRA<br>Policy costs in 2030: nan<br>REMIND-MAgPIE 1.5|SSP2-19",
          "BRA<br>Policy costs in 2030: nan<br>REMIND-MAgPIE 1.7-3.0|CD-LINKS_NPi2020_400",
          "BRA<br>Policy costs in 2030: nan<br>REMIND-MAgPIE 1.7-3.0|EMF33_1.5C_nofuel",
          "BRA<br>Policy costs in 2030: nan<br>REMIND-MAgPIE 1.7-3.0|PEP_1p5C_full_eff",
          "BRA<br>Policy costs in 2030: nan<br>REMIND-MAgPIE 1.7-3.0|PEP_1p5C_red_eff",
          "BRA<br>Policy costs in 2030: 95.6<br>REMIND-MAgPIE 1.7-3.0|PEP_2C_red_eff",
          "BRA<br>Policy costs in 2030: 151.2<br>REMIND-MAgPIE 1.7-3.0|SMP_2C_lifesty",
          "BRA<br>Policy costs in 2030: 92.5<br>REMIND-MAgPIE 2.1-4.2|CEMICS_SSP1-1p5C-fullCDR",
          "BRA<br>Policy costs in 2030: 132.4<br>REMIND-MAgPIE 2.1-4.2|CEMICS_SSP1-1p5C-minCDR",
          "BRA<br>Policy costs in 2030: 83.1<br>REMIND-MAgPIE 2.1-4.2|CEMICS_SSP2-1p5C-fullCDR"
         ],
         "type": "box",
         "whiskerwidth": 0.2,
         "xaxis": "x2",
         "y": [
          139.1877,
          139.1877,
          null,
          null,
          null,
          null,
          null,
          null,
          71.96528698651856,
          40.64158700159347,
          null,
          null,
          null,
          null,
          null,
          null,
          null,
          null,
          null,
          null,
          null,
          null,
          null,
          null,
          null,
          null,
          null,
          null,
          null,
          null,
          null,
          null,
          null,
          null,
          null,
          null,
          null,
          null,
          null,
          null,
          null,
          null,
          null,
          null,
          null,
          null,
          null,
          null,
          null,
          null,
          null,
          null,
          null,
          null,
          null,
          null,
          null,
          null,
          null,
          null,
          null,
          null,
          null,
          null,
          null,
          95.6329111264212,
          151.238933456672,
          92.50980165938827,
          132.434589023568,
          83.0961722822721
         ],
         "yaxis": "y2"
        },
        {
         "boxpoints": "all",
         "fillcolor": "forestgreen",
         "hovertemplate": "%{text}",
         "jitter": 0.5,
         "line": {
          "color": "black",
          "width": 0.5
         },
         "marker": {
          "color": "black",
          "size": 3
         },
         "name": "BRA",
         "pointpos": -1.8,
         "showlegend": false,
         "text": [
          "BRA<br>CCS in 2030: 21.3<br>AIM/CGE 2.1|CD-LINKS_NPi2020_400",
          "BRA<br>CCS in 2030: 21.3<br>AIM/CGE 2.2|EN_NPi2020_300f",
          "BRA<br>CCS in 2030: 50.0<br>AIM/CGE 2.2|EN_NPi2020_600",
          "BRA<br>CCS in 2030: 504.3<br>AIM/Hub-Global 2.0|1.5C",
          "BRA<br>CCS in 2030: 348.8<br>C-ROADS-5.005|Ratchet-1.5-limCDR-noOS",
          "BRA<br>CCS in 2030: 204.6<br>C-ROADS-5.005|Ratchet-1.5-noCDR",
          "BRA<br>CCS in 2030: 156.2<br>C-ROADS-5.005|Ratchet-1.5-noCDR-noOS",
          "BRA<br>CCS in 2030: 133.2<br>COFFEE 1.1|EN_NPi2020_400",
          "BRA<br>CCS in 2030: 0.0<br>GCAM 4.2|SSP1-19",
          "BRA<br>CCS in 2030: 0.0<br>GCAM 5.3|R_MAC_30_n0",
          "BRA<br>CCS in 2030: 86.8<br>GCAM 5.3|R_MAC_35_n8",
          "BRA<br>CCS in 2030: 129.4<br>GCAM 5.3|R_MAC_40_n8",
          "BRA<br>CCS in 2030: 86.0<br>GCAM 5.3|R_MAC_45_n8",
          "BRA<br>CCS in 2030: 189.6<br>GCAM 5.3|R_MAC_50_n8",
          "BRA<br>CCS in 2030: 167.6<br>GEM-E3_V2021|EN_NPi2020_500",
          "BRA<br>CCS in 2030: 176.8<br>GEM-E3_V2021|EN_NPi2020_600_COV",
          "BRA<br>CCS in 2030: 0.0<br>IMAGE 3.2|SSP1_SPA1_19I_D_LB",
          "BRA<br>CCS in 2030: nan<br>IMAGE 3.2|SSP1_SPA1_19I_LIRE_LB",
          "BRA<br>CCS in 2030: nan<br>IMAGE 3.2|SSP1_SPA1_19I_RE_LB",
          "BRA<br>CCS in 2030: nan<br>IMAGE 3.2|SSP2_SPA1_19I_D_LB",
          "BRA<br>CCS in 2030: nan<br>IMAGE 3.2|SSP2_SPA1_19I_LIRE_LB",
          "BRA<br>CCS in 2030: nan<br>IMAGE 3.2|SSP2_SPA1_19I_RE_LB",
          "BRA<br>CCS in 2030: nan<br>IMAGE 3.2|SSP2_SPA2_19I_LI",
          "BRA<br>CCS in 2030: nan<br>MESSAGE-GLOBIOM 1.0|ADVANCE_2020_1.5C-2100",
          "BRA<br>CCS in 2030: nan<br>MESSAGE-GLOBIOM 1.0|EMF33_1.5C_cost100",
          "BRA<br>CCS in 2030: nan<br>MESSAGE-GLOBIOM 1.0|EMF33_1.5C_full",
          "BRA<br>CCS in 2030: nan<br>MESSAGE-GLOBIOM 1.0|SSP2-19",
          "BRA<br>CCS in 2030: nan<br>MESSAGEix-GLOBIOM 1.0|CD-LINKS_NPi2020_400",
          "BRA<br>CCS in 2030: nan<br>MESSAGEix-GLOBIOM 1.0|LowEnergyDemand_1.3_IPCC",
          "BRA<br>CCS in 2030: nan<br>MESSAGEix-GLOBIOM_1.1|EN_NPi2020_450",
          "BRA<br>CCS in 2030: nan<br>MESSAGEix-GLOBIOM_1.1|EN_NPi2020_500",
          "BRA<br>CCS in 2030: nan<br>MESSAGEix-GLOBIOM_1.1|NGFS2_Divergent Net Zero Policies",
          "BRA<br>CCS in 2030: nan<br>MESSAGEix-GLOBIOM_1.1|NGFS2_Net-Zero 2050",
          "BRA<br>CCS in 2030: nan<br>MESSAGEix-GLOBIOM_1.1|EN_NPi2020_600_COV",
          "BRA<br>CCS in 2030: nan<br>MESSAGEix-GLOBIOM_1.1|EN_NPi2020_600_DR4p",
          "BRA<br>CCS in 2030: nan<br>MESSAGEix-GLOBIOM_1.1|EN_NPi2020_600_DR3p",
          "BRA<br>CCS in 2030: nan<br>MESSAGEix-GLOBIOM_1.1|EN_NPi2020_600_DR2p",
          "BRA<br>CCS in 2030: nan<br>MESSAGEix-GLOBIOM_1.1|EN_NPi2020_600_DR1p",
          "BRA<br>CCS in 2030: nan<br>MESSAGEix-GLOBIOM_1.2|COV_GreenPush_550",
          "BRA<br>CCS in 2030: nan<br>MESSAGEix-GLOBIOM_1.2|COV_NoPolicyNoCOVID_550",
          "BRA<br>CCS in 2030: nan<br>MESSAGEix-GLOBIOM_1.2|COV_Restore_550",
          "BRA<br>CCS in 2030: nan<br>MESSAGEix-GLOBIOM_1.2|COV_SelfReliance_550",
          "BRA<br>CCS in 2030: nan<br>MESSAGEix-GLOBIOM_1.2|COV_SmartUse_550",
          "BRA<br>CCS in 2030: nan<br>POLES ADVANCE|ADVANCE_2020_1.5C-2100",
          "BRA<br>CCS in 2030: nan<br>POLES EMF33|EMF33_WB2C_cost100",
          "BRA<br>CCS in 2030: nan<br>POLES EMF33|EMF33_WB2C_full",
          "BRA<br>CCS in 2030: nan<br>POLES EMF33|EMF33_WB2C_nofuel",
          "BRA<br>CCS in 2030: nan<br>REMIND 1.7|ADVANCE_2020_1.5C-2100",
          "BRA<br>CCS in 2030: nan<br>REMIND 1.7|CEMICS-1.5-CDR12",
          "BRA<br>CCS in 2030: nan<br>REMIND 1.7|CEMICS-1.5-CDR20",
          "BRA<br>CCS in 2030: nan<br>REMIND 1.7|CEMICS-1.5-CDR8",
          "BRA<br>CCS in 2030: nan<br>REMIND 1.7|CEMICS-2.0-CDR8",
          "BRA<br>CCS in 2030: nan<br>REMIND 2.1|CEMICS_GDPgrowth_1p5",
          "BRA<br>CCS in 2030: nan<br>REMIND 2.1|CEMICS_HotellingConst_1p5",
          "BRA<br>CCS in 2030: nan<br>REMIND 2.1|CEMICS_Linear_1p5",
          "BRA<br>CCS in 2030: nan<br>REMIND 2.1|CEMICS_opt_1p5",
          "BRA<br>CCS in 2030: nan<br>REMIND 2.1|LeastTotalCost_LTC_brkLR15_SSP1_P50",
          "BRA<br>CCS in 2030: nan<br>REMIND 2.1|R2p1_SSP1-PkBudg900",
          "BRA<br>CCS in 2030: nan<br>REMIND 2.1|R2p1_SSP2-PkBudg900",
          "BRA<br>CCS in 2030: nan<br>REMIND 2.1|R2p1_SSP5-PkBudg900",
          "BRA<br>CCS in 2030: nan<br>REMIND-MAgPIE 1.5|SSP2-19",
          "BRA<br>CCS in 2030: nan<br>REMIND-MAgPIE 1.7-3.0|CD-LINKS_NPi2020_400",
          "BRA<br>CCS in 2030: nan<br>REMIND-MAgPIE 1.7-3.0|EMF33_1.5C_nofuel",
          "BRA<br>CCS in 2030: nan<br>REMIND-MAgPIE 1.7-3.0|PEP_1p5C_full_eff",
          "BRA<br>CCS in 2030: nan<br>REMIND-MAgPIE 1.7-3.0|PEP_1p5C_red_eff",
          "BRA<br>CCS in 2030: 0.0<br>REMIND-MAgPIE 1.7-3.0|PEP_2C_red_eff",
          "BRA<br>CCS in 2030: 21.5<br>REMIND-MAgPIE 1.7-3.0|SMP_2C_lifesty",
          "BRA<br>CCS in 2030: 0.0<br>REMIND-MAgPIE 2.1-4.2|CEMICS_SSP1-1p5C-fullCDR",
          "BRA<br>CCS in 2030: 21.8<br>REMIND-MAgPIE 2.1-4.2|CEMICS_SSP1-1p5C-minCDR",
          "BRA<br>CCS in 2030: 0.0<br>REMIND-MAgPIE 2.1-4.2|CEMICS_SSP2-1p5C-fullCDR"
         ],
         "type": "box",
         "whiskerwidth": 0.2,
         "xaxis": "x3",
         "y": [
          21.3041,
          21.3041,
          49.998931,
          504.250218200925,
          348.808783025172,
          204.613626792904,
          156.228862322289,
          133.174312948755,
          0.0009209222489783,
          0.0008416358615791,
          86.84830971774103,
          129.4422481947596,
          86.01854655043829,
          189.6141371862113,
          167.6284087159324,
          176.8206942327569,
          0,
          null,
          null,
          null,
          null,
          null,
          null,
          null,
          null,
          null,
          null,
          null,
          null,
          null,
          null,
          null,
          null,
          null,
          null,
          null,
          null,
          null,
          null,
          null,
          null,
          null,
          null,
          null,
          null,
          null,
          null,
          null,
          null,
          null,
          null,
          null,
          null,
          null,
          null,
          null,
          null,
          null,
          null,
          null,
          null,
          null,
          null,
          null,
          null,
          0.0004038559185324,
          21.4648547362546,
          0.0004038559185324,
          21.8333979005257,
          0.0004038559185324
         ],
         "yaxis": "y3"
        },
        {
         "boxpoints": "all",
         "fillcolor": "forestgreen",
         "hovertemplate": "%{text}",
         "jitter": 0.5,
         "line": {
          "color": "black",
          "width": 0.5
         },
         "marker": {
          "color": "black",
          "size": 3
         },
         "name": "BRA",
         "pointpos": -1.8,
         "showlegend": false,
         "text": [
          "BRA<br>Primary biomass traded in 2030: 0.0<br>AIM/CGE 2.1|CD-LINKS_NPi2020_400",
          "BRA<br>Primary biomass traded in 2030: 0.0<br>AIM/CGE 2.2|EN_NPi2020_300f",
          "BRA<br>Primary biomass traded in 2030: 0.0<br>AIM/CGE 2.2|EN_NPi2020_600",
          "BRA<br>Primary biomass traded in 2030: nan<br>AIM/Hub-Global 2.0|1.5C",
          "BRA<br>Primary biomass traded in 2030: nan<br>C-ROADS-5.005|Ratchet-1.5-limCDR-noOS",
          "BRA<br>Primary biomass traded in 2030: nan<br>C-ROADS-5.005|Ratchet-1.5-noCDR",
          "BRA<br>Primary biomass traded in 2030: nan<br>C-ROADS-5.005|Ratchet-1.5-noCDR-noOS",
          "BRA<br>Primary biomass traded in 2030: nan<br>COFFEE 1.1|EN_NPi2020_400",
          "BRA<br>Primary biomass traded in 2030: nan<br>GCAM 4.2|SSP1-19",
          "BRA<br>Primary biomass traded in 2030: nan<br>GCAM 5.3|R_MAC_30_n0",
          "BRA<br>Primary biomass traded in 2030: 0.8<br>GCAM 5.3|R_MAC_35_n8",
          "BRA<br>Primary biomass traded in 2030: 1.4<br>GCAM 5.3|R_MAC_40_n8",
          "BRA<br>Primary biomass traded in 2030: 0.8<br>GCAM 5.3|R_MAC_45_n8",
          "BRA<br>Primary biomass traded in 2030: 2.2<br>GCAM 5.3|R_MAC_50_n8",
          "BRA<br>Primary biomass traded in 2030: 2.0<br>GEM-E3_V2021|EN_NPi2020_500",
          "BRA<br>Primary biomass traded in 2030: 2.0<br>GEM-E3_V2021|EN_NPi2020_600_COV",
          "BRA<br>Primary biomass traded in 2030: 2.2<br>IMAGE 3.2|SSP1_SPA1_19I_D_LB",
          "BRA<br>Primary biomass traded in 2030: nan<br>IMAGE 3.2|SSP1_SPA1_19I_LIRE_LB",
          "BRA<br>Primary biomass traded in 2030: nan<br>IMAGE 3.2|SSP1_SPA1_19I_RE_LB",
          "BRA<br>Primary biomass traded in 2030: nan<br>IMAGE 3.2|SSP2_SPA1_19I_D_LB",
          "BRA<br>Primary biomass traded in 2030: nan<br>IMAGE 3.2|SSP2_SPA1_19I_LIRE_LB",
          "BRA<br>Primary biomass traded in 2030: nan<br>IMAGE 3.2|SSP2_SPA1_19I_RE_LB",
          "BRA<br>Primary biomass traded in 2030: nan<br>IMAGE 3.2|SSP2_SPA2_19I_LI",
          "BRA<br>Primary biomass traded in 2030: nan<br>MESSAGE-GLOBIOM 1.0|ADVANCE_2020_1.5C-2100",
          "BRA<br>Primary biomass traded in 2030: nan<br>MESSAGE-GLOBIOM 1.0|EMF33_1.5C_cost100",
          "BRA<br>Primary biomass traded in 2030: nan<br>MESSAGE-GLOBIOM 1.0|EMF33_1.5C_full",
          "BRA<br>Primary biomass traded in 2030: nan<br>MESSAGE-GLOBIOM 1.0|SSP2-19",
          "BRA<br>Primary biomass traded in 2030: nan<br>MESSAGEix-GLOBIOM 1.0|CD-LINKS_NPi2020_400",
          "BRA<br>Primary biomass traded in 2030: nan<br>MESSAGEix-GLOBIOM 1.0|LowEnergyDemand_1.3_IPCC",
          "BRA<br>Primary biomass traded in 2030: nan<br>MESSAGEix-GLOBIOM_1.1|EN_NPi2020_450",
          "BRA<br>Primary biomass traded in 2030: nan<br>MESSAGEix-GLOBIOM_1.1|EN_NPi2020_500",
          "BRA<br>Primary biomass traded in 2030: nan<br>MESSAGEix-GLOBIOM_1.1|NGFS2_Divergent Net Zero Policies",
          "BRA<br>Primary biomass traded in 2030: nan<br>MESSAGEix-GLOBIOM_1.1|NGFS2_Net-Zero 2050",
          "BRA<br>Primary biomass traded in 2030: nan<br>MESSAGEix-GLOBIOM_1.1|EN_NPi2020_600_COV",
          "BRA<br>Primary biomass traded in 2030: nan<br>MESSAGEix-GLOBIOM_1.1|EN_NPi2020_600_DR4p",
          "BRA<br>Primary biomass traded in 2030: nan<br>MESSAGEix-GLOBIOM_1.1|EN_NPi2020_600_DR3p",
          "BRA<br>Primary biomass traded in 2030: nan<br>MESSAGEix-GLOBIOM_1.1|EN_NPi2020_600_DR2p",
          "BRA<br>Primary biomass traded in 2030: nan<br>MESSAGEix-GLOBIOM_1.1|EN_NPi2020_600_DR1p",
          "BRA<br>Primary biomass traded in 2030: nan<br>MESSAGEix-GLOBIOM_1.2|COV_GreenPush_550",
          "BRA<br>Primary biomass traded in 2030: nan<br>MESSAGEix-GLOBIOM_1.2|COV_NoPolicyNoCOVID_550",
          "BRA<br>Primary biomass traded in 2030: nan<br>MESSAGEix-GLOBIOM_1.2|COV_Restore_550",
          "BRA<br>Primary biomass traded in 2030: nan<br>MESSAGEix-GLOBIOM_1.2|COV_SelfReliance_550",
          "BRA<br>Primary biomass traded in 2030: nan<br>MESSAGEix-GLOBIOM_1.2|COV_SmartUse_550",
          "BRA<br>Primary biomass traded in 2030: nan<br>POLES ADVANCE|ADVANCE_2020_1.5C-2100",
          "BRA<br>Primary biomass traded in 2030: nan<br>POLES EMF33|EMF33_WB2C_cost100",
          "BRA<br>Primary biomass traded in 2030: nan<br>POLES EMF33|EMF33_WB2C_full",
          "BRA<br>Primary biomass traded in 2030: nan<br>POLES EMF33|EMF33_WB2C_nofuel",
          "BRA<br>Primary biomass traded in 2030: nan<br>REMIND 1.7|ADVANCE_2020_1.5C-2100",
          "BRA<br>Primary biomass traded in 2030: nan<br>REMIND 1.7|CEMICS-1.5-CDR12",
          "BRA<br>Primary biomass traded in 2030: nan<br>REMIND 1.7|CEMICS-1.5-CDR20",
          "BRA<br>Primary biomass traded in 2030: nan<br>REMIND 1.7|CEMICS-1.5-CDR8",
          "BRA<br>Primary biomass traded in 2030: nan<br>REMIND 1.7|CEMICS-2.0-CDR8",
          "BRA<br>Primary biomass traded in 2030: nan<br>REMIND 2.1|CEMICS_GDPgrowth_1p5",
          "BRA<br>Primary biomass traded in 2030: nan<br>REMIND 2.1|CEMICS_HotellingConst_1p5",
          "BRA<br>Primary biomass traded in 2030: nan<br>REMIND 2.1|CEMICS_Linear_1p5",
          "BRA<br>Primary biomass traded in 2030: nan<br>REMIND 2.1|CEMICS_opt_1p5",
          "BRA<br>Primary biomass traded in 2030: nan<br>REMIND 2.1|LeastTotalCost_LTC_brkLR15_SSP1_P50",
          "BRA<br>Primary biomass traded in 2030: nan<br>REMIND 2.1|R2p1_SSP1-PkBudg900",
          "BRA<br>Primary biomass traded in 2030: nan<br>REMIND 2.1|R2p1_SSP2-PkBudg900",
          "BRA<br>Primary biomass traded in 2030: nan<br>REMIND 2.1|R2p1_SSP5-PkBudg900",
          "BRA<br>Primary biomass traded in 2030: nan<br>REMIND-MAgPIE 1.5|SSP2-19",
          "BRA<br>Primary biomass traded in 2030: nan<br>REMIND-MAgPIE 1.7-3.0|CD-LINKS_NPi2020_400",
          "BRA<br>Primary biomass traded in 2030: nan<br>REMIND-MAgPIE 1.7-3.0|EMF33_1.5C_nofuel",
          "BRA<br>Primary biomass traded in 2030: nan<br>REMIND-MAgPIE 1.7-3.0|PEP_1p5C_full_eff",
          "BRA<br>Primary biomass traded in 2030: nan<br>REMIND-MAgPIE 1.7-3.0|PEP_1p5C_red_eff",
          "BRA<br>Primary biomass traded in 2030: nan<br>REMIND-MAgPIE 1.7-3.0|PEP_2C_red_eff",
          "BRA<br>Primary biomass traded in 2030: nan<br>REMIND-MAgPIE 1.7-3.0|SMP_2C_lifesty",
          "BRA<br>Primary biomass traded in 2030: nan<br>REMIND-MAgPIE 2.1-4.2|CEMICS_SSP1-1p5C-fullCDR",
          "BRA<br>Primary biomass traded in 2030: nan<br>REMIND-MAgPIE 2.1-4.2|CEMICS_SSP1-1p5C-minCDR",
          "BRA<br>Primary biomass traded in 2030: nan<br>REMIND-MAgPIE 2.1-4.2|CEMICS_SSP2-1p5C-fullCDR"
         ],
         "type": "box",
         "whiskerwidth": 0.2,
         "xaxis": "x4",
         "y": [
          0.0197,
          0.0197,
          0,
          null,
          null,
          null,
          null,
          null,
          null,
          null,
          0.80591259765625,
          1.40747802734375,
          0.79807177734375,
          2.153375,
          2.01868798828125,
          1.976052001953125,
          2.18106591796875,
          null,
          null,
          null,
          null,
          null,
          null,
          null,
          null,
          null,
          null,
          null,
          null,
          null,
          null,
          null,
          null,
          null,
          null,
          null,
          null,
          null,
          null,
          null,
          null,
          null,
          null,
          null,
          null,
          null,
          null,
          null,
          null,
          null,
          null,
          null,
          null,
          null,
          null,
          null,
          null,
          null,
          null,
          null,
          null,
          null,
          null,
          null,
          null,
          null,
          null,
          null,
          null,
          null
         ],
         "yaxis": "y4"
        },
        {
         "boxpoints": "all",
         "fillcolor": "tomato",
         "hovertemplate": "%{text}",
         "jitter": 0.5,
         "line": {
          "color": "black",
          "width": 0.5
         },
         "marker": {
          "color": "black",
          "size": 3
         },
         "name": "USA",
         "pointpos": -1.8,
         "showlegend": false,
         "text": [
          "USA<br>GHG emission reduction in 2030: 0.4<br>AIM/CGE 2.1|CD-LINKS_NPi2020_400",
          "USA<br>GHG emission reduction in 2030: 0.4<br>AIM/CGE 2.2|EN_NPi2020_300f",
          "USA<br>GHG emission reduction in 2030: 0.4<br>AIM/CGE 2.2|EN_NPi2020_600",
          "USA<br>GHG emission reduction in 2030: 0.8<br>AIM/Hub-Global 2.0|1.5C",
          "USA<br>GHG emission reduction in 2030: 0.6<br>C-ROADS-5.005|Ratchet-1.5-limCDR-noOS",
          "USA<br>GHG emission reduction in 2030: 0.4<br>C-ROADS-5.005|Ratchet-1.5-noCDR",
          "USA<br>GHG emission reduction in 2030: 0.3<br>C-ROADS-5.005|Ratchet-1.5-noCDR-noOS",
          "USA<br>GHG emission reduction in 2030: 0.3<br>COFFEE 1.1|EN_NPi2020_400",
          "USA<br>GHG emission reduction in 2030: 0.5<br>GCAM 4.2|SSP1-19",
          "USA<br>GHG emission reduction in 2030: 0.4<br>GCAM 5.3|R_MAC_30_n0",
          "USA<br>GHG emission reduction in 2030: 0.4<br>GCAM 5.3|R_MAC_35_n8",
          "USA<br>GHG emission reduction in 2030: 0.5<br>GCAM 5.3|R_MAC_40_n8",
          "USA<br>GHG emission reduction in 2030: 0.4<br>GCAM 5.3|R_MAC_45_n8",
          "USA<br>GHG emission reduction in 2030: 0.4<br>GCAM 5.3|R_MAC_50_n8",
          "USA<br>GHG emission reduction in 2030: 0.5<br>GEM-E3_V2021|EN_NPi2020_500",
          "USA<br>GHG emission reduction in 2030: 0.3<br>GEM-E3_V2021|EN_NPi2020_600_COV",
          "USA<br>GHG emission reduction in 2030: 0.3<br>IMAGE 3.2|SSP1_SPA1_19I_D_LB",
          "USA<br>GHG emission reduction in 2030: 0.6<br>IMAGE 3.2|SSP1_SPA1_19I_LIRE_LB",
          "USA<br>GHG emission reduction in 2030: 0.5<br>IMAGE 3.2|SSP1_SPA1_19I_RE_LB",
          "USA<br>GHG emission reduction in 2030: 0.4<br>IMAGE 3.2|SSP2_SPA1_19I_D_LB",
          "USA<br>GHG emission reduction in 2030: 0.5<br>IMAGE 3.2|SSP2_SPA1_19I_LIRE_LB",
          "USA<br>GHG emission reduction in 2030: 0.5<br>IMAGE 3.2|SSP2_SPA1_19I_RE_LB",
          "USA<br>GHG emission reduction in 2030: 0.5<br>IMAGE 3.2|SSP2_SPA2_19I_LI",
          "USA<br>GHG emission reduction in 2030: 0.5<br>MESSAGE-GLOBIOM 1.0|ADVANCE_2020_1.5C-2100",
          "USA<br>GHG emission reduction in 2030: 0.5<br>MESSAGE-GLOBIOM 1.0|EMF33_1.5C_cost100",
          "USA<br>GHG emission reduction in 2030: 0.5<br>MESSAGE-GLOBIOM 1.0|EMF33_1.5C_full",
          "USA<br>GHG emission reduction in 2030: 0.5<br>MESSAGE-GLOBIOM 1.0|SSP2-19",
          "USA<br>GHG emission reduction in 2030: 0.5<br>MESSAGEix-GLOBIOM 1.0|CD-LINKS_NPi2020_400",
          "USA<br>GHG emission reduction in 2030: 0.5<br>MESSAGEix-GLOBIOM 1.0|LowEnergyDemand_1.3_IPCC",
          "USA<br>GHG emission reduction in 2030: 0.4<br>MESSAGEix-GLOBIOM_1.1|EN_NPi2020_450",
          "USA<br>GHG emission reduction in 2030: 0.5<br>MESSAGEix-GLOBIOM_1.1|EN_NPi2020_500",
          "USA<br>GHG emission reduction in 2030: 0.4<br>MESSAGEix-GLOBIOM_1.1|NGFS2_Divergent Net Zero Policies",
          "USA<br>GHG emission reduction in 2030: 0.4<br>MESSAGEix-GLOBIOM_1.1|NGFS2_Net-Zero 2050",
          "USA<br>GHG emission reduction in 2030: 0.4<br>MESSAGEix-GLOBIOM_1.1|EN_NPi2020_600_COV",
          "USA<br>GHG emission reduction in 2030: 0.4<br>MESSAGEix-GLOBIOM_1.1|EN_NPi2020_600_DR4p",
          "USA<br>GHG emission reduction in 2030: 0.4<br>MESSAGEix-GLOBIOM_1.1|EN_NPi2020_600_DR3p",
          "USA<br>GHG emission reduction in 2030: 0.5<br>MESSAGEix-GLOBIOM_1.1|EN_NPi2020_600_DR2p",
          "USA<br>GHG emission reduction in 2030: 0.5<br>MESSAGEix-GLOBIOM_1.1|EN_NPi2020_600_DR1p",
          "USA<br>GHG emission reduction in 2030: 0.5<br>MESSAGEix-GLOBIOM_1.2|COV_GreenPush_550",
          "USA<br>GHG emission reduction in 2030: 0.4<br>MESSAGEix-GLOBIOM_1.2|COV_NoPolicyNoCOVID_550",
          "USA<br>GHG emission reduction in 2030: nan<br>MESSAGEix-GLOBIOM_1.2|COV_Restore_550",
          "USA<br>GHG emission reduction in 2030: 0.4<br>MESSAGEix-GLOBIOM_1.2|COV_SelfReliance_550",
          "USA<br>GHG emission reduction in 2030: 0.6<br>MESSAGEix-GLOBIOM_1.2|COV_SmartUse_550",
          "USA<br>GHG emission reduction in 2030: 0.4<br>POLES ADVANCE|ADVANCE_2020_1.5C-2100",
          "USA<br>GHG emission reduction in 2030: 0.5<br>POLES EMF33|EMF33_WB2C_cost100",
          "USA<br>GHG emission reduction in 2030: 0.5<br>POLES EMF33|EMF33_WB2C_full",
          "USA<br>GHG emission reduction in 2030: 0.5<br>POLES EMF33|EMF33_WB2C_nofuel",
          "USA<br>GHG emission reduction in 2030: 0.5<br>REMIND 1.7|ADVANCE_2020_1.5C-2100",
          "USA<br>GHG emission reduction in 2030: 0.4<br>REMIND 1.7|CEMICS-1.5-CDR12",
          "USA<br>GHG emission reduction in 2030: 0.4<br>REMIND 1.7|CEMICS-1.5-CDR20",
          "USA<br>GHG emission reduction in 2030: 0.6<br>REMIND 1.7|CEMICS-1.5-CDR8",
          "USA<br>GHG emission reduction in 2030: 0.4<br>REMIND 1.7|CEMICS-2.0-CDR8",
          "USA<br>GHG emission reduction in 2030: 0.5<br>REMIND 2.1|CEMICS_GDPgrowth_1p5",
          "USA<br>GHG emission reduction in 2030: 0.5<br>REMIND 2.1|CEMICS_HotellingConst_1p5",
          "USA<br>GHG emission reduction in 2030: 0.5<br>REMIND 2.1|CEMICS_Linear_1p5",
          "USA<br>GHG emission reduction in 2030: 0.4<br>REMIND 2.1|CEMICS_opt_1p5",
          "USA<br>GHG emission reduction in 2030: 0.6<br>REMIND 2.1|LeastTotalCost_LTC_brkLR15_SSP1_P50",
          "USA<br>GHG emission reduction in 2030: 0.6<br>REMIND 2.1|R2p1_SSP1-PkBudg900",
          "USA<br>GHG emission reduction in 2030: 0.6<br>REMIND 2.1|R2p1_SSP2-PkBudg900",
          "USA<br>GHG emission reduction in 2030: 0.6<br>REMIND 2.1|R2p1_SSP5-PkBudg900",
          "USA<br>GHG emission reduction in 2030: 0.5<br>REMIND-MAgPIE 1.5|SSP2-19",
          "USA<br>GHG emission reduction in 2030: 0.5<br>REMIND-MAgPIE 1.7-3.0|CD-LINKS_NPi2020_400",
          "USA<br>GHG emission reduction in 2030: 0.5<br>REMIND-MAgPIE 1.7-3.0|EMF33_1.5C_nofuel",
          "USA<br>GHG emission reduction in 2030: 0.6<br>REMIND-MAgPIE 1.7-3.0|PEP_1p5C_full_eff",
          "USA<br>GHG emission reduction in 2030: 0.5<br>REMIND-MAgPIE 1.7-3.0|PEP_1p5C_red_eff",
          "USA<br>GHG emission reduction in 2030: 0.6<br>REMIND-MAgPIE 1.7-3.0|PEP_2C_red_eff",
          "USA<br>GHG emission reduction in 2030: 0.6<br>REMIND-MAgPIE 1.7-3.0|SMP_2C_lifesty",
          "USA<br>GHG emission reduction in 2030: 0.6<br>REMIND-MAgPIE 2.1-4.2|CEMICS_SSP1-1p5C-fullCDR",
          "USA<br>GHG emission reduction in 2030: 0.6<br>REMIND-MAgPIE 2.1-4.2|CEMICS_SSP1-1p5C-minCDR",
          "USA<br>GHG emission reduction in 2030: 0.6<br>REMIND-MAgPIE 2.1-4.2|CEMICS_SSP2-1p5C-fullCDR"
         ],
         "type": "box",
         "whiskerwidth": 0.2,
         "xaxis": "x",
         "y": [
          0.3958390214728461,
          0.3958390214728461,
          0.41452458953150695,
          0.7708069717404987,
          0.5630913575485434,
          0.41566420627354683,
          0.33201639256844856,
          0.27398544146526455,
          0.45140132523951704,
          0.3507658872331082,
          0.4221574235704237,
          0.4668294185310113,
          0.37921094300477304,
          0.3662693837845625,
          0.48116278068839624,
          0.340589565672397,
          0.34323546776086145,
          0.5634093445343387,
          0.517608768212204,
          0.3960710471705146,
          0.488121557337713,
          0.4709765307754642,
          0.4626023560979437,
          0.4583727174799775,
          0.46557927910728025,
          0.48715402822578724,
          0.4728996577848908,
          0.5082298497890341,
          0.46404093522417555,
          0.44618137456940715,
          0.46511125409651466,
          0.4048647177263023,
          0.40779124199230493,
          0.4270934659985484,
          0.4224774738520028,
          0.42267107573157464,
          0.5271065004825444,
          0.5037525947837567,
          0.48795103735547624,
          0.42326762463906803,
          null,
          0.4344305740379914,
          0.6331843529761336,
          0.4370812999560691,
          0.49757036519918185,
          0.5299630846265918,
          0.45265271581565647,
          0.5174151014094353,
          0.4431844618924172,
          0.43722822351815044,
          0.5950745986164698,
          0.4285856592556738,
          0.5028414028914817,
          0.4518990261921273,
          0.45850928407220864,
          0.3962999167825233,
          0.5737725215195698,
          0.5702084264283188,
          0.5755247569538399,
          0.5780211497631236,
          0.5439390405086216,
          0.5189086755024133,
          0.4940086722941758,
          0.585042897216596,
          0.5309699174611481,
          0.6145740920679222,
          0.6493499598770065,
          0.6069881413153918,
          0.6183649686726632,
          0.5936908359413893
         ],
         "yaxis": "y"
        },
        {
         "marker": {
          "color": "tomato",
          "colorscale": [
           [
            0,
            "rgb(158,1,66)"
           ],
           [
            0.1,
            "rgb(213,62,79)"
           ],
           [
            0.2,
            "rgb(244,109,67)"
           ],
           [
            0.3,
            "rgb(253,174,97)"
           ],
           [
            0.4,
            "rgb(254,224,139)"
           ],
           [
            0.5,
            "rgb(255,255,191)"
           ],
           [
            0.6,
            "rgb(230,245,152)"
           ],
           [
            0.7,
            "rgb(171,221,164)"
           ],
           [
            0.8,
            "rgb(102,194,165)"
           ],
           [
            0.9,
            "rgb(50,136,189)"
           ],
           [
            1,
            "rgb(94,79,162)"
           ]
          ],
          "line": {
           "color": "black",
           "width": 0.2
          },
          "size": 25,
          "symbol": "circle"
         },
         "mode": "markers+text",
         "showlegend": false,
         "text": "GF",
         "textfont": {
          "color": "black",
          "family": "Arial black",
          "size": 13
         },
         "type": "scatter",
         "x": [
          "USA"
         ],
         "xaxis": "x",
         "y": [
          0.43580516383203965
         ],
         "yaxis": "y"
        },
        {
         "marker": {
          "color": "tomato",
          "colorscale": [
           [
            0,
            "rgb(158,1,66)"
           ],
           [
            0.1,
            "rgb(213,62,79)"
           ],
           [
            0.2,
            "rgb(244,109,67)"
           ],
           [
            0.3,
            "rgb(253,174,97)"
           ],
           [
            0.4,
            "rgb(254,224,139)"
           ],
           [
            0.5,
            "rgb(255,255,191)"
           ],
           [
            0.6,
            "rgb(230,245,152)"
           ],
           [
            0.7,
            "rgb(171,221,164)"
           ],
           [
            0.8,
            "rgb(102,194,165)"
           ],
           [
            0.9,
            "rgb(50,136,189)"
           ],
           [
            1,
            "rgb(94,79,162)"
           ]
          ],
          "line": {
           "color": "black",
           "width": 0.2
          },
          "size": 25,
          "symbol": "square"
         },
         "mode": "markers+text",
         "showlegend": false,
         "text": "PC",
         "textfont": {
          "color": "black",
          "family": "Arial black",
          "size": 13
         },
         "type": "scatter",
         "x": [
          "USA"
         ],
         "xaxis": "x",
         "y": [
          0.8182716982899814
         ],
         "yaxis": "y"
        },
        {
         "marker": {
          "color": "tomato",
          "colorscale": [
           [
            0,
            "rgb(158,1,66)"
           ],
           [
            0.1,
            "rgb(213,62,79)"
           ],
           [
            0.2,
            "rgb(244,109,67)"
           ],
           [
            0.3,
            "rgb(253,174,97)"
           ],
           [
            0.4,
            "rgb(254,224,139)"
           ],
           [
            0.5,
            "rgb(255,255,191)"
           ],
           [
            0.6,
            "rgb(230,245,152)"
           ],
           [
            0.7,
            "rgb(171,221,164)"
           ],
           [
            0.8,
            "rgb(102,194,165)"
           ],
           [
            0.9,
            "rgb(50,136,189)"
           ],
           [
            1,
            "rgb(94,79,162)"
           ]
          ],
          "line": {
           "color": "black",
           "width": 0.2
          },
          "size": 25,
          "symbol": "diamond"
         },
         "mode": "markers+text",
         "showlegend": false,
         "text": "PCC",
         "textfont": {
          "color": "black",
          "family": "Arial black",
          "size": 13
         },
         "type": "scatter",
         "x": [
          "USA"
         ],
         "xaxis": "x",
         "y": [
          0.6270384310610106
         ],
         "yaxis": "y"
        },
        {
         "marker": {
          "color": "tomato",
          "colorscale": [
           [
            0,
            "rgb(158,1,66)"
           ],
           [
            0.1,
            "rgb(213,62,79)"
           ],
           [
            0.2,
            "rgb(244,109,67)"
           ],
           [
            0.3,
            "rgb(253,174,97)"
           ],
           [
            0.4,
            "rgb(254,224,139)"
           ],
           [
            0.5,
            "rgb(255,255,191)"
           ],
           [
            0.6,
            "rgb(230,245,152)"
           ],
           [
            0.7,
            "rgb(171,221,164)"
           ],
           [
            0.8,
            "rgb(102,194,165)"
           ],
           [
            0.9,
            "rgb(50,136,189)"
           ],
           [
            1,
            "rgb(94,79,162)"
           ]
          ],
          "line": {
           "color": "black",
           "width": 0.2
          },
          "size": 25,
          "symbol": "triangle-up"
         },
         "mode": "markers+text",
         "showlegend": false,
         "text": "NDC",
         "textfont": {
          "color": "black",
          "family": "Arial black",
          "size": 13
         },
         "type": "scatter",
         "x": [
          "USA"
         ],
         "xaxis": "x",
         "y": [
          0.335705683263244
         ],
         "yaxis": "y"
        },
        {
         "boxpoints": "all",
         "fillcolor": "tomato",
         "hovertemplate": "%{text}",
         "jitter": 0.5,
         "line": {
          "color": "black",
          "width": 0.5
         },
         "marker": {
          "color": "black",
          "size": 3
         },
         "name": "USA",
         "pointpos": -1.8,
         "showlegend": false,
         "text": [
          "USA<br>Policy costs in 2030: 493.5<br>AIM/CGE 2.1|CD-LINKS_NPi2020_400",
          "USA<br>Policy costs in 2030: 493.5<br>AIM/CGE 2.2|EN_NPi2020_300f",
          "USA<br>Policy costs in 2030: nan<br>AIM/CGE 2.2|EN_NPi2020_600",
          "USA<br>Policy costs in 2030: nan<br>AIM/Hub-Global 2.0|1.5C",
          "USA<br>Policy costs in 2030: nan<br>C-ROADS-5.005|Ratchet-1.5-limCDR-noOS",
          "USA<br>Policy costs in 2030: nan<br>C-ROADS-5.005|Ratchet-1.5-noCDR",
          "USA<br>Policy costs in 2030: nan<br>C-ROADS-5.005|Ratchet-1.5-noCDR-noOS",
          "USA<br>Policy costs in 2030: nan<br>COFFEE 1.1|EN_NPi2020_400",
          "USA<br>Policy costs in 2030: 149.1<br>GCAM 4.2|SSP1-19",
          "USA<br>Policy costs in 2030: 97.7<br>GCAM 5.3|R_MAC_30_n0",
          "USA<br>Policy costs in 2030: nan<br>GCAM 5.3|R_MAC_35_n8",
          "USA<br>Policy costs in 2030: nan<br>GCAM 5.3|R_MAC_40_n8",
          "USA<br>Policy costs in 2030: nan<br>GCAM 5.3|R_MAC_45_n8",
          "USA<br>Policy costs in 2030: nan<br>GCAM 5.3|R_MAC_50_n8",
          "USA<br>Policy costs in 2030: nan<br>GEM-E3_V2021|EN_NPi2020_500",
          "USA<br>Policy costs in 2030: nan<br>GEM-E3_V2021|EN_NPi2020_600_COV",
          "USA<br>Policy costs in 2030: nan<br>IMAGE 3.2|SSP1_SPA1_19I_D_LB",
          "USA<br>Policy costs in 2030: 387.7<br>IMAGE 3.2|SSP1_SPA1_19I_LIRE_LB",
          "USA<br>Policy costs in 2030: 244.4<br>IMAGE 3.2|SSP1_SPA1_19I_RE_LB",
          "USA<br>Policy costs in 2030: 92.7<br>IMAGE 3.2|SSP2_SPA1_19I_D_LB",
          "USA<br>Policy costs in 2030: nan<br>IMAGE 3.2|SSP2_SPA1_19I_LIRE_LB",
          "USA<br>Policy costs in 2030: nan<br>IMAGE 3.2|SSP2_SPA1_19I_RE_LB",
          "USA<br>Policy costs in 2030: nan<br>IMAGE 3.2|SSP2_SPA2_19I_LI",
          "USA<br>Policy costs in 2030: nan<br>MESSAGE-GLOBIOM 1.0|ADVANCE_2020_1.5C-2100",
          "USA<br>Policy costs in 2030: nan<br>MESSAGE-GLOBIOM 1.0|EMF33_1.5C_cost100",
          "USA<br>Policy costs in 2030: nan<br>MESSAGE-GLOBIOM 1.0|EMF33_1.5C_full",
          "USA<br>Policy costs in 2030: nan<br>MESSAGE-GLOBIOM 1.0|SSP2-19",
          "USA<br>Policy costs in 2030: nan<br>MESSAGEix-GLOBIOM 1.0|CD-LINKS_NPi2020_400",
          "USA<br>Policy costs in 2030: nan<br>MESSAGEix-GLOBIOM 1.0|LowEnergyDemand_1.3_IPCC",
          "USA<br>Policy costs in 2030: nan<br>MESSAGEix-GLOBIOM_1.1|EN_NPi2020_450",
          "USA<br>Policy costs in 2030: nan<br>MESSAGEix-GLOBIOM_1.1|EN_NPi2020_500",
          "USA<br>Policy costs in 2030: nan<br>MESSAGEix-GLOBIOM_1.1|NGFS2_Divergent Net Zero Policies",
          "USA<br>Policy costs in 2030: nan<br>MESSAGEix-GLOBIOM_1.1|NGFS2_Net-Zero 2050",
          "USA<br>Policy costs in 2030: nan<br>MESSAGEix-GLOBIOM_1.1|EN_NPi2020_600_COV",
          "USA<br>Policy costs in 2030: nan<br>MESSAGEix-GLOBIOM_1.1|EN_NPi2020_600_DR4p",
          "USA<br>Policy costs in 2030: nan<br>MESSAGEix-GLOBIOM_1.1|EN_NPi2020_600_DR3p",
          "USA<br>Policy costs in 2030: nan<br>MESSAGEix-GLOBIOM_1.1|EN_NPi2020_600_DR2p",
          "USA<br>Policy costs in 2030: nan<br>MESSAGEix-GLOBIOM_1.1|EN_NPi2020_600_DR1p",
          "USA<br>Policy costs in 2030: nan<br>MESSAGEix-GLOBIOM_1.2|COV_GreenPush_550",
          "USA<br>Policy costs in 2030: 133.0<br>MESSAGEix-GLOBIOM_1.2|COV_NoPolicyNoCOVID_550",
          "USA<br>Policy costs in 2030: nan<br>MESSAGEix-GLOBIOM_1.2|COV_Restore_550",
          "USA<br>Policy costs in 2030: 226.5<br>MESSAGEix-GLOBIOM_1.2|COV_SelfReliance_550",
          "USA<br>Policy costs in 2030: 16.7<br>MESSAGEix-GLOBIOM_1.2|COV_SmartUse_550",
          "USA<br>Policy costs in 2030: 251.9<br>POLES ADVANCE|ADVANCE_2020_1.5C-2100",
          "USA<br>Policy costs in 2030: nan<br>POLES EMF33|EMF33_WB2C_cost100",
          "USA<br>Policy costs in 2030: nan<br>POLES EMF33|EMF33_WB2C_full",
          "USA<br>Policy costs in 2030: nan<br>POLES EMF33|EMF33_WB2C_nofuel",
          "USA<br>Policy costs in 2030: nan<br>REMIND 1.7|ADVANCE_2020_1.5C-2100",
          "USA<br>Policy costs in 2030: nan<br>REMIND 1.7|CEMICS-1.5-CDR12",
          "USA<br>Policy costs in 2030: nan<br>REMIND 1.7|CEMICS-1.5-CDR20",
          "USA<br>Policy costs in 2030: nan<br>REMIND 1.7|CEMICS-1.5-CDR8",
          "USA<br>Policy costs in 2030: nan<br>REMIND 1.7|CEMICS-2.0-CDR8",
          "USA<br>Policy costs in 2030: nan<br>REMIND 2.1|CEMICS_GDPgrowth_1p5",
          "USA<br>Policy costs in 2030: nan<br>REMIND 2.1|CEMICS_HotellingConst_1p5",
          "USA<br>Policy costs in 2030: nan<br>REMIND 2.1|CEMICS_Linear_1p5",
          "USA<br>Policy costs in 2030: nan<br>REMIND 2.1|CEMICS_opt_1p5",
          "USA<br>Policy costs in 2030: nan<br>REMIND 2.1|LeastTotalCost_LTC_brkLR15_SSP1_P50",
          "USA<br>Policy costs in 2030: nan<br>REMIND 2.1|R2p1_SSP1-PkBudg900",
          "USA<br>Policy costs in 2030: nan<br>REMIND 2.1|R2p1_SSP2-PkBudg900",
          "USA<br>Policy costs in 2030: nan<br>REMIND 2.1|R2p1_SSP5-PkBudg900",
          "USA<br>Policy costs in 2030: nan<br>REMIND-MAgPIE 1.5|SSP2-19",
          "USA<br>Policy costs in 2030: nan<br>REMIND-MAgPIE 1.7-3.0|CD-LINKS_NPi2020_400",
          "USA<br>Policy costs in 2030: nan<br>REMIND-MAgPIE 1.7-3.0|EMF33_1.5C_nofuel",
          "USA<br>Policy costs in 2030: -522.5<br>REMIND-MAgPIE 1.7-3.0|PEP_1p5C_full_eff",
          "USA<br>Policy costs in 2030: -423.8<br>REMIND-MAgPIE 1.7-3.0|PEP_1p5C_red_eff",
          "USA<br>Policy costs in 2030: 326.1<br>REMIND-MAgPIE 1.7-3.0|PEP_2C_red_eff",
          "USA<br>Policy costs in 2030: 350.4<br>REMIND-MAgPIE 1.7-3.0|SMP_2C_lifesty",
          "USA<br>Policy costs in 2030: 320.4<br>REMIND-MAgPIE 2.1-4.2|CEMICS_SSP1-1p5C-fullCDR",
          "USA<br>Policy costs in 2030: 313.6<br>REMIND-MAgPIE 2.1-4.2|CEMICS_SSP1-1p5C-minCDR",
          "USA<br>Policy costs in 2030: 309.8<br>REMIND-MAgPIE 2.1-4.2|CEMICS_SSP2-1p5C-fullCDR"
         ],
         "type": "box",
         "whiskerwidth": 0.2,
         "xaxis": "x2",
         "y": [
          493.5473,
          493.5473,
          null,
          null,
          null,
          null,
          null,
          null,
          149.12184173362536,
          97.6597219111384,
          null,
          null,
          null,
          null,
          null,
          null,
          null,
          387.6990647462299,
          244.3702933054483,
          92.71205483326048,
          null,
          null,
          null,
          null,
          null,
          null,
          null,
          null,
          null,
          null,
          null,
          null,
          null,
          null,
          null,
          null,
          null,
          null,
          null,
          132.9648,
          null,
          226.498600000001,
          16.7085999999999,
          251.8786,
          null,
          null,
          null,
          null,
          null,
          null,
          null,
          null,
          null,
          null,
          null,
          null,
          null,
          null,
          null,
          null,
          null,
          null,
          null,
          -522.5471,
          -423.8148,
          326.052067744782,
          350.445434172089,
          320.404191452298,
          313.62400059675,
          309.845450977512
         ],
         "yaxis": "y2"
        },
        {
         "boxpoints": "all",
         "fillcolor": "tomato",
         "hovertemplate": "%{text}",
         "jitter": 0.5,
         "line": {
          "color": "black",
          "width": 0.5
         },
         "marker": {
          "color": "black",
          "size": 3
         },
         "name": "USA",
         "pointpos": -1.8,
         "showlegend": false,
         "text": [
          "USA<br>CCS in 2030: 340.1<br>AIM/CGE 2.1|CD-LINKS_NPi2020_400",
          "USA<br>CCS in 2030: 340.1<br>AIM/CGE 2.2|EN_NPi2020_300f",
          "USA<br>CCS in 2030: 100.0<br>AIM/CGE 2.2|EN_NPi2020_600",
          "USA<br>CCS in 2030: 2337.7<br>AIM/Hub-Global 2.0|1.5C",
          "USA<br>CCS in 2030: 1583.6<br>C-ROADS-5.005|Ratchet-1.5-limCDR-noOS",
          "USA<br>CCS in 2030: 1010.3<br>C-ROADS-5.005|Ratchet-1.5-noCDR",
          "USA<br>CCS in 2030: 753.4<br>C-ROADS-5.005|Ratchet-1.5-noCDR-noOS",
          "USA<br>CCS in 2030: 601.2<br>COFFEE 1.1|EN_NPi2020_400",
          "USA<br>CCS in 2030: 0.0<br>GCAM 4.2|SSP1-19",
          "USA<br>CCS in 2030: 0.0<br>GCAM 5.3|R_MAC_30_n0",
          "USA<br>CCS in 2030: 72.0<br>GCAM 5.3|R_MAC_35_n8",
          "USA<br>CCS in 2030: 79.2<br>GCAM 5.3|R_MAC_40_n8",
          "USA<br>CCS in 2030: 38.2<br>GCAM 5.3|R_MAC_45_n8",
          "USA<br>CCS in 2030: 220.4<br>GCAM 5.3|R_MAC_50_n8",
          "USA<br>CCS in 2030: 77.9<br>GEM-E3_V2021|EN_NPi2020_500",
          "USA<br>CCS in 2030: 88.7<br>GEM-E3_V2021|EN_NPi2020_600_COV",
          "USA<br>CCS in 2030: 22.0<br>IMAGE 3.2|SSP1_SPA1_19I_D_LB",
          "USA<br>CCS in 2030: 148.2<br>IMAGE 3.2|SSP1_SPA1_19I_LIRE_LB",
          "USA<br>CCS in 2030: 148.2<br>IMAGE 3.2|SSP1_SPA1_19I_RE_LB",
          "USA<br>CCS in 2030: 97.6<br>IMAGE 3.2|SSP2_SPA1_19I_D_LB",
          "USA<br>CCS in 2030: 71.7<br>IMAGE 3.2|SSP2_SPA1_19I_LIRE_LB",
          "USA<br>CCS in 2030: 145.7<br>IMAGE 3.2|SSP2_SPA1_19I_RE_LB",
          "USA<br>CCS in 2030: 134.5<br>IMAGE 3.2|SSP2_SPA2_19I_LI",
          "USA<br>CCS in 2030: 129.3<br>MESSAGE-GLOBIOM 1.0|ADVANCE_2020_1.5C-2100",
          "USA<br>CCS in 2030: 90.0<br>MESSAGE-GLOBIOM 1.0|EMF33_1.5C_cost100",
          "USA<br>CCS in 2030: 135.0<br>MESSAGE-GLOBIOM 1.0|EMF33_1.5C_full",
          "USA<br>CCS in 2030: 120.5<br>MESSAGE-GLOBIOM 1.0|SSP2-19",
          "USA<br>CCS in 2030: 191.0<br>MESSAGEix-GLOBIOM 1.0|CD-LINKS_NPi2020_400",
          "USA<br>CCS in 2030: 141.7<br>MESSAGEix-GLOBIOM 1.0|LowEnergyDemand_1.3_IPCC",
          "USA<br>CCS in 2030: 144.1<br>MESSAGEix-GLOBIOM_1.1|EN_NPi2020_450",
          "USA<br>CCS in 2030: 137.0<br>MESSAGEix-GLOBIOM_1.1|EN_NPi2020_500",
          "USA<br>CCS in 2030: 160.6<br>MESSAGEix-GLOBIOM_1.1|NGFS2_Divergent Net Zero Policies",
          "USA<br>CCS in 2030: 210.2<br>MESSAGEix-GLOBIOM_1.1|NGFS2_Net-Zero 2050",
          "USA<br>CCS in 2030: 222.5<br>MESSAGEix-GLOBIOM_1.1|EN_NPi2020_600_COV",
          "USA<br>CCS in 2030: 226.0<br>MESSAGEix-GLOBIOM_1.1|EN_NPi2020_600_DR4p",
          "USA<br>CCS in 2030: 163.3<br>MESSAGEix-GLOBIOM_1.1|EN_NPi2020_600_DR3p",
          "USA<br>CCS in 2030: 195.6<br>MESSAGEix-GLOBIOM_1.1|EN_NPi2020_600_DR2p",
          "USA<br>CCS in 2030: 266.0<br>MESSAGEix-GLOBIOM_1.1|EN_NPi2020_600_DR1p",
          "USA<br>CCS in 2030: 444.9<br>MESSAGEix-GLOBIOM_1.2|COV_GreenPush_550",
          "USA<br>CCS in 2030: 247.0<br>MESSAGEix-GLOBIOM_1.2|COV_NoPolicyNoCOVID_550",
          "USA<br>CCS in 2030: nan<br>MESSAGEix-GLOBIOM_1.2|COV_Restore_550",
          "USA<br>CCS in 2030: 160.5<br>MESSAGEix-GLOBIOM_1.2|COV_SelfReliance_550",
          "USA<br>CCS in 2030: 451.9<br>MESSAGEix-GLOBIOM_1.2|COV_SmartUse_550",
          "USA<br>CCS in 2030: 116.9<br>POLES ADVANCE|ADVANCE_2020_1.5C-2100",
          "USA<br>CCS in 2030: 180.2<br>POLES EMF33|EMF33_WB2C_cost100",
          "USA<br>CCS in 2030: 133.5<br>POLES EMF33|EMF33_WB2C_full",
          "USA<br>CCS in 2030: 243.9<br>POLES EMF33|EMF33_WB2C_nofuel",
          "USA<br>CCS in 2030: 144.7<br>REMIND 1.7|ADVANCE_2020_1.5C-2100",
          "USA<br>CCS in 2030: 179.0<br>REMIND 1.7|CEMICS-1.5-CDR12",
          "USA<br>CCS in 2030: 170.8<br>REMIND 1.7|CEMICS-1.5-CDR20",
          "USA<br>CCS in 2030: 380.7<br>REMIND 1.7|CEMICS-1.5-CDR8",
          "USA<br>CCS in 2030: 165.6<br>REMIND 1.7|CEMICS-2.0-CDR8",
          "USA<br>CCS in 2030: 256.8<br>REMIND 2.1|CEMICS_GDPgrowth_1p5",
          "USA<br>CCS in 2030: 188.9<br>REMIND 2.1|CEMICS_HotellingConst_1p5",
          "USA<br>CCS in 2030: 159.8<br>REMIND 2.1|CEMICS_Linear_1p5",
          "USA<br>CCS in 2030: 49.0<br>REMIND 2.1|CEMICS_opt_1p5",
          "USA<br>CCS in 2030: 246.2<br>REMIND 2.1|LeastTotalCost_LTC_brkLR15_SSP1_P50",
          "USA<br>CCS in 2030: 317.1<br>REMIND 2.1|R2p1_SSP1-PkBudg900",
          "USA<br>CCS in 2030: 312.7<br>REMIND 2.1|R2p1_SSP2-PkBudg900",
          "USA<br>CCS in 2030: 318.4<br>REMIND 2.1|R2p1_SSP5-PkBudg900",
          "USA<br>CCS in 2030: 132.0<br>REMIND-MAgPIE 1.5|SSP2-19",
          "USA<br>CCS in 2030: 183.7<br>REMIND-MAgPIE 1.7-3.0|CD-LINKS_NPi2020_400",
          "USA<br>CCS in 2030: 249.2<br>REMIND-MAgPIE 1.7-3.0|EMF33_1.5C_nofuel",
          "USA<br>CCS in 2030: 177.6<br>REMIND-MAgPIE 1.7-3.0|PEP_1p5C_full_eff",
          "USA<br>CCS in 2030: 278.2<br>REMIND-MAgPIE 1.7-3.0|PEP_1p5C_red_eff",
          "USA<br>CCS in 2030: 61.1<br>REMIND-MAgPIE 1.7-3.0|PEP_2C_red_eff",
          "USA<br>CCS in 2030: 61.1<br>REMIND-MAgPIE 1.7-3.0|SMP_2C_lifesty",
          "USA<br>CCS in 2030: 61.1<br>REMIND-MAgPIE 2.1-4.2|CEMICS_SSP1-1p5C-fullCDR",
          "USA<br>CCS in 2030: 61.1<br>REMIND-MAgPIE 2.1-4.2|CEMICS_SSP1-1p5C-minCDR",
          "USA<br>CCS in 2030: 61.1<br>REMIND-MAgPIE 2.1-4.2|CEMICS_SSP2-1p5C-fullCDR"
         ],
         "type": "box",
         "whiskerwidth": 0.2,
         "xaxis": "x3",
         "y": [
          340.0758,
          340.0758,
          99.987679,
          2337.65810871435,
          1583.5686047941,
          1010.26874794261,
          753.362273236473,
          601.221102923126,
          0.0067403824325275,
          0.0062726638311023,
          71.98197665323126,
          79.21900697927872,
          38.18533049933058,
          220.3720053591443,
          77.94260754337677,
          88.6728977089024,
          22.006845258935183,
          148.1910408362955,
          148.1910408362955,
          97.5784638735028,
          71.69037246551717,
          145.7053528606962,
          134.4962082200634,
          129.3287157365996,
          90.02121704,
          134.9533423,
          120.495347677097,
          190.98633381947,
          141.651592380776,
          144.108089882296,
          136.983873194703,
          160.6004,
          210.1855,
          222.5139,
          225.9782,
          163.2682,
          195.5641,
          265.9864,
          444.9072,
          246.9912,
          null,
          160.5368,
          451.9311,
          116.9096,
          180.2386,
          133.4839,
          243.9165,
          144.7281,
          178.9596,
          170.7736,
          380.6644,
          165.5709,
          256.7998,
          188.9428,
          159.8065,
          48.9555,
          246.2481,
          317.0603,
          312.6752,
          318.4043,
          131.9954,
          183.6991,
          249.1901,
          177.5521,
          278.2401,
          61.13761851188971,
          61.0935608383657,
          61.13761851188971,
          61.1357293820885,
          61.13761851188971
         ],
         "yaxis": "y3"
        },
        {
         "boxpoints": "all",
         "fillcolor": "tomato",
         "hovertemplate": "%{text}",
         "jitter": 0.5,
         "line": {
          "color": "black",
          "width": 0.5
         },
         "marker": {
          "color": "black",
          "size": 3
         },
         "name": "USA",
         "pointpos": -1.8,
         "showlegend": false,
         "text": [
          "USA<br>Primary biomass traded in 2030: -0.0<br>AIM/CGE 2.1|CD-LINKS_NPi2020_400",
          "USA<br>Primary biomass traded in 2030: -0.0<br>AIM/CGE 2.2|EN_NPi2020_300f",
          "USA<br>Primary biomass traded in 2030: 0.0<br>AIM/CGE 2.2|EN_NPi2020_600",
          "USA<br>Primary biomass traded in 2030: nan<br>AIM/Hub-Global 2.0|1.5C",
          "USA<br>Primary biomass traded in 2030: nan<br>C-ROADS-5.005|Ratchet-1.5-limCDR-noOS",
          "USA<br>Primary biomass traded in 2030: nan<br>C-ROADS-5.005|Ratchet-1.5-noCDR",
          "USA<br>Primary biomass traded in 2030: nan<br>C-ROADS-5.005|Ratchet-1.5-noCDR-noOS",
          "USA<br>Primary biomass traded in 2030: nan<br>COFFEE 1.1|EN_NPi2020_400",
          "USA<br>Primary biomass traded in 2030: nan<br>GCAM 4.2|SSP1-19",
          "USA<br>Primary biomass traded in 2030: nan<br>GCAM 5.3|R_MAC_30_n0",
          "USA<br>Primary biomass traded in 2030: -1.5<br>GCAM 5.3|R_MAC_35_n8",
          "USA<br>Primary biomass traded in 2030: -1.3<br>GCAM 5.3|R_MAC_40_n8",
          "USA<br>Primary biomass traded in 2030: -1.5<br>GCAM 5.3|R_MAC_45_n8",
          "USA<br>Primary biomass traded in 2030: -1.8<br>GCAM 5.3|R_MAC_50_n8",
          "USA<br>Primary biomass traded in 2030: -2.4<br>GEM-E3_V2021|EN_NPi2020_500",
          "USA<br>Primary biomass traded in 2030: -1.9<br>GEM-E3_V2021|EN_NPi2020_600_COV",
          "USA<br>Primary biomass traded in 2030: -1.5<br>IMAGE 3.2|SSP1_SPA1_19I_D_LB",
          "USA<br>Primary biomass traded in 2030: 0.0<br>IMAGE 3.2|SSP1_SPA1_19I_LIRE_LB",
          "USA<br>Primary biomass traded in 2030: 0.0<br>IMAGE 3.2|SSP1_SPA1_19I_RE_LB",
          "USA<br>Primary biomass traded in 2030: 0.0<br>IMAGE 3.2|SSP2_SPA1_19I_D_LB",
          "USA<br>Primary biomass traded in 2030: 0.0<br>IMAGE 3.2|SSP2_SPA1_19I_LIRE_LB",
          "USA<br>Primary biomass traded in 2030: 0.0<br>IMAGE 3.2|SSP2_SPA1_19I_RE_LB",
          "USA<br>Primary biomass traded in 2030: 0.0<br>IMAGE 3.2|SSP2_SPA2_19I_LI",
          "USA<br>Primary biomass traded in 2030: 0.0<br>MESSAGE-GLOBIOM 1.0|ADVANCE_2020_1.5C-2100",
          "USA<br>Primary biomass traded in 2030: 0.0<br>MESSAGE-GLOBIOM 1.0|EMF33_1.5C_cost100",
          "USA<br>Primary biomass traded in 2030: 0.0<br>MESSAGE-GLOBIOM 1.0|EMF33_1.5C_full",
          "USA<br>Primary biomass traded in 2030: nan<br>MESSAGE-GLOBIOM 1.0|SSP2-19",
          "USA<br>Primary biomass traded in 2030: nan<br>MESSAGEix-GLOBIOM 1.0|CD-LINKS_NPi2020_400",
          "USA<br>Primary biomass traded in 2030: nan<br>MESSAGEix-GLOBIOM 1.0|LowEnergyDemand_1.3_IPCC",
          "USA<br>Primary biomass traded in 2030: nan<br>MESSAGEix-GLOBIOM_1.1|EN_NPi2020_450",
          "USA<br>Primary biomass traded in 2030: nan<br>MESSAGEix-GLOBIOM_1.1|EN_NPi2020_500",
          "USA<br>Primary biomass traded in 2030: 0.4<br>MESSAGEix-GLOBIOM_1.1|NGFS2_Divergent Net Zero Policies",
          "USA<br>Primary biomass traded in 2030: 0.2<br>MESSAGEix-GLOBIOM_1.1|NGFS2_Net-Zero 2050",
          "USA<br>Primary biomass traded in 2030: 0.2<br>MESSAGEix-GLOBIOM_1.1|EN_NPi2020_600_COV",
          "USA<br>Primary biomass traded in 2030: 0.2<br>MESSAGEix-GLOBIOM_1.1|EN_NPi2020_600_DR4p",
          "USA<br>Primary biomass traded in 2030: 0.2<br>MESSAGEix-GLOBIOM_1.1|EN_NPi2020_600_DR3p",
          "USA<br>Primary biomass traded in 2030: 0.1<br>MESSAGEix-GLOBIOM_1.1|EN_NPi2020_600_DR2p",
          "USA<br>Primary biomass traded in 2030: -0.5<br>MESSAGEix-GLOBIOM_1.1|EN_NPi2020_600_DR1p",
          "USA<br>Primary biomass traded in 2030: -0.7<br>MESSAGEix-GLOBIOM_1.2|COV_GreenPush_550",
          "USA<br>Primary biomass traded in 2030: 0.2<br>MESSAGEix-GLOBIOM_1.2|COV_NoPolicyNoCOVID_550",
          "USA<br>Primary biomass traded in 2030: nan<br>MESSAGEix-GLOBIOM_1.2|COV_Restore_550",
          "USA<br>Primary biomass traded in 2030: 0.2<br>MESSAGEix-GLOBIOM_1.2|COV_SelfReliance_550",
          "USA<br>Primary biomass traded in 2030: 2.0<br>MESSAGEix-GLOBIOM_1.2|COV_SmartUse_550",
          "USA<br>Primary biomass traded in 2030: 0.2<br>POLES ADVANCE|ADVANCE_2020_1.5C-2100",
          "USA<br>Primary biomass traded in 2030: 0.2<br>POLES EMF33|EMF33_WB2C_cost100",
          "USA<br>Primary biomass traded in 2030: 0.1<br>POLES EMF33|EMF33_WB2C_full",
          "USA<br>Primary biomass traded in 2030: -0.2<br>POLES EMF33|EMF33_WB2C_nofuel",
          "USA<br>Primary biomass traded in 2030: 0.2<br>REMIND 1.7|ADVANCE_2020_1.5C-2100",
          "USA<br>Primary biomass traded in 2030: 0.2<br>REMIND 1.7|CEMICS-1.5-CDR12",
          "USA<br>Primary biomass traded in 2030: 0.2<br>REMIND 1.7|CEMICS-1.5-CDR20",
          "USA<br>Primary biomass traded in 2030: 0.2<br>REMIND 1.7|CEMICS-1.5-CDR8",
          "USA<br>Primary biomass traded in 2030: 0.2<br>REMIND 1.7|CEMICS-2.0-CDR8",
          "USA<br>Primary biomass traded in 2030: 0.2<br>REMIND 2.1|CEMICS_GDPgrowth_1p5",
          "USA<br>Primary biomass traded in 2030: 0.2<br>REMIND 2.1|CEMICS_HotellingConst_1p5",
          "USA<br>Primary biomass traded in 2030: 0.2<br>REMIND 2.1|CEMICS_Linear_1p5",
          "USA<br>Primary biomass traded in 2030: 0.2<br>REMIND 2.1|CEMICS_opt_1p5",
          "USA<br>Primary biomass traded in 2030: -0.0<br>REMIND 2.1|LeastTotalCost_LTC_brkLR15_SSP1_P50",
          "USA<br>Primary biomass traded in 2030: -1.7<br>REMIND 2.1|R2p1_SSP1-PkBudg900",
          "USA<br>Primary biomass traded in 2030: -1.3<br>REMIND 2.1|R2p1_SSP2-PkBudg900",
          "USA<br>Primary biomass traded in 2030: -1.5<br>REMIND 2.1|R2p1_SSP5-PkBudg900",
          "USA<br>Primary biomass traded in 2030: 0.1<br>REMIND-MAgPIE 1.5|SSP2-19",
          "USA<br>Primary biomass traded in 2030: 0.2<br>REMIND-MAgPIE 1.7-3.0|CD-LINKS_NPi2020_400",
          "USA<br>Primary biomass traded in 2030: -0.8<br>REMIND-MAgPIE 1.7-3.0|EMF33_1.5C_nofuel",
          "USA<br>Primary biomass traded in 2030: -0.4<br>REMIND-MAgPIE 1.7-3.0|PEP_1p5C_full_eff",
          "USA<br>Primary biomass traded in 2030: -0.5<br>REMIND-MAgPIE 1.7-3.0|PEP_1p5C_red_eff",
          "USA<br>Primary biomass traded in 2030: nan<br>REMIND-MAgPIE 1.7-3.0|PEP_2C_red_eff",
          "USA<br>Primary biomass traded in 2030: nan<br>REMIND-MAgPIE 1.7-3.0|SMP_2C_lifesty",
          "USA<br>Primary biomass traded in 2030: nan<br>REMIND-MAgPIE 2.1-4.2|CEMICS_SSP1-1p5C-fullCDR",
          "USA<br>Primary biomass traded in 2030: nan<br>REMIND-MAgPIE 2.1-4.2|CEMICS_SSP1-1p5C-minCDR",
          "USA<br>Primary biomass traded in 2030: nan<br>REMIND-MAgPIE 2.1-4.2|CEMICS_SSP2-1p5C-fullCDR"
         ],
         "type": "box",
         "whiskerwidth": 0.2,
         "xaxis": "x4",
         "y": [
          -0.0361,
          -0.0361,
          0,
          null,
          null,
          null,
          null,
          null,
          null,
          null,
          -1.54543505859375,
          -1.279767944335938,
          -1.542131958007813,
          -1.795551025390625,
          -2.370867919921875,
          -1.904369018554688,
          -1.477,
          0,
          0,
          0,
          0,
          0,
          0,
          0,
          0,
          0,
          null,
          null,
          null,
          null,
          null,
          0.4454,
          0.2084,
          0.2365,
          0.1778,
          0.2106,
          0.1427,
          -0.5253,
          -0.7187,
          0.2299,
          null,
          0.2362,
          1.9594,
          0.22,
          0.207,
          0.131,
          -0.2111,
          0.1909,
          0.1919,
          0.1912,
          0.1914,
          0.1903,
          0.1909,
          0.1904,
          0.1889,
          0.1835,
          -0.0353,
          -1.6627,
          -1.3213,
          -1.5147,
          0.1319,
          0.1671,
          -0.7762,
          -0.3805,
          -0.4926,
          null,
          null,
          null,
          null,
          null
         ],
         "yaxis": "y4"
        },
        {
         "boxpoints": "all",
         "fillcolor": "steelblue",
         "hovertemplate": "%{text}",
         "jitter": 0.5,
         "line": {
          "color": "black",
          "width": 0.5
         },
         "marker": {
          "color": "black",
          "size": 3
         },
         "name": "CHN",
         "pointpos": -1.8,
         "showlegend": false,
         "text": [
          "CHN<br>GHG emission reduction in 2030: 0.5<br>AIM/CGE 2.1|CD-LINKS_NPi2020_400",
          "CHN<br>GHG emission reduction in 2030: 0.5<br>AIM/CGE 2.2|EN_NPi2020_300f",
          "CHN<br>GHG emission reduction in 2030: 0.5<br>AIM/CGE 2.2|EN_NPi2020_600",
          "CHN<br>GHG emission reduction in 2030: 0.8<br>AIM/Hub-Global 2.0|1.5C",
          "CHN<br>GHG emission reduction in 2030: 0.7<br>C-ROADS-5.005|Ratchet-1.5-limCDR-noOS",
          "CHN<br>GHG emission reduction in 2030: 0.6<br>C-ROADS-5.005|Ratchet-1.5-noCDR",
          "CHN<br>GHG emission reduction in 2030: 0.5<br>C-ROADS-5.005|Ratchet-1.5-noCDR-noOS",
          "CHN<br>GHG emission reduction in 2030: 0.4<br>COFFEE 1.1|EN_NPi2020_400",
          "CHN<br>GHG emission reduction in 2030: 0.5<br>GCAM 4.2|SSP1-19",
          "CHN<br>GHG emission reduction in 2030: 0.3<br>GCAM 5.3|R_MAC_30_n0",
          "CHN<br>GHG emission reduction in 2030: 0.4<br>GCAM 5.3|R_MAC_35_n8",
          "CHN<br>GHG emission reduction in 2030: 0.4<br>GCAM 5.3|R_MAC_40_n8",
          "CHN<br>GHG emission reduction in 2030: 0.4<br>GCAM 5.3|R_MAC_45_n8",
          "CHN<br>GHG emission reduction in 2030: 0.4<br>GCAM 5.3|R_MAC_50_n8",
          "CHN<br>GHG emission reduction in 2030: 0.4<br>GEM-E3_V2021|EN_NPi2020_500",
          "CHN<br>GHG emission reduction in 2030: 0.4<br>GEM-E3_V2021|EN_NPi2020_600_COV",
          "CHN<br>GHG emission reduction in 2030: 0.0<br>IMAGE 3.2|SSP1_SPA1_19I_D_LB",
          "CHN<br>GHG emission reduction in 2030: 0.7<br>IMAGE 3.2|SSP1_SPA1_19I_LIRE_LB",
          "CHN<br>GHG emission reduction in 2030: 0.7<br>IMAGE 3.2|SSP1_SPA1_19I_RE_LB",
          "CHN<br>GHG emission reduction in 2030: 0.6<br>IMAGE 3.2|SSP2_SPA1_19I_D_LB",
          "CHN<br>GHG emission reduction in 2030: 0.6<br>IMAGE 3.2|SSP2_SPA1_19I_LIRE_LB",
          "CHN<br>GHG emission reduction in 2030: 0.6<br>IMAGE 3.2|SSP2_SPA1_19I_RE_LB",
          "CHN<br>GHG emission reduction in 2030: 0.6<br>IMAGE 3.2|SSP2_SPA2_19I_LI",
          "CHN<br>GHG emission reduction in 2030: 0.6<br>MESSAGE-GLOBIOM 1.0|ADVANCE_2020_1.5C-2100",
          "CHN<br>GHG emission reduction in 2030: 0.6<br>MESSAGE-GLOBIOM 1.0|EMF33_1.5C_cost100",
          "CHN<br>GHG emission reduction in 2030: 0.6<br>MESSAGE-GLOBIOM 1.0|EMF33_1.5C_full",
          "CHN<br>GHG emission reduction in 2030: 0.6<br>MESSAGE-GLOBIOM 1.0|SSP2-19",
          "CHN<br>GHG emission reduction in 2030: 0.6<br>MESSAGEix-GLOBIOM 1.0|CD-LINKS_NPi2020_400",
          "CHN<br>GHG emission reduction in 2030: 0.6<br>MESSAGEix-GLOBIOM 1.0|LowEnergyDemand_1.3_IPCC",
          "CHN<br>GHG emission reduction in 2030: 0.6<br>MESSAGEix-GLOBIOM_1.1|EN_NPi2020_450",
          "CHN<br>GHG emission reduction in 2030: 0.6<br>MESSAGEix-GLOBIOM_1.1|EN_NPi2020_500",
          "CHN<br>GHG emission reduction in 2030: 0.5<br>MESSAGEix-GLOBIOM_1.1|NGFS2_Divergent Net Zero Policies",
          "CHN<br>GHG emission reduction in 2030: 0.5<br>MESSAGEix-GLOBIOM_1.1|NGFS2_Net-Zero 2050",
          "CHN<br>GHG emission reduction in 2030: 0.5<br>MESSAGEix-GLOBIOM_1.1|EN_NPi2020_600_COV",
          "CHN<br>GHG emission reduction in 2030: 0.5<br>MESSAGEix-GLOBIOM_1.1|EN_NPi2020_600_DR4p",
          "CHN<br>GHG emission reduction in 2030: 0.4<br>MESSAGEix-GLOBIOM_1.1|EN_NPi2020_600_DR3p",
          "CHN<br>GHG emission reduction in 2030: 0.5<br>MESSAGEix-GLOBIOM_1.1|EN_NPi2020_600_DR2p",
          "CHN<br>GHG emission reduction in 2030: 0.5<br>MESSAGEix-GLOBIOM_1.1|EN_NPi2020_600_DR1p",
          "CHN<br>GHG emission reduction in 2030: 0.4<br>MESSAGEix-GLOBIOM_1.2|COV_GreenPush_550",
          "CHN<br>GHG emission reduction in 2030: 0.4<br>MESSAGEix-GLOBIOM_1.2|COV_NoPolicyNoCOVID_550",
          "CHN<br>GHG emission reduction in 2030: nan<br>MESSAGEix-GLOBIOM_1.2|COV_Restore_550",
          "CHN<br>GHG emission reduction in 2030: 0.4<br>MESSAGEix-GLOBIOM_1.2|COV_SelfReliance_550",
          "CHN<br>GHG emission reduction in 2030: 0.5<br>MESSAGEix-GLOBIOM_1.2|COV_SmartUse_550",
          "CHN<br>GHG emission reduction in 2030: 0.4<br>POLES ADVANCE|ADVANCE_2020_1.5C-2100",
          "CHN<br>GHG emission reduction in 2030: 0.5<br>POLES EMF33|EMF33_WB2C_cost100",
          "CHN<br>GHG emission reduction in 2030: 0.5<br>POLES EMF33|EMF33_WB2C_full",
          "CHN<br>GHG emission reduction in 2030: 0.5<br>POLES EMF33|EMF33_WB2C_nofuel",
          "CHN<br>GHG emission reduction in 2030: 0.6<br>REMIND 1.7|ADVANCE_2020_1.5C-2100",
          "CHN<br>GHG emission reduction in 2030: 0.5<br>REMIND 1.7|CEMICS-1.5-CDR12",
          "CHN<br>GHG emission reduction in 2030: 0.5<br>REMIND 1.7|CEMICS-1.5-CDR20",
          "CHN<br>GHG emission reduction in 2030: 0.7<br>REMIND 1.7|CEMICS-1.5-CDR8",
          "CHN<br>GHG emission reduction in 2030: 0.5<br>REMIND 1.7|CEMICS-2.0-CDR8",
          "CHN<br>GHG emission reduction in 2030: 0.6<br>REMIND 2.1|CEMICS_GDPgrowth_1p5",
          "CHN<br>GHG emission reduction in 2030: 0.5<br>REMIND 2.1|CEMICS_HotellingConst_1p5",
          "CHN<br>GHG emission reduction in 2030: 0.5<br>REMIND 2.1|CEMICS_Linear_1p5",
          "CHN<br>GHG emission reduction in 2030: 0.4<br>REMIND 2.1|CEMICS_opt_1p5",
          "CHN<br>GHG emission reduction in 2030: 0.6<br>REMIND 2.1|LeastTotalCost_LTC_brkLR15_SSP1_P50",
          "CHN<br>GHG emission reduction in 2030: 0.6<br>REMIND 2.1|R2p1_SSP1-PkBudg900",
          "CHN<br>GHG emission reduction in 2030: 0.6<br>REMIND 2.1|R2p1_SSP2-PkBudg900",
          "CHN<br>GHG emission reduction in 2030: 0.6<br>REMIND 2.1|R2p1_SSP5-PkBudg900",
          "CHN<br>GHG emission reduction in 2030: 0.5<br>REMIND-MAgPIE 1.5|SSP2-19",
          "CHN<br>GHG emission reduction in 2030: 0.5<br>REMIND-MAgPIE 1.7-3.0|CD-LINKS_NPi2020_400",
          "CHN<br>GHG emission reduction in 2030: 0.5<br>REMIND-MAgPIE 1.7-3.0|EMF33_1.5C_nofuel",
          "CHN<br>GHG emission reduction in 2030: 0.6<br>REMIND-MAgPIE 1.7-3.0|PEP_1p5C_full_eff",
          "CHN<br>GHG emission reduction in 2030: 0.6<br>REMIND-MAgPIE 1.7-3.0|PEP_1p5C_red_eff",
          "CHN<br>GHG emission reduction in 2030: 0.5<br>REMIND-MAgPIE 1.7-3.0|PEP_2C_red_eff",
          "CHN<br>GHG emission reduction in 2030: 0.6<br>REMIND-MAgPIE 1.7-3.0|SMP_2C_lifesty",
          "CHN<br>GHG emission reduction in 2030: 0.5<br>REMIND-MAgPIE 2.1-4.2|CEMICS_SSP1-1p5C-fullCDR",
          "CHN<br>GHG emission reduction in 2030: 0.6<br>REMIND-MAgPIE 2.1-4.2|CEMICS_SSP1-1p5C-minCDR",
          "CHN<br>GHG emission reduction in 2030: 0.5<br>REMIND-MAgPIE 2.1-4.2|CEMICS_SSP2-1p5C-fullCDR"
         ],
         "type": "box",
         "whiskerwidth": 0.2,
         "xaxis": "x",
         "y": [
          0.4714214316165927,
          0.4714214316165927,
          0.5035786914356397,
          0.8209774659756067,
          0.7232222332427336,
          0.5971253184691929,
          0.4877092681230525,
          0.4072511503177502,
          0.4623355682605164,
          0.34053983817407363,
          0.42693981060702824,
          0.4287732420626932,
          0.431319032876452,
          0.3845734866894511,
          0.4215800378247244,
          0.39410357406881097,
          0.033348672248835906,
          0.6685033208385719,
          0.6512249130970359,
          0.5898522926968292,
          0.6102158497498454,
          0.6064480268260162,
          0.6028851114176206,
          0.5926819738629225,
          0.6033703764843613,
          0.585123232035028,
          0.6168203105141239,
          0.6389881367857889,
          0.6271294608165269,
          0.6236136988920867,
          0.6246510167049125,
          0.5473594868316948,
          0.47242210556025194,
          0.5095461935157448,
          0.4984313742976577,
          0.44035928954125647,
          0.4765356016877292,
          0.4767753467036152,
          0.43363667361660707,
          0.3999704681055375,
          null,
          0.3937375755270828,
          0.4925386540720918,
          0.38160469818467085,
          0.45830007013899043,
          0.5047390186930029,
          0.4716202720502666,
          0.5959443637503297,
          0.528075331201552,
          0.5092464806018591,
          0.6705662744007259,
          0.48166026734760325,
          0.5955464315862606,
          0.5357321419372834,
          0.5027847469706241,
          0.37681410789883085,
          0.5910951634849997,
          0.6028184899078239,
          0.6308189683908445,
          0.625590467952598,
          0.462182138532339,
          0.5036463696235807,
          0.49861735710730404,
          0.6175898774087683,
          0.5959932893753642,
          0.49272686969074647,
          0.5916809638882041,
          0.48379001509916847,
          0.5565218491174122,
          0.4749743254550869
         ],
         "yaxis": "y"
        },
        {
         "marker": {
          "color": "steelblue",
          "colorscale": [
           [
            0,
            "rgb(158,1,66)"
           ],
           [
            0.1,
            "rgb(213,62,79)"
           ],
           [
            0.2,
            "rgb(244,109,67)"
           ],
           [
            0.3,
            "rgb(253,174,97)"
           ],
           [
            0.4,
            "rgb(254,224,139)"
           ],
           [
            0.5,
            "rgb(255,255,191)"
           ],
           [
            0.6,
            "rgb(230,245,152)"
           ],
           [
            0.7,
            "rgb(171,221,164)"
           ],
           [
            0.8,
            "rgb(102,194,165)"
           ],
           [
            0.9,
            "rgb(50,136,189)"
           ],
           [
            1,
            "rgb(94,79,162)"
           ]
          ],
          "line": {
           "color": "black",
           "width": 0.2
          },
          "size": 25,
          "symbol": "circle"
         },
         "mode": "markers+text",
         "showlegend": false,
         "text": "GF",
         "textfont": {
          "color": "black",
          "family": "Arial black",
          "size": 13
         },
         "type": "scatter",
         "x": [
          "CHN"
         ],
         "xaxis": "x",
         "y": [
          0.44884116052371303
         ],
         "yaxis": "y"
        },
        {
         "marker": {
          "color": "steelblue",
          "colorscale": [
           [
            0,
            "rgb(158,1,66)"
           ],
           [
            0.1,
            "rgb(213,62,79)"
           ],
           [
            0.2,
            "rgb(244,109,67)"
           ],
           [
            0.3,
            "rgb(253,174,97)"
           ],
           [
            0.4,
            "rgb(254,224,139)"
           ],
           [
            0.5,
            "rgb(255,255,191)"
           ],
           [
            0.6,
            "rgb(230,245,152)"
           ],
           [
            0.7,
            "rgb(171,221,164)"
           ],
           [
            0.8,
            "rgb(102,194,165)"
           ],
           [
            0.9,
            "rgb(50,136,189)"
           ],
           [
            1,
            "rgb(94,79,162)"
           ]
          ],
          "line": {
           "color": "black",
           "width": 0.2
          },
          "size": 25,
          "symbol": "square"
         },
         "mode": "markers+text",
         "showlegend": false,
         "text": "PC",
         "textfont": {
          "color": "black",
          "family": "Arial black",
          "size": 13
         },
         "type": "scatter",
         "x": [
          "CHN"
         ],
         "xaxis": "x",
         "y": [
          0.6537220033990478
         ],
         "yaxis": "y"
        },
        {
         "marker": {
          "color": "steelblue",
          "colorscale": [
           [
            0,
            "rgb(158,1,66)"
           ],
           [
            0.1,
            "rgb(213,62,79)"
           ],
           [
            0.2,
            "rgb(244,109,67)"
           ],
           [
            0.3,
            "rgb(253,174,97)"
           ],
           [
            0.4,
            "rgb(254,224,139)"
           ],
           [
            0.5,
            "rgb(255,255,191)"
           ],
           [
            0.6,
            "rgb(230,245,152)"
           ],
           [
            0.7,
            "rgb(171,221,164)"
           ],
           [
            0.8,
            "rgb(102,194,165)"
           ],
           [
            0.9,
            "rgb(50,136,189)"
           ],
           [
            1,
            "rgb(94,79,162)"
           ]
          ],
          "line": {
           "color": "black",
           "width": 0.2
          },
          "size": 25,
          "symbol": "diamond"
         },
         "mode": "markers+text",
         "showlegend": false,
         "text": "PCC",
         "textfont": {
          "color": "black",
          "family": "Arial black",
          "size": 13
         },
         "type": "scatter",
         "x": [
          "CHN"
         ],
         "xaxis": "x",
         "y": [
          0.5512815819613804
         ],
         "yaxis": "y"
        },
        {
         "marker": {
          "color": "steelblue",
          "colorscale": [
           [
            0,
            "rgb(158,1,66)"
           ],
           [
            0.1,
            "rgb(213,62,79)"
           ],
           [
            0.2,
            "rgb(244,109,67)"
           ],
           [
            0.3,
            "rgb(253,174,97)"
           ],
           [
            0.4,
            "rgb(254,224,139)"
           ],
           [
            0.5,
            "rgb(255,255,191)"
           ],
           [
            0.6,
            "rgb(230,245,152)"
           ],
           [
            0.7,
            "rgb(171,221,164)"
           ],
           [
            0.8,
            "rgb(102,194,165)"
           ],
           [
            0.9,
            "rgb(50,136,189)"
           ],
           [
            1,
            "rgb(94,79,162)"
           ]
          ],
          "line": {
           "color": "black",
           "width": 0.2
          },
          "size": 25,
          "symbol": "triangle-up"
         },
         "mode": "markers+text",
         "showlegend": false,
         "text": "NDC",
         "textfont": {
          "color": "black",
          "family": "Arial black",
          "size": 13
         },
         "type": "scatter",
         "x": [
          "CHN"
         ],
         "xaxis": "x",
         "y": [
          -0.162659720402618
         ],
         "yaxis": "y"
        },
        {
         "boxpoints": "all",
         "fillcolor": "steelblue",
         "hovertemplate": "%{text}",
         "jitter": 0.5,
         "line": {
          "color": "black",
          "width": 0.5
         },
         "marker": {
          "color": "black",
          "size": 3
         },
         "name": "CHN",
         "pointpos": -1.8,
         "showlegend": false,
         "text": [
          "CHN<br>Policy costs in 2030: 2424.2<br>AIM/CGE 2.1|CD-LINKS_NPi2020_400",
          "CHN<br>Policy costs in 2030: 2424.2<br>AIM/CGE 2.2|EN_NPi2020_300f",
          "CHN<br>Policy costs in 2030: nan<br>AIM/CGE 2.2|EN_NPi2020_600",
          "CHN<br>Policy costs in 2030: nan<br>AIM/Hub-Global 2.0|1.5C",
          "CHN<br>Policy costs in 2030: nan<br>C-ROADS-5.005|Ratchet-1.5-limCDR-noOS",
          "CHN<br>Policy costs in 2030: nan<br>C-ROADS-5.005|Ratchet-1.5-noCDR",
          "CHN<br>Policy costs in 2030: nan<br>C-ROADS-5.005|Ratchet-1.5-noCDR-noOS",
          "CHN<br>Policy costs in 2030: nan<br>COFFEE 1.1|EN_NPi2020_400",
          "CHN<br>Policy costs in 2030: 397.1<br>GCAM 4.2|SSP1-19",
          "CHN<br>Policy costs in 2030: 286.0<br>GCAM 5.3|R_MAC_30_n0",
          "CHN<br>Policy costs in 2030: nan<br>GCAM 5.3|R_MAC_35_n8",
          "CHN<br>Policy costs in 2030: nan<br>GCAM 5.3|R_MAC_40_n8",
          "CHN<br>Policy costs in 2030: nan<br>GCAM 5.3|R_MAC_45_n8",
          "CHN<br>Policy costs in 2030: nan<br>GCAM 5.3|R_MAC_50_n8",
          "CHN<br>Policy costs in 2030: nan<br>GEM-E3_V2021|EN_NPi2020_500",
          "CHN<br>Policy costs in 2030: nan<br>GEM-E3_V2021|EN_NPi2020_600_COV",
          "CHN<br>Policy costs in 2030: nan<br>IMAGE 3.2|SSP1_SPA1_19I_D_LB",
          "CHN<br>Policy costs in 2030: 475.1<br>IMAGE 3.2|SSP1_SPA1_19I_LIRE_LB",
          "CHN<br>Policy costs in 2030: 345.7<br>IMAGE 3.2|SSP1_SPA1_19I_RE_LB",
          "CHN<br>Policy costs in 2030: 53.8<br>IMAGE 3.2|SSP2_SPA1_19I_D_LB",
          "CHN<br>Policy costs in 2030: nan<br>IMAGE 3.2|SSP2_SPA1_19I_LIRE_LB",
          "CHN<br>Policy costs in 2030: nan<br>IMAGE 3.2|SSP2_SPA1_19I_RE_LB",
          "CHN<br>Policy costs in 2030: nan<br>IMAGE 3.2|SSP2_SPA2_19I_LI",
          "CHN<br>Policy costs in 2030: nan<br>MESSAGE-GLOBIOM 1.0|ADVANCE_2020_1.5C-2100",
          "CHN<br>Policy costs in 2030: nan<br>MESSAGE-GLOBIOM 1.0|EMF33_1.5C_cost100",
          "CHN<br>Policy costs in 2030: nan<br>MESSAGE-GLOBIOM 1.0|EMF33_1.5C_full",
          "CHN<br>Policy costs in 2030: nan<br>MESSAGE-GLOBIOM 1.0|SSP2-19",
          "CHN<br>Policy costs in 2030: nan<br>MESSAGEix-GLOBIOM 1.0|CD-LINKS_NPi2020_400",
          "CHN<br>Policy costs in 2030: nan<br>MESSAGEix-GLOBIOM 1.0|LowEnergyDemand_1.3_IPCC",
          "CHN<br>Policy costs in 2030: nan<br>MESSAGEix-GLOBIOM_1.1|EN_NPi2020_450",
          "CHN<br>Policy costs in 2030: nan<br>MESSAGEix-GLOBIOM_1.1|EN_NPi2020_500",
          "CHN<br>Policy costs in 2030: nan<br>MESSAGEix-GLOBIOM_1.1|NGFS2_Divergent Net Zero Policies",
          "CHN<br>Policy costs in 2030: nan<br>MESSAGEix-GLOBIOM_1.1|NGFS2_Net-Zero 2050",
          "CHN<br>Policy costs in 2030: nan<br>MESSAGEix-GLOBIOM_1.1|EN_NPi2020_600_COV",
          "CHN<br>Policy costs in 2030: nan<br>MESSAGEix-GLOBIOM_1.1|EN_NPi2020_600_DR4p",
          "CHN<br>Policy costs in 2030: nan<br>MESSAGEix-GLOBIOM_1.1|EN_NPi2020_600_DR3p",
          "CHN<br>Policy costs in 2030: nan<br>MESSAGEix-GLOBIOM_1.1|EN_NPi2020_600_DR2p",
          "CHN<br>Policy costs in 2030: nan<br>MESSAGEix-GLOBIOM_1.1|EN_NPi2020_600_DR1p",
          "CHN<br>Policy costs in 2030: nan<br>MESSAGEix-GLOBIOM_1.2|COV_GreenPush_550",
          "CHN<br>Policy costs in 2030: -83.0<br>MESSAGEix-GLOBIOM_1.2|COV_NoPolicyNoCOVID_550",
          "CHN<br>Policy costs in 2030: nan<br>MESSAGEix-GLOBIOM_1.2|COV_Restore_550",
          "CHN<br>Policy costs in 2030: 177.6<br>MESSAGEix-GLOBIOM_1.2|COV_SelfReliance_550",
          "CHN<br>Policy costs in 2030: 178.2<br>MESSAGEix-GLOBIOM_1.2|COV_SmartUse_550",
          "CHN<br>Policy costs in 2030: 230.9<br>POLES ADVANCE|ADVANCE_2020_1.5C-2100",
          "CHN<br>Policy costs in 2030: nan<br>POLES EMF33|EMF33_WB2C_cost100",
          "CHN<br>Policy costs in 2030: nan<br>POLES EMF33|EMF33_WB2C_full",
          "CHN<br>Policy costs in 2030: nan<br>POLES EMF33|EMF33_WB2C_nofuel",
          "CHN<br>Policy costs in 2030: nan<br>REMIND 1.7|ADVANCE_2020_1.5C-2100",
          "CHN<br>Policy costs in 2030: nan<br>REMIND 1.7|CEMICS-1.5-CDR12",
          "CHN<br>Policy costs in 2030: nan<br>REMIND 1.7|CEMICS-1.5-CDR20",
          "CHN<br>Policy costs in 2030: nan<br>REMIND 1.7|CEMICS-1.5-CDR8",
          "CHN<br>Policy costs in 2030: nan<br>REMIND 1.7|CEMICS-2.0-CDR8",
          "CHN<br>Policy costs in 2030: nan<br>REMIND 2.1|CEMICS_GDPgrowth_1p5",
          "CHN<br>Policy costs in 2030: nan<br>REMIND 2.1|CEMICS_HotellingConst_1p5",
          "CHN<br>Policy costs in 2030: nan<br>REMIND 2.1|CEMICS_Linear_1p5",
          "CHN<br>Policy costs in 2030: nan<br>REMIND 2.1|CEMICS_opt_1p5",
          "CHN<br>Policy costs in 2030: nan<br>REMIND 2.1|LeastTotalCost_LTC_brkLR15_SSP1_P50",
          "CHN<br>Policy costs in 2030: nan<br>REMIND 2.1|R2p1_SSP1-PkBudg900",
          "CHN<br>Policy costs in 2030: nan<br>REMIND 2.1|R2p1_SSP2-PkBudg900",
          "CHN<br>Policy costs in 2030: nan<br>REMIND 2.1|R2p1_SSP5-PkBudg900",
          "CHN<br>Policy costs in 2030: nan<br>REMIND-MAgPIE 1.5|SSP2-19",
          "CHN<br>Policy costs in 2030: nan<br>REMIND-MAgPIE 1.7-3.0|CD-LINKS_NPi2020_400",
          "CHN<br>Policy costs in 2030: nan<br>REMIND-MAgPIE 1.7-3.0|EMF33_1.5C_nofuel",
          "CHN<br>Policy costs in 2030: -477.1<br>REMIND-MAgPIE 1.7-3.0|PEP_1p5C_full_eff",
          "CHN<br>Policy costs in 2030: -525.8<br>REMIND-MAgPIE 1.7-3.0|PEP_1p5C_red_eff",
          "CHN<br>Policy costs in 2030: 373.4<br>REMIND-MAgPIE 1.7-3.0|PEP_2C_red_eff",
          "CHN<br>Policy costs in 2030: 594.4<br>REMIND-MAgPIE 1.7-3.0|SMP_2C_lifesty",
          "CHN<br>Policy costs in 2030: 363.4<br>REMIND-MAgPIE 2.1-4.2|CEMICS_SSP1-1p5C-fullCDR",
          "CHN<br>Policy costs in 2030: 503.5<br>REMIND-MAgPIE 2.1-4.2|CEMICS_SSP1-1p5C-minCDR",
          "CHN<br>Policy costs in 2030: 349.5<br>REMIND-MAgPIE 2.1-4.2|CEMICS_SSP2-1p5C-fullCDR"
         ],
         "type": "box",
         "whiskerwidth": 0.2,
         "xaxis": "x2",
         "y": [
          2424.2305,
          2424.2305,
          null,
          null,
          null,
          null,
          null,
          null,
          397.0695694262096,
          286.009239820691,
          null,
          null,
          null,
          null,
          null,
          null,
          null,
          475.0936297258995,
          345.714746154259,
          53.78665704779996,
          null,
          null,
          null,
          null,
          null,
          null,
          null,
          null,
          null,
          null,
          null,
          null,
          null,
          null,
          null,
          null,
          null,
          null,
          null,
          -83.0208,
          null,
          177.611,
          178.167,
          230.881,
          null,
          null,
          null,
          null,
          null,
          null,
          null,
          null,
          null,
          null,
          null,
          null,
          null,
          null,
          null,
          null,
          null,
          null,
          null,
          -477.1026,
          -525.8348,
          373.442106224723,
          594.364456906015,
          363.38805087754,
          503.498406706131,
          349.514030272243
         ],
         "yaxis": "y2"
        },
        {
         "boxpoints": "all",
         "fillcolor": "steelblue",
         "hovertemplate": "%{text}",
         "jitter": 0.5,
         "line": {
          "color": "black",
          "width": 0.5
         },
         "marker": {
          "color": "black",
          "size": 3
         },
         "name": "CHN",
         "pointpos": -1.8,
         "showlegend": false,
         "text": [
          "CHN<br>CCS in 2030: 1191.8<br>AIM/CGE 2.1|CD-LINKS_NPi2020_400",
          "CHN<br>CCS in 2030: 1191.8<br>AIM/CGE 2.2|EN_NPi2020_300f",
          "CHN<br>CCS in 2030: 100.0<br>AIM/CGE 2.2|EN_NPi2020_600",
          "CHN<br>CCS in 2030: 5344.4<br>AIM/Hub-Global 2.0|1.5C",
          "CHN<br>CCS in 2030: 4803.4<br>C-ROADS-5.005|Ratchet-1.5-limCDR-noOS",
          "CHN<br>CCS in 2030: 3882.5<br>C-ROADS-5.005|Ratchet-1.5-noCDR",
          "CHN<br>CCS in 2030: 3122.7<br>C-ROADS-5.005|Ratchet-1.5-noCDR-noOS",
          "CHN<br>CCS in 2030: 2590.1<br>COFFEE 1.1|EN_NPi2020_400",
          "CHN<br>CCS in 2030: 0.0<br>GCAM 4.2|SSP1-19",
          "CHN<br>CCS in 2030: 0.0<br>GCAM 5.3|R_MAC_30_n0",
          "CHN<br>CCS in 2030: 2090.0<br>GCAM 5.3|R_MAC_35_n8",
          "CHN<br>CCS in 2030: 2761.3<br>GCAM 5.3|R_MAC_40_n8",
          "CHN<br>CCS in 2030: 1840.2<br>GCAM 5.3|R_MAC_45_n8",
          "CHN<br>CCS in 2030: 3623.8<br>GCAM 5.3|R_MAC_50_n8",
          "CHN<br>CCS in 2030: 2815.6<br>GEM-E3_V2021|EN_NPi2020_500",
          "CHN<br>CCS in 2030: 2896.3<br>GEM-E3_V2021|EN_NPi2020_600_COV",
          "CHN<br>CCS in 2030: 455.8<br>IMAGE 3.2|SSP1_SPA1_19I_D_LB",
          "CHN<br>CCS in 2030: 56.9<br>IMAGE 3.2|SSP1_SPA1_19I_LIRE_LB",
          "CHN<br>CCS in 2030: 79.4<br>IMAGE 3.2|SSP1_SPA1_19I_RE_LB",
          "CHN<br>CCS in 2030: 54.5<br>IMAGE 3.2|SSP2_SPA1_19I_D_LB",
          "CHN<br>CCS in 2030: 57.0<br>IMAGE 3.2|SSP2_SPA1_19I_LIRE_LB",
          "CHN<br>CCS in 2030: 57.0<br>IMAGE 3.2|SSP2_SPA1_19I_RE_LB",
          "CHN<br>CCS in 2030: 57.0<br>IMAGE 3.2|SSP2_SPA2_19I_LI",
          "CHN<br>CCS in 2030: 57.0<br>MESSAGE-GLOBIOM 1.0|ADVANCE_2020_1.5C-2100",
          "CHN<br>CCS in 2030: 79.5<br>MESSAGE-GLOBIOM 1.0|EMF33_1.5C_cost100",
          "CHN<br>CCS in 2030: 57.0<br>MESSAGE-GLOBIOM 1.0|EMF33_1.5C_full",
          "CHN<br>CCS in 2030: 75.4<br>MESSAGE-GLOBIOM 1.0|SSP2-19",
          "CHN<br>CCS in 2030: 104.2<br>MESSAGEix-GLOBIOM 1.0|CD-LINKS_NPi2020_400",
          "CHN<br>CCS in 2030: 77.8<br>MESSAGEix-GLOBIOM 1.0|LowEnergyDemand_1.3_IPCC",
          "CHN<br>CCS in 2030: 77.8<br>MESSAGEix-GLOBIOM_1.1|EN_NPi2020_450",
          "CHN<br>CCS in 2030: 75.4<br>MESSAGEix-GLOBIOM_1.1|EN_NPi2020_500",
          "CHN<br>CCS in 2030: 419.6<br>MESSAGEix-GLOBIOM_1.1|NGFS2_Divergent Net Zero Policies",
          "CHN<br>CCS in 2030: 388.4<br>MESSAGEix-GLOBIOM_1.1|NGFS2_Net-Zero 2050",
          "CHN<br>CCS in 2030: 382.4<br>MESSAGEix-GLOBIOM_1.1|EN_NPi2020_600_COV",
          "CHN<br>CCS in 2030: 391.7<br>MESSAGEix-GLOBIOM_1.1|EN_NPi2020_600_DR4p",
          "CHN<br>CCS in 2030: 215.8<br>MESSAGEix-GLOBIOM_1.1|EN_NPi2020_600_DR3p",
          "CHN<br>CCS in 2030: 294.5<br>MESSAGEix-GLOBIOM_1.1|EN_NPi2020_600_DR2p",
          "CHN<br>CCS in 2030: 356.7<br>MESSAGEix-GLOBIOM_1.1|EN_NPi2020_600_DR1p",
          "CHN<br>CCS in 2030: 499.5<br>MESSAGEix-GLOBIOM_1.2|COV_GreenPush_550",
          "CHN<br>CCS in 2030: 324.0<br>MESSAGEix-GLOBIOM_1.2|COV_NoPolicyNoCOVID_550",
          "CHN<br>CCS in 2030: nan<br>MESSAGEix-GLOBIOM_1.2|COV_Restore_550",
          "CHN<br>CCS in 2030: 167.8<br>MESSAGEix-GLOBIOM_1.2|COV_SelfReliance_550",
          "CHN<br>CCS in 2030: 665.8<br>MESSAGEix-GLOBIOM_1.2|COV_SmartUse_550",
          "CHN<br>CCS in 2030: 108.7<br>POLES ADVANCE|ADVANCE_2020_1.5C-2100",
          "CHN<br>CCS in 2030: 254.9<br>POLES EMF33|EMF33_WB2C_cost100",
          "CHN<br>CCS in 2030: 192.6<br>POLES EMF33|EMF33_WB2C_full",
          "CHN<br>CCS in 2030: 424.4<br>POLES EMF33|EMF33_WB2C_nofuel",
          "CHN<br>CCS in 2030: 192.6<br>REMIND 1.7|ADVANCE_2020_1.5C-2100",
          "CHN<br>CCS in 2030: 340.2<br>REMIND 1.7|CEMICS-1.5-CDR12",
          "CHN<br>CCS in 2030: 341.3<br>REMIND 1.7|CEMICS-1.5-CDR20",
          "CHN<br>CCS in 2030: 704.3<br>REMIND 1.7|CEMICS-1.5-CDR8",
          "CHN<br>CCS in 2030: 344.7<br>REMIND 1.7|CEMICS-2.0-CDR8",
          "CHN<br>CCS in 2030: 431.6<br>REMIND 2.1|CEMICS_GDPgrowth_1p5",
          "CHN<br>CCS in 2030: 345.3<br>REMIND 2.1|CEMICS_HotellingConst_1p5",
          "CHN<br>CCS in 2030: 321.8<br>REMIND 2.1|CEMICS_Linear_1p5",
          "CHN<br>CCS in 2030: 203.5<br>REMIND 2.1|CEMICS_opt_1p5",
          "CHN<br>CCS in 2030: 229.7<br>REMIND 2.1|LeastTotalCost_LTC_brkLR15_SSP1_P50",
          "CHN<br>CCS in 2030: 279.3<br>REMIND 2.1|R2p1_SSP1-PkBudg900",
          "CHN<br>CCS in 2030: 295.5<br>REMIND 2.1|R2p1_SSP2-PkBudg900",
          "CHN<br>CCS in 2030: 294.1<br>REMIND 2.1|R2p1_SSP5-PkBudg900",
          "CHN<br>CCS in 2030: 66.4<br>REMIND-MAgPIE 1.5|SSP2-19",
          "CHN<br>CCS in 2030: 280.2<br>REMIND-MAgPIE 1.7-3.0|CD-LINKS_NPi2020_400",
          "CHN<br>CCS in 2030: 343.5<br>REMIND-MAgPIE 1.7-3.0|EMF33_1.5C_nofuel",
          "CHN<br>CCS in 2030: 192.6<br>REMIND-MAgPIE 1.7-3.0|PEP_1p5C_full_eff",
          "CHN<br>CCS in 2030: 323.7<br>REMIND-MAgPIE 1.7-3.0|PEP_1p5C_red_eff",
          "CHN<br>CCS in 2030: 58.8<br>REMIND-MAgPIE 1.7-3.0|PEP_2C_red_eff",
          "CHN<br>CCS in 2030: 61.1<br>REMIND-MAgPIE 1.7-3.0|SMP_2C_lifesty",
          "CHN<br>CCS in 2030: 58.8<br>REMIND-MAgPIE 2.1-4.2|CEMICS_SSP1-1p5C-fullCDR",
          "CHN<br>CCS in 2030: 61.1<br>REMIND-MAgPIE 2.1-4.2|CEMICS_SSP1-1p5C-minCDR",
          "CHN<br>CCS in 2030: 58.8<br>REMIND-MAgPIE 2.1-4.2|CEMICS_SSP2-1p5C-fullCDR"
         ],
         "type": "box",
         "whiskerwidth": 0.2,
         "xaxis": "x3",
         "y": [
          1191.8225,
          1191.8225,
          99.984873,
          5344.38149375282,
          4803.4074487357,
          3882.54598585869,
          3122.66110427826,
          2590.10366933062,
          0.0181463155910195,
          0.0168400637371651,
          2090.0379373254,
          2761.296948824268,
          1840.16672383338,
          3623.806338785974,
          2815.617705019974,
          2896.336082321951,
          455.8333142027214,
          56.88169071702303,
          79.44353852953382,
          54.53474026187257,
          56.99056460818368,
          56.99056460818368,
          56.99056460818368,
          56.99056460818368,
          79.51603084,
          56.99056461,
          75.3535317550516,
          104.239068661753,
          77.8093561013627,
          77.8093561013627,
          75.3535317550516,
          419.5822,
          388.3928,
          382.3873,
          391.7422,
          215.7814,
          294.4511,
          356.6691,
          499.4554,
          324.0389,
          null,
          167.7506,
          665.7577,
          108.6615,
          254.9287,
          192.6424,
          424.3523,
          192.6424,
          340.1585,
          341.279,
          704.2651,
          344.6605,
          431.6311,
          345.259,
          321.8191,
          203.5146,
          229.7327,
          279.3117,
          295.502,
          294.0608,
          66.3943,
          280.1513,
          343.519,
          192.6424,
          323.7108,
          58.8236766010166,
          61.13761851188971,
          58.8236766010166,
          61.13761851188971,
          58.8236766010166
         ],
         "yaxis": "y3"
        },
        {
         "boxpoints": "all",
         "fillcolor": "steelblue",
         "hovertemplate": "%{text}",
         "jitter": 0.5,
         "line": {
          "color": "black",
          "width": 0.5
         },
         "marker": {
          "color": "black",
          "size": 3
         },
         "name": "CHN",
         "pointpos": -1.8,
         "showlegend": false,
         "text": [
          "CHN<br>Primary biomass traded in 2030: -0.0<br>AIM/CGE 2.1|CD-LINKS_NPi2020_400",
          "CHN<br>Primary biomass traded in 2030: -0.0<br>AIM/CGE 2.2|EN_NPi2020_300f",
          "CHN<br>Primary biomass traded in 2030: 0.0<br>AIM/CGE 2.2|EN_NPi2020_600",
          "CHN<br>Primary biomass traded in 2030: nan<br>AIM/Hub-Global 2.0|1.5C",
          "CHN<br>Primary biomass traded in 2030: nan<br>C-ROADS-5.005|Ratchet-1.5-limCDR-noOS",
          "CHN<br>Primary biomass traded in 2030: nan<br>C-ROADS-5.005|Ratchet-1.5-noCDR",
          "CHN<br>Primary biomass traded in 2030: nan<br>C-ROADS-5.005|Ratchet-1.5-noCDR-noOS",
          "CHN<br>Primary biomass traded in 2030: nan<br>COFFEE 1.1|EN_NPi2020_400",
          "CHN<br>Primary biomass traded in 2030: nan<br>GCAM 4.2|SSP1-19",
          "CHN<br>Primary biomass traded in 2030: nan<br>GCAM 5.3|R_MAC_30_n0",
          "CHN<br>Primary biomass traded in 2030: -0.1<br>GCAM 5.3|R_MAC_35_n8",
          "CHN<br>Primary biomass traded in 2030: -0.0<br>GCAM 5.3|R_MAC_40_n8",
          "CHN<br>Primary biomass traded in 2030: -0.1<br>GCAM 5.3|R_MAC_45_n8",
          "CHN<br>Primary biomass traded in 2030: -0.2<br>GCAM 5.3|R_MAC_50_n8",
          "CHN<br>Primary biomass traded in 2030: 0.4<br>GEM-E3_V2021|EN_NPi2020_500",
          "CHN<br>Primary biomass traded in 2030: -0.2<br>GEM-E3_V2021|EN_NPi2020_600_COV",
          "CHN<br>Primary biomass traded in 2030: 0.1<br>IMAGE 3.2|SSP1_SPA1_19I_D_LB",
          "CHN<br>Primary biomass traded in 2030: 0.0<br>IMAGE 3.2|SSP1_SPA1_19I_LIRE_LB",
          "CHN<br>Primary biomass traded in 2030: 0.0<br>IMAGE 3.2|SSP1_SPA1_19I_RE_LB",
          "CHN<br>Primary biomass traded in 2030: 0.0<br>IMAGE 3.2|SSP2_SPA1_19I_D_LB",
          "CHN<br>Primary biomass traded in 2030: 0.0<br>IMAGE 3.2|SSP2_SPA1_19I_LIRE_LB",
          "CHN<br>Primary biomass traded in 2030: 0.0<br>IMAGE 3.2|SSP2_SPA1_19I_RE_LB",
          "CHN<br>Primary biomass traded in 2030: 0.0<br>IMAGE 3.2|SSP2_SPA2_19I_LI",
          "CHN<br>Primary biomass traded in 2030: 0.0<br>MESSAGE-GLOBIOM 1.0|ADVANCE_2020_1.5C-2100",
          "CHN<br>Primary biomass traded in 2030: 0.0<br>MESSAGE-GLOBIOM 1.0|EMF33_1.5C_cost100",
          "CHN<br>Primary biomass traded in 2030: 0.0<br>MESSAGE-GLOBIOM 1.0|EMF33_1.5C_full",
          "CHN<br>Primary biomass traded in 2030: nan<br>MESSAGE-GLOBIOM 1.0|SSP2-19",
          "CHN<br>Primary biomass traded in 2030: nan<br>MESSAGEix-GLOBIOM 1.0|CD-LINKS_NPi2020_400",
          "CHN<br>Primary biomass traded in 2030: nan<br>MESSAGEix-GLOBIOM 1.0|LowEnergyDemand_1.3_IPCC",
          "CHN<br>Primary biomass traded in 2030: nan<br>MESSAGEix-GLOBIOM_1.1|EN_NPi2020_450",
          "CHN<br>Primary biomass traded in 2030: nan<br>MESSAGEix-GLOBIOM_1.1|EN_NPi2020_500",
          "CHN<br>Primary biomass traded in 2030: -1.7<br>MESSAGEix-GLOBIOM_1.1|NGFS2_Divergent Net Zero Policies",
          "CHN<br>Primary biomass traded in 2030: -1.4<br>MESSAGEix-GLOBIOM_1.1|NGFS2_Net-Zero 2050",
          "CHN<br>Primary biomass traded in 2030: -1.3<br>MESSAGEix-GLOBIOM_1.1|EN_NPi2020_600_COV",
          "CHN<br>Primary biomass traded in 2030: 0.1<br>MESSAGEix-GLOBIOM_1.1|EN_NPi2020_600_DR4p",
          "CHN<br>Primary biomass traded in 2030: -1.0<br>MESSAGEix-GLOBIOM_1.1|EN_NPi2020_600_DR3p",
          "CHN<br>Primary biomass traded in 2030: -1.5<br>MESSAGEix-GLOBIOM_1.1|EN_NPi2020_600_DR2p",
          "CHN<br>Primary biomass traded in 2030: -1.9<br>MESSAGEix-GLOBIOM_1.1|EN_NPi2020_600_DR1p",
          "CHN<br>Primary biomass traded in 2030: -1.1<br>MESSAGEix-GLOBIOM_1.2|COV_GreenPush_550",
          "CHN<br>Primary biomass traded in 2030: -1.6<br>MESSAGEix-GLOBIOM_1.2|COV_NoPolicyNoCOVID_550",
          "CHN<br>Primary biomass traded in 2030: nan<br>MESSAGEix-GLOBIOM_1.2|COV_Restore_550",
          "CHN<br>Primary biomass traded in 2030: -1.7<br>MESSAGEix-GLOBIOM_1.2|COV_SelfReliance_550",
          "CHN<br>Primary biomass traded in 2030: 2.1<br>MESSAGEix-GLOBIOM_1.2|COV_SmartUse_550",
          "CHN<br>Primary biomass traded in 2030: -0.8<br>POLES ADVANCE|ADVANCE_2020_1.5C-2100",
          "CHN<br>Primary biomass traded in 2030: -1.5<br>POLES EMF33|EMF33_WB2C_cost100",
          "CHN<br>Primary biomass traded in 2030: -0.8<br>POLES EMF33|EMF33_WB2C_full",
          "CHN<br>Primary biomass traded in 2030: -1.3<br>POLES EMF33|EMF33_WB2C_nofuel",
          "CHN<br>Primary biomass traded in 2030: 0.3<br>REMIND 1.7|ADVANCE_2020_1.5C-2100",
          "CHN<br>Primary biomass traded in 2030: -0.7<br>REMIND 1.7|CEMICS-1.5-CDR12",
          "CHN<br>Primary biomass traded in 2030: -0.7<br>REMIND 1.7|CEMICS-1.5-CDR20",
          "CHN<br>Primary biomass traded in 2030: -1.3<br>REMIND 1.7|CEMICS-1.5-CDR8",
          "CHN<br>Primary biomass traded in 2030: -0.8<br>REMIND 1.7|CEMICS-2.0-CDR8",
          "CHN<br>Primary biomass traded in 2030: -1.1<br>REMIND 2.1|CEMICS_GDPgrowth_1p5",
          "CHN<br>Primary biomass traded in 2030: -0.9<br>REMIND 2.1|CEMICS_HotellingConst_1p5",
          "CHN<br>Primary biomass traded in 2030: -1.1<br>REMIND 2.1|CEMICS_Linear_1p5",
          "CHN<br>Primary biomass traded in 2030: -0.7<br>REMIND 2.1|CEMICS_opt_1p5",
          "CHN<br>Primary biomass traded in 2030: -1.6<br>REMIND 2.1|LeastTotalCost_LTC_brkLR15_SSP1_P50",
          "CHN<br>Primary biomass traded in 2030: -0.1<br>REMIND 2.1|R2p1_SSP1-PkBudg900",
          "CHN<br>Primary biomass traded in 2030: -0.2<br>REMIND 2.1|R2p1_SSP2-PkBudg900",
          "CHN<br>Primary biomass traded in 2030: -0.2<br>REMIND 2.1|R2p1_SSP5-PkBudg900",
          "CHN<br>Primary biomass traded in 2030: 0.1<br>REMIND-MAgPIE 1.5|SSP2-19",
          "CHN<br>Primary biomass traded in 2030: -1.2<br>REMIND-MAgPIE 1.7-3.0|CD-LINKS_NPi2020_400",
          "CHN<br>Primary biomass traded in 2030: -0.9<br>REMIND-MAgPIE 1.7-3.0|EMF33_1.5C_nofuel",
          "CHN<br>Primary biomass traded in 2030: 0.3<br>REMIND-MAgPIE 1.7-3.0|PEP_1p5C_full_eff",
          "CHN<br>Primary biomass traded in 2030: 0.5<br>REMIND-MAgPIE 1.7-3.0|PEP_1p5C_red_eff",
          "CHN<br>Primary biomass traded in 2030: nan<br>REMIND-MAgPIE 1.7-3.0|PEP_2C_red_eff",
          "CHN<br>Primary biomass traded in 2030: nan<br>REMIND-MAgPIE 1.7-3.0|SMP_2C_lifesty",
          "CHN<br>Primary biomass traded in 2030: nan<br>REMIND-MAgPIE 2.1-4.2|CEMICS_SSP1-1p5C-fullCDR",
          "CHN<br>Primary biomass traded in 2030: nan<br>REMIND-MAgPIE 2.1-4.2|CEMICS_SSP1-1p5C-minCDR",
          "CHN<br>Primary biomass traded in 2030: nan<br>REMIND-MAgPIE 2.1-4.2|CEMICS_SSP2-1p5C-fullCDR"
         ],
         "type": "box",
         "whiskerwidth": 0.2,
         "xaxis": "x4",
         "y": [
          -0.0083,
          -0.0083,
          0,
          null,
          null,
          null,
          null,
          null,
          null,
          null,
          -0.0516362190246582,
          -0.0363903999328613,
          -0.0527621116638183,
          -0.1807554931640625,
          0.4028963928222656,
          -0.1600050964355469,
          0.0624617004394531,
          0,
          0,
          0,
          0,
          0,
          0,
          0,
          0,
          0,
          null,
          null,
          null,
          null,
          null,
          -1.7381,
          -1.4256,
          -1.2982,
          0.1492,
          -1.0141,
          -1.4578,
          -1.9255,
          -1.1034,
          -1.5596,
          null,
          -1.6852,
          2.0721,
          -0.8389000000000001,
          -1.5317,
          -0.7741,
          -1.3,
          0.2662,
          -0.7067,
          -0.7021,
          -1.2888,
          -0.7566,
          -1.1053,
          -0.9006,
          -1.1239,
          -0.6923,
          -1.5829,
          -0.0829,
          -0.2448,
          -0.2064,
          0.1385,
          -1.2069,
          -0.9409,
          0.3101,
          0.5202,
          null,
          null,
          null,
          null,
          null
         ],
         "yaxis": "y4"
        },
        {
         "boxpoints": "all",
         "fillcolor": "goldenrod",
         "hovertemplate": "%{text}",
         "jitter": 0.5,
         "line": {
          "color": "black",
          "width": 0.5
         },
         "marker": {
          "color": "black",
          "size": 3
         },
         "name": "IND",
         "pointpos": -1.8,
         "showlegend": false,
         "text": [
          "IND<br>GHG emission reduction in 2030: 0.4<br>AIM/CGE 2.1|CD-LINKS_NPi2020_400",
          "IND<br>GHG emission reduction in 2030: 0.4<br>AIM/CGE 2.2|EN_NPi2020_300f",
          "IND<br>GHG emission reduction in 2030: 0.3<br>AIM/CGE 2.2|EN_NPi2020_600",
          "IND<br>GHG emission reduction in 2030: 0.8<br>AIM/Hub-Global 2.0|1.5C",
          "IND<br>GHG emission reduction in 2030: 0.7<br>C-ROADS-5.005|Ratchet-1.5-limCDR-noOS",
          "IND<br>GHG emission reduction in 2030: 0.5<br>C-ROADS-5.005|Ratchet-1.5-noCDR",
          "IND<br>GHG emission reduction in 2030: 0.3<br>C-ROADS-5.005|Ratchet-1.5-noCDR-noOS",
          "IND<br>GHG emission reduction in 2030: 0.2<br>COFFEE 1.1|EN_NPi2020_400",
          "IND<br>GHG emission reduction in 2030: 0.4<br>GCAM 4.2|SSP1-19",
          "IND<br>GHG emission reduction in 2030: 0.3<br>GCAM 5.3|R_MAC_30_n0",
          "IND<br>GHG emission reduction in 2030: 0.3<br>GCAM 5.3|R_MAC_35_n8",
          "IND<br>GHG emission reduction in 2030: 0.3<br>GCAM 5.3|R_MAC_40_n8",
          "IND<br>GHG emission reduction in 2030: 0.3<br>GCAM 5.3|R_MAC_45_n8",
          "IND<br>GHG emission reduction in 2030: 0.2<br>GCAM 5.3|R_MAC_50_n8",
          "IND<br>GHG emission reduction in 2030: 0.2<br>GEM-E3_V2021|EN_NPi2020_500",
          "IND<br>GHG emission reduction in 2030: 0.2<br>GEM-E3_V2021|EN_NPi2020_600_COV",
          "IND<br>GHG emission reduction in 2030: 0.1<br>IMAGE 3.2|SSP1_SPA1_19I_D_LB",
          "IND<br>GHG emission reduction in 2030: 0.5<br>IMAGE 3.2|SSP1_SPA1_19I_LIRE_LB",
          "IND<br>GHG emission reduction in 2030: 0.5<br>IMAGE 3.2|SSP1_SPA1_19I_RE_LB",
          "IND<br>GHG emission reduction in 2030: 0.4<br>IMAGE 3.2|SSP2_SPA1_19I_D_LB",
          "IND<br>GHG emission reduction in 2030: 0.3<br>IMAGE 3.2|SSP2_SPA1_19I_LIRE_LB",
          "IND<br>GHG emission reduction in 2030: 0.3<br>IMAGE 3.2|SSP2_SPA1_19I_RE_LB",
          "IND<br>GHG emission reduction in 2030: 0.3<br>IMAGE 3.2|SSP2_SPA2_19I_LI",
          "IND<br>GHG emission reduction in 2030: 0.3<br>MESSAGE-GLOBIOM 1.0|ADVANCE_2020_1.5C-2100",
          "IND<br>GHG emission reduction in 2030: 0.3<br>MESSAGE-GLOBIOM 1.0|EMF33_1.5C_cost100",
          "IND<br>GHG emission reduction in 2030: 0.3<br>MESSAGE-GLOBIOM 1.0|EMF33_1.5C_full",
          "IND<br>GHG emission reduction in 2030: 0.5<br>MESSAGE-GLOBIOM 1.0|SSP2-19",
          "IND<br>GHG emission reduction in 2030: 0.5<br>MESSAGEix-GLOBIOM 1.0|CD-LINKS_NPi2020_400",
          "IND<br>GHG emission reduction in 2030: 0.5<br>MESSAGEix-GLOBIOM 1.0|LowEnergyDemand_1.3_IPCC",
          "IND<br>GHG emission reduction in 2030: 0.5<br>MESSAGEix-GLOBIOM_1.1|EN_NPi2020_450",
          "IND<br>GHG emission reduction in 2030: 0.5<br>MESSAGEix-GLOBIOM_1.1|EN_NPi2020_500",
          "IND<br>GHG emission reduction in 2030: 0.3<br>MESSAGEix-GLOBIOM_1.1|NGFS2_Divergent Net Zero Policies",
          "IND<br>GHG emission reduction in 2030: 0.1<br>MESSAGEix-GLOBIOM_1.1|NGFS2_Net-Zero 2050",
          "IND<br>GHG emission reduction in 2030: 0.2<br>MESSAGEix-GLOBIOM_1.1|EN_NPi2020_600_COV",
          "IND<br>GHG emission reduction in 2030: 0.2<br>MESSAGEix-GLOBIOM_1.1|EN_NPi2020_600_DR4p",
          "IND<br>GHG emission reduction in 2030: 0.1<br>MESSAGEix-GLOBIOM_1.1|EN_NPi2020_600_DR3p",
          "IND<br>GHG emission reduction in 2030: -0.0<br>MESSAGEix-GLOBIOM_1.1|EN_NPi2020_600_DR2p",
          "IND<br>GHG emission reduction in 2030: -0.0<br>MESSAGEix-GLOBIOM_1.1|EN_NPi2020_600_DR1p",
          "IND<br>GHG emission reduction in 2030: -0.1<br>MESSAGEix-GLOBIOM_1.2|COV_GreenPush_550",
          "IND<br>GHG emission reduction in 2030: 0.3<br>MESSAGEix-GLOBIOM_1.2|COV_NoPolicyNoCOVID_550",
          "IND<br>GHG emission reduction in 2030: nan<br>MESSAGEix-GLOBIOM_1.2|COV_Restore_550",
          "IND<br>GHG emission reduction in 2030: 0.3<br>MESSAGEix-GLOBIOM_1.2|COV_SelfReliance_550",
          "IND<br>GHG emission reduction in 2030: 0.5<br>MESSAGEix-GLOBIOM_1.2|COV_SmartUse_550",
          "IND<br>GHG emission reduction in 2030: 0.3<br>POLES ADVANCE|ADVANCE_2020_1.5C-2100",
          "IND<br>GHG emission reduction in 2030: -0.1<br>POLES EMF33|EMF33_WB2C_cost100",
          "IND<br>GHG emission reduction in 2030: 0.1<br>POLES EMF33|EMF33_WB2C_full",
          "IND<br>GHG emission reduction in 2030: -0.1<br>POLES EMF33|EMF33_WB2C_nofuel",
          "IND<br>GHG emission reduction in 2030: 0.2<br>REMIND 1.7|ADVANCE_2020_1.5C-2100",
          "IND<br>GHG emission reduction in 2030: 0.2<br>REMIND 1.7|CEMICS-1.5-CDR12",
          "IND<br>GHG emission reduction in 2030: 0.2<br>REMIND 1.7|CEMICS-1.5-CDR20",
          "IND<br>GHG emission reduction in 2030: 0.5<br>REMIND 1.7|CEMICS-1.5-CDR8",
          "IND<br>GHG emission reduction in 2030: 0.2<br>REMIND 1.7|CEMICS-2.0-CDR8",
          "IND<br>GHG emission reduction in 2030: 0.4<br>REMIND 2.1|CEMICS_GDPgrowth_1p5",
          "IND<br>GHG emission reduction in 2030: 0.3<br>REMIND 2.1|CEMICS_HotellingConst_1p5",
          "IND<br>GHG emission reduction in 2030: 0.2<br>REMIND 2.1|CEMICS_Linear_1p5",
          "IND<br>GHG emission reduction in 2030: 0.1<br>REMIND 2.1|CEMICS_opt_1p5",
          "IND<br>GHG emission reduction in 2030: 0.1<br>REMIND 2.1|LeastTotalCost_LTC_brkLR15_SSP1_P50",
          "IND<br>GHG emission reduction in 2030: 0.1<br>REMIND 2.1|R2p1_SSP1-PkBudg900",
          "IND<br>GHG emission reduction in 2030: 0.2<br>REMIND 2.1|R2p1_SSP2-PkBudg900",
          "IND<br>GHG emission reduction in 2030: 0.2<br>REMIND 2.1|R2p1_SSP5-PkBudg900",
          "IND<br>GHG emission reduction in 2030: 0.0<br>REMIND-MAgPIE 1.5|SSP2-19",
          "IND<br>GHG emission reduction in 2030: 0.1<br>REMIND-MAgPIE 1.7-3.0|CD-LINKS_NPi2020_400",
          "IND<br>GHG emission reduction in 2030: 0.1<br>REMIND-MAgPIE 1.7-3.0|EMF33_1.5C_nofuel",
          "IND<br>GHG emission reduction in 2030: 0.2<br>REMIND-MAgPIE 1.7-3.0|PEP_1p5C_full_eff",
          "IND<br>GHG emission reduction in 2030: 0.1<br>REMIND-MAgPIE 1.7-3.0|PEP_1p5C_red_eff",
          "IND<br>GHG emission reduction in 2030: 0.4<br>REMIND-MAgPIE 1.7-3.0|PEP_2C_red_eff",
          "IND<br>GHG emission reduction in 2030: 0.6<br>REMIND-MAgPIE 1.7-3.0|SMP_2C_lifesty",
          "IND<br>GHG emission reduction in 2030: 0.4<br>REMIND-MAgPIE 2.1-4.2|CEMICS_SSP1-1p5C-fullCDR",
          "IND<br>GHG emission reduction in 2030: 0.5<br>REMIND-MAgPIE 2.1-4.2|CEMICS_SSP1-1p5C-minCDR",
          "IND<br>GHG emission reduction in 2030: 0.4<br>REMIND-MAgPIE 2.1-4.2|CEMICS_SSP2-1p5C-fullCDR"
         ],
         "type": "box",
         "whiskerwidth": 0.2,
         "xaxis": "x",
         "y": [
          0.4413099936999161,
          0.4413099936999161,
          0.2854010360976873,
          0.8128238513416903,
          0.6942767858147835,
          0.45786773797050856,
          0.2862230473669709,
          0.18322040420807006,
          0.4001813911769498,
          0.2835902878577433,
          0.2857252959610251,
          0.2790616182128754,
          0.28857564063908314,
          0.2371989019752054,
          0.24516658260953159,
          0.2492069402389132,
          0.05589582515813447,
          0.5405976878595988,
          0.4849888301686751,
          0.35115491144173905,
          0.31635678140314694,
          0.3300220686327713,
          0.32965114396396766,
          0.3204498722028725,
          0.29364710883810946,
          0.2594007199524502,
          0.4558922301261942,
          0.4665793586970756,
          0.45694289320377923,
          0.46240072173825264,
          0.4584006377042811,
          0.25920382636785855,
          0.11775609947567339,
          0.1577234179391972,
          0.1545832446846771,
          0.09235415348152023,
          -0.001398703896505216,
          -0.004598744705670702,
          -0.1261867061485259,
          0.3024831111294504,
          null,
          0.26405183981990366,
          0.46389066771153087,
          0.26221759686497526,
          -0.05769497062590283,
          0.11380298023080729,
          -0.07222370677887091,
          0.203232215961973,
          0.23713748030533252,
          0.21298557384902084,
          0.4705903104097747,
          0.17903830641322996,
          0.37304332258962736,
          0.26315726163857095,
          0.1779414329019912,
          0.07654338668206691,
          0.07796008451559859,
          0.10441564440253703,
          0.20572463704562427,
          0.1832246773844571,
          0.038598869503330274,
          0.07026728700742285,
          0.05040560462933667,
          0.15427543512035174,
          0.08052260378838373,
          0.4153231393273635,
          0.5614427566023334,
          0.402926329299607,
          0.49049249140529927,
          0.39053555307309157
         ],
         "yaxis": "y"
        },
        {
         "marker": {
          "color": "goldenrod",
          "colorscale": [
           [
            0,
            "rgb(158,1,66)"
           ],
           [
            0.1,
            "rgb(213,62,79)"
           ],
           [
            0.2,
            "rgb(244,109,67)"
           ],
           [
            0.3,
            "rgb(253,174,97)"
           ],
           [
            0.4,
            "rgb(254,224,139)"
           ],
           [
            0.5,
            "rgb(255,255,191)"
           ],
           [
            0.6,
            "rgb(230,245,152)"
           ],
           [
            0.7,
            "rgb(171,221,164)"
           ],
           [
            0.8,
            "rgb(102,194,165)"
           ],
           [
            0.9,
            "rgb(50,136,189)"
           ],
           [
            1,
            "rgb(94,79,162)"
           ]
          ],
          "line": {
           "color": "black",
           "width": 0.2
          },
          "size": 25,
          "symbol": "circle"
         },
         "mode": "markers+text",
         "showlegend": false,
         "text": "GF",
         "textfont": {
          "color": "black",
          "family": "Arial black",
          "size": 13
         },
         "type": "scatter",
         "x": [
          "IND"
         ],
         "xaxis": "x",
         "y": [
          0.43218777089074184
         ],
         "yaxis": "y"
        },
        {
         "marker": {
          "color": "goldenrod",
          "colorscale": [
           [
            0,
            "rgb(158,1,66)"
           ],
           [
            0.1,
            "rgb(213,62,79)"
           ],
           [
            0.2,
            "rgb(244,109,67)"
           ],
           [
            0.3,
            "rgb(253,174,97)"
           ],
           [
            0.4,
            "rgb(254,224,139)"
           ],
           [
            0.5,
            "rgb(255,255,191)"
           ],
           [
            0.6,
            "rgb(230,245,152)"
           ],
           [
            0.7,
            "rgb(171,221,164)"
           ],
           [
            0.8,
            "rgb(102,194,165)"
           ],
           [
            0.9,
            "rgb(50,136,189)"
           ],
           [
            1,
            "rgb(94,79,162)"
           ]
          ],
          "line": {
           "color": "black",
           "width": 0.2
          },
          "size": 25,
          "symbol": "square"
         },
         "mode": "markers+text",
         "showlegend": false,
         "text": "PC",
         "textfont": {
          "color": "black",
          "family": "Arial black",
          "size": 13
         },
         "type": "scatter",
         "x": [
          "IND"
         ],
         "xaxis": "x",
         "y": [
          -0.3130904296864603
         ],
         "yaxis": "y"
        },
        {
         "marker": {
          "color": "goldenrod",
          "colorscale": [
           [
            0,
            "rgb(158,1,66)"
           ],
           [
            0.1,
            "rgb(213,62,79)"
           ],
           [
            0.2,
            "rgb(244,109,67)"
           ],
           [
            0.3,
            "rgb(253,174,97)"
           ],
           [
            0.4,
            "rgb(254,224,139)"
           ],
           [
            0.5,
            "rgb(255,255,191)"
           ],
           [
            0.6,
            "rgb(230,245,152)"
           ],
           [
            0.7,
            "rgb(171,221,164)"
           ],
           [
            0.8,
            "rgb(102,194,165)"
           ],
           [
            0.9,
            "rgb(50,136,189)"
           ],
           [
            1,
            "rgb(94,79,162)"
           ]
          ],
          "line": {
           "color": "black",
           "width": 0.2
          },
          "size": 25,
          "symbol": "diamond"
         },
         "mode": "markers+text",
         "showlegend": false,
         "text": "PCC",
         "textfont": {
          "color": "black",
          "family": "Arial black",
          "size": 13
         },
         "type": "scatter",
         "x": [
          "IND"
         ],
         "xaxis": "x",
         "y": [
          0.059548670602140794
         ],
         "yaxis": "y"
        },
        {
         "marker": {
          "color": "goldenrod",
          "colorscale": [
           [
            0,
            "rgb(158,1,66)"
           ],
           [
            0.1,
            "rgb(213,62,79)"
           ],
           [
            0.2,
            "rgb(244,109,67)"
           ],
           [
            0.3,
            "rgb(253,174,97)"
           ],
           [
            0.4,
            "rgb(254,224,139)"
           ],
           [
            0.5,
            "rgb(255,255,191)"
           ],
           [
            0.6,
            "rgb(230,245,152)"
           ],
           [
            0.7,
            "rgb(171,221,164)"
           ],
           [
            0.8,
            "rgb(102,194,165)"
           ],
           [
            0.9,
            "rgb(50,136,189)"
           ],
           [
            1,
            "rgb(94,79,162)"
           ]
          ],
          "line": {
           "color": "black",
           "width": 0.2
          },
          "size": 25,
          "symbol": "triangle-up"
         },
         "mode": "markers+text",
         "showlegend": false,
         "text": "NDC",
         "textfont": {
          "color": "black",
          "family": "Arial black",
          "size": 13
         },
         "type": "scatter",
         "x": [
          "IND"
         ],
         "xaxis": "x",
         "y": [
          -0.5427867396848229
         ],
         "yaxis": "y"
        },
        {
         "boxpoints": "all",
         "fillcolor": "goldenrod",
         "hovertemplate": "%{text}",
         "jitter": 0.5,
         "line": {
          "color": "black",
          "width": 0.5
         },
         "marker": {
          "color": "black",
          "size": 3
         },
         "name": "IND",
         "pointpos": -1.8,
         "showlegend": false,
         "text": [
          "IND<br>Policy costs in 2030: 604.5<br>AIM/CGE 2.1|CD-LINKS_NPi2020_400",
          "IND<br>Policy costs in 2030: 604.5<br>AIM/CGE 2.2|EN_NPi2020_300f",
          "IND<br>Policy costs in 2030: nan<br>AIM/CGE 2.2|EN_NPi2020_600",
          "IND<br>Policy costs in 2030: nan<br>AIM/Hub-Global 2.0|1.5C",
          "IND<br>Policy costs in 2030: nan<br>C-ROADS-5.005|Ratchet-1.5-limCDR-noOS",
          "IND<br>Policy costs in 2030: nan<br>C-ROADS-5.005|Ratchet-1.5-noCDR",
          "IND<br>Policy costs in 2030: nan<br>C-ROADS-5.005|Ratchet-1.5-noCDR-noOS",
          "IND<br>Policy costs in 2030: nan<br>COFFEE 1.1|EN_NPi2020_400",
          "IND<br>Policy costs in 2030: 189.3<br>GCAM 4.2|SSP1-19",
          "IND<br>Policy costs in 2030: 128.0<br>GCAM 5.3|R_MAC_30_n0",
          "IND<br>Policy costs in 2030: nan<br>GCAM 5.3|R_MAC_35_n8",
          "IND<br>Policy costs in 2030: nan<br>GCAM 5.3|R_MAC_40_n8",
          "IND<br>Policy costs in 2030: nan<br>GCAM 5.3|R_MAC_45_n8",
          "IND<br>Policy costs in 2030: nan<br>GCAM 5.3|R_MAC_50_n8",
          "IND<br>Policy costs in 2030: nan<br>GEM-E3_V2021|EN_NPi2020_500",
          "IND<br>Policy costs in 2030: nan<br>GEM-E3_V2021|EN_NPi2020_600_COV",
          "IND<br>Policy costs in 2030: nan<br>IMAGE 3.2|SSP1_SPA1_19I_D_LB",
          "IND<br>Policy costs in 2030: 205.7<br>IMAGE 3.2|SSP1_SPA1_19I_LIRE_LB",
          "IND<br>Policy costs in 2030: 122.6<br>IMAGE 3.2|SSP1_SPA1_19I_RE_LB",
          "IND<br>Policy costs in 2030: 25.0<br>IMAGE 3.2|SSP2_SPA1_19I_D_LB",
          "IND<br>Policy costs in 2030: nan<br>IMAGE 3.2|SSP2_SPA1_19I_LIRE_LB",
          "IND<br>Policy costs in 2030: nan<br>IMAGE 3.2|SSP2_SPA1_19I_RE_LB",
          "IND<br>Policy costs in 2030: nan<br>IMAGE 3.2|SSP2_SPA2_19I_LI",
          "IND<br>Policy costs in 2030: nan<br>MESSAGE-GLOBIOM 1.0|ADVANCE_2020_1.5C-2100",
          "IND<br>Policy costs in 2030: nan<br>MESSAGE-GLOBIOM 1.0|EMF33_1.5C_cost100",
          "IND<br>Policy costs in 2030: nan<br>MESSAGE-GLOBIOM 1.0|EMF33_1.5C_full",
          "IND<br>Policy costs in 2030: nan<br>MESSAGE-GLOBIOM 1.0|SSP2-19",
          "IND<br>Policy costs in 2030: nan<br>MESSAGEix-GLOBIOM 1.0|CD-LINKS_NPi2020_400",
          "IND<br>Policy costs in 2030: nan<br>MESSAGEix-GLOBIOM 1.0|LowEnergyDemand_1.3_IPCC",
          "IND<br>Policy costs in 2030: nan<br>MESSAGEix-GLOBIOM_1.1|EN_NPi2020_450",
          "IND<br>Policy costs in 2030: nan<br>MESSAGEix-GLOBIOM_1.1|EN_NPi2020_500",
          "IND<br>Policy costs in 2030: nan<br>MESSAGEix-GLOBIOM_1.1|NGFS2_Divergent Net Zero Policies",
          "IND<br>Policy costs in 2030: nan<br>MESSAGEix-GLOBIOM_1.1|NGFS2_Net-Zero 2050",
          "IND<br>Policy costs in 2030: nan<br>MESSAGEix-GLOBIOM_1.1|EN_NPi2020_600_COV",
          "IND<br>Policy costs in 2030: nan<br>MESSAGEix-GLOBIOM_1.1|EN_NPi2020_600_DR4p",
          "IND<br>Policy costs in 2030: nan<br>MESSAGEix-GLOBIOM_1.1|EN_NPi2020_600_DR3p",
          "IND<br>Policy costs in 2030: nan<br>MESSAGEix-GLOBIOM_1.1|EN_NPi2020_600_DR2p",
          "IND<br>Policy costs in 2030: nan<br>MESSAGEix-GLOBIOM_1.1|EN_NPi2020_600_DR1p",
          "IND<br>Policy costs in 2030: nan<br>MESSAGEix-GLOBIOM_1.2|COV_GreenPush_550",
          "IND<br>Policy costs in 2030: 38.5<br>MESSAGEix-GLOBIOM_1.2|COV_NoPolicyNoCOVID_550",
          "IND<br>Policy costs in 2030: nan<br>MESSAGEix-GLOBIOM_1.2|COV_Restore_550",
          "IND<br>Policy costs in 2030: 89.7<br>MESSAGEix-GLOBIOM_1.2|COV_SelfReliance_550",
          "IND<br>Policy costs in 2030: 420.0<br>MESSAGEix-GLOBIOM_1.2|COV_SmartUse_550",
          "IND<br>Policy costs in 2030: 159.1<br>POLES ADVANCE|ADVANCE_2020_1.5C-2100",
          "IND<br>Policy costs in 2030: nan<br>POLES EMF33|EMF33_WB2C_cost100",
          "IND<br>Policy costs in 2030: nan<br>POLES EMF33|EMF33_WB2C_full",
          "IND<br>Policy costs in 2030: nan<br>POLES EMF33|EMF33_WB2C_nofuel",
          "IND<br>Policy costs in 2030: nan<br>REMIND 1.7|ADVANCE_2020_1.5C-2100",
          "IND<br>Policy costs in 2030: nan<br>REMIND 1.7|CEMICS-1.5-CDR12",
          "IND<br>Policy costs in 2030: nan<br>REMIND 1.7|CEMICS-1.5-CDR20",
          "IND<br>Policy costs in 2030: nan<br>REMIND 1.7|CEMICS-1.5-CDR8",
          "IND<br>Policy costs in 2030: nan<br>REMIND 1.7|CEMICS-2.0-CDR8",
          "IND<br>Policy costs in 2030: nan<br>REMIND 2.1|CEMICS_GDPgrowth_1p5",
          "IND<br>Policy costs in 2030: nan<br>REMIND 2.1|CEMICS_HotellingConst_1p5",
          "IND<br>Policy costs in 2030: nan<br>REMIND 2.1|CEMICS_Linear_1p5",
          "IND<br>Policy costs in 2030: nan<br>REMIND 2.1|CEMICS_opt_1p5",
          "IND<br>Policy costs in 2030: nan<br>REMIND 2.1|LeastTotalCost_LTC_brkLR15_SSP1_P50",
          "IND<br>Policy costs in 2030: nan<br>REMIND 2.1|R2p1_SSP1-PkBudg900",
          "IND<br>Policy costs in 2030: nan<br>REMIND 2.1|R2p1_SSP2-PkBudg900",
          "IND<br>Policy costs in 2030: nan<br>REMIND 2.1|R2p1_SSP5-PkBudg900",
          "IND<br>Policy costs in 2030: nan<br>REMIND-MAgPIE 1.5|SSP2-19",
          "IND<br>Policy costs in 2030: nan<br>REMIND-MAgPIE 1.7-3.0|CD-LINKS_NPi2020_400",
          "IND<br>Policy costs in 2030: nan<br>REMIND-MAgPIE 1.7-3.0|EMF33_1.5C_nofuel",
          "IND<br>Policy costs in 2030: -29.6<br>REMIND-MAgPIE 1.7-3.0|PEP_1p5C_full_eff",
          "IND<br>Policy costs in 2030: -52.8<br>REMIND-MAgPIE 1.7-3.0|PEP_1p5C_red_eff",
          "IND<br>Policy costs in 2030: 127.7<br>REMIND-MAgPIE 1.7-3.0|PEP_2C_red_eff",
          "IND<br>Policy costs in 2030: 253.1<br>REMIND-MAgPIE 1.7-3.0|SMP_2C_lifesty",
          "IND<br>Policy costs in 2030: 119.8<br>REMIND-MAgPIE 2.1-4.2|CEMICS_SSP1-1p5C-fullCDR",
          "IND<br>Policy costs in 2030: 199.9<br>REMIND-MAgPIE 2.1-4.2|CEMICS_SSP1-1p5C-minCDR",
          "IND<br>Policy costs in 2030: 112.4<br>REMIND-MAgPIE 2.1-4.2|CEMICS_SSP2-1p5C-fullCDR"
         ],
         "type": "box",
         "whiskerwidth": 0.2,
         "xaxis": "x2",
         "y": [
          604.5167,
          604.5167,
          null,
          null,
          null,
          null,
          null,
          null,
          189.27057153693704,
          128.00465482073972,
          null,
          null,
          null,
          null,
          null,
          null,
          null,
          205.7410960700281,
          122.5782375336321,
          25.01592977645805,
          null,
          null,
          null,
          null,
          null,
          null,
          null,
          null,
          null,
          null,
          null,
          null,
          null,
          null,
          null,
          null,
          null,
          null,
          null,
          38.4544,
          null,
          89.72620000000009,
          420.0172,
          159.1422,
          null,
          null,
          null,
          null,
          null,
          null,
          null,
          null,
          null,
          null,
          null,
          null,
          null,
          null,
          null,
          null,
          null,
          null,
          null,
          -29.5709,
          -52.7836,
          127.718921487139,
          253.128309847483,
          119.75704654543,
          199.942867483106,
          112.372152228922
         ],
         "yaxis": "y2"
        },
        {
         "boxpoints": "all",
         "fillcolor": "goldenrod",
         "hovertemplate": "%{text}",
         "jitter": 0.5,
         "line": {
          "color": "black",
          "width": 0.5
         },
         "marker": {
          "color": "black",
          "size": 3
         },
         "name": "IND",
         "pointpos": -1.8,
         "showlegend": false,
         "text": [
          "IND<br>CCS in 2030: 220.8<br>AIM/CGE 2.1|CD-LINKS_NPi2020_400",
          "IND<br>CCS in 2030: 220.8<br>AIM/CGE 2.2|EN_NPi2020_300f",
          "IND<br>CCS in 2030: 50.0<br>AIM/CGE 2.2|EN_NPi2020_600",
          "IND<br>CCS in 2030: 2589.3<br>AIM/Hub-Global 2.0|1.5C",
          "IND<br>CCS in 2030: 2353.0<br>C-ROADS-5.005|Ratchet-1.5-limCDR-noOS",
          "IND<br>CCS in 2030: 1787.7<br>C-ROADS-5.005|Ratchet-1.5-noCDR",
          "IND<br>CCS in 2030: 1407.1<br>C-ROADS-5.005|Ratchet-1.5-noCDR-noOS",
          "IND<br>CCS in 2030: 1179.1<br>COFFEE 1.1|EN_NPi2020_400",
          "IND<br>CCS in 2030: 0.0<br>GCAM 4.2|SSP1-19",
          "IND<br>CCS in 2030: 0.0<br>GCAM 5.3|R_MAC_30_n0",
          "IND<br>CCS in 2030: 640.7<br>GCAM 5.3|R_MAC_35_n8",
          "IND<br>CCS in 2030: 847.0<br>GCAM 5.3|R_MAC_40_n8",
          "IND<br>CCS in 2030: 482.0<br>GCAM 5.3|R_MAC_45_n8",
          "IND<br>CCS in 2030: 1020.6<br>GCAM 5.3|R_MAC_50_n8",
          "IND<br>CCS in 2030: 875.5<br>GEM-E3_V2021|EN_NPi2020_500",
          "IND<br>CCS in 2030: 927.4<br>GEM-E3_V2021|EN_NPi2020_600_COV",
          "IND<br>CCS in 2030: 294.7<br>IMAGE 3.2|SSP1_SPA1_19I_D_LB",
          "IND<br>CCS in 2030: 148.2<br>IMAGE 3.2|SSP1_SPA1_19I_LIRE_LB",
          "IND<br>CCS in 2030: 148.2<br>IMAGE 3.2|SSP1_SPA1_19I_RE_LB",
          "IND<br>CCS in 2030: 105.2<br>IMAGE 3.2|SSP2_SPA1_19I_D_LB",
          "IND<br>CCS in 2030: 140.6<br>IMAGE 3.2|SSP2_SPA1_19I_LIRE_LB",
          "IND<br>CCS in 2030: 145.7<br>IMAGE 3.2|SSP2_SPA1_19I_RE_LB",
          "IND<br>CCS in 2030: 145.7<br>IMAGE 3.2|SSP2_SPA2_19I_LI",
          "IND<br>CCS in 2030: 145.7<br>MESSAGE-GLOBIOM 1.0|ADVANCE_2020_1.5C-2100",
          "IND<br>CCS in 2030: 134.5<br>MESSAGE-GLOBIOM 1.0|EMF33_1.5C_cost100",
          "IND<br>CCS in 2030: 134.5<br>MESSAGE-GLOBIOM 1.0|EMF33_1.5C_full",
          "IND<br>CCS in 2030: 71.3<br>MESSAGE-GLOBIOM 1.0|SSP2-19",
          "IND<br>CCS in 2030: 198.0<br>MESSAGEix-GLOBIOM 1.0|CD-LINKS_NPi2020_400",
          "IND<br>CCS in 2030: 71.6<br>MESSAGEix-GLOBIOM 1.0|LowEnergyDemand_1.3_IPCC",
          "IND<br>CCS in 2030: 86.6<br>MESSAGEix-GLOBIOM_1.1|EN_NPi2020_450",
          "IND<br>CCS in 2030: 73.7<br>MESSAGEix-GLOBIOM_1.1|EN_NPi2020_500",
          "IND<br>CCS in 2030: 81.6<br>MESSAGEix-GLOBIOM_1.1|NGFS2_Divergent Net Zero Policies",
          "IND<br>CCS in 2030: 81.0<br>MESSAGEix-GLOBIOM_1.1|NGFS2_Net-Zero 2050",
          "IND<br>CCS in 2030: 85.6<br>MESSAGEix-GLOBIOM_1.1|EN_NPi2020_600_COV",
          "IND<br>CCS in 2030: 79.3<br>MESSAGEix-GLOBIOM_1.1|EN_NPi2020_600_DR4p",
          "IND<br>CCS in 2030: 46.0<br>MESSAGEix-GLOBIOM_1.1|EN_NPi2020_600_DR3p",
          "IND<br>CCS in 2030: 19.7<br>MESSAGEix-GLOBIOM_1.1|EN_NPi2020_600_DR2p",
          "IND<br>CCS in 2030: 22.2<br>MESSAGEix-GLOBIOM_1.1|EN_NPi2020_600_DR1p",
          "IND<br>CCS in 2030: 49.1<br>MESSAGEix-GLOBIOM_1.2|COV_GreenPush_550",
          "IND<br>CCS in 2030: 292.8<br>MESSAGEix-GLOBIOM_1.2|COV_NoPolicyNoCOVID_550",
          "IND<br>CCS in 2030: nan<br>MESSAGEix-GLOBIOM_1.2|COV_Restore_550",
          "IND<br>CCS in 2030: 66.2<br>MESSAGEix-GLOBIOM_1.2|COV_SelfReliance_550",
          "IND<br>CCS in 2030: 257.6<br>MESSAGEix-GLOBIOM_1.2|COV_SmartUse_550",
          "IND<br>CCS in 2030: 39.1<br>POLES ADVANCE|ADVANCE_2020_1.5C-2100",
          "IND<br>CCS in 2030: 20.4<br>POLES EMF33|EMF33_WB2C_cost100",
          "IND<br>CCS in 2030: 40.0<br>POLES EMF33|EMF33_WB2C_full",
          "IND<br>CCS in 2030: 22.7<br>POLES EMF33|EMF33_WB2C_nofuel",
          "IND<br>CCS in 2030: 75.0<br>REMIND 1.7|ADVANCE_2020_1.5C-2100",
          "IND<br>CCS in 2030: 76.7<br>REMIND 1.7|CEMICS-1.5-CDR12",
          "IND<br>CCS in 2030: 70.5<br>REMIND 1.7|CEMICS-1.5-CDR20",
          "IND<br>CCS in 2030: 129.4<br>REMIND 1.7|CEMICS-1.5-CDR8",
          "IND<br>CCS in 2030: 62.7<br>REMIND 1.7|CEMICS-2.0-CDR8",
          "IND<br>CCS in 2030: 83.5<br>REMIND 2.1|CEMICS_GDPgrowth_1p5",
          "IND<br>CCS in 2030: 82.3<br>REMIND 2.1|CEMICS_HotellingConst_1p5",
          "IND<br>CCS in 2030: 59.9<br>REMIND 2.1|CEMICS_Linear_1p5",
          "IND<br>CCS in 2030: 37.1<br>REMIND 2.1|CEMICS_opt_1p5",
          "IND<br>CCS in 2030: 35.2<br>REMIND 2.1|LeastTotalCost_LTC_brkLR15_SSP1_P50",
          "IND<br>CCS in 2030: 41.6<br>REMIND 2.1|R2p1_SSP1-PkBudg900",
          "IND<br>CCS in 2030: 42.9<br>REMIND 2.1|R2p1_SSP2-PkBudg900",
          "IND<br>CCS in 2030: 42.8<br>REMIND 2.1|R2p1_SSP5-PkBudg900",
          "IND<br>CCS in 2030: 0.0<br>REMIND-MAgPIE 1.5|SSP2-19",
          "IND<br>CCS in 2030: 19.9<br>REMIND-MAgPIE 1.7-3.0|CD-LINKS_NPi2020_400",
          "IND<br>CCS in 2030: 22.2<br>REMIND-MAgPIE 1.7-3.0|EMF33_1.5C_nofuel",
          "IND<br>CCS in 2030: 22.9<br>REMIND-MAgPIE 1.7-3.0|PEP_1p5C_full_eff",
          "IND<br>CCS in 2030: 29.6<br>REMIND-MAgPIE 1.7-3.0|PEP_1p5C_red_eff",
          "IND<br>CCS in 2030: 58.8<br>REMIND-MAgPIE 1.7-3.0|PEP_2C_red_eff",
          "IND<br>CCS in 2030: 61.1<br>REMIND-MAgPIE 1.7-3.0|SMP_2C_lifesty",
          "IND<br>CCS in 2030: 58.8<br>REMIND-MAgPIE 2.1-4.2|CEMICS_SSP1-1p5C-fullCDR",
          "IND<br>CCS in 2030: 58.8<br>REMIND-MAgPIE 2.1-4.2|CEMICS_SSP1-1p5C-minCDR",
          "IND<br>CCS in 2030: 58.8<br>REMIND-MAgPIE 2.1-4.2|CEMICS_SSP2-1p5C-fullCDR"
         ],
         "type": "box",
         "whiskerwidth": 0.2,
         "xaxis": "x3",
         "y": [
          220.7951,
          220.7951,
          49.992199,
          2589.2924542002,
          2353.03463207889,
          1787.6758464493,
          1407.09343165091,
          1179.06902385475,
          0.0030156989880574,
          0.0024018417731225,
          640.6658152894775,
          847.0410744187876,
          481.9789631730387,
          1020.550407290414,
          875.5221019984492,
          927.3886434645624,
          294.6826840708326,
          148.150091003953,
          148.1910408362955,
          105.1695497052769,
          140.6034508163765,
          145.7352164899844,
          145.7352164899844,
          145.7352164899844,
          134.5153422,
          134.5153422,
          71.3353744665274,
          197.956902427842,
          71.6410977464246,
          86.6326240184409,
          73.6884391184954,
          81.6272,
          80.9671,
          85.6321,
          79.2632,
          45.9949,
          19.7451,
          22.1985,
          49.0695,
          292.8021,
          null,
          66.1501,
          257.6301,
          39.1223,
          20.3672,
          40.0238,
          22.6537,
          75.0157,
          76.678,
          70.4537,
          129.3924,
          62.717,
          83.4946,
          82.2602,
          59.9384,
          37.0754,
          35.1966,
          41.5922,
          42.8947,
          42.8362,
          0,
          19.8626,
          22.2237,
          22.8697,
          29.6409,
          58.8236766010165,
          61.1376185118896,
          58.8236766010165,
          58.8236766010165,
          58.8236766010165
         ],
         "yaxis": "y3"
        },
        {
         "boxpoints": "all",
         "fillcolor": "goldenrod",
         "hovertemplate": "%{text}",
         "jitter": 0.5,
         "line": {
          "color": "black",
          "width": 0.5
         },
         "marker": {
          "color": "black",
          "size": 3
         },
         "name": "IND",
         "pointpos": -1.8,
         "showlegend": false,
         "text": [
          "IND<br>Primary biomass traded in 2030: 0.0<br>AIM/CGE 2.1|CD-LINKS_NPi2020_400",
          "IND<br>Primary biomass traded in 2030: 0.0<br>AIM/CGE 2.2|EN_NPi2020_300f",
          "IND<br>Primary biomass traded in 2030: 0.0<br>AIM/CGE 2.2|EN_NPi2020_600",
          "IND<br>Primary biomass traded in 2030: nan<br>AIM/Hub-Global 2.0|1.5C",
          "IND<br>Primary biomass traded in 2030: nan<br>C-ROADS-5.005|Ratchet-1.5-limCDR-noOS",
          "IND<br>Primary biomass traded in 2030: nan<br>C-ROADS-5.005|Ratchet-1.5-noCDR",
          "IND<br>Primary biomass traded in 2030: nan<br>C-ROADS-5.005|Ratchet-1.5-noCDR-noOS",
          "IND<br>Primary biomass traded in 2030: nan<br>COFFEE 1.1|EN_NPi2020_400",
          "IND<br>Primary biomass traded in 2030: nan<br>GCAM 4.2|SSP1-19",
          "IND<br>Primary biomass traded in 2030: nan<br>GCAM 5.3|R_MAC_30_n0",
          "IND<br>Primary biomass traded in 2030: 1.3<br>GCAM 5.3|R_MAC_35_n8",
          "IND<br>Primary biomass traded in 2030: 1.2<br>GCAM 5.3|R_MAC_40_n8",
          "IND<br>Primary biomass traded in 2030: 1.6<br>GCAM 5.3|R_MAC_45_n8",
          "IND<br>Primary biomass traded in 2030: 1.6<br>GCAM 5.3|R_MAC_50_n8",
          "IND<br>Primary biomass traded in 2030: 0.9<br>GEM-E3_V2021|EN_NPi2020_500",
          "IND<br>Primary biomass traded in 2030: 1.8<br>GEM-E3_V2021|EN_NPi2020_600_COV",
          "IND<br>Primary biomass traded in 2030: -0.5<br>IMAGE 3.2|SSP1_SPA1_19I_D_LB",
          "IND<br>Primary biomass traded in 2030: 0.0<br>IMAGE 3.2|SSP1_SPA1_19I_LIRE_LB",
          "IND<br>Primary biomass traded in 2030: 0.0<br>IMAGE 3.2|SSP1_SPA1_19I_RE_LB",
          "IND<br>Primary biomass traded in 2030: 0.0<br>IMAGE 3.2|SSP2_SPA1_19I_D_LB",
          "IND<br>Primary biomass traded in 2030: 0.0<br>IMAGE 3.2|SSP2_SPA1_19I_LIRE_LB",
          "IND<br>Primary biomass traded in 2030: 0.0<br>IMAGE 3.2|SSP2_SPA1_19I_RE_LB",
          "IND<br>Primary biomass traded in 2030: 0.0<br>IMAGE 3.2|SSP2_SPA2_19I_LI",
          "IND<br>Primary biomass traded in 2030: 0.0<br>MESSAGE-GLOBIOM 1.0|ADVANCE_2020_1.5C-2100",
          "IND<br>Primary biomass traded in 2030: 0.0<br>MESSAGE-GLOBIOM 1.0|EMF33_1.5C_cost100",
          "IND<br>Primary biomass traded in 2030: 0.0<br>MESSAGE-GLOBIOM 1.0|EMF33_1.5C_full",
          "IND<br>Primary biomass traded in 2030: nan<br>MESSAGE-GLOBIOM 1.0|SSP2-19",
          "IND<br>Primary biomass traded in 2030: nan<br>MESSAGEix-GLOBIOM 1.0|CD-LINKS_NPi2020_400",
          "IND<br>Primary biomass traded in 2030: nan<br>MESSAGEix-GLOBIOM 1.0|LowEnergyDemand_1.3_IPCC",
          "IND<br>Primary biomass traded in 2030: nan<br>MESSAGEix-GLOBIOM_1.1|EN_NPi2020_450",
          "IND<br>Primary biomass traded in 2030: nan<br>MESSAGEix-GLOBIOM_1.1|EN_NPi2020_500",
          "IND<br>Primary biomass traded in 2030: -1.5<br>MESSAGEix-GLOBIOM_1.1|NGFS2_Divergent Net Zero Policies",
          "IND<br>Primary biomass traded in 2030: -0.7<br>MESSAGEix-GLOBIOM_1.1|NGFS2_Net-Zero 2050",
          "IND<br>Primary biomass traded in 2030: -1.1<br>MESSAGEix-GLOBIOM_1.1|EN_NPi2020_600_COV",
          "IND<br>Primary biomass traded in 2030: -1.3<br>MESSAGEix-GLOBIOM_1.1|EN_NPi2020_600_DR4p",
          "IND<br>Primary biomass traded in 2030: -1.3<br>MESSAGEix-GLOBIOM_1.1|EN_NPi2020_600_DR3p",
          "IND<br>Primary biomass traded in 2030: -0.5<br>MESSAGEix-GLOBIOM_1.1|EN_NPi2020_600_DR2p",
          "IND<br>Primary biomass traded in 2030: 0.2<br>MESSAGEix-GLOBIOM_1.1|EN_NPi2020_600_DR1p",
          "IND<br>Primary biomass traded in 2030: -0.6<br>MESSAGEix-GLOBIOM_1.2|COV_GreenPush_550",
          "IND<br>Primary biomass traded in 2030: 0.1<br>MESSAGEix-GLOBIOM_1.2|COV_NoPolicyNoCOVID_550",
          "IND<br>Primary biomass traded in 2030: nan<br>MESSAGEix-GLOBIOM_1.2|COV_Restore_550",
          "IND<br>Primary biomass traded in 2030: 0.1<br>MESSAGEix-GLOBIOM_1.2|COV_SelfReliance_550",
          "IND<br>Primary biomass traded in 2030: 0.1<br>MESSAGEix-GLOBIOM_1.2|COV_SmartUse_550",
          "IND<br>Primary biomass traded in 2030: 0.1<br>POLES ADVANCE|ADVANCE_2020_1.5C-2100",
          "IND<br>Primary biomass traded in 2030: -0.4<br>POLES EMF33|EMF33_WB2C_cost100",
          "IND<br>Primary biomass traded in 2030: -0.4<br>POLES EMF33|EMF33_WB2C_full",
          "IND<br>Primary biomass traded in 2030: -0.2<br>POLES EMF33|EMF33_WB2C_nofuel",
          "IND<br>Primary biomass traded in 2030: -0.9<br>REMIND 1.7|ADVANCE_2020_1.5C-2100",
          "IND<br>Primary biomass traded in 2030: -1.0<br>REMIND 1.7|CEMICS-1.5-CDR12",
          "IND<br>Primary biomass traded in 2030: -0.9<br>REMIND 1.7|CEMICS-1.5-CDR20",
          "IND<br>Primary biomass traded in 2030: -1.7<br>REMIND 1.7|CEMICS-1.5-CDR8",
          "IND<br>Primary biomass traded in 2030: -0.8<br>REMIND 1.7|CEMICS-2.0-CDR8",
          "IND<br>Primary biomass traded in 2030: -1.4<br>REMIND 2.1|CEMICS_GDPgrowth_1p5",
          "IND<br>Primary biomass traded in 2030: -1.0<br>REMIND 2.1|CEMICS_HotellingConst_1p5",
          "IND<br>Primary biomass traded in 2030: -0.9<br>REMIND 2.1|CEMICS_Linear_1p5",
          "IND<br>Primary biomass traded in 2030: -0.8<br>REMIND 2.1|CEMICS_opt_1p5",
          "IND<br>Primary biomass traded in 2030: -0.2<br>REMIND 2.1|LeastTotalCost_LTC_brkLR15_SSP1_P50",
          "IND<br>Primary biomass traded in 2030: -0.3<br>REMIND 2.1|R2p1_SSP1-PkBudg900",
          "IND<br>Primary biomass traded in 2030: -0.6<br>REMIND 2.1|R2p1_SSP2-PkBudg900",
          "IND<br>Primary biomass traded in 2030: -0.5<br>REMIND 2.1|R2p1_SSP5-PkBudg900",
          "IND<br>Primary biomass traded in 2030: -0.6<br>REMIND-MAgPIE 1.5|SSP2-19",
          "IND<br>Primary biomass traded in 2030: -0.5<br>REMIND-MAgPIE 1.7-3.0|CD-LINKS_NPi2020_400",
          "IND<br>Primary biomass traded in 2030: -0.3<br>REMIND-MAgPIE 1.7-3.0|EMF33_1.5C_nofuel",
          "IND<br>Primary biomass traded in 2030: -0.8<br>REMIND-MAgPIE 1.7-3.0|PEP_1p5C_full_eff",
          "IND<br>Primary biomass traded in 2030: -0.9<br>REMIND-MAgPIE 1.7-3.0|PEP_1p5C_red_eff",
          "IND<br>Primary biomass traded in 2030: nan<br>REMIND-MAgPIE 1.7-3.0|PEP_2C_red_eff",
          "IND<br>Primary biomass traded in 2030: nan<br>REMIND-MAgPIE 1.7-3.0|SMP_2C_lifesty",
          "IND<br>Primary biomass traded in 2030: nan<br>REMIND-MAgPIE 2.1-4.2|CEMICS_SSP1-1p5C-fullCDR",
          "IND<br>Primary biomass traded in 2030: nan<br>REMIND-MAgPIE 2.1-4.2|CEMICS_SSP1-1p5C-minCDR",
          "IND<br>Primary biomass traded in 2030: nan<br>REMIND-MAgPIE 2.1-4.2|CEMICS_SSP2-1p5C-fullCDR"
         ],
         "type": "box",
         "whiskerwidth": 0.2,
         "xaxis": "x4",
         "y": [
          0.0123,
          0.0123,
          0,
          null,
          null,
          null,
          null,
          null,
          null,
          null,
          1.265583984375,
          1.208572998046875,
          1.63348095703125,
          1.561421020507813,
          0.94710400390625,
          1.841010009765625,
          -0.5317324829101563,
          0,
          0,
          0,
          0,
          0,
          0,
          0,
          0,
          0,
          null,
          null,
          null,
          null,
          null,
          -1.5373,
          -0.6946,
          -1.1064,
          -1.3085,
          -1.2934,
          -0.5197,
          0.2019,
          -0.6415,
          0.1465,
          null,
          0.1472,
          0.1117,
          0.1022,
          -0.4072,
          -0.4397,
          -0.2225,
          -0.913,
          -0.9726,
          -0.9282,
          -1.6889,
          -0.8373,
          -1.4161,
          -0.9828,
          -0.852,
          -0.7552,
          -0.1994,
          -0.2741,
          -0.5577,
          -0.5122,
          -0.5641,
          -0.4979,
          -0.2976,
          -0.772,
          -0.8893,
          null,
          null,
          null,
          null,
          null
         ],
         "yaxis": "y4"
        },
        {
         "boxpoints": "all",
         "fillcolor": "purple",
         "hovertemplate": "%{text}",
         "jitter": 0.5,
         "line": {
          "color": "black",
          "width": 0.5
         },
         "marker": {
          "color": "black",
          "size": 3
         },
         "name": "IDN",
         "pointpos": -1.8,
         "showlegend": false,
         "text": [
          "IDN<br>GHG emission reduction in 2030: nan<br>AIM/CGE 2.1|CD-LINKS_NPi2020_400",
          "IDN<br>GHG emission reduction in 2030: nan<br>AIM/CGE 2.2|EN_NPi2020_300f",
          "IDN<br>GHG emission reduction in 2030: nan<br>AIM/CGE 2.2|EN_NPi2020_600",
          "IDN<br>GHG emission reduction in 2030: 0.3<br>AIM/Hub-Global 2.0|1.5C",
          "IDN<br>GHG emission reduction in 2030: 0.2<br>C-ROADS-5.005|Ratchet-1.5-limCDR-noOS",
          "IDN<br>GHG emission reduction in 2030: 0.2<br>C-ROADS-5.005|Ratchet-1.5-noCDR",
          "IDN<br>GHG emission reduction in 2030: 0.2<br>C-ROADS-5.005|Ratchet-1.5-noCDR-noOS",
          "IDN<br>GHG emission reduction in 2030: 0.1<br>COFFEE 1.1|EN_NPi2020_400",
          "IDN<br>GHG emission reduction in 2030: 0.3<br>GCAM 4.2|SSP1-19",
          "IDN<br>GHG emission reduction in 2030: 0.2<br>GCAM 5.3|R_MAC_30_n0",
          "IDN<br>GHG emission reduction in 2030: 0.5<br>GCAM 5.3|R_MAC_35_n8",
          "IDN<br>GHG emission reduction in 2030: 0.5<br>GCAM 5.3|R_MAC_40_n8",
          "IDN<br>GHG emission reduction in 2030: 0.5<br>GCAM 5.3|R_MAC_45_n8",
          "IDN<br>GHG emission reduction in 2030: 0.5<br>GCAM 5.3|R_MAC_50_n8",
          "IDN<br>GHG emission reduction in 2030: 0.4<br>GEM-E3_V2021|EN_NPi2020_500",
          "IDN<br>GHG emission reduction in 2030: 0.5<br>GEM-E3_V2021|EN_NPi2020_600_COV",
          "IDN<br>GHG emission reduction in 2030: 0.2<br>IMAGE 3.2|SSP1_SPA1_19I_D_LB",
          "IDN<br>GHG emission reduction in 2030: nan<br>IMAGE 3.2|SSP1_SPA1_19I_LIRE_LB",
          "IDN<br>GHG emission reduction in 2030: nan<br>IMAGE 3.2|SSP1_SPA1_19I_RE_LB",
          "IDN<br>GHG emission reduction in 2030: nan<br>IMAGE 3.2|SSP2_SPA1_19I_D_LB",
          "IDN<br>GHG emission reduction in 2030: nan<br>IMAGE 3.2|SSP2_SPA1_19I_LIRE_LB",
          "IDN<br>GHG emission reduction in 2030: nan<br>IMAGE 3.2|SSP2_SPA1_19I_RE_LB",
          "IDN<br>GHG emission reduction in 2030: nan<br>IMAGE 3.2|SSP2_SPA2_19I_LI",
          "IDN<br>GHG emission reduction in 2030: nan<br>MESSAGE-GLOBIOM 1.0|ADVANCE_2020_1.5C-2100",
          "IDN<br>GHG emission reduction in 2030: nan<br>MESSAGE-GLOBIOM 1.0|EMF33_1.5C_cost100",
          "IDN<br>GHG emission reduction in 2030: nan<br>MESSAGE-GLOBIOM 1.0|EMF33_1.5C_full",
          "IDN<br>GHG emission reduction in 2030: nan<br>MESSAGE-GLOBIOM 1.0|SSP2-19",
          "IDN<br>GHG emission reduction in 2030: nan<br>MESSAGEix-GLOBIOM 1.0|CD-LINKS_NPi2020_400",
          "IDN<br>GHG emission reduction in 2030: nan<br>MESSAGEix-GLOBIOM 1.0|LowEnergyDemand_1.3_IPCC",
          "IDN<br>GHG emission reduction in 2030: nan<br>MESSAGEix-GLOBIOM_1.1|EN_NPi2020_450",
          "IDN<br>GHG emission reduction in 2030: nan<br>MESSAGEix-GLOBIOM_1.1|EN_NPi2020_500",
          "IDN<br>GHG emission reduction in 2030: nan<br>MESSAGEix-GLOBIOM_1.1|NGFS2_Divergent Net Zero Policies",
          "IDN<br>GHG emission reduction in 2030: nan<br>MESSAGEix-GLOBIOM_1.1|NGFS2_Net-Zero 2050",
          "IDN<br>GHG emission reduction in 2030: nan<br>MESSAGEix-GLOBIOM_1.1|EN_NPi2020_600_COV",
          "IDN<br>GHG emission reduction in 2030: nan<br>MESSAGEix-GLOBIOM_1.1|EN_NPi2020_600_DR4p",
          "IDN<br>GHG emission reduction in 2030: nan<br>MESSAGEix-GLOBIOM_1.1|EN_NPi2020_600_DR3p",
          "IDN<br>GHG emission reduction in 2030: nan<br>MESSAGEix-GLOBIOM_1.1|EN_NPi2020_600_DR2p",
          "IDN<br>GHG emission reduction in 2030: nan<br>MESSAGEix-GLOBIOM_1.1|EN_NPi2020_600_DR1p",
          "IDN<br>GHG emission reduction in 2030: nan<br>MESSAGEix-GLOBIOM_1.2|COV_GreenPush_550",
          "IDN<br>GHG emission reduction in 2030: nan<br>MESSAGEix-GLOBIOM_1.2|COV_NoPolicyNoCOVID_550",
          "IDN<br>GHG emission reduction in 2030: nan<br>MESSAGEix-GLOBIOM_1.2|COV_Restore_550",
          "IDN<br>GHG emission reduction in 2030: nan<br>MESSAGEix-GLOBIOM_1.2|COV_SelfReliance_550",
          "IDN<br>GHG emission reduction in 2030: nan<br>MESSAGEix-GLOBIOM_1.2|COV_SmartUse_550",
          "IDN<br>GHG emission reduction in 2030: nan<br>POLES ADVANCE|ADVANCE_2020_1.5C-2100",
          "IDN<br>GHG emission reduction in 2030: nan<br>POLES EMF33|EMF33_WB2C_cost100",
          "IDN<br>GHG emission reduction in 2030: nan<br>POLES EMF33|EMF33_WB2C_full",
          "IDN<br>GHG emission reduction in 2030: nan<br>POLES EMF33|EMF33_WB2C_nofuel",
          "IDN<br>GHG emission reduction in 2030: nan<br>REMIND 1.7|ADVANCE_2020_1.5C-2100",
          "IDN<br>GHG emission reduction in 2030: nan<br>REMIND 1.7|CEMICS-1.5-CDR12",
          "IDN<br>GHG emission reduction in 2030: nan<br>REMIND 1.7|CEMICS-1.5-CDR20",
          "IDN<br>GHG emission reduction in 2030: nan<br>REMIND 1.7|CEMICS-1.5-CDR8",
          "IDN<br>GHG emission reduction in 2030: nan<br>REMIND 1.7|CEMICS-2.0-CDR8",
          "IDN<br>GHG emission reduction in 2030: nan<br>REMIND 2.1|CEMICS_GDPgrowth_1p5",
          "IDN<br>GHG emission reduction in 2030: nan<br>REMIND 2.1|CEMICS_HotellingConst_1p5",
          "IDN<br>GHG emission reduction in 2030: nan<br>REMIND 2.1|CEMICS_Linear_1p5",
          "IDN<br>GHG emission reduction in 2030: nan<br>REMIND 2.1|CEMICS_opt_1p5",
          "IDN<br>GHG emission reduction in 2030: nan<br>REMIND 2.1|LeastTotalCost_LTC_brkLR15_SSP1_P50",
          "IDN<br>GHG emission reduction in 2030: nan<br>REMIND 2.1|R2p1_SSP1-PkBudg900",
          "IDN<br>GHG emission reduction in 2030: nan<br>REMIND 2.1|R2p1_SSP2-PkBudg900",
          "IDN<br>GHG emission reduction in 2030: nan<br>REMIND 2.1|R2p1_SSP5-PkBudg900",
          "IDN<br>GHG emission reduction in 2030: nan<br>REMIND-MAgPIE 1.5|SSP2-19",
          "IDN<br>GHG emission reduction in 2030: nan<br>REMIND-MAgPIE 1.7-3.0|CD-LINKS_NPi2020_400",
          "IDN<br>GHG emission reduction in 2030: nan<br>REMIND-MAgPIE 1.7-3.0|EMF33_1.5C_nofuel",
          "IDN<br>GHG emission reduction in 2030: nan<br>REMIND-MAgPIE 1.7-3.0|PEP_1p5C_full_eff",
          "IDN<br>GHG emission reduction in 2030: nan<br>REMIND-MAgPIE 1.7-3.0|PEP_1p5C_red_eff",
          "IDN<br>GHG emission reduction in 2030: 0.5<br>REMIND-MAgPIE 1.7-3.0|PEP_2C_red_eff",
          "IDN<br>GHG emission reduction in 2030: 0.6<br>REMIND-MAgPIE 1.7-3.0|SMP_2C_lifesty",
          "IDN<br>GHG emission reduction in 2030: 0.5<br>REMIND-MAgPIE 2.1-4.2|CEMICS_SSP1-1p5C-fullCDR",
          "IDN<br>GHG emission reduction in 2030: 0.6<br>REMIND-MAgPIE 2.1-4.2|CEMICS_SSP1-1p5C-minCDR",
          "IDN<br>GHG emission reduction in 2030: 0.5<br>REMIND-MAgPIE 2.1-4.2|CEMICS_SSP2-1p5C-fullCDR"
         ],
         "type": "box",
         "whiskerwidth": 0.2,
         "xaxis": "x",
         "y": [
          null,
          null,
          null,
          0.3433079461050387,
          0.24195972779452615,
          0.2140359036921456,
          0.17166230954536704,
          0.13887595361217145,
          0.2971293032136893,
          0.20346524317213863,
          0.5239768428833559,
          0.4861271127268612,
          0.5083297290896288,
          0.516191744125504,
          0.4323743621220415,
          0.5178329177666886,
          0.21523145834728227,
          null,
          null,
          null,
          null,
          null,
          null,
          null,
          null,
          null,
          null,
          null,
          null,
          null,
          null,
          null,
          null,
          null,
          null,
          null,
          null,
          null,
          null,
          null,
          null,
          null,
          null,
          null,
          null,
          null,
          null,
          null,
          null,
          null,
          null,
          null,
          null,
          null,
          null,
          null,
          null,
          null,
          null,
          null,
          null,
          null,
          null,
          null,
          null,
          0.5155545317336473,
          0.6052182454233758,
          0.5064252111202847,
          0.5507051171012347,
          0.4966461242663424
         ],
         "yaxis": "y"
        },
        {
         "marker": {
          "color": "purple",
          "colorscale": [
           [
            0,
            "rgb(158,1,66)"
           ],
           [
            0.1,
            "rgb(213,62,79)"
           ],
           [
            0.2,
            "rgb(244,109,67)"
           ],
           [
            0.3,
            "rgb(253,174,97)"
           ],
           [
            0.4,
            "rgb(254,224,139)"
           ],
           [
            0.5,
            "rgb(255,255,191)"
           ],
           [
            0.6,
            "rgb(230,245,152)"
           ],
           [
            0.7,
            "rgb(171,221,164)"
           ],
           [
            0.8,
            "rgb(102,194,165)"
           ],
           [
            0.9,
            "rgb(50,136,189)"
           ],
           [
            1,
            "rgb(94,79,162)"
           ]
          ],
          "line": {
           "color": "black",
           "width": 0.2
          },
          "size": 25,
          "symbol": "circle"
         },
         "mode": "markers+text",
         "showlegend": false,
         "text": "GF",
         "textfont": {
          "color": "black",
          "family": "Arial black",
          "size": 13
         },
         "type": "scatter",
         "x": [
          "IDN"
         ],
         "xaxis": "x",
         "y": [
          0.4376399269331557
         ],
         "yaxis": "y"
        },
        {
         "marker": {
          "color": "purple",
          "colorscale": [
           [
            0,
            "rgb(158,1,66)"
           ],
           [
            0.1,
            "rgb(213,62,79)"
           ],
           [
            0.2,
            "rgb(244,109,67)"
           ],
           [
            0.3,
            "rgb(253,174,97)"
           ],
           [
            0.4,
            "rgb(254,224,139)"
           ],
           [
            0.5,
            "rgb(255,255,191)"
           ],
           [
            0.6,
            "rgb(230,245,152)"
           ],
           [
            0.7,
            "rgb(171,221,164)"
           ],
           [
            0.8,
            "rgb(102,194,165)"
           ],
           [
            0.9,
            "rgb(50,136,189)"
           ],
           [
            1,
            "rgb(94,79,162)"
           ]
          ],
          "line": {
           "color": "black",
           "width": 0.2
          },
          "size": 25,
          "symbol": "square"
         },
         "mode": "markers+text",
         "showlegend": false,
         "text": "PC",
         "textfont": {
          "color": "black",
          "family": "Arial black",
          "size": 13
         },
         "type": "scatter",
         "x": [
          "IDN"
         ],
         "xaxis": "x",
         "y": [
          0.11345363884631039
         ],
         "yaxis": "y"
        },
        {
         "marker": {
          "color": "purple",
          "colorscale": [
           [
            0,
            "rgb(158,1,66)"
           ],
           [
            0.1,
            "rgb(213,62,79)"
           ],
           [
            0.2,
            "rgb(244,109,67)"
           ],
           [
            0.3,
            "rgb(253,174,97)"
           ],
           [
            0.4,
            "rgb(254,224,139)"
           ],
           [
            0.5,
            "rgb(255,255,191)"
           ],
           [
            0.6,
            "rgb(230,245,152)"
           ],
           [
            0.7,
            "rgb(171,221,164)"
           ],
           [
            0.8,
            "rgb(102,194,165)"
           ],
           [
            0.9,
            "rgb(50,136,189)"
           ],
           [
            1,
            "rgb(94,79,162)"
           ]
          ],
          "line": {
           "color": "black",
           "width": 0.2
          },
          "size": 25,
          "symbol": "diamond"
         },
         "mode": "markers+text",
         "showlegend": false,
         "text": "PCC",
         "textfont": {
          "color": "black",
          "family": "Arial black",
          "size": 13
         },
         "type": "scatter",
         "x": [
          "IDN"
         ],
         "xaxis": "x",
         "y": [
          0.27554678288973306
         ],
         "yaxis": "y"
        },
        {
         "marker": {
          "color": "purple",
          "colorscale": [
           [
            0,
            "rgb(158,1,66)"
           ],
           [
            0.1,
            "rgb(213,62,79)"
           ],
           [
            0.2,
            "rgb(244,109,67)"
           ],
           [
            0.3,
            "rgb(253,174,97)"
           ],
           [
            0.4,
            "rgb(254,224,139)"
           ],
           [
            0.5,
            "rgb(255,255,191)"
           ],
           [
            0.6,
            "rgb(230,245,152)"
           ],
           [
            0.7,
            "rgb(171,221,164)"
           ],
           [
            0.8,
            "rgb(102,194,165)"
           ],
           [
            0.9,
            "rgb(50,136,189)"
           ],
           [
            1,
            "rgb(94,79,162)"
           ]
          ],
          "line": {
           "color": "black",
           "width": 0.2
          },
          "size": 25,
          "symbol": "triangle-up"
         },
         "mode": "markers+text",
         "showlegend": false,
         "text": "NDC",
         "textfont": {
          "color": "black",
          "family": "Arial black",
          "size": 13
         },
         "type": "scatter",
         "x": [
          "IDN"
         ],
         "xaxis": "x",
         "y": [
          -0.04144842882832197
         ],
         "yaxis": "y"
        },
        {
         "boxpoints": "all",
         "fillcolor": "purple",
         "hovertemplate": "%{text}",
         "jitter": 0.5,
         "line": {
          "color": "black",
          "width": 0.5
         },
         "marker": {
          "color": "black",
          "size": 3
         },
         "name": "IDN",
         "pointpos": -1.8,
         "showlegend": false,
         "text": [
          "IDN<br>Policy costs in 2030: nan<br>AIM/CGE 2.1|CD-LINKS_NPi2020_400",
          "IDN<br>Policy costs in 2030: nan<br>AIM/CGE 2.2|EN_NPi2020_300f",
          "IDN<br>Policy costs in 2030: nan<br>AIM/CGE 2.2|EN_NPi2020_600",
          "IDN<br>Policy costs in 2030: nan<br>AIM/Hub-Global 2.0|1.5C",
          "IDN<br>Policy costs in 2030: nan<br>C-ROADS-5.005|Ratchet-1.5-limCDR-noOS",
          "IDN<br>Policy costs in 2030: nan<br>C-ROADS-5.005|Ratchet-1.5-noCDR",
          "IDN<br>Policy costs in 2030: nan<br>C-ROADS-5.005|Ratchet-1.5-noCDR-noOS",
          "IDN<br>Policy costs in 2030: nan<br>COFFEE 1.1|EN_NPi2020_400",
          "IDN<br>Policy costs in 2030: 55.0<br>GCAM 4.2|SSP1-19",
          "IDN<br>Policy costs in 2030: 32.1<br>GCAM 5.3|R_MAC_30_n0",
          "IDN<br>Policy costs in 2030: nan<br>GCAM 5.3|R_MAC_35_n8",
          "IDN<br>Policy costs in 2030: nan<br>GCAM 5.3|R_MAC_40_n8",
          "IDN<br>Policy costs in 2030: nan<br>GCAM 5.3|R_MAC_45_n8",
          "IDN<br>Policy costs in 2030: nan<br>GCAM 5.3|R_MAC_50_n8",
          "IDN<br>Policy costs in 2030: nan<br>GEM-E3_V2021|EN_NPi2020_500",
          "IDN<br>Policy costs in 2030: nan<br>GEM-E3_V2021|EN_NPi2020_600_COV",
          "IDN<br>Policy costs in 2030: nan<br>IMAGE 3.2|SSP1_SPA1_19I_D_LB",
          "IDN<br>Policy costs in 2030: nan<br>IMAGE 3.2|SSP1_SPA1_19I_LIRE_LB",
          "IDN<br>Policy costs in 2030: nan<br>IMAGE 3.2|SSP1_SPA1_19I_RE_LB",
          "IDN<br>Policy costs in 2030: nan<br>IMAGE 3.2|SSP2_SPA1_19I_D_LB",
          "IDN<br>Policy costs in 2030: nan<br>IMAGE 3.2|SSP2_SPA1_19I_LIRE_LB",
          "IDN<br>Policy costs in 2030: nan<br>IMAGE 3.2|SSP2_SPA1_19I_RE_LB",
          "IDN<br>Policy costs in 2030: nan<br>IMAGE 3.2|SSP2_SPA2_19I_LI",
          "IDN<br>Policy costs in 2030: nan<br>MESSAGE-GLOBIOM 1.0|ADVANCE_2020_1.5C-2100",
          "IDN<br>Policy costs in 2030: nan<br>MESSAGE-GLOBIOM 1.0|EMF33_1.5C_cost100",
          "IDN<br>Policy costs in 2030: nan<br>MESSAGE-GLOBIOM 1.0|EMF33_1.5C_full",
          "IDN<br>Policy costs in 2030: nan<br>MESSAGE-GLOBIOM 1.0|SSP2-19",
          "IDN<br>Policy costs in 2030: nan<br>MESSAGEix-GLOBIOM 1.0|CD-LINKS_NPi2020_400",
          "IDN<br>Policy costs in 2030: nan<br>MESSAGEix-GLOBIOM 1.0|LowEnergyDemand_1.3_IPCC",
          "IDN<br>Policy costs in 2030: nan<br>MESSAGEix-GLOBIOM_1.1|EN_NPi2020_450",
          "IDN<br>Policy costs in 2030: nan<br>MESSAGEix-GLOBIOM_1.1|EN_NPi2020_500",
          "IDN<br>Policy costs in 2030: nan<br>MESSAGEix-GLOBIOM_1.1|NGFS2_Divergent Net Zero Policies",
          "IDN<br>Policy costs in 2030: nan<br>MESSAGEix-GLOBIOM_1.1|NGFS2_Net-Zero 2050",
          "IDN<br>Policy costs in 2030: nan<br>MESSAGEix-GLOBIOM_1.1|EN_NPi2020_600_COV",
          "IDN<br>Policy costs in 2030: nan<br>MESSAGEix-GLOBIOM_1.1|EN_NPi2020_600_DR4p",
          "IDN<br>Policy costs in 2030: nan<br>MESSAGEix-GLOBIOM_1.1|EN_NPi2020_600_DR3p",
          "IDN<br>Policy costs in 2030: nan<br>MESSAGEix-GLOBIOM_1.1|EN_NPi2020_600_DR2p",
          "IDN<br>Policy costs in 2030: nan<br>MESSAGEix-GLOBIOM_1.1|EN_NPi2020_600_DR1p",
          "IDN<br>Policy costs in 2030: nan<br>MESSAGEix-GLOBIOM_1.2|COV_GreenPush_550",
          "IDN<br>Policy costs in 2030: nan<br>MESSAGEix-GLOBIOM_1.2|COV_NoPolicyNoCOVID_550",
          "IDN<br>Policy costs in 2030: nan<br>MESSAGEix-GLOBIOM_1.2|COV_Restore_550",
          "IDN<br>Policy costs in 2030: nan<br>MESSAGEix-GLOBIOM_1.2|COV_SelfReliance_550",
          "IDN<br>Policy costs in 2030: nan<br>MESSAGEix-GLOBIOM_1.2|COV_SmartUse_550",
          "IDN<br>Policy costs in 2030: nan<br>POLES ADVANCE|ADVANCE_2020_1.5C-2100",
          "IDN<br>Policy costs in 2030: nan<br>POLES EMF33|EMF33_WB2C_cost100",
          "IDN<br>Policy costs in 2030: nan<br>POLES EMF33|EMF33_WB2C_full",
          "IDN<br>Policy costs in 2030: nan<br>POLES EMF33|EMF33_WB2C_nofuel",
          "IDN<br>Policy costs in 2030: nan<br>REMIND 1.7|ADVANCE_2020_1.5C-2100",
          "IDN<br>Policy costs in 2030: nan<br>REMIND 1.7|CEMICS-1.5-CDR12",
          "IDN<br>Policy costs in 2030: nan<br>REMIND 1.7|CEMICS-1.5-CDR20",
          "IDN<br>Policy costs in 2030: nan<br>REMIND 1.7|CEMICS-1.5-CDR8",
          "IDN<br>Policy costs in 2030: nan<br>REMIND 1.7|CEMICS-2.0-CDR8",
          "IDN<br>Policy costs in 2030: nan<br>REMIND 2.1|CEMICS_GDPgrowth_1p5",
          "IDN<br>Policy costs in 2030: nan<br>REMIND 2.1|CEMICS_HotellingConst_1p5",
          "IDN<br>Policy costs in 2030: nan<br>REMIND 2.1|CEMICS_Linear_1p5",
          "IDN<br>Policy costs in 2030: nan<br>REMIND 2.1|CEMICS_opt_1p5",
          "IDN<br>Policy costs in 2030: nan<br>REMIND 2.1|LeastTotalCost_LTC_brkLR15_SSP1_P50",
          "IDN<br>Policy costs in 2030: nan<br>REMIND 2.1|R2p1_SSP1-PkBudg900",
          "IDN<br>Policy costs in 2030: nan<br>REMIND 2.1|R2p1_SSP2-PkBudg900",
          "IDN<br>Policy costs in 2030: nan<br>REMIND 2.1|R2p1_SSP5-PkBudg900",
          "IDN<br>Policy costs in 2030: nan<br>REMIND-MAgPIE 1.5|SSP2-19",
          "IDN<br>Policy costs in 2030: nan<br>REMIND-MAgPIE 1.7-3.0|CD-LINKS_NPi2020_400",
          "IDN<br>Policy costs in 2030: nan<br>REMIND-MAgPIE 1.7-3.0|EMF33_1.5C_nofuel",
          "IDN<br>Policy costs in 2030: nan<br>REMIND-MAgPIE 1.7-3.0|PEP_1p5C_full_eff",
          "IDN<br>Policy costs in 2030: nan<br>REMIND-MAgPIE 1.7-3.0|PEP_1p5C_red_eff",
          "IDN<br>Policy costs in 2030: 75.7<br>REMIND-MAgPIE 1.7-3.0|PEP_2C_red_eff",
          "IDN<br>Policy costs in 2030: 124.4<br>REMIND-MAgPIE 1.7-3.0|SMP_2C_lifesty",
          "IDN<br>Policy costs in 2030: 68.5<br>REMIND-MAgPIE 2.1-4.2|CEMICS_SSP1-1p5C-fullCDR",
          "IDN<br>Policy costs in 2030: 82.5<br>REMIND-MAgPIE 2.1-4.2|CEMICS_SSP1-1p5C-minCDR",
          "IDN<br>Policy costs in 2030: 64.1<br>REMIND-MAgPIE 2.1-4.2|CEMICS_SSP2-1p5C-fullCDR"
         ],
         "type": "box",
         "whiskerwidth": 0.2,
         "xaxis": "x2",
         "y": [
          null,
          null,
          null,
          null,
          null,
          null,
          null,
          null,
          55.00813236446987,
          32.051571588111194,
          null,
          null,
          null,
          null,
          null,
          null,
          null,
          null,
          null,
          null,
          null,
          null,
          null,
          null,
          null,
          null,
          null,
          null,
          null,
          null,
          null,
          null,
          null,
          null,
          null,
          null,
          null,
          null,
          null,
          null,
          null,
          null,
          null,
          null,
          null,
          null,
          null,
          null,
          null,
          null,
          null,
          null,
          null,
          null,
          null,
          null,
          null,
          null,
          null,
          null,
          null,
          null,
          null,
          null,
          null,
          75.7146194475547,
          124.362636817509,
          68.4770624860077,
          82.53834015965741,
          64.0859519735765
         ],
         "yaxis": "y2"
        },
        {
         "boxpoints": "all",
         "fillcolor": "purple",
         "hovertemplate": "%{text}",
         "jitter": 0.5,
         "line": {
          "color": "black",
          "width": 0.5
         },
         "marker": {
          "color": "black",
          "size": 3
         },
         "name": "IDN",
         "pointpos": -1.8,
         "showlegend": false,
         "text": [
          "IDN<br>CCS in 2030: nan<br>AIM/CGE 2.1|CD-LINKS_NPi2020_400",
          "IDN<br>CCS in 2030: nan<br>AIM/CGE 2.2|EN_NPi2020_300f",
          "IDN<br>CCS in 2030: nan<br>AIM/CGE 2.2|EN_NPi2020_600",
          "IDN<br>CCS in 2030: 515.8<br>AIM/Hub-Global 2.0|1.5C",
          "IDN<br>CCS in 2030: 375.6<br>C-ROADS-5.005|Ratchet-1.5-limCDR-noOS",
          "IDN<br>CCS in 2030: 244.9<br>C-ROADS-5.005|Ratchet-1.5-noCDR",
          "IDN<br>CCS in 2030: 191.5<br>C-ROADS-5.005|Ratchet-1.5-noCDR-noOS",
          "IDN<br>CCS in 2030: 162.2<br>COFFEE 1.1|EN_NPi2020_400",
          "IDN<br>CCS in 2030: 0.0<br>GCAM 4.2|SSP1-19",
          "IDN<br>CCS in 2030: 0.0<br>GCAM 5.3|R_MAC_30_n0",
          "IDN<br>CCS in 2030: 411.1<br>GCAM 5.3|R_MAC_35_n8",
          "IDN<br>CCS in 2030: 545.2<br>GCAM 5.3|R_MAC_40_n8",
          "IDN<br>CCS in 2030: 413.5<br>GCAM 5.3|R_MAC_45_n8",
          "IDN<br>CCS in 2030: 493.8<br>GCAM 5.3|R_MAC_50_n8",
          "IDN<br>CCS in 2030: 434.0<br>GEM-E3_V2021|EN_NPi2020_500",
          "IDN<br>CCS in 2030: 527.0<br>GEM-E3_V2021|EN_NPi2020_600_COV",
          "IDN<br>CCS in 2030: 93.1<br>IMAGE 3.2|SSP1_SPA1_19I_D_LB",
          "IDN<br>CCS in 2030: nan<br>IMAGE 3.2|SSP1_SPA1_19I_LIRE_LB",
          "IDN<br>CCS in 2030: nan<br>IMAGE 3.2|SSP1_SPA1_19I_RE_LB",
          "IDN<br>CCS in 2030: nan<br>IMAGE 3.2|SSP2_SPA1_19I_D_LB",
          "IDN<br>CCS in 2030: nan<br>IMAGE 3.2|SSP2_SPA1_19I_LIRE_LB",
          "IDN<br>CCS in 2030: nan<br>IMAGE 3.2|SSP2_SPA1_19I_RE_LB",
          "IDN<br>CCS in 2030: nan<br>IMAGE 3.2|SSP2_SPA2_19I_LI",
          "IDN<br>CCS in 2030: nan<br>MESSAGE-GLOBIOM 1.0|ADVANCE_2020_1.5C-2100",
          "IDN<br>CCS in 2030: nan<br>MESSAGE-GLOBIOM 1.0|EMF33_1.5C_cost100",
          "IDN<br>CCS in 2030: nan<br>MESSAGE-GLOBIOM 1.0|EMF33_1.5C_full",
          "IDN<br>CCS in 2030: nan<br>MESSAGE-GLOBIOM 1.0|SSP2-19",
          "IDN<br>CCS in 2030: nan<br>MESSAGEix-GLOBIOM 1.0|CD-LINKS_NPi2020_400",
          "IDN<br>CCS in 2030: nan<br>MESSAGEix-GLOBIOM 1.0|LowEnergyDemand_1.3_IPCC",
          "IDN<br>CCS in 2030: nan<br>MESSAGEix-GLOBIOM_1.1|EN_NPi2020_450",
          "IDN<br>CCS in 2030: nan<br>MESSAGEix-GLOBIOM_1.1|EN_NPi2020_500",
          "IDN<br>CCS in 2030: nan<br>MESSAGEix-GLOBIOM_1.1|NGFS2_Divergent Net Zero Policies",
          "IDN<br>CCS in 2030: nan<br>MESSAGEix-GLOBIOM_1.1|NGFS2_Net-Zero 2050",
          "IDN<br>CCS in 2030: nan<br>MESSAGEix-GLOBIOM_1.1|EN_NPi2020_600_COV",
          "IDN<br>CCS in 2030: nan<br>MESSAGEix-GLOBIOM_1.1|EN_NPi2020_600_DR4p",
          "IDN<br>CCS in 2030: nan<br>MESSAGEix-GLOBIOM_1.1|EN_NPi2020_600_DR3p",
          "IDN<br>CCS in 2030: nan<br>MESSAGEix-GLOBIOM_1.1|EN_NPi2020_600_DR2p",
          "IDN<br>CCS in 2030: nan<br>MESSAGEix-GLOBIOM_1.1|EN_NPi2020_600_DR1p",
          "IDN<br>CCS in 2030: nan<br>MESSAGEix-GLOBIOM_1.2|COV_GreenPush_550",
          "IDN<br>CCS in 2030: nan<br>MESSAGEix-GLOBIOM_1.2|COV_NoPolicyNoCOVID_550",
          "IDN<br>CCS in 2030: nan<br>MESSAGEix-GLOBIOM_1.2|COV_Restore_550",
          "IDN<br>CCS in 2030: nan<br>MESSAGEix-GLOBIOM_1.2|COV_SelfReliance_550",
          "IDN<br>CCS in 2030: nan<br>MESSAGEix-GLOBIOM_1.2|COV_SmartUse_550",
          "IDN<br>CCS in 2030: nan<br>POLES ADVANCE|ADVANCE_2020_1.5C-2100",
          "IDN<br>CCS in 2030: nan<br>POLES EMF33|EMF33_WB2C_cost100",
          "IDN<br>CCS in 2030: nan<br>POLES EMF33|EMF33_WB2C_full",
          "IDN<br>CCS in 2030: nan<br>POLES EMF33|EMF33_WB2C_nofuel",
          "IDN<br>CCS in 2030: nan<br>REMIND 1.7|ADVANCE_2020_1.5C-2100",
          "IDN<br>CCS in 2030: nan<br>REMIND 1.7|CEMICS-1.5-CDR12",
          "IDN<br>CCS in 2030: nan<br>REMIND 1.7|CEMICS-1.5-CDR20",
          "IDN<br>CCS in 2030: nan<br>REMIND 1.7|CEMICS-1.5-CDR8",
          "IDN<br>CCS in 2030: nan<br>REMIND 1.7|CEMICS-2.0-CDR8",
          "IDN<br>CCS in 2030: nan<br>REMIND 2.1|CEMICS_GDPgrowth_1p5",
          "IDN<br>CCS in 2030: nan<br>REMIND 2.1|CEMICS_HotellingConst_1p5",
          "IDN<br>CCS in 2030: nan<br>REMIND 2.1|CEMICS_Linear_1p5",
          "IDN<br>CCS in 2030: nan<br>REMIND 2.1|CEMICS_opt_1p5",
          "IDN<br>CCS in 2030: nan<br>REMIND 2.1|LeastTotalCost_LTC_brkLR15_SSP1_P50",
          "IDN<br>CCS in 2030: nan<br>REMIND 2.1|R2p1_SSP1-PkBudg900",
          "IDN<br>CCS in 2030: nan<br>REMIND 2.1|R2p1_SSP2-PkBudg900",
          "IDN<br>CCS in 2030: nan<br>REMIND 2.1|R2p1_SSP5-PkBudg900",
          "IDN<br>CCS in 2030: nan<br>REMIND-MAgPIE 1.5|SSP2-19",
          "IDN<br>CCS in 2030: nan<br>REMIND-MAgPIE 1.7-3.0|CD-LINKS_NPi2020_400",
          "IDN<br>CCS in 2030: nan<br>REMIND-MAgPIE 1.7-3.0|EMF33_1.5C_nofuel",
          "IDN<br>CCS in 2030: nan<br>REMIND-MAgPIE 1.7-3.0|PEP_1p5C_full_eff",
          "IDN<br>CCS in 2030: nan<br>REMIND-MAgPIE 1.7-3.0|PEP_1p5C_red_eff",
          "IDN<br>CCS in 2030: 16.8<br>REMIND-MAgPIE 1.7-3.0|PEP_2C_red_eff",
          "IDN<br>CCS in 2030: 27.9<br>REMIND-MAgPIE 1.7-3.0|SMP_2C_lifesty",
          "IDN<br>CCS in 2030: 16.8<br>REMIND-MAgPIE 2.1-4.2|CEMICS_SSP1-1p5C-fullCDR",
          "IDN<br>CCS in 2030: 27.9<br>REMIND-MAgPIE 2.1-4.2|CEMICS_SSP1-1p5C-minCDR",
          "IDN<br>CCS in 2030: 5.6<br>REMIND-MAgPIE 2.1-4.2|CEMICS_SSP2-1p5C-fullCDR"
         ],
         "type": "box",
         "whiskerwidth": 0.2,
         "xaxis": "x3",
         "y": [
          null,
          null,
          null,
          515.754938093785,
          375.610521128333,
          244.913652816209,
          191.521015376,
          162.168127358222,
          0.0004794194103892,
          0.0004257045277098,
          411.0808613394153,
          545.2487235693683,
          413.5098056181044,
          493.7569687584752,
          434.0401036686874,
          526.9912553923355,
          93.08212841118946,
          null,
          null,
          null,
          null,
          null,
          null,
          null,
          null,
          null,
          null,
          null,
          null,
          null,
          null,
          null,
          null,
          null,
          null,
          null,
          null,
          null,
          null,
          null,
          null,
          null,
          null,
          null,
          null,
          null,
          null,
          null,
          null,
          null,
          null,
          null,
          null,
          null,
          null,
          null,
          null,
          null,
          null,
          null,
          null,
          null,
          null,
          null,
          null,
          16.7541004866106,
          27.8749101171896,
          16.754110596871,
          27.8749101171896,
          5.62117443856789
         ],
         "yaxis": "y3"
        },
        {
         "boxpoints": "all",
         "fillcolor": "purple",
         "hovertemplate": "%{text}",
         "jitter": 0.5,
         "line": {
          "color": "black",
          "width": 0.5
         },
         "marker": {
          "color": "black",
          "size": 3
         },
         "name": "IDN",
         "pointpos": -1.8,
         "showlegend": false,
         "text": [
          "IDN<br>Primary biomass traded in 2030: nan<br>AIM/CGE 2.1|CD-LINKS_NPi2020_400",
          "IDN<br>Primary biomass traded in 2030: nan<br>AIM/CGE 2.2|EN_NPi2020_300f",
          "IDN<br>Primary biomass traded in 2030: nan<br>AIM/CGE 2.2|EN_NPi2020_600",
          "IDN<br>Primary biomass traded in 2030: nan<br>AIM/Hub-Global 2.0|1.5C",
          "IDN<br>Primary biomass traded in 2030: nan<br>C-ROADS-5.005|Ratchet-1.5-limCDR-noOS",
          "IDN<br>Primary biomass traded in 2030: nan<br>C-ROADS-5.005|Ratchet-1.5-noCDR",
          "IDN<br>Primary biomass traded in 2030: nan<br>C-ROADS-5.005|Ratchet-1.5-noCDR-noOS",
          "IDN<br>Primary biomass traded in 2030: nan<br>COFFEE 1.1|EN_NPi2020_400",
          "IDN<br>Primary biomass traded in 2030: nan<br>GCAM 4.2|SSP1-19",
          "IDN<br>Primary biomass traded in 2030: nan<br>GCAM 5.3|R_MAC_30_n0",
          "IDN<br>Primary biomass traded in 2030: 0.8<br>GCAM 5.3|R_MAC_35_n8",
          "IDN<br>Primary biomass traded in 2030: 1.2<br>GCAM 5.3|R_MAC_40_n8",
          "IDN<br>Primary biomass traded in 2030: 0.8<br>GCAM 5.3|R_MAC_45_n8",
          "IDN<br>Primary biomass traded in 2030: 0.7<br>GCAM 5.3|R_MAC_50_n8",
          "IDN<br>Primary biomass traded in 2030: 0.8<br>GEM-E3_V2021|EN_NPi2020_500",
          "IDN<br>Primary biomass traded in 2030: 0.8<br>GEM-E3_V2021|EN_NPi2020_600_COV",
          "IDN<br>Primary biomass traded in 2030: 0.8<br>IMAGE 3.2|SSP1_SPA1_19I_D_LB",
          "IDN<br>Primary biomass traded in 2030: nan<br>IMAGE 3.2|SSP1_SPA1_19I_LIRE_LB",
          "IDN<br>Primary biomass traded in 2030: nan<br>IMAGE 3.2|SSP1_SPA1_19I_RE_LB",
          "IDN<br>Primary biomass traded in 2030: nan<br>IMAGE 3.2|SSP2_SPA1_19I_D_LB",
          "IDN<br>Primary biomass traded in 2030: nan<br>IMAGE 3.2|SSP2_SPA1_19I_LIRE_LB",
          "IDN<br>Primary biomass traded in 2030: nan<br>IMAGE 3.2|SSP2_SPA1_19I_RE_LB",
          "IDN<br>Primary biomass traded in 2030: nan<br>IMAGE 3.2|SSP2_SPA2_19I_LI",
          "IDN<br>Primary biomass traded in 2030: nan<br>MESSAGE-GLOBIOM 1.0|ADVANCE_2020_1.5C-2100",
          "IDN<br>Primary biomass traded in 2030: nan<br>MESSAGE-GLOBIOM 1.0|EMF33_1.5C_cost100",
          "IDN<br>Primary biomass traded in 2030: nan<br>MESSAGE-GLOBIOM 1.0|EMF33_1.5C_full",
          "IDN<br>Primary biomass traded in 2030: nan<br>MESSAGE-GLOBIOM 1.0|SSP2-19",
          "IDN<br>Primary biomass traded in 2030: nan<br>MESSAGEix-GLOBIOM 1.0|CD-LINKS_NPi2020_400",
          "IDN<br>Primary biomass traded in 2030: nan<br>MESSAGEix-GLOBIOM 1.0|LowEnergyDemand_1.3_IPCC",
          "IDN<br>Primary biomass traded in 2030: nan<br>MESSAGEix-GLOBIOM_1.1|EN_NPi2020_450",
          "IDN<br>Primary biomass traded in 2030: nan<br>MESSAGEix-GLOBIOM_1.1|EN_NPi2020_500",
          "IDN<br>Primary biomass traded in 2030: nan<br>MESSAGEix-GLOBIOM_1.1|NGFS2_Divergent Net Zero Policies",
          "IDN<br>Primary biomass traded in 2030: nan<br>MESSAGEix-GLOBIOM_1.1|NGFS2_Net-Zero 2050",
          "IDN<br>Primary biomass traded in 2030: nan<br>MESSAGEix-GLOBIOM_1.1|EN_NPi2020_600_COV",
          "IDN<br>Primary biomass traded in 2030: nan<br>MESSAGEix-GLOBIOM_1.1|EN_NPi2020_600_DR4p",
          "IDN<br>Primary biomass traded in 2030: nan<br>MESSAGEix-GLOBIOM_1.1|EN_NPi2020_600_DR3p",
          "IDN<br>Primary biomass traded in 2030: nan<br>MESSAGEix-GLOBIOM_1.1|EN_NPi2020_600_DR2p",
          "IDN<br>Primary biomass traded in 2030: nan<br>MESSAGEix-GLOBIOM_1.1|EN_NPi2020_600_DR1p",
          "IDN<br>Primary biomass traded in 2030: nan<br>MESSAGEix-GLOBIOM_1.2|COV_GreenPush_550",
          "IDN<br>Primary biomass traded in 2030: nan<br>MESSAGEix-GLOBIOM_1.2|COV_NoPolicyNoCOVID_550",
          "IDN<br>Primary biomass traded in 2030: nan<br>MESSAGEix-GLOBIOM_1.2|COV_Restore_550",
          "IDN<br>Primary biomass traded in 2030: nan<br>MESSAGEix-GLOBIOM_1.2|COV_SelfReliance_550",
          "IDN<br>Primary biomass traded in 2030: nan<br>MESSAGEix-GLOBIOM_1.2|COV_SmartUse_550",
          "IDN<br>Primary biomass traded in 2030: nan<br>POLES ADVANCE|ADVANCE_2020_1.5C-2100",
          "IDN<br>Primary biomass traded in 2030: nan<br>POLES EMF33|EMF33_WB2C_cost100",
          "IDN<br>Primary biomass traded in 2030: nan<br>POLES EMF33|EMF33_WB2C_full",
          "IDN<br>Primary biomass traded in 2030: nan<br>POLES EMF33|EMF33_WB2C_nofuel",
          "IDN<br>Primary biomass traded in 2030: nan<br>REMIND 1.7|ADVANCE_2020_1.5C-2100",
          "IDN<br>Primary biomass traded in 2030: nan<br>REMIND 1.7|CEMICS-1.5-CDR12",
          "IDN<br>Primary biomass traded in 2030: nan<br>REMIND 1.7|CEMICS-1.5-CDR20",
          "IDN<br>Primary biomass traded in 2030: nan<br>REMIND 1.7|CEMICS-1.5-CDR8",
          "IDN<br>Primary biomass traded in 2030: nan<br>REMIND 1.7|CEMICS-2.0-CDR8",
          "IDN<br>Primary biomass traded in 2030: nan<br>REMIND 2.1|CEMICS_GDPgrowth_1p5",
          "IDN<br>Primary biomass traded in 2030: nan<br>REMIND 2.1|CEMICS_HotellingConst_1p5",
          "IDN<br>Primary biomass traded in 2030: nan<br>REMIND 2.1|CEMICS_Linear_1p5",
          "IDN<br>Primary biomass traded in 2030: nan<br>REMIND 2.1|CEMICS_opt_1p5",
          "IDN<br>Primary biomass traded in 2030: nan<br>REMIND 2.1|LeastTotalCost_LTC_brkLR15_SSP1_P50",
          "IDN<br>Primary biomass traded in 2030: nan<br>REMIND 2.1|R2p1_SSP1-PkBudg900",
          "IDN<br>Primary biomass traded in 2030: nan<br>REMIND 2.1|R2p1_SSP2-PkBudg900",
          "IDN<br>Primary biomass traded in 2030: nan<br>REMIND 2.1|R2p1_SSP5-PkBudg900",
          "IDN<br>Primary biomass traded in 2030: nan<br>REMIND-MAgPIE 1.5|SSP2-19",
          "IDN<br>Primary biomass traded in 2030: nan<br>REMIND-MAgPIE 1.7-3.0|CD-LINKS_NPi2020_400",
          "IDN<br>Primary biomass traded in 2030: nan<br>REMIND-MAgPIE 1.7-3.0|EMF33_1.5C_nofuel",
          "IDN<br>Primary biomass traded in 2030: nan<br>REMIND-MAgPIE 1.7-3.0|PEP_1p5C_full_eff",
          "IDN<br>Primary biomass traded in 2030: nan<br>REMIND-MAgPIE 1.7-3.0|PEP_1p5C_red_eff",
          "IDN<br>Primary biomass traded in 2030: nan<br>REMIND-MAgPIE 1.7-3.0|PEP_2C_red_eff",
          "IDN<br>Primary biomass traded in 2030: nan<br>REMIND-MAgPIE 1.7-3.0|SMP_2C_lifesty",
          "IDN<br>Primary biomass traded in 2030: nan<br>REMIND-MAgPIE 2.1-4.2|CEMICS_SSP1-1p5C-fullCDR",
          "IDN<br>Primary biomass traded in 2030: nan<br>REMIND-MAgPIE 2.1-4.2|CEMICS_SSP1-1p5C-minCDR",
          "IDN<br>Primary biomass traded in 2030: nan<br>REMIND-MAgPIE 2.1-4.2|CEMICS_SSP2-1p5C-fullCDR"
         ],
         "type": "box",
         "whiskerwidth": 0.2,
         "xaxis": "x4",
         "y": [
          null,
          null,
          null,
          null,
          null,
          null,
          null,
          null,
          null,
          null,
          0.7713214111328125,
          1.236843994140625,
          0.7771671142578125,
          0.7356572265625,
          0.7800255737304688,
          0.7978677978515625,
          0.7639326782226563,
          null,
          null,
          null,
          null,
          null,
          null,
          null,
          null,
          null,
          null,
          null,
          null,
          null,
          null,
          null,
          null,
          null,
          null,
          null,
          null,
          null,
          null,
          null,
          null,
          null,
          null,
          null,
          null,
          null,
          null,
          null,
          null,
          null,
          null,
          null,
          null,
          null,
          null,
          null,
          null,
          null,
          null,
          null,
          null,
          null,
          null,
          null,
          null,
          null,
          null,
          null,
          null,
          null
         ],
         "yaxis": "y4"
        },
        {
         "boxpoints": "all",
         "fillcolor": "grey",
         "hovertemplate": "%{text}",
         "jitter": 0.5,
         "line": {
          "color": "black",
          "width": 0.5
         },
         "marker": {
          "color": "black",
          "size": 3
         },
         "name": "RUS",
         "pointpos": -1.8,
         "showlegend": false,
         "text": [
          "RUS<br>GHG emission reduction in 2030: 0.4<br>AIM/CGE 2.1|CD-LINKS_NPi2020_400",
          "RUS<br>GHG emission reduction in 2030: 0.4<br>AIM/CGE 2.2|EN_NPi2020_300f",
          "RUS<br>GHG emission reduction in 2030: 0.6<br>AIM/CGE 2.2|EN_NPi2020_600",
          "RUS<br>GHG emission reduction in 2030: 1.1<br>AIM/Hub-Global 2.0|1.5C",
          "RUS<br>GHG emission reduction in 2030: 0.9<br>C-ROADS-5.005|Ratchet-1.5-limCDR-noOS",
          "RUS<br>GHG emission reduction in 2030: 0.7<br>C-ROADS-5.005|Ratchet-1.5-noCDR",
          "RUS<br>GHG emission reduction in 2030: 0.6<br>C-ROADS-5.005|Ratchet-1.5-noCDR-noOS",
          "RUS<br>GHG emission reduction in 2030: 0.6<br>COFFEE 1.1|EN_NPi2020_400",
          "RUS<br>GHG emission reduction in 2030: 0.5<br>GCAM 4.2|SSP1-19",
          "RUS<br>GHG emission reduction in 2030: 0.4<br>GCAM 5.3|R_MAC_30_n0",
          "RUS<br>GHG emission reduction in 2030: 0.3<br>GCAM 5.3|R_MAC_35_n8",
          "RUS<br>GHG emission reduction in 2030: 0.3<br>GCAM 5.3|R_MAC_40_n8",
          "RUS<br>GHG emission reduction in 2030: 0.3<br>GCAM 5.3|R_MAC_45_n8",
          "RUS<br>GHG emission reduction in 2030: 0.2<br>GCAM 5.3|R_MAC_50_n8",
          "RUS<br>GHG emission reduction in 2030: 0.3<br>GEM-E3_V2021|EN_NPi2020_500",
          "RUS<br>GHG emission reduction in 2030: 0.2<br>GEM-E3_V2021|EN_NPi2020_600_COV",
          "RUS<br>GHG emission reduction in 2030: 0.0<br>IMAGE 3.2|SSP1_SPA1_19I_D_LB",
          "RUS<br>GHG emission reduction in 2030: nan<br>IMAGE 3.2|SSP1_SPA1_19I_LIRE_LB",
          "RUS<br>GHG emission reduction in 2030: nan<br>IMAGE 3.2|SSP1_SPA1_19I_RE_LB",
          "RUS<br>GHG emission reduction in 2030: nan<br>IMAGE 3.2|SSP2_SPA1_19I_D_LB",
          "RUS<br>GHG emission reduction in 2030: nan<br>IMAGE 3.2|SSP2_SPA1_19I_LIRE_LB",
          "RUS<br>GHG emission reduction in 2030: nan<br>IMAGE 3.2|SSP2_SPA1_19I_RE_LB",
          "RUS<br>GHG emission reduction in 2030: nan<br>IMAGE 3.2|SSP2_SPA2_19I_LI",
          "RUS<br>GHG emission reduction in 2030: nan<br>MESSAGE-GLOBIOM 1.0|ADVANCE_2020_1.5C-2100",
          "RUS<br>GHG emission reduction in 2030: nan<br>MESSAGE-GLOBIOM 1.0|EMF33_1.5C_cost100",
          "RUS<br>GHG emission reduction in 2030: nan<br>MESSAGE-GLOBIOM 1.0|EMF33_1.5C_full",
          "RUS<br>GHG emission reduction in 2030: nan<br>MESSAGE-GLOBIOM 1.0|SSP2-19",
          "RUS<br>GHG emission reduction in 2030: nan<br>MESSAGEix-GLOBIOM 1.0|CD-LINKS_NPi2020_400",
          "RUS<br>GHG emission reduction in 2030: nan<br>MESSAGEix-GLOBIOM 1.0|LowEnergyDemand_1.3_IPCC",
          "RUS<br>GHG emission reduction in 2030: nan<br>MESSAGEix-GLOBIOM_1.1|EN_NPi2020_450",
          "RUS<br>GHG emission reduction in 2030: nan<br>MESSAGEix-GLOBIOM_1.1|EN_NPi2020_500",
          "RUS<br>GHG emission reduction in 2030: 0.4<br>MESSAGEix-GLOBIOM_1.1|NGFS2_Divergent Net Zero Policies",
          "RUS<br>GHG emission reduction in 2030: 0.4<br>MESSAGEix-GLOBIOM_1.1|NGFS2_Net-Zero 2050",
          "RUS<br>GHG emission reduction in 2030: 0.4<br>MESSAGEix-GLOBIOM_1.1|EN_NPi2020_600_COV",
          "RUS<br>GHG emission reduction in 2030: 0.4<br>MESSAGEix-GLOBIOM_1.1|EN_NPi2020_600_DR4p",
          "RUS<br>GHG emission reduction in 2030: 0.4<br>MESSAGEix-GLOBIOM_1.1|EN_NPi2020_600_DR3p",
          "RUS<br>GHG emission reduction in 2030: 0.4<br>MESSAGEix-GLOBIOM_1.1|EN_NPi2020_600_DR2p",
          "RUS<br>GHG emission reduction in 2030: 0.4<br>MESSAGEix-GLOBIOM_1.1|EN_NPi2020_600_DR1p",
          "RUS<br>GHG emission reduction in 2030: 0.5<br>MESSAGEix-GLOBIOM_1.2|COV_GreenPush_550",
          "RUS<br>GHG emission reduction in 2030: 0.4<br>MESSAGEix-GLOBIOM_1.2|COV_NoPolicyNoCOVID_550",
          "RUS<br>GHG emission reduction in 2030: nan<br>MESSAGEix-GLOBIOM_1.2|COV_Restore_550",
          "RUS<br>GHG emission reduction in 2030: 0.4<br>MESSAGEix-GLOBIOM_1.2|COV_SelfReliance_550",
          "RUS<br>GHG emission reduction in 2030: 0.5<br>MESSAGEix-GLOBIOM_1.2|COV_SmartUse_550",
          "RUS<br>GHG emission reduction in 2030: 0.4<br>POLES ADVANCE|ADVANCE_2020_1.5C-2100",
          "RUS<br>GHG emission reduction in 2030: 0.4<br>POLES EMF33|EMF33_WB2C_cost100",
          "RUS<br>GHG emission reduction in 2030: 0.5<br>POLES EMF33|EMF33_WB2C_full",
          "RUS<br>GHG emission reduction in 2030: 0.4<br>POLES EMF33|EMF33_WB2C_nofuel",
          "RUS<br>GHG emission reduction in 2030: 0.5<br>REMIND 1.7|ADVANCE_2020_1.5C-2100",
          "RUS<br>GHG emission reduction in 2030: 0.4<br>REMIND 1.7|CEMICS-1.5-CDR12",
          "RUS<br>GHG emission reduction in 2030: 0.4<br>REMIND 1.7|CEMICS-1.5-CDR20",
          "RUS<br>GHG emission reduction in 2030: 0.6<br>REMIND 1.7|CEMICS-1.5-CDR8",
          "RUS<br>GHG emission reduction in 2030: 0.4<br>REMIND 1.7|CEMICS-2.0-CDR8",
          "RUS<br>GHG emission reduction in 2030: 0.5<br>REMIND 2.1|CEMICS_GDPgrowth_1p5",
          "RUS<br>GHG emission reduction in 2030: 0.4<br>REMIND 2.1|CEMICS_HotellingConst_1p5",
          "RUS<br>GHG emission reduction in 2030: 0.5<br>REMIND 2.1|CEMICS_Linear_1p5",
          "RUS<br>GHG emission reduction in 2030: 0.4<br>REMIND 2.1|CEMICS_opt_1p5",
          "RUS<br>GHG emission reduction in 2030: 0.5<br>REMIND 2.1|LeastTotalCost_LTC_brkLR15_SSP1_P50",
          "RUS<br>GHG emission reduction in 2030: 0.5<br>REMIND 2.1|R2p1_SSP1-PkBudg900",
          "RUS<br>GHG emission reduction in 2030: 0.5<br>REMIND 2.1|R2p1_SSP2-PkBudg900",
          "RUS<br>GHG emission reduction in 2030: 0.5<br>REMIND 2.1|R2p1_SSP5-PkBudg900",
          "RUS<br>GHG emission reduction in 2030: 0.5<br>REMIND-MAgPIE 1.5|SSP2-19",
          "RUS<br>GHG emission reduction in 2030: 0.5<br>REMIND-MAgPIE 1.7-3.0|CD-LINKS_NPi2020_400",
          "RUS<br>GHG emission reduction in 2030: 0.4<br>REMIND-MAgPIE 1.7-3.0|EMF33_1.5C_nofuel",
          "RUS<br>GHG emission reduction in 2030: 0.5<br>REMIND-MAgPIE 1.7-3.0|PEP_1p5C_full_eff",
          "RUS<br>GHG emission reduction in 2030: 0.4<br>REMIND-MAgPIE 1.7-3.0|PEP_1p5C_red_eff",
          "RUS<br>GHG emission reduction in 2030: nan<br>REMIND-MAgPIE 1.7-3.0|PEP_2C_red_eff",
          "RUS<br>GHG emission reduction in 2030: nan<br>REMIND-MAgPIE 1.7-3.0|SMP_2C_lifesty",
          "RUS<br>GHG emission reduction in 2030: nan<br>REMIND-MAgPIE 2.1-4.2|CEMICS_SSP1-1p5C-fullCDR",
          "RUS<br>GHG emission reduction in 2030: nan<br>REMIND-MAgPIE 2.1-4.2|CEMICS_SSP1-1p5C-minCDR",
          "RUS<br>GHG emission reduction in 2030: nan<br>REMIND-MAgPIE 2.1-4.2|CEMICS_SSP2-1p5C-fullCDR"
         ],
         "type": "box",
         "whiskerwidth": 0.2,
         "xaxis": "x",
         "y": [
          0.44220081386890214,
          0.44220081386890214,
          0.603854273966653,
          1.1151246905638523,
          0.8507760892873344,
          0.699759580715799,
          0.6428219814653671,
          0.6040708979459614,
          0.4671005224696935,
          0.37323777908971284,
          0.2798994049842718,
          0.32042243326178155,
          0.2844832284369716,
          0.23475469917421812,
          0.29460994094602855,
          0.24235226051648823,
          0.042433824274412904,
          null,
          null,
          null,
          null,
          null,
          null,
          null,
          null,
          null,
          null,
          null,
          null,
          null,
          null,
          0.41793921559675695,
          0.38170997428018216,
          0.40389398383252595,
          0.39832121441231405,
          0.4272296321585844,
          0.4462663135173918,
          0.42738752370121424,
          0.46658085524425663,
          0.37374402812264124,
          null,
          0.36545738132771743,
          0.5118031788685407,
          0.36791591075030533,
          0.4271789055003432,
          0.4847850543318769,
          0.40985273476850415,
          0.529829471621172,
          0.42577597077753143,
          0.4139543515637167,
          0.6417734690894555,
          0.4027516645939002,
          0.5201396759818262,
          0.43663648903493757,
          0.4563302779892673,
          0.40456271006475647,
          0.4921707577001038,
          0.4791301763661105,
          0.5051353109611061,
          0.5050364578804021,
          0.46160606119699665,
          0.4522754198768559,
          0.43789947104505267,
          0.4807402020131338,
          0.4338938852206055,
          null,
          null,
          null,
          null,
          null
         ],
         "yaxis": "y"
        },
        {
         "marker": {
          "color": "grey",
          "colorscale": [
           [
            0,
            "rgb(158,1,66)"
           ],
           [
            0.1,
            "rgb(213,62,79)"
           ],
           [
            0.2,
            "rgb(244,109,67)"
           ],
           [
            0.3,
            "rgb(253,174,97)"
           ],
           [
            0.4,
            "rgb(254,224,139)"
           ],
           [
            0.5,
            "rgb(255,255,191)"
           ],
           [
            0.6,
            "rgb(230,245,152)"
           ],
           [
            0.7,
            "rgb(171,221,164)"
           ],
           [
            0.8,
            "rgb(102,194,165)"
           ],
           [
            0.9,
            "rgb(50,136,189)"
           ],
           [
            1,
            "rgb(94,79,162)"
           ]
          ],
          "line": {
           "color": "black",
           "width": 0.2
          },
          "size": 25,
          "symbol": "circle"
         },
         "mode": "markers+text",
         "showlegend": false,
         "text": "GF",
         "textfont": {
          "color": "black",
          "family": "Arial black",
          "size": 13
         },
         "type": "scatter",
         "x": [
          "RUS"
         ],
         "xaxis": "x",
         "y": [
          0.4094983422241847
         ],
         "yaxis": "y"
        },
        {
         "marker": {
          "color": "grey",
          "colorscale": [
           [
            0,
            "rgb(158,1,66)"
           ],
           [
            0.1,
            "rgb(213,62,79)"
           ],
           [
            0.2,
            "rgb(244,109,67)"
           ],
           [
            0.3,
            "rgb(253,174,97)"
           ],
           [
            0.4,
            "rgb(254,224,139)"
           ],
           [
            0.5,
            "rgb(255,255,191)"
           ],
           [
            0.6,
            "rgb(230,245,152)"
           ],
           [
            0.7,
            "rgb(171,221,164)"
           ],
           [
            0.8,
            "rgb(102,194,165)"
           ],
           [
            0.9,
            "rgb(50,136,189)"
           ],
           [
            1,
            "rgb(94,79,162)"
           ]
          ],
          "line": {
           "color": "black",
           "width": 0.2
          },
          "size": 25,
          "symbol": "square"
         },
         "mode": "markers+text",
         "showlegend": false,
         "text": "PC",
         "textfont": {
          "color": "black",
          "family": "Arial black",
          "size": 13
         },
         "type": "scatter",
         "x": [
          "RUS"
         ],
         "xaxis": "x",
         "y": [
          0.8144672370688483
         ],
         "yaxis": "y"
        },
        {
         "marker": {
          "color": "grey",
          "colorscale": [
           [
            0,
            "rgb(158,1,66)"
           ],
           [
            0.1,
            "rgb(213,62,79)"
           ],
           [
            0.2,
            "rgb(244,109,67)"
           ],
           [
            0.3,
            "rgb(253,174,97)"
           ],
           [
            0.4,
            "rgb(254,224,139)"
           ],
           [
            0.5,
            "rgb(255,255,191)"
           ],
           [
            0.6,
            "rgb(230,245,152)"
           ],
           [
            0.7,
            "rgb(171,221,164)"
           ],
           [
            0.8,
            "rgb(102,194,165)"
           ],
           [
            0.9,
            "rgb(50,136,189)"
           ],
           [
            1,
            "rgb(94,79,162)"
           ]
          ],
          "line": {
           "color": "black",
           "width": 0.2
          },
          "size": 25,
          "symbol": "diamond"
         },
         "mode": "markers+text",
         "showlegend": false,
         "text": "PCC",
         "textfont": {
          "color": "black",
          "family": "Arial black",
          "size": 13
         },
         "type": "scatter",
         "x": [
          "RUS"
         ],
         "xaxis": "x",
         "y": [
          0.6119827896465165
         ],
         "yaxis": "y"
        },
        {
         "marker": {
          "color": "grey",
          "colorscale": [
           [
            0,
            "rgb(158,1,66)"
           ],
           [
            0.1,
            "rgb(213,62,79)"
           ],
           [
            0.2,
            "rgb(244,109,67)"
           ],
           [
            0.3,
            "rgb(253,174,97)"
           ],
           [
            0.4,
            "rgb(254,224,139)"
           ],
           [
            0.5,
            "rgb(255,255,191)"
           ],
           [
            0.6,
            "rgb(230,245,152)"
           ],
           [
            0.7,
            "rgb(171,221,164)"
           ],
           [
            0.8,
            "rgb(102,194,165)"
           ],
           [
            0.9,
            "rgb(50,136,189)"
           ],
           [
            1,
            "rgb(94,79,162)"
           ]
          ],
          "line": {
           "color": "black",
           "width": 0.2
          },
          "size": 25,
          "symbol": "triangle-up"
         },
         "mode": "markers+text",
         "showlegend": false,
         "text": "NDC",
         "textfont": {
          "color": "black",
          "family": "Arial black",
          "size": 13
         },
         "type": "scatter",
         "x": [
          "RUS"
         ],
         "xaxis": "x",
         "y": [
          -0.03862163334080766
         ],
         "yaxis": "y"
        },
        {
         "boxpoints": "all",
         "fillcolor": "grey",
         "hovertemplate": "%{text}",
         "jitter": 0.5,
         "line": {
          "color": "black",
          "width": 0.5
         },
         "marker": {
          "color": "black",
          "size": 3
         },
         "name": "RUS",
         "pointpos": -1.8,
         "showlegend": false,
         "text": [
          "RUS<br>Policy costs in 2030: 419.1<br>AIM/CGE 2.1|CD-LINKS_NPi2020_400",
          "RUS<br>Policy costs in 2030: 419.1<br>AIM/CGE 2.2|EN_NPi2020_300f",
          "RUS<br>Policy costs in 2030: nan<br>AIM/CGE 2.2|EN_NPi2020_600",
          "RUS<br>Policy costs in 2030: nan<br>AIM/Hub-Global 2.0|1.5C",
          "RUS<br>Policy costs in 2030: nan<br>C-ROADS-5.005|Ratchet-1.5-limCDR-noOS",
          "RUS<br>Policy costs in 2030: nan<br>C-ROADS-5.005|Ratchet-1.5-noCDR",
          "RUS<br>Policy costs in 2030: nan<br>C-ROADS-5.005|Ratchet-1.5-noCDR-noOS",
          "RUS<br>Policy costs in 2030: nan<br>COFFEE 1.1|EN_NPi2020_400",
          "RUS<br>Policy costs in 2030: 127.5<br>GCAM 4.2|SSP1-19",
          "RUS<br>Policy costs in 2030: 74.7<br>GCAM 5.3|R_MAC_30_n0",
          "RUS<br>Policy costs in 2030: nan<br>GCAM 5.3|R_MAC_35_n8",
          "RUS<br>Policy costs in 2030: nan<br>GCAM 5.3|R_MAC_40_n8",
          "RUS<br>Policy costs in 2030: nan<br>GCAM 5.3|R_MAC_45_n8",
          "RUS<br>Policy costs in 2030: nan<br>GCAM 5.3|R_MAC_50_n8",
          "RUS<br>Policy costs in 2030: nan<br>GEM-E3_V2021|EN_NPi2020_500",
          "RUS<br>Policy costs in 2030: nan<br>GEM-E3_V2021|EN_NPi2020_600_COV",
          "RUS<br>Policy costs in 2030: nan<br>IMAGE 3.2|SSP1_SPA1_19I_D_LB",
          "RUS<br>Policy costs in 2030: nan<br>IMAGE 3.2|SSP1_SPA1_19I_LIRE_LB",
          "RUS<br>Policy costs in 2030: nan<br>IMAGE 3.2|SSP1_SPA1_19I_RE_LB",
          "RUS<br>Policy costs in 2030: nan<br>IMAGE 3.2|SSP2_SPA1_19I_D_LB",
          "RUS<br>Policy costs in 2030: nan<br>IMAGE 3.2|SSP2_SPA1_19I_LIRE_LB",
          "RUS<br>Policy costs in 2030: nan<br>IMAGE 3.2|SSP2_SPA1_19I_RE_LB",
          "RUS<br>Policy costs in 2030: nan<br>IMAGE 3.2|SSP2_SPA2_19I_LI",
          "RUS<br>Policy costs in 2030: nan<br>MESSAGE-GLOBIOM 1.0|ADVANCE_2020_1.5C-2100",
          "RUS<br>Policy costs in 2030: nan<br>MESSAGE-GLOBIOM 1.0|EMF33_1.5C_cost100",
          "RUS<br>Policy costs in 2030: nan<br>MESSAGE-GLOBIOM 1.0|EMF33_1.5C_full",
          "RUS<br>Policy costs in 2030: nan<br>MESSAGE-GLOBIOM 1.0|SSP2-19",
          "RUS<br>Policy costs in 2030: nan<br>MESSAGEix-GLOBIOM 1.0|CD-LINKS_NPi2020_400",
          "RUS<br>Policy costs in 2030: nan<br>MESSAGEix-GLOBIOM 1.0|LowEnergyDemand_1.3_IPCC",
          "RUS<br>Policy costs in 2030: nan<br>MESSAGEix-GLOBIOM_1.1|EN_NPi2020_450",
          "RUS<br>Policy costs in 2030: nan<br>MESSAGEix-GLOBIOM_1.1|EN_NPi2020_500",
          "RUS<br>Policy costs in 2030: nan<br>MESSAGEix-GLOBIOM_1.1|NGFS2_Divergent Net Zero Policies",
          "RUS<br>Policy costs in 2030: nan<br>MESSAGEix-GLOBIOM_1.1|NGFS2_Net-Zero 2050",
          "RUS<br>Policy costs in 2030: nan<br>MESSAGEix-GLOBIOM_1.1|EN_NPi2020_600_COV",
          "RUS<br>Policy costs in 2030: nan<br>MESSAGEix-GLOBIOM_1.1|EN_NPi2020_600_DR4p",
          "RUS<br>Policy costs in 2030: nan<br>MESSAGEix-GLOBIOM_1.1|EN_NPi2020_600_DR3p",
          "RUS<br>Policy costs in 2030: nan<br>MESSAGEix-GLOBIOM_1.1|EN_NPi2020_600_DR2p",
          "RUS<br>Policy costs in 2030: nan<br>MESSAGEix-GLOBIOM_1.1|EN_NPi2020_600_DR1p",
          "RUS<br>Policy costs in 2030: nan<br>MESSAGEix-GLOBIOM_1.2|COV_GreenPush_550",
          "RUS<br>Policy costs in 2030: 117.0<br>MESSAGEix-GLOBIOM_1.2|COV_NoPolicyNoCOVID_550",
          "RUS<br>Policy costs in 2030: nan<br>MESSAGEix-GLOBIOM_1.2|COV_Restore_550",
          "RUS<br>Policy costs in 2030: 137.7<br>MESSAGEix-GLOBIOM_1.2|COV_SelfReliance_550",
          "RUS<br>Policy costs in 2030: 397.2<br>MESSAGEix-GLOBIOM_1.2|COV_SmartUse_550",
          "RUS<br>Policy costs in 2030: 114.8<br>POLES ADVANCE|ADVANCE_2020_1.5C-2100",
          "RUS<br>Policy costs in 2030: nan<br>POLES EMF33|EMF33_WB2C_cost100",
          "RUS<br>Policy costs in 2030: nan<br>POLES EMF33|EMF33_WB2C_full",
          "RUS<br>Policy costs in 2030: nan<br>POLES EMF33|EMF33_WB2C_nofuel",
          "RUS<br>Policy costs in 2030: nan<br>REMIND 1.7|ADVANCE_2020_1.5C-2100",
          "RUS<br>Policy costs in 2030: nan<br>REMIND 1.7|CEMICS-1.5-CDR12",
          "RUS<br>Policy costs in 2030: nan<br>REMIND 1.7|CEMICS-1.5-CDR20",
          "RUS<br>Policy costs in 2030: nan<br>REMIND 1.7|CEMICS-1.5-CDR8",
          "RUS<br>Policy costs in 2030: nan<br>REMIND 1.7|CEMICS-2.0-CDR8",
          "RUS<br>Policy costs in 2030: nan<br>REMIND 2.1|CEMICS_GDPgrowth_1p5",
          "RUS<br>Policy costs in 2030: nan<br>REMIND 2.1|CEMICS_HotellingConst_1p5",
          "RUS<br>Policy costs in 2030: nan<br>REMIND 2.1|CEMICS_Linear_1p5",
          "RUS<br>Policy costs in 2030: nan<br>REMIND 2.1|CEMICS_opt_1p5",
          "RUS<br>Policy costs in 2030: nan<br>REMIND 2.1|LeastTotalCost_LTC_brkLR15_SSP1_P50",
          "RUS<br>Policy costs in 2030: nan<br>REMIND 2.1|R2p1_SSP1-PkBudg900",
          "RUS<br>Policy costs in 2030: nan<br>REMIND 2.1|R2p1_SSP2-PkBudg900",
          "RUS<br>Policy costs in 2030: nan<br>REMIND 2.1|R2p1_SSP5-PkBudg900",
          "RUS<br>Policy costs in 2030: nan<br>REMIND-MAgPIE 1.5|SSP2-19",
          "RUS<br>Policy costs in 2030: nan<br>REMIND-MAgPIE 1.7-3.0|CD-LINKS_NPi2020_400",
          "RUS<br>Policy costs in 2030: nan<br>REMIND-MAgPIE 1.7-3.0|EMF33_1.5C_nofuel",
          "RUS<br>Policy costs in 2030: -259.7<br>REMIND-MAgPIE 1.7-3.0|PEP_1p5C_full_eff",
          "RUS<br>Policy costs in 2030: -188.1<br>REMIND-MAgPIE 1.7-3.0|PEP_1p5C_red_eff",
          "RUS<br>Policy costs in 2030: nan<br>REMIND-MAgPIE 1.7-3.0|PEP_2C_red_eff",
          "RUS<br>Policy costs in 2030: nan<br>REMIND-MAgPIE 1.7-3.0|SMP_2C_lifesty",
          "RUS<br>Policy costs in 2030: nan<br>REMIND-MAgPIE 2.1-4.2|CEMICS_SSP1-1p5C-fullCDR",
          "RUS<br>Policy costs in 2030: nan<br>REMIND-MAgPIE 2.1-4.2|CEMICS_SSP1-1p5C-minCDR",
          "RUS<br>Policy costs in 2030: nan<br>REMIND-MAgPIE 2.1-4.2|CEMICS_SSP2-1p5C-fullCDR"
         ],
         "type": "box",
         "whiskerwidth": 0.2,
         "xaxis": "x2",
         "y": [
          419.1017,
          419.1017,
          null,
          null,
          null,
          null,
          null,
          null,
          127.46552581046603,
          74.71714586565732,
          null,
          null,
          null,
          null,
          null,
          null,
          null,
          null,
          null,
          null,
          null,
          null,
          null,
          null,
          null,
          null,
          null,
          null,
          null,
          null,
          null,
          null,
          null,
          null,
          null,
          null,
          null,
          null,
          null,
          117.0472,
          null,
          137.7032,
          397.1836,
          114.7664,
          null,
          null,
          null,
          null,
          null,
          null,
          null,
          null,
          null,
          null,
          null,
          null,
          null,
          null,
          null,
          null,
          null,
          null,
          null,
          -259.7175,
          -188.0711,
          null,
          null,
          null,
          null,
          null
         ],
         "yaxis": "y2"
        },
        {
         "boxpoints": "all",
         "fillcolor": "grey",
         "hovertemplate": "%{text}",
         "jitter": 0.5,
         "line": {
          "color": "black",
          "width": 0.5
         },
         "marker": {
          "color": "black",
          "size": 3
         },
         "name": "RUS",
         "pointpos": -1.8,
         "showlegend": false,
         "text": [
          "RUS<br>CCS in 2030: 280.1<br>AIM/CGE 2.1|CD-LINKS_NPi2020_400",
          "RUS<br>CCS in 2030: 280.1<br>AIM/CGE 2.2|EN_NPi2020_300f",
          "RUS<br>CCS in 2030: 25.0<br>AIM/CGE 2.2|EN_NPi2020_600",
          "RUS<br>CCS in 2030: 986.5<br>AIM/Hub-Global 2.0|1.5C",
          "RUS<br>CCS in 2030: 532.3<br>C-ROADS-5.005|Ratchet-1.5-limCDR-noOS",
          "RUS<br>CCS in 2030: 288.6<br>C-ROADS-5.005|Ratchet-1.5-noCDR",
          "RUS<br>CCS in 2030: 239.8<br>C-ROADS-5.005|Ratchet-1.5-noCDR-noOS",
          "RUS<br>CCS in 2030: 214.8<br>COFFEE 1.1|EN_NPi2020_400",
          "RUS<br>CCS in 2030: 0.0<br>GCAM 4.2|SSP1-19",
          "RUS<br>CCS in 2030: 0.0<br>GCAM 5.3|R_MAC_30_n0",
          "RUS<br>CCS in 2030: 18.6<br>GCAM 5.3|R_MAC_35_n8",
          "RUS<br>CCS in 2030: 13.1<br>GCAM 5.3|R_MAC_40_n8",
          "RUS<br>CCS in 2030: 15.5<br>GCAM 5.3|R_MAC_45_n8",
          "RUS<br>CCS in 2030: 22.8<br>GCAM 5.3|R_MAC_50_n8",
          "RUS<br>CCS in 2030: 10.5<br>GEM-E3_V2021|EN_NPi2020_500",
          "RUS<br>CCS in 2030: 20.7<br>GEM-E3_V2021|EN_NPi2020_600_COV",
          "RUS<br>CCS in 2030: 0.0<br>IMAGE 3.2|SSP1_SPA1_19I_D_LB",
          "RUS<br>CCS in 2030: nan<br>IMAGE 3.2|SSP1_SPA1_19I_LIRE_LB",
          "RUS<br>CCS in 2030: nan<br>IMAGE 3.2|SSP1_SPA1_19I_RE_LB",
          "RUS<br>CCS in 2030: nan<br>IMAGE 3.2|SSP2_SPA1_19I_D_LB",
          "RUS<br>CCS in 2030: nan<br>IMAGE 3.2|SSP2_SPA1_19I_LIRE_LB",
          "RUS<br>CCS in 2030: nan<br>IMAGE 3.2|SSP2_SPA1_19I_RE_LB",
          "RUS<br>CCS in 2030: nan<br>IMAGE 3.2|SSP2_SPA2_19I_LI",
          "RUS<br>CCS in 2030: nan<br>MESSAGE-GLOBIOM 1.0|ADVANCE_2020_1.5C-2100",
          "RUS<br>CCS in 2030: nan<br>MESSAGE-GLOBIOM 1.0|EMF33_1.5C_cost100",
          "RUS<br>CCS in 2030: nan<br>MESSAGE-GLOBIOM 1.0|EMF33_1.5C_full",
          "RUS<br>CCS in 2030: nan<br>MESSAGE-GLOBIOM 1.0|SSP2-19",
          "RUS<br>CCS in 2030: nan<br>MESSAGEix-GLOBIOM 1.0|CD-LINKS_NPi2020_400",
          "RUS<br>CCS in 2030: nan<br>MESSAGEix-GLOBIOM 1.0|LowEnergyDemand_1.3_IPCC",
          "RUS<br>CCS in 2030: nan<br>MESSAGEix-GLOBIOM_1.1|EN_NPi2020_450",
          "RUS<br>CCS in 2030: nan<br>MESSAGEix-GLOBIOM_1.1|EN_NPi2020_500",
          "RUS<br>CCS in 2030: 48.0<br>MESSAGEix-GLOBIOM_1.1|NGFS2_Divergent Net Zero Policies",
          "RUS<br>CCS in 2030: 47.8<br>MESSAGEix-GLOBIOM_1.1|NGFS2_Net-Zero 2050",
          "RUS<br>CCS in 2030: 49.1<br>MESSAGEix-GLOBIOM_1.1|EN_NPi2020_600_COV",
          "RUS<br>CCS in 2030: 45.9<br>MESSAGEix-GLOBIOM_1.1|EN_NPi2020_600_DR4p",
          "RUS<br>CCS in 2030: 29.6<br>MESSAGEix-GLOBIOM_1.1|EN_NPi2020_600_DR3p",
          "RUS<br>CCS in 2030: 42.2<br>MESSAGEix-GLOBIOM_1.1|EN_NPi2020_600_DR2p",
          "RUS<br>CCS in 2030: 46.5<br>MESSAGEix-GLOBIOM_1.1|EN_NPi2020_600_DR1p",
          "RUS<br>CCS in 2030: 66.0<br>MESSAGEix-GLOBIOM_1.2|COV_GreenPush_550",
          "RUS<br>CCS in 2030: 58.7<br>MESSAGEix-GLOBIOM_1.2|COV_NoPolicyNoCOVID_550",
          "RUS<br>CCS in 2030: nan<br>MESSAGEix-GLOBIOM_1.2|COV_Restore_550",
          "RUS<br>CCS in 2030: 18.2<br>MESSAGEix-GLOBIOM_1.2|COV_SelfReliance_550",
          "RUS<br>CCS in 2030: 130.4<br>MESSAGEix-GLOBIOM_1.2|COV_SmartUse_550",
          "RUS<br>CCS in 2030: 17.5<br>POLES ADVANCE|ADVANCE_2020_1.5C-2100",
          "RUS<br>CCS in 2030: 37.6<br>POLES EMF33|EMF33_WB2C_cost100",
          "RUS<br>CCS in 2030: 54.2<br>POLES EMF33|EMF33_WB2C_full",
          "RUS<br>CCS in 2030: 43.8<br>POLES EMF33|EMF33_WB2C_nofuel",
          "RUS<br>CCS in 2030: 57.0<br>REMIND 1.7|ADVANCE_2020_1.5C-2100",
          "RUS<br>CCS in 2030: 43.0<br>REMIND 1.7|CEMICS-1.5-CDR12",
          "RUS<br>CCS in 2030: 42.5<br>REMIND 1.7|CEMICS-1.5-CDR20",
          "RUS<br>CCS in 2030: 89.7<br>REMIND 1.7|CEMICS-1.5-CDR8",
          "RUS<br>CCS in 2030: 41.6<br>REMIND 1.7|CEMICS-2.0-CDR8",
          "RUS<br>CCS in 2030: 54.8<br>REMIND 2.1|CEMICS_GDPgrowth_1p5",
          "RUS<br>CCS in 2030: 47.3<br>REMIND 2.1|CEMICS_HotellingConst_1p5",
          "RUS<br>CCS in 2030: 33.5<br>REMIND 2.1|CEMICS_Linear_1p5",
          "RUS<br>CCS in 2030: 18.9<br>REMIND 2.1|CEMICS_opt_1p5",
          "RUS<br>CCS in 2030: 42.8<br>REMIND 2.1|LeastTotalCost_LTC_brkLR15_SSP1_P50",
          "RUS<br>CCS in 2030: 45.2<br>REMIND 2.1|R2p1_SSP1-PkBudg900",
          "RUS<br>CCS in 2030: 46.5<br>REMIND 2.1|R2p1_SSP2-PkBudg900",
          "RUS<br>CCS in 2030: 46.5<br>REMIND 2.1|R2p1_SSP5-PkBudg900",
          "RUS<br>CCS in 2030: 17.0<br>REMIND-MAgPIE 1.5|SSP2-19",
          "RUS<br>CCS in 2030: 42.3<br>REMIND-MAgPIE 1.7-3.0|CD-LINKS_NPi2020_400",
          "RUS<br>CCS in 2030: 46.6<br>REMIND-MAgPIE 1.7-3.0|EMF33_1.5C_nofuel",
          "RUS<br>CCS in 2030: 66.0<br>REMIND-MAgPIE 1.7-3.0|PEP_1p5C_full_eff",
          "RUS<br>CCS in 2030: 59.8<br>REMIND-MAgPIE 1.7-3.0|PEP_1p5C_red_eff",
          "RUS<br>CCS in 2030: nan<br>REMIND-MAgPIE 1.7-3.0|PEP_2C_red_eff",
          "RUS<br>CCS in 2030: nan<br>REMIND-MAgPIE 1.7-3.0|SMP_2C_lifesty",
          "RUS<br>CCS in 2030: nan<br>REMIND-MAgPIE 2.1-4.2|CEMICS_SSP1-1p5C-fullCDR",
          "RUS<br>CCS in 2030: nan<br>REMIND-MAgPIE 2.1-4.2|CEMICS_SSP1-1p5C-minCDR",
          "RUS<br>CCS in 2030: nan<br>REMIND-MAgPIE 2.1-4.2|CEMICS_SSP2-1p5C-fullCDR"
         ],
         "type": "box",
         "whiskerwidth": 0.2,
         "xaxis": "x3",
         "y": [
          280.1045,
          280.1045,
          24.996612,
          986.452285394006,
          532.311623951095,
          288.563021173,
          239.759747635672,
          214.807293747934,
          0.0023553847928361,
          0.0023171710525873,
          18.62430200150047,
          13.12832519941268,
          15.54237989229194,
          22.82630334437419,
          10.5075643008455,
          20.67732017918818,
          0,
          null,
          null,
          null,
          null,
          null,
          null,
          null,
          null,
          null,
          null,
          null,
          null,
          null,
          null,
          47.9932,
          47.7532,
          49.1458,
          45.8894,
          29.6062,
          42.1663,
          46.4554,
          65.9502,
          58.7049,
          null,
          18.198,
          130.3623,
          17.4798,
          37.6044,
          54.1873,
          43.8272,
          56.998,
          43.0368,
          42.5343,
          89.6692,
          41.6054,
          54.8081,
          47.3381,
          33.4797,
          18.8604,
          42.7905,
          45.216,
          46.536,
          46.5196,
          17.0025,
          42.3303,
          46.6105,
          65.9747,
          59.8207,
          null,
          null,
          null,
          null,
          null
         ],
         "yaxis": "y3"
        },
        {
         "boxpoints": "all",
         "fillcolor": "grey",
         "hovertemplate": "%{text}",
         "jitter": 0.5,
         "line": {
          "color": "black",
          "width": 0.5
         },
         "marker": {
          "color": "black",
          "size": 3
         },
         "name": "RUS",
         "pointpos": -1.8,
         "showlegend": false,
         "text": [
          "RUS<br>Primary biomass traded in 2030: -0.0<br>AIM/CGE 2.1|CD-LINKS_NPi2020_400",
          "RUS<br>Primary biomass traded in 2030: -0.0<br>AIM/CGE 2.2|EN_NPi2020_300f",
          "RUS<br>Primary biomass traded in 2030: 0.0<br>AIM/CGE 2.2|EN_NPi2020_600",
          "RUS<br>Primary biomass traded in 2030: nan<br>AIM/Hub-Global 2.0|1.5C",
          "RUS<br>Primary biomass traded in 2030: nan<br>C-ROADS-5.005|Ratchet-1.5-limCDR-noOS",
          "RUS<br>Primary biomass traded in 2030: nan<br>C-ROADS-5.005|Ratchet-1.5-noCDR",
          "RUS<br>Primary biomass traded in 2030: nan<br>C-ROADS-5.005|Ratchet-1.5-noCDR-noOS",
          "RUS<br>Primary biomass traded in 2030: nan<br>COFFEE 1.1|EN_NPi2020_400",
          "RUS<br>Primary biomass traded in 2030: nan<br>GCAM 4.2|SSP1-19",
          "RUS<br>Primary biomass traded in 2030: nan<br>GCAM 5.3|R_MAC_30_n0",
          "RUS<br>Primary biomass traded in 2030: 0.1<br>GCAM 5.3|R_MAC_35_n8",
          "RUS<br>Primary biomass traded in 2030: 0.1<br>GCAM 5.3|R_MAC_40_n8",
          "RUS<br>Primary biomass traded in 2030: 0.1<br>GCAM 5.3|R_MAC_45_n8",
          "RUS<br>Primary biomass traded in 2030: 0.1<br>GCAM 5.3|R_MAC_50_n8",
          "RUS<br>Primary biomass traded in 2030: 0.0<br>GEM-E3_V2021|EN_NPi2020_500",
          "RUS<br>Primary biomass traded in 2030: 0.1<br>GEM-E3_V2021|EN_NPi2020_600_COV",
          "RUS<br>Primary biomass traded in 2030: -0.0<br>IMAGE 3.2|SSP1_SPA1_19I_D_LB",
          "RUS<br>Primary biomass traded in 2030: nan<br>IMAGE 3.2|SSP1_SPA1_19I_LIRE_LB",
          "RUS<br>Primary biomass traded in 2030: nan<br>IMAGE 3.2|SSP1_SPA1_19I_RE_LB",
          "RUS<br>Primary biomass traded in 2030: nan<br>IMAGE 3.2|SSP2_SPA1_19I_D_LB",
          "RUS<br>Primary biomass traded in 2030: nan<br>IMAGE 3.2|SSP2_SPA1_19I_LIRE_LB",
          "RUS<br>Primary biomass traded in 2030: nan<br>IMAGE 3.2|SSP2_SPA1_19I_RE_LB",
          "RUS<br>Primary biomass traded in 2030: nan<br>IMAGE 3.2|SSP2_SPA2_19I_LI",
          "RUS<br>Primary biomass traded in 2030: nan<br>MESSAGE-GLOBIOM 1.0|ADVANCE_2020_1.5C-2100",
          "RUS<br>Primary biomass traded in 2030: nan<br>MESSAGE-GLOBIOM 1.0|EMF33_1.5C_cost100",
          "RUS<br>Primary biomass traded in 2030: nan<br>MESSAGE-GLOBIOM 1.0|EMF33_1.5C_full",
          "RUS<br>Primary biomass traded in 2030: nan<br>MESSAGE-GLOBIOM 1.0|SSP2-19",
          "RUS<br>Primary biomass traded in 2030: nan<br>MESSAGEix-GLOBIOM 1.0|CD-LINKS_NPi2020_400",
          "RUS<br>Primary biomass traded in 2030: nan<br>MESSAGEix-GLOBIOM 1.0|LowEnergyDemand_1.3_IPCC",
          "RUS<br>Primary biomass traded in 2030: nan<br>MESSAGEix-GLOBIOM_1.1|EN_NPi2020_450",
          "RUS<br>Primary biomass traded in 2030: nan<br>MESSAGEix-GLOBIOM_1.1|EN_NPi2020_500",
          "RUS<br>Primary biomass traded in 2030: 0.4<br>MESSAGEix-GLOBIOM_1.1|NGFS2_Divergent Net Zero Policies",
          "RUS<br>Primary biomass traded in 2030: 0.3<br>MESSAGEix-GLOBIOM_1.1|NGFS2_Net-Zero 2050",
          "RUS<br>Primary biomass traded in 2030: 0.3<br>MESSAGEix-GLOBIOM_1.1|EN_NPi2020_600_COV",
          "RUS<br>Primary biomass traded in 2030: 0.3<br>MESSAGEix-GLOBIOM_1.1|EN_NPi2020_600_DR4p",
          "RUS<br>Primary biomass traded in 2030: 0.2<br>MESSAGEix-GLOBIOM_1.1|EN_NPi2020_600_DR3p",
          "RUS<br>Primary biomass traded in 2030: 0.2<br>MESSAGEix-GLOBIOM_1.1|EN_NPi2020_600_DR2p",
          "RUS<br>Primary biomass traded in 2030: 0.3<br>MESSAGEix-GLOBIOM_1.1|EN_NPi2020_600_DR1p",
          "RUS<br>Primary biomass traded in 2030: 0.6<br>MESSAGEix-GLOBIOM_1.2|COV_GreenPush_550",
          "RUS<br>Primary biomass traded in 2030: 0.1<br>MESSAGEix-GLOBIOM_1.2|COV_NoPolicyNoCOVID_550",
          "RUS<br>Primary biomass traded in 2030: nan<br>MESSAGEix-GLOBIOM_1.2|COV_Restore_550",
          "RUS<br>Primary biomass traded in 2030: 0.1<br>MESSAGEix-GLOBIOM_1.2|COV_SelfReliance_550",
          "RUS<br>Primary biomass traded in 2030: -0.8<br>MESSAGEix-GLOBIOM_1.2|COV_SmartUse_550",
          "RUS<br>Primary biomass traded in 2030: -0.0<br>POLES ADVANCE|ADVANCE_2020_1.5C-2100",
          "RUS<br>Primary biomass traded in 2030: 0.3<br>POLES EMF33|EMF33_WB2C_cost100",
          "RUS<br>Primary biomass traded in 2030: 0.3<br>POLES EMF33|EMF33_WB2C_full",
          "RUS<br>Primary biomass traded in 2030: 0.3<br>POLES EMF33|EMF33_WB2C_nofuel",
          "RUS<br>Primary biomass traded in 2030: 0.4<br>REMIND 1.7|ADVANCE_2020_1.5C-2100",
          "RUS<br>Primary biomass traded in 2030: 0.4<br>REMIND 1.7|CEMICS-1.5-CDR12",
          "RUS<br>Primary biomass traded in 2030: 0.4<br>REMIND 1.7|CEMICS-1.5-CDR20",
          "RUS<br>Primary biomass traded in 2030: 1.0<br>REMIND 1.7|CEMICS-1.5-CDR8",
          "RUS<br>Primary biomass traded in 2030: 0.3<br>REMIND 1.7|CEMICS-2.0-CDR8",
          "RUS<br>Primary biomass traded in 2030: 0.6<br>REMIND 2.1|CEMICS_GDPgrowth_1p5",
          "RUS<br>Primary biomass traded in 2030: 0.4<br>REMIND 2.1|CEMICS_HotellingConst_1p5",
          "RUS<br>Primary biomass traded in 2030: 0.3<br>REMIND 2.1|CEMICS_Linear_1p5",
          "RUS<br>Primary biomass traded in 2030: 0.3<br>REMIND 2.1|CEMICS_opt_1p5",
          "RUS<br>Primary biomass traded in 2030: 0.2<br>REMIND 2.1|LeastTotalCost_LTC_brkLR15_SSP1_P50",
          "RUS<br>Primary biomass traded in 2030: 0.5<br>REMIND 2.1|R2p1_SSP1-PkBudg900",
          "RUS<br>Primary biomass traded in 2030: 0.4<br>REMIND 2.1|R2p1_SSP2-PkBudg900",
          "RUS<br>Primary biomass traded in 2030: 0.4<br>REMIND 2.1|R2p1_SSP5-PkBudg900",
          "RUS<br>Primary biomass traded in 2030: 0.2<br>REMIND-MAgPIE 1.5|SSP2-19",
          "RUS<br>Primary biomass traded in 2030: 0.3<br>REMIND-MAgPIE 1.7-3.0|CD-LINKS_NPi2020_400",
          "RUS<br>Primary biomass traded in 2030: 0.4<br>REMIND-MAgPIE 1.7-3.0|EMF33_1.5C_nofuel",
          "RUS<br>Primary biomass traded in 2030: 0.2<br>REMIND-MAgPIE 1.7-3.0|PEP_1p5C_full_eff",
          "RUS<br>Primary biomass traded in 2030: 0.3<br>REMIND-MAgPIE 1.7-3.0|PEP_1p5C_red_eff",
          "RUS<br>Primary biomass traded in 2030: nan<br>REMIND-MAgPIE 1.7-3.0|PEP_2C_red_eff",
          "RUS<br>Primary biomass traded in 2030: nan<br>REMIND-MAgPIE 1.7-3.0|SMP_2C_lifesty",
          "RUS<br>Primary biomass traded in 2030: nan<br>REMIND-MAgPIE 2.1-4.2|CEMICS_SSP1-1p5C-fullCDR",
          "RUS<br>Primary biomass traded in 2030: nan<br>REMIND-MAgPIE 2.1-4.2|CEMICS_SSP1-1p5C-minCDR",
          "RUS<br>Primary biomass traded in 2030: nan<br>REMIND-MAgPIE 2.1-4.2|CEMICS_SSP2-1p5C-fullCDR"
         ],
         "type": "box",
         "whiskerwidth": 0.2,
         "xaxis": "x4",
         "y": [
          -0.0026,
          -0.0026,
          0,
          null,
          null,
          null,
          null,
          null,
          null,
          null,
          0.1361399993896484,
          0.0779383010864257,
          0.1338493041992188,
          0.0981863021850586,
          0.0437297897338867,
          0.0903869476318359,
          -0.0042634878158569,
          null,
          null,
          null,
          null,
          null,
          null,
          null,
          null,
          null,
          null,
          null,
          null,
          null,
          null,
          0.3933,
          0.2908,
          0.3253,
          0.2709,
          0.2113,
          0.2391,
          0.3344,
          0.5768,
          0.146,
          null,
          0.1264,
          -0.7973,
          -0.0059,
          0.2541,
          0.3285,
          0.328,
          0.4166,
          0.3639,
          0.3551,
          0.9842,
          0.3405,
          0.5521,
          0.4089,
          0.3141,
          0.2552,
          0.2344,
          0.4758,
          0.4183,
          0.436,
          0.2161,
          0.2525,
          0.3844,
          0.2315,
          0.2785,
          null,
          null,
          null,
          null,
          null
         ],
         "yaxis": "y4"
        },
        {
         "boxpoints": "all",
         "fillcolor": "brown",
         "hovertemplate": "%{text}",
         "jitter": 0.5,
         "line": {
          "color": "black",
          "width": 0.5
         },
         "marker": {
          "color": "black",
          "size": 3
         },
         "name": "EU",
         "pointpos": -1.8,
         "showlegend": false,
         "text": [
          "EU<br>GHG emission reduction in 2030: 0.3<br>AIM/CGE 2.1|CD-LINKS_NPi2020_400",
          "EU<br>GHG emission reduction in 2030: 0.3<br>AIM/CGE 2.2|EN_NPi2020_300f",
          "EU<br>GHG emission reduction in 2030: nan<br>AIM/CGE 2.2|EN_NPi2020_600",
          "EU<br>GHG emission reduction in 2030: 1.0<br>AIM/Hub-Global 2.0|1.5C",
          "EU<br>GHG emission reduction in 2030: 0.7<br>C-ROADS-5.005|Ratchet-1.5-limCDR-noOS",
          "EU<br>GHG emission reduction in 2030: 0.5<br>C-ROADS-5.005|Ratchet-1.5-noCDR",
          "EU<br>GHG emission reduction in 2030: 0.4<br>C-ROADS-5.005|Ratchet-1.5-noCDR-noOS",
          "EU<br>GHG emission reduction in 2030: 0.3<br>COFFEE 1.1|EN_NPi2020_400",
          "EU<br>GHG emission reduction in 2030: 0.4<br>GCAM 4.2|SSP1-19",
          "EU<br>GHG emission reduction in 2030: 0.3<br>GCAM 5.3|R_MAC_30_n0",
          "EU<br>GHG emission reduction in 2030: 0.4<br>GCAM 5.3|R_MAC_35_n8",
          "EU<br>GHG emission reduction in 2030: 0.5<br>GCAM 5.3|R_MAC_40_n8",
          "EU<br>GHG emission reduction in 2030: 0.4<br>GCAM 5.3|R_MAC_45_n8",
          "EU<br>GHG emission reduction in 2030: 0.4<br>GCAM 5.3|R_MAC_50_n8",
          "EU<br>GHG emission reduction in 2030: 0.4<br>GEM-E3_V2021|EN_NPi2020_500",
          "EU<br>GHG emission reduction in 2030: 0.4<br>GEM-E3_V2021|EN_NPi2020_600_COV",
          "EU<br>GHG emission reduction in 2030: 0.2<br>IMAGE 3.2|SSP1_SPA1_19I_D_LB",
          "EU<br>GHG emission reduction in 2030: nan<br>IMAGE 3.2|SSP1_SPA1_19I_LIRE_LB",
          "EU<br>GHG emission reduction in 2030: nan<br>IMAGE 3.2|SSP1_SPA1_19I_RE_LB",
          "EU<br>GHG emission reduction in 2030: nan<br>IMAGE 3.2|SSP2_SPA1_19I_D_LB",
          "EU<br>GHG emission reduction in 2030: nan<br>IMAGE 3.2|SSP2_SPA1_19I_LIRE_LB",
          "EU<br>GHG emission reduction in 2030: nan<br>IMAGE 3.2|SSP2_SPA1_19I_RE_LB",
          "EU<br>GHG emission reduction in 2030: nan<br>IMAGE 3.2|SSP2_SPA2_19I_LI",
          "EU<br>GHG emission reduction in 2030: nan<br>MESSAGE-GLOBIOM 1.0|ADVANCE_2020_1.5C-2100",
          "EU<br>GHG emission reduction in 2030: nan<br>MESSAGE-GLOBIOM 1.0|EMF33_1.5C_cost100",
          "EU<br>GHG emission reduction in 2030: nan<br>MESSAGE-GLOBIOM 1.0|EMF33_1.5C_full",
          "EU<br>GHG emission reduction in 2030: nan<br>MESSAGE-GLOBIOM 1.0|SSP2-19",
          "EU<br>GHG emission reduction in 2030: nan<br>MESSAGEix-GLOBIOM 1.0|CD-LINKS_NPi2020_400",
          "EU<br>GHG emission reduction in 2030: nan<br>MESSAGEix-GLOBIOM 1.0|LowEnergyDemand_1.3_IPCC",
          "EU<br>GHG emission reduction in 2030: nan<br>MESSAGEix-GLOBIOM_1.1|EN_NPi2020_450",
          "EU<br>GHG emission reduction in 2030: nan<br>MESSAGEix-GLOBIOM_1.1|EN_NPi2020_500",
          "EU<br>GHG emission reduction in 2030: 0.4<br>MESSAGEix-GLOBIOM_1.1|NGFS2_Divergent Net Zero Policies",
          "EU<br>GHG emission reduction in 2030: 0.4<br>MESSAGEix-GLOBIOM_1.1|NGFS2_Net-Zero 2050",
          "EU<br>GHG emission reduction in 2030: 0.4<br>MESSAGEix-GLOBIOM_1.1|EN_NPi2020_600_COV",
          "EU<br>GHG emission reduction in 2030: 0.4<br>MESSAGEix-GLOBIOM_1.1|EN_NPi2020_600_DR4p",
          "EU<br>GHG emission reduction in 2030: 0.4<br>MESSAGEix-GLOBIOM_1.1|EN_NPi2020_600_DR3p",
          "EU<br>GHG emission reduction in 2030: 0.5<br>MESSAGEix-GLOBIOM_1.1|EN_NPi2020_600_DR2p",
          "EU<br>GHG emission reduction in 2030: 0.5<br>MESSAGEix-GLOBIOM_1.1|EN_NPi2020_600_DR1p",
          "EU<br>GHG emission reduction in 2030: 0.5<br>MESSAGEix-GLOBIOM_1.2|COV_GreenPush_550",
          "EU<br>GHG emission reduction in 2030: 0.3<br>MESSAGEix-GLOBIOM_1.2|COV_NoPolicyNoCOVID_550",
          "EU<br>GHG emission reduction in 2030: nan<br>MESSAGEix-GLOBIOM_1.2|COV_Restore_550",
          "EU<br>GHG emission reduction in 2030: 0.3<br>MESSAGEix-GLOBIOM_1.2|COV_SelfReliance_550",
          "EU<br>GHG emission reduction in 2030: 0.5<br>MESSAGEix-GLOBIOM_1.2|COV_SmartUse_550",
          "EU<br>GHG emission reduction in 2030: 0.3<br>POLES ADVANCE|ADVANCE_2020_1.5C-2100",
          "EU<br>GHG emission reduction in 2030: 0.4<br>POLES EMF33|EMF33_WB2C_cost100",
          "EU<br>GHG emission reduction in 2030: 0.5<br>POLES EMF33|EMF33_WB2C_full",
          "EU<br>GHG emission reduction in 2030: 0.4<br>POLES EMF33|EMF33_WB2C_nofuel",
          "EU<br>GHG emission reduction in 2030: 0.5<br>REMIND 1.7|ADVANCE_2020_1.5C-2100",
          "EU<br>GHG emission reduction in 2030: 0.4<br>REMIND 1.7|CEMICS-1.5-CDR12",
          "EU<br>GHG emission reduction in 2030: 0.4<br>REMIND 1.7|CEMICS-1.5-CDR20",
          "EU<br>GHG emission reduction in 2030: 0.6<br>REMIND 1.7|CEMICS-1.5-CDR8",
          "EU<br>GHG emission reduction in 2030: 0.4<br>REMIND 1.7|CEMICS-2.0-CDR8",
          "EU<br>GHG emission reduction in 2030: 0.5<br>REMIND 2.1|CEMICS_GDPgrowth_1p5",
          "EU<br>GHG emission reduction in 2030: 0.4<br>REMIND 2.1|CEMICS_HotellingConst_1p5",
          "EU<br>GHG emission reduction in 2030: 0.4<br>REMIND 2.1|CEMICS_Linear_1p5",
          "EU<br>GHG emission reduction in 2030: 0.4<br>REMIND 2.1|CEMICS_opt_1p5",
          "EU<br>GHG emission reduction in 2030: 0.5<br>REMIND 2.1|LeastTotalCost_LTC_brkLR15_SSP1_P50",
          "EU<br>GHG emission reduction in 2030: 0.5<br>REMIND 2.1|R2p1_SSP1-PkBudg900",
          "EU<br>GHG emission reduction in 2030: 0.5<br>REMIND 2.1|R2p1_SSP2-PkBudg900",
          "EU<br>GHG emission reduction in 2030: 0.5<br>REMIND 2.1|R2p1_SSP5-PkBudg900",
          "EU<br>GHG emission reduction in 2030: 0.5<br>REMIND-MAgPIE 1.5|SSP2-19",
          "EU<br>GHG emission reduction in 2030: 0.5<br>REMIND-MAgPIE 1.7-3.0|CD-LINKS_NPi2020_400",
          "EU<br>GHG emission reduction in 2030: 0.5<br>REMIND-MAgPIE 1.7-3.0|EMF33_1.5C_nofuel",
          "EU<br>GHG emission reduction in 2030: 0.6<br>REMIND-MAgPIE 1.7-3.0|PEP_1p5C_full_eff",
          "EU<br>GHG emission reduction in 2030: 0.6<br>REMIND-MAgPIE 1.7-3.0|PEP_1p5C_red_eff",
          "EU<br>GHG emission reduction in 2030: 0.6<br>REMIND-MAgPIE 1.7-3.0|PEP_2C_red_eff",
          "EU<br>GHG emission reduction in 2030: 0.7<br>REMIND-MAgPIE 1.7-3.0|SMP_2C_lifesty",
          "EU<br>GHG emission reduction in 2030: 0.5<br>REMIND-MAgPIE 2.1-4.2|CEMICS_SSP1-1p5C-fullCDR",
          "EU<br>GHG emission reduction in 2030: 0.7<br>REMIND-MAgPIE 2.1-4.2|CEMICS_SSP1-1p5C-minCDR",
          "EU<br>GHG emission reduction in 2030: 0.5<br>REMIND-MAgPIE 2.1-4.2|CEMICS_SSP2-1p5C-fullCDR"
         ],
         "type": "box",
         "whiskerwidth": 0.2,
         "xaxis": "x",
         "y": [
          0.34791276061364396,
          0.34791276061364396,
          null,
          0.9674918758349494,
          0.72199475007791,
          0.5140751985563613,
          0.41270750000764583,
          0.3467732720261415,
          0.44149618853816436,
          0.32464489888412057,
          0.42139411081761546,
          0.45733739020186936,
          0.421528003674073,
          0.3825155016237475,
          0.4344994144768523,
          0.3558319267701005,
          0.2124954493740756,
          null,
          null,
          null,
          null,
          null,
          null,
          null,
          null,
          null,
          null,
          null,
          null,
          null,
          null,
          0.3537216153913676,
          0.36206848999008856,
          0.37653914253925896,
          0.38650735355333304,
          0.3982215971995305,
          0.5104699909233165,
          0.47714126517134287,
          0.4520911797548415,
          0.3337775286105761,
          null,
          0.3253178972881798,
          0.5463222657541167,
          0.31937330096577193,
          0.42815666442579287,
          0.46568078236848043,
          0.419471358066908,
          0.49503860325933563,
          0.4181440076722762,
          0.4093695480083852,
          0.5563631821310985,
          0.39909787432379396,
          0.47617113275985623,
          0.4283304182570839,
          0.39963820695672714,
          0.3506164910803786,
          0.5445931464988201,
          0.538291133109619,
          0.5398891068947429,
          0.5431315479129593,
          0.5104224499893915,
          0.4981068905221365,
          0.46939667832403664,
          0.6045370578214221,
          0.5759493231276421,
          0.5607879748695658,
          0.7269442291506675,
          0.541526607473492,
          0.6912567733354881,
          0.5241189479763397
         ],
         "yaxis": "y"
        },
        {
         "marker": {
          "color": "brown",
          "colorscale": [
           [
            0,
            "rgb(158,1,66)"
           ],
           [
            0.1,
            "rgb(213,62,79)"
           ],
           [
            0.2,
            "rgb(244,109,67)"
           ],
           [
            0.3,
            "rgb(253,174,97)"
           ],
           [
            0.4,
            "rgb(254,224,139)"
           ],
           [
            0.5,
            "rgb(255,255,191)"
           ],
           [
            0.6,
            "rgb(230,245,152)"
           ],
           [
            0.7,
            "rgb(171,221,164)"
           ],
           [
            0.8,
            "rgb(102,194,165)"
           ],
           [
            0.9,
            "rgb(50,136,189)"
           ],
           [
            1,
            "rgb(94,79,162)"
           ]
          ],
          "line": {
           "color": "black",
           "width": 0.2
          },
          "size": 25,
          "symbol": "circle"
         },
         "mode": "markers+text",
         "showlegend": false,
         "text": "GF",
         "textfont": {
          "color": "black",
          "family": "Arial black",
          "size": 13
         },
         "type": "scatter",
         "x": [
          "EU"
         ],
         "xaxis": "x",
         "y": [
          0.43445744401595165
         ],
         "yaxis": "y"
        },
        {
         "marker": {
          "color": "brown",
          "colorscale": [
           [
            0,
            "rgb(158,1,66)"
           ],
           [
            0.1,
            "rgb(213,62,79)"
           ],
           [
            0.2,
            "rgb(244,109,67)"
           ],
           [
            0.3,
            "rgb(253,174,97)"
           ],
           [
            0.4,
            "rgb(254,224,139)"
           ],
           [
            0.5,
            "rgb(255,255,191)"
           ],
           [
            0.6,
            "rgb(230,245,152)"
           ],
           [
            0.7,
            "rgb(171,221,164)"
           ],
           [
            0.8,
            "rgb(102,194,165)"
           ],
           [
            0.9,
            "rgb(50,136,189)"
           ],
           [
            1,
            "rgb(94,79,162)"
           ]
          ],
          "line": {
           "color": "black",
           "width": 0.2
          },
          "size": 25,
          "symbol": "square"
         },
         "mode": "markers+text",
         "showlegend": false,
         "text": "PC",
         "textfont": {
          "color": "black",
          "family": "Arial black",
          "size": 13
         },
         "type": "scatter",
         "x": [
          "EU"
         ],
         "xaxis": "x",
         "y": [
          0.615851634836794
         ],
         "yaxis": "y"
        },
        {
         "marker": {
          "color": "brown",
          "colorscale": [
           [
            0,
            "rgb(158,1,66)"
           ],
           [
            0.1,
            "rgb(213,62,79)"
           ],
           [
            0.2,
            "rgb(244,109,67)"
           ],
           [
            0.3,
            "rgb(253,174,97)"
           ],
           [
            0.4,
            "rgb(254,224,139)"
           ],
           [
            0.5,
            "rgb(255,255,191)"
           ],
           [
            0.6,
            "rgb(230,245,152)"
           ],
           [
            0.7,
            "rgb(171,221,164)"
           ],
           [
            0.8,
            "rgb(102,194,165)"
           ],
           [
            0.9,
            "rgb(50,136,189)"
           ],
           [
            1,
            "rgb(94,79,162)"
           ]
          ],
          "line": {
           "color": "black",
           "width": 0.2
          },
          "size": 25,
          "symbol": "diamond"
         },
         "mode": "markers+text",
         "showlegend": false,
         "text": "PCC",
         "textfont": {
          "color": "black",
          "family": "Arial black",
          "size": 13
         },
         "type": "scatter",
         "x": [
          "EU"
         ],
         "xaxis": "x",
         "y": [
          0.5251545394263728
         ],
         "yaxis": "y"
        },
        {
         "marker": {
          "color": "brown",
          "colorscale": [
           [
            0,
            "rgb(158,1,66)"
           ],
           [
            0.1,
            "rgb(213,62,79)"
           ],
           [
            0.2,
            "rgb(244,109,67)"
           ],
           [
            0.3,
            "rgb(253,174,97)"
           ],
           [
            0.4,
            "rgb(254,224,139)"
           ],
           [
            0.5,
            "rgb(255,255,191)"
           ],
           [
            0.6,
            "rgb(230,245,152)"
           ],
           [
            0.7,
            "rgb(171,221,164)"
           ],
           [
            0.8,
            "rgb(102,194,165)"
           ],
           [
            0.9,
            "rgb(50,136,189)"
           ],
           [
            1,
            "rgb(94,79,162)"
           ]
          ],
          "line": {
           "color": "black",
           "width": 0.2
          },
          "size": 25,
          "symbol": "triangle-up"
         },
         "mode": "markers+text",
         "showlegend": false,
         "text": "NDC",
         "textfont": {
          "color": "black",
          "family": "Arial black",
          "size": 13
         },
         "type": "scatter",
         "x": [
          "EU"
         ],
         "xaxis": "x",
         "y": [
          0.31788629701156673
         ],
         "yaxis": "y"
        },
        {
         "boxpoints": "all",
         "fillcolor": "brown",
         "hovertemplate": "%{text}",
         "jitter": 0.5,
         "line": {
          "color": "black",
          "width": 0.5
         },
         "marker": {
          "color": "black",
          "size": 3
         },
         "name": "EU",
         "pointpos": -1.8,
         "showlegend": false,
         "text": [
          "EU<br>Policy costs in 2030: 550.4<br>AIM/CGE 2.1|CD-LINKS_NPi2020_400",
          "EU<br>Policy costs in 2030: 550.4<br>AIM/CGE 2.2|EN_NPi2020_300f",
          "EU<br>Policy costs in 2030: nan<br>AIM/CGE 2.2|EN_NPi2020_600",
          "EU<br>Policy costs in 2030: nan<br>AIM/Hub-Global 2.0|1.5C",
          "EU<br>Policy costs in 2030: nan<br>C-ROADS-5.005|Ratchet-1.5-limCDR-noOS",
          "EU<br>Policy costs in 2030: nan<br>C-ROADS-5.005|Ratchet-1.5-noCDR",
          "EU<br>Policy costs in 2030: nan<br>C-ROADS-5.005|Ratchet-1.5-noCDR-noOS",
          "EU<br>Policy costs in 2030: nan<br>COFFEE 1.1|EN_NPi2020_400",
          "EU<br>Policy costs in 2030: -22.6<br>GCAM 4.2|SSP1-19",
          "EU<br>Policy costs in 2030: -28.5<br>GCAM 5.3|R_MAC_30_n0",
          "EU<br>Policy costs in 2030: nan<br>GCAM 5.3|R_MAC_35_n8",
          "EU<br>Policy costs in 2030: nan<br>GCAM 5.3|R_MAC_40_n8",
          "EU<br>Policy costs in 2030: nan<br>GCAM 5.3|R_MAC_45_n8",
          "EU<br>Policy costs in 2030: nan<br>GCAM 5.3|R_MAC_50_n8",
          "EU<br>Policy costs in 2030: nan<br>GEM-E3_V2021|EN_NPi2020_500",
          "EU<br>Policy costs in 2030: nan<br>GEM-E3_V2021|EN_NPi2020_600_COV",
          "EU<br>Policy costs in 2030: nan<br>IMAGE 3.2|SSP1_SPA1_19I_D_LB",
          "EU<br>Policy costs in 2030: nan<br>IMAGE 3.2|SSP1_SPA1_19I_LIRE_LB",
          "EU<br>Policy costs in 2030: nan<br>IMAGE 3.2|SSP1_SPA1_19I_RE_LB",
          "EU<br>Policy costs in 2030: nan<br>IMAGE 3.2|SSP2_SPA1_19I_D_LB",
          "EU<br>Policy costs in 2030: nan<br>IMAGE 3.2|SSP2_SPA1_19I_LIRE_LB",
          "EU<br>Policy costs in 2030: nan<br>IMAGE 3.2|SSP2_SPA1_19I_RE_LB",
          "EU<br>Policy costs in 2030: nan<br>IMAGE 3.2|SSP2_SPA2_19I_LI",
          "EU<br>Policy costs in 2030: nan<br>MESSAGE-GLOBIOM 1.0|ADVANCE_2020_1.5C-2100",
          "EU<br>Policy costs in 2030: nan<br>MESSAGE-GLOBIOM 1.0|EMF33_1.5C_cost100",
          "EU<br>Policy costs in 2030: nan<br>MESSAGE-GLOBIOM 1.0|EMF33_1.5C_full",
          "EU<br>Policy costs in 2030: nan<br>MESSAGE-GLOBIOM 1.0|SSP2-19",
          "EU<br>Policy costs in 2030: nan<br>MESSAGEix-GLOBIOM 1.0|CD-LINKS_NPi2020_400",
          "EU<br>Policy costs in 2030: nan<br>MESSAGEix-GLOBIOM 1.0|LowEnergyDemand_1.3_IPCC",
          "EU<br>Policy costs in 2030: nan<br>MESSAGEix-GLOBIOM_1.1|EN_NPi2020_450",
          "EU<br>Policy costs in 2030: nan<br>MESSAGEix-GLOBIOM_1.1|EN_NPi2020_500",
          "EU<br>Policy costs in 2030: nan<br>MESSAGEix-GLOBIOM_1.1|NGFS2_Divergent Net Zero Policies",
          "EU<br>Policy costs in 2030: nan<br>MESSAGEix-GLOBIOM_1.1|NGFS2_Net-Zero 2050",
          "EU<br>Policy costs in 2030: nan<br>MESSAGEix-GLOBIOM_1.1|EN_NPi2020_600_COV",
          "EU<br>Policy costs in 2030: nan<br>MESSAGEix-GLOBIOM_1.1|EN_NPi2020_600_DR4p",
          "EU<br>Policy costs in 2030: nan<br>MESSAGEix-GLOBIOM_1.1|EN_NPi2020_600_DR3p",
          "EU<br>Policy costs in 2030: nan<br>MESSAGEix-GLOBIOM_1.1|EN_NPi2020_600_DR2p",
          "EU<br>Policy costs in 2030: nan<br>MESSAGEix-GLOBIOM_1.1|EN_NPi2020_600_DR1p",
          "EU<br>Policy costs in 2030: nan<br>MESSAGEix-GLOBIOM_1.2|COV_GreenPush_550",
          "EU<br>Policy costs in 2030: 47.5<br>MESSAGEix-GLOBIOM_1.2|COV_NoPolicyNoCOVID_550",
          "EU<br>Policy costs in 2030: nan<br>MESSAGEix-GLOBIOM_1.2|COV_Restore_550",
          "EU<br>Policy costs in 2030: -13.3<br>MESSAGEix-GLOBIOM_1.2|COV_SelfReliance_550",
          "EU<br>Policy costs in 2030: -169.4<br>MESSAGEix-GLOBIOM_1.2|COV_SmartUse_550",
          "EU<br>Policy costs in 2030: 1.2<br>POLES ADVANCE|ADVANCE_2020_1.5C-2100",
          "EU<br>Policy costs in 2030: nan<br>POLES EMF33|EMF33_WB2C_cost100",
          "EU<br>Policy costs in 2030: nan<br>POLES EMF33|EMF33_WB2C_full",
          "EU<br>Policy costs in 2030: nan<br>POLES EMF33|EMF33_WB2C_nofuel",
          "EU<br>Policy costs in 2030: nan<br>REMIND 1.7|ADVANCE_2020_1.5C-2100",
          "EU<br>Policy costs in 2030: nan<br>REMIND 1.7|CEMICS-1.5-CDR12",
          "EU<br>Policy costs in 2030: nan<br>REMIND 1.7|CEMICS-1.5-CDR20",
          "EU<br>Policy costs in 2030: nan<br>REMIND 1.7|CEMICS-1.5-CDR8",
          "EU<br>Policy costs in 2030: nan<br>REMIND 1.7|CEMICS-2.0-CDR8",
          "EU<br>Policy costs in 2030: nan<br>REMIND 2.1|CEMICS_GDPgrowth_1p5",
          "EU<br>Policy costs in 2030: nan<br>REMIND 2.1|CEMICS_HotellingConst_1p5",
          "EU<br>Policy costs in 2030: nan<br>REMIND 2.1|CEMICS_Linear_1p5",
          "EU<br>Policy costs in 2030: nan<br>REMIND 2.1|CEMICS_opt_1p5",
          "EU<br>Policy costs in 2030: nan<br>REMIND 2.1|LeastTotalCost_LTC_brkLR15_SSP1_P50",
          "EU<br>Policy costs in 2030: nan<br>REMIND 2.1|R2p1_SSP1-PkBudg900",
          "EU<br>Policy costs in 2030: nan<br>REMIND 2.1|R2p1_SSP2-PkBudg900",
          "EU<br>Policy costs in 2030: nan<br>REMIND 2.1|R2p1_SSP5-PkBudg900",
          "EU<br>Policy costs in 2030: nan<br>REMIND-MAgPIE 1.5|SSP2-19",
          "EU<br>Policy costs in 2030: nan<br>REMIND-MAgPIE 1.7-3.0|CD-LINKS_NPi2020_400",
          "EU<br>Policy costs in 2030: nan<br>REMIND-MAgPIE 1.7-3.0|EMF33_1.5C_nofuel",
          "EU<br>Policy costs in 2030: -316.7<br>REMIND-MAgPIE 1.7-3.0|PEP_1p5C_full_eff",
          "EU<br>Policy costs in 2030: -227.0<br>REMIND-MAgPIE 1.7-3.0|PEP_1p5C_red_eff",
          "EU<br>Policy costs in 2030: 195.3<br>REMIND-MAgPIE 1.7-3.0|PEP_2C_red_eff",
          "EU<br>Policy costs in 2030: 334.9<br>REMIND-MAgPIE 1.7-3.0|SMP_2C_lifesty",
          "EU<br>Policy costs in 2030: 177.8<br>REMIND-MAgPIE 2.1-4.2|CEMICS_SSP1-1p5C-fullCDR",
          "EU<br>Policy costs in 2030: 301.4<br>REMIND-MAgPIE 2.1-4.2|CEMICS_SSP1-1p5C-minCDR",
          "EU<br>Policy costs in 2030: 160.1<br>REMIND-MAgPIE 2.1-4.2|CEMICS_SSP2-1p5C-fullCDR"
         ],
         "type": "box",
         "whiskerwidth": 0.2,
         "xaxis": "x2",
         "y": [
          550.432,
          550.432,
          null,
          null,
          null,
          null,
          null,
          null,
          -22.639695190548217,
          -28.51393934222904,
          null,
          null,
          null,
          null,
          null,
          null,
          null,
          null,
          null,
          null,
          null,
          null,
          null,
          null,
          null,
          null,
          null,
          null,
          null,
          null,
          null,
          null,
          null,
          null,
          null,
          null,
          null,
          null,
          null,
          47.5277,
          null,
          -13.3215,
          -169.361499999999,
          1.2385000000013,
          null,
          null,
          null,
          null,
          null,
          null,
          null,
          null,
          null,
          null,
          null,
          null,
          null,
          null,
          null,
          null,
          null,
          null,
          null,
          -316.6671,
          -227.0289,
          195.275787632199,
          334.870731829049,
          177.755901083601,
          301.43143710349,
          160.055337664842
         ],
         "yaxis": "y2"
        },
        {
         "boxpoints": "all",
         "fillcolor": "brown",
         "hovertemplate": "%{text}",
         "jitter": 0.5,
         "line": {
          "color": "black",
          "width": 0.5
         },
         "marker": {
          "color": "black",
          "size": 3
         },
         "name": "EU",
         "pointpos": -1.8,
         "showlegend": false,
         "text": [
          "EU<br>CCS in 2030: 204.0<br>AIM/CGE 2.1|CD-LINKS_NPi2020_400",
          "EU<br>CCS in 2030: 204.0<br>AIM/CGE 2.2|EN_NPi2020_300f",
          "EU<br>CCS in 2030: nan<br>AIM/CGE 2.2|EN_NPi2020_600",
          "EU<br>CCS in 2030: 1927.5<br>AIM/Hub-Global 2.0|1.5C",
          "EU<br>CCS in 2030: 1315.0<br>C-ROADS-5.005|Ratchet-1.5-limCDR-noOS",
          "EU<br>CCS in 2030: 770.2<br>C-ROADS-5.005|Ratchet-1.5-noCDR",
          "EU<br>CCS in 2030: 561.5<br>C-ROADS-5.005|Ratchet-1.5-noCDR-noOS",
          "EU<br>CCS in 2030: 447.6<br>COFFEE 1.1|EN_NPi2020_400",
          "EU<br>CCS in 2030: 0.0<br>GCAM 4.2|SSP1-19",
          "EU<br>CCS in 2030: 0.0<br>GCAM 5.3|R_MAC_30_n0",
          "EU<br>CCS in 2030: 198.0<br>GCAM 5.3|R_MAC_35_n8",
          "EU<br>CCS in 2030: 135.5<br>GCAM 5.3|R_MAC_40_n8",
          "EU<br>CCS in 2030: 184.6<br>GCAM 5.3|R_MAC_45_n8",
          "EU<br>CCS in 2030: 265.8<br>GCAM 5.3|R_MAC_50_n8",
          "EU<br>CCS in 2030: 128.3<br>GEM-E3_V2021|EN_NPi2020_500",
          "EU<br>CCS in 2030: 144.6<br>GEM-E3_V2021|EN_NPi2020_600_COV",
          "EU<br>CCS in 2030: 22.8<br>IMAGE 3.2|SSP1_SPA1_19I_D_LB",
          "EU<br>CCS in 2030: nan<br>IMAGE 3.2|SSP1_SPA1_19I_LIRE_LB",
          "EU<br>CCS in 2030: nan<br>IMAGE 3.2|SSP1_SPA1_19I_RE_LB",
          "EU<br>CCS in 2030: nan<br>IMAGE 3.2|SSP2_SPA1_19I_D_LB",
          "EU<br>CCS in 2030: nan<br>IMAGE 3.2|SSP2_SPA1_19I_LIRE_LB",
          "EU<br>CCS in 2030: nan<br>IMAGE 3.2|SSP2_SPA1_19I_RE_LB",
          "EU<br>CCS in 2030: nan<br>IMAGE 3.2|SSP2_SPA2_19I_LI",
          "EU<br>CCS in 2030: nan<br>MESSAGE-GLOBIOM 1.0|ADVANCE_2020_1.5C-2100",
          "EU<br>CCS in 2030: nan<br>MESSAGE-GLOBIOM 1.0|EMF33_1.5C_cost100",
          "EU<br>CCS in 2030: nan<br>MESSAGE-GLOBIOM 1.0|EMF33_1.5C_full",
          "EU<br>CCS in 2030: nan<br>MESSAGE-GLOBIOM 1.0|SSP2-19",
          "EU<br>CCS in 2030: nan<br>MESSAGEix-GLOBIOM 1.0|CD-LINKS_NPi2020_400",
          "EU<br>CCS in 2030: nan<br>MESSAGEix-GLOBIOM 1.0|LowEnergyDemand_1.3_IPCC",
          "EU<br>CCS in 2030: nan<br>MESSAGEix-GLOBIOM_1.1|EN_NPi2020_450",
          "EU<br>CCS in 2030: nan<br>MESSAGEix-GLOBIOM_1.1|EN_NPi2020_500",
          "EU<br>CCS in 2030: 131.7<br>MESSAGEix-GLOBIOM_1.1|NGFS2_Divergent Net Zero Policies",
          "EU<br>CCS in 2030: 146.9<br>MESSAGEix-GLOBIOM_1.1|NGFS2_Net-Zero 2050",
          "EU<br>CCS in 2030: 159.6<br>MESSAGEix-GLOBIOM_1.1|EN_NPi2020_600_COV",
          "EU<br>CCS in 2030: 172.9<br>MESSAGEix-GLOBIOM_1.1|EN_NPi2020_600_DR4p",
          "EU<br>CCS in 2030: 128.0<br>MESSAGEix-GLOBIOM_1.1|EN_NPi2020_600_DR3p",
          "EU<br>CCS in 2030: 127.9<br>MESSAGEix-GLOBIOM_1.1|EN_NPi2020_600_DR2p",
          "EU<br>CCS in 2030: 184.9<br>MESSAGEix-GLOBIOM_1.1|EN_NPi2020_600_DR1p",
          "EU<br>CCS in 2030: 323.5<br>MESSAGEix-GLOBIOM_1.2|COV_GreenPush_550",
          "EU<br>CCS in 2030: 105.4<br>MESSAGEix-GLOBIOM_1.2|COV_NoPolicyNoCOVID_550",
          "EU<br>CCS in 2030: nan<br>MESSAGEix-GLOBIOM_1.2|COV_Restore_550",
          "EU<br>CCS in 2030: 41.8<br>MESSAGEix-GLOBIOM_1.2|COV_SelfReliance_550",
          "EU<br>CCS in 2030: 229.8<br>MESSAGEix-GLOBIOM_1.2|COV_SmartUse_550",
          "EU<br>CCS in 2030: 32.8<br>POLES ADVANCE|ADVANCE_2020_1.5C-2100",
          "EU<br>CCS in 2030: 117.6<br>POLES EMF33|EMF33_WB2C_cost100",
          "EU<br>CCS in 2030: 90.6<br>POLES EMF33|EMF33_WB2C_full",
          "EU<br>CCS in 2030: 172.0<br>POLES EMF33|EMF33_WB2C_nofuel",
          "EU<br>CCS in 2030: 89.6<br>REMIND 1.7|ADVANCE_2020_1.5C-2100",
          "EU<br>CCS in 2030: 130.1<br>REMIND 1.7|CEMICS-1.5-CDR12",
          "EU<br>CCS in 2030: 124.4<br>REMIND 1.7|CEMICS-1.5-CDR20",
          "EU<br>CCS in 2030: 259.5<br>REMIND 1.7|CEMICS-1.5-CDR8",
          "EU<br>CCS in 2030: 115.9<br>REMIND 1.7|CEMICS-2.0-CDR8",
          "EU<br>CCS in 2030: 178.1<br>REMIND 2.1|CEMICS_GDPgrowth_1p5",
          "EU<br>CCS in 2030: 136.7<br>REMIND 2.1|CEMICS_HotellingConst_1p5",
          "EU<br>CCS in 2030: 116.3<br>REMIND 2.1|CEMICS_Linear_1p5",
          "EU<br>CCS in 2030: 55.3<br>REMIND 2.1|CEMICS_opt_1p5",
          "EU<br>CCS in 2030: 160.8<br>REMIND 2.1|LeastTotalCost_LTC_brkLR15_SSP1_P50",
          "EU<br>CCS in 2030: 230.4<br>REMIND 2.1|R2p1_SSP1-PkBudg900",
          "EU<br>CCS in 2030: 230.4<br>REMIND 2.1|R2p1_SSP2-PkBudg900",
          "EU<br>CCS in 2030: 233.6<br>REMIND 2.1|R2p1_SSP5-PkBudg900",
          "EU<br>CCS in 2030: 77.8<br>REMIND-MAgPIE 1.5|SSP2-19",
          "EU<br>CCS in 2030: 124.4<br>REMIND-MAgPIE 1.7-3.0|CD-LINKS_NPi2020_400",
          "EU<br>CCS in 2030: 181.6<br>REMIND-MAgPIE 1.7-3.0|EMF33_1.5C_nofuel",
          "EU<br>CCS in 2030: 77.8<br>REMIND-MAgPIE 1.7-3.0|PEP_1p5C_full_eff",
          "EU<br>CCS in 2030: 205.5<br>REMIND-MAgPIE 1.7-3.0|PEP_1p5C_red_eff",
          "EU<br>CCS in 2030: 58.8<br>REMIND-MAgPIE 1.7-3.0|PEP_2C_red_eff",
          "EU<br>CCS in 2030: 61.1<br>REMIND-MAgPIE 1.7-3.0|SMP_2C_lifesty",
          "EU<br>CCS in 2030: 58.8<br>REMIND-MAgPIE 2.1-4.2|CEMICS_SSP1-1p5C-fullCDR",
          "EU<br>CCS in 2030: 60.3<br>REMIND-MAgPIE 2.1-4.2|CEMICS_SSP1-1p5C-minCDR",
          "EU<br>CCS in 2030: 58.8<br>REMIND-MAgPIE 2.1-4.2|CEMICS_SSP2-1p5C-fullCDR"
         ],
         "type": "box",
         "whiskerwidth": 0.2,
         "xaxis": "x3",
         "y": [
          203.9552,
          203.9552,
          null,
          1927.534308195865,
          1314.973075212992,
          770.1628767683819,
          561.528939041414,
          447.590731673396,
          0.006489262562085,
          0.0061631861678224,
          198.03644193094584,
          135.47947566519298,
          184.625194861341,
          265.76596156025045,
          128.29628704350756,
          144.64719363464457,
          22.805713856492936,
          null,
          null,
          null,
          null,
          null,
          null,
          null,
          null,
          null,
          null,
          null,
          null,
          null,
          null,
          131.7048,
          146.8534,
          159.5962,
          172.9477,
          127.9804,
          127.9201,
          184.9337,
          323.5217,
          105.4097,
          null,
          41.8254,
          229.8108,
          32.8434,
          117.5621,
          90.5882,
          171.9542,
          89.5571,
          130.1387,
          124.3592,
          259.5398,
          115.9464,
          178.144,
          136.724,
          116.2596,
          55.321,
          160.7866,
          230.4294,
          230.3806,
          233.5759,
          77.7526,
          124.4338,
          181.6297,
          77.8261,
          205.5382,
          58.8236766010167,
          61.1376185118898,
          58.8236766010167,
          60.3348973755629,
          58.8236766010167
         ],
         "yaxis": "y3"
        },
        {
         "boxpoints": "all",
         "fillcolor": "brown",
         "hovertemplate": "%{text}",
         "jitter": 0.5,
         "line": {
          "color": "black",
          "width": 0.5
         },
         "marker": {
          "color": "black",
          "size": 3
         },
         "name": "EU",
         "pointpos": -1.8,
         "showlegend": false,
         "text": [
          "EU<br>Primary biomass traded in 2030: -0.0<br>AIM/CGE 2.1|CD-LINKS_NPi2020_400",
          "EU<br>Primary biomass traded in 2030: -0.0<br>AIM/CGE 2.2|EN_NPi2020_300f",
          "EU<br>Primary biomass traded in 2030: nan<br>AIM/CGE 2.2|EN_NPi2020_600",
          "EU<br>Primary biomass traded in 2030: nan<br>AIM/Hub-Global 2.0|1.5C",
          "EU<br>Primary biomass traded in 2030: nan<br>C-ROADS-5.005|Ratchet-1.5-limCDR-noOS",
          "EU<br>Primary biomass traded in 2030: nan<br>C-ROADS-5.005|Ratchet-1.5-noCDR",
          "EU<br>Primary biomass traded in 2030: nan<br>C-ROADS-5.005|Ratchet-1.5-noCDR-noOS",
          "EU<br>Primary biomass traded in 2030: nan<br>COFFEE 1.1|EN_NPi2020_400",
          "EU<br>Primary biomass traded in 2030: nan<br>GCAM 4.2|SSP1-19",
          "EU<br>Primary biomass traded in 2030: nan<br>GCAM 5.3|R_MAC_30_n0",
          "EU<br>Primary biomass traded in 2030: -1.6<br>GCAM 5.3|R_MAC_35_n8",
          "EU<br>Primary biomass traded in 2030: -1.7<br>GCAM 5.3|R_MAC_40_n8",
          "EU<br>Primary biomass traded in 2030: -1.6<br>GCAM 5.3|R_MAC_45_n8",
          "EU<br>Primary biomass traded in 2030: -2.3<br>GCAM 5.3|R_MAC_50_n8",
          "EU<br>Primary biomass traded in 2030: -1.9<br>GEM-E3_V2021|EN_NPi2020_500",
          "EU<br>Primary biomass traded in 2030: -1.9<br>GEM-E3_V2021|EN_NPi2020_600_COV",
          "EU<br>Primary biomass traded in 2030: -1.5<br>IMAGE 3.2|SSP1_SPA1_19I_D_LB",
          "EU<br>Primary biomass traded in 2030: nan<br>IMAGE 3.2|SSP1_SPA1_19I_LIRE_LB",
          "EU<br>Primary biomass traded in 2030: nan<br>IMAGE 3.2|SSP1_SPA1_19I_RE_LB",
          "EU<br>Primary biomass traded in 2030: nan<br>IMAGE 3.2|SSP2_SPA1_19I_D_LB",
          "EU<br>Primary biomass traded in 2030: nan<br>IMAGE 3.2|SSP2_SPA1_19I_LIRE_LB",
          "EU<br>Primary biomass traded in 2030: nan<br>IMAGE 3.2|SSP2_SPA1_19I_RE_LB",
          "EU<br>Primary biomass traded in 2030: nan<br>IMAGE 3.2|SSP2_SPA2_19I_LI",
          "EU<br>Primary biomass traded in 2030: nan<br>MESSAGE-GLOBIOM 1.0|ADVANCE_2020_1.5C-2100",
          "EU<br>Primary biomass traded in 2030: nan<br>MESSAGE-GLOBIOM 1.0|EMF33_1.5C_cost100",
          "EU<br>Primary biomass traded in 2030: nan<br>MESSAGE-GLOBIOM 1.0|EMF33_1.5C_full",
          "EU<br>Primary biomass traded in 2030: nan<br>MESSAGE-GLOBIOM 1.0|SSP2-19",
          "EU<br>Primary biomass traded in 2030: nan<br>MESSAGEix-GLOBIOM 1.0|CD-LINKS_NPi2020_400",
          "EU<br>Primary biomass traded in 2030: nan<br>MESSAGEix-GLOBIOM 1.0|LowEnergyDemand_1.3_IPCC",
          "EU<br>Primary biomass traded in 2030: nan<br>MESSAGEix-GLOBIOM_1.1|EN_NPi2020_450",
          "EU<br>Primary biomass traded in 2030: nan<br>MESSAGEix-GLOBIOM_1.1|EN_NPi2020_500",
          "EU<br>Primary biomass traded in 2030: 0.7<br>MESSAGEix-GLOBIOM_1.1|NGFS2_Divergent Net Zero Policies",
          "EU<br>Primary biomass traded in 2030: 0.4<br>MESSAGEix-GLOBIOM_1.1|NGFS2_Net-Zero 2050",
          "EU<br>Primary biomass traded in 2030: 0.4<br>MESSAGEix-GLOBIOM_1.1|EN_NPi2020_600_COV",
          "EU<br>Primary biomass traded in 2030: 0.3<br>MESSAGEix-GLOBIOM_1.1|EN_NPi2020_600_DR4p",
          "EU<br>Primary biomass traded in 2030: 0.4<br>MESSAGEix-GLOBIOM_1.1|EN_NPi2020_600_DR3p",
          "EU<br>Primary biomass traded in 2030: 0.3<br>MESSAGEix-GLOBIOM_1.1|EN_NPi2020_600_DR2p",
          "EU<br>Primary biomass traded in 2030: 0.3<br>MESSAGEix-GLOBIOM_1.1|EN_NPi2020_600_DR1p",
          "EU<br>Primary biomass traded in 2030: 0.3<br>MESSAGEix-GLOBIOM_1.2|COV_GreenPush_550",
          "EU<br>Primary biomass traded in 2030: -1.9<br>MESSAGEix-GLOBIOM_1.2|COV_NoPolicyNoCOVID_550",
          "EU<br>Primary biomass traded in 2030: nan<br>MESSAGEix-GLOBIOM_1.2|COV_Restore_550",
          "EU<br>Primary biomass traded in 2030: -2.1<br>MESSAGEix-GLOBIOM_1.2|COV_SelfReliance_550",
          "EU<br>Primary biomass traded in 2030: -2.8<br>MESSAGEix-GLOBIOM_1.2|COV_SmartUse_550",
          "EU<br>Primary biomass traded in 2030: -2.3<br>POLES ADVANCE|ADVANCE_2020_1.5C-2100",
          "EU<br>Primary biomass traded in 2030: 0.2<br>POLES EMF33|EMF33_WB2C_cost100",
          "EU<br>Primary biomass traded in 2030: 0.2<br>POLES EMF33|EMF33_WB2C_full",
          "EU<br>Primary biomass traded in 2030: 0.3<br>POLES EMF33|EMF33_WB2C_nofuel",
          "EU<br>Primary biomass traded in 2030: 0.3<br>REMIND 1.7|ADVANCE_2020_1.5C-2100",
          "EU<br>Primary biomass traded in 2030: 0.3<br>REMIND 1.7|CEMICS-1.5-CDR12",
          "EU<br>Primary biomass traded in 2030: 0.3<br>REMIND 1.7|CEMICS-1.5-CDR20",
          "EU<br>Primary biomass traded in 2030: 0.4<br>REMIND 1.7|CEMICS-1.5-CDR8",
          "EU<br>Primary biomass traded in 2030: 0.3<br>REMIND 1.7|CEMICS-2.0-CDR8",
          "EU<br>Primary biomass traded in 2030: 0.3<br>REMIND 2.1|CEMICS_GDPgrowth_1p5",
          "EU<br>Primary biomass traded in 2030: 0.3<br>REMIND 2.1|CEMICS_HotellingConst_1p5",
          "EU<br>Primary biomass traded in 2030: 0.3<br>REMIND 2.1|CEMICS_Linear_1p5",
          "EU<br>Primary biomass traded in 2030: 0.2<br>REMIND 2.1|CEMICS_opt_1p5",
          "EU<br>Primary biomass traded in 2030: 0.3<br>REMIND 2.1|LeastTotalCost_LTC_brkLR15_SSP1_P50",
          "EU<br>Primary biomass traded in 2030: 0.2<br>REMIND 2.1|R2p1_SSP1-PkBudg900",
          "EU<br>Primary biomass traded in 2030: 0.2<br>REMIND 2.1|R2p1_SSP2-PkBudg900",
          "EU<br>Primary biomass traded in 2030: 0.2<br>REMIND 2.1|R2p1_SSP5-PkBudg900",
          "EU<br>Primary biomass traded in 2030: 0.3<br>REMIND-MAgPIE 1.5|SSP2-19",
          "EU<br>Primary biomass traded in 2030: 0.2<br>REMIND-MAgPIE 1.7-3.0|CD-LINKS_NPi2020_400",
          "EU<br>Primary biomass traded in 2030: 0.3<br>REMIND-MAgPIE 1.7-3.0|EMF33_1.5C_nofuel",
          "EU<br>Primary biomass traded in 2030: 0.2<br>REMIND-MAgPIE 1.7-3.0|PEP_1p5C_full_eff",
          "EU<br>Primary biomass traded in 2030: -0.5<br>REMIND-MAgPIE 1.7-3.0|PEP_1p5C_red_eff",
          "EU<br>Primary biomass traded in 2030: nan<br>REMIND-MAgPIE 1.7-3.0|PEP_2C_red_eff",
          "EU<br>Primary biomass traded in 2030: nan<br>REMIND-MAgPIE 1.7-3.0|SMP_2C_lifesty",
          "EU<br>Primary biomass traded in 2030: nan<br>REMIND-MAgPIE 2.1-4.2|CEMICS_SSP1-1p5C-fullCDR",
          "EU<br>Primary biomass traded in 2030: nan<br>REMIND-MAgPIE 2.1-4.2|CEMICS_SSP1-1p5C-minCDR",
          "EU<br>Primary biomass traded in 2030: nan<br>REMIND-MAgPIE 2.1-4.2|CEMICS_SSP2-1p5C-fullCDR"
         ],
         "type": "box",
         "whiskerwidth": 0.2,
         "xaxis": "x4",
         "y": [
          -0.0078,
          -0.0078,
          null,
          null,
          null,
          null,
          null,
          null,
          null,
          null,
          -1.639981384277344,
          -1.7331336975097658,
          -1.6023491821289064,
          -2.336292510986328,
          -1.8673853759765624,
          -1.939621032714844,
          -1.450349151611328,
          null,
          null,
          null,
          null,
          null,
          null,
          null,
          null,
          null,
          null,
          null,
          null,
          null,
          null,
          0.7166,
          0.3676,
          0.4003,
          0.3165,
          0.4421,
          0.2818,
          0.3133,
          0.3243,
          -1.9011,
          null,
          -2.1092,
          -2.7723,
          -2.2505,
          0.2466,
          0.187,
          0.2834,
          0.2606,
          0.2786,
          0.2789,
          0.3607,
          0.2739,
          0.2949,
          0.2823,
          0.2792,
          0.2441,
          0.2713,
          0.2281,
          0.2326,
          0.2305,
          0.2837,
          0.1993,
          0.3037,
          0.1611,
          -0.4782,
          null,
          null,
          null,
          null,
          null
         ],
         "yaxis": "y4"
        },
        {
         "boxpoints": "all",
         "fillcolor": "magenta",
         "hovertemplate": "%{text}",
         "jitter": 0.5,
         "line": {
          "color": "black",
          "width": 0.5
         },
         "marker": {
          "color": "black",
          "size": 3
         },
         "name": "AUS",
         "pointpos": -1.8,
         "showlegend": false,
         "text": [
          "AUS<br>GHG emission reduction in 2030: nan<br>AIM/CGE 2.1|CD-LINKS_NPi2020_400",
          "AUS<br>GHG emission reduction in 2030: nan<br>AIM/CGE 2.2|EN_NPi2020_300f",
          "AUS<br>GHG emission reduction in 2030: nan<br>AIM/CGE 2.2|EN_NPi2020_600",
          "AUS<br>GHG emission reduction in 2030: nan<br>AIM/Hub-Global 2.0|1.5C",
          "AUS<br>GHG emission reduction in 2030: nan<br>C-ROADS-5.005|Ratchet-1.5-limCDR-noOS",
          "AUS<br>GHG emission reduction in 2030: nan<br>C-ROADS-5.005|Ratchet-1.5-noCDR",
          "AUS<br>GHG emission reduction in 2030: nan<br>C-ROADS-5.005|Ratchet-1.5-noCDR-noOS",
          "AUS<br>GHG emission reduction in 2030: nan<br>COFFEE 1.1|EN_NPi2020_400",
          "AUS<br>GHG emission reduction in 2030: 0.5<br>GCAM 4.2|SSP1-19",
          "AUS<br>GHG emission reduction in 2030: 0.4<br>GCAM 5.3|R_MAC_30_n0",
          "AUS<br>GHG emission reduction in 2030: nan<br>GCAM 5.3|R_MAC_35_n8",
          "AUS<br>GHG emission reduction in 2030: nan<br>GCAM 5.3|R_MAC_40_n8",
          "AUS<br>GHG emission reduction in 2030: nan<br>GCAM 5.3|R_MAC_45_n8",
          "AUS<br>GHG emission reduction in 2030: nan<br>GCAM 5.3|R_MAC_50_n8",
          "AUS<br>GHG emission reduction in 2030: nan<br>GEM-E3_V2021|EN_NPi2020_500",
          "AUS<br>GHG emission reduction in 2030: nan<br>GEM-E3_V2021|EN_NPi2020_600_COV",
          "AUS<br>GHG emission reduction in 2030: nan<br>IMAGE 3.2|SSP1_SPA1_19I_D_LB",
          "AUS<br>GHG emission reduction in 2030: nan<br>IMAGE 3.2|SSP1_SPA1_19I_LIRE_LB",
          "AUS<br>GHG emission reduction in 2030: nan<br>IMAGE 3.2|SSP1_SPA1_19I_RE_LB",
          "AUS<br>GHG emission reduction in 2030: nan<br>IMAGE 3.2|SSP2_SPA1_19I_D_LB",
          "AUS<br>GHG emission reduction in 2030: nan<br>IMAGE 3.2|SSP2_SPA1_19I_LIRE_LB",
          "AUS<br>GHG emission reduction in 2030: nan<br>IMAGE 3.2|SSP2_SPA1_19I_RE_LB",
          "AUS<br>GHG emission reduction in 2030: nan<br>IMAGE 3.2|SSP2_SPA2_19I_LI",
          "AUS<br>GHG emission reduction in 2030: nan<br>MESSAGE-GLOBIOM 1.0|ADVANCE_2020_1.5C-2100",
          "AUS<br>GHG emission reduction in 2030: nan<br>MESSAGE-GLOBIOM 1.0|EMF33_1.5C_cost100",
          "AUS<br>GHG emission reduction in 2030: nan<br>MESSAGE-GLOBIOM 1.0|EMF33_1.5C_full",
          "AUS<br>GHG emission reduction in 2030: nan<br>MESSAGE-GLOBIOM 1.0|SSP2-19",
          "AUS<br>GHG emission reduction in 2030: nan<br>MESSAGEix-GLOBIOM 1.0|CD-LINKS_NPi2020_400",
          "AUS<br>GHG emission reduction in 2030: nan<br>MESSAGEix-GLOBIOM 1.0|LowEnergyDemand_1.3_IPCC",
          "AUS<br>GHG emission reduction in 2030: nan<br>MESSAGEix-GLOBIOM_1.1|EN_NPi2020_450",
          "AUS<br>GHG emission reduction in 2030: nan<br>MESSAGEix-GLOBIOM_1.1|EN_NPi2020_500",
          "AUS<br>GHG emission reduction in 2030: nan<br>MESSAGEix-GLOBIOM_1.1|NGFS2_Divergent Net Zero Policies",
          "AUS<br>GHG emission reduction in 2030: nan<br>MESSAGEix-GLOBIOM_1.1|NGFS2_Net-Zero 2050",
          "AUS<br>GHG emission reduction in 2030: nan<br>MESSAGEix-GLOBIOM_1.1|EN_NPi2020_600_COV",
          "AUS<br>GHG emission reduction in 2030: nan<br>MESSAGEix-GLOBIOM_1.1|EN_NPi2020_600_DR4p",
          "AUS<br>GHG emission reduction in 2030: nan<br>MESSAGEix-GLOBIOM_1.1|EN_NPi2020_600_DR3p",
          "AUS<br>GHG emission reduction in 2030: nan<br>MESSAGEix-GLOBIOM_1.1|EN_NPi2020_600_DR2p",
          "AUS<br>GHG emission reduction in 2030: nan<br>MESSAGEix-GLOBIOM_1.1|EN_NPi2020_600_DR1p",
          "AUS<br>GHG emission reduction in 2030: nan<br>MESSAGEix-GLOBIOM_1.2|COV_GreenPush_550",
          "AUS<br>GHG emission reduction in 2030: nan<br>MESSAGEix-GLOBIOM_1.2|COV_NoPolicyNoCOVID_550",
          "AUS<br>GHG emission reduction in 2030: nan<br>MESSAGEix-GLOBIOM_1.2|COV_Restore_550",
          "AUS<br>GHG emission reduction in 2030: nan<br>MESSAGEix-GLOBIOM_1.2|COV_SelfReliance_550",
          "AUS<br>GHG emission reduction in 2030: nan<br>MESSAGEix-GLOBIOM_1.2|COV_SmartUse_550",
          "AUS<br>GHG emission reduction in 2030: nan<br>POLES ADVANCE|ADVANCE_2020_1.5C-2100",
          "AUS<br>GHG emission reduction in 2030: nan<br>POLES EMF33|EMF33_WB2C_cost100",
          "AUS<br>GHG emission reduction in 2030: nan<br>POLES EMF33|EMF33_WB2C_full",
          "AUS<br>GHG emission reduction in 2030: nan<br>POLES EMF33|EMF33_WB2C_nofuel",
          "AUS<br>GHG emission reduction in 2030: nan<br>REMIND 1.7|ADVANCE_2020_1.5C-2100",
          "AUS<br>GHG emission reduction in 2030: nan<br>REMIND 1.7|CEMICS-1.5-CDR12",
          "AUS<br>GHG emission reduction in 2030: nan<br>REMIND 1.7|CEMICS-1.5-CDR20",
          "AUS<br>GHG emission reduction in 2030: nan<br>REMIND 1.7|CEMICS-1.5-CDR8",
          "AUS<br>GHG emission reduction in 2030: nan<br>REMIND 1.7|CEMICS-2.0-CDR8",
          "AUS<br>GHG emission reduction in 2030: nan<br>REMIND 2.1|CEMICS_GDPgrowth_1p5",
          "AUS<br>GHG emission reduction in 2030: nan<br>REMIND 2.1|CEMICS_HotellingConst_1p5",
          "AUS<br>GHG emission reduction in 2030: nan<br>REMIND 2.1|CEMICS_Linear_1p5",
          "AUS<br>GHG emission reduction in 2030: nan<br>REMIND 2.1|CEMICS_opt_1p5",
          "AUS<br>GHG emission reduction in 2030: nan<br>REMIND 2.1|LeastTotalCost_LTC_brkLR15_SSP1_P50",
          "AUS<br>GHG emission reduction in 2030: nan<br>REMIND 2.1|R2p1_SSP1-PkBudg900",
          "AUS<br>GHG emission reduction in 2030: nan<br>REMIND 2.1|R2p1_SSP2-PkBudg900",
          "AUS<br>GHG emission reduction in 2030: nan<br>REMIND 2.1|R2p1_SSP5-PkBudg900",
          "AUS<br>GHG emission reduction in 2030: nan<br>REMIND-MAgPIE 1.5|SSP2-19",
          "AUS<br>GHG emission reduction in 2030: nan<br>REMIND-MAgPIE 1.7-3.0|CD-LINKS_NPi2020_400",
          "AUS<br>GHG emission reduction in 2030: nan<br>REMIND-MAgPIE 1.7-3.0|EMF33_1.5C_nofuel",
          "AUS<br>GHG emission reduction in 2030: nan<br>REMIND-MAgPIE 1.7-3.0|PEP_1p5C_full_eff",
          "AUS<br>GHG emission reduction in 2030: nan<br>REMIND-MAgPIE 1.7-3.0|PEP_1p5C_red_eff",
          "AUS<br>GHG emission reduction in 2030: nan<br>REMIND-MAgPIE 1.7-3.0|PEP_2C_red_eff",
          "AUS<br>GHG emission reduction in 2030: nan<br>REMIND-MAgPIE 1.7-3.0|SMP_2C_lifesty",
          "AUS<br>GHG emission reduction in 2030: nan<br>REMIND-MAgPIE 2.1-4.2|CEMICS_SSP1-1p5C-fullCDR",
          "AUS<br>GHG emission reduction in 2030: nan<br>REMIND-MAgPIE 2.1-4.2|CEMICS_SSP1-1p5C-minCDR",
          "AUS<br>GHG emission reduction in 2030: nan<br>REMIND-MAgPIE 2.1-4.2|CEMICS_SSP2-1p5C-fullCDR"
         ],
         "type": "box",
         "whiskerwidth": 0.2,
         "xaxis": "x",
         "y": [
          null,
          null,
          null,
          null,
          null,
          null,
          null,
          null,
          0.4815799350967059,
          0.3735507545574227,
          null,
          null,
          null,
          null,
          null,
          null,
          null,
          null,
          null,
          null,
          null,
          null,
          null,
          null,
          null,
          null,
          null,
          null,
          null,
          null,
          null,
          null,
          null,
          null,
          null,
          null,
          null,
          null,
          null,
          null,
          null,
          null,
          null,
          null,
          null,
          null,
          null,
          null,
          null,
          null,
          null,
          null,
          null,
          null,
          null,
          null,
          null,
          null,
          null,
          null,
          null,
          null,
          null,
          null,
          null,
          null,
          null,
          null,
          null,
          null
         ],
         "yaxis": "y"
        },
        {
         "marker": {
          "color": "magenta",
          "colorscale": [
           [
            0,
            "rgb(158,1,66)"
           ],
           [
            0.1,
            "rgb(213,62,79)"
           ],
           [
            0.2,
            "rgb(244,109,67)"
           ],
           [
            0.3,
            "rgb(253,174,97)"
           ],
           [
            0.4,
            "rgb(254,224,139)"
           ],
           [
            0.5,
            "rgb(255,255,191)"
           ],
           [
            0.6,
            "rgb(230,245,152)"
           ],
           [
            0.7,
            "rgb(171,221,164)"
           ],
           [
            0.8,
            "rgb(102,194,165)"
           ],
           [
            0.9,
            "rgb(50,136,189)"
           ],
           [
            1,
            "rgb(94,79,162)"
           ]
          ],
          "line": {
           "color": "black",
           "width": 0.2
          },
          "size": 25,
          "symbol": "circle"
         },
         "mode": "markers+text",
         "showlegend": false,
         "text": "GF",
         "textfont": {
          "color": "black",
          "family": "Arial black",
          "size": 13
         },
         "type": "scatter",
         "x": [
          "AUS"
         ],
         "xaxis": "x",
         "y": [
          0.4423560580967874
         ],
         "yaxis": "y"
        },
        {
         "marker": {
          "color": "magenta",
          "colorscale": [
           [
            0,
            "rgb(158,1,66)"
           ],
           [
            0.1,
            "rgb(213,62,79)"
           ],
           [
            0.2,
            "rgb(244,109,67)"
           ],
           [
            0.3,
            "rgb(253,174,97)"
           ],
           [
            0.4,
            "rgb(254,224,139)"
           ],
           [
            0.5,
            "rgb(255,255,191)"
           ],
           [
            0.6,
            "rgb(230,245,152)"
           ],
           [
            0.7,
            "rgb(171,221,164)"
           ],
           [
            0.8,
            "rgb(102,194,165)"
           ],
           [
            0.9,
            "rgb(50,136,189)"
           ],
           [
            1,
            "rgb(94,79,162)"
           ]
          ],
          "line": {
           "color": "black",
           "width": 0.2
          },
          "size": 25,
          "symbol": "square"
         },
         "mode": "markers+text",
         "showlegend": false,
         "text": "PC",
         "textfont": {
          "color": "black",
          "family": "Arial black",
          "size": 13
         },
         "type": "scatter",
         "x": [
          "AUS"
         ],
         "xaxis": "x",
         "y": [
          0.8427038600421991
         ],
         "yaxis": "y"
        },
        {
         "marker": {
          "color": "magenta",
          "colorscale": [
           [
            0,
            "rgb(158,1,66)"
           ],
           [
            0.1,
            "rgb(213,62,79)"
           ],
           [
            0.2,
            "rgb(244,109,67)"
           ],
           [
            0.3,
            "rgb(253,174,97)"
           ],
           [
            0.4,
            "rgb(254,224,139)"
           ],
           [
            0.5,
            "rgb(255,255,191)"
           ],
           [
            0.6,
            "rgb(230,245,152)"
           ],
           [
            0.7,
            "rgb(171,221,164)"
           ],
           [
            0.8,
            "rgb(102,194,165)"
           ],
           [
            0.9,
            "rgb(50,136,189)"
           ],
           [
            1,
            "rgb(94,79,162)"
           ]
          ],
          "line": {
           "color": "black",
           "width": 0.2
          },
          "size": 25,
          "symbol": "diamond"
         },
         "mode": "markers+text",
         "showlegend": false,
         "text": "PCC",
         "textfont": {
          "color": "black",
          "family": "Arial black",
          "size": 13
         },
         "type": "scatter",
         "x": [
          "AUS"
         ],
         "xaxis": "x",
         "y": [
          0.6425299590694932
         ],
         "yaxis": "y"
        },
        {
         "marker": {
          "color": "magenta",
          "colorscale": [
           [
            0,
            "rgb(158,1,66)"
           ],
           [
            0.1,
            "rgb(213,62,79)"
           ],
           [
            0.2,
            "rgb(244,109,67)"
           ],
           [
            0.3,
            "rgb(253,174,97)"
           ],
           [
            0.4,
            "rgb(254,224,139)"
           ],
           [
            0.5,
            "rgb(255,255,191)"
           ],
           [
            0.6,
            "rgb(230,245,152)"
           ],
           [
            0.7,
            "rgb(171,221,164)"
           ],
           [
            0.8,
            "rgb(102,194,165)"
           ],
           [
            0.9,
            "rgb(50,136,189)"
           ],
           [
            1,
            "rgb(94,79,162)"
           ]
          ],
          "line": {
           "color": "black",
           "width": 0.2
          },
          "size": 25,
          "symbol": "triangle-up"
         },
         "mode": "markers+text",
         "showlegend": false,
         "text": "NDC",
         "textfont": {
          "color": "black",
          "family": "Arial black",
          "size": 13
         },
         "type": "scatter",
         "x": [
          "AUS"
         ],
         "xaxis": "x",
         "y": [
          0.3859487301679116
         ],
         "yaxis": "y"
        },
        {
         "boxpoints": "all",
         "fillcolor": "magenta",
         "hovertemplate": "%{text}",
         "jitter": 0.5,
         "line": {
          "color": "black",
          "width": 0.5
         },
         "marker": {
          "color": "black",
          "size": 3
         },
         "name": "AUS",
         "pointpos": -1.8,
         "showlegend": false,
         "text": [
          "AUS<br>Policy costs in 2030: nan<br>AIM/CGE 2.1|CD-LINKS_NPi2020_400",
          "AUS<br>Policy costs in 2030: nan<br>AIM/CGE 2.2|EN_NPi2020_300f",
          "AUS<br>Policy costs in 2030: nan<br>AIM/CGE 2.2|EN_NPi2020_600",
          "AUS<br>Policy costs in 2030: nan<br>AIM/Hub-Global 2.0|1.5C",
          "AUS<br>Policy costs in 2030: nan<br>C-ROADS-5.005|Ratchet-1.5-limCDR-noOS",
          "AUS<br>Policy costs in 2030: nan<br>C-ROADS-5.005|Ratchet-1.5-noCDR",
          "AUS<br>Policy costs in 2030: nan<br>C-ROADS-5.005|Ratchet-1.5-noCDR-noOS",
          "AUS<br>Policy costs in 2030: nan<br>COFFEE 1.1|EN_NPi2020_400",
          "AUS<br>Policy costs in 2030: 10.8<br>GCAM 4.2|SSP1-19",
          "AUS<br>Policy costs in 2030: 7.9<br>GCAM 5.3|R_MAC_30_n0",
          "AUS<br>Policy costs in 2030: nan<br>GCAM 5.3|R_MAC_35_n8",
          "AUS<br>Policy costs in 2030: nan<br>GCAM 5.3|R_MAC_40_n8",
          "AUS<br>Policy costs in 2030: nan<br>GCAM 5.3|R_MAC_45_n8",
          "AUS<br>Policy costs in 2030: nan<br>GCAM 5.3|R_MAC_50_n8",
          "AUS<br>Policy costs in 2030: nan<br>GEM-E3_V2021|EN_NPi2020_500",
          "AUS<br>Policy costs in 2030: nan<br>GEM-E3_V2021|EN_NPi2020_600_COV",
          "AUS<br>Policy costs in 2030: nan<br>IMAGE 3.2|SSP1_SPA1_19I_D_LB",
          "AUS<br>Policy costs in 2030: nan<br>IMAGE 3.2|SSP1_SPA1_19I_LIRE_LB",
          "AUS<br>Policy costs in 2030: nan<br>IMAGE 3.2|SSP1_SPA1_19I_RE_LB",
          "AUS<br>Policy costs in 2030: nan<br>IMAGE 3.2|SSP2_SPA1_19I_D_LB",
          "AUS<br>Policy costs in 2030: nan<br>IMAGE 3.2|SSP2_SPA1_19I_LIRE_LB",
          "AUS<br>Policy costs in 2030: nan<br>IMAGE 3.2|SSP2_SPA1_19I_RE_LB",
          "AUS<br>Policy costs in 2030: nan<br>IMAGE 3.2|SSP2_SPA2_19I_LI",
          "AUS<br>Policy costs in 2030: nan<br>MESSAGE-GLOBIOM 1.0|ADVANCE_2020_1.5C-2100",
          "AUS<br>Policy costs in 2030: nan<br>MESSAGE-GLOBIOM 1.0|EMF33_1.5C_cost100",
          "AUS<br>Policy costs in 2030: nan<br>MESSAGE-GLOBIOM 1.0|EMF33_1.5C_full",
          "AUS<br>Policy costs in 2030: nan<br>MESSAGE-GLOBIOM 1.0|SSP2-19",
          "AUS<br>Policy costs in 2030: nan<br>MESSAGEix-GLOBIOM 1.0|CD-LINKS_NPi2020_400",
          "AUS<br>Policy costs in 2030: nan<br>MESSAGEix-GLOBIOM 1.0|LowEnergyDemand_1.3_IPCC",
          "AUS<br>Policy costs in 2030: nan<br>MESSAGEix-GLOBIOM_1.1|EN_NPi2020_450",
          "AUS<br>Policy costs in 2030: nan<br>MESSAGEix-GLOBIOM_1.1|EN_NPi2020_500",
          "AUS<br>Policy costs in 2030: nan<br>MESSAGEix-GLOBIOM_1.1|NGFS2_Divergent Net Zero Policies",
          "AUS<br>Policy costs in 2030: nan<br>MESSAGEix-GLOBIOM_1.1|NGFS2_Net-Zero 2050",
          "AUS<br>Policy costs in 2030: nan<br>MESSAGEix-GLOBIOM_1.1|EN_NPi2020_600_COV",
          "AUS<br>Policy costs in 2030: nan<br>MESSAGEix-GLOBIOM_1.1|EN_NPi2020_600_DR4p",
          "AUS<br>Policy costs in 2030: nan<br>MESSAGEix-GLOBIOM_1.1|EN_NPi2020_600_DR3p",
          "AUS<br>Policy costs in 2030: nan<br>MESSAGEix-GLOBIOM_1.1|EN_NPi2020_600_DR2p",
          "AUS<br>Policy costs in 2030: nan<br>MESSAGEix-GLOBIOM_1.1|EN_NPi2020_600_DR1p",
          "AUS<br>Policy costs in 2030: nan<br>MESSAGEix-GLOBIOM_1.2|COV_GreenPush_550",
          "AUS<br>Policy costs in 2030: nan<br>MESSAGEix-GLOBIOM_1.2|COV_NoPolicyNoCOVID_550",
          "AUS<br>Policy costs in 2030: nan<br>MESSAGEix-GLOBIOM_1.2|COV_Restore_550",
          "AUS<br>Policy costs in 2030: nan<br>MESSAGEix-GLOBIOM_1.2|COV_SelfReliance_550",
          "AUS<br>Policy costs in 2030: nan<br>MESSAGEix-GLOBIOM_1.2|COV_SmartUse_550",
          "AUS<br>Policy costs in 2030: nan<br>POLES ADVANCE|ADVANCE_2020_1.5C-2100",
          "AUS<br>Policy costs in 2030: nan<br>POLES EMF33|EMF33_WB2C_cost100",
          "AUS<br>Policy costs in 2030: nan<br>POLES EMF33|EMF33_WB2C_full",
          "AUS<br>Policy costs in 2030: nan<br>POLES EMF33|EMF33_WB2C_nofuel",
          "AUS<br>Policy costs in 2030: nan<br>REMIND 1.7|ADVANCE_2020_1.5C-2100",
          "AUS<br>Policy costs in 2030: nan<br>REMIND 1.7|CEMICS-1.5-CDR12",
          "AUS<br>Policy costs in 2030: nan<br>REMIND 1.7|CEMICS-1.5-CDR20",
          "AUS<br>Policy costs in 2030: nan<br>REMIND 1.7|CEMICS-1.5-CDR8",
          "AUS<br>Policy costs in 2030: nan<br>REMIND 1.7|CEMICS-2.0-CDR8",
          "AUS<br>Policy costs in 2030: nan<br>REMIND 2.1|CEMICS_GDPgrowth_1p5",
          "AUS<br>Policy costs in 2030: nan<br>REMIND 2.1|CEMICS_HotellingConst_1p5",
          "AUS<br>Policy costs in 2030: nan<br>REMIND 2.1|CEMICS_Linear_1p5",
          "AUS<br>Policy costs in 2030: nan<br>REMIND 2.1|CEMICS_opt_1p5",
          "AUS<br>Policy costs in 2030: nan<br>REMIND 2.1|LeastTotalCost_LTC_brkLR15_SSP1_P50",
          "AUS<br>Policy costs in 2030: nan<br>REMIND 2.1|R2p1_SSP1-PkBudg900",
          "AUS<br>Policy costs in 2030: nan<br>REMIND 2.1|R2p1_SSP2-PkBudg900",
          "AUS<br>Policy costs in 2030: nan<br>REMIND 2.1|R2p1_SSP5-PkBudg900",
          "AUS<br>Policy costs in 2030: nan<br>REMIND-MAgPIE 1.5|SSP2-19",
          "AUS<br>Policy costs in 2030: nan<br>REMIND-MAgPIE 1.7-3.0|CD-LINKS_NPi2020_400",
          "AUS<br>Policy costs in 2030: nan<br>REMIND-MAgPIE 1.7-3.0|EMF33_1.5C_nofuel",
          "AUS<br>Policy costs in 2030: nan<br>REMIND-MAgPIE 1.7-3.0|PEP_1p5C_full_eff",
          "AUS<br>Policy costs in 2030: nan<br>REMIND-MAgPIE 1.7-3.0|PEP_1p5C_red_eff",
          "AUS<br>Policy costs in 2030: nan<br>REMIND-MAgPIE 1.7-3.0|PEP_2C_red_eff",
          "AUS<br>Policy costs in 2030: nan<br>REMIND-MAgPIE 1.7-3.0|SMP_2C_lifesty",
          "AUS<br>Policy costs in 2030: nan<br>REMIND-MAgPIE 2.1-4.2|CEMICS_SSP1-1p5C-fullCDR",
          "AUS<br>Policy costs in 2030: nan<br>REMIND-MAgPIE 2.1-4.2|CEMICS_SSP1-1p5C-minCDR",
          "AUS<br>Policy costs in 2030: nan<br>REMIND-MAgPIE 2.1-4.2|CEMICS_SSP2-1p5C-fullCDR"
         ],
         "type": "box",
         "whiskerwidth": 0.2,
         "xaxis": "x2",
         "y": [
          null,
          null,
          null,
          null,
          null,
          null,
          null,
          null,
          10.776876415201231,
          7.856672987787176,
          null,
          null,
          null,
          null,
          null,
          null,
          null,
          null,
          null,
          null,
          null,
          null,
          null,
          null,
          null,
          null,
          null,
          null,
          null,
          null,
          null,
          null,
          null,
          null,
          null,
          null,
          null,
          null,
          null,
          null,
          null,
          null,
          null,
          null,
          null,
          null,
          null,
          null,
          null,
          null,
          null,
          null,
          null,
          null,
          null,
          null,
          null,
          null,
          null,
          null,
          null,
          null,
          null,
          null,
          null,
          null,
          null,
          null,
          null,
          null
         ],
         "yaxis": "y2"
        },
        {
         "boxpoints": "all",
         "fillcolor": "magenta",
         "hovertemplate": "%{text}",
         "jitter": 0.5,
         "line": {
          "color": "black",
          "width": 0.5
         },
         "marker": {
          "color": "black",
          "size": 3
         },
         "name": "AUS",
         "pointpos": -1.8,
         "showlegend": false,
         "text": [
          "AUS<br>CCS in 2030: nan<br>AIM/CGE 2.1|CD-LINKS_NPi2020_400",
          "AUS<br>CCS in 2030: nan<br>AIM/CGE 2.2|EN_NPi2020_300f",
          "AUS<br>CCS in 2030: nan<br>AIM/CGE 2.2|EN_NPi2020_600",
          "AUS<br>CCS in 2030: nan<br>AIM/Hub-Global 2.0|1.5C",
          "AUS<br>CCS in 2030: nan<br>C-ROADS-5.005|Ratchet-1.5-limCDR-noOS",
          "AUS<br>CCS in 2030: nan<br>C-ROADS-5.005|Ratchet-1.5-noCDR",
          "AUS<br>CCS in 2030: nan<br>C-ROADS-5.005|Ratchet-1.5-noCDR-noOS",
          "AUS<br>CCS in 2030: nan<br>COFFEE 1.1|EN_NPi2020_400",
          "AUS<br>CCS in 2030: 0.0<br>GCAM 4.2|SSP1-19",
          "AUS<br>CCS in 2030: 0.0<br>GCAM 5.3|R_MAC_30_n0",
          "AUS<br>CCS in 2030: nan<br>GCAM 5.3|R_MAC_35_n8",
          "AUS<br>CCS in 2030: nan<br>GCAM 5.3|R_MAC_40_n8",
          "AUS<br>CCS in 2030: nan<br>GCAM 5.3|R_MAC_45_n8",
          "AUS<br>CCS in 2030: nan<br>GCAM 5.3|R_MAC_50_n8",
          "AUS<br>CCS in 2030: nan<br>GEM-E3_V2021|EN_NPi2020_500",
          "AUS<br>CCS in 2030: nan<br>GEM-E3_V2021|EN_NPi2020_600_COV",
          "AUS<br>CCS in 2030: nan<br>IMAGE 3.2|SSP1_SPA1_19I_D_LB",
          "AUS<br>CCS in 2030: nan<br>IMAGE 3.2|SSP1_SPA1_19I_LIRE_LB",
          "AUS<br>CCS in 2030: nan<br>IMAGE 3.2|SSP1_SPA1_19I_RE_LB",
          "AUS<br>CCS in 2030: nan<br>IMAGE 3.2|SSP2_SPA1_19I_D_LB",
          "AUS<br>CCS in 2030: nan<br>IMAGE 3.2|SSP2_SPA1_19I_LIRE_LB",
          "AUS<br>CCS in 2030: nan<br>IMAGE 3.2|SSP2_SPA1_19I_RE_LB",
          "AUS<br>CCS in 2030: nan<br>IMAGE 3.2|SSP2_SPA2_19I_LI",
          "AUS<br>CCS in 2030: nan<br>MESSAGE-GLOBIOM 1.0|ADVANCE_2020_1.5C-2100",
          "AUS<br>CCS in 2030: nan<br>MESSAGE-GLOBIOM 1.0|EMF33_1.5C_cost100",
          "AUS<br>CCS in 2030: nan<br>MESSAGE-GLOBIOM 1.0|EMF33_1.5C_full",
          "AUS<br>CCS in 2030: nan<br>MESSAGE-GLOBIOM 1.0|SSP2-19",
          "AUS<br>CCS in 2030: nan<br>MESSAGEix-GLOBIOM 1.0|CD-LINKS_NPi2020_400",
          "AUS<br>CCS in 2030: nan<br>MESSAGEix-GLOBIOM 1.0|LowEnergyDemand_1.3_IPCC",
          "AUS<br>CCS in 2030: nan<br>MESSAGEix-GLOBIOM_1.1|EN_NPi2020_450",
          "AUS<br>CCS in 2030: nan<br>MESSAGEix-GLOBIOM_1.1|EN_NPi2020_500",
          "AUS<br>CCS in 2030: nan<br>MESSAGEix-GLOBIOM_1.1|NGFS2_Divergent Net Zero Policies",
          "AUS<br>CCS in 2030: nan<br>MESSAGEix-GLOBIOM_1.1|NGFS2_Net-Zero 2050",
          "AUS<br>CCS in 2030: nan<br>MESSAGEix-GLOBIOM_1.1|EN_NPi2020_600_COV",
          "AUS<br>CCS in 2030: nan<br>MESSAGEix-GLOBIOM_1.1|EN_NPi2020_600_DR4p",
          "AUS<br>CCS in 2030: nan<br>MESSAGEix-GLOBIOM_1.1|EN_NPi2020_600_DR3p",
          "AUS<br>CCS in 2030: nan<br>MESSAGEix-GLOBIOM_1.1|EN_NPi2020_600_DR2p",
          "AUS<br>CCS in 2030: nan<br>MESSAGEix-GLOBIOM_1.1|EN_NPi2020_600_DR1p",
          "AUS<br>CCS in 2030: nan<br>MESSAGEix-GLOBIOM_1.2|COV_GreenPush_550",
          "AUS<br>CCS in 2030: nan<br>MESSAGEix-GLOBIOM_1.2|COV_NoPolicyNoCOVID_550",
          "AUS<br>CCS in 2030: nan<br>MESSAGEix-GLOBIOM_1.2|COV_Restore_550",
          "AUS<br>CCS in 2030: nan<br>MESSAGEix-GLOBIOM_1.2|COV_SelfReliance_550",
          "AUS<br>CCS in 2030: nan<br>MESSAGEix-GLOBIOM_1.2|COV_SmartUse_550",
          "AUS<br>CCS in 2030: nan<br>POLES ADVANCE|ADVANCE_2020_1.5C-2100",
          "AUS<br>CCS in 2030: nan<br>POLES EMF33|EMF33_WB2C_cost100",
          "AUS<br>CCS in 2030: nan<br>POLES EMF33|EMF33_WB2C_full",
          "AUS<br>CCS in 2030: nan<br>POLES EMF33|EMF33_WB2C_nofuel",
          "AUS<br>CCS in 2030: nan<br>REMIND 1.7|ADVANCE_2020_1.5C-2100",
          "AUS<br>CCS in 2030: nan<br>REMIND 1.7|CEMICS-1.5-CDR12",
          "AUS<br>CCS in 2030: nan<br>REMIND 1.7|CEMICS-1.5-CDR20",
          "AUS<br>CCS in 2030: nan<br>REMIND 1.7|CEMICS-1.5-CDR8",
          "AUS<br>CCS in 2030: nan<br>REMIND 1.7|CEMICS-2.0-CDR8",
          "AUS<br>CCS in 2030: nan<br>REMIND 2.1|CEMICS_GDPgrowth_1p5",
          "AUS<br>CCS in 2030: nan<br>REMIND 2.1|CEMICS_HotellingConst_1p5",
          "AUS<br>CCS in 2030: nan<br>REMIND 2.1|CEMICS_Linear_1p5",
          "AUS<br>CCS in 2030: nan<br>REMIND 2.1|CEMICS_opt_1p5",
          "AUS<br>CCS in 2030: nan<br>REMIND 2.1|LeastTotalCost_LTC_brkLR15_SSP1_P50",
          "AUS<br>CCS in 2030: nan<br>REMIND 2.1|R2p1_SSP1-PkBudg900",
          "AUS<br>CCS in 2030: nan<br>REMIND 2.1|R2p1_SSP2-PkBudg900",
          "AUS<br>CCS in 2030: nan<br>REMIND 2.1|R2p1_SSP5-PkBudg900",
          "AUS<br>CCS in 2030: nan<br>REMIND-MAgPIE 1.5|SSP2-19",
          "AUS<br>CCS in 2030: nan<br>REMIND-MAgPIE 1.7-3.0|CD-LINKS_NPi2020_400",
          "AUS<br>CCS in 2030: nan<br>REMIND-MAgPIE 1.7-3.0|EMF33_1.5C_nofuel",
          "AUS<br>CCS in 2030: nan<br>REMIND-MAgPIE 1.7-3.0|PEP_1p5C_full_eff",
          "AUS<br>CCS in 2030: nan<br>REMIND-MAgPIE 1.7-3.0|PEP_1p5C_red_eff",
          "AUS<br>CCS in 2030: nan<br>REMIND-MAgPIE 1.7-3.0|PEP_2C_red_eff",
          "AUS<br>CCS in 2030: nan<br>REMIND-MAgPIE 1.7-3.0|SMP_2C_lifesty",
          "AUS<br>CCS in 2030: nan<br>REMIND-MAgPIE 2.1-4.2|CEMICS_SSP1-1p5C-fullCDR",
          "AUS<br>CCS in 2030: nan<br>REMIND-MAgPIE 2.1-4.2|CEMICS_SSP1-1p5C-minCDR",
          "AUS<br>CCS in 2030: nan<br>REMIND-MAgPIE 2.1-4.2|CEMICS_SSP2-1p5C-fullCDR"
         ],
         "type": "box",
         "whiskerwidth": 0.2,
         "xaxis": "x3",
         "y": [
          null,
          null,
          null,
          null,
          null,
          null,
          null,
          null,
          0.0004931155834899,
          0.0004516474112249,
          null,
          null,
          null,
          null,
          null,
          null,
          null,
          null,
          null,
          null,
          null,
          null,
          null,
          null,
          null,
          null,
          null,
          null,
          null,
          null,
          null,
          null,
          null,
          null,
          null,
          null,
          null,
          null,
          null,
          null,
          null,
          null,
          null,
          null,
          null,
          null,
          null,
          null,
          null,
          null,
          null,
          null,
          null,
          null,
          null,
          null,
          null,
          null,
          null,
          null,
          null,
          null,
          null,
          null,
          null,
          null,
          null,
          null,
          null,
          null
         ],
         "yaxis": "y3"
        },
        {
         "boxpoints": "all",
         "fillcolor": "magenta",
         "hovertemplate": "%{text}",
         "jitter": 0.5,
         "line": {
          "color": "black",
          "width": 0.5
         },
         "marker": {
          "color": "black",
          "size": 3
         },
         "name": "AUS",
         "pointpos": -1.8,
         "showlegend": false,
         "text": [
          "AUS<br>Primary biomass traded in 2030: nan<br>AIM/CGE 2.1|CD-LINKS_NPi2020_400",
          "AUS<br>Primary biomass traded in 2030: nan<br>AIM/CGE 2.2|EN_NPi2020_300f",
          "AUS<br>Primary biomass traded in 2030: nan<br>AIM/CGE 2.2|EN_NPi2020_600",
          "AUS<br>Primary biomass traded in 2030: nan<br>AIM/Hub-Global 2.0|1.5C",
          "AUS<br>Primary biomass traded in 2030: nan<br>C-ROADS-5.005|Ratchet-1.5-limCDR-noOS",
          "AUS<br>Primary biomass traded in 2030: nan<br>C-ROADS-5.005|Ratchet-1.5-noCDR",
          "AUS<br>Primary biomass traded in 2030: nan<br>C-ROADS-5.005|Ratchet-1.5-noCDR-noOS",
          "AUS<br>Primary biomass traded in 2030: nan<br>COFFEE 1.1|EN_NPi2020_400",
          "AUS<br>Primary biomass traded in 2030: nan<br>GCAM 4.2|SSP1-19",
          "AUS<br>Primary biomass traded in 2030: nan<br>GCAM 5.3|R_MAC_30_n0",
          "AUS<br>Primary biomass traded in 2030: nan<br>GCAM 5.3|R_MAC_35_n8",
          "AUS<br>Primary biomass traded in 2030: nan<br>GCAM 5.3|R_MAC_40_n8",
          "AUS<br>Primary biomass traded in 2030: nan<br>GCAM 5.3|R_MAC_45_n8",
          "AUS<br>Primary biomass traded in 2030: nan<br>GCAM 5.3|R_MAC_50_n8",
          "AUS<br>Primary biomass traded in 2030: nan<br>GEM-E3_V2021|EN_NPi2020_500",
          "AUS<br>Primary biomass traded in 2030: nan<br>GEM-E3_V2021|EN_NPi2020_600_COV",
          "AUS<br>Primary biomass traded in 2030: nan<br>IMAGE 3.2|SSP1_SPA1_19I_D_LB",
          "AUS<br>Primary biomass traded in 2030: nan<br>IMAGE 3.2|SSP1_SPA1_19I_LIRE_LB",
          "AUS<br>Primary biomass traded in 2030: nan<br>IMAGE 3.2|SSP1_SPA1_19I_RE_LB",
          "AUS<br>Primary biomass traded in 2030: nan<br>IMAGE 3.2|SSP2_SPA1_19I_D_LB",
          "AUS<br>Primary biomass traded in 2030: nan<br>IMAGE 3.2|SSP2_SPA1_19I_LIRE_LB",
          "AUS<br>Primary biomass traded in 2030: nan<br>IMAGE 3.2|SSP2_SPA1_19I_RE_LB",
          "AUS<br>Primary biomass traded in 2030: nan<br>IMAGE 3.2|SSP2_SPA2_19I_LI",
          "AUS<br>Primary biomass traded in 2030: nan<br>MESSAGE-GLOBIOM 1.0|ADVANCE_2020_1.5C-2100",
          "AUS<br>Primary biomass traded in 2030: nan<br>MESSAGE-GLOBIOM 1.0|EMF33_1.5C_cost100",
          "AUS<br>Primary biomass traded in 2030: nan<br>MESSAGE-GLOBIOM 1.0|EMF33_1.5C_full",
          "AUS<br>Primary biomass traded in 2030: nan<br>MESSAGE-GLOBIOM 1.0|SSP2-19",
          "AUS<br>Primary biomass traded in 2030: nan<br>MESSAGEix-GLOBIOM 1.0|CD-LINKS_NPi2020_400",
          "AUS<br>Primary biomass traded in 2030: nan<br>MESSAGEix-GLOBIOM 1.0|LowEnergyDemand_1.3_IPCC",
          "AUS<br>Primary biomass traded in 2030: nan<br>MESSAGEix-GLOBIOM_1.1|EN_NPi2020_450",
          "AUS<br>Primary biomass traded in 2030: nan<br>MESSAGEix-GLOBIOM_1.1|EN_NPi2020_500",
          "AUS<br>Primary biomass traded in 2030: nan<br>MESSAGEix-GLOBIOM_1.1|NGFS2_Divergent Net Zero Policies",
          "AUS<br>Primary biomass traded in 2030: nan<br>MESSAGEix-GLOBIOM_1.1|NGFS2_Net-Zero 2050",
          "AUS<br>Primary biomass traded in 2030: nan<br>MESSAGEix-GLOBIOM_1.1|EN_NPi2020_600_COV",
          "AUS<br>Primary biomass traded in 2030: nan<br>MESSAGEix-GLOBIOM_1.1|EN_NPi2020_600_DR4p",
          "AUS<br>Primary biomass traded in 2030: nan<br>MESSAGEix-GLOBIOM_1.1|EN_NPi2020_600_DR3p",
          "AUS<br>Primary biomass traded in 2030: nan<br>MESSAGEix-GLOBIOM_1.1|EN_NPi2020_600_DR2p",
          "AUS<br>Primary biomass traded in 2030: nan<br>MESSAGEix-GLOBIOM_1.1|EN_NPi2020_600_DR1p",
          "AUS<br>Primary biomass traded in 2030: nan<br>MESSAGEix-GLOBIOM_1.2|COV_GreenPush_550",
          "AUS<br>Primary biomass traded in 2030: nan<br>MESSAGEix-GLOBIOM_1.2|COV_NoPolicyNoCOVID_550",
          "AUS<br>Primary biomass traded in 2030: nan<br>MESSAGEix-GLOBIOM_1.2|COV_Restore_550",
          "AUS<br>Primary biomass traded in 2030: nan<br>MESSAGEix-GLOBIOM_1.2|COV_SelfReliance_550",
          "AUS<br>Primary biomass traded in 2030: nan<br>MESSAGEix-GLOBIOM_1.2|COV_SmartUse_550",
          "AUS<br>Primary biomass traded in 2030: nan<br>POLES ADVANCE|ADVANCE_2020_1.5C-2100",
          "AUS<br>Primary biomass traded in 2030: nan<br>POLES EMF33|EMF33_WB2C_cost100",
          "AUS<br>Primary biomass traded in 2030: nan<br>POLES EMF33|EMF33_WB2C_full",
          "AUS<br>Primary biomass traded in 2030: nan<br>POLES EMF33|EMF33_WB2C_nofuel",
          "AUS<br>Primary biomass traded in 2030: nan<br>REMIND 1.7|ADVANCE_2020_1.5C-2100",
          "AUS<br>Primary biomass traded in 2030: nan<br>REMIND 1.7|CEMICS-1.5-CDR12",
          "AUS<br>Primary biomass traded in 2030: nan<br>REMIND 1.7|CEMICS-1.5-CDR20",
          "AUS<br>Primary biomass traded in 2030: nan<br>REMIND 1.7|CEMICS-1.5-CDR8",
          "AUS<br>Primary biomass traded in 2030: nan<br>REMIND 1.7|CEMICS-2.0-CDR8",
          "AUS<br>Primary biomass traded in 2030: nan<br>REMIND 2.1|CEMICS_GDPgrowth_1p5",
          "AUS<br>Primary biomass traded in 2030: nan<br>REMIND 2.1|CEMICS_HotellingConst_1p5",
          "AUS<br>Primary biomass traded in 2030: nan<br>REMIND 2.1|CEMICS_Linear_1p5",
          "AUS<br>Primary biomass traded in 2030: nan<br>REMIND 2.1|CEMICS_opt_1p5",
          "AUS<br>Primary biomass traded in 2030: nan<br>REMIND 2.1|LeastTotalCost_LTC_brkLR15_SSP1_P50",
          "AUS<br>Primary biomass traded in 2030: nan<br>REMIND 2.1|R2p1_SSP1-PkBudg900",
          "AUS<br>Primary biomass traded in 2030: nan<br>REMIND 2.1|R2p1_SSP2-PkBudg900",
          "AUS<br>Primary biomass traded in 2030: nan<br>REMIND 2.1|R2p1_SSP5-PkBudg900",
          "AUS<br>Primary biomass traded in 2030: nan<br>REMIND-MAgPIE 1.5|SSP2-19",
          "AUS<br>Primary biomass traded in 2030: nan<br>REMIND-MAgPIE 1.7-3.0|CD-LINKS_NPi2020_400",
          "AUS<br>Primary biomass traded in 2030: nan<br>REMIND-MAgPIE 1.7-3.0|EMF33_1.5C_nofuel",
          "AUS<br>Primary biomass traded in 2030: nan<br>REMIND-MAgPIE 1.7-3.0|PEP_1p5C_full_eff",
          "AUS<br>Primary biomass traded in 2030: nan<br>REMIND-MAgPIE 1.7-3.0|PEP_1p5C_red_eff",
          "AUS<br>Primary biomass traded in 2030: nan<br>REMIND-MAgPIE 1.7-3.0|PEP_2C_red_eff",
          "AUS<br>Primary biomass traded in 2030: nan<br>REMIND-MAgPIE 1.7-3.0|SMP_2C_lifesty",
          "AUS<br>Primary biomass traded in 2030: nan<br>REMIND-MAgPIE 2.1-4.2|CEMICS_SSP1-1p5C-fullCDR",
          "AUS<br>Primary biomass traded in 2030: nan<br>REMIND-MAgPIE 2.1-4.2|CEMICS_SSP1-1p5C-minCDR",
          "AUS<br>Primary biomass traded in 2030: nan<br>REMIND-MAgPIE 2.1-4.2|CEMICS_SSP2-1p5C-fullCDR"
         ],
         "type": "box",
         "whiskerwidth": 0.2,
         "xaxis": "x4",
         "y": [
          null,
          null,
          null,
          null,
          null,
          null,
          null,
          null,
          null,
          null,
          null,
          null,
          null,
          null,
          null,
          null,
          null,
          null,
          null,
          null,
          null,
          null,
          null,
          null,
          null,
          null,
          null,
          null,
          null,
          null,
          null,
          null,
          null,
          null,
          null,
          null,
          null,
          null,
          null,
          null,
          null,
          null,
          null,
          null,
          null,
          null,
          null,
          null,
          null,
          null,
          null,
          null,
          null,
          null,
          null,
          null,
          null,
          null,
          null,
          null,
          null,
          null,
          null,
          null,
          null,
          null,
          null,
          null,
          null,
          null
         ],
         "yaxis": "y4"
        },
        {
         "boxpoints": "all",
         "fillcolor": "red",
         "hovertemplate": "%{text}",
         "jitter": 0.5,
         "line": {
          "color": "black",
          "width": 0.5
         },
         "marker": {
          "color": "black",
          "size": 3
         },
         "name": "JPN",
         "pointpos": -1.8,
         "showlegend": false,
         "text": [
          "JPN<br>GHG emission reduction in 2030: 0.4<br>AIM/CGE 2.1|CD-LINKS_NPi2020_400",
          "JPN<br>GHG emission reduction in 2030: 0.4<br>AIM/CGE 2.2|EN_NPi2020_300f",
          "JPN<br>GHG emission reduction in 2030: 0.6<br>AIM/CGE 2.2|EN_NPi2020_600",
          "JPN<br>GHG emission reduction in 2030: 0.7<br>AIM/Hub-Global 2.0|1.5C",
          "JPN<br>GHG emission reduction in 2030: 0.6<br>C-ROADS-5.005|Ratchet-1.5-limCDR-noOS",
          "JPN<br>GHG emission reduction in 2030: 0.5<br>C-ROADS-5.005|Ratchet-1.5-noCDR",
          "JPN<br>GHG emission reduction in 2030: 0.4<br>C-ROADS-5.005|Ratchet-1.5-noCDR-noOS",
          "JPN<br>GHG emission reduction in 2030: 0.3<br>COFFEE 1.1|EN_NPi2020_400",
          "JPN<br>GHG emission reduction in 2030: 0.4<br>GCAM 4.2|SSP1-19",
          "JPN<br>GHG emission reduction in 2030: 0.3<br>GCAM 5.3|R_MAC_30_n0",
          "JPN<br>GHG emission reduction in 2030: 0.6<br>GCAM 5.3|R_MAC_35_n8",
          "JPN<br>GHG emission reduction in 2030: 0.6<br>GCAM 5.3|R_MAC_40_n8",
          "JPN<br>GHG emission reduction in 2030: 0.6<br>GCAM 5.3|R_MAC_45_n8",
          "JPN<br>GHG emission reduction in 2030: 0.6<br>GCAM 5.3|R_MAC_50_n8",
          "JPN<br>GHG emission reduction in 2030: 0.6<br>GEM-E3_V2021|EN_NPi2020_500",
          "JPN<br>GHG emission reduction in 2030: 0.6<br>GEM-E3_V2021|EN_NPi2020_600_COV",
          "JPN<br>GHG emission reduction in 2030: 0.3<br>IMAGE 3.2|SSP1_SPA1_19I_D_LB",
          "JPN<br>GHG emission reduction in 2030: nan<br>IMAGE 3.2|SSP1_SPA1_19I_LIRE_LB",
          "JPN<br>GHG emission reduction in 2030: nan<br>IMAGE 3.2|SSP1_SPA1_19I_RE_LB",
          "JPN<br>GHG emission reduction in 2030: nan<br>IMAGE 3.2|SSP2_SPA1_19I_D_LB",
          "JPN<br>GHG emission reduction in 2030: nan<br>IMAGE 3.2|SSP2_SPA1_19I_LIRE_LB",
          "JPN<br>GHG emission reduction in 2030: nan<br>IMAGE 3.2|SSP2_SPA1_19I_RE_LB",
          "JPN<br>GHG emission reduction in 2030: nan<br>IMAGE 3.2|SSP2_SPA2_19I_LI",
          "JPN<br>GHG emission reduction in 2030: nan<br>MESSAGE-GLOBIOM 1.0|ADVANCE_2020_1.5C-2100",
          "JPN<br>GHG emission reduction in 2030: nan<br>MESSAGE-GLOBIOM 1.0|EMF33_1.5C_cost100",
          "JPN<br>GHG emission reduction in 2030: nan<br>MESSAGE-GLOBIOM 1.0|EMF33_1.5C_full",
          "JPN<br>GHG emission reduction in 2030: nan<br>MESSAGE-GLOBIOM 1.0|SSP2-19",
          "JPN<br>GHG emission reduction in 2030: nan<br>MESSAGEix-GLOBIOM 1.0|CD-LINKS_NPi2020_400",
          "JPN<br>GHG emission reduction in 2030: nan<br>MESSAGEix-GLOBIOM 1.0|LowEnergyDemand_1.3_IPCC",
          "JPN<br>GHG emission reduction in 2030: nan<br>MESSAGEix-GLOBIOM_1.1|EN_NPi2020_450",
          "JPN<br>GHG emission reduction in 2030: nan<br>MESSAGEix-GLOBIOM_1.1|EN_NPi2020_500",
          "JPN<br>GHG emission reduction in 2030: 0.5<br>MESSAGEix-GLOBIOM_1.1|NGFS2_Divergent Net Zero Policies",
          "JPN<br>GHG emission reduction in 2030: 0.5<br>MESSAGEix-GLOBIOM_1.1|NGFS2_Net-Zero 2050",
          "JPN<br>GHG emission reduction in 2030: 0.5<br>MESSAGEix-GLOBIOM_1.1|EN_NPi2020_600_COV",
          "JPN<br>GHG emission reduction in 2030: 0.5<br>MESSAGEix-GLOBIOM_1.1|EN_NPi2020_600_DR4p",
          "JPN<br>GHG emission reduction in 2030: 0.5<br>MESSAGEix-GLOBIOM_1.1|EN_NPi2020_600_DR3p",
          "JPN<br>GHG emission reduction in 2030: 0.6<br>MESSAGEix-GLOBIOM_1.1|EN_NPi2020_600_DR2p",
          "JPN<br>GHG emission reduction in 2030: 0.6<br>MESSAGEix-GLOBIOM_1.1|EN_NPi2020_600_DR1p",
          "JPN<br>GHG emission reduction in 2030: 0.5<br>MESSAGEix-GLOBIOM_1.2|COV_GreenPush_550",
          "JPN<br>GHG emission reduction in 2030: 0.4<br>MESSAGEix-GLOBIOM_1.2|COV_NoPolicyNoCOVID_550",
          "JPN<br>GHG emission reduction in 2030: nan<br>MESSAGEix-GLOBIOM_1.2|COV_Restore_550",
          "JPN<br>GHG emission reduction in 2030: 0.4<br>MESSAGEix-GLOBIOM_1.2|COV_SelfReliance_550",
          "JPN<br>GHG emission reduction in 2030: 0.6<br>MESSAGEix-GLOBIOM_1.2|COV_SmartUse_550",
          "JPN<br>GHG emission reduction in 2030: 0.4<br>POLES ADVANCE|ADVANCE_2020_1.5C-2100",
          "JPN<br>GHG emission reduction in 2030: 0.5<br>POLES EMF33|EMF33_WB2C_cost100",
          "JPN<br>GHG emission reduction in 2030: 0.6<br>POLES EMF33|EMF33_WB2C_full",
          "JPN<br>GHG emission reduction in 2030: 0.5<br>POLES EMF33|EMF33_WB2C_nofuel",
          "JPN<br>GHG emission reduction in 2030: 0.6<br>REMIND 1.7|ADVANCE_2020_1.5C-2100",
          "JPN<br>GHG emission reduction in 2030: 0.5<br>REMIND 1.7|CEMICS-1.5-CDR12",
          "JPN<br>GHG emission reduction in 2030: 0.5<br>REMIND 1.7|CEMICS-1.5-CDR20",
          "JPN<br>GHG emission reduction in 2030: 0.6<br>REMIND 1.7|CEMICS-1.5-CDR8",
          "JPN<br>GHG emission reduction in 2030: 0.5<br>REMIND 1.7|CEMICS-2.0-CDR8",
          "JPN<br>GHG emission reduction in 2030: 0.6<br>REMIND 2.1|CEMICS_GDPgrowth_1p5",
          "JPN<br>GHG emission reduction in 2030: 0.5<br>REMIND 2.1|CEMICS_HotellingConst_1p5",
          "JPN<br>GHG emission reduction in 2030: 0.5<br>REMIND 2.1|CEMICS_Linear_1p5",
          "JPN<br>GHG emission reduction in 2030: 0.4<br>REMIND 2.1|CEMICS_opt_1p5",
          "JPN<br>GHG emission reduction in 2030: 0.6<br>REMIND 2.1|LeastTotalCost_LTC_brkLR15_SSP1_P50",
          "JPN<br>GHG emission reduction in 2030: 0.6<br>REMIND 2.1|R2p1_SSP1-PkBudg900",
          "JPN<br>GHG emission reduction in 2030: 0.6<br>REMIND 2.1|R2p1_SSP2-PkBudg900",
          "JPN<br>GHG emission reduction in 2030: 0.6<br>REMIND 2.1|R2p1_SSP5-PkBudg900",
          "JPN<br>GHG emission reduction in 2030: 0.6<br>REMIND-MAgPIE 1.5|SSP2-19",
          "JPN<br>GHG emission reduction in 2030: 0.6<br>REMIND-MAgPIE 1.7-3.0|CD-LINKS_NPi2020_400",
          "JPN<br>GHG emission reduction in 2030: 0.6<br>REMIND-MAgPIE 1.7-3.0|EMF33_1.5C_nofuel",
          "JPN<br>GHG emission reduction in 2030: 0.7<br>REMIND-MAgPIE 1.7-3.0|PEP_1p5C_full_eff",
          "JPN<br>GHG emission reduction in 2030: 0.6<br>REMIND-MAgPIE 1.7-3.0|PEP_1p5C_red_eff",
          "JPN<br>GHG emission reduction in 2030: nan<br>REMIND-MAgPIE 1.7-3.0|PEP_2C_red_eff",
          "JPN<br>GHG emission reduction in 2030: nan<br>REMIND-MAgPIE 1.7-3.0|SMP_2C_lifesty",
          "JPN<br>GHG emission reduction in 2030: nan<br>REMIND-MAgPIE 2.1-4.2|CEMICS_SSP1-1p5C-fullCDR",
          "JPN<br>GHG emission reduction in 2030: nan<br>REMIND-MAgPIE 2.1-4.2|CEMICS_SSP1-1p5C-minCDR",
          "JPN<br>GHG emission reduction in 2030: nan<br>REMIND-MAgPIE 2.1-4.2|CEMICS_SSP2-1p5C-fullCDR"
         ],
         "type": "box",
         "whiskerwidth": 0.2,
         "xaxis": "x",
         "y": [
          0.3793409429911982,
          0.3793409429911982,
          0.6099953959737012,
          0.7094857846667596,
          0.6130173720275144,
          0.466953267735886,
          0.35515835873754487,
          0.28628534704118297,
          0.41049384383480503,
          0.3354333293601944,
          0.6094603665333843,
          0.6492538944068216,
          0.6103490307110827,
          0.6088304056486673,
          0.6495502400042673,
          0.6137266422371994,
          0.2791695154442571,
          null,
          null,
          null,
          null,
          null,
          null,
          null,
          null,
          null,
          null,
          null,
          null,
          null,
          null,
          0.45306484771357025,
          0.4518964058978829,
          0.48087705322956276,
          0.4656900771698969,
          0.46849246718474014,
          0.583684154118047,
          0.5625878809580945,
          0.5478600478947315,
          0.4123487725706742,
          null,
          0.4097630013665678,
          0.6486092866058315,
          0.40694150013815067,
          0.5491341257152734,
          0.5960447157733595,
          0.5323199351955552,
          0.610231498931687,
          0.4911860388653256,
          0.4835984283837151,
          0.6476265414563187,
          0.47183633397025376,
          0.5728539955123186,
          0.5006538473263646,
          0.48315233307021077,
          0.4247746604445008,
          0.6271496501668908,
          0.6191734113015852,
          0.6209598971805115,
          0.6245644934154244,
          0.5787851294106497,
          0.5803342010898757,
          0.5577850262275285,
          0.6682149944050256,
          0.6310186933504883,
          null,
          null,
          null,
          null,
          null
         ],
         "yaxis": "y"
        },
        {
         "marker": {
          "color": "red",
          "colorscale": [
           [
            0,
            "rgb(158,1,66)"
           ],
           [
            0.1,
            "rgb(213,62,79)"
           ],
           [
            0.2,
            "rgb(244,109,67)"
           ],
           [
            0.3,
            "rgb(253,174,97)"
           ],
           [
            0.4,
            "rgb(254,224,139)"
           ],
           [
            0.5,
            "rgb(255,255,191)"
           ],
           [
            0.6,
            "rgb(230,245,152)"
           ],
           [
            0.7,
            "rgb(171,221,164)"
           ],
           [
            0.8,
            "rgb(102,194,165)"
           ],
           [
            0.9,
            "rgb(50,136,189)"
           ],
           [
            1,
            "rgb(94,79,162)"
           ]
          ],
          "line": {
           "color": "black",
           "width": 0.2
          },
          "size": 25,
          "symbol": "circle"
         },
         "mode": "markers+text",
         "showlegend": false,
         "text": "GF",
         "textfont": {
          "color": "black",
          "family": "Arial black",
          "size": 13
         },
         "type": "scatter",
         "x": [
          "JPN"
         ],
         "xaxis": "x",
         "y": [
          0.4462169318870867
         ],
         "yaxis": "y"
        },
        {
         "marker": {
          "color": "red",
          "colorscale": [
           [
            0,
            "rgb(158,1,66)"
           ],
           [
            0.1,
            "rgb(213,62,79)"
           ],
           [
            0.2,
            "rgb(244,109,67)"
           ],
           [
            0.3,
            "rgb(253,174,97)"
           ],
           [
            0.4,
            "rgb(254,224,139)"
           ],
           [
            0.5,
            "rgb(255,255,191)"
           ],
           [
            0.6,
            "rgb(230,245,152)"
           ],
           [
            0.7,
            "rgb(171,221,164)"
           ],
           [
            0.8,
            "rgb(102,194,165)"
           ],
           [
            0.9,
            "rgb(50,136,189)"
           ],
           [
            1,
            "rgb(94,79,162)"
           ]
          ],
          "line": {
           "color": "black",
           "width": 0.2
          },
          "size": 25,
          "symbol": "square"
         },
         "mode": "markers+text",
         "showlegend": false,
         "text": "PC",
         "textfont": {
          "color": "black",
          "family": "Arial black",
          "size": 13
         },
         "type": "scatter",
         "x": [
          "JPN"
         ],
         "xaxis": "x",
         "y": [
          0.7091984597351138
         ],
         "yaxis": "y"
        },
        {
         "marker": {
          "color": "red",
          "colorscale": [
           [
            0,
            "rgb(158,1,66)"
           ],
           [
            0.1,
            "rgb(213,62,79)"
           ],
           [
            0.2,
            "rgb(244,109,67)"
           ],
           [
            0.3,
            "rgb(253,174,97)"
           ],
           [
            0.4,
            "rgb(254,224,139)"
           ],
           [
            0.5,
            "rgb(255,255,191)"
           ],
           [
            0.6,
            "rgb(230,245,152)"
           ],
           [
            0.7,
            "rgb(171,221,164)"
           ],
           [
            0.8,
            "rgb(102,194,165)"
           ],
           [
            0.9,
            "rgb(50,136,189)"
           ],
           [
            1,
            "rgb(94,79,162)"
           ]
          ],
          "line": {
           "color": "black",
           "width": 0.2
          },
          "size": 25,
          "symbol": "diamond"
         },
         "mode": "markers+text",
         "showlegend": false,
         "text": "PCC",
         "textfont": {
          "color": "black",
          "family": "Arial black",
          "size": 13
         },
         "type": "scatter",
         "x": [
          "JPN"
         ],
         "xaxis": "x",
         "y": [
          0.5777076958111002
         ],
         "yaxis": "y"
        },
        {
         "marker": {
          "color": "red",
          "colorscale": [
           [
            0,
            "rgb(158,1,66)"
           ],
           [
            0.1,
            "rgb(213,62,79)"
           ],
           [
            0.2,
            "rgb(244,109,67)"
           ],
           [
            0.3,
            "rgb(253,174,97)"
           ],
           [
            0.4,
            "rgb(254,224,139)"
           ],
           [
            0.5,
            "rgb(255,255,191)"
           ],
           [
            0.6,
            "rgb(230,245,152)"
           ],
           [
            0.7,
            "rgb(171,221,164)"
           ],
           [
            0.8,
            "rgb(102,194,165)"
           ],
           [
            0.9,
            "rgb(50,136,189)"
           ],
           [
            1,
            "rgb(94,79,162)"
           ]
          ],
          "line": {
           "color": "black",
           "width": 0.2
          },
          "size": 25,
          "symbol": "triangle-up"
         },
         "mode": "markers+text",
         "showlegend": false,
         "text": "NDC",
         "textfont": {
          "color": "black",
          "family": "Arial black",
          "size": 13
         },
         "type": "scatter",
         "x": [
          "JPN"
         ],
         "xaxis": "x",
         "y": [
          0.419184454102352
         ],
         "yaxis": "y"
        },
        {
         "boxpoints": "all",
         "fillcolor": "red",
         "hovertemplate": "%{text}",
         "jitter": 0.5,
         "line": {
          "color": "black",
          "width": 0.5
         },
         "marker": {
          "color": "black",
          "size": 3
         },
         "name": "JPN",
         "pointpos": -1.8,
         "showlegend": false,
         "text": [
          "JPN<br>Policy costs in 2030: 130.7<br>AIM/CGE 2.1|CD-LINKS_NPi2020_400",
          "JPN<br>Policy costs in 2030: 130.7<br>AIM/CGE 2.2|EN_NPi2020_300f",
          "JPN<br>Policy costs in 2030: nan<br>AIM/CGE 2.2|EN_NPi2020_600",
          "JPN<br>Policy costs in 2030: nan<br>AIM/Hub-Global 2.0|1.5C",
          "JPN<br>Policy costs in 2030: nan<br>C-ROADS-5.005|Ratchet-1.5-limCDR-noOS",
          "JPN<br>Policy costs in 2030: nan<br>C-ROADS-5.005|Ratchet-1.5-noCDR",
          "JPN<br>Policy costs in 2030: nan<br>C-ROADS-5.005|Ratchet-1.5-noCDR-noOS",
          "JPN<br>Policy costs in 2030: nan<br>COFFEE 1.1|EN_NPi2020_400",
          "JPN<br>Policy costs in 2030: 21.2<br>GCAM 4.2|SSP1-19",
          "JPN<br>Policy costs in 2030: 15.0<br>GCAM 5.3|R_MAC_30_n0",
          "JPN<br>Policy costs in 2030: nan<br>GCAM 5.3|R_MAC_35_n8",
          "JPN<br>Policy costs in 2030: nan<br>GCAM 5.3|R_MAC_40_n8",
          "JPN<br>Policy costs in 2030: nan<br>GCAM 5.3|R_MAC_45_n8",
          "JPN<br>Policy costs in 2030: nan<br>GCAM 5.3|R_MAC_50_n8",
          "JPN<br>Policy costs in 2030: nan<br>GEM-E3_V2021|EN_NPi2020_500",
          "JPN<br>Policy costs in 2030: nan<br>GEM-E3_V2021|EN_NPi2020_600_COV",
          "JPN<br>Policy costs in 2030: nan<br>IMAGE 3.2|SSP1_SPA1_19I_D_LB",
          "JPN<br>Policy costs in 2030: nan<br>IMAGE 3.2|SSP1_SPA1_19I_LIRE_LB",
          "JPN<br>Policy costs in 2030: nan<br>IMAGE 3.2|SSP1_SPA1_19I_RE_LB",
          "JPN<br>Policy costs in 2030: nan<br>IMAGE 3.2|SSP2_SPA1_19I_D_LB",
          "JPN<br>Policy costs in 2030: nan<br>IMAGE 3.2|SSP2_SPA1_19I_LIRE_LB",
          "JPN<br>Policy costs in 2030: nan<br>IMAGE 3.2|SSP2_SPA1_19I_RE_LB",
          "JPN<br>Policy costs in 2030: nan<br>IMAGE 3.2|SSP2_SPA2_19I_LI",
          "JPN<br>Policy costs in 2030: nan<br>MESSAGE-GLOBIOM 1.0|ADVANCE_2020_1.5C-2100",
          "JPN<br>Policy costs in 2030: nan<br>MESSAGE-GLOBIOM 1.0|EMF33_1.5C_cost100",
          "JPN<br>Policy costs in 2030: nan<br>MESSAGE-GLOBIOM 1.0|EMF33_1.5C_full",
          "JPN<br>Policy costs in 2030: nan<br>MESSAGE-GLOBIOM 1.0|SSP2-19",
          "JPN<br>Policy costs in 2030: nan<br>MESSAGEix-GLOBIOM 1.0|CD-LINKS_NPi2020_400",
          "JPN<br>Policy costs in 2030: nan<br>MESSAGEix-GLOBIOM 1.0|LowEnergyDemand_1.3_IPCC",
          "JPN<br>Policy costs in 2030: nan<br>MESSAGEix-GLOBIOM_1.1|EN_NPi2020_450",
          "JPN<br>Policy costs in 2030: nan<br>MESSAGEix-GLOBIOM_1.1|EN_NPi2020_500",
          "JPN<br>Policy costs in 2030: nan<br>MESSAGEix-GLOBIOM_1.1|NGFS2_Divergent Net Zero Policies",
          "JPN<br>Policy costs in 2030: nan<br>MESSAGEix-GLOBIOM_1.1|NGFS2_Net-Zero 2050",
          "JPN<br>Policy costs in 2030: nan<br>MESSAGEix-GLOBIOM_1.1|EN_NPi2020_600_COV",
          "JPN<br>Policy costs in 2030: nan<br>MESSAGEix-GLOBIOM_1.1|EN_NPi2020_600_DR4p",
          "JPN<br>Policy costs in 2030: nan<br>MESSAGEix-GLOBIOM_1.1|EN_NPi2020_600_DR3p",
          "JPN<br>Policy costs in 2030: nan<br>MESSAGEix-GLOBIOM_1.1|EN_NPi2020_600_DR2p",
          "JPN<br>Policy costs in 2030: nan<br>MESSAGEix-GLOBIOM_1.1|EN_NPi2020_600_DR1p",
          "JPN<br>Policy costs in 2030: nan<br>MESSAGEix-GLOBIOM_1.2|COV_GreenPush_550",
          "JPN<br>Policy costs in 2030: 76.9<br>MESSAGEix-GLOBIOM_1.2|COV_NoPolicyNoCOVID_550",
          "JPN<br>Policy costs in 2030: nan<br>MESSAGEix-GLOBIOM_1.2|COV_Restore_550",
          "JPN<br>Policy costs in 2030: 34.2<br>MESSAGEix-GLOBIOM_1.2|COV_SelfReliance_550",
          "JPN<br>Policy costs in 2030: 53.9<br>MESSAGEix-GLOBIOM_1.2|COV_SmartUse_550",
          "JPN<br>Policy costs in 2030: 20.5<br>POLES ADVANCE|ADVANCE_2020_1.5C-2100",
          "JPN<br>Policy costs in 2030: nan<br>POLES EMF33|EMF33_WB2C_cost100",
          "JPN<br>Policy costs in 2030: nan<br>POLES EMF33|EMF33_WB2C_full",
          "JPN<br>Policy costs in 2030: nan<br>POLES EMF33|EMF33_WB2C_nofuel",
          "JPN<br>Policy costs in 2030: nan<br>REMIND 1.7|ADVANCE_2020_1.5C-2100",
          "JPN<br>Policy costs in 2030: nan<br>REMIND 1.7|CEMICS-1.5-CDR12",
          "JPN<br>Policy costs in 2030: nan<br>REMIND 1.7|CEMICS-1.5-CDR20",
          "JPN<br>Policy costs in 2030: nan<br>REMIND 1.7|CEMICS-1.5-CDR8",
          "JPN<br>Policy costs in 2030: nan<br>REMIND 1.7|CEMICS-2.0-CDR8",
          "JPN<br>Policy costs in 2030: nan<br>REMIND 2.1|CEMICS_GDPgrowth_1p5",
          "JPN<br>Policy costs in 2030: nan<br>REMIND 2.1|CEMICS_HotellingConst_1p5",
          "JPN<br>Policy costs in 2030: nan<br>REMIND 2.1|CEMICS_Linear_1p5",
          "JPN<br>Policy costs in 2030: nan<br>REMIND 2.1|CEMICS_opt_1p5",
          "JPN<br>Policy costs in 2030: nan<br>REMIND 2.1|LeastTotalCost_LTC_brkLR15_SSP1_P50",
          "JPN<br>Policy costs in 2030: nan<br>REMIND 2.1|R2p1_SSP1-PkBudg900",
          "JPN<br>Policy costs in 2030: nan<br>REMIND 2.1|R2p1_SSP2-PkBudg900",
          "JPN<br>Policy costs in 2030: nan<br>REMIND 2.1|R2p1_SSP5-PkBudg900",
          "JPN<br>Policy costs in 2030: nan<br>REMIND-MAgPIE 1.5|SSP2-19",
          "JPN<br>Policy costs in 2030: nan<br>REMIND-MAgPIE 1.7-3.0|CD-LINKS_NPi2020_400",
          "JPN<br>Policy costs in 2030: nan<br>REMIND-MAgPIE 1.7-3.0|EMF33_1.5C_nofuel",
          "JPN<br>Policy costs in 2030: -99.6<br>REMIND-MAgPIE 1.7-3.0|PEP_1p5C_full_eff",
          "JPN<br>Policy costs in 2030: -104.9<br>REMIND-MAgPIE 1.7-3.0|PEP_1p5C_red_eff",
          "JPN<br>Policy costs in 2030: nan<br>REMIND-MAgPIE 1.7-3.0|PEP_2C_red_eff",
          "JPN<br>Policy costs in 2030: nan<br>REMIND-MAgPIE 1.7-3.0|SMP_2C_lifesty",
          "JPN<br>Policy costs in 2030: nan<br>REMIND-MAgPIE 2.1-4.2|CEMICS_SSP1-1p5C-fullCDR",
          "JPN<br>Policy costs in 2030: nan<br>REMIND-MAgPIE 2.1-4.2|CEMICS_SSP1-1p5C-minCDR",
          "JPN<br>Policy costs in 2030: nan<br>REMIND-MAgPIE 2.1-4.2|CEMICS_SSP2-1p5C-fullCDR"
         ],
         "type": "box",
         "whiskerwidth": 0.2,
         "xaxis": "x2",
         "y": [
          130.7023,
          130.7023,
          null,
          null,
          null,
          null,
          null,
          null,
          21.19060513360577,
          14.950083945201763,
          null,
          null,
          null,
          null,
          null,
          null,
          null,
          null,
          null,
          null,
          null,
          null,
          null,
          null,
          null,
          null,
          null,
          null,
          null,
          null,
          null,
          null,
          null,
          null,
          null,
          null,
          null,
          null,
          null,
          76.8879,
          null,
          34.1554000000006,
          53.8624,
          20.5304000000006,
          null,
          null,
          null,
          null,
          null,
          null,
          null,
          null,
          null,
          null,
          null,
          null,
          null,
          null,
          null,
          null,
          null,
          null,
          null,
          -99.6185,
          -104.9008,
          null,
          null,
          null,
          null,
          null
         ],
         "yaxis": "y2"
        },
        {
         "boxpoints": "all",
         "fillcolor": "red",
         "hovertemplate": "%{text}",
         "jitter": 0.5,
         "line": {
          "color": "black",
          "width": 0.5
         },
         "marker": {
          "color": "black",
          "size": 3
         },
         "name": "JPN",
         "pointpos": -1.8,
         "showlegend": false,
         "text": [
          "JPN<br>CCS in 2030: 100.2<br>AIM/CGE 2.1|CD-LINKS_NPi2020_400",
          "JPN<br>CCS in 2030: 100.2<br>AIM/CGE 2.2|EN_NPi2020_300f",
          "JPN<br>CCS in 2030: 25.0<br>AIM/CGE 2.2|EN_NPi2020_600",
          "JPN<br>CCS in 2030: 399.7<br>AIM/Hub-Global 2.0|1.5C",
          "JPN<br>CCS in 2030: 325.8<br>C-ROADS-5.005|Ratchet-1.5-limCDR-noOS",
          "JPN<br>CCS in 2030: 217.2<br>C-ROADS-5.005|Ratchet-1.5-noCDR",
          "JPN<br>CCS in 2030: 152.5<br>C-ROADS-5.005|Ratchet-1.5-noCDR-noOS",
          "JPN<br>CCS in 2030: 116.2<br>COFFEE 1.1|EN_NPi2020_400",
          "JPN<br>CCS in 2030: 0.0<br>GCAM 4.2|SSP1-19",
          "JPN<br>CCS in 2030: 0.0<br>GCAM 5.3|R_MAC_30_n0",
          "JPN<br>CCS in 2030: 183.7<br>GCAM 5.3|R_MAC_35_n8",
          "JPN<br>CCS in 2030: 125.7<br>GCAM 5.3|R_MAC_40_n8",
          "JPN<br>CCS in 2030: 193.3<br>GCAM 5.3|R_MAC_45_n8",
          "JPN<br>CCS in 2030: 113.7<br>GCAM 5.3|R_MAC_50_n8",
          "JPN<br>CCS in 2030: 128.4<br>GEM-E3_V2021|EN_NPi2020_500",
          "JPN<br>CCS in 2030: 118.2<br>GEM-E3_V2021|EN_NPi2020_600_COV",
          "JPN<br>CCS in 2030: 11.1<br>IMAGE 3.2|SSP1_SPA1_19I_D_LB",
          "JPN<br>CCS in 2030: nan<br>IMAGE 3.2|SSP1_SPA1_19I_LIRE_LB",
          "JPN<br>CCS in 2030: nan<br>IMAGE 3.2|SSP1_SPA1_19I_RE_LB",
          "JPN<br>CCS in 2030: nan<br>IMAGE 3.2|SSP2_SPA1_19I_D_LB",
          "JPN<br>CCS in 2030: nan<br>IMAGE 3.2|SSP2_SPA1_19I_LIRE_LB",
          "JPN<br>CCS in 2030: nan<br>IMAGE 3.2|SSP2_SPA1_19I_RE_LB",
          "JPN<br>CCS in 2030: nan<br>IMAGE 3.2|SSP2_SPA2_19I_LI",
          "JPN<br>CCS in 2030: nan<br>MESSAGE-GLOBIOM 1.0|ADVANCE_2020_1.5C-2100",
          "JPN<br>CCS in 2030: nan<br>MESSAGE-GLOBIOM 1.0|EMF33_1.5C_cost100",
          "JPN<br>CCS in 2030: nan<br>MESSAGE-GLOBIOM 1.0|EMF33_1.5C_full",
          "JPN<br>CCS in 2030: nan<br>MESSAGE-GLOBIOM 1.0|SSP2-19",
          "JPN<br>CCS in 2030: nan<br>MESSAGEix-GLOBIOM 1.0|CD-LINKS_NPi2020_400",
          "JPN<br>CCS in 2030: nan<br>MESSAGEix-GLOBIOM 1.0|LowEnergyDemand_1.3_IPCC",
          "JPN<br>CCS in 2030: nan<br>MESSAGEix-GLOBIOM_1.1|EN_NPi2020_450",
          "JPN<br>CCS in 2030: nan<br>MESSAGEix-GLOBIOM_1.1|EN_NPi2020_500",
          "JPN<br>CCS in 2030: 27.5<br>MESSAGEix-GLOBIOM_1.1|NGFS2_Divergent Net Zero Policies",
          "JPN<br>CCS in 2030: 31.2<br>MESSAGEix-GLOBIOM_1.1|NGFS2_Net-Zero 2050",
          "JPN<br>CCS in 2030: 33.6<br>MESSAGEix-GLOBIOM_1.1|EN_NPi2020_600_COV",
          "JPN<br>CCS in 2030: 31.7<br>MESSAGEix-GLOBIOM_1.1|EN_NPi2020_600_DR4p",
          "JPN<br>CCS in 2030: 30.1<br>MESSAGEix-GLOBIOM_1.1|EN_NPi2020_600_DR3p",
          "JPN<br>CCS in 2030: 31.3<br>MESSAGEix-GLOBIOM_1.1|EN_NPi2020_600_DR2p",
          "JPN<br>CCS in 2030: 37.8<br>MESSAGEix-GLOBIOM_1.1|EN_NPi2020_600_DR1p",
          "JPN<br>CCS in 2030: 55.6<br>MESSAGEix-GLOBIOM_1.2|COV_GreenPush_550",
          "JPN<br>CCS in 2030: 70.6<br>MESSAGEix-GLOBIOM_1.2|COV_NoPolicyNoCOVID_550",
          "JPN<br>CCS in 2030: nan<br>MESSAGEix-GLOBIOM_1.2|COV_Restore_550",
          "JPN<br>CCS in 2030: 49.6<br>MESSAGEix-GLOBIOM_1.2|COV_SelfReliance_550",
          "JPN<br>CCS in 2030: 79.3<br>MESSAGEix-GLOBIOM_1.2|COV_SmartUse_550",
          "JPN<br>CCS in 2030: 26.8<br>POLES ADVANCE|ADVANCE_2020_1.5C-2100",
          "JPN<br>CCS in 2030: 29.5<br>POLES EMF33|EMF33_WB2C_cost100",
          "JPN<br>CCS in 2030: 25.8<br>POLES EMF33|EMF33_WB2C_full",
          "JPN<br>CCS in 2030: 35.7<br>POLES EMF33|EMF33_WB2C_nofuel",
          "JPN<br>CCS in 2030: 28.1<br>REMIND 1.7|ADVANCE_2020_1.5C-2100",
          "JPN<br>CCS in 2030: 28.2<br>REMIND 1.7|CEMICS-1.5-CDR12",
          "JPN<br>CCS in 2030: 27.6<br>REMIND 1.7|CEMICS-1.5-CDR20",
          "JPN<br>CCS in 2030: 51.4<br>REMIND 1.7|CEMICS-1.5-CDR8",
          "JPN<br>CCS in 2030: 27.5<br>REMIND 1.7|CEMICS-2.0-CDR8",
          "JPN<br>CCS in 2030: 38.5<br>REMIND 2.1|CEMICS_GDPgrowth_1p5",
          "JPN<br>CCS in 2030: 29.3<br>REMIND 2.1|CEMICS_HotellingConst_1p5",
          "JPN<br>CCS in 2030: 26.2<br>REMIND 2.1|CEMICS_Linear_1p5",
          "JPN<br>CCS in 2030: 17.0<br>REMIND 2.1|CEMICS_opt_1p5",
          "JPN<br>CCS in 2030: 45.7<br>REMIND 2.1|LeastTotalCost_LTC_brkLR15_SSP1_P50",
          "JPN<br>CCS in 2030: 51.8<br>REMIND 2.1|R2p1_SSP1-PkBudg900",
          "JPN<br>CCS in 2030: 51.8<br>REMIND 2.1|R2p1_SSP2-PkBudg900",
          "JPN<br>CCS in 2030: 52.2<br>REMIND 2.1|R2p1_SSP5-PkBudg900",
          "JPN<br>CCS in 2030: 19.2<br>REMIND-MAgPIE 1.5|SSP2-19",
          "JPN<br>CCS in 2030: 30.4<br>REMIND-MAgPIE 1.7-3.0|CD-LINKS_NPi2020_400",
          "JPN<br>CCS in 2030: 36.5<br>REMIND-MAgPIE 1.7-3.0|EMF33_1.5C_nofuel",
          "JPN<br>CCS in 2030: 34.4<br>REMIND-MAgPIE 1.7-3.0|PEP_1p5C_full_eff",
          "JPN<br>CCS in 2030: 51.5<br>REMIND-MAgPIE 1.7-3.0|PEP_1p5C_red_eff",
          "JPN<br>CCS in 2030: nan<br>REMIND-MAgPIE 1.7-3.0|PEP_2C_red_eff",
          "JPN<br>CCS in 2030: nan<br>REMIND-MAgPIE 1.7-3.0|SMP_2C_lifesty",
          "JPN<br>CCS in 2030: nan<br>REMIND-MAgPIE 2.1-4.2|CEMICS_SSP1-1p5C-fullCDR",
          "JPN<br>CCS in 2030: nan<br>REMIND-MAgPIE 2.1-4.2|CEMICS_SSP1-1p5C-minCDR",
          "JPN<br>CCS in 2030: nan<br>REMIND-MAgPIE 2.1-4.2|CEMICS_SSP2-1p5C-fullCDR"
         ],
         "type": "box",
         "whiskerwidth": 0.2,
         "xaxis": "x3",
         "y": [
          100.2108,
          100.2108,
          24.99521,
          399.659267732657,
          325.777453865734,
          217.213176559317,
          152.472426334462,
          116.17360993457,
          0.0016586017987139,
          0.00150679198591,
          183.6933882088817,
          125.6561982550936,
          193.3074704734748,
          113.7353801961787,
          128.4324781166258,
          118.1880850590659,
          11.104912508941425,
          null,
          null,
          null,
          null,
          null,
          null,
          null,
          null,
          null,
          null,
          null,
          null,
          null,
          null,
          27.5363,
          31.1724,
          33.5503,
          31.7344,
          30.1486,
          31.3004,
          37.8163,
          55.605,
          70.6499,
          null,
          49.5976,
          79.3008,
          26.7956,
          29.5042,
          25.8493,
          35.6614,
          28.0624,
          28.2028,
          27.5575,
          51.3979,
          27.4574,
          38.4853,
          29.2513,
          26.2006,
          17.0161,
          45.7203,
          51.8438,
          51.7916,
          52.2049,
          19.156,
          30.4469,
          36.5029,
          34.3848,
          51.4638,
          null,
          null,
          null,
          null,
          null
         ],
         "yaxis": "y3"
        },
        {
         "boxpoints": "all",
         "fillcolor": "red",
         "hovertemplate": "%{text}",
         "jitter": 0.5,
         "line": {
          "color": "black",
          "width": 0.5
         },
         "marker": {
          "color": "black",
          "size": 3
         },
         "name": "JPN",
         "pointpos": -1.8,
         "showlegend": false,
         "text": [
          "JPN<br>Primary biomass traded in 2030: -0.0<br>AIM/CGE 2.1|CD-LINKS_NPi2020_400",
          "JPN<br>Primary biomass traded in 2030: -0.0<br>AIM/CGE 2.2|EN_NPi2020_300f",
          "JPN<br>Primary biomass traded in 2030: 0.0<br>AIM/CGE 2.2|EN_NPi2020_600",
          "JPN<br>Primary biomass traded in 2030: nan<br>AIM/Hub-Global 2.0|1.5C",
          "JPN<br>Primary biomass traded in 2030: nan<br>C-ROADS-5.005|Ratchet-1.5-limCDR-noOS",
          "JPN<br>Primary biomass traded in 2030: nan<br>C-ROADS-5.005|Ratchet-1.5-noCDR",
          "JPN<br>Primary biomass traded in 2030: nan<br>C-ROADS-5.005|Ratchet-1.5-noCDR-noOS",
          "JPN<br>Primary biomass traded in 2030: nan<br>COFFEE 1.1|EN_NPi2020_400",
          "JPN<br>Primary biomass traded in 2030: nan<br>GCAM 4.2|SSP1-19",
          "JPN<br>Primary biomass traded in 2030: nan<br>GCAM 5.3|R_MAC_30_n0",
          "JPN<br>Primary biomass traded in 2030: -0.6<br>GCAM 5.3|R_MAC_35_n8",
          "JPN<br>Primary biomass traded in 2030: -0.7<br>GCAM 5.3|R_MAC_40_n8",
          "JPN<br>Primary biomass traded in 2030: -0.5<br>GCAM 5.3|R_MAC_45_n8",
          "JPN<br>Primary biomass traded in 2030: -0.7<br>GCAM 5.3|R_MAC_50_n8",
          "JPN<br>Primary biomass traded in 2030: -0.7<br>GEM-E3_V2021|EN_NPi2020_500",
          "JPN<br>Primary biomass traded in 2030: -0.7<br>GEM-E3_V2021|EN_NPi2020_600_COV",
          "JPN<br>Primary biomass traded in 2030: -0.7<br>IMAGE 3.2|SSP1_SPA1_19I_D_LB",
          "JPN<br>Primary biomass traded in 2030: nan<br>IMAGE 3.2|SSP1_SPA1_19I_LIRE_LB",
          "JPN<br>Primary biomass traded in 2030: nan<br>IMAGE 3.2|SSP1_SPA1_19I_RE_LB",
          "JPN<br>Primary biomass traded in 2030: nan<br>IMAGE 3.2|SSP2_SPA1_19I_D_LB",
          "JPN<br>Primary biomass traded in 2030: nan<br>IMAGE 3.2|SSP2_SPA1_19I_LIRE_LB",
          "JPN<br>Primary biomass traded in 2030: nan<br>IMAGE 3.2|SSP2_SPA1_19I_RE_LB",
          "JPN<br>Primary biomass traded in 2030: nan<br>IMAGE 3.2|SSP2_SPA2_19I_LI",
          "JPN<br>Primary biomass traded in 2030: nan<br>MESSAGE-GLOBIOM 1.0|ADVANCE_2020_1.5C-2100",
          "JPN<br>Primary biomass traded in 2030: nan<br>MESSAGE-GLOBIOM 1.0|EMF33_1.5C_cost100",
          "JPN<br>Primary biomass traded in 2030: nan<br>MESSAGE-GLOBIOM 1.0|EMF33_1.5C_full",
          "JPN<br>Primary biomass traded in 2030: nan<br>MESSAGE-GLOBIOM 1.0|SSP2-19",
          "JPN<br>Primary biomass traded in 2030: nan<br>MESSAGEix-GLOBIOM 1.0|CD-LINKS_NPi2020_400",
          "JPN<br>Primary biomass traded in 2030: nan<br>MESSAGEix-GLOBIOM 1.0|LowEnergyDemand_1.3_IPCC",
          "JPN<br>Primary biomass traded in 2030: nan<br>MESSAGEix-GLOBIOM_1.1|EN_NPi2020_450",
          "JPN<br>Primary biomass traded in 2030: nan<br>MESSAGEix-GLOBIOM_1.1|EN_NPi2020_500",
          "JPN<br>Primary biomass traded in 2030: 0.3<br>MESSAGEix-GLOBIOM_1.1|NGFS2_Divergent Net Zero Policies",
          "JPN<br>Primary biomass traded in 2030: 0.2<br>MESSAGEix-GLOBIOM_1.1|NGFS2_Net-Zero 2050",
          "JPN<br>Primary biomass traded in 2030: 0.3<br>MESSAGEix-GLOBIOM_1.1|EN_NPi2020_600_COV",
          "JPN<br>Primary biomass traded in 2030: 0.2<br>MESSAGEix-GLOBIOM_1.1|EN_NPi2020_600_DR4p",
          "JPN<br>Primary biomass traded in 2030: 0.2<br>MESSAGEix-GLOBIOM_1.1|EN_NPi2020_600_DR3p",
          "JPN<br>Primary biomass traded in 2030: 0.1<br>MESSAGEix-GLOBIOM_1.1|EN_NPi2020_600_DR2p",
          "JPN<br>Primary biomass traded in 2030: 0.2<br>MESSAGEix-GLOBIOM_1.1|EN_NPi2020_600_DR1p",
          "JPN<br>Primary biomass traded in 2030: 0.2<br>MESSAGEix-GLOBIOM_1.2|COV_GreenPush_550",
          "JPN<br>Primary biomass traded in 2030: -0.7<br>MESSAGEix-GLOBIOM_1.2|COV_NoPolicyNoCOVID_550",
          "JPN<br>Primary biomass traded in 2030: nan<br>MESSAGEix-GLOBIOM_1.2|COV_Restore_550",
          "JPN<br>Primary biomass traded in 2030: -0.7<br>MESSAGEix-GLOBIOM_1.2|COV_SelfReliance_550",
          "JPN<br>Primary biomass traded in 2030: -1.0<br>MESSAGEix-GLOBIOM_1.2|COV_SmartUse_550",
          "JPN<br>Primary biomass traded in 2030: -0.7<br>POLES ADVANCE|ADVANCE_2020_1.5C-2100",
          "JPN<br>Primary biomass traded in 2030: -0.0<br>POLES EMF33|EMF33_WB2C_cost100",
          "JPN<br>Primary biomass traded in 2030: -0.7<br>POLES EMF33|EMF33_WB2C_full",
          "JPN<br>Primary biomass traded in 2030: 0.2<br>POLES EMF33|EMF33_WB2C_nofuel",
          "JPN<br>Primary biomass traded in 2030: -0.8<br>REMIND 1.7|ADVANCE_2020_1.5C-2100",
          "JPN<br>Primary biomass traded in 2030: 0.0<br>REMIND 1.7|CEMICS-1.5-CDR12",
          "JPN<br>Primary biomass traded in 2030: 0.0<br>REMIND 1.7|CEMICS-1.5-CDR20",
          "JPN<br>Primary biomass traded in 2030: -0.2<br>REMIND 1.7|CEMICS-1.5-CDR8",
          "JPN<br>Primary biomass traded in 2030: 0.0<br>REMIND 1.7|CEMICS-2.0-CDR8",
          "JPN<br>Primary biomass traded in 2030: -0.1<br>REMIND 2.1|CEMICS_GDPgrowth_1p5",
          "JPN<br>Primary biomass traded in 2030: 0.0<br>REMIND 2.1|CEMICS_HotellingConst_1p5",
          "JPN<br>Primary biomass traded in 2030: 0.3<br>REMIND 2.1|CEMICS_Linear_1p5",
          "JPN<br>Primary biomass traded in 2030: 0.2<br>REMIND 2.1|CEMICS_opt_1p5",
          "JPN<br>Primary biomass traded in 2030: 0.0<br>REMIND 2.1|LeastTotalCost_LTC_brkLR15_SSP1_P50",
          "JPN<br>Primary biomass traded in 2030: 0.0<br>REMIND 2.1|R2p1_SSP1-PkBudg900",
          "JPN<br>Primary biomass traded in 2030: 0.0<br>REMIND 2.1|R2p1_SSP2-PkBudg900",
          "JPN<br>Primary biomass traded in 2030: 0.0<br>REMIND 2.1|R2p1_SSP5-PkBudg900",
          "JPN<br>Primary biomass traded in 2030: -0.3<br>REMIND-MAgPIE 1.5|SSP2-19",
          "JPN<br>Primary biomass traded in 2030: 0.1<br>REMIND-MAgPIE 1.7-3.0|CD-LINKS_NPi2020_400",
          "JPN<br>Primary biomass traded in 2030: 0.3<br>REMIND-MAgPIE 1.7-3.0|EMF33_1.5C_nofuel",
          "JPN<br>Primary biomass traded in 2030: -0.4<br>REMIND-MAgPIE 1.7-3.0|PEP_1p5C_full_eff",
          "JPN<br>Primary biomass traded in 2030: 0.0<br>REMIND-MAgPIE 1.7-3.0|PEP_1p5C_red_eff",
          "JPN<br>Primary biomass traded in 2030: nan<br>REMIND-MAgPIE 1.7-3.0|PEP_2C_red_eff",
          "JPN<br>Primary biomass traded in 2030: nan<br>REMIND-MAgPIE 1.7-3.0|SMP_2C_lifesty",
          "JPN<br>Primary biomass traded in 2030: nan<br>REMIND-MAgPIE 2.1-4.2|CEMICS_SSP1-1p5C-fullCDR",
          "JPN<br>Primary biomass traded in 2030: nan<br>REMIND-MAgPIE 2.1-4.2|CEMICS_SSP1-1p5C-minCDR",
          "JPN<br>Primary biomass traded in 2030: nan<br>REMIND-MAgPIE 2.1-4.2|CEMICS_SSP2-1p5C-fullCDR"
         ],
         "type": "box",
         "whiskerwidth": 0.2,
         "xaxis": "x4",
         "y": [
          -0.0058,
          -0.0058,
          0,
          null,
          null,
          null,
          null,
          null,
          null,
          null,
          -0.5625059814453125,
          -0.6818034057617187,
          -0.532710205078125,
          -0.7098037719726563,
          -0.6997152709960938,
          -0.6735294799804687,
          -0.7187493286132812,
          null,
          null,
          null,
          null,
          null,
          null,
          null,
          null,
          null,
          null,
          null,
          null,
          null,
          null,
          0.3264,
          0.2499,
          0.2781,
          0.2089,
          0.1966,
          0.1293,
          0.2184,
          0.1713,
          -0.6567000000000001,
          null,
          -0.6629,
          -0.957,
          -0.68,
          -0.025,
          -0.6682,
          0.225,
          -0.8329,
          0.0002,
          0.0002,
          -0.181,
          0.0002,
          -0.076,
          0.0002,
          0.2702,
          0.2419,
          0.0004,
          0.0004,
          0.0004,
          0.0004,
          -0.3023,
          0.1326,
          0.2546,
          -0.383,
          0.0004,
          null,
          null,
          null,
          null,
          null
         ],
         "yaxis": "y4"
        },
        {
         "boxpoints": "all",
         "fillcolor": "darkgrey",
         "hovertemplate": "%{text}",
         "jitter": 0.5,
         "line": {
          "color": "black",
          "width": 0.5
         },
         "marker": {
          "color": "black",
          "size": 3
         },
         "name": "COL",
         "pointpos": -1.8,
         "showlegend": false,
         "text": [
          "COL<br>GHG emission reduction in 2030: nan<br>AIM/CGE 2.1|CD-LINKS_NPi2020_400",
          "COL<br>GHG emission reduction in 2030: nan<br>AIM/CGE 2.2|EN_NPi2020_300f",
          "COL<br>GHG emission reduction in 2030: nan<br>AIM/CGE 2.2|EN_NPi2020_600",
          "COL<br>GHG emission reduction in 2030: 0.2<br>AIM/Hub-Global 2.0|1.5C",
          "COL<br>GHG emission reduction in 2030: 0.2<br>C-ROADS-5.005|Ratchet-1.5-limCDR-noOS",
          "COL<br>GHG emission reduction in 2030: 0.2<br>C-ROADS-5.005|Ratchet-1.5-noCDR",
          "COL<br>GHG emission reduction in 2030: 0.1<br>C-ROADS-5.005|Ratchet-1.5-noCDR-noOS",
          "COL<br>GHG emission reduction in 2030: 0.1<br>COFFEE 1.1|EN_NPi2020_400",
          "COL<br>GHG emission reduction in 2030: nan<br>GCAM 4.2|SSP1-19",
          "COL<br>GHG emission reduction in 2030: nan<br>GCAM 5.3|R_MAC_30_n0",
          "COL<br>GHG emission reduction in 2030: nan<br>GCAM 5.3|R_MAC_35_n8",
          "COL<br>GHG emission reduction in 2030: nan<br>GCAM 5.3|R_MAC_40_n8",
          "COL<br>GHG emission reduction in 2030: nan<br>GCAM 5.3|R_MAC_45_n8",
          "COL<br>GHG emission reduction in 2030: nan<br>GCAM 5.3|R_MAC_50_n8",
          "COL<br>GHG emission reduction in 2030: nan<br>GEM-E3_V2021|EN_NPi2020_500",
          "COL<br>GHG emission reduction in 2030: nan<br>GEM-E3_V2021|EN_NPi2020_600_COV",
          "COL<br>GHG emission reduction in 2030: nan<br>IMAGE 3.2|SSP1_SPA1_19I_D_LB",
          "COL<br>GHG emission reduction in 2030: nan<br>IMAGE 3.2|SSP1_SPA1_19I_LIRE_LB",
          "COL<br>GHG emission reduction in 2030: nan<br>IMAGE 3.2|SSP1_SPA1_19I_RE_LB",
          "COL<br>GHG emission reduction in 2030: nan<br>IMAGE 3.2|SSP2_SPA1_19I_D_LB",
          "COL<br>GHG emission reduction in 2030: nan<br>IMAGE 3.2|SSP2_SPA1_19I_LIRE_LB",
          "COL<br>GHG emission reduction in 2030: nan<br>IMAGE 3.2|SSP2_SPA1_19I_RE_LB",
          "COL<br>GHG emission reduction in 2030: nan<br>IMAGE 3.2|SSP2_SPA2_19I_LI",
          "COL<br>GHG emission reduction in 2030: nan<br>MESSAGE-GLOBIOM 1.0|ADVANCE_2020_1.5C-2100",
          "COL<br>GHG emission reduction in 2030: nan<br>MESSAGE-GLOBIOM 1.0|EMF33_1.5C_cost100",
          "COL<br>GHG emission reduction in 2030: nan<br>MESSAGE-GLOBIOM 1.0|EMF33_1.5C_full",
          "COL<br>GHG emission reduction in 2030: nan<br>MESSAGE-GLOBIOM 1.0|SSP2-19",
          "COL<br>GHG emission reduction in 2030: nan<br>MESSAGEix-GLOBIOM 1.0|CD-LINKS_NPi2020_400",
          "COL<br>GHG emission reduction in 2030: nan<br>MESSAGEix-GLOBIOM 1.0|LowEnergyDemand_1.3_IPCC",
          "COL<br>GHG emission reduction in 2030: nan<br>MESSAGEix-GLOBIOM_1.1|EN_NPi2020_450",
          "COL<br>GHG emission reduction in 2030: nan<br>MESSAGEix-GLOBIOM_1.1|EN_NPi2020_500",
          "COL<br>GHG emission reduction in 2030: nan<br>MESSAGEix-GLOBIOM_1.1|NGFS2_Divergent Net Zero Policies",
          "COL<br>GHG emission reduction in 2030: nan<br>MESSAGEix-GLOBIOM_1.1|NGFS2_Net-Zero 2050",
          "COL<br>GHG emission reduction in 2030: nan<br>MESSAGEix-GLOBIOM_1.1|EN_NPi2020_600_COV",
          "COL<br>GHG emission reduction in 2030: nan<br>MESSAGEix-GLOBIOM_1.1|EN_NPi2020_600_DR4p",
          "COL<br>GHG emission reduction in 2030: nan<br>MESSAGEix-GLOBIOM_1.1|EN_NPi2020_600_DR3p",
          "COL<br>GHG emission reduction in 2030: nan<br>MESSAGEix-GLOBIOM_1.1|EN_NPi2020_600_DR2p",
          "COL<br>GHG emission reduction in 2030: nan<br>MESSAGEix-GLOBIOM_1.1|EN_NPi2020_600_DR1p",
          "COL<br>GHG emission reduction in 2030: nan<br>MESSAGEix-GLOBIOM_1.2|COV_GreenPush_550",
          "COL<br>GHG emission reduction in 2030: nan<br>MESSAGEix-GLOBIOM_1.2|COV_NoPolicyNoCOVID_550",
          "COL<br>GHG emission reduction in 2030: nan<br>MESSAGEix-GLOBIOM_1.2|COV_Restore_550",
          "COL<br>GHG emission reduction in 2030: nan<br>MESSAGEix-GLOBIOM_1.2|COV_SelfReliance_550",
          "COL<br>GHG emission reduction in 2030: nan<br>MESSAGEix-GLOBIOM_1.2|COV_SmartUse_550",
          "COL<br>GHG emission reduction in 2030: nan<br>POLES ADVANCE|ADVANCE_2020_1.5C-2100",
          "COL<br>GHG emission reduction in 2030: nan<br>POLES EMF33|EMF33_WB2C_cost100",
          "COL<br>GHG emission reduction in 2030: nan<br>POLES EMF33|EMF33_WB2C_full",
          "COL<br>GHG emission reduction in 2030: nan<br>POLES EMF33|EMF33_WB2C_nofuel",
          "COL<br>GHG emission reduction in 2030: nan<br>REMIND 1.7|ADVANCE_2020_1.5C-2100",
          "COL<br>GHG emission reduction in 2030: nan<br>REMIND 1.7|CEMICS-1.5-CDR12",
          "COL<br>GHG emission reduction in 2030: nan<br>REMIND 1.7|CEMICS-1.5-CDR20",
          "COL<br>GHG emission reduction in 2030: nan<br>REMIND 1.7|CEMICS-1.5-CDR8",
          "COL<br>GHG emission reduction in 2030: nan<br>REMIND 1.7|CEMICS-2.0-CDR8",
          "COL<br>GHG emission reduction in 2030: nan<br>REMIND 2.1|CEMICS_GDPgrowth_1p5",
          "COL<br>GHG emission reduction in 2030: nan<br>REMIND 2.1|CEMICS_HotellingConst_1p5",
          "COL<br>GHG emission reduction in 2030: nan<br>REMIND 2.1|CEMICS_Linear_1p5",
          "COL<br>GHG emission reduction in 2030: nan<br>REMIND 2.1|CEMICS_opt_1p5",
          "COL<br>GHG emission reduction in 2030: nan<br>REMIND 2.1|LeastTotalCost_LTC_brkLR15_SSP1_P50",
          "COL<br>GHG emission reduction in 2030: nan<br>REMIND 2.1|R2p1_SSP1-PkBudg900",
          "COL<br>GHG emission reduction in 2030: nan<br>REMIND 2.1|R2p1_SSP2-PkBudg900",
          "COL<br>GHG emission reduction in 2030: nan<br>REMIND 2.1|R2p1_SSP5-PkBudg900",
          "COL<br>GHG emission reduction in 2030: nan<br>REMIND-MAgPIE 1.5|SSP2-19",
          "COL<br>GHG emission reduction in 2030: nan<br>REMIND-MAgPIE 1.7-3.0|CD-LINKS_NPi2020_400",
          "COL<br>GHG emission reduction in 2030: nan<br>REMIND-MAgPIE 1.7-3.0|EMF33_1.5C_nofuel",
          "COL<br>GHG emission reduction in 2030: nan<br>REMIND-MAgPIE 1.7-3.0|PEP_1p5C_full_eff",
          "COL<br>GHG emission reduction in 2030: nan<br>REMIND-MAgPIE 1.7-3.0|PEP_1p5C_red_eff",
          "COL<br>GHG emission reduction in 2030: nan<br>REMIND-MAgPIE 1.7-3.0|PEP_2C_red_eff",
          "COL<br>GHG emission reduction in 2030: nan<br>REMIND-MAgPIE 1.7-3.0|SMP_2C_lifesty",
          "COL<br>GHG emission reduction in 2030: nan<br>REMIND-MAgPIE 2.1-4.2|CEMICS_SSP1-1p5C-fullCDR",
          "COL<br>GHG emission reduction in 2030: nan<br>REMIND-MAgPIE 2.1-4.2|CEMICS_SSP1-1p5C-minCDR",
          "COL<br>GHG emission reduction in 2030: nan<br>REMIND-MAgPIE 2.1-4.2|CEMICS_SSP2-1p5C-fullCDR"
         ],
         "type": "box",
         "whiskerwidth": 0.2,
         "xaxis": "x",
         "y": [
          null,
          null,
          null,
          0.2299423023629944,
          0.22614196793591246,
          0.15128596985207676,
          0.09654975031459381,
          0.06131661880573084,
          null,
          null,
          null,
          null,
          null,
          null,
          null,
          null,
          null,
          null,
          null,
          null,
          null,
          null,
          null,
          null,
          null,
          null,
          null,
          null,
          null,
          null,
          null,
          null,
          null,
          null,
          null,
          null,
          null,
          null,
          null,
          null,
          null,
          null,
          null,
          null,
          null,
          null,
          null,
          null,
          null,
          null,
          null,
          null,
          null,
          null,
          null,
          null,
          null,
          null,
          null,
          null,
          null,
          null,
          null,
          null,
          null,
          null,
          null,
          null,
          null,
          null
         ],
         "yaxis": "y"
        },
        {
         "marker": {
          "color": "darkgrey",
          "colorscale": [
           [
            0,
            "rgb(158,1,66)"
           ],
           [
            0.1,
            "rgb(213,62,79)"
           ],
           [
            0.2,
            "rgb(244,109,67)"
           ],
           [
            0.3,
            "rgb(253,174,97)"
           ],
           [
            0.4,
            "rgb(254,224,139)"
           ],
           [
            0.5,
            "rgb(255,255,191)"
           ],
           [
            0.6,
            "rgb(230,245,152)"
           ],
           [
            0.7,
            "rgb(171,221,164)"
           ],
           [
            0.8,
            "rgb(102,194,165)"
           ],
           [
            0.9,
            "rgb(50,136,189)"
           ],
           [
            1,
            "rgb(94,79,162)"
           ]
          ],
          "line": {
           "color": "black",
           "width": 0.2
          },
          "size": 25,
          "symbol": "circle"
         },
         "mode": "markers+text",
         "showlegend": false,
         "text": "GF",
         "textfont": {
          "color": "black",
          "family": "Arial black",
          "size": 13
         },
         "type": "scatter",
         "x": [
          "COL"
         ],
         "xaxis": "x",
         "y": [
          0.4389508144722753
         ],
         "yaxis": "y"
        },
        {
         "marker": {
          "color": "darkgrey",
          "colorscale": [
           [
            0,
            "rgb(158,1,66)"
           ],
           [
            0.1,
            "rgb(213,62,79)"
           ],
           [
            0.2,
            "rgb(244,109,67)"
           ],
           [
            0.3,
            "rgb(253,174,97)"
           ],
           [
            0.4,
            "rgb(254,224,139)"
           ],
           [
            0.5,
            "rgb(255,255,191)"
           ],
           [
            0.6,
            "rgb(230,245,152)"
           ],
           [
            0.7,
            "rgb(171,221,164)"
           ],
           [
            0.8,
            "rgb(102,194,165)"
           ],
           [
            0.9,
            "rgb(50,136,189)"
           ],
           [
            1,
            "rgb(94,79,162)"
           ]
          ],
          "line": {
           "color": "black",
           "width": 0.2
          },
          "size": 25,
          "symbol": "square"
         },
         "mode": "markers+text",
         "showlegend": false,
         "text": "PC",
         "textfont": {
          "color": "black",
          "family": "Arial black",
          "size": 13
         },
         "type": "scatter",
         "x": [
          "COL"
         ],
         "xaxis": "x",
         "y": [
          0.14680621322633966
         ],
         "yaxis": "y"
        },
        {
         "marker": {
          "color": "darkgrey",
          "colorscale": [
           [
            0,
            "rgb(158,1,66)"
           ],
           [
            0.1,
            "rgb(213,62,79)"
           ],
           [
            0.2,
            "rgb(244,109,67)"
           ],
           [
            0.3,
            "rgb(253,174,97)"
           ],
           [
            0.4,
            "rgb(254,224,139)"
           ],
           [
            0.5,
            "rgb(255,255,191)"
           ],
           [
            0.6,
            "rgb(230,245,152)"
           ],
           [
            0.7,
            "rgb(171,221,164)"
           ],
           [
            0.8,
            "rgb(102,194,165)"
           ],
           [
            0.9,
            "rgb(50,136,189)"
           ],
           [
            1,
            "rgb(94,79,162)"
           ]
          ],
          "line": {
           "color": "black",
           "width": 0.2
          },
          "size": 25,
          "symbol": "diamond"
         },
         "mode": "markers+text",
         "showlegend": false,
         "text": "PCC",
         "textfont": {
          "color": "black",
          "family": "Arial black",
          "size": 13
         },
         "type": "scatter",
         "x": [
          "COL"
         ],
         "xaxis": "x",
         "y": [
          0.2928785138493075
         ],
         "yaxis": "y"
        },
        {
         "marker": {
          "color": "darkgrey",
          "colorscale": [
           [
            0,
            "rgb(158,1,66)"
           ],
           [
            0.1,
            "rgb(213,62,79)"
           ],
           [
            0.2,
            "rgb(244,109,67)"
           ],
           [
            0.3,
            "rgb(253,174,97)"
           ],
           [
            0.4,
            "rgb(254,224,139)"
           ],
           [
            0.5,
            "rgb(255,255,191)"
           ],
           [
            0.6,
            "rgb(230,245,152)"
           ],
           [
            0.7,
            "rgb(171,221,164)"
           ],
           [
            0.8,
            "rgb(102,194,165)"
           ],
           [
            0.9,
            "rgb(50,136,189)"
           ],
           [
            1,
            "rgb(94,79,162)"
           ]
          ],
          "line": {
           "color": "black",
           "width": 0.2
          },
          "size": 25,
          "symbol": "triangle-up"
         },
         "mode": "markers+text",
         "showlegend": false,
         "text": "NDC",
         "textfont": {
          "color": "black",
          "family": "Arial black",
          "size": 13
         },
         "type": "scatter",
         "x": [
          "COL"
         ],
         "xaxis": "x",
         "y": [
          0.2969795256531229
         ],
         "yaxis": "y"
        },
        {
         "boxpoints": "all",
         "fillcolor": "darkgrey",
         "hovertemplate": "%{text}",
         "jitter": 0.5,
         "line": {
          "color": "black",
          "width": 0.5
         },
         "marker": {
          "color": "black",
          "size": 3
         },
         "name": "COL",
         "pointpos": -1.8,
         "showlegend": false,
         "text": [
          "COL<br>Policy costs in 2030: nan<br>AIM/CGE 2.1|CD-LINKS_NPi2020_400",
          "COL<br>Policy costs in 2030: nan<br>AIM/CGE 2.2|EN_NPi2020_300f",
          "COL<br>Policy costs in 2030: nan<br>AIM/CGE 2.2|EN_NPi2020_600",
          "COL<br>Policy costs in 2030: nan<br>AIM/Hub-Global 2.0|1.5C",
          "COL<br>Policy costs in 2030: nan<br>C-ROADS-5.005|Ratchet-1.5-limCDR-noOS",
          "COL<br>Policy costs in 2030: nan<br>C-ROADS-5.005|Ratchet-1.5-noCDR",
          "COL<br>Policy costs in 2030: nan<br>C-ROADS-5.005|Ratchet-1.5-noCDR-noOS",
          "COL<br>Policy costs in 2030: nan<br>COFFEE 1.1|EN_NPi2020_400",
          "COL<br>Policy costs in 2030: nan<br>GCAM 4.2|SSP1-19",
          "COL<br>Policy costs in 2030: nan<br>GCAM 5.3|R_MAC_30_n0",
          "COL<br>Policy costs in 2030: nan<br>GCAM 5.3|R_MAC_35_n8",
          "COL<br>Policy costs in 2030: nan<br>GCAM 5.3|R_MAC_40_n8",
          "COL<br>Policy costs in 2030: nan<br>GCAM 5.3|R_MAC_45_n8",
          "COL<br>Policy costs in 2030: nan<br>GCAM 5.3|R_MAC_50_n8",
          "COL<br>Policy costs in 2030: nan<br>GEM-E3_V2021|EN_NPi2020_500",
          "COL<br>Policy costs in 2030: nan<br>GEM-E3_V2021|EN_NPi2020_600_COV",
          "COL<br>Policy costs in 2030: nan<br>IMAGE 3.2|SSP1_SPA1_19I_D_LB",
          "COL<br>Policy costs in 2030: nan<br>IMAGE 3.2|SSP1_SPA1_19I_LIRE_LB",
          "COL<br>Policy costs in 2030: nan<br>IMAGE 3.2|SSP1_SPA1_19I_RE_LB",
          "COL<br>Policy costs in 2030: nan<br>IMAGE 3.2|SSP2_SPA1_19I_D_LB",
          "COL<br>Policy costs in 2030: nan<br>IMAGE 3.2|SSP2_SPA1_19I_LIRE_LB",
          "COL<br>Policy costs in 2030: nan<br>IMAGE 3.2|SSP2_SPA1_19I_RE_LB",
          "COL<br>Policy costs in 2030: nan<br>IMAGE 3.2|SSP2_SPA2_19I_LI",
          "COL<br>Policy costs in 2030: nan<br>MESSAGE-GLOBIOM 1.0|ADVANCE_2020_1.5C-2100",
          "COL<br>Policy costs in 2030: nan<br>MESSAGE-GLOBIOM 1.0|EMF33_1.5C_cost100",
          "COL<br>Policy costs in 2030: nan<br>MESSAGE-GLOBIOM 1.0|EMF33_1.5C_full",
          "COL<br>Policy costs in 2030: nan<br>MESSAGE-GLOBIOM 1.0|SSP2-19",
          "COL<br>Policy costs in 2030: nan<br>MESSAGEix-GLOBIOM 1.0|CD-LINKS_NPi2020_400",
          "COL<br>Policy costs in 2030: nan<br>MESSAGEix-GLOBIOM 1.0|LowEnergyDemand_1.3_IPCC",
          "COL<br>Policy costs in 2030: nan<br>MESSAGEix-GLOBIOM_1.1|EN_NPi2020_450",
          "COL<br>Policy costs in 2030: nan<br>MESSAGEix-GLOBIOM_1.1|EN_NPi2020_500",
          "COL<br>Policy costs in 2030: nan<br>MESSAGEix-GLOBIOM_1.1|NGFS2_Divergent Net Zero Policies",
          "COL<br>Policy costs in 2030: nan<br>MESSAGEix-GLOBIOM_1.1|NGFS2_Net-Zero 2050",
          "COL<br>Policy costs in 2030: nan<br>MESSAGEix-GLOBIOM_1.1|EN_NPi2020_600_COV",
          "COL<br>Policy costs in 2030: nan<br>MESSAGEix-GLOBIOM_1.1|EN_NPi2020_600_DR4p",
          "COL<br>Policy costs in 2030: nan<br>MESSAGEix-GLOBIOM_1.1|EN_NPi2020_600_DR3p",
          "COL<br>Policy costs in 2030: nan<br>MESSAGEix-GLOBIOM_1.1|EN_NPi2020_600_DR2p",
          "COL<br>Policy costs in 2030: nan<br>MESSAGEix-GLOBIOM_1.1|EN_NPi2020_600_DR1p",
          "COL<br>Policy costs in 2030: nan<br>MESSAGEix-GLOBIOM_1.2|COV_GreenPush_550",
          "COL<br>Policy costs in 2030: nan<br>MESSAGEix-GLOBIOM_1.2|COV_NoPolicyNoCOVID_550",
          "COL<br>Policy costs in 2030: nan<br>MESSAGEix-GLOBIOM_1.2|COV_Restore_550",
          "COL<br>Policy costs in 2030: nan<br>MESSAGEix-GLOBIOM_1.2|COV_SelfReliance_550",
          "COL<br>Policy costs in 2030: nan<br>MESSAGEix-GLOBIOM_1.2|COV_SmartUse_550",
          "COL<br>Policy costs in 2030: nan<br>POLES ADVANCE|ADVANCE_2020_1.5C-2100",
          "COL<br>Policy costs in 2030: nan<br>POLES EMF33|EMF33_WB2C_cost100",
          "COL<br>Policy costs in 2030: nan<br>POLES EMF33|EMF33_WB2C_full",
          "COL<br>Policy costs in 2030: nan<br>POLES EMF33|EMF33_WB2C_nofuel",
          "COL<br>Policy costs in 2030: nan<br>REMIND 1.7|ADVANCE_2020_1.5C-2100",
          "COL<br>Policy costs in 2030: nan<br>REMIND 1.7|CEMICS-1.5-CDR12",
          "COL<br>Policy costs in 2030: nan<br>REMIND 1.7|CEMICS-1.5-CDR20",
          "COL<br>Policy costs in 2030: nan<br>REMIND 1.7|CEMICS-1.5-CDR8",
          "COL<br>Policy costs in 2030: nan<br>REMIND 1.7|CEMICS-2.0-CDR8",
          "COL<br>Policy costs in 2030: nan<br>REMIND 2.1|CEMICS_GDPgrowth_1p5",
          "COL<br>Policy costs in 2030: nan<br>REMIND 2.1|CEMICS_HotellingConst_1p5",
          "COL<br>Policy costs in 2030: nan<br>REMIND 2.1|CEMICS_Linear_1p5",
          "COL<br>Policy costs in 2030: nan<br>REMIND 2.1|CEMICS_opt_1p5",
          "COL<br>Policy costs in 2030: nan<br>REMIND 2.1|LeastTotalCost_LTC_brkLR15_SSP1_P50",
          "COL<br>Policy costs in 2030: nan<br>REMIND 2.1|R2p1_SSP1-PkBudg900",
          "COL<br>Policy costs in 2030: nan<br>REMIND 2.1|R2p1_SSP2-PkBudg900",
          "COL<br>Policy costs in 2030: nan<br>REMIND 2.1|R2p1_SSP5-PkBudg900",
          "COL<br>Policy costs in 2030: nan<br>REMIND-MAgPIE 1.5|SSP2-19",
          "COL<br>Policy costs in 2030: nan<br>REMIND-MAgPIE 1.7-3.0|CD-LINKS_NPi2020_400",
          "COL<br>Policy costs in 2030: nan<br>REMIND-MAgPIE 1.7-3.0|EMF33_1.5C_nofuel",
          "COL<br>Policy costs in 2030: nan<br>REMIND-MAgPIE 1.7-3.0|PEP_1p5C_full_eff",
          "COL<br>Policy costs in 2030: nan<br>REMIND-MAgPIE 1.7-3.0|PEP_1p5C_red_eff",
          "COL<br>Policy costs in 2030: nan<br>REMIND-MAgPIE 1.7-3.0|PEP_2C_red_eff",
          "COL<br>Policy costs in 2030: nan<br>REMIND-MAgPIE 1.7-3.0|SMP_2C_lifesty",
          "COL<br>Policy costs in 2030: nan<br>REMIND-MAgPIE 2.1-4.2|CEMICS_SSP1-1p5C-fullCDR",
          "COL<br>Policy costs in 2030: nan<br>REMIND-MAgPIE 2.1-4.2|CEMICS_SSP1-1p5C-minCDR",
          "COL<br>Policy costs in 2030: nan<br>REMIND-MAgPIE 2.1-4.2|CEMICS_SSP2-1p5C-fullCDR"
         ],
         "type": "box",
         "whiskerwidth": 0.2,
         "xaxis": "x2",
         "y": [
          null,
          null,
          null,
          null,
          null,
          null,
          null,
          null,
          null,
          null,
          null,
          null,
          null,
          null,
          null,
          null,
          null,
          null,
          null,
          null,
          null,
          null,
          null,
          null,
          null,
          null,
          null,
          null,
          null,
          null,
          null,
          null,
          null,
          null,
          null,
          null,
          null,
          null,
          null,
          null,
          null,
          null,
          null,
          null,
          null,
          null,
          null,
          null,
          null,
          null,
          null,
          null,
          null,
          null,
          null,
          null,
          null,
          null,
          null,
          null,
          null,
          null,
          null,
          null,
          null,
          null,
          null,
          null,
          null,
          null
         ],
         "yaxis": "y2"
        },
        {
         "boxpoints": "all",
         "fillcolor": "darkgrey",
         "hovertemplate": "%{text}",
         "jitter": 0.5,
         "line": {
          "color": "black",
          "width": 0.5
         },
         "marker": {
          "color": "black",
          "size": 3
         },
         "name": "COL",
         "pointpos": -1.8,
         "showlegend": false,
         "text": [
          "COL<br>CCS in 2030: nan<br>AIM/CGE 2.1|CD-LINKS_NPi2020_400",
          "COL<br>CCS in 2030: nan<br>AIM/CGE 2.2|EN_NPi2020_300f",
          "COL<br>CCS in 2030: nan<br>AIM/CGE 2.2|EN_NPi2020_600",
          "COL<br>CCS in 2030: 110.1<br>AIM/Hub-Global 2.0|1.5C",
          "COL<br>CCS in 2030: 78.5<br>C-ROADS-5.005|Ratchet-1.5-limCDR-noOS",
          "COL<br>CCS in 2030: 44.1<br>C-ROADS-5.005|Ratchet-1.5-noCDR",
          "COL<br>CCS in 2030: 31.7<br>C-ROADS-5.005|Ratchet-1.5-noCDR-noOS",
          "COL<br>CCS in 2030: 25.9<br>COFFEE 1.1|EN_NPi2020_400",
          "COL<br>CCS in 2030: nan<br>GCAM 4.2|SSP1-19",
          "COL<br>CCS in 2030: nan<br>GCAM 5.3|R_MAC_30_n0",
          "COL<br>CCS in 2030: nan<br>GCAM 5.3|R_MAC_35_n8",
          "COL<br>CCS in 2030: nan<br>GCAM 5.3|R_MAC_40_n8",
          "COL<br>CCS in 2030: nan<br>GCAM 5.3|R_MAC_45_n8",
          "COL<br>CCS in 2030: nan<br>GCAM 5.3|R_MAC_50_n8",
          "COL<br>CCS in 2030: nan<br>GEM-E3_V2021|EN_NPi2020_500",
          "COL<br>CCS in 2030: nan<br>GEM-E3_V2021|EN_NPi2020_600_COV",
          "COL<br>CCS in 2030: nan<br>IMAGE 3.2|SSP1_SPA1_19I_D_LB",
          "COL<br>CCS in 2030: nan<br>IMAGE 3.2|SSP1_SPA1_19I_LIRE_LB",
          "COL<br>CCS in 2030: nan<br>IMAGE 3.2|SSP1_SPA1_19I_RE_LB",
          "COL<br>CCS in 2030: nan<br>IMAGE 3.2|SSP2_SPA1_19I_D_LB",
          "COL<br>CCS in 2030: nan<br>IMAGE 3.2|SSP2_SPA1_19I_LIRE_LB",
          "COL<br>CCS in 2030: nan<br>IMAGE 3.2|SSP2_SPA1_19I_RE_LB",
          "COL<br>CCS in 2030: nan<br>IMAGE 3.2|SSP2_SPA2_19I_LI",
          "COL<br>CCS in 2030: nan<br>MESSAGE-GLOBIOM 1.0|ADVANCE_2020_1.5C-2100",
          "COL<br>CCS in 2030: nan<br>MESSAGE-GLOBIOM 1.0|EMF33_1.5C_cost100",
          "COL<br>CCS in 2030: nan<br>MESSAGE-GLOBIOM 1.0|EMF33_1.5C_full",
          "COL<br>CCS in 2030: nan<br>MESSAGE-GLOBIOM 1.0|SSP2-19",
          "COL<br>CCS in 2030: nan<br>MESSAGEix-GLOBIOM 1.0|CD-LINKS_NPi2020_400",
          "COL<br>CCS in 2030: nan<br>MESSAGEix-GLOBIOM 1.0|LowEnergyDemand_1.3_IPCC",
          "COL<br>CCS in 2030: nan<br>MESSAGEix-GLOBIOM_1.1|EN_NPi2020_450",
          "COL<br>CCS in 2030: nan<br>MESSAGEix-GLOBIOM_1.1|EN_NPi2020_500",
          "COL<br>CCS in 2030: nan<br>MESSAGEix-GLOBIOM_1.1|NGFS2_Divergent Net Zero Policies",
          "COL<br>CCS in 2030: nan<br>MESSAGEix-GLOBIOM_1.1|NGFS2_Net-Zero 2050",
          "COL<br>CCS in 2030: nan<br>MESSAGEix-GLOBIOM_1.1|EN_NPi2020_600_COV",
          "COL<br>CCS in 2030: nan<br>MESSAGEix-GLOBIOM_1.1|EN_NPi2020_600_DR4p",
          "COL<br>CCS in 2030: nan<br>MESSAGEix-GLOBIOM_1.1|EN_NPi2020_600_DR3p",
          "COL<br>CCS in 2030: nan<br>MESSAGEix-GLOBIOM_1.1|EN_NPi2020_600_DR2p",
          "COL<br>CCS in 2030: nan<br>MESSAGEix-GLOBIOM_1.1|EN_NPi2020_600_DR1p",
          "COL<br>CCS in 2030: nan<br>MESSAGEix-GLOBIOM_1.2|COV_GreenPush_550",
          "COL<br>CCS in 2030: nan<br>MESSAGEix-GLOBIOM_1.2|COV_NoPolicyNoCOVID_550",
          "COL<br>CCS in 2030: nan<br>MESSAGEix-GLOBIOM_1.2|COV_Restore_550",
          "COL<br>CCS in 2030: nan<br>MESSAGEix-GLOBIOM_1.2|COV_SelfReliance_550",
          "COL<br>CCS in 2030: nan<br>MESSAGEix-GLOBIOM_1.2|COV_SmartUse_550",
          "COL<br>CCS in 2030: nan<br>POLES ADVANCE|ADVANCE_2020_1.5C-2100",
          "COL<br>CCS in 2030: nan<br>POLES EMF33|EMF33_WB2C_cost100",
          "COL<br>CCS in 2030: nan<br>POLES EMF33|EMF33_WB2C_full",
          "COL<br>CCS in 2030: nan<br>POLES EMF33|EMF33_WB2C_nofuel",
          "COL<br>CCS in 2030: nan<br>REMIND 1.7|ADVANCE_2020_1.5C-2100",
          "COL<br>CCS in 2030: nan<br>REMIND 1.7|CEMICS-1.5-CDR12",
          "COL<br>CCS in 2030: nan<br>REMIND 1.7|CEMICS-1.5-CDR20",
          "COL<br>CCS in 2030: nan<br>REMIND 1.7|CEMICS-1.5-CDR8",
          "COL<br>CCS in 2030: nan<br>REMIND 1.7|CEMICS-2.0-CDR8",
          "COL<br>CCS in 2030: nan<br>REMIND 2.1|CEMICS_GDPgrowth_1p5",
          "COL<br>CCS in 2030: nan<br>REMIND 2.1|CEMICS_HotellingConst_1p5",
          "COL<br>CCS in 2030: nan<br>REMIND 2.1|CEMICS_Linear_1p5",
          "COL<br>CCS in 2030: nan<br>REMIND 2.1|CEMICS_opt_1p5",
          "COL<br>CCS in 2030: nan<br>REMIND 2.1|LeastTotalCost_LTC_brkLR15_SSP1_P50",
          "COL<br>CCS in 2030: nan<br>REMIND 2.1|R2p1_SSP1-PkBudg900",
          "COL<br>CCS in 2030: nan<br>REMIND 2.1|R2p1_SSP2-PkBudg900",
          "COL<br>CCS in 2030: nan<br>REMIND 2.1|R2p1_SSP5-PkBudg900",
          "COL<br>CCS in 2030: nan<br>REMIND-MAgPIE 1.5|SSP2-19",
          "COL<br>CCS in 2030: nan<br>REMIND-MAgPIE 1.7-3.0|CD-LINKS_NPi2020_400",
          "COL<br>CCS in 2030: nan<br>REMIND-MAgPIE 1.7-3.0|EMF33_1.5C_nofuel",
          "COL<br>CCS in 2030: nan<br>REMIND-MAgPIE 1.7-3.0|PEP_1p5C_full_eff",
          "COL<br>CCS in 2030: nan<br>REMIND-MAgPIE 1.7-3.0|PEP_1p5C_red_eff",
          "COL<br>CCS in 2030: nan<br>REMIND-MAgPIE 1.7-3.0|PEP_2C_red_eff",
          "COL<br>CCS in 2030: nan<br>REMIND-MAgPIE 1.7-3.0|SMP_2C_lifesty",
          "COL<br>CCS in 2030: nan<br>REMIND-MAgPIE 2.1-4.2|CEMICS_SSP1-1p5C-fullCDR",
          "COL<br>CCS in 2030: nan<br>REMIND-MAgPIE 2.1-4.2|CEMICS_SSP1-1p5C-minCDR",
          "COL<br>CCS in 2030: nan<br>REMIND-MAgPIE 2.1-4.2|CEMICS_SSP2-1p5C-fullCDR"
         ],
         "type": "box",
         "whiskerwidth": 0.2,
         "xaxis": "x3",
         "y": [
          null,
          null,
          null,
          110.078527259138,
          78.4605824761129,
          44.073494995681,
          31.7172975396904,
          25.8561106065553,
          null,
          null,
          null,
          null,
          null,
          null,
          null,
          null,
          null,
          null,
          null,
          null,
          null,
          null,
          null,
          null,
          null,
          null,
          null,
          null,
          null,
          null,
          null,
          null,
          null,
          null,
          null,
          null,
          null,
          null,
          null,
          null,
          null,
          null,
          null,
          null,
          null,
          null,
          null,
          null,
          null,
          null,
          null,
          null,
          null,
          null,
          null,
          null,
          null,
          null,
          null,
          null,
          null,
          null,
          null,
          null,
          null,
          null,
          null,
          null,
          null,
          null
         ],
         "yaxis": "y3"
        },
        {
         "boxpoints": "all",
         "fillcolor": "darkgrey",
         "hovertemplate": "%{text}",
         "jitter": 0.5,
         "line": {
          "color": "black",
          "width": 0.5
         },
         "marker": {
          "color": "black",
          "size": 3
         },
         "name": "COL",
         "pointpos": -1.8,
         "showlegend": false,
         "text": [
          "COL<br>Primary biomass traded in 2030: nan<br>AIM/CGE 2.1|CD-LINKS_NPi2020_400",
          "COL<br>Primary biomass traded in 2030: nan<br>AIM/CGE 2.2|EN_NPi2020_300f",
          "COL<br>Primary biomass traded in 2030: nan<br>AIM/CGE 2.2|EN_NPi2020_600",
          "COL<br>Primary biomass traded in 2030: nan<br>AIM/Hub-Global 2.0|1.5C",
          "COL<br>Primary biomass traded in 2030: nan<br>C-ROADS-5.005|Ratchet-1.5-limCDR-noOS",
          "COL<br>Primary biomass traded in 2030: nan<br>C-ROADS-5.005|Ratchet-1.5-noCDR",
          "COL<br>Primary biomass traded in 2030: nan<br>C-ROADS-5.005|Ratchet-1.5-noCDR-noOS",
          "COL<br>Primary biomass traded in 2030: nan<br>COFFEE 1.1|EN_NPi2020_400",
          "COL<br>Primary biomass traded in 2030: nan<br>GCAM 4.2|SSP1-19",
          "COL<br>Primary biomass traded in 2030: nan<br>GCAM 5.3|R_MAC_30_n0",
          "COL<br>Primary biomass traded in 2030: nan<br>GCAM 5.3|R_MAC_35_n8",
          "COL<br>Primary biomass traded in 2030: nan<br>GCAM 5.3|R_MAC_40_n8",
          "COL<br>Primary biomass traded in 2030: nan<br>GCAM 5.3|R_MAC_45_n8",
          "COL<br>Primary biomass traded in 2030: nan<br>GCAM 5.3|R_MAC_50_n8",
          "COL<br>Primary biomass traded in 2030: nan<br>GEM-E3_V2021|EN_NPi2020_500",
          "COL<br>Primary biomass traded in 2030: nan<br>GEM-E3_V2021|EN_NPi2020_600_COV",
          "COL<br>Primary biomass traded in 2030: nan<br>IMAGE 3.2|SSP1_SPA1_19I_D_LB",
          "COL<br>Primary biomass traded in 2030: nan<br>IMAGE 3.2|SSP1_SPA1_19I_LIRE_LB",
          "COL<br>Primary biomass traded in 2030: nan<br>IMAGE 3.2|SSP1_SPA1_19I_RE_LB",
          "COL<br>Primary biomass traded in 2030: nan<br>IMAGE 3.2|SSP2_SPA1_19I_D_LB",
          "COL<br>Primary biomass traded in 2030: nan<br>IMAGE 3.2|SSP2_SPA1_19I_LIRE_LB",
          "COL<br>Primary biomass traded in 2030: nan<br>IMAGE 3.2|SSP2_SPA1_19I_RE_LB",
          "COL<br>Primary biomass traded in 2030: nan<br>IMAGE 3.2|SSP2_SPA2_19I_LI",
          "COL<br>Primary biomass traded in 2030: nan<br>MESSAGE-GLOBIOM 1.0|ADVANCE_2020_1.5C-2100",
          "COL<br>Primary biomass traded in 2030: nan<br>MESSAGE-GLOBIOM 1.0|EMF33_1.5C_cost100",
          "COL<br>Primary biomass traded in 2030: nan<br>MESSAGE-GLOBIOM 1.0|EMF33_1.5C_full",
          "COL<br>Primary biomass traded in 2030: nan<br>MESSAGE-GLOBIOM 1.0|SSP2-19",
          "COL<br>Primary biomass traded in 2030: nan<br>MESSAGEix-GLOBIOM 1.0|CD-LINKS_NPi2020_400",
          "COL<br>Primary biomass traded in 2030: nan<br>MESSAGEix-GLOBIOM 1.0|LowEnergyDemand_1.3_IPCC",
          "COL<br>Primary biomass traded in 2030: nan<br>MESSAGEix-GLOBIOM_1.1|EN_NPi2020_450",
          "COL<br>Primary biomass traded in 2030: nan<br>MESSAGEix-GLOBIOM_1.1|EN_NPi2020_500",
          "COL<br>Primary biomass traded in 2030: nan<br>MESSAGEix-GLOBIOM_1.1|NGFS2_Divergent Net Zero Policies",
          "COL<br>Primary biomass traded in 2030: nan<br>MESSAGEix-GLOBIOM_1.1|NGFS2_Net-Zero 2050",
          "COL<br>Primary biomass traded in 2030: nan<br>MESSAGEix-GLOBIOM_1.1|EN_NPi2020_600_COV",
          "COL<br>Primary biomass traded in 2030: nan<br>MESSAGEix-GLOBIOM_1.1|EN_NPi2020_600_DR4p",
          "COL<br>Primary biomass traded in 2030: nan<br>MESSAGEix-GLOBIOM_1.1|EN_NPi2020_600_DR3p",
          "COL<br>Primary biomass traded in 2030: nan<br>MESSAGEix-GLOBIOM_1.1|EN_NPi2020_600_DR2p",
          "COL<br>Primary biomass traded in 2030: nan<br>MESSAGEix-GLOBIOM_1.1|EN_NPi2020_600_DR1p",
          "COL<br>Primary biomass traded in 2030: nan<br>MESSAGEix-GLOBIOM_1.2|COV_GreenPush_550",
          "COL<br>Primary biomass traded in 2030: nan<br>MESSAGEix-GLOBIOM_1.2|COV_NoPolicyNoCOVID_550",
          "COL<br>Primary biomass traded in 2030: nan<br>MESSAGEix-GLOBIOM_1.2|COV_Restore_550",
          "COL<br>Primary biomass traded in 2030: nan<br>MESSAGEix-GLOBIOM_1.2|COV_SelfReliance_550",
          "COL<br>Primary biomass traded in 2030: nan<br>MESSAGEix-GLOBIOM_1.2|COV_SmartUse_550",
          "COL<br>Primary biomass traded in 2030: nan<br>POLES ADVANCE|ADVANCE_2020_1.5C-2100",
          "COL<br>Primary biomass traded in 2030: nan<br>POLES EMF33|EMF33_WB2C_cost100",
          "COL<br>Primary biomass traded in 2030: nan<br>POLES EMF33|EMF33_WB2C_full",
          "COL<br>Primary biomass traded in 2030: nan<br>POLES EMF33|EMF33_WB2C_nofuel",
          "COL<br>Primary biomass traded in 2030: nan<br>REMIND 1.7|ADVANCE_2020_1.5C-2100",
          "COL<br>Primary biomass traded in 2030: nan<br>REMIND 1.7|CEMICS-1.5-CDR12",
          "COL<br>Primary biomass traded in 2030: nan<br>REMIND 1.7|CEMICS-1.5-CDR20",
          "COL<br>Primary biomass traded in 2030: nan<br>REMIND 1.7|CEMICS-1.5-CDR8",
          "COL<br>Primary biomass traded in 2030: nan<br>REMIND 1.7|CEMICS-2.0-CDR8",
          "COL<br>Primary biomass traded in 2030: nan<br>REMIND 2.1|CEMICS_GDPgrowth_1p5",
          "COL<br>Primary biomass traded in 2030: nan<br>REMIND 2.1|CEMICS_HotellingConst_1p5",
          "COL<br>Primary biomass traded in 2030: nan<br>REMIND 2.1|CEMICS_Linear_1p5",
          "COL<br>Primary biomass traded in 2030: nan<br>REMIND 2.1|CEMICS_opt_1p5",
          "COL<br>Primary biomass traded in 2030: nan<br>REMIND 2.1|LeastTotalCost_LTC_brkLR15_SSP1_P50",
          "COL<br>Primary biomass traded in 2030: nan<br>REMIND 2.1|R2p1_SSP1-PkBudg900",
          "COL<br>Primary biomass traded in 2030: nan<br>REMIND 2.1|R2p1_SSP2-PkBudg900",
          "COL<br>Primary biomass traded in 2030: nan<br>REMIND 2.1|R2p1_SSP5-PkBudg900",
          "COL<br>Primary biomass traded in 2030: nan<br>REMIND-MAgPIE 1.5|SSP2-19",
          "COL<br>Primary biomass traded in 2030: nan<br>REMIND-MAgPIE 1.7-3.0|CD-LINKS_NPi2020_400",
          "COL<br>Primary biomass traded in 2030: nan<br>REMIND-MAgPIE 1.7-3.0|EMF33_1.5C_nofuel",
          "COL<br>Primary biomass traded in 2030: nan<br>REMIND-MAgPIE 1.7-3.0|PEP_1p5C_full_eff",
          "COL<br>Primary biomass traded in 2030: nan<br>REMIND-MAgPIE 1.7-3.0|PEP_1p5C_red_eff",
          "COL<br>Primary biomass traded in 2030: nan<br>REMIND-MAgPIE 1.7-3.0|PEP_2C_red_eff",
          "COL<br>Primary biomass traded in 2030: nan<br>REMIND-MAgPIE 1.7-3.0|SMP_2C_lifesty",
          "COL<br>Primary biomass traded in 2030: nan<br>REMIND-MAgPIE 2.1-4.2|CEMICS_SSP1-1p5C-fullCDR",
          "COL<br>Primary biomass traded in 2030: nan<br>REMIND-MAgPIE 2.1-4.2|CEMICS_SSP1-1p5C-minCDR",
          "COL<br>Primary biomass traded in 2030: nan<br>REMIND-MAgPIE 2.1-4.2|CEMICS_SSP2-1p5C-fullCDR"
         ],
         "type": "box",
         "whiskerwidth": 0.2,
         "xaxis": "x4",
         "y": [
          null,
          null,
          null,
          null,
          null,
          null,
          null,
          null,
          null,
          null,
          null,
          null,
          null,
          null,
          null,
          null,
          null,
          null,
          null,
          null,
          null,
          null,
          null,
          null,
          null,
          null,
          null,
          null,
          null,
          null,
          null,
          null,
          null,
          null,
          null,
          null,
          null,
          null,
          null,
          null,
          null,
          null,
          null,
          null,
          null,
          null,
          null,
          null,
          null,
          null,
          null,
          null,
          null,
          null,
          null,
          null,
          null,
          null,
          null,
          null,
          null,
          null,
          null,
          null,
          null,
          null,
          null,
          null,
          null,
          null
         ],
         "yaxis": "y4"
        },
        {
         "boxpoints": "all",
         "fillcolor": "blue",
         "hovertemplate": "%{text}",
         "jitter": 0.5,
         "line": {
          "color": "black",
          "width": 0.5
         },
         "marker": {
          "color": "black",
          "size": 3
         },
         "name": "MEX",
         "pointpos": -1.8,
         "showlegend": false,
         "text": [
          "MEX<br>GHG emission reduction in 2030: nan<br>AIM/CGE 2.1|CD-LINKS_NPi2020_400",
          "MEX<br>GHG emission reduction in 2030: nan<br>AIM/CGE 2.2|EN_NPi2020_300f",
          "MEX<br>GHG emission reduction in 2030: nan<br>AIM/CGE 2.2|EN_NPi2020_600",
          "MEX<br>GHG emission reduction in 2030: 1.1<br>AIM/Hub-Global 2.0|1.5C",
          "MEX<br>GHG emission reduction in 2030: 0.7<br>C-ROADS-5.005|Ratchet-1.5-limCDR-noOS",
          "MEX<br>GHG emission reduction in 2030: 0.3<br>C-ROADS-5.005|Ratchet-1.5-noCDR",
          "MEX<br>GHG emission reduction in 2030: 0.2<br>C-ROADS-5.005|Ratchet-1.5-noCDR-noOS",
          "MEX<br>GHG emission reduction in 2030: 0.1<br>COFFEE 1.1|EN_NPi2020_400",
          "MEX<br>GHG emission reduction in 2030: 0.6<br>GCAM 4.2|SSP1-19",
          "MEX<br>GHG emission reduction in 2030: 0.6<br>GCAM 5.3|R_MAC_30_n0",
          "MEX<br>GHG emission reduction in 2030: 0.5<br>GCAM 5.3|R_MAC_35_n8",
          "MEX<br>GHG emission reduction in 2030: 0.6<br>GCAM 5.3|R_MAC_40_n8",
          "MEX<br>GHG emission reduction in 2030: 0.5<br>GCAM 5.3|R_MAC_45_n8",
          "MEX<br>GHG emission reduction in 2030: 0.4<br>GCAM 5.3|R_MAC_50_n8",
          "MEX<br>GHG emission reduction in 2030: 0.5<br>GEM-E3_V2021|EN_NPi2020_500",
          "MEX<br>GHG emission reduction in 2030: 0.4<br>GEM-E3_V2021|EN_NPi2020_600_COV",
          "MEX<br>GHG emission reduction in 2030: 0.2<br>IMAGE 3.2|SSP1_SPA1_19I_D_LB",
          "MEX<br>GHG emission reduction in 2030: nan<br>IMAGE 3.2|SSP1_SPA1_19I_LIRE_LB",
          "MEX<br>GHG emission reduction in 2030: nan<br>IMAGE 3.2|SSP1_SPA1_19I_RE_LB",
          "MEX<br>GHG emission reduction in 2030: nan<br>IMAGE 3.2|SSP2_SPA1_19I_D_LB",
          "MEX<br>GHG emission reduction in 2030: nan<br>IMAGE 3.2|SSP2_SPA1_19I_LIRE_LB",
          "MEX<br>GHG emission reduction in 2030: nan<br>IMAGE 3.2|SSP2_SPA1_19I_RE_LB",
          "MEX<br>GHG emission reduction in 2030: nan<br>IMAGE 3.2|SSP2_SPA2_19I_LI",
          "MEX<br>GHG emission reduction in 2030: nan<br>MESSAGE-GLOBIOM 1.0|ADVANCE_2020_1.5C-2100",
          "MEX<br>GHG emission reduction in 2030: nan<br>MESSAGE-GLOBIOM 1.0|EMF33_1.5C_cost100",
          "MEX<br>GHG emission reduction in 2030: nan<br>MESSAGE-GLOBIOM 1.0|EMF33_1.5C_full",
          "MEX<br>GHG emission reduction in 2030: nan<br>MESSAGE-GLOBIOM 1.0|SSP2-19",
          "MEX<br>GHG emission reduction in 2030: nan<br>MESSAGEix-GLOBIOM 1.0|CD-LINKS_NPi2020_400",
          "MEX<br>GHG emission reduction in 2030: nan<br>MESSAGEix-GLOBIOM 1.0|LowEnergyDemand_1.3_IPCC",
          "MEX<br>GHG emission reduction in 2030: nan<br>MESSAGEix-GLOBIOM_1.1|EN_NPi2020_450",
          "MEX<br>GHG emission reduction in 2030: nan<br>MESSAGEix-GLOBIOM_1.1|EN_NPi2020_500",
          "MEX<br>GHG emission reduction in 2030: nan<br>MESSAGEix-GLOBIOM_1.1|NGFS2_Divergent Net Zero Policies",
          "MEX<br>GHG emission reduction in 2030: nan<br>MESSAGEix-GLOBIOM_1.1|NGFS2_Net-Zero 2050",
          "MEX<br>GHG emission reduction in 2030: nan<br>MESSAGEix-GLOBIOM_1.1|EN_NPi2020_600_COV",
          "MEX<br>GHG emission reduction in 2030: nan<br>MESSAGEix-GLOBIOM_1.1|EN_NPi2020_600_DR4p",
          "MEX<br>GHG emission reduction in 2030: nan<br>MESSAGEix-GLOBIOM_1.1|EN_NPi2020_600_DR3p",
          "MEX<br>GHG emission reduction in 2030: nan<br>MESSAGEix-GLOBIOM_1.1|EN_NPi2020_600_DR2p",
          "MEX<br>GHG emission reduction in 2030: nan<br>MESSAGEix-GLOBIOM_1.1|EN_NPi2020_600_DR1p",
          "MEX<br>GHG emission reduction in 2030: nan<br>MESSAGEix-GLOBIOM_1.2|COV_GreenPush_550",
          "MEX<br>GHG emission reduction in 2030: nan<br>MESSAGEix-GLOBIOM_1.2|COV_NoPolicyNoCOVID_550",
          "MEX<br>GHG emission reduction in 2030: nan<br>MESSAGEix-GLOBIOM_1.2|COV_Restore_550",
          "MEX<br>GHG emission reduction in 2030: nan<br>MESSAGEix-GLOBIOM_1.2|COV_SelfReliance_550",
          "MEX<br>GHG emission reduction in 2030: nan<br>MESSAGEix-GLOBIOM_1.2|COV_SmartUse_550",
          "MEX<br>GHG emission reduction in 2030: nan<br>POLES ADVANCE|ADVANCE_2020_1.5C-2100",
          "MEX<br>GHG emission reduction in 2030: nan<br>POLES EMF33|EMF33_WB2C_cost100",
          "MEX<br>GHG emission reduction in 2030: nan<br>POLES EMF33|EMF33_WB2C_full",
          "MEX<br>GHG emission reduction in 2030: nan<br>POLES EMF33|EMF33_WB2C_nofuel",
          "MEX<br>GHG emission reduction in 2030: nan<br>REMIND 1.7|ADVANCE_2020_1.5C-2100",
          "MEX<br>GHG emission reduction in 2030: nan<br>REMIND 1.7|CEMICS-1.5-CDR12",
          "MEX<br>GHG emission reduction in 2030: nan<br>REMIND 1.7|CEMICS-1.5-CDR20",
          "MEX<br>GHG emission reduction in 2030: nan<br>REMIND 1.7|CEMICS-1.5-CDR8",
          "MEX<br>GHG emission reduction in 2030: nan<br>REMIND 1.7|CEMICS-2.0-CDR8",
          "MEX<br>GHG emission reduction in 2030: nan<br>REMIND 2.1|CEMICS_GDPgrowth_1p5",
          "MEX<br>GHG emission reduction in 2030: nan<br>REMIND 2.1|CEMICS_HotellingConst_1p5",
          "MEX<br>GHG emission reduction in 2030: nan<br>REMIND 2.1|CEMICS_Linear_1p5",
          "MEX<br>GHG emission reduction in 2030: nan<br>REMIND 2.1|CEMICS_opt_1p5",
          "MEX<br>GHG emission reduction in 2030: nan<br>REMIND 2.1|LeastTotalCost_LTC_brkLR15_SSP1_P50",
          "MEX<br>GHG emission reduction in 2030: nan<br>REMIND 2.1|R2p1_SSP1-PkBudg900",
          "MEX<br>GHG emission reduction in 2030: nan<br>REMIND 2.1|R2p1_SSP2-PkBudg900",
          "MEX<br>GHG emission reduction in 2030: nan<br>REMIND 2.1|R2p1_SSP5-PkBudg900",
          "MEX<br>GHG emission reduction in 2030: nan<br>REMIND-MAgPIE 1.5|SSP2-19",
          "MEX<br>GHG emission reduction in 2030: nan<br>REMIND-MAgPIE 1.7-3.0|CD-LINKS_NPi2020_400",
          "MEX<br>GHG emission reduction in 2030: nan<br>REMIND-MAgPIE 1.7-3.0|EMF33_1.5C_nofuel",
          "MEX<br>GHG emission reduction in 2030: nan<br>REMIND-MAgPIE 1.7-3.0|PEP_1p5C_full_eff",
          "MEX<br>GHG emission reduction in 2030: nan<br>REMIND-MAgPIE 1.7-3.0|PEP_1p5C_red_eff",
          "MEX<br>GHG emission reduction in 2030: 0.5<br>REMIND-MAgPIE 1.7-3.0|PEP_2C_red_eff",
          "MEX<br>GHG emission reduction in 2030: 0.7<br>REMIND-MAgPIE 1.7-3.0|SMP_2C_lifesty",
          "MEX<br>GHG emission reduction in 2030: 0.5<br>REMIND-MAgPIE 2.1-4.2|CEMICS_SSP1-1p5C-fullCDR",
          "MEX<br>GHG emission reduction in 2030: 0.6<br>REMIND-MAgPIE 2.1-4.2|CEMICS_SSP1-1p5C-minCDR",
          "MEX<br>GHG emission reduction in 2030: 0.5<br>REMIND-MAgPIE 2.1-4.2|CEMICS_SSP2-1p5C-fullCDR"
         ],
         "type": "box",
         "whiskerwidth": 0.2,
         "xaxis": "x",
         "y": [
          null,
          null,
          null,
          1.0637353683660367,
          0.6631844172508978,
          0.2909788103550042,
          0.1691913384310014,
          0.10537200216357251,
          0.6081699573789173,
          0.5508976448955577,
          0.47139859971389136,
          0.5695468284908849,
          0.4761673849973552,
          0.41380146748950175,
          0.5178324396810511,
          0.4188741432058058,
          0.23787584250784014,
          null,
          null,
          null,
          null,
          null,
          null,
          null,
          null,
          null,
          null,
          null,
          null,
          null,
          null,
          null,
          null,
          null,
          null,
          null,
          null,
          null,
          null,
          null,
          null,
          null,
          null,
          null,
          null,
          null,
          null,
          null,
          null,
          null,
          null,
          null,
          null,
          null,
          null,
          null,
          null,
          null,
          null,
          null,
          null,
          null,
          null,
          null,
          null,
          0.5372314855194051,
          0.6764883900852223,
          0.5264761279928383,
          0.5764632363712596,
          0.5191234104739479
         ],
         "yaxis": "y"
        },
        {
         "marker": {
          "color": "blue",
          "colorscale": [
           [
            0,
            "rgb(158,1,66)"
           ],
           [
            0.1,
            "rgb(213,62,79)"
           ],
           [
            0.2,
            "rgb(244,109,67)"
           ],
           [
            0.3,
            "rgb(253,174,97)"
           ],
           [
            0.4,
            "rgb(254,224,139)"
           ],
           [
            0.5,
            "rgb(255,255,191)"
           ],
           [
            0.6,
            "rgb(230,245,152)"
           ],
           [
            0.7,
            "rgb(171,221,164)"
           ],
           [
            0.8,
            "rgb(102,194,165)"
           ],
           [
            0.9,
            "rgb(50,136,189)"
           ],
           [
            1,
            "rgb(94,79,162)"
           ]
          ],
          "line": {
           "color": "black",
           "width": 0.2
          },
          "size": 25,
          "symbol": "circle"
         },
         "mode": "markers+text",
         "showlegend": false,
         "text": "GF",
         "textfont": {
          "color": "black",
          "family": "Arial black",
          "size": 13
         },
         "type": "scatter",
         "x": [
          "MEX"
         ],
         "xaxis": "x",
         "y": [
          0.43544657558611094
         ],
         "yaxis": "y"
        },
        {
         "marker": {
          "color": "blue",
          "colorscale": [
           [
            0,
            "rgb(158,1,66)"
           ],
           [
            0.1,
            "rgb(213,62,79)"
           ],
           [
            0.2,
            "rgb(244,109,67)"
           ],
           [
            0.3,
            "rgb(253,174,97)"
           ],
           [
            0.4,
            "rgb(254,224,139)"
           ],
           [
            0.5,
            "rgb(255,255,191)"
           ],
           [
            0.6,
            "rgb(230,245,152)"
           ],
           [
            0.7,
            "rgb(171,221,164)"
           ],
           [
            0.8,
            "rgb(102,194,165)"
           ],
           [
            0.9,
            "rgb(50,136,189)"
           ],
           [
            1,
            "rgb(94,79,162)"
           ]
          ],
          "line": {
           "color": "black",
           "width": 0.2
          },
          "size": 25,
          "symbol": "square"
         },
         "mode": "markers+text",
         "showlegend": false,
         "text": "PC",
         "textfont": {
          "color": "black",
          "family": "Arial black",
          "size": 13
         },
         "type": "scatter",
         "x": [
          "MEX"
         ],
         "xaxis": "x",
         "y": [
          0.42575801236245997
         ],
         "yaxis": "y"
        },
        {
         "marker": {
          "color": "blue",
          "colorscale": [
           [
            0,
            "rgb(158,1,66)"
           ],
           [
            0.1,
            "rgb(213,62,79)"
           ],
           [
            0.2,
            "rgb(244,109,67)"
           ],
           [
            0.3,
            "rgb(253,174,97)"
           ],
           [
            0.4,
            "rgb(254,224,139)"
           ],
           [
            0.5,
            "rgb(255,255,191)"
           ],
           [
            0.6,
            "rgb(230,245,152)"
           ],
           [
            0.7,
            "rgb(171,221,164)"
           ],
           [
            0.8,
            "rgb(102,194,165)"
           ],
           [
            0.9,
            "rgb(50,136,189)"
           ],
           [
            1,
            "rgb(94,79,162)"
           ]
          ],
          "line": {
           "color": "black",
           "width": 0.2
          },
          "size": 25,
          "symbol": "diamond"
         },
         "mode": "markers+text",
         "showlegend": false,
         "text": "PCC",
         "textfont": {
          "color": "black",
          "family": "Arial black",
          "size": 13
         },
         "type": "scatter",
         "x": [
          "MEX"
         ],
         "xaxis": "x",
         "y": [
          0.43060229397428545
         ],
         "yaxis": "y"
        },
        {
         "marker": {
          "color": "blue",
          "colorscale": [
           [
            0,
            "rgb(158,1,66)"
           ],
           [
            0.1,
            "rgb(213,62,79)"
           ],
           [
            0.2,
            "rgb(244,109,67)"
           ],
           [
            0.3,
            "rgb(253,174,97)"
           ],
           [
            0.4,
            "rgb(254,224,139)"
           ],
           [
            0.5,
            "rgb(255,255,191)"
           ],
           [
            0.6,
            "rgb(230,245,152)"
           ],
           [
            0.7,
            "rgb(171,221,164)"
           ],
           [
            0.8,
            "rgb(102,194,165)"
           ],
           [
            0.9,
            "rgb(50,136,189)"
           ],
           [
            1,
            "rgb(94,79,162)"
           ]
          ],
          "line": {
           "color": "black",
           "width": 0.2
          },
          "size": 25,
          "symbol": "triangle-up"
         },
         "mode": "markers+text",
         "showlegend": false,
         "text": "NDC",
         "textfont": {
          "color": "black",
          "family": "Arial black",
          "size": 13
         },
         "type": "scatter",
         "x": [
          "MEX"
         ],
         "xaxis": "x",
         "y": [
          -0.11940106755436182
         ],
         "yaxis": "y"
        },
        {
         "boxpoints": "all",
         "fillcolor": "blue",
         "hovertemplate": "%{text}",
         "jitter": 0.5,
         "line": {
          "color": "black",
          "width": 0.5
         },
         "marker": {
          "color": "black",
          "size": 3
         },
         "name": "MEX",
         "pointpos": -1.8,
         "showlegend": false,
         "text": [
          "MEX<br>Policy costs in 2030: nan<br>AIM/CGE 2.1|CD-LINKS_NPi2020_400",
          "MEX<br>Policy costs in 2030: nan<br>AIM/CGE 2.2|EN_NPi2020_300f",
          "MEX<br>Policy costs in 2030: nan<br>AIM/CGE 2.2|EN_NPi2020_600",
          "MEX<br>Policy costs in 2030: nan<br>AIM/Hub-Global 2.0|1.5C",
          "MEX<br>Policy costs in 2030: nan<br>C-ROADS-5.005|Ratchet-1.5-limCDR-noOS",
          "MEX<br>Policy costs in 2030: nan<br>C-ROADS-5.005|Ratchet-1.5-noCDR",
          "MEX<br>Policy costs in 2030: nan<br>C-ROADS-5.005|Ratchet-1.5-noCDR-noOS",
          "MEX<br>Policy costs in 2030: nan<br>COFFEE 1.1|EN_NPi2020_400",
          "MEX<br>Policy costs in 2030: 48.0<br>GCAM 4.2|SSP1-19",
          "MEX<br>Policy costs in 2030: 25.9<br>GCAM 5.3|R_MAC_30_n0",
          "MEX<br>Policy costs in 2030: nan<br>GCAM 5.3|R_MAC_35_n8",
          "MEX<br>Policy costs in 2030: nan<br>GCAM 5.3|R_MAC_40_n8",
          "MEX<br>Policy costs in 2030: nan<br>GCAM 5.3|R_MAC_45_n8",
          "MEX<br>Policy costs in 2030: nan<br>GCAM 5.3|R_MAC_50_n8",
          "MEX<br>Policy costs in 2030: nan<br>GEM-E3_V2021|EN_NPi2020_500",
          "MEX<br>Policy costs in 2030: nan<br>GEM-E3_V2021|EN_NPi2020_600_COV",
          "MEX<br>Policy costs in 2030: nan<br>IMAGE 3.2|SSP1_SPA1_19I_D_LB",
          "MEX<br>Policy costs in 2030: nan<br>IMAGE 3.2|SSP1_SPA1_19I_LIRE_LB",
          "MEX<br>Policy costs in 2030: nan<br>IMAGE 3.2|SSP1_SPA1_19I_RE_LB",
          "MEX<br>Policy costs in 2030: nan<br>IMAGE 3.2|SSP2_SPA1_19I_D_LB",
          "MEX<br>Policy costs in 2030: nan<br>IMAGE 3.2|SSP2_SPA1_19I_LIRE_LB",
          "MEX<br>Policy costs in 2030: nan<br>IMAGE 3.2|SSP2_SPA1_19I_RE_LB",
          "MEX<br>Policy costs in 2030: nan<br>IMAGE 3.2|SSP2_SPA2_19I_LI",
          "MEX<br>Policy costs in 2030: nan<br>MESSAGE-GLOBIOM 1.0|ADVANCE_2020_1.5C-2100",
          "MEX<br>Policy costs in 2030: nan<br>MESSAGE-GLOBIOM 1.0|EMF33_1.5C_cost100",
          "MEX<br>Policy costs in 2030: nan<br>MESSAGE-GLOBIOM 1.0|EMF33_1.5C_full",
          "MEX<br>Policy costs in 2030: nan<br>MESSAGE-GLOBIOM 1.0|SSP2-19",
          "MEX<br>Policy costs in 2030: nan<br>MESSAGEix-GLOBIOM 1.0|CD-LINKS_NPi2020_400",
          "MEX<br>Policy costs in 2030: nan<br>MESSAGEix-GLOBIOM 1.0|LowEnergyDemand_1.3_IPCC",
          "MEX<br>Policy costs in 2030: nan<br>MESSAGEix-GLOBIOM_1.1|EN_NPi2020_450",
          "MEX<br>Policy costs in 2030: nan<br>MESSAGEix-GLOBIOM_1.1|EN_NPi2020_500",
          "MEX<br>Policy costs in 2030: nan<br>MESSAGEix-GLOBIOM_1.1|NGFS2_Divergent Net Zero Policies",
          "MEX<br>Policy costs in 2030: nan<br>MESSAGEix-GLOBIOM_1.1|NGFS2_Net-Zero 2050",
          "MEX<br>Policy costs in 2030: nan<br>MESSAGEix-GLOBIOM_1.1|EN_NPi2020_600_COV",
          "MEX<br>Policy costs in 2030: nan<br>MESSAGEix-GLOBIOM_1.1|EN_NPi2020_600_DR4p",
          "MEX<br>Policy costs in 2030: nan<br>MESSAGEix-GLOBIOM_1.1|EN_NPi2020_600_DR3p",
          "MEX<br>Policy costs in 2030: nan<br>MESSAGEix-GLOBIOM_1.1|EN_NPi2020_600_DR2p",
          "MEX<br>Policy costs in 2030: nan<br>MESSAGEix-GLOBIOM_1.1|EN_NPi2020_600_DR1p",
          "MEX<br>Policy costs in 2030: nan<br>MESSAGEix-GLOBIOM_1.2|COV_GreenPush_550",
          "MEX<br>Policy costs in 2030: nan<br>MESSAGEix-GLOBIOM_1.2|COV_NoPolicyNoCOVID_550",
          "MEX<br>Policy costs in 2030: nan<br>MESSAGEix-GLOBIOM_1.2|COV_Restore_550",
          "MEX<br>Policy costs in 2030: nan<br>MESSAGEix-GLOBIOM_1.2|COV_SelfReliance_550",
          "MEX<br>Policy costs in 2030: nan<br>MESSAGEix-GLOBIOM_1.2|COV_SmartUse_550",
          "MEX<br>Policy costs in 2030: nan<br>POLES ADVANCE|ADVANCE_2020_1.5C-2100",
          "MEX<br>Policy costs in 2030: nan<br>POLES EMF33|EMF33_WB2C_cost100",
          "MEX<br>Policy costs in 2030: nan<br>POLES EMF33|EMF33_WB2C_full",
          "MEX<br>Policy costs in 2030: nan<br>POLES EMF33|EMF33_WB2C_nofuel",
          "MEX<br>Policy costs in 2030: nan<br>REMIND 1.7|ADVANCE_2020_1.5C-2100",
          "MEX<br>Policy costs in 2030: nan<br>REMIND 1.7|CEMICS-1.5-CDR12",
          "MEX<br>Policy costs in 2030: nan<br>REMIND 1.7|CEMICS-1.5-CDR20",
          "MEX<br>Policy costs in 2030: nan<br>REMIND 1.7|CEMICS-1.5-CDR8",
          "MEX<br>Policy costs in 2030: nan<br>REMIND 1.7|CEMICS-2.0-CDR8",
          "MEX<br>Policy costs in 2030: nan<br>REMIND 2.1|CEMICS_GDPgrowth_1p5",
          "MEX<br>Policy costs in 2030: nan<br>REMIND 2.1|CEMICS_HotellingConst_1p5",
          "MEX<br>Policy costs in 2030: nan<br>REMIND 2.1|CEMICS_Linear_1p5",
          "MEX<br>Policy costs in 2030: nan<br>REMIND 2.1|CEMICS_opt_1p5",
          "MEX<br>Policy costs in 2030: nan<br>REMIND 2.1|LeastTotalCost_LTC_brkLR15_SSP1_P50",
          "MEX<br>Policy costs in 2030: nan<br>REMIND 2.1|R2p1_SSP1-PkBudg900",
          "MEX<br>Policy costs in 2030: nan<br>REMIND 2.1|R2p1_SSP2-PkBudg900",
          "MEX<br>Policy costs in 2030: nan<br>REMIND 2.1|R2p1_SSP5-PkBudg900",
          "MEX<br>Policy costs in 2030: nan<br>REMIND-MAgPIE 1.5|SSP2-19",
          "MEX<br>Policy costs in 2030: nan<br>REMIND-MAgPIE 1.7-3.0|CD-LINKS_NPi2020_400",
          "MEX<br>Policy costs in 2030: nan<br>REMIND-MAgPIE 1.7-3.0|EMF33_1.5C_nofuel",
          "MEX<br>Policy costs in 2030: nan<br>REMIND-MAgPIE 1.7-3.0|PEP_1p5C_full_eff",
          "MEX<br>Policy costs in 2030: nan<br>REMIND-MAgPIE 1.7-3.0|PEP_1p5C_red_eff",
          "MEX<br>Policy costs in 2030: 92.7<br>REMIND-MAgPIE 1.7-3.0|PEP_2C_red_eff",
          "MEX<br>Policy costs in 2030: 131.0<br>REMIND-MAgPIE 1.7-3.0|SMP_2C_lifesty",
          "MEX<br>Policy costs in 2030: 88.4<br>REMIND-MAgPIE 2.1-4.2|CEMICS_SSP1-1p5C-fullCDR",
          "MEX<br>Policy costs in 2030: 114.2<br>REMIND-MAgPIE 2.1-4.2|CEMICS_SSP1-1p5C-minCDR",
          "MEX<br>Policy costs in 2030: 84.6<br>REMIND-MAgPIE 2.1-4.2|CEMICS_SSP2-1p5C-fullCDR"
         ],
         "type": "box",
         "whiskerwidth": 0.2,
         "xaxis": "x2",
         "y": [
          null,
          null,
          null,
          null,
          null,
          null,
          null,
          null,
          48.01758506219349,
          25.86388770003365,
          null,
          null,
          null,
          null,
          null,
          null,
          null,
          null,
          null,
          null,
          null,
          null,
          null,
          null,
          null,
          null,
          null,
          null,
          null,
          null,
          null,
          null,
          null,
          null,
          null,
          null,
          null,
          null,
          null,
          null,
          null,
          null,
          null,
          null,
          null,
          null,
          null,
          null,
          null,
          null,
          null,
          null,
          null,
          null,
          null,
          null,
          null,
          null,
          null,
          null,
          null,
          null,
          null,
          null,
          null,
          92.67890748209,
          130.952750038839,
          88.3971216737698,
          114.166381990077,
          84.5532828068141
         ],
         "yaxis": "y2"
        },
        {
         "boxpoints": "all",
         "fillcolor": "blue",
         "hovertemplate": "%{text}",
         "jitter": 0.5,
         "line": {
          "color": "black",
          "width": 0.5
         },
         "marker": {
          "color": "black",
          "size": 3
         },
         "name": "MEX",
         "pointpos": -1.8,
         "showlegend": false,
         "text": [
          "MEX<br>CCS in 2030: nan<br>AIM/CGE 2.1|CD-LINKS_NPi2020_400",
          "MEX<br>CCS in 2030: nan<br>AIM/CGE 2.2|EN_NPi2020_300f",
          "MEX<br>CCS in 2030: nan<br>AIM/CGE 2.2|EN_NPi2020_600",
          "MEX<br>CCS in 2030: 633.5<br>AIM/Hub-Global 2.0|1.5C",
          "MEX<br>CCS in 2030: 420.0<br>C-ROADS-5.005|Ratchet-1.5-limCDR-noOS",
          "MEX<br>CCS in 2030: 208.4<br>C-ROADS-5.005|Ratchet-1.5-noCDR",
          "MEX<br>CCS in 2030: 142.2<br>C-ROADS-5.005|Ratchet-1.5-noCDR-noOS",
          "MEX<br>CCS in 2030: 110.0<br>COFFEE 1.1|EN_NPi2020_400",
          "MEX<br>CCS in 2030: 0.0<br>GCAM 4.2|SSP1-19",
          "MEX<br>CCS in 2030: 0.0<br>GCAM 5.3|R_MAC_30_n0",
          "MEX<br>CCS in 2030: 44.7<br>GCAM 5.3|R_MAC_35_n8",
          "MEX<br>CCS in 2030: 69.3<br>GCAM 5.3|R_MAC_40_n8",
          "MEX<br>CCS in 2030: 39.3<br>GCAM 5.3|R_MAC_45_n8",
          "MEX<br>CCS in 2030: 86.6<br>GCAM 5.3|R_MAC_50_n8",
          "MEX<br>CCS in 2030: 43.9<br>GEM-E3_V2021|EN_NPi2020_500",
          "MEX<br>CCS in 2030: 68.4<br>GEM-E3_V2021|EN_NPi2020_600_COV",
          "MEX<br>CCS in 2030: 6.2<br>IMAGE 3.2|SSP1_SPA1_19I_D_LB",
          "MEX<br>CCS in 2030: nan<br>IMAGE 3.2|SSP1_SPA1_19I_LIRE_LB",
          "MEX<br>CCS in 2030: nan<br>IMAGE 3.2|SSP1_SPA1_19I_RE_LB",
          "MEX<br>CCS in 2030: nan<br>IMAGE 3.2|SSP2_SPA1_19I_D_LB",
          "MEX<br>CCS in 2030: nan<br>IMAGE 3.2|SSP2_SPA1_19I_LIRE_LB",
          "MEX<br>CCS in 2030: nan<br>IMAGE 3.2|SSP2_SPA1_19I_RE_LB",
          "MEX<br>CCS in 2030: nan<br>IMAGE 3.2|SSP2_SPA2_19I_LI",
          "MEX<br>CCS in 2030: nan<br>MESSAGE-GLOBIOM 1.0|ADVANCE_2020_1.5C-2100",
          "MEX<br>CCS in 2030: nan<br>MESSAGE-GLOBIOM 1.0|EMF33_1.5C_cost100",
          "MEX<br>CCS in 2030: nan<br>MESSAGE-GLOBIOM 1.0|EMF33_1.5C_full",
          "MEX<br>CCS in 2030: nan<br>MESSAGE-GLOBIOM 1.0|SSP2-19",
          "MEX<br>CCS in 2030: nan<br>MESSAGEix-GLOBIOM 1.0|CD-LINKS_NPi2020_400",
          "MEX<br>CCS in 2030: nan<br>MESSAGEix-GLOBIOM 1.0|LowEnergyDemand_1.3_IPCC",
          "MEX<br>CCS in 2030: nan<br>MESSAGEix-GLOBIOM_1.1|EN_NPi2020_450",
          "MEX<br>CCS in 2030: nan<br>MESSAGEix-GLOBIOM_1.1|EN_NPi2020_500",
          "MEX<br>CCS in 2030: nan<br>MESSAGEix-GLOBIOM_1.1|NGFS2_Divergent Net Zero Policies",
          "MEX<br>CCS in 2030: nan<br>MESSAGEix-GLOBIOM_1.1|NGFS2_Net-Zero 2050",
          "MEX<br>CCS in 2030: nan<br>MESSAGEix-GLOBIOM_1.1|EN_NPi2020_600_COV",
          "MEX<br>CCS in 2030: nan<br>MESSAGEix-GLOBIOM_1.1|EN_NPi2020_600_DR4p",
          "MEX<br>CCS in 2030: nan<br>MESSAGEix-GLOBIOM_1.1|EN_NPi2020_600_DR3p",
          "MEX<br>CCS in 2030: nan<br>MESSAGEix-GLOBIOM_1.1|EN_NPi2020_600_DR2p",
          "MEX<br>CCS in 2030: nan<br>MESSAGEix-GLOBIOM_1.1|EN_NPi2020_600_DR1p",
          "MEX<br>CCS in 2030: nan<br>MESSAGEix-GLOBIOM_1.2|COV_GreenPush_550",
          "MEX<br>CCS in 2030: nan<br>MESSAGEix-GLOBIOM_1.2|COV_NoPolicyNoCOVID_550",
          "MEX<br>CCS in 2030: nan<br>MESSAGEix-GLOBIOM_1.2|COV_Restore_550",
          "MEX<br>CCS in 2030: nan<br>MESSAGEix-GLOBIOM_1.2|COV_SelfReliance_550",
          "MEX<br>CCS in 2030: nan<br>MESSAGEix-GLOBIOM_1.2|COV_SmartUse_550",
          "MEX<br>CCS in 2030: nan<br>POLES ADVANCE|ADVANCE_2020_1.5C-2100",
          "MEX<br>CCS in 2030: nan<br>POLES EMF33|EMF33_WB2C_cost100",
          "MEX<br>CCS in 2030: nan<br>POLES EMF33|EMF33_WB2C_full",
          "MEX<br>CCS in 2030: nan<br>POLES EMF33|EMF33_WB2C_nofuel",
          "MEX<br>CCS in 2030: nan<br>REMIND 1.7|ADVANCE_2020_1.5C-2100",
          "MEX<br>CCS in 2030: nan<br>REMIND 1.7|CEMICS-1.5-CDR12",
          "MEX<br>CCS in 2030: nan<br>REMIND 1.7|CEMICS-1.5-CDR20",
          "MEX<br>CCS in 2030: nan<br>REMIND 1.7|CEMICS-1.5-CDR8",
          "MEX<br>CCS in 2030: nan<br>REMIND 1.7|CEMICS-2.0-CDR8",
          "MEX<br>CCS in 2030: nan<br>REMIND 2.1|CEMICS_GDPgrowth_1p5",
          "MEX<br>CCS in 2030: nan<br>REMIND 2.1|CEMICS_HotellingConst_1p5",
          "MEX<br>CCS in 2030: nan<br>REMIND 2.1|CEMICS_Linear_1p5",
          "MEX<br>CCS in 2030: nan<br>REMIND 2.1|CEMICS_opt_1p5",
          "MEX<br>CCS in 2030: nan<br>REMIND 2.1|LeastTotalCost_LTC_brkLR15_SSP1_P50",
          "MEX<br>CCS in 2030: nan<br>REMIND 2.1|R2p1_SSP1-PkBudg900",
          "MEX<br>CCS in 2030: nan<br>REMIND 2.1|R2p1_SSP2-PkBudg900",
          "MEX<br>CCS in 2030: nan<br>REMIND 2.1|R2p1_SSP5-PkBudg900",
          "MEX<br>CCS in 2030: nan<br>REMIND-MAgPIE 1.5|SSP2-19",
          "MEX<br>CCS in 2030: nan<br>REMIND-MAgPIE 1.7-3.0|CD-LINKS_NPi2020_400",
          "MEX<br>CCS in 2030: nan<br>REMIND-MAgPIE 1.7-3.0|EMF33_1.5C_nofuel",
          "MEX<br>CCS in 2030: nan<br>REMIND-MAgPIE 1.7-3.0|PEP_1p5C_full_eff",
          "MEX<br>CCS in 2030: nan<br>REMIND-MAgPIE 1.7-3.0|PEP_1p5C_red_eff",
          "MEX<br>CCS in 2030: 15.2<br>REMIND-MAgPIE 1.7-3.0|PEP_2C_red_eff",
          "MEX<br>CCS in 2030: 15.2<br>REMIND-MAgPIE 1.7-3.0|SMP_2C_lifesty",
          "MEX<br>CCS in 2030: 15.2<br>REMIND-MAgPIE 2.1-4.2|CEMICS_SSP1-1p5C-fullCDR",
          "MEX<br>CCS in 2030: 15.2<br>REMIND-MAgPIE 2.1-4.2|CEMICS_SSP1-1p5C-minCDR",
          "MEX<br>CCS in 2030: 15.2<br>REMIND-MAgPIE 2.1-4.2|CEMICS_SSP2-1p5C-fullCDR"
         ],
         "type": "box",
         "whiskerwidth": 0.2,
         "xaxis": "x3",
         "y": [
          null,
          null,
          null,
          633.483649429417,
          419.995141074,
          208.418345976121,
          142.241154494157,
          109.962976941967,
          0.0004748287440768,
          0.0003974332757755,
          44.68956458895291,
          69.34328359323558,
          39.29874626791825,
          86.61484313111727,
          43.91665595696672,
          68.3720088650269,
          6.181763960998586,
          null,
          null,
          null,
          null,
          null,
          null,
          null,
          null,
          null,
          null,
          null,
          null,
          null,
          null,
          null,
          null,
          null,
          null,
          null,
          null,
          null,
          null,
          null,
          null,
          null,
          null,
          null,
          null,
          null,
          null,
          null,
          null,
          null,
          null,
          null,
          null,
          null,
          null,
          null,
          null,
          null,
          null,
          null,
          null,
          null,
          null,
          null,
          null,
          15.2103307145084,
          15.2179725016412,
          15.2103334283658,
          15.2179157115248,
          15.2179136113783
         ],
         "yaxis": "y3"
        },
        {
         "boxpoints": "all",
         "fillcolor": "blue",
         "hovertemplate": "%{text}",
         "jitter": 0.5,
         "line": {
          "color": "black",
          "width": 0.5
         },
         "marker": {
          "color": "black",
          "size": 3
         },
         "name": "MEX",
         "pointpos": -1.8,
         "showlegend": false,
         "text": [
          "MEX<br>Primary biomass traded in 2030: nan<br>AIM/CGE 2.1|CD-LINKS_NPi2020_400",
          "MEX<br>Primary biomass traded in 2030: nan<br>AIM/CGE 2.2|EN_NPi2020_300f",
          "MEX<br>Primary biomass traded in 2030: nan<br>AIM/CGE 2.2|EN_NPi2020_600",
          "MEX<br>Primary biomass traded in 2030: nan<br>AIM/Hub-Global 2.0|1.5C",
          "MEX<br>Primary biomass traded in 2030: nan<br>C-ROADS-5.005|Ratchet-1.5-limCDR-noOS",
          "MEX<br>Primary biomass traded in 2030: nan<br>C-ROADS-5.005|Ratchet-1.5-noCDR",
          "MEX<br>Primary biomass traded in 2030: nan<br>C-ROADS-5.005|Ratchet-1.5-noCDR-noOS",
          "MEX<br>Primary biomass traded in 2030: nan<br>COFFEE 1.1|EN_NPi2020_400",
          "MEX<br>Primary biomass traded in 2030: nan<br>GCAM 4.2|SSP1-19",
          "MEX<br>Primary biomass traded in 2030: nan<br>GCAM 5.3|R_MAC_30_n0",
          "MEX<br>Primary biomass traded in 2030: -0.1<br>GCAM 5.3|R_MAC_35_n8",
          "MEX<br>Primary biomass traded in 2030: -0.1<br>GCAM 5.3|R_MAC_40_n8",
          "MEX<br>Primary biomass traded in 2030: -0.1<br>GCAM 5.3|R_MAC_45_n8",
          "MEX<br>Primary biomass traded in 2030: -0.1<br>GCAM 5.3|R_MAC_50_n8",
          "MEX<br>Primary biomass traded in 2030: -0.0<br>GEM-E3_V2021|EN_NPi2020_500",
          "MEX<br>Primary biomass traded in 2030: -0.1<br>GEM-E3_V2021|EN_NPi2020_600_COV",
          "MEX<br>Primary biomass traded in 2030: 0.0<br>IMAGE 3.2|SSP1_SPA1_19I_D_LB",
          "MEX<br>Primary biomass traded in 2030: nan<br>IMAGE 3.2|SSP1_SPA1_19I_LIRE_LB",
          "MEX<br>Primary biomass traded in 2030: nan<br>IMAGE 3.2|SSP1_SPA1_19I_RE_LB",
          "MEX<br>Primary biomass traded in 2030: nan<br>IMAGE 3.2|SSP2_SPA1_19I_D_LB",
          "MEX<br>Primary biomass traded in 2030: nan<br>IMAGE 3.2|SSP2_SPA1_19I_LIRE_LB",
          "MEX<br>Primary biomass traded in 2030: nan<br>IMAGE 3.2|SSP2_SPA1_19I_RE_LB",
          "MEX<br>Primary biomass traded in 2030: nan<br>IMAGE 3.2|SSP2_SPA2_19I_LI",
          "MEX<br>Primary biomass traded in 2030: nan<br>MESSAGE-GLOBIOM 1.0|ADVANCE_2020_1.5C-2100",
          "MEX<br>Primary biomass traded in 2030: nan<br>MESSAGE-GLOBIOM 1.0|EMF33_1.5C_cost100",
          "MEX<br>Primary biomass traded in 2030: nan<br>MESSAGE-GLOBIOM 1.0|EMF33_1.5C_full",
          "MEX<br>Primary biomass traded in 2030: nan<br>MESSAGE-GLOBIOM 1.0|SSP2-19",
          "MEX<br>Primary biomass traded in 2030: nan<br>MESSAGEix-GLOBIOM 1.0|CD-LINKS_NPi2020_400",
          "MEX<br>Primary biomass traded in 2030: nan<br>MESSAGEix-GLOBIOM 1.0|LowEnergyDemand_1.3_IPCC",
          "MEX<br>Primary biomass traded in 2030: nan<br>MESSAGEix-GLOBIOM_1.1|EN_NPi2020_450",
          "MEX<br>Primary biomass traded in 2030: nan<br>MESSAGEix-GLOBIOM_1.1|EN_NPi2020_500",
          "MEX<br>Primary biomass traded in 2030: nan<br>MESSAGEix-GLOBIOM_1.1|NGFS2_Divergent Net Zero Policies",
          "MEX<br>Primary biomass traded in 2030: nan<br>MESSAGEix-GLOBIOM_1.1|NGFS2_Net-Zero 2050",
          "MEX<br>Primary biomass traded in 2030: nan<br>MESSAGEix-GLOBIOM_1.1|EN_NPi2020_600_COV",
          "MEX<br>Primary biomass traded in 2030: nan<br>MESSAGEix-GLOBIOM_1.1|EN_NPi2020_600_DR4p",
          "MEX<br>Primary biomass traded in 2030: nan<br>MESSAGEix-GLOBIOM_1.1|EN_NPi2020_600_DR3p",
          "MEX<br>Primary biomass traded in 2030: nan<br>MESSAGEix-GLOBIOM_1.1|EN_NPi2020_600_DR2p",
          "MEX<br>Primary biomass traded in 2030: nan<br>MESSAGEix-GLOBIOM_1.1|EN_NPi2020_600_DR1p",
          "MEX<br>Primary biomass traded in 2030: nan<br>MESSAGEix-GLOBIOM_1.2|COV_GreenPush_550",
          "MEX<br>Primary biomass traded in 2030: nan<br>MESSAGEix-GLOBIOM_1.2|COV_NoPolicyNoCOVID_550",
          "MEX<br>Primary biomass traded in 2030: nan<br>MESSAGEix-GLOBIOM_1.2|COV_Restore_550",
          "MEX<br>Primary biomass traded in 2030: nan<br>MESSAGEix-GLOBIOM_1.2|COV_SelfReliance_550",
          "MEX<br>Primary biomass traded in 2030: nan<br>MESSAGEix-GLOBIOM_1.2|COV_SmartUse_550",
          "MEX<br>Primary biomass traded in 2030: nan<br>POLES ADVANCE|ADVANCE_2020_1.5C-2100",
          "MEX<br>Primary biomass traded in 2030: nan<br>POLES EMF33|EMF33_WB2C_cost100",
          "MEX<br>Primary biomass traded in 2030: nan<br>POLES EMF33|EMF33_WB2C_full",
          "MEX<br>Primary biomass traded in 2030: nan<br>POLES EMF33|EMF33_WB2C_nofuel",
          "MEX<br>Primary biomass traded in 2030: nan<br>REMIND 1.7|ADVANCE_2020_1.5C-2100",
          "MEX<br>Primary biomass traded in 2030: nan<br>REMIND 1.7|CEMICS-1.5-CDR12",
          "MEX<br>Primary biomass traded in 2030: nan<br>REMIND 1.7|CEMICS-1.5-CDR20",
          "MEX<br>Primary biomass traded in 2030: nan<br>REMIND 1.7|CEMICS-1.5-CDR8",
          "MEX<br>Primary biomass traded in 2030: nan<br>REMIND 1.7|CEMICS-2.0-CDR8",
          "MEX<br>Primary biomass traded in 2030: nan<br>REMIND 2.1|CEMICS_GDPgrowth_1p5",
          "MEX<br>Primary biomass traded in 2030: nan<br>REMIND 2.1|CEMICS_HotellingConst_1p5",
          "MEX<br>Primary biomass traded in 2030: nan<br>REMIND 2.1|CEMICS_Linear_1p5",
          "MEX<br>Primary biomass traded in 2030: nan<br>REMIND 2.1|CEMICS_opt_1p5",
          "MEX<br>Primary biomass traded in 2030: nan<br>REMIND 2.1|LeastTotalCost_LTC_brkLR15_SSP1_P50",
          "MEX<br>Primary biomass traded in 2030: nan<br>REMIND 2.1|R2p1_SSP1-PkBudg900",
          "MEX<br>Primary biomass traded in 2030: nan<br>REMIND 2.1|R2p1_SSP2-PkBudg900",
          "MEX<br>Primary biomass traded in 2030: nan<br>REMIND 2.1|R2p1_SSP5-PkBudg900",
          "MEX<br>Primary biomass traded in 2030: nan<br>REMIND-MAgPIE 1.5|SSP2-19",
          "MEX<br>Primary biomass traded in 2030: nan<br>REMIND-MAgPIE 1.7-3.0|CD-LINKS_NPi2020_400",
          "MEX<br>Primary biomass traded in 2030: nan<br>REMIND-MAgPIE 1.7-3.0|EMF33_1.5C_nofuel",
          "MEX<br>Primary biomass traded in 2030: nan<br>REMIND-MAgPIE 1.7-3.0|PEP_1p5C_full_eff",
          "MEX<br>Primary biomass traded in 2030: nan<br>REMIND-MAgPIE 1.7-3.0|PEP_1p5C_red_eff",
          "MEX<br>Primary biomass traded in 2030: nan<br>REMIND-MAgPIE 1.7-3.0|PEP_2C_red_eff",
          "MEX<br>Primary biomass traded in 2030: nan<br>REMIND-MAgPIE 1.7-3.0|SMP_2C_lifesty",
          "MEX<br>Primary biomass traded in 2030: nan<br>REMIND-MAgPIE 2.1-4.2|CEMICS_SSP1-1p5C-fullCDR",
          "MEX<br>Primary biomass traded in 2030: nan<br>REMIND-MAgPIE 2.1-4.2|CEMICS_SSP1-1p5C-minCDR",
          "MEX<br>Primary biomass traded in 2030: nan<br>REMIND-MAgPIE 2.1-4.2|CEMICS_SSP2-1p5C-fullCDR"
         ],
         "type": "box",
         "whiskerwidth": 0.2,
         "xaxis": "x4",
         "y": [
          null,
          null,
          null,
          null,
          null,
          null,
          null,
          null,
          null,
          null,
          -0.0573878707885742,
          -0.0709768295288086,
          -0.0661718063354492,
          -0.0884383392333984,
          -0.0410614395141601,
          -0.0841121292114257,
          0,
          null,
          null,
          null,
          null,
          null,
          null,
          null,
          null,
          null,
          null,
          null,
          null,
          null,
          null,
          null,
          null,
          null,
          null,
          null,
          null,
          null,
          null,
          null,
          null,
          null,
          null,
          null,
          null,
          null,
          null,
          null,
          null,
          null,
          null,
          null,
          null,
          null,
          null,
          null,
          null,
          null,
          null,
          null,
          null,
          null,
          null,
          null,
          null,
          null,
          null,
          null,
          null,
          null
         ],
         "yaxis": "y4"
        },
        {
         "boxpoints": "all",
         "fillcolor": "darkgreen",
         "hovertemplate": "%{text}",
         "jitter": 0.5,
         "line": {
          "color": "black",
          "width": 0.5
         },
         "marker": {
          "color": "black",
          "size": 3
         },
         "name": "SAU",
         "pointpos": -1.8,
         "showlegend": false,
         "text": [
          "SAU<br>GHG emission reduction in 2030: nan<br>AIM/CGE 2.1|CD-LINKS_NPi2020_400",
          "SAU<br>GHG emission reduction in 2030: nan<br>AIM/CGE 2.2|EN_NPi2020_300f",
          "SAU<br>GHG emission reduction in 2030: nan<br>AIM/CGE 2.2|EN_NPi2020_600",
          "SAU<br>GHG emission reduction in 2030: nan<br>AIM/Hub-Global 2.0|1.5C",
          "SAU<br>GHG emission reduction in 2030: nan<br>C-ROADS-5.005|Ratchet-1.5-limCDR-noOS",
          "SAU<br>GHG emission reduction in 2030: nan<br>C-ROADS-5.005|Ratchet-1.5-noCDR",
          "SAU<br>GHG emission reduction in 2030: nan<br>C-ROADS-5.005|Ratchet-1.5-noCDR-noOS",
          "SAU<br>GHG emission reduction in 2030: nan<br>COFFEE 1.1|EN_NPi2020_400",
          "SAU<br>GHG emission reduction in 2030: 0.2<br>GCAM 4.2|SSP1-19",
          "SAU<br>GHG emission reduction in 2030: 0.1<br>GCAM 5.3|R_MAC_30_n0",
          "SAU<br>GHG emission reduction in 2030: nan<br>GCAM 5.3|R_MAC_35_n8",
          "SAU<br>GHG emission reduction in 2030: nan<br>GCAM 5.3|R_MAC_40_n8",
          "SAU<br>GHG emission reduction in 2030: nan<br>GCAM 5.3|R_MAC_45_n8",
          "SAU<br>GHG emission reduction in 2030: nan<br>GCAM 5.3|R_MAC_50_n8",
          "SAU<br>GHG emission reduction in 2030: nan<br>GEM-E3_V2021|EN_NPi2020_500",
          "SAU<br>GHG emission reduction in 2030: nan<br>GEM-E3_V2021|EN_NPi2020_600_COV",
          "SAU<br>GHG emission reduction in 2030: nan<br>IMAGE 3.2|SSP1_SPA1_19I_D_LB",
          "SAU<br>GHG emission reduction in 2030: nan<br>IMAGE 3.2|SSP1_SPA1_19I_LIRE_LB",
          "SAU<br>GHG emission reduction in 2030: nan<br>IMAGE 3.2|SSP1_SPA1_19I_RE_LB",
          "SAU<br>GHG emission reduction in 2030: nan<br>IMAGE 3.2|SSP2_SPA1_19I_D_LB",
          "SAU<br>GHG emission reduction in 2030: nan<br>IMAGE 3.2|SSP2_SPA1_19I_LIRE_LB",
          "SAU<br>GHG emission reduction in 2030: nan<br>IMAGE 3.2|SSP2_SPA1_19I_RE_LB",
          "SAU<br>GHG emission reduction in 2030: nan<br>IMAGE 3.2|SSP2_SPA2_19I_LI",
          "SAU<br>GHG emission reduction in 2030: nan<br>MESSAGE-GLOBIOM 1.0|ADVANCE_2020_1.5C-2100",
          "SAU<br>GHG emission reduction in 2030: nan<br>MESSAGE-GLOBIOM 1.0|EMF33_1.5C_cost100",
          "SAU<br>GHG emission reduction in 2030: nan<br>MESSAGE-GLOBIOM 1.0|EMF33_1.5C_full",
          "SAU<br>GHG emission reduction in 2030: nan<br>MESSAGE-GLOBIOM 1.0|SSP2-19",
          "SAU<br>GHG emission reduction in 2030: nan<br>MESSAGEix-GLOBIOM 1.0|CD-LINKS_NPi2020_400",
          "SAU<br>GHG emission reduction in 2030: nan<br>MESSAGEix-GLOBIOM 1.0|LowEnergyDemand_1.3_IPCC",
          "SAU<br>GHG emission reduction in 2030: nan<br>MESSAGEix-GLOBIOM_1.1|EN_NPi2020_450",
          "SAU<br>GHG emission reduction in 2030: nan<br>MESSAGEix-GLOBIOM_1.1|EN_NPi2020_500",
          "SAU<br>GHG emission reduction in 2030: nan<br>MESSAGEix-GLOBIOM_1.1|NGFS2_Divergent Net Zero Policies",
          "SAU<br>GHG emission reduction in 2030: nan<br>MESSAGEix-GLOBIOM_1.1|NGFS2_Net-Zero 2050",
          "SAU<br>GHG emission reduction in 2030: nan<br>MESSAGEix-GLOBIOM_1.1|EN_NPi2020_600_COV",
          "SAU<br>GHG emission reduction in 2030: nan<br>MESSAGEix-GLOBIOM_1.1|EN_NPi2020_600_DR4p",
          "SAU<br>GHG emission reduction in 2030: nan<br>MESSAGEix-GLOBIOM_1.1|EN_NPi2020_600_DR3p",
          "SAU<br>GHG emission reduction in 2030: nan<br>MESSAGEix-GLOBIOM_1.1|EN_NPi2020_600_DR2p",
          "SAU<br>GHG emission reduction in 2030: nan<br>MESSAGEix-GLOBIOM_1.1|EN_NPi2020_600_DR1p",
          "SAU<br>GHG emission reduction in 2030: nan<br>MESSAGEix-GLOBIOM_1.2|COV_GreenPush_550",
          "SAU<br>GHG emission reduction in 2030: nan<br>MESSAGEix-GLOBIOM_1.2|COV_NoPolicyNoCOVID_550",
          "SAU<br>GHG emission reduction in 2030: nan<br>MESSAGEix-GLOBIOM_1.2|COV_Restore_550",
          "SAU<br>GHG emission reduction in 2030: nan<br>MESSAGEix-GLOBIOM_1.2|COV_SelfReliance_550",
          "SAU<br>GHG emission reduction in 2030: nan<br>MESSAGEix-GLOBIOM_1.2|COV_SmartUse_550",
          "SAU<br>GHG emission reduction in 2030: nan<br>POLES ADVANCE|ADVANCE_2020_1.5C-2100",
          "SAU<br>GHG emission reduction in 2030: nan<br>POLES EMF33|EMF33_WB2C_cost100",
          "SAU<br>GHG emission reduction in 2030: nan<br>POLES EMF33|EMF33_WB2C_full",
          "SAU<br>GHG emission reduction in 2030: nan<br>POLES EMF33|EMF33_WB2C_nofuel",
          "SAU<br>GHG emission reduction in 2030: nan<br>REMIND 1.7|ADVANCE_2020_1.5C-2100",
          "SAU<br>GHG emission reduction in 2030: nan<br>REMIND 1.7|CEMICS-1.5-CDR12",
          "SAU<br>GHG emission reduction in 2030: nan<br>REMIND 1.7|CEMICS-1.5-CDR20",
          "SAU<br>GHG emission reduction in 2030: nan<br>REMIND 1.7|CEMICS-1.5-CDR8",
          "SAU<br>GHG emission reduction in 2030: nan<br>REMIND 1.7|CEMICS-2.0-CDR8",
          "SAU<br>GHG emission reduction in 2030: nan<br>REMIND 2.1|CEMICS_GDPgrowth_1p5",
          "SAU<br>GHG emission reduction in 2030: nan<br>REMIND 2.1|CEMICS_HotellingConst_1p5",
          "SAU<br>GHG emission reduction in 2030: nan<br>REMIND 2.1|CEMICS_Linear_1p5",
          "SAU<br>GHG emission reduction in 2030: nan<br>REMIND 2.1|CEMICS_opt_1p5",
          "SAU<br>GHG emission reduction in 2030: nan<br>REMIND 2.1|LeastTotalCost_LTC_brkLR15_SSP1_P50",
          "SAU<br>GHG emission reduction in 2030: nan<br>REMIND 2.1|R2p1_SSP1-PkBudg900",
          "SAU<br>GHG emission reduction in 2030: nan<br>REMIND 2.1|R2p1_SSP2-PkBudg900",
          "SAU<br>GHG emission reduction in 2030: nan<br>REMIND 2.1|R2p1_SSP5-PkBudg900",
          "SAU<br>GHG emission reduction in 2030: nan<br>REMIND-MAgPIE 1.5|SSP2-19",
          "SAU<br>GHG emission reduction in 2030: nan<br>REMIND-MAgPIE 1.7-3.0|CD-LINKS_NPi2020_400",
          "SAU<br>GHG emission reduction in 2030: nan<br>REMIND-MAgPIE 1.7-3.0|EMF33_1.5C_nofuel",
          "SAU<br>GHG emission reduction in 2030: nan<br>REMIND-MAgPIE 1.7-3.0|PEP_1p5C_full_eff",
          "SAU<br>GHG emission reduction in 2030: nan<br>REMIND-MAgPIE 1.7-3.0|PEP_1p5C_red_eff",
          "SAU<br>GHG emission reduction in 2030: nan<br>REMIND-MAgPIE 1.7-3.0|PEP_2C_red_eff",
          "SAU<br>GHG emission reduction in 2030: nan<br>REMIND-MAgPIE 1.7-3.0|SMP_2C_lifesty",
          "SAU<br>GHG emission reduction in 2030: nan<br>REMIND-MAgPIE 2.1-4.2|CEMICS_SSP1-1p5C-fullCDR",
          "SAU<br>GHG emission reduction in 2030: nan<br>REMIND-MAgPIE 2.1-4.2|CEMICS_SSP1-1p5C-minCDR",
          "SAU<br>GHG emission reduction in 2030: nan<br>REMIND-MAgPIE 2.1-4.2|CEMICS_SSP2-1p5C-fullCDR"
         ],
         "type": "box",
         "whiskerwidth": 0.2,
         "xaxis": "x",
         "y": [
          null,
          null,
          null,
          null,
          null,
          null,
          null,
          null,
          0.15465802157470784,
          0.06866836815805422,
          null,
          null,
          null,
          null,
          null,
          null,
          null,
          null,
          null,
          null,
          null,
          null,
          null,
          null,
          null,
          null,
          null,
          null,
          null,
          null,
          null,
          null,
          null,
          null,
          null,
          null,
          null,
          null,
          null,
          null,
          null,
          null,
          null,
          null,
          null,
          null,
          null,
          null,
          null,
          null,
          null,
          null,
          null,
          null,
          null,
          null,
          null,
          null,
          null,
          null,
          null,
          null,
          null,
          null,
          null,
          null,
          null,
          null,
          null,
          null
         ],
         "yaxis": "y"
        },
        {
         "marker": {
          "color": "darkgreen",
          "colorscale": [
           [
            0,
            "rgb(158,1,66)"
           ],
           [
            0.1,
            "rgb(213,62,79)"
           ],
           [
            0.2,
            "rgb(244,109,67)"
           ],
           [
            0.3,
            "rgb(253,174,97)"
           ],
           [
            0.4,
            "rgb(254,224,139)"
           ],
           [
            0.5,
            "rgb(255,255,191)"
           ],
           [
            0.6,
            "rgb(230,245,152)"
           ],
           [
            0.7,
            "rgb(171,221,164)"
           ],
           [
            0.8,
            "rgb(102,194,165)"
           ],
           [
            0.9,
            "rgb(50,136,189)"
           ],
           [
            1,
            "rgb(94,79,162)"
           ]
          ],
          "line": {
           "color": "black",
           "width": 0.2
          },
          "size": 25,
          "symbol": "circle"
         },
         "mode": "markers+text",
         "showlegend": false,
         "text": "GF",
         "textfont": {
          "color": "black",
          "family": "Arial black",
          "size": 13
         },
         "type": "scatter",
         "x": [
          "SAU"
         ],
         "xaxis": "x",
         "y": [
          0.28295537938267
         ],
         "yaxis": "y"
        },
        {
         "marker": {
          "color": "darkgreen",
          "colorscale": [
           [
            0,
            "rgb(158,1,66)"
           ],
           [
            0.1,
            "rgb(213,62,79)"
           ],
           [
            0.2,
            "rgb(244,109,67)"
           ],
           [
            0.3,
            "rgb(253,174,97)"
           ],
           [
            0.4,
            "rgb(254,224,139)"
           ],
           [
            0.5,
            "rgb(255,255,191)"
           ],
           [
            0.6,
            "rgb(230,245,152)"
           ],
           [
            0.7,
            "rgb(171,221,164)"
           ],
           [
            0.8,
            "rgb(102,194,165)"
           ],
           [
            0.9,
            "rgb(50,136,189)"
           ],
           [
            1,
            "rgb(94,79,162)"
           ]
          ],
          "line": {
           "color": "black",
           "width": 0.2
          },
          "size": 25,
          "symbol": "square"
         },
         "mode": "markers+text",
         "showlegend": false,
         "text": "PC",
         "textfont": {
          "color": "black",
          "family": "Arial black",
          "size": 13
         },
         "type": "scatter",
         "x": [
          "SAU"
         ],
         "xaxis": "x",
         "y": [
          0.7684631147026857
         ],
         "yaxis": "y"
        },
        {
         "marker": {
          "color": "darkgreen",
          "colorscale": [
           [
            0,
            "rgb(158,1,66)"
           ],
           [
            0.1,
            "rgb(213,62,79)"
           ],
           [
            0.2,
            "rgb(244,109,67)"
           ],
           [
            0.3,
            "rgb(253,174,97)"
           ],
           [
            0.4,
            "rgb(254,224,139)"
           ],
           [
            0.5,
            "rgb(255,255,191)"
           ],
           [
            0.6,
            "rgb(230,245,152)"
           ],
           [
            0.7,
            "rgb(171,221,164)"
           ],
           [
            0.8,
            "rgb(102,194,165)"
           ],
           [
            0.9,
            "rgb(50,136,189)"
           ],
           [
            1,
            "rgb(94,79,162)"
           ]
          ],
          "line": {
           "color": "black",
           "width": 0.2
          },
          "size": 25,
          "symbol": "diamond"
         },
         "mode": "markers+text",
         "showlegend": false,
         "text": "PCC",
         "textfont": {
          "color": "black",
          "family": "Arial black",
          "size": 13
         },
         "type": "scatter",
         "x": [
          "SAU"
         ],
         "xaxis": "x",
         "y": [
          0.5257092470426779
         ],
         "yaxis": "y"
        },
        {
         "marker": {
          "color": "darkgreen",
          "colorscale": [
           [
            0,
            "rgb(158,1,66)"
           ],
           [
            0.1,
            "rgb(213,62,79)"
           ],
           [
            0.2,
            "rgb(244,109,67)"
           ],
           [
            0.3,
            "rgb(253,174,97)"
           ],
           [
            0.4,
            "rgb(254,224,139)"
           ],
           [
            0.5,
            "rgb(255,255,191)"
           ],
           [
            0.6,
            "rgb(230,245,152)"
           ],
           [
            0.7,
            "rgb(171,221,164)"
           ],
           [
            0.8,
            "rgb(102,194,165)"
           ],
           [
            0.9,
            "rgb(50,136,189)"
           ],
           [
            1,
            "rgb(94,79,162)"
           ]
          ],
          "line": {
           "color": "black",
           "width": 0.2
          },
          "size": 25,
          "symbol": "triangle-up"
         },
         "mode": "markers+text",
         "showlegend": false,
         "text": "NDC",
         "textfont": {
          "color": "black",
          "family": "Arial black",
          "size": 13
         },
         "type": "scatter",
         "x": [
          "SAU"
         ],
         "xaxis": "x",
         "y": [
          -0.30211450471451173
         ],
         "yaxis": "y"
        },
        {
         "boxpoints": "all",
         "fillcolor": "darkgreen",
         "hovertemplate": "%{text}",
         "jitter": 0.5,
         "line": {
          "color": "black",
          "width": 0.5
         },
         "marker": {
          "color": "black",
          "size": 3
         },
         "name": "SAU",
         "pointpos": -1.8,
         "showlegend": false,
         "text": [
          "SAU<br>Policy costs in 2030: nan<br>AIM/CGE 2.1|CD-LINKS_NPi2020_400",
          "SAU<br>Policy costs in 2030: nan<br>AIM/CGE 2.2|EN_NPi2020_300f",
          "SAU<br>Policy costs in 2030: nan<br>AIM/CGE 2.2|EN_NPi2020_600",
          "SAU<br>Policy costs in 2030: nan<br>AIM/Hub-Global 2.0|1.5C",
          "SAU<br>Policy costs in 2030: nan<br>C-ROADS-5.005|Ratchet-1.5-limCDR-noOS",
          "SAU<br>Policy costs in 2030: nan<br>C-ROADS-5.005|Ratchet-1.5-noCDR",
          "SAU<br>Policy costs in 2030: nan<br>C-ROADS-5.005|Ratchet-1.5-noCDR-noOS",
          "SAU<br>Policy costs in 2030: nan<br>COFFEE 1.1|EN_NPi2020_400",
          "SAU<br>Policy costs in 2030: 35.9<br>GCAM 4.2|SSP1-19",
          "SAU<br>Policy costs in 2030: 18.4<br>GCAM 5.3|R_MAC_30_n0",
          "SAU<br>Policy costs in 2030: nan<br>GCAM 5.3|R_MAC_35_n8",
          "SAU<br>Policy costs in 2030: nan<br>GCAM 5.3|R_MAC_40_n8",
          "SAU<br>Policy costs in 2030: nan<br>GCAM 5.3|R_MAC_45_n8",
          "SAU<br>Policy costs in 2030: nan<br>GCAM 5.3|R_MAC_50_n8",
          "SAU<br>Policy costs in 2030: nan<br>GEM-E3_V2021|EN_NPi2020_500",
          "SAU<br>Policy costs in 2030: nan<br>GEM-E3_V2021|EN_NPi2020_600_COV",
          "SAU<br>Policy costs in 2030: nan<br>IMAGE 3.2|SSP1_SPA1_19I_D_LB",
          "SAU<br>Policy costs in 2030: nan<br>IMAGE 3.2|SSP1_SPA1_19I_LIRE_LB",
          "SAU<br>Policy costs in 2030: nan<br>IMAGE 3.2|SSP1_SPA1_19I_RE_LB",
          "SAU<br>Policy costs in 2030: nan<br>IMAGE 3.2|SSP2_SPA1_19I_D_LB",
          "SAU<br>Policy costs in 2030: nan<br>IMAGE 3.2|SSP2_SPA1_19I_LIRE_LB",
          "SAU<br>Policy costs in 2030: nan<br>IMAGE 3.2|SSP2_SPA1_19I_RE_LB",
          "SAU<br>Policy costs in 2030: nan<br>IMAGE 3.2|SSP2_SPA2_19I_LI",
          "SAU<br>Policy costs in 2030: nan<br>MESSAGE-GLOBIOM 1.0|ADVANCE_2020_1.5C-2100",
          "SAU<br>Policy costs in 2030: nan<br>MESSAGE-GLOBIOM 1.0|EMF33_1.5C_cost100",
          "SAU<br>Policy costs in 2030: nan<br>MESSAGE-GLOBIOM 1.0|EMF33_1.5C_full",
          "SAU<br>Policy costs in 2030: nan<br>MESSAGE-GLOBIOM 1.0|SSP2-19",
          "SAU<br>Policy costs in 2030: nan<br>MESSAGEix-GLOBIOM 1.0|CD-LINKS_NPi2020_400",
          "SAU<br>Policy costs in 2030: nan<br>MESSAGEix-GLOBIOM 1.0|LowEnergyDemand_1.3_IPCC",
          "SAU<br>Policy costs in 2030: nan<br>MESSAGEix-GLOBIOM_1.1|EN_NPi2020_450",
          "SAU<br>Policy costs in 2030: nan<br>MESSAGEix-GLOBIOM_1.1|EN_NPi2020_500",
          "SAU<br>Policy costs in 2030: nan<br>MESSAGEix-GLOBIOM_1.1|NGFS2_Divergent Net Zero Policies",
          "SAU<br>Policy costs in 2030: nan<br>MESSAGEix-GLOBIOM_1.1|NGFS2_Net-Zero 2050",
          "SAU<br>Policy costs in 2030: nan<br>MESSAGEix-GLOBIOM_1.1|EN_NPi2020_600_COV",
          "SAU<br>Policy costs in 2030: nan<br>MESSAGEix-GLOBIOM_1.1|EN_NPi2020_600_DR4p",
          "SAU<br>Policy costs in 2030: nan<br>MESSAGEix-GLOBIOM_1.1|EN_NPi2020_600_DR3p",
          "SAU<br>Policy costs in 2030: nan<br>MESSAGEix-GLOBIOM_1.1|EN_NPi2020_600_DR2p",
          "SAU<br>Policy costs in 2030: nan<br>MESSAGEix-GLOBIOM_1.1|EN_NPi2020_600_DR1p",
          "SAU<br>Policy costs in 2030: nan<br>MESSAGEix-GLOBIOM_1.2|COV_GreenPush_550",
          "SAU<br>Policy costs in 2030: nan<br>MESSAGEix-GLOBIOM_1.2|COV_NoPolicyNoCOVID_550",
          "SAU<br>Policy costs in 2030: nan<br>MESSAGEix-GLOBIOM_1.2|COV_Restore_550",
          "SAU<br>Policy costs in 2030: nan<br>MESSAGEix-GLOBIOM_1.2|COV_SelfReliance_550",
          "SAU<br>Policy costs in 2030: nan<br>MESSAGEix-GLOBIOM_1.2|COV_SmartUse_550",
          "SAU<br>Policy costs in 2030: nan<br>POLES ADVANCE|ADVANCE_2020_1.5C-2100",
          "SAU<br>Policy costs in 2030: nan<br>POLES EMF33|EMF33_WB2C_cost100",
          "SAU<br>Policy costs in 2030: nan<br>POLES EMF33|EMF33_WB2C_full",
          "SAU<br>Policy costs in 2030: nan<br>POLES EMF33|EMF33_WB2C_nofuel",
          "SAU<br>Policy costs in 2030: nan<br>REMIND 1.7|ADVANCE_2020_1.5C-2100",
          "SAU<br>Policy costs in 2030: nan<br>REMIND 1.7|CEMICS-1.5-CDR12",
          "SAU<br>Policy costs in 2030: nan<br>REMIND 1.7|CEMICS-1.5-CDR20",
          "SAU<br>Policy costs in 2030: nan<br>REMIND 1.7|CEMICS-1.5-CDR8",
          "SAU<br>Policy costs in 2030: nan<br>REMIND 1.7|CEMICS-2.0-CDR8",
          "SAU<br>Policy costs in 2030: nan<br>REMIND 2.1|CEMICS_GDPgrowth_1p5",
          "SAU<br>Policy costs in 2030: nan<br>REMIND 2.1|CEMICS_HotellingConst_1p5",
          "SAU<br>Policy costs in 2030: nan<br>REMIND 2.1|CEMICS_Linear_1p5",
          "SAU<br>Policy costs in 2030: nan<br>REMIND 2.1|CEMICS_opt_1p5",
          "SAU<br>Policy costs in 2030: nan<br>REMIND 2.1|LeastTotalCost_LTC_brkLR15_SSP1_P50",
          "SAU<br>Policy costs in 2030: nan<br>REMIND 2.1|R2p1_SSP1-PkBudg900",
          "SAU<br>Policy costs in 2030: nan<br>REMIND 2.1|R2p1_SSP2-PkBudg900",
          "SAU<br>Policy costs in 2030: nan<br>REMIND 2.1|R2p1_SSP5-PkBudg900",
          "SAU<br>Policy costs in 2030: nan<br>REMIND-MAgPIE 1.5|SSP2-19",
          "SAU<br>Policy costs in 2030: nan<br>REMIND-MAgPIE 1.7-3.0|CD-LINKS_NPi2020_400",
          "SAU<br>Policy costs in 2030: nan<br>REMIND-MAgPIE 1.7-3.0|EMF33_1.5C_nofuel",
          "SAU<br>Policy costs in 2030: nan<br>REMIND-MAgPIE 1.7-3.0|PEP_1p5C_full_eff",
          "SAU<br>Policy costs in 2030: nan<br>REMIND-MAgPIE 1.7-3.0|PEP_1p5C_red_eff",
          "SAU<br>Policy costs in 2030: nan<br>REMIND-MAgPIE 1.7-3.0|PEP_2C_red_eff",
          "SAU<br>Policy costs in 2030: nan<br>REMIND-MAgPIE 1.7-3.0|SMP_2C_lifesty",
          "SAU<br>Policy costs in 2030: nan<br>REMIND-MAgPIE 2.1-4.2|CEMICS_SSP1-1p5C-fullCDR",
          "SAU<br>Policy costs in 2030: nan<br>REMIND-MAgPIE 2.1-4.2|CEMICS_SSP1-1p5C-minCDR",
          "SAU<br>Policy costs in 2030: nan<br>REMIND-MAgPIE 2.1-4.2|CEMICS_SSP2-1p5C-fullCDR"
         ],
         "type": "box",
         "whiskerwidth": 0.2,
         "xaxis": "x2",
         "y": [
          null,
          null,
          null,
          null,
          null,
          null,
          null,
          null,
          35.91722965007068,
          18.44477031220385,
          null,
          null,
          null,
          null,
          null,
          null,
          null,
          null,
          null,
          null,
          null,
          null,
          null,
          null,
          null,
          null,
          null,
          null,
          null,
          null,
          null,
          null,
          null,
          null,
          null,
          null,
          null,
          null,
          null,
          null,
          null,
          null,
          null,
          null,
          null,
          null,
          null,
          null,
          null,
          null,
          null,
          null,
          null,
          null,
          null,
          null,
          null,
          null,
          null,
          null,
          null,
          null,
          null,
          null,
          null,
          null,
          null,
          null,
          null,
          null
         ],
         "yaxis": "y2"
        },
        {
         "boxpoints": "all",
         "fillcolor": "darkgreen",
         "hovertemplate": "%{text}",
         "jitter": 0.5,
         "line": {
          "color": "black",
          "width": 0.5
         },
         "marker": {
          "color": "black",
          "size": 3
         },
         "name": "SAU",
         "pointpos": -1.8,
         "showlegend": false,
         "text": [
          "SAU<br>CCS in 2030: nan<br>AIM/CGE 2.1|CD-LINKS_NPi2020_400",
          "SAU<br>CCS in 2030: nan<br>AIM/CGE 2.2|EN_NPi2020_300f",
          "SAU<br>CCS in 2030: nan<br>AIM/CGE 2.2|EN_NPi2020_600",
          "SAU<br>CCS in 2030: nan<br>AIM/Hub-Global 2.0|1.5C",
          "SAU<br>CCS in 2030: nan<br>C-ROADS-5.005|Ratchet-1.5-limCDR-noOS",
          "SAU<br>CCS in 2030: nan<br>C-ROADS-5.005|Ratchet-1.5-noCDR",
          "SAU<br>CCS in 2030: nan<br>C-ROADS-5.005|Ratchet-1.5-noCDR-noOS",
          "SAU<br>CCS in 2030: nan<br>COFFEE 1.1|EN_NPi2020_400",
          "SAU<br>CCS in 2030: 0.0<br>GCAM 4.2|SSP1-19",
          "SAU<br>CCS in 2030: 0.0<br>GCAM 5.3|R_MAC_30_n0",
          "SAU<br>CCS in 2030: nan<br>GCAM 5.3|R_MAC_35_n8",
          "SAU<br>CCS in 2030: nan<br>GCAM 5.3|R_MAC_40_n8",
          "SAU<br>CCS in 2030: nan<br>GCAM 5.3|R_MAC_45_n8",
          "SAU<br>CCS in 2030: nan<br>GCAM 5.3|R_MAC_50_n8",
          "SAU<br>CCS in 2030: nan<br>GEM-E3_V2021|EN_NPi2020_500",
          "SAU<br>CCS in 2030: nan<br>GEM-E3_V2021|EN_NPi2020_600_COV",
          "SAU<br>CCS in 2030: nan<br>IMAGE 3.2|SSP1_SPA1_19I_D_LB",
          "SAU<br>CCS in 2030: nan<br>IMAGE 3.2|SSP1_SPA1_19I_LIRE_LB",
          "SAU<br>CCS in 2030: nan<br>IMAGE 3.2|SSP1_SPA1_19I_RE_LB",
          "SAU<br>CCS in 2030: nan<br>IMAGE 3.2|SSP2_SPA1_19I_D_LB",
          "SAU<br>CCS in 2030: nan<br>IMAGE 3.2|SSP2_SPA1_19I_LIRE_LB",
          "SAU<br>CCS in 2030: nan<br>IMAGE 3.2|SSP2_SPA1_19I_RE_LB",
          "SAU<br>CCS in 2030: nan<br>IMAGE 3.2|SSP2_SPA2_19I_LI",
          "SAU<br>CCS in 2030: nan<br>MESSAGE-GLOBIOM 1.0|ADVANCE_2020_1.5C-2100",
          "SAU<br>CCS in 2030: nan<br>MESSAGE-GLOBIOM 1.0|EMF33_1.5C_cost100",
          "SAU<br>CCS in 2030: nan<br>MESSAGE-GLOBIOM 1.0|EMF33_1.5C_full",
          "SAU<br>CCS in 2030: nan<br>MESSAGE-GLOBIOM 1.0|SSP2-19",
          "SAU<br>CCS in 2030: nan<br>MESSAGEix-GLOBIOM 1.0|CD-LINKS_NPi2020_400",
          "SAU<br>CCS in 2030: nan<br>MESSAGEix-GLOBIOM 1.0|LowEnergyDemand_1.3_IPCC",
          "SAU<br>CCS in 2030: nan<br>MESSAGEix-GLOBIOM_1.1|EN_NPi2020_450",
          "SAU<br>CCS in 2030: nan<br>MESSAGEix-GLOBIOM_1.1|EN_NPi2020_500",
          "SAU<br>CCS in 2030: nan<br>MESSAGEix-GLOBIOM_1.1|NGFS2_Divergent Net Zero Policies",
          "SAU<br>CCS in 2030: nan<br>MESSAGEix-GLOBIOM_1.1|NGFS2_Net-Zero 2050",
          "SAU<br>CCS in 2030: nan<br>MESSAGEix-GLOBIOM_1.1|EN_NPi2020_600_COV",
          "SAU<br>CCS in 2030: nan<br>MESSAGEix-GLOBIOM_1.1|EN_NPi2020_600_DR4p",
          "SAU<br>CCS in 2030: nan<br>MESSAGEix-GLOBIOM_1.1|EN_NPi2020_600_DR3p",
          "SAU<br>CCS in 2030: nan<br>MESSAGEix-GLOBIOM_1.1|EN_NPi2020_600_DR2p",
          "SAU<br>CCS in 2030: nan<br>MESSAGEix-GLOBIOM_1.1|EN_NPi2020_600_DR1p",
          "SAU<br>CCS in 2030: nan<br>MESSAGEix-GLOBIOM_1.2|COV_GreenPush_550",
          "SAU<br>CCS in 2030: nan<br>MESSAGEix-GLOBIOM_1.2|COV_NoPolicyNoCOVID_550",
          "SAU<br>CCS in 2030: nan<br>MESSAGEix-GLOBIOM_1.2|COV_Restore_550",
          "SAU<br>CCS in 2030: nan<br>MESSAGEix-GLOBIOM_1.2|COV_SelfReliance_550",
          "SAU<br>CCS in 2030: nan<br>MESSAGEix-GLOBIOM_1.2|COV_SmartUse_550",
          "SAU<br>CCS in 2030: nan<br>POLES ADVANCE|ADVANCE_2020_1.5C-2100",
          "SAU<br>CCS in 2030: nan<br>POLES EMF33|EMF33_WB2C_cost100",
          "SAU<br>CCS in 2030: nan<br>POLES EMF33|EMF33_WB2C_full",
          "SAU<br>CCS in 2030: nan<br>POLES EMF33|EMF33_WB2C_nofuel",
          "SAU<br>CCS in 2030: nan<br>REMIND 1.7|ADVANCE_2020_1.5C-2100",
          "SAU<br>CCS in 2030: nan<br>REMIND 1.7|CEMICS-1.5-CDR12",
          "SAU<br>CCS in 2030: nan<br>REMIND 1.7|CEMICS-1.5-CDR20",
          "SAU<br>CCS in 2030: nan<br>REMIND 1.7|CEMICS-1.5-CDR8",
          "SAU<br>CCS in 2030: nan<br>REMIND 1.7|CEMICS-2.0-CDR8",
          "SAU<br>CCS in 2030: nan<br>REMIND 2.1|CEMICS_GDPgrowth_1p5",
          "SAU<br>CCS in 2030: nan<br>REMIND 2.1|CEMICS_HotellingConst_1p5",
          "SAU<br>CCS in 2030: nan<br>REMIND 2.1|CEMICS_Linear_1p5",
          "SAU<br>CCS in 2030: nan<br>REMIND 2.1|CEMICS_opt_1p5",
          "SAU<br>CCS in 2030: nan<br>REMIND 2.1|LeastTotalCost_LTC_brkLR15_SSP1_P50",
          "SAU<br>CCS in 2030: nan<br>REMIND 2.1|R2p1_SSP1-PkBudg900",
          "SAU<br>CCS in 2030: nan<br>REMIND 2.1|R2p1_SSP2-PkBudg900",
          "SAU<br>CCS in 2030: nan<br>REMIND 2.1|R2p1_SSP5-PkBudg900",
          "SAU<br>CCS in 2030: nan<br>REMIND-MAgPIE 1.5|SSP2-19",
          "SAU<br>CCS in 2030: nan<br>REMIND-MAgPIE 1.7-3.0|CD-LINKS_NPi2020_400",
          "SAU<br>CCS in 2030: nan<br>REMIND-MAgPIE 1.7-3.0|EMF33_1.5C_nofuel",
          "SAU<br>CCS in 2030: nan<br>REMIND-MAgPIE 1.7-3.0|PEP_1p5C_full_eff",
          "SAU<br>CCS in 2030: nan<br>REMIND-MAgPIE 1.7-3.0|PEP_1p5C_red_eff",
          "SAU<br>CCS in 2030: nan<br>REMIND-MAgPIE 1.7-3.0|PEP_2C_red_eff",
          "SAU<br>CCS in 2030: nan<br>REMIND-MAgPIE 1.7-3.0|SMP_2C_lifesty",
          "SAU<br>CCS in 2030: nan<br>REMIND-MAgPIE 2.1-4.2|CEMICS_SSP1-1p5C-fullCDR",
          "SAU<br>CCS in 2030: nan<br>REMIND-MAgPIE 2.1-4.2|CEMICS_SSP1-1p5C-minCDR",
          "SAU<br>CCS in 2030: nan<br>REMIND-MAgPIE 2.1-4.2|CEMICS_SSP2-1p5C-fullCDR"
         ],
         "type": "box",
         "whiskerwidth": 0.2,
         "xaxis": "x3",
         "y": [
          null,
          null,
          null,
          null,
          null,
          null,
          null,
          null,
          0.0007588350044648,
          0.0007012458765825,
          null,
          null,
          null,
          null,
          null,
          null,
          null,
          null,
          null,
          null,
          null,
          null,
          null,
          null,
          null,
          null,
          null,
          null,
          null,
          null,
          null,
          null,
          null,
          null,
          null,
          null,
          null,
          null,
          null,
          null,
          null,
          null,
          null,
          null,
          null,
          null,
          null,
          null,
          null,
          null,
          null,
          null,
          null,
          null,
          null,
          null,
          null,
          null,
          null,
          null,
          null,
          null,
          null,
          null,
          null,
          null,
          null,
          null,
          null,
          null
         ],
         "yaxis": "y3"
        },
        {
         "boxpoints": "all",
         "fillcolor": "darkgreen",
         "hovertemplate": "%{text}",
         "jitter": 0.5,
         "line": {
          "color": "black",
          "width": 0.5
         },
         "marker": {
          "color": "black",
          "size": 3
         },
         "name": "SAU",
         "pointpos": -1.8,
         "showlegend": false,
         "text": [
          "SAU<br>Primary biomass traded in 2030: nan<br>AIM/CGE 2.1|CD-LINKS_NPi2020_400",
          "SAU<br>Primary biomass traded in 2030: nan<br>AIM/CGE 2.2|EN_NPi2020_300f",
          "SAU<br>Primary biomass traded in 2030: nan<br>AIM/CGE 2.2|EN_NPi2020_600",
          "SAU<br>Primary biomass traded in 2030: nan<br>AIM/Hub-Global 2.0|1.5C",
          "SAU<br>Primary biomass traded in 2030: nan<br>C-ROADS-5.005|Ratchet-1.5-limCDR-noOS",
          "SAU<br>Primary biomass traded in 2030: nan<br>C-ROADS-5.005|Ratchet-1.5-noCDR",
          "SAU<br>Primary biomass traded in 2030: nan<br>C-ROADS-5.005|Ratchet-1.5-noCDR-noOS",
          "SAU<br>Primary biomass traded in 2030: nan<br>COFFEE 1.1|EN_NPi2020_400",
          "SAU<br>Primary biomass traded in 2030: nan<br>GCAM 4.2|SSP1-19",
          "SAU<br>Primary biomass traded in 2030: nan<br>GCAM 5.3|R_MAC_30_n0",
          "SAU<br>Primary biomass traded in 2030: nan<br>GCAM 5.3|R_MAC_35_n8",
          "SAU<br>Primary biomass traded in 2030: nan<br>GCAM 5.3|R_MAC_40_n8",
          "SAU<br>Primary biomass traded in 2030: nan<br>GCAM 5.3|R_MAC_45_n8",
          "SAU<br>Primary biomass traded in 2030: nan<br>GCAM 5.3|R_MAC_50_n8",
          "SAU<br>Primary biomass traded in 2030: nan<br>GEM-E3_V2021|EN_NPi2020_500",
          "SAU<br>Primary biomass traded in 2030: nan<br>GEM-E3_V2021|EN_NPi2020_600_COV",
          "SAU<br>Primary biomass traded in 2030: nan<br>IMAGE 3.2|SSP1_SPA1_19I_D_LB",
          "SAU<br>Primary biomass traded in 2030: nan<br>IMAGE 3.2|SSP1_SPA1_19I_LIRE_LB",
          "SAU<br>Primary biomass traded in 2030: nan<br>IMAGE 3.2|SSP1_SPA1_19I_RE_LB",
          "SAU<br>Primary biomass traded in 2030: nan<br>IMAGE 3.2|SSP2_SPA1_19I_D_LB",
          "SAU<br>Primary biomass traded in 2030: nan<br>IMAGE 3.2|SSP2_SPA1_19I_LIRE_LB",
          "SAU<br>Primary biomass traded in 2030: nan<br>IMAGE 3.2|SSP2_SPA1_19I_RE_LB",
          "SAU<br>Primary biomass traded in 2030: nan<br>IMAGE 3.2|SSP2_SPA2_19I_LI",
          "SAU<br>Primary biomass traded in 2030: nan<br>MESSAGE-GLOBIOM 1.0|ADVANCE_2020_1.5C-2100",
          "SAU<br>Primary biomass traded in 2030: nan<br>MESSAGE-GLOBIOM 1.0|EMF33_1.5C_cost100",
          "SAU<br>Primary biomass traded in 2030: nan<br>MESSAGE-GLOBIOM 1.0|EMF33_1.5C_full",
          "SAU<br>Primary biomass traded in 2030: nan<br>MESSAGE-GLOBIOM 1.0|SSP2-19",
          "SAU<br>Primary biomass traded in 2030: nan<br>MESSAGEix-GLOBIOM 1.0|CD-LINKS_NPi2020_400",
          "SAU<br>Primary biomass traded in 2030: nan<br>MESSAGEix-GLOBIOM 1.0|LowEnergyDemand_1.3_IPCC",
          "SAU<br>Primary biomass traded in 2030: nan<br>MESSAGEix-GLOBIOM_1.1|EN_NPi2020_450",
          "SAU<br>Primary biomass traded in 2030: nan<br>MESSAGEix-GLOBIOM_1.1|EN_NPi2020_500",
          "SAU<br>Primary biomass traded in 2030: nan<br>MESSAGEix-GLOBIOM_1.1|NGFS2_Divergent Net Zero Policies",
          "SAU<br>Primary biomass traded in 2030: nan<br>MESSAGEix-GLOBIOM_1.1|NGFS2_Net-Zero 2050",
          "SAU<br>Primary biomass traded in 2030: nan<br>MESSAGEix-GLOBIOM_1.1|EN_NPi2020_600_COV",
          "SAU<br>Primary biomass traded in 2030: nan<br>MESSAGEix-GLOBIOM_1.1|EN_NPi2020_600_DR4p",
          "SAU<br>Primary biomass traded in 2030: nan<br>MESSAGEix-GLOBIOM_1.1|EN_NPi2020_600_DR3p",
          "SAU<br>Primary biomass traded in 2030: nan<br>MESSAGEix-GLOBIOM_1.1|EN_NPi2020_600_DR2p",
          "SAU<br>Primary biomass traded in 2030: nan<br>MESSAGEix-GLOBIOM_1.1|EN_NPi2020_600_DR1p",
          "SAU<br>Primary biomass traded in 2030: nan<br>MESSAGEix-GLOBIOM_1.2|COV_GreenPush_550",
          "SAU<br>Primary biomass traded in 2030: nan<br>MESSAGEix-GLOBIOM_1.2|COV_NoPolicyNoCOVID_550",
          "SAU<br>Primary biomass traded in 2030: nan<br>MESSAGEix-GLOBIOM_1.2|COV_Restore_550",
          "SAU<br>Primary biomass traded in 2030: nan<br>MESSAGEix-GLOBIOM_1.2|COV_SelfReliance_550",
          "SAU<br>Primary biomass traded in 2030: nan<br>MESSAGEix-GLOBIOM_1.2|COV_SmartUse_550",
          "SAU<br>Primary biomass traded in 2030: nan<br>POLES ADVANCE|ADVANCE_2020_1.5C-2100",
          "SAU<br>Primary biomass traded in 2030: nan<br>POLES EMF33|EMF33_WB2C_cost100",
          "SAU<br>Primary biomass traded in 2030: nan<br>POLES EMF33|EMF33_WB2C_full",
          "SAU<br>Primary biomass traded in 2030: nan<br>POLES EMF33|EMF33_WB2C_nofuel",
          "SAU<br>Primary biomass traded in 2030: nan<br>REMIND 1.7|ADVANCE_2020_1.5C-2100",
          "SAU<br>Primary biomass traded in 2030: nan<br>REMIND 1.7|CEMICS-1.5-CDR12",
          "SAU<br>Primary biomass traded in 2030: nan<br>REMIND 1.7|CEMICS-1.5-CDR20",
          "SAU<br>Primary biomass traded in 2030: nan<br>REMIND 1.7|CEMICS-1.5-CDR8",
          "SAU<br>Primary biomass traded in 2030: nan<br>REMIND 1.7|CEMICS-2.0-CDR8",
          "SAU<br>Primary biomass traded in 2030: nan<br>REMIND 2.1|CEMICS_GDPgrowth_1p5",
          "SAU<br>Primary biomass traded in 2030: nan<br>REMIND 2.1|CEMICS_HotellingConst_1p5",
          "SAU<br>Primary biomass traded in 2030: nan<br>REMIND 2.1|CEMICS_Linear_1p5",
          "SAU<br>Primary biomass traded in 2030: nan<br>REMIND 2.1|CEMICS_opt_1p5",
          "SAU<br>Primary biomass traded in 2030: nan<br>REMIND 2.1|LeastTotalCost_LTC_brkLR15_SSP1_P50",
          "SAU<br>Primary biomass traded in 2030: nan<br>REMIND 2.1|R2p1_SSP1-PkBudg900",
          "SAU<br>Primary biomass traded in 2030: nan<br>REMIND 2.1|R2p1_SSP2-PkBudg900",
          "SAU<br>Primary biomass traded in 2030: nan<br>REMIND 2.1|R2p1_SSP5-PkBudg900",
          "SAU<br>Primary biomass traded in 2030: nan<br>REMIND-MAgPIE 1.5|SSP2-19",
          "SAU<br>Primary biomass traded in 2030: nan<br>REMIND-MAgPIE 1.7-3.0|CD-LINKS_NPi2020_400",
          "SAU<br>Primary biomass traded in 2030: nan<br>REMIND-MAgPIE 1.7-3.0|EMF33_1.5C_nofuel",
          "SAU<br>Primary biomass traded in 2030: nan<br>REMIND-MAgPIE 1.7-3.0|PEP_1p5C_full_eff",
          "SAU<br>Primary biomass traded in 2030: nan<br>REMIND-MAgPIE 1.7-3.0|PEP_1p5C_red_eff",
          "SAU<br>Primary biomass traded in 2030: nan<br>REMIND-MAgPIE 1.7-3.0|PEP_2C_red_eff",
          "SAU<br>Primary biomass traded in 2030: nan<br>REMIND-MAgPIE 1.7-3.0|SMP_2C_lifesty",
          "SAU<br>Primary biomass traded in 2030: nan<br>REMIND-MAgPIE 2.1-4.2|CEMICS_SSP1-1p5C-fullCDR",
          "SAU<br>Primary biomass traded in 2030: nan<br>REMIND-MAgPIE 2.1-4.2|CEMICS_SSP1-1p5C-minCDR",
          "SAU<br>Primary biomass traded in 2030: nan<br>REMIND-MAgPIE 2.1-4.2|CEMICS_SSP2-1p5C-fullCDR"
         ],
         "type": "box",
         "whiskerwidth": 0.2,
         "xaxis": "x4",
         "y": [
          null,
          null,
          null,
          null,
          null,
          null,
          null,
          null,
          null,
          null,
          null,
          null,
          null,
          null,
          null,
          null,
          null,
          null,
          null,
          null,
          null,
          null,
          null,
          null,
          null,
          null,
          null,
          null,
          null,
          null,
          null,
          null,
          null,
          null,
          null,
          null,
          null,
          null,
          null,
          null,
          null,
          null,
          null,
          null,
          null,
          null,
          null,
          null,
          null,
          null,
          null,
          null,
          null,
          null,
          null,
          null,
          null,
          null,
          null,
          null,
          null,
          null,
          null,
          null,
          null,
          null,
          null,
          null,
          null,
          null
         ],
         "yaxis": "y4"
        }
       ],
       "layout": {
        "annotations": [
         {
          "font": {
           "size": 16
          },
          "showarrow": false,
          "text": "GHG emission reduction in 2030",
          "x": 0.5000000000000001,
          "xanchor": "center",
          "xref": "paper",
          "y": 1,
          "yanchor": "bottom",
          "yref": "paper"
         },
         {
          "font": {
           "size": 16
          },
          "showarrow": false,
          "text": "Policy costs in 2030",
          "x": 0.15833333333333335,
          "xanchor": "center",
          "xref": "paper",
          "y": 0.3,
          "yanchor": "bottom",
          "yref": "paper"
         },
         {
          "font": {
           "size": 16
          },
          "showarrow": false,
          "text": "CCS in 2030",
          "x": 0.5000000000000001,
          "xanchor": "center",
          "xref": "paper",
          "y": 0.3,
          "yanchor": "bottom",
          "yref": "paper"
         },
         {
          "font": {
           "size": 16
          },
          "showarrow": false,
          "text": "Primary biomass traded in 2030",
          "x": 0.8416666666666668,
          "xanchor": "center",
          "xref": "paper",
          "y": 0.3,
          "yanchor": "bottom",
          "yref": "paper"
         }
        ],
        "height": 1000,
        "template": {
         "data": {
          "bar": [
           {
            "error_x": {
             "color": "#2a3f5f"
            },
            "error_y": {
             "color": "#2a3f5f"
            },
            "marker": {
             "line": {
              "color": "#E5ECF6",
              "width": 0.5
             },
             "pattern": {
              "fillmode": "overlay",
              "size": 10,
              "solidity": 0.2
             }
            },
            "type": "bar"
           }
          ],
          "barpolar": [
           {
            "marker": {
             "line": {
              "color": "#E5ECF6",
              "width": 0.5
             },
             "pattern": {
              "fillmode": "overlay",
              "size": 10,
              "solidity": 0.2
             }
            },
            "type": "barpolar"
           }
          ],
          "carpet": [
           {
            "aaxis": {
             "endlinecolor": "#2a3f5f",
             "gridcolor": "white",
             "linecolor": "white",
             "minorgridcolor": "white",
             "startlinecolor": "#2a3f5f"
            },
            "baxis": {
             "endlinecolor": "#2a3f5f",
             "gridcolor": "white",
             "linecolor": "white",
             "minorgridcolor": "white",
             "startlinecolor": "#2a3f5f"
            },
            "type": "carpet"
           }
          ],
          "choropleth": [
           {
            "colorbar": {
             "outlinewidth": 0,
             "ticks": ""
            },
            "type": "choropleth"
           }
          ],
          "contour": [
           {
            "colorbar": {
             "outlinewidth": 0,
             "ticks": ""
            },
            "colorscale": [
             [
              0,
              "#0d0887"
             ],
             [
              0.1111111111111111,
              "#46039f"
             ],
             [
              0.2222222222222222,
              "#7201a8"
             ],
             [
              0.3333333333333333,
              "#9c179e"
             ],
             [
              0.4444444444444444,
              "#bd3786"
             ],
             [
              0.5555555555555556,
              "#d8576b"
             ],
             [
              0.6666666666666666,
              "#ed7953"
             ],
             [
              0.7777777777777778,
              "#fb9f3a"
             ],
             [
              0.8888888888888888,
              "#fdca26"
             ],
             [
              1,
              "#f0f921"
             ]
            ],
            "type": "contour"
           }
          ],
          "contourcarpet": [
           {
            "colorbar": {
             "outlinewidth": 0,
             "ticks": ""
            },
            "type": "contourcarpet"
           }
          ],
          "heatmap": [
           {
            "colorbar": {
             "outlinewidth": 0,
             "ticks": ""
            },
            "colorscale": [
             [
              0,
              "#0d0887"
             ],
             [
              0.1111111111111111,
              "#46039f"
             ],
             [
              0.2222222222222222,
              "#7201a8"
             ],
             [
              0.3333333333333333,
              "#9c179e"
             ],
             [
              0.4444444444444444,
              "#bd3786"
             ],
             [
              0.5555555555555556,
              "#d8576b"
             ],
             [
              0.6666666666666666,
              "#ed7953"
             ],
             [
              0.7777777777777778,
              "#fb9f3a"
             ],
             [
              0.8888888888888888,
              "#fdca26"
             ],
             [
              1,
              "#f0f921"
             ]
            ],
            "type": "heatmap"
           }
          ],
          "heatmapgl": [
           {
            "colorbar": {
             "outlinewidth": 0,
             "ticks": ""
            },
            "colorscale": [
             [
              0,
              "#0d0887"
             ],
             [
              0.1111111111111111,
              "#46039f"
             ],
             [
              0.2222222222222222,
              "#7201a8"
             ],
             [
              0.3333333333333333,
              "#9c179e"
             ],
             [
              0.4444444444444444,
              "#bd3786"
             ],
             [
              0.5555555555555556,
              "#d8576b"
             ],
             [
              0.6666666666666666,
              "#ed7953"
             ],
             [
              0.7777777777777778,
              "#fb9f3a"
             ],
             [
              0.8888888888888888,
              "#fdca26"
             ],
             [
              1,
              "#f0f921"
             ]
            ],
            "type": "heatmapgl"
           }
          ],
          "histogram": [
           {
            "marker": {
             "pattern": {
              "fillmode": "overlay",
              "size": 10,
              "solidity": 0.2
             }
            },
            "type": "histogram"
           }
          ],
          "histogram2d": [
           {
            "colorbar": {
             "outlinewidth": 0,
             "ticks": ""
            },
            "colorscale": [
             [
              0,
              "#0d0887"
             ],
             [
              0.1111111111111111,
              "#46039f"
             ],
             [
              0.2222222222222222,
              "#7201a8"
             ],
             [
              0.3333333333333333,
              "#9c179e"
             ],
             [
              0.4444444444444444,
              "#bd3786"
             ],
             [
              0.5555555555555556,
              "#d8576b"
             ],
             [
              0.6666666666666666,
              "#ed7953"
             ],
             [
              0.7777777777777778,
              "#fb9f3a"
             ],
             [
              0.8888888888888888,
              "#fdca26"
             ],
             [
              1,
              "#f0f921"
             ]
            ],
            "type": "histogram2d"
           }
          ],
          "histogram2dcontour": [
           {
            "colorbar": {
             "outlinewidth": 0,
             "ticks": ""
            },
            "colorscale": [
             [
              0,
              "#0d0887"
             ],
             [
              0.1111111111111111,
              "#46039f"
             ],
             [
              0.2222222222222222,
              "#7201a8"
             ],
             [
              0.3333333333333333,
              "#9c179e"
             ],
             [
              0.4444444444444444,
              "#bd3786"
             ],
             [
              0.5555555555555556,
              "#d8576b"
             ],
             [
              0.6666666666666666,
              "#ed7953"
             ],
             [
              0.7777777777777778,
              "#fb9f3a"
             ],
             [
              0.8888888888888888,
              "#fdca26"
             ],
             [
              1,
              "#f0f921"
             ]
            ],
            "type": "histogram2dcontour"
           }
          ],
          "mesh3d": [
           {
            "colorbar": {
             "outlinewidth": 0,
             "ticks": ""
            },
            "type": "mesh3d"
           }
          ],
          "parcoords": [
           {
            "line": {
             "colorbar": {
              "outlinewidth": 0,
              "ticks": ""
             }
            },
            "type": "parcoords"
           }
          ],
          "pie": [
           {
            "automargin": true,
            "type": "pie"
           }
          ],
          "scatter": [
           {
            "fillpattern": {
             "fillmode": "overlay",
             "size": 10,
             "solidity": 0.2
            },
            "type": "scatter"
           }
          ],
          "scatter3d": [
           {
            "line": {
             "colorbar": {
              "outlinewidth": 0,
              "ticks": ""
             }
            },
            "marker": {
             "colorbar": {
              "outlinewidth": 0,
              "ticks": ""
             }
            },
            "type": "scatter3d"
           }
          ],
          "scattercarpet": [
           {
            "marker": {
             "colorbar": {
              "outlinewidth": 0,
              "ticks": ""
             }
            },
            "type": "scattercarpet"
           }
          ],
          "scattergeo": [
           {
            "marker": {
             "colorbar": {
              "outlinewidth": 0,
              "ticks": ""
             }
            },
            "type": "scattergeo"
           }
          ],
          "scattergl": [
           {
            "marker": {
             "colorbar": {
              "outlinewidth": 0,
              "ticks": ""
             }
            },
            "type": "scattergl"
           }
          ],
          "scattermapbox": [
           {
            "marker": {
             "colorbar": {
              "outlinewidth": 0,
              "ticks": ""
             }
            },
            "type": "scattermapbox"
           }
          ],
          "scatterpolar": [
           {
            "marker": {
             "colorbar": {
              "outlinewidth": 0,
              "ticks": ""
             }
            },
            "type": "scatterpolar"
           }
          ],
          "scatterpolargl": [
           {
            "marker": {
             "colorbar": {
              "outlinewidth": 0,
              "ticks": ""
             }
            },
            "type": "scatterpolargl"
           }
          ],
          "scatterternary": [
           {
            "marker": {
             "colorbar": {
              "outlinewidth": 0,
              "ticks": ""
             }
            },
            "type": "scatterternary"
           }
          ],
          "surface": [
           {
            "colorbar": {
             "outlinewidth": 0,
             "ticks": ""
            },
            "colorscale": [
             [
              0,
              "#0d0887"
             ],
             [
              0.1111111111111111,
              "#46039f"
             ],
             [
              0.2222222222222222,
              "#7201a8"
             ],
             [
              0.3333333333333333,
              "#9c179e"
             ],
             [
              0.4444444444444444,
              "#bd3786"
             ],
             [
              0.5555555555555556,
              "#d8576b"
             ],
             [
              0.6666666666666666,
              "#ed7953"
             ],
             [
              0.7777777777777778,
              "#fb9f3a"
             ],
             [
              0.8888888888888888,
              "#fdca26"
             ],
             [
              1,
              "#f0f921"
             ]
            ],
            "type": "surface"
           }
          ],
          "table": [
           {
            "cells": {
             "fill": {
              "color": "#EBF0F8"
             },
             "line": {
              "color": "white"
             }
            },
            "header": {
             "fill": {
              "color": "#C8D4E3"
             },
             "line": {
              "color": "white"
             }
            },
            "type": "table"
           }
          ]
         },
         "layout": {
          "annotationdefaults": {
           "arrowcolor": "#2a3f5f",
           "arrowhead": 0,
           "arrowwidth": 1
          },
          "autotypenumbers": "strict",
          "coloraxis": {
           "colorbar": {
            "outlinewidth": 0,
            "ticks": ""
           }
          },
          "colorscale": {
           "diverging": [
            [
             0,
             "#8e0152"
            ],
            [
             0.1,
             "#c51b7d"
            ],
            [
             0.2,
             "#de77ae"
            ],
            [
             0.3,
             "#f1b6da"
            ],
            [
             0.4,
             "#fde0ef"
            ],
            [
             0.5,
             "#f7f7f7"
            ],
            [
             0.6,
             "#e6f5d0"
            ],
            [
             0.7,
             "#b8e186"
            ],
            [
             0.8,
             "#7fbc41"
            ],
            [
             0.9,
             "#4d9221"
            ],
            [
             1,
             "#276419"
            ]
           ],
           "sequential": [
            [
             0,
             "#0d0887"
            ],
            [
             0.1111111111111111,
             "#46039f"
            ],
            [
             0.2222222222222222,
             "#7201a8"
            ],
            [
             0.3333333333333333,
             "#9c179e"
            ],
            [
             0.4444444444444444,
             "#bd3786"
            ],
            [
             0.5555555555555556,
             "#d8576b"
            ],
            [
             0.6666666666666666,
             "#ed7953"
            ],
            [
             0.7777777777777778,
             "#fb9f3a"
            ],
            [
             0.8888888888888888,
             "#fdca26"
            ],
            [
             1,
             "#f0f921"
            ]
           ],
           "sequentialminus": [
            [
             0,
             "#0d0887"
            ],
            [
             0.1111111111111111,
             "#46039f"
            ],
            [
             0.2222222222222222,
             "#7201a8"
            ],
            [
             0.3333333333333333,
             "#9c179e"
            ],
            [
             0.4444444444444444,
             "#bd3786"
            ],
            [
             0.5555555555555556,
             "#d8576b"
            ],
            [
             0.6666666666666666,
             "#ed7953"
            ],
            [
             0.7777777777777778,
             "#fb9f3a"
            ],
            [
             0.8888888888888888,
             "#fdca26"
            ],
            [
             1,
             "#f0f921"
            ]
           ]
          },
          "colorway": [
           "#636efa",
           "#EF553B",
           "#00cc96",
           "#ab63fa",
           "#FFA15A",
           "#19d3f3",
           "#FF6692",
           "#B6E880",
           "#FF97FF",
           "#FECB52"
          ],
          "font": {
           "color": "#2a3f5f"
          },
          "geo": {
           "bgcolor": "white",
           "lakecolor": "white",
           "landcolor": "#E5ECF6",
           "showlakes": true,
           "showland": true,
           "subunitcolor": "white"
          },
          "hoverlabel": {
           "align": "left"
          },
          "hovermode": "closest",
          "mapbox": {
           "style": "light"
          },
          "paper_bgcolor": "white",
          "plot_bgcolor": "#E5ECF6",
          "polar": {
           "angularaxis": {
            "gridcolor": "white",
            "linecolor": "white",
            "ticks": ""
           },
           "bgcolor": "#E5ECF6",
           "radialaxis": {
            "gridcolor": "white",
            "linecolor": "white",
            "ticks": ""
           }
          },
          "scene": {
           "xaxis": {
            "backgroundcolor": "#E5ECF6",
            "gridcolor": "white",
            "gridwidth": 2,
            "linecolor": "white",
            "showbackground": true,
            "ticks": "",
            "zerolinecolor": "white"
           },
           "yaxis": {
            "backgroundcolor": "#E5ECF6",
            "gridcolor": "white",
            "gridwidth": 2,
            "linecolor": "white",
            "showbackground": true,
            "ticks": "",
            "zerolinecolor": "white"
           },
           "zaxis": {
            "backgroundcolor": "#E5ECF6",
            "gridcolor": "white",
            "gridwidth": 2,
            "linecolor": "white",
            "showbackground": true,
            "ticks": "",
            "zerolinecolor": "white"
           }
          },
          "shapedefaults": {
           "line": {
            "color": "#2a3f5f"
           }
          },
          "ternary": {
           "aaxis": {
            "gridcolor": "white",
            "linecolor": "white",
            "ticks": ""
           },
           "baxis": {
            "gridcolor": "white",
            "linecolor": "white",
            "ticks": ""
           },
           "bgcolor": "#E5ECF6",
           "caxis": {
            "gridcolor": "white",
            "linecolor": "white",
            "ticks": ""
           }
          },
          "title": {
           "x": 0.05
          },
          "xaxis": {
           "automargin": true,
           "gridcolor": "white",
           "linecolor": "white",
           "ticks": "",
           "title": {
            "standoff": 15
           },
           "zerolinecolor": "white",
           "zerolinewidth": 2
          },
          "yaxis": {
           "automargin": true,
           "gridcolor": "white",
           "linecolor": "white",
           "ticks": "",
           "title": {
            "standoff": 15
           },
           "zerolinecolor": "white",
           "zerolinewidth": 2
          }
         }
        },
        "width": 1700,
        "xaxis": {
         "anchor": "y",
         "domain": [
          0,
          1
         ]
        },
        "xaxis2": {
         "anchor": "y2",
         "domain": [
          0,
          0.3166666666666667
         ]
        },
        "xaxis3": {
         "anchor": "y3",
         "domain": [
          0.34166666666666673,
          0.6583333333333334
         ]
        },
        "xaxis4": {
         "anchor": "y4",
         "domain": [
          0.6833333333333335,
          1
         ]
        },
        "yaxis": {
         "anchor": "x",
         "domain": [
          0.35,
          1
         ]
        },
        "yaxis2": {
         "anchor": "x2",
         "domain": [
          0,
          0.3
         ]
        },
        "yaxis3": {
         "anchor": "x3",
         "domain": [
          0,
          0.3
         ]
        },
        "yaxis4": {
         "anchor": "x4",
         "domain": [
          0,
          0.3
         ]
        }
       }
      }
     },
     "metadata": {},
     "output_type": "display_data"
    }
   ],
   "source": [
    "titles = [\"GHG emission reduction in 2030\", \"Policy costs in 2030\", \"CCS in 2030\", \"Primary biomass traded in 2030\"]\n",
    "fig = make_subplots(rows=3, cols=3, subplot_titles=titles,\n",
    "                    horizontal_spacing = 0.025,\n",
    "                    specs=[[{\"colspan\": 3,\"rowspan\": 2}, None, None], [None, None, None], [{},{}, {}]],\n",
    "                    column_widths=[0.33, 0.33, 0.33],\n",
    "                    vertical_spacing=0.05)\n",
    "\n",
    "cols = ['forestgreen', 'tomato', 'steelblue', 'goldenrod', 'purple', 'grey', 'brown',\n",
    "        'magenta', 'red', 'darkgrey', 'blue', 'darkgreen']\n",
    "for reg_i, reg in enumerate(['BRA', 'USA', 'CHN', 'IND', 'IDN', \"RUS\", \"EU\", \"AUS\", \"JPN\", \"COL\", \"MEX\", \"SAU\"]):\n",
    "    for v_i in range(4):\n",
    "        row = [1, 3, 3 ,3][v_i]\n",
    "        col = [1, 1, 2, 3][v_i]\n",
    "        if v_i == 1: vals = np.array(xr_data.sel(Time=2030, Region=reg, Variable=\"Policy Cost|Consumption Loss\").Value)\n",
    "        if v_i == 0: vals = np.array((xr_data.sel(Time=2019, Region=reg, Variable=\"Emissions|Kyoto Gases\").Value - xr_data.sel(Time=2030, Region=reg, Variable=\"Emissions|Kyoto Gases\").Value) /xr_data.sel(Time=2020, Region=reg, Variable=\"Emissions|Kyoto Gases\").Value)\n",
    "        if v_i == 2: vals = np.array(xr_data.sel(Time=2030, Region=reg, Variable=\"Carbon Sequestration|CCS\").Value)\n",
    "        if v_i == 3: vals = np.array(xr_data.sel(Time=2030, Region=reg, Variable=\"Trade|Primary Energy|Biomass|Volume\").Value)\n",
    "        fig.add_trace(\n",
    "            go.Box(y=vals,\n",
    "                name=reg,\n",
    "                text=[reg+\"<br>\"+titles[v_i]+\": \"+str(np.round(vals[i],1))+\"<br>\"+modscens[i] for i in range(len(vals))],\n",
    "                fillcolor=cols[reg_i],\n",
    "                line_color='black', marker=dict(color='black'),\n",
    "                boxpoints='all', jitter=0.5, pointpos=-1.8, whiskerwidth=0.2, marker_size=3, line_width=0.5, showlegend=False, hovertemplate='%{text}'),\n",
    "                row=row, col=col)\n",
    "        if v_i == 0:\n",
    "            base = float(xr_total.NDC_l.sel(ISO=reg, Time=2019)) #np.nanmean(xr_data.sel(Time=2020, Region=reg, Variable=\"Emissions|Kyoto Gases\").Value)/1e3\n",
    "            budget_gf = float(xr_budgets_scenario.sel(Region=reg, Time=2030, Variable=\"GF\", Ccat=\"C1\").Value)\n",
    "            budget_pc = float(xr_budgets_scenario.sel(Region=reg, Time=2030, Variable=\"PC\", Ccat=\"C1\").Value)\n",
    "            budget_pcc = float(xr_budgets_scenario.sel(Region=reg, Time=2030, Variable=\"PCC\", Ccat=\"C1\").Value)\n",
    "            ndc = float(xr_total.NDC_l.sel(ISO=reg, Time=2030))\n",
    "            fig.add_trace(go.Scatter(x=[reg], y=[(base - budget_gf) / base], text=\"GF\", textfont = {'family': \"Arial black\", \"size\": 13, \"color\": \"black\"}, marker={'symbol': \"circle\", \"color\": cols[reg_i], \"size\": 25, \"line\": {\"width\": 0.2, \"color\": 'black'}, \"colorscale\": \"Spectral\",}, mode='markers+text', showlegend=False), row=1, col=1)\n",
    "            fig.add_trace(go.Scatter(x=[reg], y=[(base - budget_pc) / base], text=\"PC\", textfont = {'family': \"Arial black\", \"size\": 13, \"color\": \"black\"},  marker={'symbol': \"square\", \"color\": cols[reg_i], \"size\": 25, \"line\": {\"width\": 0.2, \"color\": 'black'}, \"colorscale\": \"Spectral\",}, mode='markers+text', showlegend=False), row=1, col=1)\n",
    "            fig.add_trace(go.Scatter(x=[reg], y=[(base - budget_pcc) / base], text=\"PCC\", textfont = {'family': \"Arial black\", \"size\": 13, \"color\": \"black\"},  marker={'symbol': \"diamond\", \"color\": cols[reg_i], \"size\": 25, \"line\": {\"width\": 0.2, \"color\": 'black'}, \"colorscale\": \"Spectral\",}, mode='markers+text', showlegend=False), row=1, col=1)\n",
    "            fig.add_trace(go.Scatter(x=[reg], y=[(base - ndc) / base], text=\"NDC\", textfont = {'family': \"Arial black\", \"size\": 13, \"color\": \"black\"},  marker={'symbol': \"triangle-up\", \"color\": cols[reg_i], \"size\": 25, \"line\": {\"width\": 0.2, \"color\": 'black'}, \"colorscale\": \"Spectral\",}, mode='markers+text', showlegend=False), row=1, col=1)\n",
    "\n",
    "fig.update_layout(height=1000, width = 1700)\n",
    "fig.show()"
   ]
  },
  {
   "cell_type": "code",
   "execution_count": 15,
   "metadata": {},
   "outputs": [],
   "source": [
    "fig.write_image(\"X:/user/dekkerm/Projects/ECEMF_T5.2/Figures/Figure_costopt/Figure_costopt.svg\")\n",
    "fig.write_image(\"X:/user/dekkerm/Projects/ECEMF_T5.2/Figures/Figure_costopt/Figure_costopt.png\", scale=3)\n",
    "\n",
    "import os\n",
    "from datetime import date\n",
    "try:\n",
    "    os.remove('X:/user/dekkerm/Projects/ECEMF_T5.2/Figures/Figure_costopt/Figure_costopt.html')\n",
    "except:\n",
    "    3\n",
    "def html_w(typ):\n",
    "    return '<html> '+typ+' <p style=\"font-family: Arial\">'\n",
    "\n",
    "today = date.today()\n",
    "td = today.strftime(\"%B %d, %Y\")\n",
    "\n",
    "with open('X:/user/dekkerm/Projects/ECEMF_T5.2/Figures/Figure_costopt/Figure_costopt.html', 'a') as f:\n",
    "    #f.write(html_w('<h1>')+'Figure 1 - Electricity Generation</p></h1>')\n",
    "    f.write(html_w('<body>')+'Version: '+td+'</p></body>')\n",
    "    f.write(fig.to_html(full_html=False, include_plotlyjs='cdn'))"
   ]
  }
 ],
 "metadata": {
  "kernelspec": {
   "display_name": "MyEnv",
   "language": "python",
   "name": "python3"
  },
  "language_info": {
   "codemirror_mode": {
    "name": "ipython",
    "version": 3
   },
   "file_extension": ".py",
   "mimetype": "text/x-python",
   "name": "python",
   "nbconvert_exporter": "python",
   "pygments_lexer": "ipython3",
   "version": "3.9.16"
  },
  "orig_nbformat": 4,
  "vscode": {
   "interpreter": {
    "hash": "36d5d389870ab01fa625d0d5123f82469a3683fa0e02c4f7e9e76e9a75345aa3"
   }
  }
 },
 "nbformat": 4,
 "nbformat_minor": 2
}
