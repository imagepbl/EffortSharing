{
 "cells": [
  {
   "attachments": {},
   "cell_type": "markdown",
   "metadata": {},
   "source": [
    "## Preambule"
   ]
  },
  {
   "cell_type": "code",
   "execution_count": 354,
   "metadata": {},
   "outputs": [],
   "source": [
    "# General packages\n",
    "import numpy as np\n",
    "import pandas as pd\n",
    "from tqdm import tqdm\n",
    "import matplotlib as mpl\n",
    "from pathlib import Path\n",
    "import xarray as xr\n",
    "import json\n",
    "\n",
    "# Plotting\n",
    "import matplotlib.pyplot as plt\n",
    "import plotly\n",
    "import plotly.express as px\n",
    "import plotly.graph_objects as go\n",
    "from plotly.subplots import make_subplots\n",
    "from plotly.colors import n_colors"
   ]
  },
  {
   "attachments": {},
   "cell_type": "markdown",
   "metadata": {},
   "source": [
    "## Parameters"
   ]
  },
  {
   "cell_type": "code",
   "execution_count": 2,
   "metadata": {},
   "outputs": [],
   "source": [
    "hist_startyear = 1990"
   ]
  },
  {
   "cell_type": "markdown",
   "metadata": {},
   "source": [
    "## Paths"
   ]
  },
  {
   "cell_type": "code",
   "execution_count": 3,
   "metadata": {},
   "outputs": [],
   "source": [
    "path_main = Path(\"X:/user/dekkerm/Projects/ECEMF_T5.2\")\n",
    "path_data = path_main / \"Data\" / str(hist_startyear)\n",
    "path_figs = path_main / \"Figures\"\n",
    "path_ar6_iso = Path(\"X:/user/dekkerm/Data/IPCC/AR6_ISO3/\")"
   ]
  },
  {
   "cell_type": "markdown",
   "metadata": {},
   "source": [
    "## Read data files"
   ]
  },
  {
   "cell_type": "code",
   "execution_count": 4,
   "metadata": {},
   "outputs": [],
   "source": [
    "xr_total = xr.open_dataset(path_data / \"xr_total.nc\")\n",
    "all_regions_iso = np.load(path_data / \"all_regions.npy\")\n",
    "all_regions_names = np.load(path_data / \"all_regions_names.npy\")\n",
    "all_countries_iso = np.load(path_data / \"all_countries.npy\", allow_pickle=True)\n",
    "all_countries_names = np.load(path_data / \"all_countries_names.npy\", allow_pickle=True)\n",
    "only_regions_iso = ['CVF', 'G20', \"EU\", \"G7\", \"NA\", \"AU\", \"AF\", \"SIDS\", \"LDC\", \"WORLD\"]\n",
    "only_regions_names = ['Climate Vulnerability Forum','G20',\"European Union\",\"G7\",\"Northern America\",\"Australasia\",\"African Group\",\"Small Island Developing States\",\"Least Developed Countries\"]"
   ]
  },
  {
   "cell_type": "code",
   "execution_count": 5,
   "metadata": {},
   "outputs": [],
   "source": [
    "xr_budgets_static = xr.open_dataset(path_data / \"xr_budgets_static.nc\")\n",
    "xr_budgets_linear = xr.open_dataset(path_data / \"xr_budgets_linear.nc\")\n",
    "xr_budgets_scenario = xr.open_dataset(path_data / \"xr_budgets_scenario.nc\")\n",
    "df_michel = pd.read_excel(Path(\"X:/user/dekkerm/Data/\") / \"NDC\" / \"NDC_comparison.xlsx\", sheet_name=\"Michel\")"
   ]
  },
  {
   "cell_type": "code",
   "execution_count": 6,
   "metadata": {},
   "outputs": [],
   "source": [
    "df_countries = pd.read_csv(\"X:/user/dekkerm/Data/AllCountries.csv\")"
   ]
  },
  {
   "cell_type": "code",
   "execution_count": 7,
   "metadata": {},
   "outputs": [],
   "source": [
    "df_data = pd.read_csv(path_ar6_iso / \"AR6_Scenarios_Database_ISO3_v1.1.csv\")"
   ]
  },
  {
   "cell_type": "code",
   "execution_count": 8,
   "metadata": {},
   "outputs": [],
   "source": [
    "df_meta = pd.read_excel(path_ar6_iso / \"AR6_Scenarios_Database_metadata_indicators_v1.1.xlsx\", sheet_name= \"meta_Ch3vetted_withclimate\")"
   ]
  },
  {
   "attachments": {},
   "cell_type": "markdown",
   "metadata": {},
   "source": [
    "## Preprocess"
   ]
  },
  {
   "cell_type": "code",
   "execution_count": 273,
   "metadata": {},
   "outputs": [],
   "source": [
    "mods = np.array(df_meta[(df_meta.Category == \"C1\") | (df_meta.Category == \"C2\")].Model)\n",
    "scens = np.array(df_meta[(df_meta.Category == \"C1\") | (df_meta.Category == \"C2\")].Scenario)\n",
    "modscens = [mods[i]+'|'+scens[i] for i in range(len(mods))]\n",
    "mods = np.array(df_data.Model)\n",
    "scens = np.array(df_data.Scenario)\n",
    "modscens_data = [mods[i]+'|'+scens[i] for i in range(len(scens))]\n",
    "modscens_data_uni = np.unique([mods[i]+'|'+scens[i] for i in range(len(scens))])\n",
    "df_data['ModelScenario'] = modscens_data\n",
    "df_data_small = df_data[df_data.ModelScenario.isin(modscens)]\n",
    "df_data_small = df_data_small.reset_index(drop=True)\n",
    "df_data_small = df_data_small[[\"ModelScenario\", \"Region\", \"Variable\"]+['1990', '1995',\n",
    "       '2000', '2005', '2007', '2008', '2010', '2011', '2012', '2013', '2014',\n",
    "       '2015', '2018', '2020', '2021', '2022', '2023', '2024', '2025', '2030',\n",
    "       '2035', '2040', '2045', '2050', '2055', '2060', '2065', '2070', '2075',\n",
    "       '2080', '2085', '2090', '2095', '2100']]\n",
    "df__ = df_data_small.melt(id_vars=[\"ModelScenario\", \"Region\", \"Variable\"], var_name=\"Time\", value_name=\"Value\")\n",
    "df__['Time'] = df__['Time'].astype(int)\n",
    "df__ = df__.set_index(['ModelScenario', 'Region', 'Variable', 'Time'])\n",
    "xr_data_15 = xr.Dataset.from_dataframe(df__)"
   ]
  },
  {
   "cell_type": "code",
   "execution_count": 38,
   "metadata": {},
   "outputs": [],
   "source": [
    "# mods = np.array(df_meta[(df_meta.Category == \"C3\")].Model)\n",
    "# scens = np.array(df_meta[(df_meta.Category == \"C3\")].Scenario)\n",
    "# modscens = [mods[i]+'|'+scens[i] for i in range(len(mods))]\n",
    "# mods = np.array(df_data.Model)\n",
    "# scens = np.array(df_data.Scenario)\n",
    "# modscens_data = [mods[i]+'|'+scens[i] for i in range(len(scens))]\n",
    "# modscens_data_uni = np.unique([mods[i]+'|'+scens[i] for i in range(len(scens))])\n",
    "# df_data['ModelScenario'] = modscens_data\n",
    "# df_data_small = df_data[df_data.ModelScenario.isin(modscens)]\n",
    "# df_data_small = df_data_small.reset_index(drop=True)\n",
    "# df_data_small = df_data_small[[\"ModelScenario\", \"Region\", \"Variable\"]+['1990', '1995',\n",
    "#        '2000', '2005', '2007', '2008', '2010', '2011', '2012', '2013', '2014',\n",
    "#        '2015', '2018', '2020', '2021', '2022', '2023', '2024', '2025', '2030',\n",
    "#        '2035', '2040', '2045', '2050', '2055', '2060', '2065', '2070', '2075',\n",
    "#        '2080', '2085', '2090', '2095', '2100']]\n",
    "# df__ = df_data_small.melt(id_vars=[\"ModelScenario\", \"Region\", \"Variable\"], var_name=\"Time\", value_name=\"Value\")\n",
    "# df__['Time'] = df__['Time'].astype(int)\n",
    "# df__ = df__.set_index(['ModelScenario', 'Region', 'Variable', 'Time'])\n",
    "# xr_data_2 = xr.Dataset.from_dataframe(df__)"
   ]
  },
  {
   "cell_type": "code",
   "execution_count": 274,
   "metadata": {},
   "outputs": [
    {
     "name": "stderr",
     "output_type": "stream",
     "text": [
      "x:\\user\\dekkerm\\environments\\MyEnv\\lib\\site-packages\\xarray\\core\\missing.py:264: FutureWarning:\n",
      "\n",
      "is_monotonic is deprecated and will be removed in a future version. Use is_monotonic_increasing instead.\n",
      "\n"
     ]
    }
   ],
   "source": [
    "xr_data_15 = xr_data_15.reindex(Time = np.arange(1990, 2101))\n",
    "xr_data_15 = xr_data_15.interpolate_na(dim=\"Time\", method=\"linear\")"
   ]
  },
  {
   "cell_type": "code",
   "execution_count": 40,
   "metadata": {},
   "outputs": [
    {
     "name": "stderr",
     "output_type": "stream",
     "text": [
      "x:\\user\\dekkerm\\environments\\MyEnv\\lib\\site-packages\\xarray\\core\\missing.py:264: FutureWarning:\n",
      "\n",
      "is_monotonic is deprecated and will be removed in a future version. Use is_monotonic_increasing instead.\n",
      "\n"
     ]
    }
   ],
   "source": [
    "# xr_data_2 = xr_data_2.reindex(Time = np.arange(1990, 2101))\n",
    "# xr_data_2 = xr_data_2.interpolate_na(dim=\"Time\", method=\"linear\")"
   ]
  },
  {
   "attachments": {},
   "cell_type": "markdown",
   "metadata": {},
   "source": [
    "Get new data"
   ]
  },
  {
   "cell_type": "code",
   "execution_count": 275,
   "metadata": {},
   "outputs": [],
   "source": [
    "regs = np.array(['ARG', 'AUS', 'BRA', 'CAN', 'CHN', 'COL', 'EU', 'IDN', 'IND', 'JPN', 'KOR', 'MEX', 'PAK', 'RUS', 'SAU', 'TUR', 'USA', 'ZAF'])#np.array(xr_data_15.Region) -> without Taiwan!"
   ]
  },
  {
   "cell_type": "code",
   "execution_count": 276,
   "metadata": {},
   "outputs": [],
   "source": [
    "cost_optimal_15 = np.array(xr_data_15.sel(Time=np.arange(2020, 2101), Variable=\"Emissions|Kyoto Gases\", Region=regs).Value.sum(dim='Time'))/1e3\n",
    "cost_optimal_15[cost_optimal_15 == 0] = np.nan\n",
    "#np.array(xr_data_15.sel(Time=2030, Variable=\"Emissions|Kyoto Gases\", Region=regs).Value)/1e3#np.array((xr_data_15.sel(Time=2019, Variable=\"Emissions|Kyoto Gases\", Region=regs).Value - xr_data_15.sel(Time=2030, Variable=\"Emissions|Kyoto Gases\", Region=regs).Value) /xr_data_15.sel(Time=2019, Variable=\"Emissions|Kyoto Gases\", Region=regs).Value)\n",
    "#cost_optimal_2 =  np.array((xr_data_2.sel(Time=2019, Variable=\"Emissions|Kyoto Gases\", Region=regs).Value - xr_data_2.sel(Time=2030, Variable=\"Emissions|Kyoto Gases\", Region=regs).Value) /xr_data_2.sel(Time=2019, Variable=\"Emissions|Kyoto Gases\", Region=regs).Value)"
   ]
  },
  {
   "cell_type": "code",
   "execution_count": 535,
   "metadata": {},
   "outputs": [],
   "source": [
    "#xr2 = xr_budgets_scenario.sel(Time=2030)#(xr_budgets_scenario.sel(Time=2020) - xr_budgets_scenario.sel(Time=2030))/xr_budgets_scenario.sel(Time=2020)\n",
    "xr2 = xr_budgets_static\n",
    "alloc_gf = np.array(xr2.sel(Region=regs,Variable='GF', Ccat='C1+C2').Value)\n",
    "alloc_pc = np.array(xr2.sel(Region=regs, Variable='PC', Ccat='C1+C2').Value)\n",
    "alloc_pcc = np.array(xr2.sel(Region=regs, Variable='PCC', Ccat='C1+C2').Value)\n",
    "alloc_ap = np.array(xr2.sel(Region=regs, Variable='AP', Ccat='C1+C2').Value)\n",
    "alloc_gdr = np.array(xr2.sel(Region=regs, Variable='GDR', Ccat='C1+C2').Value)\n",
    "alloc_ecpc = np.array(xr2.sel(Region=regs, Variable='ECPC', Ccat='C1+C2').Value)\n",
    "alloc_base = np.array(xr_total.GHG_base.sel(ISO=regs, Time=np.arange(2020, 2101)).sum(dim='Time', skipna=True))\n",
    "ndc_h = np.array(xr_total.NDC_h.sel(ISO=regs, Time=np.arange(2020, 2101)))\n",
    "ndc_l = np.array(xr_total.NDC_l.sel(ISO=regs, Time=np.arange(2020, 2101)))\n",
    "allocs = [alloc_gf, alloc_pc, alloc_pcc, alloc_ap, alloc_gdr, alloc_ecpc]"
   ]
  },
  {
   "cell_type": "code",
   "execution_count": 537,
   "metadata": {},
   "outputs": [],
   "source": [
    "total = np.zeros(shape=(len(allocs), len(regs)))\n",
    "for alloc_i, alloc in enumerate(allocs):\n",
    "    wh = np.where(alloc < np.nanmedian(cost_optimal_15, axis=0))[0]\n",
    "    total[alloc_i, wh] = 1\n",
    "fractions = np.sum(total, axis=0) / len(allocs)"
   ]
  },
  {
   "attachments": {},
   "cell_type": "markdown",
   "metadata": {},
   "source": [
    "## Plot"
   ]
  },
  {
   "cell_type": "code",
   "execution_count": 538,
   "metadata": {},
   "outputs": [],
   "source": [
    "path_ctygroups = \"X:/user/dekkerm/Data/\" + \"UNFCCC_Parties_Groups_noeu.xlsx\"\n",
    "df = pd.read_excel(path_ctygroups, sheet_name = \"Country groups\")\n",
    "countries_iso = np.array(df[\"Country ISO Code\"])\n",
    "countries_name = np.array(df[\"Name\"])\n",
    "countries_iso = np.array(df[\"Country ISO Code\"])\n",
    "group_eu = countries_iso[np.array(df[\"EU\"]) == 1]"
   ]
  },
  {
   "cell_type": "code",
   "execution_count": 558,
   "metadata": {},
   "outputs": [
    {
     "data": {
      "application/vnd.plotly.v1+json": {
       "config": {
        "plotlyServerURL": "https://plotly.com"
       },
       "data": [
        {
         "colorbar": {
          "len": 0.4,
          "orientation": "h",
          "thickness": 15,
          "tickfont": {
           "size": 10
          },
          "ticklabelposition": "outside",
          "ticktext": [
           "None<br>(Mitigation financed<br>by others)",
           "1 out of 6",
           "2 out of 6",
           "3 out of 6",
           "4 out of 6",
           "5 out of 6",
           "All<br>(Finances mitigation<br>abroad)"
          ],
          "tickvals": [
           0,
           0.16666666666666666,
           0.3333333333333333,
           0.5,
           0.6666666666666666,
           0.8333333333333333,
           1
          ],
          "x": 0.37,
          "y": 0.45
         },
         "colorscale": [
          [
           0,
           "rgb(40, 135, 161)"
          ],
          [
           0.16666666666666666,
           "rgb(121, 167, 172)"
          ],
          [
           0.3333333333333333,
           "rgb(181, 200, 184)"
          ],
          [
           0.5,
           "rgb(237, 234, 194)"
          ],
          [
           0.6666666666666666,
           "rgb(214, 189, 141)"
          ],
          [
           0.8333333333333334,
           "rgb(189, 146, 90)"
          ],
          [
           1,
           "rgb(161, 105, 40)"
          ]
         ],
         "geo": "geo",
         "hovertemplate": "%{text}",
         "locationmode": "ISO-3",
         "locations": [
          "ARG",
          "AUS",
          "BRA",
          "CAN",
          "CHN",
          "COL",
          "EU",
          "IDN",
          "IND",
          "JPN",
          "KOR",
          "MEX",
          "PAK",
          "RUS",
          "SAU",
          "TUR",
          "USA",
          "ZAF"
         ],
         "marker": {
          "line": {
           "color": "black",
           "width": 1
          }
         },
         "name": "",
         "showscale": true,
         "text": [
          "ARG: 1 out of 5",
          "AUS: 1 out of 5",
          "BRA: 0 out of 5",
          "CAN: 2 out of 5",
          "CHN: 2 out of 5",
          "COL: 3 out of 5",
          "EU: 4 out of 5",
          "IDN: 1 out of 5",
          "IND: 0 out of 5",
          "JPN: 3 out of 5",
          "KOR: 4 out of 5",
          "MEX: 0 out of 5",
          "PAK: 0 out of 5",
          "RUS: 2 out of 5",
          "SAU: 4 out of 5",
          "TUR: 3 out of 5",
          "USA: 4 out of 5",
          "ZAF: 0 out of 5"
         ],
         "type": "choropleth",
         "z": [
          0.3333333333333333,
          0.3333333333333333,
          0,
          0.5,
          0.5,
          0.6666666666666666,
          0.8333333333333334,
          0.3333333333333333,
          0.16666666666666666,
          0.6666666666666666,
          0.8333333333333334,
          0,
          0.16666666666666666,
          0.5,
          0.8333333333333334,
          0.6666666666666666,
          0.8333333333333334,
          0.16666666666666666
         ],
         "zmax": 1,
         "zmin": 0
        },
        {
         "colorscale": [
          [
           0,
           "rgb(40, 135, 161)"
          ],
          [
           0.16666666666666666,
           "rgb(121, 167, 172)"
          ],
          [
           0.3333333333333333,
           "rgb(181, 200, 184)"
          ],
          [
           0.5,
           "rgb(237, 234, 194)"
          ],
          [
           0.6666666666666666,
           "rgb(214, 189, 141)"
          ],
          [
           0.8333333333333334,
           "rgb(189, 146, 90)"
          ],
          [
           1,
           "rgb(161, 105, 40)"
          ]
         ],
         "geo": "geo",
         "hovertemplate": "%{text}",
         "locationmode": "ISO-3",
         "locations": [
          "AUT",
          "BEL",
          "BGR",
          "HRV",
          "CYP",
          "CZE",
          "DNK",
          "EST",
          "FIN",
          "FRA",
          "DEU",
          "GRC",
          "HUN",
          "IRL",
          "ITA",
          "LVA",
          "LTU",
          "LUX",
          "MLT",
          "NLD",
          "POL",
          "PRT",
          "ROU",
          "SVK",
          "SVN",
          "ESP",
          "SWE"
         ],
         "marker": {
          "line": {
           "color": "black",
           "width": 1
          }
         },
         "name": "",
         "showscale": false,
         "text": [
          "EU: 5 out of 6",
          "EU: 5 out of 6",
          "EU: 5 out of 6",
          "EU: 5 out of 6",
          "EU: 5 out of 6",
          "EU: 5 out of 6",
          "EU: 5 out of 6",
          "EU: 5 out of 6",
          "EU: 5 out of 6",
          "EU: 5 out of 6",
          "EU: 5 out of 6",
          "EU: 5 out of 6",
          "EU: 5 out of 6",
          "EU: 5 out of 6",
          "EU: 5 out of 6",
          "EU: 5 out of 6",
          "EU: 5 out of 6",
          "EU: 5 out of 6",
          "EU: 5 out of 6",
          "EU: 5 out of 6",
          "EU: 5 out of 6",
          "EU: 5 out of 6",
          "EU: 5 out of 6",
          "EU: 5 out of 6",
          "EU: 5 out of 6",
          "EU: 5 out of 6",
          "EU: 5 out of 6"
         ],
         "type": "choropleth",
         "z": [
          0.8333333333333334,
          0.8333333333333334,
          0.8333333333333334,
          0.8333333333333334,
          0.8333333333333334,
          0.8333333333333334,
          0.8333333333333334,
          0.8333333333333334,
          0.8333333333333334,
          0.8333333333333334,
          0.8333333333333334,
          0.8333333333333334,
          0.8333333333333334,
          0.8333333333333334,
          0.8333333333333334,
          0.8333333333333334,
          0.8333333333333334,
          0.8333333333333334,
          0.8333333333333334,
          0.8333333333333334,
          0.8333333333333334,
          0.8333333333333334,
          0.8333333333333334,
          0.8333333333333334,
          0.8333333333333334,
          0.8333333333333334,
          0.8333333333333334
         ],
         "zmax": 1,
         "zmin": 0
        },
        {
         "hoverinfo": "skip",
         "line": {
          "color": "black",
          "width": 1
         },
         "mode": "lines",
         "name": "",
         "showlegend": false,
         "type": "scatter",
         "x": [
          "CO",
          "GF",
          "PC",
          "PCC",
          "AP",
          "GDR",
          "ECPC"
         ],
         "xaxis": "x12",
         "y": [
          94.26067615,
          94.26067615,
          94.26067615,
          94.26067615,
          94.26067615,
          94.26067615,
          94.26067615
         ],
         "yaxis": "y12"
        },
        {
         "hoverinfo": "skip",
         "line": {
          "color": "silver",
          "width": 0
         },
         "mode": "lines",
         "name": "",
         "showlegend": false,
         "type": "scatter",
         "x": [
          "GF",
          "PC",
          "PCC",
          "AP",
          "GDR",
          "ECPC"
         ],
         "xaxis": "x12",
         "y": [
          75.90457378247682,
          75.90457378247682,
          75.90457378247682,
          75.90457378247682,
          75.90457378247682,
          75.90457378247682
         ],
         "yaxis": "y12"
        },
        {
         "fill": "tonexty",
         "hoverinfo": "skip",
         "line": {
          "color": "silver",
          "width": 0
         },
         "mode": "lines",
         "name": "",
         "showlegend": false,
         "type": "scatter",
         "x": [
          "GF",
          "PC",
          "PCC",
          "AP",
          "GDR",
          "ECPC"
         ],
         "xaxis": "x12",
         "y": [
          112.43583461077988,
          112.43583461077988,
          112.43583461077988,
          112.43583461077988,
          112.43583461077988,
          112.43583461077988
         ],
         "yaxis": "y12"
        },
        {
         "boxpoints": "all",
         "fillcolor": "rgb(189, 146, 90)",
         "hovertemplate": "%{text}",
         "jitter": 0.5,
         "line": {
          "color": "black",
          "width": 1.5
         },
         "marker": {
          "color": "grey",
          "size": 3
         },
         "name": "CO",
         "pointpos": -1.8,
         "showlegend": false,
         "text": [
          "USA: 76.2<br>AIM/CGE 2.1|CD-LINKS_NPi2020_400",
          "USA: 94.1<br>AIM/CGE 2.2|EN_NPi2020_300f",
          "USA: 111.0<br>AIM/CGE 2.2|EN_NPi2020_400f",
          "USA: 131.7<br>AIM/CGE 2.2|EN_NPi2020_500f",
          "USA: 126.3<br>AIM/CGE 2.2|EN_NPi2020_600",
          "USA: 75.7<br>AIM/CGE 2.2|EN_NPi2020_600f",
          "USA: 90.9<br>AIM/Hub-Global 2.0|1.5C",
          "USA: 94.5<br>C-ROADS-5.005|Ratchet-1.5-allCDR",
          "USA: 90.2<br>C-ROADS-5.005|Ratchet-1.5-limCDR",
          "USA: 101.4<br>C-ROADS-5.005|Ratchet-1.5-limCDR-noOS",
          "USA: 63.9<br>C-ROADS-5.005|Ratchet-1.5-noCDR",
          "USA: 88.6<br>C-ROADS-5.005|Ratchet-1.5-noCDR-noOS",
          "USA: 107.9<br>COFFEE 1.1|EN_INDCi2030_400f",
          "USA: 31.3<br>COFFEE 1.1|EN_INDCi2030_500f",
          "USA: 49.9<br>COFFEE 1.1|EN_NPi2020_400",
          "USA: 66.9<br>COFFEE 1.1|EN_NPi2020_400f",
          "USA: 83.7<br>COFFEE 1.1|EN_NPi2020_500f",
          "USA: 100.9<br>GCAM 4.2|SSP1-19",
          "USA: 118.1<br>GCAM 5.3|NGFS2_Divergent Net Zero Policies",
          "USA: 82.0<br>GCAM 5.3|NGFS2_Net-Zero 2050",
          "USA: 125.9<br>GCAM 5.3|R_MAC_30_n0",
          "USA: 82.4<br>GCAM 5.3|R_MAC_35_n8",
          "USA: 86.5<br>GCAM 5.3|R_MAC_40_n8",
          "USA: 86.0<br>GCAM 5.3|R_MAC_45_n8",
          "USA: 85.2<br>GCAM 5.3|R_MAC_50_n8",
          "USA: 122.6<br>GCAM 5.3|R_MAC_55_n8",
          "USA: 69.2<br>GCAM 5.3|R_MAC_60_n8",
          "USA: 92.8<br>GCAM 5.3|SSP_SSP3",
          "USA: 89.5<br>GCAM 5.3|SSP_SSP4",
          "USA: 126.1<br>GEM-E3_V2021|EN_INDCi2030_600f",
          "USA: 122.1<br>GEM-E3_V2021|EN_INDCi2030_600f_COV",
          "USA: 108.4<br>GEM-E3_V2021|EN_INDCi2030_600f_COV_NDCp",
          "USA: 111.5<br>GEM-E3_V2021|EN_INDCi2030_600f_NDCp",
          "USA: 93.8<br>GEM-E3_V2021|EN_INDCi2030_800f",
          "USA: 81.4<br>GEM-E3_V2021|EN_NPi2020_400f",
          "USA: 57.3<br>GEM-E3_V2021|EN_NPi2020_500",
          "USA: 32.7<br>GEM-E3_V2021|EN_NPi2020_500f",
          "USA: 33.7<br>GEM-E3_V2021|EN_NPi2020_600",
          "USA: 103.4<br>GEM-E3_V2021|EN_NPi2020_600_COV",
          "USA: 81.2<br>GEM-E3_V2021|EN_NPi2020_600f",
          "USA: 108.5<br>GEM-E3_V2021|EN_NPi2020_600f_COV",
          "USA: 40.1<br>IMAGE 3.0.1|ADVANCE_2020_1.5C-2100",
          "USA: 100.5<br>IMAGE 3.0.1|CD-LINKS_NPi2020_400",
          "USA: 76.0<br>IMAGE 3.2|SSP1_SPA1_19I_D",
          "USA: 27.8<br>IMAGE 3.2|SSP1_SPA1_19I_D_LB",
          "USA: 2.0<br>IMAGE 3.2|SSP1_SPA1_19I_LI",
          "USA: 40.5<br>IMAGE 3.2|SSP1_SPA1_19I_LIRE",
          "USA: 96.7<br>IMAGE 3.2|SSP1_SPA1_19I_LIRE_LB",
          "USA: 106.9<br>IMAGE 3.2|SSP1_SPA1_19I_RE",
          "USA: 102.2<br>IMAGE 3.2|SSP1_SPA1_19I_RE_LB",
          "USA: 109.1<br>IMAGE 3.2|SSP2_SPA1_19I_D_LB",
          "USA: 116.8<br>IMAGE 3.2|SSP2_SPA1_19I_LIRE_LB",
          "USA: 103.3<br>IMAGE 3.2|SSP2_SPA1_19I_RE_LB",
          "USA: 69.9<br>IMAGE 3.2|SSP2_SPA2_19I_D",
          "USA: 84.9<br>IMAGE 3.2|SSP2_SPA2_19I_LI",
          "USA: 99.8<br>IMAGE 3.2|SSP2_SPA2_19I_LIRE",
          "USA: 100.4<br>IMAGE 3.2|SSP2_SPA2_19I_RE",
          "USA: 107.6<br>MESSAGE-GLOBIOM 1.0|ADVANCE_2020_1.5C-2100",
          "USA: 108.0<br>MESSAGE-GLOBIOM 1.0|ADVANCE_2030_Price1.5C",
          "USA: 116.9<br>MESSAGE-GLOBIOM 1.0|EMF30_Slower-to-faster",
          "USA: 123.1<br>MESSAGE-GLOBIOM 1.0|EMF33_1.5C_cost100",
          "USA: 128.7<br>MESSAGE-GLOBIOM 1.0|EMF33_1.5C_full",
          "USA: 118.9<br>MESSAGE-GLOBIOM 1.0|EMF33_WB2C_cost100",
          "USA: 125.0<br>MESSAGE-GLOBIOM 1.0|EMF33_WB2C_full",
          "USA: 127.0<br>MESSAGE-GLOBIOM 1.0|EMF33_WB2C_limbio",
          "USA: 126.2<br>MESSAGE-GLOBIOM 1.0|EMF33_WB2C_nofuel",
          "USA: 121.2<br>MESSAGE-GLOBIOM 1.0|SSP2-19",
          "USA: 132.8<br>MESSAGEix-GLOBIOM 1.0|CD-LINKS_NDC2030i_1000",
          "USA: 134.9<br>MESSAGEix-GLOBIOM 1.0|CD-LINKS_NPi2020_1000",
          "USA: 130.5<br>MESSAGEix-GLOBIOM 1.0|CD-LINKS_NPi2020_400",
          "USA: 114.7<br>MESSAGEix-GLOBIOM 1.0|LowEnergyDemand_1.3_IPCC",
          "USA: 122.0<br>MESSAGEix-GLOBIOM_1.1|EN_NPi2020_200f",
          "USA: 127.0<br>MESSAGEix-GLOBIOM_1.1|EN_NPi2020_300f",
          "USA: 129.9<br>MESSAGEix-GLOBIOM_1.1|EN_NPi2020_400f",
          "USA: 134.2<br>MESSAGEix-GLOBIOM_1.1|EN_NPi2020_450f",
          "USA: 140.9<br>MESSAGEix-GLOBIOM_1.1|EN_NPi2020_450",
          "USA: 142.4<br>MESSAGEix-GLOBIOM_1.1|EN_NPi2020_500f",
          "USA: 148.1<br>MESSAGEix-GLOBIOM_1.1|EN_NPi2020_500",
          "USA: 94.9<br>MESSAGEix-GLOBIOM_1.1|EN_NPi2020_600f_DR10p",
          "USA: 106.9<br>MESSAGEix-GLOBIOM_1.1|EN_INDCi2030_600f_COV_NDCp",
          "USA: 115.7<br>MESSAGEix-GLOBIOM_1.1|EN_INDCi2030_600f_COV",
          "USA: 109.4<br>MESSAGEix-GLOBIOM_1.1|NGFS2_Divergent Net Zero Policies",
          "USA: 113.9<br>MESSAGEix-GLOBIOM_1.1|EN_NPi2020_600f_COV",
          "USA: 117.0<br>MESSAGEix-GLOBIOM_1.1|EN_NPi2020_600f",
          "USA: 113.3<br>MESSAGEix-GLOBIOM_1.1|EN_NPi2020_600f_DR4p",
          "USA: 43.3<br>MESSAGEix-GLOBIOM_1.1|NGFS2_Net-Zero 2050",
          "USA: 46.3<br>MESSAGEix-GLOBIOM_1.1|EN_NPi2020_600_DR10p",
          "USA: 47.7<br>MESSAGEix-GLOBIOM_1.1|EN_NPi2020_600f_DR3p",
          "USA: 62.0<br>MESSAGEix-GLOBIOM_1.1|EN_NPi2020_600_COV",
          "USA: 96.8<br>MESSAGEix-GLOBIOM_1.1|EN_NPi2020_600_DR4p",
          "USA: 148.9<br>MESSAGEix-GLOBIOM_1.1|EN_NPi2020_600_DR3p",
          "USA: 27.1<br>MESSAGEix-GLOBIOM_1.1|EN_NPi2020_600",
          "USA: 36.4<br>MESSAGEix-GLOBIOM_1.1|EN_NPi2020_600_DR2p",
          "USA: 139.9<br>MESSAGEix-GLOBIOM_1.1|EN_NPi2020_600_DR1p",
          "USA: 85.7<br>MESSAGEix-GLOBIOM_1.1|EN_NPi2020_600f_DR2p",
          "USA: 131.1<br>MESSAGEix-GLOBIOM_1.1|EN_NPi2020_600f_DR1p",
          "USA: 89.4<br>MESSAGEix-GLOBIOM_1.1|EN_INDCi2030_700f_NDCp",
          "USA: 121.8<br>MESSAGEix-GLOBIOM_1.1|EN_INDCi2030_700f",
          "USA: 45.4<br>MESSAGEix-GLOBIOM_1.1|EN_INDCi2030_700f_COV",
          "USA: 84.5<br>MESSAGEix-GLOBIOM_1.1|EN_INDCi2030_700f_COV_NDCp",
          "USA: 118.0<br>MESSAGEix-GLOBIOM_1.1|EN_NPi2020_700f_COV",
          "USA: 78.3<br>MESSAGEix-GLOBIOM_1.1|EN_NPi2020_700f",
          "USA: 92.6<br>MESSAGEix-GLOBIOM_1.1|EN_NPi2020_700_COV",
          "USA: 94.5<br>MESSAGEix-GLOBIOM_1.1|EN_NPi2020_700",
          "USA: 103.0<br>MESSAGEix-GLOBIOM_1.2|COV_GreenPush_550",
          "USA: 65.5<br>MESSAGEix-GLOBIOM_1.2|COV_NoPolicyNoCOVID_550",
          "USA: 104.7<br>MESSAGEix-GLOBIOM_1.2|COV_Restore_550",
          "USA: 47.7<br>MESSAGEix-GLOBIOM_1.2|COV_SelfReliance_550",
          "USA: 90.3<br>MESSAGEix-GLOBIOM_1.2|COV_SmartUse_550",
          "USA: 85.1<br>MESSAGEix-GLOBIOM_GEI 1.0|SSP2_int_mc_50",
          "USA: 90.7<br>MESSAGEix-GLOBIOM_GEI 1.0|SSP2_noint_mc_50",
          "USA: nan<br>MESSAGEix-GLOBIOM_GEI 1.0|SSP2_openres_lc_100",
          "USA: nan<br>MESSAGEix-GLOBIOM_GEI 1.0|SSP2_openres_lc_120",
          "USA: nan<br>MESSAGEix-GLOBIOM_GEI 1.0|SSP2_openres_lc_80",
          "USA: 56.1<br>MESSAGEix-GLOBIOM_GEI 1.0|SSP2_openres_lc_CB400",
          "USA: 36.7<br>MESSAGEix-GLOBIOM_GEI 1.0|SSP2_openres_lc_CB450",
          "USA: 53.6<br>MESSAGEix-GLOBIOM_GEI 1.0|SSP2_openres_lc_CB500",
          "USA: 52.5<br>MESSAGEix-GLOBIOM_GEI 1.0|SSP2_openres_lc_CB550",
          "USA: 53.7<br>MESSAGEix-GLOBIOM_GEI 1.0|SSP2_openres_lc_CB600",
          "USA: 85.1<br>MESSAGEix-GLOBIOM_GEI 1.0|SSP2_openres_mc_50",
          "USA: 90.3<br>POLES ADVANCE|ADVANCE_2020_1.5C-2100",
          "USA: 87.3<br>POLES ADVANCE|ADVANCE_2020_WB2C",
          "USA: 85.1<br>POLES ADVANCE|ADVANCE_2030_1.5C-2100",
          "USA: 107.2<br>POLES ADVANCE|ADVANCE_2030_Price1.5C",
          "USA: 105.8<br>POLES ADVANCE|ADVANCE_2030_WB2C",
          "USA: 107.1<br>POLES EMF30|EMF30_Slower-to-faster",
          "USA: 106.5<br>POLES EMF33|EMF33_WB2C_cost100",
          "USA: 72.8<br>POLES EMF33|EMF33_WB2C_full",
          "USA: 102.4<br>POLES EMF33|EMF33_WB2C_nofuel",
          "USA: 115.4<br>POLES ENGAGE|EN_INDCi2030_300f",
          "USA: 120.2<br>POLES ENGAGE|EN_INDCi2030_400f",
          "USA: 66.5<br>POLES ENGAGE|EN_NPi2020_300f",
          "USA: 74.2<br>POLES ENGAGE|EN_NPi2020_400f",
          "USA: 86.1<br>POLES GECO2019|CO_Bridge",
          "USA: 108.7<br>REMIND 1.7|ADVANCE_2020_1.5C-2100",
          "USA: 111.5<br>REMIND 1.7|ADVANCE_2020_WB2C",
          "USA: 96.2<br>REMIND 1.7|ADVANCE_2030_1.5C-2100",
          "USA: 104.7<br>REMIND 1.7|ADVANCE_2030_Price1.5C",
          "USA: 106.7<br>REMIND 1.7|ADVANCE_2030_WB2C",
          "USA: 98.4<br>REMIND 1.7|CEMICS-1.5-CDR12",
          "USA: 59.6<br>REMIND 1.7|CEMICS-1.5-CDR20",
          "USA: 75.9<br>REMIND 1.7|CEMICS-1.5-CDR8",
          "USA: 90.5<br>REMIND 1.7|CEMICS-2.0-CDR12",
          "USA: 84.0<br>REMIND 1.7|CEMICS-2.0-CDR20",
          "USA: 106.1<br>REMIND 1.7|CEMICS-2.0-CDR8",
          "USA: 102.9<br>REMIND 2.1|CEMICS_GDPgrowth_1p5",
          "USA: 119.7<br>REMIND 2.1|CEMICS_HotellingConst_1p5",
          "USA: 120.3<br>REMIND 2.1|CEMICS_Linear_1p5",
          "USA: 111.1<br>REMIND 2.1|CEMICS_opt_1p5",
          "USA: 124.6<br>REMIND 2.1|LeastTotalCost_LTC_brkLR15_SSP1_P50",
          "USA: 94.2<br>REMIND 2.1|LeastTotalCost_LTC_brkSR15_SSP1_P50",
          "USA: 79.2<br>REMIND 2.1|R2p1_SSP1-PkBudg1100",
          "USA: 77.0<br>REMIND 2.1|R2p1_SSP1-PkBudg1300",
          "USA: 77.3<br>REMIND 2.1|R2p1_SSP1-PkBudg900",
          "USA: 78.5<br>REMIND 2.1|R2p1_SSP2-PkBudg900",
          "USA: 47.9<br>REMIND 2.1|R2p1_SSP5-PkBudg1100",
          "USA: 94.3<br>REMIND 2.1|R2p1_SSP5-PkBudg900",
          "USA: 81.5<br>REMIND-Buildings 2.0|BEG-Budg600",
          "USA: 86.4<br>REMIND-Buildings 2.0|BEG-Budg600-EG",
          "USA: 38.4<br>REMIND-MAgPIE 1.5|SSP1-19",
          "USA: 25.1<br>REMIND-MAgPIE 1.5|SSP2-19",
          "USA: 25.0<br>REMIND-MAgPIE 1.5|SSP5-19",
          "USA: 69.0<br>REMIND-MAgPIE 1.7-3.0|CD-LINKS_INDC2030i_1000",
          "USA: 30.8<br>REMIND-MAgPIE 1.7-3.0|CD-LINKS_INDC2030i_400",
          "USA: 59.3<br>REMIND-MAgPIE 1.7-3.0|CD-LINKS_NPi2020_1000",
          "USA: 36.6<br>REMIND-MAgPIE 1.7-3.0|CD-LINKS_NPi2020_400"
         ],
         "type": "box",
         "whiskerwidth": 0.4,
         "xaxis": "x12",
         "y": [
          76.16928580000001,
          94.1206941,
          111.00041399999999,
          131.69955850000002,
          126.30165950000001,
          75.74657823154487,
          90.94689224459209,
          94.5100546727152,
          90.166740038722,
          101.41955274093503,
          63.91879686031999,
          88.574297842425,
          107.92416951866079,
          31.304788059080902,
          49.89225519174185,
          66.87046422984528,
          83.67898316122064,
          100.91545465683129,
          118.06356675169916,
          81.9790993298873,
          125.94574247878168,
          82.35577802873254,
          86.54460197535286,
          86.04718713524258,
          85.19751657248793,
          122.59472436524953,
          69.180691112435,
          92.82212671849197,
          89.50097944422876,
          126.07490983159187,
          122.07321262500977,
          108.40467964211493,
          111.53044587919287,
          93.77794642639161,
          81.39001914215088,
          57.32120254898072,
          32.72474997711181,
          33.71888784790039,
          103.37769425964356,
          81.19697227191925,
          108.50451899719238,
          40.148500213623045,
          100.45605565655231,
          75.95603876495362,
          27.818477828979493,
          1.9780609741210955,
          40.504535903930666,
          96.66677940351256,
          106.94043225605408,
          102.20948667660662,
          109.0554322142999,
          116.83499189002556,
          103.2511112212627,
          69.89330288222348,
          84.8811943764864,
          99.78553284727633,
          100.44986609415984,
          107.61746642767362,
          107.98109679558526,
          116.92365310672132,
          123.12471926666545,
          128.6850254872004,
          118.85816634254167,
          125.0326250930055,
          127.01748918802066,
          126.17606362096765,
          121.21782541474478,
          132.83117161233358,
          134.9077565330386,
          130.46319222227717,
          114.65288361805891,
          122.04437783297134,
          127.01757295185266,
          129.9062450819085,
          134.17577578848704,
          140.90581864836471,
          142.3683999714031,
          148.078993042683,
          94.94955365765001,
          106.86304351281001,
          115.66656446935107,
          109.42112361168186,
          113.90701414735321,
          116.98227247617751,
          113.34122334236689,
          43.31439694213867,
          46.31474493408202,
          47.71569073486328,
          62.04491046524048,
          96.75728772735596,
          148.9099999,
          27.086593349999998,
          36.35022065,
          139.85128294999998,
          85.7265334,
          131.1048897,
          89.35546095000001,
          121.7874234,
          45.355187449999995,
          84.5021092,
          117.9616067,
          78.3488701,
          92.611628,
          94.52866010000001,
          103.0462836,
          65.5041792,
          104.69388355000001,
          47.7293435,
          90.31850515000001,
          85.13716174999999,
          90.6883677,
          null,
          null,
          null,
          56.09916195,
          36.67519315,
          53.55677325000001,
          52.4858251,
          53.71674844999998,
          85.13716175,
          90.31850515000001,
          87.26690869999999,
          85.13721485,
          107.20706025000001,
          105.791165,
          107.0638665,
          106.4714479,
          72.82319190000001,
          102.41469325,
          115.44056005,
          120.18529565,
          66.45460085,
          74.24729850000001,
          86.07233649999999,
          108.6625161,
          111.45208319999999,
          96.2216859,
          104.6900185,
          106.7438478,
          98.44003984999999,
          59.63397414999999,
          75.85310880000002,
          90.54277429999999,
          83.99133859999999,
          106.1451088,
          102.88061169999997,
          119.65997800000001,
          120.31166999999999,
          111.06969864999999,
          124.57418734999999,
          94.1521305,
          79.18424045,
          76.98327354999998,
          77.340053,
          78.53315324999998,
          47.8706931,
          94.26067615,
          81.51666694999999,
          86.39467785,
          38.36945255,
          25.101766413829665,
          24.963519667352315,
          69.03191469123018,
          30.8292044648464,
          59.28238797627904,
          36.61576203818762
         ],
         "yaxis": "y12"
        },
        {
         "line": {
          "color": "forestgreen",
          "dash": "dot",
          "width": 2
         },
         "mode": "lines",
         "showlegend": false,
         "type": "scatter",
         "x": [
          "GF",
          "GF"
         ],
         "xaxis": "x12",
         "y": [
          94.26067615,
          155.8089472558624
         ],
         "yaxis": "y12"
        },
        {
         "marker": {
          "color": "forestgreen",
          "line": {
           "color": "black",
           "width": 1.5
          },
          "size": 13,
          "symbol": "triangle-up"
         },
         "mode": "markers+text",
         "showlegend": false,
         "text": "+<b>$",
         "textfont": {
          "color": "forestgreen"
         },
         "textposition": "middle left",
         "type": "scatter",
         "x": [
          "GF"
         ],
         "xaxis": "x12",
         "y": [
          155.8089472558624
         ],
         "yaxis": "y12"
        },
        {
         "line": {
          "color": "tomato",
          "dash": "dot",
          "width": 2
         },
         "mode": "lines",
         "showlegend": false,
         "type": "scatter",
         "x": [
          "PC",
          "PC"
         ],
         "xaxis": "x12",
         "y": [
          94.26067615,
          49.06790422799982
         ],
         "yaxis": "y12"
        },
        {
         "marker": {
          "color": "tomato",
          "line": {
           "color": "black",
           "width": 1.5
          },
          "size": 13,
          "symbol": "triangle-down"
         },
         "mode": "markers+text",
         "showlegend": false,
         "text": "-<b>$",
         "textfont": {
          "color": "tomato"
         },
         "textposition": "middle left",
         "type": "scatter",
         "x": [
          "PC"
         ],
         "xaxis": "x12",
         "y": [
          49.06790422799982
         ],
         "yaxis": "y12"
        },
        {
         "line": {
          "color": "grey",
          "dash": "dot",
          "width": 2
         },
         "mode": "lines",
         "showlegend": false,
         "type": "scatter",
         "x": [
          "PCC",
          "PCC"
         ],
         "xaxis": "x12",
         "y": [
          94.26067615,
          86.28189005694291
         ],
         "yaxis": "y12"
        },
        {
         "marker": {
          "color": "grey",
          "line": {
           "color": "black",
           "width": 1.5
          },
          "size": 10,
          "symbol": "square"
         },
         "mode": "markers+text",
         "showlegend": false,
         "text": "~<b>$",
         "textfont": {
          "color": "grey"
         },
         "textposition": "middle left",
         "type": "scatter",
         "x": [
          "PCC"
         ],
         "xaxis": "x12",
         "y": [
          86.28189005694291
         ],
         "yaxis": "y12"
        },
        {
         "line": {
          "color": "tomato",
          "dash": "dot",
          "width": 2
         },
         "mode": "lines",
         "showlegend": false,
         "type": "scatter",
         "x": [
          "AP",
          "AP"
         ],
         "xaxis": "x12",
         "y": [
          94.26067615,
          37.0166563589246
         ],
         "yaxis": "y12"
        },
        {
         "marker": {
          "color": "tomato",
          "line": {
           "color": "black",
           "width": 1.5
          },
          "size": 13,
          "symbol": "triangle-down"
         },
         "mode": "markers+text",
         "showlegend": false,
         "text": "-<b>$",
         "textfont": {
          "color": "tomato"
         },
         "textposition": "middle left",
         "type": "scatter",
         "x": [
          "AP"
         ],
         "xaxis": "x12",
         "y": [
          37.0166563589246
         ],
         "yaxis": "y12"
        },
        {
         "line": {
          "color": "tomato",
          "dash": "dot",
          "width": 2
         },
         "mode": "lines",
         "showlegend": false,
         "type": "scatter",
         "x": [
          "GDR",
          "GDR"
         ],
         "xaxis": "x12",
         "y": [
          94.26067615,
          -461.32712303036374
         ],
         "yaxis": "y12"
        },
        {
         "marker": {
          "color": "tomato",
          "line": {
           "color": "black",
           "width": 1.5
          },
          "size": 13,
          "symbol": "triangle-down"
         },
         "mode": "markers+text",
         "showlegend": false,
         "text": "-<b>$",
         "textfont": {
          "color": "tomato"
         },
         "textposition": "middle left",
         "type": "scatter",
         "x": [
          "GDR"
         ],
         "xaxis": "x12",
         "y": [
          -461.32712303036374
         ],
         "yaxis": "y12"
        },
        {
         "line": {
          "color": "tomato",
          "dash": "dot",
          "width": 2
         },
         "mode": "lines",
         "showlegend": false,
         "type": "scatter",
         "x": [
          "ECPC",
          "ECPC"
         ],
         "xaxis": "x12",
         "y": [
          94.26067615,
          -98.57279496707687
         ],
         "yaxis": "y12"
        },
        {
         "marker": {
          "color": "tomato",
          "line": {
           "color": "black",
           "width": 1.5
          },
          "size": 13,
          "symbol": "triangle-down"
         },
         "mode": "markers+text",
         "showlegend": false,
         "text": "-<b>$",
         "textfont": {
          "color": "tomato"
         },
         "textposition": "middle left",
         "type": "scatter",
         "x": [
          "ECPC"
         ],
         "xaxis": "x12",
         "y": [
          -98.57279496707687
         ],
         "yaxis": "y12"
        },
        {
         "hoverinfo": "skip",
         "line": {
          "color": "black",
          "width": 1
         },
         "mode": "lines",
         "name": "",
         "showlegend": false,
         "type": "scatter",
         "x": [
          "CO",
          "GF",
          "PC",
          "PCC",
          "AP",
          "GDR",
          "ECPC"
         ],
         "xaxis": "x13",
         "y": [
          -5.659065223089607,
          -5.659065223089607,
          -5.659065223089607,
          -5.659065223089607,
          -5.659065223089607,
          -5.659065223089607,
          -5.659065223089607
         ],
         "yaxis": "y13"
        },
        {
         "hoverinfo": "skip",
         "line": {
          "color": "silver",
          "width": 0
         },
         "mode": "lines",
         "name": "",
         "showlegend": false,
         "type": "scatter",
         "x": [
          "GF",
          "PC",
          "PCC",
          "AP",
          "GDR",
          "ECPC"
         ],
         "xaxis": "x13",
         "y": [
          -31.752505914615575,
          -31.752505914615575,
          -31.752505914615575,
          -31.752505914615575,
          -31.752505914615575,
          -31.752505914615575
         ],
         "yaxis": "y13"
        },
        {
         "fill": "tonexty",
         "hoverinfo": "skip",
         "line": {
          "color": "silver",
          "width": 0
         },
         "mode": "lines",
         "name": "",
         "showlegend": false,
         "type": "scatter",
         "x": [
          "GF",
          "PC",
          "PCC",
          "AP",
          "GDR",
          "ECPC"
         ],
         "xaxis": "x13",
         "y": [
          12.073680891666621,
          12.073680891666621,
          12.073680891666621,
          12.073680891666621,
          12.073680891666621,
          12.073680891666621
         ],
         "yaxis": "y13"
        },
        {
         "boxpoints": "all",
         "fillcolor": "rgb(40, 135, 161)",
         "hovertemplate": "%{text}",
         "jitter": 0.5,
         "line": {
          "color": "black",
          "width": 1.5
         },
         "marker": {
          "color": "grey",
          "size": 3
         },
         "name": "CO",
         "pointpos": -1.8,
         "showlegend": false,
         "text": [
          "BRA: -14.3<br>AIM/CGE 2.1|CD-LINKS_NPi2020_400",
          "BRA: -9.6<br>AIM/CGE 2.2|EN_NPi2020_300f",
          "BRA: -5.9<br>AIM/CGE 2.2|EN_NPi2020_400f",
          "BRA: -9.4<br>AIM/CGE 2.2|EN_NPi2020_500f",
          "BRA: -3.3<br>AIM/CGE 2.2|EN_NPi2020_600",
          "BRA: -44.7<br>AIM/CGE 2.2|EN_NPi2020_600f",
          "BRA: -42.6<br>AIM/Hub-Global 2.0|1.5C",
          "BRA: -36.2<br>C-ROADS-5.005|Ratchet-1.5-allCDR",
          "BRA: -44.5<br>C-ROADS-5.005|Ratchet-1.5-limCDR",
          "BRA: -42.2<br>C-ROADS-5.005|Ratchet-1.5-limCDR-noOS",
          "BRA: 12.5<br>C-ROADS-5.005|Ratchet-1.5-noCDR",
          "BRA: 1.9<br>C-ROADS-5.005|Ratchet-1.5-noCDR-noOS",
          "BRA: 10.8<br>COFFEE 1.1|EN_INDCi2030_400f",
          "BRA: -5.7<br>COFFEE 1.1|EN_INDCi2030_500f",
          "BRA: -2.3<br>COFFEE 1.1|EN_NPi2020_400",
          "BRA: 1.2<br>COFFEE 1.1|EN_NPi2020_400f",
          "BRA: 4.6<br>COFFEE 1.1|EN_NPi2020_500f",
          "BRA: 7.8<br>GCAM 4.2|SSP1-19",
          "BRA: 10.8<br>GCAM 5.3|NGFS2_Divergent Net Zero Policies",
          "BRA: -3.7<br>GCAM 5.3|NGFS2_Net-Zero 2050",
          "BRA: 9.1<br>GCAM 5.3|R_MAC_30_n0",
          "BRA: 35.5<br>GCAM 5.3|R_MAC_35_n8",
          "BRA: 38.0<br>GCAM 5.3|R_MAC_40_n8",
          "BRA: 40.9<br>GCAM 5.3|R_MAC_45_n8",
          "BRA: 42.2<br>GCAM 5.3|R_MAC_50_n8",
          "BRA: 42.1<br>GCAM 5.3|R_MAC_55_n8",
          "BRA: 14.5<br>GCAM 5.3|R_MAC_60_n8",
          "BRA: 15.9<br>GCAM 5.3|SSP_SSP3",
          "BRA: 17.5<br>GCAM 5.3|SSP_SSP4",
          "BRA: 19.5<br>GEM-E3_V2021|EN_INDCi2030_600f",
          "BRA: 17.4<br>GEM-E3_V2021|EN_INDCi2030_600f_COV",
          "BRA: 22.2<br>GEM-E3_V2021|EN_INDCi2030_600f_COV_NDCp",
          "BRA: 19.1<br>GEM-E3_V2021|EN_INDCi2030_600f_NDCp",
          "BRA: -16.4<br>GEM-E3_V2021|EN_INDCi2030_800f",
          "BRA: -8.2<br>GEM-E3_V2021|EN_NPi2020_400f",
          "BRA: -62.2<br>GEM-E3_V2021|EN_NPi2020_500",
          "BRA: -53.5<br>GEM-E3_V2021|EN_NPi2020_500f",
          "BRA: -58.5<br>GEM-E3_V2021|EN_NPi2020_600",
          "BRA: -5.1<br>GEM-E3_V2021|EN_NPi2020_600_COV",
          "BRA: -5.6<br>GEM-E3_V2021|EN_NPi2020_600f",
          "BRA: 14.8<br>GEM-E3_V2021|EN_NPi2020_600f_COV",
          "BRA: -33.8<br>IMAGE 3.0.1|ADVANCE_2020_1.5C-2100",
          "BRA: 17.8<br>IMAGE 3.0.1|CD-LINKS_NPi2020_400",
          "BRA: 3.2<br>IMAGE 3.2|SSP1_SPA1_19I_D",
          "BRA: -49.5<br>IMAGE 3.2|SSP1_SPA1_19I_D_LB",
          "BRA: -45.6<br>IMAGE 3.2|SSP1_SPA1_19I_LI",
          "BRA: 9.5<br>IMAGE 3.2|SSP1_SPA1_19I_LIRE",
          "BRA: nan<br>IMAGE 3.2|SSP1_SPA1_19I_LIRE_LB",
          "BRA: nan<br>IMAGE 3.2|SSP1_SPA1_19I_RE",
          "BRA: nan<br>IMAGE 3.2|SSP1_SPA1_19I_RE_LB",
          "BRA: nan<br>IMAGE 3.2|SSP2_SPA1_19I_D_LB",
          "BRA: nan<br>IMAGE 3.2|SSP2_SPA1_19I_LIRE_LB",
          "BRA: nan<br>IMAGE 3.2|SSP2_SPA1_19I_RE_LB",
          "BRA: nan<br>IMAGE 3.2|SSP2_SPA2_19I_D",
          "BRA: nan<br>IMAGE 3.2|SSP2_SPA2_19I_LI",
          "BRA: nan<br>IMAGE 3.2|SSP2_SPA2_19I_LIRE",
          "BRA: nan<br>IMAGE 3.2|SSP2_SPA2_19I_RE",
          "BRA: nan<br>MESSAGE-GLOBIOM 1.0|ADVANCE_2020_1.5C-2100",
          "BRA: nan<br>MESSAGE-GLOBIOM 1.0|ADVANCE_2030_Price1.5C",
          "BRA: nan<br>MESSAGE-GLOBIOM 1.0|EMF30_Slower-to-faster",
          "BRA: nan<br>MESSAGE-GLOBIOM 1.0|EMF33_1.5C_cost100",
          "BRA: nan<br>MESSAGE-GLOBIOM 1.0|EMF33_1.5C_full",
          "BRA: nan<br>MESSAGE-GLOBIOM 1.0|EMF33_WB2C_cost100",
          "BRA: nan<br>MESSAGE-GLOBIOM 1.0|EMF33_WB2C_full",
          "BRA: nan<br>MESSAGE-GLOBIOM 1.0|EMF33_WB2C_limbio",
          "BRA: nan<br>MESSAGE-GLOBIOM 1.0|EMF33_WB2C_nofuel",
          "BRA: nan<br>MESSAGE-GLOBIOM 1.0|SSP2-19",
          "BRA: nan<br>MESSAGEix-GLOBIOM 1.0|CD-LINKS_NDC2030i_1000",
          "BRA: nan<br>MESSAGEix-GLOBIOM 1.0|CD-LINKS_NPi2020_1000",
          "BRA: nan<br>MESSAGEix-GLOBIOM 1.0|CD-LINKS_NPi2020_400",
          "BRA: nan<br>MESSAGEix-GLOBIOM 1.0|LowEnergyDemand_1.3_IPCC",
          "BRA: nan<br>MESSAGEix-GLOBIOM_1.1|EN_NPi2020_200f",
          "BRA: nan<br>MESSAGEix-GLOBIOM_1.1|EN_NPi2020_300f",
          "BRA: nan<br>MESSAGEix-GLOBIOM_1.1|EN_NPi2020_400f",
          "BRA: nan<br>MESSAGEix-GLOBIOM_1.1|EN_NPi2020_450f",
          "BRA: nan<br>MESSAGEix-GLOBIOM_1.1|EN_NPi2020_450",
          "BRA: nan<br>MESSAGEix-GLOBIOM_1.1|EN_NPi2020_500f",
          "BRA: nan<br>MESSAGEix-GLOBIOM_1.1|EN_NPi2020_500",
          "BRA: nan<br>MESSAGEix-GLOBIOM_1.1|EN_NPi2020_600f_DR10p",
          "BRA: nan<br>MESSAGEix-GLOBIOM_1.1|EN_INDCi2030_600f_COV_NDCp",
          "BRA: nan<br>MESSAGEix-GLOBIOM_1.1|EN_INDCi2030_600f_COV",
          "BRA: nan<br>MESSAGEix-GLOBIOM_1.1|NGFS2_Divergent Net Zero Policies",
          "BRA: nan<br>MESSAGEix-GLOBIOM_1.1|EN_NPi2020_600f_COV",
          "BRA: nan<br>MESSAGEix-GLOBIOM_1.1|EN_NPi2020_600f",
          "BRA: nan<br>MESSAGEix-GLOBIOM_1.1|EN_NPi2020_600f_DR4p",
          "BRA: -40.7<br>MESSAGEix-GLOBIOM_1.1|NGFS2_Net-Zero 2050",
          "BRA: -30.0<br>MESSAGEix-GLOBIOM_1.1|EN_NPi2020_600_DR10p",
          "BRA: -18.5<br>MESSAGEix-GLOBIOM_1.1|EN_NPi2020_600f_DR3p",
          "BRA: -14.6<br>MESSAGEix-GLOBIOM_1.1|EN_NPi2020_600_COV",
          "BRA: -5.8<br>MESSAGEix-GLOBIOM_1.1|EN_NPi2020_600_DR4p",
          "BRA: nan<br>MESSAGEix-GLOBIOM_1.1|EN_NPi2020_600_DR3p",
          "BRA: nan<br>MESSAGEix-GLOBIOM_1.1|EN_NPi2020_600",
          "BRA: nan<br>MESSAGEix-GLOBIOM_1.1|EN_NPi2020_600_DR2p",
          "BRA: nan<br>MESSAGEix-GLOBIOM_1.1|EN_NPi2020_600_DR1p",
          "BRA: nan<br>MESSAGEix-GLOBIOM_1.1|EN_NPi2020_600f_DR2p",
          "BRA: nan<br>MESSAGEix-GLOBIOM_1.1|EN_NPi2020_600f_DR1p",
          "BRA: nan<br>MESSAGEix-GLOBIOM_1.1|EN_INDCi2030_700f_NDCp",
          "BRA: nan<br>MESSAGEix-GLOBIOM_1.1|EN_INDCi2030_700f",
          "BRA: nan<br>MESSAGEix-GLOBIOM_1.1|EN_INDCi2030_700f_COV",
          "BRA: nan<br>MESSAGEix-GLOBIOM_1.1|EN_INDCi2030_700f_COV_NDCp",
          "BRA: nan<br>MESSAGEix-GLOBIOM_1.1|EN_NPi2020_700f_COV",
          "BRA: nan<br>MESSAGEix-GLOBIOM_1.1|EN_NPi2020_700f",
          "BRA: nan<br>MESSAGEix-GLOBIOM_1.1|EN_NPi2020_700_COV",
          "BRA: nan<br>MESSAGEix-GLOBIOM_1.1|EN_NPi2020_700",
          "BRA: nan<br>MESSAGEix-GLOBIOM_1.2|COV_GreenPush_550",
          "BRA: nan<br>MESSAGEix-GLOBIOM_1.2|COV_NoPolicyNoCOVID_550",
          "BRA: nan<br>MESSAGEix-GLOBIOM_1.2|COV_Restore_550",
          "BRA: nan<br>MESSAGEix-GLOBIOM_1.2|COV_SelfReliance_550",
          "BRA: nan<br>MESSAGEix-GLOBIOM_1.2|COV_SmartUse_550",
          "BRA: nan<br>MESSAGEix-GLOBIOM_GEI 1.0|SSP2_int_mc_50",
          "BRA: nan<br>MESSAGEix-GLOBIOM_GEI 1.0|SSP2_noint_mc_50",
          "BRA: nan<br>MESSAGEix-GLOBIOM_GEI 1.0|SSP2_openres_lc_100",
          "BRA: nan<br>MESSAGEix-GLOBIOM_GEI 1.0|SSP2_openres_lc_120",
          "BRA: nan<br>MESSAGEix-GLOBIOM_GEI 1.0|SSP2_openres_lc_80",
          "BRA: nan<br>MESSAGEix-GLOBIOM_GEI 1.0|SSP2_openres_lc_CB400",
          "BRA: nan<br>MESSAGEix-GLOBIOM_GEI 1.0|SSP2_openres_lc_CB450",
          "BRA: nan<br>MESSAGEix-GLOBIOM_GEI 1.0|SSP2_openres_lc_CB500",
          "BRA: nan<br>MESSAGEix-GLOBIOM_GEI 1.0|SSP2_openres_lc_CB550",
          "BRA: nan<br>MESSAGEix-GLOBIOM_GEI 1.0|SSP2_openres_lc_CB600",
          "BRA: nan<br>MESSAGEix-GLOBIOM_GEI 1.0|SSP2_openres_mc_50",
          "BRA: nan<br>POLES ADVANCE|ADVANCE_2020_1.5C-2100",
          "BRA: nan<br>POLES ADVANCE|ADVANCE_2020_WB2C",
          "BRA: nan<br>POLES ADVANCE|ADVANCE_2030_1.5C-2100",
          "BRA: nan<br>POLES ADVANCE|ADVANCE_2030_Price1.5C",
          "BRA: nan<br>POLES ADVANCE|ADVANCE_2030_WB2C",
          "BRA: nan<br>POLES EMF30|EMF30_Slower-to-faster",
          "BRA: nan<br>POLES EMF33|EMF33_WB2C_cost100",
          "BRA: nan<br>POLES EMF33|EMF33_WB2C_full",
          "BRA: nan<br>POLES EMF33|EMF33_WB2C_nofuel",
          "BRA: nan<br>POLES ENGAGE|EN_INDCi2030_300f",
          "BRA: nan<br>POLES ENGAGE|EN_INDCi2030_400f",
          "BRA: nan<br>POLES ENGAGE|EN_NPi2020_300f",
          "BRA: nan<br>POLES ENGAGE|EN_NPi2020_400f",
          "BRA: nan<br>POLES GECO2019|CO_Bridge",
          "BRA: nan<br>REMIND 1.7|ADVANCE_2020_1.5C-2100",
          "BRA: nan<br>REMIND 1.7|ADVANCE_2020_WB2C",
          "BRA: nan<br>REMIND 1.7|ADVANCE_2030_1.5C-2100",
          "BRA: nan<br>REMIND 1.7|ADVANCE_2030_Price1.5C",
          "BRA: nan<br>REMIND 1.7|ADVANCE_2030_WB2C",
          "BRA: nan<br>REMIND 1.7|CEMICS-1.5-CDR12",
          "BRA: nan<br>REMIND 1.7|CEMICS-1.5-CDR20",
          "BRA: nan<br>REMIND 1.7|CEMICS-1.5-CDR8",
          "BRA: nan<br>REMIND 1.7|CEMICS-2.0-CDR12",
          "BRA: nan<br>REMIND 1.7|CEMICS-2.0-CDR20",
          "BRA: nan<br>REMIND 1.7|CEMICS-2.0-CDR8",
          "BRA: nan<br>REMIND 2.1|CEMICS_GDPgrowth_1p5",
          "BRA: nan<br>REMIND 2.1|CEMICS_HotellingConst_1p5",
          "BRA: nan<br>REMIND 2.1|CEMICS_Linear_1p5",
          "BRA: nan<br>REMIND 2.1|CEMICS_opt_1p5",
          "BRA: nan<br>REMIND 2.1|LeastTotalCost_LTC_brkLR15_SSP1_P50",
          "BRA: nan<br>REMIND 2.1|LeastTotalCost_LTC_brkSR15_SSP1_P50",
          "BRA: nan<br>REMIND 2.1|R2p1_SSP1-PkBudg1100",
          "BRA: nan<br>REMIND 2.1|R2p1_SSP1-PkBudg1300",
          "BRA: nan<br>REMIND 2.1|R2p1_SSP1-PkBudg900",
          "BRA: nan<br>REMIND 2.1|R2p1_SSP2-PkBudg900",
          "BRA: nan<br>REMIND 2.1|R2p1_SSP5-PkBudg1100",
          "BRA: nan<br>REMIND 2.1|R2p1_SSP5-PkBudg900",
          "BRA: nan<br>REMIND-Buildings 2.0|BEG-Budg600",
          "BRA: nan<br>REMIND-Buildings 2.0|BEG-Budg600-EG",
          "BRA: nan<br>REMIND-MAgPIE 1.5|SSP1-19",
          "BRA: -21.4<br>REMIND-MAgPIE 1.5|SSP2-19",
          "BRA: -31.9<br>REMIND-MAgPIE 1.5|SSP5-19",
          "BRA: -34.3<br>REMIND-MAgPIE 1.7-3.0|CD-LINKS_INDC2030i_1000",
          "BRA: -31.5<br>REMIND-MAgPIE 1.7-3.0|CD-LINKS_INDC2030i_400",
          "BRA: -33.4<br>REMIND-MAgPIE 1.7-3.0|CD-LINKS_NPi2020_1000",
          "BRA: -30.2<br>REMIND-MAgPIE 1.7-3.0|CD-LINKS_NPi2020_400"
         ],
         "type": "box",
         "whiskerwidth": 0.4,
         "xaxis": "x13",
         "y": [
          -14.305126600000001,
          -9.5874185,
          -5.922884300000001,
          -9.3534167,
          -3.3312855000000003,
          -44.745765409812094,
          -42.63649816475,
          -36.17186726804241,
          -44.489211230525754,
          -42.18583076532067,
          12.490486404010001,
          1.8678866437599988,
          10.823264354636482,
          -5.700756116612259,
          -2.2912848515049755,
          1.155835282777579,
          4.606629437898155,
          7.756217092384598,
          10.764265955948696,
          -3.692857112680602,
          9.087628101770179,
          35.507853231581024,
          38.024747585728704,
          40.89876657637908,
          42.20453580064926,
          42.074281060948394,
          14.548399748499099,
          15.94141303886163,
          17.495233812570657,
          19.515623354604774,
          17.392260446577783,
          22.2487154232177,
          19.132236634391017,
          -16.427463859558106,
          -8.157263059616087,
          -62.2066845703125,
          -53.48577307128906,
          -58.538261894226075,
          -5.127767402648928,
          -5.617374329566957,
          14.76539049911499,
          -33.75413633728028,
          17.759288124084474,
          3.238484103918074,
          -49.46647641086578,
          -45.584013244628906,
          9.468133079528808,
          null,
          null,
          null,
          null,
          null,
          null,
          null,
          null,
          null,
          null,
          null,
          null,
          null,
          null,
          null,
          null,
          null,
          null,
          null,
          null,
          null,
          null,
          null,
          null,
          null,
          null,
          null,
          null,
          null,
          null,
          null,
          null,
          null,
          null,
          null,
          null,
          null,
          null,
          -40.69100786972046,
          -29.983642267227175,
          -18.455410831451427,
          -14.613788318634034,
          -5.780505826950069,
          null,
          null,
          null,
          null,
          null,
          null,
          null,
          null,
          null,
          null,
          null,
          null,
          null,
          null,
          null,
          null,
          null,
          null,
          null,
          null,
          null,
          null,
          null,
          null,
          null,
          null,
          null,
          null,
          null,
          null,
          null,
          null,
          null,
          null,
          null,
          null,
          null,
          null,
          null,
          null,
          null,
          null,
          null,
          null,
          null,
          null,
          null,
          null,
          null,
          null,
          null,
          null,
          null,
          null,
          null,
          null,
          null,
          null,
          null,
          null,
          null,
          null,
          null,
          null,
          null,
          null,
          null,
          null,
          null,
          null,
          -21.381933208494804,
          -31.852132558626145,
          -34.265779146017145,
          -31.453625982583873,
          -33.353959288789135,
          -30.24656653113449
         ],
         "yaxis": "y13"
        },
        {
         "line": {
          "color": "forestgreen",
          "dash": "dot",
          "width": 2
         },
         "mode": "lines",
         "showlegend": false,
         "type": "scatter",
         "x": [
          "GF",
          "GF"
         ],
         "xaxis": "x13",
         "y": [
          -5.659065223089607,
          29.50152642633153
         ],
         "yaxis": "y13"
        },
        {
         "marker": {
          "color": "forestgreen",
          "line": {
           "color": "black",
           "width": 1.5
          },
          "size": 13,
          "symbol": "triangle-up"
         },
         "mode": "markers+text",
         "showlegend": false,
         "text": "+<b>$",
         "textfont": {
          "color": "forestgreen"
         },
         "textposition": "middle left",
         "type": "scatter",
         "x": [
          "GF"
         ],
         "xaxis": "x13",
         "y": [
          29.50152642633153
         ],
         "yaxis": "y13"
        },
        {
         "line": {
          "color": "forestgreen",
          "dash": "dot",
          "width": 2
         },
         "mode": "lines",
         "showlegend": false,
         "type": "scatter",
         "x": [
          "PC",
          "PC"
         ],
         "xaxis": "x13",
         "y": [
          -5.659065223089607,
          30.455488924650748
         ],
         "yaxis": "y13"
        },
        {
         "marker": {
          "color": "forestgreen",
          "line": {
           "color": "black",
           "width": 1.5
          },
          "size": 13,
          "symbol": "triangle-up"
         },
         "mode": "markers+text",
         "showlegend": false,
         "text": "+<b>$",
         "textfont": {
          "color": "forestgreen"
         },
         "textposition": "middle left",
         "type": "scatter",
         "x": [
          "PC"
         ],
         "xaxis": "x13",
         "y": [
          30.455488924650748
         ],
         "yaxis": "y13"
        },
        {
         "line": {
          "color": "forestgreen",
          "dash": "dot",
          "width": 2
         },
         "mode": "lines",
         "showlegend": false,
         "type": "scatter",
         "x": [
          "PCC",
          "PCC"
         ],
         "xaxis": "x13",
         "y": [
          -5.659065223089607,
          29.40387370038516
         ],
         "yaxis": "y13"
        },
        {
         "marker": {
          "color": "forestgreen",
          "line": {
           "color": "black",
           "width": 1.5
          },
          "size": 13,
          "symbol": "triangle-up"
         },
         "mode": "markers+text",
         "showlegend": false,
         "text": "+<b>$",
         "textfont": {
          "color": "forestgreen"
         },
         "textposition": "middle left",
         "type": "scatter",
         "x": [
          "PCC"
         ],
         "xaxis": "x13",
         "y": [
          29.40387370038516
         ],
         "yaxis": "y13"
        },
        {
         "line": {
          "color": "forestgreen",
          "dash": "dot",
          "width": 2
         },
         "mode": "lines",
         "showlegend": false,
         "type": "scatter",
         "x": [
          "AP",
          "AP"
         ],
         "xaxis": "x13",
         "y": [
          -5.659065223089607,
          40.28002306437589
         ],
         "yaxis": "y13"
        },
        {
         "marker": {
          "color": "forestgreen",
          "line": {
           "color": "black",
           "width": 1.5
          },
          "size": 13,
          "symbol": "triangle-up"
         },
         "mode": "markers+text",
         "showlegend": false,
         "text": "+<b>$",
         "textfont": {
          "color": "forestgreen"
         },
         "textposition": "middle left",
         "type": "scatter",
         "x": [
          "AP"
         ],
         "xaxis": "x13",
         "y": [
          40.28002306437589
         ],
         "yaxis": "y13"
        },
        {
         "line": {
          "color": "forestgreen",
          "dash": "dot",
          "width": 2
         },
         "mode": "lines",
         "showlegend": false,
         "type": "scatter",
         "x": [
          "GDR",
          "GDR"
         ],
         "xaxis": "x13",
         "y": [
          -5.659065223089607,
          46.017576781543795
         ],
         "yaxis": "y13"
        },
        {
         "marker": {
          "color": "forestgreen",
          "line": {
           "color": "black",
           "width": 1.5
          },
          "size": 13,
          "symbol": "triangle-up"
         },
         "mode": "markers+text",
         "showlegend": false,
         "text": "+<b>$",
         "textfont": {
          "color": "forestgreen"
         },
         "textposition": "middle left",
         "type": "scatter",
         "x": [
          "GDR"
         ],
         "xaxis": "x13",
         "y": [
          46.017576781543795
         ],
         "yaxis": "y13"
        },
        {
         "line": {
          "color": "forestgreen",
          "dash": "dot",
          "width": 2
         },
         "mode": "lines",
         "showlegend": false,
         "type": "scatter",
         "x": [
          "ECPC",
          "ECPC"
         ],
         "xaxis": "x13",
         "y": [
          -5.659065223089607,
          31.300444774682173
         ],
         "yaxis": "y13"
        },
        {
         "marker": {
          "color": "forestgreen",
          "line": {
           "color": "black",
           "width": 1.5
          },
          "size": 13,
          "symbol": "triangle-up"
         },
         "mode": "markers+text",
         "showlegend": false,
         "text": "+<b>$",
         "textfont": {
          "color": "forestgreen"
         },
         "textposition": "middle left",
         "type": "scatter",
         "x": [
          "ECPC"
         ],
         "xaxis": "x13",
         "y": [
          31.300444774682173
         ],
         "yaxis": "y13"
        },
        {
         "hoverinfo": "skip",
         "line": {
          "color": "black",
          "width": 1
         },
         "mode": "lines",
         "name": "",
         "showlegend": false,
         "type": "scatter",
         "x": [
          "CO",
          "GF",
          "PC",
          "PCC",
          "AP",
          "GDR",
          "ECPC"
         ],
         "xaxis": "x14",
         "y": [
          7.6877920398972375,
          7.6877920398972375,
          7.6877920398972375,
          7.6877920398972375,
          7.6877920398972375,
          7.6877920398972375,
          7.6877920398972375
         ],
         "yaxis": "y14"
        },
        {
         "hoverinfo": "skip",
         "line": {
          "color": "silver",
          "width": 0
         },
         "mode": "lines",
         "name": "",
         "showlegend": false,
         "type": "scatter",
         "x": [
          "GF",
          "PC",
          "PCC",
          "AP",
          "GDR",
          "ECPC"
         ],
         "xaxis": "x14",
         "y": [
          4.810064321080087,
          4.810064321080087,
          4.810064321080087,
          4.810064321080087,
          4.810064321080087,
          4.810064321080087
         ],
         "yaxis": "y14"
        },
        {
         "fill": "tonexty",
         "hoverinfo": "skip",
         "line": {
          "color": "silver",
          "width": 0
         },
         "mode": "lines",
         "name": "",
         "showlegend": false,
         "type": "scatter",
         "x": [
          "GF",
          "PC",
          "PCC",
          "AP",
          "GDR",
          "ECPC"
         ],
         "xaxis": "x14",
         "y": [
          11.427413566350937,
          11.427413566350937,
          11.427413566350937,
          11.427413566350937,
          11.427413566350937,
          11.427413566350937
         ],
         "yaxis": "y14"
        },
        {
         "boxpoints": "all",
         "fillcolor": "rgb(121, 167, 172)",
         "hovertemplate": "%{text}",
         "jitter": 0.5,
         "line": {
          "color": "black",
          "width": 1.5
         },
         "marker": {
          "color": "grey",
          "size": 3
         },
         "name": "CO",
         "pointpos": -1.8,
         "showlegend": false,
         "text": [
          "ZAF: nan<br>AIM/CGE 2.1|CD-LINKS_NPi2020_400",
          "ZAF: nan<br>AIM/CGE 2.2|EN_NPi2020_300f",
          "ZAF: nan<br>AIM/CGE 2.2|EN_NPi2020_400f",
          "ZAF: nan<br>AIM/CGE 2.2|EN_NPi2020_500f",
          "ZAF: nan<br>AIM/CGE 2.2|EN_NPi2020_600",
          "ZAF: -10.7<br>AIM/CGE 2.2|EN_NPi2020_600f",
          "ZAF: -10.4<br>AIM/Hub-Global 2.0|1.5C",
          "ZAF: -10.9<br>C-ROADS-5.005|Ratchet-1.5-allCDR",
          "ZAF: -10.7<br>C-ROADS-5.005|Ratchet-1.5-limCDR",
          "ZAF: -9.5<br>C-ROADS-5.005|Ratchet-1.5-limCDR-noOS",
          "ZAF: 6.5<br>C-ROADS-5.005|Ratchet-1.5-noCDR",
          "ZAF: 11.2<br>C-ROADS-5.005|Ratchet-1.5-noCDR-noOS",
          "ZAF: 13.6<br>COFFEE 1.1|EN_INDCi2030_400f",
          "ZAF: 10.8<br>COFFEE 1.1|EN_INDCi2030_500f",
          "ZAF: 11.9<br>COFFEE 1.1|EN_NPi2020_400",
          "ZAF: 13.0<br>COFFEE 1.1|EN_NPi2020_400f",
          "ZAF: 14.1<br>COFFEE 1.1|EN_NPi2020_500f",
          "ZAF: 15.1<br>GCAM 4.2|SSP1-19",
          "ZAF: 16.2<br>GCAM 5.3|NGFS2_Divergent Net Zero Policies",
          "ZAF: 17.7<br>GCAM 5.3|NGFS2_Net-Zero 2050",
          "ZAF: 17.2<br>GCAM 5.3|R_MAC_30_n0",
          "ZAF: 14.1<br>GCAM 5.3|R_MAC_35_n8",
          "ZAF: 12.8<br>GCAM 5.3|R_MAC_40_n8",
          "ZAF: 12.9<br>GCAM 5.3|R_MAC_45_n8",
          "ZAF: 14.3<br>GCAM 5.3|R_MAC_50_n8",
          "ZAF: 16.1<br>GCAM 5.3|R_MAC_55_n8",
          "ZAF: 8.4<br>GCAM 5.3|R_MAC_60_n8",
          "ZAF: 9.3<br>GCAM 5.3|SSP_SSP3",
          "ZAF: 9.6<br>GCAM 5.3|SSP_SSP4",
          "ZAF: 10.2<br>GEM-E3_V2021|EN_INDCi2030_600f",
          "ZAF: 9.6<br>GEM-E3_V2021|EN_INDCi2030_600f_COV",
          "ZAF: 10.6<br>GEM-E3_V2021|EN_INDCi2030_600f_COV_NDCp",
          "ZAF: 10.3<br>GEM-E3_V2021|EN_INDCi2030_600f_NDCp",
          "ZAF: 7.6<br>GEM-E3_V2021|EN_INDCi2030_800f",
          "ZAF: 5.3<br>GEM-E3_V2021|EN_NPi2020_400f",
          "ZAF: 2.8<br>GEM-E3_V2021|EN_NPi2020_500",
          "ZAF: -1.0<br>GEM-E3_V2021|EN_NPi2020_500f",
          "ZAF: 0.4<br>GEM-E3_V2021|EN_NPi2020_600",
          "ZAF: 7.7<br>GEM-E3_V2021|EN_NPi2020_600_COV",
          "ZAF: 4.7<br>GEM-E3_V2021|EN_NPi2020_600f",
          "ZAF: 7.2<br>GEM-E3_V2021|EN_NPi2020_600f_COV",
          "ZAF: 0.9<br>IMAGE 3.0.1|ADVANCE_2020_1.5C-2100",
          "ZAF: 6.4<br>IMAGE 3.0.1|CD-LINKS_NPi2020_400",
          "ZAF: 6.7<br>IMAGE 3.2|SSP1_SPA1_19I_D",
          "ZAF: 1.1<br>IMAGE 3.2|SSP1_SPA1_19I_D_LB",
          "ZAF: 2.3<br>IMAGE 3.2|SSP1_SPA1_19I_LI",
          "ZAF: 5.9<br>IMAGE 3.2|SSP1_SPA1_19I_LIRE",
          "ZAF: nan<br>IMAGE 3.2|SSP1_SPA1_19I_LIRE_LB",
          "ZAF: nan<br>IMAGE 3.2|SSP1_SPA1_19I_RE",
          "ZAF: nan<br>IMAGE 3.2|SSP1_SPA1_19I_RE_LB",
          "ZAF: nan<br>IMAGE 3.2|SSP2_SPA1_19I_D_LB",
          "ZAF: nan<br>IMAGE 3.2|SSP2_SPA1_19I_LIRE_LB",
          "ZAF: nan<br>IMAGE 3.2|SSP2_SPA1_19I_RE_LB",
          "ZAF: nan<br>IMAGE 3.2|SSP2_SPA2_19I_D",
          "ZAF: nan<br>IMAGE 3.2|SSP2_SPA2_19I_LI",
          "ZAF: nan<br>IMAGE 3.2|SSP2_SPA2_19I_LIRE",
          "ZAF: nan<br>IMAGE 3.2|SSP2_SPA2_19I_RE",
          "ZAF: nan<br>MESSAGE-GLOBIOM 1.0|ADVANCE_2020_1.5C-2100",
          "ZAF: nan<br>MESSAGE-GLOBIOM 1.0|ADVANCE_2030_Price1.5C",
          "ZAF: nan<br>MESSAGE-GLOBIOM 1.0|EMF30_Slower-to-faster",
          "ZAF: nan<br>MESSAGE-GLOBIOM 1.0|EMF33_1.5C_cost100",
          "ZAF: nan<br>MESSAGE-GLOBIOM 1.0|EMF33_1.5C_full",
          "ZAF: nan<br>MESSAGE-GLOBIOM 1.0|EMF33_WB2C_cost100",
          "ZAF: nan<br>MESSAGE-GLOBIOM 1.0|EMF33_WB2C_full",
          "ZAF: nan<br>MESSAGE-GLOBIOM 1.0|EMF33_WB2C_limbio",
          "ZAF: nan<br>MESSAGE-GLOBIOM 1.0|EMF33_WB2C_nofuel",
          "ZAF: nan<br>MESSAGE-GLOBIOM 1.0|SSP2-19",
          "ZAF: nan<br>MESSAGEix-GLOBIOM 1.0|CD-LINKS_NDC2030i_1000",
          "ZAF: nan<br>MESSAGEix-GLOBIOM 1.0|CD-LINKS_NPi2020_1000",
          "ZAF: nan<br>MESSAGEix-GLOBIOM 1.0|CD-LINKS_NPi2020_400",
          "ZAF: nan<br>MESSAGEix-GLOBIOM 1.0|LowEnergyDemand_1.3_IPCC",
          "ZAF: nan<br>MESSAGEix-GLOBIOM_1.1|EN_NPi2020_200f",
          "ZAF: nan<br>MESSAGEix-GLOBIOM_1.1|EN_NPi2020_300f",
          "ZAF: nan<br>MESSAGEix-GLOBIOM_1.1|EN_NPi2020_400f",
          "ZAF: nan<br>MESSAGEix-GLOBIOM_1.1|EN_NPi2020_450f",
          "ZAF: nan<br>MESSAGEix-GLOBIOM_1.1|EN_NPi2020_450",
          "ZAF: nan<br>MESSAGEix-GLOBIOM_1.1|EN_NPi2020_500f",
          "ZAF: nan<br>MESSAGEix-GLOBIOM_1.1|EN_NPi2020_500",
          "ZAF: nan<br>MESSAGEix-GLOBIOM_1.1|EN_NPi2020_600f_DR10p",
          "ZAF: nan<br>MESSAGEix-GLOBIOM_1.1|EN_INDCi2030_600f_COV_NDCp",
          "ZAF: nan<br>MESSAGEix-GLOBIOM_1.1|EN_INDCi2030_600f_COV",
          "ZAF: nan<br>MESSAGEix-GLOBIOM_1.1|NGFS2_Divergent Net Zero Policies",
          "ZAF: nan<br>MESSAGEix-GLOBIOM_1.1|EN_NPi2020_600f_COV",
          "ZAF: nan<br>MESSAGEix-GLOBIOM_1.1|EN_NPi2020_600f",
          "ZAF: nan<br>MESSAGEix-GLOBIOM_1.1|EN_NPi2020_600f_DR4p",
          "ZAF: 10.1<br>MESSAGEix-GLOBIOM_1.1|NGFS2_Net-Zero 2050",
          "ZAF: 11.4<br>MESSAGEix-GLOBIOM_1.1|EN_NPi2020_600_DR10p",
          "ZAF: 10.9<br>MESSAGEix-GLOBIOM_1.1|EN_NPi2020_600f_DR3p",
          "ZAF: 11.4<br>MESSAGEix-GLOBIOM_1.1|EN_NPi2020_600_COV",
          "ZAF: 4.7<br>MESSAGEix-GLOBIOM_1.1|EN_NPi2020_600_DR4p",
          "ZAF: nan<br>MESSAGEix-GLOBIOM_1.1|EN_NPi2020_600_DR3p",
          "ZAF: nan<br>MESSAGEix-GLOBIOM_1.1|EN_NPi2020_600",
          "ZAF: nan<br>MESSAGEix-GLOBIOM_1.1|EN_NPi2020_600_DR2p",
          "ZAF: nan<br>MESSAGEix-GLOBIOM_1.1|EN_NPi2020_600_DR1p",
          "ZAF: nan<br>MESSAGEix-GLOBIOM_1.1|EN_NPi2020_600f_DR2p",
          "ZAF: nan<br>MESSAGEix-GLOBIOM_1.1|EN_NPi2020_600f_DR1p",
          "ZAF: nan<br>MESSAGEix-GLOBIOM_1.1|EN_INDCi2030_700f_NDCp",
          "ZAF: nan<br>MESSAGEix-GLOBIOM_1.1|EN_INDCi2030_700f",
          "ZAF: nan<br>MESSAGEix-GLOBIOM_1.1|EN_INDCi2030_700f_COV",
          "ZAF: nan<br>MESSAGEix-GLOBIOM_1.1|EN_INDCi2030_700f_COV_NDCp",
          "ZAF: nan<br>MESSAGEix-GLOBIOM_1.1|EN_NPi2020_700f_COV",
          "ZAF: nan<br>MESSAGEix-GLOBIOM_1.1|EN_NPi2020_700f",
          "ZAF: nan<br>MESSAGEix-GLOBIOM_1.1|EN_NPi2020_700_COV",
          "ZAF: nan<br>MESSAGEix-GLOBIOM_1.1|EN_NPi2020_700",
          "ZAF: nan<br>MESSAGEix-GLOBIOM_1.2|COV_GreenPush_550",
          "ZAF: nan<br>MESSAGEix-GLOBIOM_1.2|COV_NoPolicyNoCOVID_550",
          "ZAF: nan<br>MESSAGEix-GLOBIOM_1.2|COV_Restore_550",
          "ZAF: nan<br>MESSAGEix-GLOBIOM_1.2|COV_SelfReliance_550",
          "ZAF: nan<br>MESSAGEix-GLOBIOM_1.2|COV_SmartUse_550",
          "ZAF: nan<br>MESSAGEix-GLOBIOM_GEI 1.0|SSP2_int_mc_50",
          "ZAF: nan<br>MESSAGEix-GLOBIOM_GEI 1.0|SSP2_noint_mc_50",
          "ZAF: nan<br>MESSAGEix-GLOBIOM_GEI 1.0|SSP2_openres_lc_100",
          "ZAF: nan<br>MESSAGEix-GLOBIOM_GEI 1.0|SSP2_openres_lc_120",
          "ZAF: nan<br>MESSAGEix-GLOBIOM_GEI 1.0|SSP2_openres_lc_80",
          "ZAF: nan<br>MESSAGEix-GLOBIOM_GEI 1.0|SSP2_openres_lc_CB400",
          "ZAF: nan<br>MESSAGEix-GLOBIOM_GEI 1.0|SSP2_openres_lc_CB450",
          "ZAF: nan<br>MESSAGEix-GLOBIOM_GEI 1.0|SSP2_openres_lc_CB500",
          "ZAF: nan<br>MESSAGEix-GLOBIOM_GEI 1.0|SSP2_openres_lc_CB550",
          "ZAF: nan<br>MESSAGEix-GLOBIOM_GEI 1.0|SSP2_openres_lc_CB600",
          "ZAF: nan<br>MESSAGEix-GLOBIOM_GEI 1.0|SSP2_openres_mc_50",
          "ZAF: nan<br>POLES ADVANCE|ADVANCE_2020_1.5C-2100",
          "ZAF: nan<br>POLES ADVANCE|ADVANCE_2020_WB2C",
          "ZAF: nan<br>POLES ADVANCE|ADVANCE_2030_1.5C-2100",
          "ZAF: nan<br>POLES ADVANCE|ADVANCE_2030_Price1.5C",
          "ZAF: nan<br>POLES ADVANCE|ADVANCE_2030_WB2C",
          "ZAF: nan<br>POLES EMF30|EMF30_Slower-to-faster",
          "ZAF: nan<br>POLES EMF33|EMF33_WB2C_cost100",
          "ZAF: nan<br>POLES EMF33|EMF33_WB2C_full",
          "ZAF: nan<br>POLES EMF33|EMF33_WB2C_nofuel",
          "ZAF: nan<br>POLES ENGAGE|EN_INDCi2030_300f",
          "ZAF: nan<br>POLES ENGAGE|EN_INDCi2030_400f",
          "ZAF: nan<br>POLES ENGAGE|EN_NPi2020_300f",
          "ZAF: nan<br>POLES ENGAGE|EN_NPi2020_400f",
          "ZAF: nan<br>POLES GECO2019|CO_Bridge",
          "ZAF: nan<br>REMIND 1.7|ADVANCE_2020_1.5C-2100",
          "ZAF: nan<br>REMIND 1.7|ADVANCE_2020_WB2C",
          "ZAF: nan<br>REMIND 1.7|ADVANCE_2030_1.5C-2100",
          "ZAF: nan<br>REMIND 1.7|ADVANCE_2030_Price1.5C",
          "ZAF: nan<br>REMIND 1.7|ADVANCE_2030_WB2C",
          "ZAF: nan<br>REMIND 1.7|CEMICS-1.5-CDR12",
          "ZAF: nan<br>REMIND 1.7|CEMICS-1.5-CDR20",
          "ZAF: nan<br>REMIND 1.7|CEMICS-1.5-CDR8",
          "ZAF: nan<br>REMIND 1.7|CEMICS-2.0-CDR12",
          "ZAF: nan<br>REMIND 1.7|CEMICS-2.0-CDR20",
          "ZAF: nan<br>REMIND 1.7|CEMICS-2.0-CDR8",
          "ZAF: nan<br>REMIND 2.1|CEMICS_GDPgrowth_1p5",
          "ZAF: nan<br>REMIND 2.1|CEMICS_HotellingConst_1p5",
          "ZAF: nan<br>REMIND 2.1|CEMICS_Linear_1p5",
          "ZAF: nan<br>REMIND 2.1|CEMICS_opt_1p5",
          "ZAF: nan<br>REMIND 2.1|LeastTotalCost_LTC_brkLR15_SSP1_P50",
          "ZAF: nan<br>REMIND 2.1|LeastTotalCost_LTC_brkSR15_SSP1_P50",
          "ZAF: nan<br>REMIND 2.1|R2p1_SSP1-PkBudg1100",
          "ZAF: nan<br>REMIND 2.1|R2p1_SSP1-PkBudg1300",
          "ZAF: nan<br>REMIND 2.1|R2p1_SSP1-PkBudg900",
          "ZAF: nan<br>REMIND 2.1|R2p1_SSP2-PkBudg900",
          "ZAF: nan<br>REMIND 2.1|R2p1_SSP5-PkBudg1100",
          "ZAF: nan<br>REMIND 2.1|R2p1_SSP5-PkBudg900",
          "ZAF: nan<br>REMIND-Buildings 2.0|BEG-Budg600",
          "ZAF: nan<br>REMIND-Buildings 2.0|BEG-Budg600-EG",
          "ZAF: nan<br>REMIND-MAgPIE 1.5|SSP1-19",
          "ZAF: 7.7<br>REMIND-MAgPIE 1.5|SSP2-19",
          "ZAF: 4.8<br>REMIND-MAgPIE 1.5|SSP5-19",
          "ZAF: 5.9<br>REMIND-MAgPIE 1.7-3.0|CD-LINKS_INDC2030i_1000",
          "ZAF: 5.2<br>REMIND-MAgPIE 1.7-3.0|CD-LINKS_INDC2030i_400",
          "ZAF: 6.3<br>REMIND-MAgPIE 1.7-3.0|CD-LINKS_NPi2020_1000",
          "ZAF: 5.4<br>REMIND-MAgPIE 1.7-3.0|CD-LINKS_NPi2020_400"
         ],
         "type": "box",
         "whiskerwidth": 0.4,
         "xaxis": "x14",
         "y": [
          null,
          null,
          null,
          null,
          null,
          -10.677361145833855,
          -10.432221738087241,
          -10.901296976558509,
          -10.735292154786336,
          -9.546333993895084,
          6.518711655585,
          11.163293539149999,
          13.615848498274602,
          10.835780353969351,
          11.94501761599481,
          13.04256998784019,
          14.104339302906892,
          15.149655561100944,
          16.161174582874672,
          17.650712699004075,
          17.161213716249136,
          14.099889210382658,
          12.837963098183819,
          12.948937087947005,
          14.266154570212995,
          16.069732861043892,
          8.42092407897442,
          9.276103468100635,
          9.606425324508946,
          10.157965060750762,
          9.587891023183799,
          10.638876886962596,
          10.254548728935577,
          7.559852043151856,
          5.313572155952453,
          2.814459889888764,
          -0.9731747894287107,
          0.4022103854268793,
          7.653697342872619,
          4.682868377685547,
          7.203824867248535,
          0.8871761717796325,
          6.359538246154785,
          6.690234681129455,
          1.1043766279220584,
          2.2958820514678955,
          5.934966062545777,
          null,
          null,
          null,
          null,
          null,
          null,
          null,
          null,
          null,
          null,
          null,
          null,
          null,
          null,
          null,
          null,
          null,
          null,
          null,
          null,
          null,
          null,
          null,
          null,
          null,
          null,
          null,
          null,
          null,
          null,
          null,
          null,
          null,
          null,
          null,
          null,
          null,
          null,
          10.07205082511902,
          11.427413566350937,
          10.862749831199647,
          11.352840123593808,
          4.67576639175415,
          null,
          null,
          null,
          null,
          null,
          null,
          null,
          null,
          null,
          null,
          null,
          null,
          null,
          null,
          null,
          null,
          null,
          null,
          null,
          null,
          null,
          null,
          null,
          null,
          null,
          null,
          null,
          null,
          null,
          null,
          null,
          null,
          null,
          null,
          null,
          null,
          null,
          null,
          null,
          null,
          null,
          null,
          null,
          null,
          null,
          null,
          null,
          null,
          null,
          null,
          null,
          null,
          null,
          null,
          null,
          null,
          null,
          null,
          null,
          null,
          null,
          null,
          null,
          null,
          null,
          null,
          null,
          null,
          null,
          null,
          7.6877920398972375,
          4.810064321080087,
          5.8839629054820755,
          5.154281451008413,
          6.349651937098058,
          5.446649062485832
         ],
         "yaxis": "y14"
        },
        {
         "line": {
          "color": "forestgreen",
          "dash": "dot",
          "width": 2
         },
         "mode": "lines",
         "showlegend": false,
         "type": "scatter",
         "x": [
          "GF",
          "GF"
         ],
         "xaxis": "x14",
         "y": [
          7.6877920398972375,
          15.00797701540185
         ],
         "yaxis": "y14"
        },
        {
         "marker": {
          "color": "forestgreen",
          "line": {
           "color": "black",
           "width": 1.5
          },
          "size": 13,
          "symbol": "triangle-up"
         },
         "mode": "markers+text",
         "showlegend": false,
         "text": "+<b>$",
         "textfont": {
          "color": "forestgreen"
         },
         "textposition": "middle left",
         "type": "scatter",
         "x": [
          "GF"
         ],
         "xaxis": "x14",
         "y": [
          15.00797701540185
         ],
         "yaxis": "y14"
        },
        {
         "line": {
          "color": "grey",
          "dash": "dot",
          "width": 2
         },
         "mode": "lines",
         "showlegend": false,
         "type": "scatter",
         "x": [
          "PC",
          "PC"
         ],
         "xaxis": "x14",
         "y": [
          7.6877920398972375,
          9.155694629953679
         ],
         "yaxis": "y14"
        },
        {
         "marker": {
          "color": "grey",
          "line": {
           "color": "black",
           "width": 1.5
          },
          "size": 10,
          "symbol": "square"
         },
         "mode": "markers+text",
         "showlegend": false,
         "text": "~<b>$",
         "textfont": {
          "color": "grey"
         },
         "textposition": "middle left",
         "type": "scatter",
         "x": [
          "PC"
         ],
         "xaxis": "x14",
         "y": [
          9.155694629953679
         ],
         "yaxis": "y14"
        },
        {
         "line": {
          "color": "grey",
          "dash": "dot",
          "width": 2
         },
         "mode": "lines",
         "showlegend": false,
         "type": "scatter",
         "x": [
          "PCC",
          "PCC"
         ],
         "xaxis": "x14",
         "y": [
          7.6877920398972375,
          11.234795158476725
         ],
         "yaxis": "y14"
        },
        {
         "marker": {
          "color": "grey",
          "line": {
           "color": "black",
           "width": 1.5
          },
          "size": 10,
          "symbol": "square"
         },
         "mode": "markers+text",
         "showlegend": false,
         "text": "~<b>$",
         "textfont": {
          "color": "grey"
         },
         "textposition": "middle left",
         "type": "scatter",
         "x": [
          "PCC"
         ],
         "xaxis": "x14",
         "y": [
          11.234795158476725
         ],
         "yaxis": "y14"
        },
        {
         "line": {
          "color": "forestgreen",
          "dash": "dot",
          "width": 2
         },
         "mode": "lines",
         "showlegend": false,
         "type": "scatter",
         "x": [
          "AP",
          "AP"
         ],
         "xaxis": "x14",
         "y": [
          7.6877920398972375,
          14.045470383071795
         ],
         "yaxis": "y14"
        },
        {
         "marker": {
          "color": "forestgreen",
          "line": {
           "color": "black",
           "width": 1.5
          },
          "size": 13,
          "symbol": "triangle-up"
         },
         "mode": "markers+text",
         "showlegend": false,
         "text": "+<b>$",
         "textfont": {
          "color": "forestgreen"
         },
         "textposition": "middle left",
         "type": "scatter",
         "x": [
          "AP"
         ],
         "xaxis": "x14",
         "y": [
          14.045470383071795
         ],
         "yaxis": "y14"
        },
        {
         "line": {
          "color": "forestgreen",
          "dash": "dot",
          "width": 2
         },
         "mode": "lines",
         "showlegend": false,
         "type": "scatter",
         "x": [
          "GDR",
          "GDR"
         ],
         "xaxis": "x14",
         "y": [
          7.6877920398972375,
          13.957999359746932
         ],
         "yaxis": "y14"
        },
        {
         "marker": {
          "color": "forestgreen",
          "line": {
           "color": "black",
           "width": 1.5
          },
          "size": 13,
          "symbol": "triangle-up"
         },
         "mode": "markers+text",
         "showlegend": false,
         "text": "+<b>$",
         "textfont": {
          "color": "forestgreen"
         },
         "textposition": "middle left",
         "type": "scatter",
         "x": [
          "GDR"
         ],
         "xaxis": "x14",
         "y": [
          13.957999359746932
         ],
         "yaxis": "y14"
        },
        {
         "line": {
          "color": "tomato",
          "dash": "dot",
          "width": 2
         },
         "mode": "lines",
         "showlegend": false,
         "type": "scatter",
         "x": [
          "ECPC",
          "ECPC"
         ],
         "xaxis": "x14",
         "y": [
          7.6877920398972375,
          1.0121971730986168
         ],
         "yaxis": "y14"
        },
        {
         "marker": {
          "color": "tomato",
          "line": {
           "color": "black",
           "width": 1.5
          },
          "size": 13,
          "symbol": "triangle-down"
         },
         "mode": "markers+text",
         "showlegend": false,
         "text": "-<b>$",
         "textfont": {
          "color": "tomato"
         },
         "textposition": "middle left",
         "type": "scatter",
         "x": [
          "ECPC"
         ],
         "xaxis": "x14",
         "y": [
          1.0121971730986168
         ],
         "yaxis": "y14"
        },
        {
         "hoverinfo": "skip",
         "line": {
          "color": "black",
          "width": 1
         },
         "mode": "lines",
         "name": "",
         "showlegend": false,
         "type": "scatter",
         "x": [
          "CO",
          "GF",
          "PC",
          "PCC",
          "AP",
          "GDR",
          "ECPC"
         ],
         "xaxis": "x3",
         "y": [
          71.51654595,
          71.51654595,
          71.51654595,
          71.51654595,
          71.51654595,
          71.51654595,
          71.51654595
         ],
         "yaxis": "y3"
        },
        {
         "hoverinfo": "skip",
         "line": {
          "color": "silver",
          "width": 0
         },
         "mode": "lines",
         "name": "",
         "showlegend": false,
         "type": "scatter",
         "x": [
          "GF",
          "PC",
          "PCC",
          "AP",
          "GDR",
          "ECPC"
         ],
         "xaxis": "x3",
         "y": [
          56.976802732690274,
          56.976802732690274,
          56.976802732690274,
          56.976802732690274,
          56.976802732690274,
          56.976802732690274
         ],
         "yaxis": "y3"
        },
        {
         "fill": "tonexty",
         "hoverinfo": "skip",
         "line": {
          "color": "silver",
          "width": 0
         },
         "mode": "lines",
         "name": "",
         "showlegend": false,
         "type": "scatter",
         "x": [
          "GF",
          "PC",
          "PCC",
          "AP",
          "GDR",
          "ECPC"
         ],
         "xaxis": "x3",
         "y": [
          100.84836012693773,
          100.84836012693773,
          100.84836012693773,
          100.84836012693773,
          100.84836012693773,
          100.84836012693773
         ],
         "yaxis": "y3"
        },
        {
         "boxpoints": "all",
         "fillcolor": "rgb(189, 146, 90)",
         "hovertemplate": "%{text}",
         "jitter": 0.5,
         "line": {
          "color": "black",
          "width": 1.5
         },
         "marker": {
          "color": "grey",
          "size": 3
         },
         "name": "CO",
         "pointpos": -1.8,
         "showlegend": false,
         "text": [
          "EU: 96.2<br>AIM/CGE 2.1|CD-LINKS_NPi2020_400",
          "EU: 106.7<br>AIM/CGE 2.2|EN_NPi2020_300f",
          "EU: 117.5<br>AIM/CGE 2.2|EN_NPi2020_400f",
          "EU: 133.5<br>AIM/CGE 2.2|EN_NPi2020_500f",
          "EU: 127.4<br>AIM/CGE 2.2|EN_NPi2020_600",
          "EU: nan<br>AIM/CGE 2.2|EN_NPi2020_600f",
          "EU: nan<br>AIM/Hub-Global 2.0|1.5C",
          "EU: nan<br>C-ROADS-5.005|Ratchet-1.5-allCDR",
          "EU: nan<br>C-ROADS-5.005|Ratchet-1.5-limCDR",
          "EU: nan<br>C-ROADS-5.005|Ratchet-1.5-limCDR-noOS",
          "EU: 50.2<br>C-ROADS-5.005|Ratchet-1.5-noCDR",
          "EU: 67.6<br>C-ROADS-5.005|Ratchet-1.5-noCDR-noOS",
          "EU: 59.7<br>COFFEE 1.1|EN_INDCi2030_400f",
          "EU: 8.0<br>COFFEE 1.1|EN_INDCi2030_500f",
          "EU: 22.3<br>COFFEE 1.1|EN_NPi2020_400",
          "EU: 34.2<br>COFFEE 1.1|EN_NPi2020_400f",
          "EU: 45.4<br>COFFEE 1.1|EN_NPi2020_500f",
          "EU: 57.4<br>GCAM 4.2|SSP1-19",
          "EU: 69.5<br>GCAM 5.3|NGFS2_Divergent Net Zero Policies",
          "EU: 84.4<br>GCAM 5.3|NGFS2_Net-Zero 2050",
          "EU: 57.3<br>GCAM 5.3|R_MAC_30_n0",
          "EU: 107.5<br>GCAM 5.3|R_MAC_35_n8",
          "EU: 107.6<br>GCAM 5.3|R_MAC_40_n8",
          "EU: 100.8<br>GCAM 5.3|R_MAC_45_n8",
          "EU: 100.9<br>GCAM 5.3|R_MAC_50_n8",
          "EU: 122.1<br>GCAM 5.3|R_MAC_55_n8",
          "EU: 103.9<br>GCAM 5.3|R_MAC_60_n8",
          "EU: 105.3<br>GCAM 5.3|SSP_SSP3",
          "EU: 112.6<br>GCAM 5.3|SSP_SSP4",
          "EU: 110.1<br>GEM-E3_V2021|EN_INDCi2030_600f",
          "EU: 109.1<br>GEM-E3_V2021|EN_INDCi2030_600f_COV",
          "EU: 120.6<br>GEM-E3_V2021|EN_INDCi2030_600f_COV_NDCp",
          "EU: 116.9<br>GEM-E3_V2021|EN_INDCi2030_600f_NDCp",
          "EU: 68.7<br>GEM-E3_V2021|EN_INDCi2030_800f",
          "EU: 79.2<br>GEM-E3_V2021|EN_NPi2020_400f",
          "EU: 41.5<br>GEM-E3_V2021|EN_NPi2020_500",
          "EU: 52.8<br>GEM-E3_V2021|EN_NPi2020_500f",
          "EU: 45.7<br>GEM-E3_V2021|EN_NPi2020_600",
          "EU: 65.1<br>GEM-E3_V2021|EN_NPi2020_600_COV",
          "EU: 76.4<br>GEM-E3_V2021|EN_NPi2020_600f",
          "EU: 112.7<br>GEM-E3_V2021|EN_NPi2020_600f_COV",
          "EU: 61.4<br>IMAGE 3.0.1|ADVANCE_2020_1.5C-2100",
          "EU: 105.1<br>IMAGE 3.0.1|CD-LINKS_NPi2020_400",
          "EU: 89.9<br>IMAGE 3.2|SSP1_SPA1_19I_D",
          "EU: 64.7<br>IMAGE 3.2|SSP1_SPA1_19I_D_LB",
          "EU: 54.5<br>IMAGE 3.2|SSP1_SPA1_19I_LI",
          "EU: 65.9<br>IMAGE 3.2|SSP1_SPA1_19I_LIRE",
          "EU: nan<br>IMAGE 3.2|SSP1_SPA1_19I_LIRE_LB",
          "EU: nan<br>IMAGE 3.2|SSP1_SPA1_19I_RE",
          "EU: nan<br>IMAGE 3.2|SSP1_SPA1_19I_RE_LB",
          "EU: nan<br>IMAGE 3.2|SSP2_SPA1_19I_D_LB",
          "EU: nan<br>IMAGE 3.2|SSP2_SPA1_19I_LIRE_LB",
          "EU: nan<br>IMAGE 3.2|SSP2_SPA1_19I_RE_LB",
          "EU: nan<br>IMAGE 3.2|SSP2_SPA2_19I_D",
          "EU: nan<br>IMAGE 3.2|SSP2_SPA2_19I_LI",
          "EU: nan<br>IMAGE 3.2|SSP2_SPA2_19I_LIRE",
          "EU: nan<br>IMAGE 3.2|SSP2_SPA2_19I_RE",
          "EU: nan<br>MESSAGE-GLOBIOM 1.0|ADVANCE_2020_1.5C-2100",
          "EU: nan<br>MESSAGE-GLOBIOM 1.0|ADVANCE_2030_Price1.5C",
          "EU: nan<br>MESSAGE-GLOBIOM 1.0|EMF30_Slower-to-faster",
          "EU: nan<br>MESSAGE-GLOBIOM 1.0|EMF33_1.5C_cost100",
          "EU: nan<br>MESSAGE-GLOBIOM 1.0|EMF33_1.5C_full",
          "EU: nan<br>MESSAGE-GLOBIOM 1.0|EMF33_WB2C_cost100",
          "EU: nan<br>MESSAGE-GLOBIOM 1.0|EMF33_WB2C_full",
          "EU: nan<br>MESSAGE-GLOBIOM 1.0|EMF33_WB2C_limbio",
          "EU: nan<br>MESSAGE-GLOBIOM 1.0|EMF33_WB2C_nofuel",
          "EU: nan<br>MESSAGE-GLOBIOM 1.0|SSP2-19",
          "EU: nan<br>MESSAGEix-GLOBIOM 1.0|CD-LINKS_NDC2030i_1000",
          "EU: nan<br>MESSAGEix-GLOBIOM 1.0|CD-LINKS_NPi2020_1000",
          "EU: nan<br>MESSAGEix-GLOBIOM 1.0|CD-LINKS_NPi2020_400",
          "EU: nan<br>MESSAGEix-GLOBIOM 1.0|LowEnergyDemand_1.3_IPCC",
          "EU: nan<br>MESSAGEix-GLOBIOM_1.1|EN_NPi2020_200f",
          "EU: nan<br>MESSAGEix-GLOBIOM_1.1|EN_NPi2020_300f",
          "EU: nan<br>MESSAGEix-GLOBIOM_1.1|EN_NPi2020_400f",
          "EU: nan<br>MESSAGEix-GLOBIOM_1.1|EN_NPi2020_450f",
          "EU: nan<br>MESSAGEix-GLOBIOM_1.1|EN_NPi2020_450",
          "EU: nan<br>MESSAGEix-GLOBIOM_1.1|EN_NPi2020_500f",
          "EU: nan<br>MESSAGEix-GLOBIOM_1.1|EN_NPi2020_500",
          "EU: nan<br>MESSAGEix-GLOBIOM_1.1|EN_NPi2020_600f_DR10p",
          "EU: nan<br>MESSAGEix-GLOBIOM_1.1|EN_INDCi2030_600f_COV_NDCp",
          "EU: nan<br>MESSAGEix-GLOBIOM_1.1|EN_INDCi2030_600f_COV",
          "EU: nan<br>MESSAGEix-GLOBIOM_1.1|NGFS2_Divergent Net Zero Policies",
          "EU: nan<br>MESSAGEix-GLOBIOM_1.1|EN_NPi2020_600f_COV",
          "EU: nan<br>MESSAGEix-GLOBIOM_1.1|EN_NPi2020_600f",
          "EU: nan<br>MESSAGEix-GLOBIOM_1.1|EN_NPi2020_600f_DR4p",
          "EU: 24.4<br>MESSAGEix-GLOBIOM_1.1|NGFS2_Net-Zero 2050",
          "EU: 33.0<br>MESSAGEix-GLOBIOM_1.1|EN_NPi2020_600_DR10p",
          "EU: 36.8<br>MESSAGEix-GLOBIOM_1.1|EN_NPi2020_600f_DR3p",
          "EU: 41.7<br>MESSAGEix-GLOBIOM_1.1|EN_NPi2020_600_COV",
          "EU: 0.9<br>MESSAGEix-GLOBIOM_1.1|EN_NPi2020_600_DR4p",
          "EU: 85.5<br>MESSAGEix-GLOBIOM_1.1|EN_NPi2020_600_DR3p",
          "EU: 49.1<br>MESSAGEix-GLOBIOM_1.1|EN_NPi2020_600",
          "EU: 50.6<br>MESSAGEix-GLOBIOM_1.1|EN_NPi2020_600_DR2p",
          "EU: 74.4<br>MESSAGEix-GLOBIOM_1.1|EN_NPi2020_600_DR1p",
          "EU: 76.7<br>MESSAGEix-GLOBIOM_1.1|EN_NPi2020_600f_DR2p",
          "EU: 98.9<br>MESSAGEix-GLOBIOM_1.1|EN_NPi2020_600f_DR1p",
          "EU: 70.4<br>MESSAGEix-GLOBIOM_1.1|EN_INDCi2030_700f_NDCp",
          "EU: 84.6<br>MESSAGEix-GLOBIOM_1.1|EN_INDCi2030_700f",
          "EU: 55.9<br>MESSAGEix-GLOBIOM_1.1|EN_INDCi2030_700f_COV",
          "EU: 42.8<br>MESSAGEix-GLOBIOM_1.1|EN_INDCi2030_700f_COV_NDCp",
          "EU: 84.7<br>MESSAGEix-GLOBIOM_1.1|EN_NPi2020_700f_COV",
          "EU: 72.3<br>MESSAGEix-GLOBIOM_1.1|EN_NPi2020_700f",
          "EU: 79.3<br>MESSAGEix-GLOBIOM_1.1|EN_NPi2020_700_COV",
          "EU: 78.4<br>MESSAGEix-GLOBIOM_1.1|EN_NPi2020_700",
          "EU: 110.5<br>MESSAGEix-GLOBIOM_1.2|COV_GreenPush_550",
          "EU: 76.9<br>MESSAGEix-GLOBIOM_1.2|COV_NoPolicyNoCOVID_550",
          "EU: 122.5<br>MESSAGEix-GLOBIOM_1.2|COV_Restore_550",
          "EU: 86.6<br>MESSAGEix-GLOBIOM_1.2|COV_SelfReliance_550",
          "EU: 122.8<br>MESSAGEix-GLOBIOM_1.2|COV_SmartUse_550",
          "EU: 107.8<br>MESSAGEix-GLOBIOM_GEI 1.0|SSP2_int_mc_50",
          "EU: 110.8<br>MESSAGEix-GLOBIOM_GEI 1.0|SSP2_noint_mc_50",
          "EU: nan<br>MESSAGEix-GLOBIOM_GEI 1.0|SSP2_openres_lc_100",
          "EU: nan<br>MESSAGEix-GLOBIOM_GEI 1.0|SSP2_openres_lc_120",
          "EU: nan<br>MESSAGEix-GLOBIOM_GEI 1.0|SSP2_openres_lc_80",
          "EU: 75.8<br>MESSAGEix-GLOBIOM_GEI 1.0|SSP2_openres_lc_CB400",
          "EU: 84.6<br>MESSAGEix-GLOBIOM_GEI 1.0|SSP2_openres_lc_CB450",
          "EU: 80.8<br>MESSAGEix-GLOBIOM_GEI 1.0|SSP2_openres_lc_CB500",
          "EU: 80.5<br>MESSAGEix-GLOBIOM_GEI 1.0|SSP2_openres_lc_CB550",
          "EU: 73.7<br>MESSAGEix-GLOBIOM_GEI 1.0|SSP2_openres_lc_CB600",
          "EU: 107.8<br>MESSAGEix-GLOBIOM_GEI 1.0|SSP2_openres_mc_50",
          "EU: 122.8<br>POLES ADVANCE|ADVANCE_2020_1.5C-2100",
          "EU: 114.5<br>POLES ADVANCE|ADVANCE_2020_WB2C",
          "EU: 111.6<br>POLES ADVANCE|ADVANCE_2030_1.5C-2100",
          "EU: 101.9<br>POLES ADVANCE|ADVANCE_2030_Price1.5C",
          "EU: 118.6<br>POLES ADVANCE|ADVANCE_2030_WB2C",
          "EU: 108.7<br>POLES EMF30|EMF30_Slower-to-faster",
          "EU: 109.3<br>POLES EMF33|EMF33_WB2C_cost100",
          "EU: 68.9<br>POLES EMF33|EMF33_WB2C_full",
          "EU: 74.0<br>POLES EMF33|EMF33_WB2C_nofuel",
          "EU: 71.4<br>POLES ENGAGE|EN_INDCi2030_300f",
          "EU: 80.2<br>POLES ENGAGE|EN_INDCi2030_400f",
          "EU: 65.9<br>POLES ENGAGE|EN_NPi2020_300f",
          "EU: 67.7<br>POLES ENGAGE|EN_NPi2020_400f",
          "EU: 71.0<br>POLES GECO2019|CO_Bridge",
          "EU: 73.1<br>REMIND 1.7|ADVANCE_2020_1.5C-2100",
          "EU: 58.3<br>REMIND 1.7|ADVANCE_2020_WB2C",
          "EU: 76.0<br>REMIND 1.7|ADVANCE_2030_1.5C-2100",
          "EU: 68.7<br>REMIND 1.7|ADVANCE_2030_Price1.5C",
          "EU: 55.0<br>REMIND 1.7|ADVANCE_2030_WB2C",
          "EU: 64.5<br>REMIND 1.7|CEMICS-1.5-CDR12",
          "EU: 58.2<br>REMIND 1.7|CEMICS-1.5-CDR20",
          "EU: 61.4<br>REMIND 1.7|CEMICS-1.5-CDR8",
          "EU: 62.5<br>REMIND 1.7|CEMICS-2.0-CDR12",
          "EU: 67.3<br>REMIND 1.7|CEMICS-2.0-CDR20",
          "EU: 69.1<br>REMIND 1.7|CEMICS-2.0-CDR8",
          "EU: 71.6<br>REMIND 2.1|CEMICS_GDPgrowth_1p5",
          "EU: 76.4<br>REMIND 2.1|CEMICS_HotellingConst_1p5",
          "EU: 77.2<br>REMIND 2.1|CEMICS_Linear_1p5",
          "EU: 75.5<br>REMIND 2.1|CEMICS_opt_1p5",
          "EU: 70.5<br>REMIND 2.1|LeastTotalCost_LTC_brkLR15_SSP1_P50",
          "EU: 65.2<br>REMIND 2.1|LeastTotalCost_LTC_brkSR15_SSP1_P50",
          "EU: 40.0<br>REMIND 2.1|R2p1_SSP1-PkBudg1100",
          "EU: 37.6<br>REMIND 2.1|R2p1_SSP1-PkBudg1300",
          "EU: 37.9<br>REMIND 2.1|R2p1_SSP1-PkBudg900",
          "EU: 58.9<br>REMIND 2.1|R2p1_SSP2-PkBudg900",
          "EU: 58.5<br>REMIND 2.1|R2p1_SSP5-PkBudg1100",
          "EU: 43.8<br>REMIND 2.1|R2p1_SSP5-PkBudg900",
          "EU: 67.0<br>REMIND-Buildings 2.0|BEG-Budg600",
          "EU: 61.4<br>REMIND-Buildings 2.0|BEG-Budg600-EG",
          "EU: 44.4<br>REMIND-MAgPIE 1.5|SSP1-19",
          "EU: 45.0<br>REMIND-MAgPIE 1.5|SSP2-19",
          "EU: 44.7<br>REMIND-MAgPIE 1.5|SSP5-19",
          "EU: 47.5<br>REMIND-MAgPIE 1.7-3.0|CD-LINKS_INDC2030i_1000",
          "EU: 50.5<br>REMIND-MAgPIE 1.7-3.0|CD-LINKS_INDC2030i_400",
          "EU: 50.2<br>REMIND-MAgPIE 1.7-3.0|CD-LINKS_NPi2020_1000",
          "EU: 56.1<br>REMIND-MAgPIE 1.7-3.0|CD-LINKS_NPi2020_400"
         ],
         "type": "box",
         "whiskerwidth": 0.4,
         "xaxis": "x3",
         "y": [
          96.20847569999998,
          106.74114449999999,
          117.50067679999998,
          133.529355,
          127.4264513,
          null,
          null,
          null,
          null,
          null,
          50.18312498916501,
          67.58895876583499,
          59.66333120087377,
          8.023105149273002,
          22.305429537817087,
          34.20519813388227,
          45.427484436879,
          57.37055154044633,
          69.46589239189267,
          84.39023901584713,
          57.252727055642715,
          107.52301799361354,
          107.64059955459973,
          100.82444742845652,
          100.92009822238137,
          122.09336014931651,
          103.92721176718852,
          105.31083041911307,
          112.62607773355145,
          110.08771011548505,
          109.10699305422432,
          120.60335839718213,
          116.89549860031825,
          68.6647002248764,
          79.21026579749584,
          41.54864834976196,
          52.82212434387207,
          45.70518877887726,
          65.09731218528748,
          76.4138111357689,
          112.65100985336304,
          61.40274552154541,
          105.07008146572113,
          89.91019162368774,
          64.70550921273231,
          54.54499431967736,
          65.94177814483642,
          null,
          null,
          null,
          null,
          null,
          null,
          null,
          null,
          null,
          null,
          null,
          null,
          null,
          null,
          null,
          null,
          null,
          null,
          null,
          null,
          null,
          null,
          null,
          null,
          null,
          null,
          null,
          null,
          null,
          null,
          null,
          null,
          null,
          null,
          null,
          null,
          null,
          null,
          24.42692831420899,
          32.95851217651367,
          36.80879550361633,
          41.73983197784424,
          0.9127008056640643,
          85.48062844999998,
          49.14944235000001,
          50.6018141,
          74.37499439999998,
          76.65779134999998,
          98.91159205000001,
          70.4353838,
          84.6390026,
          55.88673059999999,
          42.758964299999995,
          84.73727489999999,
          72.2599333,
          79.31076275,
          78.44505849999999,
          110.49911195,
          76.89658949999999,
          122.46867195000003,
          86.6289122,
          122.8262425,
          107.81840929999998,
          110.79031275000001,
          null,
          null,
          null,
          75.78927030000001,
          84.58605800000001,
          80.7661773,
          80.49839250000001,
          73.68068034999999,
          107.81840929999998,
          122.8262425,
          114.45770354999999,
          111.56788605,
          101.89268034999999,
          118.64575504999999,
          108.7433693,
          109.31326485,
          68.94910619999999,
          73.96800350000001,
          71.40832644999999,
          80.1824233,
          65.89717794999999,
          67.7258404,
          70.9731105,
          73.0719026,
          58.2674192,
          75.95034769999998,
          68.6581953,
          55.0274132,
          64.4567383,
          58.22085375,
          61.3506115,
          62.54370035000001,
          67.27429285000001,
          69.08277085,
          71.62476545000001,
          76.35965395,
          77.23393445000002,
          75.51219130000001,
          70.45203715000001,
          65.18947705,
          40.00186725,
          37.616267099999995,
          37.86769245,
          58.875893250000004,
          58.54855144999999,
          43.765111250000004,
          66.99234175000001,
          61.376173249999994,
          44.35368500000001,
          44.999232249524724,
          44.66945383065297,
          47.53821111992653,
          50.48693605355043,
          50.19312357008068,
          56.149029763832964
         ],
         "yaxis": "y3"
        },
        {
         "line": {
          "color": "grey",
          "dash": "dot",
          "width": 2
         },
         "mode": "lines",
         "showlegend": false,
         "type": "scatter",
         "x": [
          "GF",
          "GF"
         ],
         "xaxis": "x3",
         "y": [
          71.51654595,
          93.35563574696383
         ],
         "yaxis": "y3"
        },
        {
         "marker": {
          "color": "grey",
          "line": {
           "color": "black",
           "width": 1.5
          },
          "size": 10,
          "symbol": "square"
         },
         "mode": "markers+text",
         "showlegend": false,
         "text": "~<b>$",
         "textfont": {
          "color": "grey"
         },
         "textposition": "middle left",
         "type": "scatter",
         "x": [
          "GF"
         ],
         "xaxis": "x3",
         "y": [
          93.35563574696383
         ],
         "yaxis": "y3"
        },
        {
         "line": {
          "color": "grey",
          "dash": "dot",
          "width": 2
         },
         "mode": "lines",
         "showlegend": false,
         "type": "scatter",
         "x": [
          "PC",
          "PC"
         ],
         "xaxis": "x3",
         "y": [
          71.51654595,
          59.247865043141246
         ],
         "yaxis": "y3"
        },
        {
         "marker": {
          "color": "grey",
          "line": {
           "color": "black",
           "width": 1.5
          },
          "size": 10,
          "symbol": "square"
         },
         "mode": "markers+text",
         "showlegend": false,
         "text": "~<b>$",
         "textfont": {
          "color": "grey"
         },
         "textposition": "middle left",
         "type": "scatter",
         "x": [
          "PC"
         ],
         "xaxis": "x3",
         "y": [
          59.247865043141246
         ],
         "yaxis": "y3"
        },
        {
         "line": {
          "color": "grey",
          "dash": "dot",
          "width": 2
         },
         "mode": "lines",
         "showlegend": false,
         "type": "scatter",
         "x": [
          "PCC",
          "PCC"
         ],
         "xaxis": "x3",
         "y": [
          71.51654595,
          68.88923420424528
         ],
         "yaxis": "y3"
        },
        {
         "marker": {
          "color": "grey",
          "line": {
           "color": "black",
           "width": 1.5
          },
          "size": 10,
          "symbol": "square"
         },
         "mode": "markers+text",
         "showlegend": false,
         "text": "~<b>$",
         "textfont": {
          "color": "grey"
         },
         "textposition": "middle left",
         "type": "scatter",
         "x": [
          "PCC"
         ],
         "xaxis": "x3",
         "y": [
          68.88923420424528
         ],
         "yaxis": "y3"
        },
        {
         "line": {
          "color": "tomato",
          "dash": "dot",
          "width": 2
         },
         "mode": "lines",
         "showlegend": false,
         "type": "scatter",
         "x": [
          "AP",
          "AP"
         ],
         "xaxis": "x3",
         "y": [
          71.51654595,
          31.742420485386518
         ],
         "yaxis": "y3"
        },
        {
         "marker": {
          "color": "tomato",
          "line": {
           "color": "black",
           "width": 1.5
          },
          "size": 13,
          "symbol": "triangle-down"
         },
         "mode": "markers+text",
         "showlegend": false,
         "text": "-<b>$",
         "textfont": {
          "color": "tomato"
         },
         "textposition": "middle left",
         "type": "scatter",
         "x": [
          "AP"
         ],
         "xaxis": "x3",
         "y": [
          31.742420485386518
         ],
         "yaxis": "y3"
        },
        {
         "line": {
          "color": "tomato",
          "dash": "dot",
          "width": 2
         },
         "mode": "lines",
         "showlegend": false,
         "type": "scatter",
         "x": [
          "GDR",
          "GDR"
         ],
         "xaxis": "x3",
         "y": [
          71.51654595,
          -155.4225012799461
         ],
         "yaxis": "y3"
        },
        {
         "marker": {
          "color": "tomato",
          "line": {
           "color": "black",
           "width": 1.5
          },
          "size": 13,
          "symbol": "triangle-down"
         },
         "mode": "markers+text",
         "showlegend": false,
         "text": "-<b>$",
         "textfont": {
          "color": "tomato"
         },
         "textposition": "middle left",
         "type": "scatter",
         "x": [
          "GDR"
         ],
         "xaxis": "x3",
         "y": [
          -155.4225012799461
         ],
         "yaxis": "y3"
        },
        {
         "line": {
          "color": "tomato",
          "dash": "dot",
          "width": 2
         },
         "mode": "lines",
         "showlegend": false,
         "type": "scatter",
         "x": [
          "ECPC",
          "ECPC"
         ],
         "xaxis": "x3",
         "y": [
          71.51654595,
          -1.8367120106846713
         ],
         "yaxis": "y3"
        },
        {
         "marker": {
          "color": "tomato",
          "line": {
           "color": "black",
           "width": 1.5
          },
          "size": 13,
          "symbol": "triangle-down"
         },
         "mode": "markers+text",
         "showlegend": false,
         "text": "-<b>$",
         "textfont": {
          "color": "tomato"
         },
         "textposition": "middle left",
         "type": "scatter",
         "x": [
          "ECPC"
         ],
         "xaxis": "x3",
         "y": [
          -1.8367120106846713
         ],
         "yaxis": "y3"
        },
        {
         "hoverinfo": "skip",
         "line": {
          "color": "black",
          "width": 1
         },
         "mode": "lines",
         "name": "",
         "showlegend": false,
         "type": "scatter",
         "x": [
          "CO",
          "GF",
          "PC",
          "PCC",
          "AP",
          "GDR",
          "ECPC"
         ],
         "xaxis": "x7",
         "y": [
          34.99164050000001,
          34.99164050000001,
          34.99164050000001,
          34.99164050000001,
          34.99164050000001,
          34.99164050000001,
          34.99164050000001
         ],
         "yaxis": "y7"
        },
        {
         "hoverinfo": "skip",
         "line": {
          "color": "silver",
          "width": 0
         },
         "mode": "lines",
         "name": "",
         "showlegend": false,
         "type": "scatter",
         "x": [
          "GF",
          "PC",
          "PCC",
          "AP",
          "GDR",
          "ECPC"
         ],
         "xaxis": "x7",
         "y": [
          1.4824427296243552,
          1.4824427296243552,
          1.4824427296243552,
          1.4824427296243552,
          1.4824427296243552,
          1.4824427296243552
         ],
         "yaxis": "y7"
        },
        {
         "fill": "tonexty",
         "hoverinfo": "skip",
         "line": {
          "color": "silver",
          "width": 0
         },
         "mode": "lines",
         "name": "",
         "showlegend": false,
         "type": "scatter",
         "x": [
          "GF",
          "PC",
          "PCC",
          "AP",
          "GDR",
          "ECPC"
         ],
         "xaxis": "x7",
         "y": [
          60.615623106816855,
          60.615623106816855,
          60.615623106816855,
          60.615623106816855,
          60.615623106816855,
          60.615623106816855
         ],
         "yaxis": "y7"
        },
        {
         "boxpoints": "all",
         "fillcolor": "rgb(237, 234, 194)",
         "hovertemplate": "%{text}",
         "jitter": 0.5,
         "line": {
          "color": "black",
          "width": 1.5
         },
         "marker": {
          "color": "grey",
          "size": 3
         },
         "name": "CO",
         "pointpos": -1.8,
         "showlegend": false,
         "text": [
          "RUS: 21.1<br>AIM/CGE 2.1|CD-LINKS_NPi2020_400",
          "RUS: 28.9<br>AIM/CGE 2.2|EN_NPi2020_300f",
          "RUS: 36.2<br>AIM/CGE 2.2|EN_NPi2020_400f",
          "RUS: 36.4<br>AIM/CGE 2.2|EN_NPi2020_500f",
          "RUS: 44.1<br>AIM/CGE 2.2|EN_NPi2020_600",
          "RUS: -7.5<br>AIM/CGE 2.2|EN_NPi2020_600f",
          "RUS: -0.1<br>AIM/Hub-Global 2.0|1.5C",
          "RUS: -5.8<br>C-ROADS-5.005|Ratchet-1.5-allCDR",
          "RUS: -6.9<br>C-ROADS-5.005|Ratchet-1.5-limCDR",
          "RUS: -3.1<br>C-ROADS-5.005|Ratchet-1.5-limCDR-noOS",
          "RUS: 10.3<br>C-ROADS-5.005|Ratchet-1.5-noCDR",
          "RUS: 17.4<br>C-ROADS-5.005|Ratchet-1.5-noCDR-noOS",
          "RUS: -4.2<br>COFFEE 1.1|EN_INDCi2030_400f",
          "RUS: -27.0<br>COFFEE 1.1|EN_INDCi2030_500f",
          "RUS: -20.4<br>COFFEE 1.1|EN_NPi2020_400",
          "RUS: -12.9<br>COFFEE 1.1|EN_NPi2020_400f",
          "RUS: -5.6<br>COFFEE 1.1|EN_NPi2020_500f",
          "RUS: 1.2<br>GCAM 4.2|SSP1-19",
          "RUS: 7.5<br>GCAM 5.3|NGFS2_Divergent Net Zero Policies",
          "RUS: -26.9<br>GCAM 5.3|NGFS2_Net-Zero 2050",
          "RUS: 0.3<br>GCAM 5.3|R_MAC_30_n0",
          "RUS: 9.9<br>GCAM 5.3|R_MAC_35_n8",
          "RUS: 11.2<br>GCAM 5.3|R_MAC_40_n8",
          "RUS: 12.1<br>GCAM 5.3|R_MAC_45_n8",
          "RUS: 10.8<br>GCAM 5.3|R_MAC_50_n8",
          "RUS: 24.6<br>GCAM 5.3|R_MAC_55_n8",
          "RUS: 1.8<br>GCAM 5.3|R_MAC_60_n8",
          "RUS: 13.3<br>GCAM 5.3|SSP_SSP3",
          "RUS: 8.4<br>GCAM 5.3|SSP_SSP4",
          "RUS: 16.7<br>GEM-E3_V2021|EN_INDCi2030_600f",
          "RUS: 21.2<br>GEM-E3_V2021|EN_INDCi2030_600f_COV",
          "RUS: 15.1<br>GEM-E3_V2021|EN_INDCi2030_600f_COV_NDCp",
          "RUS: 14.2<br>GEM-E3_V2021|EN_INDCi2030_600f_NDCp",
          "RUS: 59.0<br>GEM-E3_V2021|EN_INDCi2030_800f",
          "RUS: 53.7<br>GEM-E3_V2021|EN_NPi2020_400f",
          "RUS: 47.7<br>GEM-E3_V2021|EN_NPi2020_500",
          "RUS: 49.5<br>GEM-E3_V2021|EN_NPi2020_500f",
          "RUS: 40.4<br>GEM-E3_V2021|EN_NPi2020_600",
          "RUS: 56.8<br>GEM-E3_V2021|EN_NPi2020_600_COV",
          "RUS: 51.8<br>GEM-E3_V2021|EN_NPi2020_600f",
          "RUS: 65.9<br>GEM-E3_V2021|EN_NPi2020_600f_COV",
          "RUS: 53.0<br>IMAGE 3.0.1|ADVANCE_2020_1.5C-2100",
          "RUS: 63.8<br>IMAGE 3.0.1|CD-LINKS_NPi2020_400",
          "RUS: 77.1<br>IMAGE 3.2|SSP1_SPA1_19I_D",
          "RUS: 49.8<br>IMAGE 3.2|SSP1_SPA1_19I_D_LB",
          "RUS: 59.1<br>IMAGE 3.2|SSP1_SPA1_19I_LI",
          "RUS: 76.7<br>IMAGE 3.2|SSP1_SPA1_19I_LIRE",
          "RUS: nan<br>IMAGE 3.2|SSP1_SPA1_19I_LIRE_LB",
          "RUS: nan<br>IMAGE 3.2|SSP1_SPA1_19I_RE",
          "RUS: nan<br>IMAGE 3.2|SSP1_SPA1_19I_RE_LB",
          "RUS: nan<br>IMAGE 3.2|SSP2_SPA1_19I_D_LB",
          "RUS: nan<br>IMAGE 3.2|SSP2_SPA1_19I_LIRE_LB",
          "RUS: nan<br>IMAGE 3.2|SSP2_SPA1_19I_RE_LB",
          "RUS: nan<br>IMAGE 3.2|SSP2_SPA2_19I_D",
          "RUS: nan<br>IMAGE 3.2|SSP2_SPA2_19I_LI",
          "RUS: nan<br>IMAGE 3.2|SSP2_SPA2_19I_LIRE",
          "RUS: nan<br>IMAGE 3.2|SSP2_SPA2_19I_RE",
          "RUS: nan<br>MESSAGE-GLOBIOM 1.0|ADVANCE_2020_1.5C-2100",
          "RUS: nan<br>MESSAGE-GLOBIOM 1.0|ADVANCE_2030_Price1.5C",
          "RUS: nan<br>MESSAGE-GLOBIOM 1.0|EMF30_Slower-to-faster",
          "RUS: nan<br>MESSAGE-GLOBIOM 1.0|EMF33_1.5C_cost100",
          "RUS: nan<br>MESSAGE-GLOBIOM 1.0|EMF33_1.5C_full",
          "RUS: nan<br>MESSAGE-GLOBIOM 1.0|EMF33_WB2C_cost100",
          "RUS: nan<br>MESSAGE-GLOBIOM 1.0|EMF33_WB2C_full",
          "RUS: nan<br>MESSAGE-GLOBIOM 1.0|EMF33_WB2C_limbio",
          "RUS: nan<br>MESSAGE-GLOBIOM 1.0|EMF33_WB2C_nofuel",
          "RUS: nan<br>MESSAGE-GLOBIOM 1.0|SSP2-19",
          "RUS: nan<br>MESSAGEix-GLOBIOM 1.0|CD-LINKS_NDC2030i_1000",
          "RUS: nan<br>MESSAGEix-GLOBIOM 1.0|CD-LINKS_NPi2020_1000",
          "RUS: nan<br>MESSAGEix-GLOBIOM 1.0|CD-LINKS_NPi2020_400",
          "RUS: nan<br>MESSAGEix-GLOBIOM 1.0|LowEnergyDemand_1.3_IPCC",
          "RUS: nan<br>MESSAGEix-GLOBIOM_1.1|EN_NPi2020_200f",
          "RUS: nan<br>MESSAGEix-GLOBIOM_1.1|EN_NPi2020_300f",
          "RUS: nan<br>MESSAGEix-GLOBIOM_1.1|EN_NPi2020_400f",
          "RUS: nan<br>MESSAGEix-GLOBIOM_1.1|EN_NPi2020_450f",
          "RUS: nan<br>MESSAGEix-GLOBIOM_1.1|EN_NPi2020_450",
          "RUS: nan<br>MESSAGEix-GLOBIOM_1.1|EN_NPi2020_500f",
          "RUS: nan<br>MESSAGEix-GLOBIOM_1.1|EN_NPi2020_500",
          "RUS: nan<br>MESSAGEix-GLOBIOM_1.1|EN_NPi2020_600f_DR10p",
          "RUS: nan<br>MESSAGEix-GLOBIOM_1.1|EN_INDCi2030_600f_COV_NDCp",
          "RUS: nan<br>MESSAGEix-GLOBIOM_1.1|EN_INDCi2030_600f_COV",
          "RUS: nan<br>MESSAGEix-GLOBIOM_1.1|NGFS2_Divergent Net Zero Policies",
          "RUS: nan<br>MESSAGEix-GLOBIOM_1.1|EN_NPi2020_600f_COV",
          "RUS: nan<br>MESSAGEix-GLOBIOM_1.1|EN_NPi2020_600f",
          "RUS: nan<br>MESSAGEix-GLOBIOM_1.1|EN_NPi2020_600f_DR4p",
          "RUS: -19.8<br>MESSAGEix-GLOBIOM_1.1|NGFS2_Net-Zero 2050",
          "RUS: -18.1<br>MESSAGEix-GLOBIOM_1.1|EN_NPi2020_600_DR10p",
          "RUS: -29.6<br>MESSAGEix-GLOBIOM_1.1|EN_NPi2020_600f_DR3p",
          "RUS: -27.5<br>MESSAGEix-GLOBIOM_1.1|EN_NPi2020_600_COV",
          "RUS: -16.7<br>MESSAGEix-GLOBIOM_1.1|EN_NPi2020_600_DR4p",
          "RUS: -59.5<br>MESSAGEix-GLOBIOM_1.1|EN_NPi2020_600_DR3p",
          "RUS: -132.4<br>MESSAGEix-GLOBIOM_1.1|EN_NPi2020_600",
          "RUS: -101.3<br>MESSAGEix-GLOBIOM_1.1|EN_NPi2020_600_DR2p",
          "RUS: 36.7<br>MESSAGEix-GLOBIOM_1.1|EN_NPi2020_600_DR1p",
          "RUS: 33.9<br>MESSAGEix-GLOBIOM_1.1|EN_NPi2020_600f_DR2p",
          "RUS: 71.5<br>MESSAGEix-GLOBIOM_1.1|EN_NPi2020_600f_DR1p",
          "RUS: 55.2<br>MESSAGEix-GLOBIOM_1.1|EN_INDCi2030_700f_NDCp",
          "RUS: 75.9<br>MESSAGEix-GLOBIOM_1.1|EN_INDCi2030_700f",
          "RUS: 24.9<br>MESSAGEix-GLOBIOM_1.1|EN_INDCi2030_700f_COV",
          "RUS: 32.1<br>MESSAGEix-GLOBIOM_1.1|EN_INDCi2030_700f_COV_NDCp",
          "RUS: 49.2<br>MESSAGEix-GLOBIOM_1.1|EN_NPi2020_700f_COV",
          "RUS: -95.8<br>MESSAGEix-GLOBIOM_1.1|EN_NPi2020_700f",
          "RUS: -15.0<br>MESSAGEix-GLOBIOM_1.1|EN_NPi2020_700_COV",
          "RUS: -12.8<br>MESSAGEix-GLOBIOM_1.1|EN_NPi2020_700",
          "RUS: 112.2<br>MESSAGEix-GLOBIOM_1.2|COV_GreenPush_550",
          "RUS: 66.8<br>MESSAGEix-GLOBIOM_1.2|COV_NoPolicyNoCOVID_550",
          "RUS: 101.5<br>MESSAGEix-GLOBIOM_1.2|COV_Restore_550",
          "RUS: 82.3<br>MESSAGEix-GLOBIOM_1.2|COV_SelfReliance_550",
          "RUS: 103.0<br>MESSAGEix-GLOBIOM_1.2|COV_SmartUse_550",
          "RUS: 112.3<br>MESSAGEix-GLOBIOM_GEI 1.0|SSP2_int_mc_50",
          "RUS: 99.0<br>MESSAGEix-GLOBIOM_GEI 1.0|SSP2_noint_mc_50",
          "RUS: nan<br>MESSAGEix-GLOBIOM_GEI 1.0|SSP2_openres_lc_100",
          "RUS: nan<br>MESSAGEix-GLOBIOM_GEI 1.0|SSP2_openres_lc_120",
          "RUS: nan<br>MESSAGEix-GLOBIOM_GEI 1.0|SSP2_openres_lc_80",
          "RUS: 65.9<br>MESSAGEix-GLOBIOM_GEI 1.0|SSP2_openres_lc_CB400",
          "RUS: 81.6<br>MESSAGEix-GLOBIOM_GEI 1.0|SSP2_openres_lc_CB450",
          "RUS: 65.7<br>MESSAGEix-GLOBIOM_GEI 1.0|SSP2_openres_lc_CB500",
          "RUS: 69.2<br>MESSAGEix-GLOBIOM_GEI 1.0|SSP2_openres_lc_CB550",
          "RUS: 44.1<br>MESSAGEix-GLOBIOM_GEI 1.0|SSP2_openres_lc_CB600",
          "RUS: 112.3<br>MESSAGEix-GLOBIOM_GEI 1.0|SSP2_openres_mc_50",
          "RUS: 103.0<br>POLES ADVANCE|ADVANCE_2020_1.5C-2100",
          "RUS: 103.4<br>POLES ADVANCE|ADVANCE_2020_WB2C",
          "RUS: 100.7<br>POLES ADVANCE|ADVANCE_2030_1.5C-2100",
          "RUS: 87.3<br>POLES ADVANCE|ADVANCE_2030_Price1.5C",
          "RUS: 88.8<br>POLES ADVANCE|ADVANCE_2030_WB2C",
          "RUS: 85.7<br>POLES EMF30|EMF30_Slower-to-faster",
          "RUS: 83.8<br>POLES EMF33|EMF33_WB2C_cost100",
          "RUS: 41.0<br>POLES EMF33|EMF33_WB2C_full",
          "RUS: 64.3<br>POLES EMF33|EMF33_WB2C_nofuel",
          "RUS: 46.9<br>POLES ENGAGE|EN_INDCi2030_300f",
          "RUS: 74.2<br>POLES ENGAGE|EN_INDCi2030_400f",
          "RUS: -47.1<br>POLES ENGAGE|EN_NPi2020_300f",
          "RUS: -27.9<br>POLES ENGAGE|EN_NPi2020_400f",
          "RUS: -0.1<br>POLES GECO2019|CO_Bridge",
          "RUS: 58.2<br>REMIND 1.7|ADVANCE_2020_1.5C-2100",
          "RUS: 56.6<br>REMIND 1.7|ADVANCE_2020_WB2C",
          "RUS: 14.1<br>REMIND 1.7|ADVANCE_2030_1.5C-2100",
          "RUS: 35.0<br>REMIND 1.7|ADVANCE_2030_Price1.5C",
          "RUS: 37.3<br>REMIND 1.7|ADVANCE_2030_WB2C",
          "RUS: 14.6<br>REMIND 1.7|CEMICS-1.5-CDR12",
          "RUS: -58.5<br>REMIND 1.7|CEMICS-1.5-CDR20",
          "RUS: -26.3<br>REMIND 1.7|CEMICS-1.5-CDR8",
          "RUS: 56.3<br>REMIND 1.7|CEMICS-2.0-CDR12",
          "RUS: -9.9<br>REMIND 1.7|CEMICS-2.0-CDR20",
          "RUS: 62.1<br>REMIND 1.7|CEMICS-2.0-CDR8",
          "RUS: 13.6<br>REMIND 2.1|CEMICS_GDPgrowth_1p5",
          "RUS: 67.9<br>REMIND 2.1|CEMICS_HotellingConst_1p5",
          "RUS: 56.0<br>REMIND 2.1|CEMICS_Linear_1p5",
          "RUS: 29.8<br>REMIND 2.1|CEMICS_opt_1p5",
          "RUS: 52.0<br>REMIND 2.1|LeastTotalCost_LTC_brkLR15_SSP1_P50",
          "RUS: 28.0<br>REMIND 2.1|LeastTotalCost_LTC_brkSR15_SSP1_P50",
          "RUS: 63.5<br>REMIND 2.1|R2p1_SSP1-PkBudg1100",
          "RUS: 47.0<br>REMIND 2.1|R2p1_SSP1-PkBudg1300",
          "RUS: 49.3<br>REMIND 2.1|R2p1_SSP1-PkBudg900",
          "RUS: 42.2<br>REMIND 2.1|R2p1_SSP2-PkBudg900",
          "RUS: 28.4<br>REMIND 2.1|R2p1_SSP5-PkBudg1100",
          "RUS: 33.8<br>REMIND 2.1|R2p1_SSP5-PkBudg900",
          "RUS: 25.9<br>REMIND-Buildings 2.0|BEG-Budg600",
          "RUS: 42.5<br>REMIND-Buildings 2.0|BEG-Budg600-EG",
          "RUS: 3.6<br>REMIND-MAgPIE 1.5|SSP1-19",
          "RUS: nan<br>REMIND-MAgPIE 1.5|SSP2-19",
          "RUS: nan<br>REMIND-MAgPIE 1.5|SSP5-19",
          "RUS: nan<br>REMIND-MAgPIE 1.7-3.0|CD-LINKS_INDC2030i_1000",
          "RUS: nan<br>REMIND-MAgPIE 1.7-3.0|CD-LINKS_INDC2030i_400",
          "RUS: nan<br>REMIND-MAgPIE 1.7-3.0|CD-LINKS_NPi2020_1000",
          "RUS: nan<br>REMIND-MAgPIE 1.7-3.0|CD-LINKS_NPi2020_400"
         ],
         "type": "box",
         "whiskerwidth": 0.4,
         "xaxis": "x7",
         "y": [
          21.10429049999999,
          28.8936029,
          36.200363700000004,
          36.417256699999996,
          44.13797460000001,
          -7.508227238665653,
          -0.10776338137069866,
          -5.81446639380329,
          -6.88621892312947,
          -3.0592157387757406,
          10.308912062350002,
          17.386201128950002,
          -4.195709507055249,
          -26.95833861080212,
          -20.411910138357335,
          -12.933050971150909,
          -5.644170526251943,
          1.1604454906944175,
          7.519521025406849,
          -26.868475514110607,
          0.2946973923910963,
          9.874128415626037,
          11.199138674202214,
          12.085725000455987,
          10.8246572485319,
          24.626224342635833,
          1.804439968554293,
          13.269455925857805,
          8.428625786592145,
          16.723719562076326,
          21.21634195450826,
          15.114268908807734,
          14.169941125037754,
          59.01449303817749,
          53.7126914138794,
          47.680562000274655,
          49.45806179618835,
          40.36270329666138,
          56.80690628433228,
          51.77414506340027,
          65.93804622650147,
          52.966007888793946,
          63.76580530166626,
          77.14686107254029,
          49.83732580518723,
          59.103779013633726,
          76.67262226867676,
          null,
          null,
          null,
          null,
          null,
          null,
          null,
          null,
          null,
          null,
          null,
          null,
          null,
          null,
          null,
          null,
          null,
          null,
          null,
          null,
          null,
          null,
          null,
          null,
          null,
          null,
          null,
          null,
          null,
          null,
          null,
          null,
          null,
          null,
          null,
          null,
          null,
          null,
          -19.829179443359376,
          -18.147948028564453,
          -29.634779708862304,
          -27.454143966674806,
          -16.69506320381165,
          -59.54207470000001,
          -132.4299657,
          -101.29579090000001,
          36.71363405000001,
          33.881542249999995,
          71.50844655000002,
          55.2420665,
          75.86949835,
          24.929444600000004,
          32.10807175,
          49.24456970000001,
          -95.75569115000002,
          -15.04489745,
          -12.831901899999998,
          112.17221425000001,
          66.75626785,
          101.5246959,
          82.26144045000001,
          103.00551199999998,
          112.3148047,
          99.03233680000001,
          null,
          null,
          null,
          65.91137334999999,
          81.58177984999999,
          65.6902405,
          69.21169975,
          44.1448152,
          112.3148047,
          103.00551199999998,
          103.42868035,
          100.72871245,
          87.2891753,
          88.83472765000002,
          85.73015584999999,
          83.821947,
          40.97362610000001,
          64.2563269,
          46.888017749999996,
          74.16162634999999,
          -47.140835849999995,
          -27.89636464999998,
          -0.055863600000005134,
          58.206163499999995,
          56.6179596,
          14.113540849999996,
          34.99164050000001,
          37.29558095,
          14.6417835,
          -58.46075459999999,
          -26.271108499999997,
          56.3421146,
          -9.871047249999995,
          62.12746719999999,
          13.633827649999995,
          67.85975445000001,
          56.00169660000001,
          29.759076450000006,
          52.0182879,
          27.9663835,
          63.5042755,
          46.95209024999999,
          49.34707289999999,
          42.1544234,
          28.384857549999996,
          33.80624825,
          25.907690149999997,
          42.52444125,
          3.5783305500000018,
          null,
          null,
          null,
          null,
          null,
          null
         ],
         "yaxis": "y7"
        },
        {
         "line": {
          "color": "forestgreen",
          "dash": "dot",
          "width": 2
         },
         "mode": "lines",
         "showlegend": false,
         "type": "scatter",
         "x": [
          "GF",
          "GF"
         ],
         "xaxis": "x7",
         "y": [
          34.99164050000001,
          64.39795751869588
         ],
         "yaxis": "y7"
        },
        {
         "marker": {
          "color": "forestgreen",
          "line": {
           "color": "black",
           "width": 1.5
          },
          "size": 13,
          "symbol": "triangle-up"
         },
         "mode": "markers+text",
         "showlegend": false,
         "text": "+<b>$",
         "textfont": {
          "color": "forestgreen"
         },
         "textposition": "middle left",
         "type": "scatter",
         "x": [
          "GF"
         ],
         "xaxis": "x7",
         "y": [
          64.39795751869588
         ],
         "yaxis": "y7"
        },
        {
         "line": {
          "color": "grey",
          "dash": "dot",
          "width": 2
         },
         "mode": "lines",
         "showlegend": false,
         "type": "scatter",
         "x": [
          "PC",
          "PC"
         ],
         "xaxis": "x7",
         "y": [
          34.99164050000001,
          18.886342028083668
         ],
         "yaxis": "y7"
        },
        {
         "marker": {
          "color": "grey",
          "line": {
           "color": "black",
           "width": 1.5
          },
          "size": 10,
          "symbol": "square"
         },
         "mode": "markers+text",
         "showlegend": false,
         "text": "~<b>$",
         "textfont": {
          "color": "grey"
         },
         "textposition": "middle left",
         "type": "scatter",
         "x": [
          "PC"
         ],
         "xaxis": "x7",
         "y": [
          18.886342028083668
         ],
         "yaxis": "y7"
        },
        {
         "line": {
          "color": "grey",
          "dash": "dot",
          "width": 2
         },
         "mode": "lines",
         "showlegend": false,
         "type": "scatter",
         "x": [
          "PCC",
          "PCC"
         ],
         "xaxis": "x7",
         "y": [
          34.99164050000001,
          34.18289386413492
         ],
         "yaxis": "y7"
        },
        {
         "marker": {
          "color": "grey",
          "line": {
           "color": "black",
           "width": 1.5
          },
          "size": 10,
          "symbol": "square"
         },
         "mode": "markers+text",
         "showlegend": false,
         "text": "~<b>$",
         "textfont": {
          "color": "grey"
         },
         "textposition": "middle left",
         "type": "scatter",
         "x": [
          "PCC"
         ],
         "xaxis": "x7",
         "y": [
          34.18289386413492
         ],
         "yaxis": "y7"
        },
        {
         "line": {
          "color": "grey",
          "dash": "dot",
          "width": 2
         },
         "mode": "lines",
         "showlegend": false,
         "type": "scatter",
         "x": [
          "AP",
          "AP"
         ],
         "xaxis": "x7",
         "y": [
          34.99164050000001,
          51.17619518170952
         ],
         "yaxis": "y7"
        },
        {
         "marker": {
          "color": "grey",
          "line": {
           "color": "black",
           "width": 1.5
          },
          "size": 10,
          "symbol": "square"
         },
         "mode": "markers+text",
         "showlegend": false,
         "text": "~<b>$",
         "textfont": {
          "color": "grey"
         },
         "textposition": "middle left",
         "type": "scatter",
         "x": [
          "AP"
         ],
         "xaxis": "x7",
         "y": [
          51.17619518170952
         ],
         "yaxis": "y7"
        },
        {
         "line": {
          "color": "forestgreen",
          "dash": "dot",
          "width": 2
         },
         "mode": "lines",
         "showlegend": false,
         "type": "scatter",
         "x": [
          "GDR",
          "GDR"
         ],
         "xaxis": "x7",
         "y": [
          34.99164050000001,
          70.41908692392543
         ],
         "yaxis": "y7"
        },
        {
         "marker": {
          "color": "forestgreen",
          "line": {
           "color": "black",
           "width": 1.5
          },
          "size": 13,
          "symbol": "triangle-up"
         },
         "mode": "markers+text",
         "showlegend": false,
         "text": "+<b>$",
         "textfont": {
          "color": "forestgreen"
         },
         "textposition": "middle left",
         "type": "scatter",
         "x": [
          "GDR"
         ],
         "xaxis": "x7",
         "y": [
          70.41908692392543
         ],
         "yaxis": "y7"
        },
        {
         "line": {
          "color": "tomato",
          "dash": "dot",
          "width": 2
         },
         "mode": "lines",
         "showlegend": false,
         "type": "scatter",
         "x": [
          "ECPC",
          "ECPC"
         ],
         "xaxis": "x7",
         "y": [
          34.99164050000001,
          -27.17050201965779
         ],
         "yaxis": "y7"
        },
        {
         "marker": {
          "color": "tomato",
          "line": {
           "color": "black",
           "width": 1.5
          },
          "size": 13,
          "symbol": "triangle-down"
         },
         "mode": "markers+text",
         "showlegend": false,
         "text": "-<b>$",
         "textfont": {
          "color": "tomato"
         },
         "textposition": "middle left",
         "type": "scatter",
         "x": [
          "ECPC"
         ],
         "xaxis": "x7",
         "y": [
          -27.17050201965779
         ],
         "yaxis": "y7"
        },
        {
         "hoverinfo": "skip",
         "line": {
          "color": "black",
          "width": 1
         },
         "mode": "lines",
         "name": "",
         "showlegend": false,
         "type": "scatter",
         "x": [
          "CO",
          "GF",
          "PC",
          "PCC",
          "AP",
          "GDR",
          "ECPC"
         ],
         "xaxis": "x11",
         "y": [
          247.37022119909705,
          247.37022119909705,
          247.37022119909705,
          247.37022119909705,
          247.37022119909705,
          247.37022119909705,
          247.37022119909705
         ],
         "yaxis": "y11"
        },
        {
         "hoverinfo": "skip",
         "line": {
          "color": "silver",
          "width": 0
         },
         "mode": "lines",
         "name": "",
         "showlegend": false,
         "type": "scatter",
         "x": [
          "GF",
          "PC",
          "PCC",
          "AP",
          "GDR",
          "ECPC"
         ],
         "xaxis": "x11",
         "y": [
          213.249440725,
          213.249440725,
          213.249440725,
          213.249440725,
          213.249440725,
          213.249440725
         ],
         "yaxis": "y11"
        },
        {
         "fill": "tonexty",
         "hoverinfo": "skip",
         "line": {
          "color": "silver",
          "width": 0
         },
         "mode": "lines",
         "name": "",
         "showlegend": false,
         "type": "scatter",
         "x": [
          "GF",
          "PC",
          "PCC",
          "AP",
          "GDR",
          "ECPC"
         ],
         "xaxis": "x11",
         "y": [
          286.50870046520106,
          286.50870046520106,
          286.50870046520106,
          286.50870046520106,
          286.50870046520106,
          286.50870046520106
         ],
         "yaxis": "y11"
        },
        {
         "boxpoints": "all",
         "fillcolor": "rgb(237, 234, 194)",
         "hovertemplate": "%{text}",
         "jitter": 0.5,
         "line": {
          "color": "black",
          "width": 1.5
         },
         "marker": {
          "color": "grey",
          "size": 3
         },
         "name": "CO",
         "pointpos": -1.8,
         "showlegend": false,
         "text": [
          "CHN: 192.4<br>AIM/CGE 2.1|CD-LINKS_NPi2020_400",
          "CHN: 212.4<br>AIM/CGE 2.2|EN_NPi2020_300f",
          "CHN: 234.8<br>AIM/CGE 2.2|EN_NPi2020_400f",
          "CHN: 281.5<br>AIM/CGE 2.2|EN_NPi2020_500f",
          "CHN: 259.3<br>AIM/CGE 2.2|EN_NPi2020_600",
          "CHN: 358.6<br>AIM/CGE 2.2|EN_NPi2020_600f",
          "CHN: 377.4<br>AIM/Hub-Global 2.0|1.5C",
          "CHN: 299.0<br>C-ROADS-5.005|Ratchet-1.5-allCDR",
          "CHN: 347.3<br>C-ROADS-5.005|Ratchet-1.5-limCDR",
          "CHN: 363.7<br>C-ROADS-5.005|Ratchet-1.5-limCDR-noOS",
          "CHN: 275.6<br>C-ROADS-5.005|Ratchet-1.5-noCDR",
          "CHN: 313.1<br>C-ROADS-5.005|Ratchet-1.5-noCDR-noOS",
          "CHN: 180.4<br>COFFEE 1.1|EN_INDCi2030_400f",
          "CHN: 116.7<br>COFFEE 1.1|EN_INDCi2030_500f",
          "CHN: 143.4<br>COFFEE 1.1|EN_NPi2020_400",
          "CHN: 171.2<br>COFFEE 1.1|EN_NPi2020_400f",
          "CHN: 198.3<br>COFFEE 1.1|EN_NPi2020_500f",
          "CHN: 225.0<br>GCAM 4.2|SSP1-19",
          "CHN: 250.9<br>GCAM 5.3|NGFS2_Divergent Net Zero Policies",
          "CHN: 245.1<br>GCAM 5.3|NGFS2_Net-Zero 2050",
          "CHN: 267.7<br>GCAM 5.3|R_MAC_30_n0",
          "CHN: 363.8<br>GCAM 5.3|R_MAC_35_n8",
          "CHN: 368.1<br>GCAM 5.3|R_MAC_40_n8",
          "CHN: 354.9<br>GCAM 5.3|R_MAC_45_n8",
          "CHN: 352.9<br>GCAM 5.3|R_MAC_50_n8",
          "CHN: 409.8<br>GCAM 5.3|R_MAC_55_n8",
          "CHN: 323.1<br>GCAM 5.3|R_MAC_60_n8",
          "CHN: 320.1<br>GCAM 5.3|SSP_SSP3",
          "CHN: 348.7<br>GCAM 5.3|SSP_SSP4",
          "CHN: 338.7<br>GEM-E3_V2021|EN_INDCi2030_600f",
          "CHN: 344.2<br>GEM-E3_V2021|EN_INDCi2030_600f_COV",
          "CHN: 374.6<br>GEM-E3_V2021|EN_INDCi2030_600f_COV_NDCp",
          "CHN: 366.7<br>GEM-E3_V2021|EN_INDCi2030_600f_NDCp",
          "CHN: 234.1<br>GEM-E3_V2021|EN_INDCi2030_800f",
          "CHN: 206.9<br>GEM-E3_V2021|EN_NPi2020_400f",
          "CHN: 232.5<br>GEM-E3_V2021|EN_NPi2020_500",
          "CHN: 240.7<br>GEM-E3_V2021|EN_NPi2020_500f",
          "CHN: 187.0<br>GEM-E3_V2021|EN_NPi2020_600",
          "CHN: 257.0<br>GEM-E3_V2021|EN_NPi2020_600_COV",
          "CHN: 179.1<br>GEM-E3_V2021|EN_NPi2020_600f",
          "CHN: 242.6<br>GEM-E3_V2021|EN_NPi2020_600f_COV",
          "CHN: 203.6<br>IMAGE 3.0.1|ADVANCE_2020_1.5C-2100",
          "CHN: 219.7<br>IMAGE 3.0.1|CD-LINKS_NPi2020_400",
          "CHN: 255.5<br>IMAGE 3.2|SSP1_SPA1_19I_D",
          "CHN: 245.7<br>IMAGE 3.2|SSP1_SPA1_19I_D_LB",
          "CHN: 236.3<br>IMAGE 3.2|SSP1_SPA1_19I_LI",
          "CHN: 228.6<br>IMAGE 3.2|SSP1_SPA1_19I_LIRE",
          "CHN: 310.2<br>IMAGE 3.2|SSP1_SPA1_19I_LIRE_LB",
          "CHN: 298.6<br>IMAGE 3.2|SSP1_SPA1_19I_RE",
          "CHN: 338.8<br>IMAGE 3.2|SSP1_SPA1_19I_RE_LB",
          "CHN: 329.8<br>IMAGE 3.2|SSP2_SPA1_19I_D_LB",
          "CHN: 317.9<br>IMAGE 3.2|SSP2_SPA1_19I_LIRE_LB",
          "CHN: 336.4<br>IMAGE 3.2|SSP2_SPA1_19I_RE_LB",
          "CHN: 199.6<br>IMAGE 3.2|SSP2_SPA2_19I_D",
          "CHN: 221.6<br>IMAGE 3.2|SSP2_SPA2_19I_LI",
          "CHN: 240.8<br>IMAGE 3.2|SSP2_SPA2_19I_LIRE",
          "CHN: 222.4<br>IMAGE 3.2|SSP2_SPA2_19I_RE",
          "CHN: 250.2<br>MESSAGE-GLOBIOM 1.0|ADVANCE_2020_1.5C-2100",
          "CHN: 222.8<br>MESSAGE-GLOBIOM 1.0|ADVANCE_2030_Price1.5C",
          "CHN: 262.2<br>MESSAGE-GLOBIOM 1.0|EMF30_Slower-to-faster",
          "CHN: 247.0<br>MESSAGE-GLOBIOM 1.0|EMF33_1.5C_cost100",
          "CHN: 247.4<br>MESSAGE-GLOBIOM 1.0|EMF33_1.5C_full",
          "CHN: 250.5<br>MESSAGE-GLOBIOM 1.0|EMF33_WB2C_cost100",
          "CHN: 242.2<br>MESSAGE-GLOBIOM 1.0|EMF33_WB2C_full",
          "CHN: 239.9<br>MESSAGE-GLOBIOM 1.0|EMF33_WB2C_limbio",
          "CHN: 238.7<br>MESSAGE-GLOBIOM 1.0|EMF33_WB2C_nofuel",
          "CHN: 240.8<br>MESSAGE-GLOBIOM 1.0|SSP2-19",
          "CHN: 278.8<br>MESSAGEix-GLOBIOM 1.0|CD-LINKS_NDC2030i_1000",
          "CHN: 277.1<br>MESSAGEix-GLOBIOM 1.0|CD-LINKS_NPi2020_1000",
          "CHN: 306.3<br>MESSAGEix-GLOBIOM 1.0|CD-LINKS_NPi2020_400",
          "CHN: 258.4<br>MESSAGEix-GLOBIOM 1.0|LowEnergyDemand_1.3_IPCC",
          "CHN: 266.6<br>MESSAGEix-GLOBIOM_1.1|EN_NPi2020_200f",
          "CHN: 271.1<br>MESSAGEix-GLOBIOM_1.1|EN_NPi2020_300f",
          "CHN: 275.7<br>MESSAGEix-GLOBIOM_1.1|EN_NPi2020_400f",
          "CHN: 270.7<br>MESSAGEix-GLOBIOM_1.1|EN_NPi2020_450f",
          "CHN: 272.3<br>MESSAGEix-GLOBIOM_1.1|EN_NPi2020_450",
          "CHN: 303.9<br>MESSAGEix-GLOBIOM_1.1|EN_NPi2020_500f",
          "CHN: 297.2<br>MESSAGEix-GLOBIOM_1.1|EN_NPi2020_500",
          "CHN: 246.1<br>MESSAGEix-GLOBIOM_1.1|EN_NPi2020_600f_DR10p",
          "CHN: 245.7<br>MESSAGEix-GLOBIOM_1.1|EN_INDCi2030_600f_COV_NDCp",
          "CHN: 229.7<br>MESSAGEix-GLOBIOM_1.1|EN_INDCi2030_600f_COV",
          "CHN: 228.6<br>MESSAGEix-GLOBIOM_1.1|NGFS2_Divergent Net Zero Policies",
          "CHN: 231.5<br>MESSAGEix-GLOBIOM_1.1|EN_NPi2020_600f_COV",
          "CHN: 234.9<br>MESSAGEix-GLOBIOM_1.1|EN_NPi2020_600f",
          "CHN: 232.2<br>MESSAGEix-GLOBIOM_1.1|EN_NPi2020_600f_DR4p",
          "CHN: 277.3<br>MESSAGEix-GLOBIOM_1.1|NGFS2_Net-Zero 2050",
          "CHN: 293.3<br>MESSAGEix-GLOBIOM_1.1|EN_NPi2020_600_DR10p",
          "CHN: 273.1<br>MESSAGEix-GLOBIOM_1.1|EN_NPi2020_600f_DR3p",
          "CHN: 282.1<br>MESSAGEix-GLOBIOM_1.1|EN_NPi2020_600_COV",
          "CHN: 367.1<br>MESSAGEix-GLOBIOM_1.1|EN_NPi2020_600_DR4p",
          "CHN: 165.0<br>MESSAGEix-GLOBIOM_1.1|EN_NPi2020_600_DR3p",
          "CHN: 156.2<br>MESSAGEix-GLOBIOM_1.1|EN_NPi2020_600",
          "CHN: 155.5<br>MESSAGEix-GLOBIOM_1.1|EN_NPi2020_600_DR2p",
          "CHN: 178.6<br>MESSAGEix-GLOBIOM_1.1|EN_NPi2020_600_DR1p",
          "CHN: 224.9<br>MESSAGEix-GLOBIOM_1.1|EN_NPi2020_600f_DR2p",
          "CHN: 290.6<br>MESSAGEix-GLOBIOM_1.1|EN_NPi2020_600f_DR1p",
          "CHN: 247.2<br>MESSAGEix-GLOBIOM_1.1|EN_INDCi2030_700f_NDCp",
          "CHN: 293.4<br>MESSAGEix-GLOBIOM_1.1|EN_INDCi2030_700f",
          "CHN: 195.6<br>MESSAGEix-GLOBIOM_1.1|EN_INDCi2030_700f_COV",
          "CHN: 190.6<br>MESSAGEix-GLOBIOM_1.1|EN_INDCi2030_700f_COV_NDCp",
          "CHN: 248.1<br>MESSAGEix-GLOBIOM_1.1|EN_NPi2020_700f_COV",
          "CHN: 180.1<br>MESSAGEix-GLOBIOM_1.1|EN_NPi2020_700f",
          "CHN: 210.7<br>MESSAGEix-GLOBIOM_1.1|EN_NPi2020_700_COV",
          "CHN: 205.2<br>MESSAGEix-GLOBIOM_1.1|EN_NPi2020_700",
          "CHN: 267.5<br>MESSAGEix-GLOBIOM_1.2|COV_GreenPush_550",
          "CHN: 216.7<br>MESSAGEix-GLOBIOM_1.2|COV_NoPolicyNoCOVID_550",
          "CHN: 211.4<br>MESSAGEix-GLOBIOM_1.2|COV_Restore_550",
          "CHN: 159.3<br>MESSAGEix-GLOBIOM_1.2|COV_SelfReliance_550",
          "CHN: 254.6<br>MESSAGEix-GLOBIOM_1.2|COV_SmartUse_550",
          "CHN: 331.6<br>MESSAGEix-GLOBIOM_GEI 1.0|SSP2_int_mc_50",
          "CHN: 299.2<br>MESSAGEix-GLOBIOM_GEI 1.0|SSP2_noint_mc_50",
          "CHN: nan<br>MESSAGEix-GLOBIOM_GEI 1.0|SSP2_openres_lc_100",
          "CHN: nan<br>MESSAGEix-GLOBIOM_GEI 1.0|SSP2_openres_lc_120",
          "CHN: nan<br>MESSAGEix-GLOBIOM_GEI 1.0|SSP2_openres_lc_80",
          "CHN: 296.7<br>MESSAGEix-GLOBIOM_GEI 1.0|SSP2_openres_lc_CB400",
          "CHN: 213.0<br>MESSAGEix-GLOBIOM_GEI 1.0|SSP2_openres_lc_CB450",
          "CHN: 254.5<br>MESSAGEix-GLOBIOM_GEI 1.0|SSP2_openres_lc_CB500",
          "CHN: 241.2<br>MESSAGEix-GLOBIOM_GEI 1.0|SSP2_openres_lc_CB550",
          "CHN: 223.2<br>MESSAGEix-GLOBIOM_GEI 1.0|SSP2_openres_lc_CB600",
          "CHN: 331.6<br>MESSAGEix-GLOBIOM_GEI 1.0|SSP2_openres_mc_50",
          "CHN: 254.6<br>POLES ADVANCE|ADVANCE_2020_1.5C-2100",
          "CHN: 288.2<br>POLES ADVANCE|ADVANCE_2020_WB2C",
          "CHN: 270.0<br>POLES ADVANCE|ADVANCE_2030_1.5C-2100",
          "CHN: 354.1<br>POLES ADVANCE|ADVANCE_2030_Price1.5C",
          "CHN: 285.0<br>POLES ADVANCE|ADVANCE_2030_WB2C",
          "CHN: 315.9<br>POLES EMF30|EMF30_Slower-to-faster",
          "CHN: 297.1<br>POLES EMF33|EMF33_WB2C_cost100",
          "CHN: 183.5<br>POLES EMF33|EMF33_WB2C_full",
          "CHN: 190.7<br>POLES EMF33|EMF33_WB2C_nofuel",
          "CHN: 188.6<br>POLES ENGAGE|EN_INDCi2030_300f",
          "CHN: 208.4<br>POLES ENGAGE|EN_INDCi2030_400f",
          "CHN: 257.2<br>POLES ENGAGE|EN_NPi2020_300f",
          "CHN: 262.8<br>POLES ENGAGE|EN_NPi2020_400f",
          "CHN: 267.7<br>POLES GECO2019|CO_Bridge",
          "CHN: 241.1<br>REMIND 1.7|ADVANCE_2020_1.5C-2100",
          "CHN: 250.5<br>REMIND 1.7|ADVANCE_2020_WB2C",
          "CHN: 277.7<br>REMIND 1.7|ADVANCE_2030_1.5C-2100",
          "CHN: 265.7<br>REMIND 1.7|ADVANCE_2030_Price1.5C",
          "CHN: 267.1<br>REMIND 1.7|ADVANCE_2030_WB2C",
          "CHN: 278.5<br>REMIND 1.7|CEMICS-1.5-CDR12",
          "CHN: 177.9<br>REMIND 1.7|CEMICS-1.5-CDR20",
          "CHN: 185.9<br>REMIND 1.7|CEMICS-1.5-CDR8",
          "CHN: 182.1<br>REMIND 1.7|CEMICS-2.0-CDR12",
          "CHN: 201.5<br>REMIND 1.7|CEMICS-2.0-CDR20",
          "CHN: 201.7<br>REMIND 1.7|CEMICS-2.0-CDR8",
          "CHN: 213.5<br>REMIND 2.1|CEMICS_GDPgrowth_1p5",
          "CHN: 220.6<br>REMIND 2.1|CEMICS_HotellingConst_1p5",
          "CHN: 211.9<br>REMIND 2.1|CEMICS_Linear_1p5",
          "CHN: 231.0<br>REMIND 2.1|CEMICS_opt_1p5",
          "CHN: 219.8<br>REMIND 2.1|LeastTotalCost_LTC_brkLR15_SSP1_P50",
          "CHN: 208.9<br>REMIND 2.1|LeastTotalCost_LTC_brkSR15_SSP1_P50",
          "CHN: 205.0<br>REMIND 2.1|R2p1_SSP1-PkBudg1100",
          "CHN: 193.1<br>REMIND 2.1|R2p1_SSP1-PkBudg1300",
          "CHN: 195.9<br>REMIND 2.1|R2p1_SSP1-PkBudg900",
          "CHN: 218.2<br>REMIND 2.1|R2p1_SSP2-PkBudg900",
          "CHN: 197.7<br>REMIND 2.1|R2p1_SSP5-PkBudg1100",
          "CHN: 187.8<br>REMIND 2.1|R2p1_SSP5-PkBudg900",
          "CHN: 237.1<br>REMIND-Buildings 2.0|BEG-Budg600",
          "CHN: 216.9<br>REMIND-Buildings 2.0|BEG-Budg600-EG",
          "CHN: 168.5<br>REMIND-MAgPIE 1.5|SSP1-19",
          "CHN: 306.4<br>REMIND-MAgPIE 1.5|SSP2-19",
          "CHN: 268.0<br>REMIND-MAgPIE 1.5|SSP5-19",
          "CHN: 262.6<br>REMIND-MAgPIE 1.7-3.0|CD-LINKS_INDC2030i_1000",
          "CHN: 277.5<br>REMIND-MAgPIE 1.7-3.0|CD-LINKS_INDC2030i_400",
          "CHN: 267.3<br>REMIND-MAgPIE 1.7-3.0|CD-LINKS_NPi2020_1000",
          "CHN: 288.0<br>REMIND-MAgPIE 1.7-3.0|CD-LINKS_NPi2020_400"
         ],
         "type": "box",
         "whiskerwidth": 0.4,
         "xaxis": "x11",
         "y": [
          192.4496737,
          212.42125140000002,
          234.84301769999996,
          281.53544859999994,
          259.256763,
          358.6225113473146,
          377.40780998809,
          298.98752682264023,
          347.2789589859193,
          363.6648135540278,
          275.59149243240006,
          313.0854331339,
          180.44413701899492,
          116.70149273247861,
          143.40667701941348,
          171.15198046131047,
          198.30861685551892,
          224.97755032403947,
          250.94441032225583,
          245.09626645727454,
          267.74940109954,
          363.84868991667986,
          368.14648054053305,
          354.91611567178876,
          352.86451425249555,
          409.77930156329495,
          323.14532139012863,
          320.07409046440284,
          348.6500106434808,
          338.73453331372855,
          344.15959451183465,
          374.61107765485406,
          366.74646362355503,
          234.07124515151978,
          206.9461514263153,
          232.5037707672119,
          240.70891309118272,
          186.9876948776245,
          257.03535704135896,
          179.11553960895537,
          242.60126473999026,
          203.55569693756104,
          219.72724892425538,
          255.5410832748413,
          245.65082158660888,
          236.33210502195362,
          228.57375356292724,
          310.1897776815168,
          298.56172998830834,
          338.84577533806515,
          329.80126242732103,
          317.93239255318923,
          336.43884845288113,
          199.56703098867973,
          221.56560907456156,
          240.7972711413683,
          222.4328656382649,
          250.2220367858668,
          222.81791429752954,
          262.1745633360215,
          246.99696503619964,
          247.37022119909705,
          250.53852383621697,
          242.2007024179443,
          239.94292406486272,
          238.6561848442305,
          240.79751692294178,
          278.7527363466388,
          277.09935306397017,
          306.3363828593143,
          258.37482895347307,
          266.6103646937021,
          271.1058092007098,
          275.659660735866,
          270.7230771516887,
          272.30834896668375,
          303.8747245984743,
          297.179698855511,
          246.115845148,
          245.7286850615,
          229.6649191938938,
          228.60561087313775,
          231.45749832654366,
          234.92685501467008,
          232.24468174149393,
          277.2595966796875,
          293.3488688659668,
          273.0927682800293,
          282.08086304855345,
          367.09311126708985,
          165.02962415000002,
          156.20762535,
          155.49577324999996,
          178.5547009,
          224.8655369,
          290.56246104999997,
          247.1816293,
          293.37970805000003,
          195.5899837,
          190.62111469999996,
          248.13030949999998,
          180.12230399999999,
          210.7029694,
          205.1626667,
          267.45824070000003,
          216.67374844999998,
          211.38482520000002,
          159.29804555,
          254.63893460000003,
          331.60251150000005,
          299.1858057,
          null,
          null,
          null,
          296.66348405,
          212.9515579,
          254.54443479999995,
          241.247331,
          223.2400509,
          331.60251150000005,
          254.63893460000003,
          288.22319984999996,
          270.03827825,
          354.05311259999996,
          284.99606265000006,
          315.8806969,
          297.0780748,
          183.4632379,
          190.67779929999998,
          188.55806760000002,
          208.39858825,
          257.153553,
          262.83259410000005,
          267.6849357500001,
          241.0896334,
          250.53482975,
          277.66584385,
          265.67129794999994,
          267.11978734999997,
          278.45939559999994,
          177.85459510000004,
          185.91980205,
          182.12071265000003,
          201.50286814999998,
          201.65021115000002,
          213.54732355,
          220.60177875,
          211.94677740000003,
          231.00157535000002,
          219.81583595,
          208.91382665,
          204.9682696,
          193.10692889999999,
          195.88136260000002,
          218.15170995000003,
          197.70375645000001,
          187.84857529999996,
          237.08852084999998,
          216.91799585000004,
          168.50498149999999,
          306.37437221912893,
          267.96339999329734,
          262.6476882937765,
          277.52093744819564,
          267.27980635893874,
          288.021338280402
         ],
         "yaxis": "y11"
        },
        {
         "line": {
          "color": "forestgreen",
          "dash": "dot",
          "width": 2
         },
         "mode": "lines",
         "showlegend": false,
         "type": "scatter",
         "x": [
          "GF",
          "GF"
         ],
         "xaxis": "x11",
         "y": [
          247.37022119909705,
          322.1407060008444
         ],
         "yaxis": "y11"
        },
        {
         "marker": {
          "color": "forestgreen",
          "line": {
           "color": "black",
           "width": 1.5
          },
          "size": 13,
          "symbol": "triangle-up"
         },
         "mode": "markers+text",
         "showlegend": false,
         "text": "+<b>$",
         "textfont": {
          "color": "forestgreen"
         },
         "textposition": "middle left",
         "type": "scatter",
         "x": [
          "GF"
         ],
         "xaxis": "x11",
         "y": [
          322.1407060008444
         ],
         "yaxis": "y11"
        },
        {
         "line": {
          "color": "tomato",
          "dash": "dot",
          "width": 2
         },
         "mode": "lines",
         "showlegend": false,
         "type": "scatter",
         "x": [
          "PC",
          "PC"
         ],
         "xaxis": "x11",
         "y": [
          247.37022119909705,
          185.090153721111
         ],
         "yaxis": "y11"
        },
        {
         "marker": {
          "color": "tomato",
          "line": {
           "color": "black",
           "width": 1.5
          },
          "size": 13,
          "symbol": "triangle-down"
         },
         "mode": "markers+text",
         "showlegend": false,
         "text": "-<b>$",
         "textfont": {
          "color": "tomato"
         },
         "textposition": "middle left",
         "type": "scatter",
         "x": [
          "PC"
         ],
         "xaxis": "x11",
         "y": [
          185.090153721111
         ],
         "yaxis": "y11"
        },
        {
         "line": {
          "color": "grey",
          "dash": "dot",
          "width": 2
         },
         "mode": "lines",
         "showlegend": false,
         "type": "scatter",
         "x": [
          "PCC",
          "PCC"
         ],
         "xaxis": "x11",
         "y": [
          247.37022119909705,
          224.46402445716495
         ],
         "yaxis": "y11"
        },
        {
         "marker": {
          "color": "grey",
          "line": {
           "color": "black",
           "width": 1.5
          },
          "size": 10,
          "symbol": "square"
         },
         "mode": "markers+text",
         "showlegend": false,
         "text": "~<b>$",
         "textfont": {
          "color": "grey"
         },
         "textposition": "middle left",
         "type": "scatter",
         "x": [
          "PCC"
         ],
         "xaxis": "x11",
         "y": [
          224.46402445716495
         ],
         "yaxis": "y11"
        },
        {
         "line": {
          "color": "grey",
          "dash": "dot",
          "width": 2
         },
         "mode": "lines",
         "showlegend": false,
         "type": "scatter",
         "x": [
          "AP",
          "AP"
         ],
         "xaxis": "x11",
         "y": [
          247.37022119909705,
          259.6564072827325
         ],
         "yaxis": "y11"
        },
        {
         "marker": {
          "color": "grey",
          "line": {
           "color": "black",
           "width": 1.5
          },
          "size": 10,
          "symbol": "square"
         },
         "mode": "markers+text",
         "showlegend": false,
         "text": "~<b>$",
         "textfont": {
          "color": "grey"
         },
         "textposition": "middle left",
         "type": "scatter",
         "x": [
          "AP"
         ],
         "xaxis": "x11",
         "y": [
          259.6564072827325
         ],
         "yaxis": "y11"
        },
        {
         "line": {
          "color": "forestgreen",
          "dash": "dot",
          "width": 2
         },
         "mode": "lines",
         "showlegend": false,
         "type": "scatter",
         "x": [
          "GDR",
          "GDR"
         ],
         "xaxis": "x11",
         "y": [
          247.37022119909705,
          371.7903685469535
         ],
         "yaxis": "y11"
        },
        {
         "marker": {
          "color": "forestgreen",
          "line": {
           "color": "black",
           "width": 1.5
          },
          "size": 13,
          "symbol": "triangle-up"
         },
         "mode": "markers+text",
         "showlegend": false,
         "text": "+<b>$",
         "textfont": {
          "color": "forestgreen"
         },
         "textposition": "middle left",
         "type": "scatter",
         "x": [
          "GDR"
         ],
         "xaxis": "x11",
         "y": [
          371.7903685469535
         ],
         "yaxis": "y11"
        },
        {
         "line": {
          "color": "tomato",
          "dash": "dot",
          "width": 2
         },
         "mode": "lines",
         "showlegend": false,
         "type": "scatter",
         "x": [
          "ECPC",
          "ECPC"
         ],
         "xaxis": "x11",
         "y": [
          247.37022119909705,
          142.79621204625096
         ],
         "yaxis": "y11"
        },
        {
         "marker": {
          "color": "tomato",
          "line": {
           "color": "black",
           "width": 1.5
          },
          "size": 13,
          "symbol": "triangle-down"
         },
         "mode": "markers+text",
         "showlegend": false,
         "text": "-<b>$",
         "textfont": {
          "color": "tomato"
         },
         "textposition": "middle left",
         "type": "scatter",
         "x": [
          "ECPC"
         ],
         "xaxis": "x11",
         "y": [
          142.79621204625096
         ],
         "yaxis": "y11"
        },
        {
         "hoverinfo": "skip",
         "line": {
          "color": "black",
          "width": 1
         },
         "mode": "lines",
         "name": "",
         "showlegend": false,
         "type": "scatter",
         "x": [
          "CO",
          "GF",
          "PC",
          "PCC",
          "AP",
          "GDR",
          "ECPC"
         ],
         "xaxis": "x15",
         "y": [
          164.88948620000002,
          164.88948620000002,
          164.88948620000002,
          164.88948620000002,
          164.88948620000002,
          164.88948620000002,
          164.88948620000002
         ],
         "yaxis": "y15"
        },
        {
         "hoverinfo": "skip",
         "line": {
          "color": "silver",
          "width": 0
         },
         "mode": "lines",
         "name": "",
         "showlegend": false,
         "type": "scatter",
         "x": [
          "GF",
          "PC",
          "PCC",
          "AP",
          "GDR",
          "ECPC"
         ],
         "xaxis": "x15",
         "y": [
          121.81167285093765,
          121.81167285093765,
          121.81167285093765,
          121.81167285093765,
          121.81167285093765,
          121.81167285093765
         ],
         "yaxis": "y15"
        },
        {
         "fill": "tonexty",
         "hoverinfo": "skip",
         "line": {
          "color": "silver",
          "width": 0
         },
         "mode": "lines",
         "name": "",
         "showlegend": false,
         "type": "scatter",
         "x": [
          "GF",
          "PC",
          "PCC",
          "AP",
          "GDR",
          "ECPC"
         ],
         "xaxis": "x15",
         "y": [
          199.20421373880362,
          199.20421373880362,
          199.20421373880362,
          199.20421373880362,
          199.20421373880362,
          199.20421373880362
         ],
         "yaxis": "y15"
        },
        {
         "boxpoints": "all",
         "fillcolor": "rgb(121, 167, 172)",
         "hovertemplate": "%{text}",
         "jitter": 0.5,
         "line": {
          "color": "black",
          "width": 1.5
         },
         "marker": {
          "color": "grey",
          "size": 3
         },
         "name": "CO",
         "pointpos": -1.8,
         "showlegend": false,
         "text": [
          "IND: 75.9<br>AIM/CGE 2.1|CD-LINKS_NPi2020_400",
          "IND: 82.8<br>AIM/CGE 2.2|EN_NPi2020_300f",
          "IND: 90.0<br>AIM/CGE 2.2|EN_NPi2020_400f",
          "IND: 94.0<br>AIM/CGE 2.2|EN_NPi2020_500f",
          "IND: 97.6<br>AIM/CGE 2.2|EN_NPi2020_600",
          "IND: 204.2<br>AIM/CGE 2.2|EN_NPi2020_600f",
          "IND: 208.8<br>AIM/Hub-Global 2.0|1.5C",
          "IND: 196.7<br>C-ROADS-5.005|Ratchet-1.5-allCDR",
          "IND: 199.1<br>C-ROADS-5.005|Ratchet-1.5-limCDR",
          "IND: 208.5<br>C-ROADS-5.005|Ratchet-1.5-limCDR-noOS",
          "IND: 101.7<br>C-ROADS-5.005|Ratchet-1.5-noCDR",
          "IND: 118.9<br>C-ROADS-5.005|Ratchet-1.5-noCDR-noOS",
          "IND: 85.2<br>COFFEE 1.1|EN_INDCi2030_400f",
          "IND: 34.9<br>COFFEE 1.1|EN_INDCi2030_500f",
          "IND: 45.8<br>COFFEE 1.1|EN_NPi2020_400",
          "IND: 58.1<br>COFFEE 1.1|EN_NPi2020_400f",
          "IND: 71.1<br>COFFEE 1.1|EN_NPi2020_500f",
          "IND: 84.7<br>GCAM 4.2|SSP1-19",
          "IND: 98.3<br>GCAM 5.3|NGFS2_Divergent Net Zero Policies",
          "IND: 154.2<br>GCAM 5.3|NGFS2_Net-Zero 2050",
          "IND: 92.4<br>GCAM 5.3|R_MAC_30_n0",
          "IND: 77.5<br>GCAM 5.3|R_MAC_35_n8",
          "IND: 69.5<br>GCAM 5.3|R_MAC_40_n8",
          "IND: 70.6<br>GCAM 5.3|R_MAC_45_n8",
          "IND: 79.9<br>GCAM 5.3|R_MAC_50_n8",
          "IND: 105.3<br>GCAM 5.3|R_MAC_55_n8",
          "IND: 44.5<br>GCAM 5.3|R_MAC_60_n8",
          "IND: 67.1<br>GCAM 5.3|SSP_SSP3",
          "IND: 61.4<br>GCAM 5.3|SSP_SSP4",
          "IND: 78.3<br>GEM-E3_V2021|EN_INDCi2030_600f",
          "IND: 80.9<br>GEM-E3_V2021|EN_INDCi2030_600f_COV",
          "IND: 74.8<br>GEM-E3_V2021|EN_INDCi2030_600f_COV_NDCp",
          "IND: 78.7<br>GEM-E3_V2021|EN_INDCi2030_600f_NDCp",
          "IND: 122.2<br>GEM-E3_V2021|EN_INDCi2030_800f",
          "IND: 115.4<br>GEM-E3_V2021|EN_NPi2020_400f",
          "IND: 140.2<br>GEM-E3_V2021|EN_NPi2020_500",
          "IND: 130.5<br>GEM-E3_V2021|EN_NPi2020_500f",
          "IND: 103.5<br>GEM-E3_V2021|EN_NPi2020_600",
          "IND: 153.0<br>GEM-E3_V2021|EN_NPi2020_600_COV",
          "IND: 111.0<br>GEM-E3_V2021|EN_NPi2020_600f",
          "IND: 136.1<br>GEM-E3_V2021|EN_NPi2020_600f_COV",
          "IND: 116.7<br>IMAGE 3.0.1|ADVANCE_2020_1.5C-2100",
          "IND: 124.6<br>IMAGE 3.0.1|CD-LINKS_NPi2020_400",
          "IND: 142.2<br>IMAGE 3.2|SSP1_SPA1_19I_D",
          "IND: 115.3<br>IMAGE 3.2|SSP1_SPA1_19I_D_LB",
          "IND: 100.8<br>IMAGE 3.2|SSP1_SPA1_19I_LI",
          "IND: 105.9<br>IMAGE 3.2|SSP1_SPA1_19I_LIRE",
          "IND: 194.0<br>IMAGE 3.2|SSP1_SPA1_19I_LIRE_LB",
          "IND: 196.8<br>IMAGE 3.2|SSP1_SPA1_19I_RE",
          "IND: 199.0<br>IMAGE 3.2|SSP1_SPA1_19I_RE_LB",
          "IND: 217.1<br>IMAGE 3.2|SSP2_SPA1_19I_D_LB",
          "IND: 220.1<br>IMAGE 3.2|SSP2_SPA1_19I_LIRE_LB",
          "IND: 201.2<br>IMAGE 3.2|SSP2_SPA1_19I_RE_LB",
          "IND: 127.5<br>IMAGE 3.2|SSP2_SPA2_19I_D",
          "IND: 143.9<br>IMAGE 3.2|SSP2_SPA2_19I_LI",
          "IND: 163.1<br>IMAGE 3.2|SSP2_SPA2_19I_LIRE",
          "IND: 172.7<br>IMAGE 3.2|SSP2_SPA2_19I_RE",
          "IND: 169.1<br>MESSAGE-GLOBIOM 1.0|ADVANCE_2020_1.5C-2100",
          "IND: 192.0<br>MESSAGE-GLOBIOM 1.0|ADVANCE_2030_Price1.5C",
          "IND: 178.2<br>MESSAGE-GLOBIOM 1.0|EMF30_Slower-to-faster",
          "IND: 205.5<br>MESSAGE-GLOBIOM 1.0|EMF33_1.5C_cost100",
          "IND: 225.8<br>MESSAGE-GLOBIOM 1.0|EMF33_1.5C_full",
          "IND: 195.7<br>MESSAGE-GLOBIOM 1.0|EMF33_WB2C_cost100",
          "IND: 214.9<br>MESSAGE-GLOBIOM 1.0|EMF33_WB2C_full",
          "IND: 214.9<br>MESSAGE-GLOBIOM 1.0|EMF33_WB2C_limbio",
          "IND: 216.0<br>MESSAGE-GLOBIOM 1.0|EMF33_WB2C_nofuel",
          "IND: 215.9<br>MESSAGE-GLOBIOM 1.0|SSP2-19",
          "IND: 190.3<br>MESSAGEix-GLOBIOM 1.0|CD-LINKS_NDC2030i_1000",
          "IND: 206.0<br>MESSAGEix-GLOBIOM 1.0|CD-LINKS_NPi2020_1000",
          "IND: 171.5<br>MESSAGEix-GLOBIOM 1.0|CD-LINKS_NPi2020_400",
          "IND: 208.2<br>MESSAGEix-GLOBIOM 1.0|LowEnergyDemand_1.3_IPCC",
          "IND: 203.0<br>MESSAGEix-GLOBIOM_1.1|EN_NPi2020_200f",
          "IND: 200.6<br>MESSAGEix-GLOBIOM_1.1|EN_NPi2020_300f",
          "IND: 200.5<br>MESSAGEix-GLOBIOM_1.1|EN_NPi2020_400f",
          "IND: 221.8<br>MESSAGEix-GLOBIOM_1.1|EN_NPi2020_450f",
          "IND: 239.6<br>MESSAGEix-GLOBIOM_1.1|EN_NPi2020_450",
          "IND: 203.2<br>MESSAGEix-GLOBIOM_1.1|EN_NPi2020_500f",
          "IND: 224.3<br>MESSAGEix-GLOBIOM_1.1|EN_NPi2020_500",
          "IND: 239.8<br>MESSAGEix-GLOBIOM_1.1|EN_NPi2020_600f_DR10p",
          "IND: 247.8<br>MESSAGEix-GLOBIOM_1.1|EN_INDCi2030_600f_COV_NDCp",
          "IND: 188.8<br>MESSAGEix-GLOBIOM_1.1|EN_INDCi2030_600f_COV",
          "IND: 205.4<br>MESSAGEix-GLOBIOM_1.1|NGFS2_Divergent Net Zero Policies",
          "IND: 192.1<br>MESSAGEix-GLOBIOM_1.1|EN_NPi2020_600f_COV",
          "IND: 192.1<br>MESSAGEix-GLOBIOM_1.1|EN_NPi2020_600f",
          "IND: 190.0<br>MESSAGEix-GLOBIOM_1.1|EN_NPi2020_600f_DR4p",
          "IND: 106.1<br>MESSAGEix-GLOBIOM_1.1|NGFS2_Net-Zero 2050",
          "IND: 111.6<br>MESSAGEix-GLOBIOM_1.1|EN_NPi2020_600_DR10p",
          "IND: 69.0<br>MESSAGEix-GLOBIOM_1.1|EN_NPi2020_600f_DR3p",
          "IND: 81.8<br>MESSAGEix-GLOBIOM_1.1|EN_NPi2020_600_COV",
          "IND: 76.4<br>MESSAGEix-GLOBIOM_1.1|EN_NPi2020_600_DR4p",
          "IND: 112.5<br>MESSAGEix-GLOBIOM_1.1|EN_NPi2020_600_DR3p",
          "IND: 153.7<br>MESSAGEix-GLOBIOM_1.1|EN_NPi2020_600",
          "IND: 167.5<br>MESSAGEix-GLOBIOM_1.1|EN_NPi2020_600_DR2p",
          "IND: 199.3<br>MESSAGEix-GLOBIOM_1.1|EN_NPi2020_600_DR1p",
          "IND: 163.4<br>MESSAGEix-GLOBIOM_1.1|EN_NPi2020_600f_DR2p",
          "IND: 190.9<br>MESSAGEix-GLOBIOM_1.1|EN_NPi2020_600f_DR1p",
          "IND: 164.9<br>MESSAGEix-GLOBIOM_1.1|EN_INDCi2030_700f_NDCp",
          "IND: 197.5<br>MESSAGEix-GLOBIOM_1.1|EN_INDCi2030_700f",
          "IND: 129.5<br>MESSAGEix-GLOBIOM_1.1|EN_INDCi2030_700f_COV",
          "IND: 157.0<br>MESSAGEix-GLOBIOM_1.1|EN_INDCi2030_700f_COV_NDCp",
          "IND: 198.0<br>MESSAGEix-GLOBIOM_1.1|EN_NPi2020_700f_COV",
          "IND: 144.9<br>MESSAGEix-GLOBIOM_1.1|EN_NPi2020_700f",
          "IND: 215.2<br>MESSAGEix-GLOBIOM_1.1|EN_NPi2020_700_COV",
          "IND: 214.6<br>MESSAGEix-GLOBIOM_1.1|EN_NPi2020_700",
          "IND: 253.2<br>MESSAGEix-GLOBIOM_1.2|COV_GreenPush_550",
          "IND: 202.1<br>MESSAGEix-GLOBIOM_1.2|COV_NoPolicyNoCOVID_550",
          "IND: 242.3<br>MESSAGEix-GLOBIOM_1.2|COV_Restore_550",
          "IND: 191.2<br>MESSAGEix-GLOBIOM_1.2|COV_SelfReliance_550",
          "IND: 243.9<br>MESSAGEix-GLOBIOM_1.2|COV_SmartUse_550",
          "IND: 257.1<br>MESSAGEix-GLOBIOM_GEI 1.0|SSP2_int_mc_50",
          "IND: 223.8<br>MESSAGEix-GLOBIOM_GEI 1.0|SSP2_noint_mc_50",
          "IND: nan<br>MESSAGEix-GLOBIOM_GEI 1.0|SSP2_openres_lc_100",
          "IND: nan<br>MESSAGEix-GLOBIOM_GEI 1.0|SSP2_openres_lc_120",
          "IND: nan<br>MESSAGEix-GLOBIOM_GEI 1.0|SSP2_openres_lc_80",
          "IND: 200.5<br>MESSAGEix-GLOBIOM_GEI 1.0|SSP2_openres_lc_CB400",
          "IND: 192.1<br>MESSAGEix-GLOBIOM_GEI 1.0|SSP2_openres_lc_CB450",
          "IND: 187.9<br>MESSAGEix-GLOBIOM_GEI 1.0|SSP2_openres_lc_CB500",
          "IND: 189.8<br>MESSAGEix-GLOBIOM_GEI 1.0|SSP2_openres_lc_CB550",
          "IND: 128.7<br>MESSAGEix-GLOBIOM_GEI 1.0|SSP2_openres_lc_CB600",
          "IND: 257.1<br>MESSAGEix-GLOBIOM_GEI 1.0|SSP2_openres_mc_50",
          "IND: 243.9<br>POLES ADVANCE|ADVANCE_2020_1.5C-2100",
          "IND: 234.1<br>POLES ADVANCE|ADVANCE_2020_WB2C",
          "IND: 234.4<br>POLES ADVANCE|ADVANCE_2030_1.5C-2100",
          "IND: 199.6<br>POLES ADVANCE|ADVANCE_2030_Price1.5C",
          "IND: 216.3<br>POLES ADVANCE|ADVANCE_2030_WB2C",
          "IND: 193.4<br>POLES EMF30|EMF30_Slower-to-faster",
          "IND: 197.8<br>POLES EMF33|EMF33_WB2C_cost100",
          "IND: 121.4<br>POLES EMF33|EMF33_WB2C_full",
          "IND: 133.0<br>POLES EMF33|EMF33_WB2C_nofuel",
          "IND: 152.2<br>POLES ENGAGE|EN_INDCi2030_300f",
          "IND: 153.7<br>POLES ENGAGE|EN_INDCi2030_400f",
          "IND: 176.6<br>POLES ENGAGE|EN_NPi2020_300f",
          "IND: 180.5<br>POLES ENGAGE|EN_NPi2020_400f",
          "IND: 183.5<br>POLES GECO2019|CO_Bridge",
          "IND: 184.5<br>REMIND 1.7|ADVANCE_2020_1.5C-2100",
          "IND: 185.4<br>REMIND 1.7|ADVANCE_2020_WB2C",
          "IND: 187.4<br>REMIND 1.7|ADVANCE_2030_1.5C-2100",
          "IND: 188.9<br>REMIND 1.7|ADVANCE_2030_Price1.5C",
          "IND: 189.8<br>REMIND 1.7|ADVANCE_2030_WB2C",
          "IND: 188.1<br>REMIND 1.7|CEMICS-1.5-CDR12",
          "IND: 148.2<br>REMIND 1.7|CEMICS-1.5-CDR20",
          "IND: 152.2<br>REMIND 1.7|CEMICS-1.5-CDR8",
          "IND: 126.1<br>REMIND 1.7|CEMICS-2.0-CDR12",
          "IND: 157.4<br>REMIND 1.7|CEMICS-2.0-CDR20",
          "IND: 133.9<br>REMIND 1.7|CEMICS-2.0-CDR8",
          "IND: 160.5<br>REMIND 2.1|CEMICS_GDPgrowth_1p5",
          "IND: 149.1<br>REMIND 2.1|CEMICS_HotellingConst_1p5",
          "IND: 175.5<br>REMIND 2.1|CEMICS_Linear_1p5",
          "IND: 167.8<br>REMIND 2.1|CEMICS_opt_1p5",
          "IND: 172.9<br>REMIND 2.1|LeastTotalCost_LTC_brkLR15_SSP1_P50",
          "IND: 156.5<br>REMIND 2.1|LeastTotalCost_LTC_brkSR15_SSP1_P50",
          "IND: 164.7<br>REMIND 2.1|R2p1_SSP1-PkBudg1100",
          "IND: 160.5<br>REMIND 2.1|R2p1_SSP1-PkBudg1300",
          "IND: 159.6<br>REMIND 2.1|R2p1_SSP1-PkBudg900",
          "IND: 137.3<br>REMIND 2.1|R2p1_SSP2-PkBudg900",
          "IND: 127.8<br>REMIND 2.1|R2p1_SSP5-PkBudg1100",
          "IND: 156.8<br>REMIND 2.1|R2p1_SSP5-PkBudg900",
          "IND: 184.0<br>REMIND-Buildings 2.0|BEG-Budg600",
          "IND: 233.2<br>REMIND-Buildings 2.0|BEG-Budg600-EG",
          "IND: 177.9<br>REMIND-MAgPIE 1.5|SSP1-19",
          "IND: 131.3<br>REMIND-MAgPIE 1.5|SSP2-19",
          "IND: 124.9<br>REMIND-MAgPIE 1.5|SSP5-19",
          "IND: 126.5<br>REMIND-MAgPIE 1.7-3.0|CD-LINKS_INDC2030i_1000",
          "IND: 130.1<br>REMIND-MAgPIE 1.7-3.0|CD-LINKS_INDC2030i_400",
          "IND: 126.4<br>REMIND-MAgPIE 1.7-3.0|CD-LINKS_NPi2020_1000",
          "IND: 135.3<br>REMIND-MAgPIE 1.7-3.0|CD-LINKS_NPi2020_400"
         ],
         "type": "box",
         "whiskerwidth": 0.4,
         "xaxis": "x15",
         "y": [
          75.940118,
          82.7787496,
          89.96428329999999,
          94.02516050000001,
          97.6115339,
          204.21509896527246,
          208.84441089018466,
          196.6699882361288,
          199.08873477760721,
          208.50164737951133,
          101.66719840510001,
          118.93221452817501,
          85.23922144021806,
          34.89068776881395,
          45.84872890053344,
          58.111037107362854,
          71.06852765708437,
          84.66968619325564,
          98.31880938423421,
          154.17509657977286,
          92.4477747703029,
          77.50316887993839,
          69.52645500317749,
          70.64473685627325,
          79.90236200623507,
          105.30214296077382,
          44.48621981379249,
          67.06916621197763,
          61.39288436646468,
          78.26474956712394,
          80.85895992499128,
          74.79868376778968,
          78.67948886895117,
          122.1904761018753,
          115.37966473388671,
          140.20520538330078,
          130.5470125732422,
          103.47653063964843,
          153.00783569335937,
          111.04692404174804,
          136.08442639160157,
          116.65128381347657,
          124.63703375244141,
          142.18093408203126,
          115.27415551757812,
          100.80998100280762,
          105.87712329220771,
          194.04876259197886,
          196.7549010732618,
          198.96936882839947,
          217.13114852552678,
          220.13292812650056,
          201.17023767733636,
          127.45080104231913,
          143.9005682924171,
          163.0920649756271,
          172.74991899855019,
          169.13297558753194,
          192.01049826967773,
          178.17142447572994,
          205.4681937533895,
          225.8150688306838,
          195.71852966988016,
          214.91189837937662,
          214.86377980140392,
          216.01050391026007,
          215.90538614332016,
          190.32819523565325,
          206.03804643471722,
          171.49600279178605,
          208.16143420818966,
          202.96736673348974,
          200.5680298860576,
          200.4745258770546,
          221.8384399080061,
          239.60076290694633,
          203.24237502410253,
          224.29465449021083,
          239.79405257049999,
          247.8273482935,
          188.81957412585908,
          205.41475757560377,
          192.06984751795054,
          192.06228356679108,
          190.04990752060564,
          106.0965481262207,
          111.61815454101563,
          68.97179458618164,
          81.79808123779297,
          76.4477165222168,
          112.50449995,
          153.73723545,
          167.53161054999998,
          199.3196927,
          163.4436675,
          190.9135487,
          164.88948620000002,
          197.45290154999998,
          129.4884634,
          156.96072294999996,
          198.02166210000001,
          144.93830555000002,
          215.22351934999998,
          214.56693170000003,
          253.19058729999998,
          202.11979799999997,
          242.323676,
          191.1940051,
          243.92500490000003,
          257.07244285,
          223.75727905000002,
          null,
          null,
          null,
          200.52704680000002,
          192.0578874,
          187.93374310000002,
          189.84127049999998,
          128.66697455,
          257.07244285,
          243.92500490000003,
          234.0510687,
          234.3542361,
          199.58061070000002,
          216.30956645,
          193.36872845000002,
          197.81956629999996,
          121.4328696,
          132.98885620000001,
          152.19109880000005,
          153.7481872,
          176.58146145,
          180.52984695,
          183.49364834999997,
          184.49940329999998,
          185.4105055,
          187.443933,
          188.94219445,
          189.80941894999998,
          188.07297724999998,
          148.22074535,
          152.1870504,
          126.0776045,
          157.4316918,
          133.9379924,
          160.49928825,
          149.14982494999998,
          175.52466125,
          167.78255234999997,
          172.93560924999997,
          156.47564695000003,
          164.7242268,
          160.5140529,
          159.56333395000004,
          137.32336924999998,
          127.812284,
          156.8082521,
          184.04238490000003,
          233.21613970000004,
          177.9359823,
          131.3194507894744,
          124.92451143212485,
          126.49318926658442,
          130.06347859234432,
          126.37377841740745,
          135.29521982203593
         ],
         "yaxis": "y15"
        },
        {
         "line": {
          "color": "tomato",
          "dash": "dot",
          "width": 2
         },
         "mode": "lines",
         "showlegend": false,
         "type": "scatter",
         "x": [
          "GF",
          "GF"
         ],
         "xaxis": "x15",
         "y": [
          164.88948620000002,
          93.22871357065476
         ],
         "yaxis": "y15"
        },
        {
         "marker": {
          "color": "tomato",
          "line": {
           "color": "black",
           "width": 1.5
          },
          "size": 13,
          "symbol": "triangle-down"
         },
         "mode": "markers+text",
         "showlegend": false,
         "text": "-<b>$",
         "textfont": {
          "color": "tomato"
         },
         "textposition": "middle left",
         "type": "scatter",
         "x": [
          "GF"
         ],
         "xaxis": "x15",
         "y": [
          93.22871357065476
         ],
         "yaxis": "y15"
        },
        {
         "line": {
          "color": "forestgreen",
          "dash": "dot",
          "width": 2
         },
         "mode": "lines",
         "showlegend": false,
         "type": "scatter",
         "x": [
          "PC",
          "PC"
         ],
         "xaxis": "x15",
         "y": [
          164.88948620000002,
          211.62316361197696
         ],
         "yaxis": "y15"
        },
        {
         "marker": {
          "color": "forestgreen",
          "line": {
           "color": "black",
           "width": 1.5
          },
          "size": 13,
          "symbol": "triangle-up"
         },
         "mode": "markers+text",
         "showlegend": false,
         "text": "+<b>$",
         "textfont": {
          "color": "forestgreen"
         },
         "textposition": "middle left",
         "type": "scatter",
         "x": [
          "PC"
         ],
         "xaxis": "x15",
         "y": [
          211.62316361197696
         ],
         "yaxis": "y15"
        },
        {
         "line": {
          "color": "grey",
          "dash": "dot",
          "width": 2
         },
         "mode": "lines",
         "showlegend": false,
         "type": "scatter",
         "x": [
          "PCC",
          "PCC"
         ],
         "xaxis": "x15",
         "y": [
          164.88948620000002,
          168.02656467856002
         ],
         "yaxis": "y15"
        },
        {
         "marker": {
          "color": "grey",
          "line": {
           "color": "black",
           "width": 1.5
          },
          "size": 10,
          "symbol": "square"
         },
         "mode": "markers+text",
         "showlegend": false,
         "text": "~<b>$",
         "textfont": {
          "color": "grey"
         },
         "textposition": "middle left",
         "type": "scatter",
         "x": [
          "PCC"
         ],
         "xaxis": "x15",
         "y": [
          168.02656467856002
         ],
         "yaxis": "y15"
        },
        {
         "line": {
          "color": "forestgreen",
          "dash": "dot",
          "width": 2
         },
         "mode": "lines",
         "showlegend": false,
         "type": "scatter",
         "x": [
          "AP",
          "AP"
         ],
         "xaxis": "x15",
         "y": [
          164.88948620000002,
          232.06022210641697
         ],
         "yaxis": "y15"
        },
        {
         "marker": {
          "color": "forestgreen",
          "line": {
           "color": "black",
           "width": 1.5
          },
          "size": 13,
          "symbol": "triangle-up"
         },
         "mode": "markers+text",
         "showlegend": false,
         "text": "+<b>$",
         "textfont": {
          "color": "forestgreen"
         },
         "textposition": "middle left",
         "type": "scatter",
         "x": [
          "AP"
         ],
         "xaxis": "x15",
         "y": [
          232.06022210641697
         ],
         "yaxis": "y15"
        },
        {
         "line": {
          "color": "forestgreen",
          "dash": "dot",
          "width": 2
         },
         "mode": "lines",
         "showlegend": false,
         "type": "scatter",
         "x": [
          "GDR",
          "GDR"
         ],
         "xaxis": "x15",
         "y": [
          164.88948620000002,
          532.6151290245401
         ],
         "yaxis": "y15"
        },
        {
         "marker": {
          "color": "forestgreen",
          "line": {
           "color": "black",
           "width": 1.5
          },
          "size": 13,
          "symbol": "triangle-up"
         },
         "mode": "markers+text",
         "showlegend": false,
         "text": "+<b>$",
         "textfont": {
          "color": "forestgreen"
         },
         "textposition": "middle left",
         "type": "scatter",
         "x": [
          "GDR"
         ],
         "xaxis": "x15",
         "y": [
          532.6151290245401
         ],
         "yaxis": "y15"
        },
        {
         "line": {
          "color": "forestgreen",
          "dash": "dot",
          "width": 2
         },
         "mode": "lines",
         "showlegend": false,
         "type": "scatter",
         "x": [
          "ECPC",
          "ECPC"
         ],
         "xaxis": "x15",
         "y": [
          164.88948620000002,
          340.0826510004524
         ],
         "yaxis": "y15"
        },
        {
         "marker": {
          "color": "forestgreen",
          "line": {
           "color": "black",
           "width": 1.5
          },
          "size": 13,
          "symbol": "triangle-up"
         },
         "mode": "markers+text",
         "showlegend": false,
         "text": "+<b>$",
         "textfont": {
          "color": "forestgreen"
         },
         "textposition": "middle left",
         "type": "scatter",
         "x": [
          "ECPC"
         ],
         "xaxis": "x15",
         "y": [
          340.0826510004524
         ],
         "yaxis": "y15"
        },
        {
         "boxpoints": "all",
         "fillcolor": "rgb(214, 189, 141)",
         "jitter": 0.5,
         "line": {
          "color": "black",
          "width": 1.5
         },
         "marker": {
          "color": "grey",
          "size": 3
         },
         "name": "Japan",
         "pointpos": -1.8,
         "showlegend": false,
         "type": "box",
         "whiskerwidth": 0.4,
         "xaxis": "x16",
         "y": [
          1.4902598864601155,
          1.4635575993996135,
          1.4472526217103052,
          1.4441395665687906,
          1.420758185791946,
          null,
          null,
          null,
          null,
          null,
          null,
          null,
          null,
          null,
          null,
          null,
          null,
          null,
          null,
          null,
          null,
          null,
          null,
          null,
          null,
          null,
          null,
          null,
          null,
          null,
          null,
          null,
          null,
          null,
          null,
          null,
          null,
          null,
          null,
          null,
          null,
          null,
          null,
          null,
          null,
          null,
          null,
          null,
          null,
          null,
          null,
          null,
          null,
          null,
          null,
          null,
          null,
          null,
          null,
          null,
          null,
          null,
          null,
          null,
          null,
          null,
          null,
          null,
          null,
          null,
          null,
          null,
          null,
          null,
          null,
          null,
          null,
          null,
          null,
          null,
          null,
          null,
          null,
          null,
          null,
          null,
          null,
          null,
          null,
          null,
          null,
          null,
          null,
          null,
          null,
          null,
          null,
          null,
          null,
          null,
          null,
          null,
          null,
          null,
          null,
          null,
          null,
          null,
          1.1114080495619691,
          2.2649579920934575,
          0.9136783263826057,
          null,
          null,
          null,
          null,
          null,
          null,
          null,
          null,
          null,
          null,
          null,
          null,
          null,
          null,
          null,
          null,
          null,
          null,
          null,
          null,
          null,
          null,
          null,
          null,
          null,
          null,
          null,
          null,
          null,
          null,
          null,
          null,
          null,
          null,
          null,
          null,
          null,
          null,
          null,
          null,
          null,
          null,
          null,
          null,
          null,
          null,
          -1.1703410624264214,
          -0.6666613599884503,
          -1.3459506912303503,
          null,
          null,
          null,
          null,
          null,
          null
         ],
         "yaxis": "y16"
        },
        {
         "boxpoints": "all",
         "fillcolor": "rgb(237, 234, 194)",
         "jitter": 0.5,
         "line": {
          "color": "black",
          "width": 1.5
         },
         "marker": {
          "color": "grey",
          "size": 3
         },
         "name": "China",
         "pointpos": -1.8,
         "showlegend": false,
         "type": "box",
         "whiskerwidth": 0.4,
         "xaxis": "x16",
         "y": [
          3.906870680755372,
          3.7422525995329132,
          3.6220406738905675,
          3.721155188943044,
          3.4836412304462696,
          null,
          null,
          null,
          null,
          null,
          null,
          null,
          null,
          null,
          null,
          null,
          null,
          null,
          null,
          null,
          null,
          null,
          null,
          null,
          null,
          null,
          null,
          null,
          null,
          null,
          null,
          null,
          null,
          null,
          null,
          null,
          null,
          null,
          null,
          null,
          null,
          null,
          null,
          null,
          null,
          null,
          null,
          null,
          null,
          null,
          null,
          null,
          null,
          null,
          null,
          null,
          null,
          null,
          null,
          null,
          null,
          null,
          null,
          null,
          null,
          null,
          null,
          null,
          null,
          null,
          null,
          null,
          null,
          null,
          null,
          null,
          null,
          null,
          null,
          null,
          null,
          null,
          null,
          null,
          null,
          null,
          null,
          null,
          null,
          null,
          null,
          null,
          null,
          null,
          null,
          null,
          null,
          null,
          null,
          null,
          null,
          null,
          null,
          null,
          null,
          null,
          null,
          null,
          0.5352974169131348,
          1.1137022899091633,
          0.8124648656391172,
          null,
          null,
          null,
          null,
          null,
          null,
          null,
          null,
          null,
          null,
          null,
          null,
          null,
          null,
          null,
          null,
          null,
          null,
          null,
          null,
          null,
          null,
          null,
          null,
          null,
          null,
          null,
          null,
          null,
          null,
          null,
          null,
          null,
          null,
          null,
          null,
          null,
          null,
          null,
          null,
          null,
          null,
          null,
          null,
          null,
          null,
          -0.5309923597849258,
          -0.4318473491798108,
          -0.6898723250065631,
          2.2898489311063894,
          1.6737033105588355,
          2.4682702328132233,
          1.5230745451104328,
          2.562433322921277,
          1.392853721915688
         ],
         "yaxis": "y16"
        },
        {
         "boxpoints": "all",
         "fillcolor": "rgb(189, 146, 90)",
         "jitter": 0.5,
         "line": {
          "color": "black",
          "width": 1.5
         },
         "marker": {
          "color": "grey",
          "size": 3
         },
         "name": "European<br>Union",
         "pointpos": -1.8,
         "showlegend": false,
         "type": "box",
         "whiskerwidth": 0.4,
         "xaxis": "x16",
         "y": [
          2.34992022713001,
          2.315607249531387,
          2.2505780000662137,
          2.2015931594645255,
          2.1671111589824092,
          null,
          null,
          null,
          null,
          null,
          null,
          null,
          null,
          null,
          null,
          null,
          null,
          null,
          null,
          null,
          null,
          null,
          null,
          null,
          null,
          null,
          null,
          null,
          null,
          null,
          null,
          null,
          null,
          null,
          null,
          null,
          null,
          null,
          null,
          null,
          null,
          null,
          null,
          null,
          null,
          null,
          null,
          null,
          null,
          null,
          null,
          null,
          null,
          null,
          null,
          null,
          null,
          null,
          null,
          null,
          null,
          null,
          null,
          null,
          null,
          null,
          null,
          null,
          null,
          null,
          null,
          null,
          null,
          null,
          null,
          null,
          null,
          null,
          null,
          null,
          null,
          null,
          null,
          null,
          null,
          null,
          null,
          null,
          null,
          null,
          null,
          null,
          null,
          null,
          null,
          null,
          null,
          null,
          null,
          null,
          null,
          null,
          null,
          null,
          null,
          null,
          null,
          null,
          0.5075604471446267,
          1.9292677320503888,
          0.8099853217521024,
          null,
          null,
          null,
          null,
          null,
          null,
          null,
          null,
          null,
          null,
          null,
          null,
          null,
          null,
          null,
          null,
          null,
          null,
          null,
          null,
          null,
          null,
          null,
          null,
          null,
          null,
          null,
          null,
          null,
          null,
          null,
          null,
          null,
          null,
          null,
          null,
          null,
          null,
          null,
          null,
          null,
          null,
          null,
          null,
          null,
          null,
          -0.47273140796989543,
          -0.3672696146759562,
          -0.49116256155251004,
          2.5004993230079893,
          1.9290506523872795,
          1.8223611241181477,
          1.7722662807156144,
          1.8962412884759183,
          1.6439146242930627
         ],
         "yaxis": "y16"
        },
        {
         "boxpoints": "all",
         "fillcolor": "rgb(189, 146, 90)",
         "jitter": 0.5,
         "line": {
          "color": "black",
          "width": 1.5
         },
         "marker": {
          "color": "grey",
          "size": 3
         },
         "name": "United<br>States<br>of<br>America",
         "pointpos": -1.8,
         "showlegend": false,
         "type": "box",
         "whiskerwidth": 0.4,
         "xaxis": "x16",
         "y": [
          2.900521532018118,
          2.8017155682063533,
          2.700283261475716,
          2.635373650252589,
          2.6063005496570915,
          null,
          null,
          null,
          null,
          null,
          null,
          null,
          null,
          null,
          null,
          null,
          null,
          null,
          null,
          null,
          null,
          null,
          null,
          null,
          null,
          null,
          null,
          null,
          null,
          null,
          null,
          null,
          null,
          null,
          null,
          null,
          null,
          null,
          null,
          null,
          null,
          null,
          null,
          null,
          null,
          null,
          null,
          null,
          null,
          null,
          null,
          null,
          null,
          null,
          null,
          null,
          null,
          null,
          null,
          null,
          null,
          null,
          null,
          null,
          null,
          null,
          null,
          null,
          null,
          null,
          null,
          null,
          null,
          null,
          null,
          null,
          null,
          null,
          null,
          null,
          null,
          null,
          null,
          null,
          null,
          null,
          null,
          null,
          null,
          null,
          null,
          null,
          null,
          null,
          null,
          null,
          null,
          null,
          null,
          null,
          null,
          null,
          null,
          null,
          null,
          null,
          null,
          null,
          1.6456249245719907,
          2.7036216485394338,
          1.3952801154171124,
          null,
          null,
          null,
          null,
          null,
          null,
          null,
          null,
          null,
          null,
          null,
          null,
          null,
          null,
          null,
          null,
          null,
          null,
          null,
          null,
          null,
          null,
          null,
          null,
          null,
          null,
          null,
          null,
          null,
          null,
          null,
          null,
          null,
          null,
          null,
          null,
          null,
          null,
          null,
          null,
          null,
          null,
          null,
          null,
          null,
          null,
          -0.9157530785780148,
          -0.5523084795311441,
          -1.132654215945424,
          4.7703357216114295,
          4.198691069692735,
          3.096095325892241,
          4.027603532431736,
          3.0073687189973852,
          3.875612356781351
         ],
         "yaxis": "y16"
        },
        {
         "boxpoints": "all",
         "fillcolor": "rgb(40, 135, 161)",
         "jitter": 0.5,
         "line": {
          "color": "black",
          "width": 1.5
         },
         "marker": {
          "color": "grey",
          "size": 3
         },
         "name": "Brazil",
         "pointpos": -1.8,
         "showlegend": false,
         "type": "box",
         "whiskerwidth": 0.4,
         "xaxis": "x16",
         "y": [
          4.337598984267938,
          4.174107117635572,
          4.045516085758721,
          3.9793773275071724,
          3.9115272624679434,
          null,
          null,
          null,
          null,
          null,
          null,
          null,
          null,
          null,
          null,
          null,
          null,
          null,
          null,
          null,
          null,
          null,
          null,
          null,
          null,
          null,
          null,
          null,
          null,
          null,
          null,
          null,
          null,
          null,
          null,
          null,
          null,
          null,
          null,
          null,
          null,
          null,
          null,
          null,
          null,
          null,
          null,
          null,
          null,
          null,
          null,
          null,
          null,
          null,
          null,
          null,
          null,
          null,
          null,
          null,
          null,
          null,
          null,
          null,
          null,
          null,
          null,
          null,
          null,
          null,
          null,
          null,
          null,
          null,
          null,
          null,
          null,
          null,
          null,
          null,
          null,
          null,
          null,
          null,
          null,
          null,
          null,
          null,
          null,
          null,
          null,
          null,
          null,
          null,
          null,
          null,
          null,
          null,
          null,
          null,
          null,
          null,
          null,
          null,
          null,
          null,
          null,
          null,
          null,
          null,
          null,
          null,
          null,
          null,
          null,
          null,
          null,
          null,
          null,
          null,
          null,
          null,
          null,
          null,
          null,
          null,
          null,
          null,
          null,
          null,
          null,
          null,
          null,
          null,
          null,
          null,
          null,
          null,
          null,
          null,
          null,
          null,
          null,
          null,
          null,
          null,
          null,
          null,
          null,
          null,
          null,
          null,
          null,
          null,
          null,
          null,
          null,
          null,
          null,
          null,
          2.9332309520689526,
          2.8945325623144025,
          0.3777598673311767,
          2.8461287674160842,
          -1.0268251238555164,
          2.7639723742430675
         ],
         "yaxis": "y16"
        },
        {
         "boxpoints": "all",
         "fillcolor": "rgb(121, 167, 172)",
         "jitter": 0.5,
         "line": {
          "color": "black",
          "width": 1.5
         },
         "marker": {
          "color": "grey",
          "size": 3
         },
         "name": "India",
         "pointpos": -1.8,
         "showlegend": false,
         "type": "box",
         "whiskerwidth": 0.4,
         "xaxis": "x16",
         "y": [
          23.197874207218153,
          22.22039706687401,
          21.422974634916944,
          20.95871194921753,
          20.638780431701907,
          null,
          null,
          null,
          null,
          null,
          null,
          null,
          null,
          null,
          null,
          null,
          null,
          null,
          null,
          null,
          null,
          null,
          null,
          null,
          null,
          null,
          null,
          null,
          null,
          null,
          null,
          null,
          null,
          null,
          null,
          null,
          null,
          null,
          null,
          null,
          null,
          null,
          null,
          null,
          null,
          null,
          null,
          null,
          null,
          null,
          null,
          null,
          null,
          null,
          null,
          null,
          null,
          null,
          null,
          null,
          null,
          null,
          null,
          null,
          null,
          null,
          null,
          null,
          null,
          null,
          null,
          null,
          null,
          null,
          null,
          null,
          null,
          null,
          null,
          null,
          null,
          null,
          null,
          null,
          null,
          null,
          null,
          null,
          null,
          null,
          null,
          null,
          null,
          null,
          null,
          null,
          null,
          null,
          null,
          null,
          null,
          null,
          null,
          null,
          null,
          null,
          null,
          null,
          -0.1381831359107816,
          3.464368616777837,
          1.2324136448225786,
          null,
          null,
          null,
          null,
          null,
          null,
          null,
          null,
          null,
          null,
          null,
          null,
          null,
          null,
          null,
          null,
          null,
          null,
          null,
          null,
          null,
          null,
          null,
          null,
          null,
          null,
          null,
          null,
          null,
          null,
          null,
          null,
          null,
          null,
          null,
          null,
          null,
          null,
          null,
          null,
          null,
          null,
          null,
          null,
          null,
          null,
          -2.7754998650985376,
          -2.8075529047608203,
          -4.792265903371669,
          4.750728310931209,
          3.3115761210870756,
          4.165434863086935,
          2.9841807318874967,
          4.696934160991323,
          2.692983310035719
         ],
         "yaxis": "y16"
        },
        {
         "boxpoints": "all",
         "fillcolor": "rgb(181, 200, 184)",
         "jitter": 0.5,
         "line": {
          "color": "black",
          "width": 1.5
         },
         "marker": {
          "color": "grey",
          "size": 3
         },
         "name": "Indonesia",
         "pointpos": -1.8,
         "showlegend": false,
         "type": "box",
         "whiskerwidth": 0.4,
         "xaxis": "x16",
         "y": [
          null,
          null,
          null,
          null,
          null,
          null,
          null,
          null,
          null,
          null,
          null,
          null,
          null,
          null,
          null,
          null,
          null,
          null,
          null,
          null,
          null,
          null,
          null,
          null,
          null,
          null,
          null,
          null,
          null,
          null,
          null,
          null,
          null,
          null,
          null,
          null,
          null,
          null,
          null,
          null,
          null,
          null,
          null,
          null,
          null,
          null,
          null,
          null,
          null,
          null,
          null,
          null,
          null,
          null,
          null,
          null,
          null,
          null,
          null,
          null,
          null,
          null,
          null,
          null,
          null,
          null,
          null,
          null,
          null,
          null,
          null,
          null,
          null,
          null,
          null,
          null,
          null,
          null,
          null,
          null,
          null,
          null,
          null,
          null,
          null,
          null,
          null,
          null,
          null,
          null,
          null,
          null,
          null,
          null,
          null,
          null,
          null,
          null,
          null,
          null,
          null,
          null,
          null,
          null,
          null,
          null,
          null,
          null,
          null,
          null,
          null,
          null,
          null,
          null,
          null,
          null,
          null,
          null,
          null,
          null,
          null,
          null,
          null,
          null,
          null,
          null,
          null,
          null,
          null,
          null,
          null,
          null,
          null,
          null,
          null,
          null,
          null,
          null,
          null,
          null,
          null,
          null,
          null,
          null,
          null,
          null,
          null,
          null,
          null,
          null,
          null,
          null,
          null,
          null,
          null,
          null,
          null,
          null,
          null,
          null,
          4.47622325584941,
          4.320486149786984,
          5.577434437666794,
          4.093939117682546,
          5.806843947736241,
          3.978478836744884
         ],
         "yaxis": "y16"
        },
        {
         "boxpoints": "all",
         "fillcolor": "rgb(237, 234, 194)",
         "jitter": 0.5,
         "line": {
          "color": "black",
          "width": 1.5
         },
         "marker": {
          "color": "grey",
          "size": 3
         },
         "name": "Russian<br>Federation",
         "pointpos": -1.8,
         "showlegend": false,
         "type": "box",
         "whiskerwidth": 0.4,
         "xaxis": "x16",
         "y": [
          6.342708476912284,
          6.187127344040098,
          6.028269246637262,
          6.433439860460377,
          5.8793969804161375,
          null,
          null,
          null,
          null,
          null,
          null,
          null,
          null,
          null,
          null,
          null,
          null,
          null,
          null,
          null,
          null,
          null,
          null,
          null,
          null,
          null,
          null,
          null,
          null,
          null,
          null,
          null,
          null,
          null,
          null,
          null,
          null,
          null,
          null,
          null,
          null,
          null,
          null,
          null,
          null,
          null,
          null,
          null,
          null,
          null,
          null,
          null,
          null,
          null,
          null,
          null,
          null,
          null,
          null,
          null,
          null,
          null,
          null,
          null,
          null,
          null,
          null,
          null,
          null,
          null,
          null,
          null,
          null,
          null,
          null,
          null,
          null,
          null,
          null,
          null,
          null,
          null,
          null,
          null,
          null,
          null,
          null,
          null,
          null,
          null,
          null,
          null,
          null,
          null,
          null,
          null,
          null,
          null,
          null,
          null,
          null,
          null,
          null,
          null,
          null,
          null,
          null,
          null,
          1.4219532812781357,
          5.256122722910324,
          2.276924336337988,
          null,
          null,
          null,
          null,
          null,
          null,
          null,
          null,
          null,
          null,
          null,
          null,
          null,
          null,
          null,
          null,
          null,
          null,
          null,
          null,
          null,
          null,
          null,
          null,
          null,
          null,
          null,
          null,
          null,
          null,
          null,
          null,
          null,
          null,
          null,
          null,
          null,
          null,
          null,
          null,
          null,
          null,
          null,
          null,
          null,
          null,
          -2.998244230072985,
          -2.3553982816933106,
          -3.767533139462314,
          null,
          null,
          null,
          null,
          null,
          null
         ],
         "yaxis": "y16"
        },
        {
         "boxpoints": "all",
         "fillcolor": "rgb(121, 167, 172)",
         "jitter": 0.5,
         "line": {
          "color": "black",
          "width": 1.5
         },
         "marker": {
          "color": "grey",
          "size": 3
         },
         "name": "South<br>Africa",
         "pointpos": -1.8,
         "showlegend": false,
         "type": "box",
         "whiskerwidth": 0.4,
         "xaxis": "x16",
         "y": [
          null,
          null,
          null,
          null,
          null,
          null,
          null,
          null,
          null,
          null,
          null,
          null,
          null,
          null,
          null,
          null,
          null,
          null,
          null,
          null,
          null,
          null,
          null,
          null,
          null,
          null,
          null,
          null,
          null,
          null,
          null,
          null,
          null,
          null,
          null,
          null,
          null,
          null,
          null,
          null,
          null,
          null,
          null,
          null,
          null,
          null,
          null,
          null,
          null,
          null,
          null,
          null,
          null,
          null,
          null,
          null,
          null,
          null,
          null,
          null,
          null,
          null,
          null,
          null,
          null,
          null,
          null,
          null,
          null,
          null,
          null,
          null,
          null,
          null,
          null,
          null,
          null,
          null,
          null,
          null,
          null,
          null,
          null,
          null,
          null,
          null,
          null,
          null,
          null,
          null,
          null,
          null,
          null,
          null,
          null,
          null,
          null,
          null,
          null,
          null,
          null,
          null,
          null,
          null,
          null,
          null,
          null,
          null,
          null,
          null,
          null,
          null,
          null,
          null,
          null,
          null,
          null,
          null,
          null,
          null,
          null,
          null,
          null,
          null,
          null,
          null,
          null,
          null,
          null,
          null,
          null,
          null,
          null,
          null,
          null,
          null,
          null,
          null,
          null,
          null,
          null,
          null,
          null,
          null,
          null,
          null,
          null,
          null,
          null,
          null,
          null,
          null,
          null,
          null,
          null,
          null,
          null,
          null,
          null,
          null,
          6.745368302237084,
          7.107235719097594,
          6.094301954533721,
          6.907992049326839,
          5.327115878633066,
          6.789360432471882
         ],
         "yaxis": "y16"
        },
        {
         "boxpoints": "all",
         "fillcolor": "rgb(40, 135, 161)",
         "jitter": 0.5,
         "line": {
          "color": "black",
          "width": 1.5
         },
         "marker": {
          "color": "grey",
          "size": 3
         },
         "name": "Mexico",
         "pointpos": -1.8,
         "showlegend": false,
         "type": "box",
         "whiskerwidth": 0.4,
         "xaxis": "x16",
         "y": [
          null,
          null,
          null,
          null,
          null,
          null,
          null,
          null,
          null,
          null,
          null,
          null,
          null,
          null,
          null,
          null,
          null,
          null,
          null,
          null,
          null,
          null,
          null,
          null,
          null,
          null,
          null,
          null,
          null,
          null,
          null,
          null,
          null,
          null,
          null,
          null,
          null,
          null,
          null,
          null,
          null,
          null,
          null,
          null,
          null,
          null,
          null,
          null,
          null,
          null,
          null,
          null,
          null,
          null,
          null,
          null,
          null,
          null,
          null,
          null,
          null,
          null,
          null,
          null,
          null,
          null,
          null,
          null,
          null,
          null,
          null,
          null,
          null,
          null,
          null,
          null,
          null,
          null,
          null,
          null,
          null,
          null,
          null,
          null,
          null,
          null,
          null,
          null,
          null,
          null,
          null,
          null,
          null,
          null,
          null,
          null,
          null,
          null,
          null,
          null,
          null,
          null,
          null,
          null,
          null,
          null,
          null,
          null,
          null,
          null,
          null,
          null,
          null,
          null,
          null,
          null,
          null,
          null,
          null,
          null,
          null,
          null,
          null,
          null,
          null,
          null,
          null,
          null,
          null,
          null,
          null,
          null,
          null,
          null,
          null,
          null,
          null,
          null,
          null,
          null,
          null,
          null,
          null,
          null,
          null,
          null,
          null,
          null,
          null,
          null,
          null,
          null,
          null,
          null,
          null,
          null,
          null,
          null,
          null,
          null,
          8.693626613661866,
          8.640339266144604,
          7.74058177289783,
          8.424925705853925,
          7.036718163216274,
          8.240491000709785
         ],
         "yaxis": "y16"
        },
        {
         "boxpoints": "all",
         "fillcolor": "rgb(237, 234, 194)",
         "jitter": 0.5,
         "line": {
          "color": "black",
          "width": 1.5
         },
         "marker": {
          "color": "grey",
          "size": 3
         },
         "name": "Canada",
         "pointpos": -1.8,
         "showlegend": false,
         "type": "box",
         "whiskerwidth": 0.4,
         "xaxis": "x16",
         "y": [
          null,
          null,
          null,
          null,
          null,
          null,
          null,
          null,
          null,
          null,
          null,
          null,
          null,
          null,
          null,
          null,
          null,
          null,
          null,
          null,
          null,
          null,
          null,
          null,
          null,
          null,
          null,
          null,
          null,
          null,
          null,
          null,
          null,
          null,
          null,
          null,
          null,
          null,
          null,
          null,
          null,
          null,
          null,
          null,
          null,
          null,
          null,
          null,
          null,
          null,
          null,
          null,
          null,
          null,
          null,
          null,
          null,
          null,
          null,
          null,
          null,
          null,
          null,
          null,
          null,
          null,
          null,
          null,
          null,
          null,
          null,
          null,
          null,
          null,
          null,
          null,
          null,
          null,
          null,
          null,
          null,
          null,
          null,
          null,
          null,
          null,
          null,
          null,
          null,
          null,
          null,
          null,
          null,
          null,
          null,
          null,
          null,
          null,
          null,
          null,
          null,
          null,
          null,
          null,
          null,
          null,
          null,
          null,
          null,
          null,
          null,
          null,
          null,
          null,
          null,
          null,
          null,
          null,
          null,
          null,
          null,
          null,
          null,
          null,
          null,
          null,
          null,
          null,
          null,
          null,
          null,
          null,
          null,
          null,
          null,
          null,
          null,
          null,
          null,
          null,
          null,
          null,
          null,
          null,
          null,
          null,
          null,
          null,
          null,
          null,
          null,
          null,
          null,
          null,
          null,
          null,
          null,
          null,
          null,
          null,
          25.709407921877567,
          27.08573864416562,
          14.236409873765767,
          26.64446522815673,
          10.29198270067046,
          26.26722206222932
         ],
         "yaxis": "y16"
        }
       ],
       "layout": {
        "annotations": [
         {
          "align": "left",
          "ax": 0,
          "ay": 0,
          "font": {
           "color": "black",
           "size": 18
          },
          "showarrow": false,
          "text": "<b>(a) Fair-share allocations less than cost-optimal</b><br>          (in number of effort-sharing approaches)",
          "x": 0.2,
          "xref": "paper",
          "y": 1.04,
          "yref": "paper"
         },
         {
          "align": "right",
          "ax": 0,
          "ay": 0,
          "font": {
           "color": "black",
           "size": 16
          },
          "showarrow": false,
          "text": "<b>(b) United States of America",
          "x": 0.01,
          "xref": "paper",
          "y": 0.38,
          "yref": "paper"
         },
         {
          "align": "right",
          "ax": 0,
          "ay": 0,
          "font": {
           "color": "black",
           "size": 16
          },
          "showarrow": false,
          "text": "<b>(c) Brazil",
          "x": 0.27,
          "xref": "paper",
          "y": 0.38,
          "yref": "paper"
         },
         {
          "align": "right",
          "ax": 0,
          "ay": 0,
          "font": {
           "color": "black",
           "size": 16
          },
          "showarrow": false,
          "text": "<b>(d) South-Africa",
          "x": 0.6,
          "xref": "paper",
          "y": 0.38,
          "yref": "paper"
         },
         {
          "align": "right",
          "ax": 0,
          "ay": 0,
          "font": {
           "color": "black",
           "size": 16
          },
          "showarrow": false,
          "text": "<b>(e) European Union",
          "x": 0.94,
          "xref": "paper",
          "y": 1.02,
          "yref": "paper"
         },
         {
          "align": "right",
          "ax": 0,
          "ay": 0,
          "font": {
           "color": "black",
           "size": 16
          },
          "showarrow": false,
          "text": "<b>(f) Russia",
          "x": 0.87,
          "xref": "paper",
          "y": 0.81,
          "yref": "paper"
         },
         {
          "align": "right",
          "ax": 0,
          "ay": 0,
          "font": {
           "color": "black",
           "size": 16
          },
          "showarrow": false,
          "text": "<b>(g) China",
          "x": 0.87,
          "xref": "paper",
          "y": 0.58,
          "yref": "paper"
         },
         {
          "align": "right",
          "ax": 0,
          "ay": 0,
          "font": {
           "color": "black",
           "size": 16
          },
          "showarrow": false,
          "text": "<b>(h) India",
          "x": 0.87,
          "xref": "paper",
          "y": 0.38,
          "yref": "paper"
         },
         {
          "align": "left",
          "ax": 0,
          "ay": 0,
          "font": {
           "color": "black",
           "size": 16
          },
          "showarrow": false,
          "text": "<b>(i) Policy costs over 2020-2100 in cost-optimal scenarios</b>",
          "x": 0.01,
          "xref": "paper",
          "y": 0.14,
          "yref": "paper"
         }
        ],
        "geo": {
         "domain": {
          "x": [
           0,
           0.7375
          ],
          "y": [
           0.42000000000000004,
           1
          ]
         },
         "lakecolor": "rgb(255, 255, 255)",
         "oceancolor": "aliceblue",
         "projection": {
          "type": "natural earth"
         },
         "showcoastlines": false,
         "showlakes": false,
         "showocean": true,
         "visible": true
        },
        "height": 1100,
        "template": {
         "data": {
          "bar": [
           {
            "error_x": {
             "color": "rgb(36,36,36)"
            },
            "error_y": {
             "color": "rgb(36,36,36)"
            },
            "marker": {
             "line": {
              "color": "white",
              "width": 0.5
             },
             "pattern": {
              "fillmode": "overlay",
              "size": 10,
              "solidity": 0.2
             }
            },
            "type": "bar"
           }
          ],
          "barpolar": [
           {
            "marker": {
             "line": {
              "color": "white",
              "width": 0.5
             },
             "pattern": {
              "fillmode": "overlay",
              "size": 10,
              "solidity": 0.2
             }
            },
            "type": "barpolar"
           }
          ],
          "carpet": [
           {
            "aaxis": {
             "endlinecolor": "rgb(36,36,36)",
             "gridcolor": "white",
             "linecolor": "white",
             "minorgridcolor": "white",
             "startlinecolor": "rgb(36,36,36)"
            },
            "baxis": {
             "endlinecolor": "rgb(36,36,36)",
             "gridcolor": "white",
             "linecolor": "white",
             "minorgridcolor": "white",
             "startlinecolor": "rgb(36,36,36)"
            },
            "type": "carpet"
           }
          ],
          "choropleth": [
           {
            "colorbar": {
             "outlinewidth": 1,
             "tickcolor": "rgb(36,36,36)",
             "ticks": "outside"
            },
            "type": "choropleth"
           }
          ],
          "contour": [
           {
            "colorbar": {
             "outlinewidth": 1,
             "tickcolor": "rgb(36,36,36)",
             "ticks": "outside"
            },
            "colorscale": [
             [
              0,
              "#440154"
             ],
             [
              0.1111111111111111,
              "#482878"
             ],
             [
              0.2222222222222222,
              "#3e4989"
             ],
             [
              0.3333333333333333,
              "#31688e"
             ],
             [
              0.4444444444444444,
              "#26828e"
             ],
             [
              0.5555555555555556,
              "#1f9e89"
             ],
             [
              0.6666666666666666,
              "#35b779"
             ],
             [
              0.7777777777777778,
              "#6ece58"
             ],
             [
              0.8888888888888888,
              "#b5de2b"
             ],
             [
              1,
              "#fde725"
             ]
            ],
            "type": "contour"
           }
          ],
          "contourcarpet": [
           {
            "colorbar": {
             "outlinewidth": 1,
             "tickcolor": "rgb(36,36,36)",
             "ticks": "outside"
            },
            "type": "contourcarpet"
           }
          ],
          "heatmap": [
           {
            "colorbar": {
             "outlinewidth": 1,
             "tickcolor": "rgb(36,36,36)",
             "ticks": "outside"
            },
            "colorscale": [
             [
              0,
              "#440154"
             ],
             [
              0.1111111111111111,
              "#482878"
             ],
             [
              0.2222222222222222,
              "#3e4989"
             ],
             [
              0.3333333333333333,
              "#31688e"
             ],
             [
              0.4444444444444444,
              "#26828e"
             ],
             [
              0.5555555555555556,
              "#1f9e89"
             ],
             [
              0.6666666666666666,
              "#35b779"
             ],
             [
              0.7777777777777778,
              "#6ece58"
             ],
             [
              0.8888888888888888,
              "#b5de2b"
             ],
             [
              1,
              "#fde725"
             ]
            ],
            "type": "heatmap"
           }
          ],
          "heatmapgl": [
           {
            "colorbar": {
             "outlinewidth": 1,
             "tickcolor": "rgb(36,36,36)",
             "ticks": "outside"
            },
            "colorscale": [
             [
              0,
              "#440154"
             ],
             [
              0.1111111111111111,
              "#482878"
             ],
             [
              0.2222222222222222,
              "#3e4989"
             ],
             [
              0.3333333333333333,
              "#31688e"
             ],
             [
              0.4444444444444444,
              "#26828e"
             ],
             [
              0.5555555555555556,
              "#1f9e89"
             ],
             [
              0.6666666666666666,
              "#35b779"
             ],
             [
              0.7777777777777778,
              "#6ece58"
             ],
             [
              0.8888888888888888,
              "#b5de2b"
             ],
             [
              1,
              "#fde725"
             ]
            ],
            "type": "heatmapgl"
           }
          ],
          "histogram": [
           {
            "marker": {
             "line": {
              "color": "white",
              "width": 0.6
             }
            },
            "type": "histogram"
           }
          ],
          "histogram2d": [
           {
            "colorbar": {
             "outlinewidth": 1,
             "tickcolor": "rgb(36,36,36)",
             "ticks": "outside"
            },
            "colorscale": [
             [
              0,
              "#440154"
             ],
             [
              0.1111111111111111,
              "#482878"
             ],
             [
              0.2222222222222222,
              "#3e4989"
             ],
             [
              0.3333333333333333,
              "#31688e"
             ],
             [
              0.4444444444444444,
              "#26828e"
             ],
             [
              0.5555555555555556,
              "#1f9e89"
             ],
             [
              0.6666666666666666,
              "#35b779"
             ],
             [
              0.7777777777777778,
              "#6ece58"
             ],
             [
              0.8888888888888888,
              "#b5de2b"
             ],
             [
              1,
              "#fde725"
             ]
            ],
            "type": "histogram2d"
           }
          ],
          "histogram2dcontour": [
           {
            "colorbar": {
             "outlinewidth": 1,
             "tickcolor": "rgb(36,36,36)",
             "ticks": "outside"
            },
            "colorscale": [
             [
              0,
              "#440154"
             ],
             [
              0.1111111111111111,
              "#482878"
             ],
             [
              0.2222222222222222,
              "#3e4989"
             ],
             [
              0.3333333333333333,
              "#31688e"
             ],
             [
              0.4444444444444444,
              "#26828e"
             ],
             [
              0.5555555555555556,
              "#1f9e89"
             ],
             [
              0.6666666666666666,
              "#35b779"
             ],
             [
              0.7777777777777778,
              "#6ece58"
             ],
             [
              0.8888888888888888,
              "#b5de2b"
             ],
             [
              1,
              "#fde725"
             ]
            ],
            "type": "histogram2dcontour"
           }
          ],
          "mesh3d": [
           {
            "colorbar": {
             "outlinewidth": 1,
             "tickcolor": "rgb(36,36,36)",
             "ticks": "outside"
            },
            "type": "mesh3d"
           }
          ],
          "parcoords": [
           {
            "line": {
             "colorbar": {
              "outlinewidth": 1,
              "tickcolor": "rgb(36,36,36)",
              "ticks": "outside"
             }
            },
            "type": "parcoords"
           }
          ],
          "pie": [
           {
            "automargin": true,
            "type": "pie"
           }
          ],
          "scatter": [
           {
            "fillpattern": {
             "fillmode": "overlay",
             "size": 10,
             "solidity": 0.2
            },
            "type": "scatter"
           }
          ],
          "scatter3d": [
           {
            "line": {
             "colorbar": {
              "outlinewidth": 1,
              "tickcolor": "rgb(36,36,36)",
              "ticks": "outside"
             }
            },
            "marker": {
             "colorbar": {
              "outlinewidth": 1,
              "tickcolor": "rgb(36,36,36)",
              "ticks": "outside"
             }
            },
            "type": "scatter3d"
           }
          ],
          "scattercarpet": [
           {
            "marker": {
             "colorbar": {
              "outlinewidth": 1,
              "tickcolor": "rgb(36,36,36)",
              "ticks": "outside"
             }
            },
            "type": "scattercarpet"
           }
          ],
          "scattergeo": [
           {
            "marker": {
             "colorbar": {
              "outlinewidth": 1,
              "tickcolor": "rgb(36,36,36)",
              "ticks": "outside"
             }
            },
            "type": "scattergeo"
           }
          ],
          "scattergl": [
           {
            "marker": {
             "colorbar": {
              "outlinewidth": 1,
              "tickcolor": "rgb(36,36,36)",
              "ticks": "outside"
             }
            },
            "type": "scattergl"
           }
          ],
          "scattermapbox": [
           {
            "marker": {
             "colorbar": {
              "outlinewidth": 1,
              "tickcolor": "rgb(36,36,36)",
              "ticks": "outside"
             }
            },
            "type": "scattermapbox"
           }
          ],
          "scatterpolar": [
           {
            "marker": {
             "colorbar": {
              "outlinewidth": 1,
              "tickcolor": "rgb(36,36,36)",
              "ticks": "outside"
             }
            },
            "type": "scatterpolar"
           }
          ],
          "scatterpolargl": [
           {
            "marker": {
             "colorbar": {
              "outlinewidth": 1,
              "tickcolor": "rgb(36,36,36)",
              "ticks": "outside"
             }
            },
            "type": "scatterpolargl"
           }
          ],
          "scatterternary": [
           {
            "marker": {
             "colorbar": {
              "outlinewidth": 1,
              "tickcolor": "rgb(36,36,36)",
              "ticks": "outside"
             }
            },
            "type": "scatterternary"
           }
          ],
          "surface": [
           {
            "colorbar": {
             "outlinewidth": 1,
             "tickcolor": "rgb(36,36,36)",
             "ticks": "outside"
            },
            "colorscale": [
             [
              0,
              "#440154"
             ],
             [
              0.1111111111111111,
              "#482878"
             ],
             [
              0.2222222222222222,
              "#3e4989"
             ],
             [
              0.3333333333333333,
              "#31688e"
             ],
             [
              0.4444444444444444,
              "#26828e"
             ],
             [
              0.5555555555555556,
              "#1f9e89"
             ],
             [
              0.6666666666666666,
              "#35b779"
             ],
             [
              0.7777777777777778,
              "#6ece58"
             ],
             [
              0.8888888888888888,
              "#b5de2b"
             ],
             [
              1,
              "#fde725"
             ]
            ],
            "type": "surface"
           }
          ],
          "table": [
           {
            "cells": {
             "fill": {
              "color": "rgb(237,237,237)"
             },
             "line": {
              "color": "white"
             }
            },
            "header": {
             "fill": {
              "color": "rgb(217,217,217)"
             },
             "line": {
              "color": "white"
             }
            },
            "type": "table"
           }
          ]
         },
         "layout": {
          "annotationdefaults": {
           "arrowhead": 0,
           "arrowwidth": 1
          },
          "autotypenumbers": "strict",
          "coloraxis": {
           "colorbar": {
            "outlinewidth": 1,
            "tickcolor": "rgb(36,36,36)",
            "ticks": "outside"
           }
          },
          "colorscale": {
           "diverging": [
            [
             0,
             "rgb(103,0,31)"
            ],
            [
             0.1,
             "rgb(178,24,43)"
            ],
            [
             0.2,
             "rgb(214,96,77)"
            ],
            [
             0.3,
             "rgb(244,165,130)"
            ],
            [
             0.4,
             "rgb(253,219,199)"
            ],
            [
             0.5,
             "rgb(247,247,247)"
            ],
            [
             0.6,
             "rgb(209,229,240)"
            ],
            [
             0.7,
             "rgb(146,197,222)"
            ],
            [
             0.8,
             "rgb(67,147,195)"
            ],
            [
             0.9,
             "rgb(33,102,172)"
            ],
            [
             1,
             "rgb(5,48,97)"
            ]
           ],
           "sequential": [
            [
             0,
             "#440154"
            ],
            [
             0.1111111111111111,
             "#482878"
            ],
            [
             0.2222222222222222,
             "#3e4989"
            ],
            [
             0.3333333333333333,
             "#31688e"
            ],
            [
             0.4444444444444444,
             "#26828e"
            ],
            [
             0.5555555555555556,
             "#1f9e89"
            ],
            [
             0.6666666666666666,
             "#35b779"
            ],
            [
             0.7777777777777778,
             "#6ece58"
            ],
            [
             0.8888888888888888,
             "#b5de2b"
            ],
            [
             1,
             "#fde725"
            ]
           ],
           "sequentialminus": [
            [
             0,
             "#440154"
            ],
            [
             0.1111111111111111,
             "#482878"
            ],
            [
             0.2222222222222222,
             "#3e4989"
            ],
            [
             0.3333333333333333,
             "#31688e"
            ],
            [
             0.4444444444444444,
             "#26828e"
            ],
            [
             0.5555555555555556,
             "#1f9e89"
            ],
            [
             0.6666666666666666,
             "#35b779"
            ],
            [
             0.7777777777777778,
             "#6ece58"
            ],
            [
             0.8888888888888888,
             "#b5de2b"
            ],
            [
             1,
             "#fde725"
            ]
           ]
          },
          "colorway": [
           "#1F77B4",
           "#FF7F0E",
           "#2CA02C",
           "#D62728",
           "#9467BD",
           "#8C564B",
           "#E377C2",
           "#7F7F7F",
           "#BCBD22",
           "#17BECF"
          ],
          "font": {
           "color": "rgb(36,36,36)"
          },
          "geo": {
           "bgcolor": "white",
           "lakecolor": "white",
           "landcolor": "white",
           "showlakes": true,
           "showland": true,
           "subunitcolor": "white"
          },
          "hoverlabel": {
           "align": "left"
          },
          "hovermode": "closest",
          "mapbox": {
           "style": "light"
          },
          "paper_bgcolor": "white",
          "plot_bgcolor": "white",
          "polar": {
           "angularaxis": {
            "gridcolor": "rgb(232,232,232)",
            "linecolor": "rgb(36,36,36)",
            "showgrid": false,
            "showline": true,
            "ticks": "outside"
           },
           "bgcolor": "white",
           "radialaxis": {
            "gridcolor": "rgb(232,232,232)",
            "linecolor": "rgb(36,36,36)",
            "showgrid": false,
            "showline": true,
            "ticks": "outside"
           }
          },
          "scene": {
           "xaxis": {
            "backgroundcolor": "white",
            "gridcolor": "rgb(232,232,232)",
            "gridwidth": 2,
            "linecolor": "rgb(36,36,36)",
            "showbackground": true,
            "showgrid": false,
            "showline": true,
            "ticks": "outside",
            "zeroline": false,
            "zerolinecolor": "rgb(36,36,36)"
           },
           "yaxis": {
            "backgroundcolor": "white",
            "gridcolor": "rgb(232,232,232)",
            "gridwidth": 2,
            "linecolor": "rgb(36,36,36)",
            "showbackground": true,
            "showgrid": false,
            "showline": true,
            "ticks": "outside",
            "zeroline": false,
            "zerolinecolor": "rgb(36,36,36)"
           },
           "zaxis": {
            "backgroundcolor": "white",
            "gridcolor": "rgb(232,232,232)",
            "gridwidth": 2,
            "linecolor": "rgb(36,36,36)",
            "showbackground": true,
            "showgrid": false,
            "showline": true,
            "ticks": "outside",
            "zeroline": false,
            "zerolinecolor": "rgb(36,36,36)"
           }
          },
          "shapedefaults": {
           "fillcolor": "black",
           "line": {
            "width": 0
           },
           "opacity": 0.3
          },
          "ternary": {
           "aaxis": {
            "gridcolor": "rgb(232,232,232)",
            "linecolor": "rgb(36,36,36)",
            "showgrid": false,
            "showline": true,
            "ticks": "outside"
           },
           "baxis": {
            "gridcolor": "rgb(232,232,232)",
            "linecolor": "rgb(36,36,36)",
            "showgrid": false,
            "showline": true,
            "ticks": "outside"
           },
           "bgcolor": "white",
           "caxis": {
            "gridcolor": "rgb(232,232,232)",
            "linecolor": "rgb(36,36,36)",
            "showgrid": false,
            "showline": true,
            "ticks": "outside"
           }
          },
          "title": {
           "x": 0.05
          },
          "xaxis": {
           "automargin": true,
           "gridcolor": "rgb(232,232,232)",
           "linecolor": "rgb(36,36,36)",
           "showgrid": false,
           "showline": true,
           "ticks": "outside",
           "title": {
            "standoff": 15
           },
           "zeroline": false,
           "zerolinecolor": "rgb(36,36,36)"
          },
          "yaxis": {
           "automargin": true,
           "gridcolor": "rgb(232,232,232)",
           "linecolor": "rgb(36,36,36)",
           "showgrid": false,
           "showline": true,
           "ticks": "outside",
           "title": {
            "standoff": 15
           },
           "zeroline": false,
           "zerolinecolor": "rgb(36,36,36)"
          }
         }
        },
        "width": 1400,
        "xaxis": {
         "anchor": "y",
         "domain": [
          0.2625,
          0.475
         ],
         "zeroline": true,
         "zerolinecolor": "Black",
         "zerolinewidth": 2
        },
        "xaxis10": {
         "anchor": "y10",
         "domain": [
          0.525,
          0.7375
         ],
         "zeroline": true,
         "zerolinecolor": "Black",
         "zerolinewidth": 2
        },
        "xaxis11": {
         "anchor": "y11",
         "domain": [
          0.7875,
          1
         ],
         "zeroline": true,
         "zerolinecolor": "Black",
         "zerolinewidth": 2
        },
        "xaxis12": {
         "anchor": "y12",
         "domain": [
          0,
          0.2125
         ],
         "zeroline": true,
         "zerolinecolor": "Black",
         "zerolinewidth": 2
        },
        "xaxis13": {
         "anchor": "y13",
         "domain": [
          0.2625,
          0.475
         ],
         "zeroline": true,
         "zerolinecolor": "Black",
         "zerolinewidth": 2
        },
        "xaxis14": {
         "anchor": "y14",
         "domain": [
          0.525,
          0.7375
         ],
         "zeroline": true,
         "zerolinecolor": "Black",
         "zerolinewidth": 2
        },
        "xaxis15": {
         "anchor": "y15",
         "domain": [
          0.7875,
          1
         ],
         "zeroline": true,
         "zerolinecolor": "Black",
         "zerolinewidth": 2
        },
        "xaxis16": {
         "anchor": "y16",
         "domain": [
          0,
          1
         ],
         "zeroline": true,
         "zerolinecolor": "Black",
         "zerolinewidth": 2
        },
        "xaxis17": {
         "anchor": "y17",
         "domain": [
          0.2625,
          0.475
         ],
         "zeroline": true,
         "zerolinecolor": "Black",
         "zerolinewidth": 2
        },
        "xaxis18": {
         "anchor": "y18",
         "domain": [
          0.525,
          0.7375
         ],
         "zeroline": true,
         "zerolinecolor": "Black",
         "zerolinewidth": 2
        },
        "xaxis19": {
         "anchor": "y19",
         "domain": [
          0.7875,
          1
         ],
         "zeroline": true,
         "zerolinecolor": "Black",
         "zerolinewidth": 2
        },
        "xaxis2": {
         "anchor": "y2",
         "domain": [
          0.525,
          0.7375
         ],
         "zeroline": true,
         "zerolinecolor": "Black",
         "zerolinewidth": 2
        },
        "xaxis3": {
         "anchor": "y3",
         "domain": [
          0.7875,
          1
         ],
         "zeroline": true,
         "zerolinecolor": "Black",
         "zerolinewidth": 2
        },
        "xaxis4": {
         "anchor": "y4",
         "domain": [
          0,
          0.2125
         ],
         "zeroline": true,
         "zerolinecolor": "Black",
         "zerolinewidth": 2
        },
        "xaxis5": {
         "anchor": "y5",
         "domain": [
          0.2625,
          0.475
         ],
         "zeroline": true,
         "zerolinecolor": "Black",
         "zerolinewidth": 2
        },
        "xaxis6": {
         "anchor": "y6",
         "domain": [
          0.525,
          0.7375
         ],
         "zeroline": true,
         "zerolinecolor": "Black",
         "zerolinewidth": 2
        },
        "xaxis7": {
         "anchor": "y7",
         "domain": [
          0.7875,
          1
         ],
         "zeroline": true,
         "zerolinecolor": "Black",
         "zerolinewidth": 2
        },
        "xaxis8": {
         "anchor": "y8",
         "domain": [
          0,
          0.2125
         ],
         "zeroline": true,
         "zerolinecolor": "Black",
         "zerolinewidth": 2
        },
        "xaxis9": {
         "anchor": "y9",
         "domain": [
          0.2625,
          0.475
         ],
         "zeroline": true,
         "zerolinecolor": "Black",
         "zerolinewidth": 2
        },
        "yaxis": {
         "anchor": "x",
         "domain": [
          0.8400000000000001,
          1
         ],
         "rangemode": "tozero"
        },
        "yaxis10": {
         "anchor": "x10",
         "domain": [
          0.42000000000000004,
          0.5800000000000001
         ],
         "rangemode": "tozero"
        },
        "yaxis11": {
         "anchor": "x11",
         "domain": [
          0.42000000000000004,
          0.5800000000000001
         ],
         "rangemode": "tozero"
        },
        "yaxis12": {
         "anchor": "x12",
         "domain": [
          0.21000000000000002,
          0.37
         ],
         "rangemode": "tozero",
         "title": {
          "text": "Full-century GHG emission<br>budget [Gt CO2e]"
         }
        },
        "yaxis13": {
         "anchor": "x13",
         "domain": [
          0.21000000000000002,
          0.37
         ],
         "rangemode": "tozero"
        },
        "yaxis14": {
         "anchor": "x14",
         "domain": [
          0.21000000000000002,
          0.37
         ],
         "rangemode": "tozero"
        },
        "yaxis15": {
         "anchor": "x15",
         "domain": [
          0.21000000000000002,
          0.37
         ],
         "rangemode": "tozero"
        },
        "yaxis16": {
         "anchor": "x16",
         "domain": [
          0,
          0.16
         ],
         "rangemode": "tozero",
         "title": {
          "text": "Cumulative consumption<br>loss as fraction<br>of GDP in 2019"
         }
        },
        "yaxis17": {
         "anchor": "x17",
         "domain": [
          0,
          0.16
         ],
         "rangemode": "tozero"
        },
        "yaxis18": {
         "anchor": "x18",
         "domain": [
          0,
          0.16
         ],
         "rangemode": "tozero"
        },
        "yaxis19": {
         "anchor": "x19",
         "domain": [
          0,
          0.16
         ],
         "rangemode": "tozero"
        },
        "yaxis2": {
         "anchor": "x2",
         "domain": [
          0.8400000000000001,
          1
         ],
         "rangemode": "tozero"
        },
        "yaxis3": {
         "anchor": "x3",
         "domain": [
          0.8400000000000001,
          1
         ],
         "rangemode": "tozero"
        },
        "yaxis4": {
         "anchor": "x4",
         "domain": [
          0.63,
          0.79
         ],
         "rangemode": "tozero"
        },
        "yaxis5": {
         "anchor": "x5",
         "domain": [
          0.63,
          0.79
         ],
         "rangemode": "tozero"
        },
        "yaxis6": {
         "anchor": "x6",
         "domain": [
          0.63,
          0.79
         ],
         "rangemode": "tozero"
        },
        "yaxis7": {
         "anchor": "x7",
         "domain": [
          0.63,
          0.79
         ],
         "rangemode": "tozero"
        },
        "yaxis8": {
         "anchor": "x8",
         "domain": [
          0.42000000000000004,
          0.5800000000000001
         ],
         "rangemode": "tozero"
        },
        "yaxis9": {
         "anchor": "x9",
         "domain": [
          0.42000000000000004,
          0.5800000000000001
         ],
         "rangemode": "tozero"
        }
       }
      }
     },
     "metadata": {},
     "output_type": "display_data"
    }
   ],
   "source": [
    "fig = make_subplots(rows=5, cols=4, #subplot_titles=('Grandfathering (GF)', 'Per Capita (PC)', 'Per Capita Convergence (PCC)', 'Bretschger (BR)', 'Ability to pay (AP)', 'Greenhouse Development Rights (GDR)'), \n",
    "                                                    specs=[[{'type': 'choropleth', 'colspan': 3, 'rowspan': 3}, {}, {}, {}],\n",
    "                                                           [{}, {}, {}, {}],\n",
    "                                                           [{}, {}, {}, {}],\n",
    "                                                           [{}, {}, {}, {}],\n",
    "                                                           [{'colspan': 4}, {}, {}, {}]],\n",
    "                                                    horizontal_spacing = 0.05, vertical_spacing=0.05)\n",
    "\n",
    "colorbar_abs = dict(len=1, x=1, tickvals = [0, 1, 2, 3], ticktext = ['1', '10', '100', '1000'])\n",
    "colorbar_pc = dict(len=1, x=1)\n",
    "\n",
    "colmap = 'Earth_r'\n",
    "colmap2 = 'terrain_r'\n",
    "t = fractions#np.nanmean(cost_optimal_15, axis=0)\n",
    "fig.add_trace(\n",
    "    go.Choropleth(\n",
    "    locations=regs,\n",
    "    z = t,\n",
    "    locationmode = 'ISO-3',\n",
    "    colorscale = colmap,\n",
    "    zmax = 1,\n",
    "    zmin = 0,\n",
    "    text = [str(r)+\": \"+str(int(t[r_i]*5))+\" out of 5\" for r_i, r in enumerate(regs)],\n",
    "    hovertemplate  = '%{text}',\n",
    "    name=\"\",\n",
    "    marker_line_color='black', \n",
    "    marker_line_width=1.,\n",
    "    colorbar=dict(len=0.4, x=0.37, y=0.45, orientation='h',\n",
    "                  tickvals = np.arange(0, 1.1, 1/6),\n",
    "                  thickness=15,\n",
    "                  tickfont={'size': 10},\n",
    "                  ticktext=['None<br>(Mitigation financed<br>by others)', '1 out of 6', '2 out of 6', '3 out of 6', '4 out of 6', '5 out of 6', 'All<br>(Finances mitigation<br>abroad)'],\n",
    "                  ticklabelposition='outside',\n",
    "    ), #title={\"text\":\"Number of effort-sharing<br>rules allocating less than<br>cost-optimal\"}),\n",
    "    showscale=True\n",
    "), 1, 1)\n",
    "fig.add_trace(\n",
    "    go.Choropleth(\n",
    "    locations=group_eu,\n",
    "    z = [t[np.where(regs == \"EU\")[0][0]]]*len(group_eu),\n",
    "    locationmode = 'ISO-3',\n",
    "    colorscale = colmap,\n",
    "    zmax = 1,\n",
    "    zmin = 0,\n",
    "    text = [\"EU: \"+str(int(t[np.where(regs == \"EU\")[0][0]]*len(allocs)))+\" out of 6\"for r_i, r in enumerate(group_eu)],\n",
    "    hovertemplate  = '%{text}',\n",
    "    name=\"\",\n",
    "    marker_line_color='black', \n",
    "    marker_line_width=1.,\n",
    "    showscale=False\n",
    "), 1, 1)\n",
    "fig.update_geos(showocean=True, oceancolor=\"aliceblue\")\n",
    "fig.update_geos(showlakes=True, lakecolor=\"aliceblue\")\n",
    "\n",
    "# limite map scope to USA 'africa', 'asia', 'europe', 'north america', 'south america', 'usa', 'world'\n",
    "fig.update_geos(visible=True,\n",
    "                showlakes=False,\n",
    "                lakecolor='rgb(255, 255, 255)',\n",
    "                projection_type='natural earth',\n",
    "                showcoastlines=False,)\n",
    "\n",
    "base = np.array(xr_total.NDC_l.sel(ISO=regs, Time=2019))\n",
    "for cty_i, cty in enumerate([\"USA\", \"BRA\", \"ZAF\", \"EU\", \"RUS\", \"CHN\", \"IND\"]):\n",
    "    row = [4, 4, 4, 1, 2, 3, 4][cty_i]\n",
    "    col = [1, 2, 3, 4, 4, 4, 4][cty_i]\n",
    "    #fig.add_trace(go.Scatter(x=['BAU'], y=[alloc_base[regs == cty][0]], mode='markers', marker={'symbol':'diamond', \"color\": 'grey', \"size\": 13, \"line\": {\"width\": 1.5, \"color\": 'black'}}, showlegend=False), row=row, col=col)\n",
    "    #fig.add_trace(go.Scatter(x=[\"NDC\"], y=[((base - ndc_h) / base)[regs == cty][0]], mode='markers', marker={'symbol': \"square\", \"color\": 'black', \"size\": 10, \"line\": {\"width\": 0.2, \"color\": 'black'}}, showlegend=False), row=row, col=col)\n",
    "    vals = np.copy(cost_optimal_15)#(cost_optimal_15 - base) / base\n",
    "    vals = vals[:, regs == cty][:, 0]\n",
    "    fig.add_trace(go.Scatter(x=['CO', 'GF', 'PC', 'PCC', 'AP', 'GDR', 'ECPC'], y=[np.nanmedian(vals)]*7, name='', showlegend=False, hoverinfo='skip', mode='lines', line={'color': 'black', 'width': 1}), col=col, row=row)\n",
    "    fig.add_trace(go.Scatter(x=['GF', 'PC', 'PCC', 'AP', 'GDR', 'ECPC'], y=[np.nanpercentile(vals, 25)]*6, fill=None, name='', showlegend=False, hoverinfo='skip', mode='lines', line={'color': 'silver', 'width': 0}), col=col, row=row)\n",
    "    fig.add_trace(go.Scatter(x=['GF', 'PC', 'PCC', 'AP', 'GDR', 'ECPC'], y=[np.nanpercentile(vals, 75)]*6, fill='tonexty', name='', showlegend=False, hoverinfo='skip', mode='lines', line={'color': 'silver', 'width': 0}), col=col, row=row)\n",
    "    fig.add_trace(\n",
    "                        go.Box(y=vals,\n",
    "                        name=\"CO\",\n",
    "                        text=[cty+\": \"+str(np.round(vals[i],1))+\"<br>\"+modscens[i] for i in range(len(vals))],\n",
    "                        fillcolor=plotly.colors.diverging.Earth_r[int(fractions[regs == cty][0]*7)],\n",
    "                        line_color='black', marker=dict(color='grey'),#plotly.colors.diverging.Earth_r[int(fractions[regs == cty][0]*7)]),\n",
    "                        boxpoints='all', jitter=0.5, pointpos=-1.8, whiskerwidth=0.4, marker_size=3, line_width=1.5, showlegend=False, hovertemplate='%{text}'),\n",
    "                        row=row, col=col)\n",
    "            # fig.add_trace(go.Scatter(x=[reg], y=[(base - budget_pc) / base], text=\"PC\", textfont = {'family': \"Arial black\", \"size\": 13, \"color\": \"black\"},  marker={'symbol': \"square\", \"color\": cols[reg_i], \"size\": 25, \"line\": {\"width\": 0.2, \"color\": 'black'}, \"colorscale\": \"Spectral\",}, mode='markers+text', showlegend=False), row=1, col=1)\n",
    "            # fig.add_trace(go.Scatter(x=[reg], y=[(base - budget_pcc) / base], text=\"PCC\", textfont = {'family': \"Arial black\", \"size\": 13, \"color\": \"black\"},  marker={'symbol': \"diamond\", \"color\": cols[reg_i], \"size\": 25, \"line\": {\"width\": 0.2, \"color\": 'black'}, \"colorscale\": \"Spectral\",}, mode='markers+text', showlegend=False), row=1, col=1)\n",
    "            # fig.add_trace(go.Scatter(x=[reg], y=[(base - ndc) / base], text=\"NDC\", textfont = {'family': \"Arial black\", \"size\": 13, \"color\": \"black\"},  marker={'symbol': \"triangle-up\", \"color\": cols[reg_i], \"size\": 25, \"line\": {\"width\": 0.2, \"color\": 'black'}, \"colorscale\": \"Spectral\",}, mode='markers+text', showlegend=False), row=1, col=1)\n",
    "\n",
    "    for alloc_i, alloc in enumerate(['GF', 'PC', 'PCC', 'AP', 'GDR', 'ECPC']):\n",
    "        ally = allocs[alloc_i][regs == cty][0]\n",
    "        if ally < np.nanpercentile(vals, 25):\n",
    "            colr = 'tomato'\n",
    "            marker = 'triangle-down'\n",
    "            textpos = 'middle left'\n",
    "            txt = '-<b>$'\n",
    "            size = 13\n",
    "        elif ally > np.nanpercentile(vals, 75):\n",
    "            colr = 'forestgreen'\n",
    "            marker = 'triangle-up'\n",
    "            textpos = 'middle left'\n",
    "            txt = '+<b>$'\n",
    "            size = 13\n",
    "        else:\n",
    "            colr = 'grey'\n",
    "            marker = 'square'\n",
    "            textpos = 'middle left'\n",
    "            txt = '~<b>$'\n",
    "            size = 10\n",
    "        fig.add_trace(go.Scatter(x=[alloc, alloc], y=[np.nanmedian(vals), ally], mode='lines', line={'width': 2, 'color': colr, 'dash': 'dot'}, showlegend=False), row=row, col=col)\n",
    "        fig.add_trace(go.Scatter(x=[alloc], y=[ally], text=txt, textfont={'color': colr}, mode='markers+text', marker={'symbol':marker, \"color\": colr, \"size\": size, \"line\": {\"width\": 1.5, \"color\": 'black'}}, showlegend=False, textposition=textpos), row=row, col=col)\n",
    "\n",
    "vals = xr_data_15.sel(Variable='Policy Cost|Consumption Loss', Time=np.arange(2020, 2101)).sum(dim='Time', skipna=False).Value\n",
    "vals = vals / xr_data_15.sel(Variable='GDP|PPP', Time=2019).Value\n",
    "\n",
    "for reg_i, reg in enumerate(regs[np.array(np.argsort(vals.sel(Region=regs).median(dim='ModelScenario')))]):\n",
    "    y = np.array(vals.sel(Region=reg))\n",
    "    if np.nansum(y) != 0:\n",
    "        fig.add_trace(go.Box(name=all_regions_names[all_regions_iso == reg][0].replace(' ', '<br>'), y=y,\n",
    "                            line_color='black',\n",
    "                            marker=dict(color='grey'),#plotly.colors.diverging.Earth_r[int(fractions[regs == reg][0]*7)]),#, line={'width': 1, 'color': 'black'}),\n",
    "                            fillcolor=plotly.colors.diverging.Earth_r[int(fractions[regs == reg][0]*7)],\n",
    "                            boxpoints='all', jitter=0.5, pointpos=-1.8, whiskerwidth=0.4, marker_size=3, line_width=1.5,\n",
    "                            showlegend=False), row=5, col=1)\n",
    "    \n",
    "# Panel labels\n",
    "fig.add_annotation(xref='paper', yref='paper',ax=0, align='left', ay=-0, showarrow=False, font=dict(color='black', size=18),\n",
    "                   y=1.04, x=0.20, text=\"<b>(a) Fair-share allocations less than cost-optimal</b><br>          (in number of effort-sharing approaches)\")\n",
    "fig.add_annotation(xref='paper', yref='paper',ax=0, align='right', ay=-0, showarrow=False, font=dict(color='black', size=16), y=0.38, x=0.01, text=\"<b>(b) United States of America\")\n",
    "fig.add_annotation(xref='paper', yref='paper',ax=0, align='right', ay=-0, showarrow=False, font=dict(color='black', size=16), y=0.38, x=0.27, text=\"<b>(c) Brazil\")\n",
    "fig.add_annotation(xref='paper', yref='paper',ax=0, align='right', ay=-0, showarrow=False, font=dict(color='black', size=16), y=0.38, x=0.60, text=\"<b>(d) South-Africa\")\n",
    "fig.add_annotation(xref='paper', yref='paper',ax=0, align='right', ay=-0, showarrow=False, font=dict(color='black', size=16), y=1.02, x=0.94, text=\"<b>(e) European Union\")\n",
    "fig.add_annotation(xref='paper', yref='paper',ax=0, align='right', ay=-0, showarrow=False, font=dict(color='black', size=16), y=0.81, x=0.87, text=\"<b>(f) Russia\")\n",
    "fig.add_annotation(xref='paper', yref='paper',ax=0, align='right', ay=-0, showarrow=False, font=dict(color='black', size=16), y=0.58, x=0.87, text=\"<b>(g) China\")\n",
    "fig.add_annotation(xref='paper', yref='paper',ax=0, align='right', ay=-0, showarrow=False, font=dict(color='black', size=16), y=0.38, x=0.87, text=\"<b>(h) India\")\n",
    "fig.add_annotation(xref='paper', yref='paper',ax=0, align='left', ay=-0, showarrow=False, font=dict(color='black', size=16), y=0.14, x=0.01, text=\"<b>(i) Policy costs over 2020-2100 in cost-optimal scenarios</b>\")\n",
    "\n",
    "# ADD LINES TO PATHS\n",
    "# args = dict(xref='paper', yref='paper', type=\"line\")\n",
    "# fig.add_shape(y0=0.97, y1=0.97,\n",
    "#               x0=0.76, x1=0.39, **args, line=dict(color=plotly.colors.diverging.Earth_r[int(fractions[regs == \"EU\"][0]*7)], width=3))\n",
    "# fig.add_shape(y0=0.97, y1=0.85,\n",
    "#               x0=0.39, x1=0.39, **args, line=dict(color=plotly.colors.diverging.Earth_r[int(fractions[regs == \"EU\"][0]*7)], width=3))\n",
    "# fig.add_shape(y0=0.76, y1=0.76,\n",
    "#               x0=0.76, x1=0.39, **args, line=dict(color=plotly.colors.diverging.Earth_r[int(fractions[regs == \"RUS\"][0]*7)], width=3))\n",
    "# fig.add_shape(y0=0.97, y1=0.85,\n",
    "#               x0=0.39, x1=0.39, **args, line=dict(color=plotly.colors.diverging.Earth_r[int(fractions[regs == \"RUS\"][0]*7)], width=3))\n",
    "fig.update_yaxes(title_text=\"Full-century GHG emission<br>budget [Gt CO2e]\", row=4, col=1)\n",
    "fig.update_yaxes(title_text=\"Cumulative consumption<br>loss as fraction<br>of GDP in 2019\", row=5, col=1)\n",
    "\n",
    "fig.update_yaxes(rangemode=\"tozero\")\n",
    "fig.update_xaxes(zeroline=True, zerolinewidth=2, zerolinecolor='Black')\n",
    "fig.update_layout(height=1100,\n",
    "                  width=1400,\n",
    "                  template='simple_white')\n",
    "fig.show()"
   ]
  },
  {
   "cell_type": "code",
   "execution_count": 518,
   "metadata": {},
   "outputs": [],
   "source": [
    "# titles = [\"GHG emission reduction in 2030\", \"Policy costs in 2030\", \"CCS in 2030\", \"Primary biomass traded in 2030\"]\n",
    "# fig = make_subplots(rows=3, cols=3, subplot_titles=titles,\n",
    "#                     horizontal_spacing = 0.025,\n",
    "#                     specs=[[{\"colspan\": 3,\"rowspan\": 2}, None, None], [None, None, None], [{},{}, {}]],\n",
    "#                     column_widths=[0.33, 0.33, 0.33],\n",
    "#                     vertical_spacing=0.05)\n",
    "\n",
    "# cols = ['forestgreen', 'tomato', 'steelblue', 'goldenrod', 'purple', 'grey', 'brown',\n",
    "#         'magenta', 'red', 'darkgrey', 'blue', 'darkgreen']\n",
    "# for reg_i, reg in enumerate(['BRA', 'USA', 'CHN', 'IND', 'IDN', \"RUS\", \"EU\", \"AUS\", \"JPN\", \"COL\", \"MEX\", \"SAU\"]):\n",
    "#     for v_i in range(4):\n",
    "#         row = [1, 3, 3 ,3][v_i]\n",
    "#         col = [1, 1, 2, 3][v_i]\n",
    "#         if v_i == 1: vals = np.array(xr_data.sel(Time=np.arange(2020, 2101), Region=reg, Variable=\"Policy Cost|Consumption Loss\").Value.sum(dim='Time'))\n",
    "#         if v_i == 0: vals = np.array((xr_data.sel(Time=2019, Region=reg, Variable=\"Emissions|Kyoto Gases\").Value - xr_data.sel(Time=2030, Region=reg, Variable=\"Emissions|Kyoto Gases\").Value) /xr_data.sel(Time=2019, Region=reg, Variable=\"Emissions|Kyoto Gases\").Value)\n",
    "#         if v_i == 2: vals = np.array(xr_data.sel(Time=2030, Region=reg, Variable=\"Carbon Sequestration|CCS\").Value)\n",
    "#         if v_i == 3: vals = np.array(xr_data.sel(Time=2030, Region=reg, Variable=\"Trade|Primary Energy|Biomass|Volume\").Value)\n",
    "#         vals[vals == 0] = np.nan\n",
    "#         fig.add_trace(\n",
    "#                         go.Box(y=vals,\n",
    "#                         name=reg,\n",
    "#                         text=[reg+\"<br>\"+titles[v_i]+\": \"+str(np.round(vals[i],1))+\"<br>\"+modscens[i] for i in range(len(vals))],\n",
    "#                         fillcolor=cols[reg_i],\n",
    "#                         line_color='black', marker=dict(color='black'),\n",
    "#                         boxpoints='all', jitter=0.5, pointpos=-1.8, whiskerwidth=0.2, marker_size=3, line_width=0.5, showlegend=False, hovertemplate='%{text}'),\n",
    "#                         row=row, col=col)\n",
    "#         if v_i == 0:\n",
    "#             base = float(xr_total.NDC_l.sel(ISO=reg, Time=2019)) #np.nanmean(xr_data.sel(Time=2020, Region=reg, Variable=\"Emissions|Kyoto Gases\").Value)/1e3\n",
    "#             budget_gf = float(xr_budgets_scenario.sel(Region=reg, Time=2030, Variable=\"GF\", Ccat=\"C1+C2\").Value)\n",
    "#             budget_pc = float(xr_budgets_scenario.sel(Region=reg, Time=2030, Variable=\"PC\", Ccat=\"C1+C2\").Value)\n",
    "#             budget_pcc = float(xr_budgets_scenario.sel(Region=reg, Time=2030, Variable=\"PCC\", Ccat=\"C1+C2\").Value)\n",
    "#             ndc = float(xr_total.NDC_h.sel(ISO=reg, Time=2030))\n",
    "#             fig.add_trace(go.Scatter(x=[reg], y=[(base - budget_gf) / base], text=\"GF\", textfont = {'family': \"Arial black\", \"size\": 13, \"color\": \"black\"}, marker={'symbol': \"circle\", \"color\": cols[reg_i], \"size\": 25, \"line\": {\"width\": 0.2, \"color\": 'black'}, \"colorscale\": \"Spectral\",}, mode='markers+text', showlegend=False), row=1, col=1)\n",
    "#             fig.add_trace(go.Scatter(x=[reg], y=[(base - budget_pc) / base], text=\"PC\", textfont = {'family': \"Arial black\", \"size\": 13, \"color\": \"black\"},  marker={'symbol': \"square\", \"color\": cols[reg_i], \"size\": 25, \"line\": {\"width\": 0.2, \"color\": 'black'}, \"colorscale\": \"Spectral\",}, mode='markers+text', showlegend=False), row=1, col=1)\n",
    "#             fig.add_trace(go.Scatter(x=[reg], y=[(base - budget_pcc) / base], text=\"PCC\", textfont = {'family': \"Arial black\", \"size\": 13, \"color\": \"black\"},  marker={'symbol': \"diamond\", \"color\": cols[reg_i], \"size\": 25, \"line\": {\"width\": 0.2, \"color\": 'black'}, \"colorscale\": \"Spectral\",}, mode='markers+text', showlegend=False), row=1, col=1)\n",
    "#             fig.add_trace(go.Scatter(x=[reg], y=[(base - ndc) / base], text=\"NDC\", textfont = {'family': \"Arial black\", \"size\": 13, \"color\": \"black\"},  marker={'symbol': \"triangle-up\", \"color\": cols[reg_i], \"size\": 25, \"line\": {\"width\": 0.2, \"color\": 'black'}, \"colorscale\": \"Spectral\",}, mode='markers+text', showlegend=False), row=1, col=1)\n",
    "\n",
    "# fig.update_layout(height=1000, width = 1700)\n",
    "# fig.show()"
   ]
  },
  {
   "cell_type": "code",
   "execution_count": 559,
   "metadata": {},
   "outputs": [],
   "source": [
    "fig.write_image(\"X:/user/dekkerm/Projects/ECEMF_T5.2/Figures/Figure_costopt/Figure_costopt.svg\")\n",
    "fig.write_image(\"X:/user/dekkerm/Projects/ECEMF_T5.2/Figures/Figure_costopt/Figure_costopt.png\", scale=3)\n",
    "\n",
    "import os\n",
    "from datetime import date\n",
    "try:\n",
    "    os.remove('X:/user/dekkerm/Projects/ECEMF_T5.2/Figures/Figure_costopt/Figure_costopt.html')\n",
    "except:\n",
    "    3\n",
    "def html_w(typ):\n",
    "    return '<html> '+typ+' <p style=\"font-family: Arial\">'\n",
    "\n",
    "today = date.today()\n",
    "td = today.strftime(\"%B %d, %Y\")\n",
    "\n",
    "with open('X:/user/dekkerm/Projects/ECEMF_T5.2/Figures/Figure_costopt/Figure_costopt.html', 'a') as f:\n",
    "    #f.write(html_w('<h1>')+'Figure 1 - Electricity Generation</p></h1>')\n",
    "    f.write(html_w('<body>')+'Version: '+td+'</p></body>')\n",
    "    f.write(fig.to_html(full_html=False, include_plotlyjs='cdn'))"
   ]
  }
 ],
 "metadata": {
  "kernelspec": {
   "display_name": "MyEnv",
   "language": "python",
   "name": "python3"
  },
  "language_info": {
   "codemirror_mode": {
    "name": "ipython",
    "version": 3
   },
   "file_extension": ".py",
   "mimetype": "text/x-python",
   "name": "python",
   "nbconvert_exporter": "python",
   "pygments_lexer": "ipython3",
   "version": "3.9.16"
  },
  "orig_nbformat": 4,
  "vscode": {
   "interpreter": {
    "hash": "36d5d389870ab01fa625d0d5123f82469a3683fa0e02c4f7e9e76e9a75345aa3"
   }
  }
 },
 "nbformat": 4,
 "nbformat_minor": 2
}
